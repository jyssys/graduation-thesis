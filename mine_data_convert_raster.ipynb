{
 "cells": [
  {
   "cell_type": "code",
   "execution_count": 2,
   "metadata": {},
   "outputs": [],
   "source": [
    "import pandas as pd\n",
    "import numpy as np\n",
    "import geopandas as gpd\n",
    "from shapely.geometry import Point\n",
    "import matplotlib.pyplot as plt\n",
    "\n",
    "import warnings\n",
    "warnings.filterwarnings(action='ignore')\n",
    "\n",
    "import folium\n",
    "import re\n",
    "from tqdm import tqdm"
   ]
  },
  {
   "cell_type": "code",
   "execution_count": 15,
   "metadata": {},
   "outputs": [],
   "source": [
    "As_data = pd.read_csv('data/mine_As.csv')\n",
    "Cd_data = pd.read_csv('data/mine_Cd.csv')\n",
    "Ni_data = pd.read_csv('data/mine_Ni.csv')"
   ]
  },
  {
   "cell_type": "code",
   "execution_count": 16,
   "metadata": {},
   "outputs": [
    {
     "data": {
      "text/html": [
       "<div>\n",
       "<style scoped>\n",
       "    .dataframe tbody tr th:only-of-type {\n",
       "        vertical-align: middle;\n",
       "    }\n",
       "\n",
       "    .dataframe tbody tr th {\n",
       "        vertical-align: top;\n",
       "    }\n",
       "\n",
       "    .dataframe thead th {\n",
       "        text-align: right;\n",
       "    }\n",
       "</style>\n",
       "<table border=\"1\" class=\"dataframe\">\n",
       "  <thead>\n",
       "    <tr style=\"text-align: right;\">\n",
       "      <th></th>\n",
       "      <th>Unnamed: 0</th>\n",
       "      <th>As_value</th>\n",
       "      <th>As_real_value</th>\n",
       "      <th>Lon</th>\n",
       "      <th>Lan</th>\n",
       "    </tr>\n",
       "  </thead>\n",
       "  <tbody>\n",
       "    <tr>\n",
       "      <th>0</th>\n",
       "      <td>0</td>\n",
       "      <td>3.307374</td>\n",
       "      <td>1.06</td>\n",
       "      <td>128.093222</td>\n",
       "      <td>37.280500</td>\n",
       "    </tr>\n",
       "    <tr>\n",
       "      <th>1</th>\n",
       "      <td>1</td>\n",
       "      <td>1.920563</td>\n",
       "      <td>1.06</td>\n",
       "      <td>128.089139</td>\n",
       "      <td>37.279139</td>\n",
       "    </tr>\n",
       "    <tr>\n",
       "      <th>2</th>\n",
       "      <td>2</td>\n",
       "      <td>1.672941</td>\n",
       "      <td>1.06</td>\n",
       "      <td>128.082944</td>\n",
       "      <td>37.271694</td>\n",
       "    </tr>\n",
       "    <tr>\n",
       "      <th>3</th>\n",
       "      <td>3</td>\n",
       "      <td>0.966302</td>\n",
       "      <td>0.25</td>\n",
       "      <td>128.116056</td>\n",
       "      <td>37.280778</td>\n",
       "    </tr>\n",
       "    <tr>\n",
       "      <th>4</th>\n",
       "      <td>4</td>\n",
       "      <td>1.383530</td>\n",
       "      <td>3.64</td>\n",
       "      <td>128.115611</td>\n",
       "      <td>37.280806</td>\n",
       "    </tr>\n",
       "  </tbody>\n",
       "</table>\n",
       "</div>"
      ],
      "text/plain": [
       "   Unnamed: 0  As_value  As_real_value         Lon        Lan\n",
       "0           0  3.307374           1.06  128.093222  37.280500\n",
       "1           1  1.920563           1.06  128.089139  37.279139\n",
       "2           2  1.672941           1.06  128.082944  37.271694\n",
       "3           3  0.966302           0.25  128.116056  37.280778\n",
       "4           4  1.383530           3.64  128.115611  37.280806"
      ]
     },
     "execution_count": 16,
     "metadata": {},
     "output_type": "execute_result"
    }
   ],
   "source": [
    "As_data.head()"
   ]
  },
  {
   "cell_type": "code",
   "execution_count": 17,
   "metadata": {},
   "outputs": [],
   "source": [
    "As_data.loc[:,'As_value'] = round(As_data.loc[:,'As_value'], 3)\n",
    "Cd_data.loc[:,'Cd_value'] = round(Cd_data.loc[:,'Cd_value'], 3)\n",
    "Ni_data.loc[:,'Ni_value'] = round(Ni_data.loc[:,'Ni_value'], 3)"
   ]
  },
  {
   "cell_type": "markdown",
   "metadata": {},
   "source": [
    "#### To shp"
   ]
  },
  {
   "cell_type": "code",
   "execution_count": 19,
   "metadata": {},
   "outputs": [],
   "source": [
    "As_gdf = gpd.GeoDataFrame(As_data, geometry=gpd.points_from_xy(As_data['Lon'], As_data['Lan']))\n",
    "Cd_gdf = gpd.GeoDataFrame(Cd_data, geometry=gpd.points_from_xy(Cd_data['Lon'], Cd_data['Lan']))\n",
    "Ni_gdf = gpd.GeoDataFrame(Ni_data, geometry=gpd.points_from_xy(Ni_data['Lon'], Ni_data['Lan']))"
   ]
  },
  {
   "cell_type": "code",
   "execution_count": 20,
   "metadata": {},
   "outputs": [],
   "source": [
    "As_gdf.to_file('shp/As/As_mine_data_round.shp')\n",
    "Cd_gdf.to_file('shp/Cd/Cd_mine_data_round.shp')\n",
    "Ni_gdf.to_file('shp/Ni/Ni_mine_data_round.shp')"
   ]
  }
 ],
 "metadata": {
  "interpreter": {
   "hash": "c6de6d9490595720a38f1ef1417b3a347277e23848a04532db55501272b4348e"
  },
  "kernelspec": {
   "display_name": "Python 3.8.11 ('base')",
   "language": "python",
   "name": "python3"
  },
  "language_info": {
   "codemirror_mode": {
    "name": "ipython",
    "version": 3
   },
   "file_extension": ".py",
   "mimetype": "text/x-python",
   "name": "python",
   "nbconvert_exporter": "python",
   "pygments_lexer": "ipython3",
   "version": "3.8.11"
  },
  "orig_nbformat": 4
 },
 "nbformat": 4,
 "nbformat_minor": 2
}
