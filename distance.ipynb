{
 "cells": [
  {
   "cell_type": "code",
   "execution_count": 28,
   "metadata": {},
   "outputs": [],
   "source": [
    "from haversine import haversine\n",
    "\n",
    "import pandas as pd\n",
    "import matplotlib.pyplot as plt"
   ]
  },
  {
   "cell_type": "code",
   "execution_count": 29,
   "metadata": {},
   "outputs": [],
   "source": [
    "data = pd.read_csv('data/data_for_distance.csv')"
   ]
  },
  {
   "cell_type": "code",
   "execution_count": 30,
   "metadata": {},
   "outputs": [
    {
     "data": {
      "text/html": [
       "<div>\n",
       "<style scoped>\n",
       "    .dataframe tbody tr th:only-of-type {\n",
       "        vertical-align: middle;\n",
       "    }\n",
       "\n",
       "    .dataframe tbody tr th {\n",
       "        vertical-align: top;\n",
       "    }\n",
       "\n",
       "    .dataframe thead th {\n",
       "        text-align: right;\n",
       "    }\n",
       "</style>\n",
       "<table border=\"1\" class=\"dataframe\">\n",
       "  <thead>\n",
       "    <tr style=\"text-align: right;\">\n",
       "      <th></th>\n",
       "      <th>OBJECTID_x</th>\n",
       "      <th>ID</th>\n",
       "      <th>start_lon</th>\n",
       "      <th>start_lan</th>\n",
       "      <th>pH</th>\n",
       "      <th>As</th>\n",
       "      <th>Cd</th>\n",
       "      <th>Ni</th>\n",
       "      <th>Pb</th>\n",
       "      <th>Zn</th>\n",
       "      <th>Hg</th>\n",
       "      <th>Lon</th>\n",
       "      <th>Lan</th>\n",
       "      <th>lon_degree</th>\n",
       "      <th>lon_minute</th>\n",
       "      <th>lon_sec</th>\n",
       "      <th>lan_degree</th>\n",
       "      <th>lan_minute</th>\n",
       "      <th>lan_sec</th>\n",
       "    </tr>\n",
       "  </thead>\n",
       "  <tbody>\n",
       "    <tr>\n",
       "      <th>0</th>\n",
       "      <td>1</td>\n",
       "      <td>KW-SK-S-36</td>\n",
       "      <td>128.4836</td>\n",
       "      <td>37.0751</td>\n",
       "      <td>7.63</td>\n",
       "      <td>17.46</td>\n",
       "      <td>0.480</td>\n",
       "      <td>1.65</td>\n",
       "      <td>91.10</td>\n",
       "      <td>NaN</td>\n",
       "      <td>0.0</td>\n",
       "      <td>128.781056</td>\n",
       "      <td>37.114472</td>\n",
       "      <td>128</td>\n",
       "      <td>46</td>\n",
       "      <td>51.8</td>\n",
       "      <td>37</td>\n",
       "      <td>6</td>\n",
       "      <td>52.1</td>\n",
       "    </tr>\n",
       "    <tr>\n",
       "      <th>1</th>\n",
       "      <td>2</td>\n",
       "      <td>KW-SK-S-37</td>\n",
       "      <td>128.4836</td>\n",
       "      <td>37.0751</td>\n",
       "      <td>5.25</td>\n",
       "      <td>1.25</td>\n",
       "      <td>0.050</td>\n",
       "      <td>0.34</td>\n",
       "      <td>58.77</td>\n",
       "      <td>NaN</td>\n",
       "      <td>0.0</td>\n",
       "      <td>128.774083</td>\n",
       "      <td>37.113194</td>\n",
       "      <td>128</td>\n",
       "      <td>46</td>\n",
       "      <td>26.7</td>\n",
       "      <td>37</td>\n",
       "      <td>6</td>\n",
       "      <td>47.5</td>\n",
       "    </tr>\n",
       "    <tr>\n",
       "      <th>2</th>\n",
       "      <td>3</td>\n",
       "      <td>KW-SK-S-66</td>\n",
       "      <td>128.4836</td>\n",
       "      <td>37.0751</td>\n",
       "      <td>7.72</td>\n",
       "      <td>1.39</td>\n",
       "      <td>0.070</td>\n",
       "      <td>0.59</td>\n",
       "      <td>92.43</td>\n",
       "      <td>NaN</td>\n",
       "      <td>0.0</td>\n",
       "      <td>128.789000</td>\n",
       "      <td>37.119861</td>\n",
       "      <td>128</td>\n",
       "      <td>47</td>\n",
       "      <td>20.4</td>\n",
       "      <td>37</td>\n",
       "      <td>7</td>\n",
       "      <td>11.5</td>\n",
       "    </tr>\n",
       "    <tr>\n",
       "      <th>3</th>\n",
       "      <td>4</td>\n",
       "      <td>KW-SK-CS-03</td>\n",
       "      <td>128.4836</td>\n",
       "      <td>37.0751</td>\n",
       "      <td>8.41</td>\n",
       "      <td>6.07</td>\n",
       "      <td>0.105</td>\n",
       "      <td>1.14</td>\n",
       "      <td>2.75</td>\n",
       "      <td>NaN</td>\n",
       "      <td>0.0</td>\n",
       "      <td>128.846444</td>\n",
       "      <td>37.112389</td>\n",
       "      <td>128</td>\n",
       "      <td>50</td>\n",
       "      <td>47.2</td>\n",
       "      <td>37</td>\n",
       "      <td>6</td>\n",
       "      <td>44.6</td>\n",
       "    </tr>\n",
       "    <tr>\n",
       "      <th>4</th>\n",
       "      <td>5</td>\n",
       "      <td>KW-YH-PS-01</td>\n",
       "      <td>129.0646</td>\n",
       "      <td>37.0629</td>\n",
       "      <td>8.30</td>\n",
       "      <td>32.70</td>\n",
       "      <td>3.700</td>\n",
       "      <td>1.10</td>\n",
       "      <td>4700.00</td>\n",
       "      <td>NaN</td>\n",
       "      <td>0.0</td>\n",
       "      <td>129.138417</td>\n",
       "      <td>37.102444</td>\n",
       "      <td>129</td>\n",
       "      <td>8</td>\n",
       "      <td>18.3</td>\n",
       "      <td>37</td>\n",
       "      <td>6</td>\n",
       "      <td>8.8</td>\n",
       "    </tr>\n",
       "  </tbody>\n",
       "</table>\n",
       "</div>"
      ],
      "text/plain": [
       "   OBJECTID_x           ID  start_lon  start_lan    pH     As     Cd    Ni  \\\n",
       "0           1   KW-SK-S-36   128.4836    37.0751  7.63  17.46  0.480  1.65   \n",
       "1           2   KW-SK-S-37   128.4836    37.0751  5.25   1.25  0.050  0.34   \n",
       "2           3   KW-SK-S-66   128.4836    37.0751  7.72   1.39  0.070  0.59   \n",
       "3           4  KW-SK-CS-03   128.4836    37.0751  8.41   6.07  0.105  1.14   \n",
       "4           5  KW-YH-PS-01   129.0646    37.0629  8.30  32.70  3.700  1.10   \n",
       "\n",
       "        Pb   Zn   Hg         Lon        Lan  lon_degree  lon_minute  lon_sec  \\\n",
       "0    91.10  NaN  0.0  128.781056  37.114472         128          46     51.8   \n",
       "1    58.77  NaN  0.0  128.774083  37.113194         128          46     26.7   \n",
       "2    92.43  NaN  0.0  128.789000  37.119861         128          47     20.4   \n",
       "3     2.75  NaN  0.0  128.846444  37.112389         128          50     47.2   \n",
       "4  4700.00  NaN  0.0  129.138417  37.102444         129           8     18.3   \n",
       "\n",
       "   lan_degree  lan_minute  lan_sec  \n",
       "0          37           6     52.1  \n",
       "1          37           6     47.5  \n",
       "2          37           7     11.5  \n",
       "3          37           6     44.6  \n",
       "4          37           6      8.8  "
      ]
     },
     "execution_count": 30,
     "metadata": {},
     "output_type": "execute_result"
    }
   ],
   "source": [
    "data.head()"
   ]
  },
  {
   "cell_type": "code",
   "execution_count": 31,
   "metadata": {},
   "outputs": [
    {
     "name": "stdout",
     "output_type": "stream",
     "text": [
      "<class 'pandas.core.frame.DataFrame'>\n",
      "RangeIndex: 1458 entries, 0 to 1457\n",
      "Data columns (total 19 columns):\n",
      " #   Column      Non-Null Count  Dtype  \n",
      "---  ------      --------------  -----  \n",
      " 0   OBJECTID_x  1458 non-null   int64  \n",
      " 1   ID          1458 non-null   object \n",
      " 2   start_lon   1458 non-null   float64\n",
      " 3   start_lan   1458 non-null   float64\n",
      " 4   pH          1458 non-null   float64\n",
      " 5   As          1458 non-null   float64\n",
      " 6   Cd          1458 non-null   float64\n",
      " 7   Ni          1458 non-null   float64\n",
      " 8   Pb          757 non-null    float64\n",
      " 9   Zn          337 non-null    object \n",
      " 10  Hg          1458 non-null   float64\n",
      " 11  Lon         1458 non-null   float64\n",
      " 12  Lan         1458 non-null   float64\n",
      " 13  lon_degree  1458 non-null   int64  \n",
      " 14  lon_minute  1458 non-null   int64  \n",
      " 15  lon_sec     1458 non-null   float64\n",
      " 16  lan_degree  1458 non-null   int64  \n",
      " 17  lan_minute  1458 non-null   int64  \n",
      " 18  lan_sec     1458 non-null   float64\n",
      "dtypes: float64(12), int64(5), object(2)\n",
      "memory usage: 216.5+ KB\n"
     ]
    }
   ],
   "source": [
    "data.info()"
   ]
  },
  {
   "cell_type": "markdown",
   "metadata": {},
   "source": [
    "### Convert Lan, Lon to Distance"
   ]
  },
  {
   "cell_type": "code",
   "execution_count": 32,
   "metadata": {},
   "outputs": [],
   "source": [
    "dis_data = []\n",
    "\n",
    "for i in range(0, len(data)):\n",
    "    start = (data.loc[i,'start_lan'], data.loc[i,'start_lon'])\n",
    "    target = (data.loc[i,'Lan'], data.loc[i,'Lon'])\n",
    "    \n",
    "    dis_data.append(haversine(start, target, unit='km'))"
   ]
  },
  {
   "cell_type": "code",
   "execution_count": 36,
   "metadata": {},
   "outputs": [
    {
     "data": {
      "text/plain": [
       "1458"
      ]
     },
     "execution_count": 36,
     "metadata": {},
     "output_type": "execute_result"
    }
   ],
   "source": [
    "len(dis_data)"
   ]
  },
  {
   "cell_type": "code",
   "execution_count": 37,
   "metadata": {},
   "outputs": [],
   "source": [
    "data['distance'] = dis_data"
   ]
  },
  {
   "cell_type": "code",
   "execution_count": 38,
   "metadata": {},
   "outputs": [
    {
     "data": {
      "text/plain": [
       "<matplotlib.collections.PathCollection at 0x2365a1e41f0>"
      ]
     },
     "execution_count": 38,
     "metadata": {},
     "output_type": "execute_result"
    },
    {
     "data": {
      "image/png": "[encoded data removed]",
      "text/plain": [
       "<Figure size 432x288 with 1 Axes>"
      ]
     },
     "metadata": {
      "needs_background": "light"
     },
     "output_type": "display_data"
    }
   ],
   "source": [
    "plt.scatter(data.index, data['distance'])"
   ]
  },
  {
   "cell_type": "code",
   "execution_count": 39,
   "metadata": {},
   "outputs": [],
   "source": [
    "data.to_csv('distance.csv', sep=',')"
   ]
  }
 ],
 "metadata": {
  "interpreter": {
   "hash": "c6de6d9490595720a38f1ef1417b3a347277e23848a04532db55501272b4348e"
  },
  "kernelspec": {
   "display_name": "Python 3.8.11 ('base')",
   "language": "python",
   "name": "python3"
  },
  "language_info": {
   "codemirror_mode": {
    "name": "ipython",
    "version": 3
   },
   "file_extension": ".py",
   "mimetype": "text/x-python",
   "name": "python",
   "nbconvert_exporter": "python",
   "pygments_lexer": "ipython3",
   "version": "3.8.11"
  },
  "orig_nbformat": 4
 },
 "nbformat": 4,
 "nbformat_minor": 2
}
