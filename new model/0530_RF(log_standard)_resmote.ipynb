{
 "cells": [
  {
   "attachments": {},
   "cell_type": "markdown",
   "id": "451911be",
   "metadata": {},
   "source": [
    "#### Library import"
   ]
  },
  {
   "cell_type": "code",
   "execution_count": 41,
   "id": "8a394942",
   "metadata": {},
   "outputs": [],
   "source": [
    "import os\n",
    "import pandas as pd\n",
    "import numpy as np\n",
    "import matplotlib.pyplot as plt\n",
    "%matplotlib inline\n",
    "import seaborn as sns\n",
    "import tensorflow as tf\n",
    "import missingno as msno\n",
    "\n",
    "import warnings\n",
    "warnings.filterwarnings('ignore')\n",
    "\n",
    "from sklearn.model_selection import train_test_split\n",
    "from sklearn.model_selection import GridSearchCV\n",
    "from sklearn.metrics import mean_squared_error, r2_score\n",
    "from sklearn.preprocessing import StandardScaler, MinMaxScaler, RobustScaler\n",
    "from sklearn.ensemble import RandomForestRegressor, GradientBoostingRegressor, ExtraTreesRegressor\n",
    "from sklearn.model_selection import KFold\n",
    "from lightgbm import LGBMRegressor\n",
    "from xgboost import XGBRegressor\n",
    "from ngboost import NGBRegressor\n",
    "from scipy.stats import norm, skew\n",
    "\n",
    "from matplotlib.ticker import FormatStrFormatter\n",
    "\n",
    "from tensorflow import keras\n",
    "\n",
    "import re\n",
    "from tqdm import tqdm"
   ]
  },
  {
   "attachments": {},
   "cell_type": "markdown",
   "id": "31a13d68",
   "metadata": {},
   "source": [
    "#### GPU setting"
   ]
  },
  {
   "cell_type": "code",
   "execution_count": 42,
   "id": "cff3cada",
   "metadata": {},
   "outputs": [],
   "source": [
    "from tensorflow.compat.v1 import ConfigProto\n",
    "from tensorflow.compat.v1 import InteractiveSession"
   ]
  },
  {
   "cell_type": "code",
   "execution_count": 43,
   "id": "fb88e9c0",
   "metadata": {},
   "outputs": [],
   "source": [
    "config = ConfigProto()\n",
    "config.gpu_options.per_process_gpu_memory_fraction = 0.4\n",
    "session = InteractiveSession(config = config)"
   ]
  },
  {
   "cell_type": "code",
   "execution_count": 44,
   "id": "ea8f0f47",
   "metadata": {},
   "outputs": [
    {
     "name": "stdout",
     "output_type": "stream",
     "text": [
      "[name: \"/device:CPU:0\"\n",
      "device_type: \"CPU\"\n",
      "memory_limit: 268435456\n",
      "locality {\n",
      "}\n",
      "incarnation: 13993667785251102745\n",
      ", name: \"/device:GPU:0\"\n",
      "device_type: \"GPU\"\n",
      "memory_limit: 3435973836\n",
      "locality {\n",
      "  bus_id: 1\n",
      "  links {\n",
      "  }\n",
      "}\n",
      "incarnation: 13915413524744904234\n",
      "physical_device_desc: \"device: 0, name: NVIDIA GeForce RTX 3060 Ti, pci bus id: 0000:07:00.0, compute capability: 8.6\"\n",
      "]\n"
     ]
    }
   ],
   "source": [
    "physical_devices = tf.config.list_physical_devices('GPU')\n",
    "physical_devices\n",
    "\n",
    "from tensorflow.python.client import device_lib\n",
    "\n",
    "print(device_lib.list_local_devices())"
   ]
  },
  {
   "cell_type": "code",
   "execution_count": 45,
   "id": "cd001f36",
   "metadata": {},
   "outputs": [],
   "source": [
    "import os\n",
    "\n",
    "os.environ[\"CUDA_VISIBLE_DEVICES\"]=\"0\"\n",
    "gpus = tf.config.experimental.list_physical_devices('GPU')\n",
    "if gpus:\n",
    "    try:\n",
    "        tf.config.experimental.set_memory_growth(gpus[0], True)\n",
    "    except RuntimeError as e:\n",
    "        print(e)"
   ]
  },
  {
   "attachments": {},
   "cell_type": "markdown",
   "id": "cb740f81",
   "metadata": {},
   "source": [
    "#### Data import and preprocessing"
   ]
  },
  {
   "cell_type": "code",
   "execution_count": 46,
   "id": "9288345d",
   "metadata": {
    "scrolled": true
   },
   "outputs": [
    {
     "data": {
      "text/plain": [
       "Index(['OBJECTID_x', 'ID', 'pH', 'As', 'Cd', 'Ni', 'Pb', 'Zn', 'Hg', 'slope',\n",
       "       'altitude', 'profile_curve', 'profile_c_num', 'profile_c_abs',\n",
       "       'planform_curve', 'planform_c_num', 'planform_c_abs', 'HYDGRP',\n",
       "       'HYDGRP_A', 'HYDGRP_B', 'HYDGRP_C', 'HYDGRP_D', 'ANION_EXCL', 'SOL_CRK',\n",
       "       'SOL_K1', 'CLAY1', 'SILT1', 'SAND1', 'ROCK1', 'SOL_EC1', 'distance'],\n",
       "      dtype='object')"
      ]
     },
     "execution_count": 46,
     "metadata": {},
     "output_type": "execute_result"
    }
   ],
   "source": [
    "data = pd.read_csv(\"data/data.csv\")\n",
    "data.columns"
   ]
  },
  {
   "cell_type": "code",
   "execution_count": 47,
   "id": "bbf87a23",
   "metadata": {},
   "outputs": [
    {
     "data": {
      "text/plain": [
       "Index(['pH', 'As', 'Cd', 'Ni', 'Pb', 'Zn', 'Hg', 'slope', 'altitude',\n",
       "       'profile_curve', 'planform_curve', 'HYDGRP_A', 'HYDGRP_B', 'HYDGRP_C',\n",
       "       'HYDGRP_D', 'SOL_K1', 'CLAY1', 'SILT1', 'SAND1', 'ROCK1', 'distance'],\n",
       "      dtype='object')"
      ]
     },
     "execution_count": 47,
     "metadata": {},
     "output_type": "execute_result"
    }
   ],
   "source": [
    "data = data.drop(['OBJECTID_x','ID','HYDGRP','profile_c_num', 'profile_c_abs','planform_c_num', 'planform_c_abs','ANION_EXCL','SOL_CRK','SOL_EC1'], axis = 1)\n",
    "data.columns"
   ]
  },
  {
   "cell_type": "code",
   "execution_count": 48,
   "id": "3cb8e77e",
   "metadata": {},
   "outputs": [],
   "source": [
    "As = data\n",
    "Cd = data\n",
    "Ni = data"
   ]
  },
  {
   "cell_type": "code",
   "execution_count": 49,
   "id": "45ec138e",
   "metadata": {},
   "outputs": [],
   "source": [
    "As = As.drop([\"Cd\", \"Ni\", \"Pb\", \"Zn\", \"Hg\"], axis = 1)\n",
    "Cd = Cd.drop([\"As\", \"Ni\", \"Pb\", \"Zn\", \"Hg\"], axis = 1)\n",
    "Ni = Ni.drop([\"As\", \"Cd\", \"Pb\", \"Zn\", \"Hg\"], axis = 1)"
   ]
  },
  {
   "cell_type": "code",
   "execution_count": 50,
   "id": "69e10383",
   "metadata": {},
   "outputs": [
    {
     "name": "stdout",
     "output_type": "stream",
     "text": [
      "(1458, 16)\n",
      "(1458, 16)\n",
      "(1458, 16)\n"
     ]
    }
   ],
   "source": [
    "print(As.shape)\n",
    "print(Cd.shape)\n",
    "print(Ni.shape)"
   ]
  },
  {
   "attachments": {},
   "cell_type": "markdown",
   "id": "ed72a9b1",
   "metadata": {},
   "source": [
    "#### Eliminate outlier and train / test split"
   ]
  },
  {
   "cell_type": "code",
   "execution_count": 51,
   "id": "43604a42",
   "metadata": {},
   "outputs": [],
   "source": [
    "def eli_outlier(data, value):\n",
    "    q1 = data[value].quantile(0.25)\n",
    "    q3 = data[value].quantile(0.75)\n",
    "\n",
    "    iqr = q3 - q1\n",
    "\n",
    "    q1_condition = data[value] < q1-1.5*iqr\n",
    "    q3_condition = data[value] > q3+1.5*iqr\n",
    "\n",
    "    reset_q1_index = data[q1_condition].index\n",
    "    reset_q3_index = data[q3_condition].index\n",
    "\n",
    "    data.drop(reset_q1_index, inplace = True)\n",
    "    data.drop(reset_q3_index, inplace = True)\n",
    "\n",
    "    return data"
   ]
  },
  {
   "cell_type": "code",
   "execution_count": 52,
   "id": "9b7632f2",
   "metadata": {},
   "outputs": [],
   "source": [
    "As = eli_outlier(As, \"As\")\n",
    "Cd = eli_outlier(Cd, \"Cd\")\n",
    "Ni = eli_outlier(Ni, \"Ni\")"
   ]
  },
  {
   "cell_type": "code",
   "execution_count": 53,
   "id": "f8609469",
   "metadata": {},
   "outputs": [],
   "source": [
    "As_X = As.drop([\"As\"], axis=1)\n",
    "Cd_X = Cd.drop([\"Cd\"], axis=1)\n",
    "Ni_X = Ni.drop([\"Ni\"], axis=1)\n",
    "\n",
    "As_y = As[\"As\"]\n",
    "Cd_y = Cd[\"Cd\"]\n",
    "Ni_y = Ni[\"Ni\"]"
   ]
  },
  {
   "cell_type": "code",
   "execution_count": 54,
   "id": "7237a19a",
   "metadata": {},
   "outputs": [],
   "source": [
    "As_y = np.log1p(As[\"As\"])\n",
    "Cd_y = np.log1p(Cd[\"Cd\"])\n",
    "Ni_y = np.log1p(Ni[\"Ni\"])"
   ]
  },
  {
   "cell_type": "code",
   "execution_count": 55,
   "id": "ce87d06a",
   "metadata": {},
   "outputs": [
    {
     "name": "stdout",
     "output_type": "stream",
     "text": [
      "(1288, 15)\n",
      "(1271, 15)\n",
      "(1424, 15)\n"
     ]
    }
   ],
   "source": [
    "print(As_X.shape)\n",
    "print(Cd_X.shape)\n",
    "print(Ni_X.shape)"
   ]
  },
  {
   "attachments": {},
   "cell_type": "markdown",
   "id": "c92e5bb6",
   "metadata": {},
   "source": [
    "StandardScaler"
   ]
  },
  {
   "cell_type": "code",
   "execution_count": 56,
   "id": "fbb3f6f7",
   "metadata": {},
   "outputs": [],
   "source": [
    "from sklearn.preprocessing import StandardScaler\n",
    "\n",
    "scaler = StandardScaler()\n",
    "\n",
    "As_X_train, As_X_test, As_y_train, As_y_test = train_test_split(As_X, As_y, test_size=0.2, random_state=42)\n",
    "Cd_X_train, Cd_X_test, Cd_y_train, Cd_y_test = train_test_split(Cd_X, Cd_y, test_size=0.2, random_state=42)\n",
    "Ni_X_train, Ni_X_test, Ni_y_train, Ni_y_test = train_test_split(Ni_X, Ni_y, test_size=0.2, random_state=42)\n",
    "\n",
    "As_X_train = scaler.fit_transform(As_X_train)\n",
    "As_X_test = scaler.fit_transform(As_X_test)\n",
    "\n",
    "Cd_X_train = scaler.fit_transform(Cd_X_train)\n",
    "Cd_X_test = scaler.fit_transform(Cd_X_test)\n",
    "\n",
    "Ni_X_train = scaler.fit_transform(Ni_X_train)\n",
    "Ni_X_test = scaler.fit_transform(Ni_X_test)"
   ]
  },
  {
   "cell_type": "code",
   "execution_count": 57,
   "id": "ec48e80d",
   "metadata": {},
   "outputs": [],
   "source": [
    "As_train_re_X = pd.DataFrame(As_X_train, columns = ['pH','slope','altitude','profile_curve','planform_curve',\n",
    "                                               'HYDGRP_A','HYDGRP_B','HYDGRP_C','HYDGRP_D','SOL_K1','CLAY1','SILT1','SAND1','ROCK1','distance'])\n",
    "\n",
    "Cd_train_re_X = pd.DataFrame(Cd_X_train, columns = ['pH','slope','altitude','profile_curve','planform_curve',\n",
    "                                               'HYDGRP_A','HYDGRP_B','HYDGRP_C','HYDGRP_D','SOL_K1','CLAY1','SILT1','SAND1','ROCK1','distance'])\n",
    "\n",
    "Ni_train_re_X = pd.DataFrame(Ni_X_train, columns = ['pH','slope','altitude','profile_curve','planform_curve',\n",
    "                                               'HYDGRP_A','HYDGRP_B','HYDGRP_C','HYDGRP_D','SOL_K1','CLAY1','SILT1','SAND1','ROCK1','distance'])"
   ]
  },
  {
   "cell_type": "code",
   "execution_count": 58,
   "id": "4a6c7466",
   "metadata": {},
   "outputs": [],
   "source": [
    "As_y_train = As_y_train.reset_index(drop = True)\n",
    "Cd_y_train = Cd_y_train.reset_index(drop = True)\n",
    "Ni_y_train = Ni_y_train.reset_index(drop = True)"
   ]
  },
  {
   "cell_type": "code",
   "execution_count": 59,
   "id": "d6a4c9c8",
   "metadata": {},
   "outputs": [],
   "source": [
    "As_train_re = pd.concat([As_train_re_X, As_y_train], axis=1)\n",
    "Cd_train_re = pd.concat([Cd_train_re_X, Cd_y_train], axis=1)\n",
    "Ni_train_re = pd.concat([Ni_train_re_X, Ni_y_train], axis=1)"
   ]
  },
  {
   "cell_type": "markdown",
   "id": "0f44540f",
   "metadata": {},
   "source": [
    "#### Oversampling by SMOGN (SMOTE Regression)"
   ]
  },
  {
   "cell_type": "code",
   "execution_count": 60,
   "id": "5232a863",
   "metadata": {},
   "outputs": [],
   "source": [
    "import smogn"
   ]
  },
  {
   "cell_type": "code",
   "execution_count": 61,
   "id": "9ef83ccd",
   "metadata": {},
   "outputs": [
    {
     "name": "stderr",
     "output_type": "stream",
     "text": [
      "dist_matrix:   1%|          | 2/248 [00:00<00:19, 12.74it/s]"
     ]
    },
    {
     "name": "stderr",
     "output_type": "stream",
     "text": [
      "dist_matrix: 100%|##########| 248/248 [00:18<00:00, 13.45it/s]\n",
      "r_index: 100%|##########| 198/198 [00:00<00:00, 642.71it/s]\n",
      "dist_matrix: 100%|##########| 297/297 [00:25<00:00, 11.52it/s]\n",
      "r_index: 100%|##########| 59/59 [00:00<00:00, 662.77it/s]\n",
      "dist_matrix: 100%|##########| 242/242 [00:17<00:00, 13.76it/s]\n",
      "r_index: 100%|##########| 193/193 [00:00<00:00, 663.08it/s]\n",
      "dist_matrix: 100%|##########| 264/264 [00:20<00:00, 12.61it/s]\n",
      "r_index: 100%|##########| 132/132 [00:00<00:00, 593.09it/s]\n",
      "dist_matrix: 100%|##########| 236/236 [00:17<00:00, 13.77it/s]\n",
      "synth_matrix: 100%|##########| 236/236 [00:00<00:00, 280.90it/s]\n",
      "r_index: 100%|##########| 188/188 [00:00<00:00, 601.45it/s]\n"
     ]
    }
   ],
   "source": [
    "As_smogn = smogn.smoter(data = As_train_re, y = 'As', samp_method = 'extreme', rel_coef = 0.50)\n",
    "Cd_smogn = smogn.smoter(data = Cd_train_re, y = 'Cd', samp_method = 'extreme', rel_coef = 0.50)\n",
    "Ni_smogn = smogn.smoter(data = Ni_train_re, y = 'Ni', samp_method = 'extreme', rel_coef = 0.50)"
   ]
  },
  {
   "cell_type": "code",
   "execution_count": 62,
   "id": "3a9abce7",
   "metadata": {},
   "outputs": [
    {
     "name": "stdout",
     "output_type": "stream",
     "text": [
      "(1045, 16)\n",
      "(1137, 16)\n",
      "(1529, 16)\n"
     ]
    }
   ],
   "source": [
    "print(As_smogn.shape)\n",
    "print(Cd_smogn.shape)\n",
    "print(Ni_smogn.shape)"
   ]
  },
  {
   "cell_type": "code",
   "execution_count": 63,
   "id": "2859bf9b",
   "metadata": {},
   "outputs": [],
   "source": [
    "As_y_train = As_smogn['As']\n",
    "Cd_y_train = Cd_smogn['Cd']\n",
    "Ni_y_train = Ni_smogn['Ni']\n",
    "\n",
    "As_X_train = As_smogn.drop(['As'], axis = 1)\n",
    "Cd_X_train = Cd_smogn.drop(['Cd'], axis = 1)\n",
    "Ni_X_train = Ni_smogn.drop(['Ni'], axis = 1)\n",
    "\n",
    "As_X_train = As_X_train.to_numpy()\n",
    "Cd_X_train = Cd_X_train.to_numpy()\n",
    "Ni_X_train = Ni_X_train.to_numpy()"
   ]
  },
  {
   "cell_type": "code",
   "execution_count": 64,
   "id": "416a7027",
   "metadata": {},
   "outputs": [
    {
     "data": {
      "text/plain": [
       "' from sklearn.preprocessing import StandardScaler\\n\\nscaler = StandardScaler()\\n\\nAs_X_scaled = scaler.fit_transform(As_X)\\nCd_X_scaled = scaler.fit_transform(Cd_X)\\nNi_X_scaled = scaler.fit_transform(Ni_X)\\n\\nAs_X_train, As_X_test, As_y_train, As_y_test = train_test_split(As_X_scaled, As_y, test_size=0.2, random_state=42)\\nCd_X_train, Cd_X_test, Cd_y_train, Cd_y_test = train_test_split(Cd_X_scaled, Cd_y, test_size=0.2, random_state=42)\\nNi_X_train, Ni_X_test, Ni_y_train, Ni_y_test = train_test_split(Ni_X_scaled, Ni_y, test_size=0.2, random_state=42) '"
      ]
     },
     "execution_count": 64,
     "metadata": {},
     "output_type": "execute_result"
    }
   ],
   "source": [
    "''' from sklearn.preprocessing import StandardScaler\n",
    "\n",
    "scaler = StandardScaler()\n",
    "\n",
    "As_X_scaled = scaler.fit_transform(As_X)\n",
    "Cd_X_scaled = scaler.fit_transform(Cd_X)\n",
    "Ni_X_scaled = scaler.fit_transform(Ni_X)\n",
    "\n",
    "As_X_train, As_X_test, As_y_train, As_y_test = train_test_split(As_X_scaled, As_y, test_size=0.2, random_state=42)\n",
    "Cd_X_train, Cd_X_test, Cd_y_train, Cd_y_test = train_test_split(Cd_X_scaled, Cd_y, test_size=0.2, random_state=42)\n",
    "Ni_X_train, Ni_X_test, Ni_y_train, Ni_y_test = train_test_split(Ni_X_scaled, Ni_y, test_size=0.2, random_state=42) '''"
   ]
  },
  {
   "attachments": {},
   "cell_type": "markdown",
   "id": "2fe0d293",
   "metadata": {},
   "source": [
    "MinMaxScaler"
   ]
  },
  {
   "cell_type": "code",
   "execution_count": 65,
   "id": "e8596f9f",
   "metadata": {},
   "outputs": [],
   "source": [
    "# from sklearn.preprocessing import MinMaxScaler\n",
    "\n",
    "# scaler = MinMaxScaler()\n",
    "# As_X_scaled = scaler.fit_transform(As_X)\n",
    "# Cd_X_scaled = scaler.fit_transform(Cd_X)\n",
    "# Ni_X_scaled = scaler.fit_transform(Ni_X)\n",
    "\n",
    "# As_X_train, As_X_test, As_y_train, As_y_test = train_test_split(As_X_scaled, As_y, test_size=0.2, random_state=42)\n",
    "# Cd_X_train, Cd_X_test, Cd_y_train, Cd_y_test = train_test_split(Cd_X_scaled, Cd_y, test_size=0.2, random_state=42)\n",
    "# Ni_X_train, Ni_X_test, Ni_y_train, Ni_y_test = train_test_split(Ni_X_scaled, Ni_y, test_size=0.2, random_state=42)"
   ]
  },
  {
   "cell_type": "code",
   "execution_count": 66,
   "id": "86ccf2fe",
   "metadata": {},
   "outputs": [
    {
     "name": "stdout",
     "output_type": "stream",
     "text": [
      "(1045, 15)\n",
      "(1137, 15)\n",
      "(1529, 15)\n"
     ]
    }
   ],
   "source": [
    "print(As_X_train.shape)\n",
    "print(Cd_X_train.shape)\n",
    "print(Ni_X_train.shape)"
   ]
  },
  {
   "attachments": {},
   "cell_type": "markdown",
   "id": "bd11b27e",
   "metadata": {},
   "source": [
    "#### 10-Fold Crossvalidation"
   ]
  },
  {
   "cell_type": "code",
   "execution_count": 67,
   "id": "7a765916",
   "metadata": {},
   "outputs": [],
   "source": [
    "kf = KFold(n_splits = 5, random_state = 42, shuffle = True)"
   ]
  },
  {
   "attachments": {},
   "cell_type": "markdown",
   "id": "859638d0",
   "metadata": {},
   "source": [
    "#### Optuna Optimization"
   ]
  },
  {
   "cell_type": "code",
   "execution_count": 68,
   "id": "92a47d83",
   "metadata": {},
   "outputs": [],
   "source": [
    "import optuna\n",
    "\n",
    "from optuna import Trial\n",
    "from optuna.samplers import TPESampler"
   ]
  },
  {
   "cell_type": "code",
   "execution_count": 69,
   "id": "a7669fea",
   "metadata": {},
   "outputs": [],
   "source": [
    "from sklearn.model_selection import cross_val_score\n",
    "\n",
    "def objectiveRF(trial: Trial, X_train, y_train) -> float:\n",
    "    rf_paramas = {\n",
    "        \"random_state\": 42,\n",
    "        #\"learning_rate\": 0.1,\n",
    "        \"n_estimators\": trial.suggest_int(\"n_estimators\", 10, 100),\n",
    "        \"max_depth\": trial.suggest_int(\"max_depth\", 1, 10),\n",
    "        \"min_samples_leaf\": trial.suggest_int(\"min_samples_leaf\", 1, 20),\n",
    "        \"min_samples_split\": trial.suggest_int(\"min_samples_split\", 2, 20),\n",
    "        #\"subsample\": trial.suggest_float(\"subsample\", 0.1, 0.5)\n",
    "    }\n",
    "    \n",
    "    rf = RandomForestRegressor(**rf_paramas)\n",
    "    r2 = cross_val_score(rf, X_train, y_train, scoring = \"r2\", cv = kf)\n",
    "    r2 = r2.mean()\n",
    "    \n",
    "    return r2"
   ]
  },
  {
   "attachments": {},
   "cell_type": "markdown",
   "id": "b0988f46",
   "metadata": {},
   "source": [
    "####  Optimization"
   ]
  },
  {
   "cell_type": "code",
   "execution_count": 70,
   "id": "94f5e00d",
   "metadata": {
    "scrolled": false
   },
   "outputs": [
    {
     "name": "stderr",
     "output_type": "stream",
     "text": [
      "\u001b[32m[I 2023-08-29 01:01:51,512]\u001b[0m A new study created in memory with name: rf_parameter_opt\u001b[0m\n",
      "\u001b[32m[I 2023-08-29 01:01:53,247]\u001b[0m Trial 0 finished with value: 0.1334686199806311 and parameters: {'n_estimators': 66, 'max_depth': 8, 'min_samples_leaf': 16, 'min_samples_split': 5}. Best is trial 0 with value: 0.1334686199806311.\u001b[0m\n",
      "\u001b[32m[I 2023-08-29 01:01:53,788]\u001b[0m Trial 1 finished with value: 0.0719981376899091 and parameters: {'n_estimators': 45, 'max_depth': 2, 'min_samples_leaf': 10, 'min_samples_split': 2}. Best is trial 0 with value: 0.1334686199806311.\u001b[0m\n",
      "\u001b[32m[I 2023-08-29 01:01:53,892]\u001b[0m Trial 2 finished with value: 0.03645501213842637 and parameters: {'n_estimators': 11, 'max_depth': 1, 'min_samples_leaf': 6, 'min_samples_split': 12}. Best is trial 0 with value: 0.1334686199806311.\u001b[0m\n",
      "\u001b[32m[I 2023-08-29 01:01:57,563]\u001b[0m Trial 3 finished with value: 0.1824163876514266 and parameters: {'n_estimators': 99, 'max_depth': 10, 'min_samples_leaf': 2, 'min_samples_split': 9}. Best is trial 3 with value: 0.1824163876514266.\u001b[0m\n",
      "\u001b[32m[I 2023-08-29 01:01:59,305]\u001b[0m Trial 4 finished with value: 0.12585205658910836 and parameters: {'n_estimators': 93, 'max_depth': 4, 'min_samples_leaf': 2, 'min_samples_split': 9}. Best is trial 3 with value: 0.1824163876514266.\u001b[0m\n",
      "\u001b[32m[I 2023-08-29 01:01:59,659]\u001b[0m Trial 5 finished with value: 0.07224787192808757 and parameters: {'n_estimators': 30, 'max_depth': 2, 'min_samples_leaf': 20, 'min_samples_split': 15}. Best is trial 3 with value: 0.1824163876514266.\u001b[0m\n",
      "\u001b[32m[I 2023-08-29 01:02:00,551]\u001b[0m Trial 6 finished with value: 0.13762948293027352 and parameters: {'n_estimators': 42, 'max_depth': 5, 'min_samples_leaf': 6, 'min_samples_split': 5}. Best is trial 3 with value: 0.1824163876514266.\u001b[0m\n",
      "\u001b[32m[I 2023-08-29 01:02:01,988]\u001b[0m Trial 7 finished with value: 0.1601908346865648 and parameters: {'n_estimators': 52, 'max_depth': 9, 'min_samples_leaf': 7, 'min_samples_split': 8}. Best is trial 3 with value: 0.1824163876514266.\u001b[0m\n",
      "\u001b[32m[I 2023-08-29 01:02:03,198]\u001b[0m Trial 8 finished with value: 0.14561306179106676 and parameters: {'n_estimators': 52, 'max_depth': 7, 'min_samples_leaf': 11, 'min_samples_split': 15}. Best is trial 3 with value: 0.1824163876514266.\u001b[0m\n",
      "\u001b[32m[I 2023-08-29 01:02:04,805]\u001b[0m Trial 9 finished with value: 0.13494635266456714 and parameters: {'n_estimators': 74, 'max_depth': 6, 'min_samples_leaf': 15, 'min_samples_split': 4}. Best is trial 3 with value: 0.1824163876514266.\u001b[0m\n",
      "\u001b[32m[I 2023-08-29 01:02:07,933]\u001b[0m Trial 10 finished with value: 0.17005073626299763 and parameters: {'n_estimators': 98, 'max_depth': 10, 'min_samples_leaf': 2, 'min_samples_split': 19}. Best is trial 3 with value: 0.1824163876514266.\u001b[0m\n",
      "\u001b[32m[I 2023-08-29 01:02:11,091]\u001b[0m Trial 11 finished with value: 0.1674731274353651 and parameters: {'n_estimators': 100, 'max_depth': 10, 'min_samples_leaf': 1, 'min_samples_split': 20}. Best is trial 3 with value: 0.1824163876514266.\u001b[0m\n",
      "\u001b[32m[I 2023-08-29 01:02:13,621]\u001b[0m Trial 12 finished with value: 0.17018448123731958 and parameters: {'n_estimators': 84, 'max_depth': 10, 'min_samples_leaf': 3, 'min_samples_split': 19}. Best is trial 3 with value: 0.1824163876514266.\u001b[0m\n",
      "\u001b[32m[I 2023-08-29 01:02:15,983]\u001b[0m Trial 13 finished with value: 0.16634018717755913 and parameters: {'n_estimators': 83, 'max_depth': 8, 'min_samples_leaf': 4, 'min_samples_split': 13}. Best is trial 3 with value: 0.1824163876514266.\u001b[0m\n",
      "\u001b[32m[I 2023-08-29 01:02:18,171]\u001b[0m Trial 14 finished with value: 0.15352462843575718 and parameters: {'n_estimators': 83, 'max_depth': 10, 'min_samples_leaf': 9, 'min_samples_split': 17}. Best is trial 3 with value: 0.1824163876514266.\u001b[0m\n",
      "\u001b[32m[I 2023-08-29 01:02:20,401]\u001b[0m Trial 15 finished with value: 0.17718040273749727 and parameters: {'n_estimators': 70, 'max_depth': 8, 'min_samples_leaf': 3, 'min_samples_split': 8}. Best is trial 3 with value: 0.1824163876514266.\u001b[0m\n",
      "\u001b[32m[I 2023-08-29 01:02:22,319]\u001b[0m Trial 16 finished with value: 0.16635434309413347 and parameters: {'n_estimators': 66, 'max_depth': 8, 'min_samples_leaf': 5, 'min_samples_split': 9}. Best is trial 3 with value: 0.1824163876514266.\u001b[0m\n",
      "\u001b[32m[I 2023-08-29 01:02:23,984]\u001b[0m Trial 17 finished with value: 0.14239534076755528 and parameters: {'n_estimators': 65, 'max_depth': 7, 'min_samples_leaf': 12, 'min_samples_split': 7}. Best is trial 3 with value: 0.1824163876514266.\u001b[0m\n",
      "\u001b[32m[I 2023-08-29 01:02:24,749]\u001b[0m Trial 18 finished with value: 0.1484833219226928 and parameters: {'n_estimators': 27, 'max_depth': 9, 'min_samples_leaf': 8, 'min_samples_split': 11}. Best is trial 3 with value: 0.1824163876514266.\u001b[0m\n",
      "\u001b[32m[I 2023-08-29 01:02:26,438]\u001b[0m Trial 19 finished with value: 0.1375302714728944 and parameters: {'n_estimators': 74, 'max_depth': 6, 'min_samples_leaf': 13, 'min_samples_split': 10}. Best is trial 3 with value: 0.1824163876514266.\u001b[0m\n",
      "\u001b[32m[I 2023-08-29 01:02:29,497]\u001b[0m Trial 20 finished with value: 0.18156609354067854 and parameters: {'n_estimators': 88, 'max_depth': 9, 'min_samples_leaf': 1, 'min_samples_split': 7}. Best is trial 3 with value: 0.1824163876514266.\u001b[0m\n",
      "\u001b[32m[I 2023-08-29 01:02:32,693]\u001b[0m Trial 21 finished with value: 0.1825101667391558 and parameters: {'n_estimators': 90, 'max_depth': 9, 'min_samples_leaf': 1, 'min_samples_split': 7}. Best is trial 21 with value: 0.1825101667391558.\u001b[0m\n",
      "\u001b[32m[I 2023-08-29 01:02:35,816]\u001b[0m Trial 22 finished with value: 0.18160036456454548 and parameters: {'n_estimators': 90, 'max_depth': 9, 'min_samples_leaf': 1, 'min_samples_split': 6}. Best is trial 21 with value: 0.1825101667391558.\u001b[0m\n",
      "\u001b[32m[I 2023-08-29 01:02:38,718]\u001b[0m Trial 23 finished with value: 0.17926416948346377 and parameters: {'n_estimators': 93, 'max_depth': 9, 'min_samples_leaf': 4, 'min_samples_split': 6}. Best is trial 21 with value: 0.1825101667391558.\u001b[0m\n",
      "\u001b[32m[I 2023-08-29 01:02:41,012]\u001b[0m Trial 24 finished with value: 0.17746619880128303 and parameters: {'n_estimators': 79, 'max_depth': 7, 'min_samples_leaf': 1, 'min_samples_split': 3}. Best is trial 21 with value: 0.1825101667391558.\u001b[0m\n",
      "\u001b[32m[I 2023-08-29 01:02:43,853]\u001b[0m Trial 25 finished with value: 0.1791814347926913 and parameters: {'n_estimators': 92, 'max_depth': 9, 'min_samples_leaf': 4, 'min_samples_split': 6}. Best is trial 21 with value: 0.1825101667391558.\u001b[0m\n",
      "\u001b[32m[I 2023-08-29 01:02:46,989]\u001b[0m Trial 26 finished with value: 0.18225792007426034 and parameters: {'n_estimators': 97, 'max_depth': 10, 'min_samples_leaf': 3, 'min_samples_split': 10}. Best is trial 21 with value: 0.1825101667391558.\u001b[0m\n",
      "\u001b[32m[I 2023-08-29 01:02:49,737]\u001b[0m Trial 27 finished with value: 0.16423790723329912 and parameters: {'n_estimators': 95, 'max_depth': 10, 'min_samples_leaf': 6, 'min_samples_split': 13}. Best is trial 21 with value: 0.1825101667391558.\u001b[0m\n",
      "\u001b[32m[I 2023-08-29 01:02:51,510]\u001b[0m Trial 28 finished with value: 0.12542274805115922 and parameters: {'n_estimators': 99, 'max_depth': 4, 'min_samples_leaf': 3, 'min_samples_split': 11}. Best is trial 21 with value: 0.1825101667391558.\u001b[0m\n",
      "\u001b[32m[I 2023-08-29 01:02:52,770]\u001b[0m Trial 29 finished with value: 0.13130671716064587 and parameters: {'n_estimators': 60, 'max_depth': 8, 'min_samples_leaf': 19, 'min_samples_split': 10}. Best is trial 21 with value: 0.1825101667391558.\u001b[0m\n",
      "\u001b[32m[I 2023-08-29 01:02:54,521]\u001b[0m Trial 30 finished with value: 0.13566082963702014 and parameters: {'n_estimators': 80, 'max_depth': 10, 'min_samples_leaf': 17, 'min_samples_split': 14}. Best is trial 21 with value: 0.1825101667391558.\u001b[0m\n",
      "\u001b[32m[I 2023-08-29 01:02:57,606]\u001b[0m Trial 31 finished with value: 0.18483522087339715 and parameters: {'n_estimators': 89, 'max_depth': 9, 'min_samples_leaf': 1, 'min_samples_split': 5}. Best is trial 31 with value: 0.18483522087339715.\u001b[0m\n",
      "\u001b[32m[I 2023-08-29 01:03:00,339]\u001b[0m Trial 32 finished with value: 0.17814712575619324 and parameters: {'n_estimators': 88, 'max_depth': 8, 'min_samples_leaf': 2, 'min_samples_split': 2}. Best is trial 31 with value: 0.18483522087339715.\u001b[0m\n",
      "\u001b[32m[I 2023-08-29 01:03:03,373]\u001b[0m Trial 33 finished with value: 0.1733772117866959 and parameters: {'n_estimators': 100, 'max_depth': 10, 'min_samples_leaf': 5, 'min_samples_split': 4}. Best is trial 31 with value: 0.18483522087339715.\u001b[0m\n",
      "\u001b[32m[I 2023-08-29 01:03:06,103]\u001b[0m Trial 34 finished with value: 0.1805992432069234 and parameters: {'n_estimators': 88, 'max_depth': 9, 'min_samples_leaf': 3, 'min_samples_split': 9}. Best is trial 31 with value: 0.18483522087339715.\u001b[0m\n",
      "\u001b[32m[I 2023-08-29 01:03:08,274]\u001b[0m Trial 35 finished with value: 0.16856995809166997 and parameters: {'n_estimators': 78, 'max_depth': 7, 'min_samples_leaf': 2, 'min_samples_split': 8}. Best is trial 31 with value: 0.18483522087339715.\u001b[0m\n",
      "\u001b[32m[I 2023-08-29 01:03:09,355]\u001b[0m Trial 36 finished with value: 0.07364275749242517 and parameters: {'n_estimators': 95, 'max_depth': 2, 'min_samples_leaf': 5, 'min_samples_split': 5}. Best is trial 31 with value: 0.18483522087339715.\u001b[0m\n",
      "\u001b[32m[I 2023-08-29 01:03:11,755]\u001b[0m Trial 37 finished with value: 0.15996461734479187 and parameters: {'n_estimators': 86, 'max_depth': 9, 'min_samples_leaf': 7, 'min_samples_split': 12}. Best is trial 31 with value: 0.18483522087339715.\u001b[0m\n",
      "\u001b[32m[I 2023-08-29 01:03:12,533]\u001b[0m Trial 38 finished with value: 0.0396241857190079 and parameters: {'n_estimators': 94, 'max_depth': 1, 'min_samples_leaf': 1, 'min_samples_split': 7}. Best is trial 31 with value: 0.18483522087339715.\u001b[0m\n",
      "\u001b[32m[I 2023-08-29 01:03:13,945]\u001b[0m Trial 39 finished with value: 0.12553452032268314 and parameters: {'n_estimators': 77, 'max_depth': 4, 'min_samples_leaf': 2, 'min_samples_split': 4}. Best is trial 31 with value: 0.18483522087339715.\u001b[0m\n",
      "\u001b[32m[I 2023-08-29 01:03:14,323]\u001b[0m Trial 40 finished with value: 0.14291124501747937 and parameters: {'n_estimators': 12, 'max_depth': 10, 'min_samples_leaf': 7, 'min_samples_split': 10}. Best is trial 31 with value: 0.18483522087339715.\u001b[0m\n",
      "\u001b[32m[I 2023-08-29 01:03:17,450]\u001b[0m Trial 41 finished with value: 0.18205191648914082 and parameters: {'n_estimators': 91, 'max_depth': 9, 'min_samples_leaf': 1, 'min_samples_split': 6}. Best is trial 31 with value: 0.18483522087339715.\u001b[0m\n",
      "\u001b[32m[I 2023-08-29 01:03:20,766]\u001b[0m Trial 42 finished with value: 0.18409965043236984 and parameters: {'n_estimators': 97, 'max_depth': 9, 'min_samples_leaf': 2, 'min_samples_split': 5}. Best is trial 31 with value: 0.18483522087339715.\u001b[0m\n",
      "\u001b[32m[I 2023-08-29 01:03:23,564]\u001b[0m Trial 43 finished with value: 0.17589869797699337 and parameters: {'n_estimators': 96, 'max_depth': 8, 'min_samples_leaf': 4, 'min_samples_split': 3}. Best is trial 31 with value: 0.18483522087339715.\u001b[0m\n",
      "\u001b[32m[I 2023-08-29 01:03:26,862]\u001b[0m Trial 44 finished with value: 0.18612024264706398 and parameters: {'n_estimators': 100, 'max_depth': 10, 'min_samples_leaf': 3, 'min_samples_split': 8}. Best is trial 44 with value: 0.18612024264706398.\u001b[0m\n",
      "\u001b[32m[I 2023-08-29 01:03:28,335]\u001b[0m Trial 45 finished with value: 0.102079976646358 and parameters: {'n_estimators': 100, 'max_depth': 3, 'min_samples_leaf': 2, 'min_samples_split': 8}. Best is trial 44 with value: 0.18612024264706398.\u001b[0m\n",
      "\u001b[32m[I 2023-08-29 01:03:29,421]\u001b[0m Trial 46 finished with value: 0.1561999673709228 and parameters: {'n_estimators': 46, 'max_depth': 6, 'min_samples_leaf': 5, 'min_samples_split': 5}. Best is trial 44 with value: 0.18612024264706398.\u001b[0m\n",
      "\u001b[32m[I 2023-08-29 01:03:32,247]\u001b[0m Trial 47 finished with value: 0.1794981706368283 and parameters: {'n_estimators': 83, 'max_depth': 10, 'min_samples_leaf': 2, 'min_samples_split': 9}. Best is trial 44 with value: 0.18612024264706398.\u001b[0m\n",
      "\u001b[32m[I 2023-08-29 01:03:32,997]\u001b[0m Trial 48 finished with value: 0.14153858970000122 and parameters: {'n_estimators': 35, 'max_depth': 5, 'min_samples_leaf': 3, 'min_samples_split': 7}. Best is trial 44 with value: 0.18612024264706398.\u001b[0m\n",
      "\u001b[32m[I 2023-08-29 01:03:35,191]\u001b[0m Trial 49 finished with value: 0.15105883200302406 and parameters: {'n_estimators': 92, 'max_depth': 7, 'min_samples_leaf': 9, 'min_samples_split': 5}. Best is trial 44 with value: 0.18612024264706398.\u001b[0m\n",
      "\u001b[32m[I 2023-08-29 01:03:37,106]\u001b[0m Trial 50 finished with value: 0.16323626312437503 and parameters: {'n_estimators': 71, 'max_depth': 8, 'min_samples_leaf': 6, 'min_samples_split': 3}. Best is trial 44 with value: 0.18612024264706398.\u001b[0m\n",
      "\u001b[32m[I 2023-08-29 01:03:40,264]\u001b[0m Trial 51 finished with value: 0.18624099027619945 and parameters: {'n_estimators': 95, 'max_depth': 10, 'min_samples_leaf': 3, 'min_samples_split': 8}. Best is trial 51 with value: 0.18624099027619945.\u001b[0m\n",
      "\u001b[32m[I 2023-08-29 01:03:43,342]\u001b[0m Trial 52 finished with value: 0.18187824312610712 and parameters: {'n_estimators': 97, 'max_depth': 10, 'min_samples_leaf': 4, 'min_samples_split': 8}. Best is trial 51 with value: 0.18624099027619945.\u001b[0m\n",
      "\u001b[32m[I 2023-08-29 01:03:46,053]\u001b[0m Trial 53 finished with value: 0.17753215434502434 and parameters: {'n_estimators': 85, 'max_depth': 9, 'min_samples_leaf': 2, 'min_samples_split': 9}. Best is trial 51 with value: 0.18624099027619945.\u001b[0m\n",
      "\u001b[32m[I 2023-08-29 01:03:49,249]\u001b[0m Trial 54 finished with value: 0.18141450410395604 and parameters: {'n_estimators': 89, 'max_depth': 10, 'min_samples_leaf': 1, 'min_samples_split': 7}. Best is trial 51 with value: 0.18624099027619945.\u001b[0m\n",
      "\u001b[32m[I 2023-08-29 01:03:52,435]\u001b[0m Trial 55 finished with value: 0.18380907906696672 and parameters: {'n_estimators': 100, 'max_depth': 9, 'min_samples_leaf': 3, 'min_samples_split': 6}. Best is trial 51 with value: 0.18624099027619945.\u001b[0m\n",
      "\u001b[32m[I 2023-08-29 01:03:55,469]\u001b[0m Trial 56 finished with value: 0.18019122665532947 and parameters: {'n_estimators': 100, 'max_depth': 9, 'min_samples_leaf': 4, 'min_samples_split': 4}. Best is trial 51 with value: 0.18624099027619945.\u001b[0m\n",
      "\u001b[32m[I 2023-08-29 01:03:58,262]\u001b[0m Trial 57 finished with value: 0.18119212162405657 and parameters: {'n_estimators': 93, 'max_depth': 8, 'min_samples_leaf': 3, 'min_samples_split': 6}. Best is trial 51 with value: 0.18624099027619945.\u001b[0m\n",
      "\u001b[32m[I 2023-08-29 01:04:00,999]\u001b[0m Trial 58 finished with value: 0.17806057383996013 and parameters: {'n_estimators': 83, 'max_depth': 9, 'min_samples_leaf': 2, 'min_samples_split': 6}. Best is trial 51 with value: 0.18624099027619945.\u001b[0m\n",
      "\u001b[32m[I 2023-08-29 01:04:03,154]\u001b[0m Trial 59 finished with value: 0.14071640115453413 and parameters: {'n_estimators': 96, 'max_depth': 9, 'min_samples_leaf': 15, 'min_samples_split': 5}. Best is trial 51 with value: 0.18624099027619945.\u001b[0m\n",
      "\u001b[32m[I 2023-08-29 01:04:05,309]\u001b[0m Trial 60 finished with value: 0.14973483182134967 and parameters: {'n_estimators': 86, 'max_depth': 10, 'min_samples_leaf': 11, 'min_samples_split': 2}. Best is trial 51 with value: 0.18624099027619945.\u001b[0m\n",
      "\u001b[32m[I 2023-08-29 01:04:08,533]\u001b[0m Trial 61 finished with value: 0.18702275892851156 and parameters: {'n_estimators': 97, 'max_depth': 10, 'min_samples_leaf': 3, 'min_samples_split': 7}. Best is trial 61 with value: 0.18702275892851156.\u001b[0m\n",
      "\u001b[32m[I 2023-08-29 01:04:11,792]\u001b[0m Trial 62 finished with value: 0.18242632656352648 and parameters: {'n_estimators': 91, 'max_depth': 10, 'min_samples_leaf': 1, 'min_samples_split': 7}. Best is trial 61 with value: 0.18702275892851156.\u001b[0m\n",
      "\u001b[32m[I 2023-08-29 01:04:14,832]\u001b[0m Trial 63 finished with value: 0.18458167720229957 and parameters: {'n_estimators': 97, 'max_depth': 9, 'min_samples_leaf': 3, 'min_samples_split': 8}. Best is trial 61 with value: 0.18702275892851156.\u001b[0m\n",
      "\u001b[32m[I 2023-08-29 01:04:17,799]\u001b[0m Trial 64 finished with value: 0.1728020850286401 and parameters: {'n_estimators': 97, 'max_depth': 10, 'min_samples_leaf': 5, 'min_samples_split': 8}. Best is trial 61 with value: 0.18702275892851156.\u001b[0m\n",
      "\u001b[32m[I 2023-08-29 01:04:20,454]\u001b[0m Trial 65 finished with value: 0.16473553960795617 and parameters: {'n_estimators': 94, 'max_depth': 9, 'min_samples_leaf': 6, 'min_samples_split': 4}. Best is trial 61 with value: 0.18702275892851156.\u001b[0m\n",
      "\u001b[32m[I 2023-08-29 01:04:23,375]\u001b[0m Trial 66 finished with value: 0.18014134112645275 and parameters: {'n_estimators': 98, 'max_depth': 8, 'min_samples_leaf': 3, 'min_samples_split': 5}. Best is trial 61 with value: 0.18702275892851156.\u001b[0m\n",
      "\u001b[32m[I 2023-08-29 01:04:25,284]\u001b[0m Trial 67 finished with value: 0.17552857036139077 and parameters: {'n_estimators': 60, 'max_depth': 10, 'min_samples_leaf': 4, 'min_samples_split': 6}. Best is trial 61 with value: 0.18702275892851156.\u001b[0m\n",
      "\u001b[32m[I 2023-08-29 01:04:28,064]\u001b[0m Trial 68 finished with value: 0.18413663326395174 and parameters: {'n_estimators': 88, 'max_depth': 9, 'min_samples_leaf': 3, 'min_samples_split': 8}. Best is trial 61 with value: 0.18702275892851156.\u001b[0m\n",
      "\u001b[32m[I 2023-08-29 01:04:30,624]\u001b[0m Trial 69 finished with value: 0.17765321233366305 and parameters: {'n_estimators': 81, 'max_depth': 10, 'min_samples_leaf': 4, 'min_samples_split': 9}. Best is trial 61 with value: 0.18702275892851156.\u001b[0m\n",
      "\u001b[32m[I 2023-08-29 01:04:33,161]\u001b[0m Trial 70 finished with value: 0.17102058286932426 and parameters: {'n_estimators': 87, 'max_depth': 9, 'min_samples_leaf': 5, 'min_samples_split': 8}. Best is trial 61 with value: 0.18702275892851156.\u001b[0m\n",
      "\u001b[32m[I 2023-08-29 01:04:36,110]\u001b[0m Trial 71 finished with value: 0.1786274622945827 and parameters: {'n_estimators': 100, 'max_depth': 8, 'min_samples_leaf': 3, 'min_samples_split': 7}. Best is trial 61 with value: 0.18702275892851156.\u001b[0m\n",
      "\u001b[32m[I 2023-08-29 01:04:39,052]\u001b[0m Trial 72 finished with value: 0.17656468856368368 and parameters: {'n_estimators': 94, 'max_depth': 9, 'min_samples_leaf': 2, 'min_samples_split': 11}. Best is trial 61 with value: 0.18702275892851156.\u001b[0m\n",
      "\u001b[32m[I 2023-08-29 01:04:41,863]\u001b[0m Trial 73 finished with value: 0.1838936286046383 and parameters: {'n_estimators': 89, 'max_depth': 9, 'min_samples_leaf': 3, 'min_samples_split': 8}. Best is trial 61 with value: 0.18702275892851156.\u001b[0m\n",
      "\u001b[32m[I 2023-08-29 01:04:44,679]\u001b[0m Trial 74 finished with value: 0.17620334761700338 and parameters: {'n_estimators': 90, 'max_depth': 10, 'min_samples_leaf': 4, 'min_samples_split': 10}. Best is trial 61 with value: 0.18702275892851156.\u001b[0m\n",
      "\u001b[32m[I 2023-08-29 01:04:47,700]\u001b[0m Trial 75 finished with value: 0.18236963001625958 and parameters: {'n_estimators': 92, 'max_depth': 9, 'min_samples_leaf': 2, 'min_samples_split': 8}. Best is trial 61 with value: 0.18702275892851156.\u001b[0m\n",
      "\u001b[32m[I 2023-08-29 01:04:50,606]\u001b[0m Trial 76 finished with value: 0.18348927036138724 and parameters: {'n_estimators': 89, 'max_depth': 10, 'min_samples_leaf': 3, 'min_samples_split': 9}. Best is trial 61 with value: 0.18702275892851156.\u001b[0m\n",
      "\u001b[32m[I 2023-08-29 01:04:53,572]\u001b[0m Trial 77 finished with value: 0.18015888827396548 and parameters: {'n_estimators': 96, 'max_depth': 8, 'min_samples_leaf': 1, 'min_samples_split': 7}. Best is trial 61 with value: 0.18702275892851156.\u001b[0m\n",
      "\u001b[32m[I 2023-08-29 01:04:55,690]\u001b[0m Trial 78 finished with value: 0.16498869001984942 and parameters: {'n_estimators': 75, 'max_depth': 9, 'min_samples_leaf': 6, 'min_samples_split': 8}. Best is trial 61 with value: 0.18702275892851156.\u001b[0m\n",
      "\u001b[32m[I 2023-08-29 01:04:58,278]\u001b[0m Trial 79 finished with value: 0.1784983010061227 and parameters: {'n_estimators': 82, 'max_depth': 10, 'min_samples_leaf': 3, 'min_samples_split': 12}. Best is trial 61 with value: 0.18702275892851156.\u001b[0m\n",
      "\u001b[32m[I 2023-08-29 01:05:00,762]\u001b[0m Trial 80 finished with value: 0.16506055443270104 and parameters: {'n_estimators': 87, 'max_depth': 9, 'min_samples_leaf': 5, 'min_samples_split': 16}. Best is trial 61 with value: 0.18702275892851156.\u001b[0m\n",
      "\u001b[32m[I 2023-08-29 01:05:03,970]\u001b[0m Trial 81 finished with value: 0.1820260495252785 and parameters: {'n_estimators': 98, 'max_depth': 9, 'min_samples_leaf': 2, 'min_samples_split': 6}. Best is trial 61 with value: 0.18702275892851156.\u001b[0m\n",
      "\u001b[32m[I 2023-08-29 01:05:06,754]\u001b[0m Trial 82 finished with value: 0.1805231597405486 and parameters: {'n_estimators': 94, 'max_depth': 8, 'min_samples_leaf': 3, 'min_samples_split': 6}. Best is trial 61 with value: 0.18702275892851156.\u001b[0m\n",
      "\u001b[32m[I 2023-08-29 01:05:09,976]\u001b[0m Trial 83 finished with value: 0.1818963988407454 and parameters: {'n_estimators': 98, 'max_depth': 9, 'min_samples_leaf': 1, 'min_samples_split': 9}. Best is trial 61 with value: 0.18702275892851156.\u001b[0m\n",
      "\u001b[32m[I 2023-08-29 01:05:12,429]\u001b[0m Trial 84 finished with value: 0.17424230137997376 and parameters: {'n_estimators': 91, 'max_depth': 7, 'min_samples_leaf': 3, 'min_samples_split': 7}. Best is trial 61 with value: 0.18702275892851156.\u001b[0m\n",
      "\u001b[32m[I 2023-08-29 01:05:15,398]\u001b[0m Trial 85 finished with value: 0.17642991534058333 and parameters: {'n_estimators': 95, 'max_depth': 10, 'min_samples_leaf': 4, 'min_samples_split': 10}. Best is trial 61 with value: 0.18702275892851156.\u001b[0m\n",
      "\u001b[32m[I 2023-08-29 01:05:18,138]\u001b[0m Trial 86 finished with value: 0.18244836873176384 and parameters: {'n_estimators': 85, 'max_depth': 9, 'min_samples_leaf': 3, 'min_samples_split': 5}. Best is trial 61 with value: 0.18702275892851156.\u001b[0m\n",
      "\u001b[32m[I 2023-08-29 01:05:18,799]\u001b[0m Trial 87 finished with value: 0.1438615039593396 and parameters: {'n_estimators': 20, 'max_depth': 9, 'min_samples_leaf': 2, 'min_samples_split': 8}. Best is trial 61 with value: 0.18702275892851156.\u001b[0m\n",
      "\u001b[32m[I 2023-08-29 01:05:21,550]\u001b[0m Trial 88 finished with value: 0.161365786750912 and parameters: {'n_estimators': 98, 'max_depth': 10, 'min_samples_leaf': 7, 'min_samples_split': 4}. Best is trial 61 with value: 0.18702275892851156.\u001b[0m\n",
      "\u001b[32m[I 2023-08-29 01:05:24,421]\u001b[0m Trial 89 finished with value: 0.17580102742120032 and parameters: {'n_estimators': 100, 'max_depth': 8, 'min_samples_leaf': 4, 'min_samples_split': 7}. Best is trial 61 with value: 0.18702275892851156.\u001b[0m\n",
      "\u001b[32m[I 2023-08-29 01:05:27,693]\u001b[0m Trial 90 finished with value: 0.18299121530752643 and parameters: {'n_estimators': 93, 'max_depth': 10, 'min_samples_leaf': 1, 'min_samples_split': 9}. Best is trial 61 with value: 0.18702275892851156.\u001b[0m\n",
      "\u001b[32m[I 2023-08-29 01:05:30,580]\u001b[0m Trial 91 finished with value: 0.1862579876331354 and parameters: {'n_estimators': 88, 'max_depth': 10, 'min_samples_leaf': 3, 'min_samples_split': 8}. Best is trial 61 with value: 0.18702275892851156.\u001b[0m\n",
      "\u001b[32m[I 2023-08-29 01:05:33,598]\u001b[0m Trial 92 finished with value: 0.1836107127394113 and parameters: {'n_estimators': 89, 'max_depth': 10, 'min_samples_leaf': 2, 'min_samples_split': 8}. Best is trial 61 with value: 0.18702275892851156.\u001b[0m\n",
      "\u001b[32m[I 2023-08-29 01:05:36,663]\u001b[0m Trial 93 finished with value: 0.1843456324806697 and parameters: {'n_estimators': 96, 'max_depth': 9, 'min_samples_leaf': 3, 'min_samples_split': 6}. Best is trial 61 with value: 0.18702275892851156.\u001b[0m\n",
      "\u001b[32m[I 2023-08-29 01:05:39,445]\u001b[0m Trial 94 finished with value: 0.17250696346338323 and parameters: {'n_estimators': 92, 'max_depth': 10, 'min_samples_leaf': 5, 'min_samples_split': 3}. Best is trial 61 with value: 0.18702275892851156.\u001b[0m\n",
      "\u001b[32m[I 2023-08-29 01:05:42,401]\u001b[0m Trial 95 finished with value: 0.17984627315555338 and parameters: {'n_estimators': 96, 'max_depth': 9, 'min_samples_leaf': 4, 'min_samples_split': 5}. Best is trial 61 with value: 0.18702275892851156.\u001b[0m\n",
      "\u001b[32m[I 2023-08-29 01:05:45,309]\u001b[0m Trial 96 finished with value: 0.18059609765983134 and parameters: {'n_estimators': 84, 'max_depth': 10, 'min_samples_leaf': 2, 'min_samples_split': 7}. Best is trial 61 with value: 0.18702275892851156.\u001b[0m\n",
      "\u001b[32m[I 2023-08-29 01:05:47,202]\u001b[0m Trial 97 finished with value: 0.1472273073338693 and parameters: {'n_estimators': 88, 'max_depth': 5, 'min_samples_leaf': 1, 'min_samples_split': 6}. Best is trial 61 with value: 0.18702275892851156.\u001b[0m\n",
      "\u001b[32m[I 2023-08-29 01:05:49,141]\u001b[0m Trial 98 finished with value: 0.1327750262496298 and parameters: {'n_estimators': 95, 'max_depth': 9, 'min_samples_leaf': 20, 'min_samples_split': 9}. Best is trial 61 with value: 0.18702275892851156.\u001b[0m\n",
      "\u001b[32m[I 2023-08-29 01:05:50,603]\u001b[0m Trial 99 finished with value: 0.17444169859857264 and parameters: {'n_estimators': 45, 'max_depth': 10, 'min_samples_leaf': 4, 'min_samples_split': 8}. Best is trial 61 with value: 0.18702275892851156.\u001b[0m\n"
     ]
    },
    {
     "name": "stdout",
     "output_type": "stream",
     "text": [
      "Best r2:  0.18702275892851156\n",
      "Best trial: {'n_estimators': 97, 'max_depth': 10, 'min_samples_leaf': 3, 'min_samples_split': 7}\n"
     ]
    }
   ],
   "source": [
    "sampler = TPESampler()\n",
    "study = optuna.create_study(\n",
    "    study_name=\"rf_parameter_opt\",\n",
    "    direction=\"maximize\",\n",
    "    sampler=sampler,\n",
    ")\n",
    "\n",
    "study.optimize(lambda trial : objectiveRF(trial, As_X_train, As_y_train), n_trials=100)\n",
    "print(\"Best r2: \", study.best_value)\n",
    "print(\"Best trial:\", study.best_trial.params)"
   ]
  },
  {
   "cell_type": "code",
   "execution_count": 71,
   "id": "ded0e0f8",
   "metadata": {},
   "outputs": [
    {
     "data": {
      "application/vnd.plotly.v1+json": {
       "config": {
        "plotlyServerURL": "https://plot.ly"
       },
       "data": [
        {
         "dimensions": [
          {
           "label": "Objective Value",
           "range": [
            0.03645501213842637,
            0.18702275892851156
           ],
           "values": [
            0.1334686199806311,
            0.0719981376899091,
            0.03645501213842637,
            0.1824163876514266,
            0.12585205658910836,
            0.07224787192808757,
            0.13762948293027352,
            0.1601908346865648,
            0.14561306179106676,
            0.13494635266456714,
            0.17005073626299763,
            0.1674731274353651,
            0.17018448123731958,
            0.16634018717755913,
            0.15352462843575718,
            0.17718040273749727,
            0.16635434309413347,
            0.14239534076755528,
            0.1484833219226928,
            0.1375302714728944,
            0.18156609354067854,
            0.1825101667391558,
            0.18160036456454548,
            0.17926416948346377,
            0.17746619880128303,
            0.1791814347926913,
            0.18225792007426034,
            0.16423790723329912,
            0.12542274805115922,
            0.13130671716064587,
            0.13566082963702014,
            0.18483522087339715,
            0.17814712575619324,
            0.1733772117866959,
            0.1805992432069234,
            0.16856995809166997,
            0.07364275749242517,
            0.15996461734479187,
            0.0396241857190079,
            0.12553452032268314,
            0.14291124501747937,
            0.18205191648914082,
            0.18409965043236984,
            0.17589869797699337,
            0.18612024264706398,
            0.102079976646358,
            0.1561999673709228,
            0.1794981706368283,
            0.14153858970000122,
            0.15105883200302406,
            0.16323626312437503,
            0.18624099027619945,
            0.18187824312610712,
            0.17753215434502434,
            0.18141450410395604,
            0.18380907906696672,
            0.18019122665532947,
            0.18119212162405657,
            0.17806057383996013,
            0.14071640115453413,
            0.14973483182134967,
            0.18702275892851156,
            0.18242632656352648,
            0.18458167720229957,
            0.1728020850286401,
            0.16473553960795617,
            0.18014134112645275,
            0.17552857036139077,
            0.18413663326395174,
            0.17765321233366305,
            0.17102058286932426,
            0.1786274622945827,
            0.17656468856368368,
            0.1838936286046383,
            0.17620334761700338,
            0.18236963001625958,
            0.18348927036138724,
            0.18015888827396548,
            0.16498869001984942,
            0.1784983010061227,
            0.16506055443270104,
            0.1820260495252785,
            0.1805231597405486,
            0.1818963988407454,
            0.17424230137997376,
            0.17642991534058333,
            0.18244836873176384,
            0.1438615039593396,
            0.161365786750912,
            0.17580102742120032,
            0.18299121530752643,
            0.1862579876331354,
            0.1836107127394113,
            0.1843456324806697,
            0.17250696346338323,
            0.17984627315555338,
            0.18059609765983134,
            0.1472273073338693,
            0.1327750262496298,
            0.17444169859857264
           ]
          },
          {
           "label": "max_depth",
           "range": [
            1,
            10
           ],
           "values": [
            8,
            2,
            1,
            10,
            4,
            2,
            5,
            9,
            7,
            6,
            10,
            10,
            10,
            8,
            10,
            8,
            8,
            7,
            9,
            6,
            9,
            9,
            9,
            9,
            7,
            9,
            10,
            10,
            4,
            8,
            10,
            9,
            8,
            10,
            9,
            7,
            2,
            9,
            1,
            4,
            10,
            9,
            9,
            8,
            10,
            3,
            6,
            10,
            5,
            7,
            8,
            10,
            10,
            9,
            10,
            9,
            9,
            8,
            9,
            9,
            10,
            10,
            10,
            9,
            10,
            9,
            8,
            10,
            9,
            10,
            9,
            8,
            9,
            9,
            10,
            9,
            10,
            8,
            9,
            10,
            9,
            9,
            8,
            9,
            7,
            10,
            9,
            9,
            10,
            8,
            10,
            10,
            10,
            9,
            10,
            9,
            10,
            5,
            9,
            10
           ]
          },
          {
           "label": "min_samples_leaf",
           "range": [
            1,
            20
           ],
           "values": [
            16,
            10,
            6,
            2,
            2,
            20,
            6,
            7,
            11,
            15,
            2,
            1,
            3,
            4,
            9,
            3,
            5,
            12,
            8,
            13,
            1,
            1,
            1,
            4,
            1,
            4,
            3,
            6,
            3,
            19,
            17,
            1,
            2,
            5,
            3,
            2,
            5,
            7,
            1,
            2,
            7,
            1,
            2,
            4,
            3,
            2,
            5,
            2,
            3,
            9,
            6,
            3,
            4,
            2,
            1,
            3,
            4,
            3,
            2,
            15,
            11,
            3,
            1,
            3,
            5,
            6,
            3,
            4,
            3,
            4,
            5,
            3,
            2,
            3,
            4,
            2,
            3,
            1,
            6,
            3,
            5,
            2,
            3,
            1,
            3,
            4,
            3,
            2,
            7,
            4,
            1,
            3,
            2,
            3,
            5,
            4,
            2,
            1,
            20,
            4
           ]
          },
          {
           "label": "min_samples_split",
           "range": [
            2,
            20
           ],
           "values": [
            5,
            2,
            12,
            9,
            9,
            15,
            5,
            8,
            15,
            4,
            19,
            20,
            19,
            13,
            17,
            8,
            9,
            7,
            11,
            10,
            7,
            7,
            6,
            6,
            3,
            6,
            10,
            13,
            11,
            10,
            14,
            5,
            2,
            4,
            9,
            8,
            5,
            12,
            7,
            4,
            10,
            6,
            5,
            3,
            8,
            8,
            5,
            9,
            7,
            5,
            3,
            8,
            8,
            9,
            7,
            6,
            4,
            6,
            6,
            5,
            2,
            7,
            7,
            8,
            8,
            4,
            5,
            6,
            8,
            9,
            8,
            7,
            11,
            8,
            10,
            8,
            9,
            7,
            8,
            12,
            16,
            6,
            6,
            9,
            7,
            10,
            5,
            8,
            4,
            7,
            9,
            8,
            8,
            6,
            3,
            5,
            7,
            6,
            9,
            8
           ]
          },
          {
           "label": "n_estimators",
           "range": [
            11,
            100
           ],
           "values": [
            66,
            45,
            11,
            99,
            93,
            30,
            42,
            52,
            52,
            74,
            98,
            100,
            84,
            83,
            83,
            70,
            66,
            65,
            27,
            74,
            88,
            90,
            90,
            93,
            79,
            92,
            97,
            95,
            99,
            60,
            80,
            89,
            88,
            100,
            88,
            78,
            95,
            86,
            94,
            77,
            12,
            91,
            97,
            96,
            100,
            100,
            46,
            83,
            35,
            92,
            71,
            95,
            97,
            85,
            89,
            100,
            100,
            93,
            83,
            96,
            86,
            97,
            91,
            97,
            97,
            94,
            98,
            60,
            88,
            81,
            87,
            100,
            94,
            89,
            90,
            92,
            89,
            96,
            75,
            82,
            87,
            98,
            94,
            98,
            91,
            95,
            85,
            20,
            98,
            100,
            93,
            88,
            89,
            96,
            92,
            96,
            84,
            88,
            95,
            45
           ]
          }
         ],
         "labelangle": 30,
         "labelside": "bottom",
         "line": {
          "color": [
           0.1334686199806311,
           0.0719981376899091,
           0.03645501213842637,
           0.1824163876514266,
           0.12585205658910836,
           0.07224787192808757,
           0.13762948293027352,
           0.1601908346865648,
           0.14561306179106676,
           0.13494635266456714,
           0.17005073626299763,
           0.1674731274353651,
           0.17018448123731958,
           0.16634018717755913,
           0.15352462843575718,
           0.17718040273749727,
           0.16635434309413347,
           0.14239534076755528,
           0.1484833219226928,
           0.1375302714728944,
           0.18156609354067854,
           0.1825101667391558,
           0.18160036456454548,
           0.17926416948346377,
           0.17746619880128303,
           0.1791814347926913,
           0.18225792007426034,
           0.16423790723329912,
           0.12542274805115922,
           0.13130671716064587,
           0.13566082963702014,
           0.18483522087339715,
           0.17814712575619324,
           0.1733772117866959,
           0.1805992432069234,
           0.16856995809166997,
           0.07364275749242517,
           0.15996461734479187,
           0.0396241857190079,
           0.12553452032268314,
           0.14291124501747937,
           0.18205191648914082,
           0.18409965043236984,
           0.17589869797699337,
           0.18612024264706398,
           0.102079976646358,
           0.1561999673709228,
           0.1794981706368283,
           0.14153858970000122,
           0.15105883200302406,
           0.16323626312437503,
           0.18624099027619945,
           0.18187824312610712,
           0.17753215434502434,
           0.18141450410395604,
           0.18380907906696672,
           0.18019122665532947,
           0.18119212162405657,
           0.17806057383996013,
           0.14071640115453413,
           0.14973483182134967,
           0.18702275892851156,
           0.18242632656352648,
           0.18458167720229957,
           0.1728020850286401,
           0.16473553960795617,
           0.18014134112645275,
           0.17552857036139077,
           0.18413663326395174,
           0.17765321233366305,
           0.17102058286932426,
           0.1786274622945827,
           0.17656468856368368,
           0.1838936286046383,
           0.17620334761700338,
           0.18236963001625958,
           0.18348927036138724,
           0.18015888827396548,
           0.16498869001984942,
           0.1784983010061227,
           0.16506055443270104,
           0.1820260495252785,
           0.1805231597405486,
           0.1818963988407454,
           0.17424230137997376,
           0.17642991534058333,
           0.18244836873176384,
           0.1438615039593396,
           0.161365786750912,
           0.17580102742120032,
           0.18299121530752643,
           0.1862579876331354,
           0.1836107127394113,
           0.1843456324806697,
           0.17250696346338323,
           0.17984627315555338,
           0.18059609765983134,
           0.1472273073338693,
           0.1327750262496298,
           0.17444169859857264
          ],
          "colorbar": {
           "title": {
            "text": "Objective Value"
           }
          },
          "colorscale": [
           [
            0,
            "rgb(247,251,255)"
           ],
           [
            0.125,
            "rgb(222,235,247)"
           ],
           [
            0.25,
            "rgb(198,219,239)"
           ],
           [
            0.375,
            "rgb(158,202,225)"
           ],
           [
            0.5,
            "rgb(107,174,214)"
           ],
           [
            0.625,
            "rgb(66,146,198)"
           ],
           [
            0.75,
            "rgb(33,113,181)"
           ],
           [
            0.875,
            "rgb(8,81,156)"
           ],
           [
            1,
            "rgb(8,48,107)"
           ]
          ],
          "reversescale": false,
          "showscale": true
         },
         "type": "parcoords"
        }
       ],
       "layout": {
        "template": {
         "data": {
          "bar": [
           {
            "error_x": {
             "color": "#2a3f5f"
            },
            "error_y": {
             "color": "#2a3f5f"
            },
            "marker": {
             "line": {
              "color": "#E5ECF6",
              "width": 0.5
             },
             "pattern": {
              "fillmode": "overlay",
              "size": 10,
              "solidity": 0.2
             }
            },
            "type": "bar"
           }
          ],
          "barpolar": [
           {
            "marker": {
             "line": {
              "color": "#E5ECF6",
              "width": 0.5
             },
             "pattern": {
              "fillmode": "overlay",
              "size": 10,
              "solidity": 0.2
             }
            },
            "type": "barpolar"
           }
          ],
          "carpet": [
           {
            "aaxis": {
             "endlinecolor": "#2a3f5f",
             "gridcolor": "white",
             "linecolor": "white",
             "minorgridcolor": "white",
             "startlinecolor": "#2a3f5f"
            },
            "baxis": {
             "endlinecolor": "#2a3f5f",
             "gridcolor": "white",
             "linecolor": "white",
             "minorgridcolor": "white",
             "startlinecolor": "#2a3f5f"
            },
            "type": "carpet"
           }
          ],
          "choropleth": [
           {
            "colorbar": {
             "outlinewidth": 0,
             "ticks": ""
            },
            "type": "choropleth"
           }
          ],
          "contour": [
           {
            "colorbar": {
             "outlinewidth": 0,
             "ticks": ""
            },
            "colorscale": [
             [
              0,
              "#0d0887"
             ],
             [
              0.1111111111111111,
              "#46039f"
             ],
             [
              0.2222222222222222,
              "#7201a8"
             ],
             [
              0.3333333333333333,
              "#9c179e"
             ],
             [
              0.4444444444444444,
              "#bd3786"
             ],
             [
              0.5555555555555556,
              "#d8576b"
             ],
             [
              0.6666666666666666,
              "#ed7953"
             ],
             [
              0.7777777777777778,
              "#fb9f3a"
             ],
             [
              0.8888888888888888,
              "#fdca26"
             ],
             [
              1,
              "#f0f921"
             ]
            ],
            "type": "contour"
           }
          ],
          "contourcarpet": [
           {
            "colorbar": {
             "outlinewidth": 0,
             "ticks": ""
            },
            "type": "contourcarpet"
           }
          ],
          "heatmap": [
           {
            "colorbar": {
             "outlinewidth": 0,
             "ticks": ""
            },
            "colorscale": [
             [
              0,
              "#0d0887"
             ],
             [
              0.1111111111111111,
              "#46039f"
             ],
             [
              0.2222222222222222,
              "#7201a8"
             ],
             [
              0.3333333333333333,
              "#9c179e"
             ],
             [
              0.4444444444444444,
              "#bd3786"
             ],
             [
              0.5555555555555556,
              "#d8576b"
             ],
             [
              0.6666666666666666,
              "#ed7953"
             ],
             [
              0.7777777777777778,
              "#fb9f3a"
             ],
             [
              0.8888888888888888,
              "#fdca26"
             ],
             [
              1,
              "#f0f921"
             ]
            ],
            "type": "heatmap"
           }
          ],
          "heatmapgl": [
           {
            "colorbar": {
             "outlinewidth": 0,
             "ticks": ""
            },
            "colorscale": [
             [
              0,
              "#0d0887"
             ],
             [
              0.1111111111111111,
              "#46039f"
             ],
             [
              0.2222222222222222,
              "#7201a8"
             ],
             [
              0.3333333333333333,
              "#9c179e"
             ],
             [
              0.4444444444444444,
              "#bd3786"
             ],
             [
              0.5555555555555556,
              "#d8576b"
             ],
             [
              0.6666666666666666,
              "#ed7953"
             ],
             [
              0.7777777777777778,
              "#fb9f3a"
             ],
             [
              0.8888888888888888,
              "#fdca26"
             ],
             [
              1,
              "#f0f921"
             ]
            ],
            "type": "heatmapgl"
           }
          ],
          "histogram": [
           {
            "marker": {
             "pattern": {
              "fillmode": "overlay",
              "size": 10,
              "solidity": 0.2
             }
            },
            "type": "histogram"
           }
          ],
          "histogram2d": [
           {
            "colorbar": {
             "outlinewidth": 0,
             "ticks": ""
            },
            "colorscale": [
             [
              0,
              "#0d0887"
             ],
             [
              0.1111111111111111,
              "#46039f"
             ],
             [
              0.2222222222222222,
              "#7201a8"
             ],
             [
              0.3333333333333333,
              "#9c179e"
             ],
             [
              0.4444444444444444,
              "#bd3786"
             ],
             [
              0.5555555555555556,
              "#d8576b"
             ],
             [
              0.6666666666666666,
              "#ed7953"
             ],
             [
              0.7777777777777778,
              "#fb9f3a"
             ],
             [
              0.8888888888888888,
              "#fdca26"
             ],
             [
              1,
              "#f0f921"
             ]
            ],
            "type": "histogram2d"
           }
          ],
          "histogram2dcontour": [
           {
            "colorbar": {
             "outlinewidth": 0,
             "ticks": ""
            },
            "colorscale": [
             [
              0,
              "#0d0887"
             ],
             [
              0.1111111111111111,
              "#46039f"
             ],
             [
              0.2222222222222222,
              "#7201a8"
             ],
             [
              0.3333333333333333,
              "#9c179e"
             ],
             [
              0.4444444444444444,
              "#bd3786"
             ],
             [
              0.5555555555555556,
              "#d8576b"
             ],
             [
              0.6666666666666666,
              "#ed7953"
             ],
             [
              0.7777777777777778,
              "#fb9f3a"
             ],
             [
              0.8888888888888888,
              "#fdca26"
             ],
             [
              1,
              "#f0f921"
             ]
            ],
            "type": "histogram2dcontour"
           }
          ],
          "mesh3d": [
           {
            "colorbar": {
             "outlinewidth": 0,
             "ticks": ""
            },
            "type": "mesh3d"
           }
          ],
          "parcoords": [
           {
            "line": {
             "colorbar": {
              "outlinewidth": 0,
              "ticks": ""
             }
            },
            "type": "parcoords"
           }
          ],
          "pie": [
           {
            "automargin": true,
            "type": "pie"
           }
          ],
          "scatter": [
           {
            "marker": {
             "colorbar": {
              "outlinewidth": 0,
              "ticks": ""
             }
            },
            "type": "scatter"
           }
          ],
          "scatter3d": [
           {
            "line": {
             "colorbar": {
              "outlinewidth": 0,
              "ticks": ""
             }
            },
            "marker": {
             "colorbar": {
              "outlinewidth": 0,
              "ticks": ""
             }
            },
            "type": "scatter3d"
           }
          ],
          "scattercarpet": [
           {
            "marker": {
             "colorbar": {
              "outlinewidth": 0,
              "ticks": ""
             }
            },
            "type": "scattercarpet"
           }
          ],
          "scattergeo": [
           {
            "marker": {
             "colorbar": {
              "outlinewidth": 0,
              "ticks": ""
             }
            },
            "type": "scattergeo"
           }
          ],
          "scattergl": [
           {
            "marker": {
             "colorbar": {
              "outlinewidth": 0,
              "ticks": ""
             }
            },
            "type": "scattergl"
           }
          ],
          "scattermapbox": [
           {
            "marker": {
             "colorbar": {
              "outlinewidth": 0,
              "ticks": ""
             }
            },
            "type": "scattermapbox"
           }
          ],
          "scatterpolar": [
           {
            "marker": {
             "colorbar": {
              "outlinewidth": 0,
              "ticks": ""
             }
            },
            "type": "scatterpolar"
           }
          ],
          "scatterpolargl": [
           {
            "marker": {
             "colorbar": {
              "outlinewidth": 0,
              "ticks": ""
             }
            },
            "type": "scatterpolargl"
           }
          ],
          "scatterternary": [
           {
            "marker": {
             "colorbar": {
              "outlinewidth": 0,
              "ticks": ""
             }
            },
            "type": "scatterternary"
           }
          ],
          "surface": [
           {
            "colorbar": {
             "outlinewidth": 0,
             "ticks": ""
            },
            "colorscale": [
             [
              0,
              "#0d0887"
             ],
             [
              0.1111111111111111,
              "#46039f"
             ],
             [
              0.2222222222222222,
              "#7201a8"
             ],
             [
              0.3333333333333333,
              "#9c179e"
             ],
             [
              0.4444444444444444,
              "#bd3786"
             ],
             [
              0.5555555555555556,
              "#d8576b"
             ],
             [
              0.6666666666666666,
              "#ed7953"
             ],
             [
              0.7777777777777778,
              "#fb9f3a"
             ],
             [
              0.8888888888888888,
              "#fdca26"
             ],
             [
              1,
              "#f0f921"
             ]
            ],
            "type": "surface"
           }
          ],
          "table": [
           {
            "cells": {
             "fill": {
              "color": "#EBF0F8"
             },
             "line": {
              "color": "white"
             }
            },
            "header": {
             "fill": {
              "color": "#C8D4E3"
             },
             "line": {
              "color": "white"
             }
            },
            "type": "table"
           }
          ]
         },
         "layout": {
          "annotationdefaults": {
           "arrowcolor": "#2a3f5f",
           "arrowhead": 0,
           "arrowwidth": 1
          },
          "autotypenumbers": "strict",
          "coloraxis": {
           "colorbar": {
            "outlinewidth": 0,
            "ticks": ""
           }
          },
          "colorscale": {
           "diverging": [
            [
             0,
             "#8e0152"
            ],
            [
             0.1,
             "#c51b7d"
            ],
            [
             0.2,
             "#de77ae"
            ],
            [
             0.3,
             "#f1b6da"
            ],
            [
             0.4,
             "#fde0ef"
            ],
            [
             0.5,
             "#f7f7f7"
            ],
            [
             0.6,
             "#e6f5d0"
            ],
            [
             0.7,
             "#b8e186"
            ],
            [
             0.8,
             "#7fbc41"
            ],
            [
             0.9,
             "#4d9221"
            ],
            [
             1,
             "#276419"
            ]
           ],
           "sequential": [
            [
             0,
             "#0d0887"
            ],
            [
             0.1111111111111111,
             "#46039f"
            ],
            [
             0.2222222222222222,
             "#7201a8"
            ],
            [
             0.3333333333333333,
             "#9c179e"
            ],
            [
             0.4444444444444444,
             "#bd3786"
            ],
            [
             0.5555555555555556,
             "#d8576b"
            ],
            [
             0.6666666666666666,
             "#ed7953"
            ],
            [
             0.7777777777777778,
             "#fb9f3a"
            ],
            [
             0.8888888888888888,
             "#fdca26"
            ],
            [
             1,
             "#f0f921"
            ]
           ],
           "sequentialminus": [
            [
             0,
             "#0d0887"
            ],
            [
             0.1111111111111111,
             "#46039f"
            ],
            [
             0.2222222222222222,
             "#7201a8"
            ],
            [
             0.3333333333333333,
             "#9c179e"
            ],
            [
             0.4444444444444444,
             "#bd3786"
            ],
            [
             0.5555555555555556,
             "#d8576b"
            ],
            [
             0.6666666666666666,
             "#ed7953"
            ],
            [
             0.7777777777777778,
             "#fb9f3a"
            ],
            [
             0.8888888888888888,
             "#fdca26"
            ],
            [
             1,
             "#f0f921"
            ]
           ]
          },
          "colorway": [
           "#636efa",
           "#EF553B",
           "#00cc96",
           "#ab63fa",
           "#FFA15A",
           "#19d3f3",
           "#FF6692",
           "#B6E880",
           "#FF97FF",
           "#FECB52"
          ],
          "font": {
           "color": "#2a3f5f"
          },
          "geo": {
           "bgcolor": "white",
           "lakecolor": "white",
           "landcolor": "#E5ECF6",
           "showlakes": true,
           "showland": true,
           "subunitcolor": "white"
          },
          "hoverlabel": {
           "align": "left"
          },
          "hovermode": "closest",
          "mapbox": {
           "style": "light"
          },
          "paper_bgcolor": "white",
          "plot_bgcolor": "#E5ECF6",
          "polar": {
           "angularaxis": {
            "gridcolor": "white",
            "linecolor": "white",
            "ticks": ""
           },
           "bgcolor": "#E5ECF6",
           "radialaxis": {
            "gridcolor": "white",
            "linecolor": "white",
            "ticks": ""
           }
          },
          "scene": {
           "xaxis": {
            "backgroundcolor": "#E5ECF6",
            "gridcolor": "white",
            "gridwidth": 2,
            "linecolor": "white",
            "showbackground": true,
            "ticks": "",
            "zerolinecolor": "white"
           },
           "yaxis": {
            "backgroundcolor": "#E5ECF6",
            "gridcolor": "white",
            "gridwidth": 2,
            "linecolor": "white",
            "showbackground": true,
            "ticks": "",
            "zerolinecolor": "white"
           },
           "zaxis": {
            "backgroundcolor": "#E5ECF6",
            "gridcolor": "white",
            "gridwidth": 2,
            "linecolor": "white",
            "showbackground": true,
            "ticks": "",
            "zerolinecolor": "white"
           }
          },
          "shapedefaults": {
           "line": {
            "color": "#2a3f5f"
           }
          },
          "ternary": {
           "aaxis": {
            "gridcolor": "white",
            "linecolor": "white",
            "ticks": ""
           },
           "baxis": {
            "gridcolor": "white",
            "linecolor": "white",
            "ticks": ""
           },
           "bgcolor": "#E5ECF6",
           "caxis": {
            "gridcolor": "white",
            "linecolor": "white",
            "ticks": ""
           }
          },
          "title": {
           "x": 0.05
          },
          "xaxis": {
           "automargin": true,
           "gridcolor": "white",
           "linecolor": "white",
           "ticks": "",
           "title": {
            "standoff": 15
           },
           "zerolinecolor": "white",
           "zerolinewidth": 2
          },
          "yaxis": {
           "automargin": true,
           "gridcolor": "white",
           "linecolor": "white",
           "ticks": "",
           "title": {
            "standoff": 15
           },
           "zerolinecolor": "white",
           "zerolinewidth": 2
          }
         }
        },
        "title": {
         "text": "Parallel Coordinate Plot"
        }
       }
      }
     },
     "metadata": {},
     "output_type": "display_data"
    }
   ],
   "source": [
    "optuna.visualization.plot_parallel_coordinate(study)"
   ]
  },
  {
   "cell_type": "code",
   "execution_count": 72,
   "id": "75db1ddf",
   "metadata": {},
   "outputs": [
    {
     "name": "stdout",
     "output_type": "stream",
     "text": [
      "Best trial: {'n_estimators': 97, 'max_depth': 10, 'min_samples_leaf': 3, 'min_samples_split': 7}\n"
     ]
    }
   ],
   "source": [
    "print(\"Best trial:\", study.best_trial.params)"
   ]
  },
  {
   "cell_type": "code",
   "execution_count": 73,
   "id": "574699dc",
   "metadata": {},
   "outputs": [
    {
     "data": {
      "text/plain": [
       "97"
      ]
     },
     "execution_count": 73,
     "metadata": {},
     "output_type": "execute_result"
    }
   ],
   "source": [
    "study.best_trial.params[\"n_estimators\"]"
   ]
  },
  {
   "cell_type": "code",
   "execution_count": 74,
   "id": "862eadd2",
   "metadata": {},
   "outputs": [
    {
     "data": {
      "text/html": [
       "<style>#sk-container-id-2 {color: black;}#sk-container-id-2 pre{padding: 0;}#sk-container-id-2 div.sk-toggleable {background-color: white;}#sk-container-id-2 label.sk-toggleable__label {cursor: pointer;display: block;width: 100%;margin-bottom: 0;padding: 0.3em;box-sizing: border-box;text-align: center;}#sk-container-id-2 label.sk-toggleable__label-arrow:before {content: \"▸\";float: left;margin-right: 0.25em;color: #696969;}#sk-container-id-2 label.sk-toggleable__label-arrow:hover:before {color: black;}#sk-container-id-2 div.sk-estimator:hover label.sk-toggleable__label-arrow:before {color: black;}#sk-container-id-2 div.sk-toggleable__content {max-height: 0;max-width: 0;overflow: hidden;text-align: left;background-color: #f0f8ff;}#sk-container-id-2 div.sk-toggleable__content pre {margin: 0.2em;color: black;border-radius: 0.25em;background-color: #f0f8ff;}#sk-container-id-2 input.sk-toggleable__control:checked~div.sk-toggleable__content {max-height: 200px;max-width: 100%;overflow: auto;}#sk-container-id-2 input.sk-toggleable__control:checked~label.sk-toggleable__label-arrow:before {content: \"▾\";}#sk-container-id-2 div.sk-estimator input.sk-toggleable__control:checked~label.sk-toggleable__label {background-color: #d4ebff;}#sk-container-id-2 div.sk-label input.sk-toggleable__control:checked~label.sk-toggleable__label {background-color: #d4ebff;}#sk-container-id-2 input.sk-hidden--visually {border: 0;clip: rect(1px 1px 1px 1px);clip: rect(1px, 1px, 1px, 1px);height: 1px;margin: -1px;overflow: hidden;padding: 0;position: absolute;width: 1px;}#sk-container-id-2 div.sk-estimator {font-family: monospace;background-color: #f0f8ff;border: 1px dotted black;border-radius: 0.25em;box-sizing: border-box;margin-bottom: 0.5em;}#sk-container-id-2 div.sk-estimator:hover {background-color: #d4ebff;}#sk-container-id-2 div.sk-parallel-item::after {content: \"\";width: 100%;border-bottom: 1px solid gray;flex-grow: 1;}#sk-container-id-2 div.sk-label:hover label.sk-toggleable__label {background-color: #d4ebff;}#sk-container-id-2 div.sk-serial::before {content: \"\";position: absolute;border-left: 1px solid gray;box-sizing: border-box;top: 0;bottom: 0;left: 50%;z-index: 0;}#sk-container-id-2 div.sk-serial {display: flex;flex-direction: column;align-items: center;background-color: white;padding-right: 0.2em;padding-left: 0.2em;position: relative;}#sk-container-id-2 div.sk-item {position: relative;z-index: 1;}#sk-container-id-2 div.sk-parallel {display: flex;align-items: stretch;justify-content: center;background-color: white;position: relative;}#sk-container-id-2 div.sk-item::before, #sk-container-id-2 div.sk-parallel-item::before {content: \"\";position: absolute;border-left: 1px solid gray;box-sizing: border-box;top: 0;bottom: 0;left: 50%;z-index: -1;}#sk-container-id-2 div.sk-parallel-item {display: flex;flex-direction: column;z-index: 1;position: relative;background-color: white;}#sk-container-id-2 div.sk-parallel-item:first-child::after {align-self: flex-end;width: 50%;}#sk-container-id-2 div.sk-parallel-item:last-child::after {align-self: flex-start;width: 50%;}#sk-container-id-2 div.sk-parallel-item:only-child::after {width: 0;}#sk-container-id-2 div.sk-dashed-wrapped {border: 1px dashed gray;margin: 0 0.4em 0.5em 0.4em;box-sizing: border-box;padding-bottom: 0.4em;background-color: white;}#sk-container-id-2 div.sk-label label {font-family: monospace;font-weight: bold;display: inline-block;line-height: 1.2em;}#sk-container-id-2 div.sk-label-container {text-align: center;}#sk-container-id-2 div.sk-container {/* jupyter's `normalize.less` sets `[hidden] { display: none; }` but bootstrap.min.css set `[hidden] { display: none !important; }` so we also need the `!important` here to be able to override the default hidden behavior on the sphinx rendered scikit-learn.org. See: https://github.com/scikit-learn/scikit-learn/issues/21755 */display: inline-block !important;position: relative;}#sk-container-id-2 div.sk-text-repr-fallback {display: none;}</style><div id=\"sk-container-id-2\" class=\"sk-top-container\"><div class=\"sk-text-repr-fallback\"><pre>RandomForestRegressor(max_depth=10, min_samples_leaf=3, min_samples_split=7,\n",
       "                      n_estimators=97, random_state=42)</pre><b>In a Jupyter environment, please rerun this cell to show the HTML representation or trust the notebook. <br />On GitHub, the HTML representation is unable to render, please try loading this page with nbviewer.org.</b></div><div class=\"sk-container\" hidden><div class=\"sk-item\"><div class=\"sk-estimator sk-toggleable\"><input class=\"sk-toggleable__control sk-hidden--visually\" id=\"sk-estimator-id-2\" type=\"checkbox\" checked><label for=\"sk-estimator-id-2\" class=\"sk-toggleable__label sk-toggleable__label-arrow\">RandomForestRegressor</label><div class=\"sk-toggleable__content\"><pre>RandomForestRegressor(max_depth=10, min_samples_leaf=3, min_samples_split=7,\n",
       "                      n_estimators=97, random_state=42)</pre></div></div></div></div></div>"
      ],
      "text/plain": [
       "RandomForestRegressor(max_depth=10, min_samples_leaf=3, min_samples_split=7,\n",
       "                      n_estimators=97, random_state=42)"
      ]
     },
     "execution_count": 74,
     "metadata": {},
     "output_type": "execute_result"
    }
   ],
   "source": [
    "rf_params = {\n",
    "    \"random_state\": 42,\n",
    "    #\"learning_rate\": 0.1,\n",
    "    \"n_estimators\": study.best_trial.params[\"n_estimators\"],\n",
    "    \"max_depth\": study.best_trial.params[\"max_depth\"],\n",
    "    \"min_samples_leaf\": study.best_trial.params[\"min_samples_leaf\"],\n",
    "    \"min_samples_split\": study.best_trial.params[\"min_samples_split\"],\n",
    "    #\"subsample\": study.best_trial.params[\"subsample\"]\n",
    "}\n",
    "\n",
    "rf = RandomForestRegressor(**rf_params)\n",
    "rf.fit(As_X_train, As_y_train)"
   ]
  },
  {
   "cell_type": "code",
   "execution_count": 75,
   "id": "8577fb37",
   "metadata": {},
   "outputs": [],
   "source": [
    "y_train_pred = rf.predict(As_X_train)\n",
    "y_test_pred = rf.predict(As_X_test)"
   ]
  },
  {
   "cell_type": "code",
   "execution_count": 76,
   "id": "2ea0526a",
   "metadata": {},
   "outputs": [],
   "source": [
    "# plt.scatter(y_train_pred, np.array(As_y_train))"
   ]
  },
  {
   "cell_type": "code",
   "execution_count": 77,
   "id": "d2a4dd85",
   "metadata": {},
   "outputs": [
    {
     "name": "stdout",
     "output_type": "stream",
     "text": [
      "Train RMSE:  0.27352619589242744\n",
      "Test RMSE:  0.35079393024332656\n"
     ]
    }
   ],
   "source": [
    "print(\"Train RMSE: \", np.sqrt(mean_squared_error(As_y_train, y_train_pred)))\n",
    "print(\"Test RMSE: \", np.sqrt(mean_squared_error(As_y_test, y_test_pred)))"
   ]
  },
  {
   "cell_type": "code",
   "execution_count": 78,
   "id": "08fe787a",
   "metadata": {},
   "outputs": [
    {
     "name": "stdout",
     "output_type": "stream",
     "text": [
      "Train R2:  0.6369086622938962\n",
      "Test R2:  0.13310083340789547\n"
     ]
    }
   ],
   "source": [
    "print(\"Train R2: \", r2_score(As_y_train, y_train_pred))\n",
    "print(\"Test R2: \", r2_score(As_y_test, y_test_pred))"
   ]
  },
  {
   "cell_type": "code",
   "execution_count": 79,
   "id": "5ec4820c",
   "metadata": {},
   "outputs": [
    {
     "data": {
      "image/png": "[encoded data removed]",
      "text/plain": [
       "<Figure size 640x480 with 1 Axes>"
      ]
     },
     "metadata": {},
     "output_type": "display_data"
    }
   ],
   "source": [
    "plt.scatter(y_train_pred, np.array(As_y_train), color=\"orange\", alpha=0.3)\n",
    "plt.scatter(y_test_pred, np.array(As_y_test), color=\"green\", alpha=0.4)\n",
    "plt.axis(\"auto\") # scaled, tight, auto, image, square\n",
    "# plt.xlim([0, 1.5]) \n",
    "# plt.ylim(0, None) \n",
    "plt.xlabel('Predicted Values')\n",
    "plt.ylabel('Actual Values')\n",
    "\n",
    "# Add y=x line\n",
    "plt.plot([0, 1.8], [0, 1.8], color='red', linestyle='-')\n",
    "\n",
    "plt.show()"
   ]
  },
  {
   "attachments": {},
   "cell_type": "markdown",
   "id": "e0507d63",
   "metadata": {},
   "source": [
    "Cd"
   ]
  },
  {
   "attachments": {},
   "cell_type": "markdown",
   "id": "f8f809d9",
   "metadata": {},
   "source": [
    "Optimization"
   ]
  },
  {
   "cell_type": "code",
   "execution_count": 80,
   "id": "b7aeaf0a",
   "metadata": {},
   "outputs": [
    {
     "name": "stderr",
     "output_type": "stream",
     "text": [
      "\u001b[32m[I 2023-08-29 01:05:51,725]\u001b[0m A new study created in memory with name: rf_parameter_opt\u001b[0m\n",
      "\u001b[32m[I 2023-08-29 01:05:52,718]\u001b[0m Trial 0 finished with value: 0.1314251355964492 and parameters: {'n_estimators': 32, 'max_depth': 7, 'min_samples_leaf': 1, 'min_samples_split': 13}. Best is trial 0 with value: 0.1314251355964492.\u001b[0m\n",
      "\u001b[32m[I 2023-08-29 01:05:53,808]\u001b[0m Trial 1 finished with value: 0.0398751299405629 and parameters: {'n_estimators': 86, 'max_depth': 2, 'min_samples_leaf': 11, 'min_samples_split': 14}. Best is trial 0 with value: 0.1314251355964492.\u001b[0m\n",
      "\u001b[32m[I 2023-08-29 01:05:54,574]\u001b[0m Trial 2 finished with value: 0.06303605158939292 and parameters: {'n_estimators': 48, 'max_depth': 3, 'min_samples_leaf': 3, 'min_samples_split': 5}. Best is trial 0 with value: 0.1314251355964492.\u001b[0m\n",
      "\u001b[32m[I 2023-08-29 01:05:56,736]\u001b[0m Trial 3 finished with value: 0.16014123436784397 and parameters: {'n_estimators': 65, 'max_depth': 9, 'min_samples_leaf': 3, 'min_samples_split': 14}. Best is trial 3 with value: 0.16014123436784397.\u001b[0m\n",
      "\u001b[32m[I 2023-08-29 01:05:57,234]\u001b[0m Trial 4 finished with value: 0.12858904394268475 and parameters: {'n_estimators': 14, 'max_depth': 10, 'min_samples_leaf': 4, 'min_samples_split': 13}. Best is trial 3 with value: 0.16014123436784397.\u001b[0m\n",
      "\u001b[32m[I 2023-08-29 01:05:58,871]\u001b[0m Trial 5 finished with value: 0.14249970410280097 and parameters: {'n_estimators': 53, 'max_depth': 9, 'min_samples_leaf': 8, 'min_samples_split': 4}. Best is trial 3 with value: 0.16014123436784397.\u001b[0m\n",
      "\u001b[32m[I 2023-08-29 01:06:01,427]\u001b[0m Trial 6 finished with value: 0.11995422096277067 and parameters: {'n_estimators': 98, 'max_depth': 9, 'min_samples_leaf': 14, 'min_samples_split': 18}. Best is trial 3 with value: 0.16014123436784397.\u001b[0m\n",
      "\u001b[32m[I 2023-08-29 01:06:03,982]\u001b[0m Trial 7 finished with value: 0.15364715635029913 and parameters: {'n_estimators': 83, 'max_depth': 8, 'min_samples_leaf': 2, 'min_samples_split': 14}. Best is trial 3 with value: 0.16014123436784397.\u001b[0m\n",
      "\u001b[32m[I 2023-08-29 01:06:04,613]\u001b[0m Trial 8 finished with value: 0.0964697008896804 and parameters: {'n_estimators': 29, 'max_depth': 6, 'min_samples_leaf': 18, 'min_samples_split': 16}. Best is trial 3 with value: 0.16014123436784397.\u001b[0m\n",
      "\u001b[32m[I 2023-08-29 01:06:05,837]\u001b[0m Trial 9 finished with value: 0.12339502329400591 and parameters: {'n_estimators': 51, 'max_depth': 6, 'min_samples_leaf': 7, 'min_samples_split': 3}. Best is trial 3 with value: 0.16014123436784397.\u001b[0m\n",
      "\u001b[32m[I 2023-08-29 01:06:07,069]\u001b[0m Trial 10 finished with value: 0.07867242907236202 and parameters: {'n_estimators': 72, 'max_depth': 4, 'min_samples_leaf': 20, 'min_samples_split': 8}. Best is trial 3 with value: 0.16014123436784397.\u001b[0m\n",
      "\u001b[32m[I 2023-08-29 01:06:09,294]\u001b[0m Trial 11 finished with value: 0.14544868020762788 and parameters: {'n_estimators': 74, 'max_depth': 8, 'min_samples_leaf': 1, 'min_samples_split': 20}. Best is trial 3 with value: 0.16014123436784397.\u001b[0m\n",
      "\u001b[32m[I 2023-08-29 01:06:11,604]\u001b[0m Trial 12 finished with value: 0.16290504595360814 and parameters: {'n_estimators': 72, 'max_depth': 10, 'min_samples_leaf': 6, 'min_samples_split': 9}. Best is trial 12 with value: 0.16290504595360814.\u001b[0m\n",
      "\u001b[32m[I 2023-08-29 01:06:13,734]\u001b[0m Trial 13 finished with value: 0.1644087778767754 and parameters: {'n_estimators': 66, 'max_depth': 10, 'min_samples_leaf': 6, 'min_samples_split': 10}. Best is trial 13 with value: 0.1644087778767754.\u001b[0m\n",
      "\u001b[32m[I 2023-08-29 01:06:15,697]\u001b[0m Trial 14 finished with value: 0.15300254746221895 and parameters: {'n_estimators': 63, 'max_depth': 10, 'min_samples_leaf': 7, 'min_samples_split': 9}. Best is trial 13 with value: 0.1644087778767754.\u001b[0m\n",
      "\u001b[32m[I 2023-08-29 01:06:16,552]\u001b[0m Trial 15 finished with value: 0.0103110759848694 and parameters: {'n_estimators': 100, 'max_depth': 1, 'min_samples_leaf': 11, 'min_samples_split': 9}. Best is trial 13 with value: 0.1644087778767754.\u001b[0m\n",
      "\u001b[32m[I 2023-08-29 01:06:17,364]\u001b[0m Trial 16 finished with value: 0.11354503345195185 and parameters: {'n_estimators': 37, 'max_depth': 5, 'min_samples_leaf': 5, 'min_samples_split': 7}. Best is trial 13 with value: 0.1644087778767754.\u001b[0m\n",
      "\u001b[32m[I 2023-08-29 01:06:19,852]\u001b[0m Trial 17 finished with value: 0.1395872034812729 and parameters: {'n_estimators': 85, 'max_depth': 10, 'min_samples_leaf': 9, 'min_samples_split': 11}. Best is trial 13 with value: 0.1644087778767754.\u001b[0m\n",
      "\u001b[32m[I 2023-08-29 01:06:21,373]\u001b[0m Trial 18 finished with value: 0.11269832452434816 and parameters: {'n_estimators': 64, 'max_depth': 7, 'min_samples_leaf': 14, 'min_samples_split': 6}. Best is trial 13 with value: 0.1644087778767754.\u001b[0m\n",
      "\u001b[32m[I 2023-08-29 01:06:23,522]\u001b[0m Trial 19 finished with value: 0.15019407494254114 and parameters: {'n_estimators': 74, 'max_depth': 8, 'min_samples_leaf': 6, 'min_samples_split': 11}. Best is trial 13 with value: 0.1644087778767754.\u001b[0m\n",
      "\u001b[32m[I 2023-08-29 01:06:24,553]\u001b[0m Trial 20 finished with value: 0.10971911645248086 and parameters: {'n_estimators': 43, 'max_depth': 7, 'min_samples_leaf': 14, 'min_samples_split': 11}. Best is trial 13 with value: 0.1644087778767754.\u001b[0m\n",
      "\u001b[32m[I 2023-08-29 01:06:26,448]\u001b[0m Trial 21 finished with value: 0.15493476956772098 and parameters: {'n_estimators': 62, 'max_depth': 9, 'min_samples_leaf': 5, 'min_samples_split': 16}. Best is trial 13 with value: 0.1644087778767754.\u001b[0m\n",
      "\u001b[32m[I 2023-08-29 01:06:28,526]\u001b[0m Trial 22 finished with value: 0.17384194097111622 and parameters: {'n_estimators': 59, 'max_depth': 10, 'min_samples_leaf': 3, 'min_samples_split': 9}. Best is trial 22 with value: 0.17384194097111622.\u001b[0m\n",
      "\u001b[32m[I 2023-08-29 01:06:30,259]\u001b[0m Trial 23 finished with value: 0.14196732656529243 and parameters: {'n_estimators': 58, 'max_depth': 10, 'min_samples_leaf': 9, 'min_samples_split': 9}. Best is trial 22 with value: 0.17384194097111622.\u001b[0m\n",
      "\u001b[32m[I 2023-08-29 01:06:32,739]\u001b[0m Trial 24 finished with value: 0.17276274512172354 and parameters: {'n_estimators': 72, 'max_depth': 10, 'min_samples_leaf': 4, 'min_samples_split': 2}. Best is trial 22 with value: 0.17384194097111622.\u001b[0m\n",
      "\u001b[32m[I 2023-08-29 01:06:35,184]\u001b[0m Trial 25 finished with value: 0.15527410955091897 and parameters: {'n_estimators': 80, 'max_depth': 8, 'min_samples_leaf': 4, 'min_samples_split': 2}. Best is trial 22 with value: 0.17384194097111622.\u001b[0m\n",
      "\u001b[32m[I 2023-08-29 01:06:38,299]\u001b[0m Trial 26 finished with value: 0.17458225629477558 and parameters: {'n_estimators': 92, 'max_depth': 9, 'min_samples_leaf': 3, 'min_samples_split': 6}. Best is trial 26 with value: 0.17458225629477558.\u001b[0m\n",
      "\u001b[32m[I 2023-08-29 01:06:41,498]\u001b[0m Trial 27 finished with value: 0.17710587399334457 and parameters: {'n_estimators': 90, 'max_depth': 9, 'min_samples_leaf': 2, 'min_samples_split': 2}. Best is trial 27 with value: 0.17710587399334457.\u001b[0m\n",
      "\u001b[32m[I 2023-08-29 01:06:44,863]\u001b[0m Trial 28 finished with value: 0.1783233357706549 and parameters: {'n_estimators': 93, 'max_depth': 9, 'min_samples_leaf': 1, 'min_samples_split': 5}. Best is trial 28 with value: 0.1783233357706549.\u001b[0m\n",
      "\u001b[32m[I 2023-08-29 01:06:47,534]\u001b[0m Trial 29 finished with value: 0.14943278813334815 and parameters: {'n_estimators': 90, 'max_depth': 7, 'min_samples_leaf': 1, 'min_samples_split': 5}. Best is trial 28 with value: 0.1783233357706549.\u001b[0m\n",
      "\u001b[32m[I 2023-08-29 01:06:49,684]\u001b[0m Trial 30 finished with value: 0.11745534686526597 and parameters: {'n_estimators': 92, 'max_depth': 5, 'min_samples_leaf': 1, 'min_samples_split': 3}. Best is trial 28 with value: 0.1783233357706549.\u001b[0m\n",
      "\u001b[32m[I 2023-08-29 01:06:52,962]\u001b[0m Trial 31 finished with value: 0.17630074082430222 and parameters: {'n_estimators': 94, 'max_depth': 9, 'min_samples_leaf': 2, 'min_samples_split': 6}. Best is trial 28 with value: 0.1783233357706549.\u001b[0m\n",
      "\u001b[32m[I 2023-08-29 01:06:56,236]\u001b[0m Trial 32 finished with value: 0.17630074082430222 and parameters: {'n_estimators': 94, 'max_depth': 9, 'min_samples_leaf': 2, 'min_samples_split': 6}. Best is trial 28 with value: 0.1783233357706549.\u001b[0m\n",
      "\u001b[32m[I 2023-08-29 01:06:59,337]\u001b[0m Trial 33 finished with value: 0.16627692983616105 and parameters: {'n_estimators': 96, 'max_depth': 8, 'min_samples_leaf': 2, 'min_samples_split': 5}. Best is trial 28 with value: 0.1783233357706549.\u001b[0m\n",
      "\u001b[32m[I 2023-08-29 01:07:02,150]\u001b[0m Trial 34 finished with value: 0.17508177926447496 and parameters: {'n_estimators': 79, 'max_depth': 9, 'min_samples_leaf': 2, 'min_samples_split': 4}. Best is trial 28 with value: 0.1783233357706549.\u001b[0m\n",
      "\u001b[32m[I 2023-08-29 01:07:05,030]\u001b[0m Trial 35 finished with value: 0.16203560499352915 and parameters: {'n_estimators': 88, 'max_depth': 8, 'min_samples_leaf': 1, 'min_samples_split': 7}. Best is trial 28 with value: 0.1783233357706549.\u001b[0m\n",
      "\u001b[32m[I 2023-08-29 01:07:08,253]\u001b[0m Trial 36 finished with value: 0.17471177574063773 and parameters: {'n_estimators': 95, 'max_depth': 9, 'min_samples_leaf': 3, 'min_samples_split': 4}. Best is trial 28 with value: 0.1783233357706549.\u001b[0m\n",
      "\u001b[32m[I 2023-08-29 01:07:09,539]\u001b[0m Trial 37 finished with value: 0.06267053806822889 and parameters: {'n_estimators': 85, 'max_depth': 3, 'min_samples_leaf': 5, 'min_samples_split': 6}. Best is trial 28 with value: 0.1783233357706549.\u001b[0m\n",
      "\u001b[32m[I 2023-08-29 01:07:12,139]\u001b[0m Trial 38 finished with value: 0.1385822279329658 and parameters: {'n_estimators': 100, 'max_depth': 6, 'min_samples_leaf': 2, 'min_samples_split': 3}. Best is trial 28 with value: 0.1783233357706549.\u001b[0m\n",
      "\u001b[32m[I 2023-08-29 01:07:14,368]\u001b[0m Trial 39 finished with value: 0.14257547887666994 and parameters: {'n_estimators': 79, 'max_depth': 7, 'min_samples_leaf': 4, 'min_samples_split': 7}. Best is trial 28 with value: 0.1783233357706549.\u001b[0m\n",
      "\u001b[32m[I 2023-08-29 01:07:15,192]\u001b[0m Trial 40 finished with value: 0.1565435255245059 and parameters: {'n_estimators': 24, 'max_depth': 9, 'min_samples_leaf': 3, 'min_samples_split': 4}. Best is trial 28 with value: 0.1783233357706549.\u001b[0m\n",
      "\u001b[32m[I 2023-08-29 01:07:18,530]\u001b[0m Trial 41 finished with value: 0.17777778202623143 and parameters: {'n_estimators': 93, 'max_depth': 9, 'min_samples_leaf': 2, 'min_samples_split': 2}. Best is trial 28 with value: 0.1783233357706549.\u001b[0m\n",
      "\u001b[32m[I 2023-08-29 01:07:21,870]\u001b[0m Trial 42 finished with value: 0.17779145744288044 and parameters: {'n_estimators': 94, 'max_depth': 9, 'min_samples_leaf': 2, 'min_samples_split': 2}. Best is trial 28 with value: 0.1783233357706549.\u001b[0m\n",
      "\u001b[32m[I 2023-08-29 01:07:24,893]\u001b[0m Trial 43 finished with value: 0.16655851348584702 and parameters: {'n_estimators': 88, 'max_depth': 8, 'min_samples_leaf': 1, 'min_samples_split': 2}. Best is trial 28 with value: 0.1783233357706549.\u001b[0m\n",
      "\u001b[32m[I 2023-08-29 01:07:27,673]\u001b[0m Trial 44 finished with value: 0.17316672013083162 and parameters: {'n_estimators': 82, 'max_depth': 9, 'min_samples_leaf': 3, 'min_samples_split': 3}. Best is trial 28 with value: 0.1783233357706549.\u001b[0m\n",
      "\u001b[32m[I 2023-08-29 01:07:29,986]\u001b[0m Trial 45 finished with value: 0.11337905362757839 and parameters: {'n_estimators': 96, 'max_depth': 8, 'min_samples_leaf': 16, 'min_samples_split': 2}. Best is trial 28 with value: 0.1783233357706549.\u001b[0m\n",
      "\u001b[32m[I 2023-08-29 01:07:33,304]\u001b[0m Trial 46 finished with value: 0.18120209150256134 and parameters: {'n_estimators': 90, 'max_depth': 9, 'min_samples_leaf': 1, 'min_samples_split': 4}. Best is trial 46 with value: 0.18120209150256134.\u001b[0m\n",
      "\u001b[32m[I 2023-08-29 01:07:36,048]\u001b[0m Trial 47 finished with value: 0.15861764782779833 and parameters: {'n_estimators': 89, 'max_depth': 8, 'min_samples_leaf': 4, 'min_samples_split': 4}. Best is trial 46 with value: 0.18120209150256134.\u001b[0m\n",
      "\u001b[32m[I 2023-08-29 01:07:38,774]\u001b[0m Trial 48 finished with value: 0.13124582204930987 and parameters: {'n_estimators': 100, 'max_depth': 10, 'min_samples_leaf': 12, 'min_samples_split': 5}. Best is trial 46 with value: 0.18120209150256134.\u001b[0m\n",
      "\u001b[32m[I 2023-08-29 01:07:41,614]\u001b[0m Trial 49 finished with value: 0.17713009820621348 and parameters: {'n_estimators': 76, 'max_depth': 9, 'min_samples_leaf': 1, 'min_samples_split': 3}. Best is trial 46 with value: 0.18120209150256134.\u001b[0m\n",
      "\u001b[32m[I 2023-08-29 01:07:41,929]\u001b[0m Trial 50 finished with value: 0.10259801142051997 and parameters: {'n_estimators': 10, 'max_depth': 7, 'min_samples_leaf': 1, 'min_samples_split': 3}. Best is trial 46 with value: 0.18120209150256134.\u001b[0m\n",
      "\u001b[32m[I 2023-08-29 01:07:44,643]\u001b[0m Trial 51 finished with value: 0.17572115989800466 and parameters: {'n_estimators': 76, 'max_depth': 9, 'min_samples_leaf': 2, 'min_samples_split': 2}. Best is trial 46 with value: 0.18120209150256134.\u001b[0m\n",
      "\u001b[32m[I 2023-08-29 01:07:47,843]\u001b[0m Trial 52 finished with value: 0.17759564523467963 and parameters: {'n_estimators': 85, 'max_depth': 9, 'min_samples_leaf': 1, 'min_samples_split': 3}. Best is trial 46 with value: 0.18120209150256134.\u001b[0m\n",
      "\u001b[32m[I 2023-08-29 01:07:50,653]\u001b[0m Trial 53 finished with value: 0.1907941859528032 and parameters: {'n_estimators': 69, 'max_depth': 10, 'min_samples_leaf': 1, 'min_samples_split': 3}. Best is trial 53 with value: 0.1907941859528032.\u001b[0m\n",
      "\u001b[32m[I 2023-08-29 01:07:54,006]\u001b[0m Trial 54 finished with value: 0.1902247408494958 and parameters: {'n_estimators': 84, 'max_depth': 10, 'min_samples_leaf': 1, 'min_samples_split': 4}. Best is trial 53 with value: 0.1907941859528032.\u001b[0m\n",
      "\u001b[32m[I 2023-08-29 01:07:56,481]\u001b[0m Trial 55 finished with value: 0.17907043140565065 and parameters: {'n_estimators': 68, 'max_depth': 10, 'min_samples_leaf': 3, 'min_samples_split': 5}. Best is trial 53 with value: 0.1907941859528032.\u001b[0m\n",
      "\u001b[32m[I 2023-08-29 01:07:58,730]\u001b[0m Trial 56 finished with value: 0.16766014372141644 and parameters: {'n_estimators': 68, 'max_depth': 10, 'min_samples_leaf': 5, 'min_samples_split': 5}. Best is trial 53 with value: 0.1907941859528032.\u001b[0m\n",
      "\u001b[32m[I 2023-08-29 01:08:01,153]\u001b[0m Trial 57 finished with value: 0.17592381163191276 and parameters: {'n_estimators': 68, 'max_depth': 10, 'min_samples_leaf': 3, 'min_samples_split': 8}. Best is trial 53 with value: 0.1907941859528032.\u001b[0m\n",
      "\u001b[32m[I 2023-08-29 01:08:02,253]\u001b[0m Trial 58 finished with value: 0.104247706297107 and parameters: {'n_estimators': 47, 'max_depth': 10, 'min_samples_leaf': 20, 'min_samples_split': 4}. Best is trial 53 with value: 0.1907941859528032.\u001b[0m\n",
      "\u001b[32m[I 2023-08-29 01:08:04,059]\u001b[0m Trial 59 finished with value: 0.1666461295158123 and parameters: {'n_estimators': 54, 'max_depth': 10, 'min_samples_leaf': 4, 'min_samples_split': 12}. Best is trial 53 with value: 0.1907941859528032.\u001b[0m\n",
      "\u001b[32m[I 2023-08-29 01:08:06,639]\u001b[0m Trial 60 finished with value: 0.14948160348576855 and parameters: {'n_estimators': 83, 'max_depth': 10, 'min_samples_leaf': 7, 'min_samples_split': 5}. Best is trial 53 with value: 0.1907941859528032.\u001b[0m\n",
      "\u001b[32m[I 2023-08-29 01:08:10,403]\u001b[0m Trial 61 finished with value: 0.19280593199993318 and parameters: {'n_estimators': 92, 'max_depth': 10, 'min_samples_leaf': 1, 'min_samples_split': 3}. Best is trial 61 with value: 0.19280593199993318.\u001b[0m\n",
      "\u001b[32m[I 2023-08-29 01:08:13,857]\u001b[0m Trial 62 finished with value: 0.1911249489535844 and parameters: {'n_estimators': 87, 'max_depth': 10, 'min_samples_leaf': 1, 'min_samples_split': 4}. Best is trial 61 with value: 0.19280593199993318.\u001b[0m\n",
      "\u001b[32m[I 2023-08-29 01:08:17,036]\u001b[0m Trial 63 finished with value: 0.18741657102639575 and parameters: {'n_estimators': 81, 'max_depth': 10, 'min_samples_leaf': 1, 'min_samples_split': 5}. Best is trial 61 with value: 0.19280593199993318.\u001b[0m\n",
      "\u001b[32m[I 2023-08-29 01:08:19,529]\u001b[0m Trial 64 finished with value: 0.17896202474854764 and parameters: {'n_estimators': 69, 'max_depth': 10, 'min_samples_leaf': 3, 'min_samples_split': 4}. Best is trial 61 with value: 0.19280593199993318.\u001b[0m\n",
      "\u001b[32m[I 2023-08-29 01:08:22,752]\u001b[0m Trial 65 finished with value: 0.1907142495202114 and parameters: {'n_estimators': 81, 'max_depth': 10, 'min_samples_leaf': 1, 'min_samples_split': 4}. Best is trial 61 with value: 0.19280593199993318.\u001b[0m\n",
      "\u001b[32m[I 2023-08-29 01:08:26,053]\u001b[0m Trial 66 finished with value: 0.1893839192896982 and parameters: {'n_estimators': 81, 'max_depth': 10, 'min_samples_leaf': 1, 'min_samples_split': 3}. Best is trial 61 with value: 0.19280593199993318.\u001b[0m\n",
      "\u001b[32m[I 2023-08-29 01:08:29,348]\u001b[0m Trial 67 finished with value: 0.1893839192896982 and parameters: {'n_estimators': 81, 'max_depth': 10, 'min_samples_leaf': 1, 'min_samples_split': 3}. Best is trial 61 with value: 0.19280593199993318.\u001b[0m\n",
      "\u001b[32m[I 2023-08-29 01:08:32,016]\u001b[0m Trial 68 finished with value: 0.1671713763965854 and parameters: {'n_estimators': 78, 'max_depth': 10, 'min_samples_leaf': 2, 'min_samples_split': 16}. Best is trial 61 with value: 0.19280593199993318.\u001b[0m\n",
      "\u001b[32m[I 2023-08-29 01:08:32,633]\u001b[0m Trial 69 finished with value: 0.009684073683871853 and parameters: {'n_estimators': 74, 'max_depth': 1, 'min_samples_leaf': 1, 'min_samples_split': 20}. Best is trial 61 with value: 0.19280593199993318.\u001b[0m\n",
      "\u001b[32m[I 2023-08-29 01:08:35,590]\u001b[0m Trial 70 finished with value: 0.17469631193028162 and parameters: {'n_estimators': 86, 'max_depth': 10, 'min_samples_leaf': 4, 'min_samples_split': 3}. Best is trial 61 with value: 0.19280593199993318.\u001b[0m\n",
      "\u001b[32m[I 2023-08-29 01:08:38,929]\u001b[0m Trial 71 finished with value: 0.1889137642862848 and parameters: {'n_estimators': 82, 'max_depth': 10, 'min_samples_leaf': 1, 'min_samples_split': 3}. Best is trial 61 with value: 0.19280593199993318.\u001b[0m\n",
      "\u001b[32m[I 2023-08-29 01:08:42,340]\u001b[0m Trial 72 finished with value: 0.18916083167837502 and parameters: {'n_estimators': 83, 'max_depth': 10, 'min_samples_leaf': 1, 'min_samples_split': 3}. Best is trial 61 with value: 0.19280593199993318.\u001b[0m\n",
      "\u001b[32m[I 2023-08-29 01:08:45,587]\u001b[0m Trial 73 finished with value: 0.1877303450039157 and parameters: {'n_estimators': 85, 'max_depth': 10, 'min_samples_leaf': 2, 'min_samples_split': 4}. Best is trial 61 with value: 0.19280593199993318.\u001b[0m\n",
      "\u001b[32m[I 2023-08-29 01:08:46,496]\u001b[0m Trial 74 finished with value: 0.0392901454879099 and parameters: {'n_estimators': 77, 'max_depth': 2, 'min_samples_leaf': 1, 'min_samples_split': 3}. Best is trial 61 with value: 0.19280593199993318.\u001b[0m\n",
      "\u001b[32m[I 2023-08-29 01:08:48,941]\u001b[0m Trial 75 finished with value: 0.1639143919060649 and parameters: {'n_estimators': 73, 'max_depth': 10, 'min_samples_leaf': 2, 'min_samples_split': 18}. Best is trial 61 with value: 0.19280593199993318.\u001b[0m\n",
      "\u001b[32m[I 2023-08-29 01:08:51,291]\u001b[0m Trial 76 finished with value: 0.12672102933736357 and parameters: {'n_estimators': 88, 'max_depth': 10, 'min_samples_leaf': 13, 'min_samples_split': 4}. Best is trial 61 with value: 0.19280593199993318.\u001b[0m\n",
      "\u001b[32m[I 2023-08-29 01:08:54,281]\u001b[0m Trial 77 finished with value: 0.1792050348485853 and parameters: {'n_estimators': 83, 'max_depth': 10, 'min_samples_leaf': 3, 'min_samples_split': 6}. Best is trial 61 with value: 0.19280593199993318.\u001b[0m\n",
      "\u001b[32m[I 2023-08-29 01:08:55,874]\u001b[0m Trial 78 finished with value: 0.11899532592237179 and parameters: {'n_estimators': 71, 'max_depth': 5, 'min_samples_leaf': 2, 'min_samples_split': 2}. Best is trial 61 with value: 0.19280593199993318.\u001b[0m\n",
      "\u001b[32m[I 2023-08-29 01:08:57,324]\u001b[0m Trial 79 finished with value: 0.08580643259327032 and parameters: {'n_estimators': 80, 'max_depth': 4, 'min_samples_leaf': 9, 'min_samples_split': 3}. Best is trial 61 with value: 0.19280593199993318.\u001b[0m\n",
      "\u001b[32m[I 2023-08-29 01:08:58,773]\u001b[0m Trial 80 finished with value: 0.10568208252970716 and parameters: {'n_estimators': 61, 'max_depth': 10, 'min_samples_leaf': 19, 'min_samples_split': 4}. Best is trial 61 with value: 0.19280593199993318.\u001b[0m\n",
      "\u001b[32m[I 2023-08-29 01:09:02,134]\u001b[0m Trial 81 finished with value: 0.1889137642862848 and parameters: {'n_estimators': 82, 'max_depth': 10, 'min_samples_leaf': 1, 'min_samples_split': 3}. Best is trial 61 with value: 0.19280593199993318.\u001b[0m\n",
      "\u001b[32m[I 2023-08-29 01:09:05,730]\u001b[0m Trial 82 finished with value: 0.18988614841309762 and parameters: {'n_estimators': 86, 'max_depth': 10, 'min_samples_leaf': 1, 'min_samples_split': 2}. Best is trial 61 with value: 0.19280593199993318.\u001b[0m\n",
      "\u001b[32m[I 2023-08-29 01:09:09,055]\u001b[0m Trial 83 finished with value: 0.18858319417101427 and parameters: {'n_estimators': 87, 'max_depth': 10, 'min_samples_leaf': 2, 'min_samples_split': 2}. Best is trial 61 with value: 0.19280593199993318.\u001b[0m\n",
      "\u001b[32m[I 2023-08-29 01:09:12,143]\u001b[0m Trial 84 finished with value: 0.17488483878038633 and parameters: {'n_estimators': 91, 'max_depth': 9, 'min_samples_leaf': 3, 'min_samples_split': 2}. Best is trial 61 with value: 0.19280593199993318.\u001b[0m\n",
      "\u001b[32m[I 2023-08-29 01:09:14,582]\u001b[0m Trial 85 finished with value: 0.1357446332786677 and parameters: {'n_estimators': 85, 'max_depth': 10, 'min_samples_leaf': 10, 'min_samples_split': 3}. Best is trial 61 with value: 0.19280593199993318.\u001b[0m\n",
      "\u001b[32m[I 2023-08-29 01:09:17,335]\u001b[0m Trial 86 finished with value: 0.18002149494683864 and parameters: {'n_estimators': 75, 'max_depth': 9, 'min_samples_leaf': 1, 'min_samples_split': 4}. Best is trial 61 with value: 0.19280593199993318.\u001b[0m\n",
      "\u001b[32m[I 2023-08-29 01:09:19,321]\u001b[0m Trial 87 finished with value: 0.11360301958951051 and parameters: {'n_estimators': 78, 'max_depth': 10, 'min_samples_leaf': 16, 'min_samples_split': 2}. Best is trial 61 with value: 0.19280593199993318.\u001b[0m\n",
      "\u001b[32m[I 2023-08-29 01:09:22,467]\u001b[0m Trial 88 finished with value: 0.17476695278538495 and parameters: {'n_estimators': 91, 'max_depth': 9, 'min_samples_leaf': 2, 'min_samples_split': 7}. Best is trial 61 with value: 0.19280593199993318.\u001b[0m\n",
      "\u001b[32m[I 2023-08-29 01:09:25,404]\u001b[0m Trial 89 finished with value: 0.17935856424605817 and parameters: {'n_estimators': 80, 'max_depth': 10, 'min_samples_leaf': 1, 'min_samples_split': 10}. Best is trial 61 with value: 0.19280593199993318.\u001b[0m\n",
      "\u001b[32m[I 2023-08-29 01:09:28,473]\u001b[0m Trial 90 finished with value: 0.1763050462281015 and parameters: {'n_estimators': 86, 'max_depth': 9, 'min_samples_leaf': 2, 'min_samples_split': 3}. Best is trial 61 with value: 0.19280593199993318.\u001b[0m\n",
      "\u001b[32m[I 2023-08-29 01:09:32,440]\u001b[0m Trial 91 finished with value: 0.19353831600262864 and parameters: {'n_estimators': 97, 'max_depth': 10, 'min_samples_leaf': 1, 'min_samples_split': 3}. Best is trial 91 with value: 0.19353831600262864.\u001b[0m\n",
      "\u001b[32m[I 2023-08-29 01:09:36,598]\u001b[0m Trial 92 finished with value: 0.19329920464995196 and parameters: {'n_estimators': 97, 'max_depth': 10, 'min_samples_leaf': 1, 'min_samples_split': 2}. Best is trial 91 with value: 0.19353831600262864.\u001b[0m\n",
      "\u001b[32m[I 2023-08-29 01:09:40,696]\u001b[0m Trial 93 finished with value: 0.19287311451717407 and parameters: {'n_estimators': 98, 'max_depth': 10, 'min_samples_leaf': 1, 'min_samples_split': 2}. Best is trial 91 with value: 0.19353831600262864.\u001b[0m\n",
      "\u001b[32m[I 2023-08-29 01:09:44,232]\u001b[0m Trial 94 finished with value: 0.18231099658955202 and parameters: {'n_estimators': 98, 'max_depth': 10, 'min_samples_leaf': 3, 'min_samples_split': 2}. Best is trial 91 with value: 0.19353831600262864.\u001b[0m\n",
      "\u001b[32m[I 2023-08-29 01:09:47,939]\u001b[0m Trial 95 finished with value: 0.19037408840861997 and parameters: {'n_estimators': 97, 'max_depth': 10, 'min_samples_leaf': 2, 'min_samples_split': 2}. Best is trial 91 with value: 0.19353831600262864.\u001b[0m\n",
      "\u001b[32m[I 2023-08-29 01:09:51,467]\u001b[0m Trial 96 finished with value: 0.17801472465267015 and parameters: {'n_estimators': 98, 'max_depth': 9, 'min_samples_leaf': 2, 'min_samples_split': 2}. Best is trial 91 with value: 0.19353831600262864.\u001b[0m\n",
      "\u001b[32m[I 2023-08-29 01:09:54,887]\u001b[0m Trial 97 finished with value: 0.1781879639372394 and parameters: {'n_estimators': 96, 'max_depth': 9, 'min_samples_leaf': 2, 'min_samples_split': 2}. Best is trial 91 with value: 0.19353831600262864.\u001b[0m\n",
      "\u001b[32m[I 2023-08-29 01:09:58,651]\u001b[0m Trial 98 finished with value: 0.19024946136337 and parameters: {'n_estimators': 98, 'max_depth': 10, 'min_samples_leaf': 2, 'min_samples_split': 4}. Best is trial 91 with value: 0.19353831600262864.\u001b[0m\n",
      "\u001b[32m[I 2023-08-29 01:10:02,190]\u001b[0m Trial 99 finished with value: 0.17768908567162908 and parameters: {'n_estimators': 100, 'max_depth': 10, 'min_samples_leaf': 4, 'min_samples_split': 4}. Best is trial 91 with value: 0.19353831600262864.\u001b[0m\n"
     ]
    },
    {
     "name": "stdout",
     "output_type": "stream",
     "text": [
      "Best r2:  0.19353831600262864\n",
      "Best trial: {'n_estimators': 97, 'max_depth': 10, 'min_samples_leaf': 1, 'min_samples_split': 3}\n"
     ]
    }
   ],
   "source": [
    "sampler = TPESampler()\n",
    "study = optuna.create_study(\n",
    "    study_name=\"rf_parameter_opt\",\n",
    "    direction=\"maximize\",\n",
    "    sampler=sampler,\n",
    ")\n",
    "\n",
    "study.optimize(lambda trial : objectiveRF(trial, Cd_X_train, Cd_y_train), n_trials=100)\n",
    "print(\"Best r2: \", study.best_value)\n",
    "print(\"Best trial:\", study.best_trial.params)"
   ]
  },
  {
   "cell_type": "code",
   "execution_count": 81,
   "id": "861f88d8",
   "metadata": {},
   "outputs": [
    {
     "data": {
      "application/vnd.plotly.v1+json": {
       "config": {
        "plotlyServerURL": "https://plot.ly"
       },
       "data": [
        {
         "dimensions": [
          {
           "label": "Objective Value",
           "range": [
            0.009684073683871853,
            0.19353831600262864
           ],
           "values": [
            0.1314251355964492,
            0.0398751299405629,
            0.06303605158939292,
            0.16014123436784397,
            0.12858904394268475,
            0.14249970410280097,
            0.11995422096277067,
            0.15364715635029913,
            0.0964697008896804,
            0.12339502329400591,
            0.07867242907236202,
            0.14544868020762788,
            0.16290504595360814,
            0.1644087778767754,
            0.15300254746221895,
            0.0103110759848694,
            0.11354503345195185,
            0.1395872034812729,
            0.11269832452434816,
            0.15019407494254114,
            0.10971911645248086,
            0.15493476956772098,
            0.17384194097111622,
            0.14196732656529243,
            0.17276274512172354,
            0.15527410955091897,
            0.17458225629477558,
            0.17710587399334457,
            0.1783233357706549,
            0.14943278813334815,
            0.11745534686526597,
            0.17630074082430222,
            0.17630074082430222,
            0.16627692983616105,
            0.17508177926447496,
            0.16203560499352915,
            0.17471177574063773,
            0.06267053806822889,
            0.1385822279329658,
            0.14257547887666994,
            0.1565435255245059,
            0.17777778202623143,
            0.17779145744288044,
            0.16655851348584702,
            0.17316672013083162,
            0.11337905362757839,
            0.18120209150256134,
            0.15861764782779833,
            0.13124582204930987,
            0.17713009820621348,
            0.10259801142051997,
            0.17572115989800466,
            0.17759564523467963,
            0.1907941859528032,
            0.1902247408494958,
            0.17907043140565065,
            0.16766014372141644,
            0.17592381163191276,
            0.104247706297107,
            0.1666461295158123,
            0.14948160348576855,
            0.19280593199993318,
            0.1911249489535844,
            0.18741657102639575,
            0.17896202474854764,
            0.1907142495202114,
            0.1893839192896982,
            0.1893839192896982,
            0.1671713763965854,
            0.009684073683871853,
            0.17469631193028162,
            0.1889137642862848,
            0.18916083167837502,
            0.1877303450039157,
            0.0392901454879099,
            0.1639143919060649,
            0.12672102933736357,
            0.1792050348485853,
            0.11899532592237179,
            0.08580643259327032,
            0.10568208252970716,
            0.1889137642862848,
            0.18988614841309762,
            0.18858319417101427,
            0.17488483878038633,
            0.1357446332786677,
            0.18002149494683864,
            0.11360301958951051,
            0.17476695278538495,
            0.17935856424605817,
            0.1763050462281015,
            0.19353831600262864,
            0.19329920464995196,
            0.19287311451717407,
            0.18231099658955202,
            0.19037408840861997,
            0.17801472465267015,
            0.1781879639372394,
            0.19024946136337,
            0.17768908567162908
           ]
          },
          {
           "label": "max_depth",
           "range": [
            1,
            10
           ],
           "values": [
            7,
            2,
            3,
            9,
            10,
            9,
            9,
            8,
            6,
            6,
            4,
            8,
            10,
            10,
            10,
            1,
            5,
            10,
            7,
            8,
            7,
            9,
            10,
            10,
            10,
            8,
            9,
            9,
            9,
            7,
            5,
            9,
            9,
            8,
            9,
            8,
            9,
            3,
            6,
            7,
            9,
            9,
            9,
            8,
            9,
            8,
            9,
            8,
            10,
            9,
            7,
            9,
            9,
            10,
            10,
            10,
            10,
            10,
            10,
            10,
            10,
            10,
            10,
            10,
            10,
            10,
            10,
            10,
            10,
            1,
            10,
            10,
            10,
            10,
            2,
            10,
            10,
            10,
            5,
            4,
            10,
            10,
            10,
            10,
            9,
            10,
            9,
            10,
            9,
            10,
            9,
            10,
            10,
            10,
            10,
            10,
            9,
            9,
            10,
            10
           ]
          },
          {
           "label": "min_samples_leaf",
           "range": [
            1,
            20
           ],
           "values": [
            1,
            11,
            3,
            3,
            4,
            8,
            14,
            2,
            18,
            7,
            20,
            1,
            6,
            6,
            7,
            11,
            5,
            9,
            14,
            6,
            14,
            5,
            3,
            9,
            4,
            4,
            3,
            2,
            1,
            1,
            1,
            2,
            2,
            2,
            2,
            1,
            3,
            5,
            2,
            4,
            3,
            2,
            2,
            1,
            3,
            16,
            1,
            4,
            12,
            1,
            1,
            2,
            1,
            1,
            1,
            3,
            5,
            3,
            20,
            4,
            7,
            1,
            1,
            1,
            3,
            1,
            1,
            1,
            2,
            1,
            4,
            1,
            1,
            2,
            1,
            2,
            13,
            3,
            2,
            9,
            19,
            1,
            1,
            2,
            3,
            10,
            1,
            16,
            2,
            1,
            2,
            1,
            1,
            1,
            3,
            2,
            2,
            2,
            2,
            4
           ]
          },
          {
           "label": "min_samples_split",
           "range": [
            2,
            20
           ],
           "values": [
            13,
            14,
            5,
            14,
            13,
            4,
            18,
            14,
            16,
            3,
            8,
            20,
            9,
            10,
            9,
            9,
            7,
            11,
            6,
            11,
            11,
            16,
            9,
            9,
            2,
            2,
            6,
            2,
            5,
            5,
            3,
            6,
            6,
            5,
            4,
            7,
            4,
            6,
            3,
            7,
            4,
            2,
            2,
            2,
            3,
            2,
            4,
            4,
            5,
            3,
            3,
            2,
            3,
            3,
            4,
            5,
            5,
            8,
            4,
            12,
            5,
            3,
            4,
            5,
            4,
            4,
            3,
            3,
            16,
            20,
            3,
            3,
            3,
            4,
            3,
            18,
            4,
            6,
            2,
            3,
            4,
            3,
            2,
            2,
            2,
            3,
            4,
            2,
            7,
            10,
            3,
            3,
            2,
            2,
            2,
            2,
            2,
            2,
            4,
            4
           ]
          },
          {
           "label": "n_estimators",
           "range": [
            10,
            100
           ],
           "values": [
            32,
            86,
            48,
            65,
            14,
            53,
            98,
            83,
            29,
            51,
            72,
            74,
            72,
            66,
            63,
            100,
            37,
            85,
            64,
            74,
            43,
            62,
            59,
            58,
            72,
            80,
            92,
            90,
            93,
            90,
            92,
            94,
            94,
            96,
            79,
            88,
            95,
            85,
            100,
            79,
            24,
            93,
            94,
            88,
            82,
            96,
            90,
            89,
            100,
            76,
            10,
            76,
            85,
            69,
            84,
            68,
            68,
            68,
            47,
            54,
            83,
            92,
            87,
            81,
            69,
            81,
            81,
            81,
            78,
            74,
            86,
            82,
            83,
            85,
            77,
            73,
            88,
            83,
            71,
            80,
            61,
            82,
            86,
            87,
            91,
            85,
            75,
            78,
            91,
            80,
            86,
            97,
            97,
            98,
            98,
            97,
            98,
            96,
            98,
            100
           ]
          }
         ],
         "labelangle": 30,
         "labelside": "bottom",
         "line": {
          "color": [
           0.1314251355964492,
           0.0398751299405629,
           0.06303605158939292,
           0.16014123436784397,
           0.12858904394268475,
           0.14249970410280097,
           0.11995422096277067,
           0.15364715635029913,
           0.0964697008896804,
           0.12339502329400591,
           0.07867242907236202,
           0.14544868020762788,
           0.16290504595360814,
           0.1644087778767754,
           0.15300254746221895,
           0.0103110759848694,
           0.11354503345195185,
           0.1395872034812729,
           0.11269832452434816,
           0.15019407494254114,
           0.10971911645248086,
           0.15493476956772098,
           0.17384194097111622,
           0.14196732656529243,
           0.17276274512172354,
           0.15527410955091897,
           0.17458225629477558,
           0.17710587399334457,
           0.1783233357706549,
           0.14943278813334815,
           0.11745534686526597,
           0.17630074082430222,
           0.17630074082430222,
           0.16627692983616105,
           0.17508177926447496,
           0.16203560499352915,
           0.17471177574063773,
           0.06267053806822889,
           0.1385822279329658,
           0.14257547887666994,
           0.1565435255245059,
           0.17777778202623143,
           0.17779145744288044,
           0.16655851348584702,
           0.17316672013083162,
           0.11337905362757839,
           0.18120209150256134,
           0.15861764782779833,
           0.13124582204930987,
           0.17713009820621348,
           0.10259801142051997,
           0.17572115989800466,
           0.17759564523467963,
           0.1907941859528032,
           0.1902247408494958,
           0.17907043140565065,
           0.16766014372141644,
           0.17592381163191276,
           0.104247706297107,
           0.1666461295158123,
           0.14948160348576855,
           0.19280593199993318,
           0.1911249489535844,
           0.18741657102639575,
           0.17896202474854764,
           0.1907142495202114,
           0.1893839192896982,
           0.1893839192896982,
           0.1671713763965854,
           0.009684073683871853,
           0.17469631193028162,
           0.1889137642862848,
           0.18916083167837502,
           0.1877303450039157,
           0.0392901454879099,
           0.1639143919060649,
           0.12672102933736357,
           0.1792050348485853,
           0.11899532592237179,
           0.08580643259327032,
           0.10568208252970716,
           0.1889137642862848,
           0.18988614841309762,
           0.18858319417101427,
           0.17488483878038633,
           0.1357446332786677,
           0.18002149494683864,
           0.11360301958951051,
           0.17476695278538495,
           0.17935856424605817,
           0.1763050462281015,
           0.19353831600262864,
           0.19329920464995196,
           0.19287311451717407,
           0.18231099658955202,
           0.19037408840861997,
           0.17801472465267015,
           0.1781879639372394,
           0.19024946136337,
           0.17768908567162908
          ],
          "colorbar": {
           "title": {
            "text": "Objective Value"
           }
          },
          "colorscale": [
           [
            0,
            "rgb(247,251,255)"
           ],
           [
            0.125,
            "rgb(222,235,247)"
           ],
           [
            0.25,
            "rgb(198,219,239)"
           ],
           [
            0.375,
            "rgb(158,202,225)"
           ],
           [
            0.5,
            "rgb(107,174,214)"
           ],
           [
            0.625,
            "rgb(66,146,198)"
           ],
           [
            0.75,
            "rgb(33,113,181)"
           ],
           [
            0.875,
            "rgb(8,81,156)"
           ],
           [
            1,
            "rgb(8,48,107)"
           ]
          ],
          "reversescale": false,
          "showscale": true
         },
         "type": "parcoords"
        }
       ],
       "layout": {
        "template": {
         "data": {
          "bar": [
           {
            "error_x": {
             "color": "#2a3f5f"
            },
            "error_y": {
             "color": "#2a3f5f"
            },
            "marker": {
             "line": {
              "color": "#E5ECF6",
              "width": 0.5
             },
             "pattern": {
              "fillmode": "overlay",
              "size": 10,
              "solidity": 0.2
             }
            },
            "type": "bar"
           }
          ],
          "barpolar": [
           {
            "marker": {
             "line": {
              "color": "#E5ECF6",
              "width": 0.5
             },
             "pattern": {
              "fillmode": "overlay",
              "size": 10,
              "solidity": 0.2
             }
            },
            "type": "barpolar"
           }
          ],
          "carpet": [
           {
            "aaxis": {
             "endlinecolor": "#2a3f5f",
             "gridcolor": "white",
             "linecolor": "white",
             "minorgridcolor": "white",
             "startlinecolor": "#2a3f5f"
            },
            "baxis": {
             "endlinecolor": "#2a3f5f",
             "gridcolor": "white",
             "linecolor": "white",
             "minorgridcolor": "white",
             "startlinecolor": "#2a3f5f"
            },
            "type": "carpet"
           }
          ],
          "choropleth": [
           {
            "colorbar": {
             "outlinewidth": 0,
             "ticks": ""
            },
            "type": "choropleth"
           }
          ],
          "contour": [
           {
            "colorbar": {
             "outlinewidth": 0,
             "ticks": ""
            },
            "colorscale": [
             [
              0,
              "#0d0887"
             ],
             [
              0.1111111111111111,
              "#46039f"
             ],
             [
              0.2222222222222222,
              "#7201a8"
             ],
             [
              0.3333333333333333,
              "#9c179e"
             ],
             [
              0.4444444444444444,
              "#bd3786"
             ],
             [
              0.5555555555555556,
              "#d8576b"
             ],
             [
              0.6666666666666666,
              "#ed7953"
             ],
             [
              0.7777777777777778,
              "#fb9f3a"
             ],
             [
              0.8888888888888888,
              "#fdca26"
             ],
             [
              1,
              "#f0f921"
             ]
            ],
            "type": "contour"
           }
          ],
          "contourcarpet": [
           {
            "colorbar": {
             "outlinewidth": 0,
             "ticks": ""
            },
            "type": "contourcarpet"
           }
          ],
          "heatmap": [
           {
            "colorbar": {
             "outlinewidth": 0,
             "ticks": ""
            },
            "colorscale": [
             [
              0,
              "#0d0887"
             ],
             [
              0.1111111111111111,
              "#46039f"
             ],
             [
              0.2222222222222222,
              "#7201a8"
             ],
             [
              0.3333333333333333,
              "#9c179e"
             ],
             [
              0.4444444444444444,
              "#bd3786"
             ],
             [
              0.5555555555555556,
              "#d8576b"
             ],
             [
              0.6666666666666666,
              "#ed7953"
             ],
             [
              0.7777777777777778,
              "#fb9f3a"
             ],
             [
              0.8888888888888888,
              "#fdca26"
             ],
             [
              1,
              "#f0f921"
             ]
            ],
            "type": "heatmap"
           }
          ],
          "heatmapgl": [
           {
            "colorbar": {
             "outlinewidth": 0,
             "ticks": ""
            },
            "colorscale": [
             [
              0,
              "#0d0887"
             ],
             [
              0.1111111111111111,
              "#46039f"
             ],
             [
              0.2222222222222222,
              "#7201a8"
             ],
             [
              0.3333333333333333,
              "#9c179e"
             ],
             [
              0.4444444444444444,
              "#bd3786"
             ],
             [
              0.5555555555555556,
              "#d8576b"
             ],
             [
              0.6666666666666666,
              "#ed7953"
             ],
             [
              0.7777777777777778,
              "#fb9f3a"
             ],
             [
              0.8888888888888888,
              "#fdca26"
             ],
             [
              1,
              "#f0f921"
             ]
            ],
            "type": "heatmapgl"
           }
          ],
          "histogram": [
           {
            "marker": {
             "pattern": {
              "fillmode": "overlay",
              "size": 10,
              "solidity": 0.2
             }
            },
            "type": "histogram"
           }
          ],
          "histogram2d": [
           {
            "colorbar": {
             "outlinewidth": 0,
             "ticks": ""
            },
            "colorscale": [
             [
              0,
              "#0d0887"
             ],
             [
              0.1111111111111111,
              "#46039f"
             ],
             [
              0.2222222222222222,
              "#7201a8"
             ],
             [
              0.3333333333333333,
              "#9c179e"
             ],
             [
              0.4444444444444444,
              "#bd3786"
             ],
             [
              0.5555555555555556,
              "#d8576b"
             ],
             [
              0.6666666666666666,
              "#ed7953"
             ],
             [
              0.7777777777777778,
              "#fb9f3a"
             ],
             [
              0.8888888888888888,
              "#fdca26"
             ],
             [
              1,
              "#f0f921"
             ]
            ],
            "type": "histogram2d"
           }
          ],
          "histogram2dcontour": [
           {
            "colorbar": {
             "outlinewidth": 0,
             "ticks": ""
            },
            "colorscale": [
             [
              0,
              "#0d0887"
             ],
             [
              0.1111111111111111,
              "#46039f"
             ],
             [
              0.2222222222222222,
              "#7201a8"
             ],
             [
              0.3333333333333333,
              "#9c179e"
             ],
             [
              0.4444444444444444,
              "#bd3786"
             ],
             [
              0.5555555555555556,
              "#d8576b"
             ],
             [
              0.6666666666666666,
              "#ed7953"
             ],
             [
              0.7777777777777778,
              "#fb9f3a"
             ],
             [
              0.8888888888888888,
              "#fdca26"
             ],
             [
              1,
              "#f0f921"
             ]
            ],
            "type": "histogram2dcontour"
           }
          ],
          "mesh3d": [
           {
            "colorbar": {
             "outlinewidth": 0,
             "ticks": ""
            },
            "type": "mesh3d"
           }
          ],
          "parcoords": [
           {
            "line": {
             "colorbar": {
              "outlinewidth": 0,
              "ticks": ""
             }
            },
            "type": "parcoords"
           }
          ],
          "pie": [
           {
            "automargin": true,
            "type": "pie"
           }
          ],
          "scatter": [
           {
            "marker": {
             "colorbar": {
              "outlinewidth": 0,
              "ticks": ""
             }
            },
            "type": "scatter"
           }
          ],
          "scatter3d": [
           {
            "line": {
             "colorbar": {
              "outlinewidth": 0,
              "ticks": ""
             }
            },
            "marker": {
             "colorbar": {
              "outlinewidth": 0,
              "ticks": ""
             }
            },
            "type": "scatter3d"
           }
          ],
          "scattercarpet": [
           {
            "marker": {
             "colorbar": {
              "outlinewidth": 0,
              "ticks": ""
             }
            },
            "type": "scattercarpet"
           }
          ],
          "scattergeo": [
           {
            "marker": {
             "colorbar": {
              "outlinewidth": 0,
              "ticks": ""
             }
            },
            "type": "scattergeo"
           }
          ],
          "scattergl": [
           {
            "marker": {
             "colorbar": {
              "outlinewidth": 0,
              "ticks": ""
             }
            },
            "type": "scattergl"
           }
          ],
          "scattermapbox": [
           {
            "marker": {
             "colorbar": {
              "outlinewidth": 0,
              "ticks": ""
             }
            },
            "type": "scattermapbox"
           }
          ],
          "scatterpolar": [
           {
            "marker": {
             "colorbar": {
              "outlinewidth": 0,
              "ticks": ""
             }
            },
            "type": "scatterpolar"
           }
          ],
          "scatterpolargl": [
           {
            "marker": {
             "colorbar": {
              "outlinewidth": 0,
              "ticks": ""
             }
            },
            "type": "scatterpolargl"
           }
          ],
          "scatterternary": [
           {
            "marker": {
             "colorbar": {
              "outlinewidth": 0,
              "ticks": ""
             }
            },
            "type": "scatterternary"
           }
          ],
          "surface": [
           {
            "colorbar": {
             "outlinewidth": 0,
             "ticks": ""
            },
            "colorscale": [
             [
              0,
              "#0d0887"
             ],
             [
              0.1111111111111111,
              "#46039f"
             ],
             [
              0.2222222222222222,
              "#7201a8"
             ],
             [
              0.3333333333333333,
              "#9c179e"
             ],
             [
              0.4444444444444444,
              "#bd3786"
             ],
             [
              0.5555555555555556,
              "#d8576b"
             ],
             [
              0.6666666666666666,
              "#ed7953"
             ],
             [
              0.7777777777777778,
              "#fb9f3a"
             ],
             [
              0.8888888888888888,
              "#fdca26"
             ],
             [
              1,
              "#f0f921"
             ]
            ],
            "type": "surface"
           }
          ],
          "table": [
           {
            "cells": {
             "fill": {
              "color": "#EBF0F8"
             },
             "line": {
              "color": "white"
             }
            },
            "header": {
             "fill": {
              "color": "#C8D4E3"
             },
             "line": {
              "color": "white"
             }
            },
            "type": "table"
           }
          ]
         },
         "layout": {
          "annotationdefaults": {
           "arrowcolor": "#2a3f5f",
           "arrowhead": 0,
           "arrowwidth": 1
          },
          "autotypenumbers": "strict",
          "coloraxis": {
           "colorbar": {
            "outlinewidth": 0,
            "ticks": ""
           }
          },
          "colorscale": {
           "diverging": [
            [
             0,
             "#8e0152"
            ],
            [
             0.1,
             "#c51b7d"
            ],
            [
             0.2,
             "#de77ae"
            ],
            [
             0.3,
             "#f1b6da"
            ],
            [
             0.4,
             "#fde0ef"
            ],
            [
             0.5,
             "#f7f7f7"
            ],
            [
             0.6,
             "#e6f5d0"
            ],
            [
             0.7,
             "#b8e186"
            ],
            [
             0.8,
             "#7fbc41"
            ],
            [
             0.9,
             "#4d9221"
            ],
            [
             1,
             "#276419"
            ]
           ],
           "sequential": [
            [
             0,
             "#0d0887"
            ],
            [
             0.1111111111111111,
             "#46039f"
            ],
            [
             0.2222222222222222,
             "#7201a8"
            ],
            [
             0.3333333333333333,
             "#9c179e"
            ],
            [
             0.4444444444444444,
             "#bd3786"
            ],
            [
             0.5555555555555556,
             "#d8576b"
            ],
            [
             0.6666666666666666,
             "#ed7953"
            ],
            [
             0.7777777777777778,
             "#fb9f3a"
            ],
            [
             0.8888888888888888,
             "#fdca26"
            ],
            [
             1,
             "#f0f921"
            ]
           ],
           "sequentialminus": [
            [
             0,
             "#0d0887"
            ],
            [
             0.1111111111111111,
             "#46039f"
            ],
            [
             0.2222222222222222,
             "#7201a8"
            ],
            [
             0.3333333333333333,
             "#9c179e"
            ],
            [
             0.4444444444444444,
             "#bd3786"
            ],
            [
             0.5555555555555556,
             "#d8576b"
            ],
            [
             0.6666666666666666,
             "#ed7953"
            ],
            [
             0.7777777777777778,
             "#fb9f3a"
            ],
            [
             0.8888888888888888,
             "#fdca26"
            ],
            [
             1,
             "#f0f921"
            ]
           ]
          },
          "colorway": [
           "#636efa",
           "#EF553B",
           "#00cc96",
           "#ab63fa",
           "#FFA15A",
           "#19d3f3",
           "#FF6692",
           "#B6E880",
           "#FF97FF",
           "#FECB52"
          ],
          "font": {
           "color": "#2a3f5f"
          },
          "geo": {
           "bgcolor": "white",
           "lakecolor": "white",
           "landcolor": "#E5ECF6",
           "showlakes": true,
           "showland": true,
           "subunitcolor": "white"
          },
          "hoverlabel": {
           "align": "left"
          },
          "hovermode": "closest",
          "mapbox": {
           "style": "light"
          },
          "paper_bgcolor": "white",
          "plot_bgcolor": "#E5ECF6",
          "polar": {
           "angularaxis": {
            "gridcolor": "white",
            "linecolor": "white",
            "ticks": ""
           },
           "bgcolor": "#E5ECF6",
           "radialaxis": {
            "gridcolor": "white",
            "linecolor": "white",
            "ticks": ""
           }
          },
          "scene": {
           "xaxis": {
            "backgroundcolor": "#E5ECF6",
            "gridcolor": "white",
            "gridwidth": 2,
            "linecolor": "white",
            "showbackground": true,
            "ticks": "",
            "zerolinecolor": "white"
           },
           "yaxis": {
            "backgroundcolor": "#E5ECF6",
            "gridcolor": "white",
            "gridwidth": 2,
            "linecolor": "white",
            "showbackground": true,
            "ticks": "",
            "zerolinecolor": "white"
           },
           "zaxis": {
            "backgroundcolor": "#E5ECF6",
            "gridcolor": "white",
            "gridwidth": 2,
            "linecolor": "white",
            "showbackground": true,
            "ticks": "",
            "zerolinecolor": "white"
           }
          },
          "shapedefaults": {
           "line": {
            "color": "#2a3f5f"
           }
          },
          "ternary": {
           "aaxis": {
            "gridcolor": "white",
            "linecolor": "white",
            "ticks": ""
           },
           "baxis": {
            "gridcolor": "white",
            "linecolor": "white",
            "ticks": ""
           },
           "bgcolor": "#E5ECF6",
           "caxis": {
            "gridcolor": "white",
            "linecolor": "white",
            "ticks": ""
           }
          },
          "title": {
           "x": 0.05
          },
          "xaxis": {
           "automargin": true,
           "gridcolor": "white",
           "linecolor": "white",
           "ticks": "",
           "title": {
            "standoff": 15
           },
           "zerolinecolor": "white",
           "zerolinewidth": 2
          },
          "yaxis": {
           "automargin": true,
           "gridcolor": "white",
           "linecolor": "white",
           "ticks": "",
           "title": {
            "standoff": 15
           },
           "zerolinecolor": "white",
           "zerolinewidth": 2
          }
         }
        },
        "title": {
         "text": "Parallel Coordinate Plot"
        }
       }
      }
     },
     "metadata": {},
     "output_type": "display_data"
    }
   ],
   "source": [
    "optuna.visualization.plot_parallel_coordinate(study)"
   ]
  },
  {
   "cell_type": "code",
   "execution_count": 82,
   "id": "4afa60aa",
   "metadata": {},
   "outputs": [
    {
     "name": "stdout",
     "output_type": "stream",
     "text": [
      "Best trial: {'n_estimators': 97, 'max_depth': 10, 'min_samples_leaf': 1, 'min_samples_split': 3}\n"
     ]
    },
    {
     "data": {
      "text/plain": [
       "97"
      ]
     },
     "execution_count": 82,
     "metadata": {},
     "output_type": "execute_result"
    }
   ],
   "source": [
    "print(\"Best trial:\", study.best_trial.params)\n",
    "study.best_trial.params[\"n_estimators\"]"
   ]
  },
  {
   "cell_type": "code",
   "execution_count": 83,
   "id": "3b45adad",
   "metadata": {},
   "outputs": [
    {
     "data": {
      "text/html": [
       "<style>#sk-container-id-3 {color: black;}#sk-container-id-3 pre{padding: 0;}#sk-container-id-3 div.sk-toggleable {background-color: white;}#sk-container-id-3 label.sk-toggleable__label {cursor: pointer;display: block;width: 100%;margin-bottom: 0;padding: 0.3em;box-sizing: border-box;text-align: center;}#sk-container-id-3 label.sk-toggleable__label-arrow:before {content: \"▸\";float: left;margin-right: 0.25em;color: #696969;}#sk-container-id-3 label.sk-toggleable__label-arrow:hover:before {color: black;}#sk-container-id-3 div.sk-estimator:hover label.sk-toggleable__label-arrow:before {color: black;}#sk-container-id-3 div.sk-toggleable__content {max-height: 0;max-width: 0;overflow: hidden;text-align: left;background-color: #f0f8ff;}#sk-container-id-3 div.sk-toggleable__content pre {margin: 0.2em;color: black;border-radius: 0.25em;background-color: #f0f8ff;}#sk-container-id-3 input.sk-toggleable__control:checked~div.sk-toggleable__content {max-height: 200px;max-width: 100%;overflow: auto;}#sk-container-id-3 input.sk-toggleable__control:checked~label.sk-toggleable__label-arrow:before {content: \"▾\";}#sk-container-id-3 div.sk-estimator input.sk-toggleable__control:checked~label.sk-toggleable__label {background-color: #d4ebff;}#sk-container-id-3 div.sk-label input.sk-toggleable__control:checked~label.sk-toggleable__label {background-color: #d4ebff;}#sk-container-id-3 input.sk-hidden--visually {border: 0;clip: rect(1px 1px 1px 1px);clip: rect(1px, 1px, 1px, 1px);height: 1px;margin: -1px;overflow: hidden;padding: 0;position: absolute;width: 1px;}#sk-container-id-3 div.sk-estimator {font-family: monospace;background-color: #f0f8ff;border: 1px dotted black;border-radius: 0.25em;box-sizing: border-box;margin-bottom: 0.5em;}#sk-container-id-3 div.sk-estimator:hover {background-color: #d4ebff;}#sk-container-id-3 div.sk-parallel-item::after {content: \"\";width: 100%;border-bottom: 1px solid gray;flex-grow: 1;}#sk-container-id-3 div.sk-label:hover label.sk-toggleable__label {background-color: #d4ebff;}#sk-container-id-3 div.sk-serial::before {content: \"\";position: absolute;border-left: 1px solid gray;box-sizing: border-box;top: 0;bottom: 0;left: 50%;z-index: 0;}#sk-container-id-3 div.sk-serial {display: flex;flex-direction: column;align-items: center;background-color: white;padding-right: 0.2em;padding-left: 0.2em;position: relative;}#sk-container-id-3 div.sk-item {position: relative;z-index: 1;}#sk-container-id-3 div.sk-parallel {display: flex;align-items: stretch;justify-content: center;background-color: white;position: relative;}#sk-container-id-3 div.sk-item::before, #sk-container-id-3 div.sk-parallel-item::before {content: \"\";position: absolute;border-left: 1px solid gray;box-sizing: border-box;top: 0;bottom: 0;left: 50%;z-index: -1;}#sk-container-id-3 div.sk-parallel-item {display: flex;flex-direction: column;z-index: 1;position: relative;background-color: white;}#sk-container-id-3 div.sk-parallel-item:first-child::after {align-self: flex-end;width: 50%;}#sk-container-id-3 div.sk-parallel-item:last-child::after {align-self: flex-start;width: 50%;}#sk-container-id-3 div.sk-parallel-item:only-child::after {width: 0;}#sk-container-id-3 div.sk-dashed-wrapped {border: 1px dashed gray;margin: 0 0.4em 0.5em 0.4em;box-sizing: border-box;padding-bottom: 0.4em;background-color: white;}#sk-container-id-3 div.sk-label label {font-family: monospace;font-weight: bold;display: inline-block;line-height: 1.2em;}#sk-container-id-3 div.sk-label-container {text-align: center;}#sk-container-id-3 div.sk-container {/* jupyter's `normalize.less` sets `[hidden] { display: none; }` but bootstrap.min.css set `[hidden] { display: none !important; }` so we also need the `!important` here to be able to override the default hidden behavior on the sphinx rendered scikit-learn.org. See: https://github.com/scikit-learn/scikit-learn/issues/21755 */display: inline-block !important;position: relative;}#sk-container-id-3 div.sk-text-repr-fallback {display: none;}</style><div id=\"sk-container-id-3\" class=\"sk-top-container\"><div class=\"sk-text-repr-fallback\"><pre>RandomForestRegressor(max_depth=10, min_samples_split=3, n_estimators=97,\n",
       "                      random_state=42)</pre><b>In a Jupyter environment, please rerun this cell to show the HTML representation or trust the notebook. <br />On GitHub, the HTML representation is unable to render, please try loading this page with nbviewer.org.</b></div><div class=\"sk-container\" hidden><div class=\"sk-item\"><div class=\"sk-estimator sk-toggleable\"><input class=\"sk-toggleable__control sk-hidden--visually\" id=\"sk-estimator-id-3\" type=\"checkbox\" checked><label for=\"sk-estimator-id-3\" class=\"sk-toggleable__label sk-toggleable__label-arrow\">RandomForestRegressor</label><div class=\"sk-toggleable__content\"><pre>RandomForestRegressor(max_depth=10, min_samples_split=3, n_estimators=97,\n",
       "                      random_state=42)</pre></div></div></div></div></div>"
      ],
      "text/plain": [
       "RandomForestRegressor(max_depth=10, min_samples_split=3, n_estimators=97,\n",
       "                      random_state=42)"
      ]
     },
     "execution_count": 83,
     "metadata": {},
     "output_type": "execute_result"
    }
   ],
   "source": [
    "rf_params = {\n",
    "    \"random_state\": 42,\n",
    "    #\"learning_rate\": 0.1,\n",
    "    \"n_estimators\": study.best_trial.params[\"n_estimators\"],\n",
    "    \"max_depth\": study.best_trial.params[\"max_depth\"],\n",
    "    \"min_samples_leaf\": study.best_trial.params[\"min_samples_leaf\"],\n",
    "    \"min_samples_split\": study.best_trial.params[\"min_samples_split\"],\n",
    "    #\"subsample\": study.best_trial.params[\"subsample\"]\n",
    "}\n",
    "\n",
    "rf = RandomForestRegressor(**rf_params)\n",
    "rf.fit(Cd_X_train, Cd_y_train)"
   ]
  },
  {
   "cell_type": "code",
   "execution_count": 84,
   "id": "9ab1055b",
   "metadata": {},
   "outputs": [],
   "source": [
    "y_train_pred = rf.predict(Cd_X_train)\n",
    "y_test_pred = rf.predict(Cd_X_test)"
   ]
  },
  {
   "cell_type": "code",
   "execution_count": 85,
   "id": "425b4001",
   "metadata": {},
   "outputs": [
    {
     "name": "stdout",
     "output_type": "stream",
     "text": [
      "Train RMSE:  0.041498487211893385\n",
      "Test RMSE:  0.055835591616563526\n"
     ]
    }
   ],
   "source": [
    "print(\"Train RMSE: \", np.sqrt(mean_squared_error(Cd_y_train, y_train_pred)))\n",
    "print(\"Test RMSE: \", np.sqrt(mean_squared_error(Cd_y_test, y_test_pred)))"
   ]
  },
  {
   "cell_type": "code",
   "execution_count": 86,
   "id": "0f95ae3c",
   "metadata": {},
   "outputs": [
    {
     "name": "stdout",
     "output_type": "stream",
     "text": [
      "Train R2:  0.6580319441482898\n",
      "Test R2:  0.01792071027687514\n"
     ]
    }
   ],
   "source": [
    "print(\"Train R2: \", r2_score(Cd_y_train, y_train_pred))\n",
    "print(\"Test R2: \", r2_score(Cd_y_test, y_test_pred))"
   ]
  },
  {
   "cell_type": "code",
   "execution_count": 87,
   "id": "aa0a517d",
   "metadata": {},
   "outputs": [
    {
     "data": {
      "image/png": "[encoded data removed]",
      "text/plain": [
       "<Figure size 640x480 with 1 Axes>"
      ]
     },
     "metadata": {},
     "output_type": "display_data"
    }
   ],
   "source": [
    "plt.scatter(y_train_pred, np.array(Cd_y_train), color=\"orange\", alpha=0.3)\n",
    "plt.scatter(y_test_pred, np.array(Cd_y_test), color=\"green\", alpha=0.4)\n",
    "plt.axis(\"auto\") # scaled, tight, auto, image, square\n",
    "# plt.xlim([0, 1.5]) \n",
    "# plt.ylim(0, None) \n",
    "plt.xlabel('Predicted Values')\n",
    "plt.ylabel('Actual Values')\n",
    "\n",
    "# Add y=x line\n",
    "plt.plot([0, 0.5], [0, 0.5], color='red', linestyle='-')\n",
    "\n",
    "plt.show()"
   ]
  },
  {
   "attachments": {},
   "cell_type": "markdown",
   "id": "74f680ea",
   "metadata": {},
   "source": [
    "Ni"
   ]
  },
  {
   "cell_type": "code",
   "execution_count": 88,
   "id": "de233338",
   "metadata": {},
   "outputs": [
    {
     "name": "stderr",
     "output_type": "stream",
     "text": [
      "\u001b[32m[I 2023-08-29 01:10:03,438]\u001b[0m A new study created in memory with name: rf_parameter_opt\u001b[0m\n",
      "\u001b[32m[I 2023-08-29 01:10:05,095]\u001b[0m Trial 0 finished with value: 0.6180832888791709 and parameters: {'n_estimators': 56, 'max_depth': 6, 'min_samples_leaf': 7, 'min_samples_split': 19}. Best is trial 0 with value: 0.6180832888791709.\u001b[0m\n",
      "\u001b[32m[I 2023-08-29 01:10:06,324]\u001b[0m Trial 1 finished with value: 0.5862036157905788 and parameters: {'n_estimators': 44, 'max_depth': 8, 'min_samples_leaf': 19, 'min_samples_split': 5}. Best is trial 0 with value: 0.6180832888791709.\u001b[0m\n",
      "\u001b[32m[I 2023-08-29 01:10:08,990]\u001b[0m Trial 2 finished with value: 0.6279499046763062 and parameters: {'n_estimators': 88, 'max_depth': 6, 'min_samples_leaf': 6, 'min_samples_split': 5}. Best is trial 2 with value: 0.6279499046763062.\u001b[0m\n",
      "\u001b[32m[I 2023-08-29 01:10:10,388]\u001b[0m Trial 3 finished with value: 0.545165430324005 and parameters: {'n_estimators': 62, 'max_depth': 4, 'min_samples_leaf': 5, 'min_samples_split': 3}. Best is trial 2 with value: 0.6279499046763062.\u001b[0m\n",
      "\u001b[32m[I 2023-08-29 01:10:11,987]\u001b[0m Trial 4 finished with value: 0.5172950178859704 and parameters: {'n_estimators': 74, 'max_depth': 4, 'min_samples_leaf': 15, 'min_samples_split': 7}. Best is trial 2 with value: 0.6279499046763062.\u001b[0m\n",
      "\u001b[32m[I 2023-08-29 01:10:14,655]\u001b[0m Trial 5 finished with value: 0.6140005177757755 and parameters: {'n_estimators': 91, 'max_depth': 7, 'min_samples_leaf': 13, 'min_samples_split': 8}. Best is trial 2 with value: 0.6279499046763062.\u001b[0m\n",
      "\u001b[32m[I 2023-08-29 01:10:17,390]\u001b[0m Trial 6 finished with value: 0.6283249626103474 and parameters: {'n_estimators': 90, 'max_depth': 7, 'min_samples_leaf': 10, 'min_samples_split': 9}. Best is trial 6 with value: 0.6283249626103474.\u001b[0m\n",
      "\u001b[32m[I 2023-08-29 01:10:19,788]\u001b[0m Trial 7 finished with value: 0.6503568571415721 and parameters: {'n_estimators': 73, 'max_depth': 8, 'min_samples_leaf': 9, 'min_samples_split': 11}. Best is trial 7 with value: 0.6503568571415721.\u001b[0m\n",
      "\u001b[32m[I 2023-08-29 01:10:20,276]\u001b[0m Trial 8 finished with value: 0.5383113900144532 and parameters: {'n_estimators': 22, 'max_depth': 4, 'min_samples_leaf': 7, 'min_samples_split': 17}. Best is trial 7 with value: 0.6503568571415721.\u001b[0m\n",
      "\u001b[32m[I 2023-08-29 01:10:21,260]\u001b[0m Trial 9 finished with value: 0.5976388276041588 and parameters: {'n_estimators': 34, 'max_depth': 10, 'min_samples_leaf': 17, 'min_samples_split': 13}. Best is trial 7 with value: 0.6503568571415721.\u001b[0m\n",
      "\u001b[32m[I 2023-08-29 01:10:21,930]\u001b[0m Trial 10 finished with value: 0.36716150953130056 and parameters: {'n_estimators': 71, 'max_depth': 1, 'min_samples_leaf': 1, 'min_samples_split': 13}. Best is trial 7 with value: 0.6503568571415721.\u001b[0m\n",
      "\u001b[32m[I 2023-08-29 01:10:25,165]\u001b[0m Trial 11 finished with value: 0.6472523297812873 and parameters: {'n_estimators': 100, 'max_depth': 9, 'min_samples_leaf': 11, 'min_samples_split': 10}. Best is trial 7 with value: 0.6503568571415721.\u001b[0m\n",
      "\u001b[32m[I 2023-08-29 01:10:28,469]\u001b[0m Trial 12 finished with value: 0.6504295847344858 and parameters: {'n_estimators': 100, 'max_depth': 10, 'min_samples_leaf': 11, 'min_samples_split': 12}. Best is trial 12 with value: 0.6504295847344858.\u001b[0m\n",
      "\u001b[32m[I 2023-08-29 01:10:31,044]\u001b[0m Trial 13 finished with value: 0.6565244018363465 and parameters: {'n_estimators': 76, 'max_depth': 10, 'min_samples_leaf': 10, 'min_samples_split': 14}. Best is trial 13 with value: 0.6565244018363465.\u001b[0m\n",
      "\u001b[32m[I 2023-08-29 01:10:34,106]\u001b[0m Trial 14 finished with value: 0.6274476760041292 and parameters: {'n_estimators': 100, 'max_depth': 10, 'min_samples_leaf': 14, 'min_samples_split': 15}. Best is trial 13 with value: 0.6565244018363465.\u001b[0m\n",
      "\u001b[32m[I 2023-08-29 01:10:37,659]\u001b[0m Trial 15 finished with value: 0.7007211429947364 and parameters: {'n_estimators': 85, 'max_depth': 10, 'min_samples_leaf': 2, 'min_samples_split': 14}. Best is trial 15 with value: 0.7007211429947364.\u001b[0m\n",
      "\u001b[32m[I 2023-08-29 01:10:40,891]\u001b[0m Trial 16 finished with value: 0.6920552048522328 and parameters: {'n_estimators': 80, 'max_depth': 9, 'min_samples_leaf': 1, 'min_samples_split': 16}. Best is trial 15 with value: 0.7007211429947364.\u001b[0m\n",
      "\u001b[32m[I 2023-08-29 01:10:44,018]\u001b[0m Trial 17 finished with value: 0.6726061649324819 and parameters: {'n_estimators': 82, 'max_depth': 8, 'min_samples_leaf': 1, 'min_samples_split': 20}. Best is trial 15 with value: 0.7007211429947364.\u001b[0m\n",
      "\u001b[32m[I 2023-08-29 01:10:44,645]\u001b[0m Trial 18 finished with value: 0.3673639609916942 and parameters: {'n_estimators': 63, 'max_depth': 1, 'min_samples_leaf': 3, 'min_samples_split': 16}. Best is trial 15 with value: 0.7007211429947364.\u001b[0m\n",
      "\u001b[32m[I 2023-08-29 01:10:46,466]\u001b[0m Trial 19 finished with value: 0.6825845311754317 and parameters: {'n_estimators': 46, 'max_depth': 9, 'min_samples_leaf': 3, 'min_samples_split': 18}. Best is trial 15 with value: 0.7007211429947364.\u001b[0m\n",
      "\u001b[32m[I 2023-08-29 01:10:47,025]\u001b[0m Trial 20 finished with value: 0.6702165543124636 and parameters: {'n_estimators': 14, 'max_depth': 9, 'min_samples_leaf': 4, 'min_samples_split': 16}. Best is trial 15 with value: 0.7007211429947364.\u001b[0m\n",
      "\u001b[32m[I 2023-08-29 01:10:48,957]\u001b[0m Trial 21 finished with value: 0.6833932729482498 and parameters: {'n_estimators': 49, 'max_depth': 9, 'min_samples_leaf': 3, 'min_samples_split': 18}. Best is trial 15 with value: 0.7007211429947364.\u001b[0m\n",
      "\u001b[32m[I 2023-08-29 01:10:50,649]\u001b[0m Trial 22 finished with value: 0.6843138523847468 and parameters: {'n_estimators': 42, 'max_depth': 9, 'min_samples_leaf': 1, 'min_samples_split': 18}. Best is trial 15 with value: 0.7007211429947364.\u001b[0m\n",
      "\u001b[32m[I 2023-08-29 01:10:51,863]\u001b[0m Trial 23 finished with value: 0.6571157397396081 and parameters: {'n_estimators': 33, 'max_depth': 7, 'min_samples_leaf': 1, 'min_samples_split': 15}. Best is trial 15 with value: 0.7007211429947364.\u001b[0m\n",
      "\u001b[32m[I 2023-08-29 01:10:53,079]\u001b[0m Trial 24 finished with value: 0.6683950059533152 and parameters: {'n_estimators': 33, 'max_depth': 8, 'min_samples_leaf': 2, 'min_samples_split': 20}. Best is trial 15 with value: 0.7007211429947364.\u001b[0m\n",
      "\u001b[32m[I 2023-08-29 01:10:54,831]\u001b[0m Trial 25 finished with value: 0.5899820973649323 and parameters: {'n_estimators': 66, 'max_depth': 5, 'min_samples_leaf': 5, 'min_samples_split': 17}. Best is trial 15 with value: 0.7007211429947364.\u001b[0m\n",
      "\u001b[32m[I 2023-08-29 01:10:56,759]\u001b[0m Trial 26 finished with value: 0.6693581729354433 and parameters: {'n_estimators': 54, 'max_depth': 9, 'min_samples_leaf': 8, 'min_samples_split': 14}. Best is trial 15 with value: 0.7007211429947364.\u001b[0m\n",
      "\u001b[32m[I 2023-08-29 01:10:57,906]\u001b[0m Trial 27 finished with value: 0.44676857207996645 and parameters: {'n_estimators': 83, 'max_depth': 2, 'min_samples_leaf': 4, 'min_samples_split': 18}. Best is trial 15 with value: 0.7007211429947364.\u001b[0m\n",
      "\u001b[32m[I 2023-08-29 01:10:59,548]\u001b[0m Trial 28 finished with value: 0.6933958830879474 and parameters: {'n_estimators': 38, 'max_depth': 10, 'min_samples_leaf': 1, 'min_samples_split': 16}. Best is trial 15 with value: 0.7007211429947364.\u001b[0m\n",
      "\u001b[32m[I 2023-08-29 01:11:01,730]\u001b[0m Trial 29 finished with value: 0.6956456080490596 and parameters: {'n_estimators': 55, 'max_depth': 10, 'min_samples_leaf': 6, 'min_samples_split': 11}. Best is trial 15 with value: 0.7007211429947364.\u001b[0m\n",
      "\u001b[32m[I 2023-08-29 01:11:03,896]\u001b[0m Trial 30 finished with value: 0.6956456080490596 and parameters: {'n_estimators': 55, 'max_depth': 10, 'min_samples_leaf': 6, 'min_samples_split': 11}. Best is trial 15 with value: 0.7007211429947364.\u001b[0m\n",
      "\u001b[32m[I 2023-08-29 01:11:06,062]\u001b[0m Trial 31 finished with value: 0.685592845450766 and parameters: {'n_estimators': 57, 'max_depth': 10, 'min_samples_leaf': 7, 'min_samples_split': 11}. Best is trial 15 with value: 0.7007211429947364.\u001b[0m\n",
      "\u001b[32m[I 2023-08-29 01:11:07,652]\u001b[0m Trial 32 finished with value: 0.6949551864150221 and parameters: {'n_estimators': 39, 'max_depth': 10, 'min_samples_leaf': 5, 'min_samples_split': 12}. Best is trial 15 with value: 0.7007211429947364.\u001b[0m\n",
      "\u001b[32m[I 2023-08-29 01:11:09,797]\u001b[0m Trial 33 finished with value: 0.6958797497139222 and parameters: {'n_estimators': 53, 'max_depth': 10, 'min_samples_leaf': 6, 'min_samples_split': 10}. Best is trial 15 with value: 0.7007211429947364.\u001b[0m\n",
      "\u001b[32m[I 2023-08-29 01:11:11,679]\u001b[0m Trial 34 finished with value: 0.6676214851785055 and parameters: {'n_estimators': 53, 'max_depth': 8, 'min_samples_leaf': 7, 'min_samples_split': 6}. Best is trial 15 with value: 0.7007211429947364.\u001b[0m\n",
      "\u001b[32m[I 2023-08-29 01:11:14,186]\u001b[0m Trial 35 finished with value: 0.6956796307268636 and parameters: {'n_estimators': 60, 'max_depth': 10, 'min_samples_leaf': 6, 'min_samples_split': 10}. Best is trial 15 with value: 0.7007211429947364.\u001b[0m\n",
      "\u001b[32m[I 2023-08-29 01:11:16,022]\u001b[0m Trial 36 finished with value: 0.5650448522663309 and parameters: {'n_estimators': 67, 'max_depth': 6, 'min_samples_leaf': 20, 'min_samples_split': 9}. Best is trial 15 with value: 0.7007211429947364.\u001b[0m\n",
      "\u001b[32m[I 2023-08-29 01:11:18,107]\u001b[0m Trial 37 finished with value: 0.6592857228820778 and parameters: {'n_estimators': 62, 'max_depth': 8, 'min_samples_leaf': 8, 'min_samples_split': 3}. Best is trial 15 with value: 0.7007211429947364.\u001b[0m\n",
      "\u001b[32m[I 2023-08-29 01:11:20,154]\u001b[0m Trial 38 finished with value: 0.654441622293613 and parameters: {'n_estimators': 59, 'max_depth': 7, 'min_samples_leaf': 6, 'min_samples_split': 8}. Best is trial 15 with value: 0.7007211429947364.\u001b[0m\n",
      "\u001b[32m[I 2023-08-29 01:11:20,585]\u001b[0m Trial 39 finished with value: 0.48449960886062005 and parameters: {'n_estimators': 22, 'max_depth': 3, 'min_samples_leaf': 9, 'min_samples_split': 9}. Best is trial 15 with value: 0.7007211429947364.\u001b[0m\n",
      "\u001b[32m[I 2023-08-29 01:11:22,770]\u001b[0m Trial 40 finished with value: 0.6992115536669374 and parameters: {'n_estimators': 50, 'max_depth': 9, 'min_samples_leaf': 4, 'min_samples_split': 7}. Best is trial 15 with value: 0.7007211429947364.\u001b[0m\n",
      "\u001b[32m[I 2023-08-29 01:11:24,850]\u001b[0m Trial 41 finished with value: 0.7078145568877015 and parameters: {'n_estimators': 46, 'max_depth': 10, 'min_samples_leaf': 4, 'min_samples_split': 7}. Best is trial 41 with value: 0.7078145568877015.\u001b[0m\n",
      "\u001b[32m[I 2023-08-29 01:11:26,883]\u001b[0m Trial 42 finished with value: 0.6997863219111005 and parameters: {'n_estimators': 49, 'max_depth': 9, 'min_samples_leaf': 4, 'min_samples_split': 5}. Best is trial 41 with value: 0.7078145568877015.\u001b[0m\n",
      "\u001b[32m[I 2023-08-29 01:11:28,883]\u001b[0m Trial 43 finished with value: 0.6997863219111005 and parameters: {'n_estimators': 49, 'max_depth': 9, 'min_samples_leaf': 4, 'min_samples_split': 4}. Best is trial 41 with value: 0.7078145568877015.\u001b[0m\n",
      "\u001b[32m[I 2023-08-29 01:11:30,707]\u001b[0m Trial 44 finished with value: 0.6856537731665776 and parameters: {'n_estimators': 48, 'max_depth': 8, 'min_samples_leaf': 4, 'min_samples_split': 4}. Best is trial 41 with value: 0.7078145568877015.\u001b[0m\n",
      "\u001b[32m[I 2023-08-29 01:11:32,236]\u001b[0m Trial 45 finished with value: 0.6721971884239712 and parameters: {'n_estimators': 43, 'max_depth': 7, 'min_samples_leaf': 2, 'min_samples_split': 2}. Best is trial 41 with value: 0.7078145568877015.\u001b[0m\n",
      "\u001b[32m[I 2023-08-29 01:11:33,410]\u001b[0m Trial 46 finished with value: 0.7000337112385203 and parameters: {'n_estimators': 28, 'max_depth': 9, 'min_samples_leaf': 3, 'min_samples_split': 6}. Best is trial 41 with value: 0.7078145568877015.\u001b[0m\n",
      "\u001b[32m[I 2023-08-29 01:11:34,529]\u001b[0m Trial 47 finished with value: 0.7033547073453615 and parameters: {'n_estimators': 26, 'max_depth': 9, 'min_samples_leaf': 2, 'min_samples_split': 5}. Best is trial 41 with value: 0.7078145568877015.\u001b[0m\n",
      "\u001b[32m[I 2023-08-29 01:11:35,630]\u001b[0m Trial 48 finished with value: 0.6889483834993895 and parameters: {'n_estimators': 28, 'max_depth': 8, 'min_samples_leaf': 2, 'min_samples_split': 5}. Best is trial 41 with value: 0.7078145568877015.\u001b[0m\n",
      "\u001b[32m[I 2023-08-29 01:11:36,376]\u001b[0m Trial 49 finished with value: 0.6382472287024319 and parameters: {'n_estimators': 24, 'max_depth': 6, 'min_samples_leaf': 3, 'min_samples_split': 6}. Best is trial 41 with value: 0.7078145568877015.\u001b[0m\n",
      "\u001b[32m[I 2023-08-29 01:11:36,680]\u001b[0m Trial 50 finished with value: 0.5416892312087577 and parameters: {'n_estimators': 12, 'max_depth': 5, 'min_samples_leaf': 17, 'min_samples_split': 4}. Best is trial 41 with value: 0.7078145568877015.\u001b[0m\n",
      "\u001b[32m[I 2023-08-29 01:11:37,922]\u001b[0m Trial 51 finished with value: 0.7000365183081424 and parameters: {'n_estimators': 29, 'max_depth': 9, 'min_samples_leaf': 2, 'min_samples_split': 6}. Best is trial 41 with value: 0.7078145568877015.\u001b[0m\n",
      "\u001b[32m[I 2023-08-29 01:11:38,736]\u001b[0m Trial 52 finished with value: 0.6941371322327969 and parameters: {'n_estimators': 19, 'max_depth': 9, 'min_samples_leaf': 2, 'min_samples_split': 7}. Best is trial 41 with value: 0.7078145568877015.\u001b[0m\n",
      "\u001b[32m[I 2023-08-29 01:11:39,906]\u001b[0m Trial 53 finished with value: 0.7000337112385203 and parameters: {'n_estimators': 28, 'max_depth': 9, 'min_samples_leaf': 3, 'min_samples_split': 6}. Best is trial 41 with value: 0.7078145568877015.\u001b[0m\n",
      "\u001b[32m[I 2023-08-29 01:11:41,077]\u001b[0m Trial 54 finished with value: 0.7000337112385203 and parameters: {'n_estimators': 28, 'max_depth': 9, 'min_samples_leaf': 3, 'min_samples_split': 6}. Best is trial 41 with value: 0.7078145568877015.\u001b[0m\n",
      "\u001b[32m[I 2023-08-29 01:11:41,847]\u001b[0m Trial 55 finished with value: 0.6997654907726453 and parameters: {'n_estimators': 17, 'max_depth': 10, 'min_samples_leaf': 2, 'min_samples_split': 8}. Best is trial 41 with value: 0.7078145568877015.\u001b[0m\n",
      "\u001b[32m[I 2023-08-29 01:11:42,886]\u001b[0m Trial 56 finished with value: 0.6854477383978386 and parameters: {'n_estimators': 27, 'max_depth': 8, 'min_samples_leaf': 3, 'min_samples_split': 7}. Best is trial 41 with value: 0.7078145568877015.\u001b[0m\n",
      "\u001b[32m[I 2023-08-29 01:11:43,894]\u001b[0m Trial 57 finished with value: 0.6353184376828007 and parameters: {'n_estimators': 31, 'max_depth': 9, 'min_samples_leaf': 12, 'min_samples_split': 3}. Best is trial 41 with value: 0.7078145568877015.\u001b[0m\n",
      "\u001b[32m[I 2023-08-29 01:11:45,320]\u001b[0m Trial 58 finished with value: 0.6775883166642858 and parameters: {'n_estimators': 39, 'max_depth': 8, 'min_samples_leaf': 5, 'min_samples_split': 6}. Best is trial 41 with value: 0.7078145568877015.\u001b[0m\n",
      "\u001b[32m[I 2023-08-29 01:11:46,861]\u001b[0m Trial 59 finished with value: 0.7028064645315817 and parameters: {'n_estimators': 36, 'max_depth': 9, 'min_samples_leaf': 2, 'min_samples_split': 5}. Best is trial 41 with value: 0.7078145568877015.\u001b[0m\n",
      "\u001b[32m[I 2023-08-29 01:11:50,164]\u001b[0m Trial 60 finished with value: 0.6726975814296253 and parameters: {'n_estimators': 94, 'max_depth': 7, 'min_samples_leaf': 2, 'min_samples_split': 5}. Best is trial 41 with value: 0.7078145568877015.\u001b[0m\n",
      "\u001b[32m[I 2023-08-29 01:11:51,765]\u001b[0m Trial 61 finished with value: 0.7064083466335458 and parameters: {'n_estimators': 36, 'max_depth': 9, 'min_samples_leaf': 1, 'min_samples_split': 4}. Best is trial 41 with value: 0.7078145568877015.\u001b[0m\n",
      "\u001b[32m[I 2023-08-29 01:11:53,612]\u001b[0m Trial 62 finished with value: 0.7168895589821925 and parameters: {'n_estimators': 36, 'max_depth': 10, 'min_samples_leaf': 1, 'min_samples_split': 2}. Best is trial 62 with value: 0.7168895589821925.\u001b[0m\n",
      "\u001b[32m[I 2023-08-29 01:11:55,544]\u001b[0m Trial 63 finished with value: 0.7174556028731672 and parameters: {'n_estimators': 37, 'max_depth': 10, 'min_samples_leaf': 1, 'min_samples_split': 2}. Best is trial 63 with value: 0.7174556028731672.\u001b[0m\n",
      "\u001b[32m[I 2023-08-29 01:11:57,467]\u001b[0m Trial 64 finished with value: 0.7174556028731672 and parameters: {'n_estimators': 37, 'max_depth': 10, 'min_samples_leaf': 1, 'min_samples_split': 2}. Best is trial 63 with value: 0.7174556028731672.\u001b[0m\n",
      "\u001b[32m[I 2023-08-29 01:11:59,321]\u001b[0m Trial 65 finished with value: 0.7168895589821925 and parameters: {'n_estimators': 36, 'max_depth': 10, 'min_samples_leaf': 1, 'min_samples_split': 2}. Best is trial 63 with value: 0.7174556028731672.\u001b[0m\n",
      "\u001b[32m[I 2023-08-29 01:12:01,524]\u001b[0m Trial 66 finished with value: 0.7235380521368009 and parameters: {'n_estimators': 44, 'max_depth': 10, 'min_samples_leaf': 1, 'min_samples_split': 2}. Best is trial 66 with value: 0.7235380521368009.\u001b[0m\n",
      "\u001b[32m[I 2023-08-29 01:12:03,597]\u001b[0m Trial 67 finished with value: 0.7200773683239445 and parameters: {'n_estimators': 41, 'max_depth': 10, 'min_samples_leaf': 1, 'min_samples_split': 2}. Best is trial 66 with value: 0.7235380521368009.\u001b[0m\n",
      "\u001b[32m[I 2023-08-29 01:12:05,732]\u001b[0m Trial 68 finished with value: 0.7224452121523334 and parameters: {'n_estimators': 42, 'max_depth': 10, 'min_samples_leaf': 1, 'min_samples_split': 2}. Best is trial 66 with value: 0.7235380521368009.\u001b[0m\n",
      "\u001b[32m[I 2023-08-29 01:12:07,919]\u001b[0m Trial 69 finished with value: 0.722532986704827 and parameters: {'n_estimators': 43, 'max_depth': 10, 'min_samples_leaf': 1, 'min_samples_split': 2}. Best is trial 66 with value: 0.7235380521368009.\u001b[0m\n",
      "\u001b[32m[I 2023-08-29 01:12:09,969]\u001b[0m Trial 70 finished with value: 0.7200773683239445 and parameters: {'n_estimators': 41, 'max_depth': 10, 'min_samples_leaf': 1, 'min_samples_split': 2}. Best is trial 66 with value: 0.7235380521368009.\u001b[0m\n",
      "\u001b[32m[I 2023-08-29 01:12:12,021]\u001b[0m Trial 71 finished with value: 0.7200773683239445 and parameters: {'n_estimators': 41, 'max_depth': 10, 'min_samples_leaf': 1, 'min_samples_split': 2}. Best is trial 66 with value: 0.7235380521368009.\u001b[0m\n",
      "\u001b[32m[I 2023-08-29 01:12:14,047]\u001b[0m Trial 72 finished with value: 0.7205660170106911 and parameters: {'n_estimators': 41, 'max_depth': 10, 'min_samples_leaf': 1, 'min_samples_split': 3}. Best is trial 66 with value: 0.7235380521368009.\u001b[0m\n",
      "\u001b[32m[I 2023-08-29 01:12:16,103]\u001b[0m Trial 73 finished with value: 0.7229048666462784 and parameters: {'n_estimators': 42, 'max_depth': 10, 'min_samples_leaf': 1, 'min_samples_split': 3}. Best is trial 66 with value: 0.7235380521368009.\u001b[0m\n",
      "\u001b[32m[I 2023-08-29 01:12:18,117]\u001b[0m Trial 74 finished with value: 0.7205660170106911 and parameters: {'n_estimators': 41, 'max_depth': 10, 'min_samples_leaf': 1, 'min_samples_split': 3}. Best is trial 66 with value: 0.7235380521368009.\u001b[0m\n",
      "\u001b[32m[I 2023-08-29 01:12:20,333]\u001b[0m Trial 75 finished with value: 0.7230387458818733 and parameters: {'n_estimators': 45, 'max_depth': 10, 'min_samples_leaf': 1, 'min_samples_split': 3}. Best is trial 66 with value: 0.7235380521368009.\u001b[0m\n",
      "\u001b[32m[I 2023-08-29 01:12:22,439]\u001b[0m Trial 76 finished with value: 0.7182233632574049 and parameters: {'n_estimators': 45, 'max_depth': 10, 'min_samples_leaf': 2, 'min_samples_split': 3}. Best is trial 66 with value: 0.7235380521368009.\u001b[0m\n",
      "\u001b[32m[I 2023-08-29 01:12:24,632]\u001b[0m Trial 77 finished with value: 0.7227268144720902 and parameters: {'n_estimators': 43, 'max_depth': 10, 'min_samples_leaf': 1, 'min_samples_split': 3}. Best is trial 66 with value: 0.7235380521368009.\u001b[0m\n",
      "\u001b[32m[I 2023-08-29 01:12:26,694]\u001b[0m Trial 78 finished with value: 0.716663615424884 and parameters: {'n_estimators': 45, 'max_depth': 10, 'min_samples_leaf': 3, 'min_samples_split': 3}. Best is trial 66 with value: 0.7235380521368009.\u001b[0m\n",
      "\u001b[32m[I 2023-08-29 01:12:29,067]\u001b[0m Trial 79 finished with value: 0.720543698549677 and parameters: {'n_estimators': 51, 'max_depth': 10, 'min_samples_leaf': 2, 'min_samples_split': 3}. Best is trial 66 with value: 0.7235380521368009.\u001b[0m\n",
      "\u001b[32m[I 2023-08-29 01:12:31,362]\u001b[0m Trial 80 finished with value: 0.7234859594419664 and parameters: {'n_estimators': 47, 'max_depth': 10, 'min_samples_leaf': 1, 'min_samples_split': 3}. Best is trial 66 with value: 0.7235380521368009.\u001b[0m\n",
      "\u001b[32m[I 2023-08-29 01:12:33,524]\u001b[0m Trial 81 finished with value: 0.7234635492793299 and parameters: {'n_estimators': 44, 'max_depth': 10, 'min_samples_leaf': 1, 'min_samples_split': 3}. Best is trial 66 with value: 0.7235380521368009.\u001b[0m\n",
      "\u001b[32m[I 2023-08-29 01:12:35,703]\u001b[0m Trial 82 finished with value: 0.7192195404479997 and parameters: {'n_estimators': 47, 'max_depth': 10, 'min_samples_leaf': 2, 'min_samples_split': 4}. Best is trial 66 with value: 0.7235380521368009.\u001b[0m\n",
      "\u001b[32m[I 2023-08-29 01:12:37,820]\u001b[0m Trial 83 finished with value: 0.7239634922098531 and parameters: {'n_estimators': 44, 'max_depth': 10, 'min_samples_leaf': 1, 'min_samples_split': 4}. Best is trial 83 with value: 0.7239634922098531.\u001b[0m\n",
      "\u001b[32m[I 2023-08-29 01:12:39,385]\u001b[0m Trial 84 finished with value: 0.6160176406569413 and parameters: {'n_estimators': 52, 'max_depth': 10, 'min_samples_leaf': 15, 'min_samples_split': 4}. Best is trial 83 with value: 0.7239634922098531.\u001b[0m\n",
      "\u001b[32m[I 2023-08-29 01:12:41,327]\u001b[0m Trial 85 finished with value: 0.7169620105313143 and parameters: {'n_estimators': 44, 'max_depth': 10, 'min_samples_leaf': 3, 'min_samples_split': 3}. Best is trial 83 with value: 0.7239634922098531.\u001b[0m\n",
      "\u001b[32m[I 2023-08-29 01:12:43,582]\u001b[0m Trial 86 finished with value: 0.7240745298908371 and parameters: {'n_estimators': 47, 'max_depth': 10, 'min_samples_leaf': 1, 'min_samples_split': 4}. Best is trial 86 with value: 0.7240745298908371.\u001b[0m\n",
      "\u001b[32m[I 2023-08-29 01:12:45,532]\u001b[0m Trial 87 finished with value: 0.7051892525193637 and parameters: {'n_estimators': 47, 'max_depth': 9, 'min_samples_leaf': 3, 'min_samples_split': 3}. Best is trial 86 with value: 0.7240745298908371.\u001b[0m\n",
      "\u001b[32m[I 2023-08-29 01:12:46,820]\u001b[0m Trial 88 finished with value: 0.547833063594517 and parameters: {'n_estimators': 57, 'max_depth': 4, 'min_samples_leaf': 1, 'min_samples_split': 4}. Best is trial 86 with value: 0.7240745298908371.\u001b[0m\n",
      "\u001b[32m[I 2023-08-29 01:12:47,427]\u001b[0m Trial 89 finished with value: 0.49581980172204937 and parameters: {'n_estimators': 33, 'max_depth': 3, 'min_samples_leaf': 2, 'min_samples_split': 4}. Best is trial 86 with value: 0.7240745298908371.\u001b[0m\n",
      "\u001b[32m[I 2023-08-29 01:12:49,465]\u001b[0m Trial 90 finished with value: 0.7184998605699379 and parameters: {'n_estimators': 44, 'max_depth': 10, 'min_samples_leaf': 2, 'min_samples_split': 3}. Best is trial 86 with value: 0.7240745298908371.\u001b[0m\n",
      "\u001b[32m[I 2023-08-29 01:12:51,630]\u001b[0m Trial 91 finished with value: 0.722532986704827 and parameters: {'n_estimators': 43, 'max_depth': 10, 'min_samples_leaf': 1, 'min_samples_split': 2}. Best is trial 86 with value: 0.7240745298908371.\u001b[0m\n",
      "\u001b[32m[I 2023-08-29 01:12:54,207]\u001b[0m Trial 92 finished with value: 0.7238367760546126 and parameters: {'n_estimators': 51, 'max_depth': 10, 'min_samples_leaf': 1, 'min_samples_split': 3}. Best is trial 86 with value: 0.7240745298908371.\u001b[0m\n",
      "\u001b[32m[I 2023-08-29 01:12:56,759]\u001b[0m Trial 93 finished with value: 0.7242424495672177 and parameters: {'n_estimators': 51, 'max_depth': 10, 'min_samples_leaf': 1, 'min_samples_split': 4}. Best is trial 93 with value: 0.7242424495672177.\u001b[0m\n",
      "\u001b[32m[I 2023-08-29 01:12:58,973]\u001b[0m Trial 94 finished with value: 0.7104137460075529 and parameters: {'n_estimators': 51, 'max_depth': 9, 'min_samples_leaf': 2, 'min_samples_split': 4}. Best is trial 93 with value: 0.7242424495672177.\u001b[0m\n",
      "\u001b[32m[I 2023-08-29 01:13:01,396]\u001b[0m Trial 95 finished with value: 0.7168152751024616 and parameters: {'n_estimators': 55, 'max_depth': 10, 'min_samples_leaf': 3, 'min_samples_split': 5}. Best is trial 93 with value: 0.7242424495672177.\u001b[0m\n",
      "\u001b[32m[I 2023-08-29 01:13:03,463]\u001b[0m Trial 96 finished with value: 0.7094011522346977 and parameters: {'n_estimators': 48, 'max_depth': 9, 'min_samples_leaf': 2, 'min_samples_split': 3}. Best is trial 93 with value: 0.7242424495672177.\u001b[0m\n",
      "\u001b[32m[I 2023-08-29 01:13:06,005]\u001b[0m Trial 97 finished with value: 0.7241782782351291 and parameters: {'n_estimators': 53, 'max_depth': 10, 'min_samples_leaf': 1, 'min_samples_split': 4}. Best is trial 93 with value: 0.7242424495672177.\u001b[0m\n",
      "\u001b[32m[I 2023-08-29 01:13:08,701]\u001b[0m Trial 98 finished with value: 0.7174865261604977 and parameters: {'n_estimators': 59, 'max_depth': 10, 'min_samples_leaf': 2, 'min_samples_split': 5}. Best is trial 93 with value: 0.7242424495672177.\u001b[0m\n",
      "\u001b[32m[I 2023-08-29 01:13:11,049]\u001b[0m Trial 99 finished with value: 0.7122634506683904 and parameters: {'n_estimators': 53, 'max_depth': 9, 'min_samples_leaf': 1, 'min_samples_split': 4}. Best is trial 93 with value: 0.7242424495672177.\u001b[0m\n"
     ]
    },
    {
     "name": "stdout",
     "output_type": "stream",
     "text": [
      "Best r2:  0.7242424495672177\n",
      "Best trial: {'n_estimators': 51, 'max_depth': 10, 'min_samples_leaf': 1, 'min_samples_split': 4}\n"
     ]
    }
   ],
   "source": [
    "sampler = TPESampler()\n",
    "study = optuna.create_study(\n",
    "    study_name=\"rf_parameter_opt\",\n",
    "    direction=\"maximize\",\n",
    "    sampler=sampler,\n",
    ")\n",
    "\n",
    "study.optimize(lambda trial : objectiveRF(trial, Ni_X_train, Ni_y_train), n_trials=100)\n",
    "print(\"Best r2: \", study.best_value)\n",
    "print(\"Best trial:\", study.best_trial.params)"
   ]
  },
  {
   "cell_type": "code",
   "execution_count": 89,
   "id": "d71c01fb",
   "metadata": {},
   "outputs": [
    {
     "data": {
      "application/vnd.plotly.v1+json": {
       "config": {
        "plotlyServerURL": "https://plot.ly"
       },
       "data": [
        {
         "dimensions": [
          {
           "label": "Objective Value",
           "range": [
            0.36716150953130056,
            0.7242424495672177
           ],
           "values": [
            0.6180832888791709,
            0.5862036157905788,
            0.6279499046763062,
            0.545165430324005,
            0.5172950178859704,
            0.6140005177757755,
            0.6283249626103474,
            0.6503568571415721,
            0.5383113900144532,
            0.5976388276041588,
            0.36716150953130056,
            0.6472523297812873,
            0.6504295847344858,
            0.6565244018363465,
            0.6274476760041292,
            0.7007211429947364,
            0.6920552048522328,
            0.6726061649324819,
            0.3673639609916942,
            0.6825845311754317,
            0.6702165543124636,
            0.6833932729482498,
            0.6843138523847468,
            0.6571157397396081,
            0.6683950059533152,
            0.5899820973649323,
            0.6693581729354433,
            0.44676857207996645,
            0.6933958830879474,
            0.6956456080490596,
            0.6956456080490596,
            0.685592845450766,
            0.6949551864150221,
            0.6958797497139222,
            0.6676214851785055,
            0.6956796307268636,
            0.5650448522663309,
            0.6592857228820778,
            0.654441622293613,
            0.48449960886062005,
            0.6992115536669374,
            0.7078145568877015,
            0.6997863219111005,
            0.6997863219111005,
            0.6856537731665776,
            0.6721971884239712,
            0.7000337112385203,
            0.7033547073453615,
            0.6889483834993895,
            0.6382472287024319,
            0.5416892312087577,
            0.7000365183081424,
            0.6941371322327969,
            0.7000337112385203,
            0.7000337112385203,
            0.6997654907726453,
            0.6854477383978386,
            0.6353184376828007,
            0.6775883166642858,
            0.7028064645315817,
            0.6726975814296253,
            0.7064083466335458,
            0.7168895589821925,
            0.7174556028731672,
            0.7174556028731672,
            0.7168895589821925,
            0.7235380521368009,
            0.7200773683239445,
            0.7224452121523334,
            0.722532986704827,
            0.7200773683239445,
            0.7200773683239445,
            0.7205660170106911,
            0.7229048666462784,
            0.7205660170106911,
            0.7230387458818733,
            0.7182233632574049,
            0.7227268144720902,
            0.716663615424884,
            0.720543698549677,
            0.7234859594419664,
            0.7234635492793299,
            0.7192195404479997,
            0.7239634922098531,
            0.6160176406569413,
            0.7169620105313143,
            0.7240745298908371,
            0.7051892525193637,
            0.547833063594517,
            0.49581980172204937,
            0.7184998605699379,
            0.722532986704827,
            0.7238367760546126,
            0.7242424495672177,
            0.7104137460075529,
            0.7168152751024616,
            0.7094011522346977,
            0.7241782782351291,
            0.7174865261604977,
            0.7122634506683904
           ]
          },
          {
           "label": "max_depth",
           "range": [
            1,
            10
           ],
           "values": [
            6,
            8,
            6,
            4,
            4,
            7,
            7,
            8,
            4,
            10,
            1,
            9,
            10,
            10,
            10,
            10,
            9,
            8,
            1,
            9,
            9,
            9,
            9,
            7,
            8,
            5,
            9,
            2,
            10,
            10,
            10,
            10,
            10,
            10,
            8,
            10,
            6,
            8,
            7,
            3,
            9,
            10,
            9,
            9,
            8,
            7,
            9,
            9,
            8,
            6,
            5,
            9,
            9,
            9,
            9,
            10,
            8,
            9,
            8,
            9,
            7,
            9,
            10,
            10,
            10,
            10,
            10,
            10,
            10,
            10,
            10,
            10,
            10,
            10,
            10,
            10,
            10,
            10,
            10,
            10,
            10,
            10,
            10,
            10,
            10,
            10,
            10,
            9,
            4,
            3,
            10,
            10,
            10,
            10,
            9,
            10,
            9,
            10,
            10,
            9
           ]
          },
          {
           "label": "min_samples_leaf",
           "range": [
            1,
            20
           ],
           "values": [
            7,
            19,
            6,
            5,
            15,
            13,
            10,
            9,
            7,
            17,
            1,
            11,
            11,
            10,
            14,
            2,
            1,
            1,
            3,
            3,
            4,
            3,
            1,
            1,
            2,
            5,
            8,
            4,
            1,
            6,
            6,
            7,
            5,
            6,
            7,
            6,
            20,
            8,
            6,
            9,
            4,
            4,
            4,
            4,
            4,
            2,
            3,
            2,
            2,
            3,
            17,
            2,
            2,
            3,
            3,
            2,
            3,
            12,
            5,
            2,
            2,
            1,
            1,
            1,
            1,
            1,
            1,
            1,
            1,
            1,
            1,
            1,
            1,
            1,
            1,
            1,
            2,
            1,
            3,
            2,
            1,
            1,
            2,
            1,
            15,
            3,
            1,
            3,
            1,
            2,
            2,
            1,
            1,
            1,
            2,
            3,
            2,
            1,
            2,
            1
           ]
          },
          {
           "label": "min_samples_split",
           "range": [
            2,
            20
           ],
           "values": [
            19,
            5,
            5,
            3,
            7,
            8,
            9,
            11,
            17,
            13,
            13,
            10,
            12,
            14,
            15,
            14,
            16,
            20,
            16,
            18,
            16,
            18,
            18,
            15,
            20,
            17,
            14,
            18,
            16,
            11,
            11,
            11,
            12,
            10,
            6,
            10,
            9,
            3,
            8,
            9,
            7,
            7,
            5,
            4,
            4,
            2,
            6,
            5,
            5,
            6,
            4,
            6,
            7,
            6,
            6,
            8,
            7,
            3,
            6,
            5,
            5,
            4,
            2,
            2,
            2,
            2,
            2,
            2,
            2,
            2,
            2,
            2,
            3,
            3,
            3,
            3,
            3,
            3,
            3,
            3,
            3,
            3,
            4,
            4,
            4,
            3,
            4,
            3,
            4,
            4,
            3,
            2,
            3,
            4,
            4,
            5,
            3,
            4,
            5,
            4
           ]
          },
          {
           "label": "n_estimators",
           "range": [
            12,
            100
           ],
           "values": [
            56,
            44,
            88,
            62,
            74,
            91,
            90,
            73,
            22,
            34,
            71,
            100,
            100,
            76,
            100,
            85,
            80,
            82,
            63,
            46,
            14,
            49,
            42,
            33,
            33,
            66,
            54,
            83,
            38,
            55,
            55,
            57,
            39,
            53,
            53,
            60,
            67,
            62,
            59,
            22,
            50,
            46,
            49,
            49,
            48,
            43,
            28,
            26,
            28,
            24,
            12,
            29,
            19,
            28,
            28,
            17,
            27,
            31,
            39,
            36,
            94,
            36,
            36,
            37,
            37,
            36,
            44,
            41,
            42,
            43,
            41,
            41,
            41,
            42,
            41,
            45,
            45,
            43,
            45,
            51,
            47,
            44,
            47,
            44,
            52,
            44,
            47,
            47,
            57,
            33,
            44,
            43,
            51,
            51,
            51,
            55,
            48,
            53,
            59,
            53
           ]
          }
         ],
         "labelangle": 30,
         "labelside": "bottom",
         "line": {
          "color": [
           0.6180832888791709,
           0.5862036157905788,
           0.6279499046763062,
           0.545165430324005,
           0.5172950178859704,
           0.6140005177757755,
           0.6283249626103474,
           0.6503568571415721,
           0.5383113900144532,
           0.5976388276041588,
           0.36716150953130056,
           0.6472523297812873,
           0.6504295847344858,
           0.6565244018363465,
           0.6274476760041292,
           0.7007211429947364,
           0.6920552048522328,
           0.6726061649324819,
           0.3673639609916942,
           0.6825845311754317,
           0.6702165543124636,
           0.6833932729482498,
           0.6843138523847468,
           0.6571157397396081,
           0.6683950059533152,
           0.5899820973649323,
           0.6693581729354433,
           0.44676857207996645,
           0.6933958830879474,
           0.6956456080490596,
           0.6956456080490596,
           0.685592845450766,
           0.6949551864150221,
           0.6958797497139222,
           0.6676214851785055,
           0.6956796307268636,
           0.5650448522663309,
           0.6592857228820778,
           0.654441622293613,
           0.48449960886062005,
           0.6992115536669374,
           0.7078145568877015,
           0.6997863219111005,
           0.6997863219111005,
           0.6856537731665776,
           0.6721971884239712,
           0.7000337112385203,
           0.7033547073453615,
           0.6889483834993895,
           0.6382472287024319,
           0.5416892312087577,
           0.7000365183081424,
           0.6941371322327969,
           0.7000337112385203,
           0.7000337112385203,
           0.6997654907726453,
           0.6854477383978386,
           0.6353184376828007,
           0.6775883166642858,
           0.7028064645315817,
           0.6726975814296253,
           0.7064083466335458,
           0.7168895589821925,
           0.7174556028731672,
           0.7174556028731672,
           0.7168895589821925,
           0.7235380521368009,
           0.7200773683239445,
           0.7224452121523334,
           0.722532986704827,
           0.7200773683239445,
           0.7200773683239445,
           0.7205660170106911,
           0.7229048666462784,
           0.7205660170106911,
           0.7230387458818733,
           0.7182233632574049,
           0.7227268144720902,
           0.716663615424884,
           0.720543698549677,
           0.7234859594419664,
           0.7234635492793299,
           0.7192195404479997,
           0.7239634922098531,
           0.6160176406569413,
           0.7169620105313143,
           0.7240745298908371,
           0.7051892525193637,
           0.547833063594517,
           0.49581980172204937,
           0.7184998605699379,
           0.722532986704827,
           0.7238367760546126,
           0.7242424495672177,
           0.7104137460075529,
           0.7168152751024616,
           0.7094011522346977,
           0.7241782782351291,
           0.7174865261604977,
           0.7122634506683904
          ],
          "colorbar": {
           "title": {
            "text": "Objective Value"
           }
          },
          "colorscale": [
           [
            0,
            "rgb(247,251,255)"
           ],
           [
            0.125,
            "rgb(222,235,247)"
           ],
           [
            0.25,
            "rgb(198,219,239)"
           ],
           [
            0.375,
            "rgb(158,202,225)"
           ],
           [
            0.5,
            "rgb(107,174,214)"
           ],
           [
            0.625,
            "rgb(66,146,198)"
           ],
           [
            0.75,
            "rgb(33,113,181)"
           ],
           [
            0.875,
            "rgb(8,81,156)"
           ],
           [
            1,
            "rgb(8,48,107)"
           ]
          ],
          "reversescale": false,
          "showscale": true
         },
         "type": "parcoords"
        }
       ],
       "layout": {
        "template": {
         "data": {
          "bar": [
           {
            "error_x": {
             "color": "#2a3f5f"
            },
            "error_y": {
             "color": "#2a3f5f"
            },
            "marker": {
             "line": {
              "color": "#E5ECF6",
              "width": 0.5
             },
             "pattern": {
              "fillmode": "overlay",
              "size": 10,
              "solidity": 0.2
             }
            },
            "type": "bar"
           }
          ],
          "barpolar": [
           {
            "marker": {
             "line": {
              "color": "#E5ECF6",
              "width": 0.5
             },
             "pattern": {
              "fillmode": "overlay",
              "size": 10,
              "solidity": 0.2
             }
            },
            "type": "barpolar"
           }
          ],
          "carpet": [
           {
            "aaxis": {
             "endlinecolor": "#2a3f5f",
             "gridcolor": "white",
             "linecolor": "white",
             "minorgridcolor": "white",
             "startlinecolor": "#2a3f5f"
            },
            "baxis": {
             "endlinecolor": "#2a3f5f",
             "gridcolor": "white",
             "linecolor": "white",
             "minorgridcolor": "white",
             "startlinecolor": "#2a3f5f"
            },
            "type": "carpet"
           }
          ],
          "choropleth": [
           {
            "colorbar": {
             "outlinewidth": 0,
             "ticks": ""
            },
            "type": "choropleth"
           }
          ],
          "contour": [
           {
            "colorbar": {
             "outlinewidth": 0,
             "ticks": ""
            },
            "colorscale": [
             [
              0,
              "#0d0887"
             ],
             [
              0.1111111111111111,
              "#46039f"
             ],
             [
              0.2222222222222222,
              "#7201a8"
             ],
             [
              0.3333333333333333,
              "#9c179e"
             ],
             [
              0.4444444444444444,
              "#bd3786"
             ],
             [
              0.5555555555555556,
              "#d8576b"
             ],
             [
              0.6666666666666666,
              "#ed7953"
             ],
             [
              0.7777777777777778,
              "#fb9f3a"
             ],
             [
              0.8888888888888888,
              "#fdca26"
             ],
             [
              1,
              "#f0f921"
             ]
            ],
            "type": "contour"
           }
          ],
          "contourcarpet": [
           {
            "colorbar": {
             "outlinewidth": 0,
             "ticks": ""
            },
            "type": "contourcarpet"
           }
          ],
          "heatmap": [
           {
            "colorbar": {
             "outlinewidth": 0,
             "ticks": ""
            },
            "colorscale": [
             [
              0,
              "#0d0887"
             ],
             [
              0.1111111111111111,
              "#46039f"
             ],
             [
              0.2222222222222222,
              "#7201a8"
             ],
             [
              0.3333333333333333,
              "#9c179e"
             ],
             [
              0.4444444444444444,
              "#bd3786"
             ],
             [
              0.5555555555555556,
              "#d8576b"
             ],
             [
              0.6666666666666666,
              "#ed7953"
             ],
             [
              0.7777777777777778,
              "#fb9f3a"
             ],
             [
              0.8888888888888888,
              "#fdca26"
             ],
             [
              1,
              "#f0f921"
             ]
            ],
            "type": "heatmap"
           }
          ],
          "heatmapgl": [
           {
            "colorbar": {
             "outlinewidth": 0,
             "ticks": ""
            },
            "colorscale": [
             [
              0,
              "#0d0887"
             ],
             [
              0.1111111111111111,
              "#46039f"
             ],
             [
              0.2222222222222222,
              "#7201a8"
             ],
             [
              0.3333333333333333,
              "#9c179e"
             ],
             [
              0.4444444444444444,
              "#bd3786"
             ],
             [
              0.5555555555555556,
              "#d8576b"
             ],
             [
              0.6666666666666666,
              "#ed7953"
             ],
             [
              0.7777777777777778,
              "#fb9f3a"
             ],
             [
              0.8888888888888888,
              "#fdca26"
             ],
             [
              1,
              "#f0f921"
             ]
            ],
            "type": "heatmapgl"
           }
          ],
          "histogram": [
           {
            "marker": {
             "pattern": {
              "fillmode": "overlay",
              "size": 10,
              "solidity": 0.2
             }
            },
            "type": "histogram"
           }
          ],
          "histogram2d": [
           {
            "colorbar": {
             "outlinewidth": 0,
             "ticks": ""
            },
            "colorscale": [
             [
              0,
              "#0d0887"
             ],
             [
              0.1111111111111111,
              "#46039f"
             ],
             [
              0.2222222222222222,
              "#7201a8"
             ],
             [
              0.3333333333333333,
              "#9c179e"
             ],
             [
              0.4444444444444444,
              "#bd3786"
             ],
             [
              0.5555555555555556,
              "#d8576b"
             ],
             [
              0.6666666666666666,
              "#ed7953"
             ],
             [
              0.7777777777777778,
              "#fb9f3a"
             ],
             [
              0.8888888888888888,
              "#fdca26"
             ],
             [
              1,
              "#f0f921"
             ]
            ],
            "type": "histogram2d"
           }
          ],
          "histogram2dcontour": [
           {
            "colorbar": {
             "outlinewidth": 0,
             "ticks": ""
            },
            "colorscale": [
             [
              0,
              "#0d0887"
             ],
             [
              0.1111111111111111,
              "#46039f"
             ],
             [
              0.2222222222222222,
              "#7201a8"
             ],
             [
              0.3333333333333333,
              "#9c179e"
             ],
             [
              0.4444444444444444,
              "#bd3786"
             ],
             [
              0.5555555555555556,
              "#d8576b"
             ],
             [
              0.6666666666666666,
              "#ed7953"
             ],
             [
              0.7777777777777778,
              "#fb9f3a"
             ],
             [
              0.8888888888888888,
              "#fdca26"
             ],
             [
              1,
              "#f0f921"
             ]
            ],
            "type": "histogram2dcontour"
           }
          ],
          "mesh3d": [
           {
            "colorbar": {
             "outlinewidth": 0,
             "ticks": ""
            },
            "type": "mesh3d"
           }
          ],
          "parcoords": [
           {
            "line": {
             "colorbar": {
              "outlinewidth": 0,
              "ticks": ""
             }
            },
            "type": "parcoords"
           }
          ],
          "pie": [
           {
            "automargin": true,
            "type": "pie"
           }
          ],
          "scatter": [
           {
            "marker": {
             "colorbar": {
              "outlinewidth": 0,
              "ticks": ""
             }
            },
            "type": "scatter"
           }
          ],
          "scatter3d": [
           {
            "line": {
             "colorbar": {
              "outlinewidth": 0,
              "ticks": ""
             }
            },
            "marker": {
             "colorbar": {
              "outlinewidth": 0,
              "ticks": ""
             }
            },
            "type": "scatter3d"
           }
          ],
          "scattercarpet": [
           {
            "marker": {
             "colorbar": {
              "outlinewidth": 0,
              "ticks": ""
             }
            },
            "type": "scattercarpet"
           }
          ],
          "scattergeo": [
           {
            "marker": {
             "colorbar": {
              "outlinewidth": 0,
              "ticks": ""
             }
            },
            "type": "scattergeo"
           }
          ],
          "scattergl": [
           {
            "marker": {
             "colorbar": {
              "outlinewidth": 0,
              "ticks": ""
             }
            },
            "type": "scattergl"
           }
          ],
          "scattermapbox": [
           {
            "marker": {
             "colorbar": {
              "outlinewidth": 0,
              "ticks": ""
             }
            },
            "type": "scattermapbox"
           }
          ],
          "scatterpolar": [
           {
            "marker": {
             "colorbar": {
              "outlinewidth": 0,
              "ticks": ""
             }
            },
            "type": "scatterpolar"
           }
          ],
          "scatterpolargl": [
           {
            "marker": {
             "colorbar": {
              "outlinewidth": 0,
              "ticks": ""
             }
            },
            "type": "scatterpolargl"
           }
          ],
          "scatterternary": [
           {
            "marker": {
             "colorbar": {
              "outlinewidth": 0,
              "ticks": ""
             }
            },
            "type": "scatterternary"
           }
          ],
          "surface": [
           {
            "colorbar": {
             "outlinewidth": 0,
             "ticks": ""
            },
            "colorscale": [
             [
              0,
              "#0d0887"
             ],
             [
              0.1111111111111111,
              "#46039f"
             ],
             [
              0.2222222222222222,
              "#7201a8"
             ],
             [
              0.3333333333333333,
              "#9c179e"
             ],
             [
              0.4444444444444444,
              "#bd3786"
             ],
             [
              0.5555555555555556,
              "#d8576b"
             ],
             [
              0.6666666666666666,
              "#ed7953"
             ],
             [
              0.7777777777777778,
              "#fb9f3a"
             ],
             [
              0.8888888888888888,
              "#fdca26"
             ],
             [
              1,
              "#f0f921"
             ]
            ],
            "type": "surface"
           }
          ],
          "table": [
           {
            "cells": {
             "fill": {
              "color": "#EBF0F8"
             },
             "line": {
              "color": "white"
             }
            },
            "header": {
             "fill": {
              "color": "#C8D4E3"
             },
             "line": {
              "color": "white"
             }
            },
            "type": "table"
           }
          ]
         },
         "layout": {
          "annotationdefaults": {
           "arrowcolor": "#2a3f5f",
           "arrowhead": 0,
           "arrowwidth": 1
          },
          "autotypenumbers": "strict",
          "coloraxis": {
           "colorbar": {
            "outlinewidth": 0,
            "ticks": ""
           }
          },
          "colorscale": {
           "diverging": [
            [
             0,
             "#8e0152"
            ],
            [
             0.1,
             "#c51b7d"
            ],
            [
             0.2,
             "#de77ae"
            ],
            [
             0.3,
             "#f1b6da"
            ],
            [
             0.4,
             "#fde0ef"
            ],
            [
             0.5,
             "#f7f7f7"
            ],
            [
             0.6,
             "#e6f5d0"
            ],
            [
             0.7,
             "#b8e186"
            ],
            [
             0.8,
             "#7fbc41"
            ],
            [
             0.9,
             "#4d9221"
            ],
            [
             1,
             "#276419"
            ]
           ],
           "sequential": [
            [
             0,
             "#0d0887"
            ],
            [
             0.1111111111111111,
             "#46039f"
            ],
            [
             0.2222222222222222,
             "#7201a8"
            ],
            [
             0.3333333333333333,
             "#9c179e"
            ],
            [
             0.4444444444444444,
             "#bd3786"
            ],
            [
             0.5555555555555556,
             "#d8576b"
            ],
            [
             0.6666666666666666,
             "#ed7953"
            ],
            [
             0.7777777777777778,
             "#fb9f3a"
            ],
            [
             0.8888888888888888,
             "#fdca26"
            ],
            [
             1,
             "#f0f921"
            ]
           ],
           "sequentialminus": [
            [
             0,
             "#0d0887"
            ],
            [
             0.1111111111111111,
             "#46039f"
            ],
            [
             0.2222222222222222,
             "#7201a8"
            ],
            [
             0.3333333333333333,
             "#9c179e"
            ],
            [
             0.4444444444444444,
             "#bd3786"
            ],
            [
             0.5555555555555556,
             "#d8576b"
            ],
            [
             0.6666666666666666,
             "#ed7953"
            ],
            [
             0.7777777777777778,
             "#fb9f3a"
            ],
            [
             0.8888888888888888,
             "#fdca26"
            ],
            [
             1,
             "#f0f921"
            ]
           ]
          },
          "colorway": [
           "#636efa",
           "#EF553B",
           "#00cc96",
           "#ab63fa",
           "#FFA15A",
           "#19d3f3",
           "#FF6692",
           "#B6E880",
           "#FF97FF",
           "#FECB52"
          ],
          "font": {
           "color": "#2a3f5f"
          },
          "geo": {
           "bgcolor": "white",
           "lakecolor": "white",
           "landcolor": "#E5ECF6",
           "showlakes": true,
           "showland": true,
           "subunitcolor": "white"
          },
          "hoverlabel": {
           "align": "left"
          },
          "hovermode": "closest",
          "mapbox": {
           "style": "light"
          },
          "paper_bgcolor": "white",
          "plot_bgcolor": "#E5ECF6",
          "polar": {
           "angularaxis": {
            "gridcolor": "white",
            "linecolor": "white",
            "ticks": ""
           },
           "bgcolor": "#E5ECF6",
           "radialaxis": {
            "gridcolor": "white",
            "linecolor": "white",
            "ticks": ""
           }
          },
          "scene": {
           "xaxis": {
            "backgroundcolor": "#E5ECF6",
            "gridcolor": "white",
            "gridwidth": 2,
            "linecolor": "white",
            "showbackground": true,
            "ticks": "",
            "zerolinecolor": "white"
           },
           "yaxis": {
            "backgroundcolor": "#E5ECF6",
            "gridcolor": "white",
            "gridwidth": 2,
            "linecolor": "white",
            "showbackground": true,
            "ticks": "",
            "zerolinecolor": "white"
           },
           "zaxis": {
            "backgroundcolor": "#E5ECF6",
            "gridcolor": "white",
            "gridwidth": 2,
            "linecolor": "white",
            "showbackground": true,
            "ticks": "",
            "zerolinecolor": "white"
           }
          },
          "shapedefaults": {
           "line": {
            "color": "#2a3f5f"
           }
          },
          "ternary": {
           "aaxis": {
            "gridcolor": "white",
            "linecolor": "white",
            "ticks": ""
           },
           "baxis": {
            "gridcolor": "white",
            "linecolor": "white",
            "ticks": ""
           },
           "bgcolor": "#E5ECF6",
           "caxis": {
            "gridcolor": "white",
            "linecolor": "white",
            "ticks": ""
           }
          },
          "title": {
           "x": 0.05
          },
          "xaxis": {
           "automargin": true,
           "gridcolor": "white",
           "linecolor": "white",
           "ticks": "",
           "title": {
            "standoff": 15
           },
           "zerolinecolor": "white",
           "zerolinewidth": 2
          },
          "yaxis": {
           "automargin": true,
           "gridcolor": "white",
           "linecolor": "white",
           "ticks": "",
           "title": {
            "standoff": 15
           },
           "zerolinecolor": "white",
           "zerolinewidth": 2
          }
         }
        },
        "title": {
         "text": "Parallel Coordinate Plot"
        }
       }
      }
     },
     "metadata": {},
     "output_type": "display_data"
    }
   ],
   "source": [
    "optuna.visualization.plot_parallel_coordinate(study)"
   ]
  },
  {
   "cell_type": "code",
   "execution_count": 90,
   "id": "1d419df8",
   "metadata": {},
   "outputs": [
    {
     "name": "stdout",
     "output_type": "stream",
     "text": [
      "Best trial: {'n_estimators': 51, 'max_depth': 10, 'min_samples_leaf': 1, 'min_samples_split': 4}\n"
     ]
    },
    {
     "data": {
      "text/plain": [
       "51"
      ]
     },
     "execution_count": 90,
     "metadata": {},
     "output_type": "execute_result"
    }
   ],
   "source": [
    "print(\"Best trial:\", study.best_trial.params)\n",
    "study.best_trial.params[\"n_estimators\"]"
   ]
  },
  {
   "cell_type": "code",
   "execution_count": 91,
   "id": "ffefef6c",
   "metadata": {},
   "outputs": [
    {
     "data": {
      "text/html": [
       "<style>#sk-container-id-4 {color: black;}#sk-container-id-4 pre{padding: 0;}#sk-container-id-4 div.sk-toggleable {background-color: white;}#sk-container-id-4 label.sk-toggleable__label {cursor: pointer;display: block;width: 100%;margin-bottom: 0;padding: 0.3em;box-sizing: border-box;text-align: center;}#sk-container-id-4 label.sk-toggleable__label-arrow:before {content: \"▸\";float: left;margin-right: 0.25em;color: #696969;}#sk-container-id-4 label.sk-toggleable__label-arrow:hover:before {color: black;}#sk-container-id-4 div.sk-estimator:hover label.sk-toggleable__label-arrow:before {color: black;}#sk-container-id-4 div.sk-toggleable__content {max-height: 0;max-width: 0;overflow: hidden;text-align: left;background-color: #f0f8ff;}#sk-container-id-4 div.sk-toggleable__content pre {margin: 0.2em;color: black;border-radius: 0.25em;background-color: #f0f8ff;}#sk-container-id-4 input.sk-toggleable__control:checked~div.sk-toggleable__content {max-height: 200px;max-width: 100%;overflow: auto;}#sk-container-id-4 input.sk-toggleable__control:checked~label.sk-toggleable__label-arrow:before {content: \"▾\";}#sk-container-id-4 div.sk-estimator input.sk-toggleable__control:checked~label.sk-toggleable__label {background-color: #d4ebff;}#sk-container-id-4 div.sk-label input.sk-toggleable__control:checked~label.sk-toggleable__label {background-color: #d4ebff;}#sk-container-id-4 input.sk-hidden--visually {border: 0;clip: rect(1px 1px 1px 1px);clip: rect(1px, 1px, 1px, 1px);height: 1px;margin: -1px;overflow: hidden;padding: 0;position: absolute;width: 1px;}#sk-container-id-4 div.sk-estimator {font-family: monospace;background-color: #f0f8ff;border: 1px dotted black;border-radius: 0.25em;box-sizing: border-box;margin-bottom: 0.5em;}#sk-container-id-4 div.sk-estimator:hover {background-color: #d4ebff;}#sk-container-id-4 div.sk-parallel-item::after {content: \"\";width: 100%;border-bottom: 1px solid gray;flex-grow: 1;}#sk-container-id-4 div.sk-label:hover label.sk-toggleable__label {background-color: #d4ebff;}#sk-container-id-4 div.sk-serial::before {content: \"\";position: absolute;border-left: 1px solid gray;box-sizing: border-box;top: 0;bottom: 0;left: 50%;z-index: 0;}#sk-container-id-4 div.sk-serial {display: flex;flex-direction: column;align-items: center;background-color: white;padding-right: 0.2em;padding-left: 0.2em;position: relative;}#sk-container-id-4 div.sk-item {position: relative;z-index: 1;}#sk-container-id-4 div.sk-parallel {display: flex;align-items: stretch;justify-content: center;background-color: white;position: relative;}#sk-container-id-4 div.sk-item::before, #sk-container-id-4 div.sk-parallel-item::before {content: \"\";position: absolute;border-left: 1px solid gray;box-sizing: border-box;top: 0;bottom: 0;left: 50%;z-index: -1;}#sk-container-id-4 div.sk-parallel-item {display: flex;flex-direction: column;z-index: 1;position: relative;background-color: white;}#sk-container-id-4 div.sk-parallel-item:first-child::after {align-self: flex-end;width: 50%;}#sk-container-id-4 div.sk-parallel-item:last-child::after {align-self: flex-start;width: 50%;}#sk-container-id-4 div.sk-parallel-item:only-child::after {width: 0;}#sk-container-id-4 div.sk-dashed-wrapped {border: 1px dashed gray;margin: 0 0.4em 0.5em 0.4em;box-sizing: border-box;padding-bottom: 0.4em;background-color: white;}#sk-container-id-4 div.sk-label label {font-family: monospace;font-weight: bold;display: inline-block;line-height: 1.2em;}#sk-container-id-4 div.sk-label-container {text-align: center;}#sk-container-id-4 div.sk-container {/* jupyter's `normalize.less` sets `[hidden] { display: none; }` but bootstrap.min.css set `[hidden] { display: none !important; }` so we also need the `!important` here to be able to override the default hidden behavior on the sphinx rendered scikit-learn.org. See: https://github.com/scikit-learn/scikit-learn/issues/21755 */display: inline-block !important;position: relative;}#sk-container-id-4 div.sk-text-repr-fallback {display: none;}</style><div id=\"sk-container-id-4\" class=\"sk-top-container\"><div class=\"sk-text-repr-fallback\"><pre>RandomForestRegressor(max_depth=10, min_samples_split=4, n_estimators=51,\n",
       "                      random_state=42)</pre><b>In a Jupyter environment, please rerun this cell to show the HTML representation or trust the notebook. <br />On GitHub, the HTML representation is unable to render, please try loading this page with nbviewer.org.</b></div><div class=\"sk-container\" hidden><div class=\"sk-item\"><div class=\"sk-estimator sk-toggleable\"><input class=\"sk-toggleable__control sk-hidden--visually\" id=\"sk-estimator-id-4\" type=\"checkbox\" checked><label for=\"sk-estimator-id-4\" class=\"sk-toggleable__label sk-toggleable__label-arrow\">RandomForestRegressor</label><div class=\"sk-toggleable__content\"><pre>RandomForestRegressor(max_depth=10, min_samples_split=4, n_estimators=51,\n",
       "                      random_state=42)</pre></div></div></div></div></div>"
      ],
      "text/plain": [
       "RandomForestRegressor(max_depth=10, min_samples_split=4, n_estimators=51,\n",
       "                      random_state=42)"
      ]
     },
     "execution_count": 91,
     "metadata": {},
     "output_type": "execute_result"
    }
   ],
   "source": [
    "rf_params = {\n",
    "    \"random_state\": 42,\n",
    "    #\"learning_rate\": 0.1,\n",
    "    \"n_estimators\": study.best_trial.params[\"n_estimators\"],\n",
    "    \"max_depth\": study.best_trial.params[\"max_depth\"],\n",
    "    \"min_samples_leaf\": study.best_trial.params[\"min_samples_leaf\"],\n",
    "    \"min_samples_split\": study.best_trial.params[\"min_samples_split\"],\n",
    "    #\"subsample\": study.best_trial.params[\"subsample\"]\n",
    "}\n",
    "\n",
    "rf = RandomForestRegressor(**rf_params)\n",
    "rf.fit(Ni_X_train, Ni_y_train)"
   ]
  },
  {
   "cell_type": "code",
   "execution_count": 92,
   "id": "4c1a69d2",
   "metadata": {},
   "outputs": [],
   "source": [
    "y_train_pred = rf.predict(Ni_X_train)\n",
    "y_test_pred = rf.predict(Ni_X_test)"
   ]
  },
  {
   "cell_type": "code",
   "execution_count": 93,
   "id": "0f707a20",
   "metadata": {},
   "outputs": [
    {
     "name": "stdout",
     "output_type": "stream",
     "text": [
      "Train RMSE:  0.3676225535369196\n",
      "Test RMSE:  0.7854686668926102\n"
     ]
    }
   ],
   "source": [
    "print(\"Train RMSE: \", np.sqrt(mean_squared_error(Ni_y_train, y_train_pred)))\n",
    "print(\"Test RMSE: \", np.sqrt(mean_squared_error(Ni_y_test, y_test_pred)))"
   ]
  },
  {
   "cell_type": "code",
   "execution_count": 94,
   "id": "641d78f4",
   "metadata": {},
   "outputs": [
    {
     "name": "stdout",
     "output_type": "stream",
     "text": [
      "Train R2:  0.8994234813812668\n",
      "Test R2:  0.5100235188566873\n"
     ]
    }
   ],
   "source": [
    "print(\"Train R2: \", r2_score(Ni_y_train, y_train_pred))\n",
    "print(\"Test R2: \", r2_score(Ni_y_test, y_test_pred))"
   ]
  },
  {
   "cell_type": "code",
   "execution_count": 95,
   "id": "dd1670cb",
   "metadata": {},
   "outputs": [
    {
     "data": {
      "image/png": "[encoded data removed]",
      "text/plain": [
       "<Figure size 640x480 with 1 Axes>"
      ]
     },
     "metadata": {},
     "output_type": "display_data"
    }
   ],
   "source": [
    "plt.scatter(y_train_pred, np.array(Ni_y_train), color=\"orange\", alpha=0.3)\n",
    "plt.scatter(y_test_pred, np.array(Ni_y_test), color=\"green\", alpha=0.4)\n",
    "plt.axis(\"auto\") # scaled, tight, auto, image, square\n",
    "# plt.xlim([0, 1.5]) \n",
    "# plt.ylim(0, None) \n",
    "plt.xlabel('Predicted Values')\n",
    "plt.ylabel('Actual Values')\n",
    "\n",
    "# Add y=x line\n",
    "plt.plot([0, 4.0], [0, 4.0], color='red', linestyle='-')\n",
    "\n",
    "plt.show()"
   ]
  }
 ],
 "metadata": {
  "kernelspec": {
   "display_name": "base",
   "language": "python",
   "name": "python3"
  },
  "language_info": {
   "codemirror_mode": {
    "name": "ipython",
    "version": 3
   },
   "file_extension": ".py",
   "mimetype": "text/x-python",
   "name": "python",
   "nbconvert_exporter": "python",
   "pygments_lexer": "ipython3",
   "version": "3.8.11"
  },
  "vscode": {
   "interpreter": {
    "hash": "ba68d4d491ed2bf1e98a1b536323f5ca7371de2084cca3d5786e07ce079a51c3"
   }
  }
 },
 "nbformat": 4,
 "nbformat_minor": 5
}
