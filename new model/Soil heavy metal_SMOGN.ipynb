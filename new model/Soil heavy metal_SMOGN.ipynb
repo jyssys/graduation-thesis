{
 "cells": [
  {
   "cell_type": "code",
   "execution_count": 58,
   "id": "46fdcf88",
   "metadata": {
    "scrolled": true
   },
   "outputs": [],
   "source": [
    "import pandas as pd\n",
    "import numpy as np\n",
    "from sklearn.preprocessing import StandardScaler\n",
    "from sklearn.model_selection import KFold\n",
    "from sklearn.ensemble import RandomForestRegressor, GradientBoostingRegressor\n",
    "from sklearn.svm import SVR\n",
    "from sklearn.metrics import mean_squared_error\n",
    "import smogn\n",
    "from sklearn.metrics import r2_score\n",
    "from skopt import BayesSearchCV\n",
    "from sklearn.model_selection import train_test_split\n",
    "import os"
   ]
  },
  {
   "cell_type": "code",
   "execution_count": 59,
   "id": "e5d85d1c",
   "metadata": {
    "scrolled": true
   },
   "outputs": [
    {
     "data": {
      "text/html": [
       "<div>\n",
       "<style scoped>\n",
       "    .dataframe tbody tr th:only-of-type {\n",
       "        vertical-align: middle;\n",
       "    }\n",
       "\n",
       "    .dataframe tbody tr th {\n",
       "        vertical-align: top;\n",
       "    }\n",
       "\n",
       "    .dataframe thead th {\n",
       "        text-align: right;\n",
       "    }\n",
       "</style>\n",
       "<table border=\"1\" class=\"dataframe\">\n",
       "  <thead>\n",
       "    <tr style=\"text-align: right;\">\n",
       "      <th></th>\n",
       "      <th>OBJECTID_x</th>\n",
       "      <th>ID</th>\n",
       "      <th>pH</th>\n",
       "      <th>As</th>\n",
       "      <th>Cd</th>\n",
       "      <th>Ni</th>\n",
       "      <th>Pb</th>\n",
       "      <th>Zn</th>\n",
       "      <th>Hg</th>\n",
       "      <th>slope</th>\n",
       "      <th>...</th>\n",
       "      <th>HYDGRP_D</th>\n",
       "      <th>ANION_EXCL</th>\n",
       "      <th>SOL_CRK</th>\n",
       "      <th>SOL_K1</th>\n",
       "      <th>CLAY1</th>\n",
       "      <th>SILT1</th>\n",
       "      <th>SAND1</th>\n",
       "      <th>ROCK1</th>\n",
       "      <th>SOL_EC1</th>\n",
       "      <th>distance</th>\n",
       "    </tr>\n",
       "  </thead>\n",
       "  <tbody>\n",
       "    <tr>\n",
       "      <th>0</th>\n",
       "      <td>1</td>\n",
       "      <td>KW-SK-S-36</td>\n",
       "      <td>7.63</td>\n",
       "      <td>17.46</td>\n",
       "      <td>0.48</td>\n",
       "      <td>1.65</td>\n",
       "      <td>91.1</td>\n",
       "      <td>NaN</td>\n",
       "      <td>0.0</td>\n",
       "      <td>36.896198</td>\n",
       "      <td>...</td>\n",
       "      <td>0</td>\n",
       "      <td>0.5</td>\n",
       "      <td>0.5</td>\n",
       "      <td>43.15</td>\n",
       "      <td>6.0</td>\n",
       "      <td>45.0</td>\n",
       "      <td>50.0</td>\n",
       "      <td>58.0</td>\n",
       "      <td>0</td>\n",
       "      <td>26.743154</td>\n",
       "    </tr>\n",
       "  </tbody>\n",
       "</table>\n",
       "<p>1 rows × 31 columns</p>\n",
       "</div>"
      ],
      "text/plain": [
       "   OBJECTID_x          ID    pH     As    Cd    Ni    Pb   Zn   Hg      slope  \\\n",
       "0           1  KW-SK-S-36  7.63  17.46  0.48  1.65  91.1  NaN  0.0  36.896198   \n",
       "\n",
       "   ...  HYDGRP_D  ANION_EXCL  SOL_CRK  SOL_K1  CLAY1  SILT1  SAND1 ROCK1  \\\n",
       "0  ...         0         0.5      0.5   43.15    6.0   45.0   50.0  58.0   \n",
       "\n",
       "   SOL_EC1   distance  \n",
       "0        0  26.743154  \n",
       "\n",
       "[1 rows x 31 columns]"
      ]
     },
     "execution_count": 59,
     "metadata": {},
     "output_type": "execute_result"
    }
   ],
   "source": [
    "df = pd.read_csv(f\"data/data.csv\")\n",
    "df.head(1)"
   ]
  },
  {
   "cell_type": "code",
   "execution_count": 60,
   "id": "09f70124",
   "metadata": {},
   "outputs": [],
   "source": [
    "# Select only the columns of interest\n",
    "selected_columns = ['pH', 'As', 'Cd', 'Ni', 'slope', 'altitude', 'profile_curve', 'planform_curve',\n",
    "                    'HYDGRP_A', 'HYDGRP_B', 'HYDGRP_C', 'HYDGRP_D', 'SOL_K1', 'CLAY1', 'SILT1', 'SAND1', 'ROCK1', 'distance']\n",
    "df_filtered = df[selected_columns]"
   ]
  },
  {
   "cell_type": "code",
   "execution_count": 61,
   "id": "f1363f13",
   "metadata": {},
   "outputs": [],
   "source": [
    "# Function to remove outliers for a specific column using 1.5*IQR method\n",
    "def remove_outliers_iqr_column(df, column):\n",
    "    Q1 = df[column].quantile(0.25)\n",
    "    Q3 = df[column].quantile(0.75)\n",
    "    IQR = Q3 - Q1\n",
    "    df_out = df[~((df[column] < (Q1 - 1.5 * IQR)) | (df[column] > (Q3 + 1.5 * IQR)))]\n",
    "    return df_out\n",
    "\n",
    "# Remove outliers for 'As'\n",
    "df_cleaned_As = remove_outliers_iqr_column(df_filtered, 'As')\n",
    "\n",
    "# Remove outliers for 'Cd'\n",
    "df_cleaned_Cd = remove_outliers_iqr_column(df_filtered, 'Cd')\n",
    "\n",
    "# Remove outliers for 'Ni'\n",
    "df_cleaned_Ni = remove_outliers_iqr_column(df_filtered, 'Ni')"
   ]
  },
  {
   "cell_type": "code",
   "execution_count": 62,
   "id": "db3682b6",
   "metadata": {},
   "outputs": [],
   "source": [
    "# Features and targets\n",
    "features = ['pH', 'slope', 'altitude', 'profile_curve', 'planform_curve', 'HYDGRP_A', 'HYDGRP_B', 'HYDGRP_C', 'HYDGRP_D',\n",
    "            'SOL_K1', 'CLAY1', 'SILT1', 'SAND1', 'ROCK1', 'distance']\n",
    "targets = ['As', 'Cd', 'Ni']"
   ]
  },
  {
   "cell_type": "code",
   "execution_count": 63,
   "id": "930654a0",
   "metadata": {
    "scrolled": true
   },
   "outputs": [],
   "source": [
    "# # Splitting the data into training and testing sets (80:20)\n",
    "# X = df_cleaned[features]"
   ]
  },
  {
   "cell_type": "code",
   "execution_count": 64,
   "id": "6b99396f",
   "metadata": {},
   "outputs": [],
   "source": [
    "# Initialize StandardScaler\n",
    "scaler_As = StandardScaler()\n",
    "scaler_Cd = StandardScaler()\n",
    "scaler_Ni = StandardScaler()\n",
    "\n",
    "# Features and targets for cleaned DataFrames (with target log convert)\n",
    "X_As = df_cleaned_As[features]\n",
    "y_As = df_cleaned_As[['As']]\n",
    "\n",
    "X_Cd = df_cleaned_Cd[features]\n",
    "y_Cd = df_cleaned_Cd[['Cd']]\n",
    "\n",
    "X_Ni = df_cleaned_Ni[features]\n",
    "y_Ni = df_cleaned_Ni[['Ni']]\n",
    "\n",
    "\n",
    "# Split and scale for 'As'\n",
    "As_X_train, As_X_test, As_y_train, As_y_test = train_test_split(X_As, y_As, test_size=0.2, random_state=42)\n",
    "As_X_train = scaler_As.fit_transform(As_X_train)\n",
    "As_X_test = scaler_As.transform(As_X_test)\n",
    "\n",
    "# Split and scale for 'Cd'\n",
    "Cd_X_train, Cd_X_test, Cd_y_train, Cd_y_test = train_test_split(X_Cd, y_Cd, test_size=0.2, random_state=42)\n",
    "Cd_X_train = scaler_Cd.fit_transform(Cd_X_train)\n",
    "Cd_X_test = scaler_Cd.transform(Cd_X_test)\n",
    "\n",
    "# Split and scale for 'Ni'\n",
    "Ni_X_train, Ni_X_test, Ni_y_train, Ni_y_test = train_test_split(X_Ni, y_Ni, test_size=0.2, random_state=42)\n",
    "Ni_X_train = scaler_Ni.fit_transform(Ni_X_train)\n",
    "Ni_X_test = scaler_Ni.transform(Ni_X_test)"
   ]
  },
  {
   "cell_type": "code",
   "execution_count": 65,
   "id": "3a65c4ee",
   "metadata": {},
   "outputs": [],
   "source": [
    "# # Initialize StandardScaler\n",
    "# scaler = StandardScaler()\n",
    "\n",
    "# # Split and scale for 'As'\n",
    "# As_X_train, As_X_test, As_y_train, As_y_test = train_test_split(X, y[['As']], test_size=0.2, random_state=42)\n",
    "# As_X_train = scaler.fit_transform(As_X_train)\n",
    "# As_X_test = scaler.transform(As_X_test)\n",
    "\n",
    "# # Split and scale for 'Cd'\n",
    "# Cd_X_train, Cd_X_test, Cd_y_train, Cd_y_test = train_test_split(X, y[['Cd']], test_size=0.2, random_state=42)\n",
    "# Cd_X_train = scaler.fit_transform(Cd_X_train)\n",
    "# Cd_X_test = scaler.transform(Cd_X_test)\n",
    "\n",
    "# # Split and scale for 'Ni'\n",
    "# Ni_X_train, Ni_X_test, Ni_y_train, Ni_y_test = train_test_split(X, y[['Ni']], test_size=0.2, random_state=42)\n",
    "# Ni_X_train = scaler.fit_transform(Ni_X_train)\n",
    "# Ni_X_test = scaler.transform(Ni_X_test)"
   ]
  },
  {
   "cell_type": "code",
   "execution_count": 66,
   "id": "ae92613c",
   "metadata": {},
   "outputs": [
    {
     "data": {
      "text/plain": [
       "((1030, 15), (258, 15), (1016, 15), (255, 15), (1139, 15), (285, 15))"
      ]
     },
     "execution_count": 66,
     "metadata": {},
     "output_type": "execute_result"
    }
   ],
   "source": [
    "# Show the shapes to confirm\n",
    "As_X_train.shape, As_X_test.shape, Cd_X_train.shape, Cd_X_test.shape, Ni_X_train.shape, Ni_X_test.shape"
   ]
  },
  {
   "cell_type": "code",
   "execution_count": 67,
   "id": "13fb41e0",
   "metadata": {},
   "outputs": [
    {
     "name": "stderr",
     "output_type": "stream",
     "text": [
      "dist_matrix:   0%|          | 0/219 [00:00<?, ?it/s]"
     ]
    },
    {
     "name": "stderr",
     "output_type": "stream",
     "text": [
      "dist_matrix: 100%|##########| 219/219 [00:14<00:00, 15.62it/s]\n",
      "synth_matrix: 100%|##########| 219/219 [00:00<00:00, 578.67it/s]\n",
      "r_index: 100%|##########| 76/76 [00:00<00:00, 633.19it/s]\n",
      "dist_matrix: 100%|##########| 188/188 [00:10<00:00, 17.41it/s]\n",
      "synth_matrix: 100%|##########| 188/188 [00:00<00:00, 627.97it/s]\n",
      "r_index: 100%|##########| 131/131 [00:00<00:00, 609.95it/s]\n",
      "dist_matrix: 100%|##########| 289/289 [00:26<00:00, 11.04it/s]\n",
      "r_index: 100%|##########| 281/281 [00:00<00:00, 631.58it/s]\n"
     ]
    }
   ],
   "source": [
    "# For As\n",
    "As_balanced_data = smogn.smoter(\n",
    "    data=pd.DataFrame(np.hstack((As_X_train, As_y_train)), columns=features + ['As']),\n",
    "    y='As',\n",
    "    k=5,\n",
    "    samp_method='balance',\n",
    "    rel_thres=0.3\n",
    ")\n",
    "As_X_train = As_balanced_data[features]\n",
    "As_y_train = As_balanced_data['As']\n",
    "\n",
    "# For Cd\n",
    "Cd_balanced_data = smogn.smoter(\n",
    "    data=pd.DataFrame(np.hstack((Cd_X_train, Cd_y_train)), columns=features + ['Cd']),\n",
    "    y='Cd',\n",
    "    k=5,\n",
    "    samp_method='balance',\n",
    "    rel_thres=0.3\n",
    ")\n",
    "Cd_X_train = Cd_balanced_data[features]\n",
    "Cd_y_train = Cd_balanced_data['Cd']\n",
    "\n",
    "# For Ni\n",
    "Ni_balanced_data = smogn.smoter(\n",
    "    data=pd.DataFrame(np.hstack((Ni_X_train, Ni_y_train)), columns=features + ['Ni']),\n",
    "    y='Ni',\n",
    "    k=5,\n",
    "    samp_method='balance',\n",
    "    rel_thres=0.3\n",
    ")\n",
    "Ni_X_train = Ni_balanced_data[features]\n",
    "Ni_y_train = Ni_balanced_data['Ni']"
   ]
  },
  {
   "cell_type": "code",
   "execution_count": 68,
   "id": "f76d977a",
   "metadata": {},
   "outputs": [
    {
     "data": {
      "text/plain": [
       "((810, 15), (258, 15), (828, 15), (255, 15), (850, 15), (285, 15))"
      ]
     },
     "execution_count": 68,
     "metadata": {},
     "output_type": "execute_result"
    }
   ],
   "source": [
    "As_X_train.shape, As_X_test.shape, Cd_X_train.shape, Cd_X_test.shape, Ni_X_train.shape, Ni_X_test.shape"
   ]
  },
  {
   "cell_type": "code",
   "execution_count": 69,
   "id": "1587b743",
   "metadata": {},
   "outputs": [],
   "source": [
    "# Initialize k-fold cross-validation\n",
    "kf = KFold(n_splits=5, shuffle=True, random_state=42)"
   ]
  },
  {
   "cell_type": "markdown",
   "id": "d82ea8e5",
   "metadata": {},
   "source": [
    "# RF"
   ]
  },
  {
   "cell_type": "markdown",
   "id": "8864e8fb",
   "metadata": {},
   "source": [
    "### As"
   ]
  },
  {
   "cell_type": "code",
   "execution_count": 70,
   "id": "788dacf6",
   "metadata": {},
   "outputs": [],
   "source": [
    "# Define the hyperparameter space\n",
    "param_space_rf = {\n",
    "    'n_estimators': (10, 100),\n",
    "    'max_depth': (1, 50),\n",
    "    'min_samples_leaf': (1, 4),\n",
    "    'min_samples_split': (2, 10)\n",
    "}"
   ]
  },
  {
   "cell_type": "code",
   "execution_count": 71,
   "id": "e6fd049b",
   "metadata": {
    "scrolled": true
   },
   "outputs": [
    {
     "data": {
      "text/html": [
       "<style>#sk-container-id-10 {color: black;}#sk-container-id-10 pre{padding: 0;}#sk-container-id-10 div.sk-toggleable {background-color: white;}#sk-container-id-10 label.sk-toggleable__label {cursor: pointer;display: block;width: 100%;margin-bottom: 0;padding: 0.3em;box-sizing: border-box;text-align: center;}#sk-container-id-10 label.sk-toggleable__label-arrow:before {content: \"▸\";float: left;margin-right: 0.25em;color: #696969;}#sk-container-id-10 label.sk-toggleable__label-arrow:hover:before {color: black;}#sk-container-id-10 div.sk-estimator:hover label.sk-toggleable__label-arrow:before {color: black;}#sk-container-id-10 div.sk-toggleable__content {max-height: 0;max-width: 0;overflow: hidden;text-align: left;background-color: #f0f8ff;}#sk-container-id-10 div.sk-toggleable__content pre {margin: 0.2em;color: black;border-radius: 0.25em;background-color: #f0f8ff;}#sk-container-id-10 input.sk-toggleable__control:checked~div.sk-toggleable__content {max-height: 200px;max-width: 100%;overflow: auto;}#sk-container-id-10 input.sk-toggleable__control:checked~label.sk-toggleable__label-arrow:before {content: \"▾\";}#sk-container-id-10 div.sk-estimator input.sk-toggleable__control:checked~label.sk-toggleable__label {background-color: #d4ebff;}#sk-container-id-10 div.sk-label input.sk-toggleable__control:checked~label.sk-toggleable__label {background-color: #d4ebff;}#sk-container-id-10 input.sk-hidden--visually {border: 0;clip: rect(1px 1px 1px 1px);clip: rect(1px, 1px, 1px, 1px);height: 1px;margin: -1px;overflow: hidden;padding: 0;position: absolute;width: 1px;}#sk-container-id-10 div.sk-estimator {font-family: monospace;background-color: #f0f8ff;border: 1px dotted black;border-radius: 0.25em;box-sizing: border-box;margin-bottom: 0.5em;}#sk-container-id-10 div.sk-estimator:hover {background-color: #d4ebff;}#sk-container-id-10 div.sk-parallel-item::after {content: \"\";width: 100%;border-bottom: 1px solid gray;flex-grow: 1;}#sk-container-id-10 div.sk-label:hover label.sk-toggleable__label {background-color: #d4ebff;}#sk-container-id-10 div.sk-serial::before {content: \"\";position: absolute;border-left: 1px solid gray;box-sizing: border-box;top: 0;bottom: 0;left: 50%;z-index: 0;}#sk-container-id-10 div.sk-serial {display: flex;flex-direction: column;align-items: center;background-color: white;padding-right: 0.2em;padding-left: 0.2em;position: relative;}#sk-container-id-10 div.sk-item {position: relative;z-index: 1;}#sk-container-id-10 div.sk-parallel {display: flex;align-items: stretch;justify-content: center;background-color: white;position: relative;}#sk-container-id-10 div.sk-item::before, #sk-container-id-10 div.sk-parallel-item::before {content: \"\";position: absolute;border-left: 1px solid gray;box-sizing: border-box;top: 0;bottom: 0;left: 50%;z-index: -1;}#sk-container-id-10 div.sk-parallel-item {display: flex;flex-direction: column;z-index: 1;position: relative;background-color: white;}#sk-container-id-10 div.sk-parallel-item:first-child::after {align-self: flex-end;width: 50%;}#sk-container-id-10 div.sk-parallel-item:last-child::after {align-self: flex-start;width: 50%;}#sk-container-id-10 div.sk-parallel-item:only-child::after {width: 0;}#sk-container-id-10 div.sk-dashed-wrapped {border: 1px dashed gray;margin: 0 0.4em 0.5em 0.4em;box-sizing: border-box;padding-bottom: 0.4em;background-color: white;}#sk-container-id-10 div.sk-label label {font-family: monospace;font-weight: bold;display: inline-block;line-height: 1.2em;}#sk-container-id-10 div.sk-label-container {text-align: center;}#sk-container-id-10 div.sk-container {/* jupyter's `normalize.less` sets `[hidden] { display: none; }` but bootstrap.min.css set `[hidden] { display: none !important; }` so we also need the `!important` here to be able to override the default hidden behavior on the sphinx rendered scikit-learn.org. See: https://github.com/scikit-learn/scikit-learn/issues/21755 */display: inline-block !important;position: relative;}#sk-container-id-10 div.sk-text-repr-fallback {display: none;}</style><div id=\"sk-container-id-10\" class=\"sk-top-container\"><div class=\"sk-text-repr-fallback\"><pre>BayesSearchCV(cv=KFold(n_splits=5, random_state=42, shuffle=True),\n",
       "              estimator=RandomForestRegressor(), n_iter=100, n_jobs=-1,\n",
       "              search_spaces={&#x27;max_depth&#x27;: (1, 50), &#x27;min_samples_leaf&#x27;: (1, 4),\n",
       "                             &#x27;min_samples_split&#x27;: (2, 10),\n",
       "                             &#x27;n_estimators&#x27;: (10, 100)})</pre><b>In a Jupyter environment, please rerun this cell to show the HTML representation or trust the notebook. <br />On GitHub, the HTML representation is unable to render, please try loading this page with nbviewer.org.</b></div><div class=\"sk-container\" hidden><div class=\"sk-item sk-dashed-wrapped\"><div class=\"sk-label-container\"><div class=\"sk-label sk-toggleable\"><input class=\"sk-toggleable__control sk-hidden--visually\" id=\"sk-estimator-id-28\" type=\"checkbox\" ><label for=\"sk-estimator-id-28\" class=\"sk-toggleable__label sk-toggleable__label-arrow\">BayesSearchCV</label><div class=\"sk-toggleable__content\"><pre>BayesSearchCV(cv=KFold(n_splits=5, random_state=42, shuffle=True),\n",
       "              estimator=RandomForestRegressor(), n_iter=100, n_jobs=-1,\n",
       "              search_spaces={&#x27;max_depth&#x27;: (1, 50), &#x27;min_samples_leaf&#x27;: (1, 4),\n",
       "                             &#x27;min_samples_split&#x27;: (2, 10),\n",
       "                             &#x27;n_estimators&#x27;: (10, 100)})</pre></div></div></div><div class=\"sk-parallel\"><div class=\"sk-parallel-item\"><div class=\"sk-item\"><div class=\"sk-label-container\"><div class=\"sk-label sk-toggleable\"><input class=\"sk-toggleable__control sk-hidden--visually\" id=\"sk-estimator-id-29\" type=\"checkbox\" ><label for=\"sk-estimator-id-29\" class=\"sk-toggleable__label sk-toggleable__label-arrow\">estimator: RandomForestRegressor</label><div class=\"sk-toggleable__content\"><pre>RandomForestRegressor()</pre></div></div></div><div class=\"sk-serial\"><div class=\"sk-item\"><div class=\"sk-estimator sk-toggleable\"><input class=\"sk-toggleable__control sk-hidden--visually\" id=\"sk-estimator-id-30\" type=\"checkbox\" ><label for=\"sk-estimator-id-30\" class=\"sk-toggleable__label sk-toggleable__label-arrow\">RandomForestRegressor</label><div class=\"sk-toggleable__content\"><pre>RandomForestRegressor()</pre></div></div></div></div></div></div></div></div></div></div>"
      ],
      "text/plain": [
       "BayesSearchCV(cv=KFold(n_splits=5, random_state=42, shuffle=True),\n",
       "              estimator=RandomForestRegressor(), n_iter=100, n_jobs=-1,\n",
       "              search_spaces={'max_depth': (1, 50), 'min_samples_leaf': (1, 4),\n",
       "                             'min_samples_split': (2, 10),\n",
       "                             'n_estimators': (10, 100)})"
      ]
     },
     "execution_count": 71,
     "metadata": {},
     "output_type": "execute_result"
    }
   ],
   "source": [
    "# Initialize and fit BayesSearchCV with k-fold\n",
    "opt_rf = BayesSearchCV(\n",
    "    RandomForestRegressor(),\n",
    "    param_space_rf,\n",
    "    n_iter=100,\n",
    "    cv=kf,\n",
    "    n_jobs=-1\n",
    ")\n",
    "opt_rf.fit(As_X_train, As_y_train.values.ravel())"
   ]
  },
  {
   "cell_type": "code",
   "execution_count": 72,
   "id": "5491011c",
   "metadata": {},
   "outputs": [
    {
     "name": "stdout",
     "output_type": "stream",
     "text": [
      "Best hyperparameters for RF:  OrderedDict([('max_depth', 50), ('min_samples_leaf', 2), ('min_samples_split', 3), ('n_estimators', 100)])\n",
      "Best score for RF:  0.30235001407684525\n"
     ]
    }
   ],
   "source": [
    "# Best hyperparameters and score for RF\n",
    "print(\"Best hyperparameters for RF: \", opt_rf.best_params_)\n",
    "print(\"Best score for RF: \", opt_rf.best_score_)"
   ]
  },
  {
   "cell_type": "code",
   "execution_count": 73,
   "id": "7b83fc98",
   "metadata": {},
   "outputs": [
    {
     "name": "stderr",
     "output_type": "stream",
     "text": [
      "c:\\Users\\jyssy\\anaconda3\\lib\\site-packages\\sklearn\\base.py:464: UserWarning: X does not have valid feature names, but RandomForestRegressor was fitted with feature names\n",
      "  warnings.warn(\n"
     ]
    }
   ],
   "source": [
    "# Predict on the training set\n",
    "As_y_pred_rf_train = opt_rf.predict(As_X_train)\n",
    "\n",
    "# Calculate RMSE and R2 for the training set\n",
    "rmse_rf_train = np.sqrt(mean_squared_error(As_y_train, As_y_pred_rf_train))\n",
    "r2_rf_train = r2_score(As_y_train, As_y_pred_rf_train)\n",
    "\n",
    "# Predict on the test set\n",
    "As_y_pred_rf_test = opt_rf.predict(As_X_test)\n",
    "\n",
    "# Calculate RMSE and R2 for the test set\n",
    "rmse_rf_test = np.sqrt(mean_squared_error(As_y_test, As_y_pred_rf_test))\n",
    "r2_rf_test = r2_score(As_y_test, As_y_pred_rf_test)"
   ]
  },
  {
   "cell_type": "code",
   "execution_count": 74,
   "id": "c90ee409",
   "metadata": {},
   "outputs": [
    {
     "name": "stdout",
     "output_type": "stream",
     "text": [
      "Random Forest Training RMSE: 0.4024312770356228\n",
      "Random Forest Test RMSE: 0.9220493070681306\n",
      "\n",
      "Random Forest Training R2: 0.835911802377212\n",
      "Random Forest Test R2: -0.05811738521330345\n"
     ]
    }
   ],
   "source": [
    "print(f'Random Forest Training RMSE: {rmse_rf_train}')\n",
    "print(f'Random Forest Test RMSE: {rmse_rf_test}\\n')\n",
    "print(f'Random Forest Training R2: {r2_rf_train}')\n",
    "print(f'Random Forest Test R2: {r2_rf_test}')"
   ]
  },
  {
   "cell_type": "markdown",
   "id": "ce87b318",
   "metadata": {},
   "source": [
    "### Cd"
   ]
  },
  {
   "cell_type": "code",
   "execution_count": 75,
   "id": "b20d0e92",
   "metadata": {},
   "outputs": [],
   "source": [
    "# Define the hyperparameter space\n",
    "param_space_rf = {\n",
    "    'n_estimators': (10, 100),\n",
    "    'max_depth': (1, 50),\n",
    "    'min_samples_leaf': (1, 4),\n",
    "    'min_samples_split': (2, 10)\n",
    "}"
   ]
  },
  {
   "cell_type": "code",
   "execution_count": 76,
   "id": "9cb74532",
   "metadata": {},
   "outputs": [
    {
     "name": "stderr",
     "output_type": "stream",
     "text": [
      "c:\\Users\\jyssy\\anaconda3\\lib\\site-packages\\skopt\\optimizer\\optimizer.py:449: UserWarning: The objective has been evaluated at this point before.\n",
      "  warnings.warn(\"The objective has been evaluated \"\n",
      "c:\\Users\\jyssy\\anaconda3\\lib\\site-packages\\skopt\\optimizer\\optimizer.py:449: UserWarning: The objective has been evaluated at this point before.\n",
      "  warnings.warn(\"The objective has been evaluated \"\n",
      "c:\\Users\\jyssy\\anaconda3\\lib\\site-packages\\skopt\\optimizer\\optimizer.py:449: UserWarning: The objective has been evaluated at this point before.\n",
      "  warnings.warn(\"The objective has been evaluated \"\n",
      "c:\\Users\\jyssy\\anaconda3\\lib\\site-packages\\skopt\\optimizer\\optimizer.py:449: UserWarning: The objective has been evaluated at this point before.\n",
      "  warnings.warn(\"The objective has been evaluated \"\n",
      "c:\\Users\\jyssy\\anaconda3\\lib\\site-packages\\skopt\\optimizer\\optimizer.py:449: UserWarning: The objective has been evaluated at this point before.\n",
      "  warnings.warn(\"The objective has been evaluated \"\n",
      "c:\\Users\\jyssy\\anaconda3\\lib\\site-packages\\skopt\\optimizer\\optimizer.py:449: UserWarning: The objective has been evaluated at this point before.\n",
      "  warnings.warn(\"The objective has been evaluated \"\n",
      "c:\\Users\\jyssy\\anaconda3\\lib\\site-packages\\skopt\\optimizer\\optimizer.py:449: UserWarning: The objective has been evaluated at this point before.\n",
      "  warnings.warn(\"The objective has been evaluated \"\n"
     ]
    },
    {
     "data": {
      "text/html": [
       "<style>#sk-container-id-11 {color: black;}#sk-container-id-11 pre{padding: 0;}#sk-container-id-11 div.sk-toggleable {background-color: white;}#sk-container-id-11 label.sk-toggleable__label {cursor: pointer;display: block;width: 100%;margin-bottom: 0;padding: 0.3em;box-sizing: border-box;text-align: center;}#sk-container-id-11 label.sk-toggleable__label-arrow:before {content: \"▸\";float: left;margin-right: 0.25em;color: #696969;}#sk-container-id-11 label.sk-toggleable__label-arrow:hover:before {color: black;}#sk-container-id-11 div.sk-estimator:hover label.sk-toggleable__label-arrow:before {color: black;}#sk-container-id-11 div.sk-toggleable__content {max-height: 0;max-width: 0;overflow: hidden;text-align: left;background-color: #f0f8ff;}#sk-container-id-11 div.sk-toggleable__content pre {margin: 0.2em;color: black;border-radius: 0.25em;background-color: #f0f8ff;}#sk-container-id-11 input.sk-toggleable__control:checked~div.sk-toggleable__content {max-height: 200px;max-width: 100%;overflow: auto;}#sk-container-id-11 input.sk-toggleable__control:checked~label.sk-toggleable__label-arrow:before {content: \"▾\";}#sk-container-id-11 div.sk-estimator input.sk-toggleable__control:checked~label.sk-toggleable__label {background-color: #d4ebff;}#sk-container-id-11 div.sk-label input.sk-toggleable__control:checked~label.sk-toggleable__label {background-color: #d4ebff;}#sk-container-id-11 input.sk-hidden--visually {border: 0;clip: rect(1px 1px 1px 1px);clip: rect(1px, 1px, 1px, 1px);height: 1px;margin: -1px;overflow: hidden;padding: 0;position: absolute;width: 1px;}#sk-container-id-11 div.sk-estimator {font-family: monospace;background-color: #f0f8ff;border: 1px dotted black;border-radius: 0.25em;box-sizing: border-box;margin-bottom: 0.5em;}#sk-container-id-11 div.sk-estimator:hover {background-color: #d4ebff;}#sk-container-id-11 div.sk-parallel-item::after {content: \"\";width: 100%;border-bottom: 1px solid gray;flex-grow: 1;}#sk-container-id-11 div.sk-label:hover label.sk-toggleable__label {background-color: #d4ebff;}#sk-container-id-11 div.sk-serial::before {content: \"\";position: absolute;border-left: 1px solid gray;box-sizing: border-box;top: 0;bottom: 0;left: 50%;z-index: 0;}#sk-container-id-11 div.sk-serial {display: flex;flex-direction: column;align-items: center;background-color: white;padding-right: 0.2em;padding-left: 0.2em;position: relative;}#sk-container-id-11 div.sk-item {position: relative;z-index: 1;}#sk-container-id-11 div.sk-parallel {display: flex;align-items: stretch;justify-content: center;background-color: white;position: relative;}#sk-container-id-11 div.sk-item::before, #sk-container-id-11 div.sk-parallel-item::before {content: \"\";position: absolute;border-left: 1px solid gray;box-sizing: border-box;top: 0;bottom: 0;left: 50%;z-index: -1;}#sk-container-id-11 div.sk-parallel-item {display: flex;flex-direction: column;z-index: 1;position: relative;background-color: white;}#sk-container-id-11 div.sk-parallel-item:first-child::after {align-self: flex-end;width: 50%;}#sk-container-id-11 div.sk-parallel-item:last-child::after {align-self: flex-start;width: 50%;}#sk-container-id-11 div.sk-parallel-item:only-child::after {width: 0;}#sk-container-id-11 div.sk-dashed-wrapped {border: 1px dashed gray;margin: 0 0.4em 0.5em 0.4em;box-sizing: border-box;padding-bottom: 0.4em;background-color: white;}#sk-container-id-11 div.sk-label label {font-family: monospace;font-weight: bold;display: inline-block;line-height: 1.2em;}#sk-container-id-11 div.sk-label-container {text-align: center;}#sk-container-id-11 div.sk-container {/* jupyter's `normalize.less` sets `[hidden] { display: none; }` but bootstrap.min.css set `[hidden] { display: none !important; }` so we also need the `!important` here to be able to override the default hidden behavior on the sphinx rendered scikit-learn.org. See: https://github.com/scikit-learn/scikit-learn/issues/21755 */display: inline-block !important;position: relative;}#sk-container-id-11 div.sk-text-repr-fallback {display: none;}</style><div id=\"sk-container-id-11\" class=\"sk-top-container\"><div class=\"sk-text-repr-fallback\"><pre>BayesSearchCV(cv=KFold(n_splits=5, random_state=42, shuffle=True),\n",
       "              estimator=RandomForestRegressor(), n_iter=100, n_jobs=-1,\n",
       "              search_spaces={&#x27;max_depth&#x27;: (1, 50), &#x27;min_samples_leaf&#x27;: (1, 4),\n",
       "                             &#x27;min_samples_split&#x27;: (2, 10),\n",
       "                             &#x27;n_estimators&#x27;: (10, 100)})</pre><b>In a Jupyter environment, please rerun this cell to show the HTML representation or trust the notebook. <br />On GitHub, the HTML representation is unable to render, please try loading this page with nbviewer.org.</b></div><div class=\"sk-container\" hidden><div class=\"sk-item sk-dashed-wrapped\"><div class=\"sk-label-container\"><div class=\"sk-label sk-toggleable\"><input class=\"sk-toggleable__control sk-hidden--visually\" id=\"sk-estimator-id-31\" type=\"checkbox\" ><label for=\"sk-estimator-id-31\" class=\"sk-toggleable__label sk-toggleable__label-arrow\">BayesSearchCV</label><div class=\"sk-toggleable__content\"><pre>BayesSearchCV(cv=KFold(n_splits=5, random_state=42, shuffle=True),\n",
       "              estimator=RandomForestRegressor(), n_iter=100, n_jobs=-1,\n",
       "              search_spaces={&#x27;max_depth&#x27;: (1, 50), &#x27;min_samples_leaf&#x27;: (1, 4),\n",
       "                             &#x27;min_samples_split&#x27;: (2, 10),\n",
       "                             &#x27;n_estimators&#x27;: (10, 100)})</pre></div></div></div><div class=\"sk-parallel\"><div class=\"sk-parallel-item\"><div class=\"sk-item\"><div class=\"sk-label-container\"><div class=\"sk-label sk-toggleable\"><input class=\"sk-toggleable__control sk-hidden--visually\" id=\"sk-estimator-id-32\" type=\"checkbox\" ><label for=\"sk-estimator-id-32\" class=\"sk-toggleable__label sk-toggleable__label-arrow\">estimator: RandomForestRegressor</label><div class=\"sk-toggleable__content\"><pre>RandomForestRegressor()</pre></div></div></div><div class=\"sk-serial\"><div class=\"sk-item\"><div class=\"sk-estimator sk-toggleable\"><input class=\"sk-toggleable__control sk-hidden--visually\" id=\"sk-estimator-id-33\" type=\"checkbox\" ><label for=\"sk-estimator-id-33\" class=\"sk-toggleable__label sk-toggleable__label-arrow\">RandomForestRegressor</label><div class=\"sk-toggleable__content\"><pre>RandomForestRegressor()</pre></div></div></div></div></div></div></div></div></div></div>"
      ],
      "text/plain": [
       "BayesSearchCV(cv=KFold(n_splits=5, random_state=42, shuffle=True),\n",
       "              estimator=RandomForestRegressor(), n_iter=100, n_jobs=-1,\n",
       "              search_spaces={'max_depth': (1, 50), 'min_samples_leaf': (1, 4),\n",
       "                             'min_samples_split': (2, 10),\n",
       "                             'n_estimators': (10, 100)})"
      ]
     },
     "execution_count": 76,
     "metadata": {},
     "output_type": "execute_result"
    }
   ],
   "source": [
    "# Initialize and fit BayesSearchCV with k-fold\n",
    "opt_rf = BayesSearchCV(\n",
    "    RandomForestRegressor(),\n",
    "    param_space_rf,\n",
    "    n_iter=100,\n",
    "    cv=kf,\n",
    "    n_jobs=-1\n",
    ")\n",
    "opt_rf.fit(Cd_X_train, Cd_y_train.values.ravel())"
   ]
  },
  {
   "cell_type": "code",
   "execution_count": 77,
   "id": "c1ed010b",
   "metadata": {},
   "outputs": [
    {
     "name": "stdout",
     "output_type": "stream",
     "text": [
      "Best hyperparameters for RF:  OrderedDict([('max_depth', 43), ('min_samples_leaf', 1), ('min_samples_split', 2), ('n_estimators', 53)])\n",
      "Best score for RF:  0.4156689854936726\n"
     ]
    }
   ],
   "source": [
    "# Best hyperparameters and score for RF\n",
    "print(\"Best hyperparameters for RF: \", opt_rf.best_params_)\n",
    "print(\"Best score for RF: \", opt_rf.best_score_)"
   ]
  },
  {
   "cell_type": "code",
   "execution_count": 78,
   "id": "04c43107",
   "metadata": {},
   "outputs": [
    {
     "name": "stderr",
     "output_type": "stream",
     "text": [
      "c:\\Users\\jyssy\\anaconda3\\lib\\site-packages\\sklearn\\base.py:464: UserWarning: X does not have valid feature names, but RandomForestRegressor was fitted with feature names\n",
      "  warnings.warn(\n"
     ]
    }
   ],
   "source": [
    "# Predict on the training set\n",
    "Cd_y_pred_rf_train = opt_rf.predict(Cd_X_train)\n",
    "\n",
    "# Calculate RMSE and R2 for the training set\n",
    "rmse_rf_train = np.sqrt(mean_squared_error(Cd_y_train, Cd_y_pred_rf_train))\n",
    "r2_rf_train = r2_score(Cd_y_train, Cd_y_pred_rf_train)\n",
    "\n",
    "# Predict on the test set\n",
    "Cd_y_pred_rf_test = opt_rf.predict(Cd_X_test)\n",
    "\n",
    "# Calculate RMSE and R2 for the test set\n",
    "rmse_rf_test = np.sqrt(mean_squared_error(Cd_y_test, Cd_y_pred_rf_test))\n",
    "r2_rf_test = r2_score(Cd_y_test, Cd_y_pred_rf_test)"
   ]
  },
  {
   "cell_type": "code",
   "execution_count": 79,
   "id": "d9d0ee98",
   "metadata": {},
   "outputs": [
    {
     "name": "stdout",
     "output_type": "stream",
     "text": [
      "Random Forest Training RMSE: 0.02310794539635266\n",
      "Random Forest Test RMSE: 0.06839738160441662\n",
      "\n",
      "Random Forest Training R2: 0.9185113281830278\n",
      "Random Forest Test R2: -0.1483959657371683\n"
     ]
    }
   ],
   "source": [
    "print(f'Random Forest Training RMSE: {rmse_rf_train}')\n",
    "print(f'Random Forest Test RMSE: {rmse_rf_test}\\n')\n",
    "print(f'Random Forest Training R2: {r2_rf_train}')\n",
    "print(f'Random Forest Test R2: {r2_rf_test}')"
   ]
  },
  {
   "cell_type": "markdown",
   "id": "c445e435",
   "metadata": {},
   "source": [
    "### Ni"
   ]
  },
  {
   "cell_type": "code",
   "execution_count": 80,
   "id": "da8f0115",
   "metadata": {},
   "outputs": [],
   "source": [
    "# Define the hyperparameter space\n",
    "param_space_rf = {\n",
    "    'n_estimators': (10, 100),\n",
    "    'max_depth': (1, 50),\n",
    "    'min_samples_leaf': (1, 4),\n",
    "    'min_samples_split': (2, 10)\n",
    "}"
   ]
  },
  {
   "cell_type": "code",
   "execution_count": 81,
   "id": "9bd6aea8",
   "metadata": {},
   "outputs": [
    {
     "name": "stderr",
     "output_type": "stream",
     "text": [
      "c:\\Users\\jyssy\\anaconda3\\lib\\site-packages\\skopt\\optimizer\\optimizer.py:449: UserWarning: The objective has been evaluated at this point before.\n",
      "  warnings.warn(\"The objective has been evaluated \"\n",
      "c:\\Users\\jyssy\\anaconda3\\lib\\site-packages\\skopt\\optimizer\\optimizer.py:449: UserWarning: The objective has been evaluated at this point before.\n",
      "  warnings.warn(\"The objective has been evaluated \"\n",
      "c:\\Users\\jyssy\\anaconda3\\lib\\site-packages\\skopt\\optimizer\\optimizer.py:449: UserWarning: The objective has been evaluated at this point before.\n",
      "  warnings.warn(\"The objective has been evaluated \"\n"
     ]
    },
    {
     "data": {
      "text/html": [
       "<style>#sk-container-id-12 {color: black;}#sk-container-id-12 pre{padding: 0;}#sk-container-id-12 div.sk-toggleable {background-color: white;}#sk-container-id-12 label.sk-toggleable__label {cursor: pointer;display: block;width: 100%;margin-bottom: 0;padding: 0.3em;box-sizing: border-box;text-align: center;}#sk-container-id-12 label.sk-toggleable__label-arrow:before {content: \"▸\";float: left;margin-right: 0.25em;color: #696969;}#sk-container-id-12 label.sk-toggleable__label-arrow:hover:before {color: black;}#sk-container-id-12 div.sk-estimator:hover label.sk-toggleable__label-arrow:before {color: black;}#sk-container-id-12 div.sk-toggleable__content {max-height: 0;max-width: 0;overflow: hidden;text-align: left;background-color: #f0f8ff;}#sk-container-id-12 div.sk-toggleable__content pre {margin: 0.2em;color: black;border-radius: 0.25em;background-color: #f0f8ff;}#sk-container-id-12 input.sk-toggleable__control:checked~div.sk-toggleable__content {max-height: 200px;max-width: 100%;overflow: auto;}#sk-container-id-12 input.sk-toggleable__control:checked~label.sk-toggleable__label-arrow:before {content: \"▾\";}#sk-container-id-12 div.sk-estimator input.sk-toggleable__control:checked~label.sk-toggleable__label {background-color: #d4ebff;}#sk-container-id-12 div.sk-label input.sk-toggleable__control:checked~label.sk-toggleable__label {background-color: #d4ebff;}#sk-container-id-12 input.sk-hidden--visually {border: 0;clip: rect(1px 1px 1px 1px);clip: rect(1px, 1px, 1px, 1px);height: 1px;margin: -1px;overflow: hidden;padding: 0;position: absolute;width: 1px;}#sk-container-id-12 div.sk-estimator {font-family: monospace;background-color: #f0f8ff;border: 1px dotted black;border-radius: 0.25em;box-sizing: border-box;margin-bottom: 0.5em;}#sk-container-id-12 div.sk-estimator:hover {background-color: #d4ebff;}#sk-container-id-12 div.sk-parallel-item::after {content: \"\";width: 100%;border-bottom: 1px solid gray;flex-grow: 1;}#sk-container-id-12 div.sk-label:hover label.sk-toggleable__label {background-color: #d4ebff;}#sk-container-id-12 div.sk-serial::before {content: \"\";position: absolute;border-left: 1px solid gray;box-sizing: border-box;top: 0;bottom: 0;left: 50%;z-index: 0;}#sk-container-id-12 div.sk-serial {display: flex;flex-direction: column;align-items: center;background-color: white;padding-right: 0.2em;padding-left: 0.2em;position: relative;}#sk-container-id-12 div.sk-item {position: relative;z-index: 1;}#sk-container-id-12 div.sk-parallel {display: flex;align-items: stretch;justify-content: center;background-color: white;position: relative;}#sk-container-id-12 div.sk-item::before, #sk-container-id-12 div.sk-parallel-item::before {content: \"\";position: absolute;border-left: 1px solid gray;box-sizing: border-box;top: 0;bottom: 0;left: 50%;z-index: -1;}#sk-container-id-12 div.sk-parallel-item {display: flex;flex-direction: column;z-index: 1;position: relative;background-color: white;}#sk-container-id-12 div.sk-parallel-item:first-child::after {align-self: flex-end;width: 50%;}#sk-container-id-12 div.sk-parallel-item:last-child::after {align-self: flex-start;width: 50%;}#sk-container-id-12 div.sk-parallel-item:only-child::after {width: 0;}#sk-container-id-12 div.sk-dashed-wrapped {border: 1px dashed gray;margin: 0 0.4em 0.5em 0.4em;box-sizing: border-box;padding-bottom: 0.4em;background-color: white;}#sk-container-id-12 div.sk-label label {font-family: monospace;font-weight: bold;display: inline-block;line-height: 1.2em;}#sk-container-id-12 div.sk-label-container {text-align: center;}#sk-container-id-12 div.sk-container {/* jupyter's `normalize.less` sets `[hidden] { display: none; }` but bootstrap.min.css set `[hidden] { display: none !important; }` so we also need the `!important` here to be able to override the default hidden behavior on the sphinx rendered scikit-learn.org. See: https://github.com/scikit-learn/scikit-learn/issues/21755 */display: inline-block !important;position: relative;}#sk-container-id-12 div.sk-text-repr-fallback {display: none;}</style><div id=\"sk-container-id-12\" class=\"sk-top-container\"><div class=\"sk-text-repr-fallback\"><pre>BayesSearchCV(cv=KFold(n_splits=5, random_state=42, shuffle=True),\n",
       "              estimator=RandomForestRegressor(), n_iter=100, n_jobs=-1,\n",
       "              search_spaces={&#x27;max_depth&#x27;: (1, 50), &#x27;min_samples_leaf&#x27;: (1, 4),\n",
       "                             &#x27;min_samples_split&#x27;: (2, 10),\n",
       "                             &#x27;n_estimators&#x27;: (10, 100)})</pre><b>In a Jupyter environment, please rerun this cell to show the HTML representation or trust the notebook. <br />On GitHub, the HTML representation is unable to render, please try loading this page with nbviewer.org.</b></div><div class=\"sk-container\" hidden><div class=\"sk-item sk-dashed-wrapped\"><div class=\"sk-label-container\"><div class=\"sk-label sk-toggleable\"><input class=\"sk-toggleable__control sk-hidden--visually\" id=\"sk-estimator-id-34\" type=\"checkbox\" ><label for=\"sk-estimator-id-34\" class=\"sk-toggleable__label sk-toggleable__label-arrow\">BayesSearchCV</label><div class=\"sk-toggleable__content\"><pre>BayesSearchCV(cv=KFold(n_splits=5, random_state=42, shuffle=True),\n",
       "              estimator=RandomForestRegressor(), n_iter=100, n_jobs=-1,\n",
       "              search_spaces={&#x27;max_depth&#x27;: (1, 50), &#x27;min_samples_leaf&#x27;: (1, 4),\n",
       "                             &#x27;min_samples_split&#x27;: (2, 10),\n",
       "                             &#x27;n_estimators&#x27;: (10, 100)})</pre></div></div></div><div class=\"sk-parallel\"><div class=\"sk-parallel-item\"><div class=\"sk-item\"><div class=\"sk-label-container\"><div class=\"sk-label sk-toggleable\"><input class=\"sk-toggleable__control sk-hidden--visually\" id=\"sk-estimator-id-35\" type=\"checkbox\" ><label for=\"sk-estimator-id-35\" class=\"sk-toggleable__label sk-toggleable__label-arrow\">estimator: RandomForestRegressor</label><div class=\"sk-toggleable__content\"><pre>RandomForestRegressor()</pre></div></div></div><div class=\"sk-serial\"><div class=\"sk-item\"><div class=\"sk-estimator sk-toggleable\"><input class=\"sk-toggleable__control sk-hidden--visually\" id=\"sk-estimator-id-36\" type=\"checkbox\" ><label for=\"sk-estimator-id-36\" class=\"sk-toggleable__label sk-toggleable__label-arrow\">RandomForestRegressor</label><div class=\"sk-toggleable__content\"><pre>RandomForestRegressor()</pre></div></div></div></div></div></div></div></div></div></div>"
      ],
      "text/plain": [
       "BayesSearchCV(cv=KFold(n_splits=5, random_state=42, shuffle=True),\n",
       "              estimator=RandomForestRegressor(), n_iter=100, n_jobs=-1,\n",
       "              search_spaces={'max_depth': (1, 50), 'min_samples_leaf': (1, 4),\n",
       "                             'min_samples_split': (2, 10),\n",
       "                             'n_estimators': (10, 100)})"
      ]
     },
     "execution_count": 81,
     "metadata": {},
     "output_type": "execute_result"
    }
   ],
   "source": [
    "# Initialize and fit BayesSearchCV with k-fold\n",
    "opt_rf = BayesSearchCV(\n",
    "    RandomForestRegressor(),\n",
    "    param_space_rf,\n",
    "    n_iter=100,\n",
    "    cv=kf,\n",
    "    n_jobs=-1\n",
    ")\n",
    "opt_rf.fit(Ni_X_train, Ni_y_train.values.ravel())"
   ]
  },
  {
   "cell_type": "code",
   "execution_count": 82,
   "id": "26777955",
   "metadata": {},
   "outputs": [
    {
     "name": "stdout",
     "output_type": "stream",
     "text": [
      "Best hyperparameters for RF:  OrderedDict([('max_depth', 48), ('min_samples_leaf', 1), ('min_samples_split', 2), ('n_estimators', 100)])\n",
      "Best score for RF:  0.6130331340440616\n"
     ]
    }
   ],
   "source": [
    "# Best hyperparameters and score for RF\n",
    "print(\"Best hyperparameters for RF: \", opt_rf.best_params_)\n",
    "print(\"Best score for RF: \", opt_rf.best_score_)"
   ]
  },
  {
   "cell_type": "code",
   "execution_count": 83,
   "id": "0ebd31ef",
   "metadata": {},
   "outputs": [
    {
     "name": "stderr",
     "output_type": "stream",
     "text": [
      "c:\\Users\\jyssy\\anaconda3\\lib\\site-packages\\sklearn\\base.py:464: UserWarning: X does not have valid feature names, but RandomForestRegressor was fitted with feature names\n",
      "  warnings.warn(\n"
     ]
    }
   ],
   "source": [
    "# Predict on the training set\n",
    "Ni_y_pred_rf_train = opt_rf.predict(Ni_X_train)\n",
    "\n",
    "# Calculate RMSE and R2 for the training set\n",
    "rmse_rf_train = np.sqrt(mean_squared_error(Ni_y_train, Ni_y_pred_rf_train))\n",
    "r2_rf_train = r2_score(Ni_y_train, Ni_y_pred_rf_train)\n",
    "\n",
    "# Predict on the test set\n",
    "Ni_y_pred_rf_test = opt_rf.predict(Ni_X_test)\n",
    "\n",
    "# Calculate RMSE and R2 for the test set\n",
    "rmse_rf_test = np.sqrt(mean_squared_error(Ni_y_test, Ni_y_pred_rf_test))\n",
    "r2_rf_test = r2_score(Ni_y_test, Ni_y_pred_rf_test)"
   ]
  },
  {
   "cell_type": "code",
   "execution_count": 84,
   "id": "a684fadf",
   "metadata": {},
   "outputs": [
    {
     "name": "stdout",
     "output_type": "stream",
     "text": [
      "Random Forest Training RMSE: 2.9310616704390746\n",
      "Random Forest Test RMSE: 7.485183309980645\n",
      "\n",
      "Random Forest Training R2: 0.9485034090664214\n",
      "Random Forest Test R2: 0.6044334767097723\n"
     ]
    }
   ],
   "source": [
    "print(f'Random Forest Training RMSE: {rmse_rf_train}')\n",
    "print(f'Random Forest Test RMSE: {rmse_rf_test}\\n')\n",
    "print(f'Random Forest Training R2: {r2_rf_train}')\n",
    "print(f'Random Forest Test R2: {r2_rf_test}')"
   ]
  },
  {
   "cell_type": "markdown",
   "id": "04bfdbf9",
   "metadata": {},
   "source": [
    "# GBM"
   ]
  },
  {
   "cell_type": "markdown",
   "id": "3a822713",
   "metadata": {},
   "source": [
    "### As"
   ]
  },
  {
   "cell_type": "code",
   "execution_count": 85,
   "id": "a15c7db5",
   "metadata": {},
   "outputs": [],
   "source": [
    "# Define the hyperparameter space for GBR\n",
    "param_space_gbr = {\n",
    "    'n_estimators': (10, 100),\n",
    "    'max_depth': (1, 50),\n",
    "    'min_samples_leaf': (1, 4),\n",
    "    'min_samples_split': (2, 10),\n",
    "    'subsample': (0.5, 1)\n",
    "}"
   ]
  },
  {
   "cell_type": "code",
   "execution_count": 86,
   "id": "086dfe97",
   "metadata": {},
   "outputs": [
    {
     "data": {
      "text/html": [
       "<style>#sk-container-id-13 {color: black;}#sk-container-id-13 pre{padding: 0;}#sk-container-id-13 div.sk-toggleable {background-color: white;}#sk-container-id-13 label.sk-toggleable__label {cursor: pointer;display: block;width: 100%;margin-bottom: 0;padding: 0.3em;box-sizing: border-box;text-align: center;}#sk-container-id-13 label.sk-toggleable__label-arrow:before {content: \"▸\";float: left;margin-right: 0.25em;color: #696969;}#sk-container-id-13 label.sk-toggleable__label-arrow:hover:before {color: black;}#sk-container-id-13 div.sk-estimator:hover label.sk-toggleable__label-arrow:before {color: black;}#sk-container-id-13 div.sk-toggleable__content {max-height: 0;max-width: 0;overflow: hidden;text-align: left;background-color: #f0f8ff;}#sk-container-id-13 div.sk-toggleable__content pre {margin: 0.2em;color: black;border-radius: 0.25em;background-color: #f0f8ff;}#sk-container-id-13 input.sk-toggleable__control:checked~div.sk-toggleable__content {max-height: 200px;max-width: 100%;overflow: auto;}#sk-container-id-13 input.sk-toggleable__control:checked~label.sk-toggleable__label-arrow:before {content: \"▾\";}#sk-container-id-13 div.sk-estimator input.sk-toggleable__control:checked~label.sk-toggleable__label {background-color: #d4ebff;}#sk-container-id-13 div.sk-label input.sk-toggleable__control:checked~label.sk-toggleable__label {background-color: #d4ebff;}#sk-container-id-13 input.sk-hidden--visually {border: 0;clip: rect(1px 1px 1px 1px);clip: rect(1px, 1px, 1px, 1px);height: 1px;margin: -1px;overflow: hidden;padding: 0;position: absolute;width: 1px;}#sk-container-id-13 div.sk-estimator {font-family: monospace;background-color: #f0f8ff;border: 1px dotted black;border-radius: 0.25em;box-sizing: border-box;margin-bottom: 0.5em;}#sk-container-id-13 div.sk-estimator:hover {background-color: #d4ebff;}#sk-container-id-13 div.sk-parallel-item::after {content: \"\";width: 100%;border-bottom: 1px solid gray;flex-grow: 1;}#sk-container-id-13 div.sk-label:hover label.sk-toggleable__label {background-color: #d4ebff;}#sk-container-id-13 div.sk-serial::before {content: \"\";position: absolute;border-left: 1px solid gray;box-sizing: border-box;top: 0;bottom: 0;left: 50%;z-index: 0;}#sk-container-id-13 div.sk-serial {display: flex;flex-direction: column;align-items: center;background-color: white;padding-right: 0.2em;padding-left: 0.2em;position: relative;}#sk-container-id-13 div.sk-item {position: relative;z-index: 1;}#sk-container-id-13 div.sk-parallel {display: flex;align-items: stretch;justify-content: center;background-color: white;position: relative;}#sk-container-id-13 div.sk-item::before, #sk-container-id-13 div.sk-parallel-item::before {content: \"\";position: absolute;border-left: 1px solid gray;box-sizing: border-box;top: 0;bottom: 0;left: 50%;z-index: -1;}#sk-container-id-13 div.sk-parallel-item {display: flex;flex-direction: column;z-index: 1;position: relative;background-color: white;}#sk-container-id-13 div.sk-parallel-item:first-child::after {align-self: flex-end;width: 50%;}#sk-container-id-13 div.sk-parallel-item:last-child::after {align-self: flex-start;width: 50%;}#sk-container-id-13 div.sk-parallel-item:only-child::after {width: 0;}#sk-container-id-13 div.sk-dashed-wrapped {border: 1px dashed gray;margin: 0 0.4em 0.5em 0.4em;box-sizing: border-box;padding-bottom: 0.4em;background-color: white;}#sk-container-id-13 div.sk-label label {font-family: monospace;font-weight: bold;display: inline-block;line-height: 1.2em;}#sk-container-id-13 div.sk-label-container {text-align: center;}#sk-container-id-13 div.sk-container {/* jupyter's `normalize.less` sets `[hidden] { display: none; }` but bootstrap.min.css set `[hidden] { display: none !important; }` so we also need the `!important` here to be able to override the default hidden behavior on the sphinx rendered scikit-learn.org. See: https://github.com/scikit-learn/scikit-learn/issues/21755 */display: inline-block !important;position: relative;}#sk-container-id-13 div.sk-text-repr-fallback {display: none;}</style><div id=\"sk-container-id-13\" class=\"sk-top-container\"><div class=\"sk-text-repr-fallback\"><pre>BayesSearchCV(cv=KFold(n_splits=5, random_state=42, shuffle=True),\n",
       "              estimator=GradientBoostingRegressor(), n_iter=100, n_jobs=-1,\n",
       "              search_spaces={&#x27;max_depth&#x27;: (1, 50), &#x27;min_samples_leaf&#x27;: (1, 4),\n",
       "                             &#x27;min_samples_split&#x27;: (2, 10),\n",
       "                             &#x27;n_estimators&#x27;: (10, 100), &#x27;subsample&#x27;: (0.5, 1)})</pre><b>In a Jupyter environment, please rerun this cell to show the HTML representation or trust the notebook. <br />On GitHub, the HTML representation is unable to render, please try loading this page with nbviewer.org.</b></div><div class=\"sk-container\" hidden><div class=\"sk-item sk-dashed-wrapped\"><div class=\"sk-label-container\"><div class=\"sk-label sk-toggleable\"><input class=\"sk-toggleable__control sk-hidden--visually\" id=\"sk-estimator-id-37\" type=\"checkbox\" ><label for=\"sk-estimator-id-37\" class=\"sk-toggleable__label sk-toggleable__label-arrow\">BayesSearchCV</label><div class=\"sk-toggleable__content\"><pre>BayesSearchCV(cv=KFold(n_splits=5, random_state=42, shuffle=True),\n",
       "              estimator=GradientBoostingRegressor(), n_iter=100, n_jobs=-1,\n",
       "              search_spaces={&#x27;max_depth&#x27;: (1, 50), &#x27;min_samples_leaf&#x27;: (1, 4),\n",
       "                             &#x27;min_samples_split&#x27;: (2, 10),\n",
       "                             &#x27;n_estimators&#x27;: (10, 100), &#x27;subsample&#x27;: (0.5, 1)})</pre></div></div></div><div class=\"sk-parallel\"><div class=\"sk-parallel-item\"><div class=\"sk-item\"><div class=\"sk-label-container\"><div class=\"sk-label sk-toggleable\"><input class=\"sk-toggleable__control sk-hidden--visually\" id=\"sk-estimator-id-38\" type=\"checkbox\" ><label for=\"sk-estimator-id-38\" class=\"sk-toggleable__label sk-toggleable__label-arrow\">estimator: GradientBoostingRegressor</label><div class=\"sk-toggleable__content\"><pre>GradientBoostingRegressor()</pre></div></div></div><div class=\"sk-serial\"><div class=\"sk-item\"><div class=\"sk-estimator sk-toggleable\"><input class=\"sk-toggleable__control sk-hidden--visually\" id=\"sk-estimator-id-39\" type=\"checkbox\" ><label for=\"sk-estimator-id-39\" class=\"sk-toggleable__label sk-toggleable__label-arrow\">GradientBoostingRegressor</label><div class=\"sk-toggleable__content\"><pre>GradientBoostingRegressor()</pre></div></div></div></div></div></div></div></div></div></div>"
      ],
      "text/plain": [
       "BayesSearchCV(cv=KFold(n_splits=5, random_state=42, shuffle=True),\n",
       "              estimator=GradientBoostingRegressor(), n_iter=100, n_jobs=-1,\n",
       "              search_spaces={'max_depth': (1, 50), 'min_samples_leaf': (1, 4),\n",
       "                             'min_samples_split': (2, 10),\n",
       "                             'n_estimators': (10, 100), 'subsample': (0.5, 1)})"
      ]
     },
     "execution_count": 86,
     "metadata": {},
     "output_type": "execute_result"
    }
   ],
   "source": [
    "# Initialize and fit BayesSearchCV with k-fold for GBR\n",
    "opt_gbr = BayesSearchCV(\n",
    "    GradientBoostingRegressor(),\n",
    "    param_space_gbr,\n",
    "    n_iter=100,\n",
    "    cv=kf,\n",
    "    n_jobs=-1\n",
    ")\n",
    "opt_gbr.fit(As_X_train, As_y_train.ravel())"
   ]
  },
  {
   "cell_type": "code",
   "execution_count": 87,
   "id": "88236a06",
   "metadata": {},
   "outputs": [
    {
     "name": "stdout",
     "output_type": "stream",
     "text": [
      "Best hyperparameters for GBR:  OrderedDict([('max_depth', 6), ('min_samples_leaf', 3), ('min_samples_split', 9), ('n_estimators', 20), ('subsample', 0.6460224183143063)])\n",
      "Best score for GBR:  0.2867939269936689\n"
     ]
    }
   ],
   "source": [
    "# Best hyperparameters and score for GBR\n",
    "print(\"Best hyperparameters for GBR: \", opt_gbr.best_params_)\n",
    "print(\"Best score for GBR: \", opt_gbr.best_score_)"
   ]
  },
  {
   "cell_type": "code",
   "execution_count": 88,
   "id": "4ace4a98",
   "metadata": {},
   "outputs": [
    {
     "name": "stderr",
     "output_type": "stream",
     "text": [
      "c:\\Users\\jyssy\\anaconda3\\lib\\site-packages\\sklearn\\base.py:464: UserWarning: X does not have valid feature names, but GradientBoostingRegressor was fitted with feature names\n",
      "  warnings.warn(\n"
     ]
    }
   ],
   "source": [
    "# Predict on the training set\n",
    "As_y_pred_gbr_train = opt_gbr.predict(As_X_train)\n",
    "\n",
    "# Calculate RMSE and R2 for the training set\n",
    "rmse_gbr_train = np.sqrt(mean_squared_error(As_y_train, As_y_pred_gbr_train))\n",
    "r2_gbr_train = r2_score(As_y_train, As_y_pred_gbr_train)\n",
    "\n",
    "# Predict on the test set\n",
    "As_y_pred_gbr_test = opt_gbr.predict(As_X_test)\n",
    "\n",
    "# Calculate RMSE and R2 for the test set\n",
    "rmse_gbr_test = np.sqrt(mean_squared_error(As_y_test, As_y_pred_gbr_test))\n",
    "r2_gbr_test = r2_score(As_y_test, As_y_pred_gbr_test)"
   ]
  },
  {
   "cell_type": "code",
   "execution_count": 89,
   "id": "25e5ae0a",
   "metadata": {},
   "outputs": [
    {
     "name": "stdout",
     "output_type": "stream",
     "text": [
      "GBM Training RMSE: 0.5859472489062496\n",
      "GBM Test RMSE: 0.9447139728559318\n",
      "\n",
      "GBM Training R2: 0.6521348436803882\n",
      "GBM Test R2: -0.11077535698123842\n"
     ]
    }
   ],
   "source": [
    "print(f'GBM Training RMSE: {rmse_gbr_train}')\n",
    "print(f'GBM Test RMSE: {rmse_gbr_test}\\n')\n",
    "print(f'GBM Training R2: {r2_gbr_train}')\n",
    "print(f'GBM Test R2: {r2_gbr_test}')"
   ]
  },
  {
   "cell_type": "markdown",
   "id": "3f7bb3db",
   "metadata": {},
   "source": [
    "### Cd"
   ]
  },
  {
   "cell_type": "code",
   "execution_count": 90,
   "id": "81a4a499",
   "metadata": {},
   "outputs": [],
   "source": [
    "# Define the hyperparameter space for GBR\n",
    "param_space_gbr = {\n",
    "    'n_estimators': (10, 100),\n",
    "    'max_depth': (1, 50),\n",
    "    'min_samples_leaf': (1, 4),\n",
    "    'min_samples_split': (2, 10),\n",
    "    'subsample': (0.5, 1)\n",
    "}"
   ]
  },
  {
   "cell_type": "code",
   "execution_count": 91,
   "id": "3c62db05",
   "metadata": {},
   "outputs": [
    {
     "data": {
      "text/html": [
       "<style>#sk-container-id-14 {color: black;}#sk-container-id-14 pre{padding: 0;}#sk-container-id-14 div.sk-toggleable {background-color: white;}#sk-container-id-14 label.sk-toggleable__label {cursor: pointer;display: block;width: 100%;margin-bottom: 0;padding: 0.3em;box-sizing: border-box;text-align: center;}#sk-container-id-14 label.sk-toggleable__label-arrow:before {content: \"▸\";float: left;margin-right: 0.25em;color: #696969;}#sk-container-id-14 label.sk-toggleable__label-arrow:hover:before {color: black;}#sk-container-id-14 div.sk-estimator:hover label.sk-toggleable__label-arrow:before {color: black;}#sk-container-id-14 div.sk-toggleable__content {max-height: 0;max-width: 0;overflow: hidden;text-align: left;background-color: #f0f8ff;}#sk-container-id-14 div.sk-toggleable__content pre {margin: 0.2em;color: black;border-radius: 0.25em;background-color: #f0f8ff;}#sk-container-id-14 input.sk-toggleable__control:checked~div.sk-toggleable__content {max-height: 200px;max-width: 100%;overflow: auto;}#sk-container-id-14 input.sk-toggleable__control:checked~label.sk-toggleable__label-arrow:before {content: \"▾\";}#sk-container-id-14 div.sk-estimator input.sk-toggleable__control:checked~label.sk-toggleable__label {background-color: #d4ebff;}#sk-container-id-14 div.sk-label input.sk-toggleable__control:checked~label.sk-toggleable__label {background-color: #d4ebff;}#sk-container-id-14 input.sk-hidden--visually {border: 0;clip: rect(1px 1px 1px 1px);clip: rect(1px, 1px, 1px, 1px);height: 1px;margin: -1px;overflow: hidden;padding: 0;position: absolute;width: 1px;}#sk-container-id-14 div.sk-estimator {font-family: monospace;background-color: #f0f8ff;border: 1px dotted black;border-radius: 0.25em;box-sizing: border-box;margin-bottom: 0.5em;}#sk-container-id-14 div.sk-estimator:hover {background-color: #d4ebff;}#sk-container-id-14 div.sk-parallel-item::after {content: \"\";width: 100%;border-bottom: 1px solid gray;flex-grow: 1;}#sk-container-id-14 div.sk-label:hover label.sk-toggleable__label {background-color: #d4ebff;}#sk-container-id-14 div.sk-serial::before {content: \"\";position: absolute;border-left: 1px solid gray;box-sizing: border-box;top: 0;bottom: 0;left: 50%;z-index: 0;}#sk-container-id-14 div.sk-serial {display: flex;flex-direction: column;align-items: center;background-color: white;padding-right: 0.2em;padding-left: 0.2em;position: relative;}#sk-container-id-14 div.sk-item {position: relative;z-index: 1;}#sk-container-id-14 div.sk-parallel {display: flex;align-items: stretch;justify-content: center;background-color: white;position: relative;}#sk-container-id-14 div.sk-item::before, #sk-container-id-14 div.sk-parallel-item::before {content: \"\";position: absolute;border-left: 1px solid gray;box-sizing: border-box;top: 0;bottom: 0;left: 50%;z-index: -1;}#sk-container-id-14 div.sk-parallel-item {display: flex;flex-direction: column;z-index: 1;position: relative;background-color: white;}#sk-container-id-14 div.sk-parallel-item:first-child::after {align-self: flex-end;width: 50%;}#sk-container-id-14 div.sk-parallel-item:last-child::after {align-self: flex-start;width: 50%;}#sk-container-id-14 div.sk-parallel-item:only-child::after {width: 0;}#sk-container-id-14 div.sk-dashed-wrapped {border: 1px dashed gray;margin: 0 0.4em 0.5em 0.4em;box-sizing: border-box;padding-bottom: 0.4em;background-color: white;}#sk-container-id-14 div.sk-label label {font-family: monospace;font-weight: bold;display: inline-block;line-height: 1.2em;}#sk-container-id-14 div.sk-label-container {text-align: center;}#sk-container-id-14 div.sk-container {/* jupyter's `normalize.less` sets `[hidden] { display: none; }` but bootstrap.min.css set `[hidden] { display: none !important; }` so we also need the `!important` here to be able to override the default hidden behavior on the sphinx rendered scikit-learn.org. See: https://github.com/scikit-learn/scikit-learn/issues/21755 */display: inline-block !important;position: relative;}#sk-container-id-14 div.sk-text-repr-fallback {display: none;}</style><div id=\"sk-container-id-14\" class=\"sk-top-container\"><div class=\"sk-text-repr-fallback\"><pre>BayesSearchCV(cv=KFold(n_splits=5, random_state=42, shuffle=True),\n",
       "              estimator=GradientBoostingRegressor(), n_iter=100, n_jobs=-1,\n",
       "              search_spaces={&#x27;max_depth&#x27;: (1, 50), &#x27;min_samples_leaf&#x27;: (1, 4),\n",
       "                             &#x27;min_samples_split&#x27;: (2, 10),\n",
       "                             &#x27;n_estimators&#x27;: (10, 100), &#x27;subsample&#x27;: (0.5, 1)})</pre><b>In a Jupyter environment, please rerun this cell to show the HTML representation or trust the notebook. <br />On GitHub, the HTML representation is unable to render, please try loading this page with nbviewer.org.</b></div><div class=\"sk-container\" hidden><div class=\"sk-item sk-dashed-wrapped\"><div class=\"sk-label-container\"><div class=\"sk-label sk-toggleable\"><input class=\"sk-toggleable__control sk-hidden--visually\" id=\"sk-estimator-id-40\" type=\"checkbox\" ><label for=\"sk-estimator-id-40\" class=\"sk-toggleable__label sk-toggleable__label-arrow\">BayesSearchCV</label><div class=\"sk-toggleable__content\"><pre>BayesSearchCV(cv=KFold(n_splits=5, random_state=42, shuffle=True),\n",
       "              estimator=GradientBoostingRegressor(), n_iter=100, n_jobs=-1,\n",
       "              search_spaces={&#x27;max_depth&#x27;: (1, 50), &#x27;min_samples_leaf&#x27;: (1, 4),\n",
       "                             &#x27;min_samples_split&#x27;: (2, 10),\n",
       "                             &#x27;n_estimators&#x27;: (10, 100), &#x27;subsample&#x27;: (0.5, 1)})</pre></div></div></div><div class=\"sk-parallel\"><div class=\"sk-parallel-item\"><div class=\"sk-item\"><div class=\"sk-label-container\"><div class=\"sk-label sk-toggleable\"><input class=\"sk-toggleable__control sk-hidden--visually\" id=\"sk-estimator-id-41\" type=\"checkbox\" ><label for=\"sk-estimator-id-41\" class=\"sk-toggleable__label sk-toggleable__label-arrow\">estimator: GradientBoostingRegressor</label><div class=\"sk-toggleable__content\"><pre>GradientBoostingRegressor()</pre></div></div></div><div class=\"sk-serial\"><div class=\"sk-item\"><div class=\"sk-estimator sk-toggleable\"><input class=\"sk-toggleable__control sk-hidden--visually\" id=\"sk-estimator-id-42\" type=\"checkbox\" ><label for=\"sk-estimator-id-42\" class=\"sk-toggleable__label sk-toggleable__label-arrow\">GradientBoostingRegressor</label><div class=\"sk-toggleable__content\"><pre>GradientBoostingRegressor()</pre></div></div></div></div></div></div></div></div></div></div>"
      ],
      "text/plain": [
       "BayesSearchCV(cv=KFold(n_splits=5, random_state=42, shuffle=True),\n",
       "              estimator=GradientBoostingRegressor(), n_iter=100, n_jobs=-1,\n",
       "              search_spaces={'max_depth': (1, 50), 'min_samples_leaf': (1, 4),\n",
       "                             'min_samples_split': (2, 10),\n",
       "                             'n_estimators': (10, 100), 'subsample': (0.5, 1)})"
      ]
     },
     "execution_count": 91,
     "metadata": {},
     "output_type": "execute_result"
    }
   ],
   "source": [
    "# Initialize and fit BayesSearchCV with k-fold for GBR\n",
    "opt_gbr = BayesSearchCV(\n",
    "    GradientBoostingRegressor(),\n",
    "    param_space_gbr,\n",
    "    n_iter=100,\n",
    "    cv=kf,\n",
    "    n_jobs=-1\n",
    ")\n",
    "opt_gbr.fit(Cd_X_train, Cd_y_train.ravel())"
   ]
  },
  {
   "cell_type": "code",
   "execution_count": 92,
   "id": "98d8e976",
   "metadata": {},
   "outputs": [
    {
     "name": "stdout",
     "output_type": "stream",
     "text": [
      "Best hyperparameters for GBR:  OrderedDict([('max_depth', 3), ('min_samples_leaf', 4), ('min_samples_split', 10), ('n_estimators', 100), ('subsample', 0.8941040359252148)])\n",
      "Best score for GBR:  0.40546652339051975\n"
     ]
    }
   ],
   "source": [
    "# Best hyperparameters and score for GBR\n",
    "print(\"Best hyperparameters for GBR: \", opt_gbr.best_params_)\n",
    "print(\"Best score for GBR: \", opt_gbr.best_score_)"
   ]
  },
  {
   "cell_type": "code",
   "execution_count": 93,
   "id": "9eac78db",
   "metadata": {},
   "outputs": [
    {
     "name": "stderr",
     "output_type": "stream",
     "text": [
      "c:\\Users\\jyssy\\anaconda3\\lib\\site-packages\\sklearn\\base.py:464: UserWarning: X does not have valid feature names, but GradientBoostingRegressor was fitted with feature names\n",
      "  warnings.warn(\n"
     ]
    }
   ],
   "source": [
    "# Predict on the training set\n",
    "Cd_y_pred_gbr_train = opt_gbr.predict(Cd_X_train)\n",
    "\n",
    "# Calculate RMSE and R2 for the training set\n",
    "rmse_gbr_train = np.sqrt(mean_squared_error(Cd_y_train, Cd_y_pred_gbr_train))\n",
    "r2_gbr_train = r2_score(Cd_y_train, Cd_y_pred_gbr_train)\n",
    "\n",
    "# Predict on the test set\n",
    "Cd_y_pred_gbr_test = opt_gbr.predict(Cd_X_test)\n",
    "\n",
    "# Calculate RMSE and R2 for the test set\n",
    "rmse_gbr_test = np.sqrt(mean_squared_error(Cd_y_test, Cd_y_pred_gbr_test))\n",
    "r2_gbr_test = r2_score(Cd_y_test, Cd_y_pred_gbr_test)"
   ]
  },
  {
   "cell_type": "code",
   "execution_count": 94,
   "id": "760d2540",
   "metadata": {},
   "outputs": [
    {
     "name": "stdout",
     "output_type": "stream",
     "text": [
      "GBM Training RMSE: 0.045547322266831135\n",
      "GBM Training R2: 0.683407754151965\n",
      "GBM Test RMSE: 0.06717511098640949\n",
      "GBM Test R2: -0.10771870882893464\n"
     ]
    }
   ],
   "source": [
    "print(f'GBM Training RMSE: {rmse_gbr_train}')\n",
    "print(f'GBM Training R2: {r2_gbr_train}')\n",
    "print(f'GBM Test RMSE: {rmse_gbr_test}')\n",
    "print(f'GBM Test R2: {r2_gbr_test}')"
   ]
  },
  {
   "cell_type": "markdown",
   "id": "d39fe508",
   "metadata": {},
   "source": [
    "### Ni"
   ]
  },
  {
   "cell_type": "code",
   "execution_count": 95,
   "id": "b520bf0a",
   "metadata": {},
   "outputs": [],
   "source": [
    "# Define the hyperparameter space for GBR\n",
    "param_space_gbr = {\n",
    "    'n_estimators': (10, 100),\n",
    "    'max_depth': (1, 50),\n",
    "    'min_samples_leaf': (1, 4),\n",
    "    'min_samples_split': (2, 10),\n",
    "    'subsample': (0.5, 1)\n",
    "}"
   ]
  },
  {
   "cell_type": "code",
   "execution_count": 96,
   "id": "aa84f712",
   "metadata": {},
   "outputs": [
    {
     "data": {
      "text/html": [
       "<style>#sk-container-id-15 {color: black;}#sk-container-id-15 pre{padding: 0;}#sk-container-id-15 div.sk-toggleable {background-color: white;}#sk-container-id-15 label.sk-toggleable__label {cursor: pointer;display: block;width: 100%;margin-bottom: 0;padding: 0.3em;box-sizing: border-box;text-align: center;}#sk-container-id-15 label.sk-toggleable__label-arrow:before {content: \"▸\";float: left;margin-right: 0.25em;color: #696969;}#sk-container-id-15 label.sk-toggleable__label-arrow:hover:before {color: black;}#sk-container-id-15 div.sk-estimator:hover label.sk-toggleable__label-arrow:before {color: black;}#sk-container-id-15 div.sk-toggleable__content {max-height: 0;max-width: 0;overflow: hidden;text-align: left;background-color: #f0f8ff;}#sk-container-id-15 div.sk-toggleable__content pre {margin: 0.2em;color: black;border-radius: 0.25em;background-color: #f0f8ff;}#sk-container-id-15 input.sk-toggleable__control:checked~div.sk-toggleable__content {max-height: 200px;max-width: 100%;overflow: auto;}#sk-container-id-15 input.sk-toggleable__control:checked~label.sk-toggleable__label-arrow:before {content: \"▾\";}#sk-container-id-15 div.sk-estimator input.sk-toggleable__control:checked~label.sk-toggleable__label {background-color: #d4ebff;}#sk-container-id-15 div.sk-label input.sk-toggleable__control:checked~label.sk-toggleable__label {background-color: #d4ebff;}#sk-container-id-15 input.sk-hidden--visually {border: 0;clip: rect(1px 1px 1px 1px);clip: rect(1px, 1px, 1px, 1px);height: 1px;margin: -1px;overflow: hidden;padding: 0;position: absolute;width: 1px;}#sk-container-id-15 div.sk-estimator {font-family: monospace;background-color: #f0f8ff;border: 1px dotted black;border-radius: 0.25em;box-sizing: border-box;margin-bottom: 0.5em;}#sk-container-id-15 div.sk-estimator:hover {background-color: #d4ebff;}#sk-container-id-15 div.sk-parallel-item::after {content: \"\";width: 100%;border-bottom: 1px solid gray;flex-grow: 1;}#sk-container-id-15 div.sk-label:hover label.sk-toggleable__label {background-color: #d4ebff;}#sk-container-id-15 div.sk-serial::before {content: \"\";position: absolute;border-left: 1px solid gray;box-sizing: border-box;top: 0;bottom: 0;left: 50%;z-index: 0;}#sk-container-id-15 div.sk-serial {display: flex;flex-direction: column;align-items: center;background-color: white;padding-right: 0.2em;padding-left: 0.2em;position: relative;}#sk-container-id-15 div.sk-item {position: relative;z-index: 1;}#sk-container-id-15 div.sk-parallel {display: flex;align-items: stretch;justify-content: center;background-color: white;position: relative;}#sk-container-id-15 div.sk-item::before, #sk-container-id-15 div.sk-parallel-item::before {content: \"\";position: absolute;border-left: 1px solid gray;box-sizing: border-box;top: 0;bottom: 0;left: 50%;z-index: -1;}#sk-container-id-15 div.sk-parallel-item {display: flex;flex-direction: column;z-index: 1;position: relative;background-color: white;}#sk-container-id-15 div.sk-parallel-item:first-child::after {align-self: flex-end;width: 50%;}#sk-container-id-15 div.sk-parallel-item:last-child::after {align-self: flex-start;width: 50%;}#sk-container-id-15 div.sk-parallel-item:only-child::after {width: 0;}#sk-container-id-15 div.sk-dashed-wrapped {border: 1px dashed gray;margin: 0 0.4em 0.5em 0.4em;box-sizing: border-box;padding-bottom: 0.4em;background-color: white;}#sk-container-id-15 div.sk-label label {font-family: monospace;font-weight: bold;display: inline-block;line-height: 1.2em;}#sk-container-id-15 div.sk-label-container {text-align: center;}#sk-container-id-15 div.sk-container {/* jupyter's `normalize.less` sets `[hidden] { display: none; }` but bootstrap.min.css set `[hidden] { display: none !important; }` so we also need the `!important` here to be able to override the default hidden behavior on the sphinx rendered scikit-learn.org. See: https://github.com/scikit-learn/scikit-learn/issues/21755 */display: inline-block !important;position: relative;}#sk-container-id-15 div.sk-text-repr-fallback {display: none;}</style><div id=\"sk-container-id-15\" class=\"sk-top-container\"><div class=\"sk-text-repr-fallback\"><pre>BayesSearchCV(cv=KFold(n_splits=5, random_state=42, shuffle=True),\n",
       "              estimator=GradientBoostingRegressor(), n_iter=100, n_jobs=-1,\n",
       "              search_spaces={&#x27;max_depth&#x27;: (1, 50), &#x27;min_samples_leaf&#x27;: (1, 4),\n",
       "                             &#x27;min_samples_split&#x27;: (2, 10),\n",
       "                             &#x27;n_estimators&#x27;: (10, 100), &#x27;subsample&#x27;: (0.5, 1)})</pre><b>In a Jupyter environment, please rerun this cell to show the HTML representation or trust the notebook. <br />On GitHub, the HTML representation is unable to render, please try loading this page with nbviewer.org.</b></div><div class=\"sk-container\" hidden><div class=\"sk-item sk-dashed-wrapped\"><div class=\"sk-label-container\"><div class=\"sk-label sk-toggleable\"><input class=\"sk-toggleable__control sk-hidden--visually\" id=\"sk-estimator-id-43\" type=\"checkbox\" ><label for=\"sk-estimator-id-43\" class=\"sk-toggleable__label sk-toggleable__label-arrow\">BayesSearchCV</label><div class=\"sk-toggleable__content\"><pre>BayesSearchCV(cv=KFold(n_splits=5, random_state=42, shuffle=True),\n",
       "              estimator=GradientBoostingRegressor(), n_iter=100, n_jobs=-1,\n",
       "              search_spaces={&#x27;max_depth&#x27;: (1, 50), &#x27;min_samples_leaf&#x27;: (1, 4),\n",
       "                             &#x27;min_samples_split&#x27;: (2, 10),\n",
       "                             &#x27;n_estimators&#x27;: (10, 100), &#x27;subsample&#x27;: (0.5, 1)})</pre></div></div></div><div class=\"sk-parallel\"><div class=\"sk-parallel-item\"><div class=\"sk-item\"><div class=\"sk-label-container\"><div class=\"sk-label sk-toggleable\"><input class=\"sk-toggleable__control sk-hidden--visually\" id=\"sk-estimator-id-44\" type=\"checkbox\" ><label for=\"sk-estimator-id-44\" class=\"sk-toggleable__label sk-toggleable__label-arrow\">estimator: GradientBoostingRegressor</label><div class=\"sk-toggleable__content\"><pre>GradientBoostingRegressor()</pre></div></div></div><div class=\"sk-serial\"><div class=\"sk-item\"><div class=\"sk-estimator sk-toggleable\"><input class=\"sk-toggleable__control sk-hidden--visually\" id=\"sk-estimator-id-45\" type=\"checkbox\" ><label for=\"sk-estimator-id-45\" class=\"sk-toggleable__label sk-toggleable__label-arrow\">GradientBoostingRegressor</label><div class=\"sk-toggleable__content\"><pre>GradientBoostingRegressor()</pre></div></div></div></div></div></div></div></div></div></div>"
      ],
      "text/plain": [
       "BayesSearchCV(cv=KFold(n_splits=5, random_state=42, shuffle=True),\n",
       "              estimator=GradientBoostingRegressor(), n_iter=100, n_jobs=-1,\n",
       "              search_spaces={'max_depth': (1, 50), 'min_samples_leaf': (1, 4),\n",
       "                             'min_samples_split': (2, 10),\n",
       "                             'n_estimators': (10, 100), 'subsample': (0.5, 1)})"
      ]
     },
     "execution_count": 96,
     "metadata": {},
     "output_type": "execute_result"
    }
   ],
   "source": [
    "# Initialize and fit BayesSearchCV with k-fold for GBR\n",
    "opt_gbr = BayesSearchCV(\n",
    "    GradientBoostingRegressor(),\n",
    "    param_space_gbr,\n",
    "    n_iter=100,\n",
    "    cv=kf,\n",
    "    n_jobs=-1\n",
    ")\n",
    "opt_gbr.fit(Ni_X_train, Ni_y_train.ravel())"
   ]
  },
  {
   "cell_type": "code",
   "execution_count": 97,
   "id": "38fd05ba",
   "metadata": {},
   "outputs": [
    {
     "name": "stdout",
     "output_type": "stream",
     "text": [
      "Best hyperparameters for GBR:  OrderedDict([('max_depth', 28), ('min_samples_leaf', 3), ('min_samples_split', 3), ('n_estimators', 61), ('subsample', 0.5784805195638673)])\n",
      "Best score for GBR:  0.630609539357946\n"
     ]
    }
   ],
   "source": [
    "# Best hyperparameters and score for GBR\n",
    "print(\"Best hyperparameters for GBR: \", opt_gbr.best_params_)\n",
    "print(\"Best score for GBR: \", opt_gbr.best_score_)"
   ]
  },
  {
   "cell_type": "code",
   "execution_count": 98,
   "id": "f5b54454",
   "metadata": {},
   "outputs": [
    {
     "name": "stderr",
     "output_type": "stream",
     "text": [
      "c:\\Users\\jyssy\\anaconda3\\lib\\site-packages\\sklearn\\base.py:464: UserWarning: X does not have valid feature names, but GradientBoostingRegressor was fitted with feature names\n",
      "  warnings.warn(\n"
     ]
    }
   ],
   "source": [
    "# Predict on the training set\n",
    "Ni_y_pred_gbr_train = opt_gbr.predict(Ni_X_train)\n",
    "\n",
    "# Calculate RMSE and R2 for the training set\n",
    "rmse_gbr_train = np.sqrt(mean_squared_error(Ni_y_train, Ni_y_pred_gbr_train))\n",
    "r2_gbr_train = r2_score(Ni_y_train, Ni_y_pred_gbr_train)\n",
    "\n",
    "# Predict on the test set\n",
    "Ni_y_pred_gbr_test = opt_gbr.predict(Ni_X_test)\n",
    "\n",
    "# Calculate RMSE and R2 for the test set\n",
    "rmse_gbr_test = np.sqrt(mean_squared_error(Ni_y_test, Ni_y_pred_gbr_test))\n",
    "r2_gbr_test = r2_score(Ni_y_test, Ni_y_pred_gbr_test)"
   ]
  },
  {
   "cell_type": "code",
   "execution_count": 99,
   "id": "19f384a8",
   "metadata": {},
   "outputs": [
    {
     "name": "stdout",
     "output_type": "stream",
     "text": [
      "GBM Training RMSE: 1.263457233287823\n",
      "GBM Test RMSE: 7.386841472488777\n",
      "\n",
      "GBM Training R2: 0.9904313722496192\n",
      "GBM Test R2: 0.6147592614772992\n"
     ]
    }
   ],
   "source": [
    "print(f'GBM Training RMSE: {rmse_gbr_train}')\n",
    "print(f'GBM Test RMSE: {rmse_gbr_test}\\n')\n",
    "print(f'GBM Training R2: {r2_gbr_train}')\n",
    "print(f'GBM Test R2: {r2_gbr_test}')"
   ]
  },
  {
   "cell_type": "markdown",
   "id": "ff2f25e3",
   "metadata": {},
   "source": [
    "# SVM"
   ]
  },
  {
   "cell_type": "markdown",
   "id": "4f277e99",
   "metadata": {},
   "source": [
    "### As"
   ]
  },
  {
   "cell_type": "code",
   "execution_count": 100,
   "id": "a4f797f7",
   "metadata": {},
   "outputs": [],
   "source": [
    "# Define the hyperparameter space for SVM\n",
    "param_space_svm = {\n",
    "    'C': (1e-6, 1e+6, 'log-uniform'),\n",
    "    'epsilon': (1e-6, 1e+1, 'log-uniform'),\n",
    "    'kernel': ['linear', 'poly', 'rbf', 'sigmoid'],\n",
    "    'degree': (1, 5)\n",
    "}"
   ]
  },
  {
   "cell_type": "code",
   "execution_count": 101,
   "id": "af6e17ec",
   "metadata": {},
   "outputs": [
    {
     "data": {
      "text/html": [
       "<style>#sk-container-id-16 {color: black;}#sk-container-id-16 pre{padding: 0;}#sk-container-id-16 div.sk-toggleable {background-color: white;}#sk-container-id-16 label.sk-toggleable__label {cursor: pointer;display: block;width: 100%;margin-bottom: 0;padding: 0.3em;box-sizing: border-box;text-align: center;}#sk-container-id-16 label.sk-toggleable__label-arrow:before {content: \"▸\";float: left;margin-right: 0.25em;color: #696969;}#sk-container-id-16 label.sk-toggleable__label-arrow:hover:before {color: black;}#sk-container-id-16 div.sk-estimator:hover label.sk-toggleable__label-arrow:before {color: black;}#sk-container-id-16 div.sk-toggleable__content {max-height: 0;max-width: 0;overflow: hidden;text-align: left;background-color: #f0f8ff;}#sk-container-id-16 div.sk-toggleable__content pre {margin: 0.2em;color: black;border-radius: 0.25em;background-color: #f0f8ff;}#sk-container-id-16 input.sk-toggleable__control:checked~div.sk-toggleable__content {max-height: 200px;max-width: 100%;overflow: auto;}#sk-container-id-16 input.sk-toggleable__control:checked~label.sk-toggleable__label-arrow:before {content: \"▾\";}#sk-container-id-16 div.sk-estimator input.sk-toggleable__control:checked~label.sk-toggleable__label {background-color: #d4ebff;}#sk-container-id-16 div.sk-label input.sk-toggleable__control:checked~label.sk-toggleable__label {background-color: #d4ebff;}#sk-container-id-16 input.sk-hidden--visually {border: 0;clip: rect(1px 1px 1px 1px);clip: rect(1px, 1px, 1px, 1px);height: 1px;margin: -1px;overflow: hidden;padding: 0;position: absolute;width: 1px;}#sk-container-id-16 div.sk-estimator {font-family: monospace;background-color: #f0f8ff;border: 1px dotted black;border-radius: 0.25em;box-sizing: border-box;margin-bottom: 0.5em;}#sk-container-id-16 div.sk-estimator:hover {background-color: #d4ebff;}#sk-container-id-16 div.sk-parallel-item::after {content: \"\";width: 100%;border-bottom: 1px solid gray;flex-grow: 1;}#sk-container-id-16 div.sk-label:hover label.sk-toggleable__label {background-color: #d4ebff;}#sk-container-id-16 div.sk-serial::before {content: \"\";position: absolute;border-left: 1px solid gray;box-sizing: border-box;top: 0;bottom: 0;left: 50%;z-index: 0;}#sk-container-id-16 div.sk-serial {display: flex;flex-direction: column;align-items: center;background-color: white;padding-right: 0.2em;padding-left: 0.2em;position: relative;}#sk-container-id-16 div.sk-item {position: relative;z-index: 1;}#sk-container-id-16 div.sk-parallel {display: flex;align-items: stretch;justify-content: center;background-color: white;position: relative;}#sk-container-id-16 div.sk-item::before, #sk-container-id-16 div.sk-parallel-item::before {content: \"\";position: absolute;border-left: 1px solid gray;box-sizing: border-box;top: 0;bottom: 0;left: 50%;z-index: -1;}#sk-container-id-16 div.sk-parallel-item {display: flex;flex-direction: column;z-index: 1;position: relative;background-color: white;}#sk-container-id-16 div.sk-parallel-item:first-child::after {align-self: flex-end;width: 50%;}#sk-container-id-16 div.sk-parallel-item:last-child::after {align-self: flex-start;width: 50%;}#sk-container-id-16 div.sk-parallel-item:only-child::after {width: 0;}#sk-container-id-16 div.sk-dashed-wrapped {border: 1px dashed gray;margin: 0 0.4em 0.5em 0.4em;box-sizing: border-box;padding-bottom: 0.4em;background-color: white;}#sk-container-id-16 div.sk-label label {font-family: monospace;font-weight: bold;display: inline-block;line-height: 1.2em;}#sk-container-id-16 div.sk-label-container {text-align: center;}#sk-container-id-16 div.sk-container {/* jupyter's `normalize.less` sets `[hidden] { display: none; }` but bootstrap.min.css set `[hidden] { display: none !important; }` so we also need the `!important` here to be able to override the default hidden behavior on the sphinx rendered scikit-learn.org. See: https://github.com/scikit-learn/scikit-learn/issues/21755 */display: inline-block !important;position: relative;}#sk-container-id-16 div.sk-text-repr-fallback {display: none;}</style><div id=\"sk-container-id-16\" class=\"sk-top-container\"><div class=\"sk-text-repr-fallback\"><pre>BayesSearchCV(cv=KFold(n_splits=5, random_state=42, shuffle=True),\n",
       "              estimator=SVR(), n_iter=20, n_jobs=-1,\n",
       "              search_spaces={&#x27;C&#x27;: (1e-06, 1000000.0, &#x27;log-uniform&#x27;),\n",
       "                             &#x27;degree&#x27;: (1, 5),\n",
       "                             &#x27;epsilon&#x27;: (1e-06, 10.0, &#x27;log-uniform&#x27;),\n",
       "                             &#x27;kernel&#x27;: [&#x27;linear&#x27;, &#x27;poly&#x27;, &#x27;rbf&#x27;, &#x27;sigmoid&#x27;]})</pre><b>In a Jupyter environment, please rerun this cell to show the HTML representation or trust the notebook. <br />On GitHub, the HTML representation is unable to render, please try loading this page with nbviewer.org.</b></div><div class=\"sk-container\" hidden><div class=\"sk-item sk-dashed-wrapped\"><div class=\"sk-label-container\"><div class=\"sk-label sk-toggleable\"><input class=\"sk-toggleable__control sk-hidden--visually\" id=\"sk-estimator-id-46\" type=\"checkbox\" ><label for=\"sk-estimator-id-46\" class=\"sk-toggleable__label sk-toggleable__label-arrow\">BayesSearchCV</label><div class=\"sk-toggleable__content\"><pre>BayesSearchCV(cv=KFold(n_splits=5, random_state=42, shuffle=True),\n",
       "              estimator=SVR(), n_iter=20, n_jobs=-1,\n",
       "              search_spaces={&#x27;C&#x27;: (1e-06, 1000000.0, &#x27;log-uniform&#x27;),\n",
       "                             &#x27;degree&#x27;: (1, 5),\n",
       "                             &#x27;epsilon&#x27;: (1e-06, 10.0, &#x27;log-uniform&#x27;),\n",
       "                             &#x27;kernel&#x27;: [&#x27;linear&#x27;, &#x27;poly&#x27;, &#x27;rbf&#x27;, &#x27;sigmoid&#x27;]})</pre></div></div></div><div class=\"sk-parallel\"><div class=\"sk-parallel-item\"><div class=\"sk-item\"><div class=\"sk-label-container\"><div class=\"sk-label sk-toggleable\"><input class=\"sk-toggleable__control sk-hidden--visually\" id=\"sk-estimator-id-47\" type=\"checkbox\" ><label for=\"sk-estimator-id-47\" class=\"sk-toggleable__label sk-toggleable__label-arrow\">estimator: SVR</label><div class=\"sk-toggleable__content\"><pre>SVR()</pre></div></div></div><div class=\"sk-serial\"><div class=\"sk-item\"><div class=\"sk-estimator sk-toggleable\"><input class=\"sk-toggleable__control sk-hidden--visually\" id=\"sk-estimator-id-48\" type=\"checkbox\" ><label for=\"sk-estimator-id-48\" class=\"sk-toggleable__label sk-toggleable__label-arrow\">SVR</label><div class=\"sk-toggleable__content\"><pre>SVR()</pre></div></div></div></div></div></div></div></div></div></div>"
      ],
      "text/plain": [
       "BayesSearchCV(cv=KFold(n_splits=5, random_state=42, shuffle=True),\n",
       "              estimator=SVR(), n_iter=20, n_jobs=-1,\n",
       "              search_spaces={'C': (1e-06, 1000000.0, 'log-uniform'),\n",
       "                             'degree': (1, 5),\n",
       "                             'epsilon': (1e-06, 10.0, 'log-uniform'),\n",
       "                             'kernel': ['linear', 'poly', 'rbf', 'sigmoid']})"
      ]
     },
     "execution_count": 101,
     "metadata": {},
     "output_type": "execute_result"
    }
   ],
   "source": [
    "# Initialize and fit BayesSearchCV with k-fold for SVM\n",
    "opt_svm = BayesSearchCV(\n",
    "    SVR(),\n",
    "    param_space_svm,\n",
    "    n_iter=20,\n",
    "    cv=kf,\n",
    "    n_jobs=-1\n",
    ")\n",
    "opt_svm.fit(As_X_train, As_y_train.ravel())"
   ]
  },
  {
   "cell_type": "code",
   "execution_count": 102,
   "id": "75be5134",
   "metadata": {},
   "outputs": [
    {
     "name": "stdout",
     "output_type": "stream",
     "text": [
      "Best hyperparameters for SVM:  OrderedDict([('C', 2.0402114962615974), ('degree', 4), ('epsilon', 0.035482409357961285), ('kernel', 'rbf')])\n",
      "Best score for SVM:  0.25942033607656423\n"
     ]
    }
   ],
   "source": [
    "# Best hyperparameters and score for SVM\n",
    "print(\"Best hyperparameters for SVM: \", opt_svm.best_params_)\n",
    "print(\"Best score for SVM: \", opt_svm.best_score_)"
   ]
  },
  {
   "cell_type": "code",
   "execution_count": 103,
   "id": "67da88d6",
   "metadata": {},
   "outputs": [
    {
     "name": "stderr",
     "output_type": "stream",
     "text": [
      "c:\\Users\\jyssy\\anaconda3\\lib\\site-packages\\sklearn\\base.py:464: UserWarning: X does not have valid feature names, but SVR was fitted with feature names\n",
      "  warnings.warn(\n"
     ]
    }
   ],
   "source": [
    "# Predict on the training set\n",
    "As_y_pred_svm_train = opt_svm.predict(As_X_train)\n",
    "\n",
    "# Calculate RMSE and R2 for the training set\n",
    "rmse_svm_train = np.sqrt(mean_squared_error(As_y_train, As_y_pred_svm_train))\n",
    "r2_svm_train = r2_score(As_y_train, As_y_pred_svm_train)\n",
    "\n",
    "# Predict on the test set\n",
    "As_y_pred_svm_test = opt_svm.predict(As_X_test)\n",
    "\n",
    "# Calculate RMSE and R2 for the test set\n",
    "rmse_svm_test = np.sqrt(mean_squared_error(As_y_test, As_y_pred_svm_test))\n",
    "r2_svm_test = r2_score(As_y_test, As_y_pred_svm_test)"
   ]
  },
  {
   "cell_type": "code",
   "execution_count": 104,
   "id": "78d3fd95",
   "metadata": {},
   "outputs": [
    {
     "name": "stdout",
     "output_type": "stream",
     "text": [
      "SVM Training RMSE: 0.6744909708298944\n",
      "SVM Test RMSE: 0.9525192011290202\n",
      "\n",
      "SVM Training R2: 0.5390581169816\n",
      "SVM Test R2: -0.12920563461018086\n"
     ]
    }
   ],
   "source": [
    "print(f'SVM Training RMSE: {rmse_svm_train}')\n",
    "print(f'SVM Test RMSE: {rmse_svm_test}\\n')\n",
    "print(f'SVM Training R2: {r2_svm_train}')\n",
    "print(f'SVM Test R2: {r2_svm_test}')"
   ]
  },
  {
   "cell_type": "markdown",
   "id": "f52b99df",
   "metadata": {},
   "source": [
    "### Cd"
   ]
  },
  {
   "cell_type": "code",
   "execution_count": 105,
   "id": "671e9777",
   "metadata": {},
   "outputs": [],
   "source": [
    "# Define the hyperparameter space for SVM\n",
    "param_space_svm = {\n",
    "    'C': (1e-6, 1e+6, 'log-uniform'),\n",
    "    'epsilon': (1e-6, 1e+1, 'log-uniform'),\n",
    "    'kernel': ['linear', 'poly', 'rbf', 'sigmoid'],\n",
    "    'degree': (1, 5)\n",
    "}"
   ]
  },
  {
   "cell_type": "code",
   "execution_count": 106,
   "id": "5dbe68e9",
   "metadata": {},
   "outputs": [
    {
     "data": {
      "text/html": [
       "<style>#sk-container-id-17 {color: black;}#sk-container-id-17 pre{padding: 0;}#sk-container-id-17 div.sk-toggleable {background-color: white;}#sk-container-id-17 label.sk-toggleable__label {cursor: pointer;display: block;width: 100%;margin-bottom: 0;padding: 0.3em;box-sizing: border-box;text-align: center;}#sk-container-id-17 label.sk-toggleable__label-arrow:before {content: \"▸\";float: left;margin-right: 0.25em;color: #696969;}#sk-container-id-17 label.sk-toggleable__label-arrow:hover:before {color: black;}#sk-container-id-17 div.sk-estimator:hover label.sk-toggleable__label-arrow:before {color: black;}#sk-container-id-17 div.sk-toggleable__content {max-height: 0;max-width: 0;overflow: hidden;text-align: left;background-color: #f0f8ff;}#sk-container-id-17 div.sk-toggleable__content pre {margin: 0.2em;color: black;border-radius: 0.25em;background-color: #f0f8ff;}#sk-container-id-17 input.sk-toggleable__control:checked~div.sk-toggleable__content {max-height: 200px;max-width: 100%;overflow: auto;}#sk-container-id-17 input.sk-toggleable__control:checked~label.sk-toggleable__label-arrow:before {content: \"▾\";}#sk-container-id-17 div.sk-estimator input.sk-toggleable__control:checked~label.sk-toggleable__label {background-color: #d4ebff;}#sk-container-id-17 div.sk-label input.sk-toggleable__control:checked~label.sk-toggleable__label {background-color: #d4ebff;}#sk-container-id-17 input.sk-hidden--visually {border: 0;clip: rect(1px 1px 1px 1px);clip: rect(1px, 1px, 1px, 1px);height: 1px;margin: -1px;overflow: hidden;padding: 0;position: absolute;width: 1px;}#sk-container-id-17 div.sk-estimator {font-family: monospace;background-color: #f0f8ff;border: 1px dotted black;border-radius: 0.25em;box-sizing: border-box;margin-bottom: 0.5em;}#sk-container-id-17 div.sk-estimator:hover {background-color: #d4ebff;}#sk-container-id-17 div.sk-parallel-item::after {content: \"\";width: 100%;border-bottom: 1px solid gray;flex-grow: 1;}#sk-container-id-17 div.sk-label:hover label.sk-toggleable__label {background-color: #d4ebff;}#sk-container-id-17 div.sk-serial::before {content: \"\";position: absolute;border-left: 1px solid gray;box-sizing: border-box;top: 0;bottom: 0;left: 50%;z-index: 0;}#sk-container-id-17 div.sk-serial {display: flex;flex-direction: column;align-items: center;background-color: white;padding-right: 0.2em;padding-left: 0.2em;position: relative;}#sk-container-id-17 div.sk-item {position: relative;z-index: 1;}#sk-container-id-17 div.sk-parallel {display: flex;align-items: stretch;justify-content: center;background-color: white;position: relative;}#sk-container-id-17 div.sk-item::before, #sk-container-id-17 div.sk-parallel-item::before {content: \"\";position: absolute;border-left: 1px solid gray;box-sizing: border-box;top: 0;bottom: 0;left: 50%;z-index: -1;}#sk-container-id-17 div.sk-parallel-item {display: flex;flex-direction: column;z-index: 1;position: relative;background-color: white;}#sk-container-id-17 div.sk-parallel-item:first-child::after {align-self: flex-end;width: 50%;}#sk-container-id-17 div.sk-parallel-item:last-child::after {align-self: flex-start;width: 50%;}#sk-container-id-17 div.sk-parallel-item:only-child::after {width: 0;}#sk-container-id-17 div.sk-dashed-wrapped {border: 1px dashed gray;margin: 0 0.4em 0.5em 0.4em;box-sizing: border-box;padding-bottom: 0.4em;background-color: white;}#sk-container-id-17 div.sk-label label {font-family: monospace;font-weight: bold;display: inline-block;line-height: 1.2em;}#sk-container-id-17 div.sk-label-container {text-align: center;}#sk-container-id-17 div.sk-container {/* jupyter's `normalize.less` sets `[hidden] { display: none; }` but bootstrap.min.css set `[hidden] { display: none !important; }` so we also need the `!important` here to be able to override the default hidden behavior on the sphinx rendered scikit-learn.org. See: https://github.com/scikit-learn/scikit-learn/issues/21755 */display: inline-block !important;position: relative;}#sk-container-id-17 div.sk-text-repr-fallback {display: none;}</style><div id=\"sk-container-id-17\" class=\"sk-top-container\"><div class=\"sk-text-repr-fallback\"><pre>BayesSearchCV(cv=KFold(n_splits=5, random_state=42, shuffle=True),\n",
       "              estimator=SVR(), n_iter=20, n_jobs=-1,\n",
       "              search_spaces={&#x27;C&#x27;: (1e-06, 1000000.0, &#x27;log-uniform&#x27;),\n",
       "                             &#x27;degree&#x27;: (1, 5),\n",
       "                             &#x27;epsilon&#x27;: (1e-06, 10.0, &#x27;log-uniform&#x27;),\n",
       "                             &#x27;kernel&#x27;: [&#x27;linear&#x27;, &#x27;poly&#x27;, &#x27;rbf&#x27;, &#x27;sigmoid&#x27;]})</pre><b>In a Jupyter environment, please rerun this cell to show the HTML representation or trust the notebook. <br />On GitHub, the HTML representation is unable to render, please try loading this page with nbviewer.org.</b></div><div class=\"sk-container\" hidden><div class=\"sk-item sk-dashed-wrapped\"><div class=\"sk-label-container\"><div class=\"sk-label sk-toggleable\"><input class=\"sk-toggleable__control sk-hidden--visually\" id=\"sk-estimator-id-49\" type=\"checkbox\" ><label for=\"sk-estimator-id-49\" class=\"sk-toggleable__label sk-toggleable__label-arrow\">BayesSearchCV</label><div class=\"sk-toggleable__content\"><pre>BayesSearchCV(cv=KFold(n_splits=5, random_state=42, shuffle=True),\n",
       "              estimator=SVR(), n_iter=20, n_jobs=-1,\n",
       "              search_spaces={&#x27;C&#x27;: (1e-06, 1000000.0, &#x27;log-uniform&#x27;),\n",
       "                             &#x27;degree&#x27;: (1, 5),\n",
       "                             &#x27;epsilon&#x27;: (1e-06, 10.0, &#x27;log-uniform&#x27;),\n",
       "                             &#x27;kernel&#x27;: [&#x27;linear&#x27;, &#x27;poly&#x27;, &#x27;rbf&#x27;, &#x27;sigmoid&#x27;]})</pre></div></div></div><div class=\"sk-parallel\"><div class=\"sk-parallel-item\"><div class=\"sk-item\"><div class=\"sk-label-container\"><div class=\"sk-label sk-toggleable\"><input class=\"sk-toggleable__control sk-hidden--visually\" id=\"sk-estimator-id-50\" type=\"checkbox\" ><label for=\"sk-estimator-id-50\" class=\"sk-toggleable__label sk-toggleable__label-arrow\">estimator: SVR</label><div class=\"sk-toggleable__content\"><pre>SVR()</pre></div></div></div><div class=\"sk-serial\"><div class=\"sk-item\"><div class=\"sk-estimator sk-toggleable\"><input class=\"sk-toggleable__control sk-hidden--visually\" id=\"sk-estimator-id-51\" type=\"checkbox\" ><label for=\"sk-estimator-id-51\" class=\"sk-toggleable__label sk-toggleable__label-arrow\">SVR</label><div class=\"sk-toggleable__content\"><pre>SVR()</pre></div></div></div></div></div></div></div></div></div></div>"
      ],
      "text/plain": [
       "BayesSearchCV(cv=KFold(n_splits=5, random_state=42, shuffle=True),\n",
       "              estimator=SVR(), n_iter=20, n_jobs=-1,\n",
       "              search_spaces={'C': (1e-06, 1000000.0, 'log-uniform'),\n",
       "                             'degree': (1, 5),\n",
       "                             'epsilon': (1e-06, 10.0, 'log-uniform'),\n",
       "                             'kernel': ['linear', 'poly', 'rbf', 'sigmoid']})"
      ]
     },
     "execution_count": 106,
     "metadata": {},
     "output_type": "execute_result"
    }
   ],
   "source": [
    "# Initialize and fit BayesSearchCV with k-fold for SVM\n",
    "opt_svm = BayesSearchCV(\n",
    "    SVR(),\n",
    "    param_space_svm,\n",
    "    n_iter=20,\n",
    "    cv=kf,\n",
    "    n_jobs=-1\n",
    ")\n",
    "opt_svm.fit(Cd_X_train, Cd_y_train.ravel())"
   ]
  },
  {
   "cell_type": "code",
   "execution_count": 107,
   "id": "bf9ba282",
   "metadata": {},
   "outputs": [
    {
     "name": "stdout",
     "output_type": "stream",
     "text": [
      "Best hyperparameters for SVM:  OrderedDict([('C', 0.02266518746180975), ('degree', 5), ('epsilon', 6.119884560960456e-05), ('kernel', 'rbf')])\n",
      "Best score for SVM:  0.3233050566599334\n"
     ]
    }
   ],
   "source": [
    "# Best hyperparameters and score for SVM\n",
    "print(\"Best hyperparameters for SVM: \", opt_svm.best_params_)\n",
    "print(\"Best score for SVM: \", opt_svm.best_score_)"
   ]
  },
  {
   "cell_type": "code",
   "execution_count": 108,
   "id": "fc7e5ec4",
   "metadata": {},
   "outputs": [
    {
     "name": "stderr",
     "output_type": "stream",
     "text": [
      "c:\\Users\\jyssy\\anaconda3\\lib\\site-packages\\sklearn\\base.py:464: UserWarning: X does not have valid feature names, but SVR was fitted with feature names\n",
      "  warnings.warn(\n"
     ]
    }
   ],
   "source": [
    "# Predict on the training set\n",
    "Cd_y_pred_svm_train = opt_svm.predict(Cd_X_train)\n",
    "\n",
    "# Calculate RMSE and R2 for the training set\n",
    "rmse_svm_train = np.sqrt(mean_squared_error(Cd_y_train, Cd_y_pred_svm_train))\n",
    "r2_svm_train = r2_score(Cd_y_train, Cd_y_pred_svm_train)\n",
    "\n",
    "# Predict on the test set\n",
    "Cd_y_pred_svm_test = opt_svm.predict(Cd_X_test)\n",
    "\n",
    "# Calculate RMSE and R2 for the test set\n",
    "rmse_svm_test = np.sqrt(mean_squared_error(Cd_y_test, Cd_y_pred_svm_test))\n",
    "r2_svm_test = r2_score(Cd_y_test, Cd_y_pred_svm_test)"
   ]
  },
  {
   "cell_type": "code",
   "execution_count": 109,
   "id": "fadbe218",
   "metadata": {},
   "outputs": [
    {
     "name": "stdout",
     "output_type": "stream",
     "text": [
      "SVM Training RMSE: 0.06085605286739849\n",
      "SVM Test RMSE: 0.06520632777830501\n",
      "\n",
      "SVM Training R2: 0.43482605137102137\n",
      "SVM Test R2: -0.04373967182340199\n"
     ]
    }
   ],
   "source": [
    "print(f'SVM Training RMSE: {rmse_svm_train}')\n",
    "print(f'SVM Test RMSE: {rmse_svm_test}\\n')\n",
    "print(f'SVM Training R2: {r2_svm_train}')\n",
    "print(f'SVM Test R2: {r2_svm_test}')"
   ]
  },
  {
   "cell_type": "markdown",
   "id": "9bfea9b9",
   "metadata": {},
   "source": [
    "### Ni"
   ]
  },
  {
   "cell_type": "code",
   "execution_count": 110,
   "id": "9f1c8cc5",
   "metadata": {},
   "outputs": [],
   "source": [
    "# Define the hyperparameter space for SVM\n",
    "param_space_svm = {\n",
    "    'C': (1e-6, 1e+6, 'log-uniform'),\n",
    "    'epsilon': (1e-6, 1e+1, 'log-uniform'),\n",
    "    'kernel': ['linear', 'poly', 'rbf', 'sigmoid'],\n",
    "    'degree': (1, 5)\n",
    "}"
   ]
  },
  {
   "cell_type": "code",
   "execution_count": 111,
   "id": "9837a147",
   "metadata": {},
   "outputs": [
    {
     "data": {
      "text/html": [
       "<style>#sk-container-id-18 {color: black;}#sk-container-id-18 pre{padding: 0;}#sk-container-id-18 div.sk-toggleable {background-color: white;}#sk-container-id-18 label.sk-toggleable__label {cursor: pointer;display: block;width: 100%;margin-bottom: 0;padding: 0.3em;box-sizing: border-box;text-align: center;}#sk-container-id-18 label.sk-toggleable__label-arrow:before {content: \"▸\";float: left;margin-right: 0.25em;color: #696969;}#sk-container-id-18 label.sk-toggleable__label-arrow:hover:before {color: black;}#sk-container-id-18 div.sk-estimator:hover label.sk-toggleable__label-arrow:before {color: black;}#sk-container-id-18 div.sk-toggleable__content {max-height: 0;max-width: 0;overflow: hidden;text-align: left;background-color: #f0f8ff;}#sk-container-id-18 div.sk-toggleable__content pre {margin: 0.2em;color: black;border-radius: 0.25em;background-color: #f0f8ff;}#sk-container-id-18 input.sk-toggleable__control:checked~div.sk-toggleable__content {max-height: 200px;max-width: 100%;overflow: auto;}#sk-container-id-18 input.sk-toggleable__control:checked~label.sk-toggleable__label-arrow:before {content: \"▾\";}#sk-container-id-18 div.sk-estimator input.sk-toggleable__control:checked~label.sk-toggleable__label {background-color: #d4ebff;}#sk-container-id-18 div.sk-label input.sk-toggleable__control:checked~label.sk-toggleable__label {background-color: #d4ebff;}#sk-container-id-18 input.sk-hidden--visually {border: 0;clip: rect(1px 1px 1px 1px);clip: rect(1px, 1px, 1px, 1px);height: 1px;margin: -1px;overflow: hidden;padding: 0;position: absolute;width: 1px;}#sk-container-id-18 div.sk-estimator {font-family: monospace;background-color: #f0f8ff;border: 1px dotted black;border-radius: 0.25em;box-sizing: border-box;margin-bottom: 0.5em;}#sk-container-id-18 div.sk-estimator:hover {background-color: #d4ebff;}#sk-container-id-18 div.sk-parallel-item::after {content: \"\";width: 100%;border-bottom: 1px solid gray;flex-grow: 1;}#sk-container-id-18 div.sk-label:hover label.sk-toggleable__label {background-color: #d4ebff;}#sk-container-id-18 div.sk-serial::before {content: \"\";position: absolute;border-left: 1px solid gray;box-sizing: border-box;top: 0;bottom: 0;left: 50%;z-index: 0;}#sk-container-id-18 div.sk-serial {display: flex;flex-direction: column;align-items: center;background-color: white;padding-right: 0.2em;padding-left: 0.2em;position: relative;}#sk-container-id-18 div.sk-item {position: relative;z-index: 1;}#sk-container-id-18 div.sk-parallel {display: flex;align-items: stretch;justify-content: center;background-color: white;position: relative;}#sk-container-id-18 div.sk-item::before, #sk-container-id-18 div.sk-parallel-item::before {content: \"\";position: absolute;border-left: 1px solid gray;box-sizing: border-box;top: 0;bottom: 0;left: 50%;z-index: -1;}#sk-container-id-18 div.sk-parallel-item {display: flex;flex-direction: column;z-index: 1;position: relative;background-color: white;}#sk-container-id-18 div.sk-parallel-item:first-child::after {align-self: flex-end;width: 50%;}#sk-container-id-18 div.sk-parallel-item:last-child::after {align-self: flex-start;width: 50%;}#sk-container-id-18 div.sk-parallel-item:only-child::after {width: 0;}#sk-container-id-18 div.sk-dashed-wrapped {border: 1px dashed gray;margin: 0 0.4em 0.5em 0.4em;box-sizing: border-box;padding-bottom: 0.4em;background-color: white;}#sk-container-id-18 div.sk-label label {font-family: monospace;font-weight: bold;display: inline-block;line-height: 1.2em;}#sk-container-id-18 div.sk-label-container {text-align: center;}#sk-container-id-18 div.sk-container {/* jupyter's `normalize.less` sets `[hidden] { display: none; }` but bootstrap.min.css set `[hidden] { display: none !important; }` so we also need the `!important` here to be able to override the default hidden behavior on the sphinx rendered scikit-learn.org. See: https://github.com/scikit-learn/scikit-learn/issues/21755 */display: inline-block !important;position: relative;}#sk-container-id-18 div.sk-text-repr-fallback {display: none;}</style><div id=\"sk-container-id-18\" class=\"sk-top-container\"><div class=\"sk-text-repr-fallback\"><pre>BayesSearchCV(cv=KFold(n_splits=5, random_state=42, shuffle=True),\n",
       "              estimator=SVR(), n_iter=20, n_jobs=-1,\n",
       "              search_spaces={&#x27;C&#x27;: (1e-06, 1000000.0, &#x27;log-uniform&#x27;),\n",
       "                             &#x27;degree&#x27;: (1, 5),\n",
       "                             &#x27;epsilon&#x27;: (1e-06, 10.0, &#x27;log-uniform&#x27;),\n",
       "                             &#x27;kernel&#x27;: [&#x27;linear&#x27;, &#x27;poly&#x27;, &#x27;rbf&#x27;, &#x27;sigmoid&#x27;]})</pre><b>In a Jupyter environment, please rerun this cell to show the HTML representation or trust the notebook. <br />On GitHub, the HTML representation is unable to render, please try loading this page with nbviewer.org.</b></div><div class=\"sk-container\" hidden><div class=\"sk-item sk-dashed-wrapped\"><div class=\"sk-label-container\"><div class=\"sk-label sk-toggleable\"><input class=\"sk-toggleable__control sk-hidden--visually\" id=\"sk-estimator-id-52\" type=\"checkbox\" ><label for=\"sk-estimator-id-52\" class=\"sk-toggleable__label sk-toggleable__label-arrow\">BayesSearchCV</label><div class=\"sk-toggleable__content\"><pre>BayesSearchCV(cv=KFold(n_splits=5, random_state=42, shuffle=True),\n",
       "              estimator=SVR(), n_iter=20, n_jobs=-1,\n",
       "              search_spaces={&#x27;C&#x27;: (1e-06, 1000000.0, &#x27;log-uniform&#x27;),\n",
       "                             &#x27;degree&#x27;: (1, 5),\n",
       "                             &#x27;epsilon&#x27;: (1e-06, 10.0, &#x27;log-uniform&#x27;),\n",
       "                             &#x27;kernel&#x27;: [&#x27;linear&#x27;, &#x27;poly&#x27;, &#x27;rbf&#x27;, &#x27;sigmoid&#x27;]})</pre></div></div></div><div class=\"sk-parallel\"><div class=\"sk-parallel-item\"><div class=\"sk-item\"><div class=\"sk-label-container\"><div class=\"sk-label sk-toggleable\"><input class=\"sk-toggleable__control sk-hidden--visually\" id=\"sk-estimator-id-53\" type=\"checkbox\" ><label for=\"sk-estimator-id-53\" class=\"sk-toggleable__label sk-toggleable__label-arrow\">estimator: SVR</label><div class=\"sk-toggleable__content\"><pre>SVR()</pre></div></div></div><div class=\"sk-serial\"><div class=\"sk-item\"><div class=\"sk-estimator sk-toggleable\"><input class=\"sk-toggleable__control sk-hidden--visually\" id=\"sk-estimator-id-54\" type=\"checkbox\" ><label for=\"sk-estimator-id-54\" class=\"sk-toggleable__label sk-toggleable__label-arrow\">SVR</label><div class=\"sk-toggleable__content\"><pre>SVR()</pre></div></div></div></div></div></div></div></div></div></div>"
      ],
      "text/plain": [
       "BayesSearchCV(cv=KFold(n_splits=5, random_state=42, shuffle=True),\n",
       "              estimator=SVR(), n_iter=20, n_jobs=-1,\n",
       "              search_spaces={'C': (1e-06, 1000000.0, 'log-uniform'),\n",
       "                             'degree': (1, 5),\n",
       "                             'epsilon': (1e-06, 10.0, 'log-uniform'),\n",
       "                             'kernel': ['linear', 'poly', 'rbf', 'sigmoid']})"
      ]
     },
     "execution_count": 111,
     "metadata": {},
     "output_type": "execute_result"
    }
   ],
   "source": [
    "# Initialize and fit BayesSearchCV with k-fold for SVM\n",
    "opt_svm = BayesSearchCV(\n",
    "    SVR(),\n",
    "    param_space_svm,\n",
    "    n_iter=20,\n",
    "    cv=kf,\n",
    "    n_jobs=-1\n",
    ")\n",
    "opt_svm.fit(Ni_X_train, Ni_y_train.ravel())"
   ]
  },
  {
   "cell_type": "code",
   "execution_count": 112,
   "id": "adf2058b",
   "metadata": {},
   "outputs": [
    {
     "name": "stdout",
     "output_type": "stream",
     "text": [
      "Best hyperparameters for SVM:  OrderedDict([('C', 579.4030798388169), ('degree', 2), ('epsilon', 10.0), ('kernel', 'rbf')])\n",
      "Best score for SVM:  0.3604488233087428\n"
     ]
    }
   ],
   "source": [
    "# Best hyperparameters and score for SVM\n",
    "print(\"Best hyperparameters for SVM: \", opt_svm.best_params_)\n",
    "print(\"Best score for SVM: \", opt_svm.best_score_)"
   ]
  },
  {
   "cell_type": "code",
   "execution_count": 113,
   "id": "996eb2a5",
   "metadata": {},
   "outputs": [
    {
     "name": "stderr",
     "output_type": "stream",
     "text": [
      "c:\\Users\\jyssy\\anaconda3\\lib\\site-packages\\sklearn\\base.py:464: UserWarning: X does not have valid feature names, but SVR was fitted with feature names\n",
      "  warnings.warn(\n"
     ]
    }
   ],
   "source": [
    "# Predict on the training set\n",
    "Ni_y_pred_svm_train = opt_svm.predict(Ni_X_train)\n",
    "\n",
    "# Calculate RMSE and R2 for the training set\n",
    "rmse_svm_train = np.sqrt(mean_squared_error(Ni_y_train, Ni_y_pred_svm_train))\n",
    "r2_svm_train = r2_score(Ni_y_train, Ni_y_pred_svm_train)\n",
    "\n",
    "# Predict on the test set\n",
    "Ni_y_pred_svm_test = opt_svm.predict(Ni_X_test)\n",
    "\n",
    "# Calculate RMSE and R2 for the test set\n",
    "rmse_svm_test = np.sqrt(mean_squared_error(Ni_y_test, Ni_y_pred_svm_test))\n",
    "r2_svm_test = r2_score(Ni_y_test, Ni_y_pred_svm_test)"
   ]
  },
  {
   "cell_type": "code",
   "execution_count": 114,
   "id": "adb6e381",
   "metadata": {},
   "outputs": [
    {
     "name": "stdout",
     "output_type": "stream",
     "text": [
      "SVM Training RMSE: 7.209898588347954\n",
      "SVM Test RMSE: 11.634932472036043\n",
      "\n",
      "SVM Training R2: 0.6884075832965584\n",
      "SVM Test R2: 0.04425423305743548\n"
     ]
    }
   ],
   "source": [
    "print(f'SVM Training RMSE: {rmse_svm_train}')\n",
    "print(f'SVM Test RMSE: {rmse_svm_test}\\n')\n",
    "print(f'SVM Training R2: {r2_svm_train}')\n",
    "print(f'SVM Test R2: {r2_svm_test}')"
   ]
  }
 ],
 "metadata": {
  "kernelspec": {
   "display_name": "Python 3 (ipykernel)",
   "language": "python",
   "name": "python3"
  },
  "language_info": {
   "codemirror_mode": {
    "name": "ipython",
    "version": 3
   },
   "file_extension": ".py",
   "mimetype": "text/x-python",
   "name": "python",
   "nbconvert_exporter": "python",
   "pygments_lexer": "ipython3",
   "version": "3.8.11"
  }
 },
 "nbformat": 4,
 "nbformat_minor": 5
}
