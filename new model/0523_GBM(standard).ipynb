{
 "cells": [
  {
   "attachments": {},
   "cell_type": "markdown",
   "id": "451911be",
   "metadata": {},
   "source": [
    "#### Library import"
   ]
  },
  {
   "cell_type": "code",
   "execution_count": 1,
   "id": "8a394942",
   "metadata": {},
   "outputs": [],
   "source": [
    "import os\n",
    "import pandas as pd\n",
    "import numpy as np\n",
    "import matplotlib.pyplot as plt\n",
    "%matplotlib inline\n",
    "import seaborn as sns\n",
    "import tensorflow as tf\n",
    "import missingno as msno\n",
    "\n",
    "import warnings\n",
    "warnings.filterwarnings('ignore')\n",
    "\n",
    "from sklearn.model_selection import train_test_split\n",
    "from sklearn.model_selection import GridSearchCV\n",
    "from sklearn.metrics import mean_squared_error, r2_score\n",
    "from sklearn.preprocessing import StandardScaler, MinMaxScaler, RobustScaler\n",
    "from sklearn.ensemble import RandomForestRegressor, GradientBoostingRegressor, ExtraTreesRegressor\n",
    "from sklearn.model_selection import KFold\n",
    "from lightgbm import LGBMRegressor\n",
    "from xgboost import XGBRegressor\n",
    "from ngboost import NGBRegressor\n",
    "from scipy.stats import norm, skew\n",
    "\n",
    "from matplotlib.ticker import FormatStrFormatter\n",
    "\n",
    "import re\n",
    "from tqdm import tqdm"
   ]
  },
  {
   "attachments": {},
   "cell_type": "markdown",
   "id": "31a13d68",
   "metadata": {},
   "source": [
    "#### GPU setting"
   ]
  },
  {
   "cell_type": "code",
   "execution_count": 2,
   "id": "cd001f36",
   "metadata": {},
   "outputs": [],
   "source": [
    "from tensorflow.compat.v1 import ConfigProto\n",
    "from tensorflow.compat.v1 import InteractiveSession"
   ]
  },
  {
   "cell_type": "code",
   "execution_count": 3,
   "id": "25c4acdb",
   "metadata": {},
   "outputs": [],
   "source": [
    "config = ConfigProto()\n",
    "config.gpu_options.per_process_gpu_memory_fraction = 0.4\n",
    "session = InteractiveSession(config = config)"
   ]
  },
  {
   "cell_type": "code",
   "execution_count": 4,
   "id": "7f5f8e0a",
   "metadata": {},
   "outputs": [
    {
     "name": "stdout",
     "output_type": "stream",
     "text": [
      "[name: \"/device:CPU:0\"\n",
      "device_type: \"CPU\"\n",
      "memory_limit: 268435456\n",
      "locality {\n",
      "}\n",
      "incarnation: 6888396710362715971\n",
      ", name: \"/device:GPU:0\"\n",
      "device_type: \"GPU\"\n",
      "memory_limit: 3435973836\n",
      "locality {\n",
      "  bus_id: 1\n",
      "  links {\n",
      "  }\n",
      "}\n",
      "incarnation: 16774069257140556343\n",
      "physical_device_desc: \"device: 0, name: NVIDIA GeForce RTX 3060 Ti, pci bus id: 0000:07:00.0, compute capability: 8.6\"\n",
      "]\n"
     ]
    }
   ],
   "source": [
    "physical_devices = tf.config.list_physical_devices('GPU')\n",
    "physical_devices\n",
    "\n",
    "from tensorflow.python.client import device_lib\n",
    "\n",
    "print(device_lib.list_local_devices())"
   ]
  },
  {
   "cell_type": "code",
   "execution_count": 5,
   "id": "1de68242",
   "metadata": {},
   "outputs": [],
   "source": [
    "import os\n",
    "\n",
    "os.environ[\"CUDA_VISIBLE_DEVICES\"]=\"0\"\n",
    "gpus = tf.config.experimental.list_physical_devices('GPU')\n",
    "if gpus:\n",
    "    try:\n",
    "        tf.config.experimental.set_memory_growth(gpus[0], True)\n",
    "    except RuntimeError as e:\n",
    "        print(e)"
   ]
  },
  {
   "attachments": {},
   "cell_type": "markdown",
   "id": "cb740f81",
   "metadata": {},
   "source": [
    "#### Data import and preprocessing"
   ]
  },
  {
   "cell_type": "code",
   "execution_count": 6,
   "id": "9288345d",
   "metadata": {
    "scrolled": true
   },
   "outputs": [
    {
     "data": {
      "text/plain": [
       "Index(['OBJECTID_x', 'ID', 'pH', 'As', 'Cd', 'Ni', 'Pb', 'Zn', 'Hg', 'slope',\n",
       "       'altitude', 'profile_curve', 'profile_c_num', 'profile_c_abs',\n",
       "       'planform_curve', 'planform_c_num', 'planform_c_abs', 'HYDGRP',\n",
       "       'HYDGRP_A', 'HYDGRP_B', 'HYDGRP_C', 'HYDGRP_D', 'ANION_EXCL', 'SOL_CRK',\n",
       "       'SOL_K1', 'CLAY1', 'SILT1', 'SAND1', 'ROCK1', 'SOL_EC1', 'distance'],\n",
       "      dtype='object')"
      ]
     },
     "execution_count": 6,
     "metadata": {},
     "output_type": "execute_result"
    }
   ],
   "source": [
    "data = pd.read_csv(\"data/data.csv\")\n",
    "data.columns"
   ]
  },
  {
   "cell_type": "code",
   "execution_count": 7,
   "id": "bbf87a23",
   "metadata": {},
   "outputs": [
    {
     "data": {
      "text/plain": [
       "Index(['pH', 'As', 'Cd', 'Ni', 'Pb', 'Zn', 'Hg', 'slope', 'altitude',\n",
       "       'profile_curve', 'planform_curve', 'HYDGRP_A', 'HYDGRP_B', 'HYDGRP_C',\n",
       "       'HYDGRP_D', 'SOL_K1', 'CLAY1', 'SILT1', 'SAND1', 'ROCK1', 'distance'],\n",
       "      dtype='object')"
      ]
     },
     "execution_count": 7,
     "metadata": {},
     "output_type": "execute_result"
    }
   ],
   "source": [
    "data = data.drop(['OBJECTID_x','ID','HYDGRP','profile_c_num', 'profile_c_abs','planform_c_num', 'planform_c_abs','ANION_EXCL','SOL_CRK','SOL_EC1'], axis = 1)\n",
    "data.columns"
   ]
  },
  {
   "cell_type": "code",
   "execution_count": 8,
   "id": "eda19bb6",
   "metadata": {},
   "outputs": [],
   "source": [
    "As = data\n",
    "Cd = data\n",
    "Ni = data"
   ]
  },
  {
   "cell_type": "code",
   "execution_count": 9,
   "id": "c3c7d06a",
   "metadata": {},
   "outputs": [],
   "source": [
    "As = As.drop([\"Cd\", \"Ni\", \"Pb\", \"Zn\", \"Hg\"], axis = 1)\n",
    "Cd = Cd.drop([\"As\", \"Ni\", \"Pb\", \"Zn\", \"Hg\"], axis = 1)\n",
    "Ni = Ni.drop([\"As\", \"Cd\", \"Pb\", \"Zn\", \"Hg\"], axis = 1)"
   ]
  },
  {
   "cell_type": "code",
   "execution_count": 10,
   "id": "67d23d19",
   "metadata": {},
   "outputs": [
    {
     "name": "stdout",
     "output_type": "stream",
     "text": [
      "(1458, 16)\n",
      "(1458, 16)\n",
      "(1458, 16)\n"
     ]
    }
   ],
   "source": [
    "print(As.shape)\n",
    "print(Cd.shape)\n",
    "print(Ni.shape)"
   ]
  },
  {
   "cell_type": "markdown",
   "id": "a5e7de7c",
   "metadata": {},
   "source": [
    "#### Oversampling by SMOGN (SMOTE Regression)"
   ]
  },
  {
   "cell_type": "code",
   "execution_count": 11,
   "id": "07928600",
   "metadata": {},
   "outputs": [],
   "source": [
    "import smogn"
   ]
  },
  {
   "cell_type": "code",
   "execution_count": 12,
   "id": "944a8180",
   "metadata": {},
   "outputs": [
    {
     "name": "stderr",
     "output_type": "stream",
     "text": [
      "dist_matrix: 100%|##########| 248/248 [00:23<00:00, 10.68it/s]\n",
      "synth_matrix: 100%|##########| 248/248 [00:01<00:00, 213.75it/s]\n",
      "r_index: 100%|##########| 223/223 [00:00<00:00, 638.82it/s]\n",
      "dist_matrix: 100%|##########| 259/259 [00:26<00:00,  9.87it/s]\n",
      "synth_matrix: 100%|##########| 259/259 [00:01<00:00, 219.82it/s]\n",
      "r_index: 100%|##########| 155/155 [00:00<00:00, 656.63it/s]\n",
      "dist_matrix: 100%|##########| 242/242 [00:22<00:00, 10.54it/s]\n",
      "synth_matrix: 100%|##########| 242/242 [00:01<00:00, 162.49it/s]\n"
     ]
    }
   ],
   "source": [
    "As_smogn = smogn.smoter(data = As, y = 'As', samp_method = 'extreme')\n",
    "Cd_smogn = smogn.smoter(data = Cd, y = 'Cd', samp_method = 'extreme')\n",
    "Ni_smogn = smogn.smoter(data = Ni, y = 'Ni', samp_method = 'extreme')"
   ]
  },
  {
   "cell_type": "code",
   "execution_count": 13,
   "id": "3d5966fa",
   "metadata": {},
   "outputs": [
    {
     "name": "stdout",
     "output_type": "stream",
     "text": [
      "(2183, 16)\n",
      "(2151, 16)\n",
      "(2183, 16)\n"
     ]
    }
   ],
   "source": [
    "print(As_smogn.shape)\n",
    "print(Cd_smogn.shape)\n",
    "print(Ni_smogn.shape)"
   ]
  },
  {
   "attachments": {},
   "cell_type": "markdown",
   "id": "ed72a9b1",
   "metadata": {},
   "source": [
    "#### Eliminate outlier and train / test split"
   ]
  },
  {
   "cell_type": "code",
   "execution_count": 14,
   "id": "43604a42",
   "metadata": {},
   "outputs": [],
   "source": [
    "def eli_outlier(data, value):\n",
    "    q1 = data[value].quantile(0.25)\n",
    "    q3 = data[value].quantile(0.75)\n",
    "\n",
    "    iqr = q3 - q1\n",
    "\n",
    "    q1_condition = data[value] < q1-1.5*iqr\n",
    "    q3_condition = data[value] > q3+1.5*iqr\n",
    "\n",
    "    reset_q1_index = data[q1_condition].index\n",
    "    reset_q3_index = data[q3_condition].index\n",
    "\n",
    "    data.drop(reset_q1_index, inplace = True)\n",
    "    data.drop(reset_q3_index, inplace = True)\n",
    "\n",
    "    return data"
   ]
  },
  {
   "cell_type": "code",
   "execution_count": 15,
   "id": "9b7632f2",
   "metadata": {},
   "outputs": [],
   "source": [
    "As_ros = eli_outlier(As_smogn, \"As\")\n",
    "Cd_ros = eli_outlier(Cd_smogn, \"Cd\")\n",
    "Ni_ros = eli_outlier(Ni_smogn, \"Ni\")"
   ]
  },
  {
   "cell_type": "code",
   "execution_count": 16,
   "id": "fd2813d1",
   "metadata": {},
   "outputs": [],
   "source": [
    "As_X = As_ros.drop([\"As\"], axis=1)\n",
    "Cd_X = Cd_ros.drop([\"Cd\"], axis=1)\n",
    "Ni_X = Ni_ros.drop([\"Ni\"], axis=1)\n",
    "\n",
    "As_y = As_ros[\"As\"]\n",
    "Cd_y = Cd_ros[\"Cd\"]\n",
    "Ni_y = Ni_ros[\"Ni\"]"
   ]
  },
  {
   "cell_type": "code",
   "execution_count": 17,
   "id": "3d1db064",
   "metadata": {},
   "outputs": [],
   "source": [
    "As_y = np.log1p(As_ros[\"As\"])\n",
    "Cd_y = np.log1p(Cd_ros[\"Cd\"])\n",
    "Ni_y = np.log1p(Ni_ros[\"Ni\"])"
   ]
  },
  {
   "cell_type": "code",
   "execution_count": 18,
   "id": "e6b5aab4",
   "metadata": {},
   "outputs": [
    {
     "name": "stdout",
     "output_type": "stream",
     "text": [
      "(1651, 15)\n",
      "(1780, 15)\n",
      "(2079, 15)\n"
     ]
    }
   ],
   "source": [
    "print(As_X.shape)\n",
    "print(Cd_X.shape)\n",
    "print(Ni_X.shape)"
   ]
  },
  {
   "attachments": {},
   "cell_type": "markdown",
   "id": "c92e5bb6",
   "metadata": {},
   "source": [
    "StandardScaler"
   ]
  },
  {
   "cell_type": "code",
   "execution_count": 19,
   "id": "db498522",
   "metadata": {},
   "outputs": [],
   "source": [
    "from sklearn.preprocessing import StandardScaler\n",
    "\n",
    "scaler = StandardScaler()\n",
    "\n",
    "As_X_train, As_X_test, As_y_train, As_y_test = train_test_split(As_X, As_y, test_size=0.2, random_state=42)\n",
    "Cd_X_train, Cd_X_test, Cd_y_train, Cd_y_test = train_test_split(Cd_X, Cd_y, test_size=0.2, random_state=42)\n",
    "Ni_X_train, Ni_X_test, Ni_y_train, Ni_y_test = train_test_split(Ni_X, Ni_y, test_size=0.2, random_state=42)\n",
    "\n",
    "As_X_train = scaler.fit_transform(As_X_train)\n",
    "As_X_test = scaler.fit_transform(As_X_test)\n",
    "\n",
    "Cd_X_train = scaler.fit_transform(Cd_X_train)\n",
    "Cd_X_test = scaler.fit_transform(Cd_X_test)\n",
    "\n",
    "Ni_X_train = scaler.fit_transform(Ni_X_train)\n",
    "Ni_X_test = scaler.fit_transform(Ni_X_test)"
   ]
  },
  {
   "cell_type": "code",
   "execution_count": 20,
   "id": "416a7027",
   "metadata": {},
   "outputs": [
    {
     "data": {
      "text/plain": [
       "' from sklearn.preprocessing import StandardScaler\\n\\nscaler = StandardScaler()\\nAs_X_scaled = scaler.fit_transform(As_X)\\nCd_X_scaled = scaler.fit_transform(Cd_X)\\nNi_X_scaled = scaler.fit_transform(Ni_X)\\n\\nAs_X_train, As_X_test, As_y_train, As_y_test = train_test_split(As_X_scaled, As_y, test_size=0.2, random_state=42)\\nCd_X_train, Cd_X_test, Cd_y_train, Cd_y_test = train_test_split(Cd_X_scaled, Cd_y, test_size=0.2, random_state=42)\\nNi_X_train, Ni_X_test, Ni_y_train, Ni_y_test = train_test_split(Ni_X_scaled, Ni_y, test_size=0.2, random_state=42) '"
      ]
     },
     "execution_count": 20,
     "metadata": {},
     "output_type": "execute_result"
    }
   ],
   "source": [
    "''' from sklearn.preprocessing import StandardScaler\n",
    "\n",
    "scaler = StandardScaler()\n",
    "As_X_scaled = scaler.fit_transform(As_X)\n",
    "Cd_X_scaled = scaler.fit_transform(Cd_X)\n",
    "Ni_X_scaled = scaler.fit_transform(Ni_X)\n",
    "\n",
    "As_X_train, As_X_test, As_y_train, As_y_test = train_test_split(As_X_scaled, As_y, test_size=0.2, random_state=42)\n",
    "Cd_X_train, Cd_X_test, Cd_y_train, Cd_y_test = train_test_split(Cd_X_scaled, Cd_y, test_size=0.2, random_state=42)\n",
    "Ni_X_train, Ni_X_test, Ni_y_train, Ni_y_test = train_test_split(Ni_X_scaled, Ni_y, test_size=0.2, random_state=42) '''"
   ]
  },
  {
   "attachments": {},
   "cell_type": "markdown",
   "id": "2fe0d293",
   "metadata": {},
   "source": [
    "MinMaxScaler"
   ]
  },
  {
   "cell_type": "code",
   "execution_count": 21,
   "id": "e8596f9f",
   "metadata": {},
   "outputs": [],
   "source": [
    "# from sklearn.preprocessing import MinMaxScaler\n",
    "\n",
    "# scaler = MinMaxScaler()\n",
    "# As_X_scaled = scaler.fit_transform(As_X)\n",
    "# Cd_X_scaled = scaler.fit_transform(Cd_X)\n",
    "# Ni_X_scaled = scaler.fit_transform(Ni_X)\n",
    "\n",
    "# As_X_train, As_X_test, As_y_train, As_y_test = train_test_split(As_X_scaled, As_y, test_size=0.2, random_state=42)\n",
    "# Cd_X_train, Cd_X_test, Cd_y_train, Cd_y_test = train_test_split(Cd_X_scaled, Cd_y, test_size=0.2, random_state=42)\n",
    "# Ni_X_train, Ni_X_test, Ni_y_train, Ni_y_test = train_test_split(Ni_X_scaled, Ni_y, test_size=0.2, random_state=42)"
   ]
  },
  {
   "cell_type": "code",
   "execution_count": 22,
   "id": "c6cad4b1",
   "metadata": {},
   "outputs": [
    {
     "name": "stdout",
     "output_type": "stream",
     "text": [
      "(1320, 15)\n",
      "(1424, 15)\n",
      "(1663, 15)\n"
     ]
    }
   ],
   "source": [
    "print(As_X_train.shape)\n",
    "print(Cd_X_train.shape)\n",
    "print(Ni_X_train.shape)"
   ]
  },
  {
   "attachments": {},
   "cell_type": "markdown",
   "id": "bd11b27e",
   "metadata": {},
   "source": [
    "#### 10-Fold Crossvalidation"
   ]
  },
  {
   "cell_type": "code",
   "execution_count": 23,
   "id": "7a765916",
   "metadata": {},
   "outputs": [],
   "source": [
    "kf = KFold(n_splits = 5, random_state = 42, shuffle = True)"
   ]
  },
  {
   "attachments": {},
   "cell_type": "markdown",
   "id": "859638d0",
   "metadata": {},
   "source": [
    "#### Optuna Optimization"
   ]
  },
  {
   "cell_type": "code",
   "execution_count": 24,
   "id": "92a47d83",
   "metadata": {},
   "outputs": [],
   "source": [
    "import optuna\n",
    "\n",
    "from optuna import Trial\n",
    "from optuna.samplers import TPESampler"
   ]
  },
  {
   "cell_type": "code",
   "execution_count": 25,
   "id": "a7669fea",
   "metadata": {},
   "outputs": [],
   "source": [
    "from sklearn.model_selection import cross_val_score\n",
    "\n",
    "def objectiveGB(trial: Trial, X_train, y_train) -> float:\n",
    "    gb_paramas = {\n",
    "        \"random_state\": 42,\n",
    "        \"learning_rate\": 0.1,\n",
    "        \"n_estimators\": trial.suggest_int(\"n_estimators\", 100, 200),\n",
    "        \"max_depth\": trial.suggest_int(\"max_depth\", 1, 30),\n",
    "        \"min_samples_leaf\": trial.suggest_int(\"min_samples_leaf\", 1, 10),\n",
    "        \"min_samples_split\": trial.suggest_int(\"min_samples_split\", 2, 10),\n",
    "        \"subsample\": trial.suggest_float(\"subsample\", 0.1, 0.5)\n",
    "    }\n",
    "    \n",
    "    gb = GradientBoostingRegressor(**gb_paramas)\n",
    "    r2 = cross_val_score(gb, X_train, y_train, scoring = \"r2\", cv = kf)\n",
    "    r2 = r2.mean()\n",
    "    \n",
    "    return r2"
   ]
  },
  {
   "attachments": {},
   "cell_type": "markdown",
   "id": "b0988f46",
   "metadata": {},
   "source": [
    "####  Optimization"
   ]
  },
  {
   "cell_type": "code",
   "execution_count": 26,
   "id": "94f5e00d",
   "metadata": {
    "scrolled": false
   },
   "outputs": [
    {
     "name": "stderr",
     "output_type": "stream",
     "text": [
      "\u001b[32m[I 2023-08-24 13:25:05,148]\u001b[0m A new study created in memory with name: gb_parameter_opt\u001b[0m\n",
      "\u001b[32m[I 2023-08-24 13:25:09,543]\u001b[0m Trial 0 finished with value: 0.5606306017543611 and parameters: {'n_estimators': 131, 'max_depth': 17, 'min_samples_leaf': 3, 'min_samples_split': 3, 'subsample': 0.3448400210142287}. Best is trial 0 with value: 0.5606306017543611.\u001b[0m\n",
      "\u001b[32m[I 2023-08-24 13:25:13,430]\u001b[0m Trial 1 finished with value: 0.5588891943865276 and parameters: {'n_estimators': 177, 'max_depth': 8, 'min_samples_leaf': 4, 'min_samples_split': 8, 'subsample': 0.3625543198958435}. Best is trial 0 with value: 0.5606306017543611.\u001b[0m\n",
      "\u001b[32m[I 2023-08-24 13:25:15,224]\u001b[0m Trial 2 finished with value: 0.5105110315324055 and parameters: {'n_estimators': 189, 'max_depth': 6, 'min_samples_leaf': 4, 'min_samples_split': 4, 'subsample': 0.17322957133244482}. Best is trial 0 with value: 0.5606306017543611.\u001b[0m\n",
      "\u001b[32m[I 2023-08-24 13:25:19,129]\u001b[0m Trial 3 finished with value: 0.5738082096534789 and parameters: {'n_estimators': 116, 'max_depth': 27, 'min_samples_leaf': 7, 'min_samples_split': 9, 'subsample': 0.46460349990443905}. Best is trial 3 with value: 0.5738082096534789.\u001b[0m\n",
      "\u001b[32m[I 2023-08-24 13:25:21,056]\u001b[0m Trial 4 finished with value: 0.5380765782387388 and parameters: {'n_estimators': 111, 'max_depth': 24, 'min_samples_leaf': 1, 'min_samples_split': 9, 'subsample': 0.1847948317923236}. Best is trial 3 with value: 0.5738082096534789.\u001b[0m\n",
      "\u001b[32m[I 2023-08-24 13:25:24,090]\u001b[0m Trial 5 finished with value: 0.5594841440664771 and parameters: {'n_estimators': 157, 'max_depth': 14, 'min_samples_leaf': 5, 'min_samples_split': 3, 'subsample': 0.2778468309606952}. Best is trial 3 with value: 0.5738082096534789.\u001b[0m\n",
      "\u001b[32m[I 2023-08-24 13:25:25,919]\u001b[0m Trial 6 finished with value: 0.5776071402727588 and parameters: {'n_estimators': 105, 'max_depth': 20, 'min_samples_leaf': 10, 'min_samples_split': 3, 'subsample': 0.32783484928221374}. Best is trial 6 with value: 0.5776071402727588.\u001b[0m\n",
      "\u001b[32m[I 2023-08-24 13:25:28,797]\u001b[0m Trial 7 finished with value: 0.5312254193153391 and parameters: {'n_estimators': 195, 'max_depth': 24, 'min_samples_leaf': 4, 'min_samples_split': 5, 'subsample': 0.1846165228477561}. Best is trial 6 with value: 0.5776071402727588.\u001b[0m\n",
      "\u001b[32m[I 2023-08-24 13:25:33,069]\u001b[0m Trial 8 finished with value: 0.5461356568429515 and parameters: {'n_estimators': 141, 'max_depth': 18, 'min_samples_leaf': 4, 'min_samples_split': 7, 'subsample': 0.3563944103547656}. Best is trial 6 with value: 0.5776071402727588.\u001b[0m\n",
      "\u001b[32m[I 2023-08-24 13:25:35,480]\u001b[0m Trial 9 finished with value: 0.5121967668262277 and parameters: {'n_estimators': 177, 'max_depth': 23, 'min_samples_leaf': 1, 'min_samples_split': 7, 'subsample': 0.14551039195300886}. Best is trial 6 with value: 0.5776071402727588.\u001b[0m\n",
      "\u001b[32m[I 2023-08-24 13:25:38,465]\u001b[0m Trial 10 finished with value: 0.5805433036463306 and parameters: {'n_estimators': 102, 'max_depth': 12, 'min_samples_leaf': 10, 'min_samples_split': 2, 'subsample': 0.49922325620701713}. Best is trial 10 with value: 0.5805433036463306.\u001b[0m\n",
      "\u001b[32m[I 2023-08-24 13:25:41,462]\u001b[0m Trial 11 finished with value: 0.57936737478575 and parameters: {'n_estimators': 101, 'max_depth': 12, 'min_samples_leaf': 10, 'min_samples_split': 2, 'subsample': 0.49815522972953735}. Best is trial 10 with value: 0.5805433036463306.\u001b[0m\n",
      "\u001b[32m[I 2023-08-24 13:25:44,408]\u001b[0m Trial 12 finished with value: 0.5796695170548208 and parameters: {'n_estimators': 100, 'max_depth': 11, 'min_samples_leaf': 10, 'min_samples_split': 2, 'subsample': 0.49504252885470357}. Best is trial 10 with value: 0.5805433036463306.\u001b[0m\n",
      "\u001b[32m[I 2023-08-24 13:25:47,643]\u001b[0m Trial 13 finished with value: 0.5790879920054504 and parameters: {'n_estimators': 126, 'max_depth': 10, 'min_samples_leaf': 8, 'min_samples_split': 2, 'subsample': 0.4385963642743506}. Best is trial 10 with value: 0.5805433036463306.\u001b[0m\n",
      "\u001b[32m[I 2023-08-24 13:25:48,417]\u001b[0m Trial 14 finished with value: 0.4342625858060103 and parameters: {'n_estimators': 151, 'max_depth': 1, 'min_samples_leaf': 8, 'min_samples_split': 5, 'subsample': 0.4165008687684134}. Best is trial 10 with value: 0.5805433036463306.\u001b[0m\n",
      "\u001b[32m[I 2023-08-24 13:25:49,555]\u001b[0m Trial 15 finished with value: 0.5583167707316955 and parameters: {'n_estimators': 125, 'max_depth': 4, 'min_samples_leaf': 9, 'min_samples_split': 5, 'subsample': 0.25755823400949995}. Best is trial 10 with value: 0.5805433036463306.\u001b[0m\n",
      "\u001b[32m[I 2023-08-24 13:25:52,666]\u001b[0m Trial 16 finished with value: 0.5789037425420519 and parameters: {'n_estimators': 116, 'max_depth': 13, 'min_samples_leaf': 7, 'min_samples_split': 2, 'subsample': 0.40630130561122896}. Best is trial 10 with value: 0.5805433036463306.\u001b[0m\n",
      "\u001b[32m[I 2023-08-24 13:25:56,391]\u001b[0m Trial 17 finished with value: 0.5866086483993018 and parameters: {'n_estimators': 139, 'max_depth': 10, 'min_samples_leaf': 10, 'min_samples_split': 4, 'subsample': 0.4806726580827427}. Best is trial 17 with value: 0.5866086483993018.\u001b[0m\n",
      "\u001b[32m[I 2023-08-24 13:25:59,770]\u001b[0m Trial 18 finished with value: 0.5806407304810974 and parameters: {'n_estimators': 163, 'max_depth': 8, 'min_samples_leaf': 8, 'min_samples_split': 4, 'subsample': 0.39566203093527663}. Best is trial 17 with value: 0.5866086483993018.\u001b[0m\n",
      "\u001b[32m[I 2023-08-24 13:26:01,602]\u001b[0m Trial 19 finished with value: 0.557049690644899 and parameters: {'n_estimators': 163, 'max_depth': 3, 'min_samples_leaf': 7, 'min_samples_split': 6, 'subsample': 0.40646913336727786}. Best is trial 17 with value: 0.5866086483993018.\u001b[0m\n",
      "\u001b[32m[I 2023-08-24 13:26:04,779]\u001b[0m Trial 20 finished with value: 0.5707679673972454 and parameters: {'n_estimators': 140, 'max_depth': 7, 'min_samples_leaf': 8, 'min_samples_split': 4, 'subsample': 0.4482571945297421}. Best is trial 17 with value: 0.5866086483993018.\u001b[0m\n",
      "\u001b[32m[I 2023-08-24 13:26:09,235]\u001b[0m Trial 21 finished with value: 0.5846165820328973 and parameters: {'n_estimators': 168, 'max_depth': 9, 'min_samples_leaf': 9, 'min_samples_split': 4, 'subsample': 0.4709268612323635}. Best is trial 17 with value: 0.5866086483993018.\u001b[0m\n",
      "\u001b[32m[I 2023-08-24 13:26:12,605]\u001b[0m Trial 22 finished with value: 0.5708840232587302 and parameters: {'n_estimators': 169, 'max_depth': 8, 'min_samples_leaf': 9, 'min_samples_split': 4, 'subsample': 0.3814939577484186}. Best is trial 17 with value: 0.5866086483993018.\u001b[0m\n",
      "\u001b[32m[I 2023-08-24 13:26:16,347]\u001b[0m Trial 23 finished with value: 0.5859053506710892 and parameters: {'n_estimators': 141, 'max_depth': 9, 'min_samples_leaf': 9, 'min_samples_split': 6, 'subsample': 0.4571620970294071}. Best is trial 17 with value: 0.5866086483993018.\u001b[0m\n",
      "\u001b[32m[I 2023-08-24 13:26:20,584]\u001b[0m Trial 24 finished with value: 0.5851492624497008 and parameters: {'n_estimators': 143, 'max_depth': 15, 'min_samples_leaf': 9, 'min_samples_split': 7, 'subsample': 0.46175525184628124}. Best is trial 17 with value: 0.5866086483993018.\u001b[0m\n",
      "\u001b[32m[I 2023-08-24 13:26:25,256]\u001b[0m Trial 25 finished with value: 0.5595275724808915 and parameters: {'n_estimators': 141, 'max_depth': 15, 'min_samples_leaf': 6, 'min_samples_split': 7, 'subsample': 0.4366205039590271}. Best is trial 17 with value: 0.5866086483993018.\u001b[0m\n",
      "\u001b[32m[I 2023-08-24 13:26:27,864]\u001b[0m Trial 26 finished with value: 0.5642461771053201 and parameters: {'n_estimators': 146, 'max_depth': 19, 'min_samples_leaf': 9, 'min_samples_split': 10, 'subsample': 0.3108369132591403}. Best is trial 17 with value: 0.5866086483993018.\u001b[0m\n",
      "\u001b[32m[I 2023-08-24 13:26:33,791]\u001b[0m Trial 27 finished with value: 0.5859610154253602 and parameters: {'n_estimators': 152, 'max_depth': 30, 'min_samples_leaf': 6, 'min_samples_split': 6, 'subsample': 0.4733222184523635}. Best is trial 17 with value: 0.5866086483993018.\u001b[0m\n",
      "\u001b[32m[I 2023-08-24 13:26:35,906]\u001b[0m Trial 28 finished with value: 0.574006055241986 and parameters: {'n_estimators': 132, 'max_depth': 29, 'min_samples_leaf': 6, 'min_samples_split': 6, 'subsample': 0.2520482318029482}. Best is trial 17 with value: 0.5866086483993018.\u001b[0m\n",
      "\u001b[32m[I 2023-08-24 13:26:43,789]\u001b[0m Trial 29 finished with value: 0.5612686220728959 and parameters: {'n_estimators': 152, 'max_depth': 30, 'min_samples_leaf': 2, 'min_samples_split': 6, 'subsample': 0.4244005059662552}. Best is trial 17 with value: 0.5866086483993018.\u001b[0m\n",
      "\u001b[32m[I 2023-08-24 13:26:49,230]\u001b[0m Trial 30 finished with value: 0.578272564647159 and parameters: {'n_estimators': 133, 'max_depth': 21, 'min_samples_leaf': 5, 'min_samples_split': 5, 'subsample': 0.47288015119325477}. Best is trial 17 with value: 0.5866086483993018.\u001b[0m\n",
      "\u001b[32m[I 2023-08-24 13:26:53,707]\u001b[0m Trial 31 finished with value: 0.579731013648502 and parameters: {'n_estimators': 146, 'max_depth': 16, 'min_samples_leaf': 9, 'min_samples_split': 8, 'subsample': 0.46602964040737793}. Best is trial 17 with value: 0.5866086483993018.\u001b[0m\n",
      "\u001b[32m[I 2023-08-24 13:26:56,680]\u001b[0m Trial 32 finished with value: 0.5796924306984679 and parameters: {'n_estimators': 135, 'max_depth': 17, 'min_samples_leaf': 10, 'min_samples_split': 8, 'subsample': 0.3782852921773786}. Best is trial 17 with value: 0.5866086483993018.\u001b[0m\n",
      "\u001b[32m[I 2023-08-24 13:27:00,507]\u001b[0m Trial 33 finished with value: 0.5670878145140161 and parameters: {'n_estimators': 125, 'max_depth': 14, 'min_samples_leaf': 7, 'min_samples_split': 7, 'subsample': 0.4478980459230926}. Best is trial 17 with value: 0.5866086483993018.\u001b[0m\n",
      "\u001b[32m[I 2023-08-24 13:27:03,647]\u001b[0m Trial 34 finished with value: 0.5868046443733319 and parameters: {'n_estimators': 159, 'max_depth': 5, 'min_samples_leaf': 3, 'min_samples_split': 6, 'subsample': 0.4791262776445828}. Best is trial 34 with value: 0.5868046443733319.\u001b[0m\n",
      "\u001b[32m[I 2023-08-24 13:27:06,752]\u001b[0m Trial 35 finished with value: 0.5890629506034231 and parameters: {'n_estimators': 157, 'max_depth': 5, 'min_samples_leaf': 3, 'min_samples_split': 6, 'subsample': 0.4800428929664504}. Best is trial 35 with value: 0.5890629506034231.\u001b[0m\n",
      "\u001b[32m[I 2023-08-24 13:27:09,037]\u001b[0m Trial 36 finished with value: 0.5723808981320315 and parameters: {'n_estimators': 177, 'max_depth': 3, 'min_samples_leaf': 3, 'min_samples_split': 5, 'subsample': 0.4847917546333982}. Best is trial 35 with value: 0.5890629506034231.\u001b[0m\n",
      "\u001b[32m[I 2023-08-24 13:27:11,843]\u001b[0m Trial 37 finished with value: 0.5612374793856263 and parameters: {'n_estimators': 157, 'max_depth': 5, 'min_samples_leaf': 3, 'min_samples_split': 6, 'subsample': 0.4254454775235353}. Best is trial 35 with value: 0.5890629506034231.\u001b[0m\n",
      "\u001b[32m[I 2023-08-24 13:27:12,991]\u001b[0m Trial 38 finished with value: 0.4809490086294552 and parameters: {'n_estimators': 157, 'max_depth': 6, 'min_samples_leaf': 2, 'min_samples_split': 3, 'subsample': 0.11010221370031992}. Best is trial 35 with value: 0.5890629506034231.\u001b[0m\n",
      "\u001b[32m[I 2023-08-24 13:27:14,256]\u001b[0m Trial 39 finished with value: 0.5208792285222442 and parameters: {'n_estimators': 175, 'max_depth': 2, 'min_samples_leaf': 2, 'min_samples_split': 9, 'subsample': 0.3358895471503736}. Best is trial 35 with value: 0.5890629506034231.\u001b[0m\n",
      "\u001b[32m[I 2023-08-24 13:27:17,118]\u001b[0m Trial 40 finished with value: 0.5266016692782892 and parameters: {'n_estimators': 185, 'max_depth': 27, 'min_samples_leaf': 4, 'min_samples_split': 5, 'subsample': 0.21060350080157902}. Best is trial 35 with value: 0.5890629506034231.\u001b[0m\n",
      "\u001b[32m[I 2023-08-24 13:27:20,455]\u001b[0m Trial 41 finished with value: 0.5817634841991322 and parameters: {'n_estimators': 152, 'max_depth': 6, 'min_samples_leaf': 3, 'min_samples_split': 6, 'subsample': 0.45511138877115415}. Best is trial 35 with value: 0.5890629506034231.\u001b[0m\n",
      "\u001b[32m[I 2023-08-24 13:27:25,736]\u001b[0m Trial 42 finished with value: 0.5824715811247521 and parameters: {'n_estimators': 162, 'max_depth': 10, 'min_samples_leaf': 5, 'min_samples_split': 7, 'subsample': 0.48158893796984187}. Best is trial 35 with value: 0.5890629506034231.\u001b[0m\n",
      "\u001b[32m[I 2023-08-24 13:27:28,712]\u001b[0m Trial 43 finished with value: 0.5828570006826096 and parameters: {'n_estimators': 147, 'max_depth': 5, 'min_samples_leaf': 1, 'min_samples_split': 6, 'subsample': 0.4785436944699574}. Best is trial 35 with value: 0.5890629506034231.\u001b[0m\n",
      "\u001b[32m[I 2023-08-24 13:27:32,270]\u001b[0m Trial 44 finished with value: 0.5692480660208104 and parameters: {'n_estimators': 138, 'max_depth': 8, 'min_samples_leaf': 4, 'min_samples_split': 8, 'subsample': 0.4381925104163591}. Best is trial 35 with value: 0.5890629506034231.\u001b[0m\n",
      "\u001b[32m[I 2023-08-24 13:27:37,984]\u001b[0m Trial 45 finished with value: 0.5693341266574665 and parameters: {'n_estimators': 155, 'max_depth': 10, 'min_samples_leaf': 2, 'min_samples_split': 6, 'subsample': 0.49922605035485}. Best is trial 35 with value: 0.5890629506034231.\u001b[0m\n",
      "\u001b[32m[I 2023-08-24 13:27:40,103]\u001b[0m Trial 46 finished with value: 0.5702990726059466 and parameters: {'n_estimators': 169, 'max_depth': 4, 'min_samples_leaf': 6, 'min_samples_split': 5, 'subsample': 0.3614312078078681}. Best is trial 35 with value: 0.5890629506034231.\u001b[0m\n",
      "\u001b[32m[I 2023-08-24 13:27:40,814]\u001b[0m Trial 47 finished with value: 0.42033755579110804 and parameters: {'n_estimators': 128, 'max_depth': 1, 'min_samples_leaf': 5, 'min_samples_split': 6, 'subsample': 0.45718075576172434}. Best is trial 35 with value: 0.5890629506034231.\u001b[0m\n",
      "\u001b[32m[I 2023-08-24 13:27:43,619]\u001b[0m Trial 48 finished with value: 0.5847742018068196 and parameters: {'n_estimators': 121, 'max_depth': 7, 'min_samples_leaf': 10, 'min_samples_split': 7, 'subsample': 0.4838138657987073}. Best is trial 35 with value: 0.5890629506034231.\u001b[0m\n",
      "\u001b[32m[I 2023-08-24 13:27:48,380]\u001b[0m Trial 49 finished with value: 0.5606983382458257 and parameters: {'n_estimators': 161, 'max_depth': 12, 'min_samples_leaf': 4, 'min_samples_split': 3, 'subsample': 0.3926503753270089}. Best is trial 35 with value: 0.5890629506034231.\u001b[0m\n",
      "\u001b[32m[I 2023-08-24 13:27:55,304]\u001b[0m Trial 50 finished with value: 0.5517033220315505 and parameters: {'n_estimators': 148, 'max_depth': 26, 'min_samples_leaf': 3, 'min_samples_split': 5, 'subsample': 0.4296085028466002}. Best is trial 35 with value: 0.5890629506034231.\u001b[0m\n",
      "\u001b[32m[I 2023-08-24 13:27:59,415]\u001b[0m Trial 51 finished with value: 0.5865581898916028 and parameters: {'n_estimators': 137, 'max_depth': 21, 'min_samples_leaf': 9, 'min_samples_split': 7, 'subsample': 0.46128948440764767}. Best is trial 35 with value: 0.5890629506034231.\u001b[0m\n",
      "\u001b[32m[I 2023-08-24 13:28:03,822]\u001b[0m Trial 52 finished with value: 0.5766449687061111 and parameters: {'n_estimators': 137, 'max_depth': 22, 'min_samples_leaf': 8, 'min_samples_split': 8, 'subsample': 0.46334341839957727}. Best is trial 35 with value: 0.5890629506034231.\u001b[0m\n",
      "\u001b[32m[I 2023-08-24 13:28:08,251]\u001b[0m Trial 53 finished with value: 0.5974091152060804 and parameters: {'n_estimators': 143, 'max_depth': 25, 'min_samples_leaf': 10, 'min_samples_split': 7, 'subsample': 0.4874640828701753}. Best is trial 53 with value: 0.5974091152060804.\u001b[0m\n",
      "\u001b[32m[I 2023-08-24 13:28:13,000]\u001b[0m Trial 54 finished with value: 0.5865899934011308 and parameters: {'n_estimators': 150, 'max_depth': 25, 'min_samples_leaf': 10, 'min_samples_split': 7, 'subsample': 0.48968696977175885}. Best is trial 53 with value: 0.5974091152060804.\u001b[0m\n",
      "\u001b[32m[I 2023-08-24 13:28:17,611]\u001b[0m Trial 55 finished with value: 0.5798470845275093 and parameters: {'n_estimators': 144, 'max_depth': 25, 'min_samples_leaf': 10, 'min_samples_split': 7, 'subsample': 0.49952235010341917}. Best is trial 53 with value: 0.5974091152060804.\u001b[0m\n",
      "\u001b[32m[I 2023-08-24 13:28:21,532]\u001b[0m Trial 56 finished with value: 0.5874321707413428 and parameters: {'n_estimators': 129, 'max_depth': 23, 'min_samples_leaf': 10, 'min_samples_split': 8, 'subsample': 0.48906646640260004}. Best is trial 53 with value: 0.5974091152060804.\u001b[0m\n",
      "\u001b[32m[I 2023-08-24 13:28:25,254]\u001b[0m Trial 57 finished with value: 0.5898223878599327 and parameters: {'n_estimators': 120, 'max_depth': 24, 'min_samples_leaf': 10, 'min_samples_split': 8, 'subsample': 0.48609058776146996}. Best is trial 53 with value: 0.5974091152060804.\u001b[0m\n",
      "\u001b[32m[I 2023-08-24 13:28:28,027]\u001b[0m Trial 58 finished with value: 0.5818028207687459 and parameters: {'n_estimators': 113, 'max_depth': 23, 'min_samples_leaf': 10, 'min_samples_split': 8, 'subsample': 0.413687058505383}. Best is trial 53 with value: 0.5974091152060804.\u001b[0m\n",
      "\u001b[32m[I 2023-08-24 13:28:30,993]\u001b[0m Trial 59 finished with value: 0.5846609427027738 and parameters: {'n_estimators': 108, 'max_depth': 28, 'min_samples_leaf': 10, 'min_samples_split': 10, 'subsample': 0.44861824704512027}. Best is trial 53 with value: 0.5974091152060804.\u001b[0m\n",
      "\u001b[32m[I 2023-08-24 13:28:34,654]\u001b[0m Trial 60 finished with value: 0.589499061074096 and parameters: {'n_estimators': 121, 'max_depth': 24, 'min_samples_leaf': 10, 'min_samples_split': 9, 'subsample': 0.48290282145287744}. Best is trial 53 with value: 0.5974091152060804.\u001b[0m\n",
      "\u001b[32m[I 2023-08-24 13:28:38,171]\u001b[0m Trial 61 finished with value: 0.591604726776183 and parameters: {'n_estimators': 116, 'max_depth': 24, 'min_samples_leaf': 10, 'min_samples_split': 9, 'subsample': 0.4859998149771781}. Best is trial 53 with value: 0.5974091152060804.\u001b[0m\n",
      "\u001b[32m[I 2023-08-24 13:28:41,838]\u001b[0m Trial 62 finished with value: 0.5920584254926675 and parameters: {'n_estimators': 121, 'max_depth': 24, 'min_samples_leaf': 10, 'min_samples_split': 9, 'subsample': 0.48783712294172477}. Best is trial 53 with value: 0.5974091152060804.\u001b[0m\n",
      "\u001b[32m[I 2023-08-24 13:28:45,738]\u001b[0m Trial 63 finished with value: 0.5816443418782675 and parameters: {'n_estimators': 118, 'max_depth': 23, 'min_samples_leaf': 9, 'min_samples_split': 9, 'subsample': 0.4994155790310602}. Best is trial 53 with value: 0.5974091152060804.\u001b[0m\n",
      "\u001b[32m[I 2023-08-24 13:28:48,861]\u001b[0m Trial 64 finished with value: 0.5903419830491644 and parameters: {'n_estimators': 121, 'max_depth': 24, 'min_samples_leaf': 10, 'min_samples_split': 9, 'subsample': 0.4398573664401071}. Best is trial 53 with value: 0.5974091152060804.\u001b[0m\n",
      "\u001b[32m[I 2023-08-24 13:28:52,020]\u001b[0m Trial 65 finished with value: 0.5822509546620566 and parameters: {'n_estimators': 121, 'max_depth': 25, 'min_samples_leaf': 10, 'min_samples_split': 9, 'subsample': 0.4428078907436919}. Best is trial 53 with value: 0.5974091152060804.\u001b[0m\n",
      "\u001b[32m[I 2023-08-24 13:28:55,351]\u001b[0m Trial 66 finished with value: 0.5850640601440453 and parameters: {'n_estimators': 111, 'max_depth': 27, 'min_samples_leaf': 9, 'min_samples_split': 10, 'subsample': 0.4699919836753461}. Best is trial 53 with value: 0.5974091152060804.\u001b[0m\n",
      "\u001b[32m[I 2023-08-24 13:28:58,337]\u001b[0m Trial 67 finished with value: 0.576214917973046 and parameters: {'n_estimators': 105, 'max_depth': 20, 'min_samples_leaf': 8, 'min_samples_split': 9, 'subsample': 0.4346961312911503}. Best is trial 53 with value: 0.5974091152060804.\u001b[0m\n",
      "\u001b[32m[I 2023-08-24 13:29:01,743]\u001b[0m Trial 68 finished with value: 0.5829302699850027 and parameters: {'n_estimators': 119, 'max_depth': 24, 'min_samples_leaf': 10, 'min_samples_split': 9, 'subsample': 0.4699194211409398}. Best is trial 53 with value: 0.5974091152060804.\u001b[0m\n",
      "\u001b[32m[I 2023-08-24 13:29:05,365]\u001b[0m Trial 69 finished with value: 0.5818933095595824 and parameters: {'n_estimators': 114, 'max_depth': 26, 'min_samples_leaf': 9, 'min_samples_split': 10, 'subsample': 0.48729314116077016}. Best is trial 53 with value: 0.5974091152060804.\u001b[0m\n",
      "\u001b[32m[I 2023-08-24 13:29:08,399]\u001b[0m Trial 70 finished with value: 0.5874165701599259 and parameters: {'n_estimators': 123, 'max_depth': 22, 'min_samples_leaf': 10, 'min_samples_split': 9, 'subsample': 0.4198274444772468}. Best is trial 53 with value: 0.5974091152060804.\u001b[0m\n",
      "\u001b[32m[I 2023-08-24 13:29:12,316]\u001b[0m Trial 71 finished with value: 0.5813614522869945 and parameters: {'n_estimators': 127, 'max_depth': 24, 'min_samples_leaf': 10, 'min_samples_split': 8, 'subsample': 0.49120608436129815}. Best is trial 53 with value: 0.5974091152060804.\u001b[0m\n",
      "\u001b[32m[I 2023-08-24 13:29:15,446]\u001b[0m Trial 72 finished with value: 0.5854932119223624 and parameters: {'n_estimators': 116, 'max_depth': 22, 'min_samples_leaf': 10, 'min_samples_split': 8, 'subsample': 0.451246550219406}. Best is trial 53 with value: 0.5974091152060804.\u001b[0m\n",
      "\u001b[32m[I 2023-08-24 13:29:19,473]\u001b[0m Trial 73 finished with value: 0.578455742427604 and parameters: {'n_estimators': 129, 'max_depth': 23, 'min_samples_leaf': 9, 'min_samples_split': 9, 'subsample': 0.47774346702449233}. Best is trial 53 with value: 0.5974091152060804.\u001b[0m\n",
      "\u001b[32m[I 2023-08-24 13:29:23,205]\u001b[0m Trial 74 finished with value: 0.5914269923043394 and parameters: {'n_estimators': 123, 'max_depth': 20, 'min_samples_leaf': 10, 'min_samples_split': 10, 'subsample': 0.48743637102437076}. Best is trial 53 with value: 0.5974091152060804.\u001b[0m\n",
      "\u001b[32m[I 2023-08-24 13:29:26,411]\u001b[0m Trial 75 finished with value: 0.5726294700155934 and parameters: {'n_estimators': 108, 'max_depth': 18, 'min_samples_leaf': 9, 'min_samples_split': 10, 'subsample': 0.4671989837655337}. Best is trial 53 with value: 0.5974091152060804.\u001b[0m\n",
      "\u001b[32m[I 2023-08-24 13:29:29,756]\u001b[0m Trial 76 finished with value: 0.5923554623445713 and parameters: {'n_estimators': 123, 'max_depth': 20, 'min_samples_leaf': 10, 'min_samples_split': 9, 'subsample': 0.4559382947028975}. Best is trial 53 with value: 0.5974091152060804.\u001b[0m\n",
      "\u001b[32m[I 2023-08-24 13:29:33,073]\u001b[0m Trial 77 finished with value: 0.5835403375923434 and parameters: {'n_estimators': 124, 'max_depth': 20, 'min_samples_leaf': 10, 'min_samples_split': 9, 'subsample': 0.4445961557216763}. Best is trial 53 with value: 0.5974091152060804.\u001b[0m\n",
      "\u001b[32m[I 2023-08-24 13:29:36,026]\u001b[0m Trial 78 finished with value: 0.5733627999126818 and parameters: {'n_estimators': 119, 'max_depth': 26, 'min_samples_leaf': 9, 'min_samples_split': 10, 'subsample': 0.40767816391939016}. Best is trial 53 with value: 0.5974091152060804.\u001b[0m\n",
      "\u001b[32m[I 2023-08-24 13:29:37,937]\u001b[0m Trial 79 finished with value: 0.5673894781512864 and parameters: {'n_estimators': 132, 'max_depth': 28, 'min_samples_leaf': 10, 'min_samples_split': 9, 'subsample': 0.28189180442179146}. Best is trial 53 with value: 0.5974091152060804.\u001b[0m\n",
      "\u001b[32m[I 2023-08-24 13:29:41,315]\u001b[0m Trial 80 finished with value: 0.580920611176569 and parameters: {'n_estimators': 122, 'max_depth': 21, 'min_samples_leaf': 10, 'min_samples_split': 10, 'subsample': 0.45894035902224994}. Best is trial 53 with value: 0.5974091152060804.\u001b[0m\n",
      "\u001b[32m[I 2023-08-24 13:29:44,707]\u001b[0m Trial 81 finished with value: 0.5892368266497838 and parameters: {'n_estimators': 116, 'max_depth': 18, 'min_samples_leaf': 10, 'min_samples_split': 9, 'subsample': 0.47564876446593013}. Best is trial 53 with value: 0.5974091152060804.\u001b[0m\n",
      "\u001b[32m[I 2023-08-24 13:29:48,051]\u001b[0m Trial 82 finished with value: 0.5799676394175526 and parameters: {'n_estimators': 112, 'max_depth': 19, 'min_samples_leaf': 10, 'min_samples_split': 9, 'subsample': 0.49139722746678344}. Best is trial 53 with value: 0.5974091152060804.\u001b[0m\n",
      "\u001b[32m[I 2023-08-24 13:29:51,568]\u001b[0m Trial 83 finished with value: 0.5766481065029316 and parameters: {'n_estimators': 116, 'max_depth': 17, 'min_samples_leaf': 9, 'min_samples_split': 9, 'subsample': 0.47053627035472917}. Best is trial 53 with value: 0.5974091152060804.\u001b[0m\n",
      "\u001b[32m[I 2023-08-24 13:29:52,701]\u001b[0m Trial 84 finished with value: 0.5679338918371372 and parameters: {'n_estimators': 109, 'max_depth': 24, 'min_samples_leaf': 10, 'min_samples_split': 10, 'subsample': 0.21608368739340225}. Best is trial 53 with value: 0.5974091152060804.\u001b[0m\n",
      "\u001b[32m[I 2023-08-24 13:29:55,580]\u001b[0m Trial 85 finished with value: 0.5851140134461144 and parameters: {'n_estimators': 105, 'max_depth': 20, 'min_samples_leaf': 10, 'min_samples_split': 8, 'subsample': 0.453973053506813}. Best is trial 53 with value: 0.5974091152060804.\u001b[0m\n",
      "\u001b[32m[I 2023-08-24 13:29:59,317]\u001b[0m Trial 86 finished with value: 0.5906181724456894 and parameters: {'n_estimators': 125, 'max_depth': 18, 'min_samples_leaf': 10, 'min_samples_split': 9, 'subsample': 0.4785880987299538}. Best is trial 53 with value: 0.5974091152060804.\u001b[0m\n",
      "\u001b[32m[I 2023-08-24 13:30:03,311]\u001b[0m Trial 87 finished with value: 0.5894066683508828 and parameters: {'n_estimators': 126, 'max_depth': 19, 'min_samples_leaf': 9, 'min_samples_split': 9, 'subsample': 0.4836087222209761}. Best is trial 53 with value: 0.5974091152060804.\u001b[0m\n",
      "\u001b[32m[I 2023-08-24 13:30:06,923]\u001b[0m Trial 88 finished with value: 0.5703998812498697 and parameters: {'n_estimators': 134, 'max_depth': 22, 'min_samples_leaf': 9, 'min_samples_split': 8, 'subsample': 0.43021598896067514}. Best is trial 53 with value: 0.5974091152060804.\u001b[0m\n",
      "\u001b[32m[I 2023-08-24 13:30:10,569]\u001b[0m Trial 89 finished with value: 0.5926152538658045 and parameters: {'n_estimators': 130, 'max_depth': 25, 'min_samples_leaf': 10, 'min_samples_split': 10, 'subsample': 0.4644892710172728}. Best is trial 53 with value: 0.5974091152060804.\u001b[0m\n",
      "\u001b[32m[I 2023-08-24 13:30:14,169]\u001b[0m Trial 90 finished with value: 0.5781894911292624 and parameters: {'n_estimators': 130, 'max_depth': 25, 'min_samples_leaf': 9, 'min_samples_split': 10, 'subsample': 0.43919650103192764}. Best is trial 53 with value: 0.5974091152060804.\u001b[0m\n",
      "\u001b[32m[I 2023-08-24 13:30:17,489]\u001b[0m Trial 91 finished with value: 0.5784339577711293 and parameters: {'n_estimators': 119, 'max_depth': 26, 'min_samples_leaf': 10, 'min_samples_split': 10, 'subsample': 0.46071424708161673}. Best is trial 53 with value: 0.5974091152060804.\u001b[0m\n",
      "\u001b[32m[I 2023-08-24 13:30:21,327]\u001b[0m Trial 92 finished with value: 0.5894389704352025 and parameters: {'n_estimators': 124, 'max_depth': 27, 'min_samples_leaf': 10, 'min_samples_split': 9, 'subsample': 0.4941348531956393}. Best is trial 53 with value: 0.5974091152060804.\u001b[0m\n",
      "\u001b[32m[I 2023-08-24 13:30:25,056]\u001b[0m Trial 93 finished with value: 0.578719885691282 and parameters: {'n_estimators': 122, 'max_depth': 21, 'min_samples_leaf': 10, 'min_samples_split': 10, 'subsample': 0.4758854922994571}. Best is trial 53 with value: 0.5974091152060804.\u001b[0m\n",
      "\u001b[32m[I 2023-08-24 13:30:28,741]\u001b[0m Trial 94 finished with value: 0.59043540214472 and parameters: {'n_estimators': 127, 'max_depth': 16, 'min_samples_leaf': 10, 'min_samples_split': 9, 'subsample': 0.4649447193130169}. Best is trial 53 with value: 0.5974091152060804.\u001b[0m\n",
      "\u001b[32m[I 2023-08-24 13:30:32,130]\u001b[0m Trial 95 finished with value: 0.5769854225010567 and parameters: {'n_estimators': 127, 'max_depth': 16, 'min_samples_leaf': 10, 'min_samples_split': 9, 'subsample': 0.44977122075663}. Best is trial 53 with value: 0.5974091152060804.\u001b[0m\n",
      "\u001b[32m[I 2023-08-24 13:30:35,895]\u001b[0m Trial 96 finished with value: 0.5829560596340986 and parameters: {'n_estimators': 135, 'max_depth': 14, 'min_samples_leaf': 10, 'min_samples_split': 8, 'subsample': 0.4636634766061577}. Best is trial 53 with value: 0.5974091152060804.\u001b[0m\n",
      "\u001b[32m[I 2023-08-24 13:30:40,162]\u001b[0m Trial 97 finished with value: 0.5877950611955245 and parameters: {'n_estimators': 130, 'max_depth': 17, 'min_samples_leaf': 9, 'min_samples_split': 10, 'subsample': 0.4991296396291115}. Best is trial 53 with value: 0.5974091152060804.\u001b[0m\n",
      "\u001b[32m[I 2023-08-24 13:30:43,741]\u001b[0m Trial 98 finished with value: 0.5788416439547379 and parameters: {'n_estimators': 125, 'max_depth': 15, 'min_samples_leaf': 10, 'min_samples_split': 9, 'subsample': 0.46952709032761336}. Best is trial 53 with value: 0.5974091152060804.\u001b[0m\n",
      "\u001b[32m[I 2023-08-24 13:30:46,411]\u001b[0m Trial 99 finished with value: 0.5683493234946868 and parameters: {'n_estimators': 132, 'max_depth': 16, 'min_samples_leaf': 9, 'min_samples_split': 8, 'subsample': 0.3491788685333418}. Best is trial 53 with value: 0.5974091152060804.\u001b[0m\n"
     ]
    },
    {
     "name": "stdout",
     "output_type": "stream",
     "text": [
      "Best r2:  0.5974091152060804\n",
      "Best trial: {'n_estimators': 143, 'max_depth': 25, 'min_samples_leaf': 10, 'min_samples_split': 7, 'subsample': 0.4874640828701753}\n"
     ]
    }
   ],
   "source": [
    "sampler = TPESampler()\n",
    "study = optuna.create_study(\n",
    "    study_name=\"gb_parameter_opt\",\n",
    "    direction=\"maximize\",\n",
    "    sampler=sampler,\n",
    ")\n",
    "\n",
    "study.optimize(lambda trial : objectiveGB(trial, As_X_train, As_y_train), n_trials=100)\n",
    "print(\"Best r2: \", study.best_value)\n",
    "print(\"Best trial:\", study.best_trial.params)"
   ]
  },
  {
   "cell_type": "code",
   "execution_count": 27,
   "id": "8ec7571f",
   "metadata": {},
   "outputs": [
    {
     "data": {
      "application/vnd.plotly.v1+json": {
       "config": {
        "plotlyServerURL": "https://plot.ly"
       },
       "data": [
        {
         "mode": "markers",
         "name": "Objective Value",
         "type": "scatter",
         "x": [
          0,
          1,
          2,
          3,
          4,
          5,
          6,
          7,
          8,
          9,
          10,
          11,
          12,
          13,
          14,
          15,
          16,
          17,
          18,
          19,
          20,
          21,
          22,
          23,
          24,
          25,
          26,
          27,
          28,
          29,
          30,
          31,
          32,
          33,
          34,
          35,
          36,
          37,
          38,
          39,
          40,
          41,
          42,
          43,
          44,
          45,
          46,
          47,
          48,
          49,
          50,
          51,
          52,
          53,
          54,
          55,
          56,
          57,
          58,
          59,
          60,
          61,
          62,
          63,
          64,
          65,
          66,
          67,
          68,
          69,
          70,
          71,
          72,
          73,
          74,
          75,
          76,
          77,
          78,
          79,
          80,
          81,
          82,
          83,
          84,
          85,
          86,
          87,
          88,
          89,
          90,
          91,
          92,
          93,
          94,
          95,
          96,
          97,
          98,
          99
         ],
         "y": [
          0.5606306017543611,
          0.5588891943865276,
          0.5105110315324055,
          0.5738082096534789,
          0.5380765782387388,
          0.5594841440664771,
          0.5776071402727588,
          0.5312254193153391,
          0.5461356568429515,
          0.5121967668262277,
          0.5805433036463306,
          0.57936737478575,
          0.5796695170548208,
          0.5790879920054504,
          0.4342625858060103,
          0.5583167707316955,
          0.5789037425420519,
          0.5866086483993018,
          0.5806407304810974,
          0.557049690644899,
          0.5707679673972454,
          0.5846165820328973,
          0.5708840232587302,
          0.5859053506710892,
          0.5851492624497008,
          0.5595275724808915,
          0.5642461771053201,
          0.5859610154253602,
          0.574006055241986,
          0.5612686220728959,
          0.578272564647159,
          0.579731013648502,
          0.5796924306984679,
          0.5670878145140161,
          0.5868046443733319,
          0.5890629506034231,
          0.5723808981320315,
          0.5612374793856263,
          0.4809490086294552,
          0.5208792285222442,
          0.5266016692782892,
          0.5817634841991322,
          0.5824715811247521,
          0.5828570006826096,
          0.5692480660208104,
          0.5693341266574665,
          0.5702990726059466,
          0.42033755579110804,
          0.5847742018068196,
          0.5606983382458257,
          0.5517033220315505,
          0.5865581898916028,
          0.5766449687061111,
          0.5974091152060804,
          0.5865899934011308,
          0.5798470845275093,
          0.5874321707413428,
          0.5898223878599327,
          0.5818028207687459,
          0.5846609427027738,
          0.589499061074096,
          0.591604726776183,
          0.5920584254926675,
          0.5816443418782675,
          0.5903419830491644,
          0.5822509546620566,
          0.5850640601440453,
          0.576214917973046,
          0.5829302699850027,
          0.5818933095595824,
          0.5874165701599259,
          0.5813614522869945,
          0.5854932119223624,
          0.578455742427604,
          0.5914269923043394,
          0.5726294700155934,
          0.5923554623445713,
          0.5835403375923434,
          0.5733627999126818,
          0.5673894781512864,
          0.580920611176569,
          0.5892368266497838,
          0.5799676394175526,
          0.5766481065029316,
          0.5679338918371372,
          0.5851140134461144,
          0.5906181724456894,
          0.5894066683508828,
          0.5703998812498697,
          0.5926152538658045,
          0.5781894911292624,
          0.5784339577711293,
          0.5894389704352025,
          0.578719885691282,
          0.59043540214472,
          0.5769854225010567,
          0.5829560596340986,
          0.5877950611955245,
          0.5788416439547379,
          0.5683493234946868
         ]
        },
        {
         "name": "Best Value",
         "type": "scatter",
         "x": [
          0,
          1,
          2,
          3,
          4,
          5,
          6,
          7,
          8,
          9,
          10,
          11,
          12,
          13,
          14,
          15,
          16,
          17,
          18,
          19,
          20,
          21,
          22,
          23,
          24,
          25,
          26,
          27,
          28,
          29,
          30,
          31,
          32,
          33,
          34,
          35,
          36,
          37,
          38,
          39,
          40,
          41,
          42,
          43,
          44,
          45,
          46,
          47,
          48,
          49,
          50,
          51,
          52,
          53,
          54,
          55,
          56,
          57,
          58,
          59,
          60,
          61,
          62,
          63,
          64,
          65,
          66,
          67,
          68,
          69,
          70,
          71,
          72,
          73,
          74,
          75,
          76,
          77,
          78,
          79,
          80,
          81,
          82,
          83,
          84,
          85,
          86,
          87,
          88,
          89,
          90,
          91,
          92,
          93,
          94,
          95,
          96,
          97,
          98,
          99
         ],
         "y": [
          0.5606306017543611,
          0.5606306017543611,
          0.5606306017543611,
          0.5738082096534789,
          0.5738082096534789,
          0.5738082096534789,
          0.5776071402727588,
          0.5776071402727588,
          0.5776071402727588,
          0.5776071402727588,
          0.5805433036463306,
          0.5805433036463306,
          0.5805433036463306,
          0.5805433036463306,
          0.5805433036463306,
          0.5805433036463306,
          0.5805433036463306,
          0.5866086483993018,
          0.5866086483993018,
          0.5866086483993018,
          0.5866086483993018,
          0.5866086483993018,
          0.5866086483993018,
          0.5866086483993018,
          0.5866086483993018,
          0.5866086483993018,
          0.5866086483993018,
          0.5866086483993018,
          0.5866086483993018,
          0.5866086483993018,
          0.5866086483993018,
          0.5866086483993018,
          0.5866086483993018,
          0.5866086483993018,
          0.5868046443733319,
          0.5890629506034231,
          0.5890629506034231,
          0.5890629506034231,
          0.5890629506034231,
          0.5890629506034231,
          0.5890629506034231,
          0.5890629506034231,
          0.5890629506034231,
          0.5890629506034231,
          0.5890629506034231,
          0.5890629506034231,
          0.5890629506034231,
          0.5890629506034231,
          0.5890629506034231,
          0.5890629506034231,
          0.5890629506034231,
          0.5890629506034231,
          0.5890629506034231,
          0.5974091152060804,
          0.5974091152060804,
          0.5974091152060804,
          0.5974091152060804,
          0.5974091152060804,
          0.5974091152060804,
          0.5974091152060804,
          0.5974091152060804,
          0.5974091152060804,
          0.5974091152060804,
          0.5974091152060804,
          0.5974091152060804,
          0.5974091152060804,
          0.5974091152060804,
          0.5974091152060804,
          0.5974091152060804,
          0.5974091152060804,
          0.5974091152060804,
          0.5974091152060804,
          0.5974091152060804,
          0.5974091152060804,
          0.5974091152060804,
          0.5974091152060804,
          0.5974091152060804,
          0.5974091152060804,
          0.5974091152060804,
          0.5974091152060804,
          0.5974091152060804,
          0.5974091152060804,
          0.5974091152060804,
          0.5974091152060804,
          0.5974091152060804,
          0.5974091152060804,
          0.5974091152060804,
          0.5974091152060804,
          0.5974091152060804,
          0.5974091152060804,
          0.5974091152060804,
          0.5974091152060804,
          0.5974091152060804,
          0.5974091152060804,
          0.5974091152060804,
          0.5974091152060804,
          0.5974091152060804,
          0.5974091152060804,
          0.5974091152060804,
          0.5974091152060804
         ]
        }
       ],
       "layout": {
        "template": {
         "data": {
          "bar": [
           {
            "error_x": {
             "color": "#2a3f5f"
            },
            "error_y": {
             "color": "#2a3f5f"
            },
            "marker": {
             "line": {
              "color": "#E5ECF6",
              "width": 0.5
             },
             "pattern": {
              "fillmode": "overlay",
              "size": 10,
              "solidity": 0.2
             }
            },
            "type": "bar"
           }
          ],
          "barpolar": [
           {
            "marker": {
             "line": {
              "color": "#E5ECF6",
              "width": 0.5
             },
             "pattern": {
              "fillmode": "overlay",
              "size": 10,
              "solidity": 0.2
             }
            },
            "type": "barpolar"
           }
          ],
          "carpet": [
           {
            "aaxis": {
             "endlinecolor": "#2a3f5f",
             "gridcolor": "white",
             "linecolor": "white",
             "minorgridcolor": "white",
             "startlinecolor": "#2a3f5f"
            },
            "baxis": {
             "endlinecolor": "#2a3f5f",
             "gridcolor": "white",
             "linecolor": "white",
             "minorgridcolor": "white",
             "startlinecolor": "#2a3f5f"
            },
            "type": "carpet"
           }
          ],
          "choropleth": [
           {
            "colorbar": {
             "outlinewidth": 0,
             "ticks": ""
            },
            "type": "choropleth"
           }
          ],
          "contour": [
           {
            "colorbar": {
             "outlinewidth": 0,
             "ticks": ""
            },
            "colorscale": [
             [
              0,
              "#0d0887"
             ],
             [
              0.1111111111111111,
              "#46039f"
             ],
             [
              0.2222222222222222,
              "#7201a8"
             ],
             [
              0.3333333333333333,
              "#9c179e"
             ],
             [
              0.4444444444444444,
              "#bd3786"
             ],
             [
              0.5555555555555556,
              "#d8576b"
             ],
             [
              0.6666666666666666,
              "#ed7953"
             ],
             [
              0.7777777777777778,
              "#fb9f3a"
             ],
             [
              0.8888888888888888,
              "#fdca26"
             ],
             [
              1,
              "#f0f921"
             ]
            ],
            "type": "contour"
           }
          ],
          "contourcarpet": [
           {
            "colorbar": {
             "outlinewidth": 0,
             "ticks": ""
            },
            "type": "contourcarpet"
           }
          ],
          "heatmap": [
           {
            "colorbar": {
             "outlinewidth": 0,
             "ticks": ""
            },
            "colorscale": [
             [
              0,
              "#0d0887"
             ],
             [
              0.1111111111111111,
              "#46039f"
             ],
             [
              0.2222222222222222,
              "#7201a8"
             ],
             [
              0.3333333333333333,
              "#9c179e"
             ],
             [
              0.4444444444444444,
              "#bd3786"
             ],
             [
              0.5555555555555556,
              "#d8576b"
             ],
             [
              0.6666666666666666,
              "#ed7953"
             ],
             [
              0.7777777777777778,
              "#fb9f3a"
             ],
             [
              0.8888888888888888,
              "#fdca26"
             ],
             [
              1,
              "#f0f921"
             ]
            ],
            "type": "heatmap"
           }
          ],
          "heatmapgl": [
           {
            "colorbar": {
             "outlinewidth": 0,
             "ticks": ""
            },
            "colorscale": [
             [
              0,
              "#0d0887"
             ],
             [
              0.1111111111111111,
              "#46039f"
             ],
             [
              0.2222222222222222,
              "#7201a8"
             ],
             [
              0.3333333333333333,
              "#9c179e"
             ],
             [
              0.4444444444444444,
              "#bd3786"
             ],
             [
              0.5555555555555556,
              "#d8576b"
             ],
             [
              0.6666666666666666,
              "#ed7953"
             ],
             [
              0.7777777777777778,
              "#fb9f3a"
             ],
             [
              0.8888888888888888,
              "#fdca26"
             ],
             [
              1,
              "#f0f921"
             ]
            ],
            "type": "heatmapgl"
           }
          ],
          "histogram": [
           {
            "marker": {
             "pattern": {
              "fillmode": "overlay",
              "size": 10,
              "solidity": 0.2
             }
            },
            "type": "histogram"
           }
          ],
          "histogram2d": [
           {
            "colorbar": {
             "outlinewidth": 0,
             "ticks": ""
            },
            "colorscale": [
             [
              0,
              "#0d0887"
             ],
             [
              0.1111111111111111,
              "#46039f"
             ],
             [
              0.2222222222222222,
              "#7201a8"
             ],
             [
              0.3333333333333333,
              "#9c179e"
             ],
             [
              0.4444444444444444,
              "#bd3786"
             ],
             [
              0.5555555555555556,
              "#d8576b"
             ],
             [
              0.6666666666666666,
              "#ed7953"
             ],
             [
              0.7777777777777778,
              "#fb9f3a"
             ],
             [
              0.8888888888888888,
              "#fdca26"
             ],
             [
              1,
              "#f0f921"
             ]
            ],
            "type": "histogram2d"
           }
          ],
          "histogram2dcontour": [
           {
            "colorbar": {
             "outlinewidth": 0,
             "ticks": ""
            },
            "colorscale": [
             [
              0,
              "#0d0887"
             ],
             [
              0.1111111111111111,
              "#46039f"
             ],
             [
              0.2222222222222222,
              "#7201a8"
             ],
             [
              0.3333333333333333,
              "#9c179e"
             ],
             [
              0.4444444444444444,
              "#bd3786"
             ],
             [
              0.5555555555555556,
              "#d8576b"
             ],
             [
              0.6666666666666666,
              "#ed7953"
             ],
             [
              0.7777777777777778,
              "#fb9f3a"
             ],
             [
              0.8888888888888888,
              "#fdca26"
             ],
             [
              1,
              "#f0f921"
             ]
            ],
            "type": "histogram2dcontour"
           }
          ],
          "mesh3d": [
           {
            "colorbar": {
             "outlinewidth": 0,
             "ticks": ""
            },
            "type": "mesh3d"
           }
          ],
          "parcoords": [
           {
            "line": {
             "colorbar": {
              "outlinewidth": 0,
              "ticks": ""
             }
            },
            "type": "parcoords"
           }
          ],
          "pie": [
           {
            "automargin": true,
            "type": "pie"
           }
          ],
          "scatter": [
           {
            "marker": {
             "colorbar": {
              "outlinewidth": 0,
              "ticks": ""
             }
            },
            "type": "scatter"
           }
          ],
          "scatter3d": [
           {
            "line": {
             "colorbar": {
              "outlinewidth": 0,
              "ticks": ""
             }
            },
            "marker": {
             "colorbar": {
              "outlinewidth": 0,
              "ticks": ""
             }
            },
            "type": "scatter3d"
           }
          ],
          "scattercarpet": [
           {
            "marker": {
             "colorbar": {
              "outlinewidth": 0,
              "ticks": ""
             }
            },
            "type": "scattercarpet"
           }
          ],
          "scattergeo": [
           {
            "marker": {
             "colorbar": {
              "outlinewidth": 0,
              "ticks": ""
             }
            },
            "type": "scattergeo"
           }
          ],
          "scattergl": [
           {
            "marker": {
             "colorbar": {
              "outlinewidth": 0,
              "ticks": ""
             }
            },
            "type": "scattergl"
           }
          ],
          "scattermapbox": [
           {
            "marker": {
             "colorbar": {
              "outlinewidth": 0,
              "ticks": ""
             }
            },
            "type": "scattermapbox"
           }
          ],
          "scatterpolar": [
           {
            "marker": {
             "colorbar": {
              "outlinewidth": 0,
              "ticks": ""
             }
            },
            "type": "scatterpolar"
           }
          ],
          "scatterpolargl": [
           {
            "marker": {
             "colorbar": {
              "outlinewidth": 0,
              "ticks": ""
             }
            },
            "type": "scatterpolargl"
           }
          ],
          "scatterternary": [
           {
            "marker": {
             "colorbar": {
              "outlinewidth": 0,
              "ticks": ""
             }
            },
            "type": "scatterternary"
           }
          ],
          "surface": [
           {
            "colorbar": {
             "outlinewidth": 0,
             "ticks": ""
            },
            "colorscale": [
             [
              0,
              "#0d0887"
             ],
             [
              0.1111111111111111,
              "#46039f"
             ],
             [
              0.2222222222222222,
              "#7201a8"
             ],
             [
              0.3333333333333333,
              "#9c179e"
             ],
             [
              0.4444444444444444,
              "#bd3786"
             ],
             [
              0.5555555555555556,
              "#d8576b"
             ],
             [
              0.6666666666666666,
              "#ed7953"
             ],
             [
              0.7777777777777778,
              "#fb9f3a"
             ],
             [
              0.8888888888888888,
              "#fdca26"
             ],
             [
              1,
              "#f0f921"
             ]
            ],
            "type": "surface"
           }
          ],
          "table": [
           {
            "cells": {
             "fill": {
              "color": "#EBF0F8"
             },
             "line": {
              "color": "white"
             }
            },
            "header": {
             "fill": {
              "color": "#C8D4E3"
             },
             "line": {
              "color": "white"
             }
            },
            "type": "table"
           }
          ]
         },
         "layout": {
          "annotationdefaults": {
           "arrowcolor": "#2a3f5f",
           "arrowhead": 0,
           "arrowwidth": 1
          },
          "autotypenumbers": "strict",
          "coloraxis": {
           "colorbar": {
            "outlinewidth": 0,
            "ticks": ""
           }
          },
          "colorscale": {
           "diverging": [
            [
             0,
             "#8e0152"
            ],
            [
             0.1,
             "#c51b7d"
            ],
            [
             0.2,
             "#de77ae"
            ],
            [
             0.3,
             "#f1b6da"
            ],
            [
             0.4,
             "#fde0ef"
            ],
            [
             0.5,
             "#f7f7f7"
            ],
            [
             0.6,
             "#e6f5d0"
            ],
            [
             0.7,
             "#b8e186"
            ],
            [
             0.8,
             "#7fbc41"
            ],
            [
             0.9,
             "#4d9221"
            ],
            [
             1,
             "#276419"
            ]
           ],
           "sequential": [
            [
             0,
             "#0d0887"
            ],
            [
             0.1111111111111111,
             "#46039f"
            ],
            [
             0.2222222222222222,
             "#7201a8"
            ],
            [
             0.3333333333333333,
             "#9c179e"
            ],
            [
             0.4444444444444444,
             "#bd3786"
            ],
            [
             0.5555555555555556,
             "#d8576b"
            ],
            [
             0.6666666666666666,
             "#ed7953"
            ],
            [
             0.7777777777777778,
             "#fb9f3a"
            ],
            [
             0.8888888888888888,
             "#fdca26"
            ],
            [
             1,
             "#f0f921"
            ]
           ],
           "sequentialminus": [
            [
             0,
             "#0d0887"
            ],
            [
             0.1111111111111111,
             "#46039f"
            ],
            [
             0.2222222222222222,
             "#7201a8"
            ],
            [
             0.3333333333333333,
             "#9c179e"
            ],
            [
             0.4444444444444444,
             "#bd3786"
            ],
            [
             0.5555555555555556,
             "#d8576b"
            ],
            [
             0.6666666666666666,
             "#ed7953"
            ],
            [
             0.7777777777777778,
             "#fb9f3a"
            ],
            [
             0.8888888888888888,
             "#fdca26"
            ],
            [
             1,
             "#f0f921"
            ]
           ]
          },
          "colorway": [
           "#636efa",
           "#EF553B",
           "#00cc96",
           "#ab63fa",
           "#FFA15A",
           "#19d3f3",
           "#FF6692",
           "#B6E880",
           "#FF97FF",
           "#FECB52"
          ],
          "font": {
           "color": "#2a3f5f"
          },
          "geo": {
           "bgcolor": "white",
           "lakecolor": "white",
           "landcolor": "#E5ECF6",
           "showlakes": true,
           "showland": true,
           "subunitcolor": "white"
          },
          "hoverlabel": {
           "align": "left"
          },
          "hovermode": "closest",
          "mapbox": {
           "style": "light"
          },
          "paper_bgcolor": "white",
          "plot_bgcolor": "#E5ECF6",
          "polar": {
           "angularaxis": {
            "gridcolor": "white",
            "linecolor": "white",
            "ticks": ""
           },
           "bgcolor": "#E5ECF6",
           "radialaxis": {
            "gridcolor": "white",
            "linecolor": "white",
            "ticks": ""
           }
          },
          "scene": {
           "xaxis": {
            "backgroundcolor": "#E5ECF6",
            "gridcolor": "white",
            "gridwidth": 2,
            "linecolor": "white",
            "showbackground": true,
            "ticks": "",
            "zerolinecolor": "white"
           },
           "yaxis": {
            "backgroundcolor": "#E5ECF6",
            "gridcolor": "white",
            "gridwidth": 2,
            "linecolor": "white",
            "showbackground": true,
            "ticks": "",
            "zerolinecolor": "white"
           },
           "zaxis": {
            "backgroundcolor": "#E5ECF6",
            "gridcolor": "white",
            "gridwidth": 2,
            "linecolor": "white",
            "showbackground": true,
            "ticks": "",
            "zerolinecolor": "white"
           }
          },
          "shapedefaults": {
           "line": {
            "color": "#2a3f5f"
           }
          },
          "ternary": {
           "aaxis": {
            "gridcolor": "white",
            "linecolor": "white",
            "ticks": ""
           },
           "baxis": {
            "gridcolor": "white",
            "linecolor": "white",
            "ticks": ""
           },
           "bgcolor": "#E5ECF6",
           "caxis": {
            "gridcolor": "white",
            "linecolor": "white",
            "ticks": ""
           }
          },
          "title": {
           "x": 0.05
          },
          "xaxis": {
           "automargin": true,
           "gridcolor": "white",
           "linecolor": "white",
           "ticks": "",
           "title": {
            "standoff": 15
           },
           "zerolinecolor": "white",
           "zerolinewidth": 2
          },
          "yaxis": {
           "automargin": true,
           "gridcolor": "white",
           "linecolor": "white",
           "ticks": "",
           "title": {
            "standoff": 15
           },
           "zerolinecolor": "white",
           "zerolinewidth": 2
          }
         }
        },
        "title": {
         "text": "Optimization History Plot"
        },
        "xaxis": {
         "title": {
          "text": "#Trials"
         }
        },
        "yaxis": {
         "title": {
          "text": "Objective Value"
         }
        }
       }
      }
     },
     "metadata": {},
     "output_type": "display_data"
    }
   ],
   "source": [
    "optuna.visualization.plot_optimization_history(study)"
   ]
  },
  {
   "cell_type": "code",
   "execution_count": 28,
   "id": "1f8e15f7",
   "metadata": {},
   "outputs": [
    {
     "data": {
      "application/vnd.plotly.v1+json": {
       "config": {
        "plotlyServerURL": "https://plot.ly"
       },
       "data": [
        {
         "cliponaxis": false,
         "hovertemplate": [
          "min_samples_split (IntUniformDistribution): 0.012384483181196386<extra></extra>",
          "n_estimators (IntUniformDistribution): 0.05502857639578205<extra></extra>",
          "min_samples_leaf (IntUniformDistribution): 0.07110038165675081<extra></extra>",
          "max_depth (IntUniformDistribution): 0.3168600921384653<extra></extra>",
          "subsample (UniformDistribution): 0.5446264666278055<extra></extra>"
         ],
         "marker": {
          "color": "rgb(66,146,198)"
         },
         "orientation": "h",
         "text": [
          "0.012384483181196386",
          "0.05502857639578205",
          "0.07110038165675081",
          "0.3168600921384653",
          "0.5446264666278055"
         ],
         "textposition": "outside",
         "texttemplate": "%{text:.2f}",
         "type": "bar",
         "x": [
          0.012384483181196386,
          0.05502857639578205,
          0.07110038165675081,
          0.3168600921384653,
          0.5446264666278055
         ],
         "y": [
          "min_samples_split",
          "n_estimators",
          "min_samples_leaf",
          "max_depth",
          "subsample"
         ]
        }
       ],
       "layout": {
        "showlegend": false,
        "template": {
         "data": {
          "bar": [
           {
            "error_x": {
             "color": "#2a3f5f"
            },
            "error_y": {
             "color": "#2a3f5f"
            },
            "marker": {
             "line": {
              "color": "#E5ECF6",
              "width": 0.5
             },
             "pattern": {
              "fillmode": "overlay",
              "size": 10,
              "solidity": 0.2
             }
            },
            "type": "bar"
           }
          ],
          "barpolar": [
           {
            "marker": {
             "line": {
              "color": "#E5ECF6",
              "width": 0.5
             },
             "pattern": {
              "fillmode": "overlay",
              "size": 10,
              "solidity": 0.2
             }
            },
            "type": "barpolar"
           }
          ],
          "carpet": [
           {
            "aaxis": {
             "endlinecolor": "#2a3f5f",
             "gridcolor": "white",
             "linecolor": "white",
             "minorgridcolor": "white",
             "startlinecolor": "#2a3f5f"
            },
            "baxis": {
             "endlinecolor": "#2a3f5f",
             "gridcolor": "white",
             "linecolor": "white",
             "minorgridcolor": "white",
             "startlinecolor": "#2a3f5f"
            },
            "type": "carpet"
           }
          ],
          "choropleth": [
           {
            "colorbar": {
             "outlinewidth": 0,
             "ticks": ""
            },
            "type": "choropleth"
           }
          ],
          "contour": [
           {
            "colorbar": {
             "outlinewidth": 0,
             "ticks": ""
            },
            "colorscale": [
             [
              0,
              "#0d0887"
             ],
             [
              0.1111111111111111,
              "#46039f"
             ],
             [
              0.2222222222222222,
              "#7201a8"
             ],
             [
              0.3333333333333333,
              "#9c179e"
             ],
             [
              0.4444444444444444,
              "#bd3786"
             ],
             [
              0.5555555555555556,
              "#d8576b"
             ],
             [
              0.6666666666666666,
              "#ed7953"
             ],
             [
              0.7777777777777778,
              "#fb9f3a"
             ],
             [
              0.8888888888888888,
              "#fdca26"
             ],
             [
              1,
              "#f0f921"
             ]
            ],
            "type": "contour"
           }
          ],
          "contourcarpet": [
           {
            "colorbar": {
             "outlinewidth": 0,
             "ticks": ""
            },
            "type": "contourcarpet"
           }
          ],
          "heatmap": [
           {
            "colorbar": {
             "outlinewidth": 0,
             "ticks": ""
            },
            "colorscale": [
             [
              0,
              "#0d0887"
             ],
             [
              0.1111111111111111,
              "#46039f"
             ],
             [
              0.2222222222222222,
              "#7201a8"
             ],
             [
              0.3333333333333333,
              "#9c179e"
             ],
             [
              0.4444444444444444,
              "#bd3786"
             ],
             [
              0.5555555555555556,
              "#d8576b"
             ],
             [
              0.6666666666666666,
              "#ed7953"
             ],
             [
              0.7777777777777778,
              "#fb9f3a"
             ],
             [
              0.8888888888888888,
              "#fdca26"
             ],
             [
              1,
              "#f0f921"
             ]
            ],
            "type": "heatmap"
           }
          ],
          "heatmapgl": [
           {
            "colorbar": {
             "outlinewidth": 0,
             "ticks": ""
            },
            "colorscale": [
             [
              0,
              "#0d0887"
             ],
             [
              0.1111111111111111,
              "#46039f"
             ],
             [
              0.2222222222222222,
              "#7201a8"
             ],
             [
              0.3333333333333333,
              "#9c179e"
             ],
             [
              0.4444444444444444,
              "#bd3786"
             ],
             [
              0.5555555555555556,
              "#d8576b"
             ],
             [
              0.6666666666666666,
              "#ed7953"
             ],
             [
              0.7777777777777778,
              "#fb9f3a"
             ],
             [
              0.8888888888888888,
              "#fdca26"
             ],
             [
              1,
              "#f0f921"
             ]
            ],
            "type": "heatmapgl"
           }
          ],
          "histogram": [
           {
            "marker": {
             "pattern": {
              "fillmode": "overlay",
              "size": 10,
              "solidity": 0.2
             }
            },
            "type": "histogram"
           }
          ],
          "histogram2d": [
           {
            "colorbar": {
             "outlinewidth": 0,
             "ticks": ""
            },
            "colorscale": [
             [
              0,
              "#0d0887"
             ],
             [
              0.1111111111111111,
              "#46039f"
             ],
             [
              0.2222222222222222,
              "#7201a8"
             ],
             [
              0.3333333333333333,
              "#9c179e"
             ],
             [
              0.4444444444444444,
              "#bd3786"
             ],
             [
              0.5555555555555556,
              "#d8576b"
             ],
             [
              0.6666666666666666,
              "#ed7953"
             ],
             [
              0.7777777777777778,
              "#fb9f3a"
             ],
             [
              0.8888888888888888,
              "#fdca26"
             ],
             [
              1,
              "#f0f921"
             ]
            ],
            "type": "histogram2d"
           }
          ],
          "histogram2dcontour": [
           {
            "colorbar": {
             "outlinewidth": 0,
             "ticks": ""
            },
            "colorscale": [
             [
              0,
              "#0d0887"
             ],
             [
              0.1111111111111111,
              "#46039f"
             ],
             [
              0.2222222222222222,
              "#7201a8"
             ],
             [
              0.3333333333333333,
              "#9c179e"
             ],
             [
              0.4444444444444444,
              "#bd3786"
             ],
             [
              0.5555555555555556,
              "#d8576b"
             ],
             [
              0.6666666666666666,
              "#ed7953"
             ],
             [
              0.7777777777777778,
              "#fb9f3a"
             ],
             [
              0.8888888888888888,
              "#fdca26"
             ],
             [
              1,
              "#f0f921"
             ]
            ],
            "type": "histogram2dcontour"
           }
          ],
          "mesh3d": [
           {
            "colorbar": {
             "outlinewidth": 0,
             "ticks": ""
            },
            "type": "mesh3d"
           }
          ],
          "parcoords": [
           {
            "line": {
             "colorbar": {
              "outlinewidth": 0,
              "ticks": ""
             }
            },
            "type": "parcoords"
           }
          ],
          "pie": [
           {
            "automargin": true,
            "type": "pie"
           }
          ],
          "scatter": [
           {
            "marker": {
             "colorbar": {
              "outlinewidth": 0,
              "ticks": ""
             }
            },
            "type": "scatter"
           }
          ],
          "scatter3d": [
           {
            "line": {
             "colorbar": {
              "outlinewidth": 0,
              "ticks": ""
             }
            },
            "marker": {
             "colorbar": {
              "outlinewidth": 0,
              "ticks": ""
             }
            },
            "type": "scatter3d"
           }
          ],
          "scattercarpet": [
           {
            "marker": {
             "colorbar": {
              "outlinewidth": 0,
              "ticks": ""
             }
            },
            "type": "scattercarpet"
           }
          ],
          "scattergeo": [
           {
            "marker": {
             "colorbar": {
              "outlinewidth": 0,
              "ticks": ""
             }
            },
            "type": "scattergeo"
           }
          ],
          "scattergl": [
           {
            "marker": {
             "colorbar": {
              "outlinewidth": 0,
              "ticks": ""
             }
            },
            "type": "scattergl"
           }
          ],
          "scattermapbox": [
           {
            "marker": {
             "colorbar": {
              "outlinewidth": 0,
              "ticks": ""
             }
            },
            "type": "scattermapbox"
           }
          ],
          "scatterpolar": [
           {
            "marker": {
             "colorbar": {
              "outlinewidth": 0,
              "ticks": ""
             }
            },
            "type": "scatterpolar"
           }
          ],
          "scatterpolargl": [
           {
            "marker": {
             "colorbar": {
              "outlinewidth": 0,
              "ticks": ""
             }
            },
            "type": "scatterpolargl"
           }
          ],
          "scatterternary": [
           {
            "marker": {
             "colorbar": {
              "outlinewidth": 0,
              "ticks": ""
             }
            },
            "type": "scatterternary"
           }
          ],
          "surface": [
           {
            "colorbar": {
             "outlinewidth": 0,
             "ticks": ""
            },
            "colorscale": [
             [
              0,
              "#0d0887"
             ],
             [
              0.1111111111111111,
              "#46039f"
             ],
             [
              0.2222222222222222,
              "#7201a8"
             ],
             [
              0.3333333333333333,
              "#9c179e"
             ],
             [
              0.4444444444444444,
              "#bd3786"
             ],
             [
              0.5555555555555556,
              "#d8576b"
             ],
             [
              0.6666666666666666,
              "#ed7953"
             ],
             [
              0.7777777777777778,
              "#fb9f3a"
             ],
             [
              0.8888888888888888,
              "#fdca26"
             ],
             [
              1,
              "#f0f921"
             ]
            ],
            "type": "surface"
           }
          ],
          "table": [
           {
            "cells": {
             "fill": {
              "color": "#EBF0F8"
             },
             "line": {
              "color": "white"
             }
            },
            "header": {
             "fill": {
              "color": "#C8D4E3"
             },
             "line": {
              "color": "white"
             }
            },
            "type": "table"
           }
          ]
         },
         "layout": {
          "annotationdefaults": {
           "arrowcolor": "#2a3f5f",
           "arrowhead": 0,
           "arrowwidth": 1
          },
          "autotypenumbers": "strict",
          "coloraxis": {
           "colorbar": {
            "outlinewidth": 0,
            "ticks": ""
           }
          },
          "colorscale": {
           "diverging": [
            [
             0,
             "#8e0152"
            ],
            [
             0.1,
             "#c51b7d"
            ],
            [
             0.2,
             "#de77ae"
            ],
            [
             0.3,
             "#f1b6da"
            ],
            [
             0.4,
             "#fde0ef"
            ],
            [
             0.5,
             "#f7f7f7"
            ],
            [
             0.6,
             "#e6f5d0"
            ],
            [
             0.7,
             "#b8e186"
            ],
            [
             0.8,
             "#7fbc41"
            ],
            [
             0.9,
             "#4d9221"
            ],
            [
             1,
             "#276419"
            ]
           ],
           "sequential": [
            [
             0,
             "#0d0887"
            ],
            [
             0.1111111111111111,
             "#46039f"
            ],
            [
             0.2222222222222222,
             "#7201a8"
            ],
            [
             0.3333333333333333,
             "#9c179e"
            ],
            [
             0.4444444444444444,
             "#bd3786"
            ],
            [
             0.5555555555555556,
             "#d8576b"
            ],
            [
             0.6666666666666666,
             "#ed7953"
            ],
            [
             0.7777777777777778,
             "#fb9f3a"
            ],
            [
             0.8888888888888888,
             "#fdca26"
            ],
            [
             1,
             "#f0f921"
            ]
           ],
           "sequentialminus": [
            [
             0,
             "#0d0887"
            ],
            [
             0.1111111111111111,
             "#46039f"
            ],
            [
             0.2222222222222222,
             "#7201a8"
            ],
            [
             0.3333333333333333,
             "#9c179e"
            ],
            [
             0.4444444444444444,
             "#bd3786"
            ],
            [
             0.5555555555555556,
             "#d8576b"
            ],
            [
             0.6666666666666666,
             "#ed7953"
            ],
            [
             0.7777777777777778,
             "#fb9f3a"
            ],
            [
             0.8888888888888888,
             "#fdca26"
            ],
            [
             1,
             "#f0f921"
            ]
           ]
          },
          "colorway": [
           "#636efa",
           "#EF553B",
           "#00cc96",
           "#ab63fa",
           "#FFA15A",
           "#19d3f3",
           "#FF6692",
           "#B6E880",
           "#FF97FF",
           "#FECB52"
          ],
          "font": {
           "color": "#2a3f5f"
          },
          "geo": {
           "bgcolor": "white",
           "lakecolor": "white",
           "landcolor": "#E5ECF6",
           "showlakes": true,
           "showland": true,
           "subunitcolor": "white"
          },
          "hoverlabel": {
           "align": "left"
          },
          "hovermode": "closest",
          "mapbox": {
           "style": "light"
          },
          "paper_bgcolor": "white",
          "plot_bgcolor": "#E5ECF6",
          "polar": {
           "angularaxis": {
            "gridcolor": "white",
            "linecolor": "white",
            "ticks": ""
           },
           "bgcolor": "#E5ECF6",
           "radialaxis": {
            "gridcolor": "white",
            "linecolor": "white",
            "ticks": ""
           }
          },
          "scene": {
           "xaxis": {
            "backgroundcolor": "#E5ECF6",
            "gridcolor": "white",
            "gridwidth": 2,
            "linecolor": "white",
            "showbackground": true,
            "ticks": "",
            "zerolinecolor": "white"
           },
           "yaxis": {
            "backgroundcolor": "#E5ECF6",
            "gridcolor": "white",
            "gridwidth": 2,
            "linecolor": "white",
            "showbackground": true,
            "ticks": "",
            "zerolinecolor": "white"
           },
           "zaxis": {
            "backgroundcolor": "#E5ECF6",
            "gridcolor": "white",
            "gridwidth": 2,
            "linecolor": "white",
            "showbackground": true,
            "ticks": "",
            "zerolinecolor": "white"
           }
          },
          "shapedefaults": {
           "line": {
            "color": "#2a3f5f"
           }
          },
          "ternary": {
           "aaxis": {
            "gridcolor": "white",
            "linecolor": "white",
            "ticks": ""
           },
           "baxis": {
            "gridcolor": "white",
            "linecolor": "white",
            "ticks": ""
           },
           "bgcolor": "#E5ECF6",
           "caxis": {
            "gridcolor": "white",
            "linecolor": "white",
            "ticks": ""
           }
          },
          "title": {
           "x": 0.05
          },
          "xaxis": {
           "automargin": true,
           "gridcolor": "white",
           "linecolor": "white",
           "ticks": "",
           "title": {
            "standoff": 15
           },
           "zerolinecolor": "white",
           "zerolinewidth": 2
          },
          "yaxis": {
           "automargin": true,
           "gridcolor": "white",
           "linecolor": "white",
           "ticks": "",
           "title": {
            "standoff": 15
           },
           "zerolinecolor": "white",
           "zerolinewidth": 2
          }
         }
        },
        "title": {
         "text": "Hyperparameter Importances"
        },
        "xaxis": {
         "title": {
          "text": "Importance for Objective Value"
         }
        },
        "yaxis": {
         "title": {
          "text": "Hyperparameter"
         }
        }
       }
      }
     },
     "metadata": {},
     "output_type": "display_data"
    }
   ],
   "source": [
    "optuna.visualization.plot_param_importances(study)"
   ]
  },
  {
   "cell_type": "code",
   "execution_count": 29,
   "id": "ded0e0f8",
   "metadata": {},
   "outputs": [
    {
     "data": {
      "application/vnd.plotly.v1+json": {
       "config": {
        "plotlyServerURL": "https://plot.ly"
       },
       "data": [
        {
         "dimensions": [
          {
           "label": "Objective Value",
           "range": [
            0.42033755579110804,
            0.5974091152060804
           ],
           "values": [
            0.5606306017543611,
            0.5588891943865276,
            0.5105110315324055,
            0.5738082096534789,
            0.5380765782387388,
            0.5594841440664771,
            0.5776071402727588,
            0.5312254193153391,
            0.5461356568429515,
            0.5121967668262277,
            0.5805433036463306,
            0.57936737478575,
            0.5796695170548208,
            0.5790879920054504,
            0.4342625858060103,
            0.5583167707316955,
            0.5789037425420519,
            0.5866086483993018,
            0.5806407304810974,
            0.557049690644899,
            0.5707679673972454,
            0.5846165820328973,
            0.5708840232587302,
            0.5859053506710892,
            0.5851492624497008,
            0.5595275724808915,
            0.5642461771053201,
            0.5859610154253602,
            0.574006055241986,
            0.5612686220728959,
            0.578272564647159,
            0.579731013648502,
            0.5796924306984679,
            0.5670878145140161,
            0.5868046443733319,
            0.5890629506034231,
            0.5723808981320315,
            0.5612374793856263,
            0.4809490086294552,
            0.5208792285222442,
            0.5266016692782892,
            0.5817634841991322,
            0.5824715811247521,
            0.5828570006826096,
            0.5692480660208104,
            0.5693341266574665,
            0.5702990726059466,
            0.42033755579110804,
            0.5847742018068196,
            0.5606983382458257,
            0.5517033220315505,
            0.5865581898916028,
            0.5766449687061111,
            0.5974091152060804,
            0.5865899934011308,
            0.5798470845275093,
            0.5874321707413428,
            0.5898223878599327,
            0.5818028207687459,
            0.5846609427027738,
            0.589499061074096,
            0.591604726776183,
            0.5920584254926675,
            0.5816443418782675,
            0.5903419830491644,
            0.5822509546620566,
            0.5850640601440453,
            0.576214917973046,
            0.5829302699850027,
            0.5818933095595824,
            0.5874165701599259,
            0.5813614522869945,
            0.5854932119223624,
            0.578455742427604,
            0.5914269923043394,
            0.5726294700155934,
            0.5923554623445713,
            0.5835403375923434,
            0.5733627999126818,
            0.5673894781512864,
            0.580920611176569,
            0.5892368266497838,
            0.5799676394175526,
            0.5766481065029316,
            0.5679338918371372,
            0.5851140134461144,
            0.5906181724456894,
            0.5894066683508828,
            0.5703998812498697,
            0.5926152538658045,
            0.5781894911292624,
            0.5784339577711293,
            0.5894389704352025,
            0.578719885691282,
            0.59043540214472,
            0.5769854225010567,
            0.5829560596340986,
            0.5877950611955245,
            0.5788416439547379,
            0.5683493234946868
           ]
          },
          {
           "label": "max_depth",
           "range": [
            1,
            30
           ],
           "values": [
            17,
            8,
            6,
            27,
            24,
            14,
            20,
            24,
            18,
            23,
            12,
            12,
            11,
            10,
            1,
            4,
            13,
            10,
            8,
            3,
            7,
            9,
            8,
            9,
            15,
            15,
            19,
            30,
            29,
            30,
            21,
            16,
            17,
            14,
            5,
            5,
            3,
            5,
            6,
            2,
            27,
            6,
            10,
            5,
            8,
            10,
            4,
            1,
            7,
            12,
            26,
            21,
            22,
            25,
            25,
            25,
            23,
            24,
            23,
            28,
            24,
            24,
            24,
            23,
            24,
            25,
            27,
            20,
            24,
            26,
            22,
            24,
            22,
            23,
            20,
            18,
            20,
            20,
            26,
            28,
            21,
            18,
            19,
            17,
            24,
            20,
            18,
            19,
            22,
            25,
            25,
            26,
            27,
            21,
            16,
            16,
            14,
            17,
            15,
            16
           ]
          },
          {
           "label": "min_samples_leaf",
           "range": [
            1,
            10
           ],
           "values": [
            3,
            4,
            4,
            7,
            1,
            5,
            10,
            4,
            4,
            1,
            10,
            10,
            10,
            8,
            8,
            9,
            7,
            10,
            8,
            7,
            8,
            9,
            9,
            9,
            9,
            6,
            9,
            6,
            6,
            2,
            5,
            9,
            10,
            7,
            3,
            3,
            3,
            3,
            2,
            2,
            4,
            3,
            5,
            1,
            4,
            2,
            6,
            5,
            10,
            4,
            3,
            9,
            8,
            10,
            10,
            10,
            10,
            10,
            10,
            10,
            10,
            10,
            10,
            9,
            10,
            10,
            9,
            8,
            10,
            9,
            10,
            10,
            10,
            9,
            10,
            9,
            10,
            10,
            9,
            10,
            10,
            10,
            10,
            9,
            10,
            10,
            10,
            9,
            9,
            10,
            9,
            10,
            10,
            10,
            10,
            10,
            10,
            9,
            10,
            9
           ]
          },
          {
           "label": "min_samples_split",
           "range": [
            2,
            10
           ],
           "values": [
            3,
            8,
            4,
            9,
            9,
            3,
            3,
            5,
            7,
            7,
            2,
            2,
            2,
            2,
            5,
            5,
            2,
            4,
            4,
            6,
            4,
            4,
            4,
            6,
            7,
            7,
            10,
            6,
            6,
            6,
            5,
            8,
            8,
            7,
            6,
            6,
            5,
            6,
            3,
            9,
            5,
            6,
            7,
            6,
            8,
            6,
            5,
            6,
            7,
            3,
            5,
            7,
            8,
            7,
            7,
            7,
            8,
            8,
            8,
            10,
            9,
            9,
            9,
            9,
            9,
            9,
            10,
            9,
            9,
            10,
            9,
            8,
            8,
            9,
            10,
            10,
            9,
            9,
            10,
            9,
            10,
            9,
            9,
            9,
            10,
            8,
            9,
            9,
            8,
            10,
            10,
            10,
            9,
            10,
            9,
            9,
            8,
            10,
            9,
            8
           ]
          },
          {
           "label": "n_estimators",
           "range": [
            100,
            195
           ],
           "values": [
            131,
            177,
            189,
            116,
            111,
            157,
            105,
            195,
            141,
            177,
            102,
            101,
            100,
            126,
            151,
            125,
            116,
            139,
            163,
            163,
            140,
            168,
            169,
            141,
            143,
            141,
            146,
            152,
            132,
            152,
            133,
            146,
            135,
            125,
            159,
            157,
            177,
            157,
            157,
            175,
            185,
            152,
            162,
            147,
            138,
            155,
            169,
            128,
            121,
            161,
            148,
            137,
            137,
            143,
            150,
            144,
            129,
            120,
            113,
            108,
            121,
            116,
            121,
            118,
            121,
            121,
            111,
            105,
            119,
            114,
            123,
            127,
            116,
            129,
            123,
            108,
            123,
            124,
            119,
            132,
            122,
            116,
            112,
            116,
            109,
            105,
            125,
            126,
            134,
            130,
            130,
            119,
            124,
            122,
            127,
            127,
            135,
            130,
            125,
            132
           ]
          },
          {
           "label": "subsample",
           "range": [
            0.11010221370031992,
            0.49952235010341917
           ],
           "values": [
            0.3448400210142287,
            0.3625543198958435,
            0.17322957133244482,
            0.46460349990443905,
            0.1847948317923236,
            0.2778468309606952,
            0.32783484928221374,
            0.1846165228477561,
            0.3563944103547656,
            0.14551039195300886,
            0.49922325620701713,
            0.49815522972953735,
            0.49504252885470357,
            0.4385963642743506,
            0.4165008687684134,
            0.25755823400949995,
            0.40630130561122896,
            0.4806726580827427,
            0.39566203093527663,
            0.40646913336727786,
            0.4482571945297421,
            0.4709268612323635,
            0.3814939577484186,
            0.4571620970294071,
            0.46175525184628124,
            0.4366205039590271,
            0.3108369132591403,
            0.4733222184523635,
            0.2520482318029482,
            0.4244005059662552,
            0.47288015119325477,
            0.46602964040737793,
            0.3782852921773786,
            0.4478980459230926,
            0.4791262776445828,
            0.4800428929664504,
            0.4847917546333982,
            0.4254454775235353,
            0.11010221370031992,
            0.3358895471503736,
            0.21060350080157902,
            0.45511138877115415,
            0.48158893796984187,
            0.4785436944699574,
            0.4381925104163591,
            0.49922605035485,
            0.3614312078078681,
            0.45718075576172434,
            0.4838138657987073,
            0.3926503753270089,
            0.4296085028466002,
            0.46128948440764767,
            0.46334341839957727,
            0.4874640828701753,
            0.48968696977175885,
            0.49952235010341917,
            0.48906646640260004,
            0.48609058776146996,
            0.413687058505383,
            0.44861824704512027,
            0.48290282145287744,
            0.4859998149771781,
            0.48783712294172477,
            0.4994155790310602,
            0.4398573664401071,
            0.4428078907436919,
            0.4699919836753461,
            0.4346961312911503,
            0.4699194211409398,
            0.48729314116077016,
            0.4198274444772468,
            0.49120608436129815,
            0.451246550219406,
            0.47774346702449233,
            0.48743637102437076,
            0.4671989837655337,
            0.4559382947028975,
            0.4445961557216763,
            0.40767816391939016,
            0.28189180442179146,
            0.45894035902224994,
            0.47564876446593013,
            0.49139722746678344,
            0.47053627035472917,
            0.21608368739340225,
            0.453973053506813,
            0.4785880987299538,
            0.4836087222209761,
            0.43021598896067514,
            0.4644892710172728,
            0.43919650103192764,
            0.46071424708161673,
            0.4941348531956393,
            0.4758854922994571,
            0.4649447193130169,
            0.44977122075663,
            0.4636634766061577,
            0.4991296396291115,
            0.46952709032761336,
            0.3491788685333418
           ]
          }
         ],
         "labelangle": 30,
         "labelside": "bottom",
         "line": {
          "color": [
           0.5606306017543611,
           0.5588891943865276,
           0.5105110315324055,
           0.5738082096534789,
           0.5380765782387388,
           0.5594841440664771,
           0.5776071402727588,
           0.5312254193153391,
           0.5461356568429515,
           0.5121967668262277,
           0.5805433036463306,
           0.57936737478575,
           0.5796695170548208,
           0.5790879920054504,
           0.4342625858060103,
           0.5583167707316955,
           0.5789037425420519,
           0.5866086483993018,
           0.5806407304810974,
           0.557049690644899,
           0.5707679673972454,
           0.5846165820328973,
           0.5708840232587302,
           0.5859053506710892,
           0.5851492624497008,
           0.5595275724808915,
           0.5642461771053201,
           0.5859610154253602,
           0.574006055241986,
           0.5612686220728959,
           0.578272564647159,
           0.579731013648502,
           0.5796924306984679,
           0.5670878145140161,
           0.5868046443733319,
           0.5890629506034231,
           0.5723808981320315,
           0.5612374793856263,
           0.4809490086294552,
           0.5208792285222442,
           0.5266016692782892,
           0.5817634841991322,
           0.5824715811247521,
           0.5828570006826096,
           0.5692480660208104,
           0.5693341266574665,
           0.5702990726059466,
           0.42033755579110804,
           0.5847742018068196,
           0.5606983382458257,
           0.5517033220315505,
           0.5865581898916028,
           0.5766449687061111,
           0.5974091152060804,
           0.5865899934011308,
           0.5798470845275093,
           0.5874321707413428,
           0.5898223878599327,
           0.5818028207687459,
           0.5846609427027738,
           0.589499061074096,
           0.591604726776183,
           0.5920584254926675,
           0.5816443418782675,
           0.5903419830491644,
           0.5822509546620566,
           0.5850640601440453,
           0.576214917973046,
           0.5829302699850027,
           0.5818933095595824,
           0.5874165701599259,
           0.5813614522869945,
           0.5854932119223624,
           0.578455742427604,
           0.5914269923043394,
           0.5726294700155934,
           0.5923554623445713,
           0.5835403375923434,
           0.5733627999126818,
           0.5673894781512864,
           0.580920611176569,
           0.5892368266497838,
           0.5799676394175526,
           0.5766481065029316,
           0.5679338918371372,
           0.5851140134461144,
           0.5906181724456894,
           0.5894066683508828,
           0.5703998812498697,
           0.5926152538658045,
           0.5781894911292624,
           0.5784339577711293,
           0.5894389704352025,
           0.578719885691282,
           0.59043540214472,
           0.5769854225010567,
           0.5829560596340986,
           0.5877950611955245,
           0.5788416439547379,
           0.5683493234946868
          ],
          "colorbar": {
           "title": {
            "text": "Objective Value"
           }
          },
          "colorscale": [
           [
            0,
            "rgb(247,251,255)"
           ],
           [
            0.125,
            "rgb(222,235,247)"
           ],
           [
            0.25,
            "rgb(198,219,239)"
           ],
           [
            0.375,
            "rgb(158,202,225)"
           ],
           [
            0.5,
            "rgb(107,174,214)"
           ],
           [
            0.625,
            "rgb(66,146,198)"
           ],
           [
            0.75,
            "rgb(33,113,181)"
           ],
           [
            0.875,
            "rgb(8,81,156)"
           ],
           [
            1,
            "rgb(8,48,107)"
           ]
          ],
          "reversescale": false,
          "showscale": true
         },
         "type": "parcoords"
        }
       ],
       "layout": {
        "template": {
         "data": {
          "bar": [
           {
            "error_x": {
             "color": "#2a3f5f"
            },
            "error_y": {
             "color": "#2a3f5f"
            },
            "marker": {
             "line": {
              "color": "#E5ECF6",
              "width": 0.5
             },
             "pattern": {
              "fillmode": "overlay",
              "size": 10,
              "solidity": 0.2
             }
            },
            "type": "bar"
           }
          ],
          "barpolar": [
           {
            "marker": {
             "line": {
              "color": "#E5ECF6",
              "width": 0.5
             },
             "pattern": {
              "fillmode": "overlay",
              "size": 10,
              "solidity": 0.2
             }
            },
            "type": "barpolar"
           }
          ],
          "carpet": [
           {
            "aaxis": {
             "endlinecolor": "#2a3f5f",
             "gridcolor": "white",
             "linecolor": "white",
             "minorgridcolor": "white",
             "startlinecolor": "#2a3f5f"
            },
            "baxis": {
             "endlinecolor": "#2a3f5f",
             "gridcolor": "white",
             "linecolor": "white",
             "minorgridcolor": "white",
             "startlinecolor": "#2a3f5f"
            },
            "type": "carpet"
           }
          ],
          "choropleth": [
           {
            "colorbar": {
             "outlinewidth": 0,
             "ticks": ""
            },
            "type": "choropleth"
           }
          ],
          "contour": [
           {
            "colorbar": {
             "outlinewidth": 0,
             "ticks": ""
            },
            "colorscale": [
             [
              0,
              "#0d0887"
             ],
             [
              0.1111111111111111,
              "#46039f"
             ],
             [
              0.2222222222222222,
              "#7201a8"
             ],
             [
              0.3333333333333333,
              "#9c179e"
             ],
             [
              0.4444444444444444,
              "#bd3786"
             ],
             [
              0.5555555555555556,
              "#d8576b"
             ],
             [
              0.6666666666666666,
              "#ed7953"
             ],
             [
              0.7777777777777778,
              "#fb9f3a"
             ],
             [
              0.8888888888888888,
              "#fdca26"
             ],
             [
              1,
              "#f0f921"
             ]
            ],
            "type": "contour"
           }
          ],
          "contourcarpet": [
           {
            "colorbar": {
             "outlinewidth": 0,
             "ticks": ""
            },
            "type": "contourcarpet"
           }
          ],
          "heatmap": [
           {
            "colorbar": {
             "outlinewidth": 0,
             "ticks": ""
            },
            "colorscale": [
             [
              0,
              "#0d0887"
             ],
             [
              0.1111111111111111,
              "#46039f"
             ],
             [
              0.2222222222222222,
              "#7201a8"
             ],
             [
              0.3333333333333333,
              "#9c179e"
             ],
             [
              0.4444444444444444,
              "#bd3786"
             ],
             [
              0.5555555555555556,
              "#d8576b"
             ],
             [
              0.6666666666666666,
              "#ed7953"
             ],
             [
              0.7777777777777778,
              "#fb9f3a"
             ],
             [
              0.8888888888888888,
              "#fdca26"
             ],
             [
              1,
              "#f0f921"
             ]
            ],
            "type": "heatmap"
           }
          ],
          "heatmapgl": [
           {
            "colorbar": {
             "outlinewidth": 0,
             "ticks": ""
            },
            "colorscale": [
             [
              0,
              "#0d0887"
             ],
             [
              0.1111111111111111,
              "#46039f"
             ],
             [
              0.2222222222222222,
              "#7201a8"
             ],
             [
              0.3333333333333333,
              "#9c179e"
             ],
             [
              0.4444444444444444,
              "#bd3786"
             ],
             [
              0.5555555555555556,
              "#d8576b"
             ],
             [
              0.6666666666666666,
              "#ed7953"
             ],
             [
              0.7777777777777778,
              "#fb9f3a"
             ],
             [
              0.8888888888888888,
              "#fdca26"
             ],
             [
              1,
              "#f0f921"
             ]
            ],
            "type": "heatmapgl"
           }
          ],
          "histogram": [
           {
            "marker": {
             "pattern": {
              "fillmode": "overlay",
              "size": 10,
              "solidity": 0.2
             }
            },
            "type": "histogram"
           }
          ],
          "histogram2d": [
           {
            "colorbar": {
             "outlinewidth": 0,
             "ticks": ""
            },
            "colorscale": [
             [
              0,
              "#0d0887"
             ],
             [
              0.1111111111111111,
              "#46039f"
             ],
             [
              0.2222222222222222,
              "#7201a8"
             ],
             [
              0.3333333333333333,
              "#9c179e"
             ],
             [
              0.4444444444444444,
              "#bd3786"
             ],
             [
              0.5555555555555556,
              "#d8576b"
             ],
             [
              0.6666666666666666,
              "#ed7953"
             ],
             [
              0.7777777777777778,
              "#fb9f3a"
             ],
             [
              0.8888888888888888,
              "#fdca26"
             ],
             [
              1,
              "#f0f921"
             ]
            ],
            "type": "histogram2d"
           }
          ],
          "histogram2dcontour": [
           {
            "colorbar": {
             "outlinewidth": 0,
             "ticks": ""
            },
            "colorscale": [
             [
              0,
              "#0d0887"
             ],
             [
              0.1111111111111111,
              "#46039f"
             ],
             [
              0.2222222222222222,
              "#7201a8"
             ],
             [
              0.3333333333333333,
              "#9c179e"
             ],
             [
              0.4444444444444444,
              "#bd3786"
             ],
             [
              0.5555555555555556,
              "#d8576b"
             ],
             [
              0.6666666666666666,
              "#ed7953"
             ],
             [
              0.7777777777777778,
              "#fb9f3a"
             ],
             [
              0.8888888888888888,
              "#fdca26"
             ],
             [
              1,
              "#f0f921"
             ]
            ],
            "type": "histogram2dcontour"
           }
          ],
          "mesh3d": [
           {
            "colorbar": {
             "outlinewidth": 0,
             "ticks": ""
            },
            "type": "mesh3d"
           }
          ],
          "parcoords": [
           {
            "line": {
             "colorbar": {
              "outlinewidth": 0,
              "ticks": ""
             }
            },
            "type": "parcoords"
           }
          ],
          "pie": [
           {
            "automargin": true,
            "type": "pie"
           }
          ],
          "scatter": [
           {
            "marker": {
             "colorbar": {
              "outlinewidth": 0,
              "ticks": ""
             }
            },
            "type": "scatter"
           }
          ],
          "scatter3d": [
           {
            "line": {
             "colorbar": {
              "outlinewidth": 0,
              "ticks": ""
             }
            },
            "marker": {
             "colorbar": {
              "outlinewidth": 0,
              "ticks": ""
             }
            },
            "type": "scatter3d"
           }
          ],
          "scattercarpet": [
           {
            "marker": {
             "colorbar": {
              "outlinewidth": 0,
              "ticks": ""
             }
            },
            "type": "scattercarpet"
           }
          ],
          "scattergeo": [
           {
            "marker": {
             "colorbar": {
              "outlinewidth": 0,
              "ticks": ""
             }
            },
            "type": "scattergeo"
           }
          ],
          "scattergl": [
           {
            "marker": {
             "colorbar": {
              "outlinewidth": 0,
              "ticks": ""
             }
            },
            "type": "scattergl"
           }
          ],
          "scattermapbox": [
           {
            "marker": {
             "colorbar": {
              "outlinewidth": 0,
              "ticks": ""
             }
            },
            "type": "scattermapbox"
           }
          ],
          "scatterpolar": [
           {
            "marker": {
             "colorbar": {
              "outlinewidth": 0,
              "ticks": ""
             }
            },
            "type": "scatterpolar"
           }
          ],
          "scatterpolargl": [
           {
            "marker": {
             "colorbar": {
              "outlinewidth": 0,
              "ticks": ""
             }
            },
            "type": "scatterpolargl"
           }
          ],
          "scatterternary": [
           {
            "marker": {
             "colorbar": {
              "outlinewidth": 0,
              "ticks": ""
             }
            },
            "type": "scatterternary"
           }
          ],
          "surface": [
           {
            "colorbar": {
             "outlinewidth": 0,
             "ticks": ""
            },
            "colorscale": [
             [
              0,
              "#0d0887"
             ],
             [
              0.1111111111111111,
              "#46039f"
             ],
             [
              0.2222222222222222,
              "#7201a8"
             ],
             [
              0.3333333333333333,
              "#9c179e"
             ],
             [
              0.4444444444444444,
              "#bd3786"
             ],
             [
              0.5555555555555556,
              "#d8576b"
             ],
             [
              0.6666666666666666,
              "#ed7953"
             ],
             [
              0.7777777777777778,
              "#fb9f3a"
             ],
             [
              0.8888888888888888,
              "#fdca26"
             ],
             [
              1,
              "#f0f921"
             ]
            ],
            "type": "surface"
           }
          ],
          "table": [
           {
            "cells": {
             "fill": {
              "color": "#EBF0F8"
             },
             "line": {
              "color": "white"
             }
            },
            "header": {
             "fill": {
              "color": "#C8D4E3"
             },
             "line": {
              "color": "white"
             }
            },
            "type": "table"
           }
          ]
         },
         "layout": {
          "annotationdefaults": {
           "arrowcolor": "#2a3f5f",
           "arrowhead": 0,
           "arrowwidth": 1
          },
          "autotypenumbers": "strict",
          "coloraxis": {
           "colorbar": {
            "outlinewidth": 0,
            "ticks": ""
           }
          },
          "colorscale": {
           "diverging": [
            [
             0,
             "#8e0152"
            ],
            [
             0.1,
             "#c51b7d"
            ],
            [
             0.2,
             "#de77ae"
            ],
            [
             0.3,
             "#f1b6da"
            ],
            [
             0.4,
             "#fde0ef"
            ],
            [
             0.5,
             "#f7f7f7"
            ],
            [
             0.6,
             "#e6f5d0"
            ],
            [
             0.7,
             "#b8e186"
            ],
            [
             0.8,
             "#7fbc41"
            ],
            [
             0.9,
             "#4d9221"
            ],
            [
             1,
             "#276419"
            ]
           ],
           "sequential": [
            [
             0,
             "#0d0887"
            ],
            [
             0.1111111111111111,
             "#46039f"
            ],
            [
             0.2222222222222222,
             "#7201a8"
            ],
            [
             0.3333333333333333,
             "#9c179e"
            ],
            [
             0.4444444444444444,
             "#bd3786"
            ],
            [
             0.5555555555555556,
             "#d8576b"
            ],
            [
             0.6666666666666666,
             "#ed7953"
            ],
            [
             0.7777777777777778,
             "#fb9f3a"
            ],
            [
             0.8888888888888888,
             "#fdca26"
            ],
            [
             1,
             "#f0f921"
            ]
           ],
           "sequentialminus": [
            [
             0,
             "#0d0887"
            ],
            [
             0.1111111111111111,
             "#46039f"
            ],
            [
             0.2222222222222222,
             "#7201a8"
            ],
            [
             0.3333333333333333,
             "#9c179e"
            ],
            [
             0.4444444444444444,
             "#bd3786"
            ],
            [
             0.5555555555555556,
             "#d8576b"
            ],
            [
             0.6666666666666666,
             "#ed7953"
            ],
            [
             0.7777777777777778,
             "#fb9f3a"
            ],
            [
             0.8888888888888888,
             "#fdca26"
            ],
            [
             1,
             "#f0f921"
            ]
           ]
          },
          "colorway": [
           "#636efa",
           "#EF553B",
           "#00cc96",
           "#ab63fa",
           "#FFA15A",
           "#19d3f3",
           "#FF6692",
           "#B6E880",
           "#FF97FF",
           "#FECB52"
          ],
          "font": {
           "color": "#2a3f5f"
          },
          "geo": {
           "bgcolor": "white",
           "lakecolor": "white",
           "landcolor": "#E5ECF6",
           "showlakes": true,
           "showland": true,
           "subunitcolor": "white"
          },
          "hoverlabel": {
           "align": "left"
          },
          "hovermode": "closest",
          "mapbox": {
           "style": "light"
          },
          "paper_bgcolor": "white",
          "plot_bgcolor": "#E5ECF6",
          "polar": {
           "angularaxis": {
            "gridcolor": "white",
            "linecolor": "white",
            "ticks": ""
           },
           "bgcolor": "#E5ECF6",
           "radialaxis": {
            "gridcolor": "white",
            "linecolor": "white",
            "ticks": ""
           }
          },
          "scene": {
           "xaxis": {
            "backgroundcolor": "#E5ECF6",
            "gridcolor": "white",
            "gridwidth": 2,
            "linecolor": "white",
            "showbackground": true,
            "ticks": "",
            "zerolinecolor": "white"
           },
           "yaxis": {
            "backgroundcolor": "#E5ECF6",
            "gridcolor": "white",
            "gridwidth": 2,
            "linecolor": "white",
            "showbackground": true,
            "ticks": "",
            "zerolinecolor": "white"
           },
           "zaxis": {
            "backgroundcolor": "#E5ECF6",
            "gridcolor": "white",
            "gridwidth": 2,
            "linecolor": "white",
            "showbackground": true,
            "ticks": "",
            "zerolinecolor": "white"
           }
          },
          "shapedefaults": {
           "line": {
            "color": "#2a3f5f"
           }
          },
          "ternary": {
           "aaxis": {
            "gridcolor": "white",
            "linecolor": "white",
            "ticks": ""
           },
           "baxis": {
            "gridcolor": "white",
            "linecolor": "white",
            "ticks": ""
           },
           "bgcolor": "#E5ECF6",
           "caxis": {
            "gridcolor": "white",
            "linecolor": "white",
            "ticks": ""
           }
          },
          "title": {
           "x": 0.05
          },
          "xaxis": {
           "automargin": true,
           "gridcolor": "white",
           "linecolor": "white",
           "ticks": "",
           "title": {
            "standoff": 15
           },
           "zerolinecolor": "white",
           "zerolinewidth": 2
          },
          "yaxis": {
           "automargin": true,
           "gridcolor": "white",
           "linecolor": "white",
           "ticks": "",
           "title": {
            "standoff": 15
           },
           "zerolinecolor": "white",
           "zerolinewidth": 2
          }
         }
        },
        "title": {
         "text": "Parallel Coordinate Plot"
        }
       }
      }
     },
     "metadata": {},
     "output_type": "display_data"
    }
   ],
   "source": [
    "optuna.visualization.plot_parallel_coordinate(study)"
   ]
  },
  {
   "cell_type": "code",
   "execution_count": 30,
   "id": "75db1ddf",
   "metadata": {},
   "outputs": [
    {
     "name": "stdout",
     "output_type": "stream",
     "text": [
      "Best trial: {'n_estimators': 143, 'max_depth': 25, 'min_samples_leaf': 10, 'min_samples_split': 7, 'subsample': 0.4874640828701753}\n"
     ]
    }
   ],
   "source": [
    "print(\"Best trial:\", study.best_trial.params)"
   ]
  },
  {
   "cell_type": "code",
   "execution_count": 31,
   "id": "574699dc",
   "metadata": {},
   "outputs": [
    {
     "data": {
      "text/plain": [
       "143"
      ]
     },
     "execution_count": 31,
     "metadata": {},
     "output_type": "execute_result"
    }
   ],
   "source": [
    "study.best_trial.params[\"n_estimators\"]"
   ]
  },
  {
   "cell_type": "code",
   "execution_count": 32,
   "id": "862eadd2",
   "metadata": {},
   "outputs": [
    {
     "data": {
      "text/html": [
       "<style>#sk-container-id-1 {color: black;}#sk-container-id-1 pre{padding: 0;}#sk-container-id-1 div.sk-toggleable {background-color: white;}#sk-container-id-1 label.sk-toggleable__label {cursor: pointer;display: block;width: 100%;margin-bottom: 0;padding: 0.3em;box-sizing: border-box;text-align: center;}#sk-container-id-1 label.sk-toggleable__label-arrow:before {content: \"▸\";float: left;margin-right: 0.25em;color: #696969;}#sk-container-id-1 label.sk-toggleable__label-arrow:hover:before {color: black;}#sk-container-id-1 div.sk-estimator:hover label.sk-toggleable__label-arrow:before {color: black;}#sk-container-id-1 div.sk-toggleable__content {max-height: 0;max-width: 0;overflow: hidden;text-align: left;background-color: #f0f8ff;}#sk-container-id-1 div.sk-toggleable__content pre {margin: 0.2em;color: black;border-radius: 0.25em;background-color: #f0f8ff;}#sk-container-id-1 input.sk-toggleable__control:checked~div.sk-toggleable__content {max-height: 200px;max-width: 100%;overflow: auto;}#sk-container-id-1 input.sk-toggleable__control:checked~label.sk-toggleable__label-arrow:before {content: \"▾\";}#sk-container-id-1 div.sk-estimator input.sk-toggleable__control:checked~label.sk-toggleable__label {background-color: #d4ebff;}#sk-container-id-1 div.sk-label input.sk-toggleable__control:checked~label.sk-toggleable__label {background-color: #d4ebff;}#sk-container-id-1 input.sk-hidden--visually {border: 0;clip: rect(1px 1px 1px 1px);clip: rect(1px, 1px, 1px, 1px);height: 1px;margin: -1px;overflow: hidden;padding: 0;position: absolute;width: 1px;}#sk-container-id-1 div.sk-estimator {font-family: monospace;background-color: #f0f8ff;border: 1px dotted black;border-radius: 0.25em;box-sizing: border-box;margin-bottom: 0.5em;}#sk-container-id-1 div.sk-estimator:hover {background-color: #d4ebff;}#sk-container-id-1 div.sk-parallel-item::after {content: \"\";width: 100%;border-bottom: 1px solid gray;flex-grow: 1;}#sk-container-id-1 div.sk-label:hover label.sk-toggleable__label {background-color: #d4ebff;}#sk-container-id-1 div.sk-serial::before {content: \"\";position: absolute;border-left: 1px solid gray;box-sizing: border-box;top: 0;bottom: 0;left: 50%;z-index: 0;}#sk-container-id-1 div.sk-serial {display: flex;flex-direction: column;align-items: center;background-color: white;padding-right: 0.2em;padding-left: 0.2em;position: relative;}#sk-container-id-1 div.sk-item {position: relative;z-index: 1;}#sk-container-id-1 div.sk-parallel {display: flex;align-items: stretch;justify-content: center;background-color: white;position: relative;}#sk-container-id-1 div.sk-item::before, #sk-container-id-1 div.sk-parallel-item::before {content: \"\";position: absolute;border-left: 1px solid gray;box-sizing: border-box;top: 0;bottom: 0;left: 50%;z-index: -1;}#sk-container-id-1 div.sk-parallel-item {display: flex;flex-direction: column;z-index: 1;position: relative;background-color: white;}#sk-container-id-1 div.sk-parallel-item:first-child::after {align-self: flex-end;width: 50%;}#sk-container-id-1 div.sk-parallel-item:last-child::after {align-self: flex-start;width: 50%;}#sk-container-id-1 div.sk-parallel-item:only-child::after {width: 0;}#sk-container-id-1 div.sk-dashed-wrapped {border: 1px dashed gray;margin: 0 0.4em 0.5em 0.4em;box-sizing: border-box;padding-bottom: 0.4em;background-color: white;}#sk-container-id-1 div.sk-label label {font-family: monospace;font-weight: bold;display: inline-block;line-height: 1.2em;}#sk-container-id-1 div.sk-label-container {text-align: center;}#sk-container-id-1 div.sk-container {/* jupyter's `normalize.less` sets `[hidden] { display: none; }` but bootstrap.min.css set `[hidden] { display: none !important; }` so we also need the `!important` here to be able to override the default hidden behavior on the sphinx rendered scikit-learn.org. See: https://github.com/scikit-learn/scikit-learn/issues/21755 */display: inline-block !important;position: relative;}#sk-container-id-1 div.sk-text-repr-fallback {display: none;}</style><div id=\"sk-container-id-1\" class=\"sk-top-container\"><div class=\"sk-text-repr-fallback\"><pre>GradientBoostingRegressor(max_depth=25, min_samples_leaf=10,\n",
       "                          min_samples_split=7, n_estimators=143,\n",
       "                          random_state=42, subsample=0.4874640828701753)</pre><b>In a Jupyter environment, please rerun this cell to show the HTML representation or trust the notebook. <br />On GitHub, the HTML representation is unable to render, please try loading this page with nbviewer.org.</b></div><div class=\"sk-container\" hidden><div class=\"sk-item\"><div class=\"sk-estimator sk-toggleable\"><input class=\"sk-toggleable__control sk-hidden--visually\" id=\"sk-estimator-id-1\" type=\"checkbox\" checked><label for=\"sk-estimator-id-1\" class=\"sk-toggleable__label sk-toggleable__label-arrow\">GradientBoostingRegressor</label><div class=\"sk-toggleable__content\"><pre>GradientBoostingRegressor(max_depth=25, min_samples_leaf=10,\n",
       "                          min_samples_split=7, n_estimators=143,\n",
       "                          random_state=42, subsample=0.4874640828701753)</pre></div></div></div></div></div>"
      ],
      "text/plain": [
       "GradientBoostingRegressor(max_depth=25, min_samples_leaf=10,\n",
       "                          min_samples_split=7, n_estimators=143,\n",
       "                          random_state=42, subsample=0.4874640828701753)"
      ]
     },
     "execution_count": 32,
     "metadata": {},
     "output_type": "execute_result"
    }
   ],
   "source": [
    "gb_params = {\n",
    "    \"random_state\": 42,\n",
    "    \"learning_rate\": 0.1,\n",
    "    \"n_estimators\": study.best_trial.params[\"n_estimators\"],\n",
    "    \"max_depth\": study.best_trial.params[\"max_depth\"],\n",
    "    \"min_samples_leaf\": study.best_trial.params[\"min_samples_leaf\"],\n",
    "    \"min_samples_split\": study.best_trial.params[\"min_samples_split\"],\n",
    "    \"subsample\": study.best_trial.params[\"subsample\"]\n",
    "}\n",
    "\n",
    "gb = GradientBoostingRegressor(**gb_params)\n",
    "gb.fit(As_X_train, As_y_train)"
   ]
  },
  {
   "cell_type": "code",
   "execution_count": 33,
   "id": "2be83ec7",
   "metadata": {},
   "outputs": [],
   "source": [
    "# gb_params = {\n",
    "#     \"random_state\": 42,\n",
    "#     \"learning_rate\": 0.1,\n",
    "#     \"n_estimators\": 100,\n",
    "#     \"max_depth\": 2,\n",
    "#     \"min_samples_leaf\": 8,\n",
    "#     \"min_samples_split\": 2,\n",
    "#     \"subsample\": 0.35775273871202684\n",
    "# }\n",
    "\n",
    "# gb = GradientBoostingRegressor(**gb_params)\n",
    "# gb.fit(As_X_train, As_y_train)"
   ]
  },
  {
   "cell_type": "code",
   "execution_count": 34,
   "id": "8577fb37",
   "metadata": {},
   "outputs": [],
   "source": [
    "y_train_pred = gb.predict(As_X_train)\n",
    "y_test_pred = gb.predict(As_X_test)"
   ]
  },
  {
   "cell_type": "code",
   "execution_count": 35,
   "id": "2ea0526a",
   "metadata": {},
   "outputs": [
    {
     "data": {
      "text/plain": [
       "<matplotlib.collections.PathCollection at 0x27c6fb4bdf0>"
      ]
     },
     "execution_count": 35,
     "metadata": {},
     "output_type": "execute_result"
    },
    {
     "data": {
      "image/png": "[encoded data removed]",
      "text/plain": [
       "<Figure size 640x480 with 1 Axes>"
      ]
     },
     "metadata": {},
     "output_type": "display_data"
    }
   ],
   "source": [
    "plt.scatter(y_train_pred, np.array(As_y_train))"
   ]
  },
  {
   "cell_type": "code",
   "execution_count": 36,
   "id": "d2a4dd85",
   "metadata": {},
   "outputs": [
    {
     "name": "stdout",
     "output_type": "stream",
     "text": [
      "Train RMSE:  0.13606796194668427\n",
      "Test RMSE:  0.7540488636259038\n"
     ]
    }
   ],
   "source": [
    "print(\"Train RMSE: \", np.sqrt(mean_squared_error(As_y_train, y_train_pred)))\n",
    "print(\"Test RMSE: \", np.sqrt(mean_squared_error(As_y_test, y_test_pred)))"
   ]
  },
  {
   "cell_type": "code",
   "execution_count": 37,
   "id": "08fe787a",
   "metadata": {},
   "outputs": [
    {
     "name": "stdout",
     "output_type": "stream",
     "text": [
      "Train R2:  0.9664166997530226\n",
      "Test R2:  0.162765975754672\n"
     ]
    }
   ],
   "source": [
    "print(\"Train R2: \", r2_score(As_y_train, y_train_pred))\n",
    "print(\"Test R2: \", r2_score(As_y_test, y_test_pred))"
   ]
  },
  {
   "cell_type": "code",
   "execution_count": 38,
   "id": "5ec4820c",
   "metadata": {},
   "outputs": [
    {
     "data": {
      "image/png": "[encoded data removed]",
      "text/plain": [
       "<Figure size 640x480 with 1 Axes>"
      ]
     },
     "metadata": {},
     "output_type": "display_data"
    }
   ],
   "source": [
    "import matplotlib.pyplot as plt\n",
    "\n",
    "plt.scatter(y_train_pred, np.array(As_y_train), color=\"orange\", alpha=0.3)\n",
    "plt.scatter(y_test_pred, np.array(As_y_test), color=\"green\", alpha=0.4)\n",
    "plt.axis(\"auto\") # scaled, tight, auto, image, square\n",
    "# plt.xlim([0, 1.5]) \n",
    "# plt.ylim(0, None) \n",
    "plt.xlabel('Predicted Values')\n",
    "plt.ylabel('Actual Values')\n",
    "\n",
    "# Add trendline\n",
    "# z = np.polyfit(y_train_pred, As_y_train, 1)\n",
    "# p = np.poly1d(z)\n",
    "# plt.plot(y_train_pred, p(y_train_pred), color='red', linestyle='-')\n",
    "\n",
    "# Add y=x line\n",
    "plt.plot([0, 1.75], [0, 1.75], color='red', linestyle='-')\n",
    "\n",
    "plt.show()"
   ]
  },
  {
   "cell_type": "code",
   "execution_count": 39,
   "id": "a08d5dc7",
   "metadata": {},
   "outputs": [],
   "source": [
    "# import shap\n",
    "\n",
    "# #background = shap.sample(As_X_train, 100)  # Adjust the number of samples as needed\n",
    "\n",
    "# explainer = shap.KernelExplainer(gb.predict, As_X_train)\n",
    "# shap_values = explainer.shap_values(As_X_train)\n",
    "\n",
    "# shap.summary_plot(shap_values, As_X_train)\n",
    "\n",
    "# shap.force_plot(explainer.expected_value, shap_values[0], As_X_train[0])\n",
    "\n",
    "# print(shap_values)"
   ]
  },
  {
   "attachments": {},
   "cell_type": "markdown",
   "id": "e0507d63",
   "metadata": {},
   "source": [
    "Cd"
   ]
  },
  {
   "attachments": {},
   "cell_type": "markdown",
   "id": "f8f809d9",
   "metadata": {},
   "source": [
    "Optimization"
   ]
  },
  {
   "cell_type": "code",
   "execution_count": 40,
   "id": "b7aeaf0a",
   "metadata": {},
   "outputs": [
    {
     "name": "stderr",
     "output_type": "stream",
     "text": [
      "\u001b[32m[I 2023-08-24 13:30:50,129]\u001b[0m A new study created in memory with name: gb_parameter_opt\u001b[0m\n",
      "\u001b[32m[I 2023-08-24 13:30:51,894]\u001b[0m Trial 0 finished with value: 0.6300664255507054 and parameters: {'n_estimators': 125, 'max_depth': 17, 'min_samples_leaf': 10, 'min_samples_split': 5, 'subsample': 0.2563486843608043}. Best is trial 0 with value: 0.6300664255507054.\u001b[0m\n",
      "\u001b[32m[I 2023-08-24 13:30:57,991]\u001b[0m Trial 1 finished with value: 0.6377627568604024 and parameters: {'n_estimators': 184, 'max_depth': 13, 'min_samples_leaf': 7, 'min_samples_split': 4, 'subsample': 0.4394370989705172}. Best is trial 1 with value: 0.6377627568604024.\u001b[0m\n",
      "\u001b[32m[I 2023-08-24 13:31:00,027]\u001b[0m Trial 2 finished with value: 0.6467079712680304 and parameters: {'n_estimators': 131, 'max_depth': 4, 'min_samples_leaf': 4, 'min_samples_split': 10, 'subsample': 0.42304504123210895}. Best is trial 2 with value: 0.6467079712680304.\u001b[0m\n",
      "\u001b[32m[I 2023-08-24 13:31:01,106]\u001b[0m Trial 3 finished with value: 0.5858211339051257 and parameters: {'n_estimators': 104, 'max_depth': 4, 'min_samples_leaf': 1, 'min_samples_split': 6, 'subsample': 0.24394046309622586}. Best is trial 2 with value: 0.6467079712680304.\u001b[0m\n",
      "\u001b[32m[I 2023-08-24 13:31:05,784]\u001b[0m Trial 4 finished with value: 0.6348029503985039 and parameters: {'n_estimators': 154, 'max_depth': 12, 'min_samples_leaf': 4, 'min_samples_split': 2, 'subsample': 0.3745778013747767}. Best is trial 2 with value: 0.6467079712680304.\u001b[0m\n",
      "\u001b[32m[I 2023-08-24 13:31:11,254]\u001b[0m Trial 5 finished with value: 0.6285233524809934 and parameters: {'n_estimators': 157, 'max_depth': 13, 'min_samples_leaf': 8, 'min_samples_split': 4, 'subsample': 0.48752812075187124}. Best is trial 2 with value: 0.6467079712680304.\u001b[0m\n",
      "\u001b[32m[I 2023-08-24 13:31:16,513]\u001b[0m Trial 6 finished with value: 0.6326624317670767 and parameters: {'n_estimators': 167, 'max_depth': 11, 'min_samples_leaf': 7, 'min_samples_split': 9, 'subsample': 0.45519056529120483}. Best is trial 2 with value: 0.6467079712680304.\u001b[0m\n",
      "\u001b[32m[I 2023-08-24 13:31:20,136]\u001b[0m Trial 7 finished with value: 0.6390053164734016 and parameters: {'n_estimators': 110, 'max_depth': 13, 'min_samples_leaf': 9, 'min_samples_split': 8, 'subsample': 0.4855277833751236}. Best is trial 2 with value: 0.6467079712680304.\u001b[0m\n",
      "\u001b[32m[I 2023-08-24 13:31:21,154]\u001b[0m Trial 8 finished with value: 0.5605286159252493 and parameters: {'n_estimators': 137, 'max_depth': 4, 'min_samples_leaf': 1, 'min_samples_split': 5, 'subsample': 0.14060022554925924}. Best is trial 2 with value: 0.6467079712680304.\u001b[0m\n",
      "\u001b[32m[I 2023-08-24 13:31:23,156]\u001b[0m Trial 9 finished with value: 0.6263811996430056 and parameters: {'n_estimators': 103, 'max_depth': 28, 'min_samples_leaf': 8, 'min_samples_split': 9, 'subsample': 0.28019246776960294}. Best is trial 2 with value: 0.6467079712680304.\u001b[0m\n",
      "\u001b[32m[I 2023-08-24 13:31:23,861]\u001b[0m Trial 10 finished with value: 0.5086527442576568 and parameters: {'n_estimators': 134, 'max_depth': 1, 'min_samples_leaf': 4, 'min_samples_split': 10, 'subsample': 0.3586315005341601}. Best is trial 2 with value: 0.6467079712680304.\u001b[0m\n",
      "\u001b[32m[I 2023-08-24 13:31:28,146]\u001b[0m Trial 11 finished with value: 0.6272535534789647 and parameters: {'n_estimators': 118, 'max_depth': 21, 'min_samples_leaf': 4, 'min_samples_split': 8, 'subsample': 0.3925908282976129}. Best is trial 2 with value: 0.6467079712680304.\u001b[0m\n",
      "\u001b[32m[I 2023-08-24 13:31:30,834]\u001b[0m Trial 12 finished with value: 0.6456537150711734 and parameters: {'n_estimators': 117, 'max_depth': 8, 'min_samples_leaf': 10, 'min_samples_split': 8, 'subsample': 0.4289955637132885}. Best is trial 2 with value: 0.6467079712680304.\u001b[0m\n",
      "\u001b[32m[I 2023-08-24 13:31:33,410]\u001b[0m Trial 13 finished with value: 0.6285985379205179 and parameters: {'n_estimators': 138, 'max_depth': 7, 'min_samples_leaf': 5, 'min_samples_split': 10, 'subsample': 0.3241926739802583}. Best is trial 2 with value: 0.6467079712680304.\u001b[0m\n",
      "\u001b[32m[I 2023-08-24 13:31:36,567]\u001b[0m Trial 14 finished with value: 0.6458786987123611 and parameters: {'n_estimators': 124, 'max_depth': 7, 'min_samples_leaf': 2, 'min_samples_split': 7, 'subsample': 0.42488063735189546}. Best is trial 2 with value: 0.6467079712680304.\u001b[0m\n",
      "\u001b[32m[I 2023-08-24 13:31:37,093]\u001b[0m Trial 15 finished with value: 0.5002528808029686 and parameters: {'n_estimators': 145, 'max_depth': 1, 'min_samples_leaf': 2, 'min_samples_split': 7, 'subsample': 0.1787864088646101}. Best is trial 2 with value: 0.6467079712680304.\u001b[0m\n",
      "\u001b[32m[I 2023-08-24 13:31:41,014]\u001b[0m Trial 16 finished with value: 0.6305748574981312 and parameters: {'n_estimators': 127, 'max_depth': 19, 'min_samples_leaf': 3, 'min_samples_split': 2, 'subsample': 0.3158633284981268}. Best is trial 2 with value: 0.6467079712680304.\u001b[0m\n",
      "\u001b[32m[I 2023-08-24 13:31:45,857]\u001b[0m Trial 17 finished with value: 0.6318409568652653 and parameters: {'n_estimators': 199, 'max_depth': 7, 'min_samples_leaf': 2, 'min_samples_split': 6, 'subsample': 0.40245756731058907}. Best is trial 2 with value: 0.6467079712680304.\u001b[0m\n",
      "\u001b[32m[I 2023-08-24 13:31:50,579]\u001b[0m Trial 18 finished with value: 0.6257488508621429 and parameters: {'n_estimators': 169, 'max_depth': 29, 'min_samples_leaf': 6, 'min_samples_split': 7, 'subsample': 0.35819605798985665}. Best is trial 2 with value: 0.6467079712680304.\u001b[0m\n",
      "\u001b[32m[I 2023-08-24 13:31:53,445]\u001b[0m Trial 19 finished with value: 0.6175503724778307 and parameters: {'n_estimators': 147, 'max_depth': 24, 'min_samples_leaf': 3, 'min_samples_split': 9, 'subsample': 0.2220193660005975}. Best is trial 2 with value: 0.6467079712680304.\u001b[0m\n",
      "\u001b[32m[I 2023-08-24 13:31:56,257]\u001b[0m Trial 20 finished with value: 0.6388558589811348 and parameters: {'n_estimators': 127, 'max_depth': 5, 'min_samples_leaf': 5, 'min_samples_split': 10, 'subsample': 0.49797169969009764}. Best is trial 2 with value: 0.6467079712680304.\u001b[0m\n",
      "\u001b[32m[I 2023-08-24 13:31:59,844]\u001b[0m Trial 21 finished with value: 0.6376335724668125 and parameters: {'n_estimators': 117, 'max_depth': 9, 'min_samples_leaf': 3, 'min_samples_split': 8, 'subsample': 0.4297162906367137}. Best is trial 2 with value: 0.6467079712680304.\u001b[0m\n",
      "\u001b[32m[I 2023-08-24 13:32:02,605]\u001b[0m Trial 22 finished with value: 0.6307385046736504 and parameters: {'n_estimators': 117, 'max_depth': 9, 'min_samples_leaf': 10, 'min_samples_split': 7, 'subsample': 0.4121398567311358}. Best is trial 2 with value: 0.6467079712680304.\u001b[0m\n",
      "\u001b[32m[I 2023-08-24 13:32:05,209]\u001b[0m Trial 23 finished with value: 0.6477907311683195 and parameters: {'n_estimators': 111, 'max_depth': 6, 'min_samples_leaf': 2, 'min_samples_split': 9, 'subsample': 0.45041343744914963}. Best is trial 23 with value: 0.6477907311683195.\u001b[0m\n",
      "\u001b[32m[I 2023-08-24 13:32:06,542]\u001b[0m Trial 24 finished with value: 0.61977738433577 and parameters: {'n_estimators': 100, 'max_depth': 3, 'min_samples_leaf': 2, 'min_samples_split': 9, 'subsample': 0.46036236349358833}. Best is trial 23 with value: 0.6477907311683195.\u001b[0m\n",
      "\u001b[32m[I 2023-08-24 13:32:08,603]\u001b[0m Trial 25 finished with value: 0.6060546535990918 and parameters: {'n_estimators': 111, 'max_depth': 6, 'min_samples_leaf': 1, 'min_samples_split': 10, 'subsample': 0.33841472988033144}. Best is trial 23 with value: 0.6477907311683195.\u001b[0m\n",
      "\u001b[32m[I 2023-08-24 13:32:13,729]\u001b[0m Trial 26 finished with value: 0.6306155810281424 and parameters: {'n_estimators': 131, 'max_depth': 16, 'min_samples_leaf': 2, 'min_samples_split': 9, 'subsample': 0.38855094126676093}. Best is trial 23 with value: 0.6477907311683195.\u001b[0m\n",
      "\u001b[32m[I 2023-08-24 13:32:18,060]\u001b[0m Trial 27 finished with value: 0.634912523207113 and parameters: {'n_estimators': 124, 'max_depth': 10, 'min_samples_leaf': 3, 'min_samples_split': 6, 'subsample': 0.455366342669081}. Best is trial 23 with value: 0.6477907311683195.\u001b[0m\n",
      "\u001b[32m[I 2023-08-24 13:32:19,432]\u001b[0m Trial 28 finished with value: 0.5861778778746667 and parameters: {'n_estimators': 140, 'max_depth': 2, 'min_samples_leaf': 4, 'min_samples_split': 10, 'subsample': 0.4749010704302352}. Best is trial 23 with value: 0.6477907311683195.\u001b[0m\n",
      "\u001b[32m[I 2023-08-24 13:32:21,115]\u001b[0m Trial 29 finished with value: 0.6274226872517739 and parameters: {'n_estimators': 122, 'max_depth': 5, 'min_samples_leaf': 5, 'min_samples_split': 7, 'subsample': 0.2994385290733816}. Best is trial 23 with value: 0.6477907311683195.\u001b[0m\n",
      "\u001b[32m[I 2023-08-24 13:32:25,774]\u001b[0m Trial 30 finished with value: 0.6209107603555848 and parameters: {'n_estimators': 110, 'max_depth': 15, 'min_samples_leaf': 2, 'min_samples_split': 8, 'subsample': 0.4151993799419365}. Best is trial 23 with value: 0.6477907311683195.\u001b[0m\n",
      "\u001b[32m[I 2023-08-24 13:32:28,426]\u001b[0m Trial 31 finished with value: 0.639052276060552 and parameters: {'n_estimators': 112, 'max_depth': 8, 'min_samples_leaf': 10, 'min_samples_split': 8, 'subsample': 0.42834676948215644}. Best is trial 23 with value: 0.6477907311683195.\u001b[0m\n",
      "\u001b[32m[I 2023-08-24 13:32:31,616]\u001b[0m Trial 32 finished with value: 0.6397755929179898 and parameters: {'n_estimators': 129, 'max_depth': 7, 'min_samples_leaf': 6, 'min_samples_split': 9, 'subsample': 0.44656987970806433}. Best is trial 23 with value: 0.6477907311683195.\u001b[0m\n",
      "\u001b[32m[I 2023-08-24 13:32:32,947]\u001b[0m Trial 33 finished with value: 0.6066368945681246 and parameters: {'n_estimators': 121, 'max_depth': 3, 'min_samples_leaf': 1, 'min_samples_split': 8, 'subsample': 0.35932459501488867}. Best is trial 23 with value: 0.6477907311683195.\u001b[0m\n",
      "\u001b[32m[I 2023-08-24 13:32:36,658]\u001b[0m Trial 34 finished with value: 0.6261551649161362 and parameters: {'n_estimators': 106, 'max_depth': 11, 'min_samples_leaf': 3, 'min_samples_split': 7, 'subsample': 0.4340838556472398}. Best is trial 23 with value: 0.6477907311683195.\u001b[0m\n",
      "\u001b[32m[I 2023-08-24 13:32:38,520]\u001b[0m Trial 35 finished with value: 0.6260808036688538 and parameters: {'n_estimators': 117, 'max_depth': 5, 'min_samples_leaf': 9, 'min_samples_split': 5, 'subsample': 0.3748967257864689}. Best is trial 23 with value: 0.6477907311683195.\u001b[0m\n",
      "\u001b[32m[I 2023-08-24 13:32:42,737]\u001b[0m Trial 36 finished with value: 0.6377709015249458 and parameters: {'n_estimators': 152, 'max_depth': 8, 'min_samples_leaf': 7, 'min_samples_split': 9, 'subsample': 0.4703852353253565}. Best is trial 23 with value: 0.6477907311683195.\u001b[0m\n",
      "\u001b[32m[I 2023-08-24 13:32:47,936]\u001b[0m Trial 37 finished with value: 0.629070519659346 and parameters: {'n_estimators': 141, 'max_depth': 14, 'min_samples_leaf': 4, 'min_samples_split': 6, 'subsample': 0.41904712268508054}. Best is trial 23 with value: 0.6477907311683195.\u001b[0m\n",
      "\u001b[32m[I 2023-08-24 13:32:49,414]\u001b[0m Trial 38 finished with value: 0.5413985695829036 and parameters: {'n_estimators': 133, 'max_depth': 11, 'min_samples_leaf': 1, 'min_samples_split': 3, 'subsample': 0.10232460622653047}. Best is trial 23 with value: 0.6477907311683195.\u001b[0m\n",
      "\u001b[32m[I 2023-08-24 13:32:50,619]\u001b[0m Trial 39 finished with value: 0.606667567556371 and parameters: {'n_estimators': 107, 'max_depth': 3, 'min_samples_leaf': 8, 'min_samples_split': 8, 'subsample': 0.38493950412601485}. Best is trial 23 with value: 0.6477907311683195.\u001b[0m\n",
      "\u001b[32m[I 2023-08-24 13:32:54,387]\u001b[0m Trial 40 finished with value: 0.6300543223632473 and parameters: {'n_estimators': 113, 'max_depth': 12, 'min_samples_leaf': 9, 'min_samples_split': 10, 'subsample': 0.4921698467723996}. Best is trial 23 with value: 0.6477907311683195.\u001b[0m\n",
      "\u001b[32m[I 2023-08-24 13:32:57,427]\u001b[0m Trial 41 finished with value: 0.6513375112427813 and parameters: {'n_estimators': 131, 'max_depth': 6, 'min_samples_leaf': 6, 'min_samples_split': 9, 'subsample': 0.45370826137476833}. Best is trial 41 with value: 0.6513375112427813.\u001b[0m\n",
      "\u001b[32m[I 2023-08-24 13:33:00,952]\u001b[0m Trial 42 finished with value: 0.6489100745569573 and parameters: {'n_estimators': 157, 'max_depth': 6, 'min_samples_leaf': 6, 'min_samples_split': 9, 'subsample': 0.45385844216897675}. Best is trial 41 with value: 0.6513375112427813.\u001b[0m\n",
      "\u001b[32m[I 2023-08-24 13:33:03,597]\u001b[0m Trial 43 finished with value: 0.6430017067682565 and parameters: {'n_estimators': 165, 'max_depth': 4, 'min_samples_leaf': 6, 'min_samples_split': 9, 'subsample': 0.44469816311959187}. Best is trial 41 with value: 0.6513375112427813.\u001b[0m\n",
      "\u001b[32m[I 2023-08-24 13:33:07,429]\u001b[0m Trial 44 finished with value: 0.637633733491598 and parameters: {'n_estimators': 164, 'max_depth': 6, 'min_samples_leaf': 6, 'min_samples_split': 10, 'subsample': 0.47325634500980035}. Best is trial 41 with value: 0.6513375112427813.\u001b[0m\n",
      "\u001b[32m[I 2023-08-24 13:33:08,373]\u001b[0m Trial 45 finished with value: 0.5219895547145708 and parameters: {'n_estimators': 160, 'max_depth': 1, 'min_samples_leaf': 7, 'min_samples_split': 4, 'subsample': 0.4597449548284089}. Best is trial 41 with value: 0.6513375112427813.\u001b[0m\n",
      "\u001b[32m[I 2023-08-24 13:33:11,907]\u001b[0m Trial 46 finished with value: 0.6417917347688794 and parameters: {'n_estimators': 173, 'max_depth': 6, 'min_samples_leaf': 5, 'min_samples_split': 9, 'subsample': 0.40233155348600314}. Best is trial 41 with value: 0.6513375112427813.\u001b[0m\n",
      "\u001b[32m[I 2023-08-24 13:33:16,783]\u001b[0m Trial 47 finished with value: 0.6366674728443785 and parameters: {'n_estimators': 157, 'max_depth': 9, 'min_samples_leaf': 7, 'min_samples_split': 10, 'subsample': 0.4862877302668535}. Best is trial 41 with value: 0.6513375112427813.\u001b[0m\n",
      "\u001b[32m[I 2023-08-24 13:33:19,577]\u001b[0m Trial 48 finished with value: 0.6538377487775451 and parameters: {'n_estimators': 177, 'max_depth': 4, 'min_samples_leaf': 4, 'min_samples_split': 9, 'subsample': 0.4438174040910409}. Best is trial 48 with value: 0.6538377487775451.\u001b[0m\n",
      "\u001b[32m[I 2023-08-24 13:33:21,264]\u001b[0m Trial 49 finished with value: 0.6100129810079526 and parameters: {'n_estimators': 185, 'max_depth': 2, 'min_samples_leaf': 5, 'min_samples_split': 9, 'subsample': 0.4470273206871527}. Best is trial 48 with value: 0.6538377487775451.\u001b[0m\n",
      "\u001b[32m[I 2023-08-24 13:33:23,003]\u001b[0m Trial 50 finished with value: 0.619625431842647 and parameters: {'n_estimators': 180, 'max_depth': 4, 'min_samples_leaf': 4, 'min_samples_split': 10, 'subsample': 0.2421888547548594}. Best is trial 48 with value: 0.6538377487775451.\u001b[0m\n",
      "\u001b[32m[I 2023-08-24 13:33:25,919]\u001b[0m Trial 51 finished with value: 0.6432744006500993 and parameters: {'n_estimators': 148, 'max_depth': 5, 'min_samples_leaf': 6, 'min_samples_split': 8, 'subsample': 0.47268555932195}. Best is trial 48 with value: 0.6538377487775451.\u001b[0m\n",
      "\u001b[32m[I 2023-08-24 13:33:30,330]\u001b[0m Trial 52 finished with value: 0.6376436103414419 and parameters: {'n_estimators': 195, 'max_depth': 7, 'min_samples_leaf': 4, 'min_samples_split': 9, 'subsample': 0.40008728166071506}. Best is trial 48 with value: 0.6538377487775451.\u001b[0m\n",
      "\u001b[32m[I 2023-08-24 13:33:31,547]\u001b[0m Trial 53 finished with value: 0.584609221894059 and parameters: {'n_estimators': 136, 'max_depth': 2, 'min_samples_leaf': 3, 'min_samples_split': 9, 'subsample': 0.43722331415415533}. Best is trial 48 with value: 0.6538377487775451.\u001b[0m\n",
      "\u001b[32m[I 2023-08-24 13:33:34,497]\u001b[0m Trial 54 finished with value: 0.6461687692313971 and parameters: {'n_estimators': 144, 'max_depth': 6, 'min_samples_leaf': 5, 'min_samples_split': 10, 'subsample': 0.41591497178730885}. Best is trial 48 with value: 0.6538377487775451.\u001b[0m\n",
      "\u001b[32m[I 2023-08-24 13:33:39,533]\u001b[0m Trial 55 finished with value: 0.6320198509528694 and parameters: {'n_estimators': 142, 'max_depth': 23, 'min_samples_leaf': 5, 'min_samples_split': 10, 'subsample': 0.4123516029459692}. Best is trial 48 with value: 0.6538377487775451.\u001b[0m\n",
      "\u001b[32m[I 2023-08-24 13:33:42,120]\u001b[0m Trial 56 finished with value: 0.6424785192989525 and parameters: {'n_estimators': 151, 'max_depth': 4, 'min_samples_leaf': 6, 'min_samples_split': 10, 'subsample': 0.4985375586769912}. Best is trial 48 with value: 0.6538377487775451.\u001b[0m\n",
      "\u001b[32m[I 2023-08-24 13:33:45,392]\u001b[0m Trial 57 finished with value: 0.637767476718541 and parameters: {'n_estimators': 144, 'max_depth': 6, 'min_samples_leaf': 4, 'min_samples_split': 9, 'subsample': 0.46091343068566537}. Best is trial 48 with value: 0.6538377487775451.\u001b[0m\n",
      "\u001b[32m[I 2023-08-24 13:33:49,864]\u001b[0m Trial 58 finished with value: 0.6387992502536128 and parameters: {'n_estimators': 175, 'max_depth': 10, 'min_samples_leaf': 5, 'min_samples_split': 10, 'subsample': 0.36887441934767046}. Best is trial 48 with value: 0.6538377487775451.\u001b[0m\n",
      "\u001b[32m[I 2023-08-24 13:33:55,256]\u001b[0m Trial 59 finished with value: 0.6372296141102044 and parameters: {'n_estimators': 155, 'max_depth': 18, 'min_samples_leaf': 8, 'min_samples_split': 9, 'subsample': 0.476823304779508}. Best is trial 48 with value: 0.6538377487775451.\u001b[0m\n",
      "\u001b[32m[I 2023-08-24 13:33:57,242]\u001b[0m Trial 60 finished with value: 0.6452667347632507 and parameters: {'n_estimators': 161, 'max_depth': 3, 'min_samples_leaf': 5, 'min_samples_split': 10, 'subsample': 0.4428457800144309}. Best is trial 48 with value: 0.6538377487775451.\u001b[0m\n",
      "\u001b[32m[I 2023-08-24 13:34:00,792]\u001b[0m Trial 61 finished with value: 0.627936167372229 and parameters: {'n_estimators': 126, 'max_depth': 8, 'min_samples_leaf': 2, 'min_samples_split': 5, 'subsample': 0.4272760620078089}. Best is trial 48 with value: 0.6538377487775451.\u001b[0m\n",
      "\u001b[32m[I 2023-08-24 13:34:03,220]\u001b[0m Trial 62 finished with value: 0.6365985794570622 and parameters: {'n_estimators': 135, 'max_depth': 5, 'min_samples_leaf': 4, 'min_samples_split': 9, 'subsample': 0.4158645476102141}. Best is trial 48 with value: 0.6538377487775451.\u001b[0m\n",
      "\u001b[32m[I 2023-08-24 13:34:05,785]\u001b[0m Trial 63 finished with value: 0.6339188854220821 and parameters: {'n_estimators': 130, 'max_depth': 7, 'min_samples_leaf': 3, 'min_samples_split': 8, 'subsample': 0.33511126889851944}. Best is trial 48 with value: 0.6538377487775451.\u001b[0m\n",
      "\u001b[32m[I 2023-08-24 13:34:09,291]\u001b[0m Trial 64 finished with value: 0.6323862525755712 and parameters: {'n_estimators': 188, 'max_depth': 6, 'min_samples_leaf': 7, 'min_samples_split': 10, 'subsample': 0.3879399584863871}. Best is trial 48 with value: 0.6538377487775451.\u001b[0m\n",
      "\u001b[32m[I 2023-08-24 13:34:11,231]\u001b[0m Trial 65 finished with value: 0.6443977523745174 and parameters: {'n_estimators': 121, 'max_depth': 4, 'min_samples_leaf': 6, 'min_samples_split': 7, 'subsample': 0.45879751588291373}. Best is trial 48 with value: 0.6538377487775451.\u001b[0m\n",
      "\u001b[32m[I 2023-08-24 13:34:11,958]\u001b[0m Trial 66 finished with value: 0.5100336953844943 and parameters: {'n_estimators': 137, 'max_depth': 1, 'min_samples_leaf': 1, 'min_samples_split': 9, 'subsample': 0.4008214750922051}. Best is trial 48 with value: 0.6538377487775451.\u001b[0m\n",
      "\u001b[32m[I 2023-08-24 13:34:13,663]\u001b[0m Trial 67 finished with value: 0.5872367171016826 and parameters: {'n_estimators': 114, 'max_depth': 9, 'min_samples_leaf': 2, 'min_samples_split': 8, 'subsample': 0.20130734504059214}. Best is trial 48 with value: 0.6538377487775451.\u001b[0m\n",
      "\u001b[32m[I 2023-08-24 13:34:18,256]\u001b[0m Trial 68 finished with value: 0.634296832526976 and parameters: {'n_estimators': 147, 'max_depth': 10, 'min_samples_leaf': 3, 'min_samples_split': 10, 'subsample': 0.4254605060436576}. Best is trial 48 with value: 0.6538377487775451.\u001b[0m\n",
      "\u001b[32m[I 2023-08-24 13:34:20,712]\u001b[0m Trial 69 finished with value: 0.6487505370994315 and parameters: {'n_estimators': 100, 'max_depth': 7, 'min_samples_leaf': 5, 'min_samples_split': 8, 'subsample': 0.44776772291111366}. Best is trial 48 with value: 0.6538377487775451.\u001b[0m\n",
      "\u001b[32m[I 2023-08-24 13:34:22,051]\u001b[0m Trial 70 finished with value: 0.6239936581554522 and parameters: {'n_estimators': 106, 'max_depth': 3, 'min_samples_leaf': 5, 'min_samples_split': 9, 'subsample': 0.45188463913876376}. Best is trial 48 with value: 0.6538377487775451.\u001b[0m\n",
      "\u001b[32m[I 2023-08-24 13:34:24,556]\u001b[0m Trial 71 finished with value: 0.6412441771160712 and parameters: {'n_estimators': 103, 'max_depth': 7, 'min_samples_leaf': 5, 'min_samples_split': 8, 'subsample': 0.43810434594272946}. Best is trial 48 with value: 0.6538377487775451.\u001b[0m\n",
      "\u001b[32m[I 2023-08-24 13:34:26,563]\u001b[0m Trial 72 finished with value: 0.6317274413354892 and parameters: {'n_estimators': 100, 'max_depth': 5, 'min_samples_leaf': 6, 'min_samples_split': 7, 'subsample': 0.48196605623584604}. Best is trial 48 with value: 0.6538377487775451.\u001b[0m\n",
      "\u001b[32m[I 2023-08-24 13:34:28,804]\u001b[0m Trial 73 finished with value: 0.6378483363696639 and parameters: {'n_estimators': 124, 'max_depth': 8, 'min_samples_leaf': 4, 'min_samples_split': 8, 'subsample': 0.28452294376394816}. Best is trial 48 with value: 0.6538377487775451.\u001b[0m\n",
      "\u001b[32m[I 2023-08-24 13:34:31,973]\u001b[0m Trial 74 finished with value: 0.6444143917406178 and parameters: {'n_estimators': 139, 'max_depth': 6, 'min_samples_leaf': 5, 'min_samples_split': 6, 'subsample': 0.4680200598234818}. Best is trial 48 with value: 0.6538377487775451.\u001b[0m\n",
      "\u001b[32m[I 2023-08-24 13:34:33,989]\u001b[0m Trial 75 finished with value: 0.6454582177629378 and parameters: {'n_estimators': 132, 'max_depth': 4, 'min_samples_leaf': 2, 'min_samples_split': 7, 'subsample': 0.4208680565834651}. Best is trial 48 with value: 0.6538377487775451.\u001b[0m\n",
      "\u001b[32m[I 2023-08-24 13:34:35,122]\u001b[0m Trial 76 finished with value: 0.5872566778895554 and parameters: {'n_estimators': 128, 'max_depth': 2, 'min_samples_leaf': 6, 'min_samples_split': 9, 'subsample': 0.43390137602853657}. Best is trial 48 with value: 0.6538377487775451.\u001b[0m\n",
      "\u001b[32m[I 2023-08-24 13:34:37,974]\u001b[0m Trial 77 finished with value: 0.6365548915217405 and parameters: {'n_estimators': 119, 'max_depth': 7, 'min_samples_leaf': 7, 'min_samples_split': 8, 'subsample': 0.4538816165154238}. Best is trial 48 with value: 0.6538377487775451.\u001b[0m\n",
      "\u001b[32m[I 2023-08-24 13:34:40,587]\u001b[0m Trial 78 finished with value: 0.6401645496045302 and parameters: {'n_estimators': 109, 'max_depth': 8, 'min_samples_leaf': 3, 'min_samples_split': 9, 'subsample': 0.37869628054042453}. Best is trial 48 with value: 0.6538377487775451.\u001b[0m\n",
      "\u001b[32m[I 2023-08-24 13:34:44,921]\u001b[0m Trial 79 finished with value: 0.6310180614678866 and parameters: {'n_estimators': 116, 'max_depth': 26, 'min_samples_leaf': 4, 'min_samples_split': 8, 'subsample': 0.4102825949871946}. Best is trial 48 with value: 0.6538377487775451.\u001b[0m\n",
      "\u001b[32m[I 2023-08-24 13:34:48,804]\u001b[0m Trial 80 finished with value: 0.6415566460907327 and parameters: {'n_estimators': 100, 'max_depth': 12, 'min_samples_leaf': 4, 'min_samples_split': 9, 'subsample': 0.48982028997315175}. Best is trial 48 with value: 0.6538377487775451.\u001b[0m\n",
      "\u001b[32m[I 2023-08-24 13:34:52,138]\u001b[0m Trial 81 finished with value: 0.6276749402679828 and parameters: {'n_estimators': 123, 'max_depth': 9, 'min_samples_leaf': 9, 'min_samples_split': 8, 'subsample': 0.4667486130394716}. Best is trial 48 with value: 0.6538377487775451.\u001b[0m\n",
      "\u001b[32m[I 2023-08-24 13:34:54,294]\u001b[0m Trial 82 finished with value: 0.6302152720535373 and parameters: {'n_estimators': 119, 'max_depth': 5, 'min_samples_leaf': 10, 'min_samples_split': 7, 'subsample': 0.4479242573422751}. Best is trial 48 with value: 0.6538377487775451.\u001b[0m\n",
      "\u001b[32m[I 2023-08-24 13:34:56,659]\u001b[0m Trial 83 finished with value: 0.6462212556647351 and parameters: {'n_estimators': 108, 'max_depth': 6, 'min_samples_leaf': 2, 'min_samples_split': 10, 'subsample': 0.4302386546090387}. Best is trial 48 with value: 0.6538377487775451.\u001b[0m\n",
      "\u001b[32m[I 2023-08-24 13:34:58,860]\u001b[0m Trial 84 finished with value: 0.6199692339056864 and parameters: {'n_estimators': 108, 'max_depth': 6, 'min_samples_leaf': 2, 'min_samples_split': 10, 'subsample': 0.3974289230965827}. Best is trial 48 with value: 0.6538377487775451.\u001b[0m\n",
      "\u001b[32m[I 2023-08-24 13:35:00,531]\u001b[0m Trial 85 finished with value: 0.6399888446620572 and parameters: {'n_estimators': 104, 'max_depth': 4, 'min_samples_leaf': 1, 'min_samples_split': 10, 'subsample': 0.4393334792886651}. Best is trial 48 with value: 0.6538377487775451.\u001b[0m\n",
      "\u001b[32m[I 2023-08-24 13:35:01,872]\u001b[0m Trial 86 finished with value: 0.6175355434349721 and parameters: {'n_estimators': 114, 'max_depth': 3, 'min_samples_leaf': 2, 'min_samples_split': 10, 'subsample': 0.4081360645502934}. Best is trial 48 with value: 0.6538377487775451.\u001b[0m\n",
      "\u001b[32m[I 2023-08-24 13:35:04,540]\u001b[0m Trial 87 finished with value: 0.6344112523385417 and parameters: {'n_estimators': 111, 'max_depth': 7, 'min_samples_leaf': 3, 'min_samples_split': 9, 'subsample': 0.4222656953438897}. Best is trial 48 with value: 0.6538377487775451.\u001b[0m\n",
      "\u001b[32m[I 2023-08-24 13:35:06,935]\u001b[0m Trial 88 finished with value: 0.6321511303371359 and parameters: {'n_estimators': 103, 'max_depth': 6, 'min_samples_leaf': 1, 'min_samples_split': 10, 'subsample': 0.45456362444178877}. Best is trial 48 with value: 0.6538377487775451.\u001b[0m\n",
      "\u001b[32m[I 2023-08-24 13:35:10,330]\u001b[0m Trial 89 finished with value: 0.6360815247956403 and parameters: {'n_estimators': 170, 'max_depth': 5, 'min_samples_leaf': 6, 'min_samples_split': 9, 'subsample': 0.4822735298096087}. Best is trial 48 with value: 0.6538377487775451.\u001b[0m\n",
      "\u001b[32m[I 2023-08-24 13:35:11,613]\u001b[0m Trial 90 finished with value: 0.5905053085758685 and parameters: {'n_estimators': 145, 'max_depth': 2, 'min_samples_leaf': 5, 'min_samples_split': 10, 'subsample': 0.43058805690564833}. Best is trial 48 with value: 0.6538377487775451.\u001b[0m\n",
      "\u001b[32m[I 2023-08-24 13:35:15,028]\u001b[0m Trial 91 finished with value: 0.634489508799974 and parameters: {'n_estimators': 115, 'max_depth': 8, 'min_samples_leaf': 2, 'min_samples_split': 9, 'subsample': 0.4653718099270949}. Best is trial 48 with value: 0.6538377487775451.\u001b[0m\n",
      "\u001b[32m[I 2023-08-24 13:35:19,208]\u001b[0m Trial 92 finished with value: 0.6241547726271464 and parameters: {'n_estimators': 125, 'max_depth': 10, 'min_samples_leaf': 2, 'min_samples_split': 8, 'subsample': 0.43911005662568975}. Best is trial 48 with value: 0.6538377487775451.\u001b[0m\n",
      "\u001b[32m[I 2023-08-24 13:35:21,040]\u001b[0m Trial 93 finished with value: 0.6254567899776561 and parameters: {'n_estimators': 105, 'max_depth': 5, 'min_samples_leaf': 8, 'min_samples_split': 10, 'subsample': 0.4215928724298322}. Best is trial 48 with value: 0.6538377487775451.\u001b[0m\n",
      "\u001b[32m[I 2023-08-24 13:35:24,482]\u001b[0m Trial 94 finished with value: 0.6284021836127405 and parameters: {'n_estimators': 134, 'max_depth': 7, 'min_samples_leaf': 3, 'min_samples_split': 6, 'subsample': 0.44856567989457435}. Best is trial 48 with value: 0.6538377487775451.\u001b[0m\n",
      "\u001b[32m[I 2023-08-24 13:35:26,680]\u001b[0m Trial 95 finished with value: 0.6390768668937676 and parameters: {'n_estimators': 112, 'max_depth': 6, 'min_samples_leaf': 5, 'min_samples_split': 7, 'subsample': 0.3941440718470553}. Best is trial 48 with value: 0.6538377487775451.\u001b[0m\n",
      "\u001b[32m[I 2023-08-24 13:35:31,610]\u001b[0m Trial 96 finished with value: 0.6293919035735609 and parameters: {'n_estimators': 192, 'max_depth': 8, 'min_samples_leaf': 3, 'min_samples_split': 9, 'subsample': 0.4070175452119599}. Best is trial 48 with value: 0.6538377487775451.\u001b[0m\n",
      "\u001b[32m[I 2023-08-24 13:35:36,327]\u001b[0m Trial 97 finished with value: 0.6386541260073934 and parameters: {'n_estimators': 178, 'max_depth': 9, 'min_samples_leaf': 7, 'min_samples_split': 8, 'subsample': 0.430849346519213}. Best is trial 48 with value: 0.6538377487775451.\u001b[0m\n",
      "\u001b[32m[I 2023-08-24 13:35:38,361]\u001b[0m Trial 98 finished with value: 0.6434157917948012 and parameters: {'n_estimators': 121, 'max_depth': 4, 'min_samples_leaf': 4, 'min_samples_split': 9, 'subsample': 0.4781028613157329}. Best is trial 48 with value: 0.6538377487775451.\u001b[0m\n",
      "\u001b[32m[I 2023-08-24 13:35:39,720]\u001b[0m Trial 99 finished with value: 0.6188959825387806 and parameters: {'n_estimators': 129, 'max_depth': 3, 'min_samples_leaf': 5, 'min_samples_split': 10, 'subsample': 0.36065156212022403}. Best is trial 48 with value: 0.6538377487775451.\u001b[0m\n"
     ]
    },
    {
     "name": "stdout",
     "output_type": "stream",
     "text": [
      "Best r2:  0.6538377487775451\n",
      "Best trial: {'n_estimators': 177, 'max_depth': 4, 'min_samples_leaf': 4, 'min_samples_split': 9, 'subsample': 0.4438174040910409}\n"
     ]
    }
   ],
   "source": [
    "sampler = TPESampler()\n",
    "study = optuna.create_study(\n",
    "    study_name=\"gb_parameter_opt\",\n",
    "    direction=\"maximize\",\n",
    "    sampler=sampler,\n",
    ")\n",
    "\n",
    "study.optimize(lambda trial : objectiveGB(trial, Cd_X_train, Cd_y_train), n_trials=100)\n",
    "print(\"Best r2: \", study.best_value)\n",
    "print(\"Best trial:\", study.best_trial.params)"
   ]
  },
  {
   "cell_type": "code",
   "execution_count": 41,
   "id": "861f88d8",
   "metadata": {},
   "outputs": [
    {
     "data": {
      "application/vnd.plotly.v1+json": {
       "config": {
        "plotlyServerURL": "https://plot.ly"
       },
       "data": [
        {
         "dimensions": [
          {
           "label": "Objective Value",
           "range": [
            0.5002528808029686,
            0.6538377487775451
           ],
           "values": [
            0.6300664255507054,
            0.6377627568604024,
            0.6467079712680304,
            0.5858211339051257,
            0.6348029503985039,
            0.6285233524809934,
            0.6326624317670767,
            0.6390053164734016,
            0.5605286159252493,
            0.6263811996430056,
            0.5086527442576568,
            0.6272535534789647,
            0.6456537150711734,
            0.6285985379205179,
            0.6458786987123611,
            0.5002528808029686,
            0.6305748574981312,
            0.6318409568652653,
            0.6257488508621429,
            0.6175503724778307,
            0.6388558589811348,
            0.6376335724668125,
            0.6307385046736504,
            0.6477907311683195,
            0.61977738433577,
            0.6060546535990918,
            0.6306155810281424,
            0.634912523207113,
            0.5861778778746667,
            0.6274226872517739,
            0.6209107603555848,
            0.639052276060552,
            0.6397755929179898,
            0.6066368945681246,
            0.6261551649161362,
            0.6260808036688538,
            0.6377709015249458,
            0.629070519659346,
            0.5413985695829036,
            0.606667567556371,
            0.6300543223632473,
            0.6513375112427813,
            0.6489100745569573,
            0.6430017067682565,
            0.637633733491598,
            0.5219895547145708,
            0.6417917347688794,
            0.6366674728443785,
            0.6538377487775451,
            0.6100129810079526,
            0.619625431842647,
            0.6432744006500993,
            0.6376436103414419,
            0.584609221894059,
            0.6461687692313971,
            0.6320198509528694,
            0.6424785192989525,
            0.637767476718541,
            0.6387992502536128,
            0.6372296141102044,
            0.6452667347632507,
            0.627936167372229,
            0.6365985794570622,
            0.6339188854220821,
            0.6323862525755712,
            0.6443977523745174,
            0.5100336953844943,
            0.5872367171016826,
            0.634296832526976,
            0.6487505370994315,
            0.6239936581554522,
            0.6412441771160712,
            0.6317274413354892,
            0.6378483363696639,
            0.6444143917406178,
            0.6454582177629378,
            0.5872566778895554,
            0.6365548915217405,
            0.6401645496045302,
            0.6310180614678866,
            0.6415566460907327,
            0.6276749402679828,
            0.6302152720535373,
            0.6462212556647351,
            0.6199692339056864,
            0.6399888446620572,
            0.6175355434349721,
            0.6344112523385417,
            0.6321511303371359,
            0.6360815247956403,
            0.5905053085758685,
            0.634489508799974,
            0.6241547726271464,
            0.6254567899776561,
            0.6284021836127405,
            0.6390768668937676,
            0.6293919035735609,
            0.6386541260073934,
            0.6434157917948012,
            0.6188959825387806
           ]
          },
          {
           "label": "max_depth",
           "range": [
            1,
            29
           ],
           "values": [
            17,
            13,
            4,
            4,
            12,
            13,
            11,
            13,
            4,
            28,
            1,
            21,
            8,
            7,
            7,
            1,
            19,
            7,
            29,
            24,
            5,
            9,
            9,
            6,
            3,
            6,
            16,
            10,
            2,
            5,
            15,
            8,
            7,
            3,
            11,
            5,
            8,
            14,
            11,
            3,
            12,
            6,
            6,
            4,
            6,
            1,
            6,
            9,
            4,
            2,
            4,
            5,
            7,
            2,
            6,
            23,
            4,
            6,
            10,
            18,
            3,
            8,
            5,
            7,
            6,
            4,
            1,
            9,
            10,
            7,
            3,
            7,
            5,
            8,
            6,
            4,
            2,
            7,
            8,
            26,
            12,
            9,
            5,
            6,
            6,
            4,
            3,
            7,
            6,
            5,
            2,
            8,
            10,
            5,
            7,
            6,
            8,
            9,
            4,
            3
           ]
          },
          {
           "label": "min_samples_leaf",
           "range": [
            1,
            10
           ],
           "values": [
            10,
            7,
            4,
            1,
            4,
            8,
            7,
            9,
            1,
            8,
            4,
            4,
            10,
            5,
            2,
            2,
            3,
            2,
            6,
            3,
            5,
            3,
            10,
            2,
            2,
            1,
            2,
            3,
            4,
            5,
            2,
            10,
            6,
            1,
            3,
            9,
            7,
            4,
            1,
            8,
            9,
            6,
            6,
            6,
            6,
            7,
            5,
            7,
            4,
            5,
            4,
            6,
            4,
            3,
            5,
            5,
            6,
            4,
            5,
            8,
            5,
            2,
            4,
            3,
            7,
            6,
            1,
            2,
            3,
            5,
            5,
            5,
            6,
            4,
            5,
            2,
            6,
            7,
            3,
            4,
            4,
            9,
            10,
            2,
            2,
            1,
            2,
            3,
            1,
            6,
            5,
            2,
            2,
            8,
            3,
            5,
            3,
            7,
            4,
            5
           ]
          },
          {
           "label": "min_samples_split",
           "range": [
            2,
            10
           ],
           "values": [
            5,
            4,
            10,
            6,
            2,
            4,
            9,
            8,
            5,
            9,
            10,
            8,
            8,
            10,
            7,
            7,
            2,
            6,
            7,
            9,
            10,
            8,
            7,
            9,
            9,
            10,
            9,
            6,
            10,
            7,
            8,
            8,
            9,
            8,
            7,
            5,
            9,
            6,
            3,
            8,
            10,
            9,
            9,
            9,
            10,
            4,
            9,
            10,
            9,
            9,
            10,
            8,
            9,
            9,
            10,
            10,
            10,
            9,
            10,
            9,
            10,
            5,
            9,
            8,
            10,
            7,
            9,
            8,
            10,
            8,
            9,
            8,
            7,
            8,
            6,
            7,
            9,
            8,
            9,
            8,
            9,
            8,
            7,
            10,
            10,
            10,
            10,
            9,
            10,
            9,
            10,
            9,
            8,
            10,
            6,
            7,
            9,
            8,
            9,
            10
           ]
          },
          {
           "label": "n_estimators",
           "range": [
            100,
            199
           ],
           "values": [
            125,
            184,
            131,
            104,
            154,
            157,
            167,
            110,
            137,
            103,
            134,
            118,
            117,
            138,
            124,
            145,
            127,
            199,
            169,
            147,
            127,
            117,
            117,
            111,
            100,
            111,
            131,
            124,
            140,
            122,
            110,
            112,
            129,
            121,
            106,
            117,
            152,
            141,
            133,
            107,
            113,
            131,
            157,
            165,
            164,
            160,
            173,
            157,
            177,
            185,
            180,
            148,
            195,
            136,
            144,
            142,
            151,
            144,
            175,
            155,
            161,
            126,
            135,
            130,
            188,
            121,
            137,
            114,
            147,
            100,
            106,
            103,
            100,
            124,
            139,
            132,
            128,
            119,
            109,
            116,
            100,
            123,
            119,
            108,
            108,
            104,
            114,
            111,
            103,
            170,
            145,
            115,
            125,
            105,
            134,
            112,
            192,
            178,
            121,
            129
           ]
          },
          {
           "label": "subsample",
           "range": [
            0.10232460622653047,
            0.4985375586769912
           ],
           "values": [
            0.2563486843608043,
            0.4394370989705172,
            0.42304504123210895,
            0.24394046309622586,
            0.3745778013747767,
            0.48752812075187124,
            0.45519056529120483,
            0.4855277833751236,
            0.14060022554925924,
            0.28019246776960294,
            0.3586315005341601,
            0.3925908282976129,
            0.4289955637132885,
            0.3241926739802583,
            0.42488063735189546,
            0.1787864088646101,
            0.3158633284981268,
            0.40245756731058907,
            0.35819605798985665,
            0.2220193660005975,
            0.49797169969009764,
            0.4297162906367137,
            0.4121398567311358,
            0.45041343744914963,
            0.46036236349358833,
            0.33841472988033144,
            0.38855094126676093,
            0.455366342669081,
            0.4749010704302352,
            0.2994385290733816,
            0.4151993799419365,
            0.42834676948215644,
            0.44656987970806433,
            0.35932459501488867,
            0.4340838556472398,
            0.3748967257864689,
            0.4703852353253565,
            0.41904712268508054,
            0.10232460622653047,
            0.38493950412601485,
            0.4921698467723996,
            0.45370826137476833,
            0.45385844216897675,
            0.44469816311959187,
            0.47325634500980035,
            0.4597449548284089,
            0.40233155348600314,
            0.4862877302668535,
            0.4438174040910409,
            0.4470273206871527,
            0.2421888547548594,
            0.47268555932195,
            0.40008728166071506,
            0.43722331415415533,
            0.41591497178730885,
            0.4123516029459692,
            0.4985375586769912,
            0.46091343068566537,
            0.36887441934767046,
            0.476823304779508,
            0.4428457800144309,
            0.4272760620078089,
            0.4158645476102141,
            0.33511126889851944,
            0.3879399584863871,
            0.45879751588291373,
            0.4008214750922051,
            0.20130734504059214,
            0.4254605060436576,
            0.44776772291111366,
            0.45188463913876376,
            0.43810434594272946,
            0.48196605623584604,
            0.28452294376394816,
            0.4680200598234818,
            0.4208680565834651,
            0.43390137602853657,
            0.4538816165154238,
            0.37869628054042453,
            0.4102825949871946,
            0.48982028997315175,
            0.4667486130394716,
            0.4479242573422751,
            0.4302386546090387,
            0.3974289230965827,
            0.4393334792886651,
            0.4081360645502934,
            0.4222656953438897,
            0.45456362444178877,
            0.4822735298096087,
            0.43058805690564833,
            0.4653718099270949,
            0.43911005662568975,
            0.4215928724298322,
            0.44856567989457435,
            0.3941440718470553,
            0.4070175452119599,
            0.430849346519213,
            0.4781028613157329,
            0.36065156212022403
           ]
          }
         ],
         "labelangle": 30,
         "labelside": "bottom",
         "line": {
          "color": [
           0.6300664255507054,
           0.6377627568604024,
           0.6467079712680304,
           0.5858211339051257,
           0.6348029503985039,
           0.6285233524809934,
           0.6326624317670767,
           0.6390053164734016,
           0.5605286159252493,
           0.6263811996430056,
           0.5086527442576568,
           0.6272535534789647,
           0.6456537150711734,
           0.6285985379205179,
           0.6458786987123611,
           0.5002528808029686,
           0.6305748574981312,
           0.6318409568652653,
           0.6257488508621429,
           0.6175503724778307,
           0.6388558589811348,
           0.6376335724668125,
           0.6307385046736504,
           0.6477907311683195,
           0.61977738433577,
           0.6060546535990918,
           0.6306155810281424,
           0.634912523207113,
           0.5861778778746667,
           0.6274226872517739,
           0.6209107603555848,
           0.639052276060552,
           0.6397755929179898,
           0.6066368945681246,
           0.6261551649161362,
           0.6260808036688538,
           0.6377709015249458,
           0.629070519659346,
           0.5413985695829036,
           0.606667567556371,
           0.6300543223632473,
           0.6513375112427813,
           0.6489100745569573,
           0.6430017067682565,
           0.637633733491598,
           0.5219895547145708,
           0.6417917347688794,
           0.6366674728443785,
           0.6538377487775451,
           0.6100129810079526,
           0.619625431842647,
           0.6432744006500993,
           0.6376436103414419,
           0.584609221894059,
           0.6461687692313971,
           0.6320198509528694,
           0.6424785192989525,
           0.637767476718541,
           0.6387992502536128,
           0.6372296141102044,
           0.6452667347632507,
           0.627936167372229,
           0.6365985794570622,
           0.6339188854220821,
           0.6323862525755712,
           0.6443977523745174,
           0.5100336953844943,
           0.5872367171016826,
           0.634296832526976,
           0.6487505370994315,
           0.6239936581554522,
           0.6412441771160712,
           0.6317274413354892,
           0.6378483363696639,
           0.6444143917406178,
           0.6454582177629378,
           0.5872566778895554,
           0.6365548915217405,
           0.6401645496045302,
           0.6310180614678866,
           0.6415566460907327,
           0.6276749402679828,
           0.6302152720535373,
           0.6462212556647351,
           0.6199692339056864,
           0.6399888446620572,
           0.6175355434349721,
           0.6344112523385417,
           0.6321511303371359,
           0.6360815247956403,
           0.5905053085758685,
           0.634489508799974,
           0.6241547726271464,
           0.6254567899776561,
           0.6284021836127405,
           0.6390768668937676,
           0.6293919035735609,
           0.6386541260073934,
           0.6434157917948012,
           0.6188959825387806
          ],
          "colorbar": {
           "title": {
            "text": "Objective Value"
           }
          },
          "colorscale": [
           [
            0,
            "rgb(247,251,255)"
           ],
           [
            0.125,
            "rgb(222,235,247)"
           ],
           [
            0.25,
            "rgb(198,219,239)"
           ],
           [
            0.375,
            "rgb(158,202,225)"
           ],
           [
            0.5,
            "rgb(107,174,214)"
           ],
           [
            0.625,
            "rgb(66,146,198)"
           ],
           [
            0.75,
            "rgb(33,113,181)"
           ],
           [
            0.875,
            "rgb(8,81,156)"
           ],
           [
            1,
            "rgb(8,48,107)"
           ]
          ],
          "reversescale": false,
          "showscale": true
         },
         "type": "parcoords"
        }
       ],
       "layout": {
        "template": {
         "data": {
          "bar": [
           {
            "error_x": {
             "color": "#2a3f5f"
            },
            "error_y": {
             "color": "#2a3f5f"
            },
            "marker": {
             "line": {
              "color": "#E5ECF6",
              "width": 0.5
             },
             "pattern": {
              "fillmode": "overlay",
              "size": 10,
              "solidity": 0.2
             }
            },
            "type": "bar"
           }
          ],
          "barpolar": [
           {
            "marker": {
             "line": {
              "color": "#E5ECF6",
              "width": 0.5
             },
             "pattern": {
              "fillmode": "overlay",
              "size": 10,
              "solidity": 0.2
             }
            },
            "type": "barpolar"
           }
          ],
          "carpet": [
           {
            "aaxis": {
             "endlinecolor": "#2a3f5f",
             "gridcolor": "white",
             "linecolor": "white",
             "minorgridcolor": "white",
             "startlinecolor": "#2a3f5f"
            },
            "baxis": {
             "endlinecolor": "#2a3f5f",
             "gridcolor": "white",
             "linecolor": "white",
             "minorgridcolor": "white",
             "startlinecolor": "#2a3f5f"
            },
            "type": "carpet"
           }
          ],
          "choropleth": [
           {
            "colorbar": {
             "outlinewidth": 0,
             "ticks": ""
            },
            "type": "choropleth"
           }
          ],
          "contour": [
           {
            "colorbar": {
             "outlinewidth": 0,
             "ticks": ""
            },
            "colorscale": [
             [
              0,
              "#0d0887"
             ],
             [
              0.1111111111111111,
              "#46039f"
             ],
             [
              0.2222222222222222,
              "#7201a8"
             ],
             [
              0.3333333333333333,
              "#9c179e"
             ],
             [
              0.4444444444444444,
              "#bd3786"
             ],
             [
              0.5555555555555556,
              "#d8576b"
             ],
             [
              0.6666666666666666,
              "#ed7953"
             ],
             [
              0.7777777777777778,
              "#fb9f3a"
             ],
             [
              0.8888888888888888,
              "#fdca26"
             ],
             [
              1,
              "#f0f921"
             ]
            ],
            "type": "contour"
           }
          ],
          "contourcarpet": [
           {
            "colorbar": {
             "outlinewidth": 0,
             "ticks": ""
            },
            "type": "contourcarpet"
           }
          ],
          "heatmap": [
           {
            "colorbar": {
             "outlinewidth": 0,
             "ticks": ""
            },
            "colorscale": [
             [
              0,
              "#0d0887"
             ],
             [
              0.1111111111111111,
              "#46039f"
             ],
             [
              0.2222222222222222,
              "#7201a8"
             ],
             [
              0.3333333333333333,
              "#9c179e"
             ],
             [
              0.4444444444444444,
              "#bd3786"
             ],
             [
              0.5555555555555556,
              "#d8576b"
             ],
             [
              0.6666666666666666,
              "#ed7953"
             ],
             [
              0.7777777777777778,
              "#fb9f3a"
             ],
             [
              0.8888888888888888,
              "#fdca26"
             ],
             [
              1,
              "#f0f921"
             ]
            ],
            "type": "heatmap"
           }
          ],
          "heatmapgl": [
           {
            "colorbar": {
             "outlinewidth": 0,
             "ticks": ""
            },
            "colorscale": [
             [
              0,
              "#0d0887"
             ],
             [
              0.1111111111111111,
              "#46039f"
             ],
             [
              0.2222222222222222,
              "#7201a8"
             ],
             [
              0.3333333333333333,
              "#9c179e"
             ],
             [
              0.4444444444444444,
              "#bd3786"
             ],
             [
              0.5555555555555556,
              "#d8576b"
             ],
             [
              0.6666666666666666,
              "#ed7953"
             ],
             [
              0.7777777777777778,
              "#fb9f3a"
             ],
             [
              0.8888888888888888,
              "#fdca26"
             ],
             [
              1,
              "#f0f921"
             ]
            ],
            "type": "heatmapgl"
           }
          ],
          "histogram": [
           {
            "marker": {
             "pattern": {
              "fillmode": "overlay",
              "size": 10,
              "solidity": 0.2
             }
            },
            "type": "histogram"
           }
          ],
          "histogram2d": [
           {
            "colorbar": {
             "outlinewidth": 0,
             "ticks": ""
            },
            "colorscale": [
             [
              0,
              "#0d0887"
             ],
             [
              0.1111111111111111,
              "#46039f"
             ],
             [
              0.2222222222222222,
              "#7201a8"
             ],
             [
              0.3333333333333333,
              "#9c179e"
             ],
             [
              0.4444444444444444,
              "#bd3786"
             ],
             [
              0.5555555555555556,
              "#d8576b"
             ],
             [
              0.6666666666666666,
              "#ed7953"
             ],
             [
              0.7777777777777778,
              "#fb9f3a"
             ],
             [
              0.8888888888888888,
              "#fdca26"
             ],
             [
              1,
              "#f0f921"
             ]
            ],
            "type": "histogram2d"
           }
          ],
          "histogram2dcontour": [
           {
            "colorbar": {
             "outlinewidth": 0,
             "ticks": ""
            },
            "colorscale": [
             [
              0,
              "#0d0887"
             ],
             [
              0.1111111111111111,
              "#46039f"
             ],
             [
              0.2222222222222222,
              "#7201a8"
             ],
             [
              0.3333333333333333,
              "#9c179e"
             ],
             [
              0.4444444444444444,
              "#bd3786"
             ],
             [
              0.5555555555555556,
              "#d8576b"
             ],
             [
              0.6666666666666666,
              "#ed7953"
             ],
             [
              0.7777777777777778,
              "#fb9f3a"
             ],
             [
              0.8888888888888888,
              "#fdca26"
             ],
             [
              1,
              "#f0f921"
             ]
            ],
            "type": "histogram2dcontour"
           }
          ],
          "mesh3d": [
           {
            "colorbar": {
             "outlinewidth": 0,
             "ticks": ""
            },
            "type": "mesh3d"
           }
          ],
          "parcoords": [
           {
            "line": {
             "colorbar": {
              "outlinewidth": 0,
              "ticks": ""
             }
            },
            "type": "parcoords"
           }
          ],
          "pie": [
           {
            "automargin": true,
            "type": "pie"
           }
          ],
          "scatter": [
           {
            "marker": {
             "colorbar": {
              "outlinewidth": 0,
              "ticks": ""
             }
            },
            "type": "scatter"
           }
          ],
          "scatter3d": [
           {
            "line": {
             "colorbar": {
              "outlinewidth": 0,
              "ticks": ""
             }
            },
            "marker": {
             "colorbar": {
              "outlinewidth": 0,
              "ticks": ""
             }
            },
            "type": "scatter3d"
           }
          ],
          "scattercarpet": [
           {
            "marker": {
             "colorbar": {
              "outlinewidth": 0,
              "ticks": ""
             }
            },
            "type": "scattercarpet"
           }
          ],
          "scattergeo": [
           {
            "marker": {
             "colorbar": {
              "outlinewidth": 0,
              "ticks": ""
             }
            },
            "type": "scattergeo"
           }
          ],
          "scattergl": [
           {
            "marker": {
             "colorbar": {
              "outlinewidth": 0,
              "ticks": ""
             }
            },
            "type": "scattergl"
           }
          ],
          "scattermapbox": [
           {
            "marker": {
             "colorbar": {
              "outlinewidth": 0,
              "ticks": ""
             }
            },
            "type": "scattermapbox"
           }
          ],
          "scatterpolar": [
           {
            "marker": {
             "colorbar": {
              "outlinewidth": 0,
              "ticks": ""
             }
            },
            "type": "scatterpolar"
           }
          ],
          "scatterpolargl": [
           {
            "marker": {
             "colorbar": {
              "outlinewidth": 0,
              "ticks": ""
             }
            },
            "type": "scatterpolargl"
           }
          ],
          "scatterternary": [
           {
            "marker": {
             "colorbar": {
              "outlinewidth": 0,
              "ticks": ""
             }
            },
            "type": "scatterternary"
           }
          ],
          "surface": [
           {
            "colorbar": {
             "outlinewidth": 0,
             "ticks": ""
            },
            "colorscale": [
             [
              0,
              "#0d0887"
             ],
             [
              0.1111111111111111,
              "#46039f"
             ],
             [
              0.2222222222222222,
              "#7201a8"
             ],
             [
              0.3333333333333333,
              "#9c179e"
             ],
             [
              0.4444444444444444,
              "#bd3786"
             ],
             [
              0.5555555555555556,
              "#d8576b"
             ],
             [
              0.6666666666666666,
              "#ed7953"
             ],
             [
              0.7777777777777778,
              "#fb9f3a"
             ],
             [
              0.8888888888888888,
              "#fdca26"
             ],
             [
              1,
              "#f0f921"
             ]
            ],
            "type": "surface"
           }
          ],
          "table": [
           {
            "cells": {
             "fill": {
              "color": "#EBF0F8"
             },
             "line": {
              "color": "white"
             }
            },
            "header": {
             "fill": {
              "color": "#C8D4E3"
             },
             "line": {
              "color": "white"
             }
            },
            "type": "table"
           }
          ]
         },
         "layout": {
          "annotationdefaults": {
           "arrowcolor": "#2a3f5f",
           "arrowhead": 0,
           "arrowwidth": 1
          },
          "autotypenumbers": "strict",
          "coloraxis": {
           "colorbar": {
            "outlinewidth": 0,
            "ticks": ""
           }
          },
          "colorscale": {
           "diverging": [
            [
             0,
             "#8e0152"
            ],
            [
             0.1,
             "#c51b7d"
            ],
            [
             0.2,
             "#de77ae"
            ],
            [
             0.3,
             "#f1b6da"
            ],
            [
             0.4,
             "#fde0ef"
            ],
            [
             0.5,
             "#f7f7f7"
            ],
            [
             0.6,
             "#e6f5d0"
            ],
            [
             0.7,
             "#b8e186"
            ],
            [
             0.8,
             "#7fbc41"
            ],
            [
             0.9,
             "#4d9221"
            ],
            [
             1,
             "#276419"
            ]
           ],
           "sequential": [
            [
             0,
             "#0d0887"
            ],
            [
             0.1111111111111111,
             "#46039f"
            ],
            [
             0.2222222222222222,
             "#7201a8"
            ],
            [
             0.3333333333333333,
             "#9c179e"
            ],
            [
             0.4444444444444444,
             "#bd3786"
            ],
            [
             0.5555555555555556,
             "#d8576b"
            ],
            [
             0.6666666666666666,
             "#ed7953"
            ],
            [
             0.7777777777777778,
             "#fb9f3a"
            ],
            [
             0.8888888888888888,
             "#fdca26"
            ],
            [
             1,
             "#f0f921"
            ]
           ],
           "sequentialminus": [
            [
             0,
             "#0d0887"
            ],
            [
             0.1111111111111111,
             "#46039f"
            ],
            [
             0.2222222222222222,
             "#7201a8"
            ],
            [
             0.3333333333333333,
             "#9c179e"
            ],
            [
             0.4444444444444444,
             "#bd3786"
            ],
            [
             0.5555555555555556,
             "#d8576b"
            ],
            [
             0.6666666666666666,
             "#ed7953"
            ],
            [
             0.7777777777777778,
             "#fb9f3a"
            ],
            [
             0.8888888888888888,
             "#fdca26"
            ],
            [
             1,
             "#f0f921"
            ]
           ]
          },
          "colorway": [
           "#636efa",
           "#EF553B",
           "#00cc96",
           "#ab63fa",
           "#FFA15A",
           "#19d3f3",
           "#FF6692",
           "#B6E880",
           "#FF97FF",
           "#FECB52"
          ],
          "font": {
           "color": "#2a3f5f"
          },
          "geo": {
           "bgcolor": "white",
           "lakecolor": "white",
           "landcolor": "#E5ECF6",
           "showlakes": true,
           "showland": true,
           "subunitcolor": "white"
          },
          "hoverlabel": {
           "align": "left"
          },
          "hovermode": "closest",
          "mapbox": {
           "style": "light"
          },
          "paper_bgcolor": "white",
          "plot_bgcolor": "#E5ECF6",
          "polar": {
           "angularaxis": {
            "gridcolor": "white",
            "linecolor": "white",
            "ticks": ""
           },
           "bgcolor": "#E5ECF6",
           "radialaxis": {
            "gridcolor": "white",
            "linecolor": "white",
            "ticks": ""
           }
          },
          "scene": {
           "xaxis": {
            "backgroundcolor": "#E5ECF6",
            "gridcolor": "white",
            "gridwidth": 2,
            "linecolor": "white",
            "showbackground": true,
            "ticks": "",
            "zerolinecolor": "white"
           },
           "yaxis": {
            "backgroundcolor": "#E5ECF6",
            "gridcolor": "white",
            "gridwidth": 2,
            "linecolor": "white",
            "showbackground": true,
            "ticks": "",
            "zerolinecolor": "white"
           },
           "zaxis": {
            "backgroundcolor": "#E5ECF6",
            "gridcolor": "white",
            "gridwidth": 2,
            "linecolor": "white",
            "showbackground": true,
            "ticks": "",
            "zerolinecolor": "white"
           }
          },
          "shapedefaults": {
           "line": {
            "color": "#2a3f5f"
           }
          },
          "ternary": {
           "aaxis": {
            "gridcolor": "white",
            "linecolor": "white",
            "ticks": ""
           },
           "baxis": {
            "gridcolor": "white",
            "linecolor": "white",
            "ticks": ""
           },
           "bgcolor": "#E5ECF6",
           "caxis": {
            "gridcolor": "white",
            "linecolor": "white",
            "ticks": ""
           }
          },
          "title": {
           "x": 0.05
          },
          "xaxis": {
           "automargin": true,
           "gridcolor": "white",
           "linecolor": "white",
           "ticks": "",
           "title": {
            "standoff": 15
           },
           "zerolinecolor": "white",
           "zerolinewidth": 2
          },
          "yaxis": {
           "automargin": true,
           "gridcolor": "white",
           "linecolor": "white",
           "ticks": "",
           "title": {
            "standoff": 15
           },
           "zerolinecolor": "white",
           "zerolinewidth": 2
          }
         }
        },
        "title": {
         "text": "Parallel Coordinate Plot"
        }
       }
      }
     },
     "metadata": {},
     "output_type": "display_data"
    }
   ],
   "source": [
    "optuna.visualization.plot_parallel_coordinate(study)"
   ]
  },
  {
   "cell_type": "code",
   "execution_count": 42,
   "id": "4afa60aa",
   "metadata": {},
   "outputs": [
    {
     "name": "stdout",
     "output_type": "stream",
     "text": [
      "Best trial: {'n_estimators': 177, 'max_depth': 4, 'min_samples_leaf': 4, 'min_samples_split': 9, 'subsample': 0.4438174040910409}\n"
     ]
    },
    {
     "data": {
      "text/plain": [
       "177"
      ]
     },
     "execution_count": 42,
     "metadata": {},
     "output_type": "execute_result"
    }
   ],
   "source": [
    "print(\"Best trial:\", study.best_trial.params)\n",
    "study.best_trial.params[\"n_estimators\"]"
   ]
  },
  {
   "cell_type": "code",
   "execution_count": 43,
   "id": "3b45adad",
   "metadata": {},
   "outputs": [
    {
     "data": {
      "text/html": [
       "<style>#sk-container-id-2 {color: black;}#sk-container-id-2 pre{padding: 0;}#sk-container-id-2 div.sk-toggleable {background-color: white;}#sk-container-id-2 label.sk-toggleable__label {cursor: pointer;display: block;width: 100%;margin-bottom: 0;padding: 0.3em;box-sizing: border-box;text-align: center;}#sk-container-id-2 label.sk-toggleable__label-arrow:before {content: \"▸\";float: left;margin-right: 0.25em;color: #696969;}#sk-container-id-2 label.sk-toggleable__label-arrow:hover:before {color: black;}#sk-container-id-2 div.sk-estimator:hover label.sk-toggleable__label-arrow:before {color: black;}#sk-container-id-2 div.sk-toggleable__content {max-height: 0;max-width: 0;overflow: hidden;text-align: left;background-color: #f0f8ff;}#sk-container-id-2 div.sk-toggleable__content pre {margin: 0.2em;color: black;border-radius: 0.25em;background-color: #f0f8ff;}#sk-container-id-2 input.sk-toggleable__control:checked~div.sk-toggleable__content {max-height: 200px;max-width: 100%;overflow: auto;}#sk-container-id-2 input.sk-toggleable__control:checked~label.sk-toggleable__label-arrow:before {content: \"▾\";}#sk-container-id-2 div.sk-estimator input.sk-toggleable__control:checked~label.sk-toggleable__label {background-color: #d4ebff;}#sk-container-id-2 div.sk-label input.sk-toggleable__control:checked~label.sk-toggleable__label {background-color: #d4ebff;}#sk-container-id-2 input.sk-hidden--visually {border: 0;clip: rect(1px 1px 1px 1px);clip: rect(1px, 1px, 1px, 1px);height: 1px;margin: -1px;overflow: hidden;padding: 0;position: absolute;width: 1px;}#sk-container-id-2 div.sk-estimator {font-family: monospace;background-color: #f0f8ff;border: 1px dotted black;border-radius: 0.25em;box-sizing: border-box;margin-bottom: 0.5em;}#sk-container-id-2 div.sk-estimator:hover {background-color: #d4ebff;}#sk-container-id-2 div.sk-parallel-item::after {content: \"\";width: 100%;border-bottom: 1px solid gray;flex-grow: 1;}#sk-container-id-2 div.sk-label:hover label.sk-toggleable__label {background-color: #d4ebff;}#sk-container-id-2 div.sk-serial::before {content: \"\";position: absolute;border-left: 1px solid gray;box-sizing: border-box;top: 0;bottom: 0;left: 50%;z-index: 0;}#sk-container-id-2 div.sk-serial {display: flex;flex-direction: column;align-items: center;background-color: white;padding-right: 0.2em;padding-left: 0.2em;position: relative;}#sk-container-id-2 div.sk-item {position: relative;z-index: 1;}#sk-container-id-2 div.sk-parallel {display: flex;align-items: stretch;justify-content: center;background-color: white;position: relative;}#sk-container-id-2 div.sk-item::before, #sk-container-id-2 div.sk-parallel-item::before {content: \"\";position: absolute;border-left: 1px solid gray;box-sizing: border-box;top: 0;bottom: 0;left: 50%;z-index: -1;}#sk-container-id-2 div.sk-parallel-item {display: flex;flex-direction: column;z-index: 1;position: relative;background-color: white;}#sk-container-id-2 div.sk-parallel-item:first-child::after {align-self: flex-end;width: 50%;}#sk-container-id-2 div.sk-parallel-item:last-child::after {align-self: flex-start;width: 50%;}#sk-container-id-2 div.sk-parallel-item:only-child::after {width: 0;}#sk-container-id-2 div.sk-dashed-wrapped {border: 1px dashed gray;margin: 0 0.4em 0.5em 0.4em;box-sizing: border-box;padding-bottom: 0.4em;background-color: white;}#sk-container-id-2 div.sk-label label {font-family: monospace;font-weight: bold;display: inline-block;line-height: 1.2em;}#sk-container-id-2 div.sk-label-container {text-align: center;}#sk-container-id-2 div.sk-container {/* jupyter's `normalize.less` sets `[hidden] { display: none; }` but bootstrap.min.css set `[hidden] { display: none !important; }` so we also need the `!important` here to be able to override the default hidden behavior on the sphinx rendered scikit-learn.org. See: https://github.com/scikit-learn/scikit-learn/issues/21755 */display: inline-block !important;position: relative;}#sk-container-id-2 div.sk-text-repr-fallback {display: none;}</style><div id=\"sk-container-id-2\" class=\"sk-top-container\"><div class=\"sk-text-repr-fallback\"><pre>GradientBoostingRegressor(max_depth=4, min_samples_leaf=4, min_samples_split=9,\n",
       "                          n_estimators=177, random_state=42,\n",
       "                          subsample=0.4438174040910409)</pre><b>In a Jupyter environment, please rerun this cell to show the HTML representation or trust the notebook. <br />On GitHub, the HTML representation is unable to render, please try loading this page with nbviewer.org.</b></div><div class=\"sk-container\" hidden><div class=\"sk-item\"><div class=\"sk-estimator sk-toggleable\"><input class=\"sk-toggleable__control sk-hidden--visually\" id=\"sk-estimator-id-2\" type=\"checkbox\" checked><label for=\"sk-estimator-id-2\" class=\"sk-toggleable__label sk-toggleable__label-arrow\">GradientBoostingRegressor</label><div class=\"sk-toggleable__content\"><pre>GradientBoostingRegressor(max_depth=4, min_samples_leaf=4, min_samples_split=9,\n",
       "                          n_estimators=177, random_state=42,\n",
       "                          subsample=0.4438174040910409)</pre></div></div></div></div></div>"
      ],
      "text/plain": [
       "GradientBoostingRegressor(max_depth=4, min_samples_leaf=4, min_samples_split=9,\n",
       "                          n_estimators=177, random_state=42,\n",
       "                          subsample=0.4438174040910409)"
      ]
     },
     "execution_count": 43,
     "metadata": {},
     "output_type": "execute_result"
    }
   ],
   "source": [
    "gb_params = {\n",
    "    \"random_state\": 42,\n",
    "    \"learning_rate\": 0.1,\n",
    "    \"n_estimators\": study.best_trial.params[\"n_estimators\"],\n",
    "    \"max_depth\": study.best_trial.params[\"max_depth\"],\n",
    "    \"min_samples_leaf\": study.best_trial.params[\"min_samples_leaf\"],\n",
    "    \"min_samples_split\": study.best_trial.params[\"min_samples_split\"],\n",
    "    \"subsample\": study.best_trial.params[\"subsample\"]\n",
    "}\n",
    "\n",
    "gb = GradientBoostingRegressor(**gb_params)\n",
    "gb.fit(Cd_X_train, Cd_y_train)"
   ]
  },
  {
   "cell_type": "code",
   "execution_count": 44,
   "id": "9959cba0",
   "metadata": {},
   "outputs": [],
   "source": [
    "# gb_params = {\n",
    "#     \"random_state\": 42,\n",
    "#     \"learning_rate\": 0.1,\n",
    "#     \"n_estimators\": 138,\n",
    "#     \"max_depth\": 2,\n",
    "#     \"min_samples_leaf\": 3,\n",
    "#     \"min_samples_split\": 6,\n",
    "#     \"subsample\": 0.4574655226902498\n",
    "# }\n",
    "\n",
    "# gb = GradientBoostingRegressor(**gb_params)\n",
    "# gb.fit(Cd_X_train, Cd_y_train)"
   ]
  },
  {
   "cell_type": "code",
   "execution_count": 45,
   "id": "9ab1055b",
   "metadata": {},
   "outputs": [],
   "source": [
    "y_train_pred = gb.predict(Cd_X_train)\n",
    "y_test_pred = gb.predict(Cd_X_test)"
   ]
  },
  {
   "cell_type": "code",
   "execution_count": 46,
   "id": "425b4001",
   "metadata": {},
   "outputs": [
    {
     "name": "stdout",
     "output_type": "stream",
     "text": [
      "Train RMSE:  0.07898695029115838\n",
      "Test RMSE:  0.1875180773508313\n"
     ]
    }
   ],
   "source": [
    "print(\"Train RMSE: \", np.sqrt(mean_squared_error(Cd_y_train, y_train_pred)))\n",
    "print(\"Test RMSE: \", np.sqrt(mean_squared_error(Cd_y_test, y_test_pred)))"
   ]
  },
  {
   "cell_type": "code",
   "execution_count": 47,
   "id": "0f95ae3c",
   "metadata": {},
   "outputs": [
    {
     "name": "stdout",
     "output_type": "stream",
     "text": [
      "Train R2:  0.8936917469840695\n",
      "Test R2:  0.41154708257055594\n"
     ]
    }
   ],
   "source": [
    "print(\"Train R2: \", r2_score(Cd_y_train, y_train_pred))\n",
    "print(\"Test R2: \", r2_score(Cd_y_test, y_test_pred))"
   ]
  },
  {
   "cell_type": "code",
   "execution_count": 48,
   "id": "49f07f23",
   "metadata": {},
   "outputs": [
    {
     "data": {
      "image/png": "[encoded data removed]",
      "text/plain": [
       "<Figure size 640x480 with 1 Axes>"
      ]
     },
     "metadata": {},
     "output_type": "display_data"
    }
   ],
   "source": [
    "plt.scatter(y_train_pred, np.array(Cd_y_train), color=\"orange\", alpha=0.3)\n",
    "plt.scatter(y_test_pred, np.array(Cd_y_test), color=\"green\", alpha=0.4)\n",
    "plt.axis(\"auto\") # scaled, tight, auto, image, square\n",
    "# plt.xlim([0, 1.5]) \n",
    "# plt.ylim(0, None) \n",
    "plt.xlabel('Predicted Values')\n",
    "plt.ylabel('Actual Values')\n",
    "\n",
    "# Add y=x line\n",
    "plt.plot([0, 0.30], [0, 0.30], color='red', linestyle='-')\n",
    "\n",
    "plt.show()"
   ]
  },
  {
   "cell_type": "code",
   "execution_count": 49,
   "id": "b2991dac",
   "metadata": {},
   "outputs": [],
   "source": [
    "# explainer = shap.KernelExplainer(gb.predict, Cd_X_train)\n",
    "# shap_values = explainer.shap_values(Cd_X_train)\n",
    "\n",
    "# shap.summary_plot(shap_values, Cd_X_train)\n",
    "\n",
    "# shap.force_plot(explainer.expected_value, shap_values[0], Cd_X_train[0])\n",
    "\n",
    "# print(shap_values)"
   ]
  },
  {
   "attachments": {},
   "cell_type": "markdown",
   "id": "74f680ea",
   "metadata": {},
   "source": [
    "Ni"
   ]
  },
  {
   "cell_type": "code",
   "execution_count": 50,
   "id": "de233338",
   "metadata": {},
   "outputs": [
    {
     "name": "stderr",
     "output_type": "stream",
     "text": [
      "\u001b[32m[I 2023-08-24 13:35:40,724]\u001b[0m A new study created in memory with name: gb_parameter_opt\u001b[0m\n",
      "\u001b[32m[I 2023-08-24 13:35:43,636]\u001b[0m Trial 0 finished with value: 0.7029076340601884 and parameters: {'n_estimators': 133, 'max_depth': 27, 'min_samples_leaf': 9, 'min_samples_split': 3, 'subsample': 0.2864058247377679}. Best is trial 0 with value: 0.7029076340601884.\u001b[0m\n",
      "\u001b[32m[I 2023-08-24 13:35:45,293]\u001b[0m Trial 1 finished with value: 0.6425161397659214 and parameters: {'n_estimators': 180, 'max_depth': 9, 'min_samples_leaf': 3, 'min_samples_split': 7, 'subsample': 0.10296592144224676}. Best is trial 0 with value: 0.7029076340601884.\u001b[0m\n",
      "\u001b[32m[I 2023-08-24 13:35:50,613]\u001b[0m Trial 2 finished with value: 0.7201999008222465 and parameters: {'n_estimators': 136, 'max_depth': 28, 'min_samples_leaf': 7, 'min_samples_split': 9, 'subsample': 0.4101650436704858}. Best is trial 2 with value: 0.7201999008222465.\u001b[0m\n",
      "\u001b[32m[I 2023-08-24 13:35:52,382]\u001b[0m Trial 3 finished with value: 0.6854877749622723 and parameters: {'n_estimators': 108, 'max_depth': 27, 'min_samples_leaf': 7, 'min_samples_split': 7, 'subsample': 0.2138075428763252}. Best is trial 2 with value: 0.7201999008222465.\u001b[0m\n",
      "\u001b[32m[I 2023-08-24 13:35:58,418]\u001b[0m Trial 4 finished with value: 0.7288590035588237 and parameters: {'n_estimators': 139, 'max_depth': 22, 'min_samples_leaf': 8, 'min_samples_split': 2, 'subsample': 0.460704851944124}. Best is trial 4 with value: 0.7288590035588237.\u001b[0m\n",
      "\u001b[32m[I 2023-08-24 13:36:01,673]\u001b[0m Trial 5 finished with value: 0.7240575235269342 and parameters: {'n_estimators': 107, 'max_depth': 22, 'min_samples_leaf': 9, 'min_samples_split': 2, 'subsample': 0.3748935805569228}. Best is trial 4 with value: 0.7288590035588237.\u001b[0m\n",
      "\u001b[32m[I 2023-08-24 13:36:03,698]\u001b[0m Trial 6 finished with value: 0.6684441645957218 and parameters: {'n_estimators': 176, 'max_depth': 5, 'min_samples_leaf': 3, 'min_samples_split': 8, 'subsample': 0.2065551048527841}. Best is trial 4 with value: 0.7288590035588237.\u001b[0m\n",
      "\u001b[32m[I 2023-08-24 13:36:09,230]\u001b[0m Trial 7 finished with value: 0.7238263898060648 and parameters: {'n_estimators': 115, 'max_depth': 23, 'min_samples_leaf': 7, 'min_samples_split': 2, 'subsample': 0.4831540119045413}. Best is trial 4 with value: 0.7288590035588237.\u001b[0m\n",
      "\u001b[32m[I 2023-08-24 13:36:11,075]\u001b[0m Trial 8 finished with value: 0.685438442386004 and parameters: {'n_estimators': 160, 'max_depth': 18, 'min_samples_leaf': 8, 'min_samples_split': 3, 'subsample': 0.16794708185003604}. Best is trial 4 with value: 0.7288590035588237.\u001b[0m\n",
      "\u001b[32m[I 2023-08-24 13:36:16,968]\u001b[0m Trial 9 finished with value: 0.7232274402724868 and parameters: {'n_estimators': 151, 'max_depth': 22, 'min_samples_leaf': 6, 'min_samples_split': 5, 'subsample': 0.38802262632824824}. Best is trial 4 with value: 0.7288590035588237.\u001b[0m\n",
      "\u001b[32m[I 2023-08-24 13:36:24,725]\u001b[0m Trial 10 finished with value: 0.7337228000793421 and parameters: {'n_estimators': 196, 'max_depth': 13, 'min_samples_leaf': 10, 'min_samples_split': 5, 'subsample': 0.48620306456618756}. Best is trial 10 with value: 0.7337228000793421.\u001b[0m\n",
      "\u001b[32m[I 2023-08-24 13:36:32,477]\u001b[0m Trial 11 finished with value: 0.7341113344521062 and parameters: {'n_estimators': 198, 'max_depth': 13, 'min_samples_leaf': 10, 'min_samples_split': 5, 'subsample': 0.4832219542374563}. Best is trial 11 with value: 0.7341113344521062.\u001b[0m\n",
      "\u001b[32m[I 2023-08-24 13:36:40,015]\u001b[0m Trial 12 finished with value: 0.7216532118683349 and parameters: {'n_estimators': 197, 'max_depth': 12, 'min_samples_leaf': 10, 'min_samples_split': 5, 'subsample': 0.4884068866836833}. Best is trial 11 with value: 0.7341113344521062.\u001b[0m\n",
      "\u001b[32m[I 2023-08-24 13:36:41,019]\u001b[0m Trial 13 finished with value: 0.5013309682317232 and parameters: {'n_estimators': 200, 'max_depth': 1, 'min_samples_leaf': 10, 'min_samples_split': 5, 'subsample': 0.3235749821980503}. Best is trial 11 with value: 0.7341113344521062.\u001b[0m\n",
      "\u001b[32m[I 2023-08-24 13:36:48,758]\u001b[0m Trial 14 finished with value: 0.7100647249001032 and parameters: {'n_estimators': 185, 'max_depth': 14, 'min_samples_leaf': 5, 'min_samples_split': 4, 'subsample': 0.43108668094107894}. Best is trial 11 with value: 0.7341113344521062.\u001b[0m\n",
      "\u001b[32m[I 2023-08-24 13:36:52,912]\u001b[0m Trial 15 finished with value: 0.7217872545327086 and parameters: {'n_estimators': 167, 'max_depth': 9, 'min_samples_leaf': 5, 'min_samples_split': 6, 'subsample': 0.3256452342614077}. Best is trial 11 with value: 0.7341113344521062.\u001b[0m\n",
      "\u001b[32m[I 2023-08-24 13:37:03,004]\u001b[0m Trial 16 finished with value: 0.7142176309703618 and parameters: {'n_estimators': 188, 'max_depth': 16, 'min_samples_leaf': 1, 'min_samples_split': 10, 'subsample': 0.4421497439837667}. Best is trial 11 with value: 0.7341113344521062.\u001b[0m\n",
      "\u001b[32m[I 2023-08-24 13:37:09,102]\u001b[0m Trial 17 finished with value: 0.7360318521721047 and parameters: {'n_estimators': 169, 'max_depth': 10, 'min_samples_leaf': 10, 'min_samples_split': 6, 'subsample': 0.4980103372185303}. Best is trial 17 with value: 0.7360318521721047.\u001b[0m\n",
      "\u001b[32m[I 2023-08-24 13:37:12,825]\u001b[0m Trial 18 finished with value: 0.7208011815625444 and parameters: {'n_estimators': 164, 'max_depth': 8, 'min_samples_leaf': 9, 'min_samples_split': 7, 'subsample': 0.352170192239346}. Best is trial 17 with value: 0.7360318521721047.\u001b[0m\n",
      "\u001b[32m[I 2023-08-24 13:37:16,170]\u001b[0m Trial 19 finished with value: 0.7177767337398644 and parameters: {'n_estimators': 173, 'max_depth': 4, 'min_samples_leaf': 8, 'min_samples_split': 6, 'subsample': 0.4992474977332604}. Best is trial 17 with value: 0.7360318521721047.\u001b[0m\n",
      "\u001b[32m[I 2023-08-24 13:37:23,012]\u001b[0m Trial 20 finished with value: 0.7315727450279615 and parameters: {'n_estimators': 148, 'max_depth': 18, 'min_samples_leaf': 4, 'min_samples_split': 4, 'subsample': 0.41618258293110066}. Best is trial 17 with value: 0.7360318521721047.\u001b[0m\n",
      "\u001b[32m[I 2023-08-24 13:37:30,036]\u001b[0m Trial 21 finished with value: 0.7280514162545424 and parameters: {'n_estimators': 193, 'max_depth': 13, 'min_samples_leaf': 10, 'min_samples_split': 4, 'subsample': 0.4550368778532889}. Best is trial 17 with value: 0.7360318521721047.\u001b[0m\n",
      "\u001b[32m[I 2023-08-24 13:37:36,950]\u001b[0m Trial 22 finished with value: 0.7233148591009065 and parameters: {'n_estimators': 189, 'max_depth': 12, 'min_samples_leaf': 10, 'min_samples_split': 6, 'subsample': 0.470042020572696}. Best is trial 17 with value: 0.7360318521721047.\u001b[0m\n",
      "\u001b[32m[I 2023-08-24 13:37:40,775]\u001b[0m Trial 23 finished with value: 0.7103007622514033 and parameters: {'n_estimators': 181, 'max_depth': 16, 'min_samples_leaf': 9, 'min_samples_split': 5, 'subsample': 0.2818106373327358}. Best is trial 17 with value: 0.7360318521721047.\u001b[0m\n",
      "\u001b[32m[I 2023-08-24 13:37:46,600]\u001b[0m Trial 24 finished with value: 0.7239176353879632 and parameters: {'n_estimators': 200, 'max_depth': 7, 'min_samples_leaf': 10, 'min_samples_split': 8, 'subsample': 0.4977348660667459}. Best is trial 17 with value: 0.7360318521721047.\u001b[0m\n",
      "\u001b[32m[I 2023-08-24 13:37:51,874]\u001b[0m Trial 25 finished with value: 0.7149912093512356 and parameters: {'n_estimators': 172, 'max_depth': 11, 'min_samples_leaf': 8, 'min_samples_split': 4, 'subsample': 0.3977409688574155}. Best is trial 17 with value: 0.7360318521721047.\u001b[0m\n",
      "\u001b[32m[I 2023-08-24 13:37:58,021]\u001b[0m Trial 26 finished with value: 0.721834479432926 and parameters: {'n_estimators': 158, 'max_depth': 19, 'min_samples_leaf': 9, 'min_samples_split': 6, 'subsample': 0.44061838811831405}. Best is trial 17 with value: 0.7360318521721047.\u001b[0m\n",
      "\u001b[32m[I 2023-08-24 13:38:04,617]\u001b[0m Trial 27 finished with value: 0.7029335720993592 and parameters: {'n_estimators': 191, 'max_depth': 10, 'min_samples_leaf': 1, 'min_samples_split': 5, 'subsample': 0.3703301184890879}. Best is trial 17 with value: 0.7360318521721047.\u001b[0m\n",
      "\u001b[32m[I 2023-08-24 13:38:07,540]\u001b[0m Trial 28 finished with value: 0.7071025939244022 and parameters: {'n_estimators': 121, 'max_depth': 6, 'min_samples_leaf': 10, 'min_samples_split': 3, 'subsample': 0.45773179866853986}. Best is trial 17 with value: 0.7360318521721047.\u001b[0m\n",
      "\u001b[32m[I 2023-08-24 13:38:11,073]\u001b[0m Trial 29 finished with value: 0.7089077465360989 and parameters: {'n_estimators': 183, 'max_depth': 14, 'min_samples_leaf': 9, 'min_samples_split': 7, 'subsample': 0.26225853771951846}. Best is trial 17 with value: 0.7360318521721047.\u001b[0m\n",
      "\u001b[32m[I 2023-08-24 13:38:13,042]\u001b[0m Trial 30 finished with value: 0.6695860724896757 and parameters: {'n_estimators': 146, 'max_depth': 3, 'min_samples_leaf': 6, 'min_samples_split': 8, 'subsample': 0.4221219083062701}. Best is trial 17 with value: 0.7360318521721047.\u001b[0m\n",
      "\u001b[32m[I 2023-08-24 13:38:21,097]\u001b[0m Trial 31 finished with value: 0.7185206405758622 and parameters: {'n_estimators': 151, 'max_depth': 18, 'min_samples_leaf': 4, 'min_samples_split': 4, 'subsample': 0.46700588196469495}. Best is trial 17 with value: 0.7360318521721047.\u001b[0m\n",
      "\u001b[32m[I 2023-08-24 13:38:28,619]\u001b[0m Trial 32 finished with value: 0.7174448424955585 and parameters: {'n_estimators': 130, 'max_depth': 16, 'min_samples_leaf': 3, 'min_samples_split': 4, 'subsample': 0.49910449533465734}. Best is trial 17 with value: 0.7360318521721047.\u001b[0m\n",
      "\u001b[32m[I 2023-08-24 13:38:35,529]\u001b[0m Trial 33 finished with value: 0.7196247260243149 and parameters: {'n_estimators': 143, 'max_depth': 20, 'min_samples_leaf': 4, 'min_samples_split': 6, 'subsample': 0.4194241133488393}. Best is trial 17 with value: 0.7360318521721047.\u001b[0m\n",
      "\u001b[32m[I 2023-08-24 13:38:42,314]\u001b[0m Trial 34 finished with value: 0.7186597778222545 and parameters: {'n_estimators': 128, 'max_depth': 14, 'min_samples_leaf': 2, 'min_samples_split': 5, 'subsample': 0.4721290510053739}. Best is trial 17 with value: 0.7360318521721047.\u001b[0m\n",
      "\u001b[32m[I 2023-08-24 13:38:50,302]\u001b[0m Trial 35 finished with value: 0.7278543397551165 and parameters: {'n_estimators': 158, 'max_depth': 30, 'min_samples_leaf': 4, 'min_samples_split': 3, 'subsample': 0.4161093010549526}. Best is trial 17 with value: 0.7360318521721047.\u001b[0m\n",
      "\u001b[32m[I 2023-08-24 13:38:58,295]\u001b[0m Trial 36 finished with value: 0.7285678990115056 and parameters: {'n_estimators': 178, 'max_depth': 25, 'min_samples_leaf': 7, 'min_samples_split': 7, 'subsample': 0.4465889123688054}. Best is trial 17 with value: 0.7360318521721047.\u001b[0m\n",
      "\u001b[32m[I 2023-08-24 13:39:05,350]\u001b[0m Trial 37 finished with value: 0.6932968911486491 and parameters: {'n_estimators': 194, 'max_depth': 10, 'min_samples_leaf': 2, 'min_samples_split': 4, 'subsample': 0.40091643480479355}. Best is trial 17 with value: 0.7360318521721047.\u001b[0m\n",
      "\u001b[32m[I 2023-08-24 13:39:06,570]\u001b[0m Trial 38 finished with value: 0.648849640466953 and parameters: {'n_estimators': 169, 'max_depth': 17, 'min_samples_leaf': 9, 'min_samples_split': 5, 'subsample': 0.11858393925154817}. Best is trial 17 with value: 0.7360318521721047.\u001b[0m\n",
      "\u001b[32m[I 2023-08-24 13:39:13,430]\u001b[0m Trial 39 finished with value: 0.7296970477480884 and parameters: {'n_estimators': 154, 'max_depth': 20, 'min_samples_leaf': 8, 'min_samples_split': 3, 'subsample': 0.47133321143486184}. Best is trial 17 with value: 0.7360318521721047.\u001b[0m\n",
      "\u001b[32m[I 2023-08-24 13:39:15,933]\u001b[0m Trial 40 finished with value: 0.7216230599796546 and parameters: {'n_estimators': 102, 'max_depth': 8, 'min_samples_leaf': 7, 'min_samples_split': 6, 'subsample': 0.36612317223111057}. Best is trial 17 with value: 0.7360318521721047.\u001b[0m\n",
      "\u001b[32m[I 2023-08-24 13:39:22,933]\u001b[0m Trial 41 finished with value: 0.725893075576477 and parameters: {'n_estimators': 155, 'max_depth': 20, 'min_samples_leaf': 8, 'min_samples_split': 2, 'subsample': 0.4765981294394711}. Best is trial 17 with value: 0.7360318521721047.\u001b[0m\n",
      "\u001b[32m[I 2023-08-24 13:39:28,952]\u001b[0m Trial 42 finished with value: 0.7357520284774788 and parameters: {'n_estimators': 139, 'max_depth': 21, 'min_samples_leaf': 9, 'min_samples_split': 3, 'subsample': 0.479850537747478}. Best is trial 17 with value: 0.7360318521721047.\u001b[0m\n",
      "\u001b[32m[I 2023-08-24 13:39:34,707]\u001b[0m Trial 43 finished with value: 0.7308971944292009 and parameters: {'n_estimators': 137, 'max_depth': 25, 'min_samples_leaf': 10, 'min_samples_split': 3, 'subsample': 0.4822281676657965}. Best is trial 17 with value: 0.7360318521721047.\u001b[0m\n",
      "\u001b[32m[I 2023-08-24 13:39:40,534]\u001b[0m Trial 44 finished with value: 0.7128237494230891 and parameters: {'n_estimators': 143, 'max_depth': 15, 'min_samples_leaf': 9, 'min_samples_split': 4, 'subsample': 0.44156515126780954}. Best is trial 17 with value: 0.7360318521721047.\u001b[0m\n",
      "\u001b[32m[I 2023-08-24 13:39:45,949]\u001b[0m Trial 45 finished with value: 0.7269898055669339 and parameters: {'n_estimators': 134, 'max_depth': 24, 'min_samples_leaf': 10, 'min_samples_split': 5, 'subsample': 0.45944895857327056}. Best is trial 17 with value: 0.7360318521721047.\u001b[0m\n",
      "\u001b[32m[I 2023-08-24 13:39:50,814]\u001b[0m Trial 46 finished with value: 0.73163842052682 and parameters: {'n_estimators': 124, 'max_depth': 12, 'min_samples_leaf': 9, 'min_samples_split': 2, 'subsample': 0.48409526143946896}. Best is trial 17 with value: 0.7360318521721047.\u001b[0m\n",
      "\u001b[32m[I 2023-08-24 13:39:52,807]\u001b[0m Trial 47 finished with value: 0.6969800183884487 and parameters: {'n_estimators': 120, 'max_depth': 11, 'min_samples_leaf': 9, 'min_samples_split': 2, 'subsample': 0.23743431038012336}. Best is trial 17 with value: 0.7360318521721047.\u001b[0m\n",
      "\u001b[32m[I 2023-08-24 13:39:57,596]\u001b[0m Trial 48 finished with value: 0.7278393187763569 and parameters: {'n_estimators': 125, 'max_depth': 12, 'min_samples_leaf': 10, 'min_samples_split': 2, 'subsample': 0.48348420265392916}. Best is trial 17 with value: 0.7360318521721047.\u001b[0m\n",
      "\u001b[32m[I 2023-08-24 13:40:01,603]\u001b[0m Trial 49 finished with value: 0.7252190169103943 and parameters: {'n_estimators': 110, 'max_depth': 13, 'min_samples_leaf': 8, 'min_samples_split': 2, 'subsample': 0.43367887473236605}. Best is trial 17 with value: 0.7360318521721047.\u001b[0m\n",
      "\u001b[32m[I 2023-08-24 13:40:06,179]\u001b[0m Trial 50 finished with value: 0.7275007222614482 and parameters: {'n_estimators': 196, 'max_depth': 9, 'min_samples_leaf': 9, 'min_samples_split': 3, 'subsample': 0.3367941996464786}. Best is trial 17 with value: 0.7360318521721047.\u001b[0m\n",
      "\u001b[32m[I 2023-08-24 13:40:12,218]\u001b[0m Trial 51 finished with value: 0.731203752077746 and parameters: {'n_estimators': 140, 'max_depth': 22, 'min_samples_leaf': 10, 'min_samples_split': 4, 'subsample': 0.48679759442608056}. Best is trial 17 with value: 0.7360318521721047.\u001b[0m\n",
      "\u001b[32m[I 2023-08-24 13:40:20,289]\u001b[0m Trial 52 finished with value: 0.7257235076100275 and parameters: {'n_estimators': 164, 'max_depth': 18, 'min_samples_leaf': 5, 'min_samples_split': 3, 'subsample': 0.4540765227773558}. Best is trial 17 with value: 0.7360318521721047.\u001b[0m\n",
      "\u001b[32m[I 2023-08-24 13:40:26,442]\u001b[0m Trial 53 finished with value: 0.7280965975052665 and parameters: {'n_estimators': 148, 'max_depth': 15, 'min_samples_leaf': 10, 'min_samples_split': 5, 'subsample': 0.4961734214659109}. Best is trial 17 with value: 0.7360318521721047.\u001b[0m\n",
      "\u001b[32m[I 2023-08-24 13:40:32,856]\u001b[0m Trial 54 finished with value: 0.7210448810598529 and parameters: {'n_estimators': 187, 'max_depth': 13, 'min_samples_leaf': 6, 'min_samples_split': 2, 'subsample': 0.38799808933526847}. Best is trial 17 with value: 0.7360318521721047.\u001b[0m\n",
      "\u001b[32m[I 2023-08-24 13:40:36,551]\u001b[0m Trial 55 finished with value: 0.7250779174870694 and parameters: {'n_estimators': 114, 'max_depth': 11, 'min_samples_leaf': 9, 'min_samples_split': 4, 'subsample': 0.4305608877327997}. Best is trial 17 with value: 0.7360318521721047.\u001b[0m\n",
      "\u001b[32m[I 2023-08-24 13:40:42,294]\u001b[0m Trial 56 finished with value: 0.7317928368346263 and parameters: {'n_estimators': 139, 'max_depth': 17, 'min_samples_leaf': 10, 'min_samples_split': 6, 'subsample': 0.48226093987220503}. Best is trial 17 with value: 0.7360318521721047.\u001b[0m\n",
      "\u001b[32m[I 2023-08-24 13:40:47,507]\u001b[0m Trial 57 finished with value: 0.7288822269479632 and parameters: {'n_estimators': 127, 'max_depth': 17, 'min_samples_leaf': 10, 'min_samples_split': 6, 'subsample': 0.48038222954170046}. Best is trial 17 with value: 0.7360318521721047.\u001b[0m\n",
      "\u001b[32m[I 2023-08-24 13:40:53,235]\u001b[0m Trial 58 finished with value: 0.7165546358109569 and parameters: {'n_estimators': 134, 'max_depth': 21, 'min_samples_leaf': 9, 'min_samples_split': 10, 'subsample': 0.4643084114393552}. Best is trial 17 with value: 0.7360318521721047.\u001b[0m\n",
      "\u001b[32m[I 2023-08-24 13:40:57,274]\u001b[0m Trial 59 finished with value: 0.7181848688771776 and parameters: {'n_estimators': 122, 'max_depth': 10, 'min_samples_leaf': 10, 'min_samples_split': 7, 'subsample': 0.45008779496253903}. Best is trial 17 with value: 0.7360318521721047.\u001b[0m\n",
      "\u001b[32m[I 2023-08-24 13:40:58,703]\u001b[0m Trial 60 finished with value: 0.6529658972774648 and parameters: {'n_estimators': 141, 'max_depth': 14, 'min_samples_leaf': 10, 'min_samples_split': 6, 'subsample': 0.16150486371619838}. Best is trial 17 with value: 0.7360318521721047.\u001b[0m\n",
      "\u001b[32m[I 2023-08-24 13:41:05,279]\u001b[0m Trial 61 finished with value: 0.731425762254824 and parameters: {'n_estimators': 146, 'max_depth': 17, 'min_samples_leaf': 9, 'min_samples_split': 5, 'subsample': 0.49732527588786646}. Best is trial 17 with value: 0.7360318521721047.\u001b[0m\n",
      "\u001b[32m[I 2023-08-24 13:41:11,141]\u001b[0m Trial 62 finished with value: 0.7315294963546999 and parameters: {'n_estimators': 138, 'max_depth': 19, 'min_samples_leaf': 10, 'min_samples_split': 6, 'subsample': 0.48487115104508616}. Best is trial 17 with value: 0.7360318521721047.\u001b[0m\n",
      "\u001b[32m[I 2023-08-24 13:41:15,942]\u001b[0m Trial 63 finished with value: 0.7196120715506921 and parameters: {'n_estimators': 131, 'max_depth': 12, 'min_samples_leaf': 9, 'min_samples_split': 5, 'subsample': 0.46250841019263533}. Best is trial 17 with value: 0.7360318521721047.\u001b[0m\n",
      "\u001b[32m[I 2023-08-24 13:41:24,444]\u001b[0m Trial 64 finished with value: 0.7218104982255759 and parameters: {'n_estimators': 176, 'max_depth': 15, 'min_samples_leaf': 3, 'min_samples_split': 3, 'subsample': 0.43067513175398764}. Best is trial 17 with value: 0.7360318521721047.\u001b[0m\n",
      "\u001b[32m[I 2023-08-24 13:41:28,617]\u001b[0m Trial 65 finished with value: 0.7278135908146236 and parameters: {'n_estimators': 162, 'max_depth': 8, 'min_samples_leaf': 10, 'min_samples_split': 6, 'subsample': 0.40755712409232936}. Best is trial 17 with value: 0.7360318521721047.\u001b[0m\n",
      "\u001b[32m[I 2023-08-24 13:41:35,194]\u001b[0m Trial 66 finished with value: 0.723875586666548 and parameters: {'n_estimators': 153, 'max_depth': 16, 'min_samples_leaf': 8, 'min_samples_split': 5, 'subsample': 0.4743196278876718}. Best is trial 17 with value: 0.7360318521721047.\u001b[0m\n",
      "\u001b[32m[I 2023-08-24 13:41:45,156]\u001b[0m Trial 67 finished with value: 0.7203862921133124 and parameters: {'n_estimators': 200, 'max_depth': 19, 'min_samples_leaf': 5, 'min_samples_split': 7, 'subsample': 0.44889200444388855}. Best is trial 17 with value: 0.7360318521721047.\u001b[0m\n",
      "\u001b[32m[I 2023-08-24 13:41:53,556]\u001b[0m Trial 68 finished with value: 0.7275386921651046 and parameters: {'n_estimators': 183, 'max_depth': 23, 'min_samples_leaf': 9, 'min_samples_split': 4, 'subsample': 0.4888073244842543}. Best is trial 17 with value: 0.7360318521721047.\u001b[0m\n",
      "\u001b[32m[I 2023-08-24 13:42:00,368]\u001b[0m Trial 69 finished with value: 0.7267924293636165 and parameters: {'n_estimators': 150, 'max_depth': 13, 'min_samples_leaf': 4, 'min_samples_split': 8, 'subsample': 0.4632707696104426}. Best is trial 17 with value: 0.7360318521721047.\u001b[0m\n",
      "\u001b[32m[I 2023-08-24 13:42:04,999]\u001b[0m Trial 70 finished with value: 0.7246309401701676 and parameters: {'n_estimators': 196, 'max_depth': 7, 'min_samples_leaf': 7, 'min_samples_split': 4, 'subsample': 0.3853873924647088}. Best is trial 17 with value: 0.7360318521721047.\u001b[0m\n",
      "\u001b[32m[I 2023-08-24 13:42:08,199]\u001b[0m Trial 71 finished with value: 0.7107072352024415 and parameters: {'n_estimators': 144, 'max_depth': 19, 'min_samples_leaf': 10, 'min_samples_split': 6, 'subsample': 0.30338499587925805}. Best is trial 17 with value: 0.7360318521721047.\u001b[0m\n",
      "\u001b[32m[I 2023-08-24 13:42:14,051]\u001b[0m Trial 72 finished with value: 0.7324633414891745 and parameters: {'n_estimators': 135, 'max_depth': 21, 'min_samples_leaf': 10, 'min_samples_split': 6, 'subsample': 0.4923660732736134}. Best is trial 17 with value: 0.7360318521721047.\u001b[0m\n",
      "\u001b[32m[I 2023-08-24 13:42:20,053]\u001b[0m Trial 73 finished with value: 0.7333563845337676 and parameters: {'n_estimators': 136, 'max_depth': 21, 'min_samples_leaf': 10, 'min_samples_split': 7, 'subsample': 0.4999294286098654}. Best is trial 17 with value: 0.7360318521721047.\u001b[0m\n",
      "\u001b[32m[I 2023-08-24 13:42:25,935]\u001b[0m Trial 74 finished with value: 0.7242846448218272 and parameters: {'n_estimators': 136, 'max_depth': 21, 'min_samples_leaf': 10, 'min_samples_split': 9, 'subsample': 0.49150470310866395}. Best is trial 17 with value: 0.7360318521721047.\u001b[0m\n",
      "\u001b[32m[I 2023-08-24 13:42:31,175]\u001b[0m Trial 75 finished with value: 0.7257438326542266 and parameters: {'n_estimators': 130, 'max_depth': 26, 'min_samples_leaf': 10, 'min_samples_split': 7, 'subsample': 0.4691255725741367}. Best is trial 17 with value: 0.7360318521721047.\u001b[0m\n",
      "\u001b[32m[I 2023-08-24 13:42:39,493]\u001b[0m Trial 76 finished with value: 0.7245390653327585 and parameters: {'n_estimators': 191, 'max_depth': 21, 'min_samples_leaf': 9, 'min_samples_split': 7, 'subsample': 0.47657325831534486}. Best is trial 17 with value: 0.7360318521721047.\u001b[0m\n",
      "\u001b[32m[I 2023-08-24 13:42:45,330]\u001b[0m Trial 77 finished with value: 0.7280863430055282 and parameters: {'n_estimators': 133, 'max_depth': 23, 'min_samples_leaf': 10, 'min_samples_split': 7, 'subsample': 0.49606476486854156}. Best is trial 17 with value: 0.7360318521721047.\u001b[0m\n",
      "\u001b[32m[I 2023-08-24 13:42:50,716]\u001b[0m Trial 78 finished with value: 0.7204556332633505 and parameters: {'n_estimators': 117, 'max_depth': 28, 'min_samples_leaf': 9, 'min_samples_split': 8, 'subsample': 0.4996299025324744}. Best is trial 17 with value: 0.7360318521721047.\u001b[0m\n",
      "\u001b[32m[I 2023-08-24 13:42:55,468]\u001b[0m Trial 79 finished with value: 0.7219321669417689 and parameters: {'n_estimators': 124, 'max_depth': 22, 'min_samples_leaf': 10, 'min_samples_split': 6, 'subsample': 0.4561362544262004}. Best is trial 17 with value: 0.7360318521721047.\u001b[0m\n",
      "\u001b[32m[I 2023-08-24 13:43:00,511]\u001b[0m Trial 80 finished with value: 0.7241316337036359 and parameters: {'n_estimators': 137, 'max_depth': 11, 'min_samples_leaf': 9, 'min_samples_split': 6, 'subsample': 0.47919003837683233}. Best is trial 17 with value: 0.7360318521721047.\u001b[0m\n",
      "\u001b[32m[I 2023-08-24 13:43:05,691]\u001b[0m Trial 81 finished with value: 0.7139395730219478 and parameters: {'n_estimators': 141, 'max_depth': 20, 'min_samples_leaf': 10, 'min_samples_split': 5, 'subsample': 0.43885724399293835}. Best is trial 17 with value: 0.7360318521721047.\u001b[0m\n",
      "\u001b[32m[I 2023-08-24 13:43:11,760]\u001b[0m Trial 82 finished with value: 0.723701244416388 and parameters: {'n_estimators': 145, 'max_depth': 18, 'min_samples_leaf': 10, 'min_samples_split': 5, 'subsample': 0.48640033419575623}. Best is trial 17 with value: 0.7360318521721047.\u001b[0m\n",
      "\u001b[32m[I 2023-08-24 13:43:17,434]\u001b[0m Trial 83 finished with value: 0.7207797504271284 and parameters: {'n_estimators': 147, 'max_depth': 14, 'min_samples_leaf': 10, 'min_samples_split': 6, 'subsample': 0.4696638317829806}. Best is trial 17 with value: 0.7360318521721047.\u001b[0m\n",
      "\u001b[32m[I 2023-08-24 13:43:22,035]\u001b[0m Trial 84 finished with value: 0.7233218981022594 and parameters: {'n_estimators': 128, 'max_depth': 17, 'min_samples_leaf': 9, 'min_samples_split': 3, 'subsample': 0.4235155994399543}. Best is trial 17 with value: 0.7360318521721047.\u001b[0m\n",
      "\u001b[32m[I 2023-08-24 13:43:29,533]\u001b[0m Trial 85 finished with value: 0.7128727455016539 and parameters: {'n_estimators': 149, 'max_depth': 12, 'min_samples_leaf': 2, 'min_samples_split': 2, 'subsample': 0.489253658430797}. Best is trial 17 with value: 0.7360318521721047.\u001b[0m\n",
      "\u001b[32m[I 2023-08-24 13:43:35,267]\u001b[0m Trial 86 finished with value: 0.7262867943029537 and parameters: {'n_estimators': 140, 'max_depth': 23, 'min_samples_leaf': 8, 'min_samples_split': 7, 'subsample': 0.4466142106841928}. Best is trial 17 with value: 0.7360318521721047.\u001b[0m\n",
      "\u001b[32m[I 2023-08-24 13:43:40,648]\u001b[0m Trial 87 finished with value: 0.7243958843635067 and parameters: {'n_estimators': 131, 'max_depth': 21, 'min_samples_leaf': 10, 'min_samples_split': 6, 'subsample': 0.47529675721272885}. Best is trial 17 with value: 0.7360318521721047.\u001b[0m\n",
      "\u001b[32m[I 2023-08-24 13:43:46,031]\u001b[0m Trial 88 finished with value: 0.7257706198778969 and parameters: {'n_estimators': 135, 'max_depth': 18, 'min_samples_leaf': 9, 'min_samples_split': 5, 'subsample': 0.4563066973887677}. Best is trial 17 with value: 0.7360318521721047.\u001b[0m\n",
      "\u001b[32m[I 2023-08-24 13:43:51,367]\u001b[0m Trial 89 finished with value: 0.7252747193927581 and parameters: {'n_estimators': 169, 'max_depth': 9, 'min_samples_leaf': 10, 'min_samples_split': 3, 'subsample': 0.4658246726001443}. Best is trial 17 with value: 0.7360318521721047.\u001b[0m\n",
      "\u001b[32m[I 2023-08-24 13:43:58,492]\u001b[0m Trial 90 finished with value: 0.727739182142382 and parameters: {'n_estimators': 158, 'max_depth': 20, 'min_samples_leaf': 9, 'min_samples_split': 4, 'subsample': 0.4887863382606259}. Best is trial 17 with value: 0.7360318521721047.\u001b[0m\n",
      "\u001b[32m[I 2023-08-24 13:44:04,308]\u001b[0m Trial 91 finished with value: 0.7371974093254143 and parameters: {'n_estimators': 139, 'max_depth': 19, 'min_samples_leaf': 10, 'min_samples_split': 6, 'subsample': 0.4824492856086638}. Best is trial 91 with value: 0.7371974093254143.\u001b[0m\n",
      "\u001b[32m[I 2023-08-24 13:44:10,145]\u001b[0m Trial 92 finished with value: 0.7267737477659721 and parameters: {'n_estimators': 142, 'max_depth': 16, 'min_samples_leaf': 10, 'min_samples_split': 6, 'subsample': 0.48178144986815674}. Best is trial 91 with value: 0.7371974093254143.\u001b[0m\n",
      "\u001b[32m[I 2023-08-24 13:44:15,141]\u001b[0m Trial 93 finished with value: 0.7344583660957069 and parameters: {'n_estimators': 139, 'max_depth': 10, 'min_samples_leaf': 10, 'min_samples_split': 6, 'subsample': 0.49836673903967615}. Best is trial 91 with value: 0.7371974093254143.\u001b[0m\n",
      "\u001b[32m[I 2023-08-24 13:44:20,156]\u001b[0m Trial 94 finished with value: 0.7340773698226015 and parameters: {'n_estimators': 139, 'max_depth': 10, 'min_samples_leaf': 10, 'min_samples_split': 6, 'subsample': 0.4974313238082026}. Best is trial 91 with value: 0.7371974093254143.\u001b[0m\n",
      "\u001b[32m[I 2023-08-24 13:44:25,125]\u001b[0m Trial 95 finished with value: 0.7358687016412505 and parameters: {'n_estimators': 138, 'max_depth': 10, 'min_samples_leaf': 10, 'min_samples_split': 6, 'subsample': 0.4980187612957282}. Best is trial 91 with value: 0.7371974093254143.\u001b[0m\n",
      "\u001b[32m[I 2023-08-24 13:44:29,861]\u001b[0m Trial 96 finished with value: 0.723688992649508 and parameters: {'n_estimators': 132, 'max_depth': 10, 'min_samples_leaf': 10, 'min_samples_split': 6, 'subsample': 0.4987214674353305}. Best is trial 91 with value: 0.7371974093254143.\u001b[0m\n",
      "\u001b[32m[I 2023-08-24 13:44:33,871]\u001b[0m Trial 97 finished with value: 0.7264741251749222 and parameters: {'n_estimators': 137, 'max_depth': 7, 'min_samples_leaf': 10, 'min_samples_split': 6, 'subsample': 0.49976822908950985}. Best is trial 91 with value: 0.7371974093254143.\u001b[0m\n",
      "\u001b[32m[I 2023-08-24 13:44:37,428]\u001b[0m Trial 98 finished with value: 0.7179866009240556 and parameters: {'n_estimators': 143, 'max_depth': 6, 'min_samples_leaf': 10, 'min_samples_split': 7, 'subsample': 0.4725660006501916}. Best is trial 91 with value: 0.7371974093254143.\u001b[0m\n",
      "\u001b[32m[I 2023-08-24 13:44:44,435]\u001b[0m Trial 99 finished with value: 0.7289045105030263 and parameters: {'n_estimators': 198, 'max_depth': 10, 'min_samples_leaf': 10, 'min_samples_split': 7, 'subsample': 0.49116382171514594}. Best is trial 91 with value: 0.7371974093254143.\u001b[0m\n"
     ]
    },
    {
     "name": "stdout",
     "output_type": "stream",
     "text": [
      "Best r2:  0.7371974093254143\n",
      "Best trial: {'n_estimators': 139, 'max_depth': 19, 'min_samples_leaf': 10, 'min_samples_split': 6, 'subsample': 0.4824492856086638}\n"
     ]
    }
   ],
   "source": [
    "sampler = TPESampler()\n",
    "study = optuna.create_study(\n",
    "    study_name=\"gb_parameter_opt\",\n",
    "    direction=\"maximize\",\n",
    "    sampler=sampler,\n",
    ")\n",
    "\n",
    "study.optimize(lambda trial : objectiveGB(trial, Ni_X_train, Ni_y_train), n_trials=100)\n",
    "print(\"Best r2: \", study.best_value)\n",
    "print(\"Best trial:\", study.best_trial.params)"
   ]
  },
  {
   "cell_type": "code",
   "execution_count": 51,
   "id": "d71c01fb",
   "metadata": {},
   "outputs": [
    {
     "data": {
      "application/vnd.plotly.v1+json": {
       "config": {
        "plotlyServerURL": "https://plot.ly"
       },
       "data": [
        {
         "dimensions": [
          {
           "label": "Objective Value",
           "range": [
            0.5013309682317232,
            0.7371974093254143
           ],
           "values": [
            0.7029076340601884,
            0.6425161397659214,
            0.7201999008222465,
            0.6854877749622723,
            0.7288590035588237,
            0.7240575235269342,
            0.6684441645957218,
            0.7238263898060648,
            0.685438442386004,
            0.7232274402724868,
            0.7337228000793421,
            0.7341113344521062,
            0.7216532118683349,
            0.5013309682317232,
            0.7100647249001032,
            0.7217872545327086,
            0.7142176309703618,
            0.7360318521721047,
            0.7208011815625444,
            0.7177767337398644,
            0.7315727450279615,
            0.7280514162545424,
            0.7233148591009065,
            0.7103007622514033,
            0.7239176353879632,
            0.7149912093512356,
            0.721834479432926,
            0.7029335720993592,
            0.7071025939244022,
            0.7089077465360989,
            0.6695860724896757,
            0.7185206405758622,
            0.7174448424955585,
            0.7196247260243149,
            0.7186597778222545,
            0.7278543397551165,
            0.7285678990115056,
            0.6932968911486491,
            0.648849640466953,
            0.7296970477480884,
            0.7216230599796546,
            0.725893075576477,
            0.7357520284774788,
            0.7308971944292009,
            0.7128237494230891,
            0.7269898055669339,
            0.73163842052682,
            0.6969800183884487,
            0.7278393187763569,
            0.7252190169103943,
            0.7275007222614482,
            0.731203752077746,
            0.7257235076100275,
            0.7280965975052665,
            0.7210448810598529,
            0.7250779174870694,
            0.7317928368346263,
            0.7288822269479632,
            0.7165546358109569,
            0.7181848688771776,
            0.6529658972774648,
            0.731425762254824,
            0.7315294963546999,
            0.7196120715506921,
            0.7218104982255759,
            0.7278135908146236,
            0.723875586666548,
            0.7203862921133124,
            0.7275386921651046,
            0.7267924293636165,
            0.7246309401701676,
            0.7107072352024415,
            0.7324633414891745,
            0.7333563845337676,
            0.7242846448218272,
            0.7257438326542266,
            0.7245390653327585,
            0.7280863430055282,
            0.7204556332633505,
            0.7219321669417689,
            0.7241316337036359,
            0.7139395730219478,
            0.723701244416388,
            0.7207797504271284,
            0.7233218981022594,
            0.7128727455016539,
            0.7262867943029537,
            0.7243958843635067,
            0.7257706198778969,
            0.7252747193927581,
            0.727739182142382,
            0.7371974093254143,
            0.7267737477659721,
            0.7344583660957069,
            0.7340773698226015,
            0.7358687016412505,
            0.723688992649508,
            0.7264741251749222,
            0.7179866009240556,
            0.7289045105030263
           ]
          },
          {
           "label": "max_depth",
           "range": [
            1,
            30
           ],
           "values": [
            27,
            9,
            28,
            27,
            22,
            22,
            5,
            23,
            18,
            22,
            13,
            13,
            12,
            1,
            14,
            9,
            16,
            10,
            8,
            4,
            18,
            13,
            12,
            16,
            7,
            11,
            19,
            10,
            6,
            14,
            3,
            18,
            16,
            20,
            14,
            30,
            25,
            10,
            17,
            20,
            8,
            20,
            21,
            25,
            15,
            24,
            12,
            11,
            12,
            13,
            9,
            22,
            18,
            15,
            13,
            11,
            17,
            17,
            21,
            10,
            14,
            17,
            19,
            12,
            15,
            8,
            16,
            19,
            23,
            13,
            7,
            19,
            21,
            21,
            21,
            26,
            21,
            23,
            28,
            22,
            11,
            20,
            18,
            14,
            17,
            12,
            23,
            21,
            18,
            9,
            20,
            19,
            16,
            10,
            10,
            10,
            10,
            7,
            6,
            10
           ]
          },
          {
           "label": "min_samples_leaf",
           "range": [
            1,
            10
           ],
           "values": [
            9,
            3,
            7,
            7,
            8,
            9,
            3,
            7,
            8,
            6,
            10,
            10,
            10,
            10,
            5,
            5,
            1,
            10,
            9,
            8,
            4,
            10,
            10,
            9,
            10,
            8,
            9,
            1,
            10,
            9,
            6,
            4,
            3,
            4,
            2,
            4,
            7,
            2,
            9,
            8,
            7,
            8,
            9,
            10,
            9,
            10,
            9,
            9,
            10,
            8,
            9,
            10,
            5,
            10,
            6,
            9,
            10,
            10,
            9,
            10,
            10,
            9,
            10,
            9,
            3,
            10,
            8,
            5,
            9,
            4,
            7,
            10,
            10,
            10,
            10,
            10,
            9,
            10,
            9,
            10,
            9,
            10,
            10,
            10,
            9,
            2,
            8,
            10,
            9,
            10,
            9,
            10,
            10,
            10,
            10,
            10,
            10,
            10,
            10,
            10
           ]
          },
          {
           "label": "min_samples_split",
           "range": [
            2,
            10
           ],
           "values": [
            3,
            7,
            9,
            7,
            2,
            2,
            8,
            2,
            3,
            5,
            5,
            5,
            5,
            5,
            4,
            6,
            10,
            6,
            7,
            6,
            4,
            4,
            6,
            5,
            8,
            4,
            6,
            5,
            3,
            7,
            8,
            4,
            4,
            6,
            5,
            3,
            7,
            4,
            5,
            3,
            6,
            2,
            3,
            3,
            4,
            5,
            2,
            2,
            2,
            2,
            3,
            4,
            3,
            5,
            2,
            4,
            6,
            6,
            10,
            7,
            6,
            5,
            6,
            5,
            3,
            6,
            5,
            7,
            4,
            8,
            4,
            6,
            6,
            7,
            9,
            7,
            7,
            7,
            8,
            6,
            6,
            5,
            5,
            6,
            3,
            2,
            7,
            6,
            5,
            3,
            4,
            6,
            6,
            6,
            6,
            6,
            6,
            6,
            7,
            7
           ]
          },
          {
           "label": "n_estimators",
           "range": [
            102,
            200
           ],
           "values": [
            133,
            180,
            136,
            108,
            139,
            107,
            176,
            115,
            160,
            151,
            196,
            198,
            197,
            200,
            185,
            167,
            188,
            169,
            164,
            173,
            148,
            193,
            189,
            181,
            200,
            172,
            158,
            191,
            121,
            183,
            146,
            151,
            130,
            143,
            128,
            158,
            178,
            194,
            169,
            154,
            102,
            155,
            139,
            137,
            143,
            134,
            124,
            120,
            125,
            110,
            196,
            140,
            164,
            148,
            187,
            114,
            139,
            127,
            134,
            122,
            141,
            146,
            138,
            131,
            176,
            162,
            153,
            200,
            183,
            150,
            196,
            144,
            135,
            136,
            136,
            130,
            191,
            133,
            117,
            124,
            137,
            141,
            145,
            147,
            128,
            149,
            140,
            131,
            135,
            169,
            158,
            139,
            142,
            139,
            139,
            138,
            132,
            137,
            143,
            198
           ]
          },
          {
           "label": "subsample",
           "range": [
            0.10296592144224676,
            0.4999294286098654
           ],
           "values": [
            0.2864058247377679,
            0.10296592144224676,
            0.4101650436704858,
            0.2138075428763252,
            0.460704851944124,
            0.3748935805569228,
            0.2065551048527841,
            0.4831540119045413,
            0.16794708185003604,
            0.38802262632824824,
            0.48620306456618756,
            0.4832219542374563,
            0.4884068866836833,
            0.3235749821980503,
            0.43108668094107894,
            0.3256452342614077,
            0.4421497439837667,
            0.4980103372185303,
            0.352170192239346,
            0.4992474977332604,
            0.41618258293110066,
            0.4550368778532889,
            0.470042020572696,
            0.2818106373327358,
            0.4977348660667459,
            0.3977409688574155,
            0.44061838811831405,
            0.3703301184890879,
            0.45773179866853986,
            0.26225853771951846,
            0.4221219083062701,
            0.46700588196469495,
            0.49910449533465734,
            0.4194241133488393,
            0.4721290510053739,
            0.4161093010549526,
            0.4465889123688054,
            0.40091643480479355,
            0.11858393925154817,
            0.47133321143486184,
            0.36612317223111057,
            0.4765981294394711,
            0.479850537747478,
            0.4822281676657965,
            0.44156515126780954,
            0.45944895857327056,
            0.48409526143946896,
            0.23743431038012336,
            0.48348420265392916,
            0.43367887473236605,
            0.3367941996464786,
            0.48679759442608056,
            0.4540765227773558,
            0.4961734214659109,
            0.38799808933526847,
            0.4305608877327997,
            0.48226093987220503,
            0.48038222954170046,
            0.4643084114393552,
            0.45008779496253903,
            0.16150486371619838,
            0.49732527588786646,
            0.48487115104508616,
            0.46250841019263533,
            0.43067513175398764,
            0.40755712409232936,
            0.4743196278876718,
            0.44889200444388855,
            0.4888073244842543,
            0.4632707696104426,
            0.3853873924647088,
            0.30338499587925805,
            0.4923660732736134,
            0.4999294286098654,
            0.49150470310866395,
            0.4691255725741367,
            0.47657325831534486,
            0.49606476486854156,
            0.4996299025324744,
            0.4561362544262004,
            0.47919003837683233,
            0.43885724399293835,
            0.48640033419575623,
            0.4696638317829806,
            0.4235155994399543,
            0.489253658430797,
            0.4466142106841928,
            0.47529675721272885,
            0.4563066973887677,
            0.4658246726001443,
            0.4887863382606259,
            0.4824492856086638,
            0.48178144986815674,
            0.49836673903967615,
            0.4974313238082026,
            0.4980187612957282,
            0.4987214674353305,
            0.49976822908950985,
            0.4725660006501916,
            0.49116382171514594
           ]
          }
         ],
         "labelangle": 30,
         "labelside": "bottom",
         "line": {
          "color": [
           0.7029076340601884,
           0.6425161397659214,
           0.7201999008222465,
           0.6854877749622723,
           0.7288590035588237,
           0.7240575235269342,
           0.6684441645957218,
           0.7238263898060648,
           0.685438442386004,
           0.7232274402724868,
           0.7337228000793421,
           0.7341113344521062,
           0.7216532118683349,
           0.5013309682317232,
           0.7100647249001032,
           0.7217872545327086,
           0.7142176309703618,
           0.7360318521721047,
           0.7208011815625444,
           0.7177767337398644,
           0.7315727450279615,
           0.7280514162545424,
           0.7233148591009065,
           0.7103007622514033,
           0.7239176353879632,
           0.7149912093512356,
           0.721834479432926,
           0.7029335720993592,
           0.7071025939244022,
           0.7089077465360989,
           0.6695860724896757,
           0.7185206405758622,
           0.7174448424955585,
           0.7196247260243149,
           0.7186597778222545,
           0.7278543397551165,
           0.7285678990115056,
           0.6932968911486491,
           0.648849640466953,
           0.7296970477480884,
           0.7216230599796546,
           0.725893075576477,
           0.7357520284774788,
           0.7308971944292009,
           0.7128237494230891,
           0.7269898055669339,
           0.73163842052682,
           0.6969800183884487,
           0.7278393187763569,
           0.7252190169103943,
           0.7275007222614482,
           0.731203752077746,
           0.7257235076100275,
           0.7280965975052665,
           0.7210448810598529,
           0.7250779174870694,
           0.7317928368346263,
           0.7288822269479632,
           0.7165546358109569,
           0.7181848688771776,
           0.6529658972774648,
           0.731425762254824,
           0.7315294963546999,
           0.7196120715506921,
           0.7218104982255759,
           0.7278135908146236,
           0.723875586666548,
           0.7203862921133124,
           0.7275386921651046,
           0.7267924293636165,
           0.7246309401701676,
           0.7107072352024415,
           0.7324633414891745,
           0.7333563845337676,
           0.7242846448218272,
           0.7257438326542266,
           0.7245390653327585,
           0.7280863430055282,
           0.7204556332633505,
           0.7219321669417689,
           0.7241316337036359,
           0.7139395730219478,
           0.723701244416388,
           0.7207797504271284,
           0.7233218981022594,
           0.7128727455016539,
           0.7262867943029537,
           0.7243958843635067,
           0.7257706198778969,
           0.7252747193927581,
           0.727739182142382,
           0.7371974093254143,
           0.7267737477659721,
           0.7344583660957069,
           0.7340773698226015,
           0.7358687016412505,
           0.723688992649508,
           0.7264741251749222,
           0.7179866009240556,
           0.7289045105030263
          ],
          "colorbar": {
           "title": {
            "text": "Objective Value"
           }
          },
          "colorscale": [
           [
            0,
            "rgb(247,251,255)"
           ],
           [
            0.125,
            "rgb(222,235,247)"
           ],
           [
            0.25,
            "rgb(198,219,239)"
           ],
           [
            0.375,
            "rgb(158,202,225)"
           ],
           [
            0.5,
            "rgb(107,174,214)"
           ],
           [
            0.625,
            "rgb(66,146,198)"
           ],
           [
            0.75,
            "rgb(33,113,181)"
           ],
           [
            0.875,
            "rgb(8,81,156)"
           ],
           [
            1,
            "rgb(8,48,107)"
           ]
          ],
          "reversescale": false,
          "showscale": true
         },
         "type": "parcoords"
        }
       ],
       "layout": {
        "template": {
         "data": {
          "bar": [
           {
            "error_x": {
             "color": "#2a3f5f"
            },
            "error_y": {
             "color": "#2a3f5f"
            },
            "marker": {
             "line": {
              "color": "#E5ECF6",
              "width": 0.5
             },
             "pattern": {
              "fillmode": "overlay",
              "size": 10,
              "solidity": 0.2
             }
            },
            "type": "bar"
           }
          ],
          "barpolar": [
           {
            "marker": {
             "line": {
              "color": "#E5ECF6",
              "width": 0.5
             },
             "pattern": {
              "fillmode": "overlay",
              "size": 10,
              "solidity": 0.2
             }
            },
            "type": "barpolar"
           }
          ],
          "carpet": [
           {
            "aaxis": {
             "endlinecolor": "#2a3f5f",
             "gridcolor": "white",
             "linecolor": "white",
             "minorgridcolor": "white",
             "startlinecolor": "#2a3f5f"
            },
            "baxis": {
             "endlinecolor": "#2a3f5f",
             "gridcolor": "white",
             "linecolor": "white",
             "minorgridcolor": "white",
             "startlinecolor": "#2a3f5f"
            },
            "type": "carpet"
           }
          ],
          "choropleth": [
           {
            "colorbar": {
             "outlinewidth": 0,
             "ticks": ""
            },
            "type": "choropleth"
           }
          ],
          "contour": [
           {
            "colorbar": {
             "outlinewidth": 0,
             "ticks": ""
            },
            "colorscale": [
             [
              0,
              "#0d0887"
             ],
             [
              0.1111111111111111,
              "#46039f"
             ],
             [
              0.2222222222222222,
              "#7201a8"
             ],
             [
              0.3333333333333333,
              "#9c179e"
             ],
             [
              0.4444444444444444,
              "#bd3786"
             ],
             [
              0.5555555555555556,
              "#d8576b"
             ],
             [
              0.6666666666666666,
              "#ed7953"
             ],
             [
              0.7777777777777778,
              "#fb9f3a"
             ],
             [
              0.8888888888888888,
              "#fdca26"
             ],
             [
              1,
              "#f0f921"
             ]
            ],
            "type": "contour"
           }
          ],
          "contourcarpet": [
           {
            "colorbar": {
             "outlinewidth": 0,
             "ticks": ""
            },
            "type": "contourcarpet"
           }
          ],
          "heatmap": [
           {
            "colorbar": {
             "outlinewidth": 0,
             "ticks": ""
            },
            "colorscale": [
             [
              0,
              "#0d0887"
             ],
             [
              0.1111111111111111,
              "#46039f"
             ],
             [
              0.2222222222222222,
              "#7201a8"
             ],
             [
              0.3333333333333333,
              "#9c179e"
             ],
             [
              0.4444444444444444,
              "#bd3786"
             ],
             [
              0.5555555555555556,
              "#d8576b"
             ],
             [
              0.6666666666666666,
              "#ed7953"
             ],
             [
              0.7777777777777778,
              "#fb9f3a"
             ],
             [
              0.8888888888888888,
              "#fdca26"
             ],
             [
              1,
              "#f0f921"
             ]
            ],
            "type": "heatmap"
           }
          ],
          "heatmapgl": [
           {
            "colorbar": {
             "outlinewidth": 0,
             "ticks": ""
            },
            "colorscale": [
             [
              0,
              "#0d0887"
             ],
             [
              0.1111111111111111,
              "#46039f"
             ],
             [
              0.2222222222222222,
              "#7201a8"
             ],
             [
              0.3333333333333333,
              "#9c179e"
             ],
             [
              0.4444444444444444,
              "#bd3786"
             ],
             [
              0.5555555555555556,
              "#d8576b"
             ],
             [
              0.6666666666666666,
              "#ed7953"
             ],
             [
              0.7777777777777778,
              "#fb9f3a"
             ],
             [
              0.8888888888888888,
              "#fdca26"
             ],
             [
              1,
              "#f0f921"
             ]
            ],
            "type": "heatmapgl"
           }
          ],
          "histogram": [
           {
            "marker": {
             "pattern": {
              "fillmode": "overlay",
              "size": 10,
              "solidity": 0.2
             }
            },
            "type": "histogram"
           }
          ],
          "histogram2d": [
           {
            "colorbar": {
             "outlinewidth": 0,
             "ticks": ""
            },
            "colorscale": [
             [
              0,
              "#0d0887"
             ],
             [
              0.1111111111111111,
              "#46039f"
             ],
             [
              0.2222222222222222,
              "#7201a8"
             ],
             [
              0.3333333333333333,
              "#9c179e"
             ],
             [
              0.4444444444444444,
              "#bd3786"
             ],
             [
              0.5555555555555556,
              "#d8576b"
             ],
             [
              0.6666666666666666,
              "#ed7953"
             ],
             [
              0.7777777777777778,
              "#fb9f3a"
             ],
             [
              0.8888888888888888,
              "#fdca26"
             ],
             [
              1,
              "#f0f921"
             ]
            ],
            "type": "histogram2d"
           }
          ],
          "histogram2dcontour": [
           {
            "colorbar": {
             "outlinewidth": 0,
             "ticks": ""
            },
            "colorscale": [
             [
              0,
              "#0d0887"
             ],
             [
              0.1111111111111111,
              "#46039f"
             ],
             [
              0.2222222222222222,
              "#7201a8"
             ],
             [
              0.3333333333333333,
              "#9c179e"
             ],
             [
              0.4444444444444444,
              "#bd3786"
             ],
             [
              0.5555555555555556,
              "#d8576b"
             ],
             [
              0.6666666666666666,
              "#ed7953"
             ],
             [
              0.7777777777777778,
              "#fb9f3a"
             ],
             [
              0.8888888888888888,
              "#fdca26"
             ],
             [
              1,
              "#f0f921"
             ]
            ],
            "type": "histogram2dcontour"
           }
          ],
          "mesh3d": [
           {
            "colorbar": {
             "outlinewidth": 0,
             "ticks": ""
            },
            "type": "mesh3d"
           }
          ],
          "parcoords": [
           {
            "line": {
             "colorbar": {
              "outlinewidth": 0,
              "ticks": ""
             }
            },
            "type": "parcoords"
           }
          ],
          "pie": [
           {
            "automargin": true,
            "type": "pie"
           }
          ],
          "scatter": [
           {
            "marker": {
             "colorbar": {
              "outlinewidth": 0,
              "ticks": ""
             }
            },
            "type": "scatter"
           }
          ],
          "scatter3d": [
           {
            "line": {
             "colorbar": {
              "outlinewidth": 0,
              "ticks": ""
             }
            },
            "marker": {
             "colorbar": {
              "outlinewidth": 0,
              "ticks": ""
             }
            },
            "type": "scatter3d"
           }
          ],
          "scattercarpet": [
           {
            "marker": {
             "colorbar": {
              "outlinewidth": 0,
              "ticks": ""
             }
            },
            "type": "scattercarpet"
           }
          ],
          "scattergeo": [
           {
            "marker": {
             "colorbar": {
              "outlinewidth": 0,
              "ticks": ""
             }
            },
            "type": "scattergeo"
           }
          ],
          "scattergl": [
           {
            "marker": {
             "colorbar": {
              "outlinewidth": 0,
              "ticks": ""
             }
            },
            "type": "scattergl"
           }
          ],
          "scattermapbox": [
           {
            "marker": {
             "colorbar": {
              "outlinewidth": 0,
              "ticks": ""
             }
            },
            "type": "scattermapbox"
           }
          ],
          "scatterpolar": [
           {
            "marker": {
             "colorbar": {
              "outlinewidth": 0,
              "ticks": ""
             }
            },
            "type": "scatterpolar"
           }
          ],
          "scatterpolargl": [
           {
            "marker": {
             "colorbar": {
              "outlinewidth": 0,
              "ticks": ""
             }
            },
            "type": "scatterpolargl"
           }
          ],
          "scatterternary": [
           {
            "marker": {
             "colorbar": {
              "outlinewidth": 0,
              "ticks": ""
             }
            },
            "type": "scatterternary"
           }
          ],
          "surface": [
           {
            "colorbar": {
             "outlinewidth": 0,
             "ticks": ""
            },
            "colorscale": [
             [
              0,
              "#0d0887"
             ],
             [
              0.1111111111111111,
              "#46039f"
             ],
             [
              0.2222222222222222,
              "#7201a8"
             ],
             [
              0.3333333333333333,
              "#9c179e"
             ],
             [
              0.4444444444444444,
              "#bd3786"
             ],
             [
              0.5555555555555556,
              "#d8576b"
             ],
             [
              0.6666666666666666,
              "#ed7953"
             ],
             [
              0.7777777777777778,
              "#fb9f3a"
             ],
             [
              0.8888888888888888,
              "#fdca26"
             ],
             [
              1,
              "#f0f921"
             ]
            ],
            "type": "surface"
           }
          ],
          "table": [
           {
            "cells": {
             "fill": {
              "color": "#EBF0F8"
             },
             "line": {
              "color": "white"
             }
            },
            "header": {
             "fill": {
              "color": "#C8D4E3"
             },
             "line": {
              "color": "white"
             }
            },
            "type": "table"
           }
          ]
         },
         "layout": {
          "annotationdefaults": {
           "arrowcolor": "#2a3f5f",
           "arrowhead": 0,
           "arrowwidth": 1
          },
          "autotypenumbers": "strict",
          "coloraxis": {
           "colorbar": {
            "outlinewidth": 0,
            "ticks": ""
           }
          },
          "colorscale": {
           "diverging": [
            [
             0,
             "#8e0152"
            ],
            [
             0.1,
             "#c51b7d"
            ],
            [
             0.2,
             "#de77ae"
            ],
            [
             0.3,
             "#f1b6da"
            ],
            [
             0.4,
             "#fde0ef"
            ],
            [
             0.5,
             "#f7f7f7"
            ],
            [
             0.6,
             "#e6f5d0"
            ],
            [
             0.7,
             "#b8e186"
            ],
            [
             0.8,
             "#7fbc41"
            ],
            [
             0.9,
             "#4d9221"
            ],
            [
             1,
             "#276419"
            ]
           ],
           "sequential": [
            [
             0,
             "#0d0887"
            ],
            [
             0.1111111111111111,
             "#46039f"
            ],
            [
             0.2222222222222222,
             "#7201a8"
            ],
            [
             0.3333333333333333,
             "#9c179e"
            ],
            [
             0.4444444444444444,
             "#bd3786"
            ],
            [
             0.5555555555555556,
             "#d8576b"
            ],
            [
             0.6666666666666666,
             "#ed7953"
            ],
            [
             0.7777777777777778,
             "#fb9f3a"
            ],
            [
             0.8888888888888888,
             "#fdca26"
            ],
            [
             1,
             "#f0f921"
            ]
           ],
           "sequentialminus": [
            [
             0,
             "#0d0887"
            ],
            [
             0.1111111111111111,
             "#46039f"
            ],
            [
             0.2222222222222222,
             "#7201a8"
            ],
            [
             0.3333333333333333,
             "#9c179e"
            ],
            [
             0.4444444444444444,
             "#bd3786"
            ],
            [
             0.5555555555555556,
             "#d8576b"
            ],
            [
             0.6666666666666666,
             "#ed7953"
            ],
            [
             0.7777777777777778,
             "#fb9f3a"
            ],
            [
             0.8888888888888888,
             "#fdca26"
            ],
            [
             1,
             "#f0f921"
            ]
           ]
          },
          "colorway": [
           "#636efa",
           "#EF553B",
           "#00cc96",
           "#ab63fa",
           "#FFA15A",
           "#19d3f3",
           "#FF6692",
           "#B6E880",
           "#FF97FF",
           "#FECB52"
          ],
          "font": {
           "color": "#2a3f5f"
          },
          "geo": {
           "bgcolor": "white",
           "lakecolor": "white",
           "landcolor": "#E5ECF6",
           "showlakes": true,
           "showland": true,
           "subunitcolor": "white"
          },
          "hoverlabel": {
           "align": "left"
          },
          "hovermode": "closest",
          "mapbox": {
           "style": "light"
          },
          "paper_bgcolor": "white",
          "plot_bgcolor": "#E5ECF6",
          "polar": {
           "angularaxis": {
            "gridcolor": "white",
            "linecolor": "white",
            "ticks": ""
           },
           "bgcolor": "#E5ECF6",
           "radialaxis": {
            "gridcolor": "white",
            "linecolor": "white",
            "ticks": ""
           }
          },
          "scene": {
           "xaxis": {
            "backgroundcolor": "#E5ECF6",
            "gridcolor": "white",
            "gridwidth": 2,
            "linecolor": "white",
            "showbackground": true,
            "ticks": "",
            "zerolinecolor": "white"
           },
           "yaxis": {
            "backgroundcolor": "#E5ECF6",
            "gridcolor": "white",
            "gridwidth": 2,
            "linecolor": "white",
            "showbackground": true,
            "ticks": "",
            "zerolinecolor": "white"
           },
           "zaxis": {
            "backgroundcolor": "#E5ECF6",
            "gridcolor": "white",
            "gridwidth": 2,
            "linecolor": "white",
            "showbackground": true,
            "ticks": "",
            "zerolinecolor": "white"
           }
          },
          "shapedefaults": {
           "line": {
            "color": "#2a3f5f"
           }
          },
          "ternary": {
           "aaxis": {
            "gridcolor": "white",
            "linecolor": "white",
            "ticks": ""
           },
           "baxis": {
            "gridcolor": "white",
            "linecolor": "white",
            "ticks": ""
           },
           "bgcolor": "#E5ECF6",
           "caxis": {
            "gridcolor": "white",
            "linecolor": "white",
            "ticks": ""
           }
          },
          "title": {
           "x": 0.05
          },
          "xaxis": {
           "automargin": true,
           "gridcolor": "white",
           "linecolor": "white",
           "ticks": "",
           "title": {
            "standoff": 15
           },
           "zerolinecolor": "white",
           "zerolinewidth": 2
          },
          "yaxis": {
           "automargin": true,
           "gridcolor": "white",
           "linecolor": "white",
           "ticks": "",
           "title": {
            "standoff": 15
           },
           "zerolinecolor": "white",
           "zerolinewidth": 2
          }
         }
        },
        "title": {
         "text": "Parallel Coordinate Plot"
        }
       }
      }
     },
     "metadata": {},
     "output_type": "display_data"
    }
   ],
   "source": [
    "optuna.visualization.plot_parallel_coordinate(study)"
   ]
  },
  {
   "cell_type": "code",
   "execution_count": 52,
   "id": "1d419df8",
   "metadata": {},
   "outputs": [
    {
     "name": "stdout",
     "output_type": "stream",
     "text": [
      "Best trial: {'n_estimators': 139, 'max_depth': 19, 'min_samples_leaf': 10, 'min_samples_split': 6, 'subsample': 0.4824492856086638}\n"
     ]
    },
    {
     "data": {
      "text/plain": [
       "139"
      ]
     },
     "execution_count": 52,
     "metadata": {},
     "output_type": "execute_result"
    }
   ],
   "source": [
    "print(\"Best trial:\", study.best_trial.params)\n",
    "study.best_trial.params[\"n_estimators\"]"
   ]
  },
  {
   "cell_type": "code",
   "execution_count": 53,
   "id": "ffefef6c",
   "metadata": {},
   "outputs": [
    {
     "data": {
      "text/html": [
       "<style>#sk-container-id-3 {color: black;}#sk-container-id-3 pre{padding: 0;}#sk-container-id-3 div.sk-toggleable {background-color: white;}#sk-container-id-3 label.sk-toggleable__label {cursor: pointer;display: block;width: 100%;margin-bottom: 0;padding: 0.3em;box-sizing: border-box;text-align: center;}#sk-container-id-3 label.sk-toggleable__label-arrow:before {content: \"▸\";float: left;margin-right: 0.25em;color: #696969;}#sk-container-id-3 label.sk-toggleable__label-arrow:hover:before {color: black;}#sk-container-id-3 div.sk-estimator:hover label.sk-toggleable__label-arrow:before {color: black;}#sk-container-id-3 div.sk-toggleable__content {max-height: 0;max-width: 0;overflow: hidden;text-align: left;background-color: #f0f8ff;}#sk-container-id-3 div.sk-toggleable__content pre {margin: 0.2em;color: black;border-radius: 0.25em;background-color: #f0f8ff;}#sk-container-id-3 input.sk-toggleable__control:checked~div.sk-toggleable__content {max-height: 200px;max-width: 100%;overflow: auto;}#sk-container-id-3 input.sk-toggleable__control:checked~label.sk-toggleable__label-arrow:before {content: \"▾\";}#sk-container-id-3 div.sk-estimator input.sk-toggleable__control:checked~label.sk-toggleable__label {background-color: #d4ebff;}#sk-container-id-3 div.sk-label input.sk-toggleable__control:checked~label.sk-toggleable__label {background-color: #d4ebff;}#sk-container-id-3 input.sk-hidden--visually {border: 0;clip: rect(1px 1px 1px 1px);clip: rect(1px, 1px, 1px, 1px);height: 1px;margin: -1px;overflow: hidden;padding: 0;position: absolute;width: 1px;}#sk-container-id-3 div.sk-estimator {font-family: monospace;background-color: #f0f8ff;border: 1px dotted black;border-radius: 0.25em;box-sizing: border-box;margin-bottom: 0.5em;}#sk-container-id-3 div.sk-estimator:hover {background-color: #d4ebff;}#sk-container-id-3 div.sk-parallel-item::after {content: \"\";width: 100%;border-bottom: 1px solid gray;flex-grow: 1;}#sk-container-id-3 div.sk-label:hover label.sk-toggleable__label {background-color: #d4ebff;}#sk-container-id-3 div.sk-serial::before {content: \"\";position: absolute;border-left: 1px solid gray;box-sizing: border-box;top: 0;bottom: 0;left: 50%;z-index: 0;}#sk-container-id-3 div.sk-serial {display: flex;flex-direction: column;align-items: center;background-color: white;padding-right: 0.2em;padding-left: 0.2em;position: relative;}#sk-container-id-3 div.sk-item {position: relative;z-index: 1;}#sk-container-id-3 div.sk-parallel {display: flex;align-items: stretch;justify-content: center;background-color: white;position: relative;}#sk-container-id-3 div.sk-item::before, #sk-container-id-3 div.sk-parallel-item::before {content: \"\";position: absolute;border-left: 1px solid gray;box-sizing: border-box;top: 0;bottom: 0;left: 50%;z-index: -1;}#sk-container-id-3 div.sk-parallel-item {display: flex;flex-direction: column;z-index: 1;position: relative;background-color: white;}#sk-container-id-3 div.sk-parallel-item:first-child::after {align-self: flex-end;width: 50%;}#sk-container-id-3 div.sk-parallel-item:last-child::after {align-self: flex-start;width: 50%;}#sk-container-id-3 div.sk-parallel-item:only-child::after {width: 0;}#sk-container-id-3 div.sk-dashed-wrapped {border: 1px dashed gray;margin: 0 0.4em 0.5em 0.4em;box-sizing: border-box;padding-bottom: 0.4em;background-color: white;}#sk-container-id-3 div.sk-label label {font-family: monospace;font-weight: bold;display: inline-block;line-height: 1.2em;}#sk-container-id-3 div.sk-label-container {text-align: center;}#sk-container-id-3 div.sk-container {/* jupyter's `normalize.less` sets `[hidden] { display: none; }` but bootstrap.min.css set `[hidden] { display: none !important; }` so we also need the `!important` here to be able to override the default hidden behavior on the sphinx rendered scikit-learn.org. See: https://github.com/scikit-learn/scikit-learn/issues/21755 */display: inline-block !important;position: relative;}#sk-container-id-3 div.sk-text-repr-fallback {display: none;}</style><div id=\"sk-container-id-3\" class=\"sk-top-container\"><div class=\"sk-text-repr-fallback\"><pre>GradientBoostingRegressor(max_depth=19, min_samples_leaf=10,\n",
       "                          min_samples_split=6, n_estimators=139,\n",
       "                          random_state=42, subsample=0.4824492856086638)</pre><b>In a Jupyter environment, please rerun this cell to show the HTML representation or trust the notebook. <br />On GitHub, the HTML representation is unable to render, please try loading this page with nbviewer.org.</b></div><div class=\"sk-container\" hidden><div class=\"sk-item\"><div class=\"sk-estimator sk-toggleable\"><input class=\"sk-toggleable__control sk-hidden--visually\" id=\"sk-estimator-id-3\" type=\"checkbox\" checked><label for=\"sk-estimator-id-3\" class=\"sk-toggleable__label sk-toggleable__label-arrow\">GradientBoostingRegressor</label><div class=\"sk-toggleable__content\"><pre>GradientBoostingRegressor(max_depth=19, min_samples_leaf=10,\n",
       "                          min_samples_split=6, n_estimators=139,\n",
       "                          random_state=42, subsample=0.4824492856086638)</pre></div></div></div></div></div>"
      ],
      "text/plain": [
       "GradientBoostingRegressor(max_depth=19, min_samples_leaf=10,\n",
       "                          min_samples_split=6, n_estimators=139,\n",
       "                          random_state=42, subsample=0.4824492856086638)"
      ]
     },
     "execution_count": 53,
     "metadata": {},
     "output_type": "execute_result"
    }
   ],
   "source": [
    "gb_params = {\n",
    "    \"random_state\": 42,\n",
    "    \"learning_rate\": 0.1,\n",
    "    \"n_estimators\": study.best_trial.params[\"n_estimators\"],\n",
    "    \"max_depth\": study.best_trial.params[\"max_depth\"],\n",
    "    \"min_samples_leaf\": study.best_trial.params[\"min_samples_leaf\"],\n",
    "    \"min_samples_split\": study.best_trial.params[\"min_samples_split\"],\n",
    "    \"subsample\": study.best_trial.params[\"subsample\"]\n",
    "}\n",
    "\n",
    "gb = GradientBoostingRegressor(**gb_params)\n",
    "gb.fit(Ni_X_train, Ni_y_train)"
   ]
  },
  {
   "cell_type": "code",
   "execution_count": 54,
   "id": "417e128a",
   "metadata": {},
   "outputs": [],
   "source": [
    "# gb_params = {\n",
    "#     \"random_state\": 42,\n",
    "#     \"learning_rate\": 0.1,\n",
    "#     \"n_estimators\": 181,\n",
    "#     \"max_depth\": 28,\n",
    "#     \"min_samples_leaf\": 7,\n",
    "#     \"min_samples_split\": 7,\n",
    "#     \"subsample\": 0.4946447123833718\n",
    "# }\n",
    "\n",
    "# gb = GradientBoostingRegressor(**gb_params)\n",
    "# gb.fit(Ni_X_train, Ni_y_train)"
   ]
  },
  {
   "cell_type": "code",
   "execution_count": 55,
   "id": "4c1a69d2",
   "metadata": {},
   "outputs": [],
   "source": [
    "y_train_pred = gb.predict(Ni_X_train)\n",
    "y_test_pred = gb.predict(Ni_X_test)"
   ]
  },
  {
   "cell_type": "code",
   "execution_count": 56,
   "id": "0f707a20",
   "metadata": {},
   "outputs": [
    {
     "name": "stdout",
     "output_type": "stream",
     "text": [
      "Train RMSE:  0.1629457762393526\n",
      "Test RMSE:  0.9287177156998178\n"
     ]
    }
   ],
   "source": [
    "print(\"Train RMSE: \", np.sqrt(mean_squared_error(Ni_y_train, y_train_pred)))\n",
    "print(\"Test RMSE: \", np.sqrt(mean_squared_error(Ni_y_test, y_test_pred)))"
   ]
  },
  {
   "cell_type": "code",
   "execution_count": 57,
   "id": "641d78f4",
   "metadata": {},
   "outputs": [
    {
     "name": "stdout",
     "output_type": "stream",
     "text": [
      "Train R2:  0.9822602940598538\n",
      "Test R2:  0.4064573467255296\n"
     ]
    }
   ],
   "source": [
    "print(\"Train R2: \", r2_score(Ni_y_train, y_train_pred))\n",
    "print(\"Test R2: \", r2_score(Ni_y_test, y_test_pred))"
   ]
  },
  {
   "cell_type": "code",
   "execution_count": 58,
   "id": "dd1670cb",
   "metadata": {},
   "outputs": [
    {
     "data": {
      "image/png": "[encoded data removed]",
      "text/plain": [
       "<Figure size 640x480 with 1 Axes>"
      ]
     },
     "metadata": {},
     "output_type": "display_data"
    }
   ],
   "source": [
    "plt.scatter(y_train_pred, np.array(Ni_y_train), color=\"orange\", alpha=0.3)\n",
    "plt.scatter(y_test_pred, np.array(Ni_y_test), color=\"green\", alpha=0.4)\n",
    "plt.axis(\"auto\")\n",
    "# plt.xlim([0, 1.5]) \n",
    "# plt.ylim(0, None) \n",
    "plt.xlabel('Predicted Values')\n",
    "plt.ylabel('Actual Values')\n",
    "\n",
    "# Add trendline\n",
    "# z = np.polyfit(y_train_pred, As_y_train, 1)\n",
    "# p = np.poly1d(z)\n",
    "# plt.plot(y_train_pred, p(y_train_pred), color='red', linestyle='-')\n",
    "\n",
    "# Add y=x line\n",
    "plt.plot([0, 4.5], [0, 4.5], color='red', linestyle='-')\n",
    "\n",
    "plt.show()"
   ]
  }
 ],
 "metadata": {
  "kernelspec": {
   "display_name": "Python 3",
   "language": "python",
   "name": "python3"
  },
  "language_info": {
   "codemirror_mode": {
    "name": "ipython",
    "version": 3
   },
   "file_extension": ".py",
   "mimetype": "text/x-python",
   "name": "python",
   "nbconvert_exporter": "python",
   "pygments_lexer": "ipython3",
   "version": "3.8.11"
  }
 },
 "nbformat": 4,
 "nbformat_minor": 5
}
