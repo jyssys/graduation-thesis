{
 "cells": [
  {
   "attachments": {},
   "cell_type": "markdown",
   "id": "451911be",
   "metadata": {},
   "source": [
    "#### Library import"
   ]
  },
  {
   "cell_type": "code",
   "execution_count": 29,
   "id": "8a394942",
   "metadata": {},
   "outputs": [],
   "source": [
    "import os\n",
    "import pandas as pd\n",
    "import numpy as np\n",
    "import matplotlib.pyplot as plt\n",
    "%matplotlib inline\n",
    "import seaborn as sns\n",
    "import tensorflow as tf\n",
    "import missingno as msno\n",
    "\n",
    "import warnings\n",
    "warnings.filterwarnings('ignore')\n",
    "\n",
    "from sklearn.model_selection import train_test_split\n",
    "from sklearn.model_selection import GridSearchCV\n",
    "from sklearn.metrics import mean_squared_error, r2_score\n",
    "from sklearn.preprocessing import StandardScaler, MinMaxScaler, RobustScaler\n",
    "from sklearn.ensemble import RandomForestRegressor, GradientBoostingRegressor, ExtraTreesRegressor\n",
    "from sklearn.model_selection import KFold\n",
    "from lightgbm import LGBMRegressor\n",
    "from xgboost import XGBRegressor\n",
    "from ngboost import NGBRegressor\n",
    "from scipy.stats import norm, skew\n",
    "\n",
    "from matplotlib.ticker import FormatStrFormatter\n",
    "\n",
    "import re\n",
    "from tqdm import tqdm"
   ]
  },
  {
   "attachments": {},
   "cell_type": "markdown",
   "id": "31a13d68",
   "metadata": {},
   "source": [
    "#### GPU setting"
   ]
  },
  {
   "cell_type": "code",
   "execution_count": 30,
   "id": "cd001f36",
   "metadata": {},
   "outputs": [],
   "source": [
    "from tensorflow.compat.v1 import ConfigProto\n",
    "from tensorflow.compat.v1 import InteractiveSession"
   ]
  },
  {
   "cell_type": "code",
   "execution_count": 31,
   "id": "25c4acdb",
   "metadata": {},
   "outputs": [],
   "source": [
    "config = ConfigProto()\n",
    "config.gpu_options.per_process_gpu_memory_fraction = 0.4\n",
    "session = InteractiveSession(config = config)"
   ]
  },
  {
   "cell_type": "code",
   "execution_count": 32,
   "id": "7f5f8e0a",
   "metadata": {},
   "outputs": [
    {
     "name": "stdout",
     "output_type": "stream",
     "text": [
      "[name: \"/device:CPU:0\"\n",
      "device_type: \"CPU\"\n",
      "memory_limit: 268435456\n",
      "locality {\n",
      "}\n",
      "incarnation: 7963367828870967031\n",
      ", name: \"/device:GPU:0\"\n",
      "device_type: \"GPU\"\n",
      "memory_limit: 3435973836\n",
      "locality {\n",
      "  bus_id: 1\n",
      "  links {\n",
      "  }\n",
      "}\n",
      "incarnation: 11398169320330325690\n",
      "physical_device_desc: \"device: 0, name: NVIDIA GeForce RTX 3060 Ti, pci bus id: 0000:07:00.0, compute capability: 8.6\"\n",
      "]\n"
     ]
    }
   ],
   "source": [
    "physical_devices = tf.config.list_physical_devices('GPU')\n",
    "physical_devices\n",
    "\n",
    "from tensorflow.python.client import device_lib\n",
    "\n",
    "print(device_lib.list_local_devices())"
   ]
  },
  {
   "cell_type": "code",
   "execution_count": 33,
   "id": "1de68242",
   "metadata": {},
   "outputs": [],
   "source": [
    "import os\n",
    "\n",
    "os.environ[\"CUDA_VISIBLE_DEVICES\"]=\"0\"\n",
    "gpus = tf.config.experimental.list_physical_devices('GPU')\n",
    "if gpus:\n",
    "    try:\n",
    "        tf.config.experimental.set_memory_growth(gpus[0], True)\n",
    "    except RuntimeError as e:\n",
    "        print(e)"
   ]
  },
  {
   "attachments": {},
   "cell_type": "markdown",
   "id": "cb740f81",
   "metadata": {},
   "source": [
    "#### Data import and preprocessing"
   ]
  },
  {
   "cell_type": "code",
   "execution_count": 34,
   "id": "9288345d",
   "metadata": {
    "scrolled": true
   },
   "outputs": [
    {
     "data": {
      "text/plain": [
       "Index(['OBJECTID_x', 'ID', 'pH', 'As', 'Cd', 'Ni', 'Pb', 'Zn', 'Hg', 'slope',\n",
       "       'altitude', 'profile_curve', 'profile_c_num', 'profile_c_abs',\n",
       "       'planform_curve', 'planform_c_num', 'planform_c_abs', 'HYDGRP',\n",
       "       'HYDGRP_A', 'HYDGRP_B', 'HYDGRP_C', 'HYDGRP_D', 'ANION_EXCL', 'SOL_CRK',\n",
       "       'SOL_K1', 'CLAY1', 'SILT1', 'SAND1', 'ROCK1', 'SOL_EC1', 'distance'],\n",
       "      dtype='object')"
      ]
     },
     "execution_count": 34,
     "metadata": {},
     "output_type": "execute_result"
    }
   ],
   "source": [
    "data = pd.read_csv(\"data/data.csv\")\n",
    "data.columns"
   ]
  },
  {
   "cell_type": "code",
   "execution_count": 35,
   "id": "bbf87a23",
   "metadata": {},
   "outputs": [
    {
     "data": {
      "text/plain": [
       "Index(['pH', 'As', 'Cd', 'Ni', 'Pb', 'Zn', 'Hg', 'slope', 'altitude',\n",
       "       'profile_curve', 'planform_curve', 'HYDGRP_A', 'HYDGRP_B', 'HYDGRP_C',\n",
       "       'HYDGRP_D', 'SOL_K1', 'CLAY1', 'SILT1', 'SAND1', 'ROCK1', 'distance'],\n",
       "      dtype='object')"
      ]
     },
     "execution_count": 35,
     "metadata": {},
     "output_type": "execute_result"
    }
   ],
   "source": [
    "data = data.drop(['OBJECTID_x','ID','HYDGRP','profile_c_num', 'profile_c_abs','planform_c_num', 'planform_c_abs','ANION_EXCL','SOL_CRK','SOL_EC1'], axis = 1)\n",
    "data.columns"
   ]
  },
  {
   "cell_type": "code",
   "execution_count": 36,
   "id": "eda19bb6",
   "metadata": {},
   "outputs": [],
   "source": [
    "As = data\n",
    "Cd = data\n",
    "Ni = data"
   ]
  },
  {
   "cell_type": "code",
   "execution_count": 37,
   "id": "c3c7d06a",
   "metadata": {},
   "outputs": [],
   "source": [
    "As = As.drop([\"Cd\", \"Ni\", \"Pb\", \"Zn\", \"Hg\"], axis = 1)\n",
    "Cd = Cd.drop([\"As\", \"Ni\", \"Pb\", \"Zn\", \"Hg\"], axis = 1)\n",
    "Ni = Ni.drop([\"As\", \"Cd\", \"Pb\", \"Zn\", \"Hg\"], axis = 1)"
   ]
  },
  {
   "cell_type": "code",
   "execution_count": 38,
   "id": "67d23d19",
   "metadata": {},
   "outputs": [
    {
     "name": "stdout",
     "output_type": "stream",
     "text": [
      "(1458, 16)\n",
      "(1458, 16)\n",
      "(1458, 16)\n"
     ]
    }
   ],
   "source": [
    "print(As.shape)\n",
    "print(Cd.shape)\n",
    "print(Ni.shape)"
   ]
  },
  {
   "cell_type": "markdown",
   "id": "a5e7de7c",
   "metadata": {},
   "source": [
    "#### Oversampling by SMOGN (SMOTE Regression)"
   ]
  },
  {
   "cell_type": "code",
   "execution_count": 39,
   "id": "07928600",
   "metadata": {},
   "outputs": [],
   "source": [
    "import smogn"
   ]
  },
  {
   "cell_type": "code",
   "execution_count": 40,
   "id": "944a8180",
   "metadata": {},
   "outputs": [
    {
     "name": "stderr",
     "output_type": "stream",
     "text": [
      "dist_matrix:   1%|1         | 3/248 [00:00<00:33,  7.36it/s]"
     ]
    },
    {
     "name": "stderr",
     "output_type": "stream",
     "text": [
      "dist_matrix: 100%|##########| 248/248 [00:33<00:00,  7.47it/s]\n",
      "synth_matrix: 100%|##########| 248/248 [00:01<00:00, 146.28it/s]\n",
      "r_index: 100%|##########| 223/223 [00:00<00:00, 426.29it/s]\n",
      "dist_matrix: 100%|##########| 259/259 [00:35<00:00,  7.29it/s]\n",
      "synth_matrix: 100%|##########| 259/259 [00:01<00:00, 148.82it/s]\n",
      "r_index: 100%|##########| 155/155 [00:00<00:00, 441.50it/s]\n",
      "dist_matrix: 100%|##########| 242/242 [00:31<00:00,  7.78it/s]\n",
      "synth_matrix: 100%|##########| 242/242 [00:02<00:00, 111.86it/s]\n"
     ]
    }
   ],
   "source": [
    "As_smogn = smogn.smoter(data = As, y = 'As', samp_method = 'extreme')\n",
    "Cd_smogn = smogn.smoter(data = Cd, y = 'Cd', samp_method = 'extreme')\n",
    "Ni_smogn = smogn.smoter(data = Ni, y = 'Ni', samp_method = 'extreme')"
   ]
  },
  {
   "cell_type": "code",
   "execution_count": 41,
   "id": "3d5966fa",
   "metadata": {},
   "outputs": [
    {
     "name": "stdout",
     "output_type": "stream",
     "text": [
      "(2183, 16)\n",
      "(2151, 16)\n",
      "(2183, 16)\n"
     ]
    }
   ],
   "source": [
    "print(As_smogn.shape)\n",
    "print(Cd_smogn.shape)\n",
    "print(Ni_smogn.shape)"
   ]
  },
  {
   "attachments": {},
   "cell_type": "markdown",
   "id": "ed72a9b1",
   "metadata": {},
   "source": [
    "#### Eliminate outlier and train / test split"
   ]
  },
  {
   "cell_type": "code",
   "execution_count": 42,
   "id": "43604a42",
   "metadata": {},
   "outputs": [],
   "source": [
    "def eli_outlier(data, value):\n",
    "    q1 = data[value].quantile(0.25)\n",
    "    q3 = data[value].quantile(0.75)\n",
    "\n",
    "    iqr = q3 - q1\n",
    "\n",
    "    q1_condition = data[value] < q1-1.5*iqr\n",
    "    q3_condition = data[value] > q3+1.5*iqr\n",
    "\n",
    "    reset_q1_index = data[q1_condition].index\n",
    "    reset_q3_index = data[q3_condition].index\n",
    "\n",
    "    data.drop(reset_q1_index, inplace = True)\n",
    "    data.drop(reset_q3_index, inplace = True)\n",
    "\n",
    "    return data"
   ]
  },
  {
   "cell_type": "code",
   "execution_count": 43,
   "id": "9b7632f2",
   "metadata": {},
   "outputs": [],
   "source": [
    "As_ros = eli_outlier(As_smogn, \"As\")\n",
    "Cd_ros = eli_outlier(Cd_smogn, \"Cd\")\n",
    "Ni_ros = eli_outlier(Ni_smogn, \"Ni\")"
   ]
  },
  {
   "cell_type": "code",
   "execution_count": 44,
   "id": "fd2813d1",
   "metadata": {},
   "outputs": [],
   "source": [
    "As_X = As_ros.drop([\"As\"], axis=1)\n",
    "Cd_X = Cd_ros.drop([\"Cd\"], axis=1)\n",
    "Ni_X = Ni_ros.drop([\"Ni\"], axis=1)\n",
    "\n",
    "As_y = As_ros[\"As\"]\n",
    "Cd_y = Cd_ros[\"Cd\"]\n",
    "Ni_y = Ni_ros[\"Ni\"]"
   ]
  },
  {
   "cell_type": "code",
   "execution_count": 45,
   "id": "3d1db064",
   "metadata": {},
   "outputs": [],
   "source": [
    "As_y = np.log1p(As_ros[\"As\"])\n",
    "Cd_y = np.log1p(Cd_ros[\"Cd\"])\n",
    "Ni_y = np.log1p(Ni_ros[\"Ni\"])"
   ]
  },
  {
   "cell_type": "code",
   "execution_count": 46,
   "id": "e6b5aab4",
   "metadata": {},
   "outputs": [
    {
     "name": "stdout",
     "output_type": "stream",
     "text": [
      "(1637, 15)\n",
      "(1852, 15)\n",
      "(2063, 15)\n"
     ]
    }
   ],
   "source": [
    "print(As_X.shape)\n",
    "print(Cd_X.shape)\n",
    "print(Ni_X.shape)"
   ]
  },
  {
   "attachments": {},
   "cell_type": "markdown",
   "id": "c92e5bb6",
   "metadata": {},
   "source": [
    "StandardScaler"
   ]
  },
  {
   "cell_type": "code",
   "execution_count": null,
   "id": "db498522",
   "metadata": {},
   "outputs": [],
   "source": [
    "from sklearn.preprocessing import StandardScaler\n",
    "\n",
    "scaler = StandardScaler()\n",
    "\n",
    "As_X_train, As_X_test, As_y_train, As_y_test = train_test_split(As_X, As_y, test_size=0.2, random_state=42)\n",
    "Cd_X_train, Cd_X_test, Cd_y_train, Cd_y_test = train_test_split(Cd_X, Cd_y, test_size=0.2, random_state=42)\n",
    "Ni_X_train, Ni_X_test, Ni_y_train, Ni_y_test = train_test_split(Ni_X, Ni_y, test_size=0.2, random_state=42)\n",
    "\n",
    "As_X_train = scaler.fit_transform(As_X_train)\n",
    "As_X_test = scaler.fit_transform(As_X_test)\n",
    "\n",
    "Cd_X_train = scaler.fit_transform(Cd_X_train)\n",
    "Cd_X_test = scaler.fit_transform(Cd_X_test)\n",
    "\n",
    "Ni_X_train = scaler.fit_transform(Ni_X_train)\n",
    "Ni_X_test = scaler.fit_transform(Ni_X_test)"
   ]
  },
  {
   "cell_type": "code",
   "execution_count": 47,
   "id": "416a7027",
   "metadata": {},
   "outputs": [],
   "source": [
    "''' from sklearn.preprocessing import StandardScaler\n",
    "\n",
    "scaler = StandardScaler()\n",
    "As_X_scaled = scaler.fit_transform(As_X)\n",
    "Cd_X_scaled = scaler.fit_transform(Cd_X)\n",
    "Ni_X_scaled = scaler.fit_transform(Ni_X)\n",
    "\n",
    "As_X_train, As_X_test, As_y_train, As_y_test = train_test_split(As_X_scaled, As_y, test_size=0.2, random_state=42)\n",
    "Cd_X_train, Cd_X_test, Cd_y_train, Cd_y_test = train_test_split(Cd_X_scaled, Cd_y, test_size=0.2, random_state=42)\n",
    "Ni_X_train, Ni_X_test, Ni_y_train, Ni_y_test = train_test_split(Ni_X_scaled, Ni_y, test_size=0.2, random_state=42) '''"
   ]
  },
  {
   "attachments": {},
   "cell_type": "markdown",
   "id": "2fe0d293",
   "metadata": {},
   "source": [
    "MinMaxScaler"
   ]
  },
  {
   "cell_type": "code",
   "execution_count": 48,
   "id": "e8596f9f",
   "metadata": {},
   "outputs": [],
   "source": [
    "# from sklearn.preprocessing import MinMaxScaler\n",
    "\n",
    "# scaler = MinMaxScaler()\n",
    "# As_X_scaled = scaler.fit_transform(As_X)\n",
    "# Cd_X_scaled = scaler.fit_transform(Cd_X)\n",
    "# Ni_X_scaled = scaler.fit_transform(Ni_X)\n",
    "\n",
    "# As_X_train, As_X_test, As_y_train, As_y_test = train_test_split(As_X_scaled, As_y, test_size=0.2, random_state=42)\n",
    "# Cd_X_train, Cd_X_test, Cd_y_train, Cd_y_test = train_test_split(Cd_X_scaled, Cd_y, test_size=0.2, random_state=42)\n",
    "# Ni_X_train, Ni_X_test, Ni_y_train, Ni_y_test = train_test_split(Ni_X_scaled, Ni_y, test_size=0.2, random_state=42)"
   ]
  },
  {
   "cell_type": "code",
   "execution_count": 49,
   "id": "c6cad4b1",
   "metadata": {},
   "outputs": [
    {
     "name": "stdout",
     "output_type": "stream",
     "text": [
      "(1309, 15)\n",
      "(1481, 15)\n",
      "(1650, 15)\n"
     ]
    }
   ],
   "source": [
    "print(As_X_train.shape)\n",
    "print(Cd_X_train.shape)\n",
    "print(Ni_X_train.shape)"
   ]
  },
  {
   "attachments": {},
   "cell_type": "markdown",
   "id": "bd11b27e",
   "metadata": {},
   "source": [
    "#### 10-Fold Crossvalidation"
   ]
  },
  {
   "cell_type": "code",
   "execution_count": 50,
   "id": "7a765916",
   "metadata": {},
   "outputs": [],
   "source": [
    "kf = KFold(n_splits = 5, random_state = 42, shuffle = True)"
   ]
  },
  {
   "attachments": {},
   "cell_type": "markdown",
   "id": "859638d0",
   "metadata": {},
   "source": [
    "#### Optuna Optimization"
   ]
  },
  {
   "cell_type": "code",
   "execution_count": 51,
   "id": "92a47d83",
   "metadata": {},
   "outputs": [],
   "source": [
    "import optuna\n",
    "\n",
    "from optuna import Trial\n",
    "from optuna.samplers import TPESampler"
   ]
  },
  {
   "cell_type": "code",
   "execution_count": 52,
   "id": "a7669fea",
   "metadata": {},
   "outputs": [],
   "source": [
    "from sklearn.model_selection import cross_val_score\n",
    "\n",
    "def objectiveGB(trial: Trial, X_train, y_train) -> float:\n",
    "    gb_paramas = {\n",
    "        \"random_state\": 42,\n",
    "        \"learning_rate\": 0.1,\n",
    "        \"n_estimators\": trial.suggest_int(\"n_estimators\", 100, 200),\n",
    "        \"max_depth\": trial.suggest_int(\"max_depth\", 1, 30),\n",
    "        \"min_samples_leaf\": trial.suggest_int(\"min_samples_leaf\", 1, 10),\n",
    "        \"min_samples_split\": trial.suggest_int(\"min_samples_split\", 2, 10),\n",
    "        \"subsample\": trial.suggest_float(\"subsample\", 0.1, 0.5)\n",
    "    }\n",
    "    \n",
    "    gb = GradientBoostingRegressor(**gb_paramas)\n",
    "    r2 = cross_val_score(gb, X_train, y_train, scoring = \"r2\", cv = kf)\n",
    "    r2 = r2.mean()\n",
    "    \n",
    "    return r2"
   ]
  },
  {
   "attachments": {},
   "cell_type": "markdown",
   "id": "b0988f46",
   "metadata": {},
   "source": [
    "####  Optimization"
   ]
  },
  {
   "cell_type": "code",
   "execution_count": 53,
   "id": "94f5e00d",
   "metadata": {
    "scrolled": false
   },
   "outputs": [
    {
     "name": "stderr",
     "output_type": "stream",
     "text": [
      "\u001b[32m[I 2023-08-17 21:36:24,624]\u001b[0m A new study created in memory with name: gb_parameter_opt\u001b[0m\n",
      "\u001b[32m[I 2023-08-17 21:36:25,069]\u001b[0m Trial 0 finished with value: 0.5192569790369308 and parameters: {'n_estimators': 140, 'max_depth': 29, 'min_samples_leaf': 10, 'min_samples_split': 2, 'subsample': 0.10509713479767041}. Best is trial 0 with value: 0.5192569790369308.\u001b[0m\n",
      "\u001b[32m[I 2023-08-17 21:36:27,920]\u001b[0m Trial 1 finished with value: 0.5759693233274259 and parameters: {'n_estimators': 179, 'max_depth': 19, 'min_samples_leaf': 2, 'min_samples_split': 2, 'subsample': 0.3596029096107455}. Best is trial 1 with value: 0.5759693233274259.\u001b[0m\n",
      "\u001b[32m[I 2023-08-17 21:36:28,825]\u001b[0m Trial 2 finished with value: 0.5548712370514488 and parameters: {'n_estimators': 162, 'max_depth': 4, 'min_samples_leaf': 1, 'min_samples_split': 8, 'subsample': 0.3018781124152193}. Best is trial 1 with value: 0.5759693233274259.\u001b[0m\n",
      "\u001b[32m[I 2023-08-17 21:36:29,467]\u001b[0m Trial 3 finished with value: 0.5542253135971147 and parameters: {'n_estimators': 163, 'max_depth': 25, 'min_samples_leaf': 10, 'min_samples_split': 3, 'subsample': 0.15374535554252478}. Best is trial 1 with value: 0.5759693233274259.\u001b[0m\n",
      "\u001b[32m[I 2023-08-17 21:36:30,270]\u001b[0m Trial 4 finished with value: 0.550865931628315 and parameters: {'n_estimators': 169, 'max_depth': 28, 'min_samples_leaf': 8, 'min_samples_split': 6, 'subsample': 0.17546883835098087}. Best is trial 1 with value: 0.5759693233274259.\u001b[0m\n",
      "\u001b[32m[I 2023-08-17 21:36:33,197]\u001b[0m Trial 5 finished with value: 0.5939391958338406 and parameters: {'n_estimators': 192, 'max_depth': 18, 'min_samples_leaf': 8, 'min_samples_split': 3, 'subsample': 0.4808440808988329}. Best is trial 5 with value: 0.5939391958338406.\u001b[0m\n",
      "\u001b[32m[I 2023-08-17 21:36:33,682]\u001b[0m Trial 6 finished with value: 0.49259218976554153 and parameters: {'n_estimators': 116, 'max_depth': 12, 'min_samples_leaf': 1, 'min_samples_split': 10, 'subsample': 0.10412739092072819}. Best is trial 5 with value: 0.5939391958338406.\u001b[0m\n",
      "\u001b[32m[I 2023-08-17 21:36:35,050]\u001b[0m Trial 7 finished with value: 0.5544515314599151 and parameters: {'n_estimators': 128, 'max_depth': 19, 'min_samples_leaf': 3, 'min_samples_split': 4, 'subsample': 0.28255696157548715}. Best is trial 5 with value: 0.5939391958338406.\u001b[0m\n",
      "\u001b[32m[I 2023-08-17 21:36:36,910]\u001b[0m Trial 8 finished with value: 0.5996812748042412 and parameters: {'n_estimators': 153, 'max_depth': 27, 'min_samples_leaf': 7, 'min_samples_split': 5, 'subsample': 0.40038877889326063}. Best is trial 8 with value: 0.5996812748042412.\u001b[0m\n",
      "\u001b[32m[I 2023-08-17 21:36:37,691]\u001b[0m Trial 9 finished with value: 0.5968535990284041 and parameters: {'n_estimators': 102, 'max_depth': 10, 'min_samples_leaf': 7, 'min_samples_split': 10, 'subsample': 0.28555605487781066}. Best is trial 8 with value: 0.5996812748042412.\u001b[0m\n",
      "\u001b[32m[I 2023-08-17 21:36:40,481]\u001b[0m Trial 10 finished with value: 0.5852120464680317 and parameters: {'n_estimators': 147, 'max_depth': 23, 'min_samples_leaf': 5, 'min_samples_split': 6, 'subsample': 0.49788333873585733}. Best is trial 8 with value: 0.5996812748042412.\u001b[0m\n",
      "\u001b[32m[I 2023-08-17 21:36:41,743]\u001b[0m Trial 11 finished with value: 0.5829055168086714 and parameters: {'n_estimators': 108, 'max_depth': 10, 'min_samples_leaf': 6, 'min_samples_split': 10, 'subsample': 0.4054380950298993}. Best is trial 8 with value: 0.5996812748042412.\u001b[0m\n",
      "\u001b[32m[I 2023-08-17 21:36:42,402]\u001b[0m Trial 12 finished with value: 0.5712331997515075 and parameters: {'n_estimators': 100, 'max_depth': 7, 'min_samples_leaf': 6, 'min_samples_split': 8, 'subsample': 0.25471087145052107}. Best is trial 8 with value: 0.5996812748042412.\u001b[0m\n",
      "\u001b[32m[I 2023-08-17 21:36:43,855]\u001b[0m Trial 13 finished with value: 0.5885918384606188 and parameters: {'n_estimators': 131, 'max_depth': 13, 'min_samples_leaf': 8, 'min_samples_split': 5, 'subsample': 0.3926297290374935}. Best is trial 8 with value: 0.5996812748042412.\u001b[0m\n",
      "\u001b[32m[I 2023-08-17 21:36:44,609]\u001b[0m Trial 14 finished with value: 0.5860710318487026 and parameters: {'n_estimators': 123, 'max_depth': 4, 'min_samples_leaf': 4, 'min_samples_split': 8, 'subsample': 0.34632786606182236}. Best is trial 8 with value: 0.5996812748042412.\u001b[0m\n",
      "\u001b[32m[I 2023-08-17 21:36:44,997]\u001b[0m Trial 15 finished with value: 0.44121729680087285 and parameters: {'n_estimators': 144, 'max_depth': 1, 'min_samples_leaf': 7, 'min_samples_split': 7, 'subsample': 0.22501633348248445}. Best is trial 8 with value: 0.5996812748042412.\u001b[0m\n",
      "\u001b[32m[I 2023-08-17 21:36:46,978]\u001b[0m Trial 16 finished with value: 0.60261708185009 and parameters: {'n_estimators': 153, 'max_depth': 23, 'min_samples_leaf': 9, 'min_samples_split': 5, 'subsample': 0.43847662298583295}. Best is trial 16 with value: 0.60261708185009.\u001b[0m\n",
      "\u001b[32m[I 2023-08-17 21:36:49,022]\u001b[0m Trial 17 finished with value: 0.5959628630272219 and parameters: {'n_estimators': 157, 'max_depth': 24, 'min_samples_leaf': 9, 'min_samples_split': 5, 'subsample': 0.4504878449867104}. Best is trial 16 with value: 0.60261708185009.\u001b[0m\n",
      "\u001b[32m[I 2023-08-17 21:36:51,320]\u001b[0m Trial 18 finished with value: 0.5958492530826942 and parameters: {'n_estimators': 177, 'max_depth': 22, 'min_samples_leaf': 9, 'min_samples_split': 4, 'subsample': 0.4387376927765926}. Best is trial 16 with value: 0.60261708185009.\u001b[0m\n",
      "\u001b[32m[I 2023-08-17 21:36:53,595]\u001b[0m Trial 19 finished with value: 0.5786071254021335 and parameters: {'n_estimators': 196, 'max_depth': 30, 'min_samples_leaf': 5, 'min_samples_split': 6, 'subsample': 0.3412034151496918}. Best is trial 16 with value: 0.60261708185009.\u001b[0m\n",
      "\u001b[32m[I 2023-08-17 21:36:55,620]\u001b[0m Trial 20 finished with value: 0.5957421506028131 and parameters: {'n_estimators': 154, 'max_depth': 26, 'min_samples_leaf': 7, 'min_samples_split': 5, 'subsample': 0.4142131627023065}. Best is trial 16 with value: 0.60261708185009.\u001b[0m\n",
      "\u001b[32m[I 2023-08-17 21:36:56,893]\u001b[0m Trial 21 finished with value: 0.5762597932013638 and parameters: {'n_estimators': 138, 'max_depth': 15, 'min_samples_leaf': 7, 'min_samples_split': 9, 'subsample': 0.32112810552964005}. Best is trial 16 with value: 0.60261708185009.\u001b[0m\n",
      "\u001b[32m[I 2023-08-17 21:36:58,549]\u001b[0m Trial 22 finished with value: 0.5871476817423026 and parameters: {'n_estimators': 151, 'max_depth': 21, 'min_samples_leaf': 9, 'min_samples_split': 7, 'subsample': 0.3888249206784251}. Best is trial 16 with value: 0.60261708185009.\u001b[0m\n",
      "\u001b[32m[I 2023-08-17 21:36:59,439]\u001b[0m Trial 23 finished with value: 0.5659821447948249 and parameters: {'n_estimators': 135, 'max_depth': 9, 'min_samples_leaf': 7, 'min_samples_split': 4, 'subsample': 0.24686787976186092}. Best is trial 16 with value: 0.60261708185009.\u001b[0m\n",
      "\u001b[32m[I 2023-08-17 21:37:02,084]\u001b[0m Trial 24 finished with value: 0.5932045134541106 and parameters: {'n_estimators': 174, 'max_depth': 15, 'min_samples_leaf': 6, 'min_samples_split': 7, 'subsample': 0.4561082106526447}. Best is trial 16 with value: 0.60261708185009.\u001b[0m\n",
      "\u001b[32m[I 2023-08-17 21:37:03,319]\u001b[0m Trial 25 finished with value: 0.5921969981627608 and parameters: {'n_estimators': 117, 'max_depth': 28, 'min_samples_leaf': 8, 'min_samples_split': 5, 'subsample': 0.37136987397256394}. Best is trial 16 with value: 0.60261708185009.\u001b[0m\n",
      "\u001b[32m[I 2023-08-17 21:37:04,739]\u001b[0m Trial 26 finished with value: 0.5789291259928289 and parameters: {'n_estimators': 187, 'max_depth': 27, 'min_samples_leaf': 9, 'min_samples_split': 9, 'subsample': 0.29317035998249413}. Best is trial 16 with value: 0.60261708185009.\u001b[0m\n",
      "\u001b[32m[I 2023-08-17 21:37:07,317]\u001b[0m Trial 27 finished with value: 0.5853246922140409 and parameters: {'n_estimators': 165, 'max_depth': 17, 'min_samples_leaf': 4, 'min_samples_split': 3, 'subsample': 0.42108332887987365}. Best is trial 16 with value: 0.60261708185009.\u001b[0m\n",
      "\u001b[32m[I 2023-08-17 21:37:08,120]\u001b[0m Trial 28 finished with value: 0.5662779271972053 and parameters: {'n_estimators': 156, 'max_depth': 12, 'min_samples_leaf': 10, 'min_samples_split': 6, 'subsample': 0.20685235975143024}. Best is trial 16 with value: 0.60261708185009.\u001b[0m\n",
      "\u001b[32m[I 2023-08-17 21:37:09,936]\u001b[0m Trial 29 finished with value: 0.5939547919680074 and parameters: {'n_estimators': 142, 'max_depth': 21, 'min_samples_leaf': 10, 'min_samples_split': 4, 'subsample': 0.4636119278229569}. Best is trial 16 with value: 0.60261708185009.\u001b[0m\n",
      "\u001b[32m[I 2023-08-17 21:37:10,844]\u001b[0m Trial 30 finished with value: 0.5783125094728929 and parameters: {'n_estimators': 101, 'max_depth': 30, 'min_samples_leaf': 7, 'min_samples_split': 2, 'subsample': 0.3157334751422545}. Best is trial 16 with value: 0.60261708185009.\u001b[0m\n",
      "\u001b[32m[I 2023-08-17 21:37:12,890]\u001b[0m Trial 31 finished with value: 0.5972709504813438 and parameters: {'n_estimators': 157, 'max_depth': 26, 'min_samples_leaf': 9, 'min_samples_split': 5, 'subsample': 0.44682104266483696}. Best is trial 16 with value: 0.60261708185009.\u001b[0m\n",
      "\u001b[32m[I 2023-08-17 21:37:14,851]\u001b[0m Trial 32 finished with value: 0.59194710596915 and parameters: {'n_estimators': 151, 'max_depth': 25, 'min_samples_leaf': 8, 'min_samples_split': 5, 'subsample': 0.4269286489931751}. Best is trial 16 with value: 0.60261708185009.\u001b[0m\n",
      "\u001b[32m[I 2023-08-17 21:37:17,306]\u001b[0m Trial 33 finished with value: 0.5924458123608142 and parameters: {'n_estimators': 169, 'max_depth': 26, 'min_samples_leaf': 9, 'min_samples_split': 5, 'subsample': 0.47529456125445085}. Best is trial 16 with value: 0.60261708185009.\u001b[0m\n",
      "\u001b[32m[I 2023-08-17 21:37:18,900]\u001b[0m Trial 34 finished with value: 0.6011206129347413 and parameters: {'n_estimators': 160, 'max_depth': 20, 'min_samples_leaf': 10, 'min_samples_split': 4, 'subsample': 0.3706102654874804}. Best is trial 16 with value: 0.60261708185009.\u001b[0m\n",
      "\u001b[32m[I 2023-08-17 21:37:20,556]\u001b[0m Trial 35 finished with value: 0.5893747747333518 and parameters: {'n_estimators': 162, 'max_depth': 20, 'min_samples_leaf': 10, 'min_samples_split': 4, 'subsample': 0.37431383616470176}. Best is trial 16 with value: 0.60261708185009.\u001b[0m\n",
      "\u001b[32m[I 2023-08-17 21:37:22,311]\u001b[0m Trial 36 finished with value: 0.593506245840231 and parameters: {'n_estimators': 182, 'max_depth': 22, 'min_samples_leaf': 10, 'min_samples_split': 3, 'subsample': 0.3604695904494388}. Best is trial 16 with value: 0.60261708185009.\u001b[0m\n",
      "\u001b[32m[I 2023-08-17 21:37:24,724]\u001b[0m Trial 37 finished with value: 0.6015096116547716 and parameters: {'n_estimators': 159, 'max_depth': 24, 'min_samples_leaf': 9, 'min_samples_split': 4, 'subsample': 0.4934591516423933}. Best is trial 16 with value: 0.60261708185009.\u001b[0m\n",
      "\u001b[32m[I 2023-08-17 21:37:27,306]\u001b[0m Trial 38 finished with value: 0.5945614672572516 and parameters: {'n_estimators': 162, 'max_depth': 24, 'min_samples_leaf': 8, 'min_samples_split': 3, 'subsample': 0.49311191767760854}. Best is trial 16 with value: 0.60261708185009.\u001b[0m\n",
      "\u001b[32m[I 2023-08-17 21:37:27,947]\u001b[0m Trial 39 finished with value: 0.5446238073764074 and parameters: {'n_estimators': 171, 'max_depth': 17, 'min_samples_leaf': 10, 'min_samples_split': 4, 'subsample': 0.13898042680193903}. Best is trial 16 with value: 0.60261708185009.\u001b[0m\n",
      "\u001b[32m[I 2023-08-17 21:37:30,140]\u001b[0m Trial 40 finished with value: 0.604157048713611 and parameters: {'n_estimators': 147, 'max_depth': 19, 'min_samples_leaf': 8, 'min_samples_split': 2, 'subsample': 0.47442997022138184}. Best is trial 40 with value: 0.604157048713611.\u001b[0m\n",
      "\u001b[32m[I 2023-08-17 21:37:32,240]\u001b[0m Trial 41 finished with value: 0.5978639110879115 and parameters: {'n_estimators': 146, 'max_depth': 19, 'min_samples_leaf': 8, 'min_samples_split': 2, 'subsample': 0.466995641335281}. Best is trial 40 with value: 0.604157048713611.\u001b[0m\n",
      "\u001b[32m[I 2023-08-17 21:37:34,360]\u001b[0m Trial 42 finished with value: 0.6009394319978083 and parameters: {'n_estimators': 166, 'max_depth': 23, 'min_samples_leaf': 9, 'min_samples_split': 3, 'subsample': 0.43026247314878296}. Best is trial 40 with value: 0.604157048713611.\u001b[0m\n",
      "\u001b[32m[I 2023-08-17 21:37:36,748]\u001b[0m Trial 43 finished with value: 0.592805592651769 and parameters: {'n_estimators': 165, 'max_depth': 23, 'min_samples_leaf': 9, 'min_samples_split': 2, 'subsample': 0.482412504111128}. Best is trial 40 with value: 0.604157048713611.\u001b[0m\n",
      "\u001b[32m[I 2023-08-17 21:37:38,653]\u001b[0m Trial 44 finished with value: 0.6018085813584085 and parameters: {'n_estimators': 159, 'max_depth': 18, 'min_samples_leaf': 10, 'min_samples_split': 3, 'subsample': 0.42719828350314376}. Best is trial 40 with value: 0.604157048713611.\u001b[0m\n",
      "\u001b[32m[I 2023-08-17 21:37:40,797]\u001b[0m Trial 45 finished with value: 0.6045549639893226 and parameters: {'n_estimators': 148, 'max_depth': 17, 'min_samples_leaf': 10, 'min_samples_split': 2, 'subsample': 0.49764234647329664}. Best is trial 45 with value: 0.6045549639893226.\u001b[0m\n",
      "\u001b[32m[I 2023-08-17 21:37:42,737]\u001b[0m Trial 46 finished with value: 0.5900625625304619 and parameters: {'n_estimators': 137, 'max_depth': 17, 'min_samples_leaf': 10, 'min_samples_split': 2, 'subsample': 0.48942753760661495}. Best is trial 45 with value: 0.6045549639893226.\u001b[0m\n",
      "\u001b[32m[I 2023-08-17 21:37:44,887]\u001b[0m Trial 47 finished with value: 0.6019285972848512 and parameters: {'n_estimators': 150, 'max_depth': 14, 'min_samples_leaf': 10, 'min_samples_split': 3, 'subsample': 0.49960514080671764}. Best is trial 45 with value: 0.6045549639893226.\u001b[0m\n",
      "\u001b[32m[I 2023-08-17 21:37:46,831]\u001b[0m Trial 48 finished with value: 0.5937222356205082 and parameters: {'n_estimators': 147, 'max_depth': 13, 'min_samples_leaf': 10, 'min_samples_split': 2, 'subsample': 0.47027013557850483}. Best is trial 45 with value: 0.6045549639893226.\u001b[0m\n",
      "\u001b[32m[I 2023-08-17 21:37:49,320]\u001b[0m Trial 49 finished with value: 0.5725256781277401 and parameters: {'n_estimators': 132, 'max_depth': 16, 'min_samples_leaf': 2, 'min_samples_split': 3, 'subsample': 0.44740803531483864}. Best is trial 45 with value: 0.6045549639893226.\u001b[0m\n",
      "\u001b[32m[I 2023-08-17 21:37:51,253]\u001b[0m Trial 50 finished with value: 0.5917830826310916 and parameters: {'n_estimators': 141, 'max_depth': 18, 'min_samples_leaf': 10, 'min_samples_split': 2, 'subsample': 0.47470334502198663}. Best is trial 45 with value: 0.6045549639893226.\u001b[0m\n",
      "\u001b[32m[I 2023-08-17 21:37:53,222]\u001b[0m Trial 51 finished with value: 0.5888229957400268 and parameters: {'n_estimators': 149, 'max_depth': 19, 'min_samples_leaf': 9, 'min_samples_split': 3, 'subsample': 0.4992662580837333}. Best is trial 45 with value: 0.6045549639893226.\u001b[0m\n",
      "\u001b[32m[I 2023-08-17 21:37:55,077]\u001b[0m Trial 52 finished with value: 0.5996181436923493 and parameters: {'n_estimators': 159, 'max_depth': 14, 'min_samples_leaf': 9, 'min_samples_split': 3, 'subsample': 0.4841079484468012}. Best is trial 45 with value: 0.6045549639893226.\u001b[0m\n",
      "\u001b[32m[I 2023-08-17 21:37:56,729]\u001b[0m Trial 53 finished with value: 0.5904065444831086 and parameters: {'n_estimators': 154, 'max_depth': 18, 'min_samples_leaf': 8, 'min_samples_split': 3, 'subsample': 0.4360908291032943}. Best is trial 45 with value: 0.6045549639893226.\u001b[0m\n",
      "\u001b[32m[I 2023-08-17 21:37:58,434]\u001b[0m Trial 54 finished with value: 0.5997270222083843 and parameters: {'n_estimators': 144, 'max_depth': 16, 'min_samples_leaf': 10, 'min_samples_split': 2, 'subsample': 0.497826116817375}. Best is trial 45 with value: 0.6045549639893226.\u001b[0m\n",
      "\u001b[32m[I 2023-08-17 21:38:00,089]\u001b[0m Trial 55 finished with value: 0.5963202513329746 and parameters: {'n_estimators': 150, 'max_depth': 21, 'min_samples_leaf': 9, 'min_samples_split': 4, 'subsample': 0.4541392401407618}. Best is trial 45 with value: 0.6045549639893226.\u001b[0m\n",
      "\u001b[32m[I 2023-08-17 21:38:01,542]\u001b[0m Trial 56 finished with value: 0.5914901159351381 and parameters: {'n_estimators': 153, 'max_depth': 11, 'min_samples_leaf': 8, 'min_samples_split': 2, 'subsample': 0.4069832034338759}. Best is trial 45 with value: 0.6045549639893226.\u001b[0m\n",
      "\u001b[32m[I 2023-08-17 21:38:03,033]\u001b[0m Trial 57 finished with value: 0.5869644567066941 and parameters: {'n_estimators': 140, 'max_depth': 14, 'min_samples_leaf': 10, 'min_samples_split': 3, 'subsample': 0.46546743637178156}. Best is trial 45 with value: 0.6045549639893226.\u001b[0m\n",
      "\u001b[32m[I 2023-08-17 21:38:04,573]\u001b[0m Trial 58 finished with value: 0.593045397424379 and parameters: {'n_estimators': 129, 'max_depth': 20, 'min_samples_leaf': 9, 'min_samples_split': 4, 'subsample': 0.48335368115458194}. Best is trial 45 with value: 0.6045549639893226.\u001b[0m\n",
      "\u001b[32m[I 2023-08-17 21:38:05,721]\u001b[0m Trial 59 finished with value: 0.602481934984886 and parameters: {'n_estimators': 145, 'max_depth': 7, 'min_samples_leaf': 10, 'min_samples_split': 2, 'subsample': 0.4412353977515486}. Best is trial 45 with value: 0.6045549639893226.\u001b[0m\n",
      "\u001b[32m[I 2023-08-17 21:38:06,558]\u001b[0m Trial 60 finished with value: 0.5953206051183733 and parameters: {'n_estimators': 125, 'max_depth': 6, 'min_samples_leaf': 10, 'min_samples_split': 2, 'subsample': 0.392169539590737}. Best is trial 45 with value: 0.6045549639893226.\u001b[0m\n",
      "\u001b[32m[I 2023-08-17 21:38:07,109]\u001b[0m Trial 61 finished with value: 0.5359047850876044 and parameters: {'n_estimators': 146, 'max_depth': 2, 'min_samples_leaf': 10, 'min_samples_split': 2, 'subsample': 0.4396294733953837}. Best is trial 45 with value: 0.6045549639893226.\u001b[0m\n",
      "\u001b[32m[I 2023-08-17 21:38:08,620]\u001b[0m Trial 62 finished with value: 0.5956622223842103 and parameters: {'n_estimators': 135, 'max_depth': 22, 'min_samples_leaf': 9, 'min_samples_split': 3, 'subsample': 0.4590752132770547}. Best is trial 45 with value: 0.6045549639893226.\u001b[0m\n",
      "\u001b[32m[I 2023-08-17 21:38:09,818]\u001b[0m Trial 63 finished with value: 0.6013179813647158 and parameters: {'n_estimators': 157, 'max_depth': 7, 'min_samples_leaf': 9, 'min_samples_split': 2, 'subsample': 0.415920538252731}. Best is trial 45 with value: 0.6045549639893226.\u001b[0m\n",
      "\u001b[32m[I 2023-08-17 21:38:10,770]\u001b[0m Trial 64 finished with value: 0.5829427898474693 and parameters: {'n_estimators': 149, 'max_depth': 4, 'min_samples_leaf': 10, 'min_samples_split': 3, 'subsample': 0.48146147321894806}. Best is trial 45 with value: 0.6045549639893226.\u001b[0m\n",
      "\u001b[32m[I 2023-08-17 21:38:12,152]\u001b[0m Trial 65 finished with value: 0.5900648922143579 and parameters: {'n_estimators': 143, 'max_depth': 9, 'min_samples_leaf': 8, 'min_samples_split': 3, 'subsample': 0.4470793674351998}. Best is trial 45 with value: 0.6045549639893226.\u001b[0m\n",
      "\u001b[32m[I 2023-08-17 21:38:14,059]\u001b[0m Trial 66 finished with value: 0.5907104702269422 and parameters: {'n_estimators': 155, 'max_depth': 24, 'min_samples_leaf': 10, 'min_samples_split': 4, 'subsample': 0.4986551176570321}. Best is trial 45 with value: 0.6045549639893226.\u001b[0m\n",
      "\u001b[32m[I 2023-08-17 21:38:15,751]\u001b[0m Trial 67 finished with value: 0.5928031949523895 and parameters: {'n_estimators': 152, 'max_depth': 19, 'min_samples_leaf': 9, 'min_samples_split': 2, 'subsample': 0.46146261118753024}. Best is trial 45 with value: 0.6045549639893226.\u001b[0m\n",
      "\u001b[32m[I 2023-08-17 21:38:17,268]\u001b[0m Trial 68 finished with value: 0.6048347751087839 and parameters: {'n_estimators': 160, 'max_depth': 14, 'min_samples_leaf': 10, 'min_samples_split': 4, 'subsample': 0.42111008354038254}. Best is trial 68 with value: 0.6048347751087839.\u001b[0m\n",
      "\u001b[32m[I 2023-08-17 21:38:18,888]\u001b[0m Trial 69 finished with value: 0.6071709193232042 and parameters: {'n_estimators': 168, 'max_depth': 14, 'min_samples_leaf': 10, 'min_samples_split': 3, 'subsample': 0.4264260511546148}. Best is trial 69 with value: 0.6071709193232042.\u001b[0m\n",
      "\u001b[32m[I 2023-08-17 21:38:20,307]\u001b[0m Trial 70 finished with value: 0.5906000793729789 and parameters: {'n_estimators': 138, 'max_depth': 14, 'min_samples_leaf': 5, 'min_samples_split': 6, 'subsample': 0.3812462355625581}. Best is trial 69 with value: 0.6071709193232042.\u001b[0m\n",
      "\u001b[32m[I 2023-08-17 21:38:21,791]\u001b[0m Trial 71 finished with value: 0.5930147960475252 and parameters: {'n_estimators': 171, 'max_depth': 11, 'min_samples_leaf': 10, 'min_samples_split': 2, 'subsample': 0.40505258275320566}. Best is trial 69 with value: 0.6071709193232042.\u001b[0m\n",
      "\u001b[32m[I 2023-08-17 21:38:23,337]\u001b[0m Trial 72 finished with value: 0.5963755193190518 and parameters: {'n_estimators': 163, 'max_depth': 15, 'min_samples_leaf': 10, 'min_samples_split': 3, 'subsample': 0.41574158445686554}. Best is trial 69 with value: 0.6071709193232042.\u001b[0m\n",
      "\u001b[32m[I 2023-08-17 21:38:25,006]\u001b[0m Trial 73 finished with value: 0.6013324667356325 and parameters: {'n_estimators': 174, 'max_depth': 13, 'min_samples_leaf': 10, 'min_samples_split': 3, 'subsample': 0.42642427527357396}. Best is trial 69 with value: 0.6071709193232042.\u001b[0m\n",
      "\u001b[32m[I 2023-08-17 21:38:26,670]\u001b[0m Trial 74 finished with value: 0.5931890703814381 and parameters: {'n_estimators': 166, 'max_depth': 16, 'min_samples_leaf': 10, 'min_samples_split': 5, 'subsample': 0.439304648092914}. Best is trial 69 with value: 0.6071709193232042.\u001b[0m\n",
      "\u001b[32m[I 2023-08-17 21:38:27,492]\u001b[0m Trial 75 finished with value: 0.5713258153490532 and parameters: {'n_estimators': 147, 'max_depth': 18, 'min_samples_leaf': 9, 'min_samples_split': 2, 'subsample': 0.2656569966969364}. Best is trial 69 with value: 0.6071709193232042.\u001b[0m\n",
      "\u001b[32m[I 2023-08-17 21:38:28,888]\u001b[0m Trial 76 finished with value: 0.597398842815372 and parameters: {'n_estimators': 160, 'max_depth': 12, 'min_samples_leaf': 10, 'min_samples_split': 4, 'subsample': 0.3996289750311449}. Best is trial 69 with value: 0.6071709193232042.\u001b[0m\n",
      "\u001b[32m[I 2023-08-17 21:38:31,018]\u001b[0m Trial 77 finished with value: 0.6045060333820869 and parameters: {'n_estimators': 182, 'max_depth': 17, 'min_samples_leaf': 9, 'min_samples_split': 3, 'subsample': 0.47219268669368547}. Best is trial 69 with value: 0.6071709193232042.\u001b[0m\n",
      "\u001b[32m[I 2023-08-17 21:38:33,503]\u001b[0m Trial 78 finished with value: 0.5808199706114425 and parameters: {'n_estimators': 189, 'max_depth': 15, 'min_samples_leaf': 6, 'min_samples_split': 4, 'subsample': 0.4729043571085702}. Best is trial 69 with value: 0.6071709193232042.\u001b[0m\n",
      "\u001b[32m[I 2023-08-17 21:38:34,927]\u001b[0m Trial 79 finished with value: 0.5921871534613184 and parameters: {'n_estimators': 178, 'max_depth': 17, 'min_samples_leaf': 9, 'min_samples_split': 2, 'subsample': 0.3455708752151759}. Best is trial 69 with value: 0.6071709193232042.\u001b[0m\n",
      "\u001b[32m[I 2023-08-17 21:38:36,911]\u001b[0m Trial 80 finished with value: 0.5966826382504568 and parameters: {'n_estimators': 198, 'max_depth': 11, 'min_samples_leaf': 9, 'min_samples_split': 5, 'subsample': 0.4537383926746776}. Best is trial 69 with value: 0.6071709193232042.\u001b[0m\n",
      "\u001b[32m[I 2023-08-17 21:38:38,736]\u001b[0m Trial 81 finished with value: 0.5897820666505669 and parameters: {'n_estimators': 187, 'max_depth': 16, 'min_samples_leaf': 10, 'min_samples_split': 3, 'subsample': 0.4313707626569366}. Best is trial 69 with value: 0.6071709193232042.\u001b[0m\n",
      "\u001b[32m[I 2023-08-17 21:38:40,552]\u001b[0m Trial 82 finished with value: 0.5945307322648213 and parameters: {'n_estimators': 181, 'max_depth': 14, 'min_samples_leaf': 10, 'min_samples_split': 3, 'subsample': 0.4433512286410283}. Best is trial 69 with value: 0.6071709193232042.\u001b[0m\n",
      "\u001b[32m[I 2023-08-17 21:38:42,123]\u001b[0m Trial 83 finished with value: 0.6019143325501104 and parameters: {'n_estimators': 168, 'max_depth': 17, 'min_samples_leaf': 10, 'min_samples_split': 4, 'subsample': 0.4200759099657162}. Best is trial 69 with value: 0.6071709193232042.\u001b[0m\n",
      "\u001b[32m[I 2023-08-17 21:38:44,101]\u001b[0m Trial 84 finished with value: 0.6027238084233725 and parameters: {'n_estimators': 176, 'max_depth': 13, 'min_samples_leaf': 9, 'min_samples_split': 4, 'subsample': 0.46969564424065535}. Best is trial 69 with value: 0.6071709193232042.\u001b[0m\n",
      "\u001b[32m[I 2023-08-17 21:38:46,207]\u001b[0m Trial 85 finished with value: 0.5938295593432634 and parameters: {'n_estimators': 183, 'max_depth': 13, 'min_samples_leaf': 8, 'min_samples_split': 6, 'subsample': 0.474456944371751}. Best is trial 69 with value: 0.6071709193232042.\u001b[0m\n",
      "\u001b[32m[I 2023-08-17 21:38:48,308]\u001b[0m Trial 86 finished with value: 0.6107613838167556 and parameters: {'n_estimators': 176, 'max_depth': 12, 'min_samples_leaf': 9, 'min_samples_split': 5, 'subsample': 0.48563243815157614}. Best is trial 86 with value: 0.6107613838167556.\u001b[0m\n",
      "\u001b[32m[I 2023-08-17 21:38:50,168]\u001b[0m Trial 87 finished with value: 0.6019504705426206 and parameters: {'n_estimators': 173, 'max_depth': 12, 'min_samples_leaf': 9, 'min_samples_split': 7, 'subsample': 0.46416752811739287}. Best is trial 86 with value: 0.6107613838167556.\u001b[0m\n",
      "\u001b[32m[I 2023-08-17 21:38:52,043]\u001b[0m Trial 88 finished with value: 0.5954702377271281 and parameters: {'n_estimators': 176, 'max_depth': 10, 'min_samples_leaf': 8, 'min_samples_split': 5, 'subsample': 0.487774203405374}. Best is trial 86 with value: 0.6107613838167556.\u001b[0m\n",
      "\u001b[32m[I 2023-08-17 21:38:53,896]\u001b[0m Trial 89 finished with value: 0.590097189204006 and parameters: {'n_estimators': 184, 'max_depth': 9, 'min_samples_leaf': 8, 'min_samples_split': 6, 'subsample': 0.45419452184685394}. Best is trial 86 with value: 0.6107613838167556.\u001b[0m\n",
      "\u001b[32m[I 2023-08-17 21:38:55,144]\u001b[0m Trial 90 finished with value: 0.5984768664360038 and parameters: {'n_estimators': 176, 'max_depth': 5, 'min_samples_leaf': 9, 'min_samples_split': 5, 'subsample': 0.4723559996125646}. Best is trial 86 with value: 0.6107613838167556.\u001b[0m\n",
      "\u001b[32m[I 2023-08-17 21:38:56,938]\u001b[0m Trial 91 finished with value: 0.5972415933390647 and parameters: {'n_estimators': 172, 'max_depth': 12, 'min_samples_leaf': 9, 'min_samples_split': 8, 'subsample': 0.4647836005443129}. Best is trial 86 with value: 0.6107613838167556.\u001b[0m\n",
      "\u001b[32m[I 2023-08-17 21:38:58,553]\u001b[0m Trial 92 finished with value: 0.603982127872769 and parameters: {'n_estimators': 174, 'max_depth': 8, 'min_samples_leaf': 9, 'min_samples_split': 7, 'subsample': 0.4874505540365002}. Best is trial 86 with value: 0.6107613838167556.\u001b[0m\n",
      "\u001b[32m[I 2023-08-17 21:39:00,224]\u001b[0m Trial 93 finished with value: 0.5900095581627773 and parameters: {'n_estimators': 175, 'max_depth': 8, 'min_samples_leaf': 7, 'min_samples_split': 7, 'subsample': 0.48463640815664505}. Best is trial 86 with value: 0.6107613838167556.\u001b[0m\n",
      "\u001b[32m[I 2023-08-17 21:39:01,748]\u001b[0m Trial 94 finished with value: 0.5996020774968045 and parameters: {'n_estimators': 179, 'max_depth': 7, 'min_samples_leaf': 9, 'min_samples_split': 6, 'subsample': 0.4776744050871692}. Best is trial 86 with value: 0.6107613838167556.\u001b[0m\n",
      "\u001b[32m[I 2023-08-17 21:39:03,635]\u001b[0m Trial 95 finished with value: 0.5989924930494813 and parameters: {'n_estimators': 180, 'max_depth': 15, 'min_samples_leaf': 9, 'min_samples_split': 8, 'subsample': 0.4515879322251376}. Best is trial 86 with value: 0.6107613838167556.\u001b[0m\n",
      "\u001b[32m[I 2023-08-17 21:39:04,238]\u001b[0m Trial 96 finished with value: 0.5611572447888413 and parameters: {'n_estimators': 168, 'max_depth': 6, 'min_samples_leaf': 9, 'min_samples_split': 5, 'subsample': 0.19044859031457367}. Best is trial 86 with value: 0.6107613838167556.\u001b[0m\n",
      "\u001b[32m[I 2023-08-17 21:39:06,404]\u001b[0m Trial 97 finished with value: 0.5941014994075389 and parameters: {'n_estimators': 185, 'max_depth': 13, 'min_samples_leaf': 8, 'min_samples_split': 6, 'subsample': 0.48826194920951954}. Best is trial 86 with value: 0.6107613838167556.\u001b[0m\n",
      "\u001b[32m[I 2023-08-17 21:39:08,246]\u001b[0m Trial 98 finished with value: 0.5741908860787176 and parameters: {'n_estimators': 194, 'max_depth': 8, 'min_samples_leaf': 1, 'min_samples_split': 4, 'subsample': 0.4378955141124562}. Best is trial 86 with value: 0.6107613838167556.\u001b[0m\n",
      "\u001b[32m[I 2023-08-17 21:39:09,878]\u001b[0m Trial 99 finished with value: 0.5930745246271172 and parameters: {'n_estimators': 165, 'max_depth': 11, 'min_samples_leaf': 9, 'min_samples_split': 9, 'subsample': 0.4592358025717477}. Best is trial 86 with value: 0.6107613838167556.\u001b[0m\n"
     ]
    },
    {
     "name": "stdout",
     "output_type": "stream",
     "text": [
      "Best r2:  0.6107613838167556\n",
      "Best trial: {'n_estimators': 176, 'max_depth': 12, 'min_samples_leaf': 9, 'min_samples_split': 5, 'subsample': 0.48563243815157614}\n"
     ]
    }
   ],
   "source": [
    "sampler = TPESampler()\n",
    "study = optuna.create_study(\n",
    "    study_name=\"gb_parameter_opt\",\n",
    "    direction=\"maximize\",\n",
    "    sampler=sampler,\n",
    ")\n",
    "\n",
    "study.optimize(lambda trial : objectiveGB(trial, As_X_train, As_y_train), n_trials=100)\n",
    "print(\"Best r2: \", study.best_value)\n",
    "print(\"Best trial:\", study.best_trial.params)"
   ]
  },
  {
   "cell_type": "code",
   "execution_count": 54,
   "id": "8ec7571f",
   "metadata": {},
   "outputs": [
    {
     "data": {
      "application/vnd.plotly.v1+json": {
       "config": {
        "plotlyServerURL": "https://plot.ly"
       },
       "data": [
        {
         "mode": "markers",
         "name": "Objective Value",
         "type": "scatter",
         "x": [
          0,
          1,
          2,
          3,
          4,
          5,
          6,
          7,
          8,
          9,
          10,
          11,
          12,
          13,
          14,
          15,
          16,
          17,
          18,
          19,
          20,
          21,
          22,
          23,
          24,
          25,
          26,
          27,
          28,
          29,
          30,
          31,
          32,
          33,
          34,
          35,
          36,
          37,
          38,
          39,
          40,
          41,
          42,
          43,
          44,
          45,
          46,
          47,
          48,
          49,
          50,
          51,
          52,
          53,
          54,
          55,
          56,
          57,
          58,
          59,
          60,
          61,
          62,
          63,
          64,
          65,
          66,
          67,
          68,
          69,
          70,
          71,
          72,
          73,
          74,
          75,
          76,
          77,
          78,
          79,
          80,
          81,
          82,
          83,
          84,
          85,
          86,
          87,
          88,
          89,
          90,
          91,
          92,
          93,
          94,
          95,
          96,
          97,
          98,
          99
         ],
         "y": [
          0.5192569790369308,
          0.5759693233274259,
          0.5548712370514488,
          0.5542253135971147,
          0.550865931628315,
          0.5939391958338406,
          0.49259218976554153,
          0.5544515314599151,
          0.5996812748042412,
          0.5968535990284041,
          0.5852120464680317,
          0.5829055168086714,
          0.5712331997515075,
          0.5885918384606188,
          0.5860710318487026,
          0.44121729680087285,
          0.60261708185009,
          0.5959628630272219,
          0.5958492530826942,
          0.5786071254021335,
          0.5957421506028131,
          0.5762597932013638,
          0.5871476817423026,
          0.5659821447948249,
          0.5932045134541106,
          0.5921969981627608,
          0.5789291259928289,
          0.5853246922140409,
          0.5662779271972053,
          0.5939547919680074,
          0.5783125094728929,
          0.5972709504813438,
          0.59194710596915,
          0.5924458123608142,
          0.6011206129347413,
          0.5893747747333518,
          0.593506245840231,
          0.6015096116547716,
          0.5945614672572516,
          0.5446238073764074,
          0.604157048713611,
          0.5978639110879115,
          0.6009394319978083,
          0.592805592651769,
          0.6018085813584085,
          0.6045549639893226,
          0.5900625625304619,
          0.6019285972848512,
          0.5937222356205082,
          0.5725256781277401,
          0.5917830826310916,
          0.5888229957400268,
          0.5996181436923493,
          0.5904065444831086,
          0.5997270222083843,
          0.5963202513329746,
          0.5914901159351381,
          0.5869644567066941,
          0.593045397424379,
          0.602481934984886,
          0.5953206051183733,
          0.5359047850876044,
          0.5956622223842103,
          0.6013179813647158,
          0.5829427898474693,
          0.5900648922143579,
          0.5907104702269422,
          0.5928031949523895,
          0.6048347751087839,
          0.6071709193232042,
          0.5906000793729789,
          0.5930147960475252,
          0.5963755193190518,
          0.6013324667356325,
          0.5931890703814381,
          0.5713258153490532,
          0.597398842815372,
          0.6045060333820869,
          0.5808199706114425,
          0.5921871534613184,
          0.5966826382504568,
          0.5897820666505669,
          0.5945307322648213,
          0.6019143325501104,
          0.6027238084233725,
          0.5938295593432634,
          0.6107613838167556,
          0.6019504705426206,
          0.5954702377271281,
          0.590097189204006,
          0.5984768664360038,
          0.5972415933390647,
          0.603982127872769,
          0.5900095581627773,
          0.5996020774968045,
          0.5989924930494813,
          0.5611572447888413,
          0.5941014994075389,
          0.5741908860787176,
          0.5930745246271172
         ]
        },
        {
         "name": "Best Value",
         "type": "scatter",
         "x": [
          0,
          1,
          2,
          3,
          4,
          5,
          6,
          7,
          8,
          9,
          10,
          11,
          12,
          13,
          14,
          15,
          16,
          17,
          18,
          19,
          20,
          21,
          22,
          23,
          24,
          25,
          26,
          27,
          28,
          29,
          30,
          31,
          32,
          33,
          34,
          35,
          36,
          37,
          38,
          39,
          40,
          41,
          42,
          43,
          44,
          45,
          46,
          47,
          48,
          49,
          50,
          51,
          52,
          53,
          54,
          55,
          56,
          57,
          58,
          59,
          60,
          61,
          62,
          63,
          64,
          65,
          66,
          67,
          68,
          69,
          70,
          71,
          72,
          73,
          74,
          75,
          76,
          77,
          78,
          79,
          80,
          81,
          82,
          83,
          84,
          85,
          86,
          87,
          88,
          89,
          90,
          91,
          92,
          93,
          94,
          95,
          96,
          97,
          98,
          99
         ],
         "y": [
          0.5192569790369308,
          0.5759693233274259,
          0.5759693233274259,
          0.5759693233274259,
          0.5759693233274259,
          0.5939391958338406,
          0.5939391958338406,
          0.5939391958338406,
          0.5996812748042412,
          0.5996812748042412,
          0.5996812748042412,
          0.5996812748042412,
          0.5996812748042412,
          0.5996812748042412,
          0.5996812748042412,
          0.5996812748042412,
          0.60261708185009,
          0.60261708185009,
          0.60261708185009,
          0.60261708185009,
          0.60261708185009,
          0.60261708185009,
          0.60261708185009,
          0.60261708185009,
          0.60261708185009,
          0.60261708185009,
          0.60261708185009,
          0.60261708185009,
          0.60261708185009,
          0.60261708185009,
          0.60261708185009,
          0.60261708185009,
          0.60261708185009,
          0.60261708185009,
          0.60261708185009,
          0.60261708185009,
          0.60261708185009,
          0.60261708185009,
          0.60261708185009,
          0.60261708185009,
          0.604157048713611,
          0.604157048713611,
          0.604157048713611,
          0.604157048713611,
          0.604157048713611,
          0.6045549639893226,
          0.6045549639893226,
          0.6045549639893226,
          0.6045549639893226,
          0.6045549639893226,
          0.6045549639893226,
          0.6045549639893226,
          0.6045549639893226,
          0.6045549639893226,
          0.6045549639893226,
          0.6045549639893226,
          0.6045549639893226,
          0.6045549639893226,
          0.6045549639893226,
          0.6045549639893226,
          0.6045549639893226,
          0.6045549639893226,
          0.6045549639893226,
          0.6045549639893226,
          0.6045549639893226,
          0.6045549639893226,
          0.6045549639893226,
          0.6045549639893226,
          0.6048347751087839,
          0.6071709193232042,
          0.6071709193232042,
          0.6071709193232042,
          0.6071709193232042,
          0.6071709193232042,
          0.6071709193232042,
          0.6071709193232042,
          0.6071709193232042,
          0.6071709193232042,
          0.6071709193232042,
          0.6071709193232042,
          0.6071709193232042,
          0.6071709193232042,
          0.6071709193232042,
          0.6071709193232042,
          0.6071709193232042,
          0.6071709193232042,
          0.6107613838167556,
          0.6107613838167556,
          0.6107613838167556,
          0.6107613838167556,
          0.6107613838167556,
          0.6107613838167556,
          0.6107613838167556,
          0.6107613838167556,
          0.6107613838167556,
          0.6107613838167556,
          0.6107613838167556,
          0.6107613838167556,
          0.6107613838167556,
          0.6107613838167556
         ]
        }
       ],
       "layout": {
        "template": {
         "data": {
          "bar": [
           {
            "error_x": {
             "color": "#2a3f5f"
            },
            "error_y": {
             "color": "#2a3f5f"
            },
            "marker": {
             "line": {
              "color": "#E5ECF6",
              "width": 0.5
             },
             "pattern": {
              "fillmode": "overlay",
              "size": 10,
              "solidity": 0.2
             }
            },
            "type": "bar"
           }
          ],
          "barpolar": [
           {
            "marker": {
             "line": {
              "color": "#E5ECF6",
              "width": 0.5
             },
             "pattern": {
              "fillmode": "overlay",
              "size": 10,
              "solidity": 0.2
             }
            },
            "type": "barpolar"
           }
          ],
          "carpet": [
           {
            "aaxis": {
             "endlinecolor": "#2a3f5f",
             "gridcolor": "white",
             "linecolor": "white",
             "minorgridcolor": "white",
             "startlinecolor": "#2a3f5f"
            },
            "baxis": {
             "endlinecolor": "#2a3f5f",
             "gridcolor": "white",
             "linecolor": "white",
             "minorgridcolor": "white",
             "startlinecolor": "#2a3f5f"
            },
            "type": "carpet"
           }
          ],
          "choropleth": [
           {
            "colorbar": {
             "outlinewidth": 0,
             "ticks": ""
            },
            "type": "choropleth"
           }
          ],
          "contour": [
           {
            "colorbar": {
             "outlinewidth": 0,
             "ticks": ""
            },
            "colorscale": [
             [
              0,
              "#0d0887"
             ],
             [
              0.1111111111111111,
              "#46039f"
             ],
             [
              0.2222222222222222,
              "#7201a8"
             ],
             [
              0.3333333333333333,
              "#9c179e"
             ],
             [
              0.4444444444444444,
              "#bd3786"
             ],
             [
              0.5555555555555556,
              "#d8576b"
             ],
             [
              0.6666666666666666,
              "#ed7953"
             ],
             [
              0.7777777777777778,
              "#fb9f3a"
             ],
             [
              0.8888888888888888,
              "#fdca26"
             ],
             [
              1,
              "#f0f921"
             ]
            ],
            "type": "contour"
           }
          ],
          "contourcarpet": [
           {
            "colorbar": {
             "outlinewidth": 0,
             "ticks": ""
            },
            "type": "contourcarpet"
           }
          ],
          "heatmap": [
           {
            "colorbar": {
             "outlinewidth": 0,
             "ticks": ""
            },
            "colorscale": [
             [
              0,
              "#0d0887"
             ],
             [
              0.1111111111111111,
              "#46039f"
             ],
             [
              0.2222222222222222,
              "#7201a8"
             ],
             [
              0.3333333333333333,
              "#9c179e"
             ],
             [
              0.4444444444444444,
              "#bd3786"
             ],
             [
              0.5555555555555556,
              "#d8576b"
             ],
             [
              0.6666666666666666,
              "#ed7953"
             ],
             [
              0.7777777777777778,
              "#fb9f3a"
             ],
             [
              0.8888888888888888,
              "#fdca26"
             ],
             [
              1,
              "#f0f921"
             ]
            ],
            "type": "heatmap"
           }
          ],
          "heatmapgl": [
           {
            "colorbar": {
             "outlinewidth": 0,
             "ticks": ""
            },
            "colorscale": [
             [
              0,
              "#0d0887"
             ],
             [
              0.1111111111111111,
              "#46039f"
             ],
             [
              0.2222222222222222,
              "#7201a8"
             ],
             [
              0.3333333333333333,
              "#9c179e"
             ],
             [
              0.4444444444444444,
              "#bd3786"
             ],
             [
              0.5555555555555556,
              "#d8576b"
             ],
             [
              0.6666666666666666,
              "#ed7953"
             ],
             [
              0.7777777777777778,
              "#fb9f3a"
             ],
             [
              0.8888888888888888,
              "#fdca26"
             ],
             [
              1,
              "#f0f921"
             ]
            ],
            "type": "heatmapgl"
           }
          ],
          "histogram": [
           {
            "marker": {
             "pattern": {
              "fillmode": "overlay",
              "size": 10,
              "solidity": 0.2
             }
            },
            "type": "histogram"
           }
          ],
          "histogram2d": [
           {
            "colorbar": {
             "outlinewidth": 0,
             "ticks": ""
            },
            "colorscale": [
             [
              0,
              "#0d0887"
             ],
             [
              0.1111111111111111,
              "#46039f"
             ],
             [
              0.2222222222222222,
              "#7201a8"
             ],
             [
              0.3333333333333333,
              "#9c179e"
             ],
             [
              0.4444444444444444,
              "#bd3786"
             ],
             [
              0.5555555555555556,
              "#d8576b"
             ],
             [
              0.6666666666666666,
              "#ed7953"
             ],
             [
              0.7777777777777778,
              "#fb9f3a"
             ],
             [
              0.8888888888888888,
              "#fdca26"
             ],
             [
              1,
              "#f0f921"
             ]
            ],
            "type": "histogram2d"
           }
          ],
          "histogram2dcontour": [
           {
            "colorbar": {
             "outlinewidth": 0,
             "ticks": ""
            },
            "colorscale": [
             [
              0,
              "#0d0887"
             ],
             [
              0.1111111111111111,
              "#46039f"
             ],
             [
              0.2222222222222222,
              "#7201a8"
             ],
             [
              0.3333333333333333,
              "#9c179e"
             ],
             [
              0.4444444444444444,
              "#bd3786"
             ],
             [
              0.5555555555555556,
              "#d8576b"
             ],
             [
              0.6666666666666666,
              "#ed7953"
             ],
             [
              0.7777777777777778,
              "#fb9f3a"
             ],
             [
              0.8888888888888888,
              "#fdca26"
             ],
             [
              1,
              "#f0f921"
             ]
            ],
            "type": "histogram2dcontour"
           }
          ],
          "mesh3d": [
           {
            "colorbar": {
             "outlinewidth": 0,
             "ticks": ""
            },
            "type": "mesh3d"
           }
          ],
          "parcoords": [
           {
            "line": {
             "colorbar": {
              "outlinewidth": 0,
              "ticks": ""
             }
            },
            "type": "parcoords"
           }
          ],
          "pie": [
           {
            "automargin": true,
            "type": "pie"
           }
          ],
          "scatter": [
           {
            "marker": {
             "colorbar": {
              "outlinewidth": 0,
              "ticks": ""
             }
            },
            "type": "scatter"
           }
          ],
          "scatter3d": [
           {
            "line": {
             "colorbar": {
              "outlinewidth": 0,
              "ticks": ""
             }
            },
            "marker": {
             "colorbar": {
              "outlinewidth": 0,
              "ticks": ""
             }
            },
            "type": "scatter3d"
           }
          ],
          "scattercarpet": [
           {
            "marker": {
             "colorbar": {
              "outlinewidth": 0,
              "ticks": ""
             }
            },
            "type": "scattercarpet"
           }
          ],
          "scattergeo": [
           {
            "marker": {
             "colorbar": {
              "outlinewidth": 0,
              "ticks": ""
             }
            },
            "type": "scattergeo"
           }
          ],
          "scattergl": [
           {
            "marker": {
             "colorbar": {
              "outlinewidth": 0,
              "ticks": ""
             }
            },
            "type": "scattergl"
           }
          ],
          "scattermapbox": [
           {
            "marker": {
             "colorbar": {
              "outlinewidth": 0,
              "ticks": ""
             }
            },
            "type": "scattermapbox"
           }
          ],
          "scatterpolar": [
           {
            "marker": {
             "colorbar": {
              "outlinewidth": 0,
              "ticks": ""
             }
            },
            "type": "scatterpolar"
           }
          ],
          "scatterpolargl": [
           {
            "marker": {
             "colorbar": {
              "outlinewidth": 0,
              "ticks": ""
             }
            },
            "type": "scatterpolargl"
           }
          ],
          "scatterternary": [
           {
            "marker": {
             "colorbar": {
              "outlinewidth": 0,
              "ticks": ""
             }
            },
            "type": "scatterternary"
           }
          ],
          "surface": [
           {
            "colorbar": {
             "outlinewidth": 0,
             "ticks": ""
            },
            "colorscale": [
             [
              0,
              "#0d0887"
             ],
             [
              0.1111111111111111,
              "#46039f"
             ],
             [
              0.2222222222222222,
              "#7201a8"
             ],
             [
              0.3333333333333333,
              "#9c179e"
             ],
             [
              0.4444444444444444,
              "#bd3786"
             ],
             [
              0.5555555555555556,
              "#d8576b"
             ],
             [
              0.6666666666666666,
              "#ed7953"
             ],
             [
              0.7777777777777778,
              "#fb9f3a"
             ],
             [
              0.8888888888888888,
              "#fdca26"
             ],
             [
              1,
              "#f0f921"
             ]
            ],
            "type": "surface"
           }
          ],
          "table": [
           {
            "cells": {
             "fill": {
              "color": "#EBF0F8"
             },
             "line": {
              "color": "white"
             }
            },
            "header": {
             "fill": {
              "color": "#C8D4E3"
             },
             "line": {
              "color": "white"
             }
            },
            "type": "table"
           }
          ]
         },
         "layout": {
          "annotationdefaults": {
           "arrowcolor": "#2a3f5f",
           "arrowhead": 0,
           "arrowwidth": 1
          },
          "autotypenumbers": "strict",
          "coloraxis": {
           "colorbar": {
            "outlinewidth": 0,
            "ticks": ""
           }
          },
          "colorscale": {
           "diverging": [
            [
             0,
             "#8e0152"
            ],
            [
             0.1,
             "#c51b7d"
            ],
            [
             0.2,
             "#de77ae"
            ],
            [
             0.3,
             "#f1b6da"
            ],
            [
             0.4,
             "#fde0ef"
            ],
            [
             0.5,
             "#f7f7f7"
            ],
            [
             0.6,
             "#e6f5d0"
            ],
            [
             0.7,
             "#b8e186"
            ],
            [
             0.8,
             "#7fbc41"
            ],
            [
             0.9,
             "#4d9221"
            ],
            [
             1,
             "#276419"
            ]
           ],
           "sequential": [
            [
             0,
             "#0d0887"
            ],
            [
             0.1111111111111111,
             "#46039f"
            ],
            [
             0.2222222222222222,
             "#7201a8"
            ],
            [
             0.3333333333333333,
             "#9c179e"
            ],
            [
             0.4444444444444444,
             "#bd3786"
            ],
            [
             0.5555555555555556,
             "#d8576b"
            ],
            [
             0.6666666666666666,
             "#ed7953"
            ],
            [
             0.7777777777777778,
             "#fb9f3a"
            ],
            [
             0.8888888888888888,
             "#fdca26"
            ],
            [
             1,
             "#f0f921"
            ]
           ],
           "sequentialminus": [
            [
             0,
             "#0d0887"
            ],
            [
             0.1111111111111111,
             "#46039f"
            ],
            [
             0.2222222222222222,
             "#7201a8"
            ],
            [
             0.3333333333333333,
             "#9c179e"
            ],
            [
             0.4444444444444444,
             "#bd3786"
            ],
            [
             0.5555555555555556,
             "#d8576b"
            ],
            [
             0.6666666666666666,
             "#ed7953"
            ],
            [
             0.7777777777777778,
             "#fb9f3a"
            ],
            [
             0.8888888888888888,
             "#fdca26"
            ],
            [
             1,
             "#f0f921"
            ]
           ]
          },
          "colorway": [
           "#636efa",
           "#EF553B",
           "#00cc96",
           "#ab63fa",
           "#FFA15A",
           "#19d3f3",
           "#FF6692",
           "#B6E880",
           "#FF97FF",
           "#FECB52"
          ],
          "font": {
           "color": "#2a3f5f"
          },
          "geo": {
           "bgcolor": "white",
           "lakecolor": "white",
           "landcolor": "#E5ECF6",
           "showlakes": true,
           "showland": true,
           "subunitcolor": "white"
          },
          "hoverlabel": {
           "align": "left"
          },
          "hovermode": "closest",
          "mapbox": {
           "style": "light"
          },
          "paper_bgcolor": "white",
          "plot_bgcolor": "#E5ECF6",
          "polar": {
           "angularaxis": {
            "gridcolor": "white",
            "linecolor": "white",
            "ticks": ""
           },
           "bgcolor": "#E5ECF6",
           "radialaxis": {
            "gridcolor": "white",
            "linecolor": "white",
            "ticks": ""
           }
          },
          "scene": {
           "xaxis": {
            "backgroundcolor": "#E5ECF6",
            "gridcolor": "white",
            "gridwidth": 2,
            "linecolor": "white",
            "showbackground": true,
            "ticks": "",
            "zerolinecolor": "white"
           },
           "yaxis": {
            "backgroundcolor": "#E5ECF6",
            "gridcolor": "white",
            "gridwidth": 2,
            "linecolor": "white",
            "showbackground": true,
            "ticks": "",
            "zerolinecolor": "white"
           },
           "zaxis": {
            "backgroundcolor": "#E5ECF6",
            "gridcolor": "white",
            "gridwidth": 2,
            "linecolor": "white",
            "showbackground": true,
            "ticks": "",
            "zerolinecolor": "white"
           }
          },
          "shapedefaults": {
           "line": {
            "color": "#2a3f5f"
           }
          },
          "ternary": {
           "aaxis": {
            "gridcolor": "white",
            "linecolor": "white",
            "ticks": ""
           },
           "baxis": {
            "gridcolor": "white",
            "linecolor": "white",
            "ticks": ""
           },
           "bgcolor": "#E5ECF6",
           "caxis": {
            "gridcolor": "white",
            "linecolor": "white",
            "ticks": ""
           }
          },
          "title": {
           "x": 0.05
          },
          "xaxis": {
           "automargin": true,
           "gridcolor": "white",
           "linecolor": "white",
           "ticks": "",
           "title": {
            "standoff": 15
           },
           "zerolinecolor": "white",
           "zerolinewidth": 2
          },
          "yaxis": {
           "automargin": true,
           "gridcolor": "white",
           "linecolor": "white",
           "ticks": "",
           "title": {
            "standoff": 15
           },
           "zerolinecolor": "white",
           "zerolinewidth": 2
          }
         }
        },
        "title": {
         "text": "Optimization History Plot"
        },
        "xaxis": {
         "title": {
          "text": "#Trials"
         }
        },
        "yaxis": {
         "title": {
          "text": "Objective Value"
         }
        }
       }
      }
     },
     "metadata": {},
     "output_type": "display_data"
    }
   ],
   "source": [
    "optuna.visualization.plot_optimization_history(study)"
   ]
  },
  {
   "cell_type": "code",
   "execution_count": 55,
   "id": "1f8e15f7",
   "metadata": {},
   "outputs": [
    {
     "data": {
      "application/vnd.plotly.v1+json": {
       "config": {
        "plotlyServerURL": "https://plot.ly"
       },
       "data": [
        {
         "cliponaxis": false,
         "hovertemplate": [
          "n_estimators (IntUniformDistribution): 0.009017826851219444<extra></extra>",
          "min_samples_leaf (IntUniformDistribution): 0.030474675467424998<extra></extra>",
          "min_samples_split (IntUniformDistribution): 0.03467346459039661<extra></extra>",
          "max_depth (IntUniformDistribution): 0.29349565189479676<extra></extra>",
          "subsample (UniformDistribution): 0.6323383811961621<extra></extra>"
         ],
         "marker": {
          "color": "rgb(66,146,198)"
         },
         "orientation": "h",
         "text": [
          "0.009017826851219444",
          "0.030474675467424998",
          "0.03467346459039661",
          "0.29349565189479676",
          "0.6323383811961621"
         ],
         "textposition": "outside",
         "texttemplate": "%{text:.2f}",
         "type": "bar",
         "x": [
          0.009017826851219444,
          0.030474675467424998,
          0.03467346459039661,
          0.29349565189479676,
          0.6323383811961621
         ],
         "y": [
          "n_estimators",
          "min_samples_leaf",
          "min_samples_split",
          "max_depth",
          "subsample"
         ]
        }
       ],
       "layout": {
        "showlegend": false,
        "template": {
         "data": {
          "bar": [
           {
            "error_x": {
             "color": "#2a3f5f"
            },
            "error_y": {
             "color": "#2a3f5f"
            },
            "marker": {
             "line": {
              "color": "#E5ECF6",
              "width": 0.5
             },
             "pattern": {
              "fillmode": "overlay",
              "size": 10,
              "solidity": 0.2
             }
            },
            "type": "bar"
           }
          ],
          "barpolar": [
           {
            "marker": {
             "line": {
              "color": "#E5ECF6",
              "width": 0.5
             },
             "pattern": {
              "fillmode": "overlay",
              "size": 10,
              "solidity": 0.2
             }
            },
            "type": "barpolar"
           }
          ],
          "carpet": [
           {
            "aaxis": {
             "endlinecolor": "#2a3f5f",
             "gridcolor": "white",
             "linecolor": "white",
             "minorgridcolor": "white",
             "startlinecolor": "#2a3f5f"
            },
            "baxis": {
             "endlinecolor": "#2a3f5f",
             "gridcolor": "white",
             "linecolor": "white",
             "minorgridcolor": "white",
             "startlinecolor": "#2a3f5f"
            },
            "type": "carpet"
           }
          ],
          "choropleth": [
           {
            "colorbar": {
             "outlinewidth": 0,
             "ticks": ""
            },
            "type": "choropleth"
           }
          ],
          "contour": [
           {
            "colorbar": {
             "outlinewidth": 0,
             "ticks": ""
            },
            "colorscale": [
             [
              0,
              "#0d0887"
             ],
             [
              0.1111111111111111,
              "#46039f"
             ],
             [
              0.2222222222222222,
              "#7201a8"
             ],
             [
              0.3333333333333333,
              "#9c179e"
             ],
             [
              0.4444444444444444,
              "#bd3786"
             ],
             [
              0.5555555555555556,
              "#d8576b"
             ],
             [
              0.6666666666666666,
              "#ed7953"
             ],
             [
              0.7777777777777778,
              "#fb9f3a"
             ],
             [
              0.8888888888888888,
              "#fdca26"
             ],
             [
              1,
              "#f0f921"
             ]
            ],
            "type": "contour"
           }
          ],
          "contourcarpet": [
           {
            "colorbar": {
             "outlinewidth": 0,
             "ticks": ""
            },
            "type": "contourcarpet"
           }
          ],
          "heatmap": [
           {
            "colorbar": {
             "outlinewidth": 0,
             "ticks": ""
            },
            "colorscale": [
             [
              0,
              "#0d0887"
             ],
             [
              0.1111111111111111,
              "#46039f"
             ],
             [
              0.2222222222222222,
              "#7201a8"
             ],
             [
              0.3333333333333333,
              "#9c179e"
             ],
             [
              0.4444444444444444,
              "#bd3786"
             ],
             [
              0.5555555555555556,
              "#d8576b"
             ],
             [
              0.6666666666666666,
              "#ed7953"
             ],
             [
              0.7777777777777778,
              "#fb9f3a"
             ],
             [
              0.8888888888888888,
              "#fdca26"
             ],
             [
              1,
              "#f0f921"
             ]
            ],
            "type": "heatmap"
           }
          ],
          "heatmapgl": [
           {
            "colorbar": {
             "outlinewidth": 0,
             "ticks": ""
            },
            "colorscale": [
             [
              0,
              "#0d0887"
             ],
             [
              0.1111111111111111,
              "#46039f"
             ],
             [
              0.2222222222222222,
              "#7201a8"
             ],
             [
              0.3333333333333333,
              "#9c179e"
             ],
             [
              0.4444444444444444,
              "#bd3786"
             ],
             [
              0.5555555555555556,
              "#d8576b"
             ],
             [
              0.6666666666666666,
              "#ed7953"
             ],
             [
              0.7777777777777778,
              "#fb9f3a"
             ],
             [
              0.8888888888888888,
              "#fdca26"
             ],
             [
              1,
              "#f0f921"
             ]
            ],
            "type": "heatmapgl"
           }
          ],
          "histogram": [
           {
            "marker": {
             "pattern": {
              "fillmode": "overlay",
              "size": 10,
              "solidity": 0.2
             }
            },
            "type": "histogram"
           }
          ],
          "histogram2d": [
           {
            "colorbar": {
             "outlinewidth": 0,
             "ticks": ""
            },
            "colorscale": [
             [
              0,
              "#0d0887"
             ],
             [
              0.1111111111111111,
              "#46039f"
             ],
             [
              0.2222222222222222,
              "#7201a8"
             ],
             [
              0.3333333333333333,
              "#9c179e"
             ],
             [
              0.4444444444444444,
              "#bd3786"
             ],
             [
              0.5555555555555556,
              "#d8576b"
             ],
             [
              0.6666666666666666,
              "#ed7953"
             ],
             [
              0.7777777777777778,
              "#fb9f3a"
             ],
             [
              0.8888888888888888,
              "#fdca26"
             ],
             [
              1,
              "#f0f921"
             ]
            ],
            "type": "histogram2d"
           }
          ],
          "histogram2dcontour": [
           {
            "colorbar": {
             "outlinewidth": 0,
             "ticks": ""
            },
            "colorscale": [
             [
              0,
              "#0d0887"
             ],
             [
              0.1111111111111111,
              "#46039f"
             ],
             [
              0.2222222222222222,
              "#7201a8"
             ],
             [
              0.3333333333333333,
              "#9c179e"
             ],
             [
              0.4444444444444444,
              "#bd3786"
             ],
             [
              0.5555555555555556,
              "#d8576b"
             ],
             [
              0.6666666666666666,
              "#ed7953"
             ],
             [
              0.7777777777777778,
              "#fb9f3a"
             ],
             [
              0.8888888888888888,
              "#fdca26"
             ],
             [
              1,
              "#f0f921"
             ]
            ],
            "type": "histogram2dcontour"
           }
          ],
          "mesh3d": [
           {
            "colorbar": {
             "outlinewidth": 0,
             "ticks": ""
            },
            "type": "mesh3d"
           }
          ],
          "parcoords": [
           {
            "line": {
             "colorbar": {
              "outlinewidth": 0,
              "ticks": ""
             }
            },
            "type": "parcoords"
           }
          ],
          "pie": [
           {
            "automargin": true,
            "type": "pie"
           }
          ],
          "scatter": [
           {
            "marker": {
             "colorbar": {
              "outlinewidth": 0,
              "ticks": ""
             }
            },
            "type": "scatter"
           }
          ],
          "scatter3d": [
           {
            "line": {
             "colorbar": {
              "outlinewidth": 0,
              "ticks": ""
             }
            },
            "marker": {
             "colorbar": {
              "outlinewidth": 0,
              "ticks": ""
             }
            },
            "type": "scatter3d"
           }
          ],
          "scattercarpet": [
           {
            "marker": {
             "colorbar": {
              "outlinewidth": 0,
              "ticks": ""
             }
            },
            "type": "scattercarpet"
           }
          ],
          "scattergeo": [
           {
            "marker": {
             "colorbar": {
              "outlinewidth": 0,
              "ticks": ""
             }
            },
            "type": "scattergeo"
           }
          ],
          "scattergl": [
           {
            "marker": {
             "colorbar": {
              "outlinewidth": 0,
              "ticks": ""
             }
            },
            "type": "scattergl"
           }
          ],
          "scattermapbox": [
           {
            "marker": {
             "colorbar": {
              "outlinewidth": 0,
              "ticks": ""
             }
            },
            "type": "scattermapbox"
           }
          ],
          "scatterpolar": [
           {
            "marker": {
             "colorbar": {
              "outlinewidth": 0,
              "ticks": ""
             }
            },
            "type": "scatterpolar"
           }
          ],
          "scatterpolargl": [
           {
            "marker": {
             "colorbar": {
              "outlinewidth": 0,
              "ticks": ""
             }
            },
            "type": "scatterpolargl"
           }
          ],
          "scatterternary": [
           {
            "marker": {
             "colorbar": {
              "outlinewidth": 0,
              "ticks": ""
             }
            },
            "type": "scatterternary"
           }
          ],
          "surface": [
           {
            "colorbar": {
             "outlinewidth": 0,
             "ticks": ""
            },
            "colorscale": [
             [
              0,
              "#0d0887"
             ],
             [
              0.1111111111111111,
              "#46039f"
             ],
             [
              0.2222222222222222,
              "#7201a8"
             ],
             [
              0.3333333333333333,
              "#9c179e"
             ],
             [
              0.4444444444444444,
              "#bd3786"
             ],
             [
              0.5555555555555556,
              "#d8576b"
             ],
             [
              0.6666666666666666,
              "#ed7953"
             ],
             [
              0.7777777777777778,
              "#fb9f3a"
             ],
             [
              0.8888888888888888,
              "#fdca26"
             ],
             [
              1,
              "#f0f921"
             ]
            ],
            "type": "surface"
           }
          ],
          "table": [
           {
            "cells": {
             "fill": {
              "color": "#EBF0F8"
             },
             "line": {
              "color": "white"
             }
            },
            "header": {
             "fill": {
              "color": "#C8D4E3"
             },
             "line": {
              "color": "white"
             }
            },
            "type": "table"
           }
          ]
         },
         "layout": {
          "annotationdefaults": {
           "arrowcolor": "#2a3f5f",
           "arrowhead": 0,
           "arrowwidth": 1
          },
          "autotypenumbers": "strict",
          "coloraxis": {
           "colorbar": {
            "outlinewidth": 0,
            "ticks": ""
           }
          },
          "colorscale": {
           "diverging": [
            [
             0,
             "#8e0152"
            ],
            [
             0.1,
             "#c51b7d"
            ],
            [
             0.2,
             "#de77ae"
            ],
            [
             0.3,
             "#f1b6da"
            ],
            [
             0.4,
             "#fde0ef"
            ],
            [
             0.5,
             "#f7f7f7"
            ],
            [
             0.6,
             "#e6f5d0"
            ],
            [
             0.7,
             "#b8e186"
            ],
            [
             0.8,
             "#7fbc41"
            ],
            [
             0.9,
             "#4d9221"
            ],
            [
             1,
             "#276419"
            ]
           ],
           "sequential": [
            [
             0,
             "#0d0887"
            ],
            [
             0.1111111111111111,
             "#46039f"
            ],
            [
             0.2222222222222222,
             "#7201a8"
            ],
            [
             0.3333333333333333,
             "#9c179e"
            ],
            [
             0.4444444444444444,
             "#bd3786"
            ],
            [
             0.5555555555555556,
             "#d8576b"
            ],
            [
             0.6666666666666666,
             "#ed7953"
            ],
            [
             0.7777777777777778,
             "#fb9f3a"
            ],
            [
             0.8888888888888888,
             "#fdca26"
            ],
            [
             1,
             "#f0f921"
            ]
           ],
           "sequentialminus": [
            [
             0,
             "#0d0887"
            ],
            [
             0.1111111111111111,
             "#46039f"
            ],
            [
             0.2222222222222222,
             "#7201a8"
            ],
            [
             0.3333333333333333,
             "#9c179e"
            ],
            [
             0.4444444444444444,
             "#bd3786"
            ],
            [
             0.5555555555555556,
             "#d8576b"
            ],
            [
             0.6666666666666666,
             "#ed7953"
            ],
            [
             0.7777777777777778,
             "#fb9f3a"
            ],
            [
             0.8888888888888888,
             "#fdca26"
            ],
            [
             1,
             "#f0f921"
            ]
           ]
          },
          "colorway": [
           "#636efa",
           "#EF553B",
           "#00cc96",
           "#ab63fa",
           "#FFA15A",
           "#19d3f3",
           "#FF6692",
           "#B6E880",
           "#FF97FF",
           "#FECB52"
          ],
          "font": {
           "color": "#2a3f5f"
          },
          "geo": {
           "bgcolor": "white",
           "lakecolor": "white",
           "landcolor": "#E5ECF6",
           "showlakes": true,
           "showland": true,
           "subunitcolor": "white"
          },
          "hoverlabel": {
           "align": "left"
          },
          "hovermode": "closest",
          "mapbox": {
           "style": "light"
          },
          "paper_bgcolor": "white",
          "plot_bgcolor": "#E5ECF6",
          "polar": {
           "angularaxis": {
            "gridcolor": "white",
            "linecolor": "white",
            "ticks": ""
           },
           "bgcolor": "#E5ECF6",
           "radialaxis": {
            "gridcolor": "white",
            "linecolor": "white",
            "ticks": ""
           }
          },
          "scene": {
           "xaxis": {
            "backgroundcolor": "#E5ECF6",
            "gridcolor": "white",
            "gridwidth": 2,
            "linecolor": "white",
            "showbackground": true,
            "ticks": "",
            "zerolinecolor": "white"
           },
           "yaxis": {
            "backgroundcolor": "#E5ECF6",
            "gridcolor": "white",
            "gridwidth": 2,
            "linecolor": "white",
            "showbackground": true,
            "ticks": "",
            "zerolinecolor": "white"
           },
           "zaxis": {
            "backgroundcolor": "#E5ECF6",
            "gridcolor": "white",
            "gridwidth": 2,
            "linecolor": "white",
            "showbackground": true,
            "ticks": "",
            "zerolinecolor": "white"
           }
          },
          "shapedefaults": {
           "line": {
            "color": "#2a3f5f"
           }
          },
          "ternary": {
           "aaxis": {
            "gridcolor": "white",
            "linecolor": "white",
            "ticks": ""
           },
           "baxis": {
            "gridcolor": "white",
            "linecolor": "white",
            "ticks": ""
           },
           "bgcolor": "#E5ECF6",
           "caxis": {
            "gridcolor": "white",
            "linecolor": "white",
            "ticks": ""
           }
          },
          "title": {
           "x": 0.05
          },
          "xaxis": {
           "automargin": true,
           "gridcolor": "white",
           "linecolor": "white",
           "ticks": "",
           "title": {
            "standoff": 15
           },
           "zerolinecolor": "white",
           "zerolinewidth": 2
          },
          "yaxis": {
           "automargin": true,
           "gridcolor": "white",
           "linecolor": "white",
           "ticks": "",
           "title": {
            "standoff": 15
           },
           "zerolinecolor": "white",
           "zerolinewidth": 2
          }
         }
        },
        "title": {
         "text": "Hyperparameter Importances"
        },
        "xaxis": {
         "title": {
          "text": "Importance for Objective Value"
         }
        },
        "yaxis": {
         "title": {
          "text": "Hyperparameter"
         }
        }
       }
      }
     },
     "metadata": {},
     "output_type": "display_data"
    }
   ],
   "source": [
    "optuna.visualization.plot_param_importances(study)"
   ]
  },
  {
   "cell_type": "code",
   "execution_count": 56,
   "id": "ded0e0f8",
   "metadata": {},
   "outputs": [
    {
     "data": {
      "application/vnd.plotly.v1+json": {
       "config": {
        "plotlyServerURL": "https://plot.ly"
       },
       "data": [
        {
         "dimensions": [
          {
           "label": "Objective Value",
           "range": [
            0.44121729680087285,
            0.6107613838167556
           ],
           "values": [
            0.5192569790369308,
            0.5759693233274259,
            0.5548712370514488,
            0.5542253135971147,
            0.550865931628315,
            0.5939391958338406,
            0.49259218976554153,
            0.5544515314599151,
            0.5996812748042412,
            0.5968535990284041,
            0.5852120464680317,
            0.5829055168086714,
            0.5712331997515075,
            0.5885918384606188,
            0.5860710318487026,
            0.44121729680087285,
            0.60261708185009,
            0.5959628630272219,
            0.5958492530826942,
            0.5786071254021335,
            0.5957421506028131,
            0.5762597932013638,
            0.5871476817423026,
            0.5659821447948249,
            0.5932045134541106,
            0.5921969981627608,
            0.5789291259928289,
            0.5853246922140409,
            0.5662779271972053,
            0.5939547919680074,
            0.5783125094728929,
            0.5972709504813438,
            0.59194710596915,
            0.5924458123608142,
            0.6011206129347413,
            0.5893747747333518,
            0.593506245840231,
            0.6015096116547716,
            0.5945614672572516,
            0.5446238073764074,
            0.604157048713611,
            0.5978639110879115,
            0.6009394319978083,
            0.592805592651769,
            0.6018085813584085,
            0.6045549639893226,
            0.5900625625304619,
            0.6019285972848512,
            0.5937222356205082,
            0.5725256781277401,
            0.5917830826310916,
            0.5888229957400268,
            0.5996181436923493,
            0.5904065444831086,
            0.5997270222083843,
            0.5963202513329746,
            0.5914901159351381,
            0.5869644567066941,
            0.593045397424379,
            0.602481934984886,
            0.5953206051183733,
            0.5359047850876044,
            0.5956622223842103,
            0.6013179813647158,
            0.5829427898474693,
            0.5900648922143579,
            0.5907104702269422,
            0.5928031949523895,
            0.6048347751087839,
            0.6071709193232042,
            0.5906000793729789,
            0.5930147960475252,
            0.5963755193190518,
            0.6013324667356325,
            0.5931890703814381,
            0.5713258153490532,
            0.597398842815372,
            0.6045060333820869,
            0.5808199706114425,
            0.5921871534613184,
            0.5966826382504568,
            0.5897820666505669,
            0.5945307322648213,
            0.6019143325501104,
            0.6027238084233725,
            0.5938295593432634,
            0.6107613838167556,
            0.6019504705426206,
            0.5954702377271281,
            0.590097189204006,
            0.5984768664360038,
            0.5972415933390647,
            0.603982127872769,
            0.5900095581627773,
            0.5996020774968045,
            0.5989924930494813,
            0.5611572447888413,
            0.5941014994075389,
            0.5741908860787176,
            0.5930745246271172
           ]
          },
          {
           "label": "max_depth",
           "range": [
            1,
            30
           ],
           "values": [
            29,
            19,
            4,
            25,
            28,
            18,
            12,
            19,
            27,
            10,
            23,
            10,
            7,
            13,
            4,
            1,
            23,
            24,
            22,
            30,
            26,
            15,
            21,
            9,
            15,
            28,
            27,
            17,
            12,
            21,
            30,
            26,
            25,
            26,
            20,
            20,
            22,
            24,
            24,
            17,
            19,
            19,
            23,
            23,
            18,
            17,
            17,
            14,
            13,
            16,
            18,
            19,
            14,
            18,
            16,
            21,
            11,
            14,
            20,
            7,
            6,
            2,
            22,
            7,
            4,
            9,
            24,
            19,
            14,
            14,
            14,
            11,
            15,
            13,
            16,
            18,
            12,
            17,
            15,
            17,
            11,
            16,
            14,
            17,
            13,
            13,
            12,
            12,
            10,
            9,
            5,
            12,
            8,
            8,
            7,
            15,
            6,
            13,
            8,
            11
           ]
          },
          {
           "label": "min_samples_leaf",
           "range": [
            1,
            10
           ],
           "values": [
            10,
            2,
            1,
            10,
            8,
            8,
            1,
            3,
            7,
            7,
            5,
            6,
            6,
            8,
            4,
            7,
            9,
            9,
            9,
            5,
            7,
            7,
            9,
            7,
            6,
            8,
            9,
            4,
            10,
            10,
            7,
            9,
            8,
            9,
            10,
            10,
            10,
            9,
            8,
            10,
            8,
            8,
            9,
            9,
            10,
            10,
            10,
            10,
            10,
            2,
            10,
            9,
            9,
            8,
            10,
            9,
            8,
            10,
            9,
            10,
            10,
            10,
            9,
            9,
            10,
            8,
            10,
            9,
            10,
            10,
            5,
            10,
            10,
            10,
            10,
            9,
            10,
            9,
            6,
            9,
            9,
            10,
            10,
            10,
            9,
            8,
            9,
            9,
            8,
            8,
            9,
            9,
            9,
            7,
            9,
            9,
            9,
            8,
            1,
            9
           ]
          },
          {
           "label": "min_samples_split",
           "range": [
            2,
            10
           ],
           "values": [
            2,
            2,
            8,
            3,
            6,
            3,
            10,
            4,
            5,
            10,
            6,
            10,
            8,
            5,
            8,
            7,
            5,
            5,
            4,
            6,
            5,
            9,
            7,
            4,
            7,
            5,
            9,
            3,
            6,
            4,
            2,
            5,
            5,
            5,
            4,
            4,
            3,
            4,
            3,
            4,
            2,
            2,
            3,
            2,
            3,
            2,
            2,
            3,
            2,
            3,
            2,
            3,
            3,
            3,
            2,
            4,
            2,
            3,
            4,
            2,
            2,
            2,
            3,
            2,
            3,
            3,
            4,
            2,
            4,
            3,
            6,
            2,
            3,
            3,
            5,
            2,
            4,
            3,
            4,
            2,
            5,
            3,
            3,
            4,
            4,
            6,
            5,
            7,
            5,
            6,
            5,
            8,
            7,
            7,
            6,
            8,
            5,
            6,
            4,
            9
           ]
          },
          {
           "label": "n_estimators",
           "range": [
            100,
            198
           ],
           "values": [
            140,
            179,
            162,
            163,
            169,
            192,
            116,
            128,
            153,
            102,
            147,
            108,
            100,
            131,
            123,
            144,
            153,
            157,
            177,
            196,
            154,
            138,
            151,
            135,
            174,
            117,
            187,
            165,
            156,
            142,
            101,
            157,
            151,
            169,
            160,
            162,
            182,
            159,
            162,
            171,
            147,
            146,
            166,
            165,
            159,
            148,
            137,
            150,
            147,
            132,
            141,
            149,
            159,
            154,
            144,
            150,
            153,
            140,
            129,
            145,
            125,
            146,
            135,
            157,
            149,
            143,
            155,
            152,
            160,
            168,
            138,
            171,
            163,
            174,
            166,
            147,
            160,
            182,
            189,
            178,
            198,
            187,
            181,
            168,
            176,
            183,
            176,
            173,
            176,
            184,
            176,
            172,
            174,
            175,
            179,
            180,
            168,
            185,
            194,
            165
           ]
          },
          {
           "label": "subsample",
           "range": [
            0.10412739092072819,
            0.49960514080671764
           ],
           "values": [
            0.10509713479767041,
            0.3596029096107455,
            0.3018781124152193,
            0.15374535554252478,
            0.17546883835098087,
            0.4808440808988329,
            0.10412739092072819,
            0.28255696157548715,
            0.40038877889326063,
            0.28555605487781066,
            0.49788333873585733,
            0.4054380950298993,
            0.25471087145052107,
            0.3926297290374935,
            0.34632786606182236,
            0.22501633348248445,
            0.43847662298583295,
            0.4504878449867104,
            0.4387376927765926,
            0.3412034151496918,
            0.4142131627023065,
            0.32112810552964005,
            0.3888249206784251,
            0.24686787976186092,
            0.4561082106526447,
            0.37136987397256394,
            0.29317035998249413,
            0.42108332887987365,
            0.20685235975143024,
            0.4636119278229569,
            0.3157334751422545,
            0.44682104266483696,
            0.4269286489931751,
            0.47529456125445085,
            0.3706102654874804,
            0.37431383616470176,
            0.3604695904494388,
            0.4934591516423933,
            0.49311191767760854,
            0.13898042680193903,
            0.47442997022138184,
            0.466995641335281,
            0.43026247314878296,
            0.482412504111128,
            0.42719828350314376,
            0.49764234647329664,
            0.48942753760661495,
            0.49960514080671764,
            0.47027013557850483,
            0.44740803531483864,
            0.47470334502198663,
            0.4992662580837333,
            0.4841079484468012,
            0.4360908291032943,
            0.497826116817375,
            0.4541392401407618,
            0.4069832034338759,
            0.46546743637178156,
            0.48335368115458194,
            0.4412353977515486,
            0.392169539590737,
            0.4396294733953837,
            0.4590752132770547,
            0.415920538252731,
            0.48146147321894806,
            0.4470793674351998,
            0.4986551176570321,
            0.46146261118753024,
            0.42111008354038254,
            0.4264260511546148,
            0.3812462355625581,
            0.40505258275320566,
            0.41574158445686554,
            0.42642427527357396,
            0.439304648092914,
            0.2656569966969364,
            0.3996289750311449,
            0.47219268669368547,
            0.4729043571085702,
            0.3455708752151759,
            0.4537383926746776,
            0.4313707626569366,
            0.4433512286410283,
            0.4200759099657162,
            0.46969564424065535,
            0.474456944371751,
            0.48563243815157614,
            0.46416752811739287,
            0.487774203405374,
            0.45419452184685394,
            0.4723559996125646,
            0.4647836005443129,
            0.4874505540365002,
            0.48463640815664505,
            0.4776744050871692,
            0.4515879322251376,
            0.19044859031457367,
            0.48826194920951954,
            0.4378955141124562,
            0.4592358025717477
           ]
          }
         ],
         "labelangle": 30,
         "labelside": "bottom",
         "line": {
          "color": [
           0.5192569790369308,
           0.5759693233274259,
           0.5548712370514488,
           0.5542253135971147,
           0.550865931628315,
           0.5939391958338406,
           0.49259218976554153,
           0.5544515314599151,
           0.5996812748042412,
           0.5968535990284041,
           0.5852120464680317,
           0.5829055168086714,
           0.5712331997515075,
           0.5885918384606188,
           0.5860710318487026,
           0.44121729680087285,
           0.60261708185009,
           0.5959628630272219,
           0.5958492530826942,
           0.5786071254021335,
           0.5957421506028131,
           0.5762597932013638,
           0.5871476817423026,
           0.5659821447948249,
           0.5932045134541106,
           0.5921969981627608,
           0.5789291259928289,
           0.5853246922140409,
           0.5662779271972053,
           0.5939547919680074,
           0.5783125094728929,
           0.5972709504813438,
           0.59194710596915,
           0.5924458123608142,
           0.6011206129347413,
           0.5893747747333518,
           0.593506245840231,
           0.6015096116547716,
           0.5945614672572516,
           0.5446238073764074,
           0.604157048713611,
           0.5978639110879115,
           0.6009394319978083,
           0.592805592651769,
           0.6018085813584085,
           0.6045549639893226,
           0.5900625625304619,
           0.6019285972848512,
           0.5937222356205082,
           0.5725256781277401,
           0.5917830826310916,
           0.5888229957400268,
           0.5996181436923493,
           0.5904065444831086,
           0.5997270222083843,
           0.5963202513329746,
           0.5914901159351381,
           0.5869644567066941,
           0.593045397424379,
           0.602481934984886,
           0.5953206051183733,
           0.5359047850876044,
           0.5956622223842103,
           0.6013179813647158,
           0.5829427898474693,
           0.5900648922143579,
           0.5907104702269422,
           0.5928031949523895,
           0.6048347751087839,
           0.6071709193232042,
           0.5906000793729789,
           0.5930147960475252,
           0.5963755193190518,
           0.6013324667356325,
           0.5931890703814381,
           0.5713258153490532,
           0.597398842815372,
           0.6045060333820869,
           0.5808199706114425,
           0.5921871534613184,
           0.5966826382504568,
           0.5897820666505669,
           0.5945307322648213,
           0.6019143325501104,
           0.6027238084233725,
           0.5938295593432634,
           0.6107613838167556,
           0.6019504705426206,
           0.5954702377271281,
           0.590097189204006,
           0.5984768664360038,
           0.5972415933390647,
           0.603982127872769,
           0.5900095581627773,
           0.5996020774968045,
           0.5989924930494813,
           0.5611572447888413,
           0.5941014994075389,
           0.5741908860787176,
           0.5930745246271172
          ],
          "colorbar": {
           "title": {
            "text": "Objective Value"
           }
          },
          "colorscale": [
           [
            0,
            "rgb(247,251,255)"
           ],
           [
            0.125,
            "rgb(222,235,247)"
           ],
           [
            0.25,
            "rgb(198,219,239)"
           ],
           [
            0.375,
            "rgb(158,202,225)"
           ],
           [
            0.5,
            "rgb(107,174,214)"
           ],
           [
            0.625,
            "rgb(66,146,198)"
           ],
           [
            0.75,
            "rgb(33,113,181)"
           ],
           [
            0.875,
            "rgb(8,81,156)"
           ],
           [
            1,
            "rgb(8,48,107)"
           ]
          ],
          "reversescale": false,
          "showscale": true
         },
         "type": "parcoords"
        }
       ],
       "layout": {
        "template": {
         "data": {
          "bar": [
           {
            "error_x": {
             "color": "#2a3f5f"
            },
            "error_y": {
             "color": "#2a3f5f"
            },
            "marker": {
             "line": {
              "color": "#E5ECF6",
              "width": 0.5
             },
             "pattern": {
              "fillmode": "overlay",
              "size": 10,
              "solidity": 0.2
             }
            },
            "type": "bar"
           }
          ],
          "barpolar": [
           {
            "marker": {
             "line": {
              "color": "#E5ECF6",
              "width": 0.5
             },
             "pattern": {
              "fillmode": "overlay",
              "size": 10,
              "solidity": 0.2
             }
            },
            "type": "barpolar"
           }
          ],
          "carpet": [
           {
            "aaxis": {
             "endlinecolor": "#2a3f5f",
             "gridcolor": "white",
             "linecolor": "white",
             "minorgridcolor": "white",
             "startlinecolor": "#2a3f5f"
            },
            "baxis": {
             "endlinecolor": "#2a3f5f",
             "gridcolor": "white",
             "linecolor": "white",
             "minorgridcolor": "white",
             "startlinecolor": "#2a3f5f"
            },
            "type": "carpet"
           }
          ],
          "choropleth": [
           {
            "colorbar": {
             "outlinewidth": 0,
             "ticks": ""
            },
            "type": "choropleth"
           }
          ],
          "contour": [
           {
            "colorbar": {
             "outlinewidth": 0,
             "ticks": ""
            },
            "colorscale": [
             [
              0,
              "#0d0887"
             ],
             [
              0.1111111111111111,
              "#46039f"
             ],
             [
              0.2222222222222222,
              "#7201a8"
             ],
             [
              0.3333333333333333,
              "#9c179e"
             ],
             [
              0.4444444444444444,
              "#bd3786"
             ],
             [
              0.5555555555555556,
              "#d8576b"
             ],
             [
              0.6666666666666666,
              "#ed7953"
             ],
             [
              0.7777777777777778,
              "#fb9f3a"
             ],
             [
              0.8888888888888888,
              "#fdca26"
             ],
             [
              1,
              "#f0f921"
             ]
            ],
            "type": "contour"
           }
          ],
          "contourcarpet": [
           {
            "colorbar": {
             "outlinewidth": 0,
             "ticks": ""
            },
            "type": "contourcarpet"
           }
          ],
          "heatmap": [
           {
            "colorbar": {
             "outlinewidth": 0,
             "ticks": ""
            },
            "colorscale": [
             [
              0,
              "#0d0887"
             ],
             [
              0.1111111111111111,
              "#46039f"
             ],
             [
              0.2222222222222222,
              "#7201a8"
             ],
             [
              0.3333333333333333,
              "#9c179e"
             ],
             [
              0.4444444444444444,
              "#bd3786"
             ],
             [
              0.5555555555555556,
              "#d8576b"
             ],
             [
              0.6666666666666666,
              "#ed7953"
             ],
             [
              0.7777777777777778,
              "#fb9f3a"
             ],
             [
              0.8888888888888888,
              "#fdca26"
             ],
             [
              1,
              "#f0f921"
             ]
            ],
            "type": "heatmap"
           }
          ],
          "heatmapgl": [
           {
            "colorbar": {
             "outlinewidth": 0,
             "ticks": ""
            },
            "colorscale": [
             [
              0,
              "#0d0887"
             ],
             [
              0.1111111111111111,
              "#46039f"
             ],
             [
              0.2222222222222222,
              "#7201a8"
             ],
             [
              0.3333333333333333,
              "#9c179e"
             ],
             [
              0.4444444444444444,
              "#bd3786"
             ],
             [
              0.5555555555555556,
              "#d8576b"
             ],
             [
              0.6666666666666666,
              "#ed7953"
             ],
             [
              0.7777777777777778,
              "#fb9f3a"
             ],
             [
              0.8888888888888888,
              "#fdca26"
             ],
             [
              1,
              "#f0f921"
             ]
            ],
            "type": "heatmapgl"
           }
          ],
          "histogram": [
           {
            "marker": {
             "pattern": {
              "fillmode": "overlay",
              "size": 10,
              "solidity": 0.2
             }
            },
            "type": "histogram"
           }
          ],
          "histogram2d": [
           {
            "colorbar": {
             "outlinewidth": 0,
             "ticks": ""
            },
            "colorscale": [
             [
              0,
              "#0d0887"
             ],
             [
              0.1111111111111111,
              "#46039f"
             ],
             [
              0.2222222222222222,
              "#7201a8"
             ],
             [
              0.3333333333333333,
              "#9c179e"
             ],
             [
              0.4444444444444444,
              "#bd3786"
             ],
             [
              0.5555555555555556,
              "#d8576b"
             ],
             [
              0.6666666666666666,
              "#ed7953"
             ],
             [
              0.7777777777777778,
              "#fb9f3a"
             ],
             [
              0.8888888888888888,
              "#fdca26"
             ],
             [
              1,
              "#f0f921"
             ]
            ],
            "type": "histogram2d"
           }
          ],
          "histogram2dcontour": [
           {
            "colorbar": {
             "outlinewidth": 0,
             "ticks": ""
            },
            "colorscale": [
             [
              0,
              "#0d0887"
             ],
             [
              0.1111111111111111,
              "#46039f"
             ],
             [
              0.2222222222222222,
              "#7201a8"
             ],
             [
              0.3333333333333333,
              "#9c179e"
             ],
             [
              0.4444444444444444,
              "#bd3786"
             ],
             [
              0.5555555555555556,
              "#d8576b"
             ],
             [
              0.6666666666666666,
              "#ed7953"
             ],
             [
              0.7777777777777778,
              "#fb9f3a"
             ],
             [
              0.8888888888888888,
              "#fdca26"
             ],
             [
              1,
              "#f0f921"
             ]
            ],
            "type": "histogram2dcontour"
           }
          ],
          "mesh3d": [
           {
            "colorbar": {
             "outlinewidth": 0,
             "ticks": ""
            },
            "type": "mesh3d"
           }
          ],
          "parcoords": [
           {
            "line": {
             "colorbar": {
              "outlinewidth": 0,
              "ticks": ""
             }
            },
            "type": "parcoords"
           }
          ],
          "pie": [
           {
            "automargin": true,
            "type": "pie"
           }
          ],
          "scatter": [
           {
            "marker": {
             "colorbar": {
              "outlinewidth": 0,
              "ticks": ""
             }
            },
            "type": "scatter"
           }
          ],
          "scatter3d": [
           {
            "line": {
             "colorbar": {
              "outlinewidth": 0,
              "ticks": ""
             }
            },
            "marker": {
             "colorbar": {
              "outlinewidth": 0,
              "ticks": ""
             }
            },
            "type": "scatter3d"
           }
          ],
          "scattercarpet": [
           {
            "marker": {
             "colorbar": {
              "outlinewidth": 0,
              "ticks": ""
             }
            },
            "type": "scattercarpet"
           }
          ],
          "scattergeo": [
           {
            "marker": {
             "colorbar": {
              "outlinewidth": 0,
              "ticks": ""
             }
            },
            "type": "scattergeo"
           }
          ],
          "scattergl": [
           {
            "marker": {
             "colorbar": {
              "outlinewidth": 0,
              "ticks": ""
             }
            },
            "type": "scattergl"
           }
          ],
          "scattermapbox": [
           {
            "marker": {
             "colorbar": {
              "outlinewidth": 0,
              "ticks": ""
             }
            },
            "type": "scattermapbox"
           }
          ],
          "scatterpolar": [
           {
            "marker": {
             "colorbar": {
              "outlinewidth": 0,
              "ticks": ""
             }
            },
            "type": "scatterpolar"
           }
          ],
          "scatterpolargl": [
           {
            "marker": {
             "colorbar": {
              "outlinewidth": 0,
              "ticks": ""
             }
            },
            "type": "scatterpolargl"
           }
          ],
          "scatterternary": [
           {
            "marker": {
             "colorbar": {
              "outlinewidth": 0,
              "ticks": ""
             }
            },
            "type": "scatterternary"
           }
          ],
          "surface": [
           {
            "colorbar": {
             "outlinewidth": 0,
             "ticks": ""
            },
            "colorscale": [
             [
              0,
              "#0d0887"
             ],
             [
              0.1111111111111111,
              "#46039f"
             ],
             [
              0.2222222222222222,
              "#7201a8"
             ],
             [
              0.3333333333333333,
              "#9c179e"
             ],
             [
              0.4444444444444444,
              "#bd3786"
             ],
             [
              0.5555555555555556,
              "#d8576b"
             ],
             [
              0.6666666666666666,
              "#ed7953"
             ],
             [
              0.7777777777777778,
              "#fb9f3a"
             ],
             [
              0.8888888888888888,
              "#fdca26"
             ],
             [
              1,
              "#f0f921"
             ]
            ],
            "type": "surface"
           }
          ],
          "table": [
           {
            "cells": {
             "fill": {
              "color": "#EBF0F8"
             },
             "line": {
              "color": "white"
             }
            },
            "header": {
             "fill": {
              "color": "#C8D4E3"
             },
             "line": {
              "color": "white"
             }
            },
            "type": "table"
           }
          ]
         },
         "layout": {
          "annotationdefaults": {
           "arrowcolor": "#2a3f5f",
           "arrowhead": 0,
           "arrowwidth": 1
          },
          "autotypenumbers": "strict",
          "coloraxis": {
           "colorbar": {
            "outlinewidth": 0,
            "ticks": ""
           }
          },
          "colorscale": {
           "diverging": [
            [
             0,
             "#8e0152"
            ],
            [
             0.1,
             "#c51b7d"
            ],
            [
             0.2,
             "#de77ae"
            ],
            [
             0.3,
             "#f1b6da"
            ],
            [
             0.4,
             "#fde0ef"
            ],
            [
             0.5,
             "#f7f7f7"
            ],
            [
             0.6,
             "#e6f5d0"
            ],
            [
             0.7,
             "#b8e186"
            ],
            [
             0.8,
             "#7fbc41"
            ],
            [
             0.9,
             "#4d9221"
            ],
            [
             1,
             "#276419"
            ]
           ],
           "sequential": [
            [
             0,
             "#0d0887"
            ],
            [
             0.1111111111111111,
             "#46039f"
            ],
            [
             0.2222222222222222,
             "#7201a8"
            ],
            [
             0.3333333333333333,
             "#9c179e"
            ],
            [
             0.4444444444444444,
             "#bd3786"
            ],
            [
             0.5555555555555556,
             "#d8576b"
            ],
            [
             0.6666666666666666,
             "#ed7953"
            ],
            [
             0.7777777777777778,
             "#fb9f3a"
            ],
            [
             0.8888888888888888,
             "#fdca26"
            ],
            [
             1,
             "#f0f921"
            ]
           ],
           "sequentialminus": [
            [
             0,
             "#0d0887"
            ],
            [
             0.1111111111111111,
             "#46039f"
            ],
            [
             0.2222222222222222,
             "#7201a8"
            ],
            [
             0.3333333333333333,
             "#9c179e"
            ],
            [
             0.4444444444444444,
             "#bd3786"
            ],
            [
             0.5555555555555556,
             "#d8576b"
            ],
            [
             0.6666666666666666,
             "#ed7953"
            ],
            [
             0.7777777777777778,
             "#fb9f3a"
            ],
            [
             0.8888888888888888,
             "#fdca26"
            ],
            [
             1,
             "#f0f921"
            ]
           ]
          },
          "colorway": [
           "#636efa",
           "#EF553B",
           "#00cc96",
           "#ab63fa",
           "#FFA15A",
           "#19d3f3",
           "#FF6692",
           "#B6E880",
           "#FF97FF",
           "#FECB52"
          ],
          "font": {
           "color": "#2a3f5f"
          },
          "geo": {
           "bgcolor": "white",
           "lakecolor": "white",
           "landcolor": "#E5ECF6",
           "showlakes": true,
           "showland": true,
           "subunitcolor": "white"
          },
          "hoverlabel": {
           "align": "left"
          },
          "hovermode": "closest",
          "mapbox": {
           "style": "light"
          },
          "paper_bgcolor": "white",
          "plot_bgcolor": "#E5ECF6",
          "polar": {
           "angularaxis": {
            "gridcolor": "white",
            "linecolor": "white",
            "ticks": ""
           },
           "bgcolor": "#E5ECF6",
           "radialaxis": {
            "gridcolor": "white",
            "linecolor": "white",
            "ticks": ""
           }
          },
          "scene": {
           "xaxis": {
            "backgroundcolor": "#E5ECF6",
            "gridcolor": "white",
            "gridwidth": 2,
            "linecolor": "white",
            "showbackground": true,
            "ticks": "",
            "zerolinecolor": "white"
           },
           "yaxis": {
            "backgroundcolor": "#E5ECF6",
            "gridcolor": "white",
            "gridwidth": 2,
            "linecolor": "white",
            "showbackground": true,
            "ticks": "",
            "zerolinecolor": "white"
           },
           "zaxis": {
            "backgroundcolor": "#E5ECF6",
            "gridcolor": "white",
            "gridwidth": 2,
            "linecolor": "white",
            "showbackground": true,
            "ticks": "",
            "zerolinecolor": "white"
           }
          },
          "shapedefaults": {
           "line": {
            "color": "#2a3f5f"
           }
          },
          "ternary": {
           "aaxis": {
            "gridcolor": "white",
            "linecolor": "white",
            "ticks": ""
           },
           "baxis": {
            "gridcolor": "white",
            "linecolor": "white",
            "ticks": ""
           },
           "bgcolor": "#E5ECF6",
           "caxis": {
            "gridcolor": "white",
            "linecolor": "white",
            "ticks": ""
           }
          },
          "title": {
           "x": 0.05
          },
          "xaxis": {
           "automargin": true,
           "gridcolor": "white",
           "linecolor": "white",
           "ticks": "",
           "title": {
            "standoff": 15
           },
           "zerolinecolor": "white",
           "zerolinewidth": 2
          },
          "yaxis": {
           "automargin": true,
           "gridcolor": "white",
           "linecolor": "white",
           "ticks": "",
           "title": {
            "standoff": 15
           },
           "zerolinecolor": "white",
           "zerolinewidth": 2
          }
         }
        },
        "title": {
         "text": "Parallel Coordinate Plot"
        }
       }
      }
     },
     "metadata": {},
     "output_type": "display_data"
    }
   ],
   "source": [
    "optuna.visualization.plot_parallel_coordinate(study)"
   ]
  },
  {
   "cell_type": "code",
   "execution_count": 57,
   "id": "75db1ddf",
   "metadata": {},
   "outputs": [
    {
     "name": "stdout",
     "output_type": "stream",
     "text": [
      "Best trial: {'n_estimators': 176, 'max_depth': 12, 'min_samples_leaf': 9, 'min_samples_split': 5, 'subsample': 0.48563243815157614}\n"
     ]
    }
   ],
   "source": [
    "print(\"Best trial:\", study.best_trial.params)"
   ]
  },
  {
   "cell_type": "code",
   "execution_count": 58,
   "id": "574699dc",
   "metadata": {},
   "outputs": [
    {
     "data": {
      "text/plain": [
       "176"
      ]
     },
     "execution_count": 58,
     "metadata": {},
     "output_type": "execute_result"
    }
   ],
   "source": [
    "study.best_trial.params[\"n_estimators\"]"
   ]
  },
  {
   "cell_type": "code",
   "execution_count": 59,
   "id": "862eadd2",
   "metadata": {},
   "outputs": [
    {
     "data": {
      "text/html": [
       "<style>#sk-container-id-1 {color: black;background-color: white;}#sk-container-id-1 pre{padding: 0;}#sk-container-id-1 div.sk-toggleable {background-color: white;}#sk-container-id-1 label.sk-toggleable__label {cursor: pointer;display: block;width: 100%;margin-bottom: 0;padding: 0.3em;box-sizing: border-box;text-align: center;}#sk-container-id-1 label.sk-toggleable__label-arrow:before {content: \"▸\";float: left;margin-right: 0.25em;color: #696969;}#sk-container-id-1 label.sk-toggleable__label-arrow:hover:before {color: black;}#sk-container-id-1 div.sk-estimator:hover label.sk-toggleable__label-arrow:before {color: black;}#sk-container-id-1 div.sk-toggleable__content {max-height: 0;max-width: 0;overflow: hidden;text-align: left;background-color: #f0f8ff;}#sk-container-id-1 div.sk-toggleable__content pre {margin: 0.2em;color: black;border-radius: 0.25em;background-color: #f0f8ff;}#sk-container-id-1 input.sk-toggleable__control:checked~div.sk-toggleable__content {max-height: 200px;max-width: 100%;overflow: auto;}#sk-container-id-1 input.sk-toggleable__control:checked~label.sk-toggleable__label-arrow:before {content: \"▾\";}#sk-container-id-1 div.sk-estimator input.sk-toggleable__control:checked~label.sk-toggleable__label {background-color: #d4ebff;}#sk-container-id-1 div.sk-label input.sk-toggleable__control:checked~label.sk-toggleable__label {background-color: #d4ebff;}#sk-container-id-1 input.sk-hidden--visually {border: 0;clip: rect(1px 1px 1px 1px);clip: rect(1px, 1px, 1px, 1px);height: 1px;margin: -1px;overflow: hidden;padding: 0;position: absolute;width: 1px;}#sk-container-id-1 div.sk-estimator {font-family: monospace;background-color: #f0f8ff;border: 1px dotted black;border-radius: 0.25em;box-sizing: border-box;margin-bottom: 0.5em;}#sk-container-id-1 div.sk-estimator:hover {background-color: #d4ebff;}#sk-container-id-1 div.sk-parallel-item::after {content: \"\";width: 100%;border-bottom: 1px solid gray;flex-grow: 1;}#sk-container-id-1 div.sk-label:hover label.sk-toggleable__label {background-color: #d4ebff;}#sk-container-id-1 div.sk-serial::before {content: \"\";position: absolute;border-left: 1px solid gray;box-sizing: border-box;top: 0;bottom: 0;left: 50%;z-index: 0;}#sk-container-id-1 div.sk-serial {display: flex;flex-direction: column;align-items: center;background-color: white;padding-right: 0.2em;padding-left: 0.2em;position: relative;}#sk-container-id-1 div.sk-item {position: relative;z-index: 1;}#sk-container-id-1 div.sk-parallel {display: flex;align-items: stretch;justify-content: center;background-color: white;position: relative;}#sk-container-id-1 div.sk-item::before, #sk-container-id-1 div.sk-parallel-item::before {content: \"\";position: absolute;border-left: 1px solid gray;box-sizing: border-box;top: 0;bottom: 0;left: 50%;z-index: -1;}#sk-container-id-1 div.sk-parallel-item {display: flex;flex-direction: column;z-index: 1;position: relative;background-color: white;}#sk-container-id-1 div.sk-parallel-item:first-child::after {align-self: flex-end;width: 50%;}#sk-container-id-1 div.sk-parallel-item:last-child::after {align-self: flex-start;width: 50%;}#sk-container-id-1 div.sk-parallel-item:only-child::after {width: 0;}#sk-container-id-1 div.sk-dashed-wrapped {border: 1px dashed gray;margin: 0 0.4em 0.5em 0.4em;box-sizing: border-box;padding-bottom: 0.4em;background-color: white;}#sk-container-id-1 div.sk-label label {font-family: monospace;font-weight: bold;display: inline-block;line-height: 1.2em;}#sk-container-id-1 div.sk-label-container {text-align: center;}#sk-container-id-1 div.sk-container {/* jupyter's `normalize.less` sets `[hidden] { display: none; }` but bootstrap.min.css set `[hidden] { display: none !important; }` so we also need the `!important` here to be able to override the default hidden behavior on the sphinx rendered scikit-learn.org. See: https://github.com/scikit-learn/scikit-learn/issues/21755 */display: inline-block !important;position: relative;}#sk-container-id-1 div.sk-text-repr-fallback {display: none;}</style><div id=\"sk-container-id-1\" class=\"sk-top-container\"><div class=\"sk-text-repr-fallback\"><pre>GradientBoostingRegressor(max_depth=12, min_samples_leaf=9, min_samples_split=5,\n",
       "                          n_estimators=176, random_state=42,\n",
       "                          subsample=0.48563243815157614)</pre><b>In a Jupyter environment, please rerun this cell to show the HTML representation or trust the notebook. <br />On GitHub, the HTML representation is unable to render, please try loading this page with nbviewer.org.</b></div><div class=\"sk-container\" hidden><div class=\"sk-item\"><div class=\"sk-estimator sk-toggleable\"><input class=\"sk-toggleable__control sk-hidden--visually\" id=\"sk-estimator-id-1\" type=\"checkbox\" checked><label for=\"sk-estimator-id-1\" class=\"sk-toggleable__label sk-toggleable__label-arrow\">GradientBoostingRegressor</label><div class=\"sk-toggleable__content\"><pre>GradientBoostingRegressor(max_depth=12, min_samples_leaf=9, min_samples_split=5,\n",
       "                          n_estimators=176, random_state=42,\n",
       "                          subsample=0.48563243815157614)</pre></div></div></div></div></div>"
      ],
      "text/plain": [
       "GradientBoostingRegressor(max_depth=12, min_samples_leaf=9, min_samples_split=5,\n",
       "                          n_estimators=176, random_state=42,\n",
       "                          subsample=0.48563243815157614)"
      ]
     },
     "execution_count": 59,
     "metadata": {},
     "output_type": "execute_result"
    }
   ],
   "source": [
    "gb_params = {\n",
    "    \"random_state\": 42,\n",
    "    \"learning_rate\": 0.1,\n",
    "    \"n_estimators\": study.best_trial.params[\"n_estimators\"],\n",
    "    \"max_depth\": study.best_trial.params[\"max_depth\"],\n",
    "    \"min_samples_leaf\": study.best_trial.params[\"min_samples_leaf\"],\n",
    "    \"min_samples_split\": study.best_trial.params[\"min_samples_split\"],\n",
    "    \"subsample\": study.best_trial.params[\"subsample\"]\n",
    "}\n",
    "\n",
    "gb = GradientBoostingRegressor(**gb_params)\n",
    "gb.fit(As_X_train, As_y_train)"
   ]
  },
  {
   "cell_type": "code",
   "execution_count": 60,
   "id": "2be83ec7",
   "metadata": {},
   "outputs": [],
   "source": [
    "# gb_params = {\n",
    "#     \"random_state\": 42,\n",
    "#     \"learning_rate\": 0.1,\n",
    "#     \"n_estimators\": 100,\n",
    "#     \"max_depth\": 2,\n",
    "#     \"min_samples_leaf\": 8,\n",
    "#     \"min_samples_split\": 2,\n",
    "#     \"subsample\": 0.35775273871202684\n",
    "# }\n",
    "\n",
    "# gb = GradientBoostingRegressor(**gb_params)\n",
    "# gb.fit(As_X_train, As_y_train)"
   ]
  },
  {
   "cell_type": "code",
   "execution_count": 61,
   "id": "8577fb37",
   "metadata": {},
   "outputs": [],
   "source": [
    "y_train_pred = gb.predict(As_X_train)\n",
    "y_test_pred = gb.predict(As_X_test)"
   ]
  },
  {
   "cell_type": "code",
   "execution_count": 62,
   "id": "2ea0526a",
   "metadata": {},
   "outputs": [
    {
     "data": {
      "text/plain": [
       "<matplotlib.collections.PathCollection at 0x2bd5d2fd1c0>"
      ]
     },
     "execution_count": 62,
     "metadata": {},
     "output_type": "execute_result"
    },
    {
     "data": {
      "image/png": "[encoded data removed]",
      "text/plain": [
       "<Figure size 432x288 with 1 Axes>"
      ]
     },
     "metadata": {
      "needs_background": "light"
     },
     "output_type": "display_data"
    }
   ],
   "source": [
    "plt.scatter(y_train_pred, np.array(As_y_train))"
   ]
  },
  {
   "cell_type": "code",
   "execution_count": 63,
   "id": "d2a4dd85",
   "metadata": {},
   "outputs": [
    {
     "name": "stdout",
     "output_type": "stream",
     "text": [
      "Train RMSE:  0.11415510397645624\n",
      "Test RMSE:  0.40807167325000665\n"
     ]
    }
   ],
   "source": [
    "print(\"Train RMSE: \", np.sqrt(mean_squared_error(As_y_train, y_train_pred)))\n",
    "print(\"Test RMSE: \", np.sqrt(mean_squared_error(As_y_test, y_test_pred)))"
   ]
  },
  {
   "cell_type": "code",
   "execution_count": 64,
   "id": "08fe787a",
   "metadata": {},
   "outputs": [
    {
     "name": "stdout",
     "output_type": "stream",
     "text": [
      "Train R2:  0.9770365635394304\n",
      "Test R2:  0.7219653014933873\n"
     ]
    }
   ],
   "source": [
    "print(\"Train R2: \", r2_score(As_y_train, y_train_pred))\n",
    "print(\"Test R2: \", r2_score(As_y_test, y_test_pred))"
   ]
  },
  {
   "cell_type": "code",
   "execution_count": 65,
   "id": "5ec4820c",
   "metadata": {},
   "outputs": [
    {
     "data": {
      "image/png": "[encoded data removed]",
      "text/plain": [
       "<Figure size 432x288 with 1 Axes>"
      ]
     },
     "metadata": {
      "needs_background": "light"
     },
     "output_type": "display_data"
    }
   ],
   "source": [
    "import matplotlib.pyplot as plt\n",
    "\n",
    "plt.scatter(y_train_pred, np.array(As_y_train), color=\"orange\", alpha=0.3)\n",
    "plt.scatter(y_test_pred, np.array(As_y_test), color=\"green\", alpha=0.4)\n",
    "plt.axis(\"auto\") # scaled, tight, auto, image, square\n",
    "# plt.xlim([0, 1.5]) \n",
    "# plt.ylim(0, None) \n",
    "plt.xlabel('Predicted Values')\n",
    "plt.ylabel('Actual Values')\n",
    "\n",
    "# Add trendline\n",
    "# z = np.polyfit(y_train_pred, As_y_train, 1)\n",
    "# p = np.poly1d(z)\n",
    "# plt.plot(y_train_pred, p(y_train_pred), color='red', linestyle='-')\n",
    "\n",
    "# Add y=x line\n",
    "plt.plot([0, 1.75], [0, 1.75], color='red', linestyle='-')\n",
    "\n",
    "plt.show()"
   ]
  },
  {
   "cell_type": "code",
   "execution_count": 66,
   "id": "a08d5dc7",
   "metadata": {},
   "outputs": [],
   "source": [
    "# import shap\n",
    "\n",
    "# #background = shap.sample(As_X_train, 100)  # Adjust the number of samples as needed\n",
    "\n",
    "# explainer = shap.KernelExplainer(gb.predict, As_X_train)\n",
    "# shap_values = explainer.shap_values(As_X_train)\n",
    "\n",
    "# shap.summary_plot(shap_values, As_X_train)\n",
    "\n",
    "# shap.force_plot(explainer.expected_value, shap_values[0], As_X_train[0])\n",
    "\n",
    "# print(shap_values)"
   ]
  },
  {
   "attachments": {},
   "cell_type": "markdown",
   "id": "e0507d63",
   "metadata": {},
   "source": [
    "Cd"
   ]
  },
  {
   "attachments": {},
   "cell_type": "markdown",
   "id": "f8f809d9",
   "metadata": {},
   "source": [
    "Optimization"
   ]
  },
  {
   "cell_type": "code",
   "execution_count": 67,
   "id": "b7aeaf0a",
   "metadata": {},
   "outputs": [
    {
     "name": "stderr",
     "output_type": "stream",
     "text": [
      "\u001b[32m[I 2023-08-17 21:39:13,694]\u001b[0m A new study created in memory with name: gb_parameter_opt\u001b[0m\n",
      "\u001b[32m[I 2023-08-17 21:39:14,234]\u001b[0m Trial 0 finished with value: 0.6540542574790396 and parameters: {'n_estimators': 104, 'max_depth': 26, 'min_samples_leaf': 3, 'min_samples_split': 5, 'subsample': 0.15642091597960017}. Best is trial 0 with value: 0.6540542574790396.\u001b[0m\n",
      "\u001b[32m[I 2023-08-17 21:39:15,067]\u001b[0m Trial 1 finished with value: 0.6691295090039818 and parameters: {'n_estimators': 141, 'max_depth': 18, 'min_samples_leaf': 4, 'min_samples_split': 5, 'subsample': 0.1975038841753614}. Best is trial 1 with value: 0.6691295090039818.\u001b[0m\n",
      "\u001b[32m[I 2023-08-17 21:39:16,801]\u001b[0m Trial 2 finished with value: 0.6900378285756766 and parameters: {'n_estimators': 196, 'max_depth': 28, 'min_samples_leaf': 5, 'min_samples_split': 9, 'subsample': 0.2989016204321012}. Best is trial 2 with value: 0.6900378285756766.\u001b[0m\n",
      "\u001b[32m[I 2023-08-17 21:39:17,619]\u001b[0m Trial 3 finished with value: 0.6804895444636205 and parameters: {'n_estimators': 169, 'max_depth': 4, 'min_samples_leaf': 1, 'min_samples_split': 6, 'subsample': 0.3068163455425478}. Best is trial 2 with value: 0.6900378285756766.\u001b[0m\n",
      "\u001b[32m[I 2023-08-17 21:39:17,978]\u001b[0m Trial 4 finished with value: 0.6351726930590748 and parameters: {'n_estimators': 117, 'max_depth': 29, 'min_samples_leaf': 9, 'min_samples_split': 6, 'subsample': 0.12808752155663528}. Best is trial 2 with value: 0.6900378285756766.\u001b[0m\n",
      "\u001b[32m[I 2023-08-17 21:39:19,404]\u001b[0m Trial 5 finished with value: 0.6954856362584187 and parameters: {'n_estimators': 114, 'max_depth': 12, 'min_samples_leaf': 7, 'min_samples_split': 2, 'subsample': 0.4730709526031217}. Best is trial 5 with value: 0.6954856362584187.\u001b[0m\n",
      "\u001b[32m[I 2023-08-17 21:39:20,463]\u001b[0m Trial 6 finished with value: 0.6746494801203202 and parameters: {'n_estimators': 175, 'max_depth': 14, 'min_samples_leaf': 9, 'min_samples_split': 10, 'subsample': 0.25588791155183843}. Best is trial 5 with value: 0.6954856362584187.\u001b[0m\n",
      "\u001b[32m[I 2023-08-17 21:39:21,770]\u001b[0m Trial 7 finished with value: 0.6770309845033574 and parameters: {'n_estimators': 184, 'max_depth': 28, 'min_samples_leaf': 7, 'min_samples_split': 3, 'subsample': 0.2692199230271786}. Best is trial 5 with value: 0.6954856362584187.\u001b[0m\n",
      "\u001b[32m[I 2023-08-17 21:39:22,200]\u001b[0m Trial 8 finished with value: 0.6181086968225428 and parameters: {'n_estimators': 138, 'max_depth': 11, 'min_samples_leaf': 7, 'min_samples_split': 4, 'subsample': 0.12052702438260243}. Best is trial 5 with value: 0.6954856362584187.\u001b[0m\n",
      "\u001b[32m[I 2023-08-17 21:39:23,099]\u001b[0m Trial 9 finished with value: 0.6809786261876037 and parameters: {'n_estimators': 150, 'max_depth': 27, 'min_samples_leaf': 10, 'min_samples_split': 5, 'subsample': 0.26085780940485115}. Best is trial 5 with value: 0.6954856362584187.\u001b[0m\n",
      "\u001b[32m[I 2023-08-17 21:39:23,770]\u001b[0m Trial 10 finished with value: 0.6765116958393979 and parameters: {'n_estimators': 100, 'max_depth': 4, 'min_samples_leaf': 7, 'min_samples_split': 2, 'subsample': 0.4605381119058353}. Best is trial 5 with value: 0.6954856362584187.\u001b[0m\n",
      "\u001b[32m[I 2023-08-17 21:39:26,308]\u001b[0m Trial 11 finished with value: 0.6849927480577982 and parameters: {'n_estimators': 197, 'max_depth': 20, 'min_samples_leaf': 5, 'min_samples_split': 9, 'subsample': 0.4026767595037879}. Best is trial 5 with value: 0.6954856362584187.\u001b[0m\n",
      "\u001b[32m[I 2023-08-17 21:39:27,491]\u001b[0m Trial 12 finished with value: 0.6828848821757683 and parameters: {'n_estimators': 129, 'max_depth': 10, 'min_samples_leaf': 6, 'min_samples_split': 8, 'subsample': 0.36034918797086124}. Best is trial 5 with value: 0.6954856362584187.\u001b[0m\n",
      "\u001b[32m[I 2023-08-17 21:39:30,490]\u001b[0m Trial 13 finished with value: 0.6925465695635351 and parameters: {'n_estimators': 161, 'max_depth': 22, 'min_samples_leaf': 3, 'min_samples_split': 8, 'subsample': 0.49862332049377284}. Best is trial 5 with value: 0.6954856362584187.\u001b[0m\n",
      "\u001b[32m[I 2023-08-17 21:39:33,481]\u001b[0m Trial 14 finished with value: 0.6820529034736965 and parameters: {'n_estimators': 161, 'max_depth': 19, 'min_samples_leaf': 2, 'min_samples_split': 7, 'subsample': 0.4822555659500716}. Best is trial 5 with value: 0.6954856362584187.\u001b[0m\n",
      "\u001b[32m[I 2023-08-17 21:39:35,365]\u001b[0m Trial 15 finished with value: 0.6915727513251294 and parameters: {'n_estimators': 121, 'max_depth': 23, 'min_samples_leaf': 3, 'min_samples_split': 7, 'subsample': 0.4294830371188183}. Best is trial 5 with value: 0.6954856362584187.\u001b[0m\n",
      "\u001b[32m[I 2023-08-17 21:39:37,428]\u001b[0m Trial 16 finished with value: 0.6890006983133896 and parameters: {'n_estimators': 156, 'max_depth': 9, 'min_samples_leaf': 1, 'min_samples_split': 2, 'subsample': 0.49920715566067125}. Best is trial 5 with value: 0.6954856362584187.\u001b[0m\n",
      "\u001b[32m[I 2023-08-17 21:39:39,109]\u001b[0m Trial 17 finished with value: 0.684837226902224 and parameters: {'n_estimators': 146, 'max_depth': 15, 'min_samples_leaf': 4, 'min_samples_split': 10, 'subsample': 0.37441521192592275}. Best is trial 5 with value: 0.6954856362584187.\u001b[0m\n",
      "\u001b[32m[I 2023-08-17 21:39:40,598]\u001b[0m Trial 18 finished with value: 0.7007256436863665 and parameters: {'n_estimators': 128, 'max_depth': 23, 'min_samples_leaf': 8, 'min_samples_split': 8, 'subsample': 0.4237480068797635}. Best is trial 18 with value: 0.7007256436863665.\u001b[0m\n",
      "\u001b[32m[I 2023-08-17 21:39:40,932]\u001b[0m Trial 19 finished with value: 0.5221266316689674 and parameters: {'n_estimators': 114, 'max_depth': 1, 'min_samples_leaf': 8, 'min_samples_split': 3, 'subsample': 0.435409842116858}. Best is trial 18 with value: 0.7007256436863665.\u001b[0m\n",
      "\u001b[32m[I 2023-08-17 21:39:41,995]\u001b[0m Trial 20 finished with value: 0.6910693142258206 and parameters: {'n_estimators': 129, 'max_depth': 24, 'min_samples_leaf': 10, 'min_samples_split': 7, 'subsample': 0.34418369136666493}. Best is trial 18 with value: 0.7007256436863665.\u001b[0m\n",
      "\u001b[32m[I 2023-08-17 21:39:43,802]\u001b[0m Trial 21 finished with value: 0.6912999910433182 and parameters: {'n_estimators': 131, 'max_depth': 22, 'min_samples_leaf': 6, 'min_samples_split': 8, 'subsample': 0.453660612688219}. Best is trial 18 with value: 0.7007256436863665.\u001b[0m\n",
      "\u001b[32m[I 2023-08-17 21:39:45,006]\u001b[0m Trial 22 finished with value: 0.6948204502740181 and parameters: {'n_estimators': 113, 'max_depth': 13, 'min_samples_leaf': 8, 'min_samples_split': 8, 'subsample': 0.41290623758109896}. Best is trial 18 with value: 0.7007256436863665.\u001b[0m\n",
      "\u001b[32m[I 2023-08-17 21:39:46,157]\u001b[0m Trial 23 finished with value: 0.6910593795331412 and parameters: {'n_estimators': 109, 'max_depth': 13, 'min_samples_leaf': 8, 'min_samples_split': 9, 'subsample': 0.4015643937993197}. Best is trial 18 with value: 0.7007256436863665.\u001b[0m\n",
      "\u001b[32m[I 2023-08-17 21:39:47,446]\u001b[0m Trial 24 finished with value: 0.6939080112675907 and parameters: {'n_estimators': 121, 'max_depth': 17, 'min_samples_leaf': 8, 'min_samples_split': 7, 'subsample': 0.4011158556229414}. Best is trial 18 with value: 0.7007256436863665.\u001b[0m\n",
      "\u001b[32m[I 2023-08-17 21:39:48,526]\u001b[0m Trial 25 finished with value: 0.6913730058627624 and parameters: {'n_estimators': 115, 'max_depth': 8, 'min_samples_leaf': 9, 'min_samples_split': 8, 'subsample': 0.4300823547244724}. Best is trial 18 with value: 0.7007256436863665.\u001b[0m\n",
      "\u001b[32m[I 2023-08-17 21:39:49,218]\u001b[0m Trial 26 finished with value: 0.6886874491294142 and parameters: {'n_estimators': 106, 'max_depth': 6, 'min_samples_leaf': 7, 'min_samples_split': 4, 'subsample': 0.33117867671794005}. Best is trial 18 with value: 0.7007256436863665.\u001b[0m\n",
      "\u001b[32m[I 2023-08-17 21:39:50,682]\u001b[0m Trial 27 finished with value: 0.6917883358711198 and parameters: {'n_estimators': 124, 'max_depth': 12, 'min_samples_leaf': 8, 'min_samples_split': 9, 'subsample': 0.4580115762975078}. Best is trial 18 with value: 0.7007256436863665.\u001b[0m\n",
      "\u001b[32m[I 2023-08-17 21:39:52,118]\u001b[0m Trial 28 finished with value: 0.6894626750912314 and parameters: {'n_estimators': 132, 'max_depth': 16, 'min_samples_leaf': 6, 'min_samples_split': 6, 'subsample': 0.3795103840623249}. Best is trial 18 with value: 0.7007256436863665.\u001b[0m\n",
      "\u001b[32m[I 2023-08-17 21:39:52,684]\u001b[0m Trial 29 finished with value: 0.661628743635936 and parameters: {'n_estimators': 109, 'max_depth': 25, 'min_samples_leaf': 9, 'min_samples_split': 4, 'subsample': 0.21689892137747938}. Best is trial 18 with value: 0.7007256436863665.\u001b[0m\n",
      "\u001b[32m[I 2023-08-17 21:39:54,414]\u001b[0m Trial 30 finished with value: 0.6911052072600423 and parameters: {'n_estimators': 139, 'max_depth': 21, 'min_samples_leaf': 10, 'min_samples_split': 6, 'subsample': 0.4736299082149288}. Best is trial 18 with value: 0.7007256436863665.\u001b[0m\n",
      "\u001b[32m[I 2023-08-17 21:39:55,737]\u001b[0m Trial 31 finished with value: 0.6932604903507334 and parameters: {'n_estimators': 122, 'max_depth': 16, 'min_samples_leaf': 8, 'min_samples_split': 7, 'subsample': 0.40513740773549933}. Best is trial 18 with value: 0.7007256436863665.\u001b[0m\n",
      "\u001b[32m[I 2023-08-17 21:39:56,907]\u001b[0m Trial 32 finished with value: 0.7026443690662106 and parameters: {'n_estimators': 102, 'max_depth': 18, 'min_samples_leaf': 8, 'min_samples_split': 8, 'subsample': 0.42759718922888357}. Best is trial 32 with value: 0.7026443690662106.\u001b[0m\n",
      "\u001b[32m[I 2023-08-17 21:39:58,123]\u001b[0m Trial 33 finished with value: 0.694606579075224 and parameters: {'n_estimators': 100, 'max_depth': 18, 'min_samples_leaf': 7, 'min_samples_split': 8, 'subsample': 0.4312955343690856}. Best is trial 32 with value: 0.7026443690662106.\u001b[0m\n",
      "\u001b[32m[I 2023-08-17 21:39:59,173]\u001b[0m Trial 34 finished with value: 0.6906350347172983 and parameters: {'n_estimators': 111, 'max_depth': 13, 'min_samples_leaf': 9, 'min_samples_split': 5, 'subsample': 0.3805346804567441}. Best is trial 32 with value: 0.7026443690662106.\u001b[0m\n",
      "\u001b[32m[I 2023-08-17 21:40:00,148]\u001b[0m Trial 35 finished with value: 0.6839551028583545 and parameters: {'n_estimators': 105, 'max_depth': 19, 'min_samples_leaf': 5, 'min_samples_split': 9, 'subsample': 0.31366366892939485}. Best is trial 32 with value: 0.7026443690662106.\u001b[0m\n",
      "\u001b[32m[I 2023-08-17 21:40:01,571]\u001b[0m Trial 36 finished with value: 0.6897968692001475 and parameters: {'n_estimators': 116, 'max_depth': 30, 'min_samples_leaf': 8, 'min_samples_split': 10, 'subsample': 0.44703644816474225}. Best is trial 32 with value: 0.7026443690662106.\u001b[0m\n",
      "\u001b[32m[I 2023-08-17 21:40:02,780]\u001b[0m Trial 37 finished with value: 0.697718032820674 and parameters: {'n_estimators': 104, 'max_depth': 14, 'min_samples_leaf': 6, 'min_samples_split': 8, 'subsample': 0.4127819953812133}. Best is trial 32 with value: 0.7026443690662106.\u001b[0m\n",
      "\u001b[32m[I 2023-08-17 21:40:04,197]\u001b[0m Trial 38 finished with value: 0.698431414565249 and parameters: {'n_estimators': 102, 'max_depth': 15, 'min_samples_leaf': 6, 'min_samples_split': 10, 'subsample': 0.47239316504682083}. Best is trial 32 with value: 0.7026443690662106.\u001b[0m\n",
      "\u001b[32m[I 2023-08-17 21:40:04,695]\u001b[0m Trial 39 finished with value: 0.6685225557026886 and parameters: {'n_estimators': 103, 'max_depth': 15, 'min_samples_leaf': 6, 'min_samples_split': 10, 'subsample': 0.180112904709257}. Best is trial 32 with value: 0.7026443690662106.\u001b[0m\n",
      "\u001b[32m[I 2023-08-17 21:40:05,913]\u001b[0m Trial 40 finished with value: 0.6813563718626712 and parameters: {'n_estimators': 106, 'max_depth': 26, 'min_samples_leaf': 4, 'min_samples_split': 9, 'subsample': 0.3590361888976887}. Best is trial 32 with value: 0.7026443690662106.\u001b[0m\n",
      "\u001b[32m[I 2023-08-17 21:40:07,182]\u001b[0m Trial 41 finished with value: 0.6951307406068983 and parameters: {'n_estimators': 102, 'max_depth': 11, 'min_samples_leaf': 7, 'min_samples_split': 6, 'subsample': 0.4787091823480179}. Best is trial 32 with value: 0.7026443690662106.\u001b[0m\n",
      "\u001b[32m[I 2023-08-17 21:40:08,704]\u001b[0m Trial 42 finished with value: 0.6932261926078883 and parameters: {'n_estimators': 110, 'max_depth': 17, 'min_samples_leaf': 6, 'min_samples_split': 10, 'subsample': 0.4689642214055968}. Best is trial 32 with value: 0.7026443690662106.\u001b[0m\n",
      "\u001b[32m[I 2023-08-17 21:40:10,295]\u001b[0m Trial 43 finished with value: 0.6996874765205752 and parameters: {'n_estimators': 119, 'max_depth': 14, 'min_samples_leaf': 5, 'min_samples_split': 9, 'subsample': 0.4463014880860239}. Best is trial 32 with value: 0.7026443690662106.\u001b[0m\n",
      "\u001b[32m[I 2023-08-17 21:40:11,964]\u001b[0m Trial 44 finished with value: 0.6994971944171329 and parameters: {'n_estimators': 119, 'max_depth': 20, 'min_samples_leaf': 5, 'min_samples_split': 9, 'subsample': 0.4444038651244667}. Best is trial 32 with value: 0.7026443690662106.\u001b[0m\n",
      "\u001b[32m[I 2023-08-17 21:40:13,766]\u001b[0m Trial 45 finished with value: 0.6925991986560772 and parameters: {'n_estimators': 127, 'max_depth': 20, 'min_samples_leaf': 5, 'min_samples_split': 9, 'subsample': 0.4464951647901492}. Best is trial 32 with value: 0.7026443690662106.\u001b[0m\n",
      "\u001b[32m[I 2023-08-17 21:40:15,676]\u001b[0m Trial 46 finished with value: 0.6951435460617353 and parameters: {'n_estimators': 119, 'max_depth': 18, 'min_samples_leaf': 4, 'min_samples_split': 10, 'subsample': 0.48522741541588704}. Best is trial 32 with value: 0.7026443690662106.\u001b[0m\n",
      "\u001b[32m[I 2023-08-17 21:40:16,788]\u001b[0m Trial 47 finished with value: 0.6836653533255671 and parameters: {'n_estimators': 137, 'max_depth': 21, 'min_samples_leaf': 5, 'min_samples_split': 9, 'subsample': 0.27661649213243095}. Best is trial 32 with value: 0.7026443690662106.\u001b[0m\n",
      "\u001b[32m[I 2023-08-17 21:40:19,500]\u001b[0m Trial 48 finished with value: 0.6851845773470323 and parameters: {'n_estimators': 189, 'max_depth': 24, 'min_samples_leaf': 4, 'min_samples_split': 9, 'subsample': 0.4168007083329842}. Best is trial 32 with value: 0.7026443690662106.\u001b[0m\n",
      "\u001b[32m[I 2023-08-17 21:40:21,001]\u001b[0m Trial 49 finished with value: 0.684699114397976 and parameters: {'n_estimators': 125, 'max_depth': 19, 'min_samples_leaf': 5, 'min_samples_split': 10, 'subsample': 0.3887501242455935}. Best is trial 32 with value: 0.7026443690662106.\u001b[0m\n",
      "\u001b[32m[I 2023-08-17 21:40:23,136]\u001b[0m Trial 50 finished with value: 0.6855983873779363 and parameters: {'n_estimators': 142, 'max_depth': 17, 'min_samples_leaf': 3, 'min_samples_split': 9, 'subsample': 0.4446196826831342}. Best is trial 32 with value: 0.7026443690662106.\u001b[0m\n",
      "\u001b[32m[I 2023-08-17 21:40:24,438]\u001b[0m Trial 51 finished with value: 0.7016132084725909 and parameters: {'n_estimators': 100, 'max_depth': 14, 'min_samples_leaf': 6, 'min_samples_split': 8, 'subsample': 0.45809511233831157}. Best is trial 32 with value: 0.7026443690662106.\u001b[0m\n",
      "\u001b[32m[I 2023-08-17 21:40:25,889]\u001b[0m Trial 52 finished with value: 0.6912822325423744 and parameters: {'n_estimators': 100, 'max_depth': 14, 'min_samples_leaf': 5, 'min_samples_split': 8, 'subsample': 0.49257719200855155}. Best is trial 32 with value: 0.7026443690662106.\u001b[0m\n",
      "\u001b[32m[I 2023-08-17 21:40:27,647]\u001b[0m Trial 53 finished with value: 0.6913376781299159 and parameters: {'n_estimators': 134, 'max_depth': 15, 'min_samples_leaf': 7, 'min_samples_split': 8, 'subsample': 0.4633516665322779}. Best is trial 32 with value: 0.7026443690662106.\u001b[0m\n",
      "\u001b[32m[I 2023-08-17 21:40:29,013]\u001b[0m Trial 54 finished with value: 0.6918118959648967 and parameters: {'n_estimators': 108, 'max_depth': 22, 'min_samples_leaf': 6, 'min_samples_split': 7, 'subsample': 0.42616014482605724}. Best is trial 32 with value: 0.7026443690662106.\u001b[0m\n",
      "\u001b[32m[I 2023-08-17 21:40:30,588]\u001b[0m Trial 55 finished with value: 0.6930824757473252 and parameters: {'n_estimators': 119, 'max_depth': 11, 'min_samples_leaf': 2, 'min_samples_split': 10, 'subsample': 0.464616245567265}. Best is trial 32 with value: 0.7026443690662106.\u001b[0m\n",
      "\u001b[32m[I 2023-08-17 21:40:32,232]\u001b[0m Trial 56 finished with value: 0.6949933816699743 and parameters: {'n_estimators': 113, 'max_depth': 20, 'min_samples_leaf': 4, 'min_samples_split': 9, 'subsample': 0.4404093744478845}. Best is trial 32 with value: 0.7026443690662106.\u001b[0m\n",
      "\u001b[32m[I 2023-08-17 21:40:33,509]\u001b[0m Trial 57 finished with value: 0.6843388619950607 and parameters: {'n_estimators': 117, 'max_depth': 18, 'min_samples_leaf': 7, 'min_samples_split': 8, 'subsample': 0.39115036300789124}. Best is trial 32 with value: 0.7026443690662106.\u001b[0m\n",
      "\u001b[32m[I 2023-08-17 21:40:35,385]\u001b[0m Trial 58 finished with value: 0.6861300355187081 and parameters: {'n_estimators': 169, 'max_depth': 23, 'min_samples_leaf': 5, 'min_samples_split': 7, 'subsample': 0.36103587040031043}. Best is trial 32 with value: 0.7026443690662106.\u001b[0m\n",
      "\u001b[32m[I 2023-08-17 21:40:35,880]\u001b[0m Trial 59 finished with value: 0.6317129923986018 and parameters: {'n_estimators': 148, 'max_depth': 16, 'min_samples_leaf': 9, 'min_samples_split': 9, 'subsample': 0.13863753628284908}. Best is trial 32 with value: 0.7026443690662106.\u001b[0m\n",
      "\u001b[32m[I 2023-08-17 21:40:36,954]\u001b[0m Trial 60 finished with value: 0.6900215120316749 and parameters: {'n_estimators': 112, 'max_depth': 8, 'min_samples_leaf': 6, 'min_samples_split': 10, 'subsample': 0.4221094173009771}. Best is trial 32 with value: 0.7026443690662106.\u001b[0m\n",
      "\u001b[32m[I 2023-08-17 21:40:38,164]\u001b[0m Trial 61 finished with value: 0.6978240561009039 and parameters: {'n_estimators': 103, 'max_depth': 14, 'min_samples_leaf': 6, 'min_samples_split': 8, 'subsample': 0.414484741544832}. Best is trial 32 with value: 0.7026443690662106.\u001b[0m\n",
      "\u001b[32m[I 2023-08-17 21:40:39,416]\u001b[0m Trial 62 finished with value: 0.6965838121882568 and parameters: {'n_estimators': 100, 'max_depth': 12, 'min_samples_leaf': 6, 'min_samples_split': 8, 'subsample': 0.4591892267186733}. Best is trial 32 with value: 0.7026443690662106.\u001b[0m\n",
      "\u001b[32m[I 2023-08-17 21:40:41,009]\u001b[0m Trial 63 finished with value: 0.6847669678263998 and parameters: {'n_estimators': 107, 'max_depth': 14, 'min_samples_leaf': 4, 'min_samples_split': 8, 'subsample': 0.4845539165072208}. Best is trial 32 with value: 0.7026443690662106.\u001b[0m\n",
      "\u001b[32m[I 2023-08-17 21:40:42,587]\u001b[0m Trial 64 finished with value: 0.700463756521801 and parameters: {'n_estimators': 104, 'max_depth': 15, 'min_samples_leaf': 5, 'min_samples_split': 8, 'subsample': 0.4996745824233266}. Best is trial 32 with value: 0.7026443690662106.\u001b[0m\n",
      "\u001b[32m[I 2023-08-17 21:40:44,263]\u001b[0m Trial 65 finished with value: 0.702513500044173 and parameters: {'n_estimators': 109, 'max_depth': 17, 'min_samples_leaf': 5, 'min_samples_split': 9, 'subsample': 0.4922179191697354}. Best is trial 32 with value: 0.7026443690662106.\u001b[0m\n",
      "\u001b[32m[I 2023-08-17 21:40:46,142]\u001b[0m Trial 66 finished with value: 0.6910075660905272 and parameters: {'n_estimators': 116, 'max_depth': 21, 'min_samples_leaf': 5, 'min_samples_split': 7, 'subsample': 0.49908047590606835}. Best is trial 32 with value: 0.7026443690662106.\u001b[0m\n",
      "\u001b[32m[I 2023-08-17 21:40:47,884]\u001b[0m Trial 67 finished with value: 0.6935478203103319 and parameters: {'n_estimators': 110, 'max_depth': 17, 'min_samples_leaf': 4, 'min_samples_split': 8, 'subsample': 0.4867118556116981}. Best is trial 32 with value: 0.7026443690662106.\u001b[0m\n",
      "\u001b[32m[I 2023-08-17 21:40:49,643]\u001b[0m Trial 68 finished with value: 0.6907450288709818 and parameters: {'n_estimators': 123, 'max_depth': 20, 'min_samples_leaf': 5, 'min_samples_split': 9, 'subsample': 0.436253598391842}. Best is trial 32 with value: 0.7026443690662106.\u001b[0m\n",
      "\u001b[32m[I 2023-08-17 21:40:51,482]\u001b[0m Trial 69 finished with value: 0.6817527040615824 and parameters: {'n_estimators': 119, 'max_depth': 16, 'min_samples_leaf': 3, 'min_samples_split': 7, 'subsample': 0.4494434535581762}. Best is trial 32 with value: 0.7026443690662106.\u001b[0m\n",
      "\u001b[32m[I 2023-08-17 21:40:53,492]\u001b[0m Trial 70 finished with value: 0.6825204336527461 and parameters: {'n_estimators': 128, 'max_depth': 19, 'min_samples_leaf': 5, 'min_samples_split': 9, 'subsample': 0.4761671565532268}. Best is trial 32 with value: 0.7026443690662106.\u001b[0m\n",
      "\u001b[32m[I 2023-08-17 21:40:54,887]\u001b[0m Trial 71 finished with value: 0.6992092967511048 and parameters: {'n_estimators': 107, 'max_depth': 13, 'min_samples_leaf': 7, 'min_samples_split': 9, 'subsample': 0.47188407621482154}. Best is trial 32 with value: 0.7026443690662106.\u001b[0m\n",
      "\u001b[32m[I 2023-08-17 21:40:55,197]\u001b[0m Trial 72 finished with value: 0.6050320031445138 and parameters: {'n_estimators': 107, 'max_depth': 10, 'min_samples_leaf': 7, 'min_samples_split': 9, 'subsample': 0.10007471338777418}. Best is trial 32 with value: 0.7026443690662106.\u001b[0m\n",
      "\u001b[32m[I 2023-08-17 21:40:56,634]\u001b[0m Trial 73 finished with value: 0.6964021206354962 and parameters: {'n_estimators': 113, 'max_depth': 13, 'min_samples_leaf': 7, 'min_samples_split': 9, 'subsample': 0.456459347561451}. Best is trial 32 with value: 0.7026443690662106.\u001b[0m\n",
      "\u001b[32m[I 2023-08-17 21:40:58,137]\u001b[0m Trial 74 finished with value: 0.6931419163721132 and parameters: {'n_estimators': 106, 'max_depth': 18, 'min_samples_leaf': 8, 'min_samples_split': 8, 'subsample': 0.4994804742716535}. Best is trial 32 with value: 0.7026443690662106.\u001b[0m\n",
      "\u001b[32m[I 2023-08-17 21:40:58,766]\u001b[0m Trial 75 finished with value: 0.6686430377829208 and parameters: {'n_estimators': 110, 'max_depth': 12, 'min_samples_leaf': 9, 'min_samples_split': 8, 'subsample': 0.23882522889202093}. Best is trial 32 with value: 0.7026443690662106.\u001b[0m\n",
      "\u001b[32m[I 2023-08-17 21:41:00,283]\u001b[0m Trial 76 finished with value: 0.6888812472256094 and parameters: {'n_estimators': 115, 'max_depth': 17, 'min_samples_leaf': 8, 'min_samples_split': 9, 'subsample': 0.46922413793153406}. Best is trial 32 with value: 0.7026443690662106.\u001b[0m\n",
      "\u001b[32m[I 2023-08-17 21:41:01,767]\u001b[0m Trial 77 finished with value: 0.6918316962632499 and parameters: {'n_estimators': 104, 'max_depth': 23, 'min_samples_leaf': 5, 'min_samples_split': 9, 'subsample': 0.437990400758426}. Best is trial 32 with value: 0.7026443690662106.\u001b[0m\n",
      "\u001b[32m[I 2023-08-17 21:41:03,367]\u001b[0m Trial 78 finished with value: 0.6892026159542141 and parameters: {'n_estimators': 120, 'max_depth': 13, 'min_samples_leaf': 6, 'min_samples_split': 8, 'subsample': 0.4550302462408681}. Best is trial 32 with value: 0.7026443690662106.\u001b[0m\n",
      "\u001b[32m[I 2023-08-17 21:41:05,047]\u001b[0m Trial 79 finished with value: 0.6975458532359002 and parameters: {'n_estimators': 125, 'max_depth': 15, 'min_samples_leaf': 8, 'min_samples_split': 7, 'subsample': 0.48684029000893536}. Best is trial 32 with value: 0.7026443690662106.\u001b[0m\n",
      "\u001b[32m[I 2023-08-17 21:41:06,552]\u001b[0m Trial 80 finished with value: 0.6986762831606202 and parameters: {'n_estimators': 108, 'max_depth': 27, 'min_samples_leaf': 7, 'min_samples_split': 8, 'subsample': 0.4760778630782599}. Best is trial 32 with value: 0.7026443690662106.\u001b[0m\n",
      "\u001b[32m[I 2023-08-17 21:41:08,043]\u001b[0m Trial 81 finished with value: 0.6988001656030426 and parameters: {'n_estimators': 108, 'max_depth': 28, 'min_samples_leaf': 7, 'min_samples_split': 8, 'subsample': 0.47614535840863703}. Best is trial 32 with value: 0.7026443690662106.\u001b[0m\n",
      "\u001b[32m[I 2023-08-17 21:41:09,528]\u001b[0m Trial 82 finished with value: 0.6986355755719995 and parameters: {'n_estimators': 103, 'max_depth': 26, 'min_samples_leaf': 7, 'min_samples_split': 9, 'subsample': 0.49044669294120913}. Best is trial 32 with value: 0.7026443690662106.\u001b[0m\n",
      "\u001b[32m[I 2023-08-17 21:41:11,320]\u001b[0m Trial 83 finished with value: 0.7011605541629466 and parameters: {'n_estimators': 153, 'max_depth': 29, 'min_samples_leaf': 8, 'min_samples_split': 8, 'subsample': 0.42853897827143783}. Best is trial 32 with value: 0.7026443690662106.\u001b[0m\n",
      "\u001b[32m[I 2023-08-17 21:41:12,989]\u001b[0m Trial 84 finished with value: 0.7062195628594823 and parameters: {'n_estimators': 144, 'max_depth': 16, 'min_samples_leaf': 8, 'min_samples_split': 8, 'subsample': 0.42660183516459393}. Best is trial 84 with value: 0.7062195628594823.\u001b[0m\n",
      "\u001b[32m[I 2023-08-17 21:41:14,667]\u001b[0m Trial 85 finished with value: 0.6914775745449285 and parameters: {'n_estimators': 154, 'max_depth': 30, 'min_samples_leaf': 10, 'min_samples_split': 6, 'subsample': 0.42785636608728317}. Best is trial 84 with value: 0.7062195628594823.\u001b[0m\n",
      "\u001b[32m[I 2023-08-17 21:41:16,322]\u001b[0m Trial 86 finished with value: 0.6870775176037623 and parameters: {'n_estimators': 160, 'max_depth': 16, 'min_samples_leaf': 9, 'min_samples_split': 8, 'subsample': 0.39759690858702657}. Best is trial 84 with value: 0.7062195628594823.\u001b[0m\n",
      "\u001b[32m[I 2023-08-17 21:41:18,000]\u001b[0m Trial 87 finished with value: 0.6949859474951754 and parameters: {'n_estimators': 152, 'max_depth': 19, 'min_samples_leaf': 8, 'min_samples_split': 7, 'subsample': 0.40886596115787266}. Best is trial 84 with value: 0.7062195628594823.\u001b[0m\n",
      "\u001b[32m[I 2023-08-17 21:41:19,804]\u001b[0m Trial 88 finished with value: 0.682094636376658 and parameters: {'n_estimators': 144, 'max_depth': 25, 'min_samples_leaf': 8, 'min_samples_split': 7, 'subsample': 0.44807892826357104}. Best is trial 84 with value: 0.7062195628594823.\u001b[0m\n",
      "\u001b[32m[I 2023-08-17 21:41:21,539]\u001b[0m Trial 89 finished with value: 0.6817586417595483 and parameters: {'n_estimators': 157, 'max_depth': 29, 'min_samples_leaf': 9, 'min_samples_split': 8, 'subsample': 0.42355856368580413}. Best is trial 84 with value: 0.7062195628594823.\u001b[0m\n",
      "\u001b[32m[I 2023-08-17 21:41:23,577]\u001b[0m Trial 90 finished with value: 0.6924849535260538 and parameters: {'n_estimators': 140, 'max_depth': 18, 'min_samples_leaf': 4, 'min_samples_split': 8, 'subsample': 0.43677183323913865}. Best is trial 84 with value: 0.7062195628594823.\u001b[0m\n",
      "\u001b[32m[I 2023-08-17 21:41:25,652]\u001b[0m Trial 91 finished with value: 0.6911671574794243 and parameters: {'n_estimators': 165, 'max_depth': 14, 'min_samples_leaf': 8, 'min_samples_split': 9, 'subsample': 0.4623521666281713}. Best is trial 84 with value: 0.7062195628594823.\u001b[0m\n",
      "\u001b[32m[I 2023-08-17 21:41:27,473]\u001b[0m Trial 92 finished with value: 0.6930496772614074 and parameters: {'n_estimators': 132, 'max_depth': 15, 'min_samples_leaf': 5, 'min_samples_split': 9, 'subsample': 0.4521481294886378}. Best is trial 84 with value: 0.7062195628594823.\u001b[0m\n",
      "\u001b[32m[I 2023-08-17 21:41:29,139]\u001b[0m Trial 93 finished with value: 0.6919961576549732 and parameters: {'n_estimators': 136, 'max_depth': 16, 'min_samples_leaf': 8, 'min_samples_split': 8, 'subsample': 0.4420155257658731}. Best is trial 84 with value: 0.7062195628594823.\u001b[0m\n",
      "\u001b[32m[I 2023-08-17 21:41:31,173]\u001b[0m Trial 94 finished with value: 0.6920755292960094 and parameters: {'n_estimators': 150, 'max_depth': 13, 'min_samples_leaf': 5, 'min_samples_split': 9, 'subsample': 0.46644186165960644}. Best is trial 84 with value: 0.7062195628594823.\u001b[0m\n",
      "\u001b[32m[I 2023-08-17 21:41:32,547]\u001b[0m Trial 95 finished with value: 0.6958515831177653 and parameters: {'n_estimators': 112, 'max_depth': 17, 'min_samples_leaf': 6, 'min_samples_split': 3, 'subsample': 0.41788505559568473}. Best is trial 84 with value: 0.7062195628594823.\u001b[0m\n",
      "\u001b[32m[I 2023-08-17 21:41:33,711]\u001b[0m Trial 96 finished with value: 0.6917831793388742 and parameters: {'n_estimators': 101, 'max_depth': 15, 'min_samples_leaf': 8, 'min_samples_split': 10, 'subsample': 0.43116911490085363}. Best is trial 84 with value: 0.7062195628594823.\u001b[0m\n",
      "\u001b[32m[I 2023-08-17 21:41:34,737]\u001b[0m Trial 97 finished with value: 0.6932220579143353 and parameters: {'n_estimators': 105, 'max_depth': 10, 'min_samples_leaf': 7, 'min_samples_split': 8, 'subsample': 0.3959182461551776}. Best is trial 84 with value: 0.7062195628594823.\u001b[0m\n",
      "\u001b[32m[I 2023-08-17 21:41:36,086]\u001b[0m Trial 98 finished with value: 0.6912656143564984 and parameters: {'n_estimators': 130, 'max_depth': 12, 'min_samples_leaf': 6, 'min_samples_split': 8, 'subsample': 0.3806851817051946}. Best is trial 84 with value: 0.7062195628594823.\u001b[0m\n",
      "\u001b[32m[I 2023-08-17 21:41:37,531]\u001b[0m Trial 99 finished with value: 0.6827392072430316 and parameters: {'n_estimators': 117, 'max_depth': 17, 'min_samples_leaf': 5, 'min_samples_split': 9, 'subsample': 0.4062589815954721}. Best is trial 84 with value: 0.7062195628594823.\u001b[0m\n"
     ]
    },
    {
     "name": "stdout",
     "output_type": "stream",
     "text": [
      "Best r2:  0.7062195628594823\n",
      "Best trial: {'n_estimators': 144, 'max_depth': 16, 'min_samples_leaf': 8, 'min_samples_split': 8, 'subsample': 0.42660183516459393}\n"
     ]
    }
   ],
   "source": [
    "sampler = TPESampler()\n",
    "study = optuna.create_study(\n",
    "    study_name=\"gb_parameter_opt\",\n",
    "    direction=\"maximize\",\n",
    "    sampler=sampler,\n",
    ")\n",
    "\n",
    "study.optimize(lambda trial : objectiveGB(trial, Cd_X_train, Cd_y_train), n_trials=100)\n",
    "print(\"Best r2: \", study.best_value)\n",
    "print(\"Best trial:\", study.best_trial.params)"
   ]
  },
  {
   "cell_type": "code",
   "execution_count": 68,
   "id": "861f88d8",
   "metadata": {},
   "outputs": [
    {
     "data": {
      "application/vnd.plotly.v1+json": {
       "config": {
        "plotlyServerURL": "https://plot.ly"
       },
       "data": [
        {
         "dimensions": [
          {
           "label": "Objective Value",
           "range": [
            0.5221266316689674,
            0.7062195628594823
           ],
           "values": [
            0.6540542574790396,
            0.6691295090039818,
            0.6900378285756766,
            0.6804895444636205,
            0.6351726930590748,
            0.6954856362584187,
            0.6746494801203202,
            0.6770309845033574,
            0.6181086968225428,
            0.6809786261876037,
            0.6765116958393979,
            0.6849927480577982,
            0.6828848821757683,
            0.6925465695635351,
            0.6820529034736965,
            0.6915727513251294,
            0.6890006983133896,
            0.684837226902224,
            0.7007256436863665,
            0.5221266316689674,
            0.6910693142258206,
            0.6912999910433182,
            0.6948204502740181,
            0.6910593795331412,
            0.6939080112675907,
            0.6913730058627624,
            0.6886874491294142,
            0.6917883358711198,
            0.6894626750912314,
            0.661628743635936,
            0.6911052072600423,
            0.6932604903507334,
            0.7026443690662106,
            0.694606579075224,
            0.6906350347172983,
            0.6839551028583545,
            0.6897968692001475,
            0.697718032820674,
            0.698431414565249,
            0.6685225557026886,
            0.6813563718626712,
            0.6951307406068983,
            0.6932261926078883,
            0.6996874765205752,
            0.6994971944171329,
            0.6925991986560772,
            0.6951435460617353,
            0.6836653533255671,
            0.6851845773470323,
            0.684699114397976,
            0.6855983873779363,
            0.7016132084725909,
            0.6912822325423744,
            0.6913376781299159,
            0.6918118959648967,
            0.6930824757473252,
            0.6949933816699743,
            0.6843388619950607,
            0.6861300355187081,
            0.6317129923986018,
            0.6900215120316749,
            0.6978240561009039,
            0.6965838121882568,
            0.6847669678263998,
            0.700463756521801,
            0.702513500044173,
            0.6910075660905272,
            0.6935478203103319,
            0.6907450288709818,
            0.6817527040615824,
            0.6825204336527461,
            0.6992092967511048,
            0.6050320031445138,
            0.6964021206354962,
            0.6931419163721132,
            0.6686430377829208,
            0.6888812472256094,
            0.6918316962632499,
            0.6892026159542141,
            0.6975458532359002,
            0.6986762831606202,
            0.6988001656030426,
            0.6986355755719995,
            0.7011605541629466,
            0.7062195628594823,
            0.6914775745449285,
            0.6870775176037623,
            0.6949859474951754,
            0.682094636376658,
            0.6817586417595483,
            0.6924849535260538,
            0.6911671574794243,
            0.6930496772614074,
            0.6919961576549732,
            0.6920755292960094,
            0.6958515831177653,
            0.6917831793388742,
            0.6932220579143353,
            0.6912656143564984,
            0.6827392072430316
           ]
          },
          {
           "label": "max_depth",
           "range": [
            1,
            30
           ],
           "values": [
            26,
            18,
            28,
            4,
            29,
            12,
            14,
            28,
            11,
            27,
            4,
            20,
            10,
            22,
            19,
            23,
            9,
            15,
            23,
            1,
            24,
            22,
            13,
            13,
            17,
            8,
            6,
            12,
            16,
            25,
            21,
            16,
            18,
            18,
            13,
            19,
            30,
            14,
            15,
            15,
            26,
            11,
            17,
            14,
            20,
            20,
            18,
            21,
            24,
            19,
            17,
            14,
            14,
            15,
            22,
            11,
            20,
            18,
            23,
            16,
            8,
            14,
            12,
            14,
            15,
            17,
            21,
            17,
            20,
            16,
            19,
            13,
            10,
            13,
            18,
            12,
            17,
            23,
            13,
            15,
            27,
            28,
            26,
            29,
            16,
            30,
            16,
            19,
            25,
            29,
            18,
            14,
            15,
            16,
            13,
            17,
            15,
            10,
            12,
            17
           ]
          },
          {
           "label": "min_samples_leaf",
           "range": [
            1,
            10
           ],
           "values": [
            3,
            4,
            5,
            1,
            9,
            7,
            9,
            7,
            7,
            10,
            7,
            5,
            6,
            3,
            2,
            3,
            1,
            4,
            8,
            8,
            10,
            6,
            8,
            8,
            8,
            9,
            7,
            8,
            6,
            9,
            10,
            8,
            8,
            7,
            9,
            5,
            8,
            6,
            6,
            6,
            4,
            7,
            6,
            5,
            5,
            5,
            4,
            5,
            4,
            5,
            3,
            6,
            5,
            7,
            6,
            2,
            4,
            7,
            5,
            9,
            6,
            6,
            6,
            4,
            5,
            5,
            5,
            4,
            5,
            3,
            5,
            7,
            7,
            7,
            8,
            9,
            8,
            5,
            6,
            8,
            7,
            7,
            7,
            8,
            8,
            10,
            9,
            8,
            8,
            9,
            4,
            8,
            5,
            8,
            5,
            6,
            8,
            7,
            6,
            5
           ]
          },
          {
           "label": "min_samples_split",
           "range": [
            2,
            10
           ],
           "values": [
            5,
            5,
            9,
            6,
            6,
            2,
            10,
            3,
            4,
            5,
            2,
            9,
            8,
            8,
            7,
            7,
            2,
            10,
            8,
            3,
            7,
            8,
            8,
            9,
            7,
            8,
            4,
            9,
            6,
            4,
            6,
            7,
            8,
            8,
            5,
            9,
            10,
            8,
            10,
            10,
            9,
            6,
            10,
            9,
            9,
            9,
            10,
            9,
            9,
            10,
            9,
            8,
            8,
            8,
            7,
            10,
            9,
            8,
            7,
            9,
            10,
            8,
            8,
            8,
            8,
            9,
            7,
            8,
            9,
            7,
            9,
            9,
            9,
            9,
            8,
            8,
            9,
            9,
            8,
            7,
            8,
            8,
            9,
            8,
            8,
            6,
            8,
            7,
            7,
            8,
            8,
            9,
            9,
            8,
            9,
            3,
            10,
            8,
            8,
            9
           ]
          },
          {
           "label": "n_estimators",
           "range": [
            100,
            197
           ],
           "values": [
            104,
            141,
            196,
            169,
            117,
            114,
            175,
            184,
            138,
            150,
            100,
            197,
            129,
            161,
            161,
            121,
            156,
            146,
            128,
            114,
            129,
            131,
            113,
            109,
            121,
            115,
            106,
            124,
            132,
            109,
            139,
            122,
            102,
            100,
            111,
            105,
            116,
            104,
            102,
            103,
            106,
            102,
            110,
            119,
            119,
            127,
            119,
            137,
            189,
            125,
            142,
            100,
            100,
            134,
            108,
            119,
            113,
            117,
            169,
            148,
            112,
            103,
            100,
            107,
            104,
            109,
            116,
            110,
            123,
            119,
            128,
            107,
            107,
            113,
            106,
            110,
            115,
            104,
            120,
            125,
            108,
            108,
            103,
            153,
            144,
            154,
            160,
            152,
            144,
            157,
            140,
            165,
            132,
            136,
            150,
            112,
            101,
            105,
            130,
            117
           ]
          },
          {
           "label": "subsample",
           "range": [
            0.10007471338777418,
            0.4996745824233266
           ],
           "values": [
            0.15642091597960017,
            0.1975038841753614,
            0.2989016204321012,
            0.3068163455425478,
            0.12808752155663528,
            0.4730709526031217,
            0.25588791155183843,
            0.2692199230271786,
            0.12052702438260243,
            0.26085780940485115,
            0.4605381119058353,
            0.4026767595037879,
            0.36034918797086124,
            0.49862332049377284,
            0.4822555659500716,
            0.4294830371188183,
            0.49920715566067125,
            0.37441521192592275,
            0.4237480068797635,
            0.435409842116858,
            0.34418369136666493,
            0.453660612688219,
            0.41290623758109896,
            0.4015643937993197,
            0.4011158556229414,
            0.4300823547244724,
            0.33117867671794005,
            0.4580115762975078,
            0.3795103840623249,
            0.21689892137747938,
            0.4736299082149288,
            0.40513740773549933,
            0.42759718922888357,
            0.4312955343690856,
            0.3805346804567441,
            0.31366366892939485,
            0.44703644816474225,
            0.4127819953812133,
            0.47239316504682083,
            0.180112904709257,
            0.3590361888976887,
            0.4787091823480179,
            0.4689642214055968,
            0.4463014880860239,
            0.4444038651244667,
            0.4464951647901492,
            0.48522741541588704,
            0.27661649213243095,
            0.4168007083329842,
            0.3887501242455935,
            0.4446196826831342,
            0.45809511233831157,
            0.49257719200855155,
            0.4633516665322779,
            0.42616014482605724,
            0.464616245567265,
            0.4404093744478845,
            0.39115036300789124,
            0.36103587040031043,
            0.13863753628284908,
            0.4221094173009771,
            0.414484741544832,
            0.4591892267186733,
            0.4845539165072208,
            0.4996745824233266,
            0.4922179191697354,
            0.49908047590606835,
            0.4867118556116981,
            0.436253598391842,
            0.4494434535581762,
            0.4761671565532268,
            0.47188407621482154,
            0.10007471338777418,
            0.456459347561451,
            0.4994804742716535,
            0.23882522889202093,
            0.46922413793153406,
            0.437990400758426,
            0.4550302462408681,
            0.48684029000893536,
            0.4760778630782599,
            0.47614535840863703,
            0.49044669294120913,
            0.42853897827143783,
            0.42660183516459393,
            0.42785636608728317,
            0.39759690858702657,
            0.40886596115787266,
            0.44807892826357104,
            0.42355856368580413,
            0.43677183323913865,
            0.4623521666281713,
            0.4521481294886378,
            0.4420155257658731,
            0.46644186165960644,
            0.41788505559568473,
            0.43116911490085363,
            0.3959182461551776,
            0.3806851817051946,
            0.4062589815954721
           ]
          }
         ],
         "labelangle": 30,
         "labelside": "bottom",
         "line": {
          "color": [
           0.6540542574790396,
           0.6691295090039818,
           0.6900378285756766,
           0.6804895444636205,
           0.6351726930590748,
           0.6954856362584187,
           0.6746494801203202,
           0.6770309845033574,
           0.6181086968225428,
           0.6809786261876037,
           0.6765116958393979,
           0.6849927480577982,
           0.6828848821757683,
           0.6925465695635351,
           0.6820529034736965,
           0.6915727513251294,
           0.6890006983133896,
           0.684837226902224,
           0.7007256436863665,
           0.5221266316689674,
           0.6910693142258206,
           0.6912999910433182,
           0.6948204502740181,
           0.6910593795331412,
           0.6939080112675907,
           0.6913730058627624,
           0.6886874491294142,
           0.6917883358711198,
           0.6894626750912314,
           0.661628743635936,
           0.6911052072600423,
           0.6932604903507334,
           0.7026443690662106,
           0.694606579075224,
           0.6906350347172983,
           0.6839551028583545,
           0.6897968692001475,
           0.697718032820674,
           0.698431414565249,
           0.6685225557026886,
           0.6813563718626712,
           0.6951307406068983,
           0.6932261926078883,
           0.6996874765205752,
           0.6994971944171329,
           0.6925991986560772,
           0.6951435460617353,
           0.6836653533255671,
           0.6851845773470323,
           0.684699114397976,
           0.6855983873779363,
           0.7016132084725909,
           0.6912822325423744,
           0.6913376781299159,
           0.6918118959648967,
           0.6930824757473252,
           0.6949933816699743,
           0.6843388619950607,
           0.6861300355187081,
           0.6317129923986018,
           0.6900215120316749,
           0.6978240561009039,
           0.6965838121882568,
           0.6847669678263998,
           0.700463756521801,
           0.702513500044173,
           0.6910075660905272,
           0.6935478203103319,
           0.6907450288709818,
           0.6817527040615824,
           0.6825204336527461,
           0.6992092967511048,
           0.6050320031445138,
           0.6964021206354962,
           0.6931419163721132,
           0.6686430377829208,
           0.6888812472256094,
           0.6918316962632499,
           0.6892026159542141,
           0.6975458532359002,
           0.6986762831606202,
           0.6988001656030426,
           0.6986355755719995,
           0.7011605541629466,
           0.7062195628594823,
           0.6914775745449285,
           0.6870775176037623,
           0.6949859474951754,
           0.682094636376658,
           0.6817586417595483,
           0.6924849535260538,
           0.6911671574794243,
           0.6930496772614074,
           0.6919961576549732,
           0.6920755292960094,
           0.6958515831177653,
           0.6917831793388742,
           0.6932220579143353,
           0.6912656143564984,
           0.6827392072430316
          ],
          "colorbar": {
           "title": {
            "text": "Objective Value"
           }
          },
          "colorscale": [
           [
            0,
            "rgb(247,251,255)"
           ],
           [
            0.125,
            "rgb(222,235,247)"
           ],
           [
            0.25,
            "rgb(198,219,239)"
           ],
           [
            0.375,
            "rgb(158,202,225)"
           ],
           [
            0.5,
            "rgb(107,174,214)"
           ],
           [
            0.625,
            "rgb(66,146,198)"
           ],
           [
            0.75,
            "rgb(33,113,181)"
           ],
           [
            0.875,
            "rgb(8,81,156)"
           ],
           [
            1,
            "rgb(8,48,107)"
           ]
          ],
          "reversescale": false,
          "showscale": true
         },
         "type": "parcoords"
        }
       ],
       "layout": {
        "template": {
         "data": {
          "bar": [
           {
            "error_x": {
             "color": "#2a3f5f"
            },
            "error_y": {
             "color": "#2a3f5f"
            },
            "marker": {
             "line": {
              "color": "#E5ECF6",
              "width": 0.5
             },
             "pattern": {
              "fillmode": "overlay",
              "size": 10,
              "solidity": 0.2
             }
            },
            "type": "bar"
           }
          ],
          "barpolar": [
           {
            "marker": {
             "line": {
              "color": "#E5ECF6",
              "width": 0.5
             },
             "pattern": {
              "fillmode": "overlay",
              "size": 10,
              "solidity": 0.2
             }
            },
            "type": "barpolar"
           }
          ],
          "carpet": [
           {
            "aaxis": {
             "endlinecolor": "#2a3f5f",
             "gridcolor": "white",
             "linecolor": "white",
             "minorgridcolor": "white",
             "startlinecolor": "#2a3f5f"
            },
            "baxis": {
             "endlinecolor": "#2a3f5f",
             "gridcolor": "white",
             "linecolor": "white",
             "minorgridcolor": "white",
             "startlinecolor": "#2a3f5f"
            },
            "type": "carpet"
           }
          ],
          "choropleth": [
           {
            "colorbar": {
             "outlinewidth": 0,
             "ticks": ""
            },
            "type": "choropleth"
           }
          ],
          "contour": [
           {
            "colorbar": {
             "outlinewidth": 0,
             "ticks": ""
            },
            "colorscale": [
             [
              0,
              "#0d0887"
             ],
             [
              0.1111111111111111,
              "#46039f"
             ],
             [
              0.2222222222222222,
              "#7201a8"
             ],
             [
              0.3333333333333333,
              "#9c179e"
             ],
             [
              0.4444444444444444,
              "#bd3786"
             ],
             [
              0.5555555555555556,
              "#d8576b"
             ],
             [
              0.6666666666666666,
              "#ed7953"
             ],
             [
              0.7777777777777778,
              "#fb9f3a"
             ],
             [
              0.8888888888888888,
              "#fdca26"
             ],
             [
              1,
              "#f0f921"
             ]
            ],
            "type": "contour"
           }
          ],
          "contourcarpet": [
           {
            "colorbar": {
             "outlinewidth": 0,
             "ticks": ""
            },
            "type": "contourcarpet"
           }
          ],
          "heatmap": [
           {
            "colorbar": {
             "outlinewidth": 0,
             "ticks": ""
            },
            "colorscale": [
             [
              0,
              "#0d0887"
             ],
             [
              0.1111111111111111,
              "#46039f"
             ],
             [
              0.2222222222222222,
              "#7201a8"
             ],
             [
              0.3333333333333333,
              "#9c179e"
             ],
             [
              0.4444444444444444,
              "#bd3786"
             ],
             [
              0.5555555555555556,
              "#d8576b"
             ],
             [
              0.6666666666666666,
              "#ed7953"
             ],
             [
              0.7777777777777778,
              "#fb9f3a"
             ],
             [
              0.8888888888888888,
              "#fdca26"
             ],
             [
              1,
              "#f0f921"
             ]
            ],
            "type": "heatmap"
           }
          ],
          "heatmapgl": [
           {
            "colorbar": {
             "outlinewidth": 0,
             "ticks": ""
            },
            "colorscale": [
             [
              0,
              "#0d0887"
             ],
             [
              0.1111111111111111,
              "#46039f"
             ],
             [
              0.2222222222222222,
              "#7201a8"
             ],
             [
              0.3333333333333333,
              "#9c179e"
             ],
             [
              0.4444444444444444,
              "#bd3786"
             ],
             [
              0.5555555555555556,
              "#d8576b"
             ],
             [
              0.6666666666666666,
              "#ed7953"
             ],
             [
              0.7777777777777778,
              "#fb9f3a"
             ],
             [
              0.8888888888888888,
              "#fdca26"
             ],
             [
              1,
              "#f0f921"
             ]
            ],
            "type": "heatmapgl"
           }
          ],
          "histogram": [
           {
            "marker": {
             "pattern": {
              "fillmode": "overlay",
              "size": 10,
              "solidity": 0.2
             }
            },
            "type": "histogram"
           }
          ],
          "histogram2d": [
           {
            "colorbar": {
             "outlinewidth": 0,
             "ticks": ""
            },
            "colorscale": [
             [
              0,
              "#0d0887"
             ],
             [
              0.1111111111111111,
              "#46039f"
             ],
             [
              0.2222222222222222,
              "#7201a8"
             ],
             [
              0.3333333333333333,
              "#9c179e"
             ],
             [
              0.4444444444444444,
              "#bd3786"
             ],
             [
              0.5555555555555556,
              "#d8576b"
             ],
             [
              0.6666666666666666,
              "#ed7953"
             ],
             [
              0.7777777777777778,
              "#fb9f3a"
             ],
             [
              0.8888888888888888,
              "#fdca26"
             ],
             [
              1,
              "#f0f921"
             ]
            ],
            "type": "histogram2d"
           }
          ],
          "histogram2dcontour": [
           {
            "colorbar": {
             "outlinewidth": 0,
             "ticks": ""
            },
            "colorscale": [
             [
              0,
              "#0d0887"
             ],
             [
              0.1111111111111111,
              "#46039f"
             ],
             [
              0.2222222222222222,
              "#7201a8"
             ],
             [
              0.3333333333333333,
              "#9c179e"
             ],
             [
              0.4444444444444444,
              "#bd3786"
             ],
             [
              0.5555555555555556,
              "#d8576b"
             ],
             [
              0.6666666666666666,
              "#ed7953"
             ],
             [
              0.7777777777777778,
              "#fb9f3a"
             ],
             [
              0.8888888888888888,
              "#fdca26"
             ],
             [
              1,
              "#f0f921"
             ]
            ],
            "type": "histogram2dcontour"
           }
          ],
          "mesh3d": [
           {
            "colorbar": {
             "outlinewidth": 0,
             "ticks": ""
            },
            "type": "mesh3d"
           }
          ],
          "parcoords": [
           {
            "line": {
             "colorbar": {
              "outlinewidth": 0,
              "ticks": ""
             }
            },
            "type": "parcoords"
           }
          ],
          "pie": [
           {
            "automargin": true,
            "type": "pie"
           }
          ],
          "scatter": [
           {
            "marker": {
             "colorbar": {
              "outlinewidth": 0,
              "ticks": ""
             }
            },
            "type": "scatter"
           }
          ],
          "scatter3d": [
           {
            "line": {
             "colorbar": {
              "outlinewidth": 0,
              "ticks": ""
             }
            },
            "marker": {
             "colorbar": {
              "outlinewidth": 0,
              "ticks": ""
             }
            },
            "type": "scatter3d"
           }
          ],
          "scattercarpet": [
           {
            "marker": {
             "colorbar": {
              "outlinewidth": 0,
              "ticks": ""
             }
            },
            "type": "scattercarpet"
           }
          ],
          "scattergeo": [
           {
            "marker": {
             "colorbar": {
              "outlinewidth": 0,
              "ticks": ""
             }
            },
            "type": "scattergeo"
           }
          ],
          "scattergl": [
           {
            "marker": {
             "colorbar": {
              "outlinewidth": 0,
              "ticks": ""
             }
            },
            "type": "scattergl"
           }
          ],
          "scattermapbox": [
           {
            "marker": {
             "colorbar": {
              "outlinewidth": 0,
              "ticks": ""
             }
            },
            "type": "scattermapbox"
           }
          ],
          "scatterpolar": [
           {
            "marker": {
             "colorbar": {
              "outlinewidth": 0,
              "ticks": ""
             }
            },
            "type": "scatterpolar"
           }
          ],
          "scatterpolargl": [
           {
            "marker": {
             "colorbar": {
              "outlinewidth": 0,
              "ticks": ""
             }
            },
            "type": "scatterpolargl"
           }
          ],
          "scatterternary": [
           {
            "marker": {
             "colorbar": {
              "outlinewidth": 0,
              "ticks": ""
             }
            },
            "type": "scatterternary"
           }
          ],
          "surface": [
           {
            "colorbar": {
             "outlinewidth": 0,
             "ticks": ""
            },
            "colorscale": [
             [
              0,
              "#0d0887"
             ],
             [
              0.1111111111111111,
              "#46039f"
             ],
             [
              0.2222222222222222,
              "#7201a8"
             ],
             [
              0.3333333333333333,
              "#9c179e"
             ],
             [
              0.4444444444444444,
              "#bd3786"
             ],
             [
              0.5555555555555556,
              "#d8576b"
             ],
             [
              0.6666666666666666,
              "#ed7953"
             ],
             [
              0.7777777777777778,
              "#fb9f3a"
             ],
             [
              0.8888888888888888,
              "#fdca26"
             ],
             [
              1,
              "#f0f921"
             ]
            ],
            "type": "surface"
           }
          ],
          "table": [
           {
            "cells": {
             "fill": {
              "color": "#EBF0F8"
             },
             "line": {
              "color": "white"
             }
            },
            "header": {
             "fill": {
              "color": "#C8D4E3"
             },
             "line": {
              "color": "white"
             }
            },
            "type": "table"
           }
          ]
         },
         "layout": {
          "annotationdefaults": {
           "arrowcolor": "#2a3f5f",
           "arrowhead": 0,
           "arrowwidth": 1
          },
          "autotypenumbers": "strict",
          "coloraxis": {
           "colorbar": {
            "outlinewidth": 0,
            "ticks": ""
           }
          },
          "colorscale": {
           "diverging": [
            [
             0,
             "#8e0152"
            ],
            [
             0.1,
             "#c51b7d"
            ],
            [
             0.2,
             "#de77ae"
            ],
            [
             0.3,
             "#f1b6da"
            ],
            [
             0.4,
             "#fde0ef"
            ],
            [
             0.5,
             "#f7f7f7"
            ],
            [
             0.6,
             "#e6f5d0"
            ],
            [
             0.7,
             "#b8e186"
            ],
            [
             0.8,
             "#7fbc41"
            ],
            [
             0.9,
             "#4d9221"
            ],
            [
             1,
             "#276419"
            ]
           ],
           "sequential": [
            [
             0,
             "#0d0887"
            ],
            [
             0.1111111111111111,
             "#46039f"
            ],
            [
             0.2222222222222222,
             "#7201a8"
            ],
            [
             0.3333333333333333,
             "#9c179e"
            ],
            [
             0.4444444444444444,
             "#bd3786"
            ],
            [
             0.5555555555555556,
             "#d8576b"
            ],
            [
             0.6666666666666666,
             "#ed7953"
            ],
            [
             0.7777777777777778,
             "#fb9f3a"
            ],
            [
             0.8888888888888888,
             "#fdca26"
            ],
            [
             1,
             "#f0f921"
            ]
           ],
           "sequentialminus": [
            [
             0,
             "#0d0887"
            ],
            [
             0.1111111111111111,
             "#46039f"
            ],
            [
             0.2222222222222222,
             "#7201a8"
            ],
            [
             0.3333333333333333,
             "#9c179e"
            ],
            [
             0.4444444444444444,
             "#bd3786"
            ],
            [
             0.5555555555555556,
             "#d8576b"
            ],
            [
             0.6666666666666666,
             "#ed7953"
            ],
            [
             0.7777777777777778,
             "#fb9f3a"
            ],
            [
             0.8888888888888888,
             "#fdca26"
            ],
            [
             1,
             "#f0f921"
            ]
           ]
          },
          "colorway": [
           "#636efa",
           "#EF553B",
           "#00cc96",
           "#ab63fa",
           "#FFA15A",
           "#19d3f3",
           "#FF6692",
           "#B6E880",
           "#FF97FF",
           "#FECB52"
          ],
          "font": {
           "color": "#2a3f5f"
          },
          "geo": {
           "bgcolor": "white",
           "lakecolor": "white",
           "landcolor": "#E5ECF6",
           "showlakes": true,
           "showland": true,
           "subunitcolor": "white"
          },
          "hoverlabel": {
           "align": "left"
          },
          "hovermode": "closest",
          "mapbox": {
           "style": "light"
          },
          "paper_bgcolor": "white",
          "plot_bgcolor": "#E5ECF6",
          "polar": {
           "angularaxis": {
            "gridcolor": "white",
            "linecolor": "white",
            "ticks": ""
           },
           "bgcolor": "#E5ECF6",
           "radialaxis": {
            "gridcolor": "white",
            "linecolor": "white",
            "ticks": ""
           }
          },
          "scene": {
           "xaxis": {
            "backgroundcolor": "#E5ECF6",
            "gridcolor": "white",
            "gridwidth": 2,
            "linecolor": "white",
            "showbackground": true,
            "ticks": "",
            "zerolinecolor": "white"
           },
           "yaxis": {
            "backgroundcolor": "#E5ECF6",
            "gridcolor": "white",
            "gridwidth": 2,
            "linecolor": "white",
            "showbackground": true,
            "ticks": "",
            "zerolinecolor": "white"
           },
           "zaxis": {
            "backgroundcolor": "#E5ECF6",
            "gridcolor": "white",
            "gridwidth": 2,
            "linecolor": "white",
            "showbackground": true,
            "ticks": "",
            "zerolinecolor": "white"
           }
          },
          "shapedefaults": {
           "line": {
            "color": "#2a3f5f"
           }
          },
          "ternary": {
           "aaxis": {
            "gridcolor": "white",
            "linecolor": "white",
            "ticks": ""
           },
           "baxis": {
            "gridcolor": "white",
            "linecolor": "white",
            "ticks": ""
           },
           "bgcolor": "#E5ECF6",
           "caxis": {
            "gridcolor": "white",
            "linecolor": "white",
            "ticks": ""
           }
          },
          "title": {
           "x": 0.05
          },
          "xaxis": {
           "automargin": true,
           "gridcolor": "white",
           "linecolor": "white",
           "ticks": "",
           "title": {
            "standoff": 15
           },
           "zerolinecolor": "white",
           "zerolinewidth": 2
          },
          "yaxis": {
           "automargin": true,
           "gridcolor": "white",
           "linecolor": "white",
           "ticks": "",
           "title": {
            "standoff": 15
           },
           "zerolinecolor": "white",
           "zerolinewidth": 2
          }
         }
        },
        "title": {
         "text": "Parallel Coordinate Plot"
        }
       }
      }
     },
     "metadata": {},
     "output_type": "display_data"
    }
   ],
   "source": [
    "optuna.visualization.plot_parallel_coordinate(study)"
   ]
  },
  {
   "cell_type": "code",
   "execution_count": 69,
   "id": "4afa60aa",
   "metadata": {},
   "outputs": [
    {
     "name": "stdout",
     "output_type": "stream",
     "text": [
      "Best trial: {'n_estimators': 144, 'max_depth': 16, 'min_samples_leaf': 8, 'min_samples_split': 8, 'subsample': 0.42660183516459393}\n"
     ]
    },
    {
     "data": {
      "text/plain": [
       "144"
      ]
     },
     "execution_count": 69,
     "metadata": {},
     "output_type": "execute_result"
    }
   ],
   "source": [
    "print(\"Best trial:\", study.best_trial.params)\n",
    "study.best_trial.params[\"n_estimators\"]"
   ]
  },
  {
   "cell_type": "code",
   "execution_count": 70,
   "id": "3b45adad",
   "metadata": {},
   "outputs": [
    {
     "data": {
      "text/html": [
       "<style>#sk-container-id-2 {color: black;background-color: white;}#sk-container-id-2 pre{padding: 0;}#sk-container-id-2 div.sk-toggleable {background-color: white;}#sk-container-id-2 label.sk-toggleable__label {cursor: pointer;display: block;width: 100%;margin-bottom: 0;padding: 0.3em;box-sizing: border-box;text-align: center;}#sk-container-id-2 label.sk-toggleable__label-arrow:before {content: \"▸\";float: left;margin-right: 0.25em;color: #696969;}#sk-container-id-2 label.sk-toggleable__label-arrow:hover:before {color: black;}#sk-container-id-2 div.sk-estimator:hover label.sk-toggleable__label-arrow:before {color: black;}#sk-container-id-2 div.sk-toggleable__content {max-height: 0;max-width: 0;overflow: hidden;text-align: left;background-color: #f0f8ff;}#sk-container-id-2 div.sk-toggleable__content pre {margin: 0.2em;color: black;border-radius: 0.25em;background-color: #f0f8ff;}#sk-container-id-2 input.sk-toggleable__control:checked~div.sk-toggleable__content {max-height: 200px;max-width: 100%;overflow: auto;}#sk-container-id-2 input.sk-toggleable__control:checked~label.sk-toggleable__label-arrow:before {content: \"▾\";}#sk-container-id-2 div.sk-estimator input.sk-toggleable__control:checked~label.sk-toggleable__label {background-color: #d4ebff;}#sk-container-id-2 div.sk-label input.sk-toggleable__control:checked~label.sk-toggleable__label {background-color: #d4ebff;}#sk-container-id-2 input.sk-hidden--visually {border: 0;clip: rect(1px 1px 1px 1px);clip: rect(1px, 1px, 1px, 1px);height: 1px;margin: -1px;overflow: hidden;padding: 0;position: absolute;width: 1px;}#sk-container-id-2 div.sk-estimator {font-family: monospace;background-color: #f0f8ff;border: 1px dotted black;border-radius: 0.25em;box-sizing: border-box;margin-bottom: 0.5em;}#sk-container-id-2 div.sk-estimator:hover {background-color: #d4ebff;}#sk-container-id-2 div.sk-parallel-item::after {content: \"\";width: 100%;border-bottom: 1px solid gray;flex-grow: 1;}#sk-container-id-2 div.sk-label:hover label.sk-toggleable__label {background-color: #d4ebff;}#sk-container-id-2 div.sk-serial::before {content: \"\";position: absolute;border-left: 1px solid gray;box-sizing: border-box;top: 0;bottom: 0;left: 50%;z-index: 0;}#sk-container-id-2 div.sk-serial {display: flex;flex-direction: column;align-items: center;background-color: white;padding-right: 0.2em;padding-left: 0.2em;position: relative;}#sk-container-id-2 div.sk-item {position: relative;z-index: 1;}#sk-container-id-2 div.sk-parallel {display: flex;align-items: stretch;justify-content: center;background-color: white;position: relative;}#sk-container-id-2 div.sk-item::before, #sk-container-id-2 div.sk-parallel-item::before {content: \"\";position: absolute;border-left: 1px solid gray;box-sizing: border-box;top: 0;bottom: 0;left: 50%;z-index: -1;}#sk-container-id-2 div.sk-parallel-item {display: flex;flex-direction: column;z-index: 1;position: relative;background-color: white;}#sk-container-id-2 div.sk-parallel-item:first-child::after {align-self: flex-end;width: 50%;}#sk-container-id-2 div.sk-parallel-item:last-child::after {align-self: flex-start;width: 50%;}#sk-container-id-2 div.sk-parallel-item:only-child::after {width: 0;}#sk-container-id-2 div.sk-dashed-wrapped {border: 1px dashed gray;margin: 0 0.4em 0.5em 0.4em;box-sizing: border-box;padding-bottom: 0.4em;background-color: white;}#sk-container-id-2 div.sk-label label {font-family: monospace;font-weight: bold;display: inline-block;line-height: 1.2em;}#sk-container-id-2 div.sk-label-container {text-align: center;}#sk-container-id-2 div.sk-container {/* jupyter's `normalize.less` sets `[hidden] { display: none; }` but bootstrap.min.css set `[hidden] { display: none !important; }` so we also need the `!important` here to be able to override the default hidden behavior on the sphinx rendered scikit-learn.org. See: https://github.com/scikit-learn/scikit-learn/issues/21755 */display: inline-block !important;position: relative;}#sk-container-id-2 div.sk-text-repr-fallback {display: none;}</style><div id=\"sk-container-id-2\" class=\"sk-top-container\"><div class=\"sk-text-repr-fallback\"><pre>GradientBoostingRegressor(max_depth=16, min_samples_leaf=8, min_samples_split=8,\n",
       "                          n_estimators=144, random_state=42,\n",
       "                          subsample=0.42660183516459393)</pre><b>In a Jupyter environment, please rerun this cell to show the HTML representation or trust the notebook. <br />On GitHub, the HTML representation is unable to render, please try loading this page with nbviewer.org.</b></div><div class=\"sk-container\" hidden><div class=\"sk-item\"><div class=\"sk-estimator sk-toggleable\"><input class=\"sk-toggleable__control sk-hidden--visually\" id=\"sk-estimator-id-2\" type=\"checkbox\" checked><label for=\"sk-estimator-id-2\" class=\"sk-toggleable__label sk-toggleable__label-arrow\">GradientBoostingRegressor</label><div class=\"sk-toggleable__content\"><pre>GradientBoostingRegressor(max_depth=16, min_samples_leaf=8, min_samples_split=8,\n",
       "                          n_estimators=144, random_state=42,\n",
       "                          subsample=0.42660183516459393)</pre></div></div></div></div></div>"
      ],
      "text/plain": [
       "GradientBoostingRegressor(max_depth=16, min_samples_leaf=8, min_samples_split=8,\n",
       "                          n_estimators=144, random_state=42,\n",
       "                          subsample=0.42660183516459393)"
      ]
     },
     "execution_count": 70,
     "metadata": {},
     "output_type": "execute_result"
    }
   ],
   "source": [
    "gb_params = {\n",
    "    \"random_state\": 42,\n",
    "    \"learning_rate\": 0.1,\n",
    "    \"n_estimators\": study.best_trial.params[\"n_estimators\"],\n",
    "    \"max_depth\": study.best_trial.params[\"max_depth\"],\n",
    "    \"min_samples_leaf\": study.best_trial.params[\"min_samples_leaf\"],\n",
    "    \"min_samples_split\": study.best_trial.params[\"min_samples_split\"],\n",
    "    \"subsample\": study.best_trial.params[\"subsample\"]\n",
    "}\n",
    "\n",
    "gb = GradientBoostingRegressor(**gb_params)\n",
    "gb.fit(Cd_X_train, Cd_y_train)"
   ]
  },
  {
   "cell_type": "code",
   "execution_count": 71,
   "id": "9959cba0",
   "metadata": {},
   "outputs": [],
   "source": [
    "# gb_params = {\n",
    "#     \"random_state\": 42,\n",
    "#     \"learning_rate\": 0.1,\n",
    "#     \"n_estimators\": 138,\n",
    "#     \"max_depth\": 2,\n",
    "#     \"min_samples_leaf\": 3,\n",
    "#     \"min_samples_split\": 6,\n",
    "#     \"subsample\": 0.4574655226902498\n",
    "# }\n",
    "\n",
    "# gb = GradientBoostingRegressor(**gb_params)\n",
    "# gb.fit(Cd_X_train, Cd_y_train)"
   ]
  },
  {
   "cell_type": "code",
   "execution_count": 72,
   "id": "9ab1055b",
   "metadata": {},
   "outputs": [],
   "source": [
    "y_train_pred = gb.predict(Cd_X_train)\n",
    "y_test_pred = gb.predict(Cd_X_test)"
   ]
  },
  {
   "cell_type": "code",
   "execution_count": 73,
   "id": "425b4001",
   "metadata": {},
   "outputs": [
    {
     "name": "stdout",
     "output_type": "stream",
     "text": [
      "Train RMSE:  0.03262669712854114\n",
      "Test RMSE:  0.115299603270424\n"
     ]
    }
   ],
   "source": [
    "print(\"Train RMSE: \", np.sqrt(mean_squared_error(Cd_y_train, y_train_pred)))\n",
    "print(\"Test RMSE: \", np.sqrt(mean_squared_error(Cd_y_test, y_test_pred)))"
   ]
  },
  {
   "cell_type": "code",
   "execution_count": 74,
   "id": "0f95ae3c",
   "metadata": {},
   "outputs": [
    {
     "name": "stdout",
     "output_type": "stream",
     "text": [
      "Train R2:  0.9749187679553306\n",
      "Test R2:  0.686410803169911\n"
     ]
    }
   ],
   "source": [
    "print(\"Train R2: \", r2_score(Cd_y_train, y_train_pred))\n",
    "print(\"Test R2: \", r2_score(Cd_y_test, y_test_pred))"
   ]
  },
  {
   "cell_type": "code",
   "execution_count": 75,
   "id": "49f07f23",
   "metadata": {},
   "outputs": [
    {
     "data": {
      "image/png": "[encoded data removed]",
      "text/plain": [
       "<Figure size 432x288 with 1 Axes>"
      ]
     },
     "metadata": {
      "needs_background": "light"
     },
     "output_type": "display_data"
    }
   ],
   "source": [
    "plt.scatter(y_train_pred, np.array(Cd_y_train), color=\"orange\", alpha=0.3)\n",
    "plt.scatter(y_test_pred, np.array(Cd_y_test), color=\"green\", alpha=0.4)\n",
    "plt.axis(\"auto\") # scaled, tight, auto, image, square\n",
    "# plt.xlim([0, 1.5]) \n",
    "# plt.ylim(0, None) \n",
    "plt.xlabel('Predicted Values')\n",
    "plt.ylabel('Actual Values')\n",
    "\n",
    "# Add y=x line\n",
    "plt.plot([0, 0.30], [0, 0.30], color='red', linestyle='-')\n",
    "\n",
    "plt.show()"
   ]
  },
  {
   "cell_type": "code",
   "execution_count": 76,
   "id": "b2991dac",
   "metadata": {},
   "outputs": [],
   "source": [
    "# explainer = shap.KernelExplainer(gb.predict, Cd_X_train)\n",
    "# shap_values = explainer.shap_values(Cd_X_train)\n",
    "\n",
    "# shap.summary_plot(shap_values, Cd_X_train)\n",
    "\n",
    "# shap.force_plot(explainer.expected_value, shap_values[0], Cd_X_train[0])\n",
    "\n",
    "# print(shap_values)"
   ]
  },
  {
   "attachments": {},
   "cell_type": "markdown",
   "id": "74f680ea",
   "metadata": {},
   "source": [
    "Ni"
   ]
  },
  {
   "cell_type": "code",
   "execution_count": 77,
   "id": "de233338",
   "metadata": {},
   "outputs": [
    {
     "name": "stderr",
     "output_type": "stream",
     "text": [
      "\u001b[32m[I 2023-08-17 21:41:38,420]\u001b[0m A new study created in memory with name: gb_parameter_opt\u001b[0m\n",
      "\u001b[32m[I 2023-08-17 21:41:39,951]\u001b[0m Trial 0 finished with value: 0.7497038011893244 and parameters: {'n_estimators': 152, 'max_depth': 17, 'min_samples_leaf': 10, 'min_samples_split': 3, 'subsample': 0.34418243436798257}. Best is trial 0 with value: 0.7497038011893244.\u001b[0m\n",
      "\u001b[32m[I 2023-08-17 21:41:41,316]\u001b[0m Trial 1 finished with value: 0.7435064022378135 and parameters: {'n_estimators': 119, 'max_depth': 7, 'min_samples_leaf': 2, 'min_samples_split': 10, 'subsample': 0.490327589355012}. Best is trial 0 with value: 0.7497038011893244.\u001b[0m\n",
      "\u001b[32m[I 2023-08-17 21:41:41,939]\u001b[0m Trial 2 finished with value: 0.7023977566014196 and parameters: {'n_estimators': 153, 'max_depth': 4, 'min_samples_leaf': 5, 'min_samples_split': 2, 'subsample': 0.21786836688828584}. Best is trial 0 with value: 0.7497038011893244.\u001b[0m\n",
      "\u001b[32m[I 2023-08-17 21:41:44,618]\u001b[0m Trial 3 finished with value: 0.726963042484958 and parameters: {'n_estimators': 137, 'max_depth': 21, 'min_samples_leaf': 1, 'min_samples_split': 6, 'subsample': 0.41868479311394735}. Best is trial 0 with value: 0.7497038011893244.\u001b[0m\n",
      "\u001b[32m[I 2023-08-17 21:41:46,834]\u001b[0m Trial 4 finished with value: 0.7283732119608161 and parameters: {'n_estimators': 172, 'max_depth': 9, 'min_samples_leaf': 2, 'min_samples_split': 6, 'subsample': 0.4577061315297173}. Best is trial 0 with value: 0.7497038011893244.\u001b[0m\n",
      "\u001b[32m[I 2023-08-17 21:41:48,065]\u001b[0m Trial 5 finished with value: 0.7251801241963565 and parameters: {'n_estimators': 183, 'max_depth': 16, 'min_samples_leaf': 10, 'min_samples_split': 3, 'subsample': 0.25354648198396035}. Best is trial 0 with value: 0.7497038011893244.\u001b[0m\n",
      "\u001b[32m[I 2023-08-17 21:41:49,292]\u001b[0m Trial 6 finished with value: 0.7457069220597221 and parameters: {'n_estimators': 120, 'max_depth': 20, 'min_samples_leaf': 10, 'min_samples_split': 5, 'subsample': 0.36185598897823645}. Best is trial 0 with value: 0.7497038011893244.\u001b[0m\n",
      "\u001b[32m[I 2023-08-17 21:41:49,662]\u001b[0m Trial 7 finished with value: 0.4708480670482418 and parameters: {'n_estimators': 133, 'max_depth': 1, 'min_samples_leaf': 9, 'min_samples_split': 6, 'subsample': 0.3758458490219694}. Best is trial 0 with value: 0.7497038011893244.\u001b[0m\n",
      "\u001b[32m[I 2023-08-17 21:41:51,336]\u001b[0m Trial 8 finished with value: 0.7497090654858893 and parameters: {'n_estimators': 170, 'max_depth': 6, 'min_samples_leaf': 1, 'min_samples_split': 5, 'subsample': 0.4615385477009234}. Best is trial 8 with value: 0.7497090654858893.\u001b[0m\n",
      "\u001b[32m[I 2023-08-17 21:41:51,997]\u001b[0m Trial 9 finished with value: 0.6911703680234751 and parameters: {'n_estimators': 118, 'max_depth': 26, 'min_samples_leaf': 4, 'min_samples_split': 7, 'subsample': 0.1616347353581857}. Best is trial 8 with value: 0.7497090654858893.\u001b[0m\n",
      "\u001b[32m[I 2023-08-17 21:41:53,651]\u001b[0m Trial 10 finished with value: 0.7417963366860911 and parameters: {'n_estimators': 198, 'max_depth': 11, 'min_samples_leaf': 7, 'min_samples_split': 9, 'subsample': 0.29043032124248336}. Best is trial 8 with value: 0.7497090654858893.\u001b[0m\n",
      "\u001b[32m[I 2023-08-17 21:41:55,357]\u001b[0m Trial 11 finished with value: 0.7547975069847551 and parameters: {'n_estimators': 159, 'max_depth': 14, 'min_samples_leaf': 7, 'min_samples_split': 4, 'subsample': 0.349016024499477}. Best is trial 11 with value: 0.7547975069847551.\u001b[0m\n",
      "\u001b[32m[I 2023-08-17 21:41:57,573]\u001b[0m Trial 12 finished with value: 0.7438049894815425 and parameters: {'n_estimators': 170, 'max_depth': 12, 'min_samples_leaf': 7, 'min_samples_split': 4, 'subsample': 0.430071914622818}. Best is trial 11 with value: 0.7547975069847551.\u001b[0m\n",
      "\u001b[32m[I 2023-08-17 21:41:58,070]\u001b[0m Trial 13 finished with value: 0.6464121387229149 and parameters: {'n_estimators': 163, 'max_depth': 6, 'min_samples_leaf': 7, 'min_samples_split': 8, 'subsample': 0.10803289728954918}. Best is trial 11 with value: 0.7547975069847551.\u001b[0m\n",
      "\u001b[32m[I 2023-08-17 21:41:59,288]\u001b[0m Trial 14 finished with value: 0.7435943129949727 and parameters: {'n_estimators': 101, 'max_depth': 30, 'min_samples_leaf': 4, 'min_samples_split': 4, 'subsample': 0.3232800455423964}. Best is trial 11 with value: 0.7547975069847551.\u001b[0m\n",
      "\u001b[32m[I 2023-08-17 21:42:01,531]\u001b[0m Trial 15 finished with value: 0.7510314741896112 and parameters: {'n_estimators': 188, 'max_depth': 13, 'min_samples_leaf': 8, 'min_samples_split': 4, 'subsample': 0.39477974674332433}. Best is trial 11 with value: 0.7547975069847551.\u001b[0m\n",
      "\u001b[32m[I 2023-08-17 21:42:03,918]\u001b[0m Trial 16 finished with value: 0.7518995736015199 and parameters: {'n_estimators': 200, 'max_depth': 13, 'min_samples_leaf': 8, 'min_samples_split': 2, 'subsample': 0.3953422249699448}. Best is trial 11 with value: 0.7547975069847551.\u001b[0m\n",
      "\u001b[32m[I 2023-08-17 21:42:05,976]\u001b[0m Trial 17 finished with value: 0.7381927553122292 and parameters: {'n_estimators': 199, 'max_depth': 21, 'min_samples_leaf': 6, 'min_samples_split': 2, 'subsample': 0.3103813865267726}. Best is trial 11 with value: 0.7547975069847551.\u001b[0m\n",
      "\u001b[32m[I 2023-08-17 21:42:08,333]\u001b[0m Trial 18 finished with value: 0.7500954482676742 and parameters: {'n_estimators': 187, 'max_depth': 17, 'min_samples_leaf': 8, 'min_samples_split': 2, 'subsample': 0.3965281847807225}. Best is trial 11 with value: 0.7547975069847551.\u001b[0m\n",
      "\u001b[32m[I 2023-08-17 21:42:09,618]\u001b[0m Trial 19 finished with value: 0.7443238331844043 and parameters: {'n_estimators': 142, 'max_depth': 25, 'min_samples_leaf': 5, 'min_samples_split': 3, 'subsample': 0.26264327138674276}. Best is trial 11 with value: 0.7547975069847551.\u001b[0m\n",
      "\u001b[32m[I 2023-08-17 21:42:10,704]\u001b[0m Trial 20 finished with value: 0.7184629660631945 and parameters: {'n_estimators': 178, 'max_depth': 12, 'min_samples_leaf': 8, 'min_samples_split': 5, 'subsample': 0.2181421807616862}. Best is trial 11 with value: 0.7547975069847551.\u001b[0m\n",
      "\u001b[32m[I 2023-08-17 21:42:13,005]\u001b[0m Trial 21 finished with value: 0.7562967804102791 and parameters: {'n_estimators': 190, 'max_depth': 14, 'min_samples_leaf': 8, 'min_samples_split': 4, 'subsample': 0.39240643310608025}. Best is trial 21 with value: 0.7562967804102791.\u001b[0m\n",
      "\u001b[32m[I 2023-08-17 21:42:14,882]\u001b[0m Trial 22 finished with value: 0.7471714435384923 and parameters: {'n_estimators': 192, 'max_depth': 14, 'min_samples_leaf': 9, 'min_samples_split': 3, 'subsample': 0.3382205379778733}. Best is trial 21 with value: 0.7562967804102791.\u001b[0m\n",
      "\u001b[32m[I 2023-08-17 21:42:16,594]\u001b[0m Trial 23 finished with value: 0.7544595038761154 and parameters: {'n_estimators': 161, 'max_depth': 10, 'min_samples_leaf': 6, 'min_samples_split': 4, 'subsample': 0.3777532463055973}. Best is trial 21 with value: 0.7562967804102791.\u001b[0m\n",
      "\u001b[32m[I 2023-08-17 21:42:18,560]\u001b[0m Trial 24 finished with value: 0.7424410962035604 and parameters: {'n_estimators': 161, 'max_depth': 10, 'min_samples_leaf': 6, 'min_samples_split': 4, 'subsample': 0.4298544354970294}. Best is trial 21 with value: 0.7562967804102791.\u001b[0m\n",
      "\u001b[32m[I 2023-08-17 21:42:20,051]\u001b[0m Trial 25 finished with value: 0.7364758548177243 and parameters: {'n_estimators': 161, 'max_depth': 19, 'min_samples_leaf': 6, 'min_samples_split': 5, 'subsample': 0.28550745984007364}. Best is trial 21 with value: 0.7562967804102791.\u001b[0m\n",
      "\u001b[32m[I 2023-08-17 21:42:21,551]\u001b[0m Trial 26 finished with value: 0.7434394209162383 and parameters: {'n_estimators': 148, 'max_depth': 9, 'min_samples_leaf': 4, 'min_samples_split': 7, 'subsample': 0.3635649346877385}. Best is trial 21 with value: 0.7562967804102791.\u001b[0m\n",
      "\u001b[32m[I 2023-08-17 21:42:24,379]\u001b[0m Trial 27 finished with value: 0.7416185526213478 and parameters: {'n_estimators': 176, 'max_depth': 15, 'min_samples_leaf': 7, 'min_samples_split': 4, 'subsample': 0.48308296044885113}. Best is trial 21 with value: 0.7562967804102791.\u001b[0m\n",
      "\u001b[32m[I 2023-08-17 21:42:25,139]\u001b[0m Trial 28 finished with value: 0.6935391527595377 and parameters: {'n_estimators': 164, 'max_depth': 3, 'min_samples_leaf': 9, 'min_samples_split': 5, 'subsample': 0.33275917293717494}. Best is trial 21 with value: 0.7562967804102791.\u001b[0m\n",
      "\u001b[32m[I 2023-08-17 21:42:27,023]\u001b[0m Trial 29 finished with value: 0.7518763836488047 and parameters: {'n_estimators': 154, 'max_depth': 18, 'min_samples_leaf': 5, 'min_samples_split': 3, 'subsample': 0.3499992061772185}. Best is trial 21 with value: 0.7562967804102791.\u001b[0m\n",
      "\u001b[32m[I 2023-08-17 21:42:28,714]\u001b[0m Trial 30 finished with value: 0.7537020295921096 and parameters: {'n_estimators': 130, 'max_depth': 23, 'min_samples_leaf': 6, 'min_samples_split': 7, 'subsample': 0.37960117876076505}. Best is trial 21 with value: 0.7562967804102791.\u001b[0m\n",
      "\u001b[32m[I 2023-08-17 21:42:30,357]\u001b[0m Trial 31 finished with value: 0.7502984883853454 and parameters: {'n_estimators': 125, 'max_depth': 23, 'min_samples_leaf': 6, 'min_samples_split': 7, 'subsample': 0.37946427328686383}. Best is trial 21 with value: 0.7562967804102791.\u001b[0m\n",
      "\u001b[32m[I 2023-08-17 21:42:32,367]\u001b[0m Trial 32 finished with value: 0.7540595191844894 and parameters: {'n_estimators': 146, 'max_depth': 15, 'min_samples_leaf': 7, 'min_samples_split': 8, 'subsample': 0.4257211124507688}. Best is trial 21 with value: 0.7562967804102791.\u001b[0m\n",
      "\u001b[32m[I 2023-08-17 21:42:34,501]\u001b[0m Trial 33 finished with value: 0.7475746648003666 and parameters: {'n_estimators': 146, 'max_depth': 15, 'min_samples_leaf': 7, 'min_samples_split': 10, 'subsample': 0.4490442973675959}. Best is trial 21 with value: 0.7562967804102791.\u001b[0m\n",
      "\u001b[32m[I 2023-08-17 21:42:36,167]\u001b[0m Trial 34 finished with value: 0.7500032195935995 and parameters: {'n_estimators': 153, 'max_depth': 9, 'min_samples_leaf': 8, 'min_samples_split': 8, 'subsample': 0.41474375411091136}. Best is trial 21 with value: 0.7562967804102791.\u001b[0m\n",
      "\u001b[32m[I 2023-08-17 21:42:37,675]\u001b[0m Trial 35 finished with value: 0.74022146285694 and parameters: {'n_estimators': 140, 'max_depth': 7, 'min_samples_leaf': 9, 'min_samples_split': 9, 'subsample': 0.48431974099834924}. Best is trial 21 with value: 0.7562967804102791.\u001b[0m\n",
      "\u001b[32m[I 2023-08-17 21:42:40,000]\u001b[0m Trial 36 finished with value: 0.7474237757639871 and parameters: {'n_estimators': 155, 'max_depth': 17, 'min_samples_leaf': 7, 'min_samples_split': 6, 'subsample': 0.44577995304371265}. Best is trial 21 with value: 0.7562967804102791.\u001b[0m\n",
      "\u001b[32m[I 2023-08-17 21:42:42,739]\u001b[0m Trial 37 finished with value: 0.7459923847430923 and parameters: {'n_estimators': 180, 'max_depth': 14, 'min_samples_leaf': 3, 'min_samples_split': 3, 'subsample': 0.4157853547295257}. Best is trial 21 with value: 0.7562967804102791.\u001b[0m\n",
      "\u001b[32m[I 2023-08-17 21:42:43,954]\u001b[0m Trial 38 finished with value: 0.7443859595895844 and parameters: {'n_estimators': 145, 'max_depth': 8, 'min_samples_leaf': 10, 'min_samples_split': 9, 'subsample': 0.3506811559327974}. Best is trial 21 with value: 0.7562967804102791.\u001b[0m\n",
      "\u001b[32m[I 2023-08-17 21:42:46,745]\u001b[0m Trial 39 finished with value: 0.7411493919503666 and parameters: {'n_estimators': 166, 'max_depth': 16, 'min_samples_leaf': 5, 'min_samples_split': 6, 'subsample': 0.4704549459035251}. Best is trial 21 with value: 0.7562967804102791.\u001b[0m\n",
      "\u001b[32m[I 2023-08-17 21:42:48,120]\u001b[0m Trial 40 finished with value: 0.7410625431310207 and parameters: {'n_estimators': 157, 'max_depth': 11, 'min_samples_leaf': 8, 'min_samples_split': 4, 'subsample': 0.3082521698539059}. Best is trial 21 with value: 0.7562967804102791.\u001b[0m\n",
      "\u001b[32m[I 2023-08-17 21:42:49,859]\u001b[0m Trial 41 finished with value: 0.7518880452612773 and parameters: {'n_estimators': 131, 'max_depth': 30, 'min_samples_leaf': 6, 'min_samples_split': 8, 'subsample': 0.38211983756333406}. Best is trial 21 with value: 0.7562967804102791.\u001b[0m\n",
      "\u001b[32m[I 2023-08-17 21:42:51,496]\u001b[0m Trial 42 finished with value: 0.7448820735936994 and parameters: {'n_estimators': 129, 'max_depth': 19, 'min_samples_leaf': 5, 'min_samples_split': 7, 'subsample': 0.3596426274111237}. Best is trial 21 with value: 0.7562967804102791.\u001b[0m\n",
      "\u001b[32m[I 2023-08-17 21:42:53,449]\u001b[0m Trial 43 finished with value: 0.7446042040407295 and parameters: {'n_estimators': 136, 'max_depth': 28, 'min_samples_leaf': 6, 'min_samples_split': 7, 'subsample': 0.4066668118978914}. Best is trial 21 with value: 0.7562967804102791.\u001b[0m\n",
      "\u001b[32m[I 2023-08-17 21:42:54,982]\u001b[0m Trial 44 finished with value: 0.7450390890522537 and parameters: {'n_estimators': 112, 'max_depth': 14, 'min_samples_leaf': 7, 'min_samples_split': 8, 'subsample': 0.4347076451084228}. Best is trial 21 with value: 0.7562967804102791.\u001b[0m\n",
      "\u001b[32m[I 2023-08-17 21:42:57,161]\u001b[0m Trial 45 finished with value: 0.7488079483575807 and parameters: {'n_estimators': 173, 'max_depth': 22, 'min_samples_leaf': 7, 'min_samples_split': 6, 'subsample': 0.37845387678447895}. Best is trial 21 with value: 0.7562967804102791.\u001b[0m\n",
      "\u001b[32m[I 2023-08-17 21:42:58,331]\u001b[0m Trial 46 finished with value: 0.7356658048345629 and parameters: {'n_estimators': 124, 'max_depth': 11, 'min_samples_leaf': 6, 'min_samples_split': 5, 'subsample': 0.3210492656212723}. Best is trial 21 with value: 0.7562967804102791.\u001b[0m\n",
      "\u001b[32m[I 2023-08-17 21:42:59,892]\u001b[0m Trial 47 finished with value: 0.7456441196037117 and parameters: {'n_estimators': 136, 'max_depth': 24, 'min_samples_leaf': 8, 'min_samples_split': 4, 'subsample': 0.3654141906086791}. Best is trial 21 with value: 0.7562967804102791.\u001b[0m\n",
      "\u001b[32m[I 2023-08-17 21:43:00,815]\u001b[0m Trial 48 finished with value: 0.7220158346449191 and parameters: {'n_estimators': 142, 'max_depth': 4, 'min_samples_leaf': 7, 'min_samples_split': 8, 'subsample': 0.3972575056864689}. Best is trial 21 with value: 0.7562967804102791.\u001b[0m\n",
      "\u001b[32m[I 2023-08-17 21:43:01,712]\u001b[0m Trial 49 finished with value: 0.7334160939366139 and parameters: {'n_estimators': 114, 'max_depth': 17, 'min_samples_leaf': 9, 'min_samples_split': 5, 'subsample': 0.27875302862427476}. Best is trial 21 with value: 0.7562967804102791.\u001b[0m\n",
      "\u001b[32m[I 2023-08-17 21:43:03,795]\u001b[0m Trial 50 finished with value: 0.7355452401515866 and parameters: {'n_estimators': 149, 'max_depth': 13, 'min_samples_leaf': 5, 'min_samples_split': 7, 'subsample': 0.4293182665409416}. Best is trial 21 with value: 0.7562967804102791.\u001b[0m\n",
      "\u001b[32m[I 2023-08-17 21:43:06,078]\u001b[0m Trial 51 finished with value: 0.7453212292410945 and parameters: {'n_estimators': 197, 'max_depth': 13, 'min_samples_leaf': 8, 'min_samples_split': 2, 'subsample': 0.38485359124876806}. Best is trial 21 with value: 0.7562967804102791.\u001b[0m\n",
      "\u001b[32m[I 2023-08-17 21:43:08,374]\u001b[0m Trial 52 finished with value: 0.7537307538122658 and parameters: {'n_estimators': 193, 'max_depth': 12, 'min_samples_leaf': 8, 'min_samples_split': 2, 'subsample': 0.4023609633719229}. Best is trial 21 with value: 0.7562967804102791.\u001b[0m\n",
      "\u001b[32m[I 2023-08-17 21:43:10,618]\u001b[0m Trial 53 finished with value: 0.7498490134434361 and parameters: {'n_estimators': 190, 'max_depth': 11, 'min_samples_leaf': 7, 'min_samples_split': 3, 'subsample': 0.4077026644849143}. Best is trial 21 with value: 0.7562967804102791.\u001b[0m\n",
      "\u001b[32m[I 2023-08-17 21:43:12,421]\u001b[0m Trial 54 finished with value: 0.7604737746218186 and parameters: {'n_estimators': 185, 'max_depth': 16, 'min_samples_leaf': 9, 'min_samples_split': 2, 'subsample': 0.3312431251547609}. Best is trial 54 with value: 0.7604737746218186.\u001b[0m\n",
      "\u001b[32m[I 2023-08-17 21:43:14,164]\u001b[0m Trial 55 finished with value: 0.7527531360382422 and parameters: {'n_estimators': 184, 'max_depth': 15, 'min_samples_leaf': 9, 'min_samples_split': 2, 'subsample': 0.328015754179749}. Best is trial 54 with value: 0.7604737746218186.\u001b[0m\n",
      "\u001b[32m[I 2023-08-17 21:43:16,087]\u001b[0m Trial 56 finished with value: 0.7501793449570301 and parameters: {'n_estimators': 194, 'max_depth': 16, 'min_samples_leaf': 10, 'min_samples_split': 2, 'subsample': 0.34788408004954735}. Best is trial 54 with value: 0.7604737746218186.\u001b[0m\n",
      "\u001b[32m[I 2023-08-17 21:43:17,729]\u001b[0m Trial 57 finished with value: 0.7391569154022247 and parameters: {'n_estimators': 184, 'max_depth': 12, 'min_samples_leaf': 8, 'min_samples_split': 3, 'subsample': 0.3086368463081084}. Best is trial 54 with value: 0.7604737746218186.\u001b[0m\n",
      "\u001b[32m[I 2023-08-17 21:43:19,826]\u001b[0m Trial 58 finished with value: 0.7438747271343691 and parameters: {'n_estimators': 170, 'max_depth': 10, 'min_samples_leaf': 10, 'min_samples_split': 2, 'subsample': 0.46398684763258896}. Best is trial 54 with value: 0.7604737746218186.\u001b[0m\n",
      "\u001b[32m[I 2023-08-17 21:43:21,012]\u001b[0m Trial 59 finished with value: 0.7252120178485113 and parameters: {'n_estimators': 181, 'max_depth': 18, 'min_samples_leaf': 9, 'min_samples_split': 4, 'subsample': 0.23782285972016082}. Best is trial 54 with value: 0.7604737746218186.\u001b[0m\n",
      "\u001b[32m[I 2023-08-17 21:43:21,775]\u001b[0m Trial 60 finished with value: 0.6975423445990844 and parameters: {'n_estimators': 193, 'max_depth': 20, 'min_samples_leaf': 8, 'min_samples_split': 3, 'subsample': 0.14118847717039462}. Best is trial 54 with value: 0.7604737746218186.\u001b[0m\n",
      "\u001b[32m[I 2023-08-17 21:43:24,159]\u001b[0m Trial 61 finished with value: 0.7529827347965611 and parameters: {'n_estimators': 188, 'max_depth': 27, 'min_samples_leaf': 6, 'min_samples_split': 3, 'subsample': 0.3677346277527636}. Best is trial 54 with value: 0.7604737746218186.\u001b[0m\n",
      "\u001b[32m[I 2023-08-17 21:43:26,304]\u001b[0m Trial 62 finished with value: 0.7548166040335029 and parameters: {'n_estimators': 174, 'max_depth': 14, 'min_samples_leaf': 7, 'min_samples_split': 6, 'subsample': 0.3936668028608131}. Best is trial 54 with value: 0.7604737746218186.\u001b[0m\n",
      "\u001b[32m[I 2023-08-17 21:43:28,379]\u001b[0m Trial 63 finished with value: 0.7448320905165726 and parameters: {'n_estimators': 167, 'max_depth': 13, 'min_samples_leaf': 7, 'min_samples_split': 5, 'subsample': 0.394783001518976}. Best is trial 54 with value: 0.7604737746218186.\u001b[0m\n",
      "\u001b[32m[I 2023-08-17 21:43:30,151]\u001b[0m Trial 64 finished with value: 0.7484943661476983 and parameters: {'n_estimators': 175, 'max_depth': 14, 'min_samples_leaf': 8, 'min_samples_split': 6, 'subsample': 0.33885636248026896}. Best is trial 54 with value: 0.7604737746218186.\u001b[0m\n",
      "\u001b[32m[I 2023-08-17 21:43:32,232]\u001b[0m Trial 65 finished with value: 0.7438232472441746 and parameters: {'n_estimators': 160, 'max_depth': 12, 'min_samples_leaf': 7, 'min_samples_split': 4, 'subsample': 0.4300092898095817}. Best is trial 54 with value: 0.7604737746218186.\u001b[0m\n",
      "\u001b[32m[I 2023-08-17 21:43:34,800]\u001b[0m Trial 66 finished with value: 0.7530660411991091 and parameters: {'n_estimators': 186, 'max_depth': 16, 'min_samples_leaf': 9, 'min_samples_split': 2, 'subsample': 0.4429153683976298}. Best is trial 54 with value: 0.7604737746218186.\u001b[0m\n",
      "\u001b[32m[I 2023-08-17 21:43:37,426]\u001b[0m Trial 67 finished with value: 0.7496766957679638 and parameters: {'n_estimators': 195, 'max_depth': 18, 'min_samples_leaf': 8, 'min_samples_split': 5, 'subsample': 0.4177566849612391}. Best is trial 54 with value: 0.7604737746218186.\u001b[0m\n",
      "\u001b[32m[I 2023-08-17 21:43:39,575]\u001b[0m Trial 68 finished with value: 0.7433644122099066 and parameters: {'n_estimators': 189, 'max_depth': 10, 'min_samples_leaf': 1, 'min_samples_split': 4, 'subsample': 0.3580892567795609}. Best is trial 54 with value: 0.7604737746218186.\u001b[0m\n",
      "\u001b[32m[I 2023-08-17 21:43:41,863]\u001b[0m Trial 69 finished with value: 0.7459124881373616 and parameters: {'n_estimators': 179, 'max_depth': 14, 'min_samples_leaf': 7, 'min_samples_split': 3, 'subsample': 0.4039242595804573}. Best is trial 54 with value: 0.7604737746218186.\u001b[0m\n",
      "\u001b[32m[I 2023-08-17 21:43:43,780]\u001b[0m Trial 70 finished with value: 0.7434135642534716 and parameters: {'n_estimators': 158, 'max_depth': 8, 'min_samples_leaf': 8, 'min_samples_split': 9, 'subsample': 0.49991406185569803}. Best is trial 54 with value: 0.7604737746218186.\u001b[0m\n",
      "\u001b[32m[I 2023-08-17 21:43:45,728]\u001b[0m Trial 71 finished with value: 0.7480054768166593 and parameters: {'n_estimators': 151, 'max_depth': 15, 'min_samples_leaf': 6, 'min_samples_split': 6, 'subsample': 0.38752230232300844}. Best is trial 54 with value: 0.7604737746218186.\u001b[0m\n",
      "\u001b[32m[I 2023-08-17 21:43:47,661]\u001b[0m Trial 72 finished with value: 0.7542869720456753 and parameters: {'n_estimators': 169, 'max_depth': 12, 'min_samples_leaf': 6, 'min_samples_split': 8, 'subsample': 0.3731083268692723}. Best is trial 54 with value: 0.7604737746218186.\u001b[0m\n",
      "\u001b[32m[I 2023-08-17 21:43:49,729]\u001b[0m Trial 73 finished with value: 0.7341814906868922 and parameters: {'n_estimators': 167, 'max_depth': 12, 'min_samples_leaf': 2, 'min_samples_split': 8, 'subsample': 0.3679885299073547}. Best is trial 54 with value: 0.7604737746218186.\u001b[0m\n",
      "\u001b[32m[I 2023-08-17 21:43:51,102]\u001b[0m Trial 74 finished with value: 0.7400228256371366 and parameters: {'n_estimators': 172, 'max_depth': 9, 'min_samples_leaf': 7, 'min_samples_split': 9, 'subsample': 0.29680229224133275}. Best is trial 54 with value: 0.7604737746218186.\u001b[0m\n",
      "\u001b[32m[I 2023-08-17 21:43:52,927]\u001b[0m Trial 75 finished with value: 0.7527008220642628 and parameters: {'n_estimators': 162, 'max_depth': 15, 'min_samples_leaf': 6, 'min_samples_split': 4, 'subsample': 0.3450378882195953}. Best is trial 54 with value: 0.7604737746218186.\u001b[0m\n",
      "\u001b[32m[I 2023-08-17 21:43:54,618]\u001b[0m Trial 76 finished with value: 0.7398774558616135 and parameters: {'n_estimators': 177, 'max_depth': 13, 'min_samples_leaf': 7, 'min_samples_split': 10, 'subsample': 0.31616074331000876}. Best is trial 54 with value: 0.7604737746218186.\u001b[0m\n",
      "\u001b[32m[I 2023-08-17 21:43:56,553]\u001b[0m Trial 77 finished with value: 0.7531672028872558 and parameters: {'n_estimators': 169, 'max_depth': 10, 'min_samples_leaf': 4, 'min_samples_split': 2, 'subsample': 0.38929295966497135}. Best is trial 54 with value: 0.7604737746218186.\u001b[0m\n",
      "\u001b[32m[I 2023-08-17 21:43:58,276]\u001b[0m Trial 78 finished with value: 0.7528743959260848 and parameters: {'n_estimators': 182, 'max_depth': 14, 'min_samples_leaf': 9, 'min_samples_split': 8, 'subsample': 0.3304337600930888}. Best is trial 54 with value: 0.7604737746218186.\u001b[0m\n",
      "\u001b[32m[I 2023-08-17 21:44:00,142]\u001b[0m Trial 79 finished with value: 0.7559574405157787 and parameters: {'n_estimators': 164, 'max_depth': 12, 'min_samples_leaf': 6, 'min_samples_split': 5, 'subsample': 0.3720199486693038}. Best is trial 54 with value: 0.7604737746218186.\u001b[0m\n",
      "\u001b[32m[I 2023-08-17 21:44:02,220]\u001b[0m Trial 80 finished with value: 0.7465825642075501 and parameters: {'n_estimators': 158, 'max_depth': 17, 'min_samples_leaf': 5, 'min_samples_split': 5, 'subsample': 0.37390921448151093}. Best is trial 54 with value: 0.7604737746218186.\u001b[0m\n",
      "\u001b[32m[I 2023-08-17 21:44:03,940]\u001b[0m Trial 81 finished with value: 0.7583766259026912 and parameters: {'n_estimators': 163, 'max_depth': 11, 'min_samples_leaf': 6, 'min_samples_split': 6, 'subsample': 0.3581457040396456}. Best is trial 54 with value: 0.7604737746218186.\u001b[0m\n",
      "\u001b[32m[I 2023-08-17 21:44:05,654]\u001b[0m Trial 82 finished with value: 0.7503558152597186 and parameters: {'n_estimators': 164, 'max_depth': 11, 'min_samples_leaf': 6, 'min_samples_split': 6, 'subsample': 0.3550506388957804}. Best is trial 54 with value: 0.7604737746218186.\u001b[0m\n",
      "\u001b[32m[I 2023-08-17 21:44:07,817]\u001b[0m Trial 83 finished with value: 0.7544492522627662 and parameters: {'n_estimators': 174, 'max_depth': 16, 'min_samples_leaf': 6, 'min_samples_split': 6, 'subsample': 0.373779787951286}. Best is trial 54 with value: 0.7604737746218186.\u001b[0m\n",
      "\u001b[32m[I 2023-08-17 21:44:09,858]\u001b[0m Trial 84 finished with value: 0.7436789273163802 and parameters: {'n_estimators': 174, 'max_depth': 16, 'min_samples_leaf': 5, 'min_samples_split': 6, 'subsample': 0.33842560301179775}. Best is trial 54 with value: 0.7604737746218186.\u001b[0m\n",
      "\u001b[32m[I 2023-08-17 21:44:11,230]\u001b[0m Trial 85 finished with value: 0.7466766255259814 and parameters: {'n_estimators': 165, 'max_depth': 7, 'min_samples_leaf': 6, 'min_samples_split': 5, 'subsample': 0.3561917268295526}. Best is trial 54 with value: 0.7604737746218186.\u001b[0m\n",
      "\u001b[32m[I 2023-08-17 21:44:13,223]\u001b[0m Trial 86 finished with value: 0.7550337361259364 and parameters: {'n_estimators': 168, 'max_depth': 13, 'min_samples_leaf': 6, 'min_samples_split': 6, 'subsample': 0.37315207725619914}. Best is trial 54 with value: 0.7604737746218186.\u001b[0m\n",
      "\u001b[32m[I 2023-08-17 21:44:14,797]\u001b[0m Trial 87 finished with value: 0.7414118233584677 and parameters: {'n_estimators': 155, 'max_depth': 9, 'min_samples_leaf': 5, 'min_samples_split': 6, 'subsample': 0.37255479387852347}. Best is trial 54 with value: 0.7604737746218186.\u001b[0m\n",
      "\u001b[32m[I 2023-08-17 21:44:16,799]\u001b[0m Trial 88 finished with value: 0.7506004779786503 and parameters: {'n_estimators': 161, 'max_depth': 13, 'min_samples_leaf': 6, 'min_samples_split': 6, 'subsample': 0.3876799949345782}. Best is trial 54 with value: 0.7604737746218186.\u001b[0m\n",
      "\u001b[32m[I 2023-08-17 21:44:18,764]\u001b[0m Trial 89 finished with value: 0.7517740998727758 and parameters: {'n_estimators': 163, 'max_depth': 17, 'min_samples_leaf': 5, 'min_samples_split': 5, 'subsample': 0.34442040647089367}. Best is trial 54 with value: 0.7604737746218186.\u001b[0m\n",
      "\u001b[32m[I 2023-08-17 21:44:20,763]\u001b[0m Trial 90 finished with value: 0.7502390110338119 and parameters: {'n_estimators': 172, 'max_depth': 14, 'min_samples_leaf': 6, 'min_samples_split': 7, 'subsample': 0.3642279375975265}. Best is trial 54 with value: 0.7604737746218186.\u001b[0m\n",
      "\u001b[32m[I 2023-08-17 21:44:22,667]\u001b[0m Trial 91 finished with value: 0.7503268093667603 and parameters: {'n_estimators': 170, 'max_depth': 11, 'min_samples_leaf': 6, 'min_samples_split': 6, 'subsample': 0.3770745637334708}. Best is trial 54 with value: 0.7604737746218186.\u001b[0m\n",
      "\u001b[32m[I 2023-08-17 21:44:24,772]\u001b[0m Trial 92 finished with value: 0.7474807252094186 and parameters: {'n_estimators': 168, 'max_depth': 12, 'min_samples_leaf': 6, 'min_samples_split': 7, 'subsample': 0.40895452002014027}. Best is trial 54 with value: 0.7604737746218186.\u001b[0m\n",
      "\u001b[32m[I 2023-08-17 21:44:26,376]\u001b[0m Trial 93 finished with value: 0.7405910485096622 and parameters: {'n_estimators': 176, 'max_depth': 10, 'min_samples_leaf': 6, 'min_samples_split': 5, 'subsample': 0.32147994876457986}. Best is trial 54 with value: 0.7604737746218186.\u001b[0m\n",
      "\u001b[32m[I 2023-08-17 21:44:28,123]\u001b[0m Trial 94 finished with value: 0.7541447529844286 and parameters: {'n_estimators': 159, 'max_depth': 15, 'min_samples_leaf': 7, 'min_samples_split': 6, 'subsample': 0.3503913635742884}. Best is trial 54 with value: 0.7604737746218186.\u001b[0m\n",
      "\u001b[32m[I 2023-08-17 21:44:30,207]\u001b[0m Trial 95 finished with value: 0.7499940296515522 and parameters: {'n_estimators': 163, 'max_depth': 13, 'min_samples_leaf': 5, 'min_samples_split': 6, 'subsample': 0.39386198584406684}. Best is trial 54 with value: 0.7604737746218186.\u001b[0m\n",
      "\u001b[32m[I 2023-08-17 21:44:32,166]\u001b[0m Trial 96 finished with value: 0.7540994121645722 and parameters: {'n_estimators': 178, 'max_depth': 11, 'min_samples_leaf': 6, 'min_samples_split': 4, 'subsample': 0.37211788872944906}. Best is trial 54 with value: 0.7604737746218186.\u001b[0m\n",
      "\u001b[32m[I 2023-08-17 21:44:34,149]\u001b[0m Trial 97 finished with value: 0.7505878891354185 and parameters: {'n_estimators': 166, 'max_depth': 14, 'min_samples_leaf': 7, 'min_samples_split': 5, 'subsample': 0.38216239491480336}. Best is trial 54 with value: 0.7604737746218186.\u001b[0m\n",
      "\u001b[32m[I 2023-08-17 21:44:36,382]\u001b[0m Trial 98 finished with value: 0.7426091862764721 and parameters: {'n_estimators': 156, 'max_depth': 16, 'min_samples_leaf': 6, 'min_samples_split': 5, 'subsample': 0.4217988698466858}. Best is trial 54 with value: 0.7604737746218186.\u001b[0m\n",
      "\u001b[32m[I 2023-08-17 21:44:37,715]\u001b[0m Trial 99 finished with value: 0.7547864857412254 and parameters: {'n_estimators': 152, 'max_depth': 8, 'min_samples_leaf': 5, 'min_samples_split': 7, 'subsample': 0.33564894308810667}. Best is trial 54 with value: 0.7604737746218186.\u001b[0m\n"
     ]
    },
    {
     "name": "stdout",
     "output_type": "stream",
     "text": [
      "Best r2:  0.7604737746218186\n",
      "Best trial: {'n_estimators': 185, 'max_depth': 16, 'min_samples_leaf': 9, 'min_samples_split': 2, 'subsample': 0.3312431251547609}\n"
     ]
    }
   ],
   "source": [
    "sampler = TPESampler()\n",
    "study = optuna.create_study(\n",
    "    study_name=\"gb_parameter_opt\",\n",
    "    direction=\"maximize\",\n",
    "    sampler=sampler,\n",
    ")\n",
    "\n",
    "study.optimize(lambda trial : objectiveGB(trial, Ni_X_train, Ni_y_train), n_trials=100)\n",
    "print(\"Best r2: \", study.best_value)\n",
    "print(\"Best trial:\", study.best_trial.params)"
   ]
  },
  {
   "cell_type": "code",
   "execution_count": 78,
   "id": "d71c01fb",
   "metadata": {},
   "outputs": [
    {
     "data": {
      "application/vnd.plotly.v1+json": {
       "config": {
        "plotlyServerURL": "https://plot.ly"
       },
       "data": [
        {
         "dimensions": [
          {
           "label": "Objective Value",
           "range": [
            0.4708480670482418,
            0.7604737746218186
           ],
           "values": [
            0.7497038011893244,
            0.7435064022378135,
            0.7023977566014196,
            0.726963042484958,
            0.7283732119608161,
            0.7251801241963565,
            0.7457069220597221,
            0.4708480670482418,
            0.7497090654858893,
            0.6911703680234751,
            0.7417963366860911,
            0.7547975069847551,
            0.7438049894815425,
            0.6464121387229149,
            0.7435943129949727,
            0.7510314741896112,
            0.7518995736015199,
            0.7381927553122292,
            0.7500954482676742,
            0.7443238331844043,
            0.7184629660631945,
            0.7562967804102791,
            0.7471714435384923,
            0.7544595038761154,
            0.7424410962035604,
            0.7364758548177243,
            0.7434394209162383,
            0.7416185526213478,
            0.6935391527595377,
            0.7518763836488047,
            0.7537020295921096,
            0.7502984883853454,
            0.7540595191844894,
            0.7475746648003666,
            0.7500032195935995,
            0.74022146285694,
            0.7474237757639871,
            0.7459923847430923,
            0.7443859595895844,
            0.7411493919503666,
            0.7410625431310207,
            0.7518880452612773,
            0.7448820735936994,
            0.7446042040407295,
            0.7450390890522537,
            0.7488079483575807,
            0.7356658048345629,
            0.7456441196037117,
            0.7220158346449191,
            0.7334160939366139,
            0.7355452401515866,
            0.7453212292410945,
            0.7537307538122658,
            0.7498490134434361,
            0.7604737746218186,
            0.7527531360382422,
            0.7501793449570301,
            0.7391569154022247,
            0.7438747271343691,
            0.7252120178485113,
            0.6975423445990844,
            0.7529827347965611,
            0.7548166040335029,
            0.7448320905165726,
            0.7484943661476983,
            0.7438232472441746,
            0.7530660411991091,
            0.7496766957679638,
            0.7433644122099066,
            0.7459124881373616,
            0.7434135642534716,
            0.7480054768166593,
            0.7542869720456753,
            0.7341814906868922,
            0.7400228256371366,
            0.7527008220642628,
            0.7398774558616135,
            0.7531672028872558,
            0.7528743959260848,
            0.7559574405157787,
            0.7465825642075501,
            0.7583766259026912,
            0.7503558152597186,
            0.7544492522627662,
            0.7436789273163802,
            0.7466766255259814,
            0.7550337361259364,
            0.7414118233584677,
            0.7506004779786503,
            0.7517740998727758,
            0.7502390110338119,
            0.7503268093667603,
            0.7474807252094186,
            0.7405910485096622,
            0.7541447529844286,
            0.7499940296515522,
            0.7540994121645722,
            0.7505878891354185,
            0.7426091862764721,
            0.7547864857412254
           ]
          },
          {
           "label": "max_depth",
           "range": [
            1,
            30
           ],
           "values": [
            17,
            7,
            4,
            21,
            9,
            16,
            20,
            1,
            6,
            26,
            11,
            14,
            12,
            6,
            30,
            13,
            13,
            21,
            17,
            25,
            12,
            14,
            14,
            10,
            10,
            19,
            9,
            15,
            3,
            18,
            23,
            23,
            15,
            15,
            9,
            7,
            17,
            14,
            8,
            16,
            11,
            30,
            19,
            28,
            14,
            22,
            11,
            24,
            4,
            17,
            13,
            13,
            12,
            11,
            16,
            15,
            16,
            12,
            10,
            18,
            20,
            27,
            14,
            13,
            14,
            12,
            16,
            18,
            10,
            14,
            8,
            15,
            12,
            12,
            9,
            15,
            13,
            10,
            14,
            12,
            17,
            11,
            11,
            16,
            16,
            7,
            13,
            9,
            13,
            17,
            14,
            11,
            12,
            10,
            15,
            13,
            11,
            14,
            16,
            8
           ]
          },
          {
           "label": "min_samples_leaf",
           "range": [
            1,
            10
           ],
           "values": [
            10,
            2,
            5,
            1,
            2,
            10,
            10,
            9,
            1,
            4,
            7,
            7,
            7,
            7,
            4,
            8,
            8,
            6,
            8,
            5,
            8,
            8,
            9,
            6,
            6,
            6,
            4,
            7,
            9,
            5,
            6,
            6,
            7,
            7,
            8,
            9,
            7,
            3,
            10,
            5,
            8,
            6,
            5,
            6,
            7,
            7,
            6,
            8,
            7,
            9,
            5,
            8,
            8,
            7,
            9,
            9,
            10,
            8,
            10,
            9,
            8,
            6,
            7,
            7,
            8,
            7,
            9,
            8,
            1,
            7,
            8,
            6,
            6,
            2,
            7,
            6,
            7,
            4,
            9,
            6,
            5,
            6,
            6,
            6,
            5,
            6,
            6,
            5,
            6,
            5,
            6,
            6,
            6,
            6,
            7,
            5,
            6,
            7,
            6,
            5
           ]
          },
          {
           "label": "min_samples_split",
           "range": [
            2,
            10
           ],
           "values": [
            3,
            10,
            2,
            6,
            6,
            3,
            5,
            6,
            5,
            7,
            9,
            4,
            4,
            8,
            4,
            4,
            2,
            2,
            2,
            3,
            5,
            4,
            3,
            4,
            4,
            5,
            7,
            4,
            5,
            3,
            7,
            7,
            8,
            10,
            8,
            9,
            6,
            3,
            9,
            6,
            4,
            8,
            7,
            7,
            8,
            6,
            5,
            4,
            8,
            5,
            7,
            2,
            2,
            3,
            2,
            2,
            2,
            3,
            2,
            4,
            3,
            3,
            6,
            5,
            6,
            4,
            2,
            5,
            4,
            3,
            9,
            6,
            8,
            8,
            9,
            4,
            10,
            2,
            8,
            5,
            5,
            6,
            6,
            6,
            6,
            5,
            6,
            6,
            6,
            5,
            7,
            6,
            7,
            5,
            6,
            6,
            4,
            5,
            5,
            7
           ]
          },
          {
           "label": "n_estimators",
           "range": [
            101,
            200
           ],
           "values": [
            152,
            119,
            153,
            137,
            172,
            183,
            120,
            133,
            170,
            118,
            198,
            159,
            170,
            163,
            101,
            188,
            200,
            199,
            187,
            142,
            178,
            190,
            192,
            161,
            161,
            161,
            148,
            176,
            164,
            154,
            130,
            125,
            146,
            146,
            153,
            140,
            155,
            180,
            145,
            166,
            157,
            131,
            129,
            136,
            112,
            173,
            124,
            136,
            142,
            114,
            149,
            197,
            193,
            190,
            185,
            184,
            194,
            184,
            170,
            181,
            193,
            188,
            174,
            167,
            175,
            160,
            186,
            195,
            189,
            179,
            158,
            151,
            169,
            167,
            172,
            162,
            177,
            169,
            182,
            164,
            158,
            163,
            164,
            174,
            174,
            165,
            168,
            155,
            161,
            163,
            172,
            170,
            168,
            176,
            159,
            163,
            178,
            166,
            156,
            152
           ]
          },
          {
           "label": "subsample",
           "range": [
            0.10803289728954918,
            0.49991406185569803
           ],
           "values": [
            0.34418243436798257,
            0.490327589355012,
            0.21786836688828584,
            0.41868479311394735,
            0.4577061315297173,
            0.25354648198396035,
            0.36185598897823645,
            0.3758458490219694,
            0.4615385477009234,
            0.1616347353581857,
            0.29043032124248336,
            0.349016024499477,
            0.430071914622818,
            0.10803289728954918,
            0.3232800455423964,
            0.39477974674332433,
            0.3953422249699448,
            0.3103813865267726,
            0.3965281847807225,
            0.26264327138674276,
            0.2181421807616862,
            0.39240643310608025,
            0.3382205379778733,
            0.3777532463055973,
            0.4298544354970294,
            0.28550745984007364,
            0.3635649346877385,
            0.48308296044885113,
            0.33275917293717494,
            0.3499992061772185,
            0.37960117876076505,
            0.37946427328686383,
            0.4257211124507688,
            0.4490442973675959,
            0.41474375411091136,
            0.48431974099834924,
            0.44577995304371265,
            0.4157853547295257,
            0.3506811559327974,
            0.4704549459035251,
            0.3082521698539059,
            0.38211983756333406,
            0.3596426274111237,
            0.4066668118978914,
            0.4347076451084228,
            0.37845387678447895,
            0.3210492656212723,
            0.3654141906086791,
            0.3972575056864689,
            0.27875302862427476,
            0.4293182665409416,
            0.38485359124876806,
            0.4023609633719229,
            0.4077026644849143,
            0.3312431251547609,
            0.328015754179749,
            0.34788408004954735,
            0.3086368463081084,
            0.46398684763258896,
            0.23782285972016082,
            0.14118847717039462,
            0.3677346277527636,
            0.3936668028608131,
            0.394783001518976,
            0.33885636248026896,
            0.4300092898095817,
            0.4429153683976298,
            0.4177566849612391,
            0.3580892567795609,
            0.4039242595804573,
            0.49991406185569803,
            0.38752230232300844,
            0.3731083268692723,
            0.3679885299073547,
            0.29680229224133275,
            0.3450378882195953,
            0.31616074331000876,
            0.38929295966497135,
            0.3304337600930888,
            0.3720199486693038,
            0.37390921448151093,
            0.3581457040396456,
            0.3550506388957804,
            0.373779787951286,
            0.33842560301179775,
            0.3561917268295526,
            0.37315207725619914,
            0.37255479387852347,
            0.3876799949345782,
            0.34442040647089367,
            0.3642279375975265,
            0.3770745637334708,
            0.40895452002014027,
            0.32147994876457986,
            0.3503913635742884,
            0.39386198584406684,
            0.37211788872944906,
            0.38216239491480336,
            0.4217988698466858,
            0.33564894308810667
           ]
          }
         ],
         "labelangle": 30,
         "labelside": "bottom",
         "line": {
          "color": [
           0.7497038011893244,
           0.7435064022378135,
           0.7023977566014196,
           0.726963042484958,
           0.7283732119608161,
           0.7251801241963565,
           0.7457069220597221,
           0.4708480670482418,
           0.7497090654858893,
           0.6911703680234751,
           0.7417963366860911,
           0.7547975069847551,
           0.7438049894815425,
           0.6464121387229149,
           0.7435943129949727,
           0.7510314741896112,
           0.7518995736015199,
           0.7381927553122292,
           0.7500954482676742,
           0.7443238331844043,
           0.7184629660631945,
           0.7562967804102791,
           0.7471714435384923,
           0.7544595038761154,
           0.7424410962035604,
           0.7364758548177243,
           0.7434394209162383,
           0.7416185526213478,
           0.6935391527595377,
           0.7518763836488047,
           0.7537020295921096,
           0.7502984883853454,
           0.7540595191844894,
           0.7475746648003666,
           0.7500032195935995,
           0.74022146285694,
           0.7474237757639871,
           0.7459923847430923,
           0.7443859595895844,
           0.7411493919503666,
           0.7410625431310207,
           0.7518880452612773,
           0.7448820735936994,
           0.7446042040407295,
           0.7450390890522537,
           0.7488079483575807,
           0.7356658048345629,
           0.7456441196037117,
           0.7220158346449191,
           0.7334160939366139,
           0.7355452401515866,
           0.7453212292410945,
           0.7537307538122658,
           0.7498490134434361,
           0.7604737746218186,
           0.7527531360382422,
           0.7501793449570301,
           0.7391569154022247,
           0.7438747271343691,
           0.7252120178485113,
           0.6975423445990844,
           0.7529827347965611,
           0.7548166040335029,
           0.7448320905165726,
           0.7484943661476983,
           0.7438232472441746,
           0.7530660411991091,
           0.7496766957679638,
           0.7433644122099066,
           0.7459124881373616,
           0.7434135642534716,
           0.7480054768166593,
           0.7542869720456753,
           0.7341814906868922,
           0.7400228256371366,
           0.7527008220642628,
           0.7398774558616135,
           0.7531672028872558,
           0.7528743959260848,
           0.7559574405157787,
           0.7465825642075501,
           0.7583766259026912,
           0.7503558152597186,
           0.7544492522627662,
           0.7436789273163802,
           0.7466766255259814,
           0.7550337361259364,
           0.7414118233584677,
           0.7506004779786503,
           0.7517740998727758,
           0.7502390110338119,
           0.7503268093667603,
           0.7474807252094186,
           0.7405910485096622,
           0.7541447529844286,
           0.7499940296515522,
           0.7540994121645722,
           0.7505878891354185,
           0.7426091862764721,
           0.7547864857412254
          ],
          "colorbar": {
           "title": {
            "text": "Objective Value"
           }
          },
          "colorscale": [
           [
            0,
            "rgb(247,251,255)"
           ],
           [
            0.125,
            "rgb(222,235,247)"
           ],
           [
            0.25,
            "rgb(198,219,239)"
           ],
           [
            0.375,
            "rgb(158,202,225)"
           ],
           [
            0.5,
            "rgb(107,174,214)"
           ],
           [
            0.625,
            "rgb(66,146,198)"
           ],
           [
            0.75,
            "rgb(33,113,181)"
           ],
           [
            0.875,
            "rgb(8,81,156)"
           ],
           [
            1,
            "rgb(8,48,107)"
           ]
          ],
          "reversescale": false,
          "showscale": true
         },
         "type": "parcoords"
        }
       ],
       "layout": {
        "template": {
         "data": {
          "bar": [
           {
            "error_x": {
             "color": "#2a3f5f"
            },
            "error_y": {
             "color": "#2a3f5f"
            },
            "marker": {
             "line": {
              "color": "#E5ECF6",
              "width": 0.5
             },
             "pattern": {
              "fillmode": "overlay",
              "size": 10,
              "solidity": 0.2
             }
            },
            "type": "bar"
           }
          ],
          "barpolar": [
           {
            "marker": {
             "line": {
              "color": "#E5ECF6",
              "width": 0.5
             },
             "pattern": {
              "fillmode": "overlay",
              "size": 10,
              "solidity": 0.2
             }
            },
            "type": "barpolar"
           }
          ],
          "carpet": [
           {
            "aaxis": {
             "endlinecolor": "#2a3f5f",
             "gridcolor": "white",
             "linecolor": "white",
             "minorgridcolor": "white",
             "startlinecolor": "#2a3f5f"
            },
            "baxis": {
             "endlinecolor": "#2a3f5f",
             "gridcolor": "white",
             "linecolor": "white",
             "minorgridcolor": "white",
             "startlinecolor": "#2a3f5f"
            },
            "type": "carpet"
           }
          ],
          "choropleth": [
           {
            "colorbar": {
             "outlinewidth": 0,
             "ticks": ""
            },
            "type": "choropleth"
           }
          ],
          "contour": [
           {
            "colorbar": {
             "outlinewidth": 0,
             "ticks": ""
            },
            "colorscale": [
             [
              0,
              "#0d0887"
             ],
             [
              0.1111111111111111,
              "#46039f"
             ],
             [
              0.2222222222222222,
              "#7201a8"
             ],
             [
              0.3333333333333333,
              "#9c179e"
             ],
             [
              0.4444444444444444,
              "#bd3786"
             ],
             [
              0.5555555555555556,
              "#d8576b"
             ],
             [
              0.6666666666666666,
              "#ed7953"
             ],
             [
              0.7777777777777778,
              "#fb9f3a"
             ],
             [
              0.8888888888888888,
              "#fdca26"
             ],
             [
              1,
              "#f0f921"
             ]
            ],
            "type": "contour"
           }
          ],
          "contourcarpet": [
           {
            "colorbar": {
             "outlinewidth": 0,
             "ticks": ""
            },
            "type": "contourcarpet"
           }
          ],
          "heatmap": [
           {
            "colorbar": {
             "outlinewidth": 0,
             "ticks": ""
            },
            "colorscale": [
             [
              0,
              "#0d0887"
             ],
             [
              0.1111111111111111,
              "#46039f"
             ],
             [
              0.2222222222222222,
              "#7201a8"
             ],
             [
              0.3333333333333333,
              "#9c179e"
             ],
             [
              0.4444444444444444,
              "#bd3786"
             ],
             [
              0.5555555555555556,
              "#d8576b"
             ],
             [
              0.6666666666666666,
              "#ed7953"
             ],
             [
              0.7777777777777778,
              "#fb9f3a"
             ],
             [
              0.8888888888888888,
              "#fdca26"
             ],
             [
              1,
              "#f0f921"
             ]
            ],
            "type": "heatmap"
           }
          ],
          "heatmapgl": [
           {
            "colorbar": {
             "outlinewidth": 0,
             "ticks": ""
            },
            "colorscale": [
             [
              0,
              "#0d0887"
             ],
             [
              0.1111111111111111,
              "#46039f"
             ],
             [
              0.2222222222222222,
              "#7201a8"
             ],
             [
              0.3333333333333333,
              "#9c179e"
             ],
             [
              0.4444444444444444,
              "#bd3786"
             ],
             [
              0.5555555555555556,
              "#d8576b"
             ],
             [
              0.6666666666666666,
              "#ed7953"
             ],
             [
              0.7777777777777778,
              "#fb9f3a"
             ],
             [
              0.8888888888888888,
              "#fdca26"
             ],
             [
              1,
              "#f0f921"
             ]
            ],
            "type": "heatmapgl"
           }
          ],
          "histogram": [
           {
            "marker": {
             "pattern": {
              "fillmode": "overlay",
              "size": 10,
              "solidity": 0.2
             }
            },
            "type": "histogram"
           }
          ],
          "histogram2d": [
           {
            "colorbar": {
             "outlinewidth": 0,
             "ticks": ""
            },
            "colorscale": [
             [
              0,
              "#0d0887"
             ],
             [
              0.1111111111111111,
              "#46039f"
             ],
             [
              0.2222222222222222,
              "#7201a8"
             ],
             [
              0.3333333333333333,
              "#9c179e"
             ],
             [
              0.4444444444444444,
              "#bd3786"
             ],
             [
              0.5555555555555556,
              "#d8576b"
             ],
             [
              0.6666666666666666,
              "#ed7953"
             ],
             [
              0.7777777777777778,
              "#fb9f3a"
             ],
             [
              0.8888888888888888,
              "#fdca26"
             ],
             [
              1,
              "#f0f921"
             ]
            ],
            "type": "histogram2d"
           }
          ],
          "histogram2dcontour": [
           {
            "colorbar": {
             "outlinewidth": 0,
             "ticks": ""
            },
            "colorscale": [
             [
              0,
              "#0d0887"
             ],
             [
              0.1111111111111111,
              "#46039f"
             ],
             [
              0.2222222222222222,
              "#7201a8"
             ],
             [
              0.3333333333333333,
              "#9c179e"
             ],
             [
              0.4444444444444444,
              "#bd3786"
             ],
             [
              0.5555555555555556,
              "#d8576b"
             ],
             [
              0.6666666666666666,
              "#ed7953"
             ],
             [
              0.7777777777777778,
              "#fb9f3a"
             ],
             [
              0.8888888888888888,
              "#fdca26"
             ],
             [
              1,
              "#f0f921"
             ]
            ],
            "type": "histogram2dcontour"
           }
          ],
          "mesh3d": [
           {
            "colorbar": {
             "outlinewidth": 0,
             "ticks": ""
            },
            "type": "mesh3d"
           }
          ],
          "parcoords": [
           {
            "line": {
             "colorbar": {
              "outlinewidth": 0,
              "ticks": ""
             }
            },
            "type": "parcoords"
           }
          ],
          "pie": [
           {
            "automargin": true,
            "type": "pie"
           }
          ],
          "scatter": [
           {
            "marker": {
             "colorbar": {
              "outlinewidth": 0,
              "ticks": ""
             }
            },
            "type": "scatter"
           }
          ],
          "scatter3d": [
           {
            "line": {
             "colorbar": {
              "outlinewidth": 0,
              "ticks": ""
             }
            },
            "marker": {
             "colorbar": {
              "outlinewidth": 0,
              "ticks": ""
             }
            },
            "type": "scatter3d"
           }
          ],
          "scattercarpet": [
           {
            "marker": {
             "colorbar": {
              "outlinewidth": 0,
              "ticks": ""
             }
            },
            "type": "scattercarpet"
           }
          ],
          "scattergeo": [
           {
            "marker": {
             "colorbar": {
              "outlinewidth": 0,
              "ticks": ""
             }
            },
            "type": "scattergeo"
           }
          ],
          "scattergl": [
           {
            "marker": {
             "colorbar": {
              "outlinewidth": 0,
              "ticks": ""
             }
            },
            "type": "scattergl"
           }
          ],
          "scattermapbox": [
           {
            "marker": {
             "colorbar": {
              "outlinewidth": 0,
              "ticks": ""
             }
            },
            "type": "scattermapbox"
           }
          ],
          "scatterpolar": [
           {
            "marker": {
             "colorbar": {
              "outlinewidth": 0,
              "ticks": ""
             }
            },
            "type": "scatterpolar"
           }
          ],
          "scatterpolargl": [
           {
            "marker": {
             "colorbar": {
              "outlinewidth": 0,
              "ticks": ""
             }
            },
            "type": "scatterpolargl"
           }
          ],
          "scatterternary": [
           {
            "marker": {
             "colorbar": {
              "outlinewidth": 0,
              "ticks": ""
             }
            },
            "type": "scatterternary"
           }
          ],
          "surface": [
           {
            "colorbar": {
             "outlinewidth": 0,
             "ticks": ""
            },
            "colorscale": [
             [
              0,
              "#0d0887"
             ],
             [
              0.1111111111111111,
              "#46039f"
             ],
             [
              0.2222222222222222,
              "#7201a8"
             ],
             [
              0.3333333333333333,
              "#9c179e"
             ],
             [
              0.4444444444444444,
              "#bd3786"
             ],
             [
              0.5555555555555556,
              "#d8576b"
             ],
             [
              0.6666666666666666,
              "#ed7953"
             ],
             [
              0.7777777777777778,
              "#fb9f3a"
             ],
             [
              0.8888888888888888,
              "#fdca26"
             ],
             [
              1,
              "#f0f921"
             ]
            ],
            "type": "surface"
           }
          ],
          "table": [
           {
            "cells": {
             "fill": {
              "color": "#EBF0F8"
             },
             "line": {
              "color": "white"
             }
            },
            "header": {
             "fill": {
              "color": "#C8D4E3"
             },
             "line": {
              "color": "white"
             }
            },
            "type": "table"
           }
          ]
         },
         "layout": {
          "annotationdefaults": {
           "arrowcolor": "#2a3f5f",
           "arrowhead": 0,
           "arrowwidth": 1
          },
          "autotypenumbers": "strict",
          "coloraxis": {
           "colorbar": {
            "outlinewidth": 0,
            "ticks": ""
           }
          },
          "colorscale": {
           "diverging": [
            [
             0,
             "#8e0152"
            ],
            [
             0.1,
             "#c51b7d"
            ],
            [
             0.2,
             "#de77ae"
            ],
            [
             0.3,
             "#f1b6da"
            ],
            [
             0.4,
             "#fde0ef"
            ],
            [
             0.5,
             "#f7f7f7"
            ],
            [
             0.6,
             "#e6f5d0"
            ],
            [
             0.7,
             "#b8e186"
            ],
            [
             0.8,
             "#7fbc41"
            ],
            [
             0.9,
             "#4d9221"
            ],
            [
             1,
             "#276419"
            ]
           ],
           "sequential": [
            [
             0,
             "#0d0887"
            ],
            [
             0.1111111111111111,
             "#46039f"
            ],
            [
             0.2222222222222222,
             "#7201a8"
            ],
            [
             0.3333333333333333,
             "#9c179e"
            ],
            [
             0.4444444444444444,
             "#bd3786"
            ],
            [
             0.5555555555555556,
             "#d8576b"
            ],
            [
             0.6666666666666666,
             "#ed7953"
            ],
            [
             0.7777777777777778,
             "#fb9f3a"
            ],
            [
             0.8888888888888888,
             "#fdca26"
            ],
            [
             1,
             "#f0f921"
            ]
           ],
           "sequentialminus": [
            [
             0,
             "#0d0887"
            ],
            [
             0.1111111111111111,
             "#46039f"
            ],
            [
             0.2222222222222222,
             "#7201a8"
            ],
            [
             0.3333333333333333,
             "#9c179e"
            ],
            [
             0.4444444444444444,
             "#bd3786"
            ],
            [
             0.5555555555555556,
             "#d8576b"
            ],
            [
             0.6666666666666666,
             "#ed7953"
            ],
            [
             0.7777777777777778,
             "#fb9f3a"
            ],
            [
             0.8888888888888888,
             "#fdca26"
            ],
            [
             1,
             "#f0f921"
            ]
           ]
          },
          "colorway": [
           "#636efa",
           "#EF553B",
           "#00cc96",
           "#ab63fa",
           "#FFA15A",
           "#19d3f3",
           "#FF6692",
           "#B6E880",
           "#FF97FF",
           "#FECB52"
          ],
          "font": {
           "color": "#2a3f5f"
          },
          "geo": {
           "bgcolor": "white",
           "lakecolor": "white",
           "landcolor": "#E5ECF6",
           "showlakes": true,
           "showland": true,
           "subunitcolor": "white"
          },
          "hoverlabel": {
           "align": "left"
          },
          "hovermode": "closest",
          "mapbox": {
           "style": "light"
          },
          "paper_bgcolor": "white",
          "plot_bgcolor": "#E5ECF6",
          "polar": {
           "angularaxis": {
            "gridcolor": "white",
            "linecolor": "white",
            "ticks": ""
           },
           "bgcolor": "#E5ECF6",
           "radialaxis": {
            "gridcolor": "white",
            "linecolor": "white",
            "ticks": ""
           }
          },
          "scene": {
           "xaxis": {
            "backgroundcolor": "#E5ECF6",
            "gridcolor": "white",
            "gridwidth": 2,
            "linecolor": "white",
            "showbackground": true,
            "ticks": "",
            "zerolinecolor": "white"
           },
           "yaxis": {
            "backgroundcolor": "#E5ECF6",
            "gridcolor": "white",
            "gridwidth": 2,
            "linecolor": "white",
            "showbackground": true,
            "ticks": "",
            "zerolinecolor": "white"
           },
           "zaxis": {
            "backgroundcolor": "#E5ECF6",
            "gridcolor": "white",
            "gridwidth": 2,
            "linecolor": "white",
            "showbackground": true,
            "ticks": "",
            "zerolinecolor": "white"
           }
          },
          "shapedefaults": {
           "line": {
            "color": "#2a3f5f"
           }
          },
          "ternary": {
           "aaxis": {
            "gridcolor": "white",
            "linecolor": "white",
            "ticks": ""
           },
           "baxis": {
            "gridcolor": "white",
            "linecolor": "white",
            "ticks": ""
           },
           "bgcolor": "#E5ECF6",
           "caxis": {
            "gridcolor": "white",
            "linecolor": "white",
            "ticks": ""
           }
          },
          "title": {
           "x": 0.05
          },
          "xaxis": {
           "automargin": true,
           "gridcolor": "white",
           "linecolor": "white",
           "ticks": "",
           "title": {
            "standoff": 15
           },
           "zerolinecolor": "white",
           "zerolinewidth": 2
          },
          "yaxis": {
           "automargin": true,
           "gridcolor": "white",
           "linecolor": "white",
           "ticks": "",
           "title": {
            "standoff": 15
           },
           "zerolinecolor": "white",
           "zerolinewidth": 2
          }
         }
        },
        "title": {
         "text": "Parallel Coordinate Plot"
        }
       }
      }
     },
     "metadata": {},
     "output_type": "display_data"
    }
   ],
   "source": [
    "optuna.visualization.plot_parallel_coordinate(study)"
   ]
  },
  {
   "cell_type": "code",
   "execution_count": 79,
   "id": "1d419df8",
   "metadata": {},
   "outputs": [
    {
     "name": "stdout",
     "output_type": "stream",
     "text": [
      "Best trial: {'n_estimators': 185, 'max_depth': 16, 'min_samples_leaf': 9, 'min_samples_split': 2, 'subsample': 0.3312431251547609}\n"
     ]
    },
    {
     "data": {
      "text/plain": [
       "185"
      ]
     },
     "execution_count": 79,
     "metadata": {},
     "output_type": "execute_result"
    }
   ],
   "source": [
    "print(\"Best trial:\", study.best_trial.params)\n",
    "study.best_trial.params[\"n_estimators\"]"
   ]
  },
  {
   "cell_type": "code",
   "execution_count": 80,
   "id": "ffefef6c",
   "metadata": {},
   "outputs": [
    {
     "data": {
      "text/html": [
       "<style>#sk-container-id-3 {color: black;background-color: white;}#sk-container-id-3 pre{padding: 0;}#sk-container-id-3 div.sk-toggleable {background-color: white;}#sk-container-id-3 label.sk-toggleable__label {cursor: pointer;display: block;width: 100%;margin-bottom: 0;padding: 0.3em;box-sizing: border-box;text-align: center;}#sk-container-id-3 label.sk-toggleable__label-arrow:before {content: \"▸\";float: left;margin-right: 0.25em;color: #696969;}#sk-container-id-3 label.sk-toggleable__label-arrow:hover:before {color: black;}#sk-container-id-3 div.sk-estimator:hover label.sk-toggleable__label-arrow:before {color: black;}#sk-container-id-3 div.sk-toggleable__content {max-height: 0;max-width: 0;overflow: hidden;text-align: left;background-color: #f0f8ff;}#sk-container-id-3 div.sk-toggleable__content pre {margin: 0.2em;color: black;border-radius: 0.25em;background-color: #f0f8ff;}#sk-container-id-3 input.sk-toggleable__control:checked~div.sk-toggleable__content {max-height: 200px;max-width: 100%;overflow: auto;}#sk-container-id-3 input.sk-toggleable__control:checked~label.sk-toggleable__label-arrow:before {content: \"▾\";}#sk-container-id-3 div.sk-estimator input.sk-toggleable__control:checked~label.sk-toggleable__label {background-color: #d4ebff;}#sk-container-id-3 div.sk-label input.sk-toggleable__control:checked~label.sk-toggleable__label {background-color: #d4ebff;}#sk-container-id-3 input.sk-hidden--visually {border: 0;clip: rect(1px 1px 1px 1px);clip: rect(1px, 1px, 1px, 1px);height: 1px;margin: -1px;overflow: hidden;padding: 0;position: absolute;width: 1px;}#sk-container-id-3 div.sk-estimator {font-family: monospace;background-color: #f0f8ff;border: 1px dotted black;border-radius: 0.25em;box-sizing: border-box;margin-bottom: 0.5em;}#sk-container-id-3 div.sk-estimator:hover {background-color: #d4ebff;}#sk-container-id-3 div.sk-parallel-item::after {content: \"\";width: 100%;border-bottom: 1px solid gray;flex-grow: 1;}#sk-container-id-3 div.sk-label:hover label.sk-toggleable__label {background-color: #d4ebff;}#sk-container-id-3 div.sk-serial::before {content: \"\";position: absolute;border-left: 1px solid gray;box-sizing: border-box;top: 0;bottom: 0;left: 50%;z-index: 0;}#sk-container-id-3 div.sk-serial {display: flex;flex-direction: column;align-items: center;background-color: white;padding-right: 0.2em;padding-left: 0.2em;position: relative;}#sk-container-id-3 div.sk-item {position: relative;z-index: 1;}#sk-container-id-3 div.sk-parallel {display: flex;align-items: stretch;justify-content: center;background-color: white;position: relative;}#sk-container-id-3 div.sk-item::before, #sk-container-id-3 div.sk-parallel-item::before {content: \"\";position: absolute;border-left: 1px solid gray;box-sizing: border-box;top: 0;bottom: 0;left: 50%;z-index: -1;}#sk-container-id-3 div.sk-parallel-item {display: flex;flex-direction: column;z-index: 1;position: relative;background-color: white;}#sk-container-id-3 div.sk-parallel-item:first-child::after {align-self: flex-end;width: 50%;}#sk-container-id-3 div.sk-parallel-item:last-child::after {align-self: flex-start;width: 50%;}#sk-container-id-3 div.sk-parallel-item:only-child::after {width: 0;}#sk-container-id-3 div.sk-dashed-wrapped {border: 1px dashed gray;margin: 0 0.4em 0.5em 0.4em;box-sizing: border-box;padding-bottom: 0.4em;background-color: white;}#sk-container-id-3 div.sk-label label {font-family: monospace;font-weight: bold;display: inline-block;line-height: 1.2em;}#sk-container-id-3 div.sk-label-container {text-align: center;}#sk-container-id-3 div.sk-container {/* jupyter's `normalize.less` sets `[hidden] { display: none; }` but bootstrap.min.css set `[hidden] { display: none !important; }` so we also need the `!important` here to be able to override the default hidden behavior on the sphinx rendered scikit-learn.org. See: https://github.com/scikit-learn/scikit-learn/issues/21755 */display: inline-block !important;position: relative;}#sk-container-id-3 div.sk-text-repr-fallback {display: none;}</style><div id=\"sk-container-id-3\" class=\"sk-top-container\"><div class=\"sk-text-repr-fallback\"><pre>GradientBoostingRegressor(max_depth=16, min_samples_leaf=9, n_estimators=185,\n",
       "                          random_state=42, subsample=0.3312431251547609)</pre><b>In a Jupyter environment, please rerun this cell to show the HTML representation or trust the notebook. <br />On GitHub, the HTML representation is unable to render, please try loading this page with nbviewer.org.</b></div><div class=\"sk-container\" hidden><div class=\"sk-item\"><div class=\"sk-estimator sk-toggleable\"><input class=\"sk-toggleable__control sk-hidden--visually\" id=\"sk-estimator-id-3\" type=\"checkbox\" checked><label for=\"sk-estimator-id-3\" class=\"sk-toggleable__label sk-toggleable__label-arrow\">GradientBoostingRegressor</label><div class=\"sk-toggleable__content\"><pre>GradientBoostingRegressor(max_depth=16, min_samples_leaf=9, n_estimators=185,\n",
       "                          random_state=42, subsample=0.3312431251547609)</pre></div></div></div></div></div>"
      ],
      "text/plain": [
       "GradientBoostingRegressor(max_depth=16, min_samples_leaf=9, n_estimators=185,\n",
       "                          random_state=42, subsample=0.3312431251547609)"
      ]
     },
     "execution_count": 80,
     "metadata": {},
     "output_type": "execute_result"
    }
   ],
   "source": [
    "gb_params = {\n",
    "    \"random_state\": 42,\n",
    "    \"learning_rate\": 0.1,\n",
    "    \"n_estimators\": study.best_trial.params[\"n_estimators\"],\n",
    "    \"max_depth\": study.best_trial.params[\"max_depth\"],\n",
    "    \"min_samples_leaf\": study.best_trial.params[\"min_samples_leaf\"],\n",
    "    \"min_samples_split\": study.best_trial.params[\"min_samples_split\"],\n",
    "    \"subsample\": study.best_trial.params[\"subsample\"]\n",
    "}\n",
    "\n",
    "gb = GradientBoostingRegressor(**gb_params)\n",
    "gb.fit(Ni_X_train, Ni_y_train)"
   ]
  },
  {
   "cell_type": "code",
   "execution_count": 81,
   "id": "417e128a",
   "metadata": {},
   "outputs": [],
   "source": [
    "# gb_params = {\n",
    "#     \"random_state\": 42,\n",
    "#     \"learning_rate\": 0.1,\n",
    "#     \"n_estimators\": 181,\n",
    "#     \"max_depth\": 28,\n",
    "#     \"min_samples_leaf\": 7,\n",
    "#     \"min_samples_split\": 7,\n",
    "#     \"subsample\": 0.4946447123833718\n",
    "# }\n",
    "\n",
    "# gb = GradientBoostingRegressor(**gb_params)\n",
    "# gb.fit(Ni_X_train, Ni_y_train)"
   ]
  },
  {
   "cell_type": "code",
   "execution_count": 82,
   "id": "4c1a69d2",
   "metadata": {},
   "outputs": [],
   "source": [
    "y_train_pred = gb.predict(Ni_X_train)\n",
    "y_test_pred = gb.predict(Ni_X_test)"
   ]
  },
  {
   "cell_type": "code",
   "execution_count": 83,
   "id": "0f707a20",
   "metadata": {},
   "outputs": [
    {
     "name": "stdout",
     "output_type": "stream",
     "text": [
      "Train RMSE:  0.19029950608262708\n",
      "Test RMSE:  0.6022954209290023\n"
     ]
    }
   ],
   "source": [
    "print(\"Train RMSE: \", np.sqrt(mean_squared_error(Ni_y_train, y_train_pred)))\n",
    "print(\"Test RMSE: \", np.sqrt(mean_squared_error(Ni_y_test, y_test_pred)))"
   ]
  },
  {
   "cell_type": "code",
   "execution_count": 84,
   "id": "641d78f4",
   "metadata": {},
   "outputs": [
    {
     "name": "stdout",
     "output_type": "stream",
     "text": [
      "Train R2:  0.9757641767060837\n",
      "Test R2:  0.7391953912779796\n"
     ]
    }
   ],
   "source": [
    "print(\"Train R2: \", r2_score(Ni_y_train, y_train_pred))\n",
    "print(\"Test R2: \", r2_score(Ni_y_test, y_test_pred))"
   ]
  },
  {
   "cell_type": "code",
   "execution_count": 85,
   "id": "dd1670cb",
   "metadata": {},
   "outputs": [
    {
     "data": {
      "image/png": "[encoded data removed]",
      "text/plain": [
       "<Figure size 432x288 with 1 Axes>"
      ]
     },
     "metadata": {
      "needs_background": "light"
     },
     "output_type": "display_data"
    }
   ],
   "source": [
    "plt.scatter(y_train_pred, np.array(Ni_y_train), color=\"orange\", alpha=0.3)\n",
    "plt.scatter(y_test_pred, np.array(Ni_y_test), color=\"green\", alpha=0.4)\n",
    "plt.axis(\"auto\")\n",
    "# plt.xlim([0, 1.5]) \n",
    "# plt.ylim(0, None) \n",
    "plt.xlabel('Predicted Values')\n",
    "plt.ylabel('Actual Values')\n",
    "\n",
    "# Add trendline\n",
    "# z = np.polyfit(y_train_pred, As_y_train, 1)\n",
    "# p = np.poly1d(z)\n",
    "# plt.plot(y_train_pred, p(y_train_pred), color='red', linestyle='-')\n",
    "\n",
    "# Add y=x line\n",
    "plt.plot([0, 4.5], [0, 4.5], color='red', linestyle='-')\n",
    "\n",
    "plt.show()"
   ]
  }
 ],
 "metadata": {
  "kernelspec": {
   "display_name": "Python 3",
   "language": "python",
   "name": "python3"
  },
  "language_info": {
   "codemirror_mode": {
    "name": "ipython",
    "version": 3
   },
   "file_extension": ".py",
   "mimetype": "text/x-python",
   "name": "python",
   "nbconvert_exporter": "python",
   "pygments_lexer": "ipython3",
   "version": "3.8.11"
  }
 },
 "nbformat": 4,
 "nbformat_minor": 5
}
