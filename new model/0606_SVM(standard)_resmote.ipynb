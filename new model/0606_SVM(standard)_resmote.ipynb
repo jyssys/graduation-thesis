{
 "cells": [
  {
   "attachments": {},
   "cell_type": "markdown",
   "id": "451911be",
   "metadata": {},
   "source": [
    "#### Library import"
   ]
  },
  {
   "cell_type": "code",
   "execution_count": 1,
   "id": "8a394942",
   "metadata": {},
   "outputs": [],
   "source": [
    "import os\n",
    "import pandas as pd\n",
    "import numpy as np\n",
    "import matplotlib.pyplot as plt\n",
    "%matplotlib inline\n",
    "import seaborn as sns\n",
    "import tensorflow as tf\n",
    "import missingno as msno\n",
    "\n",
    "import warnings\n",
    "warnings.filterwarnings('ignore')\n",
    "\n",
    "from sklearn.model_selection import train_test_split\n",
    "from sklearn.model_selection import GridSearchCV\n",
    "from sklearn.metrics import mean_squared_error, r2_score\n",
    "from sklearn.preprocessing import StandardScaler, MinMaxScaler, RobustScaler\n",
    "from sklearn.ensemble import RandomForestRegressor, GradientBoostingRegressor, ExtraTreesRegressor\n",
    "from sklearn.model_selection import KFold\n",
    "from lightgbm import LGBMRegressor\n",
    "from xgboost import XGBRegressor\n",
    "from ngboost import NGBRegressor\n",
    "from scipy.stats import norm, skew\n",
    "\n",
    "from matplotlib.ticker import FormatStrFormatter\n",
    "\n",
    "from tensorflow import keras\n",
    "\n",
    "import re\n",
    "from tqdm import tqdm"
   ]
  },
  {
   "attachments": {},
   "cell_type": "markdown",
   "id": "31a13d68",
   "metadata": {},
   "source": [
    "#### GPU setting"
   ]
  },
  {
   "cell_type": "code",
   "execution_count": 2,
   "id": "cd001f36",
   "metadata": {},
   "outputs": [],
   "source": [
    "from tensorflow.compat.v1 import ConfigProto\n",
    "from tensorflow.compat.v1 import InteractiveSession"
   ]
  },
  {
   "cell_type": "code",
   "execution_count": 3,
   "id": "2aa07618",
   "metadata": {},
   "outputs": [],
   "source": [
    "config = ConfigProto()\n",
    "config.gpu_options.per_process_gpu_memory_fraction = 0.4\n",
    "session = InteractiveSession(config = config)"
   ]
  },
  {
   "cell_type": "code",
   "execution_count": 4,
   "id": "2a6c1daf",
   "metadata": {},
   "outputs": [
    {
     "name": "stdout",
     "output_type": "stream",
     "text": [
      "[name: \"/device:CPU:0\"\n",
      "device_type: \"CPU\"\n",
      "memory_limit: 268435456\n",
      "locality {\n",
      "}\n",
      "incarnation: 9515686909086312126\n",
      ", name: \"/device:GPU:0\"\n",
      "device_type: \"GPU\"\n",
      "memory_limit: 3435973836\n",
      "locality {\n",
      "  bus_id: 1\n",
      "  links {\n",
      "  }\n",
      "}\n",
      "incarnation: 3831907529483384064\n",
      "physical_device_desc: \"device: 0, name: NVIDIA GeForce RTX 3060 Ti, pci bus id: 0000:07:00.0, compute capability: 8.6\"\n",
      "]\n"
     ]
    }
   ],
   "source": [
    "physical_devices = tf.config.list_physical_devices('GPU')\n",
    "physical_devices\n",
    "\n",
    "from tensorflow.python.client import device_lib\n",
    "\n",
    "print(device_lib.list_local_devices())"
   ]
  },
  {
   "cell_type": "code",
   "execution_count": 5,
   "id": "1c58374d",
   "metadata": {},
   "outputs": [],
   "source": [
    "import os\n",
    "\n",
    "os.environ[\"CUDA_VISIBLE_DEVICES\"]=\"0\"\n",
    "gpus = tf.config.experimental.list_physical_devices('GPU')\n",
    "if gpus:\n",
    "    try:\n",
    "        tf.config.experimental.set_memory_growth(gpus[0], True)\n",
    "    except RuntimeError as e:\n",
    "        print(e)"
   ]
  },
  {
   "attachments": {},
   "cell_type": "markdown",
   "id": "cb740f81",
   "metadata": {},
   "source": [
    "#### Data import and preprocessing"
   ]
  },
  {
   "cell_type": "code",
   "execution_count": 6,
   "id": "9288345d",
   "metadata": {
    "scrolled": true
   },
   "outputs": [
    {
     "data": {
      "text/plain": [
       "Index(['OBJECTID_x', 'ID', 'pH', 'As', 'Cd', 'Ni', 'Pb', 'Zn', 'Hg', 'slope',\n",
       "       'altitude', 'profile_curve', 'profile_c_num', 'profile_c_abs',\n",
       "       'planform_curve', 'planform_c_num', 'planform_c_abs', 'HYDGRP',\n",
       "       'HYDGRP_A', 'HYDGRP_B', 'HYDGRP_C', 'HYDGRP_D', 'ANION_EXCL', 'SOL_CRK',\n",
       "       'SOL_K1', 'CLAY1', 'SILT1', 'SAND1', 'ROCK1', 'SOL_EC1', 'distance'],\n",
       "      dtype='object')"
      ]
     },
     "execution_count": 6,
     "metadata": {},
     "output_type": "execute_result"
    }
   ],
   "source": [
    "data = pd.read_csv(\"data/data.csv\")\n",
    "data.columns"
   ]
  },
  {
   "cell_type": "code",
   "execution_count": 7,
   "id": "bbf87a23",
   "metadata": {},
   "outputs": [
    {
     "data": {
      "text/plain": [
       "Index(['pH', 'As', 'Cd', 'Ni', 'Pb', 'Zn', 'Hg', 'slope', 'altitude',\n",
       "       'profile_curve', 'planform_curve', 'HYDGRP_A', 'HYDGRP_B', 'HYDGRP_C',\n",
       "       'HYDGRP_D', 'SOL_K1', 'CLAY1', 'SILT1', 'SAND1', 'ROCK1', 'distance'],\n",
       "      dtype='object')"
      ]
     },
     "execution_count": 7,
     "metadata": {},
     "output_type": "execute_result"
    }
   ],
   "source": [
    "data = data.drop(['OBJECTID_x','ID','HYDGRP','profile_c_num', 'profile_c_abs','planform_c_num', 'planform_c_abs','ANION_EXCL','SOL_CRK','SOL_EC1'], axis = 1)\n",
    "data.columns"
   ]
  },
  {
   "cell_type": "code",
   "execution_count": 8,
   "id": "2dc33c24",
   "metadata": {},
   "outputs": [],
   "source": [
    "As = data\n",
    "Cd = data\n",
    "Ni = data"
   ]
  },
  {
   "cell_type": "code",
   "execution_count": 9,
   "id": "85f4f13d",
   "metadata": {},
   "outputs": [],
   "source": [
    "As = As.drop([\"Cd\", \"Ni\", \"Pb\", \"Zn\", \"Hg\"], axis = 1)\n",
    "Cd = Cd.drop([\"As\", \"Ni\", \"Pb\", \"Zn\", \"Hg\"], axis = 1)\n",
    "Ni = Ni.drop([\"As\", \"Cd\", \"Pb\", \"Zn\", \"Hg\"], axis = 1)"
   ]
  },
  {
   "cell_type": "code",
   "execution_count": 10,
   "id": "ded0a3ab",
   "metadata": {},
   "outputs": [
    {
     "name": "stdout",
     "output_type": "stream",
     "text": [
      "(1458, 16)\n",
      "(1458, 16)\n",
      "(1458, 16)\n"
     ]
    }
   ],
   "source": [
    "print(As.shape)\n",
    "print(Cd.shape)\n",
    "print(Ni.shape)"
   ]
  },
  {
   "attachments": {},
   "cell_type": "markdown",
   "id": "ed72a9b1",
   "metadata": {},
   "source": [
    "#### Eliminate outlier and train / test split"
   ]
  },
  {
   "cell_type": "code",
   "execution_count": 11,
   "id": "43604a42",
   "metadata": {},
   "outputs": [],
   "source": [
    "def eli_outlier(data, value):\n",
    "    q1 = data[value].quantile(0.25)\n",
    "    q3 = data[value].quantile(0.75)\n",
    "\n",
    "    iqr = q3 - q1\n",
    "\n",
    "    q1_condition = data[value] < q1-1.5*iqr\n",
    "    q3_condition = data[value] > q3+1.5*iqr\n",
    "\n",
    "    reset_q1_index = data[q1_condition].index\n",
    "    reset_q3_index = data[q3_condition].index\n",
    "\n",
    "    data.drop(reset_q1_index, inplace = True)\n",
    "    data.drop(reset_q3_index, inplace = True)\n",
    "\n",
    "    return data"
   ]
  },
  {
   "cell_type": "code",
   "execution_count": 12,
   "id": "9b7632f2",
   "metadata": {},
   "outputs": [],
   "source": [
    "As = eli_outlier(As, \"As\")\n",
    "Cd = eli_outlier(Cd, \"Cd\")\n",
    "Ni = eli_outlier(Ni, \"Ni\")"
   ]
  },
  {
   "cell_type": "code",
   "execution_count": 13,
   "id": "45ec138e",
   "metadata": {},
   "outputs": [],
   "source": [
    "As_X = As.drop([\"As\"], axis=1)\n",
    "Cd_X = Cd.drop([\"Cd\"], axis=1)\n",
    "Ni_X = Ni.drop([\"Ni\"], axis=1)\n",
    "\n",
    "As_y = As[\"As\"]\n",
    "Cd_y = Cd[\"Cd\"]\n",
    "Ni_y = Ni[\"Ni\"]"
   ]
  },
  {
   "cell_type": "code",
   "execution_count": 14,
   "id": "6463b1c2",
   "metadata": {},
   "outputs": [],
   "source": [
    "#As_y = np.log1p(As[\"As\"])\n",
    "#Cd_y = np.log1p(Cd[\"Cd\"])\n",
    "#Ni_y = np.log1p(Ni[\"Ni\"])"
   ]
  },
  {
   "cell_type": "code",
   "execution_count": 15,
   "id": "fb94ff27",
   "metadata": {},
   "outputs": [
    {
     "name": "stdout",
     "output_type": "stream",
     "text": [
      "(1288, 15)\n",
      "(1271, 15)\n",
      "(1424, 15)\n"
     ]
    }
   ],
   "source": [
    "print(As_X.shape)\n",
    "print(Cd_X.shape)\n",
    "print(Ni_X.shape)"
   ]
  },
  {
   "attachments": {},
   "cell_type": "markdown",
   "id": "c92e5bb6",
   "metadata": {},
   "source": [
    "StandardScaler"
   ]
  },
  {
   "cell_type": "code",
   "execution_count": 16,
   "id": "a82f8786",
   "metadata": {},
   "outputs": [],
   "source": [
    "from sklearn.preprocessing import StandardScaler\n",
    "\n",
    "scaler = StandardScaler()\n",
    "\n",
    "As_X_train, As_X_test, As_y_train, As_y_test = train_test_split(As_X, As_y, test_size=0.2, random_state=42)\n",
    "Cd_X_train, Cd_X_test, Cd_y_train, Cd_y_test = train_test_split(Cd_X, Cd_y, test_size=0.2, random_state=42)\n",
    "Ni_X_train, Ni_X_test, Ni_y_train, Ni_y_test = train_test_split(Ni_X, Ni_y, test_size=0.2, random_state=42)\n",
    "\n",
    "As_X_train = scaler.fit_transform(As_X_train)\n",
    "As_X_test = scaler.fit_transform(As_X_test)\n",
    "\n",
    "Cd_X_train = scaler.fit_transform(Cd_X_train)\n",
    "Cd_X_test = scaler.fit_transform(Cd_X_test)\n",
    "\n",
    "Ni_X_train = scaler.fit_transform(Ni_X_train)\n",
    "Ni_X_test = scaler.fit_transform(Ni_X_test)"
   ]
  },
  {
   "cell_type": "code",
   "execution_count": 17,
   "id": "f176c0e7",
   "metadata": {},
   "outputs": [],
   "source": [
    "As_train_re_X = pd.DataFrame(As_X_train, columns = ['pH','slope','altitude','profile_curve','planform_curve',\n",
    "                                               'HYDGRP_A','HYDGRP_B','HYDGRP_C','HYDGRP_D','SOL_K1','CLAY1','SILT1','SAND1','ROCK1','distance'])\n",
    "\n",
    "Cd_train_re_X = pd.DataFrame(Cd_X_train, columns = ['pH','slope','altitude','profile_curve','planform_curve',\n",
    "                                               'HYDGRP_A','HYDGRP_B','HYDGRP_C','HYDGRP_D','SOL_K1','CLAY1','SILT1','SAND1','ROCK1','distance'])\n",
    "\n",
    "Ni_train_re_X = pd.DataFrame(Ni_X_train, columns = ['pH','slope','altitude','profile_curve','planform_curve',\n",
    "                                               'HYDGRP_A','HYDGRP_B','HYDGRP_C','HYDGRP_D','SOL_K1','CLAY1','SILT1','SAND1','ROCK1','distance'])"
   ]
  },
  {
   "cell_type": "code",
   "execution_count": 18,
   "id": "8f121790",
   "metadata": {},
   "outputs": [],
   "source": [
    "As_y_train = As_y_train.reset_index(drop = True)\n",
    "Cd_y_train = Cd_y_train.reset_index(drop = True)\n",
    "Ni_y_train = Ni_y_train.reset_index(drop = True)"
   ]
  },
  {
   "cell_type": "code",
   "execution_count": 19,
   "id": "06908619",
   "metadata": {},
   "outputs": [],
   "source": [
    "As_train_re = pd.concat([As_train_re_X, As_y_train], axis=1)\n",
    "Cd_train_re = pd.concat([Cd_train_re_X, Cd_y_train], axis=1)\n",
    "Ni_train_re = pd.concat([Ni_train_re_X, Ni_y_train], axis=1)"
   ]
  },
  {
   "cell_type": "markdown",
   "id": "264f9936",
   "metadata": {},
   "source": [
    "#### Oversampling by SMOGN (SMOTE Regression)"
   ]
  },
  {
   "cell_type": "code",
   "execution_count": 20,
   "id": "161f7c68",
   "metadata": {},
   "outputs": [],
   "source": [
    "import smogn"
   ]
  },
  {
   "cell_type": "code",
   "execution_count": 21,
   "id": "eb63b7d7",
   "metadata": {},
   "outputs": [
    {
     "name": "stderr",
     "output_type": "stream",
     "text": [
      "dist_matrix:   1%|          | 2/248 [00:00<00:20, 11.97it/s]"
     ]
    },
    {
     "name": "stderr",
     "output_type": "stream",
     "text": [
      "dist_matrix: 100%|##########| 248/248 [00:19<00:00, 13.04it/s]\n",
      "r_index: 100%|##########| 95/95 [00:00<00:00, 650.54it/s]\n",
      "dist_matrix: 100%|##########| 297/297 [00:25<00:00, 11.63it/s]\n",
      "r_index: 100%|##########| 45/45 [00:00<00:00, 633.66it/s]\n",
      "dist_matrix: 100%|##########| 242/242 [00:16<00:00, 14.25it/s]\n",
      "r_index: 100%|##########| 97/97 [00:00<00:00, 655.26it/s]\n",
      "dist_matrix: 100%|##########| 264/264 [00:20<00:00, 13.08it/s]\n",
      "r_index: 100%|##########| 75/75 [00:00<00:00, 646.41it/s]\n",
      "dist_matrix: 100%|##########| 236/236 [00:16<00:00, 14.65it/s]\n",
      "synth_matrix: 100%|##########| 236/236 [00:00<00:00, 676.07it/s]\n",
      "r_index: 100%|##########| 97/97 [00:00<00:00, 655.26it/s]\n"
     ]
    }
   ],
   "source": [
    "As_smogn = smogn.smoter(data = As_train_re, y = 'As', samp_method = 'extreme', rel_coef = 0.50)\n",
    "Cd_smogn = smogn.smoter(data = Cd_train_re, y = 'Cd', samp_method = 'extreme', rel_coef = 0.50)\n",
    "Ni_smogn = smogn.smoter(data = Ni_train_re, y = 'Ni', samp_method = 'extreme', rel_coef = 0.50)"
   ]
  },
  {
   "cell_type": "code",
   "execution_count": 22,
   "id": "9cf94990",
   "metadata": {},
   "outputs": [
    {
     "name": "stdout",
     "output_type": "stream",
     "text": [
      "(827, 16)\n",
      "(849, 16)\n",
      "(902, 16)\n"
     ]
    }
   ],
   "source": [
    "print(As_smogn.shape)\n",
    "print(Cd_smogn.shape)\n",
    "print(Ni_smogn.shape)"
   ]
  },
  {
   "cell_type": "code",
   "execution_count": 23,
   "id": "da9134e9",
   "metadata": {},
   "outputs": [],
   "source": [
    "As_y_train = As_smogn['As']\n",
    "Cd_y_train = Cd_smogn['Cd']\n",
    "Ni_y_train = Ni_smogn['Ni']\n",
    "\n",
    "As_X_train = As_smogn.drop(['As'], axis = 1)\n",
    "Cd_X_train = Cd_smogn.drop(['Cd'], axis = 1)\n",
    "Ni_X_train = Ni_smogn.drop(['Ni'], axis = 1)\n",
    "\n",
    "As_X_train = As_X_train.to_numpy()\n",
    "Cd_X_train = Cd_X_train.to_numpy()\n",
    "Ni_X_train = Ni_X_train.to_numpy()"
   ]
  },
  {
   "cell_type": "code",
   "execution_count": 24,
   "id": "416a7027",
   "metadata": {},
   "outputs": [
    {
     "data": {
      "text/plain": [
       "' from sklearn.preprocessing import StandardScaler\\n\\nscaler = StandardScaler()\\nAs_X_scaled = scaler.fit_transform(As_X)\\nCd_X_scaled = scaler.fit_transform(Cd_X)\\nNi_X_scaled = scaler.fit_transform(Ni_X)\\n\\nAs_X_train, As_X_test, As_y_train, As_y_test = train_test_split(As_X_scaled, As_y, test_size=0.2, random_state=42)\\nCd_X_train, Cd_X_test, Cd_y_train, Cd_y_test = train_test_split(Cd_X_scaled, Cd_y, test_size=0.2, random_state=42)\\nNi_X_train, Ni_X_test, Ni_y_train, Ni_y_test = train_test_split(Ni_X_scaled, Ni_y, test_size=0.2, random_state=42) '"
      ]
     },
     "execution_count": 24,
     "metadata": {},
     "output_type": "execute_result"
    }
   ],
   "source": [
    "''' from sklearn.preprocessing import StandardScaler\n",
    "\n",
    "scaler = StandardScaler()\n",
    "As_X_scaled = scaler.fit_transform(As_X)\n",
    "Cd_X_scaled = scaler.fit_transform(Cd_X)\n",
    "Ni_X_scaled = scaler.fit_transform(Ni_X)\n",
    "\n",
    "As_X_train, As_X_test, As_y_train, As_y_test = train_test_split(As_X_scaled, As_y, test_size=0.2, random_state=42)\n",
    "Cd_X_train, Cd_X_test, Cd_y_train, Cd_y_test = train_test_split(Cd_X_scaled, Cd_y, test_size=0.2, random_state=42)\n",
    "Ni_X_train, Ni_X_test, Ni_y_train, Ni_y_test = train_test_split(Ni_X_scaled, Ni_y, test_size=0.2, random_state=42) '''"
   ]
  },
  {
   "attachments": {},
   "cell_type": "markdown",
   "id": "2fe0d293",
   "metadata": {},
   "source": [
    "MinMaxScaler"
   ]
  },
  {
   "cell_type": "code",
   "execution_count": 25,
   "id": "e8596f9f",
   "metadata": {},
   "outputs": [],
   "source": [
    "# from sklearn.preprocessing import MinMaxScaler\n",
    "\n",
    "# scaler = MinMaxScaler()\n",
    "# As_X_scaled = scaler.fit_transform(As_X)\n",
    "# Cd_X_scaled = scaler.fit_transform(Cd_X)\n",
    "# Ni_X_scaled = scaler.fit_transform(Ni_X)\n",
    "\n",
    "# As_X_train, As_X_test, As_y_train, As_y_test = train_test_split(As_X_scaled, As_y, test_size=0.2, random_state=42)\n",
    "# Cd_X_train, Cd_X_test, Cd_y_train, Cd_y_test = train_test_split(Cd_X_scaled, Cd_y, test_size=0.2, random_state=42)\n",
    "# Ni_X_train, Ni_X_test, Ni_y_train, Ni_y_test = train_test_split(Ni_X_scaled, Ni_y, test_size=0.2, random_state=42)"
   ]
  },
  {
   "cell_type": "code",
   "execution_count": 26,
   "id": "66cd05c6",
   "metadata": {},
   "outputs": [
    {
     "name": "stdout",
     "output_type": "stream",
     "text": [
      "(827, 15)\n",
      "(849, 15)\n",
      "(902, 15)\n"
     ]
    }
   ],
   "source": [
    "print(As_X_train.shape)\n",
    "print(Cd_X_train.shape)\n",
    "print(Ni_X_train.shape)"
   ]
  },
  {
   "attachments": {},
   "cell_type": "markdown",
   "id": "bd11b27e",
   "metadata": {},
   "source": [
    "#### 10-Fold Crossvalidation"
   ]
  },
  {
   "cell_type": "code",
   "execution_count": 27,
   "id": "7a765916",
   "metadata": {},
   "outputs": [],
   "source": [
    "# kf = KFold(n_splits = 10, random_state = 42, shuffle = True)"
   ]
  },
  {
   "attachments": {},
   "cell_type": "markdown",
   "id": "859638d0",
   "metadata": {},
   "source": [
    "#### Optuna Optimization"
   ]
  },
  {
   "cell_type": "code",
   "execution_count": 28,
   "id": "92a47d83",
   "metadata": {},
   "outputs": [],
   "source": [
    "import optuna\n",
    "\n",
    "from optuna import Trial\n",
    "from optuna.samplers import TPESampler"
   ]
  },
  {
   "cell_type": "code",
   "execution_count": 29,
   "id": "a7669fea",
   "metadata": {},
   "outputs": [],
   "source": [
    "from sklearn.model_selection import cross_val_score, KFold\n",
    "from sklearn.svm import SVR\n",
    "\n",
    "\n",
    "def objectiveSVM(trial: Trial, X_train, y_train) -> float:\n",
    "    C = trial.suggest_loguniform('C', 0.1, 100.0)\n",
    "    epsilon = trial.suggest_loguniform('epsilon', 0.01, 1.0)\n",
    "    kernel = trial.suggest_categorical('kernel', ['linear', 'rbf', 'poly'])\n",
    "    degree = trial.suggest_int('degree', 1, 5)\n",
    "    \n",
    "    kf = KFold(n_splits=5, shuffle=True, random_state=42)\n",
    "\n",
    "    model = SVR(C=C, epsilon=epsilon, kernel=kernel, degree=degree)\n",
    "\n",
    "    r2 = cross_val_score(model, X_train, y_train, scoring='r2', cv=kf)\n",
    "    r2 = r2.mean()\n",
    "\n",
    "    return r2\n"
   ]
  },
  {
   "attachments": {},
   "cell_type": "markdown",
   "id": "b0988f46",
   "metadata": {},
   "source": [
    "####  Optimization"
   ]
  },
  {
   "cell_type": "code",
   "execution_count": 30,
   "id": "94f5e00d",
   "metadata": {
    "scrolled": false
   },
   "outputs": [
    {
     "name": "stderr",
     "output_type": "stream",
     "text": [
      "\u001b[32m[I 2023-08-28 23:40:17,540]\u001b[0m A new study created in memory with name: svm_parameter_opt\u001b[0m\n",
      "\u001b[32m[I 2023-08-28 23:40:18,784]\u001b[0m Trial 0 finished with value: -150.38276464790223 and parameters: {'C': 74.20252139202185, 'epsilon': 0.01608505130874715, 'kernel': 'poly', 'degree': 4}. Best is trial 0 with value: -150.38276464790223.\u001b[0m\n",
      "\u001b[32m[I 2023-08-28 23:40:18,897]\u001b[0m Trial 1 finished with value: -0.022739952121485052 and parameters: {'C': 0.5049499947498829, 'epsilon': 0.08339126679973802, 'kernel': 'poly', 'degree': 1}. Best is trial 1 with value: -0.022739952121485052.\u001b[0m\n",
      "\u001b[32m[I 2023-08-28 23:40:19,082]\u001b[0m Trial 2 finished with value: -0.04850519950294914 and parameters: {'C': 0.4009837347722162, 'epsilon': 0.03477141538737624, 'kernel': 'linear', 'degree': 4}. Best is trial 1 with value: -0.022739952121485052.\u001b[0m\n",
      "\u001b[32m[I 2023-08-28 23:40:21,670]\u001b[0m Trial 3 finished with value: -3.8012448913989503 and parameters: {'C': 52.82967738993012, 'epsilon': 0.015822532652592, 'kernel': 'poly', 'degree': 3}. Best is trial 1 with value: -0.022739952121485052.\u001b[0m\n",
      "\u001b[32m[I 2023-08-28 23:40:21,913]\u001b[0m Trial 4 finished with value: -0.6257156273274352 and parameters: {'C': 4.4148151982352095, 'epsilon': 0.022978420726130516, 'kernel': 'poly', 'degree': 2}. Best is trial 1 with value: -0.022739952121485052.\u001b[0m\n",
      "\u001b[32m[I 2023-08-28 23:40:22,045]\u001b[0m Trial 5 finished with value: -0.042873588115137015 and parameters: {'C': 0.5288971544698682, 'epsilon': 0.010879243134291467, 'kernel': 'poly', 'degree': 1}. Best is trial 1 with value: -0.022739952121485052.\u001b[0m\n",
      "\u001b[32m[I 2023-08-28 23:40:23,075]\u001b[0m Trial 6 finished with value: -0.754181857340629 and parameters: {'C': 34.160831117105324, 'epsilon': 0.37724533697486756, 'kernel': 'poly', 'degree': 2}. Best is trial 1 with value: -0.022739952121485052.\u001b[0m\n",
      "\u001b[32m[I 2023-08-28 23:40:23,280]\u001b[0m Trial 7 finished with value: -0.00896357540682804 and parameters: {'C': 1.0639824727066722, 'epsilon': 0.01835193191359206, 'kernel': 'rbf', 'degree': 3}. Best is trial 7 with value: -0.00896357540682804.\u001b[0m\n",
      "\u001b[32m[I 2023-08-28 23:40:23,485]\u001b[0m Trial 8 finished with value: 0.05846204189299635 and parameters: {'C': 0.9316091320201817, 'epsilon': 0.4265153363380565, 'kernel': 'linear', 'degree': 5}. Best is trial 8 with value: 0.05846204189299635.\u001b[0m\n",
      "\u001b[32m[I 2023-08-28 23:40:23,661]\u001b[0m Trial 9 finished with value: -2.5325092372343683 and parameters: {'C': 1.0831815423954358, 'epsilon': 0.014329634323725941, 'kernel': 'poly', 'degree': 5}. Best is trial 8 with value: 0.05846204189299635.\u001b[0m\n",
      "\u001b[32m[I 2023-08-28 23:40:23,937]\u001b[0m Trial 10 finished with value: -0.0028130641476500793 and parameters: {'C': 6.568202642439164, 'epsilon': 0.6424732339974774, 'kernel': 'linear', 'degree': 5}. Best is trial 8 with value: 0.05846204189299635.\u001b[0m\n",
      "\u001b[32m[I 2023-08-28 23:40:23,982]\u001b[0m Trial 11 finished with value: -0.35404958119690666 and parameters: {'C': 7.912405072509129, 'epsilon': 0.9963054998554237, 'kernel': 'linear', 'degree': 5}. Best is trial 8 with value: 0.05846204189299635.\u001b[0m\n",
      "\u001b[32m[I 2023-08-28 23:40:24,090]\u001b[0m Trial 12 finished with value: 0.05980495351054038 and parameters: {'C': 0.13085450825216477, 'epsilon': 0.3629666231552396, 'kernel': 'linear', 'degree': 5}. Best is trial 12 with value: 0.05980495351054038.\u001b[0m\n",
      "\u001b[32m[I 2023-08-28 23:40:24,212]\u001b[0m Trial 13 finished with value: 0.03360193113282446 and parameters: {'C': 0.14351774790231037, 'epsilon': 0.22512216352386227, 'kernel': 'linear', 'degree': 4}. Best is trial 12 with value: 0.05980495351054038.\u001b[0m\n",
      "\u001b[32m[I 2023-08-28 23:40:24,327]\u001b[0m Trial 14 finished with value: 0.026519034889161852 and parameters: {'C': 0.10448236407020903, 'epsilon': 0.19735403762245132, 'kernel': 'linear', 'degree': 5}. Best is trial 12 with value: 0.05980495351054038.\u001b[0m\n",
      "\u001b[32m[I 2023-08-28 23:40:24,493]\u001b[0m Trial 15 finished with value: 0.058458519187346306 and parameters: {'C': 0.23603674176086298, 'epsilon': 0.09466952894018063, 'kernel': 'rbf', 'degree': 4}. Best is trial 12 with value: 0.05980495351054038.\u001b[0m\n",
      "\u001b[32m[I 2023-08-28 23:40:24,806]\u001b[0m Trial 16 finished with value: 0.060309572412606774 and parameters: {'C': 1.6676510299046112, 'epsilon': 0.40727472581235774, 'kernel': 'linear', 'degree': 5}. Best is trial 16 with value: 0.060309572412606774.\u001b[0m\n",
      "\u001b[32m[I 2023-08-28 23:40:25,219]\u001b[0m Trial 17 finished with value: 0.026173238277212473 and parameters: {'C': 2.2593352064281818, 'epsilon': 0.21046964017940858, 'kernel': 'linear', 'degree': 4}. Best is trial 16 with value: 0.060309572412606774.\u001b[0m\n",
      "\u001b[32m[I 2023-08-28 23:40:28,128]\u001b[0m Trial 18 finished with value: -0.045057360835698536 and parameters: {'C': 21.12237967684925, 'epsilon': 0.05398984786018938, 'kernel': 'linear', 'degree': 3}. Best is trial 16 with value: 0.060309572412606774.\u001b[0m\n",
      "\u001b[32m[I 2023-08-28 23:40:28,304]\u001b[0m Trial 19 finished with value: -0.004187703698586431 and parameters: {'C': 14.800441504108022, 'epsilon': 0.37573198146146414, 'kernel': 'rbf', 'degree': 5}. Best is trial 16 with value: 0.060309572412606774.\u001b[0m\n",
      "\u001b[32m[I 2023-08-28 23:40:28,339]\u001b[0m Trial 20 finished with value: -0.356675690080746 and parameters: {'C': 2.4716231593340083, 'epsilon': 0.9995895386151665, 'kernel': 'linear', 'degree': 2}. Best is trial 16 with value: 0.060309572412606774.\u001b[0m\n",
      "\u001b[32m[I 2023-08-28 23:40:28,550]\u001b[0m Trial 21 finished with value: 0.039757912035581454 and parameters: {'C': 1.1897851477593255, 'epsilon': 0.46655024688594715, 'kernel': 'linear', 'degree': 5}. Best is trial 16 with value: 0.060309572412606774.\u001b[0m\n",
      "\u001b[32m[I 2023-08-28 23:40:28,684]\u001b[0m Trial 22 finished with value: 0.007353949695069928 and parameters: {'C': 0.21527253487873216, 'epsilon': 0.16561327111027196, 'kernel': 'linear', 'degree': 5}. Best is trial 16 with value: 0.060309572412606774.\u001b[0m\n",
      "\u001b[32m[I 2023-08-28 23:40:28,807]\u001b[0m Trial 23 finished with value: 0.011596807406635023 and parameters: {'C': 1.6514334062612077, 'epsilon': 0.578291023158308, 'kernel': 'linear', 'degree': 4}. Best is trial 16 with value: 0.060309572412606774.\u001b[0m\n",
      "\u001b[32m[I 2023-08-28 23:40:29,006]\u001b[0m Trial 24 finished with value: -0.00740002824093926 and parameters: {'C': 0.5722319456361931, 'epsilon': 0.13346530472727153, 'kernel': 'linear', 'degree': 5}. Best is trial 16 with value: 0.060309572412606774.\u001b[0m\n",
      "\u001b[32m[I 2023-08-28 23:40:29,144]\u001b[0m Trial 25 finished with value: 0.0543276288944113 and parameters: {'C': 0.2549133799062745, 'epsilon': 0.30252990084252535, 'kernel': 'linear', 'degree': 4}. Best is trial 16 with value: 0.060309572412606774.\u001b[0m\n",
      "\u001b[32m[I 2023-08-28 23:40:29,169]\u001b[0m Trial 26 finished with value: -0.08913818724992648 and parameters: {'C': 0.7890844928154571, 'epsilon': 0.7010930366465694, 'kernel': 'rbf', 'degree': 5}. Best is trial 16 with value: 0.060309572412606774.\u001b[0m\n",
      "\u001b[32m[I 2023-08-28 23:40:30,035]\u001b[0m Trial 27 finished with value: 0.0507730063619781 and parameters: {'C': 5.518193019433642, 'epsilon': 0.2868151773969681, 'kernel': 'linear', 'degree': 4}. Best is trial 16 with value: 0.060309572412606774.\u001b[0m\n",
      "\u001b[32m[I 2023-08-28 23:40:30,404]\u001b[0m Trial 28 finished with value: 0.026101364386674562 and parameters: {'C': 3.754081420844581, 'epsilon': 0.508900754335319, 'kernel': 'linear', 'degree': 5}. Best is trial 16 with value: 0.060309572412606774.\u001b[0m\n",
      "\u001b[32m[I 2023-08-28 23:40:30,556]\u001b[0m Trial 29 finished with value: -0.005368839239476353 and parameters: {'C': 0.31555375135127284, 'epsilon': 0.13674795588824756, 'kernel': 'linear', 'degree': 4}. Best is trial 16 with value: 0.060309572412606774.\u001b[0m\n",
      "\u001b[32m[I 2023-08-28 23:40:30,755]\u001b[0m Trial 30 finished with value: -0.0422750241060891 and parameters: {'C': 12.037444169264093, 'epsilon': 0.2689140394905894, 'kernel': 'rbf', 'degree': 5}. Best is trial 16 with value: 0.060309572412606774.\u001b[0m\n",
      "\u001b[32m[I 2023-08-28 23:40:30,922]\u001b[0m Trial 31 finished with value: 0.04756814789063661 and parameters: {'C': 0.17837882200831756, 'epsilon': 0.07466606885250406, 'kernel': 'rbf', 'degree': 4}. Best is trial 16 with value: 0.060309572412606774.\u001b[0m\n",
      "\u001b[32m[I 2023-08-28 23:40:31,088]\u001b[0m Trial 32 finished with value: 0.06002622357559047 and parameters: {'C': 0.11005115850415896, 'epsilon': 0.09391416123312797, 'kernel': 'rbf', 'degree': 3}. Best is trial 16 with value: 0.060309572412606774.\u001b[0m\n",
      "\u001b[32m[I 2023-08-28 23:40:31,258]\u001b[0m Trial 33 finished with value: 0.04894599754431901 and parameters: {'C': 0.11498528562623841, 'epsilon': 0.06018677748808404, 'kernel': 'rbf', 'degree': 3}. Best is trial 16 with value: 0.060309572412606774.\u001b[0m\n",
      "\u001b[32m[I 2023-08-28 23:40:31,440]\u001b[0m Trial 34 finished with value: 0.024925126382198216 and parameters: {'C': 0.3933014944289852, 'epsilon': 0.03815190357543244, 'kernel': 'rbf', 'degree': 3}. Best is trial 16 with value: 0.060309572412606774.\u001b[0m\n",
      "\u001b[32m[I 2023-08-28 23:40:31,823]\u001b[0m Trial 35 finished with value: -0.01060396181688319 and parameters: {'C': 1.8332585652561655, 'epsilon': 0.1305649581957903, 'kernel': 'linear', 'degree': 2}. Best is trial 16 with value: 0.060309572412606774.\u001b[0m\n",
      "\u001b[32m[I 2023-08-28 23:40:31,933]\u001b[0m Trial 36 finished with value: 0.08926341453043936 and parameters: {'C': 0.6453589612500554, 'epsilon': 0.3737140215073067, 'kernel': 'rbf', 'degree': 3}. Best is trial 36 with value: 0.08926341453043936.\u001b[0m\n",
      "\u001b[32m[I 2023-08-28 23:40:31,951]\u001b[0m Trial 37 finished with value: -0.14491481700119513 and parameters: {'C': 0.6428183912006253, 'epsilon': 0.7779902211580944, 'kernel': 'rbf', 'degree': 3}. Best is trial 36 with value: 0.08926341453043936.\u001b[0m\n",
      "\u001b[32m[I 2023-08-28 23:40:32,064]\u001b[0m Trial 38 finished with value: 0.09328266075041894 and parameters: {'C': 0.1520547631049786, 'epsilon': 0.3280998613069434, 'kernel': 'rbf', 'degree': 2}. Best is trial 38 with value: 0.09328266075041894.\u001b[0m\n",
      "\u001b[32m[I 2023-08-28 23:40:32,228]\u001b[0m Trial 39 finished with value: 0.06245974512590633 and parameters: {'C': 0.3880407398037243, 'epsilon': 0.10887021017887628, 'kernel': 'rbf', 'degree': 1}. Best is trial 38 with value: 0.09328266075041894.\u001b[0m\n",
      "\u001b[32m[I 2023-08-28 23:40:32,377]\u001b[0m Trial 40 finished with value: 0.08616705273122152 and parameters: {'C': 0.39966801079636294, 'epsilon': 0.1697366524828422, 'kernel': 'rbf', 'degree': 1}. Best is trial 38 with value: 0.09328266075041894.\u001b[0m\n",
      "\u001b[32m[I 2023-08-28 23:40:32,527]\u001b[0m Trial 41 finished with value: 0.08613310261866332 and parameters: {'C': 0.4234183444423096, 'epsilon': 0.17138262568216048, 'kernel': 'rbf', 'degree': 1}. Best is trial 38 with value: 0.09328266075041894.\u001b[0m\n",
      "\u001b[32m[I 2023-08-28 23:40:32,676]\u001b[0m Trial 42 finished with value: 0.08726821275038606 and parameters: {'C': 0.42074926061966783, 'epsilon': 0.1743474611219442, 'kernel': 'rbf', 'degree': 1}. Best is trial 38 with value: 0.09328266075041894.\u001b[0m\n",
      "\u001b[32m[I 2023-08-28 23:40:32,825]\u001b[0m Trial 43 finished with value: 0.08766426521790067 and parameters: {'C': 0.3314710390384284, 'epsilon': 0.17278323734749346, 'kernel': 'rbf', 'degree': 1}. Best is trial 38 with value: 0.09328266075041894.\u001b[0m\n",
      "\u001b[32m[I 2023-08-28 23:40:32,959]\u001b[0m Trial 44 finished with value: 0.10538163307276154 and parameters: {'C': 0.3002908996205039, 'epsilon': 0.2526303158546507, 'kernel': 'rbf', 'degree': 1}. Best is trial 44 with value: 0.10538163307276154.\u001b[0m\n",
      "\u001b[32m[I 2023-08-28 23:40:33,078]\u001b[0m Trial 45 finished with value: 0.10023380706642182 and parameters: {'C': 0.18727896432876592, 'epsilon': 0.3084771520930541, 'kernel': 'rbf', 'degree': 2}. Best is trial 44 with value: 0.10538163307276154.\u001b[0m\n",
      "\u001b[32m[I 2023-08-28 23:40:33,213]\u001b[0m Trial 46 finished with value: 0.09850545403390179 and parameters: {'C': 0.15385902056023362, 'epsilon': 0.24853613412140252, 'kernel': 'rbf', 'degree': 2}. Best is trial 44 with value: 0.10538163307276154.\u001b[0m\n",
      "\u001b[32m[I 2023-08-28 23:40:33,307]\u001b[0m Trial 47 finished with value: -0.03412640417712731 and parameters: {'C': 0.2223087505033129, 'epsilon': 0.27105500234553853, 'kernel': 'poly', 'degree': 2}. Best is trial 44 with value: 0.10538163307276154.\u001b[0m\n",
      "\u001b[32m[I 2023-08-28 23:40:33,650]\u001b[0m Trial 48 finished with value: -0.25812195835535806 and parameters: {'C': 99.86005657845246, 'epsilon': 0.33107814358435766, 'kernel': 'rbf', 'degree': 2}. Best is trial 44 with value: 0.10538163307276154.\u001b[0m\n",
      "\u001b[32m[I 2023-08-28 23:40:33,787]\u001b[0m Trial 49 finished with value: 0.10494570318280264 and parameters: {'C': 0.2909431923876959, 'epsilon': 0.23778490171257743, 'kernel': 'rbf', 'degree': 2}. Best is trial 44 with value: 0.10538163307276154.\u001b[0m\n",
      "\u001b[32m[I 2023-08-28 23:40:33,920]\u001b[0m Trial 50 finished with value: 0.09920597245406912 and parameters: {'C': 0.16448124613569998, 'epsilon': 0.25292005730063666, 'kernel': 'rbf', 'degree': 2}. Best is trial 44 with value: 0.10538163307276154.\u001b[0m\n",
      "\u001b[32m[I 2023-08-28 23:40:34,059]\u001b[0m Trial 51 finished with value: 0.09767907652832915 and parameters: {'C': 0.16120991267094187, 'epsilon': 0.23041048259833716, 'kernel': 'rbf', 'degree': 2}. Best is trial 44 with value: 0.10538163307276154.\u001b[0m\n",
      "\u001b[32m[I 2023-08-28 23:40:34,195]\u001b[0m Trial 52 finished with value: 0.10068198494424449 and parameters: {'C': 0.17908107495146922, 'epsilon': 0.2417645621140074, 'kernel': 'rbf', 'degree': 2}. Best is trial 44 with value: 0.10538163307276154.\u001b[0m\n",
      "\u001b[32m[I 2023-08-28 23:40:34,330]\u001b[0m Trial 53 finished with value: 0.10413199466156878 and parameters: {'C': 0.2642944681739565, 'epsilon': 0.2514444442368717, 'kernel': 'rbf', 'degree': 2}. Best is trial 44 with value: 0.10538163307276154.\u001b[0m\n",
      "\u001b[32m[I 2023-08-28 23:40:34,434]\u001b[0m Trial 54 finished with value: -0.10364701297392467 and parameters: {'C': 0.2501769032462892, 'epsilon': 0.1988302203076915, 'kernel': 'poly', 'degree': 2}. Best is trial 44 with value: 0.10538163307276154.\u001b[0m\n",
      "\u001b[32m[I 2023-08-28 23:40:34,491]\u001b[0m Trial 55 finished with value: 0.022350560872052984 and parameters: {'C': 0.19192874517278147, 'epsilon': 0.5236269843507124, 'kernel': 'rbf', 'degree': 2}. Best is trial 44 with value: 0.10538163307276154.\u001b[0m\n",
      "\u001b[32m[I 2023-08-28 23:40:34,578]\u001b[0m Trial 56 finished with value: 0.06576079524306133 and parameters: {'C': 0.2932298318786452, 'epsilon': 0.43095823009958534, 'kernel': 'rbf', 'degree': 1}. Best is trial 44 with value: 0.10538163307276154.\u001b[0m\n",
      "\u001b[32m[I 2023-08-28 23:40:34,717]\u001b[0m Trial 57 finished with value: 0.0902157366411553 and parameters: {'C': 0.10212678686432138, 'epsilon': 0.237982660962356, 'kernel': 'rbf', 'degree': 2}. Best is trial 44 with value: 0.10538163307276154.\u001b[0m\n",
      "\u001b[32m[I 2023-08-28 23:40:34,881]\u001b[0m Trial 58 finished with value: 0.06305257004724621 and parameters: {'C': 0.8585075022069643, 'epsilon': 0.14458327544527272, 'kernel': 'rbf', 'degree': 2}. Best is trial 44 with value: 0.10538163307276154.\u001b[0m\n",
      "\u001b[32m[I 2023-08-28 23:40:34,971]\u001b[0m Trial 59 finished with value: 0.03913262356217946 and parameters: {'C': 0.18406124504301197, 'epsilon': 0.20959780913429193, 'kernel': 'poly', 'degree': 1}. Best is trial 44 with value: 0.10538163307276154.\u001b[0m\n",
      "\u001b[32m[I 2023-08-28 23:40:35,136]\u001b[0m Trial 60 finished with value: 0.06195610672302478 and parameters: {'C': 0.5160571437032853, 'epsilon': 0.1157831946350787, 'kernel': 'rbf', 'degree': 2}. Best is trial 44 with value: 0.10538163307276154.\u001b[0m\n",
      "\u001b[32m[I 2023-08-28 23:40:35,272]\u001b[0m Trial 61 finished with value: 0.0954004760301429 and parameters: {'C': 0.1299598105764343, 'epsilon': 0.24408116580618855, 'kernel': 'rbf', 'degree': 2}. Best is trial 44 with value: 0.10538163307276154.\u001b[0m\n",
      "\u001b[32m[I 2023-08-28 23:40:35,405]\u001b[0m Trial 62 finished with value: 0.10630041089666968 and parameters: {'C': 0.25890864155242715, 'epsilon': 0.28812868854830237, 'kernel': 'rbf', 'degree': 2}. Best is trial 62 with value: 0.10630041089666968.\u001b[0m\n",
      "\u001b[32m[I 2023-08-28 23:40:35,528]\u001b[0m Trial 63 finished with value: 0.10604972917139432 and parameters: {'C': 0.2705478890959189, 'epsilon': 0.2998534347364213, 'kernel': 'rbf', 'degree': 2}. Best is trial 62 with value: 0.10630041089666968.\u001b[0m\n",
      "\u001b[32m[I 2023-08-28 23:40:35,643]\u001b[0m Trial 64 finished with value: 0.10176555406866535 and parameters: {'C': 0.2851752000465123, 'epsilon': 0.327020398203471, 'kernel': 'rbf', 'degree': 2}. Best is trial 62 with value: 0.10630041089666968.\u001b[0m\n",
      "\u001b[32m[I 2023-08-28 23:40:35,727]\u001b[0m Trial 65 finished with value: 0.06235919131521108 and parameters: {'C': 0.28193428009098154, 'epsilon': 0.4412850105585906, 'kernel': 'rbf', 'degree': 3}. Best is trial 62 with value: 0.10630041089666968.\u001b[0m\n",
      "\u001b[32m[I 2023-08-28 23:40:35,843]\u001b[0m Trial 66 finished with value: 0.10224770607437852 and parameters: {'C': 0.33430344291548203, 'epsilon': 0.33116114120363066, 'kernel': 'rbf', 'degree': 2}. Best is trial 62 with value: 0.10630041089666968.\u001b[0m\n",
      "\u001b[32m[I 2023-08-28 23:40:35,880]\u001b[0m Trial 67 finished with value: -0.027752653726540212 and parameters: {'C': 0.7156833007271711, 'epsilon': 0.6112338464262086, 'kernel': 'rbf', 'degree': 1}. Best is trial 62 with value: 0.10630041089666968.\u001b[0m\n",
      "\u001b[32m[I 2023-08-28 23:40:36,004]\u001b[0m Trial 68 finished with value: 0.0930758615384965 and parameters: {'C': 1.1384710931829707, 'epsilon': 0.3637407952735011, 'kernel': 'rbf', 'degree': 2}. Best is trial 62 with value: 0.10630041089666968.\u001b[0m\n",
      "\u001b[32m[I 2023-08-28 23:40:36,023]\u001b[0m Trial 69 finished with value: -0.14405962334217587 and parameters: {'C': 0.30882511551749525, 'epsilon': 0.7799311799071347, 'kernel': 'rbf', 'degree': 1}. Best is trial 62 with value: 0.10630041089666968.\u001b[0m\n",
      "\u001b[32m[I 2023-08-28 23:40:36,093]\u001b[0m Trial 70 finished with value: 0.001208566233967323 and parameters: {'C': 0.2456015080551781, 'epsilon': 0.47893216242836884, 'kernel': 'poly', 'degree': 2}. Best is trial 62 with value: 0.10630041089666968.\u001b[0m\n",
      "\u001b[32m[I 2023-08-28 23:40:36,212]\u001b[0m Trial 71 finished with value: 0.10606132251807587 and parameters: {'C': 0.3535735430721542, 'epsilon': 0.3186935029429982, 'kernel': 'rbf', 'degree': 2}. Best is trial 62 with value: 0.10630041089666968.\u001b[0m\n",
      "\u001b[32m[I 2023-08-28 23:40:36,337]\u001b[0m Trial 72 finished with value: 0.11012233797991089 and parameters: {'C': 0.45617094341991055, 'epsilon': 0.3019883610871311, 'kernel': 'rbf', 'degree': 2}. Best is trial 72 with value: 0.11012233797991089.\u001b[0m\n",
      "\u001b[32m[I 2023-08-28 23:40:36,444]\u001b[0m Trial 73 finished with value: 0.08620082091256229 and parameters: {'C': 0.4805255908639294, 'epsilon': 0.3748332111349882, 'kernel': 'rbf', 'degree': 2}. Best is trial 72 with value: 0.11012233797991089.\u001b[0m\n",
      "\u001b[32m[I 2023-08-28 23:40:36,572]\u001b[0m Trial 74 finished with value: 0.11007596938780755 and parameters: {'C': 0.5407697420091031, 'epsilon': 0.29609850846048846, 'kernel': 'rbf', 'degree': 3}. Best is trial 72 with value: 0.11012233797991089.\u001b[0m\n",
      "\u001b[32m[I 2023-08-28 23:40:36,719]\u001b[0m Trial 75 finished with value: 0.09769963102226183 and parameters: {'C': 0.5363298211894137, 'epsilon': 0.2030795346305734, 'kernel': 'rbf', 'degree': 3}. Best is trial 72 with value: 0.11012233797991089.\u001b[0m\n",
      "\u001b[32m[I 2023-08-28 23:40:36,812]\u001b[0m Trial 76 finished with value: 0.07271155773754323 and parameters: {'C': 0.21961332218867377, 'epsilon': 0.40276044819478835, 'kernel': 'rbf', 'degree': 3}. Best is trial 72 with value: 0.11012233797991089.\u001b[0m\n",
      "\u001b[32m[I 2023-08-28 23:40:36,951]\u001b[0m Trial 77 finished with value: 0.09969484086207799 and parameters: {'C': 0.9528752644997043, 'epsilon': 0.29126098096885167, 'kernel': 'rbf', 'degree': 3}. Best is trial 72 with value: 0.11012233797991089.\u001b[0m\n",
      "\u001b[32m[I 2023-08-28 23:40:37,122]\u001b[0m Trial 78 finished with value: 0.051618909896644215 and parameters: {'C': 1.3434137650459854, 'epsilon': 0.14911190268007013, 'kernel': 'rbf', 'degree': 3}. Best is trial 72 with value: 0.11012233797991089.\u001b[0m\n",
      "\u001b[32m[I 2023-08-28 23:40:37,258]\u001b[0m Trial 79 finished with value: 0.1090759165243093 and parameters: {'C': 0.6085057212579906, 'epsilon': 0.2811702155230294, 'kernel': 'rbf', 'degree': 2}. Best is trial 72 with value: 0.11012233797991089.\u001b[0m\n",
      "\u001b[32m[I 2023-08-28 23:40:37,310]\u001b[0m Trial 80 finished with value: 0.01487587595798685 and parameters: {'C': 0.5837737787960319, 'epsilon': 0.5560723187209102, 'kernel': 'rbf', 'degree': 1}. Best is trial 72 with value: 0.11012233797991089.\u001b[0m\n",
      "\u001b[32m[I 2023-08-28 23:40:37,442]\u001b[0m Trial 81 finished with value: 0.10872717435430539 and parameters: {'C': 0.3576099381557858, 'epsilon': 0.27031669347683984, 'kernel': 'rbf', 'degree': 2}. Best is trial 72 with value: 0.11012233797991089.\u001b[0m\n",
      "\u001b[32m[I 2023-08-28 23:40:37,570]\u001b[0m Trial 82 finished with value: 0.10943879101875661 and parameters: {'C': 0.36002659555255173, 'epsilon': 0.28433832700343825, 'kernel': 'rbf', 'degree': 2}. Best is trial 72 with value: 0.11012233797991089.\u001b[0m\n",
      "\u001b[32m[I 2023-08-28 23:40:37,702]\u001b[0m Trial 83 finished with value: 0.11151035341320428 and parameters: {'C': 0.47684272826994245, 'epsilon': 0.2816363555103899, 'kernel': 'rbf', 'degree': 2}. Best is trial 83 with value: 0.11151035341320428.\u001b[0m\n",
      "\u001b[32m[I 2023-08-28 23:40:37,835]\u001b[0m Trial 84 finished with value: 0.1106797465623551 and parameters: {'C': 0.46158238581184935, 'epsilon': 0.2760865504131226, 'kernel': 'rbf', 'degree': 2}. Best is trial 83 with value: 0.11151035341320428.\u001b[0m\n",
      "\u001b[32m[I 2023-08-28 23:40:38,032]\u001b[0m Trial 85 finished with value: 0.0022770998939910746 and parameters: {'C': 0.7476810735925259, 'epsilon': 0.025134819637976407, 'kernel': 'rbf', 'degree': 2}. Best is trial 83 with value: 0.11151035341320428.\u001b[0m\n",
      "\u001b[32m[I 2023-08-28 23:40:38,180]\u001b[0m Trial 86 finished with value: 0.09335525445442745 and parameters: {'C': 0.4433055714105958, 'epsilon': 0.18942054598822047, 'kernel': 'rbf', 'degree': 2}. Best is trial 83 with value: 0.11151035341320428.\u001b[0m\n",
      "\u001b[32m[I 2023-08-28 23:40:38,275]\u001b[0m Trial 87 finished with value: 0.07652306863482491 and parameters: {'C': 0.3813205809588826, 'epsilon': 0.40436756664093626, 'kernel': 'rbf', 'degree': 2}. Best is trial 83 with value: 0.11151035341320428.\u001b[0m\n",
      "\u001b[32m[I 2023-08-28 23:40:38,404]\u001b[0m Trial 88 finished with value: 0.10950449123473852 and parameters: {'C': 0.3639333606386663, 'epsilon': 0.2852444364203422, 'kernel': 'rbf', 'degree': 2}. Best is trial 83 with value: 0.11151035341320428.\u001b[0m\n",
      "\u001b[32m[I 2023-08-28 23:40:38,540]\u001b[0m Trial 89 finished with value: 0.10674025263837746 and parameters: {'C': 0.6591144549974551, 'epsilon': 0.2768947514211221, 'kernel': 'rbf', 'degree': 2}. Best is trial 83 with value: 0.11151035341320428.\u001b[0m\n",
      "\u001b[32m[I 2023-08-28 23:40:38,740]\u001b[0m Trial 90 finished with value: -0.0012014955027146 and parameters: {'C': 0.6241609863268531, 'epsilon': 0.010033888303789313, 'kernel': 'rbf', 'degree': 2}. Best is trial 83 with value: 0.11151035341320428.\u001b[0m\n",
      "\u001b[32m[I 2023-08-28 23:40:38,872]\u001b[0m Trial 91 finished with value: 0.11121066943359699 and parameters: {'C': 0.48291332654557095, 'epsilon': 0.284789419075169, 'kernel': 'rbf', 'degree': 2}. Best is trial 83 with value: 0.11151035341320428.\u001b[0m\n",
      "\u001b[32m[I 2023-08-28 23:40:39,019]\u001b[0m Trial 92 finished with value: 0.10074690116164098 and parameters: {'C': 0.45390263670912845, 'epsilon': 0.2130959681600881, 'kernel': 'rbf', 'degree': 2}. Best is trial 83 with value: 0.11151035341320428.\u001b[0m\n",
      "\u001b[32m[I 2023-08-28 23:40:39,143]\u001b[0m Trial 93 finished with value: 0.09491829036539286 and parameters: {'C': 0.7065683019035128, 'epsilon': 0.35149959615179616, 'kernel': 'rbf', 'degree': 2}. Best is trial 83 with value: 0.11151035341320428.\u001b[0m\n",
      "\u001b[32m[I 2023-08-28 23:40:39,290]\u001b[0m Trial 94 finished with value: 0.08779415999243623 and parameters: {'C': 1.3593520161782415, 'epsilon': 0.2721105239251579, 'kernel': 'rbf', 'degree': 2}. Best is trial 83 with value: 0.11151035341320428.\u001b[0m\n",
      "\u001b[32m[I 2023-08-28 23:40:39,409]\u001b[0m Trial 95 finished with value: -0.20719389098989285 and parameters: {'C': 0.9537329024372964, 'epsilon': 0.22095082665461793, 'kernel': 'poly', 'degree': 2}. Best is trial 83 with value: 0.11151035341320428.\u001b[0m\n",
      "\u001b[32m[I 2023-08-28 23:40:39,558]\u001b[0m Trial 96 finished with value: 0.08946601394994765 and parameters: {'C': 0.5074581207978539, 'epsilon': 0.18193267220170248, 'kernel': 'rbf', 'degree': 2}. Best is trial 83 with value: 0.11151035341320428.\u001b[0m\n",
      "\u001b[32m[I 2023-08-28 23:40:39,691]\u001b[0m Trial 97 finished with value: 0.11004710205431419 and parameters: {'C': 0.5641803353299597, 'epsilon': 0.2842442472007101, 'kernel': 'rbf', 'degree': 2}. Best is trial 83 with value: 0.11151035341320428.\u001b[0m\n",
      "\u001b[32m[I 2023-08-28 23:40:39,851]\u001b[0m Trial 98 finished with value: 0.06803056809004801 and parameters: {'C': 0.8185360354348693, 'epsilon': 0.15391308822915237, 'kernel': 'rbf', 'degree': 3}. Best is trial 83 with value: 0.11151035341320428.\u001b[0m\n",
      "\u001b[32m[I 2023-08-28 23:40:39,952]\u001b[0m Trial 99 finished with value: 0.08369152990009829 and parameters: {'C': 0.576033980145321, 'epsilon': 0.39588571254271854, 'kernel': 'rbf', 'degree': 2}. Best is trial 83 with value: 0.11151035341320428.\u001b[0m\n"
     ]
    },
    {
     "name": "stdout",
     "output_type": "stream",
     "text": [
      "Best r2:  0.11151035341320428\n",
      "Best trial: {'C': 0.47684272826994245, 'epsilon': 0.2816363555103899, 'kernel': 'rbf', 'degree': 2}\n"
     ]
    }
   ],
   "source": [
    "sampler = TPESampler()\n",
    "study = optuna.create_study(\n",
    "    study_name=\"svm_parameter_opt\",\n",
    "    direction=\"maximize\",\n",
    "    sampler=sampler,\n",
    ")\n",
    "\n",
    "study.optimize(lambda trial : objectiveSVM(trial, As_X_train, As_y_train), n_trials=100)\n",
    "print(\"Best r2: \", study.best_value)\n",
    "print(\"Best trial:\", study.best_trial.params)"
   ]
  },
  {
   "cell_type": "code",
   "execution_count": 31,
   "id": "ded0e0f8",
   "metadata": {},
   "outputs": [
    {
     "data": {
      "application/vnd.plotly.v1+json": {
       "config": {
        "plotlyServerURL": "https://plot.ly"
       },
       "data": [
        {
         "dimensions": [
          {
           "label": "Objective Value",
           "range": [
            -150.38276464790223,
            0.11151035341320428
           ],
           "values": [
            -150.38276464790223,
            -0.022739952121485052,
            -0.04850519950294914,
            -3.8012448913989503,
            -0.6257156273274352,
            -0.042873588115137015,
            -0.754181857340629,
            -0.00896357540682804,
            0.05846204189299635,
            -2.5325092372343683,
            -0.0028130641476500793,
            -0.35404958119690666,
            0.05980495351054038,
            0.03360193113282446,
            0.026519034889161852,
            0.058458519187346306,
            0.060309572412606774,
            0.026173238277212473,
            -0.045057360835698536,
            -0.004187703698586431,
            -0.356675690080746,
            0.039757912035581454,
            0.007353949695069928,
            0.011596807406635023,
            -0.00740002824093926,
            0.0543276288944113,
            -0.08913818724992648,
            0.0507730063619781,
            0.026101364386674562,
            -0.005368839239476353,
            -0.0422750241060891,
            0.04756814789063661,
            0.06002622357559047,
            0.04894599754431901,
            0.024925126382198216,
            -0.01060396181688319,
            0.08926341453043936,
            -0.14491481700119513,
            0.09328266075041894,
            0.06245974512590633,
            0.08616705273122152,
            0.08613310261866332,
            0.08726821275038606,
            0.08766426521790067,
            0.10538163307276154,
            0.10023380706642182,
            0.09850545403390179,
            -0.03412640417712731,
            -0.25812195835535806,
            0.10494570318280264,
            0.09920597245406912,
            0.09767907652832915,
            0.10068198494424449,
            0.10413199466156878,
            -0.10364701297392467,
            0.022350560872052984,
            0.06576079524306133,
            0.0902157366411553,
            0.06305257004724621,
            0.03913262356217946,
            0.06195610672302478,
            0.0954004760301429,
            0.10630041089666968,
            0.10604972917139432,
            0.10176555406866535,
            0.06235919131521108,
            0.10224770607437852,
            -0.027752653726540212,
            0.0930758615384965,
            -0.14405962334217587,
            0.001208566233967323,
            0.10606132251807587,
            0.11012233797991089,
            0.08620082091256229,
            0.11007596938780755,
            0.09769963102226183,
            0.07271155773754323,
            0.09969484086207799,
            0.051618909896644215,
            0.1090759165243093,
            0.01487587595798685,
            0.10872717435430539,
            0.10943879101875661,
            0.11151035341320428,
            0.1106797465623551,
            0.0022770998939910746,
            0.09335525445442745,
            0.07652306863482491,
            0.10950449123473852,
            0.10674025263837746,
            -0.0012014955027146,
            0.11121066943359699,
            0.10074690116164098,
            0.09491829036539286,
            0.08779415999243623,
            -0.20719389098989285,
            0.08946601394994765,
            0.11004710205431419,
            0.06803056809004801,
            0.08369152990009829
           ]
          },
          {
           "label": "C",
           "range": [
            -0.9908603317469135,
            1.9993918077806043
           ],
           "ticktext": [
            "0.102",
            "1",
            "10",
            "99.9"
           ],
           "tickvals": [
            -0.9908603317469135,
            0,
            1,
            1.9993918077806043
           ],
           "values": [
            1.8704186627997434,
            -0.2967516279793092,
            -0.39687324344450353,
            1.7228779586293783,
            0.6449125289630875,
            -0.27662876953113597,
            1.5335284283279087,
            0.026934473758397793,
            -0.030766262981350736,
            0.034701250949536314,
            0.8174465431880477,
            0.8983085126958358,
            -0.883211310278128,
            -0.8430943892475395,
            -0.9809570093937412,
            -0.6270203889705254,
            0.2221051760122497,
            0.35398066983234006,
            1.3247428448421474,
            1.170274670796169,
            0.3929822559404377,
            0.07546854326903685,
            -0.6670113752460952,
            0.21786106553793752,
            -0.24242790076660034,
            -0.5936073686619155,
            -0.1028764913420874,
            0.7417968874822075,
            0.5745036876353673,
            -0.5009266524992725,
            1.0805342858408564,
            -0.7486567084290028,
            -0.9584053812858694,
            -0.9393577316480547,
            -0.40527440339694326,
            0.26322372276067907,
            -0.1901986550915769,
            -0.19191170645335986,
            -0.8179999710620433,
            -0.4111226760987451,
            -0.3983006110358385,
            -0.3732303302620842,
            -0.37597663853474206,
            -0.4795544103519483,
            -0.5224578289881138,
            -0.7275110009963194,
            -0.812877036532613,
            -0.6530434422919758,
            1.9993918077806043,
            -0.5361918001583077,
            -0.7838836123892923,
            -0.79260825728321,
            -0.7469503073861453,
            -0.5779119267913603,
            -0.6017527875910483,
            -0.7168599760981974,
            -0.5327918486242769,
            -0.9908603317469135,
            -0.06625590533375704,
            -0.7350376446071837,
            -0.2873022056965467,
            -0.886190930334667,
            -0.5868534539455752,
            -0.5677558502273176,
            -0.5448882451289354,
            -0.5498521155110558,
            -0.47585915068384216,
            -0.1452791162032047,
            0.05632200795906365,
            -0.5102873874583439,
            -0.6097689708450739,
            -0.45152023949507,
            -0.34087238130024083,
            -0.31828347859888295,
            -0.2669876167079009,
            -0.27056805457908806,
            -0.6583413182404494,
            -0.020963946670164622,
            0.12820979390527315,
            -0.2157353341157666,
            -0.23375541599400995,
            -0.44659042045149905,
            -0.4436654162463537,
            -0.3216248358591939,
            -0.33575077240577816,
            -0.126283612717452,
            -0.3532968105060495,
            -0.41870975398239896,
            -0.43897813216530435,
            -0.181039163770551,
            -0.20470338074035355,
            -0.3161308095813367,
            -0.34303729444397857,
            -0.15084584980122842,
            0.13333193567833773,
            -0.020573234561249886,
            -0.2945997931327362,
            -0.24858205537760716,
            -0.08696219634242201,
            -0.23955189686440825
           ]
          },
          {
           "label": "degree",
           "range": [
            1,
            5
           ],
           "values": [
            4,
            1,
            4,
            3,
            2,
            1,
            2,
            3,
            5,
            5,
            5,
            5,
            5,
            4,
            5,
            4,
            5,
            4,
            3,
            5,
            2,
            5,
            5,
            4,
            5,
            4,
            5,
            4,
            5,
            4,
            5,
            4,
            3,
            3,
            3,
            2,
            3,
            3,
            2,
            1,
            1,
            1,
            1,
            1,
            1,
            2,
            2,
            2,
            2,
            2,
            2,
            2,
            2,
            2,
            2,
            2,
            1,
            2,
            2,
            1,
            2,
            2,
            2,
            2,
            2,
            3,
            2,
            1,
            2,
            1,
            2,
            2,
            2,
            2,
            3,
            3,
            3,
            3,
            3,
            2,
            1,
            2,
            2,
            2,
            2,
            2,
            2,
            2,
            2,
            2,
            2,
            2,
            2,
            2,
            2,
            2,
            2,
            2,
            3,
            2
           ]
          },
          {
           "label": "epsilon",
           "range": [
            -1.9985307378027808,
            -0.00017829770913363775
           ],
           "ticktext": [
            "0.01",
            "0.1",
            "1"
           ],
           "tickvals": [
            -1.9985307378027808,
            -1,
            -0.00017829770913363775
           ],
           "values": [
            -1.7935775494297006,
            -1.078879428730089,
            -1.458777630788805,
            -1.800723999409087,
            -1.6386798230583437,
            -1.9634013173248208,
            -0.4233761197130086,
            -1.7363182106898711,
            -0.3700653481606022,
            -1.8437648921716934,
            -0.19214496071158568,
            -0.0016074722612265762,
            -0.44013330897476527,
            -0.6475817461266367,
            -0.7047539840431652,
            -1.0237897838543053,
            -0.3901125400264556,
            -0.6768105414124977,
            -1.2676878963400804,
            -0.425121837193458,
            -0.00017829770913363775,
            -0.3311015764187477,
            -0.7809048647792352,
            -0.23785354921995822,
            -0.8746316176240337,
            -0.5192316949646988,
            -0.15422434633981302,
            -0.5423978708377462,
            -0.29336690537857457,
            -0.8640791567904327,
            -0.5703865234958303,
            -1.1268767135519913,
            -1.0272689159160655,
            -1.2204989089863703,
            -1.4184837882023749,
            -0.8841733659723727,
            -0.4274606073978511,
            -0.10902586178122278,
            -0.4839939531971339,
            -0.963090938653786,
            -0.7702243671562166,
            -0.7660332078085418,
            -0.7585843725137466,
            -0.762498393110639,
            -0.5975145349430347,
            -0.510776997230002,
            -0.6046104612215794,
            -0.5669425733639548,
            -0.4800694886348725,
            -0.6238157246167506,
            -0.5970167284666499,
            -0.6374977664334924,
            -0.6166073577608181,
            -0.5995579558431157,
            -0.7015176062796483,
            -0.28097798081371456,
            -0.36556482106049115,
            -0.6234546837951039,
            -0.8398819408029479,
            -0.6786132612200875,
            -0.9363544717562097,
            -0.6124657310376196,
            -0.5404134975060328,
            -0.5230909720770569,
            -0.4854251569699475,
            -0.3552808242914245,
            -0.4799606294684712,
            -0.21379260517001783,
            -0.439207988006053,
            -0.1079437171879602,
            -0.31972599716881606,
            -0.4966267901966972,
            -0.5200097948343718,
            -0.426161936531139,
            -0.5285637802804438,
            -0.6923338404791993,
            -0.3949531845288908,
            -0.5357176921143249,
            -0.8264876881234409,
            -0.5510306862094251,
            -0.2548687235635942,
            -0.5681271335058197,
            -0.5461645962215642,
            -0.5503112842656129,
            -0.558954749549208,
            -1.5997242268278944,
            -0.7225729159063289,
            -0.3932236854097785,
            -0.5447828175688492,
            -0.5576852762892678,
            -1.9985307378027808,
            -0.5454761502972285,
            -0.6714247671904922,
            -0.454075169617549,
            -0.5652546614755133,
            -0.6557043692505115,
            -0.7400893015811353,
            -0.546308316206699,
            -0.8127244477188007,
            -0.40243017158910516
           ]
          },
          {
           "label": "kernel",
           "range": [
            0,
            2
           ],
           "ticktext": [
            "poly",
            "linear",
            "rbf"
           ],
           "tickvals": [
            0,
            1,
            2
           ],
           "values": [
            0,
            0,
            1,
            0,
            0,
            0,
            0,
            2,
            1,
            0,
            1,
            1,
            1,
            1,
            1,
            2,
            1,
            1,
            1,
            2,
            1,
            1,
            1,
            1,
            1,
            1,
            2,
            1,
            1,
            1,
            2,
            2,
            2,
            2,
            2,
            1,
            2,
            2,
            2,
            2,
            2,
            2,
            2,
            2,
            2,
            2,
            2,
            0,
            2,
            2,
            2,
            2,
            2,
            2,
            0,
            2,
            2,
            2,
            2,
            0,
            2,
            2,
            2,
            2,
            2,
            2,
            2,
            2,
            2,
            2,
            0,
            2,
            2,
            2,
            2,
            2,
            2,
            2,
            2,
            2,
            2,
            2,
            2,
            2,
            2,
            2,
            2,
            2,
            2,
            2,
            2,
            2,
            2,
            2,
            2,
            0,
            2,
            2,
            2,
            2
           ]
          }
         ],
         "labelangle": 30,
         "labelside": "bottom",
         "line": {
          "color": [
           -150.38276464790223,
           -0.022739952121485052,
           -0.04850519950294914,
           -3.8012448913989503,
           -0.6257156273274352,
           -0.042873588115137015,
           -0.754181857340629,
           -0.00896357540682804,
           0.05846204189299635,
           -2.5325092372343683,
           -0.0028130641476500793,
           -0.35404958119690666,
           0.05980495351054038,
           0.03360193113282446,
           0.026519034889161852,
           0.058458519187346306,
           0.060309572412606774,
           0.026173238277212473,
           -0.045057360835698536,
           -0.004187703698586431,
           -0.356675690080746,
           0.039757912035581454,
           0.007353949695069928,
           0.011596807406635023,
           -0.00740002824093926,
           0.0543276288944113,
           -0.08913818724992648,
           0.0507730063619781,
           0.026101364386674562,
           -0.005368839239476353,
           -0.0422750241060891,
           0.04756814789063661,
           0.06002622357559047,
           0.04894599754431901,
           0.024925126382198216,
           -0.01060396181688319,
           0.08926341453043936,
           -0.14491481700119513,
           0.09328266075041894,
           0.06245974512590633,
           0.08616705273122152,
           0.08613310261866332,
           0.08726821275038606,
           0.08766426521790067,
           0.10538163307276154,
           0.10023380706642182,
           0.09850545403390179,
           -0.03412640417712731,
           -0.25812195835535806,
           0.10494570318280264,
           0.09920597245406912,
           0.09767907652832915,
           0.10068198494424449,
           0.10413199466156878,
           -0.10364701297392467,
           0.022350560872052984,
           0.06576079524306133,
           0.0902157366411553,
           0.06305257004724621,
           0.03913262356217946,
           0.06195610672302478,
           0.0954004760301429,
           0.10630041089666968,
           0.10604972917139432,
           0.10176555406866535,
           0.06235919131521108,
           0.10224770607437852,
           -0.027752653726540212,
           0.0930758615384965,
           -0.14405962334217587,
           0.001208566233967323,
           0.10606132251807587,
           0.11012233797991089,
           0.08620082091256229,
           0.11007596938780755,
           0.09769963102226183,
           0.07271155773754323,
           0.09969484086207799,
           0.051618909896644215,
           0.1090759165243093,
           0.01487587595798685,
           0.10872717435430539,
           0.10943879101875661,
           0.11151035341320428,
           0.1106797465623551,
           0.0022770998939910746,
           0.09335525445442745,
           0.07652306863482491,
           0.10950449123473852,
           0.10674025263837746,
           -0.0012014955027146,
           0.11121066943359699,
           0.10074690116164098,
           0.09491829036539286,
           0.08779415999243623,
           -0.20719389098989285,
           0.08946601394994765,
           0.11004710205431419,
           0.06803056809004801,
           0.08369152990009829
          ],
          "colorbar": {
           "title": {
            "text": "Objective Value"
           }
          },
          "colorscale": [
           [
            0,
            "rgb(247,251,255)"
           ],
           [
            0.125,
            "rgb(222,235,247)"
           ],
           [
            0.25,
            "rgb(198,219,239)"
           ],
           [
            0.375,
            "rgb(158,202,225)"
           ],
           [
            0.5,
            "rgb(107,174,214)"
           ],
           [
            0.625,
            "rgb(66,146,198)"
           ],
           [
            0.75,
            "rgb(33,113,181)"
           ],
           [
            0.875,
            "rgb(8,81,156)"
           ],
           [
            1,
            "rgb(8,48,107)"
           ]
          ],
          "reversescale": false,
          "showscale": true
         },
         "type": "parcoords"
        }
       ],
       "layout": {
        "template": {
         "data": {
          "bar": [
           {
            "error_x": {
             "color": "#2a3f5f"
            },
            "error_y": {
             "color": "#2a3f5f"
            },
            "marker": {
             "line": {
              "color": "#E5ECF6",
              "width": 0.5
             },
             "pattern": {
              "fillmode": "overlay",
              "size": 10,
              "solidity": 0.2
             }
            },
            "type": "bar"
           }
          ],
          "barpolar": [
           {
            "marker": {
             "line": {
              "color": "#E5ECF6",
              "width": 0.5
             },
             "pattern": {
              "fillmode": "overlay",
              "size": 10,
              "solidity": 0.2
             }
            },
            "type": "barpolar"
           }
          ],
          "carpet": [
           {
            "aaxis": {
             "endlinecolor": "#2a3f5f",
             "gridcolor": "white",
             "linecolor": "white",
             "minorgridcolor": "white",
             "startlinecolor": "#2a3f5f"
            },
            "baxis": {
             "endlinecolor": "#2a3f5f",
             "gridcolor": "white",
             "linecolor": "white",
             "minorgridcolor": "white",
             "startlinecolor": "#2a3f5f"
            },
            "type": "carpet"
           }
          ],
          "choropleth": [
           {
            "colorbar": {
             "outlinewidth": 0,
             "ticks": ""
            },
            "type": "choropleth"
           }
          ],
          "contour": [
           {
            "colorbar": {
             "outlinewidth": 0,
             "ticks": ""
            },
            "colorscale": [
             [
              0,
              "#0d0887"
             ],
             [
              0.1111111111111111,
              "#46039f"
             ],
             [
              0.2222222222222222,
              "#7201a8"
             ],
             [
              0.3333333333333333,
              "#9c179e"
             ],
             [
              0.4444444444444444,
              "#bd3786"
             ],
             [
              0.5555555555555556,
              "#d8576b"
             ],
             [
              0.6666666666666666,
              "#ed7953"
             ],
             [
              0.7777777777777778,
              "#fb9f3a"
             ],
             [
              0.8888888888888888,
              "#fdca26"
             ],
             [
              1,
              "#f0f921"
             ]
            ],
            "type": "contour"
           }
          ],
          "contourcarpet": [
           {
            "colorbar": {
             "outlinewidth": 0,
             "ticks": ""
            },
            "type": "contourcarpet"
           }
          ],
          "heatmap": [
           {
            "colorbar": {
             "outlinewidth": 0,
             "ticks": ""
            },
            "colorscale": [
             [
              0,
              "#0d0887"
             ],
             [
              0.1111111111111111,
              "#46039f"
             ],
             [
              0.2222222222222222,
              "#7201a8"
             ],
             [
              0.3333333333333333,
              "#9c179e"
             ],
             [
              0.4444444444444444,
              "#bd3786"
             ],
             [
              0.5555555555555556,
              "#d8576b"
             ],
             [
              0.6666666666666666,
              "#ed7953"
             ],
             [
              0.7777777777777778,
              "#fb9f3a"
             ],
             [
              0.8888888888888888,
              "#fdca26"
             ],
             [
              1,
              "#f0f921"
             ]
            ],
            "type": "heatmap"
           }
          ],
          "heatmapgl": [
           {
            "colorbar": {
             "outlinewidth": 0,
             "ticks": ""
            },
            "colorscale": [
             [
              0,
              "#0d0887"
             ],
             [
              0.1111111111111111,
              "#46039f"
             ],
             [
              0.2222222222222222,
              "#7201a8"
             ],
             [
              0.3333333333333333,
              "#9c179e"
             ],
             [
              0.4444444444444444,
              "#bd3786"
             ],
             [
              0.5555555555555556,
              "#d8576b"
             ],
             [
              0.6666666666666666,
              "#ed7953"
             ],
             [
              0.7777777777777778,
              "#fb9f3a"
             ],
             [
              0.8888888888888888,
              "#fdca26"
             ],
             [
              1,
              "#f0f921"
             ]
            ],
            "type": "heatmapgl"
           }
          ],
          "histogram": [
           {
            "marker": {
             "pattern": {
              "fillmode": "overlay",
              "size": 10,
              "solidity": 0.2
             }
            },
            "type": "histogram"
           }
          ],
          "histogram2d": [
           {
            "colorbar": {
             "outlinewidth": 0,
             "ticks": ""
            },
            "colorscale": [
             [
              0,
              "#0d0887"
             ],
             [
              0.1111111111111111,
              "#46039f"
             ],
             [
              0.2222222222222222,
              "#7201a8"
             ],
             [
              0.3333333333333333,
              "#9c179e"
             ],
             [
              0.4444444444444444,
              "#bd3786"
             ],
             [
              0.5555555555555556,
              "#d8576b"
             ],
             [
              0.6666666666666666,
              "#ed7953"
             ],
             [
              0.7777777777777778,
              "#fb9f3a"
             ],
             [
              0.8888888888888888,
              "#fdca26"
             ],
             [
              1,
              "#f0f921"
             ]
            ],
            "type": "histogram2d"
           }
          ],
          "histogram2dcontour": [
           {
            "colorbar": {
             "outlinewidth": 0,
             "ticks": ""
            },
            "colorscale": [
             [
              0,
              "#0d0887"
             ],
             [
              0.1111111111111111,
              "#46039f"
             ],
             [
              0.2222222222222222,
              "#7201a8"
             ],
             [
              0.3333333333333333,
              "#9c179e"
             ],
             [
              0.4444444444444444,
              "#bd3786"
             ],
             [
              0.5555555555555556,
              "#d8576b"
             ],
             [
              0.6666666666666666,
              "#ed7953"
             ],
             [
              0.7777777777777778,
              "#fb9f3a"
             ],
             [
              0.8888888888888888,
              "#fdca26"
             ],
             [
              1,
              "#f0f921"
             ]
            ],
            "type": "histogram2dcontour"
           }
          ],
          "mesh3d": [
           {
            "colorbar": {
             "outlinewidth": 0,
             "ticks": ""
            },
            "type": "mesh3d"
           }
          ],
          "parcoords": [
           {
            "line": {
             "colorbar": {
              "outlinewidth": 0,
              "ticks": ""
             }
            },
            "type": "parcoords"
           }
          ],
          "pie": [
           {
            "automargin": true,
            "type": "pie"
           }
          ],
          "scatter": [
           {
            "marker": {
             "colorbar": {
              "outlinewidth": 0,
              "ticks": ""
             }
            },
            "type": "scatter"
           }
          ],
          "scatter3d": [
           {
            "line": {
             "colorbar": {
              "outlinewidth": 0,
              "ticks": ""
             }
            },
            "marker": {
             "colorbar": {
              "outlinewidth": 0,
              "ticks": ""
             }
            },
            "type": "scatter3d"
           }
          ],
          "scattercarpet": [
           {
            "marker": {
             "colorbar": {
              "outlinewidth": 0,
              "ticks": ""
             }
            },
            "type": "scattercarpet"
           }
          ],
          "scattergeo": [
           {
            "marker": {
             "colorbar": {
              "outlinewidth": 0,
              "ticks": ""
             }
            },
            "type": "scattergeo"
           }
          ],
          "scattergl": [
           {
            "marker": {
             "colorbar": {
              "outlinewidth": 0,
              "ticks": ""
             }
            },
            "type": "scattergl"
           }
          ],
          "scattermapbox": [
           {
            "marker": {
             "colorbar": {
              "outlinewidth": 0,
              "ticks": ""
             }
            },
            "type": "scattermapbox"
           }
          ],
          "scatterpolar": [
           {
            "marker": {
             "colorbar": {
              "outlinewidth": 0,
              "ticks": ""
             }
            },
            "type": "scatterpolar"
           }
          ],
          "scatterpolargl": [
           {
            "marker": {
             "colorbar": {
              "outlinewidth": 0,
              "ticks": ""
             }
            },
            "type": "scatterpolargl"
           }
          ],
          "scatterternary": [
           {
            "marker": {
             "colorbar": {
              "outlinewidth": 0,
              "ticks": ""
             }
            },
            "type": "scatterternary"
           }
          ],
          "surface": [
           {
            "colorbar": {
             "outlinewidth": 0,
             "ticks": ""
            },
            "colorscale": [
             [
              0,
              "#0d0887"
             ],
             [
              0.1111111111111111,
              "#46039f"
             ],
             [
              0.2222222222222222,
              "#7201a8"
             ],
             [
              0.3333333333333333,
              "#9c179e"
             ],
             [
              0.4444444444444444,
              "#bd3786"
             ],
             [
              0.5555555555555556,
              "#d8576b"
             ],
             [
              0.6666666666666666,
              "#ed7953"
             ],
             [
              0.7777777777777778,
              "#fb9f3a"
             ],
             [
              0.8888888888888888,
              "#fdca26"
             ],
             [
              1,
              "#f0f921"
             ]
            ],
            "type": "surface"
           }
          ],
          "table": [
           {
            "cells": {
             "fill": {
              "color": "#EBF0F8"
             },
             "line": {
              "color": "white"
             }
            },
            "header": {
             "fill": {
              "color": "#C8D4E3"
             },
             "line": {
              "color": "white"
             }
            },
            "type": "table"
           }
          ]
         },
         "layout": {
          "annotationdefaults": {
           "arrowcolor": "#2a3f5f",
           "arrowhead": 0,
           "arrowwidth": 1
          },
          "autotypenumbers": "strict",
          "coloraxis": {
           "colorbar": {
            "outlinewidth": 0,
            "ticks": ""
           }
          },
          "colorscale": {
           "diverging": [
            [
             0,
             "#8e0152"
            ],
            [
             0.1,
             "#c51b7d"
            ],
            [
             0.2,
             "#de77ae"
            ],
            [
             0.3,
             "#f1b6da"
            ],
            [
             0.4,
             "#fde0ef"
            ],
            [
             0.5,
             "#f7f7f7"
            ],
            [
             0.6,
             "#e6f5d0"
            ],
            [
             0.7,
             "#b8e186"
            ],
            [
             0.8,
             "#7fbc41"
            ],
            [
             0.9,
             "#4d9221"
            ],
            [
             1,
             "#276419"
            ]
           ],
           "sequential": [
            [
             0,
             "#0d0887"
            ],
            [
             0.1111111111111111,
             "#46039f"
            ],
            [
             0.2222222222222222,
             "#7201a8"
            ],
            [
             0.3333333333333333,
             "#9c179e"
            ],
            [
             0.4444444444444444,
             "#bd3786"
            ],
            [
             0.5555555555555556,
             "#d8576b"
            ],
            [
             0.6666666666666666,
             "#ed7953"
            ],
            [
             0.7777777777777778,
             "#fb9f3a"
            ],
            [
             0.8888888888888888,
             "#fdca26"
            ],
            [
             1,
             "#f0f921"
            ]
           ],
           "sequentialminus": [
            [
             0,
             "#0d0887"
            ],
            [
             0.1111111111111111,
             "#46039f"
            ],
            [
             0.2222222222222222,
             "#7201a8"
            ],
            [
             0.3333333333333333,
             "#9c179e"
            ],
            [
             0.4444444444444444,
             "#bd3786"
            ],
            [
             0.5555555555555556,
             "#d8576b"
            ],
            [
             0.6666666666666666,
             "#ed7953"
            ],
            [
             0.7777777777777778,
             "#fb9f3a"
            ],
            [
             0.8888888888888888,
             "#fdca26"
            ],
            [
             1,
             "#f0f921"
            ]
           ]
          },
          "colorway": [
           "#636efa",
           "#EF553B",
           "#00cc96",
           "#ab63fa",
           "#FFA15A",
           "#19d3f3",
           "#FF6692",
           "#B6E880",
           "#FF97FF",
           "#FECB52"
          ],
          "font": {
           "color": "#2a3f5f"
          },
          "geo": {
           "bgcolor": "white",
           "lakecolor": "white",
           "landcolor": "#E5ECF6",
           "showlakes": true,
           "showland": true,
           "subunitcolor": "white"
          },
          "hoverlabel": {
           "align": "left"
          },
          "hovermode": "closest",
          "mapbox": {
           "style": "light"
          },
          "paper_bgcolor": "white",
          "plot_bgcolor": "#E5ECF6",
          "polar": {
           "angularaxis": {
            "gridcolor": "white",
            "linecolor": "white",
            "ticks": ""
           },
           "bgcolor": "#E5ECF6",
           "radialaxis": {
            "gridcolor": "white",
            "linecolor": "white",
            "ticks": ""
           }
          },
          "scene": {
           "xaxis": {
            "backgroundcolor": "#E5ECF6",
            "gridcolor": "white",
            "gridwidth": 2,
            "linecolor": "white",
            "showbackground": true,
            "ticks": "",
            "zerolinecolor": "white"
           },
           "yaxis": {
            "backgroundcolor": "#E5ECF6",
            "gridcolor": "white",
            "gridwidth": 2,
            "linecolor": "white",
            "showbackground": true,
            "ticks": "",
            "zerolinecolor": "white"
           },
           "zaxis": {
            "backgroundcolor": "#E5ECF6",
            "gridcolor": "white",
            "gridwidth": 2,
            "linecolor": "white",
            "showbackground": true,
            "ticks": "",
            "zerolinecolor": "white"
           }
          },
          "shapedefaults": {
           "line": {
            "color": "#2a3f5f"
           }
          },
          "ternary": {
           "aaxis": {
            "gridcolor": "white",
            "linecolor": "white",
            "ticks": ""
           },
           "baxis": {
            "gridcolor": "white",
            "linecolor": "white",
            "ticks": ""
           },
           "bgcolor": "#E5ECF6",
           "caxis": {
            "gridcolor": "white",
            "linecolor": "white",
            "ticks": ""
           }
          },
          "title": {
           "x": 0.05
          },
          "xaxis": {
           "automargin": true,
           "gridcolor": "white",
           "linecolor": "white",
           "ticks": "",
           "title": {
            "standoff": 15
           },
           "zerolinecolor": "white",
           "zerolinewidth": 2
          },
          "yaxis": {
           "automargin": true,
           "gridcolor": "white",
           "linecolor": "white",
           "ticks": "",
           "title": {
            "standoff": 15
           },
           "zerolinecolor": "white",
           "zerolinewidth": 2
          }
         }
        },
        "title": {
         "text": "Parallel Coordinate Plot"
        }
       }
      }
     },
     "metadata": {},
     "output_type": "display_data"
    }
   ],
   "source": [
    "optuna.visualization.plot_parallel_coordinate(study)"
   ]
  },
  {
   "cell_type": "code",
   "execution_count": 32,
   "id": "75db1ddf",
   "metadata": {},
   "outputs": [
    {
     "name": "stdout",
     "output_type": "stream",
     "text": [
      "Best trial: {'C': 0.47684272826994245, 'epsilon': 0.2816363555103899, 'kernel': 'rbf', 'degree': 2}\n"
     ]
    }
   ],
   "source": [
    "print(\"Best trial:\", study.best_trial.params)"
   ]
  },
  {
   "cell_type": "code",
   "execution_count": 33,
   "id": "862eadd2",
   "metadata": {},
   "outputs": [
    {
     "data": {
      "text/html": [
       "<style>#sk-container-id-1 {color: black;}#sk-container-id-1 pre{padding: 0;}#sk-container-id-1 div.sk-toggleable {background-color: white;}#sk-container-id-1 label.sk-toggleable__label {cursor: pointer;display: block;width: 100%;margin-bottom: 0;padding: 0.3em;box-sizing: border-box;text-align: center;}#sk-container-id-1 label.sk-toggleable__label-arrow:before {content: \"▸\";float: left;margin-right: 0.25em;color: #696969;}#sk-container-id-1 label.sk-toggleable__label-arrow:hover:before {color: black;}#sk-container-id-1 div.sk-estimator:hover label.sk-toggleable__label-arrow:before {color: black;}#sk-container-id-1 div.sk-toggleable__content {max-height: 0;max-width: 0;overflow: hidden;text-align: left;background-color: #f0f8ff;}#sk-container-id-1 div.sk-toggleable__content pre {margin: 0.2em;color: black;border-radius: 0.25em;background-color: #f0f8ff;}#sk-container-id-1 input.sk-toggleable__control:checked~div.sk-toggleable__content {max-height: 200px;max-width: 100%;overflow: auto;}#sk-container-id-1 input.sk-toggleable__control:checked~label.sk-toggleable__label-arrow:before {content: \"▾\";}#sk-container-id-1 div.sk-estimator input.sk-toggleable__control:checked~label.sk-toggleable__label {background-color: #d4ebff;}#sk-container-id-1 div.sk-label input.sk-toggleable__control:checked~label.sk-toggleable__label {background-color: #d4ebff;}#sk-container-id-1 input.sk-hidden--visually {border: 0;clip: rect(1px 1px 1px 1px);clip: rect(1px, 1px, 1px, 1px);height: 1px;margin: -1px;overflow: hidden;padding: 0;position: absolute;width: 1px;}#sk-container-id-1 div.sk-estimator {font-family: monospace;background-color: #f0f8ff;border: 1px dotted black;border-radius: 0.25em;box-sizing: border-box;margin-bottom: 0.5em;}#sk-container-id-1 div.sk-estimator:hover {background-color: #d4ebff;}#sk-container-id-1 div.sk-parallel-item::after {content: \"\";width: 100%;border-bottom: 1px solid gray;flex-grow: 1;}#sk-container-id-1 div.sk-label:hover label.sk-toggleable__label {background-color: #d4ebff;}#sk-container-id-1 div.sk-serial::before {content: \"\";position: absolute;border-left: 1px solid gray;box-sizing: border-box;top: 0;bottom: 0;left: 50%;z-index: 0;}#sk-container-id-1 div.sk-serial {display: flex;flex-direction: column;align-items: center;background-color: white;padding-right: 0.2em;padding-left: 0.2em;position: relative;}#sk-container-id-1 div.sk-item {position: relative;z-index: 1;}#sk-container-id-1 div.sk-parallel {display: flex;align-items: stretch;justify-content: center;background-color: white;position: relative;}#sk-container-id-1 div.sk-item::before, #sk-container-id-1 div.sk-parallel-item::before {content: \"\";position: absolute;border-left: 1px solid gray;box-sizing: border-box;top: 0;bottom: 0;left: 50%;z-index: -1;}#sk-container-id-1 div.sk-parallel-item {display: flex;flex-direction: column;z-index: 1;position: relative;background-color: white;}#sk-container-id-1 div.sk-parallel-item:first-child::after {align-self: flex-end;width: 50%;}#sk-container-id-1 div.sk-parallel-item:last-child::after {align-self: flex-start;width: 50%;}#sk-container-id-1 div.sk-parallel-item:only-child::after {width: 0;}#sk-container-id-1 div.sk-dashed-wrapped {border: 1px dashed gray;margin: 0 0.4em 0.5em 0.4em;box-sizing: border-box;padding-bottom: 0.4em;background-color: white;}#sk-container-id-1 div.sk-label label {font-family: monospace;font-weight: bold;display: inline-block;line-height: 1.2em;}#sk-container-id-1 div.sk-label-container {text-align: center;}#sk-container-id-1 div.sk-container {/* jupyter's `normalize.less` sets `[hidden] { display: none; }` but bootstrap.min.css set `[hidden] { display: none !important; }` so we also need the `!important` here to be able to override the default hidden behavior on the sphinx rendered scikit-learn.org. See: https://github.com/scikit-learn/scikit-learn/issues/21755 */display: inline-block !important;position: relative;}#sk-container-id-1 div.sk-text-repr-fallback {display: none;}</style><div id=\"sk-container-id-1\" class=\"sk-top-container\"><div class=\"sk-text-repr-fallback\"><pre>SVR(C=0.47684272826994245, degree=2, epsilon=0.2816363555103899)</pre><b>In a Jupyter environment, please rerun this cell to show the HTML representation or trust the notebook. <br />On GitHub, the HTML representation is unable to render, please try loading this page with nbviewer.org.</b></div><div class=\"sk-container\" hidden><div class=\"sk-item\"><div class=\"sk-estimator sk-toggleable\"><input class=\"sk-toggleable__control sk-hidden--visually\" id=\"sk-estimator-id-1\" type=\"checkbox\" checked><label for=\"sk-estimator-id-1\" class=\"sk-toggleable__label sk-toggleable__label-arrow\">SVR</label><div class=\"sk-toggleable__content\"><pre>SVR(C=0.47684272826994245, degree=2, epsilon=0.2816363555103899)</pre></div></div></div></div></div>"
      ],
      "text/plain": [
       "SVR(C=0.47684272826994245, degree=2, epsilon=0.2816363555103899)"
      ]
     },
     "execution_count": 33,
     "metadata": {},
     "output_type": "execute_result"
    }
   ],
   "source": [
    "svm_params = {\n",
    "    \"C\": study.best_trial.params[\"C\"],\n",
    "    \"epsilon\": study.best_trial.params[\"epsilon\"],\n",
    "    \"kernel\": study.best_trial.params[\"kernel\"],\n",
    "    \"degree\": study.best_trial.params[\"degree\"]\n",
    "}\n",
    "\n",
    "svm = SVR(**svm_params)\n",
    "svm.fit(As_X_train, As_y_train)"
   ]
  },
  {
   "cell_type": "code",
   "execution_count": 34,
   "id": "8577fb37",
   "metadata": {},
   "outputs": [],
   "source": [
    "y_train_pred = svm.predict(As_X_train)\n",
    "y_test_pred = svm.predict(As_X_test)"
   ]
  },
  {
   "cell_type": "code",
   "execution_count": 35,
   "id": "2ea0526a",
   "metadata": {},
   "outputs": [],
   "source": [
    "# plt.scatter(y_train_pred, np.array(As_y_train))"
   ]
  },
  {
   "cell_type": "code",
   "execution_count": 36,
   "id": "d2a4dd85",
   "metadata": {},
   "outputs": [
    {
     "name": "stdout",
     "output_type": "stream",
     "text": [
      "Train RMSE:  0.37050815321313585\n",
      "Test RMSE:  0.36141425239124597\n"
     ]
    }
   ],
   "source": [
    "print(\"Train RMSE: \", np.sqrt(mean_squared_error(As_y_train, y_train_pred)))\n",
    "print(\"Test RMSE: \", np.sqrt(mean_squared_error(As_y_test, y_test_pred)))"
   ]
  },
  {
   "cell_type": "code",
   "execution_count": 37,
   "id": "08fe787a",
   "metadata": {},
   "outputs": [
    {
     "name": "stdout",
     "output_type": "stream",
     "text": [
      "Train R2:  0.30704933602190354\n",
      "Test R2:  0.07981532736783992\n"
     ]
    }
   ],
   "source": [
    "print(\"Train R2: \", r2_score(As_y_train, y_train_pred))\n",
    "print(\"Test R2: \", r2_score(As_y_test, y_test_pred))"
   ]
  },
  {
   "cell_type": "code",
   "execution_count": 38,
   "id": "5ec4820c",
   "metadata": {},
   "outputs": [
    {
     "data": {
      "image/png": "[encoded data removed]",
      "text/plain": [
       "<Figure size 640x480 with 1 Axes>"
      ]
     },
     "metadata": {},
     "output_type": "display_data"
    }
   ],
   "source": [
    "plt.scatter(y_train_pred, np.array(As_y_train), color=\"orange\", alpha=0.3)\n",
    "plt.scatter(y_test_pred, np.array(As_y_test), color=\"green\", alpha=0.4)\n",
    "plt.axis(\"auto\") # scaled, tight, auto, image, square\n",
    "# plt.xlim([0, 1.5]) \n",
    "# plt.ylim(0, None) \n",
    "plt.xlabel('Predicted Values')\n",
    "plt.ylabel('Actual Values')\n",
    "\n",
    "# Add y=x line\n",
    "plt.plot([0, 2.0], [0, 2.0], color='red', linestyle='-')\n",
    "\n",
    "plt.show()"
   ]
  },
  {
   "attachments": {},
   "cell_type": "markdown",
   "id": "e0507d63",
   "metadata": {},
   "source": [
    "Cd"
   ]
  },
  {
   "attachments": {},
   "cell_type": "markdown",
   "id": "f8f809d9",
   "metadata": {},
   "source": [
    "Optimization"
   ]
  },
  {
   "cell_type": "code",
   "execution_count": 39,
   "id": "b7aeaf0a",
   "metadata": {},
   "outputs": [
    {
     "name": "stderr",
     "output_type": "stream",
     "text": [
      "\u001b[32m[I 2023-08-28 23:40:40,543]\u001b[0m A new study created in memory with name: svm_parameter_opt\u001b[0m\n",
      "\u001b[32m[I 2023-08-28 23:40:40,581]\u001b[0m Trial 0 finished with value: -3.2700143296377546 and parameters: {'C': 2.9714006342722805, 'epsilon': 0.11741892152650076, 'kernel': 'poly', 'degree': 5}. Best is trial 0 with value: -3.2700143296377546.\u001b[0m\n",
      "\u001b[32m[I 2023-08-28 23:40:40,593]\u001b[0m Trial 1 finished with value: -0.4287952759128064 and parameters: {'C': 1.3079494022744982, 'epsilon': 0.6374098928931945, 'kernel': 'poly', 'degree': 1}. Best is trial 1 with value: -0.4287952759128064.\u001b[0m\n",
      "\u001b[32m[I 2023-08-28 23:40:40,605]\u001b[0m Trial 2 finished with value: -0.4287952759128064 and parameters: {'C': 26.01338018615394, 'epsilon': 0.28621219464692604, 'kernel': 'poly', 'degree': 3}. Best is trial 1 with value: -0.4287952759128064.\u001b[0m\n",
      "\u001b[32m[I 2023-08-28 23:40:52,236]\u001b[0m Trial 3 finished with value: -0.02296163508667144 and parameters: {'C': 25.82448914963412, 'epsilon': 0.038908140909748125, 'kernel': 'linear', 'degree': 1}. Best is trial 3 with value: -0.02296163508667144.\u001b[0m\n",
      "\u001b[32m[I 2023-08-28 23:40:52,247]\u001b[0m Trial 4 finished with value: -0.4287952759128064 and parameters: {'C': 0.5674612682497747, 'epsilon': 0.23840625577101382, 'kernel': 'linear', 'degree': 3}. Best is trial 3 with value: -0.02296163508667144.\u001b[0m\n",
      "\u001b[32m[I 2023-08-28 23:40:52,257]\u001b[0m Trial 5 finished with value: -0.4287952759128064 and parameters: {'C': 6.232636559158907, 'epsilon': 0.4625156158202904, 'kernel': 'rbf', 'degree': 2}. Best is trial 3 with value: -0.02296163508667144.\u001b[0m\n",
      "\u001b[32m[I 2023-08-28 23:40:52,833]\u001b[0m Trial 6 finished with value: -0.08893865936859857 and parameters: {'C': 0.6309207650881972, 'epsilon': 0.014454443791779245, 'kernel': 'linear', 'degree': 2}. Best is trial 3 with value: -0.02296163508667144.\u001b[0m\n",
      "\u001b[32m[I 2023-08-28 23:40:53,312]\u001b[0m Trial 7 finished with value: -8.071509984557622 and parameters: {'C': 7.326388632624535, 'epsilon': 0.028390147727745365, 'kernel': 'poly', 'degree': 4}. Best is trial 3 with value: -0.02296163508667144.\u001b[0m\n",
      "\u001b[32m[I 2023-08-28 23:40:53,495]\u001b[0m Trial 8 finished with value: -0.19769698058880358 and parameters: {'C': 2.2675390001979085, 'epsilon': 0.12886337316101326, 'kernel': 'linear', 'degree': 4}. Best is trial 3 with value: -0.02296163508667144.\u001b[0m\n",
      "\u001b[32m[I 2023-08-28 23:40:53,506]\u001b[0m Trial 9 finished with value: -0.4287952759128064 and parameters: {'C': 0.4089021491943999, 'epsilon': 0.44449482674335306, 'kernel': 'poly', 'degree': 1}. Best is trial 3 with value: -0.02296163508667144.\u001b[0m\n",
      "\u001b[32m[I 2023-08-28 23:40:54,227]\u001b[0m Trial 10 finished with value: -1.0598651284150908 and parameters: {'C': 90.05442967464519, 'epsilon': 0.04182258998177468, 'kernel': 'rbf', 'degree': 2}. Best is trial 3 with value: -0.02296163508667144.\u001b[0m\n",
      "\u001b[32m[I 2023-08-28 23:40:54,448]\u001b[0m Trial 11 finished with value: -0.08781132733287977 and parameters: {'C': 0.1147177182475714, 'epsilon': 0.011514372921180946, 'kernel': 'linear', 'degree': 2}. Best is trial 3 with value: -0.02296163508667144.\u001b[0m\n",
      "\u001b[32m[I 2023-08-28 23:40:54,708]\u001b[0m Trial 12 finished with value: -0.09390233554058539 and parameters: {'C': 0.16410132912748365, 'epsilon': 0.010428878115458576, 'kernel': 'linear', 'degree': 1}. Best is trial 3 with value: -0.02296163508667144.\u001b[0m\n",
      "\u001b[32m[I 2023-08-28 23:40:54,904]\u001b[0m Trial 13 finished with value: -0.021227465367133824 and parameters: {'C': 0.11188364765443812, 'epsilon': 0.03916433731060148, 'kernel': 'linear', 'degree': 2}. Best is trial 13 with value: -0.021227465367133824.\u001b[0m\n",
      "\u001b[32m[I 2023-08-28 23:41:03,111]\u001b[0m Trial 14 finished with value: -0.002767373232334935 and parameters: {'C': 17.729013098095972, 'epsilon': 0.04967154526254015, 'kernel': 'linear', 'degree': 1}. Best is trial 14 with value: -0.002767373232334935.\u001b[0m\n"
     ]
    },
    {
     "ename": "KeyboardInterrupt",
     "evalue": "",
     "output_type": "error",
     "traceback": [
      "\u001b[1;31m---------------------------------------------------------------------------\u001b[0m",
      "\u001b[1;31mKeyboardInterrupt\u001b[0m                         Traceback (most recent call last)",
      "Cell \u001b[1;32mIn[39], line 8\u001b[0m\n\u001b[0;32m      1\u001b[0m sampler \u001b[39m=\u001b[39m TPESampler()\n\u001b[0;32m      2\u001b[0m study \u001b[39m=\u001b[39m optuna\u001b[39m.\u001b[39mcreate_study(\n\u001b[0;32m      3\u001b[0m     study_name\u001b[39m=\u001b[39m\u001b[39m\"\u001b[39m\u001b[39msvm_parameter_opt\u001b[39m\u001b[39m\"\u001b[39m,\n\u001b[0;32m      4\u001b[0m     direction\u001b[39m=\u001b[39m\u001b[39m\"\u001b[39m\u001b[39mmaximize\u001b[39m\u001b[39m\"\u001b[39m,\n\u001b[0;32m      5\u001b[0m     sampler\u001b[39m=\u001b[39msampler,\n\u001b[0;32m      6\u001b[0m )\n\u001b[1;32m----> 8\u001b[0m study\u001b[39m.\u001b[39;49moptimize(\u001b[39mlambda\u001b[39;49;00m trial : objectiveSVM(trial, Cd_X_train, Cd_y_train), n_trials\u001b[39m=\u001b[39;49m\u001b[39m100\u001b[39;49m)\n\u001b[0;32m      9\u001b[0m \u001b[39mprint\u001b[39m(\u001b[39m\"\u001b[39m\u001b[39mBest r2: \u001b[39m\u001b[39m\"\u001b[39m, study\u001b[39m.\u001b[39mbest_value)\n\u001b[0;32m     10\u001b[0m \u001b[39mprint\u001b[39m(\u001b[39m\"\u001b[39m\u001b[39mBest trial:\u001b[39m\u001b[39m\"\u001b[39m, study\u001b[39m.\u001b[39mbest_trial\u001b[39m.\u001b[39mparams)\n",
      "File \u001b[1;32mc:\\Users\\jyssy\\anaconda3\\lib\\site-packages\\optuna\\study\\study.py:400\u001b[0m, in \u001b[0;36mStudy.optimize\u001b[1;34m(self, func, n_trials, timeout, n_jobs, catch, callbacks, gc_after_trial, show_progress_bar)\u001b[0m\n\u001b[0;32m    392\u001b[0m \u001b[39mif\u001b[39;00m n_jobs \u001b[39m!=\u001b[39m \u001b[39m1\u001b[39m:\n\u001b[0;32m    393\u001b[0m     warnings\u001b[39m.\u001b[39mwarn(\n\u001b[0;32m    394\u001b[0m         \u001b[39m\"\u001b[39m\u001b[39m`n_jobs` argument has been deprecated in v2.7.0. \u001b[39m\u001b[39m\"\u001b[39m\n\u001b[0;32m    395\u001b[0m         \u001b[39m\"\u001b[39m\u001b[39mThis feature will be removed in v4.0.0. \u001b[39m\u001b[39m\"\u001b[39m\n\u001b[0;32m    396\u001b[0m         \u001b[39m\"\u001b[39m\u001b[39mSee https://github.com/optuna/optuna/releases/tag/v2.7.0.\u001b[39m\u001b[39m\"\u001b[39m,\n\u001b[0;32m    397\u001b[0m         \u001b[39mFutureWarning\u001b[39;00m,\n\u001b[0;32m    398\u001b[0m     )\n\u001b[1;32m--> 400\u001b[0m _optimize(\n\u001b[0;32m    401\u001b[0m     study\u001b[39m=\u001b[39;49m\u001b[39mself\u001b[39;49m,\n\u001b[0;32m    402\u001b[0m     func\u001b[39m=\u001b[39;49mfunc,\n\u001b[0;32m    403\u001b[0m     n_trials\u001b[39m=\u001b[39;49mn_trials,\n\u001b[0;32m    404\u001b[0m     timeout\u001b[39m=\u001b[39;49mtimeout,\n\u001b[0;32m    405\u001b[0m     n_jobs\u001b[39m=\u001b[39;49mn_jobs,\n\u001b[0;32m    406\u001b[0m     catch\u001b[39m=\u001b[39;49mcatch,\n\u001b[0;32m    407\u001b[0m     callbacks\u001b[39m=\u001b[39;49mcallbacks,\n\u001b[0;32m    408\u001b[0m     gc_after_trial\u001b[39m=\u001b[39;49mgc_after_trial,\n\u001b[0;32m    409\u001b[0m     show_progress_bar\u001b[39m=\u001b[39;49mshow_progress_bar,\n\u001b[0;32m    410\u001b[0m )\n",
      "File \u001b[1;32mc:\\Users\\jyssy\\anaconda3\\lib\\site-packages\\optuna\\study\\_optimize.py:66\u001b[0m, in \u001b[0;36m_optimize\u001b[1;34m(study, func, n_trials, timeout, n_jobs, catch, callbacks, gc_after_trial, show_progress_bar)\u001b[0m\n\u001b[0;32m     64\u001b[0m \u001b[39mtry\u001b[39;00m:\n\u001b[0;32m     65\u001b[0m     \u001b[39mif\u001b[39;00m n_jobs \u001b[39m==\u001b[39m \u001b[39m1\u001b[39m:\n\u001b[1;32m---> 66\u001b[0m         _optimize_sequential(\n\u001b[0;32m     67\u001b[0m             study,\n\u001b[0;32m     68\u001b[0m             func,\n\u001b[0;32m     69\u001b[0m             n_trials,\n\u001b[0;32m     70\u001b[0m             timeout,\n\u001b[0;32m     71\u001b[0m             catch,\n\u001b[0;32m     72\u001b[0m             callbacks,\n\u001b[0;32m     73\u001b[0m             gc_after_trial,\n\u001b[0;32m     74\u001b[0m             reseed_sampler_rng\u001b[39m=\u001b[39;49m\u001b[39mFalse\u001b[39;49;00m,\n\u001b[0;32m     75\u001b[0m             time_start\u001b[39m=\u001b[39;49m\u001b[39mNone\u001b[39;49;00m,\n\u001b[0;32m     76\u001b[0m             progress_bar\u001b[39m=\u001b[39;49mprogress_bar,\n\u001b[0;32m     77\u001b[0m         )\n\u001b[0;32m     78\u001b[0m     \u001b[39melse\u001b[39;00m:\n\u001b[0;32m     79\u001b[0m         \u001b[39mif\u001b[39;00m show_progress_bar:\n",
      "File \u001b[1;32mc:\\Users\\jyssy\\anaconda3\\lib\\site-packages\\optuna\\study\\_optimize.py:163\u001b[0m, in \u001b[0;36m_optimize_sequential\u001b[1;34m(study, func, n_trials, timeout, catch, callbacks, gc_after_trial, reseed_sampler_rng, time_start, progress_bar)\u001b[0m\n\u001b[0;32m    160\u001b[0m         \u001b[39mbreak\u001b[39;00m\n\u001b[0;32m    162\u001b[0m \u001b[39mtry\u001b[39;00m:\n\u001b[1;32m--> 163\u001b[0m     trial \u001b[39m=\u001b[39m _run_trial(study, func, catch)\n\u001b[0;32m    164\u001b[0m \u001b[39mexcept\u001b[39;00m \u001b[39mException\u001b[39;00m:\n\u001b[0;32m    165\u001b[0m     \u001b[39mraise\u001b[39;00m\n",
      "File \u001b[1;32mc:\\Users\\jyssy\\anaconda3\\lib\\site-packages\\optuna\\study\\_optimize.py:213\u001b[0m, in \u001b[0;36m_run_trial\u001b[1;34m(study, func, catch)\u001b[0m\n\u001b[0;32m    210\u001b[0m     thread\u001b[39m.\u001b[39mstart()\n\u001b[0;32m    212\u001b[0m \u001b[39mtry\u001b[39;00m:\n\u001b[1;32m--> 213\u001b[0m     value_or_values \u001b[39m=\u001b[39m func(trial)\n\u001b[0;32m    214\u001b[0m \u001b[39mexcept\u001b[39;00m exceptions\u001b[39m.\u001b[39mTrialPruned \u001b[39mas\u001b[39;00m e:\n\u001b[0;32m    215\u001b[0m     \u001b[39m# TODO(mamu): Handle multi-objective cases.\u001b[39;00m\n\u001b[0;32m    216\u001b[0m     state \u001b[39m=\u001b[39m TrialState\u001b[39m.\u001b[39mPRUNED\n",
      "Cell \u001b[1;32mIn[39], line 8\u001b[0m, in \u001b[0;36m<lambda>\u001b[1;34m(trial)\u001b[0m\n\u001b[0;32m      1\u001b[0m sampler \u001b[39m=\u001b[39m TPESampler()\n\u001b[0;32m      2\u001b[0m study \u001b[39m=\u001b[39m optuna\u001b[39m.\u001b[39mcreate_study(\n\u001b[0;32m      3\u001b[0m     study_name\u001b[39m=\u001b[39m\u001b[39m\"\u001b[39m\u001b[39msvm_parameter_opt\u001b[39m\u001b[39m\"\u001b[39m,\n\u001b[0;32m      4\u001b[0m     direction\u001b[39m=\u001b[39m\u001b[39m\"\u001b[39m\u001b[39mmaximize\u001b[39m\u001b[39m\"\u001b[39m,\n\u001b[0;32m      5\u001b[0m     sampler\u001b[39m=\u001b[39msampler,\n\u001b[0;32m      6\u001b[0m )\n\u001b[1;32m----> 8\u001b[0m study\u001b[39m.\u001b[39moptimize(\u001b[39mlambda\u001b[39;00m trial : objectiveSVM(trial, Cd_X_train, Cd_y_train), n_trials\u001b[39m=\u001b[39m\u001b[39m100\u001b[39m)\n\u001b[0;32m      9\u001b[0m \u001b[39mprint\u001b[39m(\u001b[39m\"\u001b[39m\u001b[39mBest r2: \u001b[39m\u001b[39m\"\u001b[39m, study\u001b[39m.\u001b[39mbest_value)\n\u001b[0;32m     10\u001b[0m \u001b[39mprint\u001b[39m(\u001b[39m\"\u001b[39m\u001b[39mBest trial:\u001b[39m\u001b[39m\"\u001b[39m, study\u001b[39m.\u001b[39mbest_trial\u001b[39m.\u001b[39mparams)\n",
      "Cell \u001b[1;32mIn[29], line 15\u001b[0m, in \u001b[0;36mobjectiveSVM\u001b[1;34m(trial, X_train, y_train)\u001b[0m\n\u001b[0;32m     11\u001b[0m kf \u001b[39m=\u001b[39m KFold(n_splits\u001b[39m=\u001b[39m\u001b[39m5\u001b[39m, shuffle\u001b[39m=\u001b[39m\u001b[39mTrue\u001b[39;00m, random_state\u001b[39m=\u001b[39m\u001b[39m42\u001b[39m)\n\u001b[0;32m     13\u001b[0m model \u001b[39m=\u001b[39m SVR(C\u001b[39m=\u001b[39mC, epsilon\u001b[39m=\u001b[39mepsilon, kernel\u001b[39m=\u001b[39mkernel, degree\u001b[39m=\u001b[39mdegree)\n\u001b[1;32m---> 15\u001b[0m r2 \u001b[39m=\u001b[39m cross_val_score(model, X_train, y_train, scoring\u001b[39m=\u001b[39;49m\u001b[39m'\u001b[39;49m\u001b[39mr2\u001b[39;49m\u001b[39m'\u001b[39;49m, cv\u001b[39m=\u001b[39;49mkf)\n\u001b[0;32m     16\u001b[0m r2 \u001b[39m=\u001b[39m r2\u001b[39m.\u001b[39mmean()\n\u001b[0;32m     18\u001b[0m \u001b[39mreturn\u001b[39;00m r2\n",
      "File \u001b[1;32mc:\\Users\\jyssy\\anaconda3\\lib\\site-packages\\sklearn\\model_selection\\_validation.py:562\u001b[0m, in \u001b[0;36mcross_val_score\u001b[1;34m(estimator, X, y, groups, scoring, cv, n_jobs, verbose, fit_params, pre_dispatch, error_score)\u001b[0m\n\u001b[0;32m    559\u001b[0m \u001b[39m# To ensure multimetric format is not supported\u001b[39;00m\n\u001b[0;32m    560\u001b[0m scorer \u001b[39m=\u001b[39m check_scoring(estimator, scoring\u001b[39m=\u001b[39mscoring)\n\u001b[1;32m--> 562\u001b[0m cv_results \u001b[39m=\u001b[39m cross_validate(\n\u001b[0;32m    563\u001b[0m     estimator\u001b[39m=\u001b[39;49mestimator,\n\u001b[0;32m    564\u001b[0m     X\u001b[39m=\u001b[39;49mX,\n\u001b[0;32m    565\u001b[0m     y\u001b[39m=\u001b[39;49my,\n\u001b[0;32m    566\u001b[0m     groups\u001b[39m=\u001b[39;49mgroups,\n\u001b[0;32m    567\u001b[0m     scoring\u001b[39m=\u001b[39;49m{\u001b[39m\"\u001b[39;49m\u001b[39mscore\u001b[39;49m\u001b[39m\"\u001b[39;49m: scorer},\n\u001b[0;32m    568\u001b[0m     cv\u001b[39m=\u001b[39;49mcv,\n\u001b[0;32m    569\u001b[0m     n_jobs\u001b[39m=\u001b[39;49mn_jobs,\n\u001b[0;32m    570\u001b[0m     verbose\u001b[39m=\u001b[39;49mverbose,\n\u001b[0;32m    571\u001b[0m     fit_params\u001b[39m=\u001b[39;49mfit_params,\n\u001b[0;32m    572\u001b[0m     pre_dispatch\u001b[39m=\u001b[39;49mpre_dispatch,\n\u001b[0;32m    573\u001b[0m     error_score\u001b[39m=\u001b[39;49merror_score,\n\u001b[0;32m    574\u001b[0m )\n\u001b[0;32m    575\u001b[0m \u001b[39mreturn\u001b[39;00m cv_results[\u001b[39m\"\u001b[39m\u001b[39mtest_score\u001b[39m\u001b[39m\"\u001b[39m]\n",
      "File \u001b[1;32mc:\\Users\\jyssy\\anaconda3\\lib\\site-packages\\sklearn\\utils\\_param_validation.py:211\u001b[0m, in \u001b[0;36mvalidate_params.<locals>.decorator.<locals>.wrapper\u001b[1;34m(*args, **kwargs)\u001b[0m\n\u001b[0;32m    205\u001b[0m \u001b[39mtry\u001b[39;00m:\n\u001b[0;32m    206\u001b[0m     \u001b[39mwith\u001b[39;00m config_context(\n\u001b[0;32m    207\u001b[0m         skip_parameter_validation\u001b[39m=\u001b[39m(\n\u001b[0;32m    208\u001b[0m             prefer_skip_nested_validation \u001b[39mor\u001b[39;00m global_skip_validation\n\u001b[0;32m    209\u001b[0m         )\n\u001b[0;32m    210\u001b[0m     ):\n\u001b[1;32m--> 211\u001b[0m         \u001b[39mreturn\u001b[39;00m func(\u001b[39m*\u001b[39;49margs, \u001b[39m*\u001b[39;49m\u001b[39m*\u001b[39;49mkwargs)\n\u001b[0;32m    212\u001b[0m \u001b[39mexcept\u001b[39;00m InvalidParameterError \u001b[39mas\u001b[39;00m e:\n\u001b[0;32m    213\u001b[0m     \u001b[39m# When the function is just a wrapper around an estimator, we allow\u001b[39;00m\n\u001b[0;32m    214\u001b[0m     \u001b[39m# the function to delegate validation to the estimator, but we replace\u001b[39;00m\n\u001b[0;32m    215\u001b[0m     \u001b[39m# the name of the estimator by the name of the function in the error\u001b[39;00m\n\u001b[0;32m    216\u001b[0m     \u001b[39m# message to avoid confusion.\u001b[39;00m\n\u001b[0;32m    217\u001b[0m     msg \u001b[39m=\u001b[39m re\u001b[39m.\u001b[39msub(\n\u001b[0;32m    218\u001b[0m         \u001b[39mr\u001b[39m\u001b[39m\"\u001b[39m\u001b[39mparameter of \u001b[39m\u001b[39m\\\u001b[39m\u001b[39mw+ must be\u001b[39m\u001b[39m\"\u001b[39m,\n\u001b[0;32m    219\u001b[0m         \u001b[39mf\u001b[39m\u001b[39m\"\u001b[39m\u001b[39mparameter of \u001b[39m\u001b[39m{\u001b[39;00mfunc\u001b[39m.\u001b[39m\u001b[39m__qualname__\u001b[39m\u001b[39m}\u001b[39;00m\u001b[39m must be\u001b[39m\u001b[39m\"\u001b[39m,\n\u001b[0;32m    220\u001b[0m         \u001b[39mstr\u001b[39m(e),\n\u001b[0;32m    221\u001b[0m     )\n",
      "File \u001b[1;32mc:\\Users\\jyssy\\anaconda3\\lib\\site-packages\\sklearn\\model_selection\\_validation.py:309\u001b[0m, in \u001b[0;36mcross_validate\u001b[1;34m(estimator, X, y, groups, scoring, cv, n_jobs, verbose, fit_params, pre_dispatch, return_train_score, return_estimator, return_indices, error_score)\u001b[0m\n\u001b[0;32m    306\u001b[0m \u001b[39m# We clone the estimator to make sure that all the folds are\u001b[39;00m\n\u001b[0;32m    307\u001b[0m \u001b[39m# independent, and that it is pickle-able.\u001b[39;00m\n\u001b[0;32m    308\u001b[0m parallel \u001b[39m=\u001b[39m Parallel(n_jobs\u001b[39m=\u001b[39mn_jobs, verbose\u001b[39m=\u001b[39mverbose, pre_dispatch\u001b[39m=\u001b[39mpre_dispatch)\n\u001b[1;32m--> 309\u001b[0m results \u001b[39m=\u001b[39m parallel(\n\u001b[0;32m    310\u001b[0m     delayed(_fit_and_score)(\n\u001b[0;32m    311\u001b[0m         clone(estimator),\n\u001b[0;32m    312\u001b[0m         X,\n\u001b[0;32m    313\u001b[0m         y,\n\u001b[0;32m    314\u001b[0m         scorers,\n\u001b[0;32m    315\u001b[0m         train,\n\u001b[0;32m    316\u001b[0m         test,\n\u001b[0;32m    317\u001b[0m         verbose,\n\u001b[0;32m    318\u001b[0m         \u001b[39mNone\u001b[39;49;00m,\n\u001b[0;32m    319\u001b[0m         fit_params,\n\u001b[0;32m    320\u001b[0m         return_train_score\u001b[39m=\u001b[39;49mreturn_train_score,\n\u001b[0;32m    321\u001b[0m         return_times\u001b[39m=\u001b[39;49m\u001b[39mTrue\u001b[39;49;00m,\n\u001b[0;32m    322\u001b[0m         return_estimator\u001b[39m=\u001b[39;49mreturn_estimator,\n\u001b[0;32m    323\u001b[0m         error_score\u001b[39m=\u001b[39;49merror_score,\n\u001b[0;32m    324\u001b[0m     )\n\u001b[0;32m    325\u001b[0m     \u001b[39mfor\u001b[39;49;00m train, test \u001b[39min\u001b[39;49;00m indices\n\u001b[0;32m    326\u001b[0m )\n\u001b[0;32m    328\u001b[0m _warn_or_raise_about_fit_failures(results, error_score)\n\u001b[0;32m    330\u001b[0m \u001b[39m# For callable scoring, the return type is only know after calling. If the\u001b[39;00m\n\u001b[0;32m    331\u001b[0m \u001b[39m# return type is a dictionary, the error scores can now be inserted with\u001b[39;00m\n\u001b[0;32m    332\u001b[0m \u001b[39m# the correct key.\u001b[39;00m\n",
      "File \u001b[1;32mc:\\Users\\jyssy\\anaconda3\\lib\\site-packages\\sklearn\\utils\\parallel.py:65\u001b[0m, in \u001b[0;36mParallel.__call__\u001b[1;34m(self, iterable)\u001b[0m\n\u001b[0;32m     60\u001b[0m config \u001b[39m=\u001b[39m get_config()\n\u001b[0;32m     61\u001b[0m iterable_with_config \u001b[39m=\u001b[39m (\n\u001b[0;32m     62\u001b[0m     (_with_config(delayed_func, config), args, kwargs)\n\u001b[0;32m     63\u001b[0m     \u001b[39mfor\u001b[39;00m delayed_func, args, kwargs \u001b[39min\u001b[39;00m iterable\n\u001b[0;32m     64\u001b[0m )\n\u001b[1;32m---> 65\u001b[0m \u001b[39mreturn\u001b[39;00m \u001b[39msuper\u001b[39;49m()\u001b[39m.\u001b[39;49m\u001b[39m__call__\u001b[39;49m(iterable_with_config)\n",
      "File \u001b[1;32mc:\\Users\\jyssy\\anaconda3\\lib\\site-packages\\joblib\\parallel.py:1085\u001b[0m, in \u001b[0;36mParallel.__call__\u001b[1;34m(self, iterable)\u001b[0m\n\u001b[0;32m   1076\u001b[0m \u001b[39mtry\u001b[39;00m:\n\u001b[0;32m   1077\u001b[0m     \u001b[39m# Only set self._iterating to True if at least a batch\u001b[39;00m\n\u001b[0;32m   1078\u001b[0m     \u001b[39m# was dispatched. In particular this covers the edge\u001b[39;00m\n\u001b[1;32m   (...)\u001b[0m\n\u001b[0;32m   1082\u001b[0m     \u001b[39m# was very quick and its callback already dispatched all the\u001b[39;00m\n\u001b[0;32m   1083\u001b[0m     \u001b[39m# remaining jobs.\u001b[39;00m\n\u001b[0;32m   1084\u001b[0m     \u001b[39mself\u001b[39m\u001b[39m.\u001b[39m_iterating \u001b[39m=\u001b[39m \u001b[39mFalse\u001b[39;00m\n\u001b[1;32m-> 1085\u001b[0m     \u001b[39mif\u001b[39;00m \u001b[39mself\u001b[39;49m\u001b[39m.\u001b[39;49mdispatch_one_batch(iterator):\n\u001b[0;32m   1086\u001b[0m         \u001b[39mself\u001b[39m\u001b[39m.\u001b[39m_iterating \u001b[39m=\u001b[39m \u001b[39mself\u001b[39m\u001b[39m.\u001b[39m_original_iterator \u001b[39mis\u001b[39;00m \u001b[39mnot\u001b[39;00m \u001b[39mNone\u001b[39;00m\n\u001b[0;32m   1088\u001b[0m     \u001b[39mwhile\u001b[39;00m \u001b[39mself\u001b[39m\u001b[39m.\u001b[39mdispatch_one_batch(iterator):\n",
      "File \u001b[1;32mc:\\Users\\jyssy\\anaconda3\\lib\\site-packages\\joblib\\parallel.py:901\u001b[0m, in \u001b[0;36mParallel.dispatch_one_batch\u001b[1;34m(self, iterator)\u001b[0m\n\u001b[0;32m    899\u001b[0m     \u001b[39mreturn\u001b[39;00m \u001b[39mFalse\u001b[39;00m\n\u001b[0;32m    900\u001b[0m \u001b[39melse\u001b[39;00m:\n\u001b[1;32m--> 901\u001b[0m     \u001b[39mself\u001b[39;49m\u001b[39m.\u001b[39;49m_dispatch(tasks)\n\u001b[0;32m    902\u001b[0m     \u001b[39mreturn\u001b[39;00m \u001b[39mTrue\u001b[39;00m\n",
      "File \u001b[1;32mc:\\Users\\jyssy\\anaconda3\\lib\\site-packages\\joblib\\parallel.py:819\u001b[0m, in \u001b[0;36mParallel._dispatch\u001b[1;34m(self, batch)\u001b[0m\n\u001b[0;32m    817\u001b[0m \u001b[39mwith\u001b[39;00m \u001b[39mself\u001b[39m\u001b[39m.\u001b[39m_lock:\n\u001b[0;32m    818\u001b[0m     job_idx \u001b[39m=\u001b[39m \u001b[39mlen\u001b[39m(\u001b[39mself\u001b[39m\u001b[39m.\u001b[39m_jobs)\n\u001b[1;32m--> 819\u001b[0m     job \u001b[39m=\u001b[39m \u001b[39mself\u001b[39;49m\u001b[39m.\u001b[39;49m_backend\u001b[39m.\u001b[39;49mapply_async(batch, callback\u001b[39m=\u001b[39;49mcb)\n\u001b[0;32m    820\u001b[0m     \u001b[39m# A job can complete so quickly than its callback is\u001b[39;00m\n\u001b[0;32m    821\u001b[0m     \u001b[39m# called before we get here, causing self._jobs to\u001b[39;00m\n\u001b[0;32m    822\u001b[0m     \u001b[39m# grow. To ensure correct results ordering, .insert is\u001b[39;00m\n\u001b[0;32m    823\u001b[0m     \u001b[39m# used (rather than .append) in the following line\u001b[39;00m\n\u001b[0;32m    824\u001b[0m     \u001b[39mself\u001b[39m\u001b[39m.\u001b[39m_jobs\u001b[39m.\u001b[39minsert(job_idx, job)\n",
      "File \u001b[1;32mc:\\Users\\jyssy\\anaconda3\\lib\\site-packages\\joblib\\_parallel_backends.py:208\u001b[0m, in \u001b[0;36mSequentialBackend.apply_async\u001b[1;34m(self, func, callback)\u001b[0m\n\u001b[0;32m    206\u001b[0m \u001b[39mdef\u001b[39;00m \u001b[39mapply_async\u001b[39m(\u001b[39mself\u001b[39m, func, callback\u001b[39m=\u001b[39m\u001b[39mNone\u001b[39;00m):\n\u001b[0;32m    207\u001b[0m \u001b[39m    \u001b[39m\u001b[39m\"\"\"Schedule a func to be run\"\"\"\u001b[39;00m\n\u001b[1;32m--> 208\u001b[0m     result \u001b[39m=\u001b[39m ImmediateResult(func)\n\u001b[0;32m    209\u001b[0m     \u001b[39mif\u001b[39;00m callback:\n\u001b[0;32m    210\u001b[0m         callback(result)\n",
      "File \u001b[1;32mc:\\Users\\jyssy\\anaconda3\\lib\\site-packages\\joblib\\_parallel_backends.py:597\u001b[0m, in \u001b[0;36mImmediateResult.__init__\u001b[1;34m(self, batch)\u001b[0m\n\u001b[0;32m    594\u001b[0m \u001b[39mdef\u001b[39;00m \u001b[39m__init__\u001b[39m(\u001b[39mself\u001b[39m, batch):\n\u001b[0;32m    595\u001b[0m     \u001b[39m# Don't delay the application, to avoid keeping the input\u001b[39;00m\n\u001b[0;32m    596\u001b[0m     \u001b[39m# arguments in memory\u001b[39;00m\n\u001b[1;32m--> 597\u001b[0m     \u001b[39mself\u001b[39m\u001b[39m.\u001b[39mresults \u001b[39m=\u001b[39m batch()\n",
      "File \u001b[1;32mc:\\Users\\jyssy\\anaconda3\\lib\\site-packages\\joblib\\parallel.py:288\u001b[0m, in \u001b[0;36mBatchedCalls.__call__\u001b[1;34m(self)\u001b[0m\n\u001b[0;32m    284\u001b[0m \u001b[39mdef\u001b[39;00m \u001b[39m__call__\u001b[39m(\u001b[39mself\u001b[39m):\n\u001b[0;32m    285\u001b[0m     \u001b[39m# Set the default nested backend to self._backend but do not set the\u001b[39;00m\n\u001b[0;32m    286\u001b[0m     \u001b[39m# change the default number of processes to -1\u001b[39;00m\n\u001b[0;32m    287\u001b[0m     \u001b[39mwith\u001b[39;00m parallel_backend(\u001b[39mself\u001b[39m\u001b[39m.\u001b[39m_backend, n_jobs\u001b[39m=\u001b[39m\u001b[39mself\u001b[39m\u001b[39m.\u001b[39m_n_jobs):\n\u001b[1;32m--> 288\u001b[0m         \u001b[39mreturn\u001b[39;00m [func(\u001b[39m*\u001b[39margs, \u001b[39m*\u001b[39m\u001b[39m*\u001b[39mkwargs)\n\u001b[0;32m    289\u001b[0m                 \u001b[39mfor\u001b[39;00m func, args, kwargs \u001b[39min\u001b[39;00m \u001b[39mself\u001b[39m\u001b[39m.\u001b[39mitems]\n",
      "File \u001b[1;32mc:\\Users\\jyssy\\anaconda3\\lib\\site-packages\\joblib\\parallel.py:288\u001b[0m, in \u001b[0;36m<listcomp>\u001b[1;34m(.0)\u001b[0m\n\u001b[0;32m    284\u001b[0m \u001b[39mdef\u001b[39;00m \u001b[39m__call__\u001b[39m(\u001b[39mself\u001b[39m):\n\u001b[0;32m    285\u001b[0m     \u001b[39m# Set the default nested backend to self._backend but do not set the\u001b[39;00m\n\u001b[0;32m    286\u001b[0m     \u001b[39m# change the default number of processes to -1\u001b[39;00m\n\u001b[0;32m    287\u001b[0m     \u001b[39mwith\u001b[39;00m parallel_backend(\u001b[39mself\u001b[39m\u001b[39m.\u001b[39m_backend, n_jobs\u001b[39m=\u001b[39m\u001b[39mself\u001b[39m\u001b[39m.\u001b[39m_n_jobs):\n\u001b[1;32m--> 288\u001b[0m         \u001b[39mreturn\u001b[39;00m [func(\u001b[39m*\u001b[39;49margs, \u001b[39m*\u001b[39;49m\u001b[39m*\u001b[39;49mkwargs)\n\u001b[0;32m    289\u001b[0m                 \u001b[39mfor\u001b[39;00m func, args, kwargs \u001b[39min\u001b[39;00m \u001b[39mself\u001b[39m\u001b[39m.\u001b[39mitems]\n",
      "File \u001b[1;32mc:\\Users\\jyssy\\anaconda3\\lib\\site-packages\\sklearn\\utils\\parallel.py:127\u001b[0m, in \u001b[0;36m_FuncWrapper.__call__\u001b[1;34m(self, *args, **kwargs)\u001b[0m\n\u001b[0;32m    125\u001b[0m     config \u001b[39m=\u001b[39m {}\n\u001b[0;32m    126\u001b[0m \u001b[39mwith\u001b[39;00m config_context(\u001b[39m*\u001b[39m\u001b[39m*\u001b[39mconfig):\n\u001b[1;32m--> 127\u001b[0m     \u001b[39mreturn\u001b[39;00m \u001b[39mself\u001b[39;49m\u001b[39m.\u001b[39;49mfunction(\u001b[39m*\u001b[39;49margs, \u001b[39m*\u001b[39;49m\u001b[39m*\u001b[39;49mkwargs)\n",
      "File \u001b[1;32mc:\\Users\\jyssy\\anaconda3\\lib\\site-packages\\sklearn\\model_selection\\_validation.py:732\u001b[0m, in \u001b[0;36m_fit_and_score\u001b[1;34m(estimator, X, y, scorer, train, test, verbose, parameters, fit_params, return_train_score, return_parameters, return_n_test_samples, return_times, return_estimator, split_progress, candidate_progress, error_score)\u001b[0m\n\u001b[0;32m    730\u001b[0m         estimator\u001b[39m.\u001b[39mfit(X_train, \u001b[39m*\u001b[39m\u001b[39m*\u001b[39mfit_params)\n\u001b[0;32m    731\u001b[0m     \u001b[39melse\u001b[39;00m:\n\u001b[1;32m--> 732\u001b[0m         estimator\u001b[39m.\u001b[39;49mfit(X_train, y_train, \u001b[39m*\u001b[39;49m\u001b[39m*\u001b[39;49mfit_params)\n\u001b[0;32m    734\u001b[0m \u001b[39mexcept\u001b[39;00m \u001b[39mException\u001b[39;00m:\n\u001b[0;32m    735\u001b[0m     \u001b[39m# Note fit time as time until error\u001b[39;00m\n\u001b[0;32m    736\u001b[0m     fit_time \u001b[39m=\u001b[39m time\u001b[39m.\u001b[39mtime() \u001b[39m-\u001b[39m start_time\n",
      "File \u001b[1;32mc:\\Users\\jyssy\\anaconda3\\lib\\site-packages\\sklearn\\base.py:1151\u001b[0m, in \u001b[0;36m_fit_context.<locals>.decorator.<locals>.wrapper\u001b[1;34m(estimator, *args, **kwargs)\u001b[0m\n\u001b[0;32m   1144\u001b[0m     estimator\u001b[39m.\u001b[39m_validate_params()\n\u001b[0;32m   1146\u001b[0m \u001b[39mwith\u001b[39;00m config_context(\n\u001b[0;32m   1147\u001b[0m     skip_parameter_validation\u001b[39m=\u001b[39m(\n\u001b[0;32m   1148\u001b[0m         prefer_skip_nested_validation \u001b[39mor\u001b[39;00m global_skip_validation\n\u001b[0;32m   1149\u001b[0m     )\n\u001b[0;32m   1150\u001b[0m ):\n\u001b[1;32m-> 1151\u001b[0m     \u001b[39mreturn\u001b[39;00m fit_method(estimator, \u001b[39m*\u001b[39;49margs, \u001b[39m*\u001b[39;49m\u001b[39m*\u001b[39;49mkwargs)\n",
      "File \u001b[1;32mc:\\Users\\jyssy\\anaconda3\\lib\\site-packages\\sklearn\\svm\\_base.py:250\u001b[0m, in \u001b[0;36mBaseLibSVM.fit\u001b[1;34m(self, X, y, sample_weight)\u001b[0m\n\u001b[0;32m    247\u001b[0m     \u001b[39mprint\u001b[39m(\u001b[39m\"\u001b[39m\u001b[39m[LibSVM]\u001b[39m\u001b[39m\"\u001b[39m, end\u001b[39m=\u001b[39m\u001b[39m\"\u001b[39m\u001b[39m\"\u001b[39m)\n\u001b[0;32m    249\u001b[0m seed \u001b[39m=\u001b[39m rnd\u001b[39m.\u001b[39mrandint(np\u001b[39m.\u001b[39miinfo(\u001b[39m\"\u001b[39m\u001b[39mi\u001b[39m\u001b[39m\"\u001b[39m)\u001b[39m.\u001b[39mmax)\n\u001b[1;32m--> 250\u001b[0m fit(X, y, sample_weight, solver_type, kernel, random_seed\u001b[39m=\u001b[39;49mseed)\n\u001b[0;32m    251\u001b[0m \u001b[39m# see comment on the other call to np.iinfo in this file\u001b[39;00m\n\u001b[0;32m    253\u001b[0m \u001b[39mself\u001b[39m\u001b[39m.\u001b[39mshape_fit_ \u001b[39m=\u001b[39m X\u001b[39m.\u001b[39mshape \u001b[39mif\u001b[39;00m \u001b[39mhasattr\u001b[39m(X, \u001b[39m\"\u001b[39m\u001b[39mshape\u001b[39m\u001b[39m\"\u001b[39m) \u001b[39melse\u001b[39;00m (n_samples,)\n",
      "File \u001b[1;32mc:\\Users\\jyssy\\anaconda3\\lib\\site-packages\\sklearn\\svm\\_base.py:329\u001b[0m, in \u001b[0;36mBaseLibSVM._dense_fit\u001b[1;34m(self, X, y, sample_weight, solver_type, kernel, random_seed)\u001b[0m\n\u001b[0;32m    315\u001b[0m libsvm\u001b[39m.\u001b[39mset_verbosity_wrap(\u001b[39mself\u001b[39m\u001b[39m.\u001b[39mverbose)\n\u001b[0;32m    317\u001b[0m \u001b[39m# we don't pass **self.get_params() to allow subclasses to\u001b[39;00m\n\u001b[0;32m    318\u001b[0m \u001b[39m# add other parameters to __init__\u001b[39;00m\n\u001b[0;32m    319\u001b[0m (\n\u001b[0;32m    320\u001b[0m     \u001b[39mself\u001b[39m\u001b[39m.\u001b[39msupport_,\n\u001b[0;32m    321\u001b[0m     \u001b[39mself\u001b[39m\u001b[39m.\u001b[39msupport_vectors_,\n\u001b[0;32m    322\u001b[0m     \u001b[39mself\u001b[39m\u001b[39m.\u001b[39m_n_support,\n\u001b[0;32m    323\u001b[0m     \u001b[39mself\u001b[39m\u001b[39m.\u001b[39mdual_coef_,\n\u001b[0;32m    324\u001b[0m     \u001b[39mself\u001b[39m\u001b[39m.\u001b[39mintercept_,\n\u001b[0;32m    325\u001b[0m     \u001b[39mself\u001b[39m\u001b[39m.\u001b[39m_probA,\n\u001b[0;32m    326\u001b[0m     \u001b[39mself\u001b[39m\u001b[39m.\u001b[39m_probB,\n\u001b[0;32m    327\u001b[0m     \u001b[39mself\u001b[39m\u001b[39m.\u001b[39mfit_status_,\n\u001b[0;32m    328\u001b[0m     \u001b[39mself\u001b[39m\u001b[39m.\u001b[39m_num_iter,\n\u001b[1;32m--> 329\u001b[0m ) \u001b[39m=\u001b[39m libsvm\u001b[39m.\u001b[39;49mfit(\n\u001b[0;32m    330\u001b[0m     X,\n\u001b[0;32m    331\u001b[0m     y,\n\u001b[0;32m    332\u001b[0m     svm_type\u001b[39m=\u001b[39;49msolver_type,\n\u001b[0;32m    333\u001b[0m     sample_weight\u001b[39m=\u001b[39;49msample_weight,\n\u001b[0;32m    334\u001b[0m     \u001b[39m# TODO(1.4): Replace \"_class_weight\" with \"class_weight_\"\u001b[39;49;00m\n\u001b[0;32m    335\u001b[0m     class_weight\u001b[39m=\u001b[39;49m\u001b[39mgetattr\u001b[39;49m(\u001b[39mself\u001b[39;49m, \u001b[39m\"\u001b[39;49m\u001b[39m_class_weight\u001b[39;49m\u001b[39m\"\u001b[39;49m, np\u001b[39m.\u001b[39;49mempty(\u001b[39m0\u001b[39;49m)),\n\u001b[0;32m    336\u001b[0m     kernel\u001b[39m=\u001b[39;49mkernel,\n\u001b[0;32m    337\u001b[0m     C\u001b[39m=\u001b[39;49m\u001b[39mself\u001b[39;49m\u001b[39m.\u001b[39;49mC,\n\u001b[0;32m    338\u001b[0m     nu\u001b[39m=\u001b[39;49m\u001b[39mself\u001b[39;49m\u001b[39m.\u001b[39;49mnu,\n\u001b[0;32m    339\u001b[0m     probability\u001b[39m=\u001b[39;49m\u001b[39mself\u001b[39;49m\u001b[39m.\u001b[39;49mprobability,\n\u001b[0;32m    340\u001b[0m     degree\u001b[39m=\u001b[39;49m\u001b[39mself\u001b[39;49m\u001b[39m.\u001b[39;49mdegree,\n\u001b[0;32m    341\u001b[0m     shrinking\u001b[39m=\u001b[39;49m\u001b[39mself\u001b[39;49m\u001b[39m.\u001b[39;49mshrinking,\n\u001b[0;32m    342\u001b[0m     tol\u001b[39m=\u001b[39;49m\u001b[39mself\u001b[39;49m\u001b[39m.\u001b[39;49mtol,\n\u001b[0;32m    343\u001b[0m     cache_size\u001b[39m=\u001b[39;49m\u001b[39mself\u001b[39;49m\u001b[39m.\u001b[39;49mcache_size,\n\u001b[0;32m    344\u001b[0m     coef0\u001b[39m=\u001b[39;49m\u001b[39mself\u001b[39;49m\u001b[39m.\u001b[39;49mcoef0,\n\u001b[0;32m    345\u001b[0m     gamma\u001b[39m=\u001b[39;49m\u001b[39mself\u001b[39;49m\u001b[39m.\u001b[39;49m_gamma,\n\u001b[0;32m    346\u001b[0m     epsilon\u001b[39m=\u001b[39;49m\u001b[39mself\u001b[39;49m\u001b[39m.\u001b[39;49mepsilon,\n\u001b[0;32m    347\u001b[0m     max_iter\u001b[39m=\u001b[39;49m\u001b[39mself\u001b[39;49m\u001b[39m.\u001b[39;49mmax_iter,\n\u001b[0;32m    348\u001b[0m     random_seed\u001b[39m=\u001b[39;49mrandom_seed,\n\u001b[0;32m    349\u001b[0m )\n\u001b[0;32m    351\u001b[0m \u001b[39mself\u001b[39m\u001b[39m.\u001b[39m_warn_from_fit_status()\n",
      "File \u001b[1;32msklearn\\svm\\_libsvm.pyx:265\u001b[0m, in \u001b[0;36msklearn.svm._libsvm.fit\u001b[1;34m()\u001b[0m\n",
      "\u001b[1;31mKeyboardInterrupt\u001b[0m: "
     ]
    }
   ],
   "source": [
    "sampler = TPESampler()\n",
    "study = optuna.create_study(\n",
    "    study_name=\"svm_parameter_opt\",\n",
    "    direction=\"maximize\",\n",
    "    sampler=sampler,\n",
    ")\n",
    "\n",
    "study.optimize(lambda trial : objectiveSVM(trial, Cd_X_train, Cd_y_train), n_trials=100)\n",
    "print(\"Best r2: \", study.best_value)\n",
    "print(\"Best trial:\", study.best_trial.params)"
   ]
  },
  {
   "cell_type": "code",
   "execution_count": null,
   "id": "861f88d8",
   "metadata": {},
   "outputs": [
    {
     "data": {
      "application/vnd.plotly.v1+json": {
       "config": {
        "plotlyServerURL": "https://plot.ly"
       },
       "data": [
        {
         "dimensions": [
          {
           "label": "Objective Value",
           "range": [
            -28.9630497099823,
            0.54404409463949
           ],
           "values": [
            0.48760110886985675,
            -0.5527183759616208,
            0.23865735563459856,
            -0.5527183759616208,
            0.23864833501284713,
            0.27822411720937135,
            0.4187913635297319,
            0.24112123380997338,
            0.017358631390475242,
            -28.9630497099823,
            0.48027578780737157,
            0.47454489923624993,
            0.4764754286335779,
            0.4953876030565974,
            0.5006506037084144,
            0.47637605172427583,
            0.5025911177362504,
            0.010002649004349662,
            0.525742119504468,
            0.5346523093474594,
            -0.2482238181743916,
            0.5396365800551786,
            0.539487881801887,
            0.5350360899243244,
            0.5407461153628321,
            0.49717193292511974,
            0.533421354842223,
            0.5372357294924028,
            0.5417153806805725,
            -0.27576338855403776,
            0.47921335633227163,
            0.5351261507016585,
            0.5008692654735187,
            0.5402702659253128,
            0.23925493425883299,
            -0.5527183759616208,
            0.24046241470288696,
            0.5419521399870014,
            0.5400708860259169,
            0.24115330519835068,
            -0.5527183759616208,
            0.5415974923683113,
            0.5440318633553423,
            0.5430810027083453,
            0.5427910028330958,
            0.5289297512528516,
            0.06513364744628809,
            0.23959822955438564,
            0.528712888750977,
            0.5427133756216084,
            0.40693004581370323,
            0.5434337351073892,
            0.5429613025199382,
            0.5244523442678478,
            0.5427440734666262,
            0.5386866588861025,
            0.0859537897449223,
            0.5421991554769037,
            0.5292304074708095,
            0.5191054215752595,
            0.5251824513521959,
            0.5430145586823188,
            0.5341156094773117,
            0.5410425260286165,
            0.5388442659771012,
            0.5428587216163453,
            -0.5527183759616208,
            -8.994949550180987,
            0.5303524111356012,
            0.23663819047428922,
            0.538718056512733,
            0.5423632686117134,
            0.5438147500903211,
            0.54404409463949,
            0.5375547024063364,
            0.543643119030018,
            0.542398864178614,
            0.5373632571306045,
            0.5387467371441431,
            0.5413700040251402,
            0.5435797654142804,
            0.5438240259618465,
            0.5403342975191302,
            0.5435121161043434,
            0.5436626285494409,
            0.2414324049907878,
            0.24066372121420168,
            -5.875294858234115,
            0.4515861916555336,
            0.540017560928679,
            0.5173090101664177,
            0.5437439156342185,
            0.5421513336345308,
            0.543801603983054,
            0.5424367272159245,
            0.5437040635600829,
            0.23033878110956216,
            0.5374798868825923,
            0.5400606751501282,
            0.5435825594020051
           ]
          },
          {
           "label": "C",
           "range": [
            -0.9924744734156777,
            1.8701431033650986
           ],
           "ticktext": [
            "0.102",
            "1",
            "10",
            "74.2"
           ],
           "tickvals": [
            -0.9924744734156777,
            0,
            1,
            1.8701431033650986
           ],
           "values": [
            -0.8190186279528461,
            -0.35411961200360786,
            1.4427175747258436,
            -0.19361126134111714,
            0.17463780579828297,
            1.6983730557503813,
            0.06966597029071679,
            1.1018441284742562,
            0.11260644800915443,
            1.838137254532957,
            -0.9588998356488895,
            -0.9924744734156777,
            -0.9670501475906633,
            -0.5656703932362326,
            -0.5008937603366495,
            0.5898799311060706,
            -0.5248352931296686,
            0.7262713237659947,
            -0.48623902651131007,
            -0.16499457778041074,
            0.33185191814457815,
            -0.13274368485023952,
            -0.12545285405678538,
            -0.15009047764666,
            -0.09749409125874202,
            0.8641389031286443,
            0.45580249952350366,
            -0.0023895441418862826,
            0.26235650891651274,
            0.34206931120577416,
            1.0351565793537083,
            -0.284568938940193,
            -0.6997274658360585,
            -0.04490213386456409,
            0.30710385399783613,
            -0.3575872782527125,
            -0.010543027054246827,
            0.20785440630226848,
            0.3102731129049132,
            0.6331591452883202,
            0.16966943373686746,
            0.2533494892641559,
            0.19851320633281724,
            0.12857445346779645,
            0.15722375009034187,
            0.4644816027999559,
            0.07649663777516985,
            0.8134392988356156,
            0.5437942218629221,
            0.15566409982650103,
            1.3179805476533115,
            0.145213783157633,
            0.11742247107453957,
            -0.30971492984050336,
            0.10540623938943634,
            0.40787782251523796,
            0.05032451415964905,
            0.12952807817641288,
            -0.2278975020856151,
            -0.4413841415432407,
            0.6461789175207412,
            0.15313638463037266,
            0.3916505005667758,
            0.04579449453262108,
            -0.06140521195496692,
            0.20937207454884507,
            0.23973947784017346,
            0.5535711572199837,
            0.48392616953449274,
            -0.1977694379054985,
            0.3564960442577063,
            0.09809501852308063,
            0.18741682144314198,
            0.22495121914646737,
            -0.028072275756735463,
            0.242054787996329,
            0.2863238795110274,
            -0.11441573568328081,
            0.42661487509606794,
            0.01916515322487247,
            0.21689755280308937,
            0.1808407513604181,
            0.337214916795397,
            0.24263798977070158,
            0.23427179857173733,
            1.8701431033650986,
            0.24596468925415577,
            0.5004681005078078,
            0.629932638292597,
            0.3663079829969691,
            0.7625763708402661,
            0.22662982612934374,
            0.2556791853573473,
            0.19462598506054996,
            0.31261780489764296,
            0.1959009266346396,
            -0.05648747305871189,
            0.4232372234887527,
            0.036684225495944946,
            0.21316106946620947
           ]
          },
          {
           "label": "degree",
           "range": [
            1,
            5
           ],
           "values": [
            4,
            4,
            2,
            1,
            1,
            3,
            4,
            5,
            4,
            3,
            5,
            5,
            5,
            4,
            4,
            3,
            2,
            2,
            2,
            2,
            2,
            2,
            1,
            1,
            1,
            1,
            1,
            1,
            1,
            2,
            1,
            1,
            1,
            2,
            3,
            2,
            2,
            3,
            3,
            3,
            1,
            3,
            3,
            3,
            3,
            3,
            4,
            3,
            4,
            3,
            3,
            3,
            3,
            3,
            3,
            3,
            4,
            3,
            3,
            4,
            3,
            3,
            3,
            3,
            3,
            3,
            4,
            3,
            4,
            3,
            2,
            3,
            3,
            3,
            3,
            3,
            3,
            3,
            3,
            2,
            3,
            3,
            3,
            3,
            3,
            3,
            3,
            3,
            3,
            2,
            3,
            3,
            3,
            3,
            3,
            3,
            3,
            3,
            3,
            5
           ]
          },
          {
           "label": "epsilon",
           "range": [
            -1.9955597220684105,
            -0.03713943545543503
           ],
           "ticktext": [
            "0.0101",
            "0.1",
            "0.918"
           ],
           "tickvals": [
            -1.9955597220684105,
            -1,
            -0.03713943545543503
           ],
           "values": [
            -1.9547243153177518,
            -0.17926722063785608,
            -1.914539535952565,
            -0.34584105663936093,
            -1.7737624137043038,
            -1.9036365339337498,
            -0.635476462327642,
            -1.3911878250333003,
            -0.5291261086511536,
            -1.9262904873954305,
            -1.2033583011686426,
            -1.115042485078521,
            -1.4492940132453,
            -0.9096136651876195,
            -0.9126983204541438,
            -0.8147242074709333,
            -0.9367802155710709,
            -0.6713905810893298,
            -1.3188161114256158,
            -1.5509441017029708,
            -1.610198134525038,
            -1.3052668654223718,
            -1.296534718668593,
            -1.6079497901373319,
            -1.1615016374019855,
            -1.1378838479570201,
            -1.286460251773493,
            -1.0822094020663398,
            -1.5050638434127164,
            -1.748203928322067,
            -1.4788839264582694,
            -1.2524835327473811,
            -1.0493705959129285,
            -1.3709989168962275,
            -1.711105522292863,
            -0.15443921020691648,
            -1.459944362531931,
            -1.3657570149362483,
            -1.8075309443157601,
            -1.3833319960748685,
            -0.33658673606820505,
            -1.8732944135833216,
            -1.633935370490649,
            -1.8631014605617229,
            -1.9635459415133014,
            -1.9879251068394337,
            -1.6676094883275716,
            -1.866938073609048,
            -1.8059512612087374,
            -1.9748746428501223,
            -1.9842367519269741,
            -1.6705535253505777,
            -1.8356298952667403,
            -1.9066389837654358,
            -1.671656976937792,
            -1.6564944525695757,
            -1.7830089553591584,
            -1.563645154037949,
            -1.8399641706649368,
            -1.7242386153760827,
            -1.6896466237659864,
            -1.9252687645792548,
            -1.9242176179254786,
            -1.7774069683793206,
            -1.6005989802215101,
            -1.8630647584501996,
            -0.03713943545543503,
            -1.9240151412904873,
            -1.8639628575730465,
            -1.9955597220684105,
            -1.743992359172113,
            -1.8314490599145605,
            -1.6407961893535123,
            -1.6253861797806555,
            -1.5211394678282988,
            -1.6306683409393685,
            -1.580913846546424,
            -1.4206107301576578,
            -1.513892735896629,
            -1.6376273514521464,
            -1.7233272021263881,
            -1.7502115816563983,
            -1.7129495304117377,
            -1.6262974011151896,
            -1.6232453368509565,
            -1.6279209485786477,
            -1.5426220237463653,
            -1.4311869432458828,
            -0.7433368324002442,
            -1.4759610941054924,
            -1.5887590004771988,
            -1.6770902753614607,
            -1.7517935354159224,
            -1.6716978383103702,
            -1.6281562091901436,
            -1.6989629226161762,
            -0.5039660536128034,
            -1.7006030708967264,
            -1.5599595540443418,
            -1.7704263827717006
           ]
          },
          {
           "label": "kernel",
           "range": [
            0,
            2
           ],
           "ticktext": [
            "rbf",
            "linear",
            "poly"
           ],
           "tickvals": [
            0,
            1,
            2
           ],
           "values": [
            0,
            1,
            1,
            1,
            1,
            0,
            0,
            1,
            2,
            2,
            0,
            0,
            0,
            0,
            0,
            0,
            0,
            2,
            0,
            0,
            2,
            0,
            0,
            0,
            0,
            0,
            0,
            0,
            0,
            2,
            0,
            0,
            0,
            0,
            1,
            0,
            1,
            0,
            0,
            1,
            0,
            0,
            0,
            0,
            0,
            0,
            2,
            1,
            0,
            0,
            0,
            0,
            0,
            0,
            0,
            0,
            2,
            0,
            0,
            0,
            0,
            0,
            0,
            0,
            0,
            0,
            0,
            2,
            0,
            1,
            0,
            0,
            0,
            0,
            0,
            0,
            0,
            0,
            0,
            0,
            0,
            0,
            0,
            0,
            0,
            0,
            1,
            2,
            0,
            0,
            0,
            0,
            0,
            0,
            0,
            0,
            0,
            0,
            0,
            0
           ]
          }
         ],
         "labelangle": 30,
         "labelside": "bottom",
         "line": {
          "color": [
           0.48760110886985675,
           -0.5527183759616208,
           0.23865735563459856,
           -0.5527183759616208,
           0.23864833501284713,
           0.27822411720937135,
           0.4187913635297319,
           0.24112123380997338,
           0.017358631390475242,
           -28.9630497099823,
           0.48027578780737157,
           0.47454489923624993,
           0.4764754286335779,
           0.4953876030565974,
           0.5006506037084144,
           0.47637605172427583,
           0.5025911177362504,
           0.010002649004349662,
           0.525742119504468,
           0.5346523093474594,
           -0.2482238181743916,
           0.5396365800551786,
           0.539487881801887,
           0.5350360899243244,
           0.5407461153628321,
           0.49717193292511974,
           0.533421354842223,
           0.5372357294924028,
           0.5417153806805725,
           -0.27576338855403776,
           0.47921335633227163,
           0.5351261507016585,
           0.5008692654735187,
           0.5402702659253128,
           0.23925493425883299,
           -0.5527183759616208,
           0.24046241470288696,
           0.5419521399870014,
           0.5400708860259169,
           0.24115330519835068,
           -0.5527183759616208,
           0.5415974923683113,
           0.5440318633553423,
           0.5430810027083453,
           0.5427910028330958,
           0.5289297512528516,
           0.06513364744628809,
           0.23959822955438564,
           0.528712888750977,
           0.5427133756216084,
           0.40693004581370323,
           0.5434337351073892,
           0.5429613025199382,
           0.5244523442678478,
           0.5427440734666262,
           0.5386866588861025,
           0.0859537897449223,
           0.5421991554769037,
           0.5292304074708095,
           0.5191054215752595,
           0.5251824513521959,
           0.5430145586823188,
           0.5341156094773117,
           0.5410425260286165,
           0.5388442659771012,
           0.5428587216163453,
           -0.5527183759616208,
           -8.994949550180987,
           0.5303524111356012,
           0.23663819047428922,
           0.538718056512733,
           0.5423632686117134,
           0.5438147500903211,
           0.54404409463949,
           0.5375547024063364,
           0.543643119030018,
           0.542398864178614,
           0.5373632571306045,
           0.5387467371441431,
           0.5413700040251402,
           0.5435797654142804,
           0.5438240259618465,
           0.5403342975191302,
           0.5435121161043434,
           0.5436626285494409,
           0.2414324049907878,
           0.24066372121420168,
           -5.875294858234115,
           0.4515861916555336,
           0.540017560928679,
           0.5173090101664177,
           0.5437439156342185,
           0.5421513336345308,
           0.543801603983054,
           0.5424367272159245,
           0.5437040635600829,
           0.23033878110956216,
           0.5374798868825923,
           0.5400606751501282,
           0.5435825594020051
          ],
          "colorbar": {
           "title": {
            "text": "Objective Value"
           }
          },
          "colorscale": [
           [
            0,
            "rgb(247,251,255)"
           ],
           [
            0.125,
            "rgb(222,235,247)"
           ],
           [
            0.25,
            "rgb(198,219,239)"
           ],
           [
            0.375,
            "rgb(158,202,225)"
           ],
           [
            0.5,
            "rgb(107,174,214)"
           ],
           [
            0.625,
            "rgb(66,146,198)"
           ],
           [
            0.75,
            "rgb(33,113,181)"
           ],
           [
            0.875,
            "rgb(8,81,156)"
           ],
           [
            1,
            "rgb(8,48,107)"
           ]
          ],
          "reversescale": false,
          "showscale": true
         },
         "type": "parcoords"
        }
       ],
       "layout": {
        "template": {
         "data": {
          "bar": [
           {
            "error_x": {
             "color": "#2a3f5f"
            },
            "error_y": {
             "color": "#2a3f5f"
            },
            "marker": {
             "line": {
              "color": "#E5ECF6",
              "width": 0.5
             },
             "pattern": {
              "fillmode": "overlay",
              "size": 10,
              "solidity": 0.2
             }
            },
            "type": "bar"
           }
          ],
          "barpolar": [
           {
            "marker": {
             "line": {
              "color": "#E5ECF6",
              "width": 0.5
             },
             "pattern": {
              "fillmode": "overlay",
              "size": 10,
              "solidity": 0.2
             }
            },
            "type": "barpolar"
           }
          ],
          "carpet": [
           {
            "aaxis": {
             "endlinecolor": "#2a3f5f",
             "gridcolor": "white",
             "linecolor": "white",
             "minorgridcolor": "white",
             "startlinecolor": "#2a3f5f"
            },
            "baxis": {
             "endlinecolor": "#2a3f5f",
             "gridcolor": "white",
             "linecolor": "white",
             "minorgridcolor": "white",
             "startlinecolor": "#2a3f5f"
            },
            "type": "carpet"
           }
          ],
          "choropleth": [
           {
            "colorbar": {
             "outlinewidth": 0,
             "ticks": ""
            },
            "type": "choropleth"
           }
          ],
          "contour": [
           {
            "colorbar": {
             "outlinewidth": 0,
             "ticks": ""
            },
            "colorscale": [
             [
              0,
              "#0d0887"
             ],
             [
              0.1111111111111111,
              "#46039f"
             ],
             [
              0.2222222222222222,
              "#7201a8"
             ],
             [
              0.3333333333333333,
              "#9c179e"
             ],
             [
              0.4444444444444444,
              "#bd3786"
             ],
             [
              0.5555555555555556,
              "#d8576b"
             ],
             [
              0.6666666666666666,
              "#ed7953"
             ],
             [
              0.7777777777777778,
              "#fb9f3a"
             ],
             [
              0.8888888888888888,
              "#fdca26"
             ],
             [
              1,
              "#f0f921"
             ]
            ],
            "type": "contour"
           }
          ],
          "contourcarpet": [
           {
            "colorbar": {
             "outlinewidth": 0,
             "ticks": ""
            },
            "type": "contourcarpet"
           }
          ],
          "heatmap": [
           {
            "colorbar": {
             "outlinewidth": 0,
             "ticks": ""
            },
            "colorscale": [
             [
              0,
              "#0d0887"
             ],
             [
              0.1111111111111111,
              "#46039f"
             ],
             [
              0.2222222222222222,
              "#7201a8"
             ],
             [
              0.3333333333333333,
              "#9c179e"
             ],
             [
              0.4444444444444444,
              "#bd3786"
             ],
             [
              0.5555555555555556,
              "#d8576b"
             ],
             [
              0.6666666666666666,
              "#ed7953"
             ],
             [
              0.7777777777777778,
              "#fb9f3a"
             ],
             [
              0.8888888888888888,
              "#fdca26"
             ],
             [
              1,
              "#f0f921"
             ]
            ],
            "type": "heatmap"
           }
          ],
          "heatmapgl": [
           {
            "colorbar": {
             "outlinewidth": 0,
             "ticks": ""
            },
            "colorscale": [
             [
              0,
              "#0d0887"
             ],
             [
              0.1111111111111111,
              "#46039f"
             ],
             [
              0.2222222222222222,
              "#7201a8"
             ],
             [
              0.3333333333333333,
              "#9c179e"
             ],
             [
              0.4444444444444444,
              "#bd3786"
             ],
             [
              0.5555555555555556,
              "#d8576b"
             ],
             [
              0.6666666666666666,
              "#ed7953"
             ],
             [
              0.7777777777777778,
              "#fb9f3a"
             ],
             [
              0.8888888888888888,
              "#fdca26"
             ],
             [
              1,
              "#f0f921"
             ]
            ],
            "type": "heatmapgl"
           }
          ],
          "histogram": [
           {
            "marker": {
             "pattern": {
              "fillmode": "overlay",
              "size": 10,
              "solidity": 0.2
             }
            },
            "type": "histogram"
           }
          ],
          "histogram2d": [
           {
            "colorbar": {
             "outlinewidth": 0,
             "ticks": ""
            },
            "colorscale": [
             [
              0,
              "#0d0887"
             ],
             [
              0.1111111111111111,
              "#46039f"
             ],
             [
              0.2222222222222222,
              "#7201a8"
             ],
             [
              0.3333333333333333,
              "#9c179e"
             ],
             [
              0.4444444444444444,
              "#bd3786"
             ],
             [
              0.5555555555555556,
              "#d8576b"
             ],
             [
              0.6666666666666666,
              "#ed7953"
             ],
             [
              0.7777777777777778,
              "#fb9f3a"
             ],
             [
              0.8888888888888888,
              "#fdca26"
             ],
             [
              1,
              "#f0f921"
             ]
            ],
            "type": "histogram2d"
           }
          ],
          "histogram2dcontour": [
           {
            "colorbar": {
             "outlinewidth": 0,
             "ticks": ""
            },
            "colorscale": [
             [
              0,
              "#0d0887"
             ],
             [
              0.1111111111111111,
              "#46039f"
             ],
             [
              0.2222222222222222,
              "#7201a8"
             ],
             [
              0.3333333333333333,
              "#9c179e"
             ],
             [
              0.4444444444444444,
              "#bd3786"
             ],
             [
              0.5555555555555556,
              "#d8576b"
             ],
             [
              0.6666666666666666,
              "#ed7953"
             ],
             [
              0.7777777777777778,
              "#fb9f3a"
             ],
             [
              0.8888888888888888,
              "#fdca26"
             ],
             [
              1,
              "#f0f921"
             ]
            ],
            "type": "histogram2dcontour"
           }
          ],
          "mesh3d": [
           {
            "colorbar": {
             "outlinewidth": 0,
             "ticks": ""
            },
            "type": "mesh3d"
           }
          ],
          "parcoords": [
           {
            "line": {
             "colorbar": {
              "outlinewidth": 0,
              "ticks": ""
             }
            },
            "type": "parcoords"
           }
          ],
          "pie": [
           {
            "automargin": true,
            "type": "pie"
           }
          ],
          "scatter": [
           {
            "marker": {
             "colorbar": {
              "outlinewidth": 0,
              "ticks": ""
             }
            },
            "type": "scatter"
           }
          ],
          "scatter3d": [
           {
            "line": {
             "colorbar": {
              "outlinewidth": 0,
              "ticks": ""
             }
            },
            "marker": {
             "colorbar": {
              "outlinewidth": 0,
              "ticks": ""
             }
            },
            "type": "scatter3d"
           }
          ],
          "scattercarpet": [
           {
            "marker": {
             "colorbar": {
              "outlinewidth": 0,
              "ticks": ""
             }
            },
            "type": "scattercarpet"
           }
          ],
          "scattergeo": [
           {
            "marker": {
             "colorbar": {
              "outlinewidth": 0,
              "ticks": ""
             }
            },
            "type": "scattergeo"
           }
          ],
          "scattergl": [
           {
            "marker": {
             "colorbar": {
              "outlinewidth": 0,
              "ticks": ""
             }
            },
            "type": "scattergl"
           }
          ],
          "scattermapbox": [
           {
            "marker": {
             "colorbar": {
              "outlinewidth": 0,
              "ticks": ""
             }
            },
            "type": "scattermapbox"
           }
          ],
          "scatterpolar": [
           {
            "marker": {
             "colorbar": {
              "outlinewidth": 0,
              "ticks": ""
             }
            },
            "type": "scatterpolar"
           }
          ],
          "scatterpolargl": [
           {
            "marker": {
             "colorbar": {
              "outlinewidth": 0,
              "ticks": ""
             }
            },
            "type": "scatterpolargl"
           }
          ],
          "scatterternary": [
           {
            "marker": {
             "colorbar": {
              "outlinewidth": 0,
              "ticks": ""
             }
            },
            "type": "scatterternary"
           }
          ],
          "surface": [
           {
            "colorbar": {
             "outlinewidth": 0,
             "ticks": ""
            },
            "colorscale": [
             [
              0,
              "#0d0887"
             ],
             [
              0.1111111111111111,
              "#46039f"
             ],
             [
              0.2222222222222222,
              "#7201a8"
             ],
             [
              0.3333333333333333,
              "#9c179e"
             ],
             [
              0.4444444444444444,
              "#bd3786"
             ],
             [
              0.5555555555555556,
              "#d8576b"
             ],
             [
              0.6666666666666666,
              "#ed7953"
             ],
             [
              0.7777777777777778,
              "#fb9f3a"
             ],
             [
              0.8888888888888888,
              "#fdca26"
             ],
             [
              1,
              "#f0f921"
             ]
            ],
            "type": "surface"
           }
          ],
          "table": [
           {
            "cells": {
             "fill": {
              "color": "#EBF0F8"
             },
             "line": {
              "color": "white"
             }
            },
            "header": {
             "fill": {
              "color": "#C8D4E3"
             },
             "line": {
              "color": "white"
             }
            },
            "type": "table"
           }
          ]
         },
         "layout": {
          "annotationdefaults": {
           "arrowcolor": "#2a3f5f",
           "arrowhead": 0,
           "arrowwidth": 1
          },
          "autotypenumbers": "strict",
          "coloraxis": {
           "colorbar": {
            "outlinewidth": 0,
            "ticks": ""
           }
          },
          "colorscale": {
           "diverging": [
            [
             0,
             "#8e0152"
            ],
            [
             0.1,
             "#c51b7d"
            ],
            [
             0.2,
             "#de77ae"
            ],
            [
             0.3,
             "#f1b6da"
            ],
            [
             0.4,
             "#fde0ef"
            ],
            [
             0.5,
             "#f7f7f7"
            ],
            [
             0.6,
             "#e6f5d0"
            ],
            [
             0.7,
             "#b8e186"
            ],
            [
             0.8,
             "#7fbc41"
            ],
            [
             0.9,
             "#4d9221"
            ],
            [
             1,
             "#276419"
            ]
           ],
           "sequential": [
            [
             0,
             "#0d0887"
            ],
            [
             0.1111111111111111,
             "#46039f"
            ],
            [
             0.2222222222222222,
             "#7201a8"
            ],
            [
             0.3333333333333333,
             "#9c179e"
            ],
            [
             0.4444444444444444,
             "#bd3786"
            ],
            [
             0.5555555555555556,
             "#d8576b"
            ],
            [
             0.6666666666666666,
             "#ed7953"
            ],
            [
             0.7777777777777778,
             "#fb9f3a"
            ],
            [
             0.8888888888888888,
             "#fdca26"
            ],
            [
             1,
             "#f0f921"
            ]
           ],
           "sequentialminus": [
            [
             0,
             "#0d0887"
            ],
            [
             0.1111111111111111,
             "#46039f"
            ],
            [
             0.2222222222222222,
             "#7201a8"
            ],
            [
             0.3333333333333333,
             "#9c179e"
            ],
            [
             0.4444444444444444,
             "#bd3786"
            ],
            [
             0.5555555555555556,
             "#d8576b"
            ],
            [
             0.6666666666666666,
             "#ed7953"
            ],
            [
             0.7777777777777778,
             "#fb9f3a"
            ],
            [
             0.8888888888888888,
             "#fdca26"
            ],
            [
             1,
             "#f0f921"
            ]
           ]
          },
          "colorway": [
           "#636efa",
           "#EF553B",
           "#00cc96",
           "#ab63fa",
           "#FFA15A",
           "#19d3f3",
           "#FF6692",
           "#B6E880",
           "#FF97FF",
           "#FECB52"
          ],
          "font": {
           "color": "#2a3f5f"
          },
          "geo": {
           "bgcolor": "white",
           "lakecolor": "white",
           "landcolor": "#E5ECF6",
           "showlakes": true,
           "showland": true,
           "subunitcolor": "white"
          },
          "hoverlabel": {
           "align": "left"
          },
          "hovermode": "closest",
          "mapbox": {
           "style": "light"
          },
          "paper_bgcolor": "white",
          "plot_bgcolor": "#E5ECF6",
          "polar": {
           "angularaxis": {
            "gridcolor": "white",
            "linecolor": "white",
            "ticks": ""
           },
           "bgcolor": "#E5ECF6",
           "radialaxis": {
            "gridcolor": "white",
            "linecolor": "white",
            "ticks": ""
           }
          },
          "scene": {
           "xaxis": {
            "backgroundcolor": "#E5ECF6",
            "gridcolor": "white",
            "gridwidth": 2,
            "linecolor": "white",
            "showbackground": true,
            "ticks": "",
            "zerolinecolor": "white"
           },
           "yaxis": {
            "backgroundcolor": "#E5ECF6",
            "gridcolor": "white",
            "gridwidth": 2,
            "linecolor": "white",
            "showbackground": true,
            "ticks": "",
            "zerolinecolor": "white"
           },
           "zaxis": {
            "backgroundcolor": "#E5ECF6",
            "gridcolor": "white",
            "gridwidth": 2,
            "linecolor": "white",
            "showbackground": true,
            "ticks": "",
            "zerolinecolor": "white"
           }
          },
          "shapedefaults": {
           "line": {
            "color": "#2a3f5f"
           }
          },
          "ternary": {
           "aaxis": {
            "gridcolor": "white",
            "linecolor": "white",
            "ticks": ""
           },
           "baxis": {
            "gridcolor": "white",
            "linecolor": "white",
            "ticks": ""
           },
           "bgcolor": "#E5ECF6",
           "caxis": {
            "gridcolor": "white",
            "linecolor": "white",
            "ticks": ""
           }
          },
          "title": {
           "x": 0.05
          },
          "xaxis": {
           "automargin": true,
           "gridcolor": "white",
           "linecolor": "white",
           "ticks": "",
           "title": {
            "standoff": 15
           },
           "zerolinecolor": "white",
           "zerolinewidth": 2
          },
          "yaxis": {
           "automargin": true,
           "gridcolor": "white",
           "linecolor": "white",
           "ticks": "",
           "title": {
            "standoff": 15
           },
           "zerolinecolor": "white",
           "zerolinewidth": 2
          }
         }
        },
        "title": {
         "text": "Parallel Coordinate Plot"
        }
       }
      }
     },
     "metadata": {},
     "output_type": "display_data"
    }
   ],
   "source": [
    "optuna.visualization.plot_parallel_coordinate(study)"
   ]
  },
  {
   "cell_type": "code",
   "execution_count": null,
   "id": "281574d0",
   "metadata": {},
   "outputs": [
    {
     "name": "stdout",
     "output_type": "stream",
     "text": [
      "Best trial: {'C': 1.6786154619762603, 'epsilon': 0.02369265989407749, 'kernel': 'rbf', 'degree': 3}\n"
     ]
    }
   ],
   "source": [
    "print(\"Best trial:\", study.best_trial.params)"
   ]
  },
  {
   "cell_type": "code",
   "execution_count": null,
   "id": "3b45adad",
   "metadata": {},
   "outputs": [
    {
     "data": {
      "text/html": [
       "<style>#sk-container-id-2 {color: black;}#sk-container-id-2 pre{padding: 0;}#sk-container-id-2 div.sk-toggleable {background-color: white;}#sk-container-id-2 label.sk-toggleable__label {cursor: pointer;display: block;width: 100%;margin-bottom: 0;padding: 0.3em;box-sizing: border-box;text-align: center;}#sk-container-id-2 label.sk-toggleable__label-arrow:before {content: \"▸\";float: left;margin-right: 0.25em;color: #696969;}#sk-container-id-2 label.sk-toggleable__label-arrow:hover:before {color: black;}#sk-container-id-2 div.sk-estimator:hover label.sk-toggleable__label-arrow:before {color: black;}#sk-container-id-2 div.sk-toggleable__content {max-height: 0;max-width: 0;overflow: hidden;text-align: left;background-color: #f0f8ff;}#sk-container-id-2 div.sk-toggleable__content pre {margin: 0.2em;color: black;border-radius: 0.25em;background-color: #f0f8ff;}#sk-container-id-2 input.sk-toggleable__control:checked~div.sk-toggleable__content {max-height: 200px;max-width: 100%;overflow: auto;}#sk-container-id-2 input.sk-toggleable__control:checked~label.sk-toggleable__label-arrow:before {content: \"▾\";}#sk-container-id-2 div.sk-estimator input.sk-toggleable__control:checked~label.sk-toggleable__label {background-color: #d4ebff;}#sk-container-id-2 div.sk-label input.sk-toggleable__control:checked~label.sk-toggleable__label {background-color: #d4ebff;}#sk-container-id-2 input.sk-hidden--visually {border: 0;clip: rect(1px 1px 1px 1px);clip: rect(1px, 1px, 1px, 1px);height: 1px;margin: -1px;overflow: hidden;padding: 0;position: absolute;width: 1px;}#sk-container-id-2 div.sk-estimator {font-family: monospace;background-color: #f0f8ff;border: 1px dotted black;border-radius: 0.25em;box-sizing: border-box;margin-bottom: 0.5em;}#sk-container-id-2 div.sk-estimator:hover {background-color: #d4ebff;}#sk-container-id-2 div.sk-parallel-item::after {content: \"\";width: 100%;border-bottom: 1px solid gray;flex-grow: 1;}#sk-container-id-2 div.sk-label:hover label.sk-toggleable__label {background-color: #d4ebff;}#sk-container-id-2 div.sk-serial::before {content: \"\";position: absolute;border-left: 1px solid gray;box-sizing: border-box;top: 0;bottom: 0;left: 50%;z-index: 0;}#sk-container-id-2 div.sk-serial {display: flex;flex-direction: column;align-items: center;background-color: white;padding-right: 0.2em;padding-left: 0.2em;position: relative;}#sk-container-id-2 div.sk-item {position: relative;z-index: 1;}#sk-container-id-2 div.sk-parallel {display: flex;align-items: stretch;justify-content: center;background-color: white;position: relative;}#sk-container-id-2 div.sk-item::before, #sk-container-id-2 div.sk-parallel-item::before {content: \"\";position: absolute;border-left: 1px solid gray;box-sizing: border-box;top: 0;bottom: 0;left: 50%;z-index: -1;}#sk-container-id-2 div.sk-parallel-item {display: flex;flex-direction: column;z-index: 1;position: relative;background-color: white;}#sk-container-id-2 div.sk-parallel-item:first-child::after {align-self: flex-end;width: 50%;}#sk-container-id-2 div.sk-parallel-item:last-child::after {align-self: flex-start;width: 50%;}#sk-container-id-2 div.sk-parallel-item:only-child::after {width: 0;}#sk-container-id-2 div.sk-dashed-wrapped {border: 1px dashed gray;margin: 0 0.4em 0.5em 0.4em;box-sizing: border-box;padding-bottom: 0.4em;background-color: white;}#sk-container-id-2 div.sk-label label {font-family: monospace;font-weight: bold;display: inline-block;line-height: 1.2em;}#sk-container-id-2 div.sk-label-container {text-align: center;}#sk-container-id-2 div.sk-container {/* jupyter's `normalize.less` sets `[hidden] { display: none; }` but bootstrap.min.css set `[hidden] { display: none !important; }` so we also need the `!important` here to be able to override the default hidden behavior on the sphinx rendered scikit-learn.org. See: https://github.com/scikit-learn/scikit-learn/issues/21755 */display: inline-block !important;position: relative;}#sk-container-id-2 div.sk-text-repr-fallback {display: none;}</style><div id=\"sk-container-id-2\" class=\"sk-top-container\"><div class=\"sk-text-repr-fallback\"><pre>SVR(C=1.6786154619762603, epsilon=0.02369265989407749)</pre><b>In a Jupyter environment, please rerun this cell to show the HTML representation or trust the notebook. <br />On GitHub, the HTML representation is unable to render, please try loading this page with nbviewer.org.</b></div><div class=\"sk-container\" hidden><div class=\"sk-item\"><div class=\"sk-estimator sk-toggleable\"><input class=\"sk-toggleable__control sk-hidden--visually\" id=\"sk-estimator-id-2\" type=\"checkbox\" checked><label for=\"sk-estimator-id-2\" class=\"sk-toggleable__label sk-toggleable__label-arrow\">SVR</label><div class=\"sk-toggleable__content\"><pre>SVR(C=1.6786154619762603, epsilon=0.02369265989407749)</pre></div></div></div></div></div>"
      ],
      "text/plain": [
       "SVR(C=1.6786154619762603, epsilon=0.02369265989407749)"
      ]
     },
     "execution_count": 36,
     "metadata": {},
     "output_type": "execute_result"
    }
   ],
   "source": [
    "svm_params = {\n",
    "    \"C\": study.best_trial.params[\"C\"],\n",
    "    \"epsilon\": study.best_trial.params[\"epsilon\"],\n",
    "    \"kernel\": study.best_trial.params[\"kernel\"],\n",
    "    \"degree\": study.best_trial.params[\"degree\"]\n",
    "}\n",
    "\n",
    "svm = SVR(**svm_params)\n",
    "svm.fit(Cd_X_train, Cd_y_train)"
   ]
  },
  {
   "cell_type": "code",
   "execution_count": null,
   "id": "9ab1055b",
   "metadata": {},
   "outputs": [],
   "source": [
    "y_train_pred = svm.predict(Cd_X_train)\n",
    "y_test_pred = svm.predict(Cd_X_test)"
   ]
  },
  {
   "cell_type": "code",
   "execution_count": null,
   "id": "425b4001",
   "metadata": {},
   "outputs": [
    {
     "name": "stdout",
     "output_type": "stream",
     "text": [
      "Train RMSE:  0.11569694632080885\n",
      "Test RMSE:  0.14462997025406332\n"
     ]
    }
   ],
   "source": [
    "print(\"Train RMSE: \", np.sqrt(mean_squared_error(Cd_y_train, y_train_pred)))\n",
    "print(\"Test RMSE: \", np.sqrt(mean_squared_error(Cd_y_test, y_test_pred)))"
   ]
  },
  {
   "cell_type": "code",
   "execution_count": null,
   "id": "0f95ae3c",
   "metadata": {},
   "outputs": [
    {
     "name": "stdout",
     "output_type": "stream",
     "text": [
      "Train R2:  0.7167950440098796\n",
      "Test R2:  0.5738292070813077\n"
     ]
    }
   ],
   "source": [
    "print(\"Train R2: \", r2_score(Cd_y_train, y_train_pred))\n",
    "print(\"Test R2: \", r2_score(Cd_y_test, y_test_pred))"
   ]
  },
  {
   "cell_type": "code",
   "execution_count": null,
   "id": "a2ac1a1f",
   "metadata": {},
   "outputs": [
    {
     "data": {
      "image/png": "[encoded data removed]",
      "text/plain": [
       "<Figure size 640x480 with 1 Axes>"
      ]
     },
     "metadata": {},
     "output_type": "display_data"
    }
   ],
   "source": [
    "plt.scatter(y_train_pred, np.array(Cd_y_train), color=\"orange\", alpha=0.3)\n",
    "plt.scatter(y_test_pred, np.array(Cd_y_test), color=\"green\", alpha=0.4)\n",
    "plt.axis(\"auto\") # scaled, tight, auto, image, square\n",
    "# plt.xlim([0, 1.5]) \n",
    "# plt.ylim(0, None) \n",
    "plt.xlabel('Predicted Values')\n",
    "plt.ylabel('Actual Values')\n",
    "\n",
    "# Add y=x line\n",
    "plt.plot([0, 0.5], [0, 0.5], color='red', linestyle='-')\n",
    "\n",
    "plt.show()"
   ]
  },
  {
   "attachments": {},
   "cell_type": "markdown",
   "id": "74f680ea",
   "metadata": {},
   "source": [
    "Ni"
   ]
  },
  {
   "cell_type": "code",
   "execution_count": null,
   "id": "de233338",
   "metadata": {},
   "outputs": [
    {
     "name": "stderr",
     "output_type": "stream",
     "text": [
      "\u001b[32m[I 2023-08-23 21:40:33,113]\u001b[0m A new study created in memory with name: svm_parameter_opt\u001b[0m\n",
      "\u001b[32m[I 2023-08-23 21:40:33,385]\u001b[0m Trial 0 finished with value: 0.07018361112216458 and parameters: {'C': 2.065331414125709, 'epsilon': 0.710671270238858, 'kernel': 'poly', 'degree': 4}. Best is trial 0 with value: 0.07018361112216458.\u001b[0m\n",
      "\u001b[32m[I 2023-08-23 21:40:34,531]\u001b[0m Trial 1 finished with value: 0.5617752886244796 and parameters: {'C': 24.9774186636758, 'epsilon': 0.065609017579832, 'kernel': 'rbf', 'degree': 2}. Best is trial 1 with value: 0.5617752886244796.\u001b[0m\n",
      "\u001b[32m[I 2023-08-23 21:40:36,582]\u001b[0m Trial 2 finished with value: 0.5309498703478636 and parameters: {'C': 76.98072031171732, 'epsilon': 0.09380293941046917, 'kernel': 'rbf', 'degree': 2}. Best is trial 1 with value: 0.5617752886244796.\u001b[0m\n",
      "\u001b[32m[I 2023-08-23 21:40:37,863]\u001b[0m Trial 3 finished with value: 0.5586869867117722 and parameters: {'C': 21.757053849081295, 'epsilon': 0.014808116281341101, 'kernel': 'rbf', 'degree': 2}. Best is trial 1 with value: 0.5617752886244796.\u001b[0m\n",
      "\u001b[32m[I 2023-08-23 21:40:38,420]\u001b[0m Trial 4 finished with value: 0.36649167866781684 and parameters: {'C': 0.25453491972653636, 'epsilon': 0.0469923603970401, 'kernel': 'rbf', 'degree': 1}. Best is trial 1 with value: 0.5617752886244796.\u001b[0m\n",
      "\u001b[32m[I 2023-08-23 21:40:38,908]\u001b[0m Trial 5 finished with value: -1.210615049276597 and parameters: {'C': 0.38942835588762187, 'epsilon': 0.047113399181171786, 'kernel': 'poly', 'degree': 5}. Best is trial 1 with value: 0.5617752886244796.\u001b[0m\n",
      "\u001b[32m[I 2023-08-23 21:40:46,185]\u001b[0m Trial 6 finished with value: 0.12825904879531422 and parameters: {'C': 26.438823518221234, 'epsilon': 0.03938468524409731, 'kernel': 'linear', 'degree': 3}. Best is trial 1 with value: 0.5617752886244796.\u001b[0m\n",
      "\u001b[32m[I 2023-08-23 21:40:47,170]\u001b[0m Trial 7 finished with value: 0.5655689354242517 and parameters: {'C': 16.57552231536556, 'epsilon': 0.04303084559841888, 'kernel': 'rbf', 'degree': 2}. Best is trial 7 with value: 0.5655689354242517.\u001b[0m\n",
      "\u001b[32m[I 2023-08-23 21:40:48,896]\u001b[0m Trial 8 finished with value: 0.11861243251442075 and parameters: {'C': 4.22511292324047, 'epsilon': 0.09524399548475379, 'kernel': 'linear', 'degree': 5}. Best is trial 7 with value: 0.5655689354242517.\u001b[0m\n",
      "\u001b[32m[I 2023-08-23 21:40:49,468]\u001b[0m Trial 9 finished with value: 0.16603460366656925 and parameters: {'C': 0.7525945037980933, 'epsilon': 0.35175027990184315, 'kernel': 'linear', 'degree': 5}. Best is trial 7 with value: 0.5655689354242517.\u001b[0m\n",
      "\u001b[32m[I 2023-08-23 21:40:50,191]\u001b[0m Trial 10 finished with value: 0.5356967500934182 and parameters: {'C': 4.022760064662704, 'epsilon': 0.01253789439148056, 'kernel': 'rbf', 'degree': 1}. Best is trial 7 with value: 0.5655689354242517.\u001b[0m\n",
      "\u001b[32m[I 2023-08-23 21:40:50,759]\u001b[0m Trial 11 finished with value: 0.5755047242905453 and parameters: {'C': 16.236295019423004, 'epsilon': 0.2594696688167013, 'kernel': 'rbf', 'degree': 2}. Best is trial 11 with value: 0.5755047242905453.\u001b[0m\n",
      "\u001b[32m[I 2023-08-23 21:40:51,262]\u001b[0m Trial 12 finished with value: 0.5749542767993975 and parameters: {'C': 11.252184042908821, 'epsilon': 0.278529927728863, 'kernel': 'rbf', 'degree': 3}. Best is trial 11 with value: 0.5755047242905453.\u001b[0m\n",
      "\u001b[32m[I 2023-08-23 21:40:51,748]\u001b[0m Trial 13 finished with value: 0.5675706863254073 and parameters: {'C': 8.842578949966963, 'epsilon': 0.26754632400176404, 'kernel': 'rbf', 'degree': 3}. Best is trial 11 with value: 0.5755047242905453.\u001b[0m\n",
      "\u001b[32m[I 2023-08-23 21:40:58,020]\u001b[0m Trial 14 finished with value: -20.212698347915218 and parameters: {'C': 95.32701756341015, 'epsilon': 0.21902599007782314, 'kernel': 'poly', 'degree': 4}. Best is trial 11 with value: 0.5755047242905453.\u001b[0m\n",
      "\u001b[32m[I 2023-08-23 21:40:58,305]\u001b[0m Trial 15 finished with value: 0.484595438264814 and parameters: {'C': 1.5064002965070549, 'epsilon': 0.654691339248428, 'kernel': 'rbf', 'degree': 3}. Best is trial 11 with value: 0.5755047242905453.\u001b[0m\n",
      "\u001b[32m[I 2023-08-23 21:40:58,837]\u001b[0m Trial 16 finished with value: 0.5635248121768323 and parameters: {'C': 8.690137268919262, 'epsilon': 0.1993115888256772, 'kernel': 'rbf', 'degree': 4}. Best is trial 11 with value: 0.5755047242905453.\u001b[0m\n",
      "\u001b[32m[I 2023-08-23 21:40:59,464]\u001b[0m Trial 17 finished with value: 0.5639732714683745 and parameters: {'C': 44.51363063128184, 'epsilon': 0.4084169430787378, 'kernel': 'rbf', 'degree': 1}. Best is trial 11 with value: 0.5755047242905453.\u001b[0m\n",
      "\u001b[32m[I 2023-08-23 21:40:59,768]\u001b[0m Trial 18 finished with value: 0.038681575876787756 and parameters: {'C': 0.11864058894785334, 'epsilon': 0.17797817476859099, 'kernel': 'poly', 'degree': 2}. Best is trial 11 with value: 0.5755047242905453.\u001b[0m\n",
      "\u001b[32m[I 2023-08-23 21:41:01,456]\u001b[0m Trial 19 finished with value: 0.19927134363007926 and parameters: {'C': 7.767399214411231, 'epsilon': 0.8937171059528466, 'kernel': 'linear', 'degree': 3}. Best is trial 11 with value: 0.5755047242905453.\u001b[0m\n",
      "\u001b[32m[I 2023-08-23 21:41:02,140]\u001b[0m Trial 20 finished with value: 0.5697829688188809 and parameters: {'C': 12.514458793672457, 'epsilon': 0.13725218562502145, 'kernel': 'rbf', 'degree': 4}. Best is trial 11 with value: 0.5755047242905453.\u001b[0m\n",
      "\u001b[32m[I 2023-08-23 21:41:02,799]\u001b[0m Trial 21 finished with value: 0.5699456436005581 and parameters: {'C': 11.866283536600523, 'epsilon': 0.15390623212951546, 'kernel': 'rbf', 'degree': 4}. Best is trial 11 with value: 0.5755047242905453.\u001b[0m\n",
      "\u001b[32m[I 2023-08-23 21:41:03,396]\u001b[0m Trial 22 finished with value: 0.5649112609330127 and parameters: {'C': 43.100762661326726, 'epsilon': 0.4482984156551424, 'kernel': 'rbf', 'degree': 4}. Best is trial 11 with value: 0.5755047242905453.\u001b[0m\n",
      "\u001b[32m[I 2023-08-23 21:41:03,955]\u001b[0m Trial 23 finished with value: 0.5479756787954885 and parameters: {'C': 4.918009043653622, 'epsilon': 0.12860201147276726, 'kernel': 'rbf', 'degree': 3}. Best is trial 11 with value: 0.5755047242905453.\u001b[0m\n",
      "\u001b[32m[I 2023-08-23 21:41:04,692]\u001b[0m Trial 24 finished with value: 0.5654865662846076 and parameters: {'C': 42.08453282052565, 'epsilon': 0.32399860750848525, 'kernel': 'rbf', 'degree': 3}. Best is trial 11 with value: 0.5755047242905453.\u001b[0m\n",
      "\u001b[32m[I 2023-08-23 21:41:05,011]\u001b[0m Trial 25 finished with value: 0.5169956683282082 and parameters: {'C': 2.2901993913767504, 'epsilon': 0.5210002923762732, 'kernel': 'rbf', 'degree': 2}. Best is trial 11 with value: 0.5755047242905453.\u001b[0m\n",
      "\u001b[32m[I 2023-08-23 21:41:05,703]\u001b[0m Trial 26 finished with value: 0.5700128642610395 and parameters: {'C': 12.738172806048299, 'epsilon': 0.13855747129727608, 'kernel': 'rbf', 'degree': 4}. Best is trial 11 with value: 0.5755047242905453.\u001b[0m\n",
      "\u001b[32m[I 2023-08-23 21:41:06,514]\u001b[0m Trial 27 finished with value: 0.5517354696325156 and parameters: {'C': 7.14984766311605, 'epsilon': 0.02239035873698311, 'kernel': 'rbf', 'degree': 3}. Best is trial 11 with value: 0.5755047242905453.\u001b[0m\n",
      "\u001b[32m[I 2023-08-23 21:41:07,222]\u001b[0m Trial 28 finished with value: 0.15743995063138655 and parameters: {'C': 1.0429936058415161, 'epsilon': 0.2738344159078523, 'kernel': 'linear', 'degree': 2}. Best is trial 11 with value: 0.5755047242905453.\u001b[0m\n",
      "\u001b[32m[I 2023-08-23 21:41:07,883]\u001b[0m Trial 29 finished with value: 0.006757624944894647 and parameters: {'C': 2.700143239538435, 'epsilon': 0.07440323843180272, 'kernel': 'poly', 'degree': 4}. Best is trial 11 with value: 0.5755047242905453.\u001b[0m\n",
      "\u001b[32m[I 2023-08-23 21:41:08,440]\u001b[0m Trial 30 finished with value: -57.112448508392916 and parameters: {'C': 16.678869842939367, 'epsilon': 0.5566286313116319, 'kernel': 'poly', 'degree': 5}. Best is trial 11 with value: 0.5755047242905453.\u001b[0m\n",
      "\u001b[32m[I 2023-08-23 21:41:08,979]\u001b[0m Trial 31 finished with value: 0.5522943174841617 and parameters: {'C': 5.689169091195852, 'epsilon': 0.14917387998493706, 'kernel': 'rbf', 'degree': 4}. Best is trial 11 with value: 0.5755047242905453.\u001b[0m\n",
      "\u001b[32m[I 2023-08-23 21:41:09,553]\u001b[0m Trial 32 finished with value: 0.574443116039832 and parameters: {'C': 13.76943741901114, 'epsilon': 0.22816982520015108, 'kernel': 'rbf', 'degree': 4}. Best is trial 11 with value: 0.5755047242905453.\u001b[0m\n",
      "\u001b[32m[I 2023-08-23 21:41:10,299]\u001b[0m Trial 33 finished with value: 0.567273654689599 and parameters: {'C': 27.6483984346319, 'epsilon': 0.2272762621881981, 'kernel': 'rbf', 'degree': 4}. Best is trial 11 with value: 0.5755047242905453.\u001b[0m\n",
      "\u001b[32m[I 2023-08-23 21:41:11,051]\u001b[0m Trial 34 finished with value: 0.5690594153043198 and parameters: {'C': 12.86295956593498, 'epsilon': 0.11136828922617004, 'kernel': 'rbf', 'degree': 3}. Best is trial 11 with value: 0.5755047242905453.\u001b[0m\n",
      "\u001b[32m[I 2023-08-23 21:41:12,925]\u001b[0m Trial 35 finished with value: 0.536935301926419 and parameters: {'C': 64.12935529605966, 'epsilon': 0.07912897553597281, 'kernel': 'rbf', 'degree': 5}. Best is trial 11 with value: 0.5755047242905453.\u001b[0m\n",
      "\u001b[32m[I 2023-08-23 21:41:13,501]\u001b[0m Trial 36 finished with value: 0.575348701301054 and parameters: {'C': 18.83297407604616, 'epsilon': 0.28819692993917256, 'kernel': 'rbf', 'degree': 2}. Best is trial 11 with value: 0.5755047242905453.\u001b[0m\n",
      "\u001b[32m[I 2023-08-23 21:41:14,104]\u001b[0m Trial 37 finished with value: 0.571792819248863 and parameters: {'C': 23.705155223145745, 'epsilon': 0.3031342655031295, 'kernel': 'rbf', 'degree': 2}. Best is trial 11 with value: 0.5755047242905453.\u001b[0m\n",
      "\u001b[32m[I 2023-08-23 21:41:14,666]\u001b[0m Trial 38 finished with value: 0.5709599945983141 and parameters: {'C': 32.64946043974798, 'epsilon': 0.40718213152121924, 'kernel': 'rbf', 'degree': 1}. Best is trial 11 with value: 0.5755047242905453.\u001b[0m\n",
      "\u001b[32m[I 2023-08-23 21:41:14,966]\u001b[0m Trial 39 finished with value: 0.5373793420010775 and parameters: {'C': 15.797238575801575, 'epsilon': 0.7928591827617181, 'kernel': 'rbf', 'degree': 2}. Best is trial 11 with value: 0.5755047242905453.\u001b[0m\n",
      "\u001b[32m[I 2023-08-23 21:41:27,927]\u001b[0m Trial 40 finished with value: 0.1559002013363588 and parameters: {'C': 56.405731663404126, 'epsilon': 0.2346728319587666, 'kernel': 'linear', 'degree': 2}. Best is trial 11 with value: 0.5755047242905453.\u001b[0m\n",
      "\u001b[32m[I 2023-08-23 21:41:28,512]\u001b[0m Trial 41 finished with value: 0.5740157638709513 and parameters: {'C': 20.030963979811613, 'epsilon': 0.315533234113778, 'kernel': 'rbf', 'degree': 2}. Best is trial 11 with value: 0.5755047242905453.\u001b[0m\n",
      "\u001b[32m[I 2023-08-23 21:41:29,271]\u001b[0m Trial 42 finished with value: 0.5681703317316498 and parameters: {'C': 22.77313237021929, 'epsilon': 0.18073110502047474, 'kernel': 'rbf', 'degree': 1}. Best is trial 11 with value: 0.5755047242905453.\u001b[0m\n",
      "\u001b[32m[I 2023-08-23 21:41:29,790]\u001b[0m Trial 43 finished with value: 0.5753109405403718 and parameters: {'C': 18.85096278542786, 'epsilon': 0.3616433817611284, 'kernel': 'rbf', 'degree': 2}. Best is trial 11 with value: 0.5755047242905453.\u001b[0m\n",
      "\u001b[32m[I 2023-08-23 21:41:30,192]\u001b[0m Trial 44 finished with value: 0.558450939000188 and parameters: {'C': 31.574364515559115, 'epsilon': 0.6484939984868873, 'kernel': 'rbf', 'degree': 2}. Best is trial 11 with value: 0.5755047242905453.\u001b[0m\n",
      "\u001b[32m[I 2023-08-23 21:41:30,574]\u001b[0m Trial 45 finished with value: 0.5597398507798937 and parameters: {'C': 5.968381645131426, 'epsilon': 0.37855655521720655, 'kernel': 'rbf', 'degree': 1}. Best is trial 11 with value: 0.5755047242905453.\u001b[0m\n",
      "\u001b[32m[I 2023-08-23 21:41:30,941]\u001b[0m Trial 46 finished with value: 0.2556057773046164 and parameters: {'C': 3.4504330652125548, 'epsilon': 0.525401692895761, 'kernel': 'poly', 'degree': 2}. Best is trial 11 with value: 0.5755047242905453.\u001b[0m\n",
      "\u001b[32m[I 2023-08-23 21:41:31,435]\u001b[0m Trial 47 finished with value: 0.5676380839667365 and parameters: {'C': 9.348081081864382, 'epsilon': 0.24937730742093886, 'kernel': 'rbf', 'degree': 3}. Best is trial 11 with value: 0.5755047242905453.\u001b[0m\n",
      "\u001b[32m[I 2023-08-23 21:41:32,143]\u001b[0m Trial 48 finished with value: 0.5719379770128284 and parameters: {'C': 18.672613520157554, 'epsilon': 0.17949895252880319, 'kernel': 'rbf', 'degree': 2}. Best is trial 11 with value: 0.5755047242905453.\u001b[0m\n",
      "\u001b[32m[I 2023-08-23 21:41:39,873]\u001b[0m Trial 49 finished with value: 0.19392115195502863 and parameters: {'C': 32.811551873382946, 'epsilon': 0.4681857391186592, 'kernel': 'linear', 'degree': 3}. Best is trial 11 with value: 0.5755047242905453.\u001b[0m\n",
      "\u001b[32m[I 2023-08-23 21:41:40,564]\u001b[0m Trial 50 finished with value: 0.5660946822513859 and parameters: {'C': 10.43009218311253, 'epsilon': 0.1102911915946134, 'kernel': 'rbf', 'degree': 3}. Best is trial 11 with value: 0.5755047242905453.\u001b[0m\n",
      "\u001b[32m[I 2023-08-23 21:41:41,082]\u001b[0m Trial 51 finished with value: 0.5753241038249528 and parameters: {'C': 18.62622496619323, 'epsilon': 0.3497550254721719, 'kernel': 'rbf', 'degree': 2}. Best is trial 11 with value: 0.5755047242905453.\u001b[0m\n",
      "\u001b[32m[I 2023-08-23 21:41:41,583]\u001b[0m Trial 52 finished with value: 0.5772996543810358 and parameters: {'C': 15.637368895255543, 'epsilon': 0.3261406395888819, 'kernel': 'rbf', 'degree': 2}. Best is trial 52 with value: 0.5772996543810358.\u001b[0m\n",
      "\u001b[32m[I 2023-08-23 21:41:42,096]\u001b[0m Trial 53 finished with value: 0.5752921688735128 and parameters: {'C': 18.869245682722465, 'epsilon': 0.36145091225897613, 'kernel': 'rbf', 'degree': 2}. Best is trial 52 with value: 0.5772996543810358.\u001b[0m\n",
      "\u001b[32m[I 2023-08-23 21:41:42,892]\u001b[0m Trial 54 finished with value: 0.5536826301181416 and parameters: {'C': 59.84856241064342, 'epsilon': 0.3600721603267646, 'kernel': 'rbf', 'degree': 2}. Best is trial 52 with value: 0.5772996543810358.\u001b[0m\n",
      "\u001b[32m[I 2023-08-23 21:41:43,271]\u001b[0m Trial 55 finished with value: 0.536141162644703 and parameters: {'C': 38.85792998461702, 'epsilon': 0.7527154414493598, 'kernel': 'rbf', 'degree': 1}. Best is trial 52 with value: 0.5772996543810358.\u001b[0m\n",
      "\u001b[32m[I 2023-08-23 21:41:43,657]\u001b[0m Trial 56 finished with value: 0.5723995788343927 and parameters: {'C': 19.11853439330697, 'epsilon': 0.5705027453858439, 'kernel': 'rbf', 'degree': 2}. Best is trial 52 with value: 0.5772996543810358.\u001b[0m\n",
      "\u001b[32m[I 2023-08-23 21:41:44,661]\u001b[0m Trial 57 finished with value: 0.5276765439733753 and parameters: {'C': 90.60060215191042, 'epsilon': 0.3476941388730691, 'kernel': 'rbf', 'degree': 2}. Best is trial 52 with value: 0.5772996543810358.\u001b[0m\n",
      "\u001b[32m[I 2023-08-23 21:41:46,097]\u001b[0m Trial 58 finished with value: -0.46308027194130286 and parameters: {'C': 25.50408527404801, 'epsilon': 0.423980122488764, 'kernel': 'poly', 'degree': 2}. Best is trial 52 with value: 0.5772996543810358.\u001b[0m\n",
      "\u001b[32m[I 2023-08-23 21:41:46,347]\u001b[0m Trial 59 finished with value: 0.49399167126634325 and parameters: {'C': 6.737178794286622, 'epsilon': 0.9195026702870007, 'kernel': 'rbf', 'degree': 1}. Best is trial 52 with value: 0.5772996543810358.\u001b[0m\n",
      "\u001b[32m[I 2023-08-23 21:41:49,118]\u001b[0m Trial 60 finished with value: 0.16479081433932347 and parameters: {'C': 9.391865752898324, 'epsilon': 0.2898696287206797, 'kernel': 'linear', 'degree': 2}. Best is trial 52 with value: 0.5772996543810358.\u001b[0m\n",
      "\u001b[32m[I 2023-08-23 21:41:49,733]\u001b[0m Trial 61 finished with value: 0.5733656347488697 and parameters: {'C': 13.732871455588155, 'epsilon': 0.20022069925048458, 'kernel': 'rbf', 'degree': 2}. Best is trial 52 with value: 0.5772996543810358.\u001b[0m\n",
      "\u001b[32m[I 2023-08-23 21:41:50,304]\u001b[0m Trial 62 finished with value: 0.5754599195253138 and parameters: {'C': 15.94463676577647, 'epsilon': 0.2592171159282068, 'kernel': 'rbf', 'degree': 2}. Best is trial 52 with value: 0.5772996543810358.\u001b[0m\n",
      "\u001b[32m[I 2023-08-23 21:41:50,714]\u001b[0m Trial 63 finished with value: 0.575661057180723 and parameters: {'C': 15.627515414740591, 'epsilon': 0.4719969021937338, 'kernel': 'rbf', 'degree': 2}. Best is trial 52 with value: 0.5772996543810358.\u001b[0m\n",
      "\u001b[32m[I 2023-08-23 21:41:51,035]\u001b[0m Trial 64 finished with value: 0.4451212850711535 and parameters: {'C': 0.5425172506888988, 'epsilon': 0.46761572301726806, 'kernel': 'rbf', 'degree': 2}. Best is trial 52 with value: 0.5772996543810358.\u001b[0m\n",
      "\u001b[32m[I 2023-08-23 21:41:52,060]\u001b[0m Trial 65 finished with value: 0.5645434169921849 and parameters: {'C': 16.153373320489, 'epsilon': 0.03373224643924278, 'kernel': 'rbf', 'degree': 2}. Best is trial 52 with value: 0.5772996543810358.\u001b[0m\n",
      "\u001b[32m[I 2023-08-23 21:41:52,556]\u001b[0m Trial 66 finished with value: 0.5512107066886831 and parameters: {'C': 50.93331917352075, 'epsilon': 0.6157240581284742, 'kernel': 'rbf', 'degree': 2}. Best is trial 52 with value: 0.5772996543810358.\u001b[0m\n",
      "\u001b[32m[I 2023-08-23 21:41:53,016]\u001b[0m Trial 67 finished with value: 0.5644043490172169 and parameters: {'C': 7.932001983376993, 'epsilon': 0.2709886291487517, 'kernel': 'rbf', 'degree': 2}. Best is trial 52 with value: 0.5772996543810358.\u001b[0m\n",
      "\u001b[32m[I 2023-08-23 21:41:53,352]\u001b[0m Trial 68 finished with value: 0.546860872210687 and parameters: {'C': 4.427375738424739, 'epsilon': 0.49063694426418397, 'kernel': 'rbf', 'degree': 1}. Best is trial 52 with value: 0.5772996543810358.\u001b[0m\n",
      "\u001b[32m[I 2023-08-23 21:41:53,814]\u001b[0m Trial 69 finished with value: 0.346142268924292 and parameters: {'C': 0.1863186607459868, 'epsilon': 0.16373234982918242, 'kernel': 'rbf', 'degree': 2}. Best is trial 52 with value: 0.5772996543810358.\u001b[0m\n",
      "\u001b[32m[I 2023-08-23 21:41:55,365]\u001b[0m Trial 70 finished with value: -0.6887190071842095 and parameters: {'C': 27.215733608911748, 'epsilon': 0.20327874486644376, 'kernel': 'poly', 'degree': 2}. Best is trial 52 with value: 0.5772996543810358.\u001b[0m\n",
      "\u001b[32m[I 2023-08-23 21:41:55,875]\u001b[0m Trial 71 finished with value: 0.5750772798699142 and parameters: {'C': 19.88266432477958, 'epsilon': 0.3750950792714636, 'kernel': 'rbf', 'degree': 2}. Best is trial 52 with value: 0.5772996543810358.\u001b[0m\n",
      "\u001b[32m[I 2023-08-23 21:41:56,350]\u001b[0m Trial 72 finished with value: 0.5772109113805663 and parameters: {'C': 11.229657788493684, 'epsilon': 0.3123416800989915, 'kernel': 'rbf', 'degree': 2}. Best is trial 52 with value: 0.5772996543810358.\u001b[0m\n",
      "\u001b[32m[I 2023-08-23 21:41:56,831]\u001b[0m Trial 73 finished with value: 0.5776961817697007 and parameters: {'C': 11.78212466309915, 'epsilon': 0.31393813066253995, 'kernel': 'rbf', 'degree': 2}. Best is trial 73 with value: 0.5776961817697007.\u001b[0m\n",
      "\u001b[32m[I 2023-08-23 21:41:57,312]\u001b[0m Trial 74 finished with value: 0.5754629598572661 and parameters: {'C': 10.719350398197673, 'epsilon': 0.29147693119110213, 'kernel': 'rbf', 'degree': 2}. Best is trial 73 with value: 0.5776961817697007.\u001b[0m\n",
      "\u001b[32m[I 2023-08-23 21:41:57,822]\u001b[0m Trial 75 finished with value: 0.5726432649053065 and parameters: {'C': 10.791752988795793, 'epsilon': 0.2580504923219597, 'kernel': 'rbf', 'degree': 1}. Best is trial 73 with value: 0.5776961817697007.\u001b[0m\n",
      "\u001b[32m[I 2023-08-23 21:41:58,313]\u001b[0m Trial 76 finished with value: 0.578114319498958 and parameters: {'C': 13.901533927301436, 'epsilon': 0.32419347651260405, 'kernel': 'rbf', 'degree': 2}. Best is trial 76 with value: 0.578114319498958.\u001b[0m\n",
      "\u001b[32m[I 2023-08-23 21:41:58,675]\u001b[0m Trial 77 finished with value: 0.5568507032486945 and parameters: {'C': 5.43322512343806, 'epsilon': 0.42658579418457726, 'kernel': 'rbf', 'degree': 3}. Best is trial 76 with value: 0.578114319498958.\u001b[0m\n",
      "\u001b[32m[I 2023-08-23 21:42:02,038]\u001b[0m Trial 78 finished with value: 0.16940579215685841 and parameters: {'C': 13.508069775689323, 'epsilon': 0.31260932024369215, 'kernel': 'linear', 'degree': 2}. Best is trial 76 with value: 0.578114319498958.\u001b[0m\n",
      "\u001b[32m[I 2023-08-23 21:42:02,530]\u001b[0m Trial 79 finished with value: 0.5599029093721561 and parameters: {'C': 7.203140638523072, 'epsilon': 0.21689702574040048, 'kernel': 'rbf', 'degree': 2}. Best is trial 76 with value: 0.578114319498958.\u001b[0m\n",
      "\u001b[32m[I 2023-08-23 21:42:02,996]\u001b[0m Trial 80 finished with value: 0.5773481100082636 and parameters: {'C': 11.008254633161291, 'epsilon': 0.3223520236580823, 'kernel': 'rbf', 'degree': 3}. Best is trial 76 with value: 0.578114319498958.\u001b[0m\n",
      "\u001b[32m[I 2023-08-23 21:42:03,525]\u001b[0m Trial 81 finished with value: 0.5715877607708907 and parameters: {'C': 10.921446095630255, 'epsilon': 0.24134008192659095, 'kernel': 'rbf', 'degree': 3}. Best is trial 76 with value: 0.578114319498958.\u001b[0m\n",
      "\u001b[32m[I 2023-08-23 21:42:04,057]\u001b[0m Trial 82 finished with value: 0.5773669972604184 and parameters: {'C': 14.366982162073196, 'epsilon': 0.3009775948281566, 'kernel': 'rbf', 'degree': 2}. Best is trial 76 with value: 0.578114319498958.\u001b[0m\n",
      "\u001b[32m[I 2023-08-23 21:42:04,500]\u001b[0m Trial 83 finished with value: 0.5718322892090478 and parameters: {'C': 8.585754536811171, 'epsilon': 0.32068695239289774, 'kernel': 'rbf', 'degree': 3}. Best is trial 76 with value: 0.578114319498958.\u001b[0m\n",
      "\u001b[32m[I 2023-08-23 21:42:04,939]\u001b[0m Trial 84 finished with value: 0.5769893233912012 and parameters: {'C': 14.776973179060183, 'epsilon': 0.4185015820637261, 'kernel': 'rbf', 'degree': 2}. Best is trial 76 with value: 0.578114319498958.\u001b[0m\n",
      "\u001b[32m[I 2023-08-23 21:42:05,319]\u001b[0m Trial 85 finished with value: 0.5749801352134487 and parameters: {'C': 14.277635351011535, 'epsilon': 0.5376225304438719, 'kernel': 'rbf', 'degree': 2}. Best is trial 76 with value: 0.578114319498958.\u001b[0m\n",
      "\u001b[32m[I 2023-08-23 21:42:05,675]\u001b[0m Trial 86 finished with value: 0.5592300854786629 and parameters: {'C': 23.027226885433404, 'epsilon': 0.6763129085478505, 'kernel': 'rbf', 'degree': 2}. Best is trial 76 with value: 0.578114319498958.\u001b[0m\n",
      "\u001b[32m[I 2023-08-23 21:42:06,102]\u001b[0m Trial 87 finished with value: 0.5779386824259811 and parameters: {'C': 12.322021085217795, 'epsilon': 0.40314938952590246, 'kernel': 'rbf', 'degree': 3}. Best is trial 76 with value: 0.578114319498958.\u001b[0m\n",
      "\u001b[32m[I 2023-08-23 21:42:06,473]\u001b[0m Trial 88 finished with value: 0.5623035509824991 and parameters: {'C': 6.1365349106980664, 'epsilon': 0.41100120287359343, 'kernel': 'rbf', 'degree': 3}. Best is trial 76 with value: 0.578114319498958.\u001b[0m\n",
      "\u001b[32m[I 2023-08-23 21:42:07,188]\u001b[0m Trial 89 finished with value: -4.030960387674278 and parameters: {'C': 9.059742532877017, 'epsilon': 0.4860279864715619, 'kernel': 'poly', 'degree': 3}. Best is trial 76 with value: 0.578114319498958.\u001b[0m\n",
      "\u001b[32m[I 2023-08-23 21:42:07,496]\u001b[0m Trial 90 finished with value: 0.5035598644295584 and parameters: {'C': 1.8035250753142376, 'epsilon': 0.5869112824509242, 'kernel': 'rbf', 'degree': 3}. Best is trial 76 with value: 0.578114319498958.\u001b[0m\n",
      "\u001b[32m[I 2023-08-23 21:42:07,926]\u001b[0m Trial 91 finished with value: 0.5779145192996107 and parameters: {'C': 12.336974597435407, 'epsilon': 0.4057068245404571, 'kernel': 'rbf', 'degree': 2}. Best is trial 76 with value: 0.578114319498958.\u001b[0m\n",
      "\u001b[32m[I 2023-08-23 21:42:08,358]\u001b[0m Trial 92 finished with value: 0.577426826617185 and parameters: {'C': 11.514151973207873, 'epsilon': 0.39755102687896116, 'kernel': 'rbf', 'degree': 2}. Best is trial 76 with value: 0.578114319498958.\u001b[0m\n",
      "\u001b[32m[I 2023-08-23 21:42:08,776]\u001b[0m Trial 93 finished with value: 0.5774882329983629 and parameters: {'C': 11.927982064965926, 'epsilon': 0.4169140913060159, 'kernel': 'rbf', 'degree': 2}. Best is trial 76 with value: 0.578114319498958.\u001b[0m\n",
      "\u001b[32m[I 2023-08-23 21:42:09,250]\u001b[0m Trial 94 finished with value: 0.5782765115086037 and parameters: {'C': 11.87401439445698, 'epsilon': 0.3265797473727567, 'kernel': 'rbf', 'degree': 3}. Best is trial 94 with value: 0.5782765115086037.\u001b[0m\n",
      "\u001b[32m[I 2023-08-23 21:42:09,686]\u001b[0m Trial 95 finished with value: 0.5779577385631389 and parameters: {'C': 12.429201947473858, 'epsilon': 0.3969784165969489, 'kernel': 'rbf', 'degree': 3}. Best is trial 94 with value: 0.5782765115086037.\u001b[0m\n",
      "\u001b[32m[I 2023-08-23 21:42:10,123]\u001b[0m Trial 96 finished with value: 0.5777166517021863 and parameters: {'C': 12.127557032955304, 'epsilon': 0.388356484927889, 'kernel': 'rbf', 'degree': 3}. Best is trial 94 with value: 0.5782765115086037.\u001b[0m\n",
      "\u001b[32m[I 2023-08-23 21:42:10,521]\u001b[0m Trial 97 finished with value: 0.5702441915607389 and parameters: {'C': 7.802509407765858, 'epsilon': 0.3754107848739743, 'kernel': 'rbf', 'degree': 3}. Best is trial 94 with value: 0.5782765115086037.\u001b[0m\n",
      "\u001b[32m[I 2023-08-23 21:42:12,210]\u001b[0m Trial 98 finished with value: 0.10998109685832551 and parameters: {'C': 3.874613600411128, 'epsilon': 0.05401564943308294, 'kernel': 'linear', 'degree': 3}. Best is trial 94 with value: 0.5782765115086037.\u001b[0m\n",
      "\u001b[32m[I 2023-08-23 21:42:12,593]\u001b[0m Trial 99 finished with value: 0.5751391544030614 and parameters: {'C': 12.436290678402457, 'epsilon': 0.5328389154035027, 'kernel': 'rbf', 'degree': 3}. Best is trial 94 with value: 0.5782765115086037.\u001b[0m\n"
     ]
    },
    {
     "name": "stdout",
     "output_type": "stream",
     "text": [
      "Best r2:  0.5782765115086037\n",
      "Best trial: {'C': 11.87401439445698, 'epsilon': 0.3265797473727567, 'kernel': 'rbf', 'degree': 3}\n"
     ]
    }
   ],
   "source": [
    "sampler = TPESampler()\n",
    "study = optuna.create_study(\n",
    "    study_name=\"svm_parameter_opt\",\n",
    "    direction=\"maximize\",\n",
    "    sampler=sampler,\n",
    ")\n",
    "\n",
    "study.optimize(lambda trial : objectiveSVM(trial, Ni_X_train, Ni_y_train), n_trials=100)\n",
    "print(\"Best r2: \", study.best_value)\n",
    "print(\"Best trial:\", study.best_trial.params)"
   ]
  },
  {
   "cell_type": "code",
   "execution_count": null,
   "id": "d71c01fb",
   "metadata": {},
   "outputs": [
    {
     "data": {
      "application/vnd.plotly.v1+json": {
       "config": {
        "plotlyServerURL": "https://plot.ly"
       },
       "data": [
        {
         "dimensions": [
          {
           "label": "Objective Value",
           "range": [
            -57.112448508392916,
            0.5782765115086037
           ],
           "values": [
            0.07018361112216458,
            0.5617752886244796,
            0.5309498703478636,
            0.5586869867117722,
            0.36649167866781684,
            -1.210615049276597,
            0.12825904879531422,
            0.5655689354242517,
            0.11861243251442075,
            0.16603460366656925,
            0.5356967500934182,
            0.5755047242905453,
            0.5749542767993975,
            0.5675706863254073,
            -20.212698347915218,
            0.484595438264814,
            0.5635248121768323,
            0.5639732714683745,
            0.038681575876787756,
            0.19927134363007926,
            0.5697829688188809,
            0.5699456436005581,
            0.5649112609330127,
            0.5479756787954885,
            0.5654865662846076,
            0.5169956683282082,
            0.5700128642610395,
            0.5517354696325156,
            0.15743995063138655,
            0.006757624944894647,
            -57.112448508392916,
            0.5522943174841617,
            0.574443116039832,
            0.567273654689599,
            0.5690594153043198,
            0.536935301926419,
            0.575348701301054,
            0.571792819248863,
            0.5709599945983141,
            0.5373793420010775,
            0.1559002013363588,
            0.5740157638709513,
            0.5681703317316498,
            0.5753109405403718,
            0.558450939000188,
            0.5597398507798937,
            0.2556057773046164,
            0.5676380839667365,
            0.5719379770128284,
            0.19392115195502863,
            0.5660946822513859,
            0.5753241038249528,
            0.5772996543810358,
            0.5752921688735128,
            0.5536826301181416,
            0.536141162644703,
            0.5723995788343927,
            0.5276765439733753,
            -0.46308027194130286,
            0.49399167126634325,
            0.16479081433932347,
            0.5733656347488697,
            0.5754599195253138,
            0.575661057180723,
            0.4451212850711535,
            0.5645434169921849,
            0.5512107066886831,
            0.5644043490172169,
            0.546860872210687,
            0.346142268924292,
            -0.6887190071842095,
            0.5750772798699142,
            0.5772109113805663,
            0.5776961817697007,
            0.5754629598572661,
            0.5726432649053065,
            0.578114319498958,
            0.5568507032486945,
            0.16940579215685841,
            0.5599029093721561,
            0.5773481100082636,
            0.5715877607708907,
            0.5773669972604184,
            0.5718322892090478,
            0.5769893233912012,
            0.5749801352134487,
            0.5592300854786629,
            0.5779386824259811,
            0.5623035509824991,
            -4.030960387674278,
            0.5035598644295584,
            0.5779145192996107,
            0.577426826617185,
            0.5774882329983629,
            0.5782765115086037,
            0.5779577385631389,
            0.5777166517021863,
            0.5702441915607389,
            0.10998109685832551,
            0.5751391544030614
           ]
          },
          {
           "label": "C",
           "range": [
            -0.9257667060780562,
            1.979216005735726
           ],
           "ticktext": [
            "0.119",
            "1",
            "10",
            "95.3"
           ],
           "tickvals": [
            -0.9257667060780562,
            0,
            1,
            1.979216005735726
           ],
           "values": [
            0.31498975079988095,
            1.3975475534116744,
            1.8863819704886384,
            1.3376000866276074,
            -0.5942526282418761,
            -0.409572428889005,
            1.42224212589256,
            1.219467222452802,
            0.6258383206904081,
            -0.12343895765962444,
            0.6045241300854317,
            1.2104869340066309,
            1.051236826956198,
            0.9465789460533068,
            1.979216005735726,
            0.1779403924914583,
            0.9390266365940441,
            1.6484930177565198,
            -0.9257667060780562,
            0.8902756267922803,
            1.0974120726414902,
            1.074314721290316,
            1.6344849550023859,
            0.6917893230210905,
            1.6241225104451733,
            0.35987329491847553,
            1.1051071362284113,
            0.8542967886859915,
            0.018281645956484755,
            0.43138680360012355,
            1.2221666195868692,
            0.7550488418855388,
            1.1389161965524752,
            1.4416699793605479,
            1.1093409044573064,
            1.8070568738986652,
            1.2749189085893933,
            1.3748428034573357,
            1.5138760085827212,
            1.1985811770744028,
            1.7513232370208036,
            1.301701849994475,
            1.357422770515886,
            1.2753335360654532,
            1.499334618446265,
            0.775856586092499,
            0.5378736069656688,
            0.9707224706493259,
            1.271205108412178,
            1.5160267715048634,
            1.018288146819645,
            1.2701248440278106,
            1.194163681562819,
            1.2757545391485487,
            1.7770537229191516,
            1.5894796614155073,
            1.2814545966589255,
            1.9571310841048808,
            1.4066097518014398,
            0.8284780730082698,
            0.9727518761530967,
            1.1377613549302747,
            1.2026146300439664,
            1.1938899359564423,
            -0.2655864477837923,
            1.2082632301651652,
            1.7070019787831765,
            0.8993828141275132,
            0.646146380844887,
            -0.729743646160356,
            1.4348200453592543,
            1.2984745804646705,
            1.050366521815034,
            1.0712236135629039,
            1.0301684675371314,
            1.0330919962607108,
            1.1430627239524833,
            0.7350577002189485,
            1.130593295309434,
            0.857521894290537,
            1.041718466721547,
            1.0382801465896203,
            1.1573655525461506,
            0.9337784680203969,
            1.1695854850565865,
            1.1546562859384588,
            1.3622416400541373,
            1.0906819476148248,
            0.7879232092589198,
            0.9571158557187982,
            0.256122184910495,
            1.0912086704968766,
            1.0612319573312052,
            1.0765669774358682,
            1.074597571070539,
            1.0944432444151742,
            1.083773325684375,
            0.8922343009821426,
            0.5882283985645107,
            1.0946908644286368
           ]
          },
          {
           "label": "degree",
           "range": [
            1,
            5
           ],
           "values": [
            4,
            2,
            2,
            2,
            1,
            5,
            3,
            2,
            5,
            5,
            1,
            2,
            3,
            3,
            4,
            3,
            4,
            1,
            2,
            3,
            4,
            4,
            4,
            3,
            3,
            2,
            4,
            3,
            2,
            4,
            5,
            4,
            4,
            4,
            3,
            5,
            2,
            2,
            1,
            2,
            2,
            2,
            1,
            2,
            2,
            1,
            2,
            3,
            2,
            3,
            3,
            2,
            2,
            2,
            2,
            1,
            2,
            2,
            2,
            1,
            2,
            2,
            2,
            2,
            2,
            2,
            2,
            2,
            1,
            2,
            2,
            2,
            2,
            2,
            2,
            1,
            2,
            3,
            2,
            2,
            3,
            3,
            2,
            3,
            2,
            2,
            2,
            3,
            3,
            3,
            3,
            2,
            2,
            2,
            3,
            3,
            3,
            3,
            3,
            3
           ]
          },
          {
           "label": "epsilon",
           "range": [
            -1.9017753926076357,
            -0.03644700520869262
           ],
           "ticktext": [
            "0.0125",
            "0.1",
            "0.92"
           ],
           "tickvals": [
            -1.9017753926076357,
            -1,
            -0.03644700520869262
           ],
           "values": [
            -0.1483312410918761,
            -1.183036465258281,
            -1.0277835523485976,
            -1.8295001839265117,
            -1.3279727400874135,
            -1.3268555607507315,
            -1.4046726209906002,
            -1.366220119520073,
            -1.021162394235402,
            -0.45376554830749505,
            -1.9017753926076357,
            -0.5859134024992524,
            -0.5551281335272523,
            -0.5726010117116541,
            -0.6595043478189395,
            -0.18396340421546403,
            -0.7004674488322693,
            -0.38889624960919245,
            -0.7496332513917591,
            -0.04879992948855463,
            -0.8624807310503394,
            -0.8127437939134237,
            -0.34843279598463184,
            -0.8907522385292813,
            -0.4894568563140067,
            -0.28316203298192183,
            -0.8583700512191976,
            -1.6499389481251179,
            -0.5625119700092862,
            -1.128408161195335,
            -0.2544344586184847,
            -0.8263072142057515,
            -0.6417417903102727,
            -0.643445921683873,
            -0.9532384516630434,
            -1.101664456943463,
            -0.5403106498842019,
            -0.5183649693472426,
            -0.3902112885102049,
            -0.10080393951732353,
            -0.6295371857032639,
            -0.5009548911517444,
            -0.7429670960488454,
            -0.44171947828129027,
            -0.1880940387565989,
            -0.4218692290200562,
            -0.2795085322082984,
            -0.6031430685409256,
            -0.7459380814159576,
            -0.3295818189956479,
            -0.9574591711011434,
            -0.4562360366098211,
            -0.48659508144697483,
            -0.441950674808174,
            -0.443610455645812,
            -0.12336917461610152,
            -0.24374226131929175,
            -0.45880263021561485,
            -0.37265450401057965,
            -0.03644700520869262,
            -0.5377972857488059,
            -0.6984910262294858,
            -0.586336325688181,
            -0.3260608517146036,
            -0.33011089463415305,
            -1.471954735487935,
            -0.21061387692936342,
            -0.5670489320095694,
            -0.3092397531414824,
            -0.7858655052899827,
            -0.691908029477071,
            -0.42585863315470984,
            -0.5053700579434163,
            -0.5031559320520643,
            -0.5353958115837286,
            -0.5882953080239598,
            -0.4891957283619113,
            -0.36999361116969803,
            -0.5049980779161132,
            -0.6637464033264624,
            -0.4916695990350695,
            -0.6173705441751373,
            -0.5214658326608484,
            -0.4939187096039571,
            -0.3783028959019098,
            -0.269522539354499,
            -0.16985232326872857,
            -0.3945339935000806,
            -0.3861569070762432,
            -0.31333872246564076,
            -0.23142754177441105,
            -0.39178768681050297,
            -0.4006071204170587,
            -0.37995342587868464,
            -0.4860107512496169,
            -0.4012331048430751,
            -0.4107694384304376,
            -0.42549325503919116,
            -1.2674803979955316,
            -0.27340406437862996
           ]
          },
          {
           "label": "kernel",
           "range": [
            0,
            2
           ],
           "ticktext": [
            "poly",
            "rbf",
            "linear"
           ],
           "tickvals": [
            0,
            1,
            2
           ],
           "values": [
            0,
            1,
            1,
            1,
            1,
            0,
            2,
            1,
            2,
            2,
            1,
            1,
            1,
            1,
            0,
            1,
            1,
            1,
            0,
            2,
            1,
            1,
            1,
            1,
            1,
            1,
            1,
            1,
            2,
            0,
            0,
            1,
            1,
            1,
            1,
            1,
            1,
            1,
            1,
            1,
            2,
            1,
            1,
            1,
            1,
            1,
            0,
            1,
            1,
            2,
            1,
            1,
            1,
            1,
            1,
            1,
            1,
            1,
            0,
            1,
            2,
            1,
            1,
            1,
            1,
            1,
            1,
            1,
            1,
            1,
            0,
            1,
            1,
            1,
            1,
            1,
            1,
            1,
            2,
            1,
            1,
            1,
            1,
            1,
            1,
            1,
            1,
            1,
            1,
            0,
            1,
            1,
            1,
            1,
            1,
            1,
            1,
            1,
            2,
            1
           ]
          }
         ],
         "labelangle": 30,
         "labelside": "bottom",
         "line": {
          "color": [
           0.07018361112216458,
           0.5617752886244796,
           0.5309498703478636,
           0.5586869867117722,
           0.36649167866781684,
           -1.210615049276597,
           0.12825904879531422,
           0.5655689354242517,
           0.11861243251442075,
           0.16603460366656925,
           0.5356967500934182,
           0.5755047242905453,
           0.5749542767993975,
           0.5675706863254073,
           -20.212698347915218,
           0.484595438264814,
           0.5635248121768323,
           0.5639732714683745,
           0.038681575876787756,
           0.19927134363007926,
           0.5697829688188809,
           0.5699456436005581,
           0.5649112609330127,
           0.5479756787954885,
           0.5654865662846076,
           0.5169956683282082,
           0.5700128642610395,
           0.5517354696325156,
           0.15743995063138655,
           0.006757624944894647,
           -57.112448508392916,
           0.5522943174841617,
           0.574443116039832,
           0.567273654689599,
           0.5690594153043198,
           0.536935301926419,
           0.575348701301054,
           0.571792819248863,
           0.5709599945983141,
           0.5373793420010775,
           0.1559002013363588,
           0.5740157638709513,
           0.5681703317316498,
           0.5753109405403718,
           0.558450939000188,
           0.5597398507798937,
           0.2556057773046164,
           0.5676380839667365,
           0.5719379770128284,
           0.19392115195502863,
           0.5660946822513859,
           0.5753241038249528,
           0.5772996543810358,
           0.5752921688735128,
           0.5536826301181416,
           0.536141162644703,
           0.5723995788343927,
           0.5276765439733753,
           -0.46308027194130286,
           0.49399167126634325,
           0.16479081433932347,
           0.5733656347488697,
           0.5754599195253138,
           0.575661057180723,
           0.4451212850711535,
           0.5645434169921849,
           0.5512107066886831,
           0.5644043490172169,
           0.546860872210687,
           0.346142268924292,
           -0.6887190071842095,
           0.5750772798699142,
           0.5772109113805663,
           0.5776961817697007,
           0.5754629598572661,
           0.5726432649053065,
           0.578114319498958,
           0.5568507032486945,
           0.16940579215685841,
           0.5599029093721561,
           0.5773481100082636,
           0.5715877607708907,
           0.5773669972604184,
           0.5718322892090478,
           0.5769893233912012,
           0.5749801352134487,
           0.5592300854786629,
           0.5779386824259811,
           0.5623035509824991,
           -4.030960387674278,
           0.5035598644295584,
           0.5779145192996107,
           0.577426826617185,
           0.5774882329983629,
           0.5782765115086037,
           0.5779577385631389,
           0.5777166517021863,
           0.5702441915607389,
           0.10998109685832551,
           0.5751391544030614
          ],
          "colorbar": {
           "title": {
            "text": "Objective Value"
           }
          },
          "colorscale": [
           [
            0,
            "rgb(247,251,255)"
           ],
           [
            0.125,
            "rgb(222,235,247)"
           ],
           [
            0.25,
            "rgb(198,219,239)"
           ],
           [
            0.375,
            "rgb(158,202,225)"
           ],
           [
            0.5,
            "rgb(107,174,214)"
           ],
           [
            0.625,
            "rgb(66,146,198)"
           ],
           [
            0.75,
            "rgb(33,113,181)"
           ],
           [
            0.875,
            "rgb(8,81,156)"
           ],
           [
            1,
            "rgb(8,48,107)"
           ]
          ],
          "reversescale": false,
          "showscale": true
         },
         "type": "parcoords"
        }
       ],
       "layout": {
        "template": {
         "data": {
          "bar": [
           {
            "error_x": {
             "color": "#2a3f5f"
            },
            "error_y": {
             "color": "#2a3f5f"
            },
            "marker": {
             "line": {
              "color": "#E5ECF6",
              "width": 0.5
             },
             "pattern": {
              "fillmode": "overlay",
              "size": 10,
              "solidity": 0.2
             }
            },
            "type": "bar"
           }
          ],
          "barpolar": [
           {
            "marker": {
             "line": {
              "color": "#E5ECF6",
              "width": 0.5
             },
             "pattern": {
              "fillmode": "overlay",
              "size": 10,
              "solidity": 0.2
             }
            },
            "type": "barpolar"
           }
          ],
          "carpet": [
           {
            "aaxis": {
             "endlinecolor": "#2a3f5f",
             "gridcolor": "white",
             "linecolor": "white",
             "minorgridcolor": "white",
             "startlinecolor": "#2a3f5f"
            },
            "baxis": {
             "endlinecolor": "#2a3f5f",
             "gridcolor": "white",
             "linecolor": "white",
             "minorgridcolor": "white",
             "startlinecolor": "#2a3f5f"
            },
            "type": "carpet"
           }
          ],
          "choropleth": [
           {
            "colorbar": {
             "outlinewidth": 0,
             "ticks": ""
            },
            "type": "choropleth"
           }
          ],
          "contour": [
           {
            "colorbar": {
             "outlinewidth": 0,
             "ticks": ""
            },
            "colorscale": [
             [
              0,
              "#0d0887"
             ],
             [
              0.1111111111111111,
              "#46039f"
             ],
             [
              0.2222222222222222,
              "#7201a8"
             ],
             [
              0.3333333333333333,
              "#9c179e"
             ],
             [
              0.4444444444444444,
              "#bd3786"
             ],
             [
              0.5555555555555556,
              "#d8576b"
             ],
             [
              0.6666666666666666,
              "#ed7953"
             ],
             [
              0.7777777777777778,
              "#fb9f3a"
             ],
             [
              0.8888888888888888,
              "#fdca26"
             ],
             [
              1,
              "#f0f921"
             ]
            ],
            "type": "contour"
           }
          ],
          "contourcarpet": [
           {
            "colorbar": {
             "outlinewidth": 0,
             "ticks": ""
            },
            "type": "contourcarpet"
           }
          ],
          "heatmap": [
           {
            "colorbar": {
             "outlinewidth": 0,
             "ticks": ""
            },
            "colorscale": [
             [
              0,
              "#0d0887"
             ],
             [
              0.1111111111111111,
              "#46039f"
             ],
             [
              0.2222222222222222,
              "#7201a8"
             ],
             [
              0.3333333333333333,
              "#9c179e"
             ],
             [
              0.4444444444444444,
              "#bd3786"
             ],
             [
              0.5555555555555556,
              "#d8576b"
             ],
             [
              0.6666666666666666,
              "#ed7953"
             ],
             [
              0.7777777777777778,
              "#fb9f3a"
             ],
             [
              0.8888888888888888,
              "#fdca26"
             ],
             [
              1,
              "#f0f921"
             ]
            ],
            "type": "heatmap"
           }
          ],
          "heatmapgl": [
           {
            "colorbar": {
             "outlinewidth": 0,
             "ticks": ""
            },
            "colorscale": [
             [
              0,
              "#0d0887"
             ],
             [
              0.1111111111111111,
              "#46039f"
             ],
             [
              0.2222222222222222,
              "#7201a8"
             ],
             [
              0.3333333333333333,
              "#9c179e"
             ],
             [
              0.4444444444444444,
              "#bd3786"
             ],
             [
              0.5555555555555556,
              "#d8576b"
             ],
             [
              0.6666666666666666,
              "#ed7953"
             ],
             [
              0.7777777777777778,
              "#fb9f3a"
             ],
             [
              0.8888888888888888,
              "#fdca26"
             ],
             [
              1,
              "#f0f921"
             ]
            ],
            "type": "heatmapgl"
           }
          ],
          "histogram": [
           {
            "marker": {
             "pattern": {
              "fillmode": "overlay",
              "size": 10,
              "solidity": 0.2
             }
            },
            "type": "histogram"
           }
          ],
          "histogram2d": [
           {
            "colorbar": {
             "outlinewidth": 0,
             "ticks": ""
            },
            "colorscale": [
             [
              0,
              "#0d0887"
             ],
             [
              0.1111111111111111,
              "#46039f"
             ],
             [
              0.2222222222222222,
              "#7201a8"
             ],
             [
              0.3333333333333333,
              "#9c179e"
             ],
             [
              0.4444444444444444,
              "#bd3786"
             ],
             [
              0.5555555555555556,
              "#d8576b"
             ],
             [
              0.6666666666666666,
              "#ed7953"
             ],
             [
              0.7777777777777778,
              "#fb9f3a"
             ],
             [
              0.8888888888888888,
              "#fdca26"
             ],
             [
              1,
              "#f0f921"
             ]
            ],
            "type": "histogram2d"
           }
          ],
          "histogram2dcontour": [
           {
            "colorbar": {
             "outlinewidth": 0,
             "ticks": ""
            },
            "colorscale": [
             [
              0,
              "#0d0887"
             ],
             [
              0.1111111111111111,
              "#46039f"
             ],
             [
              0.2222222222222222,
              "#7201a8"
             ],
             [
              0.3333333333333333,
              "#9c179e"
             ],
             [
              0.4444444444444444,
              "#bd3786"
             ],
             [
              0.5555555555555556,
              "#d8576b"
             ],
             [
              0.6666666666666666,
              "#ed7953"
             ],
             [
              0.7777777777777778,
              "#fb9f3a"
             ],
             [
              0.8888888888888888,
              "#fdca26"
             ],
             [
              1,
              "#f0f921"
             ]
            ],
            "type": "histogram2dcontour"
           }
          ],
          "mesh3d": [
           {
            "colorbar": {
             "outlinewidth": 0,
             "ticks": ""
            },
            "type": "mesh3d"
           }
          ],
          "parcoords": [
           {
            "line": {
             "colorbar": {
              "outlinewidth": 0,
              "ticks": ""
             }
            },
            "type": "parcoords"
           }
          ],
          "pie": [
           {
            "automargin": true,
            "type": "pie"
           }
          ],
          "scatter": [
           {
            "marker": {
             "colorbar": {
              "outlinewidth": 0,
              "ticks": ""
             }
            },
            "type": "scatter"
           }
          ],
          "scatter3d": [
           {
            "line": {
             "colorbar": {
              "outlinewidth": 0,
              "ticks": ""
             }
            },
            "marker": {
             "colorbar": {
              "outlinewidth": 0,
              "ticks": ""
             }
            },
            "type": "scatter3d"
           }
          ],
          "scattercarpet": [
           {
            "marker": {
             "colorbar": {
              "outlinewidth": 0,
              "ticks": ""
             }
            },
            "type": "scattercarpet"
           }
          ],
          "scattergeo": [
           {
            "marker": {
             "colorbar": {
              "outlinewidth": 0,
              "ticks": ""
             }
            },
            "type": "scattergeo"
           }
          ],
          "scattergl": [
           {
            "marker": {
             "colorbar": {
              "outlinewidth": 0,
              "ticks": ""
             }
            },
            "type": "scattergl"
           }
          ],
          "scattermapbox": [
           {
            "marker": {
             "colorbar": {
              "outlinewidth": 0,
              "ticks": ""
             }
            },
            "type": "scattermapbox"
           }
          ],
          "scatterpolar": [
           {
            "marker": {
             "colorbar": {
              "outlinewidth": 0,
              "ticks": ""
             }
            },
            "type": "scatterpolar"
           }
          ],
          "scatterpolargl": [
           {
            "marker": {
             "colorbar": {
              "outlinewidth": 0,
              "ticks": ""
             }
            },
            "type": "scatterpolargl"
           }
          ],
          "scatterternary": [
           {
            "marker": {
             "colorbar": {
              "outlinewidth": 0,
              "ticks": ""
             }
            },
            "type": "scatterternary"
           }
          ],
          "surface": [
           {
            "colorbar": {
             "outlinewidth": 0,
             "ticks": ""
            },
            "colorscale": [
             [
              0,
              "#0d0887"
             ],
             [
              0.1111111111111111,
              "#46039f"
             ],
             [
              0.2222222222222222,
              "#7201a8"
             ],
             [
              0.3333333333333333,
              "#9c179e"
             ],
             [
              0.4444444444444444,
              "#bd3786"
             ],
             [
              0.5555555555555556,
              "#d8576b"
             ],
             [
              0.6666666666666666,
              "#ed7953"
             ],
             [
              0.7777777777777778,
              "#fb9f3a"
             ],
             [
              0.8888888888888888,
              "#fdca26"
             ],
             [
              1,
              "#f0f921"
             ]
            ],
            "type": "surface"
           }
          ],
          "table": [
           {
            "cells": {
             "fill": {
              "color": "#EBF0F8"
             },
             "line": {
              "color": "white"
             }
            },
            "header": {
             "fill": {
              "color": "#C8D4E3"
             },
             "line": {
              "color": "white"
             }
            },
            "type": "table"
           }
          ]
         },
         "layout": {
          "annotationdefaults": {
           "arrowcolor": "#2a3f5f",
           "arrowhead": 0,
           "arrowwidth": 1
          },
          "autotypenumbers": "strict",
          "coloraxis": {
           "colorbar": {
            "outlinewidth": 0,
            "ticks": ""
           }
          },
          "colorscale": {
           "diverging": [
            [
             0,
             "#8e0152"
            ],
            [
             0.1,
             "#c51b7d"
            ],
            [
             0.2,
             "#de77ae"
            ],
            [
             0.3,
             "#f1b6da"
            ],
            [
             0.4,
             "#fde0ef"
            ],
            [
             0.5,
             "#f7f7f7"
            ],
            [
             0.6,
             "#e6f5d0"
            ],
            [
             0.7,
             "#b8e186"
            ],
            [
             0.8,
             "#7fbc41"
            ],
            [
             0.9,
             "#4d9221"
            ],
            [
             1,
             "#276419"
            ]
           ],
           "sequential": [
            [
             0,
             "#0d0887"
            ],
            [
             0.1111111111111111,
             "#46039f"
            ],
            [
             0.2222222222222222,
             "#7201a8"
            ],
            [
             0.3333333333333333,
             "#9c179e"
            ],
            [
             0.4444444444444444,
             "#bd3786"
            ],
            [
             0.5555555555555556,
             "#d8576b"
            ],
            [
             0.6666666666666666,
             "#ed7953"
            ],
            [
             0.7777777777777778,
             "#fb9f3a"
            ],
            [
             0.8888888888888888,
             "#fdca26"
            ],
            [
             1,
             "#f0f921"
            ]
           ],
           "sequentialminus": [
            [
             0,
             "#0d0887"
            ],
            [
             0.1111111111111111,
             "#46039f"
            ],
            [
             0.2222222222222222,
             "#7201a8"
            ],
            [
             0.3333333333333333,
             "#9c179e"
            ],
            [
             0.4444444444444444,
             "#bd3786"
            ],
            [
             0.5555555555555556,
             "#d8576b"
            ],
            [
             0.6666666666666666,
             "#ed7953"
            ],
            [
             0.7777777777777778,
             "#fb9f3a"
            ],
            [
             0.8888888888888888,
             "#fdca26"
            ],
            [
             1,
             "#f0f921"
            ]
           ]
          },
          "colorway": [
           "#636efa",
           "#EF553B",
           "#00cc96",
           "#ab63fa",
           "#FFA15A",
           "#19d3f3",
           "#FF6692",
           "#B6E880",
           "#FF97FF",
           "#FECB52"
          ],
          "font": {
           "color": "#2a3f5f"
          },
          "geo": {
           "bgcolor": "white",
           "lakecolor": "white",
           "landcolor": "#E5ECF6",
           "showlakes": true,
           "showland": true,
           "subunitcolor": "white"
          },
          "hoverlabel": {
           "align": "left"
          },
          "hovermode": "closest",
          "mapbox": {
           "style": "light"
          },
          "paper_bgcolor": "white",
          "plot_bgcolor": "#E5ECF6",
          "polar": {
           "angularaxis": {
            "gridcolor": "white",
            "linecolor": "white",
            "ticks": ""
           },
           "bgcolor": "#E5ECF6",
           "radialaxis": {
            "gridcolor": "white",
            "linecolor": "white",
            "ticks": ""
           }
          },
          "scene": {
           "xaxis": {
            "backgroundcolor": "#E5ECF6",
            "gridcolor": "white",
            "gridwidth": 2,
            "linecolor": "white",
            "showbackground": true,
            "ticks": "",
            "zerolinecolor": "white"
           },
           "yaxis": {
            "backgroundcolor": "#E5ECF6",
            "gridcolor": "white",
            "gridwidth": 2,
            "linecolor": "white",
            "showbackground": true,
            "ticks": "",
            "zerolinecolor": "white"
           },
           "zaxis": {
            "backgroundcolor": "#E5ECF6",
            "gridcolor": "white",
            "gridwidth": 2,
            "linecolor": "white",
            "showbackground": true,
            "ticks": "",
            "zerolinecolor": "white"
           }
          },
          "shapedefaults": {
           "line": {
            "color": "#2a3f5f"
           }
          },
          "ternary": {
           "aaxis": {
            "gridcolor": "white",
            "linecolor": "white",
            "ticks": ""
           },
           "baxis": {
            "gridcolor": "white",
            "linecolor": "white",
            "ticks": ""
           },
           "bgcolor": "#E5ECF6",
           "caxis": {
            "gridcolor": "white",
            "linecolor": "white",
            "ticks": ""
           }
          },
          "title": {
           "x": 0.05
          },
          "xaxis": {
           "automargin": true,
           "gridcolor": "white",
           "linecolor": "white",
           "ticks": "",
           "title": {
            "standoff": 15
           },
           "zerolinecolor": "white",
           "zerolinewidth": 2
          },
          "yaxis": {
           "automargin": true,
           "gridcolor": "white",
           "linecolor": "white",
           "ticks": "",
           "title": {
            "standoff": 15
           },
           "zerolinecolor": "white",
           "zerolinewidth": 2
          }
         }
        },
        "title": {
         "text": "Parallel Coordinate Plot"
        }
       }
      }
     },
     "metadata": {},
     "output_type": "display_data"
    }
   ],
   "source": [
    "optuna.visualization.plot_parallel_coordinate(study)"
   ]
  },
  {
   "cell_type": "code",
   "execution_count": null,
   "id": "1d419df8",
   "metadata": {},
   "outputs": [
    {
     "name": "stdout",
     "output_type": "stream",
     "text": [
      "Best trial: {'C': 11.87401439445698, 'epsilon': 0.3265797473727567, 'kernel': 'rbf', 'degree': 3}\n"
     ]
    }
   ],
   "source": [
    "print(\"Best trial:\", study.best_trial.params)"
   ]
  },
  {
   "cell_type": "code",
   "execution_count": null,
   "id": "ffefef6c",
   "metadata": {},
   "outputs": [
    {
     "data": {
      "text/html": [
       "<style>#sk-container-id-3 {color: black;}#sk-container-id-3 pre{padding: 0;}#sk-container-id-3 div.sk-toggleable {background-color: white;}#sk-container-id-3 label.sk-toggleable__label {cursor: pointer;display: block;width: 100%;margin-bottom: 0;padding: 0.3em;box-sizing: border-box;text-align: center;}#sk-container-id-3 label.sk-toggleable__label-arrow:before {content: \"▸\";float: left;margin-right: 0.25em;color: #696969;}#sk-container-id-3 label.sk-toggleable__label-arrow:hover:before {color: black;}#sk-container-id-3 div.sk-estimator:hover label.sk-toggleable__label-arrow:before {color: black;}#sk-container-id-3 div.sk-toggleable__content {max-height: 0;max-width: 0;overflow: hidden;text-align: left;background-color: #f0f8ff;}#sk-container-id-3 div.sk-toggleable__content pre {margin: 0.2em;color: black;border-radius: 0.25em;background-color: #f0f8ff;}#sk-container-id-3 input.sk-toggleable__control:checked~div.sk-toggleable__content {max-height: 200px;max-width: 100%;overflow: auto;}#sk-container-id-3 input.sk-toggleable__control:checked~label.sk-toggleable__label-arrow:before {content: \"▾\";}#sk-container-id-3 div.sk-estimator input.sk-toggleable__control:checked~label.sk-toggleable__label {background-color: #d4ebff;}#sk-container-id-3 div.sk-label input.sk-toggleable__control:checked~label.sk-toggleable__label {background-color: #d4ebff;}#sk-container-id-3 input.sk-hidden--visually {border: 0;clip: rect(1px 1px 1px 1px);clip: rect(1px, 1px, 1px, 1px);height: 1px;margin: -1px;overflow: hidden;padding: 0;position: absolute;width: 1px;}#sk-container-id-3 div.sk-estimator {font-family: monospace;background-color: #f0f8ff;border: 1px dotted black;border-radius: 0.25em;box-sizing: border-box;margin-bottom: 0.5em;}#sk-container-id-3 div.sk-estimator:hover {background-color: #d4ebff;}#sk-container-id-3 div.sk-parallel-item::after {content: \"\";width: 100%;border-bottom: 1px solid gray;flex-grow: 1;}#sk-container-id-3 div.sk-label:hover label.sk-toggleable__label {background-color: #d4ebff;}#sk-container-id-3 div.sk-serial::before {content: \"\";position: absolute;border-left: 1px solid gray;box-sizing: border-box;top: 0;bottom: 0;left: 50%;z-index: 0;}#sk-container-id-3 div.sk-serial {display: flex;flex-direction: column;align-items: center;background-color: white;padding-right: 0.2em;padding-left: 0.2em;position: relative;}#sk-container-id-3 div.sk-item {position: relative;z-index: 1;}#sk-container-id-3 div.sk-parallel {display: flex;align-items: stretch;justify-content: center;background-color: white;position: relative;}#sk-container-id-3 div.sk-item::before, #sk-container-id-3 div.sk-parallel-item::before {content: \"\";position: absolute;border-left: 1px solid gray;box-sizing: border-box;top: 0;bottom: 0;left: 50%;z-index: -1;}#sk-container-id-3 div.sk-parallel-item {display: flex;flex-direction: column;z-index: 1;position: relative;background-color: white;}#sk-container-id-3 div.sk-parallel-item:first-child::after {align-self: flex-end;width: 50%;}#sk-container-id-3 div.sk-parallel-item:last-child::after {align-self: flex-start;width: 50%;}#sk-container-id-3 div.sk-parallel-item:only-child::after {width: 0;}#sk-container-id-3 div.sk-dashed-wrapped {border: 1px dashed gray;margin: 0 0.4em 0.5em 0.4em;box-sizing: border-box;padding-bottom: 0.4em;background-color: white;}#sk-container-id-3 div.sk-label label {font-family: monospace;font-weight: bold;display: inline-block;line-height: 1.2em;}#sk-container-id-3 div.sk-label-container {text-align: center;}#sk-container-id-3 div.sk-container {/* jupyter's `normalize.less` sets `[hidden] { display: none; }` but bootstrap.min.css set `[hidden] { display: none !important; }` so we also need the `!important` here to be able to override the default hidden behavior on the sphinx rendered scikit-learn.org. See: https://github.com/scikit-learn/scikit-learn/issues/21755 */display: inline-block !important;position: relative;}#sk-container-id-3 div.sk-text-repr-fallback {display: none;}</style><div id=\"sk-container-id-3\" class=\"sk-top-container\"><div class=\"sk-text-repr-fallback\"><pre>SVR(C=11.87401439445698, epsilon=0.3265797473727567)</pre><b>In a Jupyter environment, please rerun this cell to show the HTML representation or trust the notebook. <br />On GitHub, the HTML representation is unable to render, please try loading this page with nbviewer.org.</b></div><div class=\"sk-container\" hidden><div class=\"sk-item\"><div class=\"sk-estimator sk-toggleable\"><input class=\"sk-toggleable__control sk-hidden--visually\" id=\"sk-estimator-id-3\" type=\"checkbox\" checked><label for=\"sk-estimator-id-3\" class=\"sk-toggleable__label sk-toggleable__label-arrow\">SVR</label><div class=\"sk-toggleable__content\"><pre>SVR(C=11.87401439445698, epsilon=0.3265797473727567)</pre></div></div></div></div></div>"
      ],
      "text/plain": [
       "SVR(C=11.87401439445698, epsilon=0.3265797473727567)"
      ]
     },
     "execution_count": 44,
     "metadata": {},
     "output_type": "execute_result"
    }
   ],
   "source": [
    "svm_params = {\n",
    "    \"C\": study.best_trial.params[\"C\"],\n",
    "    \"epsilon\": study.best_trial.params[\"epsilon\"],\n",
    "    \"kernel\": study.best_trial.params[\"kernel\"],\n",
    "    \"degree\": study.best_trial.params[\"degree\"]\n",
    "}\n",
    "\n",
    "svm = SVR(**svm_params)\n",
    "svm.fit(Ni_X_train, Ni_y_train)"
   ]
  },
  {
   "cell_type": "code",
   "execution_count": null,
   "id": "4c1a69d2",
   "metadata": {},
   "outputs": [],
   "source": [
    "y_train_pred = svm.predict(Ni_X_train)\n",
    "y_test_pred = svm.predict(Ni_X_test)"
   ]
  },
  {
   "cell_type": "code",
   "execution_count": null,
   "id": "0f707a20",
   "metadata": {},
   "outputs": [
    {
     "name": "stdout",
     "output_type": "stream",
     "text": [
      "Train RMSE:  0.5927335756050003\n",
      "Test RMSE:  0.8448142139109631\n"
     ]
    }
   ],
   "source": [
    "print(\"Train RMSE: \", np.sqrt(mean_squared_error(Ni_y_train, y_train_pred)))\n",
    "print(\"Test RMSE: \", np.sqrt(mean_squared_error(Ni_y_test, y_test_pred)))"
   ]
  },
  {
   "cell_type": "code",
   "execution_count": null,
   "id": "641d78f4",
   "metadata": {},
   "outputs": [
    {
     "name": "stdout",
     "output_type": "stream",
     "text": [
      "Train R2:  0.757882557315464\n",
      "Test R2:  0.5332576136530847\n"
     ]
    }
   ],
   "source": [
    "print(\"Train R2: \", r2_score(Ni_y_train, y_train_pred))\n",
    "print(\"Test R2: \", r2_score(Ni_y_test, y_test_pred))"
   ]
  },
  {
   "cell_type": "code",
   "execution_count": null,
   "id": "badc2f1d",
   "metadata": {},
   "outputs": [
    {
     "data": {
      "image/png": "[encoded data removed]",
      "text/plain": [
       "<Figure size 640x480 with 1 Axes>"
      ]
     },
     "metadata": {},
     "output_type": "display_data"
    }
   ],
   "source": [
    "plt.scatter(y_train_pred, np.array(Ni_y_train), color=\"orange\", alpha=0.3)\n",
    "plt.scatter(y_test_pred, np.array(Ni_y_test), color=\"green\", alpha=0.4)\n",
    "plt.axis(\"auto\") # scaled, tight, auto, image, square\n",
    "# plt.xlim([0, 1.5]) \n",
    "# plt.ylim(0, None) \n",
    "plt.xlabel('Predicted Values')\n",
    "plt.ylabel('Actual Values')\n",
    "\n",
    "# Add y=x line\n",
    "plt.plot([0, 4.0], [0, 4.0], color='red', linestyle='-')\n",
    "\n",
    "plt.show()"
   ]
  }
 ],
 "metadata": {
  "kernelspec": {
   "display_name": "Python 3",
   "language": "python",
   "name": "python3"
  },
  "language_info": {
   "codemirror_mode": {
    "name": "ipython",
    "version": 3
   },
   "file_extension": ".py",
   "mimetype": "text/x-python",
   "name": "python",
   "nbconvert_exporter": "python",
   "pygments_lexer": "ipython3",
   "version": "3.8.11"
  }
 },
 "nbformat": 4,
 "nbformat_minor": 5
}
