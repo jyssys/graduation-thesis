{
 "cells": [
  {
   "attachments": {},
   "cell_type": "markdown",
   "id": "451911be",
   "metadata": {},
   "source": [
    "#### Library import"
   ]
  },
  {
   "cell_type": "code",
   "execution_count": 4,
   "id": "8a394942",
   "metadata": {},
   "outputs": [],
   "source": [
    "import os\n",
    "import pandas as pd\n",
    "import numpy as np\n",
    "import matplotlib.pyplot as plt\n",
    "%matplotlib inline\n",
    "import seaborn as sns\n",
    "import tensorflow as tf\n",
    "import missingno as msno\n",
    "\n",
    "import warnings\n",
    "warnings.filterwarnings('ignore')\n",
    "\n",
    "from sklearn.model_selection import train_test_split\n",
    "from sklearn.model_selection import GridSearchCV\n",
    "from sklearn.metrics import mean_squared_error, r2_score\n",
    "from sklearn.preprocessing import StandardScaler, MinMaxScaler, RobustScaler\n",
    "from sklearn.ensemble import RandomForestRegressor, GradientBoostingRegressor, ExtraTreesRegressor\n",
    "from sklearn.model_selection import KFold\n",
    "from lightgbm import LGBMRegressor\n",
    "from xgboost import XGBRegressor\n",
    "from ngboost import NGBRegressor\n",
    "from scipy.stats import norm, skew\n",
    "\n",
    "from matplotlib.ticker import FormatStrFormatter\n",
    "\n",
    "from tensorflow import keras\n",
    "\n",
    "import re\n",
    "from tqdm import tqdm"
   ]
  },
  {
   "attachments": {},
   "cell_type": "markdown",
   "id": "31a13d68",
   "metadata": {},
   "source": [
    "#### GPU setting"
   ]
  },
  {
   "cell_type": "code",
   "execution_count": 5,
   "id": "cd001f36",
   "metadata": {},
   "outputs": [],
   "source": [
    "from tensorflow.compat.v1 import ConfigProto\n",
    "from tensorflow.compat.v1 import InteractiveSession"
   ]
  },
  {
   "cell_type": "code",
   "execution_count": 6,
   "id": "2aa07618",
   "metadata": {},
   "outputs": [],
   "source": [
    "config = ConfigProto()\n",
    "config.gpu_options.per_process_gpu_memory_fraction = 0.4\n",
    "session = InteractiveSession(config = config)"
   ]
  },
  {
   "cell_type": "code",
   "execution_count": 7,
   "id": "2a6c1daf",
   "metadata": {},
   "outputs": [
    {
     "name": "stdout",
     "output_type": "stream",
     "text": [
      "[name: \"/device:CPU:0\"\n",
      "device_type: \"CPU\"\n",
      "memory_limit: 268435456\n",
      "locality {\n",
      "}\n",
      "incarnation: 16082847477913560006\n",
      ", name: \"/device:GPU:0\"\n",
      "device_type: \"GPU\"\n",
      "memory_limit: 3435973836\n",
      "locality {\n",
      "  bus_id: 1\n",
      "  links {\n",
      "  }\n",
      "}\n",
      "incarnation: 12420831795965018985\n",
      "physical_device_desc: \"device: 0, name: NVIDIA GeForce RTX 3060 Ti, pci bus id: 0000:07:00.0, compute capability: 8.6\"\n",
      "]\n"
     ]
    }
   ],
   "source": [
    "physical_devices = tf.config.list_physical_devices('GPU')\n",
    "physical_devices\n",
    "\n",
    "from tensorflow.python.client import device_lib\n",
    "\n",
    "print(device_lib.list_local_devices())"
   ]
  },
  {
   "cell_type": "code",
   "execution_count": 8,
   "id": "1c58374d",
   "metadata": {},
   "outputs": [],
   "source": [
    "import os\n",
    "\n",
    "os.environ[\"CUDA_VISIBLE_DEVICES\"]=\"0\"\n",
    "gpus = tf.config.experimental.list_physical_devices('GPU')\n",
    "if gpus:\n",
    "    try:\n",
    "        tf.config.experimental.set_memory_growth(gpus[0], True)\n",
    "    except RuntimeError as e:\n",
    "        print(e)"
   ]
  },
  {
   "attachments": {},
   "cell_type": "markdown",
   "id": "cb740f81",
   "metadata": {},
   "source": [
    "#### Data import and preprocessing"
   ]
  },
  {
   "cell_type": "code",
   "execution_count": 9,
   "id": "9288345d",
   "metadata": {
    "scrolled": true
   },
   "outputs": [
    {
     "data": {
      "text/plain": [
       "Index(['OBJECTID_x', 'ID', 'pH', 'As', 'Cd', 'Ni', 'Pb', 'Zn', 'Hg', 'slope',\n",
       "       'altitude', 'profile_curve', 'profile_c_num', 'profile_c_abs',\n",
       "       'planform_curve', 'planform_c_num', 'planform_c_abs', 'HYDGRP',\n",
       "       'HYDGRP_A', 'HYDGRP_B', 'HYDGRP_C', 'HYDGRP_D', 'ANION_EXCL', 'SOL_CRK',\n",
       "       'SOL_K1', 'CLAY1', 'SILT1', 'SAND1', 'ROCK1', 'SOL_EC1', 'distance'],\n",
       "      dtype='object')"
      ]
     },
     "execution_count": 9,
     "metadata": {},
     "output_type": "execute_result"
    }
   ],
   "source": [
    "data = pd.read_csv(\"data/data.csv\")\n",
    "data.columns"
   ]
  },
  {
   "cell_type": "code",
   "execution_count": 10,
   "id": "bbf87a23",
   "metadata": {},
   "outputs": [
    {
     "data": {
      "text/plain": [
       "Index(['pH', 'As', 'Cd', 'Ni', 'Pb', 'Zn', 'Hg', 'slope', 'altitude',\n",
       "       'profile_curve', 'planform_curve', 'HYDGRP_A', 'HYDGRP_B', 'HYDGRP_C',\n",
       "       'HYDGRP_D', 'SOL_K1', 'CLAY1', 'SILT1', 'SAND1', 'ROCK1', 'distance'],\n",
       "      dtype='object')"
      ]
     },
     "execution_count": 10,
     "metadata": {},
     "output_type": "execute_result"
    }
   ],
   "source": [
    "data = data.drop(['OBJECTID_x','ID','HYDGRP','profile_c_num', 'profile_c_abs','planform_c_num', 'planform_c_abs','ANION_EXCL','SOL_CRK','SOL_EC1'], axis = 1)\n",
    "data.columns"
   ]
  },
  {
   "cell_type": "code",
   "execution_count": 11,
   "id": "2dc33c24",
   "metadata": {},
   "outputs": [],
   "source": [
    "As = data\n",
    "Cd = data\n",
    "Ni = data"
   ]
  },
  {
   "cell_type": "code",
   "execution_count": 12,
   "id": "85f4f13d",
   "metadata": {},
   "outputs": [],
   "source": [
    "As = As.drop([\"Cd\", \"Ni\", \"Pb\", \"Zn\", \"Hg\"], axis = 1)\n",
    "Cd = Cd.drop([\"As\", \"Ni\", \"Pb\", \"Zn\", \"Hg\"], axis = 1)\n",
    "Ni = Ni.drop([\"As\", \"Cd\", \"Pb\", \"Zn\", \"Hg\"], axis = 1)"
   ]
  },
  {
   "attachments": {},
   "cell_type": "markdown",
   "id": "32a5223d",
   "metadata": {},
   "source": [
    "#### Oversampling by SMOGN (SMOTE Regression)"
   ]
  },
  {
   "cell_type": "code",
   "execution_count": 13,
   "id": "68a479be",
   "metadata": {},
   "outputs": [],
   "source": [
    "import smogn"
   ]
  },
  {
   "cell_type": "code",
   "execution_count": 14,
   "id": "60543147",
   "metadata": {},
   "outputs": [
    {
     "name": "stderr",
     "output_type": "stream",
     "text": [
      "dist_matrix: 100%|##########| 248/248 [00:23<00:00, 10.61it/s]\n",
      "synth_matrix: 100%|##########| 248/248 [00:01<00:00, 214.67it/s]\n",
      "r_index: 100%|##########| 223/223 [00:00<00:00, 631.59it/s]\n",
      "dist_matrix: 100%|##########| 259/259 [00:25<00:00, 10.24it/s]\n",
      "synth_matrix: 100%|##########| 259/259 [00:01<00:00, 218.33it/s]\n",
      "r_index: 100%|##########| 155/155 [00:00<00:00, 651.11it/s]\n",
      "dist_matrix: 100%|##########| 242/242 [00:22<00:00, 10.88it/s]\n",
      "synth_matrix: 100%|##########| 242/242 [00:01<00:00, 161.95it/s]\n"
     ]
    }
   ],
   "source": [
    "As_smogn = smogn.smoter(data = As, y = 'As', samp_method = 'extreme')\n",
    "Cd_smogn = smogn.smoter(data = Cd, y = 'Cd', samp_method = 'extreme', k = 3)\n",
    "Ni_smogn = smogn.smoter(data = Ni, y = 'Ni', samp_method = 'extreme', k = 7)"
   ]
  },
  {
   "cell_type": "code",
   "execution_count": 15,
   "id": "9a217c71",
   "metadata": {},
   "outputs": [],
   "source": [
    "As_smogn = As_smogn.reset_index(drop = True)\n",
    "Cd_smogn = Cd_smogn.reset_index(drop = True)\n",
    "Ni_smogn = Ni_smogn.reset_index(drop = True)"
   ]
  },
  {
   "attachments": {},
   "cell_type": "markdown",
   "id": "ed72a9b1",
   "metadata": {},
   "source": [
    "#### Eliminate outlier and train / test split"
   ]
  },
  {
   "cell_type": "code",
   "execution_count": 16,
   "id": "43604a42",
   "metadata": {},
   "outputs": [],
   "source": [
    "def eli_outlier(data, value):\n",
    "    q1 = data[value].quantile(0.25)\n",
    "    q3 = data[value].quantile(0.75)\n",
    "\n",
    "    iqr = q3 - q1\n",
    "\n",
    "    q1_condition = data[value] < q1-1.5*iqr\n",
    "    q3_condition = data[value] > q3+1.5*iqr\n",
    "\n",
    "    reset_q1_index = data[q1_condition].index\n",
    "    reset_q3_index = data[q3_condition].index\n",
    "\n",
    "    data.drop(reset_q1_index, inplace = True)\n",
    "    data.drop(reset_q3_index, inplace = True)\n",
    "\n",
    "    return data"
   ]
  },
  {
   "cell_type": "code",
   "execution_count": 17,
   "id": "9b7632f2",
   "metadata": {},
   "outputs": [],
   "source": [
    "As_ros = eli_outlier(As_smogn, \"As\")\n",
    "Cd_ros = eli_outlier(Cd_smogn, \"Cd\")\n",
    "Ni_ros = eli_outlier(Ni_smogn, \"Ni\")"
   ]
  },
  {
   "cell_type": "code",
   "execution_count": 18,
   "id": "45ec138e",
   "metadata": {},
   "outputs": [],
   "source": [
    "As_X = As_ros.drop([\"As\"], axis=1)\n",
    "Cd_X = Cd_ros.drop([\"Cd\"], axis=1)\n",
    "Ni_X = Ni_ros.drop([\"Ni\"], axis=1)\n",
    "\n",
    "As_y = As_ros[\"As\"]\n",
    "Cd_y = Cd_ros[\"Cd\"]\n",
    "Ni_y = Ni_ros[\"Ni\"]"
   ]
  },
  {
   "cell_type": "code",
   "execution_count": 19,
   "id": "6463b1c2",
   "metadata": {},
   "outputs": [],
   "source": [
    "As_y = np.log1p(As_ros[\"As\"])\n",
    "Cd_y = np.log1p(Cd_ros[\"Cd\"])\n",
    "Ni_y = np.log1p(Ni_ros[\"Ni\"])"
   ]
  },
  {
   "cell_type": "code",
   "execution_count": 20,
   "id": "fb94ff27",
   "metadata": {},
   "outputs": [
    {
     "name": "stdout",
     "output_type": "stream",
     "text": [
      "(1853, 15)\n",
      "(1926, 15)\n",
      "(2122, 15)\n"
     ]
    }
   ],
   "source": [
    "print(As_X.shape)\n",
    "print(Cd_X.shape)\n",
    "print(Ni_X.shape)"
   ]
  },
  {
   "attachments": {},
   "cell_type": "markdown",
   "id": "c92e5bb6",
   "metadata": {},
   "source": [
    "StandardScaler"
   ]
  },
  {
   "cell_type": "code",
   "execution_count": 21,
   "id": "a82f8786",
   "metadata": {},
   "outputs": [],
   "source": [
    "from sklearn.preprocessing import StandardScaler\n",
    "\n",
    "scaler = StandardScaler()\n",
    "\n",
    "As_X_train, As_X_test, As_y_train, As_y_test = train_test_split(As_X, As_y, test_size=0.2, random_state=42)\n",
    "Cd_X_train, Cd_X_test, Cd_y_train, Cd_y_test = train_test_split(Cd_X, Cd_y, test_size=0.2, random_state=42)\n",
    "Ni_X_train, Ni_X_test, Ni_y_train, Ni_y_test = train_test_split(Ni_X, Ni_y, test_size=0.2, random_state=42)\n",
    "\n",
    "As_X_train = scaler.fit_transform(As_X_train)\n",
    "As_X_test = scaler.fit_transform(As_X_test)\n",
    "\n",
    "Cd_X_train = scaler.fit_transform(Cd_X_train)\n",
    "Cd_X_test = scaler.fit_transform(Cd_X_test)\n",
    "\n",
    "Ni_X_train = scaler.fit_transform(Ni_X_train)\n",
    "Ni_X_test = scaler.fit_transform(Ni_X_test)"
   ]
  },
  {
   "cell_type": "code",
   "execution_count": 385,
   "id": "416a7027",
   "metadata": {},
   "outputs": [
    {
     "data": {
      "text/plain": [
       "' from sklearn.preprocessing import StandardScaler\\n\\nscaler = StandardScaler()\\nAs_X_scaled = scaler.fit_transform(As_X)\\nCd_X_scaled = scaler.fit_transform(Cd_X)\\nNi_X_scaled = scaler.fit_transform(Ni_X)\\n\\nAs_X_train, As_X_test, As_y_train, As_y_test = train_test_split(As_X_scaled, As_y, test_size=0.2, random_state=42)\\nCd_X_train, Cd_X_test, Cd_y_train, Cd_y_test = train_test_split(Cd_X_scaled, Cd_y, test_size=0.2, random_state=42)\\nNi_X_train, Ni_X_test, Ni_y_train, Ni_y_test = train_test_split(Ni_X_scaled, Ni_y, test_size=0.2, random_state=42) '"
      ]
     },
     "execution_count": 385,
     "metadata": {},
     "output_type": "execute_result"
    }
   ],
   "source": [
    "''' from sklearn.preprocessing import StandardScaler\n",
    "\n",
    "scaler = StandardScaler()\n",
    "As_X_scaled = scaler.fit_transform(As_X)\n",
    "Cd_X_scaled = scaler.fit_transform(Cd_X)\n",
    "Ni_X_scaled = scaler.fit_transform(Ni_X)\n",
    "\n",
    "As_X_train, As_X_test, As_y_train, As_y_test = train_test_split(As_X_scaled, As_y, test_size=0.2, random_state=42)\n",
    "Cd_X_train, Cd_X_test, Cd_y_train, Cd_y_test = train_test_split(Cd_X_scaled, Cd_y, test_size=0.2, random_state=42)\n",
    "Ni_X_train, Ni_X_test, Ni_y_train, Ni_y_test = train_test_split(Ni_X_scaled, Ni_y, test_size=0.2, random_state=42) '''"
   ]
  },
  {
   "attachments": {},
   "cell_type": "markdown",
   "id": "2fe0d293",
   "metadata": {},
   "source": [
    "MinMaxScaler"
   ]
  },
  {
   "cell_type": "code",
   "execution_count": 386,
   "id": "e8596f9f",
   "metadata": {},
   "outputs": [],
   "source": [
    "# from sklearn.preprocessing import MinMaxScaler\n",
    "\n",
    "# scaler = MinMaxScaler()\n",
    "# As_X_scaled = scaler.fit_transform(As_X)\n",
    "# Cd_X_scaled = scaler.fit_transform(Cd_X)\n",
    "# Ni_X_scaled = scaler.fit_transform(Ni_X)\n",
    "\n",
    "# As_X_train, As_X_test, As_y_train, As_y_test = train_test_split(As_X_scaled, As_y, test_size=0.2, random_state=42)\n",
    "# Cd_X_train, Cd_X_test, Cd_y_train, Cd_y_test = train_test_split(Cd_X_scaled, Cd_y, test_size=0.2, random_state=42)\n",
    "# Ni_X_train, Ni_X_test, Ni_y_train, Ni_y_test = train_test_split(Ni_X_scaled, Ni_y, test_size=0.2, random_state=42)"
   ]
  },
  {
   "cell_type": "code",
   "execution_count": 22,
   "id": "66cd05c6",
   "metadata": {},
   "outputs": [
    {
     "name": "stdout",
     "output_type": "stream",
     "text": [
      "(1482, 15)\n",
      "(1540, 15)\n",
      "(1697, 15)\n"
     ]
    }
   ],
   "source": [
    "print(As_X_train.shape)\n",
    "print(Cd_X_train.shape)\n",
    "print(Ni_X_train.shape)"
   ]
  },
  {
   "attachments": {},
   "cell_type": "markdown",
   "id": "bd11b27e",
   "metadata": {},
   "source": [
    "#### 10-Fold Crossvalidation"
   ]
  },
  {
   "cell_type": "code",
   "execution_count": 388,
   "id": "7a765916",
   "metadata": {},
   "outputs": [],
   "source": [
    "# kf = KFold(n_splits = 10, random_state = 42, shuffle = True)"
   ]
  },
  {
   "attachments": {},
   "cell_type": "markdown",
   "id": "859638d0",
   "metadata": {},
   "source": [
    "#### Optuna Optimization"
   ]
  },
  {
   "cell_type": "code",
   "execution_count": 23,
   "id": "92a47d83",
   "metadata": {},
   "outputs": [],
   "source": [
    "import optuna\n",
    "\n",
    "from optuna import Trial\n",
    "from optuna.samplers import TPESampler"
   ]
  },
  {
   "cell_type": "code",
   "execution_count": 24,
   "id": "a7669fea",
   "metadata": {},
   "outputs": [],
   "source": [
    "from sklearn.model_selection import cross_val_score, KFold\n",
    "from sklearn.svm import SVR\n",
    "\n",
    "\n",
    "def objectiveSVM(trial: Trial, X_train, y_train) -> float:\n",
    "    C = trial.suggest_loguniform('C', 0.1, 100.0)\n",
    "    epsilon = trial.suggest_loguniform('epsilon', 0.01, 1.0)\n",
    "    kernel = trial.suggest_categorical('kernel', ['linear', 'rbf', 'poly'])\n",
    "    degree = trial.suggest_int('degree', 1, 5)\n",
    "    \n",
    "    kf = KFold(n_splits=5, shuffle=True, random_state=42)\n",
    "\n",
    "    model = SVR(C=C, epsilon=epsilon, kernel=kernel, degree=degree)\n",
    "\n",
    "    r2 = cross_val_score(model, X_train, y_train, scoring='r2', cv=kf)\n",
    "    r2 = r2.mean()\n",
    "\n",
    "    return r2\n"
   ]
  },
  {
   "attachments": {},
   "cell_type": "markdown",
   "id": "b0988f46",
   "metadata": {},
   "source": [
    "####  Optimization"
   ]
  },
  {
   "cell_type": "code",
   "execution_count": 29,
   "id": "94f5e00d",
   "metadata": {
    "scrolled": false
   },
   "outputs": [
    {
     "name": "stderr",
     "output_type": "stream",
     "text": [
      "\u001b[32m[I 2023-08-30 16:04:50,880]\u001b[0m A new study created in memory with name: svm_parameter_opt\u001b[0m\n",
      "\u001b[32m[I 2023-08-30 16:04:51,457]\u001b[0m Trial 0 finished with value: 0.4110510506552175 and parameters: {'C': 1.3034196763682784, 'epsilon': 0.08386262102260818, 'kernel': 'rbf', 'degree': 5}. Best is trial 0 with value: 0.4110510506552175.\u001b[0m\n",
      "\u001b[32m[I 2023-08-30 16:04:51,879]\u001b[0m Trial 1 finished with value: 0.34290556421879453 and parameters: {'C': 0.1379115321917602, 'epsilon': 0.12578323745344944, 'kernel': 'rbf', 'degree': 2}. Best is trial 0 with value: 0.4110510506552175.\u001b[0m\n",
      "\u001b[32m[I 2023-08-30 16:04:52,471]\u001b[0m Trial 2 finished with value: 0.4250728003053135 and parameters: {'C': 4.956166669242157, 'epsilon': 0.056135504829364836, 'kernel': 'rbf', 'degree': 3}. Best is trial 2 with value: 0.4250728003053135.\u001b[0m\n",
      "\u001b[32m[I 2023-08-30 16:04:53,063]\u001b[0m Trial 3 finished with value: -0.08028258954334755 and parameters: {'C': 12.515246606326302, 'epsilon': 0.4979269740977123, 'kernel': 'poly', 'degree': 2}. Best is trial 2 with value: 0.4250728003053135.\u001b[0m\n",
      "\u001b[32m[I 2023-08-30 16:04:53,257]\u001b[0m Trial 4 finished with value: 0.17262681585216083 and parameters: {'C': 0.34188330460635735, 'epsilon': 0.4924336236154624, 'kernel': 'poly', 'degree': 1}. Best is trial 2 with value: 0.4250728003053135.\u001b[0m\n",
      "\u001b[32m[I 2023-08-30 16:04:53,806]\u001b[0m Trial 5 finished with value: 0.4227133377765247 and parameters: {'C': 3.491753089427501, 'epsilon': 0.06487677732636213, 'kernel': 'rbf', 'degree': 4}. Best is trial 2 with value: 0.4250728003053135.\u001b[0m\n",
      "\u001b[32m[I 2023-08-30 16:04:54,010]\u001b[0m Trial 6 finished with value: 0.053415779318213195 and parameters: {'C': 4.589490133946768, 'epsilon': 0.8202590463188207, 'kernel': 'poly', 'degree': 2}. Best is trial 2 with value: 0.4250728003053135.\u001b[0m\n",
      "\u001b[32m[I 2023-08-30 16:04:54,387]\u001b[0m Trial 7 finished with value: -0.6222194190376229 and parameters: {'C': 0.6737181009417866, 'epsilon': 0.09545770720497146, 'kernel': 'poly', 'degree': 3}. Best is trial 2 with value: 0.4250728003053135.\u001b[0m\n",
      "\u001b[32m[I 2023-08-30 16:04:56,919]\u001b[0m Trial 8 finished with value: 0.24015672722217865 and parameters: {'C': 98.60980403692463, 'epsilon': 0.01429391351321444, 'kernel': 'rbf', 'degree': 1}. Best is trial 2 with value: 0.4250728003053135.\u001b[0m\n",
      "\u001b[32m[I 2023-08-30 16:05:14,488]\u001b[0m Trial 9 finished with value: 0.16182569809103556 and parameters: {'C': 59.488847789836, 'epsilon': 0.03386293941447993, 'kernel': 'linear', 'degree': 3}. Best is trial 2 with value: 0.4250728003053135.\u001b[0m\n",
      "\u001b[32m[I 2023-08-30 16:05:20,540]\u001b[0m Trial 10 finished with value: 0.16151149605359436 and parameters: {'C': 17.14600958081219, 'epsilon': 0.01626371527184473, 'kernel': 'linear', 'degree': 5}. Best is trial 2 with value: 0.4250728003053135.\u001b[0m\n",
      "\u001b[32m[I 2023-08-30 16:05:21,078]\u001b[0m Trial 11 finished with value: 0.41984449657501266 and parameters: {'C': 2.3214907415591073, 'epsilon': 0.04664950716301738, 'kernel': 'rbf', 'degree': 4}. Best is trial 2 with value: 0.4250728003053135.\u001b[0m\n",
      "\u001b[32m[I 2023-08-30 16:05:21,583]\u001b[0m Trial 12 finished with value: 0.43676526587282305 and parameters: {'C': 7.049639255044815, 'epsilon': 0.18337136357979664, 'kernel': 'rbf', 'degree': 4}. Best is trial 12 with value: 0.43676526587282305.\u001b[0m\n",
      "\u001b[32m[I 2023-08-30 16:05:22,064]\u001b[0m Trial 13 finished with value: 0.4436506144509817 and parameters: {'C': 9.351522661178887, 'epsilon': 0.2467213758881539, 'kernel': 'rbf', 'degree': 4}. Best is trial 13 with value: 0.4436506144509817.\u001b[0m\n",
      "\u001b[32m[I 2023-08-30 16:05:22,739]\u001b[0m Trial 14 finished with value: 0.4203111695969051 and parameters: {'C': 19.052160854492524, 'epsilon': 0.2001271140664216, 'kernel': 'rbf', 'degree': 4}. Best is trial 13 with value: 0.4436506144509817.\u001b[0m\n",
      "\u001b[32m[I 2023-08-30 16:05:23,239]\u001b[0m Trial 15 finished with value: 0.4431969545988276 and parameters: {'C': 8.222231002508384, 'epsilon': 0.2156468075365926, 'kernel': 'rbf', 'degree': 4}. Best is trial 13 with value: 0.4436506144509817.\u001b[0m\n",
      "\u001b[32m[I 2023-08-30 16:05:30,933]\u001b[0m Trial 16 finished with value: 0.16959283090059557 and parameters: {'C': 34.429352309002226, 'epsilon': 0.2790448161335925, 'kernel': 'linear', 'degree': 5}. Best is trial 13 with value: 0.4436506144509817.\u001b[0m\n",
      "\u001b[32m[I 2023-08-30 16:05:31,398]\u001b[0m Trial 17 finished with value: 0.44479131063376026 and parameters: {'C': 11.431776445847733, 'epsilon': 0.30155822766093604, 'kernel': 'rbf', 'degree': 4}. Best is trial 17 with value: 0.44479131063376026.\u001b[0m\n",
      "\u001b[32m[I 2023-08-30 16:05:31,897]\u001b[0m Trial 18 finished with value: 0.4177064073939894 and parameters: {'C': 31.454400934481068, 'epsilon': 0.42510072670045884, 'kernel': 'rbf', 'degree': 3}. Best is trial 17 with value: 0.44479131063376026.\u001b[0m\n",
      "\u001b[32m[I 2023-08-30 16:05:32,283]\u001b[0m Trial 19 finished with value: 0.16289054852842105 and parameters: {'C': 2.0307937746022993, 'epsilon': 0.8659116664833476, 'kernel': 'linear', 'degree': 5}. Best is trial 17 with value: 0.44479131063376026.\u001b[0m\n",
      "\u001b[32m[I 2023-08-30 16:05:32,608]\u001b[0m Trial 20 finished with value: 0.41578985431860244 and parameters: {'C': 1.0013176717479118, 'epsilon': 0.3162409233470545, 'kernel': 'rbf', 'degree': 4}. Best is trial 17 with value: 0.44479131063376026.\u001b[0m\n",
      "\u001b[32m[I 2023-08-30 16:05:33,189]\u001b[0m Trial 21 finished with value: 0.43004782961978555 and parameters: {'C': 9.097941668914247, 'epsilon': 0.14541787622793023, 'kernel': 'rbf', 'degree': 4}. Best is trial 17 with value: 0.44479131063376026.\u001b[0m\n",
      "\u001b[32m[I 2023-08-30 16:05:33,877]\u001b[0m Trial 22 finished with value: 0.4454414818968916 and parameters: {'C': 8.930494987886146, 'epsilon': 0.25665498199435444, 'kernel': 'rbf', 'degree': 4}. Best is trial 22 with value: 0.4454414818968916.\u001b[0m\n",
      "\u001b[32m[I 2023-08-30 16:05:34,492]\u001b[0m Trial 23 finished with value: 0.43379754792648634 and parameters: {'C': 19.800073758218044, 'epsilon': 0.35896625447373975, 'kernel': 'rbf', 'degree': 3}. Best is trial 22 with value: 0.4454414818968916.\u001b[0m\n",
      "\u001b[32m[I 2023-08-30 16:05:34,819]\u001b[0m Trial 24 finished with value: 0.3866416068521946 and parameters: {'C': 37.06531095891838, 'epsilon': 0.6373698923334201, 'kernel': 'rbf', 'degree': 5}. Best is trial 22 with value: 0.4454414818968916.\u001b[0m\n",
      "\u001b[32m[I 2023-08-30 16:05:35,412]\u001b[0m Trial 25 finished with value: 0.4466204052991386 and parameters: {'C': 6.195379175659403, 'epsilon': 0.2625944009864145, 'kernel': 'rbf', 'degree': 4}. Best is trial 25 with value: 0.4466204052991386.\u001b[0m\n",
      "\u001b[32m[I 2023-08-30 16:05:35,990]\u001b[0m Trial 26 finished with value: 0.4315277730679409 and parameters: {'C': 5.5810312379364175, 'epsilon': 0.12427199080060605, 'kernel': 'rbf', 'degree': 4}. Best is trial 25 with value: 0.4466204052991386.\u001b[0m\n",
      "\u001b[32m[I 2023-08-30 16:05:36,513]\u001b[0m Trial 27 finished with value: 0.433026559295587 and parameters: {'C': 3.284096568625855, 'epsilon': 0.16009993057208993, 'kernel': 'rbf', 'degree': 5}. Best is trial 25 with value: 0.4466204052991386.\u001b[0m\n",
      "\u001b[32m[I 2023-08-30 16:05:37,236]\u001b[0m Trial 28 finished with value: -2.579757107144445 and parameters: {'C': 13.009504553236063, 'epsilon': 0.6051711333088652, 'kernel': 'poly', 'degree': 3}. Best is trial 25 with value: 0.4466204052991386.\u001b[0m\n",
      "\u001b[32m[I 2023-08-30 16:05:38,028]\u001b[0m Trial 29 finished with value: 0.16246652908507234 and parameters: {'C': 1.1609773246094268, 'epsilon': 0.32759927482747003, 'kernel': 'linear', 'degree': 5}. Best is trial 25 with value: 0.4466204052991386.\u001b[0m\n",
      "\u001b[32m[I 2023-08-30 16:05:38,560]\u001b[0m Trial 30 finished with value: 0.42124235130073606 and parameters: {'C': 2.007562963565946, 'epsilon': 0.08724665528481026, 'kernel': 'rbf', 'degree': 4}. Best is trial 25 with value: 0.4466204052991386.\u001b[0m\n",
      "\u001b[32m[I 2023-08-30 16:05:39,108]\u001b[0m Trial 31 finished with value: 0.4431777023667097 and parameters: {'C': 9.77333534673129, 'epsilon': 0.25870172509473094, 'kernel': 'rbf', 'degree': 4}. Best is trial 25 with value: 0.4466204052991386.\u001b[0m\n",
      "\u001b[32m[I 2023-08-30 16:05:39,873]\u001b[0m Trial 32 finished with value: 0.41755564229993614 and parameters: {'C': 23.45069241091806, 'epsilon': 0.22292942026064386, 'kernel': 'rbf', 'degree': 4}. Best is trial 25 with value: 0.4466204052991386.\u001b[0m\n",
      "\u001b[32m[I 2023-08-30 16:05:40,459]\u001b[0m Trial 33 finished with value: 0.4308192898934453 and parameters: {'C': 4.86643823224487, 'epsilon': 0.112666763002391, 'kernel': 'rbf', 'degree': 3}. Best is trial 25 with value: 0.4466204052991386.\u001b[0m\n",
      "\u001b[32m[I 2023-08-30 16:05:40,843]\u001b[0m Trial 34 finished with value: 0.4445053630466448 and parameters: {'C': 11.394881737826594, 'epsilon': 0.4404164376816009, 'kernel': 'rbf', 'degree': 4}. Best is trial 25 with value: 0.4466204052991386.\u001b[0m\n",
      "\u001b[32m[I 2023-08-30 16:05:41,254]\u001b[0m Trial 35 finished with value: 0.44122687324544874 and parameters: {'C': 13.823810078728753, 'epsilon': 0.3965997636816113, 'kernel': 'rbf', 'degree': 5}. Best is trial 25 with value: 0.4466204052991386.\u001b[0m\n",
      "\u001b[32m[I 2023-08-30 16:05:41,500]\u001b[0m Trial 36 finished with value: 0.335828609347847 and parameters: {'C': 0.17756608552464392, 'epsilon': 0.46017852373752777, 'kernel': 'rbf', 'degree': 2}. Best is trial 25 with value: 0.4466204052991386.\u001b[0m\n",
      "\u001b[32m[I 2023-08-30 16:05:41,763]\u001b[0m Trial 37 finished with value: -3.1749968149475656 and parameters: {'C': 5.762937013676019, 'epsilon': 0.5973647572827535, 'kernel': 'poly', 'degree': 4}. Best is trial 25 with value: 0.4466204052991386.\u001b[0m\n",
      "\u001b[32m[I 2023-08-30 16:05:41,957]\u001b[0m Trial 38 finished with value: 0.39488639315464974 and parameters: {'C': 3.3168370477557914, 'epsilon': 0.7016512237900894, 'kernel': 'rbf', 'degree': 3}. Best is trial 25 with value: 0.4466204052991386.\u001b[0m\n",
      "\u001b[32m[I 2023-08-30 16:05:47,866]\u001b[0m Trial 39 finished with value: -27.504536994243047 and parameters: {'C': 50.63063670280603, 'epsilon': 0.06935244091221222, 'kernel': 'poly', 'degree': 3}. Best is trial 25 with value: 0.4466204052991386.\u001b[0m\n",
      "\u001b[32m[I 2023-08-30 16:05:48,016]\u001b[0m Trial 40 finished with value: 0.3090658134584957 and parameters: {'C': 13.49492951228074, 'epsilon': 0.9318844191786014, 'kernel': 'rbf', 'degree': 4}. Best is trial 25 with value: 0.4466204052991386.\u001b[0m\n",
      "\u001b[32m[I 2023-08-30 16:05:48,508]\u001b[0m Trial 41 finished with value: 0.4435771533398135 and parameters: {'C': 9.527954870950655, 'epsilon': 0.25072357875668644, 'kernel': 'rbf', 'degree': 4}. Best is trial 25 with value: 0.4466204052991386.\u001b[0m\n",
      "\u001b[32m[I 2023-08-30 16:05:49,047]\u001b[0m Trial 42 finished with value: 0.43396026956045197 and parameters: {'C': 6.972625359330169, 'epsilon': 0.1572724755447615, 'kernel': 'rbf', 'degree': 4}. Best is trial 25 with value: 0.4466204052991386.\u001b[0m\n",
      "\u001b[32m[I 2023-08-30 16:05:49,432]\u001b[0m Trial 43 finished with value: 0.44777975753564264 and parameters: {'C': 4.280441780146955, 'epsilon': 0.29334863431028224, 'kernel': 'rbf', 'degree': 4}. Best is trial 43 with value: 0.44777975753564264.\u001b[0m\n",
      "\u001b[32m[I 2023-08-30 16:05:49,677]\u001b[0m Trial 44 finished with value: 0.43233049723108274 and parameters: {'C': 4.133606779988817, 'epsilon': 0.5510261722979536, 'kernel': 'rbf', 'degree': 5}. Best is trial 43 with value: 0.44777975753564264.\u001b[0m\n",
      "\u001b[32m[I 2023-08-30 16:05:50,006]\u001b[0m Trial 45 finished with value: 0.4274992834786634 and parameters: {'C': 1.4752682650811668, 'epsilon': 0.3191591681015266, 'kernel': 'rbf', 'degree': 4}. Best is trial 43 with value: 0.44777975753564264.\u001b[0m\n",
      "\u001b[32m[I 2023-08-30 16:05:50,263]\u001b[0m Trial 46 finished with value: 0.43371129013079646 and parameters: {'C': 2.48255171517805, 'epsilon': 0.48707084470652134, 'kernel': 'rbf', 'degree': 2}. Best is trial 43 with value: 0.44777975753564264.\u001b[0m\n",
      "\u001b[32m[I 2023-08-30 16:05:57,921]\u001b[0m Trial 47 finished with value: 0.161063977886652 and parameters: {'C': 24.071035492119762, 'epsilon': 0.02579298130578736, 'kernel': 'linear', 'degree': 3}. Best is trial 43 with value: 0.44777975753564264.\u001b[0m\n",
      "\u001b[32m[I 2023-08-30 16:05:58,200]\u001b[0m Trial 48 finished with value: 0.1615022957471529 and parameters: {'C': 0.5724572822854362, 'epsilon': 0.17947388496865702, 'kernel': 'poly', 'degree': 1}. Best is trial 43 with value: 0.44777975753564264.\u001b[0m\n",
      "\u001b[32m[I 2023-08-30 16:05:58,535]\u001b[0m Trial 49 finished with value: 0.450240604556342 and parameters: {'C': 6.440070684848104, 'epsilon': 0.389837657180271, 'kernel': 'rbf', 'degree': 4}. Best is trial 49 with value: 0.450240604556342.\u001b[0m\n",
      "\u001b[32m[I 2023-08-30 16:05:59,217]\u001b[0m Trial 50 finished with value: 0.42024883085999776 and parameters: {'C': 6.460233608808779, 'epsilon': 0.01110655582872037, 'kernel': 'rbf', 'degree': 5}. Best is trial 49 with value: 0.450240604556342.\u001b[0m\n",
      "\u001b[32m[I 2023-08-30 16:05:59,608]\u001b[0m Trial 51 finished with value: 0.44885581345012404 and parameters: {'C': 4.644048040610299, 'epsilon': 0.2988179700307932, 'kernel': 'rbf', 'degree': 4}. Best is trial 49 with value: 0.450240604556342.\u001b[0m\n",
      "\u001b[32m[I 2023-08-30 16:05:59,994]\u001b[0m Trial 52 finished with value: 0.44680265784588735 and parameters: {'C': 4.3002007274473275, 'epsilon': 0.28701450175100096, 'kernel': 'rbf', 'degree': 4}. Best is trial 49 with value: 0.450240604556342.\u001b[0m\n",
      "\u001b[32m[I 2023-08-30 16:06:00,321]\u001b[0m Trial 53 finished with value: 0.4495977204149585 and parameters: {'C': 4.0721412255264, 'epsilon': 0.3928361199017327, 'kernel': 'rbf', 'degree': 4}. Best is trial 49 with value: 0.450240604556342.\u001b[0m\n",
      "\u001b[32m[I 2023-08-30 16:06:00,644]\u001b[0m Trial 54 finished with value: 0.4515457035439045 and parameters: {'C': 4.161941678855758, 'epsilon': 0.3789654229881165, 'kernel': 'rbf', 'degree': 4}. Best is trial 54 with value: 0.4515457035439045.\u001b[0m\n",
      "\u001b[32m[I 2023-08-30 16:06:00,941]\u001b[0m Trial 55 finished with value: 0.4416855637223797 and parameters: {'C': 2.6996866167920306, 'epsilon': 0.3985387391981799, 'kernel': 'rbf', 'degree': 4}. Best is trial 54 with value: 0.4515457035439045.\u001b[0m\n",
      "\u001b[32m[I 2023-08-30 16:06:01,693]\u001b[0m Trial 56 finished with value: 0.17311090725495504 and parameters: {'C': 3.943846075550822, 'epsilon': 0.7069171929544732, 'kernel': 'linear', 'degree': 4}. Best is trial 54 with value: 0.4515457035439045.\u001b[0m\n",
      "\u001b[32m[I 2023-08-30 16:06:02,000]\u001b[0m Trial 57 finished with value: 0.4326139887878802 and parameters: {'C': 1.7264431789228178, 'epsilon': 0.3662141182606433, 'kernel': 'rbf', 'degree': 4}. Best is trial 54 with value: 0.4515457035439045.\u001b[0m\n",
      "\u001b[32m[I 2023-08-30 16:06:02,441]\u001b[0m Trial 58 finished with value: 0.43870420006841815 and parameters: {'C': 4.495105805611667, 'epsilon': 0.21273588410863084, 'kernel': 'rbf', 'degree': 3}. Best is trial 54 with value: 0.4515457035439045.\u001b[0m\n",
      "\u001b[32m[I 2023-08-30 16:06:02,615]\u001b[0m Trial 59 finished with value: 0.37652922070544914 and parameters: {'C': 3.1797077883021783, 'epsilon': 0.7657951733331455, 'kernel': 'rbf', 'degree': 5}. Best is trial 54 with value: 0.4515457035439045.\u001b[0m\n",
      "\u001b[32m[I 2023-08-30 16:06:02,829]\u001b[0m Trial 60 finished with value: 0.3910906347702308 and parameters: {'C': 0.8367347348171055, 'epsilon': 0.5390089886170564, 'kernel': 'rbf', 'degree': 4}. Best is trial 54 with value: 0.4515457035439045.\u001b[0m\n",
      "\u001b[32m[I 2023-08-30 16:06:03,232]\u001b[0m Trial 61 finished with value: 0.44682058454577855 and parameters: {'C': 5.212021292210437, 'epsilon': 0.275848572389363, 'kernel': 'rbf', 'degree': 4}. Best is trial 54 with value: 0.4515457035439045.\u001b[0m\n",
      "\u001b[32m[I 2023-08-30 16:06:03,571]\u001b[0m Trial 62 finished with value: 0.4424059625709912 and parameters: {'C': 2.5671566489604745, 'epsilon': 0.3312443208617126, 'kernel': 'rbf', 'degree': 4}. Best is trial 54 with value: 0.4515457035439045.\u001b[0m\n",
      "\u001b[32m[I 2023-08-30 16:06:03,954]\u001b[0m Trial 63 finished with value: 0.44947692280009505 and parameters: {'C': 4.954791241628951, 'epsilon': 0.30193920930641105, 'kernel': 'rbf', 'degree': 4}. Best is trial 54 with value: 0.4515457035439045.\u001b[0m\n",
      "\u001b[32m[I 2023-08-30 16:06:04,430]\u001b[0m Trial 64 finished with value: 0.4360611184290303 and parameters: {'C': 5.469339112247423, 'epsilon': 0.18280108566223566, 'kernel': 'rbf', 'degree': 4}. Best is trial 54 with value: 0.4515457035439045.\u001b[0m\n",
      "\u001b[32m[I 2023-08-30 16:06:04,787]\u001b[0m Trial 65 finished with value: 0.44911865585152044 and parameters: {'C': 7.603149934302391, 'epsilon': 0.38258301455476396, 'kernel': 'rbf', 'degree': 4}. Best is trial 54 with value: 0.4515457035439045.\u001b[0m\n",
      "\u001b[32m[I 2023-08-30 16:06:05,145]\u001b[0m Trial 66 finished with value: 0.44903022398837394 and parameters: {'C': 7.726755761146751, 'epsilon': 0.3769385898013661, 'kernel': 'rbf', 'degree': 3}. Best is trial 54 with value: 0.4515457035439045.\u001b[0m\n",
      "\u001b[32m[I 2023-08-30 16:06:05,668]\u001b[0m Trial 67 finished with value: -1.100840677090574 and parameters: {'C': 7.284071729421937, 'epsilon': 0.5133788966614856, 'kernel': 'poly', 'degree': 3}. Best is trial 54 with value: 0.4515457035439045.\u001b[0m\n",
      "\u001b[32m[I 2023-08-30 16:06:07,658]\u001b[0m Trial 68 finished with value: 0.16750413150346455 and parameters: {'C': 7.9219132873258395, 'epsilon': 0.38139333988070356, 'kernel': 'linear', 'degree': 3}. Best is trial 54 with value: 0.4515457035439045.\u001b[0m\n",
      "\u001b[32m[I 2023-08-30 16:06:08,048]\u001b[0m Trial 69 finished with value: 0.4340633368349673 and parameters: {'C': 17.707941206040026, 'epsilon': 0.4414376857827696, 'kernel': 'rbf', 'degree': 3}. Best is trial 54 with value: 0.4515457035439045.\u001b[0m\n",
      "\u001b[32m[I 2023-08-30 16:06:08,435]\u001b[0m Trial 70 finished with value: 0.42811089079543657 and parameters: {'C': 2.0330215260079094, 'epsilon': 0.23312862688025043, 'kernel': 'rbf', 'degree': 2}. Best is trial 54 with value: 0.4515457035439045.\u001b[0m\n",
      "\u001b[32m[I 2023-08-30 16:06:08,777]\u001b[0m Trial 71 finished with value: 0.45041704343151767 and parameters: {'C': 3.68546249700799, 'epsilon': 0.3429984781011216, 'kernel': 'rbf', 'degree': 4}. Best is trial 54 with value: 0.4515457035439045.\u001b[0m\n",
      "\u001b[32m[I 2023-08-30 16:06:09,097]\u001b[0m Trial 72 finished with value: 0.44618851109750485 and parameters: {'C': 3.045838366040315, 'epsilon': 0.37172779999443106, 'kernel': 'rbf', 'degree': 4}. Best is trial 54 with value: 0.4515457035439045.\u001b[0m\n",
      "\u001b[32m[I 2023-08-30 16:06:09,426]\u001b[0m Trial 73 finished with value: 0.4435193268826475 and parameters: {'C': 10.954834240837119, 'epsilon': 0.4606789585497381, 'kernel': 'rbf', 'degree': 4}. Best is trial 54 with value: 0.4515457035439045.\u001b[0m\n",
      "\u001b[32m[I 2023-08-30 16:06:09,813]\u001b[0m Trial 74 finished with value: 0.4483712770702376 and parameters: {'C': 7.991075780262948, 'epsilon': 0.34043796702283674, 'kernel': 'rbf', 'degree': 3}. Best is trial 54 with value: 0.4515457035439045.\u001b[0m\n",
      "\u001b[32m[I 2023-08-30 16:06:10,031]\u001b[0m Trial 75 finished with value: 0.41278263482644756 and parameters: {'C': 6.211014496086213, 'epsilon': 0.6336505054879933, 'kernel': 'rbf', 'degree': 4}. Best is trial 54 with value: 0.4515457035439045.\u001b[0m\n",
      "\u001b[32m[I 2023-08-30 16:06:10,362]\u001b[0m Trial 76 finished with value: 0.4513636067443869 and parameters: {'C': 5.135293782746791, 'epsilon': 0.399265182344401, 'kernel': 'rbf', 'degree': 4}. Best is trial 54 with value: 0.4515457035439045.\u001b[0m\n",
      "\u001b[32m[I 2023-08-30 16:06:10,620]\u001b[0m Trial 77 finished with value: 0.4368428197119837 and parameters: {'C': 3.7222336929582682, 'epsilon': 0.5046004801141888, 'kernel': 'rbf', 'degree': 5}. Best is trial 54 with value: 0.4515457035439045.\u001b[0m\n",
      "\u001b[32m[I 2023-08-30 16:06:11,023]\u001b[0m Trial 78 finished with value: 0.4379954762584112 and parameters: {'C': 15.502745695548317, 'epsilon': 0.4085664142539268, 'kernel': 'rbf', 'degree': 4}. Best is trial 54 with value: 0.4515457035439045.\u001b[0m\n",
      "\u001b[32m[I 2023-08-30 16:06:11,250]\u001b[0m Trial 79 finished with value: 0.426098299070426 and parameters: {'C': 3.0017331687645803, 'epsilon': 0.571970453884844, 'kernel': 'rbf', 'degree': 3}. Best is trial 54 with value: 0.4515457035439045.\u001b[0m\n",
      "\u001b[32m[I 2023-08-30 16:06:11,461]\u001b[0m Trial 80 finished with value: 0.39902395234252036 and parameters: {'C': 10.05130004867622, 'epsilon': 0.6862859893608222, 'kernel': 'rbf', 'degree': 4}. Best is trial 54 with value: 0.4515457035439045.\u001b[0m\n",
      "\u001b[32m[I 2023-08-30 16:06:11,842]\u001b[0m Trial 81 finished with value: 0.4501841280608948 and parameters: {'C': 5.176696395847249, 'epsilon': 0.30762836816760364, 'kernel': 'rbf', 'degree': 4}. Best is trial 54 with value: 0.4515457035439045.\u001b[0m\n",
      "\u001b[32m[I 2023-08-30 16:06:12,200]\u001b[0m Trial 82 finished with value: 0.452586133268154 and parameters: {'C': 5.226319322545693, 'epsilon': 0.3424926966012141, 'kernel': 'rbf', 'degree': 4}. Best is trial 82 with value: 0.452586133268154.\u001b[0m\n",
      "\u001b[32m[I 2023-08-30 16:06:12,660]\u001b[0m Trial 83 finished with value: 0.4377517084662024 and parameters: {'C': 5.4521310020176195, 'epsilon': 0.20288439475022407, 'kernel': 'rbf', 'degree': 4}. Best is trial 82 with value: 0.452586133268154.\u001b[0m\n",
      "\u001b[32m[I 2023-08-30 16:06:13,073]\u001b[0m Trial 84 finished with value: 0.4410645270415398 and parameters: {'C': 3.892560744359644, 'epsilon': 0.23823851501945523, 'kernel': 'rbf', 'degree': 4}. Best is trial 82 with value: 0.452586133268154.\u001b[0m\n",
      "\u001b[32m[I 2023-08-30 16:06:13,342]\u001b[0m Trial 85 finished with value: -1.1049908700167272 and parameters: {'C': 2.1412124983255922, 'epsilon': 0.42761976295936555, 'kernel': 'poly', 'degree': 4}. Best is trial 82 with value: 0.452586133268154.\u001b[0m\n",
      "\u001b[32m[I 2023-08-30 16:06:13,725]\u001b[0m Trial 86 finished with value: 0.4504380069583721 and parameters: {'C': 6.453278065209461, 'epsilon': 0.32242485102347096, 'kernel': 'rbf', 'degree': 4}. Best is trial 82 with value: 0.452586133268154.\u001b[0m\n",
      "\u001b[32m[I 2023-08-30 16:06:14,092]\u001b[0m Trial 87 finished with value: 0.44760910339275173 and parameters: {'C': 3.6524539353046093, 'epsilon': 0.3121935310293662, 'kernel': 'rbf', 'degree': 4}. Best is trial 82 with value: 0.452586133268154.\u001b[0m\n",
      "\u001b[32m[I 2023-08-30 16:06:14,778]\u001b[0m Trial 88 finished with value: 0.1632554077009008 and parameters: {'C': 1.5271602890798586, 'epsilon': 0.3447036069060317, 'kernel': 'linear', 'degree': 4}. Best is trial 82 with value: 0.452586133268154.\u001b[0m\n",
      "\u001b[32m[I 2023-08-30 16:06:15,176]\u001b[0m Trial 89 finished with value: 0.4465355669295623 and parameters: {'C': 4.985355672682022, 'epsilon': 0.2789695446833375, 'kernel': 'rbf', 'degree': 5}. Best is trial 82 with value: 0.452586133268154.\u001b[0m\n",
      "\u001b[32m[I 2023-08-30 16:06:15,804]\u001b[0m Trial 90 finished with value: 0.42516885030478824 and parameters: {'C': 6.630644177103731, 'epsilon': 0.052049247853242005, 'kernel': 'rbf', 'degree': 4}. Best is trial 82 with value: 0.452586133268154.\u001b[0m\n",
      "\u001b[32m[I 2023-08-30 16:06:16,090]\u001b[0m Trial 91 finished with value: 0.4399390284698955 and parameters: {'C': 8.544762774336423, 'epsilon': 0.4949671572097238, 'kernel': 'rbf', 'degree': 4}. Best is trial 82 with value: 0.452586133268154.\u001b[0m\n",
      "\u001b[32m[I 2023-08-30 16:06:16,411]\u001b[0m Trial 92 finished with value: 0.4495439431522844 and parameters: {'C': 6.167383277883, 'epsilon': 0.41529336141547946, 'kernel': 'rbf', 'degree': 4}. Best is trial 82 with value: 0.452586133268154.\u001b[0m\n",
      "\u001b[32m[I 2023-08-30 16:06:16,839]\u001b[0m Trial 93 finished with value: 0.44619187543239036 and parameters: {'C': 6.015830822124586, 'epsilon': 0.2573363173829393, 'kernel': 'rbf', 'degree': 4}. Best is trial 82 with value: 0.452586133268154.\u001b[0m\n",
      "\u001b[32m[I 2023-08-30 16:06:17,133]\u001b[0m Trial 94 finished with value: 0.447400177585137 and parameters: {'C': 4.785270960869157, 'epsilon': 0.43897447603065104, 'kernel': 'rbf', 'degree': 4}. Best is trial 82 with value: 0.452586133268154.\u001b[0m\n",
      "\u001b[32m[I 2023-08-30 16:06:17,483]\u001b[0m Trial 95 finished with value: 0.4485504875836425 and parameters: {'C': 3.601699177934769, 'epsilon': 0.3260524855985125, 'kernel': 'rbf', 'degree': 4}. Best is trial 82 with value: 0.452586133268154.\u001b[0m\n",
      "\u001b[32m[I 2023-08-30 16:06:18,036]\u001b[0m Trial 96 finished with value: 0.419889625244973 and parameters: {'C': 2.8593712736324393, 'epsilon': 0.039322472783465165, 'kernel': 'rbf', 'degree': 4}. Best is trial 82 with value: 0.452586133268154.\u001b[0m\n",
      "\u001b[32m[I 2023-08-30 16:06:18,357]\u001b[0m Trial 97 finished with value: 0.4415857619185763 and parameters: {'C': 2.3570230400739316, 'epsilon': 0.35466339948841374, 'kernel': 'rbf', 'degree': 4}. Best is trial 82 with value: 0.452586133268154.\u001b[0m\n",
      "\u001b[32m[I 2023-08-30 16:06:18,762]\u001b[0m Trial 98 finished with value: 0.4487321319935108 and parameters: {'C': 6.440545790483855, 'epsilon': 0.29363493745456704, 'kernel': 'rbf', 'degree': 4}. Best is trial 82 with value: 0.452586133268154.\u001b[0m\n",
      "\u001b[32m[I 2023-08-30 16:06:19,305]\u001b[0m Trial 99 finished with value: 0.4376643312102032 and parameters: {'C': 12.178283204861959, 'epsilon': 0.2254114345689538, 'kernel': 'rbf', 'degree': 4}. Best is trial 82 with value: 0.452586133268154.\u001b[0m\n"
     ]
    },
    {
     "name": "stdout",
     "output_type": "stream",
     "text": [
      "Best r2:  0.452586133268154\n",
      "Best trial: {'C': 5.226319322545693, 'epsilon': 0.3424926966012141, 'kernel': 'rbf', 'degree': 4}\n"
     ]
    }
   ],
   "source": [
    "sampler = TPESampler()\n",
    "study = optuna.create_study(\n",
    "    study_name=\"svm_parameter_opt\",\n",
    "    direction=\"maximize\",\n",
    "    sampler=sampler,\n",
    ")\n",
    "\n",
    "study.optimize(lambda trial : objectiveSVM(trial, As_X_train, As_y_train), n_trials=100)\n",
    "print(\"Best r2: \", study.best_value)\n",
    "print(\"Best trial:\", study.best_trial.params)"
   ]
  },
  {
   "cell_type": "code",
   "execution_count": 30,
   "id": "ded0e0f8",
   "metadata": {},
   "outputs": [
    {
     "data": {
      "application/vnd.plotly.v1+json": {
       "config": {
        "plotlyServerURL": "https://plot.ly"
       },
       "data": [
        {
         "dimensions": [
          {
           "label": "Objective Value",
           "range": [
            -27.504536994243047,
            0.452586133268154
           ],
           "values": [
            0.4110510506552175,
            0.34290556421879453,
            0.4250728003053135,
            -0.08028258954334755,
            0.17262681585216083,
            0.4227133377765247,
            0.053415779318213195,
            -0.6222194190376229,
            0.24015672722217865,
            0.16182569809103556,
            0.16151149605359436,
            0.41984449657501266,
            0.43676526587282305,
            0.4436506144509817,
            0.4203111695969051,
            0.4431969545988276,
            0.16959283090059557,
            0.44479131063376026,
            0.4177064073939894,
            0.16289054852842105,
            0.41578985431860244,
            0.43004782961978555,
            0.4454414818968916,
            0.43379754792648634,
            0.3866416068521946,
            0.4466204052991386,
            0.4315277730679409,
            0.433026559295587,
            -2.579757107144445,
            0.16246652908507234,
            0.42124235130073606,
            0.4431777023667097,
            0.41755564229993614,
            0.4308192898934453,
            0.4445053630466448,
            0.44122687324544874,
            0.335828609347847,
            -3.1749968149475656,
            0.39488639315464974,
            -27.504536994243047,
            0.3090658134584957,
            0.4435771533398135,
            0.43396026956045197,
            0.44777975753564264,
            0.43233049723108274,
            0.4274992834786634,
            0.43371129013079646,
            0.161063977886652,
            0.1615022957471529,
            0.450240604556342,
            0.42024883085999776,
            0.44885581345012404,
            0.44680265784588735,
            0.4495977204149585,
            0.4515457035439045,
            0.4416855637223797,
            0.17311090725495504,
            0.4326139887878802,
            0.43870420006841815,
            0.37652922070544914,
            0.3910906347702308,
            0.44682058454577855,
            0.4424059625709912,
            0.44947692280009505,
            0.4360611184290303,
            0.44911865585152044,
            0.44903022398837394,
            -1.100840677090574,
            0.16750413150346455,
            0.4340633368349673,
            0.42811089079543657,
            0.45041704343151767,
            0.44618851109750485,
            0.4435193268826475,
            0.4483712770702376,
            0.41278263482644756,
            0.4513636067443869,
            0.4368428197119837,
            0.4379954762584112,
            0.426098299070426,
            0.39902395234252036,
            0.4501841280608948,
            0.452586133268154,
            0.4377517084662024,
            0.4410645270415398,
            -1.1049908700167272,
            0.4504380069583721,
            0.44760910339275173,
            0.1632554077009008,
            0.4465355669295623,
            0.42516885030478824,
            0.4399390284698955,
            0.4495439431522844,
            0.44619187543239036,
            0.447400177585137,
            0.4485504875836425,
            0.419889625244973,
            0.4415857619185763,
            0.4487321319935108,
            0.4376643312102032
           ]
          },
          {
           "label": "C",
           "range": [
            -0.8603994165084179,
            1.9939200957471659
           ],
           "ticktext": [
            "0.138",
            "1",
            "10",
            "98.6"
           ],
           "tickvals": [
            -0.8603994165084179,
            0,
            1,
            1.9939200957471659
           ],
           "values": [
            0.1150842728001874,
            -0.8603994165084179,
            0.6951459026909261,
            1.0974394115720116,
            -0.466122106849994,
            0.5430435260729399,
            0.6617644405889199,
            -0.17152178419915376,
            1.9939200957471659,
            1.7744355573707178,
            1.2341630620649662,
            0.36576695597642994,
            0.8481668937925477,
            0.9708823306060113,
            1.279944239537201,
            0.9149896740625991,
            1.5369288527577634,
            1.0581137230183901,
            1.4976814182342122,
            0.3076658234050053,
            0.0005718808761310283,
            0.9589431480413231,
            0.9508755310665866,
            1.2966668080760477,
            1.5689676479806491,
            0.7920678916414094,
            0.7467144533400694,
            0.5164159190334927,
            1.1142607574460746,
            0.06482373748778106,
            0.30266917502192053,
            0.9900428007181385,
            1.3701556703262174,
            0.6872112154201295,
            1.0567098221995141,
            1.1406277585313247,
            -0.7506399793006298,
            0.7606438729628542,
            0.5207241356741854,
            1.704413388867714,
            1.1301706204592294,
            0.9789996914487429,
            0.8433963310952672,
            0.6314885944287603,
            0.6163291608729342,
            0.1688710002809449,
            0.39489830425000605,
            1.3814947732347602,
            -0.24225691555556858,
            0.8088906341099701,
            0.8102482228220492,
            0.6668967036729201,
            0.6334887283210072,
            0.6098228313137851,
            0.6192959901647513,
            0.43131335360454076,
            0.5959199565117173,
            0.23715228932528754,
            0.6527399185948323,
            0.5023872106262592,
            -0.07741220205972242,
            0.7170061812290759,
            0.4094523703089284,
            0.6950253612393571,
            0.7379348515172639,
            0.8809935548689882,
            0.8879971846324172,
            0.8623742138305642,
            0.8988300843391648,
            1.2481680713633512,
            0.308141977052677,
            0.5664919962099302,
            0.4837068528413512,
            1.0396058105745523,
            0.9026052491490724,
            0.7931625428605732,
            0.7105652940046059,
            0.5708036359565422,
            1.19040862299756,
            0.47737208414856974,
            1.0022222376223182,
            0.7140526951200367,
            0.7181959411323813,
            0.7365662823735414,
            0.5902353985643348,
            0.3306597697095241,
            0.8097803788192404,
            0.5625847473252464,
            0.18388462252435142,
            0.6976961478378327,
            0.8215557228197657,
            0.9317000100378228,
            0.7901009389074543,
            0.779295614476729,
            0.6799065342713915,
            0.5565074367403966,
            0.4562705497690389,
            0.3723638278056413,
            0.8089226722901949,
            1.0855860693143877
           ]
          },
          {
           "label": "degree",
           "range": [
            1,
            5
           ],
           "values": [
            5,
            2,
            3,
            2,
            1,
            4,
            2,
            3,
            1,
            3,
            5,
            4,
            4,
            4,
            4,
            4,
            5,
            4,
            3,
            5,
            4,
            4,
            4,
            3,
            5,
            4,
            4,
            5,
            3,
            5,
            4,
            4,
            4,
            3,
            4,
            5,
            2,
            4,
            3,
            3,
            4,
            4,
            4,
            4,
            5,
            4,
            2,
            3,
            1,
            4,
            5,
            4,
            4,
            4,
            4,
            4,
            4,
            4,
            3,
            5,
            4,
            4,
            4,
            4,
            4,
            4,
            3,
            3,
            3,
            3,
            2,
            4,
            4,
            4,
            3,
            4,
            4,
            5,
            4,
            3,
            4,
            4,
            4,
            4,
            4,
            4,
            4,
            4,
            4,
            5,
            4,
            4,
            4,
            4,
            4,
            4,
            4,
            4,
            4,
            4
           ]
          },
          {
           "label": "epsilon",
           "range": [
            -1.9544205960079002,
            -0.03063794947617837
           ],
           "ticktext": [
            "0.0111",
            "0.1",
            "0.932"
           ],
           "tickvals": [
            -1.9544205960079002,
            -1,
            -0.03063794947617837
           ],
           "values": [
            -1.0764315683828742,
            -0.900377231438651,
            -1.2507623673689183,
            -0.30283434613973237,
            -0.307652300882657,
            -1.1879107313021218,
            -0.08604897125013672,
            -1.0201890011470989,
            -1.8448488499700804,
            -1.4702753464018692,
            -1.7887802374780533,
            -1.3311529400742366,
            -0.7366684855161447,
            -0.6077932216975271,
            -0.6986940673273252,
            -0.6662569668224775,
            -0.5543260410401256,
            -0.5206288178181406,
            -0.37150815261525894,
            -0.06252640903983188,
            -0.499981930628325,
            -0.8373822023494628,
            -0.5906503011220681,
            -0.4449463764486601,
            -0.1956084552995029,
            -0.5807145381346868,
            -0.9056267443387471,
            -0.7956088564140218,
            -0.2181217960217279,
            -0.48465706826319654,
            -1.0592512132993679,
            -0.5872006752779503,
            -0.651832613378376,
            -0.948204183098319,
            -0.3561364802062074,
            -0.4016475489098456,
            -0.33707365346381946,
            -0.2237604030394133,
            -0.15387871297536818,
            -1.1589382489951767,
            -0.03063794947617837,
            -0.6008048218359645,
            -0.803347277154108,
            -0.5326159293085292,
            -0.25882777280949154,
            -0.49599267559979127,
            -0.31240786583375596,
            -1.5884984566282065,
            -0.7459987361615359,
            -0.40911621161223727,
            -1.9544205960079002,
            -0.5245932888829271,
            -0.5420961594634738,
            -0.40578858719664596,
            -0.42140041348971796,
            -0.39952945744906515,
            -0.15063145572099784,
            -0.43626491682159785,
            -0.6721592474930316,
            -0.11588737525835842,
            -0.26840399237497214,
            -0.5593292593227949,
            -0.479851558910421,
            -0.520080486580323,
            -0.7380212293039486,
            -0.4172743151474232,
            -0.4237293985549658,
            -0.2895619877328204,
            -0.41862689513457,
            -0.3551305936282269,
            -0.6324043942924845,
            -0.4647078069360961,
            -0.4297749585902905,
            -0.33660162363711743,
            -0.46796201160441403,
            -0.19815021434063249,
            -0.3987385605168914,
            -0.2970523405983814,
            -0.3887373369294424,
            -0.2426264048541617,
            -0.1634948672107317,
            -0.5119736182510378,
            -0.46534868507552646,
            -0.6927513562909683,
            -0.6229880266136681,
            -0.3689422315599388,
            -0.4915714921571826,
            -0.5055761002081205,
            -0.46255417220217504,
            -0.5544432063963757,
            -1.2835855419564566,
            -0.3054236170579288,
            -0.3816450111575632,
            -0.5894989183136012,
            -0.3575607308770177,
            -0.4867124846833163,
            -1.4053591794857136,
            -0.45018362748625956,
            -0.5321922721857212,
            -0.6470240570377308
           ]
          },
          {
           "label": "kernel",
           "range": [
            0,
            2
           ],
           "ticktext": [
            "rbf",
            "poly",
            "linear"
           ],
           "tickvals": [
            0,
            1,
            2
           ],
           "values": [
            0,
            0,
            0,
            1,
            1,
            0,
            1,
            1,
            0,
            2,
            2,
            0,
            0,
            0,
            0,
            0,
            2,
            0,
            0,
            2,
            0,
            0,
            0,
            0,
            0,
            0,
            0,
            0,
            1,
            2,
            0,
            0,
            0,
            0,
            0,
            0,
            0,
            1,
            0,
            1,
            0,
            0,
            0,
            0,
            0,
            0,
            0,
            2,
            1,
            0,
            0,
            0,
            0,
            0,
            0,
            0,
            2,
            0,
            0,
            0,
            0,
            0,
            0,
            0,
            0,
            0,
            0,
            1,
            2,
            0,
            0,
            0,
            0,
            0,
            0,
            0,
            0,
            0,
            0,
            0,
            0,
            0,
            0,
            0,
            0,
            1,
            0,
            0,
            2,
            0,
            0,
            0,
            0,
            0,
            0,
            0,
            0,
            0,
            0,
            0
           ]
          }
         ],
         "labelangle": 30,
         "labelside": "bottom",
         "line": {
          "color": [
           0.4110510506552175,
           0.34290556421879453,
           0.4250728003053135,
           -0.08028258954334755,
           0.17262681585216083,
           0.4227133377765247,
           0.053415779318213195,
           -0.6222194190376229,
           0.24015672722217865,
           0.16182569809103556,
           0.16151149605359436,
           0.41984449657501266,
           0.43676526587282305,
           0.4436506144509817,
           0.4203111695969051,
           0.4431969545988276,
           0.16959283090059557,
           0.44479131063376026,
           0.4177064073939894,
           0.16289054852842105,
           0.41578985431860244,
           0.43004782961978555,
           0.4454414818968916,
           0.43379754792648634,
           0.3866416068521946,
           0.4466204052991386,
           0.4315277730679409,
           0.433026559295587,
           -2.579757107144445,
           0.16246652908507234,
           0.42124235130073606,
           0.4431777023667097,
           0.41755564229993614,
           0.4308192898934453,
           0.4445053630466448,
           0.44122687324544874,
           0.335828609347847,
           -3.1749968149475656,
           0.39488639315464974,
           -27.504536994243047,
           0.3090658134584957,
           0.4435771533398135,
           0.43396026956045197,
           0.44777975753564264,
           0.43233049723108274,
           0.4274992834786634,
           0.43371129013079646,
           0.161063977886652,
           0.1615022957471529,
           0.450240604556342,
           0.42024883085999776,
           0.44885581345012404,
           0.44680265784588735,
           0.4495977204149585,
           0.4515457035439045,
           0.4416855637223797,
           0.17311090725495504,
           0.4326139887878802,
           0.43870420006841815,
           0.37652922070544914,
           0.3910906347702308,
           0.44682058454577855,
           0.4424059625709912,
           0.44947692280009505,
           0.4360611184290303,
           0.44911865585152044,
           0.44903022398837394,
           -1.100840677090574,
           0.16750413150346455,
           0.4340633368349673,
           0.42811089079543657,
           0.45041704343151767,
           0.44618851109750485,
           0.4435193268826475,
           0.4483712770702376,
           0.41278263482644756,
           0.4513636067443869,
           0.4368428197119837,
           0.4379954762584112,
           0.426098299070426,
           0.39902395234252036,
           0.4501841280608948,
           0.452586133268154,
           0.4377517084662024,
           0.4410645270415398,
           -1.1049908700167272,
           0.4504380069583721,
           0.44760910339275173,
           0.1632554077009008,
           0.4465355669295623,
           0.42516885030478824,
           0.4399390284698955,
           0.4495439431522844,
           0.44619187543239036,
           0.447400177585137,
           0.4485504875836425,
           0.419889625244973,
           0.4415857619185763,
           0.4487321319935108,
           0.4376643312102032
          ],
          "colorbar": {
           "title": {
            "text": "Objective Value"
           }
          },
          "colorscale": [
           [
            0,
            "rgb(247,251,255)"
           ],
           [
            0.125,
            "rgb(222,235,247)"
           ],
           [
            0.25,
            "rgb(198,219,239)"
           ],
           [
            0.375,
            "rgb(158,202,225)"
           ],
           [
            0.5,
            "rgb(107,174,214)"
           ],
           [
            0.625,
            "rgb(66,146,198)"
           ],
           [
            0.75,
            "rgb(33,113,181)"
           ],
           [
            0.875,
            "rgb(8,81,156)"
           ],
           [
            1,
            "rgb(8,48,107)"
           ]
          ],
          "reversescale": false,
          "showscale": true
         },
         "type": "parcoords"
        }
       ],
       "layout": {
        "template": {
         "data": {
          "bar": [
           {
            "error_x": {
             "color": "#2a3f5f"
            },
            "error_y": {
             "color": "#2a3f5f"
            },
            "marker": {
             "line": {
              "color": "#E5ECF6",
              "width": 0.5
             },
             "pattern": {
              "fillmode": "overlay",
              "size": 10,
              "solidity": 0.2
             }
            },
            "type": "bar"
           }
          ],
          "barpolar": [
           {
            "marker": {
             "line": {
              "color": "#E5ECF6",
              "width": 0.5
             },
             "pattern": {
              "fillmode": "overlay",
              "size": 10,
              "solidity": 0.2
             }
            },
            "type": "barpolar"
           }
          ],
          "carpet": [
           {
            "aaxis": {
             "endlinecolor": "#2a3f5f",
             "gridcolor": "white",
             "linecolor": "white",
             "minorgridcolor": "white",
             "startlinecolor": "#2a3f5f"
            },
            "baxis": {
             "endlinecolor": "#2a3f5f",
             "gridcolor": "white",
             "linecolor": "white",
             "minorgridcolor": "white",
             "startlinecolor": "#2a3f5f"
            },
            "type": "carpet"
           }
          ],
          "choropleth": [
           {
            "colorbar": {
             "outlinewidth": 0,
             "ticks": ""
            },
            "type": "choropleth"
           }
          ],
          "contour": [
           {
            "colorbar": {
             "outlinewidth": 0,
             "ticks": ""
            },
            "colorscale": [
             [
              0,
              "#0d0887"
             ],
             [
              0.1111111111111111,
              "#46039f"
             ],
             [
              0.2222222222222222,
              "#7201a8"
             ],
             [
              0.3333333333333333,
              "#9c179e"
             ],
             [
              0.4444444444444444,
              "#bd3786"
             ],
             [
              0.5555555555555556,
              "#d8576b"
             ],
             [
              0.6666666666666666,
              "#ed7953"
             ],
             [
              0.7777777777777778,
              "#fb9f3a"
             ],
             [
              0.8888888888888888,
              "#fdca26"
             ],
             [
              1,
              "#f0f921"
             ]
            ],
            "type": "contour"
           }
          ],
          "contourcarpet": [
           {
            "colorbar": {
             "outlinewidth": 0,
             "ticks": ""
            },
            "type": "contourcarpet"
           }
          ],
          "heatmap": [
           {
            "colorbar": {
             "outlinewidth": 0,
             "ticks": ""
            },
            "colorscale": [
             [
              0,
              "#0d0887"
             ],
             [
              0.1111111111111111,
              "#46039f"
             ],
             [
              0.2222222222222222,
              "#7201a8"
             ],
             [
              0.3333333333333333,
              "#9c179e"
             ],
             [
              0.4444444444444444,
              "#bd3786"
             ],
             [
              0.5555555555555556,
              "#d8576b"
             ],
             [
              0.6666666666666666,
              "#ed7953"
             ],
             [
              0.7777777777777778,
              "#fb9f3a"
             ],
             [
              0.8888888888888888,
              "#fdca26"
             ],
             [
              1,
              "#f0f921"
             ]
            ],
            "type": "heatmap"
           }
          ],
          "heatmapgl": [
           {
            "colorbar": {
             "outlinewidth": 0,
             "ticks": ""
            },
            "colorscale": [
             [
              0,
              "#0d0887"
             ],
             [
              0.1111111111111111,
              "#46039f"
             ],
             [
              0.2222222222222222,
              "#7201a8"
             ],
             [
              0.3333333333333333,
              "#9c179e"
             ],
             [
              0.4444444444444444,
              "#bd3786"
             ],
             [
              0.5555555555555556,
              "#d8576b"
             ],
             [
              0.6666666666666666,
              "#ed7953"
             ],
             [
              0.7777777777777778,
              "#fb9f3a"
             ],
             [
              0.8888888888888888,
              "#fdca26"
             ],
             [
              1,
              "#f0f921"
             ]
            ],
            "type": "heatmapgl"
           }
          ],
          "histogram": [
           {
            "marker": {
             "pattern": {
              "fillmode": "overlay",
              "size": 10,
              "solidity": 0.2
             }
            },
            "type": "histogram"
           }
          ],
          "histogram2d": [
           {
            "colorbar": {
             "outlinewidth": 0,
             "ticks": ""
            },
            "colorscale": [
             [
              0,
              "#0d0887"
             ],
             [
              0.1111111111111111,
              "#46039f"
             ],
             [
              0.2222222222222222,
              "#7201a8"
             ],
             [
              0.3333333333333333,
              "#9c179e"
             ],
             [
              0.4444444444444444,
              "#bd3786"
             ],
             [
              0.5555555555555556,
              "#d8576b"
             ],
             [
              0.6666666666666666,
              "#ed7953"
             ],
             [
              0.7777777777777778,
              "#fb9f3a"
             ],
             [
              0.8888888888888888,
              "#fdca26"
             ],
             [
              1,
              "#f0f921"
             ]
            ],
            "type": "histogram2d"
           }
          ],
          "histogram2dcontour": [
           {
            "colorbar": {
             "outlinewidth": 0,
             "ticks": ""
            },
            "colorscale": [
             [
              0,
              "#0d0887"
             ],
             [
              0.1111111111111111,
              "#46039f"
             ],
             [
              0.2222222222222222,
              "#7201a8"
             ],
             [
              0.3333333333333333,
              "#9c179e"
             ],
             [
              0.4444444444444444,
              "#bd3786"
             ],
             [
              0.5555555555555556,
              "#d8576b"
             ],
             [
              0.6666666666666666,
              "#ed7953"
             ],
             [
              0.7777777777777778,
              "#fb9f3a"
             ],
             [
              0.8888888888888888,
              "#fdca26"
             ],
             [
              1,
              "#f0f921"
             ]
            ],
            "type": "histogram2dcontour"
           }
          ],
          "mesh3d": [
           {
            "colorbar": {
             "outlinewidth": 0,
             "ticks": ""
            },
            "type": "mesh3d"
           }
          ],
          "parcoords": [
           {
            "line": {
             "colorbar": {
              "outlinewidth": 0,
              "ticks": ""
             }
            },
            "type": "parcoords"
           }
          ],
          "pie": [
           {
            "automargin": true,
            "type": "pie"
           }
          ],
          "scatter": [
           {
            "marker": {
             "colorbar": {
              "outlinewidth": 0,
              "ticks": ""
             }
            },
            "type": "scatter"
           }
          ],
          "scatter3d": [
           {
            "line": {
             "colorbar": {
              "outlinewidth": 0,
              "ticks": ""
             }
            },
            "marker": {
             "colorbar": {
              "outlinewidth": 0,
              "ticks": ""
             }
            },
            "type": "scatter3d"
           }
          ],
          "scattercarpet": [
           {
            "marker": {
             "colorbar": {
              "outlinewidth": 0,
              "ticks": ""
             }
            },
            "type": "scattercarpet"
           }
          ],
          "scattergeo": [
           {
            "marker": {
             "colorbar": {
              "outlinewidth": 0,
              "ticks": ""
             }
            },
            "type": "scattergeo"
           }
          ],
          "scattergl": [
           {
            "marker": {
             "colorbar": {
              "outlinewidth": 0,
              "ticks": ""
             }
            },
            "type": "scattergl"
           }
          ],
          "scattermapbox": [
           {
            "marker": {
             "colorbar": {
              "outlinewidth": 0,
              "ticks": ""
             }
            },
            "type": "scattermapbox"
           }
          ],
          "scatterpolar": [
           {
            "marker": {
             "colorbar": {
              "outlinewidth": 0,
              "ticks": ""
             }
            },
            "type": "scatterpolar"
           }
          ],
          "scatterpolargl": [
           {
            "marker": {
             "colorbar": {
              "outlinewidth": 0,
              "ticks": ""
             }
            },
            "type": "scatterpolargl"
           }
          ],
          "scatterternary": [
           {
            "marker": {
             "colorbar": {
              "outlinewidth": 0,
              "ticks": ""
             }
            },
            "type": "scatterternary"
           }
          ],
          "surface": [
           {
            "colorbar": {
             "outlinewidth": 0,
             "ticks": ""
            },
            "colorscale": [
             [
              0,
              "#0d0887"
             ],
             [
              0.1111111111111111,
              "#46039f"
             ],
             [
              0.2222222222222222,
              "#7201a8"
             ],
             [
              0.3333333333333333,
              "#9c179e"
             ],
             [
              0.4444444444444444,
              "#bd3786"
             ],
             [
              0.5555555555555556,
              "#d8576b"
             ],
             [
              0.6666666666666666,
              "#ed7953"
             ],
             [
              0.7777777777777778,
              "#fb9f3a"
             ],
             [
              0.8888888888888888,
              "#fdca26"
             ],
             [
              1,
              "#f0f921"
             ]
            ],
            "type": "surface"
           }
          ],
          "table": [
           {
            "cells": {
             "fill": {
              "color": "#EBF0F8"
             },
             "line": {
              "color": "white"
             }
            },
            "header": {
             "fill": {
              "color": "#C8D4E3"
             },
             "line": {
              "color": "white"
             }
            },
            "type": "table"
           }
          ]
         },
         "layout": {
          "annotationdefaults": {
           "arrowcolor": "#2a3f5f",
           "arrowhead": 0,
           "arrowwidth": 1
          },
          "autotypenumbers": "strict",
          "coloraxis": {
           "colorbar": {
            "outlinewidth": 0,
            "ticks": ""
           }
          },
          "colorscale": {
           "diverging": [
            [
             0,
             "#8e0152"
            ],
            [
             0.1,
             "#c51b7d"
            ],
            [
             0.2,
             "#de77ae"
            ],
            [
             0.3,
             "#f1b6da"
            ],
            [
             0.4,
             "#fde0ef"
            ],
            [
             0.5,
             "#f7f7f7"
            ],
            [
             0.6,
             "#e6f5d0"
            ],
            [
             0.7,
             "#b8e186"
            ],
            [
             0.8,
             "#7fbc41"
            ],
            [
             0.9,
             "#4d9221"
            ],
            [
             1,
             "#276419"
            ]
           ],
           "sequential": [
            [
             0,
             "#0d0887"
            ],
            [
             0.1111111111111111,
             "#46039f"
            ],
            [
             0.2222222222222222,
             "#7201a8"
            ],
            [
             0.3333333333333333,
             "#9c179e"
            ],
            [
             0.4444444444444444,
             "#bd3786"
            ],
            [
             0.5555555555555556,
             "#d8576b"
            ],
            [
             0.6666666666666666,
             "#ed7953"
            ],
            [
             0.7777777777777778,
             "#fb9f3a"
            ],
            [
             0.8888888888888888,
             "#fdca26"
            ],
            [
             1,
             "#f0f921"
            ]
           ],
           "sequentialminus": [
            [
             0,
             "#0d0887"
            ],
            [
             0.1111111111111111,
             "#46039f"
            ],
            [
             0.2222222222222222,
             "#7201a8"
            ],
            [
             0.3333333333333333,
             "#9c179e"
            ],
            [
             0.4444444444444444,
             "#bd3786"
            ],
            [
             0.5555555555555556,
             "#d8576b"
            ],
            [
             0.6666666666666666,
             "#ed7953"
            ],
            [
             0.7777777777777778,
             "#fb9f3a"
            ],
            [
             0.8888888888888888,
             "#fdca26"
            ],
            [
             1,
             "#f0f921"
            ]
           ]
          },
          "colorway": [
           "#636efa",
           "#EF553B",
           "#00cc96",
           "#ab63fa",
           "#FFA15A",
           "#19d3f3",
           "#FF6692",
           "#B6E880",
           "#FF97FF",
           "#FECB52"
          ],
          "font": {
           "color": "#2a3f5f"
          },
          "geo": {
           "bgcolor": "white",
           "lakecolor": "white",
           "landcolor": "#E5ECF6",
           "showlakes": true,
           "showland": true,
           "subunitcolor": "white"
          },
          "hoverlabel": {
           "align": "left"
          },
          "hovermode": "closest",
          "mapbox": {
           "style": "light"
          },
          "paper_bgcolor": "white",
          "plot_bgcolor": "#E5ECF6",
          "polar": {
           "angularaxis": {
            "gridcolor": "white",
            "linecolor": "white",
            "ticks": ""
           },
           "bgcolor": "#E5ECF6",
           "radialaxis": {
            "gridcolor": "white",
            "linecolor": "white",
            "ticks": ""
           }
          },
          "scene": {
           "xaxis": {
            "backgroundcolor": "#E5ECF6",
            "gridcolor": "white",
            "gridwidth": 2,
            "linecolor": "white",
            "showbackground": true,
            "ticks": "",
            "zerolinecolor": "white"
           },
           "yaxis": {
            "backgroundcolor": "#E5ECF6",
            "gridcolor": "white",
            "gridwidth": 2,
            "linecolor": "white",
            "showbackground": true,
            "ticks": "",
            "zerolinecolor": "white"
           },
           "zaxis": {
            "backgroundcolor": "#E5ECF6",
            "gridcolor": "white",
            "gridwidth": 2,
            "linecolor": "white",
            "showbackground": true,
            "ticks": "",
            "zerolinecolor": "white"
           }
          },
          "shapedefaults": {
           "line": {
            "color": "#2a3f5f"
           }
          },
          "ternary": {
           "aaxis": {
            "gridcolor": "white",
            "linecolor": "white",
            "ticks": ""
           },
           "baxis": {
            "gridcolor": "white",
            "linecolor": "white",
            "ticks": ""
           },
           "bgcolor": "#E5ECF6",
           "caxis": {
            "gridcolor": "white",
            "linecolor": "white",
            "ticks": ""
           }
          },
          "title": {
           "x": 0.05
          },
          "xaxis": {
           "automargin": true,
           "gridcolor": "white",
           "linecolor": "white",
           "ticks": "",
           "title": {
            "standoff": 15
           },
           "zerolinecolor": "white",
           "zerolinewidth": 2
          },
          "yaxis": {
           "automargin": true,
           "gridcolor": "white",
           "linecolor": "white",
           "ticks": "",
           "title": {
            "standoff": 15
           },
           "zerolinecolor": "white",
           "zerolinewidth": 2
          }
         }
        },
        "title": {
         "text": "Parallel Coordinate Plot"
        }
       }
      }
     },
     "metadata": {},
     "output_type": "display_data"
    }
   ],
   "source": [
    "optuna.visualization.plot_parallel_coordinate(study)"
   ]
  },
  {
   "cell_type": "code",
   "execution_count": 31,
   "id": "75db1ddf",
   "metadata": {},
   "outputs": [
    {
     "name": "stdout",
     "output_type": "stream",
     "text": [
      "Best trial: {'C': 5.226319322545693, 'epsilon': 0.3424926966012141, 'kernel': 'rbf', 'degree': 4}\n"
     ]
    }
   ],
   "source": [
    "print(\"Best trial:\", study.best_trial.params)"
   ]
  },
  {
   "cell_type": "code",
   "execution_count": 32,
   "id": "862eadd2",
   "metadata": {},
   "outputs": [
    {
     "data": {
      "text/html": [
       "<style>#sk-container-id-1 {color: black;}#sk-container-id-1 pre{padding: 0;}#sk-container-id-1 div.sk-toggleable {background-color: white;}#sk-container-id-1 label.sk-toggleable__label {cursor: pointer;display: block;width: 100%;margin-bottom: 0;padding: 0.3em;box-sizing: border-box;text-align: center;}#sk-container-id-1 label.sk-toggleable__label-arrow:before {content: \"▸\";float: left;margin-right: 0.25em;color: #696969;}#sk-container-id-1 label.sk-toggleable__label-arrow:hover:before {color: black;}#sk-container-id-1 div.sk-estimator:hover label.sk-toggleable__label-arrow:before {color: black;}#sk-container-id-1 div.sk-toggleable__content {max-height: 0;max-width: 0;overflow: hidden;text-align: left;background-color: #f0f8ff;}#sk-container-id-1 div.sk-toggleable__content pre {margin: 0.2em;color: black;border-radius: 0.25em;background-color: #f0f8ff;}#sk-container-id-1 input.sk-toggleable__control:checked~div.sk-toggleable__content {max-height: 200px;max-width: 100%;overflow: auto;}#sk-container-id-1 input.sk-toggleable__control:checked~label.sk-toggleable__label-arrow:before {content: \"▾\";}#sk-container-id-1 div.sk-estimator input.sk-toggleable__control:checked~label.sk-toggleable__label {background-color: #d4ebff;}#sk-container-id-1 div.sk-label input.sk-toggleable__control:checked~label.sk-toggleable__label {background-color: #d4ebff;}#sk-container-id-1 input.sk-hidden--visually {border: 0;clip: rect(1px 1px 1px 1px);clip: rect(1px, 1px, 1px, 1px);height: 1px;margin: -1px;overflow: hidden;padding: 0;position: absolute;width: 1px;}#sk-container-id-1 div.sk-estimator {font-family: monospace;background-color: #f0f8ff;border: 1px dotted black;border-radius: 0.25em;box-sizing: border-box;margin-bottom: 0.5em;}#sk-container-id-1 div.sk-estimator:hover {background-color: #d4ebff;}#sk-container-id-1 div.sk-parallel-item::after {content: \"\";width: 100%;border-bottom: 1px solid gray;flex-grow: 1;}#sk-container-id-1 div.sk-label:hover label.sk-toggleable__label {background-color: #d4ebff;}#sk-container-id-1 div.sk-serial::before {content: \"\";position: absolute;border-left: 1px solid gray;box-sizing: border-box;top: 0;bottom: 0;left: 50%;z-index: 0;}#sk-container-id-1 div.sk-serial {display: flex;flex-direction: column;align-items: center;background-color: white;padding-right: 0.2em;padding-left: 0.2em;position: relative;}#sk-container-id-1 div.sk-item {position: relative;z-index: 1;}#sk-container-id-1 div.sk-parallel {display: flex;align-items: stretch;justify-content: center;background-color: white;position: relative;}#sk-container-id-1 div.sk-item::before, #sk-container-id-1 div.sk-parallel-item::before {content: \"\";position: absolute;border-left: 1px solid gray;box-sizing: border-box;top: 0;bottom: 0;left: 50%;z-index: -1;}#sk-container-id-1 div.sk-parallel-item {display: flex;flex-direction: column;z-index: 1;position: relative;background-color: white;}#sk-container-id-1 div.sk-parallel-item:first-child::after {align-self: flex-end;width: 50%;}#sk-container-id-1 div.sk-parallel-item:last-child::after {align-self: flex-start;width: 50%;}#sk-container-id-1 div.sk-parallel-item:only-child::after {width: 0;}#sk-container-id-1 div.sk-dashed-wrapped {border: 1px dashed gray;margin: 0 0.4em 0.5em 0.4em;box-sizing: border-box;padding-bottom: 0.4em;background-color: white;}#sk-container-id-1 div.sk-label label {font-family: monospace;font-weight: bold;display: inline-block;line-height: 1.2em;}#sk-container-id-1 div.sk-label-container {text-align: center;}#sk-container-id-1 div.sk-container {/* jupyter's `normalize.less` sets `[hidden] { display: none; }` but bootstrap.min.css set `[hidden] { display: none !important; }` so we also need the `!important` here to be able to override the default hidden behavior on the sphinx rendered scikit-learn.org. See: https://github.com/scikit-learn/scikit-learn/issues/21755 */display: inline-block !important;position: relative;}#sk-container-id-1 div.sk-text-repr-fallback {display: none;}</style><div id=\"sk-container-id-1\" class=\"sk-top-container\"><div class=\"sk-text-repr-fallback\"><pre>SVR(C=5.226319322545693, degree=4, epsilon=0.3424926966012141)</pre><b>In a Jupyter environment, please rerun this cell to show the HTML representation or trust the notebook. <br />On GitHub, the HTML representation is unable to render, please try loading this page with nbviewer.org.</b></div><div class=\"sk-container\" hidden><div class=\"sk-item\"><div class=\"sk-estimator sk-toggleable\"><input class=\"sk-toggleable__control sk-hidden--visually\" id=\"sk-estimator-id-1\" type=\"checkbox\" checked><label for=\"sk-estimator-id-1\" class=\"sk-toggleable__label sk-toggleable__label-arrow\">SVR</label><div class=\"sk-toggleable__content\"><pre>SVR(C=5.226319322545693, degree=4, epsilon=0.3424926966012141)</pre></div></div></div></div></div>"
      ],
      "text/plain": [
       "SVR(C=5.226319322545693, degree=4, epsilon=0.3424926966012141)"
      ]
     },
     "execution_count": 32,
     "metadata": {},
     "output_type": "execute_result"
    }
   ],
   "source": [
    "svm_params = {\n",
    "    \"C\": study.best_trial.params[\"C\"],\n",
    "    \"epsilon\": study.best_trial.params[\"epsilon\"],\n",
    "    \"kernel\": study.best_trial.params[\"kernel\"],\n",
    "    \"degree\": study.best_trial.params[\"degree\"]\n",
    "}\n",
    "\n",
    "svm = SVR(**svm_params)\n",
    "svm.fit(As_X_train, As_y_train)"
   ]
  },
  {
   "cell_type": "code",
   "execution_count": 33,
   "id": "8577fb37",
   "metadata": {},
   "outputs": [],
   "source": [
    "y_train_pred = svm.predict(As_X_train)\n",
    "y_test_pred = svm.predict(As_X_test)"
   ]
  },
  {
   "cell_type": "code",
   "execution_count": 396,
   "id": "2ea0526a",
   "metadata": {},
   "outputs": [],
   "source": [
    "# plt.scatter(y_train_pred, np.array(As_y_train))"
   ]
  },
  {
   "cell_type": "code",
   "execution_count": 34,
   "id": "d2a4dd85",
   "metadata": {},
   "outputs": [
    {
     "name": "stdout",
     "output_type": "stream",
     "text": [
      "Train RMSE:  0.4618761102668297\n",
      "Test RMSE:  0.501441428215157\n"
     ]
    }
   ],
   "source": [
    "print(\"Train RMSE: \", np.sqrt(mean_squared_error(As_y_train, y_train_pred)))\n",
    "print(\"Test RMSE: \", np.sqrt(mean_squared_error(As_y_test, y_test_pred)))"
   ]
  },
  {
   "cell_type": "code",
   "execution_count": 35,
   "id": "08fe787a",
   "metadata": {},
   "outputs": [
    {
     "name": "stdout",
     "output_type": "stream",
     "text": [
      "Train R2:  0.6296846372246501\n",
      "Test R2:  0.5898539091174195\n"
     ]
    }
   ],
   "source": [
    "print(\"Train R2: \", r2_score(As_y_train, y_train_pred))\n",
    "print(\"Test R2: \", r2_score(As_y_test, y_test_pred))"
   ]
  },
  {
   "cell_type": "code",
   "execution_count": 36,
   "id": "5ec4820c",
   "metadata": {},
   "outputs": [
    {
     "data": {
      "image/png": "[encoded data removed]",
      "text/plain": [
       "<Figure size 640x480 with 1 Axes>"
      ]
     },
     "metadata": {},
     "output_type": "display_data"
    }
   ],
   "source": [
    "plt.scatter(y_train_pred, np.array(As_y_train), color=\"orange\", alpha=0.3)\n",
    "plt.scatter(y_test_pred, np.array(As_y_test), color=\"green\", alpha=0.4)\n",
    "plt.axis(\"auto\") # scaled, tight, auto, image, square\n",
    "# plt.xlim([0, 1.5]) \n",
    "# plt.ylim(0, None) \n",
    "plt.xlabel('Predicted Values')\n",
    "plt.ylabel('Actual Values')\n",
    "\n",
    "# Add y=x line\n",
    "plt.plot([0, 2.0], [0, 2.0], color='red', linestyle='-')\n",
    "\n",
    "plt.show()"
   ]
  },
  {
   "cell_type": "code",
   "execution_count": 37,
   "id": "e654af66",
   "metadata": {},
   "outputs": [],
   "source": [
    "As_pred = pd.DataFrame(y_train_pred, columns = ['As_pred'])\n",
    "As_pred_test = pd.DataFrame(y_test_pred, columns = ['As_pred'])"
   ]
  },
  {
   "cell_type": "code",
   "execution_count": 38,
   "id": "b524278e",
   "metadata": {},
   "outputs": [],
   "source": [
    "As_y_train = As_y_train.reset_index(drop = False)\n",
    "As_y_test = As_y_test.reset_index(drop = False)"
   ]
  },
  {
   "cell_type": "code",
   "execution_count": 39,
   "id": "2c50ce0f",
   "metadata": {},
   "outputs": [],
   "source": [
    "As_data = pd.concat([As_pred, As_y_train], axis = 1)\n",
    "As_data_test = pd.concat([As_pred_test, As_y_test], axis = 1)"
   ]
  },
  {
   "cell_type": "code",
   "execution_count": 40,
   "id": "81ff41e0",
   "metadata": {},
   "outputs": [],
   "source": [
    "As_data.to_csv('SVM_As_train_data.csv', sep = ',')\n",
    "As_data_test.to_csv('SVM_As_test_data.csv', sep = ',')"
   ]
  },
  {
   "attachments": {},
   "cell_type": "markdown",
   "id": "e0507d63",
   "metadata": {},
   "source": [
    "Cd"
   ]
  },
  {
   "attachments": {},
   "cell_type": "markdown",
   "id": "f8f809d9",
   "metadata": {},
   "source": [
    "Optimization"
   ]
  },
  {
   "cell_type": "code",
   "execution_count": 25,
   "id": "b7aeaf0a",
   "metadata": {},
   "outputs": [
    {
     "name": "stderr",
     "output_type": "stream",
     "text": [
      "\u001b[32m[I 2023-08-30 16:20:32,679]\u001b[0m A new study created in memory with name: svm_parameter_opt\u001b[0m\n",
      "\u001b[32m[I 2023-08-30 16:20:32,702]\u001b[0m Trial 0 finished with value: -0.8362142455943806 and parameters: {'C': 0.16729841387180783, 'epsilon': 0.7667608225442702, 'kernel': 'poly', 'degree': 4}. Best is trial 0 with value: -0.8362142455943806.\u001b[0m\n",
      "\u001b[32m[I 2023-08-30 16:20:33,573]\u001b[0m Trial 1 finished with value: 0.25572532349845956 and parameters: {'C': 0.5418593676352251, 'epsilon': 0.0710733922426741, 'kernel': 'linear', 'degree': 2}. Best is trial 1 with value: 0.25572532349845956.\u001b[0m\n",
      "\u001b[32m[I 2023-08-30 16:20:33,810]\u001b[0m Trial 2 finished with value: 0.1807316617155341 and parameters: {'C': 0.2818533366568711, 'epsilon': 0.24473406970793732, 'kernel': 'linear', 'degree': 1}. Best is trial 1 with value: 0.25572532349845956.\u001b[0m\n",
      "\u001b[32m[I 2023-08-30 16:20:34,014]\u001b[0m Trial 3 finished with value: 0.24037066380547184 and parameters: {'C': 0.1332322137809487, 'epsilon': 0.20537387005579105, 'kernel': 'linear', 'degree': 3}. Best is trial 1 with value: 0.25572532349845956.\u001b[0m\n",
      "\u001b[32m[I 2023-08-30 16:20:34,753]\u001b[0m Trial 4 finished with value: 0.5028883197575256 and parameters: {'C': 3.047591614006116, 'epsilon': 0.017693856088878475, 'kernel': 'rbf', 'degree': 3}. Best is trial 4 with value: 0.5028883197575256.\u001b[0m\n",
      "\u001b[32m[I 2023-08-30 16:20:34,970]\u001b[0m Trial 5 finished with value: -0.06424856864059843 and parameters: {'C': 0.7204466845939721, 'epsilon': 0.3419179479352335, 'kernel': 'linear', 'degree': 2}. Best is trial 4 with value: 0.5028883197575256.\u001b[0m\n",
      "\u001b[32m[I 2023-08-30 16:20:35,373]\u001b[0m Trial 6 finished with value: 0.16519883218018674 and parameters: {'C': 0.838505858586022, 'epsilon': 0.25193919003438126, 'kernel': 'linear', 'degree': 2}. Best is trial 4 with value: 0.5028883197575256.\u001b[0m\n",
      "\u001b[32m[I 2023-08-30 16:20:38,164]\u001b[0m Trial 7 finished with value: 0.2559358323563151 and parameters: {'C': 94.04538837795653, 'epsilon': 0.17354915343615288, 'kernel': 'poly', 'degree': 1}. Best is trial 4 with value: 0.5028883197575256.\u001b[0m\n",
      "\u001b[32m[I 2023-08-30 16:20:38,388]\u001b[0m Trial 8 finished with value: 0.46242317351101353 and parameters: {'C': 4.329899209671328, 'epsilon': 0.1720816082096298, 'kernel': 'rbf', 'degree': 4}. Best is trial 4 with value: 0.5028883197575256.\u001b[0m\n",
      "\u001b[32m[I 2023-08-30 16:20:38,436]\u001b[0m Trial 9 finished with value: -0.3596161261289012 and parameters: {'C': 0.5335580856175239, 'epsilon': 0.4017583960009087, 'kernel': 'rbf', 'degree': 2}. Best is trial 4 with value: 0.5028883197575256.\u001b[0m\n",
      "\u001b[32m[I 2023-08-30 16:20:39,541]\u001b[0m Trial 10 finished with value: 0.4784690954539732 and parameters: {'C': 7.8534325296174075, 'epsilon': 0.013839283068054847, 'kernel': 'rbf', 'degree': 5}. Best is trial 4 with value: 0.5028883197575256.\u001b[0m\n",
      "\u001b[32m[I 2023-08-30 16:20:40,765]\u001b[0m Trial 11 finished with value: 0.4725605360956154 and parameters: {'C': 9.087058462388283, 'epsilon': 0.012911279279377741, 'kernel': 'rbf', 'degree': 5}. Best is trial 4 with value: 0.5028883197575256.\u001b[0m\n",
      "\u001b[32m[I 2023-08-30 16:20:42,429]\u001b[0m Trial 12 finished with value: 0.43394628129086527 and parameters: {'C': 17.581471089270607, 'epsilon': 0.01371899649040291, 'kernel': 'rbf', 'degree': 5}. Best is trial 4 with value: 0.5028883197575256.\u001b[0m\n",
      "\u001b[32m[I 2023-08-30 16:20:42,992]\u001b[0m Trial 13 finished with value: 0.5190129621010466 and parameters: {'C': 2.084003707933893, 'epsilon': 0.03341202243399095, 'kernel': 'rbf', 'degree': 4}. Best is trial 13 with value: 0.5190129621010466.\u001b[0m\n",
      "\u001b[32m[I 2023-08-30 16:20:43,536]\u001b[0m Trial 14 finished with value: 0.5200335594463226 and parameters: {'C': 1.925549751757815, 'epsilon': 0.03621163548189738, 'kernel': 'rbf', 'degree': 4}. Best is trial 14 with value: 0.5200335594463226.\u001b[0m\n",
      "\u001b[32m[I 2023-08-30 16:20:44,066]\u001b[0m Trial 15 finished with value: 0.520810018345818 and parameters: {'C': 2.0989554719629377, 'epsilon': 0.037840802452424, 'kernel': 'rbf', 'degree': 4}. Best is trial 15 with value: 0.520810018345818.\u001b[0m\n",
      "\u001b[32m[I 2023-08-30 16:20:44,513]\u001b[0m Trial 16 finished with value: 0.5220379068843217 and parameters: {'C': 1.6378073226837684, 'epsilon': 0.05124118825205566, 'kernel': 'rbf', 'degree': 4}. Best is trial 16 with value: 0.5220379068843217.\u001b[0m\n",
      "\u001b[32m[I 2023-08-30 16:20:51,092]\u001b[0m Trial 17 finished with value: -29.294164254541336 and parameters: {'C': 30.63054638881869, 'epsilon': 0.09275525157321833, 'kernel': 'poly', 'degree': 3}. Best is trial 16 with value: 0.5220379068843217.\u001b[0m\n",
      "\u001b[32m[I 2023-08-30 16:20:51,556]\u001b[0m Trial 18 finished with value: 0.5208333378604849 and parameters: {'C': 1.545411846357941, 'epsilon': 0.04834560910903697, 'kernel': 'rbf', 'degree': 4}. Best is trial 16 with value: 0.5220379068843217.\u001b[0m\n",
      "\u001b[32m[I 2023-08-30 16:20:51,969]\u001b[0m Trial 19 finished with value: 0.5184370041352885 and parameters: {'C': 1.0948495565859855, 'epsilon': 0.053049155403541416, 'kernel': 'rbf', 'degree': 5}. Best is trial 16 with value: 0.5220379068843217.\u001b[0m\n",
      "\u001b[32m[I 2023-08-30 16:20:54,801]\u001b[0m Trial 20 finished with value: -12.594773251804702 and parameters: {'C': 5.73558700512589, 'epsilon': 0.024443450687193575, 'kernel': 'poly', 'degree': 3}. Best is trial 16 with value: 0.5220379068843217.\u001b[0m\n",
      "\u001b[32m[I 2023-08-30 16:20:55,276]\u001b[0m Trial 21 finished with value: 0.5202180750015861 and parameters: {'C': 1.4604549007807104, 'epsilon': 0.04752415099319018, 'kernel': 'rbf', 'degree': 4}. Best is trial 16 with value: 0.5220379068843217.\u001b[0m\n",
      "\u001b[32m[I 2023-08-30 16:20:55,619]\u001b[0m Trial 22 finished with value: 0.5150118447404145 and parameters: {'C': 3.012702481000678, 'epsilon': 0.09578994973747969, 'kernel': 'rbf', 'degree': 4}. Best is trial 16 with value: 0.5220379068843217.\u001b[0m\n",
      "\u001b[32m[I 2023-08-30 16:20:56,090]\u001b[0m Trial 23 finished with value: 0.5016851593306436 and parameters: {'C': 0.31340689213121875, 'epsilon': 0.026085541243171695, 'kernel': 'rbf', 'degree': 4}. Best is trial 16 with value: 0.5220379068843217.\u001b[0m\n",
      "\u001b[32m[I 2023-08-30 16:20:56,507]\u001b[0m Trial 24 finished with value: 0.5216798496069707 and parameters: {'C': 1.305263508932706, 'epsilon': 0.05551721795646766, 'kernel': 'rbf', 'degree': 5}. Best is trial 16 with value: 0.5220379068843217.\u001b[0m\n",
      "\u001b[32m[I 2023-08-30 16:20:56,851]\u001b[0m Trial 25 finished with value: 0.505698697433559 and parameters: {'C': 0.3114394537902857, 'epsilon': 0.06832848979008423, 'kernel': 'rbf', 'degree': 5}. Best is trial 16 with value: 0.5220379068843217.\u001b[0m\n",
      "\u001b[32m[I 2023-08-30 16:20:57,080]\u001b[0m Trial 26 finished with value: 0.4939141156713477 and parameters: {'C': 1.0297649910199387, 'epsilon': 0.1371208987161234, 'kernel': 'rbf', 'degree': 5}. Best is trial 16 with value: 0.5220379068843217.\u001b[0m\n",
      "\u001b[32m[I 2023-08-30 16:20:57,914]\u001b[0m Trial 27 finished with value: 0.4798896338631355 and parameters: {'C': 14.31419445259597, 'epsilon': 0.06153754760727694, 'kernel': 'rbf', 'degree': 5}. Best is trial 16 with value: 0.5220379068843217.\u001b[0m\n",
      "\u001b[32m[I 2023-08-30 16:20:58,204]\u001b[0m Trial 28 finished with value: 0.4842330786274142 and parameters: {'C': 4.268259786203173, 'epsilon': 0.12607472314395698, 'kernel': 'rbf', 'degree': 4}. Best is trial 16 with value: 0.5220379068843217.\u001b[0m\n",
      "\u001b[32m[I 2023-08-30 16:20:58,218]\u001b[0m Trial 29 finished with value: -0.8362142455943806 and parameters: {'C': 0.20111735649145143, 'epsilon': 0.9446764094639843, 'kernel': 'poly', 'degree': 4}. Best is trial 16 with value: 0.5220379068843217.\u001b[0m\n",
      "\u001b[32m[I 2023-08-30 16:20:58,949]\u001b[0m Trial 30 finished with value: -0.42867421298426595 and parameters: {'C': 0.49009959272472686, 'epsilon': 0.02212682747193398, 'kernel': 'poly', 'degree': 5}. Best is trial 16 with value: 0.5220379068843217.\u001b[0m\n",
      "\u001b[32m[I 2023-08-30 16:20:59,455]\u001b[0m Trial 31 finished with value: 0.5218533208129165 and parameters: {'C': 1.9175715541723262, 'epsilon': 0.042023297893216766, 'kernel': 'rbf', 'degree': 4}. Best is trial 16 with value: 0.5220379068843217.\u001b[0m\n",
      "\u001b[32m[I 2023-08-30 16:20:59,936]\u001b[0m Trial 32 finished with value: 0.520030882549786 and parameters: {'C': 1.5311278755281974, 'epsilon': 0.0420925440750988, 'kernel': 'rbf', 'degree': 3}. Best is trial 16 with value: 0.5220379068843217.\u001b[0m\n",
      "\u001b[32m[I 2023-08-30 16:21:00,264]\u001b[0m Trial 33 finished with value: 0.520881612759126 and parameters: {'C': 1.135874471388513, 'epsilon': 0.08260653615210689, 'kernel': 'rbf', 'degree': 4}. Best is trial 16 with value: 0.5220379068843217.\u001b[0m\n",
      "\u001b[32m[I 2023-08-30 16:21:01,209]\u001b[0m Trial 34 finished with value: 0.25456471103518474 and parameters: {'C': 0.6476460341147874, 'epsilon': 0.07534888601425191, 'kernel': 'linear', 'degree': 3}. Best is trial 16 with value: 0.5220379068843217.\u001b[0m\n",
      "\u001b[32m[I 2023-08-30 16:21:01,498]\u001b[0m Trial 35 finished with value: 0.4557207459011222 and parameters: {'C': 0.10272198279252585, 'epsilon': 0.08661810042350646, 'kernel': 'rbf', 'degree': 4}. Best is trial 16 with value: 0.5220379068843217.\u001b[0m\n",
      "\u001b[32m[I 2023-08-30 16:21:03,712]\u001b[0m Trial 36 finished with value: 0.26131875442956093 and parameters: {'C': 3.0771051008272483, 'epsilon': 0.12580589697330943, 'kernel': 'linear', 'degree': 3}. Best is trial 16 with value: 0.5220379068843217.\u001b[0m\n",
      "\u001b[32m[I 2023-08-30 16:21:04,208]\u001b[0m Trial 37 finished with value: 0.5164311555751249 and parameters: {'C': 1.0369260523892523, 'epsilon': 0.03145389755493649, 'kernel': 'rbf', 'degree': 5}. Best is trial 16 with value: 0.5220379068843217.\u001b[0m\n",
      "\u001b[32m[I 2023-08-30 16:21:05,169]\u001b[0m Trial 38 finished with value: 0.2508942749362459 and parameters: {'C': 0.42137026625194407, 'epsilon': 0.019967887231315644, 'kernel': 'linear', 'degree': 3}. Best is trial 16 with value: 0.5220379068843217.\u001b[0m\n",
      "\u001b[32m[I 2023-08-30 16:21:05,542]\u001b[0m Trial 39 finished with value: 0.5168848389016505 and parameters: {'C': 0.7619954498205355, 'epsilon': 0.06106025072310668, 'kernel': 'rbf', 'degree': 4}. Best is trial 16 with value: 0.5220379068843217.\u001b[0m\n",
      "\u001b[32m[I 2023-08-30 16:21:05,556]\u001b[0m Trial 40 finished with value: -0.8362142455943806 and parameters: {'C': 2.545517402073232, 'epsilon': 0.5005716357668597, 'kernel': 'rbf', 'degree': 2}. Best is trial 16 with value: 0.5220379068843217.\u001b[0m\n",
      "\u001b[32m[I 2023-08-30 16:21:06,000]\u001b[0m Trial 41 finished with value: 0.5189454601914822 and parameters: {'C': 1.3030240577809302, 'epsilon': 0.0475654108809445, 'kernel': 'rbf', 'degree': 4}. Best is trial 16 with value: 0.5220379068843217.\u001b[0m\n",
      "\u001b[32m[I 2023-08-30 16:21:06,570]\u001b[0m Trial 42 finished with value: 0.5204246710165251 and parameters: {'C': 4.424107088634986, 'epsilon': 0.055584453476407614, 'kernel': 'rbf', 'degree': 4}. Best is trial 16 with value: 0.5220379068843217.\u001b[0m\n",
      "\u001b[32m[I 2023-08-30 16:21:07,127]\u001b[0m Trial 43 finished with value: 0.5185172389919573 and parameters: {'C': 1.5490628122707923, 'epsilon': 0.030089817554906275, 'kernel': 'rbf', 'degree': 4}. Best is trial 16 with value: 0.5220379068843217.\u001b[0m\n",
      "\u001b[32m[I 2023-08-30 16:21:07,449]\u001b[0m Trial 44 finished with value: 0.5203778200971573 and parameters: {'C': 0.8772748551142094, 'epsilon': 0.07864170528748339, 'kernel': 'rbf', 'degree': 1}. Best is trial 16 with value: 0.5220379068843217.\u001b[0m\n",
      "\u001b[32m[I 2023-08-30 16:21:07,957]\u001b[0m Trial 45 finished with value: 0.5218922584885208 and parameters: {'C': 1.8746619463714864, 'epsilon': 0.04298186933404004, 'kernel': 'rbf', 'degree': 5}. Best is trial 16 with value: 0.5220379068843217.\u001b[0m\n",
      "\u001b[32m[I 2023-08-30 16:21:10,762]\u001b[0m Trial 46 finished with value: 0.2548471632781565 and parameters: {'C': 2.4238906937048577, 'epsilon': 0.04137826715700575, 'kernel': 'linear', 'degree': 5}. Best is trial 16 with value: 0.5220379068843217.\u001b[0m\n",
      "\u001b[32m[I 2023-08-30 16:21:11,085]\u001b[0m Trial 47 finished with value: 0.5007085437812793 and parameters: {'C': 4.031447532305728, 'epsilon': 0.11056047723356445, 'kernel': 'rbf', 'degree': 5}. Best is trial 16 with value: 0.5220379068843217.\u001b[0m\n",
      "\u001b[32m[I 2023-08-30 16:21:11,619]\u001b[0m Trial 48 finished with value: 0.5109135699700813 and parameters: {'C': 0.6923914219954282, 'epsilon': 0.018021325684709728, 'kernel': 'rbf', 'degree': 5}. Best is trial 16 with value: 0.5220379068843217.\u001b[0m\n",
      "\u001b[32m[I 2023-08-30 16:21:12,200]\u001b[0m Trial 49 finished with value: -0.5148002086412348 and parameters: {'C': 7.352626030271181, 'epsilon': 0.15723089221153883, 'kernel': 'poly', 'degree': 5}. Best is trial 16 with value: 0.5220379068843217.\u001b[0m\n",
      "\u001b[32m[I 2023-08-30 16:21:12,375]\u001b[0m Trial 50 finished with value: 0.44686862528511373 and parameters: {'C': 1.9396250677390925, 'epsilon': 0.20443920927684425, 'kernel': 'rbf', 'degree': 5}. Best is trial 16 with value: 0.5220379068843217.\u001b[0m\n",
      "\u001b[32m[I 2023-08-30 16:21:12,815]\u001b[0m Trial 51 finished with value: 0.5184890591524857 and parameters: {'C': 1.2685392831766358, 'epsilon': 0.047279116752859125, 'kernel': 'rbf', 'degree': 4}. Best is trial 16 with value: 0.5220379068843217.\u001b[0m\n",
      "\u001b[32m[I 2023-08-30 16:21:13,198]\u001b[0m Trial 52 finished with value: 0.5241585213673541 and parameters: {'C': 1.7667699562659893, 'epsilon': 0.06897139180228096, 'kernel': 'rbf', 'degree': 3}. Best is trial 52 with value: 0.5241585213673541.\u001b[0m\n",
      "\u001b[32m[I 2023-08-30 16:21:13,607]\u001b[0m Trial 53 finished with value: 0.5248157323415252 and parameters: {'C': 1.870769661548971, 'epsilon': 0.06345263274293972, 'kernel': 'rbf', 'degree': 3}. Best is trial 53 with value: 0.5248157323415252.\u001b[0m\n",
      "\u001b[32m[I 2023-08-30 16:21:14,048]\u001b[0m Trial 54 finished with value: 0.5220100659078347 and parameters: {'C': 2.5001993636184525, 'epsilon': 0.06281632687415672, 'kernel': 'rbf', 'degree': 3}. Best is trial 53 with value: 0.5248157323415252.\u001b[0m\n",
      "\u001b[32m[I 2023-08-30 16:21:14,608]\u001b[0m Trial 55 finished with value: 0.514403834553135 and parameters: {'C': 5.639393423248845, 'epsilon': 0.06477315865943173, 'kernel': 'rbf', 'degree': 3}. Best is trial 53 with value: 0.5248157323415252.\u001b[0m\n",
      "\u001b[32m[I 2023-08-30 16:21:15,239]\u001b[0m Trial 56 finished with value: 0.5188440021326417 and parameters: {'C': 3.253275321000063, 'epsilon': 0.03452754989341723, 'kernel': 'rbf', 'degree': 2}. Best is trial 53 with value: 0.5248157323415252.\u001b[0m\n",
      "\u001b[32m[I 2023-08-30 16:21:15,802]\u001b[0m Trial 57 finished with value: 0.5177718219630485 and parameters: {'C': 1.894238810943403, 'epsilon': 0.029202254794507616, 'kernel': 'rbf', 'degree': 3}. Best is trial 53 with value: 0.5248157323415252.\u001b[0m\n",
      "\u001b[32m[I 2023-08-30 16:21:16,840]\u001b[0m Trial 58 finished with value: 0.3446148176811762 and parameters: {'C': 66.63093065856289, 'epsilon': 0.10311163282216902, 'kernel': 'rbf', 'degree': 3}. Best is trial 53 with value: 0.5248157323415252.\u001b[0m\n",
      "\u001b[32m[I 2023-08-30 16:21:17,578]\u001b[0m Trial 59 finished with value: 0.4997896064378168 and parameters: {'C': 2.540884328119858, 'epsilon': 0.010444463120272968, 'kernel': 'rbf', 'degree': 2}. Best is trial 53 with value: 0.5248157323415252.\u001b[0m\n",
      "\u001b[32m[I 2023-08-30 16:21:19,258]\u001b[0m Trial 60 finished with value: -6.965242718624739 and parameters: {'C': 3.7368927435619432, 'epsilon': 0.040257864488814424, 'kernel': 'poly', 'degree': 3}. Best is trial 53 with value: 0.5248157323415252.\u001b[0m\n",
      "\u001b[32m[I 2023-08-30 16:21:19,693]\u001b[0m Trial 61 finished with value: 0.523451680236473 and parameters: {'C': 1.7453195000758632, 'epsilon': 0.05485599628139312, 'kernel': 'rbf', 'degree': 3}. Best is trial 53 with value: 0.5248157323415252.\u001b[0m\n",
      "\u001b[32m[I 2023-08-30 16:21:20,069]\u001b[0m Trial 62 finished with value: 0.5231380083740546 and parameters: {'C': 1.8609954321971558, 'epsilon': 0.07312992630135266, 'kernel': 'rbf', 'degree': 3}. Best is trial 53 with value: 0.5248157323415252.\u001b[0m\n",
      "\u001b[32m[I 2023-08-30 16:21:20,586]\u001b[0m Trial 63 finished with value: 0.5103407099219253 and parameters: {'C': 5.772661621264135, 'epsilon': 0.07319483324772842, 'kernel': 'rbf', 'degree': 3}. Best is trial 53 with value: 0.5248157323415252.\u001b[0m\n",
      "\u001b[32m[I 2023-08-30 16:21:20,973]\u001b[0m Trial 64 finished with value: 0.5172628078896515 and parameters: {'C': 0.9089355567526284, 'epsilon': 0.05699160573487333, 'kernel': 'rbf', 'degree': 3}. Best is trial 53 with value: 0.5248157323415252.\u001b[0m\n",
      "\u001b[32m[I 2023-08-30 16:21:21,382]\u001b[0m Trial 65 finished with value: 0.5205718377149499 and parameters: {'C': 2.378691691214235, 'epsilon': 0.06977931967658775, 'kernel': 'rbf', 'degree': 3}. Best is trial 53 with value: 0.5248157323415252.\u001b[0m\n",
      "\u001b[32m[I 2023-08-30 16:21:21,691]\u001b[0m Trial 66 finished with value: 0.5158702555465295 and parameters: {'C': 1.761732829287458, 'epsilon': 0.09587469991113796, 'kernel': 'rbf', 'degree': 2}. Best is trial 53 with value: 0.5248157323415252.\u001b[0m\n",
      "\u001b[32m[I 2023-08-30 16:21:22,215]\u001b[0m Trial 67 finished with value: 0.5239258513915466 and parameters: {'C': 3.022046232948066, 'epsilon': 0.0508321478152121, 'kernel': 'rbf', 'degree': 3}. Best is trial 53 with value: 0.5248157323415252.\u001b[0m\n",
      "\u001b[32m[I 2023-08-30 16:21:25,389]\u001b[0m Trial 68 finished with value: 0.2540437655738974 and parameters: {'C': 3.002687354528769, 'epsilon': 0.05064136254966516, 'kernel': 'linear', 'degree': 3}. Best is trial 53 with value: 0.5248157323415252.\u001b[0m\n",
      "\u001b[32m[I 2023-08-30 16:21:25,723]\u001b[0m Trial 69 finished with value: 0.4924773209745469 and parameters: {'C': 5.10257564397333, 'epsilon': 0.11253256566154579, 'kernel': 'rbf', 'degree': 3}. Best is trial 53 with value: 0.5248157323415252.\u001b[0m\n",
      "\u001b[32m[I 2023-08-30 16:21:26,295]\u001b[0m Trial 70 finished with value: 0.492412751982644 and parameters: {'C': 9.234859499154517, 'epsilon': 0.07869084442119045, 'kernel': 'rbf', 'degree': 3}. Best is trial 53 with value: 0.5248157323415252.\u001b[0m\n",
      "\u001b[32m[I 2023-08-30 16:21:26,717]\u001b[0m Trial 71 finished with value: 0.5230233453126203 and parameters: {'C': 2.2732171656428304, 'epsilon': 0.06464667267320026, 'kernel': 'rbf', 'degree': 3}. Best is trial 53 with value: 0.5248157323415252.\u001b[0m\n",
      "\u001b[32m[I 2023-08-30 16:21:27,161]\u001b[0m Trial 72 finished with value: 0.5207372801162512 and parameters: {'C': 2.7263757275001783, 'epsilon': 0.0639701178677505, 'kernel': 'rbf', 'degree': 3}. Best is trial 53 with value: 0.5248157323415252.\u001b[0m\n",
      "\u001b[32m[I 2023-08-30 16:21:27,479]\u001b[0m Trial 73 finished with value: 0.521118957892378 and parameters: {'C': 1.47271858089683, 'epsilon': 0.08805398909977533, 'kernel': 'rbf', 'degree': 3}. Best is trial 53 with value: 0.5248157323415252.\u001b[0m\n",
      "\u001b[32m[I 2023-08-30 16:21:27,942]\u001b[0m Trial 74 finished with value: 0.5250651393290259 and parameters: {'C': 2.2681494917597163, 'epsilon': 0.054768486354324755, 'kernel': 'rbf', 'degree': 3}. Best is trial 74 with value: 0.5250651393290259.\u001b[0m\n",
      "\u001b[32m[I 2023-08-30 16:21:28,472]\u001b[0m Trial 75 finished with value: 0.5218731875139729 and parameters: {'C': 3.53213355638927, 'epsilon': 0.0538012362872779, 'kernel': 'rbf', 'degree': 3}. Best is trial 74 with value: 0.5250651393290259.\u001b[0m\n",
      "\u001b[32m[I 2023-08-30 16:21:29,210]\u001b[0m Trial 76 finished with value: -2.0548947722996878 and parameters: {'C': 1.1772027246314873, 'epsilon': 0.035367723009227345, 'kernel': 'poly', 'degree': 3}. Best is trial 74 with value: 0.5250651393290259.\u001b[0m\n",
      "\u001b[32m[I 2023-08-30 16:21:29,667]\u001b[0m Trial 77 finished with value: 0.5207849024153595 and parameters: {'C': 1.6081412872290732, 'epsilon': 0.04785015225416564, 'kernel': 'rbf', 'degree': 2}. Best is trial 74 with value: 0.5250651393290259.\u001b[0m\n",
      "\u001b[32m[I 2023-08-30 16:21:30,114]\u001b[0m Trial 78 finished with value: 0.5253452925607937 and parameters: {'C': 2.07815338899397, 'epsilon': 0.056564344171193756, 'kernel': 'rbf', 'degree': 3}. Best is trial 78 with value: 0.5253452925607937.\u001b[0m\n",
      "\u001b[32m[I 2023-08-30 16:21:30,506]\u001b[0m Trial 79 finished with value: 0.5206738657700225 and parameters: {'C': 2.2081898357091947, 'epsilon': 0.07205037627349721, 'kernel': 'rbf', 'degree': 3}. Best is trial 78 with value: 0.5253452925607937.\u001b[0m\n",
      "\u001b[32m[I 2023-08-30 16:21:30,927]\u001b[0m Trial 80 finished with value: 0.5114369484499496 and parameters: {'C': 4.750065250373847, 'epsilon': 0.08561204424631769, 'kernel': 'rbf', 'degree': 3}. Best is trial 78 with value: 0.5253452925607937.\u001b[0m\n",
      "\u001b[32m[I 2023-08-30 16:21:31,317]\u001b[0m Trial 81 finished with value: 0.5181450166609924 and parameters: {'C': 0.9811583587796704, 'epsilon': 0.05672276255392305, 'kernel': 'rbf', 'degree': 3}. Best is trial 78 with value: 0.5253452925607937.\u001b[0m\n",
      "\u001b[32m[I 2023-08-30 16:21:31,918]\u001b[0m Trial 82 finished with value: 0.5146217030079213 and parameters: {'C': 2.162471864325579, 'epsilon': 0.026483134478483626, 'kernel': 'rbf', 'degree': 3}. Best is trial 78 with value: 0.5253452925607937.\u001b[0m\n",
      "\u001b[32m[I 2023-08-30 16:21:32,363]\u001b[0m Trial 83 finished with value: 0.5191805466387418 and parameters: {'C': 1.3530345228204697, 'epsilon': 0.04675021792818972, 'kernel': 'rbf', 'degree': 3}. Best is trial 78 with value: 0.5253452925607937.\u001b[0m\n",
      "\u001b[32m[I 2023-08-30 16:21:32,952]\u001b[0m Trial 84 finished with value: 0.520901880935941 and parameters: {'C': 3.031101906653393, 'epsilon': 0.03805213147900896, 'kernel': 'rbf', 'degree': 3}. Best is trial 78 with value: 0.5253452925607937.\u001b[0m\n",
      "\u001b[32m[I 2023-08-30 16:21:33,371]\u001b[0m Trial 85 finished with value: 0.5247077646773489 and parameters: {'C': 1.7885544742320054, 'epsilon': 0.0591244358679241, 'kernel': 'rbf', 'degree': 3}. Best is trial 78 with value: 0.5253452925607937.\u001b[0m\n",
      "\u001b[32m[I 2023-08-30 16:21:37,008]\u001b[0m Trial 86 finished with value: 0.253375143320533 and parameters: {'C': 3.7935717649882017, 'epsilon': 0.06821665415222211, 'kernel': 'linear', 'degree': 2}. Best is trial 78 with value: 0.5253452925607937.\u001b[0m\n",
      "\u001b[32m[I 2023-08-30 16:21:37,412]\u001b[0m Trial 87 finished with value: 0.5237793380163666 and parameters: {'C': 1.5813183921607086, 'epsilon': 0.06112695382778012, 'kernel': 'rbf', 'degree': 3}. Best is trial 78 with value: 0.5253452925607937.\u001b[0m\n",
      "\u001b[32m[I 2023-08-30 16:21:37,834]\u001b[0m Trial 88 finished with value: 0.5234329001171849 and parameters: {'C': 1.6548887905791188, 'epsilon': 0.057543066617338566, 'kernel': 'rbf', 'degree': 3}. Best is trial 78 with value: 0.5253452925607937.\u001b[0m\n",
      "\u001b[32m[I 2023-08-30 16:21:38,222]\u001b[0m Trial 89 finished with value: 0.5147233820813034 and parameters: {'C': 0.5670822720639106, 'epsilon': 0.05290347330132519, 'kernel': 'rbf', 'degree': 3}. Best is trial 78 with value: 0.5253452925607937.\u001b[0m\n",
      "\u001b[32m[I 2023-08-30 16:21:38,648]\u001b[0m Trial 90 finished with value: 0.5135819831250343 and parameters: {'C': 0.7653268995013827, 'epsilon': 0.044111317422561025, 'kernel': 'rbf', 'degree': 3}. Best is trial 78 with value: 0.5253452925607937.\u001b[0m\n",
      "\u001b[32m[I 2023-08-30 16:21:39,003]\u001b[0m Trial 91 finished with value: 0.5235085376866735 and parameters: {'C': 1.7574459670320781, 'epsilon': 0.07759020112330553, 'kernel': 'rbf', 'degree': 3}. Best is trial 78 with value: 0.5253452925607937.\u001b[0m\n",
      "\u001b[32m[I 2023-08-30 16:21:39,398]\u001b[0m Trial 92 finished with value: 0.5205268856328467 and parameters: {'C': 1.1629228890023915, 'epsilon': 0.057849484702055635, 'kernel': 'rbf', 'degree': 3}. Best is trial 78 with value: 0.5253452925607937.\u001b[0m\n",
      "\u001b[32m[I 2023-08-30 16:21:39,736]\u001b[0m Trial 93 finished with value: 0.5224224611865498 and parameters: {'C': 1.6873268612720433, 'epsilon': 0.08277636742642423, 'kernel': 'rbf', 'degree': 3}. Best is trial 78 with value: 0.5253452925607937.\u001b[0m\n",
      "\u001b[32m[I 2023-08-30 16:21:40,030]\u001b[0m Trial 94 finished with value: 0.5134797663725017 and parameters: {'C': 1.3811879660199358, 'epsilon': 0.099021518992383, 'kernel': 'rbf', 'degree': 3}. Best is trial 78 with value: 0.5253452925607937.\u001b[0m\n",
      "\u001b[32m[I 2023-08-30 16:21:40,613]\u001b[0m Trial 95 finished with value: 0.5213953512090039 and parameters: {'C': 2.7905270139587235, 'epsilon': 0.03795672744165338, 'kernel': 'rbf', 'degree': 3}. Best is trial 78 with value: 0.5253452925607937.\u001b[0m\n",
      "\u001b[32m[I 2023-08-30 16:21:41,436]\u001b[0m Trial 96 finished with value: -2.9482741290339773 and parameters: {'C': 2.0864955682874236, 'epsilon': 0.0599132008179602, 'kernel': 'poly', 'degree': 3}. Best is trial 78 with value: 0.5253452925607937.\u001b[0m\n",
      "\u001b[32m[I 2023-08-30 16:21:41,846]\u001b[0m Trial 97 finished with value: 0.5167326248906616 and parameters: {'C': 1.0085618567477947, 'epsilon': 0.051788352211338276, 'kernel': 'rbf', 'degree': 3}. Best is trial 78 with value: 0.5253452925607937.\u001b[0m\n",
      "\u001b[32m[I 2023-08-30 16:21:42,199]\u001b[0m Trial 98 finished with value: 0.5238609724363872 and parameters: {'C': 1.6649307711730987, 'epsilon': 0.07723430006637289, 'kernel': 'rbf', 'degree': 3}. Best is trial 78 with value: 0.5253452925607937.\u001b[0m\n",
      "\u001b[32m[I 2023-08-30 16:21:42,479]\u001b[0m Trial 99 finished with value: 0.4950930418742977 and parameters: {'C': 3.323508645708295, 'epsilon': 0.12297467219492399, 'kernel': 'rbf', 'degree': 2}. Best is trial 78 with value: 0.5253452925607937.\u001b[0m\n"
     ]
    },
    {
     "name": "stdout",
     "output_type": "stream",
     "text": [
      "Best r2:  0.5253452925607937\n",
      "Best trial: {'C': 2.07815338899397, 'epsilon': 0.056564344171193756, 'kernel': 'rbf', 'degree': 3}\n"
     ]
    }
   ],
   "source": [
    "sampler = TPESampler()\n",
    "study = optuna.create_study(\n",
    "    study_name=\"svm_parameter_opt\",\n",
    "    direction=\"maximize\",\n",
    "    sampler=sampler,\n",
    ")\n",
    "\n",
    "study.optimize(lambda trial : objectiveSVM(trial, Cd_X_train, Cd_y_train), n_trials=100)\n",
    "print(\"Best r2: \", study.best_value)\n",
    "print(\"Best trial:\", study.best_trial.params)"
   ]
  },
  {
   "cell_type": "code",
   "execution_count": 26,
   "id": "861f88d8",
   "metadata": {},
   "outputs": [
    {
     "data": {
      "application/vnd.plotly.v1+json": {
       "config": {
        "plotlyServerURL": "https://plot.ly"
       },
       "data": [
        {
         "dimensions": [
          {
           "label": "Objective Value",
           "range": [
            -29.294164254541336,
            0.5253452925607937
           ],
           "values": [
            -0.8362142455943806,
            0.25572532349845956,
            0.1807316617155341,
            0.24037066380547184,
            0.5028883197575256,
            -0.06424856864059843,
            0.16519883218018674,
            0.2559358323563151,
            0.46242317351101353,
            -0.3596161261289012,
            0.4784690954539732,
            0.4725605360956154,
            0.43394628129086527,
            0.5190129621010466,
            0.5200335594463226,
            0.520810018345818,
            0.5220379068843217,
            -29.294164254541336,
            0.5208333378604849,
            0.5184370041352885,
            -12.594773251804702,
            0.5202180750015861,
            0.5150118447404145,
            0.5016851593306436,
            0.5216798496069707,
            0.505698697433559,
            0.4939141156713477,
            0.4798896338631355,
            0.4842330786274142,
            -0.8362142455943806,
            -0.42867421298426595,
            0.5218533208129165,
            0.520030882549786,
            0.520881612759126,
            0.25456471103518474,
            0.4557207459011222,
            0.26131875442956093,
            0.5164311555751249,
            0.2508942749362459,
            0.5168848389016505,
            -0.8362142455943806,
            0.5189454601914822,
            0.5204246710165251,
            0.5185172389919573,
            0.5203778200971573,
            0.5218922584885208,
            0.2548471632781565,
            0.5007085437812793,
            0.5109135699700813,
            -0.5148002086412348,
            0.44686862528511373,
            0.5184890591524857,
            0.5241585213673541,
            0.5248157323415252,
            0.5220100659078347,
            0.514403834553135,
            0.5188440021326417,
            0.5177718219630485,
            0.3446148176811762,
            0.4997896064378168,
            -6.965242718624739,
            0.523451680236473,
            0.5231380083740546,
            0.5103407099219253,
            0.5172628078896515,
            0.5205718377149499,
            0.5158702555465295,
            0.5239258513915466,
            0.2540437655738974,
            0.4924773209745469,
            0.492412751982644,
            0.5230233453126203,
            0.5207372801162512,
            0.521118957892378,
            0.5250651393290259,
            0.5218731875139729,
            -2.0548947722996878,
            0.5207849024153595,
            0.5253452925607937,
            0.5206738657700225,
            0.5114369484499496,
            0.5181450166609924,
            0.5146217030079213,
            0.5191805466387418,
            0.520901880935941,
            0.5247077646773489,
            0.253375143320533,
            0.5237793380163666,
            0.5234329001171849,
            0.5147233820813034,
            0.5135819831250343,
            0.5235085376866735,
            0.5205268856328467,
            0.5224224611865498,
            0.5134797663725017,
            0.5213953512090039,
            -2.9482741290339773,
            0.5167326248906616,
            0.5238609724363872,
            0.4950930418742977
           ]
          },
          {
           "label": "C",
           "range": [
            -0.9883366062189346,
            1.9733375042871406
           ],
           "ticktext": [
            "0.103",
            "1",
            "10",
            "94"
           ],
           "tickvals": [
            -0.9883366062189346,
            0,
            1,
            1.9733375042871406
           ],
           "values": [
            -0.776508176491203,
            -0.26611341417199164,
            -0.5499768195165279,
            -0.8753907558275761,
            0.4839567698636066,
            -0.14239815286994292,
            -0.07649389865993186,
            1.9733375042871406,
            0.6364777870709099,
            -0.2728182943463632,
            0.8950595169802986,
            0.958423322133178,
            1.2450552108528388,
            0.31889848734044096,
            0.28455474426996535,
            0.32200322539235304,
            0.2142628085250347,
            1.48615474383669,
            0.18904423700708523,
            0.03935444681695477,
            0.7585778721136758,
            0.164488150392425,
            0.4789562451019808,
            -0.5038914571921105,
            0.11569819667269443,
            -0.5066263709649295,
            0.012738123007525934,
            1.1557669126345123,
            0.6302508447451582,
            -0.6965504480348109,
            -0.3097156583881605,
            0.28275157861966194,
            0.18501146327638732,
            0.055330338949334076,
            -0.18866228954884484,
            -0.9883366062189346,
            0.4881423301537938,
            0.015747786105144605,
            -0.3753361133845456,
            -0.11804762199863204,
            0.4057760703769103,
            0.11495243418154236,
            0.6458256308283699,
            0.19006902813333826,
            -0.056864318426284616,
            0.2729229637639771,
            0.38451303125696895,
            0.6054610120013328,
            -0.15964832121710582,
            0.8664424774201445,
            0.28771778830717565,
            0.10330392067299109,
            0.24718000551796185,
            0.27202031829830764,
            0.39797464029895313,
            0.7512323935041089,
            0.5123208186865211,
            0.27743473060015716,
            1.8236758792602679,
            0.40498489456524134,
            0.5725106328917373,
            0.24187494099068624,
            0.2697453071587067,
            0.7613761010072418,
            -0.04146690702979608,
            0.3763381555801952,
            0.2459400473428278,
            0.48030110413293337,
            0.4775101149923385,
            0.7077894517059321,
            0.9654302923906545,
            0.35664092685351817,
            0.4355857066474707,
            0.1681197662315343,
            0.35567167513566783,
            0.548037116679674,
            0.07085125860175853,
            0.2063242021042186,
            0.31767759978282084,
            0.34403640649241174,
            0.6766995754527967,
            -0.008260891912824293,
            0.33495046561771363,
            0.1313088778091183,
            0.48160053773788075,
            0.25250217204891734,
            0.5790483042544594,
            0.19901932220095403,
            0.21876881426847367,
            -0.24635392927044983,
            -0.1161530219381409,
            0.24488198144119752,
            0.06555091851948891,
            0.22719922028714704,
            0.14025278578376987,
            0.4456862311015312,
            0.31941746660806253,
            0.0037025393563311117,
            0.2213961799909404,
            0.5215968128765266
           ]
          },
          {
           "label": "degree",
           "range": [
            1,
            5
           ],
           "values": [
            4,
            2,
            1,
            3,
            3,
            2,
            2,
            1,
            4,
            2,
            5,
            5,
            5,
            4,
            4,
            4,
            4,
            3,
            4,
            5,
            3,
            4,
            4,
            4,
            5,
            5,
            5,
            5,
            4,
            4,
            5,
            4,
            3,
            4,
            3,
            4,
            3,
            5,
            3,
            4,
            2,
            4,
            4,
            4,
            1,
            5,
            5,
            5,
            5,
            5,
            5,
            4,
            3,
            3,
            3,
            3,
            2,
            3,
            3,
            2,
            3,
            3,
            3,
            3,
            3,
            3,
            2,
            3,
            3,
            3,
            3,
            3,
            3,
            3,
            3,
            3,
            3,
            2,
            3,
            3,
            3,
            3,
            3,
            3,
            3,
            3,
            2,
            3,
            3,
            3,
            3,
            3,
            3,
            3,
            3,
            3,
            3,
            3,
            3,
            2
           ]
          },
          {
           "label": "epsilon",
           "range": [
            -1.9811138792734753,
            -0.02471692974545361
           ],
           "ticktext": [
            "0.0104",
            "0.1",
            "0.945"
           ],
           "tickvals": [
            -1.9811138792734753,
            -1,
            -0.02471692974545361
           ],
           "values": [
            -0.1153400853968809,
            -1.148292955739276,
            -0.611305567811245,
            -0.687454812990283,
            -1.7521775093387828,
            -0.4660781016466615,
            -0.5987042712003909,
            -0.760577500453555,
            -0.7642655438496484,
            -0.39603503852538047,
            -1.8588864075420064,
            -1.8890307247010945,
            -1.8626776550009636,
            -1.4760972356657007,
            -1.4411518600290725,
            -1.422039662519596,
            -1.2903808077851309,
            -1.032661492336052,
            -1.3156429636970128,
            -1.275321526117048,
            -1.6118374846560748,
            -1.3230856329531266,
            -1.018680054622101,
            -1.5836001477672064,
            -1.2555723050969143,
            -1.1653981780345355,
            -0.862896348963948,
            -1.210859815235931,
            -0.8993719768645163,
            -0.02471692974545361,
            -1.6550808504289474,
            -1.3765098681455745,
            -1.3757948246823208,
            -1.0829855882427075,
            -1.1229231640718393,
            -1.062391344788064,
            -0.9002990014746519,
            -1.5023255320398778,
            -1.6996678846697273,
            -1.2142414167514388,
            -0.3005337627560286,
            -1.3227087473655388,
            -1.255046660100113,
            -1.5215804455313608,
            -1.1043470777177011,
            -1.3667147004359161,
            -1.3832277007149474,
            -0.956400095336589,
            -1.744213264612369,
            -0.8034621211533429,
            -0.6894358074632659,
            -1.3253306453447038,
            -1.1613310101144116,
            -1.1975503536794374,
            -1.2019274621578835,
            -1.1886049240837742,
            -1.4618342384916025,
            -1.5345836140650653,
            -0.9866923358272046,
            -1.9811138792734753,
            -1.3951492663406064,
            -1.2607758929828614,
            -1.1359048642474603,
            -1.1355195742858175,
            -1.2441891066343334,
            -1.1562732690831525,
            -1.0182959823873259,
            -1.2938615396266693,
            -1.2954946177647912,
            -0.9487217794149646,
            -1.1040757943075243,
            -1.189453823093806,
            -1.1940228490750515,
            -1.055250964457894,
            -1.2614692615734628,
            -1.2692077446575143,
            -1.4513928993698584,
            -1.3201166760054492,
            -1.2474572438871083,
            -1.1423637467989605,
            -1.0674651327322422,
            -1.2462426259789317,
            -1.577030614166377,
            -1.3302163603039843,
            -1.4196210113337426,
            -1.2282329900277718,
            -1.166109585410322,
            -1.2137672461004334,
            -1.2400069971641547,
            -1.2765158140502328,
            -1.3554499714484203,
            -1.1101931223859607,
            -1.237700505200572,
            -1.0820936361772804,
            -1.0042704158660765,
            -1.4207112386920269,
            -1.2224774779318421,
            -1.285767907034004,
            -1.1121897848805247,
            -0.9101843264358431
           ]
          },
          {
           "label": "kernel",
           "range": [
            0,
            2
           ],
           "ticktext": [
            "poly",
            "linear",
            "rbf"
           ],
           "tickvals": [
            0,
            1,
            2
           ],
           "values": [
            0,
            1,
            1,
            1,
            2,
            1,
            1,
            0,
            2,
            2,
            2,
            2,
            2,
            2,
            2,
            2,
            2,
            0,
            2,
            2,
            0,
            2,
            2,
            2,
            2,
            2,
            2,
            2,
            2,
            0,
            0,
            2,
            2,
            2,
            1,
            2,
            1,
            2,
            1,
            2,
            2,
            2,
            2,
            2,
            2,
            2,
            1,
            2,
            2,
            0,
            2,
            2,
            2,
            2,
            2,
            2,
            2,
            2,
            2,
            2,
            0,
            2,
            2,
            2,
            2,
            2,
            2,
            2,
            1,
            2,
            2,
            2,
            2,
            2,
            2,
            2,
            0,
            2,
            2,
            2,
            2,
            2,
            2,
            2,
            2,
            2,
            1,
            2,
            2,
            2,
            2,
            2,
            2,
            2,
            2,
            2,
            0,
            2,
            2,
            2
           ]
          }
         ],
         "labelangle": 30,
         "labelside": "bottom",
         "line": {
          "color": [
           -0.8362142455943806,
           0.25572532349845956,
           0.1807316617155341,
           0.24037066380547184,
           0.5028883197575256,
           -0.06424856864059843,
           0.16519883218018674,
           0.2559358323563151,
           0.46242317351101353,
           -0.3596161261289012,
           0.4784690954539732,
           0.4725605360956154,
           0.43394628129086527,
           0.5190129621010466,
           0.5200335594463226,
           0.520810018345818,
           0.5220379068843217,
           -29.294164254541336,
           0.5208333378604849,
           0.5184370041352885,
           -12.594773251804702,
           0.5202180750015861,
           0.5150118447404145,
           0.5016851593306436,
           0.5216798496069707,
           0.505698697433559,
           0.4939141156713477,
           0.4798896338631355,
           0.4842330786274142,
           -0.8362142455943806,
           -0.42867421298426595,
           0.5218533208129165,
           0.520030882549786,
           0.520881612759126,
           0.25456471103518474,
           0.4557207459011222,
           0.26131875442956093,
           0.5164311555751249,
           0.2508942749362459,
           0.5168848389016505,
           -0.8362142455943806,
           0.5189454601914822,
           0.5204246710165251,
           0.5185172389919573,
           0.5203778200971573,
           0.5218922584885208,
           0.2548471632781565,
           0.5007085437812793,
           0.5109135699700813,
           -0.5148002086412348,
           0.44686862528511373,
           0.5184890591524857,
           0.5241585213673541,
           0.5248157323415252,
           0.5220100659078347,
           0.514403834553135,
           0.5188440021326417,
           0.5177718219630485,
           0.3446148176811762,
           0.4997896064378168,
           -6.965242718624739,
           0.523451680236473,
           0.5231380083740546,
           0.5103407099219253,
           0.5172628078896515,
           0.5205718377149499,
           0.5158702555465295,
           0.5239258513915466,
           0.2540437655738974,
           0.4924773209745469,
           0.492412751982644,
           0.5230233453126203,
           0.5207372801162512,
           0.521118957892378,
           0.5250651393290259,
           0.5218731875139729,
           -2.0548947722996878,
           0.5207849024153595,
           0.5253452925607937,
           0.5206738657700225,
           0.5114369484499496,
           0.5181450166609924,
           0.5146217030079213,
           0.5191805466387418,
           0.520901880935941,
           0.5247077646773489,
           0.253375143320533,
           0.5237793380163666,
           0.5234329001171849,
           0.5147233820813034,
           0.5135819831250343,
           0.5235085376866735,
           0.5205268856328467,
           0.5224224611865498,
           0.5134797663725017,
           0.5213953512090039,
           -2.9482741290339773,
           0.5167326248906616,
           0.5238609724363872,
           0.4950930418742977
          ],
          "colorbar": {
           "title": {
            "text": "Objective Value"
           }
          },
          "colorscale": [
           [
            0,
            "rgb(247,251,255)"
           ],
           [
            0.125,
            "rgb(222,235,247)"
           ],
           [
            0.25,
            "rgb(198,219,239)"
           ],
           [
            0.375,
            "rgb(158,202,225)"
           ],
           [
            0.5,
            "rgb(107,174,214)"
           ],
           [
            0.625,
            "rgb(66,146,198)"
           ],
           [
            0.75,
            "rgb(33,113,181)"
           ],
           [
            0.875,
            "rgb(8,81,156)"
           ],
           [
            1,
            "rgb(8,48,107)"
           ]
          ],
          "reversescale": false,
          "showscale": true
         },
         "type": "parcoords"
        }
       ],
       "layout": {
        "template": {
         "data": {
          "bar": [
           {
            "error_x": {
             "color": "#2a3f5f"
            },
            "error_y": {
             "color": "#2a3f5f"
            },
            "marker": {
             "line": {
              "color": "#E5ECF6",
              "width": 0.5
             },
             "pattern": {
              "fillmode": "overlay",
              "size": 10,
              "solidity": 0.2
             }
            },
            "type": "bar"
           }
          ],
          "barpolar": [
           {
            "marker": {
             "line": {
              "color": "#E5ECF6",
              "width": 0.5
             },
             "pattern": {
              "fillmode": "overlay",
              "size": 10,
              "solidity": 0.2
             }
            },
            "type": "barpolar"
           }
          ],
          "carpet": [
           {
            "aaxis": {
             "endlinecolor": "#2a3f5f",
             "gridcolor": "white",
             "linecolor": "white",
             "minorgridcolor": "white",
             "startlinecolor": "#2a3f5f"
            },
            "baxis": {
             "endlinecolor": "#2a3f5f",
             "gridcolor": "white",
             "linecolor": "white",
             "minorgridcolor": "white",
             "startlinecolor": "#2a3f5f"
            },
            "type": "carpet"
           }
          ],
          "choropleth": [
           {
            "colorbar": {
             "outlinewidth": 0,
             "ticks": ""
            },
            "type": "choropleth"
           }
          ],
          "contour": [
           {
            "colorbar": {
             "outlinewidth": 0,
             "ticks": ""
            },
            "colorscale": [
             [
              0,
              "#0d0887"
             ],
             [
              0.1111111111111111,
              "#46039f"
             ],
             [
              0.2222222222222222,
              "#7201a8"
             ],
             [
              0.3333333333333333,
              "#9c179e"
             ],
             [
              0.4444444444444444,
              "#bd3786"
             ],
             [
              0.5555555555555556,
              "#d8576b"
             ],
             [
              0.6666666666666666,
              "#ed7953"
             ],
             [
              0.7777777777777778,
              "#fb9f3a"
             ],
             [
              0.8888888888888888,
              "#fdca26"
             ],
             [
              1,
              "#f0f921"
             ]
            ],
            "type": "contour"
           }
          ],
          "contourcarpet": [
           {
            "colorbar": {
             "outlinewidth": 0,
             "ticks": ""
            },
            "type": "contourcarpet"
           }
          ],
          "heatmap": [
           {
            "colorbar": {
             "outlinewidth": 0,
             "ticks": ""
            },
            "colorscale": [
             [
              0,
              "#0d0887"
             ],
             [
              0.1111111111111111,
              "#46039f"
             ],
             [
              0.2222222222222222,
              "#7201a8"
             ],
             [
              0.3333333333333333,
              "#9c179e"
             ],
             [
              0.4444444444444444,
              "#bd3786"
             ],
             [
              0.5555555555555556,
              "#d8576b"
             ],
             [
              0.6666666666666666,
              "#ed7953"
             ],
             [
              0.7777777777777778,
              "#fb9f3a"
             ],
             [
              0.8888888888888888,
              "#fdca26"
             ],
             [
              1,
              "#f0f921"
             ]
            ],
            "type": "heatmap"
           }
          ],
          "heatmapgl": [
           {
            "colorbar": {
             "outlinewidth": 0,
             "ticks": ""
            },
            "colorscale": [
             [
              0,
              "#0d0887"
             ],
             [
              0.1111111111111111,
              "#46039f"
             ],
             [
              0.2222222222222222,
              "#7201a8"
             ],
             [
              0.3333333333333333,
              "#9c179e"
             ],
             [
              0.4444444444444444,
              "#bd3786"
             ],
             [
              0.5555555555555556,
              "#d8576b"
             ],
             [
              0.6666666666666666,
              "#ed7953"
             ],
             [
              0.7777777777777778,
              "#fb9f3a"
             ],
             [
              0.8888888888888888,
              "#fdca26"
             ],
             [
              1,
              "#f0f921"
             ]
            ],
            "type": "heatmapgl"
           }
          ],
          "histogram": [
           {
            "marker": {
             "pattern": {
              "fillmode": "overlay",
              "size": 10,
              "solidity": 0.2
             }
            },
            "type": "histogram"
           }
          ],
          "histogram2d": [
           {
            "colorbar": {
             "outlinewidth": 0,
             "ticks": ""
            },
            "colorscale": [
             [
              0,
              "#0d0887"
             ],
             [
              0.1111111111111111,
              "#46039f"
             ],
             [
              0.2222222222222222,
              "#7201a8"
             ],
             [
              0.3333333333333333,
              "#9c179e"
             ],
             [
              0.4444444444444444,
              "#bd3786"
             ],
             [
              0.5555555555555556,
              "#d8576b"
             ],
             [
              0.6666666666666666,
              "#ed7953"
             ],
             [
              0.7777777777777778,
              "#fb9f3a"
             ],
             [
              0.8888888888888888,
              "#fdca26"
             ],
             [
              1,
              "#f0f921"
             ]
            ],
            "type": "histogram2d"
           }
          ],
          "histogram2dcontour": [
           {
            "colorbar": {
             "outlinewidth": 0,
             "ticks": ""
            },
            "colorscale": [
             [
              0,
              "#0d0887"
             ],
             [
              0.1111111111111111,
              "#46039f"
             ],
             [
              0.2222222222222222,
              "#7201a8"
             ],
             [
              0.3333333333333333,
              "#9c179e"
             ],
             [
              0.4444444444444444,
              "#bd3786"
             ],
             [
              0.5555555555555556,
              "#d8576b"
             ],
             [
              0.6666666666666666,
              "#ed7953"
             ],
             [
              0.7777777777777778,
              "#fb9f3a"
             ],
             [
              0.8888888888888888,
              "#fdca26"
             ],
             [
              1,
              "#f0f921"
             ]
            ],
            "type": "histogram2dcontour"
           }
          ],
          "mesh3d": [
           {
            "colorbar": {
             "outlinewidth": 0,
             "ticks": ""
            },
            "type": "mesh3d"
           }
          ],
          "parcoords": [
           {
            "line": {
             "colorbar": {
              "outlinewidth": 0,
              "ticks": ""
             }
            },
            "type": "parcoords"
           }
          ],
          "pie": [
           {
            "automargin": true,
            "type": "pie"
           }
          ],
          "scatter": [
           {
            "marker": {
             "colorbar": {
              "outlinewidth": 0,
              "ticks": ""
             }
            },
            "type": "scatter"
           }
          ],
          "scatter3d": [
           {
            "line": {
             "colorbar": {
              "outlinewidth": 0,
              "ticks": ""
             }
            },
            "marker": {
             "colorbar": {
              "outlinewidth": 0,
              "ticks": ""
             }
            },
            "type": "scatter3d"
           }
          ],
          "scattercarpet": [
           {
            "marker": {
             "colorbar": {
              "outlinewidth": 0,
              "ticks": ""
             }
            },
            "type": "scattercarpet"
           }
          ],
          "scattergeo": [
           {
            "marker": {
             "colorbar": {
              "outlinewidth": 0,
              "ticks": ""
             }
            },
            "type": "scattergeo"
           }
          ],
          "scattergl": [
           {
            "marker": {
             "colorbar": {
              "outlinewidth": 0,
              "ticks": ""
             }
            },
            "type": "scattergl"
           }
          ],
          "scattermapbox": [
           {
            "marker": {
             "colorbar": {
              "outlinewidth": 0,
              "ticks": ""
             }
            },
            "type": "scattermapbox"
           }
          ],
          "scatterpolar": [
           {
            "marker": {
             "colorbar": {
              "outlinewidth": 0,
              "ticks": ""
             }
            },
            "type": "scatterpolar"
           }
          ],
          "scatterpolargl": [
           {
            "marker": {
             "colorbar": {
              "outlinewidth": 0,
              "ticks": ""
             }
            },
            "type": "scatterpolargl"
           }
          ],
          "scatterternary": [
           {
            "marker": {
             "colorbar": {
              "outlinewidth": 0,
              "ticks": ""
             }
            },
            "type": "scatterternary"
           }
          ],
          "surface": [
           {
            "colorbar": {
             "outlinewidth": 0,
             "ticks": ""
            },
            "colorscale": [
             [
              0,
              "#0d0887"
             ],
             [
              0.1111111111111111,
              "#46039f"
             ],
             [
              0.2222222222222222,
              "#7201a8"
             ],
             [
              0.3333333333333333,
              "#9c179e"
             ],
             [
              0.4444444444444444,
              "#bd3786"
             ],
             [
              0.5555555555555556,
              "#d8576b"
             ],
             [
              0.6666666666666666,
              "#ed7953"
             ],
             [
              0.7777777777777778,
              "#fb9f3a"
             ],
             [
              0.8888888888888888,
              "#fdca26"
             ],
             [
              1,
              "#f0f921"
             ]
            ],
            "type": "surface"
           }
          ],
          "table": [
           {
            "cells": {
             "fill": {
              "color": "#EBF0F8"
             },
             "line": {
              "color": "white"
             }
            },
            "header": {
             "fill": {
              "color": "#C8D4E3"
             },
             "line": {
              "color": "white"
             }
            },
            "type": "table"
           }
          ]
         },
         "layout": {
          "annotationdefaults": {
           "arrowcolor": "#2a3f5f",
           "arrowhead": 0,
           "arrowwidth": 1
          },
          "autotypenumbers": "strict",
          "coloraxis": {
           "colorbar": {
            "outlinewidth": 0,
            "ticks": ""
           }
          },
          "colorscale": {
           "diverging": [
            [
             0,
             "#8e0152"
            ],
            [
             0.1,
             "#c51b7d"
            ],
            [
             0.2,
             "#de77ae"
            ],
            [
             0.3,
             "#f1b6da"
            ],
            [
             0.4,
             "#fde0ef"
            ],
            [
             0.5,
             "#f7f7f7"
            ],
            [
             0.6,
             "#e6f5d0"
            ],
            [
             0.7,
             "#b8e186"
            ],
            [
             0.8,
             "#7fbc41"
            ],
            [
             0.9,
             "#4d9221"
            ],
            [
             1,
             "#276419"
            ]
           ],
           "sequential": [
            [
             0,
             "#0d0887"
            ],
            [
             0.1111111111111111,
             "#46039f"
            ],
            [
             0.2222222222222222,
             "#7201a8"
            ],
            [
             0.3333333333333333,
             "#9c179e"
            ],
            [
             0.4444444444444444,
             "#bd3786"
            ],
            [
             0.5555555555555556,
             "#d8576b"
            ],
            [
             0.6666666666666666,
             "#ed7953"
            ],
            [
             0.7777777777777778,
             "#fb9f3a"
            ],
            [
             0.8888888888888888,
             "#fdca26"
            ],
            [
             1,
             "#f0f921"
            ]
           ],
           "sequentialminus": [
            [
             0,
             "#0d0887"
            ],
            [
             0.1111111111111111,
             "#46039f"
            ],
            [
             0.2222222222222222,
             "#7201a8"
            ],
            [
             0.3333333333333333,
             "#9c179e"
            ],
            [
             0.4444444444444444,
             "#bd3786"
            ],
            [
             0.5555555555555556,
             "#d8576b"
            ],
            [
             0.6666666666666666,
             "#ed7953"
            ],
            [
             0.7777777777777778,
             "#fb9f3a"
            ],
            [
             0.8888888888888888,
             "#fdca26"
            ],
            [
             1,
             "#f0f921"
            ]
           ]
          },
          "colorway": [
           "#636efa",
           "#EF553B",
           "#00cc96",
           "#ab63fa",
           "#FFA15A",
           "#19d3f3",
           "#FF6692",
           "#B6E880",
           "#FF97FF",
           "#FECB52"
          ],
          "font": {
           "color": "#2a3f5f"
          },
          "geo": {
           "bgcolor": "white",
           "lakecolor": "white",
           "landcolor": "#E5ECF6",
           "showlakes": true,
           "showland": true,
           "subunitcolor": "white"
          },
          "hoverlabel": {
           "align": "left"
          },
          "hovermode": "closest",
          "mapbox": {
           "style": "light"
          },
          "paper_bgcolor": "white",
          "plot_bgcolor": "#E5ECF6",
          "polar": {
           "angularaxis": {
            "gridcolor": "white",
            "linecolor": "white",
            "ticks": ""
           },
           "bgcolor": "#E5ECF6",
           "radialaxis": {
            "gridcolor": "white",
            "linecolor": "white",
            "ticks": ""
           }
          },
          "scene": {
           "xaxis": {
            "backgroundcolor": "#E5ECF6",
            "gridcolor": "white",
            "gridwidth": 2,
            "linecolor": "white",
            "showbackground": true,
            "ticks": "",
            "zerolinecolor": "white"
           },
           "yaxis": {
            "backgroundcolor": "#E5ECF6",
            "gridcolor": "white",
            "gridwidth": 2,
            "linecolor": "white",
            "showbackground": true,
            "ticks": "",
            "zerolinecolor": "white"
           },
           "zaxis": {
            "backgroundcolor": "#E5ECF6",
            "gridcolor": "white",
            "gridwidth": 2,
            "linecolor": "white",
            "showbackground": true,
            "ticks": "",
            "zerolinecolor": "white"
           }
          },
          "shapedefaults": {
           "line": {
            "color": "#2a3f5f"
           }
          },
          "ternary": {
           "aaxis": {
            "gridcolor": "white",
            "linecolor": "white",
            "ticks": ""
           },
           "baxis": {
            "gridcolor": "white",
            "linecolor": "white",
            "ticks": ""
           },
           "bgcolor": "#E5ECF6",
           "caxis": {
            "gridcolor": "white",
            "linecolor": "white",
            "ticks": ""
           }
          },
          "title": {
           "x": 0.05
          },
          "xaxis": {
           "automargin": true,
           "gridcolor": "white",
           "linecolor": "white",
           "ticks": "",
           "title": {
            "standoff": 15
           },
           "zerolinecolor": "white",
           "zerolinewidth": 2
          },
          "yaxis": {
           "automargin": true,
           "gridcolor": "white",
           "linecolor": "white",
           "ticks": "",
           "title": {
            "standoff": 15
           },
           "zerolinecolor": "white",
           "zerolinewidth": 2
          }
         }
        },
        "title": {
         "text": "Parallel Coordinate Plot"
        }
       }
      }
     },
     "metadata": {},
     "output_type": "display_data"
    }
   ],
   "source": [
    "optuna.visualization.plot_parallel_coordinate(study)"
   ]
  },
  {
   "cell_type": "code",
   "execution_count": 27,
   "id": "281574d0",
   "metadata": {},
   "outputs": [
    {
     "name": "stdout",
     "output_type": "stream",
     "text": [
      "Best trial: {'C': 2.07815338899397, 'epsilon': 0.056564344171193756, 'kernel': 'rbf', 'degree': 3}\n"
     ]
    }
   ],
   "source": [
    "print(\"Best trial:\", study.best_trial.params)"
   ]
  },
  {
   "cell_type": "code",
   "execution_count": 28,
   "id": "3b45adad",
   "metadata": {},
   "outputs": [
    {
     "data": {
      "text/html": [
       "<style>#sk-container-id-1 {color: black;}#sk-container-id-1 pre{padding: 0;}#sk-container-id-1 div.sk-toggleable {background-color: white;}#sk-container-id-1 label.sk-toggleable__label {cursor: pointer;display: block;width: 100%;margin-bottom: 0;padding: 0.3em;box-sizing: border-box;text-align: center;}#sk-container-id-1 label.sk-toggleable__label-arrow:before {content: \"▸\";float: left;margin-right: 0.25em;color: #696969;}#sk-container-id-1 label.sk-toggleable__label-arrow:hover:before {color: black;}#sk-container-id-1 div.sk-estimator:hover label.sk-toggleable__label-arrow:before {color: black;}#sk-container-id-1 div.sk-toggleable__content {max-height: 0;max-width: 0;overflow: hidden;text-align: left;background-color: #f0f8ff;}#sk-container-id-1 div.sk-toggleable__content pre {margin: 0.2em;color: black;border-radius: 0.25em;background-color: #f0f8ff;}#sk-container-id-1 input.sk-toggleable__control:checked~div.sk-toggleable__content {max-height: 200px;max-width: 100%;overflow: auto;}#sk-container-id-1 input.sk-toggleable__control:checked~label.sk-toggleable__label-arrow:before {content: \"▾\";}#sk-container-id-1 div.sk-estimator input.sk-toggleable__control:checked~label.sk-toggleable__label {background-color: #d4ebff;}#sk-container-id-1 div.sk-label input.sk-toggleable__control:checked~label.sk-toggleable__label {background-color: #d4ebff;}#sk-container-id-1 input.sk-hidden--visually {border: 0;clip: rect(1px 1px 1px 1px);clip: rect(1px, 1px, 1px, 1px);height: 1px;margin: -1px;overflow: hidden;padding: 0;position: absolute;width: 1px;}#sk-container-id-1 div.sk-estimator {font-family: monospace;background-color: #f0f8ff;border: 1px dotted black;border-radius: 0.25em;box-sizing: border-box;margin-bottom: 0.5em;}#sk-container-id-1 div.sk-estimator:hover {background-color: #d4ebff;}#sk-container-id-1 div.sk-parallel-item::after {content: \"\";width: 100%;border-bottom: 1px solid gray;flex-grow: 1;}#sk-container-id-1 div.sk-label:hover label.sk-toggleable__label {background-color: #d4ebff;}#sk-container-id-1 div.sk-serial::before {content: \"\";position: absolute;border-left: 1px solid gray;box-sizing: border-box;top: 0;bottom: 0;left: 50%;z-index: 0;}#sk-container-id-1 div.sk-serial {display: flex;flex-direction: column;align-items: center;background-color: white;padding-right: 0.2em;padding-left: 0.2em;position: relative;}#sk-container-id-1 div.sk-item {position: relative;z-index: 1;}#sk-container-id-1 div.sk-parallel {display: flex;align-items: stretch;justify-content: center;background-color: white;position: relative;}#sk-container-id-1 div.sk-item::before, #sk-container-id-1 div.sk-parallel-item::before {content: \"\";position: absolute;border-left: 1px solid gray;box-sizing: border-box;top: 0;bottom: 0;left: 50%;z-index: -1;}#sk-container-id-1 div.sk-parallel-item {display: flex;flex-direction: column;z-index: 1;position: relative;background-color: white;}#sk-container-id-1 div.sk-parallel-item:first-child::after {align-self: flex-end;width: 50%;}#sk-container-id-1 div.sk-parallel-item:last-child::after {align-self: flex-start;width: 50%;}#sk-container-id-1 div.sk-parallel-item:only-child::after {width: 0;}#sk-container-id-1 div.sk-dashed-wrapped {border: 1px dashed gray;margin: 0 0.4em 0.5em 0.4em;box-sizing: border-box;padding-bottom: 0.4em;background-color: white;}#sk-container-id-1 div.sk-label label {font-family: monospace;font-weight: bold;display: inline-block;line-height: 1.2em;}#sk-container-id-1 div.sk-label-container {text-align: center;}#sk-container-id-1 div.sk-container {/* jupyter's `normalize.less` sets `[hidden] { display: none; }` but bootstrap.min.css set `[hidden] { display: none !important; }` so we also need the `!important` here to be able to override the default hidden behavior on the sphinx rendered scikit-learn.org. See: https://github.com/scikit-learn/scikit-learn/issues/21755 */display: inline-block !important;position: relative;}#sk-container-id-1 div.sk-text-repr-fallback {display: none;}</style><div id=\"sk-container-id-1\" class=\"sk-top-container\"><div class=\"sk-text-repr-fallback\"><pre>SVR(C=2.07815338899397, epsilon=0.056564344171193756)</pre><b>In a Jupyter environment, please rerun this cell to show the HTML representation or trust the notebook. <br />On GitHub, the HTML representation is unable to render, please try loading this page with nbviewer.org.</b></div><div class=\"sk-container\" hidden><div class=\"sk-item\"><div class=\"sk-estimator sk-toggleable\"><input class=\"sk-toggleable__control sk-hidden--visually\" id=\"sk-estimator-id-1\" type=\"checkbox\" checked><label for=\"sk-estimator-id-1\" class=\"sk-toggleable__label sk-toggleable__label-arrow\">SVR</label><div class=\"sk-toggleable__content\"><pre>SVR(C=2.07815338899397, epsilon=0.056564344171193756)</pre></div></div></div></div></div>"
      ],
      "text/plain": [
       "SVR(C=2.07815338899397, epsilon=0.056564344171193756)"
      ]
     },
     "execution_count": 28,
     "metadata": {},
     "output_type": "execute_result"
    }
   ],
   "source": [
    "svm_params = {\n",
    "    \"C\": study.best_trial.params[\"C\"],\n",
    "    \"epsilon\": study.best_trial.params[\"epsilon\"],\n",
    "    \"kernel\": study.best_trial.params[\"kernel\"],\n",
    "    \"degree\": study.best_trial.params[\"degree\"]\n",
    "}\n",
    "\n",
    "svm = SVR(**svm_params)\n",
    "svm.fit(Cd_X_train, Cd_y_train)"
   ]
  },
  {
   "cell_type": "code",
   "execution_count": 29,
   "id": "9ab1055b",
   "metadata": {},
   "outputs": [],
   "source": [
    "y_train_pred = svm.predict(Cd_X_train)\n",
    "y_test_pred = svm.predict(Cd_X_test)"
   ]
  },
  {
   "cell_type": "code",
   "execution_count": 30,
   "id": "425b4001",
   "metadata": {},
   "outputs": [
    {
     "name": "stdout",
     "output_type": "stream",
     "text": [
      "Train RMSE:  0.12267563916446733\n",
      "Test RMSE:  0.15377989193786404\n"
     ]
    }
   ],
   "source": [
    "print(\"Train RMSE: \", np.sqrt(mean_squared_error(Cd_y_train, y_train_pred)))\n",
    "print(\"Test RMSE: \", np.sqrt(mean_squared_error(Cd_y_test, y_test_pred)))"
   ]
  },
  {
   "cell_type": "code",
   "execution_count": 31,
   "id": "0f95ae3c",
   "metadata": {},
   "outputs": [
    {
     "name": "stdout",
     "output_type": "stream",
     "text": [
      "Train R2:  0.7070989605432654\n",
      "Test R2:  0.5756365892537234\n"
     ]
    }
   ],
   "source": [
    "print(\"Train R2: \", r2_score(Cd_y_train, y_train_pred))\n",
    "print(\"Test R2: \", r2_score(Cd_y_test, y_test_pred))"
   ]
  },
  {
   "cell_type": "code",
   "execution_count": 32,
   "id": "a2ac1a1f",
   "metadata": {},
   "outputs": [
    {
     "data": {
      "image/png": "[encoded data removed]",
      "text/plain": [
       "<Figure size 640x480 with 1 Axes>"
      ]
     },
     "metadata": {},
     "output_type": "display_data"
    }
   ],
   "source": [
    "plt.scatter(y_train_pred, np.array(Cd_y_train), color=\"orange\", alpha=0.3)\n",
    "plt.scatter(y_test_pred, np.array(Cd_y_test), color=\"green\", alpha=0.4)\n",
    "plt.axis(\"auto\") # scaled, tight, auto, image, square\n",
    "# plt.xlim([0, 1.5]) \n",
    "# plt.ylim(0, None) \n",
    "plt.xlabel('Predicted Values')\n",
    "plt.ylabel('Actual Values')\n",
    "\n",
    "# Add y=x line\n",
    "plt.plot([0, 0.5], [0, 0.5], color='red', linestyle='-')\n",
    "\n",
    "plt.show()"
   ]
  },
  {
   "cell_type": "code",
   "execution_count": 33,
   "id": "f6153860",
   "metadata": {},
   "outputs": [],
   "source": [
    "Cd_pred = pd.DataFrame(y_train_pred, columns = ['Cd_pred'])\n",
    "Cd_pred_test = pd.DataFrame(y_test_pred, columns = ['Cd_pred'])"
   ]
  },
  {
   "cell_type": "code",
   "execution_count": 34,
   "id": "30692183",
   "metadata": {},
   "outputs": [],
   "source": [
    "Cd_y_train = Cd_y_train.reset_index(drop = False)\n",
    "Cd_y_test = Cd_y_test.reset_index(drop = False)"
   ]
  },
  {
   "cell_type": "code",
   "execution_count": 35,
   "id": "8550a57c",
   "metadata": {},
   "outputs": [],
   "source": [
    "Cd_data = pd.concat([Cd_pred, Cd_y_train], axis = 1)\n",
    "Cd_data_test = pd.concat([Cd_pred_test, Cd_y_test], axis = 1)"
   ]
  },
  {
   "cell_type": "code",
   "execution_count": 37,
   "id": "c847cf2c",
   "metadata": {},
   "outputs": [],
   "source": [
    "Cd_data.to_csv('SVM_Cd_train_data.csv', sep = ',')\n",
    "Cd_data_test.to_csv('SVM_Cd_test_data.csv', sep = ',')"
   ]
  },
  {
   "attachments": {},
   "cell_type": "markdown",
   "id": "74f680ea",
   "metadata": {},
   "source": [
    "Ni"
   ]
  },
  {
   "cell_type": "code",
   "execution_count": 38,
   "id": "de233338",
   "metadata": {},
   "outputs": [
    {
     "name": "stderr",
     "output_type": "stream",
     "text": [
      "\u001b[32m[I 2023-08-30 16:34:39,579]\u001b[0m A new study created in memory with name: svm_parameter_opt\u001b[0m\n",
      "\u001b[32m[I 2023-08-30 16:34:40,328]\u001b[0m Trial 0 finished with value: 0.5183162881715709 and parameters: {'C': 3.5990932665217894, 'epsilon': 0.022465609472597802, 'kernel': 'rbf', 'degree': 5}. Best is trial 0 with value: 0.5183162881715709.\u001b[0m\n",
      "\u001b[32m[I 2023-08-30 16:34:41,079]\u001b[0m Trial 1 finished with value: 0.5165805840690346 and parameters: {'C': 3.4594421276923004, 'epsilon': 0.013581994878910302, 'kernel': 'rbf', 'degree': 5}. Best is trial 0 with value: 0.5183162881715709.\u001b[0m\n",
      "\u001b[32m[I 2023-08-30 16:34:42,786]\u001b[0m Trial 2 finished with value: 0.008777217144086347 and parameters: {'C': 9.38279475110393, 'epsilon': 0.034033905697743186, 'kernel': 'poly', 'degree': 3}. Best is trial 0 with value: 0.5183162881715709.\u001b[0m\n",
      "\u001b[32m[I 2023-08-30 16:34:43,138]\u001b[0m Trial 3 finished with value: 0.3857200322759284 and parameters: {'C': 0.222713488899058, 'epsilon': 0.4829514439050827, 'kernel': 'rbf', 'degree': 3}. Best is trial 0 with value: 0.5183162881715709.\u001b[0m\n",
      "\u001b[32m[I 2023-08-30 16:34:43,763]\u001b[0m Trial 4 finished with value: 0.20597232148419434 and parameters: {'C': 1.1552043706324442, 'epsilon': 0.5197317864682066, 'kernel': 'linear', 'degree': 5}. Best is trial 0 with value: 0.5183162881715709.\u001b[0m\n",
      "\u001b[32m[I 2023-08-30 16:34:44,122]\u001b[0m Trial 5 finished with value: 0.45658212726898234 and parameters: {'C': 0.5985966693518237, 'epsilon': 0.4249131826325591, 'kernel': 'rbf', 'degree': 3}. Best is trial 0 with value: 0.5183162881715709.\u001b[0m\n",
      "\u001b[32m[I 2023-08-30 16:34:44,637]\u001b[0m Trial 6 finished with value: 0.4804385940029327 and parameters: {'C': 1.2017069063454582, 'epsilon': 0.14811041979661294, 'kernel': 'rbf', 'degree': 4}. Best is trial 0 with value: 0.5183162881715709.\u001b[0m\n",
      "\u001b[32m[I 2023-08-30 16:34:52,555]\u001b[0m Trial 7 finished with value: 0.16357233625440065 and parameters: {'C': 26.380600176673234, 'epsilon': 0.09603481505613792, 'kernel': 'linear', 'degree': 1}. Best is trial 0 with value: 0.5183162881715709.\u001b[0m\n",
      "\u001b[32m[I 2023-08-30 16:35:05,943]\u001b[0m Trial 8 finished with value: 0.15952650768967913 and parameters: {'C': 48.14261534636802, 'epsilon': 0.04602449955245914, 'kernel': 'linear', 'degree': 3}. Best is trial 0 with value: 0.5183162881715709.\u001b[0m\n",
      "\u001b[32m[I 2023-08-30 16:35:06,883]\u001b[0m Trial 9 finished with value: 0.5579080722045309 and parameters: {'C': 13.747380376478556, 'epsilon': 0.05679065980438754, 'kernel': 'rbf', 'degree': 3}. Best is trial 9 with value: 0.5579080722045309.\u001b[0m\n",
      "\u001b[32m[I 2023-08-30 16:35:09,152]\u001b[0m Trial 10 finished with value: 0.15866346350085814 and parameters: {'C': 80.54297254287027, 'epsilon': 0.09616698930328688, 'kernel': 'poly', 'degree': 1}. Best is trial 9 with value: 0.5579080722045309.\u001b[0m\n",
      "\u001b[32m[I 2023-08-30 16:35:10,052]\u001b[0m Trial 11 finished with value: 0.540086892070081 and parameters: {'C': 7.645422972991903, 'epsilon': 0.011144542172676327, 'kernel': 'rbf', 'degree': 2}. Best is trial 9 with value: 0.5579080722045309.\u001b[0m\n",
      "\u001b[32m[I 2023-08-30 16:35:11,184]\u001b[0m Trial 12 finished with value: 0.5526803244008114 and parameters: {'C': 13.249196183736828, 'epsilon': 0.010940823550430885, 'kernel': 'rbf', 'degree': 2}. Best is trial 9 with value: 0.5579080722045309.\u001b[0m\n",
      "\u001b[32m[I 2023-08-30 16:35:11,892]\u001b[0m Trial 13 finished with value: 0.5741240754054475 and parameters: {'C': 17.395458161844623, 'epsilon': 0.21283897464078322, 'kernel': 'rbf', 'degree': 2}. Best is trial 13 with value: 0.5741240754054475.\u001b[0m\n",
      "\u001b[32m[I 2023-08-30 16:35:12,949]\u001b[0m Trial 14 finished with value: -0.22179165466780235 and parameters: {'C': 15.920477574936703, 'epsilon': 0.22004153905243518, 'kernel': 'poly', 'degree': 2}. Best is trial 13 with value: 0.5741240754054475.\u001b[0m\n",
      "\u001b[32m[I 2023-08-30 16:35:14,388]\u001b[0m Trial 15 finished with value: 0.5549044240070479 and parameters: {'C': 32.128241081264825, 'epsilon': 0.05900557385493084, 'kernel': 'rbf', 'degree': 4}. Best is trial 13 with value: 0.5741240754054475.\u001b[0m\n",
      "\u001b[32m[I 2023-08-30 16:35:15,935]\u001b[0m Trial 16 finished with value: 0.5030334684036658 and parameters: {'C': 98.84473441569821, 'epsilon': 0.22403953347460157, 'kernel': 'rbf', 'degree': 2}. Best is trial 13 with value: 0.5741240754054475.\u001b[0m\n",
      "\u001b[32m[I 2023-08-30 16:35:16,182]\u001b[0m Trial 17 finished with value: 0.46676573023825496 and parameters: {'C': 6.862514533625402, 'epsilon': 0.9415614444114212, 'kernel': 'rbf', 'degree': 4}. Best is trial 13 with value: 0.5741240754054475.\u001b[0m\n",
      "\u001b[32m[I 2023-08-30 16:35:16,550]\u001b[0m Trial 18 finished with value: 0.08454491609115003 and parameters: {'C': 0.11081103212680621, 'epsilon': 0.06348548164397369, 'kernel': 'poly', 'degree': 1}. Best is trial 13 with value: 0.5741240754054475.\u001b[0m\n",
      "\u001b[32m[I 2023-08-30 16:35:22,391]\u001b[0m Trial 19 finished with value: 0.1755612433063139 and parameters: {'C': 19.45374695231613, 'epsilon': 0.18640975842538648, 'kernel': 'linear', 'degree': 2}. Best is trial 13 with value: 0.5741240754054475.\u001b[0m\n",
      "\u001b[32m[I 2023-08-30 16:35:23,173]\u001b[0m Trial 20 finished with value: 0.5536220349688559 and parameters: {'C': 40.01653899985121, 'epsilon': 0.3386872829773299, 'kernel': 'rbf', 'degree': 4}. Best is trial 13 with value: 0.5741240754054475.\u001b[0m\n",
      "\u001b[32m[I 2023-08-30 16:35:24,655]\u001b[0m Trial 21 finished with value: 0.5523475464301861 and parameters: {'C': 35.09897156322698, 'epsilon': 0.06395393100692418, 'kernel': 'rbf', 'degree': 4}. Best is trial 13 with value: 0.5741240754054475.\u001b[0m\n",
      "\u001b[32m[I 2023-08-30 16:35:25,392]\u001b[0m Trial 22 finished with value: 0.5253621408453619 and parameters: {'C': 4.245065969736215, 'epsilon': 0.028111109175206435, 'kernel': 'rbf', 'degree': 4}. Best is trial 13 with value: 0.5741240754054475.\u001b[0m\n",
      "\u001b[32m[I 2023-08-30 16:35:26,478]\u001b[0m Trial 23 finished with value: 0.5638231147187145 and parameters: {'C': 20.144129662542067, 'epsilon': 0.06348276652684659, 'kernel': 'rbf', 'degree': 3}. Best is trial 13 with value: 0.5741240754054475.\u001b[0m\n",
      "\u001b[32m[I 2023-08-30 16:35:27,281]\u001b[0m Trial 24 finished with value: 0.5677596923728936 and parameters: {'C': 14.74033960832594, 'epsilon': 0.1252643169382382, 'kernel': 'rbf', 'degree': 3}. Best is trial 13 with value: 0.5741240754054475.\u001b[0m\n",
      "\u001b[32m[I 2023-08-30 16:35:27,806]\u001b[0m Trial 25 finished with value: 0.5015355923973578 and parameters: {'C': 1.8690910403240786, 'epsilon': 0.13253947033493443, 'kernel': 'rbf', 'degree': 3}. Best is trial 13 with value: 0.5741240754054475.\u001b[0m\n",
      "\u001b[32m[I 2023-08-30 16:35:29,393]\u001b[0m Trial 26 finished with value: 0.5337134075583909 and parameters: {'C': 57.99535676299754, 'epsilon': 0.11454877743402103, 'kernel': 'rbf', 'degree': 2}. Best is trial 13 with value: 0.5741240754054475.\u001b[0m\n",
      "\u001b[32m[I 2023-08-30 16:35:29,868]\u001b[0m Trial 27 finished with value: 0.5561700558171905 and parameters: {'C': 5.991466715301775, 'epsilon': 0.2898877795917867, 'kernel': 'rbf', 'degree': 3}. Best is trial 13 with value: 0.5741240754054475.\u001b[0m\n",
      "\u001b[32m[I 2023-08-30 16:35:33,495]\u001b[0m Trial 28 finished with value: 0.15928784791996534 and parameters: {'C': 9.886594796199269, 'epsilon': 0.08488090494199647, 'kernel': 'linear', 'degree': 2}. Best is trial 13 with value: 0.5741240754054475.\u001b[0m\n",
      "\u001b[32m[I 2023-08-30 16:35:37,455]\u001b[0m Trial 29 finished with value: -0.37860877622313005 and parameters: {'C': 23.836328412466575, 'epsilon': 0.020009801190695415, 'kernel': 'poly', 'degree': 3}. Best is trial 13 with value: 0.5741240754054475.\u001b[0m\n",
      "\u001b[32m[I 2023-08-30 16:35:37,943]\u001b[0m Trial 30 finished with value: 0.5069094695960613 and parameters: {'C': 2.052267658765232, 'epsilon': 0.17174357352120656, 'kernel': 'rbf', 'degree': 1}. Best is trial 13 with value: 0.5741240754054475.\u001b[0m\n",
      "\u001b[32m[I 2023-08-30 16:35:38,919]\u001b[0m Trial 31 finished with value: 0.5553775980091752 and parameters: {'C': 13.018606842666394, 'epsilon': 0.04159720225058544, 'kernel': 'rbf', 'degree': 3}. Best is trial 13 with value: 0.5741240754054475.\u001b[0m\n",
      "\u001b[32m[I 2023-08-30 16:35:39,574]\u001b[0m Trial 32 finished with value: 0.5298005838740825 and parameters: {'C': 4.2702472164899445, 'epsilon': 0.07511585646524674, 'kernel': 'rbf', 'degree': 3}. Best is trial 13 with value: 0.5741240754054475.\u001b[0m\n",
      "\u001b[32m[I 2023-08-30 16:35:40,797]\u001b[0m Trial 33 finished with value: 0.5608738434251986 and parameters: {'C': 18.727560664695115, 'epsilon': 0.02181776992387413, 'kernel': 'rbf', 'degree': 3}. Best is trial 13 with value: 0.5741240754054475.\u001b[0m\n",
      "\u001b[32m[I 2023-08-30 16:35:42,114]\u001b[0m Trial 34 finished with value: 0.5608689045050692 and parameters: {'C': 21.095230661707184, 'epsilon': 0.018047025535091944, 'kernel': 'rbf', 'degree': 5}. Best is trial 13 with value: 0.5741240754054475.\u001b[0m\n",
      "\u001b[32m[I 2023-08-30 16:35:44,399]\u001b[0m Trial 35 finished with value: 0.5228833932049736 and parameters: {'C': 61.05852954747229, 'epsilon': 0.028039151526503544, 'kernel': 'rbf', 'degree': 2}. Best is trial 13 with value: 0.5741240754054475.\u001b[0m\n",
      "\u001b[32m[I 2023-08-30 16:35:44,739]\u001b[0m Trial 36 finished with value: 0.5472949430200291 and parameters: {'C': 9.650196551848197, 'epsilon': 0.6211769875732528, 'kernel': 'rbf', 'degree': 3}. Best is trial 13 with value: 0.5741240754054475.\u001b[0m\n",
      "\u001b[32m[I 2023-08-30 16:35:46,137]\u001b[0m Trial 37 finished with value: 0.5587296307755066 and parameters: {'C': 27.411013784977424, 'epsilon': 0.040667809852638556, 'kernel': 'rbf', 'degree': 4}. Best is trial 13 with value: 0.5741240754054475.\u001b[0m\n",
      "\u001b[32m[I 2023-08-30 16:35:48,693]\u001b[0m Trial 38 finished with value: -0.1440023851042407 and parameters: {'C': 18.086534121198195, 'epsilon': 0.1285835626059062, 'kernel': 'poly', 'degree': 3}. Best is trial 13 with value: 0.5741240754054475.\u001b[0m\n",
      "\u001b[32m[I 2023-08-30 16:35:49,360]\u001b[0m Trial 39 finished with value: 0.14118300939235026 and parameters: {'C': 0.5918027881890953, 'epsilon': 0.014813289974868263, 'kernel': 'linear', 'degree': 3}. Best is trial 13 with value: 0.5741240754054475.\u001b[0m\n",
      "\u001b[32m[I 2023-08-30 16:35:49,781]\u001b[0m Trial 40 finished with value: 0.5335911340585056 and parameters: {'C': 2.985191404522799, 'epsilon': 0.29572528871988435, 'kernel': 'rbf', 'degree': 2}. Best is trial 13 with value: 0.5741240754054475.\u001b[0m\n",
      "\u001b[32m[I 2023-08-30 16:35:51,117]\u001b[0m Trial 41 finished with value: 0.5607859143552809 and parameters: {'C': 22.088147470024456, 'epsilon': 0.02040395741320349, 'kernel': 'rbf', 'degree': 5}. Best is trial 13 with value: 0.5741240754054475.\u001b[0m\n",
      "\u001b[32m[I 2023-08-30 16:35:52,117]\u001b[0m Trial 42 finished with value: 0.5509552708319884 and parameters: {'C': 11.509936306187015, 'epsilon': 0.017555322486909275, 'kernel': 'rbf', 'degree': 5}. Best is trial 13 with value: 0.5741240754054475.\u001b[0m\n",
      "\u001b[32m[I 2023-08-30 16:35:54,090]\u001b[0m Trial 43 finished with value: 0.5326671952920764 and parameters: {'C': 50.47186781741222, 'epsilon': 0.030673174145599457, 'kernel': 'rbf', 'degree': 5}. Best is trial 13 with value: 0.5741240754054475.\u001b[0m\n",
      "\u001b[32m[I 2023-08-30 16:35:54,935]\u001b[0m Trial 44 finished with value: 0.5373645265328404 and parameters: {'C': 6.558251140930115, 'epsilon': 0.016551048482831177, 'kernel': 'rbf', 'degree': 4}. Best is trial 13 with value: 0.5741240754054475.\u001b[0m\n",
      "\u001b[32m[I 2023-08-30 16:35:56,194]\u001b[0m Trial 45 finished with value: 0.5601339521772097 and parameters: {'C': 18.49100123641557, 'epsilon': 0.012827997535425495, 'kernel': 'rbf', 'degree': 3}. Best is trial 13 with value: 0.5741240754054475.\u001b[0m\n",
      "\u001b[32m[I 2023-08-30 16:35:57,963]\u001b[0m Trial 46 finished with value: 0.5443290825671471 and parameters: {'C': 38.219734079168624, 'epsilon': 0.023369289823596096, 'kernel': 'rbf', 'degree': 3}. Best is trial 13 with value: 0.5741240754054475.\u001b[0m\n",
      "\u001b[32m[I 2023-08-30 16:36:05,454]\u001b[0m Trial 47 finished with value: 0.1586548777084667 and parameters: {'C': 24.70691214423661, 'epsilon': 0.0515565658792213, 'kernel': 'linear', 'degree': 2}. Best is trial 13 with value: 0.5741240754054475.\u001b[0m\n",
      "\u001b[32m[I 2023-08-30 16:36:06,159]\u001b[0m Trial 48 finished with value: 0.5511800793126266 and parameters: {'C': 8.509070097229943, 'epsilon': 0.1043552194566829, 'kernel': 'rbf', 'degree': 3}. Best is trial 13 with value: 0.5741240754054475.\u001b[0m\n",
      "\u001b[32m[I 2023-08-30 16:36:08,497]\u001b[0m Trial 49 finished with value: -0.78087890381214 and parameters: {'C': 14.786284060852937, 'epsilon': 0.03517130952217863, 'kernel': 'poly', 'degree': 4}. Best is trial 13 with value: 0.5741240754054475.\u001b[0m\n",
      "\u001b[32m[I 2023-08-30 16:36:09,932]\u001b[0m Trial 50 finished with value: 0.5251220090549115 and parameters: {'C': 74.4489192458824, 'epsilon': 0.20157243795103164, 'kernel': 'rbf', 'degree': 1}. Best is trial 13 with value: 0.5741240754054475.\u001b[0m\n",
      "\u001b[32m[I 2023-08-30 16:36:11,479]\u001b[0m Trial 51 finished with value: 0.5603379354809128 and parameters: {'C': 23.655328103073018, 'epsilon': 0.02334725387435604, 'kernel': 'rbf', 'degree': 5}. Best is trial 13 with value: 0.5741240754054475.\u001b[0m\n",
      "\u001b[32m[I 2023-08-30 16:36:12,822]\u001b[0m Trial 52 finished with value: 0.5604920636254676 and parameters: {'C': 19.06148970589112, 'epsilon': 0.013386954218811203, 'kernel': 'rbf', 'degree': 5}. Best is trial 13 with value: 0.5741240754054475.\u001b[0m\n",
      "\u001b[32m[I 2023-08-30 16:36:14,603]\u001b[0m Trial 53 finished with value: 0.5512142698368578 and parameters: {'C': 30.792014989458103, 'epsilon': 0.01032217012244086, 'kernel': 'rbf', 'degree': 5}. Best is trial 13 with value: 0.5741240754054475.\u001b[0m\n",
      "\u001b[32m[I 2023-08-30 16:36:16,647]\u001b[0m Trial 54 finished with value: 0.5406137229654016 and parameters: {'C': 41.05956865793077, 'epsilon': 0.01889361722780798, 'kernel': 'rbf', 'degree': 5}. Best is trial 13 with value: 0.5741240754054475.\u001b[0m\n",
      "\u001b[32m[I 2023-08-30 16:36:17,290]\u001b[0m Trial 55 finished with value: 0.5699674124005941 and parameters: {'C': 10.968195232033652, 'epsilon': 0.2502075369610543, 'kernel': 'rbf', 'degree': 4}. Best is trial 13 with value: 0.5741240754054475.\u001b[0m\n",
      "\u001b[32m[I 2023-08-30 16:36:17,767]\u001b[0m Trial 56 finished with value: 0.5635387354965525 and parameters: {'C': 13.473524799380131, 'epsilon': 0.4058257843861286, 'kernel': 'rbf', 'degree': 4}. Best is trial 13 with value: 0.5741240754054475.\u001b[0m\n",
      "\u001b[32m[I 2023-08-30 16:36:18,141]\u001b[0m Trial 57 finished with value: 0.5512588189065697 and parameters: {'C': 5.740135975459497, 'epsilon': 0.46042218675455077, 'kernel': 'rbf', 'degree': 4}. Best is trial 13 with value: 0.5741240754054475.\u001b[0m\n",
      "\u001b[32m[I 2023-08-30 16:36:21,717]\u001b[0m Trial 58 finished with value: 0.18222476685318165 and parameters: {'C': 10.982360530330793, 'epsilon': 0.24561133828992918, 'kernel': 'linear', 'degree': 4}. Best is trial 13 with value: 0.5741240754054475.\u001b[0m\n",
      "\u001b[32m[I 2023-08-30 16:36:22,210]\u001b[0m Trial 59 finished with value: 0.5637533364783444 and parameters: {'C': 12.560550650899268, 'epsilon': 0.37234882547039516, 'kernel': 'rbf', 'degree': 4}. Best is trial 13 with value: 0.5741240754054475.\u001b[0m\n",
      "\u001b[32m[I 2023-08-30 16:36:22,826]\u001b[0m Trial 60 finished with value: 0.09856125609385309 and parameters: {'C': 8.1040323684877, 'epsilon': 0.38738715849868527, 'kernel': 'poly', 'degree': 4}. Best is trial 13 with value: 0.5741240754054475.\u001b[0m\n",
      "\u001b[32m[I 2023-08-30 16:36:23,198]\u001b[0m Trial 61 finished with value: 0.5487330209134912 and parameters: {'C': 12.195898749247204, 'epsilon': 0.6063776137456277, 'kernel': 'rbf', 'degree': 4}. Best is trial 13 with value: 0.5741240754054475.\u001b[0m\n",
      "\u001b[32m[I 2023-08-30 16:36:23,841]\u001b[0m Trial 62 finished with value: 0.5725902959916149 and parameters: {'C': 16.76282856995278, 'epsilon': 0.2662256375113605, 'kernel': 'rbf', 'degree': 4}. Best is trial 13 with value: 0.5741240754054475.\u001b[0m\n",
      "\u001b[32m[I 2023-08-30 16:36:24,413]\u001b[0m Trial 63 finished with value: 0.56973376589848 and parameters: {'C': 13.542117927541586, 'epsilon': 0.2837983513822573, 'kernel': 'rbf', 'degree': 4}. Best is trial 13 with value: 0.5741240754054475.\u001b[0m\n",
      "\u001b[32m[I 2023-08-30 16:36:25,160]\u001b[0m Trial 64 finished with value: 0.5707863219826824 and parameters: {'C': 14.992294425557956, 'epsilon': 0.15081760597539118, 'kernel': 'rbf', 'degree': 4}. Best is trial 13 with value: 0.5741240754054475.\u001b[0m\n",
      "\u001b[32m[I 2023-08-30 16:36:25,731]\u001b[0m Trial 65 finished with value: 0.543977715825136 and parameters: {'C': 5.357422695274194, 'epsilon': 0.15249164814635663, 'kernel': 'rbf', 'degree': 4}. Best is trial 13 with value: 0.5741240754054475.\u001b[0m\n",
      "\u001b[32m[I 2023-08-30 16:36:26,359]\u001b[0m Trial 66 finished with value: 0.5724630591766077 and parameters: {'C': 15.261242089331436, 'epsilon': 0.2543199184003233, 'kernel': 'rbf', 'degree': 4}. Best is trial 13 with value: 0.5741240754054475.\u001b[0m\n",
      "\u001b[32m[I 2023-08-30 16:36:26,884]\u001b[0m Trial 67 finished with value: 0.5646944110669981 and parameters: {'C': 8.307235678638143, 'epsilon': 0.2551952004200191, 'kernel': 'rbf', 'degree': 4}. Best is trial 13 with value: 0.5741240754054475.\u001b[0m\n",
      "\u001b[32m[I 2023-08-30 16:36:27,822]\u001b[0m Trial 68 finished with value: 0.5626610168085746 and parameters: {'C': 30.04271093242304, 'epsilon': 0.17087283227462802, 'kernel': 'rbf', 'degree': 4}. Best is trial 13 with value: 0.5741240754054475.\u001b[0m\n",
      "\u001b[32m[I 2023-08-30 16:36:28,390]\u001b[0m Trial 69 finished with value: 0.5691082382367515 and parameters: {'C': 15.280131213329543, 'epsilon': 0.3078968080806583, 'kernel': 'rbf', 'degree': 4}. Best is trial 13 with value: 0.5741240754054475.\u001b[0m\n",
      "\u001b[32m[I 2023-08-30 16:36:28,970]\u001b[0m Trial 70 finished with value: 0.569021877373124 and parameters: {'C': 16.34473913327102, 'epsilon': 0.3041124377656039, 'kernel': 'rbf', 'degree': 4}. Best is trial 13 with value: 0.5741240754054475.\u001b[0m\n",
      "\u001b[32m[I 2023-08-30 16:36:29,470]\u001b[0m Trial 71 finished with value: 0.565165684015436 and parameters: {'C': 9.923249572044265, 'epsilon': 0.3156377435144054, 'kernel': 'rbf', 'degree': 4}. Best is trial 13 with value: 0.5741240754054475.\u001b[0m\n",
      "\u001b[32m[I 2023-08-30 16:36:30,165]\u001b[0m Trial 72 finished with value: 0.5736275176472725 and parameters: {'C': 16.07099872668835, 'epsilon': 0.23036834756127994, 'kernel': 'rbf', 'degree': 4}. Best is trial 13 with value: 0.5741240754054475.\u001b[0m\n",
      "\u001b[32m[I 2023-08-30 16:36:30,845]\u001b[0m Trial 73 finished with value: 0.5729409293248074 and parameters: {'C': 16.108686820713967, 'epsilon': 0.255922755584102, 'kernel': 'rbf', 'degree': 4}. Best is trial 13 with value: 0.5741240754054475.\u001b[0m\n",
      "\u001b[32m[I 2023-08-30 16:36:31,350]\u001b[0m Trial 74 finished with value: 0.5585873533743386 and parameters: {'C': 6.781438164668843, 'epsilon': 0.25006549046768384, 'kernel': 'rbf', 'degree': 4}. Best is trial 13 with value: 0.5741240754054475.\u001b[0m\n",
      "\u001b[32m[I 2023-08-30 16:36:31,857]\u001b[0m Trial 75 finished with value: 0.5454312159028778 and parameters: {'C': 4.747813528639883, 'epsilon': 0.20659447413105456, 'kernel': 'rbf', 'degree': 4}. Best is trial 13 with value: 0.5741240754054475.\u001b[0m\n",
      "\u001b[32m[I 2023-08-30 16:36:39,555]\u001b[0m Trial 76 finished with value: 0.17086076411858556 and parameters: {'C': 27.751460867026278, 'epsilon': 0.15023171550881537, 'kernel': 'linear', 'degree': 4}. Best is trial 13 with value: 0.5741240754054475.\u001b[0m\n",
      "\u001b[32m[I 2023-08-30 16:36:40,270]\u001b[0m Trial 77 finished with value: 0.5735105658088788 and parameters: {'C': 16.26509493196471, 'epsilon': 0.17810888388280122, 'kernel': 'rbf', 'degree': 4}. Best is trial 13 with value: 0.5741240754054475.\u001b[0m\n",
      "\u001b[32m[I 2023-08-30 16:36:43,689]\u001b[0m Trial 78 finished with value: -4.13833111381694 and parameters: {'C': 45.47703931395796, 'epsilon': 0.17263572761884854, 'kernel': 'poly', 'degree': 4}. Best is trial 13 with value: 0.5741240754054475.\u001b[0m\n",
      "\u001b[32m[I 2023-08-30 16:36:44,559]\u001b[0m Trial 79 finished with value: 0.5574102979117128 and parameters: {'C': 34.76410994455974, 'epsilon': 0.22708346680451671, 'kernel': 'rbf', 'degree': 4}. Best is trial 13 with value: 0.5741240754054475.\u001b[0m\n",
      "\u001b[32m[I 2023-08-30 16:36:45,043]\u001b[0m Trial 80 finished with value: 0.4469120503992568 and parameters: {'C': 0.6329705619969255, 'epsilon': 0.1789469930779432, 'kernel': 'rbf', 'degree': 4}. Best is trial 13 with value: 0.5741240754054475.\u001b[0m\n",
      "\u001b[32m[I 2023-08-30 16:36:45,737]\u001b[0m Trial 81 finished with value: 0.5739931740509582 and parameters: {'C': 16.418790501567944, 'epsilon': 0.20039713485717814, 'kernel': 'rbf', 'degree': 4}. Best is trial 13 with value: 0.5741240754054475.\u001b[0m\n",
      "\u001b[32m[I 2023-08-30 16:36:46,432]\u001b[0m Trial 82 finished with value: 0.5740566825201379 and parameters: {'C': 16.61957002410464, 'epsilon': 0.19607998138107469, 'kernel': 'rbf', 'degree': 4}. Best is trial 13 with value: 0.5741240754054475.\u001b[0m\n",
      "\u001b[32m[I 2023-08-30 16:36:47,142]\u001b[0m Trial 83 finished with value: 0.5739797870595411 and parameters: {'C': 16.49861337668216, 'epsilon': 0.19572514568713306, 'kernel': 'rbf', 'degree': 4}. Best is trial 13 with value: 0.5741240754054475.\u001b[0m\n",
      "\u001b[32m[I 2023-08-30 16:36:47,899]\u001b[0m Trial 84 finished with value: 0.5736875251240897 and parameters: {'C': 21.379671274976396, 'epsilon': 0.20297372512267545, 'kernel': 'rbf', 'degree': 4}. Best is trial 13 with value: 0.5741240754054475.\u001b[0m\n",
      "\u001b[32m[I 2023-08-30 16:36:48,682]\u001b[0m Trial 85 finished with value: 0.5731883352308011 and parameters: {'C': 22.315915520825097, 'epsilon': 0.1957756759136689, 'kernel': 'rbf', 'degree': 4}. Best is trial 13 with value: 0.5741240754054475.\u001b[0m\n",
      "\u001b[32m[I 2023-08-30 16:36:49,451]\u001b[0m Trial 86 finished with value: 0.5701367583056354 and parameters: {'C': 24.320313747538474, 'epsilon': 0.21493990592659518, 'kernel': 'rbf', 'degree': 4}. Best is trial 13 with value: 0.5741240754054475.\u001b[0m\n",
      "\u001b[32m[I 2023-08-30 16:36:50,427]\u001b[0m Trial 87 finished with value: 0.5693257790646815 and parameters: {'C': 21.78185624803268, 'epsilon': 0.11721015537698382, 'kernel': 'rbf', 'degree': 4}. Best is trial 13 with value: 0.5741240754054475.\u001b[0m\n",
      "\u001b[32m[I 2023-08-30 16:36:51,096]\u001b[0m Trial 88 finished with value: 0.5636906581616394 and parameters: {'C': 28.003734663896044, 'epsilon': 0.34251952269999725, 'kernel': 'rbf', 'degree': 5}. Best is trial 13 with value: 0.5741240754054475.\u001b[0m\n",
      "\u001b[32m[I 2023-08-30 16:36:51,960]\u001b[0m Trial 89 finished with value: 0.5717578671120922 and parameters: {'C': 19.596145145130986, 'epsilon': 0.1407572740432369, 'kernel': 'rbf', 'degree': 4}. Best is trial 13 with value: 0.5741240754054475.\u001b[0m\n",
      "\u001b[32m[I 2023-08-30 16:37:01,522]\u001b[0m Trial 90 finished with value: 0.17666124650641607 and parameters: {'C': 35.3331933056647, 'epsilon': 0.19371423577253422, 'kernel': 'linear', 'degree': 1}. Best is trial 13 with value: 0.5741240754054475.\u001b[0m\n",
      "\u001b[32m[I 2023-08-30 16:37:02,194]\u001b[0m Trial 91 finished with value: 0.5740493614800527 and parameters: {'C': 17.144340152387745, 'epsilon': 0.22403273072176563, 'kernel': 'rbf', 'degree': 4}. Best is trial 13 with value: 0.5741240754054475.\u001b[0m\n",
      "\u001b[32m[I 2023-08-30 16:37:02,830]\u001b[0m Trial 92 finished with value: 0.5612019269319293 and parameters: {'C': 9.784850749903981, 'epsilon': 0.16430632210269125, 'kernel': 'rbf', 'degree': 4}. Best is trial 13 with value: 0.5741240754054475.\u001b[0m\n",
      "\u001b[32m[I 2023-08-30 16:37:03,527]\u001b[0m Trial 93 finished with value: 0.5741601106450235 and parameters: {'C': 17.520855820516907, 'epsilon': 0.2221688590069915, 'kernel': 'rbf', 'degree': 4}. Best is trial 93 with value: 0.5741601106450235.\u001b[0m\n",
      "\u001b[32m[I 2023-08-30 16:37:04,302]\u001b[0m Trial 94 finished with value: 0.5736340744521682 and parameters: {'C': 21.77458023558123, 'epsilon': 0.19288065283183245, 'kernel': 'rbf', 'degree': 4}. Best is trial 93 with value: 0.5741601106450235.\u001b[0m\n",
      "\u001b[32m[I 2023-08-30 16:37:04,986]\u001b[0m Trial 95 finished with value: 0.5739980098527331 and parameters: {'C': 18.586694460521947, 'epsilon': 0.23020747310063086, 'kernel': 'rbf', 'degree': 4}. Best is trial 93 with value: 0.5741601106450235.\u001b[0m\n",
      "\u001b[32m[I 2023-08-30 16:37:05,760]\u001b[0m Trial 96 finished with value: 0.5676420877295619 and parameters: {'C': 25.881353307160442, 'epsilon': 0.22664258821367683, 'kernel': 'rbf', 'degree': 4}. Best is trial 93 with value: 0.5741601106450235.\u001b[0m\n",
      "\u001b[32m[I 2023-08-30 16:37:08,603]\u001b[0m Trial 97 finished with value: -2.8862580899360117 and parameters: {'C': 32.37470549313802, 'epsilon': 0.13360105480735193, 'kernel': 'poly', 'degree': 4}. Best is trial 93 with value: 0.5741601106450235.\u001b[0m\n",
      "\u001b[32m[I 2023-08-30 16:37:09,762]\u001b[0m Trial 98 finished with value: 0.5389353742033615 and parameters: {'C': 55.392362373555095, 'epsilon': 0.21709510515936803, 'kernel': 'rbf', 'degree': 3}. Best is trial 93 with value: 0.5741601106450235.\u001b[0m\n",
      "\u001b[32m[I 2023-08-30 16:37:10,331]\u001b[0m Trial 99 finished with value: 0.5672936873409373 and parameters: {'C': 18.839070889289733, 'epsilon': 0.34131105688277724, 'kernel': 'rbf', 'degree': 4}. Best is trial 93 with value: 0.5741601106450235.\u001b[0m\n"
     ]
    },
    {
     "name": "stdout",
     "output_type": "stream",
     "text": [
      "Best r2:  0.5741601106450235\n",
      "Best trial: {'C': 17.520855820516907, 'epsilon': 0.2221688590069915, 'kernel': 'rbf', 'degree': 4}\n"
     ]
    }
   ],
   "source": [
    "sampler = TPESampler()\n",
    "study = optuna.create_study(\n",
    "    study_name=\"svm_parameter_opt\",\n",
    "    direction=\"maximize\",\n",
    "    sampler=sampler,\n",
    ")\n",
    "\n",
    "study.optimize(lambda trial : objectiveSVM(trial, Ni_X_train, Ni_y_train), n_trials=100)\n",
    "print(\"Best r2: \", study.best_value)\n",
    "print(\"Best trial:\", study.best_trial.params)"
   ]
  },
  {
   "cell_type": "code",
   "execution_count": 39,
   "id": "d71c01fb",
   "metadata": {},
   "outputs": [
    {
     "data": {
      "application/vnd.plotly.v1+json": {
       "config": {
        "plotlyServerURL": "https://plot.ly"
       },
       "data": [
        {
         "dimensions": [
          {
           "label": "Objective Value",
           "range": [
            -4.13833111381694,
            0.5741601106450235
           ],
           "values": [
            0.5183162881715709,
            0.5165805840690346,
            0.008777217144086347,
            0.3857200322759284,
            0.20597232148419434,
            0.45658212726898234,
            0.4804385940029327,
            0.16357233625440065,
            0.15952650768967913,
            0.5579080722045309,
            0.15866346350085814,
            0.540086892070081,
            0.5526803244008114,
            0.5741240754054475,
            -0.22179165466780235,
            0.5549044240070479,
            0.5030334684036658,
            0.46676573023825496,
            0.08454491609115003,
            0.1755612433063139,
            0.5536220349688559,
            0.5523475464301861,
            0.5253621408453619,
            0.5638231147187145,
            0.5677596923728936,
            0.5015355923973578,
            0.5337134075583909,
            0.5561700558171905,
            0.15928784791996534,
            -0.37860877622313005,
            0.5069094695960613,
            0.5553775980091752,
            0.5298005838740825,
            0.5608738434251986,
            0.5608689045050692,
            0.5228833932049736,
            0.5472949430200291,
            0.5587296307755066,
            -0.1440023851042407,
            0.14118300939235026,
            0.5335911340585056,
            0.5607859143552809,
            0.5509552708319884,
            0.5326671952920764,
            0.5373645265328404,
            0.5601339521772097,
            0.5443290825671471,
            0.1586548777084667,
            0.5511800793126266,
            -0.78087890381214,
            0.5251220090549115,
            0.5603379354809128,
            0.5604920636254676,
            0.5512142698368578,
            0.5406137229654016,
            0.5699674124005941,
            0.5635387354965525,
            0.5512588189065697,
            0.18222476685318165,
            0.5637533364783444,
            0.09856125609385309,
            0.5487330209134912,
            0.5725902959916149,
            0.56973376589848,
            0.5707863219826824,
            0.543977715825136,
            0.5724630591766077,
            0.5646944110669981,
            0.5626610168085746,
            0.5691082382367515,
            0.569021877373124,
            0.565165684015436,
            0.5736275176472725,
            0.5729409293248074,
            0.5585873533743386,
            0.5454312159028778,
            0.17086076411858556,
            0.5735105658088788,
            -4.13833111381694,
            0.5574102979117128,
            0.4469120503992568,
            0.5739931740509582,
            0.5740566825201379,
            0.5739797870595411,
            0.5736875251240897,
            0.5731883352308011,
            0.5701367583056354,
            0.5693257790646815,
            0.5636906581616394,
            0.5717578671120922,
            0.17666124650641607,
            0.5740493614800527,
            0.5612019269319293,
            0.5741601106450235,
            0.5736340744521682,
            0.5739980098527331,
            0.5676420877295619,
            -2.8862580899360117,
            0.5389353742033615,
            0.5672936873409373
           ]
          },
          {
           "label": "C",
           "range": [
            -0.9554169999569853,
            1.994953538848316
           ],
           "ticktext": [
            "0.111",
            "1",
            "10",
            "98.8"
           ],
           "tickvals": [
            -0.9554169999569853,
            0,
            1,
            1.994953538848316
           ],
           "values": [
            0.5561931010599499,
            0.5390060697757274,
            0.9723322162257879,
            -0.6522534786237018,
            0.06265882335053118,
            -0.22286570394445473,
            0.07979855711902192,
            1.4212846718188494,
            1.682529679616688,
            1.1382199493350915,
            1.906027653768349,
            0.8834015171852188,
            1.1221895308345688,
            1.2404358716889876,
            1.2019560913569773,
            1.5068869499645072,
            1.994953538848316,
            0.8364832772201345,
            -0.9554169999569853,
            1.2890032624221859,
            1.602239524123648,
            1.5452943913672765,
            0.6278844437130203,
            1.304148508213812,
            1.168507489515089,
            0.27163045565782595,
            1.7633932243744854,
            0.7775331510017262,
            0.9950467348863029,
            1.3772393604219666,
            0.312234001246893,
            1.1145645116580727,
            0.630453018268475,
            1.272481212567219,
            1.324184278452621,
            1.7857463411171086,
            0.9845361589928877,
            1.4379250980378429,
            1.2573553520312106,
            -0.22782299305797096,
            0.47497218245469164,
            1.3441592931786566,
            1.0610729203328284,
            1.7030493770099961,
            0.8167880434757316,
            1.2669604276371444,
            1.5822876610457484,
            1.3928184709173934,
            0.9298821013644771,
            1.1698590452184543,
            1.8718583976025485,
            1.373928976158243,
            1.280156838892353,
            1.4884381094998027,
            1.6134143826754779,
            1.0401351722191199,
            1.129481226062055,
            0.7589221803234585,
            1.0406956966819667,
            1.0990086791627152,
            0.9087011669804966,
            1.0862138101812278,
            1.2243473035945638,
            1.131686591403333,
            1.1758681025017863,
            0.7289559131234675,
            1.1835898816260884,
            0.9194565316979478,
            1.477739119073516,
            1.1841270836231987,
            1.2133779935070885,
            0.9966539141004751,
            1.206042866683198,
            1.2070601381993098,
            0.8313218060714629,
            0.676493653611738,
            1.443285849793435,
            1.2112566024047222,
            1.6577921831162963,
            1.5411311147481104,
            -0.19861648754912806,
            1.2153411614410414,
            1.220619783673467,
            1.2174474455374986,
            1.3300010233909376,
            1.348614708675375,
            1.3859691733122825,
            1.338094887537584,
            1.4472159540480514,
            1.2921706475375088,
            1.5481828894121559,
            1.2341207747416298,
            0.9905542056723576,
            1.243555315818956,
            1.33794979154983,
            1.2692021597986776,
            1.4129869813655136,
            1.510205826408635,
            1.743449887333381,
            1.275059480324983
           ]
          },
          {
           "label": "degree",
           "range": [
            1,
            5
           ],
           "values": [
            5,
            5,
            3,
            3,
            5,
            3,
            4,
            1,
            3,
            3,
            1,
            2,
            2,
            2,
            2,
            4,
            2,
            4,
            1,
            2,
            4,
            4,
            4,
            3,
            3,
            3,
            2,
            3,
            2,
            3,
            1,
            3,
            3,
            3,
            5,
            2,
            3,
            4,
            3,
            3,
            2,
            5,
            5,
            5,
            4,
            3,
            3,
            2,
            3,
            4,
            1,
            5,
            5,
            5,
            5,
            4,
            4,
            4,
            4,
            4,
            4,
            4,
            4,
            4,
            4,
            4,
            4,
            4,
            4,
            4,
            4,
            4,
            4,
            4,
            4,
            4,
            4,
            4,
            4,
            4,
            4,
            4,
            4,
            4,
            4,
            4,
            4,
            4,
            5,
            4,
            1,
            4,
            4,
            4,
            4,
            4,
            4,
            4,
            3,
            4
           ]
          },
          {
           "label": "epsilon",
           "range": [
            -1.986228987483809,
            -0.02615133353568462
           ],
           "ticktext": [
            "0.0103",
            "0.1",
            "0.942"
           ],
           "tickvals": [
            -1.986228987483809,
            -1,
            -0.02615133353568462
           ],
           "values": [
            -1.6484817948766246,
            -1.8670364376199298,
            -1.4680882088340854,
            -0.31609653116179864,
            -0.28422072118832054,
            -0.37169979502070644,
            -0.8294143871169529,
            -1.0175712956505643,
            -1.337010925100691,
            -1.2457230855736274,
            -1.0169739801838695,
            -1.952937768006029,
            -1.9609499860513873,
            -0.6719488419711569,
            -0.6574953260943748,
            -1.229106961576457,
            -0.649675340349026,
            -0.02615133353568462,
            -1.19732558120912,
            -0.7295313563631186,
            -0.47020110992890984,
            -1.1941327559211146,
            -1.5511220181717074,
            -1.197344155307813,
            -0.9021726254452688,
            -0.8776547693045628,
            -0.9410095416251015,
            -0.5377700922259528,
            -1.0711899989321105,
            -1.698757226316955,
            -0.7651195048448043,
            -1.38093587821923,
            -1.1242683765980468,
            -1.6611896423476544,
            -1.7435943671735816,
            -1.5522351323934234,
            -0.20678464173142772,
            -1.3907492157076713,
            -0.8908145456094321,
            -1.8293484756279037,
            -0.5291115355283429,
            -1.690285591592038,
            -1.7555911882437,
            -1.5132412796878794,
            -1.7811744891459795,
            -1.8918411321822635,
            -1.6313544853133686,
            -1.287716018187799,
            -0.9814858242741666,
            -1.4538114614337392,
            -0.6955688515127373,
            -1.6317641942135004,
            -1.873318221825101,
            -1.986228987483809,
            -1.7236848874097226,
            -0.6016996122633193,
            -0.39166036326405523,
            -0.33684375682132933,
            -0.6097515884954854,
            -0.4290500117481819,
            -0.41185477981101026,
            -0.21725684036776538,
            -0.5747501243174533,
            -0.5469901317385449,
            -0.8215479573279948,
            -0.8167539416501639,
            -0.5946196244385769,
            -0.5931274978611515,
            -0.7673269819318836,
            -0.5115948133382511,
            -0.5169658174668263,
            -0.5008110700382171,
            -0.6375771928868883,
            -0.5918910967418334,
            -0.6019462376319481,
            -0.6848812989174892,
            -0.823238373480573,
            -0.7493144178469482,
            -0.7628693204282987,
            -0.643814484172807,
            -0.747275594846642,
            -0.6981084920094454,
            -0.7075667429947428,
            -0.7083533749979817,
            -0.6925601777162455,
            -0.708241267960321,
            -0.6676829455379709,
            -0.9310347583425426,
            -0.465314669837987,
            -0.8515291524609129,
            -0.7128384624492958,
            -0.6496885274987547,
            -0.7843457256611699,
            -0.6533168153736504,
            -0.7147113326970553,
            -0.6378805822106265,
            -0.6446584789019344,
            -0.8741901130041556,
            -0.6633499684674653,
            -0.4668496423823746
           ]
          },
          {
           "label": "kernel",
           "range": [
            0,
            2
           ],
           "ticktext": [
            "rbf",
            "poly",
            "linear"
           ],
           "tickvals": [
            0,
            1,
            2
           ],
           "values": [
            0,
            0,
            1,
            0,
            2,
            0,
            0,
            2,
            2,
            0,
            1,
            0,
            0,
            0,
            1,
            0,
            0,
            0,
            1,
            2,
            0,
            0,
            0,
            0,
            0,
            0,
            0,
            0,
            2,
            1,
            0,
            0,
            0,
            0,
            0,
            0,
            0,
            0,
            1,
            2,
            0,
            0,
            0,
            0,
            0,
            0,
            0,
            2,
            0,
            1,
            0,
            0,
            0,
            0,
            0,
            0,
            0,
            0,
            2,
            0,
            1,
            0,
            0,
            0,
            0,
            0,
            0,
            0,
            0,
            0,
            0,
            0,
            0,
            0,
            0,
            0,
            2,
            0,
            1,
            0,
            0,
            0,
            0,
            0,
            0,
            0,
            0,
            0,
            0,
            0,
            2,
            0,
            0,
            0,
            0,
            0,
            0,
            1,
            0,
            0
           ]
          }
         ],
         "labelangle": 30,
         "labelside": "bottom",
         "line": {
          "color": [
           0.5183162881715709,
           0.5165805840690346,
           0.008777217144086347,
           0.3857200322759284,
           0.20597232148419434,
           0.45658212726898234,
           0.4804385940029327,
           0.16357233625440065,
           0.15952650768967913,
           0.5579080722045309,
           0.15866346350085814,
           0.540086892070081,
           0.5526803244008114,
           0.5741240754054475,
           -0.22179165466780235,
           0.5549044240070479,
           0.5030334684036658,
           0.46676573023825496,
           0.08454491609115003,
           0.1755612433063139,
           0.5536220349688559,
           0.5523475464301861,
           0.5253621408453619,
           0.5638231147187145,
           0.5677596923728936,
           0.5015355923973578,
           0.5337134075583909,
           0.5561700558171905,
           0.15928784791996534,
           -0.37860877622313005,
           0.5069094695960613,
           0.5553775980091752,
           0.5298005838740825,
           0.5608738434251986,
           0.5608689045050692,
           0.5228833932049736,
           0.5472949430200291,
           0.5587296307755066,
           -0.1440023851042407,
           0.14118300939235026,
           0.5335911340585056,
           0.5607859143552809,
           0.5509552708319884,
           0.5326671952920764,
           0.5373645265328404,
           0.5601339521772097,
           0.5443290825671471,
           0.1586548777084667,
           0.5511800793126266,
           -0.78087890381214,
           0.5251220090549115,
           0.5603379354809128,
           0.5604920636254676,
           0.5512142698368578,
           0.5406137229654016,
           0.5699674124005941,
           0.5635387354965525,
           0.5512588189065697,
           0.18222476685318165,
           0.5637533364783444,
           0.09856125609385309,
           0.5487330209134912,
           0.5725902959916149,
           0.56973376589848,
           0.5707863219826824,
           0.543977715825136,
           0.5724630591766077,
           0.5646944110669981,
           0.5626610168085746,
           0.5691082382367515,
           0.569021877373124,
           0.565165684015436,
           0.5736275176472725,
           0.5729409293248074,
           0.5585873533743386,
           0.5454312159028778,
           0.17086076411858556,
           0.5735105658088788,
           -4.13833111381694,
           0.5574102979117128,
           0.4469120503992568,
           0.5739931740509582,
           0.5740566825201379,
           0.5739797870595411,
           0.5736875251240897,
           0.5731883352308011,
           0.5701367583056354,
           0.5693257790646815,
           0.5636906581616394,
           0.5717578671120922,
           0.17666124650641607,
           0.5740493614800527,
           0.5612019269319293,
           0.5741601106450235,
           0.5736340744521682,
           0.5739980098527331,
           0.5676420877295619,
           -2.8862580899360117,
           0.5389353742033615,
           0.5672936873409373
          ],
          "colorbar": {
           "title": {
            "text": "Objective Value"
           }
          },
          "colorscale": [
           [
            0,
            "rgb(247,251,255)"
           ],
           [
            0.125,
            "rgb(222,235,247)"
           ],
           [
            0.25,
            "rgb(198,219,239)"
           ],
           [
            0.375,
            "rgb(158,202,225)"
           ],
           [
            0.5,
            "rgb(107,174,214)"
           ],
           [
            0.625,
            "rgb(66,146,198)"
           ],
           [
            0.75,
            "rgb(33,113,181)"
           ],
           [
            0.875,
            "rgb(8,81,156)"
           ],
           [
            1,
            "rgb(8,48,107)"
           ]
          ],
          "reversescale": false,
          "showscale": true
         },
         "type": "parcoords"
        }
       ],
       "layout": {
        "template": {
         "data": {
          "bar": [
           {
            "error_x": {
             "color": "#2a3f5f"
            },
            "error_y": {
             "color": "#2a3f5f"
            },
            "marker": {
             "line": {
              "color": "#E5ECF6",
              "width": 0.5
             },
             "pattern": {
              "fillmode": "overlay",
              "size": 10,
              "solidity": 0.2
             }
            },
            "type": "bar"
           }
          ],
          "barpolar": [
           {
            "marker": {
             "line": {
              "color": "#E5ECF6",
              "width": 0.5
             },
             "pattern": {
              "fillmode": "overlay",
              "size": 10,
              "solidity": 0.2
             }
            },
            "type": "barpolar"
           }
          ],
          "carpet": [
           {
            "aaxis": {
             "endlinecolor": "#2a3f5f",
             "gridcolor": "white",
             "linecolor": "white",
             "minorgridcolor": "white",
             "startlinecolor": "#2a3f5f"
            },
            "baxis": {
             "endlinecolor": "#2a3f5f",
             "gridcolor": "white",
             "linecolor": "white",
             "minorgridcolor": "white",
             "startlinecolor": "#2a3f5f"
            },
            "type": "carpet"
           }
          ],
          "choropleth": [
           {
            "colorbar": {
             "outlinewidth": 0,
             "ticks": ""
            },
            "type": "choropleth"
           }
          ],
          "contour": [
           {
            "colorbar": {
             "outlinewidth": 0,
             "ticks": ""
            },
            "colorscale": [
             [
              0,
              "#0d0887"
             ],
             [
              0.1111111111111111,
              "#46039f"
             ],
             [
              0.2222222222222222,
              "#7201a8"
             ],
             [
              0.3333333333333333,
              "#9c179e"
             ],
             [
              0.4444444444444444,
              "#bd3786"
             ],
             [
              0.5555555555555556,
              "#d8576b"
             ],
             [
              0.6666666666666666,
              "#ed7953"
             ],
             [
              0.7777777777777778,
              "#fb9f3a"
             ],
             [
              0.8888888888888888,
              "#fdca26"
             ],
             [
              1,
              "#f0f921"
             ]
            ],
            "type": "contour"
           }
          ],
          "contourcarpet": [
           {
            "colorbar": {
             "outlinewidth": 0,
             "ticks": ""
            },
            "type": "contourcarpet"
           }
          ],
          "heatmap": [
           {
            "colorbar": {
             "outlinewidth": 0,
             "ticks": ""
            },
            "colorscale": [
             [
              0,
              "#0d0887"
             ],
             [
              0.1111111111111111,
              "#46039f"
             ],
             [
              0.2222222222222222,
              "#7201a8"
             ],
             [
              0.3333333333333333,
              "#9c179e"
             ],
             [
              0.4444444444444444,
              "#bd3786"
             ],
             [
              0.5555555555555556,
              "#d8576b"
             ],
             [
              0.6666666666666666,
              "#ed7953"
             ],
             [
              0.7777777777777778,
              "#fb9f3a"
             ],
             [
              0.8888888888888888,
              "#fdca26"
             ],
             [
              1,
              "#f0f921"
             ]
            ],
            "type": "heatmap"
           }
          ],
          "heatmapgl": [
           {
            "colorbar": {
             "outlinewidth": 0,
             "ticks": ""
            },
            "colorscale": [
             [
              0,
              "#0d0887"
             ],
             [
              0.1111111111111111,
              "#46039f"
             ],
             [
              0.2222222222222222,
              "#7201a8"
             ],
             [
              0.3333333333333333,
              "#9c179e"
             ],
             [
              0.4444444444444444,
              "#bd3786"
             ],
             [
              0.5555555555555556,
              "#d8576b"
             ],
             [
              0.6666666666666666,
              "#ed7953"
             ],
             [
              0.7777777777777778,
              "#fb9f3a"
             ],
             [
              0.8888888888888888,
              "#fdca26"
             ],
             [
              1,
              "#f0f921"
             ]
            ],
            "type": "heatmapgl"
           }
          ],
          "histogram": [
           {
            "marker": {
             "pattern": {
              "fillmode": "overlay",
              "size": 10,
              "solidity": 0.2
             }
            },
            "type": "histogram"
           }
          ],
          "histogram2d": [
           {
            "colorbar": {
             "outlinewidth": 0,
             "ticks": ""
            },
            "colorscale": [
             [
              0,
              "#0d0887"
             ],
             [
              0.1111111111111111,
              "#46039f"
             ],
             [
              0.2222222222222222,
              "#7201a8"
             ],
             [
              0.3333333333333333,
              "#9c179e"
             ],
             [
              0.4444444444444444,
              "#bd3786"
             ],
             [
              0.5555555555555556,
              "#d8576b"
             ],
             [
              0.6666666666666666,
              "#ed7953"
             ],
             [
              0.7777777777777778,
              "#fb9f3a"
             ],
             [
              0.8888888888888888,
              "#fdca26"
             ],
             [
              1,
              "#f0f921"
             ]
            ],
            "type": "histogram2d"
           }
          ],
          "histogram2dcontour": [
           {
            "colorbar": {
             "outlinewidth": 0,
             "ticks": ""
            },
            "colorscale": [
             [
              0,
              "#0d0887"
             ],
             [
              0.1111111111111111,
              "#46039f"
             ],
             [
              0.2222222222222222,
              "#7201a8"
             ],
             [
              0.3333333333333333,
              "#9c179e"
             ],
             [
              0.4444444444444444,
              "#bd3786"
             ],
             [
              0.5555555555555556,
              "#d8576b"
             ],
             [
              0.6666666666666666,
              "#ed7953"
             ],
             [
              0.7777777777777778,
              "#fb9f3a"
             ],
             [
              0.8888888888888888,
              "#fdca26"
             ],
             [
              1,
              "#f0f921"
             ]
            ],
            "type": "histogram2dcontour"
           }
          ],
          "mesh3d": [
           {
            "colorbar": {
             "outlinewidth": 0,
             "ticks": ""
            },
            "type": "mesh3d"
           }
          ],
          "parcoords": [
           {
            "line": {
             "colorbar": {
              "outlinewidth": 0,
              "ticks": ""
             }
            },
            "type": "parcoords"
           }
          ],
          "pie": [
           {
            "automargin": true,
            "type": "pie"
           }
          ],
          "scatter": [
           {
            "marker": {
             "colorbar": {
              "outlinewidth": 0,
              "ticks": ""
             }
            },
            "type": "scatter"
           }
          ],
          "scatter3d": [
           {
            "line": {
             "colorbar": {
              "outlinewidth": 0,
              "ticks": ""
             }
            },
            "marker": {
             "colorbar": {
              "outlinewidth": 0,
              "ticks": ""
             }
            },
            "type": "scatter3d"
           }
          ],
          "scattercarpet": [
           {
            "marker": {
             "colorbar": {
              "outlinewidth": 0,
              "ticks": ""
             }
            },
            "type": "scattercarpet"
           }
          ],
          "scattergeo": [
           {
            "marker": {
             "colorbar": {
              "outlinewidth": 0,
              "ticks": ""
             }
            },
            "type": "scattergeo"
           }
          ],
          "scattergl": [
           {
            "marker": {
             "colorbar": {
              "outlinewidth": 0,
              "ticks": ""
             }
            },
            "type": "scattergl"
           }
          ],
          "scattermapbox": [
           {
            "marker": {
             "colorbar": {
              "outlinewidth": 0,
              "ticks": ""
             }
            },
            "type": "scattermapbox"
           }
          ],
          "scatterpolar": [
           {
            "marker": {
             "colorbar": {
              "outlinewidth": 0,
              "ticks": ""
             }
            },
            "type": "scatterpolar"
           }
          ],
          "scatterpolargl": [
           {
            "marker": {
             "colorbar": {
              "outlinewidth": 0,
              "ticks": ""
             }
            },
            "type": "scatterpolargl"
           }
          ],
          "scatterternary": [
           {
            "marker": {
             "colorbar": {
              "outlinewidth": 0,
              "ticks": ""
             }
            },
            "type": "scatterternary"
           }
          ],
          "surface": [
           {
            "colorbar": {
             "outlinewidth": 0,
             "ticks": ""
            },
            "colorscale": [
             [
              0,
              "#0d0887"
             ],
             [
              0.1111111111111111,
              "#46039f"
             ],
             [
              0.2222222222222222,
              "#7201a8"
             ],
             [
              0.3333333333333333,
              "#9c179e"
             ],
             [
              0.4444444444444444,
              "#bd3786"
             ],
             [
              0.5555555555555556,
              "#d8576b"
             ],
             [
              0.6666666666666666,
              "#ed7953"
             ],
             [
              0.7777777777777778,
              "#fb9f3a"
             ],
             [
              0.8888888888888888,
              "#fdca26"
             ],
             [
              1,
              "#f0f921"
             ]
            ],
            "type": "surface"
           }
          ],
          "table": [
           {
            "cells": {
             "fill": {
              "color": "#EBF0F8"
             },
             "line": {
              "color": "white"
             }
            },
            "header": {
             "fill": {
              "color": "#C8D4E3"
             },
             "line": {
              "color": "white"
             }
            },
            "type": "table"
           }
          ]
         },
         "layout": {
          "annotationdefaults": {
           "arrowcolor": "#2a3f5f",
           "arrowhead": 0,
           "arrowwidth": 1
          },
          "autotypenumbers": "strict",
          "coloraxis": {
           "colorbar": {
            "outlinewidth": 0,
            "ticks": ""
           }
          },
          "colorscale": {
           "diverging": [
            [
             0,
             "#8e0152"
            ],
            [
             0.1,
             "#c51b7d"
            ],
            [
             0.2,
             "#de77ae"
            ],
            [
             0.3,
             "#f1b6da"
            ],
            [
             0.4,
             "#fde0ef"
            ],
            [
             0.5,
             "#f7f7f7"
            ],
            [
             0.6,
             "#e6f5d0"
            ],
            [
             0.7,
             "#b8e186"
            ],
            [
             0.8,
             "#7fbc41"
            ],
            [
             0.9,
             "#4d9221"
            ],
            [
             1,
             "#276419"
            ]
           ],
           "sequential": [
            [
             0,
             "#0d0887"
            ],
            [
             0.1111111111111111,
             "#46039f"
            ],
            [
             0.2222222222222222,
             "#7201a8"
            ],
            [
             0.3333333333333333,
             "#9c179e"
            ],
            [
             0.4444444444444444,
             "#bd3786"
            ],
            [
             0.5555555555555556,
             "#d8576b"
            ],
            [
             0.6666666666666666,
             "#ed7953"
            ],
            [
             0.7777777777777778,
             "#fb9f3a"
            ],
            [
             0.8888888888888888,
             "#fdca26"
            ],
            [
             1,
             "#f0f921"
            ]
           ],
           "sequentialminus": [
            [
             0,
             "#0d0887"
            ],
            [
             0.1111111111111111,
             "#46039f"
            ],
            [
             0.2222222222222222,
             "#7201a8"
            ],
            [
             0.3333333333333333,
             "#9c179e"
            ],
            [
             0.4444444444444444,
             "#bd3786"
            ],
            [
             0.5555555555555556,
             "#d8576b"
            ],
            [
             0.6666666666666666,
             "#ed7953"
            ],
            [
             0.7777777777777778,
             "#fb9f3a"
            ],
            [
             0.8888888888888888,
             "#fdca26"
            ],
            [
             1,
             "#f0f921"
            ]
           ]
          },
          "colorway": [
           "#636efa",
           "#EF553B",
           "#00cc96",
           "#ab63fa",
           "#FFA15A",
           "#19d3f3",
           "#FF6692",
           "#B6E880",
           "#FF97FF",
           "#FECB52"
          ],
          "font": {
           "color": "#2a3f5f"
          },
          "geo": {
           "bgcolor": "white",
           "lakecolor": "white",
           "landcolor": "#E5ECF6",
           "showlakes": true,
           "showland": true,
           "subunitcolor": "white"
          },
          "hoverlabel": {
           "align": "left"
          },
          "hovermode": "closest",
          "mapbox": {
           "style": "light"
          },
          "paper_bgcolor": "white",
          "plot_bgcolor": "#E5ECF6",
          "polar": {
           "angularaxis": {
            "gridcolor": "white",
            "linecolor": "white",
            "ticks": ""
           },
           "bgcolor": "#E5ECF6",
           "radialaxis": {
            "gridcolor": "white",
            "linecolor": "white",
            "ticks": ""
           }
          },
          "scene": {
           "xaxis": {
            "backgroundcolor": "#E5ECF6",
            "gridcolor": "white",
            "gridwidth": 2,
            "linecolor": "white",
            "showbackground": true,
            "ticks": "",
            "zerolinecolor": "white"
           },
           "yaxis": {
            "backgroundcolor": "#E5ECF6",
            "gridcolor": "white",
            "gridwidth": 2,
            "linecolor": "white",
            "showbackground": true,
            "ticks": "",
            "zerolinecolor": "white"
           },
           "zaxis": {
            "backgroundcolor": "#E5ECF6",
            "gridcolor": "white",
            "gridwidth": 2,
            "linecolor": "white",
            "showbackground": true,
            "ticks": "",
            "zerolinecolor": "white"
           }
          },
          "shapedefaults": {
           "line": {
            "color": "#2a3f5f"
           }
          },
          "ternary": {
           "aaxis": {
            "gridcolor": "white",
            "linecolor": "white",
            "ticks": ""
           },
           "baxis": {
            "gridcolor": "white",
            "linecolor": "white",
            "ticks": ""
           },
           "bgcolor": "#E5ECF6",
           "caxis": {
            "gridcolor": "white",
            "linecolor": "white",
            "ticks": ""
           }
          },
          "title": {
           "x": 0.05
          },
          "xaxis": {
           "automargin": true,
           "gridcolor": "white",
           "linecolor": "white",
           "ticks": "",
           "title": {
            "standoff": 15
           },
           "zerolinecolor": "white",
           "zerolinewidth": 2
          },
          "yaxis": {
           "automargin": true,
           "gridcolor": "white",
           "linecolor": "white",
           "ticks": "",
           "title": {
            "standoff": 15
           },
           "zerolinecolor": "white",
           "zerolinewidth": 2
          }
         }
        },
        "title": {
         "text": "Parallel Coordinate Plot"
        }
       }
      }
     },
     "metadata": {},
     "output_type": "display_data"
    }
   ],
   "source": [
    "optuna.visualization.plot_parallel_coordinate(study)"
   ]
  },
  {
   "cell_type": "code",
   "execution_count": 40,
   "id": "1d419df8",
   "metadata": {},
   "outputs": [
    {
     "name": "stdout",
     "output_type": "stream",
     "text": [
      "Best trial: {'C': 17.520855820516907, 'epsilon': 0.2221688590069915, 'kernel': 'rbf', 'degree': 4}\n"
     ]
    }
   ],
   "source": [
    "print(\"Best trial:\", study.best_trial.params)"
   ]
  },
  {
   "cell_type": "code",
   "execution_count": 41,
   "id": "ffefef6c",
   "metadata": {},
   "outputs": [
    {
     "data": {
      "text/html": [
       "<style>#sk-container-id-2 {color: black;}#sk-container-id-2 pre{padding: 0;}#sk-container-id-2 div.sk-toggleable {background-color: white;}#sk-container-id-2 label.sk-toggleable__label {cursor: pointer;display: block;width: 100%;margin-bottom: 0;padding: 0.3em;box-sizing: border-box;text-align: center;}#sk-container-id-2 label.sk-toggleable__label-arrow:before {content: \"▸\";float: left;margin-right: 0.25em;color: #696969;}#sk-container-id-2 label.sk-toggleable__label-arrow:hover:before {color: black;}#sk-container-id-2 div.sk-estimator:hover label.sk-toggleable__label-arrow:before {color: black;}#sk-container-id-2 div.sk-toggleable__content {max-height: 0;max-width: 0;overflow: hidden;text-align: left;background-color: #f0f8ff;}#sk-container-id-2 div.sk-toggleable__content pre {margin: 0.2em;color: black;border-radius: 0.25em;background-color: #f0f8ff;}#sk-container-id-2 input.sk-toggleable__control:checked~div.sk-toggleable__content {max-height: 200px;max-width: 100%;overflow: auto;}#sk-container-id-2 input.sk-toggleable__control:checked~label.sk-toggleable__label-arrow:before {content: \"▾\";}#sk-container-id-2 div.sk-estimator input.sk-toggleable__control:checked~label.sk-toggleable__label {background-color: #d4ebff;}#sk-container-id-2 div.sk-label input.sk-toggleable__control:checked~label.sk-toggleable__label {background-color: #d4ebff;}#sk-container-id-2 input.sk-hidden--visually {border: 0;clip: rect(1px 1px 1px 1px);clip: rect(1px, 1px, 1px, 1px);height: 1px;margin: -1px;overflow: hidden;padding: 0;position: absolute;width: 1px;}#sk-container-id-2 div.sk-estimator {font-family: monospace;background-color: #f0f8ff;border: 1px dotted black;border-radius: 0.25em;box-sizing: border-box;margin-bottom: 0.5em;}#sk-container-id-2 div.sk-estimator:hover {background-color: #d4ebff;}#sk-container-id-2 div.sk-parallel-item::after {content: \"\";width: 100%;border-bottom: 1px solid gray;flex-grow: 1;}#sk-container-id-2 div.sk-label:hover label.sk-toggleable__label {background-color: #d4ebff;}#sk-container-id-2 div.sk-serial::before {content: \"\";position: absolute;border-left: 1px solid gray;box-sizing: border-box;top: 0;bottom: 0;left: 50%;z-index: 0;}#sk-container-id-2 div.sk-serial {display: flex;flex-direction: column;align-items: center;background-color: white;padding-right: 0.2em;padding-left: 0.2em;position: relative;}#sk-container-id-2 div.sk-item {position: relative;z-index: 1;}#sk-container-id-2 div.sk-parallel {display: flex;align-items: stretch;justify-content: center;background-color: white;position: relative;}#sk-container-id-2 div.sk-item::before, #sk-container-id-2 div.sk-parallel-item::before {content: \"\";position: absolute;border-left: 1px solid gray;box-sizing: border-box;top: 0;bottom: 0;left: 50%;z-index: -1;}#sk-container-id-2 div.sk-parallel-item {display: flex;flex-direction: column;z-index: 1;position: relative;background-color: white;}#sk-container-id-2 div.sk-parallel-item:first-child::after {align-self: flex-end;width: 50%;}#sk-container-id-2 div.sk-parallel-item:last-child::after {align-self: flex-start;width: 50%;}#sk-container-id-2 div.sk-parallel-item:only-child::after {width: 0;}#sk-container-id-2 div.sk-dashed-wrapped {border: 1px dashed gray;margin: 0 0.4em 0.5em 0.4em;box-sizing: border-box;padding-bottom: 0.4em;background-color: white;}#sk-container-id-2 div.sk-label label {font-family: monospace;font-weight: bold;display: inline-block;line-height: 1.2em;}#sk-container-id-2 div.sk-label-container {text-align: center;}#sk-container-id-2 div.sk-container {/* jupyter's `normalize.less` sets `[hidden] { display: none; }` but bootstrap.min.css set `[hidden] { display: none !important; }` so we also need the `!important` here to be able to override the default hidden behavior on the sphinx rendered scikit-learn.org. See: https://github.com/scikit-learn/scikit-learn/issues/21755 */display: inline-block !important;position: relative;}#sk-container-id-2 div.sk-text-repr-fallback {display: none;}</style><div id=\"sk-container-id-2\" class=\"sk-top-container\"><div class=\"sk-text-repr-fallback\"><pre>SVR(C=17.520855820516907, degree=4, epsilon=0.2221688590069915)</pre><b>In a Jupyter environment, please rerun this cell to show the HTML representation or trust the notebook. <br />On GitHub, the HTML representation is unable to render, please try loading this page with nbviewer.org.</b></div><div class=\"sk-container\" hidden><div class=\"sk-item\"><div class=\"sk-estimator sk-toggleable\"><input class=\"sk-toggleable__control sk-hidden--visually\" id=\"sk-estimator-id-2\" type=\"checkbox\" checked><label for=\"sk-estimator-id-2\" class=\"sk-toggleable__label sk-toggleable__label-arrow\">SVR</label><div class=\"sk-toggleable__content\"><pre>SVR(C=17.520855820516907, degree=4, epsilon=0.2221688590069915)</pre></div></div></div></div></div>"
      ],
      "text/plain": [
       "SVR(C=17.520855820516907, degree=4, epsilon=0.2221688590069915)"
      ]
     },
     "execution_count": 41,
     "metadata": {},
     "output_type": "execute_result"
    }
   ],
   "source": [
    "svm_params = {\n",
    "    \"C\": study.best_trial.params[\"C\"],\n",
    "    \"epsilon\": study.best_trial.params[\"epsilon\"],\n",
    "    \"kernel\": study.best_trial.params[\"kernel\"],\n",
    "    \"degree\": study.best_trial.params[\"degree\"]\n",
    "}\n",
    "\n",
    "svm = SVR(**svm_params)\n",
    "svm.fit(Ni_X_train, Ni_y_train)"
   ]
  },
  {
   "cell_type": "code",
   "execution_count": 42,
   "id": "4c1a69d2",
   "metadata": {},
   "outputs": [],
   "source": [
    "y_train_pred = svm.predict(Ni_X_train)\n",
    "y_test_pred = svm.predict(Ni_X_test)"
   ]
  },
  {
   "cell_type": "code",
   "execution_count": 43,
   "id": "0f707a20",
   "metadata": {},
   "outputs": [
    {
     "name": "stdout",
     "output_type": "stream",
     "text": [
      "Train RMSE:  0.5785446770381696\n",
      "Test RMSE:  0.7875235212231646\n"
     ]
    }
   ],
   "source": [
    "print(\"Train RMSE: \", np.sqrt(mean_squared_error(Ni_y_train, y_train_pred)))\n",
    "print(\"Test RMSE: \", np.sqrt(mean_squared_error(Ni_y_test, y_test_pred)))"
   ]
  },
  {
   "cell_type": "code",
   "execution_count": 44,
   "id": "641d78f4",
   "metadata": {},
   "outputs": [
    {
     "name": "stdout",
     "output_type": "stream",
     "text": [
      "Train R2:  0.7668232044031189\n",
      "Test R2:  0.5571266457675118\n"
     ]
    }
   ],
   "source": [
    "print(\"Train R2: \", r2_score(Ni_y_train, y_train_pred))\n",
    "print(\"Test R2: \", r2_score(Ni_y_test, y_test_pred))"
   ]
  },
  {
   "cell_type": "code",
   "execution_count": 45,
   "id": "badc2f1d",
   "metadata": {},
   "outputs": [
    {
     "data": {
      "image/png": "[encoded data removed]",
      "text/plain": [
       "<Figure size 640x480 with 1 Axes>"
      ]
     },
     "metadata": {},
     "output_type": "display_data"
    }
   ],
   "source": [
    "plt.scatter(y_train_pred, np.array(Ni_y_train), color=\"orange\", alpha=0.3)\n",
    "plt.scatter(y_test_pred, np.array(Ni_y_test), color=\"green\", alpha=0.4)\n",
    "plt.axis(\"auto\") # scaled, tight, auto, image, square\n",
    "# plt.xlim([0, 1.5]) \n",
    "# plt.ylim(0, None) \n",
    "plt.xlabel('Predicted Values')\n",
    "plt.ylabel('Actual Values')\n",
    "\n",
    "# Add y=x line\n",
    "plt.plot([0, 4.0], [0, 4.0], color='red', linestyle='-')\n",
    "\n",
    "plt.show()"
   ]
  },
  {
   "cell_type": "code",
   "execution_count": 46,
   "id": "bb2a81ed",
   "metadata": {},
   "outputs": [],
   "source": [
    "Ni_pred = pd.DataFrame(y_train_pred, columns = ['Ni_pred'])\n",
    "Ni_pred_test = pd.DataFrame(y_test_pred, columns = ['Ni_pred'])"
   ]
  },
  {
   "cell_type": "code",
   "execution_count": 47,
   "id": "3880dabd",
   "metadata": {},
   "outputs": [],
   "source": [
    "Ni_y_train = Ni_y_train.reset_index(drop = False)\n",
    "Ni_y_test = Ni_y_test.reset_index(drop = False)"
   ]
  },
  {
   "cell_type": "code",
   "execution_count": 48,
   "id": "c3961ad7",
   "metadata": {},
   "outputs": [],
   "source": [
    "Ni_data = pd.concat([Ni_pred, Ni_y_train], axis = 1)\n",
    "Ni_data_test = pd.concat([Ni_pred_test, Ni_y_test], axis = 1)"
   ]
  },
  {
   "cell_type": "code",
   "execution_count": 49,
   "id": "5c79ed7e",
   "metadata": {},
   "outputs": [],
   "source": [
    "Ni_data.to_csv('SVM_Ni_train_data.csv', sep = ',')\n",
    "Ni_data_test.to_csv('SVM_Ni_test_data.csv', sep = ',')"
   ]
  }
 ],
 "metadata": {
  "kernelspec": {
   "display_name": "Python 3",
   "language": "python",
   "name": "python3"
  },
  "language_info": {
   "codemirror_mode": {
    "name": "ipython",
    "version": 3
   },
   "file_extension": ".py",
   "mimetype": "text/x-python",
   "name": "python",
   "nbconvert_exporter": "python",
   "pygments_lexer": "ipython3",
   "version": "3.8.11"
  }
 },
 "nbformat": 4,
 "nbformat_minor": 5
}
