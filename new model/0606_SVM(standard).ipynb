{
 "cells": [
  {
   "attachments": {},
   "cell_type": "markdown",
   "id": "451911be",
   "metadata": {},
   "source": [
    "#### Library import"
   ]
  },
  {
   "cell_type": "code",
   "execution_count": 1,
   "id": "8a394942",
   "metadata": {},
   "outputs": [],
   "source": [
    "import os\n",
    "import pandas as pd\n",
    "import numpy as np\n",
    "import matplotlib.pyplot as plt\n",
    "%matplotlib inline\n",
    "import seaborn as sns\n",
    "import tensorflow as tf\n",
    "import missingno as msno\n",
    "\n",
    "import warnings\n",
    "warnings.filterwarnings('ignore')\n",
    "\n",
    "from sklearn.model_selection import train_test_split\n",
    "from sklearn.model_selection import GridSearchCV\n",
    "from sklearn.metrics import mean_squared_error, r2_score\n",
    "from sklearn.preprocessing import StandardScaler, MinMaxScaler, RobustScaler\n",
    "from sklearn.ensemble import RandomForestRegressor, GradientBoostingRegressor, ExtraTreesRegressor\n",
    "from sklearn.model_selection import KFold\n",
    "from lightgbm import LGBMRegressor\n",
    "from xgboost import XGBRegressor\n",
    "from ngboost import NGBRegressor\n",
    "from scipy.stats import norm, skew\n",
    "\n",
    "from matplotlib.ticker import FormatStrFormatter\n",
    "\n",
    "from tensorflow import keras\n",
    "\n",
    "import re\n",
    "from tqdm import tqdm"
   ]
  },
  {
   "attachments": {},
   "cell_type": "markdown",
   "id": "31a13d68",
   "metadata": {},
   "source": [
    "#### GPU setting"
   ]
  },
  {
   "cell_type": "code",
   "execution_count": 2,
   "id": "cd001f36",
   "metadata": {},
   "outputs": [],
   "source": [
    "from tensorflow.compat.v1 import ConfigProto\n",
    "from tensorflow.compat.v1 import InteractiveSession"
   ]
  },
  {
   "cell_type": "code",
   "execution_count": 3,
   "id": "2aa07618",
   "metadata": {},
   "outputs": [],
   "source": [
    "config = ConfigProto()\n",
    "config.gpu_options.per_process_gpu_memory_fraction = 0.4\n",
    "session = InteractiveSession(config = config)"
   ]
  },
  {
   "cell_type": "code",
   "execution_count": 4,
   "id": "2a6c1daf",
   "metadata": {},
   "outputs": [
    {
     "name": "stdout",
     "output_type": "stream",
     "text": [
      "[name: \"/device:CPU:0\"\n",
      "device_type: \"CPU\"\n",
      "memory_limit: 268435456\n",
      "locality {\n",
      "}\n",
      "incarnation: 1362465310196135994\n",
      ", name: \"/device:GPU:0\"\n",
      "device_type: \"GPU\"\n",
      "memory_limit: 3435973836\n",
      "locality {\n",
      "  bus_id: 1\n",
      "  links {\n",
      "  }\n",
      "}\n",
      "incarnation: 16253105221078907445\n",
      "physical_device_desc: \"device: 0, name: NVIDIA GeForce RTX 3060 Ti, pci bus id: 0000:07:00.0, compute capability: 8.6\"\n",
      "]\n"
     ]
    }
   ],
   "source": [
    "physical_devices = tf.config.list_physical_devices('GPU')\n",
    "physical_devices\n",
    "\n",
    "from tensorflow.python.client import device_lib\n",
    "\n",
    "print(device_lib.list_local_devices())"
   ]
  },
  {
   "cell_type": "code",
   "execution_count": 5,
   "id": "1c58374d",
   "metadata": {},
   "outputs": [],
   "source": [
    "import os\n",
    "\n",
    "os.environ[\"CUDA_VISIBLE_DEVICES\"]=\"0\"\n",
    "gpus = tf.config.experimental.list_physical_devices('GPU')\n",
    "if gpus:\n",
    "    try:\n",
    "        tf.config.experimental.set_memory_growth(gpus[0], True)\n",
    "    except RuntimeError as e:\n",
    "        print(e)"
   ]
  },
  {
   "attachments": {},
   "cell_type": "markdown",
   "id": "cb740f81",
   "metadata": {},
   "source": [
    "#### Data import and preprocessing"
   ]
  },
  {
   "cell_type": "code",
   "execution_count": 6,
   "id": "9288345d",
   "metadata": {
    "scrolled": true
   },
   "outputs": [
    {
     "data": {
      "text/plain": [
       "Index(['OBJECTID_x', 'ID', 'pH', 'As', 'Cd', 'Ni', 'Pb', 'Zn', 'Hg', 'slope',\n",
       "       'altitude', 'profile_curve', 'profile_c_num', 'profile_c_abs',\n",
       "       'planform_curve', 'planform_c_num', 'planform_c_abs', 'HYDGRP',\n",
       "       'HYDGRP_A', 'HYDGRP_B', 'HYDGRP_C', 'HYDGRP_D', 'ANION_EXCL', 'SOL_CRK',\n",
       "       'SOL_K1', 'CLAY1', 'SILT1', 'SAND1', 'ROCK1', 'SOL_EC1', 'distance'],\n",
       "      dtype='object')"
      ]
     },
     "execution_count": 6,
     "metadata": {},
     "output_type": "execute_result"
    }
   ],
   "source": [
    "data = pd.read_csv(\"data/data.csv\")\n",
    "data.columns"
   ]
  },
  {
   "cell_type": "code",
   "execution_count": 7,
   "id": "bbf87a23",
   "metadata": {},
   "outputs": [
    {
     "data": {
      "text/plain": [
       "Index(['pH', 'As', 'Cd', 'Ni', 'Pb', 'Zn', 'Hg', 'slope', 'altitude',\n",
       "       'profile_curve', 'planform_curve', 'HYDGRP_A', 'HYDGRP_B', 'HYDGRP_C',\n",
       "       'HYDGRP_D', 'SOL_K1', 'CLAY1', 'SILT1', 'SAND1', 'ROCK1', 'distance'],\n",
       "      dtype='object')"
      ]
     },
     "execution_count": 7,
     "metadata": {},
     "output_type": "execute_result"
    }
   ],
   "source": [
    "data = data.drop(['OBJECTID_x','ID','HYDGRP','profile_c_num', 'profile_c_abs','planform_c_num', 'planform_c_abs','ANION_EXCL','SOL_CRK','SOL_EC1'], axis = 1)\n",
    "data.columns"
   ]
  },
  {
   "cell_type": "code",
   "execution_count": 8,
   "id": "2dc33c24",
   "metadata": {},
   "outputs": [],
   "source": [
    "As = data\n",
    "Cd = data\n",
    "Ni = data"
   ]
  },
  {
   "cell_type": "code",
   "execution_count": 9,
   "id": "85f4f13d",
   "metadata": {},
   "outputs": [],
   "source": [
    "As = As.drop([\"Cd\", \"Ni\", \"Pb\", \"Zn\", \"Hg\"], axis = 1)\n",
    "Cd = Cd.drop([\"As\", \"Ni\", \"Pb\", \"Zn\", \"Hg\"], axis = 1)\n",
    "Ni = Ni.drop([\"As\", \"Cd\", \"Pb\", \"Zn\", \"Hg\"], axis = 1)"
   ]
  },
  {
   "attachments": {},
   "cell_type": "markdown",
   "id": "32a5223d",
   "metadata": {},
   "source": [
    "#### Oversampling by SMOGN (SMOTE Regression)"
   ]
  },
  {
   "cell_type": "code",
   "execution_count": 10,
   "id": "68a479be",
   "metadata": {},
   "outputs": [],
   "source": [
    "import smogn"
   ]
  },
  {
   "cell_type": "code",
   "execution_count": 11,
   "id": "60543147",
   "metadata": {},
   "outputs": [
    {
     "name": "stderr",
     "output_type": "stream",
     "text": [
      "dist_matrix: 100%|##########| 248/248 [00:22<00:00, 10.95it/s]\n",
      "synth_matrix: 100%|##########| 248/248 [00:01<00:00, 217.88it/s]\n",
      "r_index: 100%|##########| 223/223 [00:00<00:00, 648.11it/s]\n",
      "dist_matrix: 100%|##########| 259/259 [00:24<00:00, 10.56it/s]\n",
      "synth_matrix: 100%|##########| 259/259 [00:01<00:00, 218.52it/s]\n",
      "r_index: 100%|##########| 155/155 [00:00<00:00, 648.39it/s]\n",
      "dist_matrix: 100%|##########| 242/242 [00:21<00:00, 11.29it/s]\n",
      "synth_matrix: 100%|##########| 242/242 [00:01<00:00, 165.72it/s]\n"
     ]
    }
   ],
   "source": [
    "As_smogn = smogn.smoter(data = As, y = 'As', samp_method = 'extreme')\n",
    "Cd_smogn = smogn.smoter(data = Cd, y = 'Cd', samp_method = 'extreme')\n",
    "Ni_smogn = smogn.smoter(data = Ni, y = 'Ni', samp_method = 'extreme')"
   ]
  },
  {
   "attachments": {},
   "cell_type": "markdown",
   "id": "ed72a9b1",
   "metadata": {},
   "source": [
    "#### Eliminate outlier and train / test split"
   ]
  },
  {
   "cell_type": "code",
   "execution_count": 12,
   "id": "43604a42",
   "metadata": {},
   "outputs": [],
   "source": [
    "def eli_outlier(data, value):\n",
    "    q1 = data[value].quantile(0.25)\n",
    "    q3 = data[value].quantile(0.75)\n",
    "\n",
    "    iqr = q3 - q1\n",
    "\n",
    "    q1_condition = data[value] < q1-1.5*iqr\n",
    "    q3_condition = data[value] > q3+1.5*iqr\n",
    "\n",
    "    reset_q1_index = data[q1_condition].index\n",
    "    reset_q3_index = data[q3_condition].index\n",
    "\n",
    "    data.drop(reset_q1_index, inplace = True)\n",
    "    data.drop(reset_q3_index, inplace = True)\n",
    "\n",
    "    return data"
   ]
  },
  {
   "cell_type": "code",
   "execution_count": 13,
   "id": "9b7632f2",
   "metadata": {},
   "outputs": [],
   "source": [
    "As_ros = eli_outlier(As_smogn, \"As\")\n",
    "Cd_ros = eli_outlier(Cd_smogn, \"Cd\")\n",
    "Ni_ros = eli_outlier(Ni_smogn, \"Ni\")"
   ]
  },
  {
   "cell_type": "code",
   "execution_count": 14,
   "id": "45ec138e",
   "metadata": {},
   "outputs": [],
   "source": [
    "As_X = As_ros.drop([\"As\"], axis=1)\n",
    "Cd_X = Cd_ros.drop([\"Cd\"], axis=1)\n",
    "Ni_X = Ni_ros.drop([\"Ni\"], axis=1)\n",
    "\n",
    "As_y = As_ros[\"As\"]\n",
    "Cd_y = Cd_ros[\"Cd\"]\n",
    "Ni_y = Ni_ros[\"Ni\"]"
   ]
  },
  {
   "cell_type": "code",
   "execution_count": 15,
   "id": "6463b1c2",
   "metadata": {},
   "outputs": [],
   "source": [
    "As_y = np.log1p(As_ros[\"As\"])\n",
    "Cd_y = np.log1p(Cd_ros[\"Cd\"])\n",
    "Ni_y = np.log1p(Ni_ros[\"Ni\"])"
   ]
  },
  {
   "cell_type": "code",
   "execution_count": 16,
   "id": "fb94ff27",
   "metadata": {},
   "outputs": [
    {
     "name": "stdout",
     "output_type": "stream",
     "text": [
      "(1643, 15)\n",
      "(1817, 15)\n",
      "(2069, 15)\n"
     ]
    }
   ],
   "source": [
    "print(As_X.shape)\n",
    "print(Cd_X.shape)\n",
    "print(Ni_X.shape)"
   ]
  },
  {
   "attachments": {},
   "cell_type": "markdown",
   "id": "c92e5bb6",
   "metadata": {},
   "source": [
    "StandardScaler"
   ]
  },
  {
   "cell_type": "code",
   "execution_count": 17,
   "id": "a82f8786",
   "metadata": {},
   "outputs": [],
   "source": [
    "from sklearn.preprocessing import StandardScaler\n",
    "\n",
    "scaler = StandardScaler()\n",
    "\n",
    "As_X_train, As_X_test, As_y_train, As_y_test = train_test_split(As_X, As_y, test_size=0.2, random_state=42)\n",
    "Cd_X_train, Cd_X_test, Cd_y_train, Cd_y_test = train_test_split(Cd_X, Cd_y, test_size=0.2, random_state=42)\n",
    "Ni_X_train, Ni_X_test, Ni_y_train, Ni_y_test = train_test_split(Ni_X, Ni_y, test_size=0.2, random_state=42)\n",
    "\n",
    "As_X_train = scaler.fit_transform(As_X_train)\n",
    "As_X_test = scaler.fit_transform(As_X_test)\n",
    "\n",
    "Cd_X_train = scaler.fit_transform(Cd_X_train)\n",
    "Cd_X_test = scaler.fit_transform(Cd_X_test)\n",
    "\n",
    "Ni_X_train = scaler.fit_transform(Ni_X_train)\n",
    "Ni_X_test = scaler.fit_transform(Ni_X_test)"
   ]
  },
  {
   "cell_type": "code",
   "execution_count": 18,
   "id": "416a7027",
   "metadata": {},
   "outputs": [
    {
     "data": {
      "text/plain": [
       "' from sklearn.preprocessing import StandardScaler\\n\\nscaler = StandardScaler()\\nAs_X_scaled = scaler.fit_transform(As_X)\\nCd_X_scaled = scaler.fit_transform(Cd_X)\\nNi_X_scaled = scaler.fit_transform(Ni_X)\\n\\nAs_X_train, As_X_test, As_y_train, As_y_test = train_test_split(As_X_scaled, As_y, test_size=0.2, random_state=42)\\nCd_X_train, Cd_X_test, Cd_y_train, Cd_y_test = train_test_split(Cd_X_scaled, Cd_y, test_size=0.2, random_state=42)\\nNi_X_train, Ni_X_test, Ni_y_train, Ni_y_test = train_test_split(Ni_X_scaled, Ni_y, test_size=0.2, random_state=42) '"
      ]
     },
     "execution_count": 18,
     "metadata": {},
     "output_type": "execute_result"
    }
   ],
   "source": [
    "''' from sklearn.preprocessing import StandardScaler\n",
    "\n",
    "scaler = StandardScaler()\n",
    "As_X_scaled = scaler.fit_transform(As_X)\n",
    "Cd_X_scaled = scaler.fit_transform(Cd_X)\n",
    "Ni_X_scaled = scaler.fit_transform(Ni_X)\n",
    "\n",
    "As_X_train, As_X_test, As_y_train, As_y_test = train_test_split(As_X_scaled, As_y, test_size=0.2, random_state=42)\n",
    "Cd_X_train, Cd_X_test, Cd_y_train, Cd_y_test = train_test_split(Cd_X_scaled, Cd_y, test_size=0.2, random_state=42)\n",
    "Ni_X_train, Ni_X_test, Ni_y_train, Ni_y_test = train_test_split(Ni_X_scaled, Ni_y, test_size=0.2, random_state=42) '''"
   ]
  },
  {
   "attachments": {},
   "cell_type": "markdown",
   "id": "2fe0d293",
   "metadata": {},
   "source": [
    "MinMaxScaler"
   ]
  },
  {
   "cell_type": "code",
   "execution_count": 19,
   "id": "e8596f9f",
   "metadata": {},
   "outputs": [],
   "source": [
    "# from sklearn.preprocessing import MinMaxScaler\n",
    "\n",
    "# scaler = MinMaxScaler()\n",
    "# As_X_scaled = scaler.fit_transform(As_X)\n",
    "# Cd_X_scaled = scaler.fit_transform(Cd_X)\n",
    "# Ni_X_scaled = scaler.fit_transform(Ni_X)\n",
    "\n",
    "# As_X_train, As_X_test, As_y_train, As_y_test = train_test_split(As_X_scaled, As_y, test_size=0.2, random_state=42)\n",
    "# Cd_X_train, Cd_X_test, Cd_y_train, Cd_y_test = train_test_split(Cd_X_scaled, Cd_y, test_size=0.2, random_state=42)\n",
    "# Ni_X_train, Ni_X_test, Ni_y_train, Ni_y_test = train_test_split(Ni_X_scaled, Ni_y, test_size=0.2, random_state=42)"
   ]
  },
  {
   "cell_type": "code",
   "execution_count": 20,
   "id": "66cd05c6",
   "metadata": {},
   "outputs": [
    {
     "name": "stdout",
     "output_type": "stream",
     "text": [
      "(1314, 15)\n",
      "(1453, 15)\n",
      "(1655, 15)\n"
     ]
    }
   ],
   "source": [
    "print(As_X_train.shape)\n",
    "print(Cd_X_train.shape)\n",
    "print(Ni_X_train.shape)"
   ]
  },
  {
   "attachments": {},
   "cell_type": "markdown",
   "id": "bd11b27e",
   "metadata": {},
   "source": [
    "#### 10-Fold Crossvalidation"
   ]
  },
  {
   "cell_type": "code",
   "execution_count": 21,
   "id": "7a765916",
   "metadata": {},
   "outputs": [],
   "source": [
    "# kf = KFold(n_splits = 10, random_state = 42, shuffle = True)"
   ]
  },
  {
   "attachments": {},
   "cell_type": "markdown",
   "id": "859638d0",
   "metadata": {},
   "source": [
    "#### Optuna Optimization"
   ]
  },
  {
   "cell_type": "code",
   "execution_count": 22,
   "id": "92a47d83",
   "metadata": {},
   "outputs": [],
   "source": [
    "import optuna\n",
    "\n",
    "from optuna import Trial\n",
    "from optuna.samplers import TPESampler"
   ]
  },
  {
   "cell_type": "code",
   "execution_count": 23,
   "id": "a7669fea",
   "metadata": {},
   "outputs": [],
   "source": [
    "from sklearn.model_selection import cross_val_score, KFold\n",
    "from sklearn.svm import SVR\n",
    "\n",
    "\n",
    "def objectiveSVM(trial: Trial, X_train, y_train) -> float:\n",
    "    C = trial.suggest_loguniform('C', 0.1, 100.0)\n",
    "    epsilon = trial.suggest_loguniform('epsilon', 0.01, 1.0)\n",
    "    kernel = trial.suggest_categorical('kernel', ['linear', 'rbf', 'poly'])\n",
    "    degree = trial.suggest_int('degree', 1, 5)\n",
    "    \n",
    "    kf = KFold(n_splits=5, shuffle=True, random_state=42)\n",
    "\n",
    "    model = SVR(C=C, epsilon=epsilon, kernel=kernel, degree=degree)\n",
    "\n",
    "    r2 = cross_val_score(model, X_train, y_train, scoring='r2', cv=kf)\n",
    "    r2 = r2.mean()\n",
    "\n",
    "    return r2\n"
   ]
  },
  {
   "attachments": {},
   "cell_type": "markdown",
   "id": "b0988f46",
   "metadata": {},
   "source": [
    "####  Optimization"
   ]
  },
  {
   "cell_type": "code",
   "execution_count": 24,
   "id": "94f5e00d",
   "metadata": {
    "scrolled": false
   },
   "outputs": [
    {
     "name": "stderr",
     "output_type": "stream",
     "text": [
      "\u001b[32m[I 2023-08-23 21:37:40,209]\u001b[0m A new study created in memory with name: svm_parameter_opt\u001b[0m\n",
      "\u001b[32m[I 2023-08-23 21:37:40,522]\u001b[0m Trial 0 finished with value: 0.0643772658426155 and parameters: {'C': 1.269801585392111, 'epsilon': 0.227543698270199, 'kernel': 'poly', 'degree': 2}. Best is trial 0 with value: 0.0643772658426155.\u001b[0m\n",
      "\u001b[32m[I 2023-08-23 21:37:40,949]\u001b[0m Trial 1 finished with value: 0.4101700172406041 and parameters: {'C': 5.474093719116146, 'epsilon': 0.10697156537623843, 'kernel': 'rbf', 'degree': 2}. Best is trial 1 with value: 0.4101700172406041.\u001b[0m\n",
      "\u001b[32m[I 2023-08-23 21:37:41,229]\u001b[0m Trial 2 finished with value: 0.16325603906157507 and parameters: {'C': 0.16371807345599984, 'epsilon': 0.15342816127246214, 'kernel': 'linear', 'degree': 5}. Best is trial 1 with value: 0.4101700172406041.\u001b[0m\n",
      "\u001b[32m[I 2023-08-23 21:37:41,735]\u001b[0m Trial 3 finished with value: 0.16277868422424308 and parameters: {'C': 0.8540743981793352, 'epsilon': 0.14936135372729933, 'kernel': 'linear', 'degree': 3}. Best is trial 1 with value: 0.4101700172406041.\u001b[0m\n",
      "\u001b[32m[I 2023-08-23 21:37:41,853]\u001b[0m Trial 4 finished with value: 0.15721443018152265 and parameters: {'C': 0.294582995102997, 'epsilon': 0.933766129155547, 'kernel': 'linear', 'degree': 1}. Best is trial 1 with value: 0.4101700172406041.\u001b[0m\n",
      "\u001b[32m[I 2023-08-23 21:37:42,145]\u001b[0m Trial 5 finished with value: 0.16389243756995817 and parameters: {'C': 0.11697731256650577, 'epsilon': 0.031851495827744075, 'kernel': 'linear', 'degree': 5}. Best is trial 1 with value: 0.4101700172406041.\u001b[0m\n",
      "\u001b[32m[I 2023-08-23 21:37:42,747]\u001b[0m Trial 6 finished with value: 0.1646272223335261 and parameters: {'C': 0.9462364339276553, 'epsilon': 0.028635429556782818, 'kernel': 'linear', 'degree': 5}. Best is trial 1 with value: 0.4101700172406041.\u001b[0m\n",
      "\u001b[32m[I 2023-08-23 21:37:43,056]\u001b[0m Trial 7 finished with value: 0.41190982911514384 and parameters: {'C': 2.898311958260834, 'epsilon': 0.23804491709724418, 'kernel': 'rbf', 'degree': 2}. Best is trial 7 with value: 0.41190982911514384.\u001b[0m\n",
      "\u001b[32m[I 2023-08-23 21:37:43,146]\u001b[0m Trial 8 finished with value: 0.27539706002235603 and parameters: {'C': 1.5726617307262805, 'epsilon': 0.9327736495148856, 'kernel': 'rbf', 'degree': 5}. Best is trial 7 with value: 0.41190982911514384.\u001b[0m\n",
      "\u001b[32m[I 2023-08-23 21:37:43,458]\u001b[0m Trial 9 finished with value: 0.1587020101046973 and parameters: {'C': 0.19533984015078532, 'epsilon': 0.08006374566031645, 'kernel': 'linear', 'degree': 4}. Best is trial 7 with value: 0.41190982911514384.\u001b[0m\n",
      "\u001b[32m[I 2023-08-23 21:37:44,869]\u001b[0m Trial 10 finished with value: 0.1538324666263376 and parameters: {'C': 61.73729891318501, 'epsilon': 0.011223885110675205, 'kernel': 'rbf', 'degree': 1}. Best is trial 7 with value: 0.41190982911514384.\u001b[0m\n",
      "\u001b[32m[I 2023-08-23 21:37:45,154]\u001b[0m Trial 11 finished with value: 0.3962478710122557 and parameters: {'C': 10.008013646555677, 'epsilon': 0.40496960776969415, 'kernel': 'rbf', 'degree': 2}. Best is trial 7 with value: 0.41190982911514384.\u001b[0m\n",
      "\u001b[32m[I 2023-08-23 21:37:45,670]\u001b[0m Trial 12 finished with value: 0.38602003623322434 and parameters: {'C': 8.716253365228042, 'epsilon': 0.06445245392703865, 'kernel': 'rbf', 'degree': 2}. Best is trial 7 with value: 0.41190982911514384.\u001b[0m\n",
      "\u001b[32m[I 2023-08-23 21:37:45,945]\u001b[0m Trial 13 finished with value: 0.40976936174451983 and parameters: {'C': 7.004624247676753, 'epsilon': 0.3863100182785133, 'kernel': 'rbf', 'degree': 3}. Best is trial 7 with value: 0.41190982911514384.\u001b[0m\n",
      "\u001b[32m[I 2023-08-23 21:37:47,241]\u001b[0m Trial 14 finished with value: -3.81512300467534 and parameters: {'C': 32.719370174328745, 'epsilon': 0.35469928951082635, 'kernel': 'poly', 'degree': 2}. Best is trial 7 with value: 0.41190982911514384.\u001b[0m\n",
      "\u001b[32m[I 2023-08-23 21:37:47,705]\u001b[0m Trial 15 finished with value: 0.4023216254491828 and parameters: {'C': 4.460355259349822, 'epsilon': 0.04580573586751253, 'kernel': 'rbf', 'degree': 1}. Best is trial 7 with value: 0.41190982911514384.\u001b[0m\n",
      "\u001b[32m[I 2023-08-23 21:37:48,352]\u001b[0m Trial 16 finished with value: 0.33789447071892675 and parameters: {'C': 23.684805635876884, 'epsilon': 0.1259748271187281, 'kernel': 'rbf', 'degree': 3}. Best is trial 7 with value: 0.41190982911514384.\u001b[0m\n",
      "\u001b[32m[I 2023-08-23 21:37:48,645]\u001b[0m Trial 17 finished with value: 0.41006981767977607 and parameters: {'C': 2.3355398035745463, 'epsilon': 0.2618587661793427, 'kernel': 'rbf', 'degree': 4}. Best is trial 7 with value: 0.41190982911514384.\u001b[0m\n",
      "\u001b[32m[I 2023-08-23 21:37:49,189]\u001b[0m Trial 18 finished with value: -1.6303376823954825 and parameters: {'C': 18.53361196183522, 'epsilon': 0.5738961455848182, 'kernel': 'poly', 'degree': 2}. Best is trial 7 with value: 0.41190982911514384.\u001b[0m\n",
      "\u001b[32m[I 2023-08-23 21:37:49,549]\u001b[0m Trial 19 finished with value: 0.36919146188768504 and parameters: {'C': 0.44274210782013906, 'epsilon': 0.09064841976367963, 'kernel': 'rbf', 'degree': 4}. Best is trial 7 with value: 0.41190982911514384.\u001b[0m\n",
      "\u001b[32m[I 2023-08-23 21:37:50,020]\u001b[0m Trial 20 finished with value: 0.4009256997430848 and parameters: {'C': 3.539823233609579, 'epsilon': 0.014411150492387698, 'kernel': 'rbf', 'degree': 1}. Best is trial 7 with value: 0.41190982911514384.\u001b[0m\n",
      "\u001b[32m[I 2023-08-23 21:37:50,316]\u001b[0m Trial 21 finished with value: 0.4103484155041093 and parameters: {'C': 2.398312409859073, 'epsilon': 0.2520124239669626, 'kernel': 'rbf', 'degree': 4}. Best is trial 7 with value: 0.41190982911514384.\u001b[0m\n",
      "\u001b[32m[I 2023-08-23 21:37:50,637]\u001b[0m Trial 22 finished with value: 0.409501068955248 and parameters: {'C': 2.6675980335352043, 'epsilon': 0.2056103163169732, 'kernel': 'rbf', 'degree': 4}. Best is trial 7 with value: 0.41190982911514384.\u001b[0m\n",
      "\u001b[32m[I 2023-08-23 21:37:50,823]\u001b[0m Trial 23 finished with value: 0.3905085043990386 and parameters: {'C': 4.914292659614957, 'epsilon': 0.5778383341584526, 'kernel': 'rbf', 'degree': 3}. Best is trial 7 with value: 0.41190982911514384.\u001b[0m\n",
      "\u001b[32m[I 2023-08-23 21:37:51,157]\u001b[0m Trial 24 finished with value: 0.37463851750363053 and parameters: {'C': 0.5299372809737054, 'epsilon': 0.1273692833277154, 'kernel': 'rbf', 'degree': 2}. Best is trial 7 with value: 0.41190982911514384.\u001b[0m\n",
      "\u001b[32m[I 2023-08-23 21:37:52,572]\u001b[0m Trial 25 finished with value: -0.46181623243205616 and parameters: {'C': 13.643875385131635, 'epsilon': 0.05829773741178826, 'kernel': 'poly', 'degree': 3}. Best is trial 7 with value: 0.41190982911514384.\u001b[0m\n",
      "\u001b[32m[I 2023-08-23 21:37:52,890]\u001b[0m Trial 26 finished with value: 0.40647925110721495 and parameters: {'C': 1.974835460955136, 'epsilon': 0.19627454250016313, 'kernel': 'rbf', 'degree': 4}. Best is trial 7 with value: 0.41190982911514384.\u001b[0m\n",
      "\u001b[32m[I 2023-08-23 21:37:53,169]\u001b[0m Trial 27 finished with value: 0.4159911014939108 and parameters: {'C': 4.373408714793678, 'epsilon': 0.3305508118982631, 'kernel': 'rbf', 'degree': 2}. Best is trial 27 with value: 0.4159911014939108.\u001b[0m\n",
      "\u001b[32m[I 2023-08-23 21:37:53,444]\u001b[0m Trial 28 finished with value: 0.41107552535460795 and parameters: {'C': 2.822291706216289, 'epsilon': 0.3002479417471618, 'kernel': 'rbf', 'degree': 3}. Best is trial 27 with value: 0.4159911014939108.\u001b[0m\n",
      "\u001b[32m[I 2023-08-23 21:37:53,601]\u001b[0m Trial 29 finished with value: 0.19303002354097107 and parameters: {'C': 1.2156086181553998, 'epsilon': 0.5773069161460065, 'kernel': 'poly', 'degree': 3}. Best is trial 27 with value: 0.4159911014939108.\u001b[0m\n",
      "\u001b[32m[I 2023-08-23 21:37:53,858]\u001b[0m Trial 30 finished with value: 0.3882270387658671 and parameters: {'C': 0.6057500955575746, 'epsilon': 0.2839380707810494, 'kernel': 'rbf', 'degree': 2}. Best is trial 27 with value: 0.4159911014939108.\u001b[0m\n",
      "\u001b[32m[I 2023-08-23 21:37:54,190]\u001b[0m Trial 31 finished with value: 0.41127935141308747 and parameters: {'C': 3.1808329204401957, 'epsilon': 0.19880760768248504, 'kernel': 'rbf', 'degree': 3}. Best is trial 27 with value: 0.4159911014939108.\u001b[0m\n",
      "\u001b[32m[I 2023-08-23 21:37:54,526]\u001b[0m Trial 32 finished with value: 0.4126321936382853 and parameters: {'C': 3.6764078852036532, 'epsilon': 0.20195727381584422, 'kernel': 'rbf', 'degree': 2}. Best is trial 27 with value: 0.4159911014939108.\u001b[0m\n",
      "\u001b[32m[I 2023-08-23 21:37:54,917]\u001b[0m Trial 33 finished with value: 0.4120909288290274 and parameters: {'C': 6.106047139673201, 'epsilon': 0.17670420903654707, 'kernel': 'rbf', 'degree': 2}. Best is trial 27 with value: 0.4159911014939108.\u001b[0m\n",
      "\u001b[32m[I 2023-08-23 21:37:55,310]\u001b[0m Trial 34 finished with value: 0.41110612828724713 and parameters: {'C': 6.254192233504215, 'epsilon': 0.16373863347691342, 'kernel': 'rbf', 'degree': 2}. Best is trial 27 with value: 0.4159911014939108.\u001b[0m\n",
      "\u001b[32m[I 2023-08-23 21:37:55,814]\u001b[0m Trial 35 finished with value: 0.38309145875283196 and parameters: {'C': 11.05378326538107, 'epsilon': 0.10537528098849595, 'kernel': 'rbf', 'degree': 1}. Best is trial 27 with value: 0.4159911014939108.\u001b[0m\n",
      "\u001b[32m[I 2023-08-23 21:37:56,058]\u001b[0m Trial 36 finished with value: -0.22016196909144953 and parameters: {'C': 4.667913324817667, 'epsilon': 0.507999181262949, 'kernel': 'poly', 'degree': 2}. Best is trial 27 with value: 0.4159911014939108.\u001b[0m\n",
      "\u001b[32m[I 2023-08-23 21:37:56,769]\u001b[0m Trial 37 finished with value: 0.16100291925893315 and parameters: {'C': 1.564674482656116, 'epsilon': 0.14686480902583288, 'kernel': 'linear', 'degree': 1}. Best is trial 27 with value: 0.4159911014939108.\u001b[0m\n",
      "\u001b[32m[I 2023-08-23 21:37:57,057]\u001b[0m Trial 38 finished with value: 0.4095338421392435 and parameters: {'C': 6.8435650196770155, 'epsilon': 0.35187131017583545, 'kernel': 'rbf', 'degree': 2}. Best is trial 27 with value: 0.4159911014939108.\u001b[0m\n",
      "\u001b[32m[I 2023-08-23 21:37:57,631]\u001b[0m Trial 39 finished with value: 0.16535234994074782 and parameters: {'C': 1.0919311718795555, 'epsilon': 0.17358338663618555, 'kernel': 'linear', 'degree': 1}. Best is trial 27 with value: 0.4159911014939108.\u001b[0m\n",
      "\u001b[32m[I 2023-08-23 21:37:57,810]\u001b[0m Trial 40 finished with value: 0.32844937784928874 and parameters: {'C': 15.554435715047608, 'epsilon': 0.6934574510867879, 'kernel': 'rbf', 'degree': 2}. Best is trial 27 with value: 0.4159911014939108.\u001b[0m\n",
      "\u001b[32m[I 2023-08-23 21:37:58,140]\u001b[0m Trial 41 finished with value: 0.4132599796337345 and parameters: {'C': 3.545185928058237, 'epsilon': 0.2154482441679592, 'kernel': 'rbf', 'degree': 3}. Best is trial 27 with value: 0.4159911014939108.\u001b[0m\n",
      "\u001b[32m[I 2023-08-23 21:37:58,469]\u001b[0m Trial 42 finished with value: 0.4159354124007869 and parameters: {'C': 4.159949638127318, 'epsilon': 0.23298074482305964, 'kernel': 'rbf', 'degree': 2}. Best is trial 27 with value: 0.4159911014939108.\u001b[0m\n",
      "\u001b[32m[I 2023-08-23 21:37:58,853]\u001b[0m Trial 43 finished with value: 0.41009165812333226 and parameters: {'C': 3.7791336683442216, 'epsilon': 0.11979344402633622, 'kernel': 'rbf', 'degree': 2}. Best is trial 27 with value: 0.4159911014939108.\u001b[0m\n",
      "\u001b[32m[I 2023-08-23 21:37:59,155]\u001b[0m Trial 44 finished with value: 0.4066203052197343 and parameters: {'C': 1.7531058178867995, 'epsilon': 0.22759422254141556, 'kernel': 'rbf', 'degree': 3}. Best is trial 27 with value: 0.4159911014939108.\u001b[0m\n",
      "\u001b[32m[I 2023-08-23 21:37:59,469]\u001b[0m Trial 45 finished with value: 0.4061450717338356 and parameters: {'C': 8.061864439387906, 'epsilon': 0.3211667139740901, 'kernel': 'rbf', 'degree': 2}. Best is trial 27 with value: 0.4159911014939108.\u001b[0m\n",
      "\u001b[32m[I 2023-08-23 21:38:00,552]\u001b[0m Trial 46 finished with value: 0.16971343522764737 and parameters: {'C': 5.4573313711564495, 'epsilon': 0.4703840228356911, 'kernel': 'linear', 'degree': 2}. Best is trial 27 with value: 0.4159911014939108.\u001b[0m\n",
      "\u001b[32m[I 2023-08-23 21:38:00,897]\u001b[0m Trial 47 finished with value: 0.38781104676669625 and parameters: {'C': 0.7981178665334898, 'epsilon': 0.14694240428356842, 'kernel': 'rbf', 'degree': 1}. Best is trial 27 with value: 0.4159911014939108.\u001b[0m\n",
      "\u001b[32m[I 2023-08-23 21:38:01,426]\u001b[0m Trial 48 finished with value: 0.380738206250658 and parameters: {'C': 10.798447659222333, 'epsilon': 0.08332227259029452, 'kernel': 'rbf', 'degree': 3}. Best is trial 27 with value: 0.4159911014939108.\u001b[0m\n",
      "\u001b[32m[I 2023-08-23 21:38:01,614]\u001b[0m Trial 49 finished with value: 0.27338824909757903 and parameters: {'C': 47.553811340228535, 'epsilon': 0.7748291637732544, 'kernel': 'rbf', 'degree': 2}. Best is trial 27 with value: 0.4159911014939108.\u001b[0m\n",
      "\u001b[32m[I 2023-08-23 21:38:01,857]\u001b[0m Trial 50 finished with value: 0.4134359848726133 and parameters: {'C': 4.231854582206668, 'epsilon': 0.4244954569318564, 'kernel': 'rbf', 'degree': 3}. Best is trial 27 with value: 0.4159911014939108.\u001b[0m\n",
      "\u001b[32m[I 2023-08-23 21:38:02,099]\u001b[0m Trial 51 finished with value: 0.41387617098632734 and parameters: {'C': 3.8942057146898494, 'epsilon': 0.4201111412820622, 'kernel': 'rbf', 'degree': 3}. Best is trial 27 with value: 0.4159911014939108.\u001b[0m\n",
      "\u001b[32m[I 2023-08-23 21:38:02,336]\u001b[0m Trial 52 finished with value: 0.41281092489960935 and parameters: {'C': 3.745520085385519, 'epsilon': 0.4345403685135996, 'kernel': 'rbf', 'degree': 3}. Best is trial 27 with value: 0.4159911014939108.\u001b[0m\n",
      "\u001b[32m[I 2023-08-23 21:38:02,562]\u001b[0m Trial 53 finished with value: 0.40631720252256887 and parameters: {'C': 2.007021784423043, 'epsilon': 0.429438497398334, 'kernel': 'rbf', 'degree': 3}. Best is trial 27 with value: 0.4159911014939108.\u001b[0m\n",
      "\u001b[32m[I 2023-08-23 21:38:02,840]\u001b[0m Trial 54 finished with value: 0.40291599464512606 and parameters: {'C': 8.43783037047409, 'epsilon': 0.39205796730694326, 'kernel': 'rbf', 'degree': 3}. Best is trial 27 with value: 0.4159911014939108.\u001b[0m\n",
      "\u001b[32m[I 2023-08-23 21:38:02,978]\u001b[0m Trial 55 finished with value: 0.3418739463053228 and parameters: {'C': 4.132608222267171, 'epsilon': 0.7911051920100225, 'kernel': 'rbf', 'degree': 3}. Best is trial 27 with value: 0.4159911014939108.\u001b[0m\n",
      "\u001b[32m[I 2023-08-23 21:38:03,417]\u001b[0m Trial 56 finished with value: 0.16861024130662777 and parameters: {'C': 1.4147471099401774, 'epsilon': 0.497613032072898, 'kernel': 'linear', 'degree': 4}. Best is trial 27 with value: 0.4159911014939108.\u001b[0m\n",
      "\u001b[32m[I 2023-08-23 21:38:03,737]\u001b[0m Trial 57 finished with value: -0.16796957478429306 and parameters: {'C': 2.831542378865058, 'epsilon': 0.33351663723324526, 'kernel': 'poly', 'degree': 3}. Best is trial 27 with value: 0.4159911014939108.\u001b[0m\n",
      "\u001b[32m[I 2023-08-23 21:38:04,052]\u001b[0m Trial 58 finished with value: 0.4138130525003092 and parameters: {'C': 5.024053194062585, 'epsilon': 0.270704428285728, 'kernel': 'rbf', 'degree': 3}. Best is trial 27 with value: 0.4159911014939108.\u001b[0m\n",
      "\u001b[32m[I 2023-08-23 21:38:04,367]\u001b[0m Trial 59 finished with value: 0.4135369594917103 and parameters: {'C': 5.2127461451225185, 'epsilon': 0.2761289030534976, 'kernel': 'rbf', 'degree': 4}. Best is trial 27 with value: 0.4159911014939108.\u001b[0m\n",
      "\u001b[32m[I 2023-08-23 21:38:05,346]\u001b[0m Trial 60 finished with value: 0.2019365889681904 and parameters: {'C': 96.56502324507211, 'epsilon': 0.2715766145983444, 'kernel': 'rbf', 'degree': 5}. Best is trial 27 with value: 0.4159911014939108.\u001b[0m\n",
      "\u001b[32m[I 2023-08-23 21:38:05,681]\u001b[0m Trial 61 finished with value: 0.4156938644731995 and parameters: {'C': 4.940973615575758, 'epsilon': 0.23375981974479537, 'kernel': 'rbf', 'degree': 4}. Best is trial 27 with value: 0.4159911014939108.\u001b[0m\n",
      "\u001b[32m[I 2023-08-23 21:38:06,002]\u001b[0m Trial 62 finished with value: 0.41367025219983605 and parameters: {'C': 5.186273726567011, 'epsilon': 0.2679115194467932, 'kernel': 'rbf', 'degree': 4}. Best is trial 27 with value: 0.4159911014939108.\u001b[0m\n",
      "\u001b[32m[I 2023-08-23 21:38:06,346]\u001b[0m Trial 63 finished with value: 0.4138337103116849 and parameters: {'C': 5.707602427152566, 'epsilon': 0.2395873011149603, 'kernel': 'rbf', 'degree': 4}. Best is trial 27 with value: 0.4159911014939108.\u001b[0m\n",
      "\u001b[32m[I 2023-08-23 21:38:06,708]\u001b[0m Trial 64 finished with value: 0.4103266536161471 and parameters: {'C': 7.408701144959836, 'epsilon': 0.23420203485900096, 'kernel': 'rbf', 'degree': 4}. Best is trial 27 with value: 0.4159911014939108.\u001b[0m\n",
      "\u001b[32m[I 2023-08-23 21:38:07,060]\u001b[0m Trial 65 finished with value: 0.3870641616740189 and parameters: {'C': 13.520269560435326, 'epsilon': 0.32358950483240223, 'kernel': 'rbf', 'degree': 5}. Best is trial 27 with value: 0.4159911014939108.\u001b[0m\n",
      "\u001b[32m[I 2023-08-23 21:38:07,529]\u001b[0m Trial 66 finished with value: 0.36100642662937316 and parameters: {'C': 20.437402056414733, 'epsilon': 0.25262057294317875, 'kernel': 'rbf', 'degree': 4}. Best is trial 27 with value: 0.4159911014939108.\u001b[0m\n",
      "\u001b[32m[I 2023-08-23 21:38:07,804]\u001b[0m Trial 67 finished with value: 0.40829137744247024 and parameters: {'C': 2.2211571086671777, 'epsilon': 0.29191866051064963, 'kernel': 'rbf', 'degree': 4}. Best is trial 27 with value: 0.4159911014939108.\u001b[0m\n",
      "\u001b[32m[I 2023-08-23 21:38:08,127]\u001b[0m Trial 68 finished with value: -0.49711344619807224 and parameters: {'C': 9.777789557178469, 'epsilon': 0.3701844636656674, 'kernel': 'poly', 'degree': 5}. Best is trial 27 with value: 0.4159911014939108.\u001b[0m\n",
      "\u001b[32m[I 2023-08-23 21:38:08,502]\u001b[0m Trial 69 finished with value: 0.4130187115696621 and parameters: {'C': 5.647532863441452, 'epsilon': 0.18257873023957477, 'kernel': 'rbf', 'degree': 4}. Best is trial 27 with value: 0.4159911014939108.\u001b[0m\n",
      "\u001b[32m[I 2023-08-23 21:38:08,642]\u001b[0m Trial 70 finished with value: 0.24637490486537716 and parameters: {'C': 0.1172567253509218, 'epsilon': 0.6710381206805611, 'kernel': 'rbf', 'degree': 4}. Best is trial 27 with value: 0.4159911014939108.\u001b[0m\n",
      "\u001b[32m[I 2023-08-23 21:38:08,966]\u001b[0m Trial 71 finished with value: 0.4139055588657081 and parameters: {'C': 5.126481308204902, 'epsilon': 0.26237107972734613, 'kernel': 'rbf', 'degree': 4}. Best is trial 27 with value: 0.4159911014939108.\u001b[0m\n",
      "\u001b[32m[I 2023-08-23 21:38:09,273]\u001b[0m Trial 72 finished with value: 0.4123705177806164 and parameters: {'C': 2.880997281979737, 'epsilon': 0.24184890740479403, 'kernel': 'rbf', 'degree': 4}. Best is trial 27 with value: 0.4159911014939108.\u001b[0m\n",
      "\u001b[32m[I 2023-08-23 21:38:09,697]\u001b[0m Trial 73 finished with value: 0.4066913849241563 and parameters: {'C': 6.959577753994977, 'epsilon': 0.13605721260411974, 'kernel': 'rbf', 'degree': 4}. Best is trial 27 with value: 0.4159911014939108.\u001b[0m\n",
      "\u001b[32m[I 2023-08-23 21:38:10,176]\u001b[0m Trial 74 finished with value: 0.39995597986778175 and parameters: {'C': 4.988495958984575, 'epsilon': 0.03563546897730534, 'kernel': 'rbf', 'degree': 4}. Best is trial 27 with value: 0.4159911014939108.\u001b[0m\n",
      "\u001b[32m[I 2023-08-23 21:38:10,637]\u001b[0m Trial 75 finished with value: 0.40178199934238445 and parameters: {'C': 3.303511556769372, 'epsilon': 0.020641430569302, 'kernel': 'rbf', 'degree': 5}. Best is trial 27 with value: 0.4159911014939108.\u001b[0m\n",
      "\u001b[32m[I 2023-08-23 21:38:10,909]\u001b[0m Trial 76 finished with value: 0.40949997187314063 and parameters: {'C': 2.424946872455074, 'epsilon': 0.3039509510324011, 'kernel': 'rbf', 'degree': 4}. Best is trial 27 with value: 0.4159911014939108.\u001b[0m\n",
      "\u001b[32m[I 2023-08-23 21:38:13,225]\u001b[0m Trial 77 finished with value: 0.16799312298993013 and parameters: {'C': 9.333448215817942, 'epsilon': 0.2181070874982, 'kernel': 'linear', 'degree': 4}. Best is trial 27 with value: 0.4159911014939108.\u001b[0m\n",
      "\u001b[32m[I 2023-08-23 21:38:13,501]\u001b[0m Trial 78 finished with value: 0.41141710970569323 and parameters: {'C': 6.154351203071926, 'epsilon': 0.3705342361555884, 'kernel': 'rbf', 'degree': 4}. Best is trial 27 with value: 0.4159911014939108.\u001b[0m\n",
      "\u001b[32m[I 2023-08-23 21:38:13,695]\u001b[0m Trial 79 finished with value: 0.39725272427044506 and parameters: {'C': 4.220779305259619, 'epsilon': 0.5525275074076108, 'kernel': 'rbf', 'degree': 5}. Best is trial 27 with value: 0.4159911014939108.\u001b[0m\n",
      "\u001b[32m[I 2023-08-23 21:38:14,107]\u001b[0m Trial 80 finished with value: -1.35248189787343 and parameters: {'C': 4.609081664584166, 'epsilon': 0.1884317429704678, 'kernel': 'poly', 'degree': 4}. Best is trial 27 with value: 0.4159911014939108.\u001b[0m\n",
      "\u001b[32m[I 2023-08-23 21:38:14,490]\u001b[0m Trial 81 finished with value: 0.3920890178415165 and parameters: {'C': 12.001742966395533, 'epsilon': 0.27093849636829315, 'kernel': 'rbf', 'degree': 4}. Best is trial 27 with value: 0.4159911014939108.\u001b[0m\n",
      "\u001b[32m[I 2023-08-23 21:38:14,871]\u001b[0m Trial 82 finished with value: 0.41196924593230866 and parameters: {'C': 5.3944826637745, 'epsilon': 0.1669471548969077, 'kernel': 'rbf', 'degree': 4}. Best is trial 27 with value: 0.4159911014939108.\u001b[0m\n",
      "\u001b[32m[I 2023-08-23 21:38:15,213]\u001b[0m Trial 83 finished with value: 0.4071218902600953 and parameters: {'C': 7.736530449141689, 'epsilon': 0.2750784158439148, 'kernel': 'rbf', 'degree': 4}. Best is trial 27 with value: 0.4159911014939108.\u001b[0m\n",
      "\u001b[32m[I 2023-08-23 21:38:15,489]\u001b[0m Trial 84 finished with value: 0.4130824245020085 and parameters: {'C': 3.119295275572526, 'epsilon': 0.31623852916104184, 'kernel': 'rbf', 'degree': 4}. Best is trial 27 with value: 0.4159911014939108.\u001b[0m\n",
      "\u001b[32m[I 2023-08-23 21:38:15,836]\u001b[0m Trial 85 finished with value: 0.415084727877153 and parameters: {'C': 5.096157709620102, 'epsilon': 0.22028067910862612, 'kernel': 'rbf', 'degree': 3}. Best is trial 27 with value: 0.4159911014939108.\u001b[0m\n",
      "\u001b[32m[I 2023-08-23 21:38:16,215]\u001b[0m Trial 86 finished with value: 0.41365573000192946 and parameters: {'C': 6.359742538507938, 'epsilon': 0.2076011443401361, 'kernel': 'rbf', 'degree': 3}. Best is trial 27 with value: 0.4159911014939108.\u001b[0m\n",
      "\u001b[32m[I 2023-08-23 21:38:16,546]\u001b[0m Trial 87 finished with value: 0.4152857310900188 and parameters: {'C': 4.525447719812404, 'epsilon': 0.23975229493281774, 'kernel': 'rbf', 'degree': 3}. Best is trial 27 with value: 0.4159911014939108.\u001b[0m\n",
      "\u001b[32m[I 2023-08-23 21:38:16,913]\u001b[0m Trial 88 finished with value: 0.4070749986367931 and parameters: {'C': 2.5084574347946447, 'epsilon': 0.12098111510933361, 'kernel': 'rbf', 'degree': 3}. Best is trial 27 with value: 0.4159911014939108.\u001b[0m\n",
      "\u001b[32m[I 2023-08-23 21:38:17,218]\u001b[0m Trial 89 finished with value: 0.40756177557463324 and parameters: {'C': 1.9833329272848215, 'epsilon': 0.2271242455286809, 'kernel': 'rbf', 'degree': 3}. Best is trial 27 with value: 0.4159911014939108.\u001b[0m\n",
      "\u001b[32m[I 2023-08-23 21:38:17,585]\u001b[0m Trial 90 finished with value: 0.41019545202935925 and parameters: {'C': 3.8848962475339395, 'epsilon': 0.15270450303499675, 'kernel': 'rbf', 'degree': 3}. Best is trial 27 with value: 0.4159911014939108.\u001b[0m\n",
      "\u001b[32m[I 2023-08-23 21:38:17,916]\u001b[0m Trial 91 finished with value: 0.4155574896099363 and parameters: {'C': 4.6021278420755305, 'epsilon': 0.2354954198521773, 'kernel': 'rbf', 'degree': 3}. Best is trial 27 with value: 0.4159911014939108.\u001b[0m\n",
      "\u001b[32m[I 2023-08-23 21:38:18,182]\u001b[0m Trial 92 finished with value: 0.41619054061240696 and parameters: {'C': 3.243927465623859, 'epsilon': 0.34722130259264133, 'kernel': 'rbf', 'degree': 3}. Best is trial 92 with value: 0.41619054061240696.\u001b[0m\n",
      "\u001b[32m[I 2023-08-23 21:38:18,451]\u001b[0m Trial 93 finished with value: 0.4152189837169075 and parameters: {'C': 3.2071007632882345, 'epsilon': 0.33852291490367575, 'kernel': 'rbf', 'degree': 3}. Best is trial 92 with value: 0.41619054061240696.\u001b[0m\n",
      "\u001b[32m[I 2023-08-23 21:38:18,678]\u001b[0m Trial 94 finished with value: 0.4105756771963084 and parameters: {'C': 3.0939272973565135, 'epsilon': 0.4458249124796479, 'kernel': 'rbf', 'degree': 3}. Best is trial 92 with value: 0.41619054061240696.\u001b[0m\n",
      "\u001b[32m[I 2023-08-23 21:38:19,270]\u001b[0m Trial 95 finished with value: 0.17457378716999342 and parameters: {'C': 1.675730591708279, 'epsilon': 0.35050596638802717, 'kernel': 'linear', 'degree': 3}. Best is trial 92 with value: 0.41619054061240696.\u001b[0m\n",
      "\u001b[32m[I 2023-08-23 21:38:19,470]\u001b[0m Trial 96 finished with value: 0.40040616246028976 and parameters: {'C': 3.5749363541713883, 'epsilon': 0.5232864487345058, 'kernel': 'rbf', 'degree': 3}. Best is trial 92 with value: 0.41619054061240696.\u001b[0m\n",
      "\u001b[32m[I 2023-08-23 21:38:19,724]\u001b[0m Trial 97 finished with value: 0.41461807032416126 and parameters: {'C': 4.466637703248644, 'epsilon': 0.3999961597227519, 'kernel': 'rbf', 'degree': 3}. Best is trial 92 with value: 0.41619054061240696.\u001b[0m\n",
      "\u001b[32m[I 2023-08-23 21:38:19,966]\u001b[0m Trial 98 finished with value: 0.40886528898431235 and parameters: {'C': 2.187068803091594, 'epsilon': 0.39092929596730497, 'kernel': 'rbf', 'degree': 3}. Best is trial 92 with value: 0.41619054061240696.\u001b[0m\n",
      "\u001b[32m[I 2023-08-23 21:38:20,282]\u001b[0m Trial 99 finished with value: 0.4100096266960536 and parameters: {'C': 7.276935626855521, 'epsilon': 0.3123416072916948, 'kernel': 'rbf', 'degree': 2}. Best is trial 92 with value: 0.41619054061240696.\u001b[0m\n"
     ]
    },
    {
     "name": "stdout",
     "output_type": "stream",
     "text": [
      "Best r2:  0.41619054061240696\n",
      "Best trial: {'C': 3.243927465623859, 'epsilon': 0.34722130259264133, 'kernel': 'rbf', 'degree': 3}\n"
     ]
    }
   ],
   "source": [
    "sampler = TPESampler()\n",
    "study = optuna.create_study(\n",
    "    study_name=\"svm_parameter_opt\",\n",
    "    direction=\"maximize\",\n",
    "    sampler=sampler,\n",
    ")\n",
    "\n",
    "study.optimize(lambda trial : objectiveSVM(trial, As_X_train, As_y_train), n_trials=100)\n",
    "print(\"Best r2: \", study.best_value)\n",
    "print(\"Best trial:\", study.best_trial.params)"
   ]
  },
  {
   "cell_type": "code",
   "execution_count": 25,
   "id": "ded0e0f8",
   "metadata": {},
   "outputs": [
    {
     "data": {
      "application/vnd.plotly.v1+json": {
       "config": {
        "plotlyServerURL": "https://plot.ly"
       },
       "data": [
        {
         "dimensions": [
          {
           "label": "Objective Value",
           "range": [
            -3.81512300467534,
            0.41619054061240696
           ],
           "values": [
            0.0643772658426155,
            0.4101700172406041,
            0.16325603906157507,
            0.16277868422424308,
            0.15721443018152265,
            0.16389243756995817,
            0.1646272223335261,
            0.41190982911514384,
            0.27539706002235603,
            0.1587020101046973,
            0.1538324666263376,
            0.3962478710122557,
            0.38602003623322434,
            0.40976936174451983,
            -3.81512300467534,
            0.4023216254491828,
            0.33789447071892675,
            0.41006981767977607,
            -1.6303376823954825,
            0.36919146188768504,
            0.4009256997430848,
            0.4103484155041093,
            0.409501068955248,
            0.3905085043990386,
            0.37463851750363053,
            -0.46181623243205616,
            0.40647925110721495,
            0.4159911014939108,
            0.41107552535460795,
            0.19303002354097107,
            0.3882270387658671,
            0.41127935141308747,
            0.4126321936382853,
            0.4120909288290274,
            0.41110612828724713,
            0.38309145875283196,
            -0.22016196909144953,
            0.16100291925893315,
            0.4095338421392435,
            0.16535234994074782,
            0.32844937784928874,
            0.4132599796337345,
            0.4159354124007869,
            0.41009165812333226,
            0.4066203052197343,
            0.4061450717338356,
            0.16971343522764737,
            0.38781104676669625,
            0.380738206250658,
            0.27338824909757903,
            0.4134359848726133,
            0.41387617098632734,
            0.41281092489960935,
            0.40631720252256887,
            0.40291599464512606,
            0.3418739463053228,
            0.16861024130662777,
            -0.16796957478429306,
            0.4138130525003092,
            0.4135369594917103,
            0.2019365889681904,
            0.4156938644731995,
            0.41367025219983605,
            0.4138337103116849,
            0.4103266536161471,
            0.3870641616740189,
            0.36100642662937316,
            0.40829137744247024,
            -0.49711344619807224,
            0.4130187115696621,
            0.24637490486537716,
            0.4139055588657081,
            0.4123705177806164,
            0.4066913849241563,
            0.39995597986778175,
            0.40178199934238445,
            0.40949997187314063,
            0.16799312298993013,
            0.41141710970569323,
            0.39725272427044506,
            -1.35248189787343,
            0.3920890178415165,
            0.41196924593230866,
            0.4071218902600953,
            0.4130824245020085,
            0.415084727877153,
            0.41365573000192946,
            0.4152857310900188,
            0.4070749986367931,
            0.40756177557463324,
            0.41019545202935925,
            0.4155574896099363,
            0.41619054061240696,
            0.4152189837169075,
            0.4105756771963084,
            0.17457378716999342,
            0.40040616246028976,
            0.41461807032416126,
            0.40886528898431235,
            0.4100096266960536
           ]
          },
          {
           "label": "C",
           "range": [
            -0.9318983603273197,
            1.9848198493725702
           ],
           "ticktext": [
            "0.117",
            "1",
            "10",
            "96.6"
           ],
           "tickvals": [
            -0.9318983603273197,
            0,
            1,
            1.9848198493725702
           ],
           "values": [
            0.10373586497066563,
            0.7383122284680713,
            -0.7859033745346549,
            -0.06850429639364218,
            -0.5307923265568102,
            -0.9318983603273197,
            -0.02400033387241958,
            0.4621451287058078,
            0.196635318759734,
            -0.7092091720061025,
            1.7905476246154624,
            1.0003478888735917,
            0.9403298458882579,
            0.845384843185329,
            1.5148049352056974,
            0.6493694508715051,
            1.374469825136912,
            0.36838727317613795,
            1.2679600659583272,
            -0.3538491716640596,
            0.5489815754199423,
            0.379905754676359,
            0.42612038859924534,
            0.6914610163425127,
            -0.27577552688757084,
            1.1349377441715336,
            0.29553091698726913,
            0.6408200660219893,
            0.4506018995150065,
            0.08479377038459723,
            -0.21770650868013988,
            0.5025408575271832,
            0.5654236889127024,
            0.7857601527993486,
            0.7961712259102821,
            1.0435109449959086,
            0.6691227833410099,
            0.19442399997150767,
            0.8352823977776727,
            0.038195264179180205,
            1.191854260363639,
            0.5496390167862998,
            0.6190880729306375,
            0.5773922532289082,
            0.2438081310038545,
            0.9064354911972393,
            0.7369803251035427,
            -0.0979329670388519,
            1.0333613275712428,
            1.6771853304783946,
            0.6265307357685579,
            0.5904188897610175,
            0.573512130321382,
            0.30255208639051206,
            0.9262307903149345,
            0.6162242354359927,
            0.1506788154270756,
            0.45202306596943936,
            0.7010542290104992,
            0.7170665757889177,
            1.9848198493725702,
            0.6938125347960247,
            0.7148554346856304,
            0.7564537139683192,
            0.869742076397665,
            1.1309853504401264,
            1.3104256887096557,
            0.34657927850077364,
            0.9902406859100568,
            0.7518587667937734,
            -0.930862238599824,
            0.7098193782205693,
            0.45954284855401284,
            0.8425828912380346,
            0.6979696247468997,
            0.5189758304518552,
            0.3847022281950466,
            0.9700421222499218,
            0.7891822759875015,
            0.625392644498951,
            0.663614403104791,
            1.0792443215242777,
            0.7319498017453396,
            0.8885462391563023,
            0.49405648744778113,
            0.7072428595466687,
            0.8034395344583887,
            0.6556615520771761,
            0.3994067360232696,
            0.29739562209562015,
            0.589379424752074,
            0.6629586787256696,
            0.5110711348019147,
            0.5061126051584351,
            0.49051010421536617,
            0.22420419810138417,
            0.5532683143110261,
            0.6499807275197557,
            0.3398624457413415,
            0.8619485330875798
           ]
          },
          {
           "label": "degree",
           "range": [
            1,
            5
           ],
           "values": [
            2,
            2,
            5,
            3,
            1,
            5,
            5,
            2,
            5,
            4,
            1,
            2,
            2,
            3,
            2,
            1,
            3,
            4,
            2,
            4,
            1,
            4,
            4,
            3,
            2,
            3,
            4,
            2,
            3,
            3,
            2,
            3,
            2,
            2,
            2,
            1,
            2,
            1,
            2,
            1,
            2,
            3,
            2,
            2,
            3,
            2,
            2,
            1,
            3,
            2,
            3,
            3,
            3,
            3,
            3,
            3,
            4,
            3,
            3,
            4,
            5,
            4,
            4,
            4,
            4,
            5,
            4,
            4,
            5,
            4,
            4,
            4,
            4,
            4,
            4,
            5,
            4,
            4,
            4,
            5,
            4,
            4,
            4,
            4,
            4,
            3,
            3,
            3,
            3,
            3,
            3,
            3,
            3,
            3,
            3,
            3,
            3,
            3,
            3,
            2
           ]
          },
          {
           "label": "epsilon",
           "range": [
            -1.949856787458595,
            -0.029761883444010727
           ],
           "ticktext": [
            "0.0112",
            "0.1",
            "0.934"
           ],
           "tickvals": [
            -1.949856787458595,
            -1,
            -0.029761883444010727
           ],
           "values": [
            -0.6429351875993639,
            -0.9707316488692077,
            -0.8140949196389989,
            -0.8257617588402326,
            -0.029761883444010727,
            -1.4968701672695803,
            -1.5430962977002523,
            -0.6233410874521739,
            -0.030223731058390383,
            -1.0965640959501977,
            -1.949856787458595,
            -0.392577568570984,
            -1.1907605429081938,
            -0.413064029037008,
            -0.4501396814514759,
            -1.3390801355411937,
            -0.8997162289748445,
            -0.5819328827531752,
            -0.24116669206235647,
            -1.042639762378135,
            -1.8413013465593335,
            -0.5985780483958661,
            -0.6869550987860269,
            -0.23819365016706867,
            -0.8949352948398271,
            -1.2343483002777493,
            -0.7071360262720042,
            -0.4807617717884425,
            -0.522519961080473,
            -0.23859323961542625,
            -0.5467763728082863,
            -0.7015670006665392,
            -0.6947405003984495,
            -0.7527531056173127,
            -0.7858488384481844,
            -0.9772612542975398,
            -0.2941369876634625,
            -0.8330822551069041,
            -0.45361614191804445,
            -0.7604918427395465,
            -0.15898018105805595,
            -0.6666570409177982,
            -0.6326799706591673,
            -0.9215669490676982,
            -0.6428387666628594,
            -0.49326947175719504,
            -0.32754743802064407,
            -0.8328528584718772,
            -1.0792388933094488,
            -0.1107940412474137,
            -0.3721269533351842,
            -0.37663580088723786,
            -0.36196987167025985,
            -0.3670990254371769,
            -0.40664971609091505,
            -0.10176576521019556,
            -0.30310825435575356,
            -0.4768824967448199,
            -0.5675046398175031,
            -0.5588881323695203,
            -0.5661076297823883,
            -0.6312301362997121,
            -0.5720086125410206,
            -0.6205362046544048,
            -0.6304093358896317,
            -0.49000557255818805,
            -0.5975312842166502,
            -0.5347381424296787,
            -0.4315818121791652,
            -0.7385498175882559,
            -0.17325280750469554,
            -0.5810840374633806,
            -0.6164558702732136,
            -0.8662784306490795,
            -1.4481175213369133,
            -1.6852602069080083,
            -0.5171964934130234,
            -0.6613302215769776,
            -0.43117165843626276,
            -0.25764609589088766,
            -0.7248459346870941,
            -0.567129283735669,
            -0.7774209777662561,
            -0.5605434853923509,
            -0.49998521858264455,
            -0.6570235932917433,
            -0.6827702568966202,
            -0.620237227027418,
            -0.9172824168232258,
            -0.6437365023400451,
            -0.8161481560384309,
            -0.6280175350415346,
            -0.45939363800410493,
            -0.4704119282214109,
            -0.3508356670129235,
            -0.4553045849802234,
            -0.28126051180348344,
            -0.39794417822009753,
            -0.40790178262428545,
            -0.505370159178099
           ]
          },
          {
           "label": "kernel",
           "range": [
            0,
            2
           ],
           "ticktext": [
            "poly",
            "rbf",
            "linear"
           ],
           "tickvals": [
            0,
            1,
            2
           ],
           "values": [
            0,
            1,
            2,
            2,
            2,
            2,
            2,
            1,
            1,
            2,
            1,
            1,
            1,
            1,
            0,
            1,
            1,
            1,
            0,
            1,
            1,
            1,
            1,
            1,
            1,
            0,
            1,
            1,
            1,
            0,
            1,
            1,
            1,
            1,
            1,
            1,
            0,
            2,
            1,
            2,
            1,
            1,
            1,
            1,
            1,
            1,
            2,
            1,
            1,
            1,
            1,
            1,
            1,
            1,
            1,
            1,
            2,
            0,
            1,
            1,
            1,
            1,
            1,
            1,
            1,
            1,
            1,
            1,
            0,
            1,
            1,
            1,
            1,
            1,
            1,
            1,
            1,
            2,
            1,
            1,
            0,
            1,
            1,
            1,
            1,
            1,
            1,
            1,
            1,
            1,
            1,
            1,
            1,
            1,
            1,
            2,
            1,
            1,
            1,
            1
           ]
          }
         ],
         "labelangle": 30,
         "labelside": "bottom",
         "line": {
          "color": [
           0.0643772658426155,
           0.4101700172406041,
           0.16325603906157507,
           0.16277868422424308,
           0.15721443018152265,
           0.16389243756995817,
           0.1646272223335261,
           0.41190982911514384,
           0.27539706002235603,
           0.1587020101046973,
           0.1538324666263376,
           0.3962478710122557,
           0.38602003623322434,
           0.40976936174451983,
           -3.81512300467534,
           0.4023216254491828,
           0.33789447071892675,
           0.41006981767977607,
           -1.6303376823954825,
           0.36919146188768504,
           0.4009256997430848,
           0.4103484155041093,
           0.409501068955248,
           0.3905085043990386,
           0.37463851750363053,
           -0.46181623243205616,
           0.40647925110721495,
           0.4159911014939108,
           0.41107552535460795,
           0.19303002354097107,
           0.3882270387658671,
           0.41127935141308747,
           0.4126321936382853,
           0.4120909288290274,
           0.41110612828724713,
           0.38309145875283196,
           -0.22016196909144953,
           0.16100291925893315,
           0.4095338421392435,
           0.16535234994074782,
           0.32844937784928874,
           0.4132599796337345,
           0.4159354124007869,
           0.41009165812333226,
           0.4066203052197343,
           0.4061450717338356,
           0.16971343522764737,
           0.38781104676669625,
           0.380738206250658,
           0.27338824909757903,
           0.4134359848726133,
           0.41387617098632734,
           0.41281092489960935,
           0.40631720252256887,
           0.40291599464512606,
           0.3418739463053228,
           0.16861024130662777,
           -0.16796957478429306,
           0.4138130525003092,
           0.4135369594917103,
           0.2019365889681904,
           0.4156938644731995,
           0.41367025219983605,
           0.4138337103116849,
           0.4103266536161471,
           0.3870641616740189,
           0.36100642662937316,
           0.40829137744247024,
           -0.49711344619807224,
           0.4130187115696621,
           0.24637490486537716,
           0.4139055588657081,
           0.4123705177806164,
           0.4066913849241563,
           0.39995597986778175,
           0.40178199934238445,
           0.40949997187314063,
           0.16799312298993013,
           0.41141710970569323,
           0.39725272427044506,
           -1.35248189787343,
           0.3920890178415165,
           0.41196924593230866,
           0.4071218902600953,
           0.4130824245020085,
           0.415084727877153,
           0.41365573000192946,
           0.4152857310900188,
           0.4070749986367931,
           0.40756177557463324,
           0.41019545202935925,
           0.4155574896099363,
           0.41619054061240696,
           0.4152189837169075,
           0.4105756771963084,
           0.17457378716999342,
           0.40040616246028976,
           0.41461807032416126,
           0.40886528898431235,
           0.4100096266960536
          ],
          "colorbar": {
           "title": {
            "text": "Objective Value"
           }
          },
          "colorscale": [
           [
            0,
            "rgb(247,251,255)"
           ],
           [
            0.125,
            "rgb(222,235,247)"
           ],
           [
            0.25,
            "rgb(198,219,239)"
           ],
           [
            0.375,
            "rgb(158,202,225)"
           ],
           [
            0.5,
            "rgb(107,174,214)"
           ],
           [
            0.625,
            "rgb(66,146,198)"
           ],
           [
            0.75,
            "rgb(33,113,181)"
           ],
           [
            0.875,
            "rgb(8,81,156)"
           ],
           [
            1,
            "rgb(8,48,107)"
           ]
          ],
          "reversescale": false,
          "showscale": true
         },
         "type": "parcoords"
        }
       ],
       "layout": {
        "template": {
         "data": {
          "bar": [
           {
            "error_x": {
             "color": "#2a3f5f"
            },
            "error_y": {
             "color": "#2a3f5f"
            },
            "marker": {
             "line": {
              "color": "#E5ECF6",
              "width": 0.5
             },
             "pattern": {
              "fillmode": "overlay",
              "size": 10,
              "solidity": 0.2
             }
            },
            "type": "bar"
           }
          ],
          "barpolar": [
           {
            "marker": {
             "line": {
              "color": "#E5ECF6",
              "width": 0.5
             },
             "pattern": {
              "fillmode": "overlay",
              "size": 10,
              "solidity": 0.2
             }
            },
            "type": "barpolar"
           }
          ],
          "carpet": [
           {
            "aaxis": {
             "endlinecolor": "#2a3f5f",
             "gridcolor": "white",
             "linecolor": "white",
             "minorgridcolor": "white",
             "startlinecolor": "#2a3f5f"
            },
            "baxis": {
             "endlinecolor": "#2a3f5f",
             "gridcolor": "white",
             "linecolor": "white",
             "minorgridcolor": "white",
             "startlinecolor": "#2a3f5f"
            },
            "type": "carpet"
           }
          ],
          "choropleth": [
           {
            "colorbar": {
             "outlinewidth": 0,
             "ticks": ""
            },
            "type": "choropleth"
           }
          ],
          "contour": [
           {
            "colorbar": {
             "outlinewidth": 0,
             "ticks": ""
            },
            "colorscale": [
             [
              0,
              "#0d0887"
             ],
             [
              0.1111111111111111,
              "#46039f"
             ],
             [
              0.2222222222222222,
              "#7201a8"
             ],
             [
              0.3333333333333333,
              "#9c179e"
             ],
             [
              0.4444444444444444,
              "#bd3786"
             ],
             [
              0.5555555555555556,
              "#d8576b"
             ],
             [
              0.6666666666666666,
              "#ed7953"
             ],
             [
              0.7777777777777778,
              "#fb9f3a"
             ],
             [
              0.8888888888888888,
              "#fdca26"
             ],
             [
              1,
              "#f0f921"
             ]
            ],
            "type": "contour"
           }
          ],
          "contourcarpet": [
           {
            "colorbar": {
             "outlinewidth": 0,
             "ticks": ""
            },
            "type": "contourcarpet"
           }
          ],
          "heatmap": [
           {
            "colorbar": {
             "outlinewidth": 0,
             "ticks": ""
            },
            "colorscale": [
             [
              0,
              "#0d0887"
             ],
             [
              0.1111111111111111,
              "#46039f"
             ],
             [
              0.2222222222222222,
              "#7201a8"
             ],
             [
              0.3333333333333333,
              "#9c179e"
             ],
             [
              0.4444444444444444,
              "#bd3786"
             ],
             [
              0.5555555555555556,
              "#d8576b"
             ],
             [
              0.6666666666666666,
              "#ed7953"
             ],
             [
              0.7777777777777778,
              "#fb9f3a"
             ],
             [
              0.8888888888888888,
              "#fdca26"
             ],
             [
              1,
              "#f0f921"
             ]
            ],
            "type": "heatmap"
           }
          ],
          "heatmapgl": [
           {
            "colorbar": {
             "outlinewidth": 0,
             "ticks": ""
            },
            "colorscale": [
             [
              0,
              "#0d0887"
             ],
             [
              0.1111111111111111,
              "#46039f"
             ],
             [
              0.2222222222222222,
              "#7201a8"
             ],
             [
              0.3333333333333333,
              "#9c179e"
             ],
             [
              0.4444444444444444,
              "#bd3786"
             ],
             [
              0.5555555555555556,
              "#d8576b"
             ],
             [
              0.6666666666666666,
              "#ed7953"
             ],
             [
              0.7777777777777778,
              "#fb9f3a"
             ],
             [
              0.8888888888888888,
              "#fdca26"
             ],
             [
              1,
              "#f0f921"
             ]
            ],
            "type": "heatmapgl"
           }
          ],
          "histogram": [
           {
            "marker": {
             "pattern": {
              "fillmode": "overlay",
              "size": 10,
              "solidity": 0.2
             }
            },
            "type": "histogram"
           }
          ],
          "histogram2d": [
           {
            "colorbar": {
             "outlinewidth": 0,
             "ticks": ""
            },
            "colorscale": [
             [
              0,
              "#0d0887"
             ],
             [
              0.1111111111111111,
              "#46039f"
             ],
             [
              0.2222222222222222,
              "#7201a8"
             ],
             [
              0.3333333333333333,
              "#9c179e"
             ],
             [
              0.4444444444444444,
              "#bd3786"
             ],
             [
              0.5555555555555556,
              "#d8576b"
             ],
             [
              0.6666666666666666,
              "#ed7953"
             ],
             [
              0.7777777777777778,
              "#fb9f3a"
             ],
             [
              0.8888888888888888,
              "#fdca26"
             ],
             [
              1,
              "#f0f921"
             ]
            ],
            "type": "histogram2d"
           }
          ],
          "histogram2dcontour": [
           {
            "colorbar": {
             "outlinewidth": 0,
             "ticks": ""
            },
            "colorscale": [
             [
              0,
              "#0d0887"
             ],
             [
              0.1111111111111111,
              "#46039f"
             ],
             [
              0.2222222222222222,
              "#7201a8"
             ],
             [
              0.3333333333333333,
              "#9c179e"
             ],
             [
              0.4444444444444444,
              "#bd3786"
             ],
             [
              0.5555555555555556,
              "#d8576b"
             ],
             [
              0.6666666666666666,
              "#ed7953"
             ],
             [
              0.7777777777777778,
              "#fb9f3a"
             ],
             [
              0.8888888888888888,
              "#fdca26"
             ],
             [
              1,
              "#f0f921"
             ]
            ],
            "type": "histogram2dcontour"
           }
          ],
          "mesh3d": [
           {
            "colorbar": {
             "outlinewidth": 0,
             "ticks": ""
            },
            "type": "mesh3d"
           }
          ],
          "parcoords": [
           {
            "line": {
             "colorbar": {
              "outlinewidth": 0,
              "ticks": ""
             }
            },
            "type": "parcoords"
           }
          ],
          "pie": [
           {
            "automargin": true,
            "type": "pie"
           }
          ],
          "scatter": [
           {
            "marker": {
             "colorbar": {
              "outlinewidth": 0,
              "ticks": ""
             }
            },
            "type": "scatter"
           }
          ],
          "scatter3d": [
           {
            "line": {
             "colorbar": {
              "outlinewidth": 0,
              "ticks": ""
             }
            },
            "marker": {
             "colorbar": {
              "outlinewidth": 0,
              "ticks": ""
             }
            },
            "type": "scatter3d"
           }
          ],
          "scattercarpet": [
           {
            "marker": {
             "colorbar": {
              "outlinewidth": 0,
              "ticks": ""
             }
            },
            "type": "scattercarpet"
           }
          ],
          "scattergeo": [
           {
            "marker": {
             "colorbar": {
              "outlinewidth": 0,
              "ticks": ""
             }
            },
            "type": "scattergeo"
           }
          ],
          "scattergl": [
           {
            "marker": {
             "colorbar": {
              "outlinewidth": 0,
              "ticks": ""
             }
            },
            "type": "scattergl"
           }
          ],
          "scattermapbox": [
           {
            "marker": {
             "colorbar": {
              "outlinewidth": 0,
              "ticks": ""
             }
            },
            "type": "scattermapbox"
           }
          ],
          "scatterpolar": [
           {
            "marker": {
             "colorbar": {
              "outlinewidth": 0,
              "ticks": ""
             }
            },
            "type": "scatterpolar"
           }
          ],
          "scatterpolargl": [
           {
            "marker": {
             "colorbar": {
              "outlinewidth": 0,
              "ticks": ""
             }
            },
            "type": "scatterpolargl"
           }
          ],
          "scatterternary": [
           {
            "marker": {
             "colorbar": {
              "outlinewidth": 0,
              "ticks": ""
             }
            },
            "type": "scatterternary"
           }
          ],
          "surface": [
           {
            "colorbar": {
             "outlinewidth": 0,
             "ticks": ""
            },
            "colorscale": [
             [
              0,
              "#0d0887"
             ],
             [
              0.1111111111111111,
              "#46039f"
             ],
             [
              0.2222222222222222,
              "#7201a8"
             ],
             [
              0.3333333333333333,
              "#9c179e"
             ],
             [
              0.4444444444444444,
              "#bd3786"
             ],
             [
              0.5555555555555556,
              "#d8576b"
             ],
             [
              0.6666666666666666,
              "#ed7953"
             ],
             [
              0.7777777777777778,
              "#fb9f3a"
             ],
             [
              0.8888888888888888,
              "#fdca26"
             ],
             [
              1,
              "#f0f921"
             ]
            ],
            "type": "surface"
           }
          ],
          "table": [
           {
            "cells": {
             "fill": {
              "color": "#EBF0F8"
             },
             "line": {
              "color": "white"
             }
            },
            "header": {
             "fill": {
              "color": "#C8D4E3"
             },
             "line": {
              "color": "white"
             }
            },
            "type": "table"
           }
          ]
         },
         "layout": {
          "annotationdefaults": {
           "arrowcolor": "#2a3f5f",
           "arrowhead": 0,
           "arrowwidth": 1
          },
          "autotypenumbers": "strict",
          "coloraxis": {
           "colorbar": {
            "outlinewidth": 0,
            "ticks": ""
           }
          },
          "colorscale": {
           "diverging": [
            [
             0,
             "#8e0152"
            ],
            [
             0.1,
             "#c51b7d"
            ],
            [
             0.2,
             "#de77ae"
            ],
            [
             0.3,
             "#f1b6da"
            ],
            [
             0.4,
             "#fde0ef"
            ],
            [
             0.5,
             "#f7f7f7"
            ],
            [
             0.6,
             "#e6f5d0"
            ],
            [
             0.7,
             "#b8e186"
            ],
            [
             0.8,
             "#7fbc41"
            ],
            [
             0.9,
             "#4d9221"
            ],
            [
             1,
             "#276419"
            ]
           ],
           "sequential": [
            [
             0,
             "#0d0887"
            ],
            [
             0.1111111111111111,
             "#46039f"
            ],
            [
             0.2222222222222222,
             "#7201a8"
            ],
            [
             0.3333333333333333,
             "#9c179e"
            ],
            [
             0.4444444444444444,
             "#bd3786"
            ],
            [
             0.5555555555555556,
             "#d8576b"
            ],
            [
             0.6666666666666666,
             "#ed7953"
            ],
            [
             0.7777777777777778,
             "#fb9f3a"
            ],
            [
             0.8888888888888888,
             "#fdca26"
            ],
            [
             1,
             "#f0f921"
            ]
           ],
           "sequentialminus": [
            [
             0,
             "#0d0887"
            ],
            [
             0.1111111111111111,
             "#46039f"
            ],
            [
             0.2222222222222222,
             "#7201a8"
            ],
            [
             0.3333333333333333,
             "#9c179e"
            ],
            [
             0.4444444444444444,
             "#bd3786"
            ],
            [
             0.5555555555555556,
             "#d8576b"
            ],
            [
             0.6666666666666666,
             "#ed7953"
            ],
            [
             0.7777777777777778,
             "#fb9f3a"
            ],
            [
             0.8888888888888888,
             "#fdca26"
            ],
            [
             1,
             "#f0f921"
            ]
           ]
          },
          "colorway": [
           "#636efa",
           "#EF553B",
           "#00cc96",
           "#ab63fa",
           "#FFA15A",
           "#19d3f3",
           "#FF6692",
           "#B6E880",
           "#FF97FF",
           "#FECB52"
          ],
          "font": {
           "color": "#2a3f5f"
          },
          "geo": {
           "bgcolor": "white",
           "lakecolor": "white",
           "landcolor": "#E5ECF6",
           "showlakes": true,
           "showland": true,
           "subunitcolor": "white"
          },
          "hoverlabel": {
           "align": "left"
          },
          "hovermode": "closest",
          "mapbox": {
           "style": "light"
          },
          "paper_bgcolor": "white",
          "plot_bgcolor": "#E5ECF6",
          "polar": {
           "angularaxis": {
            "gridcolor": "white",
            "linecolor": "white",
            "ticks": ""
           },
           "bgcolor": "#E5ECF6",
           "radialaxis": {
            "gridcolor": "white",
            "linecolor": "white",
            "ticks": ""
           }
          },
          "scene": {
           "xaxis": {
            "backgroundcolor": "#E5ECF6",
            "gridcolor": "white",
            "gridwidth": 2,
            "linecolor": "white",
            "showbackground": true,
            "ticks": "",
            "zerolinecolor": "white"
           },
           "yaxis": {
            "backgroundcolor": "#E5ECF6",
            "gridcolor": "white",
            "gridwidth": 2,
            "linecolor": "white",
            "showbackground": true,
            "ticks": "",
            "zerolinecolor": "white"
           },
           "zaxis": {
            "backgroundcolor": "#E5ECF6",
            "gridcolor": "white",
            "gridwidth": 2,
            "linecolor": "white",
            "showbackground": true,
            "ticks": "",
            "zerolinecolor": "white"
           }
          },
          "shapedefaults": {
           "line": {
            "color": "#2a3f5f"
           }
          },
          "ternary": {
           "aaxis": {
            "gridcolor": "white",
            "linecolor": "white",
            "ticks": ""
           },
           "baxis": {
            "gridcolor": "white",
            "linecolor": "white",
            "ticks": ""
           },
           "bgcolor": "#E5ECF6",
           "caxis": {
            "gridcolor": "white",
            "linecolor": "white",
            "ticks": ""
           }
          },
          "title": {
           "x": 0.05
          },
          "xaxis": {
           "automargin": true,
           "gridcolor": "white",
           "linecolor": "white",
           "ticks": "",
           "title": {
            "standoff": 15
           },
           "zerolinecolor": "white",
           "zerolinewidth": 2
          },
          "yaxis": {
           "automargin": true,
           "gridcolor": "white",
           "linecolor": "white",
           "ticks": "",
           "title": {
            "standoff": 15
           },
           "zerolinecolor": "white",
           "zerolinewidth": 2
          }
         }
        },
        "title": {
         "text": "Parallel Coordinate Plot"
        }
       }
      }
     },
     "metadata": {},
     "output_type": "display_data"
    }
   ],
   "source": [
    "optuna.visualization.plot_parallel_coordinate(study)"
   ]
  },
  {
   "cell_type": "code",
   "execution_count": 26,
   "id": "75db1ddf",
   "metadata": {},
   "outputs": [
    {
     "name": "stdout",
     "output_type": "stream",
     "text": [
      "Best trial: {'C': 3.243927465623859, 'epsilon': 0.34722130259264133, 'kernel': 'rbf', 'degree': 3}\n"
     ]
    }
   ],
   "source": [
    "print(\"Best trial:\", study.best_trial.params)"
   ]
  },
  {
   "cell_type": "code",
   "execution_count": 27,
   "id": "862eadd2",
   "metadata": {},
   "outputs": [
    {
     "data": {
      "text/html": [
       "<style>#sk-container-id-1 {color: black;}#sk-container-id-1 pre{padding: 0;}#sk-container-id-1 div.sk-toggleable {background-color: white;}#sk-container-id-1 label.sk-toggleable__label {cursor: pointer;display: block;width: 100%;margin-bottom: 0;padding: 0.3em;box-sizing: border-box;text-align: center;}#sk-container-id-1 label.sk-toggleable__label-arrow:before {content: \"▸\";float: left;margin-right: 0.25em;color: #696969;}#sk-container-id-1 label.sk-toggleable__label-arrow:hover:before {color: black;}#sk-container-id-1 div.sk-estimator:hover label.sk-toggleable__label-arrow:before {color: black;}#sk-container-id-1 div.sk-toggleable__content {max-height: 0;max-width: 0;overflow: hidden;text-align: left;background-color: #f0f8ff;}#sk-container-id-1 div.sk-toggleable__content pre {margin: 0.2em;color: black;border-radius: 0.25em;background-color: #f0f8ff;}#sk-container-id-1 input.sk-toggleable__control:checked~div.sk-toggleable__content {max-height: 200px;max-width: 100%;overflow: auto;}#sk-container-id-1 input.sk-toggleable__control:checked~label.sk-toggleable__label-arrow:before {content: \"▾\";}#sk-container-id-1 div.sk-estimator input.sk-toggleable__control:checked~label.sk-toggleable__label {background-color: #d4ebff;}#sk-container-id-1 div.sk-label input.sk-toggleable__control:checked~label.sk-toggleable__label {background-color: #d4ebff;}#sk-container-id-1 input.sk-hidden--visually {border: 0;clip: rect(1px 1px 1px 1px);clip: rect(1px, 1px, 1px, 1px);height: 1px;margin: -1px;overflow: hidden;padding: 0;position: absolute;width: 1px;}#sk-container-id-1 div.sk-estimator {font-family: monospace;background-color: #f0f8ff;border: 1px dotted black;border-radius: 0.25em;box-sizing: border-box;margin-bottom: 0.5em;}#sk-container-id-1 div.sk-estimator:hover {background-color: #d4ebff;}#sk-container-id-1 div.sk-parallel-item::after {content: \"\";width: 100%;border-bottom: 1px solid gray;flex-grow: 1;}#sk-container-id-1 div.sk-label:hover label.sk-toggleable__label {background-color: #d4ebff;}#sk-container-id-1 div.sk-serial::before {content: \"\";position: absolute;border-left: 1px solid gray;box-sizing: border-box;top: 0;bottom: 0;left: 50%;z-index: 0;}#sk-container-id-1 div.sk-serial {display: flex;flex-direction: column;align-items: center;background-color: white;padding-right: 0.2em;padding-left: 0.2em;position: relative;}#sk-container-id-1 div.sk-item {position: relative;z-index: 1;}#sk-container-id-1 div.sk-parallel {display: flex;align-items: stretch;justify-content: center;background-color: white;position: relative;}#sk-container-id-1 div.sk-item::before, #sk-container-id-1 div.sk-parallel-item::before {content: \"\";position: absolute;border-left: 1px solid gray;box-sizing: border-box;top: 0;bottom: 0;left: 50%;z-index: -1;}#sk-container-id-1 div.sk-parallel-item {display: flex;flex-direction: column;z-index: 1;position: relative;background-color: white;}#sk-container-id-1 div.sk-parallel-item:first-child::after {align-self: flex-end;width: 50%;}#sk-container-id-1 div.sk-parallel-item:last-child::after {align-self: flex-start;width: 50%;}#sk-container-id-1 div.sk-parallel-item:only-child::after {width: 0;}#sk-container-id-1 div.sk-dashed-wrapped {border: 1px dashed gray;margin: 0 0.4em 0.5em 0.4em;box-sizing: border-box;padding-bottom: 0.4em;background-color: white;}#sk-container-id-1 div.sk-label label {font-family: monospace;font-weight: bold;display: inline-block;line-height: 1.2em;}#sk-container-id-1 div.sk-label-container {text-align: center;}#sk-container-id-1 div.sk-container {/* jupyter's `normalize.less` sets `[hidden] { display: none; }` but bootstrap.min.css set `[hidden] { display: none !important; }` so we also need the `!important` here to be able to override the default hidden behavior on the sphinx rendered scikit-learn.org. See: https://github.com/scikit-learn/scikit-learn/issues/21755 */display: inline-block !important;position: relative;}#sk-container-id-1 div.sk-text-repr-fallback {display: none;}</style><div id=\"sk-container-id-1\" class=\"sk-top-container\"><div class=\"sk-text-repr-fallback\"><pre>SVR(C=3.243927465623859, epsilon=0.34722130259264133)</pre><b>In a Jupyter environment, please rerun this cell to show the HTML representation or trust the notebook. <br />On GitHub, the HTML representation is unable to render, please try loading this page with nbviewer.org.</b></div><div class=\"sk-container\" hidden><div class=\"sk-item\"><div class=\"sk-estimator sk-toggleable\"><input class=\"sk-toggleable__control sk-hidden--visually\" id=\"sk-estimator-id-1\" type=\"checkbox\" checked><label for=\"sk-estimator-id-1\" class=\"sk-toggleable__label sk-toggleable__label-arrow\">SVR</label><div class=\"sk-toggleable__content\"><pre>SVR(C=3.243927465623859, epsilon=0.34722130259264133)</pre></div></div></div></div></div>"
      ],
      "text/plain": [
       "SVR(C=3.243927465623859, epsilon=0.34722130259264133)"
      ]
     },
     "execution_count": 27,
     "metadata": {},
     "output_type": "execute_result"
    }
   ],
   "source": [
    "svm_params = {\n",
    "    \"C\": study.best_trial.params[\"C\"],\n",
    "    \"epsilon\": study.best_trial.params[\"epsilon\"],\n",
    "    \"kernel\": study.best_trial.params[\"kernel\"],\n",
    "    \"degree\": study.best_trial.params[\"degree\"]\n",
    "}\n",
    "\n",
    "svm = SVR(**svm_params)\n",
    "svm.fit(As_X_train, As_y_train)"
   ]
  },
  {
   "cell_type": "code",
   "execution_count": 28,
   "id": "8577fb37",
   "metadata": {},
   "outputs": [],
   "source": [
    "y_train_pred = svm.predict(As_X_train)\n",
    "y_test_pred = svm.predict(As_X_test)"
   ]
  },
  {
   "cell_type": "code",
   "execution_count": 29,
   "id": "2ea0526a",
   "metadata": {},
   "outputs": [],
   "source": [
    "# plt.scatter(y_train_pred, np.array(As_y_train))"
   ]
  },
  {
   "cell_type": "code",
   "execution_count": 30,
   "id": "d2a4dd85",
   "metadata": {},
   "outputs": [
    {
     "name": "stdout",
     "output_type": "stream",
     "text": [
      "Train RMSE:  0.4779074988593993\n",
      "Test RMSE:  0.5264453909727899\n"
     ]
    }
   ],
   "source": [
    "print(\"Train RMSE: \", np.sqrt(mean_squared_error(As_y_train, y_train_pred)))\n",
    "print(\"Test RMSE: \", np.sqrt(mean_squared_error(As_y_test, y_test_pred)))"
   ]
  },
  {
   "cell_type": "code",
   "execution_count": 31,
   "id": "08fe787a",
   "metadata": {},
   "outputs": [
    {
     "name": "stdout",
     "output_type": "stream",
     "text": [
      "Train R2:  0.5999835091261043\n",
      "Test R2:  0.5433890963615858\n"
     ]
    }
   ],
   "source": [
    "print(\"Train R2: \", r2_score(As_y_train, y_train_pred))\n",
    "print(\"Test R2: \", r2_score(As_y_test, y_test_pred))"
   ]
  },
  {
   "cell_type": "code",
   "execution_count": 32,
   "id": "5ec4820c",
   "metadata": {},
   "outputs": [
    {
     "data": {
      "image/png": "[encoded data removed]",
      "text/plain": [
       "<Figure size 640x480 with 1 Axes>"
      ]
     },
     "metadata": {},
     "output_type": "display_data"
    }
   ],
   "source": [
    "plt.scatter(y_train_pred, np.array(As_y_train), color=\"orange\", alpha=0.3)\n",
    "plt.scatter(y_test_pred, np.array(As_y_test), color=\"green\", alpha=0.4)\n",
    "plt.axis(\"auto\") # scaled, tight, auto, image, square\n",
    "# plt.xlim([0, 1.5]) \n",
    "# plt.ylim(0, None) \n",
    "plt.xlabel('Predicted Values')\n",
    "plt.ylabel('Actual Values')\n",
    "\n",
    "# Add y=x line\n",
    "plt.plot([0, 2.0], [0, 2.0], color='red', linestyle='-')\n",
    "\n",
    "plt.show()"
   ]
  },
  {
   "attachments": {},
   "cell_type": "markdown",
   "id": "e0507d63",
   "metadata": {},
   "source": [
    "Cd"
   ]
  },
  {
   "attachments": {},
   "cell_type": "markdown",
   "id": "f8f809d9",
   "metadata": {},
   "source": [
    "Optimization"
   ]
  },
  {
   "cell_type": "code",
   "execution_count": 33,
   "id": "b7aeaf0a",
   "metadata": {},
   "outputs": [
    {
     "name": "stderr",
     "output_type": "stream",
     "text": [
      "\u001b[32m[I 2023-08-23 21:38:20,917]\u001b[0m A new study created in memory with name: svm_parameter_opt\u001b[0m\n",
      "\u001b[32m[I 2023-08-23 21:38:21,386]\u001b[0m Trial 0 finished with value: 0.48760110886985675 and parameters: {'C': 0.15169852988530433, 'epsilon': 0.011098791290246884, 'kernel': 'rbf', 'degree': 4}. Best is trial 0 with value: 0.48760110886985675.\u001b[0m\n",
      "\u001b[32m[I 2023-08-23 21:38:21,397]\u001b[0m Trial 1 finished with value: -0.5527183759616208 and parameters: {'C': 0.4424664928667142, 'epsilon': 0.6618091683703112, 'kernel': 'linear', 'degree': 4}. Best is trial 0 with value: 0.48760110886985675.\u001b[0m\n",
      "\u001b[32m[I 2023-08-23 21:38:46,145]\u001b[0m Trial 2 finished with value: 0.23865735563459856 and parameters: {'C': 27.715171780665507, 'epsilon': 0.012174761549863257, 'kernel': 'linear', 'degree': 2}. Best is trial 0 with value: 0.48760110886985675.\u001b[0m\n",
      "\u001b[32m[I 2023-08-23 21:38:46,156]\u001b[0m Trial 3 finished with value: -0.5527183759616208 and parameters: {'C': 0.6403077209488597, 'epsilon': 0.4509817249105518, 'kernel': 'linear', 'degree': 1}. Best is trial 0 with value: 0.48760110886985675.\u001b[0m\n",
      "\u001b[32m[I 2023-08-23 21:38:48,198]\u001b[0m Trial 4 finished with value: 0.23864833501284713 and parameters: {'C': 1.494988341230651, 'epsilon': 0.016835948410621037, 'kernel': 'linear', 'degree': 1}. Best is trial 0 with value: 0.48760110886985675.\u001b[0m\n",
      "\u001b[32m[I 2023-08-23 21:38:50,979]\u001b[0m Trial 5 finished with value: 0.27822411720937135 and parameters: {'C': 49.93132096560636, 'epsilon': 0.012484279008769061, 'kernel': 'rbf', 'degree': 3}. Best is trial 0 with value: 0.48760110886985675.\u001b[0m\n",
      "\u001b[32m[I 2023-08-23 21:38:51,093]\u001b[0m Trial 6 finished with value: 0.4187913635297319 and parameters: {'C': 1.173994251258298, 'epsilon': 0.23148536418807136, 'kernel': 'rbf', 'degree': 4}. Best is trial 0 with value: 0.48760110886985675.\u001b[0m\n",
      "\u001b[32m[I 2023-08-23 21:39:02,013]\u001b[0m Trial 7 finished with value: 0.24112123380997338 and parameters: {'C': 12.642825056202172, 'epsilon': 0.040626758729083, 'kernel': 'linear', 'degree': 5}. Best is trial 0 with value: 0.48760110886985675.\u001b[0m\n",
      "\u001b[32m[I 2023-08-23 21:39:02,099]\u001b[0m Trial 8 finished with value: 0.017358631390475242 and parameters: {'C': 1.2960043165047117, 'epsilon': 0.2957153655713658, 'kernel': 'poly', 'degree': 4}. Best is trial 0 with value: 0.48760110886985675.\u001b[0m\n",
      "\u001b[32m[I 2023-08-23 21:39:28,688]\u001b[0m Trial 9 finished with value: -28.9630497099823 and parameters: {'C': 68.88699725777579, 'epsilon': 0.011849758859077894, 'kernel': 'poly', 'degree': 3}. Best is trial 0 with value: 0.48760110886985675.\u001b[0m\n",
      "\u001b[32m[I 2023-08-23 21:39:29,000]\u001b[0m Trial 10 finished with value: 0.48027578780737157 and parameters: {'C': 0.10992593400104317, 'epsilon': 0.0626097109568039, 'kernel': 'rbf', 'degree': 5}. Best is trial 0 with value: 0.48760110886985675.\u001b[0m\n",
      "\u001b[32m[I 2023-08-23 21:39:29,279]\u001b[0m Trial 11 finished with value: 0.47454489923624993 and parameters: {'C': 0.1017479168931035, 'epsilon': 0.07672864255055763, 'kernel': 'rbf', 'degree': 5}. Best is trial 0 with value: 0.48760110886985675.\u001b[0m\n",
      "\u001b[32m[I 2023-08-23 21:39:29,661]\u001b[0m Trial 12 finished with value: 0.4764754286335779 and parameters: {'C': 0.10788221444211535, 'epsilon': 0.03553906410166054, 'kernel': 'rbf', 'degree': 5}. Best is trial 0 with value: 0.48760110886985675.\u001b[0m\n",
      "\u001b[32m[I 2023-08-23 21:39:29,869]\u001b[0m Trial 13 finished with value: 0.4953876030565974 and parameters: {'C': 0.2718501686493708, 'epsilon': 0.12313636664220456, 'kernel': 'rbf', 'degree': 4}. Best is trial 13 with value: 0.4953876030565974.\u001b[0m\n",
      "\u001b[32m[I 2023-08-23 21:39:30,080]\u001b[0m Trial 14 finished with value: 0.5006506037084144 and parameters: {'C': 0.31557765135183613, 'epsilon': 0.12226486693775154, 'kernel': 'rbf', 'degree': 4}. Best is trial 14 with value: 0.5006506037084144.\u001b[0m\n",
      "\u001b[32m[I 2023-08-23 21:39:30,306]\u001b[0m Trial 15 finished with value: 0.47637605172427583 and parameters: {'C': 3.889376009992438, 'epsilon': 0.15320600657678657, 'kernel': 'rbf', 'degree': 3}. Best is trial 14 with value: 0.5006506037084144.\u001b[0m\n",
      "\u001b[32m[I 2023-08-23 21:39:30,528]\u001b[0m Trial 16 finished with value: 0.5025911177362504 and parameters: {'C': 0.298651504472961, 'epsilon': 0.1156697466701531, 'kernel': 'rbf', 'degree': 2}. Best is trial 16 with value: 0.5025911177362504.\u001b[0m\n",
      "\u001b[32m[I 2023-08-23 21:39:30,945]\u001b[0m Trial 17 finished with value: 0.010002649004349662 and parameters: {'C': 5.324407956692958, 'epsilon': 0.2131127429692494, 'kernel': 'poly', 'degree': 2}. Best is trial 16 with value: 0.5025911177362504.\u001b[0m\n",
      "\u001b[32m[I 2023-08-23 21:39:31,309]\u001b[0m Trial 18 finished with value: 0.525742119504468 and parameters: {'C': 0.3264081345818797, 'epsilon': 0.047993661994729514, 'kernel': 'rbf', 'degree': 2}. Best is trial 18 with value: 0.525742119504468.\u001b[0m\n",
      "\u001b[32m[I 2023-08-23 21:39:31,746]\u001b[0m Trial 19 finished with value: 0.5346523093474594 and parameters: {'C': 0.6839201860550846, 'epsilon': 0.028122627750936432, 'kernel': 'rbf', 'degree': 2}. Best is trial 19 with value: 0.5346523093474594.\u001b[0m\n",
      "\u001b[32m[I 2023-08-23 21:39:32,394]\u001b[0m Trial 20 finished with value: -0.2482238181743916 and parameters: {'C': 2.1470982509100596, 'epsilon': 0.024535892798671972, 'kernel': 'poly', 'degree': 2}. Best is trial 19 with value: 0.5346523093474594.\u001b[0m\n",
      "\u001b[32m[I 2023-08-23 21:39:32,765]\u001b[0m Trial 21 finished with value: 0.5396365800551786 and parameters: {'C': 0.7366417259225904, 'epsilon': 0.04951458399198072, 'kernel': 'rbf', 'degree': 2}. Best is trial 21 with value: 0.5396365800551786.\u001b[0m\n",
      "\u001b[32m[I 2023-08-23 21:39:33,131]\u001b[0m Trial 22 finished with value: 0.539487881801887 and parameters: {'C': 0.7491126759306749, 'epsilon': 0.050520225609906586, 'kernel': 'rbf', 'degree': 1}. Best is trial 21 with value: 0.5396365800551786.\u001b[0m\n",
      "\u001b[32m[I 2023-08-23 21:39:33,583]\u001b[0m Trial 23 finished with value: 0.5350360899243244 and parameters: {'C': 0.7077983116450682, 'epsilon': 0.024663244586425815, 'kernel': 'rbf', 'degree': 1}. Best is trial 21 with value: 0.5396365800551786.\u001b[0m\n",
      "\u001b[32m[I 2023-08-23 21:39:33,906]\u001b[0m Trial 24 finished with value: 0.5407461153628321 and parameters: {'C': 0.798924811268742, 'epsilon': 0.06894429937884712, 'kernel': 'rbf', 'degree': 1}. Best is trial 24 with value: 0.5407461153628321.\u001b[0m\n",
      "\u001b[32m[I 2023-08-23 21:39:34,419]\u001b[0m Trial 25 finished with value: 0.49717193292511974 and parameters: {'C': 7.313729656832179, 'epsilon': 0.07279744752495682, 'kernel': 'rbf', 'degree': 1}. Best is trial 24 with value: 0.5407461153628321.\u001b[0m\n",
      "\u001b[32m[I 2023-08-23 21:39:34,873]\u001b[0m Trial 26 finished with value: 0.533421354842223 and parameters: {'C': 2.856291316217467, 'epsilon': 0.051705857890385454, 'kernel': 'rbf', 'degree': 1}. Best is trial 24 with value: 0.5407461153628321.\u001b[0m\n",
      "\u001b[32m[I 2023-08-23 21:39:35,170]\u001b[0m Trial 27 finished with value: 0.5372357294924028 and parameters: {'C': 0.9945129802668367, 'epsilon': 0.08275430543140128, 'kernel': 'rbf', 'degree': 1}. Best is trial 24 with value: 0.5407461153628321.\u001b[0m\n",
      "\u001b[32m[I 2023-08-23 21:39:35,664]\u001b[0m Trial 28 finished with value: 0.5417153806805725 and parameters: {'C': 1.8296015053125951, 'epsilon': 0.03125619851945506, 'kernel': 'rbf', 'degree': 1}. Best is trial 28 with value: 0.5417153806805725.\u001b[0m\n",
      "\u001b[32m[I 2023-08-23 21:39:36,315]\u001b[0m Trial 29 finished with value: -0.27576338855403776 and parameters: {'C': 2.198210668111392, 'epsilon': 0.017856489045310994, 'kernel': 'poly', 'degree': 2}. Best is trial 28 with value: 0.5417153806805725.\u001b[0m\n",
      "\u001b[32m[I 2023-08-23 21:39:37,230]\u001b[0m Trial 30 finished with value: 0.47921335633227163 and parameters: {'C': 10.84317780545447, 'epsilon': 0.033198317457618455, 'kernel': 'rbf', 'degree': 1}. Best is trial 28 with value: 0.5417153806805725.\u001b[0m\n",
      "\u001b[32m[I 2023-08-23 21:39:37,574]\u001b[0m Trial 31 finished with value: 0.5351261507016585 and parameters: {'C': 0.51931523201891, 'epsilon': 0.055913472802011754, 'kernel': 'rbf', 'degree': 1}. Best is trial 28 with value: 0.5417153806805725.\u001b[0m\n",
      "\u001b[32m[I 2023-08-23 21:39:37,831]\u001b[0m Trial 32 finished with value: 0.5008692654735187 and parameters: {'C': 0.19965148010682787, 'epsilon': 0.08925435257400027, 'kernel': 'rbf', 'degree': 1}. Best is trial 28 with value: 0.5417153806805725.\u001b[0m\n",
      "\u001b[32m[I 2023-08-23 21:39:38,231]\u001b[0m Trial 33 finished with value: 0.5402702659253128 and parameters: {'C': 0.9017743251410306, 'epsilon': 0.04255994745513775, 'kernel': 'rbf', 'degree': 2}. Best is trial 28 with value: 0.5417153806805725.\u001b[0m\n",
      "\u001b[32m[I 2023-08-23 21:39:40,821]\u001b[0m Trial 34 finished with value: 0.23925493425883299 and parameters: {'C': 2.0281676626789333, 'epsilon': 0.019448874670072093, 'kernel': 'linear', 'degree': 3}. Best is trial 28 with value: 0.5417153806805725.\u001b[0m\n",
      "\u001b[32m[I 2023-08-23 21:39:40,835]\u001b[0m Trial 35 finished with value: -0.5527183759616208 and parameters: {'C': 0.4389476433983022, 'epsilon': 0.7007462620279892, 'kernel': 'rbf', 'degree': 2}. Best is trial 28 with value: 0.5417153806805725.\u001b[0m\n",
      "\u001b[32m[I 2023-08-23 21:39:42,255]\u001b[0m Trial 36 finished with value: 0.24046241470288696 and parameters: {'C': 0.9760160803560359, 'epsilon': 0.034678127375750795, 'kernel': 'linear', 'degree': 2}. Best is trial 28 with value: 0.5417153806805725.\u001b[0m\n",
      "\u001b[32m[I 2023-08-23 21:39:42,686]\u001b[0m Trial 37 finished with value: 0.5419521399870014 and parameters: {'C': 1.6138174469384965, 'epsilon': 0.04307675548519734, 'kernel': 'rbf', 'degree': 3}. Best is trial 37 with value: 0.5419521399870014.\u001b[0m\n",
      "\u001b[32m[I 2023-08-23 21:39:43,272]\u001b[0m Trial 38 finished with value: 0.5400708860259169 and parameters: {'C': 2.0430223274483956, 'epsilon': 0.015576470455345885, 'kernel': 'rbf', 'degree': 3}. Best is trial 37 with value: 0.5419521399870014.\u001b[0m\n",
      "\u001b[32m[I 2023-08-23 21:39:47,452]\u001b[0m Trial 39 finished with value: 0.24115330519835068 and parameters: {'C': 4.296938573280918, 'epsilon': 0.0413683314030448, 'kernel': 'linear', 'degree': 3}. Best is trial 37 with value: 0.5419521399870014.\u001b[0m\n",
      "\u001b[32m[I 2023-08-23 21:39:47,469]\u001b[0m Trial 40 finished with value: -0.5527183759616208 and parameters: {'C': 1.4779829828984965, 'epsilon': 0.4606947508463973, 'kernel': 'rbf', 'degree': 1}. Best is trial 37 with value: 0.5419521399870014.\u001b[0m\n",
      "\u001b[32m[I 2023-08-23 21:39:48,049]\u001b[0m Trial 41 finished with value: 0.5415974923683113 and parameters: {'C': 1.79204738602476, 'epsilon': 0.013387688118486113, 'kernel': 'rbf', 'degree': 3}. Best is trial 37 with value: 0.5419521399870014.\u001b[0m\n",
      "\u001b[32m[I 2023-08-23 21:39:48,570]\u001b[0m Trial 42 finished with value: 0.5440318633553423 and parameters: {'C': 1.5794766368475288, 'epsilon': 0.023230824800260494, 'kernel': 'rbf', 'degree': 3}. Best is trial 42 with value: 0.5440318633553423.\u001b[0m\n",
      "\u001b[32m[I 2023-08-23 21:39:49,123]\u001b[0m Trial 43 finished with value: 0.5430810027083453 and parameters: {'C': 1.344542249113203, 'epsilon': 0.013705615360126234, 'kernel': 'rbf', 'degree': 3}. Best is trial 42 with value: 0.5440318633553423.\u001b[0m\n",
      "\u001b[32m[I 2023-08-23 21:39:49,692]\u001b[0m Trial 44 finished with value: 0.5427910028330958 and parameters: {'C': 1.436229193257019, 'epsilon': 0.010875620846131358, 'kernel': 'rbf', 'degree': 3}. Best is trial 42 with value: 0.5440318633553423.\u001b[0m\n",
      "\u001b[32m[I 2023-08-23 21:39:50,371]\u001b[0m Trial 45 finished with value: 0.5289297512528516 and parameters: {'C': 2.9139466941148524, 'epsilon': 0.010281935926392321, 'kernel': 'rbf', 'degree': 3}. Best is trial 42 with value: 0.5440318633553423.\u001b[0m\n",
      "\u001b[32m[I 2023-08-23 21:39:50,980]\u001b[0m Trial 46 finished with value: 0.06513364744628809 and parameters: {'C': 1.1926050328999749, 'epsilon': 0.021497626425465106, 'kernel': 'poly', 'degree': 4}. Best is trial 42 with value: 0.5440318633553423.\u001b[0m\n",
      "\u001b[32m[I 2023-08-23 21:39:57,536]\u001b[0m Trial 47 finished with value: 0.23959822955438564 and parameters: {'C': 6.507876441571081, 'epsilon': 0.0135850714337669, 'kernel': 'linear', 'degree': 3}. Best is trial 42 with value: 0.5440318633553423.\u001b[0m\n",
      "\u001b[32m[I 2023-08-23 21:39:58,221]\u001b[0m Trial 48 finished with value: 0.528712888750977 and parameters: {'C': 3.4977939470095465, 'epsilon': 0.01563323077063893, 'kernel': 'rbf', 'degree': 4}. Best is trial 42 with value: 0.5440318633553423.\u001b[0m\n",
      "\u001b[32m[I 2023-08-23 21:39:58,803]\u001b[0m Trial 49 finished with value: 0.5427133756216084 and parameters: {'C': 1.431080617942743, 'epsilon': 0.010595595181340591, 'kernel': 'rbf', 'degree': 3}. Best is trial 42 with value: 0.5440318633553423.\u001b[0m\n",
      "\u001b[32m[I 2023-08-23 21:40:00,494]\u001b[0m Trial 50 finished with value: 0.40693004581370323 and parameters: {'C': 20.796035381537077, 'epsilon': 0.010369629702028435, 'kernel': 'rbf', 'degree': 3}. Best is trial 42 with value: 0.5440318633553423.\u001b[0m\n",
      "\u001b[32m[I 2023-08-23 21:40:01,028]\u001b[0m Trial 51 finished with value: 0.5434337351073892 and parameters: {'C': 1.397055898051624, 'epsilon': 0.021352389087354904, 'kernel': 'rbf', 'degree': 3}. Best is trial 42 with value: 0.5440318633553423.\u001b[0m\n",
      "\u001b[32m[I 2023-08-23 21:40:01,574]\u001b[0m Trial 52 finished with value: 0.5429613025199382 and parameters: {'C': 1.3104560828633753, 'epsilon': 0.014600579882233029, 'kernel': 'rbf', 'degree': 3}. Best is trial 42 with value: 0.5440318633553423.\u001b[0m\n",
      "\u001b[32m[I 2023-08-23 21:40:02,059]\u001b[0m Trial 53 finished with value: 0.5244523442678478 and parameters: {'C': 0.4901004148885452, 'epsilon': 0.012398267898417161, 'kernel': 'rbf', 'degree': 3}. Best is trial 42 with value: 0.5440318633553423.\u001b[0m\n",
      "\u001b[32m[I 2023-08-23 21:40:02,565]\u001b[0m Trial 54 finished with value: 0.5427440734666262 and parameters: {'C': 1.2746948740846131, 'epsilon': 0.02129820598870286, 'kernel': 'rbf', 'degree': 3}. Best is trial 42 with value: 0.5440318633553423.\u001b[0m\n",
      "\u001b[32m[I 2023-08-23 21:40:03,164]\u001b[0m Trial 55 finished with value: 0.5386866588861025 and parameters: {'C': 2.557866196386462, 'epsilon': 0.022054923079157584, 'kernel': 'rbf', 'degree': 3}. Best is trial 42 with value: 0.5440318633553423.\u001b[0m\n",
      "\u001b[32m[I 2023-08-23 21:40:03,777]\u001b[0m Trial 56 finished with value: 0.0859537897449223 and parameters: {'C': 1.122857163888677, 'epsilon': 0.016481284059820446, 'kernel': 'poly', 'degree': 4}. Best is trial 42 with value: 0.5440318633553423.\u001b[0m\n",
      "\u001b[32m[I 2023-08-23 21:40:04,268]\u001b[0m Trial 57 finished with value: 0.5421991554769037 and parameters: {'C': 1.347497841484815, 'epsilon': 0.02731208440813662, 'kernel': 'rbf', 'degree': 3}. Best is trial 42 with value: 0.5440318633553423.\u001b[0m\n",
      "\u001b[32m[I 2023-08-23 21:40:04,756]\u001b[0m Trial 58 finished with value: 0.5292304074708095 and parameters: {'C': 0.5917012652136833, 'epsilon': 0.014455590245803219, 'kernel': 'rbf', 'degree': 3}. Best is trial 42 with value: 0.5440318633553423.\u001b[0m\n",
      "\u001b[32m[I 2023-08-23 21:40:05,206]\u001b[0m Trial 59 finished with value: 0.5191054215752595 and parameters: {'C': 0.36192272941294046, 'epsilon': 0.01886954310758032, 'kernel': 'rbf', 'degree': 4}. Best is trial 42 with value: 0.5440318633553423.\u001b[0m\n",
      "\u001b[32m[I 2023-08-23 21:40:05,931]\u001b[0m Trial 60 finished with value: 0.5251824513521959 and parameters: {'C': 4.4277074430433885, 'epsilon': 0.02043399939723024, 'kernel': 'rbf', 'degree': 3}. Best is trial 42 with value: 0.5440318633553423.\u001b[0m\n",
      "\u001b[32m[I 2023-08-23 21:40:06,496]\u001b[0m Trial 61 finished with value: 0.5430145586823188 and parameters: {'C': 1.4227755214384452, 'epsilon': 0.01187766946434218, 'kernel': 'rbf', 'degree': 3}. Best is trial 42 with value: 0.5440318633553423.\u001b[0m\n",
      "\u001b[32m[I 2023-08-23 21:40:07,137]\u001b[0m Trial 62 finished with value: 0.5341156094773117 and parameters: {'C': 2.4640555850110513, 'epsilon': 0.011906452454922885, 'kernel': 'rbf', 'degree': 3}. Best is trial 42 with value: 0.5440318633553423.\u001b[0m\n",
      "\u001b[32m[I 2023-08-23 21:40:07,657]\u001b[0m Trial 63 finished with value: 0.5410425260286165 and parameters: {'C': 1.1112057871380177, 'epsilon': 0.016695254033262316, 'kernel': 'rbf', 'degree': 3}. Best is trial 42 with value: 0.5440318633553423.\u001b[0m\n",
      "\u001b[32m[I 2023-08-23 21:40:08,119]\u001b[0m Trial 64 finished with value: 0.5388442659771012 and parameters: {'C': 0.8681500369070919, 'epsilon': 0.025084244183439432, 'kernel': 'rbf', 'degree': 3}. Best is trial 42 with value: 0.5440318633553423.\u001b[0m\n",
      "\u001b[32m[I 2023-08-23 21:40:08,684]\u001b[0m Trial 65 finished with value: 0.5428587216163453 and parameters: {'C': 1.6194668947074924, 'epsilon': 0.01370677366699003, 'kernel': 'rbf', 'degree': 3}. Best is trial 42 with value: 0.5440318633553423.\u001b[0m\n",
      "\u001b[32m[I 2023-08-23 21:40:08,698]\u001b[0m Trial 66 finished with value: -0.5527183759616208 and parameters: {'C': 1.7367586790583314, 'epsilon': 0.9180378021086288, 'kernel': 'rbf', 'degree': 4}. Best is trial 42 with value: 0.5440318633553423.\u001b[0m\n",
      "\u001b[32m[I 2023-08-23 21:40:10,267]\u001b[0m Trial 67 finished with value: -8.994949550180987 and parameters: {'C': 3.5774301037658907, 'epsilon': 0.01191200477159223, 'kernel': 'poly', 'degree': 3}. Best is trial 42 with value: 0.5440318633553423.\u001b[0m\n",
      "\u001b[32m[I 2023-08-23 21:40:10,939]\u001b[0m Trial 68 finished with value: 0.5303524111356012 and parameters: {'C': 3.0473768886874493, 'epsilon': 0.013678458036890736, 'kernel': 'rbf', 'degree': 4}. Best is trial 42 with value: 0.5440318633553423.\u001b[0m\n",
      "\u001b[32m[I 2023-08-23 21:40:12,124]\u001b[0m Trial 69 finished with value: 0.23663819047428922 and parameters: {'C': 0.6342063149554618, 'epsilon': 0.010102765626479592, 'kernel': 'linear', 'degree': 3}. Best is trial 42 with value: 0.5440318633553423.\u001b[0m\n",
      "\u001b[32m[I 2023-08-23 21:40:12,717]\u001b[0m Trial 70 finished with value: 0.538718056512733 and parameters: {'C': 2.27245893663607, 'epsilon': 0.0180304946281322, 'kernel': 'rbf', 'degree': 2}. Best is trial 42 with value: 0.5440318633553423.\u001b[0m\n",
      "\u001b[32m[I 2023-08-23 21:40:13,258]\u001b[0m Trial 71 finished with value: 0.5423632686117134 and parameters: {'C': 1.2534153774820924, 'epsilon': 0.014741814432967473, 'kernel': 'rbf', 'degree': 3}. Best is trial 42 with value: 0.5440318633553423.\u001b[0m\n",
      "\u001b[32m[I 2023-08-23 21:40:13,777]\u001b[0m Trial 72 finished with value: 0.5438147500903211 and parameters: {'C': 1.5396316187878831, 'epsilon': 0.022866716668611335, 'kernel': 'rbf', 'degree': 3}. Best is trial 42 with value: 0.5440318633553423.\u001b[0m\n",
      "\u001b[32m[I 2023-08-23 21:40:14,305]\u001b[0m Trial 73 finished with value: 0.54404409463949 and parameters: {'C': 1.6786154619762603, 'epsilon': 0.02369265989407749, 'kernel': 'rbf', 'degree': 3}. Best is trial 73 with value: 0.54404409463949.\u001b[0m\n",
      "\u001b[32m[I 2023-08-23 21:40:14,754]\u001b[0m Trial 74 finished with value: 0.5375547024063364 and parameters: {'C': 0.9374059898267066, 'epsilon': 0.03012038593196341, 'kernel': 'rbf', 'degree': 3}. Best is trial 73 with value: 0.54404409463949.\u001b[0m\n",
      "\u001b[32m[I 2023-08-23 21:40:15,285]\u001b[0m Trial 75 finished with value: 0.543643119030018 and parameters: {'C': 1.7460424093024458, 'epsilon': 0.02340624028173456, 'kernel': 'rbf', 'degree': 3}. Best is trial 73 with value: 0.54404409463949.\u001b[0m\n",
      "\u001b[32m[I 2023-08-23 21:40:15,817]\u001b[0m Trial 76 finished with value: 0.542398864178614 and parameters: {'C': 1.9334096393415054, 'epsilon': 0.026247391761032173, 'kernel': 'rbf', 'degree': 3}. Best is trial 73 with value: 0.54404409463949.\u001b[0m\n",
      "\u001b[32m[I 2023-08-23 21:40:16,228]\u001b[0m Trial 77 finished with value: 0.5373632571306045 and parameters: {'C': 0.7683945295489427, 'epsilon': 0.03796551276287306, 'kernel': 'rbf', 'degree': 3}. Best is trial 73 with value: 0.54404409463949.\u001b[0m\n",
      "\u001b[32m[I 2023-08-23 21:40:16,782]\u001b[0m Trial 78 finished with value: 0.5387467371441431 and parameters: {'C': 2.670637083082056, 'epsilon': 0.030627197852884425, 'kernel': 'rbf', 'degree': 3}. Best is trial 73 with value: 0.54404409463949.\u001b[0m\n",
      "\u001b[32m[I 2023-08-23 21:40:17,267]\u001b[0m Trial 79 finished with value: 0.5413700040251402 and parameters: {'C': 1.0451175802998303, 'epsilon': 0.023034174285171963, 'kernel': 'rbf', 'degree': 2}. Best is trial 73 with value: 0.54404409463949.\u001b[0m\n",
      "\u001b[32m[I 2023-08-23 21:40:17,812]\u001b[0m Trial 80 finished with value: 0.5435797654142804 and parameters: {'C': 1.6477736467672577, 'epsilon': 0.018909184435800478, 'kernel': 'rbf', 'degree': 3}. Best is trial 73 with value: 0.54404409463949.\u001b[0m\n",
      "\u001b[32m[I 2023-08-23 21:40:18,353]\u001b[0m Trial 81 finished with value: 0.5438240259618465 and parameters: {'C': 1.5164941920312263, 'epsilon': 0.01777413270399301, 'kernel': 'rbf', 'degree': 3}. Best is trial 73 with value: 0.54404409463949.\u001b[0m\n",
      "\u001b[32m[I 2023-08-23 21:40:18,927]\u001b[0m Trial 82 finished with value: 0.5403342975191302 and parameters: {'C': 2.1737766369956226, 'epsilon': 0.019366470096291253, 'kernel': 'rbf', 'degree': 3}. Best is trial 73 with value: 0.54404409463949.\u001b[0m\n",
      "\u001b[32m[I 2023-08-23 21:40:19,459]\u001b[0m Trial 83 finished with value: 0.5435121161043434 and parameters: {'C': 1.7483886952895884, 'epsilon': 0.0236430009069389, 'kernel': 'rbf', 'degree': 3}. Best is trial 73 with value: 0.54404409463949.\u001b[0m\n",
      "\u001b[32m[I 2023-08-23 21:40:19,987]\u001b[0m Trial 84 finished with value: 0.5436626285494409 and parameters: {'C': 1.7150303051448677, 'epsilon': 0.023809740557611744, 'kernel': 'rbf', 'degree': 3}. Best is trial 73 with value: 0.54404409463949.\u001b[0m\n",
      "\u001b[32m[I 2023-08-23 21:40:23,107]\u001b[0m Trial 85 finished with value: 0.2414324049907878 and parameters: {'C': 74.15545489635696, 'epsilon': 0.023554779951636132, 'kernel': 'rbf', 'degree': 3}. Best is trial 73 with value: 0.54404409463949.\u001b[0m\n",
      "\u001b[32m[I 2023-08-23 21:40:25,278]\u001b[0m Trial 86 finished with value: 0.24066372121420168 and parameters: {'C': 1.7618327930162385, 'epsilon': 0.02866671813467568, 'kernel': 'linear', 'degree': 3}. Best is trial 73 with value: 0.54404409463949.\u001b[0m\n",
      "\u001b[32m[I 2023-08-23 21:40:26,600]\u001b[0m Trial 87 finished with value: -5.875294858234115 and parameters: {'C': 3.16568793101372, 'epsilon': 0.03705211955901853, 'kernel': 'poly', 'degree': 3}. Best is trial 73 with value: 0.54404409463949.\u001b[0m\n",
      "\u001b[32m[I 2023-08-23 21:40:26,798]\u001b[0m Trial 88 finished with value: 0.4515861916555336 and parameters: {'C': 4.2651335886278146, 'epsilon': 0.18057730517864556, 'kernel': 'rbf', 'degree': 3}. Best is trial 73 with value: 0.54404409463949.\u001b[0m\n",
      "\u001b[32m[I 2023-08-23 21:40:27,318]\u001b[0m Trial 89 finished with value: 0.540017560928679 and parameters: {'C': 2.324384565744051, 'epsilon': 0.033422497993998594, 'kernel': 'rbf', 'degree': 2}. Best is trial 73 with value: 0.54404409463949.\u001b[0m\n",
      "\u001b[32m[I 2023-08-23 21:40:28,069]\u001b[0m Trial 90 finished with value: 0.5173090101664177 and parameters: {'C': 5.788637728013171, 'epsilon': 0.02577751210803635, 'kernel': 'rbf', 'degree': 3}. Best is trial 73 with value: 0.54404409463949.\u001b[0m\n",
      "\u001b[32m[I 2023-08-23 21:40:28,607]\u001b[0m Trial 91 finished with value: 0.5437439156342185 and parameters: {'C': 1.6851160928642446, 'epsilon': 0.02103341179728855, 'kernel': 'rbf', 'degree': 3}. Best is trial 73 with value: 0.54404409463949.\u001b[0m\n",
      "\u001b[32m[I 2023-08-23 21:40:29,183]\u001b[0m Trial 92 finished with value: 0.5421513336345308 and parameters: {'C': 1.8016863380366683, 'epsilon': 0.01770950672201092, 'kernel': 'rbf', 'degree': 3}. Best is trial 73 with value: 0.54404409463949.\u001b[0m\n",
      "\u001b[32m[I 2023-08-23 21:40:29,714]\u001b[0m Trial 93 finished with value: 0.543801603983054 and parameters: {'C': 1.565402363006119, 'epsilon': 0.021296202203190825, 'kernel': 'rbf', 'degree': 3}. Best is trial 73 with value: 0.54404409463949.\u001b[0m\n",
      "\u001b[32m[I 2023-08-23 21:40:30,300]\u001b[0m Trial 94 finished with value: 0.5424367272159245 and parameters: {'C': 2.0540821325891896, 'epsilon': 0.023542023604278744, 'kernel': 'rbf', 'degree': 3}. Best is trial 73 with value: 0.54404409463949.\u001b[0m\n",
      "\u001b[32m[I 2023-08-23 21:40:30,839]\u001b[0m Trial 95 finished with value: 0.5437040635600829 and parameters: {'C': 1.5700046064062643, 'epsilon': 0.0200003261279098, 'kernel': 'rbf', 'degree': 3}. Best is trial 73 with value: 0.54404409463949.\u001b[0m\n",
      "\u001b[32m[I 2023-08-23 21:40:30,908]\u001b[0m Trial 96 finished with value: 0.23033878110956216 and parameters: {'C': 0.8780364131193662, 'epsilon': 0.3133530645427565, 'kernel': 'rbf', 'degree': 3}. Best is trial 73 with value: 0.54404409463949.\u001b[0m\n",
      "\u001b[32m[I 2023-08-23 21:40:31,518]\u001b[0m Trial 97 finished with value: 0.5374798868825923 and parameters: {'C': 2.6499472167849203, 'epsilon': 0.019924935725224937, 'kernel': 'rbf', 'degree': 3}. Best is trial 73 with value: 0.54404409463949.\u001b[0m\n",
      "\u001b[32m[I 2023-08-23 21:40:31,987]\u001b[0m Trial 98 finished with value: 0.5400606751501282 and parameters: {'C': 1.0881386225775065, 'epsilon': 0.02754485217302873, 'kernel': 'rbf', 'degree': 3}. Best is trial 73 with value: 0.54404409463949.\u001b[0m\n",
      "\u001b[32m[I 2023-08-23 21:40:32,545]\u001b[0m Trial 99 finished with value: 0.5435825594020051 and parameters: {'C': 1.6336577202428237, 'epsilon': 0.01696577164567656, 'kernel': 'rbf', 'degree': 5}. Best is trial 73 with value: 0.54404409463949.\u001b[0m\n"
     ]
    },
    {
     "name": "stdout",
     "output_type": "stream",
     "text": [
      "Best r2:  0.54404409463949\n",
      "Best trial: {'C': 1.6786154619762603, 'epsilon': 0.02369265989407749, 'kernel': 'rbf', 'degree': 3}\n"
     ]
    }
   ],
   "source": [
    "sampler = TPESampler()\n",
    "study = optuna.create_study(\n",
    "    study_name=\"svm_parameter_opt\",\n",
    "    direction=\"maximize\",\n",
    "    sampler=sampler,\n",
    ")\n",
    "\n",
    "study.optimize(lambda trial : objectiveSVM(trial, Cd_X_train, Cd_y_train), n_trials=100)\n",
    "print(\"Best r2: \", study.best_value)\n",
    "print(\"Best trial:\", study.best_trial.params)"
   ]
  },
  {
   "cell_type": "code",
   "execution_count": 34,
   "id": "861f88d8",
   "metadata": {},
   "outputs": [
    {
     "data": {
      "application/vnd.plotly.v1+json": {
       "config": {
        "plotlyServerURL": "https://plot.ly"
       },
       "data": [
        {
         "dimensions": [
          {
           "label": "Objective Value",
           "range": [
            -28.9630497099823,
            0.54404409463949
           ],
           "values": [
            0.48760110886985675,
            -0.5527183759616208,
            0.23865735563459856,
            -0.5527183759616208,
            0.23864833501284713,
            0.27822411720937135,
            0.4187913635297319,
            0.24112123380997338,
            0.017358631390475242,
            -28.9630497099823,
            0.48027578780737157,
            0.47454489923624993,
            0.4764754286335779,
            0.4953876030565974,
            0.5006506037084144,
            0.47637605172427583,
            0.5025911177362504,
            0.010002649004349662,
            0.525742119504468,
            0.5346523093474594,
            -0.2482238181743916,
            0.5396365800551786,
            0.539487881801887,
            0.5350360899243244,
            0.5407461153628321,
            0.49717193292511974,
            0.533421354842223,
            0.5372357294924028,
            0.5417153806805725,
            -0.27576338855403776,
            0.47921335633227163,
            0.5351261507016585,
            0.5008692654735187,
            0.5402702659253128,
            0.23925493425883299,
            -0.5527183759616208,
            0.24046241470288696,
            0.5419521399870014,
            0.5400708860259169,
            0.24115330519835068,
            -0.5527183759616208,
            0.5415974923683113,
            0.5440318633553423,
            0.5430810027083453,
            0.5427910028330958,
            0.5289297512528516,
            0.06513364744628809,
            0.23959822955438564,
            0.528712888750977,
            0.5427133756216084,
            0.40693004581370323,
            0.5434337351073892,
            0.5429613025199382,
            0.5244523442678478,
            0.5427440734666262,
            0.5386866588861025,
            0.0859537897449223,
            0.5421991554769037,
            0.5292304074708095,
            0.5191054215752595,
            0.5251824513521959,
            0.5430145586823188,
            0.5341156094773117,
            0.5410425260286165,
            0.5388442659771012,
            0.5428587216163453,
            -0.5527183759616208,
            -8.994949550180987,
            0.5303524111356012,
            0.23663819047428922,
            0.538718056512733,
            0.5423632686117134,
            0.5438147500903211,
            0.54404409463949,
            0.5375547024063364,
            0.543643119030018,
            0.542398864178614,
            0.5373632571306045,
            0.5387467371441431,
            0.5413700040251402,
            0.5435797654142804,
            0.5438240259618465,
            0.5403342975191302,
            0.5435121161043434,
            0.5436626285494409,
            0.2414324049907878,
            0.24066372121420168,
            -5.875294858234115,
            0.4515861916555336,
            0.540017560928679,
            0.5173090101664177,
            0.5437439156342185,
            0.5421513336345308,
            0.543801603983054,
            0.5424367272159245,
            0.5437040635600829,
            0.23033878110956216,
            0.5374798868825923,
            0.5400606751501282,
            0.5435825594020051
           ]
          },
          {
           "label": "C",
           "range": [
            -0.9924744734156777,
            1.8701431033650986
           ],
           "ticktext": [
            "0.102",
            "1",
            "10",
            "74.2"
           ],
           "tickvals": [
            -0.9924744734156777,
            0,
            1,
            1.8701431033650986
           ],
           "values": [
            -0.8190186279528461,
            -0.35411961200360786,
            1.4427175747258436,
            -0.19361126134111714,
            0.17463780579828297,
            1.6983730557503813,
            0.06966597029071679,
            1.1018441284742562,
            0.11260644800915443,
            1.838137254532957,
            -0.9588998356488895,
            -0.9924744734156777,
            -0.9670501475906633,
            -0.5656703932362326,
            -0.5008937603366495,
            0.5898799311060706,
            -0.5248352931296686,
            0.7262713237659947,
            -0.48623902651131007,
            -0.16499457778041074,
            0.33185191814457815,
            -0.13274368485023952,
            -0.12545285405678538,
            -0.15009047764666,
            -0.09749409125874202,
            0.8641389031286443,
            0.45580249952350366,
            -0.0023895441418862826,
            0.26235650891651274,
            0.34206931120577416,
            1.0351565793537083,
            -0.284568938940193,
            -0.6997274658360585,
            -0.04490213386456409,
            0.30710385399783613,
            -0.3575872782527125,
            -0.010543027054246827,
            0.20785440630226848,
            0.3102731129049132,
            0.6331591452883202,
            0.16966943373686746,
            0.2533494892641559,
            0.19851320633281724,
            0.12857445346779645,
            0.15722375009034187,
            0.4644816027999559,
            0.07649663777516985,
            0.8134392988356156,
            0.5437942218629221,
            0.15566409982650103,
            1.3179805476533115,
            0.145213783157633,
            0.11742247107453957,
            -0.30971492984050336,
            0.10540623938943634,
            0.40787782251523796,
            0.05032451415964905,
            0.12952807817641288,
            -0.2278975020856151,
            -0.4413841415432407,
            0.6461789175207412,
            0.15313638463037266,
            0.3916505005667758,
            0.04579449453262108,
            -0.06140521195496692,
            0.20937207454884507,
            0.23973947784017346,
            0.5535711572199837,
            0.48392616953449274,
            -0.1977694379054985,
            0.3564960442577063,
            0.09809501852308063,
            0.18741682144314198,
            0.22495121914646737,
            -0.028072275756735463,
            0.242054787996329,
            0.2863238795110274,
            -0.11441573568328081,
            0.42661487509606794,
            0.01916515322487247,
            0.21689755280308937,
            0.1808407513604181,
            0.337214916795397,
            0.24263798977070158,
            0.23427179857173733,
            1.8701431033650986,
            0.24596468925415577,
            0.5004681005078078,
            0.629932638292597,
            0.3663079829969691,
            0.7625763708402661,
            0.22662982612934374,
            0.2556791853573473,
            0.19462598506054996,
            0.31261780489764296,
            0.1959009266346396,
            -0.05648747305871189,
            0.4232372234887527,
            0.036684225495944946,
            0.21316106946620947
           ]
          },
          {
           "label": "degree",
           "range": [
            1,
            5
           ],
           "values": [
            4,
            4,
            2,
            1,
            1,
            3,
            4,
            5,
            4,
            3,
            5,
            5,
            5,
            4,
            4,
            3,
            2,
            2,
            2,
            2,
            2,
            2,
            1,
            1,
            1,
            1,
            1,
            1,
            1,
            2,
            1,
            1,
            1,
            2,
            3,
            2,
            2,
            3,
            3,
            3,
            1,
            3,
            3,
            3,
            3,
            3,
            4,
            3,
            4,
            3,
            3,
            3,
            3,
            3,
            3,
            3,
            4,
            3,
            3,
            4,
            3,
            3,
            3,
            3,
            3,
            3,
            4,
            3,
            4,
            3,
            2,
            3,
            3,
            3,
            3,
            3,
            3,
            3,
            3,
            2,
            3,
            3,
            3,
            3,
            3,
            3,
            3,
            3,
            3,
            2,
            3,
            3,
            3,
            3,
            3,
            3,
            3,
            3,
            3,
            5
           ]
          },
          {
           "label": "epsilon",
           "range": [
            -1.9955597220684105,
            -0.03713943545543503
           ],
           "ticktext": [
            "0.0101",
            "0.1",
            "0.918"
           ],
           "tickvals": [
            -1.9955597220684105,
            -1,
            -0.03713943545543503
           ],
           "values": [
            -1.9547243153177518,
            -0.17926722063785608,
            -1.914539535952565,
            -0.34584105663936093,
            -1.7737624137043038,
            -1.9036365339337498,
            -0.635476462327642,
            -1.3911878250333003,
            -0.5291261086511536,
            -1.9262904873954305,
            -1.2033583011686426,
            -1.115042485078521,
            -1.4492940132453,
            -0.9096136651876195,
            -0.9126983204541438,
            -0.8147242074709333,
            -0.9367802155710709,
            -0.6713905810893298,
            -1.3188161114256158,
            -1.5509441017029708,
            -1.610198134525038,
            -1.3052668654223718,
            -1.296534718668593,
            -1.6079497901373319,
            -1.1615016374019855,
            -1.1378838479570201,
            -1.286460251773493,
            -1.0822094020663398,
            -1.5050638434127164,
            -1.748203928322067,
            -1.4788839264582694,
            -1.2524835327473811,
            -1.0493705959129285,
            -1.3709989168962275,
            -1.711105522292863,
            -0.15443921020691648,
            -1.459944362531931,
            -1.3657570149362483,
            -1.8075309443157601,
            -1.3833319960748685,
            -0.33658673606820505,
            -1.8732944135833216,
            -1.633935370490649,
            -1.8631014605617229,
            -1.9635459415133014,
            -1.9879251068394337,
            -1.6676094883275716,
            -1.866938073609048,
            -1.8059512612087374,
            -1.9748746428501223,
            -1.9842367519269741,
            -1.6705535253505777,
            -1.8356298952667403,
            -1.9066389837654358,
            -1.671656976937792,
            -1.6564944525695757,
            -1.7830089553591584,
            -1.563645154037949,
            -1.8399641706649368,
            -1.7242386153760827,
            -1.6896466237659864,
            -1.9252687645792548,
            -1.9242176179254786,
            -1.7774069683793206,
            -1.6005989802215101,
            -1.8630647584501996,
            -0.03713943545543503,
            -1.9240151412904873,
            -1.8639628575730465,
            -1.9955597220684105,
            -1.743992359172113,
            -1.8314490599145605,
            -1.6407961893535123,
            -1.6253861797806555,
            -1.5211394678282988,
            -1.6306683409393685,
            -1.580913846546424,
            -1.4206107301576578,
            -1.513892735896629,
            -1.6376273514521464,
            -1.7233272021263881,
            -1.7502115816563983,
            -1.7129495304117377,
            -1.6262974011151896,
            -1.6232453368509565,
            -1.6279209485786477,
            -1.5426220237463653,
            -1.4311869432458828,
            -0.7433368324002442,
            -1.4759610941054924,
            -1.5887590004771988,
            -1.6770902753614607,
            -1.7517935354159224,
            -1.6716978383103702,
            -1.6281562091901436,
            -1.6989629226161762,
            -0.5039660536128034,
            -1.7006030708967264,
            -1.5599595540443418,
            -1.7704263827717006
           ]
          },
          {
           "label": "kernel",
           "range": [
            0,
            2
           ],
           "ticktext": [
            "rbf",
            "linear",
            "poly"
           ],
           "tickvals": [
            0,
            1,
            2
           ],
           "values": [
            0,
            1,
            1,
            1,
            1,
            0,
            0,
            1,
            2,
            2,
            0,
            0,
            0,
            0,
            0,
            0,
            0,
            2,
            0,
            0,
            2,
            0,
            0,
            0,
            0,
            0,
            0,
            0,
            0,
            2,
            0,
            0,
            0,
            0,
            1,
            0,
            1,
            0,
            0,
            1,
            0,
            0,
            0,
            0,
            0,
            0,
            2,
            1,
            0,
            0,
            0,
            0,
            0,
            0,
            0,
            0,
            2,
            0,
            0,
            0,
            0,
            0,
            0,
            0,
            0,
            0,
            0,
            2,
            0,
            1,
            0,
            0,
            0,
            0,
            0,
            0,
            0,
            0,
            0,
            0,
            0,
            0,
            0,
            0,
            0,
            0,
            1,
            2,
            0,
            0,
            0,
            0,
            0,
            0,
            0,
            0,
            0,
            0,
            0,
            0
           ]
          }
         ],
         "labelangle": 30,
         "labelside": "bottom",
         "line": {
          "color": [
           0.48760110886985675,
           -0.5527183759616208,
           0.23865735563459856,
           -0.5527183759616208,
           0.23864833501284713,
           0.27822411720937135,
           0.4187913635297319,
           0.24112123380997338,
           0.017358631390475242,
           -28.9630497099823,
           0.48027578780737157,
           0.47454489923624993,
           0.4764754286335779,
           0.4953876030565974,
           0.5006506037084144,
           0.47637605172427583,
           0.5025911177362504,
           0.010002649004349662,
           0.525742119504468,
           0.5346523093474594,
           -0.2482238181743916,
           0.5396365800551786,
           0.539487881801887,
           0.5350360899243244,
           0.5407461153628321,
           0.49717193292511974,
           0.533421354842223,
           0.5372357294924028,
           0.5417153806805725,
           -0.27576338855403776,
           0.47921335633227163,
           0.5351261507016585,
           0.5008692654735187,
           0.5402702659253128,
           0.23925493425883299,
           -0.5527183759616208,
           0.24046241470288696,
           0.5419521399870014,
           0.5400708860259169,
           0.24115330519835068,
           -0.5527183759616208,
           0.5415974923683113,
           0.5440318633553423,
           0.5430810027083453,
           0.5427910028330958,
           0.5289297512528516,
           0.06513364744628809,
           0.23959822955438564,
           0.528712888750977,
           0.5427133756216084,
           0.40693004581370323,
           0.5434337351073892,
           0.5429613025199382,
           0.5244523442678478,
           0.5427440734666262,
           0.5386866588861025,
           0.0859537897449223,
           0.5421991554769037,
           0.5292304074708095,
           0.5191054215752595,
           0.5251824513521959,
           0.5430145586823188,
           0.5341156094773117,
           0.5410425260286165,
           0.5388442659771012,
           0.5428587216163453,
           -0.5527183759616208,
           -8.994949550180987,
           0.5303524111356012,
           0.23663819047428922,
           0.538718056512733,
           0.5423632686117134,
           0.5438147500903211,
           0.54404409463949,
           0.5375547024063364,
           0.543643119030018,
           0.542398864178614,
           0.5373632571306045,
           0.5387467371441431,
           0.5413700040251402,
           0.5435797654142804,
           0.5438240259618465,
           0.5403342975191302,
           0.5435121161043434,
           0.5436626285494409,
           0.2414324049907878,
           0.24066372121420168,
           -5.875294858234115,
           0.4515861916555336,
           0.540017560928679,
           0.5173090101664177,
           0.5437439156342185,
           0.5421513336345308,
           0.543801603983054,
           0.5424367272159245,
           0.5437040635600829,
           0.23033878110956216,
           0.5374798868825923,
           0.5400606751501282,
           0.5435825594020051
          ],
          "colorbar": {
           "title": {
            "text": "Objective Value"
           }
          },
          "colorscale": [
           [
            0,
            "rgb(247,251,255)"
           ],
           [
            0.125,
            "rgb(222,235,247)"
           ],
           [
            0.25,
            "rgb(198,219,239)"
           ],
           [
            0.375,
            "rgb(158,202,225)"
           ],
           [
            0.5,
            "rgb(107,174,214)"
           ],
           [
            0.625,
            "rgb(66,146,198)"
           ],
           [
            0.75,
            "rgb(33,113,181)"
           ],
           [
            0.875,
            "rgb(8,81,156)"
           ],
           [
            1,
            "rgb(8,48,107)"
           ]
          ],
          "reversescale": false,
          "showscale": true
         },
         "type": "parcoords"
        }
       ],
       "layout": {
        "template": {
         "data": {
          "bar": [
           {
            "error_x": {
             "color": "#2a3f5f"
            },
            "error_y": {
             "color": "#2a3f5f"
            },
            "marker": {
             "line": {
              "color": "#E5ECF6",
              "width": 0.5
             },
             "pattern": {
              "fillmode": "overlay",
              "size": 10,
              "solidity": 0.2
             }
            },
            "type": "bar"
           }
          ],
          "barpolar": [
           {
            "marker": {
             "line": {
              "color": "#E5ECF6",
              "width": 0.5
             },
             "pattern": {
              "fillmode": "overlay",
              "size": 10,
              "solidity": 0.2
             }
            },
            "type": "barpolar"
           }
          ],
          "carpet": [
           {
            "aaxis": {
             "endlinecolor": "#2a3f5f",
             "gridcolor": "white",
             "linecolor": "white",
             "minorgridcolor": "white",
             "startlinecolor": "#2a3f5f"
            },
            "baxis": {
             "endlinecolor": "#2a3f5f",
             "gridcolor": "white",
             "linecolor": "white",
             "minorgridcolor": "white",
             "startlinecolor": "#2a3f5f"
            },
            "type": "carpet"
           }
          ],
          "choropleth": [
           {
            "colorbar": {
             "outlinewidth": 0,
             "ticks": ""
            },
            "type": "choropleth"
           }
          ],
          "contour": [
           {
            "colorbar": {
             "outlinewidth": 0,
             "ticks": ""
            },
            "colorscale": [
             [
              0,
              "#0d0887"
             ],
             [
              0.1111111111111111,
              "#46039f"
             ],
             [
              0.2222222222222222,
              "#7201a8"
             ],
             [
              0.3333333333333333,
              "#9c179e"
             ],
             [
              0.4444444444444444,
              "#bd3786"
             ],
             [
              0.5555555555555556,
              "#d8576b"
             ],
             [
              0.6666666666666666,
              "#ed7953"
             ],
             [
              0.7777777777777778,
              "#fb9f3a"
             ],
             [
              0.8888888888888888,
              "#fdca26"
             ],
             [
              1,
              "#f0f921"
             ]
            ],
            "type": "contour"
           }
          ],
          "contourcarpet": [
           {
            "colorbar": {
             "outlinewidth": 0,
             "ticks": ""
            },
            "type": "contourcarpet"
           }
          ],
          "heatmap": [
           {
            "colorbar": {
             "outlinewidth": 0,
             "ticks": ""
            },
            "colorscale": [
             [
              0,
              "#0d0887"
             ],
             [
              0.1111111111111111,
              "#46039f"
             ],
             [
              0.2222222222222222,
              "#7201a8"
             ],
             [
              0.3333333333333333,
              "#9c179e"
             ],
             [
              0.4444444444444444,
              "#bd3786"
             ],
             [
              0.5555555555555556,
              "#d8576b"
             ],
             [
              0.6666666666666666,
              "#ed7953"
             ],
             [
              0.7777777777777778,
              "#fb9f3a"
             ],
             [
              0.8888888888888888,
              "#fdca26"
             ],
             [
              1,
              "#f0f921"
             ]
            ],
            "type": "heatmap"
           }
          ],
          "heatmapgl": [
           {
            "colorbar": {
             "outlinewidth": 0,
             "ticks": ""
            },
            "colorscale": [
             [
              0,
              "#0d0887"
             ],
             [
              0.1111111111111111,
              "#46039f"
             ],
             [
              0.2222222222222222,
              "#7201a8"
             ],
             [
              0.3333333333333333,
              "#9c179e"
             ],
             [
              0.4444444444444444,
              "#bd3786"
             ],
             [
              0.5555555555555556,
              "#d8576b"
             ],
             [
              0.6666666666666666,
              "#ed7953"
             ],
             [
              0.7777777777777778,
              "#fb9f3a"
             ],
             [
              0.8888888888888888,
              "#fdca26"
             ],
             [
              1,
              "#f0f921"
             ]
            ],
            "type": "heatmapgl"
           }
          ],
          "histogram": [
           {
            "marker": {
             "pattern": {
              "fillmode": "overlay",
              "size": 10,
              "solidity": 0.2
             }
            },
            "type": "histogram"
           }
          ],
          "histogram2d": [
           {
            "colorbar": {
             "outlinewidth": 0,
             "ticks": ""
            },
            "colorscale": [
             [
              0,
              "#0d0887"
             ],
             [
              0.1111111111111111,
              "#46039f"
             ],
             [
              0.2222222222222222,
              "#7201a8"
             ],
             [
              0.3333333333333333,
              "#9c179e"
             ],
             [
              0.4444444444444444,
              "#bd3786"
             ],
             [
              0.5555555555555556,
              "#d8576b"
             ],
             [
              0.6666666666666666,
              "#ed7953"
             ],
             [
              0.7777777777777778,
              "#fb9f3a"
             ],
             [
              0.8888888888888888,
              "#fdca26"
             ],
             [
              1,
              "#f0f921"
             ]
            ],
            "type": "histogram2d"
           }
          ],
          "histogram2dcontour": [
           {
            "colorbar": {
             "outlinewidth": 0,
             "ticks": ""
            },
            "colorscale": [
             [
              0,
              "#0d0887"
             ],
             [
              0.1111111111111111,
              "#46039f"
             ],
             [
              0.2222222222222222,
              "#7201a8"
             ],
             [
              0.3333333333333333,
              "#9c179e"
             ],
             [
              0.4444444444444444,
              "#bd3786"
             ],
             [
              0.5555555555555556,
              "#d8576b"
             ],
             [
              0.6666666666666666,
              "#ed7953"
             ],
             [
              0.7777777777777778,
              "#fb9f3a"
             ],
             [
              0.8888888888888888,
              "#fdca26"
             ],
             [
              1,
              "#f0f921"
             ]
            ],
            "type": "histogram2dcontour"
           }
          ],
          "mesh3d": [
           {
            "colorbar": {
             "outlinewidth": 0,
             "ticks": ""
            },
            "type": "mesh3d"
           }
          ],
          "parcoords": [
           {
            "line": {
             "colorbar": {
              "outlinewidth": 0,
              "ticks": ""
             }
            },
            "type": "parcoords"
           }
          ],
          "pie": [
           {
            "automargin": true,
            "type": "pie"
           }
          ],
          "scatter": [
           {
            "marker": {
             "colorbar": {
              "outlinewidth": 0,
              "ticks": ""
             }
            },
            "type": "scatter"
           }
          ],
          "scatter3d": [
           {
            "line": {
             "colorbar": {
              "outlinewidth": 0,
              "ticks": ""
             }
            },
            "marker": {
             "colorbar": {
              "outlinewidth": 0,
              "ticks": ""
             }
            },
            "type": "scatter3d"
           }
          ],
          "scattercarpet": [
           {
            "marker": {
             "colorbar": {
              "outlinewidth": 0,
              "ticks": ""
             }
            },
            "type": "scattercarpet"
           }
          ],
          "scattergeo": [
           {
            "marker": {
             "colorbar": {
              "outlinewidth": 0,
              "ticks": ""
             }
            },
            "type": "scattergeo"
           }
          ],
          "scattergl": [
           {
            "marker": {
             "colorbar": {
              "outlinewidth": 0,
              "ticks": ""
             }
            },
            "type": "scattergl"
           }
          ],
          "scattermapbox": [
           {
            "marker": {
             "colorbar": {
              "outlinewidth": 0,
              "ticks": ""
             }
            },
            "type": "scattermapbox"
           }
          ],
          "scatterpolar": [
           {
            "marker": {
             "colorbar": {
              "outlinewidth": 0,
              "ticks": ""
             }
            },
            "type": "scatterpolar"
           }
          ],
          "scatterpolargl": [
           {
            "marker": {
             "colorbar": {
              "outlinewidth": 0,
              "ticks": ""
             }
            },
            "type": "scatterpolargl"
           }
          ],
          "scatterternary": [
           {
            "marker": {
             "colorbar": {
              "outlinewidth": 0,
              "ticks": ""
             }
            },
            "type": "scatterternary"
           }
          ],
          "surface": [
           {
            "colorbar": {
             "outlinewidth": 0,
             "ticks": ""
            },
            "colorscale": [
             [
              0,
              "#0d0887"
             ],
             [
              0.1111111111111111,
              "#46039f"
             ],
             [
              0.2222222222222222,
              "#7201a8"
             ],
             [
              0.3333333333333333,
              "#9c179e"
             ],
             [
              0.4444444444444444,
              "#bd3786"
             ],
             [
              0.5555555555555556,
              "#d8576b"
             ],
             [
              0.6666666666666666,
              "#ed7953"
             ],
             [
              0.7777777777777778,
              "#fb9f3a"
             ],
             [
              0.8888888888888888,
              "#fdca26"
             ],
             [
              1,
              "#f0f921"
             ]
            ],
            "type": "surface"
           }
          ],
          "table": [
           {
            "cells": {
             "fill": {
              "color": "#EBF0F8"
             },
             "line": {
              "color": "white"
             }
            },
            "header": {
             "fill": {
              "color": "#C8D4E3"
             },
             "line": {
              "color": "white"
             }
            },
            "type": "table"
           }
          ]
         },
         "layout": {
          "annotationdefaults": {
           "arrowcolor": "#2a3f5f",
           "arrowhead": 0,
           "arrowwidth": 1
          },
          "autotypenumbers": "strict",
          "coloraxis": {
           "colorbar": {
            "outlinewidth": 0,
            "ticks": ""
           }
          },
          "colorscale": {
           "diverging": [
            [
             0,
             "#8e0152"
            ],
            [
             0.1,
             "#c51b7d"
            ],
            [
             0.2,
             "#de77ae"
            ],
            [
             0.3,
             "#f1b6da"
            ],
            [
             0.4,
             "#fde0ef"
            ],
            [
             0.5,
             "#f7f7f7"
            ],
            [
             0.6,
             "#e6f5d0"
            ],
            [
             0.7,
             "#b8e186"
            ],
            [
             0.8,
             "#7fbc41"
            ],
            [
             0.9,
             "#4d9221"
            ],
            [
             1,
             "#276419"
            ]
           ],
           "sequential": [
            [
             0,
             "#0d0887"
            ],
            [
             0.1111111111111111,
             "#46039f"
            ],
            [
             0.2222222222222222,
             "#7201a8"
            ],
            [
             0.3333333333333333,
             "#9c179e"
            ],
            [
             0.4444444444444444,
             "#bd3786"
            ],
            [
             0.5555555555555556,
             "#d8576b"
            ],
            [
             0.6666666666666666,
             "#ed7953"
            ],
            [
             0.7777777777777778,
             "#fb9f3a"
            ],
            [
             0.8888888888888888,
             "#fdca26"
            ],
            [
             1,
             "#f0f921"
            ]
           ],
           "sequentialminus": [
            [
             0,
             "#0d0887"
            ],
            [
             0.1111111111111111,
             "#46039f"
            ],
            [
             0.2222222222222222,
             "#7201a8"
            ],
            [
             0.3333333333333333,
             "#9c179e"
            ],
            [
             0.4444444444444444,
             "#bd3786"
            ],
            [
             0.5555555555555556,
             "#d8576b"
            ],
            [
             0.6666666666666666,
             "#ed7953"
            ],
            [
             0.7777777777777778,
             "#fb9f3a"
            ],
            [
             0.8888888888888888,
             "#fdca26"
            ],
            [
             1,
             "#f0f921"
            ]
           ]
          },
          "colorway": [
           "#636efa",
           "#EF553B",
           "#00cc96",
           "#ab63fa",
           "#FFA15A",
           "#19d3f3",
           "#FF6692",
           "#B6E880",
           "#FF97FF",
           "#FECB52"
          ],
          "font": {
           "color": "#2a3f5f"
          },
          "geo": {
           "bgcolor": "white",
           "lakecolor": "white",
           "landcolor": "#E5ECF6",
           "showlakes": true,
           "showland": true,
           "subunitcolor": "white"
          },
          "hoverlabel": {
           "align": "left"
          },
          "hovermode": "closest",
          "mapbox": {
           "style": "light"
          },
          "paper_bgcolor": "white",
          "plot_bgcolor": "#E5ECF6",
          "polar": {
           "angularaxis": {
            "gridcolor": "white",
            "linecolor": "white",
            "ticks": ""
           },
           "bgcolor": "#E5ECF6",
           "radialaxis": {
            "gridcolor": "white",
            "linecolor": "white",
            "ticks": ""
           }
          },
          "scene": {
           "xaxis": {
            "backgroundcolor": "#E5ECF6",
            "gridcolor": "white",
            "gridwidth": 2,
            "linecolor": "white",
            "showbackground": true,
            "ticks": "",
            "zerolinecolor": "white"
           },
           "yaxis": {
            "backgroundcolor": "#E5ECF6",
            "gridcolor": "white",
            "gridwidth": 2,
            "linecolor": "white",
            "showbackground": true,
            "ticks": "",
            "zerolinecolor": "white"
           },
           "zaxis": {
            "backgroundcolor": "#E5ECF6",
            "gridcolor": "white",
            "gridwidth": 2,
            "linecolor": "white",
            "showbackground": true,
            "ticks": "",
            "zerolinecolor": "white"
           }
          },
          "shapedefaults": {
           "line": {
            "color": "#2a3f5f"
           }
          },
          "ternary": {
           "aaxis": {
            "gridcolor": "white",
            "linecolor": "white",
            "ticks": ""
           },
           "baxis": {
            "gridcolor": "white",
            "linecolor": "white",
            "ticks": ""
           },
           "bgcolor": "#E5ECF6",
           "caxis": {
            "gridcolor": "white",
            "linecolor": "white",
            "ticks": ""
           }
          },
          "title": {
           "x": 0.05
          },
          "xaxis": {
           "automargin": true,
           "gridcolor": "white",
           "linecolor": "white",
           "ticks": "",
           "title": {
            "standoff": 15
           },
           "zerolinecolor": "white",
           "zerolinewidth": 2
          },
          "yaxis": {
           "automargin": true,
           "gridcolor": "white",
           "linecolor": "white",
           "ticks": "",
           "title": {
            "standoff": 15
           },
           "zerolinecolor": "white",
           "zerolinewidth": 2
          }
         }
        },
        "title": {
         "text": "Parallel Coordinate Plot"
        }
       }
      }
     },
     "metadata": {},
     "output_type": "display_data"
    }
   ],
   "source": [
    "optuna.visualization.plot_parallel_coordinate(study)"
   ]
  },
  {
   "cell_type": "code",
   "execution_count": 35,
   "id": "281574d0",
   "metadata": {},
   "outputs": [
    {
     "name": "stdout",
     "output_type": "stream",
     "text": [
      "Best trial: {'C': 1.6786154619762603, 'epsilon': 0.02369265989407749, 'kernel': 'rbf', 'degree': 3}\n"
     ]
    }
   ],
   "source": [
    "print(\"Best trial:\", study.best_trial.params)"
   ]
  },
  {
   "cell_type": "code",
   "execution_count": 36,
   "id": "3b45adad",
   "metadata": {},
   "outputs": [
    {
     "data": {
      "text/html": [
       "<style>#sk-container-id-2 {color: black;}#sk-container-id-2 pre{padding: 0;}#sk-container-id-2 div.sk-toggleable {background-color: white;}#sk-container-id-2 label.sk-toggleable__label {cursor: pointer;display: block;width: 100%;margin-bottom: 0;padding: 0.3em;box-sizing: border-box;text-align: center;}#sk-container-id-2 label.sk-toggleable__label-arrow:before {content: \"▸\";float: left;margin-right: 0.25em;color: #696969;}#sk-container-id-2 label.sk-toggleable__label-arrow:hover:before {color: black;}#sk-container-id-2 div.sk-estimator:hover label.sk-toggleable__label-arrow:before {color: black;}#sk-container-id-2 div.sk-toggleable__content {max-height: 0;max-width: 0;overflow: hidden;text-align: left;background-color: #f0f8ff;}#sk-container-id-2 div.sk-toggleable__content pre {margin: 0.2em;color: black;border-radius: 0.25em;background-color: #f0f8ff;}#sk-container-id-2 input.sk-toggleable__control:checked~div.sk-toggleable__content {max-height: 200px;max-width: 100%;overflow: auto;}#sk-container-id-2 input.sk-toggleable__control:checked~label.sk-toggleable__label-arrow:before {content: \"▾\";}#sk-container-id-2 div.sk-estimator input.sk-toggleable__control:checked~label.sk-toggleable__label {background-color: #d4ebff;}#sk-container-id-2 div.sk-label input.sk-toggleable__control:checked~label.sk-toggleable__label {background-color: #d4ebff;}#sk-container-id-2 input.sk-hidden--visually {border: 0;clip: rect(1px 1px 1px 1px);clip: rect(1px, 1px, 1px, 1px);height: 1px;margin: -1px;overflow: hidden;padding: 0;position: absolute;width: 1px;}#sk-container-id-2 div.sk-estimator {font-family: monospace;background-color: #f0f8ff;border: 1px dotted black;border-radius: 0.25em;box-sizing: border-box;margin-bottom: 0.5em;}#sk-container-id-2 div.sk-estimator:hover {background-color: #d4ebff;}#sk-container-id-2 div.sk-parallel-item::after {content: \"\";width: 100%;border-bottom: 1px solid gray;flex-grow: 1;}#sk-container-id-2 div.sk-label:hover label.sk-toggleable__label {background-color: #d4ebff;}#sk-container-id-2 div.sk-serial::before {content: \"\";position: absolute;border-left: 1px solid gray;box-sizing: border-box;top: 0;bottom: 0;left: 50%;z-index: 0;}#sk-container-id-2 div.sk-serial {display: flex;flex-direction: column;align-items: center;background-color: white;padding-right: 0.2em;padding-left: 0.2em;position: relative;}#sk-container-id-2 div.sk-item {position: relative;z-index: 1;}#sk-container-id-2 div.sk-parallel {display: flex;align-items: stretch;justify-content: center;background-color: white;position: relative;}#sk-container-id-2 div.sk-item::before, #sk-container-id-2 div.sk-parallel-item::before {content: \"\";position: absolute;border-left: 1px solid gray;box-sizing: border-box;top: 0;bottom: 0;left: 50%;z-index: -1;}#sk-container-id-2 div.sk-parallel-item {display: flex;flex-direction: column;z-index: 1;position: relative;background-color: white;}#sk-container-id-2 div.sk-parallel-item:first-child::after {align-self: flex-end;width: 50%;}#sk-container-id-2 div.sk-parallel-item:last-child::after {align-self: flex-start;width: 50%;}#sk-container-id-2 div.sk-parallel-item:only-child::after {width: 0;}#sk-container-id-2 div.sk-dashed-wrapped {border: 1px dashed gray;margin: 0 0.4em 0.5em 0.4em;box-sizing: border-box;padding-bottom: 0.4em;background-color: white;}#sk-container-id-2 div.sk-label label {font-family: monospace;font-weight: bold;display: inline-block;line-height: 1.2em;}#sk-container-id-2 div.sk-label-container {text-align: center;}#sk-container-id-2 div.sk-container {/* jupyter's `normalize.less` sets `[hidden] { display: none; }` but bootstrap.min.css set `[hidden] { display: none !important; }` so we also need the `!important` here to be able to override the default hidden behavior on the sphinx rendered scikit-learn.org. See: https://github.com/scikit-learn/scikit-learn/issues/21755 */display: inline-block !important;position: relative;}#sk-container-id-2 div.sk-text-repr-fallback {display: none;}</style><div id=\"sk-container-id-2\" class=\"sk-top-container\"><div class=\"sk-text-repr-fallback\"><pre>SVR(C=1.6786154619762603, epsilon=0.02369265989407749)</pre><b>In a Jupyter environment, please rerun this cell to show the HTML representation or trust the notebook. <br />On GitHub, the HTML representation is unable to render, please try loading this page with nbviewer.org.</b></div><div class=\"sk-container\" hidden><div class=\"sk-item\"><div class=\"sk-estimator sk-toggleable\"><input class=\"sk-toggleable__control sk-hidden--visually\" id=\"sk-estimator-id-2\" type=\"checkbox\" checked><label for=\"sk-estimator-id-2\" class=\"sk-toggleable__label sk-toggleable__label-arrow\">SVR</label><div class=\"sk-toggleable__content\"><pre>SVR(C=1.6786154619762603, epsilon=0.02369265989407749)</pre></div></div></div></div></div>"
      ],
      "text/plain": [
       "SVR(C=1.6786154619762603, epsilon=0.02369265989407749)"
      ]
     },
     "execution_count": 36,
     "metadata": {},
     "output_type": "execute_result"
    }
   ],
   "source": [
    "svm_params = {\n",
    "    \"C\": study.best_trial.params[\"C\"],\n",
    "    \"epsilon\": study.best_trial.params[\"epsilon\"],\n",
    "    \"kernel\": study.best_trial.params[\"kernel\"],\n",
    "    \"degree\": study.best_trial.params[\"degree\"]\n",
    "}\n",
    "\n",
    "svm = SVR(**svm_params)\n",
    "svm.fit(Cd_X_train, Cd_y_train)"
   ]
  },
  {
   "cell_type": "code",
   "execution_count": 37,
   "id": "9ab1055b",
   "metadata": {},
   "outputs": [],
   "source": [
    "y_train_pred = svm.predict(Cd_X_train)\n",
    "y_test_pred = svm.predict(Cd_X_test)"
   ]
  },
  {
   "cell_type": "code",
   "execution_count": 38,
   "id": "425b4001",
   "metadata": {},
   "outputs": [
    {
     "name": "stdout",
     "output_type": "stream",
     "text": [
      "Train RMSE:  0.11569694632080885\n",
      "Test RMSE:  0.14462997025406332\n"
     ]
    }
   ],
   "source": [
    "print(\"Train RMSE: \", np.sqrt(mean_squared_error(Cd_y_train, y_train_pred)))\n",
    "print(\"Test RMSE: \", np.sqrt(mean_squared_error(Cd_y_test, y_test_pred)))"
   ]
  },
  {
   "cell_type": "code",
   "execution_count": 39,
   "id": "0f95ae3c",
   "metadata": {},
   "outputs": [
    {
     "name": "stdout",
     "output_type": "stream",
     "text": [
      "Train R2:  0.7167950440098796\n",
      "Test R2:  0.5738292070813077\n"
     ]
    }
   ],
   "source": [
    "print(\"Train R2: \", r2_score(Cd_y_train, y_train_pred))\n",
    "print(\"Test R2: \", r2_score(Cd_y_test, y_test_pred))"
   ]
  },
  {
   "cell_type": "code",
   "execution_count": 40,
   "id": "a2ac1a1f",
   "metadata": {},
   "outputs": [
    {
     "data": {
      "image/png": "[encoded data removed]",
      "text/plain": [
       "<Figure size 640x480 with 1 Axes>"
      ]
     },
     "metadata": {},
     "output_type": "display_data"
    }
   ],
   "source": [
    "plt.scatter(y_train_pred, np.array(Cd_y_train), color=\"orange\", alpha=0.3)\n",
    "plt.scatter(y_test_pred, np.array(Cd_y_test), color=\"green\", alpha=0.4)\n",
    "plt.axis(\"auto\") # scaled, tight, auto, image, square\n",
    "# plt.xlim([0, 1.5]) \n",
    "# plt.ylim(0, None) \n",
    "plt.xlabel('Predicted Values')\n",
    "plt.ylabel('Actual Values')\n",
    "\n",
    "# Add y=x line\n",
    "plt.plot([0, 0.5], [0, 0.5], color='red', linestyle='-')\n",
    "\n",
    "plt.show()"
   ]
  },
  {
   "attachments": {},
   "cell_type": "markdown",
   "id": "74f680ea",
   "metadata": {},
   "source": [
    "Ni"
   ]
  },
  {
   "cell_type": "code",
   "execution_count": 41,
   "id": "de233338",
   "metadata": {},
   "outputs": [
    {
     "name": "stderr",
     "output_type": "stream",
     "text": [
      "\u001b[32m[I 2023-08-23 21:40:33,113]\u001b[0m A new study created in memory with name: svm_parameter_opt\u001b[0m\n",
      "\u001b[32m[I 2023-08-23 21:40:33,385]\u001b[0m Trial 0 finished with value: 0.07018361112216458 and parameters: {'C': 2.065331414125709, 'epsilon': 0.710671270238858, 'kernel': 'poly', 'degree': 4}. Best is trial 0 with value: 0.07018361112216458.\u001b[0m\n",
      "\u001b[32m[I 2023-08-23 21:40:34,531]\u001b[0m Trial 1 finished with value: 0.5617752886244796 and parameters: {'C': 24.9774186636758, 'epsilon': 0.065609017579832, 'kernel': 'rbf', 'degree': 2}. Best is trial 1 with value: 0.5617752886244796.\u001b[0m\n",
      "\u001b[32m[I 2023-08-23 21:40:36,582]\u001b[0m Trial 2 finished with value: 0.5309498703478636 and parameters: {'C': 76.98072031171732, 'epsilon': 0.09380293941046917, 'kernel': 'rbf', 'degree': 2}. Best is trial 1 with value: 0.5617752886244796.\u001b[0m\n",
      "\u001b[32m[I 2023-08-23 21:40:37,863]\u001b[0m Trial 3 finished with value: 0.5586869867117722 and parameters: {'C': 21.757053849081295, 'epsilon': 0.014808116281341101, 'kernel': 'rbf', 'degree': 2}. Best is trial 1 with value: 0.5617752886244796.\u001b[0m\n",
      "\u001b[32m[I 2023-08-23 21:40:38,420]\u001b[0m Trial 4 finished with value: 0.36649167866781684 and parameters: {'C': 0.25453491972653636, 'epsilon': 0.0469923603970401, 'kernel': 'rbf', 'degree': 1}. Best is trial 1 with value: 0.5617752886244796.\u001b[0m\n",
      "\u001b[32m[I 2023-08-23 21:40:38,908]\u001b[0m Trial 5 finished with value: -1.210615049276597 and parameters: {'C': 0.38942835588762187, 'epsilon': 0.047113399181171786, 'kernel': 'poly', 'degree': 5}. Best is trial 1 with value: 0.5617752886244796.\u001b[0m\n",
      "\u001b[32m[I 2023-08-23 21:40:46,185]\u001b[0m Trial 6 finished with value: 0.12825904879531422 and parameters: {'C': 26.438823518221234, 'epsilon': 0.03938468524409731, 'kernel': 'linear', 'degree': 3}. Best is trial 1 with value: 0.5617752886244796.\u001b[0m\n",
      "\u001b[32m[I 2023-08-23 21:40:47,170]\u001b[0m Trial 7 finished with value: 0.5655689354242517 and parameters: {'C': 16.57552231536556, 'epsilon': 0.04303084559841888, 'kernel': 'rbf', 'degree': 2}. Best is trial 7 with value: 0.5655689354242517.\u001b[0m\n",
      "\u001b[32m[I 2023-08-23 21:40:48,896]\u001b[0m Trial 8 finished with value: 0.11861243251442075 and parameters: {'C': 4.22511292324047, 'epsilon': 0.09524399548475379, 'kernel': 'linear', 'degree': 5}. Best is trial 7 with value: 0.5655689354242517.\u001b[0m\n",
      "\u001b[32m[I 2023-08-23 21:40:49,468]\u001b[0m Trial 9 finished with value: 0.16603460366656925 and parameters: {'C': 0.7525945037980933, 'epsilon': 0.35175027990184315, 'kernel': 'linear', 'degree': 5}. Best is trial 7 with value: 0.5655689354242517.\u001b[0m\n",
      "\u001b[32m[I 2023-08-23 21:40:50,191]\u001b[0m Trial 10 finished with value: 0.5356967500934182 and parameters: {'C': 4.022760064662704, 'epsilon': 0.01253789439148056, 'kernel': 'rbf', 'degree': 1}. Best is trial 7 with value: 0.5655689354242517.\u001b[0m\n",
      "\u001b[32m[I 2023-08-23 21:40:50,759]\u001b[0m Trial 11 finished with value: 0.5755047242905453 and parameters: {'C': 16.236295019423004, 'epsilon': 0.2594696688167013, 'kernel': 'rbf', 'degree': 2}. Best is trial 11 with value: 0.5755047242905453.\u001b[0m\n",
      "\u001b[32m[I 2023-08-23 21:40:51,262]\u001b[0m Trial 12 finished with value: 0.5749542767993975 and parameters: {'C': 11.252184042908821, 'epsilon': 0.278529927728863, 'kernel': 'rbf', 'degree': 3}. Best is trial 11 with value: 0.5755047242905453.\u001b[0m\n",
      "\u001b[32m[I 2023-08-23 21:40:51,748]\u001b[0m Trial 13 finished with value: 0.5675706863254073 and parameters: {'C': 8.842578949966963, 'epsilon': 0.26754632400176404, 'kernel': 'rbf', 'degree': 3}. Best is trial 11 with value: 0.5755047242905453.\u001b[0m\n",
      "\u001b[32m[I 2023-08-23 21:40:58,020]\u001b[0m Trial 14 finished with value: -20.212698347915218 and parameters: {'C': 95.32701756341015, 'epsilon': 0.21902599007782314, 'kernel': 'poly', 'degree': 4}. Best is trial 11 with value: 0.5755047242905453.\u001b[0m\n",
      "\u001b[32m[I 2023-08-23 21:40:58,305]\u001b[0m Trial 15 finished with value: 0.484595438264814 and parameters: {'C': 1.5064002965070549, 'epsilon': 0.654691339248428, 'kernel': 'rbf', 'degree': 3}. Best is trial 11 with value: 0.5755047242905453.\u001b[0m\n",
      "\u001b[32m[I 2023-08-23 21:40:58,837]\u001b[0m Trial 16 finished with value: 0.5635248121768323 and parameters: {'C': 8.690137268919262, 'epsilon': 0.1993115888256772, 'kernel': 'rbf', 'degree': 4}. Best is trial 11 with value: 0.5755047242905453.\u001b[0m\n",
      "\u001b[32m[I 2023-08-23 21:40:59,464]\u001b[0m Trial 17 finished with value: 0.5639732714683745 and parameters: {'C': 44.51363063128184, 'epsilon': 0.4084169430787378, 'kernel': 'rbf', 'degree': 1}. Best is trial 11 with value: 0.5755047242905453.\u001b[0m\n",
      "\u001b[32m[I 2023-08-23 21:40:59,768]\u001b[0m Trial 18 finished with value: 0.038681575876787756 and parameters: {'C': 0.11864058894785334, 'epsilon': 0.17797817476859099, 'kernel': 'poly', 'degree': 2}. Best is trial 11 with value: 0.5755047242905453.\u001b[0m\n",
      "\u001b[32m[I 2023-08-23 21:41:01,456]\u001b[0m Trial 19 finished with value: 0.19927134363007926 and parameters: {'C': 7.767399214411231, 'epsilon': 0.8937171059528466, 'kernel': 'linear', 'degree': 3}. Best is trial 11 with value: 0.5755047242905453.\u001b[0m\n",
      "\u001b[32m[I 2023-08-23 21:41:02,140]\u001b[0m Trial 20 finished with value: 0.5697829688188809 and parameters: {'C': 12.514458793672457, 'epsilon': 0.13725218562502145, 'kernel': 'rbf', 'degree': 4}. Best is trial 11 with value: 0.5755047242905453.\u001b[0m\n",
      "\u001b[32m[I 2023-08-23 21:41:02,799]\u001b[0m Trial 21 finished with value: 0.5699456436005581 and parameters: {'C': 11.866283536600523, 'epsilon': 0.15390623212951546, 'kernel': 'rbf', 'degree': 4}. Best is trial 11 with value: 0.5755047242905453.\u001b[0m\n",
      "\u001b[32m[I 2023-08-23 21:41:03,396]\u001b[0m Trial 22 finished with value: 0.5649112609330127 and parameters: {'C': 43.100762661326726, 'epsilon': 0.4482984156551424, 'kernel': 'rbf', 'degree': 4}. Best is trial 11 with value: 0.5755047242905453.\u001b[0m\n",
      "\u001b[32m[I 2023-08-23 21:41:03,955]\u001b[0m Trial 23 finished with value: 0.5479756787954885 and parameters: {'C': 4.918009043653622, 'epsilon': 0.12860201147276726, 'kernel': 'rbf', 'degree': 3}. Best is trial 11 with value: 0.5755047242905453.\u001b[0m\n",
      "\u001b[32m[I 2023-08-23 21:41:04,692]\u001b[0m Trial 24 finished with value: 0.5654865662846076 and parameters: {'C': 42.08453282052565, 'epsilon': 0.32399860750848525, 'kernel': 'rbf', 'degree': 3}. Best is trial 11 with value: 0.5755047242905453.\u001b[0m\n",
      "\u001b[32m[I 2023-08-23 21:41:05,011]\u001b[0m Trial 25 finished with value: 0.5169956683282082 and parameters: {'C': 2.2901993913767504, 'epsilon': 0.5210002923762732, 'kernel': 'rbf', 'degree': 2}. Best is trial 11 with value: 0.5755047242905453.\u001b[0m\n",
      "\u001b[32m[I 2023-08-23 21:41:05,703]\u001b[0m Trial 26 finished with value: 0.5700128642610395 and parameters: {'C': 12.738172806048299, 'epsilon': 0.13855747129727608, 'kernel': 'rbf', 'degree': 4}. Best is trial 11 with value: 0.5755047242905453.\u001b[0m\n",
      "\u001b[32m[I 2023-08-23 21:41:06,514]\u001b[0m Trial 27 finished with value: 0.5517354696325156 and parameters: {'C': 7.14984766311605, 'epsilon': 0.02239035873698311, 'kernel': 'rbf', 'degree': 3}. Best is trial 11 with value: 0.5755047242905453.\u001b[0m\n",
      "\u001b[32m[I 2023-08-23 21:41:07,222]\u001b[0m Trial 28 finished with value: 0.15743995063138655 and parameters: {'C': 1.0429936058415161, 'epsilon': 0.2738344159078523, 'kernel': 'linear', 'degree': 2}. Best is trial 11 with value: 0.5755047242905453.\u001b[0m\n",
      "\u001b[32m[I 2023-08-23 21:41:07,883]\u001b[0m Trial 29 finished with value: 0.006757624944894647 and parameters: {'C': 2.700143239538435, 'epsilon': 0.07440323843180272, 'kernel': 'poly', 'degree': 4}. Best is trial 11 with value: 0.5755047242905453.\u001b[0m\n",
      "\u001b[32m[I 2023-08-23 21:41:08,440]\u001b[0m Trial 30 finished with value: -57.112448508392916 and parameters: {'C': 16.678869842939367, 'epsilon': 0.5566286313116319, 'kernel': 'poly', 'degree': 5}. Best is trial 11 with value: 0.5755047242905453.\u001b[0m\n",
      "\u001b[32m[I 2023-08-23 21:41:08,979]\u001b[0m Trial 31 finished with value: 0.5522943174841617 and parameters: {'C': 5.689169091195852, 'epsilon': 0.14917387998493706, 'kernel': 'rbf', 'degree': 4}. Best is trial 11 with value: 0.5755047242905453.\u001b[0m\n",
      "\u001b[32m[I 2023-08-23 21:41:09,553]\u001b[0m Trial 32 finished with value: 0.574443116039832 and parameters: {'C': 13.76943741901114, 'epsilon': 0.22816982520015108, 'kernel': 'rbf', 'degree': 4}. Best is trial 11 with value: 0.5755047242905453.\u001b[0m\n",
      "\u001b[32m[I 2023-08-23 21:41:10,299]\u001b[0m Trial 33 finished with value: 0.567273654689599 and parameters: {'C': 27.6483984346319, 'epsilon': 0.2272762621881981, 'kernel': 'rbf', 'degree': 4}. Best is trial 11 with value: 0.5755047242905453.\u001b[0m\n",
      "\u001b[32m[I 2023-08-23 21:41:11,051]\u001b[0m Trial 34 finished with value: 0.5690594153043198 and parameters: {'C': 12.86295956593498, 'epsilon': 0.11136828922617004, 'kernel': 'rbf', 'degree': 3}. Best is trial 11 with value: 0.5755047242905453.\u001b[0m\n",
      "\u001b[32m[I 2023-08-23 21:41:12,925]\u001b[0m Trial 35 finished with value: 0.536935301926419 and parameters: {'C': 64.12935529605966, 'epsilon': 0.07912897553597281, 'kernel': 'rbf', 'degree': 5}. Best is trial 11 with value: 0.5755047242905453.\u001b[0m\n",
      "\u001b[32m[I 2023-08-23 21:41:13,501]\u001b[0m Trial 36 finished with value: 0.575348701301054 and parameters: {'C': 18.83297407604616, 'epsilon': 0.28819692993917256, 'kernel': 'rbf', 'degree': 2}. Best is trial 11 with value: 0.5755047242905453.\u001b[0m\n",
      "\u001b[32m[I 2023-08-23 21:41:14,104]\u001b[0m Trial 37 finished with value: 0.571792819248863 and parameters: {'C': 23.705155223145745, 'epsilon': 0.3031342655031295, 'kernel': 'rbf', 'degree': 2}. Best is trial 11 with value: 0.5755047242905453.\u001b[0m\n",
      "\u001b[32m[I 2023-08-23 21:41:14,666]\u001b[0m Trial 38 finished with value: 0.5709599945983141 and parameters: {'C': 32.64946043974798, 'epsilon': 0.40718213152121924, 'kernel': 'rbf', 'degree': 1}. Best is trial 11 with value: 0.5755047242905453.\u001b[0m\n",
      "\u001b[32m[I 2023-08-23 21:41:14,966]\u001b[0m Trial 39 finished with value: 0.5373793420010775 and parameters: {'C': 15.797238575801575, 'epsilon': 0.7928591827617181, 'kernel': 'rbf', 'degree': 2}. Best is trial 11 with value: 0.5755047242905453.\u001b[0m\n",
      "\u001b[32m[I 2023-08-23 21:41:27,927]\u001b[0m Trial 40 finished with value: 0.1559002013363588 and parameters: {'C': 56.405731663404126, 'epsilon': 0.2346728319587666, 'kernel': 'linear', 'degree': 2}. Best is trial 11 with value: 0.5755047242905453.\u001b[0m\n",
      "\u001b[32m[I 2023-08-23 21:41:28,512]\u001b[0m Trial 41 finished with value: 0.5740157638709513 and parameters: {'C': 20.030963979811613, 'epsilon': 0.315533234113778, 'kernel': 'rbf', 'degree': 2}. Best is trial 11 with value: 0.5755047242905453.\u001b[0m\n",
      "\u001b[32m[I 2023-08-23 21:41:29,271]\u001b[0m Trial 42 finished with value: 0.5681703317316498 and parameters: {'C': 22.77313237021929, 'epsilon': 0.18073110502047474, 'kernel': 'rbf', 'degree': 1}. Best is trial 11 with value: 0.5755047242905453.\u001b[0m\n",
      "\u001b[32m[I 2023-08-23 21:41:29,790]\u001b[0m Trial 43 finished with value: 0.5753109405403718 and parameters: {'C': 18.85096278542786, 'epsilon': 0.3616433817611284, 'kernel': 'rbf', 'degree': 2}. Best is trial 11 with value: 0.5755047242905453.\u001b[0m\n",
      "\u001b[32m[I 2023-08-23 21:41:30,192]\u001b[0m Trial 44 finished with value: 0.558450939000188 and parameters: {'C': 31.574364515559115, 'epsilon': 0.6484939984868873, 'kernel': 'rbf', 'degree': 2}. Best is trial 11 with value: 0.5755047242905453.\u001b[0m\n",
      "\u001b[32m[I 2023-08-23 21:41:30,574]\u001b[0m Trial 45 finished with value: 0.5597398507798937 and parameters: {'C': 5.968381645131426, 'epsilon': 0.37855655521720655, 'kernel': 'rbf', 'degree': 1}. Best is trial 11 with value: 0.5755047242905453.\u001b[0m\n",
      "\u001b[32m[I 2023-08-23 21:41:30,941]\u001b[0m Trial 46 finished with value: 0.2556057773046164 and parameters: {'C': 3.4504330652125548, 'epsilon': 0.525401692895761, 'kernel': 'poly', 'degree': 2}. Best is trial 11 with value: 0.5755047242905453.\u001b[0m\n",
      "\u001b[32m[I 2023-08-23 21:41:31,435]\u001b[0m Trial 47 finished with value: 0.5676380839667365 and parameters: {'C': 9.348081081864382, 'epsilon': 0.24937730742093886, 'kernel': 'rbf', 'degree': 3}. Best is trial 11 with value: 0.5755047242905453.\u001b[0m\n",
      "\u001b[32m[I 2023-08-23 21:41:32,143]\u001b[0m Trial 48 finished with value: 0.5719379770128284 and parameters: {'C': 18.672613520157554, 'epsilon': 0.17949895252880319, 'kernel': 'rbf', 'degree': 2}. Best is trial 11 with value: 0.5755047242905453.\u001b[0m\n",
      "\u001b[32m[I 2023-08-23 21:41:39,873]\u001b[0m Trial 49 finished with value: 0.19392115195502863 and parameters: {'C': 32.811551873382946, 'epsilon': 0.4681857391186592, 'kernel': 'linear', 'degree': 3}. Best is trial 11 with value: 0.5755047242905453.\u001b[0m\n",
      "\u001b[32m[I 2023-08-23 21:41:40,564]\u001b[0m Trial 50 finished with value: 0.5660946822513859 and parameters: {'C': 10.43009218311253, 'epsilon': 0.1102911915946134, 'kernel': 'rbf', 'degree': 3}. Best is trial 11 with value: 0.5755047242905453.\u001b[0m\n",
      "\u001b[32m[I 2023-08-23 21:41:41,082]\u001b[0m Trial 51 finished with value: 0.5753241038249528 and parameters: {'C': 18.62622496619323, 'epsilon': 0.3497550254721719, 'kernel': 'rbf', 'degree': 2}. Best is trial 11 with value: 0.5755047242905453.\u001b[0m\n",
      "\u001b[32m[I 2023-08-23 21:41:41,583]\u001b[0m Trial 52 finished with value: 0.5772996543810358 and parameters: {'C': 15.637368895255543, 'epsilon': 0.3261406395888819, 'kernel': 'rbf', 'degree': 2}. Best is trial 52 with value: 0.5772996543810358.\u001b[0m\n",
      "\u001b[32m[I 2023-08-23 21:41:42,096]\u001b[0m Trial 53 finished with value: 0.5752921688735128 and parameters: {'C': 18.869245682722465, 'epsilon': 0.36145091225897613, 'kernel': 'rbf', 'degree': 2}. Best is trial 52 with value: 0.5772996543810358.\u001b[0m\n",
      "\u001b[32m[I 2023-08-23 21:41:42,892]\u001b[0m Trial 54 finished with value: 0.5536826301181416 and parameters: {'C': 59.84856241064342, 'epsilon': 0.3600721603267646, 'kernel': 'rbf', 'degree': 2}. Best is trial 52 with value: 0.5772996543810358.\u001b[0m\n",
      "\u001b[32m[I 2023-08-23 21:41:43,271]\u001b[0m Trial 55 finished with value: 0.536141162644703 and parameters: {'C': 38.85792998461702, 'epsilon': 0.7527154414493598, 'kernel': 'rbf', 'degree': 1}. Best is trial 52 with value: 0.5772996543810358.\u001b[0m\n",
      "\u001b[32m[I 2023-08-23 21:41:43,657]\u001b[0m Trial 56 finished with value: 0.5723995788343927 and parameters: {'C': 19.11853439330697, 'epsilon': 0.5705027453858439, 'kernel': 'rbf', 'degree': 2}. Best is trial 52 with value: 0.5772996543810358.\u001b[0m\n",
      "\u001b[32m[I 2023-08-23 21:41:44,661]\u001b[0m Trial 57 finished with value: 0.5276765439733753 and parameters: {'C': 90.60060215191042, 'epsilon': 0.3476941388730691, 'kernel': 'rbf', 'degree': 2}. Best is trial 52 with value: 0.5772996543810358.\u001b[0m\n",
      "\u001b[32m[I 2023-08-23 21:41:46,097]\u001b[0m Trial 58 finished with value: -0.46308027194130286 and parameters: {'C': 25.50408527404801, 'epsilon': 0.423980122488764, 'kernel': 'poly', 'degree': 2}. Best is trial 52 with value: 0.5772996543810358.\u001b[0m\n",
      "\u001b[32m[I 2023-08-23 21:41:46,347]\u001b[0m Trial 59 finished with value: 0.49399167126634325 and parameters: {'C': 6.737178794286622, 'epsilon': 0.9195026702870007, 'kernel': 'rbf', 'degree': 1}. Best is trial 52 with value: 0.5772996543810358.\u001b[0m\n",
      "\u001b[32m[I 2023-08-23 21:41:49,118]\u001b[0m Trial 60 finished with value: 0.16479081433932347 and parameters: {'C': 9.391865752898324, 'epsilon': 0.2898696287206797, 'kernel': 'linear', 'degree': 2}. Best is trial 52 with value: 0.5772996543810358.\u001b[0m\n",
      "\u001b[32m[I 2023-08-23 21:41:49,733]\u001b[0m Trial 61 finished with value: 0.5733656347488697 and parameters: {'C': 13.732871455588155, 'epsilon': 0.20022069925048458, 'kernel': 'rbf', 'degree': 2}. Best is trial 52 with value: 0.5772996543810358.\u001b[0m\n",
      "\u001b[32m[I 2023-08-23 21:41:50,304]\u001b[0m Trial 62 finished with value: 0.5754599195253138 and parameters: {'C': 15.94463676577647, 'epsilon': 0.2592171159282068, 'kernel': 'rbf', 'degree': 2}. Best is trial 52 with value: 0.5772996543810358.\u001b[0m\n",
      "\u001b[32m[I 2023-08-23 21:41:50,714]\u001b[0m Trial 63 finished with value: 0.575661057180723 and parameters: {'C': 15.627515414740591, 'epsilon': 0.4719969021937338, 'kernel': 'rbf', 'degree': 2}. Best is trial 52 with value: 0.5772996543810358.\u001b[0m\n",
      "\u001b[32m[I 2023-08-23 21:41:51,035]\u001b[0m Trial 64 finished with value: 0.4451212850711535 and parameters: {'C': 0.5425172506888988, 'epsilon': 0.46761572301726806, 'kernel': 'rbf', 'degree': 2}. Best is trial 52 with value: 0.5772996543810358.\u001b[0m\n",
      "\u001b[32m[I 2023-08-23 21:41:52,060]\u001b[0m Trial 65 finished with value: 0.5645434169921849 and parameters: {'C': 16.153373320489, 'epsilon': 0.03373224643924278, 'kernel': 'rbf', 'degree': 2}. Best is trial 52 with value: 0.5772996543810358.\u001b[0m\n",
      "\u001b[32m[I 2023-08-23 21:41:52,556]\u001b[0m Trial 66 finished with value: 0.5512107066886831 and parameters: {'C': 50.93331917352075, 'epsilon': 0.6157240581284742, 'kernel': 'rbf', 'degree': 2}. Best is trial 52 with value: 0.5772996543810358.\u001b[0m\n",
      "\u001b[32m[I 2023-08-23 21:41:53,016]\u001b[0m Trial 67 finished with value: 0.5644043490172169 and parameters: {'C': 7.932001983376993, 'epsilon': 0.2709886291487517, 'kernel': 'rbf', 'degree': 2}. Best is trial 52 with value: 0.5772996543810358.\u001b[0m\n",
      "\u001b[32m[I 2023-08-23 21:41:53,352]\u001b[0m Trial 68 finished with value: 0.546860872210687 and parameters: {'C': 4.427375738424739, 'epsilon': 0.49063694426418397, 'kernel': 'rbf', 'degree': 1}. Best is trial 52 with value: 0.5772996543810358.\u001b[0m\n",
      "\u001b[32m[I 2023-08-23 21:41:53,814]\u001b[0m Trial 69 finished with value: 0.346142268924292 and parameters: {'C': 0.1863186607459868, 'epsilon': 0.16373234982918242, 'kernel': 'rbf', 'degree': 2}. Best is trial 52 with value: 0.5772996543810358.\u001b[0m\n",
      "\u001b[32m[I 2023-08-23 21:41:55,365]\u001b[0m Trial 70 finished with value: -0.6887190071842095 and parameters: {'C': 27.215733608911748, 'epsilon': 0.20327874486644376, 'kernel': 'poly', 'degree': 2}. Best is trial 52 with value: 0.5772996543810358.\u001b[0m\n",
      "\u001b[32m[I 2023-08-23 21:41:55,875]\u001b[0m Trial 71 finished with value: 0.5750772798699142 and parameters: {'C': 19.88266432477958, 'epsilon': 0.3750950792714636, 'kernel': 'rbf', 'degree': 2}. Best is trial 52 with value: 0.5772996543810358.\u001b[0m\n",
      "\u001b[32m[I 2023-08-23 21:41:56,350]\u001b[0m Trial 72 finished with value: 0.5772109113805663 and parameters: {'C': 11.229657788493684, 'epsilon': 0.3123416800989915, 'kernel': 'rbf', 'degree': 2}. Best is trial 52 with value: 0.5772996543810358.\u001b[0m\n",
      "\u001b[32m[I 2023-08-23 21:41:56,831]\u001b[0m Trial 73 finished with value: 0.5776961817697007 and parameters: {'C': 11.78212466309915, 'epsilon': 0.31393813066253995, 'kernel': 'rbf', 'degree': 2}. Best is trial 73 with value: 0.5776961817697007.\u001b[0m\n",
      "\u001b[32m[I 2023-08-23 21:41:57,312]\u001b[0m Trial 74 finished with value: 0.5754629598572661 and parameters: {'C': 10.719350398197673, 'epsilon': 0.29147693119110213, 'kernel': 'rbf', 'degree': 2}. Best is trial 73 with value: 0.5776961817697007.\u001b[0m\n",
      "\u001b[32m[I 2023-08-23 21:41:57,822]\u001b[0m Trial 75 finished with value: 0.5726432649053065 and parameters: {'C': 10.791752988795793, 'epsilon': 0.2580504923219597, 'kernel': 'rbf', 'degree': 1}. Best is trial 73 with value: 0.5776961817697007.\u001b[0m\n",
      "\u001b[32m[I 2023-08-23 21:41:58,313]\u001b[0m Trial 76 finished with value: 0.578114319498958 and parameters: {'C': 13.901533927301436, 'epsilon': 0.32419347651260405, 'kernel': 'rbf', 'degree': 2}. Best is trial 76 with value: 0.578114319498958.\u001b[0m\n",
      "\u001b[32m[I 2023-08-23 21:41:58,675]\u001b[0m Trial 77 finished with value: 0.5568507032486945 and parameters: {'C': 5.43322512343806, 'epsilon': 0.42658579418457726, 'kernel': 'rbf', 'degree': 3}. Best is trial 76 with value: 0.578114319498958.\u001b[0m\n",
      "\u001b[32m[I 2023-08-23 21:42:02,038]\u001b[0m Trial 78 finished with value: 0.16940579215685841 and parameters: {'C': 13.508069775689323, 'epsilon': 0.31260932024369215, 'kernel': 'linear', 'degree': 2}. Best is trial 76 with value: 0.578114319498958.\u001b[0m\n",
      "\u001b[32m[I 2023-08-23 21:42:02,530]\u001b[0m Trial 79 finished with value: 0.5599029093721561 and parameters: {'C': 7.203140638523072, 'epsilon': 0.21689702574040048, 'kernel': 'rbf', 'degree': 2}. Best is trial 76 with value: 0.578114319498958.\u001b[0m\n",
      "\u001b[32m[I 2023-08-23 21:42:02,996]\u001b[0m Trial 80 finished with value: 0.5773481100082636 and parameters: {'C': 11.008254633161291, 'epsilon': 0.3223520236580823, 'kernel': 'rbf', 'degree': 3}. Best is trial 76 with value: 0.578114319498958.\u001b[0m\n",
      "\u001b[32m[I 2023-08-23 21:42:03,525]\u001b[0m Trial 81 finished with value: 0.5715877607708907 and parameters: {'C': 10.921446095630255, 'epsilon': 0.24134008192659095, 'kernel': 'rbf', 'degree': 3}. Best is trial 76 with value: 0.578114319498958.\u001b[0m\n",
      "\u001b[32m[I 2023-08-23 21:42:04,057]\u001b[0m Trial 82 finished with value: 0.5773669972604184 and parameters: {'C': 14.366982162073196, 'epsilon': 0.3009775948281566, 'kernel': 'rbf', 'degree': 2}. Best is trial 76 with value: 0.578114319498958.\u001b[0m\n",
      "\u001b[32m[I 2023-08-23 21:42:04,500]\u001b[0m Trial 83 finished with value: 0.5718322892090478 and parameters: {'C': 8.585754536811171, 'epsilon': 0.32068695239289774, 'kernel': 'rbf', 'degree': 3}. Best is trial 76 with value: 0.578114319498958.\u001b[0m\n",
      "\u001b[32m[I 2023-08-23 21:42:04,939]\u001b[0m Trial 84 finished with value: 0.5769893233912012 and parameters: {'C': 14.776973179060183, 'epsilon': 0.4185015820637261, 'kernel': 'rbf', 'degree': 2}. Best is trial 76 with value: 0.578114319498958.\u001b[0m\n",
      "\u001b[32m[I 2023-08-23 21:42:05,319]\u001b[0m Trial 85 finished with value: 0.5749801352134487 and parameters: {'C': 14.277635351011535, 'epsilon': 0.5376225304438719, 'kernel': 'rbf', 'degree': 2}. Best is trial 76 with value: 0.578114319498958.\u001b[0m\n",
      "\u001b[32m[I 2023-08-23 21:42:05,675]\u001b[0m Trial 86 finished with value: 0.5592300854786629 and parameters: {'C': 23.027226885433404, 'epsilon': 0.6763129085478505, 'kernel': 'rbf', 'degree': 2}. Best is trial 76 with value: 0.578114319498958.\u001b[0m\n",
      "\u001b[32m[I 2023-08-23 21:42:06,102]\u001b[0m Trial 87 finished with value: 0.5779386824259811 and parameters: {'C': 12.322021085217795, 'epsilon': 0.40314938952590246, 'kernel': 'rbf', 'degree': 3}. Best is trial 76 with value: 0.578114319498958.\u001b[0m\n",
      "\u001b[32m[I 2023-08-23 21:42:06,473]\u001b[0m Trial 88 finished with value: 0.5623035509824991 and parameters: {'C': 6.1365349106980664, 'epsilon': 0.41100120287359343, 'kernel': 'rbf', 'degree': 3}. Best is trial 76 with value: 0.578114319498958.\u001b[0m\n",
      "\u001b[32m[I 2023-08-23 21:42:07,188]\u001b[0m Trial 89 finished with value: -4.030960387674278 and parameters: {'C': 9.059742532877017, 'epsilon': 0.4860279864715619, 'kernel': 'poly', 'degree': 3}. Best is trial 76 with value: 0.578114319498958.\u001b[0m\n",
      "\u001b[32m[I 2023-08-23 21:42:07,496]\u001b[0m Trial 90 finished with value: 0.5035598644295584 and parameters: {'C': 1.8035250753142376, 'epsilon': 0.5869112824509242, 'kernel': 'rbf', 'degree': 3}. Best is trial 76 with value: 0.578114319498958.\u001b[0m\n",
      "\u001b[32m[I 2023-08-23 21:42:07,926]\u001b[0m Trial 91 finished with value: 0.5779145192996107 and parameters: {'C': 12.336974597435407, 'epsilon': 0.4057068245404571, 'kernel': 'rbf', 'degree': 2}. Best is trial 76 with value: 0.578114319498958.\u001b[0m\n",
      "\u001b[32m[I 2023-08-23 21:42:08,358]\u001b[0m Trial 92 finished with value: 0.577426826617185 and parameters: {'C': 11.514151973207873, 'epsilon': 0.39755102687896116, 'kernel': 'rbf', 'degree': 2}. Best is trial 76 with value: 0.578114319498958.\u001b[0m\n",
      "\u001b[32m[I 2023-08-23 21:42:08,776]\u001b[0m Trial 93 finished with value: 0.5774882329983629 and parameters: {'C': 11.927982064965926, 'epsilon': 0.4169140913060159, 'kernel': 'rbf', 'degree': 2}. Best is trial 76 with value: 0.578114319498958.\u001b[0m\n",
      "\u001b[32m[I 2023-08-23 21:42:09,250]\u001b[0m Trial 94 finished with value: 0.5782765115086037 and parameters: {'C': 11.87401439445698, 'epsilon': 0.3265797473727567, 'kernel': 'rbf', 'degree': 3}. Best is trial 94 with value: 0.5782765115086037.\u001b[0m\n",
      "\u001b[32m[I 2023-08-23 21:42:09,686]\u001b[0m Trial 95 finished with value: 0.5779577385631389 and parameters: {'C': 12.429201947473858, 'epsilon': 0.3969784165969489, 'kernel': 'rbf', 'degree': 3}. Best is trial 94 with value: 0.5782765115086037.\u001b[0m\n",
      "\u001b[32m[I 2023-08-23 21:42:10,123]\u001b[0m Trial 96 finished with value: 0.5777166517021863 and parameters: {'C': 12.127557032955304, 'epsilon': 0.388356484927889, 'kernel': 'rbf', 'degree': 3}. Best is trial 94 with value: 0.5782765115086037.\u001b[0m\n",
      "\u001b[32m[I 2023-08-23 21:42:10,521]\u001b[0m Trial 97 finished with value: 0.5702441915607389 and parameters: {'C': 7.802509407765858, 'epsilon': 0.3754107848739743, 'kernel': 'rbf', 'degree': 3}. Best is trial 94 with value: 0.5782765115086037.\u001b[0m\n",
      "\u001b[32m[I 2023-08-23 21:42:12,210]\u001b[0m Trial 98 finished with value: 0.10998109685832551 and parameters: {'C': 3.874613600411128, 'epsilon': 0.05401564943308294, 'kernel': 'linear', 'degree': 3}. Best is trial 94 with value: 0.5782765115086037.\u001b[0m\n",
      "\u001b[32m[I 2023-08-23 21:42:12,593]\u001b[0m Trial 99 finished with value: 0.5751391544030614 and parameters: {'C': 12.436290678402457, 'epsilon': 0.5328389154035027, 'kernel': 'rbf', 'degree': 3}. Best is trial 94 with value: 0.5782765115086037.\u001b[0m\n"
     ]
    },
    {
     "name": "stdout",
     "output_type": "stream",
     "text": [
      "Best r2:  0.5782765115086037\n",
      "Best trial: {'C': 11.87401439445698, 'epsilon': 0.3265797473727567, 'kernel': 'rbf', 'degree': 3}\n"
     ]
    }
   ],
   "source": [
    "sampler = TPESampler()\n",
    "study = optuna.create_study(\n",
    "    study_name=\"svm_parameter_opt\",\n",
    "    direction=\"maximize\",\n",
    "    sampler=sampler,\n",
    ")\n",
    "\n",
    "study.optimize(lambda trial : objectiveSVM(trial, Ni_X_train, Ni_y_train), n_trials=100)\n",
    "print(\"Best r2: \", study.best_value)\n",
    "print(\"Best trial:\", study.best_trial.params)"
   ]
  },
  {
   "cell_type": "code",
   "execution_count": 42,
   "id": "d71c01fb",
   "metadata": {},
   "outputs": [
    {
     "data": {
      "application/vnd.plotly.v1+json": {
       "config": {
        "plotlyServerURL": "https://plot.ly"
       },
       "data": [
        {
         "dimensions": [
          {
           "label": "Objective Value",
           "range": [
            -57.112448508392916,
            0.5782765115086037
           ],
           "values": [
            0.07018361112216458,
            0.5617752886244796,
            0.5309498703478636,
            0.5586869867117722,
            0.36649167866781684,
            -1.210615049276597,
            0.12825904879531422,
            0.5655689354242517,
            0.11861243251442075,
            0.16603460366656925,
            0.5356967500934182,
            0.5755047242905453,
            0.5749542767993975,
            0.5675706863254073,
            -20.212698347915218,
            0.484595438264814,
            0.5635248121768323,
            0.5639732714683745,
            0.038681575876787756,
            0.19927134363007926,
            0.5697829688188809,
            0.5699456436005581,
            0.5649112609330127,
            0.5479756787954885,
            0.5654865662846076,
            0.5169956683282082,
            0.5700128642610395,
            0.5517354696325156,
            0.15743995063138655,
            0.006757624944894647,
            -57.112448508392916,
            0.5522943174841617,
            0.574443116039832,
            0.567273654689599,
            0.5690594153043198,
            0.536935301926419,
            0.575348701301054,
            0.571792819248863,
            0.5709599945983141,
            0.5373793420010775,
            0.1559002013363588,
            0.5740157638709513,
            0.5681703317316498,
            0.5753109405403718,
            0.558450939000188,
            0.5597398507798937,
            0.2556057773046164,
            0.5676380839667365,
            0.5719379770128284,
            0.19392115195502863,
            0.5660946822513859,
            0.5753241038249528,
            0.5772996543810358,
            0.5752921688735128,
            0.5536826301181416,
            0.536141162644703,
            0.5723995788343927,
            0.5276765439733753,
            -0.46308027194130286,
            0.49399167126634325,
            0.16479081433932347,
            0.5733656347488697,
            0.5754599195253138,
            0.575661057180723,
            0.4451212850711535,
            0.5645434169921849,
            0.5512107066886831,
            0.5644043490172169,
            0.546860872210687,
            0.346142268924292,
            -0.6887190071842095,
            0.5750772798699142,
            0.5772109113805663,
            0.5776961817697007,
            0.5754629598572661,
            0.5726432649053065,
            0.578114319498958,
            0.5568507032486945,
            0.16940579215685841,
            0.5599029093721561,
            0.5773481100082636,
            0.5715877607708907,
            0.5773669972604184,
            0.5718322892090478,
            0.5769893233912012,
            0.5749801352134487,
            0.5592300854786629,
            0.5779386824259811,
            0.5623035509824991,
            -4.030960387674278,
            0.5035598644295584,
            0.5779145192996107,
            0.577426826617185,
            0.5774882329983629,
            0.5782765115086037,
            0.5779577385631389,
            0.5777166517021863,
            0.5702441915607389,
            0.10998109685832551,
            0.5751391544030614
           ]
          },
          {
           "label": "C",
           "range": [
            -0.9257667060780562,
            1.979216005735726
           ],
           "ticktext": [
            "0.119",
            "1",
            "10",
            "95.3"
           ],
           "tickvals": [
            -0.9257667060780562,
            0,
            1,
            1.979216005735726
           ],
           "values": [
            0.31498975079988095,
            1.3975475534116744,
            1.8863819704886384,
            1.3376000866276074,
            -0.5942526282418761,
            -0.409572428889005,
            1.42224212589256,
            1.219467222452802,
            0.6258383206904081,
            -0.12343895765962444,
            0.6045241300854317,
            1.2104869340066309,
            1.051236826956198,
            0.9465789460533068,
            1.979216005735726,
            0.1779403924914583,
            0.9390266365940441,
            1.6484930177565198,
            -0.9257667060780562,
            0.8902756267922803,
            1.0974120726414902,
            1.074314721290316,
            1.6344849550023859,
            0.6917893230210905,
            1.6241225104451733,
            0.35987329491847553,
            1.1051071362284113,
            0.8542967886859915,
            0.018281645956484755,
            0.43138680360012355,
            1.2221666195868692,
            0.7550488418855388,
            1.1389161965524752,
            1.4416699793605479,
            1.1093409044573064,
            1.8070568738986652,
            1.2749189085893933,
            1.3748428034573357,
            1.5138760085827212,
            1.1985811770744028,
            1.7513232370208036,
            1.301701849994475,
            1.357422770515886,
            1.2753335360654532,
            1.499334618446265,
            0.775856586092499,
            0.5378736069656688,
            0.9707224706493259,
            1.271205108412178,
            1.5160267715048634,
            1.018288146819645,
            1.2701248440278106,
            1.194163681562819,
            1.2757545391485487,
            1.7770537229191516,
            1.5894796614155073,
            1.2814545966589255,
            1.9571310841048808,
            1.4066097518014398,
            0.8284780730082698,
            0.9727518761530967,
            1.1377613549302747,
            1.2026146300439664,
            1.1938899359564423,
            -0.2655864477837923,
            1.2082632301651652,
            1.7070019787831765,
            0.8993828141275132,
            0.646146380844887,
            -0.729743646160356,
            1.4348200453592543,
            1.2984745804646705,
            1.050366521815034,
            1.0712236135629039,
            1.0301684675371314,
            1.0330919962607108,
            1.1430627239524833,
            0.7350577002189485,
            1.130593295309434,
            0.857521894290537,
            1.041718466721547,
            1.0382801465896203,
            1.1573655525461506,
            0.9337784680203969,
            1.1695854850565865,
            1.1546562859384588,
            1.3622416400541373,
            1.0906819476148248,
            0.7879232092589198,
            0.9571158557187982,
            0.256122184910495,
            1.0912086704968766,
            1.0612319573312052,
            1.0765669774358682,
            1.074597571070539,
            1.0944432444151742,
            1.083773325684375,
            0.8922343009821426,
            0.5882283985645107,
            1.0946908644286368
           ]
          },
          {
           "label": "degree",
           "range": [
            1,
            5
           ],
           "values": [
            4,
            2,
            2,
            2,
            1,
            5,
            3,
            2,
            5,
            5,
            1,
            2,
            3,
            3,
            4,
            3,
            4,
            1,
            2,
            3,
            4,
            4,
            4,
            3,
            3,
            2,
            4,
            3,
            2,
            4,
            5,
            4,
            4,
            4,
            3,
            5,
            2,
            2,
            1,
            2,
            2,
            2,
            1,
            2,
            2,
            1,
            2,
            3,
            2,
            3,
            3,
            2,
            2,
            2,
            2,
            1,
            2,
            2,
            2,
            1,
            2,
            2,
            2,
            2,
            2,
            2,
            2,
            2,
            1,
            2,
            2,
            2,
            2,
            2,
            2,
            1,
            2,
            3,
            2,
            2,
            3,
            3,
            2,
            3,
            2,
            2,
            2,
            3,
            3,
            3,
            3,
            2,
            2,
            2,
            3,
            3,
            3,
            3,
            3,
            3
           ]
          },
          {
           "label": "epsilon",
           "range": [
            -1.9017753926076357,
            -0.03644700520869262
           ],
           "ticktext": [
            "0.0125",
            "0.1",
            "0.92"
           ],
           "tickvals": [
            -1.9017753926076357,
            -1,
            -0.03644700520869262
           ],
           "values": [
            -0.1483312410918761,
            -1.183036465258281,
            -1.0277835523485976,
            -1.8295001839265117,
            -1.3279727400874135,
            -1.3268555607507315,
            -1.4046726209906002,
            -1.366220119520073,
            -1.021162394235402,
            -0.45376554830749505,
            -1.9017753926076357,
            -0.5859134024992524,
            -0.5551281335272523,
            -0.5726010117116541,
            -0.6595043478189395,
            -0.18396340421546403,
            -0.7004674488322693,
            -0.38889624960919245,
            -0.7496332513917591,
            -0.04879992948855463,
            -0.8624807310503394,
            -0.8127437939134237,
            -0.34843279598463184,
            -0.8907522385292813,
            -0.4894568563140067,
            -0.28316203298192183,
            -0.8583700512191976,
            -1.6499389481251179,
            -0.5625119700092862,
            -1.128408161195335,
            -0.2544344586184847,
            -0.8263072142057515,
            -0.6417417903102727,
            -0.643445921683873,
            -0.9532384516630434,
            -1.101664456943463,
            -0.5403106498842019,
            -0.5183649693472426,
            -0.3902112885102049,
            -0.10080393951732353,
            -0.6295371857032639,
            -0.5009548911517444,
            -0.7429670960488454,
            -0.44171947828129027,
            -0.1880940387565989,
            -0.4218692290200562,
            -0.2795085322082984,
            -0.6031430685409256,
            -0.7459380814159576,
            -0.3295818189956479,
            -0.9574591711011434,
            -0.4562360366098211,
            -0.48659508144697483,
            -0.441950674808174,
            -0.443610455645812,
            -0.12336917461610152,
            -0.24374226131929175,
            -0.45880263021561485,
            -0.37265450401057965,
            -0.03644700520869262,
            -0.5377972857488059,
            -0.6984910262294858,
            -0.586336325688181,
            -0.3260608517146036,
            -0.33011089463415305,
            -1.471954735487935,
            -0.21061387692936342,
            -0.5670489320095694,
            -0.3092397531414824,
            -0.7858655052899827,
            -0.691908029477071,
            -0.42585863315470984,
            -0.5053700579434163,
            -0.5031559320520643,
            -0.5353958115837286,
            -0.5882953080239598,
            -0.4891957283619113,
            -0.36999361116969803,
            -0.5049980779161132,
            -0.6637464033264624,
            -0.4916695990350695,
            -0.6173705441751373,
            -0.5214658326608484,
            -0.4939187096039571,
            -0.3783028959019098,
            -0.269522539354499,
            -0.16985232326872857,
            -0.3945339935000806,
            -0.3861569070762432,
            -0.31333872246564076,
            -0.23142754177441105,
            -0.39178768681050297,
            -0.4006071204170587,
            -0.37995342587868464,
            -0.4860107512496169,
            -0.4012331048430751,
            -0.4107694384304376,
            -0.42549325503919116,
            -1.2674803979955316,
            -0.27340406437862996
           ]
          },
          {
           "label": "kernel",
           "range": [
            0,
            2
           ],
           "ticktext": [
            "poly",
            "rbf",
            "linear"
           ],
           "tickvals": [
            0,
            1,
            2
           ],
           "values": [
            0,
            1,
            1,
            1,
            1,
            0,
            2,
            1,
            2,
            2,
            1,
            1,
            1,
            1,
            0,
            1,
            1,
            1,
            0,
            2,
            1,
            1,
            1,
            1,
            1,
            1,
            1,
            1,
            2,
            0,
            0,
            1,
            1,
            1,
            1,
            1,
            1,
            1,
            1,
            1,
            2,
            1,
            1,
            1,
            1,
            1,
            0,
            1,
            1,
            2,
            1,
            1,
            1,
            1,
            1,
            1,
            1,
            1,
            0,
            1,
            2,
            1,
            1,
            1,
            1,
            1,
            1,
            1,
            1,
            1,
            0,
            1,
            1,
            1,
            1,
            1,
            1,
            1,
            2,
            1,
            1,
            1,
            1,
            1,
            1,
            1,
            1,
            1,
            1,
            0,
            1,
            1,
            1,
            1,
            1,
            1,
            1,
            1,
            2,
            1
           ]
          }
         ],
         "labelangle": 30,
         "labelside": "bottom",
         "line": {
          "color": [
           0.07018361112216458,
           0.5617752886244796,
           0.5309498703478636,
           0.5586869867117722,
           0.36649167866781684,
           -1.210615049276597,
           0.12825904879531422,
           0.5655689354242517,
           0.11861243251442075,
           0.16603460366656925,
           0.5356967500934182,
           0.5755047242905453,
           0.5749542767993975,
           0.5675706863254073,
           -20.212698347915218,
           0.484595438264814,
           0.5635248121768323,
           0.5639732714683745,
           0.038681575876787756,
           0.19927134363007926,
           0.5697829688188809,
           0.5699456436005581,
           0.5649112609330127,
           0.5479756787954885,
           0.5654865662846076,
           0.5169956683282082,
           0.5700128642610395,
           0.5517354696325156,
           0.15743995063138655,
           0.006757624944894647,
           -57.112448508392916,
           0.5522943174841617,
           0.574443116039832,
           0.567273654689599,
           0.5690594153043198,
           0.536935301926419,
           0.575348701301054,
           0.571792819248863,
           0.5709599945983141,
           0.5373793420010775,
           0.1559002013363588,
           0.5740157638709513,
           0.5681703317316498,
           0.5753109405403718,
           0.558450939000188,
           0.5597398507798937,
           0.2556057773046164,
           0.5676380839667365,
           0.5719379770128284,
           0.19392115195502863,
           0.5660946822513859,
           0.5753241038249528,
           0.5772996543810358,
           0.5752921688735128,
           0.5536826301181416,
           0.536141162644703,
           0.5723995788343927,
           0.5276765439733753,
           -0.46308027194130286,
           0.49399167126634325,
           0.16479081433932347,
           0.5733656347488697,
           0.5754599195253138,
           0.575661057180723,
           0.4451212850711535,
           0.5645434169921849,
           0.5512107066886831,
           0.5644043490172169,
           0.546860872210687,
           0.346142268924292,
           -0.6887190071842095,
           0.5750772798699142,
           0.5772109113805663,
           0.5776961817697007,
           0.5754629598572661,
           0.5726432649053065,
           0.578114319498958,
           0.5568507032486945,
           0.16940579215685841,
           0.5599029093721561,
           0.5773481100082636,
           0.5715877607708907,
           0.5773669972604184,
           0.5718322892090478,
           0.5769893233912012,
           0.5749801352134487,
           0.5592300854786629,
           0.5779386824259811,
           0.5623035509824991,
           -4.030960387674278,
           0.5035598644295584,
           0.5779145192996107,
           0.577426826617185,
           0.5774882329983629,
           0.5782765115086037,
           0.5779577385631389,
           0.5777166517021863,
           0.5702441915607389,
           0.10998109685832551,
           0.5751391544030614
          ],
          "colorbar": {
           "title": {
            "text": "Objective Value"
           }
          },
          "colorscale": [
           [
            0,
            "rgb(247,251,255)"
           ],
           [
            0.125,
            "rgb(222,235,247)"
           ],
           [
            0.25,
            "rgb(198,219,239)"
           ],
           [
            0.375,
            "rgb(158,202,225)"
           ],
           [
            0.5,
            "rgb(107,174,214)"
           ],
           [
            0.625,
            "rgb(66,146,198)"
           ],
           [
            0.75,
            "rgb(33,113,181)"
           ],
           [
            0.875,
            "rgb(8,81,156)"
           ],
           [
            1,
            "rgb(8,48,107)"
           ]
          ],
          "reversescale": false,
          "showscale": true
         },
         "type": "parcoords"
        }
       ],
       "layout": {
        "template": {
         "data": {
          "bar": [
           {
            "error_x": {
             "color": "#2a3f5f"
            },
            "error_y": {
             "color": "#2a3f5f"
            },
            "marker": {
             "line": {
              "color": "#E5ECF6",
              "width": 0.5
             },
             "pattern": {
              "fillmode": "overlay",
              "size": 10,
              "solidity": 0.2
             }
            },
            "type": "bar"
           }
          ],
          "barpolar": [
           {
            "marker": {
             "line": {
              "color": "#E5ECF6",
              "width": 0.5
             },
             "pattern": {
              "fillmode": "overlay",
              "size": 10,
              "solidity": 0.2
             }
            },
            "type": "barpolar"
           }
          ],
          "carpet": [
           {
            "aaxis": {
             "endlinecolor": "#2a3f5f",
             "gridcolor": "white",
             "linecolor": "white",
             "minorgridcolor": "white",
             "startlinecolor": "#2a3f5f"
            },
            "baxis": {
             "endlinecolor": "#2a3f5f",
             "gridcolor": "white",
             "linecolor": "white",
             "minorgridcolor": "white",
             "startlinecolor": "#2a3f5f"
            },
            "type": "carpet"
           }
          ],
          "choropleth": [
           {
            "colorbar": {
             "outlinewidth": 0,
             "ticks": ""
            },
            "type": "choropleth"
           }
          ],
          "contour": [
           {
            "colorbar": {
             "outlinewidth": 0,
             "ticks": ""
            },
            "colorscale": [
             [
              0,
              "#0d0887"
             ],
             [
              0.1111111111111111,
              "#46039f"
             ],
             [
              0.2222222222222222,
              "#7201a8"
             ],
             [
              0.3333333333333333,
              "#9c179e"
             ],
             [
              0.4444444444444444,
              "#bd3786"
             ],
             [
              0.5555555555555556,
              "#d8576b"
             ],
             [
              0.6666666666666666,
              "#ed7953"
             ],
             [
              0.7777777777777778,
              "#fb9f3a"
             ],
             [
              0.8888888888888888,
              "#fdca26"
             ],
             [
              1,
              "#f0f921"
             ]
            ],
            "type": "contour"
           }
          ],
          "contourcarpet": [
           {
            "colorbar": {
             "outlinewidth": 0,
             "ticks": ""
            },
            "type": "contourcarpet"
           }
          ],
          "heatmap": [
           {
            "colorbar": {
             "outlinewidth": 0,
             "ticks": ""
            },
            "colorscale": [
             [
              0,
              "#0d0887"
             ],
             [
              0.1111111111111111,
              "#46039f"
             ],
             [
              0.2222222222222222,
              "#7201a8"
             ],
             [
              0.3333333333333333,
              "#9c179e"
             ],
             [
              0.4444444444444444,
              "#bd3786"
             ],
             [
              0.5555555555555556,
              "#d8576b"
             ],
             [
              0.6666666666666666,
              "#ed7953"
             ],
             [
              0.7777777777777778,
              "#fb9f3a"
             ],
             [
              0.8888888888888888,
              "#fdca26"
             ],
             [
              1,
              "#f0f921"
             ]
            ],
            "type": "heatmap"
           }
          ],
          "heatmapgl": [
           {
            "colorbar": {
             "outlinewidth": 0,
             "ticks": ""
            },
            "colorscale": [
             [
              0,
              "#0d0887"
             ],
             [
              0.1111111111111111,
              "#46039f"
             ],
             [
              0.2222222222222222,
              "#7201a8"
             ],
             [
              0.3333333333333333,
              "#9c179e"
             ],
             [
              0.4444444444444444,
              "#bd3786"
             ],
             [
              0.5555555555555556,
              "#d8576b"
             ],
             [
              0.6666666666666666,
              "#ed7953"
             ],
             [
              0.7777777777777778,
              "#fb9f3a"
             ],
             [
              0.8888888888888888,
              "#fdca26"
             ],
             [
              1,
              "#f0f921"
             ]
            ],
            "type": "heatmapgl"
           }
          ],
          "histogram": [
           {
            "marker": {
             "pattern": {
              "fillmode": "overlay",
              "size": 10,
              "solidity": 0.2
             }
            },
            "type": "histogram"
           }
          ],
          "histogram2d": [
           {
            "colorbar": {
             "outlinewidth": 0,
             "ticks": ""
            },
            "colorscale": [
             [
              0,
              "#0d0887"
             ],
             [
              0.1111111111111111,
              "#46039f"
             ],
             [
              0.2222222222222222,
              "#7201a8"
             ],
             [
              0.3333333333333333,
              "#9c179e"
             ],
             [
              0.4444444444444444,
              "#bd3786"
             ],
             [
              0.5555555555555556,
              "#d8576b"
             ],
             [
              0.6666666666666666,
              "#ed7953"
             ],
             [
              0.7777777777777778,
              "#fb9f3a"
             ],
             [
              0.8888888888888888,
              "#fdca26"
             ],
             [
              1,
              "#f0f921"
             ]
            ],
            "type": "histogram2d"
           }
          ],
          "histogram2dcontour": [
           {
            "colorbar": {
             "outlinewidth": 0,
             "ticks": ""
            },
            "colorscale": [
             [
              0,
              "#0d0887"
             ],
             [
              0.1111111111111111,
              "#46039f"
             ],
             [
              0.2222222222222222,
              "#7201a8"
             ],
             [
              0.3333333333333333,
              "#9c179e"
             ],
             [
              0.4444444444444444,
              "#bd3786"
             ],
             [
              0.5555555555555556,
              "#d8576b"
             ],
             [
              0.6666666666666666,
              "#ed7953"
             ],
             [
              0.7777777777777778,
              "#fb9f3a"
             ],
             [
              0.8888888888888888,
              "#fdca26"
             ],
             [
              1,
              "#f0f921"
             ]
            ],
            "type": "histogram2dcontour"
           }
          ],
          "mesh3d": [
           {
            "colorbar": {
             "outlinewidth": 0,
             "ticks": ""
            },
            "type": "mesh3d"
           }
          ],
          "parcoords": [
           {
            "line": {
             "colorbar": {
              "outlinewidth": 0,
              "ticks": ""
             }
            },
            "type": "parcoords"
           }
          ],
          "pie": [
           {
            "automargin": true,
            "type": "pie"
           }
          ],
          "scatter": [
           {
            "marker": {
             "colorbar": {
              "outlinewidth": 0,
              "ticks": ""
             }
            },
            "type": "scatter"
           }
          ],
          "scatter3d": [
           {
            "line": {
             "colorbar": {
              "outlinewidth": 0,
              "ticks": ""
             }
            },
            "marker": {
             "colorbar": {
              "outlinewidth": 0,
              "ticks": ""
             }
            },
            "type": "scatter3d"
           }
          ],
          "scattercarpet": [
           {
            "marker": {
             "colorbar": {
              "outlinewidth": 0,
              "ticks": ""
             }
            },
            "type": "scattercarpet"
           }
          ],
          "scattergeo": [
           {
            "marker": {
             "colorbar": {
              "outlinewidth": 0,
              "ticks": ""
             }
            },
            "type": "scattergeo"
           }
          ],
          "scattergl": [
           {
            "marker": {
             "colorbar": {
              "outlinewidth": 0,
              "ticks": ""
             }
            },
            "type": "scattergl"
           }
          ],
          "scattermapbox": [
           {
            "marker": {
             "colorbar": {
              "outlinewidth": 0,
              "ticks": ""
             }
            },
            "type": "scattermapbox"
           }
          ],
          "scatterpolar": [
           {
            "marker": {
             "colorbar": {
              "outlinewidth": 0,
              "ticks": ""
             }
            },
            "type": "scatterpolar"
           }
          ],
          "scatterpolargl": [
           {
            "marker": {
             "colorbar": {
              "outlinewidth": 0,
              "ticks": ""
             }
            },
            "type": "scatterpolargl"
           }
          ],
          "scatterternary": [
           {
            "marker": {
             "colorbar": {
              "outlinewidth": 0,
              "ticks": ""
             }
            },
            "type": "scatterternary"
           }
          ],
          "surface": [
           {
            "colorbar": {
             "outlinewidth": 0,
             "ticks": ""
            },
            "colorscale": [
             [
              0,
              "#0d0887"
             ],
             [
              0.1111111111111111,
              "#46039f"
             ],
             [
              0.2222222222222222,
              "#7201a8"
             ],
             [
              0.3333333333333333,
              "#9c179e"
             ],
             [
              0.4444444444444444,
              "#bd3786"
             ],
             [
              0.5555555555555556,
              "#d8576b"
             ],
             [
              0.6666666666666666,
              "#ed7953"
             ],
             [
              0.7777777777777778,
              "#fb9f3a"
             ],
             [
              0.8888888888888888,
              "#fdca26"
             ],
             [
              1,
              "#f0f921"
             ]
            ],
            "type": "surface"
           }
          ],
          "table": [
           {
            "cells": {
             "fill": {
              "color": "#EBF0F8"
             },
             "line": {
              "color": "white"
             }
            },
            "header": {
             "fill": {
              "color": "#C8D4E3"
             },
             "line": {
              "color": "white"
             }
            },
            "type": "table"
           }
          ]
         },
         "layout": {
          "annotationdefaults": {
           "arrowcolor": "#2a3f5f",
           "arrowhead": 0,
           "arrowwidth": 1
          },
          "autotypenumbers": "strict",
          "coloraxis": {
           "colorbar": {
            "outlinewidth": 0,
            "ticks": ""
           }
          },
          "colorscale": {
           "diverging": [
            [
             0,
             "#8e0152"
            ],
            [
             0.1,
             "#c51b7d"
            ],
            [
             0.2,
             "#de77ae"
            ],
            [
             0.3,
             "#f1b6da"
            ],
            [
             0.4,
             "#fde0ef"
            ],
            [
             0.5,
             "#f7f7f7"
            ],
            [
             0.6,
             "#e6f5d0"
            ],
            [
             0.7,
             "#b8e186"
            ],
            [
             0.8,
             "#7fbc41"
            ],
            [
             0.9,
             "#4d9221"
            ],
            [
             1,
             "#276419"
            ]
           ],
           "sequential": [
            [
             0,
             "#0d0887"
            ],
            [
             0.1111111111111111,
             "#46039f"
            ],
            [
             0.2222222222222222,
             "#7201a8"
            ],
            [
             0.3333333333333333,
             "#9c179e"
            ],
            [
             0.4444444444444444,
             "#bd3786"
            ],
            [
             0.5555555555555556,
             "#d8576b"
            ],
            [
             0.6666666666666666,
             "#ed7953"
            ],
            [
             0.7777777777777778,
             "#fb9f3a"
            ],
            [
             0.8888888888888888,
             "#fdca26"
            ],
            [
             1,
             "#f0f921"
            ]
           ],
           "sequentialminus": [
            [
             0,
             "#0d0887"
            ],
            [
             0.1111111111111111,
             "#46039f"
            ],
            [
             0.2222222222222222,
             "#7201a8"
            ],
            [
             0.3333333333333333,
             "#9c179e"
            ],
            [
             0.4444444444444444,
             "#bd3786"
            ],
            [
             0.5555555555555556,
             "#d8576b"
            ],
            [
             0.6666666666666666,
             "#ed7953"
            ],
            [
             0.7777777777777778,
             "#fb9f3a"
            ],
            [
             0.8888888888888888,
             "#fdca26"
            ],
            [
             1,
             "#f0f921"
            ]
           ]
          },
          "colorway": [
           "#636efa",
           "#EF553B",
           "#00cc96",
           "#ab63fa",
           "#FFA15A",
           "#19d3f3",
           "#FF6692",
           "#B6E880",
           "#FF97FF",
           "#FECB52"
          ],
          "font": {
           "color": "#2a3f5f"
          },
          "geo": {
           "bgcolor": "white",
           "lakecolor": "white",
           "landcolor": "#E5ECF6",
           "showlakes": true,
           "showland": true,
           "subunitcolor": "white"
          },
          "hoverlabel": {
           "align": "left"
          },
          "hovermode": "closest",
          "mapbox": {
           "style": "light"
          },
          "paper_bgcolor": "white",
          "plot_bgcolor": "#E5ECF6",
          "polar": {
           "angularaxis": {
            "gridcolor": "white",
            "linecolor": "white",
            "ticks": ""
           },
           "bgcolor": "#E5ECF6",
           "radialaxis": {
            "gridcolor": "white",
            "linecolor": "white",
            "ticks": ""
           }
          },
          "scene": {
           "xaxis": {
            "backgroundcolor": "#E5ECF6",
            "gridcolor": "white",
            "gridwidth": 2,
            "linecolor": "white",
            "showbackground": true,
            "ticks": "",
            "zerolinecolor": "white"
           },
           "yaxis": {
            "backgroundcolor": "#E5ECF6",
            "gridcolor": "white",
            "gridwidth": 2,
            "linecolor": "white",
            "showbackground": true,
            "ticks": "",
            "zerolinecolor": "white"
           },
           "zaxis": {
            "backgroundcolor": "#E5ECF6",
            "gridcolor": "white",
            "gridwidth": 2,
            "linecolor": "white",
            "showbackground": true,
            "ticks": "",
            "zerolinecolor": "white"
           }
          },
          "shapedefaults": {
           "line": {
            "color": "#2a3f5f"
           }
          },
          "ternary": {
           "aaxis": {
            "gridcolor": "white",
            "linecolor": "white",
            "ticks": ""
           },
           "baxis": {
            "gridcolor": "white",
            "linecolor": "white",
            "ticks": ""
           },
           "bgcolor": "#E5ECF6",
           "caxis": {
            "gridcolor": "white",
            "linecolor": "white",
            "ticks": ""
           }
          },
          "title": {
           "x": 0.05
          },
          "xaxis": {
           "automargin": true,
           "gridcolor": "white",
           "linecolor": "white",
           "ticks": "",
           "title": {
            "standoff": 15
           },
           "zerolinecolor": "white",
           "zerolinewidth": 2
          },
          "yaxis": {
           "automargin": true,
           "gridcolor": "white",
           "linecolor": "white",
           "ticks": "",
           "title": {
            "standoff": 15
           },
           "zerolinecolor": "white",
           "zerolinewidth": 2
          }
         }
        },
        "title": {
         "text": "Parallel Coordinate Plot"
        }
       }
      }
     },
     "metadata": {},
     "output_type": "display_data"
    }
   ],
   "source": [
    "optuna.visualization.plot_parallel_coordinate(study)"
   ]
  },
  {
   "cell_type": "code",
   "execution_count": 43,
   "id": "1d419df8",
   "metadata": {},
   "outputs": [
    {
     "name": "stdout",
     "output_type": "stream",
     "text": [
      "Best trial: {'C': 11.87401439445698, 'epsilon': 0.3265797473727567, 'kernel': 'rbf', 'degree': 3}\n"
     ]
    }
   ],
   "source": [
    "print(\"Best trial:\", study.best_trial.params)"
   ]
  },
  {
   "cell_type": "code",
   "execution_count": 44,
   "id": "ffefef6c",
   "metadata": {},
   "outputs": [
    {
     "data": {
      "text/html": [
       "<style>#sk-container-id-3 {color: black;}#sk-container-id-3 pre{padding: 0;}#sk-container-id-3 div.sk-toggleable {background-color: white;}#sk-container-id-3 label.sk-toggleable__label {cursor: pointer;display: block;width: 100%;margin-bottom: 0;padding: 0.3em;box-sizing: border-box;text-align: center;}#sk-container-id-3 label.sk-toggleable__label-arrow:before {content: \"▸\";float: left;margin-right: 0.25em;color: #696969;}#sk-container-id-3 label.sk-toggleable__label-arrow:hover:before {color: black;}#sk-container-id-3 div.sk-estimator:hover label.sk-toggleable__label-arrow:before {color: black;}#sk-container-id-3 div.sk-toggleable__content {max-height: 0;max-width: 0;overflow: hidden;text-align: left;background-color: #f0f8ff;}#sk-container-id-3 div.sk-toggleable__content pre {margin: 0.2em;color: black;border-radius: 0.25em;background-color: #f0f8ff;}#sk-container-id-3 input.sk-toggleable__control:checked~div.sk-toggleable__content {max-height: 200px;max-width: 100%;overflow: auto;}#sk-container-id-3 input.sk-toggleable__control:checked~label.sk-toggleable__label-arrow:before {content: \"▾\";}#sk-container-id-3 div.sk-estimator input.sk-toggleable__control:checked~label.sk-toggleable__label {background-color: #d4ebff;}#sk-container-id-3 div.sk-label input.sk-toggleable__control:checked~label.sk-toggleable__label {background-color: #d4ebff;}#sk-container-id-3 input.sk-hidden--visually {border: 0;clip: rect(1px 1px 1px 1px);clip: rect(1px, 1px, 1px, 1px);height: 1px;margin: -1px;overflow: hidden;padding: 0;position: absolute;width: 1px;}#sk-container-id-3 div.sk-estimator {font-family: monospace;background-color: #f0f8ff;border: 1px dotted black;border-radius: 0.25em;box-sizing: border-box;margin-bottom: 0.5em;}#sk-container-id-3 div.sk-estimator:hover {background-color: #d4ebff;}#sk-container-id-3 div.sk-parallel-item::after {content: \"\";width: 100%;border-bottom: 1px solid gray;flex-grow: 1;}#sk-container-id-3 div.sk-label:hover label.sk-toggleable__label {background-color: #d4ebff;}#sk-container-id-3 div.sk-serial::before {content: \"\";position: absolute;border-left: 1px solid gray;box-sizing: border-box;top: 0;bottom: 0;left: 50%;z-index: 0;}#sk-container-id-3 div.sk-serial {display: flex;flex-direction: column;align-items: center;background-color: white;padding-right: 0.2em;padding-left: 0.2em;position: relative;}#sk-container-id-3 div.sk-item {position: relative;z-index: 1;}#sk-container-id-3 div.sk-parallel {display: flex;align-items: stretch;justify-content: center;background-color: white;position: relative;}#sk-container-id-3 div.sk-item::before, #sk-container-id-3 div.sk-parallel-item::before {content: \"\";position: absolute;border-left: 1px solid gray;box-sizing: border-box;top: 0;bottom: 0;left: 50%;z-index: -1;}#sk-container-id-3 div.sk-parallel-item {display: flex;flex-direction: column;z-index: 1;position: relative;background-color: white;}#sk-container-id-3 div.sk-parallel-item:first-child::after {align-self: flex-end;width: 50%;}#sk-container-id-3 div.sk-parallel-item:last-child::after {align-self: flex-start;width: 50%;}#sk-container-id-3 div.sk-parallel-item:only-child::after {width: 0;}#sk-container-id-3 div.sk-dashed-wrapped {border: 1px dashed gray;margin: 0 0.4em 0.5em 0.4em;box-sizing: border-box;padding-bottom: 0.4em;background-color: white;}#sk-container-id-3 div.sk-label label {font-family: monospace;font-weight: bold;display: inline-block;line-height: 1.2em;}#sk-container-id-3 div.sk-label-container {text-align: center;}#sk-container-id-3 div.sk-container {/* jupyter's `normalize.less` sets `[hidden] { display: none; }` but bootstrap.min.css set `[hidden] { display: none !important; }` so we also need the `!important` here to be able to override the default hidden behavior on the sphinx rendered scikit-learn.org. See: https://github.com/scikit-learn/scikit-learn/issues/21755 */display: inline-block !important;position: relative;}#sk-container-id-3 div.sk-text-repr-fallback {display: none;}</style><div id=\"sk-container-id-3\" class=\"sk-top-container\"><div class=\"sk-text-repr-fallback\"><pre>SVR(C=11.87401439445698, epsilon=0.3265797473727567)</pre><b>In a Jupyter environment, please rerun this cell to show the HTML representation or trust the notebook. <br />On GitHub, the HTML representation is unable to render, please try loading this page with nbviewer.org.</b></div><div class=\"sk-container\" hidden><div class=\"sk-item\"><div class=\"sk-estimator sk-toggleable\"><input class=\"sk-toggleable__control sk-hidden--visually\" id=\"sk-estimator-id-3\" type=\"checkbox\" checked><label for=\"sk-estimator-id-3\" class=\"sk-toggleable__label sk-toggleable__label-arrow\">SVR</label><div class=\"sk-toggleable__content\"><pre>SVR(C=11.87401439445698, epsilon=0.3265797473727567)</pre></div></div></div></div></div>"
      ],
      "text/plain": [
       "SVR(C=11.87401439445698, epsilon=0.3265797473727567)"
      ]
     },
     "execution_count": 44,
     "metadata": {},
     "output_type": "execute_result"
    }
   ],
   "source": [
    "svm_params = {\n",
    "    \"C\": study.best_trial.params[\"C\"],\n",
    "    \"epsilon\": study.best_trial.params[\"epsilon\"],\n",
    "    \"kernel\": study.best_trial.params[\"kernel\"],\n",
    "    \"degree\": study.best_trial.params[\"degree\"]\n",
    "}\n",
    "\n",
    "svm = SVR(**svm_params)\n",
    "svm.fit(Ni_X_train, Ni_y_train)"
   ]
  },
  {
   "cell_type": "code",
   "execution_count": 45,
   "id": "4c1a69d2",
   "metadata": {},
   "outputs": [],
   "source": [
    "y_train_pred = svm.predict(Ni_X_train)\n",
    "y_test_pred = svm.predict(Ni_X_test)"
   ]
  },
  {
   "cell_type": "code",
   "execution_count": 46,
   "id": "0f707a20",
   "metadata": {},
   "outputs": [
    {
     "name": "stdout",
     "output_type": "stream",
     "text": [
      "Train RMSE:  0.5927335756050003\n",
      "Test RMSE:  0.8448142139109631\n"
     ]
    }
   ],
   "source": [
    "print(\"Train RMSE: \", np.sqrt(mean_squared_error(Ni_y_train, y_train_pred)))\n",
    "print(\"Test RMSE: \", np.sqrt(mean_squared_error(Ni_y_test, y_test_pred)))"
   ]
  },
  {
   "cell_type": "code",
   "execution_count": 47,
   "id": "641d78f4",
   "metadata": {},
   "outputs": [
    {
     "name": "stdout",
     "output_type": "stream",
     "text": [
      "Train R2:  0.757882557315464\n",
      "Test R2:  0.5332576136530847\n"
     ]
    }
   ],
   "source": [
    "print(\"Train R2: \", r2_score(Ni_y_train, y_train_pred))\n",
    "print(\"Test R2: \", r2_score(Ni_y_test, y_test_pred))"
   ]
  },
  {
   "cell_type": "code",
   "execution_count": 48,
   "id": "badc2f1d",
   "metadata": {},
   "outputs": [
    {
     "data": {
      "image/png": "[encoded data removed]",
      "text/plain": [
       "<Figure size 640x480 with 1 Axes>"
      ]
     },
     "metadata": {},
     "output_type": "display_data"
    }
   ],
   "source": [
    "plt.scatter(y_train_pred, np.array(Ni_y_train), color=\"orange\", alpha=0.3)\n",
    "plt.scatter(y_test_pred, np.array(Ni_y_test), color=\"green\", alpha=0.4)\n",
    "plt.axis(\"auto\") # scaled, tight, auto, image, square\n",
    "# plt.xlim([0, 1.5]) \n",
    "# plt.ylim(0, None) \n",
    "plt.xlabel('Predicted Values')\n",
    "plt.ylabel('Actual Values')\n",
    "\n",
    "# Add y=x line\n",
    "plt.plot([0, 4.0], [0, 4.0], color='red', linestyle='-')\n",
    "\n",
    "plt.show()"
   ]
  }
 ],
 "metadata": {
  "kernelspec": {
   "display_name": "Python 3",
   "language": "python",
   "name": "python3"
  },
  "language_info": {
   "codemirror_mode": {
    "name": "ipython",
    "version": 3
   },
   "file_extension": ".py",
   "mimetype": "text/x-python",
   "name": "python",
   "nbconvert_exporter": "python",
   "pygments_lexer": "ipython3",
   "version": "3.8.11"
  }
 },
 "nbformat": 4,
 "nbformat_minor": 5
}
