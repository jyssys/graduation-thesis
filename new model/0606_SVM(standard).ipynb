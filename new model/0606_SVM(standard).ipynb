{
 "cells": [
  {
   "attachments": {},
   "cell_type": "markdown",
   "id": "451911be",
   "metadata": {},
   "source": [
    "#### Library import"
   ]
  },
  {
   "cell_type": "code",
   "execution_count": 28,
   "id": "8a394942",
   "metadata": {},
   "outputs": [],
   "source": [
    "import os\n",
    "import pandas as pd\n",
    "import numpy as np\n",
    "import matplotlib.pyplot as plt\n",
    "%matplotlib inline\n",
    "import seaborn as sns\n",
    "import tensorflow as tf\n",
    "import missingno as msno\n",
    "\n",
    "import warnings\n",
    "warnings.filterwarnings('ignore')\n",
    "\n",
    "from sklearn.model_selection import train_test_split\n",
    "from sklearn.model_selection import GridSearchCV\n",
    "from sklearn.metrics import mean_squared_error, r2_score\n",
    "from sklearn.preprocessing import StandardScaler, MinMaxScaler, RobustScaler\n",
    "from sklearn.ensemble import RandomForestRegressor, GradientBoostingRegressor, ExtraTreesRegressor\n",
    "from sklearn.model_selection import KFold\n",
    "from lightgbm import LGBMRegressor\n",
    "from xgboost import XGBRegressor\n",
    "from ngboost import NGBRegressor\n",
    "from scipy.stats import norm, skew\n",
    "\n",
    "from matplotlib.ticker import FormatStrFormatter\n",
    "\n",
    "from tensorflow import keras\n",
    "\n",
    "import re\n",
    "from tqdm import tqdm"
   ]
  },
  {
   "attachments": {},
   "cell_type": "markdown",
   "id": "31a13d68",
   "metadata": {},
   "source": [
    "#### GPU setting"
   ]
  },
  {
   "cell_type": "code",
   "execution_count": 29,
   "id": "cd001f36",
   "metadata": {},
   "outputs": [],
   "source": [
    "from tensorflow.compat.v1 import ConfigProto\n",
    "from tensorflow.compat.v1 import InteractiveSession"
   ]
  },
  {
   "cell_type": "code",
   "execution_count": 30,
   "id": "2aa07618",
   "metadata": {},
   "outputs": [],
   "source": [
    "config = ConfigProto()\n",
    "config.gpu_options.per_process_gpu_memory_fraction = 0.4\n",
    "session = InteractiveSession(config = config)"
   ]
  },
  {
   "cell_type": "code",
   "execution_count": 31,
   "id": "2a6c1daf",
   "metadata": {},
   "outputs": [
    {
     "name": "stdout",
     "output_type": "stream",
     "text": [
      "[name: \"/device:CPU:0\"\n",
      "device_type: \"CPU\"\n",
      "memory_limit: 268435456\n",
      "locality {\n",
      "}\n",
      "incarnation: 14509335039722784249\n",
      ", name: \"/device:GPU:0\"\n",
      "device_type: \"GPU\"\n",
      "memory_limit: 3435973836\n",
      "locality {\n",
      "  bus_id: 1\n",
      "  links {\n",
      "  }\n",
      "}\n",
      "incarnation: 14347490451813791941\n",
      "physical_device_desc: \"device: 0, name: NVIDIA GeForce RTX 3060 Ti, pci bus id: 0000:07:00.0, compute capability: 8.6\"\n",
      "]\n"
     ]
    }
   ],
   "source": [
    "physical_devices = tf.config.list_physical_devices('GPU')\n",
    "physical_devices\n",
    "\n",
    "from tensorflow.python.client import device_lib\n",
    "\n",
    "print(device_lib.list_local_devices())"
   ]
  },
  {
   "cell_type": "code",
   "execution_count": 32,
   "id": "1c58374d",
   "metadata": {},
   "outputs": [],
   "source": [
    "import os\n",
    "\n",
    "os.environ[\"CUDA_VISIBLE_DEVICES\"]=\"0\"\n",
    "gpus = tf.config.experimental.list_physical_devices('GPU')\n",
    "if gpus:\n",
    "    try:\n",
    "        tf.config.experimental.set_memory_growth(gpus[0], True)\n",
    "    except RuntimeError as e:\n",
    "        print(e)"
   ]
  },
  {
   "attachments": {},
   "cell_type": "markdown",
   "id": "cb740f81",
   "metadata": {},
   "source": [
    "#### Data import and preprocessing"
   ]
  },
  {
   "cell_type": "code",
   "execution_count": 71,
   "id": "9288345d",
   "metadata": {
    "scrolled": true
   },
   "outputs": [
    {
     "data": {
      "text/plain": [
       "Index(['OBJECTID_x', 'ID', 'pH', 'As', 'Cd', 'Ni', 'Pb', 'Zn', 'Hg', 'slope',\n",
       "       'altitude', 'profile_curve', 'profile_c_num', 'profile_c_abs',\n",
       "       'planform_curve', 'planform_c_num', 'planform_c_abs', 'HYDGRP',\n",
       "       'HYDGRP_A', 'HYDGRP_B', 'HYDGRP_C', 'HYDGRP_D', 'ANION_EXCL', 'SOL_CRK',\n",
       "       'SOL_K1', 'CLAY1', 'SILT1', 'SAND1', 'ROCK1', 'SOL_EC1', 'distance'],\n",
       "      dtype='object')"
      ]
     },
     "execution_count": 71,
     "metadata": {},
     "output_type": "execute_result"
    }
   ],
   "source": [
    "data = pd.read_csv(\"data/data.csv\")\n",
    "data.columns"
   ]
  },
  {
   "cell_type": "code",
   "execution_count": 72,
   "id": "bbf87a23",
   "metadata": {},
   "outputs": [
    {
     "data": {
      "text/plain": [
       "Index(['pH', 'As', 'Cd', 'Ni', 'Pb', 'Zn', 'Hg', 'slope', 'altitude',\n",
       "       'profile_curve', 'planform_curve', 'HYDGRP_A', 'HYDGRP_B', 'HYDGRP_C',\n",
       "       'HYDGRP_D', 'SOL_K1', 'CLAY1', 'SILT1', 'SAND1', 'ROCK1', 'distance'],\n",
       "      dtype='object')"
      ]
     },
     "execution_count": 72,
     "metadata": {},
     "output_type": "execute_result"
    }
   ],
   "source": [
    "data = data.drop(['OBJECTID_x','ID','HYDGRP','profile_c_num', 'profile_c_abs','planform_c_num', 'planform_c_abs','ANION_EXCL','SOL_CRK','SOL_EC1'], axis = 1)\n",
    "data.columns"
   ]
  },
  {
   "cell_type": "code",
   "execution_count": 73,
   "id": "2dc33c24",
   "metadata": {},
   "outputs": [],
   "source": [
    "As = data\n",
    "Cd = data\n",
    "Ni = data"
   ]
  },
  {
   "cell_type": "code",
   "execution_count": 74,
   "id": "85f4f13d",
   "metadata": {},
   "outputs": [],
   "source": [
    "As = As.drop([\"Cd\", \"Ni\", \"Pb\", \"Zn\", \"Hg\"], axis = 1)\n",
    "Cd = Cd.drop([\"As\", \"Ni\", \"Pb\", \"Zn\", \"Hg\"], axis = 1)\n",
    "Ni = Ni.drop([\"As\", \"Cd\", \"Pb\", \"Zn\", \"Hg\"], axis = 1)"
   ]
  },
  {
   "attachments": {},
   "cell_type": "markdown",
   "id": "32a5223d",
   "metadata": {},
   "source": [
    "#### Oversampling by SMOGN (SMOTE Regression)"
   ]
  },
  {
   "cell_type": "code",
   "execution_count": 75,
   "id": "68a479be",
   "metadata": {},
   "outputs": [],
   "source": [
    "import smogn"
   ]
  },
  {
   "cell_type": "code",
   "execution_count": 76,
   "id": "60543147",
   "metadata": {},
   "outputs": [
    {
     "name": "stderr",
     "output_type": "stream",
     "text": [
      "dist_matrix: 100%|##########| 248/248 [00:23<00:00, 10.57it/s]\n",
      "synth_matrix: 100%|##########| 248/248 [00:01<00:00, 213.75it/s]\n",
      "r_index: 100%|##########| 223/223 [00:00<00:00, 614.19it/s]\n",
      "dist_matrix: 100%|##########| 259/259 [00:25<00:00, 10.17it/s]\n",
      "synth_matrix: 100%|##########| 259/259 [00:01<00:00, 215.25it/s]\n",
      "r_index: 100%|##########| 155/155 [00:00<00:00, 639.52it/s]\n",
      "dist_matrix: 100%|##########| 242/242 [00:22<00:00, 10.78it/s]\n",
      "synth_matrix: 100%|##########| 242/242 [00:01<00:00, 158.65it/s]\n"
     ]
    }
   ],
   "source": [
    "As_smogn = smogn.smoter(data = As, y = 'As', samp_method = 'extreme')\n",
    "Cd_smogn = smogn.smoter(data = Cd, y = 'Cd', samp_method = 'extreme')\n",
    "Ni_smogn = smogn.smoter(data = Ni, y = 'Ni', samp_method = 'extreme')"
   ]
  },
  {
   "cell_type": "code",
   "execution_count": 89,
   "id": "9a217c71",
   "metadata": {},
   "outputs": [],
   "source": [
    "As_smogn = As_smogn.reset_index(drop = True)\n",
    "Cd_smogn = Cd_smogn.reset_index(drop = True)\n",
    "Ni_smogn = Ni_smogn.reset_index(drop = True)"
   ]
  },
  {
   "attachments": {},
   "cell_type": "markdown",
   "id": "ed72a9b1",
   "metadata": {},
   "source": [
    "#### Eliminate outlier and train / test split"
   ]
  },
  {
   "cell_type": "code",
   "execution_count": 90,
   "id": "43604a42",
   "metadata": {},
   "outputs": [],
   "source": [
    "def eli_outlier(data, value):\n",
    "    q1 = data[value].quantile(0.25)\n",
    "    q3 = data[value].quantile(0.75)\n",
    "\n",
    "    iqr = q3 - q1\n",
    "\n",
    "    q1_condition = data[value] < q1-1.5*iqr\n",
    "    q3_condition = data[value] > q3+1.5*iqr\n",
    "\n",
    "    reset_q1_index = data[q1_condition].index\n",
    "    reset_q3_index = data[q3_condition].index\n",
    "\n",
    "    data.drop(reset_q1_index, inplace = True)\n",
    "    data.drop(reset_q3_index, inplace = True)\n",
    "\n",
    "    return data"
   ]
  },
  {
   "cell_type": "code",
   "execution_count": 91,
   "id": "9b7632f2",
   "metadata": {},
   "outputs": [],
   "source": [
    "As_ros = eli_outlier(As_smogn, \"As\")\n",
    "Cd_ros = eli_outlier(Cd_smogn, \"Cd\")\n",
    "Ni_ros = eli_outlier(Ni_smogn, \"Ni\")"
   ]
  },
  {
   "cell_type": "code",
   "execution_count": 92,
   "id": "45ec138e",
   "metadata": {},
   "outputs": [],
   "source": [
    "As_X = As_ros.drop([\"As\"], axis=1)\n",
    "Cd_X = Cd_ros.drop([\"Cd\"], axis=1)\n",
    "Ni_X = Ni_ros.drop([\"Ni\"], axis=1)\n",
    "\n",
    "As_y = As_ros[\"As\"]\n",
    "Cd_y = Cd_ros[\"Cd\"]\n",
    "Ni_y = Ni_ros[\"Ni\"]"
   ]
  },
  {
   "cell_type": "code",
   "execution_count": 93,
   "id": "6463b1c2",
   "metadata": {},
   "outputs": [],
   "source": [
    "As_y = np.log1p(As_ros[\"As\"])\n",
    "Cd_y = np.log1p(Cd_ros[\"Cd\"])\n",
    "Ni_y = np.log1p(Ni_ros[\"Ni\"])"
   ]
  },
  {
   "cell_type": "code",
   "execution_count": 94,
   "id": "fb94ff27",
   "metadata": {},
   "outputs": [
    {
     "name": "stdout",
     "output_type": "stream",
     "text": [
      "(1863, 15)\n",
      "(1967, 15)\n",
      "(2120, 15)\n"
     ]
    }
   ],
   "source": [
    "print(As_X.shape)\n",
    "print(Cd_X.shape)\n",
    "print(Ni_X.shape)"
   ]
  },
  {
   "attachments": {},
   "cell_type": "markdown",
   "id": "c92e5bb6",
   "metadata": {},
   "source": [
    "StandardScaler"
   ]
  },
  {
   "cell_type": "code",
   "execution_count": 95,
   "id": "a82f8786",
   "metadata": {},
   "outputs": [],
   "source": [
    "from sklearn.preprocessing import StandardScaler\n",
    "\n",
    "scaler = StandardScaler()\n",
    "\n",
    "As_X_train, As_X_test, As_y_train, As_y_test = train_test_split(As_X, As_y, test_size=0.2, random_state=42)\n",
    "Cd_X_train, Cd_X_test, Cd_y_train, Cd_y_test = train_test_split(Cd_X, Cd_y, test_size=0.2, random_state=42)\n",
    "Ni_X_train, Ni_X_test, Ni_y_train, Ni_y_test = train_test_split(Ni_X, Ni_y, test_size=0.2, random_state=42)\n",
    "\n",
    "As_X_train = scaler.fit_transform(As_X_train)\n",
    "As_X_test = scaler.fit_transform(As_X_test)\n",
    "\n",
    "Cd_X_train = scaler.fit_transform(Cd_X_train)\n",
    "Cd_X_test = scaler.fit_transform(Cd_X_test)\n",
    "\n",
    "Ni_X_train = scaler.fit_transform(Ni_X_train)\n",
    "Ni_X_test = scaler.fit_transform(Ni_X_test)"
   ]
  },
  {
   "cell_type": "code",
   "execution_count": null,
   "id": "416a7027",
   "metadata": {},
   "outputs": [
    {
     "data": {
      "text/plain": [
       "' from sklearn.preprocessing import StandardScaler\\n\\nscaler = StandardScaler()\\nAs_X_scaled = scaler.fit_transform(As_X)\\nCd_X_scaled = scaler.fit_transform(Cd_X)\\nNi_X_scaled = scaler.fit_transform(Ni_X)\\n\\nAs_X_train, As_X_test, As_y_train, As_y_test = train_test_split(As_X_scaled, As_y, test_size=0.2, random_state=42)\\nCd_X_train, Cd_X_test, Cd_y_train, Cd_y_test = train_test_split(Cd_X_scaled, Cd_y, test_size=0.2, random_state=42)\\nNi_X_train, Ni_X_test, Ni_y_train, Ni_y_test = train_test_split(Ni_X_scaled, Ni_y, test_size=0.2, random_state=42) '"
      ]
     },
     "execution_count": 18,
     "metadata": {},
     "output_type": "execute_result"
    }
   ],
   "source": [
    "''' from sklearn.preprocessing import StandardScaler\n",
    "\n",
    "scaler = StandardScaler()\n",
    "As_X_scaled = scaler.fit_transform(As_X)\n",
    "Cd_X_scaled = scaler.fit_transform(Cd_X)\n",
    "Ni_X_scaled = scaler.fit_transform(Ni_X)\n",
    "\n",
    "As_X_train, As_X_test, As_y_train, As_y_test = train_test_split(As_X_scaled, As_y, test_size=0.2, random_state=42)\n",
    "Cd_X_train, Cd_X_test, Cd_y_train, Cd_y_test = train_test_split(Cd_X_scaled, Cd_y, test_size=0.2, random_state=42)\n",
    "Ni_X_train, Ni_X_test, Ni_y_train, Ni_y_test = train_test_split(Ni_X_scaled, Ni_y, test_size=0.2, random_state=42) '''"
   ]
  },
  {
   "attachments": {},
   "cell_type": "markdown",
   "id": "2fe0d293",
   "metadata": {},
   "source": [
    "MinMaxScaler"
   ]
  },
  {
   "cell_type": "code",
   "execution_count": null,
   "id": "e8596f9f",
   "metadata": {},
   "outputs": [],
   "source": [
    "# from sklearn.preprocessing import MinMaxScaler\n",
    "\n",
    "# scaler = MinMaxScaler()\n",
    "# As_X_scaled = scaler.fit_transform(As_X)\n",
    "# Cd_X_scaled = scaler.fit_transform(Cd_X)\n",
    "# Ni_X_scaled = scaler.fit_transform(Ni_X)\n",
    "\n",
    "# As_X_train, As_X_test, As_y_train, As_y_test = train_test_split(As_X_scaled, As_y, test_size=0.2, random_state=42)\n",
    "# Cd_X_train, Cd_X_test, Cd_y_train, Cd_y_test = train_test_split(Cd_X_scaled, Cd_y, test_size=0.2, random_state=42)\n",
    "# Ni_X_train, Ni_X_test, Ni_y_train, Ni_y_test = train_test_split(Ni_X_scaled, Ni_y, test_size=0.2, random_state=42)"
   ]
  },
  {
   "cell_type": "code",
   "execution_count": 96,
   "id": "66cd05c6",
   "metadata": {},
   "outputs": [
    {
     "name": "stdout",
     "output_type": "stream",
     "text": [
      "(1490, 15)\n",
      "(1573, 15)\n",
      "(1696, 15)\n"
     ]
    }
   ],
   "source": [
    "print(As_X_train.shape)\n",
    "print(Cd_X_train.shape)\n",
    "print(Ni_X_train.shape)"
   ]
  },
  {
   "attachments": {},
   "cell_type": "markdown",
   "id": "bd11b27e",
   "metadata": {},
   "source": [
    "#### 10-Fold Crossvalidation"
   ]
  },
  {
   "cell_type": "code",
   "execution_count": 46,
   "id": "7a765916",
   "metadata": {},
   "outputs": [],
   "source": [
    "# kf = KFold(n_splits = 10, random_state = 42, shuffle = True)"
   ]
  },
  {
   "attachments": {},
   "cell_type": "markdown",
   "id": "859638d0",
   "metadata": {},
   "source": [
    "#### Optuna Optimization"
   ]
  },
  {
   "cell_type": "code",
   "execution_count": 97,
   "id": "92a47d83",
   "metadata": {},
   "outputs": [],
   "source": [
    "import optuna\n",
    "\n",
    "from optuna import Trial\n",
    "from optuna.samplers import TPESampler"
   ]
  },
  {
   "cell_type": "code",
   "execution_count": 98,
   "id": "a7669fea",
   "metadata": {},
   "outputs": [],
   "source": [
    "from sklearn.model_selection import cross_val_score, KFold\n",
    "from sklearn.svm import SVR\n",
    "\n",
    "\n",
    "def objectiveSVM(trial: Trial, X_train, y_train) -> float:\n",
    "    C = trial.suggest_loguniform('C', 0.1, 100.0)\n",
    "    epsilon = trial.suggest_loguniform('epsilon', 0.01, 1.0)\n",
    "    kernel = trial.suggest_categorical('kernel', ['linear', 'rbf', 'poly'])\n",
    "    degree = trial.suggest_int('degree', 1, 5)\n",
    "    \n",
    "    kf = KFold(n_splits=5, shuffle=True, random_state=42)\n",
    "\n",
    "    model = SVR(C=C, epsilon=epsilon, kernel=kernel, degree=degree)\n",
    "\n",
    "    r2 = cross_val_score(model, X_train, y_train, scoring='r2', cv=kf)\n",
    "    r2 = r2.mean()\n",
    "\n",
    "    return r2\n"
   ]
  },
  {
   "attachments": {},
   "cell_type": "markdown",
   "id": "b0988f46",
   "metadata": {},
   "source": [
    "####  Optimization"
   ]
  },
  {
   "cell_type": "code",
   "execution_count": 99,
   "id": "94f5e00d",
   "metadata": {
    "scrolled": false
   },
   "outputs": [
    {
     "name": "stderr",
     "output_type": "stream",
     "text": [
      "\u001b[32m[I 2023-08-29 02:04:43,619]\u001b[0m A new study created in memory with name: svm_parameter_opt\u001b[0m\n",
      "\u001b[32m[I 2023-08-29 02:04:45,647]\u001b[0m Trial 0 finished with value: 0.2705176723694742 and parameters: {'C': 94.63144068943551, 'epsilon': 0.09704353060876614, 'kernel': 'rbf', 'degree': 3}. Best is trial 0 with value: 0.2705176723694742.\u001b[0m\n",
      "\u001b[32m[I 2023-08-29 02:04:45,811]\u001b[0m Trial 1 finished with value: 0.35157362649186874 and parameters: {'C': 0.511738517327365, 'epsilon': 0.7158001836457631, 'kernel': 'rbf', 'degree': 4}. Best is trial 1 with value: 0.35157362649186874.\u001b[0m\n",
      "\u001b[32m[I 2023-08-29 02:04:46,869]\u001b[0m Trial 2 finished with value: 0.20207923682676704 and parameters: {'C': 4.5109865968604534, 'epsilon': 0.5618784066246875, 'kernel': 'linear', 'degree': 5}. Best is trial 1 with value: 0.35157362649186874.\u001b[0m\n",
      "\u001b[32m[I 2023-08-29 02:04:51,270]\u001b[0m Trial 3 finished with value: 0.19270567088230667 and parameters: {'C': 10.710728186498914, 'epsilon': 0.013369908266705055, 'kernel': 'linear', 'degree': 4}. Best is trial 1 with value: 0.35157362649186874.\u001b[0m\n",
      "\u001b[32m[I 2023-08-29 02:04:51,821]\u001b[0m Trial 4 finished with value: 0.41484042324254455 and parameters: {'C': 0.36839588288179526, 'epsilon': 0.03777748177560484, 'kernel': 'rbf', 'degree': 4}. Best is trial 4 with value: 0.41484042324254455.\u001b[0m\n",
      "\u001b[32m[I 2023-08-29 02:05:02,602]\u001b[0m Trial 5 finished with value: 0.19634574052176948 and parameters: {'C': 94.56584782713426, 'epsilon': 0.6847941403813792, 'kernel': 'linear', 'degree': 4}. Best is trial 4 with value: 0.41484042324254455.\u001b[0m\n",
      "\u001b[32m[I 2023-08-29 02:05:03,154]\u001b[0m Trial 6 finished with value: 0.20085794899076231 and parameters: {'C': 1.8637277648471642, 'epsilon': 0.5913967297261512, 'kernel': 'linear', 'degree': 5}. Best is trial 4 with value: 0.41484042324254455.\u001b[0m\n",
      "\u001b[32m[I 2023-08-29 02:05:03,539]\u001b[0m Trial 7 finished with value: 0.19388339244573957 and parameters: {'C': 0.24485958193702728, 'epsilon': 0.1631201378806863, 'kernel': 'linear', 'degree': 1}. Best is trial 4 with value: 0.41484042324254455.\u001b[0m\n",
      "\u001b[32m[I 2023-08-29 02:05:04,092]\u001b[0m Trial 8 finished with value: 0.35693241236385764 and parameters: {'C': 0.11351530706010085, 'epsilon': 0.015115117856045824, 'kernel': 'rbf', 'degree': 3}. Best is trial 4 with value: 0.41484042324254455.\u001b[0m\n",
      "\u001b[32m[I 2023-08-29 02:05:06,533]\u001b[0m Trial 9 finished with value: 0.1950069010892594 and parameters: {'C': 5.915383514269065, 'epsilon': 0.07146158619676213, 'kernel': 'linear', 'degree': 5}. Best is trial 4 with value: 0.41484042324254455.\u001b[0m\n",
      "\u001b[32m[I 2023-08-29 02:05:06,872]\u001b[0m Trial 10 finished with value: 0.19258209543975013 and parameters: {'C': 0.8770586573397703, 'epsilon': 0.03242602683884657, 'kernel': 'poly', 'degree': 1}. Best is trial 4 with value: 0.41484042324254455.\u001b[0m\n",
      "\u001b[32m[I 2023-08-29 02:05:07,432]\u001b[0m Trial 11 finished with value: 0.3676337438606959 and parameters: {'C': 0.13157058936016144, 'epsilon': 0.012586872163218394, 'kernel': 'rbf', 'degree': 3}. Best is trial 4 with value: 0.41484042324254455.\u001b[0m\n",
      "\u001b[32m[I 2023-08-29 02:05:07,978]\u001b[0m Trial 12 finished with value: 0.37954030522762994 and parameters: {'C': 0.15997060744070427, 'epsilon': 0.03168121084434939, 'kernel': 'rbf', 'degree': 2}. Best is trial 4 with value: 0.41484042324254455.\u001b[0m\n",
      "\u001b[32m[I 2023-08-29 02:05:08,537]\u001b[0m Trial 13 finished with value: 0.42459980978696044 and parameters: {'C': 0.501105189185776, 'epsilon': 0.041673793281027535, 'kernel': 'rbf', 'degree': 2}. Best is trial 13 with value: 0.42459980978696044.\u001b[0m\n",
      "\u001b[32m[I 2023-08-29 02:05:08,880]\u001b[0m Trial 14 finished with value: 0.09866183378514944 and parameters: {'C': 0.6002268413716606, 'epsilon': 0.0429131455904748, 'kernel': 'poly', 'degree': 2}. Best is trial 13 with value: 0.42459980978696044.\u001b[0m\n",
      "\u001b[32m[I 2023-08-29 02:05:09,315]\u001b[0m Trial 15 finished with value: 0.44425492193417837 and parameters: {'C': 1.025163862184049, 'epsilon': 0.2044151470331876, 'kernel': 'rbf', 'degree': 2}. Best is trial 15 with value: 0.44425492193417837.\u001b[0m\n",
      "\u001b[32m[I 2023-08-29 02:05:09,746]\u001b[0m Trial 16 finished with value: 0.45171930937271637 and parameters: {'C': 1.5202708183188294, 'epsilon': 0.21001895599538356, 'kernel': 'rbf', 'degree': 2}. Best is trial 16 with value: 0.45171930937271637.\u001b[0m\n",
      "\u001b[32m[I 2023-08-29 02:05:10,157]\u001b[0m Trial 17 finished with value: 0.4542063321194817 and parameters: {'C': 1.6524625719530706, 'epsilon': 0.23207187251824302, 'kernel': 'rbf', 'degree': 2}. Best is trial 17 with value: 0.4542063321194817.\u001b[0m\n",
      "\u001b[32m[I 2023-08-29 02:05:10,784]\u001b[0m Trial 18 finished with value: 0.19703257636233198 and parameters: {'C': 15.248222428158284, 'epsilon': 0.21903884190426728, 'kernel': 'poly', 'degree': 1}. Best is trial 17 with value: 0.4542063321194817.\u001b[0m\n",
      "\u001b[32m[I 2023-08-29 02:05:11,118]\u001b[0m Trial 19 finished with value: 0.4551572058890877 and parameters: {'C': 2.1153036041248123, 'epsilon': 0.3586089449223482, 'kernel': 'rbf', 'degree': 2}. Best is trial 19 with value: 0.4551572058890877.\u001b[0m\n",
      "\u001b[32m[I 2023-08-29 02:05:11,475]\u001b[0m Trial 20 finished with value: 0.4601238359093746 and parameters: {'C': 2.481204351326398, 'epsilon': 0.33117418539165316, 'kernel': 'rbf', 'degree': 3}. Best is trial 20 with value: 0.4601238359093746.\u001b[0m\n",
      "\u001b[32m[I 2023-08-29 02:05:11,827]\u001b[0m Trial 21 finished with value: 0.45868057467484463 and parameters: {'C': 2.358015919708734, 'epsilon': 0.3382642272259599, 'kernel': 'rbf', 'degree': 3}. Best is trial 20 with value: 0.4601238359093746.\u001b[0m\n",
      "\u001b[32m[I 2023-08-29 02:05:12,155]\u001b[0m Trial 22 finished with value: 0.45740897756994253 and parameters: {'C': 2.925550237823255, 'epsilon': 0.38179198088354427, 'kernel': 'rbf', 'degree': 3}. Best is trial 20 with value: 0.4601238359093746.\u001b[0m\n",
      "\u001b[32m[I 2023-08-29 02:05:12,527]\u001b[0m Trial 23 finished with value: 0.45329994712958543 and parameters: {'C': 12.146947636463024, 'epsilon': 0.41751456606337023, 'kernel': 'rbf', 'degree': 3}. Best is trial 20 with value: 0.4601238359093746.\u001b[0m\n",
      "\u001b[32m[I 2023-08-29 02:05:12,657]\u001b[0m Trial 24 finished with value: 0.32098923956866876 and parameters: {'C': 4.595621659862903, 'epsilon': 0.9509330970442045, 'kernel': 'rbf', 'degree': 3}. Best is trial 20 with value: 0.4601238359093746.\u001b[0m\n",
      "\u001b[32m[I 2023-08-29 02:05:13,958]\u001b[0m Trial 25 finished with value: -2.454462552843138 and parameters: {'C': 26.256588802834013, 'epsilon': 0.33973620899334955, 'kernel': 'poly', 'degree': 4}. Best is trial 20 with value: 0.4601238359093746.\u001b[0m\n",
      "\u001b[32m[I 2023-08-29 02:05:14,478]\u001b[0m Trial 26 finished with value: 0.4592579329459411 and parameters: {'C': 3.2203932450057837, 'epsilon': 0.13599642176566556, 'kernel': 'rbf', 'degree': 3}. Best is trial 20 with value: 0.4601238359093746.\u001b[0m\n",
      "\u001b[32m[I 2023-08-29 02:05:15,100]\u001b[0m Trial 27 finished with value: 0.46756007139969746 and parameters: {'C': 7.383551867079074, 'epsilon': 0.12329074360134168, 'kernel': 'rbf', 'degree': 3}. Best is trial 27 with value: 0.46756007139969746.\u001b[0m\n",
      "\u001b[32m[I 2023-08-29 02:05:16,239]\u001b[0m Trial 28 finished with value: 0.39273769246524404 and parameters: {'C': 41.246679720390674, 'epsilon': 0.12442944575135886, 'kernel': 'rbf', 'degree': 4}. Best is trial 27 with value: 0.46756007139969746.\u001b[0m\n",
      "\u001b[32m[I 2023-08-29 02:05:16,926]\u001b[0m Trial 29 finished with value: 0.4615235695250986 and parameters: {'C': 8.571487595433522, 'epsilon': 0.07943890019374962, 'kernel': 'rbf', 'degree': 3}. Best is trial 27 with value: 0.46756007139969746.\u001b[0m\n",
      "\u001b[32m[I 2023-08-29 02:05:18,176]\u001b[0m Trial 30 finished with value: -5.742721683307551 and parameters: {'C': 7.246833854513496, 'epsilon': 0.08246156595018396, 'kernel': 'poly', 'degree': 3}. Best is trial 27 with value: 0.46756007139969746.\u001b[0m\n",
      "\u001b[32m[I 2023-08-29 02:05:19,060]\u001b[0m Trial 31 finished with value: 0.43230944852042785 and parameters: {'C': 21.639418893641565, 'epsilon': 0.11686577453566968, 'kernel': 'rbf', 'degree': 3}. Best is trial 27 with value: 0.46756007139969746.\u001b[0m\n",
      "\u001b[32m[I 2023-08-29 02:05:19,777]\u001b[0m Trial 32 finished with value: 0.4601284161955367 and parameters: {'C': 8.038452316915908, 'epsilon': 0.0622658233226924, 'kernel': 'rbf', 'degree': 3}. Best is trial 27 with value: 0.46756007139969746.\u001b[0m\n",
      "\u001b[32m[I 2023-08-29 02:05:20,526]\u001b[0m Trial 33 finished with value: 0.4602525106725287 and parameters: {'C': 7.696988841629658, 'epsilon': 0.0608692246052922, 'kernel': 'rbf', 'degree': 4}. Best is trial 27 with value: 0.46756007139969746.\u001b[0m\n",
      "\u001b[32m[I 2023-08-29 02:05:21,243]\u001b[0m Trial 34 finished with value: 0.46051280613305823 and parameters: {'C': 7.676427089965737, 'epsilon': 0.06324866274206711, 'kernel': 'rbf', 'degree': 4}. Best is trial 27 with value: 0.46756007139969746.\u001b[0m\n",
      "\u001b[32m[I 2023-08-29 02:05:22,254]\u001b[0m Trial 35 finished with value: 0.4304555044882874 and parameters: {'C': 18.434083990252745, 'epsilon': 0.021242190895491862, 'kernel': 'rbf', 'degree': 4}. Best is trial 27 with value: 0.46756007139969746.\u001b[0m\n",
      "\u001b[32m[I 2023-08-29 02:05:23,616]\u001b[0m Trial 36 finished with value: 0.38720561394555464 and parameters: {'C': 38.24614065915715, 'epsilon': 0.056709548747721286, 'kernel': 'rbf', 'degree': 4}. Best is trial 27 with value: 0.46756007139969746.\u001b[0m\n",
      "\u001b[32m[I 2023-08-29 02:05:24,225]\u001b[0m Trial 37 finished with value: 0.4601085351714752 and parameters: {'C': 4.538781535794811, 'epsilon': 0.09183016748292543, 'kernel': 'rbf', 'degree': 5}. Best is trial 27 with value: 0.46756007139969746.\u001b[0m\n",
      "\u001b[32m[I 2023-08-29 02:05:25,030]\u001b[0m Trial 38 finished with value: 0.4572160753329363 and parameters: {'C': 10.005833338583667, 'epsilon': 0.05880662044436022, 'kernel': 'rbf', 'degree': 4}. Best is trial 27 with value: 0.46756007139969746.\u001b[0m\n",
      "\u001b[32m[I 2023-08-29 02:05:35,693]\u001b[0m Trial 39 finished with value: 0.1940198696420983 and parameters: {'C': 31.52825744287049, 'epsilon': 0.023893090273176164, 'kernel': 'linear', 'degree': 5}. Best is trial 27 with value: 0.46756007139969746.\u001b[0m\n",
      "\u001b[32m[I 2023-08-29 02:05:40,546]\u001b[0m Trial 40 finished with value: 0.19623810769602196 and parameters: {'C': 13.974531585583737, 'epsilon': 0.10013853793852358, 'kernel': 'linear', 'degree': 4}. Best is trial 27 with value: 0.46756007139969746.\u001b[0m\n",
      "\u001b[32m[I 2023-08-29 02:05:41,273]\u001b[0m Trial 41 finished with value: 0.4587531423445288 and parameters: {'C': 8.145879737771734, 'epsilon': 0.05440782655054494, 'kernel': 'rbf', 'degree': 4}. Best is trial 27 with value: 0.46756007139969746.\u001b[0m\n",
      "\u001b[32m[I 2023-08-29 02:05:41,929]\u001b[0m Trial 42 finished with value: 0.46215118551981665 and parameters: {'C': 6.570736633208797, 'epsilon': 0.07626931042164775, 'kernel': 'rbf', 'degree': 4}. Best is trial 27 with value: 0.46756007139969746.\u001b[0m\n",
      "\u001b[32m[I 2023-08-29 02:05:42,562]\u001b[0m Trial 43 finished with value: 0.46186131769355204 and parameters: {'C': 5.624698307662362, 'epsilon': 0.08459297213144225, 'kernel': 'rbf', 'degree': 4}. Best is trial 27 with value: 0.46756007139969746.\u001b[0m\n",
      "\u001b[32m[I 2023-08-29 02:05:43,190]\u001b[0m Trial 44 finished with value: 0.45420813473871907 and parameters: {'C': 3.4946103256536207, 'epsilon': 0.07729804126179003, 'kernel': 'rbf', 'degree': 5}. Best is trial 27 with value: 0.46756007139969746.\u001b[0m\n",
      "\u001b[32m[I 2023-08-29 02:05:43,737]\u001b[0m Trial 45 finished with value: 0.46830845370112106 and parameters: {'C': 5.791680065133525, 'epsilon': 0.16444113676444283, 'kernel': 'rbf', 'degree': 4}. Best is trial 45 with value: 0.46830845370112106.\u001b[0m\n",
      "\u001b[32m[I 2023-08-29 02:05:44,348]\u001b[0m Trial 46 finished with value: 0.4682603337169387 and parameters: {'C': 5.582922287894561, 'epsilon': 0.15244850405593752, 'kernel': 'rbf', 'degree': 5}. Best is trial 45 with value: 0.46830845370112106.\u001b[0m\n",
      "\u001b[32m[I 2023-08-29 02:05:46,747]\u001b[0m Trial 47 finished with value: 0.1947403022945226 and parameters: {'C': 5.577301950213308, 'epsilon': 0.1605727439310681, 'kernel': 'linear', 'degree': 5}. Best is trial 45 with value: 0.46830845370112106.\u001b[0m\n",
      "\u001b[32m[I 2023-08-29 02:05:47,281]\u001b[0m Trial 48 finished with value: 0.4670409164618194 and parameters: {'C': 3.909215786459686, 'epsilon': 0.1647090810619228, 'kernel': 'rbf', 'degree': 5}. Best is trial 45 with value: 0.46830845370112106.\u001b[0m\n",
      "\u001b[32m[I 2023-08-29 02:05:47,670]\u001b[0m Trial 49 finished with value: 0.2638322713813059 and parameters: {'C': 1.2122705191303238, 'epsilon': 0.2655785624773741, 'kernel': 'poly', 'degree': 5}. Best is trial 45 with value: 0.46830845370112106.\u001b[0m\n",
      "\u001b[32m[I 2023-08-29 02:05:48,185]\u001b[0m Trial 50 finished with value: 0.4662276669582819 and parameters: {'C': 3.7006544443031824, 'epsilon': 0.16346000579011413, 'kernel': 'rbf', 'degree': 5}. Best is trial 45 with value: 0.46830845370112106.\u001b[0m\n",
      "\u001b[32m[I 2023-08-29 02:05:48,694]\u001b[0m Trial 51 finished with value: 0.46566919250721284 and parameters: {'C': 3.5507374790914876, 'epsilon': 0.1643379707337335, 'kernel': 'rbf', 'degree': 5}. Best is trial 45 with value: 0.46830845370112106.\u001b[0m\n",
      "\u001b[32m[I 2023-08-29 02:05:49,211]\u001b[0m Trial 52 finished with value: 0.4667812935510874 and parameters: {'C': 3.83194910588817, 'epsilon': 0.16485642157010852, 'kernel': 'rbf', 'degree': 5}. Best is trial 45 with value: 0.46830845370112106.\u001b[0m\n",
      "\u001b[32m[I 2023-08-29 02:05:49,761]\u001b[0m Trial 53 finished with value: 0.46633214205505646 and parameters: {'C': 4.038713702050562, 'epsilon': 0.15170413271570446, 'kernel': 'rbf', 'degree': 5}. Best is trial 45 with value: 0.46830845370112106.\u001b[0m\n",
      "\u001b[32m[I 2023-08-29 02:05:50,185]\u001b[0m Trial 54 finished with value: 0.46524496263422177 and parameters: {'C': 4.771106524854374, 'epsilon': 0.27349513258412333, 'kernel': 'rbf', 'degree': 5}. Best is trial 45 with value: 0.46830845370112106.\u001b[0m\n",
      "\u001b[32m[I 2023-08-29 02:05:50,697]\u001b[0m Trial 55 finished with value: 0.45529241008597127 and parameters: {'C': 2.5466730255241523, 'epsilon': 0.14340400412230117, 'kernel': 'rbf', 'degree': 5}. Best is trial 45 with value: 0.46830845370112106.\u001b[0m\n",
      "\u001b[32m[I 2023-08-29 02:05:51,261]\u001b[0m Trial 56 finished with value: 0.4487849794375009 and parameters: {'C': 1.6047885025346225, 'epsilon': 0.10903338979045134, 'kernel': 'rbf', 'degree': 5}. Best is trial 45 with value: 0.46830845370112106.\u001b[0m\n",
      "\u001b[32m[I 2023-08-29 02:05:54,512]\u001b[0m Trial 57 finished with value: 0.19583446363005325 and parameters: {'C': 9.917343904725186, 'epsilon': 0.18802929825531664, 'kernel': 'linear', 'degree': 5}. Best is trial 45 with value: 0.46830845370112106.\u001b[0m\n",
      "\u001b[32m[I 2023-08-29 02:05:54,931]\u001b[0m Trial 58 finished with value: 0.4371714990828871 and parameters: {'C': 0.6801302713665635, 'epsilon': 0.24026940916288408, 'kernel': 'rbf', 'degree': 5}. Best is trial 45 with value: 0.46830845370112106.\u001b[0m\n",
      "\u001b[32m[I 2023-08-29 02:05:55,388]\u001b[0m Trial 59 finished with value: 0.4491828027100295 and parameters: {'C': 1.2740197548698382, 'epsilon': 0.1922613990122237, 'kernel': 'rbf', 'degree': 5}. Best is trial 45 with value: 0.46830845370112106.\u001b[0m\n",
      "\u001b[32m[I 2023-08-29 02:05:55,663]\u001b[0m Trial 60 finished with value: -1.6409060140282428 and parameters: {'C': 4.284344161842341, 'epsilon': 0.5046922977169334, 'kernel': 'poly', 'degree': 5}. Best is trial 45 with value: 0.46830845370112106.\u001b[0m\n",
      "\u001b[32m[I 2023-08-29 02:05:56,194]\u001b[0m Trial 61 finished with value: 0.46758263116344273 and parameters: {'C': 3.931623184514791, 'epsilon': 0.1740850852715071, 'kernel': 'rbf', 'degree': 5}. Best is trial 45 with value: 0.46830845370112106.\u001b[0m\n",
      "\u001b[32m[I 2023-08-29 02:05:56,705]\u001b[0m Trial 62 finished with value: 0.45202014462583406 and parameters: {'C': 2.051920042967669, 'epsilon': 0.14367930670661505, 'kernel': 'rbf', 'degree': 5}. Best is trial 45 with value: 0.46830845370112106.\u001b[0m\n",
      "\u001b[32m[I 2023-08-29 02:05:57,253]\u001b[0m Trial 63 finished with value: 0.4562954470380715 and parameters: {'C': 2.8733146840197845, 'epsilon': 0.12172703796517981, 'kernel': 'rbf', 'degree': 5}. Best is trial 45 with value: 0.46830845370112106.\u001b[0m\n",
      "\u001b[32m[I 2023-08-29 02:05:57,672]\u001b[0m Trial 64 finished with value: 0.4644192649580198 and parameters: {'C': 5.2988725506239485, 'epsilon': 0.2937740632335443, 'kernel': 'rbf', 'degree': 5}. Best is trial 45 with value: 0.46830845370112106.\u001b[0m\n",
      "\u001b[32m[I 2023-08-29 02:05:58,207]\u001b[0m Trial 65 finished with value: 0.46959820578474354 and parameters: {'C': 6.001437713347997, 'epsilon': 0.18240136592398828, 'kernel': 'rbf', 'degree': 5}. Best is trial 65 with value: 0.46959820578474354.\u001b[0m\n",
      "\u001b[32m[I 2023-08-29 02:05:58,835]\u001b[0m Trial 66 finished with value: 0.46414060232290755 and parameters: {'C': 12.23397455312591, 'epsilon': 0.18426440065691582, 'kernel': 'rbf', 'degree': 5}. Best is trial 65 with value: 0.46959820578474354.\u001b[0m\n",
      "\u001b[32m[I 2023-08-29 02:05:59,318]\u001b[0m Trial 67 finished with value: 0.46757606224833753 and parameters: {'C': 5.913428185413828, 'epsilon': 0.2303634150344628, 'kernel': 'rbf', 'degree': 5}. Best is trial 65 with value: 0.46959820578474354.\u001b[0m\n",
      "\u001b[32m[I 2023-08-29 02:05:59,803]\u001b[0m Trial 68 finished with value: 0.46780975896778026 and parameters: {'C': 6.3211349829404115, 'epsilon': 0.23239374738063684, 'kernel': 'rbf', 'degree': 5}. Best is trial 65 with value: 0.46959820578474354.\u001b[0m\n",
      "\u001b[32m[I 2023-08-29 02:06:00,435]\u001b[0m Trial 69 finished with value: 0.45847982455832703 and parameters: {'C': 16.781233271611733, 'epsilon': 0.22791910974594803, 'kernel': 'rbf', 'degree': 5}. Best is trial 65 with value: 0.46959820578474354.\u001b[0m\n",
      "\u001b[32m[I 2023-08-29 02:06:01,720]\u001b[0m Trial 70 finished with value: -0.401092684211105 and parameters: {'C': 6.035855575478817, 'epsilon': 0.010001890029211235, 'kernel': 'poly', 'degree': 4}. Best is trial 65 with value: 0.46959820578474354.\u001b[0m\n",
      "\u001b[32m[I 2023-08-29 02:06:02,378]\u001b[0m Trial 71 finished with value: 0.4662562053513689 and parameters: {'C': 9.671648429217637, 'epsilon': 0.13279309128331762, 'kernel': 'rbf', 'degree': 5}. Best is trial 65 with value: 0.46959820578474354.\u001b[0m\n",
      "\u001b[32m[I 2023-08-29 02:06:02,821]\u001b[0m Trial 72 finished with value: 0.4626515420165457 and parameters: {'C': 6.3232616729871625, 'epsilon': 0.3003174595868342, 'kernel': 'rbf', 'degree': 5}. Best is trial 65 with value: 0.46959820578474354.\u001b[0m\n",
      "\u001b[32m[I 2023-08-29 02:06:03,203]\u001b[0m Trial 73 finished with value: 0.45295708621993747 and parameters: {'C': 12.382478630089995, 'epsilon': 0.41795542613966563, 'kernel': 'rbf', 'degree': 5}. Best is trial 65 with value: 0.46959820578474354.\u001b[0m\n",
      "\u001b[32m[I 2023-08-29 02:06:03,687]\u001b[0m Trial 74 finished with value: 0.4679594306554913 and parameters: {'C': 4.909711982845942, 'epsilon': 0.20437131047508197, 'kernel': 'rbf', 'degree': 5}. Best is trial 65 with value: 0.46959820578474354.\u001b[0m\n",
      "\u001b[32m[I 2023-08-29 02:06:04,117]\u001b[0m Trial 75 finished with value: 0.46404473540259994 and parameters: {'C': 2.8993199456871226, 'epsilon': 0.23780818710724555, 'kernel': 'rbf', 'degree': 5}. Best is trial 65 with value: 0.46959820578474354.\u001b[0m\n",
      "\u001b[32m[I 2023-08-29 02:06:05,426]\u001b[0m Trial 76 finished with value: 0.3611138648938148 and parameters: {'C': 67.7594906014732, 'epsilon': 0.20276420420515784, 'kernel': 'rbf', 'degree': 5}. Best is trial 65 with value: 0.46959820578474354.\u001b[0m\n",
      "\u001b[32m[I 2023-08-29 02:06:05,867]\u001b[0m Trial 77 finished with value: 0.4656320782538853 and parameters: {'C': 5.017995844415006, 'epsilon': 0.25129551118041576, 'kernel': 'rbf', 'degree': 4}. Best is trial 65 with value: 0.46959820578474354.\u001b[0m\n",
      "\u001b[32m[I 2023-08-29 02:06:08,552]\u001b[0m Trial 78 finished with value: 0.19607768939070883 and parameters: {'C': 6.360168675696976, 'epsilon': 0.09666215502437156, 'kernel': 'linear', 'degree': 3}. Best is trial 65 with value: 0.46959820578474354.\u001b[0m\n",
      "\u001b[32m[I 2023-08-29 02:06:09,201]\u001b[0m Trial 79 finished with value: 0.4649931837809474 and parameters: {'C': 8.533752098603571, 'epsilon': 0.11005207732377753, 'kernel': 'rbf', 'degree': 4}. Best is trial 65 with value: 0.46959820578474354.\u001b[0m\n",
      "\u001b[32m[I 2023-08-29 02:06:09,772]\u001b[0m Trial 80 finished with value: 0.46748052447507876 and parameters: {'C': 10.793060589569544, 'epsilon': 0.20892047883922354, 'kernel': 'rbf', 'degree': 5}. Best is trial 65 with value: 0.46959820578474354.\u001b[0m\n",
      "\u001b[32m[I 2023-08-29 02:06:10,335]\u001b[0m Trial 81 finished with value: 0.4676069053694329 and parameters: {'C': 10.719070372010872, 'epsilon': 0.21688431394382934, 'kernel': 'rbf', 'degree': 5}. Best is trial 65 with value: 0.46959820578474354.\u001b[0m\n",
      "\u001b[32m[I 2023-08-29 02:06:11,060]\u001b[0m Trial 82 finished with value: 0.448799927921649 and parameters: {'C': 20.116107543790378, 'epsilon': 0.18771108552200094, 'kernel': 'rbf', 'degree': 5}. Best is trial 65 with value: 0.46959820578474354.\u001b[0m\n",
      "\u001b[32m[I 2023-08-29 02:06:11,661]\u001b[0m Trial 83 finished with value: 0.4682455640987807 and parameters: {'C': 6.863460850859869, 'epsilon': 0.12945146049802872, 'kernel': 'rbf', 'degree': 5}. Best is trial 65 with value: 0.46959820578474354.\u001b[0m\n",
      "\u001b[32m[I 2023-08-29 02:06:12,080]\u001b[0m Trial 84 finished with value: 0.46141913327408945 and parameters: {'C': 7.22733918634041, 'epsilon': 0.3193545737145867, 'kernel': 'rbf', 'degree': 5}. Best is trial 65 with value: 0.46959820578474354.\u001b[0m\n",
      "\u001b[32m[I 2023-08-29 02:06:12,673]\u001b[0m Trial 85 finished with value: 0.464064965861577 and parameters: {'C': 13.572675554151296, 'epsilon': 0.22081411893445235, 'kernel': 'rbf', 'degree': 5}. Best is trial 65 with value: 0.46959820578474354.\u001b[0m\n",
      "\u001b[32m[I 2023-08-29 02:06:13,056]\u001b[0m Trial 86 finished with value: 0.4582909481219845 and parameters: {'C': 9.099280413544996, 'epsilon': 0.3809242016121864, 'kernel': 'rbf', 'degree': 5}. Best is trial 65 with value: 0.46959820578474354.\u001b[0m\n",
      "\u001b[32m[I 2023-08-29 02:06:13,550]\u001b[0m Trial 87 finished with value: 0.46468323828170577 and parameters: {'C': 3.216734130778406, 'epsilon': 0.1776133407303656, 'kernel': 'rbf', 'degree': 5}. Best is trial 65 with value: 0.46959820578474354.\u001b[0m\n",
      "\u001b[32m[I 2023-08-29 02:06:14,029]\u001b[0m Trial 88 finished with value: 0.39493797424293403 and parameters: {'C': 0.22370047533588816, 'epsilon': 0.12954655892894604, 'kernel': 'rbf', 'degree': 5}. Best is trial 65 with value: 0.46959820578474354.\u001b[0m\n",
      "\u001b[32m[I 2023-08-29 02:06:14,524]\u001b[0m Trial 89 finished with value: 0.463980783671598 and parameters: {'C': 10.84916715132392, 'epsilon': 0.27011824247475635, 'kernel': 'rbf', 'degree': 5}. Best is trial 65 with value: 0.46959820578474354.\u001b[0m\n",
      "\u001b[32m[I 2023-08-29 02:06:15,216]\u001b[0m Trial 90 finished with value: -2.8354687662088645 and parameters: {'C': 4.85641467425878, 'epsilon': 0.20889248124454401, 'kernel': 'poly', 'degree': 5}. Best is trial 65 with value: 0.46959820578474354.\u001b[0m\n",
      "\u001b[32m[I 2023-08-29 02:06:15,847]\u001b[0m Trial 91 finished with value: 0.46479908124165703 and parameters: {'C': 6.794514835601425, 'epsilon': 0.10571649165293621, 'kernel': 'rbf', 'degree': 5}. Best is trial 65 with value: 0.46959820578474354.\u001b[0m\n",
      "\u001b[32m[I 2023-08-29 02:06:16,408]\u001b[0m Trial 92 finished with value: 0.4677705903439966 and parameters: {'C': 5.533984392810077, 'epsilon': 0.14679555412775544, 'kernel': 'rbf', 'degree': 3}. Best is trial 65 with value: 0.46959820578474354.\u001b[0m\n",
      "\u001b[32m[I 2023-08-29 02:06:16,967]\u001b[0m Trial 93 finished with value: 0.46832028659881714 and parameters: {'C': 5.686043384950614, 'epsilon': 0.15056104223731623, 'kernel': 'rbf', 'degree': 5}. Best is trial 65 with value: 0.46959820578474354.\u001b[0m\n",
      "\u001b[32m[I 2023-08-29 02:06:17,501]\u001b[0m Trial 94 finished with value: 0.46638315892596244 and parameters: {'C': 4.369464767861402, 'epsilon': 0.14894937167532302, 'kernel': 'rbf', 'degree': 4}. Best is trial 65 with value: 0.46959820578474354.\u001b[0m\n",
      "\u001b[32m[I 2023-08-29 02:06:17,976]\u001b[0m Trial 95 finished with value: 0.459466005167598 and parameters: {'C': 2.511353888778934, 'epsilon': 0.17619574968951038, 'kernel': 'rbf', 'degree': 3}. Best is trial 65 with value: 0.46959820578474354.\u001b[0m\n",
      "\u001b[32m[I 2023-08-29 02:06:18,534]\u001b[0m Trial 96 finished with value: 0.46665737484471437 and parameters: {'C': 5.360839846392414, 'epsilon': 0.137568853158589, 'kernel': 'rbf', 'degree': 1}. Best is trial 65 with value: 0.46959820578474354.\u001b[0m\n",
      "\u001b[32m[I 2023-08-29 02:06:21,331]\u001b[0m Trial 97 finished with value: 0.19487572125703662 and parameters: {'C': 7.952184995656743, 'epsilon': 0.1579447703697561, 'kernel': 'linear', 'degree': 5}. Best is trial 65 with value: 0.46959820578474354.\u001b[0m\n",
      "\u001b[32m[I 2023-08-29 02:06:21,883]\u001b[0m Trial 98 finished with value: 0.4584469999217302 and parameters: {'C': 3.408616602687248, 'epsilon': 0.11525420641872267, 'kernel': 'rbf', 'degree': 2}. Best is trial 65 with value: 0.46959820578474354.\u001b[0m\n",
      "\u001b[32m[I 2023-08-29 02:06:22,457]\u001b[0m Trial 99 finished with value: 0.4636267273514809 and parameters: {'C': 4.3034785206924075, 'epsilon': 0.12664742561018147, 'kernel': 'rbf', 'degree': 5}. Best is trial 65 with value: 0.46959820578474354.\u001b[0m\n"
     ]
    },
    {
     "name": "stdout",
     "output_type": "stream",
     "text": [
      "Best r2:  0.46959820578474354\n",
      "Best trial: {'C': 6.001437713347997, 'epsilon': 0.18240136592398828, 'kernel': 'rbf', 'degree': 5}\n"
     ]
    }
   ],
   "source": [
    "sampler = TPESampler()\n",
    "study = optuna.create_study(\n",
    "    study_name=\"svm_parameter_opt\",\n",
    "    direction=\"maximize\",\n",
    "    sampler=sampler,\n",
    ")\n",
    "\n",
    "study.optimize(lambda trial : objectiveSVM(trial, As_X_train, As_y_train), n_trials=100)\n",
    "print(\"Best r2: \", study.best_value)\n",
    "print(\"Best trial:\", study.best_trial.params)"
   ]
  },
  {
   "cell_type": "code",
   "execution_count": 100,
   "id": "ded0e0f8",
   "metadata": {},
   "outputs": [
    {
     "data": {
      "application/vnd.plotly.v1+json": {
       "config": {
        "plotlyServerURL": "https://plot.ly"
       },
       "data": [
        {
         "dimensions": [
          {
           "label": "Objective Value",
           "range": [
            -5.742721683307551,
            0.46959820578474354
           ],
           "values": [
            0.2705176723694742,
            0.35157362649186874,
            0.20207923682676704,
            0.19270567088230667,
            0.41484042324254455,
            0.19634574052176948,
            0.20085794899076231,
            0.19388339244573957,
            0.35693241236385764,
            0.1950069010892594,
            0.19258209543975013,
            0.3676337438606959,
            0.37954030522762994,
            0.42459980978696044,
            0.09866183378514944,
            0.44425492193417837,
            0.45171930937271637,
            0.4542063321194817,
            0.19703257636233198,
            0.4551572058890877,
            0.4601238359093746,
            0.45868057467484463,
            0.45740897756994253,
            0.45329994712958543,
            0.32098923956866876,
            -2.454462552843138,
            0.4592579329459411,
            0.46756007139969746,
            0.39273769246524404,
            0.4615235695250986,
            -5.742721683307551,
            0.43230944852042785,
            0.4601284161955367,
            0.4602525106725287,
            0.46051280613305823,
            0.4304555044882874,
            0.38720561394555464,
            0.4601085351714752,
            0.4572160753329363,
            0.1940198696420983,
            0.19623810769602196,
            0.4587531423445288,
            0.46215118551981665,
            0.46186131769355204,
            0.45420813473871907,
            0.46830845370112106,
            0.4682603337169387,
            0.1947403022945226,
            0.4670409164618194,
            0.2638322713813059,
            0.4662276669582819,
            0.46566919250721284,
            0.4667812935510874,
            0.46633214205505646,
            0.46524496263422177,
            0.45529241008597127,
            0.4487849794375009,
            0.19583446363005325,
            0.4371714990828871,
            0.4491828027100295,
            -1.6409060140282428,
            0.46758263116344273,
            0.45202014462583406,
            0.4562954470380715,
            0.4644192649580198,
            0.46959820578474354,
            0.46414060232290755,
            0.46757606224833753,
            0.46780975896778026,
            0.45847982455832703,
            -0.401092684211105,
            0.4662562053513689,
            0.4626515420165457,
            0.45295708621993747,
            0.4679594306554913,
            0.46404473540259994,
            0.3611138648938148,
            0.4656320782538853,
            0.19607768939070883,
            0.4649931837809474,
            0.46748052447507876,
            0.4676069053694329,
            0.448799927921649,
            0.4682455640987807,
            0.46141913327408945,
            0.464064965861577,
            0.4582909481219845,
            0.46468323828170577,
            0.39493797424293403,
            0.463980783671598,
            -2.8354687662088645,
            0.46479908124165703,
            0.4677705903439966,
            0.46832028659881714,
            0.46638315892596244,
            0.459466005167598,
            0.46665737484471437,
            0.19487572125703662,
            0.4584469999217302,
            0.4636267273514809
           ]
          },
          {
           "label": "C",
           "range": [
            -0.9449455717439524,
            1.9760354519341903
           ],
           "ticktext": [
            "0.114",
            "1",
            "10",
            "94.6"
           ],
           "tickvals": [
            -0.9449455717439524,
            0,
            1,
            1.9760354519341903
           ],
           "values": [
            1.9760354519341903,
            -0.290951893496549,
            0.6542715367146041,
            1.0298189980613357,
            -0.4336852320357452,
            1.9757343205647682,
            0.27038247515358776,
            -0.6110828963386222,
            -0.9449455717439524,
            0.7719829066531134,
            -0.0569713602176515,
            -0.8808411799171839,
            -0.7959598060874798,
            -0.3000710999055391,
            -0.22168458738675653,
            0.010793288566953708,
            0.18192095927700278,
            0.2181316315595944,
            1.1832192184606471,
            0.3253727093627545,
            0.39466253412253816,
            0.37254673282790746,
            0.4662075602563734,
            1.084467159318472,
            0.6623442676669894,
            1.4192383028526245,
            0.5079089070089751,
            0.86826533000584,
            1.6153889944095938,
            0.9330562009690492,
            0.8601483045230356,
            1.3352455940189387,
            0.9051724399269075,
            0.8863208569606517,
            0.8851591293848888,
            1.2656215619116258,
            1.5825876179211542,
            0.6569392794420921,
            1.000253264814005,
            1.498699968088249,
            1.145337259620673,
            0.9109379940623211,
            0.8176140602453994,
            0.7500992331245095,
            0.543398755803189,
            0.7628045632400704,
            0.7468615826823368,
            0.7464241574486365,
            0.5920896438991594,
            0.08359954380398192,
            0.5682785339092772,
            0.5503185642766881,
            0.5834197323536077,
            0.6062430678205046,
            0.6786191131927504,
            0.40597318825914375,
            0.20541780419599867,
            0.9963953735676648,
            -0.1674078950628244,
            0.10517616219434343,
            0.6318843504850925,
            0.5945718874083413,
            0.31216043364519613,
            0.4583831923161003,
            0.7241834739158419,
            0.7782553030799112,
            1.0875675728228518,
            0.7718393269662556,
            0.8007950644489855,
            1.2248238744530002,
            0.7807388395324781,
            0.9855005012495466,
            0.800941154418458,
            1.0928075871417133,
            0.6910560159662431,
            0.46229614325406776,
            1.8309701324200407,
            0.7005302973236736,
            0.8034686335655579,
            0.9311400226605937,
            1.0331446150891481,
            1.0301571221279686,
            1.3035439487598794,
            0.8365431608119664,
            0.8589784370757332,
            1.132665467694165,
            0.959007048938309,
            0.5074151671166299,
            -0.6503330930802413,
            1.0353964003534752,
            0.6863157627157721,
            0.8321584512460499,
            0.7430379299899676,
            0.7548101690675374,
            0.6404282418673359,
            0.3999079158648932,
            0.7292328329915869,
            0.9004864747165163,
            0.5325781550272979,
            0.6338196396781076
           ]
          },
          {
           "label": "degree",
           "range": [
            1,
            5
           ],
           "values": [
            3,
            4,
            5,
            4,
            4,
            4,
            5,
            1,
            3,
            5,
            1,
            3,
            2,
            2,
            2,
            2,
            2,
            2,
            1,
            2,
            3,
            3,
            3,
            3,
            3,
            4,
            3,
            3,
            4,
            3,
            3,
            3,
            3,
            4,
            4,
            4,
            4,
            5,
            4,
            5,
            4,
            4,
            4,
            4,
            5,
            4,
            5,
            5,
            5,
            5,
            5,
            5,
            5,
            5,
            5,
            5,
            5,
            5,
            5,
            5,
            5,
            5,
            5,
            5,
            5,
            5,
            5,
            5,
            5,
            5,
            4,
            5,
            5,
            5,
            5,
            5,
            5,
            4,
            3,
            4,
            5,
            5,
            5,
            5,
            5,
            5,
            5,
            5,
            5,
            5,
            5,
            5,
            3,
            5,
            4,
            3,
            1,
            5,
            2,
            5
           ]
          },
          {
           "label": "epsilon",
           "range": [
            -1.9999179248302716,
            -0.02185003680244385
           ],
           "ticktext": [
            "0.01",
            "0.1",
            "0.951"
           ],
           "tickvals": [
            -1.9999179248302716,
            -1,
            -0.02185003680244385
           ],
           "values": [
            -1.0130334114818371,
            -0.14520819452336664,
            -0.25035765782135017,
            -1.8738715724987092,
            -1.4227669952603805,
            -0.16443996446834575,
            -0.22812108134154419,
            -0.7874924201333254,
            -1.8205884621791306,
            -1.145927348211166,
            -1.4891062621711355,
            -1.9000821786309774,
            -1.4991982281882856,
            -1.380136966880364,
            -1.3674096499391208,
            -0.6894869263983736,
            -0.6777415047296186,
            -0.6343774935396131,
            -0.6594788653930465,
            -0.4453788818626053,
            -0.47994352327270495,
            -0.4707439281352571,
            -0.4181731977197247,
            -0.3793283684424275,
            -0.02185003680244385,
            -0.46885816367464506,
            -0.8664725183052984,
            -0.9090695280576531,
            -0.9050768333583784,
            -1.0999667771397155,
            -1.0837484221775615,
            -0.9323126582703402,
            -1.2057502649794645,
            -1.215602230558274,
            -1.198948652284644,
            -1.672800692639869,
            -1.2463438084917178,
            -1.0370146236015045,
            -1.2305737783354063,
            -1.6217276760436328,
            -0.9993987537586271,
            -1.2643386226689581,
            -1.1176501802066325,
            -1.0726657160545403,
            -1.1118315109972507,
            -0.7839895296488131,
            -0.8168768329151249,
            -0.7943281711676435,
            -0.783282455800733,
            -0.5758069841742458,
            -0.7865884900335492,
            -0.7842620800530548,
            -0.7828941313346214,
            -0.8190025880255414,
            -0.5630503984371932,
            -0.8434387221414242,
            -0.9624404857184186,
            -0.7257744747828868,
            -0.6193015195725612,
            -0.7161079018186056,
            -0.2969733231334804,
            -0.7592384354406836,
            -0.8426057762657035,
            -0.9146129457233468,
            -0.5319865499064937,
            -0.7389719137541506,
            -0.7345585611001657,
            -0.6375864918732075,
            -0.6337755609401272,
            -0.6422192601233415,
            -1.9999179248302716,
            -0.8768245190612315,
            -0.5224194184443793,
            -0.3788700321335618,
            -0.6895800702636569,
            -0.6237731978489774,
            -0.6930087124961227,
            -0.5998152690158084,
            -1.014743526756004,
            -0.9584017553665255,
            -0.6800189874444916,
            -0.6637718569944856,
            -0.7265100787964935,
            -0.8878930454017115,
            -0.4957268596068798,
            -0.655973161109121,
            -0.41916143402656253,
            -0.7505244170034348,
            -0.887574118440552,
            -0.5684460846811543,
            -0.6800771914834073,
            -0.9758572579604221,
            -0.8332870973288126,
            -0.8222873875648748,
            -0.8269613244631411,
            -0.7540045721365457,
            -0.86147988319749,
            -0.8014947492280136,
            -0.9383432152562949,
            -0.8974036337822823
           ]
          },
          {
           "label": "kernel",
           "range": [
            0,
            2
           ],
           "ticktext": [
            "rbf",
            "linear",
            "poly"
           ],
           "tickvals": [
            0,
            1,
            2
           ],
           "values": [
            0,
            0,
            1,
            1,
            0,
            1,
            1,
            1,
            0,
            1,
            2,
            0,
            0,
            0,
            2,
            0,
            0,
            0,
            2,
            0,
            0,
            0,
            0,
            0,
            0,
            2,
            0,
            0,
            0,
            0,
            2,
            0,
            0,
            0,
            0,
            0,
            0,
            0,
            0,
            1,
            1,
            0,
            0,
            0,
            0,
            0,
            0,
            1,
            0,
            2,
            0,
            0,
            0,
            0,
            0,
            0,
            0,
            1,
            0,
            0,
            2,
            0,
            0,
            0,
            0,
            0,
            0,
            0,
            0,
            0,
            2,
            0,
            0,
            0,
            0,
            0,
            0,
            0,
            1,
            0,
            0,
            0,
            0,
            0,
            0,
            0,
            0,
            0,
            0,
            0,
            2,
            0,
            0,
            0,
            0,
            0,
            0,
            1,
            0,
            0
           ]
          }
         ],
         "labelangle": 30,
         "labelside": "bottom",
         "line": {
          "color": [
           0.2705176723694742,
           0.35157362649186874,
           0.20207923682676704,
           0.19270567088230667,
           0.41484042324254455,
           0.19634574052176948,
           0.20085794899076231,
           0.19388339244573957,
           0.35693241236385764,
           0.1950069010892594,
           0.19258209543975013,
           0.3676337438606959,
           0.37954030522762994,
           0.42459980978696044,
           0.09866183378514944,
           0.44425492193417837,
           0.45171930937271637,
           0.4542063321194817,
           0.19703257636233198,
           0.4551572058890877,
           0.4601238359093746,
           0.45868057467484463,
           0.45740897756994253,
           0.45329994712958543,
           0.32098923956866876,
           -2.454462552843138,
           0.4592579329459411,
           0.46756007139969746,
           0.39273769246524404,
           0.4615235695250986,
           -5.742721683307551,
           0.43230944852042785,
           0.4601284161955367,
           0.4602525106725287,
           0.46051280613305823,
           0.4304555044882874,
           0.38720561394555464,
           0.4601085351714752,
           0.4572160753329363,
           0.1940198696420983,
           0.19623810769602196,
           0.4587531423445288,
           0.46215118551981665,
           0.46186131769355204,
           0.45420813473871907,
           0.46830845370112106,
           0.4682603337169387,
           0.1947403022945226,
           0.4670409164618194,
           0.2638322713813059,
           0.4662276669582819,
           0.46566919250721284,
           0.4667812935510874,
           0.46633214205505646,
           0.46524496263422177,
           0.45529241008597127,
           0.4487849794375009,
           0.19583446363005325,
           0.4371714990828871,
           0.4491828027100295,
           -1.6409060140282428,
           0.46758263116344273,
           0.45202014462583406,
           0.4562954470380715,
           0.4644192649580198,
           0.46959820578474354,
           0.46414060232290755,
           0.46757606224833753,
           0.46780975896778026,
           0.45847982455832703,
           -0.401092684211105,
           0.4662562053513689,
           0.4626515420165457,
           0.45295708621993747,
           0.4679594306554913,
           0.46404473540259994,
           0.3611138648938148,
           0.4656320782538853,
           0.19607768939070883,
           0.4649931837809474,
           0.46748052447507876,
           0.4676069053694329,
           0.448799927921649,
           0.4682455640987807,
           0.46141913327408945,
           0.464064965861577,
           0.4582909481219845,
           0.46468323828170577,
           0.39493797424293403,
           0.463980783671598,
           -2.8354687662088645,
           0.46479908124165703,
           0.4677705903439966,
           0.46832028659881714,
           0.46638315892596244,
           0.459466005167598,
           0.46665737484471437,
           0.19487572125703662,
           0.4584469999217302,
           0.4636267273514809
          ],
          "colorbar": {
           "title": {
            "text": "Objective Value"
           }
          },
          "colorscale": [
           [
            0,
            "rgb(247,251,255)"
           ],
           [
            0.125,
            "rgb(222,235,247)"
           ],
           [
            0.25,
            "rgb(198,219,239)"
           ],
           [
            0.375,
            "rgb(158,202,225)"
           ],
           [
            0.5,
            "rgb(107,174,214)"
           ],
           [
            0.625,
            "rgb(66,146,198)"
           ],
           [
            0.75,
            "rgb(33,113,181)"
           ],
           [
            0.875,
            "rgb(8,81,156)"
           ],
           [
            1,
            "rgb(8,48,107)"
           ]
          ],
          "reversescale": false,
          "showscale": true
         },
         "type": "parcoords"
        }
       ],
       "layout": {
        "template": {
         "data": {
          "bar": [
           {
            "error_x": {
             "color": "#2a3f5f"
            },
            "error_y": {
             "color": "#2a3f5f"
            },
            "marker": {
             "line": {
              "color": "#E5ECF6",
              "width": 0.5
             },
             "pattern": {
              "fillmode": "overlay",
              "size": 10,
              "solidity": 0.2
             }
            },
            "type": "bar"
           }
          ],
          "barpolar": [
           {
            "marker": {
             "line": {
              "color": "#E5ECF6",
              "width": 0.5
             },
             "pattern": {
              "fillmode": "overlay",
              "size": 10,
              "solidity": 0.2
             }
            },
            "type": "barpolar"
           }
          ],
          "carpet": [
           {
            "aaxis": {
             "endlinecolor": "#2a3f5f",
             "gridcolor": "white",
             "linecolor": "white",
             "minorgridcolor": "white",
             "startlinecolor": "#2a3f5f"
            },
            "baxis": {
             "endlinecolor": "#2a3f5f",
             "gridcolor": "white",
             "linecolor": "white",
             "minorgridcolor": "white",
             "startlinecolor": "#2a3f5f"
            },
            "type": "carpet"
           }
          ],
          "choropleth": [
           {
            "colorbar": {
             "outlinewidth": 0,
             "ticks": ""
            },
            "type": "choropleth"
           }
          ],
          "contour": [
           {
            "colorbar": {
             "outlinewidth": 0,
             "ticks": ""
            },
            "colorscale": [
             [
              0,
              "#0d0887"
             ],
             [
              0.1111111111111111,
              "#46039f"
             ],
             [
              0.2222222222222222,
              "#7201a8"
             ],
             [
              0.3333333333333333,
              "#9c179e"
             ],
             [
              0.4444444444444444,
              "#bd3786"
             ],
             [
              0.5555555555555556,
              "#d8576b"
             ],
             [
              0.6666666666666666,
              "#ed7953"
             ],
             [
              0.7777777777777778,
              "#fb9f3a"
             ],
             [
              0.8888888888888888,
              "#fdca26"
             ],
             [
              1,
              "#f0f921"
             ]
            ],
            "type": "contour"
           }
          ],
          "contourcarpet": [
           {
            "colorbar": {
             "outlinewidth": 0,
             "ticks": ""
            },
            "type": "contourcarpet"
           }
          ],
          "heatmap": [
           {
            "colorbar": {
             "outlinewidth": 0,
             "ticks": ""
            },
            "colorscale": [
             [
              0,
              "#0d0887"
             ],
             [
              0.1111111111111111,
              "#46039f"
             ],
             [
              0.2222222222222222,
              "#7201a8"
             ],
             [
              0.3333333333333333,
              "#9c179e"
             ],
             [
              0.4444444444444444,
              "#bd3786"
             ],
             [
              0.5555555555555556,
              "#d8576b"
             ],
             [
              0.6666666666666666,
              "#ed7953"
             ],
             [
              0.7777777777777778,
              "#fb9f3a"
             ],
             [
              0.8888888888888888,
              "#fdca26"
             ],
             [
              1,
              "#f0f921"
             ]
            ],
            "type": "heatmap"
           }
          ],
          "heatmapgl": [
           {
            "colorbar": {
             "outlinewidth": 0,
             "ticks": ""
            },
            "colorscale": [
             [
              0,
              "#0d0887"
             ],
             [
              0.1111111111111111,
              "#46039f"
             ],
             [
              0.2222222222222222,
              "#7201a8"
             ],
             [
              0.3333333333333333,
              "#9c179e"
             ],
             [
              0.4444444444444444,
              "#bd3786"
             ],
             [
              0.5555555555555556,
              "#d8576b"
             ],
             [
              0.6666666666666666,
              "#ed7953"
             ],
             [
              0.7777777777777778,
              "#fb9f3a"
             ],
             [
              0.8888888888888888,
              "#fdca26"
             ],
             [
              1,
              "#f0f921"
             ]
            ],
            "type": "heatmapgl"
           }
          ],
          "histogram": [
           {
            "marker": {
             "pattern": {
              "fillmode": "overlay",
              "size": 10,
              "solidity": 0.2
             }
            },
            "type": "histogram"
           }
          ],
          "histogram2d": [
           {
            "colorbar": {
             "outlinewidth": 0,
             "ticks": ""
            },
            "colorscale": [
             [
              0,
              "#0d0887"
             ],
             [
              0.1111111111111111,
              "#46039f"
             ],
             [
              0.2222222222222222,
              "#7201a8"
             ],
             [
              0.3333333333333333,
              "#9c179e"
             ],
             [
              0.4444444444444444,
              "#bd3786"
             ],
             [
              0.5555555555555556,
              "#d8576b"
             ],
             [
              0.6666666666666666,
              "#ed7953"
             ],
             [
              0.7777777777777778,
              "#fb9f3a"
             ],
             [
              0.8888888888888888,
              "#fdca26"
             ],
             [
              1,
              "#f0f921"
             ]
            ],
            "type": "histogram2d"
           }
          ],
          "histogram2dcontour": [
           {
            "colorbar": {
             "outlinewidth": 0,
             "ticks": ""
            },
            "colorscale": [
             [
              0,
              "#0d0887"
             ],
             [
              0.1111111111111111,
              "#46039f"
             ],
             [
              0.2222222222222222,
              "#7201a8"
             ],
             [
              0.3333333333333333,
              "#9c179e"
             ],
             [
              0.4444444444444444,
              "#bd3786"
             ],
             [
              0.5555555555555556,
              "#d8576b"
             ],
             [
              0.6666666666666666,
              "#ed7953"
             ],
             [
              0.7777777777777778,
              "#fb9f3a"
             ],
             [
              0.8888888888888888,
              "#fdca26"
             ],
             [
              1,
              "#f0f921"
             ]
            ],
            "type": "histogram2dcontour"
           }
          ],
          "mesh3d": [
           {
            "colorbar": {
             "outlinewidth": 0,
             "ticks": ""
            },
            "type": "mesh3d"
           }
          ],
          "parcoords": [
           {
            "line": {
             "colorbar": {
              "outlinewidth": 0,
              "ticks": ""
             }
            },
            "type": "parcoords"
           }
          ],
          "pie": [
           {
            "automargin": true,
            "type": "pie"
           }
          ],
          "scatter": [
           {
            "marker": {
             "colorbar": {
              "outlinewidth": 0,
              "ticks": ""
             }
            },
            "type": "scatter"
           }
          ],
          "scatter3d": [
           {
            "line": {
             "colorbar": {
              "outlinewidth": 0,
              "ticks": ""
             }
            },
            "marker": {
             "colorbar": {
              "outlinewidth": 0,
              "ticks": ""
             }
            },
            "type": "scatter3d"
           }
          ],
          "scattercarpet": [
           {
            "marker": {
             "colorbar": {
              "outlinewidth": 0,
              "ticks": ""
             }
            },
            "type": "scattercarpet"
           }
          ],
          "scattergeo": [
           {
            "marker": {
             "colorbar": {
              "outlinewidth": 0,
              "ticks": ""
             }
            },
            "type": "scattergeo"
           }
          ],
          "scattergl": [
           {
            "marker": {
             "colorbar": {
              "outlinewidth": 0,
              "ticks": ""
             }
            },
            "type": "scattergl"
           }
          ],
          "scattermapbox": [
           {
            "marker": {
             "colorbar": {
              "outlinewidth": 0,
              "ticks": ""
             }
            },
            "type": "scattermapbox"
           }
          ],
          "scatterpolar": [
           {
            "marker": {
             "colorbar": {
              "outlinewidth": 0,
              "ticks": ""
             }
            },
            "type": "scatterpolar"
           }
          ],
          "scatterpolargl": [
           {
            "marker": {
             "colorbar": {
              "outlinewidth": 0,
              "ticks": ""
             }
            },
            "type": "scatterpolargl"
           }
          ],
          "scatterternary": [
           {
            "marker": {
             "colorbar": {
              "outlinewidth": 0,
              "ticks": ""
             }
            },
            "type": "scatterternary"
           }
          ],
          "surface": [
           {
            "colorbar": {
             "outlinewidth": 0,
             "ticks": ""
            },
            "colorscale": [
             [
              0,
              "#0d0887"
             ],
             [
              0.1111111111111111,
              "#46039f"
             ],
             [
              0.2222222222222222,
              "#7201a8"
             ],
             [
              0.3333333333333333,
              "#9c179e"
             ],
             [
              0.4444444444444444,
              "#bd3786"
             ],
             [
              0.5555555555555556,
              "#d8576b"
             ],
             [
              0.6666666666666666,
              "#ed7953"
             ],
             [
              0.7777777777777778,
              "#fb9f3a"
             ],
             [
              0.8888888888888888,
              "#fdca26"
             ],
             [
              1,
              "#f0f921"
             ]
            ],
            "type": "surface"
           }
          ],
          "table": [
           {
            "cells": {
             "fill": {
              "color": "#EBF0F8"
             },
             "line": {
              "color": "white"
             }
            },
            "header": {
             "fill": {
              "color": "#C8D4E3"
             },
             "line": {
              "color": "white"
             }
            },
            "type": "table"
           }
          ]
         },
         "layout": {
          "annotationdefaults": {
           "arrowcolor": "#2a3f5f",
           "arrowhead": 0,
           "arrowwidth": 1
          },
          "autotypenumbers": "strict",
          "coloraxis": {
           "colorbar": {
            "outlinewidth": 0,
            "ticks": ""
           }
          },
          "colorscale": {
           "diverging": [
            [
             0,
             "#8e0152"
            ],
            [
             0.1,
             "#c51b7d"
            ],
            [
             0.2,
             "#de77ae"
            ],
            [
             0.3,
             "#f1b6da"
            ],
            [
             0.4,
             "#fde0ef"
            ],
            [
             0.5,
             "#f7f7f7"
            ],
            [
             0.6,
             "#e6f5d0"
            ],
            [
             0.7,
             "#b8e186"
            ],
            [
             0.8,
             "#7fbc41"
            ],
            [
             0.9,
             "#4d9221"
            ],
            [
             1,
             "#276419"
            ]
           ],
           "sequential": [
            [
             0,
             "#0d0887"
            ],
            [
             0.1111111111111111,
             "#46039f"
            ],
            [
             0.2222222222222222,
             "#7201a8"
            ],
            [
             0.3333333333333333,
             "#9c179e"
            ],
            [
             0.4444444444444444,
             "#bd3786"
            ],
            [
             0.5555555555555556,
             "#d8576b"
            ],
            [
             0.6666666666666666,
             "#ed7953"
            ],
            [
             0.7777777777777778,
             "#fb9f3a"
            ],
            [
             0.8888888888888888,
             "#fdca26"
            ],
            [
             1,
             "#f0f921"
            ]
           ],
           "sequentialminus": [
            [
             0,
             "#0d0887"
            ],
            [
             0.1111111111111111,
             "#46039f"
            ],
            [
             0.2222222222222222,
             "#7201a8"
            ],
            [
             0.3333333333333333,
             "#9c179e"
            ],
            [
             0.4444444444444444,
             "#bd3786"
            ],
            [
             0.5555555555555556,
             "#d8576b"
            ],
            [
             0.6666666666666666,
             "#ed7953"
            ],
            [
             0.7777777777777778,
             "#fb9f3a"
            ],
            [
             0.8888888888888888,
             "#fdca26"
            ],
            [
             1,
             "#f0f921"
            ]
           ]
          },
          "colorway": [
           "#636efa",
           "#EF553B",
           "#00cc96",
           "#ab63fa",
           "#FFA15A",
           "#19d3f3",
           "#FF6692",
           "#B6E880",
           "#FF97FF",
           "#FECB52"
          ],
          "font": {
           "color": "#2a3f5f"
          },
          "geo": {
           "bgcolor": "white",
           "lakecolor": "white",
           "landcolor": "#E5ECF6",
           "showlakes": true,
           "showland": true,
           "subunitcolor": "white"
          },
          "hoverlabel": {
           "align": "left"
          },
          "hovermode": "closest",
          "mapbox": {
           "style": "light"
          },
          "paper_bgcolor": "white",
          "plot_bgcolor": "#E5ECF6",
          "polar": {
           "angularaxis": {
            "gridcolor": "white",
            "linecolor": "white",
            "ticks": ""
           },
           "bgcolor": "#E5ECF6",
           "radialaxis": {
            "gridcolor": "white",
            "linecolor": "white",
            "ticks": ""
           }
          },
          "scene": {
           "xaxis": {
            "backgroundcolor": "#E5ECF6",
            "gridcolor": "white",
            "gridwidth": 2,
            "linecolor": "white",
            "showbackground": true,
            "ticks": "",
            "zerolinecolor": "white"
           },
           "yaxis": {
            "backgroundcolor": "#E5ECF6",
            "gridcolor": "white",
            "gridwidth": 2,
            "linecolor": "white",
            "showbackground": true,
            "ticks": "",
            "zerolinecolor": "white"
           },
           "zaxis": {
            "backgroundcolor": "#E5ECF6",
            "gridcolor": "white",
            "gridwidth": 2,
            "linecolor": "white",
            "showbackground": true,
            "ticks": "",
            "zerolinecolor": "white"
           }
          },
          "shapedefaults": {
           "line": {
            "color": "#2a3f5f"
           }
          },
          "ternary": {
           "aaxis": {
            "gridcolor": "white",
            "linecolor": "white",
            "ticks": ""
           },
           "baxis": {
            "gridcolor": "white",
            "linecolor": "white",
            "ticks": ""
           },
           "bgcolor": "#E5ECF6",
           "caxis": {
            "gridcolor": "white",
            "linecolor": "white",
            "ticks": ""
           }
          },
          "title": {
           "x": 0.05
          },
          "xaxis": {
           "automargin": true,
           "gridcolor": "white",
           "linecolor": "white",
           "ticks": "",
           "title": {
            "standoff": 15
           },
           "zerolinecolor": "white",
           "zerolinewidth": 2
          },
          "yaxis": {
           "automargin": true,
           "gridcolor": "white",
           "linecolor": "white",
           "ticks": "",
           "title": {
            "standoff": 15
           },
           "zerolinecolor": "white",
           "zerolinewidth": 2
          }
         }
        },
        "title": {
         "text": "Parallel Coordinate Plot"
        }
       }
      }
     },
     "metadata": {},
     "output_type": "display_data"
    }
   ],
   "source": [
    "optuna.visualization.plot_parallel_coordinate(study)"
   ]
  },
  {
   "cell_type": "code",
   "execution_count": 101,
   "id": "75db1ddf",
   "metadata": {},
   "outputs": [
    {
     "name": "stdout",
     "output_type": "stream",
     "text": [
      "Best trial: {'C': 6.001437713347997, 'epsilon': 0.18240136592398828, 'kernel': 'rbf', 'degree': 5}\n"
     ]
    }
   ],
   "source": [
    "print(\"Best trial:\", study.best_trial.params)"
   ]
  },
  {
   "cell_type": "code",
   "execution_count": 102,
   "id": "862eadd2",
   "metadata": {},
   "outputs": [
    {
     "data": {
      "text/html": [
       "<style>#sk-container-id-2 {color: black;}#sk-container-id-2 pre{padding: 0;}#sk-container-id-2 div.sk-toggleable {background-color: white;}#sk-container-id-2 label.sk-toggleable__label {cursor: pointer;display: block;width: 100%;margin-bottom: 0;padding: 0.3em;box-sizing: border-box;text-align: center;}#sk-container-id-2 label.sk-toggleable__label-arrow:before {content: \"▸\";float: left;margin-right: 0.25em;color: #696969;}#sk-container-id-2 label.sk-toggleable__label-arrow:hover:before {color: black;}#sk-container-id-2 div.sk-estimator:hover label.sk-toggleable__label-arrow:before {color: black;}#sk-container-id-2 div.sk-toggleable__content {max-height: 0;max-width: 0;overflow: hidden;text-align: left;background-color: #f0f8ff;}#sk-container-id-2 div.sk-toggleable__content pre {margin: 0.2em;color: black;border-radius: 0.25em;background-color: #f0f8ff;}#sk-container-id-2 input.sk-toggleable__control:checked~div.sk-toggleable__content {max-height: 200px;max-width: 100%;overflow: auto;}#sk-container-id-2 input.sk-toggleable__control:checked~label.sk-toggleable__label-arrow:before {content: \"▾\";}#sk-container-id-2 div.sk-estimator input.sk-toggleable__control:checked~label.sk-toggleable__label {background-color: #d4ebff;}#sk-container-id-2 div.sk-label input.sk-toggleable__control:checked~label.sk-toggleable__label {background-color: #d4ebff;}#sk-container-id-2 input.sk-hidden--visually {border: 0;clip: rect(1px 1px 1px 1px);clip: rect(1px, 1px, 1px, 1px);height: 1px;margin: -1px;overflow: hidden;padding: 0;position: absolute;width: 1px;}#sk-container-id-2 div.sk-estimator {font-family: monospace;background-color: #f0f8ff;border: 1px dotted black;border-radius: 0.25em;box-sizing: border-box;margin-bottom: 0.5em;}#sk-container-id-2 div.sk-estimator:hover {background-color: #d4ebff;}#sk-container-id-2 div.sk-parallel-item::after {content: \"\";width: 100%;border-bottom: 1px solid gray;flex-grow: 1;}#sk-container-id-2 div.sk-label:hover label.sk-toggleable__label {background-color: #d4ebff;}#sk-container-id-2 div.sk-serial::before {content: \"\";position: absolute;border-left: 1px solid gray;box-sizing: border-box;top: 0;bottom: 0;left: 50%;z-index: 0;}#sk-container-id-2 div.sk-serial {display: flex;flex-direction: column;align-items: center;background-color: white;padding-right: 0.2em;padding-left: 0.2em;position: relative;}#sk-container-id-2 div.sk-item {position: relative;z-index: 1;}#sk-container-id-2 div.sk-parallel {display: flex;align-items: stretch;justify-content: center;background-color: white;position: relative;}#sk-container-id-2 div.sk-item::before, #sk-container-id-2 div.sk-parallel-item::before {content: \"\";position: absolute;border-left: 1px solid gray;box-sizing: border-box;top: 0;bottom: 0;left: 50%;z-index: -1;}#sk-container-id-2 div.sk-parallel-item {display: flex;flex-direction: column;z-index: 1;position: relative;background-color: white;}#sk-container-id-2 div.sk-parallel-item:first-child::after {align-self: flex-end;width: 50%;}#sk-container-id-2 div.sk-parallel-item:last-child::after {align-self: flex-start;width: 50%;}#sk-container-id-2 div.sk-parallel-item:only-child::after {width: 0;}#sk-container-id-2 div.sk-dashed-wrapped {border: 1px dashed gray;margin: 0 0.4em 0.5em 0.4em;box-sizing: border-box;padding-bottom: 0.4em;background-color: white;}#sk-container-id-2 div.sk-label label {font-family: monospace;font-weight: bold;display: inline-block;line-height: 1.2em;}#sk-container-id-2 div.sk-label-container {text-align: center;}#sk-container-id-2 div.sk-container {/* jupyter's `normalize.less` sets `[hidden] { display: none; }` but bootstrap.min.css set `[hidden] { display: none !important; }` so we also need the `!important` here to be able to override the default hidden behavior on the sphinx rendered scikit-learn.org. See: https://github.com/scikit-learn/scikit-learn/issues/21755 */display: inline-block !important;position: relative;}#sk-container-id-2 div.sk-text-repr-fallback {display: none;}</style><div id=\"sk-container-id-2\" class=\"sk-top-container\"><div class=\"sk-text-repr-fallback\"><pre>SVR(C=6.001437713347997, degree=5, epsilon=0.18240136592398828)</pre><b>In a Jupyter environment, please rerun this cell to show the HTML representation or trust the notebook. <br />On GitHub, the HTML representation is unable to render, please try loading this page with nbviewer.org.</b></div><div class=\"sk-container\" hidden><div class=\"sk-item\"><div class=\"sk-estimator sk-toggleable\"><input class=\"sk-toggleable__control sk-hidden--visually\" id=\"sk-estimator-id-2\" type=\"checkbox\" checked><label for=\"sk-estimator-id-2\" class=\"sk-toggleable__label sk-toggleable__label-arrow\">SVR</label><div class=\"sk-toggleable__content\"><pre>SVR(C=6.001437713347997, degree=5, epsilon=0.18240136592398828)</pre></div></div></div></div></div>"
      ],
      "text/plain": [
       "SVR(C=6.001437713347997, degree=5, epsilon=0.18240136592398828)"
      ]
     },
     "execution_count": 102,
     "metadata": {},
     "output_type": "execute_result"
    }
   ],
   "source": [
    "svm_params = {\n",
    "    \"C\": study.best_trial.params[\"C\"],\n",
    "    \"epsilon\": study.best_trial.params[\"epsilon\"],\n",
    "    \"kernel\": study.best_trial.params[\"kernel\"],\n",
    "    \"degree\": study.best_trial.params[\"degree\"]\n",
    "}\n",
    "\n",
    "svm = SVR(**svm_params)\n",
    "svm.fit(As_X_train, As_y_train)"
   ]
  },
  {
   "cell_type": "code",
   "execution_count": 103,
   "id": "8577fb37",
   "metadata": {},
   "outputs": [],
   "source": [
    "y_train_pred = svm.predict(As_X_train)\n",
    "y_test_pred = svm.predict(As_X_test)"
   ]
  },
  {
   "cell_type": "code",
   "execution_count": null,
   "id": "2ea0526a",
   "metadata": {},
   "outputs": [],
   "source": [
    "# plt.scatter(y_train_pred, np.array(As_y_train))"
   ]
  },
  {
   "cell_type": "code",
   "execution_count": 104,
   "id": "d2a4dd85",
   "metadata": {},
   "outputs": [
    {
     "name": "stdout",
     "output_type": "stream",
     "text": [
      "Train RMSE:  0.43269689612639384\n",
      "Test RMSE:  0.594110027768976\n"
     ]
    }
   ],
   "source": [
    "print(\"Train RMSE: \", np.sqrt(mean_squared_error(As_y_train, y_train_pred)))\n",
    "print(\"Test RMSE: \", np.sqrt(mean_squared_error(As_y_test, y_test_pred)))"
   ]
  },
  {
   "cell_type": "code",
   "execution_count": 105,
   "id": "08fe787a",
   "metadata": {},
   "outputs": [
    {
     "name": "stdout",
     "output_type": "stream",
     "text": [
      "Train R2:  0.6653073712342545\n",
      "Test R2:  0.4640175868904526\n"
     ]
    }
   ],
   "source": [
    "print(\"Train R2: \", r2_score(As_y_train, y_train_pred))\n",
    "print(\"Test R2: \", r2_score(As_y_test, y_test_pred))"
   ]
  },
  {
   "cell_type": "code",
   "execution_count": 106,
   "id": "5ec4820c",
   "metadata": {},
   "outputs": [
    {
     "data": {
      "image/png": "[encoded data removed]",
      "text/plain": [
       "<Figure size 640x480 with 1 Axes>"
      ]
     },
     "metadata": {},
     "output_type": "display_data"
    }
   ],
   "source": [
    "plt.scatter(y_train_pred, np.array(As_y_train), color=\"orange\", alpha=0.3)\n",
    "plt.scatter(y_test_pred, np.array(As_y_test), color=\"green\", alpha=0.4)\n",
    "plt.axis(\"auto\") # scaled, tight, auto, image, square\n",
    "# plt.xlim([0, 1.5]) \n",
    "# plt.ylim(0, None) \n",
    "plt.xlabel('Predicted Values')\n",
    "plt.ylabel('Actual Values')\n",
    "\n",
    "# Add y=x line\n",
    "plt.plot([0, 2.0], [0, 2.0], color='red', linestyle='-')\n",
    "\n",
    "plt.show()"
   ]
  },
  {
   "cell_type": "code",
   "execution_count": 114,
   "id": "e654af66",
   "metadata": {},
   "outputs": [],
   "source": [
    "As_pred = pd.DataFrame(y_train_pred, columns = ['As_pred'])\n",
    "As_pred_test = pd.DataFrame(y_test_pred, columns = ['As_pred'])"
   ]
  },
  {
   "cell_type": "code",
   "execution_count": 109,
   "id": "b524278e",
   "metadata": {},
   "outputs": [],
   "source": [
    "As_y_train = As_y_train.reset_index(drop = False)\n",
    "As_y_test = As_y_test.reset_index(drop = False)"
   ]
  },
  {
   "cell_type": "code",
   "execution_count": 110,
   "id": "2c50ce0f",
   "metadata": {},
   "outputs": [],
   "source": [
    "As_data = pd.concat([As_pred, As_y_train], axis = 1)\n",
    "As_data_test = pd.concat([As_pred_test, As_y_test], axis = 1)"
   ]
  },
  {
   "cell_type": "code",
   "execution_count": 111,
   "id": "81ff41e0",
   "metadata": {},
   "outputs": [],
   "source": [
    "As_data.to_csv('SVM_As_data.csv', sep = ',')\n",
    "As_data_test.to_csv('SVM_As_test_data.csv', sep = ',')"
   ]
  },
  {
   "attachments": {},
   "cell_type": "markdown",
   "id": "e0507d63",
   "metadata": {},
   "source": [
    "Cd"
   ]
  },
  {
   "attachments": {},
   "cell_type": "markdown",
   "id": "f8f809d9",
   "metadata": {},
   "source": [
    "Optimization"
   ]
  },
  {
   "cell_type": "code",
   "execution_count": 119,
   "id": "b7aeaf0a",
   "metadata": {},
   "outputs": [
    {
     "name": "stderr",
     "output_type": "stream",
     "text": [
      "\u001b[32m[I 2023-08-29 02:26:23,015]\u001b[0m A new study created in memory with name: svm_parameter_opt\u001b[0m\n",
      "\u001b[32m[I 2023-08-29 02:26:23,028]\u001b[0m Trial 0 finished with value: -0.7121605581077811 and parameters: {'C': 0.5314705666949262, 'epsilon': 0.5644815645864951, 'kernel': 'poly', 'degree': 4}. Best is trial 0 with value: -0.7121605581077811.\u001b[0m\n",
      "\u001b[32m[I 2023-08-29 02:26:23,478]\u001b[0m Trial 1 finished with value: 0.4846030534482312 and parameters: {'C': 0.135196021043594, 'epsilon': 0.05144365347098477, 'kernel': 'rbf', 'degree': 4}. Best is trial 1 with value: 0.4846030534482312.\u001b[0m\n",
      "\u001b[32m[I 2023-08-29 02:26:24,884]\u001b[0m Trial 2 finished with value: 0.4517846632114151 and parameters: {'C': 32.634355795937566, 'epsilon': 0.07004805577039606, 'kernel': 'rbf', 'degree': 1}. Best is trial 1 with value: 0.4846030534482312.\u001b[0m\n",
      "\u001b[32m[I 2023-08-29 02:26:24,895]\u001b[0m Trial 3 finished with value: -0.7121605581077811 and parameters: {'C': 15.829578099617224, 'epsilon': 0.5062762144295885, 'kernel': 'linear', 'degree': 1}. Best is trial 1 with value: 0.4846030534482312.\u001b[0m\n",
      "\u001b[32m[I 2023-08-29 02:26:25,738]\u001b[0m Trial 4 finished with value: 0.5289982562351124 and parameters: {'C': 8.294449249167824, 'epsilon': 0.052816024947171705, 'kernel': 'rbf', 'degree': 1}. Best is trial 4 with value: 0.5289982562351124.\u001b[0m\n",
      "\u001b[32m[I 2023-08-29 02:26:25,750]\u001b[0m Trial 5 finished with value: -0.7121605581077811 and parameters: {'C': 0.806543942054755, 'epsilon': 0.6318823359959219, 'kernel': 'poly', 'degree': 2}. Best is trial 4 with value: 0.5289982562351124.\u001b[0m\n",
      "\u001b[32m[I 2023-08-29 02:26:26,027]\u001b[0m Trial 6 finished with value: 0.45554311253233165 and parameters: {'C': 0.10048303104714393, 'epsilon': 0.12236292999898911, 'kernel': 'rbf', 'degree': 4}. Best is trial 4 with value: 0.5289982562351124.\u001b[0m\n",
      "\u001b[32m[I 2023-08-29 02:26:26,315]\u001b[0m Trial 7 finished with value: 0.12728183542274193 and parameters: {'C': 1.1594797299207567, 'epsilon': 0.1428400932083663, 'kernel': 'poly', 'degree': 4}. Best is trial 4 with value: 0.5289982562351124.\u001b[0m\n",
      "\u001b[32m[I 2023-08-29 02:26:26,473]\u001b[0m Trial 8 finished with value: 0.26207882065374205 and parameters: {'C': 17.946261379818736, 'epsilon': 0.32340642529880037, 'kernel': 'rbf', 'degree': 1}. Best is trial 4 with value: 0.5289982562351124.\u001b[0m\n",
      "\u001b[32m[I 2023-08-29 02:26:26,485]\u001b[0m Trial 9 finished with value: -0.7121605581077811 and parameters: {'C': 0.3832811445864261, 'epsilon': 0.9741930454276799, 'kernel': 'rbf', 'degree': 3}. Best is trial 4 with value: 0.5289982562351124.\u001b[0m\n",
      "\u001b[32m[I 2023-08-29 02:26:32,643]\u001b[0m Trial 10 finished with value: 0.2629416811664522 and parameters: {'C': 5.040675878742741, 'epsilon': 0.011541752552783911, 'kernel': 'linear', 'degree': 2}. Best is trial 4 with value: 0.5289982562351124.\u001b[0m\n",
      "\u001b[32m[I 2023-08-29 02:26:36,235]\u001b[0m Trial 11 finished with value: 0.33418687802279634 and parameters: {'C': 87.53338202916102, 'epsilon': 0.036680781747393004, 'kernel': 'rbf', 'degree': 5}. Best is trial 4 with value: 0.5289982562351124.\u001b[0m\n",
      "\u001b[32m[I 2023-08-29 02:26:37,079]\u001b[0m Trial 12 finished with value: 0.5342758403715231 and parameters: {'C': 4.151204477195424, 'epsilon': 0.027037814793000606, 'kernel': 'rbf', 'degree': 3}. Best is trial 12 with value: 0.5342758403715231.\u001b[0m\n",
      "\u001b[32m[I 2023-08-29 02:26:37,958]\u001b[0m Trial 13 finished with value: 0.5319306118129077 and parameters: {'C': 3.717375816532421, 'epsilon': 0.021102151918446867, 'kernel': 'rbf', 'degree': 2}. Best is trial 12 with value: 0.5342758403715231.\u001b[0m\n",
      "\u001b[32m[I 2023-08-29 02:26:38,686]\u001b[0m Trial 14 finished with value: 0.527375013857862 and parameters: {'C': 1.8960575594997853, 'epsilon': 0.018856769029743946, 'kernel': 'rbf', 'degree': 3}. Best is trial 12 with value: 0.5342758403715231.\u001b[0m\n",
      "\u001b[32m[I 2023-08-29 02:26:42,659]\u001b[0m Trial 15 finished with value: 0.2654044264091701 and parameters: {'C': 2.9884316210260597, 'epsilon': 0.02346007177149303, 'kernel': 'linear', 'degree': 2}. Best is trial 12 with value: 0.5342758403715231.\u001b[0m\n",
      "\u001b[32m[I 2023-08-29 02:26:43,767]\u001b[0m Trial 16 finished with value: 0.5226667227607154 and parameters: {'C': 5.655956387260792, 'epsilon': 0.010038524229863111, 'kernel': 'rbf', 'degree': 3}. Best is trial 12 with value: 0.5342758403715231.\u001b[0m\n",
      "\u001b[32m[I 2023-08-29 02:26:44,462]\u001b[0m Trial 17 finished with value: 0.5299793927957634 and parameters: {'C': 1.951585391743895, 'epsilon': 0.024807229706118584, 'kernel': 'rbf', 'degree': 2}. Best is trial 12 with value: 0.5342758403715231.\u001b[0m\n",
      "\u001b[32m[I 2023-08-29 02:26:57,691]\u001b[0m Trial 18 finished with value: 0.2630314428727676 and parameters: {'C': 11.683201250492026, 'epsilon': 0.015534429901878729, 'kernel': 'linear', 'degree': 3}. Best is trial 12 with value: 0.5342758403715231.\u001b[0m\n",
      "\u001b[32m[I 2023-08-29 02:26:58,098]\u001b[0m Trial 19 finished with value: -9.868577749718053 and parameters: {'C': 33.25042015587246, 'epsilon': 0.18866419168505974, 'kernel': 'poly', 'degree': 5}. Best is trial 12 with value: 0.5342758403715231.\u001b[0m\n",
      "\u001b[32m[I 2023-08-29 02:26:58,627]\u001b[0m Trial 20 finished with value: 0.5033400181187121 and parameters: {'C': 0.22806109271002234, 'epsilon': 0.0320281062159453, 'kernel': 'rbf', 'degree': 2}. Best is trial 12 with value: 0.5342758403715231.\u001b[0m\n",
      "\u001b[32m[I 2023-08-29 02:26:59,288]\u001b[0m Trial 21 finished with value: 0.5314534854989402 and parameters: {'C': 1.8523281845373736, 'epsilon': 0.027674251760497485, 'kernel': 'rbf', 'degree': 2}. Best is trial 12 with value: 0.5342758403715231.\u001b[0m\n",
      "\u001b[32m[I 2023-08-29 02:26:59,816]\u001b[0m Trial 22 finished with value: 0.5435200737813694 and parameters: {'C': 3.2450413634705297, 'epsilon': 0.07000836785713246, 'kernel': 'rbf', 'degree': 3}. Best is trial 22 with value: 0.5435200737813694.\u001b[0m\n",
      "\u001b[32m[I 2023-08-29 02:27:00,318]\u001b[0m Trial 23 finished with value: 0.5437954007472643 and parameters: {'C': 3.7572919241000817, 'epsilon': 0.07933158657461031, 'kernel': 'rbf', 'degree': 3}. Best is trial 23 with value: 0.5437954007472643.\u001b[0m\n",
      "\u001b[32m[I 2023-08-29 02:27:00,938]\u001b[0m Trial 24 finished with value: 0.5293861937980993 and parameters: {'C': 7.570801275806346, 'epsilon': 0.08313869573037815, 'kernel': 'rbf', 'degree': 3}. Best is trial 23 with value: 0.5437954007472643.\u001b[0m\n",
      "\u001b[32m[I 2023-08-29 02:27:01,560]\u001b[0m Trial 25 finished with value: 0.5414203298748287 and parameters: {'C': 3.058670792123682, 'epsilon': 0.04781940029994681, 'kernel': 'rbf', 'degree': 4}. Best is trial 23 with value: 0.5437954007472643.\u001b[0m\n",
      "\u001b[32m[I 2023-08-29 02:27:01,763]\u001b[0m Trial 26 finished with value: 0.4769673489460394 and parameters: {'C': 1.1003149758886215, 'epsilon': 0.20010925791424766, 'kernel': 'rbf', 'degree': 4}. Best is trial 23 with value: 0.5437954007472643.\u001b[0m\n",
      "\u001b[32m[I 2023-08-29 02:27:02,337]\u001b[0m Trial 27 finished with value: 0.5374310378577134 and parameters: {'C': 1.9785829837938984, 'epsilon': 0.04497953071728029, 'kernel': 'rbf', 'degree': 5}. Best is trial 23 with value: 0.5437954007472643.\u001b[0m\n",
      "\u001b[32m[I 2023-08-29 02:27:05,369]\u001b[0m Trial 28 finished with value: 0.2663709983630641 and parameters: {'C': 2.9291614189179533, 'epsilon': 0.07413215743706182, 'kernel': 'linear', 'degree': 4}. Best is trial 23 with value: 0.5437954007472643.\u001b[0m\n",
      "\u001b[32m[I 2023-08-29 02:27:05,703]\u001b[0m Trial 29 finished with value: 0.38910893458480506 and parameters: {'C': 0.6585615780890113, 'epsilon': 0.09999939738338101, 'kernel': 'poly', 'degree': 3}. Best is trial 23 with value: 0.5437954007472643.\u001b[0m\n",
      "\u001b[32m[I 2023-08-29 02:27:06,084]\u001b[0m Trial 30 finished with value: 0.1641754000338842 and parameters: {'C': 0.3650700403963317, 'epsilon': 0.06248909705050723, 'kernel': 'poly', 'degree': 4}. Best is trial 23 with value: 0.5437954007472643.\u001b[0m\n",
      "\u001b[32m[I 2023-08-29 02:27:06,652]\u001b[0m Trial 31 finished with value: 0.532371943525338 and parameters: {'C': 1.304601813660596, 'epsilon': 0.04084297292193638, 'kernel': 'rbf', 'degree': 5}. Best is trial 23 with value: 0.5437954007472643.\u001b[0m\n",
      "\u001b[32m[I 2023-08-29 02:27:07,232]\u001b[0m Trial 32 finished with value: 0.5398019097435816 and parameters: {'C': 2.3795856425569712, 'epsilon': 0.050169006874083204, 'kernel': 'rbf', 'degree': 5}. Best is trial 23 with value: 0.5437954007472643.\u001b[0m\n",
      "\u001b[32m[I 2023-08-29 02:27:07,779]\u001b[0m Trial 33 finished with value: 0.5225207208448014 and parameters: {'C': 7.495492038118178, 'epsilon': 0.09518347409893325, 'kernel': 'rbf', 'degree': 5}. Best is trial 23 with value: 0.5437954007472643.\u001b[0m\n",
      "\u001b[32m[I 2023-08-29 02:27:08,351]\u001b[0m Trial 34 finished with value: 0.5424095644357444 and parameters: {'C': 3.007808065757223, 'epsilon': 0.056989786098395626, 'kernel': 'rbf', 'degree': 4}. Best is trial 23 with value: 0.5437954007472643.\u001b[0m\n",
      "\u001b[32m[I 2023-08-29 02:27:09,241]\u001b[0m Trial 35 finished with value: 0.5187906871337434 and parameters: {'C': 11.703395526408071, 'epsilon': 0.06287282178814754, 'kernel': 'rbf', 'degree': 4}. Best is trial 23 with value: 0.5437954007472643.\u001b[0m\n",
      "\u001b[32m[I 2023-08-29 02:27:09,566]\u001b[0m Trial 36 finished with value: 0.5102494285317173 and parameters: {'C': 4.677173718758187, 'epsilon': 0.1404957718439668, 'kernel': 'rbf', 'degree': 4}. Best is trial 23 with value: 0.5437954007472643.\u001b[0m\n",
      "\u001b[32m[I 2023-08-29 02:27:10,907]\u001b[0m Trial 37 finished with value: 0.46220492816102626 and parameters: {'C': 26.567105115142247, 'epsilon': 0.06097348950901397, 'kernel': 'rbf', 'degree': 3}. Best is trial 23 with value: 0.5437954007472643.\u001b[0m\n",
      "\u001b[32m[I 2023-08-29 02:27:11,145]\u001b[0m Trial 38 finished with value: 0.4929601644919511 and parameters: {'C': 1.4000478708025028, 'epsilon': 0.18319039287534297, 'kernel': 'rbf', 'degree': 4}. Best is trial 23 with value: 0.5437954007472643.\u001b[0m\n",
      "\u001b[32m[I 2023-08-29 02:27:11,496]\u001b[0m Trial 39 finished with value: 0.3707855144984868 and parameters: {'C': 0.9506281727489342, 'epsilon': 0.11746190875443902, 'kernel': 'poly', 'degree': 3}. Best is trial 23 with value: 0.5437954007472643.\u001b[0m\n",
      "\u001b[32m[I 2023-08-29 02:27:13,133]\u001b[0m Trial 40 finished with value: 0.21743600184534334 and parameters: {'C': 6.1846606087101765, 'epsilon': 0.27163190348588384, 'kernel': 'linear', 'degree': 4}. Best is trial 23 with value: 0.5437954007472643.\u001b[0m\n",
      "\u001b[32m[I 2023-08-29 02:27:13,772]\u001b[0m Trial 41 finished with value: 0.5405487395749574 and parameters: {'C': 2.8218522731747337, 'epsilon': 0.04818664941494674, 'kernel': 'rbf', 'degree': 5}. Best is trial 23 with value: 0.5437954007472643.\u001b[0m\n",
      "\u001b[32m[I 2023-08-29 02:27:14,281]\u001b[0m Trial 42 finished with value: 0.5444482419818585 and parameters: {'C': 3.1526362835380897, 'epsilon': 0.07620332445539539, 'kernel': 'rbf', 'degree': 3}. Best is trial 42 with value: 0.5444482419818585.\u001b[0m\n",
      "\u001b[32m[I 2023-08-29 02:27:14,962]\u001b[0m Trial 43 finished with value: 0.5234846350767338 and parameters: {'C': 9.788787287535532, 'epsilon': 0.07808363446158308, 'kernel': 'rbf', 'degree': 3}. Best is trial 42 with value: 0.5444482419818585.\u001b[0m\n",
      "\u001b[32m[I 2023-08-29 02:27:15,735]\u001b[0m Trial 44 finished with value: 0.5373316099117897 and parameters: {'C': 3.77600304224107, 'epsilon': 0.03298983257944545, 'kernel': 'rbf', 'degree': 3}. Best is trial 42 with value: 0.5444482419818585.\u001b[0m\n",
      "\u001b[32m[I 2023-08-29 02:27:16,522]\u001b[0m Trial 45 finished with value: 0.49056351065179793 and parameters: {'C': 16.154292676997418, 'epsilon': 0.09009118288856874, 'kernel': 'rbf', 'degree': 3}. Best is trial 42 with value: 0.5444482419818585.\u001b[0m\n",
      "\u001b[32m[I 2023-08-29 02:27:16,833]\u001b[0m Trial 46 finished with value: 0.523193074336259 and parameters: {'C': 0.6985695564523848, 'epsilon': 0.11716015354635902, 'kernel': 'rbf', 'degree': 4}. Best is trial 42 with value: 0.5444482419818585.\u001b[0m\n",
      "\u001b[32m[I 2023-08-29 02:27:17,341]\u001b[0m Trial 47 finished with value: 0.5386525800167243 and parameters: {'C': 1.5605489018095584, 'epsilon': 0.0555641702934627, 'kernel': 'rbf', 'degree': 3}. Best is trial 42 with value: 0.5444482419818585.\u001b[0m\n",
      "\u001b[32m[I 2023-08-29 02:27:17,900]\u001b[0m Trial 48 finished with value: 0.5429844179352943 and parameters: {'C': 3.6904738829512613, 'epsilon': 0.06883281934063018, 'kernel': 'rbf', 'degree': 4}. Best is trial 42 with value: 0.5444482419818585.\u001b[0m\n",
      "\u001b[32m[I 2023-08-29 02:27:18,522]\u001b[0m Trial 49 finished with value: 0.5380327809346467 and parameters: {'C': 5.365567556083513, 'epsilon': 0.06955854978470587, 'kernel': 'rbf', 'degree': 3}. Best is trial 42 with value: 0.5444482419818585.\u001b[0m\n",
      "\u001b[32m[I 2023-08-29 02:27:21,180]\u001b[0m Trial 50 finished with value: 0.2730653295157996 and parameters: {'C': 4.036703822116173, 'epsilon': 0.14414702946559504, 'kernel': 'linear', 'degree': 2}. Best is trial 42 with value: 0.5444482419818585.\u001b[0m\n",
      "\u001b[32m[I 2023-08-29 02:27:21,828]\u001b[0m Trial 51 finished with value: 0.536938758486522 and parameters: {'C': 2.5014688438561308, 'epsilon': 0.040144347766815185, 'kernel': 'rbf', 'degree': 4}. Best is trial 42 with value: 0.5444482419818585.\u001b[0m\n",
      "\u001b[32m[I 2023-08-29 02:27:22,465]\u001b[0m Trial 52 finished with value: 0.5421620221559214 and parameters: {'C': 3.3891018843037317, 'epsilon': 0.05114631837962974, 'kernel': 'rbf', 'degree': 4}. Best is trial 42 with value: 0.5444482419818585.\u001b[0m\n",
      "\u001b[32m[I 2023-08-29 02:27:23,064]\u001b[0m Trial 53 finished with value: 0.5311294311289215 and parameters: {'C': 6.822384223080118, 'epsilon': 0.07972684871652366, 'kernel': 'rbf', 'degree': 4}. Best is trial 42 with value: 0.5444482419818585.\u001b[0m\n",
      "\u001b[32m[I 2023-08-29 02:27:23,679]\u001b[0m Trial 54 finished with value: 0.5420680192113358 and parameters: {'C': 3.673047380664349, 'epsilon': 0.05652105896802885, 'kernel': 'rbf', 'degree': 3}. Best is trial 42 with value: 0.5444482419818585.\u001b[0m\n",
      "\u001b[32m[I 2023-08-29 02:27:24,047]\u001b[0m Trial 55 finished with value: 0.5398595721865467 and parameters: {'C': 2.1981799927364625, 'epsilon': 0.10779026280323703, 'kernel': 'rbf', 'degree': 4}. Best is trial 42 with value: 0.5444482419818585.\u001b[0m\n",
      "\u001b[32m[I 2023-08-29 02:27:24,886]\u001b[0m Trial 56 finished with value: 0.5361280305341869 and parameters: {'C': 4.845911313145004, 'epsilon': 0.033968757514900895, 'kernel': 'rbf', 'degree': 3}. Best is trial 42 with value: 0.5444482419818585.\u001b[0m\n",
      "\u001b[32m[I 2023-08-29 02:27:25,461]\u001b[0m Trial 57 finished with value: 0.04083705513426119 and parameters: {'C': 1.5250171955723593, 'epsilon': 0.0681087195438886, 'kernel': 'poly', 'degree': 4}. Best is trial 42 with value: 0.5444482419818585.\u001b[0m\n",
      "\u001b[32m[I 2023-08-29 02:27:25,853]\u001b[0m Trial 58 finished with value: 0.48383557003775823 and parameters: {'C': 9.720952992572899, 'epsilon': 0.1390941667516392, 'kernel': 'rbf', 'degree': 3}. Best is trial 42 with value: 0.5444482419818585.\u001b[0m\n",
      "\u001b[32m[I 2023-08-29 02:27:26,309]\u001b[0m Trial 59 finished with value: 0.5415413032872566 and parameters: {'C': 3.7932432575381667, 'epsilon': 0.09025772847554304, 'kernel': 'rbf', 'degree': 2}. Best is trial 42 with value: 0.5444482419818585.\u001b[0m\n",
      "\u001b[32m[I 2023-08-29 02:27:27,125]\u001b[0m Trial 60 finished with value: 0.5363178598313549 and parameters: {'C': 5.6081559991053735, 'epsilon': 0.04096490180453733, 'kernel': 'rbf', 'degree': 3}. Best is trial 42 with value: 0.5444482419818585.\u001b[0m\n",
      "\u001b[32m[I 2023-08-29 02:27:27,689]\u001b[0m Trial 61 finished with value: 0.5426009978197701 and parameters: {'C': 2.9025625975193567, 'epsilon': 0.05741475371347181, 'kernel': 'rbf', 'degree': 3}. Best is trial 42 with value: 0.5444482419818585.\u001b[0m\n",
      "\u001b[32m[I 2023-08-29 02:27:28,196]\u001b[0m Trial 62 finished with value: 0.5444739921628287 and parameters: {'C': 3.1429214334491236, 'epsilon': 0.0744934490876871, 'kernel': 'rbf', 'degree': 3}. Best is trial 62 with value: 0.5444739921628287.\u001b[0m\n",
      "\u001b[32m[I 2023-08-29 02:27:28,696]\u001b[0m Trial 63 finished with value: 0.5427539124797028 and parameters: {'C': 2.622394848241835, 'epsilon': 0.07023873956623328, 'kernel': 'rbf', 'degree': 3}. Best is trial 62 with value: 0.5444739921628287.\u001b[0m\n",
      "\u001b[32m[I 2023-08-29 02:27:29,164]\u001b[0m Trial 64 finished with value: 0.5407357809316126 and parameters: {'C': 1.702378008304562, 'epsilon': 0.07059886154638532, 'kernel': 'rbf', 'degree': 3}. Best is trial 62 with value: 0.5444739921628287.\u001b[0m\n",
      "\u001b[32m[I 2023-08-29 02:27:31,480]\u001b[0m Trial 65 finished with value: 0.26730270576005605 and parameters: {'C': 2.4876477625486038, 'epsilon': 0.10295516599307403, 'kernel': 'linear', 'degree': 3}. Best is trial 62 with value: 0.5444739921628287.\u001b[0m\n",
      "\u001b[32m[I 2023-08-29 02:27:31,875]\u001b[0m Trial 66 finished with value: 0.5356237254639757 and parameters: {'C': 0.9447789424824493, 'epsilon': 0.08038905299481212, 'kernel': 'rbf', 'degree': 2}. Best is trial 62 with value: 0.5444739921628287.\u001b[0m\n",
      "\u001b[32m[I 2023-08-29 02:27:32,129]\u001b[0m Trial 67 finished with value: 0.5079056316543011 and parameters: {'C': 2.0295970953673548, 'epsilon': 0.16432030786442844, 'kernel': 'rbf', 'degree': 3}. Best is trial 62 with value: 0.5444739921628287.\u001b[0m\n",
      "\u001b[32m[I 2023-08-29 02:27:32,616]\u001b[0m Trial 68 finished with value: 0.5389311373408299 and parameters: {'C': 4.484280518587339, 'epsilon': 0.08869941062587335, 'kernel': 'rbf', 'degree': 3}. Best is trial 62 with value: 0.5444739921628287.\u001b[0m\n",
      "\u001b[32m[I 2023-08-29 02:27:35,587]\u001b[0m Trial 69 finished with value: -0.15132285717561847 and parameters: {'C': 9.230164703255877, 'epsilon': 0.04433411258241595, 'kernel': 'poly', 'degree': 3}. Best is trial 62 with value: 0.5444739921628287.\u001b[0m\n",
      "\u001b[32m[I 2023-08-29 02:27:35,601]\u001b[0m Trial 70 finished with value: -0.7121605581077811 and parameters: {'C': 1.1866014466555153, 'epsilon': 0.5085848514892364, 'kernel': 'rbf', 'degree': 1}. Best is trial 62 with value: 0.5444739921628287.\u001b[0m\n",
      "\u001b[32m[I 2023-08-29 02:27:36,166]\u001b[0m Trial 71 finished with value: 0.5424852267916135 and parameters: {'C': 2.9792447305214904, 'epsilon': 0.0591322462564581, 'kernel': 'rbf', 'degree': 3}. Best is trial 62 with value: 0.5444739921628287.\u001b[0m\n",
      "\u001b[32m[I 2023-08-29 02:27:36,699]\u001b[0m Trial 72 finished with value: 0.5421015887931938 and parameters: {'C': 2.658786711279147, 'epsilon': 0.06251073958921217, 'kernel': 'rbf', 'degree': 3}. Best is trial 62 with value: 0.5444739921628287.\u001b[0m\n",
      "\u001b[32m[I 2023-08-29 02:27:38,813]\u001b[0m Trial 73 finished with value: 0.37754165841359894 and parameters: {'C': 80.47667928398518, 'epsilon': 0.07274445355092593, 'kernel': 'rbf', 'degree': 3}. Best is trial 62 with value: 0.5444739921628287.\u001b[0m\n",
      "\u001b[32m[I 2023-08-29 02:27:39,239]\u001b[0m Trial 74 finished with value: 0.5306177840215566 and parameters: {'C': 4.4911291096020785, 'epsilon': 0.10421807562896268, 'kernel': 'rbf', 'degree': 3}. Best is trial 62 with value: 0.5444739921628287.\u001b[0m\n",
      "\u001b[32m[I 2023-08-29 02:27:40,003]\u001b[0m Trial 75 finished with value: 0.5354095613609288 and parameters: {'C': 3.1924475538205583, 'epsilon': 0.02830254321032454, 'kernel': 'rbf', 'degree': 3}. Best is trial 62 with value: 0.5444739921628287.\u001b[0m\n",
      "\u001b[32m[I 2023-08-29 02:27:40,561]\u001b[0m Trial 76 finished with value: 0.5402039012824942 and parameters: {'C': 2.2215393305923348, 'epsilon': 0.05195804706669737, 'kernel': 'rbf', 'degree': 3}. Best is trial 62 with value: 0.5444739921628287.\u001b[0m\n",
      "\u001b[32m[I 2023-08-29 02:27:41,279]\u001b[0m Trial 77 finished with value: 0.535075325333365 and parameters: {'C': 6.16446832461716, 'epsilon': 0.06360457747887338, 'kernel': 'rbf', 'degree': 2}. Best is trial 62 with value: 0.5444739921628287.\u001b[0m\n",
      "\u001b[32m[I 2023-08-29 02:27:41,295]\u001b[0m Trial 78 finished with value: -0.7121605581077811 and parameters: {'C': 1.854125678497431, 'epsilon': 0.9397063635218721, 'kernel': 'linear', 'degree': 3}. Best is trial 62 with value: 0.5444739921628287.\u001b[0m\n",
      "\u001b[32m[I 2023-08-29 02:27:42,002]\u001b[0m Trial 79 finished with value: 0.5379364251156973 and parameters: {'C': 3.219961497484843, 'epsilon': 0.03654861286637521, 'kernel': 'rbf', 'degree': 3}. Best is trial 62 with value: 0.5444739921628287.\u001b[0m\n",
      "\u001b[32m[I 2023-08-29 02:27:42,419]\u001b[0m Trial 80 finished with value: 0.5081541535756484 and parameters: {'C': 7.242319571697622, 'epsilon': 0.12355919161753237, 'kernel': 'rbf', 'degree': 3}. Best is trial 62 with value: 0.5444739921628287.\u001b[0m\n",
      "\u001b[32m[I 2023-08-29 02:27:42,982]\u001b[0m Trial 81 finished with value: 0.5425317418800575 and parameters: {'C': 2.851563972889009, 'epsilon': 0.057196823063866004, 'kernel': 'rbf', 'degree': 3}. Best is trial 62 with value: 0.5444739921628287.\u001b[0m\n",
      "\u001b[32m[I 2023-08-29 02:27:43,425]\u001b[0m Trial 82 finished with value: 0.5425026541736787 and parameters: {'C': 2.6598898421077255, 'epsilon': 0.08448716177732973, 'kernel': 'rbf', 'degree': 3}. Best is trial 62 with value: 0.5444739921628287.\u001b[0m\n",
      "\u001b[32m[I 2023-08-29 02:27:43,858]\u001b[0m Trial 83 finished with value: 0.5420453271549877 and parameters: {'C': 2.45342088829864, 'epsilon': 0.08414192422874116, 'kernel': 'rbf', 'degree': 3}. Best is trial 62 with value: 0.5444739921628287.\u001b[0m\n",
      "\u001b[32m[I 2023-08-29 02:27:44,399]\u001b[0m Trial 84 finished with value: 0.5428318283835953 and parameters: {'C': 4.058675025921485, 'epsilon': 0.0723088204336266, 'kernel': 'rbf', 'degree': 3}. Best is trial 62 with value: 0.5444739921628287.\u001b[0m\n",
      "\u001b[32m[I 2023-08-29 02:27:45,147]\u001b[0m Trial 85 finished with value: 0.538057141683483 and parameters: {'C': 5.049786160312879, 'epsilon': 0.046031165004073414, 'kernel': 'rbf', 'degree': 2}. Best is trial 62 with value: 0.5444739921628287.\u001b[0m\n",
      "\u001b[32m[I 2023-08-29 02:27:46,383]\u001b[0m Trial 86 finished with value: 0.20213720620874823 and parameters: {'C': 4.014574503709155, 'epsilon': 0.06763818565057363, 'kernel': 'poly', 'degree': 3}. Best is trial 62 with value: 0.5444739921628287.\u001b[0m\n",
      "\u001b[32m[I 2023-08-29 02:27:46,835]\u001b[0m Trial 87 finished with value: 0.5411238320724531 and parameters: {'C': 1.6940351715644126, 'epsilon': 0.0747262186804351, 'kernel': 'rbf', 'degree': 3}. Best is trial 62 with value: 0.5444739921628287.\u001b[0m\n",
      "\u001b[32m[I 2023-08-29 02:27:47,256]\u001b[0m Trial 88 finished with value: 0.5393253896189492 and parameters: {'C': 3.4675455591568998, 'epsilon': 0.09722843173848485, 'kernel': 'rbf', 'degree': 3}. Best is trial 62 with value: 0.5444739921628287.\u001b[0m\n",
      "\u001b[32m[I 2023-08-29 02:27:47,768]\u001b[0m Trial 89 finished with value: 0.5351463370732203 and parameters: {'C': 1.3162166078497717, 'epsilon': 0.051614217166439755, 'kernel': 'rbf', 'degree': 3}. Best is trial 62 with value: 0.5444739921628287.\u001b[0m\n",
      "\u001b[32m[I 2023-08-29 02:27:48,297]\u001b[0m Trial 90 finished with value: 0.5411792833237149 and parameters: {'C': 2.1012755422950797, 'epsilon': 0.05627865207184142, 'kernel': 'rbf', 'degree': 3}. Best is trial 62 with value: 0.5444739921628287.\u001b[0m\n",
      "\u001b[32m[I 2023-08-29 02:27:48,748]\u001b[0m Trial 91 finished with value: 0.5433467674213954 and parameters: {'C': 2.7984206989271114, 'epsilon': 0.08226179960334928, 'kernel': 'rbf', 'degree': 3}. Best is trial 62 with value: 0.5444739921628287.\u001b[0m\n",
      "\u001b[32m[I 2023-08-29 02:27:49,342]\u001b[0m Trial 92 finished with value: 0.5414297811874044 and parameters: {'C': 4.2858848881989005, 'epsilon': 0.0659715914805603, 'kernel': 'rbf', 'degree': 3}. Best is trial 62 with value: 0.5444739921628287.\u001b[0m\n",
      "\u001b[32m[I 2023-08-29 02:27:49,742]\u001b[0m Trial 93 finished with value: 0.5184174835052866 and parameters: {'C': 5.563051243878058, 'epsilon': 0.12064368049925797, 'kernel': 'rbf', 'degree': 3}. Best is trial 62 with value: 0.5444739921628287.\u001b[0m\n",
      "\u001b[32m[I 2023-08-29 02:27:50,237]\u001b[0m Trial 94 finished with value: 0.5444603565146229 and parameters: {'C': 3.354692853284889, 'epsilon': 0.07570332123344993, 'kernel': 'rbf', 'degree': 3}. Best is trial 62 with value: 0.5444739921628287.\u001b[0m\n",
      "\u001b[32m[I 2023-08-29 02:27:50,670]\u001b[0m Trial 95 finished with value: 0.5405580685549103 and parameters: {'C': 3.6042435864658504, 'epsilon': 0.0942910312108149, 'kernel': 'rbf', 'degree': 3}. Best is trial 62 with value: 0.5444739921628287.\u001b[0m\n",
      "\u001b[32m[I 2023-08-29 02:27:51,286]\u001b[0m Trial 96 finished with value: 0.5335100128413014 and parameters: {'C': 6.309899084623478, 'epsilon': 0.07314597195879402, 'kernel': 'rbf', 'degree': 3}. Best is trial 62 with value: 0.5444739921628287.\u001b[0m\n",
      "\u001b[32m[I 2023-08-29 02:27:58,643]\u001b[0m Trial 97 finished with value: 0.2651619991153152 and parameters: {'C': 8.248680184278777, 'epsilon': 0.07749311102743052, 'kernel': 'linear', 'degree': 3}. Best is trial 62 with value: 0.5444739921628287.\u001b[0m\n",
      "\u001b[32m[I 2023-08-29 02:27:59,049]\u001b[0m Trial 98 finished with value: 0.5244443711285847 and parameters: {'C': 4.947135755920377, 'epsilon': 0.11277530204956851, 'kernel': 'rbf', 'degree': 3}. Best is trial 62 with value: 0.5444739921628287.\u001b[0m\n",
      "\u001b[32m[I 2023-08-29 02:27:59,478]\u001b[0m Trial 99 finished with value: 0.5416317936274954 and parameters: {'C': 2.2707054380523926, 'epsilon': 0.08828875741435716, 'kernel': 'rbf', 'degree': 2}. Best is trial 62 with value: 0.5444739921628287.\u001b[0m\n"
     ]
    },
    {
     "name": "stdout",
     "output_type": "stream",
     "text": [
      "Best r2:  0.5444739921628287\n",
      "Best trial: {'C': 3.1429214334491236, 'epsilon': 0.0744934490876871, 'kernel': 'rbf', 'degree': 3}\n"
     ]
    }
   ],
   "source": [
    "sampler = TPESampler()\n",
    "study = optuna.create_study(\n",
    "    study_name=\"svm_parameter_opt\",\n",
    "    direction=\"maximize\",\n",
    "    sampler=sampler,\n",
    ")\n",
    "\n",
    "study.optimize(lambda trial : objectiveSVM(trial, Cd_X_train, Cd_y_train), n_trials=100)\n",
    "print(\"Best r2: \", study.best_value)\n",
    "print(\"Best trial:\", study.best_trial.params)"
   ]
  },
  {
   "cell_type": "code",
   "execution_count": 120,
   "id": "861f88d8",
   "metadata": {},
   "outputs": [
    {
     "data": {
      "application/vnd.plotly.v1+json": {
       "config": {
        "plotlyServerURL": "https://plot.ly"
       },
       "data": [
        {
         "dimensions": [
          {
           "label": "Objective Value",
           "range": [
            -9.868577749718053,
            0.5444739921628287
           ],
           "values": [
            -0.7121605581077811,
            0.4846030534482312,
            0.4517846632114151,
            -0.7121605581077811,
            0.5289982562351124,
            -0.7121605581077811,
            0.45554311253233165,
            0.12728183542274193,
            0.26207882065374205,
            -0.7121605581077811,
            0.2629416811664522,
            0.33418687802279634,
            0.5342758403715231,
            0.5319306118129077,
            0.527375013857862,
            0.2654044264091701,
            0.5226667227607154,
            0.5299793927957634,
            0.2630314428727676,
            -9.868577749718053,
            0.5033400181187121,
            0.5314534854989402,
            0.5435200737813694,
            0.5437954007472643,
            0.5293861937980993,
            0.5414203298748287,
            0.4769673489460394,
            0.5374310378577134,
            0.2663709983630641,
            0.38910893458480506,
            0.1641754000338842,
            0.532371943525338,
            0.5398019097435816,
            0.5225207208448014,
            0.5424095644357444,
            0.5187906871337434,
            0.5102494285317173,
            0.46220492816102626,
            0.4929601644919511,
            0.3707855144984868,
            0.21743600184534334,
            0.5405487395749574,
            0.5444482419818585,
            0.5234846350767338,
            0.5373316099117897,
            0.49056351065179793,
            0.523193074336259,
            0.5386525800167243,
            0.5429844179352943,
            0.5380327809346467,
            0.2730653295157996,
            0.536938758486522,
            0.5421620221559214,
            0.5311294311289215,
            0.5420680192113358,
            0.5398595721865467,
            0.5361280305341869,
            0.04083705513426119,
            0.48383557003775823,
            0.5415413032872566,
            0.5363178598313549,
            0.5426009978197701,
            0.5444739921628287,
            0.5427539124797028,
            0.5407357809316126,
            0.26730270576005605,
            0.5356237254639757,
            0.5079056316543011,
            0.5389311373408299,
            -0.15132285717561847,
            -0.7121605581077811,
            0.5424852267916135,
            0.5421015887931938,
            0.37754165841359894,
            0.5306177840215566,
            0.5354095613609288,
            0.5402039012824942,
            0.535075325333365,
            -0.7121605581077811,
            0.5379364251156973,
            0.5081541535756484,
            0.5425317418800575,
            0.5425026541736787,
            0.5420453271549877,
            0.5428318283835953,
            0.538057141683483,
            0.20213720620874823,
            0.5411238320724531,
            0.5393253896189492,
            0.5351463370732203,
            0.5411792833237149,
            0.5433467674213954,
            0.5414297811874044,
            0.5184174835052866,
            0.5444603565146229,
            0.5405580685549103,
            0.5335100128413014,
            0.2651619991153152,
            0.5244443711285847,
            0.5416317936274954
           ]
          },
          {
           "label": "C",
           "range": [
            -0.9979072730177584,
            1.942173708636883
           ],
           "ticktext": [
            "0.1",
            "1",
            "10",
            "87.5"
           ],
           "tickvals": [
            -0.9979072730177584,
            0,
            1,
            1.942173708636883
           ],
           "values": [
            -0.27452078208316866,
            -0.8690360899346165,
            1.5136750441185316,
            1.199469339912899,
            0.9187875541954397,
            -0.09337196643740849,
            -0.9979072730177584,
            0.06426316068378492,
            1.253973988779182,
            -0.41648254522122524,
            0.7024887727011849,
            1.942173708636883,
            0.6181741260864224,
            0.5702364693001012,
            0.2778515172814248,
            0.475443323093975,
            0.7525060519831492,
            0.2903875586158993,
            1.0675618577536239,
            1.5217971374654116,
            -0.6419487991713858,
            0.2677179348873211,
            0.5112202369799975,
            0.5748749390347779,
            0.8791418466394816,
            0.48553273593924484,
            0.04151702398497872,
            0.2963542697387674,
            0.46674330524721647,
            -0.18140361056713897,
            -0.4376238061201895,
            0.1154779779441274,
            0.3765013399061918,
            0.8748001471810541,
            0.47825011960510144,
            1.0683118826383748,
            0.6699835006968261,
            1.4243442340860715,
            0.1461428854424796,
            -0.021989319130153007,
            0.7913158721448372,
            0.45053427425732495,
            0.498673869522443,
            0.9907288912970705,
            0.5770323355275083,
            1.2082879469898749,
            -0.15579034476884054,
            0.193277382391474,
            0.5670821362232453,
            0.7296156672970164,
            0.6060268858632981,
            0.39819509805467707,
            0.5300846249382342,
            0.8339361743596586,
            0.5650265305855217,
            0.34206325071338844,
            0.6853754616867145,
            0.18327474066646737,
            0.9877088430258353,
            0.5790106945401116,
            0.748820085666227,
            0.4627815946342419,
            0.49733352468732805,
            0.41869808304523837,
            0.23105600033906937,
            0.395788886625232,
            -0.024669794972853605,
            0.3074098326789717,
            0.6516927724920587,
            0.9652094506550547,
            0.07430487347566771,
            0.4741061798681196,
            0.42468349948657713,
            1.9056700477516761,
            0.6523555402067298,
            0.5041237713157439,
            0.3466540064843922,
            0.7898956253531326,
            0.2681391686585505,
            0.5078506786741401,
            0.8598776844084642,
            0.45508311913032606,
            0.42486365093355083,
            0.3897720585144929,
            0.608384279181499,
            0.7032729877498618,
            0.6036395220969846,
            0.22892242291191084,
            0.5400221758622538,
            0.11932736636977219,
            0.322483005595838,
            0.4469130044689995,
            0.6320405024287752,
            0.7453130604497209,
            0.5256527634827056,
            0.5568141343278766,
            0.8000224135481553,
            0.9163844655755687,
            0.6943538281402384,
            0.35616080003851236
           ]
          },
          {
           "label": "degree",
           "range": [
            1,
            5
           ],
           "values": [
            4,
            4,
            1,
            1,
            1,
            2,
            4,
            4,
            1,
            3,
            2,
            5,
            3,
            2,
            3,
            2,
            3,
            2,
            3,
            5,
            2,
            2,
            3,
            3,
            3,
            4,
            4,
            5,
            4,
            3,
            4,
            5,
            5,
            5,
            4,
            4,
            4,
            3,
            4,
            3,
            4,
            5,
            3,
            3,
            3,
            3,
            4,
            3,
            4,
            3,
            2,
            4,
            4,
            4,
            3,
            4,
            3,
            4,
            3,
            2,
            3,
            3,
            3,
            3,
            3,
            3,
            2,
            3,
            3,
            3,
            1,
            3,
            3,
            3,
            3,
            3,
            3,
            2,
            3,
            3,
            3,
            3,
            3,
            3,
            3,
            2,
            3,
            3,
            3,
            3,
            3,
            3,
            3,
            3,
            3,
            3,
            3,
            3,
            3,
            2
           ]
          },
          {
           "label": "epsilon",
           "range": [
            -1.99833012841965,
            -0.01135497509597066
           ],
           "ticktext": [
            "0.01",
            "0.1",
            "0.974"
           ],
           "tickvals": [
            -1.99833012841965,
            -1,
            -0.01135497509597066
           ],
           "values": [
            -0.24835023713865179,
            -1.2886681958780617,
            -1.1546039143383269,
            -0.2956124759009972,
            -1.2772342878786445,
            -0.19936378498531326,
            -0.9123501323153588,
            -0.8451498750861869,
            -0.4902513559692174,
            -0.01135497509597066,
            -1.9377282409017702,
            -1.4355614171415705,
            -1.568028411165714,
            -1.6756732547187256,
            -1.7245327184258354,
            -1.6296706635795815,
            -1.99833012841965,
            -1.6054217319197115,
            -1.8087046802919369,
            -0.724310520764103,
            -1.4944687398962762,
            -1.5579241124792316,
            -1.1548500471717031,
            -1.100553860050036,
            -1.0801967929347205,
            -1.3203958746455267,
            -0.6987328185698669,
            -1.346985079979951,
            -1.1299933606043224,
            -1.000002617138609,
            -1.2041957507176986,
            -1.3888826535439638,
            -1.2995644960098105,
            -1.0214384479459453,
            -1.2442029730746127,
            -1.2015370476898841,
            -0.8523367454561565,
            -1.2148589496206381,
            -0.7370973059445272,
            -0.9301029461562251,
            -0.5660192229991643,
            -1.31707327065229,
            -1.1180260816638175,
            -1.1074399803071033,
            -1.4816198884560958,
            -1.0453177107991327,
            -0.931220067817575,
            -1.2552051663276742,
            -1.16220444170586,
            -1.1576494811124718,
            -0.8411943029808939,
            -1.39637559375977,
            -1.2911856222637714,
            -1.0983954014913873,
            -1.247789709886765,
            -0.9674204692218377,
            -1.4689203381547262,
            -1.166797284454593,
            -0.8566910828094988,
            -1.0445156006070413,
            -1.3875880818347013,
            -1.2409764937862682,
            -1.1278819171867436,
            -1.1534232904439414,
            -1.1512023021792046,
            -0.9873518568555961,
            -1.0948030874161725,
            -0.7843087600680166,
            -1.052079265881705,
            -1.353261980205154,
            -0.2936365796943469,
            -1.2281756231443817,
            -1.2040453627575136,
            -1.1382001141503668,
            -0.9820569502772843,
            -1.5481745378826146,
            -1.2843471810034788,
            -1.1965116280264445,
            -0.027007832170854187,
            -1.4371291012207776,
            -0.9081249417204851,
            -1.2426280929578384,
            -1.0732092791314758,
            -1.0749875603916563,
            -1.14080872300969,
            -1.3369480333954498,
            -1.1698080505792086,
            -1.126526993493468,
            -1.0122067192138278,
            -1.2872306552239736,
            -1.2496563128856863,
            -1.0848017938633712,
            -1.1806430389923301,
            -0.9184954221694563,
            -1.1208850668444472,
            -1.0255296145892223,
            -1.135809584839217,
            -1.1107369036324406,
            -0.9477860010443934,
            -1.0540945954458245
           ]
          },
          {
           "label": "kernel",
           "range": [
            0,
            2
           ],
           "ticktext": [
            "poly",
            "rbf",
            "linear"
           ],
           "tickvals": [
            0,
            1,
            2
           ],
           "values": [
            0,
            1,
            1,
            2,
            1,
            0,
            1,
            0,
            1,
            1,
            2,
            1,
            1,
            1,
            1,
            2,
            1,
            1,
            2,
            0,
            1,
            1,
            1,
            1,
            1,
            1,
            1,
            1,
            2,
            0,
            0,
            1,
            1,
            1,
            1,
            1,
            1,
            1,
            1,
            0,
            2,
            1,
            1,
            1,
            1,
            1,
            1,
            1,
            1,
            1,
            2,
            1,
            1,
            1,
            1,
            1,
            1,
            0,
            1,
            1,
            1,
            1,
            1,
            1,
            1,
            2,
            1,
            1,
            1,
            0,
            1,
            1,
            1,
            1,
            1,
            1,
            1,
            1,
            2,
            1,
            1,
            1,
            1,
            1,
            1,
            1,
            0,
            1,
            1,
            1,
            1,
            1,
            1,
            1,
            1,
            1,
            1,
            2,
            1,
            1
           ]
          }
         ],
         "labelangle": 30,
         "labelside": "bottom",
         "line": {
          "color": [
           -0.7121605581077811,
           0.4846030534482312,
           0.4517846632114151,
           -0.7121605581077811,
           0.5289982562351124,
           -0.7121605581077811,
           0.45554311253233165,
           0.12728183542274193,
           0.26207882065374205,
           -0.7121605581077811,
           0.2629416811664522,
           0.33418687802279634,
           0.5342758403715231,
           0.5319306118129077,
           0.527375013857862,
           0.2654044264091701,
           0.5226667227607154,
           0.5299793927957634,
           0.2630314428727676,
           -9.868577749718053,
           0.5033400181187121,
           0.5314534854989402,
           0.5435200737813694,
           0.5437954007472643,
           0.5293861937980993,
           0.5414203298748287,
           0.4769673489460394,
           0.5374310378577134,
           0.2663709983630641,
           0.38910893458480506,
           0.1641754000338842,
           0.532371943525338,
           0.5398019097435816,
           0.5225207208448014,
           0.5424095644357444,
           0.5187906871337434,
           0.5102494285317173,
           0.46220492816102626,
           0.4929601644919511,
           0.3707855144984868,
           0.21743600184534334,
           0.5405487395749574,
           0.5444482419818585,
           0.5234846350767338,
           0.5373316099117897,
           0.49056351065179793,
           0.523193074336259,
           0.5386525800167243,
           0.5429844179352943,
           0.5380327809346467,
           0.2730653295157996,
           0.536938758486522,
           0.5421620221559214,
           0.5311294311289215,
           0.5420680192113358,
           0.5398595721865467,
           0.5361280305341869,
           0.04083705513426119,
           0.48383557003775823,
           0.5415413032872566,
           0.5363178598313549,
           0.5426009978197701,
           0.5444739921628287,
           0.5427539124797028,
           0.5407357809316126,
           0.26730270576005605,
           0.5356237254639757,
           0.5079056316543011,
           0.5389311373408299,
           -0.15132285717561847,
           -0.7121605581077811,
           0.5424852267916135,
           0.5421015887931938,
           0.37754165841359894,
           0.5306177840215566,
           0.5354095613609288,
           0.5402039012824942,
           0.535075325333365,
           -0.7121605581077811,
           0.5379364251156973,
           0.5081541535756484,
           0.5425317418800575,
           0.5425026541736787,
           0.5420453271549877,
           0.5428318283835953,
           0.538057141683483,
           0.20213720620874823,
           0.5411238320724531,
           0.5393253896189492,
           0.5351463370732203,
           0.5411792833237149,
           0.5433467674213954,
           0.5414297811874044,
           0.5184174835052866,
           0.5444603565146229,
           0.5405580685549103,
           0.5335100128413014,
           0.2651619991153152,
           0.5244443711285847,
           0.5416317936274954
          ],
          "colorbar": {
           "title": {
            "text": "Objective Value"
           }
          },
          "colorscale": [
           [
            0,
            "rgb(247,251,255)"
           ],
           [
            0.125,
            "rgb(222,235,247)"
           ],
           [
            0.25,
            "rgb(198,219,239)"
           ],
           [
            0.375,
            "rgb(158,202,225)"
           ],
           [
            0.5,
            "rgb(107,174,214)"
           ],
           [
            0.625,
            "rgb(66,146,198)"
           ],
           [
            0.75,
            "rgb(33,113,181)"
           ],
           [
            0.875,
            "rgb(8,81,156)"
           ],
           [
            1,
            "rgb(8,48,107)"
           ]
          ],
          "reversescale": false,
          "showscale": true
         },
         "type": "parcoords"
        }
       ],
       "layout": {
        "template": {
         "data": {
          "bar": [
           {
            "error_x": {
             "color": "#2a3f5f"
            },
            "error_y": {
             "color": "#2a3f5f"
            },
            "marker": {
             "line": {
              "color": "#E5ECF6",
              "width": 0.5
             },
             "pattern": {
              "fillmode": "overlay",
              "size": 10,
              "solidity": 0.2
             }
            },
            "type": "bar"
           }
          ],
          "barpolar": [
           {
            "marker": {
             "line": {
              "color": "#E5ECF6",
              "width": 0.5
             },
             "pattern": {
              "fillmode": "overlay",
              "size": 10,
              "solidity": 0.2
             }
            },
            "type": "barpolar"
           }
          ],
          "carpet": [
           {
            "aaxis": {
             "endlinecolor": "#2a3f5f",
             "gridcolor": "white",
             "linecolor": "white",
             "minorgridcolor": "white",
             "startlinecolor": "#2a3f5f"
            },
            "baxis": {
             "endlinecolor": "#2a3f5f",
             "gridcolor": "white",
             "linecolor": "white",
             "minorgridcolor": "white",
             "startlinecolor": "#2a3f5f"
            },
            "type": "carpet"
           }
          ],
          "choropleth": [
           {
            "colorbar": {
             "outlinewidth": 0,
             "ticks": ""
            },
            "type": "choropleth"
           }
          ],
          "contour": [
           {
            "colorbar": {
             "outlinewidth": 0,
             "ticks": ""
            },
            "colorscale": [
             [
              0,
              "#0d0887"
             ],
             [
              0.1111111111111111,
              "#46039f"
             ],
             [
              0.2222222222222222,
              "#7201a8"
             ],
             [
              0.3333333333333333,
              "#9c179e"
             ],
             [
              0.4444444444444444,
              "#bd3786"
             ],
             [
              0.5555555555555556,
              "#d8576b"
             ],
             [
              0.6666666666666666,
              "#ed7953"
             ],
             [
              0.7777777777777778,
              "#fb9f3a"
             ],
             [
              0.8888888888888888,
              "#fdca26"
             ],
             [
              1,
              "#f0f921"
             ]
            ],
            "type": "contour"
           }
          ],
          "contourcarpet": [
           {
            "colorbar": {
             "outlinewidth": 0,
             "ticks": ""
            },
            "type": "contourcarpet"
           }
          ],
          "heatmap": [
           {
            "colorbar": {
             "outlinewidth": 0,
             "ticks": ""
            },
            "colorscale": [
             [
              0,
              "#0d0887"
             ],
             [
              0.1111111111111111,
              "#46039f"
             ],
             [
              0.2222222222222222,
              "#7201a8"
             ],
             [
              0.3333333333333333,
              "#9c179e"
             ],
             [
              0.4444444444444444,
              "#bd3786"
             ],
             [
              0.5555555555555556,
              "#d8576b"
             ],
             [
              0.6666666666666666,
              "#ed7953"
             ],
             [
              0.7777777777777778,
              "#fb9f3a"
             ],
             [
              0.8888888888888888,
              "#fdca26"
             ],
             [
              1,
              "#f0f921"
             ]
            ],
            "type": "heatmap"
           }
          ],
          "heatmapgl": [
           {
            "colorbar": {
             "outlinewidth": 0,
             "ticks": ""
            },
            "colorscale": [
             [
              0,
              "#0d0887"
             ],
             [
              0.1111111111111111,
              "#46039f"
             ],
             [
              0.2222222222222222,
              "#7201a8"
             ],
             [
              0.3333333333333333,
              "#9c179e"
             ],
             [
              0.4444444444444444,
              "#bd3786"
             ],
             [
              0.5555555555555556,
              "#d8576b"
             ],
             [
              0.6666666666666666,
              "#ed7953"
             ],
             [
              0.7777777777777778,
              "#fb9f3a"
             ],
             [
              0.8888888888888888,
              "#fdca26"
             ],
             [
              1,
              "#f0f921"
             ]
            ],
            "type": "heatmapgl"
           }
          ],
          "histogram": [
           {
            "marker": {
             "pattern": {
              "fillmode": "overlay",
              "size": 10,
              "solidity": 0.2
             }
            },
            "type": "histogram"
           }
          ],
          "histogram2d": [
           {
            "colorbar": {
             "outlinewidth": 0,
             "ticks": ""
            },
            "colorscale": [
             [
              0,
              "#0d0887"
             ],
             [
              0.1111111111111111,
              "#46039f"
             ],
             [
              0.2222222222222222,
              "#7201a8"
             ],
             [
              0.3333333333333333,
              "#9c179e"
             ],
             [
              0.4444444444444444,
              "#bd3786"
             ],
             [
              0.5555555555555556,
              "#d8576b"
             ],
             [
              0.6666666666666666,
              "#ed7953"
             ],
             [
              0.7777777777777778,
              "#fb9f3a"
             ],
             [
              0.8888888888888888,
              "#fdca26"
             ],
             [
              1,
              "#f0f921"
             ]
            ],
            "type": "histogram2d"
           }
          ],
          "histogram2dcontour": [
           {
            "colorbar": {
             "outlinewidth": 0,
             "ticks": ""
            },
            "colorscale": [
             [
              0,
              "#0d0887"
             ],
             [
              0.1111111111111111,
              "#46039f"
             ],
             [
              0.2222222222222222,
              "#7201a8"
             ],
             [
              0.3333333333333333,
              "#9c179e"
             ],
             [
              0.4444444444444444,
              "#bd3786"
             ],
             [
              0.5555555555555556,
              "#d8576b"
             ],
             [
              0.6666666666666666,
              "#ed7953"
             ],
             [
              0.7777777777777778,
              "#fb9f3a"
             ],
             [
              0.8888888888888888,
              "#fdca26"
             ],
             [
              1,
              "#f0f921"
             ]
            ],
            "type": "histogram2dcontour"
           }
          ],
          "mesh3d": [
           {
            "colorbar": {
             "outlinewidth": 0,
             "ticks": ""
            },
            "type": "mesh3d"
           }
          ],
          "parcoords": [
           {
            "line": {
             "colorbar": {
              "outlinewidth": 0,
              "ticks": ""
             }
            },
            "type": "parcoords"
           }
          ],
          "pie": [
           {
            "automargin": true,
            "type": "pie"
           }
          ],
          "scatter": [
           {
            "marker": {
             "colorbar": {
              "outlinewidth": 0,
              "ticks": ""
             }
            },
            "type": "scatter"
           }
          ],
          "scatter3d": [
           {
            "line": {
             "colorbar": {
              "outlinewidth": 0,
              "ticks": ""
             }
            },
            "marker": {
             "colorbar": {
              "outlinewidth": 0,
              "ticks": ""
             }
            },
            "type": "scatter3d"
           }
          ],
          "scattercarpet": [
           {
            "marker": {
             "colorbar": {
              "outlinewidth": 0,
              "ticks": ""
             }
            },
            "type": "scattercarpet"
           }
          ],
          "scattergeo": [
           {
            "marker": {
             "colorbar": {
              "outlinewidth": 0,
              "ticks": ""
             }
            },
            "type": "scattergeo"
           }
          ],
          "scattergl": [
           {
            "marker": {
             "colorbar": {
              "outlinewidth": 0,
              "ticks": ""
             }
            },
            "type": "scattergl"
           }
          ],
          "scattermapbox": [
           {
            "marker": {
             "colorbar": {
              "outlinewidth": 0,
              "ticks": ""
             }
            },
            "type": "scattermapbox"
           }
          ],
          "scatterpolar": [
           {
            "marker": {
             "colorbar": {
              "outlinewidth": 0,
              "ticks": ""
             }
            },
            "type": "scatterpolar"
           }
          ],
          "scatterpolargl": [
           {
            "marker": {
             "colorbar": {
              "outlinewidth": 0,
              "ticks": ""
             }
            },
            "type": "scatterpolargl"
           }
          ],
          "scatterternary": [
           {
            "marker": {
             "colorbar": {
              "outlinewidth": 0,
              "ticks": ""
             }
            },
            "type": "scatterternary"
           }
          ],
          "surface": [
           {
            "colorbar": {
             "outlinewidth": 0,
             "ticks": ""
            },
            "colorscale": [
             [
              0,
              "#0d0887"
             ],
             [
              0.1111111111111111,
              "#46039f"
             ],
             [
              0.2222222222222222,
              "#7201a8"
             ],
             [
              0.3333333333333333,
              "#9c179e"
             ],
             [
              0.4444444444444444,
              "#bd3786"
             ],
             [
              0.5555555555555556,
              "#d8576b"
             ],
             [
              0.6666666666666666,
              "#ed7953"
             ],
             [
              0.7777777777777778,
              "#fb9f3a"
             ],
             [
              0.8888888888888888,
              "#fdca26"
             ],
             [
              1,
              "#f0f921"
             ]
            ],
            "type": "surface"
           }
          ],
          "table": [
           {
            "cells": {
             "fill": {
              "color": "#EBF0F8"
             },
             "line": {
              "color": "white"
             }
            },
            "header": {
             "fill": {
              "color": "#C8D4E3"
             },
             "line": {
              "color": "white"
             }
            },
            "type": "table"
           }
          ]
         },
         "layout": {
          "annotationdefaults": {
           "arrowcolor": "#2a3f5f",
           "arrowhead": 0,
           "arrowwidth": 1
          },
          "autotypenumbers": "strict",
          "coloraxis": {
           "colorbar": {
            "outlinewidth": 0,
            "ticks": ""
           }
          },
          "colorscale": {
           "diverging": [
            [
             0,
             "#8e0152"
            ],
            [
             0.1,
             "#c51b7d"
            ],
            [
             0.2,
             "#de77ae"
            ],
            [
             0.3,
             "#f1b6da"
            ],
            [
             0.4,
             "#fde0ef"
            ],
            [
             0.5,
             "#f7f7f7"
            ],
            [
             0.6,
             "#e6f5d0"
            ],
            [
             0.7,
             "#b8e186"
            ],
            [
             0.8,
             "#7fbc41"
            ],
            [
             0.9,
             "#4d9221"
            ],
            [
             1,
             "#276419"
            ]
           ],
           "sequential": [
            [
             0,
             "#0d0887"
            ],
            [
             0.1111111111111111,
             "#46039f"
            ],
            [
             0.2222222222222222,
             "#7201a8"
            ],
            [
             0.3333333333333333,
             "#9c179e"
            ],
            [
             0.4444444444444444,
             "#bd3786"
            ],
            [
             0.5555555555555556,
             "#d8576b"
            ],
            [
             0.6666666666666666,
             "#ed7953"
            ],
            [
             0.7777777777777778,
             "#fb9f3a"
            ],
            [
             0.8888888888888888,
             "#fdca26"
            ],
            [
             1,
             "#f0f921"
            ]
           ],
           "sequentialminus": [
            [
             0,
             "#0d0887"
            ],
            [
             0.1111111111111111,
             "#46039f"
            ],
            [
             0.2222222222222222,
             "#7201a8"
            ],
            [
             0.3333333333333333,
             "#9c179e"
            ],
            [
             0.4444444444444444,
             "#bd3786"
            ],
            [
             0.5555555555555556,
             "#d8576b"
            ],
            [
             0.6666666666666666,
             "#ed7953"
            ],
            [
             0.7777777777777778,
             "#fb9f3a"
            ],
            [
             0.8888888888888888,
             "#fdca26"
            ],
            [
             1,
             "#f0f921"
            ]
           ]
          },
          "colorway": [
           "#636efa",
           "#EF553B",
           "#00cc96",
           "#ab63fa",
           "#FFA15A",
           "#19d3f3",
           "#FF6692",
           "#B6E880",
           "#FF97FF",
           "#FECB52"
          ],
          "font": {
           "color": "#2a3f5f"
          },
          "geo": {
           "bgcolor": "white",
           "lakecolor": "white",
           "landcolor": "#E5ECF6",
           "showlakes": true,
           "showland": true,
           "subunitcolor": "white"
          },
          "hoverlabel": {
           "align": "left"
          },
          "hovermode": "closest",
          "mapbox": {
           "style": "light"
          },
          "paper_bgcolor": "white",
          "plot_bgcolor": "#E5ECF6",
          "polar": {
           "angularaxis": {
            "gridcolor": "white",
            "linecolor": "white",
            "ticks": ""
           },
           "bgcolor": "#E5ECF6",
           "radialaxis": {
            "gridcolor": "white",
            "linecolor": "white",
            "ticks": ""
           }
          },
          "scene": {
           "xaxis": {
            "backgroundcolor": "#E5ECF6",
            "gridcolor": "white",
            "gridwidth": 2,
            "linecolor": "white",
            "showbackground": true,
            "ticks": "",
            "zerolinecolor": "white"
           },
           "yaxis": {
            "backgroundcolor": "#E5ECF6",
            "gridcolor": "white",
            "gridwidth": 2,
            "linecolor": "white",
            "showbackground": true,
            "ticks": "",
            "zerolinecolor": "white"
           },
           "zaxis": {
            "backgroundcolor": "#E5ECF6",
            "gridcolor": "white",
            "gridwidth": 2,
            "linecolor": "white",
            "showbackground": true,
            "ticks": "",
            "zerolinecolor": "white"
           }
          },
          "shapedefaults": {
           "line": {
            "color": "#2a3f5f"
           }
          },
          "ternary": {
           "aaxis": {
            "gridcolor": "white",
            "linecolor": "white",
            "ticks": ""
           },
           "baxis": {
            "gridcolor": "white",
            "linecolor": "white",
            "ticks": ""
           },
           "bgcolor": "#E5ECF6",
           "caxis": {
            "gridcolor": "white",
            "linecolor": "white",
            "ticks": ""
           }
          },
          "title": {
           "x": 0.05
          },
          "xaxis": {
           "automargin": true,
           "gridcolor": "white",
           "linecolor": "white",
           "ticks": "",
           "title": {
            "standoff": 15
           },
           "zerolinecolor": "white",
           "zerolinewidth": 2
          },
          "yaxis": {
           "automargin": true,
           "gridcolor": "white",
           "linecolor": "white",
           "ticks": "",
           "title": {
            "standoff": 15
           },
           "zerolinecolor": "white",
           "zerolinewidth": 2
          }
         }
        },
        "title": {
         "text": "Parallel Coordinate Plot"
        }
       }
      }
     },
     "metadata": {},
     "output_type": "display_data"
    }
   ],
   "source": [
    "optuna.visualization.plot_parallel_coordinate(study)"
   ]
  },
  {
   "cell_type": "code",
   "execution_count": 121,
   "id": "281574d0",
   "metadata": {},
   "outputs": [
    {
     "name": "stdout",
     "output_type": "stream",
     "text": [
      "Best trial: {'C': 3.1429214334491236, 'epsilon': 0.0744934490876871, 'kernel': 'rbf', 'degree': 3}\n"
     ]
    }
   ],
   "source": [
    "print(\"Best trial:\", study.best_trial.params)"
   ]
  },
  {
   "cell_type": "code",
   "execution_count": 122,
   "id": "3b45adad",
   "metadata": {},
   "outputs": [
    {
     "data": {
      "text/html": [
       "<style>#sk-container-id-3 {color: black;}#sk-container-id-3 pre{padding: 0;}#sk-container-id-3 div.sk-toggleable {background-color: white;}#sk-container-id-3 label.sk-toggleable__label {cursor: pointer;display: block;width: 100%;margin-bottom: 0;padding: 0.3em;box-sizing: border-box;text-align: center;}#sk-container-id-3 label.sk-toggleable__label-arrow:before {content: \"▸\";float: left;margin-right: 0.25em;color: #696969;}#sk-container-id-3 label.sk-toggleable__label-arrow:hover:before {color: black;}#sk-container-id-3 div.sk-estimator:hover label.sk-toggleable__label-arrow:before {color: black;}#sk-container-id-3 div.sk-toggleable__content {max-height: 0;max-width: 0;overflow: hidden;text-align: left;background-color: #f0f8ff;}#sk-container-id-3 div.sk-toggleable__content pre {margin: 0.2em;color: black;border-radius: 0.25em;background-color: #f0f8ff;}#sk-container-id-3 input.sk-toggleable__control:checked~div.sk-toggleable__content {max-height: 200px;max-width: 100%;overflow: auto;}#sk-container-id-3 input.sk-toggleable__control:checked~label.sk-toggleable__label-arrow:before {content: \"▾\";}#sk-container-id-3 div.sk-estimator input.sk-toggleable__control:checked~label.sk-toggleable__label {background-color: #d4ebff;}#sk-container-id-3 div.sk-label input.sk-toggleable__control:checked~label.sk-toggleable__label {background-color: #d4ebff;}#sk-container-id-3 input.sk-hidden--visually {border: 0;clip: rect(1px 1px 1px 1px);clip: rect(1px, 1px, 1px, 1px);height: 1px;margin: -1px;overflow: hidden;padding: 0;position: absolute;width: 1px;}#sk-container-id-3 div.sk-estimator {font-family: monospace;background-color: #f0f8ff;border: 1px dotted black;border-radius: 0.25em;box-sizing: border-box;margin-bottom: 0.5em;}#sk-container-id-3 div.sk-estimator:hover {background-color: #d4ebff;}#sk-container-id-3 div.sk-parallel-item::after {content: \"\";width: 100%;border-bottom: 1px solid gray;flex-grow: 1;}#sk-container-id-3 div.sk-label:hover label.sk-toggleable__label {background-color: #d4ebff;}#sk-container-id-3 div.sk-serial::before {content: \"\";position: absolute;border-left: 1px solid gray;box-sizing: border-box;top: 0;bottom: 0;left: 50%;z-index: 0;}#sk-container-id-3 div.sk-serial {display: flex;flex-direction: column;align-items: center;background-color: white;padding-right: 0.2em;padding-left: 0.2em;position: relative;}#sk-container-id-3 div.sk-item {position: relative;z-index: 1;}#sk-container-id-3 div.sk-parallel {display: flex;align-items: stretch;justify-content: center;background-color: white;position: relative;}#sk-container-id-3 div.sk-item::before, #sk-container-id-3 div.sk-parallel-item::before {content: \"\";position: absolute;border-left: 1px solid gray;box-sizing: border-box;top: 0;bottom: 0;left: 50%;z-index: -1;}#sk-container-id-3 div.sk-parallel-item {display: flex;flex-direction: column;z-index: 1;position: relative;background-color: white;}#sk-container-id-3 div.sk-parallel-item:first-child::after {align-self: flex-end;width: 50%;}#sk-container-id-3 div.sk-parallel-item:last-child::after {align-self: flex-start;width: 50%;}#sk-container-id-3 div.sk-parallel-item:only-child::after {width: 0;}#sk-container-id-3 div.sk-dashed-wrapped {border: 1px dashed gray;margin: 0 0.4em 0.5em 0.4em;box-sizing: border-box;padding-bottom: 0.4em;background-color: white;}#sk-container-id-3 div.sk-label label {font-family: monospace;font-weight: bold;display: inline-block;line-height: 1.2em;}#sk-container-id-3 div.sk-label-container {text-align: center;}#sk-container-id-3 div.sk-container {/* jupyter's `normalize.less` sets `[hidden] { display: none; }` but bootstrap.min.css set `[hidden] { display: none !important; }` so we also need the `!important` here to be able to override the default hidden behavior on the sphinx rendered scikit-learn.org. See: https://github.com/scikit-learn/scikit-learn/issues/21755 */display: inline-block !important;position: relative;}#sk-container-id-3 div.sk-text-repr-fallback {display: none;}</style><div id=\"sk-container-id-3\" class=\"sk-top-container\"><div class=\"sk-text-repr-fallback\"><pre>SVR(C=3.1429214334491236, epsilon=0.0744934490876871)</pre><b>In a Jupyter environment, please rerun this cell to show the HTML representation or trust the notebook. <br />On GitHub, the HTML representation is unable to render, please try loading this page with nbviewer.org.</b></div><div class=\"sk-container\" hidden><div class=\"sk-item\"><div class=\"sk-estimator sk-toggleable\"><input class=\"sk-toggleable__control sk-hidden--visually\" id=\"sk-estimator-id-3\" type=\"checkbox\" checked><label for=\"sk-estimator-id-3\" class=\"sk-toggleable__label sk-toggleable__label-arrow\">SVR</label><div class=\"sk-toggleable__content\"><pre>SVR(C=3.1429214334491236, epsilon=0.0744934490876871)</pre></div></div></div></div></div>"
      ],
      "text/plain": [
       "SVR(C=3.1429214334491236, epsilon=0.0744934490876871)"
      ]
     },
     "execution_count": 122,
     "metadata": {},
     "output_type": "execute_result"
    }
   ],
   "source": [
    "svm_params = {\n",
    "    \"C\": study.best_trial.params[\"C\"],\n",
    "    \"epsilon\": study.best_trial.params[\"epsilon\"],\n",
    "    \"kernel\": study.best_trial.params[\"kernel\"],\n",
    "    \"degree\": study.best_trial.params[\"degree\"]\n",
    "}\n",
    "\n",
    "svm = SVR(**svm_params)\n",
    "svm.fit(Cd_X_train, Cd_y_train)"
   ]
  },
  {
   "cell_type": "code",
   "execution_count": 123,
   "id": "9ab1055b",
   "metadata": {},
   "outputs": [],
   "source": [
    "y_train_pred = svm.predict(Cd_X_train)\n",
    "y_test_pred = svm.predict(Cd_X_test)"
   ]
  },
  {
   "cell_type": "code",
   "execution_count": 124,
   "id": "425b4001",
   "metadata": {},
   "outputs": [
    {
     "name": "stdout",
     "output_type": "stream",
     "text": [
      "Train RMSE:  0.13484222489276873\n",
      "Test RMSE:  0.18563387702945786\n"
     ]
    }
   ],
   "source": [
    "print(\"Train RMSE: \", np.sqrt(mean_squared_error(Cd_y_train, y_train_pred)))\n",
    "print(\"Test RMSE: \", np.sqrt(mean_squared_error(Cd_y_test, y_test_pred)))"
   ]
  },
  {
   "cell_type": "code",
   "execution_count": 125,
   "id": "0f95ae3c",
   "metadata": {},
   "outputs": [
    {
     "name": "stdout",
     "output_type": "stream",
     "text": [
      "Train R2:  0.7034925726832537\n",
      "Test R2:  0.4894454614462673\n"
     ]
    }
   ],
   "source": [
    "print(\"Train R2: \", r2_score(Cd_y_train, y_train_pred))\n",
    "print(\"Test R2: \", r2_score(Cd_y_test, y_test_pred))"
   ]
  },
  {
   "cell_type": "code",
   "execution_count": 126,
   "id": "a2ac1a1f",
   "metadata": {},
   "outputs": [
    {
     "data": {
      "image/png": "[encoded data removed]",
      "text/plain": [
       "<Figure size 640x480 with 1 Axes>"
      ]
     },
     "metadata": {},
     "output_type": "display_data"
    }
   ],
   "source": [
    "plt.scatter(y_train_pred, np.array(Cd_y_train), color=\"orange\", alpha=0.3)\n",
    "plt.scatter(y_test_pred, np.array(Cd_y_test), color=\"green\", alpha=0.4)\n",
    "plt.axis(\"auto\") # scaled, tight, auto, image, square\n",
    "# plt.xlim([0, 1.5]) \n",
    "# plt.ylim(0, None) \n",
    "plt.xlabel('Predicted Values')\n",
    "plt.ylabel('Actual Values')\n",
    "\n",
    "# Add y=x line\n",
    "plt.plot([0, 0.5], [0, 0.5], color='red', linestyle='-')\n",
    "\n",
    "plt.show()"
   ]
  },
  {
   "cell_type": "code",
   "execution_count": 127,
   "id": "f6153860",
   "metadata": {},
   "outputs": [],
   "source": [
    "Cd_pred = pd.DataFrame(y_train_pred, columns = ['Cd_pred'])\n",
    "Cd_pred_test = pd.DataFrame(y_test_pred, columns = ['Cd_pred'])"
   ]
  },
  {
   "cell_type": "code",
   "execution_count": 128,
   "id": "30692183",
   "metadata": {},
   "outputs": [],
   "source": [
    "Cd_y_train = Cd_y_train.reset_index(drop = False)\n",
    "Cd_y_test = Cd_y_test.reset_index(drop = False)"
   ]
  },
  {
   "cell_type": "code",
   "execution_count": 129,
   "id": "8550a57c",
   "metadata": {},
   "outputs": [],
   "source": [
    "Cd_data = pd.concat([Cd_pred, Cd_y_train], axis = 1)\n",
    "Cd_data_test = pd.concat([Cd_pred_test, Cd_y_test], axis = 1)"
   ]
  },
  {
   "cell_type": "code",
   "execution_count": 130,
   "id": "c847cf2c",
   "metadata": {},
   "outputs": [],
   "source": [
    "Cd_data.to_csv('SVM_Cd_data.csv', sep = ',')\n",
    "Cd_data_test.to_csv('SVM_Cd_test_data.csv', sep = ',')"
   ]
  },
  {
   "attachments": {},
   "cell_type": "markdown",
   "id": "74f680ea",
   "metadata": {},
   "source": [
    "Ni"
   ]
  },
  {
   "cell_type": "code",
   "execution_count": 131,
   "id": "de233338",
   "metadata": {},
   "outputs": [
    {
     "name": "stderr",
     "output_type": "stream",
     "text": [
      "\u001b[32m[I 2023-08-29 02:37:05,340]\u001b[0m A new study created in memory with name: svm_parameter_opt\u001b[0m\n",
      "\u001b[32m[I 2023-08-29 02:37:06,426]\u001b[0m Trial 0 finished with value: -0.5229652187384541 and parameters: {'C': 6.788129411643938, 'epsilon': 0.07624634715823703, 'kernel': 'poly', 'degree': 4}. Best is trial 0 with value: -0.5229652187384541.\u001b[0m\n",
      "\u001b[32m[I 2023-08-29 02:37:07,800]\u001b[0m Trial 1 finished with value: -19.834159898815262 and parameters: {'C': 5.439177863698125, 'epsilon': 0.050486679935578926, 'kernel': 'poly', 'degree': 5}. Best is trial 0 with value: -0.5229652187384541.\u001b[0m\n",
      "\u001b[32m[I 2023-08-29 02:37:08,754]\u001b[0m Trial 2 finished with value: -43.03246657122715 and parameters: {'C': 2.970733848914296, 'epsilon': 0.033766222805683956, 'kernel': 'poly', 'degree': 5}. Best is trial 0 with value: -0.5229652187384541.\u001b[0m\n",
      "\u001b[32m[I 2023-08-29 02:37:09,372]\u001b[0m Trial 3 finished with value: 0.34424745722960476 and parameters: {'C': 0.2396852356479776, 'epsilon': 0.1035673231626175, 'kernel': 'rbf', 'degree': 4}. Best is trial 3 with value: 0.34424745722960476.\u001b[0m\n",
      "\u001b[32m[I 2023-08-29 02:37:09,903]\u001b[0m Trial 4 finished with value: 0.1423746243255157 and parameters: {'C': 4.257581806321797, 'epsilon': 0.022637890117437262, 'kernel': 'poly', 'degree': 1}. Best is trial 3 with value: 0.34424745722960476.\u001b[0m\n",
      "\u001b[32m[I 2023-08-29 02:37:35,161]\u001b[0m Trial 5 finished with value: 0.15238995502458916 and parameters: {'C': 92.22138310684358, 'epsilon': 0.029053524924170335, 'kernel': 'linear', 'degree': 4}. Best is trial 3 with value: 0.34424745722960476.\u001b[0m\n",
      "\u001b[32m[I 2023-08-29 02:37:35,831]\u001b[0m Trial 6 finished with value: 0.4775272289868642 and parameters: {'C': 1.7243002504008689, 'epsilon': 0.0639413273328243, 'kernel': 'rbf', 'degree': 1}. Best is trial 6 with value: 0.4775272289868642.\u001b[0m\n",
      "\u001b[32m[I 2023-08-29 02:37:36,744]\u001b[0m Trial 7 finished with value: 0.5555937828857622 and parameters: {'C': 10.83095431928805, 'epsilon': 0.056174900208920936, 'kernel': 'rbf', 'degree': 1}. Best is trial 7 with value: 0.5555937828857622.\u001b[0m\n",
      "\u001b[32m[I 2023-08-29 02:37:37,526]\u001b[0m Trial 8 finished with value: 0.4804183900985707 and parameters: {'C': 1.9126149685079112, 'epsilon': 0.011766733630627345, 'kernel': 'rbf', 'degree': 5}. Best is trial 7 with value: 0.5555937828857622.\u001b[0m\n",
      "\u001b[32m[I 2023-08-29 02:37:38,270]\u001b[0m Trial 9 finished with value: 0.47448325878362213 and parameters: {'C': 1.7211827964307558, 'epsilon': 0.023462349765329953, 'kernel': 'rbf', 'degree': 2}. Best is trial 7 with value: 0.5555937828857622.\u001b[0m\n",
      "\u001b[32m[I 2023-08-29 02:37:45,574]\u001b[0m Trial 10 finished with value: 0.18998437615668254 and parameters: {'C': 33.77603648723748, 'epsilon': 0.3721384085551661, 'kernel': 'linear', 'degree': 2}. Best is trial 7 with value: 0.5555937828857622.\u001b[0m\n",
      "\u001b[32m[I 2023-08-29 02:37:46,294]\u001b[0m Trial 11 finished with value: 0.3671700477144588 and parameters: {'C': 0.3403213962436212, 'epsilon': 0.011048267127291464, 'kernel': 'rbf', 'degree': 3}. Best is trial 7 with value: 0.5555937828857622.\u001b[0m\n",
      "\u001b[32m[I 2023-08-29 02:37:47,028]\u001b[0m Trial 12 finished with value: 0.5721430882339187 and parameters: {'C': 16.984832689602975, 'epsilon': 0.21023818758015753, 'kernel': 'rbf', 'degree': 2}. Best is trial 12 with value: 0.5721430882339187.\u001b[0m\n",
      "\u001b[32m[I 2023-08-29 02:37:47,779]\u001b[0m Trial 13 finished with value: 0.5788941212183811 and parameters: {'C': 24.463381071233403, 'epsilon': 0.26232040714090804, 'kernel': 'rbf', 'degree': 2}. Best is trial 13 with value: 0.5788941212183811.\u001b[0m\n",
      "\u001b[32m[I 2023-08-29 02:37:48,468]\u001b[0m Trial 14 finished with value: 0.5805037758909002 and parameters: {'C': 20.45078719627368, 'epsilon': 0.28138670750219835, 'kernel': 'rbf', 'degree': 2}. Best is trial 14 with value: 0.5805037758909002.\u001b[0m\n",
      "\u001b[32m[I 2023-08-29 02:37:49,037]\u001b[0m Trial 15 finished with value: 0.5510833852383292 and parameters: {'C': 68.2115646645425, 'epsilon': 0.6751295795168442, 'kernel': 'rbf', 'degree': 3}. Best is trial 14 with value: 0.5805037758909002.\u001b[0m\n",
      "\u001b[32m[I 2023-08-29 02:37:54,676]\u001b[0m Trial 16 finished with value: 0.16763941998877532 and parameters: {'C': 20.05557981233545, 'epsilon': 0.17544541271058944, 'kernel': 'linear', 'degree': 2}. Best is trial 14 with value: 0.5805037758909002.\u001b[0m\n",
      "\u001b[32m[I 2023-08-29 02:37:55,034]\u001b[0m Trial 17 finished with value: 0.511945952012266 and parameters: {'C': 50.740371691056815, 'epsilon': 0.9118402185828384, 'kernel': 'rbf', 'degree': 3}. Best is trial 14 with value: 0.5805037758909002.\u001b[0m\n",
      "\u001b[32m[I 2023-08-29 02:37:55,783]\u001b[0m Trial 18 finished with value: 0.5780406726762404 and parameters: {'C': 29.148287652243717, 'epsilon': 0.3363928174866169, 'kernel': 'rbf', 'degree': 2}. Best is trial 14 with value: 0.5805037758909002.\u001b[0m\n",
      "\u001b[32m[I 2023-08-29 02:37:56,455]\u001b[0m Trial 19 finished with value: 0.16038480881088096 and parameters: {'C': 0.7604352440485631, 'epsilon': 0.14734454082063775, 'kernel': 'linear', 'degree': 1}. Best is trial 14 with value: 0.5805037758909002.\u001b[0m\n",
      "\u001b[32m[I 2023-08-29 02:37:56,952]\u001b[0m Trial 20 finished with value: 0.5733742892768511 and parameters: {'C': 10.48794591252385, 'epsilon': 0.36065626691761266, 'kernel': 'rbf', 'degree': 3}. Best is trial 14 with value: 0.5805037758909002.\u001b[0m\n",
      "\u001b[32m[I 2023-08-29 02:37:57,683]\u001b[0m Trial 21 finished with value: 0.5733854704243309 and parameters: {'C': 36.27773814291697, 'epsilon': 0.3606630275175558, 'kernel': 'rbf', 'degree': 2}. Best is trial 14 with value: 0.5805037758909002.\u001b[0m\n",
      "\u001b[32m[I 2023-08-29 02:37:58,423]\u001b[0m Trial 22 finished with value: 0.5797195278111442 and parameters: {'C': 23.121177737615227, 'epsilon': 0.2579393835794956, 'kernel': 'rbf', 'degree': 2}. Best is trial 14 with value: 0.5805037758909002.\u001b[0m\n",
      "\u001b[32m[I 2023-08-29 02:37:58,843]\u001b[0m Trial 23 finished with value: 0.577926322178457 and parameters: {'C': 14.57869790650136, 'epsilon': 0.5776106926795542, 'kernel': 'rbf', 'degree': 2}. Best is trial 14 with value: 0.5805037758909002.\u001b[0m\n",
      "\u001b[32m[I 2023-08-29 02:37:59,364]\u001b[0m Trial 24 finished with value: 0.2780859385154387 and parameters: {'C': 0.10774637038816887, 'epsilon': 0.24479158784581542, 'kernel': 'rbf', 'degree': 3}. Best is trial 14 with value: 0.5805037758909002.\u001b[0m\n",
      "\u001b[32m[I 2023-08-29 02:38:00,070]\u001b[0m Trial 25 finished with value: 0.5510368051678021 and parameters: {'C': 8.158234501387046, 'epsilon': 0.12374014359635405, 'kernel': 'rbf', 'degree': 1}. Best is trial 14 with value: 0.5805037758909002.\u001b[0m\n",
      "\u001b[32m[I 2023-08-29 02:38:00,567]\u001b[0m Trial 26 finished with value: 0.5797838914839072 and parameters: {'C': 22.978846399842276, 'epsilon': 0.5529006405152579, 'kernel': 'rbf', 'degree': 2}. Best is trial 14 with value: 0.5805037758909002.\u001b[0m\n",
      "\u001b[32m[I 2023-08-29 02:38:01,202]\u001b[0m Trial 27 finished with value: 0.5741632192648735 and parameters: {'C': 45.25477784853157, 'epsilon': 0.5040130310654902, 'kernel': 'rbf', 'degree': 3}. Best is trial 14 with value: 0.5805037758909002.\u001b[0m\n",
      "\u001b[32m[I 2023-08-29 02:38:04,170]\u001b[0m Trial 28 finished with value: -0.053375177997587044 and parameters: {'C': 80.84310839570342, 'epsilon': 0.8750593988987909, 'kernel': 'poly', 'degree': 2}. Best is trial 14 with value: 0.5805037758909002.\u001b[0m\n",
      "\u001b[32m[I 2023-08-29 02:38:06,227]\u001b[0m Trial 29 finished with value: 0.20436181232311185 and parameters: {'C': 7.62521965409851, 'epsilon': 0.5120431505894193, 'kernel': 'linear', 'degree': 1}. Best is trial 14 with value: 0.5805037758909002.\u001b[0m\n",
      "\u001b[32m[I 2023-08-29 02:38:08,260]\u001b[0m Trial 30 finished with value: -6.467984487110246 and parameters: {'C': 13.403598298755783, 'epsilon': 0.08800039114435514, 'kernel': 'poly', 'degree': 3}. Best is trial 14 with value: 0.5805037758909002.\u001b[0m\n",
      "\u001b[32m[I 2023-08-29 02:38:09,043]\u001b[0m Trial 31 finished with value: 0.5775883652074 and parameters: {'C': 26.348518902033142, 'epsilon': 0.2584551777238599, 'kernel': 'rbf', 'degree': 2}. Best is trial 14 with value: 0.5805037758909002.\u001b[0m\n",
      "\u001b[32m[I 2023-08-29 02:38:09,752]\u001b[0m Trial 32 finished with value: 0.5805754159715706 and parameters: {'C': 21.61912137054129, 'epsilon': 0.28143126906617794, 'kernel': 'rbf', 'degree': 2}. Best is trial 32 with value: 0.5805754159715706.\u001b[0m\n",
      "\u001b[32m[I 2023-08-29 02:38:10,332]\u001b[0m Trial 33 finished with value: 0.5455282811952381 and parameters: {'C': 6.183902186793067, 'epsilon': 0.19698419810624934, 'kernel': 'rbf', 'degree': 2}. Best is trial 32 with value: 0.5805754159715706.\u001b[0m\n",
      "\u001b[32m[I 2023-08-29 02:38:11,069]\u001b[0m Trial 34 finished with value: 0.5692377881648841 and parameters: {'C': 52.997163004261296, 'epsilon': 0.4607651093040964, 'kernel': 'rbf', 'degree': 1}. Best is trial 32 with value: 0.5805754159715706.\u001b[0m\n",
      "\u001b[32m[I 2023-08-29 02:38:11,442]\u001b[0m Trial 35 finished with value: 0.1700237704151349 and parameters: {'C': 4.326450158193608, 'epsilon': 0.6727812432322615, 'kernel': 'poly', 'degree': 2}. Best is trial 32 with value: 0.5805754159715706.\u001b[0m\n",
      "\u001b[32m[I 2023-08-29 02:38:12,324]\u001b[0m Trial 36 finished with value: 0.5661879353316094 and parameters: {'C': 19.23376358400034, 'epsilon': 0.14580945258359163, 'kernel': 'rbf', 'degree': 4}. Best is trial 32 with value: 0.5805754159715706.\u001b[0m\n",
      "\u001b[32m[I 2023-08-29 02:38:12,731]\u001b[0m Trial 37 finished with value: 0.17658904536037065 and parameters: {'C': 3.183185611645396, 'epsilon': 0.29215058696721774, 'kernel': 'poly', 'degree': 1}. Best is trial 32 with value: 0.5805754159715706.\u001b[0m\n",
      "\u001b[32m[I 2023-08-29 02:38:13,570]\u001b[0m Trial 38 finished with value: 0.55857532233121 and parameters: {'C': 11.703267966657103, 'epsilon': 0.10168401031815905, 'kernel': 'rbf', 'degree': 3}. Best is trial 32 with value: 0.5805754159715706.\u001b[0m\n",
      "\u001b[32m[I 2023-08-29 02:38:14,027]\u001b[0m Trial 39 finished with value: 0.5548892716641309 and parameters: {'C': 38.6785630172009, 'epsilon': 0.7122688845754771, 'kernel': 'rbf', 'degree': 2}. Best is trial 32 with value: 0.5805754159715706.\u001b[0m\n",
      "\u001b[32m[I 2023-08-29 02:38:15,098]\u001b[0m Trial 40 finished with value: 0.542666385614351 and parameters: {'C': 93.64843087874286, 'epsilon': 0.4184636753195539, 'kernel': 'rbf', 'degree': 1}. Best is trial 32 with value: 0.5805754159715706.\u001b[0m\n",
      "\u001b[32m[I 2023-08-29 02:38:15,806]\u001b[0m Trial 41 finished with value: 0.5799347945680456 and parameters: {'C': 24.01883619300821, 'epsilon': 0.2883657218923094, 'kernel': 'rbf', 'degree': 2}. Best is trial 32 with value: 0.5805754159715706.\u001b[0m\n",
      "\u001b[32m[I 2023-08-29 02:38:16,422]\u001b[0m Trial 42 finished with value: 0.581193449494044 and parameters: {'C': 17.21545511289927, 'epsilon': 0.30248555546008954, 'kernel': 'rbf', 'degree': 2}. Best is trial 42 with value: 0.581193449494044.\u001b[0m\n",
      "\u001b[32m[I 2023-08-29 02:38:17,071]\u001b[0m Trial 43 finished with value: 0.5558789921345081 and parameters: {'C': 9.02305082463288, 'epsilon': 0.17420118518931507, 'kernel': 'rbf', 'degree': 2}. Best is trial 42 with value: 0.581193449494044.\u001b[0m\n",
      "\u001b[32m[I 2023-08-29 02:38:18,057]\u001b[0m Trial 44 finished with value: 0.5524102353776128 and parameters: {'C': 58.76453253867871, 'epsilon': 0.30998585451371097, 'kernel': 'rbf', 'degree': 2}. Best is trial 42 with value: 0.581193449494044.\u001b[0m\n",
      "\u001b[32m[I 2023-08-29 02:38:23,516]\u001b[0m Trial 45 finished with value: 0.15300993217763742 and parameters: {'C': 16.351106355757015, 'epsilon': 0.039205048426651866, 'kernel': 'linear', 'degree': 2}. Best is trial 42 with value: 0.581193449494044.\u001b[0m\n",
      "\u001b[32m[I 2023-08-29 02:38:24,250]\u001b[0m Trial 46 finished with value: 0.5348489991991012 and parameters: {'C': 4.791959211689269, 'epsilon': 0.06984917292861488, 'kernel': 'rbf', 'degree': 3}. Best is trial 42 with value: 0.581193449494044.\u001b[0m\n",
      "\u001b[32m[I 2023-08-29 02:38:24,912]\u001b[0m Trial 47 finished with value: 0.5775098768978779 and parameters: {'C': 35.88723760778598, 'epsilon': 0.4422008365886891, 'kernel': 'rbf', 'degree': 1}. Best is trial 42 with value: 0.581193449494044.\u001b[0m\n",
      "\u001b[32m[I 2023-08-29 02:38:25,436]\u001b[0m Trial 48 finished with value: 0.5200320885705247 and parameters: {'C': 3.0134692925949613, 'epsilon': 0.20649384500513224, 'kernel': 'rbf', 'degree': 5}. Best is trial 42 with value: 0.581193449494044.\u001b[0m\n",
      "\u001b[32m[I 2023-08-29 02:38:27,108]\u001b[0m Trial 49 finished with value: -0.08881604656829394 and parameters: {'C': 27.15135009046233, 'epsilon': 0.12488643879559388, 'kernel': 'poly', 'degree': 2}. Best is trial 42 with value: 0.581193449494044.\u001b[0m\n",
      "\u001b[32m[I 2023-08-29 02:38:27,481]\u001b[0m Trial 50 finished with value: 0.4805984986630115 and parameters: {'C': 1.2442547349975894, 'epsilon': 0.5708962899002142, 'kernel': 'rbf', 'degree': 4}. Best is trial 42 with value: 0.581193449494044.\u001b[0m\n",
      "\u001b[32m[I 2023-08-29 02:38:28,198]\u001b[0m Trial 51 finished with value: 0.5794077246519796 and parameters: {'C': 21.908200023416253, 'epsilon': 0.2519480988483663, 'kernel': 'rbf', 'degree': 2}. Best is trial 42 with value: 0.581193449494044.\u001b[0m\n",
      "\u001b[32m[I 2023-08-29 02:38:28,809]\u001b[0m Trial 52 finished with value: 0.5806228694804124 and parameters: {'C': 16.551033569207693, 'epsilon': 0.30422844493393914, 'kernel': 'rbf', 'degree': 2}. Best is trial 42 with value: 0.581193449494044.\u001b[0m\n",
      "\u001b[32m[I 2023-08-29 02:38:29,318]\u001b[0m Trial 53 finished with value: 0.5825003756522492 and parameters: {'C': 13.667865250427718, 'epsilon': 0.4061716965967157, 'kernel': 'rbf', 'degree': 2}. Best is trial 53 with value: 0.5825003756522492.\u001b[0m\n",
      "\u001b[32m[I 2023-08-29 02:38:29,857]\u001b[0m Trial 54 finished with value: 0.5829109050109317 and parameters: {'C': 15.189814957827917, 'epsilon': 0.3846040405864734, 'kernel': 'rbf', 'degree': 2}. Best is trial 54 with value: 0.5829109050109317.\u001b[0m\n",
      "\u001b[32m[I 2023-08-29 02:38:32,875]\u001b[0m Trial 55 finished with value: 0.18712955475370027 and parameters: {'C': 11.348737425238323, 'epsilon': 0.3689355898249432, 'kernel': 'linear', 'degree': 3}. Best is trial 54 with value: 0.5829109050109317.\u001b[0m\n",
      "\u001b[32m[I 2023-08-29 02:38:33,387]\u001b[0m Trial 56 finished with value: 0.5863207512856101 and parameters: {'C': 15.729332064693098, 'epsilon': 0.41944852216662754, 'kernel': 'rbf', 'degree': 2}. Best is trial 56 with value: 0.5863207512856101.\u001b[0m\n",
      "\u001b[32m[I 2023-08-29 02:38:33,921]\u001b[0m Trial 57 finished with value: 0.5851147574553304 and parameters: {'C': 16.23388365957762, 'epsilon': 0.398540435763698, 'kernel': 'rbf', 'degree': 2}. Best is trial 56 with value: 0.5863207512856101.\u001b[0m\n",
      "\u001b[32m[I 2023-08-29 02:38:34,244]\u001b[0m Trial 58 finished with value: 0.5323635733791546 and parameters: {'C': 6.138399185197459, 'epsilon': 0.7744166015656136, 'kernel': 'rbf', 'degree': 1}. Best is trial 56 with value: 0.5863207512856101.\u001b[0m\n",
      "\u001b[32m[I 2023-08-29 02:38:34,765]\u001b[0m Trial 59 finished with value: 0.5830083712889691 and parameters: {'C': 14.384344957492468, 'epsilon': 0.397700990658844, 'kernel': 'rbf', 'degree': 2}. Best is trial 56 with value: 0.5863207512856101.\u001b[0m\n",
      "\u001b[32m[I 2023-08-29 02:38:35,216]\u001b[0m Trial 60 finished with value: 0.5725173640548575 and parameters: {'C': 9.392760037279212, 'epsilon': 0.4264632719594686, 'kernel': 'rbf', 'degree': 3}. Best is trial 56 with value: 0.5863207512856101.\u001b[0m\n",
      "\u001b[32m[I 2023-08-29 02:38:35,752]\u001b[0m Trial 61 finished with value: 0.5824791607028998 and parameters: {'C': 15.071793550389403, 'epsilon': 0.38147227087558844, 'kernel': 'rbf', 'degree': 2}. Best is trial 56 with value: 0.5863207512856101.\u001b[0m\n",
      "\u001b[32m[I 2023-08-29 02:38:36,140]\u001b[0m Trial 62 finished with value: 0.570070339086754 and parameters: {'C': 13.177440297194002, 'epsilon': 0.6281100145252307, 'kernel': 'rbf', 'degree': 2}. Best is trial 56 with value: 0.5863207512856101.\u001b[0m\n",
      "\u001b[32m[I 2023-08-29 02:38:36,580]\u001b[0m Trial 63 finished with value: 0.5629610617072605 and parameters: {'C': 7.067314494020561, 'epsilon': 0.4069492653026727, 'kernel': 'rbf', 'degree': 2}. Best is trial 56 with value: 0.5863207512856101.\u001b[0m\n",
      "\u001b[32m[I 2023-08-29 02:38:37,148]\u001b[0m Trial 64 finished with value: 0.5818656524766076 and parameters: {'C': 16.072695845024448, 'epsilon': 0.3519200532590918, 'kernel': 'rbf', 'degree': 2}. Best is trial 56 with value: 0.5863207512856101.\u001b[0m\n",
      "\u001b[32m[I 2023-08-29 02:38:38,811]\u001b[0m Trial 65 finished with value: 0.5561767661697925 and parameters: {'C': 31.407263506572466, 'epsilon': 0.01387950940299929, 'kernel': 'rbf', 'degree': 2}. Best is trial 56 with value: 0.5863207512856101.\u001b[0m\n",
      "\u001b[32m[I 2023-08-29 02:38:39,247]\u001b[0m Trial 66 finished with value: 0.5775796886200931 and parameters: {'C': 10.70475295124089, 'epsilon': 0.4937985661356034, 'kernel': 'rbf', 'degree': 2}. Best is trial 56 with value: 0.5863207512856101.\u001b[0m\n",
      "\u001b[32m[I 2023-08-29 02:38:41,700]\u001b[0m Trial 67 finished with value: 0.2141793747740242 and parameters: {'C': 13.594938330515983, 'epsilon': 0.7934126435881594, 'kernel': 'linear', 'degree': 1}. Best is trial 56 with value: 0.5863207512856101.\u001b[0m\n",
      "\u001b[32m[I 2023-08-29 02:38:41,974]\u001b[0m Trial 68 finished with value: 0.488569599166388 and parameters: {'C': 8.099057017154593, 'epsilon': 0.9795730369038226, 'kernel': 'rbf', 'degree': 3}. Best is trial 56 with value: 0.5863207512856101.\u001b[0m\n",
      "\u001b[32m[I 2023-08-29 02:38:42,429]\u001b[0m Trial 69 finished with value: 0.5376098621434612 and parameters: {'C': 3.648628305893385, 'epsilon': 0.3730541629421589, 'kernel': 'rbf', 'degree': 2}. Best is trial 56 with value: 0.5863207512856101.\u001b[0m\n",
      "\u001b[32m[I 2023-08-29 02:38:43,283]\u001b[0m Trial 70 finished with value: 0.5653715053828036 and parameters: {'C': 44.579875627523286, 'epsilon': 0.34984828389516787, 'kernel': 'rbf', 'degree': 2}. Best is trial 56 with value: 0.5863207512856101.\u001b[0m\n",
      "\u001b[32m[I 2023-08-29 02:38:43,999]\u001b[0m Trial 71 finished with value: 0.5759334380821561 and parameters: {'C': 17.777668675373786, 'epsilon': 0.23113842693573558, 'kernel': 'rbf', 'degree': 2}. Best is trial 56 with value: 0.5863207512856101.\u001b[0m\n",
      "\u001b[32m[I 2023-08-29 02:38:44,437]\u001b[0m Trial 72 finished with value: 0.5826071265832273 and parameters: {'C': 13.736508696602003, 'epsilon': 0.5263243224992789, 'kernel': 'rbf', 'degree': 2}. Best is trial 56 with value: 0.5863207512856101.\u001b[0m\n",
      "\u001b[32m[I 2023-08-29 02:38:44,844]\u001b[0m Trial 73 finished with value: 0.5749188579042425 and parameters: {'C': 13.977281302225208, 'epsilon': 0.5984738011154105, 'kernel': 'rbf', 'degree': 2}. Best is trial 56 with value: 0.5863207512856101.\u001b[0m\n",
      "\u001b[32m[I 2023-08-29 02:38:45,233]\u001b[0m Trial 74 finished with value: 0.5518803592449757 and parameters: {'C': 5.211431712669517, 'epsilon': 0.5050904439688736, 'kernel': 'rbf', 'degree': 2}. Best is trial 56 with value: 0.5863207512856101.\u001b[0m\n",
      "\u001b[32m[I 2023-08-29 02:38:45,704]\u001b[0m Trial 75 finished with value: 0.5735484181145053 and parameters: {'C': 9.874467550812765, 'epsilon': 0.4124898461151714, 'kernel': 'rbf', 'degree': 2}. Best is trial 56 with value: 0.5863207512856101.\u001b[0m\n",
      "\u001b[32m[I 2023-08-29 02:38:46,092]\u001b[0m Trial 76 finished with value: 0.1320305799176481 and parameters: {'C': 2.2861816468603178, 'epsilon': 0.34200104465082626, 'kernel': 'poly', 'degree': 2}. Best is trial 56 with value: 0.5863207512856101.\u001b[0m\n",
      "\u001b[32m[I 2023-08-29 02:38:46,621]\u001b[0m Trial 77 finished with value: 0.5764995431607658 and parameters: {'C': 29.274468317741004, 'epsilon': 0.5400287040299504, 'kernel': 'rbf', 'degree': 2}. Best is trial 56 with value: 0.5863207512856101.\u001b[0m\n",
      "\u001b[32m[I 2023-08-29 02:38:46,999]\u001b[0m Trial 78 finished with value: 0.5657371228165508 and parameters: {'C': 12.58250520428973, 'epsilon': 0.6566022369490825, 'kernel': 'rbf', 'degree': 1}. Best is trial 56 with value: 0.5863207512856101.\u001b[0m\n",
      "\u001b[32m[I 2023-08-29 02:38:47,481]\u001b[0m Trial 79 finished with value: 0.5876806484254429 and parameters: {'C': 15.628973780369417, 'epsilon': 0.46967709715573724, 'kernel': 'rbf', 'degree': 2}. Best is trial 79 with value: 0.5876806484254429.\u001b[0m\n",
      "\u001b[32m[I 2023-08-29 02:38:47,989]\u001b[0m Trial 80 finished with value: 0.5887224068822077 and parameters: {'C': 18.895093039123864, 'epsilon': 0.4800902363936998, 'kernel': 'rbf', 'degree': 3}. Best is trial 80 with value: 0.5887224068822077.\u001b[0m\n",
      "\u001b[32m[I 2023-08-29 02:38:48,500]\u001b[0m Trial 81 finished with value: 0.5895210315946482 and parameters: {'C': 18.886460992870358, 'epsilon': 0.46310608928603536, 'kernel': 'rbf', 'degree': 3}. Best is trial 81 with value: 0.5895210315946482.\u001b[0m\n",
      "\u001b[32m[I 2023-08-29 02:38:49,008]\u001b[0m Trial 82 finished with value: 0.5885394102334259 and parameters: {'C': 19.510861273491315, 'epsilon': 0.4829587702274546, 'kernel': 'rbf', 'degree': 3}. Best is trial 81 with value: 0.5895210315946482.\u001b[0m\n",
      "\u001b[32m[I 2023-08-29 02:38:49,521]\u001b[0m Trial 83 finished with value: 0.588096346319519 and parameters: {'C': 20.569542610357953, 'epsilon': 0.4885542887819216, 'kernel': 'rbf', 'degree': 3}. Best is trial 81 with value: 0.5895210315946482.\u001b[0m\n",
      "\u001b[32m[I 2023-08-29 02:38:49,928]\u001b[0m Trial 84 finished with value: 0.5567144276561221 and parameters: {'C': 21.450588208375695, 'epsilon': 0.7031899140339704, 'kernel': 'rbf', 'degree': 3}. Best is trial 81 with value: 0.5895210315946482.\u001b[0m\n",
      "\u001b[32m[I 2023-08-29 02:38:50,438]\u001b[0m Trial 85 finished with value: 0.5891424659913513 and parameters: {'C': 19.303050068210332, 'epsilon': 0.4709982714924385, 'kernel': 'rbf', 'degree': 3}. Best is trial 81 with value: 0.5895210315946482.\u001b[0m\n",
      "\u001b[32m[I 2023-08-29 02:38:51,089]\u001b[0m Trial 86 finished with value: 0.5746762637773208 and parameters: {'C': 42.29589068384567, 'epsilon': 0.4793162421841217, 'kernel': 'rbf', 'degree': 3}. Best is trial 81 with value: 0.5895210315946482.\u001b[0m\n",
      "\u001b[32m[I 2023-08-29 02:38:56,250]\u001b[0m Trial 87 finished with value: 0.21376451806704141 and parameters: {'C': 32.86026711286543, 'epsilon': 0.7979130612601862, 'kernel': 'linear', 'degree': 3}. Best is trial 81 with value: 0.5895210315946482.\u001b[0m\n",
      "\u001b[32m[I 2023-08-29 02:38:57,254]\u001b[0m Trial 88 finished with value: -11.892241362322151 and parameters: {'C': 25.221519197707924, 'epsilon': 0.446016767681497, 'kernel': 'poly', 'degree': 4}. Best is trial 81 with value: 0.5895210315946482.\u001b[0m\n",
      "\u001b[32m[I 2023-08-29 02:38:57,678]\u001b[0m Trial 89 finished with value: 0.5718036227601155 and parameters: {'C': 19.053574497353754, 'epsilon': 0.626177476484388, 'kernel': 'rbf', 'degree': 3}. Best is trial 81 with value: 0.5895210315946482.\u001b[0m\n",
      "\u001b[32m[I 2023-08-29 02:38:58,351]\u001b[0m Trial 90 finished with value: 0.5624947792649295 and parameters: {'C': 66.54404330923123, 'epsilon': 0.5659624387149985, 'kernel': 'rbf', 'degree': 3}. Best is trial 81 with value: 0.5895210315946482.\u001b[0m\n",
      "\u001b[32m[I 2023-08-29 02:38:58,979]\u001b[0m Trial 91 finished with value: 0.5826543235020023 and parameters: {'C': 19.51847416883446, 'epsilon': 0.3223970530982995, 'kernel': 'rbf', 'degree': 3}. Best is trial 81 with value: 0.5895210315946482.\u001b[0m\n",
      "\u001b[32m[I 2023-08-29 02:38:59,553]\u001b[0m Trial 92 finished with value: 0.5856963978834147 and parameters: {'C': 25.48409588699038, 'epsilon': 0.44114057403505563, 'kernel': 'rbf', 'degree': 3}. Best is trial 81 with value: 0.5895210315946482.\u001b[0m\n",
      "\u001b[32m[I 2023-08-29 02:39:00,118]\u001b[0m Trial 93 finished with value: 0.5839651451409282 and parameters: {'C': 26.95746632576513, 'epsilon': 0.46595123273344347, 'kernel': 'rbf', 'degree': 3}. Best is trial 81 with value: 0.5895210315946482.\u001b[0m\n",
      "\u001b[32m[I 2023-08-29 02:39:00,674]\u001b[0m Trial 94 finished with value: 0.5833264964642026 and parameters: {'C': 27.235399099840325, 'epsilon': 0.4828771184588595, 'kernel': 'rbf', 'degree': 3}. Best is trial 81 with value: 0.5895210315946482.\u001b[0m\n",
      "\u001b[32m[I 2023-08-29 02:39:01,221]\u001b[0m Trial 95 finished with value: 0.5713531639884033 and parameters: {'C': 37.090812137963525, 'epsilon': 0.5856312829430038, 'kernel': 'rbf', 'degree': 3}. Best is trial 81 with value: 0.5895210315946482.\u001b[0m\n",
      "\u001b[32m[I 2023-08-29 02:39:01,629]\u001b[0m Trial 96 finished with value: 0.4025187881885707 and parameters: {'C': 0.36075177477893733, 'epsilon': 0.4528955096783572, 'kernel': 'rbf', 'degree': 3}. Best is trial 81 with value: 0.5895210315946482.\u001b[0m\n",
      "\u001b[32m[I 2023-08-29 02:39:02,040]\u001b[0m Trial 97 finished with value: 0.5501790660543706 and parameters: {'C': 24.36874656248263, 'epsilon': 0.741450516127819, 'kernel': 'rbf', 'degree': 4}. Best is trial 81 with value: 0.5895210315946482.\u001b[0m\n",
      "\u001b[32m[I 2023-08-29 02:39:02,675]\u001b[0m Trial 98 finished with value: 0.5721900884619272 and parameters: {'C': 50.99283155576258, 'epsilon': 0.530979007881173, 'kernel': 'rbf', 'degree': 3}. Best is trial 81 with value: 0.5895210315946482.\u001b[0m\n",
      "\u001b[32m[I 2023-08-29 02:39:03,036]\u001b[0m Trial 99 finished with value: 0.5280131419788316 and parameters: {'C': 30.30263425559706, 'epsilon': 0.8513991909503789, 'kernel': 'rbf', 'degree': 3}. Best is trial 81 with value: 0.5895210315946482.\u001b[0m\n"
     ]
    },
    {
     "name": "stdout",
     "output_type": "stream",
     "text": [
      "Best r2:  0.5895210315946482\n",
      "Best trial: {'C': 18.886460992870358, 'epsilon': 0.46310608928603536, 'kernel': 'rbf', 'degree': 3}\n"
     ]
    }
   ],
   "source": [
    "sampler = TPESampler()\n",
    "study = optuna.create_study(\n",
    "    study_name=\"svm_parameter_opt\",\n",
    "    direction=\"maximize\",\n",
    "    sampler=sampler,\n",
    ")\n",
    "\n",
    "study.optimize(lambda trial : objectiveSVM(trial, Ni_X_train, Ni_y_train), n_trials=100)\n",
    "print(\"Best r2: \", study.best_value)\n",
    "print(\"Best trial:\", study.best_trial.params)"
   ]
  },
  {
   "cell_type": "code",
   "execution_count": 132,
   "id": "d71c01fb",
   "metadata": {},
   "outputs": [
    {
     "data": {
      "application/vnd.plotly.v1+json": {
       "config": {
        "plotlyServerURL": "https://plot.ly"
       },
       "data": [
        {
         "dimensions": [
          {
           "label": "Objective Value",
           "range": [
            -43.03246657122715,
            0.5895210315946482
           ],
           "values": [
            -0.5229652187384541,
            -19.834159898815262,
            -43.03246657122715,
            0.34424745722960476,
            0.1423746243255157,
            0.15238995502458916,
            0.4775272289868642,
            0.5555937828857622,
            0.4804183900985707,
            0.47448325878362213,
            0.18998437615668254,
            0.3671700477144588,
            0.5721430882339187,
            0.5788941212183811,
            0.5805037758909002,
            0.5510833852383292,
            0.16763941998877532,
            0.511945952012266,
            0.5780406726762404,
            0.16038480881088096,
            0.5733742892768511,
            0.5733854704243309,
            0.5797195278111442,
            0.577926322178457,
            0.2780859385154387,
            0.5510368051678021,
            0.5797838914839072,
            0.5741632192648735,
            -0.053375177997587044,
            0.20436181232311185,
            -6.467984487110246,
            0.5775883652074,
            0.5805754159715706,
            0.5455282811952381,
            0.5692377881648841,
            0.1700237704151349,
            0.5661879353316094,
            0.17658904536037065,
            0.55857532233121,
            0.5548892716641309,
            0.542666385614351,
            0.5799347945680456,
            0.581193449494044,
            0.5558789921345081,
            0.5524102353776128,
            0.15300993217763742,
            0.5348489991991012,
            0.5775098768978779,
            0.5200320885705247,
            -0.08881604656829394,
            0.4805984986630115,
            0.5794077246519796,
            0.5806228694804124,
            0.5825003756522492,
            0.5829109050109317,
            0.18712955475370027,
            0.5863207512856101,
            0.5851147574553304,
            0.5323635733791546,
            0.5830083712889691,
            0.5725173640548575,
            0.5824791607028998,
            0.570070339086754,
            0.5629610617072605,
            0.5818656524766076,
            0.5561767661697925,
            0.5775796886200931,
            0.2141793747740242,
            0.488569599166388,
            0.5376098621434612,
            0.5653715053828036,
            0.5759334380821561,
            0.5826071265832273,
            0.5749188579042425,
            0.5518803592449757,
            0.5735484181145053,
            0.1320305799176481,
            0.5764995431607658,
            0.5657371228165508,
            0.5876806484254429,
            0.5887224068822077,
            0.5895210315946482,
            0.5885394102334259,
            0.588096346319519,
            0.5567144276561221,
            0.5891424659913513,
            0.5746762637773208,
            0.21376451806704141,
            -11.892241362322151,
            0.5718036227601155,
            0.5624947792649295,
            0.5826543235020023,
            0.5856963978834147,
            0.5839651451409282,
            0.5833264964642026,
            0.5713531639884033,
            0.4025187881885707,
            0.5501790660543706,
            0.5721900884619272,
            0.5280131419788316
           ]
          },
          {
           "label": "C",
           "range": [
            -0.9675973508372064,
            1.971500504974337
           ],
           "ticktext": [
            "0.108",
            "1",
            "10",
            "93.6"
           ],
           "tickvals": [
            -0.9675973508372064,
            0,
            1,
            1.971500504974337
           ],
           "values": [
            0.8317501132901751,
            0.7355332606830944,
            0.4728637446594229,
            -0.6203587172141419,
            0.6291630013657757,
            1.964831631342136,
            0.23661289126751095,
            1.0346667241545282,
            0.28162755032912223,
            0.2358269965712599,
            1.5286086851191159,
            -0.46811074564875055,
            1.2300612731760159,
            1.3885164804640793,
            1.3107100296254137,
            1.8338580116684178,
            1.302235222072233,
            1.7053536442570896,
            1.4646130467442653,
            -0.11893776300451216,
            1.020690438983992,
            1.5596402016881639,
            1.3640099522363933,
            1.1637187367889494,
            -0.9675973508372064,
            0.9115961845793461,
            1.3613282221434568,
            1.6556644373249423,
            1.9076430036699419,
            0.8822523586009764,
            1.127221403701587,
            1.420756207755303,
            1.33483803967837,
            0.791262611558395,
            1.7242526219673642,
            0.6361317048969621,
            1.284064273517554,
            0.502861963083189,
            1.0683071490721427,
            1.5874703308377256,
            1.971500504974337,
            1.3805519603025453,
            1.2359185083307398,
            0.9553534036488789,
            1.7691152857673202,
            1.2135471434149323,
            0.6805131127590375,
            1.5549400301396794,
            0.4790667703436652,
            1.433791429588215,
            0.09490930212203795,
            1.3406066974141955,
            1.2188251195248967,
            1.1357006884992629,
            1.1815524833240278,
            1.054947547894574,
            1.1967102809972852,
            1.210422429262939,
            0.7880551275450367,
            1.157890089526743,
            0.9727932272852942,
            1.178164936633732,
            1.1198310572407848,
            0.8492544177585768,
            1.2060887263231062,
            1.4970300982651716,
            1.0295766489166882,
            1.1333772418773729,
            0.9084344563988315,
            0.5621296230463333,
            1.6491388525166801,
            1.2498748079387456,
            1.137876365440315,
            1.1454227057255704,
            0.7169570514174064,
            0.9945136869842466,
            0.3591107339748383,
            1.4664890161690616,
            1.099767118699127,
            1.193930462590237,
            1.276349034717104,
            1.2761505860181708,
            1.2902764410023473,
            1.313224634718247,
            1.33143920571185,
            1.2856259371495187,
            1.6262981749395187,
            1.5166710893842532,
            1.4017712424000461,
            1.2799764623660548,
            1.8231091856752528,
            1.2904458642550518,
            1.4062692304985482,
            1.43067907137783,
            1.435133743684364,
            1.569266342715902,
            -0.4427915236445774,
            1.386833191269381,
            1.7075091283608792,
            1.481480384044931
           ]
          },
          {
           "label": "degree",
           "range": [
            1,
            5
           ],
           "values": [
            4,
            5,
            5,
            4,
            1,
            4,
            1,
            1,
            5,
            2,
            2,
            3,
            2,
            2,
            2,
            3,
            2,
            3,
            2,
            1,
            3,
            2,
            2,
            2,
            3,
            1,
            2,
            3,
            2,
            1,
            3,
            2,
            2,
            2,
            1,
            2,
            4,
            1,
            3,
            2,
            1,
            2,
            2,
            2,
            2,
            2,
            3,
            1,
            5,
            2,
            4,
            2,
            2,
            2,
            2,
            3,
            2,
            2,
            1,
            2,
            3,
            2,
            2,
            2,
            2,
            2,
            2,
            1,
            3,
            2,
            2,
            2,
            2,
            2,
            2,
            2,
            2,
            2,
            1,
            2,
            3,
            3,
            3,
            3,
            3,
            3,
            3,
            3,
            4,
            3,
            3,
            3,
            3,
            3,
            3,
            3,
            3,
            4,
            3,
            3
           ]
          },
          {
           "label": "epsilon",
           "range": [
            -1.956705833840526,
            -0.008963177492855669
           ],
           "ticktext": [
            "0.011",
            "0.1",
            "0.98"
           ],
           "tickvals": [
            -1.956705833840526,
            -1,
            -0.008963177492855669
           ],
           "values": [
            -1.1177809578437534,
            -1.2968231880897516,
            -1.4715175181740656,
            -0.9847772485358318,
            -1.6451640524419742,
            -1.5368011692204004,
            -1.1942183526226977,
            -1.2504576904042224,
            -1.9293440777741184,
            -1.6296284952463387,
            -0.4292955039566171,
            -1.956705833840526,
            -0.6772883960668947,
            -0.5811679222806228,
            -0.5506964221635211,
            -0.17061286380865814,
            -0.7558579825954698,
            -0.040081256262825396,
            -0.4731532856423462,
            -0.8316659503155388,
            -0.44290651692160404,
            -0.442898376029568,
            -0.588482342369953,
            -0.23836477574183776,
            -0.6112035106070135,
            -0.9074893843313081,
            -0.2573529069466301,
            -0.29755823489043637,
            -0.057962466133776924,
            -0.290693438881146,
            -1.0555153974923592,
            -0.5876147630343945,
            -0.5506276509366326,
            -0.7055686111506455,
            -0.336520414590049,
            -0.17212612493053447,
            -0.8362143205185661,
            -0.534393236800684,
            -0.9927473339656333,
            -0.14735602737006084,
            -0.378342234905977,
            -0.5400563655815389,
            -0.5192953593049189,
            -0.7589488945669975,
            -0.5086581237360654,
            -1.406658005360487,
            -1.155838731921528,
            -0.35438044012567305,
            -0.6850928888993248,
            -0.9034847183592382,
            -0.24344277934591804,
            -0.5986889143980276,
            -0.5168001824581899,
            -0.39129034296993626,
            -0.41498615744753586,
            -0.43304944800158546,
            -0.3773213314045253,
            -0.399527608676532,
            -0.11102534540646218,
            -0.40044332720075954,
            -0.3701183653690822,
            -0.4185370253195761,
            -0.2019642821915735,
            -0.39045973124779976,
            -0.4535559853056651,
            -1.8576258845537694,
            -0.306450175482052,
            -0.10050088301889239,
            -0.008963177492855669,
            -0.42822810931941546,
            -0.4561202520839455,
            -0.6361278467371481,
            -0.2787465599026398,
            -0.22295485658597297,
            -0.29663084802070516,
            -0.384586737612059,
            -0.4659725673783782,
            -0.26758315560201557,
            -0.1826976420255213,
            -0.32820061678373336,
            -0.31867712619800087,
            -0.33431950852038533,
            -0.3160899430103695,
            -0.3110871699014041,
            -0.15292736704521273,
            -0.3269806866772043,
            -0.3193778541890547,
            -0.09804442578191222,
            -0.35064881399040554,
            -0.20330255794948826,
            -0.24721239072004886,
            -0.49160893655986376,
            -0.3554229960208301,
            -0.3316595349474642,
            -0.31616337352385193,
            -0.23237573241644624,
            -0.3440019851937901,
            -0.12991782816863776,
            -0.2749226483000414,
            -0.06986676685086379
           ]
          },
          {
           "label": "kernel",
           "range": [
            0,
            2
           ],
           "ticktext": [
            "poly",
            "rbf",
            "linear"
           ],
           "tickvals": [
            0,
            1,
            2
           ],
           "values": [
            0,
            0,
            0,
            1,
            0,
            2,
            1,
            1,
            1,
            1,
            2,
            1,
            1,
            1,
            1,
            1,
            2,
            1,
            1,
            2,
            1,
            1,
            1,
            1,
            1,
            1,
            1,
            1,
            0,
            2,
            0,
            1,
            1,
            1,
            1,
            0,
            1,
            0,
            1,
            1,
            1,
            1,
            1,
            1,
            1,
            2,
            1,
            1,
            1,
            0,
            1,
            1,
            1,
            1,
            1,
            2,
            1,
            1,
            1,
            1,
            1,
            1,
            1,
            1,
            1,
            1,
            1,
            2,
            1,
            1,
            1,
            1,
            1,
            1,
            1,
            1,
            0,
            1,
            1,
            1,
            1,
            1,
            1,
            1,
            1,
            1,
            1,
            2,
            0,
            1,
            1,
            1,
            1,
            1,
            1,
            1,
            1,
            1,
            1,
            1
           ]
          }
         ],
         "labelangle": 30,
         "labelside": "bottom",
         "line": {
          "color": [
           -0.5229652187384541,
           -19.834159898815262,
           -43.03246657122715,
           0.34424745722960476,
           0.1423746243255157,
           0.15238995502458916,
           0.4775272289868642,
           0.5555937828857622,
           0.4804183900985707,
           0.47448325878362213,
           0.18998437615668254,
           0.3671700477144588,
           0.5721430882339187,
           0.5788941212183811,
           0.5805037758909002,
           0.5510833852383292,
           0.16763941998877532,
           0.511945952012266,
           0.5780406726762404,
           0.16038480881088096,
           0.5733742892768511,
           0.5733854704243309,
           0.5797195278111442,
           0.577926322178457,
           0.2780859385154387,
           0.5510368051678021,
           0.5797838914839072,
           0.5741632192648735,
           -0.053375177997587044,
           0.20436181232311185,
           -6.467984487110246,
           0.5775883652074,
           0.5805754159715706,
           0.5455282811952381,
           0.5692377881648841,
           0.1700237704151349,
           0.5661879353316094,
           0.17658904536037065,
           0.55857532233121,
           0.5548892716641309,
           0.542666385614351,
           0.5799347945680456,
           0.581193449494044,
           0.5558789921345081,
           0.5524102353776128,
           0.15300993217763742,
           0.5348489991991012,
           0.5775098768978779,
           0.5200320885705247,
           -0.08881604656829394,
           0.4805984986630115,
           0.5794077246519796,
           0.5806228694804124,
           0.5825003756522492,
           0.5829109050109317,
           0.18712955475370027,
           0.5863207512856101,
           0.5851147574553304,
           0.5323635733791546,
           0.5830083712889691,
           0.5725173640548575,
           0.5824791607028998,
           0.570070339086754,
           0.5629610617072605,
           0.5818656524766076,
           0.5561767661697925,
           0.5775796886200931,
           0.2141793747740242,
           0.488569599166388,
           0.5376098621434612,
           0.5653715053828036,
           0.5759334380821561,
           0.5826071265832273,
           0.5749188579042425,
           0.5518803592449757,
           0.5735484181145053,
           0.1320305799176481,
           0.5764995431607658,
           0.5657371228165508,
           0.5876806484254429,
           0.5887224068822077,
           0.5895210315946482,
           0.5885394102334259,
           0.588096346319519,
           0.5567144276561221,
           0.5891424659913513,
           0.5746762637773208,
           0.21376451806704141,
           -11.892241362322151,
           0.5718036227601155,
           0.5624947792649295,
           0.5826543235020023,
           0.5856963978834147,
           0.5839651451409282,
           0.5833264964642026,
           0.5713531639884033,
           0.4025187881885707,
           0.5501790660543706,
           0.5721900884619272,
           0.5280131419788316
          ],
          "colorbar": {
           "title": {
            "text": "Objective Value"
           }
          },
          "colorscale": [
           [
            0,
            "rgb(247,251,255)"
           ],
           [
            0.125,
            "rgb(222,235,247)"
           ],
           [
            0.25,
            "rgb(198,219,239)"
           ],
           [
            0.375,
            "rgb(158,202,225)"
           ],
           [
            0.5,
            "rgb(107,174,214)"
           ],
           [
            0.625,
            "rgb(66,146,198)"
           ],
           [
            0.75,
            "rgb(33,113,181)"
           ],
           [
            0.875,
            "rgb(8,81,156)"
           ],
           [
            1,
            "rgb(8,48,107)"
           ]
          ],
          "reversescale": false,
          "showscale": true
         },
         "type": "parcoords"
        }
       ],
       "layout": {
        "template": {
         "data": {
          "bar": [
           {
            "error_x": {
             "color": "#2a3f5f"
            },
            "error_y": {
             "color": "#2a3f5f"
            },
            "marker": {
             "line": {
              "color": "#E5ECF6",
              "width": 0.5
             },
             "pattern": {
              "fillmode": "overlay",
              "size": 10,
              "solidity": 0.2
             }
            },
            "type": "bar"
           }
          ],
          "barpolar": [
           {
            "marker": {
             "line": {
              "color": "#E5ECF6",
              "width": 0.5
             },
             "pattern": {
              "fillmode": "overlay",
              "size": 10,
              "solidity": 0.2
             }
            },
            "type": "barpolar"
           }
          ],
          "carpet": [
           {
            "aaxis": {
             "endlinecolor": "#2a3f5f",
             "gridcolor": "white",
             "linecolor": "white",
             "minorgridcolor": "white",
             "startlinecolor": "#2a3f5f"
            },
            "baxis": {
             "endlinecolor": "#2a3f5f",
             "gridcolor": "white",
             "linecolor": "white",
             "minorgridcolor": "white",
             "startlinecolor": "#2a3f5f"
            },
            "type": "carpet"
           }
          ],
          "choropleth": [
           {
            "colorbar": {
             "outlinewidth": 0,
             "ticks": ""
            },
            "type": "choropleth"
           }
          ],
          "contour": [
           {
            "colorbar": {
             "outlinewidth": 0,
             "ticks": ""
            },
            "colorscale": [
             [
              0,
              "#0d0887"
             ],
             [
              0.1111111111111111,
              "#46039f"
             ],
             [
              0.2222222222222222,
              "#7201a8"
             ],
             [
              0.3333333333333333,
              "#9c179e"
             ],
             [
              0.4444444444444444,
              "#bd3786"
             ],
             [
              0.5555555555555556,
              "#d8576b"
             ],
             [
              0.6666666666666666,
              "#ed7953"
             ],
             [
              0.7777777777777778,
              "#fb9f3a"
             ],
             [
              0.8888888888888888,
              "#fdca26"
             ],
             [
              1,
              "#f0f921"
             ]
            ],
            "type": "contour"
           }
          ],
          "contourcarpet": [
           {
            "colorbar": {
             "outlinewidth": 0,
             "ticks": ""
            },
            "type": "contourcarpet"
           }
          ],
          "heatmap": [
           {
            "colorbar": {
             "outlinewidth": 0,
             "ticks": ""
            },
            "colorscale": [
             [
              0,
              "#0d0887"
             ],
             [
              0.1111111111111111,
              "#46039f"
             ],
             [
              0.2222222222222222,
              "#7201a8"
             ],
             [
              0.3333333333333333,
              "#9c179e"
             ],
             [
              0.4444444444444444,
              "#bd3786"
             ],
             [
              0.5555555555555556,
              "#d8576b"
             ],
             [
              0.6666666666666666,
              "#ed7953"
             ],
             [
              0.7777777777777778,
              "#fb9f3a"
             ],
             [
              0.8888888888888888,
              "#fdca26"
             ],
             [
              1,
              "#f0f921"
             ]
            ],
            "type": "heatmap"
           }
          ],
          "heatmapgl": [
           {
            "colorbar": {
             "outlinewidth": 0,
             "ticks": ""
            },
            "colorscale": [
             [
              0,
              "#0d0887"
             ],
             [
              0.1111111111111111,
              "#46039f"
             ],
             [
              0.2222222222222222,
              "#7201a8"
             ],
             [
              0.3333333333333333,
              "#9c179e"
             ],
             [
              0.4444444444444444,
              "#bd3786"
             ],
             [
              0.5555555555555556,
              "#d8576b"
             ],
             [
              0.6666666666666666,
              "#ed7953"
             ],
             [
              0.7777777777777778,
              "#fb9f3a"
             ],
             [
              0.8888888888888888,
              "#fdca26"
             ],
             [
              1,
              "#f0f921"
             ]
            ],
            "type": "heatmapgl"
           }
          ],
          "histogram": [
           {
            "marker": {
             "pattern": {
              "fillmode": "overlay",
              "size": 10,
              "solidity": 0.2
             }
            },
            "type": "histogram"
           }
          ],
          "histogram2d": [
           {
            "colorbar": {
             "outlinewidth": 0,
             "ticks": ""
            },
            "colorscale": [
             [
              0,
              "#0d0887"
             ],
             [
              0.1111111111111111,
              "#46039f"
             ],
             [
              0.2222222222222222,
              "#7201a8"
             ],
             [
              0.3333333333333333,
              "#9c179e"
             ],
             [
              0.4444444444444444,
              "#bd3786"
             ],
             [
              0.5555555555555556,
              "#d8576b"
             ],
             [
              0.6666666666666666,
              "#ed7953"
             ],
             [
              0.7777777777777778,
              "#fb9f3a"
             ],
             [
              0.8888888888888888,
              "#fdca26"
             ],
             [
              1,
              "#f0f921"
             ]
            ],
            "type": "histogram2d"
           }
          ],
          "histogram2dcontour": [
           {
            "colorbar": {
             "outlinewidth": 0,
             "ticks": ""
            },
            "colorscale": [
             [
              0,
              "#0d0887"
             ],
             [
              0.1111111111111111,
              "#46039f"
             ],
             [
              0.2222222222222222,
              "#7201a8"
             ],
             [
              0.3333333333333333,
              "#9c179e"
             ],
             [
              0.4444444444444444,
              "#bd3786"
             ],
             [
              0.5555555555555556,
              "#d8576b"
             ],
             [
              0.6666666666666666,
              "#ed7953"
             ],
             [
              0.7777777777777778,
              "#fb9f3a"
             ],
             [
              0.8888888888888888,
              "#fdca26"
             ],
             [
              1,
              "#f0f921"
             ]
            ],
            "type": "histogram2dcontour"
           }
          ],
          "mesh3d": [
           {
            "colorbar": {
             "outlinewidth": 0,
             "ticks": ""
            },
            "type": "mesh3d"
           }
          ],
          "parcoords": [
           {
            "line": {
             "colorbar": {
              "outlinewidth": 0,
              "ticks": ""
             }
            },
            "type": "parcoords"
           }
          ],
          "pie": [
           {
            "automargin": true,
            "type": "pie"
           }
          ],
          "scatter": [
           {
            "marker": {
             "colorbar": {
              "outlinewidth": 0,
              "ticks": ""
             }
            },
            "type": "scatter"
           }
          ],
          "scatter3d": [
           {
            "line": {
             "colorbar": {
              "outlinewidth": 0,
              "ticks": ""
             }
            },
            "marker": {
             "colorbar": {
              "outlinewidth": 0,
              "ticks": ""
             }
            },
            "type": "scatter3d"
           }
          ],
          "scattercarpet": [
           {
            "marker": {
             "colorbar": {
              "outlinewidth": 0,
              "ticks": ""
             }
            },
            "type": "scattercarpet"
           }
          ],
          "scattergeo": [
           {
            "marker": {
             "colorbar": {
              "outlinewidth": 0,
              "ticks": ""
             }
            },
            "type": "scattergeo"
           }
          ],
          "scattergl": [
           {
            "marker": {
             "colorbar": {
              "outlinewidth": 0,
              "ticks": ""
             }
            },
            "type": "scattergl"
           }
          ],
          "scattermapbox": [
           {
            "marker": {
             "colorbar": {
              "outlinewidth": 0,
              "ticks": ""
             }
            },
            "type": "scattermapbox"
           }
          ],
          "scatterpolar": [
           {
            "marker": {
             "colorbar": {
              "outlinewidth": 0,
              "ticks": ""
             }
            },
            "type": "scatterpolar"
           }
          ],
          "scatterpolargl": [
           {
            "marker": {
             "colorbar": {
              "outlinewidth": 0,
              "ticks": ""
             }
            },
            "type": "scatterpolargl"
           }
          ],
          "scatterternary": [
           {
            "marker": {
             "colorbar": {
              "outlinewidth": 0,
              "ticks": ""
             }
            },
            "type": "scatterternary"
           }
          ],
          "surface": [
           {
            "colorbar": {
             "outlinewidth": 0,
             "ticks": ""
            },
            "colorscale": [
             [
              0,
              "#0d0887"
             ],
             [
              0.1111111111111111,
              "#46039f"
             ],
             [
              0.2222222222222222,
              "#7201a8"
             ],
             [
              0.3333333333333333,
              "#9c179e"
             ],
             [
              0.4444444444444444,
              "#bd3786"
             ],
             [
              0.5555555555555556,
              "#d8576b"
             ],
             [
              0.6666666666666666,
              "#ed7953"
             ],
             [
              0.7777777777777778,
              "#fb9f3a"
             ],
             [
              0.8888888888888888,
              "#fdca26"
             ],
             [
              1,
              "#f0f921"
             ]
            ],
            "type": "surface"
           }
          ],
          "table": [
           {
            "cells": {
             "fill": {
              "color": "#EBF0F8"
             },
             "line": {
              "color": "white"
             }
            },
            "header": {
             "fill": {
              "color": "#C8D4E3"
             },
             "line": {
              "color": "white"
             }
            },
            "type": "table"
           }
          ]
         },
         "layout": {
          "annotationdefaults": {
           "arrowcolor": "#2a3f5f",
           "arrowhead": 0,
           "arrowwidth": 1
          },
          "autotypenumbers": "strict",
          "coloraxis": {
           "colorbar": {
            "outlinewidth": 0,
            "ticks": ""
           }
          },
          "colorscale": {
           "diverging": [
            [
             0,
             "#8e0152"
            ],
            [
             0.1,
             "#c51b7d"
            ],
            [
             0.2,
             "#de77ae"
            ],
            [
             0.3,
             "#f1b6da"
            ],
            [
             0.4,
             "#fde0ef"
            ],
            [
             0.5,
             "#f7f7f7"
            ],
            [
             0.6,
             "#e6f5d0"
            ],
            [
             0.7,
             "#b8e186"
            ],
            [
             0.8,
             "#7fbc41"
            ],
            [
             0.9,
             "#4d9221"
            ],
            [
             1,
             "#276419"
            ]
           ],
           "sequential": [
            [
             0,
             "#0d0887"
            ],
            [
             0.1111111111111111,
             "#46039f"
            ],
            [
             0.2222222222222222,
             "#7201a8"
            ],
            [
             0.3333333333333333,
             "#9c179e"
            ],
            [
             0.4444444444444444,
             "#bd3786"
            ],
            [
             0.5555555555555556,
             "#d8576b"
            ],
            [
             0.6666666666666666,
             "#ed7953"
            ],
            [
             0.7777777777777778,
             "#fb9f3a"
            ],
            [
             0.8888888888888888,
             "#fdca26"
            ],
            [
             1,
             "#f0f921"
            ]
           ],
           "sequentialminus": [
            [
             0,
             "#0d0887"
            ],
            [
             0.1111111111111111,
             "#46039f"
            ],
            [
             0.2222222222222222,
             "#7201a8"
            ],
            [
             0.3333333333333333,
             "#9c179e"
            ],
            [
             0.4444444444444444,
             "#bd3786"
            ],
            [
             0.5555555555555556,
             "#d8576b"
            ],
            [
             0.6666666666666666,
             "#ed7953"
            ],
            [
             0.7777777777777778,
             "#fb9f3a"
            ],
            [
             0.8888888888888888,
             "#fdca26"
            ],
            [
             1,
             "#f0f921"
            ]
           ]
          },
          "colorway": [
           "#636efa",
           "#EF553B",
           "#00cc96",
           "#ab63fa",
           "#FFA15A",
           "#19d3f3",
           "#FF6692",
           "#B6E880",
           "#FF97FF",
           "#FECB52"
          ],
          "font": {
           "color": "#2a3f5f"
          },
          "geo": {
           "bgcolor": "white",
           "lakecolor": "white",
           "landcolor": "#E5ECF6",
           "showlakes": true,
           "showland": true,
           "subunitcolor": "white"
          },
          "hoverlabel": {
           "align": "left"
          },
          "hovermode": "closest",
          "mapbox": {
           "style": "light"
          },
          "paper_bgcolor": "white",
          "plot_bgcolor": "#E5ECF6",
          "polar": {
           "angularaxis": {
            "gridcolor": "white",
            "linecolor": "white",
            "ticks": ""
           },
           "bgcolor": "#E5ECF6",
           "radialaxis": {
            "gridcolor": "white",
            "linecolor": "white",
            "ticks": ""
           }
          },
          "scene": {
           "xaxis": {
            "backgroundcolor": "#E5ECF6",
            "gridcolor": "white",
            "gridwidth": 2,
            "linecolor": "white",
            "showbackground": true,
            "ticks": "",
            "zerolinecolor": "white"
           },
           "yaxis": {
            "backgroundcolor": "#E5ECF6",
            "gridcolor": "white",
            "gridwidth": 2,
            "linecolor": "white",
            "showbackground": true,
            "ticks": "",
            "zerolinecolor": "white"
           },
           "zaxis": {
            "backgroundcolor": "#E5ECF6",
            "gridcolor": "white",
            "gridwidth": 2,
            "linecolor": "white",
            "showbackground": true,
            "ticks": "",
            "zerolinecolor": "white"
           }
          },
          "shapedefaults": {
           "line": {
            "color": "#2a3f5f"
           }
          },
          "ternary": {
           "aaxis": {
            "gridcolor": "white",
            "linecolor": "white",
            "ticks": ""
           },
           "baxis": {
            "gridcolor": "white",
            "linecolor": "white",
            "ticks": ""
           },
           "bgcolor": "#E5ECF6",
           "caxis": {
            "gridcolor": "white",
            "linecolor": "white",
            "ticks": ""
           }
          },
          "title": {
           "x": 0.05
          },
          "xaxis": {
           "automargin": true,
           "gridcolor": "white",
           "linecolor": "white",
           "ticks": "",
           "title": {
            "standoff": 15
           },
           "zerolinecolor": "white",
           "zerolinewidth": 2
          },
          "yaxis": {
           "automargin": true,
           "gridcolor": "white",
           "linecolor": "white",
           "ticks": "",
           "title": {
            "standoff": 15
           },
           "zerolinecolor": "white",
           "zerolinewidth": 2
          }
         }
        },
        "title": {
         "text": "Parallel Coordinate Plot"
        }
       }
      }
     },
     "metadata": {},
     "output_type": "display_data"
    }
   ],
   "source": [
    "optuna.visualization.plot_parallel_coordinate(study)"
   ]
  },
  {
   "cell_type": "code",
   "execution_count": 133,
   "id": "1d419df8",
   "metadata": {},
   "outputs": [
    {
     "name": "stdout",
     "output_type": "stream",
     "text": [
      "Best trial: {'C': 18.886460992870358, 'epsilon': 0.46310608928603536, 'kernel': 'rbf', 'degree': 3}\n"
     ]
    }
   ],
   "source": [
    "print(\"Best trial:\", study.best_trial.params)"
   ]
  },
  {
   "cell_type": "code",
   "execution_count": 134,
   "id": "ffefef6c",
   "metadata": {},
   "outputs": [
    {
     "data": {
      "text/html": [
       "<style>#sk-container-id-4 {color: black;}#sk-container-id-4 pre{padding: 0;}#sk-container-id-4 div.sk-toggleable {background-color: white;}#sk-container-id-4 label.sk-toggleable__label {cursor: pointer;display: block;width: 100%;margin-bottom: 0;padding: 0.3em;box-sizing: border-box;text-align: center;}#sk-container-id-4 label.sk-toggleable__label-arrow:before {content: \"▸\";float: left;margin-right: 0.25em;color: #696969;}#sk-container-id-4 label.sk-toggleable__label-arrow:hover:before {color: black;}#sk-container-id-4 div.sk-estimator:hover label.sk-toggleable__label-arrow:before {color: black;}#sk-container-id-4 div.sk-toggleable__content {max-height: 0;max-width: 0;overflow: hidden;text-align: left;background-color: #f0f8ff;}#sk-container-id-4 div.sk-toggleable__content pre {margin: 0.2em;color: black;border-radius: 0.25em;background-color: #f0f8ff;}#sk-container-id-4 input.sk-toggleable__control:checked~div.sk-toggleable__content {max-height: 200px;max-width: 100%;overflow: auto;}#sk-container-id-4 input.sk-toggleable__control:checked~label.sk-toggleable__label-arrow:before {content: \"▾\";}#sk-container-id-4 div.sk-estimator input.sk-toggleable__control:checked~label.sk-toggleable__label {background-color: #d4ebff;}#sk-container-id-4 div.sk-label input.sk-toggleable__control:checked~label.sk-toggleable__label {background-color: #d4ebff;}#sk-container-id-4 input.sk-hidden--visually {border: 0;clip: rect(1px 1px 1px 1px);clip: rect(1px, 1px, 1px, 1px);height: 1px;margin: -1px;overflow: hidden;padding: 0;position: absolute;width: 1px;}#sk-container-id-4 div.sk-estimator {font-family: monospace;background-color: #f0f8ff;border: 1px dotted black;border-radius: 0.25em;box-sizing: border-box;margin-bottom: 0.5em;}#sk-container-id-4 div.sk-estimator:hover {background-color: #d4ebff;}#sk-container-id-4 div.sk-parallel-item::after {content: \"\";width: 100%;border-bottom: 1px solid gray;flex-grow: 1;}#sk-container-id-4 div.sk-label:hover label.sk-toggleable__label {background-color: #d4ebff;}#sk-container-id-4 div.sk-serial::before {content: \"\";position: absolute;border-left: 1px solid gray;box-sizing: border-box;top: 0;bottom: 0;left: 50%;z-index: 0;}#sk-container-id-4 div.sk-serial {display: flex;flex-direction: column;align-items: center;background-color: white;padding-right: 0.2em;padding-left: 0.2em;position: relative;}#sk-container-id-4 div.sk-item {position: relative;z-index: 1;}#sk-container-id-4 div.sk-parallel {display: flex;align-items: stretch;justify-content: center;background-color: white;position: relative;}#sk-container-id-4 div.sk-item::before, #sk-container-id-4 div.sk-parallel-item::before {content: \"\";position: absolute;border-left: 1px solid gray;box-sizing: border-box;top: 0;bottom: 0;left: 50%;z-index: -1;}#sk-container-id-4 div.sk-parallel-item {display: flex;flex-direction: column;z-index: 1;position: relative;background-color: white;}#sk-container-id-4 div.sk-parallel-item:first-child::after {align-self: flex-end;width: 50%;}#sk-container-id-4 div.sk-parallel-item:last-child::after {align-self: flex-start;width: 50%;}#sk-container-id-4 div.sk-parallel-item:only-child::after {width: 0;}#sk-container-id-4 div.sk-dashed-wrapped {border: 1px dashed gray;margin: 0 0.4em 0.5em 0.4em;box-sizing: border-box;padding-bottom: 0.4em;background-color: white;}#sk-container-id-4 div.sk-label label {font-family: monospace;font-weight: bold;display: inline-block;line-height: 1.2em;}#sk-container-id-4 div.sk-label-container {text-align: center;}#sk-container-id-4 div.sk-container {/* jupyter's `normalize.less` sets `[hidden] { display: none; }` but bootstrap.min.css set `[hidden] { display: none !important; }` so we also need the `!important` here to be able to override the default hidden behavior on the sphinx rendered scikit-learn.org. See: https://github.com/scikit-learn/scikit-learn/issues/21755 */display: inline-block !important;position: relative;}#sk-container-id-4 div.sk-text-repr-fallback {display: none;}</style><div id=\"sk-container-id-4\" class=\"sk-top-container\"><div class=\"sk-text-repr-fallback\"><pre>SVR(C=18.886460992870358, epsilon=0.46310608928603536)</pre><b>In a Jupyter environment, please rerun this cell to show the HTML representation or trust the notebook. <br />On GitHub, the HTML representation is unable to render, please try loading this page with nbviewer.org.</b></div><div class=\"sk-container\" hidden><div class=\"sk-item\"><div class=\"sk-estimator sk-toggleable\"><input class=\"sk-toggleable__control sk-hidden--visually\" id=\"sk-estimator-id-4\" type=\"checkbox\" checked><label for=\"sk-estimator-id-4\" class=\"sk-toggleable__label sk-toggleable__label-arrow\">SVR</label><div class=\"sk-toggleable__content\"><pre>SVR(C=18.886460992870358, epsilon=0.46310608928603536)</pre></div></div></div></div></div>"
      ],
      "text/plain": [
       "SVR(C=18.886460992870358, epsilon=0.46310608928603536)"
      ]
     },
     "execution_count": 134,
     "metadata": {},
     "output_type": "execute_result"
    }
   ],
   "source": [
    "svm_params = {\n",
    "    \"C\": study.best_trial.params[\"C\"],\n",
    "    \"epsilon\": study.best_trial.params[\"epsilon\"],\n",
    "    \"kernel\": study.best_trial.params[\"kernel\"],\n",
    "    \"degree\": study.best_trial.params[\"degree\"]\n",
    "}\n",
    "\n",
    "svm = SVR(**svm_params)\n",
    "svm.fit(Ni_X_train, Ni_y_train)"
   ]
  },
  {
   "cell_type": "code",
   "execution_count": 135,
   "id": "4c1a69d2",
   "metadata": {},
   "outputs": [],
   "source": [
    "y_train_pred = svm.predict(Ni_X_train)\n",
    "y_test_pred = svm.predict(Ni_X_test)"
   ]
  },
  {
   "cell_type": "code",
   "execution_count": 136,
   "id": "0f707a20",
   "metadata": {},
   "outputs": [
    {
     "name": "stdout",
     "output_type": "stream",
     "text": [
      "Train RMSE:  0.5940052705336718\n",
      "Test RMSE:  0.8308353165792369\n"
     ]
    }
   ],
   "source": [
    "print(\"Train RMSE: \", np.sqrt(mean_squared_error(Ni_y_train, y_train_pred)))\n",
    "print(\"Test RMSE: \", np.sqrt(mean_squared_error(Ni_y_test, y_test_pred)))"
   ]
  },
  {
   "cell_type": "code",
   "execution_count": 137,
   "id": "641d78f4",
   "metadata": {},
   "outputs": [
    {
     "name": "stdout",
     "output_type": "stream",
     "text": [
      "Train R2:  0.7640724378016233\n",
      "Test R2:  0.5200465707586495\n"
     ]
    }
   ],
   "source": [
    "print(\"Train R2: \", r2_score(Ni_y_train, y_train_pred))\n",
    "print(\"Test R2: \", r2_score(Ni_y_test, y_test_pred))"
   ]
  },
  {
   "cell_type": "code",
   "execution_count": 138,
   "id": "badc2f1d",
   "metadata": {},
   "outputs": [
    {
     "data": {
      "image/png": "[encoded data removed]",
      "text/plain": [
       "<Figure size 640x480 with 1 Axes>"
      ]
     },
     "metadata": {},
     "output_type": "display_data"
    }
   ],
   "source": [
    "plt.scatter(y_train_pred, np.array(Ni_y_train), color=\"orange\", alpha=0.3)\n",
    "plt.scatter(y_test_pred, np.array(Ni_y_test), color=\"green\", alpha=0.4)\n",
    "plt.axis(\"auto\") # scaled, tight, auto, image, square\n",
    "# plt.xlim([0, 1.5]) \n",
    "# plt.ylim(0, None) \n",
    "plt.xlabel('Predicted Values')\n",
    "plt.ylabel('Actual Values')\n",
    "\n",
    "# Add y=x line\n",
    "plt.plot([0, 4.0], [0, 4.0], color='red', linestyle='-')\n",
    "\n",
    "plt.show()"
   ]
  },
  {
   "cell_type": "code",
   "execution_count": 139,
   "id": "bb2a81ed",
   "metadata": {},
   "outputs": [],
   "source": [
    "Ni_pred = pd.DataFrame(y_train_pred, columns = ['Ni_pred'])\n",
    "Ni_pred_test = pd.DataFrame(y_test_pred, columns = ['Ni_pred'])"
   ]
  },
  {
   "cell_type": "code",
   "execution_count": 140,
   "id": "3880dabd",
   "metadata": {},
   "outputs": [],
   "source": [
    "Ni_y_train = Ni_y_train.reset_index(drop = False)\n",
    "Ni_y_test = Ni_y_test.reset_index(drop = False)"
   ]
  },
  {
   "cell_type": "code",
   "execution_count": 141,
   "id": "c3961ad7",
   "metadata": {},
   "outputs": [],
   "source": [
    "Ni_data = pd.concat([Ni_pred, Ni_y_train], axis = 1)\n",
    "Ni_data_test = pd.concat([Ni_pred_test, Ni_y_test], axis = 1)"
   ]
  },
  {
   "cell_type": "code",
   "execution_count": 142,
   "id": "5c79ed7e",
   "metadata": {},
   "outputs": [],
   "source": [
    "Ni_data.to_csv('SVM_Ni_train_data.csv', sep = ',')\n",
    "Ni_data_test.to_csv('SVM_Ni_test_data.csv', sep = ',')"
   ]
  }
 ],
 "metadata": {
  "kernelspec": {
   "display_name": "Python 3",
   "language": "python",
   "name": "python3"
  },
  "language_info": {
   "codemirror_mode": {
    "name": "ipython",
    "version": 3
   },
   "file_extension": ".py",
   "mimetype": "text/x-python",
   "name": "python",
   "nbconvert_exporter": "python",
   "pygments_lexer": "ipython3",
   "version": "3.8.11"
  }
 },
 "nbformat": 4,
 "nbformat_minor": 5
}
