{
 "cells": [
  {
   "attachments": {},
   "cell_type": "markdown",
   "id": "451911be",
   "metadata": {},
   "source": [
    "#### Library import"
   ]
  },
  {
   "cell_type": "code",
   "execution_count": 159,
   "id": "8a394942",
   "metadata": {},
   "outputs": [],
   "source": [
    "import os\n",
    "import pandas as pd\n",
    "import numpy as np\n",
    "import matplotlib.pyplot as plt\n",
    "%matplotlib inline\n",
    "import seaborn as sns\n",
    "import tensorflow as tf\n",
    "import missingno as msno\n",
    "\n",
    "import warnings\n",
    "warnings.filterwarnings('ignore')\n",
    "\n",
    "from sklearn.model_selection import train_test_split\n",
    "from sklearn.model_selection import GridSearchCV\n",
    "from sklearn.metrics import mean_squared_error, r2_score\n",
    "from sklearn.preprocessing import StandardScaler, MinMaxScaler, RobustScaler\n",
    "from sklearn.ensemble import RandomForestRegressor, GradientBoostingRegressor, ExtraTreesRegressor\n",
    "from sklearn.model_selection import KFold\n",
    "from lightgbm import LGBMRegressor\n",
    "from xgboost import XGBRegressor\n",
    "from ngboost import NGBRegressor\n",
    "from scipy.stats import norm, skew\n",
    "\n",
    "from matplotlib.ticker import FormatStrFormatter\n",
    "\n",
    "import re\n",
    "from tqdm import tqdm"
   ]
  },
  {
   "attachments": {},
   "cell_type": "markdown",
   "id": "31a13d68",
   "metadata": {},
   "source": [
    "#### GPU setting"
   ]
  },
  {
   "cell_type": "code",
   "execution_count": 160,
   "id": "0ff69fbf",
   "metadata": {},
   "outputs": [],
   "source": [
    "from tensorflow.compat.v1 import ConfigProto\n",
    "from tensorflow.compat.v1 import InteractiveSession"
   ]
  },
  {
   "cell_type": "code",
   "execution_count": 161,
   "id": "1c359e17",
   "metadata": {},
   "outputs": [],
   "source": [
    "config = ConfigProto()\n",
    "config.gpu_options.per_process_gpu_memory_fraction = 0.4\n",
    "session = InteractiveSession(config = config)"
   ]
  },
  {
   "cell_type": "code",
   "execution_count": 162,
   "id": "c1894e3b",
   "metadata": {},
   "outputs": [
    {
     "name": "stdout",
     "output_type": "stream",
     "text": [
      "[name: \"/device:CPU:0\"\n",
      "device_type: \"CPU\"\n",
      "memory_limit: 268435456\n",
      "locality {\n",
      "}\n",
      "incarnation: 17250986802353240297\n",
      ", name: \"/device:GPU:0\"\n",
      "device_type: \"GPU\"\n",
      "memory_limit: 3435973836\n",
      "locality {\n",
      "  bus_id: 1\n",
      "  links {\n",
      "  }\n",
      "}\n",
      "incarnation: 6468399577408728849\n",
      "physical_device_desc: \"device: 0, name: NVIDIA GeForce RTX 3060 Ti, pci bus id: 0000:07:00.0, compute capability: 8.6\"\n",
      "]\n"
     ]
    }
   ],
   "source": [
    "physical_devices = tf.config.list_physical_devices('GPU')\n",
    "physical_devices\n",
    "\n",
    "from tensorflow.python.client import device_lib\n",
    "\n",
    "print(device_lib.list_local_devices())"
   ]
  },
  {
   "cell_type": "code",
   "execution_count": 163,
   "id": "324427e4",
   "metadata": {},
   "outputs": [],
   "source": [
    "import os\n",
    "\n",
    "os.environ[\"CUDA_VISIBLE_DEVICES\"]=\"0\"\n",
    "gpus = tf.config.experimental.list_physical_devices('GPU')\n",
    "if gpus:\n",
    "    try:\n",
    "        tf.config.experimental.set_memory_growth(gpus[0], True)\n",
    "    except RuntimeError as e:\n",
    "        print(e)"
   ]
  },
  {
   "attachments": {},
   "cell_type": "markdown",
   "id": "cb740f81",
   "metadata": {},
   "source": [
    "#### Data import and preprocessing"
   ]
  },
  {
   "cell_type": "code",
   "execution_count": 164,
   "id": "9288345d",
   "metadata": {
    "scrolled": true
   },
   "outputs": [
    {
     "data": {
      "text/plain": [
       "Index(['OBJECTID_x', 'ID', 'pH', 'As', 'Cd', 'Ni', 'Pb', 'Zn', 'Hg', 'slope',\n",
       "       'altitude', 'profile_curve', 'profile_c_num', 'profile_c_abs',\n",
       "       'planform_curve', 'planform_c_num', 'planform_c_abs', 'HYDGRP',\n",
       "       'HYDGRP_A', 'HYDGRP_B', 'HYDGRP_C', 'HYDGRP_D', 'ANION_EXCL', 'SOL_CRK',\n",
       "       'SOL_K1', 'CLAY1', 'SILT1', 'SAND1', 'ROCK1', 'SOL_EC1', 'distance'],\n",
       "      dtype='object')"
      ]
     },
     "execution_count": 164,
     "metadata": {},
     "output_type": "execute_result"
    }
   ],
   "source": [
    "data = pd.read_csv(\"data/data.csv\")\n",
    "data.columns"
   ]
  },
  {
   "cell_type": "code",
   "execution_count": 165,
   "id": "bbf87a23",
   "metadata": {},
   "outputs": [
    {
     "data": {
      "text/plain": [
       "Index(['pH', 'As', 'Cd', 'Ni', 'Pb', 'Zn', 'Hg', 'slope', 'altitude',\n",
       "       'profile_curve', 'planform_curve', 'HYDGRP_A', 'HYDGRP_B', 'HYDGRP_C',\n",
       "       'HYDGRP_D', 'SOL_K1', 'CLAY1', 'SILT1', 'SAND1', 'ROCK1', 'distance'],\n",
       "      dtype='object')"
      ]
     },
     "execution_count": 165,
     "metadata": {},
     "output_type": "execute_result"
    }
   ],
   "source": [
    "data = data.drop(['OBJECTID_x','ID','HYDGRP','profile_c_num', 'profile_c_abs','planform_c_num', 'planform_c_abs','ANION_EXCL','SOL_CRK','SOL_EC1'], axis = 1)\n",
    "data.columns"
   ]
  },
  {
   "cell_type": "code",
   "execution_count": 166,
   "id": "8d9bad18",
   "metadata": {},
   "outputs": [],
   "source": [
    "As = data\n",
    "Cd = data\n",
    "Ni = data"
   ]
  },
  {
   "cell_type": "code",
   "execution_count": 167,
   "id": "b1dbe457",
   "metadata": {},
   "outputs": [],
   "source": [
    "As = As.drop([\"Cd\", \"Ni\", \"Pb\", \"Zn\", \"Hg\"], axis = 1)\n",
    "Cd = Cd.drop([\"As\", \"Ni\", \"Pb\", \"Zn\", \"Hg\"], axis = 1)\n",
    "Ni = Ni.drop([\"As\", \"Cd\", \"Pb\", \"Zn\", \"Hg\"], axis = 1)"
   ]
  },
  {
   "cell_type": "code",
   "execution_count": 168,
   "id": "3077737a",
   "metadata": {},
   "outputs": [
    {
     "name": "stdout",
     "output_type": "stream",
     "text": [
      "(1458, 16)\n",
      "(1458, 16)\n",
      "(1458, 16)\n"
     ]
    }
   ],
   "source": [
    "print(As.shape)\n",
    "print(Cd.shape)\n",
    "print(Ni.shape)"
   ]
  },
  {
   "cell_type": "markdown",
   "id": "89adead2",
   "metadata": {},
   "source": [
    "#### Oversampling by SMOGN (SMOTE Regression)"
   ]
  },
  {
   "cell_type": "code",
   "execution_count": 169,
   "id": "d0a159ca",
   "metadata": {},
   "outputs": [],
   "source": [
    "import smogn"
   ]
  },
  {
   "cell_type": "code",
   "execution_count": 170,
   "id": "d5fd8af3",
   "metadata": {},
   "outputs": [
    {
     "name": "stderr",
     "output_type": "stream",
     "text": [
      "dist_matrix:   1%|          | 2/248 [00:00<00:23, 10.59it/s]"
     ]
    },
    {
     "name": "stderr",
     "output_type": "stream",
     "text": [
      "dist_matrix: 100%|##########| 248/248 [00:24<00:00, 10.21it/s]\n",
      "synth_matrix: 100%|##########| 248/248 [00:01<00:00, 206.45it/s]\n",
      "r_index: 100%|##########| 223/223 [00:00<00:00, 564.43it/s]\n",
      "dist_matrix: 100%|##########| 259/259 [00:25<00:00, 10.14it/s]\n",
      "synth_matrix: 100%|##########| 259/259 [00:01<00:00, 211.55it/s]\n",
      "r_index: 100%|##########| 155/155 [00:00<00:00, 632.51it/s]\n",
      "dist_matrix: 100%|##########| 242/242 [00:22<00:00, 10.83it/s]\n",
      "synth_matrix: 100%|##########| 242/242 [00:01<00:00, 157.23it/s]\n"
     ]
    }
   ],
   "source": [
    "As_smogn = smogn.smoter(data = As, y = 'As', samp_method = 'extreme')\n",
    "Cd_smogn = smogn.smoter(data = Cd, y = 'Cd', samp_method = 'extreme')\n",
    "Ni_smogn = smogn.smoter(data = Ni, y = 'Ni', samp_method = 'extreme')"
   ]
  },
  {
   "cell_type": "code",
   "execution_count": 171,
   "id": "ea3035fe",
   "metadata": {},
   "outputs": [
    {
     "name": "stdout",
     "output_type": "stream",
     "text": [
      "(2183, 16)\n",
      "(2151, 16)\n",
      "(2183, 16)\n"
     ]
    }
   ],
   "source": [
    "print(As_smogn.shape)\n",
    "print(Cd_smogn.shape)\n",
    "print(Ni_smogn.shape)"
   ]
  },
  {
   "attachments": {},
   "cell_type": "markdown",
   "id": "ed72a9b1",
   "metadata": {},
   "source": [
    "#### Eliminate outlier and train / test split"
   ]
  },
  {
   "cell_type": "code",
   "execution_count": 172,
   "id": "43604a42",
   "metadata": {},
   "outputs": [],
   "source": [
    "def eli_outlier(data, value):\n",
    "    q1 = data[value].quantile(0.25)\n",
    "    q3 = data[value].quantile(0.75)\n",
    "\n",
    "    iqr = q3 - q1\n",
    "\n",
    "    q1_condition = data[value] < q1-1.5*iqr\n",
    "    q3_condition = data[value] > q3+1.5*iqr\n",
    "\n",
    "    reset_q1_index = data[q1_condition].index\n",
    "    reset_q3_index = data[q3_condition].index\n",
    "\n",
    "    data.drop(reset_q1_index, inplace = True)\n",
    "    data.drop(reset_q3_index, inplace = True)\n",
    "\n",
    "    return data"
   ]
  },
  {
   "cell_type": "code",
   "execution_count": 173,
   "id": "9b7632f2",
   "metadata": {},
   "outputs": [],
   "source": [
    "As_ros = eli_outlier(As_smogn, \"As\")\n",
    "Cd_ros = eli_outlier(Cd_smogn, \"Cd\")\n",
    "Ni_ros = eli_outlier(Ni_smogn, \"Ni\")"
   ]
  },
  {
   "cell_type": "code",
   "execution_count": 174,
   "id": "c05c01a2",
   "metadata": {},
   "outputs": [],
   "source": [
    "As_X = As_ros.drop([\"As\"], axis=1)\n",
    "Cd_X = Cd_ros.drop([\"Cd\"], axis=1)\n",
    "Ni_X = Ni_ros.drop([\"Ni\"], axis=1)\n",
    "\n",
    "As_y = As_ros[\"As\"]\n",
    "Cd_y = Cd_ros[\"Cd\"]\n",
    "Ni_y = Ni_ros[\"Ni\"]"
   ]
  },
  {
   "cell_type": "code",
   "execution_count": 175,
   "id": "7237a19a",
   "metadata": {},
   "outputs": [],
   "source": [
    "As_y = np.log1p(As_ros[\"As\"])\n",
    "Cd_y = np.log1p(Cd_ros[\"Cd\"])\n",
    "Ni_y = np.log1p(Ni_ros[\"Ni\"])"
   ]
  },
  {
   "cell_type": "code",
   "execution_count": 176,
   "id": "9b2b0920",
   "metadata": {},
   "outputs": [
    {
     "name": "stdout",
     "output_type": "stream",
     "text": [
      "(1657, 15)\n",
      "(1733, 15)\n",
      "(2073, 15)\n"
     ]
    }
   ],
   "source": [
    "print(As_X.shape)\n",
    "print(Cd_X.shape)\n",
    "print(Ni_X.shape)"
   ]
  },
  {
   "attachments": {},
   "cell_type": "markdown",
   "id": "c92e5bb6",
   "metadata": {},
   "source": [
    "StandardScaler"
   ]
  },
  {
   "cell_type": "code",
   "execution_count": 177,
   "id": "416a7027",
   "metadata": {},
   "outputs": [],
   "source": [
    "from sklearn.preprocessing import StandardScaler\n",
    "\n",
    "scaler = StandardScaler()\n",
    "As_X_scaled = scaler.fit_transform(As_X)\n",
    "Cd_X_scaled = scaler.fit_transform(Cd_X)\n",
    "Ni_X_scaled = scaler.fit_transform(Ni_X)\n",
    "\n",
    "As_X_train, As_X_test, As_y_train, As_y_test = train_test_split(As_X_scaled, As_y, test_size=0.3, random_state=42)\n",
    "Cd_X_train, Cd_X_test, Cd_y_train, Cd_y_test = train_test_split(Cd_X_scaled, Cd_y, test_size=0.3, random_state=42)\n",
    "Ni_X_train, Ni_X_test, Ni_y_train, Ni_y_test = train_test_split(Ni_X_scaled, Ni_y, test_size=0.3, random_state=42)"
   ]
  },
  {
   "attachments": {},
   "cell_type": "markdown",
   "id": "2fe0d293",
   "metadata": {},
   "source": [
    "MinMaxScaler"
   ]
  },
  {
   "cell_type": "code",
   "execution_count": 178,
   "id": "e8596f9f",
   "metadata": {},
   "outputs": [],
   "source": [
    "# from sklearn.preprocessing import MinMaxScaler\n",
    "\n",
    "# scaler = MinMaxScaler()\n",
    "# As_X_scaled = scaler.fit_transform(As_X)\n",
    "# Cd_X_scaled = scaler.fit_transform(Cd_X)\n",
    "# Ni_X_scaled = scaler.fit_transform(Ni_X)\n",
    "\n",
    "# As_X_train, As_X_test, As_y_train, As_y_test = train_test_split(As_X_scaled, As_y, test_size=0.2, random_state=42)\n",
    "# Cd_X_train, Cd_X_test, Cd_y_train, Cd_y_test = train_test_split(Cd_X_scaled, Cd_y, test_size=0.2, random_state=42)\n",
    "# Ni_X_train, Ni_X_test, Ni_y_train, Ni_y_test = train_test_split(Ni_X_scaled, Ni_y, test_size=0.2, random_state=42)"
   ]
  },
  {
   "cell_type": "code",
   "execution_count": 179,
   "id": "c6cad4b1",
   "metadata": {},
   "outputs": [
    {
     "name": "stdout",
     "output_type": "stream",
     "text": [
      "(1159, 15)\n",
      "(1213, 15)\n",
      "(1451, 15)\n"
     ]
    }
   ],
   "source": [
    "print(As_X_train.shape)\n",
    "print(Cd_X_train.shape)\n",
    "print(Ni_X_train.shape)"
   ]
  },
  {
   "attachments": {},
   "cell_type": "markdown",
   "id": "bd11b27e",
   "metadata": {},
   "source": [
    "#### 10-Fold Crossvalidation"
   ]
  },
  {
   "cell_type": "code",
   "execution_count": 180,
   "id": "7a765916",
   "metadata": {},
   "outputs": [],
   "source": [
    "kf = KFold(n_splits = 5, random_state = 42, shuffle = True)"
   ]
  },
  {
   "attachments": {},
   "cell_type": "markdown",
   "id": "859638d0",
   "metadata": {},
   "source": [
    "#### Optuna Optimization"
   ]
  },
  {
   "cell_type": "code",
   "execution_count": 181,
   "id": "92a47d83",
   "metadata": {},
   "outputs": [],
   "source": [
    "import optuna\n",
    "\n",
    "from optuna import Trial\n",
    "from optuna.samplers import TPESampler"
   ]
  },
  {
   "cell_type": "code",
   "execution_count": 182,
   "id": "a7669fea",
   "metadata": {},
   "outputs": [],
   "source": [
    "from sklearn.model_selection import cross_val_score\n",
    "\n",
    "def objectiveLGBM(trial: Trial, X_train, y_train) -> float:\n",
    "    lgbm_paramas = {\n",
    "        \"random_state\": 42,\n",
    "        \"learning_rate\": 0.1, \n",
    "        \"n_estimators\": trial.suggest_int(\"n_estimators\", 500, 1000),\n",
    "        \"max_depth\": trial.suggest_int(\"max_depth\", 1, 30),\n",
    "        \"num_leaves\": trial.suggest_int(\"num_leaves\", 2, 32),\n",
    "        \"min_child_samples\": trial.suggest_int(\"min_child_samples\", 1, 10),\n",
    "        \"num_iterations\": trial.suggest_int(\"num_iterations\", 500, 1000)\n",
    "    }\n",
    "    \n",
    "    lgbm = LGBMRegressor(**lgbm_paramas)\n",
    "    r2 = cross_val_score(lgbm, X_train, y_train, scoring = \"r2\", cv = kf)\n",
    "    r2 = r2.mean()\n",
    "    \n",
    "    return r2"
   ]
  },
  {
   "attachments": {},
   "cell_type": "markdown",
   "id": "b0988f46",
   "metadata": {},
   "source": [
    "####  Optimization"
   ]
  },
  {
   "cell_type": "code",
   "execution_count": 183,
   "id": "94f5e00d",
   "metadata": {
    "scrolled": false
   },
   "outputs": [
    {
     "name": "stderr",
     "output_type": "stream",
     "text": [
      "\u001b[32m[I 2023-08-17 22:23:05,675]\u001b[0m A new study created in memory with name: lgbm_parameter_opt\u001b[0m\n",
      "\u001b[32m[I 2023-08-17 22:23:07,692]\u001b[0m Trial 0 finished with value: 0.6187481641176131 and parameters: {'n_estimators': 555, 'max_depth': 23, 'num_leaves': 15, 'min_child_samples': 3, 'num_iterations': 885}. Best is trial 0 with value: 0.6187481641176131.\u001b[0m\n",
      "\u001b[32m[I 2023-08-17 22:23:09,342]\u001b[0m Trial 1 finished with value: 0.6029494469908465 and parameters: {'n_estimators': 790, 'max_depth': 20, 'num_leaves': 26, 'min_child_samples': 7, 'num_iterations': 530}. Best is trial 0 with value: 0.6187481641176131.\u001b[0m\n",
      "\u001b[32m[I 2023-08-17 22:23:09,853]\u001b[0m Trial 2 finished with value: 0.5640255857595545 and parameters: {'n_estimators': 980, 'max_depth': 3, 'num_leaves': 31, 'min_child_samples': 9, 'num_iterations': 582}. Best is trial 0 with value: 0.6187481641176131.\u001b[0m\n",
      "\u001b[32m[I 2023-08-17 22:23:10,426]\u001b[0m Trial 3 finished with value: 0.5376059238031797 and parameters: {'n_estimators': 761, 'max_depth': 2, 'num_leaves': 15, 'min_child_samples': 9, 'num_iterations': 976}. Best is trial 0 with value: 0.6187481641176131.\u001b[0m\n",
      "\u001b[32m[I 2023-08-17 22:23:11,616]\u001b[0m Trial 4 finished with value: 0.5975797118893977 and parameters: {'n_estimators': 522, 'max_depth': 18, 'num_leaves': 13, 'min_child_samples': 5, 'num_iterations': 672}. Best is trial 0 with value: 0.6187481641176131.\u001b[0m\n",
      "\u001b[32m[I 2023-08-17 22:23:12,525]\u001b[0m Trial 5 finished with value: 0.5581640004679091 and parameters: {'n_estimators': 654, 'max_depth': 3, 'num_leaves': 22, 'min_child_samples': 6, 'num_iterations': 979}. Best is trial 0 with value: 0.6187481641176131.\u001b[0m\n",
      "\u001b[32m[I 2023-08-17 22:23:14,598]\u001b[0m Trial 6 finished with value: 0.6045125046755377 and parameters: {'n_estimators': 959, 'max_depth': 12, 'num_leaves': 16, 'min_child_samples': 2, 'num_iterations': 881}. Best is trial 0 with value: 0.6187481641176131.\u001b[0m\n",
      "\u001b[32m[I 2023-08-17 22:23:16,014]\u001b[0m Trial 7 finished with value: 0.596863240953404 and parameters: {'n_estimators': 636, 'max_depth': 6, 'num_leaves': 17, 'min_child_samples': 7, 'num_iterations': 657}. Best is trial 0 with value: 0.6187481641176131.\u001b[0m\n",
      "\u001b[32m[I 2023-08-17 22:23:17,246]\u001b[0m Trial 8 finished with value: 0.6002255511691063 and parameters: {'n_estimators': 615, 'max_depth': 15, 'num_leaves': 9, 'min_child_samples': 4, 'num_iterations': 691}. Best is trial 0 with value: 0.6187481641176131.\u001b[0m\n",
      "\u001b[32m[I 2023-08-17 22:23:20,139]\u001b[0m Trial 9 finished with value: 0.6019462522183415 and parameters: {'n_estimators': 844, 'max_depth': 11, 'num_leaves': 29, 'min_child_samples': 3, 'num_iterations': 780}. Best is trial 0 with value: 0.6187481641176131.\u001b[0m\n",
      "\u001b[32m[I 2023-08-17 22:23:20,504]\u001b[0m Trial 10 finished with value: 0.46462546425460455 and parameters: {'n_estimators': 516, 'max_depth': 29, 'num_leaves': 2, 'min_child_samples': 1, 'num_iterations': 827}. Best is trial 0 with value: 0.6187481641176131.\u001b[0m\n",
      "\u001b[32m[I 2023-08-17 22:23:21,782]\u001b[0m Trial 11 finished with value: 0.5810644266895961 and parameters: {'n_estimators': 950, 'max_depth': 24, 'num_leaves': 9, 'min_child_samples': 1, 'num_iterations': 870}. Best is trial 0 with value: 0.6187481641176131.\u001b[0m\n",
      "\u001b[32m[I 2023-08-17 22:23:24,248]\u001b[0m Trial 12 finished with value: 0.6076929454803357 and parameters: {'n_estimators': 878, 'max_depth': 11, 'num_leaves': 21, 'min_child_samples': 3, 'num_iterations': 889}. Best is trial 0 with value: 0.6187481641176131.\u001b[0m\n",
      "\u001b[32m[I 2023-08-17 22:23:26,858]\u001b[0m Trial 13 finished with value: 0.6112011014456791 and parameters: {'n_estimators': 883, 'max_depth': 24, 'num_leaves': 23, 'min_child_samples': 3, 'num_iterations': 914}. Best is trial 0 with value: 0.6187481641176131.\u001b[0m\n",
      "\u001b[32m[I 2023-08-17 22:23:29,531]\u001b[0m Trial 14 finished with value: 0.6057902213914954 and parameters: {'n_estimators': 706, 'max_depth': 27, 'num_leaves': 23, 'min_child_samples': 4, 'num_iterations': 926}. Best is trial 0 with value: 0.6187481641176131.\u001b[0m\n",
      "\u001b[32m[I 2023-08-17 22:23:30,806]\u001b[0m Trial 15 finished with value: 0.6009433599554479 and parameters: {'n_estimators': 867, 'max_depth': 24, 'num_leaves': 12, 'min_child_samples': 3, 'num_iterations': 770}. Best is trial 0 with value: 0.6187481641176131.\u001b[0m\n",
      "\u001b[32m[I 2023-08-17 22:23:33,010]\u001b[0m Trial 16 finished with value: 0.607811710766747 and parameters: {'n_estimators': 572, 'max_depth': 22, 'num_leaves': 20, 'min_child_samples': 5, 'num_iterations': 822}. Best is trial 0 with value: 0.6187481641176131.\u001b[0m\n",
      "\u001b[32m[I 2023-08-17 22:23:36,279]\u001b[0m Trial 17 finished with value: 0.6149429902051193 and parameters: {'n_estimators': 718, 'max_depth': 26, 'num_leaves': 26, 'min_child_samples': 2, 'num_iterations': 926}. Best is trial 0 with value: 0.6187481641176131.\u001b[0m\n",
      "\u001b[32m[I 2023-08-17 22:23:40,000]\u001b[0m Trial 18 finished with value: 0.6149355453280194 and parameters: {'n_estimators': 696, 'max_depth': 30, 'num_leaves': 26, 'min_child_samples': 2, 'num_iterations': 996}. Best is trial 0 with value: 0.6187481641176131.\u001b[0m\n",
      "\u001b[32m[I 2023-08-17 22:23:40,552]\u001b[0m Trial 19 finished with value: 0.5384915140833203 and parameters: {'n_estimators': 580, 'max_depth': 27, 'num_leaves': 3, 'min_child_samples': 1, 'num_iterations': 936}. Best is trial 0 with value: 0.6187481641176131.\u001b[0m\n",
      "\u001b[32m[I 2023-08-17 22:23:43,956]\u001b[0m Trial 20 finished with value: 0.5972037679271021 and parameters: {'n_estimators': 716, 'max_depth': 17, 'num_leaves': 32, 'min_child_samples': 2, 'num_iterations': 841}. Best is trial 0 with value: 0.6187481641176131.\u001b[0m\n",
      "\u001b[32m[I 2023-08-17 22:23:48,039]\u001b[0m Trial 21 finished with value: 0.60770163191039 and parameters: {'n_estimators': 687, 'max_depth': 30, 'num_leaves': 27, 'min_child_samples': 2, 'num_iterations': 991}. Best is trial 0 with value: 0.6187481641176131.\u001b[0m\n",
      "\u001b[32m[I 2023-08-17 22:23:51,491]\u001b[0m Trial 22 finished with value: 0.6009123598955547 and parameters: {'n_estimators': 747, 'max_depth': 27, 'num_leaves': 26, 'min_child_samples': 4, 'num_iterations': 946}. Best is trial 0 with value: 0.6187481641176131.\u001b[0m\n",
      "\u001b[32m[I 2023-08-17 22:23:54,408]\u001b[0m Trial 23 finished with value: 0.5999378355554446 and parameters: {'n_estimators': 808, 'max_depth': 30, 'num_leaves': 18, 'min_child_samples': 2, 'num_iterations': 955}. Best is trial 0 with value: 0.6187481641176131.\u001b[0m\n",
      "\u001b[32m[I 2023-08-17 22:23:58,090]\u001b[0m Trial 24 finished with value: 0.6064613030990865 and parameters: {'n_estimators': 670, 'max_depth': 22, 'num_leaves': 25, 'min_child_samples': 1, 'num_iterations': 893}. Best is trial 0 with value: 0.6187481641176131.\u001b[0m\n",
      "\u001b[32m[I 2023-08-17 22:24:02,366]\u001b[0m Trial 25 finished with value: 0.6037812725446964 and parameters: {'n_estimators': 581, 'max_depth': 26, 'num_leaves': 29, 'min_child_samples': 4, 'num_iterations': 995}. Best is trial 0 with value: 0.6187481641176131.\u001b[0m\n",
      "\u001b[32m[I 2023-08-17 22:24:04,691]\u001b[0m Trial 26 finished with value: 0.6069930774076376 and parameters: {'n_estimators': 612, 'max_depth': 21, 'num_leaves': 19, 'min_child_samples': 2, 'num_iterations': 724}. Best is trial 0 with value: 0.6187481641176131.\u001b[0m\n",
      "\u001b[32m[I 2023-08-17 22:24:05,719]\u001b[0m Trial 27 finished with value: 0.5817439180458331 and parameters: {'n_estimators': 737, 'max_depth': 25, 'num_leaves': 6, 'min_child_samples': 10, 'num_iterations': 803}. Best is trial 0 with value: 0.6187481641176131.\u001b[0m\n",
      "\u001b[32m[I 2023-08-17 22:24:07,737]\u001b[0m Trial 28 finished with value: 0.5985367194324563 and parameters: {'n_estimators': 538, 'max_depth': 28, 'num_leaves': 13, 'min_child_samples': 3, 'num_iterations': 864}. Best is trial 0 with value: 0.6187481641176131.\u001b[0m\n",
      "\u001b[32m[I 2023-08-17 22:24:10,201]\u001b[0m Trial 29 finished with value: 0.6098818247915505 and parameters: {'n_estimators': 789, 'max_depth': 19, 'num_leaves': 28, 'min_child_samples': 5, 'num_iterations': 563}. Best is trial 0 with value: 0.6187481641176131.\u001b[0m\n",
      "\u001b[32m[I 2023-08-17 22:24:13,492]\u001b[0m Trial 30 finished with value: 0.6041708582637887 and parameters: {'n_estimators': 771, 'max_depth': 14, 'num_leaves': 24, 'min_child_samples': 6, 'num_iterations': 913}. Best is trial 0 with value: 0.6187481641176131.\u001b[0m\n",
      "\u001b[32m[I 2023-08-17 22:24:16,703]\u001b[0m Trial 31 finished with value: 0.6084694786328727 and parameters: {'n_estimators': 817, 'max_depth': 23, 'num_leaves': 24, 'min_child_samples': 3, 'num_iterations': 912}. Best is trial 0 with value: 0.6187481641176131.\u001b[0m\n",
      "\u001b[32m[I 2023-08-17 22:24:20,707]\u001b[0m Trial 32 finished with value: 0.6025164334514247 and parameters: {'n_estimators': 902, 'max_depth': 20, 'num_leaves': 30, 'min_child_samples': 2, 'num_iterations': 958}. Best is trial 0 with value: 0.6187481641176131.\u001b[0m\n",
      "\u001b[32m[I 2023-08-17 22:24:23,948]\u001b[0m Trial 33 finished with value: 0.6108388407070314 and parameters: {'n_estimators': 929, 'max_depth': 25, 'num_leaves': 26, 'min_child_samples': 3, 'num_iterations': 999}. Best is trial 0 with value: 0.6187481641176131.\u001b[0m\n",
      "\u001b[32m[I 2023-08-17 22:24:26,263]\u001b[0m Trial 34 finished with value: 0.6031531357495046 and parameters: {'n_estimators': 997, 'max_depth': 29, 'num_leaves': 21, 'min_child_samples': 4, 'num_iterations': 847}. Best is trial 0 with value: 0.6187481641176131.\u001b[0m\n",
      "\u001b[32m[I 2023-08-17 22:24:28,349]\u001b[0m Trial 35 finished with value: 0.5957024620943663 and parameters: {'n_estimators': 720, 'max_depth': 26, 'num_leaves': 15, 'min_child_samples': 1, 'num_iterations': 913}. Best is trial 0 with value: 0.6187481641176131.\u001b[0m\n",
      "\u001b[32m[I 2023-08-17 22:24:31,067]\u001b[0m Trial 36 finished with value: 0.6063629361949225 and parameters: {'n_estimators': 683, 'max_depth': 17, 'num_leaves': 23, 'min_child_samples': 7, 'num_iterations': 956}. Best is trial 0 with value: 0.6187481641176131.\u001b[0m\n"
     ]
    },
    {
     "name": "stdout",
     "output_type": "stream",
     "text": [
      "[LightGBM] [Warning] Accuracy may be bad since you didn't explicitly set num_leaves OR 2^max_depth > num_leaves. (num_leaves=31).\n",
      "[LightGBM] [Warning] Accuracy may be bad since you didn't explicitly set num_leaves OR 2^max_depth > num_leaves. (num_leaves=31).\n",
      "[LightGBM] [Warning] Accuracy may be bad since you didn't explicitly set num_leaves OR 2^max_depth > num_leaves. (num_leaves=31).\n",
      "[LightGBM] [Warning] Accuracy may be bad since you didn't explicitly set num_leaves OR 2^max_depth > num_leaves. (num_leaves=31).\n",
      "[LightGBM] [Warning] Accuracy may be bad since you didn't explicitly set num_leaves OR 2^max_depth > num_leaves. (num_leaves=31).\n"
     ]
    },
    {
     "name": "stderr",
     "output_type": "stream",
     "text": [
      "\u001b[32m[I 2023-08-17 22:24:34,873]\u001b[0m Trial 37 finished with value: 0.6033665839046234 and parameters: {'n_estimators': 644, 'max_depth': 23, 'num_leaves': 31, 'min_child_samples': 8, 'num_iterations': 971}. Best is trial 0 with value: 0.6187481641176131.\u001b[0m\n",
      "\u001b[32m[I 2023-08-17 22:24:36,751]\u001b[0m Trial 38 finished with value: 0.598415765896445 and parameters: {'n_estimators': 841, 'max_depth': 28, 'num_leaves': 11, 'min_child_samples': 2, 'num_iterations': 898}. Best is trial 0 with value: 0.6187481641176131.\u001b[0m\n",
      "\u001b[32m[I 2023-08-17 22:24:38,529]\u001b[0m Trial 39 finished with value: 0.6040559596301508 and parameters: {'n_estimators': 546, 'max_depth': 8, 'num_leaves': 18, 'min_child_samples': 5, 'num_iterations': 728}. Best is trial 0 with value: 0.6187481641176131.\u001b[0m\n",
      "\u001b[32m[I 2023-08-17 22:24:40,704]\u001b[0m Trial 40 finished with value: 0.6046504048596907 and parameters: {'n_estimators': 772, 'max_depth': 21, 'num_leaves': 27, 'min_child_samples': 6, 'num_iterations': 606}. Best is trial 0 with value: 0.6187481641176131.\u001b[0m\n",
      "\u001b[32m[I 2023-08-17 22:24:44,597]\u001b[0m Trial 41 finished with value: 0.61105262706318 and parameters: {'n_estimators': 928, 'max_depth': 25, 'num_leaves': 25, 'min_child_samples': 3, 'num_iterations': 988}. Best is trial 0 with value: 0.6187481641176131.\u001b[0m\n",
      "\u001b[32m[I 2023-08-17 22:24:47,408]\u001b[0m Trial 42 finished with value: 0.603736524826221 and parameters: {'n_estimators': 926, 'max_depth': 25, 'num_leaves': 22, 'min_child_samples': 3, 'num_iterations': 976}. Best is trial 0 with value: 0.6187481641176131.\u001b[0m\n",
      "\u001b[32m[I 2023-08-17 22:24:50,401]\u001b[0m Trial 43 finished with value: 0.6092921609295006 and parameters: {'n_estimators': 899, 'max_depth': 29, 'num_leaves': 25, 'min_child_samples': 4, 'num_iterations': 945}. Best is trial 0 with value: 0.6187481641176131.\u001b[0m\n",
      "\u001b[32m[I 2023-08-17 22:24:52,327]\u001b[0m Trial 44 finished with value: 0.6024932795518689 and parameters: {'n_estimators': 970, 'max_depth': 24, 'num_leaves': 15, 'min_child_samples': 2, 'num_iterations': 928}. Best is trial 0 with value: 0.6187481641176131.\u001b[0m\n",
      "\u001b[32m[I 2023-08-17 22:24:55,251]\u001b[0m Trial 45 finished with value: 0.601446965748079 and parameters: {'n_estimators': 850, 'max_depth': 19, 'num_leaves': 28, 'min_child_samples': 3, 'num_iterations': 863}. Best is trial 0 with value: 0.6187481641176131.\u001b[0m\n",
      "\u001b[32m[I 2023-08-17 22:24:58,437]\u001b[0m Trial 46 finished with value: 0.5988219674704247 and parameters: {'n_estimators': 933, 'max_depth': 26, 'num_leaves': 22, 'min_child_samples': 1, 'num_iterations': 974}. Best is trial 0 with value: 0.6187481641176131.\u001b[0m\n",
      "\u001b[32m[I 2023-08-17 22:25:00,854]\u001b[0m Trial 47 finished with value: 0.6009104471196957 and parameters: {'n_estimators': 616, 'max_depth': 28, 'num_leaves': 20, 'min_child_samples': 4, 'num_iterations': 883}. Best is trial 0 with value: 0.6187481641176131.\u001b[0m\n",
      "\u001b[32m[I 2023-08-17 22:25:02,978]\u001b[0m Trial 48 finished with value: 0.6093706451900462 and parameters: {'n_estimators': 505, 'max_depth': 23, 'num_leaves': 17, 'min_child_samples': 3, 'num_iterations': 807}. Best is trial 0 with value: 0.6187481641176131.\u001b[0m\n",
      "\u001b[32m[I 2023-08-17 22:25:06,092]\u001b[0m Trial 49 finished with value: 0.6082280800165535 and parameters: {'n_estimators': 892, 'max_depth': 30, 'num_leaves': 25, 'min_child_samples': 2, 'num_iterations': 930}. Best is trial 0 with value: 0.6187481641176131.\u001b[0m\n",
      "\u001b[32m[I 2023-08-17 22:25:09,983]\u001b[0m Trial 50 finished with value: 0.5996392046314297 and parameters: {'n_estimators': 696, 'max_depth': 27, 'num_leaves': 29, 'min_child_samples': 1, 'num_iterations': 977}. Best is trial 0 with value: 0.6187481641176131.\u001b[0m\n",
      "\u001b[32m[I 2023-08-17 22:25:10,405]\u001b[0m Trial 51 finished with value: 0.46474658539472696 and parameters: {'n_estimators': 944, 'max_depth': 1, 'num_leaves': 26, 'min_child_samples': 3, 'num_iterations': 997}. Best is trial 0 with value: 0.6187481641176131.\u001b[0m\n",
      "\u001b[32m[I 2023-08-17 22:25:13,725]\u001b[0m Trial 52 finished with value: 0.6108293993273868 and parameters: {'n_estimators': 916, 'max_depth': 25, 'num_leaves': 27, 'min_child_samples': 3, 'num_iterations': 1000}. Best is trial 0 with value: 0.6187481641176131.\u001b[0m\n",
      "\u001b[32m[I 2023-08-17 22:25:16,727]\u001b[0m Trial 53 finished with value: 0.6048157464119885 and parameters: {'n_estimators': 965, 'max_depth': 22, 'num_leaves': 23, 'min_child_samples': 2, 'num_iterations': 963}. Best is trial 0 with value: 0.6187481641176131.\u001b[0m\n",
      "\u001b[32m[I 2023-08-17 22:25:19,581]\u001b[0m Trial 54 finished with value: 0.6052623761966817 and parameters: {'n_estimators': 872, 'max_depth': 24, 'num_leaves': 24, 'min_child_samples': 4, 'num_iterations': 905}. Best is trial 0 with value: 0.6187481641176131.\u001b[0m\n",
      "\u001b[32m[I 2023-08-17 22:25:22,679]\u001b[0m Trial 55 finished with value: 0.610857032670177 and parameters: {'n_estimators': 986, 'max_depth': 26, 'num_leaves': 26, 'min_child_samples': 3, 'num_iterations': 940}. Best is trial 0 with value: 0.6187481641176131.\u001b[0m\n"
     ]
    },
    {
     "name": "stdout",
     "output_type": "stream",
     "text": [
      "[LightGBM] [Warning] Accuracy may be bad since you didn't explicitly set num_leaves OR 2^max_depth > num_leaves. (num_leaves=31).\n",
      "[LightGBM] [Warning] Accuracy may be bad since you didn't explicitly set num_leaves OR 2^max_depth > num_leaves. (num_leaves=31).\n",
      "[LightGBM] [Warning] Accuracy may be bad since you didn't explicitly set num_leaves OR 2^max_depth > num_leaves. (num_leaves=31).\n",
      "[LightGBM] [Warning] Accuracy may be bad since you didn't explicitly set num_leaves OR 2^max_depth > num_leaves. (num_leaves=31).\n",
      "[LightGBM] [Warning] Accuracy may be bad since you didn't explicitly set num_leaves OR 2^max_depth > num_leaves. (num_leaves=31).\n"
     ]
    },
    {
     "name": "stderr",
     "output_type": "stream",
     "text": [
      "\u001b[32m[I 2023-08-17 22:25:26,493]\u001b[0m Trial 56 finished with value: 0.600758386875404 and parameters: {'n_estimators': 994, 'max_depth': 27, 'num_leaves': 31, 'min_child_samples': 2, 'num_iterations': 941}. Best is trial 0 with value: 0.6187481641176131.\u001b[0m\n",
      "\u001b[32m[I 2023-08-17 22:25:28,368]\u001b[0m Trial 57 finished with value: 0.6100440866914055 and parameters: {'n_estimators': 731, 'max_depth': 29, 'num_leaves': 28, 'min_child_samples': 5, 'num_iterations': 508}. Best is trial 0 with value: 0.6187481641176131.\u001b[0m\n",
      "\u001b[32m[I 2023-08-17 22:25:30,867]\u001b[0m Trial 58 finished with value: 0.6032035434772063 and parameters: {'n_estimators': 980, 'max_depth': 21, 'num_leaves': 21, 'min_child_samples': 4, 'num_iterations': 878}. Best is trial 0 with value: 0.6187481641176131.\u001b[0m\n",
      "\u001b[32m[I 2023-08-17 22:25:34,488]\u001b[0m Trial 59 finished with value: 0.6106003504981496 and parameters: {'n_estimators': 956, 'max_depth': 26, 'num_leaves': 30, 'min_child_samples': 1, 'num_iterations': 847}. Best is trial 0 with value: 0.6187481641176131.\u001b[0m\n",
      "\u001b[32m[I 2023-08-17 22:25:37,730]\u001b[0m Trial 60 finished with value: 0.6076939170952996 and parameters: {'n_estimators': 655, 'max_depth': 28, 'num_leaves': 27, 'min_child_samples': 2, 'num_iterations': 927}. Best is trial 0 with value: 0.6187481641176131.\u001b[0m\n",
      "\u001b[32m[I 2023-08-17 22:25:40,753]\u001b[0m Trial 61 finished with value: 0.6108422008886535 and parameters: {'n_estimators': 941, 'max_depth': 25, 'num_leaves': 26, 'min_child_samples': 3, 'num_iterations': 985}. Best is trial 0 with value: 0.6187481641176131.\u001b[0m\n",
      "\u001b[32m[I 2023-08-17 22:25:43,702]\u001b[0m Trial 62 finished with value: 0.6110643719808404 and parameters: {'n_estimators': 945, 'max_depth': 24, 'num_leaves': 25, 'min_child_samples': 3, 'num_iterations': 980}. Best is trial 0 with value: 0.6187481641176131.\u001b[0m\n",
      "\u001b[32m[I 2023-08-17 22:25:46,622]\u001b[0m Trial 63 finished with value: 0.611067052748137 and parameters: {'n_estimators': 910, 'max_depth': 23, 'num_leaves': 25, 'min_child_samples': 3, 'num_iterations': 951}. Best is trial 0 with value: 0.6187481641176131.\u001b[0m\n",
      "\u001b[32m[I 2023-08-17 22:25:49,402]\u001b[0m Trial 64 finished with value: 0.6084708029122781 and parameters: {'n_estimators': 855, 'max_depth': 23, 'num_leaves': 24, 'min_child_samples': 3, 'num_iterations': 960}. Best is trial 0 with value: 0.6187481641176131.\u001b[0m\n",
      "\u001b[32m[I 2023-08-17 22:25:52,047]\u001b[0m Trial 65 finished with value: 0.6048305359088316 and parameters: {'n_estimators': 818, 'max_depth': 20, 'num_leaves': 23, 'min_child_samples': 2, 'num_iterations': 917}. Best is trial 0 with value: 0.6187481641176131.\u001b[0m\n",
      "\u001b[32m[I 2023-08-17 22:25:54,239]\u001b[0m Trial 66 finished with value: 0.610827929346631 and parameters: {'n_estimators': 885, 'max_depth': 22, 'num_leaves': 19, 'min_child_samples': 4, 'num_iterations': 952}. Best is trial 0 with value: 0.6187481641176131.\u001b[0m\n",
      "\u001b[32m[I 2023-08-17 22:25:56,029]\u001b[0m Trial 67 finished with value: 0.5985212888565302 and parameters: {'n_estimators': 795, 'max_depth': 24, 'num_leaves': 14, 'min_child_samples': 3, 'num_iterations': 981}. Best is trial 0 with value: 0.6187481641176131.\u001b[0m\n",
      "\u001b[32m[I 2023-08-17 22:25:57,918]\u001b[0m Trial 68 finished with value: 0.6029709038775332 and parameters: {'n_estimators': 918, 'max_depth': 19, 'num_leaves': 16, 'min_child_samples': 2, 'num_iterations': 894}. Best is trial 0 with value: 0.6187481641176131.\u001b[0m\n",
      "\u001b[32m[I 2023-08-17 22:25:59,762]\u001b[0m Trial 69 finished with value: 0.604866073834641 and parameters: {'n_estimators': 753, 'max_depth': 17, 'num_leaves': 22, 'min_child_samples': 4, 'num_iterations': 668}. Best is trial 0 with value: 0.6187481641176131.\u001b[0m\n",
      "\u001b[32m[I 2023-08-17 22:26:02,706]\u001b[0m Trial 70 finished with value: 0.6082044827203668 and parameters: {'n_estimators': 607, 'max_depth': 23, 'num_leaves': 25, 'min_child_samples': 2, 'num_iterations': 967}. Best is trial 0 with value: 0.6187481641176131.\u001b[0m\n",
      "\u001b[32m[I 2023-08-17 22:26:05,550]\u001b[0m Trial 71 finished with value: 0.6110650694926776 and parameters: {'n_estimators': 987, 'max_depth': 27, 'num_leaves': 25, 'min_child_samples': 3, 'num_iterations': 946}. Best is trial 0 with value: 0.6187481641176131.\u001b[0m\n",
      "\u001b[32m[I 2023-08-17 22:26:08,261]\u001b[0m Trial 72 finished with value: 0.6084734131426454 and parameters: {'n_estimators': 904, 'max_depth': 27, 'num_leaves': 24, 'min_child_samples': 3, 'num_iterations': 944}. Best is trial 0 with value: 0.6187481641176131.\u001b[0m\n",
      "\u001b[32m[I 2023-08-17 22:26:11,507]\u001b[0m Trial 73 finished with value: 0.6014077832984054 and parameters: {'n_estimators': 968, 'max_depth': 30, 'num_leaves': 28, 'min_child_samples': 3, 'num_iterations': 985}. Best is trial 0 with value: 0.6187481641176131.\u001b[0m\n",
      "\u001b[32m[I 2023-08-17 22:26:12,646]\u001b[0m Trial 74 finished with value: 0.59191537061271 and parameters: {'n_estimators': 951, 'max_depth': 5, 'num_leaves': 10, 'min_child_samples': 4, 'num_iterations': 920}. Best is trial 0 with value: 0.6187481641176131.\u001b[0m\n",
      "\u001b[32m[I 2023-08-17 22:26:15,487]\u001b[0m Trial 75 finished with value: 0.6082273752831933 and parameters: {'n_estimators': 550, 'max_depth': 24, 'num_leaves': 25, 'min_child_samples': 2, 'num_iterations': 903}. Best is trial 0 with value: 0.6187481641176131.\u001b[0m\n",
      "\u001b[32m[I 2023-08-17 22:26:17,991]\u001b[0m Trial 76 finished with value: 0.6108565815969476 and parameters: {'n_estimators': 669, 'max_depth': 26, 'num_leaves': 27, 'min_child_samples': 3, 'num_iterations': 769}. Best is trial 0 with value: 0.6187481641176131.\u001b[0m\n",
      "\u001b[32m[I 2023-08-17 22:26:20,990]\u001b[0m Trial 77 finished with value: 0.5854512059840564 and parameters: {'n_estimators': 915, 'max_depth': 29, 'num_leaves': 23, 'min_child_samples': 1, 'num_iterations': 962}. Best is trial 0 with value: 0.6187481641176131.\u001b[0m\n",
      "\u001b[32m[I 2023-08-17 22:26:23,639]\u001b[0m Trial 78 finished with value: 0.6028766973598803 and parameters: {'n_estimators': 979, 'max_depth': 22, 'num_leaves': 29, 'min_child_samples': 10, 'num_iterations': 864}. Best is trial 0 with value: 0.6187481641176131.\u001b[0m\n",
      "\u001b[32m[I 2023-08-17 22:26:26,141]\u001b[0m Trial 79 finished with value: 0.6053663650143098 and parameters: {'n_estimators': 866, 'max_depth': 25, 'num_leaves': 20, 'min_child_samples': 2, 'num_iterations': 988}. Best is trial 0 with value: 0.6187481641176131.\u001b[0m\n",
      "\u001b[32m[I 2023-08-17 22:26:28,913]\u001b[0m Trial 80 finished with value: 0.6065836209121463 and parameters: {'n_estimators': 830, 'max_depth': 12, 'num_leaves': 25, 'min_child_samples': 3, 'num_iterations': 935}. Best is trial 0 with value: 0.6187481641176131.\u001b[0m\n",
      "\u001b[32m[I 2023-08-17 22:26:31,859]\u001b[0m Trial 81 finished with value: 0.610860298690173 and parameters: {'n_estimators': 988, 'max_depth': 27, 'num_leaves': 26, 'min_child_samples': 3, 'num_iterations': 943}. Best is trial 0 with value: 0.6187481641176131.\u001b[0m\n",
      "\u001b[32m[I 2023-08-17 22:26:33,857]\u001b[0m Trial 82 finished with value: 0.6010119351529555 and parameters: {'n_estimators': 933, 'max_depth': 28, 'num_leaves': 26, 'min_child_samples': 4, 'num_iterations': 635}. Best is trial 0 with value: 0.6187481641176131.\u001b[0m\n",
      "\u001b[32m[I 2023-08-17 22:26:36,611]\u001b[0m Trial 83 finished with value: 0.6084726924574667 and parameters: {'n_estimators': 999, 'max_depth': 27, 'num_leaves': 24, 'min_child_samples': 3, 'num_iterations': 957}. Best is trial 0 with value: 0.6187481641176131.\u001b[0m\n",
      "\u001b[32m[I 2023-08-17 22:26:39,790]\u001b[0m Trial 84 finished with value: 0.6076948222710186 and parameters: {'n_estimators': 961, 'max_depth': 25, 'num_leaves': 27, 'min_child_samples': 2, 'num_iterations': 974}. Best is trial 0 with value: 0.6187481641176131.\u001b[0m\n",
      "\u001b[32m[I 2023-08-17 22:26:42,225]\u001b[0m Trial 85 finished with value: 0.6054044823954357 and parameters: {'n_estimators': 704, 'max_depth': 28, 'num_leaves': 21, 'min_child_samples': 3, 'num_iterations': 947}. Best is trial 0 with value: 0.6187481641176131.\u001b[0m\n",
      "\u001b[32m[I 2023-08-17 22:26:43,843]\u001b[0m Trial 86 finished with value: 0.6031118459159341 and parameters: {'n_estimators': 943, 'max_depth': 24, 'num_leaves': 13, 'min_child_samples': 4, 'num_iterations': 920}. Best is trial 0 with value: 0.6187481641176131.\u001b[0m\n",
      "\u001b[32m[I 2023-08-17 22:26:44,756]\u001b[0m Trial 87 finished with value: 0.5927530525092698 and parameters: {'n_estimators': 975, 'max_depth': 29, 'num_leaves': 7, 'min_child_samples': 5, 'num_iterations': 888}. Best is trial 0 with value: 0.6187481641176131.\u001b[0m\n",
      "\u001b[32m[I 2023-08-17 22:26:47,603]\u001b[0m Trial 88 finished with value: 0.6110653931437691 and parameters: {'n_estimators': 725, 'max_depth': 26, 'num_leaves': 25, 'min_child_samples': 3, 'num_iterations': 934}. Best is trial 0 with value: 0.6187481641176131.\u001b[0m\n",
      "\u001b[32m[I 2023-08-17 22:26:50,140]\u001b[0m Trial 89 finished with value: 0.6042585412757482 and parameters: {'n_estimators': 724, 'max_depth': 21, 'num_leaves': 22, 'min_child_samples': 2, 'num_iterations': 931}. Best is trial 0 with value: 0.6187481641176131.\u001b[0m\n",
      "\u001b[32m[I 2023-08-17 22:26:53,215]\u001b[0m Trial 90 finished with value: 0.6078287227777845 and parameters: {'n_estimators': 740, 'max_depth': 23, 'num_leaves': 30, 'min_child_samples': 7, 'num_iterations': 906}. Best is trial 0 with value: 0.6187481641176131.\u001b[0m\n",
      "\u001b[32m[I 2023-08-17 22:26:56,159]\u001b[0m Trial 91 finished with value: 0.6108576134251686 and parameters: {'n_estimators': 766, 'max_depth': 26, 'num_leaves': 26, 'min_child_samples': 3, 'num_iterations': 951}. Best is trial 0 with value: 0.6187481641176131.\u001b[0m\n",
      "\u001b[32m[I 2023-08-17 22:26:59,117]\u001b[0m Trial 92 finished with value: 0.6110523183384884 and parameters: {'n_estimators': 707, 'max_depth': 26, 'num_leaves': 25, 'min_child_samples': 3, 'num_iterations': 990}. Best is trial 0 with value: 0.6187481641176131.\u001b[0m\n",
      "\u001b[32m[I 2023-08-17 22:27:01,780]\u001b[0m Trial 93 finished with value: 0.6062161446180928 and parameters: {'n_estimators': 713, 'max_depth': 25, 'num_leaves': 23, 'min_child_samples': 8, 'num_iterations': 987}. Best is trial 0 with value: 0.6187481641176131.\u001b[0m\n",
      "\u001b[32m[I 2023-08-17 22:27:04,748]\u001b[0m Trial 94 finished with value: 0.6110615893966898 and parameters: {'n_estimators': 667, 'max_depth': 26, 'num_leaves': 25, 'min_child_samples': 3, 'num_iterations': 971}. Best is trial 0 with value: 0.6187481641176131.\u001b[0m\n",
      "\u001b[32m[I 2023-08-17 22:27:07,498]\u001b[0m Trial 95 finished with value: 0.6052439360199814 and parameters: {'n_estimators': 688, 'max_depth': 24, 'num_leaves': 24, 'min_child_samples': 4, 'num_iterations': 966}. Best is trial 0 with value: 0.6187481641176131.\u001b[0m\n",
      "\u001b[32m[I 2023-08-17 22:27:10,869]\u001b[0m Trial 96 finished with value: 0.6051272337055004 and parameters: {'n_estimators': 676, 'max_depth': 30, 'num_leaves': 28, 'min_child_samples': 2, 'num_iterations': 999}. Best is trial 0 with value: 0.6187481641176131.\u001b[0m\n",
      "\u001b[32m[I 2023-08-17 22:27:13,803]\u001b[0m Trial 97 finished with value: 0.6110596100308092 and parameters: {'n_estimators': 624, 'max_depth': 28, 'num_leaves': 25, 'min_child_samples': 3, 'num_iterations': 970}. Best is trial 0 with value: 0.6187481641176131.\u001b[0m\n",
      "\u001b[32m[I 2023-08-17 22:27:17,311]\u001b[0m Trial 98 finished with value: 0.6014146175263319 and parameters: {'n_estimators': 657, 'max_depth': 28, 'num_leaves': 28, 'min_child_samples': 3, 'num_iterations': 970}. Best is trial 0 with value: 0.6187481641176131.\u001b[0m\n",
      "\u001b[32m[I 2023-08-17 22:27:20,585]\u001b[0m Trial 99 finished with value: 0.5988300510464922 and parameters: {'n_estimators': 623, 'max_depth': 27, 'num_leaves': 22, 'min_child_samples': 1, 'num_iterations': 923}. Best is trial 0 with value: 0.6187481641176131.\u001b[0m\n"
     ]
    },
    {
     "name": "stdout",
     "output_type": "stream",
     "text": [
      "Best r2:  0.6187481641176131\n",
      "Best trial: {'n_estimators': 555, 'max_depth': 23, 'num_leaves': 15, 'min_child_samples': 3, 'num_iterations': 885}\n"
     ]
    }
   ],
   "source": [
    "sampler = TPESampler()\n",
    "study = optuna.create_study(\n",
    "    study_name=\"lgbm_parameter_opt\",\n",
    "    direction=\"maximize\",\n",
    "    sampler=sampler,\n",
    ")\n",
    "\n",
    "study.optimize(lambda trial : objectiveLGBM(trial, As_X_train, As_y_train), n_trials=100)\n",
    "print(\"Best r2: \", study.best_value)\n",
    "print(\"Best trial:\", study.best_trial.params)"
   ]
  },
  {
   "cell_type": "code",
   "execution_count": 184,
   "id": "ded0e0f8",
   "metadata": {},
   "outputs": [
    {
     "data": {
      "application/vnd.plotly.v1+json": {
       "config": {
        "plotlyServerURL": "https://plot.ly"
       },
       "data": [
        {
         "dimensions": [
          {
           "label": "Objective Value",
           "range": [
            0.46462546425460455,
            0.6187481641176131
           ],
           "values": [
            0.6187481641176131,
            0.6029494469908465,
            0.5640255857595545,
            0.5376059238031797,
            0.5975797118893977,
            0.5581640004679091,
            0.6045125046755377,
            0.596863240953404,
            0.6002255511691063,
            0.6019462522183415,
            0.46462546425460455,
            0.5810644266895961,
            0.6076929454803357,
            0.6112011014456791,
            0.6057902213914954,
            0.6009433599554479,
            0.607811710766747,
            0.6149429902051193,
            0.6149355453280194,
            0.5384915140833203,
            0.5972037679271021,
            0.60770163191039,
            0.6009123598955547,
            0.5999378355554446,
            0.6064613030990865,
            0.6037812725446964,
            0.6069930774076376,
            0.5817439180458331,
            0.5985367194324563,
            0.6098818247915505,
            0.6041708582637887,
            0.6084694786328727,
            0.6025164334514247,
            0.6108388407070314,
            0.6031531357495046,
            0.5957024620943663,
            0.6063629361949225,
            0.6033665839046234,
            0.598415765896445,
            0.6040559596301508,
            0.6046504048596907,
            0.61105262706318,
            0.603736524826221,
            0.6092921609295006,
            0.6024932795518689,
            0.601446965748079,
            0.5988219674704247,
            0.6009104471196957,
            0.6093706451900462,
            0.6082280800165535,
            0.5996392046314297,
            0.46474658539472696,
            0.6108293993273868,
            0.6048157464119885,
            0.6052623761966817,
            0.610857032670177,
            0.600758386875404,
            0.6100440866914055,
            0.6032035434772063,
            0.6106003504981496,
            0.6076939170952996,
            0.6108422008886535,
            0.6110643719808404,
            0.611067052748137,
            0.6084708029122781,
            0.6048305359088316,
            0.610827929346631,
            0.5985212888565302,
            0.6029709038775332,
            0.604866073834641,
            0.6082044827203668,
            0.6110650694926776,
            0.6084734131426454,
            0.6014077832984054,
            0.59191537061271,
            0.6082273752831933,
            0.6108565815969476,
            0.5854512059840564,
            0.6028766973598803,
            0.6053663650143098,
            0.6065836209121463,
            0.610860298690173,
            0.6010119351529555,
            0.6084726924574667,
            0.6076948222710186,
            0.6054044823954357,
            0.6031118459159341,
            0.5927530525092698,
            0.6110653931437691,
            0.6042585412757482,
            0.6078287227777845,
            0.6108576134251686,
            0.6110523183384884,
            0.6062161446180928,
            0.6110615893966898,
            0.6052439360199814,
            0.6051272337055004,
            0.6110596100308092,
            0.6014146175263319,
            0.5988300510464922
           ]
          },
          {
           "label": "max_depth",
           "range": [
            1,
            30
           ],
           "values": [
            23,
            20,
            3,
            2,
            18,
            3,
            12,
            6,
            15,
            11,
            29,
            24,
            11,
            24,
            27,
            24,
            22,
            26,
            30,
            27,
            17,
            30,
            27,
            30,
            22,
            26,
            21,
            25,
            28,
            19,
            14,
            23,
            20,
            25,
            29,
            26,
            17,
            23,
            28,
            8,
            21,
            25,
            25,
            29,
            24,
            19,
            26,
            28,
            23,
            30,
            27,
            1,
            25,
            22,
            24,
            26,
            27,
            29,
            21,
            26,
            28,
            25,
            24,
            23,
            23,
            20,
            22,
            24,
            19,
            17,
            23,
            27,
            27,
            30,
            5,
            24,
            26,
            29,
            22,
            25,
            12,
            27,
            28,
            27,
            25,
            28,
            24,
            29,
            26,
            21,
            23,
            26,
            26,
            25,
            26,
            24,
            30,
            28,
            28,
            27
           ]
          },
          {
           "label": "min_child_samples",
           "range": [
            1,
            10
           ],
           "values": [
            3,
            7,
            9,
            9,
            5,
            6,
            2,
            7,
            4,
            3,
            1,
            1,
            3,
            3,
            4,
            3,
            5,
            2,
            2,
            1,
            2,
            2,
            4,
            2,
            1,
            4,
            2,
            10,
            3,
            5,
            6,
            3,
            2,
            3,
            4,
            1,
            7,
            8,
            2,
            5,
            6,
            3,
            3,
            4,
            2,
            3,
            1,
            4,
            3,
            2,
            1,
            3,
            3,
            2,
            4,
            3,
            2,
            5,
            4,
            1,
            2,
            3,
            3,
            3,
            3,
            2,
            4,
            3,
            2,
            4,
            2,
            3,
            3,
            3,
            4,
            2,
            3,
            1,
            10,
            2,
            3,
            3,
            4,
            3,
            2,
            3,
            4,
            5,
            3,
            2,
            7,
            3,
            3,
            8,
            3,
            4,
            2,
            3,
            3,
            1
           ]
          },
          {
           "label": "n_estimators",
           "range": [
            505,
            999
           ],
           "values": [
            555,
            790,
            980,
            761,
            522,
            654,
            959,
            636,
            615,
            844,
            516,
            950,
            878,
            883,
            706,
            867,
            572,
            718,
            696,
            580,
            716,
            687,
            747,
            808,
            670,
            581,
            612,
            737,
            538,
            789,
            771,
            817,
            902,
            929,
            997,
            720,
            683,
            644,
            841,
            546,
            772,
            928,
            926,
            899,
            970,
            850,
            933,
            616,
            505,
            892,
            696,
            944,
            916,
            965,
            872,
            986,
            994,
            731,
            980,
            956,
            655,
            941,
            945,
            910,
            855,
            818,
            885,
            795,
            918,
            753,
            607,
            987,
            904,
            968,
            951,
            550,
            669,
            915,
            979,
            866,
            830,
            988,
            933,
            999,
            961,
            704,
            943,
            975,
            725,
            724,
            740,
            766,
            707,
            713,
            667,
            688,
            676,
            624,
            657,
            623
           ]
          },
          {
           "label": "num_iterations",
           "range": [
            508,
            1000
           ],
           "values": [
            885,
            530,
            582,
            976,
            672,
            979,
            881,
            657,
            691,
            780,
            827,
            870,
            889,
            914,
            926,
            770,
            822,
            926,
            996,
            936,
            841,
            991,
            946,
            955,
            893,
            995,
            724,
            803,
            864,
            563,
            913,
            912,
            958,
            999,
            847,
            913,
            956,
            971,
            898,
            728,
            606,
            988,
            976,
            945,
            928,
            863,
            974,
            883,
            807,
            930,
            977,
            997,
            1000,
            963,
            905,
            940,
            941,
            508,
            878,
            847,
            927,
            985,
            980,
            951,
            960,
            917,
            952,
            981,
            894,
            668,
            967,
            946,
            944,
            985,
            920,
            903,
            769,
            962,
            864,
            988,
            935,
            943,
            635,
            957,
            974,
            947,
            920,
            888,
            934,
            931,
            906,
            951,
            990,
            987,
            971,
            966,
            999,
            970,
            970,
            923
           ]
          },
          {
           "label": "num_leaves",
           "range": [
            2,
            32
           ],
           "values": [
            15,
            26,
            31,
            15,
            13,
            22,
            16,
            17,
            9,
            29,
            2,
            9,
            21,
            23,
            23,
            12,
            20,
            26,
            26,
            3,
            32,
            27,
            26,
            18,
            25,
            29,
            19,
            6,
            13,
            28,
            24,
            24,
            30,
            26,
            21,
            15,
            23,
            31,
            11,
            18,
            27,
            25,
            22,
            25,
            15,
            28,
            22,
            20,
            17,
            25,
            29,
            26,
            27,
            23,
            24,
            26,
            31,
            28,
            21,
            30,
            27,
            26,
            25,
            25,
            24,
            23,
            19,
            14,
            16,
            22,
            25,
            25,
            24,
            28,
            10,
            25,
            27,
            23,
            29,
            20,
            25,
            26,
            26,
            24,
            27,
            21,
            13,
            7,
            25,
            22,
            30,
            26,
            25,
            23,
            25,
            24,
            28,
            25,
            28,
            22
           ]
          }
         ],
         "labelangle": 30,
         "labelside": "bottom",
         "line": {
          "color": [
           0.6187481641176131,
           0.6029494469908465,
           0.5640255857595545,
           0.5376059238031797,
           0.5975797118893977,
           0.5581640004679091,
           0.6045125046755377,
           0.596863240953404,
           0.6002255511691063,
           0.6019462522183415,
           0.46462546425460455,
           0.5810644266895961,
           0.6076929454803357,
           0.6112011014456791,
           0.6057902213914954,
           0.6009433599554479,
           0.607811710766747,
           0.6149429902051193,
           0.6149355453280194,
           0.5384915140833203,
           0.5972037679271021,
           0.60770163191039,
           0.6009123598955547,
           0.5999378355554446,
           0.6064613030990865,
           0.6037812725446964,
           0.6069930774076376,
           0.5817439180458331,
           0.5985367194324563,
           0.6098818247915505,
           0.6041708582637887,
           0.6084694786328727,
           0.6025164334514247,
           0.6108388407070314,
           0.6031531357495046,
           0.5957024620943663,
           0.6063629361949225,
           0.6033665839046234,
           0.598415765896445,
           0.6040559596301508,
           0.6046504048596907,
           0.61105262706318,
           0.603736524826221,
           0.6092921609295006,
           0.6024932795518689,
           0.601446965748079,
           0.5988219674704247,
           0.6009104471196957,
           0.6093706451900462,
           0.6082280800165535,
           0.5996392046314297,
           0.46474658539472696,
           0.6108293993273868,
           0.6048157464119885,
           0.6052623761966817,
           0.610857032670177,
           0.600758386875404,
           0.6100440866914055,
           0.6032035434772063,
           0.6106003504981496,
           0.6076939170952996,
           0.6108422008886535,
           0.6110643719808404,
           0.611067052748137,
           0.6084708029122781,
           0.6048305359088316,
           0.610827929346631,
           0.5985212888565302,
           0.6029709038775332,
           0.604866073834641,
           0.6082044827203668,
           0.6110650694926776,
           0.6084734131426454,
           0.6014077832984054,
           0.59191537061271,
           0.6082273752831933,
           0.6108565815969476,
           0.5854512059840564,
           0.6028766973598803,
           0.6053663650143098,
           0.6065836209121463,
           0.610860298690173,
           0.6010119351529555,
           0.6084726924574667,
           0.6076948222710186,
           0.6054044823954357,
           0.6031118459159341,
           0.5927530525092698,
           0.6110653931437691,
           0.6042585412757482,
           0.6078287227777845,
           0.6108576134251686,
           0.6110523183384884,
           0.6062161446180928,
           0.6110615893966898,
           0.6052439360199814,
           0.6051272337055004,
           0.6110596100308092,
           0.6014146175263319,
           0.5988300510464922
          ],
          "colorbar": {
           "title": {
            "text": "Objective Value"
           }
          },
          "colorscale": [
           [
            0,
            "rgb(247,251,255)"
           ],
           [
            0.125,
            "rgb(222,235,247)"
           ],
           [
            0.25,
            "rgb(198,219,239)"
           ],
           [
            0.375,
            "rgb(158,202,225)"
           ],
           [
            0.5,
            "rgb(107,174,214)"
           ],
           [
            0.625,
            "rgb(66,146,198)"
           ],
           [
            0.75,
            "rgb(33,113,181)"
           ],
           [
            0.875,
            "rgb(8,81,156)"
           ],
           [
            1,
            "rgb(8,48,107)"
           ]
          ],
          "reversescale": false,
          "showscale": true
         },
         "type": "parcoords"
        }
       ],
       "layout": {
        "template": {
         "data": {
          "bar": [
           {
            "error_x": {
             "color": "#2a3f5f"
            },
            "error_y": {
             "color": "#2a3f5f"
            },
            "marker": {
             "line": {
              "color": "#E5ECF6",
              "width": 0.5
             },
             "pattern": {
              "fillmode": "overlay",
              "size": 10,
              "solidity": 0.2
             }
            },
            "type": "bar"
           }
          ],
          "barpolar": [
           {
            "marker": {
             "line": {
              "color": "#E5ECF6",
              "width": 0.5
             },
             "pattern": {
              "fillmode": "overlay",
              "size": 10,
              "solidity": 0.2
             }
            },
            "type": "barpolar"
           }
          ],
          "carpet": [
           {
            "aaxis": {
             "endlinecolor": "#2a3f5f",
             "gridcolor": "white",
             "linecolor": "white",
             "minorgridcolor": "white",
             "startlinecolor": "#2a3f5f"
            },
            "baxis": {
             "endlinecolor": "#2a3f5f",
             "gridcolor": "white",
             "linecolor": "white",
             "minorgridcolor": "white",
             "startlinecolor": "#2a3f5f"
            },
            "type": "carpet"
           }
          ],
          "choropleth": [
           {
            "colorbar": {
             "outlinewidth": 0,
             "ticks": ""
            },
            "type": "choropleth"
           }
          ],
          "contour": [
           {
            "colorbar": {
             "outlinewidth": 0,
             "ticks": ""
            },
            "colorscale": [
             [
              0,
              "#0d0887"
             ],
             [
              0.1111111111111111,
              "#46039f"
             ],
             [
              0.2222222222222222,
              "#7201a8"
             ],
             [
              0.3333333333333333,
              "#9c179e"
             ],
             [
              0.4444444444444444,
              "#bd3786"
             ],
             [
              0.5555555555555556,
              "#d8576b"
             ],
             [
              0.6666666666666666,
              "#ed7953"
             ],
             [
              0.7777777777777778,
              "#fb9f3a"
             ],
             [
              0.8888888888888888,
              "#fdca26"
             ],
             [
              1,
              "#f0f921"
             ]
            ],
            "type": "contour"
           }
          ],
          "contourcarpet": [
           {
            "colorbar": {
             "outlinewidth": 0,
             "ticks": ""
            },
            "type": "contourcarpet"
           }
          ],
          "heatmap": [
           {
            "colorbar": {
             "outlinewidth": 0,
             "ticks": ""
            },
            "colorscale": [
             [
              0,
              "#0d0887"
             ],
             [
              0.1111111111111111,
              "#46039f"
             ],
             [
              0.2222222222222222,
              "#7201a8"
             ],
             [
              0.3333333333333333,
              "#9c179e"
             ],
             [
              0.4444444444444444,
              "#bd3786"
             ],
             [
              0.5555555555555556,
              "#d8576b"
             ],
             [
              0.6666666666666666,
              "#ed7953"
             ],
             [
              0.7777777777777778,
              "#fb9f3a"
             ],
             [
              0.8888888888888888,
              "#fdca26"
             ],
             [
              1,
              "#f0f921"
             ]
            ],
            "type": "heatmap"
           }
          ],
          "heatmapgl": [
           {
            "colorbar": {
             "outlinewidth": 0,
             "ticks": ""
            },
            "colorscale": [
             [
              0,
              "#0d0887"
             ],
             [
              0.1111111111111111,
              "#46039f"
             ],
             [
              0.2222222222222222,
              "#7201a8"
             ],
             [
              0.3333333333333333,
              "#9c179e"
             ],
             [
              0.4444444444444444,
              "#bd3786"
             ],
             [
              0.5555555555555556,
              "#d8576b"
             ],
             [
              0.6666666666666666,
              "#ed7953"
             ],
             [
              0.7777777777777778,
              "#fb9f3a"
             ],
             [
              0.8888888888888888,
              "#fdca26"
             ],
             [
              1,
              "#f0f921"
             ]
            ],
            "type": "heatmapgl"
           }
          ],
          "histogram": [
           {
            "marker": {
             "pattern": {
              "fillmode": "overlay",
              "size": 10,
              "solidity": 0.2
             }
            },
            "type": "histogram"
           }
          ],
          "histogram2d": [
           {
            "colorbar": {
             "outlinewidth": 0,
             "ticks": ""
            },
            "colorscale": [
             [
              0,
              "#0d0887"
             ],
             [
              0.1111111111111111,
              "#46039f"
             ],
             [
              0.2222222222222222,
              "#7201a8"
             ],
             [
              0.3333333333333333,
              "#9c179e"
             ],
             [
              0.4444444444444444,
              "#bd3786"
             ],
             [
              0.5555555555555556,
              "#d8576b"
             ],
             [
              0.6666666666666666,
              "#ed7953"
             ],
             [
              0.7777777777777778,
              "#fb9f3a"
             ],
             [
              0.8888888888888888,
              "#fdca26"
             ],
             [
              1,
              "#f0f921"
             ]
            ],
            "type": "histogram2d"
           }
          ],
          "histogram2dcontour": [
           {
            "colorbar": {
             "outlinewidth": 0,
             "ticks": ""
            },
            "colorscale": [
             [
              0,
              "#0d0887"
             ],
             [
              0.1111111111111111,
              "#46039f"
             ],
             [
              0.2222222222222222,
              "#7201a8"
             ],
             [
              0.3333333333333333,
              "#9c179e"
             ],
             [
              0.4444444444444444,
              "#bd3786"
             ],
             [
              0.5555555555555556,
              "#d8576b"
             ],
             [
              0.6666666666666666,
              "#ed7953"
             ],
             [
              0.7777777777777778,
              "#fb9f3a"
             ],
             [
              0.8888888888888888,
              "#fdca26"
             ],
             [
              1,
              "#f0f921"
             ]
            ],
            "type": "histogram2dcontour"
           }
          ],
          "mesh3d": [
           {
            "colorbar": {
             "outlinewidth": 0,
             "ticks": ""
            },
            "type": "mesh3d"
           }
          ],
          "parcoords": [
           {
            "line": {
             "colorbar": {
              "outlinewidth": 0,
              "ticks": ""
             }
            },
            "type": "parcoords"
           }
          ],
          "pie": [
           {
            "automargin": true,
            "type": "pie"
           }
          ],
          "scatter": [
           {
            "marker": {
             "colorbar": {
              "outlinewidth": 0,
              "ticks": ""
             }
            },
            "type": "scatter"
           }
          ],
          "scatter3d": [
           {
            "line": {
             "colorbar": {
              "outlinewidth": 0,
              "ticks": ""
             }
            },
            "marker": {
             "colorbar": {
              "outlinewidth": 0,
              "ticks": ""
             }
            },
            "type": "scatter3d"
           }
          ],
          "scattercarpet": [
           {
            "marker": {
             "colorbar": {
              "outlinewidth": 0,
              "ticks": ""
             }
            },
            "type": "scattercarpet"
           }
          ],
          "scattergeo": [
           {
            "marker": {
             "colorbar": {
              "outlinewidth": 0,
              "ticks": ""
             }
            },
            "type": "scattergeo"
           }
          ],
          "scattergl": [
           {
            "marker": {
             "colorbar": {
              "outlinewidth": 0,
              "ticks": ""
             }
            },
            "type": "scattergl"
           }
          ],
          "scattermapbox": [
           {
            "marker": {
             "colorbar": {
              "outlinewidth": 0,
              "ticks": ""
             }
            },
            "type": "scattermapbox"
           }
          ],
          "scatterpolar": [
           {
            "marker": {
             "colorbar": {
              "outlinewidth": 0,
              "ticks": ""
             }
            },
            "type": "scatterpolar"
           }
          ],
          "scatterpolargl": [
           {
            "marker": {
             "colorbar": {
              "outlinewidth": 0,
              "ticks": ""
             }
            },
            "type": "scatterpolargl"
           }
          ],
          "scatterternary": [
           {
            "marker": {
             "colorbar": {
              "outlinewidth": 0,
              "ticks": ""
             }
            },
            "type": "scatterternary"
           }
          ],
          "surface": [
           {
            "colorbar": {
             "outlinewidth": 0,
             "ticks": ""
            },
            "colorscale": [
             [
              0,
              "#0d0887"
             ],
             [
              0.1111111111111111,
              "#46039f"
             ],
             [
              0.2222222222222222,
              "#7201a8"
             ],
             [
              0.3333333333333333,
              "#9c179e"
             ],
             [
              0.4444444444444444,
              "#bd3786"
             ],
             [
              0.5555555555555556,
              "#d8576b"
             ],
             [
              0.6666666666666666,
              "#ed7953"
             ],
             [
              0.7777777777777778,
              "#fb9f3a"
             ],
             [
              0.8888888888888888,
              "#fdca26"
             ],
             [
              1,
              "#f0f921"
             ]
            ],
            "type": "surface"
           }
          ],
          "table": [
           {
            "cells": {
             "fill": {
              "color": "#EBF0F8"
             },
             "line": {
              "color": "white"
             }
            },
            "header": {
             "fill": {
              "color": "#C8D4E3"
             },
             "line": {
              "color": "white"
             }
            },
            "type": "table"
           }
          ]
         },
         "layout": {
          "annotationdefaults": {
           "arrowcolor": "#2a3f5f",
           "arrowhead": 0,
           "arrowwidth": 1
          },
          "autotypenumbers": "strict",
          "coloraxis": {
           "colorbar": {
            "outlinewidth": 0,
            "ticks": ""
           }
          },
          "colorscale": {
           "diverging": [
            [
             0,
             "#8e0152"
            ],
            [
             0.1,
             "#c51b7d"
            ],
            [
             0.2,
             "#de77ae"
            ],
            [
             0.3,
             "#f1b6da"
            ],
            [
             0.4,
             "#fde0ef"
            ],
            [
             0.5,
             "#f7f7f7"
            ],
            [
             0.6,
             "#e6f5d0"
            ],
            [
             0.7,
             "#b8e186"
            ],
            [
             0.8,
             "#7fbc41"
            ],
            [
             0.9,
             "#4d9221"
            ],
            [
             1,
             "#276419"
            ]
           ],
           "sequential": [
            [
             0,
             "#0d0887"
            ],
            [
             0.1111111111111111,
             "#46039f"
            ],
            [
             0.2222222222222222,
             "#7201a8"
            ],
            [
             0.3333333333333333,
             "#9c179e"
            ],
            [
             0.4444444444444444,
             "#bd3786"
            ],
            [
             0.5555555555555556,
             "#d8576b"
            ],
            [
             0.6666666666666666,
             "#ed7953"
            ],
            [
             0.7777777777777778,
             "#fb9f3a"
            ],
            [
             0.8888888888888888,
             "#fdca26"
            ],
            [
             1,
             "#f0f921"
            ]
           ],
           "sequentialminus": [
            [
             0,
             "#0d0887"
            ],
            [
             0.1111111111111111,
             "#46039f"
            ],
            [
             0.2222222222222222,
             "#7201a8"
            ],
            [
             0.3333333333333333,
             "#9c179e"
            ],
            [
             0.4444444444444444,
             "#bd3786"
            ],
            [
             0.5555555555555556,
             "#d8576b"
            ],
            [
             0.6666666666666666,
             "#ed7953"
            ],
            [
             0.7777777777777778,
             "#fb9f3a"
            ],
            [
             0.8888888888888888,
             "#fdca26"
            ],
            [
             1,
             "#f0f921"
            ]
           ]
          },
          "colorway": [
           "#636efa",
           "#EF553B",
           "#00cc96",
           "#ab63fa",
           "#FFA15A",
           "#19d3f3",
           "#FF6692",
           "#B6E880",
           "#FF97FF",
           "#FECB52"
          ],
          "font": {
           "color": "#2a3f5f"
          },
          "geo": {
           "bgcolor": "white",
           "lakecolor": "white",
           "landcolor": "#E5ECF6",
           "showlakes": true,
           "showland": true,
           "subunitcolor": "white"
          },
          "hoverlabel": {
           "align": "left"
          },
          "hovermode": "closest",
          "mapbox": {
           "style": "light"
          },
          "paper_bgcolor": "white",
          "plot_bgcolor": "#E5ECF6",
          "polar": {
           "angularaxis": {
            "gridcolor": "white",
            "linecolor": "white",
            "ticks": ""
           },
           "bgcolor": "#E5ECF6",
           "radialaxis": {
            "gridcolor": "white",
            "linecolor": "white",
            "ticks": ""
           }
          },
          "scene": {
           "xaxis": {
            "backgroundcolor": "#E5ECF6",
            "gridcolor": "white",
            "gridwidth": 2,
            "linecolor": "white",
            "showbackground": true,
            "ticks": "",
            "zerolinecolor": "white"
           },
           "yaxis": {
            "backgroundcolor": "#E5ECF6",
            "gridcolor": "white",
            "gridwidth": 2,
            "linecolor": "white",
            "showbackground": true,
            "ticks": "",
            "zerolinecolor": "white"
           },
           "zaxis": {
            "backgroundcolor": "#E5ECF6",
            "gridcolor": "white",
            "gridwidth": 2,
            "linecolor": "white",
            "showbackground": true,
            "ticks": "",
            "zerolinecolor": "white"
           }
          },
          "shapedefaults": {
           "line": {
            "color": "#2a3f5f"
           }
          },
          "ternary": {
           "aaxis": {
            "gridcolor": "white",
            "linecolor": "white",
            "ticks": ""
           },
           "baxis": {
            "gridcolor": "white",
            "linecolor": "white",
            "ticks": ""
           },
           "bgcolor": "#E5ECF6",
           "caxis": {
            "gridcolor": "white",
            "linecolor": "white",
            "ticks": ""
           }
          },
          "title": {
           "x": 0.05
          },
          "xaxis": {
           "automargin": true,
           "gridcolor": "white",
           "linecolor": "white",
           "ticks": "",
           "title": {
            "standoff": 15
           },
           "zerolinecolor": "white",
           "zerolinewidth": 2
          },
          "yaxis": {
           "automargin": true,
           "gridcolor": "white",
           "linecolor": "white",
           "ticks": "",
           "title": {
            "standoff": 15
           },
           "zerolinecolor": "white",
           "zerolinewidth": 2
          }
         }
        },
        "title": {
         "text": "Parallel Coordinate Plot"
        }
       }
      }
     },
     "metadata": {},
     "output_type": "display_data"
    }
   ],
   "source": [
    "optuna.visualization.plot_parallel_coordinate(study)"
   ]
  },
  {
   "cell_type": "code",
   "execution_count": 185,
   "id": "75db1ddf",
   "metadata": {},
   "outputs": [
    {
     "name": "stdout",
     "output_type": "stream",
     "text": [
      "Best trial: {'n_estimators': 555, 'max_depth': 23, 'num_leaves': 15, 'min_child_samples': 3, 'num_iterations': 885}\n"
     ]
    }
   ],
   "source": [
    "print(\"Best trial:\", study.best_trial.params)"
   ]
  },
  {
   "cell_type": "code",
   "execution_count": 186,
   "id": "574699dc",
   "metadata": {},
   "outputs": [
    {
     "data": {
      "text/plain": [
       "555"
      ]
     },
     "execution_count": 186,
     "metadata": {},
     "output_type": "execute_result"
    }
   ],
   "source": [
    "study.best_trial.params[\"n_estimators\"]"
   ]
  },
  {
   "cell_type": "code",
   "execution_count": 187,
   "id": "862eadd2",
   "metadata": {},
   "outputs": [
    {
     "data": {
      "text/html": [
       "<style>#sk-container-id-9 {color: black;background-color: white;}#sk-container-id-9 pre{padding: 0;}#sk-container-id-9 div.sk-toggleable {background-color: white;}#sk-container-id-9 label.sk-toggleable__label {cursor: pointer;display: block;width: 100%;margin-bottom: 0;padding: 0.3em;box-sizing: border-box;text-align: center;}#sk-container-id-9 label.sk-toggleable__label-arrow:before {content: \"▸\";float: left;margin-right: 0.25em;color: #696969;}#sk-container-id-9 label.sk-toggleable__label-arrow:hover:before {color: black;}#sk-container-id-9 div.sk-estimator:hover label.sk-toggleable__label-arrow:before {color: black;}#sk-container-id-9 div.sk-toggleable__content {max-height: 0;max-width: 0;overflow: hidden;text-align: left;background-color: #f0f8ff;}#sk-container-id-9 div.sk-toggleable__content pre {margin: 0.2em;color: black;border-radius: 0.25em;background-color: #f0f8ff;}#sk-container-id-9 input.sk-toggleable__control:checked~div.sk-toggleable__content {max-height: 200px;max-width: 100%;overflow: auto;}#sk-container-id-9 input.sk-toggleable__control:checked~label.sk-toggleable__label-arrow:before {content: \"▾\";}#sk-container-id-9 div.sk-estimator input.sk-toggleable__control:checked~label.sk-toggleable__label {background-color: #d4ebff;}#sk-container-id-9 div.sk-label input.sk-toggleable__control:checked~label.sk-toggleable__label {background-color: #d4ebff;}#sk-container-id-9 input.sk-hidden--visually {border: 0;clip: rect(1px 1px 1px 1px);clip: rect(1px, 1px, 1px, 1px);height: 1px;margin: -1px;overflow: hidden;padding: 0;position: absolute;width: 1px;}#sk-container-id-9 div.sk-estimator {font-family: monospace;background-color: #f0f8ff;border: 1px dotted black;border-radius: 0.25em;box-sizing: border-box;margin-bottom: 0.5em;}#sk-container-id-9 div.sk-estimator:hover {background-color: #d4ebff;}#sk-container-id-9 div.sk-parallel-item::after {content: \"\";width: 100%;border-bottom: 1px solid gray;flex-grow: 1;}#sk-container-id-9 div.sk-label:hover label.sk-toggleable__label {background-color: #d4ebff;}#sk-container-id-9 div.sk-serial::before {content: \"\";position: absolute;border-left: 1px solid gray;box-sizing: border-box;top: 0;bottom: 0;left: 50%;z-index: 0;}#sk-container-id-9 div.sk-serial {display: flex;flex-direction: column;align-items: center;background-color: white;padding-right: 0.2em;padding-left: 0.2em;position: relative;}#sk-container-id-9 div.sk-item {position: relative;z-index: 1;}#sk-container-id-9 div.sk-parallel {display: flex;align-items: stretch;justify-content: center;background-color: white;position: relative;}#sk-container-id-9 div.sk-item::before, #sk-container-id-9 div.sk-parallel-item::before {content: \"\";position: absolute;border-left: 1px solid gray;box-sizing: border-box;top: 0;bottom: 0;left: 50%;z-index: -1;}#sk-container-id-9 div.sk-parallel-item {display: flex;flex-direction: column;z-index: 1;position: relative;background-color: white;}#sk-container-id-9 div.sk-parallel-item:first-child::after {align-self: flex-end;width: 50%;}#sk-container-id-9 div.sk-parallel-item:last-child::after {align-self: flex-start;width: 50%;}#sk-container-id-9 div.sk-parallel-item:only-child::after {width: 0;}#sk-container-id-9 div.sk-dashed-wrapped {border: 1px dashed gray;margin: 0 0.4em 0.5em 0.4em;box-sizing: border-box;padding-bottom: 0.4em;background-color: white;}#sk-container-id-9 div.sk-label label {font-family: monospace;font-weight: bold;display: inline-block;line-height: 1.2em;}#sk-container-id-9 div.sk-label-container {text-align: center;}#sk-container-id-9 div.sk-container {/* jupyter's `normalize.less` sets `[hidden] { display: none; }` but bootstrap.min.css set `[hidden] { display: none !important; }` so we also need the `!important` here to be able to override the default hidden behavior on the sphinx rendered scikit-learn.org. See: https://github.com/scikit-learn/scikit-learn/issues/21755 */display: inline-block !important;position: relative;}#sk-container-id-9 div.sk-text-repr-fallback {display: none;}</style><div id=\"sk-container-id-9\" class=\"sk-top-container\"><div class=\"sk-text-repr-fallback\"><pre>LGBMRegressor(max_depth=23, min_child_samples=3, n_estimators=555,\n",
       "              num_iterations=885, num_leaves=15, random_state=42)</pre><b>In a Jupyter environment, please rerun this cell to show the HTML representation or trust the notebook. <br />On GitHub, the HTML representation is unable to render, please try loading this page with nbviewer.org.</b></div><div class=\"sk-container\" hidden><div class=\"sk-item\"><div class=\"sk-estimator sk-toggleable\"><input class=\"sk-toggleable__control sk-hidden--visually\" id=\"sk-estimator-id-9\" type=\"checkbox\" checked><label for=\"sk-estimator-id-9\" class=\"sk-toggleable__label sk-toggleable__label-arrow\">LGBMRegressor</label><div class=\"sk-toggleable__content\"><pre>LGBMRegressor(max_depth=23, min_child_samples=3, n_estimators=555,\n",
       "              num_iterations=885, num_leaves=15, random_state=42)</pre></div></div></div></div></div>"
      ],
      "text/plain": [
       "LGBMRegressor(max_depth=23, min_child_samples=3, n_estimators=555,\n",
       "              num_iterations=885, num_leaves=15, random_state=42)"
      ]
     },
     "execution_count": 187,
     "metadata": {},
     "output_type": "execute_result"
    }
   ],
   "source": [
    "lgbm_params = {\n",
    "    \"random_state\": 42,\n",
    "    \"learning_rate\": 0.1,\n",
    "    \"n_estimators\": study.best_trial.params[\"n_estimators\"],\n",
    "    \"max_depth\": study.best_trial.params[\"max_depth\"],\n",
    "    \"num_leaves\": study.best_trial.params[\"num_leaves\"],\n",
    "    \"min_child_samples\": study.best_trial.params[\"min_child_samples\"],\n",
    "    \"num_iterations\": study.best_trial.params[\"num_iterations\"]\n",
    "}\n",
    "\n",
    "lgbm = LGBMRegressor(**lgbm_params)\n",
    "lgbm.fit(As_X_train, As_y_train)"
   ]
  },
  {
   "cell_type": "code",
   "execution_count": 188,
   "id": "8577fb37",
   "metadata": {},
   "outputs": [],
   "source": [
    "y_train_pred = lgbm.predict(As_X_train)\n",
    "y_test_pred = lgbm.predict(As_X_test)"
   ]
  },
  {
   "cell_type": "code",
   "execution_count": 189,
   "id": "2ea0526a",
   "metadata": {},
   "outputs": [],
   "source": [
    "# plt.scatter(y_train_pred, np.array(As_y_train))"
   ]
  },
  {
   "cell_type": "code",
   "execution_count": 190,
   "id": "d2a4dd85",
   "metadata": {},
   "outputs": [
    {
     "name": "stdout",
     "output_type": "stream",
     "text": [
      "Train RMSE:  0.029796061159345542\n",
      "Test RMSE:  0.44486531796293277\n"
     ]
    }
   ],
   "source": [
    "print(\"Train RMSE: \", np.sqrt(mean_squared_error(As_y_train, y_train_pred)))\n",
    "print(\"Test RMSE: \", np.sqrt(mean_squared_error(As_y_test, y_test_pred)))"
   ]
  },
  {
   "cell_type": "code",
   "execution_count": 191,
   "id": "08fe787a",
   "metadata": {},
   "outputs": [
    {
     "name": "stdout",
     "output_type": "stream",
     "text": [
      "Train R2:  0.9984784807721654\n",
      "Test R2:  0.6700366085748275\n"
     ]
    }
   ],
   "source": [
    "print(\"Train R2: \", r2_score(As_y_train, y_train_pred))\n",
    "print(\"Test R2: \", r2_score(As_y_test, y_test_pred))"
   ]
  },
  {
   "cell_type": "code",
   "execution_count": 192,
   "id": "5ec4820c",
   "metadata": {},
   "outputs": [
    {
     "data": {
      "image/png": "[encoded data removed]",
      "text/plain": [
       "<Figure size 432x288 with 1 Axes>"
      ]
     },
     "metadata": {
      "needs_background": "light"
     },
     "output_type": "display_data"
    }
   ],
   "source": [
    "plt.scatter(y_train_pred, np.array(As_y_train), color=\"orange\", alpha=0.3)\n",
    "plt.scatter(y_test_pred, np.array(As_y_test), color=\"green\", alpha=0.4)\n",
    "plt.axis(\"auto\") # scaled, tight, auto, image, square\n",
    "# plt.xlim([0, 1.5]) \n",
    "# plt.ylim(0, None) \n",
    "plt.xlabel('Predicted Values')\n",
    "plt.ylabel('Actual Values')\n",
    "\n",
    "# Add y=x line\n",
    "plt.plot([0, 4.0], [0, 4.0], color='red', linestyle='-')\n",
    "\n",
    "plt.show()"
   ]
  },
  {
   "attachments": {},
   "cell_type": "markdown",
   "id": "e0507d63",
   "metadata": {},
   "source": [
    "Cd"
   ]
  },
  {
   "attachments": {},
   "cell_type": "markdown",
   "id": "f8f809d9",
   "metadata": {},
   "source": [
    "Optimization"
   ]
  },
  {
   "cell_type": "code",
   "execution_count": 193,
   "id": "b7aeaf0a",
   "metadata": {},
   "outputs": [
    {
     "name": "stderr",
     "output_type": "stream",
     "text": [
      "\u001b[32m[I 2023-08-17 22:27:21,589]\u001b[0m A new study created in memory with name: lgbm_parameter_opt\u001b[0m\n",
      "\u001b[32m[I 2023-08-17 22:27:23,916]\u001b[0m Trial 0 finished with value: 0.647347673831687 and parameters: {'n_estimators': 896, 'max_depth': 26, 'num_leaves': 20, 'min_child_samples': 1, 'num_iterations': 636}. Best is trial 0 with value: 0.647347673831687.\u001b[0m\n",
      "\u001b[32m[I 2023-08-17 22:27:26,682]\u001b[0m Trial 1 finished with value: 0.6509718767870722 and parameters: {'n_estimators': 638, 'max_depth': 12, 'num_leaves': 18, 'min_child_samples': 7, 'num_iterations': 997}. Best is trial 1 with value: 0.6509718767870722.\u001b[0m\n",
      "\u001b[32m[I 2023-08-17 22:27:28,638]\u001b[0m Trial 2 finished with value: 0.6422511425081117 and parameters: {'n_estimators': 659, 'max_depth': 17, 'num_leaves': 11, 'min_child_samples': 3, 'num_iterations': 927}. Best is trial 1 with value: 0.6509718767870722.\u001b[0m\n",
      "\u001b[32m[I 2023-08-17 22:27:30,949]\u001b[0m Trial 3 finished with value: 0.6527053016728892 and parameters: {'n_estimators': 808, 'max_depth': 27, 'num_leaves': 19, 'min_child_samples': 10, 'num_iterations': 819}. Best is trial 3 with value: 0.6527053016728892.\u001b[0m\n",
      "\u001b[32m[I 2023-08-17 22:27:34,048]\u001b[0m Trial 4 finished with value: 0.6521549783655258 and parameters: {'n_estimators': 965, 'max_depth': 13, 'num_leaves': 23, 'min_child_samples': 4, 'num_iterations': 911}. Best is trial 3 with value: 0.6527053016728892.\u001b[0m\n",
      "\u001b[32m[I 2023-08-17 22:27:34,944]\u001b[0m Trial 5 finished with value: 0.647095998678351 and parameters: {'n_estimators': 571, 'max_depth': 30, 'num_leaves': 7, 'min_child_samples': 6, 'num_iterations': 816}. Best is trial 3 with value: 0.6527053016728892.\u001b[0m\n",
      "\u001b[32m[I 2023-08-17 22:27:35,608]\u001b[0m Trial 6 finished with value: 0.6410891893438537 and parameters: {'n_estimators': 599, 'max_depth': 12, 'num_leaves': 6, 'min_child_samples': 4, 'num_iterations': 611}. Best is trial 3 with value: 0.6527053016728892.\u001b[0m\n",
      "\u001b[32m[I 2023-08-17 22:27:38,001]\u001b[0m Trial 7 finished with value: 0.6423119264429439 and parameters: {'n_estimators': 611, 'max_depth': 22, 'num_leaves': 16, 'min_child_samples': 7, 'num_iterations': 923}. Best is trial 3 with value: 0.6527053016728892.\u001b[0m\n",
      "\u001b[32m[I 2023-08-17 22:27:39,736]\u001b[0m Trial 8 finished with value: 0.6508455619246287 and parameters: {'n_estimators': 694, 'max_depth': 22, 'num_leaves': 20, 'min_child_samples': 8, 'num_iterations': 591}. Best is trial 3 with value: 0.6527053016728892.\u001b[0m\n",
      "\u001b[32m[I 2023-08-17 22:27:43,366]\u001b[0m Trial 9 finished with value: 0.6493746807036358 and parameters: {'n_estimators': 789, 'max_depth': 28, 'num_leaves': 25, 'min_child_samples': 8, 'num_iterations': 911}. Best is trial 3 with value: 0.6527053016728892.\u001b[0m\n",
      "\u001b[32m[I 2023-08-17 22:27:45,257]\u001b[0m Trial 10 finished with value: 0.6356581831347794 and parameters: {'n_estimators': 792, 'max_depth': 5, 'num_leaves': 28, 'min_child_samples': 10, 'num_iterations': 742}. Best is trial 3 with value: 0.6527053016728892.\u001b[0m\n",
      "\u001b[32m[I 2023-08-17 22:27:46,806]\u001b[0m Trial 11 finished with value: 0.6446209913046319 and parameters: {'n_estimators': 936, 'max_depth': 4, 'num_leaves': 30, 'min_child_samples': 4, 'num_iterations': 817}. Best is trial 3 with value: 0.6527053016728892.\u001b[0m\n",
      "\u001b[32m[I 2023-08-17 22:27:49,398]\u001b[0m Trial 12 finished with value: 0.6509292965103196 and parameters: {'n_estimators': 988, 'max_depth': 16, 'num_leaves': 24, 'min_child_samples': 10, 'num_iterations': 745}. Best is trial 3 with value: 0.6527053016728892.\u001b[0m\n",
      "\u001b[32m[I 2023-08-17 22:27:51,657]\u001b[0m Trial 13 finished with value: 0.6434394984462726 and parameters: {'n_estimators': 859, 'max_depth': 10, 'num_leaves': 15, 'min_child_samples': 2, 'num_iterations': 836}. Best is trial 3 with value: 0.6527053016728892.\u001b[0m\n",
      "\u001b[32m[I 2023-08-17 22:27:53,934]\u001b[0m Trial 14 finished with value: 0.6492365384748153 and parameters: {'n_estimators': 999, 'max_depth': 21, 'num_leaves': 24, 'min_child_samples': 5, 'num_iterations': 686}. Best is trial 3 with value: 0.6527053016728892.\u001b[0m\n",
      "\u001b[32m[I 2023-08-17 22:27:57,547]\u001b[0m Trial 15 finished with value: 0.6474091542390734 and parameters: {'n_estimators': 506, 'max_depth': 9, 'num_leaves': 32, 'min_child_samples': 5, 'num_iterations': 873}. Best is trial 3 with value: 0.6527053016728892.\u001b[0m\n",
      "\u001b[32m[I 2023-08-17 22:27:58,422]\u001b[0m Trial 16 finished with value: 0.648184125694806 and parameters: {'n_estimators': 840, 'max_depth': 19, 'num_leaves': 11, 'min_child_samples': 9, 'num_iterations': 522}. Best is trial 3 with value: 0.6527053016728892.\u001b[0m\n",
      "\u001b[32m[I 2023-08-17 22:27:58,856]\u001b[0m Trial 17 finished with value: 0.5478191193765809 and parameters: {'n_estimators': 722, 'max_depth': 1, 'num_leaves': 22, 'min_child_samples': 3, 'num_iterations': 980}. Best is trial 3 with value: 0.6527053016728892.\u001b[0m\n",
      "\u001b[32m[I 2023-08-17 22:28:00,575]\u001b[0m Trial 18 finished with value: 0.6457037758250733 and parameters: {'n_estimators': 915, 'max_depth': 26, 'num_leaves': 13, 'min_child_samples': 6, 'num_iterations': 769}. Best is trial 3 with value: 0.6527053016728892.\u001b[0m\n",
      "\u001b[32m[I 2023-08-17 22:28:03,915]\u001b[0m Trial 19 finished with value: 0.6509059475056002 and parameters: {'n_estimators': 779, 'max_depth': 13, 'num_leaves': 27, 'min_child_samples': 1, 'num_iterations': 870}. Best is trial 3 with value: 0.6527053016728892.\u001b[0m\n",
      "\u001b[32m[I 2023-08-17 22:28:06,281]\u001b[0m Trial 20 finished with value: 0.6496980889329075 and parameters: {'n_estimators': 846, 'max_depth': 7, 'num_leaves': 19, 'min_child_samples': 4, 'num_iterations': 785}. Best is trial 3 with value: 0.6527053016728892.\u001b[0m\n",
      "\u001b[32m[I 2023-08-17 22:28:09,159]\u001b[0m Trial 21 finished with value: 0.6509751950238705 and parameters: {'n_estimators': 664, 'max_depth': 13, 'num_leaves': 18, 'min_child_samples': 7, 'num_iterations': 994}. Best is trial 3 with value: 0.6527053016728892.\u001b[0m\n",
      "\u001b[32m[I 2023-08-17 22:28:12,371]\u001b[0m Trial 22 finished with value: 0.6480992158281212 and parameters: {'n_estimators': 716, 'max_depth': 15, 'num_leaves': 22, 'min_child_samples': 9, 'num_iterations': 958}. Best is trial 3 with value: 0.6527053016728892.\u001b[0m\n",
      "\u001b[32m[I 2023-08-17 22:28:14,379]\u001b[0m Trial 23 finished with value: 0.6429547819127934 and parameters: {'n_estimators': 753, 'max_depth': 19, 'num_leaves': 15, 'min_child_samples': 7, 'num_iterations': 881}. Best is trial 3 with value: 0.6527053016728892.\u001b[0m\n",
      "\u001b[32m[I 2023-08-17 22:28:17,471]\u001b[0m Trial 24 finished with value: 0.6481241191100058 and parameters: {'n_estimators': 960, 'max_depth': 15, 'num_leaves': 22, 'min_child_samples': 9, 'num_iterations': 940}. Best is trial 3 with value: 0.6527053016728892.\u001b[0m\n",
      "\u001b[32m[I 2023-08-17 22:28:20,218]\u001b[0m Trial 25 finished with value: 0.6443803071990181 and parameters: {'n_estimators': 677, 'max_depth': 24, 'num_leaves': 17, 'min_child_samples': 8, 'num_iterations': 997}. Best is trial 3 with value: 0.6527053016728892.\u001b[0m\n",
      "\u001b[32m[I 2023-08-17 22:28:20,652]\u001b[0m Trial 26 finished with value: 0.5450770588087045 and parameters: {'n_estimators': 890, 'max_depth': 9, 'num_leaves': 2, 'min_child_samples': 6, 'num_iterations': 889}. Best is trial 3 with value: 0.6527053016728892.\u001b[0m\n",
      "\u001b[32m[I 2023-08-17 22:28:24,228]\u001b[0m Trial 27 finished with value: 0.6502988291227678 and parameters: {'n_estimators': 550, 'max_depth': 18, 'num_leaves': 28, 'min_child_samples': 3, 'num_iterations': 846}. Best is trial 3 with value: 0.6527053016728892.\u001b[0m\n",
      "\u001b[32m[I 2023-08-17 22:28:25,511]\u001b[0m Trial 28 finished with value: 0.6487873057388185 and parameters: {'n_estimators': 823, 'max_depth': 14, 'num_leaves': 12, 'min_child_samples': 5, 'num_iterations': 699}. Best is trial 3 with value: 0.6527053016728892.\u001b[0m\n",
      "\u001b[32m[I 2023-08-17 22:28:27,953]\u001b[0m Trial 29 finished with value: 0.6395850409175592 and parameters: {'n_estimators': 738, 'max_depth': 10, 'num_leaves': 20, 'min_child_samples': 10, 'num_iterations': 956}. Best is trial 3 with value: 0.6527053016728892.\u001b[0m\n",
      "\u001b[32m[I 2023-08-17 22:28:30,631]\u001b[0m Trial 30 finished with value: 0.653155231377182 and parameters: {'n_estimators': 877, 'max_depth': 6, 'num_leaves': 21, 'min_child_samples': 2, 'num_iterations': 907}. Best is trial 30 with value: 0.653155231377182.\u001b[0m\n",
      "\u001b[32m[I 2023-08-17 22:28:31,251]\u001b[0m Trial 31 finished with value: 0.6160032364596644 and parameters: {'n_estimators': 876, 'max_depth': 2, 'num_leaves': 21, 'min_child_samples': 1, 'num_iterations': 900}. Best is trial 30 with value: 0.653155231377182.\u001b[0m\n",
      "\u001b[32m[I 2023-08-17 22:28:33,511]\u001b[0m Trial 32 finished with value: 0.6615934552120268 and parameters: {'n_estimators': 921, 'max_depth': 7, 'num_leaves': 18, 'min_child_samples': 2, 'num_iterations': 961}. Best is trial 32 with value: 0.6615934552120268.\u001b[0m\n",
      "\u001b[32m[I 2023-08-17 22:28:36,027]\u001b[0m Trial 33 finished with value: 0.6566611676809464 and parameters: {'n_estimators': 922, 'max_depth': 6, 'num_leaves': 25, 'min_child_samples': 2, 'num_iterations': 858}. Best is trial 32 with value: 0.6615934552120268.\u001b[0m\n",
      "\u001b[32m[I 2023-08-17 22:28:38,454]\u001b[0m Trial 34 finished with value: 0.6460493723034608 and parameters: {'n_estimators': 920, 'max_depth': 6, 'num_leaves': 26, 'min_child_samples': 2, 'num_iterations': 848}. Best is trial 32 with value: 0.6615934552120268.\u001b[0m\n",
      "\u001b[32m[I 2023-08-17 22:28:39,235]\u001b[0m Trial 35 finished with value: 0.6276165102262435 and parameters: {'n_estimators': 817, 'max_depth': 3, 'num_leaves': 18, 'min_child_samples': 2, 'num_iterations': 806}. Best is trial 32 with value: 0.6615934552120268.\u001b[0m\n",
      "\u001b[32m[I 2023-08-17 22:28:40,767]\u001b[0m Trial 36 finished with value: 0.6321195101329632 and parameters: {'n_estimators': 942, 'max_depth': 7, 'num_leaves': 8, 'min_child_samples': 1, 'num_iterations': 954}. Best is trial 32 with value: 0.6615934552120268.\u001b[0m\n",
      "\u001b[32m[I 2023-08-17 22:28:43,176]\u001b[0m Trial 37 finished with value: 0.6451631294711364 and parameters: {'n_estimators': 897, 'max_depth': 8, 'num_leaves': 20, 'min_child_samples': 2, 'num_iterations': 859}. Best is trial 32 with value: 0.6615934552120268.\u001b[0m\n",
      "\u001b[32m[I 2023-08-17 22:28:44,863]\u001b[0m Trial 38 finished with value: 0.6483133378897621 and parameters: {'n_estimators': 875, 'max_depth': 5, 'num_leaves': 14, 'min_child_samples': 3, 'num_iterations': 923}. Best is trial 32 with value: 0.6615934552120268.\u001b[0m\n",
      "\u001b[32m[I 2023-08-17 22:28:46,749]\u001b[0m Trial 39 finished with value: 0.6480128984778242 and parameters: {'n_estimators': 965, 'max_depth': 11, 'num_leaves': 17, 'min_child_samples': 2, 'num_iterations': 807}. Best is trial 32 with value: 0.6615934552120268.\u001b[0m\n",
      "\u001b[32m[I 2023-08-17 22:28:48,976]\u001b[0m Trial 40 finished with value: 0.6471130260044344 and parameters: {'n_estimators': 906, 'max_depth': 29, 'num_leaves': 24, 'min_child_samples': 3, 'num_iterations': 708}. Best is trial 32 with value: 0.6615934552120268.\u001b[0m\n",
      "\u001b[32m[I 2023-08-17 22:28:52,041]\u001b[0m Trial 41 finished with value: 0.6465362782627574 and parameters: {'n_estimators': 971, 'max_depth': 6, 'num_leaves': 23, 'min_child_samples': 1, 'num_iterations': 908}. Best is trial 32 with value: 0.6615934552120268.\u001b[0m\n",
      "\u001b[32m[I 2023-08-17 22:28:55,854]\u001b[0m Trial 42 finished with value: 0.6491361350214264 and parameters: {'n_estimators': 944, 'max_depth': 11, 'num_leaves': 26, 'min_child_samples': 4, 'num_iterations': 938}. Best is trial 32 with value: 0.6615934552120268.\u001b[0m\n",
      "\u001b[32m[I 2023-08-17 22:28:57,526]\u001b[0m Trial 43 finished with value: 0.6410760449802826 and parameters: {'n_estimators': 928, 'max_depth': 4, 'num_leaves': 19, 'min_child_samples': 3, 'num_iterations': 971}. Best is trial 32 with value: 0.6615934552120268.\u001b[0m\n",
      "\u001b[32m[I 2023-08-17 22:28:58,059]\u001b[0m Trial 44 finished with value: 0.5435915442468787 and parameters: {'n_estimators': 867, 'max_depth': 1, 'num_leaves': 21, 'min_child_samples': 4, 'num_iterations': 824}. Best is trial 32 with value: 0.6615934552120268.\u001b[0m\n",
      "\u001b[32m[I 2023-08-17 22:29:03,220]\u001b[0m Trial 45 finished with value: 0.646367119144666 and parameters: {'n_estimators': 805, 'max_depth': 8, 'num_leaves': 30, 'min_child_samples': 2, 'num_iterations': 900}. Best is trial 32 with value: 0.6615934552120268.\u001b[0m\n",
      "\u001b[32m[I 2023-08-17 22:29:04,957]\u001b[0m Trial 46 finished with value: 0.6491638839780866 and parameters: {'n_estimators': 978, 'max_depth': 4, 'num_leaves': 24, 'min_child_samples': 1, 'num_iterations': 781}. Best is trial 32 with value: 0.6615934552120268.\u001b[0m\n",
      "\u001b[32m[I 2023-08-17 22:29:09,198]\u001b[0m Trial 47 finished with value: 0.653395452856202 and parameters: {'n_estimators': 845, 'max_depth': 24, 'num_leaves': 25, 'min_child_samples': 2, 'num_iterations': 926}. Best is trial 32 with value: 0.6615934552120268.\u001b[0m\n",
      "\u001b[32m[I 2023-08-17 22:29:13,901]\u001b[0m Trial 48 finished with value: 0.6520652997410062 and parameters: {'n_estimators': 831, 'max_depth': 26, 'num_leaves': 29, 'min_child_samples': 2, 'num_iterations': 926}. Best is trial 32 with value: 0.6615934552120268.\u001b[0m\n",
      "\u001b[32m[I 2023-08-17 22:29:17,253]\u001b[0m Trial 49 finished with value: 0.6499491076456493 and parameters: {'n_estimators': 783, 'max_depth': 24, 'num_leaves': 26, 'min_child_samples': 2, 'num_iterations': 862}. Best is trial 32 with value: 0.6615934552120268.\u001b[0m\n",
      "\u001b[32m[I 2023-08-17 22:29:20,830]\u001b[0m Trial 50 finished with value: 0.6593413448287222 and parameters: {'n_estimators': 765, 'max_depth': 28, 'num_leaves': 32, 'min_child_samples': 3, 'num_iterations': 835}. Best is trial 32 with value: 0.6615934552120268.\u001b[0m\n",
      "\u001b[32m[I 2023-08-17 22:29:24,644]\u001b[0m Trial 51 finished with value: 0.6593396311865578 and parameters: {'n_estimators': 762, 'max_depth': 28, 'num_leaves': 32, 'min_child_samples': 3, 'num_iterations': 837}. Best is trial 32 with value: 0.6615934552120268.\u001b[0m\n",
      "\u001b[32m[I 2023-08-17 22:29:29,403]\u001b[0m Trial 52 finished with value: 0.6593139703345612 and parameters: {'n_estimators': 760, 'max_depth': 30, 'num_leaves': 32, 'min_child_samples': 3, 'num_iterations': 885}. Best is trial 32 with value: 0.6615934552120268.\u001b[0m\n"
     ]
    },
    {
     "name": "stdout",
     "output_type": "stream",
     "text": [
      "[LightGBM] [Warning] Accuracy may be bad since you didn't explicitly set num_leaves OR 2^max_depth > num_leaves. (num_leaves=31).\n",
      "[LightGBM] [Warning] Accuracy may be bad since you didn't explicitly set num_leaves OR 2^max_depth > num_leaves. (num_leaves=31).\n",
      "[LightGBM] [Warning] Accuracy may be bad since you didn't explicitly set num_leaves OR 2^max_depth > num_leaves. (num_leaves=31).\n",
      "[LightGBM] [Warning] Accuracy may be bad since you didn't explicitly set num_leaves OR 2^max_depth > num_leaves. (num_leaves=31).\n",
      "[LightGBM] [Warning] Accuracy may be bad since you didn't explicitly set num_leaves OR 2^max_depth > num_leaves. (num_leaves=31).\n"
     ]
    },
    {
     "name": "stderr",
     "output_type": "stream",
     "text": [
      "\u001b[32m[I 2023-08-17 22:29:33,021]\u001b[0m Trial 53 finished with value: 0.655492037103816 and parameters: {'n_estimators': 753, 'max_depth': 30, 'num_leaves': 31, 'min_child_samples': 3, 'num_iterations': 828}. Best is trial 32 with value: 0.6615934552120268.\u001b[0m\n",
      "\u001b[32m[I 2023-08-17 22:29:36,347]\u001b[0m Trial 54 finished with value: 0.6593657403021688 and parameters: {'n_estimators': 761, 'max_depth': 30, 'num_leaves': 32, 'min_child_samples': 3, 'num_iterations': 762}. Best is trial 32 with value: 0.6615934552120268.\u001b[0m\n",
      "\u001b[32m[I 2023-08-17 22:29:40,163]\u001b[0m Trial 55 finished with value: 0.659359684169155 and parameters: {'n_estimators': 698, 'max_depth': 28, 'num_leaves': 32, 'min_child_samples': 3, 'num_iterations': 745}. Best is trial 32 with value: 0.6615934552120268.\u001b[0m\n",
      "\u001b[32m[I 2023-08-17 22:29:43,591]\u001b[0m Trial 56 finished with value: 0.6516533287607029 and parameters: {'n_estimators': 765, 'max_depth': 28, 'num_leaves': 32, 'min_child_samples': 4, 'num_iterations': 732}. Best is trial 32 with value: 0.6615934552120268.\u001b[0m\n"
     ]
    },
    {
     "name": "stdout",
     "output_type": "stream",
     "text": [
      "[LightGBM] [Warning] Accuracy may be bad since you didn't explicitly set num_leaves OR 2^max_depth > num_leaves. (num_leaves=31).\n",
      "[LightGBM] [Warning] Accuracy may be bad since you didn't explicitly set num_leaves OR 2^max_depth > num_leaves. (num_leaves=31).\n",
      "[LightGBM] [Warning] Accuracy may be bad since you didn't explicitly set num_leaves OR 2^max_depth > num_leaves. (num_leaves=31).\n",
      "[LightGBM] [Warning] Accuracy may be bad since you didn't explicitly set num_leaves OR 2^max_depth > num_leaves. (num_leaves=31).\n",
      "[LightGBM] [Warning] Accuracy may be bad since you didn't explicitly set num_leaves OR 2^max_depth > num_leaves. (num_leaves=31).\n"
     ]
    },
    {
     "name": "stderr",
     "output_type": "stream",
     "text": [
      "\u001b[32m[I 2023-08-17 22:29:46,719]\u001b[0m Trial 57 finished with value: 0.6555630181498046 and parameters: {'n_estimators': 641, 'max_depth': 28, 'num_leaves': 31, 'min_child_samples': 3, 'num_iterations': 726}. Best is trial 32 with value: 0.6615934552120268.\u001b[0m\n",
      "\u001b[32m[I 2023-08-17 22:29:49,468]\u001b[0m Trial 58 finished with value: 0.6524628493938244 and parameters: {'n_estimators': 692, 'max_depth': 27, 'num_leaves': 32, 'min_child_samples': 5, 'num_iterations': 642}. Best is trial 32 with value: 0.6615934552120268.\u001b[0m\n",
      "\u001b[32m[I 2023-08-17 22:29:52,751]\u001b[0m Trial 59 finished with value: 0.6444950004334817 and parameters: {'n_estimators': 720, 'max_depth': 30, 'num_leaves': 29, 'min_child_samples': 3, 'num_iterations': 766}. Best is trial 32 with value: 0.6615934552120268.\u001b[0m\n",
      "\u001b[32m[I 2023-08-17 22:29:56,495]\u001b[0m Trial 60 finished with value: 0.6599426992881108 and parameters: {'n_estimators': 735, 'max_depth': 25, 'num_leaves': 30, 'min_child_samples': 4, 'num_iterations': 665}. Best is trial 32 with value: 0.6615934552120268.\u001b[0m\n",
      "\u001b[32m[I 2023-08-17 22:29:58,995]\u001b[0m Trial 61 finished with value: 0.6600611067181992 and parameters: {'n_estimators': 698, 'max_depth': 26, 'num_leaves': 30, 'min_child_samples': 4, 'num_iterations': 624}. Best is trial 32 with value: 0.6615934552120268.\u001b[0m\n",
      "\u001b[32m[I 2023-08-17 22:30:02,385]\u001b[0m Trial 62 finished with value: 0.6599434521037111 and parameters: {'n_estimators': 737, 'max_depth': 26, 'num_leaves': 30, 'min_child_samples': 4, 'num_iterations': 661}. Best is trial 32 with value: 0.6615934552120268.\u001b[0m\n",
      "\u001b[32m[I 2023-08-17 22:30:05,536]\u001b[0m Trial 63 finished with value: 0.6599707115342541 and parameters: {'n_estimators': 731, 'max_depth': 26, 'num_leaves': 30, 'min_child_samples': 4, 'num_iterations': 647}. Best is trial 32 with value: 0.6615934552120268.\u001b[0m\n",
      "\u001b[32m[I 2023-08-17 22:30:08,816]\u001b[0m Trial 64 finished with value: 0.6435983645064418 and parameters: {'n_estimators': 701, 'max_depth': 25, 'num_leaves': 30, 'min_child_samples': 5, 'num_iterations': 637}. Best is trial 32 with value: 0.6615934552120268.\u001b[0m\n",
      "\u001b[32m[I 2023-08-17 22:30:11,483]\u001b[0m Trial 65 finished with value: 0.6624183240383661 and parameters: {'n_estimators': 734, 'max_depth': 22, 'num_leaves': 29, 'min_child_samples': 4, 'num_iterations': 663}. Best is trial 65 with value: 0.6624183240383661.\u001b[0m\n",
      "\u001b[32m[I 2023-08-17 22:30:14,228]\u001b[0m Trial 66 finished with value: 0.6514942926205023 and parameters: {'n_estimators': 728, 'max_depth': 22, 'num_leaves': 28, 'min_child_samples': 4, 'num_iterations': 660}. Best is trial 65 with value: 0.6624183240383661.\u001b[0m\n",
      "\u001b[32m[I 2023-08-17 22:30:16,561]\u001b[0m Trial 67 finished with value: 0.6625524796588808 and parameters: {'n_estimators': 624, 'max_depth': 23, 'num_leaves': 29, 'min_child_samples': 4, 'num_iterations': 589}. Best is trial 67 with value: 0.6625524796588808.\u001b[0m\n",
      "\u001b[32m[I 2023-08-17 22:30:18,900]\u001b[0m Trial 68 finished with value: 0.6489427932509936 and parameters: {'n_estimators': 609, 'max_depth': 20, 'num_leaves': 29, 'min_child_samples': 6, 'num_iterations': 581}. Best is trial 67 with value: 0.6625524796588808.\u001b[0m\n",
      "\u001b[32m[I 2023-08-17 22:30:21,137]\u001b[0m Trial 69 finished with value: 0.6416523646738439 and parameters: {'n_estimators': 634, 'max_depth': 23, 'num_leaves': 27, 'min_child_samples': 5, 'num_iterations': 594}. Best is trial 67 with value: 0.6625524796588808.\u001b[0m\n",
      "\u001b[32m[I 2023-08-17 22:30:24,079]\u001b[0m Trial 70 finished with value: 0.6602874857948784 and parameters: {'n_estimators': 676, 'max_depth': 25, 'num_leaves': 30, 'min_child_samples': 4, 'num_iterations': 558}. Best is trial 67 with value: 0.6625524796588808.\u001b[0m\n",
      "\u001b[32m[I 2023-08-17 22:30:26,821]\u001b[0m Trial 71 finished with value: 0.6602921068380816 and parameters: {'n_estimators': 674, 'max_depth': 25, 'num_leaves': 30, 'min_child_samples': 4, 'num_iterations': 555}. Best is trial 67 with value: 0.6625524796588808.\u001b[0m\n",
      "\u001b[32m[I 2023-08-17 22:30:28,832]\u001b[0m Trial 72 finished with value: 0.6508067355559408 and parameters: {'n_estimators': 669, 'max_depth': 25, 'num_leaves': 27, 'min_child_samples': 4, 'num_iterations': 545}. Best is trial 67 with value: 0.6625524796588808.\u001b[0m\n",
      "\u001b[32m[I 2023-08-17 22:30:30,991]\u001b[0m Trial 73 finished with value: 0.6516514252210451 and parameters: {'n_estimators': 647, 'max_depth': 21, 'num_leaves': 28, 'min_child_samples': 4, 'num_iterations': 558}. Best is trial 67 with value: 0.6625524796588808.\u001b[0m\n",
      "\u001b[32m[I 2023-08-17 22:30:33,448]\u001b[0m Trial 74 finished with value: 0.6436200690234134 and parameters: {'n_estimators': 584, 'max_depth': 23, 'num_leaves': 30, 'min_child_samples': 5, 'num_iterations': 617}. Best is trial 67 with value: 0.6625524796588808.\u001b[0m\n",
      "\u001b[32m[I 2023-08-17 22:30:35,613]\u001b[0m Trial 75 finished with value: 0.6510386672054038 and parameters: {'n_estimators': 679, 'max_depth': 27, 'num_leaves': 29, 'min_child_samples': 5, 'num_iterations': 525}. Best is trial 67 with value: 0.6625524796588808.\u001b[0m\n"
     ]
    },
    {
     "name": "stdout",
     "output_type": "stream",
     "text": [
      "[LightGBM] [Warning] Accuracy may be bad since you didn't explicitly set num_leaves OR 2^max_depth > num_leaves. (num_leaves=31).\n",
      "[LightGBM] [Warning] Accuracy may be bad since you didn't explicitly set num_leaves OR 2^max_depth > num_leaves. (num_leaves=31).\n",
      "[LightGBM] [Warning] Accuracy may be bad since you didn't explicitly set num_leaves OR 2^max_depth > num_leaves. (num_leaves=31).\n",
      "[LightGBM] [Warning] Accuracy may be bad since you didn't explicitly set num_leaves OR 2^max_depth > num_leaves. (num_leaves=31).\n",
      "[LightGBM] [Warning] Accuracy may be bad since you didn't explicitly set num_leaves OR 2^max_depth > num_leaves. (num_leaves=31).\n"
     ]
    },
    {
     "name": "stderr",
     "output_type": "stream",
     "text": [
      "\u001b[32m[I 2023-08-17 22:30:38,228]\u001b[0m Trial 76 finished with value: 0.6520761872333132 and parameters: {'n_estimators': 623, 'max_depth': 23, 'num_leaves': 31, 'min_child_samples': 6, 'num_iterations': 616}. Best is trial 67 with value: 0.6625524796588808.\u001b[0m\n",
      "\u001b[32m[I 2023-08-17 22:30:40,186]\u001b[0m Trial 77 finished with value: 0.6519452349742796 and parameters: {'n_estimators': 710, 'max_depth': 26, 'num_leaves': 28, 'min_child_samples': 4, 'num_iterations': 505}. Best is trial 67 with value: 0.6625524796588808.\u001b[0m\n"
     ]
    },
    {
     "name": "stdout",
     "output_type": "stream",
     "text": [
      "[LightGBM] [Warning] Accuracy may be bad since you didn't explicitly set num_leaves OR 2^max_depth > num_leaves. (num_leaves=31).\n",
      "[LightGBM] [Warning] Accuracy may be bad since you didn't explicitly set num_leaves OR 2^max_depth > num_leaves. (num_leaves=31).\n",
      "[LightGBM] [Warning] Accuracy may be bad since you didn't explicitly set num_leaves OR 2^max_depth > num_leaves. (num_leaves=31).\n",
      "[LightGBM] [Warning] Accuracy may be bad since you didn't explicitly set num_leaves OR 2^max_depth > num_leaves. (num_leaves=31).\n",
      "[LightGBM] [Warning] Accuracy may be bad since you didn't explicitly set num_leaves OR 2^max_depth > num_leaves. (num_leaves=31).\n"
     ]
    },
    {
     "name": "stderr",
     "output_type": "stream",
     "text": [
      "\u001b[32m[I 2023-08-17 22:30:42,609]\u001b[0m Trial 78 finished with value: 0.6519296513736056 and parameters: {'n_estimators': 654, 'max_depth': 21, 'num_leaves': 31, 'min_child_samples': 4, 'num_iterations': 565}. Best is trial 67 with value: 0.6625524796588808.\u001b[0m\n",
      "\u001b[32m[I 2023-08-17 22:30:43,580]\u001b[0m Trial 79 finished with value: 0.6498864653734374 and parameters: {'n_estimators': 686, 'max_depth': 26, 'num_leaves': 10, 'min_child_samples': 5, 'num_iterations': 601}. Best is trial 67 with value: 0.6625524796588808.\u001b[0m\n",
      "\u001b[32m[I 2023-08-17 22:30:46,099]\u001b[0m Trial 80 finished with value: 0.6503854868670078 and parameters: {'n_estimators': 744, 'max_depth': 24, 'num_leaves': 27, 'min_child_samples': 4, 'num_iterations': 668}. Best is trial 67 with value: 0.6625524796588808.\u001b[0m\n",
      "\u001b[32m[I 2023-08-17 22:30:48,902]\u001b[0m Trial 81 finished with value: 0.659943446609972 and parameters: {'n_estimators': 731, 'max_depth': 22, 'num_leaves': 30, 'min_child_samples': 4, 'num_iterations': 663}. Best is trial 67 with value: 0.6625524796588808.\u001b[0m\n",
      "\u001b[32m[I 2023-08-17 22:30:51,627]\u001b[0m Trial 82 finished with value: 0.6623966234085074 and parameters: {'n_estimators': 710, 'max_depth': 22, 'num_leaves': 29, 'min_child_samples': 4, 'num_iterations': 683}. Best is trial 67 with value: 0.6625524796588808.\u001b[0m\n",
      "\u001b[32m[I 2023-08-17 22:30:54,735]\u001b[0m Trial 83 finished with value: 0.6480272845430675 and parameters: {'n_estimators': 709, 'max_depth': 19, 'num_leaves': 29, 'min_child_samples': 5, 'num_iterations': 682}. Best is trial 67 with value: 0.6625524796588808.\u001b[0m\n",
      "\u001b[32m[I 2023-08-17 22:30:57,572]\u001b[0m Trial 84 finished with value: 0.6649129906787159 and parameters: {'n_estimators': 669, 'max_depth': 17, 'num_leaves': 29, 'min_child_samples': 4, 'num_iterations': 582}. Best is trial 84 with value: 0.6649129906787159.\u001b[0m\n",
      "\u001b[32m[I 2023-08-17 22:30:58,139]\u001b[0m Trial 85 finished with value: 0.6442155831834996 and parameters: {'n_estimators': 664, 'max_depth': 16, 'num_leaves': 5, 'min_child_samples': 4, 'num_iterations': 580}. Best is trial 84 with value: 0.6649129906787159.\u001b[0m\n",
      "\u001b[32m[I 2023-08-17 22:31:00,413]\u001b[0m Trial 86 finished with value: 0.6426317010549961 and parameters: {'n_estimators': 626, 'max_depth': 17, 'num_leaves': 27, 'min_child_samples': 5, 'num_iterations': 625}. Best is trial 84 with value: 0.6649129906787159.\u001b[0m\n",
      "\u001b[32m[I 2023-08-17 22:31:02,355]\u001b[0m Trial 87 finished with value: 0.645814686320876 and parameters: {'n_estimators': 669, 'max_depth': 27, 'num_leaves': 26, 'min_child_samples': 6, 'num_iterations': 539}. Best is trial 84 with value: 0.6649129906787159.\u001b[0m\n",
      "\u001b[32m[I 2023-08-17 22:31:04,915]\u001b[0m Trial 88 finished with value: 0.6515320663362398 and parameters: {'n_estimators': 683, 'max_depth': 20, 'num_leaves': 28, 'min_child_samples': 4, 'num_iterations': 645}. Best is trial 84 with value: 0.6649129906787159.\u001b[0m\n"
     ]
    },
    {
     "name": "stdout",
     "output_type": "stream",
     "text": [
      "[LightGBM] [Warning] Accuracy may be bad since you didn't explicitly set num_leaves OR 2^max_depth > num_leaves. (num_leaves=31).\n",
      "[LightGBM] [Warning] Accuracy may be bad since you didn't explicitly set num_leaves OR 2^max_depth > num_leaves. (num_leaves=31).\n",
      "[LightGBM] [Warning] Accuracy may be bad since you didn't explicitly set num_leaves OR 2^max_depth > num_leaves. (num_leaves=31).\n",
      "[LightGBM] [Warning] Accuracy may be bad since you didn't explicitly set num_leaves OR 2^max_depth > num_leaves. (num_leaves=31).\n",
      "[LightGBM] [Warning] Accuracy may be bad since you didn't explicitly set num_leaves OR 2^max_depth > num_leaves. (num_leaves=31).\n"
     ]
    },
    {
     "name": "stderr",
     "output_type": "stream",
     "text": [
      "\u001b[32m[I 2023-08-17 22:31:07,849]\u001b[0m Trial 89 finished with value: 0.6508760003232951 and parameters: {'n_estimators': 590, 'max_depth': 23, 'num_leaves': 31, 'min_child_samples': 5, 'num_iterations': 571}. Best is trial 84 with value: 0.6649129906787159.\u001b[0m\n",
      "\u001b[32m[I 2023-08-17 22:31:10,896]\u001b[0m Trial 90 finished with value: 0.662469978609374 and parameters: {'n_estimators': 564, 'max_depth': 25, 'num_leaves': 29, 'min_child_samples': 4, 'num_iterations': 628}. Best is trial 84 with value: 0.6649129906787159.\u001b[0m\n",
      "\u001b[32m[I 2023-08-17 22:31:13,665]\u001b[0m Trial 91 finished with value: 0.6624687201699613 and parameters: {'n_estimators': 538, 'max_depth': 25, 'num_leaves': 29, 'min_child_samples': 4, 'num_iterations': 626}. Best is trial 84 with value: 0.6649129906787159.\u001b[0m\n",
      "\u001b[32m[I 2023-08-17 22:31:16,160]\u001b[0m Trial 92 finished with value: 0.662469978609374 and parameters: {'n_estimators': 538, 'max_depth': 25, 'num_leaves': 29, 'min_child_samples': 4, 'num_iterations': 628}. Best is trial 84 with value: 0.6649129906787159.\u001b[0m\n",
      "\u001b[32m[I 2023-08-17 22:31:18,617]\u001b[0m Trial 93 finished with value: 0.6446418124925066 and parameters: {'n_estimators': 536, 'max_depth': 25, 'num_leaves': 29, 'min_child_samples': 3, 'num_iterations': 603}. Best is trial 84 with value: 0.6649129906787159.\u001b[0m\n",
      "\u001b[32m[I 2023-08-17 22:31:21,272]\u001b[0m Trial 94 finished with value: 0.6514392193644776 and parameters: {'n_estimators': 524, 'max_depth': 21, 'num_leaves': 28, 'min_child_samples': 4, 'num_iterations': 683}. Best is trial 84 with value: 0.6649129906787159.\u001b[0m\n",
      "\u001b[32m[I 2023-08-17 22:31:23,487]\u001b[0m Trial 95 finished with value: 0.6543145471428644 and parameters: {'n_estimators': 543, 'max_depth': 24, 'num_leaves': 25, 'min_child_samples': 4, 'num_iterations': 582}. Best is trial 84 with value: 0.6649129906787159.\u001b[0m\n",
      "\u001b[32m[I 2023-08-17 22:31:25,957]\u001b[0m Trial 96 finished with value: 0.6419331379813563 and parameters: {'n_estimators': 500, 'max_depth': 22, 'num_leaves': 27, 'min_child_samples': 5, 'num_iterations': 553}. Best is trial 84 with value: 0.6649129906787159.\u001b[0m\n",
      "\u001b[32m[I 2023-08-17 22:31:28,890]\u001b[0m Trial 97 finished with value: 0.6445314507369486 and parameters: {'n_estimators': 552, 'max_depth': 25, 'num_leaves': 29, 'min_child_samples': 3, 'num_iterations': 705}. Best is trial 84 with value: 0.6649129906787159.\u001b[0m\n",
      "\u001b[32m[I 2023-08-17 22:31:31,173]\u001b[0m Trial 98 finished with value: 0.6525205142273895 and parameters: {'n_estimators': 563, 'max_depth': 18, 'num_leaves': 26, 'min_child_samples': 4, 'num_iterations': 627}. Best is trial 84 with value: 0.6649129906787159.\u001b[0m\n"
     ]
    },
    {
     "name": "stdout",
     "output_type": "stream",
     "text": [
      "[LightGBM] [Warning] Accuracy may be bad since you didn't explicitly set num_leaves OR 2^max_depth > num_leaves. (num_leaves=31).\n",
      "[LightGBM] [Warning] Accuracy may be bad since you didn't explicitly set num_leaves OR 2^max_depth > num_leaves. (num_leaves=31).\n",
      "[LightGBM] [Warning] Accuracy may be bad since you didn't explicitly set num_leaves OR 2^max_depth > num_leaves. (num_leaves=31).\n",
      "[LightGBM] [Warning] Accuracy may be bad since you didn't explicitly set num_leaves OR 2^max_depth > num_leaves. (num_leaves=31).\n",
      "[LightGBM] [Warning] Accuracy may be bad since you didn't explicitly set num_leaves OR 2^max_depth > num_leaves. (num_leaves=31).\n"
     ]
    },
    {
     "name": "stderr",
     "output_type": "stream",
     "text": [
      "\u001b[32m[I 2023-08-17 22:31:34,046]\u001b[0m Trial 99 finished with value: 0.6601813759246732 and parameters: {'n_estimators': 527, 'max_depth': 14, 'num_leaves': 31, 'min_child_samples': 3, 'num_iterations': 606}. Best is trial 84 with value: 0.6649129906787159.\u001b[0m\n"
     ]
    },
    {
     "name": "stdout",
     "output_type": "stream",
     "text": [
      "Best r2:  0.6649129906787159\n",
      "Best trial: {'n_estimators': 669, 'max_depth': 17, 'num_leaves': 29, 'min_child_samples': 4, 'num_iterations': 582}\n"
     ]
    }
   ],
   "source": [
    "sampler = TPESampler()\n",
    "study = optuna.create_study(\n",
    "    study_name=\"lgbm_parameter_opt\",\n",
    "    direction=\"maximize\",\n",
    "    sampler=sampler,\n",
    ")\n",
    "\n",
    "study.optimize(lambda trial : objectiveLGBM(trial, Cd_X_train, Cd_y_train), n_trials=100)\n",
    "print(\"Best r2: \", study.best_value)\n",
    "print(\"Best trial:\", study.best_trial.params)"
   ]
  },
  {
   "cell_type": "code",
   "execution_count": 194,
   "id": "861f88d8",
   "metadata": {},
   "outputs": [
    {
     "data": {
      "application/vnd.plotly.v1+json": {
       "config": {
        "plotlyServerURL": "https://plot.ly"
       },
       "data": [
        {
         "dimensions": [
          {
           "label": "Objective Value",
           "range": [
            0.5435915442468787,
            0.6649129906787159
           ],
           "values": [
            0.647347673831687,
            0.6509718767870722,
            0.6422511425081117,
            0.6527053016728892,
            0.6521549783655258,
            0.647095998678351,
            0.6410891893438537,
            0.6423119264429439,
            0.6508455619246287,
            0.6493746807036358,
            0.6356581831347794,
            0.6446209913046319,
            0.6509292965103196,
            0.6434394984462726,
            0.6492365384748153,
            0.6474091542390734,
            0.648184125694806,
            0.5478191193765809,
            0.6457037758250733,
            0.6509059475056002,
            0.6496980889329075,
            0.6509751950238705,
            0.6480992158281212,
            0.6429547819127934,
            0.6481241191100058,
            0.6443803071990181,
            0.5450770588087045,
            0.6502988291227678,
            0.6487873057388185,
            0.6395850409175592,
            0.653155231377182,
            0.6160032364596644,
            0.6615934552120268,
            0.6566611676809464,
            0.6460493723034608,
            0.6276165102262435,
            0.6321195101329632,
            0.6451631294711364,
            0.6483133378897621,
            0.6480128984778242,
            0.6471130260044344,
            0.6465362782627574,
            0.6491361350214264,
            0.6410760449802826,
            0.5435915442468787,
            0.646367119144666,
            0.6491638839780866,
            0.653395452856202,
            0.6520652997410062,
            0.6499491076456493,
            0.6593413448287222,
            0.6593396311865578,
            0.6593139703345612,
            0.655492037103816,
            0.6593657403021688,
            0.659359684169155,
            0.6516533287607029,
            0.6555630181498046,
            0.6524628493938244,
            0.6444950004334817,
            0.6599426992881108,
            0.6600611067181992,
            0.6599434521037111,
            0.6599707115342541,
            0.6435983645064418,
            0.6624183240383661,
            0.6514942926205023,
            0.6625524796588808,
            0.6489427932509936,
            0.6416523646738439,
            0.6602874857948784,
            0.6602921068380816,
            0.6508067355559408,
            0.6516514252210451,
            0.6436200690234134,
            0.6510386672054038,
            0.6520761872333132,
            0.6519452349742796,
            0.6519296513736056,
            0.6498864653734374,
            0.6503854868670078,
            0.659943446609972,
            0.6623966234085074,
            0.6480272845430675,
            0.6649129906787159,
            0.6442155831834996,
            0.6426317010549961,
            0.645814686320876,
            0.6515320663362398,
            0.6508760003232951,
            0.662469978609374,
            0.6624687201699613,
            0.662469978609374,
            0.6446418124925066,
            0.6514392193644776,
            0.6543145471428644,
            0.6419331379813563,
            0.6445314507369486,
            0.6525205142273895,
            0.6601813759246732
           ]
          },
          {
           "label": "max_depth",
           "range": [
            1,
            30
           ],
           "values": [
            26,
            12,
            17,
            27,
            13,
            30,
            12,
            22,
            22,
            28,
            5,
            4,
            16,
            10,
            21,
            9,
            19,
            1,
            26,
            13,
            7,
            13,
            15,
            19,
            15,
            24,
            9,
            18,
            14,
            10,
            6,
            2,
            7,
            6,
            6,
            3,
            7,
            8,
            5,
            11,
            29,
            6,
            11,
            4,
            1,
            8,
            4,
            24,
            26,
            24,
            28,
            28,
            30,
            30,
            30,
            28,
            28,
            28,
            27,
            30,
            25,
            26,
            26,
            26,
            25,
            22,
            22,
            23,
            20,
            23,
            25,
            25,
            25,
            21,
            23,
            27,
            23,
            26,
            21,
            26,
            24,
            22,
            22,
            19,
            17,
            16,
            17,
            27,
            20,
            23,
            25,
            25,
            25,
            25,
            21,
            24,
            22,
            25,
            18,
            14
           ]
          },
          {
           "label": "min_child_samples",
           "range": [
            1,
            10
           ],
           "values": [
            1,
            7,
            3,
            10,
            4,
            6,
            4,
            7,
            8,
            8,
            10,
            4,
            10,
            2,
            5,
            5,
            9,
            3,
            6,
            1,
            4,
            7,
            9,
            7,
            9,
            8,
            6,
            3,
            5,
            10,
            2,
            1,
            2,
            2,
            2,
            2,
            1,
            2,
            3,
            2,
            3,
            1,
            4,
            3,
            4,
            2,
            1,
            2,
            2,
            2,
            3,
            3,
            3,
            3,
            3,
            3,
            4,
            3,
            5,
            3,
            4,
            4,
            4,
            4,
            5,
            4,
            4,
            4,
            6,
            5,
            4,
            4,
            4,
            4,
            5,
            5,
            6,
            4,
            4,
            5,
            4,
            4,
            4,
            5,
            4,
            4,
            5,
            6,
            4,
            5,
            4,
            4,
            4,
            3,
            4,
            4,
            5,
            3,
            4,
            3
           ]
          },
          {
           "label": "n_estimators",
           "range": [
            500,
            999
           ],
           "values": [
            896,
            638,
            659,
            808,
            965,
            571,
            599,
            611,
            694,
            789,
            792,
            936,
            988,
            859,
            999,
            506,
            840,
            722,
            915,
            779,
            846,
            664,
            716,
            753,
            960,
            677,
            890,
            550,
            823,
            738,
            877,
            876,
            921,
            922,
            920,
            817,
            942,
            897,
            875,
            965,
            906,
            971,
            944,
            928,
            867,
            805,
            978,
            845,
            831,
            783,
            765,
            762,
            760,
            753,
            761,
            698,
            765,
            641,
            692,
            720,
            735,
            698,
            737,
            731,
            701,
            734,
            728,
            624,
            609,
            634,
            676,
            674,
            669,
            647,
            584,
            679,
            623,
            710,
            654,
            686,
            744,
            731,
            710,
            709,
            669,
            664,
            626,
            669,
            683,
            590,
            564,
            538,
            538,
            536,
            524,
            543,
            500,
            552,
            563,
            527
           ]
          },
          {
           "label": "num_iterations",
           "range": [
            505,
            997
           ],
           "values": [
            636,
            997,
            927,
            819,
            911,
            816,
            611,
            923,
            591,
            911,
            742,
            817,
            745,
            836,
            686,
            873,
            522,
            980,
            769,
            870,
            785,
            994,
            958,
            881,
            940,
            997,
            889,
            846,
            699,
            956,
            907,
            900,
            961,
            858,
            848,
            806,
            954,
            859,
            923,
            807,
            708,
            908,
            938,
            971,
            824,
            900,
            781,
            926,
            926,
            862,
            835,
            837,
            885,
            828,
            762,
            745,
            732,
            726,
            642,
            766,
            665,
            624,
            661,
            647,
            637,
            663,
            660,
            589,
            581,
            594,
            558,
            555,
            545,
            558,
            617,
            525,
            616,
            505,
            565,
            601,
            668,
            663,
            683,
            682,
            582,
            580,
            625,
            539,
            645,
            571,
            628,
            626,
            628,
            603,
            683,
            582,
            553,
            705,
            627,
            606
           ]
          },
          {
           "label": "num_leaves",
           "range": [
            2,
            32
           ],
           "values": [
            20,
            18,
            11,
            19,
            23,
            7,
            6,
            16,
            20,
            25,
            28,
            30,
            24,
            15,
            24,
            32,
            11,
            22,
            13,
            27,
            19,
            18,
            22,
            15,
            22,
            17,
            2,
            28,
            12,
            20,
            21,
            21,
            18,
            25,
            26,
            18,
            8,
            20,
            14,
            17,
            24,
            23,
            26,
            19,
            21,
            30,
            24,
            25,
            29,
            26,
            32,
            32,
            32,
            31,
            32,
            32,
            32,
            31,
            32,
            29,
            30,
            30,
            30,
            30,
            30,
            29,
            28,
            29,
            29,
            27,
            30,
            30,
            27,
            28,
            30,
            29,
            31,
            28,
            31,
            10,
            27,
            30,
            29,
            29,
            29,
            5,
            27,
            26,
            28,
            31,
            29,
            29,
            29,
            29,
            28,
            25,
            27,
            29,
            26,
            31
           ]
          }
         ],
         "labelangle": 30,
         "labelside": "bottom",
         "line": {
          "color": [
           0.647347673831687,
           0.6509718767870722,
           0.6422511425081117,
           0.6527053016728892,
           0.6521549783655258,
           0.647095998678351,
           0.6410891893438537,
           0.6423119264429439,
           0.6508455619246287,
           0.6493746807036358,
           0.6356581831347794,
           0.6446209913046319,
           0.6509292965103196,
           0.6434394984462726,
           0.6492365384748153,
           0.6474091542390734,
           0.648184125694806,
           0.5478191193765809,
           0.6457037758250733,
           0.6509059475056002,
           0.6496980889329075,
           0.6509751950238705,
           0.6480992158281212,
           0.6429547819127934,
           0.6481241191100058,
           0.6443803071990181,
           0.5450770588087045,
           0.6502988291227678,
           0.6487873057388185,
           0.6395850409175592,
           0.653155231377182,
           0.6160032364596644,
           0.6615934552120268,
           0.6566611676809464,
           0.6460493723034608,
           0.6276165102262435,
           0.6321195101329632,
           0.6451631294711364,
           0.6483133378897621,
           0.6480128984778242,
           0.6471130260044344,
           0.6465362782627574,
           0.6491361350214264,
           0.6410760449802826,
           0.5435915442468787,
           0.646367119144666,
           0.6491638839780866,
           0.653395452856202,
           0.6520652997410062,
           0.6499491076456493,
           0.6593413448287222,
           0.6593396311865578,
           0.6593139703345612,
           0.655492037103816,
           0.6593657403021688,
           0.659359684169155,
           0.6516533287607029,
           0.6555630181498046,
           0.6524628493938244,
           0.6444950004334817,
           0.6599426992881108,
           0.6600611067181992,
           0.6599434521037111,
           0.6599707115342541,
           0.6435983645064418,
           0.6624183240383661,
           0.6514942926205023,
           0.6625524796588808,
           0.6489427932509936,
           0.6416523646738439,
           0.6602874857948784,
           0.6602921068380816,
           0.6508067355559408,
           0.6516514252210451,
           0.6436200690234134,
           0.6510386672054038,
           0.6520761872333132,
           0.6519452349742796,
           0.6519296513736056,
           0.6498864653734374,
           0.6503854868670078,
           0.659943446609972,
           0.6623966234085074,
           0.6480272845430675,
           0.6649129906787159,
           0.6442155831834996,
           0.6426317010549961,
           0.645814686320876,
           0.6515320663362398,
           0.6508760003232951,
           0.662469978609374,
           0.6624687201699613,
           0.662469978609374,
           0.6446418124925066,
           0.6514392193644776,
           0.6543145471428644,
           0.6419331379813563,
           0.6445314507369486,
           0.6525205142273895,
           0.6601813759246732
          ],
          "colorbar": {
           "title": {
            "text": "Objective Value"
           }
          },
          "colorscale": [
           [
            0,
            "rgb(247,251,255)"
           ],
           [
            0.125,
            "rgb(222,235,247)"
           ],
           [
            0.25,
            "rgb(198,219,239)"
           ],
           [
            0.375,
            "rgb(158,202,225)"
           ],
           [
            0.5,
            "rgb(107,174,214)"
           ],
           [
            0.625,
            "rgb(66,146,198)"
           ],
           [
            0.75,
            "rgb(33,113,181)"
           ],
           [
            0.875,
            "rgb(8,81,156)"
           ],
           [
            1,
            "rgb(8,48,107)"
           ]
          ],
          "reversescale": false,
          "showscale": true
         },
         "type": "parcoords"
        }
       ],
       "layout": {
        "template": {
         "data": {
          "bar": [
           {
            "error_x": {
             "color": "#2a3f5f"
            },
            "error_y": {
             "color": "#2a3f5f"
            },
            "marker": {
             "line": {
              "color": "#E5ECF6",
              "width": 0.5
             },
             "pattern": {
              "fillmode": "overlay",
              "size": 10,
              "solidity": 0.2
             }
            },
            "type": "bar"
           }
          ],
          "barpolar": [
           {
            "marker": {
             "line": {
              "color": "#E5ECF6",
              "width": 0.5
             },
             "pattern": {
              "fillmode": "overlay",
              "size": 10,
              "solidity": 0.2
             }
            },
            "type": "barpolar"
           }
          ],
          "carpet": [
           {
            "aaxis": {
             "endlinecolor": "#2a3f5f",
             "gridcolor": "white",
             "linecolor": "white",
             "minorgridcolor": "white",
             "startlinecolor": "#2a3f5f"
            },
            "baxis": {
             "endlinecolor": "#2a3f5f",
             "gridcolor": "white",
             "linecolor": "white",
             "minorgridcolor": "white",
             "startlinecolor": "#2a3f5f"
            },
            "type": "carpet"
           }
          ],
          "choropleth": [
           {
            "colorbar": {
             "outlinewidth": 0,
             "ticks": ""
            },
            "type": "choropleth"
           }
          ],
          "contour": [
           {
            "colorbar": {
             "outlinewidth": 0,
             "ticks": ""
            },
            "colorscale": [
             [
              0,
              "#0d0887"
             ],
             [
              0.1111111111111111,
              "#46039f"
             ],
             [
              0.2222222222222222,
              "#7201a8"
             ],
             [
              0.3333333333333333,
              "#9c179e"
             ],
             [
              0.4444444444444444,
              "#bd3786"
             ],
             [
              0.5555555555555556,
              "#d8576b"
             ],
             [
              0.6666666666666666,
              "#ed7953"
             ],
             [
              0.7777777777777778,
              "#fb9f3a"
             ],
             [
              0.8888888888888888,
              "#fdca26"
             ],
             [
              1,
              "#f0f921"
             ]
            ],
            "type": "contour"
           }
          ],
          "contourcarpet": [
           {
            "colorbar": {
             "outlinewidth": 0,
             "ticks": ""
            },
            "type": "contourcarpet"
           }
          ],
          "heatmap": [
           {
            "colorbar": {
             "outlinewidth": 0,
             "ticks": ""
            },
            "colorscale": [
             [
              0,
              "#0d0887"
             ],
             [
              0.1111111111111111,
              "#46039f"
             ],
             [
              0.2222222222222222,
              "#7201a8"
             ],
             [
              0.3333333333333333,
              "#9c179e"
             ],
             [
              0.4444444444444444,
              "#bd3786"
             ],
             [
              0.5555555555555556,
              "#d8576b"
             ],
             [
              0.6666666666666666,
              "#ed7953"
             ],
             [
              0.7777777777777778,
              "#fb9f3a"
             ],
             [
              0.8888888888888888,
              "#fdca26"
             ],
             [
              1,
              "#f0f921"
             ]
            ],
            "type": "heatmap"
           }
          ],
          "heatmapgl": [
           {
            "colorbar": {
             "outlinewidth": 0,
             "ticks": ""
            },
            "colorscale": [
             [
              0,
              "#0d0887"
             ],
             [
              0.1111111111111111,
              "#46039f"
             ],
             [
              0.2222222222222222,
              "#7201a8"
             ],
             [
              0.3333333333333333,
              "#9c179e"
             ],
             [
              0.4444444444444444,
              "#bd3786"
             ],
             [
              0.5555555555555556,
              "#d8576b"
             ],
             [
              0.6666666666666666,
              "#ed7953"
             ],
             [
              0.7777777777777778,
              "#fb9f3a"
             ],
             [
              0.8888888888888888,
              "#fdca26"
             ],
             [
              1,
              "#f0f921"
             ]
            ],
            "type": "heatmapgl"
           }
          ],
          "histogram": [
           {
            "marker": {
             "pattern": {
              "fillmode": "overlay",
              "size": 10,
              "solidity": 0.2
             }
            },
            "type": "histogram"
           }
          ],
          "histogram2d": [
           {
            "colorbar": {
             "outlinewidth": 0,
             "ticks": ""
            },
            "colorscale": [
             [
              0,
              "#0d0887"
             ],
             [
              0.1111111111111111,
              "#46039f"
             ],
             [
              0.2222222222222222,
              "#7201a8"
             ],
             [
              0.3333333333333333,
              "#9c179e"
             ],
             [
              0.4444444444444444,
              "#bd3786"
             ],
             [
              0.5555555555555556,
              "#d8576b"
             ],
             [
              0.6666666666666666,
              "#ed7953"
             ],
             [
              0.7777777777777778,
              "#fb9f3a"
             ],
             [
              0.8888888888888888,
              "#fdca26"
             ],
             [
              1,
              "#f0f921"
             ]
            ],
            "type": "histogram2d"
           }
          ],
          "histogram2dcontour": [
           {
            "colorbar": {
             "outlinewidth": 0,
             "ticks": ""
            },
            "colorscale": [
             [
              0,
              "#0d0887"
             ],
             [
              0.1111111111111111,
              "#46039f"
             ],
             [
              0.2222222222222222,
              "#7201a8"
             ],
             [
              0.3333333333333333,
              "#9c179e"
             ],
             [
              0.4444444444444444,
              "#bd3786"
             ],
             [
              0.5555555555555556,
              "#d8576b"
             ],
             [
              0.6666666666666666,
              "#ed7953"
             ],
             [
              0.7777777777777778,
              "#fb9f3a"
             ],
             [
              0.8888888888888888,
              "#fdca26"
             ],
             [
              1,
              "#f0f921"
             ]
            ],
            "type": "histogram2dcontour"
           }
          ],
          "mesh3d": [
           {
            "colorbar": {
             "outlinewidth": 0,
             "ticks": ""
            },
            "type": "mesh3d"
           }
          ],
          "parcoords": [
           {
            "line": {
             "colorbar": {
              "outlinewidth": 0,
              "ticks": ""
             }
            },
            "type": "parcoords"
           }
          ],
          "pie": [
           {
            "automargin": true,
            "type": "pie"
           }
          ],
          "scatter": [
           {
            "marker": {
             "colorbar": {
              "outlinewidth": 0,
              "ticks": ""
             }
            },
            "type": "scatter"
           }
          ],
          "scatter3d": [
           {
            "line": {
             "colorbar": {
              "outlinewidth": 0,
              "ticks": ""
             }
            },
            "marker": {
             "colorbar": {
              "outlinewidth": 0,
              "ticks": ""
             }
            },
            "type": "scatter3d"
           }
          ],
          "scattercarpet": [
           {
            "marker": {
             "colorbar": {
              "outlinewidth": 0,
              "ticks": ""
             }
            },
            "type": "scattercarpet"
           }
          ],
          "scattergeo": [
           {
            "marker": {
             "colorbar": {
              "outlinewidth": 0,
              "ticks": ""
             }
            },
            "type": "scattergeo"
           }
          ],
          "scattergl": [
           {
            "marker": {
             "colorbar": {
              "outlinewidth": 0,
              "ticks": ""
             }
            },
            "type": "scattergl"
           }
          ],
          "scattermapbox": [
           {
            "marker": {
             "colorbar": {
              "outlinewidth": 0,
              "ticks": ""
             }
            },
            "type": "scattermapbox"
           }
          ],
          "scatterpolar": [
           {
            "marker": {
             "colorbar": {
              "outlinewidth": 0,
              "ticks": ""
             }
            },
            "type": "scatterpolar"
           }
          ],
          "scatterpolargl": [
           {
            "marker": {
             "colorbar": {
              "outlinewidth": 0,
              "ticks": ""
             }
            },
            "type": "scatterpolargl"
           }
          ],
          "scatterternary": [
           {
            "marker": {
             "colorbar": {
              "outlinewidth": 0,
              "ticks": ""
             }
            },
            "type": "scatterternary"
           }
          ],
          "surface": [
           {
            "colorbar": {
             "outlinewidth": 0,
             "ticks": ""
            },
            "colorscale": [
             [
              0,
              "#0d0887"
             ],
             [
              0.1111111111111111,
              "#46039f"
             ],
             [
              0.2222222222222222,
              "#7201a8"
             ],
             [
              0.3333333333333333,
              "#9c179e"
             ],
             [
              0.4444444444444444,
              "#bd3786"
             ],
             [
              0.5555555555555556,
              "#d8576b"
             ],
             [
              0.6666666666666666,
              "#ed7953"
             ],
             [
              0.7777777777777778,
              "#fb9f3a"
             ],
             [
              0.8888888888888888,
              "#fdca26"
             ],
             [
              1,
              "#f0f921"
             ]
            ],
            "type": "surface"
           }
          ],
          "table": [
           {
            "cells": {
             "fill": {
              "color": "#EBF0F8"
             },
             "line": {
              "color": "white"
             }
            },
            "header": {
             "fill": {
              "color": "#C8D4E3"
             },
             "line": {
              "color": "white"
             }
            },
            "type": "table"
           }
          ]
         },
         "layout": {
          "annotationdefaults": {
           "arrowcolor": "#2a3f5f",
           "arrowhead": 0,
           "arrowwidth": 1
          },
          "autotypenumbers": "strict",
          "coloraxis": {
           "colorbar": {
            "outlinewidth": 0,
            "ticks": ""
           }
          },
          "colorscale": {
           "diverging": [
            [
             0,
             "#8e0152"
            ],
            [
             0.1,
             "#c51b7d"
            ],
            [
             0.2,
             "#de77ae"
            ],
            [
             0.3,
             "#f1b6da"
            ],
            [
             0.4,
             "#fde0ef"
            ],
            [
             0.5,
             "#f7f7f7"
            ],
            [
             0.6,
             "#e6f5d0"
            ],
            [
             0.7,
             "#b8e186"
            ],
            [
             0.8,
             "#7fbc41"
            ],
            [
             0.9,
             "#4d9221"
            ],
            [
             1,
             "#276419"
            ]
           ],
           "sequential": [
            [
             0,
             "#0d0887"
            ],
            [
             0.1111111111111111,
             "#46039f"
            ],
            [
             0.2222222222222222,
             "#7201a8"
            ],
            [
             0.3333333333333333,
             "#9c179e"
            ],
            [
             0.4444444444444444,
             "#bd3786"
            ],
            [
             0.5555555555555556,
             "#d8576b"
            ],
            [
             0.6666666666666666,
             "#ed7953"
            ],
            [
             0.7777777777777778,
             "#fb9f3a"
            ],
            [
             0.8888888888888888,
             "#fdca26"
            ],
            [
             1,
             "#f0f921"
            ]
           ],
           "sequentialminus": [
            [
             0,
             "#0d0887"
            ],
            [
             0.1111111111111111,
             "#46039f"
            ],
            [
             0.2222222222222222,
             "#7201a8"
            ],
            [
             0.3333333333333333,
             "#9c179e"
            ],
            [
             0.4444444444444444,
             "#bd3786"
            ],
            [
             0.5555555555555556,
             "#d8576b"
            ],
            [
             0.6666666666666666,
             "#ed7953"
            ],
            [
             0.7777777777777778,
             "#fb9f3a"
            ],
            [
             0.8888888888888888,
             "#fdca26"
            ],
            [
             1,
             "#f0f921"
            ]
           ]
          },
          "colorway": [
           "#636efa",
           "#EF553B",
           "#00cc96",
           "#ab63fa",
           "#FFA15A",
           "#19d3f3",
           "#FF6692",
           "#B6E880",
           "#FF97FF",
           "#FECB52"
          ],
          "font": {
           "color": "#2a3f5f"
          },
          "geo": {
           "bgcolor": "white",
           "lakecolor": "white",
           "landcolor": "#E5ECF6",
           "showlakes": true,
           "showland": true,
           "subunitcolor": "white"
          },
          "hoverlabel": {
           "align": "left"
          },
          "hovermode": "closest",
          "mapbox": {
           "style": "light"
          },
          "paper_bgcolor": "white",
          "plot_bgcolor": "#E5ECF6",
          "polar": {
           "angularaxis": {
            "gridcolor": "white",
            "linecolor": "white",
            "ticks": ""
           },
           "bgcolor": "#E5ECF6",
           "radialaxis": {
            "gridcolor": "white",
            "linecolor": "white",
            "ticks": ""
           }
          },
          "scene": {
           "xaxis": {
            "backgroundcolor": "#E5ECF6",
            "gridcolor": "white",
            "gridwidth": 2,
            "linecolor": "white",
            "showbackground": true,
            "ticks": "",
            "zerolinecolor": "white"
           },
           "yaxis": {
            "backgroundcolor": "#E5ECF6",
            "gridcolor": "white",
            "gridwidth": 2,
            "linecolor": "white",
            "showbackground": true,
            "ticks": "",
            "zerolinecolor": "white"
           },
           "zaxis": {
            "backgroundcolor": "#E5ECF6",
            "gridcolor": "white",
            "gridwidth": 2,
            "linecolor": "white",
            "showbackground": true,
            "ticks": "",
            "zerolinecolor": "white"
           }
          },
          "shapedefaults": {
           "line": {
            "color": "#2a3f5f"
           }
          },
          "ternary": {
           "aaxis": {
            "gridcolor": "white",
            "linecolor": "white",
            "ticks": ""
           },
           "baxis": {
            "gridcolor": "white",
            "linecolor": "white",
            "ticks": ""
           },
           "bgcolor": "#E5ECF6",
           "caxis": {
            "gridcolor": "white",
            "linecolor": "white",
            "ticks": ""
           }
          },
          "title": {
           "x": 0.05
          },
          "xaxis": {
           "automargin": true,
           "gridcolor": "white",
           "linecolor": "white",
           "ticks": "",
           "title": {
            "standoff": 15
           },
           "zerolinecolor": "white",
           "zerolinewidth": 2
          },
          "yaxis": {
           "automargin": true,
           "gridcolor": "white",
           "linecolor": "white",
           "ticks": "",
           "title": {
            "standoff": 15
           },
           "zerolinecolor": "white",
           "zerolinewidth": 2
          }
         }
        },
        "title": {
         "text": "Parallel Coordinate Plot"
        }
       }
      }
     },
     "metadata": {},
     "output_type": "display_data"
    }
   ],
   "source": [
    "optuna.visualization.plot_parallel_coordinate(study)"
   ]
  },
  {
   "cell_type": "code",
   "execution_count": 210,
   "id": "4afa60aa",
   "metadata": {},
   "outputs": [
    {
     "name": "stdout",
     "output_type": "stream",
     "text": [
      "Best trial: {'n_estimators': 951, 'max_depth': 17, 'num_leaves': 11, 'min_child_samples': 10, 'num_iterations': 716}\n"
     ]
    },
    {
     "data": {
      "text/plain": [
       "951"
      ]
     },
     "execution_count": 210,
     "metadata": {},
     "output_type": "execute_result"
    }
   ],
   "source": [
    "print(\"Best trial:\", study.best_trial.params)\n",
    "study.best_trial.params[\"n_estimators\"]"
   ]
  },
  {
   "cell_type": "code",
   "execution_count": 211,
   "id": "3b45adad",
   "metadata": {},
   "outputs": [
    {
     "data": {
      "text/html": [
       "<style>#sk-container-id-12 {color: black;background-color: white;}#sk-container-id-12 pre{padding: 0;}#sk-container-id-12 div.sk-toggleable {background-color: white;}#sk-container-id-12 label.sk-toggleable__label {cursor: pointer;display: block;width: 100%;margin-bottom: 0;padding: 0.3em;box-sizing: border-box;text-align: center;}#sk-container-id-12 label.sk-toggleable__label-arrow:before {content: \"▸\";float: left;margin-right: 0.25em;color: #696969;}#sk-container-id-12 label.sk-toggleable__label-arrow:hover:before {color: black;}#sk-container-id-12 div.sk-estimator:hover label.sk-toggleable__label-arrow:before {color: black;}#sk-container-id-12 div.sk-toggleable__content {max-height: 0;max-width: 0;overflow: hidden;text-align: left;background-color: #f0f8ff;}#sk-container-id-12 div.sk-toggleable__content pre {margin: 0.2em;color: black;border-radius: 0.25em;background-color: #f0f8ff;}#sk-container-id-12 input.sk-toggleable__control:checked~div.sk-toggleable__content {max-height: 200px;max-width: 100%;overflow: auto;}#sk-container-id-12 input.sk-toggleable__control:checked~label.sk-toggleable__label-arrow:before {content: \"▾\";}#sk-container-id-12 div.sk-estimator input.sk-toggleable__control:checked~label.sk-toggleable__label {background-color: #d4ebff;}#sk-container-id-12 div.sk-label input.sk-toggleable__control:checked~label.sk-toggleable__label {background-color: #d4ebff;}#sk-container-id-12 input.sk-hidden--visually {border: 0;clip: rect(1px 1px 1px 1px);clip: rect(1px, 1px, 1px, 1px);height: 1px;margin: -1px;overflow: hidden;padding: 0;position: absolute;width: 1px;}#sk-container-id-12 div.sk-estimator {font-family: monospace;background-color: #f0f8ff;border: 1px dotted black;border-radius: 0.25em;box-sizing: border-box;margin-bottom: 0.5em;}#sk-container-id-12 div.sk-estimator:hover {background-color: #d4ebff;}#sk-container-id-12 div.sk-parallel-item::after {content: \"\";width: 100%;border-bottom: 1px solid gray;flex-grow: 1;}#sk-container-id-12 div.sk-label:hover label.sk-toggleable__label {background-color: #d4ebff;}#sk-container-id-12 div.sk-serial::before {content: \"\";position: absolute;border-left: 1px solid gray;box-sizing: border-box;top: 0;bottom: 0;left: 50%;z-index: 0;}#sk-container-id-12 div.sk-serial {display: flex;flex-direction: column;align-items: center;background-color: white;padding-right: 0.2em;padding-left: 0.2em;position: relative;}#sk-container-id-12 div.sk-item {position: relative;z-index: 1;}#sk-container-id-12 div.sk-parallel {display: flex;align-items: stretch;justify-content: center;background-color: white;position: relative;}#sk-container-id-12 div.sk-item::before, #sk-container-id-12 div.sk-parallel-item::before {content: \"\";position: absolute;border-left: 1px solid gray;box-sizing: border-box;top: 0;bottom: 0;left: 50%;z-index: -1;}#sk-container-id-12 div.sk-parallel-item {display: flex;flex-direction: column;z-index: 1;position: relative;background-color: white;}#sk-container-id-12 div.sk-parallel-item:first-child::after {align-self: flex-end;width: 50%;}#sk-container-id-12 div.sk-parallel-item:last-child::after {align-self: flex-start;width: 50%;}#sk-container-id-12 div.sk-parallel-item:only-child::after {width: 0;}#sk-container-id-12 div.sk-dashed-wrapped {border: 1px dashed gray;margin: 0 0.4em 0.5em 0.4em;box-sizing: border-box;padding-bottom: 0.4em;background-color: white;}#sk-container-id-12 div.sk-label label {font-family: monospace;font-weight: bold;display: inline-block;line-height: 1.2em;}#sk-container-id-12 div.sk-label-container {text-align: center;}#sk-container-id-12 div.sk-container {/* jupyter's `normalize.less` sets `[hidden] { display: none; }` but bootstrap.min.css set `[hidden] { display: none !important; }` so we also need the `!important` here to be able to override the default hidden behavior on the sphinx rendered scikit-learn.org. See: https://github.com/scikit-learn/scikit-learn/issues/21755 */display: inline-block !important;position: relative;}#sk-container-id-12 div.sk-text-repr-fallback {display: none;}</style><div id=\"sk-container-id-12\" class=\"sk-top-container\"><div class=\"sk-text-repr-fallback\"><pre>LGBMRegressor(max_depth=17, min_child_samples=10, n_estimators=951,\n",
       "              num_iterations=716, num_leaves=11, random_state=42)</pre><b>In a Jupyter environment, please rerun this cell to show the HTML representation or trust the notebook. <br />On GitHub, the HTML representation is unable to render, please try loading this page with nbviewer.org.</b></div><div class=\"sk-container\" hidden><div class=\"sk-item\"><div class=\"sk-estimator sk-toggleable\"><input class=\"sk-toggleable__control sk-hidden--visually\" id=\"sk-estimator-id-12\" type=\"checkbox\" checked><label for=\"sk-estimator-id-12\" class=\"sk-toggleable__label sk-toggleable__label-arrow\">LGBMRegressor</label><div class=\"sk-toggleable__content\"><pre>LGBMRegressor(max_depth=17, min_child_samples=10, n_estimators=951,\n",
       "              num_iterations=716, num_leaves=11, random_state=42)</pre></div></div></div></div></div>"
      ],
      "text/plain": [
       "LGBMRegressor(max_depth=17, min_child_samples=10, n_estimators=951,\n",
       "              num_iterations=716, num_leaves=11, random_state=42)"
      ]
     },
     "execution_count": 211,
     "metadata": {},
     "output_type": "execute_result"
    }
   ],
   "source": [
    "lgbm_params = {\n",
    "    \"random_state\": 42,\n",
    "    \"learning_rate\": 0.1,\n",
    "    \"n_estimators\": study.best_trial.params[\"n_estimators\"],\n",
    "    \"max_depth\": study.best_trial.params[\"max_depth\"],\n",
    "    \"num_leaves\": study.best_trial.params[\"num_leaves\"],\n",
    "    \"min_child_samples\": study.best_trial.params[\"min_child_samples\"],\n",
    "    \"num_iterations\": study.best_trial.params[\"num_iterations\"]\n",
    "}\n",
    "\n",
    "lgbm = LGBMRegressor(**lgbm_params)\n",
    "lgbm.fit(Cd_X_train, Cd_y_train)"
   ]
  },
  {
   "cell_type": "code",
   "execution_count": 212,
   "id": "9ab1055b",
   "metadata": {},
   "outputs": [],
   "source": [
    "y_train_pred = lgbm.predict(Cd_X_train)\n",
    "y_test_pred = lgbm.predict(Cd_X_test)"
   ]
  },
  {
   "cell_type": "code",
   "execution_count": 213,
   "id": "425b4001",
   "metadata": {},
   "outputs": [
    {
     "name": "stdout",
     "output_type": "stream",
     "text": [
      "Train RMSE:  0.028810187724987033\n",
      "Test RMSE:  0.13156612310618346\n"
     ]
    }
   ],
   "source": [
    "print(\"Train RMSE: \", np.sqrt(mean_squared_error(Cd_y_train, y_train_pred)))\n",
    "print(\"Test RMSE: \", np.sqrt(mean_squared_error(Cd_y_test, y_test_pred)))"
   ]
  },
  {
   "cell_type": "code",
   "execution_count": 214,
   "id": "0f95ae3c",
   "metadata": {},
   "outputs": [
    {
     "name": "stdout",
     "output_type": "stream",
     "text": [
      "Train R2:  0.9838624661741021\n",
      "Test R2:  0.6852526076302126\n"
     ]
    }
   ],
   "source": [
    "print(\"Train R2: \", r2_score(Cd_y_train, y_train_pred))\n",
    "print(\"Test R2: \", r2_score(Cd_y_test, y_test_pred))"
   ]
  },
  {
   "cell_type": "code",
   "execution_count": 215,
   "id": "d01dda76",
   "metadata": {},
   "outputs": [
    {
     "data": {
      "image/png": "[encoded data removed]",
      "text/plain": [
       "<Figure size 432x288 with 1 Axes>"
      ]
     },
     "metadata": {
      "needs_background": "light"
     },
     "output_type": "display_data"
    }
   ],
   "source": [
    "plt.scatter(y_train_pred, np.array(Cd_y_train), color=\"orange\", alpha=0.3)\n",
    "plt.scatter(y_test_pred, np.array(Cd_y_test), color=\"green\", alpha=0.4)\n",
    "plt.axis(\"auto\") # scaled, tight, auto, image, square\n",
    "# plt.xlim([0, 1.5]) \n",
    "# plt.ylim(0, None) \n",
    "plt.xlabel('Predicted Values')\n",
    "plt.ylabel('Actual Values')\n",
    "\n",
    "# Add y=x line\n",
    "plt.plot([0, 1.0], [0, 1.0], color='red', linestyle='-')\n",
    "\n",
    "plt.show()"
   ]
  },
  {
   "attachments": {},
   "cell_type": "markdown",
   "id": "74f680ea",
   "metadata": {},
   "source": [
    "Ni"
   ]
  },
  {
   "cell_type": "code",
   "execution_count": 201,
   "id": "de233338",
   "metadata": {},
   "outputs": [
    {
     "name": "stderr",
     "output_type": "stream",
     "text": [
      "\u001b[32m[I 2023-08-17 22:31:35,248]\u001b[0m A new study created in memory with name: lgbm_parameter_opt\u001b[0m\n",
      "\u001b[32m[I 2023-08-17 22:31:36,078]\u001b[0m Trial 0 finished with value: 0.7199971915851875 and parameters: {'n_estimators': 551, 'max_depth': 4, 'num_leaves': 6, 'min_child_samples': 6, 'num_iterations': 607}. Best is trial 0 with value: 0.7199971915851875.\u001b[0m\n",
      "\u001b[32m[I 2023-08-17 22:31:38,018]\u001b[0m Trial 1 finished with value: 0.7430175727964228 and parameters: {'n_estimators': 774, 'max_depth': 25, 'num_leaves': 17, 'min_child_samples': 6, 'num_iterations': 826}. Best is trial 1 with value: 0.7430175727964228.\u001b[0m\n",
      "\u001b[32m[I 2023-08-17 22:31:38,486]\u001b[0m Trial 2 finished with value: 0.6952480645394388 and parameters: {'n_estimators': 652, 'max_depth': 30, 'num_leaves': 3, 'min_child_samples': 9, 'num_iterations': 652}. Best is trial 1 with value: 0.7430175727964228.\u001b[0m\n",
      "\u001b[32m[I 2023-08-17 22:31:39,557]\u001b[0m Trial 3 finished with value: 0.7364130942849619 and parameters: {'n_estimators': 640, 'max_depth': 11, 'num_leaves': 8, 'min_child_samples': 2, 'num_iterations': 771}. Best is trial 1 with value: 0.7430175727964228.\u001b[0m\n",
      "\u001b[32m[I 2023-08-17 22:31:42,567]\u001b[0m Trial 4 finished with value: 0.721987525992831 and parameters: {'n_estimators': 897, 'max_depth': 27, 'num_leaves': 32, 'min_child_samples': 5, 'num_iterations': 557}. Best is trial 1 with value: 0.7430175727964228.\u001b[0m\n",
      "\u001b[32m[I 2023-08-17 22:31:43,161]\u001b[0m Trial 5 finished with value: 0.605220556147448 and parameters: {'n_estimators': 823, 'max_depth': 3, 'num_leaves': 2, 'min_child_samples': 5, 'num_iterations': 970}. Best is trial 1 with value: 0.7430175727964228.\u001b[0m\n",
      "\u001b[32m[I 2023-08-17 22:31:44,716]\u001b[0m Trial 6 finished with value: 0.7391211065272791 and parameters: {'n_estimators': 732, 'max_depth': 19, 'num_leaves': 16, 'min_child_samples': 4, 'num_iterations': 617}. Best is trial 1 with value: 0.7430175727964228.\u001b[0m\n",
      "\u001b[32m[I 2023-08-17 22:31:45,809]\u001b[0m Trial 7 finished with value: 0.7418261218549753 and parameters: {'n_estimators': 815, 'max_depth': 26, 'num_leaves': 7, 'min_child_samples': 1, 'num_iterations': 838}. Best is trial 1 with value: 0.7430175727964228.\u001b[0m\n",
      "\u001b[32m[I 2023-08-17 22:31:46,246]\u001b[0m Trial 8 finished with value: 0.718738053538499 and parameters: {'n_estimators': 616, 'max_depth': 10, 'num_leaves': 4, 'min_child_samples': 7, 'num_iterations': 563}. Best is trial 1 with value: 0.7430175727964228.\u001b[0m\n",
      "\u001b[32m[I 2023-08-17 22:31:47,119]\u001b[0m Trial 9 finished with value: 0.7311617790724967 and parameters: {'n_estimators': 969, 'max_depth': 15, 'num_leaves': 10, 'min_child_samples': 7, 'num_iterations': 592}. Best is trial 1 with value: 0.7430175727964228.\u001b[0m\n",
      "\u001b[32m[I 2023-08-17 22:31:50,148]\u001b[0m Trial 10 finished with value: 0.7327045406565172 and parameters: {'n_estimators': 744, 'max_depth': 21, 'num_leaves': 26, 'min_child_samples': 10, 'num_iterations': 918}. Best is trial 1 with value: 0.7430175727964228.\u001b[0m\n",
      "\u001b[32m[I 2023-08-17 22:31:53,032]\u001b[0m Trial 11 finished with value: 0.7425986472410164 and parameters: {'n_estimators': 835, 'max_depth': 24, 'num_leaves': 17, 'min_child_samples': 1, 'num_iterations': 835}. Best is trial 1 with value: 0.7430175727964228.\u001b[0m\n",
      "\u001b[32m[I 2023-08-17 22:31:55,514]\u001b[0m Trial 12 finished with value: 0.7412915763148684 and parameters: {'n_estimators': 846, 'max_depth': 23, 'num_leaves': 18, 'min_child_samples': 3, 'num_iterations': 839}. Best is trial 1 with value: 0.7430175727964228.\u001b[0m\n",
      "\u001b[32m[I 2023-08-17 22:31:57,423]\u001b[0m Trial 13 finished with value: 0.7305983504309372 and parameters: {'n_estimators': 995, 'max_depth': 18, 'num_leaves': 18, 'min_child_samples': 8, 'num_iterations': 721}. Best is trial 1 with value: 0.7430175727964228.\u001b[0m\n",
      "\u001b[32m[I 2023-08-17 22:31:59,339]\u001b[0m Trial 14 finished with value: 0.7437328747884001 and parameters: {'n_estimators': 919, 'max_depth': 25, 'num_leaves': 14, 'min_child_samples': 1, 'num_iterations': 861}. Best is trial 14 with value: 0.7437328747884001.\u001b[0m\n",
      "\u001b[32m[I 2023-08-17 22:32:01,939]\u001b[0m Trial 15 finished with value: 0.7384044343691274 and parameters: {'n_estimators': 927, 'max_depth': 30, 'num_leaves': 22, 'min_child_samples': 3, 'num_iterations': 896}. Best is trial 14 with value: 0.7437328747884001.\u001b[0m\n",
      "\u001b[32m[I 2023-08-17 22:32:03,190]\u001b[0m Trial 16 finished with value: 0.7400069375985037 and parameters: {'n_estimators': 696, 'max_depth': 14, 'num_leaves': 12, 'min_child_samples': 6, 'num_iterations': 745}. Best is trial 14 with value: 0.7437328747884001.\u001b[0m\n",
      "\u001b[32m[I 2023-08-17 22:32:05,074]\u001b[0m Trial 17 finished with value: 0.7451360638188949 and parameters: {'n_estimators': 898, 'max_depth': 26, 'num_leaves': 13, 'min_child_samples': 4, 'num_iterations': 992}. Best is trial 17 with value: 0.7451360638188949.\u001b[0m\n",
      "\u001b[32m[I 2023-08-17 22:32:07,036]\u001b[0m Trial 18 finished with value: 0.741608565287409 and parameters: {'n_estimators': 900, 'max_depth': 20, 'num_leaves': 13, 'min_child_samples': 3, 'num_iterations': 990}. Best is trial 17 with value: 0.7451360638188949.\u001b[0m\n",
      "\u001b[32m[I 2023-08-17 22:32:09,897]\u001b[0m Trial 19 finished with value: 0.7333420553464478 and parameters: {'n_estimators': 952, 'max_depth': 28, 'num_leaves': 22, 'min_child_samples': 4, 'num_iterations': 925}. Best is trial 17 with value: 0.7451360638188949.\u001b[0m\n",
      "\u001b[32m[I 2023-08-17 22:32:11,848]\u001b[0m Trial 20 finished with value: 0.7442352835709511 and parameters: {'n_estimators': 882, 'max_depth': 22, 'num_leaves': 13, 'min_child_samples': 2, 'num_iterations': 998}. Best is trial 17 with value: 0.7451360638188949.\u001b[0m\n",
      "\u001b[32m[I 2023-08-17 22:32:13,970]\u001b[0m Trial 21 finished with value: 0.74225885307052 and parameters: {'n_estimators': 878, 'max_depth': 23, 'num_leaves': 14, 'min_child_samples': 2, 'num_iterations': 959}. Best is trial 17 with value: 0.7451360638188949.\u001b[0m\n",
      "\u001b[32m[I 2023-08-17 22:32:15,286]\u001b[0m Trial 22 finished with value: 0.7381742236807283 and parameters: {'n_estimators': 932, 'max_depth': 22, 'num_leaves': 10, 'min_child_samples': 2, 'num_iterations': 880}. Best is trial 17 with value: 0.7451360638188949.\u001b[0m\n",
      "\u001b[32m[I 2023-08-17 22:32:18,301]\u001b[0m Trial 23 finished with value: 0.7426857597858051 and parameters: {'n_estimators': 874, 'max_depth': 17, 'num_leaves': 21, 'min_child_samples': 1, 'num_iterations': 998}. Best is trial 17 with value: 0.7451360638188949.\u001b[0m\n",
      "\u001b[32m[I 2023-08-17 22:32:19,863]\u001b[0m Trial 24 finished with value: 0.7418010475099124 and parameters: {'n_estimators': 775, 'max_depth': 28, 'num_leaves': 11, 'min_child_samples': 4, 'num_iterations': 935}. Best is trial 17 with value: 0.7451360638188949.\u001b[0m\n",
      "\u001b[32m[I 2023-08-17 22:32:21,541]\u001b[0m Trial 25 finished with value: 0.7420824387599154 and parameters: {'n_estimators': 974, 'max_depth': 25, 'num_leaves': 14, 'min_child_samples': 2, 'num_iterations': 792}. Best is trial 17 with value: 0.7451360638188949.\u001b[0m\n",
      "\u001b[32m[I 2023-08-17 22:32:23,924]\u001b[0m Trial 26 finished with value: 0.735976733151776 and parameters: {'n_estimators': 925, 'max_depth': 21, 'num_leaves': 20, 'min_child_samples': 3, 'num_iterations': 884}. Best is trial 17 with value: 0.7451360638188949.\u001b[0m\n",
      "\u001b[32m[I 2023-08-17 22:32:25,669]\u001b[0m Trial 27 finished with value: 0.7419327342833189 and parameters: {'n_estimators': 798, 'max_depth': 28, 'num_leaves': 15, 'min_child_samples': 1, 'num_iterations': 701}. Best is trial 17 with value: 0.7451360638188949.\u001b[0m\n",
      "\u001b[32m[I 2023-08-17 22:32:26,953]\u001b[0m Trial 28 finished with value: 0.737547899028562 and parameters: {'n_estimators': 1000, 'max_depth': 12, 'num_leaves': 9, 'min_child_samples': 4, 'num_iterations': 951}. Best is trial 17 with value: 0.7451360638188949.\u001b[0m\n",
      "\u001b[32m[I 2023-08-17 22:32:30,207]\u001b[0m Trial 29 finished with value: 0.7328017874474675 and parameters: {'n_estimators': 572, 'max_depth': 7, 'num_leaves': 25, 'min_child_samples': 2, 'num_iterations': 871}. Best is trial 17 with value: 0.7451360638188949.\u001b[0m\n",
      "\u001b[32m[I 2023-08-17 22:32:31,217]\u001b[0m Trial 30 finished with value: 0.7255810058987696 and parameters: {'n_estimators': 864, 'max_depth': 18, 'num_leaves': 5, 'min_child_samples': 5, 'num_iterations': 998}. Best is trial 17 with value: 0.7451360638188949.\u001b[0m\n",
      "\u001b[32m[I 2023-08-17 22:32:32,721]\u001b[0m Trial 31 finished with value: 0.7366543054476689 and parameters: {'n_estimators': 706, 'max_depth': 25, 'num_leaves': 12, 'min_child_samples': 7, 'num_iterations': 794}. Best is trial 17 with value: 0.7451360638188949.\u001b[0m\n",
      "\u001b[32m[I 2023-08-17 22:32:33,154]\u001b[0m Trial 32 finished with value: 0.5983045709021441 and parameters: {'n_estimators': 784, 'max_depth': 1, 'num_leaves': 16, 'min_child_samples': 6, 'num_iterations': 819}. Best is trial 17 with value: 0.7451360638188949.\u001b[0m\n",
      "\u001b[32m[I 2023-08-17 22:32:35,099]\u001b[0m Trial 33 finished with value: 0.7431771941217616 and parameters: {'n_estimators': 516, 'max_depth': 30, 'num_leaves': 19, 'min_child_samples': 5, 'num_iterations': 691}. Best is trial 17 with value: 0.7451360638188949.\u001b[0m\n",
      "\u001b[32m[I 2023-08-17 22:32:37,572]\u001b[0m Trial 34 finished with value: 0.7422621932270955 and parameters: {'n_estimators': 534, 'max_depth': 30, 'num_leaves': 25, 'min_child_samples': 3, 'num_iterations': 682}. Best is trial 17 with value: 0.7451360638188949.\u001b[0m\n",
      "\u001b[32m[I 2023-08-17 22:32:39,528]\u001b[0m Trial 35 finished with value: 0.7420276700592117 and parameters: {'n_estimators': 561, 'max_depth': 27, 'num_leaves': 20, 'min_child_samples': 5, 'num_iterations': 651}. Best is trial 17 with value: 0.7451360638188949.\u001b[0m\n",
      "\u001b[32m[I 2023-08-17 22:32:41,824]\u001b[0m Trial 36 finished with value: 0.7461102971226617 and parameters: {'n_estimators': 903, 'max_depth': 26, 'num_leaves': 18, 'min_child_samples': 2, 'num_iterations': 742}. Best is trial 36 with value: 0.7461102971226617.\u001b[0m\n",
      "\u001b[32m[I 2023-08-17 22:32:43,017]\u001b[0m Trial 37 finished with value: 0.7420046228171285 and parameters: {'n_estimators': 908, 'max_depth': 23, 'num_leaves': 7, 'min_child_samples': 1, 'num_iterations': 761}. Best is trial 36 with value: 0.7461102971226617.\u001b[0m\n",
      "\u001b[32m[I 2023-08-17 22:32:45,194]\u001b[0m Trial 38 finished with value: 0.7443084955116708 and parameters: {'n_estimators': 859, 'max_depth': 26, 'num_leaves': 13, 'min_child_samples': 2, 'num_iterations': 971}. Best is trial 36 with value: 0.7461102971226617.\u001b[0m\n",
      "\u001b[32m[I 2023-08-17 22:32:48,483]\u001b[0m Trial 39 finished with value: 0.743584251605452 and parameters: {'n_estimators': 854, 'max_depth': 26, 'num_leaves': 16, 'min_child_samples': 2, 'num_iterations': 970}. Best is trial 36 with value: 0.7461102971226617.\u001b[0m\n",
      "\u001b[32m[I 2023-08-17 22:32:52,807]\u001b[0m Trial 40 finished with value: 0.7192614987546975 and parameters: {'n_estimators': 806, 'max_depth': 27, 'num_leaves': 32, 'min_child_samples': 4, 'num_iterations': 902}. Best is trial 36 with value: 0.7461102971226617.\u001b[0m\n",
      "\u001b[32m[I 2023-08-17 22:32:54,119]\u001b[0m Trial 41 finished with value: 0.7442039163540455 and parameters: {'n_estimators': 889, 'max_depth': 24, 'num_leaves': 13, 'min_child_samples': 2, 'num_iterations': 505}. Best is trial 36 with value: 0.7461102971226617.\u001b[0m\n",
      "\u001b[32m[I 2023-08-17 22:32:55,330]\u001b[0m Trial 42 finished with value: 0.7431172560352459 and parameters: {'n_estimators': 880, 'max_depth': 21, 'num_leaves': 12, 'min_child_samples': 2, 'num_iterations': 520}. Best is trial 36 with value: 0.7461102971226617.\u001b[0m\n",
      "\u001b[32m[I 2023-08-17 22:32:56,242]\u001b[0m Trial 43 finished with value: 0.7387670448244151 and parameters: {'n_estimators': 941, 'max_depth': 24, 'num_leaves': 9, 'min_child_samples': 3, 'num_iterations': 507}. Best is trial 36 with value: 0.7461102971226617.\u001b[0m\n",
      "\u001b[32m[I 2023-08-17 22:32:57,727]\u001b[0m Trial 44 finished with value: 0.7409027729919131 and parameters: {'n_estimators': 831, 'max_depth': 26, 'num_leaves': 15, 'min_child_samples': 3, 'num_iterations': 617}. Best is trial 36 with value: 0.7461102971226617.\u001b[0m\n",
      "\u001b[32m[I 2023-08-17 22:32:59,361]\u001b[0m Trial 45 finished with value: 0.7377843095129941 and parameters: {'n_estimators': 888, 'max_depth': 28, 'num_leaves': 11, 'min_child_samples': 2, 'num_iterations': 945}. Best is trial 36 with value: 0.7461102971226617.\u001b[0m\n",
      "\u001b[32m[I 2023-08-17 22:33:02,073]\u001b[0m Trial 46 finished with value: 0.7426379885158674 and parameters: {'n_estimators': 962, 'max_depth': 24, 'num_leaves': 17, 'min_child_samples': 1, 'num_iterations': 976}. Best is trial 36 with value: 0.7461102971226617.\u001b[0m\n",
      "\u001b[32m[I 2023-08-17 22:33:02,927]\u001b[0m Trial 47 finished with value: 0.7364124599189192 and parameters: {'n_estimators': 853, 'max_depth': 22, 'num_leaves': 8, 'min_child_samples': 2, 'num_iterations': 582}. Best is trial 36 with value: 0.7461102971226617.\u001b[0m\n",
      "\u001b[32m[I 2023-08-17 22:33:04,297]\u001b[0m Trial 48 finished with value: 0.7450479580162103 and parameters: {'n_estimators': 896, 'max_depth': 19, 'num_leaves': 13, 'min_child_samples': 4, 'num_iterations': 658}. Best is trial 36 with value: 0.7461102971226617.\u001b[0m\n",
      "\u001b[32m[I 2023-08-17 22:33:06,160]\u001b[0m Trial 49 finished with value: 0.7446273533580638 and parameters: {'n_estimators': 820, 'max_depth': 19, 'num_leaves': 18, 'min_child_samples': 4, 'num_iterations': 712}. Best is trial 36 with value: 0.7461102971226617.\u001b[0m\n",
      "\u001b[32m[I 2023-08-17 22:33:07,803]\u001b[0m Trial 50 finished with value: 0.7393305547685083 and parameters: {'n_estimators': 838, 'max_depth': 16, 'num_leaves': 16, 'min_child_samples': 4, 'num_iterations': 660}. Best is trial 36 with value: 0.7461102971226617.\u001b[0m\n",
      "\u001b[32m[I 2023-08-17 22:33:09,781]\u001b[0m Trial 51 finished with value: 0.738749893306475 and parameters: {'n_estimators': 911, 'max_depth': 19, 'num_leaves': 19, 'min_child_samples': 4, 'num_iterations': 734}. Best is trial 36 with value: 0.7461102971226617.\u001b[0m\n",
      "\u001b[32m[I 2023-08-17 22:33:11,697]\u001b[0m Trial 52 finished with value: 0.7412804753514795 and parameters: {'n_estimators': 818, 'max_depth': 19, 'num_leaves': 18, 'min_child_samples': 3, 'num_iterations': 716}. Best is trial 36 with value: 0.7461102971226617.\u001b[0m\n",
      "\u001b[32m[I 2023-08-17 22:33:12,910]\u001b[0m Trial 53 finished with value: 0.7416223486999891 and parameters: {'n_estimators': 763, 'max_depth': 14, 'num_leaves': 13, 'min_child_samples': 5, 'num_iterations': 638}. Best is trial 36 with value: 0.7461102971226617.\u001b[0m\n",
      "\u001b[32m[I 2023-08-17 22:33:14,415]\u001b[0m Trial 54 finished with value: 0.7426623108997136 and parameters: {'n_estimators': 906, 'max_depth': 21, 'num_leaves': 15, 'min_child_samples': 4, 'num_iterations': 668}. Best is trial 36 with value: 0.7461102971226617.\u001b[0m\n",
      "\u001b[32m[I 2023-08-17 22:33:17,369]\u001b[0m Trial 55 finished with value: 0.726976078546944 and parameters: {'n_estimators': 861, 'max_depth': 20, 'num_leaves': 30, 'min_child_samples': 6, 'num_iterations': 783}. Best is trial 36 with value: 0.7461102971226617.\u001b[0m\n",
      "\u001b[32m[I 2023-08-17 22:33:18,495]\u001b[0m Trial 56 finished with value: 0.7483105558826864 and parameters: {'n_estimators': 951, 'max_depth': 17, 'num_leaves': 11, 'min_child_samples': 10, 'num_iterations': 716}. Best is trial 56 with value: 0.7483105558826864.\u001b[0m\n",
      "\u001b[32m[I 2023-08-17 22:33:19,556]\u001b[0m Trial 57 finished with value: 0.7410298337709624 and parameters: {'n_estimators': 973, 'max_depth': 16, 'num_leaves': 10, 'min_child_samples': 9, 'num_iterations': 715}. Best is trial 56 with value: 0.7483105558826864.\u001b[0m\n",
      "\u001b[32m[I 2023-08-17 22:33:21,637]\u001b[0m Trial 58 finished with value: 0.7409283641633528 and parameters: {'n_estimators': 944, 'max_depth': 13, 'num_leaves': 23, 'min_child_samples': 10, 'num_iterations': 735}. Best is trial 56 with value: 0.7483105558826864.\u001b[0m\n",
      "\u001b[32m[I 2023-08-17 22:33:22,736]\u001b[0m Trial 59 finished with value: 0.7372412629375739 and parameters: {'n_estimators': 948, 'max_depth': 9, 'num_leaves': 11, 'min_child_samples': 8, 'num_iterations': 633}. Best is trial 56 with value: 0.7483105558826864.\u001b[0m\n",
      "\u001b[32m[I 2023-08-17 22:33:24,587]\u001b[0m Trial 60 finished with value: 0.7360352013525293 and parameters: {'n_estimators': 794, 'max_depth': 17, 'num_leaves': 14, 'min_child_samples': 9, 'num_iterations': 769}. Best is trial 56 with value: 0.7483105558826864.\u001b[0m\n",
      "\u001b[32m[I 2023-08-17 22:33:26,524]\u001b[0m Trial 61 finished with value: 0.7450339393504553 and parameters: {'n_estimators': 925, 'max_depth': 18, 'num_leaves': 17, 'min_child_samples': 3, 'num_iterations': 701}. Best is trial 56 with value: 0.7483105558826864.\u001b[0m\n",
      "\u001b[32m[I 2023-08-17 22:33:28,154]\u001b[0m Trial 62 finished with value: 0.7449694816077332 and parameters: {'n_estimators': 983, 'max_depth': 15, 'num_leaves': 17, 'min_child_samples': 3, 'num_iterations': 676}. Best is trial 56 with value: 0.7483105558826864.\u001b[0m\n",
      "\u001b[32m[I 2023-08-17 22:33:29,753]\u001b[0m Trial 63 finished with value: 0.7440731138709964 and parameters: {'n_estimators': 965, 'max_depth': 18, 'num_leaves': 17, 'min_child_samples': 4, 'num_iterations': 680}. Best is trial 56 with value: 0.7483105558826864.\u001b[0m\n",
      "\u001b[32m[I 2023-08-17 22:33:31,594]\u001b[0m Trial 64 finished with value: 0.7409221436465204 and parameters: {'n_estimators': 923, 'max_depth': 15, 'num_leaves': 19, 'min_child_samples': 3, 'num_iterations': 703}. Best is trial 56 with value: 0.7483105558826864.\u001b[0m\n",
      "\u001b[32m[I 2023-08-17 22:33:33,818]\u001b[0m Trial 65 finished with value: 0.7374425060962556 and parameters: {'n_estimators': 996, 'max_depth': 14, 'num_leaves': 22, 'min_child_samples': 3, 'num_iterations': 749}. Best is trial 56 with value: 0.7483105558826864.\u001b[0m\n",
      "\u001b[32m[I 2023-08-17 22:33:35,485]\u001b[0m Trial 66 finished with value: 0.7414675405614365 and parameters: {'n_estimators': 986, 'max_depth': 17, 'num_leaves': 17, 'min_child_samples': 5, 'num_iterations': 725}. Best is trial 56 with value: 0.7483105558826864.\u001b[0m\n",
      "\u001b[32m[I 2023-08-17 22:33:37,348]\u001b[0m Trial 67 finished with value: 0.734363010065857 and parameters: {'n_estimators': 981, 'max_depth': 11, 'num_leaves': 20, 'min_child_samples': 4, 'num_iterations': 701}. Best is trial 56 with value: 0.7483105558826864.\u001b[0m\n",
      "\u001b[32m[I 2023-08-17 22:33:39,348]\u001b[0m Trial 68 finished with value: 0.7413875322164992 and parameters: {'n_estimators': 937, 'max_depth': 15, 'num_leaves': 18, 'min_child_samples': 3, 'num_iterations': 816}. Best is trial 56 with value: 0.7483105558826864.\u001b[0m\n",
      "\u001b[32m[I 2023-08-17 22:33:41,102]\u001b[0m Trial 69 finished with value: 0.7346056152929861 and parameters: {'n_estimators': 957, 'max_depth': 20, 'num_leaves': 21, 'min_child_samples': 5, 'num_iterations': 630}. Best is trial 56 with value: 0.7483105558826864.\u001b[0m\n",
      "\u001b[32m[I 2023-08-17 22:33:42,588]\u001b[0m Trial 70 finished with value: 0.7427037260669327 and parameters: {'n_estimators': 896, 'max_depth': 18, 'num_leaves': 15, 'min_child_samples': 4, 'num_iterations': 674}. Best is trial 56 with value: 0.7483105558826864.\u001b[0m\n",
      "\u001b[32m[I 2023-08-17 22:33:43,738]\u001b[0m Trial 71 finished with value: 0.7314181586064732 and parameters: {'n_estimators': 869, 'max_depth': 16, 'num_leaves': 12, 'min_child_samples': 3, 'num_iterations': 655}. Best is trial 56 with value: 0.7483105558826864.\u001b[0m\n",
      "\u001b[32m[I 2023-08-17 22:33:45,322]\u001b[0m Trial 72 finished with value: 0.7390929994886357 and parameters: {'n_estimators': 924, 'max_depth': 29, 'num_leaves': 16, 'min_child_samples': 3, 'num_iterations': 696}. Best is trial 56 with value: 0.7483105558826864.\u001b[0m\n",
      "\u001b[32m[I 2023-08-17 22:33:46,793]\u001b[0m Trial 73 finished with value: 0.7389980726122873 and parameters: {'n_estimators': 911, 'max_depth': 19, 'num_leaves': 14, 'min_child_samples': 7, 'num_iterations': 759}. Best is trial 56 with value: 0.7483105558826864.\u001b[0m\n",
      "\u001b[32m[I 2023-08-17 22:33:48,230]\u001b[0m Trial 74 finished with value: 0.7441957114780624 and parameters: {'n_estimators': 873, 'max_depth': 13, 'num_leaves': 13, 'min_child_samples': 2, 'num_iterations': 732}. Best is trial 56 with value: 0.7483105558826864.\u001b[0m\n",
      "\u001b[32m[I 2023-08-17 22:33:49,376]\u001b[0m Trial 75 finished with value: 0.7419102707624778 and parameters: {'n_estimators': 899, 'max_depth': 26, 'num_leaves': 11, 'min_child_samples': 4, 'num_iterations': 713}. Best is trial 56 with value: 0.7483105558826864.\u001b[0m\n",
      "\u001b[32m[I 2023-08-17 22:33:50,398]\u001b[0m Trial 76 finished with value: 0.7392249823672292 and parameters: {'n_estimators': 842, 'max_depth': 29, 'num_leaves': 9, 'min_child_samples': 3, 'num_iterations': 745}. Best is trial 56 with value: 0.7483105558826864.\u001b[0m\n",
      "\u001b[32m[I 2023-08-17 22:33:52,229]\u001b[0m Trial 77 finished with value: 0.7335753400910603 and parameters: {'n_estimators': 935, 'max_depth': 17, 'num_leaves': 18, 'min_child_samples': 1, 'num_iterations': 687}. Best is trial 56 with value: 0.7483105558826864.\u001b[0m\n",
      "\u001b[32m[I 2023-08-17 22:33:54,912]\u001b[0m Trial 78 finished with value: 0.7436359538211319 and parameters: {'n_estimators': 733, 'max_depth': 20, 'num_leaves': 16, 'min_child_samples': 2, 'num_iterations': 918}. Best is trial 56 with value: 0.7483105558826864.\u001b[0m\n",
      "\u001b[32m[I 2023-08-17 22:33:56,347]\u001b[0m Trial 79 finished with value: 0.746339323150018 and parameters: {'n_estimators': 629, 'max_depth': 22, 'num_leaves': 14, 'min_child_samples': 4, 'num_iterations': 592}. Best is trial 56 with value: 0.7483105558826864.\u001b[0m\n",
      "\u001b[32m[I 2023-08-17 22:33:57,657]\u001b[0m Trial 80 finished with value: 0.7429076184938415 and parameters: {'n_estimators': 638, 'max_depth': 23, 'num_leaves': 15, 'min_child_samples': 4, 'num_iterations': 548}. Best is trial 56 with value: 0.7483105558826864.\u001b[0m\n",
      "\u001b[32m[I 2023-08-17 22:33:58,838]\u001b[0m Trial 81 finished with value: 0.7462977281646469 and parameters: {'n_estimators': 678, 'max_depth': 18, 'num_leaves': 14, 'min_child_samples': 4, 'num_iterations': 580}. Best is trial 56 with value: 0.7483105558826864.\u001b[0m\n",
      "\u001b[32m[I 2023-08-17 22:34:00,372]\u001b[0m Trial 82 finished with value: 0.7415210067206957 and parameters: {'n_estimators': 690, 'max_depth': 18, 'num_leaves': 17, 'min_child_samples': 5, 'num_iterations': 599}. Best is trial 56 with value: 0.7483105558826864.\u001b[0m\n",
      "\u001b[32m[I 2023-08-17 22:34:01,689]\u001b[0m Trial 83 finished with value: 0.7463386860680803 and parameters: {'n_estimators': 594, 'max_depth': 20, 'num_leaves': 14, 'min_child_samples': 4, 'num_iterations': 575}. Best is trial 56 with value: 0.7483105558826864.\u001b[0m\n",
      "\u001b[32m[I 2023-08-17 22:34:02,907]\u001b[0m Trial 84 finished with value: 0.7458733399756625 and parameters: {'n_estimators': 610, 'max_depth': 21, 'num_leaves': 12, 'min_child_samples': 4, 'num_iterations': 582}. Best is trial 56 with value: 0.7483105558826864.\u001b[0m\n",
      "\u001b[32m[I 2023-08-17 22:34:04,112]\u001b[0m Trial 85 finished with value: 0.7380289992778175 and parameters: {'n_estimators': 590, 'max_depth': 22, 'num_leaves': 14, 'min_child_samples': 6, 'num_iterations': 552}. Best is trial 56 with value: 0.7483105558826864.\u001b[0m\n",
      "\u001b[32m[I 2023-08-17 22:34:05,226]\u001b[0m Trial 86 finished with value: 0.7355990321274819 and parameters: {'n_estimators': 615, 'max_depth': 21, 'num_leaves': 12, 'min_child_samples': 5, 'num_iterations': 609}. Best is trial 56 with value: 0.7483105558826864.\u001b[0m\n",
      "\u001b[32m[I 2023-08-17 22:34:06,210]\u001b[0m Trial 87 finished with value: 0.7459109406420883 and parameters: {'n_estimators': 680, 'max_depth': 25, 'num_leaves': 12, 'min_child_samples': 4, 'num_iterations': 580}. Best is trial 56 with value: 0.7483105558826864.\u001b[0m\n",
      "\u001b[32m[I 2023-08-17 22:34:07,064]\u001b[0m Trial 88 finished with value: 0.7380951580230801 and parameters: {'n_estimators': 667, 'max_depth': 25, 'num_leaves': 10, 'min_child_samples': 5, 'num_iterations': 573}. Best is trial 56 with value: 0.7483105558826864.\u001b[0m\n",
      "\u001b[32m[I 2023-08-17 22:34:07,768]\u001b[0m Trial 89 finished with value: 0.7390340931952506 and parameters: {'n_estimators': 613, 'max_depth': 23, 'num_leaves': 8, 'min_child_samples': 4, 'num_iterations': 533}. Best is trial 56 with value: 0.7483105558826864.\u001b[0m\n",
      "\u001b[32m[I 2023-08-17 22:34:08,850]\u001b[0m Trial 90 finished with value: 0.7450792087350706 and parameters: {'n_estimators': 596, 'max_depth': 20, 'num_leaves': 13, 'min_child_samples': 4, 'num_iterations': 590}. Best is trial 56 with value: 0.7483105558826864.\u001b[0m\n",
      "\u001b[32m[I 2023-08-17 22:34:09,879]\u001b[0m Trial 91 finished with value: 0.7451244439864376 and parameters: {'n_estimators': 591, 'max_depth': 20, 'num_leaves': 13, 'min_child_samples': 4, 'num_iterations': 567}. Best is trial 56 with value: 0.7483105558826864.\u001b[0m\n",
      "\u001b[32m[I 2023-08-17 22:34:10,864]\u001b[0m Trial 92 finished with value: 0.7418435288621748 and parameters: {'n_estimators': 597, 'max_depth': 22, 'num_leaves': 11, 'min_child_samples': 4, 'num_iterations': 589}. Best is trial 56 with value: 0.7483105558826864.\u001b[0m\n",
      "\u001b[32m[I 2023-08-17 22:34:11,829]\u001b[0m Trial 93 finished with value: 0.7354131366987124 and parameters: {'n_estimators': 634, 'max_depth': 21, 'num_leaves': 12, 'min_child_samples': 5, 'num_iterations': 566}. Best is trial 56 with value: 0.7483105558826864.\u001b[0m\n",
      "\u001b[32m[I 2023-08-17 22:34:12,912]\u001b[0m Trial 94 finished with value: 0.7466406138878825 and parameters: {'n_estimators': 656, 'max_depth': 27, 'num_leaves': 14, 'min_child_samples': 4, 'num_iterations': 537}. Best is trial 56 with value: 0.7483105558826864.\u001b[0m\n",
      "\u001b[32m[I 2023-08-17 22:34:13,967]\u001b[0m Trial 95 finished with value: 0.7482520333003295 and parameters: {'n_estimators': 663, 'max_depth': 27, 'num_leaves': 14, 'min_child_samples': 5, 'num_iterations': 540}. Best is trial 56 with value: 0.7483105558826864.\u001b[0m\n",
      "\u001b[32m[I 2023-08-17 22:34:14,994]\u001b[0m Trial 96 finished with value: 0.7381067204951053 and parameters: {'n_estimators': 656, 'max_depth': 24, 'num_leaves': 14, 'min_child_samples': 6, 'num_iterations': 543}. Best is trial 56 with value: 0.7483105558826864.\u001b[0m\n",
      "\u001b[32m[I 2023-08-17 22:34:16,079]\u001b[0m Trial 97 finished with value: 0.7376073068499613 and parameters: {'n_estimators': 709, 'max_depth': 27, 'num_leaves': 15, 'min_child_samples': 5, 'num_iterations': 533}. Best is trial 56 with value: 0.7483105558826864.\u001b[0m\n",
      "\u001b[32m[I 2023-08-17 22:34:16,894]\u001b[0m Trial 98 finished with value: 0.739328963440748 and parameters: {'n_estimators': 673, 'max_depth': 25, 'num_leaves': 10, 'min_child_samples': 4, 'num_iterations': 520}. Best is trial 56 with value: 0.7483105558826864.\u001b[0m\n",
      "\u001b[32m[I 2023-08-17 22:34:17,868]\u001b[0m Trial 99 finished with value: 0.738876890116377 and parameters: {'n_estimators': 648, 'max_depth': 29, 'num_leaves': 12, 'min_child_samples': 8, 'num_iterations': 580}. Best is trial 56 with value: 0.7483105558826864.\u001b[0m\n"
     ]
    },
    {
     "name": "stdout",
     "output_type": "stream",
     "text": [
      "Best r2:  0.7483105558826864\n",
      "Best trial: {'n_estimators': 951, 'max_depth': 17, 'num_leaves': 11, 'min_child_samples': 10, 'num_iterations': 716}\n"
     ]
    }
   ],
   "source": [
    "sampler = TPESampler()\n",
    "study = optuna.create_study(\n",
    "    study_name=\"lgbm_parameter_opt\",\n",
    "    direction=\"maximize\",\n",
    "    sampler=sampler,\n",
    ")\n",
    "\n",
    "study.optimize(lambda trial : objectiveLGBM(trial, Ni_X_train, Ni_y_train), n_trials=100)\n",
    "print(\"Best r2: \", study.best_value)\n",
    "print(\"Best trial:\", study.best_trial.params)"
   ]
  },
  {
   "cell_type": "code",
   "execution_count": 202,
   "id": "d71c01fb",
   "metadata": {},
   "outputs": [
    {
     "data": {
      "application/vnd.plotly.v1+json": {
       "config": {
        "plotlyServerURL": "https://plot.ly"
       },
       "data": [
        {
         "dimensions": [
          {
           "label": "Objective Value",
           "range": [
            0.5983045709021441,
            0.7483105558826864
           ],
           "values": [
            0.7199971915851875,
            0.7430175727964228,
            0.6952480645394388,
            0.7364130942849619,
            0.721987525992831,
            0.605220556147448,
            0.7391211065272791,
            0.7418261218549753,
            0.718738053538499,
            0.7311617790724967,
            0.7327045406565172,
            0.7425986472410164,
            0.7412915763148684,
            0.7305983504309372,
            0.7437328747884001,
            0.7384044343691274,
            0.7400069375985037,
            0.7451360638188949,
            0.741608565287409,
            0.7333420553464478,
            0.7442352835709511,
            0.74225885307052,
            0.7381742236807283,
            0.7426857597858051,
            0.7418010475099124,
            0.7420824387599154,
            0.735976733151776,
            0.7419327342833189,
            0.737547899028562,
            0.7328017874474675,
            0.7255810058987696,
            0.7366543054476689,
            0.5983045709021441,
            0.7431771941217616,
            0.7422621932270955,
            0.7420276700592117,
            0.7461102971226617,
            0.7420046228171285,
            0.7443084955116708,
            0.743584251605452,
            0.7192614987546975,
            0.7442039163540455,
            0.7431172560352459,
            0.7387670448244151,
            0.7409027729919131,
            0.7377843095129941,
            0.7426379885158674,
            0.7364124599189192,
            0.7450479580162103,
            0.7446273533580638,
            0.7393305547685083,
            0.738749893306475,
            0.7412804753514795,
            0.7416223486999891,
            0.7426623108997136,
            0.726976078546944,
            0.7483105558826864,
            0.7410298337709624,
            0.7409283641633528,
            0.7372412629375739,
            0.7360352013525293,
            0.7450339393504553,
            0.7449694816077332,
            0.7440731138709964,
            0.7409221436465204,
            0.7374425060962556,
            0.7414675405614365,
            0.734363010065857,
            0.7413875322164992,
            0.7346056152929861,
            0.7427037260669327,
            0.7314181586064732,
            0.7390929994886357,
            0.7389980726122873,
            0.7441957114780624,
            0.7419102707624778,
            0.7392249823672292,
            0.7335753400910603,
            0.7436359538211319,
            0.746339323150018,
            0.7429076184938415,
            0.7462977281646469,
            0.7415210067206957,
            0.7463386860680803,
            0.7458733399756625,
            0.7380289992778175,
            0.7355990321274819,
            0.7459109406420883,
            0.7380951580230801,
            0.7390340931952506,
            0.7450792087350706,
            0.7451244439864376,
            0.7418435288621748,
            0.7354131366987124,
            0.7466406138878825,
            0.7482520333003295,
            0.7381067204951053,
            0.7376073068499613,
            0.739328963440748,
            0.738876890116377
           ]
          },
          {
           "label": "max_depth",
           "range": [
            1,
            30
           ],
           "values": [
            4,
            25,
            30,
            11,
            27,
            3,
            19,
            26,
            10,
            15,
            21,
            24,
            23,
            18,
            25,
            30,
            14,
            26,
            20,
            28,
            22,
            23,
            22,
            17,
            28,
            25,
            21,
            28,
            12,
            7,
            18,
            25,
            1,
            30,
            30,
            27,
            26,
            23,
            26,
            26,
            27,
            24,
            21,
            24,
            26,
            28,
            24,
            22,
            19,
            19,
            16,
            19,
            19,
            14,
            21,
            20,
            17,
            16,
            13,
            9,
            17,
            18,
            15,
            18,
            15,
            14,
            17,
            11,
            15,
            20,
            18,
            16,
            29,
            19,
            13,
            26,
            29,
            17,
            20,
            22,
            23,
            18,
            18,
            20,
            21,
            22,
            21,
            25,
            25,
            23,
            20,
            20,
            22,
            21,
            27,
            27,
            24,
            27,
            25,
            29
           ]
          },
          {
           "label": "min_child_samples",
           "range": [
            1,
            10
           ],
           "values": [
            6,
            6,
            9,
            2,
            5,
            5,
            4,
            1,
            7,
            7,
            10,
            1,
            3,
            8,
            1,
            3,
            6,
            4,
            3,
            4,
            2,
            2,
            2,
            1,
            4,
            2,
            3,
            1,
            4,
            2,
            5,
            7,
            6,
            5,
            3,
            5,
            2,
            1,
            2,
            2,
            4,
            2,
            2,
            3,
            3,
            2,
            1,
            2,
            4,
            4,
            4,
            4,
            3,
            5,
            4,
            6,
            10,
            9,
            10,
            8,
            9,
            3,
            3,
            4,
            3,
            3,
            5,
            4,
            3,
            5,
            4,
            3,
            3,
            7,
            2,
            4,
            3,
            1,
            2,
            4,
            4,
            4,
            5,
            4,
            4,
            6,
            5,
            4,
            5,
            4,
            4,
            4,
            4,
            5,
            4,
            5,
            6,
            5,
            4,
            8
           ]
          },
          {
           "label": "n_estimators",
           "range": [
            516,
            1000
           ],
           "values": [
            551,
            774,
            652,
            640,
            897,
            823,
            732,
            815,
            616,
            969,
            744,
            835,
            846,
            995,
            919,
            927,
            696,
            898,
            900,
            952,
            882,
            878,
            932,
            874,
            775,
            974,
            925,
            798,
            1000,
            572,
            864,
            706,
            784,
            516,
            534,
            561,
            903,
            908,
            859,
            854,
            806,
            889,
            880,
            941,
            831,
            888,
            962,
            853,
            896,
            820,
            838,
            911,
            818,
            763,
            906,
            861,
            951,
            973,
            944,
            948,
            794,
            925,
            983,
            965,
            923,
            996,
            986,
            981,
            937,
            957,
            896,
            869,
            924,
            911,
            873,
            899,
            842,
            935,
            733,
            629,
            638,
            678,
            690,
            594,
            610,
            590,
            615,
            680,
            667,
            613,
            596,
            591,
            597,
            634,
            656,
            663,
            656,
            709,
            673,
            648
           ]
          },
          {
           "label": "num_iterations",
           "range": [
            505,
            998
           ],
           "values": [
            607,
            826,
            652,
            771,
            557,
            970,
            617,
            838,
            563,
            592,
            918,
            835,
            839,
            721,
            861,
            896,
            745,
            992,
            990,
            925,
            998,
            959,
            880,
            998,
            935,
            792,
            884,
            701,
            951,
            871,
            998,
            794,
            819,
            691,
            682,
            651,
            742,
            761,
            971,
            970,
            902,
            505,
            520,
            507,
            617,
            945,
            976,
            582,
            658,
            712,
            660,
            734,
            716,
            638,
            668,
            783,
            716,
            715,
            735,
            633,
            769,
            701,
            676,
            680,
            703,
            749,
            725,
            701,
            816,
            630,
            674,
            655,
            696,
            759,
            732,
            713,
            745,
            687,
            918,
            592,
            548,
            580,
            599,
            575,
            582,
            552,
            609,
            580,
            573,
            533,
            590,
            567,
            589,
            566,
            537,
            540,
            543,
            533,
            520,
            580
           ]
          },
          {
           "label": "num_leaves",
           "range": [
            2,
            32
           ],
           "values": [
            6,
            17,
            3,
            8,
            32,
            2,
            16,
            7,
            4,
            10,
            26,
            17,
            18,
            18,
            14,
            22,
            12,
            13,
            13,
            22,
            13,
            14,
            10,
            21,
            11,
            14,
            20,
            15,
            9,
            25,
            5,
            12,
            16,
            19,
            25,
            20,
            18,
            7,
            13,
            16,
            32,
            13,
            12,
            9,
            15,
            11,
            17,
            8,
            13,
            18,
            16,
            19,
            18,
            13,
            15,
            30,
            11,
            10,
            23,
            11,
            14,
            17,
            17,
            17,
            19,
            22,
            17,
            20,
            18,
            21,
            15,
            12,
            16,
            14,
            13,
            11,
            9,
            18,
            16,
            14,
            15,
            14,
            17,
            14,
            12,
            14,
            12,
            12,
            10,
            8,
            13,
            13,
            11,
            12,
            14,
            14,
            14,
            15,
            10,
            12
           ]
          }
         ],
         "labelangle": 30,
         "labelside": "bottom",
         "line": {
          "color": [
           0.7199971915851875,
           0.7430175727964228,
           0.6952480645394388,
           0.7364130942849619,
           0.721987525992831,
           0.605220556147448,
           0.7391211065272791,
           0.7418261218549753,
           0.718738053538499,
           0.7311617790724967,
           0.7327045406565172,
           0.7425986472410164,
           0.7412915763148684,
           0.7305983504309372,
           0.7437328747884001,
           0.7384044343691274,
           0.7400069375985037,
           0.7451360638188949,
           0.741608565287409,
           0.7333420553464478,
           0.7442352835709511,
           0.74225885307052,
           0.7381742236807283,
           0.7426857597858051,
           0.7418010475099124,
           0.7420824387599154,
           0.735976733151776,
           0.7419327342833189,
           0.737547899028562,
           0.7328017874474675,
           0.7255810058987696,
           0.7366543054476689,
           0.5983045709021441,
           0.7431771941217616,
           0.7422621932270955,
           0.7420276700592117,
           0.7461102971226617,
           0.7420046228171285,
           0.7443084955116708,
           0.743584251605452,
           0.7192614987546975,
           0.7442039163540455,
           0.7431172560352459,
           0.7387670448244151,
           0.7409027729919131,
           0.7377843095129941,
           0.7426379885158674,
           0.7364124599189192,
           0.7450479580162103,
           0.7446273533580638,
           0.7393305547685083,
           0.738749893306475,
           0.7412804753514795,
           0.7416223486999891,
           0.7426623108997136,
           0.726976078546944,
           0.7483105558826864,
           0.7410298337709624,
           0.7409283641633528,
           0.7372412629375739,
           0.7360352013525293,
           0.7450339393504553,
           0.7449694816077332,
           0.7440731138709964,
           0.7409221436465204,
           0.7374425060962556,
           0.7414675405614365,
           0.734363010065857,
           0.7413875322164992,
           0.7346056152929861,
           0.7427037260669327,
           0.7314181586064732,
           0.7390929994886357,
           0.7389980726122873,
           0.7441957114780624,
           0.7419102707624778,
           0.7392249823672292,
           0.7335753400910603,
           0.7436359538211319,
           0.746339323150018,
           0.7429076184938415,
           0.7462977281646469,
           0.7415210067206957,
           0.7463386860680803,
           0.7458733399756625,
           0.7380289992778175,
           0.7355990321274819,
           0.7459109406420883,
           0.7380951580230801,
           0.7390340931952506,
           0.7450792087350706,
           0.7451244439864376,
           0.7418435288621748,
           0.7354131366987124,
           0.7466406138878825,
           0.7482520333003295,
           0.7381067204951053,
           0.7376073068499613,
           0.739328963440748,
           0.738876890116377
          ],
          "colorbar": {
           "title": {
            "text": "Objective Value"
           }
          },
          "colorscale": [
           [
            0,
            "rgb(247,251,255)"
           ],
           [
            0.125,
            "rgb(222,235,247)"
           ],
           [
            0.25,
            "rgb(198,219,239)"
           ],
           [
            0.375,
            "rgb(158,202,225)"
           ],
           [
            0.5,
            "rgb(107,174,214)"
           ],
           [
            0.625,
            "rgb(66,146,198)"
           ],
           [
            0.75,
            "rgb(33,113,181)"
           ],
           [
            0.875,
            "rgb(8,81,156)"
           ],
           [
            1,
            "rgb(8,48,107)"
           ]
          ],
          "reversescale": false,
          "showscale": true
         },
         "type": "parcoords"
        }
       ],
       "layout": {
        "template": {
         "data": {
          "bar": [
           {
            "error_x": {
             "color": "#2a3f5f"
            },
            "error_y": {
             "color": "#2a3f5f"
            },
            "marker": {
             "line": {
              "color": "#E5ECF6",
              "width": 0.5
             },
             "pattern": {
              "fillmode": "overlay",
              "size": 10,
              "solidity": 0.2
             }
            },
            "type": "bar"
           }
          ],
          "barpolar": [
           {
            "marker": {
             "line": {
              "color": "#E5ECF6",
              "width": 0.5
             },
             "pattern": {
              "fillmode": "overlay",
              "size": 10,
              "solidity": 0.2
             }
            },
            "type": "barpolar"
           }
          ],
          "carpet": [
           {
            "aaxis": {
             "endlinecolor": "#2a3f5f",
             "gridcolor": "white",
             "linecolor": "white",
             "minorgridcolor": "white",
             "startlinecolor": "#2a3f5f"
            },
            "baxis": {
             "endlinecolor": "#2a3f5f",
             "gridcolor": "white",
             "linecolor": "white",
             "minorgridcolor": "white",
             "startlinecolor": "#2a3f5f"
            },
            "type": "carpet"
           }
          ],
          "choropleth": [
           {
            "colorbar": {
             "outlinewidth": 0,
             "ticks": ""
            },
            "type": "choropleth"
           }
          ],
          "contour": [
           {
            "colorbar": {
             "outlinewidth": 0,
             "ticks": ""
            },
            "colorscale": [
             [
              0,
              "#0d0887"
             ],
             [
              0.1111111111111111,
              "#46039f"
             ],
             [
              0.2222222222222222,
              "#7201a8"
             ],
             [
              0.3333333333333333,
              "#9c179e"
             ],
             [
              0.4444444444444444,
              "#bd3786"
             ],
             [
              0.5555555555555556,
              "#d8576b"
             ],
             [
              0.6666666666666666,
              "#ed7953"
             ],
             [
              0.7777777777777778,
              "#fb9f3a"
             ],
             [
              0.8888888888888888,
              "#fdca26"
             ],
             [
              1,
              "#f0f921"
             ]
            ],
            "type": "contour"
           }
          ],
          "contourcarpet": [
           {
            "colorbar": {
             "outlinewidth": 0,
             "ticks": ""
            },
            "type": "contourcarpet"
           }
          ],
          "heatmap": [
           {
            "colorbar": {
             "outlinewidth": 0,
             "ticks": ""
            },
            "colorscale": [
             [
              0,
              "#0d0887"
             ],
             [
              0.1111111111111111,
              "#46039f"
             ],
             [
              0.2222222222222222,
              "#7201a8"
             ],
             [
              0.3333333333333333,
              "#9c179e"
             ],
             [
              0.4444444444444444,
              "#bd3786"
             ],
             [
              0.5555555555555556,
              "#d8576b"
             ],
             [
              0.6666666666666666,
              "#ed7953"
             ],
             [
              0.7777777777777778,
              "#fb9f3a"
             ],
             [
              0.8888888888888888,
              "#fdca26"
             ],
             [
              1,
              "#f0f921"
             ]
            ],
            "type": "heatmap"
           }
          ],
          "heatmapgl": [
           {
            "colorbar": {
             "outlinewidth": 0,
             "ticks": ""
            },
            "colorscale": [
             [
              0,
              "#0d0887"
             ],
             [
              0.1111111111111111,
              "#46039f"
             ],
             [
              0.2222222222222222,
              "#7201a8"
             ],
             [
              0.3333333333333333,
              "#9c179e"
             ],
             [
              0.4444444444444444,
              "#bd3786"
             ],
             [
              0.5555555555555556,
              "#d8576b"
             ],
             [
              0.6666666666666666,
              "#ed7953"
             ],
             [
              0.7777777777777778,
              "#fb9f3a"
             ],
             [
              0.8888888888888888,
              "#fdca26"
             ],
             [
              1,
              "#f0f921"
             ]
            ],
            "type": "heatmapgl"
           }
          ],
          "histogram": [
           {
            "marker": {
             "pattern": {
              "fillmode": "overlay",
              "size": 10,
              "solidity": 0.2
             }
            },
            "type": "histogram"
           }
          ],
          "histogram2d": [
           {
            "colorbar": {
             "outlinewidth": 0,
             "ticks": ""
            },
            "colorscale": [
             [
              0,
              "#0d0887"
             ],
             [
              0.1111111111111111,
              "#46039f"
             ],
             [
              0.2222222222222222,
              "#7201a8"
             ],
             [
              0.3333333333333333,
              "#9c179e"
             ],
             [
              0.4444444444444444,
              "#bd3786"
             ],
             [
              0.5555555555555556,
              "#d8576b"
             ],
             [
              0.6666666666666666,
              "#ed7953"
             ],
             [
              0.7777777777777778,
              "#fb9f3a"
             ],
             [
              0.8888888888888888,
              "#fdca26"
             ],
             [
              1,
              "#f0f921"
             ]
            ],
            "type": "histogram2d"
           }
          ],
          "histogram2dcontour": [
           {
            "colorbar": {
             "outlinewidth": 0,
             "ticks": ""
            },
            "colorscale": [
             [
              0,
              "#0d0887"
             ],
             [
              0.1111111111111111,
              "#46039f"
             ],
             [
              0.2222222222222222,
              "#7201a8"
             ],
             [
              0.3333333333333333,
              "#9c179e"
             ],
             [
              0.4444444444444444,
              "#bd3786"
             ],
             [
              0.5555555555555556,
              "#d8576b"
             ],
             [
              0.6666666666666666,
              "#ed7953"
             ],
             [
              0.7777777777777778,
              "#fb9f3a"
             ],
             [
              0.8888888888888888,
              "#fdca26"
             ],
             [
              1,
              "#f0f921"
             ]
            ],
            "type": "histogram2dcontour"
           }
          ],
          "mesh3d": [
           {
            "colorbar": {
             "outlinewidth": 0,
             "ticks": ""
            },
            "type": "mesh3d"
           }
          ],
          "parcoords": [
           {
            "line": {
             "colorbar": {
              "outlinewidth": 0,
              "ticks": ""
             }
            },
            "type": "parcoords"
           }
          ],
          "pie": [
           {
            "automargin": true,
            "type": "pie"
           }
          ],
          "scatter": [
           {
            "marker": {
             "colorbar": {
              "outlinewidth": 0,
              "ticks": ""
             }
            },
            "type": "scatter"
           }
          ],
          "scatter3d": [
           {
            "line": {
             "colorbar": {
              "outlinewidth": 0,
              "ticks": ""
             }
            },
            "marker": {
             "colorbar": {
              "outlinewidth": 0,
              "ticks": ""
             }
            },
            "type": "scatter3d"
           }
          ],
          "scattercarpet": [
           {
            "marker": {
             "colorbar": {
              "outlinewidth": 0,
              "ticks": ""
             }
            },
            "type": "scattercarpet"
           }
          ],
          "scattergeo": [
           {
            "marker": {
             "colorbar": {
              "outlinewidth": 0,
              "ticks": ""
             }
            },
            "type": "scattergeo"
           }
          ],
          "scattergl": [
           {
            "marker": {
             "colorbar": {
              "outlinewidth": 0,
              "ticks": ""
             }
            },
            "type": "scattergl"
           }
          ],
          "scattermapbox": [
           {
            "marker": {
             "colorbar": {
              "outlinewidth": 0,
              "ticks": ""
             }
            },
            "type": "scattermapbox"
           }
          ],
          "scatterpolar": [
           {
            "marker": {
             "colorbar": {
              "outlinewidth": 0,
              "ticks": ""
             }
            },
            "type": "scatterpolar"
           }
          ],
          "scatterpolargl": [
           {
            "marker": {
             "colorbar": {
              "outlinewidth": 0,
              "ticks": ""
             }
            },
            "type": "scatterpolargl"
           }
          ],
          "scatterternary": [
           {
            "marker": {
             "colorbar": {
              "outlinewidth": 0,
              "ticks": ""
             }
            },
            "type": "scatterternary"
           }
          ],
          "surface": [
           {
            "colorbar": {
             "outlinewidth": 0,
             "ticks": ""
            },
            "colorscale": [
             [
              0,
              "#0d0887"
             ],
             [
              0.1111111111111111,
              "#46039f"
             ],
             [
              0.2222222222222222,
              "#7201a8"
             ],
             [
              0.3333333333333333,
              "#9c179e"
             ],
             [
              0.4444444444444444,
              "#bd3786"
             ],
             [
              0.5555555555555556,
              "#d8576b"
             ],
             [
              0.6666666666666666,
              "#ed7953"
             ],
             [
              0.7777777777777778,
              "#fb9f3a"
             ],
             [
              0.8888888888888888,
              "#fdca26"
             ],
             [
              1,
              "#f0f921"
             ]
            ],
            "type": "surface"
           }
          ],
          "table": [
           {
            "cells": {
             "fill": {
              "color": "#EBF0F8"
             },
             "line": {
              "color": "white"
             }
            },
            "header": {
             "fill": {
              "color": "#C8D4E3"
             },
             "line": {
              "color": "white"
             }
            },
            "type": "table"
           }
          ]
         },
         "layout": {
          "annotationdefaults": {
           "arrowcolor": "#2a3f5f",
           "arrowhead": 0,
           "arrowwidth": 1
          },
          "autotypenumbers": "strict",
          "coloraxis": {
           "colorbar": {
            "outlinewidth": 0,
            "ticks": ""
           }
          },
          "colorscale": {
           "diverging": [
            [
             0,
             "#8e0152"
            ],
            [
             0.1,
             "#c51b7d"
            ],
            [
             0.2,
             "#de77ae"
            ],
            [
             0.3,
             "#f1b6da"
            ],
            [
             0.4,
             "#fde0ef"
            ],
            [
             0.5,
             "#f7f7f7"
            ],
            [
             0.6,
             "#e6f5d0"
            ],
            [
             0.7,
             "#b8e186"
            ],
            [
             0.8,
             "#7fbc41"
            ],
            [
             0.9,
             "#4d9221"
            ],
            [
             1,
             "#276419"
            ]
           ],
           "sequential": [
            [
             0,
             "#0d0887"
            ],
            [
             0.1111111111111111,
             "#46039f"
            ],
            [
             0.2222222222222222,
             "#7201a8"
            ],
            [
             0.3333333333333333,
             "#9c179e"
            ],
            [
             0.4444444444444444,
             "#bd3786"
            ],
            [
             0.5555555555555556,
             "#d8576b"
            ],
            [
             0.6666666666666666,
             "#ed7953"
            ],
            [
             0.7777777777777778,
             "#fb9f3a"
            ],
            [
             0.8888888888888888,
             "#fdca26"
            ],
            [
             1,
             "#f0f921"
            ]
           ],
           "sequentialminus": [
            [
             0,
             "#0d0887"
            ],
            [
             0.1111111111111111,
             "#46039f"
            ],
            [
             0.2222222222222222,
             "#7201a8"
            ],
            [
             0.3333333333333333,
             "#9c179e"
            ],
            [
             0.4444444444444444,
             "#bd3786"
            ],
            [
             0.5555555555555556,
             "#d8576b"
            ],
            [
             0.6666666666666666,
             "#ed7953"
            ],
            [
             0.7777777777777778,
             "#fb9f3a"
            ],
            [
             0.8888888888888888,
             "#fdca26"
            ],
            [
             1,
             "#f0f921"
            ]
           ]
          },
          "colorway": [
           "#636efa",
           "#EF553B",
           "#00cc96",
           "#ab63fa",
           "#FFA15A",
           "#19d3f3",
           "#FF6692",
           "#B6E880",
           "#FF97FF",
           "#FECB52"
          ],
          "font": {
           "color": "#2a3f5f"
          },
          "geo": {
           "bgcolor": "white",
           "lakecolor": "white",
           "landcolor": "#E5ECF6",
           "showlakes": true,
           "showland": true,
           "subunitcolor": "white"
          },
          "hoverlabel": {
           "align": "left"
          },
          "hovermode": "closest",
          "mapbox": {
           "style": "light"
          },
          "paper_bgcolor": "white",
          "plot_bgcolor": "#E5ECF6",
          "polar": {
           "angularaxis": {
            "gridcolor": "white",
            "linecolor": "white",
            "ticks": ""
           },
           "bgcolor": "#E5ECF6",
           "radialaxis": {
            "gridcolor": "white",
            "linecolor": "white",
            "ticks": ""
           }
          },
          "scene": {
           "xaxis": {
            "backgroundcolor": "#E5ECF6",
            "gridcolor": "white",
            "gridwidth": 2,
            "linecolor": "white",
            "showbackground": true,
            "ticks": "",
            "zerolinecolor": "white"
           },
           "yaxis": {
            "backgroundcolor": "#E5ECF6",
            "gridcolor": "white",
            "gridwidth": 2,
            "linecolor": "white",
            "showbackground": true,
            "ticks": "",
            "zerolinecolor": "white"
           },
           "zaxis": {
            "backgroundcolor": "#E5ECF6",
            "gridcolor": "white",
            "gridwidth": 2,
            "linecolor": "white",
            "showbackground": true,
            "ticks": "",
            "zerolinecolor": "white"
           }
          },
          "shapedefaults": {
           "line": {
            "color": "#2a3f5f"
           }
          },
          "ternary": {
           "aaxis": {
            "gridcolor": "white",
            "linecolor": "white",
            "ticks": ""
           },
           "baxis": {
            "gridcolor": "white",
            "linecolor": "white",
            "ticks": ""
           },
           "bgcolor": "#E5ECF6",
           "caxis": {
            "gridcolor": "white",
            "linecolor": "white",
            "ticks": ""
           }
          },
          "title": {
           "x": 0.05
          },
          "xaxis": {
           "automargin": true,
           "gridcolor": "white",
           "linecolor": "white",
           "ticks": "",
           "title": {
            "standoff": 15
           },
           "zerolinecolor": "white",
           "zerolinewidth": 2
          },
          "yaxis": {
           "automargin": true,
           "gridcolor": "white",
           "linecolor": "white",
           "ticks": "",
           "title": {
            "standoff": 15
           },
           "zerolinecolor": "white",
           "zerolinewidth": 2
          }
         }
        },
        "title": {
         "text": "Parallel Coordinate Plot"
        }
       }
      }
     },
     "metadata": {},
     "output_type": "display_data"
    }
   ],
   "source": [
    "optuna.visualization.plot_parallel_coordinate(study)"
   ]
  },
  {
   "cell_type": "code",
   "execution_count": 203,
   "id": "1d419df8",
   "metadata": {},
   "outputs": [
    {
     "name": "stdout",
     "output_type": "stream",
     "text": [
      "Best trial: {'n_estimators': 951, 'max_depth': 17, 'num_leaves': 11, 'min_child_samples': 10, 'num_iterations': 716}\n"
     ]
    },
    {
     "data": {
      "text/plain": [
       "951"
      ]
     },
     "execution_count": 203,
     "metadata": {},
     "output_type": "execute_result"
    }
   ],
   "source": [
    "print(\"Best trial:\", study.best_trial.params)\n",
    "study.best_trial.params[\"n_estimators\"]"
   ]
  },
  {
   "cell_type": "code",
   "execution_count": 204,
   "id": "ffefef6c",
   "metadata": {},
   "outputs": [
    {
     "data": {
      "text/html": [
       "<style>#sk-container-id-11 {color: black;background-color: white;}#sk-container-id-11 pre{padding: 0;}#sk-container-id-11 div.sk-toggleable {background-color: white;}#sk-container-id-11 label.sk-toggleable__label {cursor: pointer;display: block;width: 100%;margin-bottom: 0;padding: 0.3em;box-sizing: border-box;text-align: center;}#sk-container-id-11 label.sk-toggleable__label-arrow:before {content: \"▸\";float: left;margin-right: 0.25em;color: #696969;}#sk-container-id-11 label.sk-toggleable__label-arrow:hover:before {color: black;}#sk-container-id-11 div.sk-estimator:hover label.sk-toggleable__label-arrow:before {color: black;}#sk-container-id-11 div.sk-toggleable__content {max-height: 0;max-width: 0;overflow: hidden;text-align: left;background-color: #f0f8ff;}#sk-container-id-11 div.sk-toggleable__content pre {margin: 0.2em;color: black;border-radius: 0.25em;background-color: #f0f8ff;}#sk-container-id-11 input.sk-toggleable__control:checked~div.sk-toggleable__content {max-height: 200px;max-width: 100%;overflow: auto;}#sk-container-id-11 input.sk-toggleable__control:checked~label.sk-toggleable__label-arrow:before {content: \"▾\";}#sk-container-id-11 div.sk-estimator input.sk-toggleable__control:checked~label.sk-toggleable__label {background-color: #d4ebff;}#sk-container-id-11 div.sk-label input.sk-toggleable__control:checked~label.sk-toggleable__label {background-color: #d4ebff;}#sk-container-id-11 input.sk-hidden--visually {border: 0;clip: rect(1px 1px 1px 1px);clip: rect(1px, 1px, 1px, 1px);height: 1px;margin: -1px;overflow: hidden;padding: 0;position: absolute;width: 1px;}#sk-container-id-11 div.sk-estimator {font-family: monospace;background-color: #f0f8ff;border: 1px dotted black;border-radius: 0.25em;box-sizing: border-box;margin-bottom: 0.5em;}#sk-container-id-11 div.sk-estimator:hover {background-color: #d4ebff;}#sk-container-id-11 div.sk-parallel-item::after {content: \"\";width: 100%;border-bottom: 1px solid gray;flex-grow: 1;}#sk-container-id-11 div.sk-label:hover label.sk-toggleable__label {background-color: #d4ebff;}#sk-container-id-11 div.sk-serial::before {content: \"\";position: absolute;border-left: 1px solid gray;box-sizing: border-box;top: 0;bottom: 0;left: 50%;z-index: 0;}#sk-container-id-11 div.sk-serial {display: flex;flex-direction: column;align-items: center;background-color: white;padding-right: 0.2em;padding-left: 0.2em;position: relative;}#sk-container-id-11 div.sk-item {position: relative;z-index: 1;}#sk-container-id-11 div.sk-parallel {display: flex;align-items: stretch;justify-content: center;background-color: white;position: relative;}#sk-container-id-11 div.sk-item::before, #sk-container-id-11 div.sk-parallel-item::before {content: \"\";position: absolute;border-left: 1px solid gray;box-sizing: border-box;top: 0;bottom: 0;left: 50%;z-index: -1;}#sk-container-id-11 div.sk-parallel-item {display: flex;flex-direction: column;z-index: 1;position: relative;background-color: white;}#sk-container-id-11 div.sk-parallel-item:first-child::after {align-self: flex-end;width: 50%;}#sk-container-id-11 div.sk-parallel-item:last-child::after {align-self: flex-start;width: 50%;}#sk-container-id-11 div.sk-parallel-item:only-child::after {width: 0;}#sk-container-id-11 div.sk-dashed-wrapped {border: 1px dashed gray;margin: 0 0.4em 0.5em 0.4em;box-sizing: border-box;padding-bottom: 0.4em;background-color: white;}#sk-container-id-11 div.sk-label label {font-family: monospace;font-weight: bold;display: inline-block;line-height: 1.2em;}#sk-container-id-11 div.sk-label-container {text-align: center;}#sk-container-id-11 div.sk-container {/* jupyter's `normalize.less` sets `[hidden] { display: none; }` but bootstrap.min.css set `[hidden] { display: none !important; }` so we also need the `!important` here to be able to override the default hidden behavior on the sphinx rendered scikit-learn.org. See: https://github.com/scikit-learn/scikit-learn/issues/21755 */display: inline-block !important;position: relative;}#sk-container-id-11 div.sk-text-repr-fallback {display: none;}</style><div id=\"sk-container-id-11\" class=\"sk-top-container\"><div class=\"sk-text-repr-fallback\"><pre>LGBMRegressor(max_depth=17, min_child_samples=10, n_estimators=951,\n",
       "              num_iterations=716, num_leaves=11, random_state=42)</pre><b>In a Jupyter environment, please rerun this cell to show the HTML representation or trust the notebook. <br />On GitHub, the HTML representation is unable to render, please try loading this page with nbviewer.org.</b></div><div class=\"sk-container\" hidden><div class=\"sk-item\"><div class=\"sk-estimator sk-toggleable\"><input class=\"sk-toggleable__control sk-hidden--visually\" id=\"sk-estimator-id-11\" type=\"checkbox\" checked><label for=\"sk-estimator-id-11\" class=\"sk-toggleable__label sk-toggleable__label-arrow\">LGBMRegressor</label><div class=\"sk-toggleable__content\"><pre>LGBMRegressor(max_depth=17, min_child_samples=10, n_estimators=951,\n",
       "              num_iterations=716, num_leaves=11, random_state=42)</pre></div></div></div></div></div>"
      ],
      "text/plain": [
       "LGBMRegressor(max_depth=17, min_child_samples=10, n_estimators=951,\n",
       "              num_iterations=716, num_leaves=11, random_state=42)"
      ]
     },
     "execution_count": 204,
     "metadata": {},
     "output_type": "execute_result"
    }
   ],
   "source": [
    "lgbm_params = {\n",
    "    \"random_state\": 42,\n",
    "    \"learning_rate\": 0.1,\n",
    "    \"n_estimators\": study.best_trial.params[\"n_estimators\"],\n",
    "    \"max_depth\": study.best_trial.params[\"max_depth\"],\n",
    "    \"num_leaves\": study.best_trial.params[\"num_leaves\"],\n",
    "    \"min_child_samples\": study.best_trial.params[\"min_child_samples\"],\n",
    "    \"num_iterations\": study.best_trial.params[\"num_iterations\"]\n",
    "}\n",
    "\n",
    "lgbm = LGBMRegressor(**lgbm_params)\n",
    "lgbm.fit(Ni_X_train, Ni_y_train)"
   ]
  },
  {
   "cell_type": "code",
   "execution_count": 205,
   "id": "4c1a69d2",
   "metadata": {},
   "outputs": [],
   "source": [
    "y_train_pred = lgbm.predict(Ni_X_train)\n",
    "y_test_pred = lgbm.predict(Ni_X_test)"
   ]
  },
  {
   "cell_type": "code",
   "execution_count": 206,
   "id": "0f707a20",
   "metadata": {},
   "outputs": [
    {
     "name": "stdout",
     "output_type": "stream",
     "text": [
      "Train RMSE:  0.11209746703429181\n",
      "Test RMSE:  0.5550780639891302\n"
     ]
    }
   ],
   "source": [
    "print(\"Train RMSE: \", np.sqrt(mean_squared_error(Ni_y_train, y_train_pred)))\n",
    "print(\"Test RMSE: \", np.sqrt(mean_squared_error(Ni_y_test, y_test_pred)))"
   ]
  },
  {
   "cell_type": "code",
   "execution_count": 207,
   "id": "641d78f4",
   "metadata": {},
   "outputs": [
    {
     "name": "stdout",
     "output_type": "stream",
     "text": [
      "Train R2:  0.9915621940017411\n",
      "Test R2:  0.7841244786523676\n"
     ]
    }
   ],
   "source": [
    "print(\"Train R2: \", r2_score(Ni_y_train, y_train_pred))\n",
    "print(\"Test R2: \", r2_score(Ni_y_test, y_test_pred))"
   ]
  },
  {
   "cell_type": "code",
   "execution_count": 208,
   "id": "badc2f1d",
   "metadata": {},
   "outputs": [
    {
     "data": {
      "image/png": "[encoded data removed]",
      "text/plain": [
       "<Figure size 432x288 with 1 Axes>"
      ]
     },
     "metadata": {
      "needs_background": "light"
     },
     "output_type": "display_data"
    }
   ],
   "source": [
    "plt.scatter(y_train_pred, np.array(Ni_y_train), color=\"orange\", alpha=0.3)\n",
    "plt.scatter(y_test_pred, np.array(Ni_y_test), color=\"green\", alpha=0.4)\n",
    "plt.axis(\"auto\") # scaled, tight, auto, image, square\n",
    "# plt.xlim([0, 1.5]) \n",
    "# plt.ylim(0, None) \n",
    "plt.xlabel('Predicted Values')\n",
    "plt.ylabel('Actual Values')\n",
    "\n",
    "# Add y=x line\n",
    "plt.plot([0, 4.0], [0, 4.0], color='red', linestyle='-')\n",
    "\n",
    "plt.show()"
   ]
  }
 ],
 "metadata": {
  "kernelspec": {
   "display_name": "Python 3",
   "language": "python",
   "name": "python3"
  },
  "language_info": {
   "codemirror_mode": {
    "name": "ipython",
    "version": 3
   },
   "file_extension": ".py",
   "mimetype": "text/x-python",
   "name": "python",
   "nbconvert_exporter": "python",
   "pygments_lexer": "ipython3",
   "version": "3.8.11"
  }
 },
 "nbformat": 4,
 "nbformat_minor": 5
}
