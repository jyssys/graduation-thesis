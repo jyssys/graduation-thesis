{
 "cells": [
  {
   "attachments": {},
   "cell_type": "markdown",
   "id": "451911be",
   "metadata": {},
   "source": [
    "#### Library import"
   ]
  },
  {
   "cell_type": "code",
   "execution_count": 1,
   "id": "8a394942",
   "metadata": {},
   "outputs": [],
   "source": [
    "import os\n",
    "import pandas as pd\n",
    "import numpy as np\n",
    "import matplotlib.pyplot as plt\n",
    "%matplotlib inline\n",
    "import seaborn as sns\n",
    "import tensorflow as tf\n",
    "import missingno as msno\n",
    "\n",
    "import warnings\n",
    "warnings.filterwarnings('ignore')\n",
    "\n",
    "from sklearn.model_selection import train_test_split\n",
    "from sklearn.model_selection import GridSearchCV\n",
    "from sklearn.metrics import mean_squared_error, r2_score\n",
    "from sklearn.preprocessing import StandardScaler, MinMaxScaler, RobustScaler\n",
    "from sklearn.ensemble import RandomForestRegressor, GradientBoostingRegressor, ExtraTreesRegressor\n",
    "from sklearn.model_selection import KFold\n",
    "from lightgbm import LGBMRegressor\n",
    "from xgboost import XGBRegressor\n",
    "from ngboost import NGBRegressor\n",
    "from scipy.stats import norm, skew\n",
    "\n",
    "from matplotlib.ticker import FormatStrFormatter\n",
    "\n",
    "import re\n",
    "from tqdm import tqdm"
   ]
  },
  {
   "attachments": {},
   "cell_type": "markdown",
   "id": "31a13d68",
   "metadata": {},
   "source": [
    "#### GPU setting"
   ]
  },
  {
   "cell_type": "code",
   "execution_count": 2,
   "id": "0ff69fbf",
   "metadata": {},
   "outputs": [],
   "source": [
    "from tensorflow.compat.v1 import ConfigProto\n",
    "from tensorflow.compat.v1 import InteractiveSession"
   ]
  },
  {
   "cell_type": "code",
   "execution_count": 3,
   "id": "1c359e17",
   "metadata": {},
   "outputs": [],
   "source": [
    "config = ConfigProto()\n",
    "config.gpu_options.per_process_gpu_memory_fraction = 0.4\n",
    "session = InteractiveSession(config = config)"
   ]
  },
  {
   "cell_type": "code",
   "execution_count": 4,
   "id": "c1894e3b",
   "metadata": {},
   "outputs": [
    {
     "name": "stdout",
     "output_type": "stream",
     "text": [
      "[name: \"/device:CPU:0\"\n",
      "device_type: \"CPU\"\n",
      "memory_limit: 268435456\n",
      "locality {\n",
      "}\n",
      "incarnation: 5321737719463193824\n",
      ", name: \"/device:GPU:0\"\n",
      "device_type: \"GPU\"\n",
      "memory_limit: 3435973836\n",
      "locality {\n",
      "  bus_id: 1\n",
      "  links {\n",
      "  }\n",
      "}\n",
      "incarnation: 278156403023772941\n",
      "physical_device_desc: \"device: 0, name: NVIDIA GeForce RTX 3060 Ti, pci bus id: 0000:07:00.0, compute capability: 8.6\"\n",
      "]\n"
     ]
    }
   ],
   "source": [
    "physical_devices = tf.config.list_physical_devices('GPU')\n",
    "physical_devices\n",
    "\n",
    "from tensorflow.python.client import device_lib\n",
    "\n",
    "print(device_lib.list_local_devices())"
   ]
  },
  {
   "cell_type": "code",
   "execution_count": 5,
   "id": "324427e4",
   "metadata": {},
   "outputs": [],
   "source": [
    "import os\n",
    "\n",
    "os.environ[\"CUDA_VISIBLE_DEVICES\"]=\"0\"\n",
    "gpus = tf.config.experimental.list_physical_devices('GPU')\n",
    "if gpus:\n",
    "    try:\n",
    "        tf.config.experimental.set_memory_growth(gpus[0], True)\n",
    "    except RuntimeError as e:\n",
    "        print(e)"
   ]
  },
  {
   "attachments": {},
   "cell_type": "markdown",
   "id": "cb740f81",
   "metadata": {},
   "source": [
    "#### Data import and preprocessing"
   ]
  },
  {
   "cell_type": "code",
   "execution_count": 6,
   "id": "9288345d",
   "metadata": {
    "scrolled": true
   },
   "outputs": [
    {
     "data": {
      "text/plain": [
       "Index(['OBJECTID_x', 'ID', 'pH', 'As', 'Cd', 'Ni', 'Pb', 'Zn', 'Hg', 'slope',\n",
       "       'altitude', 'profile_curve', 'profile_c_num', 'profile_c_abs',\n",
       "       'planform_curve', 'planform_c_num', 'planform_c_abs', 'HYDGRP',\n",
       "       'HYDGRP_A', 'HYDGRP_B', 'HYDGRP_C', 'HYDGRP_D', 'ANION_EXCL', 'SOL_CRK',\n",
       "       'SOL_K1', 'CLAY1', 'SILT1', 'SAND1', 'ROCK1', 'SOL_EC1', 'distance'],\n",
       "      dtype='object')"
      ]
     },
     "execution_count": 6,
     "metadata": {},
     "output_type": "execute_result"
    }
   ],
   "source": [
    "data = pd.read_csv(\"data/data.csv\")\n",
    "data.columns"
   ]
  },
  {
   "cell_type": "code",
   "execution_count": 7,
   "id": "bbf87a23",
   "metadata": {},
   "outputs": [
    {
     "data": {
      "text/plain": [
       "Index(['pH', 'As', 'Cd', 'Ni', 'Pb', 'Zn', 'Hg', 'slope', 'altitude',\n",
       "       'profile_curve', 'planform_curve', 'HYDGRP_A', 'HYDGRP_B', 'HYDGRP_C',\n",
       "       'HYDGRP_D', 'SOL_K1', 'CLAY1', 'SILT1', 'SAND1', 'ROCK1', 'distance'],\n",
       "      dtype='object')"
      ]
     },
     "execution_count": 7,
     "metadata": {},
     "output_type": "execute_result"
    }
   ],
   "source": [
    "data = data.drop(['OBJECTID_x','ID','HYDGRP','profile_c_num', 'profile_c_abs','planform_c_num', 'planform_c_abs','ANION_EXCL','SOL_CRK','SOL_EC1'], axis = 1)\n",
    "data.columns"
   ]
  },
  {
   "cell_type": "code",
   "execution_count": 8,
   "id": "8d9bad18",
   "metadata": {},
   "outputs": [],
   "source": [
    "As = data\n",
    "Cd = data\n",
    "Ni = data"
   ]
  },
  {
   "cell_type": "code",
   "execution_count": 9,
   "id": "b1dbe457",
   "metadata": {},
   "outputs": [],
   "source": [
    "As = As.drop([\"Cd\", \"Ni\", \"Pb\", \"Zn\", \"Hg\"], axis = 1)\n",
    "Cd = Cd.drop([\"As\", \"Ni\", \"Pb\", \"Zn\", \"Hg\"], axis = 1)\n",
    "Ni = Ni.drop([\"As\", \"Cd\", \"Pb\", \"Zn\", \"Hg\"], axis = 1)"
   ]
  },
  {
   "cell_type": "code",
   "execution_count": 10,
   "id": "3077737a",
   "metadata": {},
   "outputs": [
    {
     "name": "stdout",
     "output_type": "stream",
     "text": [
      "(1458, 16)\n",
      "(1458, 16)\n",
      "(1458, 16)\n"
     ]
    }
   ],
   "source": [
    "print(As.shape)\n",
    "print(Cd.shape)\n",
    "print(Ni.shape)"
   ]
  },
  {
   "cell_type": "markdown",
   "id": "89adead2",
   "metadata": {},
   "source": [
    "#### Oversampling by SMOGN (SMOTE Regression)"
   ]
  },
  {
   "cell_type": "code",
   "execution_count": 11,
   "id": "d0a159ca",
   "metadata": {},
   "outputs": [],
   "source": [
    "import smogn"
   ]
  },
  {
   "cell_type": "code",
   "execution_count": 12,
   "id": "d5fd8af3",
   "metadata": {},
   "outputs": [
    {
     "name": "stderr",
     "output_type": "stream",
     "text": [
      "dist_matrix: 100%|##########| 248/248 [00:22<00:00, 10.81it/s]\n",
      "synth_matrix: 100%|##########| 248/248 [00:01<00:00, 217.88it/s]\n",
      "r_index: 100%|##########| 223/223 [00:00<00:00, 655.74it/s]\n",
      "dist_matrix: 100%|##########| 259/259 [00:24<00:00, 10.43it/s]\n",
      "synth_matrix: 100%|##########| 259/259 [00:01<00:00, 220.38it/s]\n",
      "r_index: 100%|##########| 155/155 [00:00<00:00, 662.25it/s]\n",
      "dist_matrix: 100%|##########| 242/242 [00:21<00:00, 11.10it/s]\n",
      "synth_matrix: 100%|##########| 242/242 [00:01<00:00, 165.94it/s]\n"
     ]
    }
   ],
   "source": [
    "As_smogn = smogn.smoter(data = As, y = 'As', samp_method = 'extreme')\n",
    "Cd_smogn = smogn.smoter(data = Cd, y = 'Cd', samp_method = 'extreme')\n",
    "Ni_smogn = smogn.smoter(data = Ni, y = 'Ni', samp_method = 'extreme')"
   ]
  },
  {
   "cell_type": "code",
   "execution_count": 13,
   "id": "ea3035fe",
   "metadata": {},
   "outputs": [
    {
     "name": "stdout",
     "output_type": "stream",
     "text": [
      "(2183, 16)\n",
      "(2151, 16)\n",
      "(2183, 16)\n"
     ]
    }
   ],
   "source": [
    "print(As_smogn.shape)\n",
    "print(Cd_smogn.shape)\n",
    "print(Ni_smogn.shape)"
   ]
  },
  {
   "attachments": {},
   "cell_type": "markdown",
   "id": "ed72a9b1",
   "metadata": {},
   "source": [
    "#### Eliminate outlier and train / test split"
   ]
  },
  {
   "cell_type": "code",
   "execution_count": 14,
   "id": "43604a42",
   "metadata": {},
   "outputs": [],
   "source": [
    "def eli_outlier(data, value):\n",
    "    q1 = data[value].quantile(0.25)\n",
    "    q3 = data[value].quantile(0.75)\n",
    "\n",
    "    iqr = q3 - q1\n",
    "\n",
    "    q1_condition = data[value] < q1-1.5*iqr\n",
    "    q3_condition = data[value] > q3+1.5*iqr\n",
    "\n",
    "    reset_q1_index = data[q1_condition].index\n",
    "    reset_q3_index = data[q3_condition].index\n",
    "\n",
    "    data.drop(reset_q1_index, inplace = True)\n",
    "    data.drop(reset_q3_index, inplace = True)\n",
    "\n",
    "    return data"
   ]
  },
  {
   "cell_type": "code",
   "execution_count": 15,
   "id": "9b7632f2",
   "metadata": {},
   "outputs": [],
   "source": [
    "As_ros = eli_outlier(As_smogn, \"As\")\n",
    "Cd_ros = eli_outlier(Cd_smogn, \"Cd\")\n",
    "Ni_ros = eli_outlier(Ni_smogn, \"Ni\")"
   ]
  },
  {
   "cell_type": "code",
   "execution_count": 16,
   "id": "c05c01a2",
   "metadata": {},
   "outputs": [],
   "source": [
    "As_X = As_ros.drop([\"As\"], axis=1)\n",
    "Cd_X = Cd_ros.drop([\"Cd\"], axis=1)\n",
    "Ni_X = Ni_ros.drop([\"Ni\"], axis=1)\n",
    "\n",
    "As_y = As_ros[\"As\"]\n",
    "Cd_y = Cd_ros[\"Cd\"]\n",
    "Ni_y = Ni_ros[\"Ni\"]"
   ]
  },
  {
   "cell_type": "code",
   "execution_count": 17,
   "id": "7237a19a",
   "metadata": {},
   "outputs": [],
   "source": [
    "As_y = np.log1p(As_ros[\"As\"])\n",
    "Cd_y = np.log1p(Cd_ros[\"Cd\"])\n",
    "Ni_y = np.log1p(Ni_ros[\"Ni\"])"
   ]
  },
  {
   "cell_type": "code",
   "execution_count": 18,
   "id": "9b2b0920",
   "metadata": {},
   "outputs": [
    {
     "name": "stdout",
     "output_type": "stream",
     "text": [
      "(1651, 15)\n",
      "(1728, 15)\n",
      "(2073, 15)\n"
     ]
    }
   ],
   "source": [
    "print(As_X.shape)\n",
    "print(Cd_X.shape)\n",
    "print(Ni_X.shape)"
   ]
  },
  {
   "attachments": {},
   "cell_type": "markdown",
   "id": "c92e5bb6",
   "metadata": {},
   "source": [
    "StandardScaler"
   ]
  },
  {
   "cell_type": "code",
   "execution_count": 19,
   "id": "0c82a483",
   "metadata": {},
   "outputs": [],
   "source": [
    "from sklearn.preprocessing import StandardScaler\n",
    "\n",
    "scaler = StandardScaler()\n",
    "\n",
    "As_X_train, As_X_test, As_y_train, As_y_test = train_test_split(As_X, As_y, test_size=0.2, random_state=42)\n",
    "Cd_X_train, Cd_X_test, Cd_y_train, Cd_y_test = train_test_split(Cd_X, Cd_y, test_size=0.2, random_state=42)\n",
    "Ni_X_train, Ni_X_test, Ni_y_train, Ni_y_test = train_test_split(Ni_X, Ni_y, test_size=0.2, random_state=42)\n",
    "\n",
    "As_X_train = scaler.fit_transform(As_X_train)\n",
    "As_X_test = scaler.fit_transform(As_X_test)\n",
    "\n",
    "Cd_X_train = scaler.fit_transform(Cd_X_train)\n",
    "Cd_X_test = scaler.fit_transform(Cd_X_test)\n",
    "\n",
    "Ni_X_train = scaler.fit_transform(Ni_X_train)\n",
    "Ni_X_test = scaler.fit_transform(Ni_X_test)"
   ]
  },
  {
   "cell_type": "code",
   "execution_count": 20,
   "id": "416a7027",
   "metadata": {},
   "outputs": [
    {
     "data": {
      "text/plain": [
       "' from sklearn.preprocessing import StandardScaler\\n\\nscaler = StandardScaler()\\nAs_X_scaled = scaler.fit_transform(As_X)\\nCd_X_scaled = scaler.fit_transform(Cd_X)\\nNi_X_scaled = scaler.fit_transform(Ni_X)\\n\\nAs_X_train, As_X_test, As_y_train, As_y_test = train_test_split(As_X_scaled, As_y, test_size=0.3, random_state=42)\\nCd_X_train, Cd_X_test, Cd_y_train, Cd_y_test = train_test_split(Cd_X_scaled, Cd_y, test_size=0.3, random_state=42)\\nNi_X_train, Ni_X_test, Ni_y_train, Ni_y_test = train_test_split(Ni_X_scaled, Ni_y, test_size=0.3, random_state=42) '"
      ]
     },
     "execution_count": 20,
     "metadata": {},
     "output_type": "execute_result"
    }
   ],
   "source": [
    "''' from sklearn.preprocessing import StandardScaler\n",
    "\n",
    "scaler = StandardScaler()\n",
    "As_X_scaled = scaler.fit_transform(As_X)\n",
    "Cd_X_scaled = scaler.fit_transform(Cd_X)\n",
    "Ni_X_scaled = scaler.fit_transform(Ni_X)\n",
    "\n",
    "As_X_train, As_X_test, As_y_train, As_y_test = train_test_split(As_X_scaled, As_y, test_size=0.3, random_state=42)\n",
    "Cd_X_train, Cd_X_test, Cd_y_train, Cd_y_test = train_test_split(Cd_X_scaled, Cd_y, test_size=0.3, random_state=42)\n",
    "Ni_X_train, Ni_X_test, Ni_y_train, Ni_y_test = train_test_split(Ni_X_scaled, Ni_y, test_size=0.3, random_state=42) '''"
   ]
  },
  {
   "attachments": {},
   "cell_type": "markdown",
   "id": "2fe0d293",
   "metadata": {},
   "source": [
    "MinMaxScaler"
   ]
  },
  {
   "cell_type": "code",
   "execution_count": 21,
   "id": "e8596f9f",
   "metadata": {},
   "outputs": [],
   "source": [
    "# from sklearn.preprocessing import MinMaxScaler\n",
    "\n",
    "# scaler = MinMaxScaler()\n",
    "# As_X_scaled = scaler.fit_transform(As_X)\n",
    "# Cd_X_scaled = scaler.fit_transform(Cd_X)\n",
    "# Ni_X_scaled = scaler.fit_transform(Ni_X)\n",
    "\n",
    "# As_X_train, As_X_test, As_y_train, As_y_test = train_test_split(As_X_scaled, As_y, test_size=0.2, random_state=42)\n",
    "# Cd_X_train, Cd_X_test, Cd_y_train, Cd_y_test = train_test_split(Cd_X_scaled, Cd_y, test_size=0.2, random_state=42)\n",
    "# Ni_X_train, Ni_X_test, Ni_y_train, Ni_y_test = train_test_split(Ni_X_scaled, Ni_y, test_size=0.2, random_state=42)"
   ]
  },
  {
   "cell_type": "code",
   "execution_count": 22,
   "id": "c6cad4b1",
   "metadata": {},
   "outputs": [
    {
     "name": "stdout",
     "output_type": "stream",
     "text": [
      "(1320, 15)\n",
      "(1382, 15)\n",
      "(1658, 15)\n"
     ]
    }
   ],
   "source": [
    "print(As_X_train.shape)\n",
    "print(Cd_X_train.shape)\n",
    "print(Ni_X_train.shape)"
   ]
  },
  {
   "attachments": {},
   "cell_type": "markdown",
   "id": "bd11b27e",
   "metadata": {},
   "source": [
    "#### 10-Fold Crossvalidation"
   ]
  },
  {
   "cell_type": "code",
   "execution_count": 23,
   "id": "7a765916",
   "metadata": {},
   "outputs": [],
   "source": [
    "kf = KFold(n_splits = 5, random_state = 42, shuffle = True)"
   ]
  },
  {
   "attachments": {},
   "cell_type": "markdown",
   "id": "859638d0",
   "metadata": {},
   "source": [
    "#### Optuna Optimization"
   ]
  },
  {
   "cell_type": "code",
   "execution_count": 24,
   "id": "92a47d83",
   "metadata": {},
   "outputs": [],
   "source": [
    "import optuna\n",
    "\n",
    "from optuna import Trial\n",
    "from optuna.samplers import TPESampler"
   ]
  },
  {
   "cell_type": "code",
   "execution_count": 25,
   "id": "a7669fea",
   "metadata": {},
   "outputs": [],
   "source": [
    "from sklearn.model_selection import cross_val_score\n",
    "\n",
    "def objectiveLGBM(trial: Trial, X_train, y_train) -> float:\n",
    "    lgbm_paramas = {\n",
    "        \"random_state\": 42,\n",
    "        \"learning_rate\": 0.1, \n",
    "        \"n_estimators\": trial.suggest_int(\"n_estimators\", 500, 1000),\n",
    "        \"max_depth\": trial.suggest_int(\"max_depth\", 1, 30),\n",
    "        \"num_leaves\": trial.suggest_int(\"num_leaves\", 2, 32),\n",
    "        \"min_child_samples\": trial.suggest_int(\"min_child_samples\", 1, 10),\n",
    "        \"num_iterations\": trial.suggest_int(\"num_iterations\", 500, 1000)\n",
    "    }\n",
    "    \n",
    "    lgbm = LGBMRegressor(**lgbm_paramas)\n",
    "    r2 = cross_val_score(lgbm, X_train, y_train, scoring = \"r2\", cv = kf)\n",
    "    r2 = r2.mean()\n",
    "    \n",
    "    return r2"
   ]
  },
  {
   "attachments": {},
   "cell_type": "markdown",
   "id": "b0988f46",
   "metadata": {},
   "source": [
    "####  Optimization"
   ]
  },
  {
   "cell_type": "code",
   "execution_count": 26,
   "id": "94f5e00d",
   "metadata": {
    "scrolled": false
   },
   "outputs": [
    {
     "name": "stderr",
     "output_type": "stream",
     "text": [
      "\u001b[32m[I 2023-08-24 13:06:22,317]\u001b[0m A new study created in memory with name: lgbm_parameter_opt\u001b[0m\n",
      "\u001b[32m[I 2023-08-24 13:06:22,936]\u001b[0m Trial 0 finished with value: 0.5808040634976208 and parameters: {'n_estimators': 620, 'max_depth': 2, 'num_leaves': 3, 'min_child_samples': 5, 'num_iterations': 858}. Best is trial 0 with value: 0.5808040634976208.\u001b[0m\n",
      "\u001b[32m[I 2023-08-24 13:06:23,645]\u001b[0m Trial 1 finished with value: 0.6135785871058044 and parameters: {'n_estimators': 954, 'max_depth': 3, 'num_leaves': 28, 'min_child_samples': 6, 'num_iterations': 626}. Best is trial 1 with value: 0.6135785871058044.\u001b[0m\n",
      "\u001b[32m[I 2023-08-24 13:06:27,886]\u001b[0m Trial 2 finished with value: 0.6266842404945085 and parameters: {'n_estimators': 775, 'max_depth': 24, 'num_leaves': 30, 'min_child_samples': 9, 'num_iterations': 986}. Best is trial 2 with value: 0.6266842404945085.\u001b[0m\n",
      "\u001b[32m[I 2023-08-24 13:06:32,100]\u001b[0m Trial 3 finished with value: 0.633230421557239 and parameters: {'n_estimators': 560, 'max_depth': 19, 'num_leaves': 27, 'min_child_samples': 4, 'num_iterations': 985}. Best is trial 3 with value: 0.633230421557239.\u001b[0m\n",
      "\u001b[32m[I 2023-08-24 13:06:34,244]\u001b[0m Trial 4 finished with value: 0.6307495284371264 and parameters: {'n_estimators': 621, 'max_depth': 23, 'num_leaves': 21, 'min_child_samples': 10, 'num_iterations': 726}. Best is trial 3 with value: 0.633230421557239.\u001b[0m\n",
      "\u001b[32m[I 2023-08-24 13:06:35,379]\u001b[0m Trial 5 finished with value: 0.6176978695019372 and parameters: {'n_estimators': 754, 'max_depth': 8, 'num_leaves': 7, 'min_child_samples': 5, 'num_iterations': 955}. Best is trial 3 with value: 0.633230421557239.\u001b[0m\n",
      "\u001b[32m[I 2023-08-24 13:06:37,331]\u001b[0m Trial 6 finished with value: 0.6272188250292062 and parameters: {'n_estimators': 817, 'max_depth': 8, 'num_leaves': 26, 'min_child_samples': 2, 'num_iterations': 501}. Best is trial 3 with value: 0.633230421557239.\u001b[0m\n",
      "\u001b[32m[I 2023-08-24 13:06:39,687]\u001b[0m Trial 7 finished with value: 0.6328209019838358 and parameters: {'n_estimators': 598, 'max_depth': 16, 'num_leaves': 14, 'min_child_samples': 1, 'num_iterations': 994}. Best is trial 3 with value: 0.633230421557239.\u001b[0m\n",
      "\u001b[32m[I 2023-08-24 13:06:41,837]\u001b[0m Trial 8 finished with value: 0.6295523992325259 and parameters: {'n_estimators': 688, 'max_depth': 26, 'num_leaves': 25, 'min_child_samples': 10, 'num_iterations': 588}. Best is trial 3 with value: 0.633230421557239.\u001b[0m\n",
      "\u001b[32m[I 2023-08-24 13:06:43,058]\u001b[0m Trial 9 finished with value: 0.619596316396946 and parameters: {'n_estimators': 762, 'max_depth': 18, 'num_leaves': 15, 'min_child_samples': 8, 'num_iterations': 544}. Best is trial 3 with value: 0.633230421557239.\u001b[0m\n",
      "\u001b[32m[I 2023-08-24 13:06:47,018]\u001b[0m Trial 10 finished with value: 0.6254573467786346 and parameters: {'n_estimators': 504, 'max_depth': 30, 'num_leaves': 32, 'min_child_samples': 3, 'num_iterations': 837}. Best is trial 3 with value: 0.633230421557239.\u001b[0m\n",
      "\u001b[32m[I 2023-08-24 13:06:49,101]\u001b[0m Trial 11 finished with value: 0.6332364054160448 and parameters: {'n_estimators': 507, 'max_depth': 16, 'num_leaves': 14, 'min_child_samples': 1, 'num_iterations': 874}. Best is trial 11 with value: 0.6332364054160448.\u001b[0m\n",
      "\u001b[32m[I 2023-08-24 13:06:50,751]\u001b[0m Trial 12 finished with value: 0.6270488136394385 and parameters: {'n_estimators': 506, 'max_depth': 11, 'num_leaves': 11, 'min_child_samples': 3, 'num_iterations': 884}. Best is trial 11 with value: 0.6332364054160448.\u001b[0m\n",
      "\u001b[32m[I 2023-08-24 13:06:53,265]\u001b[0m Trial 13 finished with value: 0.6320621072387281 and parameters: {'n_estimators': 577, 'max_depth': 20, 'num_leaves': 20, 'min_child_samples': 1, 'num_iterations': 780}. Best is trial 11 with value: 0.6332364054160448.\u001b[0m\n",
      "\u001b[32m[I 2023-08-24 13:06:56,165]\u001b[0m Trial 14 finished with value: 0.6304449405428428 and parameters: {'n_estimators': 882, 'max_depth': 13, 'num_leaves': 21, 'min_child_samples': 4, 'num_iterations': 925}. Best is trial 11 with value: 0.6332364054160448.\u001b[0m\n",
      "\u001b[32m[I 2023-08-24 13:06:57,409]\u001b[0m Trial 15 finished with value: 0.6323850765537092 and parameters: {'n_estimators': 680, 'max_depth': 20, 'num_leaves': 10, 'min_child_samples': 6, 'num_iterations': 757}. Best is trial 11 with value: 0.6332364054160448.\u001b[0m\n",
      "\u001b[32m[I 2023-08-24 13:06:59,647]\u001b[0m Trial 16 finished with value: 0.6319243084708587 and parameters: {'n_estimators': 555, 'max_depth': 14, 'num_leaves': 17, 'min_child_samples': 7, 'num_iterations': 908}. Best is trial 11 with value: 0.6332364054160448.\u001b[0m\n",
      "\u001b[32m[I 2023-08-24 13:07:02,490]\u001b[0m Trial 17 finished with value: 0.6358416395377311 and parameters: {'n_estimators': 660, 'max_depth': 9, 'num_leaves': 24, 'min_child_samples': 3, 'num_iterations': 841}. Best is trial 17 with value: 0.6358416395377311.\u001b[0m\n",
      "\u001b[32m[I 2023-08-24 13:07:04,708]\u001b[0m Trial 18 finished with value: 0.6289391897619336 and parameters: {'n_estimators': 667, 'max_depth': 7, 'num_leaves': 22, 'min_child_samples': 2, 'num_iterations': 687}. Best is trial 17 with value: 0.6358416395377311.\u001b[0m\n",
      "\u001b[32m[I 2023-08-24 13:07:06,553]\u001b[0m Trial 19 finished with value: 0.6381470046177762 and parameters: {'n_estimators': 832, 'max_depth': 11, 'num_leaves': 13, 'min_child_samples': 2, 'num_iterations': 818}. Best is trial 19 with value: 0.6381470046177762.\u001b[0m\n",
      "\u001b[32m[I 2023-08-24 13:07:07,600]\u001b[0m Trial 20 finished with value: 0.622183301985544 and parameters: {'n_estimators': 863, 'max_depth': 10, 'num_leaves': 7, 'min_child_samples': 3, 'num_iterations': 811}. Best is trial 19 with value: 0.6381470046177762.\u001b[0m\n",
      "\u001b[32m[I 2023-08-24 13:07:09,169]\u001b[0m Trial 21 finished with value: 0.6340422075625731 and parameters: {'n_estimators': 975, 'max_depth': 6, 'num_leaves': 12, 'min_child_samples': 1, 'num_iterations': 797}. Best is trial 19 with value: 0.6381470046177762.\u001b[0m\n",
      "\u001b[32m[I 2023-08-24 13:07:10,366]\u001b[0m Trial 22 finished with value: 0.6202286015225796 and parameters: {'n_estimators': 982, 'max_depth': 5, 'num_leaves': 11, 'min_child_samples': 2, 'num_iterations': 693}. Best is trial 19 with value: 0.6381470046177762.\u001b[0m\n",
      "\u001b[32m[I 2023-08-24 13:07:12,251]\u001b[0m Trial 23 finished with value: 0.6262909449612595 and parameters: {'n_estimators': 921, 'max_depth': 5, 'num_leaves': 18, 'min_child_samples': 2, 'num_iterations': 797}. Best is trial 19 with value: 0.6381470046177762.\u001b[0m\n",
      "\u001b[32m[I 2023-08-24 13:07:13,426]\u001b[0m Trial 24 finished with value: 0.6249391728909293 and parameters: {'n_estimators': 841, 'max_depth': 11, 'num_leaves': 8, 'min_child_samples': 4, 'num_iterations': 832}. Best is trial 19 with value: 0.6381470046177762.\u001b[0m\n",
      "\u001b[32m[I 2023-08-24 13:07:13,779]\u001b[0m Trial 25 finished with value: 0.4840194079212573 and parameters: {'n_estimators': 712, 'max_depth': 1, 'num_leaves': 24, 'min_child_samples': 1, 'num_iterations': 711}. Best is trial 19 with value: 0.6381470046177762.\u001b[0m\n",
      "\u001b[32m[I 2023-08-24 13:07:14,292]\u001b[0m Trial 26 finished with value: 0.5757360010351021 and parameters: {'n_estimators': 996, 'max_depth': 5, 'num_leaves': 3, 'min_child_samples': 3, 'num_iterations': 762}. Best is trial 19 with value: 0.6381470046177762.\u001b[0m\n",
      "\u001b[32m[I 2023-08-24 13:07:16,057]\u001b[0m Trial 27 finished with value: 0.6376504122601855 and parameters: {'n_estimators': 910, 'max_depth': 13, 'num_leaves': 17, 'min_child_samples': 2, 'num_iterations': 660}. Best is trial 19 with value: 0.6381470046177762.\u001b[0m\n",
      "\u001b[32m[I 2023-08-24 13:07:17,772]\u001b[0m Trial 28 finished with value: 0.6309698890326592 and parameters: {'n_estimators': 803, 'max_depth': 14, 'num_leaves': 17, 'min_child_samples': 4, 'num_iterations': 645}. Best is trial 19 with value: 0.6381470046177762.\u001b[0m\n",
      "\u001b[32m[I 2023-08-24 13:07:20,168]\u001b[0m Trial 29 finished with value: 0.6268595033504956 and parameters: {'n_estimators': 920, 'max_depth': 9, 'num_leaves': 19, 'min_child_samples': 5, 'num_iterations': 849}. Best is trial 19 with value: 0.6381470046177762.\u001b[0m\n",
      "\u001b[32m[I 2023-08-24 13:07:21,892]\u001b[0m Trial 30 finished with value: 0.6237681888523369 and parameters: {'n_estimators': 720, 'max_depth': 13, 'num_leaves': 16, 'min_child_samples': 2, 'num_iterations': 650}. Best is trial 19 with value: 0.6381470046177762.\u001b[0m\n",
      "\u001b[32m[I 2023-08-24 13:07:23,628]\u001b[0m Trial 31 finished with value: 0.6261493405937789 and parameters: {'n_estimators': 913, 'max_depth': 11, 'num_leaves': 12, 'min_child_samples': 1, 'num_iterations': 810}. Best is trial 19 with value: 0.6381470046177762.\u001b[0m\n",
      "\u001b[32m[I 2023-08-24 13:07:24,440]\u001b[0m Trial 32 finished with value: 0.607228726753019 and parameters: {'n_estimators': 959, 'max_depth': 3, 'num_leaves': 23, 'min_child_samples': 2, 'num_iterations': 734}. Best is trial 19 with value: 0.6381470046177762.\u001b[0m\n",
      "\u001b[32m[I 2023-08-24 13:07:26,059]\u001b[0m Trial 33 finished with value: 0.6360798723321939 and parameters: {'n_estimators': 887, 'max_depth': 6, 'num_leaves': 13, 'min_child_samples': 3, 'num_iterations': 778}. Best is trial 19 with value: 0.6381470046177762.\u001b[0m\n",
      "\u001b[32m[I 2023-08-24 13:07:28,687]\u001b[0m Trial 34 finished with value: 0.6327785238501434 and parameters: {'n_estimators': 885, 'max_depth': 12, 'num_leaves': 29, 'min_child_samples': 3, 'num_iterations': 609}. Best is trial 19 with value: 0.6381470046177762.\u001b[0m\n",
      "\u001b[32m[I 2023-08-24 13:07:30,143]\u001b[0m Trial 35 finished with value: 0.6339104522551335 and parameters: {'n_estimators': 822, 'max_depth': 9, 'num_leaves': 14, 'min_child_samples': 4, 'num_iterations': 677}. Best is trial 19 with value: 0.6381470046177762.\u001b[0m\n",
      "\u001b[32m[I 2023-08-24 13:07:30,872]\u001b[0m Trial 36 finished with value: 0.60476062494602 and parameters: {'n_estimators': 786, 'max_depth': 7, 'num_leaves': 5, 'min_child_samples': 6, 'num_iterations': 765}. Best is trial 19 with value: 0.6381470046177762.\u001b[0m\n",
      "\u001b[32m[I 2023-08-24 13:07:31,847]\u001b[0m Trial 37 finished with value: 0.6008265758620832 and parameters: {'n_estimators': 635, 'max_depth': 3, 'num_leaves': 9, 'min_child_samples': 5, 'num_iterations': 903}. Best is trial 19 with value: 0.6381470046177762.\u001b[0m\n",
      "\u001b[32m[I 2023-08-24 13:07:33,367]\u001b[0m Trial 38 finished with value: 0.633923776024611 and parameters: {'n_estimators': 842, 'max_depth': 9, 'num_leaves': 13, 'min_child_samples': 3, 'num_iterations': 731}. Best is trial 19 with value: 0.6381470046177762.\u001b[0m\n",
      "\u001b[32m[I 2023-08-24 13:07:37,297]\u001b[0m Trial 39 finished with value: 0.6261225863346868 and parameters: {'n_estimators': 936, 'max_depth': 15, 'num_leaves': 27, 'min_child_samples': 2, 'num_iterations': 952}. Best is trial 19 with value: 0.6381470046177762.\u001b[0m\n",
      "\u001b[32m[I 2023-08-24 13:07:39,704]\u001b[0m Trial 40 finished with value: 0.6352280814057746 and parameters: {'n_estimators': 888, 'max_depth': 17, 'num_leaves': 19, 'min_child_samples': 4, 'num_iterations': 865}. Best is trial 19 with value: 0.6381470046177762.\u001b[0m\n",
      "\u001b[32m[I 2023-08-24 13:07:42,174]\u001b[0m Trial 41 finished with value: 0.6352280814057746 and parameters: {'n_estimators': 876, 'max_depth': 17, 'num_leaves': 19, 'min_child_samples': 4, 'num_iterations': 865}. Best is trial 19 with value: 0.6381470046177762.\u001b[0m\n",
      "\u001b[32m[I 2023-08-24 13:07:44,259]\u001b[0m Trial 42 finished with value: 0.6340632952622473 and parameters: {'n_estimators': 857, 'max_depth': 12, 'num_leaves': 16, 'min_child_samples': 3, 'num_iterations': 817}. Best is trial 19 with value: 0.6381470046177762.\u001b[0m\n",
      "\u001b[32m[I 2023-08-24 13:07:46,212]\u001b[0m Trial 43 finished with value: 0.6347436962838617 and parameters: {'n_estimators': 908, 'max_depth': 23, 'num_leaves': 15, 'min_child_samples': 3, 'num_iterations': 845}. Best is trial 19 with value: 0.6381470046177762.\u001b[0m\n",
      "\u001b[32m[I 2023-08-24 13:07:47,950]\u001b[0m Trial 44 finished with value: 0.632734008822391 and parameters: {'n_estimators': 730, 'max_depth': 19, 'num_leaves': 21, 'min_child_samples': 5, 'num_iterations': 561}. Best is trial 19 with value: 0.6381470046177762.\u001b[0m\n",
      "\u001b[32m[I 2023-08-24 13:07:51,449]\u001b[0m Trial 45 finished with value: 0.6288708023825162 and parameters: {'n_estimators': 944, 'max_depth': 17, 'num_leaves': 25, 'min_child_samples': 2, 'num_iterations': 894}. Best is trial 19 with value: 0.6381470046177762.\u001b[0m\n",
      "\u001b[32m[I 2023-08-24 13:07:53,642]\u001b[0m Trial 46 finished with value: 0.6354216154678033 and parameters: {'n_estimators': 896, 'max_depth': 15, 'num_leaves': 19, 'min_child_samples': 4, 'num_iterations': 781}. Best is trial 19 with value: 0.6381470046177762.\u001b[0m\n",
      "\u001b[32m[I 2023-08-24 13:07:56,160]\u001b[0m Trial 47 finished with value: 0.6266748055549621 and parameters: {'n_estimators': 778, 'max_depth': 8, 'num_leaves': 23, 'min_child_samples': 3, 'num_iterations': 777}. Best is trial 19 with value: 0.6381470046177762.\u001b[0m\n",
      "\u001b[32m[I 2023-08-24 13:07:57,607]\u001b[0m Trial 48 finished with value: 0.6339081633373166 and parameters: {'n_estimators': 819, 'max_depth': 15, 'num_leaves': 13, 'min_child_samples': 9, 'num_iterations': 738}. Best is trial 19 with value: 0.6381470046177762.\u001b[0m\n",
      "\u001b[32m[I 2023-08-24 13:07:59,456]\u001b[0m Trial 49 finished with value: 0.6236314828619204 and parameters: {'n_estimators': 845, 'max_depth': 13, 'num_leaves': 16, 'min_child_samples': 2, 'num_iterations': 714}. Best is trial 19 with value: 0.6381470046177762.\u001b[0m\n",
      "\u001b[32m[I 2023-08-24 13:08:03,459]\u001b[0m Trial 50 finished with value: 0.6262058653215469 and parameters: {'n_estimators': 637, 'max_depth': 21, 'num_leaves': 32, 'min_child_samples': 4, 'num_iterations': 785}. Best is trial 19 with value: 0.6381470046177762.\u001b[0m\n",
      "\u001b[32m[I 2023-08-24 13:08:06,261]\u001b[0m Trial 51 finished with value: 0.641676708013652 and parameters: {'n_estimators': 891, 'max_depth': 10, 'num_leaves': 19, 'min_child_samples': 4, 'num_iterations': 833}. Best is trial 51 with value: 0.641676708013652.\u001b[0m\n",
      "\u001b[32m[I 2023-08-24 13:08:08,752]\u001b[0m Trial 52 finished with value: 0.6350817713736252 and parameters: {'n_estimators': 897, 'max_depth': 11, 'num_leaves': 20, 'min_child_samples': 5, 'num_iterations': 830}. Best is trial 51 with value: 0.641676708013652.\u001b[0m\n",
      "\u001b[32m[I 2023-08-24 13:08:10,917]\u001b[0m Trial 53 finished with value: 0.6313629375483231 and parameters: {'n_estimators': 958, 'max_depth': 10, 'num_leaves': 18, 'min_child_samples': 3, 'num_iterations': 795}. Best is trial 51 with value: 0.641676708013652.\u001b[0m\n",
      "\u001b[32m[I 2023-08-24 13:08:12,648]\u001b[0m Trial 54 finished with value: 0.6293887330470443 and parameters: {'n_estimators': 872, 'max_depth': 7, 'num_leaves': 15, 'min_child_samples': 4, 'num_iterations': 753}. Best is trial 51 with value: 0.641676708013652.\u001b[0m\n",
      "\u001b[32m[I 2023-08-24 13:08:14,994]\u001b[0m Trial 55 finished with value: 0.6320117894057259 and parameters: {'n_estimators': 800, 'max_depth': 14, 'num_leaves': 17, 'min_child_samples': 7, 'num_iterations': 925}. Best is trial 51 with value: 0.641676708013652.\u001b[0m\n",
      "\u001b[32m[I 2023-08-24 13:08:17,831]\u001b[0m Trial 56 finished with value: 0.6255266570056746 and parameters: {'n_estimators': 932, 'max_depth': 10, 'num_leaves': 22, 'min_child_samples': 1, 'num_iterations': 815}. Best is trial 51 with value: 0.641676708013652.\u001b[0m\n",
      "\u001b[32m[I 2023-08-24 13:08:19,110]\u001b[0m Trial 57 finished with value: 0.6089067391682355 and parameters: {'n_estimators': 899, 'max_depth': 4, 'num_leaves': 10, 'min_child_samples': 3, 'num_iterations': 885}. Best is trial 51 with value: 0.641676708013652.\u001b[0m\n",
      "\u001b[32m[I 2023-08-24 13:08:22,303]\u001b[0m Trial 58 finished with value: 0.6265107837391106 and parameters: {'n_estimators': 747, 'max_depth': 28, 'num_leaves': 26, 'min_child_samples': 2, 'num_iterations': 830}. Best is trial 51 with value: 0.641676708013652.\u001b[0m\n",
      "\u001b[32m[I 2023-08-24 13:08:23,928]\u001b[0m Trial 59 finished with value: 0.6359215622056649 and parameters: {'n_estimators': 534, 'max_depth': 12, 'num_leaves': 13, 'min_child_samples': 5, 'num_iterations': 775}. Best is trial 51 with value: 0.641676708013652.\u001b[0m\n",
      "\u001b[32m[I 2023-08-24 13:08:25,596]\u001b[0m Trial 60 finished with value: 0.6266300519165218 and parameters: {'n_estimators': 590, 'max_depth': 8, 'num_leaves': 12, 'min_child_samples': 5, 'num_iterations': 855}. Best is trial 51 with value: 0.641676708013652.\u001b[0m\n",
      "\u001b[32m[I 2023-08-24 13:08:27,314]\u001b[0m Trial 61 finished with value: 0.6339610094367877 and parameters: {'n_estimators': 533, 'max_depth': 12, 'num_leaves': 14, 'min_child_samples': 4, 'num_iterations': 774}. Best is trial 51 with value: 0.641676708013652.\u001b[0m\n",
      "\u001b[32m[I 2023-08-24 13:08:29,309]\u001b[0m Trial 62 finished with value: 0.6327438494099222 and parameters: {'n_estimators': 545, 'max_depth': 6, 'num_leaves': 18, 'min_child_samples': 6, 'num_iterations': 810}. Best is trial 51 with value: 0.641676708013652.\u001b[0m\n",
      "\u001b[32m[I 2023-08-24 13:08:30,217]\u001b[0m Trial 63 finished with value: 0.635476271257607 and parameters: {'n_estimators': 854, 'max_depth': 13, 'num_leaves': 11, 'min_child_samples': 5, 'num_iterations': 518}. Best is trial 51 with value: 0.641676708013652.\u001b[0m\n",
      "\u001b[32m[I 2023-08-24 13:08:31,127]\u001b[0m Trial 64 finished with value: 0.6370720514806789 and parameters: {'n_estimators': 662, 'max_depth': 13, 'num_leaves': 10, 'min_child_samples': 5, 'num_iterations': 554}. Best is trial 51 with value: 0.641676708013652.\u001b[0m\n",
      "\u001b[32m[I 2023-08-24 13:08:31,765]\u001b[0m Trial 65 finished with value: 0.6188792561828359 and parameters: {'n_estimators': 669, 'max_depth': 10, 'num_leaves': 6, 'min_child_samples': 7, 'num_iterations': 570}. Best is trial 51 with value: 0.641676708013652.\u001b[0m\n",
      "\u001b[32m[I 2023-08-24 13:08:32,846]\u001b[0m Trial 66 finished with value: 0.6360796191012122 and parameters: {'n_estimators': 605, 'max_depth': 9, 'num_leaves': 10, 'min_child_samples': 5, 'num_iterations': 649}. Best is trial 51 with value: 0.641676708013652.\u001b[0m\n",
      "\u001b[32m[I 2023-08-24 13:08:33,753]\u001b[0m Trial 67 finished with value: 0.6302747301110785 and parameters: {'n_estimators': 604, 'max_depth': 12, 'num_leaves': 9, 'min_child_samples': 6, 'num_iterations': 618}. Best is trial 51 with value: 0.641676708013652.\u001b[0m\n",
      "\u001b[32m[I 2023-08-24 13:08:34,636]\u001b[0m Trial 68 finished with value: 0.6280861793554275 and parameters: {'n_estimators': 519, 'max_depth': 6, 'num_leaves': 8, 'min_child_samples': 6, 'num_iterations': 665}. Best is trial 51 with value: 0.641676708013652.\u001b[0m\n",
      "\u001b[32m[I 2023-08-24 13:08:35,590]\u001b[0m Trial 69 finished with value: 0.6372362792608521 and parameters: {'n_estimators': 588, 'max_depth': 11, 'num_leaves': 10, 'min_child_samples': 5, 'num_iterations': 596}. Best is trial 51 with value: 0.641676708013652.\u001b[0m\n",
      "\u001b[32m[I 2023-08-24 13:08:36,427]\u001b[0m Trial 70 finished with value: 0.6263473329811254 and parameters: {'n_estimators': 568, 'max_depth': 8, 'num_leaves': 9, 'min_child_samples': 5, 'num_iterations': 530}. Best is trial 51 with value: 0.641676708013652.\u001b[0m\n",
      "\u001b[32m[I 2023-08-24 13:08:37,459]\u001b[0m Trial 71 finished with value: 0.6354909411579021 and parameters: {'n_estimators': 617, 'max_depth': 11, 'num_leaves': 11, 'min_child_samples': 5, 'num_iterations': 598}. Best is trial 51 with value: 0.641676708013652.\u001b[0m\n",
      "\u001b[32m[I 2023-08-24 13:08:38,441]\u001b[0m Trial 72 finished with value: 0.6339587731794062 and parameters: {'n_estimators': 580, 'max_depth': 9, 'num_leaves': 10, 'min_child_samples': 6, 'num_iterations': 587}. Best is trial 51 with value: 0.641676708013652.\u001b[0m\n",
      "\u001b[32m[I 2023-08-24 13:08:39,699]\u001b[0m Trial 73 finished with value: 0.6360523010133117 and parameters: {'n_estimators': 645, 'max_depth': 14, 'num_leaves': 13, 'min_child_samples': 5, 'num_iterations': 641}. Best is trial 51 with value: 0.641676708013652.\u001b[0m\n",
      "\u001b[32m[I 2023-08-24 13:08:40,503]\u001b[0m Trial 74 finished with value: 0.6208975915970438 and parameters: {'n_estimators': 642, 'max_depth': 14, 'num_leaves': 7, 'min_child_samples': 4, 'num_iterations': 639}. Best is trial 51 with value: 0.641676708013652.\u001b[0m\n",
      "\u001b[32m[I 2023-08-24 13:08:41,415]\u001b[0m Trial 75 finished with value: 0.6370189446750254 and parameters: {'n_estimators': 692, 'max_depth': 10, 'num_leaves': 10, 'min_child_samples': 5, 'num_iterations': 556}. Best is trial 51 with value: 0.641676708013652.\u001b[0m\n",
      "\u001b[32m[I 2023-08-24 13:08:41,930]\u001b[0m Trial 76 finished with value: 0.5895477288197262 and parameters: {'n_estimators': 698, 'max_depth': 10, 'num_leaves': 4, 'min_child_samples': 7, 'num_iterations': 553}. Best is trial 51 with value: 0.641676708013652.\u001b[0m\n",
      "\u001b[32m[I 2023-08-24 13:08:42,722]\u001b[0m Trial 77 finished with value: 0.6299373056094886 and parameters: {'n_estimators': 623, 'max_depth': 11, 'num_leaves': 8, 'min_child_samples': 5, 'num_iterations': 582}. Best is trial 51 with value: 0.641676708013652.\u001b[0m\n",
      "\u001b[32m[I 2023-08-24 13:08:43,602]\u001b[0m Trial 78 finished with value: 0.6367048683264052 and parameters: {'n_estimators': 655, 'max_depth': 7, 'num_leaves': 10, 'min_child_samples': 4, 'num_iterations': 539}. Best is trial 51 with value: 0.641676708013652.\u001b[0m\n",
      "\u001b[32m[I 2023-08-24 13:08:44,549]\u001b[0m Trial 79 finished with value: 0.6329110312858102 and parameters: {'n_estimators': 687, 'max_depth': 7, 'num_leaves': 12, 'min_child_samples': 4, 'num_iterations': 502}. Best is trial 51 with value: 0.641676708013652.\u001b[0m\n",
      "\u001b[32m[I 2023-08-24 13:08:44,823]\u001b[0m Trial 80 finished with value: 0.48003143109955604 and parameters: {'n_estimators': 701, 'max_depth': 1, 'num_leaves': 15, 'min_child_samples': 3, 'num_iterations': 543}. Best is trial 51 with value: 0.641676708013652.\u001b[0m\n",
      "\u001b[32m[I 2023-08-24 13:08:45,719]\u001b[0m Trial 81 finished with value: 0.6317927812367248 and parameters: {'n_estimators': 605, 'max_depth': 9, 'num_leaves': 10, 'min_child_samples': 4, 'num_iterations': 533}. Best is trial 51 with value: 0.641676708013652.\u001b[0m\n",
      "\u001b[32m[I 2023-08-24 13:08:46,596]\u001b[0m Trial 82 finished with value: 0.6218856316067939 and parameters: {'n_estimators': 663, 'max_depth': 4, 'num_leaves': 11, 'min_child_samples': 6, 'num_iterations': 600}. Best is trial 51 with value: 0.641676708013652.\u001b[0m\n",
      "\u001b[32m[I 2023-08-24 13:08:47,551]\u001b[0m Trial 83 finished with value: 0.6288829714293971 and parameters: {'n_estimators': 651, 'max_depth': 10, 'num_leaves': 8, 'min_child_samples': 5, 'num_iterations': 661}. Best is trial 51 with value: 0.641676708013652.\u001b[0m\n",
      "\u001b[32m[I 2023-08-24 13:08:48,346]\u001b[0m Trial 84 finished with value: 0.620801945760247 and parameters: {'n_estimators': 621, 'max_depth': 6, 'num_leaves': 7, 'min_child_samples': 4, 'num_iterations': 626}. Best is trial 51 with value: 0.641676708013652.\u001b[0m\n",
      "\u001b[32m[I 2023-08-24 13:08:49,258]\u001b[0m Trial 85 finished with value: 0.6237545847793398 and parameters: {'n_estimators': 681, 'max_depth': 13, 'num_leaves': 9, 'min_child_samples': 1, 'num_iterations': 566}. Best is trial 51 with value: 0.641676708013652.\u001b[0m\n",
      "\u001b[32m[I 2023-08-24 13:08:50,129]\u001b[0m Trial 86 finished with value: 0.6315043788157366 and parameters: {'n_estimators': 594, 'max_depth': 7, 'num_leaves': 10, 'min_child_samples': 2, 'num_iterations': 515}. Best is trial 51 with value: 0.641676708013652.\u001b[0m\n",
      "\u001b[32m[I 2023-08-24 13:08:51,132]\u001b[0m Trial 87 finished with value: 0.6339779448537403 and parameters: {'n_estimators': 723, 'max_depth': 8, 'num_leaves': 11, 'min_child_samples': 5, 'num_iterations': 581}. Best is trial 51 with value: 0.641676708013652.\u001b[0m\n",
      "\u001b[32m[I 2023-08-24 13:08:51,759]\u001b[0m Trial 88 finished with value: 0.6226112425703281 and parameters: {'n_estimators': 738, 'max_depth': 16, 'num_leaves': 6, 'min_child_samples': 3, 'num_iterations': 552}. Best is trial 51 with value: 0.641676708013652.\u001b[0m\n",
      "\u001b[32m[I 2023-08-24 13:08:53,175]\u001b[0m Trial 89 finished with value: 0.6355398077173546 and parameters: {'n_estimators': 866, 'max_depth': 11, 'num_leaves': 13, 'min_child_samples': 4, 'num_iterations': 695}. Best is trial 51 with value: 0.641676708013652.\u001b[0m\n",
      "\u001b[32m[I 2023-08-24 13:08:54,370]\u001b[0m Trial 90 finished with value: 0.631757144059442 and parameters: {'n_estimators': 764, 'max_depth': 8, 'num_leaves': 12, 'min_child_samples': 2, 'num_iterations': 615}. Best is trial 51 with value: 0.641676708013652.\u001b[0m\n",
      "\u001b[32m[I 2023-08-24 13:08:55,689]\u001b[0m Trial 91 finished with value: 0.6288025262386389 and parameters: {'n_estimators': 650, 'max_depth': 14, 'num_leaves': 14, 'min_child_samples': 5, 'num_iterations': 636}. Best is trial 51 with value: 0.641676708013652.\u001b[0m\n",
      "\u001b[32m[I 2023-08-24 13:08:56,911]\u001b[0m Trial 92 finished with value: 0.6334535776289887 and parameters: {'n_estimators': 829, 'max_depth': 13, 'num_leaves': 12, 'min_child_samples': 5, 'num_iterations': 661}. Best is trial 51 with value: 0.641676708013652.\u001b[0m\n",
      "\u001b[32m[I 2023-08-24 13:08:58,089]\u001b[0m Trial 93 finished with value: 0.6325135527099878 and parameters: {'n_estimators': 630, 'max_depth': 9, 'num_leaves': 13, 'min_child_samples': 6, 'num_iterations': 574}. Best is trial 51 with value: 0.641676708013652.\u001b[0m\n",
      "\u001b[32m[I 2023-08-24 13:08:58,984]\u001b[0m Trial 94 finished with value: 0.6268771579144008 and parameters: {'n_estimators': 610, 'max_depth': 12, 'num_leaves': 9, 'min_child_samples': 5, 'num_iterations': 604}. Best is trial 51 with value: 0.641676708013652.\u001b[0m\n",
      "\u001b[32m[I 2023-08-24 13:09:00,312]\u001b[0m Trial 95 finished with value: 0.6308305571487673 and parameters: {'n_estimators': 656, 'max_depth': 16, 'num_leaves': 15, 'min_child_samples': 4, 'num_iterations': 593}. Best is trial 51 with value: 0.641676708013652.\u001b[0m\n",
      "\u001b[32m[I 2023-08-24 13:09:01,336]\u001b[0m Trial 96 finished with value: 0.6361189322234473 and parameters: {'n_estimators': 673, 'max_depth': 11, 'num_leaves': 10, 'min_child_samples': 5, 'num_iterations': 626}. Best is trial 51 with value: 0.641676708013652.\u001b[0m\n",
      "\u001b[32m[I 2023-08-24 13:09:02,417]\u001b[0m Trial 97 finished with value: 0.6359093518054693 and parameters: {'n_estimators': 709, 'max_depth': 10, 'num_leaves': 10, 'min_child_samples': 3, 'num_iterations': 627}. Best is trial 51 with value: 0.641676708013652.\u001b[0m\n",
      "\u001b[32m[I 2023-08-24 13:09:03,156]\u001b[0m Trial 98 finished with value: 0.6212728944133656 and parameters: {'n_estimators': 671, 'max_depth': 11, 'num_leaves': 8, 'min_child_samples': 6, 'num_iterations': 537}. Best is trial 51 with value: 0.641676708013652.\u001b[0m\n",
      "\u001b[32m[I 2023-08-24 13:09:04,428]\u001b[0m Trial 99 finished with value: 0.6279762684026287 and parameters: {'n_estimators': 923, 'max_depth': 5, 'num_leaves': 11, 'min_child_samples': 4, 'num_iterations': 794}. Best is trial 51 with value: 0.641676708013652.\u001b[0m\n"
     ]
    },
    {
     "name": "stdout",
     "output_type": "stream",
     "text": [
      "Best r2:  0.641676708013652\n",
      "Best trial: {'n_estimators': 891, 'max_depth': 10, 'num_leaves': 19, 'min_child_samples': 4, 'num_iterations': 833}\n"
     ]
    }
   ],
   "source": [
    "sampler = TPESampler()\n",
    "study = optuna.create_study(\n",
    "    study_name=\"lgbm_parameter_opt\",\n",
    "    direction=\"maximize\",\n",
    "    sampler=sampler,\n",
    ")\n",
    "\n",
    "study.optimize(lambda trial : objectiveLGBM(trial, As_X_train, As_y_train), n_trials=100)\n",
    "print(\"Best r2: \", study.best_value)\n",
    "print(\"Best trial:\", study.best_trial.params)"
   ]
  },
  {
   "cell_type": "code",
   "execution_count": 27,
   "id": "ded0e0f8",
   "metadata": {},
   "outputs": [
    {
     "data": {
      "application/vnd.plotly.v1+json": {
       "config": {
        "plotlyServerURL": "https://plot.ly"
       },
       "data": [
        {
         "dimensions": [
          {
           "label": "Objective Value",
           "range": [
            0.48003143109955604,
            0.641676708013652
           ],
           "values": [
            0.5808040634976208,
            0.6135785871058044,
            0.6266842404945085,
            0.633230421557239,
            0.6307495284371264,
            0.6176978695019372,
            0.6272188250292062,
            0.6328209019838358,
            0.6295523992325259,
            0.619596316396946,
            0.6254573467786346,
            0.6332364054160448,
            0.6270488136394385,
            0.6320621072387281,
            0.6304449405428428,
            0.6323850765537092,
            0.6319243084708587,
            0.6358416395377311,
            0.6289391897619336,
            0.6381470046177762,
            0.622183301985544,
            0.6340422075625731,
            0.6202286015225796,
            0.6262909449612595,
            0.6249391728909293,
            0.4840194079212573,
            0.5757360010351021,
            0.6376504122601855,
            0.6309698890326592,
            0.6268595033504956,
            0.6237681888523369,
            0.6261493405937789,
            0.607228726753019,
            0.6360798723321939,
            0.6327785238501434,
            0.6339104522551335,
            0.60476062494602,
            0.6008265758620832,
            0.633923776024611,
            0.6261225863346868,
            0.6352280814057746,
            0.6352280814057746,
            0.6340632952622473,
            0.6347436962838617,
            0.632734008822391,
            0.6288708023825162,
            0.6354216154678033,
            0.6266748055549621,
            0.6339081633373166,
            0.6236314828619204,
            0.6262058653215469,
            0.641676708013652,
            0.6350817713736252,
            0.6313629375483231,
            0.6293887330470443,
            0.6320117894057259,
            0.6255266570056746,
            0.6089067391682355,
            0.6265107837391106,
            0.6359215622056649,
            0.6266300519165218,
            0.6339610094367877,
            0.6327438494099222,
            0.635476271257607,
            0.6370720514806789,
            0.6188792561828359,
            0.6360796191012122,
            0.6302747301110785,
            0.6280861793554275,
            0.6372362792608521,
            0.6263473329811254,
            0.6354909411579021,
            0.6339587731794062,
            0.6360523010133117,
            0.6208975915970438,
            0.6370189446750254,
            0.5895477288197262,
            0.6299373056094886,
            0.6367048683264052,
            0.6329110312858102,
            0.48003143109955604,
            0.6317927812367248,
            0.6218856316067939,
            0.6288829714293971,
            0.620801945760247,
            0.6237545847793398,
            0.6315043788157366,
            0.6339779448537403,
            0.6226112425703281,
            0.6355398077173546,
            0.631757144059442,
            0.6288025262386389,
            0.6334535776289887,
            0.6325135527099878,
            0.6268771579144008,
            0.6308305571487673,
            0.6361189322234473,
            0.6359093518054693,
            0.6212728944133656,
            0.6279762684026287
           ]
          },
          {
           "label": "max_depth",
           "range": [
            1,
            30
           ],
           "values": [
            2,
            3,
            24,
            19,
            23,
            8,
            8,
            16,
            26,
            18,
            30,
            16,
            11,
            20,
            13,
            20,
            14,
            9,
            7,
            11,
            10,
            6,
            5,
            5,
            11,
            1,
            5,
            13,
            14,
            9,
            13,
            11,
            3,
            6,
            12,
            9,
            7,
            3,
            9,
            15,
            17,
            17,
            12,
            23,
            19,
            17,
            15,
            8,
            15,
            13,
            21,
            10,
            11,
            10,
            7,
            14,
            10,
            4,
            28,
            12,
            8,
            12,
            6,
            13,
            13,
            10,
            9,
            12,
            6,
            11,
            8,
            11,
            9,
            14,
            14,
            10,
            10,
            11,
            7,
            7,
            1,
            9,
            4,
            10,
            6,
            13,
            7,
            8,
            16,
            11,
            8,
            14,
            13,
            9,
            12,
            16,
            11,
            10,
            11,
            5
           ]
          },
          {
           "label": "min_child_samples",
           "range": [
            1,
            10
           ],
           "values": [
            5,
            6,
            9,
            4,
            10,
            5,
            2,
            1,
            10,
            8,
            3,
            1,
            3,
            1,
            4,
            6,
            7,
            3,
            2,
            2,
            3,
            1,
            2,
            2,
            4,
            1,
            3,
            2,
            4,
            5,
            2,
            1,
            2,
            3,
            3,
            4,
            6,
            5,
            3,
            2,
            4,
            4,
            3,
            3,
            5,
            2,
            4,
            3,
            9,
            2,
            4,
            4,
            5,
            3,
            4,
            7,
            1,
            3,
            2,
            5,
            5,
            4,
            6,
            5,
            5,
            7,
            5,
            6,
            6,
            5,
            5,
            5,
            6,
            5,
            4,
            5,
            7,
            5,
            4,
            4,
            3,
            4,
            6,
            5,
            4,
            1,
            2,
            5,
            3,
            4,
            2,
            5,
            5,
            6,
            5,
            4,
            5,
            3,
            6,
            4
           ]
          },
          {
           "label": "n_estimators",
           "range": [
            504,
            996
           ],
           "values": [
            620,
            954,
            775,
            560,
            621,
            754,
            817,
            598,
            688,
            762,
            504,
            507,
            506,
            577,
            882,
            680,
            555,
            660,
            667,
            832,
            863,
            975,
            982,
            921,
            841,
            712,
            996,
            910,
            803,
            920,
            720,
            913,
            959,
            887,
            885,
            822,
            786,
            635,
            842,
            936,
            888,
            876,
            857,
            908,
            730,
            944,
            896,
            778,
            819,
            845,
            637,
            891,
            897,
            958,
            872,
            800,
            932,
            899,
            747,
            534,
            590,
            533,
            545,
            854,
            662,
            669,
            605,
            604,
            519,
            588,
            568,
            617,
            580,
            645,
            642,
            692,
            698,
            623,
            655,
            687,
            701,
            605,
            663,
            651,
            621,
            681,
            594,
            723,
            738,
            866,
            764,
            650,
            829,
            630,
            610,
            656,
            673,
            709,
            671,
            923
           ]
          },
          {
           "label": "num_iterations",
           "range": [
            501,
            994
           ],
           "values": [
            858,
            626,
            986,
            985,
            726,
            955,
            501,
            994,
            588,
            544,
            837,
            874,
            884,
            780,
            925,
            757,
            908,
            841,
            687,
            818,
            811,
            797,
            693,
            797,
            832,
            711,
            762,
            660,
            645,
            849,
            650,
            810,
            734,
            778,
            609,
            677,
            765,
            903,
            731,
            952,
            865,
            865,
            817,
            845,
            561,
            894,
            781,
            777,
            738,
            714,
            785,
            833,
            830,
            795,
            753,
            925,
            815,
            885,
            830,
            775,
            855,
            774,
            810,
            518,
            554,
            570,
            649,
            618,
            665,
            596,
            530,
            598,
            587,
            641,
            639,
            556,
            553,
            582,
            539,
            502,
            543,
            533,
            600,
            661,
            626,
            566,
            515,
            581,
            552,
            695,
            615,
            636,
            661,
            574,
            604,
            593,
            626,
            627,
            537,
            794
           ]
          },
          {
           "label": "num_leaves",
           "range": [
            3,
            32
           ],
           "values": [
            3,
            28,
            30,
            27,
            21,
            7,
            26,
            14,
            25,
            15,
            32,
            14,
            11,
            20,
            21,
            10,
            17,
            24,
            22,
            13,
            7,
            12,
            11,
            18,
            8,
            24,
            3,
            17,
            17,
            19,
            16,
            12,
            23,
            13,
            29,
            14,
            5,
            9,
            13,
            27,
            19,
            19,
            16,
            15,
            21,
            25,
            19,
            23,
            13,
            16,
            32,
            19,
            20,
            18,
            15,
            17,
            22,
            10,
            26,
            13,
            12,
            14,
            18,
            11,
            10,
            6,
            10,
            9,
            8,
            10,
            9,
            11,
            10,
            13,
            7,
            10,
            4,
            8,
            10,
            12,
            15,
            10,
            11,
            8,
            7,
            9,
            10,
            11,
            6,
            13,
            12,
            14,
            12,
            13,
            9,
            15,
            10,
            10,
            8,
            11
           ]
          }
         ],
         "labelangle": 30,
         "labelside": "bottom",
         "line": {
          "color": [
           0.5808040634976208,
           0.6135785871058044,
           0.6266842404945085,
           0.633230421557239,
           0.6307495284371264,
           0.6176978695019372,
           0.6272188250292062,
           0.6328209019838358,
           0.6295523992325259,
           0.619596316396946,
           0.6254573467786346,
           0.6332364054160448,
           0.6270488136394385,
           0.6320621072387281,
           0.6304449405428428,
           0.6323850765537092,
           0.6319243084708587,
           0.6358416395377311,
           0.6289391897619336,
           0.6381470046177762,
           0.622183301985544,
           0.6340422075625731,
           0.6202286015225796,
           0.6262909449612595,
           0.6249391728909293,
           0.4840194079212573,
           0.5757360010351021,
           0.6376504122601855,
           0.6309698890326592,
           0.6268595033504956,
           0.6237681888523369,
           0.6261493405937789,
           0.607228726753019,
           0.6360798723321939,
           0.6327785238501434,
           0.6339104522551335,
           0.60476062494602,
           0.6008265758620832,
           0.633923776024611,
           0.6261225863346868,
           0.6352280814057746,
           0.6352280814057746,
           0.6340632952622473,
           0.6347436962838617,
           0.632734008822391,
           0.6288708023825162,
           0.6354216154678033,
           0.6266748055549621,
           0.6339081633373166,
           0.6236314828619204,
           0.6262058653215469,
           0.641676708013652,
           0.6350817713736252,
           0.6313629375483231,
           0.6293887330470443,
           0.6320117894057259,
           0.6255266570056746,
           0.6089067391682355,
           0.6265107837391106,
           0.6359215622056649,
           0.6266300519165218,
           0.6339610094367877,
           0.6327438494099222,
           0.635476271257607,
           0.6370720514806789,
           0.6188792561828359,
           0.6360796191012122,
           0.6302747301110785,
           0.6280861793554275,
           0.6372362792608521,
           0.6263473329811254,
           0.6354909411579021,
           0.6339587731794062,
           0.6360523010133117,
           0.6208975915970438,
           0.6370189446750254,
           0.5895477288197262,
           0.6299373056094886,
           0.6367048683264052,
           0.6329110312858102,
           0.48003143109955604,
           0.6317927812367248,
           0.6218856316067939,
           0.6288829714293971,
           0.620801945760247,
           0.6237545847793398,
           0.6315043788157366,
           0.6339779448537403,
           0.6226112425703281,
           0.6355398077173546,
           0.631757144059442,
           0.6288025262386389,
           0.6334535776289887,
           0.6325135527099878,
           0.6268771579144008,
           0.6308305571487673,
           0.6361189322234473,
           0.6359093518054693,
           0.6212728944133656,
           0.6279762684026287
          ],
          "colorbar": {
           "title": {
            "text": "Objective Value"
           }
          },
          "colorscale": [
           [
            0,
            "rgb(247,251,255)"
           ],
           [
            0.125,
            "rgb(222,235,247)"
           ],
           [
            0.25,
            "rgb(198,219,239)"
           ],
           [
            0.375,
            "rgb(158,202,225)"
           ],
           [
            0.5,
            "rgb(107,174,214)"
           ],
           [
            0.625,
            "rgb(66,146,198)"
           ],
           [
            0.75,
            "rgb(33,113,181)"
           ],
           [
            0.875,
            "rgb(8,81,156)"
           ],
           [
            1,
            "rgb(8,48,107)"
           ]
          ],
          "reversescale": false,
          "showscale": true
         },
         "type": "parcoords"
        }
       ],
       "layout": {
        "template": {
         "data": {
          "bar": [
           {
            "error_x": {
             "color": "#2a3f5f"
            },
            "error_y": {
             "color": "#2a3f5f"
            },
            "marker": {
             "line": {
              "color": "#E5ECF6",
              "width": 0.5
             },
             "pattern": {
              "fillmode": "overlay",
              "size": 10,
              "solidity": 0.2
             }
            },
            "type": "bar"
           }
          ],
          "barpolar": [
           {
            "marker": {
             "line": {
              "color": "#E5ECF6",
              "width": 0.5
             },
             "pattern": {
              "fillmode": "overlay",
              "size": 10,
              "solidity": 0.2
             }
            },
            "type": "barpolar"
           }
          ],
          "carpet": [
           {
            "aaxis": {
             "endlinecolor": "#2a3f5f",
             "gridcolor": "white",
             "linecolor": "white",
             "minorgridcolor": "white",
             "startlinecolor": "#2a3f5f"
            },
            "baxis": {
             "endlinecolor": "#2a3f5f",
             "gridcolor": "white",
             "linecolor": "white",
             "minorgridcolor": "white",
             "startlinecolor": "#2a3f5f"
            },
            "type": "carpet"
           }
          ],
          "choropleth": [
           {
            "colorbar": {
             "outlinewidth": 0,
             "ticks": ""
            },
            "type": "choropleth"
           }
          ],
          "contour": [
           {
            "colorbar": {
             "outlinewidth": 0,
             "ticks": ""
            },
            "colorscale": [
             [
              0,
              "#0d0887"
             ],
             [
              0.1111111111111111,
              "#46039f"
             ],
             [
              0.2222222222222222,
              "#7201a8"
             ],
             [
              0.3333333333333333,
              "#9c179e"
             ],
             [
              0.4444444444444444,
              "#bd3786"
             ],
             [
              0.5555555555555556,
              "#d8576b"
             ],
             [
              0.6666666666666666,
              "#ed7953"
             ],
             [
              0.7777777777777778,
              "#fb9f3a"
             ],
             [
              0.8888888888888888,
              "#fdca26"
             ],
             [
              1,
              "#f0f921"
             ]
            ],
            "type": "contour"
           }
          ],
          "contourcarpet": [
           {
            "colorbar": {
             "outlinewidth": 0,
             "ticks": ""
            },
            "type": "contourcarpet"
           }
          ],
          "heatmap": [
           {
            "colorbar": {
             "outlinewidth": 0,
             "ticks": ""
            },
            "colorscale": [
             [
              0,
              "#0d0887"
             ],
             [
              0.1111111111111111,
              "#46039f"
             ],
             [
              0.2222222222222222,
              "#7201a8"
             ],
             [
              0.3333333333333333,
              "#9c179e"
             ],
             [
              0.4444444444444444,
              "#bd3786"
             ],
             [
              0.5555555555555556,
              "#d8576b"
             ],
             [
              0.6666666666666666,
              "#ed7953"
             ],
             [
              0.7777777777777778,
              "#fb9f3a"
             ],
             [
              0.8888888888888888,
              "#fdca26"
             ],
             [
              1,
              "#f0f921"
             ]
            ],
            "type": "heatmap"
           }
          ],
          "heatmapgl": [
           {
            "colorbar": {
             "outlinewidth": 0,
             "ticks": ""
            },
            "colorscale": [
             [
              0,
              "#0d0887"
             ],
             [
              0.1111111111111111,
              "#46039f"
             ],
             [
              0.2222222222222222,
              "#7201a8"
             ],
             [
              0.3333333333333333,
              "#9c179e"
             ],
             [
              0.4444444444444444,
              "#bd3786"
             ],
             [
              0.5555555555555556,
              "#d8576b"
             ],
             [
              0.6666666666666666,
              "#ed7953"
             ],
             [
              0.7777777777777778,
              "#fb9f3a"
             ],
             [
              0.8888888888888888,
              "#fdca26"
             ],
             [
              1,
              "#f0f921"
             ]
            ],
            "type": "heatmapgl"
           }
          ],
          "histogram": [
           {
            "marker": {
             "pattern": {
              "fillmode": "overlay",
              "size": 10,
              "solidity": 0.2
             }
            },
            "type": "histogram"
           }
          ],
          "histogram2d": [
           {
            "colorbar": {
             "outlinewidth": 0,
             "ticks": ""
            },
            "colorscale": [
             [
              0,
              "#0d0887"
             ],
             [
              0.1111111111111111,
              "#46039f"
             ],
             [
              0.2222222222222222,
              "#7201a8"
             ],
             [
              0.3333333333333333,
              "#9c179e"
             ],
             [
              0.4444444444444444,
              "#bd3786"
             ],
             [
              0.5555555555555556,
              "#d8576b"
             ],
             [
              0.6666666666666666,
              "#ed7953"
             ],
             [
              0.7777777777777778,
              "#fb9f3a"
             ],
             [
              0.8888888888888888,
              "#fdca26"
             ],
             [
              1,
              "#f0f921"
             ]
            ],
            "type": "histogram2d"
           }
          ],
          "histogram2dcontour": [
           {
            "colorbar": {
             "outlinewidth": 0,
             "ticks": ""
            },
            "colorscale": [
             [
              0,
              "#0d0887"
             ],
             [
              0.1111111111111111,
              "#46039f"
             ],
             [
              0.2222222222222222,
              "#7201a8"
             ],
             [
              0.3333333333333333,
              "#9c179e"
             ],
             [
              0.4444444444444444,
              "#bd3786"
             ],
             [
              0.5555555555555556,
              "#d8576b"
             ],
             [
              0.6666666666666666,
              "#ed7953"
             ],
             [
              0.7777777777777778,
              "#fb9f3a"
             ],
             [
              0.8888888888888888,
              "#fdca26"
             ],
             [
              1,
              "#f0f921"
             ]
            ],
            "type": "histogram2dcontour"
           }
          ],
          "mesh3d": [
           {
            "colorbar": {
             "outlinewidth": 0,
             "ticks": ""
            },
            "type": "mesh3d"
           }
          ],
          "parcoords": [
           {
            "line": {
             "colorbar": {
              "outlinewidth": 0,
              "ticks": ""
             }
            },
            "type": "parcoords"
           }
          ],
          "pie": [
           {
            "automargin": true,
            "type": "pie"
           }
          ],
          "scatter": [
           {
            "marker": {
             "colorbar": {
              "outlinewidth": 0,
              "ticks": ""
             }
            },
            "type": "scatter"
           }
          ],
          "scatter3d": [
           {
            "line": {
             "colorbar": {
              "outlinewidth": 0,
              "ticks": ""
             }
            },
            "marker": {
             "colorbar": {
              "outlinewidth": 0,
              "ticks": ""
             }
            },
            "type": "scatter3d"
           }
          ],
          "scattercarpet": [
           {
            "marker": {
             "colorbar": {
              "outlinewidth": 0,
              "ticks": ""
             }
            },
            "type": "scattercarpet"
           }
          ],
          "scattergeo": [
           {
            "marker": {
             "colorbar": {
              "outlinewidth": 0,
              "ticks": ""
             }
            },
            "type": "scattergeo"
           }
          ],
          "scattergl": [
           {
            "marker": {
             "colorbar": {
              "outlinewidth": 0,
              "ticks": ""
             }
            },
            "type": "scattergl"
           }
          ],
          "scattermapbox": [
           {
            "marker": {
             "colorbar": {
              "outlinewidth": 0,
              "ticks": ""
             }
            },
            "type": "scattermapbox"
           }
          ],
          "scatterpolar": [
           {
            "marker": {
             "colorbar": {
              "outlinewidth": 0,
              "ticks": ""
             }
            },
            "type": "scatterpolar"
           }
          ],
          "scatterpolargl": [
           {
            "marker": {
             "colorbar": {
              "outlinewidth": 0,
              "ticks": ""
             }
            },
            "type": "scatterpolargl"
           }
          ],
          "scatterternary": [
           {
            "marker": {
             "colorbar": {
              "outlinewidth": 0,
              "ticks": ""
             }
            },
            "type": "scatterternary"
           }
          ],
          "surface": [
           {
            "colorbar": {
             "outlinewidth": 0,
             "ticks": ""
            },
            "colorscale": [
             [
              0,
              "#0d0887"
             ],
             [
              0.1111111111111111,
              "#46039f"
             ],
             [
              0.2222222222222222,
              "#7201a8"
             ],
             [
              0.3333333333333333,
              "#9c179e"
             ],
             [
              0.4444444444444444,
              "#bd3786"
             ],
             [
              0.5555555555555556,
              "#d8576b"
             ],
             [
              0.6666666666666666,
              "#ed7953"
             ],
             [
              0.7777777777777778,
              "#fb9f3a"
             ],
             [
              0.8888888888888888,
              "#fdca26"
             ],
             [
              1,
              "#f0f921"
             ]
            ],
            "type": "surface"
           }
          ],
          "table": [
           {
            "cells": {
             "fill": {
              "color": "#EBF0F8"
             },
             "line": {
              "color": "white"
             }
            },
            "header": {
             "fill": {
              "color": "#C8D4E3"
             },
             "line": {
              "color": "white"
             }
            },
            "type": "table"
           }
          ]
         },
         "layout": {
          "annotationdefaults": {
           "arrowcolor": "#2a3f5f",
           "arrowhead": 0,
           "arrowwidth": 1
          },
          "autotypenumbers": "strict",
          "coloraxis": {
           "colorbar": {
            "outlinewidth": 0,
            "ticks": ""
           }
          },
          "colorscale": {
           "diverging": [
            [
             0,
             "#8e0152"
            ],
            [
             0.1,
             "#c51b7d"
            ],
            [
             0.2,
             "#de77ae"
            ],
            [
             0.3,
             "#f1b6da"
            ],
            [
             0.4,
             "#fde0ef"
            ],
            [
             0.5,
             "#f7f7f7"
            ],
            [
             0.6,
             "#e6f5d0"
            ],
            [
             0.7,
             "#b8e186"
            ],
            [
             0.8,
             "#7fbc41"
            ],
            [
             0.9,
             "#4d9221"
            ],
            [
             1,
             "#276419"
            ]
           ],
           "sequential": [
            [
             0,
             "#0d0887"
            ],
            [
             0.1111111111111111,
             "#46039f"
            ],
            [
             0.2222222222222222,
             "#7201a8"
            ],
            [
             0.3333333333333333,
             "#9c179e"
            ],
            [
             0.4444444444444444,
             "#bd3786"
            ],
            [
             0.5555555555555556,
             "#d8576b"
            ],
            [
             0.6666666666666666,
             "#ed7953"
            ],
            [
             0.7777777777777778,
             "#fb9f3a"
            ],
            [
             0.8888888888888888,
             "#fdca26"
            ],
            [
             1,
             "#f0f921"
            ]
           ],
           "sequentialminus": [
            [
             0,
             "#0d0887"
            ],
            [
             0.1111111111111111,
             "#46039f"
            ],
            [
             0.2222222222222222,
             "#7201a8"
            ],
            [
             0.3333333333333333,
             "#9c179e"
            ],
            [
             0.4444444444444444,
             "#bd3786"
            ],
            [
             0.5555555555555556,
             "#d8576b"
            ],
            [
             0.6666666666666666,
             "#ed7953"
            ],
            [
             0.7777777777777778,
             "#fb9f3a"
            ],
            [
             0.8888888888888888,
             "#fdca26"
            ],
            [
             1,
             "#f0f921"
            ]
           ]
          },
          "colorway": [
           "#636efa",
           "#EF553B",
           "#00cc96",
           "#ab63fa",
           "#FFA15A",
           "#19d3f3",
           "#FF6692",
           "#B6E880",
           "#FF97FF",
           "#FECB52"
          ],
          "font": {
           "color": "#2a3f5f"
          },
          "geo": {
           "bgcolor": "white",
           "lakecolor": "white",
           "landcolor": "#E5ECF6",
           "showlakes": true,
           "showland": true,
           "subunitcolor": "white"
          },
          "hoverlabel": {
           "align": "left"
          },
          "hovermode": "closest",
          "mapbox": {
           "style": "light"
          },
          "paper_bgcolor": "white",
          "plot_bgcolor": "#E5ECF6",
          "polar": {
           "angularaxis": {
            "gridcolor": "white",
            "linecolor": "white",
            "ticks": ""
           },
           "bgcolor": "#E5ECF6",
           "radialaxis": {
            "gridcolor": "white",
            "linecolor": "white",
            "ticks": ""
           }
          },
          "scene": {
           "xaxis": {
            "backgroundcolor": "#E5ECF6",
            "gridcolor": "white",
            "gridwidth": 2,
            "linecolor": "white",
            "showbackground": true,
            "ticks": "",
            "zerolinecolor": "white"
           },
           "yaxis": {
            "backgroundcolor": "#E5ECF6",
            "gridcolor": "white",
            "gridwidth": 2,
            "linecolor": "white",
            "showbackground": true,
            "ticks": "",
            "zerolinecolor": "white"
           },
           "zaxis": {
            "backgroundcolor": "#E5ECF6",
            "gridcolor": "white",
            "gridwidth": 2,
            "linecolor": "white",
            "showbackground": true,
            "ticks": "",
            "zerolinecolor": "white"
           }
          },
          "shapedefaults": {
           "line": {
            "color": "#2a3f5f"
           }
          },
          "ternary": {
           "aaxis": {
            "gridcolor": "white",
            "linecolor": "white",
            "ticks": ""
           },
           "baxis": {
            "gridcolor": "white",
            "linecolor": "white",
            "ticks": ""
           },
           "bgcolor": "#E5ECF6",
           "caxis": {
            "gridcolor": "white",
            "linecolor": "white",
            "ticks": ""
           }
          },
          "title": {
           "x": 0.05
          },
          "xaxis": {
           "automargin": true,
           "gridcolor": "white",
           "linecolor": "white",
           "ticks": "",
           "title": {
            "standoff": 15
           },
           "zerolinecolor": "white",
           "zerolinewidth": 2
          },
          "yaxis": {
           "automargin": true,
           "gridcolor": "white",
           "linecolor": "white",
           "ticks": "",
           "title": {
            "standoff": 15
           },
           "zerolinecolor": "white",
           "zerolinewidth": 2
          }
         }
        },
        "title": {
         "text": "Parallel Coordinate Plot"
        }
       }
      }
     },
     "metadata": {},
     "output_type": "display_data"
    }
   ],
   "source": [
    "optuna.visualization.plot_parallel_coordinate(study)"
   ]
  },
  {
   "cell_type": "code",
   "execution_count": 28,
   "id": "75db1ddf",
   "metadata": {},
   "outputs": [
    {
     "name": "stdout",
     "output_type": "stream",
     "text": [
      "Best trial: {'n_estimators': 891, 'max_depth': 10, 'num_leaves': 19, 'min_child_samples': 4, 'num_iterations': 833}\n"
     ]
    }
   ],
   "source": [
    "print(\"Best trial:\", study.best_trial.params)"
   ]
  },
  {
   "cell_type": "code",
   "execution_count": 29,
   "id": "574699dc",
   "metadata": {},
   "outputs": [
    {
     "data": {
      "text/plain": [
       "891"
      ]
     },
     "execution_count": 29,
     "metadata": {},
     "output_type": "execute_result"
    }
   ],
   "source": [
    "study.best_trial.params[\"n_estimators\"]"
   ]
  },
  {
   "cell_type": "code",
   "execution_count": 30,
   "id": "862eadd2",
   "metadata": {},
   "outputs": [
    {
     "data": {
      "text/html": [
       "<style>#sk-container-id-1 {color: black;}#sk-container-id-1 pre{padding: 0;}#sk-container-id-1 div.sk-toggleable {background-color: white;}#sk-container-id-1 label.sk-toggleable__label {cursor: pointer;display: block;width: 100%;margin-bottom: 0;padding: 0.3em;box-sizing: border-box;text-align: center;}#sk-container-id-1 label.sk-toggleable__label-arrow:before {content: \"▸\";float: left;margin-right: 0.25em;color: #696969;}#sk-container-id-1 label.sk-toggleable__label-arrow:hover:before {color: black;}#sk-container-id-1 div.sk-estimator:hover label.sk-toggleable__label-arrow:before {color: black;}#sk-container-id-1 div.sk-toggleable__content {max-height: 0;max-width: 0;overflow: hidden;text-align: left;background-color: #f0f8ff;}#sk-container-id-1 div.sk-toggleable__content pre {margin: 0.2em;color: black;border-radius: 0.25em;background-color: #f0f8ff;}#sk-container-id-1 input.sk-toggleable__control:checked~div.sk-toggleable__content {max-height: 200px;max-width: 100%;overflow: auto;}#sk-container-id-1 input.sk-toggleable__control:checked~label.sk-toggleable__label-arrow:before {content: \"▾\";}#sk-container-id-1 div.sk-estimator input.sk-toggleable__control:checked~label.sk-toggleable__label {background-color: #d4ebff;}#sk-container-id-1 div.sk-label input.sk-toggleable__control:checked~label.sk-toggleable__label {background-color: #d4ebff;}#sk-container-id-1 input.sk-hidden--visually {border: 0;clip: rect(1px 1px 1px 1px);clip: rect(1px, 1px, 1px, 1px);height: 1px;margin: -1px;overflow: hidden;padding: 0;position: absolute;width: 1px;}#sk-container-id-1 div.sk-estimator {font-family: monospace;background-color: #f0f8ff;border: 1px dotted black;border-radius: 0.25em;box-sizing: border-box;margin-bottom: 0.5em;}#sk-container-id-1 div.sk-estimator:hover {background-color: #d4ebff;}#sk-container-id-1 div.sk-parallel-item::after {content: \"\";width: 100%;border-bottom: 1px solid gray;flex-grow: 1;}#sk-container-id-1 div.sk-label:hover label.sk-toggleable__label {background-color: #d4ebff;}#sk-container-id-1 div.sk-serial::before {content: \"\";position: absolute;border-left: 1px solid gray;box-sizing: border-box;top: 0;bottom: 0;left: 50%;z-index: 0;}#sk-container-id-1 div.sk-serial {display: flex;flex-direction: column;align-items: center;background-color: white;padding-right: 0.2em;padding-left: 0.2em;position: relative;}#sk-container-id-1 div.sk-item {position: relative;z-index: 1;}#sk-container-id-1 div.sk-parallel {display: flex;align-items: stretch;justify-content: center;background-color: white;position: relative;}#sk-container-id-1 div.sk-item::before, #sk-container-id-1 div.sk-parallel-item::before {content: \"\";position: absolute;border-left: 1px solid gray;box-sizing: border-box;top: 0;bottom: 0;left: 50%;z-index: -1;}#sk-container-id-1 div.sk-parallel-item {display: flex;flex-direction: column;z-index: 1;position: relative;background-color: white;}#sk-container-id-1 div.sk-parallel-item:first-child::after {align-self: flex-end;width: 50%;}#sk-container-id-1 div.sk-parallel-item:last-child::after {align-self: flex-start;width: 50%;}#sk-container-id-1 div.sk-parallel-item:only-child::after {width: 0;}#sk-container-id-1 div.sk-dashed-wrapped {border: 1px dashed gray;margin: 0 0.4em 0.5em 0.4em;box-sizing: border-box;padding-bottom: 0.4em;background-color: white;}#sk-container-id-1 div.sk-label label {font-family: monospace;font-weight: bold;display: inline-block;line-height: 1.2em;}#sk-container-id-1 div.sk-label-container {text-align: center;}#sk-container-id-1 div.sk-container {/* jupyter's `normalize.less` sets `[hidden] { display: none; }` but bootstrap.min.css set `[hidden] { display: none !important; }` so we also need the `!important` here to be able to override the default hidden behavior on the sphinx rendered scikit-learn.org. See: https://github.com/scikit-learn/scikit-learn/issues/21755 */display: inline-block !important;position: relative;}#sk-container-id-1 div.sk-text-repr-fallback {display: none;}</style><div id=\"sk-container-id-1\" class=\"sk-top-container\"><div class=\"sk-text-repr-fallback\"><pre>LGBMRegressor(max_depth=10, min_child_samples=4, n_estimators=891,\n",
       "              num_iterations=833, num_leaves=19, random_state=42)</pre><b>In a Jupyter environment, please rerun this cell to show the HTML representation or trust the notebook. <br />On GitHub, the HTML representation is unable to render, please try loading this page with nbviewer.org.</b></div><div class=\"sk-container\" hidden><div class=\"sk-item\"><div class=\"sk-estimator sk-toggleable\"><input class=\"sk-toggleable__control sk-hidden--visually\" id=\"sk-estimator-id-1\" type=\"checkbox\" checked><label for=\"sk-estimator-id-1\" class=\"sk-toggleable__label sk-toggleable__label-arrow\">LGBMRegressor</label><div class=\"sk-toggleable__content\"><pre>LGBMRegressor(max_depth=10, min_child_samples=4, n_estimators=891,\n",
       "              num_iterations=833, num_leaves=19, random_state=42)</pre></div></div></div></div></div>"
      ],
      "text/plain": [
       "LGBMRegressor(max_depth=10, min_child_samples=4, n_estimators=891,\n",
       "              num_iterations=833, num_leaves=19, random_state=42)"
      ]
     },
     "execution_count": 30,
     "metadata": {},
     "output_type": "execute_result"
    }
   ],
   "source": [
    "lgbm_params = {\n",
    "    \"random_state\": 42,\n",
    "    \"learning_rate\": 0.1,\n",
    "    \"n_estimators\": study.best_trial.params[\"n_estimators\"],\n",
    "    \"max_depth\": study.best_trial.params[\"max_depth\"],\n",
    "    \"num_leaves\": study.best_trial.params[\"num_leaves\"],\n",
    "    \"min_child_samples\": study.best_trial.params[\"min_child_samples\"],\n",
    "    \"num_iterations\": study.best_trial.params[\"num_iterations\"]\n",
    "}\n",
    "\n",
    "lgbm = LGBMRegressor(**lgbm_params)\n",
    "lgbm.fit(As_X_train, As_y_train)"
   ]
  },
  {
   "cell_type": "code",
   "execution_count": 31,
   "id": "8577fb37",
   "metadata": {},
   "outputs": [],
   "source": [
    "y_train_pred = lgbm.predict(As_X_train)\n",
    "y_test_pred = lgbm.predict(As_X_test)"
   ]
  },
  {
   "cell_type": "code",
   "execution_count": 32,
   "id": "2ea0526a",
   "metadata": {},
   "outputs": [],
   "source": [
    "# plt.scatter(y_train_pred, np.array(As_y_train))"
   ]
  },
  {
   "cell_type": "code",
   "execution_count": 33,
   "id": "d2a4dd85",
   "metadata": {},
   "outputs": [
    {
     "name": "stdout",
     "output_type": "stream",
     "text": [
      "Train RMSE:  0.026601595729512803\n",
      "Test RMSE:  0.610283144983356\n"
     ]
    }
   ],
   "source": [
    "print(\"Train RMSE: \", np.sqrt(mean_squared_error(As_y_train, y_train_pred)))\n",
    "print(\"Test RMSE: \", np.sqrt(mean_squared_error(As_y_test, y_test_pred)))"
   ]
  },
  {
   "cell_type": "code",
   "execution_count": 34,
   "id": "08fe787a",
   "metadata": {},
   "outputs": [
    {
     "name": "stdout",
     "output_type": "stream",
     "text": [
      "Train R2:  0.9987652154567433\n",
      "Test R2:  0.34153550110048536\n"
     ]
    }
   ],
   "source": [
    "print(\"Train R2: \", r2_score(As_y_train, y_train_pred))\n",
    "print(\"Test R2: \", r2_score(As_y_test, y_test_pred))"
   ]
  },
  {
   "cell_type": "code",
   "execution_count": 35,
   "id": "5ec4820c",
   "metadata": {},
   "outputs": [
    {
     "data": {
      "image/png": "[encoded data removed]",
      "text/plain": [
       "<Figure size 640x480 with 1 Axes>"
      ]
     },
     "metadata": {},
     "output_type": "display_data"
    }
   ],
   "source": [
    "plt.scatter(y_train_pred, np.array(As_y_train), color=\"orange\", alpha=0.3)\n",
    "plt.scatter(y_test_pred, np.array(As_y_test), color=\"green\", alpha=0.4)\n",
    "plt.axis(\"auto\") # scaled, tight, auto, image, square\n",
    "# plt.xlim([0, 1.5]) \n",
    "# plt.ylim(0, None) \n",
    "plt.xlabel('Predicted Values')\n",
    "plt.ylabel('Actual Values')\n",
    "\n",
    "# Add y=x line\n",
    "plt.plot([0, 4.0], [0, 4.0], color='red', linestyle='-')\n",
    "\n",
    "plt.show()"
   ]
  },
  {
   "attachments": {},
   "cell_type": "markdown",
   "id": "e0507d63",
   "metadata": {},
   "source": [
    "Cd"
   ]
  },
  {
   "attachments": {},
   "cell_type": "markdown",
   "id": "f8f809d9",
   "metadata": {},
   "source": [
    "Optimization"
   ]
  },
  {
   "cell_type": "code",
   "execution_count": 36,
   "id": "b7aeaf0a",
   "metadata": {},
   "outputs": [
    {
     "name": "stderr",
     "output_type": "stream",
     "text": [
      "\u001b[32m[I 2023-08-24 13:09:05,595]\u001b[0m A new study created in memory with name: lgbm_parameter_opt\u001b[0m\n",
      "\u001b[32m[I 2023-08-24 13:09:09,102]\u001b[0m Trial 0 finished with value: 0.618037877517778 and parameters: {'n_estimators': 831, 'max_depth': 15, 'num_leaves': 27, 'min_child_samples': 9, 'num_iterations': 851}. Best is trial 0 with value: 0.618037877517778.\u001b[0m\n",
      "\u001b[32m[I 2023-08-24 13:09:09,383]\u001b[0m Trial 1 finished with value: 0.5227082252294639 and parameters: {'n_estimators': 911, 'max_depth': 1, 'num_leaves': 26, 'min_child_samples': 1, 'num_iterations': 535}. Best is trial 0 with value: 0.618037877517778.\u001b[0m\n",
      "\u001b[32m[I 2023-08-24 13:09:12,238]\u001b[0m Trial 2 finished with value: 0.6327303645189639 and parameters: {'n_estimators': 867, 'max_depth': 23, 'num_leaves': 18, 'min_child_samples': 1, 'num_iterations': 824}. Best is trial 2 with value: 0.6327303645189639.\u001b[0m\n",
      "\u001b[32m[I 2023-08-24 13:09:13,524]\u001b[0m Trial 3 finished with value: 0.6079241072747298 and parameters: {'n_estimators': 849, 'max_depth': 18, 'num_leaves': 7, 'min_child_samples': 3, 'num_iterations': 955}. Best is trial 2 with value: 0.6327303645189639.\u001b[0m\n",
      "\u001b[32m[I 2023-08-24 13:09:16,328]\u001b[0m Trial 4 finished with value: 0.6251122145647788 and parameters: {'n_estimators': 877, 'max_depth': 24, 'num_leaves': 21, 'min_child_samples': 6, 'num_iterations': 804}. Best is trial 2 with value: 0.6327303645189639.\u001b[0m\n",
      "\u001b[32m[I 2023-08-24 13:09:17,825]\u001b[0m Trial 5 finished with value: 0.6239481562967868 and parameters: {'n_estimators': 990, 'max_depth': 13, 'num_leaves': 9, 'min_child_samples': 8, 'num_iterations': 921}. Best is trial 2 with value: 0.6327303645189639.\u001b[0m\n",
      "\u001b[32m[I 2023-08-24 13:09:19,341]\u001b[0m Trial 6 finished with value: 0.6189999964676438 and parameters: {'n_estimators': 792, 'max_depth': 8, 'num_leaves': 12, 'min_child_samples': 5, 'num_iterations': 614}. Best is trial 2 with value: 0.6327303645189639.\u001b[0m\n",
      "\u001b[32m[I 2023-08-24 13:09:21,325]\u001b[0m Trial 7 finished with value: 0.6206783972757547 and parameters: {'n_estimators': 847, 'max_depth': 4, 'num_leaves': 26, 'min_child_samples': 3, 'num_iterations': 835}. Best is trial 2 with value: 0.6327303645189639.\u001b[0m\n",
      "\u001b[32m[I 2023-08-24 13:09:23,207]\u001b[0m Trial 8 finished with value: 0.6172061467334595 and parameters: {'n_estimators': 508, 'max_depth': 23, 'num_leaves': 11, 'min_child_samples': 2, 'num_iterations': 746}. Best is trial 2 with value: 0.6327303645189639.\u001b[0m\n",
      "\u001b[32m[I 2023-08-24 13:09:24,951]\u001b[0m Trial 9 finished with value: 0.6149076606019571 and parameters: {'n_estimators': 935, 'max_depth': 29, 'num_leaves': 7, 'min_child_samples': 2, 'num_iterations': 851}. Best is trial 2 with value: 0.6327303645189639.\u001b[0m\n",
      "\u001b[32m[I 2023-08-24 13:09:27,460]\u001b[0m Trial 10 finished with value: 0.6293129134854653 and parameters: {'n_estimators': 670, 'max_depth': 30, 'num_leaves': 18, 'min_child_samples': 5, 'num_iterations': 688}. Best is trial 2 with value: 0.6327303645189639.\u001b[0m\n",
      "\u001b[32m[I 2023-08-24 13:09:29,841]\u001b[0m Trial 11 finished with value: 0.6194008242082285 and parameters: {'n_estimators': 658, 'max_depth': 29, 'num_leaves': 17, 'min_child_samples': 5, 'num_iterations': 695}. Best is trial 2 with value: 0.6327303645189639.\u001b[0m\n",
      "\u001b[32m[I 2023-08-24 13:09:32,208]\u001b[0m Trial 12 finished with value: 0.6249715880863873 and parameters: {'n_estimators': 677, 'max_depth': 23, 'num_leaves': 18, 'min_child_samples': 6, 'num_iterations': 679}. Best is trial 2 with value: 0.6327303645189639.\u001b[0m\n",
      "\u001b[32m[I 2023-08-24 13:09:34,416]\u001b[0m Trial 13 finished with value: 0.609864311708458 and parameters: {'n_estimators': 712, 'max_depth': 30, 'num_leaves': 21, 'min_child_samples': 10, 'num_iterations': 637}. Best is trial 2 with value: 0.6327303645189639.\u001b[0m\n",
      "\u001b[32m[I 2023-08-24 13:09:36,682]\u001b[0m Trial 14 finished with value: 0.6253684704143495 and parameters: {'n_estimators': 596, 'max_depth': 19, 'num_leaves': 15, 'min_child_samples': 4, 'num_iterations': 763}. Best is trial 2 with value: 0.6327303645189639.\u001b[0m\n",
      "\u001b[32m[I 2023-08-24 13:09:36,987]\u001b[0m Trial 15 finished with value: 0.5219471264746741 and parameters: {'n_estimators': 768, 'max_depth': 26, 'num_leaves': 2, 'min_child_samples': 7, 'num_iterations': 533}. Best is trial 2 with value: 0.6327303645189639.\u001b[0m\n",
      "\u001b[32m[I 2023-08-24 13:09:40,610]\u001b[0m Trial 16 finished with value: 0.630331594551439 and parameters: {'n_estimators': 607, 'max_depth': 20, 'num_leaves': 22, 'min_child_samples': 1, 'num_iterations': 897}. Best is trial 2 with value: 0.6327303645189639.\u001b[0m\n"
     ]
    },
    {
     "name": "stdout",
     "output_type": "stream",
     "text": [
      "[LightGBM] [Warning] Accuracy may be bad since you didn't explicitly set num_leaves OR 2^max_depth > num_leaves. (num_leaves=31).\n",
      "[LightGBM] [Warning] Accuracy may be bad since you didn't explicitly set num_leaves OR 2^max_depth > num_leaves. (num_leaves=31).\n",
      "[LightGBM] [Warning] Accuracy may be bad since you didn't explicitly set num_leaves OR 2^max_depth > num_leaves. (num_leaves=31).\n",
      "[LightGBM] [Warning] Accuracy may be bad since you didn't explicitly set num_leaves OR 2^max_depth > num_leaves. (num_leaves=31).\n",
      "[LightGBM] [Warning] Accuracy may be bad since you didn't explicitly set num_leaves OR 2^max_depth > num_leaves. (num_leaves=31).\n"
     ]
    },
    {
     "name": "stderr",
     "output_type": "stream",
     "text": [
      "\u001b[32m[I 2023-08-24 13:09:44,889]\u001b[0m Trial 17 finished with value: 0.6407612689024988 and parameters: {'n_estimators': 549, 'max_depth': 19, 'num_leaves': 31, 'min_child_samples': 1, 'num_iterations': 900}. Best is trial 17 with value: 0.6407612689024988.\u001b[0m\n",
      "\u001b[32m[I 2023-08-24 13:09:49,437]\u001b[0m Trial 18 finished with value: 0.6394817867452064 and parameters: {'n_estimators': 504, 'max_depth': 11, 'num_leaves': 32, 'min_child_samples': 1, 'num_iterations': 975}. Best is trial 17 with value: 0.6407612689024988.\u001b[0m\n",
      "\u001b[32m[I 2023-08-24 13:09:53,771]\u001b[0m Trial 19 finished with value: 0.6316476682383833 and parameters: {'n_estimators': 505, 'max_depth': 11, 'num_leaves': 32, 'min_child_samples': 3, 'num_iterations': 995}. Best is trial 17 with value: 0.6407612689024988.\u001b[0m\n",
      "\u001b[32m[I 2023-08-24 13:09:58,348]\u001b[0m Trial 20 finished with value: 0.6324646379588973 and parameters: {'n_estimators': 578, 'max_depth': 9, 'num_leaves': 32, 'min_child_samples': 2, 'num_iterations': 996}. Best is trial 17 with value: 0.6407612689024988.\u001b[0m\n",
      "\u001b[32m[I 2023-08-24 13:10:02,815]\u001b[0m Trial 21 finished with value: 0.6465539034219748 and parameters: {'n_estimators': 555, 'max_depth': 16, 'num_leaves': 29, 'min_child_samples': 1, 'num_iterations': 905}. Best is trial 21 with value: 0.6465539034219748.\u001b[0m\n",
      "\u001b[32m[I 2023-08-24 13:10:07,356]\u001b[0m Trial 22 finished with value: 0.6510108902824966 and parameters: {'n_estimators': 547, 'max_depth': 15, 'num_leaves': 29, 'min_child_samples': 1, 'num_iterations': 925}. Best is trial 22 with value: 0.6510108902824966.\u001b[0m\n",
      "\u001b[32m[I 2023-08-24 13:10:11,390]\u001b[0m Trial 23 finished with value: 0.6315023098003925 and parameters: {'n_estimators': 562, 'max_depth': 16, 'num_leaves': 29, 'min_child_samples': 2, 'num_iterations': 882}. Best is trial 22 with value: 0.6510108902824966.\u001b[0m\n",
      "\u001b[32m[I 2023-08-24 13:10:15,007]\u001b[0m Trial 24 finished with value: 0.6320761335828864 and parameters: {'n_estimators': 551, 'max_depth': 16, 'num_leaves': 29, 'min_child_samples': 4, 'num_iterations': 925}. Best is trial 22 with value: 0.6510108902824966.\u001b[0m\n",
      "\u001b[32m[I 2023-08-24 13:10:18,483]\u001b[0m Trial 25 finished with value: 0.6375042007245011 and parameters: {'n_estimators': 609, 'max_depth': 20, 'num_leaves': 24, 'min_child_samples': 1, 'num_iterations': 940}. Best is trial 22 with value: 0.6510108902824966.\u001b[0m\n",
      "\u001b[32m[I 2023-08-24 13:10:22,114]\u001b[0m Trial 26 finished with value: 0.6341957694259855 and parameters: {'n_estimators': 639, 'max_depth': 14, 'num_leaves': 29, 'min_child_samples': 3, 'num_iterations': 888}. Best is trial 22 with value: 0.6510108902824966.\u001b[0m\n",
      "\u001b[32m[I 2023-08-24 13:10:24,873]\u001b[0m Trial 27 finished with value: 0.6461020525728592 and parameters: {'n_estimators': 531, 'max_depth': 18, 'num_leaves': 24, 'min_child_samples': 2, 'num_iterations': 782}. Best is trial 22 with value: 0.6510108902824966.\u001b[0m\n",
      "\u001b[32m[I 2023-08-24 13:10:27,496]\u001b[0m Trial 28 finished with value: 0.635689096020664 and parameters: {'n_estimators': 729, 'max_depth': 12, 'num_leaves': 24, 'min_child_samples': 4, 'num_iterations': 777}. Best is trial 22 with value: 0.6510108902824966.\u001b[0m\n",
      "\u001b[32m[I 2023-08-24 13:10:30,772]\u001b[0m Trial 29 finished with value: 0.6320544051840629 and parameters: {'n_estimators': 530, 'max_depth': 17, 'num_leaves': 27, 'min_child_samples': 2, 'num_iterations': 859}. Best is trial 22 with value: 0.6510108902824966.\u001b[0m\n",
      "\u001b[32m[I 2023-08-24 13:10:33,438]\u001b[0m Trial 30 finished with value: 0.6291842907270162 and parameters: {'n_estimators': 639, 'max_depth': 8, 'num_leaves': 24, 'min_child_samples': 2, 'num_iterations': 805}. Best is trial 22 with value: 0.6510108902824966.\u001b[0m\n",
      "\u001b[32m[I 2023-08-24 13:10:37,594]\u001b[0m Trial 31 finished with value: 0.6374575823049298 and parameters: {'n_estimators': 553, 'max_depth': 21, 'num_leaves': 30, 'min_child_samples': 1, 'num_iterations': 908}. Best is trial 22 with value: 0.6510108902824966.\u001b[0m\n",
      "\u001b[32m[I 2023-08-24 13:10:41,171]\u001b[0m Trial 32 finished with value: 0.640677680870739 and parameters: {'n_estimators': 531, 'max_depth': 14, 'num_leaves': 27, 'min_child_samples': 1, 'num_iterations': 867}. Best is trial 22 with value: 0.6510108902824966.\u001b[0m\n",
      "\u001b[32m[I 2023-08-24 13:10:44,281]\u001b[0m Trial 33 finished with value: 0.6388300533124524 and parameters: {'n_estimators': 573, 'max_depth': 18, 'num_leaves': 30, 'min_child_samples': 2, 'num_iterations': 730}. Best is trial 22 with value: 0.6510108902824966.\u001b[0m\n",
      "\u001b[32m[I 2023-08-24 13:10:48,035]\u001b[0m Trial 34 finished with value: 0.6377004207861707 and parameters: {'n_estimators': 622, 'max_depth': 15, 'num_leaves': 25, 'min_child_samples': 1, 'num_iterations': 971}. Best is trial 22 with value: 0.6510108902824966.\u001b[0m\n",
      "\u001b[32m[I 2023-08-24 13:10:51,171]\u001b[0m Trial 35 finished with value: 0.6312444372806466 and parameters: {'n_estimators': 534, 'max_depth': 21, 'num_leaves': 28, 'min_child_samples': 3, 'num_iterations': 813}. Best is trial 22 with value: 0.6510108902824966.\u001b[0m\n"
     ]
    },
    {
     "name": "stdout",
     "output_type": "stream",
     "text": [
      "[LightGBM] [Warning] Accuracy may be bad since you didn't explicitly set num_leaves OR 2^max_depth > num_leaves. (num_leaves=31).\n",
      "[LightGBM] [Warning] Accuracy may be bad since you didn't explicitly set num_leaves OR 2^max_depth > num_leaves. (num_leaves=31).\n",
      "[LightGBM] [Warning] Accuracy may be bad since you didn't explicitly set num_leaves OR 2^max_depth > num_leaves. (num_leaves=31).\n",
      "[LightGBM] [Warning] Accuracy may be bad since you didn't explicitly set num_leaves OR 2^max_depth > num_leaves. (num_leaves=31).\n",
      "[LightGBM] [Warning] Accuracy may be bad since you didn't explicitly set num_leaves OR 2^max_depth > num_leaves. (num_leaves=31).\n"
     ]
    },
    {
     "name": "stderr",
     "output_type": "stream",
     "text": [
      "\u001b[32m[I 2023-08-24 13:10:55,642]\u001b[0m Trial 36 finished with value: 0.6383740488191338 and parameters: {'n_estimators': 585, 'max_depth': 17, 'num_leaves': 31, 'min_child_samples': 1, 'num_iterations': 947}. Best is trial 22 with value: 0.6510108902824966.\u001b[0m\n",
      "\u001b[32m[I 2023-08-24 13:10:57,758]\u001b[0m Trial 37 finished with value: 0.634957521468977 and parameters: {'n_estimators': 540, 'max_depth': 18, 'num_leaves': 26, 'min_child_samples': 3, 'num_iterations': 577}. Best is trial 22 with value: 0.6510108902824966.\u001b[0m\n",
      "\u001b[32m[I 2023-08-24 13:11:00,647]\u001b[0m Trial 38 finished with value: 0.6303803872804281 and parameters: {'n_estimators': 809, 'max_depth': 26, 'num_leaves': 22, 'min_child_samples': 1, 'num_iterations': 830}. Best is trial 22 with value: 0.6510108902824966.\u001b[0m\n",
      "\u001b[32m[I 2023-08-24 13:11:03,633]\u001b[0m Trial 39 finished with value: 0.6206028697602208 and parameters: {'n_estimators': 701, 'max_depth': 13, 'num_leaves': 28, 'min_child_samples': 8, 'num_iterations': 781}. Best is trial 22 with value: 0.6510108902824966.\u001b[0m\n",
      "\u001b[32m[I 2023-08-24 13:11:05,272]\u001b[0m Trial 40 finished with value: 0.6160351013395775 and parameters: {'n_estimators': 633, 'max_depth': 4, 'num_leaves': 14, 'min_child_samples': 2, 'num_iterations': 932}. Best is trial 22 with value: 0.6510108902824966.\u001b[0m\n",
      "\u001b[32m[I 2023-08-24 13:11:08,858]\u001b[0m Trial 41 finished with value: 0.6406754761426287 and parameters: {'n_estimators': 527, 'max_depth': 14, 'num_leaves': 27, 'min_child_samples': 1, 'num_iterations': 868}. Best is trial 22 with value: 0.6510108902824966.\u001b[0m\n",
      "\u001b[32m[I 2023-08-24 13:11:12,729]\u001b[0m Trial 42 finished with value: 0.6397227840891188 and parameters: {'n_estimators': 500, 'max_depth': 15, 'num_leaves': 30, 'min_child_samples': 1, 'num_iterations': 844}. Best is trial 22 with value: 0.6510108902824966.\u001b[0m\n",
      "\u001b[32m[I 2023-08-24 13:11:16,189]\u001b[0m Trial 43 finished with value: 0.6312634927771774 and parameters: {'n_estimators': 570, 'max_depth': 17, 'num_leaves': 26, 'min_child_samples': 2, 'num_iterations': 908}. Best is trial 22 with value: 0.6510108902824966.\u001b[0m\n",
      "\u001b[32m[I 2023-08-24 13:11:19,866]\u001b[0m Trial 44 finished with value: 0.6373224765258921 and parameters: {'n_estimators': 526, 'max_depth': 10, 'num_leaves': 28, 'min_child_samples': 1, 'num_iterations': 882}. Best is trial 22 with value: 0.6510108902824966.\u001b[0m\n",
      "\u001b[32m[I 2023-08-24 13:11:23,168]\u001b[0m Trial 45 finished with value: 0.6346998358958336 and parameters: {'n_estimators': 596, 'max_depth': 22, 'num_leaves': 23, 'min_child_samples': 2, 'num_iterations': 964}. Best is trial 22 with value: 0.6510108902824966.\u001b[0m\n"
     ]
    },
    {
     "name": "stdout",
     "output_type": "stream",
     "text": [
      "[LightGBM] [Warning] Accuracy may be bad since you didn't explicitly set num_leaves OR 2^max_depth > num_leaves. (num_leaves=31).\n",
      "[LightGBM] [Warning] Accuracy may be bad since you didn't explicitly set num_leaves OR 2^max_depth > num_leaves. (num_leaves=31).\n",
      "[LightGBM] [Warning] Accuracy may be bad since you didn't explicitly set num_leaves OR 2^max_depth > num_leaves. (num_leaves=31).\n",
      "[LightGBM] [Warning] Accuracy may be bad since you didn't explicitly set num_leaves OR 2^max_depth > num_leaves. (num_leaves=31).\n",
      "[LightGBM] [Warning] Accuracy may be bad since you didn't explicitly set num_leaves OR 2^max_depth > num_leaves. (num_leaves=31).\n"
     ]
    },
    {
     "name": "stderr",
     "output_type": "stream",
     "text": [
      "\u001b[32m[I 2023-08-24 13:11:26,944]\u001b[0m Trial 46 finished with value: 0.6400750595321405 and parameters: {'n_estimators': 553, 'max_depth': 19, 'num_leaves': 31, 'min_child_samples': 3, 'num_iterations': 868}. Best is trial 22 with value: 0.6510108902824966.\u001b[0m\n",
      "\u001b[32m[I 2023-08-24 13:11:29,727]\u001b[0m Trial 47 finished with value: 0.6313647702892348 and parameters: {'n_estimators': 884, 'max_depth': 13, 'num_leaves': 27, 'min_child_samples': 2, 'num_iterations': 715}. Best is trial 22 with value: 0.6510108902824966.\u001b[0m\n",
      "\u001b[32m[I 2023-08-24 13:11:32,227]\u001b[0m Trial 48 finished with value: 0.6251160723179422 and parameters: {'n_estimators': 517, 'max_depth': 25, 'num_leaves': 20, 'min_child_samples': 1, 'num_iterations': 790}. Best is trial 22 with value: 0.6510108902824966.\u001b[0m\n",
      "\u001b[32m[I 2023-08-24 13:11:34,443]\u001b[0m Trial 49 finished with value: 0.6137253498157741 and parameters: {'n_estimators': 661, 'max_depth': 6, 'num_leaves': 20, 'min_child_samples': 7, 'num_iterations': 917}. Best is trial 22 with value: 0.6510108902824966.\u001b[0m\n"
     ]
    },
    {
     "name": "stdout",
     "output_type": "stream",
     "text": [
      "[LightGBM] [Warning] Accuracy may be bad since you didn't explicitly set num_leaves OR 2^max_depth > num_leaves. (num_leaves=31).\n",
      "[LightGBM] [Warning] Accuracy may be bad since you didn't explicitly set num_leaves OR 2^max_depth > num_leaves. (num_leaves=31).\n",
      "[LightGBM] [Warning] Accuracy may be bad since you didn't explicitly set num_leaves OR 2^max_depth > num_leaves. (num_leaves=31).\n",
      "[LightGBM] [Warning] Accuracy may be bad since you didn't explicitly set num_leaves OR 2^max_depth > num_leaves. (num_leaves=31).\n",
      "[LightGBM] [Warning] Accuracy may be bad since you didn't explicitly set num_leaves OR 2^max_depth > num_leaves. (num_leaves=31).\n"
     ]
    },
    {
     "name": "stderr",
     "output_type": "stream",
     "text": [
      "\u001b[32m[I 2023-08-24 13:11:37,879]\u001b[0m Trial 50 finished with value: 0.6153823061020589 and parameters: {'n_estimators': 588, 'max_depth': 14, 'num_leaves': 31, 'min_child_samples': 10, 'num_iterations': 826}. Best is trial 22 with value: 0.6510108902824966.\u001b[0m\n",
      "\u001b[32m[I 2023-08-24 13:11:41,209]\u001b[0m Trial 51 finished with value: 0.6377555922547431 and parameters: {'n_estimators': 529, 'max_depth': 15, 'num_leaves': 25, 'min_child_samples': 1, 'num_iterations': 863}. Best is trial 22 with value: 0.6510108902824966.\u001b[0m\n",
      "\u001b[32m[I 2023-08-24 13:11:44,833]\u001b[0m Trial 52 finished with value: 0.6457433682934454 and parameters: {'n_estimators': 953, 'max_depth': 13, 'num_leaves': 27, 'min_child_samples': 1, 'num_iterations': 873}. Best is trial 22 with value: 0.6510108902824966.\u001b[0m\n",
      "\u001b[32m[I 2023-08-24 13:11:48,671]\u001b[0m Trial 53 finished with value: 0.6381946210028115 and parameters: {'n_estimators': 960, 'max_depth': 12, 'num_leaves': 28, 'min_child_samples': 1, 'num_iterations': 898}. Best is trial 22 with value: 0.6510108902824966.\u001b[0m\n",
      "\u001b[32m[I 2023-08-24 13:11:52,184]\u001b[0m Trial 54 finished with value: 0.6344119625546407 and parameters: {'n_estimators': 983, 'max_depth': 16, 'num_leaves': 25, 'min_child_samples': 2, 'num_iterations': 950}. Best is trial 22 with value: 0.6510108902824966.\u001b[0m\n",
      "\u001b[32m[I 2023-08-24 13:11:56,077]\u001b[0m Trial 55 finished with value: 0.6374592273625435 and parameters: {'n_estimators': 858, 'max_depth': 19, 'num_leaves': 30, 'min_child_samples': 1, 'num_iterations': 841}. Best is trial 22 with value: 0.6510108902824966.\u001b[0m\n",
      "\u001b[32m[I 2023-08-24 13:11:58,419]\u001b[0m Trial 56 finished with value: 0.633876361090376 and parameters: {'n_estimators': 553, 'max_depth': 18, 'num_leaves': 32, 'min_child_samples': 2, 'num_iterations': 501}. Best is trial 22 with value: 0.6510108902824966.\u001b[0m\n",
      "\u001b[32m[I 2023-08-24 13:12:01,426]\u001b[0m Trial 57 finished with value: 0.6308201555996235 and parameters: {'n_estimators': 903, 'max_depth': 11, 'num_leaves': 29, 'min_child_samples': 3, 'num_iterations': 748}. Best is trial 22 with value: 0.6510108902824966.\u001b[0m\n",
      "\u001b[32m[I 2023-08-24 13:12:04,037]\u001b[0m Trial 58 finished with value: 0.6310468669783186 and parameters: {'n_estimators': 830, 'max_depth': 12, 'num_leaves': 27, 'min_child_samples': 2, 'num_iterations': 653}. Best is trial 22 with value: 0.6510108902824966.\u001b[0m\n",
      "\u001b[32m[I 2023-08-24 13:12:07,811]\u001b[0m Trial 59 finished with value: 0.6438251474908607 and parameters: {'n_estimators': 753, 'max_depth': 14, 'num_leaves': 26, 'min_child_samples': 1, 'num_iterations': 930}. Best is trial 22 with value: 0.6510108902824966.\u001b[0m\n",
      "\u001b[32m[I 2023-08-24 13:12:08,282]\u001b[0m Trial 60 finished with value: 0.5342043912164642 and parameters: {'n_estimators': 748, 'max_depth': 16, 'num_leaves': 2, 'min_child_samples': 4, 'num_iterations': 985}. Best is trial 22 with value: 0.6510108902824966.\u001b[0m\n",
      "\u001b[32m[I 2023-08-24 13:12:12,070]\u001b[0m Trial 61 finished with value: 0.6438237050602058 and parameters: {'n_estimators': 798, 'max_depth': 14, 'num_leaves': 26, 'min_child_samples': 1, 'num_iterations': 935}. Best is trial 22 with value: 0.6510108902824966.\u001b[0m\n",
      "\u001b[32m[I 2023-08-24 13:12:15,563]\u001b[0m Trial 62 finished with value: 0.6296026313651284 and parameters: {'n_estimators': 772, 'max_depth': 17, 'num_leaves': 23, 'min_child_samples': 1, 'num_iterations': 930}. Best is trial 22 with value: 0.6510108902824966.\u001b[0m\n",
      "\u001b[32m[I 2023-08-24 13:12:19,218]\u001b[0m Trial 63 finished with value: 0.6355727994734186 and parameters: {'n_estimators': 793, 'max_depth': 13, 'num_leaves': 26, 'min_child_samples': 2, 'num_iterations': 963}. Best is trial 22 with value: 0.6510108902824966.\u001b[0m\n",
      "\u001b[32m[I 2023-08-24 13:12:23,397]\u001b[0m Trial 64 finished with value: 0.6453915625653358 and parameters: {'n_estimators': 686, 'max_depth': 20, 'num_leaves': 29, 'min_child_samples': 1, 'num_iterations': 914}. Best is trial 22 with value: 0.6510108902824966.\u001b[0m\n",
      "\u001b[32m[I 2023-08-24 13:12:24,442]\u001b[0m Trial 65 finished with value: 0.6221508249953531 and parameters: {'n_estimators': 688, 'max_depth': 20, 'num_leaves': 6, 'min_child_samples': 1, 'num_iterations': 941}. Best is trial 22 with value: 0.6510108902824966.\u001b[0m\n",
      "\u001b[32m[I 2023-08-24 13:12:28,298]\u001b[0m Trial 66 finished with value: 0.6345004520476885 and parameters: {'n_estimators': 744, 'max_depth': 15, 'num_leaves': 29, 'min_child_samples': 2, 'num_iterations': 924}. Best is trial 22 with value: 0.6510108902824966.\u001b[0m\n",
      "\u001b[32m[I 2023-08-24 13:12:31,672]\u001b[0m Trial 67 finished with value: 0.6314840538340165 and parameters: {'n_estimators': 936, 'max_depth': 9, 'num_leaves': 25, 'min_child_samples': 1, 'num_iterations': 883}. Best is trial 22 with value: 0.6510108902824966.\u001b[0m\n",
      "\u001b[32m[I 2023-08-24 13:12:35,097]\u001b[0m Trial 68 finished with value: 0.6303125776144698 and parameters: {'n_estimators': 722, 'max_depth': 22, 'num_leaves': 22, 'min_child_samples': 1, 'num_iterations': 981}. Best is trial 22 with value: 0.6510108902824966.\u001b[0m\n",
      "\u001b[32m[I 2023-08-24 13:12:38,464]\u001b[0m Trial 69 finished with value: 0.6291849387853461 and parameters: {'n_estimators': 773, 'max_depth': 10, 'num_leaves': 24, 'min_child_samples': 1, 'num_iterations': 908}. Best is trial 22 with value: 0.6510108902824966.\u001b[0m\n",
      "\u001b[32m[I 2023-08-24 13:12:41,852]\u001b[0m Trial 70 finished with value: 0.6307122189414539 and parameters: {'n_estimators': 824, 'max_depth': 18, 'num_leaves': 28, 'min_child_samples': 6, 'num_iterations': 893}. Best is trial 22 with value: 0.6510108902824966.\u001b[0m\n"
     ]
    },
    {
     "name": "stdout",
     "output_type": "stream",
     "text": [
      "[LightGBM] [Warning] Accuracy may be bad since you didn't explicitly set num_leaves OR 2^max_depth > num_leaves. (num_leaves=31).\n",
      "[LightGBM] [Warning] Accuracy may be bad since you didn't explicitly set num_leaves OR 2^max_depth > num_leaves. (num_leaves=31).\n",
      "[LightGBM] [Warning] Accuracy may be bad since you didn't explicitly set num_leaves OR 2^max_depth > num_leaves. (num_leaves=31).\n",
      "[LightGBM] [Warning] Accuracy may be bad since you didn't explicitly set num_leaves OR 2^max_depth > num_leaves. (num_leaves=31).\n",
      "[LightGBM] [Warning] Accuracy may be bad since you didn't explicitly set num_leaves OR 2^max_depth > num_leaves. (num_leaves=31).\n"
     ]
    },
    {
     "name": "stderr",
     "output_type": "stream",
     "text": [
      "\u001b[32m[I 2023-08-24 13:12:46,331]\u001b[0m Trial 71 finished with value: 0.6434827954112592 and parameters: {'n_estimators': 620, 'max_depth': 20, 'num_leaves': 31, 'min_child_samples': 1, 'num_iterations': 952}. Best is trial 22 with value: 0.6510108902824966.\u001b[0m\n",
      "\u001b[32m[I 2023-08-24 13:12:50,659]\u001b[0m Trial 72 finished with value: 0.6374535953032007 and parameters: {'n_estimators': 701, 'max_depth': 21, 'num_leaves': 30, 'min_child_samples': 1, 'num_iterations': 955}. Best is trial 22 with value: 0.6510108902824966.\u001b[0m\n",
      "\u001b[32m[I 2023-08-24 13:12:54,198]\u001b[0m Trial 73 finished with value: 0.6376363408910299 and parameters: {'n_estimators': 611, 'max_depth': 14, 'num_leaves': 26, 'min_child_samples': 2, 'num_iterations': 944}. Best is trial 22 with value: 0.6510108902824966.\u001b[0m\n",
      "\u001b[32m[I 2023-08-24 13:12:58,267]\u001b[0m Trial 74 finished with value: 0.6449302710874952 and parameters: {'n_estimators': 677, 'max_depth': 17, 'num_leaves': 29, 'min_child_samples': 1, 'num_iterations': 918}. Best is trial 22 with value: 0.6510108902824966.\u001b[0m\n",
      "\u001b[32m[I 2023-08-24 13:13:02,363]\u001b[0m Trial 75 finished with value: 0.6449326324641167 and parameters: {'n_estimators': 733, 'max_depth': 17, 'num_leaves': 29, 'min_child_samples': 1, 'num_iterations': 921}. Best is trial 22 with value: 0.6510108902824966.\u001b[0m\n",
      "\u001b[32m[I 2023-08-24 13:13:05,910]\u001b[0m Trial 76 finished with value: 0.6154431141726556 and parameters: {'n_estimators': 683, 'max_depth': 16, 'num_leaves': 29, 'min_child_samples': 9, 'num_iterations': 916}. Best is trial 22 with value: 0.6510108902824966.\u001b[0m\n",
      "\u001b[32m[I 2023-08-24 13:13:10,168]\u001b[0m Trial 77 finished with value: 0.6431624555734352 and parameters: {'n_estimators': 737, 'max_depth': 17, 'num_leaves': 28, 'min_child_samples': 1, 'num_iterations': 878}. Best is trial 22 with value: 0.6510108902824966.\u001b[0m\n",
      "\u001b[32m[I 2023-08-24 13:13:14,152]\u001b[0m Trial 78 finished with value: 0.6338289764085117 and parameters: {'n_estimators': 760, 'max_depth': 18, 'num_leaves': 32, 'min_child_samples': 2, 'num_iterations': 850}. Best is trial 22 with value: 0.6510108902824966.\u001b[0m\n",
      "\u001b[32m[I 2023-08-24 13:13:18,195]\u001b[0m Trial 79 finished with value: 0.6465527246884794 and parameters: {'n_estimators': 662, 'max_depth': 16, 'num_leaves': 29, 'min_child_samples': 1, 'num_iterations': 908}. Best is trial 22 with value: 0.6510108902824966.\u001b[0m\n",
      "\u001b[32m[I 2023-08-24 13:13:22,083]\u001b[0m Trial 80 finished with value: 0.6365143468368103 and parameters: {'n_estimators': 667, 'max_depth': 19, 'num_leaves': 30, 'min_child_samples': 2, 'num_iterations': 902}. Best is trial 22 with value: 0.6510108902824966.\u001b[0m\n",
      "\u001b[32m[I 2023-08-24 13:13:26,193]\u001b[0m Trial 81 finished with value: 0.6465534545495392 and parameters: {'n_estimators': 652, 'max_depth': 16, 'num_leaves': 29, 'min_child_samples': 1, 'num_iterations': 915}. Best is trial 22 with value: 0.6510108902824966.\u001b[0m\n",
      "\u001b[32m[I 2023-08-24 13:13:30,256]\u001b[0m Trial 82 finished with value: 0.6449326324641167 and parameters: {'n_estimators': 645, 'max_depth': 17, 'num_leaves': 29, 'min_child_samples': 1, 'num_iterations': 921}. Best is trial 22 with value: 0.6510108902824966.\u001b[0m\n"
     ]
    },
    {
     "name": "stdout",
     "output_type": "stream",
     "text": [
      "[LightGBM] [Warning] Accuracy may be bad since you didn't explicitly set num_leaves OR 2^max_depth > num_leaves. (num_leaves=31).\n",
      "[LightGBM] [Warning] Accuracy may be bad since you didn't explicitly set num_leaves OR 2^max_depth > num_leaves. (num_leaves=31).\n",
      "[LightGBM] [Warning] Accuracy may be bad since you didn't explicitly set num_leaves OR 2^max_depth > num_leaves. (num_leaves=31).\n",
      "[LightGBM] [Warning] Accuracy may be bad since you didn't explicitly set num_leaves OR 2^max_depth > num_leaves. (num_leaves=31).\n",
      "[LightGBM] [Warning] Accuracy may be bad since you didn't explicitly set num_leaves OR 2^max_depth > num_leaves. (num_leaves=31).\n"
     ]
    },
    {
     "name": "stderr",
     "output_type": "stream",
     "text": [
      "\u001b[32m[I 2023-08-24 13:13:34,177]\u001b[0m Trial 83 finished with value: 0.6372740130903247 and parameters: {'n_estimators': 654, 'max_depth': 15, 'num_leaves': 31, 'min_child_samples': 2, 'num_iterations': 879}. Best is trial 22 with value: 0.6510108902824966.\u001b[0m\n",
      "\u001b[32m[I 2023-08-24 13:13:37,879]\u001b[0m Trial 84 finished with value: 0.6413712793977643 and parameters: {'n_estimators': 642, 'max_depth': 16, 'num_leaves': 27, 'min_child_samples': 1, 'num_iterations': 891}. Best is trial 22 with value: 0.6510108902824966.\u001b[0m\n",
      "\u001b[32m[I 2023-08-24 13:13:41,958]\u001b[0m Trial 85 finished with value: 0.6453906643244298 and parameters: {'n_estimators': 709, 'max_depth': 19, 'num_leaves': 29, 'min_child_samples': 1, 'num_iterations': 913}. Best is trial 22 with value: 0.6510108902824966.\u001b[0m\n",
      "\u001b[32m[I 2023-08-24 13:13:45,609]\u001b[0m Trial 86 finished with value: 0.6298471051086414 and parameters: {'n_estimators': 711, 'max_depth': 19, 'num_leaves': 28, 'min_child_samples': 2, 'num_iterations': 902}. Best is trial 22 with value: 0.6510108902824966.\u001b[0m\n",
      "\u001b[32m[I 2023-08-24 13:13:49,566]\u001b[0m Trial 87 finished with value: 0.6374612450715125 and parameters: {'n_estimators': 696, 'max_depth': 23, 'num_leaves': 30, 'min_child_samples': 1, 'num_iterations': 858}. Best is trial 22 with value: 0.6510108902824966.\u001b[0m\n",
      "\u001b[32m[I 2023-08-24 13:13:50,030]\u001b[0m Trial 88 finished with value: 0.5354487568658991 and parameters: {'n_estimators': 717, 'max_depth': 1, 'num_leaves': 31, 'min_child_samples': 1, 'num_iterations': 965}. Best is trial 22 with value: 0.6510108902824966.\u001b[0m\n",
      "\u001b[32m[I 2023-08-24 13:13:53,162]\u001b[0m Trial 89 finished with value: 0.6282116865259713 and parameters: {'n_estimators': 650, 'max_depth': 21, 'num_leaves': 27, 'min_child_samples': 3, 'num_iterations': 814}. Best is trial 22 with value: 0.6510108902824966.\u001b[0m\n",
      "\u001b[32m[I 2023-08-24 13:13:57,355]\u001b[0m Trial 90 finished with value: 0.6338347500930509 and parameters: {'n_estimators': 564, 'max_depth': 18, 'num_leaves': 32, 'min_child_samples': 2, 'num_iterations': 912}. Best is trial 22 with value: 0.6510108902824966.\u001b[0m\n",
      "\u001b[32m[I 2023-08-24 13:14:01,296]\u001b[0m Trial 91 finished with value: 0.6449340166557567 and parameters: {'n_estimators': 669, 'max_depth': 17, 'num_leaves': 29, 'min_child_samples': 1, 'num_iterations': 873}. Best is trial 22 with value: 0.6510108902824966.\u001b[0m\n",
      "\u001b[32m[I 2023-08-24 13:14:05,171]\u001b[0m Trial 92 finished with value: 0.6453932476344425 and parameters: {'n_estimators': 621, 'max_depth': 20, 'num_leaves': 29, 'min_child_samples': 1, 'num_iterations': 873}. Best is trial 22 with value: 0.6510108902824966.\u001b[0m\n",
      "\u001b[32m[I 2023-08-24 13:14:07,553]\u001b[0m Trial 93 finished with value: 0.6208191409309232 and parameters: {'n_estimators': 665, 'max_depth': 22, 'num_leaves': 17, 'min_child_samples': 1, 'num_iterations': 852}. Best is trial 22 with value: 0.6510108902824966.\u001b[0m\n",
      "\u001b[32m[I 2023-08-24 13:14:10,778]\u001b[0m Trial 94 finished with value: 0.6247093108005147 and parameters: {'n_estimators': 629, 'max_depth': 20, 'num_leaves': 28, 'min_child_samples': 5, 'num_iterations': 835}. Best is trial 22 with value: 0.6510108902824966.\u001b[0m\n",
      "\u001b[32m[I 2023-08-24 13:14:14,270]\u001b[0m Trial 95 finished with value: 0.6398921326746392 and parameters: {'n_estimators': 603, 'max_depth': 16, 'num_leaves': 30, 'min_child_samples': 1, 'num_iterations': 762}. Best is trial 22 with value: 0.6510108902824966.\u001b[0m\n",
      "\u001b[32m[I 2023-08-24 13:14:17,958]\u001b[0m Trial 96 finished with value: 0.6444396285192652 and parameters: {'n_estimators': 512, 'max_depth': 15, 'num_leaves': 27, 'min_child_samples': 1, 'num_iterations': 891}. Best is trial 22 with value: 0.6510108902824966.\u001b[0m\n",
      "\u001b[32m[I 2023-08-24 13:14:21,504]\u001b[0m Trial 97 finished with value: 0.6298365852417227 and parameters: {'n_estimators': 541, 'max_depth': 19, 'num_leaves': 28, 'min_child_samples': 2, 'num_iterations': 872}. Best is trial 22 with value: 0.6510108902824966.\u001b[0m\n",
      "\u001b[32m[I 2023-08-24 13:14:25,151]\u001b[0m Trial 98 finished with value: 0.6357840538045598 and parameters: {'n_estimators': 678, 'max_depth': 13, 'num_leaves': 30, 'min_child_samples': 1, 'num_iterations': 799}. Best is trial 22 with value: 0.6510108902824966.\u001b[0m\n",
      "\u001b[32m[I 2023-08-24 13:14:26,512]\u001b[0m Trial 99 finished with value: 0.620552650208349 and parameters: {'n_estimators': 584, 'max_depth': 19, 'num_leaves': 10, 'min_child_samples': 1, 'num_iterations': 818}. Best is trial 22 with value: 0.6510108902824966.\u001b[0m\n"
     ]
    },
    {
     "name": "stdout",
     "output_type": "stream",
     "text": [
      "Best r2:  0.6510108902824966\n",
      "Best trial: {'n_estimators': 547, 'max_depth': 15, 'num_leaves': 29, 'min_child_samples': 1, 'num_iterations': 925}\n"
     ]
    }
   ],
   "source": [
    "sampler = TPESampler()\n",
    "study = optuna.create_study(\n",
    "    study_name=\"lgbm_parameter_opt\",\n",
    "    direction=\"maximize\",\n",
    "    sampler=sampler,\n",
    ")\n",
    "\n",
    "study.optimize(lambda trial : objectiveLGBM(trial, Cd_X_train, Cd_y_train), n_trials=100)\n",
    "print(\"Best r2: \", study.best_value)\n",
    "print(\"Best trial:\", study.best_trial.params)"
   ]
  },
  {
   "cell_type": "code",
   "execution_count": 37,
   "id": "861f88d8",
   "metadata": {},
   "outputs": [
    {
     "data": {
      "application/vnd.plotly.v1+json": {
       "config": {
        "plotlyServerURL": "https://plot.ly"
       },
       "data": [
        {
         "dimensions": [
          {
           "label": "Objective Value",
           "range": [
            0.5219471264746741,
            0.6510108902824966
           ],
           "values": [
            0.618037877517778,
            0.5227082252294639,
            0.6327303645189639,
            0.6079241072747298,
            0.6251122145647788,
            0.6239481562967868,
            0.6189999964676438,
            0.6206783972757547,
            0.6172061467334595,
            0.6149076606019571,
            0.6293129134854653,
            0.6194008242082285,
            0.6249715880863873,
            0.609864311708458,
            0.6253684704143495,
            0.5219471264746741,
            0.630331594551439,
            0.6407612689024988,
            0.6394817867452064,
            0.6316476682383833,
            0.6324646379588973,
            0.6465539034219748,
            0.6510108902824966,
            0.6315023098003925,
            0.6320761335828864,
            0.6375042007245011,
            0.6341957694259855,
            0.6461020525728592,
            0.635689096020664,
            0.6320544051840629,
            0.6291842907270162,
            0.6374575823049298,
            0.640677680870739,
            0.6388300533124524,
            0.6377004207861707,
            0.6312444372806466,
            0.6383740488191338,
            0.634957521468977,
            0.6303803872804281,
            0.6206028697602208,
            0.6160351013395775,
            0.6406754761426287,
            0.6397227840891188,
            0.6312634927771774,
            0.6373224765258921,
            0.6346998358958336,
            0.6400750595321405,
            0.6313647702892348,
            0.6251160723179422,
            0.6137253498157741,
            0.6153823061020589,
            0.6377555922547431,
            0.6457433682934454,
            0.6381946210028115,
            0.6344119625546407,
            0.6374592273625435,
            0.633876361090376,
            0.6308201555996235,
            0.6310468669783186,
            0.6438251474908607,
            0.5342043912164642,
            0.6438237050602058,
            0.6296026313651284,
            0.6355727994734186,
            0.6453915625653358,
            0.6221508249953531,
            0.6345004520476885,
            0.6314840538340165,
            0.6303125776144698,
            0.6291849387853461,
            0.6307122189414539,
            0.6434827954112592,
            0.6374535953032007,
            0.6376363408910299,
            0.6449302710874952,
            0.6449326324641167,
            0.6154431141726556,
            0.6431624555734352,
            0.6338289764085117,
            0.6465527246884794,
            0.6365143468368103,
            0.6465534545495392,
            0.6449326324641167,
            0.6372740130903247,
            0.6413712793977643,
            0.6453906643244298,
            0.6298471051086414,
            0.6374612450715125,
            0.5354487568658991,
            0.6282116865259713,
            0.6338347500930509,
            0.6449340166557567,
            0.6453932476344425,
            0.6208191409309232,
            0.6247093108005147,
            0.6398921326746392,
            0.6444396285192652,
            0.6298365852417227,
            0.6357840538045598,
            0.620552650208349
           ]
          },
          {
           "label": "max_depth",
           "range": [
            1,
            30
           ],
           "values": [
            15,
            1,
            23,
            18,
            24,
            13,
            8,
            4,
            23,
            29,
            30,
            29,
            23,
            30,
            19,
            26,
            20,
            19,
            11,
            11,
            9,
            16,
            15,
            16,
            16,
            20,
            14,
            18,
            12,
            17,
            8,
            21,
            14,
            18,
            15,
            21,
            17,
            18,
            26,
            13,
            4,
            14,
            15,
            17,
            10,
            22,
            19,
            13,
            25,
            6,
            14,
            15,
            13,
            12,
            16,
            19,
            18,
            11,
            12,
            14,
            16,
            14,
            17,
            13,
            20,
            20,
            15,
            9,
            22,
            10,
            18,
            20,
            21,
            14,
            17,
            17,
            16,
            17,
            18,
            16,
            19,
            16,
            17,
            15,
            16,
            19,
            19,
            23,
            1,
            21,
            18,
            17,
            20,
            22,
            20,
            16,
            15,
            19,
            13,
            19
           ]
          },
          {
           "label": "min_child_samples",
           "range": [
            1,
            10
           ],
           "values": [
            9,
            1,
            1,
            3,
            6,
            8,
            5,
            3,
            2,
            2,
            5,
            5,
            6,
            10,
            4,
            7,
            1,
            1,
            1,
            3,
            2,
            1,
            1,
            2,
            4,
            1,
            3,
            2,
            4,
            2,
            2,
            1,
            1,
            2,
            1,
            3,
            1,
            3,
            1,
            8,
            2,
            1,
            1,
            2,
            1,
            2,
            3,
            2,
            1,
            7,
            10,
            1,
            1,
            1,
            2,
            1,
            2,
            3,
            2,
            1,
            4,
            1,
            1,
            2,
            1,
            1,
            2,
            1,
            1,
            1,
            6,
            1,
            1,
            2,
            1,
            1,
            9,
            1,
            2,
            1,
            2,
            1,
            1,
            2,
            1,
            1,
            2,
            1,
            1,
            3,
            2,
            1,
            1,
            1,
            5,
            1,
            1,
            2,
            1,
            1
           ]
          },
          {
           "label": "n_estimators",
           "range": [
            500,
            990
           ],
           "values": [
            831,
            911,
            867,
            849,
            877,
            990,
            792,
            847,
            508,
            935,
            670,
            658,
            677,
            712,
            596,
            768,
            607,
            549,
            504,
            505,
            578,
            555,
            547,
            562,
            551,
            609,
            639,
            531,
            729,
            530,
            639,
            553,
            531,
            573,
            622,
            534,
            585,
            540,
            809,
            701,
            633,
            527,
            500,
            570,
            526,
            596,
            553,
            884,
            517,
            661,
            588,
            529,
            953,
            960,
            983,
            858,
            553,
            903,
            830,
            753,
            748,
            798,
            772,
            793,
            686,
            688,
            744,
            936,
            722,
            773,
            824,
            620,
            701,
            611,
            677,
            733,
            683,
            737,
            760,
            662,
            667,
            652,
            645,
            654,
            642,
            709,
            711,
            696,
            717,
            650,
            564,
            669,
            621,
            665,
            629,
            603,
            512,
            541,
            678,
            584
           ]
          },
          {
           "label": "num_iterations",
           "range": [
            501,
            996
           ],
           "values": [
            851,
            535,
            824,
            955,
            804,
            921,
            614,
            835,
            746,
            851,
            688,
            695,
            679,
            637,
            763,
            533,
            897,
            900,
            975,
            995,
            996,
            905,
            925,
            882,
            925,
            940,
            888,
            782,
            777,
            859,
            805,
            908,
            867,
            730,
            971,
            813,
            947,
            577,
            830,
            781,
            932,
            868,
            844,
            908,
            882,
            964,
            868,
            715,
            790,
            917,
            826,
            863,
            873,
            898,
            950,
            841,
            501,
            748,
            653,
            930,
            985,
            935,
            930,
            963,
            914,
            941,
            924,
            883,
            981,
            908,
            893,
            952,
            955,
            944,
            918,
            921,
            916,
            878,
            850,
            908,
            902,
            915,
            921,
            879,
            891,
            913,
            902,
            858,
            965,
            814,
            912,
            873,
            873,
            852,
            835,
            762,
            891,
            872,
            799,
            818
           ]
          },
          {
           "label": "num_leaves",
           "range": [
            2,
            32
           ],
           "values": [
            27,
            26,
            18,
            7,
            21,
            9,
            12,
            26,
            11,
            7,
            18,
            17,
            18,
            21,
            15,
            2,
            22,
            31,
            32,
            32,
            32,
            29,
            29,
            29,
            29,
            24,
            29,
            24,
            24,
            27,
            24,
            30,
            27,
            30,
            25,
            28,
            31,
            26,
            22,
            28,
            14,
            27,
            30,
            26,
            28,
            23,
            31,
            27,
            20,
            20,
            31,
            25,
            27,
            28,
            25,
            30,
            32,
            29,
            27,
            26,
            2,
            26,
            23,
            26,
            29,
            6,
            29,
            25,
            22,
            24,
            28,
            31,
            30,
            26,
            29,
            29,
            29,
            28,
            32,
            29,
            30,
            29,
            29,
            31,
            27,
            29,
            28,
            30,
            31,
            27,
            32,
            29,
            29,
            17,
            28,
            30,
            27,
            28,
            30,
            10
           ]
          }
         ],
         "labelangle": 30,
         "labelside": "bottom",
         "line": {
          "color": [
           0.618037877517778,
           0.5227082252294639,
           0.6327303645189639,
           0.6079241072747298,
           0.6251122145647788,
           0.6239481562967868,
           0.6189999964676438,
           0.6206783972757547,
           0.6172061467334595,
           0.6149076606019571,
           0.6293129134854653,
           0.6194008242082285,
           0.6249715880863873,
           0.609864311708458,
           0.6253684704143495,
           0.5219471264746741,
           0.630331594551439,
           0.6407612689024988,
           0.6394817867452064,
           0.6316476682383833,
           0.6324646379588973,
           0.6465539034219748,
           0.6510108902824966,
           0.6315023098003925,
           0.6320761335828864,
           0.6375042007245011,
           0.6341957694259855,
           0.6461020525728592,
           0.635689096020664,
           0.6320544051840629,
           0.6291842907270162,
           0.6374575823049298,
           0.640677680870739,
           0.6388300533124524,
           0.6377004207861707,
           0.6312444372806466,
           0.6383740488191338,
           0.634957521468977,
           0.6303803872804281,
           0.6206028697602208,
           0.6160351013395775,
           0.6406754761426287,
           0.6397227840891188,
           0.6312634927771774,
           0.6373224765258921,
           0.6346998358958336,
           0.6400750595321405,
           0.6313647702892348,
           0.6251160723179422,
           0.6137253498157741,
           0.6153823061020589,
           0.6377555922547431,
           0.6457433682934454,
           0.6381946210028115,
           0.6344119625546407,
           0.6374592273625435,
           0.633876361090376,
           0.6308201555996235,
           0.6310468669783186,
           0.6438251474908607,
           0.5342043912164642,
           0.6438237050602058,
           0.6296026313651284,
           0.6355727994734186,
           0.6453915625653358,
           0.6221508249953531,
           0.6345004520476885,
           0.6314840538340165,
           0.6303125776144698,
           0.6291849387853461,
           0.6307122189414539,
           0.6434827954112592,
           0.6374535953032007,
           0.6376363408910299,
           0.6449302710874952,
           0.6449326324641167,
           0.6154431141726556,
           0.6431624555734352,
           0.6338289764085117,
           0.6465527246884794,
           0.6365143468368103,
           0.6465534545495392,
           0.6449326324641167,
           0.6372740130903247,
           0.6413712793977643,
           0.6453906643244298,
           0.6298471051086414,
           0.6374612450715125,
           0.5354487568658991,
           0.6282116865259713,
           0.6338347500930509,
           0.6449340166557567,
           0.6453932476344425,
           0.6208191409309232,
           0.6247093108005147,
           0.6398921326746392,
           0.6444396285192652,
           0.6298365852417227,
           0.6357840538045598,
           0.620552650208349
          ],
          "colorbar": {
           "title": {
            "text": "Objective Value"
           }
          },
          "colorscale": [
           [
            0,
            "rgb(247,251,255)"
           ],
           [
            0.125,
            "rgb(222,235,247)"
           ],
           [
            0.25,
            "rgb(198,219,239)"
           ],
           [
            0.375,
            "rgb(158,202,225)"
           ],
           [
            0.5,
            "rgb(107,174,214)"
           ],
           [
            0.625,
            "rgb(66,146,198)"
           ],
           [
            0.75,
            "rgb(33,113,181)"
           ],
           [
            0.875,
            "rgb(8,81,156)"
           ],
           [
            1,
            "rgb(8,48,107)"
           ]
          ],
          "reversescale": false,
          "showscale": true
         },
         "type": "parcoords"
        }
       ],
       "layout": {
        "template": {
         "data": {
          "bar": [
           {
            "error_x": {
             "color": "#2a3f5f"
            },
            "error_y": {
             "color": "#2a3f5f"
            },
            "marker": {
             "line": {
              "color": "#E5ECF6",
              "width": 0.5
             },
             "pattern": {
              "fillmode": "overlay",
              "size": 10,
              "solidity": 0.2
             }
            },
            "type": "bar"
           }
          ],
          "barpolar": [
           {
            "marker": {
             "line": {
              "color": "#E5ECF6",
              "width": 0.5
             },
             "pattern": {
              "fillmode": "overlay",
              "size": 10,
              "solidity": 0.2
             }
            },
            "type": "barpolar"
           }
          ],
          "carpet": [
           {
            "aaxis": {
             "endlinecolor": "#2a3f5f",
             "gridcolor": "white",
             "linecolor": "white",
             "minorgridcolor": "white",
             "startlinecolor": "#2a3f5f"
            },
            "baxis": {
             "endlinecolor": "#2a3f5f",
             "gridcolor": "white",
             "linecolor": "white",
             "minorgridcolor": "white",
             "startlinecolor": "#2a3f5f"
            },
            "type": "carpet"
           }
          ],
          "choropleth": [
           {
            "colorbar": {
             "outlinewidth": 0,
             "ticks": ""
            },
            "type": "choropleth"
           }
          ],
          "contour": [
           {
            "colorbar": {
             "outlinewidth": 0,
             "ticks": ""
            },
            "colorscale": [
             [
              0,
              "#0d0887"
             ],
             [
              0.1111111111111111,
              "#46039f"
             ],
             [
              0.2222222222222222,
              "#7201a8"
             ],
             [
              0.3333333333333333,
              "#9c179e"
             ],
             [
              0.4444444444444444,
              "#bd3786"
             ],
             [
              0.5555555555555556,
              "#d8576b"
             ],
             [
              0.6666666666666666,
              "#ed7953"
             ],
             [
              0.7777777777777778,
              "#fb9f3a"
             ],
             [
              0.8888888888888888,
              "#fdca26"
             ],
             [
              1,
              "#f0f921"
             ]
            ],
            "type": "contour"
           }
          ],
          "contourcarpet": [
           {
            "colorbar": {
             "outlinewidth": 0,
             "ticks": ""
            },
            "type": "contourcarpet"
           }
          ],
          "heatmap": [
           {
            "colorbar": {
             "outlinewidth": 0,
             "ticks": ""
            },
            "colorscale": [
             [
              0,
              "#0d0887"
             ],
             [
              0.1111111111111111,
              "#46039f"
             ],
             [
              0.2222222222222222,
              "#7201a8"
             ],
             [
              0.3333333333333333,
              "#9c179e"
             ],
             [
              0.4444444444444444,
              "#bd3786"
             ],
             [
              0.5555555555555556,
              "#d8576b"
             ],
             [
              0.6666666666666666,
              "#ed7953"
             ],
             [
              0.7777777777777778,
              "#fb9f3a"
             ],
             [
              0.8888888888888888,
              "#fdca26"
             ],
             [
              1,
              "#f0f921"
             ]
            ],
            "type": "heatmap"
           }
          ],
          "heatmapgl": [
           {
            "colorbar": {
             "outlinewidth": 0,
             "ticks": ""
            },
            "colorscale": [
             [
              0,
              "#0d0887"
             ],
             [
              0.1111111111111111,
              "#46039f"
             ],
             [
              0.2222222222222222,
              "#7201a8"
             ],
             [
              0.3333333333333333,
              "#9c179e"
             ],
             [
              0.4444444444444444,
              "#bd3786"
             ],
             [
              0.5555555555555556,
              "#d8576b"
             ],
             [
              0.6666666666666666,
              "#ed7953"
             ],
             [
              0.7777777777777778,
              "#fb9f3a"
             ],
             [
              0.8888888888888888,
              "#fdca26"
             ],
             [
              1,
              "#f0f921"
             ]
            ],
            "type": "heatmapgl"
           }
          ],
          "histogram": [
           {
            "marker": {
             "pattern": {
              "fillmode": "overlay",
              "size": 10,
              "solidity": 0.2
             }
            },
            "type": "histogram"
           }
          ],
          "histogram2d": [
           {
            "colorbar": {
             "outlinewidth": 0,
             "ticks": ""
            },
            "colorscale": [
             [
              0,
              "#0d0887"
             ],
             [
              0.1111111111111111,
              "#46039f"
             ],
             [
              0.2222222222222222,
              "#7201a8"
             ],
             [
              0.3333333333333333,
              "#9c179e"
             ],
             [
              0.4444444444444444,
              "#bd3786"
             ],
             [
              0.5555555555555556,
              "#d8576b"
             ],
             [
              0.6666666666666666,
              "#ed7953"
             ],
             [
              0.7777777777777778,
              "#fb9f3a"
             ],
             [
              0.8888888888888888,
              "#fdca26"
             ],
             [
              1,
              "#f0f921"
             ]
            ],
            "type": "histogram2d"
           }
          ],
          "histogram2dcontour": [
           {
            "colorbar": {
             "outlinewidth": 0,
             "ticks": ""
            },
            "colorscale": [
             [
              0,
              "#0d0887"
             ],
             [
              0.1111111111111111,
              "#46039f"
             ],
             [
              0.2222222222222222,
              "#7201a8"
             ],
             [
              0.3333333333333333,
              "#9c179e"
             ],
             [
              0.4444444444444444,
              "#bd3786"
             ],
             [
              0.5555555555555556,
              "#d8576b"
             ],
             [
              0.6666666666666666,
              "#ed7953"
             ],
             [
              0.7777777777777778,
              "#fb9f3a"
             ],
             [
              0.8888888888888888,
              "#fdca26"
             ],
             [
              1,
              "#f0f921"
             ]
            ],
            "type": "histogram2dcontour"
           }
          ],
          "mesh3d": [
           {
            "colorbar": {
             "outlinewidth": 0,
             "ticks": ""
            },
            "type": "mesh3d"
           }
          ],
          "parcoords": [
           {
            "line": {
             "colorbar": {
              "outlinewidth": 0,
              "ticks": ""
             }
            },
            "type": "parcoords"
           }
          ],
          "pie": [
           {
            "automargin": true,
            "type": "pie"
           }
          ],
          "scatter": [
           {
            "marker": {
             "colorbar": {
              "outlinewidth": 0,
              "ticks": ""
             }
            },
            "type": "scatter"
           }
          ],
          "scatter3d": [
           {
            "line": {
             "colorbar": {
              "outlinewidth": 0,
              "ticks": ""
             }
            },
            "marker": {
             "colorbar": {
              "outlinewidth": 0,
              "ticks": ""
             }
            },
            "type": "scatter3d"
           }
          ],
          "scattercarpet": [
           {
            "marker": {
             "colorbar": {
              "outlinewidth": 0,
              "ticks": ""
             }
            },
            "type": "scattercarpet"
           }
          ],
          "scattergeo": [
           {
            "marker": {
             "colorbar": {
              "outlinewidth": 0,
              "ticks": ""
             }
            },
            "type": "scattergeo"
           }
          ],
          "scattergl": [
           {
            "marker": {
             "colorbar": {
              "outlinewidth": 0,
              "ticks": ""
             }
            },
            "type": "scattergl"
           }
          ],
          "scattermapbox": [
           {
            "marker": {
             "colorbar": {
              "outlinewidth": 0,
              "ticks": ""
             }
            },
            "type": "scattermapbox"
           }
          ],
          "scatterpolar": [
           {
            "marker": {
             "colorbar": {
              "outlinewidth": 0,
              "ticks": ""
             }
            },
            "type": "scatterpolar"
           }
          ],
          "scatterpolargl": [
           {
            "marker": {
             "colorbar": {
              "outlinewidth": 0,
              "ticks": ""
             }
            },
            "type": "scatterpolargl"
           }
          ],
          "scatterternary": [
           {
            "marker": {
             "colorbar": {
              "outlinewidth": 0,
              "ticks": ""
             }
            },
            "type": "scatterternary"
           }
          ],
          "surface": [
           {
            "colorbar": {
             "outlinewidth": 0,
             "ticks": ""
            },
            "colorscale": [
             [
              0,
              "#0d0887"
             ],
             [
              0.1111111111111111,
              "#46039f"
             ],
             [
              0.2222222222222222,
              "#7201a8"
             ],
             [
              0.3333333333333333,
              "#9c179e"
             ],
             [
              0.4444444444444444,
              "#bd3786"
             ],
             [
              0.5555555555555556,
              "#d8576b"
             ],
             [
              0.6666666666666666,
              "#ed7953"
             ],
             [
              0.7777777777777778,
              "#fb9f3a"
             ],
             [
              0.8888888888888888,
              "#fdca26"
             ],
             [
              1,
              "#f0f921"
             ]
            ],
            "type": "surface"
           }
          ],
          "table": [
           {
            "cells": {
             "fill": {
              "color": "#EBF0F8"
             },
             "line": {
              "color": "white"
             }
            },
            "header": {
             "fill": {
              "color": "#C8D4E3"
             },
             "line": {
              "color": "white"
             }
            },
            "type": "table"
           }
          ]
         },
         "layout": {
          "annotationdefaults": {
           "arrowcolor": "#2a3f5f",
           "arrowhead": 0,
           "arrowwidth": 1
          },
          "autotypenumbers": "strict",
          "coloraxis": {
           "colorbar": {
            "outlinewidth": 0,
            "ticks": ""
           }
          },
          "colorscale": {
           "diverging": [
            [
             0,
             "#8e0152"
            ],
            [
             0.1,
             "#c51b7d"
            ],
            [
             0.2,
             "#de77ae"
            ],
            [
             0.3,
             "#f1b6da"
            ],
            [
             0.4,
             "#fde0ef"
            ],
            [
             0.5,
             "#f7f7f7"
            ],
            [
             0.6,
             "#e6f5d0"
            ],
            [
             0.7,
             "#b8e186"
            ],
            [
             0.8,
             "#7fbc41"
            ],
            [
             0.9,
             "#4d9221"
            ],
            [
             1,
             "#276419"
            ]
           ],
           "sequential": [
            [
             0,
             "#0d0887"
            ],
            [
             0.1111111111111111,
             "#46039f"
            ],
            [
             0.2222222222222222,
             "#7201a8"
            ],
            [
             0.3333333333333333,
             "#9c179e"
            ],
            [
             0.4444444444444444,
             "#bd3786"
            ],
            [
             0.5555555555555556,
             "#d8576b"
            ],
            [
             0.6666666666666666,
             "#ed7953"
            ],
            [
             0.7777777777777778,
             "#fb9f3a"
            ],
            [
             0.8888888888888888,
             "#fdca26"
            ],
            [
             1,
             "#f0f921"
            ]
           ],
           "sequentialminus": [
            [
             0,
             "#0d0887"
            ],
            [
             0.1111111111111111,
             "#46039f"
            ],
            [
             0.2222222222222222,
             "#7201a8"
            ],
            [
             0.3333333333333333,
             "#9c179e"
            ],
            [
             0.4444444444444444,
             "#bd3786"
            ],
            [
             0.5555555555555556,
             "#d8576b"
            ],
            [
             0.6666666666666666,
             "#ed7953"
            ],
            [
             0.7777777777777778,
             "#fb9f3a"
            ],
            [
             0.8888888888888888,
             "#fdca26"
            ],
            [
             1,
             "#f0f921"
            ]
           ]
          },
          "colorway": [
           "#636efa",
           "#EF553B",
           "#00cc96",
           "#ab63fa",
           "#FFA15A",
           "#19d3f3",
           "#FF6692",
           "#B6E880",
           "#FF97FF",
           "#FECB52"
          ],
          "font": {
           "color": "#2a3f5f"
          },
          "geo": {
           "bgcolor": "white",
           "lakecolor": "white",
           "landcolor": "#E5ECF6",
           "showlakes": true,
           "showland": true,
           "subunitcolor": "white"
          },
          "hoverlabel": {
           "align": "left"
          },
          "hovermode": "closest",
          "mapbox": {
           "style": "light"
          },
          "paper_bgcolor": "white",
          "plot_bgcolor": "#E5ECF6",
          "polar": {
           "angularaxis": {
            "gridcolor": "white",
            "linecolor": "white",
            "ticks": ""
           },
           "bgcolor": "#E5ECF6",
           "radialaxis": {
            "gridcolor": "white",
            "linecolor": "white",
            "ticks": ""
           }
          },
          "scene": {
           "xaxis": {
            "backgroundcolor": "#E5ECF6",
            "gridcolor": "white",
            "gridwidth": 2,
            "linecolor": "white",
            "showbackground": true,
            "ticks": "",
            "zerolinecolor": "white"
           },
           "yaxis": {
            "backgroundcolor": "#E5ECF6",
            "gridcolor": "white",
            "gridwidth": 2,
            "linecolor": "white",
            "showbackground": true,
            "ticks": "",
            "zerolinecolor": "white"
           },
           "zaxis": {
            "backgroundcolor": "#E5ECF6",
            "gridcolor": "white",
            "gridwidth": 2,
            "linecolor": "white",
            "showbackground": true,
            "ticks": "",
            "zerolinecolor": "white"
           }
          },
          "shapedefaults": {
           "line": {
            "color": "#2a3f5f"
           }
          },
          "ternary": {
           "aaxis": {
            "gridcolor": "white",
            "linecolor": "white",
            "ticks": ""
           },
           "baxis": {
            "gridcolor": "white",
            "linecolor": "white",
            "ticks": ""
           },
           "bgcolor": "#E5ECF6",
           "caxis": {
            "gridcolor": "white",
            "linecolor": "white",
            "ticks": ""
           }
          },
          "title": {
           "x": 0.05
          },
          "xaxis": {
           "automargin": true,
           "gridcolor": "white",
           "linecolor": "white",
           "ticks": "",
           "title": {
            "standoff": 15
           },
           "zerolinecolor": "white",
           "zerolinewidth": 2
          },
          "yaxis": {
           "automargin": true,
           "gridcolor": "white",
           "linecolor": "white",
           "ticks": "",
           "title": {
            "standoff": 15
           },
           "zerolinecolor": "white",
           "zerolinewidth": 2
          }
         }
        },
        "title": {
         "text": "Parallel Coordinate Plot"
        }
       }
      }
     },
     "metadata": {},
     "output_type": "display_data"
    }
   ],
   "source": [
    "optuna.visualization.plot_parallel_coordinate(study)"
   ]
  },
  {
   "cell_type": "code",
   "execution_count": 38,
   "id": "4afa60aa",
   "metadata": {},
   "outputs": [
    {
     "name": "stdout",
     "output_type": "stream",
     "text": [
      "Best trial: {'n_estimators': 547, 'max_depth': 15, 'num_leaves': 29, 'min_child_samples': 1, 'num_iterations': 925}\n"
     ]
    },
    {
     "data": {
      "text/plain": [
       "547"
      ]
     },
     "execution_count": 38,
     "metadata": {},
     "output_type": "execute_result"
    }
   ],
   "source": [
    "print(\"Best trial:\", study.best_trial.params)\n",
    "study.best_trial.params[\"n_estimators\"]"
   ]
  },
  {
   "cell_type": "code",
   "execution_count": 39,
   "id": "3b45adad",
   "metadata": {},
   "outputs": [
    {
     "data": {
      "text/html": [
       "<style>#sk-container-id-2 {color: black;}#sk-container-id-2 pre{padding: 0;}#sk-container-id-2 div.sk-toggleable {background-color: white;}#sk-container-id-2 label.sk-toggleable__label {cursor: pointer;display: block;width: 100%;margin-bottom: 0;padding: 0.3em;box-sizing: border-box;text-align: center;}#sk-container-id-2 label.sk-toggleable__label-arrow:before {content: \"▸\";float: left;margin-right: 0.25em;color: #696969;}#sk-container-id-2 label.sk-toggleable__label-arrow:hover:before {color: black;}#sk-container-id-2 div.sk-estimator:hover label.sk-toggleable__label-arrow:before {color: black;}#sk-container-id-2 div.sk-toggleable__content {max-height: 0;max-width: 0;overflow: hidden;text-align: left;background-color: #f0f8ff;}#sk-container-id-2 div.sk-toggleable__content pre {margin: 0.2em;color: black;border-radius: 0.25em;background-color: #f0f8ff;}#sk-container-id-2 input.sk-toggleable__control:checked~div.sk-toggleable__content {max-height: 200px;max-width: 100%;overflow: auto;}#sk-container-id-2 input.sk-toggleable__control:checked~label.sk-toggleable__label-arrow:before {content: \"▾\";}#sk-container-id-2 div.sk-estimator input.sk-toggleable__control:checked~label.sk-toggleable__label {background-color: #d4ebff;}#sk-container-id-2 div.sk-label input.sk-toggleable__control:checked~label.sk-toggleable__label {background-color: #d4ebff;}#sk-container-id-2 input.sk-hidden--visually {border: 0;clip: rect(1px 1px 1px 1px);clip: rect(1px, 1px, 1px, 1px);height: 1px;margin: -1px;overflow: hidden;padding: 0;position: absolute;width: 1px;}#sk-container-id-2 div.sk-estimator {font-family: monospace;background-color: #f0f8ff;border: 1px dotted black;border-radius: 0.25em;box-sizing: border-box;margin-bottom: 0.5em;}#sk-container-id-2 div.sk-estimator:hover {background-color: #d4ebff;}#sk-container-id-2 div.sk-parallel-item::after {content: \"\";width: 100%;border-bottom: 1px solid gray;flex-grow: 1;}#sk-container-id-2 div.sk-label:hover label.sk-toggleable__label {background-color: #d4ebff;}#sk-container-id-2 div.sk-serial::before {content: \"\";position: absolute;border-left: 1px solid gray;box-sizing: border-box;top: 0;bottom: 0;left: 50%;z-index: 0;}#sk-container-id-2 div.sk-serial {display: flex;flex-direction: column;align-items: center;background-color: white;padding-right: 0.2em;padding-left: 0.2em;position: relative;}#sk-container-id-2 div.sk-item {position: relative;z-index: 1;}#sk-container-id-2 div.sk-parallel {display: flex;align-items: stretch;justify-content: center;background-color: white;position: relative;}#sk-container-id-2 div.sk-item::before, #sk-container-id-2 div.sk-parallel-item::before {content: \"\";position: absolute;border-left: 1px solid gray;box-sizing: border-box;top: 0;bottom: 0;left: 50%;z-index: -1;}#sk-container-id-2 div.sk-parallel-item {display: flex;flex-direction: column;z-index: 1;position: relative;background-color: white;}#sk-container-id-2 div.sk-parallel-item:first-child::after {align-self: flex-end;width: 50%;}#sk-container-id-2 div.sk-parallel-item:last-child::after {align-self: flex-start;width: 50%;}#sk-container-id-2 div.sk-parallel-item:only-child::after {width: 0;}#sk-container-id-2 div.sk-dashed-wrapped {border: 1px dashed gray;margin: 0 0.4em 0.5em 0.4em;box-sizing: border-box;padding-bottom: 0.4em;background-color: white;}#sk-container-id-2 div.sk-label label {font-family: monospace;font-weight: bold;display: inline-block;line-height: 1.2em;}#sk-container-id-2 div.sk-label-container {text-align: center;}#sk-container-id-2 div.sk-container {/* jupyter's `normalize.less` sets `[hidden] { display: none; }` but bootstrap.min.css set `[hidden] { display: none !important; }` so we also need the `!important` here to be able to override the default hidden behavior on the sphinx rendered scikit-learn.org. See: https://github.com/scikit-learn/scikit-learn/issues/21755 */display: inline-block !important;position: relative;}#sk-container-id-2 div.sk-text-repr-fallback {display: none;}</style><div id=\"sk-container-id-2\" class=\"sk-top-container\"><div class=\"sk-text-repr-fallback\"><pre>LGBMRegressor(max_depth=15, min_child_samples=1, n_estimators=547,\n",
       "              num_iterations=925, num_leaves=29, random_state=42)</pre><b>In a Jupyter environment, please rerun this cell to show the HTML representation or trust the notebook. <br />On GitHub, the HTML representation is unable to render, please try loading this page with nbviewer.org.</b></div><div class=\"sk-container\" hidden><div class=\"sk-item\"><div class=\"sk-estimator sk-toggleable\"><input class=\"sk-toggleable__control sk-hidden--visually\" id=\"sk-estimator-id-2\" type=\"checkbox\" checked><label for=\"sk-estimator-id-2\" class=\"sk-toggleable__label sk-toggleable__label-arrow\">LGBMRegressor</label><div class=\"sk-toggleable__content\"><pre>LGBMRegressor(max_depth=15, min_child_samples=1, n_estimators=547,\n",
       "              num_iterations=925, num_leaves=29, random_state=42)</pre></div></div></div></div></div>"
      ],
      "text/plain": [
       "LGBMRegressor(max_depth=15, min_child_samples=1, n_estimators=547,\n",
       "              num_iterations=925, num_leaves=29, random_state=42)"
      ]
     },
     "execution_count": 39,
     "metadata": {},
     "output_type": "execute_result"
    }
   ],
   "source": [
    "lgbm_params = {\n",
    "    \"random_state\": 42,\n",
    "    \"learning_rate\": 0.1,\n",
    "    \"n_estimators\": study.best_trial.params[\"n_estimators\"],\n",
    "    \"max_depth\": study.best_trial.params[\"max_depth\"],\n",
    "    \"num_leaves\": study.best_trial.params[\"num_leaves\"],\n",
    "    \"min_child_samples\": study.best_trial.params[\"min_child_samples\"],\n",
    "    \"num_iterations\": study.best_trial.params[\"num_iterations\"]\n",
    "}\n",
    "\n",
    "lgbm = LGBMRegressor(**lgbm_params)\n",
    "lgbm.fit(Cd_X_train, Cd_y_train)"
   ]
  },
  {
   "cell_type": "code",
   "execution_count": 40,
   "id": "9ab1055b",
   "metadata": {},
   "outputs": [],
   "source": [
    "y_train_pred = lgbm.predict(Cd_X_train)\n",
    "y_test_pred = lgbm.predict(Cd_X_test)"
   ]
  },
  {
   "cell_type": "code",
   "execution_count": 41,
   "id": "425b4001",
   "metadata": {},
   "outputs": [
    {
     "name": "stdout",
     "output_type": "stream",
     "text": [
      "Train RMSE:  0.010716863142254845\n",
      "Test RMSE:  0.19502573853833866\n"
     ]
    }
   ],
   "source": [
    "print(\"Train RMSE: \", np.sqrt(mean_squared_error(Cd_y_train, y_train_pred)))\n",
    "print(\"Test RMSE: \", np.sqrt(mean_squared_error(Cd_y_test, y_test_pred)))"
   ]
  },
  {
   "cell_type": "code",
   "execution_count": 42,
   "id": "0f95ae3c",
   "metadata": {},
   "outputs": [
    {
     "name": "stdout",
     "output_type": "stream",
     "text": [
      "Train R2:  0.9980424968829523\n",
      "Test R2:  0.3374380136117725\n"
     ]
    }
   ],
   "source": [
    "print(\"Train R2: \", r2_score(Cd_y_train, y_train_pred))\n",
    "print(\"Test R2: \", r2_score(Cd_y_test, y_test_pred))"
   ]
  },
  {
   "cell_type": "code",
   "execution_count": 43,
   "id": "d01dda76",
   "metadata": {},
   "outputs": [
    {
     "data": {
      "image/png": "[encoded data removed]",
      "text/plain": [
       "<Figure size 640x480 with 1 Axes>"
      ]
     },
     "metadata": {},
     "output_type": "display_data"
    }
   ],
   "source": [
    "plt.scatter(y_train_pred, np.array(Cd_y_train), color=\"orange\", alpha=0.3)\n",
    "plt.scatter(y_test_pred, np.array(Cd_y_test), color=\"green\", alpha=0.4)\n",
    "plt.axis(\"auto\") # scaled, tight, auto, image, square\n",
    "# plt.xlim([0, 1.5]) \n",
    "# plt.ylim(0, None) \n",
    "plt.xlabel('Predicted Values')\n",
    "plt.ylabel('Actual Values')\n",
    "\n",
    "# Add y=x line\n",
    "plt.plot([0, 1.0], [0, 1.0], color='red', linestyle='-')\n",
    "\n",
    "plt.show()"
   ]
  },
  {
   "attachments": {},
   "cell_type": "markdown",
   "id": "74f680ea",
   "metadata": {},
   "source": [
    "Ni"
   ]
  },
  {
   "cell_type": "code",
   "execution_count": 44,
   "id": "de233338",
   "metadata": {},
   "outputs": [
    {
     "name": "stderr",
     "output_type": "stream",
     "text": [
      "\u001b[32m[I 2023-08-24 13:14:27,717]\u001b[0m A new study created in memory with name: lgbm_parameter_opt\u001b[0m\n",
      "\u001b[32m[I 2023-08-24 13:14:29,674]\u001b[0m Trial 0 finished with value: 0.73207974329966 and parameters: {'n_estimators': 610, 'max_depth': 5, 'num_leaves': 26, 'min_child_samples': 7, 'num_iterations': 769}. Best is trial 0 with value: 0.73207974329966.\u001b[0m\n",
      "\u001b[32m[I 2023-08-24 13:14:32,460]\u001b[0m Trial 1 finished with value: 0.7322441274959284 and parameters: {'n_estimators': 971, 'max_depth': 8, 'num_leaves': 28, 'min_child_samples': 5, 'num_iterations': 682}. Best is trial 1 with value: 0.7322441274959284.\u001b[0m\n",
      "\u001b[32m[I 2023-08-24 13:14:34,780]\u001b[0m Trial 2 finished with value: 0.742850445494631 and parameters: {'n_estimators': 697, 'max_depth': 16, 'num_leaves': 22, 'min_child_samples': 5, 'num_iterations': 687}. Best is trial 2 with value: 0.742850445494631.\u001b[0m\n",
      "\u001b[32m[I 2023-08-24 13:14:38,368]\u001b[0m Trial 3 finished with value: 0.7405979169241672 and parameters: {'n_estimators': 516, 'max_depth': 12, 'num_leaves': 32, 'min_child_samples': 4, 'num_iterations': 750}. Best is trial 2 with value: 0.742850445494631.\u001b[0m\n",
      "\u001b[32m[I 2023-08-24 13:14:39,832]\u001b[0m Trial 4 finished with value: 0.7542342729070732 and parameters: {'n_estimators': 643, 'max_depth': 19, 'num_leaves': 11, 'min_child_samples': 8, 'num_iterations': 867}. Best is trial 4 with value: 0.7542342729070732.\u001b[0m\n",
      "\u001b[32m[I 2023-08-24 13:14:41,621]\u001b[0m Trial 5 finished with value: 0.7497107388190332 and parameters: {'n_estimators': 571, 'max_depth': 18, 'num_leaves': 12, 'min_child_samples': 7, 'num_iterations': 933}. Best is trial 4 with value: 0.7542342729070732.\u001b[0m\n",
      "\u001b[32m[I 2023-08-24 13:14:43,118]\u001b[0m Trial 6 finished with value: 0.7522700051621929 and parameters: {'n_estimators': 581, 'max_depth': 10, 'num_leaves': 9, 'min_child_samples': 3, 'num_iterations': 1000}. Best is trial 4 with value: 0.7542342729070732.\u001b[0m\n",
      "\u001b[32m[I 2023-08-24 13:14:43,906]\u001b[0m Trial 7 finished with value: 0.7328855670556618 and parameters: {'n_estimators': 642, 'max_depth': 3, 'num_leaves': 28, 'min_child_samples': 8, 'num_iterations': 725}. Best is trial 4 with value: 0.7542342729070732.\u001b[0m\n",
      "\u001b[32m[I 2023-08-24 13:14:44,822]\u001b[0m Trial 8 finished with value: 0.7329483462955743 and parameters: {'n_estimators': 813, 'max_depth': 3, 'num_leaves': 25, 'min_child_samples': 7, 'num_iterations': 813}. Best is trial 4 with value: 0.7542342729070732.\u001b[0m\n",
      "\u001b[32m[I 2023-08-24 13:14:46,411]\u001b[0m Trial 9 finished with value: 0.7361846801031783 and parameters: {'n_estimators': 981, 'max_depth': 4, 'num_leaves': 21, 'min_child_samples': 3, 'num_iterations': 884}. Best is trial 4 with value: 0.7542342729070732.\u001b[0m\n",
      "\u001b[32m[I 2023-08-24 13:14:46,723]\u001b[0m Trial 10 finished with value: 0.5621001125036268 and parameters: {'n_estimators': 821, 'max_depth': 27, 'num_leaves': 2, 'min_child_samples': 1, 'num_iterations': 530}. Best is trial 4 with value: 0.7542342729070732.\u001b[0m\n",
      "\u001b[32m[I 2023-08-24 13:14:48,461]\u001b[0m Trial 11 finished with value: 0.7567047566087881 and parameters: {'n_estimators': 713, 'max_depth': 23, 'num_leaves': 11, 'min_child_samples': 10, 'num_iterations': 996}. Best is trial 11 with value: 0.7567047566087881.\u001b[0m\n",
      "\u001b[32m[I 2023-08-24 13:14:50,387]\u001b[0m Trial 12 finished with value: 0.7511882196819325 and parameters: {'n_estimators': 737, 'max_depth': 24, 'num_leaves': 12, 'min_child_samples': 10, 'num_iterations': 992}. Best is trial 11 with value: 0.7567047566087881.\u001b[0m\n",
      "\u001b[32m[I 2023-08-24 13:14:51,104]\u001b[0m Trial 13 finished with value: 0.7244071591068673 and parameters: {'n_estimators': 814, 'max_depth': 21, 'num_leaves': 4, 'min_child_samples': 10, 'num_iterations': 872}. Best is trial 11 with value: 0.7567047566087881.\u001b[0m\n",
      "\u001b[32m[I 2023-08-24 13:14:53,293]\u001b[0m Trial 14 finished with value: 0.746680389950554 and parameters: {'n_estimators': 693, 'max_depth': 28, 'num_leaves': 16, 'min_child_samples': 9, 'num_iterations': 924}. Best is trial 11 with value: 0.7567047566087881.\u001b[0m\n",
      "\u001b[32m[I 2023-08-24 13:14:54,293]\u001b[0m Trial 15 finished with value: 0.7545298144781443 and parameters: {'n_estimators': 665, 'max_depth': 19, 'num_leaves': 7, 'min_child_samples': 9, 'num_iterations': 826}. Best is trial 11 with value: 0.7567047566087881.\u001b[0m\n",
      "\u001b[32m[I 2023-08-24 13:14:55,065]\u001b[0m Trial 16 finished with value: 0.7509238662705549 and parameters: {'n_estimators': 877, 'max_depth': 23, 'num_leaves': 7, 'min_child_samples': 10, 'num_iterations': 593}. Best is trial 11 with value: 0.7567047566087881.\u001b[0m\n",
      "\u001b[32m[I 2023-08-24 13:14:56,994]\u001b[0m Trial 17 finished with value: 0.7467132457994524 and parameters: {'n_estimators': 708, 'max_depth': 15, 'num_leaves': 16, 'min_child_samples': 9, 'num_iterations': 801}. Best is trial 11 with value: 0.7567047566087881.\u001b[0m\n",
      "\u001b[32m[I 2023-08-24 13:14:58,258]\u001b[0m Trial 18 finished with value: 0.7569347597750214 and parameters: {'n_estimators': 521, 'max_depth': 30, 'num_leaves': 8, 'min_child_samples': 9, 'num_iterations': 940}. Best is trial 18 with value: 0.7569347597750214.\u001b[0m\n",
      "\u001b[32m[I 2023-08-24 13:15:00,375]\u001b[0m Trial 19 finished with value: 0.7562598902043073 and parameters: {'n_estimators': 515, 'max_depth': 30, 'num_leaves': 14, 'min_child_samples': 6, 'num_iterations': 959}. Best is trial 18 with value: 0.7569347597750214.\u001b[0m\n",
      "\u001b[32m[I 2023-08-24 13:15:03,032]\u001b[0m Trial 20 finished with value: 0.7476661388566916 and parameters: {'n_estimators': 767, 'max_depth': 25, 'num_leaves': 19, 'min_child_samples': 8, 'num_iterations': 919}. Best is trial 18 with value: 0.7569347597750214.\u001b[0m\n",
      "\u001b[32m[I 2023-08-24 13:15:05,102]\u001b[0m Trial 21 finished with value: 0.7562598902043073 and parameters: {'n_estimators': 500, 'max_depth': 30, 'num_leaves': 14, 'min_child_samples': 6, 'num_iterations': 959}. Best is trial 18 with value: 0.7569347597750214.\u001b[0m\n",
      "\u001b[32m[I 2023-08-24 13:15:06,257]\u001b[0m Trial 22 finished with value: 0.7493409643820849 and parameters: {'n_estimators': 561, 'max_depth': 30, 'num_leaves': 6, 'min_child_samples': 6, 'num_iterations': 979}. Best is trial 18 with value: 0.7569347597750214.\u001b[0m\n",
      "\u001b[32m[I 2023-08-24 13:15:07,814]\u001b[0m Trial 23 finished with value: 0.7552119801834174 and parameters: {'n_estimators': 538, 'max_depth': 26, 'num_leaves': 10, 'min_child_samples': 9, 'num_iterations': 948}. Best is trial 18 with value: 0.7569347597750214.\u001b[0m\n",
      "\u001b[32m[I 2023-08-24 13:15:09,914]\u001b[0m Trial 24 finished with value: 0.7507741456904314 and parameters: {'n_estimators': 610, 'max_depth': 28, 'num_leaves': 14, 'min_child_samples': 1, 'num_iterations': 880}. Best is trial 18 with value: 0.7569347597750214.\u001b[0m\n",
      "\u001b[32m[I 2023-08-24 13:15:11,263]\u001b[0m Trial 25 finished with value: 0.7539999645433497 and parameters: {'n_estimators': 516, 'max_depth': 22, 'num_leaves': 9, 'min_child_samples': 10, 'num_iterations': 909}. Best is trial 18 with value: 0.7569347597750214.\u001b[0m\n",
      "\u001b[32m[I 2023-08-24 13:15:13,317]\u001b[0m Trial 26 finished with value: 0.750193188340346 and parameters: {'n_estimators': 914, 'max_depth': 30, 'num_leaves': 14, 'min_child_samples': 8, 'num_iterations': 961}. Best is trial 18 with value: 0.7569347597750214.\u001b[0m\n",
      "\u001b[32m[I 2023-08-24 13:15:15,665]\u001b[0m Trial 27 finished with value: 0.742362556034921 and parameters: {'n_estimators': 503, 'max_depth': 26, 'num_leaves': 19, 'min_child_samples': 6, 'num_iterations': 830}. Best is trial 18 with value: 0.7569347597750214.\u001b[0m\n",
      "\u001b[32m[I 2023-08-24 13:15:16,606]\u001b[0m Trial 28 finished with value: 0.7345021650276793 and parameters: {'n_estimators': 604, 'max_depth': 21, 'num_leaves': 5, 'min_child_samples': 4, 'num_iterations': 968}. Best is trial 18 with value: 0.7569347597750214.\u001b[0m\n",
      "\u001b[32m[I 2023-08-24 13:15:16,991]\u001b[0m Trial 29 finished with value: 0.5792602245980276 and parameters: {'n_estimators': 614, 'max_depth': 28, 'num_leaves': 2, 'min_child_samples': 7, 'num_iterations': 779}. Best is trial 18 with value: 0.7569347597750214.\u001b[0m\n",
      "\u001b[32m[I 2023-08-24 13:15:18,235]\u001b[0m Trial 30 finished with value: 0.7568249354040526 and parameters: {'n_estimators': 772, 'max_depth': 24, 'num_leaves': 8, 'min_child_samples': 9, 'num_iterations': 899}. Best is trial 18 with value: 0.7569347597750214.\u001b[0m\n",
      "\u001b[32m[I 2023-08-24 13:15:19,446]\u001b[0m Trial 31 finished with value: 0.7569281488464661 and parameters: {'n_estimators': 767, 'max_depth': 24, 'num_leaves': 8, 'min_child_samples': 9, 'num_iterations': 910}. Best is trial 18 with value: 0.7569347597750214.\u001b[0m\n",
      "\u001b[32m[I 2023-08-24 13:15:20,681]\u001b[0m Trial 32 finished with value: 0.756858031539019 and parameters: {'n_estimators': 769, 'max_depth': 24, 'num_leaves': 8, 'min_child_samples': 9, 'num_iterations': 908}. Best is trial 18 with value: 0.7569347597750214.\u001b[0m\n",
      "\u001b[32m[I 2023-08-24 13:15:21,376]\u001b[0m Trial 33 finished with value: 0.7266713692993234 and parameters: {'n_estimators': 780, 'max_depth': 14, 'num_leaves': 4, 'min_child_samples': 9, 'num_iterations': 851}. Best is trial 18 with value: 0.7569347597750214.\u001b[0m\n",
      "\u001b[32m[I 2023-08-24 13:15:22,565]\u001b[0m Trial 34 finished with value: 0.7572549492628964 and parameters: {'n_estimators': 866, 'max_depth': 7, 'num_leaves': 8, 'min_child_samples': 8, 'num_iterations': 901}. Best is trial 34 with value: 0.7572549492628964.\u001b[0m\n",
      "\u001b[32m[I 2023-08-24 13:15:23,386]\u001b[0m Trial 35 finished with value: 0.7389234840267285 and parameters: {'n_estimators': 864, 'max_depth': 7, 'num_leaves': 5, 'min_child_samples': 8, 'num_iterations': 854}. Best is trial 34 with value: 0.7572549492628964.\u001b[0m\n",
      "\u001b[32m[I 2023-08-24 13:15:24,286]\u001b[0m Trial 36 finished with value: 0.749620998328312 and parameters: {'n_estimators': 928, 'max_depth': 7, 'num_leaves': 8, 'min_child_samples': 7, 'num_iterations': 654}. Best is trial 34 with value: 0.7572549492628964.\u001b[0m\n",
      "\u001b[32m[I 2023-08-24 13:15:26,166]\u001b[0m Trial 37 finished with value: 0.7475418341048454 and parameters: {'n_estimators': 854, 'max_depth': 17, 'num_leaves': 12, 'min_child_samples': 8, 'num_iterations': 931}. Best is trial 34 with value: 0.7572549492628964.\u001b[0m\n",
      "\u001b[32m[I 2023-08-24 13:15:27,395]\u001b[0m Trial 38 finished with value: 0.7547126418092998 and parameters: {'n_estimators': 910, 'max_depth': 11, 'num_leaves': 10, 'min_child_samples': 9, 'num_iterations': 752}. Best is trial 34 with value: 0.7572549492628964.\u001b[0m\n",
      "\u001b[32m[I 2023-08-24 13:15:27,907]\u001b[0m Trial 39 finished with value: 0.6937342461839517 and parameters: {'n_estimators': 794, 'max_depth': 13, 'num_leaves': 3, 'min_child_samples': 7, 'num_iterations': 716}. Best is trial 34 with value: 0.7572549492628964.\u001b[0m\n",
      "\u001b[32m[I 2023-08-24 13:15:31,811]\u001b[0m Trial 40 finished with value: 0.7328835975332745 and parameters: {'n_estimators': 737, 'max_depth': 19, 'num_leaves': 32, 'min_child_samples': 8, 'num_iterations': 898}. Best is trial 34 with value: 0.7572549492628964.\u001b[0m\n",
      "\u001b[32m[I 2023-08-24 13:15:32,891]\u001b[0m Trial 41 finished with value: 0.7552704639280032 and parameters: {'n_estimators': 752, 'max_depth': 25, 'num_leaves': 7, 'min_child_samples': 9, 'num_iterations': 897}. Best is trial 34 with value: 0.7572549492628964.\u001b[0m\n",
      "\u001b[32m[I 2023-08-24 13:15:33,318]\u001b[0m Trial 42 finished with value: 0.5834408425109776 and parameters: {'n_estimators': 848, 'max_depth': 1, 'num_leaves': 9, 'min_child_samples': 10, 'num_iterations': 854}. Best is trial 34 with value: 0.7572549492628964.\u001b[0m\n",
      "\u001b[32m[I 2023-08-24 13:15:34,327]\u001b[0m Trial 43 finished with value: 0.7456788053549931 and parameters: {'n_estimators': 671, 'max_depth': 9, 'num_leaves': 6, 'min_child_samples': 9, 'num_iterations': 933}. Best is trial 34 with value: 0.7572549492628964.\u001b[0m\n",
      "\u001b[32m[I 2023-08-24 13:15:35,420]\u001b[0m Trial 44 finished with value: 0.7566166617500676 and parameters: {'n_estimators': 954, 'max_depth': 21, 'num_leaves': 8, 'min_child_samples': 8, 'num_iterations': 791}. Best is trial 34 with value: 0.7572549492628964.\u001b[0m\n",
      "\u001b[32m[I 2023-08-24 13:15:37,163]\u001b[0m Trial 45 finished with value: 0.7512566937016791 and parameters: {'n_estimators': 1000, 'max_depth': 23, 'num_leaves': 12, 'min_child_samples': 10, 'num_iterations': 894}. Best is trial 34 with value: 0.7572549492628964.\u001b[0m\n",
      "\u001b[32m[I 2023-08-24 13:15:38,820]\u001b[0m Trial 46 finished with value: 0.7541362228758943 and parameters: {'n_estimators': 827, 'max_depth': 20, 'num_leaves': 11, 'min_child_samples': 8, 'num_iterations': 941}. Best is trial 34 with value: 0.7572549492628964.\u001b[0m\n",
      "\u001b[32m[I 2023-08-24 13:15:40,104]\u001b[0m Trial 47 finished with value: 0.7540583301339077 and parameters: {'n_estimators': 786, 'max_depth': 16, 'num_leaves': 9, 'min_child_samples': 9, 'num_iterations': 830}. Best is trial 34 with value: 0.7572549492628964.\u001b[0m\n",
      "\u001b[32m[I 2023-08-24 13:15:43,199]\u001b[0m Trial 48 finished with value: 0.7500221661903023 and parameters: {'n_estimators': 891, 'max_depth': 27, 'num_leaves': 24, 'min_child_samples': 5, 'num_iterations': 873}. Best is trial 34 with value: 0.7572549492628964.\u001b[0m\n",
      "\u001b[32m[I 2023-08-24 13:15:44,070]\u001b[0m Trial 49 finished with value: 0.7197480096726665 and parameters: {'n_estimators': 739, 'max_depth': 18, 'num_leaves': 4, 'min_child_samples': 2, 'num_iterations': 914}. Best is trial 34 with value: 0.7572549492628964.\u001b[0m\n",
      "\u001b[32m[I 2023-08-24 13:15:45,330]\u001b[0m Trial 50 finished with value: 0.7513562646015639 and parameters: {'n_estimators': 836, 'max_depth': 25, 'num_leaves': 6, 'min_child_samples': 10, 'num_iterations': 997}. Best is trial 34 with value: 0.7572549492628964.\u001b[0m\n",
      "\u001b[32m[I 2023-08-24 13:15:47,232]\u001b[0m Trial 51 finished with value: 0.7568498621607018 and parameters: {'n_estimators': 719, 'max_depth': 23, 'num_leaves': 11, 'min_child_samples': 10, 'num_iterations': 980}. Best is trial 34 with value: 0.7572549492628964.\u001b[0m\n",
      "\u001b[32m[I 2023-08-24 13:15:48,637]\u001b[0m Trial 52 finished with value: 0.7528635342467839 and parameters: {'n_estimators': 799, 'max_depth': 23, 'num_leaves': 8, 'min_child_samples': 10, 'num_iterations': 975}. Best is trial 34 with value: 0.7572549492628964.\u001b[0m\n",
      "\u001b[32m[I 2023-08-24 13:15:50,403]\u001b[0m Trial 53 finished with value: 0.7552280117396476 and parameters: {'n_estimators': 762, 'max_depth': 24, 'num_leaves': 10, 'min_child_samples': 9, 'num_iterations': 945}. Best is trial 34 with value: 0.7572549492628964.\u001b[0m\n",
      "\u001b[32m[I 2023-08-24 13:15:51,641]\u001b[0m Trial 54 finished with value: 0.7552714374842527 and parameters: {'n_estimators': 723, 'max_depth': 27, 'num_leaves': 7, 'min_child_samples': 9, 'num_iterations': 910}. Best is trial 34 with value: 0.7572549492628964.\u001b[0m\n",
      "\u001b[32m[I 2023-08-24 13:15:53,783]\u001b[0m Trial 55 finished with value: 0.7552727290222504 and parameters: {'n_estimators': 687, 'max_depth': 22, 'num_leaves': 13, 'min_child_samples': 10, 'num_iterations': 983}. Best is trial 34 with value: 0.7572549492628964.\u001b[0m\n",
      "\u001b[32m[I 2023-08-24 13:15:54,709]\u001b[0m Trial 56 finished with value: 0.7554250428636043 and parameters: {'n_estimators': 638, 'max_depth': 29, 'num_leaves': 11, 'min_child_samples': 10, 'num_iterations': 505}. Best is trial 34 with value: 0.7572549492628964.\u001b[0m\n",
      "\u001b[32m[I 2023-08-24 13:15:55,569]\u001b[0m Trial 57 finished with value: 0.7416214502531242 and parameters: {'n_estimators': 813, 'max_depth': 24, 'num_leaves': 5, 'min_child_samples': 9, 'num_iterations': 863}. Best is trial 34 with value: 0.7572549492628964.\u001b[0m\n",
      "\u001b[32m[I 2023-08-24 13:15:57,358]\u001b[0m Trial 58 finished with value: 0.73971402393254 and parameters: {'n_estimators': 772, 'max_depth': 5, 'num_leaves': 16, 'min_child_samples': 8, 'num_iterations': 885}. Best is trial 34 with value: 0.7572549492628964.\u001b[0m\n",
      "\u001b[32m[I 2023-08-24 13:15:58,635]\u001b[0m Trial 59 finished with value: 0.7528414165142998 and parameters: {'n_estimators': 714, 'max_depth': 26, 'num_leaves': 8, 'min_child_samples': 10, 'num_iterations': 948}. Best is trial 34 with value: 0.7572549492628964.\u001b[0m\n",
      "\u001b[32m[I 2023-08-24 13:16:00,066]\u001b[0m Trial 60 finished with value: 0.7551161585662436 and parameters: {'n_estimators': 655, 'max_depth': 22, 'num_leaves': 10, 'min_child_samples': 9, 'num_iterations': 925}. Best is trial 34 with value: 0.7572549492628964.\u001b[0m\n",
      "\u001b[32m[I 2023-08-24 13:16:02,043]\u001b[0m Trial 61 finished with value: 0.7552616517733634 and parameters: {'n_estimators': 699, 'max_depth': 24, 'num_leaves': 13, 'min_child_samples': 10, 'num_iterations': 993}. Best is trial 34 with value: 0.7572549492628964.\u001b[0m\n",
      "\u001b[32m[I 2023-08-24 13:16:03,733]\u001b[0m Trial 62 finished with value: 0.7576258839471866 and parameters: {'n_estimators': 723, 'max_depth': 20, 'num_leaves': 11, 'min_child_samples': 9, 'num_iterations': 965}. Best is trial 62 with value: 0.7576258839471866.\u001b[0m\n",
      "\u001b[32m[I 2023-08-24 13:16:04,925]\u001b[0m Trial 63 finished with value: 0.7550571811364708 and parameters: {'n_estimators': 746, 'max_depth': 20, 'num_leaves': 7, 'min_child_samples': 9, 'num_iterations': 956}. Best is trial 62 with value: 0.7576258839471866.\u001b[0m\n",
      "\u001b[32m[I 2023-08-24 13:16:06,370]\u001b[0m Trial 64 finished with value: 0.7538535561197791 and parameters: {'n_estimators': 725, 'max_depth': 18, 'num_leaves': 9, 'min_child_samples': 8, 'num_iterations': 969}. Best is trial 62 with value: 0.7576258839471866.\u001b[0m\n",
      "\u001b[32m[I 2023-08-24 13:16:07,964]\u001b[0m Trial 65 finished with value: 0.7574950750829175 and parameters: {'n_estimators': 758, 'max_depth': 20, 'num_leaves': 11, 'min_child_samples': 9, 'num_iterations': 907}. Best is trial 62 with value: 0.7576258839471866.\u001b[0m\n",
      "\u001b[32m[I 2023-08-24 13:16:09,889]\u001b[0m Trial 66 finished with value: 0.7520438568205539 and parameters: {'n_estimators': 798, 'max_depth': 17, 'num_leaves': 13, 'min_child_samples': 7, 'num_iterations': 918}. Best is trial 62 with value: 0.7576258839471866.\u001b[0m\n",
      "\u001b[32m[I 2023-08-24 13:16:11,231]\u001b[0m Trial 67 finished with value: 0.7468335143267952 and parameters: {'n_estimators': 686, 'max_depth': 20, 'num_leaves': 15, 'min_child_samples': 8, 'num_iterations': 585}. Best is trial 62 with value: 0.7576258839471866.\u001b[0m\n",
      "\u001b[32m[I 2023-08-24 13:16:12,917]\u001b[0m Trial 68 finished with value: 0.7576324104930741 and parameters: {'n_estimators': 576, 'max_depth': 15, 'num_leaves': 11, 'min_child_samples': 9, 'num_iterations': 936}. Best is trial 68 with value: 0.7576324104930741.\u001b[0m\n",
      "\u001b[32m[I 2023-08-24 13:16:15,155]\u001b[0m Trial 69 finished with value: 0.7450621297070411 and parameters: {'n_estimators': 562, 'max_depth': 15, 'num_leaves': 18, 'min_child_samples': 9, 'num_iterations': 839}. Best is trial 68 with value: 0.7576324104930741.\u001b[0m\n",
      "\u001b[32m[I 2023-08-24 13:16:16,557]\u001b[0m Trial 70 finished with value: 0.7557314270629949 and parameters: {'n_estimators': 537, 'max_depth': 14, 'num_leaves': 10, 'min_child_samples': 8, 'num_iterations': 811}. Best is trial 68 with value: 0.7576324104930741.\u001b[0m\n",
      "\u001b[32m[I 2023-08-24 13:16:18,247]\u001b[0m Trial 71 finished with value: 0.7575605143002985 and parameters: {'n_estimators': 752, 'max_depth': 22, 'num_leaves': 11, 'min_child_samples': 9, 'num_iterations': 932}. Best is trial 68 with value: 0.7576324104930741.\u001b[0m\n",
      "\u001b[32m[I 2023-08-24 13:16:20,014]\u001b[0m Trial 72 finished with value: 0.7501771412975403 and parameters: {'n_estimators': 525, 'max_depth': 21, 'num_leaves': 12, 'min_child_samples': 9, 'num_iterations': 933}. Best is trial 68 with value: 0.7576324104930741.\u001b[0m\n",
      "\u001b[32m[I 2023-08-24 13:16:21,328]\u001b[0m Trial 73 finished with value: 0.7543501555725903 and parameters: {'n_estimators': 602, 'max_depth': 17, 'num_leaves': 9, 'min_child_samples': 9, 'num_iterations': 889}. Best is trial 68 with value: 0.7576324104930741.\u001b[0m\n",
      "\u001b[32m[I 2023-08-24 13:16:22,313]\u001b[0m Trial 74 finished with value: 0.7457826996922031 and parameters: {'n_estimators': 575, 'max_depth': 11, 'num_leaves': 6, 'min_child_samples': 8, 'num_iterations': 907}. Best is trial 68 with value: 0.7576324104930741.\u001b[0m\n",
      "\u001b[32m[I 2023-08-24 13:16:24,097]\u001b[0m Trial 75 finished with value: 0.7500802987199899 and parameters: {'n_estimators': 755, 'max_depth': 19, 'num_leaves': 12, 'min_child_samples': 9, 'num_iterations': 956}. Best is trial 68 with value: 0.7576324104930741.\u001b[0m\n",
      "\u001b[32m[I 2023-08-24 13:16:25,522]\u001b[0m Trial 76 finished with value: 0.7471550722637595 and parameters: {'n_estimators': 592, 'max_depth': 5, 'num_leaves': 11, 'min_child_samples': 9, 'num_iterations': 873}. Best is trial 68 with value: 0.7576324104930741.\u001b[0m\n",
      "\u001b[32m[I 2023-08-24 13:16:27,012]\u001b[0m Trial 77 finished with value: 0.7514652787157523 and parameters: {'n_estimators': 542, 'max_depth': 29, 'num_leaves': 10, 'min_child_samples': 4, 'num_iterations': 927}. Best is trial 68 with value: 0.7576324104930741.\u001b[0m\n",
      "\u001b[32m[I 2023-08-24 13:16:29,280]\u001b[0m Trial 78 finished with value: 0.7467679265526757 and parameters: {'n_estimators': 635, 'max_depth': 22, 'num_leaves': 15, 'min_child_samples': 7, 'num_iterations': 949}. Best is trial 68 with value: 0.7576324104930741.\u001b[0m\n",
      "\u001b[32m[I 2023-08-24 13:16:29,743]\u001b[0m Trial 79 finished with value: 0.586867074298906 and parameters: {'n_estimators': 816, 'max_depth': 1, 'num_leaves': 7, 'min_child_samples': 8, 'num_iterations': 906}. Best is trial 68 with value: 0.7576324104930741.\u001b[0m\n",
      "\u001b[32m[I 2023-08-24 13:16:30,428]\u001b[0m Trial 80 finished with value: 0.7014599195587172 and parameters: {'n_estimators': 875, 'max_depth': 21, 'num_leaves': 3, 'min_child_samples': 9, 'num_iterations': 938}. Best is trial 68 with value: 0.7576324104930741.\u001b[0m\n",
      "\u001b[32m[I 2023-08-24 13:16:32,511]\u001b[0m Trial 81 finished with value: 0.7552749310153495 and parameters: {'n_estimators': 723, 'max_depth': 23, 'num_leaves': 13, 'min_child_samples': 10, 'num_iterations': 982}. Best is trial 68 with value: 0.7576324104930741.\u001b[0m\n",
      "\u001b[32m[I 2023-08-24 13:16:34,201]\u001b[0m Trial 82 finished with value: 0.7569189308778972 and parameters: {'n_estimators': 786, 'max_depth': 25, 'num_leaves': 11, 'min_child_samples': 10, 'num_iterations': 964}. Best is trial 68 with value: 0.7576324104930741.\u001b[0m\n",
      "\u001b[32m[I 2023-08-24 13:16:35,620]\u001b[0m Trial 83 finished with value: 0.7537897551752459 and parameters: {'n_estimators': 782, 'max_depth': 26, 'num_leaves': 9, 'min_child_samples': 10, 'num_iterations': 963}. Best is trial 68 with value: 0.7576324104930741.\u001b[0m\n",
      "\u001b[32m[I 2023-08-24 13:16:37,251]\u001b[0m Trial 84 finished with value: 0.7575222201545831 and parameters: {'n_estimators': 763, 'max_depth': 25, 'num_leaves': 11, 'min_child_samples': 9, 'num_iterations': 921}. Best is trial 68 with value: 0.7576324104930741.\u001b[0m\n",
      "\u001b[32m[I 2023-08-24 13:16:38,877]\u001b[0m Trial 85 finished with value: 0.757519201990809 and parameters: {'n_estimators': 757, 'max_depth': 25, 'num_leaves': 11, 'min_child_samples': 9, 'num_iterations': 925}. Best is trial 68 with value: 0.7576324104930741.\u001b[0m\n",
      "\u001b[32m[I 2023-08-24 13:16:40,872]\u001b[0m Trial 86 finished with value: 0.7465350109158829 and parameters: {'n_estimators': 739, 'max_depth': 27, 'num_leaves': 15, 'min_child_samples': 8, 'num_iterations': 882}. Best is trial 68 with value: 0.7576324104930741.\u001b[0m\n",
      "\u001b[32m[I 2023-08-24 13:16:42,343]\u001b[0m Trial 87 finished with value: 0.7545385151163009 and parameters: {'n_estimators': 756, 'max_depth': 7, 'num_leaves': 10, 'min_child_samples': 9, 'num_iterations': 925}. Best is trial 68 with value: 0.7576324104930741.\u001b[0m\n",
      "\u001b[32m[I 2023-08-24 13:16:44,123]\u001b[0m Trial 88 finished with value: 0.7500647007168494 and parameters: {'n_estimators': 552, 'max_depth': 28, 'num_leaves': 12, 'min_child_samples': 9, 'num_iterations': 918}. Best is trial 68 with value: 0.7576324104930741.\u001b[0m\n",
      "\u001b[32m[I 2023-08-24 13:16:46,435]\u001b[0m Trial 89 finished with value: 0.7395306993581005 and parameters: {'n_estimators': 706, 'max_depth': 20, 'num_leaves': 17, 'min_child_samples': 9, 'num_iterations': 901}. Best is trial 68 with value: 0.7576324104930741.\u001b[0m\n",
      "\u001b[32m[I 2023-08-24 13:16:48,389]\u001b[0m Trial 90 finished with value: 0.7528345689833799 and parameters: {'n_estimators': 935, 'max_depth': 29, 'num_leaves': 14, 'min_child_samples': 3, 'num_iterations': 862}. Best is trial 68 with value: 0.7576324104930741.\u001b[0m\n",
      "\u001b[32m[I 2023-08-24 13:16:50,059]\u001b[0m Trial 91 finished with value: 0.757145767585813 and parameters: {'n_estimators': 774, 'max_depth': 25, 'num_leaves': 11, 'min_child_samples': 10, 'num_iterations': 941}. Best is trial 68 with value: 0.7576324104930741.\u001b[0m\n",
      "\u001b[32m[I 2023-08-24 13:16:51,740]\u001b[0m Trial 92 finished with value: 0.757145767585813 and parameters: {'n_estimators': 767, 'max_depth': 25, 'num_leaves': 11, 'min_child_samples': 10, 'num_iterations': 941}. Best is trial 68 with value: 0.7576324104930741.\u001b[0m\n",
      "\u001b[32m[I 2023-08-24 13:16:53,627]\u001b[0m Trial 93 finished with value: 0.7552892124090689 and parameters: {'n_estimators': 833, 'max_depth': 25, 'num_leaves': 13, 'min_child_samples': 10, 'num_iterations': 941}. Best is trial 68 with value: 0.7576324104930741.\u001b[0m\n",
      "\u001b[32m[I 2023-08-24 13:16:55,321]\u001b[0m Trial 94 finished with value: 0.7570274003133054 and parameters: {'n_estimators': 802, 'max_depth': 26, 'num_leaves': 11, 'min_child_samples': 10, 'num_iterations': 952}. Best is trial 68 with value: 0.7576324104930741.\u001b[0m\n",
      "\u001b[32m[I 2023-08-24 13:16:56,981]\u001b[0m Trial 95 finished with value: 0.7569948666251495 and parameters: {'n_estimators': 804, 'max_depth': 26, 'num_leaves': 11, 'min_child_samples': 10, 'num_iterations': 954}. Best is trial 68 with value: 0.7576324104930741.\u001b[0m\n",
      "\u001b[32m[I 2023-08-24 13:16:58,857]\u001b[0m Trial 96 finished with value: 0.7512612559635383 and parameters: {'n_estimators': 772, 'max_depth': 26, 'num_leaves': 12, 'min_child_samples': 10, 'num_iterations': 974}. Best is trial 68 with value: 0.7576324104930741.\u001b[0m\n",
      "\u001b[32m[I 2023-08-24 13:16:59,838]\u001b[0m Trial 97 finished with value: 0.731542480949327 and parameters: {'n_estimators': 732, 'max_depth': 3, 'num_leaves': 14, 'min_child_samples': 10, 'num_iterations': 936}. Best is trial 68 with value: 0.7576324104930741.\u001b[0m\n",
      "\u001b[32m[I 2023-08-24 13:17:01,564]\u001b[0m Trial 98 finished with value: 0.7568263600322747 and parameters: {'n_estimators': 845, 'max_depth': 23, 'num_leaves': 11, 'min_child_samples': 10, 'num_iterations': 985}. Best is trial 68 with value: 0.7576324104930741.\u001b[0m\n",
      "\u001b[32m[I 2023-08-24 13:17:03,144]\u001b[0m Trial 99 finished with value: 0.7513491073990888 and parameters: {'n_estimators': 806, 'max_depth': 25, 'num_leaves': 10, 'min_child_samples': 10, 'num_iterations': 925}. Best is trial 68 with value: 0.7576324104930741.\u001b[0m\n"
     ]
    },
    {
     "name": "stdout",
     "output_type": "stream",
     "text": [
      "Best r2:  0.7576324104930741\n",
      "Best trial: {'n_estimators': 576, 'max_depth': 15, 'num_leaves': 11, 'min_child_samples': 9, 'num_iterations': 936}\n"
     ]
    }
   ],
   "source": [
    "sampler = TPESampler()\n",
    "study = optuna.create_study(\n",
    "    study_name=\"lgbm_parameter_opt\",\n",
    "    direction=\"maximize\",\n",
    "    sampler=sampler,\n",
    ")\n",
    "\n",
    "study.optimize(lambda trial : objectiveLGBM(trial, Ni_X_train, Ni_y_train), n_trials=100)\n",
    "print(\"Best r2: \", study.best_value)\n",
    "print(\"Best trial:\", study.best_trial.params)"
   ]
  },
  {
   "cell_type": "code",
   "execution_count": 45,
   "id": "d71c01fb",
   "metadata": {},
   "outputs": [
    {
     "data": {
      "application/vnd.plotly.v1+json": {
       "config": {
        "plotlyServerURL": "https://plot.ly"
       },
       "data": [
        {
         "dimensions": [
          {
           "label": "Objective Value",
           "range": [
            0.5621001125036268,
            0.7576324104930741
           ],
           "values": [
            0.73207974329966,
            0.7322441274959284,
            0.742850445494631,
            0.7405979169241672,
            0.7542342729070732,
            0.7497107388190332,
            0.7522700051621929,
            0.7328855670556618,
            0.7329483462955743,
            0.7361846801031783,
            0.5621001125036268,
            0.7567047566087881,
            0.7511882196819325,
            0.7244071591068673,
            0.746680389950554,
            0.7545298144781443,
            0.7509238662705549,
            0.7467132457994524,
            0.7569347597750214,
            0.7562598902043073,
            0.7476661388566916,
            0.7562598902043073,
            0.7493409643820849,
            0.7552119801834174,
            0.7507741456904314,
            0.7539999645433497,
            0.750193188340346,
            0.742362556034921,
            0.7345021650276793,
            0.5792602245980276,
            0.7568249354040526,
            0.7569281488464661,
            0.756858031539019,
            0.7266713692993234,
            0.7572549492628964,
            0.7389234840267285,
            0.749620998328312,
            0.7475418341048454,
            0.7547126418092998,
            0.6937342461839517,
            0.7328835975332745,
            0.7552704639280032,
            0.5834408425109776,
            0.7456788053549931,
            0.7566166617500676,
            0.7512566937016791,
            0.7541362228758943,
            0.7540583301339077,
            0.7500221661903023,
            0.7197480096726665,
            0.7513562646015639,
            0.7568498621607018,
            0.7528635342467839,
            0.7552280117396476,
            0.7552714374842527,
            0.7552727290222504,
            0.7554250428636043,
            0.7416214502531242,
            0.73971402393254,
            0.7528414165142998,
            0.7551161585662436,
            0.7552616517733634,
            0.7576258839471866,
            0.7550571811364708,
            0.7538535561197791,
            0.7574950750829175,
            0.7520438568205539,
            0.7468335143267952,
            0.7576324104930741,
            0.7450621297070411,
            0.7557314270629949,
            0.7575605143002985,
            0.7501771412975403,
            0.7543501555725903,
            0.7457826996922031,
            0.7500802987199899,
            0.7471550722637595,
            0.7514652787157523,
            0.7467679265526757,
            0.586867074298906,
            0.7014599195587172,
            0.7552749310153495,
            0.7569189308778972,
            0.7537897551752459,
            0.7575222201545831,
            0.757519201990809,
            0.7465350109158829,
            0.7545385151163009,
            0.7500647007168494,
            0.7395306993581005,
            0.7528345689833799,
            0.757145767585813,
            0.757145767585813,
            0.7552892124090689,
            0.7570274003133054,
            0.7569948666251495,
            0.7512612559635383,
            0.731542480949327,
            0.7568263600322747,
            0.7513491073990888
           ]
          },
          {
           "label": "max_depth",
           "range": [
            1,
            30
           ],
           "values": [
            5,
            8,
            16,
            12,
            19,
            18,
            10,
            3,
            3,
            4,
            27,
            23,
            24,
            21,
            28,
            19,
            23,
            15,
            30,
            30,
            25,
            30,
            30,
            26,
            28,
            22,
            30,
            26,
            21,
            28,
            24,
            24,
            24,
            14,
            7,
            7,
            7,
            17,
            11,
            13,
            19,
            25,
            1,
            9,
            21,
            23,
            20,
            16,
            27,
            18,
            25,
            23,
            23,
            24,
            27,
            22,
            29,
            24,
            5,
            26,
            22,
            24,
            20,
            20,
            18,
            20,
            17,
            20,
            15,
            15,
            14,
            22,
            21,
            17,
            11,
            19,
            5,
            29,
            22,
            1,
            21,
            23,
            25,
            26,
            25,
            25,
            27,
            7,
            28,
            20,
            29,
            25,
            25,
            25,
            26,
            26,
            26,
            3,
            23,
            25
           ]
          },
          {
           "label": "min_child_samples",
           "range": [
            1,
            10
           ],
           "values": [
            7,
            5,
            5,
            4,
            8,
            7,
            3,
            8,
            7,
            3,
            1,
            10,
            10,
            10,
            9,
            9,
            10,
            9,
            9,
            6,
            8,
            6,
            6,
            9,
            1,
            10,
            8,
            6,
            4,
            7,
            9,
            9,
            9,
            9,
            8,
            8,
            7,
            8,
            9,
            7,
            8,
            9,
            10,
            9,
            8,
            10,
            8,
            9,
            5,
            2,
            10,
            10,
            10,
            9,
            9,
            10,
            10,
            9,
            8,
            10,
            9,
            10,
            9,
            9,
            8,
            9,
            7,
            8,
            9,
            9,
            8,
            9,
            9,
            9,
            8,
            9,
            9,
            4,
            7,
            8,
            9,
            10,
            10,
            10,
            9,
            9,
            8,
            9,
            9,
            9,
            3,
            10,
            10,
            10,
            10,
            10,
            10,
            10,
            10,
            10
           ]
          },
          {
           "label": "n_estimators",
           "range": [
            500,
            1000
           ],
           "values": [
            610,
            971,
            697,
            516,
            643,
            571,
            581,
            642,
            813,
            981,
            821,
            713,
            737,
            814,
            693,
            665,
            877,
            708,
            521,
            515,
            767,
            500,
            561,
            538,
            610,
            516,
            914,
            503,
            604,
            614,
            772,
            767,
            769,
            780,
            866,
            864,
            928,
            854,
            910,
            794,
            737,
            752,
            848,
            671,
            954,
            1000,
            827,
            786,
            891,
            739,
            836,
            719,
            799,
            762,
            723,
            687,
            638,
            813,
            772,
            714,
            655,
            699,
            723,
            746,
            725,
            758,
            798,
            686,
            576,
            562,
            537,
            752,
            525,
            602,
            575,
            755,
            592,
            542,
            635,
            816,
            875,
            723,
            786,
            782,
            763,
            757,
            739,
            756,
            552,
            706,
            935,
            774,
            767,
            833,
            802,
            804,
            772,
            732,
            845,
            806
           ]
          },
          {
           "label": "num_iterations",
           "range": [
            505,
            1000
           ],
           "values": [
            769,
            682,
            687,
            750,
            867,
            933,
            1000,
            725,
            813,
            884,
            530,
            996,
            992,
            872,
            924,
            826,
            593,
            801,
            940,
            959,
            919,
            959,
            979,
            948,
            880,
            909,
            961,
            830,
            968,
            779,
            899,
            910,
            908,
            851,
            901,
            854,
            654,
            931,
            752,
            716,
            898,
            897,
            854,
            933,
            791,
            894,
            941,
            830,
            873,
            914,
            997,
            980,
            975,
            945,
            910,
            983,
            505,
            863,
            885,
            948,
            925,
            993,
            965,
            956,
            969,
            907,
            918,
            585,
            936,
            839,
            811,
            932,
            933,
            889,
            907,
            956,
            873,
            927,
            949,
            906,
            938,
            982,
            964,
            963,
            921,
            925,
            882,
            925,
            918,
            901,
            862,
            941,
            941,
            941,
            952,
            954,
            974,
            936,
            985,
            925
           ]
          },
          {
           "label": "num_leaves",
           "range": [
            2,
            32
           ],
           "values": [
            26,
            28,
            22,
            32,
            11,
            12,
            9,
            28,
            25,
            21,
            2,
            11,
            12,
            4,
            16,
            7,
            7,
            16,
            8,
            14,
            19,
            14,
            6,
            10,
            14,
            9,
            14,
            19,
            5,
            2,
            8,
            8,
            8,
            4,
            8,
            5,
            8,
            12,
            10,
            3,
            32,
            7,
            9,
            6,
            8,
            12,
            11,
            9,
            24,
            4,
            6,
            11,
            8,
            10,
            7,
            13,
            11,
            5,
            16,
            8,
            10,
            13,
            11,
            7,
            9,
            11,
            13,
            15,
            11,
            18,
            10,
            11,
            12,
            9,
            6,
            12,
            11,
            10,
            15,
            7,
            3,
            13,
            11,
            9,
            11,
            11,
            15,
            10,
            12,
            17,
            14,
            11,
            11,
            13,
            11,
            11,
            12,
            14,
            11,
            10
           ]
          }
         ],
         "labelangle": 30,
         "labelside": "bottom",
         "line": {
          "color": [
           0.73207974329966,
           0.7322441274959284,
           0.742850445494631,
           0.7405979169241672,
           0.7542342729070732,
           0.7497107388190332,
           0.7522700051621929,
           0.7328855670556618,
           0.7329483462955743,
           0.7361846801031783,
           0.5621001125036268,
           0.7567047566087881,
           0.7511882196819325,
           0.7244071591068673,
           0.746680389950554,
           0.7545298144781443,
           0.7509238662705549,
           0.7467132457994524,
           0.7569347597750214,
           0.7562598902043073,
           0.7476661388566916,
           0.7562598902043073,
           0.7493409643820849,
           0.7552119801834174,
           0.7507741456904314,
           0.7539999645433497,
           0.750193188340346,
           0.742362556034921,
           0.7345021650276793,
           0.5792602245980276,
           0.7568249354040526,
           0.7569281488464661,
           0.756858031539019,
           0.7266713692993234,
           0.7572549492628964,
           0.7389234840267285,
           0.749620998328312,
           0.7475418341048454,
           0.7547126418092998,
           0.6937342461839517,
           0.7328835975332745,
           0.7552704639280032,
           0.5834408425109776,
           0.7456788053549931,
           0.7566166617500676,
           0.7512566937016791,
           0.7541362228758943,
           0.7540583301339077,
           0.7500221661903023,
           0.7197480096726665,
           0.7513562646015639,
           0.7568498621607018,
           0.7528635342467839,
           0.7552280117396476,
           0.7552714374842527,
           0.7552727290222504,
           0.7554250428636043,
           0.7416214502531242,
           0.73971402393254,
           0.7528414165142998,
           0.7551161585662436,
           0.7552616517733634,
           0.7576258839471866,
           0.7550571811364708,
           0.7538535561197791,
           0.7574950750829175,
           0.7520438568205539,
           0.7468335143267952,
           0.7576324104930741,
           0.7450621297070411,
           0.7557314270629949,
           0.7575605143002985,
           0.7501771412975403,
           0.7543501555725903,
           0.7457826996922031,
           0.7500802987199899,
           0.7471550722637595,
           0.7514652787157523,
           0.7467679265526757,
           0.586867074298906,
           0.7014599195587172,
           0.7552749310153495,
           0.7569189308778972,
           0.7537897551752459,
           0.7575222201545831,
           0.757519201990809,
           0.7465350109158829,
           0.7545385151163009,
           0.7500647007168494,
           0.7395306993581005,
           0.7528345689833799,
           0.757145767585813,
           0.757145767585813,
           0.7552892124090689,
           0.7570274003133054,
           0.7569948666251495,
           0.7512612559635383,
           0.731542480949327,
           0.7568263600322747,
           0.7513491073990888
          ],
          "colorbar": {
           "title": {
            "text": "Objective Value"
           }
          },
          "colorscale": [
           [
            0,
            "rgb(247,251,255)"
           ],
           [
            0.125,
            "rgb(222,235,247)"
           ],
           [
            0.25,
            "rgb(198,219,239)"
           ],
           [
            0.375,
            "rgb(158,202,225)"
           ],
           [
            0.5,
            "rgb(107,174,214)"
           ],
           [
            0.625,
            "rgb(66,146,198)"
           ],
           [
            0.75,
            "rgb(33,113,181)"
           ],
           [
            0.875,
            "rgb(8,81,156)"
           ],
           [
            1,
            "rgb(8,48,107)"
           ]
          ],
          "reversescale": false,
          "showscale": true
         },
         "type": "parcoords"
        }
       ],
       "layout": {
        "template": {
         "data": {
          "bar": [
           {
            "error_x": {
             "color": "#2a3f5f"
            },
            "error_y": {
             "color": "#2a3f5f"
            },
            "marker": {
             "line": {
              "color": "#E5ECF6",
              "width": 0.5
             },
             "pattern": {
              "fillmode": "overlay",
              "size": 10,
              "solidity": 0.2
             }
            },
            "type": "bar"
           }
          ],
          "barpolar": [
           {
            "marker": {
             "line": {
              "color": "#E5ECF6",
              "width": 0.5
             },
             "pattern": {
              "fillmode": "overlay",
              "size": 10,
              "solidity": 0.2
             }
            },
            "type": "barpolar"
           }
          ],
          "carpet": [
           {
            "aaxis": {
             "endlinecolor": "#2a3f5f",
             "gridcolor": "white",
             "linecolor": "white",
             "minorgridcolor": "white",
             "startlinecolor": "#2a3f5f"
            },
            "baxis": {
             "endlinecolor": "#2a3f5f",
             "gridcolor": "white",
             "linecolor": "white",
             "minorgridcolor": "white",
             "startlinecolor": "#2a3f5f"
            },
            "type": "carpet"
           }
          ],
          "choropleth": [
           {
            "colorbar": {
             "outlinewidth": 0,
             "ticks": ""
            },
            "type": "choropleth"
           }
          ],
          "contour": [
           {
            "colorbar": {
             "outlinewidth": 0,
             "ticks": ""
            },
            "colorscale": [
             [
              0,
              "#0d0887"
             ],
             [
              0.1111111111111111,
              "#46039f"
             ],
             [
              0.2222222222222222,
              "#7201a8"
             ],
             [
              0.3333333333333333,
              "#9c179e"
             ],
             [
              0.4444444444444444,
              "#bd3786"
             ],
             [
              0.5555555555555556,
              "#d8576b"
             ],
             [
              0.6666666666666666,
              "#ed7953"
             ],
             [
              0.7777777777777778,
              "#fb9f3a"
             ],
             [
              0.8888888888888888,
              "#fdca26"
             ],
             [
              1,
              "#f0f921"
             ]
            ],
            "type": "contour"
           }
          ],
          "contourcarpet": [
           {
            "colorbar": {
             "outlinewidth": 0,
             "ticks": ""
            },
            "type": "contourcarpet"
           }
          ],
          "heatmap": [
           {
            "colorbar": {
             "outlinewidth": 0,
             "ticks": ""
            },
            "colorscale": [
             [
              0,
              "#0d0887"
             ],
             [
              0.1111111111111111,
              "#46039f"
             ],
             [
              0.2222222222222222,
              "#7201a8"
             ],
             [
              0.3333333333333333,
              "#9c179e"
             ],
             [
              0.4444444444444444,
              "#bd3786"
             ],
             [
              0.5555555555555556,
              "#d8576b"
             ],
             [
              0.6666666666666666,
              "#ed7953"
             ],
             [
              0.7777777777777778,
              "#fb9f3a"
             ],
             [
              0.8888888888888888,
              "#fdca26"
             ],
             [
              1,
              "#f0f921"
             ]
            ],
            "type": "heatmap"
           }
          ],
          "heatmapgl": [
           {
            "colorbar": {
             "outlinewidth": 0,
             "ticks": ""
            },
            "colorscale": [
             [
              0,
              "#0d0887"
             ],
             [
              0.1111111111111111,
              "#46039f"
             ],
             [
              0.2222222222222222,
              "#7201a8"
             ],
             [
              0.3333333333333333,
              "#9c179e"
             ],
             [
              0.4444444444444444,
              "#bd3786"
             ],
             [
              0.5555555555555556,
              "#d8576b"
             ],
             [
              0.6666666666666666,
              "#ed7953"
             ],
             [
              0.7777777777777778,
              "#fb9f3a"
             ],
             [
              0.8888888888888888,
              "#fdca26"
             ],
             [
              1,
              "#f0f921"
             ]
            ],
            "type": "heatmapgl"
           }
          ],
          "histogram": [
           {
            "marker": {
             "pattern": {
              "fillmode": "overlay",
              "size": 10,
              "solidity": 0.2
             }
            },
            "type": "histogram"
           }
          ],
          "histogram2d": [
           {
            "colorbar": {
             "outlinewidth": 0,
             "ticks": ""
            },
            "colorscale": [
             [
              0,
              "#0d0887"
             ],
             [
              0.1111111111111111,
              "#46039f"
             ],
             [
              0.2222222222222222,
              "#7201a8"
             ],
             [
              0.3333333333333333,
              "#9c179e"
             ],
             [
              0.4444444444444444,
              "#bd3786"
             ],
             [
              0.5555555555555556,
              "#d8576b"
             ],
             [
              0.6666666666666666,
              "#ed7953"
             ],
             [
              0.7777777777777778,
              "#fb9f3a"
             ],
             [
              0.8888888888888888,
              "#fdca26"
             ],
             [
              1,
              "#f0f921"
             ]
            ],
            "type": "histogram2d"
           }
          ],
          "histogram2dcontour": [
           {
            "colorbar": {
             "outlinewidth": 0,
             "ticks": ""
            },
            "colorscale": [
             [
              0,
              "#0d0887"
             ],
             [
              0.1111111111111111,
              "#46039f"
             ],
             [
              0.2222222222222222,
              "#7201a8"
             ],
             [
              0.3333333333333333,
              "#9c179e"
             ],
             [
              0.4444444444444444,
              "#bd3786"
             ],
             [
              0.5555555555555556,
              "#d8576b"
             ],
             [
              0.6666666666666666,
              "#ed7953"
             ],
             [
              0.7777777777777778,
              "#fb9f3a"
             ],
             [
              0.8888888888888888,
              "#fdca26"
             ],
             [
              1,
              "#f0f921"
             ]
            ],
            "type": "histogram2dcontour"
           }
          ],
          "mesh3d": [
           {
            "colorbar": {
             "outlinewidth": 0,
             "ticks": ""
            },
            "type": "mesh3d"
           }
          ],
          "parcoords": [
           {
            "line": {
             "colorbar": {
              "outlinewidth": 0,
              "ticks": ""
             }
            },
            "type": "parcoords"
           }
          ],
          "pie": [
           {
            "automargin": true,
            "type": "pie"
           }
          ],
          "scatter": [
           {
            "marker": {
             "colorbar": {
              "outlinewidth": 0,
              "ticks": ""
             }
            },
            "type": "scatter"
           }
          ],
          "scatter3d": [
           {
            "line": {
             "colorbar": {
              "outlinewidth": 0,
              "ticks": ""
             }
            },
            "marker": {
             "colorbar": {
              "outlinewidth": 0,
              "ticks": ""
             }
            },
            "type": "scatter3d"
           }
          ],
          "scattercarpet": [
           {
            "marker": {
             "colorbar": {
              "outlinewidth": 0,
              "ticks": ""
             }
            },
            "type": "scattercarpet"
           }
          ],
          "scattergeo": [
           {
            "marker": {
             "colorbar": {
              "outlinewidth": 0,
              "ticks": ""
             }
            },
            "type": "scattergeo"
           }
          ],
          "scattergl": [
           {
            "marker": {
             "colorbar": {
              "outlinewidth": 0,
              "ticks": ""
             }
            },
            "type": "scattergl"
           }
          ],
          "scattermapbox": [
           {
            "marker": {
             "colorbar": {
              "outlinewidth": 0,
              "ticks": ""
             }
            },
            "type": "scattermapbox"
           }
          ],
          "scatterpolar": [
           {
            "marker": {
             "colorbar": {
              "outlinewidth": 0,
              "ticks": ""
             }
            },
            "type": "scatterpolar"
           }
          ],
          "scatterpolargl": [
           {
            "marker": {
             "colorbar": {
              "outlinewidth": 0,
              "ticks": ""
             }
            },
            "type": "scatterpolargl"
           }
          ],
          "scatterternary": [
           {
            "marker": {
             "colorbar": {
              "outlinewidth": 0,
              "ticks": ""
             }
            },
            "type": "scatterternary"
           }
          ],
          "surface": [
           {
            "colorbar": {
             "outlinewidth": 0,
             "ticks": ""
            },
            "colorscale": [
             [
              0,
              "#0d0887"
             ],
             [
              0.1111111111111111,
              "#46039f"
             ],
             [
              0.2222222222222222,
              "#7201a8"
             ],
             [
              0.3333333333333333,
              "#9c179e"
             ],
             [
              0.4444444444444444,
              "#bd3786"
             ],
             [
              0.5555555555555556,
              "#d8576b"
             ],
             [
              0.6666666666666666,
              "#ed7953"
             ],
             [
              0.7777777777777778,
              "#fb9f3a"
             ],
             [
              0.8888888888888888,
              "#fdca26"
             ],
             [
              1,
              "#f0f921"
             ]
            ],
            "type": "surface"
           }
          ],
          "table": [
           {
            "cells": {
             "fill": {
              "color": "#EBF0F8"
             },
             "line": {
              "color": "white"
             }
            },
            "header": {
             "fill": {
              "color": "#C8D4E3"
             },
             "line": {
              "color": "white"
             }
            },
            "type": "table"
           }
          ]
         },
         "layout": {
          "annotationdefaults": {
           "arrowcolor": "#2a3f5f",
           "arrowhead": 0,
           "arrowwidth": 1
          },
          "autotypenumbers": "strict",
          "coloraxis": {
           "colorbar": {
            "outlinewidth": 0,
            "ticks": ""
           }
          },
          "colorscale": {
           "diverging": [
            [
             0,
             "#8e0152"
            ],
            [
             0.1,
             "#c51b7d"
            ],
            [
             0.2,
             "#de77ae"
            ],
            [
             0.3,
             "#f1b6da"
            ],
            [
             0.4,
             "#fde0ef"
            ],
            [
             0.5,
             "#f7f7f7"
            ],
            [
             0.6,
             "#e6f5d0"
            ],
            [
             0.7,
             "#b8e186"
            ],
            [
             0.8,
             "#7fbc41"
            ],
            [
             0.9,
             "#4d9221"
            ],
            [
             1,
             "#276419"
            ]
           ],
           "sequential": [
            [
             0,
             "#0d0887"
            ],
            [
             0.1111111111111111,
             "#46039f"
            ],
            [
             0.2222222222222222,
             "#7201a8"
            ],
            [
             0.3333333333333333,
             "#9c179e"
            ],
            [
             0.4444444444444444,
             "#bd3786"
            ],
            [
             0.5555555555555556,
             "#d8576b"
            ],
            [
             0.6666666666666666,
             "#ed7953"
            ],
            [
             0.7777777777777778,
             "#fb9f3a"
            ],
            [
             0.8888888888888888,
             "#fdca26"
            ],
            [
             1,
             "#f0f921"
            ]
           ],
           "sequentialminus": [
            [
             0,
             "#0d0887"
            ],
            [
             0.1111111111111111,
             "#46039f"
            ],
            [
             0.2222222222222222,
             "#7201a8"
            ],
            [
             0.3333333333333333,
             "#9c179e"
            ],
            [
             0.4444444444444444,
             "#bd3786"
            ],
            [
             0.5555555555555556,
             "#d8576b"
            ],
            [
             0.6666666666666666,
             "#ed7953"
            ],
            [
             0.7777777777777778,
             "#fb9f3a"
            ],
            [
             0.8888888888888888,
             "#fdca26"
            ],
            [
             1,
             "#f0f921"
            ]
           ]
          },
          "colorway": [
           "#636efa",
           "#EF553B",
           "#00cc96",
           "#ab63fa",
           "#FFA15A",
           "#19d3f3",
           "#FF6692",
           "#B6E880",
           "#FF97FF",
           "#FECB52"
          ],
          "font": {
           "color": "#2a3f5f"
          },
          "geo": {
           "bgcolor": "white",
           "lakecolor": "white",
           "landcolor": "#E5ECF6",
           "showlakes": true,
           "showland": true,
           "subunitcolor": "white"
          },
          "hoverlabel": {
           "align": "left"
          },
          "hovermode": "closest",
          "mapbox": {
           "style": "light"
          },
          "paper_bgcolor": "white",
          "plot_bgcolor": "#E5ECF6",
          "polar": {
           "angularaxis": {
            "gridcolor": "white",
            "linecolor": "white",
            "ticks": ""
           },
           "bgcolor": "#E5ECF6",
           "radialaxis": {
            "gridcolor": "white",
            "linecolor": "white",
            "ticks": ""
           }
          },
          "scene": {
           "xaxis": {
            "backgroundcolor": "#E5ECF6",
            "gridcolor": "white",
            "gridwidth": 2,
            "linecolor": "white",
            "showbackground": true,
            "ticks": "",
            "zerolinecolor": "white"
           },
           "yaxis": {
            "backgroundcolor": "#E5ECF6",
            "gridcolor": "white",
            "gridwidth": 2,
            "linecolor": "white",
            "showbackground": true,
            "ticks": "",
            "zerolinecolor": "white"
           },
           "zaxis": {
            "backgroundcolor": "#E5ECF6",
            "gridcolor": "white",
            "gridwidth": 2,
            "linecolor": "white",
            "showbackground": true,
            "ticks": "",
            "zerolinecolor": "white"
           }
          },
          "shapedefaults": {
           "line": {
            "color": "#2a3f5f"
           }
          },
          "ternary": {
           "aaxis": {
            "gridcolor": "white",
            "linecolor": "white",
            "ticks": ""
           },
           "baxis": {
            "gridcolor": "white",
            "linecolor": "white",
            "ticks": ""
           },
           "bgcolor": "#E5ECF6",
           "caxis": {
            "gridcolor": "white",
            "linecolor": "white",
            "ticks": ""
           }
          },
          "title": {
           "x": 0.05
          },
          "xaxis": {
           "automargin": true,
           "gridcolor": "white",
           "linecolor": "white",
           "ticks": "",
           "title": {
            "standoff": 15
           },
           "zerolinecolor": "white",
           "zerolinewidth": 2
          },
          "yaxis": {
           "automargin": true,
           "gridcolor": "white",
           "linecolor": "white",
           "ticks": "",
           "title": {
            "standoff": 15
           },
           "zerolinecolor": "white",
           "zerolinewidth": 2
          }
         }
        },
        "title": {
         "text": "Parallel Coordinate Plot"
        }
       }
      }
     },
     "metadata": {},
     "output_type": "display_data"
    }
   ],
   "source": [
    "optuna.visualization.plot_parallel_coordinate(study)"
   ]
  },
  {
   "cell_type": "code",
   "execution_count": 46,
   "id": "1d419df8",
   "metadata": {},
   "outputs": [
    {
     "name": "stdout",
     "output_type": "stream",
     "text": [
      "Best trial: {'n_estimators': 576, 'max_depth': 15, 'num_leaves': 11, 'min_child_samples': 9, 'num_iterations': 936}\n"
     ]
    },
    {
     "data": {
      "text/plain": [
       "576"
      ]
     },
     "execution_count": 46,
     "metadata": {},
     "output_type": "execute_result"
    }
   ],
   "source": [
    "print(\"Best trial:\", study.best_trial.params)\n",
    "study.best_trial.params[\"n_estimators\"]"
   ]
  },
  {
   "cell_type": "code",
   "execution_count": 47,
   "id": "ffefef6c",
   "metadata": {},
   "outputs": [
    {
     "data": {
      "text/html": [
       "<style>#sk-container-id-3 {color: black;}#sk-container-id-3 pre{padding: 0;}#sk-container-id-3 div.sk-toggleable {background-color: white;}#sk-container-id-3 label.sk-toggleable__label {cursor: pointer;display: block;width: 100%;margin-bottom: 0;padding: 0.3em;box-sizing: border-box;text-align: center;}#sk-container-id-3 label.sk-toggleable__label-arrow:before {content: \"▸\";float: left;margin-right: 0.25em;color: #696969;}#sk-container-id-3 label.sk-toggleable__label-arrow:hover:before {color: black;}#sk-container-id-3 div.sk-estimator:hover label.sk-toggleable__label-arrow:before {color: black;}#sk-container-id-3 div.sk-toggleable__content {max-height: 0;max-width: 0;overflow: hidden;text-align: left;background-color: #f0f8ff;}#sk-container-id-3 div.sk-toggleable__content pre {margin: 0.2em;color: black;border-radius: 0.25em;background-color: #f0f8ff;}#sk-container-id-3 input.sk-toggleable__control:checked~div.sk-toggleable__content {max-height: 200px;max-width: 100%;overflow: auto;}#sk-container-id-3 input.sk-toggleable__control:checked~label.sk-toggleable__label-arrow:before {content: \"▾\";}#sk-container-id-3 div.sk-estimator input.sk-toggleable__control:checked~label.sk-toggleable__label {background-color: #d4ebff;}#sk-container-id-3 div.sk-label input.sk-toggleable__control:checked~label.sk-toggleable__label {background-color: #d4ebff;}#sk-container-id-3 input.sk-hidden--visually {border: 0;clip: rect(1px 1px 1px 1px);clip: rect(1px, 1px, 1px, 1px);height: 1px;margin: -1px;overflow: hidden;padding: 0;position: absolute;width: 1px;}#sk-container-id-3 div.sk-estimator {font-family: monospace;background-color: #f0f8ff;border: 1px dotted black;border-radius: 0.25em;box-sizing: border-box;margin-bottom: 0.5em;}#sk-container-id-3 div.sk-estimator:hover {background-color: #d4ebff;}#sk-container-id-3 div.sk-parallel-item::after {content: \"\";width: 100%;border-bottom: 1px solid gray;flex-grow: 1;}#sk-container-id-3 div.sk-label:hover label.sk-toggleable__label {background-color: #d4ebff;}#sk-container-id-3 div.sk-serial::before {content: \"\";position: absolute;border-left: 1px solid gray;box-sizing: border-box;top: 0;bottom: 0;left: 50%;z-index: 0;}#sk-container-id-3 div.sk-serial {display: flex;flex-direction: column;align-items: center;background-color: white;padding-right: 0.2em;padding-left: 0.2em;position: relative;}#sk-container-id-3 div.sk-item {position: relative;z-index: 1;}#sk-container-id-3 div.sk-parallel {display: flex;align-items: stretch;justify-content: center;background-color: white;position: relative;}#sk-container-id-3 div.sk-item::before, #sk-container-id-3 div.sk-parallel-item::before {content: \"\";position: absolute;border-left: 1px solid gray;box-sizing: border-box;top: 0;bottom: 0;left: 50%;z-index: -1;}#sk-container-id-3 div.sk-parallel-item {display: flex;flex-direction: column;z-index: 1;position: relative;background-color: white;}#sk-container-id-3 div.sk-parallel-item:first-child::after {align-self: flex-end;width: 50%;}#sk-container-id-3 div.sk-parallel-item:last-child::after {align-self: flex-start;width: 50%;}#sk-container-id-3 div.sk-parallel-item:only-child::after {width: 0;}#sk-container-id-3 div.sk-dashed-wrapped {border: 1px dashed gray;margin: 0 0.4em 0.5em 0.4em;box-sizing: border-box;padding-bottom: 0.4em;background-color: white;}#sk-container-id-3 div.sk-label label {font-family: monospace;font-weight: bold;display: inline-block;line-height: 1.2em;}#sk-container-id-3 div.sk-label-container {text-align: center;}#sk-container-id-3 div.sk-container {/* jupyter's `normalize.less` sets `[hidden] { display: none; }` but bootstrap.min.css set `[hidden] { display: none !important; }` so we also need the `!important` here to be able to override the default hidden behavior on the sphinx rendered scikit-learn.org. See: https://github.com/scikit-learn/scikit-learn/issues/21755 */display: inline-block !important;position: relative;}#sk-container-id-3 div.sk-text-repr-fallback {display: none;}</style><div id=\"sk-container-id-3\" class=\"sk-top-container\"><div class=\"sk-text-repr-fallback\"><pre>LGBMRegressor(max_depth=15, min_child_samples=9, n_estimators=576,\n",
       "              num_iterations=936, num_leaves=11, random_state=42)</pre><b>In a Jupyter environment, please rerun this cell to show the HTML representation or trust the notebook. <br />On GitHub, the HTML representation is unable to render, please try loading this page with nbviewer.org.</b></div><div class=\"sk-container\" hidden><div class=\"sk-item\"><div class=\"sk-estimator sk-toggleable\"><input class=\"sk-toggleable__control sk-hidden--visually\" id=\"sk-estimator-id-3\" type=\"checkbox\" checked><label for=\"sk-estimator-id-3\" class=\"sk-toggleable__label sk-toggleable__label-arrow\">LGBMRegressor</label><div class=\"sk-toggleable__content\"><pre>LGBMRegressor(max_depth=15, min_child_samples=9, n_estimators=576,\n",
       "              num_iterations=936, num_leaves=11, random_state=42)</pre></div></div></div></div></div>"
      ],
      "text/plain": [
       "LGBMRegressor(max_depth=15, min_child_samples=9, n_estimators=576,\n",
       "              num_iterations=936, num_leaves=11, random_state=42)"
      ]
     },
     "execution_count": 47,
     "metadata": {},
     "output_type": "execute_result"
    }
   ],
   "source": [
    "lgbm_params = {\n",
    "    \"random_state\": 42,\n",
    "    \"learning_rate\": 0.1,\n",
    "    \"n_estimators\": study.best_trial.params[\"n_estimators\"],\n",
    "    \"max_depth\": study.best_trial.params[\"max_depth\"],\n",
    "    \"num_leaves\": study.best_trial.params[\"num_leaves\"],\n",
    "    \"min_child_samples\": study.best_trial.params[\"min_child_samples\"],\n",
    "    \"num_iterations\": study.best_trial.params[\"num_iterations\"]\n",
    "}\n",
    "\n",
    "lgbm = LGBMRegressor(**lgbm_params)\n",
    "lgbm.fit(Ni_X_train, Ni_y_train)"
   ]
  },
  {
   "cell_type": "code",
   "execution_count": 48,
   "id": "4c1a69d2",
   "metadata": {},
   "outputs": [],
   "source": [
    "y_train_pred = lgbm.predict(Ni_X_train)\n",
    "y_test_pred = lgbm.predict(Ni_X_test)"
   ]
  },
  {
   "cell_type": "code",
   "execution_count": 49,
   "id": "0f707a20",
   "metadata": {},
   "outputs": [
    {
     "name": "stdout",
     "output_type": "stream",
     "text": [
      "Train RMSE:  0.09618135043915307\n",
      "Test RMSE:  0.91832214319927\n"
     ]
    }
   ],
   "source": [
    "print(\"Train RMSE: \", np.sqrt(mean_squared_error(Ni_y_train, y_train_pred)))\n",
    "print(\"Test RMSE: \", np.sqrt(mean_squared_error(Ni_y_test, y_test_pred)))"
   ]
  },
  {
   "cell_type": "code",
   "execution_count": 50,
   "id": "641d78f4",
   "metadata": {},
   "outputs": [
    {
     "name": "stdout",
     "output_type": "stream",
     "text": [
      "Train R2:  0.993708312108709\n",
      "Test R2:  0.4377498779216762\n"
     ]
    }
   ],
   "source": [
    "print(\"Train R2: \", r2_score(Ni_y_train, y_train_pred))\n",
    "print(\"Test R2: \", r2_score(Ni_y_test, y_test_pred))"
   ]
  },
  {
   "cell_type": "code",
   "execution_count": 51,
   "id": "badc2f1d",
   "metadata": {},
   "outputs": [
    {
     "data": {
      "image/png": "[encoded data removed]",
      "text/plain": [
       "<Figure size 640x480 with 1 Axes>"
      ]
     },
     "metadata": {},
     "output_type": "display_data"
    }
   ],
   "source": [
    "plt.scatter(y_train_pred, np.array(Ni_y_train), color=\"orange\", alpha=0.3)\n",
    "plt.scatter(y_test_pred, np.array(Ni_y_test), color=\"green\", alpha=0.4)\n",
    "plt.axis(\"auto\") # scaled, tight, auto, image, square\n",
    "# plt.xlim([0, 1.5]) \n",
    "# plt.ylim(0, None) \n",
    "plt.xlabel('Predicted Values')\n",
    "plt.ylabel('Actual Values')\n",
    "\n",
    "# Add y=x line\n",
    "plt.plot([0, 4.0], [0, 4.0], color='red', linestyle='-')\n",
    "\n",
    "plt.show()"
   ]
  }
 ],
 "metadata": {
  "kernelspec": {
   "display_name": "Python 3",
   "language": "python",
   "name": "python3"
  },
  "language_info": {
   "codemirror_mode": {
    "name": "ipython",
    "version": 3
   },
   "file_extension": ".py",
   "mimetype": "text/x-python",
   "name": "python",
   "nbconvert_exporter": "python",
   "pygments_lexer": "ipython3",
   "version": "3.8.11"
  }
 },
 "nbformat": 4,
 "nbformat_minor": 5
}
