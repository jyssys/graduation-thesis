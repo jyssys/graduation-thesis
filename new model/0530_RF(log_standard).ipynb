{
 "cells": [
  {
   "attachments": {},
   "cell_type": "markdown",
   "id": "451911be",
   "metadata": {},
   "source": [
    "#### Library import"
   ]
  },
  {
   "cell_type": "code",
   "execution_count": 1,
   "id": "8a394942",
   "metadata": {},
   "outputs": [],
   "source": [
    "import os\n",
    "import pandas as pd\n",
    "import numpy as np\n",
    "import matplotlib.pyplot as plt\n",
    "%matplotlib inline\n",
    "import seaborn as sns\n",
    "import tensorflow as tf\n",
    "import missingno as msno\n",
    "\n",
    "import warnings\n",
    "warnings.filterwarnings('ignore')\n",
    "\n",
    "from sklearn.model_selection import train_test_split\n",
    "from sklearn.model_selection import GridSearchCV\n",
    "from sklearn.metrics import mean_squared_error, r2_score\n",
    "from sklearn.preprocessing import StandardScaler, MinMaxScaler, RobustScaler\n",
    "from sklearn.ensemble import RandomForestRegressor, GradientBoostingRegressor, ExtraTreesRegressor\n",
    "from sklearn.model_selection import KFold\n",
    "from lightgbm import LGBMRegressor\n",
    "from xgboost import XGBRegressor\n",
    "from ngboost import NGBRegressor\n",
    "from scipy.stats import norm, skew\n",
    "\n",
    "from matplotlib.ticker import FormatStrFormatter\n",
    "\n",
    "from tensorflow import keras\n",
    "\n",
    "import re\n",
    "from tqdm import tqdm"
   ]
  },
  {
   "attachments": {},
   "cell_type": "markdown",
   "id": "31a13d68",
   "metadata": {},
   "source": [
    "#### GPU setting"
   ]
  },
  {
   "cell_type": "code",
   "execution_count": 2,
   "id": "cff3cada",
   "metadata": {},
   "outputs": [],
   "source": [
    "from tensorflow.compat.v1 import ConfigProto\n",
    "from tensorflow.compat.v1 import InteractiveSession"
   ]
  },
  {
   "cell_type": "code",
   "execution_count": 3,
   "id": "fb88e9c0",
   "metadata": {},
   "outputs": [],
   "source": [
    "config = ConfigProto()\n",
    "config.gpu_options.per_process_gpu_memory_fraction = 0.4\n",
    "session = InteractiveSession(config = config)"
   ]
  },
  {
   "cell_type": "code",
   "execution_count": 4,
   "id": "ea8f0f47",
   "metadata": {},
   "outputs": [
    {
     "name": "stdout",
     "output_type": "stream",
     "text": [
      "[name: \"/device:CPU:0\"\n",
      "device_type: \"CPU\"\n",
      "memory_limit: 268435456\n",
      "locality {\n",
      "}\n",
      "incarnation: 11339263547550753510\n",
      ", name: \"/device:GPU:0\"\n",
      "device_type: \"GPU\"\n",
      "memory_limit: 3435973836\n",
      "locality {\n",
      "  bus_id: 1\n",
      "  links {\n",
      "  }\n",
      "}\n",
      "incarnation: 1928473585273114337\n",
      "physical_device_desc: \"device: 0, name: NVIDIA GeForce RTX 3060 Ti, pci bus id: 0000:07:00.0, compute capability: 8.6\"\n",
      "]\n"
     ]
    }
   ],
   "source": [
    "physical_devices = tf.config.list_physical_devices('GPU')\n",
    "physical_devices\n",
    "\n",
    "from tensorflow.python.client import device_lib\n",
    "\n",
    "print(device_lib.list_local_devices())"
   ]
  },
  {
   "cell_type": "code",
   "execution_count": 5,
   "id": "cd001f36",
   "metadata": {},
   "outputs": [],
   "source": [
    "import os\n",
    "\n",
    "os.environ[\"CUDA_VISIBLE_DEVICES\"]=\"0\"\n",
    "gpus = tf.config.experimental.list_physical_devices('GPU')\n",
    "if gpus:\n",
    "    try:\n",
    "        tf.config.experimental.set_memory_growth(gpus[0], True)\n",
    "    except RuntimeError as e:\n",
    "        print(e)"
   ]
  },
  {
   "attachments": {},
   "cell_type": "markdown",
   "id": "cb740f81",
   "metadata": {},
   "source": [
    "#### Data import and preprocessing"
   ]
  },
  {
   "cell_type": "code",
   "execution_count": 6,
   "id": "9288345d",
   "metadata": {
    "scrolled": true
   },
   "outputs": [
    {
     "data": {
      "text/plain": [
       "Index(['OBJECTID_x', 'ID', 'pH', 'As', 'Cd', 'Ni', 'Pb', 'Zn', 'Hg', 'slope',\n",
       "       'altitude', 'profile_curve', 'profile_c_num', 'profile_c_abs',\n",
       "       'planform_curve', 'planform_c_num', 'planform_c_abs', 'HYDGRP',\n",
       "       'HYDGRP_A', 'HYDGRP_B', 'HYDGRP_C', 'HYDGRP_D', 'ANION_EXCL', 'SOL_CRK',\n",
       "       'SOL_K1', 'CLAY1', 'SILT1', 'SAND1', 'ROCK1', 'SOL_EC1', 'distance'],\n",
       "      dtype='object')"
      ]
     },
     "execution_count": 6,
     "metadata": {},
     "output_type": "execute_result"
    }
   ],
   "source": [
    "data = pd.read_csv(\"data/data.csv\")\n",
    "data.columns"
   ]
  },
  {
   "cell_type": "code",
   "execution_count": 7,
   "id": "bbf87a23",
   "metadata": {},
   "outputs": [
    {
     "data": {
      "text/plain": [
       "Index(['pH', 'As', 'Cd', 'Ni', 'Pb', 'Zn', 'Hg', 'slope', 'altitude',\n",
       "       'profile_curve', 'planform_curve', 'HYDGRP_A', 'HYDGRP_B', 'HYDGRP_C',\n",
       "       'HYDGRP_D', 'SOL_K1', 'CLAY1', 'SILT1', 'SAND1', 'ROCK1', 'distance'],\n",
       "      dtype='object')"
      ]
     },
     "execution_count": 7,
     "metadata": {},
     "output_type": "execute_result"
    }
   ],
   "source": [
    "data = data.drop(['OBJECTID_x','ID','HYDGRP','profile_c_num', 'profile_c_abs','planform_c_num', 'planform_c_abs','ANION_EXCL','SOL_CRK','SOL_EC1'], axis = 1)\n",
    "data.columns"
   ]
  },
  {
   "cell_type": "code",
   "execution_count": 8,
   "id": "3cb8e77e",
   "metadata": {},
   "outputs": [],
   "source": [
    "As = data\n",
    "Cd = data\n",
    "Ni = data"
   ]
  },
  {
   "cell_type": "code",
   "execution_count": 9,
   "id": "45ec138e",
   "metadata": {},
   "outputs": [],
   "source": [
    "As = As.drop([\"Cd\", \"Ni\", \"Pb\", \"Zn\", \"Hg\"], axis = 1)\n",
    "Cd = Cd.drop([\"As\", \"Ni\", \"Pb\", \"Zn\", \"Hg\"], axis = 1)\n",
    "Ni = Ni.drop([\"As\", \"Cd\", \"Pb\", \"Zn\", \"Hg\"], axis = 1)"
   ]
  },
  {
   "cell_type": "code",
   "execution_count": 10,
   "id": "69e10383",
   "metadata": {},
   "outputs": [
    {
     "name": "stdout",
     "output_type": "stream",
     "text": [
      "(1458, 16)\n",
      "(1458, 16)\n",
      "(1458, 16)\n"
     ]
    }
   ],
   "source": [
    "print(As.shape)\n",
    "print(Cd.shape)\n",
    "print(Ni.shape)"
   ]
  },
  {
   "attachments": {},
   "cell_type": "markdown",
   "id": "2b5fd2cd",
   "metadata": {},
   "source": [
    "#### Oversampling by SMOGN (SMOTE Regression)"
   ]
  },
  {
   "cell_type": "code",
   "execution_count": 11,
   "id": "b664ef07",
   "metadata": {},
   "outputs": [],
   "source": [
    "import smogn"
   ]
  },
  {
   "cell_type": "code",
   "execution_count": 12,
   "id": "0797c71f",
   "metadata": {},
   "outputs": [
    {
     "name": "stderr",
     "output_type": "stream",
     "text": [
      "dist_matrix: 100%|##########| 248/248 [00:23<00:00, 10.76it/s]\n",
      "synth_matrix: 100%|##########| 248/248 [00:01<00:00, 210.66it/s]\n",
      "r_index: 100%|##########| 223/223 [00:00<00:00, 633.38it/s]\n",
      "dist_matrix: 100%|##########| 259/259 [00:24<00:00, 10.43it/s]\n",
      "synth_matrix: 100%|##########| 259/259 [00:01<00:00, 216.15it/s]\n",
      "r_index: 100%|##########| 155/155 [00:00<00:00, 645.69it/s]\n",
      "dist_matrix: 100%|##########| 242/242 [00:21<00:00, 11.17it/s]\n",
      "synth_matrix: 100%|##########| 242/242 [00:01<00:00, 160.87it/s]\n"
     ]
    }
   ],
   "source": [
    "As_smogn = smogn.smoter(data = As, y = 'As', samp_method = 'extreme')\n",
    "Cd_smogn = smogn.smoter(data = Cd, y = 'Cd', samp_method = 'extreme')\n",
    "Ni_smogn = smogn.smoter(data = Ni, y = 'Ni', samp_method = 'extreme')"
   ]
  },
  {
   "cell_type": "code",
   "execution_count": 13,
   "id": "cba746a8",
   "metadata": {},
   "outputs": [
    {
     "name": "stdout",
     "output_type": "stream",
     "text": [
      "(2183, 16)\n",
      "(2151, 16)\n",
      "(2183, 16)\n"
     ]
    }
   ],
   "source": [
    "print(As_smogn.shape)\n",
    "print(Cd_smogn.shape)\n",
    "print(Ni_smogn.shape)"
   ]
  },
  {
   "attachments": {},
   "cell_type": "markdown",
   "id": "ed72a9b1",
   "metadata": {},
   "source": [
    "#### Eliminate outlier and train / test split"
   ]
  },
  {
   "cell_type": "code",
   "execution_count": 14,
   "id": "43604a42",
   "metadata": {},
   "outputs": [],
   "source": [
    "def eli_outlier(data, value):\n",
    "    q1 = data[value].quantile(0.25)\n",
    "    q3 = data[value].quantile(0.75)\n",
    "\n",
    "    iqr = q3 - q1\n",
    "\n",
    "    q1_condition = data[value] < q1-1.5*iqr\n",
    "    q3_condition = data[value] > q3+1.5*iqr\n",
    "\n",
    "    reset_q1_index = data[q1_condition].index\n",
    "    reset_q3_index = data[q3_condition].index\n",
    "\n",
    "    data.drop(reset_q1_index, inplace = True)\n",
    "    data.drop(reset_q3_index, inplace = True)\n",
    "\n",
    "    return data"
   ]
  },
  {
   "cell_type": "code",
   "execution_count": 15,
   "id": "9b7632f2",
   "metadata": {},
   "outputs": [],
   "source": [
    "As_ros = eli_outlier(As_smogn, \"As\")\n",
    "Cd_ros = eli_outlier(Cd_smogn, \"Cd\")\n",
    "Ni_ros = eli_outlier(Ni_smogn, \"Ni\")"
   ]
  },
  {
   "cell_type": "code",
   "execution_count": 16,
   "id": "f8609469",
   "metadata": {},
   "outputs": [],
   "source": [
    "As_X = As_ros.drop([\"As\"], axis=1)\n",
    "Cd_X = Cd_ros.drop([\"Cd\"], axis=1)\n",
    "Ni_X = Ni_ros.drop([\"Ni\"], axis=1)\n",
    "\n",
    "As_y = As_ros[\"As\"]\n",
    "Cd_y = Cd_ros[\"Cd\"]\n",
    "Ni_y = Ni_ros[\"Ni\"]"
   ]
  },
  {
   "cell_type": "code",
   "execution_count": 17,
   "id": "7237a19a",
   "metadata": {},
   "outputs": [],
   "source": [
    "As_y = np.log1p(As_ros[\"As\"])\n",
    "Cd_y = np.log1p(Cd_ros[\"Cd\"])\n",
    "Ni_y = np.log1p(Ni_ros[\"Ni\"])"
   ]
  },
  {
   "cell_type": "code",
   "execution_count": 18,
   "id": "ce87d06a",
   "metadata": {},
   "outputs": [
    {
     "name": "stdout",
     "output_type": "stream",
     "text": [
      "(1650, 15)\n",
      "(1852, 15)\n",
      "(2073, 15)\n"
     ]
    }
   ],
   "source": [
    "print(As_X.shape)\n",
    "print(Cd_X.shape)\n",
    "print(Ni_X.shape)"
   ]
  },
  {
   "attachments": {},
   "cell_type": "markdown",
   "id": "c92e5bb6",
   "metadata": {},
   "source": [
    "StandardScaler"
   ]
  },
  {
   "cell_type": "code",
   "execution_count": 19,
   "id": "fbb3f6f7",
   "metadata": {},
   "outputs": [],
   "source": [
    "from sklearn.preprocessing import StandardScaler\n",
    "\n",
    "scaler = StandardScaler()\n",
    "\n",
    "As_X_train, As_X_test, As_y_train, As_y_test = train_test_split(As_X, As_y, test_size=0.2, random_state=42)\n",
    "Cd_X_train, Cd_X_test, Cd_y_train, Cd_y_test = train_test_split(Cd_X, Cd_y, test_size=0.2, random_state=42)\n",
    "Ni_X_train, Ni_X_test, Ni_y_train, Ni_y_test = train_test_split(Ni_X, Ni_y, test_size=0.2, random_state=42)\n",
    "\n",
    "As_X_train = scaler.fit_transform(As_X_train)\n",
    "As_X_test = scaler.fit_transform(As_X_test)\n",
    "\n",
    "Cd_X_train = scaler.fit_transform(Cd_X_train)\n",
    "Cd_X_test = scaler.fit_transform(Cd_X_test)\n",
    "\n",
    "Ni_X_train = scaler.fit_transform(Ni_X_train)\n",
    "Ni_X_test = scaler.fit_transform(Ni_X_test)"
   ]
  },
  {
   "cell_type": "code",
   "execution_count": 20,
   "id": "416a7027",
   "metadata": {},
   "outputs": [
    {
     "data": {
      "text/plain": [
       "' from sklearn.preprocessing import StandardScaler\\n\\nscaler = StandardScaler()\\n\\nAs_X_scaled = scaler.fit_transform(As_X)\\nCd_X_scaled = scaler.fit_transform(Cd_X)\\nNi_X_scaled = scaler.fit_transform(Ni_X)\\n\\nAs_X_train, As_X_test, As_y_train, As_y_test = train_test_split(As_X_scaled, As_y, test_size=0.2, random_state=42)\\nCd_X_train, Cd_X_test, Cd_y_train, Cd_y_test = train_test_split(Cd_X_scaled, Cd_y, test_size=0.2, random_state=42)\\nNi_X_train, Ni_X_test, Ni_y_train, Ni_y_test = train_test_split(Ni_X_scaled, Ni_y, test_size=0.2, random_state=42) '"
      ]
     },
     "execution_count": 20,
     "metadata": {},
     "output_type": "execute_result"
    }
   ],
   "source": [
    "''' from sklearn.preprocessing import StandardScaler\n",
    "\n",
    "scaler = StandardScaler()\n",
    "\n",
    "As_X_scaled = scaler.fit_transform(As_X)\n",
    "Cd_X_scaled = scaler.fit_transform(Cd_X)\n",
    "Ni_X_scaled = scaler.fit_transform(Ni_X)\n",
    "\n",
    "As_X_train, As_X_test, As_y_train, As_y_test = train_test_split(As_X_scaled, As_y, test_size=0.2, random_state=42)\n",
    "Cd_X_train, Cd_X_test, Cd_y_train, Cd_y_test = train_test_split(Cd_X_scaled, Cd_y, test_size=0.2, random_state=42)\n",
    "Ni_X_train, Ni_X_test, Ni_y_train, Ni_y_test = train_test_split(Ni_X_scaled, Ni_y, test_size=0.2, random_state=42) '''"
   ]
  },
  {
   "attachments": {},
   "cell_type": "markdown",
   "id": "2fe0d293",
   "metadata": {},
   "source": [
    "MinMaxScaler"
   ]
  },
  {
   "cell_type": "code",
   "execution_count": 21,
   "id": "e8596f9f",
   "metadata": {},
   "outputs": [],
   "source": [
    "# from sklearn.preprocessing import MinMaxScaler\n",
    "\n",
    "# scaler = MinMaxScaler()\n",
    "# As_X_scaled = scaler.fit_transform(As_X)\n",
    "# Cd_X_scaled = scaler.fit_transform(Cd_X)\n",
    "# Ni_X_scaled = scaler.fit_transform(Ni_X)\n",
    "\n",
    "# As_X_train, As_X_test, As_y_train, As_y_test = train_test_split(As_X_scaled, As_y, test_size=0.2, random_state=42)\n",
    "# Cd_X_train, Cd_X_test, Cd_y_train, Cd_y_test = train_test_split(Cd_X_scaled, Cd_y, test_size=0.2, random_state=42)\n",
    "# Ni_X_train, Ni_X_test, Ni_y_train, Ni_y_test = train_test_split(Ni_X_scaled, Ni_y, test_size=0.2, random_state=42)"
   ]
  },
  {
   "cell_type": "code",
   "execution_count": 22,
   "id": "86ccf2fe",
   "metadata": {},
   "outputs": [
    {
     "name": "stdout",
     "output_type": "stream",
     "text": [
      "(1320, 15)\n",
      "(1481, 15)\n",
      "(1658, 15)\n"
     ]
    }
   ],
   "source": [
    "print(As_X_train.shape)\n",
    "print(Cd_X_train.shape)\n",
    "print(Ni_X_train.shape)"
   ]
  },
  {
   "attachments": {},
   "cell_type": "markdown",
   "id": "bd11b27e",
   "metadata": {},
   "source": [
    "#### 10-Fold Crossvalidation"
   ]
  },
  {
   "cell_type": "code",
   "execution_count": 23,
   "id": "7a765916",
   "metadata": {},
   "outputs": [],
   "source": [
    "kf = KFold(n_splits = 5, random_state = 42, shuffle = True)"
   ]
  },
  {
   "attachments": {},
   "cell_type": "markdown",
   "id": "859638d0",
   "metadata": {},
   "source": [
    "#### Optuna Optimization"
   ]
  },
  {
   "cell_type": "code",
   "execution_count": 24,
   "id": "92a47d83",
   "metadata": {},
   "outputs": [],
   "source": [
    "import optuna\n",
    "\n",
    "from optuna import Trial\n",
    "from optuna.samplers import TPESampler"
   ]
  },
  {
   "cell_type": "code",
   "execution_count": 25,
   "id": "a7669fea",
   "metadata": {},
   "outputs": [],
   "source": [
    "from sklearn.model_selection import cross_val_score\n",
    "\n",
    "def objectiveRF(trial: Trial, X_train, y_train) -> float:\n",
    "    rf_paramas = {\n",
    "        \"random_state\": 42,\n",
    "        #\"learning_rate\": 0.1,\n",
    "        \"n_estimators\": trial.suggest_int(\"n_estimators\", 10, 100),\n",
    "        \"max_depth\": trial.suggest_int(\"max_depth\", 1, 10),\n",
    "        \"min_samples_leaf\": trial.suggest_int(\"min_samples_leaf\", 1, 20),\n",
    "        \"min_samples_split\": trial.suggest_int(\"min_samples_split\", 2, 20),\n",
    "        #\"subsample\": trial.suggest_float(\"subsample\", 0.1, 0.5)\n",
    "    }\n",
    "    \n",
    "    rf = RandomForestRegressor(**rf_paramas)\n",
    "    r2 = cross_val_score(rf, X_train, y_train, scoring = \"r2\", cv = kf)\n",
    "    r2 = r2.mean()\n",
    "    \n",
    "    return r2"
   ]
  },
  {
   "attachments": {},
   "cell_type": "markdown",
   "id": "b0988f46",
   "metadata": {},
   "source": [
    "####  Optimization"
   ]
  },
  {
   "cell_type": "code",
   "execution_count": 26,
   "id": "94f5e00d",
   "metadata": {
    "scrolled": false
   },
   "outputs": [
    {
     "name": "stderr",
     "output_type": "stream",
     "text": [
      "\u001b[32m[I 2023-08-28 23:46:46,001]\u001b[0m A new study created in memory with name: rf_parameter_opt\u001b[0m\n",
      "\u001b[32m[I 2023-08-28 23:46:47,102]\u001b[0m Trial 0 finished with value: 0.41466783292242815 and parameters: {'n_estimators': 44, 'max_depth': 5, 'min_samples_leaf': 16, 'min_samples_split': 6}. Best is trial 0 with value: 0.41466783292242815.\u001b[0m\n",
      "\u001b[32m[I 2023-08-28 23:46:47,532]\u001b[0m Trial 1 finished with value: 0.44752239856511855 and parameters: {'n_estimators': 13, 'max_depth': 6, 'min_samples_leaf': 3, 'min_samples_split': 6}. Best is trial 1 with value: 0.44752239856511855.\u001b[0m\n",
      "\u001b[32m[I 2023-08-28 23:46:50,047]\u001b[0m Trial 2 finished with value: 0.4409370841647893 and parameters: {'n_estimators': 88, 'max_depth': 7, 'min_samples_leaf': 14, 'min_samples_split': 13}. Best is trial 1 with value: 0.44752239856511855.\u001b[0m\n",
      "\u001b[32m[I 2023-08-28 23:46:50,600]\u001b[0m Trial 3 finished with value: 0.44684778727846064 and parameters: {'n_estimators': 18, 'max_depth': 9, 'min_samples_leaf': 13, 'min_samples_split': 11}. Best is trial 1 with value: 0.44752239856511855.\u001b[0m\n",
      "\u001b[32m[I 2023-08-28 23:46:50,908]\u001b[0m Trial 4 finished with value: 0.3320720278086798 and parameters: {'n_estimators': 16, 'max_depth': 3, 'min_samples_leaf': 4, 'min_samples_split': 13}. Best is trial 1 with value: 0.44752239856511855.\u001b[0m\n",
      "\u001b[32m[I 2023-08-28 23:46:51,509]\u001b[0m Trial 5 finished with value: 0.43852639687310546 and parameters: {'n_estimators': 19, 'max_depth': 6, 'min_samples_leaf': 4, 'min_samples_split': 20}. Best is trial 1 with value: 0.44752239856511855.\u001b[0m\n",
      "\u001b[32m[I 2023-08-28 23:46:52,003]\u001b[0m Trial 6 finished with value: 0.33684577564937507 and parameters: {'n_estimators': 26, 'max_depth': 3, 'min_samples_leaf': 3, 'min_samples_split': 12}. Best is trial 1 with value: 0.44752239856511855.\u001b[0m\n",
      "\u001b[32m[I 2023-08-28 23:46:52,405]\u001b[0m Trial 7 finished with value: 0.3325231943045338 and parameters: {'n_estimators': 22, 'max_depth': 3, 'min_samples_leaf': 19, 'min_samples_split': 17}. Best is trial 1 with value: 0.44752239856511855.\u001b[0m\n",
      "\u001b[32m[I 2023-08-28 23:46:54,287]\u001b[0m Trial 8 finished with value: 0.44535127954549225 and parameters: {'n_estimators': 60, 'max_depth': 7, 'min_samples_leaf': 11, 'min_samples_split': 11}. Best is trial 1 with value: 0.44752239856511855.\u001b[0m\n",
      "\u001b[32m[I 2023-08-28 23:46:55,854]\u001b[0m Trial 9 finished with value: 0.4282543589646079 and parameters: {'n_estimators': 57, 'max_depth': 7, 'min_samples_leaf': 19, 'min_samples_split': 9}. Best is trial 1 with value: 0.44752239856511855.\u001b[0m\n",
      "\u001b[32m[I 2023-08-28 23:46:56,787]\u001b[0m Trial 10 finished with value: 0.12057803019079863 and parameters: {'n_estimators': 99, 'max_depth': 1, 'min_samples_leaf': 8, 'min_samples_split': 2}. Best is trial 1 with value: 0.44752239856511855.\u001b[0m\n",
      "\u001b[32m[I 2023-08-28 23:46:58,083]\u001b[0m Trial 11 finished with value: 0.4630253998106101 and parameters: {'n_estimators': 38, 'max_depth': 10, 'min_samples_leaf': 9, 'min_samples_split': 6}. Best is trial 11 with value: 0.4630253998106101.\u001b[0m\n",
      "\u001b[32m[I 2023-08-28 23:46:59,449]\u001b[0m Trial 12 finished with value: 0.4668630441620417 and parameters: {'n_estimators': 39, 'max_depth': 9, 'min_samples_leaf': 8, 'min_samples_split': 5}. Best is trial 12 with value: 0.4668630441620417.\u001b[0m\n",
      "\u001b[32m[I 2023-08-28 23:47:00,794]\u001b[0m Trial 13 finished with value: 0.4673069952218306 and parameters: {'n_estimators': 38, 'max_depth': 10, 'min_samples_leaf': 8, 'min_samples_split': 2}. Best is trial 13 with value: 0.4673069952218306.\u001b[0m\n",
      "\u001b[32m[I 2023-08-28 23:47:03,342]\u001b[0m Trial 14 finished with value: 0.4790854217201197 and parameters: {'n_estimators': 70, 'max_depth': 10, 'min_samples_leaf': 7, 'min_samples_split': 2}. Best is trial 14 with value: 0.4790854217201197.\u001b[0m\n",
      "\u001b[32m[I 2023-08-28 23:47:06,119]\u001b[0m Trial 15 finished with value: 0.48660059990750054 and parameters: {'n_estimators': 73, 'max_depth': 10, 'min_samples_leaf': 6, 'min_samples_split': 3}. Best is trial 15 with value: 0.48660059990750054.\u001b[0m\n",
      "\u001b[32m[I 2023-08-28 23:47:09,441]\u001b[0m Trial 16 finished with value: 0.47786730767262864 and parameters: {'n_estimators': 72, 'max_depth': 9, 'min_samples_leaf': 1, 'min_samples_split': 4}. Best is trial 15 with value: 0.48660059990750054.\u001b[0m\n",
      "\u001b[32m[I 2023-08-28 23:47:12,044]\u001b[0m Trial 17 finished with value: 0.47921932300727355 and parameters: {'n_estimators': 73, 'max_depth': 8, 'min_samples_leaf': 6, 'min_samples_split': 8}. Best is trial 15 with value: 0.48660059990750054.\u001b[0m\n",
      "\u001b[32m[I 2023-08-28 23:47:15,009]\u001b[0m Trial 18 finished with value: 0.48056627672453145 and parameters: {'n_estimators': 80, 'max_depth': 8, 'min_samples_leaf': 5, 'min_samples_split': 8}. Best is trial 15 with value: 0.48660059990750054.\u001b[0m\n",
      "\u001b[32m[I 2023-08-28 23:47:18,551]\u001b[0m Trial 19 finished with value: 0.4690892925460005 and parameters: {'n_estimators': 87, 'max_depth': 8, 'min_samples_leaf': 1, 'min_samples_split': 8}. Best is trial 15 with value: 0.48660059990750054.\u001b[0m\n",
      "\u001b[32m[I 2023-08-28 23:47:20,815]\u001b[0m Trial 20 finished with value: 0.43259001634774974 and parameters: {'n_estimators': 84, 'max_depth': 5, 'min_samples_leaf': 5, 'min_samples_split': 15}. Best is trial 15 with value: 0.48660059990750054.\u001b[0m\n",
      "\u001b[32m[I 2023-08-28 23:47:23,380]\u001b[0m Trial 21 finished with value: 0.47941122130825403 and parameters: {'n_estimators': 72, 'max_depth': 8, 'min_samples_leaf': 6, 'min_samples_split': 8}. Best is trial 15 with value: 0.48660059990750054.\u001b[0m\n",
      "\u001b[32m[I 2023-08-28 23:47:25,451]\u001b[0m Trial 22 finished with value: 0.4564032235010643 and parameters: {'n_estimators': 65, 'max_depth': 8, 'min_samples_leaf': 10, 'min_samples_split': 9}. Best is trial 15 with value: 0.48660059990750054.\u001b[0m\n",
      "\u001b[32m[I 2023-08-28 23:47:28,380]\u001b[0m Trial 23 finished with value: 0.48500387027483977 and parameters: {'n_estimators': 79, 'max_depth': 9, 'min_samples_leaf': 6, 'min_samples_split': 4}. Best is trial 15 with value: 0.48660059990750054.\u001b[0m\n",
      "\u001b[32m[I 2023-08-28 23:47:30,788]\u001b[0m Trial 24 finished with value: 0.4509291777723338 and parameters: {'n_estimators': 79, 'max_depth': 9, 'min_samples_leaf': 12, 'min_samples_split': 4}. Best is trial 15 with value: 0.48660059990750054.\u001b[0m\n",
      "\u001b[32m[I 2023-08-28 23:47:34,433]\u001b[0m Trial 25 finished with value: 0.4869057768067627 and parameters: {'n_estimators': 97, 'max_depth': 10, 'min_samples_leaf': 6, 'min_samples_split': 4}. Best is trial 25 with value: 0.4869057768067627.\u001b[0m\n",
      "\u001b[32m[I 2023-08-28 23:47:37,668]\u001b[0m Trial 26 finished with value: 0.4601413166401024 and parameters: {'n_estimators': 100, 'max_depth': 10, 'min_samples_leaf': 10, 'min_samples_split': 4}. Best is trial 25 with value: 0.4869057768067627.\u001b[0m\n",
      "\u001b[32m[I 2023-08-28 23:47:41,793]\u001b[0m Trial 27 finished with value: 0.5023667972638324 and parameters: {'n_estimators': 93, 'max_depth': 10, 'min_samples_leaf': 3, 'min_samples_split': 3}. Best is trial 27 with value: 0.5023667972638324.\u001b[0m\n",
      "\u001b[32m[I 2023-08-28 23:47:45,917]\u001b[0m Trial 28 finished with value: 0.5023667972638324 and parameters: {'n_estimators': 93, 'max_depth': 10, 'min_samples_leaf': 3, 'min_samples_split': 3}. Best is trial 27 with value: 0.5023667972638324.\u001b[0m\n",
      "\u001b[32m[I 2023-08-28 23:47:48,045]\u001b[0m Trial 29 finished with value: 0.3972016231100138 and parameters: {'n_estimators': 92, 'max_depth': 4, 'min_samples_leaf': 2, 'min_samples_split': 6}. Best is trial 27 with value: 0.5023667972638324.\u001b[0m\n",
      "\u001b[32m[I 2023-08-28 23:47:52,170]\u001b[0m Trial 30 finished with value: 0.5023667972638324 and parameters: {'n_estimators': 93, 'max_depth': 10, 'min_samples_leaf': 3, 'min_samples_split': 6}. Best is trial 27 with value: 0.5023667972638324.\u001b[0m\n",
      "\u001b[32m[I 2023-08-28 23:47:56,338]\u001b[0m Trial 31 finished with value: 0.5028584073701372 and parameters: {'n_estimators': 94, 'max_depth': 10, 'min_samples_leaf': 3, 'min_samples_split': 5}. Best is trial 31 with value: 0.5028584073701372.\u001b[0m\n",
      "\u001b[32m[I 2023-08-28 23:48:00,305]\u001b[0m Trial 32 finished with value: 0.4972257954887285 and parameters: {'n_estimators': 94, 'max_depth': 9, 'min_samples_leaf': 3, 'min_samples_split': 6}. Best is trial 31 with value: 0.5028584073701372.\u001b[0m\n",
      "\u001b[32m[I 2023-08-28 23:48:04,533]\u001b[0m Trial 33 finished with value: 0.4977416623412063 and parameters: {'n_estimators': 90, 'max_depth': 10, 'min_samples_leaf': 2, 'min_samples_split': 5}. Best is trial 31 with value: 0.5028584073701372.\u001b[0m\n",
      "\u001b[32m[I 2023-08-28 23:48:06,514]\u001b[0m Trial 34 finished with value: 0.4897440134891597 and parameters: {'n_estimators': 49, 'max_depth': 9, 'min_samples_leaf': 4, 'min_samples_split': 3}. Best is trial 31 with value: 0.5028584073701372.\u001b[0m\n",
      "\u001b[32m[I 2023-08-28 23:48:10,364]\u001b[0m Trial 35 finished with value: 0.4953884139816204 and parameters: {'n_estimators': 84, 'max_depth': 10, 'min_samples_leaf': 2, 'min_samples_split': 7}. Best is trial 31 with value: 0.5028584073701372.\u001b[0m\n",
      "\u001b[32m[I 2023-08-28 23:48:13,917]\u001b[0m Trial 36 finished with value: 0.4655165273650989 and parameters: {'n_estimators': 95, 'max_depth': 7, 'min_samples_leaf': 1, 'min_samples_split': 3}. Best is trial 31 with value: 0.5028584073701372.\u001b[0m\n",
      "\u001b[32m[I 2023-08-28 23:48:16,237]\u001b[0m Trial 37 finished with value: 0.42783059961731135 and parameters: {'n_estimators': 88, 'max_depth': 6, 'min_samples_leaf': 16, 'min_samples_split': 5}. Best is trial 31 with value: 0.5028584073701372.\u001b[0m\n",
      "\u001b[32m[I 2023-08-28 23:48:16,651]\u001b[0m Trial 38 finished with value: 0.4694286083420726 and parameters: {'n_estimators': 10, 'max_depth': 9, 'min_samples_leaf': 4, 'min_samples_split': 10}. Best is trial 31 with value: 0.5028584073701372.\u001b[0m\n",
      "\u001b[32m[I 2023-08-28 23:48:17,439]\u001b[0m Trial 39 finished with value: 0.11981166158433124 and parameters: {'n_estimators': 84, 'max_depth': 1, 'min_samples_leaf': 3, 'min_samples_split': 7}. Best is trial 31 with value: 0.5028584073701372.\u001b[0m\n",
      "\u001b[32m[I 2023-08-28 23:48:21,103]\u001b[0m Trial 40 finished with value: 0.49280346666242175 and parameters: {'n_estimators': 91, 'max_depth': 9, 'min_samples_leaf': 4, 'min_samples_split': 2}. Best is trial 31 with value: 0.5028584073701372.\u001b[0m\n",
      "\u001b[32m[I 2023-08-28 23:48:25,370]\u001b[0m Trial 41 finished with value: 0.4980272461285997 and parameters: {'n_estimators': 91, 'max_depth': 10, 'min_samples_leaf': 2, 'min_samples_split': 5}. Best is trial 31 with value: 0.5028584073701372.\u001b[0m\n",
      "\u001b[32m[I 2023-08-28 23:48:30,059]\u001b[0m Trial 42 finished with value: 0.5002325014947215 and parameters: {'n_estimators': 100, 'max_depth': 10, 'min_samples_leaf': 2, 'min_samples_split': 5}. Best is trial 31 with value: 0.5028584073701372.\u001b[0m\n",
      "\u001b[32m[I 2023-08-28 23:48:34,500]\u001b[0m Trial 43 finished with value: 0.5036986078287494 and parameters: {'n_estimators': 100, 'max_depth': 10, 'min_samples_leaf': 3, 'min_samples_split': 3}. Best is trial 43 with value: 0.5036986078287494.\u001b[0m\n",
      "\u001b[32m[I 2023-08-28 23:48:38,219]\u001b[0m Trial 44 finished with value: 0.4888289730865113 and parameters: {'n_estimators': 97, 'max_depth': 9, 'min_samples_leaf': 5, 'min_samples_split': 3}. Best is trial 43 with value: 0.5036986078287494.\u001b[0m\n",
      "\u001b[32m[I 2023-08-28 23:48:39,554]\u001b[0m Trial 45 finished with value: 0.2537021117691847 and parameters: {'n_estimators': 96, 'max_depth': 2, 'min_samples_leaf': 3, 'min_samples_split': 3}. Best is trial 43 with value: 0.5036986078287494.\u001b[0m\n",
      "\u001b[32m[I 2023-08-28 23:48:42,064]\u001b[0m Trial 46 finished with value: 0.4448802006395633 and parameters: {'n_estimators': 86, 'max_depth': 10, 'min_samples_leaf': 14, 'min_samples_split': 18}. Best is trial 43 with value: 0.5036986078287494.\u001b[0m\n",
      "\u001b[32m[I 2023-08-28 23:48:45,104]\u001b[0m Trial 47 finished with value: 0.48291753680554506 and parameters: {'n_estimators': 80, 'max_depth': 8, 'min_samples_leaf': 4, 'min_samples_split': 2}. Best is trial 43 with value: 0.5036986078287494.\u001b[0m\n",
      "\u001b[32m[I 2023-08-28 23:48:46,153]\u001b[0m Trial 48 finished with value: 0.47321856310388777 and parameters: {'n_estimators': 29, 'max_depth': 9, 'min_samples_leaf': 7, 'min_samples_split': 7}. Best is trial 43 with value: 0.5036986078287494.\u001b[0m\n",
      "\u001b[32m[I 2023-08-28 23:48:50,335]\u001b[0m Trial 49 finished with value: 0.4750413689607408 and parameters: {'n_estimators': 94, 'max_depth': 10, 'min_samples_leaf': 1, 'min_samples_split': 13}. Best is trial 43 with value: 0.5036986078287494.\u001b[0m\n",
      "\u001b[32m[I 2023-08-28 23:48:51,806]\u001b[0m Trial 50 finished with value: 0.3993756671534072 and parameters: {'n_estimators': 64, 'max_depth': 4, 'min_samples_leaf': 3, 'min_samples_split': 6}. Best is trial 43 with value: 0.5036986078287494.\u001b[0m\n",
      "\u001b[32m[I 2023-08-28 23:48:56,477]\u001b[0m Trial 51 finished with value: 0.5002325014947215 and parameters: {'n_estimators': 100, 'max_depth': 10, 'min_samples_leaf': 2, 'min_samples_split': 5}. Best is trial 43 with value: 0.5036986078287494.\u001b[0m\n",
      "\u001b[32m[I 2023-08-28 23:49:00,901]\u001b[0m Trial 52 finished with value: 0.5036986078287494 and parameters: {'n_estimators': 100, 'max_depth': 10, 'min_samples_leaf': 3, 'min_samples_split': 4}. Best is trial 43 with value: 0.5036986078287494.\u001b[0m\n",
      "\u001b[32m[I 2023-08-28 23:49:04,407]\u001b[0m Trial 53 finished with value: 0.4919832812923531 and parameters: {'n_estimators': 89, 'max_depth': 10, 'min_samples_leaf': 5, 'min_samples_split': 3}. Best is trial 43 with value: 0.5036986078287494.\u001b[0m\n",
      "\u001b[32m[I 2023-08-28 23:49:08,134]\u001b[0m Trial 54 finished with value: 0.49349242486636513 and parameters: {'n_estimators': 93, 'max_depth': 9, 'min_samples_leaf': 4, 'min_samples_split': 4}. Best is trial 43 with value: 0.5036986078287494.\u001b[0m\n",
      "\u001b[32m[I 2023-08-28 23:49:10,641]\u001b[0m Trial 55 finished with value: 0.4290413339229338 and parameters: {'n_estimators': 97, 'max_depth': 10, 'min_samples_leaf': 20, 'min_samples_split': 2}. Best is trial 43 with value: 0.5036986078287494.\u001b[0m\n",
      "\u001b[32m[I 2023-08-28 23:49:13,431]\u001b[0m Trial 56 finished with value: 0.4697318670666714 and parameters: {'n_estimators': 82, 'max_depth': 7, 'min_samples_leaf': 5, 'min_samples_split': 4}. Best is trial 43 with value: 0.5036986078287494.\u001b[0m\n",
      "\u001b[32m[I 2023-08-28 23:49:17,054]\u001b[0m Trial 57 finished with value: 0.49603783781775823 and parameters: {'n_estimators': 86, 'max_depth': 9, 'min_samples_leaf': 3, 'min_samples_split': 6}. Best is trial 43 with value: 0.5036986078287494.\u001b[0m\n",
      "\u001b[32m[I 2023-08-28 23:49:20,418]\u001b[0m Trial 58 finished with value: 0.4730036250660241 and parameters: {'n_estimators': 97, 'max_depth': 8, 'min_samples_leaf': 7, 'min_samples_split': 3}. Best is trial 43 with value: 0.5036986078287494.\u001b[0m\n",
      "\u001b[32m[I 2023-08-28 23:49:24,326]\u001b[0m Trial 59 finished with value: 0.4876113250317099 and parameters: {'n_estimators': 75, 'max_depth': 10, 'min_samples_leaf': 1, 'min_samples_split': 2}. Best is trial 43 with value: 0.5036986078287494.\u001b[0m\n",
      "\u001b[32m[I 2023-08-28 23:49:27,810]\u001b[0m Trial 60 finished with value: 0.48838786721626565 and parameters: {'n_estimators': 89, 'max_depth': 9, 'min_samples_leaf': 5, 'min_samples_split': 7}. Best is trial 43 with value: 0.5036986078287494.\u001b[0m\n",
      "\u001b[32m[I 2023-08-28 23:49:32,625]\u001b[0m Trial 61 finished with value: 0.5020182664771421 and parameters: {'n_estimators': 99, 'max_depth': 10, 'min_samples_leaf': 2, 'min_samples_split': 4}. Best is trial 43 with value: 0.5036986078287494.\u001b[0m\n",
      "\u001b[32m[I 2023-08-28 23:49:36,790]\u001b[0m Trial 62 finished with value: 0.5023667972638324 and parameters: {'n_estimators': 93, 'max_depth': 10, 'min_samples_leaf': 3, 'min_samples_split': 4}. Best is trial 43 with value: 0.5036986078287494.\u001b[0m\n",
      "\u001b[32m[I 2023-08-28 23:49:40,945]\u001b[0m Trial 63 finished with value: 0.5023667972638324 and parameters: {'n_estimators': 93, 'max_depth': 10, 'min_samples_leaf': 3, 'min_samples_split': 3}. Best is trial 43 with value: 0.5036986078287494.\u001b[0m\n",
      "\u001b[32m[I 2023-08-28 23:49:44,125]\u001b[0m Trial 64 finished with value: 0.49707481809950416 and parameters: {'n_estimators': 76, 'max_depth': 10, 'min_samples_leaf': 4, 'min_samples_split': 5}. Best is trial 43 with value: 0.5036986078287494.\u001b[0m\n",
      "\u001b[32m[I 2023-08-28 23:49:48,142]\u001b[0m Trial 65 finished with value: 0.4972257954887285 and parameters: {'n_estimators': 94, 'max_depth': 9, 'min_samples_leaf': 3, 'min_samples_split': 4}. Best is trial 43 with value: 0.5036986078287494.\u001b[0m\n",
      "\u001b[32m[I 2023-08-28 23:49:50,763]\u001b[0m Trial 66 finished with value: 0.4837073802716672 and parameters: {'n_estimators': 49, 'max_depth': 10, 'min_samples_leaf': 1, 'min_samples_split': 2}. Best is trial 43 with value: 0.5036986078287494.\u001b[0m\n",
      "\u001b[32m[I 2023-08-28 23:49:53,170]\u001b[0m Trial 67 finished with value: 0.4351997374047623 and parameters: {'n_estimators': 87, 'max_depth': 9, 'min_samples_leaf': 17, 'min_samples_split': 3}. Best is trial 43 with value: 0.5036986078287494.\u001b[0m\n",
      "\u001b[32m[I 2023-08-28 23:49:56,622]\u001b[0m Trial 68 finished with value: 0.48268682915156286 and parameters: {'n_estimators': 91, 'max_depth': 8, 'min_samples_leaf': 4, 'min_samples_split': 3}. Best is trial 43 with value: 0.5036986078287494.\u001b[0m\n",
      "\u001b[32m[I 2023-08-28 23:49:59,713]\u001b[0m Trial 69 finished with value: 0.4873558825677359 and parameters: {'n_estimators': 82, 'max_depth': 10, 'min_samples_leaf': 6, 'min_samples_split': 5}. Best is trial 43 with value: 0.5036986078287494.\u001b[0m\n",
      "\u001b[32m[I 2023-08-28 23:50:02,895]\u001b[0m Trial 70 finished with value: 0.46398594423293177 and parameters: {'n_estimators': 96, 'max_depth': 9, 'min_samples_leaf': 9, 'min_samples_split': 6}. Best is trial 43 with value: 0.5036986078287494.\u001b[0m\n",
      "\u001b[32m[I 2023-08-28 23:50:07,037]\u001b[0m Trial 71 finished with value: 0.5023667972638324 and parameters: {'n_estimators': 93, 'max_depth': 10, 'min_samples_leaf': 3, 'min_samples_split': 4}. Best is trial 43 with value: 0.5036986078287494.\u001b[0m\n",
      "\u001b[32m[I 2023-08-28 23:50:11,478]\u001b[0m Trial 72 finished with value: 0.5036986078287494 and parameters: {'n_estimators': 100, 'max_depth': 10, 'min_samples_leaf': 3, 'min_samples_split': 4}. Best is trial 43 with value: 0.5036986078287494.\u001b[0m\n",
      "\u001b[32m[I 2023-08-28 23:50:16,234]\u001b[0m Trial 73 finished with value: 0.5016858812768499 and parameters: {'n_estimators': 100, 'max_depth': 10, 'min_samples_leaf': 2, 'min_samples_split': 4}. Best is trial 43 with value: 0.5036986078287494.\u001b[0m\n",
      "\u001b[32m[I 2023-08-28 23:50:20,582]\u001b[0m Trial 74 finished with value: 0.503723412584136 and parameters: {'n_estimators': 98, 'max_depth': 10, 'min_samples_leaf': 3, 'min_samples_split': 5}. Best is trial 74 with value: 0.503723412584136.\u001b[0m\n",
      "\u001b[32m[I 2023-08-28 23:50:24,701]\u001b[0m Trial 75 finished with value: 0.4810700616621464 and parameters: {'n_estimators': 98, 'max_depth': 10, 'min_samples_leaf': 2, 'min_samples_split': 15}. Best is trial 74 with value: 0.503723412584136.\u001b[0m\n",
      "\u001b[32m[I 2023-08-28 23:50:28,281]\u001b[0m Trial 76 finished with value: 0.4932026487441218 and parameters: {'n_estimators': 89, 'max_depth': 9, 'min_samples_leaf': 4, 'min_samples_split': 5}. Best is trial 74 with value: 0.503723412584136.\u001b[0m\n",
      "\u001b[32m[I 2023-08-28 23:50:32,031]\u001b[0m Trial 77 finished with value: 0.4923075983258771 and parameters: {'n_estimators': 95, 'max_depth': 10, 'min_samples_leaf': 5, 'min_samples_split': 2}. Best is trial 74 with value: 0.503723412584136.\u001b[0m\n",
      "\u001b[32m[I 2023-08-28 23:50:36,452]\u001b[0m Trial 78 finished with value: 0.4827936395323075 and parameters: {'n_estimators': 98, 'max_depth': 9, 'min_samples_leaf': 1, 'min_samples_split': 6}. Best is trial 74 with value: 0.503723412584136.\u001b[0m\n",
      "\u001b[32m[I 2023-08-28 23:50:40,217]\u001b[0m Trial 79 finished with value: 0.4948434916433769 and parameters: {'n_estimators': 91, 'max_depth': 10, 'min_samples_leaf': 4, 'min_samples_split': 9}. Best is trial 74 with value: 0.503723412584136.\u001b[0m\n",
      "\u001b[32m[I 2023-08-28 23:50:44,911]\u001b[0m Trial 80 finished with value: 0.5002325014947215 and parameters: {'n_estimators': 100, 'max_depth': 10, 'min_samples_leaf': 2, 'min_samples_split': 5}. Best is trial 74 with value: 0.503723412584136.\u001b[0m\n",
      "\u001b[32m[I 2023-08-28 23:50:49,132]\u001b[0m Trial 81 finished with value: 0.5033733987944312 and parameters: {'n_estimators': 95, 'max_depth': 10, 'min_samples_leaf': 3, 'min_samples_split': 3}. Best is trial 74 with value: 0.503723412584136.\u001b[0m\n",
      "\u001b[32m[I 2023-08-28 23:50:53,398]\u001b[0m Trial 82 finished with value: 0.5034112752197498 and parameters: {'n_estimators': 96, 'max_depth': 10, 'min_samples_leaf': 3, 'min_samples_split': 4}. Best is trial 74 with value: 0.503723412584136.\u001b[0m\n",
      "\u001b[32m[I 2023-08-28 23:50:57,439]\u001b[0m Trial 83 finished with value: 0.49762949210861585 and parameters: {'n_estimators': 96, 'max_depth': 9, 'min_samples_leaf': 3, 'min_samples_split': 4}. Best is trial 74 with value: 0.503723412584136.\u001b[0m\n",
      "\u001b[32m[I 2023-08-28 23:51:00,997]\u001b[0m Trial 84 finished with value: 0.4980640945817013 and parameters: {'n_estimators': 85, 'max_depth': 10, 'min_samples_leaf': 4, 'min_samples_split': 3}. Best is trial 74 with value: 0.503723412584136.\u001b[0m\n",
      "\u001b[32m[I 2023-08-28 23:51:04,874]\u001b[0m Trial 85 finished with value: 0.49269317695857123 and parameters: {'n_estimators': 98, 'max_depth': 10, 'min_samples_leaf': 5, 'min_samples_split': 5}. Best is trial 74 with value: 0.503723412584136.\u001b[0m\n",
      "\u001b[32m[I 2023-08-28 23:51:07,467]\u001b[0m Trial 86 finished with value: 0.4274713241784484 and parameters: {'n_estimators': 95, 'max_depth': 5, 'min_samples_leaf': 2, 'min_samples_split': 20}. Best is trial 74 with value: 0.503723412584136.\u001b[0m\n",
      "\u001b[32m[I 2023-08-28 23:51:09,573]\u001b[0m Trial 87 finished with value: 0.3969091150012659 and parameters: {'n_estimators': 91, 'max_depth': 4, 'min_samples_leaf': 2, 'min_samples_split': 6}. Best is trial 74 with value: 0.503723412584136.\u001b[0m\n",
      "\u001b[32m[I 2023-08-28 23:51:12,746]\u001b[0m Trial 88 finished with value: 0.4579190845381139 and parameters: {'n_estimators': 100, 'max_depth': 6, 'min_samples_leaf': 3, 'min_samples_split': 4}. Best is trial 74 with value: 0.503723412584136.\u001b[0m\n",
      "\u001b[32m[I 2023-08-28 23:51:16,644]\u001b[0m Trial 89 finished with value: 0.5026285369979447 and parameters: {'n_estimators': 88, 'max_depth': 10, 'min_samples_leaf': 3, 'min_samples_split': 4}. Best is trial 74 with value: 0.503723412584136.\u001b[0m\n",
      "\u001b[32m[I 2023-08-28 23:51:20,473]\u001b[0m Trial 90 finished with value: 0.4736048900655194 and parameters: {'n_estimators': 89, 'max_depth': 9, 'min_samples_leaf': 1, 'min_samples_split': 11}. Best is trial 74 with value: 0.503723412584136.\u001b[0m\n",
      "\u001b[32m[I 2023-08-28 23:51:24,677]\u001b[0m Trial 91 finished with value: 0.5033733987944312 and parameters: {'n_estimators': 95, 'max_depth': 10, 'min_samples_leaf': 3, 'min_samples_split': 4}. Best is trial 74 with value: 0.503723412584136.\u001b[0m\n",
      "\u001b[32m[I 2023-08-28 23:51:28,715]\u001b[0m Trial 92 finished with value: 0.5000757683402164 and parameters: {'n_estimators': 97, 'max_depth': 10, 'min_samples_leaf': 4, 'min_samples_split': 2}. Best is trial 74 with value: 0.503723412584136.\u001b[0m\n",
      "\u001b[32m[I 2023-08-28 23:51:32,948]\u001b[0m Trial 93 finished with value: 0.5033733987944312 and parameters: {'n_estimators': 95, 'max_depth': 10, 'min_samples_leaf': 3, 'min_samples_split': 4}. Best is trial 74 with value: 0.503723412584136.\u001b[0m\n",
      "\u001b[32m[I 2023-08-28 23:51:36,909]\u001b[0m Trial 94 finished with value: 0.4997835016228983 and parameters: {'n_estimators': 95, 'max_depth': 10, 'min_samples_leaf': 4, 'min_samples_split': 4}. Best is trial 74 with value: 0.503723412584136.\u001b[0m\n",
      "\u001b[32m[I 2023-08-28 23:51:41,505]\u001b[0m Trial 95 finished with value: 0.5007672439054991 and parameters: {'n_estimators': 98, 'max_depth': 10, 'min_samples_leaf': 2, 'min_samples_split': 5}. Best is trial 74 with value: 0.503723412584136.\u001b[0m\n",
      "\u001b[32m[I 2023-08-28 23:51:43,577]\u001b[0m Trial 96 finished with value: 0.451327938139103 and parameters: {'n_estimators': 68, 'max_depth': 9, 'min_samples_leaf': 12, 'min_samples_split': 4}. Best is trial 74 with value: 0.503723412584136.\u001b[0m\n",
      "\u001b[32m[I 2023-08-28 23:51:45,837]\u001b[0m Trial 97 finished with value: 0.4870830158673691 and parameters: {'n_estimators': 57, 'max_depth': 10, 'min_samples_leaf': 5, 'min_samples_split': 3}. Best is trial 74 with value: 0.503723412584136.\u001b[0m\n",
      "\u001b[32m[I 2023-08-28 23:51:47,242]\u001b[0m Trial 98 finished with value: 0.4909341804749546 and parameters: {'n_estimators': 33, 'max_depth': 9, 'min_samples_leaf': 3, 'min_samples_split': 5}. Best is trial 74 with value: 0.503723412584136.\u001b[0m\n",
      "\u001b[32m[I 2023-08-28 23:51:50,518]\u001b[0m Trial 99 finished with value: 0.48773815168628365 and parameters: {'n_estimators': 87, 'max_depth': 10, 'min_samples_leaf': 6, 'min_samples_split': 3}. Best is trial 74 with value: 0.503723412584136.\u001b[0m\n"
     ]
    },
    {
     "name": "stdout",
     "output_type": "stream",
     "text": [
      "Best r2:  0.503723412584136\n",
      "Best trial: {'n_estimators': 98, 'max_depth': 10, 'min_samples_leaf': 3, 'min_samples_split': 5}\n"
     ]
    }
   ],
   "source": [
    "sampler = TPESampler()\n",
    "study = optuna.create_study(\n",
    "    study_name=\"rf_parameter_opt\",\n",
    "    direction=\"maximize\",\n",
    "    sampler=sampler,\n",
    ")\n",
    "\n",
    "study.optimize(lambda trial : objectiveRF(trial, As_X_train, As_y_train), n_trials=100)\n",
    "print(\"Best r2: \", study.best_value)\n",
    "print(\"Best trial:\", study.best_trial.params)"
   ]
  },
  {
   "cell_type": "code",
   "execution_count": 27,
   "id": "ded0e0f8",
   "metadata": {},
   "outputs": [
    {
     "data": {
      "application/vnd.plotly.v1+json": {
       "config": {
        "plotlyServerURL": "https://plot.ly"
       },
       "data": [
        {
         "dimensions": [
          {
           "label": "Objective Value",
           "range": [
            0.11981166158433124,
            0.503723412584136
           ],
           "values": [
            0.41466783292242815,
            0.44752239856511855,
            0.4409370841647893,
            0.44684778727846064,
            0.3320720278086798,
            0.43852639687310546,
            0.33684577564937507,
            0.3325231943045338,
            0.44535127954549225,
            0.4282543589646079,
            0.12057803019079863,
            0.4630253998106101,
            0.4668630441620417,
            0.4673069952218306,
            0.4790854217201197,
            0.48660059990750054,
            0.47786730767262864,
            0.47921932300727355,
            0.48056627672453145,
            0.4690892925460005,
            0.43259001634774974,
            0.47941122130825403,
            0.4564032235010643,
            0.48500387027483977,
            0.4509291777723338,
            0.4869057768067627,
            0.4601413166401024,
            0.5023667972638324,
            0.5023667972638324,
            0.3972016231100138,
            0.5023667972638324,
            0.5028584073701372,
            0.4972257954887285,
            0.4977416623412063,
            0.4897440134891597,
            0.4953884139816204,
            0.4655165273650989,
            0.42783059961731135,
            0.4694286083420726,
            0.11981166158433124,
            0.49280346666242175,
            0.4980272461285997,
            0.5002325014947215,
            0.5036986078287494,
            0.4888289730865113,
            0.2537021117691847,
            0.4448802006395633,
            0.48291753680554506,
            0.47321856310388777,
            0.4750413689607408,
            0.3993756671534072,
            0.5002325014947215,
            0.5036986078287494,
            0.4919832812923531,
            0.49349242486636513,
            0.4290413339229338,
            0.4697318670666714,
            0.49603783781775823,
            0.4730036250660241,
            0.4876113250317099,
            0.48838786721626565,
            0.5020182664771421,
            0.5023667972638324,
            0.5023667972638324,
            0.49707481809950416,
            0.4972257954887285,
            0.4837073802716672,
            0.4351997374047623,
            0.48268682915156286,
            0.4873558825677359,
            0.46398594423293177,
            0.5023667972638324,
            0.5036986078287494,
            0.5016858812768499,
            0.503723412584136,
            0.4810700616621464,
            0.4932026487441218,
            0.4923075983258771,
            0.4827936395323075,
            0.4948434916433769,
            0.5002325014947215,
            0.5033733987944312,
            0.5034112752197498,
            0.49762949210861585,
            0.4980640945817013,
            0.49269317695857123,
            0.4274713241784484,
            0.3969091150012659,
            0.4579190845381139,
            0.5026285369979447,
            0.4736048900655194,
            0.5033733987944312,
            0.5000757683402164,
            0.5033733987944312,
            0.4997835016228983,
            0.5007672439054991,
            0.451327938139103,
            0.4870830158673691,
            0.4909341804749546,
            0.48773815168628365
           ]
          },
          {
           "label": "max_depth",
           "range": [
            1,
            10
           ],
           "values": [
            5,
            6,
            7,
            9,
            3,
            6,
            3,
            3,
            7,
            7,
            1,
            10,
            9,
            10,
            10,
            10,
            9,
            8,
            8,
            8,
            5,
            8,
            8,
            9,
            9,
            10,
            10,
            10,
            10,
            4,
            10,
            10,
            9,
            10,
            9,
            10,
            7,
            6,
            9,
            1,
            9,
            10,
            10,
            10,
            9,
            2,
            10,
            8,
            9,
            10,
            4,
            10,
            10,
            10,
            9,
            10,
            7,
            9,
            8,
            10,
            9,
            10,
            10,
            10,
            10,
            9,
            10,
            9,
            8,
            10,
            9,
            10,
            10,
            10,
            10,
            10,
            9,
            10,
            9,
            10,
            10,
            10,
            10,
            9,
            10,
            10,
            5,
            4,
            6,
            10,
            9,
            10,
            10,
            10,
            10,
            10,
            9,
            10,
            9,
            10
           ]
          },
          {
           "label": "min_samples_leaf",
           "range": [
            1,
            20
           ],
           "values": [
            16,
            3,
            14,
            13,
            4,
            4,
            3,
            19,
            11,
            19,
            8,
            9,
            8,
            8,
            7,
            6,
            1,
            6,
            5,
            1,
            5,
            6,
            10,
            6,
            12,
            6,
            10,
            3,
            3,
            2,
            3,
            3,
            3,
            2,
            4,
            2,
            1,
            16,
            4,
            3,
            4,
            2,
            2,
            3,
            5,
            3,
            14,
            4,
            7,
            1,
            3,
            2,
            3,
            5,
            4,
            20,
            5,
            3,
            7,
            1,
            5,
            2,
            3,
            3,
            4,
            3,
            1,
            17,
            4,
            6,
            9,
            3,
            3,
            2,
            3,
            2,
            4,
            5,
            1,
            4,
            2,
            3,
            3,
            3,
            4,
            5,
            2,
            2,
            3,
            3,
            1,
            3,
            4,
            3,
            4,
            2,
            12,
            5,
            3,
            6
           ]
          },
          {
           "label": "min_samples_split",
           "range": [
            2,
            20
           ],
           "values": [
            6,
            6,
            13,
            11,
            13,
            20,
            12,
            17,
            11,
            9,
            2,
            6,
            5,
            2,
            2,
            3,
            4,
            8,
            8,
            8,
            15,
            8,
            9,
            4,
            4,
            4,
            4,
            3,
            3,
            6,
            6,
            5,
            6,
            5,
            3,
            7,
            3,
            5,
            10,
            7,
            2,
            5,
            5,
            3,
            3,
            3,
            18,
            2,
            7,
            13,
            6,
            5,
            4,
            3,
            4,
            2,
            4,
            6,
            3,
            2,
            7,
            4,
            4,
            3,
            5,
            4,
            2,
            3,
            3,
            5,
            6,
            4,
            4,
            4,
            5,
            15,
            5,
            2,
            6,
            9,
            5,
            3,
            4,
            4,
            3,
            5,
            20,
            6,
            4,
            4,
            11,
            4,
            2,
            4,
            4,
            5,
            4,
            3,
            5,
            3
           ]
          },
          {
           "label": "n_estimators",
           "range": [
            10,
            100
           ],
           "values": [
            44,
            13,
            88,
            18,
            16,
            19,
            26,
            22,
            60,
            57,
            99,
            38,
            39,
            38,
            70,
            73,
            72,
            73,
            80,
            87,
            84,
            72,
            65,
            79,
            79,
            97,
            100,
            93,
            93,
            92,
            93,
            94,
            94,
            90,
            49,
            84,
            95,
            88,
            10,
            84,
            91,
            91,
            100,
            100,
            97,
            96,
            86,
            80,
            29,
            94,
            64,
            100,
            100,
            89,
            93,
            97,
            82,
            86,
            97,
            75,
            89,
            99,
            93,
            93,
            76,
            94,
            49,
            87,
            91,
            82,
            96,
            93,
            100,
            100,
            98,
            98,
            89,
            95,
            98,
            91,
            100,
            95,
            96,
            96,
            85,
            98,
            95,
            91,
            100,
            88,
            89,
            95,
            97,
            95,
            95,
            98,
            68,
            57,
            33,
            87
           ]
          }
         ],
         "labelangle": 30,
         "labelside": "bottom",
         "line": {
          "color": [
           0.41466783292242815,
           0.44752239856511855,
           0.4409370841647893,
           0.44684778727846064,
           0.3320720278086798,
           0.43852639687310546,
           0.33684577564937507,
           0.3325231943045338,
           0.44535127954549225,
           0.4282543589646079,
           0.12057803019079863,
           0.4630253998106101,
           0.4668630441620417,
           0.4673069952218306,
           0.4790854217201197,
           0.48660059990750054,
           0.47786730767262864,
           0.47921932300727355,
           0.48056627672453145,
           0.4690892925460005,
           0.43259001634774974,
           0.47941122130825403,
           0.4564032235010643,
           0.48500387027483977,
           0.4509291777723338,
           0.4869057768067627,
           0.4601413166401024,
           0.5023667972638324,
           0.5023667972638324,
           0.3972016231100138,
           0.5023667972638324,
           0.5028584073701372,
           0.4972257954887285,
           0.4977416623412063,
           0.4897440134891597,
           0.4953884139816204,
           0.4655165273650989,
           0.42783059961731135,
           0.4694286083420726,
           0.11981166158433124,
           0.49280346666242175,
           0.4980272461285997,
           0.5002325014947215,
           0.5036986078287494,
           0.4888289730865113,
           0.2537021117691847,
           0.4448802006395633,
           0.48291753680554506,
           0.47321856310388777,
           0.4750413689607408,
           0.3993756671534072,
           0.5002325014947215,
           0.5036986078287494,
           0.4919832812923531,
           0.49349242486636513,
           0.4290413339229338,
           0.4697318670666714,
           0.49603783781775823,
           0.4730036250660241,
           0.4876113250317099,
           0.48838786721626565,
           0.5020182664771421,
           0.5023667972638324,
           0.5023667972638324,
           0.49707481809950416,
           0.4972257954887285,
           0.4837073802716672,
           0.4351997374047623,
           0.48268682915156286,
           0.4873558825677359,
           0.46398594423293177,
           0.5023667972638324,
           0.5036986078287494,
           0.5016858812768499,
           0.503723412584136,
           0.4810700616621464,
           0.4932026487441218,
           0.4923075983258771,
           0.4827936395323075,
           0.4948434916433769,
           0.5002325014947215,
           0.5033733987944312,
           0.5034112752197498,
           0.49762949210861585,
           0.4980640945817013,
           0.49269317695857123,
           0.4274713241784484,
           0.3969091150012659,
           0.4579190845381139,
           0.5026285369979447,
           0.4736048900655194,
           0.5033733987944312,
           0.5000757683402164,
           0.5033733987944312,
           0.4997835016228983,
           0.5007672439054991,
           0.451327938139103,
           0.4870830158673691,
           0.4909341804749546,
           0.48773815168628365
          ],
          "colorbar": {
           "title": {
            "text": "Objective Value"
           }
          },
          "colorscale": [
           [
            0,
            "rgb(247,251,255)"
           ],
           [
            0.125,
            "rgb(222,235,247)"
           ],
           [
            0.25,
            "rgb(198,219,239)"
           ],
           [
            0.375,
            "rgb(158,202,225)"
           ],
           [
            0.5,
            "rgb(107,174,214)"
           ],
           [
            0.625,
            "rgb(66,146,198)"
           ],
           [
            0.75,
            "rgb(33,113,181)"
           ],
           [
            0.875,
            "rgb(8,81,156)"
           ],
           [
            1,
            "rgb(8,48,107)"
           ]
          ],
          "reversescale": false,
          "showscale": true
         },
         "type": "parcoords"
        }
       ],
       "layout": {
        "template": {
         "data": {
          "bar": [
           {
            "error_x": {
             "color": "#2a3f5f"
            },
            "error_y": {
             "color": "#2a3f5f"
            },
            "marker": {
             "line": {
              "color": "#E5ECF6",
              "width": 0.5
             },
             "pattern": {
              "fillmode": "overlay",
              "size": 10,
              "solidity": 0.2
             }
            },
            "type": "bar"
           }
          ],
          "barpolar": [
           {
            "marker": {
             "line": {
              "color": "#E5ECF6",
              "width": 0.5
             },
             "pattern": {
              "fillmode": "overlay",
              "size": 10,
              "solidity": 0.2
             }
            },
            "type": "barpolar"
           }
          ],
          "carpet": [
           {
            "aaxis": {
             "endlinecolor": "#2a3f5f",
             "gridcolor": "white",
             "linecolor": "white",
             "minorgridcolor": "white",
             "startlinecolor": "#2a3f5f"
            },
            "baxis": {
             "endlinecolor": "#2a3f5f",
             "gridcolor": "white",
             "linecolor": "white",
             "minorgridcolor": "white",
             "startlinecolor": "#2a3f5f"
            },
            "type": "carpet"
           }
          ],
          "choropleth": [
           {
            "colorbar": {
             "outlinewidth": 0,
             "ticks": ""
            },
            "type": "choropleth"
           }
          ],
          "contour": [
           {
            "colorbar": {
             "outlinewidth": 0,
             "ticks": ""
            },
            "colorscale": [
             [
              0,
              "#0d0887"
             ],
             [
              0.1111111111111111,
              "#46039f"
             ],
             [
              0.2222222222222222,
              "#7201a8"
             ],
             [
              0.3333333333333333,
              "#9c179e"
             ],
             [
              0.4444444444444444,
              "#bd3786"
             ],
             [
              0.5555555555555556,
              "#d8576b"
             ],
             [
              0.6666666666666666,
              "#ed7953"
             ],
             [
              0.7777777777777778,
              "#fb9f3a"
             ],
             [
              0.8888888888888888,
              "#fdca26"
             ],
             [
              1,
              "#f0f921"
             ]
            ],
            "type": "contour"
           }
          ],
          "contourcarpet": [
           {
            "colorbar": {
             "outlinewidth": 0,
             "ticks": ""
            },
            "type": "contourcarpet"
           }
          ],
          "heatmap": [
           {
            "colorbar": {
             "outlinewidth": 0,
             "ticks": ""
            },
            "colorscale": [
             [
              0,
              "#0d0887"
             ],
             [
              0.1111111111111111,
              "#46039f"
             ],
             [
              0.2222222222222222,
              "#7201a8"
             ],
             [
              0.3333333333333333,
              "#9c179e"
             ],
             [
              0.4444444444444444,
              "#bd3786"
             ],
             [
              0.5555555555555556,
              "#d8576b"
             ],
             [
              0.6666666666666666,
              "#ed7953"
             ],
             [
              0.7777777777777778,
              "#fb9f3a"
             ],
             [
              0.8888888888888888,
              "#fdca26"
             ],
             [
              1,
              "#f0f921"
             ]
            ],
            "type": "heatmap"
           }
          ],
          "heatmapgl": [
           {
            "colorbar": {
             "outlinewidth": 0,
             "ticks": ""
            },
            "colorscale": [
             [
              0,
              "#0d0887"
             ],
             [
              0.1111111111111111,
              "#46039f"
             ],
             [
              0.2222222222222222,
              "#7201a8"
             ],
             [
              0.3333333333333333,
              "#9c179e"
             ],
             [
              0.4444444444444444,
              "#bd3786"
             ],
             [
              0.5555555555555556,
              "#d8576b"
             ],
             [
              0.6666666666666666,
              "#ed7953"
             ],
             [
              0.7777777777777778,
              "#fb9f3a"
             ],
             [
              0.8888888888888888,
              "#fdca26"
             ],
             [
              1,
              "#f0f921"
             ]
            ],
            "type": "heatmapgl"
           }
          ],
          "histogram": [
           {
            "marker": {
             "pattern": {
              "fillmode": "overlay",
              "size": 10,
              "solidity": 0.2
             }
            },
            "type": "histogram"
           }
          ],
          "histogram2d": [
           {
            "colorbar": {
             "outlinewidth": 0,
             "ticks": ""
            },
            "colorscale": [
             [
              0,
              "#0d0887"
             ],
             [
              0.1111111111111111,
              "#46039f"
             ],
             [
              0.2222222222222222,
              "#7201a8"
             ],
             [
              0.3333333333333333,
              "#9c179e"
             ],
             [
              0.4444444444444444,
              "#bd3786"
             ],
             [
              0.5555555555555556,
              "#d8576b"
             ],
             [
              0.6666666666666666,
              "#ed7953"
             ],
             [
              0.7777777777777778,
              "#fb9f3a"
             ],
             [
              0.8888888888888888,
              "#fdca26"
             ],
             [
              1,
              "#f0f921"
             ]
            ],
            "type": "histogram2d"
           }
          ],
          "histogram2dcontour": [
           {
            "colorbar": {
             "outlinewidth": 0,
             "ticks": ""
            },
            "colorscale": [
             [
              0,
              "#0d0887"
             ],
             [
              0.1111111111111111,
              "#46039f"
             ],
             [
              0.2222222222222222,
              "#7201a8"
             ],
             [
              0.3333333333333333,
              "#9c179e"
             ],
             [
              0.4444444444444444,
              "#bd3786"
             ],
             [
              0.5555555555555556,
              "#d8576b"
             ],
             [
              0.6666666666666666,
              "#ed7953"
             ],
             [
              0.7777777777777778,
              "#fb9f3a"
             ],
             [
              0.8888888888888888,
              "#fdca26"
             ],
             [
              1,
              "#f0f921"
             ]
            ],
            "type": "histogram2dcontour"
           }
          ],
          "mesh3d": [
           {
            "colorbar": {
             "outlinewidth": 0,
             "ticks": ""
            },
            "type": "mesh3d"
           }
          ],
          "parcoords": [
           {
            "line": {
             "colorbar": {
              "outlinewidth": 0,
              "ticks": ""
             }
            },
            "type": "parcoords"
           }
          ],
          "pie": [
           {
            "automargin": true,
            "type": "pie"
           }
          ],
          "scatter": [
           {
            "marker": {
             "colorbar": {
              "outlinewidth": 0,
              "ticks": ""
             }
            },
            "type": "scatter"
           }
          ],
          "scatter3d": [
           {
            "line": {
             "colorbar": {
              "outlinewidth": 0,
              "ticks": ""
             }
            },
            "marker": {
             "colorbar": {
              "outlinewidth": 0,
              "ticks": ""
             }
            },
            "type": "scatter3d"
           }
          ],
          "scattercarpet": [
           {
            "marker": {
             "colorbar": {
              "outlinewidth": 0,
              "ticks": ""
             }
            },
            "type": "scattercarpet"
           }
          ],
          "scattergeo": [
           {
            "marker": {
             "colorbar": {
              "outlinewidth": 0,
              "ticks": ""
             }
            },
            "type": "scattergeo"
           }
          ],
          "scattergl": [
           {
            "marker": {
             "colorbar": {
              "outlinewidth": 0,
              "ticks": ""
             }
            },
            "type": "scattergl"
           }
          ],
          "scattermapbox": [
           {
            "marker": {
             "colorbar": {
              "outlinewidth": 0,
              "ticks": ""
             }
            },
            "type": "scattermapbox"
           }
          ],
          "scatterpolar": [
           {
            "marker": {
             "colorbar": {
              "outlinewidth": 0,
              "ticks": ""
             }
            },
            "type": "scatterpolar"
           }
          ],
          "scatterpolargl": [
           {
            "marker": {
             "colorbar": {
              "outlinewidth": 0,
              "ticks": ""
             }
            },
            "type": "scatterpolargl"
           }
          ],
          "scatterternary": [
           {
            "marker": {
             "colorbar": {
              "outlinewidth": 0,
              "ticks": ""
             }
            },
            "type": "scatterternary"
           }
          ],
          "surface": [
           {
            "colorbar": {
             "outlinewidth": 0,
             "ticks": ""
            },
            "colorscale": [
             [
              0,
              "#0d0887"
             ],
             [
              0.1111111111111111,
              "#46039f"
             ],
             [
              0.2222222222222222,
              "#7201a8"
             ],
             [
              0.3333333333333333,
              "#9c179e"
             ],
             [
              0.4444444444444444,
              "#bd3786"
             ],
             [
              0.5555555555555556,
              "#d8576b"
             ],
             [
              0.6666666666666666,
              "#ed7953"
             ],
             [
              0.7777777777777778,
              "#fb9f3a"
             ],
             [
              0.8888888888888888,
              "#fdca26"
             ],
             [
              1,
              "#f0f921"
             ]
            ],
            "type": "surface"
           }
          ],
          "table": [
           {
            "cells": {
             "fill": {
              "color": "#EBF0F8"
             },
             "line": {
              "color": "white"
             }
            },
            "header": {
             "fill": {
              "color": "#C8D4E3"
             },
             "line": {
              "color": "white"
             }
            },
            "type": "table"
           }
          ]
         },
         "layout": {
          "annotationdefaults": {
           "arrowcolor": "#2a3f5f",
           "arrowhead": 0,
           "arrowwidth": 1
          },
          "autotypenumbers": "strict",
          "coloraxis": {
           "colorbar": {
            "outlinewidth": 0,
            "ticks": ""
           }
          },
          "colorscale": {
           "diverging": [
            [
             0,
             "#8e0152"
            ],
            [
             0.1,
             "#c51b7d"
            ],
            [
             0.2,
             "#de77ae"
            ],
            [
             0.3,
             "#f1b6da"
            ],
            [
             0.4,
             "#fde0ef"
            ],
            [
             0.5,
             "#f7f7f7"
            ],
            [
             0.6,
             "#e6f5d0"
            ],
            [
             0.7,
             "#b8e186"
            ],
            [
             0.8,
             "#7fbc41"
            ],
            [
             0.9,
             "#4d9221"
            ],
            [
             1,
             "#276419"
            ]
           ],
           "sequential": [
            [
             0,
             "#0d0887"
            ],
            [
             0.1111111111111111,
             "#46039f"
            ],
            [
             0.2222222222222222,
             "#7201a8"
            ],
            [
             0.3333333333333333,
             "#9c179e"
            ],
            [
             0.4444444444444444,
             "#bd3786"
            ],
            [
             0.5555555555555556,
             "#d8576b"
            ],
            [
             0.6666666666666666,
             "#ed7953"
            ],
            [
             0.7777777777777778,
             "#fb9f3a"
            ],
            [
             0.8888888888888888,
             "#fdca26"
            ],
            [
             1,
             "#f0f921"
            ]
           ],
           "sequentialminus": [
            [
             0,
             "#0d0887"
            ],
            [
             0.1111111111111111,
             "#46039f"
            ],
            [
             0.2222222222222222,
             "#7201a8"
            ],
            [
             0.3333333333333333,
             "#9c179e"
            ],
            [
             0.4444444444444444,
             "#bd3786"
            ],
            [
             0.5555555555555556,
             "#d8576b"
            ],
            [
             0.6666666666666666,
             "#ed7953"
            ],
            [
             0.7777777777777778,
             "#fb9f3a"
            ],
            [
             0.8888888888888888,
             "#fdca26"
            ],
            [
             1,
             "#f0f921"
            ]
           ]
          },
          "colorway": [
           "#636efa",
           "#EF553B",
           "#00cc96",
           "#ab63fa",
           "#FFA15A",
           "#19d3f3",
           "#FF6692",
           "#B6E880",
           "#FF97FF",
           "#FECB52"
          ],
          "font": {
           "color": "#2a3f5f"
          },
          "geo": {
           "bgcolor": "white",
           "lakecolor": "white",
           "landcolor": "#E5ECF6",
           "showlakes": true,
           "showland": true,
           "subunitcolor": "white"
          },
          "hoverlabel": {
           "align": "left"
          },
          "hovermode": "closest",
          "mapbox": {
           "style": "light"
          },
          "paper_bgcolor": "white",
          "plot_bgcolor": "#E5ECF6",
          "polar": {
           "angularaxis": {
            "gridcolor": "white",
            "linecolor": "white",
            "ticks": ""
           },
           "bgcolor": "#E5ECF6",
           "radialaxis": {
            "gridcolor": "white",
            "linecolor": "white",
            "ticks": ""
           }
          },
          "scene": {
           "xaxis": {
            "backgroundcolor": "#E5ECF6",
            "gridcolor": "white",
            "gridwidth": 2,
            "linecolor": "white",
            "showbackground": true,
            "ticks": "",
            "zerolinecolor": "white"
           },
           "yaxis": {
            "backgroundcolor": "#E5ECF6",
            "gridcolor": "white",
            "gridwidth": 2,
            "linecolor": "white",
            "showbackground": true,
            "ticks": "",
            "zerolinecolor": "white"
           },
           "zaxis": {
            "backgroundcolor": "#E5ECF6",
            "gridcolor": "white",
            "gridwidth": 2,
            "linecolor": "white",
            "showbackground": true,
            "ticks": "",
            "zerolinecolor": "white"
           }
          },
          "shapedefaults": {
           "line": {
            "color": "#2a3f5f"
           }
          },
          "ternary": {
           "aaxis": {
            "gridcolor": "white",
            "linecolor": "white",
            "ticks": ""
           },
           "baxis": {
            "gridcolor": "white",
            "linecolor": "white",
            "ticks": ""
           },
           "bgcolor": "#E5ECF6",
           "caxis": {
            "gridcolor": "white",
            "linecolor": "white",
            "ticks": ""
           }
          },
          "title": {
           "x": 0.05
          },
          "xaxis": {
           "automargin": true,
           "gridcolor": "white",
           "linecolor": "white",
           "ticks": "",
           "title": {
            "standoff": 15
           },
           "zerolinecolor": "white",
           "zerolinewidth": 2
          },
          "yaxis": {
           "automargin": true,
           "gridcolor": "white",
           "linecolor": "white",
           "ticks": "",
           "title": {
            "standoff": 15
           },
           "zerolinecolor": "white",
           "zerolinewidth": 2
          }
         }
        },
        "title": {
         "text": "Parallel Coordinate Plot"
        }
       }
      }
     },
     "metadata": {},
     "output_type": "display_data"
    }
   ],
   "source": [
    "optuna.visualization.plot_parallel_coordinate(study)"
   ]
  },
  {
   "cell_type": "code",
   "execution_count": 28,
   "id": "75db1ddf",
   "metadata": {},
   "outputs": [
    {
     "name": "stdout",
     "output_type": "stream",
     "text": [
      "Best trial: {'n_estimators': 98, 'max_depth': 10, 'min_samples_leaf': 3, 'min_samples_split': 5}\n"
     ]
    }
   ],
   "source": [
    "print(\"Best trial:\", study.best_trial.params)"
   ]
  },
  {
   "cell_type": "code",
   "execution_count": 29,
   "id": "574699dc",
   "metadata": {},
   "outputs": [
    {
     "data": {
      "text/plain": [
       "98"
      ]
     },
     "execution_count": 29,
     "metadata": {},
     "output_type": "execute_result"
    }
   ],
   "source": [
    "study.best_trial.params[\"n_estimators\"]"
   ]
  },
  {
   "cell_type": "code",
   "execution_count": 30,
   "id": "862eadd2",
   "metadata": {},
   "outputs": [
    {
     "data": {
      "text/html": [
       "<style>#sk-container-id-1 {color: black;}#sk-container-id-1 pre{padding: 0;}#sk-container-id-1 div.sk-toggleable {background-color: white;}#sk-container-id-1 label.sk-toggleable__label {cursor: pointer;display: block;width: 100%;margin-bottom: 0;padding: 0.3em;box-sizing: border-box;text-align: center;}#sk-container-id-1 label.sk-toggleable__label-arrow:before {content: \"▸\";float: left;margin-right: 0.25em;color: #696969;}#sk-container-id-1 label.sk-toggleable__label-arrow:hover:before {color: black;}#sk-container-id-1 div.sk-estimator:hover label.sk-toggleable__label-arrow:before {color: black;}#sk-container-id-1 div.sk-toggleable__content {max-height: 0;max-width: 0;overflow: hidden;text-align: left;background-color: #f0f8ff;}#sk-container-id-1 div.sk-toggleable__content pre {margin: 0.2em;color: black;border-radius: 0.25em;background-color: #f0f8ff;}#sk-container-id-1 input.sk-toggleable__control:checked~div.sk-toggleable__content {max-height: 200px;max-width: 100%;overflow: auto;}#sk-container-id-1 input.sk-toggleable__control:checked~label.sk-toggleable__label-arrow:before {content: \"▾\";}#sk-container-id-1 div.sk-estimator input.sk-toggleable__control:checked~label.sk-toggleable__label {background-color: #d4ebff;}#sk-container-id-1 div.sk-label input.sk-toggleable__control:checked~label.sk-toggleable__label {background-color: #d4ebff;}#sk-container-id-1 input.sk-hidden--visually {border: 0;clip: rect(1px 1px 1px 1px);clip: rect(1px, 1px, 1px, 1px);height: 1px;margin: -1px;overflow: hidden;padding: 0;position: absolute;width: 1px;}#sk-container-id-1 div.sk-estimator {font-family: monospace;background-color: #f0f8ff;border: 1px dotted black;border-radius: 0.25em;box-sizing: border-box;margin-bottom: 0.5em;}#sk-container-id-1 div.sk-estimator:hover {background-color: #d4ebff;}#sk-container-id-1 div.sk-parallel-item::after {content: \"\";width: 100%;border-bottom: 1px solid gray;flex-grow: 1;}#sk-container-id-1 div.sk-label:hover label.sk-toggleable__label {background-color: #d4ebff;}#sk-container-id-1 div.sk-serial::before {content: \"\";position: absolute;border-left: 1px solid gray;box-sizing: border-box;top: 0;bottom: 0;left: 50%;z-index: 0;}#sk-container-id-1 div.sk-serial {display: flex;flex-direction: column;align-items: center;background-color: white;padding-right: 0.2em;padding-left: 0.2em;position: relative;}#sk-container-id-1 div.sk-item {position: relative;z-index: 1;}#sk-container-id-1 div.sk-parallel {display: flex;align-items: stretch;justify-content: center;background-color: white;position: relative;}#sk-container-id-1 div.sk-item::before, #sk-container-id-1 div.sk-parallel-item::before {content: \"\";position: absolute;border-left: 1px solid gray;box-sizing: border-box;top: 0;bottom: 0;left: 50%;z-index: -1;}#sk-container-id-1 div.sk-parallel-item {display: flex;flex-direction: column;z-index: 1;position: relative;background-color: white;}#sk-container-id-1 div.sk-parallel-item:first-child::after {align-self: flex-end;width: 50%;}#sk-container-id-1 div.sk-parallel-item:last-child::after {align-self: flex-start;width: 50%;}#sk-container-id-1 div.sk-parallel-item:only-child::after {width: 0;}#sk-container-id-1 div.sk-dashed-wrapped {border: 1px dashed gray;margin: 0 0.4em 0.5em 0.4em;box-sizing: border-box;padding-bottom: 0.4em;background-color: white;}#sk-container-id-1 div.sk-label label {font-family: monospace;font-weight: bold;display: inline-block;line-height: 1.2em;}#sk-container-id-1 div.sk-label-container {text-align: center;}#sk-container-id-1 div.sk-container {/* jupyter's `normalize.less` sets `[hidden] { display: none; }` but bootstrap.min.css set `[hidden] { display: none !important; }` so we also need the `!important` here to be able to override the default hidden behavior on the sphinx rendered scikit-learn.org. See: https://github.com/scikit-learn/scikit-learn/issues/21755 */display: inline-block !important;position: relative;}#sk-container-id-1 div.sk-text-repr-fallback {display: none;}</style><div id=\"sk-container-id-1\" class=\"sk-top-container\"><div class=\"sk-text-repr-fallback\"><pre>RandomForestRegressor(max_depth=10, min_samples_leaf=3, min_samples_split=5,\n",
       "                      n_estimators=98, random_state=42)</pre><b>In a Jupyter environment, please rerun this cell to show the HTML representation or trust the notebook. <br />On GitHub, the HTML representation is unable to render, please try loading this page with nbviewer.org.</b></div><div class=\"sk-container\" hidden><div class=\"sk-item\"><div class=\"sk-estimator sk-toggleable\"><input class=\"sk-toggleable__control sk-hidden--visually\" id=\"sk-estimator-id-1\" type=\"checkbox\" checked><label for=\"sk-estimator-id-1\" class=\"sk-toggleable__label sk-toggleable__label-arrow\">RandomForestRegressor</label><div class=\"sk-toggleable__content\"><pre>RandomForestRegressor(max_depth=10, min_samples_leaf=3, min_samples_split=5,\n",
       "                      n_estimators=98, random_state=42)</pre></div></div></div></div></div>"
      ],
      "text/plain": [
       "RandomForestRegressor(max_depth=10, min_samples_leaf=3, min_samples_split=5,\n",
       "                      n_estimators=98, random_state=42)"
      ]
     },
     "execution_count": 30,
     "metadata": {},
     "output_type": "execute_result"
    }
   ],
   "source": [
    "rf_params = {\n",
    "    \"random_state\": 42,\n",
    "    #\"learning_rate\": 0.1,\n",
    "    \"n_estimators\": study.best_trial.params[\"n_estimators\"],\n",
    "    \"max_depth\": study.best_trial.params[\"max_depth\"],\n",
    "    \"min_samples_leaf\": study.best_trial.params[\"min_samples_leaf\"],\n",
    "    \"min_samples_split\": study.best_trial.params[\"min_samples_split\"],\n",
    "    #\"subsample\": study.best_trial.params[\"subsample\"]\n",
    "}\n",
    "\n",
    "rf = RandomForestRegressor(**rf_params)\n",
    "rf.fit(As_X_train, As_y_train)"
   ]
  },
  {
   "cell_type": "code",
   "execution_count": 31,
   "id": "8577fb37",
   "metadata": {},
   "outputs": [],
   "source": [
    "y_train_pred = rf.predict(As_X_train)\n",
    "y_test_pred = rf.predict(As_X_test)"
   ]
  },
  {
   "cell_type": "code",
   "execution_count": 32,
   "id": "2ea0526a",
   "metadata": {},
   "outputs": [],
   "source": [
    "# plt.scatter(y_train_pred, np.array(As_y_train))"
   ]
  },
  {
   "cell_type": "code",
   "execution_count": 33,
   "id": "d2a4dd85",
   "metadata": {},
   "outputs": [
    {
     "name": "stdout",
     "output_type": "stream",
     "text": [
      "Train RMSE:  1.681128623608046\n",
      "Test RMSE:  4.311739628826191\n"
     ]
    }
   ],
   "source": [
    "print(\"Train RMSE: \", np.sqrt(mean_squared_error(As_y_train, y_train_pred)))\n",
    "print(\"Test RMSE: \", np.sqrt(mean_squared_error(As_y_test, y_test_pred)))"
   ]
  },
  {
   "cell_type": "code",
   "execution_count": 34,
   "id": "08fe787a",
   "metadata": {},
   "outputs": [
    {
     "name": "stdout",
     "output_type": "stream",
     "text": [
      "Train R2:  0.8046055544343679\n",
      "Test R2:  0.06536419714778097\n"
     ]
    }
   ],
   "source": [
    "print(\"Train R2: \", r2_score(As_y_train, y_train_pred))\n",
    "print(\"Test R2: \", r2_score(As_y_test, y_test_pred))"
   ]
  },
  {
   "cell_type": "code",
   "execution_count": 35,
   "id": "5ec4820c",
   "metadata": {},
   "outputs": [
    {
     "data": {
      "image/png": "[encoded data removed]",
      "text/plain": [
       "<Figure size 640x480 with 1 Axes>"
      ]
     },
     "metadata": {},
     "output_type": "display_data"
    }
   ],
   "source": [
    "plt.scatter(y_train_pred, np.array(As_y_train), color=\"orange\", alpha=0.3)\n",
    "plt.scatter(y_test_pred, np.array(As_y_test), color=\"green\", alpha=0.4)\n",
    "plt.axis(\"auto\") # scaled, tight, auto, image, square\n",
    "# plt.xlim([0, 1.5]) \n",
    "# plt.ylim(0, None) \n",
    "plt.xlabel('Predicted Values')\n",
    "plt.ylabel('Actual Values')\n",
    "\n",
    "# Add y=x line\n",
    "plt.plot([0, 1.8], [0, 1.8], color='red', linestyle='-')\n",
    "\n",
    "plt.show()"
   ]
  },
  {
   "attachments": {},
   "cell_type": "markdown",
   "id": "e0507d63",
   "metadata": {},
   "source": [
    "Cd"
   ]
  },
  {
   "attachments": {},
   "cell_type": "markdown",
   "id": "f8f809d9",
   "metadata": {},
   "source": [
    "Optimization"
   ]
  },
  {
   "cell_type": "code",
   "execution_count": 36,
   "id": "b7aeaf0a",
   "metadata": {},
   "outputs": [
    {
     "name": "stderr",
     "output_type": "stream",
     "text": [
      "\u001b[32m[I 2023-08-28 23:51:52,185]\u001b[0m A new study created in memory with name: rf_parameter_opt\u001b[0m\n",
      "\u001b[32m[I 2023-08-28 23:51:55,472]\u001b[0m Trial 0 finished with value: 0.6069892857435176 and parameters: {'n_estimators': 66, 'max_depth': 10, 'min_samples_leaf': 1, 'min_samples_split': 12}. Best is trial 0 with value: 0.6069892857435176.\u001b[0m\n",
      "\u001b[32m[I 2023-08-28 23:52:00,309]\u001b[0m Trial 1 finished with value: 0.620597823674329 and parameters: {'n_estimators': 97, 'max_depth': 10, 'min_samples_leaf': 2, 'min_samples_split': 8}. Best is trial 1 with value: 0.620597823674329.\u001b[0m\n",
      "\u001b[32m[I 2023-08-28 23:52:01,389]\u001b[0m Trial 2 finished with value: 0.35385250817103586 and parameters: {'n_estimators': 74, 'max_depth': 2, 'min_samples_leaf': 16, 'min_samples_split': 4}. Best is trial 1 with value: 0.620597823674329.\u001b[0m\n",
      "\u001b[32m[I 2023-08-28 23:52:02,372]\u001b[0m Trial 3 finished with value: 0.3540251931444487 and parameters: {'n_estimators': 67, 'max_depth': 2, 'min_samples_leaf': 10, 'min_samples_split': 11}. Best is trial 1 with value: 0.620597823674329.\u001b[0m\n",
      "\u001b[32m[I 2023-08-28 23:52:03,527]\u001b[0m Trial 4 finished with value: 0.5043971966470496 and parameters: {'n_estimators': 44, 'max_depth': 5, 'min_samples_leaf': 19, 'min_samples_split': 6}. Best is trial 1 with value: 0.620597823674329.\u001b[0m\n",
      "\u001b[32m[I 2023-08-28 23:52:04,707]\u001b[0m Trial 5 finished with value: 0.5447333882809628 and parameters: {'n_estimators': 40, 'max_depth': 5, 'min_samples_leaf': 3, 'min_samples_split': 12}. Best is trial 1 with value: 0.620597823674329.\u001b[0m\n",
      "\u001b[32m[I 2023-08-28 23:52:06,547]\u001b[0m Trial 6 finished with value: 0.5879785314686067 and parameters: {'n_estimators': 46, 'max_depth': 10, 'min_samples_leaf': 8, 'min_samples_split': 7}. Best is trial 1 with value: 0.620597823674329.\u001b[0m\n",
      "\u001b[32m[I 2023-08-28 23:52:07,408]\u001b[0m Trial 7 finished with value: 0.49503557860840636 and parameters: {'n_estimators': 36, 'max_depth': 4, 'min_samples_leaf': 12, 'min_samples_split': 12}. Best is trial 1 with value: 0.620597823674329.\u001b[0m\n",
      "\u001b[32m[I 2023-08-28 23:52:08,153]\u001b[0m Trial 8 finished with value: 0.20853483718733842 and parameters: {'n_estimators': 77, 'max_depth': 1, 'min_samples_leaf': 20, 'min_samples_split': 19}. Best is trial 1 with value: 0.620597823674329.\u001b[0m\n",
      "\u001b[32m[I 2023-08-28 23:52:08,776]\u001b[0m Trial 9 finished with value: 0.35266534918266307 and parameters: {'n_estimators': 43, 'max_depth': 2, 'min_samples_leaf': 18, 'min_samples_split': 14}. Best is trial 1 with value: 0.620597823674329.\u001b[0m\n",
      "\u001b[32m[I 2023-08-28 23:52:12,771]\u001b[0m Trial 10 finished with value: 0.6030227700640153 and parameters: {'n_estimators': 99, 'max_depth': 8, 'min_samples_leaf': 5, 'min_samples_split': 2}. Best is trial 1 with value: 0.620597823674329.\u001b[0m\n",
      "\u001b[32m[I 2023-08-28 23:52:13,296]\u001b[0m Trial 11 finished with value: 0.5821746811729065 and parameters: {'n_estimators': 10, 'max_depth': 10, 'min_samples_leaf': 1, 'min_samples_split': 9}. Best is trial 1 with value: 0.620597823674329.\u001b[0m\n",
      "\u001b[32m[I 2023-08-28 23:52:17,173]\u001b[0m Trial 12 finished with value: 0.5943983617526313 and parameters: {'n_estimators': 99, 'max_depth': 8, 'min_samples_leaf': 5, 'min_samples_split': 16}. Best is trial 1 with value: 0.620597823674329.\u001b[0m\n",
      "\u001b[32m[I 2023-08-28 23:52:20,967]\u001b[0m Trial 13 finished with value: 0.6012610827641587 and parameters: {'n_estimators': 87, 'max_depth': 8, 'min_samples_leaf': 1, 'min_samples_split': 9}. Best is trial 1 with value: 0.620597823674329.\u001b[0m\n",
      "\u001b[32m[I 2023-08-28 23:52:23,409]\u001b[0m Trial 14 finished with value: 0.5957295134900449 and parameters: {'n_estimators': 60, 'max_depth': 9, 'min_samples_leaf': 6, 'min_samples_split': 16}. Best is trial 1 with value: 0.620597823674329.\u001b[0m\n",
      "\u001b[32m[I 2023-08-28 23:52:26,107]\u001b[0m Trial 15 finished with value: 0.548847250987177 and parameters: {'n_estimators': 84, 'max_depth': 7, 'min_samples_leaf': 14, 'min_samples_split': 8}. Best is trial 1 with value: 0.620597823674329.\u001b[0m\n",
      "\u001b[32m[I 2023-08-28 23:52:26,907]\u001b[0m Trial 16 finished with value: 0.6019493246663606 and parameters: {'n_estimators': 16, 'max_depth': 10, 'min_samples_leaf': 3, 'min_samples_split': 5}. Best is trial 1 with value: 0.620597823674329.\u001b[0m\n",
      "\u001b[32m[I 2023-08-28 23:52:28,872]\u001b[0m Trial 17 finished with value: 0.5655543988048729 and parameters: {'n_estimators': 56, 'max_depth': 7, 'min_samples_leaf': 8, 'min_samples_split': 20}. Best is trial 1 with value: 0.620597823674329.\u001b[0m\n",
      "\u001b[32m[I 2023-08-28 23:52:32,776]\u001b[0m Trial 18 finished with value: 0.6110257094563647 and parameters: {'n_estimators': 88, 'max_depth': 9, 'min_samples_leaf': 3, 'min_samples_split': 11}. Best is trial 1 with value: 0.620597823674329.\u001b[0m\n",
      "\u001b[32m[I 2023-08-28 23:52:35,705]\u001b[0m Trial 19 finished with value: 0.5612997800005409 and parameters: {'n_estimators': 91, 'max_depth': 6, 'min_samples_leaf': 8, 'min_samples_split': 14}. Best is trial 1 with value: 0.620597823674329.\u001b[0m\n",
      "\u001b[32m[I 2023-08-28 23:52:39,304]\u001b[0m Trial 20 finished with value: 0.6136093049539142 and parameters: {'n_estimators': 78, 'max_depth': 9, 'min_samples_leaf': 3, 'min_samples_split': 3}. Best is trial 1 with value: 0.620597823674329.\u001b[0m\n",
      "\u001b[32m[I 2023-08-28 23:52:43,037]\u001b[0m Trial 21 finished with value: 0.6141033162839628 and parameters: {'n_estimators': 81, 'max_depth': 9, 'min_samples_leaf': 3, 'min_samples_split': 3}. Best is trial 1 with value: 0.620597823674329.\u001b[0m\n",
      "\u001b[32m[I 2023-08-28 23:52:46,549]\u001b[0m Trial 22 finished with value: 0.6144130551430306 and parameters: {'n_estimators': 79, 'max_depth': 9, 'min_samples_leaf': 4, 'min_samples_split': 3}. Best is trial 1 with value: 0.620597823674329.\u001b[0m\n",
      "\u001b[32m[I 2023-08-28 23:52:49,938]\u001b[0m Trial 23 finished with value: 0.5844945848212059 and parameters: {'n_estimators': 93, 'max_depth': 7, 'min_samples_leaf': 6, 'min_samples_split': 2}. Best is trial 1 with value: 0.620597823674329.\u001b[0m\n",
      "\u001b[32m[I 2023-08-28 23:52:53,618]\u001b[0m Trial 24 finished with value: 0.61513305468283 and parameters: {'n_estimators': 83, 'max_depth': 9, 'min_samples_leaf': 4, 'min_samples_split': 5}. Best is trial 1 with value: 0.620597823674329.\u001b[0m\n",
      "\u001b[32m[I 2023-08-28 23:52:56,113]\u001b[0m Trial 25 finished with value: 0.5739491194042623 and parameters: {'n_estimators': 69, 'max_depth': 8, 'min_samples_leaf': 10, 'min_samples_split': 5}. Best is trial 1 with value: 0.620597823674329.\u001b[0m\n",
      "\u001b[32m[I 2023-08-28 23:52:59,880]\u001b[0m Trial 26 finished with value: 0.5992198992929628 and parameters: {'n_estimators': 94, 'max_depth': 9, 'min_samples_leaf': 7, 'min_samples_split': 7}. Best is trial 1 with value: 0.620597823674329.\u001b[0m\n",
      "\u001b[32m[I 2023-08-28 23:53:03,209]\u001b[0m Trial 27 finished with value: 0.5735077352129826 and parameters: {'n_estimators': 100, 'max_depth': 6, 'min_samples_leaf': 5, 'min_samples_split': 5}. Best is trial 1 with value: 0.620597823674329.\u001b[0m\n",
      "\u001b[32m[I 2023-08-28 23:53:05,842]\u001b[0m Trial 28 finished with value: 0.5695056956964146 and parameters: {'n_estimators': 74, 'max_depth': 10, 'min_samples_leaf': 12, 'min_samples_split': 9}. Best is trial 1 with value: 0.620597823674329.\u001b[0m\n",
      "\u001b[32m[I 2023-08-28 23:53:09,056]\u001b[0m Trial 29 finished with value: 0.613534366134644 and parameters: {'n_estimators': 62, 'max_depth': 10, 'min_samples_leaf': 1, 'min_samples_split': 7}. Best is trial 1 with value: 0.620597823674329.\u001b[0m\n",
      "\u001b[32m[I 2023-08-28 23:53:11,092]\u001b[0m Trial 30 finished with value: 0.517649313964516 and parameters: {'n_estimators': 83, 'max_depth': 4, 'min_samples_leaf': 4, 'min_samples_split': 4}. Best is trial 1 with value: 0.620597823674329.\u001b[0m\n",
      "\u001b[32m[I 2023-08-28 23:53:15,100]\u001b[0m Trial 31 finished with value: 0.6143328133549162 and parameters: {'n_estimators': 82, 'max_depth': 9, 'min_samples_leaf': 2, 'min_samples_split': 3}. Best is trial 1 with value: 0.620597823674329.\u001b[0m\n",
      "\u001b[32m[I 2023-08-28 23:53:18,631]\u001b[0m Trial 32 finished with value: 0.6127545235423363 and parameters: {'n_estimators': 73, 'max_depth': 9, 'min_samples_leaf': 2, 'min_samples_split': 4}. Best is trial 1 with value: 0.620597823674329.\u001b[0m\n",
      "\u001b[32m[I 2023-08-28 23:53:22,738]\u001b[0m Trial 33 finished with value: 0.6057512162635307 and parameters: {'n_estimators': 93, 'max_depth': 8, 'min_samples_leaf': 2, 'min_samples_split': 3}. Best is trial 1 with value: 0.620597823674329.\u001b[0m\n",
      "\u001b[32m[I 2023-08-28 23:53:25,997]\u001b[0m Trial 34 finished with value: 0.6194129418520178 and parameters: {'n_estimators': 70, 'max_depth': 10, 'min_samples_leaf': 4, 'min_samples_split': 5}. Best is trial 1 with value: 0.620597823674329.\u001b[0m\n",
      "\u001b[32m[I 2023-08-28 23:53:29,157]\u001b[0m Trial 35 finished with value: 0.6190038494408123 and parameters: {'n_estimators': 68, 'max_depth': 10, 'min_samples_leaf': 4, 'min_samples_split': 6}. Best is trial 1 with value: 0.620597823674329.\u001b[0m\n",
      "\u001b[32m[I 2023-08-28 23:53:31,958]\u001b[0m Trial 36 finished with value: 0.600101570229266 and parameters: {'n_estimators': 68, 'max_depth': 10, 'min_samples_leaf': 7, 'min_samples_split': 6}. Best is trial 1 with value: 0.620597823674329.\u001b[0m\n",
      "\u001b[32m[I 2023-08-28 23:53:33,941]\u001b[0m Trial 37 finished with value: 0.5842660201998928 and parameters: {'n_estimators': 51, 'max_depth': 10, 'min_samples_leaf': 9, 'min_samples_split': 10}. Best is trial 1 with value: 0.620597823674329.\u001b[0m\n",
      "\u001b[32m[I 2023-08-28 23:53:36,870]\u001b[0m Trial 38 finished with value: 0.6175245218559924 and parameters: {'n_estimators': 63, 'max_depth': 10, 'min_samples_leaf': 4, 'min_samples_split': 6}. Best is trial 1 with value: 0.620597823674329.\u001b[0m\n",
      "\u001b[32m[I 2023-08-28 23:53:38,034]\u001b[0m Trial 39 finished with value: 0.6043137143989374 and parameters: {'n_estimators': 27, 'max_depth': 10, 'min_samples_leaf': 6, 'min_samples_split': 6}. Best is trial 1 with value: 0.620597823674329.\u001b[0m\n",
      "\u001b[32m[I 2023-08-28 23:53:39,479]\u001b[0m Trial 40 finished with value: 0.4830169189413283 and parameters: {'n_estimators': 62, 'max_depth': 4, 'min_samples_leaf': 17, 'min_samples_split': 8}. Best is trial 1 with value: 0.620597823674329.\u001b[0m\n",
      "\u001b[32m[I 2023-08-28 23:53:42,840]\u001b[0m Trial 41 finished with value: 0.6192567671184731 and parameters: {'n_estimators': 72, 'max_depth': 10, 'min_samples_leaf': 4, 'min_samples_split': 6}. Best is trial 1 with value: 0.620597823674329.\u001b[0m\n",
      "\u001b[32m[I 2023-08-28 23:53:45,157]\u001b[0m Trial 42 finished with value: 0.6105261399615678 and parameters: {'n_estimators': 52, 'max_depth': 10, 'min_samples_leaf': 5, 'min_samples_split': 8}. Best is trial 1 with value: 0.620597823674329.\u001b[0m\n",
      "\u001b[32m[I 2023-08-28 23:53:48,496]\u001b[0m Trial 43 finished with value: 0.6192567671184731 and parameters: {'n_estimators': 72, 'max_depth': 10, 'min_samples_leaf': 4, 'min_samples_split': 7}. Best is trial 1 with value: 0.620597823674329.\u001b[0m\n",
      "\u001b[32m[I 2023-08-28 23:53:52,161]\u001b[0m Trial 44 finished with value: 0.61763577336461 and parameters: {'n_estimators': 72, 'max_depth': 10, 'min_samples_leaf': 2, 'min_samples_split': 7}. Best is trial 1 with value: 0.620597823674329.\u001b[0m\n",
      "\u001b[32m[I 2023-08-28 23:53:55,147]\u001b[0m Trial 45 finished with value: 0.5900386354576583 and parameters: {'n_estimators': 66, 'max_depth': 8, 'min_samples_leaf': 7, 'min_samples_split': 10}. Best is trial 1 with value: 0.620597823674329.\u001b[0m\n",
      "\u001b[32m[I 2023-08-28 23:53:56,364]\u001b[0m Trial 46 finished with value: 0.45916144999342456 and parameters: {'n_estimators': 58, 'max_depth': 3, 'min_samples_leaf': 5, 'min_samples_split': 6}. Best is trial 1 with value: 0.620597823674329.\u001b[0m\n",
      "\u001b[32m[I 2023-08-28 23:53:57,117]\u001b[0m Trial 47 finished with value: 0.2083801130972862 and parameters: {'n_estimators': 75, 'max_depth': 1, 'min_samples_leaf': 1, 'min_samples_split': 8}. Best is trial 1 with value: 0.620597823674329.\u001b[0m\n",
      "\u001b[32m[I 2023-08-28 23:53:59,276]\u001b[0m Trial 48 finished with value: 0.605759856707599 and parameters: {'n_estimators': 49, 'max_depth': 10, 'min_samples_leaf': 6, 'min_samples_split': 7}. Best is trial 1 with value: 0.620597823674329.\u001b[0m\n",
      "\u001b[32m[I 2023-08-28 23:54:00,613]\u001b[0m Trial 49 finished with value: 0.5466279764103249 and parameters: {'n_estimators': 38, 'max_depth': 9, 'min_samples_leaf': 15, 'min_samples_split': 10}. Best is trial 1 with value: 0.620597823674329.\u001b[0m\n",
      "\u001b[32m[I 2023-08-28 23:54:02,984]\u001b[0m Trial 50 finished with value: 0.5646446377644557 and parameters: {'n_estimators': 67, 'max_depth': 8, 'min_samples_leaf': 12, 'min_samples_split': 13}. Best is trial 1 with value: 0.620597823674329.\u001b[0m\n",
      "\u001b[32m[I 2023-08-28 23:54:06,656]\u001b[0m Trial 51 finished with value: 0.61763577336461 and parameters: {'n_estimators': 72, 'max_depth': 10, 'min_samples_leaf': 2, 'min_samples_split': 7}. Best is trial 1 with value: 0.620597823674329.\u001b[0m\n",
      "\u001b[32m[I 2023-08-28 23:54:08,801]\u001b[0m Trial 52 finished with value: 0.6156653824156452 and parameters: {'n_estimators': 72, 'max_depth': 10, 'min_samples_leaf': 2, 'min_samples_split': 9}. Best is trial 1 with value: 0.620597823674329.\u001b[0m\n",
      "\u001b[32m[I 2023-08-28 23:54:12,262]\u001b[0m Trial 53 finished with value: 0.6193288332157014 and parameters: {'n_estimators': 70, 'max_depth': 10, 'min_samples_leaf': 3, 'min_samples_split': 6}. Best is trial 1 with value: 0.620597823674329.\u001b[0m\n",
      "\u001b[32m[I 2023-08-28 23:54:16,129]\u001b[0m Trial 54 finished with value: 0.6155450677275482 and parameters: {'n_estimators': 87, 'max_depth': 9, 'min_samples_leaf': 4, 'min_samples_split': 4}. Best is trial 1 with value: 0.620597823674329.\u001b[0m\n",
      "\u001b[32m[I 2023-08-28 23:54:19,750]\u001b[0m Trial 55 finished with value: 0.6136093049539142 and parameters: {'n_estimators': 78, 'max_depth': 9, 'min_samples_leaf': 3, 'min_samples_split': 5}. Best is trial 1 with value: 0.620597823674329.\u001b[0m\n",
      "\u001b[32m[I 2023-08-28 23:54:22,872]\u001b[0m Trial 56 finished with value: 0.6163596583756088 and parameters: {'n_estimators': 65, 'max_depth': 10, 'min_samples_leaf': 3, 'min_samples_split': 8}. Best is trial 1 with value: 0.620597823674329.\u001b[0m\n",
      "\u001b[32m[I 2023-08-28 23:54:25,374]\u001b[0m Trial 57 finished with value: 0.6066293526157629 and parameters: {'n_estimators': 58, 'max_depth': 9, 'min_samples_leaf': 5, 'min_samples_split': 6}. Best is trial 1 with value: 0.620597823674329.\u001b[0m\n",
      "\u001b[32m[I 2023-08-28 23:54:27,892]\u001b[0m Trial 58 finished with value: 0.6153489492431815 and parameters: {'n_estimators': 54, 'max_depth': 10, 'min_samples_leaf': 4, 'min_samples_split': 5}. Best is trial 1 with value: 0.620597823674329.\u001b[0m\n",
      "\u001b[32m[I 2023-08-28 23:54:29,999]\u001b[0m Trial 59 finished with value: 0.5469348324549846 and parameters: {'n_estimators': 70, 'max_depth': 5, 'min_samples_leaf': 1, 'min_samples_split': 2}. Best is trial 1 with value: 0.620597823674329.\u001b[0m\n",
      "\u001b[32m[I 2023-08-28 23:54:32,786]\u001b[0m Trial 60 finished with value: 0.5824932655760121 and parameters: {'n_estimators': 76, 'max_depth': 7, 'min_samples_leaf': 6, 'min_samples_split': 4}. Best is trial 1 with value: 0.620597823674329.\u001b[0m\n",
      "\u001b[32m[I 2023-08-28 23:54:36,182]\u001b[0m Trial 61 finished with value: 0.6182230462022712 and parameters: {'n_estimators': 70, 'max_depth': 10, 'min_samples_leaf': 3, 'min_samples_split': 7}. Best is trial 1 with value: 0.620597823674329.\u001b[0m\n",
      "\u001b[32m[I 2023-08-28 23:54:39,565]\u001b[0m Trial 62 finished with value: 0.6191112334189222 and parameters: {'n_estimators': 69, 'max_depth': 10, 'min_samples_leaf': 3, 'min_samples_split': 6}. Best is trial 1 with value: 0.620597823674329.\u001b[0m\n",
      "\u001b[32m[I 2023-08-28 23:54:42,598]\u001b[0m Trial 63 finished with value: 0.6178771520820394 and parameters: {'n_estimators': 65, 'max_depth': 10, 'min_samples_leaf': 4, 'min_samples_split': 6}. Best is trial 1 with value: 0.620597823674329.\u001b[0m\n",
      "\u001b[32m[I 2023-08-28 23:54:46,019]\u001b[0m Trial 64 finished with value: 0.6088258796978859 and parameters: {'n_estimators': 80, 'max_depth': 9, 'min_samples_leaf': 5, 'min_samples_split': 5}. Best is trial 1 with value: 0.620597823674329.\u001b[0m\n",
      "\u001b[32m[I 2023-08-28 23:54:50,112]\u001b[0m Trial 65 finished with value: 0.6152841185506583 and parameters: {'n_estimators': 90, 'max_depth': 9, 'min_samples_leaf': 3, 'min_samples_split': 8}. Best is trial 1 with value: 0.620597823674329.\u001b[0m\n",
      "\u001b[32m[I 2023-08-28 23:54:51,704]\u001b[0m Trial 66 finished with value: 0.6051785187964873 and parameters: {'n_estimators': 31, 'max_depth': 10, 'min_samples_leaf': 1, 'min_samples_split': 9}. Best is trial 1 with value: 0.620597823674329.\u001b[0m\n",
      "\u001b[32m[I 2023-08-28 23:54:54,379]\u001b[0m Trial 67 finished with value: 0.6122055827448791 and parameters: {'n_estimators': 60, 'max_depth': 9, 'min_samples_leaf': 4, 'min_samples_split': 5}. Best is trial 1 with value: 0.620597823674329.\u001b[0m\n",
      "\u001b[32m[I 2023-08-28 23:54:59,092]\u001b[0m Trial 68 finished with value: 0.6236821731607153 and parameters: {'n_estimators': 96, 'max_depth': 10, 'min_samples_leaf': 3, 'min_samples_split': 6}. Best is trial 68 with value: 0.6236821731607153.\u001b[0m\n",
      "\u001b[32m[I 2023-08-28 23:55:02,906]\u001b[0m Trial 69 finished with value: 0.5916054738693542 and parameters: {'n_estimators': 95, 'max_depth': 8, 'min_samples_leaf': 3, 'min_samples_split': 18}. Best is trial 68 with value: 0.6236821731607153.\u001b[0m\n",
      "\u001b[32m[I 2023-08-28 23:55:05,863]\u001b[0m Trial 70 finished with value: 0.535353505442553 and parameters: {'n_estimators': 96, 'max_depth': 9, 'min_samples_leaf': 19, 'min_samples_split': 4}. Best is trial 68 with value: 0.6236821731607153.\u001b[0m\n",
      "\u001b[32m[I 2023-08-28 23:55:10,417]\u001b[0m Trial 71 finished with value: 0.6212344366552873 and parameters: {'n_estimators': 89, 'max_depth': 10, 'min_samples_leaf': 2, 'min_samples_split': 6}. Best is trial 68 with value: 0.6236821731607153.\u001b[0m\n",
      "\u001b[32m[I 2023-08-28 23:55:14,726]\u001b[0m Trial 72 finished with value: 0.6212326825085867 and parameters: {'n_estimators': 85, 'max_depth': 10, 'min_samples_leaf': 2, 'min_samples_split': 6}. Best is trial 68 with value: 0.6236821731607153.\u001b[0m\n",
      "\u001b[32m[I 2023-08-28 23:55:18,984]\u001b[0m Trial 73 finished with value: 0.620609050033526 and parameters: {'n_estimators': 85, 'max_depth': 10, 'min_samples_leaf': 2, 'min_samples_split': 7}. Best is trial 68 with value: 0.6236821731607153.\u001b[0m\n",
      "\u001b[32m[I 2023-08-28 23:55:23,417]\u001b[0m Trial 74 finished with value: 0.6220838490419054 and parameters: {'n_estimators': 85, 'max_depth': 10, 'min_samples_leaf': 2, 'min_samples_split': 4}. Best is trial 68 with value: 0.6236821731607153.\u001b[0m\n",
      "\u001b[32m[I 2023-08-28 23:55:28,469]\u001b[0m Trial 75 finished with value: 0.6237406471268867 and parameters: {'n_estimators': 97, 'max_depth': 10, 'min_samples_leaf': 2, 'min_samples_split': 3}. Best is trial 75 with value: 0.6237406471268867.\u001b[0m\n",
      "\u001b[32m[I 2023-08-28 23:55:32,641]\u001b[0m Trial 76 finished with value: 0.6160414100529492 and parameters: {'n_estimators': 86, 'max_depth': 9, 'min_samples_leaf': 2, 'min_samples_split': 3}. Best is trial 75 with value: 0.6237406471268867.\u001b[0m\n",
      "\u001b[32m[I 2023-08-28 23:55:37,962]\u001b[0m Trial 77 finished with value: 0.618138826316761 and parameters: {'n_estimators': 98, 'max_depth': 10, 'min_samples_leaf': 1, 'min_samples_split': 4}. Best is trial 75 with value: 0.6237406471268867.\u001b[0m\n",
      "\u001b[32m[I 2023-08-28 23:55:42,380]\u001b[0m Trial 78 finished with value: 0.6158984828687348 and parameters: {'n_estimators': 91, 'max_depth': 9, 'min_samples_leaf': 2, 'min_samples_split': 2}. Best is trial 75 with value: 0.6237406471268867.\u001b[0m\n",
      "\u001b[32m[I 2023-08-28 23:55:47,291]\u001b[0m Trial 79 finished with value: 0.6184809028837451 and parameters: {'n_estimators': 89, 'max_depth': 10, 'min_samples_leaf': 1, 'min_samples_split': 3}. Best is trial 75 with value: 0.6237406471268867.\u001b[0m\n",
      "\u001b[32m[I 2023-08-28 23:55:50,663]\u001b[0m Trial 80 finished with value: 0.5757989471594112 and parameters: {'n_estimators': 97, 'max_depth': 6, 'min_samples_leaf': 2, 'min_samples_split': 5}. Best is trial 75 with value: 0.6237406471268867.\u001b[0m\n",
      "\u001b[32m[I 2023-08-28 23:55:55,219]\u001b[0m Trial 81 finished with value: 0.6160648866159765 and parameters: {'n_estimators': 84, 'max_depth': 10, 'min_samples_leaf': 1, 'min_samples_split': 4}. Best is trial 75 with value: 0.6237406471268867.\u001b[0m\n",
      "\u001b[32m[I 2023-08-28 23:56:00,219]\u001b[0m Trial 82 finished with value: 0.6224114399508832 and parameters: {'n_estimators': 100, 'max_depth': 10, 'min_samples_leaf': 2, 'min_samples_split': 7}. Best is trial 75 with value: 0.6237406471268867.\u001b[0m\n",
      "\u001b[32m[I 2023-08-28 23:56:04,829]\u001b[0m Trial 83 finished with value: 0.6211143618861827 and parameters: {'n_estimators': 92, 'max_depth': 10, 'min_samples_leaf': 2, 'min_samples_split': 7}. Best is trial 75 with value: 0.6237406471268867.\u001b[0m\n",
      "\u001b[32m[I 2023-08-28 23:56:09,380]\u001b[0m Trial 84 finished with value: 0.6197415720426738 and parameters: {'n_estimators': 92, 'max_depth': 10, 'min_samples_leaf': 2, 'min_samples_split': 8}. Best is trial 75 with value: 0.6237406471268867.\u001b[0m\n",
      "\u001b[32m[I 2023-08-28 23:56:13,928]\u001b[0m Trial 85 finished with value: 0.6119678555527938 and parameters: {'n_estimators': 94, 'max_depth': 9, 'min_samples_leaf': 1, 'min_samples_split': 7}. Best is trial 75 with value: 0.6237406471268867.\u001b[0m\n",
      "\u001b[32m[I 2023-08-28 23:56:18,766]\u001b[0m Trial 86 finished with value: 0.6198823184188453 and parameters: {'n_estimators': 99, 'max_depth': 10, 'min_samples_leaf': 2, 'min_samples_split': 9}. Best is trial 75 with value: 0.6237406471268867.\u001b[0m\n",
      "\u001b[32m[I 2023-08-28 23:56:23,320]\u001b[0m Trial 87 finished with value: 0.6172341046005706 and parameters: {'n_estimators': 88, 'max_depth': 10, 'min_samples_leaf': 1, 'min_samples_split': 7}. Best is trial 75 with value: 0.6237406471268867.\u001b[0m\n",
      "\u001b[32m[I 2023-08-28 23:56:27,798]\u001b[0m Trial 88 finished with value: 0.6147630982375493 and parameters: {'n_estimators': 96, 'max_depth': 9, 'min_samples_leaf': 2, 'min_samples_split': 8}. Best is trial 75 with value: 0.6237406471268867.\u001b[0m\n",
      "\u001b[32m[I 2023-08-28 23:56:29,761]\u001b[0m Trial 89 finished with value: 0.4618323604190541 and parameters: {'n_estimators': 100, 'max_depth': 3, 'min_samples_leaf': 2, 'min_samples_split': 7}. Best is trial 75 with value: 0.6237406471268867.\u001b[0m\n",
      "\u001b[32m[I 2023-08-28 23:56:33,690]\u001b[0m Trial 90 finished with value: 0.6152206900384758 and parameters: {'n_estimators': 85, 'max_depth': 10, 'min_samples_leaf': 3, 'min_samples_split': 12}. Best is trial 75 with value: 0.6237406471268867.\u001b[0m\n",
      "\u001b[32m[I 2023-08-28 23:56:38,432]\u001b[0m Trial 91 finished with value: 0.6170650527262952 and parameters: {'n_estimators': 98, 'max_depth': 10, 'min_samples_leaf': 2, 'min_samples_split': 10}. Best is trial 75 with value: 0.6237406471268867.\u001b[0m\n",
      "\u001b[32m[I 2023-08-28 23:56:43,484]\u001b[0m Trial 92 finished with value: 0.616945930755788 and parameters: {'n_estimators': 100, 'max_depth': 10, 'min_samples_leaf': 1, 'min_samples_split': 9}. Best is trial 75 with value: 0.6237406471268867.\u001b[0m\n",
      "\u001b[32m[I 2023-08-28 23:56:47,819]\u001b[0m Trial 93 finished with value: 0.6172665039621699 and parameters: {'n_estimators': 93, 'max_depth': 10, 'min_samples_leaf': 3, 'min_samples_split': 11}. Best is trial 75 with value: 0.6237406471268867.\u001b[0m\n",
      "\u001b[32m[I 2023-08-28 23:56:52,215]\u001b[0m Trial 94 finished with value: 0.6190422187673311 and parameters: {'n_estimators': 90, 'max_depth': 10, 'min_samples_leaf': 2, 'min_samples_split': 9}. Best is trial 75 with value: 0.6237406471268867.\u001b[0m\n",
      "\u001b[32m[I 2023-08-28 23:56:56,928]\u001b[0m Trial 95 finished with value: 0.6197741383384259 and parameters: {'n_estimators': 95, 'max_depth': 10, 'min_samples_leaf': 2, 'min_samples_split': 8}. Best is trial 75 with value: 0.6237406471268867.\u001b[0m\n",
      "\u001b[32m[I 2023-08-28 23:57:01,361]\u001b[0m Trial 96 finished with value: 0.6119937766126335 and parameters: {'n_estimators': 92, 'max_depth': 9, 'min_samples_leaf': 1, 'min_samples_split': 7}. Best is trial 75 with value: 0.6237406471268867.\u001b[0m\n",
      "\u001b[32m[I 2023-08-28 23:57:04,746]\u001b[0m Trial 97 finished with value: 0.5626201156048753 and parameters: {'n_estimators': 98, 'max_depth': 9, 'min_samples_leaf': 13, 'min_samples_split': 6}. Best is trial 75 with value: 0.6237406471268867.\u001b[0m\n",
      "\u001b[32m[I 2023-08-28 23:57:09,051]\u001b[0m Trial 98 finished with value: 0.6224388459298213 and parameters: {'n_estimators': 88, 'max_depth': 10, 'min_samples_leaf': 3, 'min_samples_split': 3}. Best is trial 75 with value: 0.6237406471268867.\u001b[0m\n",
      "\u001b[32m[I 2023-08-28 23:57:13,004]\u001b[0m Trial 99 finished with value: 0.6202816857325659 and parameters: {'n_estimators': 81, 'max_depth': 10, 'min_samples_leaf': 3, 'min_samples_split': 2}. Best is trial 75 with value: 0.6237406471268867.\u001b[0m\n"
     ]
    },
    {
     "name": "stdout",
     "output_type": "stream",
     "text": [
      "Best r2:  0.6237406471268867\n",
      "Best trial: {'n_estimators': 97, 'max_depth': 10, 'min_samples_leaf': 2, 'min_samples_split': 3}\n"
     ]
    }
   ],
   "source": [
    "sampler = TPESampler()\n",
    "study = optuna.create_study(\n",
    "    study_name=\"rf_parameter_opt\",\n",
    "    direction=\"maximize\",\n",
    "    sampler=sampler,\n",
    ")\n",
    "\n",
    "study.optimize(lambda trial : objectiveRF(trial, Cd_X_train, Cd_y_train), n_trials=100)\n",
    "print(\"Best r2: \", study.best_value)\n",
    "print(\"Best trial:\", study.best_trial.params)"
   ]
  },
  {
   "cell_type": "code",
   "execution_count": 37,
   "id": "861f88d8",
   "metadata": {},
   "outputs": [
    {
     "data": {
      "application/vnd.plotly.v1+json": {
       "config": {
        "plotlyServerURL": "https://plot.ly"
       },
       "data": [
        {
         "dimensions": [
          {
           "label": "Objective Value",
           "range": [
            0.2083801130972862,
            0.6237406471268867
           ],
           "values": [
            0.6069892857435176,
            0.620597823674329,
            0.35385250817103586,
            0.3540251931444487,
            0.5043971966470496,
            0.5447333882809628,
            0.5879785314686067,
            0.49503557860840636,
            0.20853483718733842,
            0.35266534918266307,
            0.6030227700640153,
            0.5821746811729065,
            0.5943983617526313,
            0.6012610827641587,
            0.5957295134900449,
            0.548847250987177,
            0.6019493246663606,
            0.5655543988048729,
            0.6110257094563647,
            0.5612997800005409,
            0.6136093049539142,
            0.6141033162839628,
            0.6144130551430306,
            0.5844945848212059,
            0.61513305468283,
            0.5739491194042623,
            0.5992198992929628,
            0.5735077352129826,
            0.5695056956964146,
            0.613534366134644,
            0.517649313964516,
            0.6143328133549162,
            0.6127545235423363,
            0.6057512162635307,
            0.6194129418520178,
            0.6190038494408123,
            0.600101570229266,
            0.5842660201998928,
            0.6175245218559924,
            0.6043137143989374,
            0.4830169189413283,
            0.6192567671184731,
            0.6105261399615678,
            0.6192567671184731,
            0.61763577336461,
            0.5900386354576583,
            0.45916144999342456,
            0.2083801130972862,
            0.605759856707599,
            0.5466279764103249,
            0.5646446377644557,
            0.61763577336461,
            0.6156653824156452,
            0.6193288332157014,
            0.6155450677275482,
            0.6136093049539142,
            0.6163596583756088,
            0.6066293526157629,
            0.6153489492431815,
            0.5469348324549846,
            0.5824932655760121,
            0.6182230462022712,
            0.6191112334189222,
            0.6178771520820394,
            0.6088258796978859,
            0.6152841185506583,
            0.6051785187964873,
            0.6122055827448791,
            0.6236821731607153,
            0.5916054738693542,
            0.535353505442553,
            0.6212344366552873,
            0.6212326825085867,
            0.620609050033526,
            0.6220838490419054,
            0.6237406471268867,
            0.6160414100529492,
            0.618138826316761,
            0.6158984828687348,
            0.6184809028837451,
            0.5757989471594112,
            0.6160648866159765,
            0.6224114399508832,
            0.6211143618861827,
            0.6197415720426738,
            0.6119678555527938,
            0.6198823184188453,
            0.6172341046005706,
            0.6147630982375493,
            0.4618323604190541,
            0.6152206900384758,
            0.6170650527262952,
            0.616945930755788,
            0.6172665039621699,
            0.6190422187673311,
            0.6197741383384259,
            0.6119937766126335,
            0.5626201156048753,
            0.6224388459298213,
            0.6202816857325659
           ]
          },
          {
           "label": "max_depth",
           "range": [
            1,
            10
           ],
           "values": [
            10,
            10,
            2,
            2,
            5,
            5,
            10,
            4,
            1,
            2,
            8,
            10,
            8,
            8,
            9,
            7,
            10,
            7,
            9,
            6,
            9,
            9,
            9,
            7,
            9,
            8,
            9,
            6,
            10,
            10,
            4,
            9,
            9,
            8,
            10,
            10,
            10,
            10,
            10,
            10,
            4,
            10,
            10,
            10,
            10,
            8,
            3,
            1,
            10,
            9,
            8,
            10,
            10,
            10,
            9,
            9,
            10,
            9,
            10,
            5,
            7,
            10,
            10,
            10,
            9,
            9,
            10,
            9,
            10,
            8,
            9,
            10,
            10,
            10,
            10,
            10,
            9,
            10,
            9,
            10,
            6,
            10,
            10,
            10,
            10,
            9,
            10,
            10,
            9,
            3,
            10,
            10,
            10,
            10,
            10,
            10,
            9,
            9,
            10,
            10
           ]
          },
          {
           "label": "min_samples_leaf",
           "range": [
            1,
            20
           ],
           "values": [
            1,
            2,
            16,
            10,
            19,
            3,
            8,
            12,
            20,
            18,
            5,
            1,
            5,
            1,
            6,
            14,
            3,
            8,
            3,
            8,
            3,
            3,
            4,
            6,
            4,
            10,
            7,
            5,
            12,
            1,
            4,
            2,
            2,
            2,
            4,
            4,
            7,
            9,
            4,
            6,
            17,
            4,
            5,
            4,
            2,
            7,
            5,
            1,
            6,
            15,
            12,
            2,
            2,
            3,
            4,
            3,
            3,
            5,
            4,
            1,
            6,
            3,
            3,
            4,
            5,
            3,
            1,
            4,
            3,
            3,
            19,
            2,
            2,
            2,
            2,
            2,
            2,
            1,
            2,
            1,
            2,
            1,
            2,
            2,
            2,
            1,
            2,
            1,
            2,
            2,
            3,
            2,
            1,
            3,
            2,
            2,
            1,
            13,
            3,
            3
           ]
          },
          {
           "label": "min_samples_split",
           "range": [
            2,
            20
           ],
           "values": [
            12,
            8,
            4,
            11,
            6,
            12,
            7,
            12,
            19,
            14,
            2,
            9,
            16,
            9,
            16,
            8,
            5,
            20,
            11,
            14,
            3,
            3,
            3,
            2,
            5,
            5,
            7,
            5,
            9,
            7,
            4,
            3,
            4,
            3,
            5,
            6,
            6,
            10,
            6,
            6,
            8,
            6,
            8,
            7,
            7,
            10,
            6,
            8,
            7,
            10,
            13,
            7,
            9,
            6,
            4,
            5,
            8,
            6,
            5,
            2,
            4,
            7,
            6,
            6,
            5,
            8,
            9,
            5,
            6,
            18,
            4,
            6,
            6,
            7,
            4,
            3,
            3,
            4,
            2,
            3,
            5,
            4,
            7,
            7,
            8,
            7,
            9,
            7,
            8,
            7,
            12,
            10,
            9,
            11,
            9,
            8,
            7,
            6,
            3,
            2
           ]
          },
          {
           "label": "n_estimators",
           "range": [
            10,
            100
           ],
           "values": [
            66,
            97,
            74,
            67,
            44,
            40,
            46,
            36,
            77,
            43,
            99,
            10,
            99,
            87,
            60,
            84,
            16,
            56,
            88,
            91,
            78,
            81,
            79,
            93,
            83,
            69,
            94,
            100,
            74,
            62,
            83,
            82,
            73,
            93,
            70,
            68,
            68,
            51,
            63,
            27,
            62,
            72,
            52,
            72,
            72,
            66,
            58,
            75,
            49,
            38,
            67,
            72,
            72,
            70,
            87,
            78,
            65,
            58,
            54,
            70,
            76,
            70,
            69,
            65,
            80,
            90,
            31,
            60,
            96,
            95,
            96,
            89,
            85,
            85,
            85,
            97,
            86,
            98,
            91,
            89,
            97,
            84,
            100,
            92,
            92,
            94,
            99,
            88,
            96,
            100,
            85,
            98,
            100,
            93,
            90,
            95,
            92,
            98,
            88,
            81
           ]
          }
         ],
         "labelangle": 30,
         "labelside": "bottom",
         "line": {
          "color": [
           0.6069892857435176,
           0.620597823674329,
           0.35385250817103586,
           0.3540251931444487,
           0.5043971966470496,
           0.5447333882809628,
           0.5879785314686067,
           0.49503557860840636,
           0.20853483718733842,
           0.35266534918266307,
           0.6030227700640153,
           0.5821746811729065,
           0.5943983617526313,
           0.6012610827641587,
           0.5957295134900449,
           0.548847250987177,
           0.6019493246663606,
           0.5655543988048729,
           0.6110257094563647,
           0.5612997800005409,
           0.6136093049539142,
           0.6141033162839628,
           0.6144130551430306,
           0.5844945848212059,
           0.61513305468283,
           0.5739491194042623,
           0.5992198992929628,
           0.5735077352129826,
           0.5695056956964146,
           0.613534366134644,
           0.517649313964516,
           0.6143328133549162,
           0.6127545235423363,
           0.6057512162635307,
           0.6194129418520178,
           0.6190038494408123,
           0.600101570229266,
           0.5842660201998928,
           0.6175245218559924,
           0.6043137143989374,
           0.4830169189413283,
           0.6192567671184731,
           0.6105261399615678,
           0.6192567671184731,
           0.61763577336461,
           0.5900386354576583,
           0.45916144999342456,
           0.2083801130972862,
           0.605759856707599,
           0.5466279764103249,
           0.5646446377644557,
           0.61763577336461,
           0.6156653824156452,
           0.6193288332157014,
           0.6155450677275482,
           0.6136093049539142,
           0.6163596583756088,
           0.6066293526157629,
           0.6153489492431815,
           0.5469348324549846,
           0.5824932655760121,
           0.6182230462022712,
           0.6191112334189222,
           0.6178771520820394,
           0.6088258796978859,
           0.6152841185506583,
           0.6051785187964873,
           0.6122055827448791,
           0.6236821731607153,
           0.5916054738693542,
           0.535353505442553,
           0.6212344366552873,
           0.6212326825085867,
           0.620609050033526,
           0.6220838490419054,
           0.6237406471268867,
           0.6160414100529492,
           0.618138826316761,
           0.6158984828687348,
           0.6184809028837451,
           0.5757989471594112,
           0.6160648866159765,
           0.6224114399508832,
           0.6211143618861827,
           0.6197415720426738,
           0.6119678555527938,
           0.6198823184188453,
           0.6172341046005706,
           0.6147630982375493,
           0.4618323604190541,
           0.6152206900384758,
           0.6170650527262952,
           0.616945930755788,
           0.6172665039621699,
           0.6190422187673311,
           0.6197741383384259,
           0.6119937766126335,
           0.5626201156048753,
           0.6224388459298213,
           0.6202816857325659
          ],
          "colorbar": {
           "title": {
            "text": "Objective Value"
           }
          },
          "colorscale": [
           [
            0,
            "rgb(247,251,255)"
           ],
           [
            0.125,
            "rgb(222,235,247)"
           ],
           [
            0.25,
            "rgb(198,219,239)"
           ],
           [
            0.375,
            "rgb(158,202,225)"
           ],
           [
            0.5,
            "rgb(107,174,214)"
           ],
           [
            0.625,
            "rgb(66,146,198)"
           ],
           [
            0.75,
            "rgb(33,113,181)"
           ],
           [
            0.875,
            "rgb(8,81,156)"
           ],
           [
            1,
            "rgb(8,48,107)"
           ]
          ],
          "reversescale": false,
          "showscale": true
         },
         "type": "parcoords"
        }
       ],
       "layout": {
        "template": {
         "data": {
          "bar": [
           {
            "error_x": {
             "color": "#2a3f5f"
            },
            "error_y": {
             "color": "#2a3f5f"
            },
            "marker": {
             "line": {
              "color": "#E5ECF6",
              "width": 0.5
             },
             "pattern": {
              "fillmode": "overlay",
              "size": 10,
              "solidity": 0.2
             }
            },
            "type": "bar"
           }
          ],
          "barpolar": [
           {
            "marker": {
             "line": {
              "color": "#E5ECF6",
              "width": 0.5
             },
             "pattern": {
              "fillmode": "overlay",
              "size": 10,
              "solidity": 0.2
             }
            },
            "type": "barpolar"
           }
          ],
          "carpet": [
           {
            "aaxis": {
             "endlinecolor": "#2a3f5f",
             "gridcolor": "white",
             "linecolor": "white",
             "minorgridcolor": "white",
             "startlinecolor": "#2a3f5f"
            },
            "baxis": {
             "endlinecolor": "#2a3f5f",
             "gridcolor": "white",
             "linecolor": "white",
             "minorgridcolor": "white",
             "startlinecolor": "#2a3f5f"
            },
            "type": "carpet"
           }
          ],
          "choropleth": [
           {
            "colorbar": {
             "outlinewidth": 0,
             "ticks": ""
            },
            "type": "choropleth"
           }
          ],
          "contour": [
           {
            "colorbar": {
             "outlinewidth": 0,
             "ticks": ""
            },
            "colorscale": [
             [
              0,
              "#0d0887"
             ],
             [
              0.1111111111111111,
              "#46039f"
             ],
             [
              0.2222222222222222,
              "#7201a8"
             ],
             [
              0.3333333333333333,
              "#9c179e"
             ],
             [
              0.4444444444444444,
              "#bd3786"
             ],
             [
              0.5555555555555556,
              "#d8576b"
             ],
             [
              0.6666666666666666,
              "#ed7953"
             ],
             [
              0.7777777777777778,
              "#fb9f3a"
             ],
             [
              0.8888888888888888,
              "#fdca26"
             ],
             [
              1,
              "#f0f921"
             ]
            ],
            "type": "contour"
           }
          ],
          "contourcarpet": [
           {
            "colorbar": {
             "outlinewidth": 0,
             "ticks": ""
            },
            "type": "contourcarpet"
           }
          ],
          "heatmap": [
           {
            "colorbar": {
             "outlinewidth": 0,
             "ticks": ""
            },
            "colorscale": [
             [
              0,
              "#0d0887"
             ],
             [
              0.1111111111111111,
              "#46039f"
             ],
             [
              0.2222222222222222,
              "#7201a8"
             ],
             [
              0.3333333333333333,
              "#9c179e"
             ],
             [
              0.4444444444444444,
              "#bd3786"
             ],
             [
              0.5555555555555556,
              "#d8576b"
             ],
             [
              0.6666666666666666,
              "#ed7953"
             ],
             [
              0.7777777777777778,
              "#fb9f3a"
             ],
             [
              0.8888888888888888,
              "#fdca26"
             ],
             [
              1,
              "#f0f921"
             ]
            ],
            "type": "heatmap"
           }
          ],
          "heatmapgl": [
           {
            "colorbar": {
             "outlinewidth": 0,
             "ticks": ""
            },
            "colorscale": [
             [
              0,
              "#0d0887"
             ],
             [
              0.1111111111111111,
              "#46039f"
             ],
             [
              0.2222222222222222,
              "#7201a8"
             ],
             [
              0.3333333333333333,
              "#9c179e"
             ],
             [
              0.4444444444444444,
              "#bd3786"
             ],
             [
              0.5555555555555556,
              "#d8576b"
             ],
             [
              0.6666666666666666,
              "#ed7953"
             ],
             [
              0.7777777777777778,
              "#fb9f3a"
             ],
             [
              0.8888888888888888,
              "#fdca26"
             ],
             [
              1,
              "#f0f921"
             ]
            ],
            "type": "heatmapgl"
           }
          ],
          "histogram": [
           {
            "marker": {
             "pattern": {
              "fillmode": "overlay",
              "size": 10,
              "solidity": 0.2
             }
            },
            "type": "histogram"
           }
          ],
          "histogram2d": [
           {
            "colorbar": {
             "outlinewidth": 0,
             "ticks": ""
            },
            "colorscale": [
             [
              0,
              "#0d0887"
             ],
             [
              0.1111111111111111,
              "#46039f"
             ],
             [
              0.2222222222222222,
              "#7201a8"
             ],
             [
              0.3333333333333333,
              "#9c179e"
             ],
             [
              0.4444444444444444,
              "#bd3786"
             ],
             [
              0.5555555555555556,
              "#d8576b"
             ],
             [
              0.6666666666666666,
              "#ed7953"
             ],
             [
              0.7777777777777778,
              "#fb9f3a"
             ],
             [
              0.8888888888888888,
              "#fdca26"
             ],
             [
              1,
              "#f0f921"
             ]
            ],
            "type": "histogram2d"
           }
          ],
          "histogram2dcontour": [
           {
            "colorbar": {
             "outlinewidth": 0,
             "ticks": ""
            },
            "colorscale": [
             [
              0,
              "#0d0887"
             ],
             [
              0.1111111111111111,
              "#46039f"
             ],
             [
              0.2222222222222222,
              "#7201a8"
             ],
             [
              0.3333333333333333,
              "#9c179e"
             ],
             [
              0.4444444444444444,
              "#bd3786"
             ],
             [
              0.5555555555555556,
              "#d8576b"
             ],
             [
              0.6666666666666666,
              "#ed7953"
             ],
             [
              0.7777777777777778,
              "#fb9f3a"
             ],
             [
              0.8888888888888888,
              "#fdca26"
             ],
             [
              1,
              "#f0f921"
             ]
            ],
            "type": "histogram2dcontour"
           }
          ],
          "mesh3d": [
           {
            "colorbar": {
             "outlinewidth": 0,
             "ticks": ""
            },
            "type": "mesh3d"
           }
          ],
          "parcoords": [
           {
            "line": {
             "colorbar": {
              "outlinewidth": 0,
              "ticks": ""
             }
            },
            "type": "parcoords"
           }
          ],
          "pie": [
           {
            "automargin": true,
            "type": "pie"
           }
          ],
          "scatter": [
           {
            "marker": {
             "colorbar": {
              "outlinewidth": 0,
              "ticks": ""
             }
            },
            "type": "scatter"
           }
          ],
          "scatter3d": [
           {
            "line": {
             "colorbar": {
              "outlinewidth": 0,
              "ticks": ""
             }
            },
            "marker": {
             "colorbar": {
              "outlinewidth": 0,
              "ticks": ""
             }
            },
            "type": "scatter3d"
           }
          ],
          "scattercarpet": [
           {
            "marker": {
             "colorbar": {
              "outlinewidth": 0,
              "ticks": ""
             }
            },
            "type": "scattercarpet"
           }
          ],
          "scattergeo": [
           {
            "marker": {
             "colorbar": {
              "outlinewidth": 0,
              "ticks": ""
             }
            },
            "type": "scattergeo"
           }
          ],
          "scattergl": [
           {
            "marker": {
             "colorbar": {
              "outlinewidth": 0,
              "ticks": ""
             }
            },
            "type": "scattergl"
           }
          ],
          "scattermapbox": [
           {
            "marker": {
             "colorbar": {
              "outlinewidth": 0,
              "ticks": ""
             }
            },
            "type": "scattermapbox"
           }
          ],
          "scatterpolar": [
           {
            "marker": {
             "colorbar": {
              "outlinewidth": 0,
              "ticks": ""
             }
            },
            "type": "scatterpolar"
           }
          ],
          "scatterpolargl": [
           {
            "marker": {
             "colorbar": {
              "outlinewidth": 0,
              "ticks": ""
             }
            },
            "type": "scatterpolargl"
           }
          ],
          "scatterternary": [
           {
            "marker": {
             "colorbar": {
              "outlinewidth": 0,
              "ticks": ""
             }
            },
            "type": "scatterternary"
           }
          ],
          "surface": [
           {
            "colorbar": {
             "outlinewidth": 0,
             "ticks": ""
            },
            "colorscale": [
             [
              0,
              "#0d0887"
             ],
             [
              0.1111111111111111,
              "#46039f"
             ],
             [
              0.2222222222222222,
              "#7201a8"
             ],
             [
              0.3333333333333333,
              "#9c179e"
             ],
             [
              0.4444444444444444,
              "#bd3786"
             ],
             [
              0.5555555555555556,
              "#d8576b"
             ],
             [
              0.6666666666666666,
              "#ed7953"
             ],
             [
              0.7777777777777778,
              "#fb9f3a"
             ],
             [
              0.8888888888888888,
              "#fdca26"
             ],
             [
              1,
              "#f0f921"
             ]
            ],
            "type": "surface"
           }
          ],
          "table": [
           {
            "cells": {
             "fill": {
              "color": "#EBF0F8"
             },
             "line": {
              "color": "white"
             }
            },
            "header": {
             "fill": {
              "color": "#C8D4E3"
             },
             "line": {
              "color": "white"
             }
            },
            "type": "table"
           }
          ]
         },
         "layout": {
          "annotationdefaults": {
           "arrowcolor": "#2a3f5f",
           "arrowhead": 0,
           "arrowwidth": 1
          },
          "autotypenumbers": "strict",
          "coloraxis": {
           "colorbar": {
            "outlinewidth": 0,
            "ticks": ""
           }
          },
          "colorscale": {
           "diverging": [
            [
             0,
             "#8e0152"
            ],
            [
             0.1,
             "#c51b7d"
            ],
            [
             0.2,
             "#de77ae"
            ],
            [
             0.3,
             "#f1b6da"
            ],
            [
             0.4,
             "#fde0ef"
            ],
            [
             0.5,
             "#f7f7f7"
            ],
            [
             0.6,
             "#e6f5d0"
            ],
            [
             0.7,
             "#b8e186"
            ],
            [
             0.8,
             "#7fbc41"
            ],
            [
             0.9,
             "#4d9221"
            ],
            [
             1,
             "#276419"
            ]
           ],
           "sequential": [
            [
             0,
             "#0d0887"
            ],
            [
             0.1111111111111111,
             "#46039f"
            ],
            [
             0.2222222222222222,
             "#7201a8"
            ],
            [
             0.3333333333333333,
             "#9c179e"
            ],
            [
             0.4444444444444444,
             "#bd3786"
            ],
            [
             0.5555555555555556,
             "#d8576b"
            ],
            [
             0.6666666666666666,
             "#ed7953"
            ],
            [
             0.7777777777777778,
             "#fb9f3a"
            ],
            [
             0.8888888888888888,
             "#fdca26"
            ],
            [
             1,
             "#f0f921"
            ]
           ],
           "sequentialminus": [
            [
             0,
             "#0d0887"
            ],
            [
             0.1111111111111111,
             "#46039f"
            ],
            [
             0.2222222222222222,
             "#7201a8"
            ],
            [
             0.3333333333333333,
             "#9c179e"
            ],
            [
             0.4444444444444444,
             "#bd3786"
            ],
            [
             0.5555555555555556,
             "#d8576b"
            ],
            [
             0.6666666666666666,
             "#ed7953"
            ],
            [
             0.7777777777777778,
             "#fb9f3a"
            ],
            [
             0.8888888888888888,
             "#fdca26"
            ],
            [
             1,
             "#f0f921"
            ]
           ]
          },
          "colorway": [
           "#636efa",
           "#EF553B",
           "#00cc96",
           "#ab63fa",
           "#FFA15A",
           "#19d3f3",
           "#FF6692",
           "#B6E880",
           "#FF97FF",
           "#FECB52"
          ],
          "font": {
           "color": "#2a3f5f"
          },
          "geo": {
           "bgcolor": "white",
           "lakecolor": "white",
           "landcolor": "#E5ECF6",
           "showlakes": true,
           "showland": true,
           "subunitcolor": "white"
          },
          "hoverlabel": {
           "align": "left"
          },
          "hovermode": "closest",
          "mapbox": {
           "style": "light"
          },
          "paper_bgcolor": "white",
          "plot_bgcolor": "#E5ECF6",
          "polar": {
           "angularaxis": {
            "gridcolor": "white",
            "linecolor": "white",
            "ticks": ""
           },
           "bgcolor": "#E5ECF6",
           "radialaxis": {
            "gridcolor": "white",
            "linecolor": "white",
            "ticks": ""
           }
          },
          "scene": {
           "xaxis": {
            "backgroundcolor": "#E5ECF6",
            "gridcolor": "white",
            "gridwidth": 2,
            "linecolor": "white",
            "showbackground": true,
            "ticks": "",
            "zerolinecolor": "white"
           },
           "yaxis": {
            "backgroundcolor": "#E5ECF6",
            "gridcolor": "white",
            "gridwidth": 2,
            "linecolor": "white",
            "showbackground": true,
            "ticks": "",
            "zerolinecolor": "white"
           },
           "zaxis": {
            "backgroundcolor": "#E5ECF6",
            "gridcolor": "white",
            "gridwidth": 2,
            "linecolor": "white",
            "showbackground": true,
            "ticks": "",
            "zerolinecolor": "white"
           }
          },
          "shapedefaults": {
           "line": {
            "color": "#2a3f5f"
           }
          },
          "ternary": {
           "aaxis": {
            "gridcolor": "white",
            "linecolor": "white",
            "ticks": ""
           },
           "baxis": {
            "gridcolor": "white",
            "linecolor": "white",
            "ticks": ""
           },
           "bgcolor": "#E5ECF6",
           "caxis": {
            "gridcolor": "white",
            "linecolor": "white",
            "ticks": ""
           }
          },
          "title": {
           "x": 0.05
          },
          "xaxis": {
           "automargin": true,
           "gridcolor": "white",
           "linecolor": "white",
           "ticks": "",
           "title": {
            "standoff": 15
           },
           "zerolinecolor": "white",
           "zerolinewidth": 2
          },
          "yaxis": {
           "automargin": true,
           "gridcolor": "white",
           "linecolor": "white",
           "ticks": "",
           "title": {
            "standoff": 15
           },
           "zerolinecolor": "white",
           "zerolinewidth": 2
          }
         }
        },
        "title": {
         "text": "Parallel Coordinate Plot"
        }
       }
      }
     },
     "metadata": {},
     "output_type": "display_data"
    }
   ],
   "source": [
    "optuna.visualization.plot_parallel_coordinate(study)"
   ]
  },
  {
   "cell_type": "code",
   "execution_count": 38,
   "id": "4afa60aa",
   "metadata": {},
   "outputs": [
    {
     "name": "stdout",
     "output_type": "stream",
     "text": [
      "Best trial: {'n_estimators': 97, 'max_depth': 10, 'min_samples_leaf': 2, 'min_samples_split': 3}\n"
     ]
    },
    {
     "data": {
      "text/plain": [
       "97"
      ]
     },
     "execution_count": 38,
     "metadata": {},
     "output_type": "execute_result"
    }
   ],
   "source": [
    "print(\"Best trial:\", study.best_trial.params)\n",
    "study.best_trial.params[\"n_estimators\"]"
   ]
  },
  {
   "cell_type": "code",
   "execution_count": 39,
   "id": "3b45adad",
   "metadata": {},
   "outputs": [
    {
     "data": {
      "text/html": [
       "<style>#sk-container-id-2 {color: black;}#sk-container-id-2 pre{padding: 0;}#sk-container-id-2 div.sk-toggleable {background-color: white;}#sk-container-id-2 label.sk-toggleable__label {cursor: pointer;display: block;width: 100%;margin-bottom: 0;padding: 0.3em;box-sizing: border-box;text-align: center;}#sk-container-id-2 label.sk-toggleable__label-arrow:before {content: \"▸\";float: left;margin-right: 0.25em;color: #696969;}#sk-container-id-2 label.sk-toggleable__label-arrow:hover:before {color: black;}#sk-container-id-2 div.sk-estimator:hover label.sk-toggleable__label-arrow:before {color: black;}#sk-container-id-2 div.sk-toggleable__content {max-height: 0;max-width: 0;overflow: hidden;text-align: left;background-color: #f0f8ff;}#sk-container-id-2 div.sk-toggleable__content pre {margin: 0.2em;color: black;border-radius: 0.25em;background-color: #f0f8ff;}#sk-container-id-2 input.sk-toggleable__control:checked~div.sk-toggleable__content {max-height: 200px;max-width: 100%;overflow: auto;}#sk-container-id-2 input.sk-toggleable__control:checked~label.sk-toggleable__label-arrow:before {content: \"▾\";}#sk-container-id-2 div.sk-estimator input.sk-toggleable__control:checked~label.sk-toggleable__label {background-color: #d4ebff;}#sk-container-id-2 div.sk-label input.sk-toggleable__control:checked~label.sk-toggleable__label {background-color: #d4ebff;}#sk-container-id-2 input.sk-hidden--visually {border: 0;clip: rect(1px 1px 1px 1px);clip: rect(1px, 1px, 1px, 1px);height: 1px;margin: -1px;overflow: hidden;padding: 0;position: absolute;width: 1px;}#sk-container-id-2 div.sk-estimator {font-family: monospace;background-color: #f0f8ff;border: 1px dotted black;border-radius: 0.25em;box-sizing: border-box;margin-bottom: 0.5em;}#sk-container-id-2 div.sk-estimator:hover {background-color: #d4ebff;}#sk-container-id-2 div.sk-parallel-item::after {content: \"\";width: 100%;border-bottom: 1px solid gray;flex-grow: 1;}#sk-container-id-2 div.sk-label:hover label.sk-toggleable__label {background-color: #d4ebff;}#sk-container-id-2 div.sk-serial::before {content: \"\";position: absolute;border-left: 1px solid gray;box-sizing: border-box;top: 0;bottom: 0;left: 50%;z-index: 0;}#sk-container-id-2 div.sk-serial {display: flex;flex-direction: column;align-items: center;background-color: white;padding-right: 0.2em;padding-left: 0.2em;position: relative;}#sk-container-id-2 div.sk-item {position: relative;z-index: 1;}#sk-container-id-2 div.sk-parallel {display: flex;align-items: stretch;justify-content: center;background-color: white;position: relative;}#sk-container-id-2 div.sk-item::before, #sk-container-id-2 div.sk-parallel-item::before {content: \"\";position: absolute;border-left: 1px solid gray;box-sizing: border-box;top: 0;bottom: 0;left: 50%;z-index: -1;}#sk-container-id-2 div.sk-parallel-item {display: flex;flex-direction: column;z-index: 1;position: relative;background-color: white;}#sk-container-id-2 div.sk-parallel-item:first-child::after {align-self: flex-end;width: 50%;}#sk-container-id-2 div.sk-parallel-item:last-child::after {align-self: flex-start;width: 50%;}#sk-container-id-2 div.sk-parallel-item:only-child::after {width: 0;}#sk-container-id-2 div.sk-dashed-wrapped {border: 1px dashed gray;margin: 0 0.4em 0.5em 0.4em;box-sizing: border-box;padding-bottom: 0.4em;background-color: white;}#sk-container-id-2 div.sk-label label {font-family: monospace;font-weight: bold;display: inline-block;line-height: 1.2em;}#sk-container-id-2 div.sk-label-container {text-align: center;}#sk-container-id-2 div.sk-container {/* jupyter's `normalize.less` sets `[hidden] { display: none; }` but bootstrap.min.css set `[hidden] { display: none !important; }` so we also need the `!important` here to be able to override the default hidden behavior on the sphinx rendered scikit-learn.org. See: https://github.com/scikit-learn/scikit-learn/issues/21755 */display: inline-block !important;position: relative;}#sk-container-id-2 div.sk-text-repr-fallback {display: none;}</style><div id=\"sk-container-id-2\" class=\"sk-top-container\"><div class=\"sk-text-repr-fallback\"><pre>RandomForestRegressor(max_depth=10, min_samples_leaf=2, min_samples_split=3,\n",
       "                      n_estimators=97, random_state=42)</pre><b>In a Jupyter environment, please rerun this cell to show the HTML representation or trust the notebook. <br />On GitHub, the HTML representation is unable to render, please try loading this page with nbviewer.org.</b></div><div class=\"sk-container\" hidden><div class=\"sk-item\"><div class=\"sk-estimator sk-toggleable\"><input class=\"sk-toggleable__control sk-hidden--visually\" id=\"sk-estimator-id-2\" type=\"checkbox\" checked><label for=\"sk-estimator-id-2\" class=\"sk-toggleable__label sk-toggleable__label-arrow\">RandomForestRegressor</label><div class=\"sk-toggleable__content\"><pre>RandomForestRegressor(max_depth=10, min_samples_leaf=2, min_samples_split=3,\n",
       "                      n_estimators=97, random_state=42)</pre></div></div></div></div></div>"
      ],
      "text/plain": [
       "RandomForestRegressor(max_depth=10, min_samples_leaf=2, min_samples_split=3,\n",
       "                      n_estimators=97, random_state=42)"
      ]
     },
     "execution_count": 39,
     "metadata": {},
     "output_type": "execute_result"
    }
   ],
   "source": [
    "rf_params = {\n",
    "    \"random_state\": 42,\n",
    "    #\"learning_rate\": 0.1,\n",
    "    \"n_estimators\": study.best_trial.params[\"n_estimators\"],\n",
    "    \"max_depth\": study.best_trial.params[\"max_depth\"],\n",
    "    \"min_samples_leaf\": study.best_trial.params[\"min_samples_leaf\"],\n",
    "    \"min_samples_split\": study.best_trial.params[\"min_samples_split\"],\n",
    "    #\"subsample\": study.best_trial.params[\"subsample\"]\n",
    "}\n",
    "\n",
    "rf = RandomForestRegressor(**rf_params)\n",
    "rf.fit(Cd_X_train, Cd_y_train)"
   ]
  },
  {
   "cell_type": "code",
   "execution_count": 40,
   "id": "9ab1055b",
   "metadata": {},
   "outputs": [],
   "source": [
    "y_train_pred = rf.predict(Cd_X_train)\n",
    "y_test_pred = rf.predict(Cd_X_test)"
   ]
  },
  {
   "cell_type": "code",
   "execution_count": 41,
   "id": "425b4001",
   "metadata": {},
   "outputs": [
    {
     "name": "stdout",
     "output_type": "stream",
     "text": [
      "Train RMSE:  0.1032840893512059\n",
      "Test RMSE:  0.23384245890833633\n"
     ]
    }
   ],
   "source": [
    "print(\"Train RMSE: \", np.sqrt(mean_squared_error(Cd_y_train, y_train_pred)))\n",
    "print(\"Test RMSE: \", np.sqrt(mean_squared_error(Cd_y_test, y_test_pred)))"
   ]
  },
  {
   "cell_type": "code",
   "execution_count": 42,
   "id": "0f95ae3c",
   "metadata": {},
   "outputs": [
    {
     "name": "stdout",
     "output_type": "stream",
     "text": [
      "Train R2:  0.8734331352082993\n",
      "Test R2:  0.3535116853240863\n"
     ]
    }
   ],
   "source": [
    "print(\"Train R2: \", r2_score(Cd_y_train, y_train_pred))\n",
    "print(\"Test R2: \", r2_score(Cd_y_test, y_test_pred))"
   ]
  },
  {
   "cell_type": "code",
   "execution_count": 43,
   "id": "aa0a517d",
   "metadata": {},
   "outputs": [
    {
     "data": {
      "image/png": "[encoded data removed]",
      "text/plain": [
       "<Figure size 640x480 with 1 Axes>"
      ]
     },
     "metadata": {},
     "output_type": "display_data"
    }
   ],
   "source": [
    "plt.scatter(y_train_pred, np.array(Cd_y_train), color=\"orange\", alpha=0.3)\n",
    "plt.scatter(y_test_pred, np.array(Cd_y_test), color=\"green\", alpha=0.4)\n",
    "plt.axis(\"auto\") # scaled, tight, auto, image, square\n",
    "# plt.xlim([0, 1.5]) \n",
    "# plt.ylim(0, None) \n",
    "plt.xlabel('Predicted Values')\n",
    "plt.ylabel('Actual Values')\n",
    "\n",
    "# Add y=x line\n",
    "plt.plot([0, 0.5], [0, 0.5], color='red', linestyle='-')\n",
    "\n",
    "plt.show()"
   ]
  },
  {
   "attachments": {},
   "cell_type": "markdown",
   "id": "74f680ea",
   "metadata": {},
   "source": [
    "Ni"
   ]
  },
  {
   "cell_type": "code",
   "execution_count": 44,
   "id": "de233338",
   "metadata": {},
   "outputs": [
    {
     "name": "stderr",
     "output_type": "stream",
     "text": [
      "\u001b[32m[I 2023-08-28 23:57:14,557]\u001b[0m A new study created in memory with name: rf_parameter_opt\u001b[0m\n",
      "\u001b[32m[I 2023-08-28 23:57:14,944]\u001b[0m Trial 0 finished with value: 0.3240944696595821 and parameters: {'n_estimators': 23, 'max_depth': 2, 'min_samples_leaf': 18, 'min_samples_split': 4}. Best is trial 0 with value: 0.3240944696595821.\u001b[0m\n",
      "\u001b[32m[I 2023-08-28 23:57:15,254]\u001b[0m Trial 1 finished with value: 0.1883939236668264 and parameters: {'n_estimators': 29, 'max_depth': 1, 'min_samples_leaf': 17, 'min_samples_split': 19}. Best is trial 0 with value: 0.3240944696595821.\u001b[0m\n",
      "\u001b[32m[I 2023-08-28 23:57:15,587]\u001b[0m Trial 2 finished with value: 0.19032495481380873 and parameters: {'n_estimators': 31, 'max_depth': 1, 'min_samples_leaf': 10, 'min_samples_split': 6}. Best is trial 0 with value: 0.3240944696595821.\u001b[0m\n",
      "\u001b[32m[I 2023-08-28 23:57:19,456]\u001b[0m Trial 3 finished with value: 0.5763298429906545 and parameters: {'n_estimators': 100, 'max_depth': 9, 'min_samples_leaf': 14, 'min_samples_split': 16}. Best is trial 3 with value: 0.5763298429906545.\u001b[0m\n",
      "\u001b[32m[I 2023-08-28 23:57:23,313]\u001b[0m Trial 4 finished with value: 0.6286896452895012 and parameters: {'n_estimators': 83, 'max_depth': 10, 'min_samples_leaf': 8, 'min_samples_split': 14}. Best is trial 4 with value: 0.6286896452895012.\u001b[0m\n",
      "\u001b[32m[I 2023-08-28 23:57:25,959]\u001b[0m Trial 5 finished with value: 0.4637679193685985 and parameters: {'n_estimators': 99, 'max_depth': 4, 'min_samples_leaf': 9, 'min_samples_split': 7}. Best is trial 4 with value: 0.6286896452895012.\u001b[0m\n",
      "\u001b[32m[I 2023-08-28 23:57:27,879]\u001b[0m Trial 6 finished with value: 0.6460988909203879 and parameters: {'n_estimators': 37, 'max_depth': 10, 'min_samples_leaf': 2, 'min_samples_split': 19}. Best is trial 6 with value: 0.6460988909203879.\u001b[0m\n",
      "\u001b[32m[I 2023-08-28 23:57:31,102]\u001b[0m Trial 7 finished with value: 0.5524023300777046 and parameters: {'n_estimators': 91, 'max_depth': 7, 'min_samples_leaf': 16, 'min_samples_split': 18}. Best is trial 6 with value: 0.6460988909203879.\u001b[0m\n",
      "\u001b[32m[I 2023-08-28 23:57:31,806]\u001b[0m Trial 8 finished with value: 0.5429200832696096 and parameters: {'n_estimators': 20, 'max_depth': 6, 'min_samples_leaf': 13, 'min_samples_split': 5}. Best is trial 6 with value: 0.6460988909203879.\u001b[0m\n",
      "\u001b[32m[I 2023-08-28 23:57:36,376]\u001b[0m Trial 9 finished with value: 0.6482807315844201 and parameters: {'n_estimators': 94, 'max_depth': 8, 'min_samples_leaf': 1, 'min_samples_split': 10}. Best is trial 9 with value: 0.6482807315844201.\u001b[0m\n",
      "\u001b[32m[I 2023-08-28 23:57:39,692]\u001b[0m Trial 10 finished with value: 0.64682813931752 and parameters: {'n_estimators': 68, 'max_depth': 8, 'min_samples_leaf': 1, 'min_samples_split': 10}. Best is trial 9 with value: 0.6482807315844201.\u001b[0m\n",
      "\u001b[32m[I 2023-08-28 23:57:43,108]\u001b[0m Trial 11 finished with value: 0.6470339268040312 and parameters: {'n_estimators': 70, 'max_depth': 8, 'min_samples_leaf': 1, 'min_samples_split': 10}. Best is trial 9 with value: 0.6482807315844201.\u001b[0m\n",
      "\u001b[32m[I 2023-08-28 23:57:45,220]\u001b[0m Trial 12 finished with value: 0.5122182795507049 and parameters: {'n_estimators': 65, 'max_depth': 5, 'min_samples_leaf': 5, 'min_samples_split': 10}. Best is trial 9 with value: 0.6482807315844201.\u001b[0m\n",
      "\u001b[32m[I 2023-08-28 23:57:48,599]\u001b[0m Trial 13 finished with value: 0.6348655191313771 and parameters: {'n_estimators': 75, 'max_depth': 8, 'min_samples_leaf': 5, 'min_samples_split': 13}. Best is trial 9 with value: 0.6482807315844201.\u001b[0m\n",
      "\u001b[32m[I 2023-08-28 23:57:50,774]\u001b[0m Trial 14 finished with value: 0.6437570580171355 and parameters: {'n_estimators': 46, 'max_depth': 8, 'min_samples_leaf': 4, 'min_samples_split': 8}. Best is trial 9 with value: 0.6482807315844201.\u001b[0m\n",
      "\u001b[32m[I 2023-08-28 23:57:52,984]\u001b[0m Trial 15 finished with value: 0.5716640958675674 and parameters: {'n_estimators': 57, 'max_depth': 6, 'min_samples_leaf': 1, 'min_samples_split': 12}. Best is trial 9 with value: 0.6482807315844201.\u001b[0m\n",
      "\u001b[32m[I 2023-08-28 23:57:53,271]\u001b[0m Trial 16 finished with value: 0.457746549653104 and parameters: {'n_estimators': 10, 'max_depth': 4, 'min_samples_leaf': 7, 'min_samples_split': 2}. Best is trial 9 with value: 0.6482807315844201.\u001b[0m\n",
      "\u001b[32m[I 2023-08-28 23:57:56,757]\u001b[0m Trial 17 finished with value: 0.6226622477019393 and parameters: {'n_estimators': 81, 'max_depth': 7, 'min_samples_leaf': 3, 'min_samples_split': 9}. Best is trial 9 with value: 0.6482807315844201.\u001b[0m\n",
      "\u001b[32m[I 2023-08-28 23:57:59,256]\u001b[0m Trial 18 finished with value: 0.6374996320524356 and parameters: {'n_estimators': 53, 'max_depth': 9, 'min_samples_leaf': 6, 'min_samples_split': 14}. Best is trial 9 with value: 0.6482807315844201.\u001b[0m\n",
      "\u001b[32m[I 2023-08-28 23:58:02,598]\u001b[0m Trial 19 finished with value: 0.5716642110442491 and parameters: {'n_estimators': 89, 'max_depth': 7, 'min_samples_leaf': 12, 'min_samples_split': 11}. Best is trial 9 with value: 0.6482807315844201.\u001b[0m\n",
      "\u001b[32m[I 2023-08-28 23:58:04,926]\u001b[0m Trial 20 finished with value: 0.5401151099184089 and parameters: {'n_estimators': 69, 'max_depth': 9, 'min_samples_leaf': 20, 'min_samples_split': 15}. Best is trial 9 with value: 0.6482807315844201.\u001b[0m\n",
      "\u001b[32m[I 2023-08-28 23:58:08,144]\u001b[0m Trial 21 finished with value: 0.6471703099350655 and parameters: {'n_estimators': 66, 'max_depth': 8, 'min_samples_leaf': 1, 'min_samples_split': 10}. Best is trial 9 with value: 0.6482807315844201.\u001b[0m\n",
      "\u001b[32m[I 2023-08-28 23:58:10,957]\u001b[0m Trial 22 finished with value: 0.6480232523696765 and parameters: {'n_estimators': 59, 'max_depth': 8, 'min_samples_leaf': 3, 'min_samples_split': 9}. Best is trial 9 with value: 0.6482807315844201.\u001b[0m\n",
      "\u001b[32m[I 2023-08-28 23:58:14,156]\u001b[0m Trial 23 finished with value: 0.6807347638332727 and parameters: {'n_estimators': 58, 'max_depth': 10, 'min_samples_leaf': 3, 'min_samples_split': 7}. Best is trial 23 with value: 0.6807347638332727.\u001b[0m\n",
      "\u001b[32m[I 2023-08-28 23:58:16,669]\u001b[0m Trial 24 finished with value: 0.6741753024951576 and parameters: {'n_estimators': 46, 'max_depth': 10, 'min_samples_leaf': 3, 'min_samples_split': 8}. Best is trial 23 with value: 0.6807347638332727.\u001b[0m\n",
      "\u001b[32m[I 2023-08-28 23:58:19,060]\u001b[0m Trial 25 finished with value: 0.6695003897543613 and parameters: {'n_estimators': 45, 'max_depth': 10, 'min_samples_leaf': 4, 'min_samples_split': 3}. Best is trial 23 with value: 0.6807347638332727.\u001b[0m\n",
      "\u001b[32m[I 2023-08-28 23:58:21,256]\u001b[0m Trial 26 finished with value: 0.6378184548222958 and parameters: {'n_estimators': 46, 'max_depth': 10, 'min_samples_leaf': 7, 'min_samples_split': 2}. Best is trial 23 with value: 0.6807347638332727.\u001b[0m\n",
      "\u001b[32m[I 2023-08-28 23:58:23,486]\u001b[0m Trial 27 finished with value: 0.6683882609390288 and parameters: {'n_estimators': 42, 'max_depth': 10, 'min_samples_leaf': 4, 'min_samples_split': 4}. Best is trial 23 with value: 0.6807347638332727.\u001b[0m\n",
      "\u001b[32m[I 2023-08-28 23:58:26,148]\u001b[0m Trial 28 finished with value: 0.6700065484400348 and parameters: {'n_estimators': 51, 'max_depth': 9, 'min_samples_leaf': 3, 'min_samples_split': 6}. Best is trial 23 with value: 0.6807347638332727.\u001b[0m\n",
      "\u001b[32m[I 2023-08-28 23:58:28,572]\u001b[0m Trial 29 finished with value: 0.6410329183618413 and parameters: {'n_estimators': 51, 'max_depth': 9, 'min_samples_leaf': 6, 'min_samples_split': 6}. Best is trial 23 with value: 0.6807347638332727.\u001b[0m\n",
      "\u001b[32m[I 2023-08-28 23:58:31,726]\u001b[0m Trial 30 finished with value: 0.6712492548803608 and parameters: {'n_estimators': 61, 'max_depth': 9, 'min_samples_leaf': 3, 'min_samples_split': 7}. Best is trial 23 with value: 0.6807347638332727.\u001b[0m\n",
      "\u001b[32m[I 2023-08-28 23:58:34,890]\u001b[0m Trial 31 finished with value: 0.6712492548803608 and parameters: {'n_estimators': 61, 'max_depth': 9, 'min_samples_leaf': 3, 'min_samples_split': 7}. Best is trial 23 with value: 0.6807347638332727.\u001b[0m\n",
      "\u001b[32m[I 2023-08-28 23:58:38,000]\u001b[0m Trial 32 finished with value: 0.6622450764708105 and parameters: {'n_estimators': 61, 'max_depth': 10, 'min_samples_leaf': 5, 'min_samples_split': 8}. Best is trial 23 with value: 0.6807347638332727.\u001b[0m\n",
      "\u001b[32m[I 2023-08-28 23:58:39,878]\u001b[0m Trial 33 finished with value: 0.666825685720798 and parameters: {'n_estimators': 36, 'max_depth': 9, 'min_samples_leaf': 3, 'min_samples_split': 7}. Best is trial 23 with value: 0.6807347638332727.\u001b[0m\n",
      "\u001b[32m[I 2023-08-28 23:58:41,066]\u001b[0m Trial 34 finished with value: 0.32513481127512184 and parameters: {'n_estimators': 74, 'max_depth': 2, 'min_samples_leaf': 9, 'min_samples_split': 5}. Best is trial 23 with value: 0.6807347638332727.\u001b[0m\n",
      "\u001b[32m[I 2023-08-28 23:58:43,591]\u001b[0m Trial 35 finished with value: 0.5953484924481895 and parameters: {'n_estimators': 61, 'max_depth': 9, 'min_samples_leaf': 11, 'min_samples_split': 8}. Best is trial 23 with value: 0.6807347638332727.\u001b[0m\n",
      "\u001b[32m[I 2023-08-28 23:58:46,753]\u001b[0m Trial 36 finished with value: 0.6917417820408212 and parameters: {'n_estimators': 54, 'max_depth': 10, 'min_samples_leaf': 2, 'min_samples_split': 4}. Best is trial 36 with value: 0.6917417820408212.\u001b[0m\n",
      "\u001b[32m[I 2023-08-28 23:58:48,295]\u001b[0m Trial 37 finished with value: 0.6852055480390831 and parameters: {'n_estimators': 26, 'max_depth': 10, 'min_samples_leaf': 2, 'min_samples_split': 4}. Best is trial 36 with value: 0.6917417820408212.\u001b[0m\n",
      "\u001b[32m[I 2023-08-28 23:58:49,830]\u001b[0m Trial 38 finished with value: 0.6852055480390831 and parameters: {'n_estimators': 26, 'max_depth': 10, 'min_samples_leaf': 2, 'min_samples_split': 4}. Best is trial 36 with value: 0.6917417820408212.\u001b[0m\n",
      "\u001b[32m[I 2023-08-28 23:58:51,253]\u001b[0m Trial 39 finished with value: 0.682855154128878 and parameters: {'n_estimators': 24, 'max_depth': 10, 'min_samples_leaf': 2, 'min_samples_split': 4}. Best is trial 36 with value: 0.6917417820408212.\u001b[0m\n",
      "\u001b[32m[I 2023-08-28 23:58:52,915]\u001b[0m Trial 40 finished with value: 0.6875231830915786 and parameters: {'n_estimators': 28, 'max_depth': 10, 'min_samples_leaf': 2, 'min_samples_split': 4}. Best is trial 36 with value: 0.6917417820408212.\u001b[0m\n",
      "\u001b[32m[I 2023-08-28 23:58:54,446]\u001b[0m Trial 41 finished with value: 0.6852055480390831 and parameters: {'n_estimators': 26, 'max_depth': 10, 'min_samples_leaf': 2, 'min_samples_split': 4}. Best is trial 36 with value: 0.6917417820408212.\u001b[0m\n",
      "\u001b[32m[I 2023-08-28 23:58:56,041]\u001b[0m Trial 42 finished with value: 0.6861043473545088 and parameters: {'n_estimators': 27, 'max_depth': 10, 'min_samples_leaf': 2, 'min_samples_split': 3}. Best is trial 36 with value: 0.6917417820408212.\u001b[0m\n",
      "\u001b[32m[I 2023-08-28 23:58:56,722]\u001b[0m Trial 43 finished with value: 0.562244442517438 and parameters: {'n_estimators': 18, 'max_depth': 10, 'min_samples_leaf': 16, 'min_samples_split': 3}. Best is trial 36 with value: 0.6917417820408212.\u001b[0m\n",
      "\u001b[32m[I 2023-08-28 23:58:58,463]\u001b[0m Trial 44 finished with value: 0.6750721187154264 and parameters: {'n_estimators': 32, 'max_depth': 9, 'min_samples_leaf': 2, 'min_samples_split': 5}. Best is trial 36 with value: 0.6917417820408212.\u001b[0m\n",
      "\u001b[32m[I 2023-08-28 23:58:58,702]\u001b[0m Trial 45 finished with value: 0.32175501804398393 and parameters: {'n_estimators': 14, 'max_depth': 2, 'min_samples_leaf': 1, 'min_samples_split': 3}. Best is trial 36 with value: 0.6917417820408212.\u001b[0m\n",
      "\u001b[32m[I 2023-08-28 23:58:59,013]\u001b[0m Trial 46 finished with value: 0.1883939236668264 and parameters: {'n_estimators': 29, 'max_depth': 1, 'min_samples_leaf': 5, 'min_samples_split': 2}. Best is trial 36 with value: 0.6917417820408212.\u001b[0m\n",
      "\u001b[32m[I 2023-08-28 23:58:59,956]\u001b[0m Trial 47 finished with value: 0.6217776581480104 and parameters: {'n_estimators': 21, 'max_depth': 7, 'min_samples_leaf': 2, 'min_samples_split': 5}. Best is trial 36 with value: 0.6917417820408212.\u001b[0m\n",
      "\u001b[32m[I 2023-08-28 23:59:01,773]\u001b[0m Trial 48 finished with value: 0.6669503680113584 and parameters: {'n_estimators': 34, 'max_depth': 10, 'min_samples_leaf': 4, 'min_samples_split': 3}. Best is trial 36 with value: 0.6917417820408212.\u001b[0m\n",
      "\u001b[32m[I 2023-08-28 23:59:02,621]\u001b[0m Trial 49 finished with value: 0.3959495618036639 and parameters: {'n_estimators': 39, 'max_depth': 3, 'min_samples_leaf': 6, 'min_samples_split': 4}. Best is trial 36 with value: 0.6917417820408212.\u001b[0m\n",
      "\u001b[32m[I 2023-08-28 23:59:03,299]\u001b[0m Trial 50 finished with value: 0.577261092391241 and parameters: {'n_estimators': 17, 'max_depth': 10, 'min_samples_leaf': 14, 'min_samples_split': 20}. Best is trial 36 with value: 0.6917417820408212.\u001b[0m\n",
      "\u001b[32m[I 2023-08-28 23:59:04,779]\u001b[0m Trial 51 finished with value: 0.6834762701158386 and parameters: {'n_estimators': 25, 'max_depth': 10, 'min_samples_leaf': 2, 'min_samples_split': 4}. Best is trial 36 with value: 0.6917417820408212.\u001b[0m\n",
      "\u001b[32m[I 2023-08-28 23:59:06,199]\u001b[0m Trial 52 finished with value: 0.6715953637139129 and parameters: {'n_estimators': 26, 'max_depth': 9, 'min_samples_leaf': 2, 'min_samples_split': 5}. Best is trial 36 with value: 0.6917417820408212.\u001b[0m\n",
      "\u001b[32m[I 2023-08-28 23:59:08,046]\u001b[0m Trial 53 finished with value: 0.686650805552342 and parameters: {'n_estimators': 29, 'max_depth': 10, 'min_samples_leaf': 1, 'min_samples_split': 2}. Best is trial 36 with value: 0.6917417820408212.\u001b[0m\n",
      "\u001b[32m[I 2023-08-28 23:59:09,733]\u001b[0m Trial 54 finished with value: 0.6770700544481065 and parameters: {'n_estimators': 29, 'max_depth': 9, 'min_samples_leaf': 1, 'min_samples_split': 2}. Best is trial 36 with value: 0.6917417820408212.\u001b[0m\n",
      "\u001b[32m[I 2023-08-28 23:59:10,493]\u001b[0m Trial 55 finished with value: 0.6658027769625245 and parameters: {'n_estimators': 12, 'max_depth': 10, 'min_samples_leaf': 1, 'min_samples_split': 3}. Best is trial 36 with value: 0.6917417820408212.\u001b[0m\n",
      "\u001b[32m[I 2023-08-28 23:59:11,959]\u001b[0m Trial 56 finished with value: 0.6404666510999776 and parameters: {'n_estimators': 31, 'max_depth': 8, 'min_samples_leaf': 4, 'min_samples_split': 6}. Best is trial 36 with value: 0.6917417820408212.\u001b[0m\n",
      "\u001b[32m[I 2023-08-28 23:59:13,189]\u001b[0m Trial 57 finished with value: 0.5098346908237803 and parameters: {'n_estimators': 37, 'max_depth': 5, 'min_samples_leaf': 2, 'min_samples_split': 17}. Best is trial 36 with value: 0.6917417820408212.\u001b[0m\n",
      "\u001b[32m[I 2023-08-28 23:59:14,415]\u001b[0m Trial 58 finished with value: 0.6749267552471799 and parameters: {'n_estimators': 21, 'max_depth': 9, 'min_samples_leaf': 1, 'min_samples_split': 2}. Best is trial 36 with value: 0.6917417820408212.\u001b[0m\n",
      "\u001b[32m[I 2023-08-28 23:59:15,300]\u001b[0m Trial 59 finished with value: 0.6440232009343425 and parameters: {'n_estimators': 17, 'max_depth': 10, 'min_samples_leaf': 5, 'min_samples_split': 3}. Best is trial 36 with value: 0.6917417820408212.\u001b[0m\n",
      "\u001b[32m[I 2023-08-28 23:59:16,679]\u001b[0m Trial 60 finished with value: 0.6393879784638042 and parameters: {'n_estimators': 29, 'max_depth': 8, 'min_samples_leaf': 4, 'min_samples_split': 6}. Best is trial 36 with value: 0.6917417820408212.\u001b[0m\n",
      "\u001b[32m[I 2023-08-28 23:59:18,217]\u001b[0m Trial 61 finished with value: 0.6852055480390831 and parameters: {'n_estimators': 26, 'max_depth': 10, 'min_samples_leaf': 2, 'min_samples_split': 4}. Best is trial 36 with value: 0.6917417820408212.\u001b[0m\n",
      "\u001b[32m[I 2023-08-28 23:59:20,682]\u001b[0m Trial 62 finished with value: 0.686315269922344 and parameters: {'n_estimators': 41, 'max_depth': 10, 'min_samples_leaf': 1, 'min_samples_split': 5}. Best is trial 36 with value: 0.6917417820408212.\u001b[0m\n",
      "\u001b[32m[I 2023-08-28 23:59:23,149]\u001b[0m Trial 63 finished with value: 0.686315269922344 and parameters: {'n_estimators': 41, 'max_depth': 10, 'min_samples_leaf': 1, 'min_samples_split': 5}. Best is trial 36 with value: 0.6917417820408212.\u001b[0m\n",
      "\u001b[32m[I 2023-08-28 23:59:25,319]\u001b[0m Trial 64 finished with value: 0.6719872420012708 and parameters: {'n_estimators': 39, 'max_depth': 9, 'min_samples_leaf': 1, 'min_samples_split': 5}. Best is trial 36 with value: 0.6917417820408212.\u001b[0m\n",
      "\u001b[32m[I 2023-08-28 23:59:27,981]\u001b[0m Trial 65 finished with value: 0.6873350963989798 and parameters: {'n_estimators': 42, 'max_depth': 10, 'min_samples_leaf': 1, 'min_samples_split': 2}. Best is trial 36 with value: 0.6917417820408212.\u001b[0m\n",
      "\u001b[32m[I 2023-08-28 23:59:30,414]\u001b[0m Trial 66 finished with value: 0.677124505009128 and parameters: {'n_estimators': 42, 'max_depth': 9, 'min_samples_leaf': 1, 'min_samples_split': 2}. Best is trial 36 with value: 0.6917417820408212.\u001b[0m\n",
      "\u001b[32m[I 2023-08-28 23:59:33,517]\u001b[0m Trial 67 finished with value: 0.6902097375536196 and parameters: {'n_estimators': 50, 'max_depth': 10, 'min_samples_leaf': 1, 'min_samples_split': 3}. Best is trial 36 with value: 0.6917417820408212.\u001b[0m\n",
      "\u001b[32m[I 2023-08-28 23:59:36,631]\u001b[0m Trial 68 finished with value: 0.680473817879246 and parameters: {'n_estimators': 54, 'max_depth': 9, 'min_samples_leaf': 1, 'min_samples_split': 2}. Best is trial 36 with value: 0.6917417820408212.\u001b[0m\n",
      "\u001b[32m[I 2023-08-28 23:59:38,559]\u001b[0m Trial 69 finished with value: 0.5750455254185337 and parameters: {'n_estimators': 50, 'max_depth': 6, 'min_samples_leaf': 3, 'min_samples_split': 5}. Best is trial 36 with value: 0.6917417820408212.\u001b[0m\n",
      "\u001b[32m[I 2023-08-28 23:59:41,163]\u001b[0m Trial 70 finished with value: 0.6900107450511774 and parameters: {'n_estimators': 42, 'max_depth': 10, 'min_samples_leaf': 1, 'min_samples_split': 3}. Best is trial 36 with value: 0.6917417820408212.\u001b[0m\n",
      "\u001b[32m[I 2023-08-28 23:59:43,888]\u001b[0m Trial 71 finished with value: 0.6904621533326518 and parameters: {'n_estimators': 44, 'max_depth': 10, 'min_samples_leaf': 1, 'min_samples_split': 3}. Best is trial 36 with value: 0.6917417820408212.\u001b[0m\n",
      "\u001b[32m[I 2023-08-28 23:59:46,515]\u001b[0m Trial 72 finished with value: 0.6794017865914381 and parameters: {'n_estimators': 47, 'max_depth': 10, 'min_samples_leaf': 3, 'min_samples_split': 3}. Best is trial 36 with value: 0.6917417820408212.\u001b[0m\n",
      "\u001b[32m[I 2023-08-28 23:59:49,618]\u001b[0m Trial 73 finished with value: 0.6887424984763358 and parameters: {'n_estimators': 49, 'max_depth': 10, 'min_samples_leaf': 1, 'min_samples_split': 2}. Best is trial 36 with value: 0.6917417820408212.\u001b[0m\n",
      "\u001b[32m[I 2023-08-28 23:59:52,853]\u001b[0m Trial 74 finished with value: 0.6806946975252579 and parameters: {'n_estimators': 56, 'max_depth': 9, 'min_samples_leaf': 1, 'min_samples_split': 2}. Best is trial 36 with value: 0.6917417820408212.\u001b[0m\n",
      "\u001b[32m[I 2023-08-28 23:59:54,511]\u001b[0m Trial 75 finished with value: 0.5394153322002369 and parameters: {'n_estimators': 49, 'max_depth': 10, 'min_samples_leaf': 20, 'min_samples_split': 3}. Best is trial 36 with value: 0.6917417820408212.\u001b[0m\n",
      "\u001b[32m[I 2023-08-28 23:59:57,454]\u001b[0m Trial 76 finished with value: 0.6802551567714388 and parameters: {'n_estimators': 53, 'max_depth': 10, 'min_samples_leaf': 3, 'min_samples_split': 2}. Best is trial 36 with value: 0.6917417820408212.\u001b[0m\n",
      "\u001b[32m[I 2023-08-28 23:59:59,867]\u001b[0m Trial 77 finished with value: 0.677827898138041 and parameters: {'n_estimators': 44, 'max_depth': 9, 'min_samples_leaf': 2, 'min_samples_split': 3}. Best is trial 36 with value: 0.6917417820408212.\u001b[0m\n",
      "\u001b[32m[I 2023-08-29 00:00:01,093]\u001b[0m Trial 78 finished with value: 0.544765237518719 and parameters: {'n_estimators': 34, 'max_depth': 10, 'min_samples_leaf': 19, 'min_samples_split': 2}. Best is trial 36 with value: 0.6917417820408212.\u001b[0m\n",
      "\u001b[32m[I 2023-08-29 00:00:03,499]\u001b[0m Trial 79 finished with value: 0.6677836339761625 and parameters: {'n_estimators': 44, 'max_depth': 9, 'min_samples_leaf': 3, 'min_samples_split': 4}. Best is trial 36 with value: 0.6917417820408212.\u001b[0m\n",
      "\u001b[32m[I 2023-08-29 00:00:07,516]\u001b[0m Trial 80 finished with value: 0.6933025108598357 and parameters: {'n_estimators': 64, 'max_depth': 10, 'min_samples_leaf': 1, 'min_samples_split': 3}. Best is trial 80 with value: 0.6933025108598357.\u001b[0m\n",
      "\u001b[32m[I 2023-08-29 00:00:10,487]\u001b[0m Trial 81 finished with value: 0.6907954902912439 and parameters: {'n_estimators': 48, 'max_depth': 10, 'min_samples_leaf': 1, 'min_samples_split': 3}. Best is trial 80 with value: 0.6933025108598357.\u001b[0m\n",
      "\u001b[32m[I 2023-08-29 00:00:14,300]\u001b[0m Trial 82 finished with value: 0.6927784265143286 and parameters: {'n_estimators': 65, 'max_depth': 10, 'min_samples_leaf': 2, 'min_samples_split': 3}. Best is trial 80 with value: 0.6933025108598357.\u001b[0m\n",
      "\u001b[32m[I 2023-08-29 00:00:18,109]\u001b[0m Trial 83 finished with value: 0.6927784265143286 and parameters: {'n_estimators': 65, 'max_depth': 10, 'min_samples_leaf': 2, 'min_samples_split': 3}. Best is trial 80 with value: 0.6933025108598357.\u001b[0m\n",
      "\u001b[32m[I 2023-08-29 00:00:21,503]\u001b[0m Trial 84 finished with value: 0.6733551282137346 and parameters: {'n_estimators': 64, 'max_depth': 10, 'min_samples_leaf': 4, 'min_samples_split': 3}. Best is trial 80 with value: 0.6933025108598357.\u001b[0m\n",
      "\u001b[32m[I 2023-08-29 00:00:24,586]\u001b[0m Trial 85 finished with value: 0.6725661003243111 and parameters: {'n_estimators': 59, 'max_depth': 9, 'min_samples_leaf': 3, 'min_samples_split': 3}. Best is trial 80 with value: 0.6933025108598357.\u001b[0m\n",
      "\u001b[32m[I 2023-08-29 00:00:28,599]\u001b[0m Trial 86 finished with value: 0.6706516770917113 and parameters: {'n_estimators': 74, 'max_depth': 10, 'min_samples_leaf': 2, 'min_samples_split': 12}. Best is trial 80 with value: 0.6933025108598357.\u001b[0m\n",
      "\u001b[32m[I 2023-08-29 00:00:32,915]\u001b[0m Trial 87 finished with value: 0.6917811809906557 and parameters: {'n_estimators': 71, 'max_depth': 10, 'min_samples_leaf': 1, 'min_samples_split': 4}. Best is trial 80 with value: 0.6933025108598357.\u001b[0m\n",
      "\u001b[32m[I 2023-08-29 00:00:36,088]\u001b[0m Trial 88 finished with value: 0.6233755216323691 and parameters: {'n_estimators': 71, 'max_depth': 9, 'min_samples_leaf': 8, 'min_samples_split': 4}. Best is trial 80 with value: 0.6933025108598357.\u001b[0m\n",
      "\u001b[32m[I 2023-08-29 00:00:38,346]\u001b[0m Trial 89 finished with value: 0.4692114582819601 and parameters: {'n_estimators': 82, 'max_depth': 4, 'min_samples_leaf': 2, 'min_samples_split': 6}. Best is trial 80 with value: 0.6933025108598357.\u001b[0m\n",
      "\u001b[32m[I 2023-08-29 00:00:40,474]\u001b[0m Trial 90 finished with value: 0.5155435636547091 and parameters: {'n_estimators': 64, 'max_depth': 5, 'min_samples_leaf': 3, 'min_samples_split': 4}. Best is trial 80 with value: 0.6933025108598357.\u001b[0m\n",
      "\u001b[32m[I 2023-08-29 00:00:45,295]\u001b[0m Trial 91 finished with value: 0.6944589887269578 and parameters: {'n_estimators': 78, 'max_depth': 10, 'min_samples_leaf': 1, 'min_samples_split': 3}. Best is trial 91 with value: 0.6944589887269578.\u001b[0m\n",
      "\u001b[32m[I 2023-08-29 00:00:50,193]\u001b[0m Trial 92 finished with value: 0.6942645556672715 and parameters: {'n_estimators': 79, 'max_depth': 10, 'min_samples_leaf': 1, 'min_samples_split': 3}. Best is trial 91 with value: 0.6944589887269578.\u001b[0m\n",
      "\u001b[32m[I 2023-08-29 00:00:54,356]\u001b[0m Trial 93 finished with value: 0.6928957010549487 and parameters: {'n_estimators': 71, 'max_depth': 10, 'min_samples_leaf': 2, 'min_samples_split': 3}. Best is trial 91 with value: 0.6944589887269578.\u001b[0m\n",
      "\u001b[32m[I 2023-08-29 00:00:59,426]\u001b[0m Trial 94 finished with value: 0.6920848714043873 and parameters: {'n_estimators': 84, 'max_depth': 10, 'min_samples_leaf': 2, 'min_samples_split': 4}. Best is trial 91 with value: 0.6944589887269578.\u001b[0m\n",
      "\u001b[32m[I 2023-08-29 00:01:04,507]\u001b[0m Trial 95 finished with value: 0.6925895277024576 and parameters: {'n_estimators': 86, 'max_depth': 10, 'min_samples_leaf': 2, 'min_samples_split': 4}. Best is trial 91 with value: 0.6944589887269578.\u001b[0m\n",
      "\u001b[32m[I 2023-08-29 00:01:08,809]\u001b[0m Trial 96 finished with value: 0.6652824962472745 and parameters: {'n_estimators': 85, 'max_depth': 9, 'min_samples_leaf': 4, 'min_samples_split': 4}. Best is trial 91 with value: 0.6944589887269578.\u001b[0m\n",
      "\u001b[32m[I 2023-08-29 00:01:13,387]\u001b[0m Trial 97 finished with value: 0.692380116422863 and parameters: {'n_estimators': 78, 'max_depth': 10, 'min_samples_leaf': 2, 'min_samples_split': 4}. Best is trial 91 with value: 0.6944589887269578.\u001b[0m\n",
      "\u001b[32m[I 2023-08-29 00:01:18,089]\u001b[0m Trial 98 finished with value: 0.6916071440448015 and parameters: {'n_estimators': 79, 'max_depth': 10, 'min_samples_leaf': 2, 'min_samples_split': 5}. Best is trial 91 with value: 0.6944589887269578.\u001b[0m\n",
      "\u001b[32m[I 2023-08-29 00:01:22,395]\u001b[0m Trial 99 finished with value: 0.6832319741905066 and parameters: {'n_estimators': 77, 'max_depth': 10, 'min_samples_leaf': 3, 'min_samples_split': 4}. Best is trial 91 with value: 0.6944589887269578.\u001b[0m\n"
     ]
    },
    {
     "name": "stdout",
     "output_type": "stream",
     "text": [
      "Best r2:  0.6944589887269578\n",
      "Best trial: {'n_estimators': 78, 'max_depth': 10, 'min_samples_leaf': 1, 'min_samples_split': 3}\n"
     ]
    }
   ],
   "source": [
    "sampler = TPESampler()\n",
    "study = optuna.create_study(\n",
    "    study_name=\"rf_parameter_opt\",\n",
    "    direction=\"maximize\",\n",
    "    sampler=sampler,\n",
    ")\n",
    "\n",
    "study.optimize(lambda trial : objectiveRF(trial, Ni_X_train, Ni_y_train), n_trials=100)\n",
    "print(\"Best r2: \", study.best_value)\n",
    "print(\"Best trial:\", study.best_trial.params)"
   ]
  },
  {
   "cell_type": "code",
   "execution_count": 45,
   "id": "d71c01fb",
   "metadata": {},
   "outputs": [
    {
     "data": {
      "application/vnd.plotly.v1+json": {
       "config": {
        "plotlyServerURL": "https://plot.ly"
       },
       "data": [
        {
         "dimensions": [
          {
           "label": "Objective Value",
           "range": [
            0.1883939236668264,
            0.6944589887269578
           ],
           "values": [
            0.3240944696595821,
            0.1883939236668264,
            0.19032495481380873,
            0.5763298429906545,
            0.6286896452895012,
            0.4637679193685985,
            0.6460988909203879,
            0.5524023300777046,
            0.5429200832696096,
            0.6482807315844201,
            0.64682813931752,
            0.6470339268040312,
            0.5122182795507049,
            0.6348655191313771,
            0.6437570580171355,
            0.5716640958675674,
            0.457746549653104,
            0.6226622477019393,
            0.6374996320524356,
            0.5716642110442491,
            0.5401151099184089,
            0.6471703099350655,
            0.6480232523696765,
            0.6807347638332727,
            0.6741753024951576,
            0.6695003897543613,
            0.6378184548222958,
            0.6683882609390288,
            0.6700065484400348,
            0.6410329183618413,
            0.6712492548803608,
            0.6712492548803608,
            0.6622450764708105,
            0.666825685720798,
            0.32513481127512184,
            0.5953484924481895,
            0.6917417820408212,
            0.6852055480390831,
            0.6852055480390831,
            0.682855154128878,
            0.6875231830915786,
            0.6852055480390831,
            0.6861043473545088,
            0.562244442517438,
            0.6750721187154264,
            0.32175501804398393,
            0.1883939236668264,
            0.6217776581480104,
            0.6669503680113584,
            0.3959495618036639,
            0.577261092391241,
            0.6834762701158386,
            0.6715953637139129,
            0.686650805552342,
            0.6770700544481065,
            0.6658027769625245,
            0.6404666510999776,
            0.5098346908237803,
            0.6749267552471799,
            0.6440232009343425,
            0.6393879784638042,
            0.6852055480390831,
            0.686315269922344,
            0.686315269922344,
            0.6719872420012708,
            0.6873350963989798,
            0.677124505009128,
            0.6902097375536196,
            0.680473817879246,
            0.5750455254185337,
            0.6900107450511774,
            0.6904621533326518,
            0.6794017865914381,
            0.6887424984763358,
            0.6806946975252579,
            0.5394153322002369,
            0.6802551567714388,
            0.677827898138041,
            0.544765237518719,
            0.6677836339761625,
            0.6933025108598357,
            0.6907954902912439,
            0.6927784265143286,
            0.6927784265143286,
            0.6733551282137346,
            0.6725661003243111,
            0.6706516770917113,
            0.6917811809906557,
            0.6233755216323691,
            0.4692114582819601,
            0.5155435636547091,
            0.6944589887269578,
            0.6942645556672715,
            0.6928957010549487,
            0.6920848714043873,
            0.6925895277024576,
            0.6652824962472745,
            0.692380116422863,
            0.6916071440448015,
            0.6832319741905066
           ]
          },
          {
           "label": "max_depth",
           "range": [
            1,
            10
           ],
           "values": [
            2,
            1,
            1,
            9,
            10,
            4,
            10,
            7,
            6,
            8,
            8,
            8,
            5,
            8,
            8,
            6,
            4,
            7,
            9,
            7,
            9,
            8,
            8,
            10,
            10,
            10,
            10,
            10,
            9,
            9,
            9,
            9,
            10,
            9,
            2,
            9,
            10,
            10,
            10,
            10,
            10,
            10,
            10,
            10,
            9,
            2,
            1,
            7,
            10,
            3,
            10,
            10,
            9,
            10,
            9,
            10,
            8,
            5,
            9,
            10,
            8,
            10,
            10,
            10,
            9,
            10,
            9,
            10,
            9,
            6,
            10,
            10,
            10,
            10,
            9,
            10,
            10,
            9,
            10,
            9,
            10,
            10,
            10,
            10,
            10,
            9,
            10,
            10,
            9,
            4,
            5,
            10,
            10,
            10,
            10,
            10,
            9,
            10,
            10,
            10
           ]
          },
          {
           "label": "min_samples_leaf",
           "range": [
            1,
            20
           ],
           "values": [
            18,
            17,
            10,
            14,
            8,
            9,
            2,
            16,
            13,
            1,
            1,
            1,
            5,
            5,
            4,
            1,
            7,
            3,
            6,
            12,
            20,
            1,
            3,
            3,
            3,
            4,
            7,
            4,
            3,
            6,
            3,
            3,
            5,
            3,
            9,
            11,
            2,
            2,
            2,
            2,
            2,
            2,
            2,
            16,
            2,
            1,
            5,
            2,
            4,
            6,
            14,
            2,
            2,
            1,
            1,
            1,
            4,
            2,
            1,
            5,
            4,
            2,
            1,
            1,
            1,
            1,
            1,
            1,
            1,
            3,
            1,
            1,
            3,
            1,
            1,
            20,
            3,
            2,
            19,
            3,
            1,
            1,
            2,
            2,
            4,
            3,
            2,
            1,
            8,
            2,
            3,
            1,
            1,
            2,
            2,
            2,
            4,
            2,
            2,
            3
           ]
          },
          {
           "label": "min_samples_split",
           "range": [
            2,
            20
           ],
           "values": [
            4,
            19,
            6,
            16,
            14,
            7,
            19,
            18,
            5,
            10,
            10,
            10,
            10,
            13,
            8,
            12,
            2,
            9,
            14,
            11,
            15,
            10,
            9,
            7,
            8,
            3,
            2,
            4,
            6,
            6,
            7,
            7,
            8,
            7,
            5,
            8,
            4,
            4,
            4,
            4,
            4,
            4,
            3,
            3,
            5,
            3,
            2,
            5,
            3,
            4,
            20,
            4,
            5,
            2,
            2,
            3,
            6,
            17,
            2,
            3,
            6,
            4,
            5,
            5,
            5,
            2,
            2,
            3,
            2,
            5,
            3,
            3,
            3,
            2,
            2,
            3,
            2,
            3,
            2,
            4,
            3,
            3,
            3,
            3,
            3,
            3,
            12,
            4,
            4,
            6,
            4,
            3,
            3,
            3,
            4,
            4,
            4,
            4,
            5,
            4
           ]
          },
          {
           "label": "n_estimators",
           "range": [
            10,
            100
           ],
           "values": [
            23,
            29,
            31,
            100,
            83,
            99,
            37,
            91,
            20,
            94,
            68,
            70,
            65,
            75,
            46,
            57,
            10,
            81,
            53,
            89,
            69,
            66,
            59,
            58,
            46,
            45,
            46,
            42,
            51,
            51,
            61,
            61,
            61,
            36,
            74,
            61,
            54,
            26,
            26,
            24,
            28,
            26,
            27,
            18,
            32,
            14,
            29,
            21,
            34,
            39,
            17,
            25,
            26,
            29,
            29,
            12,
            31,
            37,
            21,
            17,
            29,
            26,
            41,
            41,
            39,
            42,
            42,
            50,
            54,
            50,
            42,
            44,
            47,
            49,
            56,
            49,
            53,
            44,
            34,
            44,
            64,
            48,
            65,
            65,
            64,
            59,
            74,
            71,
            71,
            82,
            64,
            78,
            79,
            71,
            84,
            86,
            85,
            78,
            79,
            77
           ]
          }
         ],
         "labelangle": 30,
         "labelside": "bottom",
         "line": {
          "color": [
           0.3240944696595821,
           0.1883939236668264,
           0.19032495481380873,
           0.5763298429906545,
           0.6286896452895012,
           0.4637679193685985,
           0.6460988909203879,
           0.5524023300777046,
           0.5429200832696096,
           0.6482807315844201,
           0.64682813931752,
           0.6470339268040312,
           0.5122182795507049,
           0.6348655191313771,
           0.6437570580171355,
           0.5716640958675674,
           0.457746549653104,
           0.6226622477019393,
           0.6374996320524356,
           0.5716642110442491,
           0.5401151099184089,
           0.6471703099350655,
           0.6480232523696765,
           0.6807347638332727,
           0.6741753024951576,
           0.6695003897543613,
           0.6378184548222958,
           0.6683882609390288,
           0.6700065484400348,
           0.6410329183618413,
           0.6712492548803608,
           0.6712492548803608,
           0.6622450764708105,
           0.666825685720798,
           0.32513481127512184,
           0.5953484924481895,
           0.6917417820408212,
           0.6852055480390831,
           0.6852055480390831,
           0.682855154128878,
           0.6875231830915786,
           0.6852055480390831,
           0.6861043473545088,
           0.562244442517438,
           0.6750721187154264,
           0.32175501804398393,
           0.1883939236668264,
           0.6217776581480104,
           0.6669503680113584,
           0.3959495618036639,
           0.577261092391241,
           0.6834762701158386,
           0.6715953637139129,
           0.686650805552342,
           0.6770700544481065,
           0.6658027769625245,
           0.6404666510999776,
           0.5098346908237803,
           0.6749267552471799,
           0.6440232009343425,
           0.6393879784638042,
           0.6852055480390831,
           0.686315269922344,
           0.686315269922344,
           0.6719872420012708,
           0.6873350963989798,
           0.677124505009128,
           0.6902097375536196,
           0.680473817879246,
           0.5750455254185337,
           0.6900107450511774,
           0.6904621533326518,
           0.6794017865914381,
           0.6887424984763358,
           0.6806946975252579,
           0.5394153322002369,
           0.6802551567714388,
           0.677827898138041,
           0.544765237518719,
           0.6677836339761625,
           0.6933025108598357,
           0.6907954902912439,
           0.6927784265143286,
           0.6927784265143286,
           0.6733551282137346,
           0.6725661003243111,
           0.6706516770917113,
           0.6917811809906557,
           0.6233755216323691,
           0.4692114582819601,
           0.5155435636547091,
           0.6944589887269578,
           0.6942645556672715,
           0.6928957010549487,
           0.6920848714043873,
           0.6925895277024576,
           0.6652824962472745,
           0.692380116422863,
           0.6916071440448015,
           0.6832319741905066
          ],
          "colorbar": {
           "title": {
            "text": "Objective Value"
           }
          },
          "colorscale": [
           [
            0,
            "rgb(247,251,255)"
           ],
           [
            0.125,
            "rgb(222,235,247)"
           ],
           [
            0.25,
            "rgb(198,219,239)"
           ],
           [
            0.375,
            "rgb(158,202,225)"
           ],
           [
            0.5,
            "rgb(107,174,214)"
           ],
           [
            0.625,
            "rgb(66,146,198)"
           ],
           [
            0.75,
            "rgb(33,113,181)"
           ],
           [
            0.875,
            "rgb(8,81,156)"
           ],
           [
            1,
            "rgb(8,48,107)"
           ]
          ],
          "reversescale": false,
          "showscale": true
         },
         "type": "parcoords"
        }
       ],
       "layout": {
        "template": {
         "data": {
          "bar": [
           {
            "error_x": {
             "color": "#2a3f5f"
            },
            "error_y": {
             "color": "#2a3f5f"
            },
            "marker": {
             "line": {
              "color": "#E5ECF6",
              "width": 0.5
             },
             "pattern": {
              "fillmode": "overlay",
              "size": 10,
              "solidity": 0.2
             }
            },
            "type": "bar"
           }
          ],
          "barpolar": [
           {
            "marker": {
             "line": {
              "color": "#E5ECF6",
              "width": 0.5
             },
             "pattern": {
              "fillmode": "overlay",
              "size": 10,
              "solidity": 0.2
             }
            },
            "type": "barpolar"
           }
          ],
          "carpet": [
           {
            "aaxis": {
             "endlinecolor": "#2a3f5f",
             "gridcolor": "white",
             "linecolor": "white",
             "minorgridcolor": "white",
             "startlinecolor": "#2a3f5f"
            },
            "baxis": {
             "endlinecolor": "#2a3f5f",
             "gridcolor": "white",
             "linecolor": "white",
             "minorgridcolor": "white",
             "startlinecolor": "#2a3f5f"
            },
            "type": "carpet"
           }
          ],
          "choropleth": [
           {
            "colorbar": {
             "outlinewidth": 0,
             "ticks": ""
            },
            "type": "choropleth"
           }
          ],
          "contour": [
           {
            "colorbar": {
             "outlinewidth": 0,
             "ticks": ""
            },
            "colorscale": [
             [
              0,
              "#0d0887"
             ],
             [
              0.1111111111111111,
              "#46039f"
             ],
             [
              0.2222222222222222,
              "#7201a8"
             ],
             [
              0.3333333333333333,
              "#9c179e"
             ],
             [
              0.4444444444444444,
              "#bd3786"
             ],
             [
              0.5555555555555556,
              "#d8576b"
             ],
             [
              0.6666666666666666,
              "#ed7953"
             ],
             [
              0.7777777777777778,
              "#fb9f3a"
             ],
             [
              0.8888888888888888,
              "#fdca26"
             ],
             [
              1,
              "#f0f921"
             ]
            ],
            "type": "contour"
           }
          ],
          "contourcarpet": [
           {
            "colorbar": {
             "outlinewidth": 0,
             "ticks": ""
            },
            "type": "contourcarpet"
           }
          ],
          "heatmap": [
           {
            "colorbar": {
             "outlinewidth": 0,
             "ticks": ""
            },
            "colorscale": [
             [
              0,
              "#0d0887"
             ],
             [
              0.1111111111111111,
              "#46039f"
             ],
             [
              0.2222222222222222,
              "#7201a8"
             ],
             [
              0.3333333333333333,
              "#9c179e"
             ],
             [
              0.4444444444444444,
              "#bd3786"
             ],
             [
              0.5555555555555556,
              "#d8576b"
             ],
             [
              0.6666666666666666,
              "#ed7953"
             ],
             [
              0.7777777777777778,
              "#fb9f3a"
             ],
             [
              0.8888888888888888,
              "#fdca26"
             ],
             [
              1,
              "#f0f921"
             ]
            ],
            "type": "heatmap"
           }
          ],
          "heatmapgl": [
           {
            "colorbar": {
             "outlinewidth": 0,
             "ticks": ""
            },
            "colorscale": [
             [
              0,
              "#0d0887"
             ],
             [
              0.1111111111111111,
              "#46039f"
             ],
             [
              0.2222222222222222,
              "#7201a8"
             ],
             [
              0.3333333333333333,
              "#9c179e"
             ],
             [
              0.4444444444444444,
              "#bd3786"
             ],
             [
              0.5555555555555556,
              "#d8576b"
             ],
             [
              0.6666666666666666,
              "#ed7953"
             ],
             [
              0.7777777777777778,
              "#fb9f3a"
             ],
             [
              0.8888888888888888,
              "#fdca26"
             ],
             [
              1,
              "#f0f921"
             ]
            ],
            "type": "heatmapgl"
           }
          ],
          "histogram": [
           {
            "marker": {
             "pattern": {
              "fillmode": "overlay",
              "size": 10,
              "solidity": 0.2
             }
            },
            "type": "histogram"
           }
          ],
          "histogram2d": [
           {
            "colorbar": {
             "outlinewidth": 0,
             "ticks": ""
            },
            "colorscale": [
             [
              0,
              "#0d0887"
             ],
             [
              0.1111111111111111,
              "#46039f"
             ],
             [
              0.2222222222222222,
              "#7201a8"
             ],
             [
              0.3333333333333333,
              "#9c179e"
             ],
             [
              0.4444444444444444,
              "#bd3786"
             ],
             [
              0.5555555555555556,
              "#d8576b"
             ],
             [
              0.6666666666666666,
              "#ed7953"
             ],
             [
              0.7777777777777778,
              "#fb9f3a"
             ],
             [
              0.8888888888888888,
              "#fdca26"
             ],
             [
              1,
              "#f0f921"
             ]
            ],
            "type": "histogram2d"
           }
          ],
          "histogram2dcontour": [
           {
            "colorbar": {
             "outlinewidth": 0,
             "ticks": ""
            },
            "colorscale": [
             [
              0,
              "#0d0887"
             ],
             [
              0.1111111111111111,
              "#46039f"
             ],
             [
              0.2222222222222222,
              "#7201a8"
             ],
             [
              0.3333333333333333,
              "#9c179e"
             ],
             [
              0.4444444444444444,
              "#bd3786"
             ],
             [
              0.5555555555555556,
              "#d8576b"
             ],
             [
              0.6666666666666666,
              "#ed7953"
             ],
             [
              0.7777777777777778,
              "#fb9f3a"
             ],
             [
              0.8888888888888888,
              "#fdca26"
             ],
             [
              1,
              "#f0f921"
             ]
            ],
            "type": "histogram2dcontour"
           }
          ],
          "mesh3d": [
           {
            "colorbar": {
             "outlinewidth": 0,
             "ticks": ""
            },
            "type": "mesh3d"
           }
          ],
          "parcoords": [
           {
            "line": {
             "colorbar": {
              "outlinewidth": 0,
              "ticks": ""
             }
            },
            "type": "parcoords"
           }
          ],
          "pie": [
           {
            "automargin": true,
            "type": "pie"
           }
          ],
          "scatter": [
           {
            "marker": {
             "colorbar": {
              "outlinewidth": 0,
              "ticks": ""
             }
            },
            "type": "scatter"
           }
          ],
          "scatter3d": [
           {
            "line": {
             "colorbar": {
              "outlinewidth": 0,
              "ticks": ""
             }
            },
            "marker": {
             "colorbar": {
              "outlinewidth": 0,
              "ticks": ""
             }
            },
            "type": "scatter3d"
           }
          ],
          "scattercarpet": [
           {
            "marker": {
             "colorbar": {
              "outlinewidth": 0,
              "ticks": ""
             }
            },
            "type": "scattercarpet"
           }
          ],
          "scattergeo": [
           {
            "marker": {
             "colorbar": {
              "outlinewidth": 0,
              "ticks": ""
             }
            },
            "type": "scattergeo"
           }
          ],
          "scattergl": [
           {
            "marker": {
             "colorbar": {
              "outlinewidth": 0,
              "ticks": ""
             }
            },
            "type": "scattergl"
           }
          ],
          "scattermapbox": [
           {
            "marker": {
             "colorbar": {
              "outlinewidth": 0,
              "ticks": ""
             }
            },
            "type": "scattermapbox"
           }
          ],
          "scatterpolar": [
           {
            "marker": {
             "colorbar": {
              "outlinewidth": 0,
              "ticks": ""
             }
            },
            "type": "scatterpolar"
           }
          ],
          "scatterpolargl": [
           {
            "marker": {
             "colorbar": {
              "outlinewidth": 0,
              "ticks": ""
             }
            },
            "type": "scatterpolargl"
           }
          ],
          "scatterternary": [
           {
            "marker": {
             "colorbar": {
              "outlinewidth": 0,
              "ticks": ""
             }
            },
            "type": "scatterternary"
           }
          ],
          "surface": [
           {
            "colorbar": {
             "outlinewidth": 0,
             "ticks": ""
            },
            "colorscale": [
             [
              0,
              "#0d0887"
             ],
             [
              0.1111111111111111,
              "#46039f"
             ],
             [
              0.2222222222222222,
              "#7201a8"
             ],
             [
              0.3333333333333333,
              "#9c179e"
             ],
             [
              0.4444444444444444,
              "#bd3786"
             ],
             [
              0.5555555555555556,
              "#d8576b"
             ],
             [
              0.6666666666666666,
              "#ed7953"
             ],
             [
              0.7777777777777778,
              "#fb9f3a"
             ],
             [
              0.8888888888888888,
              "#fdca26"
             ],
             [
              1,
              "#f0f921"
             ]
            ],
            "type": "surface"
           }
          ],
          "table": [
           {
            "cells": {
             "fill": {
              "color": "#EBF0F8"
             },
             "line": {
              "color": "white"
             }
            },
            "header": {
             "fill": {
              "color": "#C8D4E3"
             },
             "line": {
              "color": "white"
             }
            },
            "type": "table"
           }
          ]
         },
         "layout": {
          "annotationdefaults": {
           "arrowcolor": "#2a3f5f",
           "arrowhead": 0,
           "arrowwidth": 1
          },
          "autotypenumbers": "strict",
          "coloraxis": {
           "colorbar": {
            "outlinewidth": 0,
            "ticks": ""
           }
          },
          "colorscale": {
           "diverging": [
            [
             0,
             "#8e0152"
            ],
            [
             0.1,
             "#c51b7d"
            ],
            [
             0.2,
             "#de77ae"
            ],
            [
             0.3,
             "#f1b6da"
            ],
            [
             0.4,
             "#fde0ef"
            ],
            [
             0.5,
             "#f7f7f7"
            ],
            [
             0.6,
             "#e6f5d0"
            ],
            [
             0.7,
             "#b8e186"
            ],
            [
             0.8,
             "#7fbc41"
            ],
            [
             0.9,
             "#4d9221"
            ],
            [
             1,
             "#276419"
            ]
           ],
           "sequential": [
            [
             0,
             "#0d0887"
            ],
            [
             0.1111111111111111,
             "#46039f"
            ],
            [
             0.2222222222222222,
             "#7201a8"
            ],
            [
             0.3333333333333333,
             "#9c179e"
            ],
            [
             0.4444444444444444,
             "#bd3786"
            ],
            [
             0.5555555555555556,
             "#d8576b"
            ],
            [
             0.6666666666666666,
             "#ed7953"
            ],
            [
             0.7777777777777778,
             "#fb9f3a"
            ],
            [
             0.8888888888888888,
             "#fdca26"
            ],
            [
             1,
             "#f0f921"
            ]
           ],
           "sequentialminus": [
            [
             0,
             "#0d0887"
            ],
            [
             0.1111111111111111,
             "#46039f"
            ],
            [
             0.2222222222222222,
             "#7201a8"
            ],
            [
             0.3333333333333333,
             "#9c179e"
            ],
            [
             0.4444444444444444,
             "#bd3786"
            ],
            [
             0.5555555555555556,
             "#d8576b"
            ],
            [
             0.6666666666666666,
             "#ed7953"
            ],
            [
             0.7777777777777778,
             "#fb9f3a"
            ],
            [
             0.8888888888888888,
             "#fdca26"
            ],
            [
             1,
             "#f0f921"
            ]
           ]
          },
          "colorway": [
           "#636efa",
           "#EF553B",
           "#00cc96",
           "#ab63fa",
           "#FFA15A",
           "#19d3f3",
           "#FF6692",
           "#B6E880",
           "#FF97FF",
           "#FECB52"
          ],
          "font": {
           "color": "#2a3f5f"
          },
          "geo": {
           "bgcolor": "white",
           "lakecolor": "white",
           "landcolor": "#E5ECF6",
           "showlakes": true,
           "showland": true,
           "subunitcolor": "white"
          },
          "hoverlabel": {
           "align": "left"
          },
          "hovermode": "closest",
          "mapbox": {
           "style": "light"
          },
          "paper_bgcolor": "white",
          "plot_bgcolor": "#E5ECF6",
          "polar": {
           "angularaxis": {
            "gridcolor": "white",
            "linecolor": "white",
            "ticks": ""
           },
           "bgcolor": "#E5ECF6",
           "radialaxis": {
            "gridcolor": "white",
            "linecolor": "white",
            "ticks": ""
           }
          },
          "scene": {
           "xaxis": {
            "backgroundcolor": "#E5ECF6",
            "gridcolor": "white",
            "gridwidth": 2,
            "linecolor": "white",
            "showbackground": true,
            "ticks": "",
            "zerolinecolor": "white"
           },
           "yaxis": {
            "backgroundcolor": "#E5ECF6",
            "gridcolor": "white",
            "gridwidth": 2,
            "linecolor": "white",
            "showbackground": true,
            "ticks": "",
            "zerolinecolor": "white"
           },
           "zaxis": {
            "backgroundcolor": "#E5ECF6",
            "gridcolor": "white",
            "gridwidth": 2,
            "linecolor": "white",
            "showbackground": true,
            "ticks": "",
            "zerolinecolor": "white"
           }
          },
          "shapedefaults": {
           "line": {
            "color": "#2a3f5f"
           }
          },
          "ternary": {
           "aaxis": {
            "gridcolor": "white",
            "linecolor": "white",
            "ticks": ""
           },
           "baxis": {
            "gridcolor": "white",
            "linecolor": "white",
            "ticks": ""
           },
           "bgcolor": "#E5ECF6",
           "caxis": {
            "gridcolor": "white",
            "linecolor": "white",
            "ticks": ""
           }
          },
          "title": {
           "x": 0.05
          },
          "xaxis": {
           "automargin": true,
           "gridcolor": "white",
           "linecolor": "white",
           "ticks": "",
           "title": {
            "standoff": 15
           },
           "zerolinecolor": "white",
           "zerolinewidth": 2
          },
          "yaxis": {
           "automargin": true,
           "gridcolor": "white",
           "linecolor": "white",
           "ticks": "",
           "title": {
            "standoff": 15
           },
           "zerolinecolor": "white",
           "zerolinewidth": 2
          }
         }
        },
        "title": {
         "text": "Parallel Coordinate Plot"
        }
       }
      }
     },
     "metadata": {},
     "output_type": "display_data"
    }
   ],
   "source": [
    "optuna.visualization.plot_parallel_coordinate(study)"
   ]
  },
  {
   "cell_type": "code",
   "execution_count": 46,
   "id": "1d419df8",
   "metadata": {},
   "outputs": [
    {
     "name": "stdout",
     "output_type": "stream",
     "text": [
      "Best trial: {'n_estimators': 78, 'max_depth': 10, 'min_samples_leaf': 1, 'min_samples_split': 3}\n"
     ]
    },
    {
     "data": {
      "text/plain": [
       "78"
      ]
     },
     "execution_count": 46,
     "metadata": {},
     "output_type": "execute_result"
    }
   ],
   "source": [
    "print(\"Best trial:\", study.best_trial.params)\n",
    "study.best_trial.params[\"n_estimators\"]"
   ]
  },
  {
   "cell_type": "code",
   "execution_count": 47,
   "id": "ffefef6c",
   "metadata": {},
   "outputs": [
    {
     "data": {
      "text/html": [
       "<style>#sk-container-id-3 {color: black;}#sk-container-id-3 pre{padding: 0;}#sk-container-id-3 div.sk-toggleable {background-color: white;}#sk-container-id-3 label.sk-toggleable__label {cursor: pointer;display: block;width: 100%;margin-bottom: 0;padding: 0.3em;box-sizing: border-box;text-align: center;}#sk-container-id-3 label.sk-toggleable__label-arrow:before {content: \"▸\";float: left;margin-right: 0.25em;color: #696969;}#sk-container-id-3 label.sk-toggleable__label-arrow:hover:before {color: black;}#sk-container-id-3 div.sk-estimator:hover label.sk-toggleable__label-arrow:before {color: black;}#sk-container-id-3 div.sk-toggleable__content {max-height: 0;max-width: 0;overflow: hidden;text-align: left;background-color: #f0f8ff;}#sk-container-id-3 div.sk-toggleable__content pre {margin: 0.2em;color: black;border-radius: 0.25em;background-color: #f0f8ff;}#sk-container-id-3 input.sk-toggleable__control:checked~div.sk-toggleable__content {max-height: 200px;max-width: 100%;overflow: auto;}#sk-container-id-3 input.sk-toggleable__control:checked~label.sk-toggleable__label-arrow:before {content: \"▾\";}#sk-container-id-3 div.sk-estimator input.sk-toggleable__control:checked~label.sk-toggleable__label {background-color: #d4ebff;}#sk-container-id-3 div.sk-label input.sk-toggleable__control:checked~label.sk-toggleable__label {background-color: #d4ebff;}#sk-container-id-3 input.sk-hidden--visually {border: 0;clip: rect(1px 1px 1px 1px);clip: rect(1px, 1px, 1px, 1px);height: 1px;margin: -1px;overflow: hidden;padding: 0;position: absolute;width: 1px;}#sk-container-id-3 div.sk-estimator {font-family: monospace;background-color: #f0f8ff;border: 1px dotted black;border-radius: 0.25em;box-sizing: border-box;margin-bottom: 0.5em;}#sk-container-id-3 div.sk-estimator:hover {background-color: #d4ebff;}#sk-container-id-3 div.sk-parallel-item::after {content: \"\";width: 100%;border-bottom: 1px solid gray;flex-grow: 1;}#sk-container-id-3 div.sk-label:hover label.sk-toggleable__label {background-color: #d4ebff;}#sk-container-id-3 div.sk-serial::before {content: \"\";position: absolute;border-left: 1px solid gray;box-sizing: border-box;top: 0;bottom: 0;left: 50%;z-index: 0;}#sk-container-id-3 div.sk-serial {display: flex;flex-direction: column;align-items: center;background-color: white;padding-right: 0.2em;padding-left: 0.2em;position: relative;}#sk-container-id-3 div.sk-item {position: relative;z-index: 1;}#sk-container-id-3 div.sk-parallel {display: flex;align-items: stretch;justify-content: center;background-color: white;position: relative;}#sk-container-id-3 div.sk-item::before, #sk-container-id-3 div.sk-parallel-item::before {content: \"\";position: absolute;border-left: 1px solid gray;box-sizing: border-box;top: 0;bottom: 0;left: 50%;z-index: -1;}#sk-container-id-3 div.sk-parallel-item {display: flex;flex-direction: column;z-index: 1;position: relative;background-color: white;}#sk-container-id-3 div.sk-parallel-item:first-child::after {align-self: flex-end;width: 50%;}#sk-container-id-3 div.sk-parallel-item:last-child::after {align-self: flex-start;width: 50%;}#sk-container-id-3 div.sk-parallel-item:only-child::after {width: 0;}#sk-container-id-3 div.sk-dashed-wrapped {border: 1px dashed gray;margin: 0 0.4em 0.5em 0.4em;box-sizing: border-box;padding-bottom: 0.4em;background-color: white;}#sk-container-id-3 div.sk-label label {font-family: monospace;font-weight: bold;display: inline-block;line-height: 1.2em;}#sk-container-id-3 div.sk-label-container {text-align: center;}#sk-container-id-3 div.sk-container {/* jupyter's `normalize.less` sets `[hidden] { display: none; }` but bootstrap.min.css set `[hidden] { display: none !important; }` so we also need the `!important` here to be able to override the default hidden behavior on the sphinx rendered scikit-learn.org. See: https://github.com/scikit-learn/scikit-learn/issues/21755 */display: inline-block !important;position: relative;}#sk-container-id-3 div.sk-text-repr-fallback {display: none;}</style><div id=\"sk-container-id-3\" class=\"sk-top-container\"><div class=\"sk-text-repr-fallback\"><pre>RandomForestRegressor(max_depth=10, min_samples_split=3, n_estimators=78,\n",
       "                      random_state=42)</pre><b>In a Jupyter environment, please rerun this cell to show the HTML representation or trust the notebook. <br />On GitHub, the HTML representation is unable to render, please try loading this page with nbviewer.org.</b></div><div class=\"sk-container\" hidden><div class=\"sk-item\"><div class=\"sk-estimator sk-toggleable\"><input class=\"sk-toggleable__control sk-hidden--visually\" id=\"sk-estimator-id-3\" type=\"checkbox\" checked><label for=\"sk-estimator-id-3\" class=\"sk-toggleable__label sk-toggleable__label-arrow\">RandomForestRegressor</label><div class=\"sk-toggleable__content\"><pre>RandomForestRegressor(max_depth=10, min_samples_split=3, n_estimators=78,\n",
       "                      random_state=42)</pre></div></div></div></div></div>"
      ],
      "text/plain": [
       "RandomForestRegressor(max_depth=10, min_samples_split=3, n_estimators=78,\n",
       "                      random_state=42)"
      ]
     },
     "execution_count": 47,
     "metadata": {},
     "output_type": "execute_result"
    }
   ],
   "source": [
    "rf_params = {\n",
    "    \"random_state\": 42,\n",
    "    #\"learning_rate\": 0.1,\n",
    "    \"n_estimators\": study.best_trial.params[\"n_estimators\"],\n",
    "    \"max_depth\": study.best_trial.params[\"max_depth\"],\n",
    "    \"min_samples_leaf\": study.best_trial.params[\"min_samples_leaf\"],\n",
    "    \"min_samples_split\": study.best_trial.params[\"min_samples_split\"],\n",
    "    #\"subsample\": study.best_trial.params[\"subsample\"]\n",
    "}\n",
    "\n",
    "rf = RandomForestRegressor(**rf_params)\n",
    "rf.fit(Ni_X_train, Ni_y_train)"
   ]
  },
  {
   "cell_type": "code",
   "execution_count": 48,
   "id": "4c1a69d2",
   "metadata": {},
   "outputs": [],
   "source": [
    "y_train_pred = rf.predict(Ni_X_train)\n",
    "y_test_pred = rf.predict(Ni_X_test)"
   ]
  },
  {
   "cell_type": "code",
   "execution_count": 49,
   "id": "0f707a20",
   "metadata": {},
   "outputs": [
    {
     "name": "stdout",
     "output_type": "stream",
     "text": [
      "Train RMSE:  4.473538586261351\n",
      "Test RMSE:  13.96065920878365\n"
     ]
    }
   ],
   "source": [
    "print(\"Train RMSE: \", np.sqrt(mean_squared_error(Ni_y_train, y_train_pred)))\n",
    "print(\"Test RMSE: \", np.sqrt(mean_squared_error(Ni_y_test, y_test_pred)))"
   ]
  },
  {
   "cell_type": "code",
   "execution_count": 50,
   "id": "641d78f4",
   "metadata": {},
   "outputs": [
    {
     "name": "stdout",
     "output_type": "stream",
     "text": [
      "Train R2:  0.9227537024603574\n",
      "Test R2:  0.2516327781841383\n"
     ]
    }
   ],
   "source": [
    "print(\"Train R2: \", r2_score(Ni_y_train, y_train_pred))\n",
    "print(\"Test R2: \", r2_score(Ni_y_test, y_test_pred))"
   ]
  },
  {
   "cell_type": "code",
   "execution_count": 51,
   "id": "dd1670cb",
   "metadata": {},
   "outputs": [
    {
     "data": {
      "image/png": "[encoded data removed]",
      "text/plain": [
       "<Figure size 640x480 with 1 Axes>"
      ]
     },
     "metadata": {},
     "output_type": "display_data"
    }
   ],
   "source": [
    "plt.scatter(y_train_pred, np.array(Ni_y_train), color=\"orange\", alpha=0.3)\n",
    "plt.scatter(y_test_pred, np.array(Ni_y_test), color=\"green\", alpha=0.4)\n",
    "plt.axis(\"auto\") # scaled, tight, auto, image, square\n",
    "# plt.xlim([0, 1.5]) \n",
    "# plt.ylim(0, None) \n",
    "plt.xlabel('Predicted Values')\n",
    "plt.ylabel('Actual Values')\n",
    "\n",
    "# Add y=x line\n",
    "plt.plot([0, 4.0], [0, 4.0], color='red', linestyle='-')\n",
    "\n",
    "plt.show()"
   ]
  }
 ],
 "metadata": {
  "kernelspec": {
   "display_name": "base",
   "language": "python",
   "name": "python3"
  },
  "language_info": {
   "codemirror_mode": {
    "name": "ipython",
    "version": 3
   },
   "file_extension": ".py",
   "mimetype": "text/x-python",
   "name": "python",
   "nbconvert_exporter": "python",
   "pygments_lexer": "ipython3",
   "version": "3.8.11"
  },
  "vscode": {
   "interpreter": {
    "hash": "ba68d4d491ed2bf1e98a1b536323f5ca7371de2084cca3d5786e07ce079a51c3"
   }
  }
 },
 "nbformat": 4,
 "nbformat_minor": 5
}
