{
 "cells": [
  {
   "attachments": {},
   "cell_type": "markdown",
   "id": "451911be",
   "metadata": {},
   "source": [
    "#### Library import"
   ]
  },
  {
   "cell_type": "code",
   "execution_count": 1,
   "id": "8a394942",
   "metadata": {},
   "outputs": [],
   "source": [
    "import os\n",
    "import pandas as pd\n",
    "import numpy as np\n",
    "import matplotlib.pyplot as plt\n",
    "%matplotlib inline\n",
    "import seaborn as sns\n",
    "import tensorflow as tf\n",
    "import missingno as msno\n",
    "\n",
    "import warnings\n",
    "warnings.filterwarnings('ignore')\n",
    "\n",
    "from sklearn.model_selection import train_test_split\n",
    "from sklearn.model_selection import GridSearchCV\n",
    "from sklearn.metrics import mean_squared_error, r2_score\n",
    "from sklearn.preprocessing import StandardScaler, MinMaxScaler, RobustScaler\n",
    "from sklearn.ensemble import RandomForestRegressor, GradientBoostingRegressor, ExtraTreesRegressor\n",
    "from sklearn.model_selection import KFold\n",
    "from lightgbm import LGBMRegressor\n",
    "from xgboost import XGBRegressor\n",
    "from ngboost import NGBRegressor\n",
    "from scipy.stats import norm, skew\n",
    "\n",
    "from matplotlib.ticker import FormatStrFormatter\n",
    "\n",
    "from tensorflow import keras\n",
    "\n",
    "import re\n",
    "from tqdm import tqdm"
   ]
  },
  {
   "attachments": {},
   "cell_type": "markdown",
   "id": "31a13d68",
   "metadata": {},
   "source": [
    "#### GPU setting"
   ]
  },
  {
   "cell_type": "code",
   "execution_count": 2,
   "id": "cff3cada",
   "metadata": {},
   "outputs": [],
   "source": [
    "from tensorflow.compat.v1 import ConfigProto\n",
    "from tensorflow.compat.v1 import InteractiveSession"
   ]
  },
  {
   "cell_type": "code",
   "execution_count": 3,
   "id": "fb88e9c0",
   "metadata": {},
   "outputs": [],
   "source": [
    "config = ConfigProto()\n",
    "config.gpu_options.per_process_gpu_memory_fraction = 0.4\n",
    "session = InteractiveSession(config = config)"
   ]
  },
  {
   "cell_type": "code",
   "execution_count": 4,
   "id": "ea8f0f47",
   "metadata": {},
   "outputs": [
    {
     "name": "stdout",
     "output_type": "stream",
     "text": [
      "[name: \"/device:CPU:0\"\n",
      "device_type: \"CPU\"\n",
      "memory_limit: 268435456\n",
      "locality {\n",
      "}\n",
      "incarnation: 6314831026590117290\n",
      ", name: \"/device:GPU:0\"\n",
      "device_type: \"GPU\"\n",
      "memory_limit: 3435973836\n",
      "locality {\n",
      "  bus_id: 1\n",
      "  links {\n",
      "  }\n",
      "}\n",
      "incarnation: 15338858295615808338\n",
      "physical_device_desc: \"device: 0, name: NVIDIA GeForce RTX 3060 Ti, pci bus id: 0000:07:00.0, compute capability: 8.6\"\n",
      "]\n"
     ]
    }
   ],
   "source": [
    "physical_devices = tf.config.list_physical_devices('GPU')\n",
    "physical_devices\n",
    "\n",
    "from tensorflow.python.client import device_lib\n",
    "\n",
    "print(device_lib.list_local_devices())"
   ]
  },
  {
   "cell_type": "code",
   "execution_count": 5,
   "id": "cd001f36",
   "metadata": {},
   "outputs": [],
   "source": [
    "import os\n",
    "\n",
    "os.environ[\"CUDA_VISIBLE_DEVICES\"]=\"0\"\n",
    "gpus = tf.config.experimental.list_physical_devices('GPU')\n",
    "if gpus:\n",
    "    try:\n",
    "        tf.config.experimental.set_memory_growth(gpus[0], True)\n",
    "    except RuntimeError as e:\n",
    "        print(e)"
   ]
  },
  {
   "attachments": {},
   "cell_type": "markdown",
   "id": "cb740f81",
   "metadata": {},
   "source": [
    "#### Data import and preprocessing"
   ]
  },
  {
   "cell_type": "code",
   "execution_count": 6,
   "id": "9288345d",
   "metadata": {
    "scrolled": true
   },
   "outputs": [
    {
     "data": {
      "text/plain": [
       "Index(['OBJECTID_x', 'ID', 'pH', 'As', 'Cd', 'Ni', 'Pb', 'Zn', 'Hg', 'slope',\n",
       "       'altitude', 'profile_curve', 'profile_c_num', 'profile_c_abs',\n",
       "       'planform_curve', 'planform_c_num', 'planform_c_abs', 'HYDGRP',\n",
       "       'HYDGRP_A', 'HYDGRP_B', 'HYDGRP_C', 'HYDGRP_D', 'ANION_EXCL', 'SOL_CRK',\n",
       "       'SOL_K1', 'CLAY1', 'SILT1', 'SAND1', 'ROCK1', 'SOL_EC1', 'distance'],\n",
       "      dtype='object')"
      ]
     },
     "execution_count": 6,
     "metadata": {},
     "output_type": "execute_result"
    }
   ],
   "source": [
    "data = pd.read_csv(\"data/data.csv\")\n",
    "data.columns"
   ]
  },
  {
   "cell_type": "code",
   "execution_count": 7,
   "id": "bbf87a23",
   "metadata": {},
   "outputs": [
    {
     "data": {
      "text/plain": [
       "Index(['pH', 'As', 'Cd', 'Ni', 'Pb', 'Zn', 'Hg', 'slope', 'altitude',\n",
       "       'profile_curve', 'planform_curve', 'HYDGRP_A', 'HYDGRP_B', 'HYDGRP_C',\n",
       "       'HYDGRP_D', 'SOL_K1', 'CLAY1', 'SILT1', 'SAND1', 'ROCK1', 'distance'],\n",
       "      dtype='object')"
      ]
     },
     "execution_count": 7,
     "metadata": {},
     "output_type": "execute_result"
    }
   ],
   "source": [
    "data = data.drop(['OBJECTID_x','ID','HYDGRP','profile_c_num', 'profile_c_abs','planform_c_num', 'planform_c_abs','ANION_EXCL','SOL_CRK','SOL_EC1'], axis = 1)\n",
    "data.columns"
   ]
  },
  {
   "cell_type": "code",
   "execution_count": 8,
   "id": "3cb8e77e",
   "metadata": {},
   "outputs": [],
   "source": [
    "As = data\n",
    "Cd = data\n",
    "Ni = data"
   ]
  },
  {
   "cell_type": "code",
   "execution_count": 9,
   "id": "45ec138e",
   "metadata": {},
   "outputs": [],
   "source": [
    "As = As.drop([\"Cd\", \"Ni\", \"Pb\", \"Zn\", \"Hg\"], axis = 1)\n",
    "Cd = Cd.drop([\"As\", \"Ni\", \"Pb\", \"Zn\", \"Hg\"], axis = 1)\n",
    "Ni = Ni.drop([\"As\", \"Cd\", \"Pb\", \"Zn\", \"Hg\"], axis = 1)"
   ]
  },
  {
   "cell_type": "code",
   "execution_count": 10,
   "id": "69e10383",
   "metadata": {},
   "outputs": [
    {
     "name": "stdout",
     "output_type": "stream",
     "text": [
      "(1458, 16)\n",
      "(1458, 16)\n",
      "(1458, 16)\n"
     ]
    }
   ],
   "source": [
    "print(As.shape)\n",
    "print(Cd.shape)\n",
    "print(Ni.shape)"
   ]
  },
  {
   "attachments": {},
   "cell_type": "markdown",
   "id": "2b5fd2cd",
   "metadata": {},
   "source": [
    "#### Oversampling by SMOGN (SMOTE Regression)"
   ]
  },
  {
   "cell_type": "code",
   "execution_count": 12,
   "id": "b664ef07",
   "metadata": {},
   "outputs": [],
   "source": [
    "import smogn"
   ]
  },
  {
   "cell_type": "code",
   "execution_count": 13,
   "id": "0797c71f",
   "metadata": {},
   "outputs": [
    {
     "name": "stderr",
     "output_type": "stream",
     "text": [
      "dist_matrix: 100%|##########| 248/248 [00:24<00:00, 10.15it/s]\n",
      "synth_matrix: 100%|##########| 248/248 [00:00<00:00, 577.18it/s]\n",
      "r_index: 100%|##########| 233/233 [00:00<00:00, 593.74it/s]\n",
      "dist_matrix: 100%|##########| 259/259 [00:25<00:00, 10.04it/s]\n",
      "synth_matrix: 100%|##########| 259/259 [00:01<00:00, 215.25it/s]\n",
      "r_index: 100%|##########| 155/155 [00:00<00:00, 643.01it/s]\n",
      "dist_matrix: 100%|##########| 242/242 [00:22<00:00, 10.63it/s]\n",
      "synth_matrix: 100%|##########| 242/242 [00:01<00:00, 162.49it/s]\n"
     ]
    }
   ],
   "source": [
    "As_smogn = smogn.smoter(data = As, y = 'As', samp_method = 'balance')\n",
    "Cd_smogn = smogn.smoter(data = Cd, y = 'Cd', samp_method = 'extreme', k = 7)\n",
    "Ni_smogn = smogn.smoter(data = Ni, y = 'Ni', samp_method = 'extreme', k = 3)"
   ]
  },
  {
   "cell_type": "code",
   "execution_count": 15,
   "id": "cba746a8",
   "metadata": {},
   "outputs": [
    {
     "name": "stdout",
     "output_type": "stream",
     "text": [
      "(1210, 16)\n",
      "(2151, 16)\n",
      "(2183, 16)\n"
     ]
    }
   ],
   "source": [
    "print(As_smogn.shape)\n",
    "print(Cd_smogn.shape)\n",
    "print(Ni_smogn.shape)"
   ]
  },
  {
   "cell_type": "code",
   "execution_count": 16,
   "id": "863536fc",
   "metadata": {},
   "outputs": [],
   "source": [
    "As_smogn = As_smogn.reset_index(drop = True)\n",
    "Cd_smogn = Cd_smogn.reset_index(drop = True)\n",
    "Ni_smogn = Ni_smogn.reset_index(drop = True)"
   ]
  },
  {
   "attachments": {},
   "cell_type": "markdown",
   "id": "ed72a9b1",
   "metadata": {},
   "source": [
    "#### Eliminate outlier and train / test split"
   ]
  },
  {
   "cell_type": "code",
   "execution_count": 17,
   "id": "43604a42",
   "metadata": {},
   "outputs": [],
   "source": [
    "def eli_outlier(data, value):\n",
    "    q1 = data[value].quantile(0.25)\n",
    "    q3 = data[value].quantile(0.75)\n",
    "\n",
    "    iqr = q3 - q1\n",
    "\n",
    "    q1_condition = data[value] < q1-1.5*iqr\n",
    "    q3_condition = data[value] > q3+1.5*iqr\n",
    "\n",
    "    reset_q1_index = data[q1_condition].index\n",
    "    reset_q3_index = data[q3_condition].index\n",
    "\n",
    "    data.drop(reset_q1_index, inplace = True)\n",
    "    data.drop(reset_q3_index, inplace = True)\n",
    "\n",
    "    return data"
   ]
  },
  {
   "cell_type": "code",
   "execution_count": 18,
   "id": "9b7632f2",
   "metadata": {},
   "outputs": [],
   "source": [
    "As_ros = eli_outlier(As_smogn, \"As\")\n",
    "Cd_ros = eli_outlier(Cd_smogn, \"Cd\")\n",
    "Ni_ros = eli_outlier(Ni_smogn, \"Ni\")"
   ]
  },
  {
   "cell_type": "code",
   "execution_count": 19,
   "id": "f8609469",
   "metadata": {},
   "outputs": [],
   "source": [
    "As_X = As_ros.drop([\"As\"], axis=1)\n",
    "Cd_X = Cd_ros.drop([\"Cd\"], axis=1)\n",
    "Ni_X = Ni_ros.drop([\"Ni\"], axis=1)\n",
    "\n",
    "As_y = As_ros[\"As\"]\n",
    "Cd_y = Cd_ros[\"Cd\"]\n",
    "Ni_y = Ni_ros[\"Ni\"]"
   ]
  },
  {
   "cell_type": "code",
   "execution_count": 20,
   "id": "7237a19a",
   "metadata": {},
   "outputs": [],
   "source": [
    "As_y = np.log1p(As_ros[\"As\"])\n",
    "Cd_y = np.log1p(Cd_ros[\"Cd\"])\n",
    "Ni_y = np.log1p(Ni_ros[\"Ni\"])"
   ]
  },
  {
   "cell_type": "code",
   "execution_count": 21,
   "id": "ce87d06a",
   "metadata": {},
   "outputs": [
    {
     "name": "stdout",
     "output_type": "stream",
     "text": [
      "(1051, 15)\n",
      "(1913, 15)\n",
      "(2117, 15)\n"
     ]
    }
   ],
   "source": [
    "print(As_X.shape)\n",
    "print(Cd_X.shape)\n",
    "print(Ni_X.shape)"
   ]
  },
  {
   "attachments": {},
   "cell_type": "markdown",
   "id": "c92e5bb6",
   "metadata": {},
   "source": [
    "StandardScaler"
   ]
  },
  {
   "cell_type": "code",
   "execution_count": 22,
   "id": "fbb3f6f7",
   "metadata": {},
   "outputs": [],
   "source": [
    "from sklearn.preprocessing import StandardScaler\n",
    "\n",
    "scaler = StandardScaler()\n",
    "\n",
    "As_X_train, As_X_test, As_y_train, As_y_test = train_test_split(As_X, As_y, test_size=0.2, random_state=42)\n",
    "Cd_X_train, Cd_X_test, Cd_y_train, Cd_y_test = train_test_split(Cd_X, Cd_y, test_size=0.2, random_state=42)\n",
    "Ni_X_train, Ni_X_test, Ni_y_train, Ni_y_test = train_test_split(Ni_X, Ni_y, test_size=0.2, random_state=42)\n",
    "\n",
    "As_X_train = scaler.fit_transform(As_X_train)\n",
    "As_X_test = scaler.fit_transform(As_X_test)\n",
    "\n",
    "Cd_X_train = scaler.fit_transform(Cd_X_train)\n",
    "Cd_X_test = scaler.fit_transform(Cd_X_test)\n",
    "\n",
    "Ni_X_train = scaler.fit_transform(Ni_X_train)\n",
    "Ni_X_test = scaler.fit_transform(Ni_X_test)"
   ]
  },
  {
   "cell_type": "code",
   "execution_count": 20,
   "id": "416a7027",
   "metadata": {},
   "outputs": [
    {
     "data": {
      "text/plain": [
       "' from sklearn.preprocessing import StandardScaler\\n\\nscaler = StandardScaler()\\n\\nAs_X_scaled = scaler.fit_transform(As_X)\\nCd_X_scaled = scaler.fit_transform(Cd_X)\\nNi_X_scaled = scaler.fit_transform(Ni_X)\\n\\nAs_X_train, As_X_test, As_y_train, As_y_test = train_test_split(As_X_scaled, As_y, test_size=0.2, random_state=42)\\nCd_X_train, Cd_X_test, Cd_y_train, Cd_y_test = train_test_split(Cd_X_scaled, Cd_y, test_size=0.2, random_state=42)\\nNi_X_train, Ni_X_test, Ni_y_train, Ni_y_test = train_test_split(Ni_X_scaled, Ni_y, test_size=0.2, random_state=42) '"
      ]
     },
     "execution_count": 20,
     "metadata": {},
     "output_type": "execute_result"
    }
   ],
   "source": [
    "''' from sklearn.preprocessing import StandardScaler\n",
    "\n",
    "scaler = StandardScaler()\n",
    "\n",
    "As_X_scaled = scaler.fit_transform(As_X)\n",
    "Cd_X_scaled = scaler.fit_transform(Cd_X)\n",
    "Ni_X_scaled = scaler.fit_transform(Ni_X)\n",
    "\n",
    "As_X_train, As_X_test, As_y_train, As_y_test = train_test_split(As_X_scaled, As_y, test_size=0.2, random_state=42)\n",
    "Cd_X_train, Cd_X_test, Cd_y_train, Cd_y_test = train_test_split(Cd_X_scaled, Cd_y, test_size=0.2, random_state=42)\n",
    "Ni_X_train, Ni_X_test, Ni_y_train, Ni_y_test = train_test_split(Ni_X_scaled, Ni_y, test_size=0.2, random_state=42) '''"
   ]
  },
  {
   "attachments": {},
   "cell_type": "markdown",
   "id": "2fe0d293",
   "metadata": {},
   "source": [
    "MinMaxScaler"
   ]
  },
  {
   "cell_type": "code",
   "execution_count": 21,
   "id": "e8596f9f",
   "metadata": {},
   "outputs": [],
   "source": [
    "# from sklearn.preprocessing import MinMaxScaler\n",
    "\n",
    "# scaler = MinMaxScaler()\n",
    "# As_X_scaled = scaler.fit_transform(As_X)\n",
    "# Cd_X_scaled = scaler.fit_transform(Cd_X)\n",
    "# Ni_X_scaled = scaler.fit_transform(Ni_X)\n",
    "\n",
    "# As_X_train, As_X_test, As_y_train, As_y_test = train_test_split(As_X_scaled, As_y, test_size=0.2, random_state=42)\n",
    "# Cd_X_train, Cd_X_test, Cd_y_train, Cd_y_test = train_test_split(Cd_X_scaled, Cd_y, test_size=0.2, random_state=42)\n",
    "# Ni_X_train, Ni_X_test, Ni_y_train, Ni_y_test = train_test_split(Ni_X_scaled, Ni_y, test_size=0.2, random_state=42)"
   ]
  },
  {
   "cell_type": "code",
   "execution_count": 23,
   "id": "86ccf2fe",
   "metadata": {},
   "outputs": [
    {
     "name": "stdout",
     "output_type": "stream",
     "text": [
      "(840, 15)\n",
      "(1530, 15)\n",
      "(1693, 15)\n"
     ]
    }
   ],
   "source": [
    "print(As_X_train.shape)\n",
    "print(Cd_X_train.shape)\n",
    "print(Ni_X_train.shape)"
   ]
  },
  {
   "attachments": {},
   "cell_type": "markdown",
   "id": "bd11b27e",
   "metadata": {},
   "source": [
    "#### 10-Fold Crossvalidation"
   ]
  },
  {
   "cell_type": "code",
   "execution_count": 24,
   "id": "7a765916",
   "metadata": {},
   "outputs": [],
   "source": [
    "kf = KFold(n_splits = 5, random_state = 42, shuffle = True)"
   ]
  },
  {
   "attachments": {},
   "cell_type": "markdown",
   "id": "859638d0",
   "metadata": {},
   "source": [
    "#### Optuna Optimization"
   ]
  },
  {
   "cell_type": "code",
   "execution_count": 25,
   "id": "92a47d83",
   "metadata": {},
   "outputs": [],
   "source": [
    "import optuna\n",
    "\n",
    "from optuna import Trial\n",
    "from optuna.samplers import TPESampler"
   ]
  },
  {
   "cell_type": "code",
   "execution_count": 26,
   "id": "a7669fea",
   "metadata": {},
   "outputs": [],
   "source": [
    "from sklearn.model_selection import cross_val_score\n",
    "\n",
    "def objectiveRF(trial: Trial, X_train, y_train) -> float:\n",
    "    rf_paramas = {\n",
    "        \"random_state\": 42,\n",
    "        #\"learning_rate\": 0.1,\n",
    "        \"n_estimators\": trial.suggest_int(\"n_estimators\", 10, 100),\n",
    "        \"max_depth\": trial.suggest_int(\"max_depth\", 1, 10),\n",
    "        \"min_samples_leaf\": trial.suggest_int(\"min_samples_leaf\", 1, 20),\n",
    "        \"min_samples_split\": trial.suggest_int(\"min_samples_split\", 2, 20),\n",
    "        #\"subsample\": trial.suggest_float(\"subsample\", 0.1, 0.5)\n",
    "    }\n",
    "    \n",
    "    rf = RandomForestRegressor(**rf_paramas)\n",
    "    r2 = cross_val_score(rf, X_train, y_train, scoring = \"r2\", cv = kf)\n",
    "    r2 = r2.mean()\n",
    "    \n",
    "    return r2"
   ]
  },
  {
   "attachments": {},
   "cell_type": "markdown",
   "id": "b0988f46",
   "metadata": {},
   "source": [
    "####  Optimization"
   ]
  },
  {
   "cell_type": "code",
   "execution_count": 27,
   "id": "94f5e00d",
   "metadata": {
    "scrolled": false
   },
   "outputs": [
    {
     "name": "stderr",
     "output_type": "stream",
     "text": [
      "\u001b[32m[I 2023-08-30 00:50:49,476]\u001b[0m A new study created in memory with name: rf_parameter_opt\u001b[0m\n",
      "\u001b[32m[I 2023-08-30 00:50:50,315]\u001b[0m Trial 0 finished with value: 0.343814552269856 and parameters: {'n_estimators': 55, 'max_depth': 4, 'min_samples_leaf': 18, 'min_samples_split': 3}. Best is trial 0 with value: 0.343814552269856.\u001b[0m\n",
      "\u001b[32m[I 2023-08-30 00:50:50,633]\u001b[0m Trial 1 finished with value: 0.3555660916907847 and parameters: {'n_estimators': 16, 'max_depth': 5, 'min_samples_leaf': 4, 'min_samples_split': 20}. Best is trial 1 with value: 0.3555660916907847.\u001b[0m\n",
      "\u001b[32m[I 2023-08-30 00:50:51,027]\u001b[0m Trial 2 finished with value: 0.14845943976728423 and parameters: {'n_estimators': 50, 'max_depth': 1, 'min_samples_leaf': 18, 'min_samples_split': 15}. Best is trial 1 with value: 0.3555660916907847.\u001b[0m\n",
      "\u001b[32m[I 2023-08-30 00:50:53,051]\u001b[0m Trial 3 finished with value: 0.39416175166645384 and parameters: {'n_estimators': 98, 'max_depth': 6, 'min_samples_leaf': 7, 'min_samples_split': 2}. Best is trial 3 with value: 0.39416175166645384.\u001b[0m\n",
      "\u001b[32m[I 2023-08-30 00:50:54,814]\u001b[0m Trial 4 finished with value: 0.3981290800050085 and parameters: {'n_estimators': 85, 'max_depth': 7, 'min_samples_leaf': 9, 'min_samples_split': 8}. Best is trial 4 with value: 0.3981290800050085.\u001b[0m\n",
      "\u001b[32m[I 2023-08-30 00:50:55,133]\u001b[0m Trial 5 finished with value: 0.3086302206086837 and parameters: {'n_estimators': 21, 'max_depth': 3, 'min_samples_leaf': 13, 'min_samples_split': 15}. Best is trial 4 with value: 0.3981290800050085.\u001b[0m\n",
      "\u001b[32m[I 2023-08-30 00:50:56,607]\u001b[0m Trial 6 finished with value: 0.37357824862412903 and parameters: {'n_estimators': 80, 'max_depth': 5, 'min_samples_leaf': 10, 'min_samples_split': 6}. Best is trial 4 with value: 0.3981290800050085.\u001b[0m\n",
      "\u001b[32m[I 2023-08-30 00:50:58,067]\u001b[0m Trial 7 finished with value: 0.41190236546038567 and parameters: {'n_estimators': 60, 'max_depth': 8, 'min_samples_leaf': 6, 'min_samples_split': 10}. Best is trial 7 with value: 0.41190236546038567.\u001b[0m\n",
      "\u001b[32m[I 2023-08-30 00:50:58,799]\u001b[0m Trial 8 finished with value: 0.36699612858394354 and parameters: {'n_estimators': 39, 'max_depth': 6, 'min_samples_leaf': 13, 'min_samples_split': 2}. Best is trial 7 with value: 0.41190236546038567.\u001b[0m\n",
      "\u001b[32m[I 2023-08-30 00:51:00,144]\u001b[0m Trial 9 finished with value: 0.3456720204993252 and parameters: {'n_estimators': 88, 'max_depth': 4, 'min_samples_leaf': 18, 'min_samples_split': 2}. Best is trial 7 with value: 0.41190236546038567.\u001b[0m\n",
      "\u001b[32m[I 2023-08-30 00:51:02,114]\u001b[0m Trial 10 finished with value: 0.43253986655344273 and parameters: {'n_estimators': 69, 'max_depth': 10, 'min_samples_leaf': 2, 'min_samples_split': 12}. Best is trial 10 with value: 0.43253986655344273.\u001b[0m\n",
      "\u001b[32m[I 2023-08-30 00:51:04,105]\u001b[0m Trial 11 finished with value: 0.4283128880834536 and parameters: {'n_estimators': 67, 'max_depth': 10, 'min_samples_leaf': 1, 'min_samples_split': 12}. Best is trial 10 with value: 0.43253986655344273.\u001b[0m\n",
      "\u001b[32m[I 2023-08-30 00:51:06,080]\u001b[0m Trial 12 finished with value: 0.4245027923469863 and parameters: {'n_estimators': 69, 'max_depth': 10, 'min_samples_leaf': 1, 'min_samples_split': 14}. Best is trial 10 with value: 0.43253986655344273.\u001b[0m\n",
      "\u001b[32m[I 2023-08-30 00:51:08,061]\u001b[0m Trial 13 finished with value: 0.43210498962511 and parameters: {'n_estimators': 70, 'max_depth': 10, 'min_samples_leaf': 2, 'min_samples_split': 12}. Best is trial 10 with value: 0.43253986655344273.\u001b[0m\n",
      "\u001b[32m[I 2023-08-30 00:51:09,094]\u001b[0m Trial 14 finished with value: 0.413190134936792 and parameters: {'n_estimators': 42, 'max_depth': 9, 'min_samples_leaf': 4, 'min_samples_split': 18}. Best is trial 10 with value: 0.43253986655344273.\u001b[0m\n",
      "\u001b[32m[I 2023-08-30 00:51:11,057]\u001b[0m Trial 15 finished with value: 0.4233834360853724 and parameters: {'n_estimators': 74, 'max_depth': 8, 'min_samples_leaf': 3, 'min_samples_split': 11}. Best is trial 10 with value: 0.43253986655344273.\u001b[0m\n",
      "\u001b[32m[I 2023-08-30 00:51:13,202]\u001b[0m Trial 16 finished with value: 0.4086536341386774 and parameters: {'n_estimators': 96, 'max_depth': 9, 'min_samples_leaf': 8, 'min_samples_split': 8}. Best is trial 10 with value: 0.43253986655344273.\u001b[0m\n",
      "\u001b[32m[I 2023-08-30 00:51:13,776]\u001b[0m Trial 17 finished with value: 0.36862428984179924 and parameters: {'n_estimators': 29, 'max_depth': 10, 'min_samples_leaf': 13, 'min_samples_split': 13}. Best is trial 10 with value: 0.43253986655344273.\u001b[0m\n",
      "\u001b[32m[I 2023-08-30 00:51:15,284]\u001b[0m Trial 18 finished with value: 0.41032285922840295 and parameters: {'n_estimators': 62, 'max_depth': 8, 'min_samples_leaf': 5, 'min_samples_split': 17}. Best is trial 10 with value: 0.43253986655344273.\u001b[0m\n",
      "\u001b[32m[I 2023-08-30 00:51:17,548]\u001b[0m Trial 19 finished with value: 0.4266332496993203 and parameters: {'n_estimators': 75, 'max_depth': 9, 'min_samples_leaf': 1, 'min_samples_split': 9}. Best is trial 10 with value: 0.43253986655344273.\u001b[0m\n",
      "\u001b[32m[I 2023-08-30 00:51:17,955]\u001b[0m Trial 20 finished with value: 0.1488527747201039 and parameters: {'n_estimators': 48, 'max_depth': 1, 'min_samples_leaf': 3, 'min_samples_split': 6}. Best is trial 10 with value: 0.43253986655344273.\u001b[0m\n",
      "\u001b[32m[I 2023-08-30 00:51:19,869]\u001b[0m Trial 21 finished with value: 0.4269750547894827 and parameters: {'n_estimators': 65, 'max_depth': 10, 'min_samples_leaf': 1, 'min_samples_split': 12}. Best is trial 10 with value: 0.43253986655344273.\u001b[0m\n",
      "\u001b[32m[I 2023-08-30 00:51:21,947]\u001b[0m Trial 22 finished with value: 0.4341314585818524 and parameters: {'n_estimators': 71, 'max_depth': 10, 'min_samples_leaf': 2, 'min_samples_split': 11}. Best is trial 22 with value: 0.4341314585818524.\u001b[0m\n",
      "\u001b[32m[I 2023-08-30 00:51:24,369]\u001b[0m Trial 23 finished with value: 0.4332982659777935 and parameters: {'n_estimators': 88, 'max_depth': 9, 'min_samples_leaf': 3, 'min_samples_split': 10}. Best is trial 22 with value: 0.4341314585818524.\u001b[0m\n",
      "\u001b[32m[I 2023-08-30 00:51:26,406]\u001b[0m Trial 24 finished with value: 0.41002338805794275 and parameters: {'n_estimators': 89, 'max_depth': 7, 'min_samples_leaf': 6, 'min_samples_split': 6}. Best is trial 22 with value: 0.4341314585818524.\u001b[0m\n",
      "\u001b[32m[I 2023-08-30 00:51:28,576]\u001b[0m Trial 25 finished with value: 0.4314528320398786 and parameters: {'n_estimators': 80, 'max_depth': 9, 'min_samples_leaf': 3, 'min_samples_split': 9}. Best is trial 22 with value: 0.4341314585818524.\u001b[0m\n",
      "\u001b[32m[I 2023-08-30 00:51:30,695]\u001b[0m Trial 26 finished with value: 0.40868245353291127 and parameters: {'n_estimators': 94, 'max_depth': 7, 'min_samples_leaf': 6, 'min_samples_split': 10}. Best is trial 22 with value: 0.4341314585818524.\u001b[0m\n",
      "\u001b[32m[I 2023-08-30 00:51:32,037]\u001b[0m Trial 27 finished with value: 0.3678552114286231 and parameters: {'n_estimators': 81, 'max_depth': 8, 'min_samples_leaf': 20, 'min_samples_split': 14}. Best is trial 22 with value: 0.4341314585818524.\u001b[0m\n",
      "\u001b[32m[I 2023-08-30 00:51:33,535]\u001b[0m Trial 28 finished with value: 0.3926189816761553 and parameters: {'n_estimators': 75, 'max_depth': 9, 'min_samples_leaf': 11, 'min_samples_split': 16}. Best is trial 22 with value: 0.4341314585818524.\u001b[0m\n",
      "\u001b[32m[I 2023-08-30 00:51:35,121]\u001b[0m Trial 29 finished with value: 0.43098037475041606 and parameters: {'n_estimators': 60, 'max_depth': 10, 'min_samples_leaf': 4, 'min_samples_split': 4}. Best is trial 22 with value: 0.4341314585818524.\u001b[0m\n",
      "\u001b[32m[I 2023-08-30 00:51:37,334]\u001b[0m Trial 30 finished with value: 0.42732001517106255 and parameters: {'n_estimators': 91, 'max_depth': 9, 'min_samples_leaf': 5, 'min_samples_split': 11}. Best is trial 22 with value: 0.4341314585818524.\u001b[0m\n",
      "\u001b[32m[I 2023-08-30 00:51:38,823]\u001b[0m Trial 31 finished with value: 0.42729991529898087 and parameters: {'n_estimators': 54, 'max_depth': 10, 'min_samples_leaf': 2, 'min_samples_split': 13}. Best is trial 22 with value: 0.4341314585818524.\u001b[0m\n",
      "\u001b[32m[I 2023-08-30 00:51:40,818]\u001b[0m Trial 32 finished with value: 0.4327174379478761 and parameters: {'n_estimators': 71, 'max_depth': 10, 'min_samples_leaf': 2, 'min_samples_split': 12}. Best is trial 22 with value: 0.4341314585818524.\u001b[0m\n",
      "\u001b[32m[I 2023-08-30 00:51:42,325]\u001b[0m Trial 33 finished with value: 0.42559373532704636 and parameters: {'n_estimators': 55, 'max_depth': 9, 'min_samples_leaf': 3, 'min_samples_split': 10}. Best is trial 22 with value: 0.4341314585818524.\u001b[0m\n",
      "\u001b[32m[I 2023-08-30 00:51:45,097]\u001b[0m Trial 34 finished with value: 0.4287301229853103 and parameters: {'n_estimators': 100, 'max_depth': 8, 'min_samples_leaf': 2, 'min_samples_split': 8}. Best is trial 22 with value: 0.4341314585818524.\u001b[0m\n",
      "\u001b[32m[I 2023-08-30 00:51:47,002]\u001b[0m Trial 35 finished with value: 0.42999456626627264 and parameters: {'n_estimators': 73, 'max_depth': 10, 'min_samples_leaf': 4, 'min_samples_split': 13}. Best is trial 22 with value: 0.4341314585818524.\u001b[0m\n",
      "\u001b[32m[I 2023-08-30 00:51:47,879]\u001b[0m Trial 36 finished with value: 0.24047425234560063 and parameters: {'n_estimators': 81, 'max_depth': 2, 'min_samples_leaf': 7, 'min_samples_split': 11}. Best is trial 22 with value: 0.4341314585818524.\u001b[0m\n",
      "\u001b[32m[I 2023-08-30 00:51:49,817]\u001b[0m Trial 37 finished with value: 0.40416892781048996 and parameters: {'n_estimators': 84, 'max_depth': 7, 'min_samples_leaf': 2, 'min_samples_split': 20}. Best is trial 22 with value: 0.4341314585818524.\u001b[0m\n",
      "\u001b[32m[I 2023-08-30 00:51:50,125]\u001b[0m Trial 38 finished with value: 0.3810727223174667 and parameters: {'n_estimators': 12, 'max_depth': 9, 'min_samples_leaf': 5, 'min_samples_split': 15}. Best is trial 22 with value: 0.4341314585818524.\u001b[0m\n",
      "\u001b[32m[I 2023-08-30 00:51:51,223]\u001b[0m Trial 39 finished with value: 0.37205193937685904 and parameters: {'n_estimators': 62, 'max_depth': 6, 'min_samples_leaf': 16, 'min_samples_split': 7}. Best is trial 22 with value: 0.4341314585818524.\u001b[0m\n",
      "\u001b[32m[I 2023-08-30 00:51:52,272]\u001b[0m Trial 40 finished with value: 0.4014030201463704 and parameters: {'n_estimators': 47, 'max_depth': 10, 'min_samples_leaf': 8, 'min_samples_split': 9}. Best is trial 22 with value: 0.4341314585818524.\u001b[0m\n",
      "\u001b[32m[I 2023-08-30 00:51:54,277]\u001b[0m Trial 41 finished with value: 0.4327174379478761 and parameters: {'n_estimators': 71, 'max_depth': 10, 'min_samples_leaf': 2, 'min_samples_split': 12}. Best is trial 22 with value: 0.4341314585818524.\u001b[0m\n",
      "\u001b[32m[I 2023-08-30 00:51:56,253]\u001b[0m Trial 42 finished with value: 0.4317285615907897 and parameters: {'n_estimators': 77, 'max_depth': 10, 'min_samples_leaf': 4, 'min_samples_split': 12}. Best is trial 22 with value: 0.4341314585818524.\u001b[0m\n",
      "\u001b[32m[I 2023-08-30 00:51:58,039]\u001b[0m Trial 43 finished with value: 0.42410061266787596 and parameters: {'n_estimators': 67, 'max_depth': 9, 'min_samples_leaf': 2, 'min_samples_split': 14}. Best is trial 22 with value: 0.4341314585818524.\u001b[0m\n",
      "\u001b[32m[I 2023-08-30 00:51:59,256]\u001b[0m Trial 44 finished with value: 0.3546688093974264 and parameters: {'n_estimators': 71, 'max_depth': 4, 'min_samples_leaf': 1, 'min_samples_split': 10}. Best is trial 22 with value: 0.4341314585818524.\u001b[0m\n",
      "\u001b[32m[I 2023-08-30 00:52:01,471]\u001b[0m Trial 45 finished with value: 0.4257262242911405 and parameters: {'n_estimators': 85, 'max_depth': 8, 'min_samples_leaf': 3, 'min_samples_split': 11}. Best is trial 22 with value: 0.4341314585818524.\u001b[0m\n",
      "\u001b[32m[I 2023-08-30 00:52:02,946]\u001b[0m Trial 46 finished with value: 0.41833645078646786 and parameters: {'n_estimators': 57, 'max_depth': 10, 'min_samples_leaf': 5, 'min_samples_split': 13}. Best is trial 22 with value: 0.4341314585818524.\u001b[0m\n",
      "\u001b[32m[I 2023-08-30 00:52:04,831]\u001b[0m Trial 47 finished with value: 0.4268532009232464 and parameters: {'n_estimators': 64, 'max_depth': 10, 'min_samples_leaf': 1, 'min_samples_split': 12}. Best is trial 22 with value: 0.4341314585818524.\u001b[0m\n",
      "\u001b[32m[I 2023-08-30 00:52:06,894]\u001b[0m Trial 48 finished with value: 0.4251336576545822 and parameters: {'n_estimators': 78, 'max_depth': 9, 'min_samples_leaf': 2, 'min_samples_split': 15}. Best is trial 22 with value: 0.4341314585818524.\u001b[0m\n",
      "\u001b[32m[I 2023-08-30 00:52:08,193]\u001b[0m Trial 49 finished with value: 0.37212709512395686 and parameters: {'n_estimators': 70, 'max_depth': 5, 'min_samples_leaf': 11, 'min_samples_split': 10}. Best is trial 22 with value: 0.4341314585818524.\u001b[0m\n",
      "\u001b[32m[I 2023-08-30 00:52:09,522]\u001b[0m Trial 50 finished with value: 0.3157840649863967 and parameters: {'n_estimators': 93, 'max_depth': 3, 'min_samples_leaf': 3, 'min_samples_split': 9}. Best is trial 22 with value: 0.4341314585818524.\u001b[0m\n",
      "\u001b[32m[I 2023-08-30 00:52:11,502]\u001b[0m Trial 51 finished with value: 0.43206934316721757 and parameters: {'n_estimators': 68, 'max_depth': 10, 'min_samples_leaf': 2, 'min_samples_split': 12}. Best is trial 22 with value: 0.4341314585818524.\u001b[0m\n",
      "\u001b[32m[I 2023-08-30 00:52:14,081]\u001b[0m Trial 52 finished with value: 0.4270015981756156 and parameters: {'n_estimators': 86, 'max_depth': 10, 'min_samples_leaf': 1, 'min_samples_split': 14}. Best is trial 22 with value: 0.4341314585818524.\u001b[0m\n",
      "\u001b[32m[I 2023-08-30 00:52:15,974]\u001b[0m Trial 53 finished with value: 0.43235248874602156 and parameters: {'n_estimators': 72, 'max_depth': 10, 'min_samples_leaf': 4, 'min_samples_split': 11}. Best is trial 22 with value: 0.4341314585818524.\u001b[0m\n",
      "\u001b[32m[I 2023-08-30 00:52:17,821]\u001b[0m Trial 54 finished with value: 0.43016919630265116 and parameters: {'n_estimators': 72, 'max_depth': 9, 'min_samples_leaf': 4, 'min_samples_split': 11}. Best is trial 22 with value: 0.4341314585818524.\u001b[0m\n",
      "\u001b[32m[I 2023-08-30 00:52:19,304]\u001b[0m Trial 55 finished with value: 0.41407244247588604 and parameters: {'n_estimators': 65, 'max_depth': 10, 'min_samples_leaf': 7, 'min_samples_split': 13}. Best is trial 22 with value: 0.4341314585818524.\u001b[0m\n",
      "\u001b[32m[I 2023-08-30 00:52:20,648]\u001b[0m Trial 56 finished with value: 0.42376642412905363 and parameters: {'n_estimators': 51, 'max_depth': 9, 'min_samples_leaf': 3, 'min_samples_split': 11}. Best is trial 22 with value: 0.4341314585818524.\u001b[0m\n",
      "\u001b[32m[I 2023-08-30 00:52:22,159]\u001b[0m Trial 57 finished with value: 0.42258225149890516 and parameters: {'n_estimators': 59, 'max_depth': 8, 'min_samples_leaf': 4, 'min_samples_split': 8}. Best is trial 22 with value: 0.4341314585818524.\u001b[0m\n",
      "\u001b[32m[I 2023-08-30 00:52:22,718]\u001b[0m Trial 58 finished with value: 0.3661443807951928 and parameters: {'n_estimators': 29, 'max_depth': 10, 'min_samples_leaf': 15, 'min_samples_split': 10}. Best is trial 22 with value: 0.4341314585818524.\u001b[0m\n",
      "\u001b[32m[I 2023-08-30 00:52:24,547]\u001b[0m Trial 59 finished with value: 0.42081232212666303 and parameters: {'n_estimators': 77, 'max_depth': 9, 'min_samples_leaf': 6, 'min_samples_split': 7}. Best is trial 22 with value: 0.4341314585818524.\u001b[0m\n",
      "\u001b[32m[I 2023-08-30 00:52:26,788]\u001b[0m Trial 60 finished with value: 0.43370281875790584 and parameters: {'n_estimators': 82, 'max_depth': 10, 'min_samples_leaf': 2, 'min_samples_split': 12}. Best is trial 22 with value: 0.4341314585818524.\u001b[0m\n",
      "\u001b[32m[I 2023-08-30 00:52:29,018]\u001b[0m Trial 61 finished with value: 0.43370281875790584 and parameters: {'n_estimators': 82, 'max_depth': 10, 'min_samples_leaf': 2, 'min_samples_split': 12}. Best is trial 22 with value: 0.4341314585818524.\u001b[0m\n",
      "\u001b[32m[I 2023-08-30 00:52:31,273]\u001b[0m Trial 62 finished with value: 0.43228583206092797 and parameters: {'n_estimators': 84, 'max_depth': 10, 'min_samples_leaf': 2, 'min_samples_split': 13}. Best is trial 22 with value: 0.4341314585818524.\u001b[0m\n",
      "\u001b[32m[I 2023-08-30 00:52:33,651]\u001b[0m Trial 63 finished with value: 0.428416980857222 and parameters: {'n_estimators': 87, 'max_depth': 9, 'min_samples_leaf': 1, 'min_samples_split': 12}. Best is trial 22 with value: 0.4341314585818524.\u001b[0m\n",
      "\u001b[32m[I 2023-08-30 00:52:35,796]\u001b[0m Trial 64 finished with value: 0.4253154031153687 and parameters: {'n_estimators': 82, 'max_depth': 10, 'min_samples_leaf': 3, 'min_samples_split': 15}. Best is trial 22 with value: 0.4341314585818524.\u001b[0m\n",
      "\u001b[32m[I 2023-08-30 00:52:38,404]\u001b[0m Trial 65 finished with value: 0.4282694252043715 and parameters: {'n_estimators': 96, 'max_depth': 10, 'min_samples_leaf': 2, 'min_samples_split': 16}. Best is trial 22 with value: 0.4341314585818524.\u001b[0m\n",
      "\u001b[32m[I 2023-08-30 00:52:40,650]\u001b[0m Trial 66 finished with value: 0.42740840707841665 and parameters: {'n_estimators': 78, 'max_depth': 9, 'min_samples_leaf': 1, 'min_samples_split': 12}. Best is trial 22 with value: 0.4341314585818524.\u001b[0m\n",
      "\u001b[32m[I 2023-08-30 00:52:42,816]\u001b[0m Trial 67 finished with value: 0.4187562384512118 and parameters: {'n_estimators': 90, 'max_depth': 8, 'min_samples_leaf': 5, 'min_samples_split': 14}. Best is trial 22 with value: 0.4341314585818524.\u001b[0m\n",
      "\u001b[32m[I 2023-08-30 00:52:44,964]\u001b[0m Trial 68 finished with value: 0.43430583904018005 and parameters: {'n_estimators': 75, 'max_depth': 10, 'min_samples_leaf': 3, 'min_samples_split': 9}. Best is trial 68 with value: 0.43430583904018005.\u001b[0m\n",
      "\u001b[32m[I 2023-08-30 00:52:47,275]\u001b[0m Trial 69 finished with value: 0.43127084026595747 and parameters: {'n_estimators': 82, 'max_depth': 9, 'min_samples_leaf': 3, 'min_samples_split': 9}. Best is trial 68 with value: 0.43430583904018005.\u001b[0m\n",
      "\u001b[32m[I 2023-08-30 00:52:49,730]\u001b[0m Trial 70 finished with value: 0.4306783228927459 and parameters: {'n_estimators': 75, 'max_depth': 10, 'min_samples_leaf': 1, 'min_samples_split': 7}. Best is trial 68 with value: 0.43430583904018005.\u001b[0m\n",
      "\u001b[32m[I 2023-08-30 00:52:51,880]\u001b[0m Trial 71 finished with value: 0.4346396710641187 and parameters: {'n_estimators': 75, 'max_depth': 10, 'min_samples_leaf': 2, 'min_samples_split': 10}. Best is trial 71 with value: 0.4346396710641187.\u001b[0m\n",
      "\u001b[32m[I 2023-08-30 00:52:54,138]\u001b[0m Trial 72 finished with value: 0.4363433643247596 and parameters: {'n_estimators': 79, 'max_depth': 10, 'min_samples_leaf': 2, 'min_samples_split': 10}. Best is trial 72 with value: 0.4363433643247596.\u001b[0m\n",
      "\u001b[32m[I 2023-08-30 00:52:56,284]\u001b[0m Trial 73 finished with value: 0.43318426138094007 and parameters: {'n_estimators': 79, 'max_depth': 10, 'min_samples_leaf': 3, 'min_samples_split': 10}. Best is trial 72 with value: 0.4363433643247596.\u001b[0m\n",
      "\u001b[32m[I 2023-08-30 00:52:58,044]\u001b[0m Trial 74 finished with value: 0.4001880067386523 and parameters: {'n_estimators': 79, 'max_depth': 6, 'min_samples_leaf': 3, 'min_samples_split': 10}. Best is trial 72 with value: 0.4363433643247596.\u001b[0m\n",
      "\u001b[32m[I 2023-08-30 00:53:00,353]\u001b[0m Trial 75 finished with value: 0.4364506509113758 and parameters: {'n_estimators': 88, 'max_depth': 10, 'min_samples_leaf': 4, 'min_samples_split': 9}. Best is trial 75 with value: 0.4364506509113758.\u001b[0m\n",
      "\u001b[32m[I 2023-08-30 00:53:02,814]\u001b[0m Trial 76 finished with value: 0.4326949896617638 and parameters: {'n_estimators': 92, 'max_depth': 9, 'min_samples_leaf': 4, 'min_samples_split': 8}. Best is trial 75 with value: 0.4364506509113758.\u001b[0m\n",
      "\u001b[32m[I 2023-08-30 00:53:05,082]\u001b[0m Trial 77 finished with value: 0.4297149256263709 and parameters: {'n_estimators': 87, 'max_depth': 10, 'min_samples_leaf': 5, 'min_samples_split': 9}. Best is trial 75 with value: 0.4364506509113758.\u001b[0m\n",
      "\u001b[32m[I 2023-08-30 00:53:07,873]\u001b[0m Trial 78 finished with value: 0.4290051198560314 and parameters: {'n_estimators': 96, 'max_depth': 9, 'min_samples_leaf': 1, 'min_samples_split': 11}. Best is trial 75 with value: 0.4364506509113758.\u001b[0m\n",
      "\u001b[32m[I 2023-08-30 00:53:10,243]\u001b[0m Trial 79 finished with value: 0.43584807404162457 and parameters: {'n_estimators': 89, 'max_depth': 10, 'min_samples_leaf': 4, 'min_samples_split': 9}. Best is trial 75 with value: 0.4364506509113758.\u001b[0m\n",
      "\u001b[32m[I 2023-08-30 00:53:12,018]\u001b[0m Trial 80 finished with value: 0.4049742567465267 and parameters: {'n_estimators': 83, 'max_depth': 10, 'min_samples_leaf': 9, 'min_samples_split': 8}. Best is trial 75 with value: 0.4364506509113758.\u001b[0m\n",
      "\u001b[32m[I 2023-08-30 00:53:14,608]\u001b[0m Trial 81 finished with value: 0.43874882203315035 and parameters: {'n_estimators': 90, 'max_depth': 10, 'min_samples_leaf': 2, 'min_samples_split': 9}. Best is trial 81 with value: 0.43874882203315035.\u001b[0m\n",
      "\u001b[32m[I 2023-08-30 00:53:17,173]\u001b[0m Trial 82 finished with value: 0.4385497982962586 and parameters: {'n_estimators': 89, 'max_depth': 10, 'min_samples_leaf': 2, 'min_samples_split': 9}. Best is trial 81 with value: 0.43874882203315035.\u001b[0m\n",
      "\u001b[32m[I 2023-08-30 00:53:19,658]\u001b[0m Trial 83 finished with value: 0.4358075843158364 and parameters: {'n_estimators': 95, 'max_depth': 10, 'min_samples_leaf': 4, 'min_samples_split': 9}. Best is trial 81 with value: 0.43874882203315035.\u001b[0m\n",
      "\u001b[32m[I 2023-08-30 00:53:22,241]\u001b[0m Trial 84 finished with value: 0.43616850609977664 and parameters: {'n_estimators': 99, 'max_depth': 10, 'min_samples_leaf': 4, 'min_samples_split': 9}. Best is trial 81 with value: 0.43874882203315035.\u001b[0m\n",
      "\u001b[32m[I 2023-08-30 00:53:24,871]\u001b[0m Trial 85 finished with value: 0.436103887457592 and parameters: {'n_estimators': 99, 'max_depth': 10, 'min_samples_leaf': 4, 'min_samples_split': 7}. Best is trial 81 with value: 0.43874882203315035.\u001b[0m\n",
      "\u001b[32m[I 2023-08-30 00:53:27,312]\u001b[0m Trial 86 finished with value: 0.42617953522823016 and parameters: {'n_estimators': 99, 'max_depth': 9, 'min_samples_leaf': 5, 'min_samples_split': 5}. Best is trial 81 with value: 0.43874882203315035.\u001b[0m\n",
      "\u001b[32m[I 2023-08-30 00:53:29,729]\u001b[0m Trial 87 finished with value: 0.4206115624744016 and parameters: {'n_estimators': 94, 'max_depth': 10, 'min_samples_leaf': 6, 'min_samples_split': 7}. Best is trial 81 with value: 0.43874882203315035.\u001b[0m\n",
      "\u001b[32m[I 2023-08-30 00:53:32,455]\u001b[0m Trial 88 finished with value: 0.43540968490696247 and parameters: {'n_estimators': 97, 'max_depth': 10, 'min_samples_leaf': 4, 'min_samples_split': 8}. Best is trial 81 with value: 0.43874882203315035.\u001b[0m\n",
      "\u001b[32m[I 2023-08-30 00:53:33,873]\u001b[0m Trial 89 finished with value: 0.315421893806448 and parameters: {'n_estimators': 98, 'max_depth': 3, 'min_samples_leaf': 4, 'min_samples_split': 8}. Best is trial 81 with value: 0.43874882203315035.\u001b[0m\n",
      "\u001b[32m[I 2023-08-30 00:53:36,235]\u001b[0m Trial 90 finished with value: 0.4196121572111268 and parameters: {'n_estimators': 96, 'max_depth': 9, 'min_samples_leaf': 6, 'min_samples_split': 6}. Best is trial 81 with value: 0.43874882203315035.\u001b[0m\n",
      "\u001b[32m[I 2023-08-30 00:53:38,540]\u001b[0m Trial 91 finished with value: 0.42896178006871394 and parameters: {'n_estimators': 90, 'max_depth': 10, 'min_samples_leaf': 5, 'min_samples_split': 8}. Best is trial 81 with value: 0.43874882203315035.\u001b[0m\n",
      "\u001b[32m[I 2023-08-30 00:53:41,017]\u001b[0m Trial 92 finished with value: 0.41596631702528625 and parameters: {'n_estimators': 100, 'max_depth': 10, 'min_samples_leaf': 7, 'min_samples_split': 9}. Best is trial 81 with value: 0.43874882203315035.\u001b[0m\n",
      "\u001b[32m[I 2023-08-30 00:53:43,511]\u001b[0m Trial 93 finished with value: 0.4354198033014445 and parameters: {'n_estimators': 93, 'max_depth': 10, 'min_samples_leaf': 4, 'min_samples_split': 9}. Best is trial 81 with value: 0.43874882203315035.\u001b[0m\n",
      "\u001b[32m[I 2023-08-30 00:53:46,122]\u001b[0m Trial 94 finished with value: 0.43509392021219195 and parameters: {'n_estimators': 94, 'max_depth': 10, 'min_samples_leaf': 4, 'min_samples_split': 7}. Best is trial 81 with value: 0.43874882203315035.\u001b[0m\n",
      "\u001b[32m[I 2023-08-30 00:53:48,405]\u001b[0m Trial 95 finished with value: 0.42621606452934335 and parameters: {'n_estimators': 92, 'max_depth': 9, 'min_samples_leaf': 5, 'min_samples_split': 9}. Best is trial 81 with value: 0.43874882203315035.\u001b[0m\n",
      "\u001b[32m[I 2023-08-30 00:53:51,242]\u001b[0m Trial 96 finished with value: 0.43618537023472453 and parameters: {'n_estimators': 98, 'max_depth': 10, 'min_samples_leaf': 4, 'min_samples_split': 8}. Best is trial 81 with value: 0.43874882203315035.\u001b[0m\n",
      "\u001b[32m[I 2023-08-30 00:53:53,611]\u001b[0m Trial 97 finished with value: 0.42854864326795034 and parameters: {'n_estimators': 89, 'max_depth': 10, 'min_samples_leaf': 5, 'min_samples_split': 8}. Best is trial 81 with value: 0.43874882203315035.\u001b[0m\n",
      "\u001b[32m[I 2023-08-30 00:53:55,904]\u001b[0m Trial 98 finished with value: 0.4206115624744016 and parameters: {'n_estimators': 94, 'max_depth': 10, 'min_samples_leaf': 6, 'min_samples_split': 9}. Best is trial 81 with value: 0.43874882203315035.\u001b[0m\n",
      "\u001b[32m[I 2023-08-30 00:53:58,539]\u001b[0m Trial 99 finished with value: 0.4338030029277903 and parameters: {'n_estimators': 98, 'max_depth': 9, 'min_samples_leaf': 4, 'min_samples_split': 6}. Best is trial 81 with value: 0.43874882203315035.\u001b[0m\n"
     ]
    },
    {
     "name": "stdout",
     "output_type": "stream",
     "text": [
      "Best r2:  0.43874882203315035\n",
      "Best trial: {'n_estimators': 90, 'max_depth': 10, 'min_samples_leaf': 2, 'min_samples_split': 9}\n"
     ]
    }
   ],
   "source": [
    "sampler = TPESampler()\n",
    "study = optuna.create_study(\n",
    "    study_name=\"rf_parameter_opt\",\n",
    "    direction=\"maximize\",\n",
    "    sampler=sampler,\n",
    ")\n",
    "\n",
    "study.optimize(lambda trial : objectiveRF(trial, As_X_train, As_y_train), n_trials=100)\n",
    "print(\"Best r2: \", study.best_value)\n",
    "print(\"Best trial:\", study.best_trial.params)"
   ]
  },
  {
   "cell_type": "code",
   "execution_count": 28,
   "id": "ded0e0f8",
   "metadata": {},
   "outputs": [
    {
     "data": {
      "application/vnd.plotly.v1+json": {
       "config": {
        "plotlyServerURL": "https://plot.ly"
       },
       "data": [
        {
         "dimensions": [
          {
           "label": "Objective Value",
           "range": [
            0.14845943976728423,
            0.43874882203315035
           ],
           "values": [
            0.343814552269856,
            0.3555660916907847,
            0.14845943976728423,
            0.39416175166645384,
            0.3981290800050085,
            0.3086302206086837,
            0.37357824862412903,
            0.41190236546038567,
            0.36699612858394354,
            0.3456720204993252,
            0.43253986655344273,
            0.4283128880834536,
            0.4245027923469863,
            0.43210498962511,
            0.413190134936792,
            0.4233834360853724,
            0.4086536341386774,
            0.36862428984179924,
            0.41032285922840295,
            0.4266332496993203,
            0.1488527747201039,
            0.4269750547894827,
            0.4341314585818524,
            0.4332982659777935,
            0.41002338805794275,
            0.4314528320398786,
            0.40868245353291127,
            0.3678552114286231,
            0.3926189816761553,
            0.43098037475041606,
            0.42732001517106255,
            0.42729991529898087,
            0.4327174379478761,
            0.42559373532704636,
            0.4287301229853103,
            0.42999456626627264,
            0.24047425234560063,
            0.40416892781048996,
            0.3810727223174667,
            0.37205193937685904,
            0.4014030201463704,
            0.4327174379478761,
            0.4317285615907897,
            0.42410061266787596,
            0.3546688093974264,
            0.4257262242911405,
            0.41833645078646786,
            0.4268532009232464,
            0.4251336576545822,
            0.37212709512395686,
            0.3157840649863967,
            0.43206934316721757,
            0.4270015981756156,
            0.43235248874602156,
            0.43016919630265116,
            0.41407244247588604,
            0.42376642412905363,
            0.42258225149890516,
            0.3661443807951928,
            0.42081232212666303,
            0.43370281875790584,
            0.43370281875790584,
            0.43228583206092797,
            0.428416980857222,
            0.4253154031153687,
            0.4282694252043715,
            0.42740840707841665,
            0.4187562384512118,
            0.43430583904018005,
            0.43127084026595747,
            0.4306783228927459,
            0.4346396710641187,
            0.4363433643247596,
            0.43318426138094007,
            0.4001880067386523,
            0.4364506509113758,
            0.4326949896617638,
            0.4297149256263709,
            0.4290051198560314,
            0.43584807404162457,
            0.4049742567465267,
            0.43874882203315035,
            0.4385497982962586,
            0.4358075843158364,
            0.43616850609977664,
            0.436103887457592,
            0.42617953522823016,
            0.4206115624744016,
            0.43540968490696247,
            0.315421893806448,
            0.4196121572111268,
            0.42896178006871394,
            0.41596631702528625,
            0.4354198033014445,
            0.43509392021219195,
            0.42621606452934335,
            0.43618537023472453,
            0.42854864326795034,
            0.4206115624744016,
            0.4338030029277903
           ]
          },
          {
           "label": "max_depth",
           "range": [
            1,
            10
           ],
           "values": [
            4,
            5,
            1,
            6,
            7,
            3,
            5,
            8,
            6,
            4,
            10,
            10,
            10,
            10,
            9,
            8,
            9,
            10,
            8,
            9,
            1,
            10,
            10,
            9,
            7,
            9,
            7,
            8,
            9,
            10,
            9,
            10,
            10,
            9,
            8,
            10,
            2,
            7,
            9,
            6,
            10,
            10,
            10,
            9,
            4,
            8,
            10,
            10,
            9,
            5,
            3,
            10,
            10,
            10,
            9,
            10,
            9,
            8,
            10,
            9,
            10,
            10,
            10,
            9,
            10,
            10,
            9,
            8,
            10,
            9,
            10,
            10,
            10,
            10,
            6,
            10,
            9,
            10,
            9,
            10,
            10,
            10,
            10,
            10,
            10,
            10,
            9,
            10,
            10,
            3,
            9,
            10,
            10,
            10,
            10,
            9,
            10,
            10,
            10,
            9
           ]
          },
          {
           "label": "min_samples_leaf",
           "range": [
            1,
            20
           ],
           "values": [
            18,
            4,
            18,
            7,
            9,
            13,
            10,
            6,
            13,
            18,
            2,
            1,
            1,
            2,
            4,
            3,
            8,
            13,
            5,
            1,
            3,
            1,
            2,
            3,
            6,
            3,
            6,
            20,
            11,
            4,
            5,
            2,
            2,
            3,
            2,
            4,
            7,
            2,
            5,
            16,
            8,
            2,
            4,
            2,
            1,
            3,
            5,
            1,
            2,
            11,
            3,
            2,
            1,
            4,
            4,
            7,
            3,
            4,
            15,
            6,
            2,
            2,
            2,
            1,
            3,
            2,
            1,
            5,
            3,
            3,
            1,
            2,
            2,
            3,
            3,
            4,
            4,
            5,
            1,
            4,
            9,
            2,
            2,
            4,
            4,
            4,
            5,
            6,
            4,
            4,
            6,
            5,
            7,
            4,
            4,
            5,
            4,
            5,
            6,
            4
           ]
          },
          {
           "label": "min_samples_split",
           "range": [
            2,
            20
           ],
           "values": [
            3,
            20,
            15,
            2,
            8,
            15,
            6,
            10,
            2,
            2,
            12,
            12,
            14,
            12,
            18,
            11,
            8,
            13,
            17,
            9,
            6,
            12,
            11,
            10,
            6,
            9,
            10,
            14,
            16,
            4,
            11,
            13,
            12,
            10,
            8,
            13,
            11,
            20,
            15,
            7,
            9,
            12,
            12,
            14,
            10,
            11,
            13,
            12,
            15,
            10,
            9,
            12,
            14,
            11,
            11,
            13,
            11,
            8,
            10,
            7,
            12,
            12,
            13,
            12,
            15,
            16,
            12,
            14,
            9,
            9,
            7,
            10,
            10,
            10,
            10,
            9,
            8,
            9,
            11,
            9,
            8,
            9,
            9,
            9,
            9,
            7,
            5,
            7,
            8,
            8,
            6,
            8,
            9,
            9,
            7,
            9,
            8,
            8,
            9,
            6
           ]
          },
          {
           "label": "n_estimators",
           "range": [
            12,
            100
           ],
           "values": [
            55,
            16,
            50,
            98,
            85,
            21,
            80,
            60,
            39,
            88,
            69,
            67,
            69,
            70,
            42,
            74,
            96,
            29,
            62,
            75,
            48,
            65,
            71,
            88,
            89,
            80,
            94,
            81,
            75,
            60,
            91,
            54,
            71,
            55,
            100,
            73,
            81,
            84,
            12,
            62,
            47,
            71,
            77,
            67,
            71,
            85,
            57,
            64,
            78,
            70,
            93,
            68,
            86,
            72,
            72,
            65,
            51,
            59,
            29,
            77,
            82,
            82,
            84,
            87,
            82,
            96,
            78,
            90,
            75,
            82,
            75,
            75,
            79,
            79,
            79,
            88,
            92,
            87,
            96,
            89,
            83,
            90,
            89,
            95,
            99,
            99,
            99,
            94,
            97,
            98,
            96,
            90,
            100,
            93,
            94,
            92,
            98,
            89,
            94,
            98
           ]
          }
         ],
         "labelangle": 30,
         "labelside": "bottom",
         "line": {
          "color": [
           0.343814552269856,
           0.3555660916907847,
           0.14845943976728423,
           0.39416175166645384,
           0.3981290800050085,
           0.3086302206086837,
           0.37357824862412903,
           0.41190236546038567,
           0.36699612858394354,
           0.3456720204993252,
           0.43253986655344273,
           0.4283128880834536,
           0.4245027923469863,
           0.43210498962511,
           0.413190134936792,
           0.4233834360853724,
           0.4086536341386774,
           0.36862428984179924,
           0.41032285922840295,
           0.4266332496993203,
           0.1488527747201039,
           0.4269750547894827,
           0.4341314585818524,
           0.4332982659777935,
           0.41002338805794275,
           0.4314528320398786,
           0.40868245353291127,
           0.3678552114286231,
           0.3926189816761553,
           0.43098037475041606,
           0.42732001517106255,
           0.42729991529898087,
           0.4327174379478761,
           0.42559373532704636,
           0.4287301229853103,
           0.42999456626627264,
           0.24047425234560063,
           0.40416892781048996,
           0.3810727223174667,
           0.37205193937685904,
           0.4014030201463704,
           0.4327174379478761,
           0.4317285615907897,
           0.42410061266787596,
           0.3546688093974264,
           0.4257262242911405,
           0.41833645078646786,
           0.4268532009232464,
           0.4251336576545822,
           0.37212709512395686,
           0.3157840649863967,
           0.43206934316721757,
           0.4270015981756156,
           0.43235248874602156,
           0.43016919630265116,
           0.41407244247588604,
           0.42376642412905363,
           0.42258225149890516,
           0.3661443807951928,
           0.42081232212666303,
           0.43370281875790584,
           0.43370281875790584,
           0.43228583206092797,
           0.428416980857222,
           0.4253154031153687,
           0.4282694252043715,
           0.42740840707841665,
           0.4187562384512118,
           0.43430583904018005,
           0.43127084026595747,
           0.4306783228927459,
           0.4346396710641187,
           0.4363433643247596,
           0.43318426138094007,
           0.4001880067386523,
           0.4364506509113758,
           0.4326949896617638,
           0.4297149256263709,
           0.4290051198560314,
           0.43584807404162457,
           0.4049742567465267,
           0.43874882203315035,
           0.4385497982962586,
           0.4358075843158364,
           0.43616850609977664,
           0.436103887457592,
           0.42617953522823016,
           0.4206115624744016,
           0.43540968490696247,
           0.315421893806448,
           0.4196121572111268,
           0.42896178006871394,
           0.41596631702528625,
           0.4354198033014445,
           0.43509392021219195,
           0.42621606452934335,
           0.43618537023472453,
           0.42854864326795034,
           0.4206115624744016,
           0.4338030029277903
          ],
          "colorbar": {
           "title": {
            "text": "Objective Value"
           }
          },
          "colorscale": [
           [
            0,
            "rgb(247,251,255)"
           ],
           [
            0.125,
            "rgb(222,235,247)"
           ],
           [
            0.25,
            "rgb(198,219,239)"
           ],
           [
            0.375,
            "rgb(158,202,225)"
           ],
           [
            0.5,
            "rgb(107,174,214)"
           ],
           [
            0.625,
            "rgb(66,146,198)"
           ],
           [
            0.75,
            "rgb(33,113,181)"
           ],
           [
            0.875,
            "rgb(8,81,156)"
           ],
           [
            1,
            "rgb(8,48,107)"
           ]
          ],
          "reversescale": false,
          "showscale": true
         },
         "type": "parcoords"
        }
       ],
       "layout": {
        "template": {
         "data": {
          "bar": [
           {
            "error_x": {
             "color": "#2a3f5f"
            },
            "error_y": {
             "color": "#2a3f5f"
            },
            "marker": {
             "line": {
              "color": "#E5ECF6",
              "width": 0.5
             },
             "pattern": {
              "fillmode": "overlay",
              "size": 10,
              "solidity": 0.2
             }
            },
            "type": "bar"
           }
          ],
          "barpolar": [
           {
            "marker": {
             "line": {
              "color": "#E5ECF6",
              "width": 0.5
             },
             "pattern": {
              "fillmode": "overlay",
              "size": 10,
              "solidity": 0.2
             }
            },
            "type": "barpolar"
           }
          ],
          "carpet": [
           {
            "aaxis": {
             "endlinecolor": "#2a3f5f",
             "gridcolor": "white",
             "linecolor": "white",
             "minorgridcolor": "white",
             "startlinecolor": "#2a3f5f"
            },
            "baxis": {
             "endlinecolor": "#2a3f5f",
             "gridcolor": "white",
             "linecolor": "white",
             "minorgridcolor": "white",
             "startlinecolor": "#2a3f5f"
            },
            "type": "carpet"
           }
          ],
          "choropleth": [
           {
            "colorbar": {
             "outlinewidth": 0,
             "ticks": ""
            },
            "type": "choropleth"
           }
          ],
          "contour": [
           {
            "colorbar": {
             "outlinewidth": 0,
             "ticks": ""
            },
            "colorscale": [
             [
              0,
              "#0d0887"
             ],
             [
              0.1111111111111111,
              "#46039f"
             ],
             [
              0.2222222222222222,
              "#7201a8"
             ],
             [
              0.3333333333333333,
              "#9c179e"
             ],
             [
              0.4444444444444444,
              "#bd3786"
             ],
             [
              0.5555555555555556,
              "#d8576b"
             ],
             [
              0.6666666666666666,
              "#ed7953"
             ],
             [
              0.7777777777777778,
              "#fb9f3a"
             ],
             [
              0.8888888888888888,
              "#fdca26"
             ],
             [
              1,
              "#f0f921"
             ]
            ],
            "type": "contour"
           }
          ],
          "contourcarpet": [
           {
            "colorbar": {
             "outlinewidth": 0,
             "ticks": ""
            },
            "type": "contourcarpet"
           }
          ],
          "heatmap": [
           {
            "colorbar": {
             "outlinewidth": 0,
             "ticks": ""
            },
            "colorscale": [
             [
              0,
              "#0d0887"
             ],
             [
              0.1111111111111111,
              "#46039f"
             ],
             [
              0.2222222222222222,
              "#7201a8"
             ],
             [
              0.3333333333333333,
              "#9c179e"
             ],
             [
              0.4444444444444444,
              "#bd3786"
             ],
             [
              0.5555555555555556,
              "#d8576b"
             ],
             [
              0.6666666666666666,
              "#ed7953"
             ],
             [
              0.7777777777777778,
              "#fb9f3a"
             ],
             [
              0.8888888888888888,
              "#fdca26"
             ],
             [
              1,
              "#f0f921"
             ]
            ],
            "type": "heatmap"
           }
          ],
          "heatmapgl": [
           {
            "colorbar": {
             "outlinewidth": 0,
             "ticks": ""
            },
            "colorscale": [
             [
              0,
              "#0d0887"
             ],
             [
              0.1111111111111111,
              "#46039f"
             ],
             [
              0.2222222222222222,
              "#7201a8"
             ],
             [
              0.3333333333333333,
              "#9c179e"
             ],
             [
              0.4444444444444444,
              "#bd3786"
             ],
             [
              0.5555555555555556,
              "#d8576b"
             ],
             [
              0.6666666666666666,
              "#ed7953"
             ],
             [
              0.7777777777777778,
              "#fb9f3a"
             ],
             [
              0.8888888888888888,
              "#fdca26"
             ],
             [
              1,
              "#f0f921"
             ]
            ],
            "type": "heatmapgl"
           }
          ],
          "histogram": [
           {
            "marker": {
             "pattern": {
              "fillmode": "overlay",
              "size": 10,
              "solidity": 0.2
             }
            },
            "type": "histogram"
           }
          ],
          "histogram2d": [
           {
            "colorbar": {
             "outlinewidth": 0,
             "ticks": ""
            },
            "colorscale": [
             [
              0,
              "#0d0887"
             ],
             [
              0.1111111111111111,
              "#46039f"
             ],
             [
              0.2222222222222222,
              "#7201a8"
             ],
             [
              0.3333333333333333,
              "#9c179e"
             ],
             [
              0.4444444444444444,
              "#bd3786"
             ],
             [
              0.5555555555555556,
              "#d8576b"
             ],
             [
              0.6666666666666666,
              "#ed7953"
             ],
             [
              0.7777777777777778,
              "#fb9f3a"
             ],
             [
              0.8888888888888888,
              "#fdca26"
             ],
             [
              1,
              "#f0f921"
             ]
            ],
            "type": "histogram2d"
           }
          ],
          "histogram2dcontour": [
           {
            "colorbar": {
             "outlinewidth": 0,
             "ticks": ""
            },
            "colorscale": [
             [
              0,
              "#0d0887"
             ],
             [
              0.1111111111111111,
              "#46039f"
             ],
             [
              0.2222222222222222,
              "#7201a8"
             ],
             [
              0.3333333333333333,
              "#9c179e"
             ],
             [
              0.4444444444444444,
              "#bd3786"
             ],
             [
              0.5555555555555556,
              "#d8576b"
             ],
             [
              0.6666666666666666,
              "#ed7953"
             ],
             [
              0.7777777777777778,
              "#fb9f3a"
             ],
             [
              0.8888888888888888,
              "#fdca26"
             ],
             [
              1,
              "#f0f921"
             ]
            ],
            "type": "histogram2dcontour"
           }
          ],
          "mesh3d": [
           {
            "colorbar": {
             "outlinewidth": 0,
             "ticks": ""
            },
            "type": "mesh3d"
           }
          ],
          "parcoords": [
           {
            "line": {
             "colorbar": {
              "outlinewidth": 0,
              "ticks": ""
             }
            },
            "type": "parcoords"
           }
          ],
          "pie": [
           {
            "automargin": true,
            "type": "pie"
           }
          ],
          "scatter": [
           {
            "marker": {
             "colorbar": {
              "outlinewidth": 0,
              "ticks": ""
             }
            },
            "type": "scatter"
           }
          ],
          "scatter3d": [
           {
            "line": {
             "colorbar": {
              "outlinewidth": 0,
              "ticks": ""
             }
            },
            "marker": {
             "colorbar": {
              "outlinewidth": 0,
              "ticks": ""
             }
            },
            "type": "scatter3d"
           }
          ],
          "scattercarpet": [
           {
            "marker": {
             "colorbar": {
              "outlinewidth": 0,
              "ticks": ""
             }
            },
            "type": "scattercarpet"
           }
          ],
          "scattergeo": [
           {
            "marker": {
             "colorbar": {
              "outlinewidth": 0,
              "ticks": ""
             }
            },
            "type": "scattergeo"
           }
          ],
          "scattergl": [
           {
            "marker": {
             "colorbar": {
              "outlinewidth": 0,
              "ticks": ""
             }
            },
            "type": "scattergl"
           }
          ],
          "scattermapbox": [
           {
            "marker": {
             "colorbar": {
              "outlinewidth": 0,
              "ticks": ""
             }
            },
            "type": "scattermapbox"
           }
          ],
          "scatterpolar": [
           {
            "marker": {
             "colorbar": {
              "outlinewidth": 0,
              "ticks": ""
             }
            },
            "type": "scatterpolar"
           }
          ],
          "scatterpolargl": [
           {
            "marker": {
             "colorbar": {
              "outlinewidth": 0,
              "ticks": ""
             }
            },
            "type": "scatterpolargl"
           }
          ],
          "scatterternary": [
           {
            "marker": {
             "colorbar": {
              "outlinewidth": 0,
              "ticks": ""
             }
            },
            "type": "scatterternary"
           }
          ],
          "surface": [
           {
            "colorbar": {
             "outlinewidth": 0,
             "ticks": ""
            },
            "colorscale": [
             [
              0,
              "#0d0887"
             ],
             [
              0.1111111111111111,
              "#46039f"
             ],
             [
              0.2222222222222222,
              "#7201a8"
             ],
             [
              0.3333333333333333,
              "#9c179e"
             ],
             [
              0.4444444444444444,
              "#bd3786"
             ],
             [
              0.5555555555555556,
              "#d8576b"
             ],
             [
              0.6666666666666666,
              "#ed7953"
             ],
             [
              0.7777777777777778,
              "#fb9f3a"
             ],
             [
              0.8888888888888888,
              "#fdca26"
             ],
             [
              1,
              "#f0f921"
             ]
            ],
            "type": "surface"
           }
          ],
          "table": [
           {
            "cells": {
             "fill": {
              "color": "#EBF0F8"
             },
             "line": {
              "color": "white"
             }
            },
            "header": {
             "fill": {
              "color": "#C8D4E3"
             },
             "line": {
              "color": "white"
             }
            },
            "type": "table"
           }
          ]
         },
         "layout": {
          "annotationdefaults": {
           "arrowcolor": "#2a3f5f",
           "arrowhead": 0,
           "arrowwidth": 1
          },
          "autotypenumbers": "strict",
          "coloraxis": {
           "colorbar": {
            "outlinewidth": 0,
            "ticks": ""
           }
          },
          "colorscale": {
           "diverging": [
            [
             0,
             "#8e0152"
            ],
            [
             0.1,
             "#c51b7d"
            ],
            [
             0.2,
             "#de77ae"
            ],
            [
             0.3,
             "#f1b6da"
            ],
            [
             0.4,
             "#fde0ef"
            ],
            [
             0.5,
             "#f7f7f7"
            ],
            [
             0.6,
             "#e6f5d0"
            ],
            [
             0.7,
             "#b8e186"
            ],
            [
             0.8,
             "#7fbc41"
            ],
            [
             0.9,
             "#4d9221"
            ],
            [
             1,
             "#276419"
            ]
           ],
           "sequential": [
            [
             0,
             "#0d0887"
            ],
            [
             0.1111111111111111,
             "#46039f"
            ],
            [
             0.2222222222222222,
             "#7201a8"
            ],
            [
             0.3333333333333333,
             "#9c179e"
            ],
            [
             0.4444444444444444,
             "#bd3786"
            ],
            [
             0.5555555555555556,
             "#d8576b"
            ],
            [
             0.6666666666666666,
             "#ed7953"
            ],
            [
             0.7777777777777778,
             "#fb9f3a"
            ],
            [
             0.8888888888888888,
             "#fdca26"
            ],
            [
             1,
             "#f0f921"
            ]
           ],
           "sequentialminus": [
            [
             0,
             "#0d0887"
            ],
            [
             0.1111111111111111,
             "#46039f"
            ],
            [
             0.2222222222222222,
             "#7201a8"
            ],
            [
             0.3333333333333333,
             "#9c179e"
            ],
            [
             0.4444444444444444,
             "#bd3786"
            ],
            [
             0.5555555555555556,
             "#d8576b"
            ],
            [
             0.6666666666666666,
             "#ed7953"
            ],
            [
             0.7777777777777778,
             "#fb9f3a"
            ],
            [
             0.8888888888888888,
             "#fdca26"
            ],
            [
             1,
             "#f0f921"
            ]
           ]
          },
          "colorway": [
           "#636efa",
           "#EF553B",
           "#00cc96",
           "#ab63fa",
           "#FFA15A",
           "#19d3f3",
           "#FF6692",
           "#B6E880",
           "#FF97FF",
           "#FECB52"
          ],
          "font": {
           "color": "#2a3f5f"
          },
          "geo": {
           "bgcolor": "white",
           "lakecolor": "white",
           "landcolor": "#E5ECF6",
           "showlakes": true,
           "showland": true,
           "subunitcolor": "white"
          },
          "hoverlabel": {
           "align": "left"
          },
          "hovermode": "closest",
          "mapbox": {
           "style": "light"
          },
          "paper_bgcolor": "white",
          "plot_bgcolor": "#E5ECF6",
          "polar": {
           "angularaxis": {
            "gridcolor": "white",
            "linecolor": "white",
            "ticks": ""
           },
           "bgcolor": "#E5ECF6",
           "radialaxis": {
            "gridcolor": "white",
            "linecolor": "white",
            "ticks": ""
           }
          },
          "scene": {
           "xaxis": {
            "backgroundcolor": "#E5ECF6",
            "gridcolor": "white",
            "gridwidth": 2,
            "linecolor": "white",
            "showbackground": true,
            "ticks": "",
            "zerolinecolor": "white"
           },
           "yaxis": {
            "backgroundcolor": "#E5ECF6",
            "gridcolor": "white",
            "gridwidth": 2,
            "linecolor": "white",
            "showbackground": true,
            "ticks": "",
            "zerolinecolor": "white"
           },
           "zaxis": {
            "backgroundcolor": "#E5ECF6",
            "gridcolor": "white",
            "gridwidth": 2,
            "linecolor": "white",
            "showbackground": true,
            "ticks": "",
            "zerolinecolor": "white"
           }
          },
          "shapedefaults": {
           "line": {
            "color": "#2a3f5f"
           }
          },
          "ternary": {
           "aaxis": {
            "gridcolor": "white",
            "linecolor": "white",
            "ticks": ""
           },
           "baxis": {
            "gridcolor": "white",
            "linecolor": "white",
            "ticks": ""
           },
           "bgcolor": "#E5ECF6",
           "caxis": {
            "gridcolor": "white",
            "linecolor": "white",
            "ticks": ""
           }
          },
          "title": {
           "x": 0.05
          },
          "xaxis": {
           "automargin": true,
           "gridcolor": "white",
           "linecolor": "white",
           "ticks": "",
           "title": {
            "standoff": 15
           },
           "zerolinecolor": "white",
           "zerolinewidth": 2
          },
          "yaxis": {
           "automargin": true,
           "gridcolor": "white",
           "linecolor": "white",
           "ticks": "",
           "title": {
            "standoff": 15
           },
           "zerolinecolor": "white",
           "zerolinewidth": 2
          }
         }
        },
        "title": {
         "text": "Parallel Coordinate Plot"
        }
       }
      }
     },
     "metadata": {},
     "output_type": "display_data"
    }
   ],
   "source": [
    "optuna.visualization.plot_parallel_coordinate(study)"
   ]
  },
  {
   "cell_type": "code",
   "execution_count": 29,
   "id": "75db1ddf",
   "metadata": {},
   "outputs": [
    {
     "name": "stdout",
     "output_type": "stream",
     "text": [
      "Best trial: {'n_estimators': 90, 'max_depth': 10, 'min_samples_leaf': 2, 'min_samples_split': 9}\n"
     ]
    }
   ],
   "source": [
    "print(\"Best trial:\", study.best_trial.params)"
   ]
  },
  {
   "cell_type": "code",
   "execution_count": 30,
   "id": "574699dc",
   "metadata": {},
   "outputs": [
    {
     "data": {
      "text/plain": [
       "90"
      ]
     },
     "execution_count": 30,
     "metadata": {},
     "output_type": "execute_result"
    }
   ],
   "source": [
    "study.best_trial.params[\"n_estimators\"]"
   ]
  },
  {
   "cell_type": "code",
   "execution_count": 31,
   "id": "862eadd2",
   "metadata": {},
   "outputs": [
    {
     "data": {
      "text/html": [
       "<style>#sk-container-id-1 {color: black;}#sk-container-id-1 pre{padding: 0;}#sk-container-id-1 div.sk-toggleable {background-color: white;}#sk-container-id-1 label.sk-toggleable__label {cursor: pointer;display: block;width: 100%;margin-bottom: 0;padding: 0.3em;box-sizing: border-box;text-align: center;}#sk-container-id-1 label.sk-toggleable__label-arrow:before {content: \"▸\";float: left;margin-right: 0.25em;color: #696969;}#sk-container-id-1 label.sk-toggleable__label-arrow:hover:before {color: black;}#sk-container-id-1 div.sk-estimator:hover label.sk-toggleable__label-arrow:before {color: black;}#sk-container-id-1 div.sk-toggleable__content {max-height: 0;max-width: 0;overflow: hidden;text-align: left;background-color: #f0f8ff;}#sk-container-id-1 div.sk-toggleable__content pre {margin: 0.2em;color: black;border-radius: 0.25em;background-color: #f0f8ff;}#sk-container-id-1 input.sk-toggleable__control:checked~div.sk-toggleable__content {max-height: 200px;max-width: 100%;overflow: auto;}#sk-container-id-1 input.sk-toggleable__control:checked~label.sk-toggleable__label-arrow:before {content: \"▾\";}#sk-container-id-1 div.sk-estimator input.sk-toggleable__control:checked~label.sk-toggleable__label {background-color: #d4ebff;}#sk-container-id-1 div.sk-label input.sk-toggleable__control:checked~label.sk-toggleable__label {background-color: #d4ebff;}#sk-container-id-1 input.sk-hidden--visually {border: 0;clip: rect(1px 1px 1px 1px);clip: rect(1px, 1px, 1px, 1px);height: 1px;margin: -1px;overflow: hidden;padding: 0;position: absolute;width: 1px;}#sk-container-id-1 div.sk-estimator {font-family: monospace;background-color: #f0f8ff;border: 1px dotted black;border-radius: 0.25em;box-sizing: border-box;margin-bottom: 0.5em;}#sk-container-id-1 div.sk-estimator:hover {background-color: #d4ebff;}#sk-container-id-1 div.sk-parallel-item::after {content: \"\";width: 100%;border-bottom: 1px solid gray;flex-grow: 1;}#sk-container-id-1 div.sk-label:hover label.sk-toggleable__label {background-color: #d4ebff;}#sk-container-id-1 div.sk-serial::before {content: \"\";position: absolute;border-left: 1px solid gray;box-sizing: border-box;top: 0;bottom: 0;left: 50%;z-index: 0;}#sk-container-id-1 div.sk-serial {display: flex;flex-direction: column;align-items: center;background-color: white;padding-right: 0.2em;padding-left: 0.2em;position: relative;}#sk-container-id-1 div.sk-item {position: relative;z-index: 1;}#sk-container-id-1 div.sk-parallel {display: flex;align-items: stretch;justify-content: center;background-color: white;position: relative;}#sk-container-id-1 div.sk-item::before, #sk-container-id-1 div.sk-parallel-item::before {content: \"\";position: absolute;border-left: 1px solid gray;box-sizing: border-box;top: 0;bottom: 0;left: 50%;z-index: -1;}#sk-container-id-1 div.sk-parallel-item {display: flex;flex-direction: column;z-index: 1;position: relative;background-color: white;}#sk-container-id-1 div.sk-parallel-item:first-child::after {align-self: flex-end;width: 50%;}#sk-container-id-1 div.sk-parallel-item:last-child::after {align-self: flex-start;width: 50%;}#sk-container-id-1 div.sk-parallel-item:only-child::after {width: 0;}#sk-container-id-1 div.sk-dashed-wrapped {border: 1px dashed gray;margin: 0 0.4em 0.5em 0.4em;box-sizing: border-box;padding-bottom: 0.4em;background-color: white;}#sk-container-id-1 div.sk-label label {font-family: monospace;font-weight: bold;display: inline-block;line-height: 1.2em;}#sk-container-id-1 div.sk-label-container {text-align: center;}#sk-container-id-1 div.sk-container {/* jupyter's `normalize.less` sets `[hidden] { display: none; }` but bootstrap.min.css set `[hidden] { display: none !important; }` so we also need the `!important` here to be able to override the default hidden behavior on the sphinx rendered scikit-learn.org. See: https://github.com/scikit-learn/scikit-learn/issues/21755 */display: inline-block !important;position: relative;}#sk-container-id-1 div.sk-text-repr-fallback {display: none;}</style><div id=\"sk-container-id-1\" class=\"sk-top-container\"><div class=\"sk-text-repr-fallback\"><pre>RandomForestRegressor(max_depth=10, min_samples_leaf=2, min_samples_split=9,\n",
       "                      n_estimators=90, random_state=42)</pre><b>In a Jupyter environment, please rerun this cell to show the HTML representation or trust the notebook. <br />On GitHub, the HTML representation is unable to render, please try loading this page with nbviewer.org.</b></div><div class=\"sk-container\" hidden><div class=\"sk-item\"><div class=\"sk-estimator sk-toggleable\"><input class=\"sk-toggleable__control sk-hidden--visually\" id=\"sk-estimator-id-1\" type=\"checkbox\" checked><label for=\"sk-estimator-id-1\" class=\"sk-toggleable__label sk-toggleable__label-arrow\">RandomForestRegressor</label><div class=\"sk-toggleable__content\"><pre>RandomForestRegressor(max_depth=10, min_samples_leaf=2, min_samples_split=9,\n",
       "                      n_estimators=90, random_state=42)</pre></div></div></div></div></div>"
      ],
      "text/plain": [
       "RandomForestRegressor(max_depth=10, min_samples_leaf=2, min_samples_split=9,\n",
       "                      n_estimators=90, random_state=42)"
      ]
     },
     "execution_count": 31,
     "metadata": {},
     "output_type": "execute_result"
    }
   ],
   "source": [
    "rf_params = {\n",
    "    \"random_state\": 42,\n",
    "    #\"learning_rate\": 0.1,\n",
    "    \"n_estimators\": study.best_trial.params[\"n_estimators\"],\n",
    "    \"max_depth\": study.best_trial.params[\"max_depth\"],\n",
    "    \"min_samples_leaf\": study.best_trial.params[\"min_samples_leaf\"],\n",
    "    \"min_samples_split\": study.best_trial.params[\"min_samples_split\"],\n",
    "    #\"subsample\": study.best_trial.params[\"subsample\"]\n",
    "}\n",
    "\n",
    "rf = RandomForestRegressor(**rf_params)\n",
    "rf.fit(As_X_train, As_y_train)"
   ]
  },
  {
   "cell_type": "code",
   "execution_count": 32,
   "id": "8577fb37",
   "metadata": {},
   "outputs": [],
   "source": [
    "y_train_pred = rf.predict(As_X_train)\n",
    "y_test_pred = rf.predict(As_X_test)"
   ]
  },
  {
   "cell_type": "code",
   "execution_count": 32,
   "id": "2ea0526a",
   "metadata": {},
   "outputs": [],
   "source": [
    "# plt.scatter(y_train_pred, np.array(As_y_train))"
   ]
  },
  {
   "cell_type": "code",
   "execution_count": 33,
   "id": "d2a4dd85",
   "metadata": {},
   "outputs": [
    {
     "name": "stdout",
     "output_type": "stream",
     "text": [
      "Train RMSE:  0.36555591685368455\n",
      "Test RMSE:  0.7446765451865593\n"
     ]
    }
   ],
   "source": [
    "print(\"Train RMSE: \", np.sqrt(mean_squared_error(As_y_train, y_train_pred)))\n",
    "print(\"Test RMSE: \", np.sqrt(mean_squared_error(As_y_test, y_test_pred)))"
   ]
  },
  {
   "cell_type": "code",
   "execution_count": 34,
   "id": "08fe787a",
   "metadata": {},
   "outputs": [
    {
     "name": "stdout",
     "output_type": "stream",
     "text": [
      "Train R2:  0.8057982509995433\n",
      "Test R2:  0.26426728314684866\n"
     ]
    }
   ],
   "source": [
    "print(\"Train R2: \", r2_score(As_y_train, y_train_pred))\n",
    "print(\"Test R2: \", r2_score(As_y_test, y_test_pred))"
   ]
  },
  {
   "cell_type": "code",
   "execution_count": 35,
   "id": "5ec4820c",
   "metadata": {},
   "outputs": [
    {
     "data": {
      "image/png": "[encoded data removed]",
      "text/plain": [
       "<Figure size 640x480 with 1 Axes>"
      ]
     },
     "metadata": {},
     "output_type": "display_data"
    }
   ],
   "source": [
    "plt.scatter(y_train_pred, np.array(As_y_train), color=\"orange\", alpha=0.3)\n",
    "plt.scatter(y_test_pred, np.array(As_y_test), color=\"green\", alpha=0.4)\n",
    "plt.axis(\"auto\") # scaled, tight, auto, image, square\n",
    "# plt.xlim([0, 1.5]) \n",
    "# plt.ylim(0, None) \n",
    "plt.xlabel('Predicted Values')\n",
    "plt.ylabel('Actual Values')\n",
    "\n",
    "# Add y=x line\n",
    "plt.plot([0, 1.8], [0, 1.8], color='red', linestyle='-')\n",
    "\n",
    "plt.show()"
   ]
  },
  {
   "cell_type": "code",
   "execution_count": 36,
   "id": "6c1a8ef3",
   "metadata": {},
   "outputs": [],
   "source": [
    "As_pred = pd.DataFrame(y_train_pred, columns = ['As_pred'])\n",
    "As_pred_test = pd.DataFrame(y_test_pred, columns = ['As_pred'])"
   ]
  },
  {
   "cell_type": "code",
   "execution_count": 37,
   "id": "0d0098ff",
   "metadata": {},
   "outputs": [],
   "source": [
    "As_y_train = As_y_train.reset_index(drop = False)\n",
    "As_y_test = As_y_test.reset_index(drop = False)"
   ]
  },
  {
   "cell_type": "code",
   "execution_count": 38,
   "id": "5e476278",
   "metadata": {},
   "outputs": [],
   "source": [
    "As_data = pd.concat([As_pred, As_y_train], axis = 1)\n",
    "As_data_test = pd.concat([As_pred_test, As_y_test], axis = 1)"
   ]
  },
  {
   "cell_type": "code",
   "execution_count": 39,
   "id": "a25497cd",
   "metadata": {},
   "outputs": [],
   "source": [
    "As_data.to_csv('RF_As_train_data.csv', sep = ',')\n",
    "As_data_test.to_csv('RF_As_test_data.csv', sep = ',')"
   ]
  },
  {
   "attachments": {},
   "cell_type": "markdown",
   "id": "e0507d63",
   "metadata": {},
   "source": [
    "Cd"
   ]
  },
  {
   "attachments": {},
   "cell_type": "markdown",
   "id": "f8f809d9",
   "metadata": {},
   "source": [
    "Optimization"
   ]
  },
  {
   "cell_type": "code",
   "execution_count": 40,
   "id": "b7aeaf0a",
   "metadata": {},
   "outputs": [
    {
     "name": "stderr",
     "output_type": "stream",
     "text": [
      "\u001b[32m[I 2023-08-30 01:06:35,535]\u001b[0m A new study created in memory with name: rf_parameter_opt\u001b[0m\n",
      "\u001b[32m[I 2023-08-30 01:06:36,848]\u001b[0m Trial 0 finished with value: 0.5586520331099617 and parameters: {'n_estimators': 34, 'max_depth': 8, 'min_samples_leaf': 12, 'min_samples_split': 5}. Best is trial 0 with value: 0.5586520331099617.\u001b[0m\n",
      "\u001b[32m[I 2023-08-30 01:06:37,172]\u001b[0m Trial 1 finished with value: 0.32994017654362945 and parameters: {'n_estimators': 20, 'max_depth': 2, 'min_samples_leaf': 9, 'min_samples_split': 15}. Best is trial 0 with value: 0.5586520331099617.\u001b[0m\n",
      "\u001b[32m[I 2023-08-30 01:06:40,253]\u001b[0m Trial 2 finished with value: 0.5347899409511924 and parameters: {'n_estimators': 94, 'max_depth': 7, 'min_samples_leaf': 19, 'min_samples_split': 11}. Best is trial 0 with value: 0.5586520331099617.\u001b[0m\n",
      "\u001b[32m[I 2023-08-30 01:06:42,558]\u001b[0m Trial 3 finished with value: 0.5785223866901166 and parameters: {'n_estimators': 56, 'max_depth': 8, 'min_samples_leaf': 8, 'min_samples_split': 11}. Best is trial 3 with value: 0.5785223866901166.\u001b[0m\n",
      "\u001b[32m[I 2023-08-30 01:06:44,809]\u001b[0m Trial 4 finished with value: 0.5401393630204121 and parameters: {'n_estimators': 67, 'max_depth': 6, 'min_samples_leaf': 13, 'min_samples_split': 18}. Best is trial 3 with value: 0.5785223866901166.\u001b[0m\n",
      "\u001b[32m[I 2023-08-30 01:06:46,821]\u001b[0m Trial 5 finished with value: 0.45107768493019557 and parameters: {'n_estimators': 95, 'max_depth': 3, 'min_samples_leaf': 9, 'min_samples_split': 18}. Best is trial 3 with value: 0.5785223866901166.\u001b[0m\n",
      "\u001b[32m[I 2023-08-30 01:06:47,190]\u001b[0m Trial 6 finished with value: 0.4471705999555112 and parameters: {'n_estimators': 17, 'max_depth': 3, 'min_samples_leaf': 8, 'min_samples_split': 4}. Best is trial 3 with value: 0.5785223866901166.\u001b[0m\n",
      "\u001b[32m[I 2023-08-30 01:06:50,303]\u001b[0m Trial 7 finished with value: 0.536494910920562 and parameters: {'n_estimators': 100, 'max_depth': 5, 'min_samples_leaf': 7, 'min_samples_split': 2}. Best is trial 3 with value: 0.5785223866901166.\u001b[0m\n",
      "\u001b[32m[I 2023-08-30 01:06:51,260]\u001b[0m Trial 8 finished with value: 0.3316896883287846 and parameters: {'n_estimators': 61, 'max_depth': 2, 'min_samples_leaf': 20, 'min_samples_split': 7}. Best is trial 3 with value: 0.5785223866901166.\u001b[0m\n",
      "\u001b[32m[I 2023-08-30 01:06:51,943]\u001b[0m Trial 9 finished with value: 0.5221380943872 and parameters: {'n_estimators': 22, 'max_depth': 5, 'min_samples_leaf': 11, 'min_samples_split': 20}. Best is trial 3 with value: 0.5785223866901166.\u001b[0m\n",
      "\u001b[32m[I 2023-08-30 01:06:54,433]\u001b[0m Trial 10 finished with value: 0.6031659292268614 and parameters: {'n_estimators': 47, 'max_depth': 10, 'min_samples_leaf': 2, 'min_samples_split': 11}. Best is trial 10 with value: 0.6031659292268614.\u001b[0m\n",
      "\u001b[32m[I 2023-08-30 01:06:56,931]\u001b[0m Trial 11 finished with value: 0.5976890390048262 and parameters: {'n_estimators': 46, 'max_depth': 10, 'min_samples_leaf': 1, 'min_samples_split': 11}. Best is trial 10 with value: 0.6031659292268614.\u001b[0m\n",
      "\u001b[32m[I 2023-08-30 01:06:59,217]\u001b[0m Trial 12 finished with value: 0.6033145551584876 and parameters: {'n_estimators': 41, 'max_depth': 10, 'min_samples_leaf': 1, 'min_samples_split': 9}. Best is trial 12 with value: 0.6033145551584876.\u001b[0m\n",
      "\u001b[32m[I 2023-08-30 01:07:01,590]\u001b[0m Trial 13 finished with value: 0.6038403212468182 and parameters: {'n_estimators': 42, 'max_depth': 10, 'min_samples_leaf': 1, 'min_samples_split': 8}. Best is trial 13 with value: 0.6038403212468182.\u001b[0m\n",
      "\u001b[32m[I 2023-08-30 01:07:03,300]\u001b[0m Trial 14 finished with value: 0.5996527703684098 and parameters: {'n_estimators': 35, 'max_depth': 9, 'min_samples_leaf': 5, 'min_samples_split': 8}. Best is trial 13 with value: 0.6038403212468182.\u001b[0m\n",
      "\u001b[32m[I 2023-08-30 01:07:07,094]\u001b[0m Trial 15 finished with value: 0.6053528880539598 and parameters: {'n_estimators': 74, 'max_depth': 10, 'min_samples_leaf': 4, 'min_samples_split': 8}. Best is trial 15 with value: 0.6053528880539598.\u001b[0m\n",
      "\u001b[32m[I 2023-08-30 01:07:10,477]\u001b[0m Trial 16 finished with value: 0.5856840713444509 and parameters: {'n_estimators': 76, 'max_depth': 8, 'min_samples_leaf': 4, 'min_samples_split': 14}. Best is trial 15 with value: 0.6053528880539598.\u001b[0m\n",
      "\u001b[32m[I 2023-08-30 01:07:14,278]\u001b[0m Trial 17 finished with value: 0.6019767655927903 and parameters: {'n_estimators': 79, 'max_depth': 9, 'min_samples_leaf': 4, 'min_samples_split': 6}. Best is trial 15 with value: 0.6053528880539598.\u001b[0m\n",
      "\u001b[32m[I 2023-08-30 01:07:17,075]\u001b[0m Trial 18 finished with value: 0.5632118498906198 and parameters: {'n_estimators': 75, 'max_depth': 6, 'min_samples_leaf': 5, 'min_samples_split': 3}. Best is trial 15 with value: 0.6053528880539598.\u001b[0m\n",
      "\u001b[32m[I 2023-08-30 01:07:19,572]\u001b[0m Trial 19 finished with value: 0.5519516953773321 and parameters: {'n_estimators': 68, 'max_depth': 9, 'min_samples_leaf': 15, 'min_samples_split': 9}. Best is trial 15 with value: 0.6053528880539598.\u001b[0m\n",
      "\u001b[32m[I 2023-08-30 01:07:23,190]\u001b[0m Trial 20 finished with value: 0.5771797563315657 and parameters: {'n_estimators': 87, 'max_depth': 7, 'min_samples_leaf': 3, 'min_samples_split': 14}. Best is trial 15 with value: 0.6053528880539598.\u001b[0m\n",
      "\u001b[32m[I 2023-08-30 01:07:25,475]\u001b[0m Trial 21 finished with value: 0.6033145551584876 and parameters: {'n_estimators': 41, 'max_depth': 10, 'min_samples_leaf': 1, 'min_samples_split': 9}. Best is trial 15 with value: 0.6053528880539598.\u001b[0m\n",
      "\u001b[32m[I 2023-08-30 01:07:26,949]\u001b[0m Trial 22 finished with value: 0.5874153012625174 and parameters: {'n_estimators': 30, 'max_depth': 10, 'min_samples_leaf': 6, 'min_samples_split': 7}. Best is trial 15 with value: 0.6053528880539598.\u001b[0m\n",
      "\u001b[32m[I 2023-08-30 01:07:27,492]\u001b[0m Trial 23 finished with value: 0.5668079816377426 and parameters: {'n_estimators': 10, 'max_depth': 9, 'min_samples_leaf': 1, 'min_samples_split': 9}. Best is trial 15 with value: 0.6053528880539598.\u001b[0m\n",
      "\u001b[32m[I 2023-08-30 01:07:30,068]\u001b[0m Trial 24 finished with value: 0.5998125283143351 and parameters: {'n_estimators': 51, 'max_depth': 10, 'min_samples_leaf': 3, 'min_samples_split': 13}. Best is trial 15 with value: 0.6053528880539598.\u001b[0m\n",
      "\u001b[32m[I 2023-08-30 01:07:32,040]\u001b[0m Trial 25 finished with value: 0.5964559458658037 and parameters: {'n_estimators': 40, 'max_depth': 8, 'min_samples_leaf': 3, 'min_samples_split': 5}. Best is trial 15 with value: 0.6053528880539598.\u001b[0m\n",
      "\u001b[32m[I 2023-08-30 01:07:35,166]\u001b[0m Trial 26 finished with value: 0.6031064779111824 and parameters: {'n_estimators': 55, 'max_depth': 9, 'min_samples_leaf': 1, 'min_samples_split': 8}. Best is trial 15 with value: 0.6053528880539598.\u001b[0m\n",
      "\u001b[32m[I 2023-08-30 01:07:37,687]\u001b[0m Trial 27 finished with value: 0.5742667537948655 and parameters: {'n_estimators': 63, 'max_depth': 7, 'min_samples_leaf': 6, 'min_samples_split': 10}. Best is trial 15 with value: 0.6053528880539598.\u001b[0m\n",
      "\u001b[32m[I 2023-08-30 01:07:39,166]\u001b[0m Trial 28 finished with value: 0.596419915745786 and parameters: {'n_estimators': 29, 'max_depth': 10, 'min_samples_leaf': 3, 'min_samples_split': 13}. Best is trial 15 with value: 0.6053528880539598.\u001b[0m\n",
      "\u001b[32m[I 2023-08-30 01:07:40,553]\u001b[0m Trial 29 finished with value: 0.5519853178865205 and parameters: {'n_estimators': 38, 'max_depth': 8, 'min_samples_leaf': 14, 'min_samples_split': 5}. Best is trial 15 with value: 0.6053528880539598.\u001b[0m\n",
      "\u001b[32m[I 2023-08-30 01:07:42,800]\u001b[0m Trial 30 finished with value: 0.504844371070335 and parameters: {'n_estimators': 84, 'max_depth': 4, 'min_samples_leaf': 2, 'min_samples_split': 6}. Best is trial 15 with value: 0.6053528880539598.\u001b[0m\n",
      "\u001b[32m[I 2023-08-30 01:07:45,026]\u001b[0m Trial 31 finished with value: 0.6033145551584876 and parameters: {'n_estimators': 41, 'max_depth': 10, 'min_samples_leaf': 1, 'min_samples_split': 9}. Best is trial 15 with value: 0.6053528880539598.\u001b[0m\n",
      "\u001b[32m[I 2023-08-30 01:07:47,453]\u001b[0m Trial 32 finished with value: 0.6049854207403622 and parameters: {'n_estimators': 48, 'max_depth': 9, 'min_samples_leaf': 2, 'min_samples_split': 7}. Best is trial 15 with value: 0.6053528880539598.\u001b[0m\n",
      "\u001b[32m[I 2023-08-30 01:07:49,838]\u001b[0m Trial 33 finished with value: 0.6004033001471513 and parameters: {'n_estimators': 50, 'max_depth': 9, 'min_samples_leaf': 4, 'min_samples_split': 7}. Best is trial 15 with value: 0.6053528880539598.\u001b[0m\n",
      "\u001b[32m[I 2023-08-30 01:07:51,206]\u001b[0m Trial 34 finished with value: 0.5909822208926437 and parameters: {'n_estimators': 29, 'max_depth': 8, 'min_samples_leaf': 2, 'min_samples_split': 6}. Best is trial 15 with value: 0.6053528880539598.\u001b[0m\n",
      "\u001b[32m[I 2023-08-30 01:07:53,182]\u001b[0m Trial 35 finished with value: 0.5502594204012565 and parameters: {'n_estimators': 58, 'max_depth': 9, 'min_samples_leaf': 16, 'min_samples_split': 12}. Best is trial 15 with value: 0.6053528880539598.\u001b[0m\n",
      "\u001b[32m[I 2023-08-30 01:07:55,290]\u001b[0m Trial 36 finished with value: 0.602696136742227 and parameters: {'n_estimators': 44, 'max_depth': 10, 'min_samples_leaf': 5, 'min_samples_split': 8}. Best is trial 15 with value: 0.6053528880539598.\u001b[0m\n",
      "\u001b[32m[I 2023-08-30 01:07:57,255]\u001b[0m Trial 37 finished with value: 0.560925857229733 and parameters: {'n_estimators': 54, 'max_depth': 7, 'min_samples_leaf': 10, 'min_samples_split': 10}. Best is trial 15 with value: 0.6053528880539598.\u001b[0m\n",
      "\u001b[32m[I 2023-08-30 01:07:57,970]\u001b[0m Trial 38 finished with value: 0.2025245379444746 and parameters: {'n_estimators': 70, 'max_depth': 1, 'min_samples_leaf': 7, 'min_samples_split': 4}. Best is trial 15 with value: 0.6053528880539598.\u001b[0m\n",
      "\u001b[32m[I 2023-08-30 01:07:59,116]\u001b[0m Trial 39 finished with value: 0.5367760897759715 and parameters: {'n_estimators': 34, 'max_depth': 8, 'min_samples_leaf': 18, 'min_samples_split': 7}. Best is trial 15 with value: 0.6053528880539598.\u001b[0m\n",
      "\u001b[32m[I 2023-08-30 01:08:00,259]\u001b[0m Trial 40 finished with value: 0.579381707080011 and parameters: {'n_estimators': 24, 'max_depth': 9, 'min_samples_leaf': 2, 'min_samples_split': 16}. Best is trial 15 with value: 0.6053528880539598.\u001b[0m\n",
      "\u001b[32m[I 2023-08-30 01:08:02,642]\u001b[0m Trial 41 finished with value: 0.5997543990591296 and parameters: {'n_estimators': 44, 'max_depth': 10, 'min_samples_leaf': 1, 'min_samples_split': 10}. Best is trial 15 with value: 0.6053528880539598.\u001b[0m\n",
      "\u001b[32m[I 2023-08-30 01:08:05,272]\u001b[0m Trial 42 finished with value: 0.6078716659798996 and parameters: {'n_estimators': 50, 'max_depth': 10, 'min_samples_leaf': 2, 'min_samples_split': 9}. Best is trial 42 with value: 0.6078716659798996.\u001b[0m\n",
      "\u001b[32m[I 2023-08-30 01:08:08,523]\u001b[0m Trial 43 finished with value: 0.6074643117535422 and parameters: {'n_estimators': 63, 'max_depth': 10, 'min_samples_leaf': 3, 'min_samples_split': 8}. Best is trial 42 with value: 0.6078716659798996.\u001b[0m\n",
      "\u001b[32m[I 2023-08-30 01:08:11,549]\u001b[0m Trial 44 finished with value: 0.6012918942445469 and parameters: {'n_estimators': 63, 'max_depth': 9, 'min_samples_leaf': 4, 'min_samples_split': 8}. Best is trial 42 with value: 0.6078716659798996.\u001b[0m\n",
      "\u001b[32m[I 2023-08-30 01:08:14,217]\u001b[0m Trial 45 finished with value: 0.5927831470265306 and parameters: {'n_estimators': 59, 'max_depth': 10, 'min_samples_leaf': 6, 'min_samples_split': 6}. Best is trial 42 with value: 0.6078716659798996.\u001b[0m\n",
      "\u001b[32m[I 2023-08-30 01:08:16,328]\u001b[0m Trial 46 finished with value: 0.5823619943997619 and parameters: {'n_estimators': 51, 'max_depth': 9, 'min_samples_leaf': 8, 'min_samples_split': 4}. Best is trial 42 with value: 0.6078716659798996.\u001b[0m\n",
      "\u001b[32m[I 2023-08-30 01:08:19,967]\u001b[0m Trial 47 finished with value: 0.605608625579948 and parameters: {'n_estimators': 70, 'max_depth': 10, 'min_samples_leaf': 2, 'min_samples_split': 10}. Best is trial 42 with value: 0.6078716659798996.\u001b[0m\n",
      "\u001b[32m[I 2023-08-30 01:08:22,736]\u001b[0m Trial 48 finished with value: 0.5627723779159612 and parameters: {'n_estimators': 74, 'max_depth': 10, 'min_samples_leaf': 12, 'min_samples_split': 12}. Best is trial 42 with value: 0.6078716659798996.\u001b[0m\n",
      "\u001b[32m[I 2023-08-30 01:08:24,602]\u001b[0m Trial 49 finished with value: 0.50526869176476 and parameters: {'n_estimators': 70, 'max_depth': 4, 'min_samples_leaf': 3, 'min_samples_split': 10}. Best is trial 42 with value: 0.6078716659798996.\u001b[0m\n",
      "\u001b[32m[I 2023-08-30 01:08:28,118]\u001b[0m Trial 50 finished with value: 0.5906962250835235 and parameters: {'n_estimators': 81, 'max_depth': 8, 'min_samples_leaf': 5, 'min_samples_split': 11}. Best is trial 42 with value: 0.6078716659798996.\u001b[0m\n",
      "\u001b[32m[I 2023-08-30 01:08:31,522]\u001b[0m Trial 51 finished with value: 0.6091888776108707 and parameters: {'n_estimators': 64, 'max_depth': 10, 'min_samples_leaf': 2, 'min_samples_split': 8}. Best is trial 51 with value: 0.6091888776108707.\u001b[0m\n",
      "\u001b[32m[I 2023-08-30 01:08:35,038]\u001b[0m Trial 52 finished with value: 0.6105938052575128 and parameters: {'n_estimators': 65, 'max_depth': 10, 'min_samples_leaf': 2, 'min_samples_split': 7}. Best is trial 52 with value: 0.6105938052575128.\u001b[0m\n",
      "\u001b[32m[I 2023-08-30 01:08:38,248]\u001b[0m Trial 53 finished with value: 0.6054253165096859 and parameters: {'n_estimators': 65, 'max_depth': 10, 'min_samples_leaf': 4, 'min_samples_split': 8}. Best is trial 52 with value: 0.6105938052575128.\u001b[0m\n",
      "\u001b[32m[I 2023-08-30 01:08:41,621]\u001b[0m Trial 54 finished with value: 0.6053320376780029 and parameters: {'n_estimators': 65, 'max_depth': 10, 'min_samples_leaf': 2, 'min_samples_split': 10}. Best is trial 52 with value: 0.6105938052575128.\u001b[0m\n",
      "\u001b[32m[I 2023-08-30 01:08:44,892]\u001b[0m Trial 55 finished with value: 0.6019612948471403 and parameters: {'n_estimators': 67, 'max_depth': 9, 'min_samples_leaf': 3, 'min_samples_split': 9}. Best is trial 52 with value: 0.6105938052575128.\u001b[0m\n",
      "\u001b[32m[I 2023-08-30 01:08:47,793]\u001b[0m Trial 56 finished with value: 0.5983657097184392 and parameters: {'n_estimators': 60, 'max_depth': 10, 'min_samples_leaf': 4, 'min_samples_split': 12}. Best is trial 52 with value: 0.6105938052575128.\u001b[0m\n",
      "\u001b[32m[I 2023-08-30 01:08:50,946]\u001b[0m Trial 57 finished with value: 0.5879430312273837 and parameters: {'n_estimators': 72, 'max_depth': 10, 'min_samples_leaf': 7, 'min_samples_split': 6}. Best is trial 52 with value: 0.6105938052575128.\u001b[0m\n",
      "\u001b[32m[I 2023-08-30 01:08:54,795]\u001b[0m Trial 58 finished with value: 0.5975693885820352 and parameters: {'n_estimators': 78, 'max_depth': 9, 'min_samples_leaf': 2, 'min_samples_split': 11}. Best is trial 52 with value: 0.6105938052575128.\u001b[0m\n",
      "\u001b[32m[I 2023-08-30 01:08:57,802]\u001b[0m Trial 59 finished with value: 0.6031668687246575 and parameters: {'n_estimators': 63, 'max_depth': 10, 'min_samples_leaf': 5, 'min_samples_split': 8}. Best is trial 52 with value: 0.6105938052575128.\u001b[0m\n",
      "\u001b[32m[I 2023-08-30 01:09:00,059]\u001b[0m Trial 60 finished with value: 0.5763594854667543 and parameters: {'n_estimators': 55, 'max_depth': 9, 'min_samples_leaf': 9, 'min_samples_split': 7}. Best is trial 52 with value: 0.6105938052575128.\u001b[0m\n",
      "\u001b[32m[I 2023-08-30 01:09:03,442]\u001b[0m Trial 61 finished with value: 0.6071878202773767 and parameters: {'n_estimators': 66, 'max_depth': 10, 'min_samples_leaf': 3, 'min_samples_split': 9}. Best is trial 52 with value: 0.6105938052575128.\u001b[0m\n",
      "\u001b[32m[I 2023-08-30 01:09:06,826]\u001b[0m Trial 62 finished with value: 0.6071878202773767 and parameters: {'n_estimators': 66, 'max_depth': 10, 'min_samples_leaf': 3, 'min_samples_split': 9}. Best is trial 52 with value: 0.6105938052575128.\u001b[0m\n",
      "\u001b[32m[I 2023-08-30 01:09:10,430]\u001b[0m Trial 63 finished with value: 0.6073182753014341 and parameters: {'n_estimators': 70, 'max_depth': 10, 'min_samples_leaf': 3, 'min_samples_split': 9}. Best is trial 52 with value: 0.6105938052575128.\u001b[0m\n",
      "\u001b[32m[I 2023-08-30 01:09:13,237]\u001b[0m Trial 64 finished with value: 0.6031422228125078 and parameters: {'n_estimators': 57, 'max_depth': 9, 'min_samples_leaf': 3, 'min_samples_split': 9}. Best is trial 52 with value: 0.6105938052575128.\u001b[0m\n",
      "\u001b[32m[I 2023-08-30 01:09:16,350]\u001b[0m Trial 65 finished with value: 0.6065623969548073 and parameters: {'n_estimators': 61, 'max_depth': 10, 'min_samples_leaf': 3, 'min_samples_split': 9}. Best is trial 52 with value: 0.6105938052575128.\u001b[0m\n",
      "\u001b[32m[I 2023-08-30 01:09:19,792]\u001b[0m Trial 66 finished with value: 0.5621476433378461 and parameters: {'n_estimators': 90, 'max_depth': 6, 'min_samples_leaf': 1, 'min_samples_split': 5}. Best is trial 52 with value: 0.6105938052575128.\u001b[0m\n",
      "\u001b[32m[I 2023-08-30 01:09:22,431]\u001b[0m Trial 67 finished with value: 0.6058117506494343 and parameters: {'n_estimators': 53, 'max_depth': 10, 'min_samples_leaf': 4, 'min_samples_split': 7}. Best is trial 52 with value: 0.6105938052575128.\u001b[0m\n",
      "\u001b[32m[I 2023-08-30 01:09:25,613]\u001b[0m Trial 68 finished with value: 0.5980601144506903 and parameters: {'n_estimators': 67, 'max_depth': 9, 'min_samples_leaf': 5, 'min_samples_split': 9}. Best is trial 52 with value: 0.6105938052575128.\u001b[0m\n",
      "\u001b[32m[I 2023-08-30 01:09:29,042]\u001b[0m Trial 69 finished with value: 0.591593002304956 and parameters: {'n_estimators': 72, 'max_depth': 10, 'min_samples_leaf': 6, 'min_samples_split': 7}. Best is trial 52 with value: 0.6105938052575128.\u001b[0m\n",
      "\u001b[32m[I 2023-08-30 01:09:32,541]\u001b[0m Trial 70 finished with value: 0.5947357307673508 and parameters: {'n_estimators': 77, 'max_depth': 8, 'min_samples_leaf': 3, 'min_samples_split': 8}. Best is trial 52 with value: 0.6105938052575128.\u001b[0m\n",
      "\u001b[32m[I 2023-08-30 01:09:35,698]\u001b[0m Trial 71 finished with value: 0.6068241979311477 and parameters: {'n_estimators': 62, 'max_depth': 10, 'min_samples_leaf': 3, 'min_samples_split': 9}. Best is trial 52 with value: 0.6105938052575128.\u001b[0m\n",
      "\u001b[32m[I 2023-08-30 01:09:39,070]\u001b[0m Trial 72 finished with value: 0.6025797674201427 and parameters: {'n_estimators': 65, 'max_depth': 10, 'min_samples_leaf': 2, 'min_samples_split': 11}. Best is trial 52 with value: 0.6105938052575128.\u001b[0m\n",
      "\u001b[32m[I 2023-08-30 01:09:42,404]\u001b[0m Trial 73 finished with value: 0.6006257958370435 and parameters: {'n_estimators': 61, 'max_depth': 10, 'min_samples_leaf': 1, 'min_samples_split': 10}. Best is trial 52 with value: 0.6105938052575128.\u001b[0m\n",
      "\u001b[32m[I 2023-08-30 01:09:45,748]\u001b[0m Trial 74 finished with value: 0.6002249116732958 and parameters: {'n_estimators': 68, 'max_depth': 9, 'min_samples_leaf': 4, 'min_samples_split': 9}. Best is trial 52 with value: 0.6105938052575128.\u001b[0m\n",
      "\u001b[32m[I 2023-08-30 01:09:48,833]\u001b[0m Trial 75 finished with value: 0.6100338126108505 and parameters: {'n_estimators': 57, 'max_depth': 10, 'min_samples_leaf': 2, 'min_samples_split': 8}. Best is trial 52 with value: 0.6105938052575128.\u001b[0m\n",
      "\u001b[32m[I 2023-08-30 01:09:50,725]\u001b[0m Trial 76 finished with value: 0.5394385022135358 and parameters: {'n_estimators': 58, 'max_depth': 5, 'min_samples_leaf': 1, 'min_samples_split': 8}. Best is trial 52 with value: 0.6105938052575128.\u001b[0m\n",
      "\u001b[32m[I 2023-08-30 01:09:53,242]\u001b[0m Trial 77 finished with value: 0.6070435139602155 and parameters: {'n_estimators': 48, 'max_depth': 9, 'min_samples_leaf': 2, 'min_samples_split': 6}. Best is trial 52 with value: 0.6105938052575128.\u001b[0m\n",
      "\u001b[32m[I 2023-08-30 01:09:57,146]\u001b[0m Trial 78 finished with value: 0.6077503052513887 and parameters: {'n_estimators': 73, 'max_depth': 10, 'min_samples_leaf': 2, 'min_samples_split': 8}. Best is trial 52 with value: 0.6105938052575128.\u001b[0m\n",
      "\u001b[32m[I 2023-08-30 01:10:01,532]\u001b[0m Trial 79 finished with value: 0.6090955193881477 and parameters: {'n_estimators': 80, 'max_depth': 10, 'min_samples_leaf': 2, 'min_samples_split': 7}. Best is trial 52 with value: 0.6105938052575128.\u001b[0m\n",
      "\u001b[32m[I 2023-08-30 01:10:06,072]\u001b[0m Trial 80 finished with value: 0.6047801252757107 and parameters: {'n_estimators': 84, 'max_depth': 9, 'min_samples_leaf': 1, 'min_samples_split': 5}. Best is trial 52 with value: 0.6105938052575128.\u001b[0m\n",
      "\u001b[32m[I 2023-08-30 01:10:10,056]\u001b[0m Trial 81 finished with value: 0.6092533219030598 and parameters: {'n_estimators': 72, 'max_depth': 10, 'min_samples_leaf': 2, 'min_samples_split': 7}. Best is trial 52 with value: 0.6105938052575128.\u001b[0m\n",
      "\u001b[32m[I 2023-08-30 01:10:14,060]\u001b[0m Trial 82 finished with value: 0.6095187597296249 and parameters: {'n_estimators': 74, 'max_depth': 10, 'min_samples_leaf': 2, 'min_samples_split': 7}. Best is trial 52 with value: 0.6105938052575128.\u001b[0m\n",
      "\u001b[32m[I 2023-08-30 01:10:18,521]\u001b[0m Trial 83 finished with value: 0.6090955193881477 and parameters: {'n_estimators': 80, 'max_depth': 10, 'min_samples_leaf': 2, 'min_samples_split': 7}. Best is trial 52 with value: 0.6105938052575128.\u001b[0m\n",
      "\u001b[32m[I 2023-08-30 01:10:22,854]\u001b[0m Trial 84 finished with value: 0.6090955193881477 and parameters: {'n_estimators': 80, 'max_depth': 10, 'min_samples_leaf': 2, 'min_samples_split': 7}. Best is trial 52 with value: 0.6105938052575128.\u001b[0m\n",
      "\u001b[32m[I 2023-08-30 01:10:27,160]\u001b[0m Trial 85 finished with value: 0.6032290198649342 and parameters: {'n_estimators': 80, 'max_depth': 9, 'min_samples_leaf': 1, 'min_samples_split': 6}. Best is trial 52 with value: 0.6105938052575128.\u001b[0m\n",
      "\u001b[32m[I 2023-08-30 01:10:31,639]\u001b[0m Trial 86 finished with value: 0.6087717670253461 and parameters: {'n_estimators': 83, 'max_depth': 10, 'min_samples_leaf': 2, 'min_samples_split': 7}. Best is trial 52 with value: 0.6105938052575128.\u001b[0m\n",
      "\u001b[32m[I 2023-08-30 01:10:37,011]\u001b[0m Trial 87 finished with value: 0.6141248483695448 and parameters: {'n_estimators': 95, 'max_depth': 10, 'min_samples_leaf': 2, 'min_samples_split': 3}. Best is trial 87 with value: 0.6141248483695448.\u001b[0m\n",
      "\u001b[32m[I 2023-08-30 01:10:38,631]\u001b[0m Trial 88 finished with value: 0.3325211519562014 and parameters: {'n_estimators': 99, 'max_depth': 2, 'min_samples_leaf': 1, 'min_samples_split': 2}. Best is trial 87 with value: 0.6141248483695448.\u001b[0m\n",
      "\u001b[32m[I 2023-08-30 01:10:43,826]\u001b[0m Trial 89 finished with value: 0.6146088207306227 and parameters: {'n_estimators': 91, 'max_depth': 10, 'min_samples_leaf': 2, 'min_samples_split': 4}. Best is trial 89 with value: 0.6146088207306227.\u001b[0m\n",
      "\u001b[32m[I 2023-08-30 01:10:48,325]\u001b[0m Trial 90 finished with value: 0.6026620174405228 and parameters: {'n_estimators': 91, 'max_depth': 9, 'min_samples_leaf': 4, 'min_samples_split': 3}. Best is trial 89 with value: 0.6146088207306227.\u001b[0m\n",
      "\u001b[32m[I 2023-08-30 01:10:53,792]\u001b[0m Trial 91 finished with value: 0.6141248483695448 and parameters: {'n_estimators': 95, 'max_depth': 10, 'min_samples_leaf': 2, 'min_samples_split': 3}. Best is trial 89 with value: 0.6146088207306227.\u001b[0m\n",
      "\u001b[32m[I 2023-08-30 01:10:59,345]\u001b[0m Trial 92 finished with value: 0.6143233332043041 and parameters: {'n_estimators': 98, 'max_depth': 10, 'min_samples_leaf': 2, 'min_samples_split': 3}. Best is trial 89 with value: 0.6146088207306227.\u001b[0m\n",
      "\u001b[32m[I 2023-08-30 01:11:01,489]\u001b[0m Trial 93 finished with value: 0.45282600936614176 and parameters: {'n_estimators': 96, 'max_depth': 3, 'min_samples_leaf': 1, 'min_samples_split': 3}. Best is trial 89 with value: 0.6146088207306227.\u001b[0m\n",
      "\u001b[32m[I 2023-08-30 01:11:07,025]\u001b[0m Trial 94 finished with value: 0.6140539408369569 and parameters: {'n_estimators': 97, 'max_depth': 10, 'min_samples_leaf': 2, 'min_samples_split': 4}. Best is trial 89 with value: 0.6146088207306227.\u001b[0m\n",
      "\u001b[32m[I 2023-08-30 01:11:12,905]\u001b[0m Trial 95 finished with value: 0.610349089393377 and parameters: {'n_estimators': 97, 'max_depth': 10, 'min_samples_leaf': 1, 'min_samples_split': 4}. Best is trial 89 with value: 0.6146088207306227.\u001b[0m\n",
      "\u001b[32m[I 2023-08-30 01:11:18,320]\u001b[0m Trial 96 finished with value: 0.6056108784341493 and parameters: {'n_estimators': 97, 'max_depth': 9, 'min_samples_leaf': 1, 'min_samples_split': 4}. Best is trial 89 with value: 0.6146088207306227.\u001b[0m\n",
      "\u001b[32m[I 2023-08-30 01:11:23,819]\u001b[0m Trial 97 finished with value: 0.6109449372914195 and parameters: {'n_estimators': 93, 'max_depth': 10, 'min_samples_leaf': 1, 'min_samples_split': 4}. Best is trial 89 with value: 0.6146088207306227.\u001b[0m\n",
      "\u001b[32m[I 2023-08-30 01:11:29,354]\u001b[0m Trial 98 finished with value: 0.6109768858877839 and parameters: {'n_estimators': 92, 'max_depth': 10, 'min_samples_leaf': 1, 'min_samples_split': 3}. Best is trial 89 with value: 0.6146088207306227.\u001b[0m\n",
      "\u001b[32m[I 2023-08-30 01:11:34,539]\u001b[0m Trial 99 finished with value: 0.6060324406184566 and parameters: {'n_estimators': 93, 'max_depth': 9, 'min_samples_leaf': 1, 'min_samples_split': 3}. Best is trial 89 with value: 0.6146088207306227.\u001b[0m\n"
     ]
    },
    {
     "name": "stdout",
     "output_type": "stream",
     "text": [
      "Best r2:  0.6146088207306227\n",
      "Best trial: {'n_estimators': 91, 'max_depth': 10, 'min_samples_leaf': 2, 'min_samples_split': 4}\n"
     ]
    }
   ],
   "source": [
    "sampler = TPESampler()\n",
    "study = optuna.create_study(\n",
    "    study_name=\"rf_parameter_opt\",\n",
    "    direction=\"maximize\",\n",
    "    sampler=sampler,\n",
    ")\n",
    "\n",
    "study.optimize(lambda trial : objectiveRF(trial, Cd_X_train, Cd_y_train), n_trials=100)\n",
    "print(\"Best r2: \", study.best_value)\n",
    "print(\"Best trial:\", study.best_trial.params)"
   ]
  },
  {
   "cell_type": "code",
   "execution_count": 41,
   "id": "861f88d8",
   "metadata": {},
   "outputs": [
    {
     "data": {
      "application/vnd.plotly.v1+json": {
       "config": {
        "plotlyServerURL": "https://plot.ly"
       },
       "data": [
        {
         "dimensions": [
          {
           "label": "Objective Value",
           "range": [
            0.2025245379444746,
            0.6146088207306227
           ],
           "values": [
            0.5586520331099617,
            0.32994017654362945,
            0.5347899409511924,
            0.5785223866901166,
            0.5401393630204121,
            0.45107768493019557,
            0.4471705999555112,
            0.536494910920562,
            0.3316896883287846,
            0.5221380943872,
            0.6031659292268614,
            0.5976890390048262,
            0.6033145551584876,
            0.6038403212468182,
            0.5996527703684098,
            0.6053528880539598,
            0.5856840713444509,
            0.6019767655927903,
            0.5632118498906198,
            0.5519516953773321,
            0.5771797563315657,
            0.6033145551584876,
            0.5874153012625174,
            0.5668079816377426,
            0.5998125283143351,
            0.5964559458658037,
            0.6031064779111824,
            0.5742667537948655,
            0.596419915745786,
            0.5519853178865205,
            0.504844371070335,
            0.6033145551584876,
            0.6049854207403622,
            0.6004033001471513,
            0.5909822208926437,
            0.5502594204012565,
            0.602696136742227,
            0.560925857229733,
            0.2025245379444746,
            0.5367760897759715,
            0.579381707080011,
            0.5997543990591296,
            0.6078716659798996,
            0.6074643117535422,
            0.6012918942445469,
            0.5927831470265306,
            0.5823619943997619,
            0.605608625579948,
            0.5627723779159612,
            0.50526869176476,
            0.5906962250835235,
            0.6091888776108707,
            0.6105938052575128,
            0.6054253165096859,
            0.6053320376780029,
            0.6019612948471403,
            0.5983657097184392,
            0.5879430312273837,
            0.5975693885820352,
            0.6031668687246575,
            0.5763594854667543,
            0.6071878202773767,
            0.6071878202773767,
            0.6073182753014341,
            0.6031422228125078,
            0.6065623969548073,
            0.5621476433378461,
            0.6058117506494343,
            0.5980601144506903,
            0.591593002304956,
            0.5947357307673508,
            0.6068241979311477,
            0.6025797674201427,
            0.6006257958370435,
            0.6002249116732958,
            0.6100338126108505,
            0.5394385022135358,
            0.6070435139602155,
            0.6077503052513887,
            0.6090955193881477,
            0.6047801252757107,
            0.6092533219030598,
            0.6095187597296249,
            0.6090955193881477,
            0.6090955193881477,
            0.6032290198649342,
            0.6087717670253461,
            0.6141248483695448,
            0.3325211519562014,
            0.6146088207306227,
            0.6026620174405228,
            0.6141248483695448,
            0.6143233332043041,
            0.45282600936614176,
            0.6140539408369569,
            0.610349089393377,
            0.6056108784341493,
            0.6109449372914195,
            0.6109768858877839,
            0.6060324406184566
           ]
          },
          {
           "label": "max_depth",
           "range": [
            1,
            10
           ],
           "values": [
            8,
            2,
            7,
            8,
            6,
            3,
            3,
            5,
            2,
            5,
            10,
            10,
            10,
            10,
            9,
            10,
            8,
            9,
            6,
            9,
            7,
            10,
            10,
            9,
            10,
            8,
            9,
            7,
            10,
            8,
            4,
            10,
            9,
            9,
            8,
            9,
            10,
            7,
            1,
            8,
            9,
            10,
            10,
            10,
            9,
            10,
            9,
            10,
            10,
            4,
            8,
            10,
            10,
            10,
            10,
            9,
            10,
            10,
            9,
            10,
            9,
            10,
            10,
            10,
            9,
            10,
            6,
            10,
            9,
            10,
            8,
            10,
            10,
            10,
            9,
            10,
            5,
            9,
            10,
            10,
            9,
            10,
            10,
            10,
            10,
            9,
            10,
            10,
            2,
            10,
            9,
            10,
            10,
            3,
            10,
            10,
            9,
            10,
            10,
            9
           ]
          },
          {
           "label": "min_samples_leaf",
           "range": [
            1,
            20
           ],
           "values": [
            12,
            9,
            19,
            8,
            13,
            9,
            8,
            7,
            20,
            11,
            2,
            1,
            1,
            1,
            5,
            4,
            4,
            4,
            5,
            15,
            3,
            1,
            6,
            1,
            3,
            3,
            1,
            6,
            3,
            14,
            2,
            1,
            2,
            4,
            2,
            16,
            5,
            10,
            7,
            18,
            2,
            1,
            2,
            3,
            4,
            6,
            8,
            2,
            12,
            3,
            5,
            2,
            2,
            4,
            2,
            3,
            4,
            7,
            2,
            5,
            9,
            3,
            3,
            3,
            3,
            3,
            1,
            4,
            5,
            6,
            3,
            3,
            2,
            1,
            4,
            2,
            1,
            2,
            2,
            2,
            1,
            2,
            2,
            2,
            2,
            1,
            2,
            2,
            1,
            2,
            4,
            2,
            2,
            1,
            2,
            1,
            1,
            1,
            1,
            1
           ]
          },
          {
           "label": "min_samples_split",
           "range": [
            2,
            20
           ],
           "values": [
            5,
            15,
            11,
            11,
            18,
            18,
            4,
            2,
            7,
            20,
            11,
            11,
            9,
            8,
            8,
            8,
            14,
            6,
            3,
            9,
            14,
            9,
            7,
            9,
            13,
            5,
            8,
            10,
            13,
            5,
            6,
            9,
            7,
            7,
            6,
            12,
            8,
            10,
            4,
            7,
            16,
            10,
            9,
            8,
            8,
            6,
            4,
            10,
            12,
            10,
            11,
            8,
            7,
            8,
            10,
            9,
            12,
            6,
            11,
            8,
            7,
            9,
            9,
            9,
            9,
            9,
            5,
            7,
            9,
            7,
            8,
            9,
            11,
            10,
            9,
            8,
            8,
            6,
            8,
            7,
            5,
            7,
            7,
            7,
            7,
            6,
            7,
            3,
            2,
            4,
            3,
            3,
            3,
            3,
            4,
            4,
            4,
            4,
            3,
            3
           ]
          },
          {
           "label": "n_estimators",
           "range": [
            10,
            100
           ],
           "values": [
            34,
            20,
            94,
            56,
            67,
            95,
            17,
            100,
            61,
            22,
            47,
            46,
            41,
            42,
            35,
            74,
            76,
            79,
            75,
            68,
            87,
            41,
            30,
            10,
            51,
            40,
            55,
            63,
            29,
            38,
            84,
            41,
            48,
            50,
            29,
            58,
            44,
            54,
            70,
            34,
            24,
            44,
            50,
            63,
            63,
            59,
            51,
            70,
            74,
            70,
            81,
            64,
            65,
            65,
            65,
            67,
            60,
            72,
            78,
            63,
            55,
            66,
            66,
            70,
            57,
            61,
            90,
            53,
            67,
            72,
            77,
            62,
            65,
            61,
            68,
            57,
            58,
            48,
            73,
            80,
            84,
            72,
            74,
            80,
            80,
            80,
            83,
            95,
            99,
            91,
            91,
            95,
            98,
            96,
            97,
            97,
            97,
            93,
            92,
            93
           ]
          }
         ],
         "labelangle": 30,
         "labelside": "bottom",
         "line": {
          "color": [
           0.5586520331099617,
           0.32994017654362945,
           0.5347899409511924,
           0.5785223866901166,
           0.5401393630204121,
           0.45107768493019557,
           0.4471705999555112,
           0.536494910920562,
           0.3316896883287846,
           0.5221380943872,
           0.6031659292268614,
           0.5976890390048262,
           0.6033145551584876,
           0.6038403212468182,
           0.5996527703684098,
           0.6053528880539598,
           0.5856840713444509,
           0.6019767655927903,
           0.5632118498906198,
           0.5519516953773321,
           0.5771797563315657,
           0.6033145551584876,
           0.5874153012625174,
           0.5668079816377426,
           0.5998125283143351,
           0.5964559458658037,
           0.6031064779111824,
           0.5742667537948655,
           0.596419915745786,
           0.5519853178865205,
           0.504844371070335,
           0.6033145551584876,
           0.6049854207403622,
           0.6004033001471513,
           0.5909822208926437,
           0.5502594204012565,
           0.602696136742227,
           0.560925857229733,
           0.2025245379444746,
           0.5367760897759715,
           0.579381707080011,
           0.5997543990591296,
           0.6078716659798996,
           0.6074643117535422,
           0.6012918942445469,
           0.5927831470265306,
           0.5823619943997619,
           0.605608625579948,
           0.5627723779159612,
           0.50526869176476,
           0.5906962250835235,
           0.6091888776108707,
           0.6105938052575128,
           0.6054253165096859,
           0.6053320376780029,
           0.6019612948471403,
           0.5983657097184392,
           0.5879430312273837,
           0.5975693885820352,
           0.6031668687246575,
           0.5763594854667543,
           0.6071878202773767,
           0.6071878202773767,
           0.6073182753014341,
           0.6031422228125078,
           0.6065623969548073,
           0.5621476433378461,
           0.6058117506494343,
           0.5980601144506903,
           0.591593002304956,
           0.5947357307673508,
           0.6068241979311477,
           0.6025797674201427,
           0.6006257958370435,
           0.6002249116732958,
           0.6100338126108505,
           0.5394385022135358,
           0.6070435139602155,
           0.6077503052513887,
           0.6090955193881477,
           0.6047801252757107,
           0.6092533219030598,
           0.6095187597296249,
           0.6090955193881477,
           0.6090955193881477,
           0.6032290198649342,
           0.6087717670253461,
           0.6141248483695448,
           0.3325211519562014,
           0.6146088207306227,
           0.6026620174405228,
           0.6141248483695448,
           0.6143233332043041,
           0.45282600936614176,
           0.6140539408369569,
           0.610349089393377,
           0.6056108784341493,
           0.6109449372914195,
           0.6109768858877839,
           0.6060324406184566
          ],
          "colorbar": {
           "title": {
            "text": "Objective Value"
           }
          },
          "colorscale": [
           [
            0,
            "rgb(247,251,255)"
           ],
           [
            0.125,
            "rgb(222,235,247)"
           ],
           [
            0.25,
            "rgb(198,219,239)"
           ],
           [
            0.375,
            "rgb(158,202,225)"
           ],
           [
            0.5,
            "rgb(107,174,214)"
           ],
           [
            0.625,
            "rgb(66,146,198)"
           ],
           [
            0.75,
            "rgb(33,113,181)"
           ],
           [
            0.875,
            "rgb(8,81,156)"
           ],
           [
            1,
            "rgb(8,48,107)"
           ]
          ],
          "reversescale": false,
          "showscale": true
         },
         "type": "parcoords"
        }
       ],
       "layout": {
        "template": {
         "data": {
          "bar": [
           {
            "error_x": {
             "color": "#2a3f5f"
            },
            "error_y": {
             "color": "#2a3f5f"
            },
            "marker": {
             "line": {
              "color": "#E5ECF6",
              "width": 0.5
             },
             "pattern": {
              "fillmode": "overlay",
              "size": 10,
              "solidity": 0.2
             }
            },
            "type": "bar"
           }
          ],
          "barpolar": [
           {
            "marker": {
             "line": {
              "color": "#E5ECF6",
              "width": 0.5
             },
             "pattern": {
              "fillmode": "overlay",
              "size": 10,
              "solidity": 0.2
             }
            },
            "type": "barpolar"
           }
          ],
          "carpet": [
           {
            "aaxis": {
             "endlinecolor": "#2a3f5f",
             "gridcolor": "white",
             "linecolor": "white",
             "minorgridcolor": "white",
             "startlinecolor": "#2a3f5f"
            },
            "baxis": {
             "endlinecolor": "#2a3f5f",
             "gridcolor": "white",
             "linecolor": "white",
             "minorgridcolor": "white",
             "startlinecolor": "#2a3f5f"
            },
            "type": "carpet"
           }
          ],
          "choropleth": [
           {
            "colorbar": {
             "outlinewidth": 0,
             "ticks": ""
            },
            "type": "choropleth"
           }
          ],
          "contour": [
           {
            "colorbar": {
             "outlinewidth": 0,
             "ticks": ""
            },
            "colorscale": [
             [
              0,
              "#0d0887"
             ],
             [
              0.1111111111111111,
              "#46039f"
             ],
             [
              0.2222222222222222,
              "#7201a8"
             ],
             [
              0.3333333333333333,
              "#9c179e"
             ],
             [
              0.4444444444444444,
              "#bd3786"
             ],
             [
              0.5555555555555556,
              "#d8576b"
             ],
             [
              0.6666666666666666,
              "#ed7953"
             ],
             [
              0.7777777777777778,
              "#fb9f3a"
             ],
             [
              0.8888888888888888,
              "#fdca26"
             ],
             [
              1,
              "#f0f921"
             ]
            ],
            "type": "contour"
           }
          ],
          "contourcarpet": [
           {
            "colorbar": {
             "outlinewidth": 0,
             "ticks": ""
            },
            "type": "contourcarpet"
           }
          ],
          "heatmap": [
           {
            "colorbar": {
             "outlinewidth": 0,
             "ticks": ""
            },
            "colorscale": [
             [
              0,
              "#0d0887"
             ],
             [
              0.1111111111111111,
              "#46039f"
             ],
             [
              0.2222222222222222,
              "#7201a8"
             ],
             [
              0.3333333333333333,
              "#9c179e"
             ],
             [
              0.4444444444444444,
              "#bd3786"
             ],
             [
              0.5555555555555556,
              "#d8576b"
             ],
             [
              0.6666666666666666,
              "#ed7953"
             ],
             [
              0.7777777777777778,
              "#fb9f3a"
             ],
             [
              0.8888888888888888,
              "#fdca26"
             ],
             [
              1,
              "#f0f921"
             ]
            ],
            "type": "heatmap"
           }
          ],
          "heatmapgl": [
           {
            "colorbar": {
             "outlinewidth": 0,
             "ticks": ""
            },
            "colorscale": [
             [
              0,
              "#0d0887"
             ],
             [
              0.1111111111111111,
              "#46039f"
             ],
             [
              0.2222222222222222,
              "#7201a8"
             ],
             [
              0.3333333333333333,
              "#9c179e"
             ],
             [
              0.4444444444444444,
              "#bd3786"
             ],
             [
              0.5555555555555556,
              "#d8576b"
             ],
             [
              0.6666666666666666,
              "#ed7953"
             ],
             [
              0.7777777777777778,
              "#fb9f3a"
             ],
             [
              0.8888888888888888,
              "#fdca26"
             ],
             [
              1,
              "#f0f921"
             ]
            ],
            "type": "heatmapgl"
           }
          ],
          "histogram": [
           {
            "marker": {
             "pattern": {
              "fillmode": "overlay",
              "size": 10,
              "solidity": 0.2
             }
            },
            "type": "histogram"
           }
          ],
          "histogram2d": [
           {
            "colorbar": {
             "outlinewidth": 0,
             "ticks": ""
            },
            "colorscale": [
             [
              0,
              "#0d0887"
             ],
             [
              0.1111111111111111,
              "#46039f"
             ],
             [
              0.2222222222222222,
              "#7201a8"
             ],
             [
              0.3333333333333333,
              "#9c179e"
             ],
             [
              0.4444444444444444,
              "#bd3786"
             ],
             [
              0.5555555555555556,
              "#d8576b"
             ],
             [
              0.6666666666666666,
              "#ed7953"
             ],
             [
              0.7777777777777778,
              "#fb9f3a"
             ],
             [
              0.8888888888888888,
              "#fdca26"
             ],
             [
              1,
              "#f0f921"
             ]
            ],
            "type": "histogram2d"
           }
          ],
          "histogram2dcontour": [
           {
            "colorbar": {
             "outlinewidth": 0,
             "ticks": ""
            },
            "colorscale": [
             [
              0,
              "#0d0887"
             ],
             [
              0.1111111111111111,
              "#46039f"
             ],
             [
              0.2222222222222222,
              "#7201a8"
             ],
             [
              0.3333333333333333,
              "#9c179e"
             ],
             [
              0.4444444444444444,
              "#bd3786"
             ],
             [
              0.5555555555555556,
              "#d8576b"
             ],
             [
              0.6666666666666666,
              "#ed7953"
             ],
             [
              0.7777777777777778,
              "#fb9f3a"
             ],
             [
              0.8888888888888888,
              "#fdca26"
             ],
             [
              1,
              "#f0f921"
             ]
            ],
            "type": "histogram2dcontour"
           }
          ],
          "mesh3d": [
           {
            "colorbar": {
             "outlinewidth": 0,
             "ticks": ""
            },
            "type": "mesh3d"
           }
          ],
          "parcoords": [
           {
            "line": {
             "colorbar": {
              "outlinewidth": 0,
              "ticks": ""
             }
            },
            "type": "parcoords"
           }
          ],
          "pie": [
           {
            "automargin": true,
            "type": "pie"
           }
          ],
          "scatter": [
           {
            "marker": {
             "colorbar": {
              "outlinewidth": 0,
              "ticks": ""
             }
            },
            "type": "scatter"
           }
          ],
          "scatter3d": [
           {
            "line": {
             "colorbar": {
              "outlinewidth": 0,
              "ticks": ""
             }
            },
            "marker": {
             "colorbar": {
              "outlinewidth": 0,
              "ticks": ""
             }
            },
            "type": "scatter3d"
           }
          ],
          "scattercarpet": [
           {
            "marker": {
             "colorbar": {
              "outlinewidth": 0,
              "ticks": ""
             }
            },
            "type": "scattercarpet"
           }
          ],
          "scattergeo": [
           {
            "marker": {
             "colorbar": {
              "outlinewidth": 0,
              "ticks": ""
             }
            },
            "type": "scattergeo"
           }
          ],
          "scattergl": [
           {
            "marker": {
             "colorbar": {
              "outlinewidth": 0,
              "ticks": ""
             }
            },
            "type": "scattergl"
           }
          ],
          "scattermapbox": [
           {
            "marker": {
             "colorbar": {
              "outlinewidth": 0,
              "ticks": ""
             }
            },
            "type": "scattermapbox"
           }
          ],
          "scatterpolar": [
           {
            "marker": {
             "colorbar": {
              "outlinewidth": 0,
              "ticks": ""
             }
            },
            "type": "scatterpolar"
           }
          ],
          "scatterpolargl": [
           {
            "marker": {
             "colorbar": {
              "outlinewidth": 0,
              "ticks": ""
             }
            },
            "type": "scatterpolargl"
           }
          ],
          "scatterternary": [
           {
            "marker": {
             "colorbar": {
              "outlinewidth": 0,
              "ticks": ""
             }
            },
            "type": "scatterternary"
           }
          ],
          "surface": [
           {
            "colorbar": {
             "outlinewidth": 0,
             "ticks": ""
            },
            "colorscale": [
             [
              0,
              "#0d0887"
             ],
             [
              0.1111111111111111,
              "#46039f"
             ],
             [
              0.2222222222222222,
              "#7201a8"
             ],
             [
              0.3333333333333333,
              "#9c179e"
             ],
             [
              0.4444444444444444,
              "#bd3786"
             ],
             [
              0.5555555555555556,
              "#d8576b"
             ],
             [
              0.6666666666666666,
              "#ed7953"
             ],
             [
              0.7777777777777778,
              "#fb9f3a"
             ],
             [
              0.8888888888888888,
              "#fdca26"
             ],
             [
              1,
              "#f0f921"
             ]
            ],
            "type": "surface"
           }
          ],
          "table": [
           {
            "cells": {
             "fill": {
              "color": "#EBF0F8"
             },
             "line": {
              "color": "white"
             }
            },
            "header": {
             "fill": {
              "color": "#C8D4E3"
             },
             "line": {
              "color": "white"
             }
            },
            "type": "table"
           }
          ]
         },
         "layout": {
          "annotationdefaults": {
           "arrowcolor": "#2a3f5f",
           "arrowhead": 0,
           "arrowwidth": 1
          },
          "autotypenumbers": "strict",
          "coloraxis": {
           "colorbar": {
            "outlinewidth": 0,
            "ticks": ""
           }
          },
          "colorscale": {
           "diverging": [
            [
             0,
             "#8e0152"
            ],
            [
             0.1,
             "#c51b7d"
            ],
            [
             0.2,
             "#de77ae"
            ],
            [
             0.3,
             "#f1b6da"
            ],
            [
             0.4,
             "#fde0ef"
            ],
            [
             0.5,
             "#f7f7f7"
            ],
            [
             0.6,
             "#e6f5d0"
            ],
            [
             0.7,
             "#b8e186"
            ],
            [
             0.8,
             "#7fbc41"
            ],
            [
             0.9,
             "#4d9221"
            ],
            [
             1,
             "#276419"
            ]
           ],
           "sequential": [
            [
             0,
             "#0d0887"
            ],
            [
             0.1111111111111111,
             "#46039f"
            ],
            [
             0.2222222222222222,
             "#7201a8"
            ],
            [
             0.3333333333333333,
             "#9c179e"
            ],
            [
             0.4444444444444444,
             "#bd3786"
            ],
            [
             0.5555555555555556,
             "#d8576b"
            ],
            [
             0.6666666666666666,
             "#ed7953"
            ],
            [
             0.7777777777777778,
             "#fb9f3a"
            ],
            [
             0.8888888888888888,
             "#fdca26"
            ],
            [
             1,
             "#f0f921"
            ]
           ],
           "sequentialminus": [
            [
             0,
             "#0d0887"
            ],
            [
             0.1111111111111111,
             "#46039f"
            ],
            [
             0.2222222222222222,
             "#7201a8"
            ],
            [
             0.3333333333333333,
             "#9c179e"
            ],
            [
             0.4444444444444444,
             "#bd3786"
            ],
            [
             0.5555555555555556,
             "#d8576b"
            ],
            [
             0.6666666666666666,
             "#ed7953"
            ],
            [
             0.7777777777777778,
             "#fb9f3a"
            ],
            [
             0.8888888888888888,
             "#fdca26"
            ],
            [
             1,
             "#f0f921"
            ]
           ]
          },
          "colorway": [
           "#636efa",
           "#EF553B",
           "#00cc96",
           "#ab63fa",
           "#FFA15A",
           "#19d3f3",
           "#FF6692",
           "#B6E880",
           "#FF97FF",
           "#FECB52"
          ],
          "font": {
           "color": "#2a3f5f"
          },
          "geo": {
           "bgcolor": "white",
           "lakecolor": "white",
           "landcolor": "#E5ECF6",
           "showlakes": true,
           "showland": true,
           "subunitcolor": "white"
          },
          "hoverlabel": {
           "align": "left"
          },
          "hovermode": "closest",
          "mapbox": {
           "style": "light"
          },
          "paper_bgcolor": "white",
          "plot_bgcolor": "#E5ECF6",
          "polar": {
           "angularaxis": {
            "gridcolor": "white",
            "linecolor": "white",
            "ticks": ""
           },
           "bgcolor": "#E5ECF6",
           "radialaxis": {
            "gridcolor": "white",
            "linecolor": "white",
            "ticks": ""
           }
          },
          "scene": {
           "xaxis": {
            "backgroundcolor": "#E5ECF6",
            "gridcolor": "white",
            "gridwidth": 2,
            "linecolor": "white",
            "showbackground": true,
            "ticks": "",
            "zerolinecolor": "white"
           },
           "yaxis": {
            "backgroundcolor": "#E5ECF6",
            "gridcolor": "white",
            "gridwidth": 2,
            "linecolor": "white",
            "showbackground": true,
            "ticks": "",
            "zerolinecolor": "white"
           },
           "zaxis": {
            "backgroundcolor": "#E5ECF6",
            "gridcolor": "white",
            "gridwidth": 2,
            "linecolor": "white",
            "showbackground": true,
            "ticks": "",
            "zerolinecolor": "white"
           }
          },
          "shapedefaults": {
           "line": {
            "color": "#2a3f5f"
           }
          },
          "ternary": {
           "aaxis": {
            "gridcolor": "white",
            "linecolor": "white",
            "ticks": ""
           },
           "baxis": {
            "gridcolor": "white",
            "linecolor": "white",
            "ticks": ""
           },
           "bgcolor": "#E5ECF6",
           "caxis": {
            "gridcolor": "white",
            "linecolor": "white",
            "ticks": ""
           }
          },
          "title": {
           "x": 0.05
          },
          "xaxis": {
           "automargin": true,
           "gridcolor": "white",
           "linecolor": "white",
           "ticks": "",
           "title": {
            "standoff": 15
           },
           "zerolinecolor": "white",
           "zerolinewidth": 2
          },
          "yaxis": {
           "automargin": true,
           "gridcolor": "white",
           "linecolor": "white",
           "ticks": "",
           "title": {
            "standoff": 15
           },
           "zerolinecolor": "white",
           "zerolinewidth": 2
          }
         }
        },
        "title": {
         "text": "Parallel Coordinate Plot"
        }
       }
      }
     },
     "metadata": {},
     "output_type": "display_data"
    }
   ],
   "source": [
    "optuna.visualization.plot_parallel_coordinate(study)"
   ]
  },
  {
   "cell_type": "code",
   "execution_count": 42,
   "id": "4afa60aa",
   "metadata": {},
   "outputs": [
    {
     "name": "stdout",
     "output_type": "stream",
     "text": [
      "Best trial: {'n_estimators': 91, 'max_depth': 10, 'min_samples_leaf': 2, 'min_samples_split': 4}\n"
     ]
    },
    {
     "data": {
      "text/plain": [
       "91"
      ]
     },
     "execution_count": 42,
     "metadata": {},
     "output_type": "execute_result"
    }
   ],
   "source": [
    "print(\"Best trial:\", study.best_trial.params)\n",
    "study.best_trial.params[\"n_estimators\"]"
   ]
  },
  {
   "cell_type": "code",
   "execution_count": 43,
   "id": "3b45adad",
   "metadata": {},
   "outputs": [
    {
     "data": {
      "text/html": [
       "<style>#sk-container-id-2 {color: black;}#sk-container-id-2 pre{padding: 0;}#sk-container-id-2 div.sk-toggleable {background-color: white;}#sk-container-id-2 label.sk-toggleable__label {cursor: pointer;display: block;width: 100%;margin-bottom: 0;padding: 0.3em;box-sizing: border-box;text-align: center;}#sk-container-id-2 label.sk-toggleable__label-arrow:before {content: \"▸\";float: left;margin-right: 0.25em;color: #696969;}#sk-container-id-2 label.sk-toggleable__label-arrow:hover:before {color: black;}#sk-container-id-2 div.sk-estimator:hover label.sk-toggleable__label-arrow:before {color: black;}#sk-container-id-2 div.sk-toggleable__content {max-height: 0;max-width: 0;overflow: hidden;text-align: left;background-color: #f0f8ff;}#sk-container-id-2 div.sk-toggleable__content pre {margin: 0.2em;color: black;border-radius: 0.25em;background-color: #f0f8ff;}#sk-container-id-2 input.sk-toggleable__control:checked~div.sk-toggleable__content {max-height: 200px;max-width: 100%;overflow: auto;}#sk-container-id-2 input.sk-toggleable__control:checked~label.sk-toggleable__label-arrow:before {content: \"▾\";}#sk-container-id-2 div.sk-estimator input.sk-toggleable__control:checked~label.sk-toggleable__label {background-color: #d4ebff;}#sk-container-id-2 div.sk-label input.sk-toggleable__control:checked~label.sk-toggleable__label {background-color: #d4ebff;}#sk-container-id-2 input.sk-hidden--visually {border: 0;clip: rect(1px 1px 1px 1px);clip: rect(1px, 1px, 1px, 1px);height: 1px;margin: -1px;overflow: hidden;padding: 0;position: absolute;width: 1px;}#sk-container-id-2 div.sk-estimator {font-family: monospace;background-color: #f0f8ff;border: 1px dotted black;border-radius: 0.25em;box-sizing: border-box;margin-bottom: 0.5em;}#sk-container-id-2 div.sk-estimator:hover {background-color: #d4ebff;}#sk-container-id-2 div.sk-parallel-item::after {content: \"\";width: 100%;border-bottom: 1px solid gray;flex-grow: 1;}#sk-container-id-2 div.sk-label:hover label.sk-toggleable__label {background-color: #d4ebff;}#sk-container-id-2 div.sk-serial::before {content: \"\";position: absolute;border-left: 1px solid gray;box-sizing: border-box;top: 0;bottom: 0;left: 50%;z-index: 0;}#sk-container-id-2 div.sk-serial {display: flex;flex-direction: column;align-items: center;background-color: white;padding-right: 0.2em;padding-left: 0.2em;position: relative;}#sk-container-id-2 div.sk-item {position: relative;z-index: 1;}#sk-container-id-2 div.sk-parallel {display: flex;align-items: stretch;justify-content: center;background-color: white;position: relative;}#sk-container-id-2 div.sk-item::before, #sk-container-id-2 div.sk-parallel-item::before {content: \"\";position: absolute;border-left: 1px solid gray;box-sizing: border-box;top: 0;bottom: 0;left: 50%;z-index: -1;}#sk-container-id-2 div.sk-parallel-item {display: flex;flex-direction: column;z-index: 1;position: relative;background-color: white;}#sk-container-id-2 div.sk-parallel-item:first-child::after {align-self: flex-end;width: 50%;}#sk-container-id-2 div.sk-parallel-item:last-child::after {align-self: flex-start;width: 50%;}#sk-container-id-2 div.sk-parallel-item:only-child::after {width: 0;}#sk-container-id-2 div.sk-dashed-wrapped {border: 1px dashed gray;margin: 0 0.4em 0.5em 0.4em;box-sizing: border-box;padding-bottom: 0.4em;background-color: white;}#sk-container-id-2 div.sk-label label {font-family: monospace;font-weight: bold;display: inline-block;line-height: 1.2em;}#sk-container-id-2 div.sk-label-container {text-align: center;}#sk-container-id-2 div.sk-container {/* jupyter's `normalize.less` sets `[hidden] { display: none; }` but bootstrap.min.css set `[hidden] { display: none !important; }` so we also need the `!important` here to be able to override the default hidden behavior on the sphinx rendered scikit-learn.org. See: https://github.com/scikit-learn/scikit-learn/issues/21755 */display: inline-block !important;position: relative;}#sk-container-id-2 div.sk-text-repr-fallback {display: none;}</style><div id=\"sk-container-id-2\" class=\"sk-top-container\"><div class=\"sk-text-repr-fallback\"><pre>RandomForestRegressor(max_depth=10, min_samples_leaf=2, min_samples_split=4,\n",
       "                      n_estimators=91, random_state=42)</pre><b>In a Jupyter environment, please rerun this cell to show the HTML representation or trust the notebook. <br />On GitHub, the HTML representation is unable to render, please try loading this page with nbviewer.org.</b></div><div class=\"sk-container\" hidden><div class=\"sk-item\"><div class=\"sk-estimator sk-toggleable\"><input class=\"sk-toggleable__control sk-hidden--visually\" id=\"sk-estimator-id-2\" type=\"checkbox\" checked><label for=\"sk-estimator-id-2\" class=\"sk-toggleable__label sk-toggleable__label-arrow\">RandomForestRegressor</label><div class=\"sk-toggleable__content\"><pre>RandomForestRegressor(max_depth=10, min_samples_leaf=2, min_samples_split=4,\n",
       "                      n_estimators=91, random_state=42)</pre></div></div></div></div></div>"
      ],
      "text/plain": [
       "RandomForestRegressor(max_depth=10, min_samples_leaf=2, min_samples_split=4,\n",
       "                      n_estimators=91, random_state=42)"
      ]
     },
     "execution_count": 43,
     "metadata": {},
     "output_type": "execute_result"
    }
   ],
   "source": [
    "rf_params = {\n",
    "    \"random_state\": 42,\n",
    "    #\"learning_rate\": 0.1,\n",
    "    \"n_estimators\": study.best_trial.params[\"n_estimators\"],\n",
    "    \"max_depth\": study.best_trial.params[\"max_depth\"],\n",
    "    \"min_samples_leaf\": study.best_trial.params[\"min_samples_leaf\"],\n",
    "    \"min_samples_split\": study.best_trial.params[\"min_samples_split\"],\n",
    "    #\"subsample\": study.best_trial.params[\"subsample\"]\n",
    "}\n",
    "\n",
    "rf = RandomForestRegressor(**rf_params)\n",
    "rf.fit(Cd_X_train, Cd_y_train)"
   ]
  },
  {
   "cell_type": "code",
   "execution_count": 44,
   "id": "9ab1055b",
   "metadata": {},
   "outputs": [],
   "source": [
    "y_train_pred = rf.predict(Cd_X_train)\n",
    "y_test_pred = rf.predict(Cd_X_test)"
   ]
  },
  {
   "cell_type": "code",
   "execution_count": 45,
   "id": "425b4001",
   "metadata": {},
   "outputs": [
    {
     "name": "stdout",
     "output_type": "stream",
     "text": [
      "Train RMSE:  0.0810000435442097\n",
      "Test RMSE:  0.19675323488647553\n"
     ]
    }
   ],
   "source": [
    "print(\"Train RMSE: \", np.sqrt(mean_squared_error(Cd_y_train, y_train_pred)))\n",
    "print(\"Test RMSE: \", np.sqrt(mean_squared_error(Cd_y_test, y_test_pred)))"
   ]
  },
  {
   "cell_type": "code",
   "execution_count": 46,
   "id": "0f95ae3c",
   "metadata": {},
   "outputs": [
    {
     "name": "stdout",
     "output_type": "stream",
     "text": [
      "Train R2:  0.8744641848587535\n",
      "Test R2:  0.30544408275640866\n"
     ]
    }
   ],
   "source": [
    "print(\"Train R2: \", r2_score(Cd_y_train, y_train_pred))\n",
    "print(\"Test R2: \", r2_score(Cd_y_test, y_test_pred))"
   ]
  },
  {
   "cell_type": "code",
   "execution_count": 47,
   "id": "aa0a517d",
   "metadata": {},
   "outputs": [
    {
     "data": {
      "image/png": "[encoded data removed]",
      "text/plain": [
       "<Figure size 640x480 with 1 Axes>"
      ]
     },
     "metadata": {},
     "output_type": "display_data"
    }
   ],
   "source": [
    "plt.scatter(y_train_pred, np.array(Cd_y_train), color=\"orange\", alpha=0.3)\n",
    "plt.scatter(y_test_pred, np.array(Cd_y_test), color=\"green\", alpha=0.4)\n",
    "plt.axis(\"auto\") # scaled, tight, auto, image, square\n",
    "# plt.xlim([0, 1.5]) \n",
    "# plt.ylim(0, None) \n",
    "plt.xlabel('Predicted Values')\n",
    "plt.ylabel('Actual Values')\n",
    "\n",
    "# Add y=x line\n",
    "plt.plot([0, 0.5], [0, 0.5], color='red', linestyle='-')\n",
    "\n",
    "plt.show()"
   ]
  },
  {
   "cell_type": "code",
   "execution_count": 48,
   "id": "59b70324",
   "metadata": {},
   "outputs": [],
   "source": [
    "Cd_pred = pd.DataFrame(y_train_pred, columns = ['Cd_pred'])\n",
    "Cd_pred_test = pd.DataFrame(y_test_pred, columns = ['Cd_pred'])"
   ]
  },
  {
   "cell_type": "code",
   "execution_count": 49,
   "id": "b474f4c1",
   "metadata": {},
   "outputs": [],
   "source": [
    "Cd_y_train = Cd_y_train.reset_index(drop = False)\n",
    "Cd_y_test = Cd_y_test.reset_index(drop = False)"
   ]
  },
  {
   "cell_type": "code",
   "execution_count": 50,
   "id": "be32eb3f",
   "metadata": {},
   "outputs": [],
   "source": [
    "Cd_data = pd.concat([Cd_pred, Cd_y_train], axis = 1)\n",
    "Cd_data_test = pd.concat([Cd_pred_test, Cd_y_test], axis = 1)"
   ]
  },
  {
   "cell_type": "code",
   "execution_count": 51,
   "id": "5aaaa05d",
   "metadata": {},
   "outputs": [],
   "source": [
    "Cd_data.to_csv('RF_Cd_train_data.csv', sep = ',')\n",
    "Cd_data_test.to_csv('RF_Cd_test_data.csv', sep = ',')"
   ]
  },
  {
   "attachments": {},
   "cell_type": "markdown",
   "id": "74f680ea",
   "metadata": {},
   "source": [
    "Ni"
   ]
  },
  {
   "cell_type": "code",
   "execution_count": 52,
   "id": "de233338",
   "metadata": {},
   "outputs": [
    {
     "name": "stderr",
     "output_type": "stream",
     "text": [
      "\u001b[32m[I 2023-08-30 01:22:07,663]\u001b[0m A new study created in memory with name: rf_parameter_opt\u001b[0m\n",
      "\u001b[32m[I 2023-08-30 01:22:10,811]\u001b[0m Trial 0 finished with value: 0.5503952961424547 and parameters: {'n_estimators': 83, 'max_depth': 9, 'min_samples_leaf': 16, 'min_samples_split': 16}. Best is trial 0 with value: 0.5503952961424547.\u001b[0m\n",
      "\u001b[32m[I 2023-08-30 01:22:15,608]\u001b[0m Trial 1 finished with value: 0.6454289156091864 and parameters: {'n_estimators': 95, 'max_depth': 8, 'min_samples_leaf': 2, 'min_samples_split': 9}. Best is trial 1 with value: 0.6454289156091864.\u001b[0m\n",
      "\u001b[32m[I 2023-08-30 01:22:17,941]\u001b[0m Trial 2 finished with value: 0.5967866258151286 and parameters: {'n_estimators': 53, 'max_depth': 10, 'min_samples_leaf': 10, 'min_samples_split': 8}. Best is trial 1 with value: 0.6454289156091864.\u001b[0m\n",
      "\u001b[32m[I 2023-08-30 01:22:20,026]\u001b[0m Trial 3 finished with value: 0.45054174352327114 and parameters: {'n_estimators': 75, 'max_depth': 4, 'min_samples_leaf': 8, 'min_samples_split': 9}. Best is trial 1 with value: 0.6454289156091864.\u001b[0m\n",
      "\u001b[32m[I 2023-08-30 01:22:22,193]\u001b[0m Trial 4 finished with value: 0.4961159955576203 and parameters: {'n_estimators': 69, 'max_depth': 5, 'min_samples_leaf': 15, 'min_samples_split': 6}. Best is trial 1 with value: 0.6454289156091864.\u001b[0m\n",
      "\u001b[32m[I 2023-08-30 01:22:24,699]\u001b[0m Trial 5 finished with value: 0.5335886694120313 and parameters: {'n_estimators': 72, 'max_depth': 6, 'min_samples_leaf': 14, 'min_samples_split': 14}. Best is trial 1 with value: 0.6454289156091864.\u001b[0m\n",
      "\u001b[32m[I 2023-08-30 01:22:27,075]\u001b[0m Trial 6 finished with value: 0.4501378866005104 and parameters: {'n_estimators': 87, 'max_depth': 4, 'min_samples_leaf': 9, 'min_samples_split': 19}. Best is trial 1 with value: 0.6454289156091864.\u001b[0m\n",
      "\u001b[32m[I 2023-08-30 01:22:31,216]\u001b[0m Trial 7 finished with value: 0.60316341923151 and parameters: {'n_estimators': 97, 'max_depth': 8, 'min_samples_leaf': 9, 'min_samples_split': 5}. Best is trial 1 with value: 0.6454289156091864.\u001b[0m\n",
      "\u001b[32m[I 2023-08-30 01:22:32,393]\u001b[0m Trial 8 finished with value: 0.4557165348881167 and parameters: {'n_estimators': 42, 'max_depth': 4, 'min_samples_leaf': 7, 'min_samples_split': 3}. Best is trial 1 with value: 0.6454289156091864.\u001b[0m\n",
      "\u001b[32m[I 2023-08-30 01:22:33,291]\u001b[0m Trial 9 finished with value: 0.31084873199321755 and parameters: {'n_estimators': 55, 'max_depth': 2, 'min_samples_leaf': 12, 'min_samples_split': 9}. Best is trial 1 with value: 0.6454289156091864.\u001b[0m\n",
      "\u001b[32m[I 2023-08-30 01:22:33,805]\u001b[0m Trial 10 finished with value: 0.6050561427718417 and parameters: {'n_estimators': 11, 'max_depth': 7, 'min_samples_leaf': 1, 'min_samples_split': 13}. Best is trial 1 with value: 0.6454289156091864.\u001b[0m\n",
      "\u001b[32m[I 2023-08-30 01:22:34,590]\u001b[0m Trial 11 finished with value: 0.6101351956726729 and parameters: {'n_estimators': 17, 'max_depth': 7, 'min_samples_leaf': 1, 'min_samples_split': 13}. Best is trial 1 with value: 0.6454289156091864.\u001b[0m\n",
      "\u001b[32m[I 2023-08-30 01:22:35,611]\u001b[0m Trial 12 finished with value: 0.6379837893390052 and parameters: {'n_estimators': 20, 'max_depth': 8, 'min_samples_leaf': 1, 'min_samples_split': 12}. Best is trial 1 with value: 0.6454289156091864.\u001b[0m\n",
      "\u001b[32m[I 2023-08-30 01:22:36,707]\u001b[0m Trial 13 finished with value: 0.528740881040967 and parameters: {'n_estimators': 31, 'max_depth': 10, 'min_samples_leaf': 20, 'min_samples_split': 10}. Best is trial 1 with value: 0.6454289156091864.\u001b[0m\n",
      "\u001b[32m[I 2023-08-30 01:22:38,142]\u001b[0m Trial 14 finished with value: 0.6228677383942455 and parameters: {'n_estimators': 31, 'max_depth': 8, 'min_samples_leaf': 4, 'min_samples_split': 17}. Best is trial 1 with value: 0.6454289156091864.\u001b[0m\n",
      "\u001b[32m[I 2023-08-30 01:22:42,843]\u001b[0m Trial 15 finished with value: 0.633481434778932 and parameters: {'n_estimators': 100, 'max_depth': 8, 'min_samples_leaf': 5, 'min_samples_split': 12}. Best is trial 1 with value: 0.6454289156091864.\u001b[0m\n",
      "\u001b[32m[I 2023-08-30 01:22:43,125]\u001b[0m Trial 16 finished with value: 0.18246329333763053 and parameters: {'n_estimators': 25, 'max_depth': 1, 'min_samples_leaf': 4, 'min_samples_split': 7}. Best is trial 1 with value: 0.6454289156091864.\u001b[0m\n",
      "\u001b[32m[I 2023-08-30 01:22:44,933]\u001b[0m Trial 17 finished with value: 0.5769031891381766 and parameters: {'n_estimators': 44, 'max_depth': 6, 'min_samples_leaf': 2, 'min_samples_split': 2}. Best is trial 1 with value: 0.6454289156091864.\u001b[0m\n",
      "\u001b[32m[I 2023-08-30 01:22:47,766]\u001b[0m Trial 18 finished with value: 0.630833327730305 and parameters: {'n_estimators': 60, 'max_depth': 9, 'min_samples_leaf': 6, 'min_samples_split': 15}. Best is trial 1 with value: 0.6454289156091864.\u001b[0m\n",
      "\u001b[32m[I 2023-08-30 01:22:49,846]\u001b[0m Trial 19 finished with value: 0.615123217000396 and parameters: {'n_estimators': 47, 'max_depth': 7, 'min_samples_leaf': 3, 'min_samples_split': 11}. Best is trial 1 with value: 0.6454289156091864.\u001b[0m\n",
      "\u001b[32m[I 2023-08-30 01:22:52,800]\u001b[0m Trial 20 finished with value: 0.6180524052121139 and parameters: {'n_estimators': 63, 'max_depth': 9, 'min_samples_leaf': 6, 'min_samples_split': 20}. Best is trial 1 with value: 0.6454289156091864.\u001b[0m\n",
      "\u001b[32m[I 2023-08-30 01:22:57,028]\u001b[0m Trial 21 finished with value: 0.6345483305078699 and parameters: {'n_estimators': 93, 'max_depth': 8, 'min_samples_leaf': 5, 'min_samples_split': 12}. Best is trial 1 with value: 0.6454289156091864.\u001b[0m\n",
      "\u001b[32m[I 2023-08-30 01:23:01,228]\u001b[0m Trial 22 finished with value: 0.6425101884255192 and parameters: {'n_estimators': 89, 'max_depth': 8, 'min_samples_leaf': 3, 'min_samples_split': 11}. Best is trial 1 with value: 0.6454289156091864.\u001b[0m\n",
      "\u001b[32m[I 2023-08-30 01:23:05,869]\u001b[0m Trial 23 finished with value: 0.6646634828673089 and parameters: {'n_estimators': 86, 'max_depth': 10, 'min_samples_leaf': 3, 'min_samples_split': 10}. Best is trial 23 with value: 0.6646634828673089.\u001b[0m\n",
      "\u001b[32m[I 2023-08-30 01:23:10,525]\u001b[0m Trial 24 finished with value: 0.6737540065653544 and parameters: {'n_estimators': 81, 'max_depth': 10, 'min_samples_leaf': 3, 'min_samples_split': 5}. Best is trial 24 with value: 0.6737540065653544.\u001b[0m\n",
      "\u001b[32m[I 2023-08-30 01:23:15,027]\u001b[0m Trial 25 finished with value: 0.6736574922310329 and parameters: {'n_estimators': 79, 'max_depth': 10, 'min_samples_leaf': 3, 'min_samples_split': 5}. Best is trial 24 with value: 0.6737540065653544.\u001b[0m\n",
      "\u001b[32m[I 2023-08-30 01:23:19,078]\u001b[0m Trial 26 finished with value: 0.6332809122086561 and parameters: {'n_estimators': 83, 'max_depth': 10, 'min_samples_leaf': 7, 'min_samples_split': 4}. Best is trial 24 with value: 0.6737540065653544.\u001b[0m\n",
      "\u001b[32m[I 2023-08-30 01:23:22,407]\u001b[0m Trial 27 finished with value: 0.5773298225976957 and parameters: {'n_estimators': 78, 'max_depth': 10, 'min_samples_leaf': 12, 'min_samples_split': 6}. Best is trial 24 with value: 0.6737540065653544.\u001b[0m\n",
      "\u001b[32m[I 2023-08-30 01:23:26,041]\u001b[0m Trial 28 finished with value: 0.6633468339769131 and parameters: {'n_estimators': 67, 'max_depth': 9, 'min_samples_leaf': 3, 'min_samples_split': 4}. Best is trial 24 with value: 0.6737540065653544.\u001b[0m\n",
      "\u001b[32m[I 2023-08-30 01:23:28,914]\u001b[0m Trial 29 finished with value: 0.5443039884930847 and parameters: {'n_estimators': 79, 'max_depth': 9, 'min_samples_leaf': 17, 'min_samples_split': 2}. Best is trial 24 with value: 0.6737540065653544.\u001b[0m\n",
      "\u001b[32m[I 2023-08-30 01:23:33,418]\u001b[0m Trial 30 finished with value: 0.6554647151622788 and parameters: {'n_estimators': 88, 'max_depth': 10, 'min_samples_leaf': 5, 'min_samples_split': 7}. Best is trial 24 with value: 0.6737540065653544.\u001b[0m\n",
      "\u001b[32m[I 2023-08-30 01:23:36,892]\u001b[0m Trial 31 finished with value: 0.6632887445676638 and parameters: {'n_estimators': 66, 'max_depth': 9, 'min_samples_leaf': 3, 'min_samples_split': 4}. Best is trial 24 with value: 0.6737540065653544.\u001b[0m\n",
      "\u001b[32m[I 2023-08-30 01:23:41,407]\u001b[0m Trial 32 finished with value: 0.6737540065653544 and parameters: {'n_estimators': 81, 'max_depth': 10, 'min_samples_leaf': 3, 'min_samples_split': 4}. Best is trial 24 with value: 0.6737540065653544.\u001b[0m\n",
      "\u001b[32m[I 2023-08-30 01:23:46,134]\u001b[0m Trial 33 finished with value: 0.6771371179878457 and parameters: {'n_estimators': 82, 'max_depth': 10, 'min_samples_leaf': 2, 'min_samples_split': 6}. Best is trial 33 with value: 0.6771371179878457.\u001b[0m\n",
      "\u001b[32m[I 2023-08-30 01:23:50,694]\u001b[0m Trial 34 finished with value: 0.6779628519597378 and parameters: {'n_estimators': 78, 'max_depth': 10, 'min_samples_leaf': 2, 'min_samples_split': 5}. Best is trial 34 with value: 0.6779628519597378.\u001b[0m\n",
      "\u001b[32m[I 2023-08-30 01:23:54,911]\u001b[0m Trial 35 finished with value: 0.670483677563368 and parameters: {'n_estimators': 74, 'max_depth': 9, 'min_samples_leaf': 1, 'min_samples_split': 6}. Best is trial 34 with value: 0.6779628519597378.\u001b[0m\n",
      "\u001b[32m[I 2023-08-30 01:23:59,541]\u001b[0m Trial 36 finished with value: 0.6688062620810935 and parameters: {'n_estimators': 82, 'max_depth': 9, 'min_samples_leaf': 2, 'min_samples_split': 3}. Best is trial 34 with value: 0.6779628519597378.\u001b[0m\n",
      "\u001b[32m[I 2023-08-30 01:24:03,411]\u001b[0m Trial 37 finished with value: 0.663684387411677 and parameters: {'n_estimators': 72, 'max_depth': 10, 'min_samples_leaf': 4, 'min_samples_split': 8}. Best is trial 34 with value: 0.6779628519597378.\u001b[0m\n",
      "\u001b[32m[I 2023-08-30 01:24:07,757]\u001b[0m Trial 38 finished with value: 0.6345786899960935 and parameters: {'n_estimators': 92, 'max_depth': 10, 'min_samples_leaf': 7, 'min_samples_split': 5}. Best is trial 34 with value: 0.6779628519597378.\u001b[0m\n",
      "\u001b[32m[I 2023-08-30 01:24:10,888]\u001b[0m Trial 39 finished with value: 0.6595149135075773 and parameters: {'n_estimators': 58, 'max_depth': 9, 'min_samples_leaf': 2, 'min_samples_split': 8}. Best is trial 34 with value: 0.6779628519597378.\u001b[0m\n",
      "\u001b[32m[I 2023-08-30 01:24:13,255]\u001b[0m Trial 40 finished with value: 0.5049510152581975 and parameters: {'n_estimators': 72, 'max_depth': 5, 'min_samples_leaf': 11, 'min_samples_split': 3}. Best is trial 34 with value: 0.6779628519597378.\u001b[0m\n",
      "\u001b[32m[I 2023-08-30 01:24:17,412]\u001b[0m Trial 41 finished with value: 0.6648681359210353 and parameters: {'n_estimators': 78, 'max_depth': 10, 'min_samples_leaf': 4, 'min_samples_split': 5}. Best is trial 34 with value: 0.6779628519597378.\u001b[0m\n",
      "\u001b[32m[I 2023-08-30 01:24:22,165]\u001b[0m Trial 42 finished with value: 0.6771371179878457 and parameters: {'n_estimators': 82, 'max_depth': 10, 'min_samples_leaf': 2, 'min_samples_split': 6}. Best is trial 34 with value: 0.6779628519597378.\u001b[0m\n",
      "\u001b[32m[I 2023-08-30 01:24:24,013]\u001b[0m Trial 43 finished with value: 0.38039342111884267 and parameters: {'n_estimators': 83, 'max_depth': 3, 'min_samples_leaf': 1, 'min_samples_split': 7}. Best is trial 34 with value: 0.6779628519597378.\u001b[0m\n",
      "\u001b[32m[I 2023-08-30 01:24:29,680]\u001b[0m Trial 44 finished with value: 0.6767575343521369 and parameters: {'n_estimators': 97, 'max_depth': 10, 'min_samples_leaf': 2, 'min_samples_split': 6}. Best is trial 34 with value: 0.6779628519597378.\u001b[0m\n",
      "\u001b[32m[I 2023-08-30 01:24:34,988]\u001b[0m Trial 45 finished with value: 0.6666364696689694 and parameters: {'n_estimators': 96, 'max_depth': 9, 'min_samples_leaf': 2, 'min_samples_split': 6}. Best is trial 34 with value: 0.6779628519597378.\u001b[0m\n",
      "\u001b[32m[I 2023-08-30 01:24:40,238]\u001b[0m Trial 46 finished with value: 0.6777349458212146 and parameters: {'n_estimators': 89, 'max_depth': 10, 'min_samples_leaf': 1, 'min_samples_split': 7}. Best is trial 34 with value: 0.6779628519597378.\u001b[0m\n",
      "\u001b[32m[I 2023-08-30 01:24:45,224]\u001b[0m Trial 47 finished with value: 0.6464375979746506 and parameters: {'n_estimators': 98, 'max_depth': 8, 'min_samples_leaf': 1, 'min_samples_split': 9}. Best is trial 34 with value: 0.6779628519597378.\u001b[0m\n",
      "\u001b[32m[I 2023-08-30 01:24:48,877]\u001b[0m Trial 48 finished with value: 0.5977938795029483 and parameters: {'n_estimators': 90, 'max_depth': 7, 'min_samples_leaf': 8, 'min_samples_split': 7}. Best is trial 34 with value: 0.6779628519597378.\u001b[0m\n",
      "\u001b[32m[I 2023-08-30 01:24:54,289]\u001b[0m Trial 49 finished with value: 0.6722476139867312 and parameters: {'n_estimators': 95, 'max_depth': 10, 'min_samples_leaf': 2, 'min_samples_split': 8}. Best is trial 34 with value: 0.6779628519597378.\u001b[0m\n",
      "\u001b[32m[I 2023-08-30 01:24:58,416]\u001b[0m Trial 50 finished with value: 0.6410819346117786 and parameters: {'n_estimators': 86, 'max_depth': 9, 'min_samples_leaf': 6, 'min_samples_split': 6}. Best is trial 34 with value: 0.6779628519597378.\u001b[0m\n",
      "\u001b[32m[I 2023-08-30 01:25:04,643]\u001b[0m Trial 51 finished with value: 0.6811838643638494 and parameters: {'n_estimators': 100, 'max_depth': 10, 'min_samples_leaf': 1, 'min_samples_split': 5}. Best is trial 51 with value: 0.6811838643638494.\u001b[0m\n",
      "\u001b[32m[I 2023-08-30 01:25:10,977]\u001b[0m Trial 52 finished with value: 0.6863130703207145 and parameters: {'n_estimators': 100, 'max_depth': 10, 'min_samples_leaf': 1, 'min_samples_split': 3}. Best is trial 52 with value: 0.6863130703207145.\u001b[0m\n",
      "\u001b[32m[I 2023-08-30 01:25:16,281]\u001b[0m Trial 53 finished with value: 0.674944343925173 and parameters: {'n_estimators': 92, 'max_depth': 9, 'min_samples_leaf': 1, 'min_samples_split': 3}. Best is trial 52 with value: 0.6863130703207145.\u001b[0m\n",
      "\u001b[32m[I 2023-08-30 01:25:22,676]\u001b[0m Trial 54 finished with value: 0.6865115385583297 and parameters: {'n_estimators': 99, 'max_depth': 10, 'min_samples_leaf': 1, 'min_samples_split': 2}. Best is trial 54 with value: 0.6865115385583297.\u001b[0m\n",
      "\u001b[32m[I 2023-08-30 01:25:28,597]\u001b[0m Trial 55 finished with value: 0.6750849681623055 and parameters: {'n_estimators': 100, 'max_depth': 9, 'min_samples_leaf': 1, 'min_samples_split': 2}. Best is trial 54 with value: 0.6865115385583297.\u001b[0m\n",
      "\u001b[32m[I 2023-08-30 01:25:33,454]\u001b[0m Trial 56 finished with value: 0.6439016552913204 and parameters: {'n_estimators': 100, 'max_depth': 8, 'min_samples_leaf': 4, 'min_samples_split': 2}. Best is trial 54 with value: 0.6865115385583297.\u001b[0m\n",
      "\u001b[32m[I 2023-08-30 01:25:39,715]\u001b[0m Trial 57 finished with value: 0.6861061480921027 and parameters: {'n_estimators': 94, 'max_depth': 10, 'min_samples_leaf': 1, 'min_samples_split': 3}. Best is trial 54 with value: 0.6865115385583297.\u001b[0m\n",
      "\u001b[32m[I 2023-08-30 01:25:45,178]\u001b[0m Trial 58 finished with value: 0.6750000343355718 and parameters: {'n_estimators': 94, 'max_depth': 9, 'min_samples_leaf': 1, 'min_samples_split': 3}. Best is trial 54 with value: 0.6865115385583297.\u001b[0m\n",
      "\u001b[32m[I 2023-08-30 01:25:47,919]\u001b[0m Trial 59 finished with value: 0.49371857614621567 and parameters: {'n_estimators': 90, 'max_depth': 5, 'min_samples_leaf': 17, 'min_samples_split': 4}. Best is trial 54 with value: 0.6865115385583297.\u001b[0m\n",
      "\u001b[32m[I 2023-08-30 01:25:48,831]\u001b[0m Trial 60 finished with value: 0.180876163130203 and parameters: {'n_estimators': 86, 'max_depth': 1, 'min_samples_leaf': 1, 'min_samples_split': 3}. Best is trial 54 with value: 0.6865115385583297.\u001b[0m\n",
      "\u001b[32m[I 2023-08-30 01:25:54,519]\u001b[0m Trial 61 finished with value: 0.6793590285244988 and parameters: {'n_estimators': 97, 'max_depth': 10, 'min_samples_leaf': 2, 'min_samples_split': 5}. Best is trial 54 with value: 0.6865115385583297.\u001b[0m\n",
      "\u001b[32m[I 2023-08-30 01:25:59,697]\u001b[0m Trial 62 finished with value: 0.6652574204293084 and parameters: {'n_estimators': 96, 'max_depth': 10, 'min_samples_leaf': 4, 'min_samples_split': 2}. Best is trial 54 with value: 0.6865115385583297.\u001b[0m\n",
      "\u001b[32m[I 2023-08-30 01:26:05,855]\u001b[0m Trial 63 finished with value: 0.6806378075706743 and parameters: {'n_estimators': 100, 'max_depth': 10, 'min_samples_leaf': 2, 'min_samples_split': 4}. Best is trial 54 with value: 0.6865115385583297.\u001b[0m\n",
      "\u001b[32m[I 2023-08-30 01:26:10,721]\u001b[0m Trial 64 finished with value: 0.6487622967109117 and parameters: {'n_estimators': 98, 'max_depth': 9, 'min_samples_leaf': 5, 'min_samples_split': 4}. Best is trial 54 with value: 0.6865115385583297.\u001b[0m\n",
      "\u001b[32m[I 2023-08-30 01:26:16,000]\u001b[0m Trial 65 finished with value: 0.6447876901046229 and parameters: {'n_estimators': 100, 'max_depth': 10, 'min_samples_leaf': 2, 'min_samples_split': 17}. Best is trial 54 with value: 0.6865115385583297.\u001b[0m\n",
      "\u001b[32m[I 2023-08-30 01:26:21,354]\u001b[0m Trial 66 finished with value: 0.6740444641408134 and parameters: {'n_estimators': 93, 'max_depth': 10, 'min_samples_leaf': 3, 'min_samples_split': 5}. Best is trial 54 with value: 0.6865115385583297.\u001b[0m\n",
      "\u001b[32m[I 2023-08-30 01:26:24,985]\u001b[0m Trial 67 finished with value: 0.5622681528564755 and parameters: {'n_estimators': 94, 'max_depth': 9, 'min_samples_leaf': 14, 'min_samples_split': 3}. Best is trial 54 with value: 0.6865115385583297.\u001b[0m\n",
      "\u001b[32m[I 2023-08-30 01:26:26,682]\u001b[0m Trial 68 finished with value: 0.5302934966472428 and parameters: {'n_estimators': 50, 'max_depth': 10, 'min_samples_leaf': 20, 'min_samples_split': 4}. Best is trial 54 with value: 0.6865115385583297.\u001b[0m\n",
      "\u001b[32m[I 2023-08-30 01:26:28,209]\u001b[0m Trial 69 finished with value: 0.31079702378728224 and parameters: {'n_estimators': 91, 'max_depth': 2, 'min_samples_leaf': 2, 'min_samples_split': 2}. Best is trial 54 with value: 0.6865115385583297.\u001b[0m\n",
      "\u001b[32m[I 2023-08-30 01:26:32,999]\u001b[0m Trial 70 finished with value: 0.6487126857799087 and parameters: {'n_estimators': 97, 'max_depth': 8, 'min_samples_leaf': 3, 'min_samples_split': 3}. Best is trial 54 with value: 0.6865115385583297.\u001b[0m\n",
      "\u001b[32m[I 2023-08-30 01:26:38,435]\u001b[0m Trial 71 finished with value: 0.6811761111884713 and parameters: {'n_estimators': 88, 'max_depth': 10, 'min_samples_leaf': 1, 'min_samples_split': 5}. Best is trial 54 with value: 0.6865115385583297.\u001b[0m\n",
      "\u001b[32m[I 2023-08-30 01:26:43,719]\u001b[0m Trial 72 finished with value: 0.6806138903760892 and parameters: {'n_estimators': 86, 'max_depth': 10, 'min_samples_leaf': 1, 'min_samples_split': 5}. Best is trial 54 with value: 0.6865115385583297.\u001b[0m\n",
      "\u001b[32m[I 2023-08-30 01:26:49,163]\u001b[0m Trial 73 finished with value: 0.6853680854171695 and parameters: {'n_estimators': 87, 'max_depth': 10, 'min_samples_leaf': 1, 'min_samples_split': 4}. Best is trial 54 with value: 0.6865115385583297.\u001b[0m\n",
      "\u001b[32m[I 2023-08-30 01:26:54,631]\u001b[0m Trial 74 finished with value: 0.6851415072154167 and parameters: {'n_estimators': 86, 'max_depth': 10, 'min_samples_leaf': 1, 'min_samples_split': 4}. Best is trial 54 with value: 0.6865115385583297.\u001b[0m\n",
      "\u001b[32m[I 2023-08-30 01:26:56,853]\u001b[0m Trial 75 finished with value: 0.6706681303003592 and parameters: {'n_estimators': 37, 'max_depth': 9, 'min_samples_leaf': 1, 'min_samples_split': 4}. Best is trial 54 with value: 0.6865115385583297.\u001b[0m\n",
      "\u001b[32m[I 2023-08-30 01:27:03,427]\u001b[0m Trial 76 finished with value: 0.6871391221977031 and parameters: {'n_estimators': 100, 'max_depth': 10, 'min_samples_leaf': 1, 'min_samples_split': 2}. Best is trial 76 with value: 0.6871391221977031.\u001b[0m\n",
      "\u001b[32m[I 2023-08-30 01:27:08,625]\u001b[0m Trial 77 finished with value: 0.6748501675930646 and parameters: {'n_estimators': 88, 'max_depth': 9, 'min_samples_leaf': 1, 'min_samples_split': 2}. Best is trial 76 with value: 0.6871391221977031.\u001b[0m\n",
      "\u001b[32m[I 2023-08-30 01:27:13,885]\u001b[0m Trial 78 finished with value: 0.6740892907790161 and parameters: {'n_estimators': 94, 'max_depth': 10, 'min_samples_leaf': 3, 'min_samples_split': 3}. Best is trial 76 with value: 0.6871391221977031.\u001b[0m\n",
      "\u001b[32m[I 2023-08-30 01:27:19,490]\u001b[0m Trial 79 finished with value: 0.6870356354660705 and parameters: {'n_estimators': 85, 'max_depth': 10, 'min_samples_leaf': 1, 'min_samples_split': 2}. Best is trial 76 with value: 0.6871391221977031.\u001b[0m\n",
      "\u001b[32m[I 2023-08-30 01:27:24,561]\u001b[0m Trial 80 finished with value: 0.6648004603031733 and parameters: {'n_estimators': 93, 'max_depth': 9, 'min_samples_leaf': 3, 'min_samples_split': 2}. Best is trial 76 with value: 0.6871391221977031.\u001b[0m\n",
      "\u001b[32m[I 2023-08-30 01:27:29,913]\u001b[0m Trial 81 finished with value: 0.6867218856113482 and parameters: {'n_estimators': 84, 'max_depth': 10, 'min_samples_leaf': 1, 'min_samples_split': 3}. Best is trial 76 with value: 0.6871391221977031.\u001b[0m\n",
      "\u001b[32m[I 2023-08-30 01:27:35,443]\u001b[0m Trial 82 finished with value: 0.6873222500807167 and parameters: {'n_estimators': 84, 'max_depth': 10, 'min_samples_leaf': 1, 'min_samples_split': 2}. Best is trial 82 with value: 0.6873222500807167.\u001b[0m\n",
      "\u001b[32m[I 2023-08-30 01:27:38,529]\u001b[0m Trial 83 finished with value: 0.5759376907310318 and parameters: {'n_estimators': 75, 'max_depth': 6, 'min_samples_leaf': 2, 'min_samples_split': 2}. Best is trial 82 with value: 0.6873222500807167.\u001b[0m\n",
      "\u001b[32m[I 2023-08-30 01:27:44,071]\u001b[0m Trial 84 finished with value: 0.686513044000375 and parameters: {'n_estimators': 85, 'max_depth': 10, 'min_samples_leaf': 1, 'min_samples_split': 3}. Best is trial 82 with value: 0.6873222500807167.\u001b[0m\n",
      "\u001b[32m[I 2023-08-30 01:27:49,111]\u001b[0m Trial 85 finished with value: 0.6804053435339372 and parameters: {'n_estimators': 84, 'max_depth': 10, 'min_samples_leaf': 2, 'min_samples_split': 3}. Best is trial 82 with value: 0.6873222500807167.\u001b[0m\n",
      "\u001b[32m[I 2023-08-30 01:27:53,628]\u001b[0m Trial 86 finished with value: 0.6735421152289508 and parameters: {'n_estimators': 76, 'max_depth': 10, 'min_samples_leaf': 3, 'min_samples_split': 2}. Best is trial 82 with value: 0.6873222500807167.\u001b[0m\n",
      "\u001b[32m[I 2023-08-30 01:27:58,627]\u001b[0m Trial 87 finished with value: 0.6750532148622609 and parameters: {'n_estimators': 84, 'max_depth': 9, 'min_samples_leaf': 1, 'min_samples_split': 3}. Best is trial 82 with value: 0.6873222500807167.\u001b[0m\n",
      "\u001b[32m[I 2023-08-30 01:28:00,828]\u001b[0m Trial 88 finished with value: 0.447827547913881 and parameters: {'n_estimators': 80, 'max_depth': 4, 'min_samples_leaf': 10, 'min_samples_split': 2}. Best is trial 82 with value: 0.6873222500807167.\u001b[0m\n",
      "\u001b[32m[I 2023-08-30 01:28:04,943]\u001b[0m Trial 89 finished with value: 0.6782702767636783 and parameters: {'n_estimators': 69, 'max_depth': 10, 'min_samples_leaf': 2, 'min_samples_split': 3}. Best is trial 82 with value: 0.6873222500807167.\u001b[0m\n",
      "\u001b[32m[I 2023-08-30 01:28:10,024]\u001b[0m Trial 90 finished with value: 0.6690127396015317 and parameters: {'n_estimators': 92, 'max_depth': 9, 'min_samples_leaf': 2, 'min_samples_split': 3}. Best is trial 82 with value: 0.6873222500807167.\u001b[0m\n",
      "\u001b[32m[I 2023-08-30 01:28:15,244]\u001b[0m Trial 91 finished with value: 0.6852390225474311 and parameters: {'n_estimators': 85, 'max_depth': 10, 'min_samples_leaf': 1, 'min_samples_split': 4}. Best is trial 82 with value: 0.6873222500807167.\u001b[0m\n",
      "\u001b[32m[I 2023-08-30 01:28:21,106]\u001b[0m Trial 92 finished with value: 0.687269201408759 and parameters: {'n_estimators': 90, 'max_depth': 10, 'min_samples_leaf': 1, 'min_samples_split': 2}. Best is trial 82 with value: 0.6873222500807167.\u001b[0m\n",
      "\u001b[32m[I 2023-08-30 01:28:27,085]\u001b[0m Trial 93 finished with value: 0.687269201408759 and parameters: {'n_estimators': 90, 'max_depth': 10, 'min_samples_leaf': 1, 'min_samples_split': 2}. Best is trial 82 with value: 0.6873222500807167.\u001b[0m\n",
      "\u001b[32m[I 2023-08-30 01:28:31,980]\u001b[0m Trial 94 finished with value: 0.6659711865628728 and parameters: {'n_estimators': 91, 'max_depth': 10, 'min_samples_leaf': 4, 'min_samples_split': 2}. Best is trial 82 with value: 0.6873222500807167.\u001b[0m\n",
      "\u001b[32m[I 2023-08-30 01:28:37,320]\u001b[0m Trial 95 finished with value: 0.6809185464292022 and parameters: {'n_estimators': 90, 'max_depth': 10, 'min_samples_leaf': 2, 'min_samples_split': 2}. Best is trial 82 with value: 0.6873222500807167.\u001b[0m\n",
      "\u001b[32m[I 2023-08-30 01:28:43,378]\u001b[0m Trial 96 finished with value: 0.6860791806381616 and parameters: {'n_estimators': 95, 'max_depth': 10, 'min_samples_leaf': 1, 'min_samples_split': 3}. Best is trial 82 with value: 0.6873222500807167.\u001b[0m\n",
      "\u001b[32m[I 2023-08-30 01:28:48,579]\u001b[0m Trial 97 finished with value: 0.6644955011868163 and parameters: {'n_estimators': 98, 'max_depth': 9, 'min_samples_leaf': 3, 'min_samples_split': 2}. Best is trial 82 with value: 0.6873222500807167.\u001b[0m\n",
      "\u001b[32m[I 2023-08-30 01:28:53,872]\u001b[0m Trial 98 finished with value: 0.6809162801223199 and parameters: {'n_estimators': 89, 'max_depth': 10, 'min_samples_leaf': 2, 'min_samples_split': 2}. Best is trial 82 with value: 0.6873222500807167.\u001b[0m\n",
      "\u001b[32m[I 2023-08-30 01:28:59,449]\u001b[0m Trial 99 finished with value: 0.6746826483184807 and parameters: {'n_estimators': 96, 'max_depth': 9, 'min_samples_leaf': 1, 'min_samples_split': 3}. Best is trial 82 with value: 0.6873222500807167.\u001b[0m\n"
     ]
    },
    {
     "name": "stdout",
     "output_type": "stream",
     "text": [
      "Best r2:  0.6873222500807167\n",
      "Best trial: {'n_estimators': 84, 'max_depth': 10, 'min_samples_leaf': 1, 'min_samples_split': 2}\n"
     ]
    }
   ],
   "source": [
    "sampler = TPESampler()\n",
    "study = optuna.create_study(\n",
    "    study_name=\"rf_parameter_opt\",\n",
    "    direction=\"maximize\",\n",
    "    sampler=sampler,\n",
    ")\n",
    "\n",
    "study.optimize(lambda trial : objectiveRF(trial, Ni_X_train, Ni_y_train), n_trials=100)\n",
    "print(\"Best r2: \", study.best_value)\n",
    "print(\"Best trial:\", study.best_trial.params)"
   ]
  },
  {
   "cell_type": "code",
   "execution_count": 53,
   "id": "d71c01fb",
   "metadata": {},
   "outputs": [
    {
     "data": {
      "application/vnd.plotly.v1+json": {
       "config": {
        "plotlyServerURL": "https://plot.ly"
       },
       "data": [
        {
         "dimensions": [
          {
           "label": "Objective Value",
           "range": [
            0.180876163130203,
            0.6873222500807167
           ],
           "values": [
            0.5503952961424547,
            0.6454289156091864,
            0.5967866258151286,
            0.45054174352327114,
            0.4961159955576203,
            0.5335886694120313,
            0.4501378866005104,
            0.60316341923151,
            0.4557165348881167,
            0.31084873199321755,
            0.6050561427718417,
            0.6101351956726729,
            0.6379837893390052,
            0.528740881040967,
            0.6228677383942455,
            0.633481434778932,
            0.18246329333763053,
            0.5769031891381766,
            0.630833327730305,
            0.615123217000396,
            0.6180524052121139,
            0.6345483305078699,
            0.6425101884255192,
            0.6646634828673089,
            0.6737540065653544,
            0.6736574922310329,
            0.6332809122086561,
            0.5773298225976957,
            0.6633468339769131,
            0.5443039884930847,
            0.6554647151622788,
            0.6632887445676638,
            0.6737540065653544,
            0.6771371179878457,
            0.6779628519597378,
            0.670483677563368,
            0.6688062620810935,
            0.663684387411677,
            0.6345786899960935,
            0.6595149135075773,
            0.5049510152581975,
            0.6648681359210353,
            0.6771371179878457,
            0.38039342111884267,
            0.6767575343521369,
            0.6666364696689694,
            0.6777349458212146,
            0.6464375979746506,
            0.5977938795029483,
            0.6722476139867312,
            0.6410819346117786,
            0.6811838643638494,
            0.6863130703207145,
            0.674944343925173,
            0.6865115385583297,
            0.6750849681623055,
            0.6439016552913204,
            0.6861061480921027,
            0.6750000343355718,
            0.49371857614621567,
            0.180876163130203,
            0.6793590285244988,
            0.6652574204293084,
            0.6806378075706743,
            0.6487622967109117,
            0.6447876901046229,
            0.6740444641408134,
            0.5622681528564755,
            0.5302934966472428,
            0.31079702378728224,
            0.6487126857799087,
            0.6811761111884713,
            0.6806138903760892,
            0.6853680854171695,
            0.6851415072154167,
            0.6706681303003592,
            0.6871391221977031,
            0.6748501675930646,
            0.6740892907790161,
            0.6870356354660705,
            0.6648004603031733,
            0.6867218856113482,
            0.6873222500807167,
            0.5759376907310318,
            0.686513044000375,
            0.6804053435339372,
            0.6735421152289508,
            0.6750532148622609,
            0.447827547913881,
            0.6782702767636783,
            0.6690127396015317,
            0.6852390225474311,
            0.687269201408759,
            0.687269201408759,
            0.6659711865628728,
            0.6809185464292022,
            0.6860791806381616,
            0.6644955011868163,
            0.6809162801223199,
            0.6746826483184807
           ]
          },
          {
           "label": "max_depth",
           "range": [
            1,
            10
           ],
           "values": [
            9,
            8,
            10,
            4,
            5,
            6,
            4,
            8,
            4,
            2,
            7,
            7,
            8,
            10,
            8,
            8,
            1,
            6,
            9,
            7,
            9,
            8,
            8,
            10,
            10,
            10,
            10,
            10,
            9,
            9,
            10,
            9,
            10,
            10,
            10,
            9,
            9,
            10,
            10,
            9,
            5,
            10,
            10,
            3,
            10,
            9,
            10,
            8,
            7,
            10,
            9,
            10,
            10,
            9,
            10,
            9,
            8,
            10,
            9,
            5,
            1,
            10,
            10,
            10,
            9,
            10,
            10,
            9,
            10,
            2,
            8,
            10,
            10,
            10,
            10,
            9,
            10,
            9,
            10,
            10,
            9,
            10,
            10,
            6,
            10,
            10,
            10,
            9,
            4,
            10,
            9,
            10,
            10,
            10,
            10,
            10,
            10,
            9,
            10,
            9
           ]
          },
          {
           "label": "min_samples_leaf",
           "range": [
            1,
            20
           ],
           "values": [
            16,
            2,
            10,
            8,
            15,
            14,
            9,
            9,
            7,
            12,
            1,
            1,
            1,
            20,
            4,
            5,
            4,
            2,
            6,
            3,
            6,
            5,
            3,
            3,
            3,
            3,
            7,
            12,
            3,
            17,
            5,
            3,
            3,
            2,
            2,
            1,
            2,
            4,
            7,
            2,
            11,
            4,
            2,
            1,
            2,
            2,
            1,
            1,
            8,
            2,
            6,
            1,
            1,
            1,
            1,
            1,
            4,
            1,
            1,
            17,
            1,
            2,
            4,
            2,
            5,
            2,
            3,
            14,
            20,
            2,
            3,
            1,
            1,
            1,
            1,
            1,
            1,
            1,
            3,
            1,
            3,
            1,
            1,
            2,
            1,
            2,
            3,
            1,
            10,
            2,
            2,
            1,
            1,
            1,
            4,
            2,
            1,
            3,
            2,
            1
           ]
          },
          {
           "label": "min_samples_split",
           "range": [
            2,
            20
           ],
           "values": [
            16,
            9,
            8,
            9,
            6,
            14,
            19,
            5,
            3,
            9,
            13,
            13,
            12,
            10,
            17,
            12,
            7,
            2,
            15,
            11,
            20,
            12,
            11,
            10,
            5,
            5,
            4,
            6,
            4,
            2,
            7,
            4,
            4,
            6,
            5,
            6,
            3,
            8,
            5,
            8,
            3,
            5,
            6,
            7,
            6,
            6,
            7,
            9,
            7,
            8,
            6,
            5,
            3,
            3,
            2,
            2,
            2,
            3,
            3,
            4,
            3,
            5,
            2,
            4,
            4,
            17,
            5,
            3,
            4,
            2,
            3,
            5,
            5,
            4,
            4,
            4,
            2,
            2,
            3,
            2,
            2,
            3,
            2,
            2,
            3,
            3,
            2,
            3,
            2,
            3,
            3,
            4,
            2,
            2,
            2,
            2,
            3,
            2,
            2,
            3
           ]
          },
          {
           "label": "n_estimators",
           "range": [
            11,
            100
           ],
           "values": [
            83,
            95,
            53,
            75,
            69,
            72,
            87,
            97,
            42,
            55,
            11,
            17,
            20,
            31,
            31,
            100,
            25,
            44,
            60,
            47,
            63,
            93,
            89,
            86,
            81,
            79,
            83,
            78,
            67,
            79,
            88,
            66,
            81,
            82,
            78,
            74,
            82,
            72,
            92,
            58,
            72,
            78,
            82,
            83,
            97,
            96,
            89,
            98,
            90,
            95,
            86,
            100,
            100,
            92,
            99,
            100,
            100,
            94,
            94,
            90,
            86,
            97,
            96,
            100,
            98,
            100,
            93,
            94,
            50,
            91,
            97,
            88,
            86,
            87,
            86,
            37,
            100,
            88,
            94,
            85,
            93,
            84,
            84,
            75,
            85,
            84,
            76,
            84,
            80,
            69,
            92,
            85,
            90,
            90,
            91,
            90,
            95,
            98,
            89,
            96
           ]
          }
         ],
         "labelangle": 30,
         "labelside": "bottom",
         "line": {
          "color": [
           0.5503952961424547,
           0.6454289156091864,
           0.5967866258151286,
           0.45054174352327114,
           0.4961159955576203,
           0.5335886694120313,
           0.4501378866005104,
           0.60316341923151,
           0.4557165348881167,
           0.31084873199321755,
           0.6050561427718417,
           0.6101351956726729,
           0.6379837893390052,
           0.528740881040967,
           0.6228677383942455,
           0.633481434778932,
           0.18246329333763053,
           0.5769031891381766,
           0.630833327730305,
           0.615123217000396,
           0.6180524052121139,
           0.6345483305078699,
           0.6425101884255192,
           0.6646634828673089,
           0.6737540065653544,
           0.6736574922310329,
           0.6332809122086561,
           0.5773298225976957,
           0.6633468339769131,
           0.5443039884930847,
           0.6554647151622788,
           0.6632887445676638,
           0.6737540065653544,
           0.6771371179878457,
           0.6779628519597378,
           0.670483677563368,
           0.6688062620810935,
           0.663684387411677,
           0.6345786899960935,
           0.6595149135075773,
           0.5049510152581975,
           0.6648681359210353,
           0.6771371179878457,
           0.38039342111884267,
           0.6767575343521369,
           0.6666364696689694,
           0.6777349458212146,
           0.6464375979746506,
           0.5977938795029483,
           0.6722476139867312,
           0.6410819346117786,
           0.6811838643638494,
           0.6863130703207145,
           0.674944343925173,
           0.6865115385583297,
           0.6750849681623055,
           0.6439016552913204,
           0.6861061480921027,
           0.6750000343355718,
           0.49371857614621567,
           0.180876163130203,
           0.6793590285244988,
           0.6652574204293084,
           0.6806378075706743,
           0.6487622967109117,
           0.6447876901046229,
           0.6740444641408134,
           0.5622681528564755,
           0.5302934966472428,
           0.31079702378728224,
           0.6487126857799087,
           0.6811761111884713,
           0.6806138903760892,
           0.6853680854171695,
           0.6851415072154167,
           0.6706681303003592,
           0.6871391221977031,
           0.6748501675930646,
           0.6740892907790161,
           0.6870356354660705,
           0.6648004603031733,
           0.6867218856113482,
           0.6873222500807167,
           0.5759376907310318,
           0.686513044000375,
           0.6804053435339372,
           0.6735421152289508,
           0.6750532148622609,
           0.447827547913881,
           0.6782702767636783,
           0.6690127396015317,
           0.6852390225474311,
           0.687269201408759,
           0.687269201408759,
           0.6659711865628728,
           0.6809185464292022,
           0.6860791806381616,
           0.6644955011868163,
           0.6809162801223199,
           0.6746826483184807
          ],
          "colorbar": {
           "title": {
            "text": "Objective Value"
           }
          },
          "colorscale": [
           [
            0,
            "rgb(247,251,255)"
           ],
           [
            0.125,
            "rgb(222,235,247)"
           ],
           [
            0.25,
            "rgb(198,219,239)"
           ],
           [
            0.375,
            "rgb(158,202,225)"
           ],
           [
            0.5,
            "rgb(107,174,214)"
           ],
           [
            0.625,
            "rgb(66,146,198)"
           ],
           [
            0.75,
            "rgb(33,113,181)"
           ],
           [
            0.875,
            "rgb(8,81,156)"
           ],
           [
            1,
            "rgb(8,48,107)"
           ]
          ],
          "reversescale": false,
          "showscale": true
         },
         "type": "parcoords"
        }
       ],
       "layout": {
        "template": {
         "data": {
          "bar": [
           {
            "error_x": {
             "color": "#2a3f5f"
            },
            "error_y": {
             "color": "#2a3f5f"
            },
            "marker": {
             "line": {
              "color": "#E5ECF6",
              "width": 0.5
             },
             "pattern": {
              "fillmode": "overlay",
              "size": 10,
              "solidity": 0.2
             }
            },
            "type": "bar"
           }
          ],
          "barpolar": [
           {
            "marker": {
             "line": {
              "color": "#E5ECF6",
              "width": 0.5
             },
             "pattern": {
              "fillmode": "overlay",
              "size": 10,
              "solidity": 0.2
             }
            },
            "type": "barpolar"
           }
          ],
          "carpet": [
           {
            "aaxis": {
             "endlinecolor": "#2a3f5f",
             "gridcolor": "white",
             "linecolor": "white",
             "minorgridcolor": "white",
             "startlinecolor": "#2a3f5f"
            },
            "baxis": {
             "endlinecolor": "#2a3f5f",
             "gridcolor": "white",
             "linecolor": "white",
             "minorgridcolor": "white",
             "startlinecolor": "#2a3f5f"
            },
            "type": "carpet"
           }
          ],
          "choropleth": [
           {
            "colorbar": {
             "outlinewidth": 0,
             "ticks": ""
            },
            "type": "choropleth"
           }
          ],
          "contour": [
           {
            "colorbar": {
             "outlinewidth": 0,
             "ticks": ""
            },
            "colorscale": [
             [
              0,
              "#0d0887"
             ],
             [
              0.1111111111111111,
              "#46039f"
             ],
             [
              0.2222222222222222,
              "#7201a8"
             ],
             [
              0.3333333333333333,
              "#9c179e"
             ],
             [
              0.4444444444444444,
              "#bd3786"
             ],
             [
              0.5555555555555556,
              "#d8576b"
             ],
             [
              0.6666666666666666,
              "#ed7953"
             ],
             [
              0.7777777777777778,
              "#fb9f3a"
             ],
             [
              0.8888888888888888,
              "#fdca26"
             ],
             [
              1,
              "#f0f921"
             ]
            ],
            "type": "contour"
           }
          ],
          "contourcarpet": [
           {
            "colorbar": {
             "outlinewidth": 0,
             "ticks": ""
            },
            "type": "contourcarpet"
           }
          ],
          "heatmap": [
           {
            "colorbar": {
             "outlinewidth": 0,
             "ticks": ""
            },
            "colorscale": [
             [
              0,
              "#0d0887"
             ],
             [
              0.1111111111111111,
              "#46039f"
             ],
             [
              0.2222222222222222,
              "#7201a8"
             ],
             [
              0.3333333333333333,
              "#9c179e"
             ],
             [
              0.4444444444444444,
              "#bd3786"
             ],
             [
              0.5555555555555556,
              "#d8576b"
             ],
             [
              0.6666666666666666,
              "#ed7953"
             ],
             [
              0.7777777777777778,
              "#fb9f3a"
             ],
             [
              0.8888888888888888,
              "#fdca26"
             ],
             [
              1,
              "#f0f921"
             ]
            ],
            "type": "heatmap"
           }
          ],
          "heatmapgl": [
           {
            "colorbar": {
             "outlinewidth": 0,
             "ticks": ""
            },
            "colorscale": [
             [
              0,
              "#0d0887"
             ],
             [
              0.1111111111111111,
              "#46039f"
             ],
             [
              0.2222222222222222,
              "#7201a8"
             ],
             [
              0.3333333333333333,
              "#9c179e"
             ],
             [
              0.4444444444444444,
              "#bd3786"
             ],
             [
              0.5555555555555556,
              "#d8576b"
             ],
             [
              0.6666666666666666,
              "#ed7953"
             ],
             [
              0.7777777777777778,
              "#fb9f3a"
             ],
             [
              0.8888888888888888,
              "#fdca26"
             ],
             [
              1,
              "#f0f921"
             ]
            ],
            "type": "heatmapgl"
           }
          ],
          "histogram": [
           {
            "marker": {
             "pattern": {
              "fillmode": "overlay",
              "size": 10,
              "solidity": 0.2
             }
            },
            "type": "histogram"
           }
          ],
          "histogram2d": [
           {
            "colorbar": {
             "outlinewidth": 0,
             "ticks": ""
            },
            "colorscale": [
             [
              0,
              "#0d0887"
             ],
             [
              0.1111111111111111,
              "#46039f"
             ],
             [
              0.2222222222222222,
              "#7201a8"
             ],
             [
              0.3333333333333333,
              "#9c179e"
             ],
             [
              0.4444444444444444,
              "#bd3786"
             ],
             [
              0.5555555555555556,
              "#d8576b"
             ],
             [
              0.6666666666666666,
              "#ed7953"
             ],
             [
              0.7777777777777778,
              "#fb9f3a"
             ],
             [
              0.8888888888888888,
              "#fdca26"
             ],
             [
              1,
              "#f0f921"
             ]
            ],
            "type": "histogram2d"
           }
          ],
          "histogram2dcontour": [
           {
            "colorbar": {
             "outlinewidth": 0,
             "ticks": ""
            },
            "colorscale": [
             [
              0,
              "#0d0887"
             ],
             [
              0.1111111111111111,
              "#46039f"
             ],
             [
              0.2222222222222222,
              "#7201a8"
             ],
             [
              0.3333333333333333,
              "#9c179e"
             ],
             [
              0.4444444444444444,
              "#bd3786"
             ],
             [
              0.5555555555555556,
              "#d8576b"
             ],
             [
              0.6666666666666666,
              "#ed7953"
             ],
             [
              0.7777777777777778,
              "#fb9f3a"
             ],
             [
              0.8888888888888888,
              "#fdca26"
             ],
             [
              1,
              "#f0f921"
             ]
            ],
            "type": "histogram2dcontour"
           }
          ],
          "mesh3d": [
           {
            "colorbar": {
             "outlinewidth": 0,
             "ticks": ""
            },
            "type": "mesh3d"
           }
          ],
          "parcoords": [
           {
            "line": {
             "colorbar": {
              "outlinewidth": 0,
              "ticks": ""
             }
            },
            "type": "parcoords"
           }
          ],
          "pie": [
           {
            "automargin": true,
            "type": "pie"
           }
          ],
          "scatter": [
           {
            "marker": {
             "colorbar": {
              "outlinewidth": 0,
              "ticks": ""
             }
            },
            "type": "scatter"
           }
          ],
          "scatter3d": [
           {
            "line": {
             "colorbar": {
              "outlinewidth": 0,
              "ticks": ""
             }
            },
            "marker": {
             "colorbar": {
              "outlinewidth": 0,
              "ticks": ""
             }
            },
            "type": "scatter3d"
           }
          ],
          "scattercarpet": [
           {
            "marker": {
             "colorbar": {
              "outlinewidth": 0,
              "ticks": ""
             }
            },
            "type": "scattercarpet"
           }
          ],
          "scattergeo": [
           {
            "marker": {
             "colorbar": {
              "outlinewidth": 0,
              "ticks": ""
             }
            },
            "type": "scattergeo"
           }
          ],
          "scattergl": [
           {
            "marker": {
             "colorbar": {
              "outlinewidth": 0,
              "ticks": ""
             }
            },
            "type": "scattergl"
           }
          ],
          "scattermapbox": [
           {
            "marker": {
             "colorbar": {
              "outlinewidth": 0,
              "ticks": ""
             }
            },
            "type": "scattermapbox"
           }
          ],
          "scatterpolar": [
           {
            "marker": {
             "colorbar": {
              "outlinewidth": 0,
              "ticks": ""
             }
            },
            "type": "scatterpolar"
           }
          ],
          "scatterpolargl": [
           {
            "marker": {
             "colorbar": {
              "outlinewidth": 0,
              "ticks": ""
             }
            },
            "type": "scatterpolargl"
           }
          ],
          "scatterternary": [
           {
            "marker": {
             "colorbar": {
              "outlinewidth": 0,
              "ticks": ""
             }
            },
            "type": "scatterternary"
           }
          ],
          "surface": [
           {
            "colorbar": {
             "outlinewidth": 0,
             "ticks": ""
            },
            "colorscale": [
             [
              0,
              "#0d0887"
             ],
             [
              0.1111111111111111,
              "#46039f"
             ],
             [
              0.2222222222222222,
              "#7201a8"
             ],
             [
              0.3333333333333333,
              "#9c179e"
             ],
             [
              0.4444444444444444,
              "#bd3786"
             ],
             [
              0.5555555555555556,
              "#d8576b"
             ],
             [
              0.6666666666666666,
              "#ed7953"
             ],
             [
              0.7777777777777778,
              "#fb9f3a"
             ],
             [
              0.8888888888888888,
              "#fdca26"
             ],
             [
              1,
              "#f0f921"
             ]
            ],
            "type": "surface"
           }
          ],
          "table": [
           {
            "cells": {
             "fill": {
              "color": "#EBF0F8"
             },
             "line": {
              "color": "white"
             }
            },
            "header": {
             "fill": {
              "color": "#C8D4E3"
             },
             "line": {
              "color": "white"
             }
            },
            "type": "table"
           }
          ]
         },
         "layout": {
          "annotationdefaults": {
           "arrowcolor": "#2a3f5f",
           "arrowhead": 0,
           "arrowwidth": 1
          },
          "autotypenumbers": "strict",
          "coloraxis": {
           "colorbar": {
            "outlinewidth": 0,
            "ticks": ""
           }
          },
          "colorscale": {
           "diverging": [
            [
             0,
             "#8e0152"
            ],
            [
             0.1,
             "#c51b7d"
            ],
            [
             0.2,
             "#de77ae"
            ],
            [
             0.3,
             "#f1b6da"
            ],
            [
             0.4,
             "#fde0ef"
            ],
            [
             0.5,
             "#f7f7f7"
            ],
            [
             0.6,
             "#e6f5d0"
            ],
            [
             0.7,
             "#b8e186"
            ],
            [
             0.8,
             "#7fbc41"
            ],
            [
             0.9,
             "#4d9221"
            ],
            [
             1,
             "#276419"
            ]
           ],
           "sequential": [
            [
             0,
             "#0d0887"
            ],
            [
             0.1111111111111111,
             "#46039f"
            ],
            [
             0.2222222222222222,
             "#7201a8"
            ],
            [
             0.3333333333333333,
             "#9c179e"
            ],
            [
             0.4444444444444444,
             "#bd3786"
            ],
            [
             0.5555555555555556,
             "#d8576b"
            ],
            [
             0.6666666666666666,
             "#ed7953"
            ],
            [
             0.7777777777777778,
             "#fb9f3a"
            ],
            [
             0.8888888888888888,
             "#fdca26"
            ],
            [
             1,
             "#f0f921"
            ]
           ],
           "sequentialminus": [
            [
             0,
             "#0d0887"
            ],
            [
             0.1111111111111111,
             "#46039f"
            ],
            [
             0.2222222222222222,
             "#7201a8"
            ],
            [
             0.3333333333333333,
             "#9c179e"
            ],
            [
             0.4444444444444444,
             "#bd3786"
            ],
            [
             0.5555555555555556,
             "#d8576b"
            ],
            [
             0.6666666666666666,
             "#ed7953"
            ],
            [
             0.7777777777777778,
             "#fb9f3a"
            ],
            [
             0.8888888888888888,
             "#fdca26"
            ],
            [
             1,
             "#f0f921"
            ]
           ]
          },
          "colorway": [
           "#636efa",
           "#EF553B",
           "#00cc96",
           "#ab63fa",
           "#FFA15A",
           "#19d3f3",
           "#FF6692",
           "#B6E880",
           "#FF97FF",
           "#FECB52"
          ],
          "font": {
           "color": "#2a3f5f"
          },
          "geo": {
           "bgcolor": "white",
           "lakecolor": "white",
           "landcolor": "#E5ECF6",
           "showlakes": true,
           "showland": true,
           "subunitcolor": "white"
          },
          "hoverlabel": {
           "align": "left"
          },
          "hovermode": "closest",
          "mapbox": {
           "style": "light"
          },
          "paper_bgcolor": "white",
          "plot_bgcolor": "#E5ECF6",
          "polar": {
           "angularaxis": {
            "gridcolor": "white",
            "linecolor": "white",
            "ticks": ""
           },
           "bgcolor": "#E5ECF6",
           "radialaxis": {
            "gridcolor": "white",
            "linecolor": "white",
            "ticks": ""
           }
          },
          "scene": {
           "xaxis": {
            "backgroundcolor": "#E5ECF6",
            "gridcolor": "white",
            "gridwidth": 2,
            "linecolor": "white",
            "showbackground": true,
            "ticks": "",
            "zerolinecolor": "white"
           },
           "yaxis": {
            "backgroundcolor": "#E5ECF6",
            "gridcolor": "white",
            "gridwidth": 2,
            "linecolor": "white",
            "showbackground": true,
            "ticks": "",
            "zerolinecolor": "white"
           },
           "zaxis": {
            "backgroundcolor": "#E5ECF6",
            "gridcolor": "white",
            "gridwidth": 2,
            "linecolor": "white",
            "showbackground": true,
            "ticks": "",
            "zerolinecolor": "white"
           }
          },
          "shapedefaults": {
           "line": {
            "color": "#2a3f5f"
           }
          },
          "ternary": {
           "aaxis": {
            "gridcolor": "white",
            "linecolor": "white",
            "ticks": ""
           },
           "baxis": {
            "gridcolor": "white",
            "linecolor": "white",
            "ticks": ""
           },
           "bgcolor": "#E5ECF6",
           "caxis": {
            "gridcolor": "white",
            "linecolor": "white",
            "ticks": ""
           }
          },
          "title": {
           "x": 0.05
          },
          "xaxis": {
           "automargin": true,
           "gridcolor": "white",
           "linecolor": "white",
           "ticks": "",
           "title": {
            "standoff": 15
           },
           "zerolinecolor": "white",
           "zerolinewidth": 2
          },
          "yaxis": {
           "automargin": true,
           "gridcolor": "white",
           "linecolor": "white",
           "ticks": "",
           "title": {
            "standoff": 15
           },
           "zerolinecolor": "white",
           "zerolinewidth": 2
          }
         }
        },
        "title": {
         "text": "Parallel Coordinate Plot"
        }
       }
      }
     },
     "metadata": {},
     "output_type": "display_data"
    }
   ],
   "source": [
    "optuna.visualization.plot_parallel_coordinate(study)"
   ]
  },
  {
   "cell_type": "code",
   "execution_count": 54,
   "id": "1d419df8",
   "metadata": {},
   "outputs": [
    {
     "name": "stdout",
     "output_type": "stream",
     "text": [
      "Best trial: {'n_estimators': 84, 'max_depth': 10, 'min_samples_leaf': 1, 'min_samples_split': 2}\n"
     ]
    },
    {
     "data": {
      "text/plain": [
       "84"
      ]
     },
     "execution_count": 54,
     "metadata": {},
     "output_type": "execute_result"
    }
   ],
   "source": [
    "print(\"Best trial:\", study.best_trial.params)\n",
    "study.best_trial.params[\"n_estimators\"]"
   ]
  },
  {
   "cell_type": "code",
   "execution_count": 55,
   "id": "ffefef6c",
   "metadata": {},
   "outputs": [
    {
     "data": {
      "text/html": [
       "<style>#sk-container-id-3 {color: black;}#sk-container-id-3 pre{padding: 0;}#sk-container-id-3 div.sk-toggleable {background-color: white;}#sk-container-id-3 label.sk-toggleable__label {cursor: pointer;display: block;width: 100%;margin-bottom: 0;padding: 0.3em;box-sizing: border-box;text-align: center;}#sk-container-id-3 label.sk-toggleable__label-arrow:before {content: \"▸\";float: left;margin-right: 0.25em;color: #696969;}#sk-container-id-3 label.sk-toggleable__label-arrow:hover:before {color: black;}#sk-container-id-3 div.sk-estimator:hover label.sk-toggleable__label-arrow:before {color: black;}#sk-container-id-3 div.sk-toggleable__content {max-height: 0;max-width: 0;overflow: hidden;text-align: left;background-color: #f0f8ff;}#sk-container-id-3 div.sk-toggleable__content pre {margin: 0.2em;color: black;border-radius: 0.25em;background-color: #f0f8ff;}#sk-container-id-3 input.sk-toggleable__control:checked~div.sk-toggleable__content {max-height: 200px;max-width: 100%;overflow: auto;}#sk-container-id-3 input.sk-toggleable__control:checked~label.sk-toggleable__label-arrow:before {content: \"▾\";}#sk-container-id-3 div.sk-estimator input.sk-toggleable__control:checked~label.sk-toggleable__label {background-color: #d4ebff;}#sk-container-id-3 div.sk-label input.sk-toggleable__control:checked~label.sk-toggleable__label {background-color: #d4ebff;}#sk-container-id-3 input.sk-hidden--visually {border: 0;clip: rect(1px 1px 1px 1px);clip: rect(1px, 1px, 1px, 1px);height: 1px;margin: -1px;overflow: hidden;padding: 0;position: absolute;width: 1px;}#sk-container-id-3 div.sk-estimator {font-family: monospace;background-color: #f0f8ff;border: 1px dotted black;border-radius: 0.25em;box-sizing: border-box;margin-bottom: 0.5em;}#sk-container-id-3 div.sk-estimator:hover {background-color: #d4ebff;}#sk-container-id-3 div.sk-parallel-item::after {content: \"\";width: 100%;border-bottom: 1px solid gray;flex-grow: 1;}#sk-container-id-3 div.sk-label:hover label.sk-toggleable__label {background-color: #d4ebff;}#sk-container-id-3 div.sk-serial::before {content: \"\";position: absolute;border-left: 1px solid gray;box-sizing: border-box;top: 0;bottom: 0;left: 50%;z-index: 0;}#sk-container-id-3 div.sk-serial {display: flex;flex-direction: column;align-items: center;background-color: white;padding-right: 0.2em;padding-left: 0.2em;position: relative;}#sk-container-id-3 div.sk-item {position: relative;z-index: 1;}#sk-container-id-3 div.sk-parallel {display: flex;align-items: stretch;justify-content: center;background-color: white;position: relative;}#sk-container-id-3 div.sk-item::before, #sk-container-id-3 div.sk-parallel-item::before {content: \"\";position: absolute;border-left: 1px solid gray;box-sizing: border-box;top: 0;bottom: 0;left: 50%;z-index: -1;}#sk-container-id-3 div.sk-parallel-item {display: flex;flex-direction: column;z-index: 1;position: relative;background-color: white;}#sk-container-id-3 div.sk-parallel-item:first-child::after {align-self: flex-end;width: 50%;}#sk-container-id-3 div.sk-parallel-item:last-child::after {align-self: flex-start;width: 50%;}#sk-container-id-3 div.sk-parallel-item:only-child::after {width: 0;}#sk-container-id-3 div.sk-dashed-wrapped {border: 1px dashed gray;margin: 0 0.4em 0.5em 0.4em;box-sizing: border-box;padding-bottom: 0.4em;background-color: white;}#sk-container-id-3 div.sk-label label {font-family: monospace;font-weight: bold;display: inline-block;line-height: 1.2em;}#sk-container-id-3 div.sk-label-container {text-align: center;}#sk-container-id-3 div.sk-container {/* jupyter's `normalize.less` sets `[hidden] { display: none; }` but bootstrap.min.css set `[hidden] { display: none !important; }` so we also need the `!important` here to be able to override the default hidden behavior on the sphinx rendered scikit-learn.org. See: https://github.com/scikit-learn/scikit-learn/issues/21755 */display: inline-block !important;position: relative;}#sk-container-id-3 div.sk-text-repr-fallback {display: none;}</style><div id=\"sk-container-id-3\" class=\"sk-top-container\"><div class=\"sk-text-repr-fallback\"><pre>RandomForestRegressor(max_depth=10, n_estimators=84, random_state=42)</pre><b>In a Jupyter environment, please rerun this cell to show the HTML representation or trust the notebook. <br />On GitHub, the HTML representation is unable to render, please try loading this page with nbviewer.org.</b></div><div class=\"sk-container\" hidden><div class=\"sk-item\"><div class=\"sk-estimator sk-toggleable\"><input class=\"sk-toggleable__control sk-hidden--visually\" id=\"sk-estimator-id-3\" type=\"checkbox\" checked><label for=\"sk-estimator-id-3\" class=\"sk-toggleable__label sk-toggleable__label-arrow\">RandomForestRegressor</label><div class=\"sk-toggleable__content\"><pre>RandomForestRegressor(max_depth=10, n_estimators=84, random_state=42)</pre></div></div></div></div></div>"
      ],
      "text/plain": [
       "RandomForestRegressor(max_depth=10, n_estimators=84, random_state=42)"
      ]
     },
     "execution_count": 55,
     "metadata": {},
     "output_type": "execute_result"
    }
   ],
   "source": [
    "rf_params = {\n",
    "    \"random_state\": 42,\n",
    "    #\"learning_rate\": 0.1,\n",
    "    \"n_estimators\": study.best_trial.params[\"n_estimators\"],\n",
    "    \"max_depth\": study.best_trial.params[\"max_depth\"],\n",
    "    \"min_samples_leaf\": study.best_trial.params[\"min_samples_leaf\"],\n",
    "    \"min_samples_split\": study.best_trial.params[\"min_samples_split\"],\n",
    "    #\"subsample\": study.best_trial.params[\"subsample\"]\n",
    "}\n",
    "\n",
    "rf = RandomForestRegressor(**rf_params)\n",
    "rf.fit(Ni_X_train, Ni_y_train)"
   ]
  },
  {
   "cell_type": "code",
   "execution_count": 56,
   "id": "4c1a69d2",
   "metadata": {},
   "outputs": [],
   "source": [
    "y_train_pred = rf.predict(Ni_X_train)\n",
    "y_test_pred = rf.predict(Ni_X_test)"
   ]
  },
  {
   "cell_type": "code",
   "execution_count": 57,
   "id": "0f707a20",
   "metadata": {},
   "outputs": [
    {
     "name": "stdout",
     "output_type": "stream",
     "text": [
      "Train RMSE:  0.33590467447700184\n",
      "Test RMSE:  0.8909389853587627\n"
     ]
    }
   ],
   "source": [
    "print(\"Train RMSE: \", np.sqrt(mean_squared_error(Ni_y_train, y_train_pred)))\n",
    "print(\"Test RMSE: \", np.sqrt(mean_squared_error(Ni_y_test, y_test_pred)))"
   ]
  },
  {
   "cell_type": "code",
   "execution_count": 58,
   "id": "641d78f4",
   "metadata": {},
   "outputs": [
    {
     "name": "stdout",
     "output_type": "stream",
     "text": [
      "Train R2:  0.9237817538950975\n",
      "Test R2:  0.43075956732075316\n"
     ]
    }
   ],
   "source": [
    "print(\"Train R2: \", r2_score(Ni_y_train, y_train_pred))\n",
    "print(\"Test R2: \", r2_score(Ni_y_test, y_test_pred))"
   ]
  },
  {
   "cell_type": "code",
   "execution_count": 59,
   "id": "dd1670cb",
   "metadata": {},
   "outputs": [
    {
     "data": {
      "image/png": "[encoded data removed]",
      "text/plain": [
       "<Figure size 640x480 with 1 Axes>"
      ]
     },
     "metadata": {},
     "output_type": "display_data"
    }
   ],
   "source": [
    "plt.scatter(y_train_pred, np.array(Ni_y_train), color=\"orange\", alpha=0.3)\n",
    "plt.scatter(y_test_pred, np.array(Ni_y_test), color=\"green\", alpha=0.4)\n",
    "plt.axis(\"auto\") # scaled, tight, auto, image, square\n",
    "# plt.xlim([0, 1.5]) \n",
    "# plt.ylim(0, None) \n",
    "plt.xlabel('Predicted Values')\n",
    "plt.ylabel('Actual Values')\n",
    "\n",
    "# Add y=x line\n",
    "plt.plot([0, 4.0], [0, 4.0], color='red', linestyle='-')\n",
    "\n",
    "plt.show()"
   ]
  },
  {
   "cell_type": "code",
   "execution_count": 60,
   "id": "a217697a",
   "metadata": {},
   "outputs": [],
   "source": [
    "Ni_pred = pd.DataFrame(y_train_pred, columns = ['Ni_pred'])\n",
    "Ni_pred_test = pd.DataFrame(y_test_pred, columns = ['Ni_pred'])"
   ]
  },
  {
   "cell_type": "code",
   "execution_count": 61,
   "id": "4a7901a1",
   "metadata": {},
   "outputs": [],
   "source": [
    "Ni_y_train = Ni_y_train.reset_index(drop = False)\n",
    "Ni_y_test = Ni_y_test.reset_index(drop = False)"
   ]
  },
  {
   "cell_type": "code",
   "execution_count": 62,
   "id": "e5b77535",
   "metadata": {},
   "outputs": [],
   "source": [
    "Ni_data = pd.concat([Ni_pred, Ni_y_train], axis = 1)\n",
    "Ni_data_test = pd.concat([Ni_pred_test, Ni_y_test], axis = 1)"
   ]
  },
  {
   "cell_type": "code",
   "execution_count": 63,
   "id": "df48f85f",
   "metadata": {},
   "outputs": [],
   "source": [
    "Ni_data.to_csv('RF_Ni_train_data.csv', sep = ',')\n",
    "Ni_data_test.to_csv('RF_Ni_test_data.csv', sep = ',')"
   ]
  }
 ],
 "metadata": {
  "kernelspec": {
   "display_name": "base",
   "language": "python",
   "name": "python3"
  },
  "language_info": {
   "codemirror_mode": {
    "name": "ipython",
    "version": 3
   },
   "file_extension": ".py",
   "mimetype": "text/x-python",
   "name": "python",
   "nbconvert_exporter": "python",
   "pygments_lexer": "ipython3",
   "version": "3.8.11"
  },
  "vscode": {
   "interpreter": {
    "hash": "ba68d4d491ed2bf1e98a1b536323f5ca7371de2084cca3d5786e07ce079a51c3"
   }
  }
 },
 "nbformat": 4,
 "nbformat_minor": 5
}
