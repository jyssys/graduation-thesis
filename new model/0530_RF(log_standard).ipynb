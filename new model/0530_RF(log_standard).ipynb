{
 "cells": [
  {
   "attachments": {},
   "cell_type": "markdown",
   "id": "451911be",
   "metadata": {},
   "source": [
    "#### Library import"
   ]
  },
  {
   "cell_type": "code",
   "execution_count": 1,
   "id": "8a394942",
   "metadata": {},
   "outputs": [],
   "source": [
    "import os\n",
    "import pandas as pd\n",
    "import numpy as np\n",
    "import matplotlib.pyplot as plt\n",
    "%matplotlib inline\n",
    "import seaborn as sns\n",
    "import tensorflow as tf\n",
    "import missingno as msno\n",
    "\n",
    "import warnings\n",
    "warnings.filterwarnings('ignore')\n",
    "\n",
    "from sklearn.model_selection import train_test_split\n",
    "from sklearn.model_selection import GridSearchCV\n",
    "from sklearn.metrics import mean_squared_error, r2_score\n",
    "from sklearn.preprocessing import StandardScaler, MinMaxScaler, RobustScaler\n",
    "from sklearn.ensemble import RandomForestRegressor, GradientBoostingRegressor, ExtraTreesRegressor\n",
    "from sklearn.model_selection import KFold\n",
    "from lightgbm import LGBMRegressor\n",
    "from xgboost import XGBRegressor\n",
    "from ngboost import NGBRegressor\n",
    "from scipy.stats import norm, skew\n",
    "\n",
    "from matplotlib.ticker import FormatStrFormatter\n",
    "\n",
    "from tensorflow import keras\n",
    "\n",
    "import re\n",
    "from tqdm import tqdm"
   ]
  },
  {
   "attachments": {},
   "cell_type": "markdown",
   "id": "31a13d68",
   "metadata": {},
   "source": [
    "#### GPU setting"
   ]
  },
  {
   "cell_type": "code",
   "execution_count": 2,
   "id": "cff3cada",
   "metadata": {},
   "outputs": [],
   "source": [
    "from tensorflow.compat.v1 import ConfigProto\n",
    "from tensorflow.compat.v1 import InteractiveSession"
   ]
  },
  {
   "cell_type": "code",
   "execution_count": 3,
   "id": "fb88e9c0",
   "metadata": {},
   "outputs": [],
   "source": [
    "config = ConfigProto()\n",
    "config.gpu_options.per_process_gpu_memory_fraction = 0.4\n",
    "session = InteractiveSession(config = config)"
   ]
  },
  {
   "cell_type": "code",
   "execution_count": 4,
   "id": "ea8f0f47",
   "metadata": {},
   "outputs": [
    {
     "name": "stdout",
     "output_type": "stream",
     "text": [
      "[name: \"/device:CPU:0\"\n",
      "device_type: \"CPU\"\n",
      "memory_limit: 268435456\n",
      "locality {\n",
      "}\n",
      "incarnation: 12466625163649385548\n",
      ", name: \"/device:GPU:0\"\n",
      "device_type: \"GPU\"\n",
      "memory_limit: 3435973836\n",
      "locality {\n",
      "  bus_id: 1\n",
      "  links {\n",
      "  }\n",
      "}\n",
      "incarnation: 15831221446900157393\n",
      "physical_device_desc: \"device: 0, name: NVIDIA GeForce RTX 3060 Ti, pci bus id: 0000:07:00.0, compute capability: 8.6\"\n",
      "]\n"
     ]
    }
   ],
   "source": [
    "physical_devices = tf.config.list_physical_devices('GPU')\n",
    "physical_devices\n",
    "\n",
    "from tensorflow.python.client import device_lib\n",
    "\n",
    "print(device_lib.list_local_devices())"
   ]
  },
  {
   "cell_type": "code",
   "execution_count": 5,
   "id": "cd001f36",
   "metadata": {},
   "outputs": [],
   "source": [
    "import os\n",
    "\n",
    "os.environ[\"CUDA_VISIBLE_DEVICES\"]=\"0\"\n",
    "gpus = tf.config.experimental.list_physical_devices('GPU')\n",
    "if gpus:\n",
    "    try:\n",
    "        tf.config.experimental.set_memory_growth(gpus[0], True)\n",
    "    except RuntimeError as e:\n",
    "        print(e)"
   ]
  },
  {
   "attachments": {},
   "cell_type": "markdown",
   "id": "cb740f81",
   "metadata": {},
   "source": [
    "#### Data import and preprocessing"
   ]
  },
  {
   "cell_type": "code",
   "execution_count": 6,
   "id": "9288345d",
   "metadata": {
    "scrolled": true
   },
   "outputs": [
    {
     "data": {
      "text/plain": [
       "Index(['OBJECTID_x', 'ID', 'pH', 'As', 'Cd', 'Ni', 'Pb', 'Zn', 'Hg', 'slope',\n",
       "       'altitude', 'profile_curve', 'profile_c_num', 'profile_c_abs',\n",
       "       'planform_curve', 'planform_c_num', 'planform_c_abs', 'HYDGRP',\n",
       "       'HYDGRP_A', 'HYDGRP_B', 'HYDGRP_C', 'HYDGRP_D', 'ANION_EXCL', 'SOL_CRK',\n",
       "       'SOL_K1', 'CLAY1', 'SILT1', 'SAND1', 'ROCK1', 'SOL_EC1', 'distance'],\n",
       "      dtype='object')"
      ]
     },
     "execution_count": 6,
     "metadata": {},
     "output_type": "execute_result"
    }
   ],
   "source": [
    "data = pd.read_csv(\"data/data.csv\")\n",
    "data.columns"
   ]
  },
  {
   "cell_type": "code",
   "execution_count": 7,
   "id": "bbf87a23",
   "metadata": {},
   "outputs": [
    {
     "data": {
      "text/plain": [
       "Index(['pH', 'As', 'Cd', 'Ni', 'Pb', 'Zn', 'Hg', 'slope', 'altitude',\n",
       "       'profile_curve', 'planform_curve', 'HYDGRP_A', 'HYDGRP_B', 'HYDGRP_C',\n",
       "       'HYDGRP_D', 'SOL_K1', 'CLAY1', 'SILT1', 'SAND1', 'ROCK1', 'distance'],\n",
       "      dtype='object')"
      ]
     },
     "execution_count": 7,
     "metadata": {},
     "output_type": "execute_result"
    }
   ],
   "source": [
    "data = data.drop(['OBJECTID_x','ID','HYDGRP','profile_c_num', 'profile_c_abs','planform_c_num', 'planform_c_abs','ANION_EXCL','SOL_CRK','SOL_EC1'], axis = 1)\n",
    "data.columns"
   ]
  },
  {
   "cell_type": "code",
   "execution_count": 8,
   "id": "3cb8e77e",
   "metadata": {},
   "outputs": [],
   "source": [
    "As = data\n",
    "Cd = data\n",
    "Ni = data"
   ]
  },
  {
   "cell_type": "code",
   "execution_count": 9,
   "id": "45ec138e",
   "metadata": {},
   "outputs": [],
   "source": [
    "As = As.drop([\"Cd\", \"Ni\", \"Pb\", \"Zn\", \"Hg\"], axis = 1)\n",
    "Cd = Cd.drop([\"As\", \"Ni\", \"Pb\", \"Zn\", \"Hg\"], axis = 1)\n",
    "Ni = Ni.drop([\"As\", \"Cd\", \"Pb\", \"Zn\", \"Hg\"], axis = 1)"
   ]
  },
  {
   "cell_type": "code",
   "execution_count": 10,
   "id": "69e10383",
   "metadata": {},
   "outputs": [
    {
     "name": "stdout",
     "output_type": "stream",
     "text": [
      "(1458, 16)\n",
      "(1458, 16)\n",
      "(1458, 16)\n"
     ]
    }
   ],
   "source": [
    "print(As.shape)\n",
    "print(Cd.shape)\n",
    "print(Ni.shape)"
   ]
  },
  {
   "attachments": {},
   "cell_type": "markdown",
   "id": "2b5fd2cd",
   "metadata": {},
   "source": [
    "#### Oversampling by SMOGN (SMOTE Regression)"
   ]
  },
  {
   "cell_type": "code",
   "execution_count": 11,
   "id": "b664ef07",
   "metadata": {},
   "outputs": [],
   "source": [
    "import smogn"
   ]
  },
  {
   "cell_type": "code",
   "execution_count": 12,
   "id": "0797c71f",
   "metadata": {},
   "outputs": [
    {
     "name": "stderr",
     "output_type": "stream",
     "text": [
      "dist_matrix: 100%|##########| 248/248 [00:23<00:00, 10.71it/s]\n",
      "synth_matrix: 100%|##########| 248/248 [00:01<00:00, 215.42it/s]\n",
      "r_index: 100%|##########| 223/223 [00:00<00:00, 635.19it/s]\n",
      "dist_matrix: 100%|##########| 259/259 [00:24<00:00, 10.46it/s]\n",
      "synth_matrix: 100%|##########| 259/259 [00:01<00:00, 217.97it/s]\n",
      "r_index: 100%|##########| 155/155 [00:00<00:00, 629.94it/s]\n",
      "dist_matrix: 100%|##########| 242/242 [00:21<00:00, 11.17it/s]\n",
      "synth_matrix: 100%|##########| 242/242 [00:01<00:00, 162.27it/s]\n"
     ]
    }
   ],
   "source": [
    "As_smogn = smogn.smoter(data = As, y = 'As', samp_method = 'extreme')\n",
    "Cd_smogn = smogn.smoter(data = Cd, y = 'Cd', samp_method = 'extreme')\n",
    "Ni_smogn = smogn.smoter(data = Ni, y = 'Ni', samp_method = 'extreme')"
   ]
  },
  {
   "cell_type": "code",
   "execution_count": 13,
   "id": "cba746a8",
   "metadata": {},
   "outputs": [
    {
     "name": "stdout",
     "output_type": "stream",
     "text": [
      "(2183, 16)\n",
      "(2151, 16)\n",
      "(2183, 16)\n"
     ]
    }
   ],
   "source": [
    "print(As_smogn.shape)\n",
    "print(Cd_smogn.shape)\n",
    "print(Ni_smogn.shape)"
   ]
  },
  {
   "attachments": {},
   "cell_type": "markdown",
   "id": "ed72a9b1",
   "metadata": {},
   "source": [
    "#### Eliminate outlier and train / test split"
   ]
  },
  {
   "cell_type": "code",
   "execution_count": 14,
   "id": "43604a42",
   "metadata": {},
   "outputs": [],
   "source": [
    "def eli_outlier(data, value):\n",
    "    q1 = data[value].quantile(0.25)\n",
    "    q3 = data[value].quantile(0.75)\n",
    "\n",
    "    iqr = q3 - q1\n",
    "\n",
    "    q1_condition = data[value] < q1-1.5*iqr\n",
    "    q3_condition = data[value] > q3+1.5*iqr\n",
    "\n",
    "    reset_q1_index = data[q1_condition].index\n",
    "    reset_q3_index = data[q3_condition].index\n",
    "\n",
    "    data.drop(reset_q1_index, inplace = True)\n",
    "    data.drop(reset_q3_index, inplace = True)\n",
    "\n",
    "    return data"
   ]
  },
  {
   "cell_type": "code",
   "execution_count": 15,
   "id": "9b7632f2",
   "metadata": {},
   "outputs": [],
   "source": [
    "As_ros = eli_outlier(As_smogn, \"As\")\n",
    "Cd_ros = eli_outlier(Cd_smogn, \"Cd\")\n",
    "Ni_ros = eli_outlier(Ni_smogn, \"Ni\")"
   ]
  },
  {
   "cell_type": "code",
   "execution_count": 16,
   "id": "f8609469",
   "metadata": {},
   "outputs": [],
   "source": [
    "As_X = As_ros.drop([\"As\"], axis=1)\n",
    "Cd_X = Cd_ros.drop([\"Cd\"], axis=1)\n",
    "Ni_X = Ni_ros.drop([\"Ni\"], axis=1)\n",
    "\n",
    "As_y = As_ros[\"As\"]\n",
    "Cd_y = Cd_ros[\"Cd\"]\n",
    "Ni_y = Ni_ros[\"Ni\"]"
   ]
  },
  {
   "cell_type": "code",
   "execution_count": 17,
   "id": "7237a19a",
   "metadata": {},
   "outputs": [],
   "source": [
    "As_y = np.log1p(As_ros[\"As\"])\n",
    "Cd_y = np.log1p(Cd_ros[\"Cd\"])\n",
    "Ni_y = np.log1p(Ni_ros[\"Ni\"])"
   ]
  },
  {
   "cell_type": "code",
   "execution_count": 18,
   "id": "ce87d06a",
   "metadata": {},
   "outputs": [
    {
     "name": "stdout",
     "output_type": "stream",
     "text": [
      "(1627, 15)\n",
      "(1753, 15)\n",
      "(2069, 15)\n"
     ]
    }
   ],
   "source": [
    "print(As_X.shape)\n",
    "print(Cd_X.shape)\n",
    "print(Ni_X.shape)"
   ]
  },
  {
   "attachments": {},
   "cell_type": "markdown",
   "id": "c92e5bb6",
   "metadata": {},
   "source": [
    "StandardScaler"
   ]
  },
  {
   "cell_type": "code",
   "execution_count": 19,
   "id": "fbb3f6f7",
   "metadata": {},
   "outputs": [],
   "source": [
    "from sklearn.preprocessing import StandardScaler\n",
    "\n",
    "scaler = StandardScaler()\n",
    "\n",
    "As_X_train, As_X_test, As_y_train, As_y_test = train_test_split(As_X, As_y, test_size=0.2, random_state=42)\n",
    "Cd_X_train, Cd_X_test, Cd_y_train, Cd_y_test = train_test_split(Cd_X, Cd_y, test_size=0.2, random_state=42)\n",
    "Ni_X_train, Ni_X_test, Ni_y_train, Ni_y_test = train_test_split(Ni_X, Ni_y, test_size=0.2, random_state=42)\n",
    "\n",
    "As_X_train = scaler.fit_transform(As_X_train)\n",
    "As_X_test = scaler.fit_transform(As_X_test)\n",
    "\n",
    "Cd_X_train = scaler.fit_transform(Cd_X_train)\n",
    "Cd_X_test = scaler.fit_transform(Cd_X_test)\n",
    "\n",
    "Ni_X_train = scaler.fit_transform(Ni_X_train)\n",
    "Ni_X_test = scaler.fit_transform(Ni_X_test)"
   ]
  },
  {
   "cell_type": "code",
   "execution_count": 20,
   "id": "416a7027",
   "metadata": {},
   "outputs": [
    {
     "data": {
      "text/plain": [
       "' from sklearn.preprocessing import StandardScaler\\n\\nscaler = StandardScaler()\\n\\nAs_X_scaled = scaler.fit_transform(As_X)\\nCd_X_scaled = scaler.fit_transform(Cd_X)\\nNi_X_scaled = scaler.fit_transform(Ni_X)\\n\\nAs_X_train, As_X_test, As_y_train, As_y_test = train_test_split(As_X_scaled, As_y, test_size=0.2, random_state=42)\\nCd_X_train, Cd_X_test, Cd_y_train, Cd_y_test = train_test_split(Cd_X_scaled, Cd_y, test_size=0.2, random_state=42)\\nNi_X_train, Ni_X_test, Ni_y_train, Ni_y_test = train_test_split(Ni_X_scaled, Ni_y, test_size=0.2, random_state=42) '"
      ]
     },
     "execution_count": 20,
     "metadata": {},
     "output_type": "execute_result"
    }
   ],
   "source": [
    "''' from sklearn.preprocessing import StandardScaler\n",
    "\n",
    "scaler = StandardScaler()\n",
    "\n",
    "As_X_scaled = scaler.fit_transform(As_X)\n",
    "Cd_X_scaled = scaler.fit_transform(Cd_X)\n",
    "Ni_X_scaled = scaler.fit_transform(Ni_X)\n",
    "\n",
    "As_X_train, As_X_test, As_y_train, As_y_test = train_test_split(As_X_scaled, As_y, test_size=0.2, random_state=42)\n",
    "Cd_X_train, Cd_X_test, Cd_y_train, Cd_y_test = train_test_split(Cd_X_scaled, Cd_y, test_size=0.2, random_state=42)\n",
    "Ni_X_train, Ni_X_test, Ni_y_train, Ni_y_test = train_test_split(Ni_X_scaled, Ni_y, test_size=0.2, random_state=42) '''"
   ]
  },
  {
   "attachments": {},
   "cell_type": "markdown",
   "id": "2fe0d293",
   "metadata": {},
   "source": [
    "MinMaxScaler"
   ]
  },
  {
   "cell_type": "code",
   "execution_count": 21,
   "id": "e8596f9f",
   "metadata": {},
   "outputs": [],
   "source": [
    "# from sklearn.preprocessing import MinMaxScaler\n",
    "\n",
    "# scaler = MinMaxScaler()\n",
    "# As_X_scaled = scaler.fit_transform(As_X)\n",
    "# Cd_X_scaled = scaler.fit_transform(Cd_X)\n",
    "# Ni_X_scaled = scaler.fit_transform(Ni_X)\n",
    "\n",
    "# As_X_train, As_X_test, As_y_train, As_y_test = train_test_split(As_X_scaled, As_y, test_size=0.2, random_state=42)\n",
    "# Cd_X_train, Cd_X_test, Cd_y_train, Cd_y_test = train_test_split(Cd_X_scaled, Cd_y, test_size=0.2, random_state=42)\n",
    "# Ni_X_train, Ni_X_test, Ni_y_train, Ni_y_test = train_test_split(Ni_X_scaled, Ni_y, test_size=0.2, random_state=42)"
   ]
  },
  {
   "cell_type": "code",
   "execution_count": 22,
   "id": "86ccf2fe",
   "metadata": {},
   "outputs": [
    {
     "name": "stdout",
     "output_type": "stream",
     "text": [
      "(1301, 15)\n",
      "(1402, 15)\n",
      "(1655, 15)\n"
     ]
    }
   ],
   "source": [
    "print(As_X_train.shape)\n",
    "print(Cd_X_train.shape)\n",
    "print(Ni_X_train.shape)"
   ]
  },
  {
   "attachments": {},
   "cell_type": "markdown",
   "id": "bd11b27e",
   "metadata": {},
   "source": [
    "#### 10-Fold Crossvalidation"
   ]
  },
  {
   "cell_type": "code",
   "execution_count": 23,
   "id": "7a765916",
   "metadata": {},
   "outputs": [],
   "source": [
    "kf = KFold(n_splits = 5, random_state = 42, shuffle = True)"
   ]
  },
  {
   "attachments": {},
   "cell_type": "markdown",
   "id": "859638d0",
   "metadata": {},
   "source": [
    "#### Optuna Optimization"
   ]
  },
  {
   "cell_type": "code",
   "execution_count": 24,
   "id": "92a47d83",
   "metadata": {},
   "outputs": [],
   "source": [
    "import optuna\n",
    "\n",
    "from optuna import Trial\n",
    "from optuna.samplers import TPESampler"
   ]
  },
  {
   "cell_type": "code",
   "execution_count": 25,
   "id": "a7669fea",
   "metadata": {},
   "outputs": [],
   "source": [
    "from sklearn.model_selection import cross_val_score\n",
    "\n",
    "def objectiveRF(trial: Trial, X_train, y_train) -> float:\n",
    "    rf_paramas = {\n",
    "        \"random_state\": 42,\n",
    "        #\"learning_rate\": 0.1,\n",
    "        \"n_estimators\": trial.suggest_int(\"n_estimators\", 10, 100),\n",
    "        \"max_depth\": trial.suggest_int(\"max_depth\", 1, 10),\n",
    "        \"min_samples_leaf\": trial.suggest_int(\"min_samples_leaf\", 1, 20),\n",
    "        \"min_samples_split\": trial.suggest_int(\"min_samples_split\", 2, 20),\n",
    "        #\"subsample\": trial.suggest_float(\"subsample\", 0.1, 0.5)\n",
    "    }\n",
    "    \n",
    "    rf = RandomForestRegressor(**rf_paramas)\n",
    "    r2 = cross_val_score(rf, X_train, y_train, scoring = \"r2\", cv = kf)\n",
    "    r2 = r2.mean()\n",
    "    \n",
    "    return r2"
   ]
  },
  {
   "attachments": {},
   "cell_type": "markdown",
   "id": "b0988f46",
   "metadata": {},
   "source": [
    "####  Optimization"
   ]
  },
  {
   "cell_type": "code",
   "execution_count": 26,
   "id": "94f5e00d",
   "metadata": {
    "scrolled": false
   },
   "outputs": [
    {
     "name": "stderr",
     "output_type": "stream",
     "text": [
      "\u001b[32m[I 2023-08-24 13:06:12,940]\u001b[0m A new study created in memory with name: rf_parameter_opt\u001b[0m\n",
      "\u001b[32m[I 2023-08-24 13:06:14,270]\u001b[0m Trial 0 finished with value: 0.5300976622195182 and parameters: {'n_estimators': 51, 'max_depth': 9, 'min_samples_leaf': 20, 'min_samples_split': 14}. Best is trial 0 with value: 0.5300976622195182.\u001b[0m\n",
      "\u001b[32m[I 2023-08-24 13:06:14,761]\u001b[0m Trial 1 finished with value: 0.5257531924144482 and parameters: {'n_estimators': 18, 'max_depth': 7, 'min_samples_leaf': 19, 'min_samples_split': 2}. Best is trial 0 with value: 0.5300976622195182.\u001b[0m\n",
      "\u001b[32m[I 2023-08-24 13:06:15,127]\u001b[0m Trial 2 finished with value: 0.4321695657670035 and parameters: {'n_estimators': 19, 'max_depth': 3, 'min_samples_leaf': 2, 'min_samples_split': 17}. Best is trial 0 with value: 0.5300976622195182.\u001b[0m\n",
      "\u001b[32m[I 2023-08-24 13:06:16,013]\u001b[0m Trial 3 finished with value: 0.4782202731995359 and parameters: {'n_estimators': 41, 'max_depth': 4, 'min_samples_leaf': 17, 'min_samples_split': 4}. Best is trial 0 with value: 0.5300976622195182.\u001b[0m\n",
      "\u001b[32m[I 2023-08-24 13:06:16,263]\u001b[0m Trial 4 finished with value: 0.19229173276925685 and parameters: {'n_estimators': 26, 'max_depth': 1, 'min_samples_leaf': 13, 'min_samples_split': 9}. Best is trial 0 with value: 0.5300976622195182.\u001b[0m\n",
      "\u001b[32m[I 2023-08-24 13:06:18,608]\u001b[0m Trial 5 finished with value: 0.5345532549669039 and parameters: {'n_estimators': 88, 'max_depth': 7, 'min_samples_leaf': 17, 'min_samples_split': 6}. Best is trial 5 with value: 0.5345532549669039.\u001b[0m\n",
      "\u001b[32m[I 2023-08-24 13:06:21,182]\u001b[0m Trial 6 finished with value: 0.5470865798820664 and parameters: {'n_estimators': 88, 'max_depth': 6, 'min_samples_leaf': 8, 'min_samples_split': 19}. Best is trial 6 with value: 0.5470865798820664.\u001b[0m\n",
      "\u001b[32m[I 2023-08-24 13:06:21,492]\u001b[0m Trial 7 finished with value: 0.48735582947985334 and parameters: {'n_estimators': 13, 'max_depth': 4, 'min_samples_leaf': 3, 'min_samples_split': 15}. Best is trial 6 with value: 0.5470865798820664.\u001b[0m\n",
      "\u001b[32m[I 2023-08-24 13:06:21,654]\u001b[0m Trial 8 finished with value: 0.3611712751972053 and parameters: {'n_estimators': 10, 'max_depth': 2, 'min_samples_leaf': 13, 'min_samples_split': 6}. Best is trial 6 with value: 0.5470865798820664.\u001b[0m\n",
      "\u001b[32m[I 2023-08-24 13:06:23,080]\u001b[0m Trial 9 finished with value: 0.4264090460123483 and parameters: {'n_estimators': 70, 'max_depth': 3, 'min_samples_leaf': 13, 'min_samples_split': 2}. Best is trial 6 with value: 0.5470865798820664.\u001b[0m\n",
      "\u001b[32m[I 2023-08-24 13:06:27,010]\u001b[0m Trial 10 finished with value: 0.5711328199798129 and parameters: {'n_estimators': 99, 'max_depth': 10, 'min_samples_leaf': 8, 'min_samples_split': 20}. Best is trial 10 with value: 0.5711328199798129.\u001b[0m\n",
      "\u001b[32m[I 2023-08-24 13:06:31,060]\u001b[0m Trial 11 finished with value: 0.5744818884301255 and parameters: {'n_estimators': 100, 'max_depth': 10, 'min_samples_leaf': 7, 'min_samples_split': 20}. Best is trial 11 with value: 0.5744818884301255.\u001b[0m\n",
      "\u001b[32m[I 2023-08-24 13:06:35,167]\u001b[0m Trial 12 finished with value: 0.5744818884301255 and parameters: {'n_estimators': 100, 'max_depth': 10, 'min_samples_leaf': 7, 'min_samples_split': 20}. Best is trial 11 with value: 0.5744818884301255.\u001b[0m\n",
      "\u001b[32m[I 2023-08-24 13:06:38,464]\u001b[0m Trial 13 finished with value: 0.5866574133558201 and parameters: {'n_estimators': 76, 'max_depth': 9, 'min_samples_leaf': 6, 'min_samples_split': 12}. Best is trial 13 with value: 0.5866574133558201.\u001b[0m\n",
      "\u001b[32m[I 2023-08-24 13:06:41,495]\u001b[0m Trial 14 finished with value: 0.5834708122244269 and parameters: {'n_estimators': 70, 'max_depth': 8, 'min_samples_leaf': 5, 'min_samples_split': 11}. Best is trial 13 with value: 0.5866574133558201.\u001b[0m\n",
      "\u001b[32m[I 2023-08-24 13:06:44,678]\u001b[0m Trial 15 finished with value: 0.5858733580683999 and parameters: {'n_estimators': 71, 'max_depth': 8, 'min_samples_leaf': 4, 'min_samples_split': 11}. Best is trial 13 with value: 0.5866574133558201.\u001b[0m\n",
      "\u001b[32m[I 2023-08-24 13:06:47,633]\u001b[0m Trial 16 finished with value: 0.5853283240690011 and parameters: {'n_estimators': 67, 'max_depth': 8, 'min_samples_leaf': 4, 'min_samples_split': 12}. Best is trial 13 with value: 0.5866574133558201.\u001b[0m\n",
      "\u001b[32m[I 2023-08-24 13:06:50,543]\u001b[0m Trial 17 finished with value: 0.5919594587788979 and parameters: {'n_estimators': 60, 'max_depth': 8, 'min_samples_leaf': 1, 'min_samples_split': 9}. Best is trial 17 with value: 0.5919594587788979.\u001b[0m\n",
      "\u001b[32m[I 2023-08-24 13:06:52,383]\u001b[0m Trial 18 finished with value: 0.5427026999159791 and parameters: {'n_estimators': 54, 'max_depth': 6, 'min_samples_leaf': 10, 'min_samples_split': 9}. Best is trial 17 with value: 0.5919594587788979.\u001b[0m\n",
      "\u001b[32m[I 2023-08-24 13:06:54,485]\u001b[0m Trial 19 finished with value: 0.5999304866159971 and parameters: {'n_estimators': 40, 'max_depth': 9, 'min_samples_leaf': 1, 'min_samples_split': 8}. Best is trial 19 with value: 0.5999304866159971.\u001b[0m\n",
      "\u001b[32m[I 2023-08-24 13:06:55,699]\u001b[0m Trial 20 finished with value: 0.5335613818196155 and parameters: {'n_estimators': 36, 'max_depth': 5, 'min_samples_leaf': 1, 'min_samples_split': 8}. Best is trial 19 with value: 0.5999304866159971.\u001b[0m\n",
      "\u001b[32m[I 2023-08-24 13:06:58,075]\u001b[0m Trial 21 finished with value: 0.6022586893843489 and parameters: {'n_estimators': 44, 'max_depth': 9, 'min_samples_leaf': 1, 'min_samples_split': 7}. Best is trial 21 with value: 0.6022586893843489.\u001b[0m\n",
      "\u001b[32m[I 2023-08-24 13:07:00,301]\u001b[0m Trial 22 finished with value: 0.601219533973122 and parameters: {'n_estimators': 42, 'max_depth': 9, 'min_samples_leaf': 1, 'min_samples_split': 7}. Best is trial 21 with value: 0.6022586893843489.\u001b[0m\n",
      "\u001b[32m[I 2023-08-24 13:07:02,531]\u001b[0m Trial 23 finished with value: 0.6004138653368595 and parameters: {'n_estimators': 41, 'max_depth': 9, 'min_samples_leaf': 1, 'min_samples_split': 6}. Best is trial 21 with value: 0.6022586893843489.\u001b[0m\n",
      "\u001b[32m[I 2023-08-24 13:07:04,637]\u001b[0m Trial 24 finished with value: 0.5801557802715877 and parameters: {'n_estimators': 48, 'max_depth': 7, 'min_samples_leaf': 3, 'min_samples_split': 5}. Best is trial 21 with value: 0.6022586893843489.\u001b[0m\n",
      "\u001b[32m[I 2023-08-24 13:07:06,255]\u001b[0m Trial 25 finished with value: 0.5963895872882687 and parameters: {'n_estimators': 31, 'max_depth': 9, 'min_samples_leaf': 3, 'min_samples_split': 4}. Best is trial 21 with value: 0.6022586893843489.\u001b[0m\n",
      "\u001b[32m[I 2023-08-24 13:07:08,452]\u001b[0m Trial 26 finished with value: 0.5925529800050658 and parameters: {'n_estimators': 46, 'max_depth': 10, 'min_samples_leaf': 5, 'min_samples_split': 7}. Best is trial 21 with value: 0.6022586893843489.\u001b[0m\n",
      "\u001b[32m[I 2023-08-24 13:07:11,702]\u001b[0m Trial 27 finished with value: 0.6041770452662885 and parameters: {'n_estimators': 59, 'max_depth': 9, 'min_samples_leaf': 1, 'min_samples_split': 4}. Best is trial 27 with value: 0.6041770452662885.\u001b[0m\n",
      "\u001b[32m[I 2023-08-24 13:07:14,398]\u001b[0m Trial 28 finished with value: 0.5801683259300016 and parameters: {'n_estimators': 61, 'max_depth': 7, 'min_samples_leaf': 2, 'min_samples_split': 4}. Best is trial 27 with value: 0.6041770452662885.\u001b[0m\n",
      "\u001b[32m[I 2023-08-24 13:07:16,568]\u001b[0m Trial 29 finished with value: 0.5642793427910318 and parameters: {'n_estimators': 57, 'max_depth': 9, 'min_samples_leaf': 10, 'min_samples_split': 3}. Best is trial 27 with value: 0.6041770452662885.\u001b[0m\n",
      "\u001b[32m[I 2023-08-24 13:07:18,806]\u001b[0m Trial 30 finished with value: 0.583880357880999 and parameters: {'n_estimators': 51, 'max_depth': 8, 'min_samples_leaf': 5, 'min_samples_split': 7}. Best is trial 27 with value: 0.6041770452662885.\u001b[0m\n",
      "\u001b[32m[I 2023-08-24 13:07:20,656]\u001b[0m Trial 31 finished with value: 0.6001238323072756 and parameters: {'n_estimators': 34, 'max_depth': 9, 'min_samples_leaf': 1, 'min_samples_split': 6}. Best is trial 27 with value: 0.6041770452662885.\u001b[0m\n",
      "\u001b[32m[I 2023-08-24 13:07:23,016]\u001b[0m Trial 32 finished with value: 0.606528903824947 and parameters: {'n_estimators': 42, 'max_depth': 10, 'min_samples_leaf': 2, 'min_samples_split': 5}. Best is trial 32 with value: 0.606528903824947.\u001b[0m\n",
      "\u001b[32m[I 2023-08-24 13:07:24,592]\u001b[0m Trial 33 finished with value: 0.5971511419787909 and parameters: {'n_estimators': 29, 'max_depth': 10, 'min_samples_leaf': 3, 'min_samples_split': 3}. Best is trial 32 with value: 0.606528903824947.\u001b[0m\n",
      "\u001b[32m[I 2023-08-24 13:07:25,892]\u001b[0m Trial 34 finished with value: 0.5961041108395788 and parameters: {'n_estimators': 23, 'max_depth': 10, 'min_samples_leaf': 2, 'min_samples_split': 5}. Best is trial 32 with value: 0.606528903824947.\u001b[0m\n",
      "\u001b[32m[I 2023-08-24 13:07:27,972]\u001b[0m Trial 35 finished with value: 0.5884586781889405 and parameters: {'n_estimators': 46, 'max_depth': 8, 'min_samples_leaf': 4, 'min_samples_split': 2}. Best is trial 32 with value: 0.606528903824947.\u001b[0m\n",
      "\u001b[32m[I 2023-08-24 13:07:29,212]\u001b[0m Trial 36 finished with value: 0.5304875040020358 and parameters: {'n_estimators': 40, 'max_depth': 10, 'min_samples_leaf': 20, 'min_samples_split': 10}. Best is trial 32 with value: 0.606528903824947.\u001b[0m\n",
      "\u001b[32m[I 2023-08-24 13:07:31,637]\u001b[0m Trial 37 finished with value: 0.5602690190632844 and parameters: {'n_estimators': 63, 'max_depth': 6, 'min_samples_leaf': 2, 'min_samples_split': 5}. Best is trial 32 with value: 0.606528903824947.\u001b[0m\n",
      "\u001b[32m[I 2023-08-24 13:07:33,432]\u001b[0m Trial 38 finished with value: 0.5405585923580749 and parameters: {'n_estimators': 52, 'max_depth': 9, 'min_samples_leaf': 15, 'min_samples_split': 7}. Best is trial 32 with value: 0.606528903824947.\u001b[0m\n",
      "\u001b[32m[I 2023-08-24 13:07:34,456]\u001b[0m Trial 39 finished with value: 0.5690955714205753 and parameters: {'n_estimators': 24, 'max_depth': 7, 'min_samples_leaf': 2, 'min_samples_split': 15}. Best is trial 32 with value: 0.606528903824947.\u001b[0m\n",
      "\u001b[32m[I 2023-08-24 13:07:35,623]\u001b[0m Trial 40 finished with value: 0.5301943517915069 and parameters: {'n_estimators': 36, 'max_depth': 5, 'min_samples_leaf': 6, 'min_samples_split': 3}. Best is trial 32 with value: 0.606528903824947.\u001b[0m\n",
      "\u001b[32m[I 2023-08-24 13:07:37,976]\u001b[0m Trial 41 finished with value: 0.602361833046627 and parameters: {'n_estimators': 44, 'max_depth': 9, 'min_samples_leaf': 1, 'min_samples_split': 6}. Best is trial 32 with value: 0.606528903824947.\u001b[0m\n",
      "\u001b[32m[I 2023-08-24 13:07:40,301]\u001b[0m Trial 42 finished with value: 0.6025595416637997 and parameters: {'n_estimators': 44, 'max_depth': 9, 'min_samples_leaf': 2, 'min_samples_split': 5}. Best is trial 32 with value: 0.606528903824947.\u001b[0m\n",
      "\u001b[32m[I 2023-08-24 13:07:43,077]\u001b[0m Trial 43 finished with value: 0.6071398105230458 and parameters: {'n_estimators': 49, 'max_depth': 10, 'min_samples_leaf': 2, 'min_samples_split': 5}. Best is trial 43 with value: 0.6071398105230458.\u001b[0m\n",
      "\u001b[32m[I 2023-08-24 13:07:45,668]\u001b[0m Trial 44 finished with value: 0.6009845976357966 and parameters: {'n_estimators': 49, 'max_depth': 10, 'min_samples_leaf': 3, 'min_samples_split': 4}. Best is trial 43 with value: 0.6071398105230458.\u001b[0m\n",
      "\u001b[32m[I 2023-08-24 13:07:48,426]\u001b[0m Trial 45 finished with value: 0.5999498849484591 and parameters: {'n_estimators': 56, 'max_depth': 10, 'min_samples_leaf': 4, 'min_samples_split': 5}. Best is trial 43 with value: 0.6071398105230458.\u001b[0m\n",
      "\u001b[32m[I 2023-08-24 13:07:52,347]\u001b[0m Trial 46 finished with value: 0.5953879105356517 and parameters: {'n_estimators': 79, 'max_depth': 8, 'min_samples_leaf': 2, 'min_samples_split': 2}. Best is trial 43 with value: 0.6071398105230458.\u001b[0m\n",
      "\u001b[32m[I 2023-08-24 13:07:54,671]\u001b[0m Trial 47 finished with value: 0.5537173136066451 and parameters: {'n_estimators': 64, 'max_depth': 10, 'min_samples_leaf': 12, 'min_samples_split': 3}. Best is trial 43 with value: 0.6071398105230458.\u001b[0m\n",
      "\u001b[32m[I 2023-08-24 13:07:55,433]\u001b[0m Trial 48 finished with value: 0.5776599010129916 and parameters: {'n_estimators': 17, 'max_depth': 9, 'min_samples_leaf': 6, 'min_samples_split': 4}. Best is trial 43 with value: 0.6071398105230458.\u001b[0m\n",
      "\u001b[32m[I 2023-08-24 13:07:56,117]\u001b[0m Trial 49 finished with value: 0.19164791021980465 and parameters: {'n_estimators': 58, 'max_depth': 1, 'min_samples_leaf': 4, 'min_samples_split': 17}. Best is trial 43 with value: 0.6071398105230458.\u001b[0m\n",
      "\u001b[32m[I 2023-08-24 13:07:58,170]\u001b[0m Trial 50 finished with value: 0.5656326266251953 and parameters: {'n_estimators': 53, 'max_depth': 7, 'min_samples_leaf': 8, 'min_samples_split': 6}. Best is trial 43 with value: 0.6071398105230458.\u001b[0m\n",
      "\u001b[32m[I 2023-08-24 13:08:00,422]\u001b[0m Trial 51 finished with value: 0.5995294752285824 and parameters: {'n_estimators': 44, 'max_depth': 9, 'min_samples_leaf': 2, 'min_samples_split': 8}. Best is trial 43 with value: 0.6071398105230458.\u001b[0m\n",
      "\u001b[32m[I 2023-08-24 13:08:02,457]\u001b[0m Trial 52 finished with value: 0.5997754749644271 and parameters: {'n_estimators': 37, 'max_depth': 10, 'min_samples_leaf': 3, 'min_samples_split': 5}. Best is trial 43 with value: 0.6071398105230458.\u001b[0m\n",
      "\u001b[32m[I 2023-08-24 13:08:04,055]\u001b[0m Trial 53 finished with value: 0.5343749672865687 and parameters: {'n_estimators': 49, 'max_depth': 8, 'min_samples_leaf': 17, 'min_samples_split': 6}. Best is trial 43 with value: 0.6071398105230458.\u001b[0m\n",
      "\u001b[32m[I 2023-08-24 13:08:06,508]\u001b[0m Trial 54 finished with value: 0.6039495816063546 and parameters: {'n_estimators': 44, 'max_depth': 9, 'min_samples_leaf': 1, 'min_samples_split': 4}. Best is trial 43 with value: 0.6071398105230458.\u001b[0m\n",
      "\u001b[32m[I 2023-08-24 13:08:08,335]\u001b[0m Trial 55 finished with value: 0.6047920696227086 and parameters: {'n_estimators': 31, 'max_depth': 10, 'min_samples_leaf': 2, 'min_samples_split': 2}. Best is trial 43 with value: 0.6071398105230458.\u001b[0m\n",
      "\u001b[32m[I 2023-08-24 13:08:09,661]\u001b[0m Trial 56 finished with value: 0.5891245962596131 and parameters: {'n_estimators': 28, 'max_depth': 10, 'min_samples_leaf': 5, 'min_samples_split': 2}. Best is trial 43 with value: 0.6071398105230458.\u001b[0m\n",
      "\u001b[32m[I 2023-08-24 13:08:10,402]\u001b[0m Trial 57 finished with value: 0.434169863898146 and parameters: {'n_estimators': 33, 'max_depth': 3, 'min_samples_leaf': 3, 'min_samples_split': 3}. Best is trial 43 with value: 0.6071398105230458.\u001b[0m\n",
      "\u001b[32m[I 2023-08-24 13:08:12,640]\u001b[0m Trial 58 finished with value: 0.6078093232648369 and parameters: {'n_estimators': 39, 'max_depth': 10, 'min_samples_leaf': 2, 'min_samples_split': 4}. Best is trial 58 with value: 0.6078093232648369.\u001b[0m\n",
      "\u001b[32m[I 2023-08-24 13:08:14,864]\u001b[0m Trial 59 finished with value: 0.6069896854806528 and parameters: {'n_estimators': 38, 'max_depth': 10, 'min_samples_leaf': 2, 'min_samples_split': 3}. Best is trial 58 with value: 0.6078093232648369.\u001b[0m\n",
      "\u001b[32m[I 2023-08-24 13:08:15,562]\u001b[0m Trial 60 finished with value: 0.5372172939656897 and parameters: {'n_estimators': 20, 'max_depth': 10, 'min_samples_leaf': 15, 'min_samples_split': 2}. Best is trial 58 with value: 0.6078093232648369.\u001b[0m\n",
      "\u001b[32m[I 2023-08-24 13:08:17,731]\u001b[0m Trial 61 finished with value: 0.6069896854806528 and parameters: {'n_estimators': 38, 'max_depth': 10, 'min_samples_leaf': 2, 'min_samples_split': 4}. Best is trial 58 with value: 0.6078093232648369.\u001b[0m\n",
      "\u001b[32m[I 2023-08-24 13:08:19,745]\u001b[0m Trial 62 finished with value: 0.5997681127752023 and parameters: {'n_estimators': 38, 'max_depth': 10, 'min_samples_leaf': 3, 'min_samples_split': 3}. Best is trial 58 with value: 0.6078093232648369.\u001b[0m\n",
      "\u001b[32m[I 2023-08-24 13:08:20,293]\u001b[0m Trial 63 finished with value: 0.3639081220860204 and parameters: {'n_estimators': 32, 'max_depth': 2, 'min_samples_leaf': 4, 'min_samples_split': 4}. Best is trial 58 with value: 0.6078093232648369.\u001b[0m\n",
      "\u001b[32m[I 2023-08-24 13:08:21,856]\u001b[0m Trial 64 finished with value: 0.6010517374942754 and parameters: {'n_estimators': 27, 'max_depth': 10, 'min_samples_leaf': 2, 'min_samples_split': 3}. Best is trial 58 with value: 0.6078093232648369.\u001b[0m\n",
      "\u001b[32m[I 2023-08-24 13:08:23,697]\u001b[0m Trial 65 finished with value: 0.592824661485791 and parameters: {'n_estimators': 39, 'max_depth': 10, 'min_samples_leaf': 5, 'min_samples_split': 4}. Best is trial 58 with value: 0.6078093232648369.\u001b[0m\n",
      "\u001b[32m[I 2023-08-24 13:08:25,516]\u001b[0m Trial 66 finished with value: 0.5953242415036506 and parameters: {'n_estimators': 34, 'max_depth': 10, 'min_samples_leaf': 1, 'min_samples_split': 13}. Best is trial 58 with value: 0.6078093232648369.\u001b[0m\n",
      "\u001b[32m[I 2023-08-24 13:08:27,159]\u001b[0m Trial 67 finished with value: 0.5980129507394023 and parameters: {'n_estimators': 31, 'max_depth': 10, 'min_samples_leaf': 3, 'min_samples_split': 2}. Best is trial 58 with value: 0.6078093232648369.\u001b[0m\n",
      "\u001b[32m[I 2023-08-24 13:08:29,773]\u001b[0m Trial 68 finished with value: 0.6020916860653722 and parameters: {'n_estimators': 48, 'max_depth': 9, 'min_samples_leaf': 2, 'min_samples_split': 3}. Best is trial 58 with value: 0.6078093232648369.\u001b[0m\n",
      "\u001b[32m[I 2023-08-24 13:08:31,563]\u001b[0m Trial 69 finished with value: 0.5984393538802022 and parameters: {'n_estimators': 36, 'max_depth': 10, 'min_samples_leaf': 4, 'min_samples_split': 4}. Best is trial 58 with value: 0.6078093232648369.\u001b[0m\n",
      "\u001b[32m[I 2023-08-24 13:08:33,810]\u001b[0m Trial 70 finished with value: 0.6005178407832864 and parameters: {'n_estimators': 41, 'max_depth': 9, 'min_samples_leaf': 1, 'min_samples_split': 5}. Best is trial 58 with value: 0.6078093232648369.\u001b[0m\n",
      "\u001b[32m[I 2023-08-24 13:08:36,134]\u001b[0m Trial 71 finished with value: 0.6026576988482232 and parameters: {'n_estimators': 42, 'max_depth': 9, 'min_samples_leaf': 1, 'min_samples_split': 4}. Best is trial 58 with value: 0.6078093232648369.\u001b[0m\n",
      "\u001b[32m[I 2023-08-24 13:08:39,258]\u001b[0m Trial 72 finished with value: 0.6082388369910608 and parameters: {'n_estimators': 55, 'max_depth': 10, 'min_samples_leaf': 2, 'min_samples_split': 3}. Best is trial 72 with value: 0.6082388369910608.\u001b[0m\n",
      "\u001b[32m[I 2023-08-24 13:08:42,243]\u001b[0m Trial 73 finished with value: 0.6020355400741847 and parameters: {'n_estimators': 56, 'max_depth': 10, 'min_samples_leaf': 3, 'min_samples_split': 2}. Best is trial 72 with value: 0.6082388369910608.\u001b[0m\n",
      "\u001b[32m[I 2023-08-24 13:08:45,594]\u001b[0m Trial 74 finished with value: 0.6084025752626854 and parameters: {'n_estimators': 59, 'max_depth': 10, 'min_samples_leaf': 2, 'min_samples_split': 3}. Best is trial 74 with value: 0.6084025752626854.\u001b[0m\n",
      "\u001b[32m[I 2023-08-24 13:08:48,702]\u001b[0m Trial 75 finished with value: 0.6085277862148526 and parameters: {'n_estimators': 54, 'max_depth': 10, 'min_samples_leaf': 2, 'min_samples_split': 3}. Best is trial 75 with value: 0.6085277862148526.\u001b[0m\n",
      "\u001b[32m[I 2023-08-24 13:08:51,954]\u001b[0m Trial 76 finished with value: 0.5998270233388407 and parameters: {'n_estimators': 66, 'max_depth': 10, 'min_samples_leaf': 4, 'min_samples_split': 3}. Best is trial 75 with value: 0.6085277862148526.\u001b[0m\n",
      "\u001b[32m[I 2023-08-24 13:08:54,777]\u001b[0m Trial 77 finished with value: 0.6031104393652345 and parameters: {'n_estimators': 53, 'max_depth': 10, 'min_samples_leaf': 3, 'min_samples_split': 5}. Best is trial 75 with value: 0.6085277862148526.\u001b[0m\n",
      "\u001b[32m[I 2023-08-24 13:08:57,432]\u001b[0m Trial 78 finished with value: 0.5885412972591116 and parameters: {'n_estimators': 61, 'max_depth': 9, 'min_samples_leaf': 6, 'min_samples_split': 6}. Best is trial 75 with value: 0.6085277862148526.\u001b[0m\n",
      "\u001b[32m[I 2023-08-24 13:09:00,311]\u001b[0m Trial 79 finished with value: 0.6086921239084002 and parameters: {'n_estimators': 50, 'max_depth': 10, 'min_samples_leaf': 2, 'min_samples_split': 3}. Best is trial 79 with value: 0.6086921239084002.\u001b[0m\n",
      "\u001b[32m[I 2023-08-24 13:09:03,200]\u001b[0m Trial 80 finished with value: 0.6086921239084002 and parameters: {'n_estimators': 50, 'max_depth': 10, 'min_samples_leaf': 2, 'min_samples_split': 3}. Best is trial 79 with value: 0.6086921239084002.\u001b[0m\n",
      "\u001b[32m[I 2023-08-24 13:09:06,284]\u001b[0m Trial 81 finished with value: 0.6082388369910608 and parameters: {'n_estimators': 55, 'max_depth': 10, 'min_samples_leaf': 2, 'min_samples_split': 3}. Best is trial 79 with value: 0.6086921239084002.\u001b[0m\n",
      "\u001b[32m[I 2023-08-24 13:09:08,959]\u001b[0m Trial 82 finished with value: 0.6016196144828866 and parameters: {'n_estimators': 50, 'max_depth': 10, 'min_samples_leaf': 3, 'min_samples_split': 3}. Best is trial 79 with value: 0.6086921239084002.\u001b[0m\n",
      "\u001b[32m[I 2023-08-24 13:09:12,463]\u001b[0m Trial 83 finished with value: 0.610113678805981 and parameters: {'n_estimators': 54, 'max_depth': 10, 'min_samples_leaf': 1, 'min_samples_split': 2}. Best is trial 83 with value: 0.610113678805981.\u001b[0m\n",
      "\u001b[32m[I 2023-08-24 13:09:14,017]\u001b[0m Trial 84 finished with value: 0.4937128114826194 and parameters: {'n_estimators': 54, 'max_depth': 4, 'min_samples_leaf': 1, 'min_samples_split': 2}. Best is trial 83 with value: 0.610113678805981.\u001b[0m\n",
      "\u001b[32m[I 2023-08-24 13:09:17,406]\u001b[0m Trial 85 finished with value: 0.6047580712139929 and parameters: {'n_estimators': 59, 'max_depth': 9, 'min_samples_leaf': 1, 'min_samples_split': 3}. Best is trial 83 with value: 0.610113678805981.\u001b[0m\n",
      "\u001b[32m[I 2023-08-24 13:09:20,206]\u001b[0m Trial 86 finished with value: 0.599744255039263 and parameters: {'n_estimators': 55, 'max_depth': 10, 'min_samples_leaf': 4, 'min_samples_split': 2}. Best is trial 83 with value: 0.610113678805981.\u001b[0m\n",
      "\u001b[32m[I 2023-08-24 13:09:22,621]\u001b[0m Trial 87 finished with value: 0.5592449471817006 and parameters: {'n_estimators': 63, 'max_depth': 10, 'min_samples_leaf': 11, 'min_samples_split': 2}. Best is trial 83 with value: 0.610113678805981.\u001b[0m\n",
      "\u001b[32m[I 2023-08-24 13:09:25,313]\u001b[0m Trial 88 finished with value: 0.6029080010377029 and parameters: {'n_estimators': 47, 'max_depth': 9, 'min_samples_leaf': 2, 'min_samples_split': 3}. Best is trial 83 with value: 0.610113678805981.\u001b[0m\n",
      "\u001b[32m[I 2023-08-24 13:09:27,394]\u001b[0m Trial 89 finished with value: 0.5655298485282036 and parameters: {'n_estimators': 52, 'max_depth': 8, 'min_samples_leaf': 9, 'min_samples_split': 4}. Best is trial 83 with value: 0.610113678805981.\u001b[0m\n",
      "\u001b[32m[I 2023-08-24 13:09:31,187]\u001b[0m Trial 90 finished with value: 0.6034720932638529 and parameters: {'n_estimators': 69, 'max_depth': 10, 'min_samples_leaf': 3, 'min_samples_split': 2}. Best is trial 83 with value: 0.610113678805981.\u001b[0m\n",
      "\u001b[32m[I 2023-08-24 13:09:34,194]\u001b[0m Trial 91 finished with value: 0.6086194577032108 and parameters: {'n_estimators': 51, 'max_depth': 10, 'min_samples_leaf': 2, 'min_samples_split': 3}. Best is trial 83 with value: 0.610113678805981.\u001b[0m\n",
      "\u001b[32m[I 2023-08-24 13:09:37,407]\u001b[0m Trial 92 finished with value: 0.6092962906358907 and parameters: {'n_estimators': 51, 'max_depth': 10, 'min_samples_leaf': 1, 'min_samples_split': 3}. Best is trial 83 with value: 0.610113678805981.\u001b[0m\n",
      "\u001b[32m[I 2023-08-24 13:09:40,713]\u001b[0m Trial 93 finished with value: 0.6053672343068919 and parameters: {'n_estimators': 57, 'max_depth': 9, 'min_samples_leaf': 1, 'min_samples_split': 3}. Best is trial 83 with value: 0.610113678805981.\u001b[0m\n",
      "\u001b[32m[I 2023-08-24 13:09:43,540]\u001b[0m Trial 94 finished with value: 0.6073793356129791 and parameters: {'n_estimators': 46, 'max_depth': 10, 'min_samples_leaf': 1, 'min_samples_split': 3}. Best is trial 83 with value: 0.610113678805981.\u001b[0m\n",
      "\u001b[32m[I 2023-08-24 13:09:46,527]\u001b[0m Trial 95 finished with value: 0.6086791480766118 and parameters: {'n_estimators': 52, 'max_depth': 10, 'min_samples_leaf': 2, 'min_samples_split': 2}. Best is trial 83 with value: 0.610113678805981.\u001b[0m\n",
      "\u001b[32m[I 2023-08-24 13:09:49,796]\u001b[0m Trial 96 finished with value: 0.609261995295596 and parameters: {'n_estimators': 51, 'max_depth': 10, 'min_samples_leaf': 1, 'min_samples_split': 2}. Best is trial 83 with value: 0.610113678805981.\u001b[0m\n",
      "\u001b[32m[I 2023-08-24 13:09:53,016]\u001b[0m Trial 97 finished with value: 0.609261995295596 and parameters: {'n_estimators': 51, 'max_depth': 10, 'min_samples_leaf': 1, 'min_samples_split': 2}. Best is trial 83 with value: 0.610113678805981.\u001b[0m\n",
      "\u001b[32m[I 2023-08-24 13:09:56,013]\u001b[0m Trial 98 finished with value: 0.60464343540939 and parameters: {'n_estimators': 52, 'max_depth': 9, 'min_samples_leaf': 1, 'min_samples_split': 2}. Best is trial 83 with value: 0.610113678805981.\u001b[0m\n",
      "\u001b[32m[I 2023-08-24 13:09:59,254]\u001b[0m Trial 99 finished with value: 0.609261995295596 and parameters: {'n_estimators': 51, 'max_depth': 10, 'min_samples_leaf': 1, 'min_samples_split': 2}. Best is trial 83 with value: 0.610113678805981.\u001b[0m\n"
     ]
    },
    {
     "name": "stdout",
     "output_type": "stream",
     "text": [
      "Best r2:  0.610113678805981\n",
      "Best trial: {'n_estimators': 54, 'max_depth': 10, 'min_samples_leaf': 1, 'min_samples_split': 2}\n"
     ]
    }
   ],
   "source": [
    "sampler = TPESampler()\n",
    "study = optuna.create_study(\n",
    "    study_name=\"rf_parameter_opt\",\n",
    "    direction=\"maximize\",\n",
    "    sampler=sampler,\n",
    ")\n",
    "\n",
    "study.optimize(lambda trial : objectiveRF(trial, As_X_train, As_y_train), n_trials=100)\n",
    "print(\"Best r2: \", study.best_value)\n",
    "print(\"Best trial:\", study.best_trial.params)"
   ]
  },
  {
   "cell_type": "code",
   "execution_count": 27,
   "id": "ded0e0f8",
   "metadata": {},
   "outputs": [
    {
     "data": {
      "application/vnd.plotly.v1+json": {
       "config": {
        "plotlyServerURL": "https://plot.ly"
       },
       "data": [
        {
         "dimensions": [
          {
           "label": "Objective Value",
           "range": [
            0.19164791021980465,
            0.610113678805981
           ],
           "values": [
            0.5300976622195182,
            0.5257531924144482,
            0.4321695657670035,
            0.4782202731995359,
            0.19229173276925685,
            0.5345532549669039,
            0.5470865798820664,
            0.48735582947985334,
            0.3611712751972053,
            0.4264090460123483,
            0.5711328199798129,
            0.5744818884301255,
            0.5744818884301255,
            0.5866574133558201,
            0.5834708122244269,
            0.5858733580683999,
            0.5853283240690011,
            0.5919594587788979,
            0.5427026999159791,
            0.5999304866159971,
            0.5335613818196155,
            0.6022586893843489,
            0.601219533973122,
            0.6004138653368595,
            0.5801557802715877,
            0.5963895872882687,
            0.5925529800050658,
            0.6041770452662885,
            0.5801683259300016,
            0.5642793427910318,
            0.583880357880999,
            0.6001238323072756,
            0.606528903824947,
            0.5971511419787909,
            0.5961041108395788,
            0.5884586781889405,
            0.5304875040020358,
            0.5602690190632844,
            0.5405585923580749,
            0.5690955714205753,
            0.5301943517915069,
            0.602361833046627,
            0.6025595416637997,
            0.6071398105230458,
            0.6009845976357966,
            0.5999498849484591,
            0.5953879105356517,
            0.5537173136066451,
            0.5776599010129916,
            0.19164791021980465,
            0.5656326266251953,
            0.5995294752285824,
            0.5997754749644271,
            0.5343749672865687,
            0.6039495816063546,
            0.6047920696227086,
            0.5891245962596131,
            0.434169863898146,
            0.6078093232648369,
            0.6069896854806528,
            0.5372172939656897,
            0.6069896854806528,
            0.5997681127752023,
            0.3639081220860204,
            0.6010517374942754,
            0.592824661485791,
            0.5953242415036506,
            0.5980129507394023,
            0.6020916860653722,
            0.5984393538802022,
            0.6005178407832864,
            0.6026576988482232,
            0.6082388369910608,
            0.6020355400741847,
            0.6084025752626854,
            0.6085277862148526,
            0.5998270233388407,
            0.6031104393652345,
            0.5885412972591116,
            0.6086921239084002,
            0.6086921239084002,
            0.6082388369910608,
            0.6016196144828866,
            0.610113678805981,
            0.4937128114826194,
            0.6047580712139929,
            0.599744255039263,
            0.5592449471817006,
            0.6029080010377029,
            0.5655298485282036,
            0.6034720932638529,
            0.6086194577032108,
            0.6092962906358907,
            0.6053672343068919,
            0.6073793356129791,
            0.6086791480766118,
            0.609261995295596,
            0.609261995295596,
            0.60464343540939,
            0.609261995295596
           ]
          },
          {
           "label": "max_depth",
           "range": [
            1,
            10
           ],
           "values": [
            9,
            7,
            3,
            4,
            1,
            7,
            6,
            4,
            2,
            3,
            10,
            10,
            10,
            9,
            8,
            8,
            8,
            8,
            6,
            9,
            5,
            9,
            9,
            9,
            7,
            9,
            10,
            9,
            7,
            9,
            8,
            9,
            10,
            10,
            10,
            8,
            10,
            6,
            9,
            7,
            5,
            9,
            9,
            10,
            10,
            10,
            8,
            10,
            9,
            1,
            7,
            9,
            10,
            8,
            9,
            10,
            10,
            3,
            10,
            10,
            10,
            10,
            10,
            2,
            10,
            10,
            10,
            10,
            9,
            10,
            9,
            9,
            10,
            10,
            10,
            10,
            10,
            10,
            9,
            10,
            10,
            10,
            10,
            10,
            4,
            9,
            10,
            10,
            9,
            8,
            10,
            10,
            10,
            9,
            10,
            10,
            10,
            10,
            9,
            10
           ]
          },
          {
           "label": "min_samples_leaf",
           "range": [
            1,
            20
           ],
           "values": [
            20,
            19,
            2,
            17,
            13,
            17,
            8,
            3,
            13,
            13,
            8,
            7,
            7,
            6,
            5,
            4,
            4,
            1,
            10,
            1,
            1,
            1,
            1,
            1,
            3,
            3,
            5,
            1,
            2,
            10,
            5,
            1,
            2,
            3,
            2,
            4,
            20,
            2,
            15,
            2,
            6,
            1,
            2,
            2,
            3,
            4,
            2,
            12,
            6,
            4,
            8,
            2,
            3,
            17,
            1,
            2,
            5,
            3,
            2,
            2,
            15,
            2,
            3,
            4,
            2,
            5,
            1,
            3,
            2,
            4,
            1,
            1,
            2,
            3,
            2,
            2,
            4,
            3,
            6,
            2,
            2,
            2,
            3,
            1,
            1,
            1,
            4,
            11,
            2,
            9,
            3,
            2,
            1,
            1,
            1,
            2,
            1,
            1,
            1,
            1
           ]
          },
          {
           "label": "min_samples_split",
           "range": [
            2,
            20
           ],
           "values": [
            14,
            2,
            17,
            4,
            9,
            6,
            19,
            15,
            6,
            2,
            20,
            20,
            20,
            12,
            11,
            11,
            12,
            9,
            9,
            8,
            8,
            7,
            7,
            6,
            5,
            4,
            7,
            4,
            4,
            3,
            7,
            6,
            5,
            3,
            5,
            2,
            10,
            5,
            7,
            15,
            3,
            6,
            5,
            5,
            4,
            5,
            2,
            3,
            4,
            17,
            6,
            8,
            5,
            6,
            4,
            2,
            2,
            3,
            4,
            3,
            2,
            4,
            3,
            4,
            3,
            4,
            13,
            2,
            3,
            4,
            5,
            4,
            3,
            2,
            3,
            3,
            3,
            5,
            6,
            3,
            3,
            3,
            3,
            2,
            2,
            3,
            2,
            2,
            3,
            4,
            2,
            3,
            3,
            3,
            3,
            2,
            2,
            2,
            2,
            2
           ]
          },
          {
           "label": "n_estimators",
           "range": [
            10,
            100
           ],
           "values": [
            51,
            18,
            19,
            41,
            26,
            88,
            88,
            13,
            10,
            70,
            99,
            100,
            100,
            76,
            70,
            71,
            67,
            60,
            54,
            40,
            36,
            44,
            42,
            41,
            48,
            31,
            46,
            59,
            61,
            57,
            51,
            34,
            42,
            29,
            23,
            46,
            40,
            63,
            52,
            24,
            36,
            44,
            44,
            49,
            49,
            56,
            79,
            64,
            17,
            58,
            53,
            44,
            37,
            49,
            44,
            31,
            28,
            33,
            39,
            38,
            20,
            38,
            38,
            32,
            27,
            39,
            34,
            31,
            48,
            36,
            41,
            42,
            55,
            56,
            59,
            54,
            66,
            53,
            61,
            50,
            50,
            55,
            50,
            54,
            54,
            59,
            55,
            63,
            47,
            52,
            69,
            51,
            51,
            57,
            46,
            52,
            51,
            51,
            52,
            51
           ]
          }
         ],
         "labelangle": 30,
         "labelside": "bottom",
         "line": {
          "color": [
           0.5300976622195182,
           0.5257531924144482,
           0.4321695657670035,
           0.4782202731995359,
           0.19229173276925685,
           0.5345532549669039,
           0.5470865798820664,
           0.48735582947985334,
           0.3611712751972053,
           0.4264090460123483,
           0.5711328199798129,
           0.5744818884301255,
           0.5744818884301255,
           0.5866574133558201,
           0.5834708122244269,
           0.5858733580683999,
           0.5853283240690011,
           0.5919594587788979,
           0.5427026999159791,
           0.5999304866159971,
           0.5335613818196155,
           0.6022586893843489,
           0.601219533973122,
           0.6004138653368595,
           0.5801557802715877,
           0.5963895872882687,
           0.5925529800050658,
           0.6041770452662885,
           0.5801683259300016,
           0.5642793427910318,
           0.583880357880999,
           0.6001238323072756,
           0.606528903824947,
           0.5971511419787909,
           0.5961041108395788,
           0.5884586781889405,
           0.5304875040020358,
           0.5602690190632844,
           0.5405585923580749,
           0.5690955714205753,
           0.5301943517915069,
           0.602361833046627,
           0.6025595416637997,
           0.6071398105230458,
           0.6009845976357966,
           0.5999498849484591,
           0.5953879105356517,
           0.5537173136066451,
           0.5776599010129916,
           0.19164791021980465,
           0.5656326266251953,
           0.5995294752285824,
           0.5997754749644271,
           0.5343749672865687,
           0.6039495816063546,
           0.6047920696227086,
           0.5891245962596131,
           0.434169863898146,
           0.6078093232648369,
           0.6069896854806528,
           0.5372172939656897,
           0.6069896854806528,
           0.5997681127752023,
           0.3639081220860204,
           0.6010517374942754,
           0.592824661485791,
           0.5953242415036506,
           0.5980129507394023,
           0.6020916860653722,
           0.5984393538802022,
           0.6005178407832864,
           0.6026576988482232,
           0.6082388369910608,
           0.6020355400741847,
           0.6084025752626854,
           0.6085277862148526,
           0.5998270233388407,
           0.6031104393652345,
           0.5885412972591116,
           0.6086921239084002,
           0.6086921239084002,
           0.6082388369910608,
           0.6016196144828866,
           0.610113678805981,
           0.4937128114826194,
           0.6047580712139929,
           0.599744255039263,
           0.5592449471817006,
           0.6029080010377029,
           0.5655298485282036,
           0.6034720932638529,
           0.6086194577032108,
           0.6092962906358907,
           0.6053672343068919,
           0.6073793356129791,
           0.6086791480766118,
           0.609261995295596,
           0.609261995295596,
           0.60464343540939,
           0.609261995295596
          ],
          "colorbar": {
           "title": {
            "text": "Objective Value"
           }
          },
          "colorscale": [
           [
            0,
            "rgb(247,251,255)"
           ],
           [
            0.125,
            "rgb(222,235,247)"
           ],
           [
            0.25,
            "rgb(198,219,239)"
           ],
           [
            0.375,
            "rgb(158,202,225)"
           ],
           [
            0.5,
            "rgb(107,174,214)"
           ],
           [
            0.625,
            "rgb(66,146,198)"
           ],
           [
            0.75,
            "rgb(33,113,181)"
           ],
           [
            0.875,
            "rgb(8,81,156)"
           ],
           [
            1,
            "rgb(8,48,107)"
           ]
          ],
          "reversescale": false,
          "showscale": true
         },
         "type": "parcoords"
        }
       ],
       "layout": {
        "template": {
         "data": {
          "bar": [
           {
            "error_x": {
             "color": "#2a3f5f"
            },
            "error_y": {
             "color": "#2a3f5f"
            },
            "marker": {
             "line": {
              "color": "#E5ECF6",
              "width": 0.5
             },
             "pattern": {
              "fillmode": "overlay",
              "size": 10,
              "solidity": 0.2
             }
            },
            "type": "bar"
           }
          ],
          "barpolar": [
           {
            "marker": {
             "line": {
              "color": "#E5ECF6",
              "width": 0.5
             },
             "pattern": {
              "fillmode": "overlay",
              "size": 10,
              "solidity": 0.2
             }
            },
            "type": "barpolar"
           }
          ],
          "carpet": [
           {
            "aaxis": {
             "endlinecolor": "#2a3f5f",
             "gridcolor": "white",
             "linecolor": "white",
             "minorgridcolor": "white",
             "startlinecolor": "#2a3f5f"
            },
            "baxis": {
             "endlinecolor": "#2a3f5f",
             "gridcolor": "white",
             "linecolor": "white",
             "minorgridcolor": "white",
             "startlinecolor": "#2a3f5f"
            },
            "type": "carpet"
           }
          ],
          "choropleth": [
           {
            "colorbar": {
             "outlinewidth": 0,
             "ticks": ""
            },
            "type": "choropleth"
           }
          ],
          "contour": [
           {
            "colorbar": {
             "outlinewidth": 0,
             "ticks": ""
            },
            "colorscale": [
             [
              0,
              "#0d0887"
             ],
             [
              0.1111111111111111,
              "#46039f"
             ],
             [
              0.2222222222222222,
              "#7201a8"
             ],
             [
              0.3333333333333333,
              "#9c179e"
             ],
             [
              0.4444444444444444,
              "#bd3786"
             ],
             [
              0.5555555555555556,
              "#d8576b"
             ],
             [
              0.6666666666666666,
              "#ed7953"
             ],
             [
              0.7777777777777778,
              "#fb9f3a"
             ],
             [
              0.8888888888888888,
              "#fdca26"
             ],
             [
              1,
              "#f0f921"
             ]
            ],
            "type": "contour"
           }
          ],
          "contourcarpet": [
           {
            "colorbar": {
             "outlinewidth": 0,
             "ticks": ""
            },
            "type": "contourcarpet"
           }
          ],
          "heatmap": [
           {
            "colorbar": {
             "outlinewidth": 0,
             "ticks": ""
            },
            "colorscale": [
             [
              0,
              "#0d0887"
             ],
             [
              0.1111111111111111,
              "#46039f"
             ],
             [
              0.2222222222222222,
              "#7201a8"
             ],
             [
              0.3333333333333333,
              "#9c179e"
             ],
             [
              0.4444444444444444,
              "#bd3786"
             ],
             [
              0.5555555555555556,
              "#d8576b"
             ],
             [
              0.6666666666666666,
              "#ed7953"
             ],
             [
              0.7777777777777778,
              "#fb9f3a"
             ],
             [
              0.8888888888888888,
              "#fdca26"
             ],
             [
              1,
              "#f0f921"
             ]
            ],
            "type": "heatmap"
           }
          ],
          "heatmapgl": [
           {
            "colorbar": {
             "outlinewidth": 0,
             "ticks": ""
            },
            "colorscale": [
             [
              0,
              "#0d0887"
             ],
             [
              0.1111111111111111,
              "#46039f"
             ],
             [
              0.2222222222222222,
              "#7201a8"
             ],
             [
              0.3333333333333333,
              "#9c179e"
             ],
             [
              0.4444444444444444,
              "#bd3786"
             ],
             [
              0.5555555555555556,
              "#d8576b"
             ],
             [
              0.6666666666666666,
              "#ed7953"
             ],
             [
              0.7777777777777778,
              "#fb9f3a"
             ],
             [
              0.8888888888888888,
              "#fdca26"
             ],
             [
              1,
              "#f0f921"
             ]
            ],
            "type": "heatmapgl"
           }
          ],
          "histogram": [
           {
            "marker": {
             "pattern": {
              "fillmode": "overlay",
              "size": 10,
              "solidity": 0.2
             }
            },
            "type": "histogram"
           }
          ],
          "histogram2d": [
           {
            "colorbar": {
             "outlinewidth": 0,
             "ticks": ""
            },
            "colorscale": [
             [
              0,
              "#0d0887"
             ],
             [
              0.1111111111111111,
              "#46039f"
             ],
             [
              0.2222222222222222,
              "#7201a8"
             ],
             [
              0.3333333333333333,
              "#9c179e"
             ],
             [
              0.4444444444444444,
              "#bd3786"
             ],
             [
              0.5555555555555556,
              "#d8576b"
             ],
             [
              0.6666666666666666,
              "#ed7953"
             ],
             [
              0.7777777777777778,
              "#fb9f3a"
             ],
             [
              0.8888888888888888,
              "#fdca26"
             ],
             [
              1,
              "#f0f921"
             ]
            ],
            "type": "histogram2d"
           }
          ],
          "histogram2dcontour": [
           {
            "colorbar": {
             "outlinewidth": 0,
             "ticks": ""
            },
            "colorscale": [
             [
              0,
              "#0d0887"
             ],
             [
              0.1111111111111111,
              "#46039f"
             ],
             [
              0.2222222222222222,
              "#7201a8"
             ],
             [
              0.3333333333333333,
              "#9c179e"
             ],
             [
              0.4444444444444444,
              "#bd3786"
             ],
             [
              0.5555555555555556,
              "#d8576b"
             ],
             [
              0.6666666666666666,
              "#ed7953"
             ],
             [
              0.7777777777777778,
              "#fb9f3a"
             ],
             [
              0.8888888888888888,
              "#fdca26"
             ],
             [
              1,
              "#f0f921"
             ]
            ],
            "type": "histogram2dcontour"
           }
          ],
          "mesh3d": [
           {
            "colorbar": {
             "outlinewidth": 0,
             "ticks": ""
            },
            "type": "mesh3d"
           }
          ],
          "parcoords": [
           {
            "line": {
             "colorbar": {
              "outlinewidth": 0,
              "ticks": ""
             }
            },
            "type": "parcoords"
           }
          ],
          "pie": [
           {
            "automargin": true,
            "type": "pie"
           }
          ],
          "scatter": [
           {
            "marker": {
             "colorbar": {
              "outlinewidth": 0,
              "ticks": ""
             }
            },
            "type": "scatter"
           }
          ],
          "scatter3d": [
           {
            "line": {
             "colorbar": {
              "outlinewidth": 0,
              "ticks": ""
             }
            },
            "marker": {
             "colorbar": {
              "outlinewidth": 0,
              "ticks": ""
             }
            },
            "type": "scatter3d"
           }
          ],
          "scattercarpet": [
           {
            "marker": {
             "colorbar": {
              "outlinewidth": 0,
              "ticks": ""
             }
            },
            "type": "scattercarpet"
           }
          ],
          "scattergeo": [
           {
            "marker": {
             "colorbar": {
              "outlinewidth": 0,
              "ticks": ""
             }
            },
            "type": "scattergeo"
           }
          ],
          "scattergl": [
           {
            "marker": {
             "colorbar": {
              "outlinewidth": 0,
              "ticks": ""
             }
            },
            "type": "scattergl"
           }
          ],
          "scattermapbox": [
           {
            "marker": {
             "colorbar": {
              "outlinewidth": 0,
              "ticks": ""
             }
            },
            "type": "scattermapbox"
           }
          ],
          "scatterpolar": [
           {
            "marker": {
             "colorbar": {
              "outlinewidth": 0,
              "ticks": ""
             }
            },
            "type": "scatterpolar"
           }
          ],
          "scatterpolargl": [
           {
            "marker": {
             "colorbar": {
              "outlinewidth": 0,
              "ticks": ""
             }
            },
            "type": "scatterpolargl"
           }
          ],
          "scatterternary": [
           {
            "marker": {
             "colorbar": {
              "outlinewidth": 0,
              "ticks": ""
             }
            },
            "type": "scatterternary"
           }
          ],
          "surface": [
           {
            "colorbar": {
             "outlinewidth": 0,
             "ticks": ""
            },
            "colorscale": [
             [
              0,
              "#0d0887"
             ],
             [
              0.1111111111111111,
              "#46039f"
             ],
             [
              0.2222222222222222,
              "#7201a8"
             ],
             [
              0.3333333333333333,
              "#9c179e"
             ],
             [
              0.4444444444444444,
              "#bd3786"
             ],
             [
              0.5555555555555556,
              "#d8576b"
             ],
             [
              0.6666666666666666,
              "#ed7953"
             ],
             [
              0.7777777777777778,
              "#fb9f3a"
             ],
             [
              0.8888888888888888,
              "#fdca26"
             ],
             [
              1,
              "#f0f921"
             ]
            ],
            "type": "surface"
           }
          ],
          "table": [
           {
            "cells": {
             "fill": {
              "color": "#EBF0F8"
             },
             "line": {
              "color": "white"
             }
            },
            "header": {
             "fill": {
              "color": "#C8D4E3"
             },
             "line": {
              "color": "white"
             }
            },
            "type": "table"
           }
          ]
         },
         "layout": {
          "annotationdefaults": {
           "arrowcolor": "#2a3f5f",
           "arrowhead": 0,
           "arrowwidth": 1
          },
          "autotypenumbers": "strict",
          "coloraxis": {
           "colorbar": {
            "outlinewidth": 0,
            "ticks": ""
           }
          },
          "colorscale": {
           "diverging": [
            [
             0,
             "#8e0152"
            ],
            [
             0.1,
             "#c51b7d"
            ],
            [
             0.2,
             "#de77ae"
            ],
            [
             0.3,
             "#f1b6da"
            ],
            [
             0.4,
             "#fde0ef"
            ],
            [
             0.5,
             "#f7f7f7"
            ],
            [
             0.6,
             "#e6f5d0"
            ],
            [
             0.7,
             "#b8e186"
            ],
            [
             0.8,
             "#7fbc41"
            ],
            [
             0.9,
             "#4d9221"
            ],
            [
             1,
             "#276419"
            ]
           ],
           "sequential": [
            [
             0,
             "#0d0887"
            ],
            [
             0.1111111111111111,
             "#46039f"
            ],
            [
             0.2222222222222222,
             "#7201a8"
            ],
            [
             0.3333333333333333,
             "#9c179e"
            ],
            [
             0.4444444444444444,
             "#bd3786"
            ],
            [
             0.5555555555555556,
             "#d8576b"
            ],
            [
             0.6666666666666666,
             "#ed7953"
            ],
            [
             0.7777777777777778,
             "#fb9f3a"
            ],
            [
             0.8888888888888888,
             "#fdca26"
            ],
            [
             1,
             "#f0f921"
            ]
           ],
           "sequentialminus": [
            [
             0,
             "#0d0887"
            ],
            [
             0.1111111111111111,
             "#46039f"
            ],
            [
             0.2222222222222222,
             "#7201a8"
            ],
            [
             0.3333333333333333,
             "#9c179e"
            ],
            [
             0.4444444444444444,
             "#bd3786"
            ],
            [
             0.5555555555555556,
             "#d8576b"
            ],
            [
             0.6666666666666666,
             "#ed7953"
            ],
            [
             0.7777777777777778,
             "#fb9f3a"
            ],
            [
             0.8888888888888888,
             "#fdca26"
            ],
            [
             1,
             "#f0f921"
            ]
           ]
          },
          "colorway": [
           "#636efa",
           "#EF553B",
           "#00cc96",
           "#ab63fa",
           "#FFA15A",
           "#19d3f3",
           "#FF6692",
           "#B6E880",
           "#FF97FF",
           "#FECB52"
          ],
          "font": {
           "color": "#2a3f5f"
          },
          "geo": {
           "bgcolor": "white",
           "lakecolor": "white",
           "landcolor": "#E5ECF6",
           "showlakes": true,
           "showland": true,
           "subunitcolor": "white"
          },
          "hoverlabel": {
           "align": "left"
          },
          "hovermode": "closest",
          "mapbox": {
           "style": "light"
          },
          "paper_bgcolor": "white",
          "plot_bgcolor": "#E5ECF6",
          "polar": {
           "angularaxis": {
            "gridcolor": "white",
            "linecolor": "white",
            "ticks": ""
           },
           "bgcolor": "#E5ECF6",
           "radialaxis": {
            "gridcolor": "white",
            "linecolor": "white",
            "ticks": ""
           }
          },
          "scene": {
           "xaxis": {
            "backgroundcolor": "#E5ECF6",
            "gridcolor": "white",
            "gridwidth": 2,
            "linecolor": "white",
            "showbackground": true,
            "ticks": "",
            "zerolinecolor": "white"
           },
           "yaxis": {
            "backgroundcolor": "#E5ECF6",
            "gridcolor": "white",
            "gridwidth": 2,
            "linecolor": "white",
            "showbackground": true,
            "ticks": "",
            "zerolinecolor": "white"
           },
           "zaxis": {
            "backgroundcolor": "#E5ECF6",
            "gridcolor": "white",
            "gridwidth": 2,
            "linecolor": "white",
            "showbackground": true,
            "ticks": "",
            "zerolinecolor": "white"
           }
          },
          "shapedefaults": {
           "line": {
            "color": "#2a3f5f"
           }
          },
          "ternary": {
           "aaxis": {
            "gridcolor": "white",
            "linecolor": "white",
            "ticks": ""
           },
           "baxis": {
            "gridcolor": "white",
            "linecolor": "white",
            "ticks": ""
           },
           "bgcolor": "#E5ECF6",
           "caxis": {
            "gridcolor": "white",
            "linecolor": "white",
            "ticks": ""
           }
          },
          "title": {
           "x": 0.05
          },
          "xaxis": {
           "automargin": true,
           "gridcolor": "white",
           "linecolor": "white",
           "ticks": "",
           "title": {
            "standoff": 15
           },
           "zerolinecolor": "white",
           "zerolinewidth": 2
          },
          "yaxis": {
           "automargin": true,
           "gridcolor": "white",
           "linecolor": "white",
           "ticks": "",
           "title": {
            "standoff": 15
           },
           "zerolinecolor": "white",
           "zerolinewidth": 2
          }
         }
        },
        "title": {
         "text": "Parallel Coordinate Plot"
        }
       }
      }
     },
     "metadata": {},
     "output_type": "display_data"
    }
   ],
   "source": [
    "optuna.visualization.plot_parallel_coordinate(study)"
   ]
  },
  {
   "cell_type": "code",
   "execution_count": 28,
   "id": "75db1ddf",
   "metadata": {},
   "outputs": [
    {
     "name": "stdout",
     "output_type": "stream",
     "text": [
      "Best trial: {'n_estimators': 54, 'max_depth': 10, 'min_samples_leaf': 1, 'min_samples_split': 2}\n"
     ]
    }
   ],
   "source": [
    "print(\"Best trial:\", study.best_trial.params)"
   ]
  },
  {
   "cell_type": "code",
   "execution_count": 29,
   "id": "574699dc",
   "metadata": {},
   "outputs": [
    {
     "data": {
      "text/plain": [
       "54"
      ]
     },
     "execution_count": 29,
     "metadata": {},
     "output_type": "execute_result"
    }
   ],
   "source": [
    "study.best_trial.params[\"n_estimators\"]"
   ]
  },
  {
   "cell_type": "code",
   "execution_count": 30,
   "id": "862eadd2",
   "metadata": {},
   "outputs": [
    {
     "data": {
      "text/html": [
       "<style>#sk-container-id-1 {color: black;}#sk-container-id-1 pre{padding: 0;}#sk-container-id-1 div.sk-toggleable {background-color: white;}#sk-container-id-1 label.sk-toggleable__label {cursor: pointer;display: block;width: 100%;margin-bottom: 0;padding: 0.3em;box-sizing: border-box;text-align: center;}#sk-container-id-1 label.sk-toggleable__label-arrow:before {content: \"▸\";float: left;margin-right: 0.25em;color: #696969;}#sk-container-id-1 label.sk-toggleable__label-arrow:hover:before {color: black;}#sk-container-id-1 div.sk-estimator:hover label.sk-toggleable__label-arrow:before {color: black;}#sk-container-id-1 div.sk-toggleable__content {max-height: 0;max-width: 0;overflow: hidden;text-align: left;background-color: #f0f8ff;}#sk-container-id-1 div.sk-toggleable__content pre {margin: 0.2em;color: black;border-radius: 0.25em;background-color: #f0f8ff;}#sk-container-id-1 input.sk-toggleable__control:checked~div.sk-toggleable__content {max-height: 200px;max-width: 100%;overflow: auto;}#sk-container-id-1 input.sk-toggleable__control:checked~label.sk-toggleable__label-arrow:before {content: \"▾\";}#sk-container-id-1 div.sk-estimator input.sk-toggleable__control:checked~label.sk-toggleable__label {background-color: #d4ebff;}#sk-container-id-1 div.sk-label input.sk-toggleable__control:checked~label.sk-toggleable__label {background-color: #d4ebff;}#sk-container-id-1 input.sk-hidden--visually {border: 0;clip: rect(1px 1px 1px 1px);clip: rect(1px, 1px, 1px, 1px);height: 1px;margin: -1px;overflow: hidden;padding: 0;position: absolute;width: 1px;}#sk-container-id-1 div.sk-estimator {font-family: monospace;background-color: #f0f8ff;border: 1px dotted black;border-radius: 0.25em;box-sizing: border-box;margin-bottom: 0.5em;}#sk-container-id-1 div.sk-estimator:hover {background-color: #d4ebff;}#sk-container-id-1 div.sk-parallel-item::after {content: \"\";width: 100%;border-bottom: 1px solid gray;flex-grow: 1;}#sk-container-id-1 div.sk-label:hover label.sk-toggleable__label {background-color: #d4ebff;}#sk-container-id-1 div.sk-serial::before {content: \"\";position: absolute;border-left: 1px solid gray;box-sizing: border-box;top: 0;bottom: 0;left: 50%;z-index: 0;}#sk-container-id-1 div.sk-serial {display: flex;flex-direction: column;align-items: center;background-color: white;padding-right: 0.2em;padding-left: 0.2em;position: relative;}#sk-container-id-1 div.sk-item {position: relative;z-index: 1;}#sk-container-id-1 div.sk-parallel {display: flex;align-items: stretch;justify-content: center;background-color: white;position: relative;}#sk-container-id-1 div.sk-item::before, #sk-container-id-1 div.sk-parallel-item::before {content: \"\";position: absolute;border-left: 1px solid gray;box-sizing: border-box;top: 0;bottom: 0;left: 50%;z-index: -1;}#sk-container-id-1 div.sk-parallel-item {display: flex;flex-direction: column;z-index: 1;position: relative;background-color: white;}#sk-container-id-1 div.sk-parallel-item:first-child::after {align-self: flex-end;width: 50%;}#sk-container-id-1 div.sk-parallel-item:last-child::after {align-self: flex-start;width: 50%;}#sk-container-id-1 div.sk-parallel-item:only-child::after {width: 0;}#sk-container-id-1 div.sk-dashed-wrapped {border: 1px dashed gray;margin: 0 0.4em 0.5em 0.4em;box-sizing: border-box;padding-bottom: 0.4em;background-color: white;}#sk-container-id-1 div.sk-label label {font-family: monospace;font-weight: bold;display: inline-block;line-height: 1.2em;}#sk-container-id-1 div.sk-label-container {text-align: center;}#sk-container-id-1 div.sk-container {/* jupyter's `normalize.less` sets `[hidden] { display: none; }` but bootstrap.min.css set `[hidden] { display: none !important; }` so we also need the `!important` here to be able to override the default hidden behavior on the sphinx rendered scikit-learn.org. See: https://github.com/scikit-learn/scikit-learn/issues/21755 */display: inline-block !important;position: relative;}#sk-container-id-1 div.sk-text-repr-fallback {display: none;}</style><div id=\"sk-container-id-1\" class=\"sk-top-container\"><div class=\"sk-text-repr-fallback\"><pre>RandomForestRegressor(max_depth=10, n_estimators=54, random_state=42)</pre><b>In a Jupyter environment, please rerun this cell to show the HTML representation or trust the notebook. <br />On GitHub, the HTML representation is unable to render, please try loading this page with nbviewer.org.</b></div><div class=\"sk-container\" hidden><div class=\"sk-item\"><div class=\"sk-estimator sk-toggleable\"><input class=\"sk-toggleable__control sk-hidden--visually\" id=\"sk-estimator-id-1\" type=\"checkbox\" checked><label for=\"sk-estimator-id-1\" class=\"sk-toggleable__label sk-toggleable__label-arrow\">RandomForestRegressor</label><div class=\"sk-toggleable__content\"><pre>RandomForestRegressor(max_depth=10, n_estimators=54, random_state=42)</pre></div></div></div></div></div>"
      ],
      "text/plain": [
       "RandomForestRegressor(max_depth=10, n_estimators=54, random_state=42)"
      ]
     },
     "execution_count": 30,
     "metadata": {},
     "output_type": "execute_result"
    }
   ],
   "source": [
    "rf_params = {\n",
    "    \"random_state\": 42,\n",
    "    #\"learning_rate\": 0.1,\n",
    "    \"n_estimators\": study.best_trial.params[\"n_estimators\"],\n",
    "    \"max_depth\": study.best_trial.params[\"max_depth\"],\n",
    "    \"min_samples_leaf\": study.best_trial.params[\"min_samples_leaf\"],\n",
    "    \"min_samples_split\": study.best_trial.params[\"min_samples_split\"],\n",
    "    #\"subsample\": study.best_trial.params[\"subsample\"]\n",
    "}\n",
    "\n",
    "rf = RandomForestRegressor(**rf_params)\n",
    "rf.fit(As_X_train, As_y_train)"
   ]
  },
  {
   "cell_type": "code",
   "execution_count": 31,
   "id": "8577fb37",
   "metadata": {},
   "outputs": [],
   "source": [
    "y_train_pred = rf.predict(As_X_train)\n",
    "y_test_pred = rf.predict(As_X_test)"
   ]
  },
  {
   "cell_type": "code",
   "execution_count": 32,
   "id": "2ea0526a",
   "metadata": {},
   "outputs": [],
   "source": [
    "# plt.scatter(y_train_pred, np.array(As_y_train))"
   ]
  },
  {
   "cell_type": "code",
   "execution_count": 33,
   "id": "d2a4dd85",
   "metadata": {},
   "outputs": [
    {
     "name": "stdout",
     "output_type": "stream",
     "text": [
      "Train RMSE:  0.2509660844452168\n",
      "Test RMSE:  0.6495527431210343\n"
     ]
    }
   ],
   "source": [
    "print(\"Train RMSE: \", np.sqrt(mean_squared_error(As_y_train, y_train_pred)))\n",
    "print(\"Test RMSE: \", np.sqrt(mean_squared_error(As_y_test, y_test_pred)))"
   ]
  },
  {
   "cell_type": "code",
   "execution_count": 34,
   "id": "08fe787a",
   "metadata": {},
   "outputs": [
    {
     "name": "stdout",
     "output_type": "stream",
     "text": [
      "Train R2:  0.8937844432398644\n",
      "Test R2:  0.22599994984720972\n"
     ]
    }
   ],
   "source": [
    "print(\"Train R2: \", r2_score(As_y_train, y_train_pred))\n",
    "print(\"Test R2: \", r2_score(As_y_test, y_test_pred))"
   ]
  },
  {
   "cell_type": "code",
   "execution_count": 35,
   "id": "5ec4820c",
   "metadata": {},
   "outputs": [
    {
     "data": {
      "image/png": "[encoded data removed]",
      "text/plain": [
       "<Figure size 640x480 with 1 Axes>"
      ]
     },
     "metadata": {},
     "output_type": "display_data"
    }
   ],
   "source": [
    "plt.scatter(y_train_pred, np.array(As_y_train), color=\"orange\", alpha=0.3)\n",
    "plt.scatter(y_test_pred, np.array(As_y_test), color=\"green\", alpha=0.4)\n",
    "plt.axis(\"auto\") # scaled, tight, auto, image, square\n",
    "# plt.xlim([0, 1.5]) \n",
    "# plt.ylim(0, None) \n",
    "plt.xlabel('Predicted Values')\n",
    "plt.ylabel('Actual Values')\n",
    "\n",
    "# Add y=x line\n",
    "plt.plot([0, 1.8], [0, 1.8], color='red', linestyle='-')\n",
    "\n",
    "plt.show()"
   ]
  },
  {
   "attachments": {},
   "cell_type": "markdown",
   "id": "e0507d63",
   "metadata": {},
   "source": [
    "Cd"
   ]
  },
  {
   "attachments": {},
   "cell_type": "markdown",
   "id": "f8f809d9",
   "metadata": {},
   "source": [
    "Optimization"
   ]
  },
  {
   "cell_type": "code",
   "execution_count": 36,
   "id": "b7aeaf0a",
   "metadata": {},
   "outputs": [
    {
     "name": "stderr",
     "output_type": "stream",
     "text": [
      "\u001b[32m[I 2023-08-24 13:10:00,669]\u001b[0m A new study created in memory with name: rf_parameter_opt\u001b[0m\n",
      "\u001b[32m[I 2023-08-24 13:10:02,070]\u001b[0m Trial 0 finished with value: 0.5706662486494619 and parameters: {'n_estimators': 41, 'max_depth': 6, 'min_samples_leaf': 17, 'min_samples_split': 6}. Best is trial 0 with value: 0.5706662486494619.\u001b[0m\n",
      "\u001b[32m[I 2023-08-24 13:10:03,186]\u001b[0m Trial 1 finished with value: 0.5984581032798005 and parameters: {'n_estimators': 29, 'max_depth': 8, 'min_samples_leaf': 14, 'min_samples_split': 6}. Best is trial 1 with value: 0.5984581032798005.\u001b[0m\n",
      "\u001b[32m[I 2023-08-24 13:10:04,821]\u001b[0m Trial 2 finished with value: 0.5873658173490496 and parameters: {'n_estimators': 44, 'max_depth': 6, 'min_samples_leaf': 9, 'min_samples_split': 10}. Best is trial 1 with value: 0.5984581032798005.\u001b[0m\n",
      "\u001b[32m[I 2023-08-24 13:10:07,925]\u001b[0m Trial 3 finished with value: 0.5591408355524876 and parameters: {'n_estimators': 96, 'max_depth': 5, 'min_samples_leaf': 14, 'min_samples_split': 19}. Best is trial 1 with value: 0.5984581032798005.\u001b[0m\n",
      "\u001b[32m[I 2023-08-24 13:10:09,320]\u001b[0m Trial 4 finished with value: 0.5351512217280509 and parameters: {'n_estimators': 48, 'max_depth': 4, 'min_samples_leaf': 5, 'min_samples_split': 17}. Best is trial 1 with value: 0.5984581032798005.\u001b[0m\n",
      "\u001b[32m[I 2023-08-24 13:10:12,768]\u001b[0m Trial 5 finished with value: 0.5968403375666911 and parameters: {'n_estimators': 90, 'max_depth': 9, 'min_samples_leaf': 14, 'min_samples_split': 17}. Best is trial 1 with value: 0.5984581032798005.\u001b[0m\n",
      "\u001b[32m[I 2023-08-24 13:10:12,915]\u001b[0m Trial 6 finished with value: 0.24479332738555232 and parameters: {'n_estimators': 11, 'max_depth': 1, 'min_samples_leaf': 18, 'min_samples_split': 10}. Best is trial 1 with value: 0.5984581032798005.\u001b[0m\n",
      "\u001b[32m[I 2023-08-24 13:10:14,397]\u001b[0m Trial 7 finished with value: 0.5279204909057701 and parameters: {'n_estimators': 52, 'max_depth': 4, 'min_samples_leaf': 9, 'min_samples_split': 12}. Best is trial 1 with value: 0.5984581032798005.\u001b[0m\n",
      "\u001b[32m[I 2023-08-24 13:10:17,459]\u001b[0m Trial 8 finished with value: 0.5782745072257349 and parameters: {'n_estimators': 90, 'max_depth': 5, 'min_samples_leaf': 5, 'min_samples_split': 6}. Best is trial 1 with value: 0.5984581032798005.\u001b[0m\n",
      "\u001b[32m[I 2023-08-24 13:10:18,498]\u001b[0m Trial 9 finished with value: 0.6114113115439743 and parameters: {'n_estimators': 24, 'max_depth': 9, 'min_samples_leaf': 10, 'min_samples_split': 6}. Best is trial 9 with value: 0.6114113115439743.\u001b[0m\n",
      "\u001b[32m[I 2023-08-24 13:10:23,077]\u001b[0m Trial 10 finished with value: 0.6503007465384476 and parameters: {'n_estimators': 69, 'max_depth': 10, 'min_samples_leaf': 1, 'min_samples_split': 2}. Best is trial 10 with value: 0.6503007465384476.\u001b[0m\n",
      "\u001b[32m[I 2023-08-24 13:10:27,777]\u001b[0m Trial 11 finished with value: 0.6507971322776273 and parameters: {'n_estimators': 72, 'max_depth': 10, 'min_samples_leaf': 1, 'min_samples_split': 3}. Best is trial 11 with value: 0.6507971322776273.\u001b[0m\n",
      "\u001b[32m[I 2023-08-24 13:10:32,717]\u001b[0m Trial 12 finished with value: 0.6517657443839676 and parameters: {'n_estimators': 74, 'max_depth': 10, 'min_samples_leaf': 1, 'min_samples_split': 2}. Best is trial 12 with value: 0.6517657443839676.\u001b[0m\n",
      "\u001b[32m[I 2023-08-24 13:10:37,341]\u001b[0m Trial 13 finished with value: 0.6503007465384476 and parameters: {'n_estimators': 69, 'max_depth': 10, 'min_samples_leaf': 1, 'min_samples_split': 2}. Best is trial 12 with value: 0.6517657443839676.\u001b[0m\n",
      "\u001b[32m[I 2023-08-24 13:10:40,796]\u001b[0m Trial 14 finished with value: 0.6339172488110182 and parameters: {'n_estimators': 71, 'max_depth': 8, 'min_samples_leaf': 4, 'min_samples_split': 3}. Best is trial 12 with value: 0.6517657443839676.\u001b[0m\n",
      "\u001b[32m[I 2023-08-24 13:10:44,736]\u001b[0m Trial 15 finished with value: 0.639225891992463 and parameters: {'n_estimators': 79, 'max_depth': 8, 'min_samples_leaf': 3, 'min_samples_split': 4}. Best is trial 12 with value: 0.6517657443839676.\u001b[0m\n",
      "\u001b[32m[I 2023-08-24 13:10:47,402]\u001b[0m Trial 16 finished with value: 0.6098719161113723 and parameters: {'n_estimators': 63, 'max_depth': 7, 'min_samples_leaf': 7, 'min_samples_split': 13}. Best is trial 12 with value: 0.6517657443839676.\u001b[0m\n",
      "\u001b[32m[I 2023-08-24 13:10:48,362]\u001b[0m Trial 17 finished with value: 0.24688248238237662 and parameters: {'n_estimators': 80, 'max_depth': 1, 'min_samples_leaf': 1, 'min_samples_split': 8}. Best is trial 12 with value: 0.6517657443839676.\u001b[0m\n",
      "\u001b[32m[I 2023-08-24 13:10:51,158]\u001b[0m Trial 18 finished with value: 0.6301720869812618 and parameters: {'n_estimators': 59, 'max_depth': 10, 'min_samples_leaf': 7, 'min_samples_split': 4}. Best is trial 12 with value: 0.6517657443839676.\u001b[0m\n",
      "\u001b[32m[I 2023-08-24 13:10:55,433]\u001b[0m Trial 19 finished with value: 0.6432113142481602 and parameters: {'n_estimators': 81, 'max_depth': 9, 'min_samples_leaf': 3, 'min_samples_split': 8}. Best is trial 12 with value: 0.6517657443839676.\u001b[0m\n",
      "\u001b[32m[I 2023-08-24 13:10:57,674]\u001b[0m Trial 20 finished with value: 0.48632013205286606 and parameters: {'n_estimators': 97, 'max_depth': 3, 'min_samples_leaf': 7, 'min_samples_split': 15}. Best is trial 12 with value: 0.6517657443839676.\u001b[0m\n",
      "\u001b[32m[I 2023-08-24 13:11:02,148]\u001b[0m Trial 21 finished with value: 0.6496484497180564 and parameters: {'n_estimators': 69, 'max_depth': 10, 'min_samples_leaf': 1, 'min_samples_split': 3}. Best is trial 12 with value: 0.6517657443839676.\u001b[0m\n",
      "\u001b[32m[I 2023-08-24 13:11:06,760]\u001b[0m Trial 22 finished with value: 0.6553756393903236 and parameters: {'n_estimators': 76, 'max_depth': 10, 'min_samples_leaf': 2, 'min_samples_split': 2}. Best is trial 22 with value: 0.6553756393903236.\u001b[0m\n",
      "\u001b[32m[I 2023-08-24 13:11:10,874]\u001b[0m Trial 23 finished with value: 0.6476188626710917 and parameters: {'n_estimators': 76, 'max_depth': 9, 'min_samples_leaf': 3, 'min_samples_split': 4}. Best is trial 22 with value: 0.6553756393903236.\u001b[0m\n",
      "\u001b[32m[I 2023-08-24 13:11:14,904]\u001b[0m Trial 24 finished with value: 0.6306198848930403 and parameters: {'n_estimators': 86, 'max_depth': 8, 'min_samples_leaf': 5, 'min_samples_split': 2}. Best is trial 22 with value: 0.6553756393903236.\u001b[0m\n",
      "\u001b[32m[I 2023-08-24 13:11:17,650]\u001b[0m Trial 25 finished with value: 0.6200883603833501 and parameters: {'n_estimators': 59, 'max_depth': 7, 'min_samples_leaf': 2, 'min_samples_split': 8}. Best is trial 22 with value: 0.6553756393903236.\u001b[0m\n",
      "\u001b[32m[I 2023-08-24 13:11:20,301]\u001b[0m Trial 26 finished with value: 0.6036110427894202 and parameters: {'n_estimators': 65, 'max_depth': 10, 'min_samples_leaf': 12, 'min_samples_split': 5}. Best is trial 22 with value: 0.6553756393903236.\u001b[0m\n",
      "\u001b[32m[I 2023-08-24 13:11:23,650]\u001b[0m Trial 27 finished with value: 0.6216728161193293 and parameters: {'n_estimators': 75, 'max_depth': 7, 'min_samples_leaf': 4, 'min_samples_split': 2}. Best is trial 22 with value: 0.6553756393903236.\u001b[0m\n",
      "\u001b[32m[I 2023-08-24 13:11:26,637]\u001b[0m Trial 28 finished with value: 0.5726091114884209 and parameters: {'n_estimators': 87, 'max_depth': 9, 'min_samples_leaf': 20, 'min_samples_split': 4}. Best is trial 22 with value: 0.6553756393903236.\u001b[0m\n",
      "\u001b[32m[I 2023-08-24 13:11:29,738]\u001b[0m Trial 29 finished with value: 0.6466712386980032 and parameters: {'n_estimators': 53, 'max_depth': 10, 'min_samples_leaf': 2, 'min_samples_split': 7}. Best is trial 22 with value: 0.6553756393903236.\u001b[0m\n",
      "\u001b[32m[I 2023-08-24 13:11:31,286]\u001b[0m Trial 30 finished with value: 0.6008224269878383 and parameters: {'n_estimators': 40, 'max_depth': 6, 'min_samples_leaf': 6, 'min_samples_split': 5}. Best is trial 22 with value: 0.6553756393903236.\u001b[0m\n",
      "\u001b[32m[I 2023-08-24 13:11:35,651]\u001b[0m Trial 31 finished with value: 0.6501797550735688 and parameters: {'n_estimators': 65, 'max_depth': 10, 'min_samples_leaf': 1, 'min_samples_split': 2}. Best is trial 22 with value: 0.6553756393903236.\u001b[0m\n",
      "\u001b[32m[I 2023-08-24 13:11:39,851]\u001b[0m Trial 32 finished with value: 0.6495040855727249 and parameters: {'n_estimators': 74, 'max_depth': 9, 'min_samples_leaf': 2, 'min_samples_split': 3}. Best is trial 22 with value: 0.6553756393903236.\u001b[0m\n",
      "\u001b[32m[I 2023-08-24 13:11:43,922]\u001b[0m Trial 33 finished with value: 0.6341258353078442 and parameters: {'n_estimators': 84, 'max_depth': 8, 'min_samples_leaf': 4, 'min_samples_split': 2}. Best is trial 22 with value: 0.6553756393903236.\u001b[0m\n",
      "\u001b[32m[I 2023-08-24 13:11:47,354]\u001b[0m Trial 34 finished with value: 0.6509344670247581 and parameters: {'n_estimators': 60, 'max_depth': 10, 'min_samples_leaf': 3, 'min_samples_split': 3}. Best is trial 22 with value: 0.6553756393903236.\u001b[0m\n",
      "\u001b[32m[I 2023-08-24 13:11:49,298]\u001b[0m Trial 35 finished with value: 0.647376661487161 and parameters: {'n_estimators': 36, 'max_depth': 9, 'min_samples_leaf': 3, 'min_samples_split': 5}. Best is trial 22 with value: 0.6553756393903236.\u001b[0m\n",
      "\u001b[32m[I 2023-08-24 13:11:52,313]\u001b[0m Trial 36 finished with value: 0.6351953898553143 and parameters: {'n_estimators': 61, 'max_depth': 10, 'min_samples_leaf': 6, 'min_samples_split': 10}. Best is trial 22 with value: 0.6553756393903236.\u001b[0m\n",
      "\u001b[32m[I 2023-08-24 13:11:54,093]\u001b[0m Trial 37 finished with value: 0.5871868801252638 and parameters: {'n_estimators': 47, 'max_depth': 9, 'min_samples_leaf': 16, 'min_samples_split': 3}. Best is trial 22 with value: 0.6553756393903236.\u001b[0m\n",
      "\u001b[32m[I 2023-08-24 13:11:56,892]\u001b[0m Trial 38 finished with value: 0.6331246069011378 and parameters: {'n_estimators': 55, 'max_depth': 8, 'min_samples_leaf': 2, 'min_samples_split': 7}. Best is trial 22 with value: 0.6553756393903236.\u001b[0m\n",
      "\u001b[32m[I 2023-08-24 13:11:58,509]\u001b[0m Trial 39 finished with value: 0.37654437520984463 and parameters: {'n_estimators': 92, 'max_depth': 2, 'min_samples_leaf': 8, 'min_samples_split': 5}. Best is trial 22 with value: 0.6553756393903236.\u001b[0m\n",
      "\u001b[32m[I 2023-08-24 13:12:00,458]\u001b[0m Trial 40 finished with value: 0.5911407785151195 and parameters: {'n_estimators': 49, 'max_depth': 7, 'min_samples_leaf': 11, 'min_samples_split': 6}. Best is trial 22 with value: 0.6553756393903236.\u001b[0m\n",
      "\u001b[32m[I 2023-08-24 13:12:05,008]\u001b[0m Trial 41 finished with value: 0.6502509039512503 and parameters: {'n_estimators': 70, 'max_depth': 10, 'min_samples_leaf': 1, 'min_samples_split': 3}. Best is trial 22 with value: 0.6553756393903236.\u001b[0m\n",
      "\u001b[32m[I 2023-08-24 13:12:08,416]\u001b[0m Trial 42 finished with value: 0.628355698423253 and parameters: {'n_estimators': 66, 'max_depth': 10, 'min_samples_leaf': 2, 'min_samples_split': 19}. Best is trial 22 with value: 0.6553756393903236.\u001b[0m\n",
      "\u001b[32m[I 2023-08-24 13:12:12,235]\u001b[0m Trial 43 finished with value: 0.6415263598788412 and parameters: {'n_estimators': 74, 'max_depth': 9, 'min_samples_leaf': 4, 'min_samples_split': 2}. Best is trial 22 with value: 0.6553756393903236.\u001b[0m\n",
      "\u001b[32m[I 2023-08-24 13:12:15,571]\u001b[0m Trial 44 finished with value: 0.650718861799951 and parameters: {'n_estimators': 58, 'max_depth': 10, 'min_samples_leaf': 3, 'min_samples_split': 4}. Best is trial 22 with value: 0.6553756393903236.\u001b[0m\n",
      "\u001b[32m[I 2023-08-24 13:12:18,393]\u001b[0m Trial 45 finished with value: 0.6367040902035839 and parameters: {'n_estimators': 57, 'max_depth': 9, 'min_samples_leaf': 5, 'min_samples_split': 4}. Best is trial 22 with value: 0.6553756393903236.\u001b[0m\n",
      "\u001b[32m[I 2023-08-24 13:12:19,342]\u001b[0m Trial 46 finished with value: 0.6449323413482919 and parameters: {'n_estimators': 16, 'max_depth': 10, 'min_samples_leaf': 3, 'min_samples_split': 3}. Best is trial 22 with value: 0.6553756393903236.\u001b[0m\n",
      "\u001b[32m[I 2023-08-24 13:12:22,912]\u001b[0m Trial 47 finished with value: 0.6249693522229771 and parameters: {'n_estimators': 78, 'max_depth': 8, 'min_samples_leaf': 6, 'min_samples_split': 6}. Best is trial 22 with value: 0.6553756393903236.\u001b[0m\n",
      "\u001b[32m[I 2023-08-24 13:12:25,307]\u001b[0m Trial 48 finished with value: 0.5401863609603859 and parameters: {'n_estimators': 83, 'max_depth': 4, 'min_samples_leaf': 4, 'min_samples_split': 12}. Best is trial 22 with value: 0.6553756393903236.\u001b[0m\n",
      "\u001b[32m[I 2023-08-24 13:12:29,729]\u001b[0m Trial 49 finished with value: 0.6551187226544475 and parameters: {'n_estimators': 72, 'max_depth': 10, 'min_samples_leaf': 2, 'min_samples_split': 4}. Best is trial 22 with value: 0.6553756393903236.\u001b[0m\n",
      "\u001b[32m[I 2023-08-24 13:12:33,606]\u001b[0m Trial 50 finished with value: 0.6403691397848342 and parameters: {'n_estimators': 72, 'max_depth': 9, 'min_samples_leaf': 2, 'min_samples_split': 9}. Best is trial 22 with value: 0.6553756393903236.\u001b[0m\n",
      "\u001b[32m[I 2023-08-24 13:12:37,143]\u001b[0m Trial 51 finished with value: 0.6509798131504706 and parameters: {'n_estimators': 62, 'max_depth': 10, 'min_samples_leaf': 3, 'min_samples_split': 4}. Best is trial 22 with value: 0.6553756393903236.\u001b[0m\n",
      "\u001b[32m[I 2023-08-24 13:12:41,408]\u001b[0m Trial 52 finished with value: 0.6495092005522922 and parameters: {'n_estimators': 66, 'max_depth': 10, 'min_samples_leaf': 1, 'min_samples_split': 3}. Best is trial 22 with value: 0.6553756393903236.\u001b[0m\n",
      "\u001b[32m[I 2023-08-24 13:12:45,113]\u001b[0m Trial 53 finished with value: 0.6517569912428443 and parameters: {'n_estimators': 62, 'max_depth': 10, 'min_samples_leaf': 2, 'min_samples_split': 5}. Best is trial 22 with value: 0.6553756393903236.\u001b[0m\n",
      "\u001b[32m[I 2023-08-24 13:12:48,181]\u001b[0m Trial 54 finished with value: 0.6371982862698707 and parameters: {'n_estimators': 61, 'max_depth': 9, 'min_samples_leaf': 5, 'min_samples_split': 5}. Best is trial 22 with value: 0.6553756393903236.\u001b[0m\n",
      "\u001b[32m[I 2023-08-24 13:12:50,798]\u001b[0m Trial 55 finished with value: 0.6286447416231091 and parameters: {'n_estimators': 52, 'max_depth': 10, 'min_samples_leaf': 4, 'min_samples_split': 17}. Best is trial 22 with value: 0.6553756393903236.\u001b[0m\n",
      "\u001b[32m[I 2023-08-24 13:12:54,389]\u001b[0m Trial 56 finished with value: 0.6514507057238507 and parameters: {'n_estimators': 63, 'max_depth': 10, 'min_samples_leaf': 3, 'min_samples_split': 4}. Best is trial 22 with value: 0.6553756393903236.\u001b[0m\n",
      "\u001b[32m[I 2023-08-24 13:12:58,058]\u001b[0m Trial 57 finished with value: 0.642647702003543 and parameters: {'n_estimators': 67, 'max_depth': 9, 'min_samples_leaf': 2, 'min_samples_split': 7}. Best is trial 22 with value: 0.6553756393903236.\u001b[0m\n",
      "\u001b[32m[I 2023-08-24 13:13:00,976]\u001b[0m Trial 58 finished with value: 0.5913754657940267 and parameters: {'n_estimators': 78, 'max_depth': 8, 'min_samples_leaf': 15, 'min_samples_split': 15}. Best is trial 22 with value: 0.6553756393903236.\u001b[0m\n",
      "\u001b[32m[I 2023-08-24 13:13:05,760]\u001b[0m Trial 59 finished with value: 0.6429192044298307 and parameters: {'n_estimators': 93, 'max_depth': 10, 'min_samples_leaf': 5, 'min_samples_split': 4}. Best is trial 22 with value: 0.6553756393903236.\u001b[0m\n",
      "\u001b[32m[I 2023-08-24 13:13:07,891]\u001b[0m Trial 60 finished with value: 0.5578400916017033 and parameters: {'n_estimators': 64, 'max_depth': 5, 'min_samples_leaf': 13, 'min_samples_split': 5}. Best is trial 22 with value: 0.6553756393903236.\u001b[0m\n",
      "\u001b[32m[I 2023-08-24 13:13:11,467]\u001b[0m Trial 61 finished with value: 0.6509798131504706 and parameters: {'n_estimators': 62, 'max_depth': 10, 'min_samples_leaf': 3, 'min_samples_split': 2}. Best is trial 22 with value: 0.6553756393903236.\u001b[0m\n",
      "\u001b[32m[I 2023-08-24 13:13:16,109]\u001b[0m Trial 62 finished with value: 0.6503007465384476 and parameters: {'n_estimators': 69, 'max_depth': 10, 'min_samples_leaf': 1, 'min_samples_split': 2}. Best is trial 22 with value: 0.6553756393903236.\u001b[0m\n",
      "\u001b[32m[I 2023-08-24 13:13:19,446]\u001b[0m Trial 63 finished with value: 0.6526431990154393 and parameters: {'n_estimators': 55, 'max_depth': 10, 'min_samples_leaf': 2, 'min_samples_split': 4}. Best is trial 22 with value: 0.6553756393903236.\u001b[0m\n",
      "\u001b[32m[I 2023-08-24 13:13:23,548]\u001b[0m Trial 64 finished with value: 0.6477707136418911 and parameters: {'n_estimators': 73, 'max_depth': 9, 'min_samples_leaf': 2, 'min_samples_split': 6}. Best is trial 22 with value: 0.6553756393903236.\u001b[0m\n",
      "\u001b[32m[I 2023-08-24 13:13:26,899]\u001b[0m Trial 65 finished with value: 0.6408540007084916 and parameters: {'n_estimators': 55, 'max_depth': 9, 'min_samples_leaf': 1, 'min_samples_split': 2}. Best is trial 22 with value: 0.6553756393903236.\u001b[0m\n",
      "\u001b[32m[I 2023-08-24 13:13:29,570]\u001b[0m Trial 66 finished with value: 0.6503421944504837 and parameters: {'n_estimators': 44, 'max_depth': 10, 'min_samples_leaf': 2, 'min_samples_split': 3}. Best is trial 22 with value: 0.6553756393903236.\u001b[0m\n",
      "\u001b[32m[I 2023-08-24 13:13:32,068]\u001b[0m Trial 67 finished with value: 0.6369096106987511 and parameters: {'n_estimators': 48, 'max_depth': 9, 'min_samples_leaf': 4, 'min_samples_split': 4}. Best is trial 22 with value: 0.6553756393903236.\u001b[0m\n",
      "\u001b[32m[I 2023-08-24 13:13:35,025]\u001b[0m Trial 68 finished with value: 0.6494234102608852 and parameters: {'n_estimators': 52, 'max_depth': 10, 'min_samples_leaf': 3, 'min_samples_split': 4}. Best is trial 22 with value: 0.6553756393903236.\u001b[0m\n",
      "\u001b[32m[I 2023-08-24 13:13:38,845]\u001b[0m Trial 69 finished with value: 0.6497232829239088 and parameters: {'n_estimators': 57, 'max_depth': 10, 'min_samples_leaf': 1, 'min_samples_split': 2}. Best is trial 22 with value: 0.6553756393903236.\u001b[0m\n",
      "\u001b[32m[I 2023-08-24 13:13:42,413]\u001b[0m Trial 70 finished with value: 0.6471408955429332 and parameters: {'n_estimators': 63, 'max_depth': 9, 'min_samples_leaf': 2, 'min_samples_split': 3}. Best is trial 22 with value: 0.6553756393903236.\u001b[0m\n",
      "\u001b[32m[I 2023-08-24 13:13:45,945]\u001b[0m Trial 71 finished with value: 0.6509798131504706 and parameters: {'n_estimators': 62, 'max_depth': 10, 'min_samples_leaf': 3, 'min_samples_split': 6}. Best is trial 22 with value: 0.6553756393903236.\u001b[0m\n",
      "\u001b[32m[I 2023-08-24 13:13:49,817]\u001b[0m Trial 72 finished with value: 0.6277760081393268 and parameters: {'n_estimators': 77, 'max_depth': 10, 'min_samples_leaf': 3, 'min_samples_split': 20}. Best is trial 22 with value: 0.6553756393903236.\u001b[0m\n",
      "\u001b[32m[I 2023-08-24 13:13:54,177]\u001b[0m Trial 73 finished with value: 0.647192284838509 and parameters: {'n_estimators': 81, 'max_depth': 10, 'min_samples_leaf': 4, 'min_samples_split': 6}. Best is trial 22 with value: 0.6553756393903236.\u001b[0m\n",
      "\u001b[32m[I 2023-08-24 13:13:56,630]\u001b[0m Trial 74 finished with value: 0.5786284698605778 and parameters: {'n_estimators': 68, 'max_depth': 10, 'min_samples_leaf': 18, 'min_samples_split': 5}. Best is trial 22 with value: 0.6553756393903236.\u001b[0m\n",
      "\u001b[32m[I 2023-08-24 13:14:00,962]\u001b[0m Trial 75 finished with value: 0.655171718010837 and parameters: {'n_estimators': 71, 'max_depth': 10, 'min_samples_leaf': 2, 'min_samples_split': 4}. Best is trial 22 with value: 0.6553756393903236.\u001b[0m\n",
      "\u001b[32m[I 2023-08-24 13:14:05,060]\u001b[0m Trial 76 finished with value: 0.6424295938344151 and parameters: {'n_estimators': 71, 'max_depth': 9, 'min_samples_leaf': 1, 'min_samples_split': 5}. Best is trial 22 with value: 0.6553756393903236.\u001b[0m\n",
      "\u001b[32m[I 2023-08-24 13:14:09,478]\u001b[0m Trial 77 finished with value: 0.6526078544990617 and parameters: {'n_estimators': 75, 'max_depth': 10, 'min_samples_leaf': 2, 'min_samples_split': 6}. Best is trial 22 with value: 0.6553756393903236.\u001b[0m\n",
      "\u001b[32m[I 2023-08-24 13:14:13,406]\u001b[0m Trial 78 finished with value: 0.6404902013678307 and parameters: {'n_estimators': 76, 'max_depth': 8, 'min_samples_leaf': 2, 'min_samples_split': 4}. Best is trial 22 with value: 0.6553756393903236.\u001b[0m\n",
      "\u001b[32m[I 2023-08-24 13:14:18,367]\u001b[0m Trial 79 finished with value: 0.6392842040977393 and parameters: {'n_estimators': 88, 'max_depth': 9, 'min_samples_leaf': 1, 'min_samples_split': 7}. Best is trial 22 with value: 0.6553756393903236.\u001b[0m\n",
      "\u001b[32m[I 2023-08-24 13:14:22,064]\u001b[0m Trial 80 finished with value: 0.6179220827648265 and parameters: {'n_estimators': 83, 'max_depth': 10, 'min_samples_leaf': 9, 'min_samples_split': 5}. Best is trial 22 with value: 0.6553756393903236.\u001b[0m\n",
      "\u001b[32m[I 2023-08-24 13:14:26,390]\u001b[0m Trial 81 finished with value: 0.655171718010837 and parameters: {'n_estimators': 71, 'max_depth': 10, 'min_samples_leaf': 2, 'min_samples_split': 2}. Best is trial 22 with value: 0.6553756393903236.\u001b[0m\n",
      "\u001b[32m[I 2023-08-24 13:14:30,890]\u001b[0m Trial 82 finished with value: 0.6555284216558956 and parameters: {'n_estimators': 74, 'max_depth': 10, 'min_samples_leaf': 2, 'min_samples_split': 3}. Best is trial 82 with value: 0.6555284216558956.\u001b[0m\n",
      "\u001b[32m[I 2023-08-24 13:14:33,895]\u001b[0m Trial 83 finished with value: 0.606109260556446 and parameters: {'n_estimators': 73, 'max_depth': 6, 'min_samples_leaf': 2, 'min_samples_split': 3}. Best is trial 82 with value: 0.6555284216558956.\u001b[0m\n",
      "\u001b[32m[I 2023-08-24 13:14:38,761]\u001b[0m Trial 84 finished with value: 0.6555828780903155 and parameters: {'n_estimators': 80, 'max_depth': 10, 'min_samples_leaf': 2, 'min_samples_split': 2}. Best is trial 84 with value: 0.6555828780903155.\u001b[0m\n",
      "\u001b[32m[I 2023-08-24 13:14:44,020]\u001b[0m Trial 85 finished with value: 0.64321848326142 and parameters: {'n_estimators': 86, 'max_depth': 9, 'min_samples_leaf': 1, 'min_samples_split': 2}. Best is trial 84 with value: 0.6555828780903155.\u001b[0m\n",
      "\u001b[32m[I 2023-08-24 13:14:45,433]\u001b[0m Trial 86 finished with value: 0.3752313853258125 and parameters: {'n_estimators': 80, 'max_depth': 2, 'min_samples_leaf': 4, 'min_samples_split': 2}. Best is trial 84 with value: 0.6555828780903155.\u001b[0m\n",
      "\u001b[32m[I 2023-08-24 13:14:50,039]\u001b[0m Trial 87 finished with value: 0.6556266956163609 and parameters: {'n_estimators': 75, 'max_depth': 10, 'min_samples_leaf': 2, 'min_samples_split': 3}. Best is trial 87 with value: 0.6556266956163609.\u001b[0m\n",
      "\u001b[32m[I 2023-08-24 13:14:54,704]\u001b[0m Trial 88 finished with value: 0.6553756393903236 and parameters: {'n_estimators': 76, 'max_depth': 10, 'min_samples_leaf': 2, 'min_samples_split': 3}. Best is trial 87 with value: 0.6556266956163609.\u001b[0m\n",
      "\u001b[32m[I 2023-08-24 13:14:59,400]\u001b[0m Trial 89 finished with value: 0.6489959759089988 and parameters: {'n_estimators': 82, 'max_depth': 9, 'min_samples_leaf': 2, 'min_samples_split': 3}. Best is trial 87 with value: 0.6556266956163609.\u001b[0m\n",
      "\u001b[32m[I 2023-08-24 13:15:04,549]\u001b[0m Trial 90 finished with value: 0.6425174278839684 and parameters: {'n_estimators': 100, 'max_depth': 10, 'min_samples_leaf': 5, 'min_samples_split': 3}. Best is trial 87 with value: 0.6556266956163609.\u001b[0m\n",
      "\u001b[32m[I 2023-08-24 13:15:09,177]\u001b[0m Trial 91 finished with value: 0.6556266956163609 and parameters: {'n_estimators': 75, 'max_depth': 10, 'min_samples_leaf': 2, 'min_samples_split': 3}. Best is trial 87 with value: 0.6556266956163609.\u001b[0m\n",
      "\u001b[32m[I 2023-08-24 13:15:13,708]\u001b[0m Trial 92 finished with value: 0.6531161351245413 and parameters: {'n_estimators': 79, 'max_depth': 10, 'min_samples_leaf': 3, 'min_samples_split': 2}. Best is trial 87 with value: 0.6556266956163609.\u001b[0m\n",
      "\u001b[32m[I 2023-08-24 13:15:18,262]\u001b[0m Trial 93 finished with value: 0.6531161351245413 and parameters: {'n_estimators': 79, 'max_depth': 10, 'min_samples_leaf': 3, 'min_samples_split': 2}. Best is trial 87 with value: 0.6556266956163609.\u001b[0m\n",
      "\u001b[32m[I 2023-08-24 13:15:21,910]\u001b[0m Trial 94 finished with value: 0.6127556567941307 and parameters: {'n_estimators': 85, 'max_depth': 10, 'min_samples_leaf': 10, 'min_samples_split': 3}. Best is trial 87 with value: 0.6556266956163609.\u001b[0m\n",
      "\u001b[32m[I 2023-08-24 13:15:27,017]\u001b[0m Trial 95 finished with value: 0.6512134811749206 and parameters: {'n_estimators': 76, 'max_depth': 10, 'min_samples_leaf': 1, 'min_samples_split': 2}. Best is trial 87 with value: 0.6556266956163609.\u001b[0m\n",
      "\u001b[32m[I 2023-08-24 13:15:31,655]\u001b[0m Trial 96 finished with value: 0.6509043485219255 and parameters: {'n_estimators': 71, 'max_depth': 10, 'min_samples_leaf': 1, 'min_samples_split': 3}. Best is trial 87 with value: 0.6556266956163609.\u001b[0m\n",
      "\u001b[32m[I 2023-08-24 13:15:35,914]\u001b[0m Trial 97 finished with value: 0.6477735861229323 and parameters: {'n_estimators': 78, 'max_depth': 9, 'min_samples_leaf': 3, 'min_samples_split': 3}. Best is trial 87 with value: 0.6556266956163609.\u001b[0m\n",
      "\u001b[32m[I 2023-08-24 13:15:40,268]\u001b[0m Trial 98 finished with value: 0.6477661785884334 and parameters: {'n_estimators': 80, 'max_depth': 10, 'min_samples_leaf': 4, 'min_samples_split': 2}. Best is trial 87 with value: 0.6556266956163609.\u001b[0m\n",
      "\u001b[32m[I 2023-08-24 13:15:42,887]\u001b[0m Trial 99 finished with value: 0.5379895491127022 and parameters: {'n_estimators': 90, 'max_depth': 4, 'min_samples_leaf': 2, 'min_samples_split': 2}. Best is trial 87 with value: 0.6556266956163609.\u001b[0m\n"
     ]
    },
    {
     "name": "stdout",
     "output_type": "stream",
     "text": [
      "Best r2:  0.6556266956163609\n",
      "Best trial: {'n_estimators': 75, 'max_depth': 10, 'min_samples_leaf': 2, 'min_samples_split': 3}\n"
     ]
    }
   ],
   "source": [
    "sampler = TPESampler()\n",
    "study = optuna.create_study(\n",
    "    study_name=\"rf_parameter_opt\",\n",
    "    direction=\"maximize\",\n",
    "    sampler=sampler,\n",
    ")\n",
    "\n",
    "study.optimize(lambda trial : objectiveRF(trial, Cd_X_train, Cd_y_train), n_trials=100)\n",
    "print(\"Best r2: \", study.best_value)\n",
    "print(\"Best trial:\", study.best_trial.params)"
   ]
  },
  {
   "cell_type": "code",
   "execution_count": 37,
   "id": "861f88d8",
   "metadata": {},
   "outputs": [
    {
     "data": {
      "application/vnd.plotly.v1+json": {
       "config": {
        "plotlyServerURL": "https://plot.ly"
       },
       "data": [
        {
         "dimensions": [
          {
           "label": "Objective Value",
           "range": [
            0.24479332738555232,
            0.6556266956163609
           ],
           "values": [
            0.5706662486494619,
            0.5984581032798005,
            0.5873658173490496,
            0.5591408355524876,
            0.5351512217280509,
            0.5968403375666911,
            0.24479332738555232,
            0.5279204909057701,
            0.5782745072257349,
            0.6114113115439743,
            0.6503007465384476,
            0.6507971322776273,
            0.6517657443839676,
            0.6503007465384476,
            0.6339172488110182,
            0.639225891992463,
            0.6098719161113723,
            0.24688248238237662,
            0.6301720869812618,
            0.6432113142481602,
            0.48632013205286606,
            0.6496484497180564,
            0.6553756393903236,
            0.6476188626710917,
            0.6306198848930403,
            0.6200883603833501,
            0.6036110427894202,
            0.6216728161193293,
            0.5726091114884209,
            0.6466712386980032,
            0.6008224269878383,
            0.6501797550735688,
            0.6495040855727249,
            0.6341258353078442,
            0.6509344670247581,
            0.647376661487161,
            0.6351953898553143,
            0.5871868801252638,
            0.6331246069011378,
            0.37654437520984463,
            0.5911407785151195,
            0.6502509039512503,
            0.628355698423253,
            0.6415263598788412,
            0.650718861799951,
            0.6367040902035839,
            0.6449323413482919,
            0.6249693522229771,
            0.5401863609603859,
            0.6551187226544475,
            0.6403691397848342,
            0.6509798131504706,
            0.6495092005522922,
            0.6517569912428443,
            0.6371982862698707,
            0.6286447416231091,
            0.6514507057238507,
            0.642647702003543,
            0.5913754657940267,
            0.6429192044298307,
            0.5578400916017033,
            0.6509798131504706,
            0.6503007465384476,
            0.6526431990154393,
            0.6477707136418911,
            0.6408540007084916,
            0.6503421944504837,
            0.6369096106987511,
            0.6494234102608852,
            0.6497232829239088,
            0.6471408955429332,
            0.6509798131504706,
            0.6277760081393268,
            0.647192284838509,
            0.5786284698605778,
            0.655171718010837,
            0.6424295938344151,
            0.6526078544990617,
            0.6404902013678307,
            0.6392842040977393,
            0.6179220827648265,
            0.655171718010837,
            0.6555284216558956,
            0.606109260556446,
            0.6555828780903155,
            0.64321848326142,
            0.3752313853258125,
            0.6556266956163609,
            0.6553756393903236,
            0.6489959759089988,
            0.6425174278839684,
            0.6556266956163609,
            0.6531161351245413,
            0.6531161351245413,
            0.6127556567941307,
            0.6512134811749206,
            0.6509043485219255,
            0.6477735861229323,
            0.6477661785884334,
            0.5379895491127022
           ]
          },
          {
           "label": "max_depth",
           "range": [
            1,
            10
           ],
           "values": [
            6,
            8,
            6,
            5,
            4,
            9,
            1,
            4,
            5,
            9,
            10,
            10,
            10,
            10,
            8,
            8,
            7,
            1,
            10,
            9,
            3,
            10,
            10,
            9,
            8,
            7,
            10,
            7,
            9,
            10,
            6,
            10,
            9,
            8,
            10,
            9,
            10,
            9,
            8,
            2,
            7,
            10,
            10,
            9,
            10,
            9,
            10,
            8,
            4,
            10,
            9,
            10,
            10,
            10,
            9,
            10,
            10,
            9,
            8,
            10,
            5,
            10,
            10,
            10,
            9,
            9,
            10,
            9,
            10,
            10,
            9,
            10,
            10,
            10,
            10,
            10,
            9,
            10,
            8,
            9,
            10,
            10,
            10,
            6,
            10,
            9,
            2,
            10,
            10,
            9,
            10,
            10,
            10,
            10,
            10,
            10,
            10,
            9,
            10,
            4
           ]
          },
          {
           "label": "min_samples_leaf",
           "range": [
            1,
            20
           ],
           "values": [
            17,
            14,
            9,
            14,
            5,
            14,
            18,
            9,
            5,
            10,
            1,
            1,
            1,
            1,
            4,
            3,
            7,
            1,
            7,
            3,
            7,
            1,
            2,
            3,
            5,
            2,
            12,
            4,
            20,
            2,
            6,
            1,
            2,
            4,
            3,
            3,
            6,
            16,
            2,
            8,
            11,
            1,
            2,
            4,
            3,
            5,
            3,
            6,
            4,
            2,
            2,
            3,
            1,
            2,
            5,
            4,
            3,
            2,
            15,
            5,
            13,
            3,
            1,
            2,
            2,
            1,
            2,
            4,
            3,
            1,
            2,
            3,
            3,
            4,
            18,
            2,
            1,
            2,
            2,
            1,
            9,
            2,
            2,
            2,
            2,
            1,
            4,
            2,
            2,
            2,
            5,
            2,
            3,
            3,
            10,
            1,
            1,
            3,
            4,
            2
           ]
          },
          {
           "label": "min_samples_split",
           "range": [
            2,
            20
           ],
           "values": [
            6,
            6,
            10,
            19,
            17,
            17,
            10,
            12,
            6,
            6,
            2,
            3,
            2,
            2,
            3,
            4,
            13,
            8,
            4,
            8,
            15,
            3,
            2,
            4,
            2,
            8,
            5,
            2,
            4,
            7,
            5,
            2,
            3,
            2,
            3,
            5,
            10,
            3,
            7,
            5,
            6,
            3,
            19,
            2,
            4,
            4,
            3,
            6,
            12,
            4,
            9,
            4,
            3,
            5,
            5,
            17,
            4,
            7,
            15,
            4,
            5,
            2,
            2,
            4,
            6,
            2,
            3,
            4,
            4,
            2,
            3,
            6,
            20,
            6,
            5,
            4,
            5,
            6,
            4,
            7,
            5,
            2,
            3,
            3,
            2,
            2,
            2,
            3,
            3,
            3,
            3,
            3,
            2,
            2,
            3,
            2,
            3,
            3,
            2,
            2
           ]
          },
          {
           "label": "n_estimators",
           "range": [
            11,
            100
           ],
           "values": [
            41,
            29,
            44,
            96,
            48,
            90,
            11,
            52,
            90,
            24,
            69,
            72,
            74,
            69,
            71,
            79,
            63,
            80,
            59,
            81,
            97,
            69,
            76,
            76,
            86,
            59,
            65,
            75,
            87,
            53,
            40,
            65,
            74,
            84,
            60,
            36,
            61,
            47,
            55,
            92,
            49,
            70,
            66,
            74,
            58,
            57,
            16,
            78,
            83,
            72,
            72,
            62,
            66,
            62,
            61,
            52,
            63,
            67,
            78,
            93,
            64,
            62,
            69,
            55,
            73,
            55,
            44,
            48,
            52,
            57,
            63,
            62,
            77,
            81,
            68,
            71,
            71,
            75,
            76,
            88,
            83,
            71,
            74,
            73,
            80,
            86,
            80,
            75,
            76,
            82,
            100,
            75,
            79,
            79,
            85,
            76,
            71,
            78,
            80,
            90
           ]
          }
         ],
         "labelangle": 30,
         "labelside": "bottom",
         "line": {
          "color": [
           0.5706662486494619,
           0.5984581032798005,
           0.5873658173490496,
           0.5591408355524876,
           0.5351512217280509,
           0.5968403375666911,
           0.24479332738555232,
           0.5279204909057701,
           0.5782745072257349,
           0.6114113115439743,
           0.6503007465384476,
           0.6507971322776273,
           0.6517657443839676,
           0.6503007465384476,
           0.6339172488110182,
           0.639225891992463,
           0.6098719161113723,
           0.24688248238237662,
           0.6301720869812618,
           0.6432113142481602,
           0.48632013205286606,
           0.6496484497180564,
           0.6553756393903236,
           0.6476188626710917,
           0.6306198848930403,
           0.6200883603833501,
           0.6036110427894202,
           0.6216728161193293,
           0.5726091114884209,
           0.6466712386980032,
           0.6008224269878383,
           0.6501797550735688,
           0.6495040855727249,
           0.6341258353078442,
           0.6509344670247581,
           0.647376661487161,
           0.6351953898553143,
           0.5871868801252638,
           0.6331246069011378,
           0.37654437520984463,
           0.5911407785151195,
           0.6502509039512503,
           0.628355698423253,
           0.6415263598788412,
           0.650718861799951,
           0.6367040902035839,
           0.6449323413482919,
           0.6249693522229771,
           0.5401863609603859,
           0.6551187226544475,
           0.6403691397848342,
           0.6509798131504706,
           0.6495092005522922,
           0.6517569912428443,
           0.6371982862698707,
           0.6286447416231091,
           0.6514507057238507,
           0.642647702003543,
           0.5913754657940267,
           0.6429192044298307,
           0.5578400916017033,
           0.6509798131504706,
           0.6503007465384476,
           0.6526431990154393,
           0.6477707136418911,
           0.6408540007084916,
           0.6503421944504837,
           0.6369096106987511,
           0.6494234102608852,
           0.6497232829239088,
           0.6471408955429332,
           0.6509798131504706,
           0.6277760081393268,
           0.647192284838509,
           0.5786284698605778,
           0.655171718010837,
           0.6424295938344151,
           0.6526078544990617,
           0.6404902013678307,
           0.6392842040977393,
           0.6179220827648265,
           0.655171718010837,
           0.6555284216558956,
           0.606109260556446,
           0.6555828780903155,
           0.64321848326142,
           0.3752313853258125,
           0.6556266956163609,
           0.6553756393903236,
           0.6489959759089988,
           0.6425174278839684,
           0.6556266956163609,
           0.6531161351245413,
           0.6531161351245413,
           0.6127556567941307,
           0.6512134811749206,
           0.6509043485219255,
           0.6477735861229323,
           0.6477661785884334,
           0.5379895491127022
          ],
          "colorbar": {
           "title": {
            "text": "Objective Value"
           }
          },
          "colorscale": [
           [
            0,
            "rgb(247,251,255)"
           ],
           [
            0.125,
            "rgb(222,235,247)"
           ],
           [
            0.25,
            "rgb(198,219,239)"
           ],
           [
            0.375,
            "rgb(158,202,225)"
           ],
           [
            0.5,
            "rgb(107,174,214)"
           ],
           [
            0.625,
            "rgb(66,146,198)"
           ],
           [
            0.75,
            "rgb(33,113,181)"
           ],
           [
            0.875,
            "rgb(8,81,156)"
           ],
           [
            1,
            "rgb(8,48,107)"
           ]
          ],
          "reversescale": false,
          "showscale": true
         },
         "type": "parcoords"
        }
       ],
       "layout": {
        "template": {
         "data": {
          "bar": [
           {
            "error_x": {
             "color": "#2a3f5f"
            },
            "error_y": {
             "color": "#2a3f5f"
            },
            "marker": {
             "line": {
              "color": "#E5ECF6",
              "width": 0.5
             },
             "pattern": {
              "fillmode": "overlay",
              "size": 10,
              "solidity": 0.2
             }
            },
            "type": "bar"
           }
          ],
          "barpolar": [
           {
            "marker": {
             "line": {
              "color": "#E5ECF6",
              "width": 0.5
             },
             "pattern": {
              "fillmode": "overlay",
              "size": 10,
              "solidity": 0.2
             }
            },
            "type": "barpolar"
           }
          ],
          "carpet": [
           {
            "aaxis": {
             "endlinecolor": "#2a3f5f",
             "gridcolor": "white",
             "linecolor": "white",
             "minorgridcolor": "white",
             "startlinecolor": "#2a3f5f"
            },
            "baxis": {
             "endlinecolor": "#2a3f5f",
             "gridcolor": "white",
             "linecolor": "white",
             "minorgridcolor": "white",
             "startlinecolor": "#2a3f5f"
            },
            "type": "carpet"
           }
          ],
          "choropleth": [
           {
            "colorbar": {
             "outlinewidth": 0,
             "ticks": ""
            },
            "type": "choropleth"
           }
          ],
          "contour": [
           {
            "colorbar": {
             "outlinewidth": 0,
             "ticks": ""
            },
            "colorscale": [
             [
              0,
              "#0d0887"
             ],
             [
              0.1111111111111111,
              "#46039f"
             ],
             [
              0.2222222222222222,
              "#7201a8"
             ],
             [
              0.3333333333333333,
              "#9c179e"
             ],
             [
              0.4444444444444444,
              "#bd3786"
             ],
             [
              0.5555555555555556,
              "#d8576b"
             ],
             [
              0.6666666666666666,
              "#ed7953"
             ],
             [
              0.7777777777777778,
              "#fb9f3a"
             ],
             [
              0.8888888888888888,
              "#fdca26"
             ],
             [
              1,
              "#f0f921"
             ]
            ],
            "type": "contour"
           }
          ],
          "contourcarpet": [
           {
            "colorbar": {
             "outlinewidth": 0,
             "ticks": ""
            },
            "type": "contourcarpet"
           }
          ],
          "heatmap": [
           {
            "colorbar": {
             "outlinewidth": 0,
             "ticks": ""
            },
            "colorscale": [
             [
              0,
              "#0d0887"
             ],
             [
              0.1111111111111111,
              "#46039f"
             ],
             [
              0.2222222222222222,
              "#7201a8"
             ],
             [
              0.3333333333333333,
              "#9c179e"
             ],
             [
              0.4444444444444444,
              "#bd3786"
             ],
             [
              0.5555555555555556,
              "#d8576b"
             ],
             [
              0.6666666666666666,
              "#ed7953"
             ],
             [
              0.7777777777777778,
              "#fb9f3a"
             ],
             [
              0.8888888888888888,
              "#fdca26"
             ],
             [
              1,
              "#f0f921"
             ]
            ],
            "type": "heatmap"
           }
          ],
          "heatmapgl": [
           {
            "colorbar": {
             "outlinewidth": 0,
             "ticks": ""
            },
            "colorscale": [
             [
              0,
              "#0d0887"
             ],
             [
              0.1111111111111111,
              "#46039f"
             ],
             [
              0.2222222222222222,
              "#7201a8"
             ],
             [
              0.3333333333333333,
              "#9c179e"
             ],
             [
              0.4444444444444444,
              "#bd3786"
             ],
             [
              0.5555555555555556,
              "#d8576b"
             ],
             [
              0.6666666666666666,
              "#ed7953"
             ],
             [
              0.7777777777777778,
              "#fb9f3a"
             ],
             [
              0.8888888888888888,
              "#fdca26"
             ],
             [
              1,
              "#f0f921"
             ]
            ],
            "type": "heatmapgl"
           }
          ],
          "histogram": [
           {
            "marker": {
             "pattern": {
              "fillmode": "overlay",
              "size": 10,
              "solidity": 0.2
             }
            },
            "type": "histogram"
           }
          ],
          "histogram2d": [
           {
            "colorbar": {
             "outlinewidth": 0,
             "ticks": ""
            },
            "colorscale": [
             [
              0,
              "#0d0887"
             ],
             [
              0.1111111111111111,
              "#46039f"
             ],
             [
              0.2222222222222222,
              "#7201a8"
             ],
             [
              0.3333333333333333,
              "#9c179e"
             ],
             [
              0.4444444444444444,
              "#bd3786"
             ],
             [
              0.5555555555555556,
              "#d8576b"
             ],
             [
              0.6666666666666666,
              "#ed7953"
             ],
             [
              0.7777777777777778,
              "#fb9f3a"
             ],
             [
              0.8888888888888888,
              "#fdca26"
             ],
             [
              1,
              "#f0f921"
             ]
            ],
            "type": "histogram2d"
           }
          ],
          "histogram2dcontour": [
           {
            "colorbar": {
             "outlinewidth": 0,
             "ticks": ""
            },
            "colorscale": [
             [
              0,
              "#0d0887"
             ],
             [
              0.1111111111111111,
              "#46039f"
             ],
             [
              0.2222222222222222,
              "#7201a8"
             ],
             [
              0.3333333333333333,
              "#9c179e"
             ],
             [
              0.4444444444444444,
              "#bd3786"
             ],
             [
              0.5555555555555556,
              "#d8576b"
             ],
             [
              0.6666666666666666,
              "#ed7953"
             ],
             [
              0.7777777777777778,
              "#fb9f3a"
             ],
             [
              0.8888888888888888,
              "#fdca26"
             ],
             [
              1,
              "#f0f921"
             ]
            ],
            "type": "histogram2dcontour"
           }
          ],
          "mesh3d": [
           {
            "colorbar": {
             "outlinewidth": 0,
             "ticks": ""
            },
            "type": "mesh3d"
           }
          ],
          "parcoords": [
           {
            "line": {
             "colorbar": {
              "outlinewidth": 0,
              "ticks": ""
             }
            },
            "type": "parcoords"
           }
          ],
          "pie": [
           {
            "automargin": true,
            "type": "pie"
           }
          ],
          "scatter": [
           {
            "marker": {
             "colorbar": {
              "outlinewidth": 0,
              "ticks": ""
             }
            },
            "type": "scatter"
           }
          ],
          "scatter3d": [
           {
            "line": {
             "colorbar": {
              "outlinewidth": 0,
              "ticks": ""
             }
            },
            "marker": {
             "colorbar": {
              "outlinewidth": 0,
              "ticks": ""
             }
            },
            "type": "scatter3d"
           }
          ],
          "scattercarpet": [
           {
            "marker": {
             "colorbar": {
              "outlinewidth": 0,
              "ticks": ""
             }
            },
            "type": "scattercarpet"
           }
          ],
          "scattergeo": [
           {
            "marker": {
             "colorbar": {
              "outlinewidth": 0,
              "ticks": ""
             }
            },
            "type": "scattergeo"
           }
          ],
          "scattergl": [
           {
            "marker": {
             "colorbar": {
              "outlinewidth": 0,
              "ticks": ""
             }
            },
            "type": "scattergl"
           }
          ],
          "scattermapbox": [
           {
            "marker": {
             "colorbar": {
              "outlinewidth": 0,
              "ticks": ""
             }
            },
            "type": "scattermapbox"
           }
          ],
          "scatterpolar": [
           {
            "marker": {
             "colorbar": {
              "outlinewidth": 0,
              "ticks": ""
             }
            },
            "type": "scatterpolar"
           }
          ],
          "scatterpolargl": [
           {
            "marker": {
             "colorbar": {
              "outlinewidth": 0,
              "ticks": ""
             }
            },
            "type": "scatterpolargl"
           }
          ],
          "scatterternary": [
           {
            "marker": {
             "colorbar": {
              "outlinewidth": 0,
              "ticks": ""
             }
            },
            "type": "scatterternary"
           }
          ],
          "surface": [
           {
            "colorbar": {
             "outlinewidth": 0,
             "ticks": ""
            },
            "colorscale": [
             [
              0,
              "#0d0887"
             ],
             [
              0.1111111111111111,
              "#46039f"
             ],
             [
              0.2222222222222222,
              "#7201a8"
             ],
             [
              0.3333333333333333,
              "#9c179e"
             ],
             [
              0.4444444444444444,
              "#bd3786"
             ],
             [
              0.5555555555555556,
              "#d8576b"
             ],
             [
              0.6666666666666666,
              "#ed7953"
             ],
             [
              0.7777777777777778,
              "#fb9f3a"
             ],
             [
              0.8888888888888888,
              "#fdca26"
             ],
             [
              1,
              "#f0f921"
             ]
            ],
            "type": "surface"
           }
          ],
          "table": [
           {
            "cells": {
             "fill": {
              "color": "#EBF0F8"
             },
             "line": {
              "color": "white"
             }
            },
            "header": {
             "fill": {
              "color": "#C8D4E3"
             },
             "line": {
              "color": "white"
             }
            },
            "type": "table"
           }
          ]
         },
         "layout": {
          "annotationdefaults": {
           "arrowcolor": "#2a3f5f",
           "arrowhead": 0,
           "arrowwidth": 1
          },
          "autotypenumbers": "strict",
          "coloraxis": {
           "colorbar": {
            "outlinewidth": 0,
            "ticks": ""
           }
          },
          "colorscale": {
           "diverging": [
            [
             0,
             "#8e0152"
            ],
            [
             0.1,
             "#c51b7d"
            ],
            [
             0.2,
             "#de77ae"
            ],
            [
             0.3,
             "#f1b6da"
            ],
            [
             0.4,
             "#fde0ef"
            ],
            [
             0.5,
             "#f7f7f7"
            ],
            [
             0.6,
             "#e6f5d0"
            ],
            [
             0.7,
             "#b8e186"
            ],
            [
             0.8,
             "#7fbc41"
            ],
            [
             0.9,
             "#4d9221"
            ],
            [
             1,
             "#276419"
            ]
           ],
           "sequential": [
            [
             0,
             "#0d0887"
            ],
            [
             0.1111111111111111,
             "#46039f"
            ],
            [
             0.2222222222222222,
             "#7201a8"
            ],
            [
             0.3333333333333333,
             "#9c179e"
            ],
            [
             0.4444444444444444,
             "#bd3786"
            ],
            [
             0.5555555555555556,
             "#d8576b"
            ],
            [
             0.6666666666666666,
             "#ed7953"
            ],
            [
             0.7777777777777778,
             "#fb9f3a"
            ],
            [
             0.8888888888888888,
             "#fdca26"
            ],
            [
             1,
             "#f0f921"
            ]
           ],
           "sequentialminus": [
            [
             0,
             "#0d0887"
            ],
            [
             0.1111111111111111,
             "#46039f"
            ],
            [
             0.2222222222222222,
             "#7201a8"
            ],
            [
             0.3333333333333333,
             "#9c179e"
            ],
            [
             0.4444444444444444,
             "#bd3786"
            ],
            [
             0.5555555555555556,
             "#d8576b"
            ],
            [
             0.6666666666666666,
             "#ed7953"
            ],
            [
             0.7777777777777778,
             "#fb9f3a"
            ],
            [
             0.8888888888888888,
             "#fdca26"
            ],
            [
             1,
             "#f0f921"
            ]
           ]
          },
          "colorway": [
           "#636efa",
           "#EF553B",
           "#00cc96",
           "#ab63fa",
           "#FFA15A",
           "#19d3f3",
           "#FF6692",
           "#B6E880",
           "#FF97FF",
           "#FECB52"
          ],
          "font": {
           "color": "#2a3f5f"
          },
          "geo": {
           "bgcolor": "white",
           "lakecolor": "white",
           "landcolor": "#E5ECF6",
           "showlakes": true,
           "showland": true,
           "subunitcolor": "white"
          },
          "hoverlabel": {
           "align": "left"
          },
          "hovermode": "closest",
          "mapbox": {
           "style": "light"
          },
          "paper_bgcolor": "white",
          "plot_bgcolor": "#E5ECF6",
          "polar": {
           "angularaxis": {
            "gridcolor": "white",
            "linecolor": "white",
            "ticks": ""
           },
           "bgcolor": "#E5ECF6",
           "radialaxis": {
            "gridcolor": "white",
            "linecolor": "white",
            "ticks": ""
           }
          },
          "scene": {
           "xaxis": {
            "backgroundcolor": "#E5ECF6",
            "gridcolor": "white",
            "gridwidth": 2,
            "linecolor": "white",
            "showbackground": true,
            "ticks": "",
            "zerolinecolor": "white"
           },
           "yaxis": {
            "backgroundcolor": "#E5ECF6",
            "gridcolor": "white",
            "gridwidth": 2,
            "linecolor": "white",
            "showbackground": true,
            "ticks": "",
            "zerolinecolor": "white"
           },
           "zaxis": {
            "backgroundcolor": "#E5ECF6",
            "gridcolor": "white",
            "gridwidth": 2,
            "linecolor": "white",
            "showbackground": true,
            "ticks": "",
            "zerolinecolor": "white"
           }
          },
          "shapedefaults": {
           "line": {
            "color": "#2a3f5f"
           }
          },
          "ternary": {
           "aaxis": {
            "gridcolor": "white",
            "linecolor": "white",
            "ticks": ""
           },
           "baxis": {
            "gridcolor": "white",
            "linecolor": "white",
            "ticks": ""
           },
           "bgcolor": "#E5ECF6",
           "caxis": {
            "gridcolor": "white",
            "linecolor": "white",
            "ticks": ""
           }
          },
          "title": {
           "x": 0.05
          },
          "xaxis": {
           "automargin": true,
           "gridcolor": "white",
           "linecolor": "white",
           "ticks": "",
           "title": {
            "standoff": 15
           },
           "zerolinecolor": "white",
           "zerolinewidth": 2
          },
          "yaxis": {
           "automargin": true,
           "gridcolor": "white",
           "linecolor": "white",
           "ticks": "",
           "title": {
            "standoff": 15
           },
           "zerolinecolor": "white",
           "zerolinewidth": 2
          }
         }
        },
        "title": {
         "text": "Parallel Coordinate Plot"
        }
       }
      }
     },
     "metadata": {},
     "output_type": "display_data"
    }
   ],
   "source": [
    "optuna.visualization.plot_parallel_coordinate(study)"
   ]
  },
  {
   "cell_type": "code",
   "execution_count": 38,
   "id": "4afa60aa",
   "metadata": {},
   "outputs": [
    {
     "name": "stdout",
     "output_type": "stream",
     "text": [
      "Best trial: {'n_estimators': 75, 'max_depth': 10, 'min_samples_leaf': 2, 'min_samples_split': 3}\n"
     ]
    },
    {
     "data": {
      "text/plain": [
       "75"
      ]
     },
     "execution_count": 38,
     "metadata": {},
     "output_type": "execute_result"
    }
   ],
   "source": [
    "print(\"Best trial:\", study.best_trial.params)\n",
    "study.best_trial.params[\"n_estimators\"]"
   ]
  },
  {
   "cell_type": "code",
   "execution_count": 39,
   "id": "3b45adad",
   "metadata": {},
   "outputs": [
    {
     "data": {
      "text/html": [
       "<style>#sk-container-id-2 {color: black;}#sk-container-id-2 pre{padding: 0;}#sk-container-id-2 div.sk-toggleable {background-color: white;}#sk-container-id-2 label.sk-toggleable__label {cursor: pointer;display: block;width: 100%;margin-bottom: 0;padding: 0.3em;box-sizing: border-box;text-align: center;}#sk-container-id-2 label.sk-toggleable__label-arrow:before {content: \"▸\";float: left;margin-right: 0.25em;color: #696969;}#sk-container-id-2 label.sk-toggleable__label-arrow:hover:before {color: black;}#sk-container-id-2 div.sk-estimator:hover label.sk-toggleable__label-arrow:before {color: black;}#sk-container-id-2 div.sk-toggleable__content {max-height: 0;max-width: 0;overflow: hidden;text-align: left;background-color: #f0f8ff;}#sk-container-id-2 div.sk-toggleable__content pre {margin: 0.2em;color: black;border-radius: 0.25em;background-color: #f0f8ff;}#sk-container-id-2 input.sk-toggleable__control:checked~div.sk-toggleable__content {max-height: 200px;max-width: 100%;overflow: auto;}#sk-container-id-2 input.sk-toggleable__control:checked~label.sk-toggleable__label-arrow:before {content: \"▾\";}#sk-container-id-2 div.sk-estimator input.sk-toggleable__control:checked~label.sk-toggleable__label {background-color: #d4ebff;}#sk-container-id-2 div.sk-label input.sk-toggleable__control:checked~label.sk-toggleable__label {background-color: #d4ebff;}#sk-container-id-2 input.sk-hidden--visually {border: 0;clip: rect(1px 1px 1px 1px);clip: rect(1px, 1px, 1px, 1px);height: 1px;margin: -1px;overflow: hidden;padding: 0;position: absolute;width: 1px;}#sk-container-id-2 div.sk-estimator {font-family: monospace;background-color: #f0f8ff;border: 1px dotted black;border-radius: 0.25em;box-sizing: border-box;margin-bottom: 0.5em;}#sk-container-id-2 div.sk-estimator:hover {background-color: #d4ebff;}#sk-container-id-2 div.sk-parallel-item::after {content: \"\";width: 100%;border-bottom: 1px solid gray;flex-grow: 1;}#sk-container-id-2 div.sk-label:hover label.sk-toggleable__label {background-color: #d4ebff;}#sk-container-id-2 div.sk-serial::before {content: \"\";position: absolute;border-left: 1px solid gray;box-sizing: border-box;top: 0;bottom: 0;left: 50%;z-index: 0;}#sk-container-id-2 div.sk-serial {display: flex;flex-direction: column;align-items: center;background-color: white;padding-right: 0.2em;padding-left: 0.2em;position: relative;}#sk-container-id-2 div.sk-item {position: relative;z-index: 1;}#sk-container-id-2 div.sk-parallel {display: flex;align-items: stretch;justify-content: center;background-color: white;position: relative;}#sk-container-id-2 div.sk-item::before, #sk-container-id-2 div.sk-parallel-item::before {content: \"\";position: absolute;border-left: 1px solid gray;box-sizing: border-box;top: 0;bottom: 0;left: 50%;z-index: -1;}#sk-container-id-2 div.sk-parallel-item {display: flex;flex-direction: column;z-index: 1;position: relative;background-color: white;}#sk-container-id-2 div.sk-parallel-item:first-child::after {align-self: flex-end;width: 50%;}#sk-container-id-2 div.sk-parallel-item:last-child::after {align-self: flex-start;width: 50%;}#sk-container-id-2 div.sk-parallel-item:only-child::after {width: 0;}#sk-container-id-2 div.sk-dashed-wrapped {border: 1px dashed gray;margin: 0 0.4em 0.5em 0.4em;box-sizing: border-box;padding-bottom: 0.4em;background-color: white;}#sk-container-id-2 div.sk-label label {font-family: monospace;font-weight: bold;display: inline-block;line-height: 1.2em;}#sk-container-id-2 div.sk-label-container {text-align: center;}#sk-container-id-2 div.sk-container {/* jupyter's `normalize.less` sets `[hidden] { display: none; }` but bootstrap.min.css set `[hidden] { display: none !important; }` so we also need the `!important` here to be able to override the default hidden behavior on the sphinx rendered scikit-learn.org. See: https://github.com/scikit-learn/scikit-learn/issues/21755 */display: inline-block !important;position: relative;}#sk-container-id-2 div.sk-text-repr-fallback {display: none;}</style><div id=\"sk-container-id-2\" class=\"sk-top-container\"><div class=\"sk-text-repr-fallback\"><pre>RandomForestRegressor(max_depth=10, min_samples_leaf=2, min_samples_split=3,\n",
       "                      n_estimators=75, random_state=42)</pre><b>In a Jupyter environment, please rerun this cell to show the HTML representation or trust the notebook. <br />On GitHub, the HTML representation is unable to render, please try loading this page with nbviewer.org.</b></div><div class=\"sk-container\" hidden><div class=\"sk-item\"><div class=\"sk-estimator sk-toggleable\"><input class=\"sk-toggleable__control sk-hidden--visually\" id=\"sk-estimator-id-2\" type=\"checkbox\" checked><label for=\"sk-estimator-id-2\" class=\"sk-toggleable__label sk-toggleable__label-arrow\">RandomForestRegressor</label><div class=\"sk-toggleable__content\"><pre>RandomForestRegressor(max_depth=10, min_samples_leaf=2, min_samples_split=3,\n",
       "                      n_estimators=75, random_state=42)</pre></div></div></div></div></div>"
      ],
      "text/plain": [
       "RandomForestRegressor(max_depth=10, min_samples_leaf=2, min_samples_split=3,\n",
       "                      n_estimators=75, random_state=42)"
      ]
     },
     "execution_count": 39,
     "metadata": {},
     "output_type": "execute_result"
    }
   ],
   "source": [
    "rf_params = {\n",
    "    \"random_state\": 42,\n",
    "    #\"learning_rate\": 0.1,\n",
    "    \"n_estimators\": study.best_trial.params[\"n_estimators\"],\n",
    "    \"max_depth\": study.best_trial.params[\"max_depth\"],\n",
    "    \"min_samples_leaf\": study.best_trial.params[\"min_samples_leaf\"],\n",
    "    \"min_samples_split\": study.best_trial.params[\"min_samples_split\"],\n",
    "    #\"subsample\": study.best_trial.params[\"subsample\"]\n",
    "}\n",
    "\n",
    "rf = RandomForestRegressor(**rf_params)\n",
    "rf.fit(Cd_X_train, Cd_y_train)"
   ]
  },
  {
   "cell_type": "code",
   "execution_count": 40,
   "id": "9ab1055b",
   "metadata": {},
   "outputs": [],
   "source": [
    "y_train_pred = rf.predict(Cd_X_train)\n",
    "y_test_pred = rf.predict(Cd_X_test)"
   ]
  },
  {
   "cell_type": "code",
   "execution_count": 41,
   "id": "425b4001",
   "metadata": {},
   "outputs": [
    {
     "name": "stdout",
     "output_type": "stream",
     "text": [
      "Train RMSE:  0.06982438524508376\n",
      "Test RMSE:  0.18434880474483684\n"
     ]
    }
   ],
   "source": [
    "print(\"Train RMSE: \", np.sqrt(mean_squared_error(Cd_y_train, y_train_pred)))\n",
    "print(\"Test RMSE: \", np.sqrt(mean_squared_error(Cd_y_test, y_test_pred)))"
   ]
  },
  {
   "cell_type": "code",
   "execution_count": 42,
   "id": "0f95ae3c",
   "metadata": {},
   "outputs": [
    {
     "name": "stdout",
     "output_type": "stream",
     "text": [
      "Train R2:  0.8908844583855763\n",
      "Test R2:  0.3111152224937962\n"
     ]
    }
   ],
   "source": [
    "print(\"Train R2: \", r2_score(Cd_y_train, y_train_pred))\n",
    "print(\"Test R2: \", r2_score(Cd_y_test, y_test_pred))"
   ]
  },
  {
   "cell_type": "code",
   "execution_count": 43,
   "id": "aa0a517d",
   "metadata": {},
   "outputs": [
    {
     "data": {
      "image/png": "[encoded data removed]",
      "text/plain": [
       "<Figure size 640x480 with 1 Axes>"
      ]
     },
     "metadata": {},
     "output_type": "display_data"
    }
   ],
   "source": [
    "plt.scatter(y_train_pred, np.array(Cd_y_train), color=\"orange\", alpha=0.3)\n",
    "plt.scatter(y_test_pred, np.array(Cd_y_test), color=\"green\", alpha=0.4)\n",
    "plt.axis(\"auto\") # scaled, tight, auto, image, square\n",
    "# plt.xlim([0, 1.5]) \n",
    "# plt.ylim(0, None) \n",
    "plt.xlabel('Predicted Values')\n",
    "plt.ylabel('Actual Values')\n",
    "\n",
    "# Add y=x line\n",
    "plt.plot([0, 0.5], [0, 0.5], color='red', linestyle='-')\n",
    "\n",
    "plt.show()"
   ]
  },
  {
   "attachments": {},
   "cell_type": "markdown",
   "id": "74f680ea",
   "metadata": {},
   "source": [
    "Ni"
   ]
  },
  {
   "cell_type": "code",
   "execution_count": 44,
   "id": "de233338",
   "metadata": {},
   "outputs": [
    {
     "name": "stderr",
     "output_type": "stream",
     "text": [
      "\u001b[32m[I 2023-08-24 13:15:44,385]\u001b[0m A new study created in memory with name: rf_parameter_opt\u001b[0m\n",
      "\u001b[32m[I 2023-08-24 13:15:45,946]\u001b[0m Trial 0 finished with value: 0.44900060578220724 and parameters: {'n_estimators': 48, 'max_depth': 4, 'min_samples_leaf': 11, 'min_samples_split': 8}. Best is trial 0 with value: 0.44900060578220724.\u001b[0m\n",
      "\u001b[32m[I 2023-08-24 13:15:48,675]\u001b[0m Trial 1 finished with value: 0.5806800095731913 and parameters: {'n_estimators': 58, 'max_depth': 7, 'min_samples_leaf': 11, 'min_samples_split': 2}. Best is trial 1 with value: 0.5806800095731913.\u001b[0m\n",
      "\u001b[32m[I 2023-08-24 13:15:52,822]\u001b[0m Trial 2 finished with value: 0.6281386955882889 and parameters: {'n_estimators': 76, 'max_depth': 9, 'min_samples_leaf': 8, 'min_samples_split': 4}. Best is trial 2 with value: 0.6281386955882889.\u001b[0m\n",
      "\u001b[32m[I 2023-08-24 13:15:54,872]\u001b[0m Trial 3 finished with value: 0.46099280646566865 and parameters: {'n_estimators': 61, 'max_depth': 4, 'min_samples_leaf': 3, 'min_samples_split': 14}. Best is trial 2 with value: 0.6281386955882889.\u001b[0m\n",
      "\u001b[32m[I 2023-08-24 13:15:55,788]\u001b[0m Trial 4 finished with value: 0.5448276527919222 and parameters: {'n_estimators': 20, 'max_depth': 10, 'min_samples_leaf': 16, 'min_samples_split': 4}. Best is trial 2 with value: 0.6281386955882889.\u001b[0m\n",
      "\u001b[32m[I 2023-08-24 13:16:02,814]\u001b[0m Trial 5 finished with value: 0.697452053446379 and parameters: {'n_estimators': 98, 'max_depth': 10, 'min_samples_leaf': 2, 'min_samples_split': 4}. Best is trial 5 with value: 0.697452053446379.\u001b[0m\n",
      "\u001b[32m[I 2023-08-24 13:16:04,470]\u001b[0m Trial 6 finished with value: 0.5704413916553855 and parameters: {'n_estimators': 34, 'max_depth': 10, 'min_samples_leaf': 13, 'min_samples_split': 2}. Best is trial 5 with value: 0.697452053446379.\u001b[0m\n",
      "\u001b[32m[I 2023-08-24 13:16:05,506]\u001b[0m Trial 7 finished with value: 0.1761952219920037 and parameters: {'n_estimators': 80, 'max_depth': 1, 'min_samples_leaf': 9, 'min_samples_split': 13}. Best is trial 5 with value: 0.697452053446379.\u001b[0m\n",
      "\u001b[32m[I 2023-08-24 13:16:05,915]\u001b[0m Trial 8 finished with value: 0.1728420953505174 and parameters: {'n_estimators': 31, 'max_depth': 1, 'min_samples_leaf': 17, 'min_samples_split': 16}. Best is trial 5 with value: 0.697452053446379.\u001b[0m\n",
      "\u001b[32m[I 2023-08-24 13:16:06,130]\u001b[0m Trial 9 finished with value: 0.30983613890944256 and parameters: {'n_estimators': 10, 'max_depth': 2, 'min_samples_leaf': 3, 'min_samples_split': 6}. Best is trial 5 with value: 0.697452053446379.\u001b[0m\n",
      "\u001b[32m[I 2023-08-24 13:16:11,152]\u001b[0m Trial 10 finished with value: 0.609218994930342 and parameters: {'n_estimators': 97, 'max_depth': 7, 'min_samples_leaf': 1, 'min_samples_split': 20}. Best is trial 5 with value: 0.697452053446379.\u001b[0m\n",
      "\u001b[32m[I 2023-08-24 13:16:16,365]\u001b[0m Trial 11 finished with value: 0.6290710735467646 and parameters: {'n_estimators': 99, 'max_depth': 8, 'min_samples_leaf': 7, 'min_samples_split': 9}. Best is trial 5 with value: 0.697452053446379.\u001b[0m\n",
      "\u001b[32m[I 2023-08-24 13:16:21,797]\u001b[0m Trial 12 finished with value: 0.6451854926993577 and parameters: {'n_estimators': 98, 'max_depth': 8, 'min_samples_leaf': 5, 'min_samples_split': 9}. Best is trial 5 with value: 0.697452053446379.\u001b[0m\n",
      "\u001b[32m[I 2023-08-24 13:16:26,468]\u001b[0m Trial 13 finished with value: 0.644587738715569 and parameters: {'n_estimators': 84, 'max_depth': 8, 'min_samples_leaf': 5, 'min_samples_split': 10}. Best is trial 5 with value: 0.697452053446379.\u001b[0m\n",
      "\u001b[32m[I 2023-08-24 13:16:30,649]\u001b[0m Trial 14 finished with value: 0.5815205903202877 and parameters: {'n_estimators': 88, 'max_depth': 6, 'min_samples_leaf': 1, 'min_samples_split': 7}. Best is trial 5 with value: 0.697452053446379.\u001b[0m\n",
      "\u001b[32m[I 2023-08-24 13:16:33,635]\u001b[0m Trial 15 finished with value: 0.5262183623809407 and parameters: {'n_estimators': 71, 'max_depth': 9, 'min_samples_leaf': 20, 'min_samples_split': 11}. Best is trial 5 with value: 0.697452053446379.\u001b[0m\n",
      "\u001b[32m[I 2023-08-24 13:16:39,183]\u001b[0m Trial 16 finished with value: 0.6638163567967267 and parameters: {'n_estimators': 90, 'max_depth': 10, 'min_samples_leaf': 5, 'min_samples_split': 5}. Best is trial 5 with value: 0.697452053446379.\u001b[0m\n",
      "\u001b[32m[I 2023-08-24 13:16:43,326]\u001b[0m Trial 17 finished with value: 0.6635209899566666 and parameters: {'n_estimators': 67, 'max_depth': 10, 'min_samples_leaf': 5, 'min_samples_split': 5}. Best is trial 5 with value: 0.697452053446379.\u001b[0m\n",
      "\u001b[32m[I 2023-08-24 13:16:47,025]\u001b[0m Trial 18 finished with value: 0.5223163005447476 and parameters: {'n_estimators': 91, 'max_depth': 5, 'min_samples_leaf': 3, 'min_samples_split': 2}. Best is trial 5 with value: 0.697452053446379.\u001b[0m\n",
      "\u001b[32m[I 2023-08-24 13:16:50,027]\u001b[0m Trial 19 finished with value: 0.6458545165509315 and parameters: {'n_estimators': 52, 'max_depth': 9, 'min_samples_leaf': 6, 'min_samples_split': 6}. Best is trial 5 with value: 0.697452053446379.\u001b[0m\n",
      "\u001b[32m[I 2023-08-24 13:16:52,052]\u001b[0m Trial 20 finished with value: 0.5798414900412048 and parameters: {'n_estimators': 42, 'max_depth': 6, 'min_samples_leaf': 1, 'min_samples_split': 4}. Best is trial 5 with value: 0.697452053446379.\u001b[0m\n",
      "\u001b[32m[I 2023-08-24 13:16:56,420]\u001b[0m Trial 21 finished with value: 0.6757763336820001 and parameters: {'n_estimators': 68, 'max_depth': 10, 'min_samples_leaf': 4, 'min_samples_split': 5}. Best is trial 5 with value: 0.697452053446379.\u001b[0m\n",
      "\u001b[32m[I 2023-08-24 13:17:02,299]\u001b[0m Trial 22 finished with value: 0.6821951044770547 and parameters: {'n_estimators': 88, 'max_depth': 10, 'min_samples_leaf': 3, 'min_samples_split': 7}. Best is trial 5 with value: 0.697452053446379.\u001b[0m\n",
      "\u001b[32m[I 2023-08-24 13:17:06,298]\u001b[0m Trial 23 finished with value: 0.6733673634967078 and parameters: {'n_estimators': 72, 'max_depth': 9, 'min_samples_leaf': 3, 'min_samples_split': 7}. Best is trial 5 with value: 0.697452053446379.\u001b[0m\n",
      "\u001b[32m[I 2023-08-24 13:17:09,876]\u001b[0m Trial 24 finished with value: 0.6210090982541345 and parameters: {'n_estimators': 81, 'max_depth': 10, 'min_samples_leaf': 9, 'min_samples_split': 3}. Best is trial 5 with value: 0.697452053446379.\u001b[0m\n",
      "\u001b[32m[I 2023-08-24 13:17:12,939]\u001b[0m Trial 25 finished with value: 0.6564896477947375 and parameters: {'n_estimators': 64, 'max_depth': 8, 'min_samples_leaf': 3, 'min_samples_split': 7}. Best is trial 5 with value: 0.697452053446379.\u001b[0m\n",
      "\u001b[32m[I 2023-08-24 13:17:17,456]\u001b[0m Trial 26 finished with value: 0.666858181876927 and parameters: {'n_estimators': 89, 'max_depth': 9, 'min_samples_leaf': 2, 'min_samples_split': 12}. Best is trial 5 with value: 0.697452053446379.\u001b[0m\n",
      "\u001b[32m[I 2023-08-24 13:17:20,289]\u001b[0m Trial 27 finished with value: 0.5640980720386091 and parameters: {'n_estimators': 77, 'max_depth': 7, 'min_samples_leaf': 13, 'min_samples_split': 8}. Best is trial 5 with value: 0.697452053446379.\u001b[0m\n",
      "\u001b[32m[I 2023-08-24 13:17:24,643]\u001b[0m Trial 28 finished with value: 0.6418111747076439 and parameters: {'n_estimators': 93, 'max_depth': 10, 'min_samples_leaf': 7, 'min_samples_split': 5}. Best is trial 5 with value: 0.697452053446379.\u001b[0m\n",
      "\u001b[32m[I 2023-08-24 13:17:27,041]\u001b[0m Trial 29 finished with value: 0.6645139134018008 and parameters: {'n_estimators': 48, 'max_depth': 9, 'min_samples_leaf': 4, 'min_samples_split': 9}. Best is trial 5 with value: 0.697452053446379.\u001b[0m\n",
      "\u001b[32m[I 2023-08-24 13:17:28,872]\u001b[0m Trial 30 finished with value: 0.384087324099023 and parameters: {'n_estimators': 85, 'max_depth': 3, 'min_samples_leaf': 7, 'min_samples_split': 6}. Best is trial 5 with value: 0.697452053446379.\u001b[0m\n",
      "\u001b[32m[I 2023-08-24 13:17:32,467]\u001b[0m Trial 31 finished with value: 0.6682231458947561 and parameters: {'n_estimators': 72, 'max_depth': 9, 'min_samples_leaf': 4, 'min_samples_split': 7}. Best is trial 5 with value: 0.697452053446379.\u001b[0m\n",
      "\u001b[32m[I 2023-08-24 13:17:35,736]\u001b[0m Trial 32 finished with value: 0.6941884448973372 and parameters: {'n_estimators': 56, 'max_depth': 10, 'min_samples_leaf': 2, 'min_samples_split': 3}. Best is trial 5 with value: 0.697452053446379.\u001b[0m\n",
      "\u001b[32m[I 2023-08-24 13:17:39,011]\u001b[0m Trial 33 finished with value: 0.6930590201139248 and parameters: {'n_estimators': 55, 'max_depth': 10, 'min_samples_leaf': 2, 'min_samples_split': 3}. Best is trial 5 with value: 0.697452053446379.\u001b[0m\n",
      "\u001b[32m[I 2023-08-24 13:17:41,475]\u001b[0m Trial 34 finished with value: 0.6320560785926725 and parameters: {'n_estimators': 54, 'max_depth': 7, 'min_samples_leaf': 2, 'min_samples_split': 3}. Best is trial 5 with value: 0.697452053446379.\u001b[0m\n",
      "\u001b[32m[I 2023-08-24 13:17:43,518]\u001b[0m Trial 35 finished with value: 0.6649363785235748 and parameters: {'n_estimators': 40, 'max_depth': 8, 'min_samples_leaf': 2, 'min_samples_split': 3}. Best is trial 5 with value: 0.697452053446379.\u001b[0m\n",
      "\u001b[32m[I 2023-08-24 13:17:46,208]\u001b[0m Trial 36 finished with value: 0.6928209871345821 and parameters: {'n_estimators': 43, 'max_depth': 10, 'min_samples_leaf': 1, 'min_samples_split': 3}. Best is trial 5 with value: 0.697452053446379.\u001b[0m\n",
      "\u001b[32m[I 2023-08-24 13:17:49,657]\u001b[0m Trial 37 finished with value: 0.6861593459668349 and parameters: {'n_estimators': 57, 'max_depth': 9, 'min_samples_leaf': 1, 'min_samples_split': 2}. Best is trial 5 with value: 0.697452053446379.\u001b[0m\n",
      "\u001b[32m[I 2023-08-24 13:17:50,658]\u001b[0m Trial 38 finished with value: 0.5710466061967112 and parameters: {'n_estimators': 25, 'max_depth': 10, 'min_samples_leaf': 13, 'min_samples_split': 4}. Best is trial 5 with value: 0.697452053446379.\u001b[0m\n",
      "\u001b[32m[I 2023-08-24 13:17:51,927]\u001b[0m Trial 39 finished with value: 0.45056021231401633 and parameters: {'n_estimators': 47, 'max_depth': 4, 'min_samples_leaf': 10, 'min_samples_split': 3}. Best is trial 5 with value: 0.697452053446379.\u001b[0m\n",
      "\u001b[32m[I 2023-08-24 13:17:53,705]\u001b[0m Trial 40 finished with value: 0.6472152204743484 and parameters: {'n_estimators': 36, 'max_depth': 9, 'min_samples_leaf': 2, 'min_samples_split': 17}. Best is trial 5 with value: 0.697452053446379.\u001b[0m\n",
      "\u001b[32m[I 2023-08-24 13:17:57,462]\u001b[0m Trial 41 finished with value: 0.698014962257343 and parameters: {'n_estimators': 59, 'max_depth': 10, 'min_samples_leaf': 1, 'min_samples_split': 2}. Best is trial 41 with value: 0.698014962257343.\u001b[0m\n",
      "\u001b[32m[I 2023-08-24 13:18:01,269]\u001b[0m Trial 42 finished with value: 0.6974927428146113 and parameters: {'n_estimators': 60, 'max_depth': 10, 'min_samples_leaf': 1, 'min_samples_split': 2}. Best is trial 41 with value: 0.698014962257343.\u001b[0m\n",
      "\u001b[32m[I 2023-08-24 13:18:04,960]\u001b[0m Trial 43 finished with value: 0.6947003794747026 and parameters: {'n_estimators': 63, 'max_depth': 10, 'min_samples_leaf': 2, 'min_samples_split': 2}. Best is trial 41 with value: 0.698014962257343.\u001b[0m\n",
      "\u001b[32m[I 2023-08-24 13:18:07,825]\u001b[0m Trial 44 finished with value: 0.6509790257091683 and parameters: {'n_estimators': 61, 'max_depth': 8, 'min_samples_leaf': 4, 'min_samples_split': 2}. Best is trial 41 with value: 0.698014962257343.\u001b[0m\n",
      "\u001b[32m[I 2023-08-24 13:18:10,674]\u001b[0m Trial 45 finished with value: 0.6851204047886541 and parameters: {'n_estimators': 49, 'max_depth': 9, 'min_samples_leaf': 1, 'min_samples_split': 2}. Best is trial 41 with value: 0.698014962257343.\u001b[0m\n",
      "\u001b[32m[I 2023-08-24 13:18:13,648]\u001b[0m Trial 46 finished with value: 0.651737592069828 and parameters: {'n_estimators': 61, 'max_depth': 10, 'min_samples_leaf': 6, 'min_samples_split': 4}. Best is trial 41 with value: 0.698014962257343.\u001b[0m\n",
      "\u001b[32m[I 2023-08-24 13:18:16,866]\u001b[0m Trial 47 finished with value: 0.6826461463587312 and parameters: {'n_estimators': 59, 'max_depth': 9, 'min_samples_leaf': 2, 'min_samples_split': 4}. Best is trial 41 with value: 0.698014962257343.\u001b[0m\n",
      "\u001b[32m[I 2023-08-24 13:18:18,488]\u001b[0m Trial 48 finished with value: 0.380168456504396 and parameters: {'n_estimators': 77, 'max_depth': 3, 'min_samples_leaf': 17, 'min_samples_split': 2}. Best is trial 41 with value: 0.698014962257343.\u001b[0m\n",
      "\u001b[32m[I 2023-08-24 13:18:20,397]\u001b[0m Trial 49 finished with value: 0.4796118273357334 and parameters: {'n_estimators': 65, 'max_depth': 5, 'min_samples_leaf': 20, 'min_samples_split': 14}. Best is trial 41 with value: 0.698014962257343.\u001b[0m\n",
      "\u001b[32m[I 2023-08-24 13:18:22,770]\u001b[0m Trial 50 finished with value: 0.6255651932266566 and parameters: {'n_estimators': 51, 'max_depth': 10, 'min_samples_leaf': 6, 'min_samples_split': 20}. Best is trial 41 with value: 0.698014962257343.\u001b[0m\n",
      "\u001b[32m[I 2023-08-24 13:18:26,043]\u001b[0m Trial 51 finished with value: 0.6941884448973372 and parameters: {'n_estimators': 56, 'max_depth': 10, 'min_samples_leaf': 2, 'min_samples_split': 3}. Best is trial 41 with value: 0.698014962257343.\u001b[0m\n",
      "\u001b[32m[I 2023-08-24 13:18:29,570]\u001b[0m Trial 52 finished with value: 0.6965454983810953 and parameters: {'n_estimators': 58, 'max_depth': 10, 'min_samples_leaf': 1, 'min_samples_split': 4}. Best is trial 41 with value: 0.698014962257343.\u001b[0m\n",
      "\u001b[32m[I 2023-08-24 13:18:33,030]\u001b[0m Trial 53 finished with value: 0.6822567633770615 and parameters: {'n_estimators': 63, 'max_depth': 10, 'min_samples_leaf': 3, 'min_samples_split': 5}. Best is trial 41 with value: 0.698014962257343.\u001b[0m\n",
      "\u001b[32m[I 2023-08-24 13:18:36,912]\u001b[0m Trial 54 finished with value: 0.6868183720063324 and parameters: {'n_estimators': 69, 'max_depth': 9, 'min_samples_leaf': 1, 'min_samples_split': 4}. Best is trial 41 with value: 0.698014962257343.\u001b[0m\n",
      "\u001b[32m[I 2023-08-24 13:18:39,289]\u001b[0m Trial 55 finished with value: 0.6726403944885221 and parameters: {'n_estimators': 45, 'max_depth': 10, 'min_samples_leaf': 4, 'min_samples_split': 2}. Best is trial 41 with value: 0.698014962257343.\u001b[0m\n",
      "\u001b[32m[I 2023-08-24 13:18:41,841]\u001b[0m Trial 56 finished with value: 0.6550949101432453 and parameters: {'n_estimators': 53, 'max_depth': 8, 'min_samples_leaf': 3, 'min_samples_split': 6}. Best is trial 41 with value: 0.698014962257343.\u001b[0m\n",
      "\u001b[32m[I 2023-08-24 13:18:45,158]\u001b[0m Trial 57 finished with value: 0.6847123100184179 and parameters: {'n_estimators': 59, 'max_depth': 9, 'min_samples_leaf': 1, 'min_samples_split': 4}. Best is trial 41 with value: 0.698014962257343.\u001b[0m\n",
      "\u001b[32m[I 2023-08-24 13:18:46,731]\u001b[0m Trial 58 finished with value: 0.6584310321693453 and parameters: {'n_estimators': 31, 'max_depth': 10, 'min_samples_leaf': 5, 'min_samples_split': 2}. Best is trial 41 with value: 0.698014962257343.\u001b[0m\n",
      "\u001b[32m[I 2023-08-24 13:18:50,280]\u001b[0m Trial 59 finished with value: 0.681757261869502 and parameters: {'n_estimators': 66, 'max_depth': 9, 'min_samples_leaf': 2, 'min_samples_split': 5}. Best is trial 41 with value: 0.698014962257343.\u001b[0m\n",
      "\u001b[32m[I 2023-08-24 13:18:53,668]\u001b[0m Trial 60 finished with value: 0.5484945492106633 and parameters: {'n_estimators': 95, 'max_depth': 7, 'min_samples_leaf': 15, 'min_samples_split': 3}. Best is trial 41 with value: 0.698014962257343.\u001b[0m\n",
      "\u001b[32m[I 2023-08-24 13:18:56,939]\u001b[0m Trial 61 finished with value: 0.6941884448973372 and parameters: {'n_estimators': 56, 'max_depth': 10, 'min_samples_leaf': 2, 'min_samples_split': 3}. Best is trial 41 with value: 0.698014962257343.\u001b[0m\n",
      "\u001b[32m[I 2023-08-24 13:19:00,697]\u001b[0m Trial 62 finished with value: 0.6974305692510551 and parameters: {'n_estimators': 62, 'max_depth': 10, 'min_samples_leaf': 1, 'min_samples_split': 4}. Best is trial 41 with value: 0.698014962257343.\u001b[0m\n",
      "\u001b[32m[I 2023-08-24 13:19:05,133]\u001b[0m Trial 63 finished with value: 0.6998423862039291 and parameters: {'n_estimators': 73, 'max_depth': 10, 'min_samples_leaf': 1, 'min_samples_split': 4}. Best is trial 63 with value: 0.6998423862039291.\u001b[0m\n",
      "\u001b[32m[I 2023-08-24 13:19:09,531]\u001b[0m Trial 64 finished with value: 0.6951105228302156 and parameters: {'n_estimators': 75, 'max_depth': 10, 'min_samples_leaf': 1, 'min_samples_split': 6}. Best is trial 63 with value: 0.6998423862039291.\u001b[0m\n",
      "\u001b[32m[I 2023-08-24 13:19:13,629]\u001b[0m Trial 65 finished with value: 0.6851803091875794 and parameters: {'n_estimators': 75, 'max_depth': 9, 'min_samples_leaf': 1, 'min_samples_split': 6}. Best is trial 63 with value: 0.6998423862039291.\u001b[0m\n",
      "\u001b[32m[I 2023-08-24 13:19:18,034]\u001b[0m Trial 66 finished with value: 0.6840917915364189 and parameters: {'n_estimators': 80, 'max_depth': 10, 'min_samples_leaf': 3, 'min_samples_split': 5}. Best is trial 63 with value: 0.6998423862039291.\u001b[0m\n",
      "\u001b[32m[I 2023-08-24 13:19:21,484]\u001b[0m Trial 67 finished with value: 0.6635113164876063 and parameters: {'n_estimators': 70, 'max_depth': 8, 'min_samples_leaf': 1, 'min_samples_split': 8}. Best is trial 63 with value: 0.6998423862039291.\u001b[0m\n",
      "\u001b[32m[I 2023-08-24 13:19:25,571]\u001b[0m Trial 68 finished with value: 0.6874790791367451 and parameters: {'n_estimators': 73, 'max_depth': 9, 'min_samples_leaf': 1, 'min_samples_split': 4}. Best is trial 63 with value: 0.6998423862039291.\u001b[0m\n",
      "\u001b[32m[I 2023-08-24 13:19:30,183]\u001b[0m Trial 69 finished with value: 0.6839252523890661 and parameters: {'n_estimators': 84, 'max_depth': 10, 'min_samples_leaf': 3, 'min_samples_split': 6}. Best is trial 63 with value: 0.6998423862039291.\u001b[0m\n",
      "\u001b[32m[I 2023-08-24 13:19:30,879]\u001b[0m Trial 70 finished with value: 0.17589361989326982 and parameters: {'n_estimators': 67, 'max_depth': 1, 'min_samples_leaf': 4, 'min_samples_split': 5}. Best is trial 63 with value: 0.6998423862039291.\u001b[0m\n",
      "\u001b[32m[I 2023-08-24 13:19:34,765]\u001b[0m Trial 71 finished with value: 0.6986433294137447 and parameters: {'n_estimators': 64, 'max_depth': 10, 'min_samples_leaf': 1, 'min_samples_split': 4}. Best is trial 63 with value: 0.6998423862039291.\u001b[0m\n",
      "\u001b[32m[I 2023-08-24 13:19:39,246]\u001b[0m Trial 72 finished with value: 0.6999125300231832 and parameters: {'n_estimators': 74, 'max_depth': 10, 'min_samples_leaf': 1, 'min_samples_split': 4}. Best is trial 72 with value: 0.6999125300231832.\u001b[0m\n",
      "\u001b[32m[I 2023-08-24 13:19:42,886]\u001b[0m Trial 73 finished with value: 0.6962210891148469 and parameters: {'n_estimators': 60, 'max_depth': 10, 'min_samples_leaf': 1, 'min_samples_split': 4}. Best is trial 72 with value: 0.6999125300231832.\u001b[0m\n",
      "\u001b[32m[I 2023-08-24 13:19:43,527]\u001b[0m Trial 74 finished with value: 0.6562828605207807 and parameters: {'n_estimators': 12, 'max_depth': 9, 'min_samples_leaf': 3, 'min_samples_split': 5}. Best is trial 72 with value: 0.6999125300231832.\u001b[0m\n",
      "\u001b[32m[I 2023-08-24 13:19:45,595]\u001b[0m Trial 75 finished with value: 0.5851104116954479 and parameters: {'n_estimators': 51, 'max_depth': 10, 'min_samples_leaf': 12, 'min_samples_split': 3}. Best is trial 72 with value: 0.6999125300231832.\u001b[0m\n",
      "\u001b[32m[I 2023-08-24 13:19:48,777]\u001b[0m Trial 76 finished with value: 0.6566463851005825 and parameters: {'n_estimators': 62, 'max_depth': 10, 'min_samples_leaf': 2, 'min_samples_split': 17}. Best is trial 72 with value: 0.6999125300231832.\u001b[0m\n",
      "\u001b[32m[I 2023-08-24 13:19:52,582]\u001b[0m Trial 77 finished with value: 0.686951736163084 and parameters: {'n_estimators': 68, 'max_depth': 9, 'min_samples_leaf': 1, 'min_samples_split': 4}. Best is trial 72 with value: 0.6999125300231832.\u001b[0m\n",
      "\u001b[32m[I 2023-08-24 13:19:55,659]\u001b[0m Trial 78 finished with value: 0.5788101659911559 and parameters: {'n_estimators': 80, 'max_depth': 6, 'min_samples_leaf': 2, 'min_samples_split': 10}. Best is trial 72 with value: 0.6999125300231832.\u001b[0m\n",
      "\u001b[32m[I 2023-08-24 13:19:59,372]\u001b[0m Trial 79 finished with value: 0.6911054152408747 and parameters: {'n_estimators': 65, 'max_depth': 10, 'min_samples_leaf': 1, 'min_samples_split': 8}. Best is trial 72 with value: 0.6999125300231832.\u001b[0m\n",
      "\u001b[32m[I 2023-08-24 13:20:02,378]\u001b[0m Trial 80 finished with value: 0.6725165972295446 and parameters: {'n_estimators': 58, 'max_depth': 9, 'min_samples_leaf': 3, 'min_samples_split': 4}. Best is trial 72 with value: 0.6999125300231832.\u001b[0m\n",
      "\u001b[32m[I 2023-08-24 13:20:05,960]\u001b[0m Trial 81 finished with value: 0.6967410584565574 and parameters: {'n_estimators': 59, 'max_depth': 10, 'min_samples_leaf': 1, 'min_samples_split': 4}. Best is trial 72 with value: 0.6999125300231832.\u001b[0m\n",
      "\u001b[32m[I 2023-08-24 13:20:11,911]\u001b[0m Trial 82 finished with value: 0.6984289576547577 and parameters: {'n_estimators': 100, 'max_depth': 10, 'min_samples_leaf': 1, 'min_samples_split': 5}. Best is trial 72 with value: 0.6999125300231832.\u001b[0m\n",
      "\u001b[32m[I 2023-08-24 13:20:17,684]\u001b[0m Trial 83 finished with value: 0.697452053446379 and parameters: {'n_estimators': 98, 'max_depth': 10, 'min_samples_leaf': 2, 'min_samples_split': 3}. Best is trial 72 with value: 0.6999125300231832.\u001b[0m\n",
      "\u001b[32m[I 2023-08-24 13:20:23,551]\u001b[0m Trial 84 finished with value: 0.697452053446379 and parameters: {'n_estimators': 98, 'max_depth': 10, 'min_samples_leaf': 2, 'min_samples_split': 2}. Best is trial 72 with value: 0.6999125300231832.\u001b[0m\n",
      "\u001b[32m[I 2023-08-24 13:20:29,522]\u001b[0m Trial 85 finished with value: 0.6971112897986005 and parameters: {'n_estimators': 100, 'max_depth': 10, 'min_samples_leaf': 2, 'min_samples_split': 2}. Best is trial 72 with value: 0.6999125300231832.\u001b[0m\n",
      "\u001b[32m[I 2023-08-24 13:20:34,588]\u001b[0m Trial 86 finished with value: 0.6753226129988488 and parameters: {'n_estimators': 97, 'max_depth': 9, 'min_samples_leaf': 3, 'min_samples_split': 2}. Best is trial 72 with value: 0.6999125300231832.\u001b[0m\n",
      "\u001b[32m[I 2023-08-24 13:20:39,077]\u001b[0m Trial 87 finished with value: 0.6584478567051153 and parameters: {'n_estimators': 92, 'max_depth': 9, 'min_samples_leaf': 5, 'min_samples_split': 3}. Best is trial 72 with value: 0.6999125300231832.\u001b[0m\n",
      "\u001b[32m[I 2023-08-24 13:20:44,129]\u001b[0m Trial 88 finished with value: 0.6786317389558647 and parameters: {'n_estimators': 95, 'max_depth': 10, 'min_samples_leaf': 4, 'min_samples_split': 3}. Best is trial 72 with value: 0.6999125300231832.\u001b[0m\n",
      "\u001b[32m[I 2023-08-24 13:20:49,887]\u001b[0m Trial 89 finished with value: 0.697452053446379 and parameters: {'n_estimators': 98, 'max_depth': 10, 'min_samples_leaf': 2, 'min_samples_split': 2}. Best is trial 72 with value: 0.6999125300231832.\u001b[0m\n",
      "\u001b[32m[I 2023-08-24 13:20:54,204]\u001b[0m Trial 90 finished with value: 0.6320495056991472 and parameters: {'n_estimators': 94, 'max_depth': 10, 'min_samples_leaf': 8, 'min_samples_split': 2}. Best is trial 72 with value: 0.6999125300231832.\u001b[0m\n",
      "\u001b[32m[I 2023-08-24 13:21:00,089]\u001b[0m Trial 91 finished with value: 0.697452053446379 and parameters: {'n_estimators': 98, 'max_depth': 10, 'min_samples_leaf': 2, 'min_samples_split': 3}. Best is trial 72 with value: 0.6999125300231832.\u001b[0m\n",
      "\u001b[32m[I 2023-08-24 13:21:05,964]\u001b[0m Trial 92 finished with value: 0.697452053446379 and parameters: {'n_estimators': 98, 'max_depth': 10, 'min_samples_leaf': 2, 'min_samples_split': 2}. Best is trial 72 with value: 0.6999125300231832.\u001b[0m\n",
      "\u001b[32m[I 2023-08-24 13:21:11,056]\u001b[0m Trial 93 finished with value: 0.6946689512009192 and parameters: {'n_estimators': 87, 'max_depth': 10, 'min_samples_leaf': 2, 'min_samples_split': 5}. Best is trial 72 with value: 0.6999125300231832.\u001b[0m\n",
      "\u001b[32m[I 2023-08-24 13:21:16,069]\u001b[0m Trial 94 finished with value: 0.6756511481026359 and parameters: {'n_estimators': 96, 'max_depth': 9, 'min_samples_leaf': 3, 'min_samples_split': 2}. Best is trial 72 with value: 0.6999125300231832.\u001b[0m\n",
      "\u001b[32m[I 2023-08-24 13:21:21,411]\u001b[0m Trial 95 finished with value: 0.6976319284760042 and parameters: {'n_estimators': 91, 'max_depth': 10, 'min_samples_leaf': 2, 'min_samples_split': 2}. Best is trial 72 with value: 0.6999125300231832.\u001b[0m\n",
      "\u001b[32m[I 2023-08-24 13:21:22,857]\u001b[0m Trial 96 finished with value: 0.31046313414190463 and parameters: {'n_estimators': 90, 'max_depth': 2, 'min_samples_leaf': 2, 'min_samples_split': 3}. Best is trial 72 with value: 0.6999125300231832.\u001b[0m\n",
      "\u001b[32m[I 2023-08-24 13:21:29,050]\u001b[0m Trial 97 finished with value: 0.701832274193753 and parameters: {'n_estimators': 100, 'max_depth': 10, 'min_samples_leaf': 1, 'min_samples_split': 3}. Best is trial 97 with value: 0.701832274193753.\u001b[0m\n",
      "\u001b[32m[I 2023-08-24 13:21:33,946]\u001b[0m Trial 98 finished with value: 0.6899255785434172 and parameters: {'n_estimators': 86, 'max_depth': 9, 'min_samples_leaf': 1, 'min_samples_split': 3}. Best is trial 97 with value: 0.701832274193753.\u001b[0m\n",
      "\u001b[32m[I 2023-08-24 13:21:40,136]\u001b[0m Trial 99 finished with value: 0.701832274193753 and parameters: {'n_estimators': 100, 'max_depth': 10, 'min_samples_leaf': 1, 'min_samples_split': 3}. Best is trial 97 with value: 0.701832274193753.\u001b[0m\n"
     ]
    },
    {
     "name": "stdout",
     "output_type": "stream",
     "text": [
      "Best r2:  0.701832274193753\n",
      "Best trial: {'n_estimators': 100, 'max_depth': 10, 'min_samples_leaf': 1, 'min_samples_split': 3}\n"
     ]
    }
   ],
   "source": [
    "sampler = TPESampler()\n",
    "study = optuna.create_study(\n",
    "    study_name=\"rf_parameter_opt\",\n",
    "    direction=\"maximize\",\n",
    "    sampler=sampler,\n",
    ")\n",
    "\n",
    "study.optimize(lambda trial : objectiveRF(trial, Ni_X_train, Ni_y_train), n_trials=100)\n",
    "print(\"Best r2: \", study.best_value)\n",
    "print(\"Best trial:\", study.best_trial.params)"
   ]
  },
  {
   "cell_type": "code",
   "execution_count": 45,
   "id": "d71c01fb",
   "metadata": {},
   "outputs": [
    {
     "data": {
      "application/vnd.plotly.v1+json": {
       "config": {
        "plotlyServerURL": "https://plot.ly"
       },
       "data": [
        {
         "dimensions": [
          {
           "label": "Objective Value",
           "range": [
            0.1728420953505174,
            0.701832274193753
           ],
           "values": [
            0.44900060578220724,
            0.5806800095731913,
            0.6281386955882889,
            0.46099280646566865,
            0.5448276527919222,
            0.697452053446379,
            0.5704413916553855,
            0.1761952219920037,
            0.1728420953505174,
            0.30983613890944256,
            0.609218994930342,
            0.6290710735467646,
            0.6451854926993577,
            0.644587738715569,
            0.5815205903202877,
            0.5262183623809407,
            0.6638163567967267,
            0.6635209899566666,
            0.5223163005447476,
            0.6458545165509315,
            0.5798414900412048,
            0.6757763336820001,
            0.6821951044770547,
            0.6733673634967078,
            0.6210090982541345,
            0.6564896477947375,
            0.666858181876927,
            0.5640980720386091,
            0.6418111747076439,
            0.6645139134018008,
            0.384087324099023,
            0.6682231458947561,
            0.6941884448973372,
            0.6930590201139248,
            0.6320560785926725,
            0.6649363785235748,
            0.6928209871345821,
            0.6861593459668349,
            0.5710466061967112,
            0.45056021231401633,
            0.6472152204743484,
            0.698014962257343,
            0.6974927428146113,
            0.6947003794747026,
            0.6509790257091683,
            0.6851204047886541,
            0.651737592069828,
            0.6826461463587312,
            0.380168456504396,
            0.4796118273357334,
            0.6255651932266566,
            0.6941884448973372,
            0.6965454983810953,
            0.6822567633770615,
            0.6868183720063324,
            0.6726403944885221,
            0.6550949101432453,
            0.6847123100184179,
            0.6584310321693453,
            0.681757261869502,
            0.5484945492106633,
            0.6941884448973372,
            0.6974305692510551,
            0.6998423862039291,
            0.6951105228302156,
            0.6851803091875794,
            0.6840917915364189,
            0.6635113164876063,
            0.6874790791367451,
            0.6839252523890661,
            0.17589361989326982,
            0.6986433294137447,
            0.6999125300231832,
            0.6962210891148469,
            0.6562828605207807,
            0.5851104116954479,
            0.6566463851005825,
            0.686951736163084,
            0.5788101659911559,
            0.6911054152408747,
            0.6725165972295446,
            0.6967410584565574,
            0.6984289576547577,
            0.697452053446379,
            0.697452053446379,
            0.6971112897986005,
            0.6753226129988488,
            0.6584478567051153,
            0.6786317389558647,
            0.697452053446379,
            0.6320495056991472,
            0.697452053446379,
            0.697452053446379,
            0.6946689512009192,
            0.6756511481026359,
            0.6976319284760042,
            0.31046313414190463,
            0.701832274193753,
            0.6899255785434172,
            0.701832274193753
           ]
          },
          {
           "label": "max_depth",
           "range": [
            1,
            10
           ],
           "values": [
            4,
            7,
            9,
            4,
            10,
            10,
            10,
            1,
            1,
            2,
            7,
            8,
            8,
            8,
            6,
            9,
            10,
            10,
            5,
            9,
            6,
            10,
            10,
            9,
            10,
            8,
            9,
            7,
            10,
            9,
            3,
            9,
            10,
            10,
            7,
            8,
            10,
            9,
            10,
            4,
            9,
            10,
            10,
            10,
            8,
            9,
            10,
            9,
            3,
            5,
            10,
            10,
            10,
            10,
            9,
            10,
            8,
            9,
            10,
            9,
            7,
            10,
            10,
            10,
            10,
            9,
            10,
            8,
            9,
            10,
            1,
            10,
            10,
            10,
            9,
            10,
            10,
            9,
            6,
            10,
            9,
            10,
            10,
            10,
            10,
            10,
            9,
            9,
            10,
            10,
            10,
            10,
            10,
            10,
            9,
            10,
            2,
            10,
            9,
            10
           ]
          },
          {
           "label": "min_samples_leaf",
           "range": [
            1,
            20
           ],
           "values": [
            11,
            11,
            8,
            3,
            16,
            2,
            13,
            9,
            17,
            3,
            1,
            7,
            5,
            5,
            1,
            20,
            5,
            5,
            3,
            6,
            1,
            4,
            3,
            3,
            9,
            3,
            2,
            13,
            7,
            4,
            7,
            4,
            2,
            2,
            2,
            2,
            1,
            1,
            13,
            10,
            2,
            1,
            1,
            2,
            4,
            1,
            6,
            2,
            17,
            20,
            6,
            2,
            1,
            3,
            1,
            4,
            3,
            1,
            5,
            2,
            15,
            2,
            1,
            1,
            1,
            1,
            3,
            1,
            1,
            3,
            4,
            1,
            1,
            1,
            3,
            12,
            2,
            1,
            2,
            1,
            3,
            1,
            1,
            2,
            2,
            2,
            3,
            5,
            4,
            2,
            8,
            2,
            2,
            2,
            3,
            2,
            2,
            1,
            1,
            1
           ]
          },
          {
           "label": "min_samples_split",
           "range": [
            2,
            20
           ],
           "values": [
            8,
            2,
            4,
            14,
            4,
            4,
            2,
            13,
            16,
            6,
            20,
            9,
            9,
            10,
            7,
            11,
            5,
            5,
            2,
            6,
            4,
            5,
            7,
            7,
            3,
            7,
            12,
            8,
            5,
            9,
            6,
            7,
            3,
            3,
            3,
            3,
            3,
            2,
            4,
            3,
            17,
            2,
            2,
            2,
            2,
            2,
            4,
            4,
            2,
            14,
            20,
            3,
            4,
            5,
            4,
            2,
            6,
            4,
            2,
            5,
            3,
            3,
            4,
            4,
            6,
            6,
            5,
            8,
            4,
            6,
            5,
            4,
            4,
            4,
            5,
            3,
            17,
            4,
            10,
            8,
            4,
            4,
            5,
            3,
            2,
            2,
            2,
            3,
            3,
            2,
            2,
            3,
            2,
            5,
            2,
            2,
            3,
            3,
            3,
            3
           ]
          },
          {
           "label": "n_estimators",
           "range": [
            10,
            100
           ],
           "values": [
            48,
            58,
            76,
            61,
            20,
            98,
            34,
            80,
            31,
            10,
            97,
            99,
            98,
            84,
            88,
            71,
            90,
            67,
            91,
            52,
            42,
            68,
            88,
            72,
            81,
            64,
            89,
            77,
            93,
            48,
            85,
            72,
            56,
            55,
            54,
            40,
            43,
            57,
            25,
            47,
            36,
            59,
            60,
            63,
            61,
            49,
            61,
            59,
            77,
            65,
            51,
            56,
            58,
            63,
            69,
            45,
            53,
            59,
            31,
            66,
            95,
            56,
            62,
            73,
            75,
            75,
            80,
            70,
            73,
            84,
            67,
            64,
            74,
            60,
            12,
            51,
            62,
            68,
            80,
            65,
            58,
            59,
            100,
            98,
            98,
            100,
            97,
            92,
            95,
            98,
            94,
            98,
            98,
            87,
            96,
            91,
            90,
            100,
            86,
            100
           ]
          }
         ],
         "labelangle": 30,
         "labelside": "bottom",
         "line": {
          "color": [
           0.44900060578220724,
           0.5806800095731913,
           0.6281386955882889,
           0.46099280646566865,
           0.5448276527919222,
           0.697452053446379,
           0.5704413916553855,
           0.1761952219920037,
           0.1728420953505174,
           0.30983613890944256,
           0.609218994930342,
           0.6290710735467646,
           0.6451854926993577,
           0.644587738715569,
           0.5815205903202877,
           0.5262183623809407,
           0.6638163567967267,
           0.6635209899566666,
           0.5223163005447476,
           0.6458545165509315,
           0.5798414900412048,
           0.6757763336820001,
           0.6821951044770547,
           0.6733673634967078,
           0.6210090982541345,
           0.6564896477947375,
           0.666858181876927,
           0.5640980720386091,
           0.6418111747076439,
           0.6645139134018008,
           0.384087324099023,
           0.6682231458947561,
           0.6941884448973372,
           0.6930590201139248,
           0.6320560785926725,
           0.6649363785235748,
           0.6928209871345821,
           0.6861593459668349,
           0.5710466061967112,
           0.45056021231401633,
           0.6472152204743484,
           0.698014962257343,
           0.6974927428146113,
           0.6947003794747026,
           0.6509790257091683,
           0.6851204047886541,
           0.651737592069828,
           0.6826461463587312,
           0.380168456504396,
           0.4796118273357334,
           0.6255651932266566,
           0.6941884448973372,
           0.6965454983810953,
           0.6822567633770615,
           0.6868183720063324,
           0.6726403944885221,
           0.6550949101432453,
           0.6847123100184179,
           0.6584310321693453,
           0.681757261869502,
           0.5484945492106633,
           0.6941884448973372,
           0.6974305692510551,
           0.6998423862039291,
           0.6951105228302156,
           0.6851803091875794,
           0.6840917915364189,
           0.6635113164876063,
           0.6874790791367451,
           0.6839252523890661,
           0.17589361989326982,
           0.6986433294137447,
           0.6999125300231832,
           0.6962210891148469,
           0.6562828605207807,
           0.5851104116954479,
           0.6566463851005825,
           0.686951736163084,
           0.5788101659911559,
           0.6911054152408747,
           0.6725165972295446,
           0.6967410584565574,
           0.6984289576547577,
           0.697452053446379,
           0.697452053446379,
           0.6971112897986005,
           0.6753226129988488,
           0.6584478567051153,
           0.6786317389558647,
           0.697452053446379,
           0.6320495056991472,
           0.697452053446379,
           0.697452053446379,
           0.6946689512009192,
           0.6756511481026359,
           0.6976319284760042,
           0.31046313414190463,
           0.701832274193753,
           0.6899255785434172,
           0.701832274193753
          ],
          "colorbar": {
           "title": {
            "text": "Objective Value"
           }
          },
          "colorscale": [
           [
            0,
            "rgb(247,251,255)"
           ],
           [
            0.125,
            "rgb(222,235,247)"
           ],
           [
            0.25,
            "rgb(198,219,239)"
           ],
           [
            0.375,
            "rgb(158,202,225)"
           ],
           [
            0.5,
            "rgb(107,174,214)"
           ],
           [
            0.625,
            "rgb(66,146,198)"
           ],
           [
            0.75,
            "rgb(33,113,181)"
           ],
           [
            0.875,
            "rgb(8,81,156)"
           ],
           [
            1,
            "rgb(8,48,107)"
           ]
          ],
          "reversescale": false,
          "showscale": true
         },
         "type": "parcoords"
        }
       ],
       "layout": {
        "template": {
         "data": {
          "bar": [
           {
            "error_x": {
             "color": "#2a3f5f"
            },
            "error_y": {
             "color": "#2a3f5f"
            },
            "marker": {
             "line": {
              "color": "#E5ECF6",
              "width": 0.5
             },
             "pattern": {
              "fillmode": "overlay",
              "size": 10,
              "solidity": 0.2
             }
            },
            "type": "bar"
           }
          ],
          "barpolar": [
           {
            "marker": {
             "line": {
              "color": "#E5ECF6",
              "width": 0.5
             },
             "pattern": {
              "fillmode": "overlay",
              "size": 10,
              "solidity": 0.2
             }
            },
            "type": "barpolar"
           }
          ],
          "carpet": [
           {
            "aaxis": {
             "endlinecolor": "#2a3f5f",
             "gridcolor": "white",
             "linecolor": "white",
             "minorgridcolor": "white",
             "startlinecolor": "#2a3f5f"
            },
            "baxis": {
             "endlinecolor": "#2a3f5f",
             "gridcolor": "white",
             "linecolor": "white",
             "minorgridcolor": "white",
             "startlinecolor": "#2a3f5f"
            },
            "type": "carpet"
           }
          ],
          "choropleth": [
           {
            "colorbar": {
             "outlinewidth": 0,
             "ticks": ""
            },
            "type": "choropleth"
           }
          ],
          "contour": [
           {
            "colorbar": {
             "outlinewidth": 0,
             "ticks": ""
            },
            "colorscale": [
             [
              0,
              "#0d0887"
             ],
             [
              0.1111111111111111,
              "#46039f"
             ],
             [
              0.2222222222222222,
              "#7201a8"
             ],
             [
              0.3333333333333333,
              "#9c179e"
             ],
             [
              0.4444444444444444,
              "#bd3786"
             ],
             [
              0.5555555555555556,
              "#d8576b"
             ],
             [
              0.6666666666666666,
              "#ed7953"
             ],
             [
              0.7777777777777778,
              "#fb9f3a"
             ],
             [
              0.8888888888888888,
              "#fdca26"
             ],
             [
              1,
              "#f0f921"
             ]
            ],
            "type": "contour"
           }
          ],
          "contourcarpet": [
           {
            "colorbar": {
             "outlinewidth": 0,
             "ticks": ""
            },
            "type": "contourcarpet"
           }
          ],
          "heatmap": [
           {
            "colorbar": {
             "outlinewidth": 0,
             "ticks": ""
            },
            "colorscale": [
             [
              0,
              "#0d0887"
             ],
             [
              0.1111111111111111,
              "#46039f"
             ],
             [
              0.2222222222222222,
              "#7201a8"
             ],
             [
              0.3333333333333333,
              "#9c179e"
             ],
             [
              0.4444444444444444,
              "#bd3786"
             ],
             [
              0.5555555555555556,
              "#d8576b"
             ],
             [
              0.6666666666666666,
              "#ed7953"
             ],
             [
              0.7777777777777778,
              "#fb9f3a"
             ],
             [
              0.8888888888888888,
              "#fdca26"
             ],
             [
              1,
              "#f0f921"
             ]
            ],
            "type": "heatmap"
           }
          ],
          "heatmapgl": [
           {
            "colorbar": {
             "outlinewidth": 0,
             "ticks": ""
            },
            "colorscale": [
             [
              0,
              "#0d0887"
             ],
             [
              0.1111111111111111,
              "#46039f"
             ],
             [
              0.2222222222222222,
              "#7201a8"
             ],
             [
              0.3333333333333333,
              "#9c179e"
             ],
             [
              0.4444444444444444,
              "#bd3786"
             ],
             [
              0.5555555555555556,
              "#d8576b"
             ],
             [
              0.6666666666666666,
              "#ed7953"
             ],
             [
              0.7777777777777778,
              "#fb9f3a"
             ],
             [
              0.8888888888888888,
              "#fdca26"
             ],
             [
              1,
              "#f0f921"
             ]
            ],
            "type": "heatmapgl"
           }
          ],
          "histogram": [
           {
            "marker": {
             "pattern": {
              "fillmode": "overlay",
              "size": 10,
              "solidity": 0.2
             }
            },
            "type": "histogram"
           }
          ],
          "histogram2d": [
           {
            "colorbar": {
             "outlinewidth": 0,
             "ticks": ""
            },
            "colorscale": [
             [
              0,
              "#0d0887"
             ],
             [
              0.1111111111111111,
              "#46039f"
             ],
             [
              0.2222222222222222,
              "#7201a8"
             ],
             [
              0.3333333333333333,
              "#9c179e"
             ],
             [
              0.4444444444444444,
              "#bd3786"
             ],
             [
              0.5555555555555556,
              "#d8576b"
             ],
             [
              0.6666666666666666,
              "#ed7953"
             ],
             [
              0.7777777777777778,
              "#fb9f3a"
             ],
             [
              0.8888888888888888,
              "#fdca26"
             ],
             [
              1,
              "#f0f921"
             ]
            ],
            "type": "histogram2d"
           }
          ],
          "histogram2dcontour": [
           {
            "colorbar": {
             "outlinewidth": 0,
             "ticks": ""
            },
            "colorscale": [
             [
              0,
              "#0d0887"
             ],
             [
              0.1111111111111111,
              "#46039f"
             ],
             [
              0.2222222222222222,
              "#7201a8"
             ],
             [
              0.3333333333333333,
              "#9c179e"
             ],
             [
              0.4444444444444444,
              "#bd3786"
             ],
             [
              0.5555555555555556,
              "#d8576b"
             ],
             [
              0.6666666666666666,
              "#ed7953"
             ],
             [
              0.7777777777777778,
              "#fb9f3a"
             ],
             [
              0.8888888888888888,
              "#fdca26"
             ],
             [
              1,
              "#f0f921"
             ]
            ],
            "type": "histogram2dcontour"
           }
          ],
          "mesh3d": [
           {
            "colorbar": {
             "outlinewidth": 0,
             "ticks": ""
            },
            "type": "mesh3d"
           }
          ],
          "parcoords": [
           {
            "line": {
             "colorbar": {
              "outlinewidth": 0,
              "ticks": ""
             }
            },
            "type": "parcoords"
           }
          ],
          "pie": [
           {
            "automargin": true,
            "type": "pie"
           }
          ],
          "scatter": [
           {
            "marker": {
             "colorbar": {
              "outlinewidth": 0,
              "ticks": ""
             }
            },
            "type": "scatter"
           }
          ],
          "scatter3d": [
           {
            "line": {
             "colorbar": {
              "outlinewidth": 0,
              "ticks": ""
             }
            },
            "marker": {
             "colorbar": {
              "outlinewidth": 0,
              "ticks": ""
             }
            },
            "type": "scatter3d"
           }
          ],
          "scattercarpet": [
           {
            "marker": {
             "colorbar": {
              "outlinewidth": 0,
              "ticks": ""
             }
            },
            "type": "scattercarpet"
           }
          ],
          "scattergeo": [
           {
            "marker": {
             "colorbar": {
              "outlinewidth": 0,
              "ticks": ""
             }
            },
            "type": "scattergeo"
           }
          ],
          "scattergl": [
           {
            "marker": {
             "colorbar": {
              "outlinewidth": 0,
              "ticks": ""
             }
            },
            "type": "scattergl"
           }
          ],
          "scattermapbox": [
           {
            "marker": {
             "colorbar": {
              "outlinewidth": 0,
              "ticks": ""
             }
            },
            "type": "scattermapbox"
           }
          ],
          "scatterpolar": [
           {
            "marker": {
             "colorbar": {
              "outlinewidth": 0,
              "ticks": ""
             }
            },
            "type": "scatterpolar"
           }
          ],
          "scatterpolargl": [
           {
            "marker": {
             "colorbar": {
              "outlinewidth": 0,
              "ticks": ""
             }
            },
            "type": "scatterpolargl"
           }
          ],
          "scatterternary": [
           {
            "marker": {
             "colorbar": {
              "outlinewidth": 0,
              "ticks": ""
             }
            },
            "type": "scatterternary"
           }
          ],
          "surface": [
           {
            "colorbar": {
             "outlinewidth": 0,
             "ticks": ""
            },
            "colorscale": [
             [
              0,
              "#0d0887"
             ],
             [
              0.1111111111111111,
              "#46039f"
             ],
             [
              0.2222222222222222,
              "#7201a8"
             ],
             [
              0.3333333333333333,
              "#9c179e"
             ],
             [
              0.4444444444444444,
              "#bd3786"
             ],
             [
              0.5555555555555556,
              "#d8576b"
             ],
             [
              0.6666666666666666,
              "#ed7953"
             ],
             [
              0.7777777777777778,
              "#fb9f3a"
             ],
             [
              0.8888888888888888,
              "#fdca26"
             ],
             [
              1,
              "#f0f921"
             ]
            ],
            "type": "surface"
           }
          ],
          "table": [
           {
            "cells": {
             "fill": {
              "color": "#EBF0F8"
             },
             "line": {
              "color": "white"
             }
            },
            "header": {
             "fill": {
              "color": "#C8D4E3"
             },
             "line": {
              "color": "white"
             }
            },
            "type": "table"
           }
          ]
         },
         "layout": {
          "annotationdefaults": {
           "arrowcolor": "#2a3f5f",
           "arrowhead": 0,
           "arrowwidth": 1
          },
          "autotypenumbers": "strict",
          "coloraxis": {
           "colorbar": {
            "outlinewidth": 0,
            "ticks": ""
           }
          },
          "colorscale": {
           "diverging": [
            [
             0,
             "#8e0152"
            ],
            [
             0.1,
             "#c51b7d"
            ],
            [
             0.2,
             "#de77ae"
            ],
            [
             0.3,
             "#f1b6da"
            ],
            [
             0.4,
             "#fde0ef"
            ],
            [
             0.5,
             "#f7f7f7"
            ],
            [
             0.6,
             "#e6f5d0"
            ],
            [
             0.7,
             "#b8e186"
            ],
            [
             0.8,
             "#7fbc41"
            ],
            [
             0.9,
             "#4d9221"
            ],
            [
             1,
             "#276419"
            ]
           ],
           "sequential": [
            [
             0,
             "#0d0887"
            ],
            [
             0.1111111111111111,
             "#46039f"
            ],
            [
             0.2222222222222222,
             "#7201a8"
            ],
            [
             0.3333333333333333,
             "#9c179e"
            ],
            [
             0.4444444444444444,
             "#bd3786"
            ],
            [
             0.5555555555555556,
             "#d8576b"
            ],
            [
             0.6666666666666666,
             "#ed7953"
            ],
            [
             0.7777777777777778,
             "#fb9f3a"
            ],
            [
             0.8888888888888888,
             "#fdca26"
            ],
            [
             1,
             "#f0f921"
            ]
           ],
           "sequentialminus": [
            [
             0,
             "#0d0887"
            ],
            [
             0.1111111111111111,
             "#46039f"
            ],
            [
             0.2222222222222222,
             "#7201a8"
            ],
            [
             0.3333333333333333,
             "#9c179e"
            ],
            [
             0.4444444444444444,
             "#bd3786"
            ],
            [
             0.5555555555555556,
             "#d8576b"
            ],
            [
             0.6666666666666666,
             "#ed7953"
            ],
            [
             0.7777777777777778,
             "#fb9f3a"
            ],
            [
             0.8888888888888888,
             "#fdca26"
            ],
            [
             1,
             "#f0f921"
            ]
           ]
          },
          "colorway": [
           "#636efa",
           "#EF553B",
           "#00cc96",
           "#ab63fa",
           "#FFA15A",
           "#19d3f3",
           "#FF6692",
           "#B6E880",
           "#FF97FF",
           "#FECB52"
          ],
          "font": {
           "color": "#2a3f5f"
          },
          "geo": {
           "bgcolor": "white",
           "lakecolor": "white",
           "landcolor": "#E5ECF6",
           "showlakes": true,
           "showland": true,
           "subunitcolor": "white"
          },
          "hoverlabel": {
           "align": "left"
          },
          "hovermode": "closest",
          "mapbox": {
           "style": "light"
          },
          "paper_bgcolor": "white",
          "plot_bgcolor": "#E5ECF6",
          "polar": {
           "angularaxis": {
            "gridcolor": "white",
            "linecolor": "white",
            "ticks": ""
           },
           "bgcolor": "#E5ECF6",
           "radialaxis": {
            "gridcolor": "white",
            "linecolor": "white",
            "ticks": ""
           }
          },
          "scene": {
           "xaxis": {
            "backgroundcolor": "#E5ECF6",
            "gridcolor": "white",
            "gridwidth": 2,
            "linecolor": "white",
            "showbackground": true,
            "ticks": "",
            "zerolinecolor": "white"
           },
           "yaxis": {
            "backgroundcolor": "#E5ECF6",
            "gridcolor": "white",
            "gridwidth": 2,
            "linecolor": "white",
            "showbackground": true,
            "ticks": "",
            "zerolinecolor": "white"
           },
           "zaxis": {
            "backgroundcolor": "#E5ECF6",
            "gridcolor": "white",
            "gridwidth": 2,
            "linecolor": "white",
            "showbackground": true,
            "ticks": "",
            "zerolinecolor": "white"
           }
          },
          "shapedefaults": {
           "line": {
            "color": "#2a3f5f"
           }
          },
          "ternary": {
           "aaxis": {
            "gridcolor": "white",
            "linecolor": "white",
            "ticks": ""
           },
           "baxis": {
            "gridcolor": "white",
            "linecolor": "white",
            "ticks": ""
           },
           "bgcolor": "#E5ECF6",
           "caxis": {
            "gridcolor": "white",
            "linecolor": "white",
            "ticks": ""
           }
          },
          "title": {
           "x": 0.05
          },
          "xaxis": {
           "automargin": true,
           "gridcolor": "white",
           "linecolor": "white",
           "ticks": "",
           "title": {
            "standoff": 15
           },
           "zerolinecolor": "white",
           "zerolinewidth": 2
          },
          "yaxis": {
           "automargin": true,
           "gridcolor": "white",
           "linecolor": "white",
           "ticks": "",
           "title": {
            "standoff": 15
           },
           "zerolinecolor": "white",
           "zerolinewidth": 2
          }
         }
        },
        "title": {
         "text": "Parallel Coordinate Plot"
        }
       }
      }
     },
     "metadata": {},
     "output_type": "display_data"
    }
   ],
   "source": [
    "optuna.visualization.plot_parallel_coordinate(study)"
   ]
  },
  {
   "cell_type": "code",
   "execution_count": 46,
   "id": "1d419df8",
   "metadata": {},
   "outputs": [
    {
     "name": "stdout",
     "output_type": "stream",
     "text": [
      "Best trial: {'n_estimators': 100, 'max_depth': 10, 'min_samples_leaf': 1, 'min_samples_split': 3}\n"
     ]
    },
    {
     "data": {
      "text/plain": [
       "100"
      ]
     },
     "execution_count": 46,
     "metadata": {},
     "output_type": "execute_result"
    }
   ],
   "source": [
    "print(\"Best trial:\", study.best_trial.params)\n",
    "study.best_trial.params[\"n_estimators\"]"
   ]
  },
  {
   "cell_type": "code",
   "execution_count": 47,
   "id": "ffefef6c",
   "metadata": {},
   "outputs": [
    {
     "data": {
      "text/html": [
       "<style>#sk-container-id-3 {color: black;}#sk-container-id-3 pre{padding: 0;}#sk-container-id-3 div.sk-toggleable {background-color: white;}#sk-container-id-3 label.sk-toggleable__label {cursor: pointer;display: block;width: 100%;margin-bottom: 0;padding: 0.3em;box-sizing: border-box;text-align: center;}#sk-container-id-3 label.sk-toggleable__label-arrow:before {content: \"▸\";float: left;margin-right: 0.25em;color: #696969;}#sk-container-id-3 label.sk-toggleable__label-arrow:hover:before {color: black;}#sk-container-id-3 div.sk-estimator:hover label.sk-toggleable__label-arrow:before {color: black;}#sk-container-id-3 div.sk-toggleable__content {max-height: 0;max-width: 0;overflow: hidden;text-align: left;background-color: #f0f8ff;}#sk-container-id-3 div.sk-toggleable__content pre {margin: 0.2em;color: black;border-radius: 0.25em;background-color: #f0f8ff;}#sk-container-id-3 input.sk-toggleable__control:checked~div.sk-toggleable__content {max-height: 200px;max-width: 100%;overflow: auto;}#sk-container-id-3 input.sk-toggleable__control:checked~label.sk-toggleable__label-arrow:before {content: \"▾\";}#sk-container-id-3 div.sk-estimator input.sk-toggleable__control:checked~label.sk-toggleable__label {background-color: #d4ebff;}#sk-container-id-3 div.sk-label input.sk-toggleable__control:checked~label.sk-toggleable__label {background-color: #d4ebff;}#sk-container-id-3 input.sk-hidden--visually {border: 0;clip: rect(1px 1px 1px 1px);clip: rect(1px, 1px, 1px, 1px);height: 1px;margin: -1px;overflow: hidden;padding: 0;position: absolute;width: 1px;}#sk-container-id-3 div.sk-estimator {font-family: monospace;background-color: #f0f8ff;border: 1px dotted black;border-radius: 0.25em;box-sizing: border-box;margin-bottom: 0.5em;}#sk-container-id-3 div.sk-estimator:hover {background-color: #d4ebff;}#sk-container-id-3 div.sk-parallel-item::after {content: \"\";width: 100%;border-bottom: 1px solid gray;flex-grow: 1;}#sk-container-id-3 div.sk-label:hover label.sk-toggleable__label {background-color: #d4ebff;}#sk-container-id-3 div.sk-serial::before {content: \"\";position: absolute;border-left: 1px solid gray;box-sizing: border-box;top: 0;bottom: 0;left: 50%;z-index: 0;}#sk-container-id-3 div.sk-serial {display: flex;flex-direction: column;align-items: center;background-color: white;padding-right: 0.2em;padding-left: 0.2em;position: relative;}#sk-container-id-3 div.sk-item {position: relative;z-index: 1;}#sk-container-id-3 div.sk-parallel {display: flex;align-items: stretch;justify-content: center;background-color: white;position: relative;}#sk-container-id-3 div.sk-item::before, #sk-container-id-3 div.sk-parallel-item::before {content: \"\";position: absolute;border-left: 1px solid gray;box-sizing: border-box;top: 0;bottom: 0;left: 50%;z-index: -1;}#sk-container-id-3 div.sk-parallel-item {display: flex;flex-direction: column;z-index: 1;position: relative;background-color: white;}#sk-container-id-3 div.sk-parallel-item:first-child::after {align-self: flex-end;width: 50%;}#sk-container-id-3 div.sk-parallel-item:last-child::after {align-self: flex-start;width: 50%;}#sk-container-id-3 div.sk-parallel-item:only-child::after {width: 0;}#sk-container-id-3 div.sk-dashed-wrapped {border: 1px dashed gray;margin: 0 0.4em 0.5em 0.4em;box-sizing: border-box;padding-bottom: 0.4em;background-color: white;}#sk-container-id-3 div.sk-label label {font-family: monospace;font-weight: bold;display: inline-block;line-height: 1.2em;}#sk-container-id-3 div.sk-label-container {text-align: center;}#sk-container-id-3 div.sk-container {/* jupyter's `normalize.less` sets `[hidden] { display: none; }` but bootstrap.min.css set `[hidden] { display: none !important; }` so we also need the `!important` here to be able to override the default hidden behavior on the sphinx rendered scikit-learn.org. See: https://github.com/scikit-learn/scikit-learn/issues/21755 */display: inline-block !important;position: relative;}#sk-container-id-3 div.sk-text-repr-fallback {display: none;}</style><div id=\"sk-container-id-3\" class=\"sk-top-container\"><div class=\"sk-text-repr-fallback\"><pre>RandomForestRegressor(max_depth=10, min_samples_split=3, random_state=42)</pre><b>In a Jupyter environment, please rerun this cell to show the HTML representation or trust the notebook. <br />On GitHub, the HTML representation is unable to render, please try loading this page with nbviewer.org.</b></div><div class=\"sk-container\" hidden><div class=\"sk-item\"><div class=\"sk-estimator sk-toggleable\"><input class=\"sk-toggleable__control sk-hidden--visually\" id=\"sk-estimator-id-3\" type=\"checkbox\" checked><label for=\"sk-estimator-id-3\" class=\"sk-toggleable__label sk-toggleable__label-arrow\">RandomForestRegressor</label><div class=\"sk-toggleable__content\"><pre>RandomForestRegressor(max_depth=10, min_samples_split=3, random_state=42)</pre></div></div></div></div></div>"
      ],
      "text/plain": [
       "RandomForestRegressor(max_depth=10, min_samples_split=3, random_state=42)"
      ]
     },
     "execution_count": 47,
     "metadata": {},
     "output_type": "execute_result"
    }
   ],
   "source": [
    "rf_params = {\n",
    "    \"random_state\": 42,\n",
    "    #\"learning_rate\": 0.1,\n",
    "    \"n_estimators\": study.best_trial.params[\"n_estimators\"],\n",
    "    \"max_depth\": study.best_trial.params[\"max_depth\"],\n",
    "    \"min_samples_leaf\": study.best_trial.params[\"min_samples_leaf\"],\n",
    "    \"min_samples_split\": study.best_trial.params[\"min_samples_split\"],\n",
    "    #\"subsample\": study.best_trial.params[\"subsample\"]\n",
    "}\n",
    "\n",
    "rf = RandomForestRegressor(**rf_params)\n",
    "rf.fit(Ni_X_train, Ni_y_train)"
   ]
  },
  {
   "cell_type": "code",
   "execution_count": 48,
   "id": "4c1a69d2",
   "metadata": {},
   "outputs": [],
   "source": [
    "y_train_pred = rf.predict(Ni_X_train)\n",
    "y_test_pred = rf.predict(Ni_X_test)"
   ]
  },
  {
   "cell_type": "code",
   "execution_count": 49,
   "id": "0f707a20",
   "metadata": {},
   "outputs": [
    {
     "name": "stdout",
     "output_type": "stream",
     "text": [
      "Train RMSE:  0.3327148910180018\n",
      "Test RMSE:  0.9283615241109634\n"
     ]
    }
   ],
   "source": [
    "print(\"Train RMSE: \", np.sqrt(mean_squared_error(Ni_y_train, y_train_pred)))\n",
    "print(\"Test RMSE: \", np.sqrt(mean_squared_error(Ni_y_test, y_test_pred)))"
   ]
  },
  {
   "cell_type": "code",
   "execution_count": 50,
   "id": "641d78f4",
   "metadata": {},
   "outputs": [
    {
     "name": "stdout",
     "output_type": "stream",
     "text": [
      "Train R2:  0.9230484996381099\n",
      "Test R2:  0.4189129260645472\n"
     ]
    }
   ],
   "source": [
    "print(\"Train R2: \", r2_score(Ni_y_train, y_train_pred))\n",
    "print(\"Test R2: \", r2_score(Ni_y_test, y_test_pred))"
   ]
  },
  {
   "cell_type": "code",
   "execution_count": 51,
   "id": "dd1670cb",
   "metadata": {},
   "outputs": [
    {
     "data": {
      "image/png": "[encoded data removed]",
      "text/plain": [
       "<Figure size 640x480 with 1 Axes>"
      ]
     },
     "metadata": {},
     "output_type": "display_data"
    }
   ],
   "source": [
    "plt.scatter(y_train_pred, np.array(Ni_y_train), color=\"orange\", alpha=0.3)\n",
    "plt.scatter(y_test_pred, np.array(Ni_y_test), color=\"green\", alpha=0.4)\n",
    "plt.axis(\"auto\") # scaled, tight, auto, image, square\n",
    "# plt.xlim([0, 1.5]) \n",
    "# plt.ylim(0, None) \n",
    "plt.xlabel('Predicted Values')\n",
    "plt.ylabel('Actual Values')\n",
    "\n",
    "# Add y=x line\n",
    "plt.plot([0, 4.0], [0, 4.0], color='red', linestyle='-')\n",
    "\n",
    "plt.show()"
   ]
  }
 ],
 "metadata": {
  "kernelspec": {
   "display_name": "base",
   "language": "python",
   "name": "python3"
  },
  "language_info": {
   "codemirror_mode": {
    "name": "ipython",
    "version": 3
   },
   "file_extension": ".py",
   "mimetype": "text/x-python",
   "name": "python",
   "nbconvert_exporter": "python",
   "pygments_lexer": "ipython3",
   "version": "3.8.11"
  },
  "vscode": {
   "interpreter": {
    "hash": "ba68d4d491ed2bf1e98a1b536323f5ca7371de2084cca3d5786e07ce079a51c3"
   }
  }
 },
 "nbformat": 4,
 "nbformat_minor": 5
}
