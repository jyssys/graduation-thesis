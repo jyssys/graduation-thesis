{
 "cells": [
  {
   "attachments": {},
   "cell_type": "markdown",
   "id": "451911be",
   "metadata": {},
   "source": [
    "#### Library import"
   ]
  },
  {
   "cell_type": "code",
   "execution_count": 78,
   "id": "8a394942",
   "metadata": {},
   "outputs": [],
   "source": [
    "import os\n",
    "import pandas as pd\n",
    "import numpy as np\n",
    "import matplotlib.pyplot as plt\n",
    "%matplotlib inline\n",
    "import seaborn as sns\n",
    "import tensorflow as tf\n",
    "import missingno as msno\n",
    "\n",
    "import warnings\n",
    "warnings.filterwarnings('ignore')\n",
    "\n",
    "from sklearn.model_selection import train_test_split\n",
    "from sklearn.model_selection import GridSearchCV\n",
    "from sklearn.metrics import mean_squared_error, r2_score\n",
    "from sklearn.preprocessing import StandardScaler, MinMaxScaler, RobustScaler\n",
    "from sklearn.ensemble import RandomForestRegressor, GradientBoostingRegressor, ExtraTreesRegressor\n",
    "from sklearn.model_selection import KFold\n",
    "from lightgbm import LGBMRegressor\n",
    "from xgboost import XGBRegressor\n",
    "from ngboost import NGBRegressor\n",
    "from scipy.stats import norm, skew\n",
    "\n",
    "from matplotlib.ticker import FormatStrFormatter\n",
    "\n",
    "from tensorflow import keras\n",
    "\n",
    "import re\n",
    "from tqdm import tqdm"
   ]
  },
  {
   "attachments": {},
   "cell_type": "markdown",
   "id": "31a13d68",
   "metadata": {},
   "source": [
    "#### GPU setting"
   ]
  },
  {
   "cell_type": "code",
   "execution_count": 79,
   "id": "cff3cada",
   "metadata": {},
   "outputs": [],
   "source": [
    "from tensorflow.compat.v1 import ConfigProto\n",
    "from tensorflow.compat.v1 import InteractiveSession"
   ]
  },
  {
   "cell_type": "code",
   "execution_count": 80,
   "id": "fb88e9c0",
   "metadata": {},
   "outputs": [],
   "source": [
    "config = ConfigProto()\n",
    "config.gpu_options.per_process_gpu_memory_fraction = 0.4\n",
    "session = InteractiveSession(config = config)"
   ]
  },
  {
   "cell_type": "code",
   "execution_count": 81,
   "id": "ea8f0f47",
   "metadata": {},
   "outputs": [
    {
     "name": "stdout",
     "output_type": "stream",
     "text": [
      "[name: \"/device:CPU:0\"\n",
      "device_type: \"CPU\"\n",
      "memory_limit: 268435456\n",
      "locality {\n",
      "}\n",
      "incarnation: 14533977236520359369\n",
      ", name: \"/device:GPU:0\"\n",
      "device_type: \"GPU\"\n",
      "memory_limit: 3435973836\n",
      "locality {\n",
      "  bus_id: 1\n",
      "  links {\n",
      "  }\n",
      "}\n",
      "incarnation: 9405912484099421179\n",
      "physical_device_desc: \"device: 0, name: NVIDIA GeForce RTX 3060 Ti, pci bus id: 0000:07:00.0, compute capability: 8.6\"\n",
      "]\n"
     ]
    }
   ],
   "source": [
    "physical_devices = tf.config.list_physical_devices('GPU')\n",
    "physical_devices\n",
    "\n",
    "from tensorflow.python.client import device_lib\n",
    "\n",
    "print(device_lib.list_local_devices())"
   ]
  },
  {
   "cell_type": "code",
   "execution_count": 82,
   "id": "cd001f36",
   "metadata": {},
   "outputs": [],
   "source": [
    "import os\n",
    "\n",
    "os.environ[\"CUDA_VISIBLE_DEVICES\"]=\"0\"\n",
    "gpus = tf.config.experimental.list_physical_devices('GPU')\n",
    "if gpus:\n",
    "    try:\n",
    "        tf.config.experimental.set_memory_growth(gpus[0], True)\n",
    "    except RuntimeError as e:\n",
    "        print(e)"
   ]
  },
  {
   "attachments": {},
   "cell_type": "markdown",
   "id": "cb740f81",
   "metadata": {},
   "source": [
    "#### Data import and preprocessing"
   ]
  },
  {
   "cell_type": "code",
   "execution_count": 83,
   "id": "9288345d",
   "metadata": {
    "scrolled": true
   },
   "outputs": [
    {
     "data": {
      "text/plain": [
       "Index(['OBJECTID_x', 'ID', 'pH', 'As', 'Cd', 'Ni', 'Pb', 'Zn', 'Hg', 'slope',\n",
       "       'altitude', 'profile_curve', 'profile_c_num', 'profile_c_abs',\n",
       "       'planform_curve', 'planform_c_num', 'planform_c_abs', 'HYDGRP',\n",
       "       'HYDGRP_A', 'HYDGRP_B', 'HYDGRP_C', 'HYDGRP_D', 'ANION_EXCL', 'SOL_CRK',\n",
       "       'SOL_K1', 'CLAY1', 'SILT1', 'SAND1', 'ROCK1', 'SOL_EC1', 'distance'],\n",
       "      dtype='object')"
      ]
     },
     "execution_count": 83,
     "metadata": {},
     "output_type": "execute_result"
    }
   ],
   "source": [
    "data = pd.read_csv(\"data/data.csv\")\n",
    "data.columns"
   ]
  },
  {
   "cell_type": "code",
   "execution_count": 84,
   "id": "bbf87a23",
   "metadata": {},
   "outputs": [
    {
     "data": {
      "text/plain": [
       "Index(['pH', 'As', 'Cd', 'Ni', 'Pb', 'Zn', 'Hg', 'slope', 'altitude',\n",
       "       'profile_curve', 'planform_curve', 'HYDGRP_A', 'HYDGRP_B', 'HYDGRP_C',\n",
       "       'HYDGRP_D', 'SOL_K1', 'CLAY1', 'SILT1', 'SAND1', 'ROCK1', 'distance'],\n",
       "      dtype='object')"
      ]
     },
     "execution_count": 84,
     "metadata": {},
     "output_type": "execute_result"
    }
   ],
   "source": [
    "data = data.drop(['OBJECTID_x','ID','HYDGRP','profile_c_num', 'profile_c_abs','planform_c_num', 'planform_c_abs','ANION_EXCL','SOL_CRK','SOL_EC1'], axis = 1)\n",
    "data.columns"
   ]
  },
  {
   "cell_type": "code",
   "execution_count": 85,
   "id": "3cb8e77e",
   "metadata": {},
   "outputs": [],
   "source": [
    "As = data\n",
    "Cd = data\n",
    "Ni = data"
   ]
  },
  {
   "cell_type": "code",
   "execution_count": 86,
   "id": "45ec138e",
   "metadata": {},
   "outputs": [],
   "source": [
    "As = As.drop([\"Cd\", \"Ni\", \"Pb\", \"Zn\", \"Hg\"], axis = 1)\n",
    "Cd = Cd.drop([\"As\", \"Ni\", \"Pb\", \"Zn\", \"Hg\"], axis = 1)\n",
    "Ni = Ni.drop([\"As\", \"Cd\", \"Pb\", \"Zn\", \"Hg\"], axis = 1)"
   ]
  },
  {
   "cell_type": "code",
   "execution_count": 87,
   "id": "69e10383",
   "metadata": {},
   "outputs": [
    {
     "name": "stdout",
     "output_type": "stream",
     "text": [
      "(1458, 16)\n",
      "(1458, 16)\n",
      "(1458, 16)\n"
     ]
    }
   ],
   "source": [
    "print(As.shape)\n",
    "print(Cd.shape)\n",
    "print(Ni.shape)"
   ]
  },
  {
   "attachments": {},
   "cell_type": "markdown",
   "id": "2b5fd2cd",
   "metadata": {},
   "source": [
    "#### Oversampling by SMOGN (SMOTE Regression)"
   ]
  },
  {
   "cell_type": "code",
   "execution_count": 88,
   "id": "b664ef07",
   "metadata": {},
   "outputs": [],
   "source": [
    "import smogn"
   ]
  },
  {
   "cell_type": "code",
   "execution_count": 89,
   "id": "0797c71f",
   "metadata": {},
   "outputs": [
    {
     "name": "stderr",
     "output_type": "stream",
     "text": [
      "dist_matrix:   0%|          | 1/248 [00:00<00:25,  9.52it/s]"
     ]
    },
    {
     "name": "stderr",
     "output_type": "stream",
     "text": [
      "dist_matrix: 100%|##########| 248/248 [00:22<00:00, 10.97it/s]\n",
      "synth_matrix: 100%|##########| 248/248 [00:01<00:00, 222.97it/s]\n",
      "r_index: 100%|##########| 223/223 [00:00<00:00, 644.37it/s]\n",
      "dist_matrix: 100%|##########| 259/259 [00:24<00:00, 10.62it/s]\n",
      "synth_matrix: 100%|##########| 259/259 [00:01<00:00, 225.76it/s]\n",
      "r_index: 100%|##########| 155/155 [00:00<00:00, 667.95it/s]\n",
      "dist_matrix: 100%|##########| 242/242 [00:21<00:00, 11.34it/s]\n",
      "synth_matrix: 100%|##########| 242/242 [00:01<00:00, 168.02it/s]\n"
     ]
    }
   ],
   "source": [
    "As_smogn = smogn.smoter(data = As, y = 'As', samp_method = 'extreme')\n",
    "Cd_smogn = smogn.smoter(data = Cd, y = 'Cd', samp_method = 'extreme')\n",
    "Ni_smogn = smogn.smoter(data = Ni, y = 'Ni', samp_method = 'extreme')"
   ]
  },
  {
   "cell_type": "code",
   "execution_count": 90,
   "id": "cba746a8",
   "metadata": {},
   "outputs": [
    {
     "name": "stdout",
     "output_type": "stream",
     "text": [
      "(2183, 16)\n",
      "(2151, 16)\n",
      "(2183, 16)\n"
     ]
    }
   ],
   "source": [
    "print(As_smogn.shape)\n",
    "print(Cd_smogn.shape)\n",
    "print(Ni_smogn.shape)"
   ]
  },
  {
   "attachments": {},
   "cell_type": "markdown",
   "id": "ed72a9b1",
   "metadata": {},
   "source": [
    "#### Eliminate outlier and train / test split"
   ]
  },
  {
   "cell_type": "code",
   "execution_count": 91,
   "id": "43604a42",
   "metadata": {},
   "outputs": [],
   "source": [
    "def eli_outlier(data, value):\n",
    "    q1 = data[value].quantile(0.25)\n",
    "    q3 = data[value].quantile(0.75)\n",
    "\n",
    "    iqr = q3 - q1\n",
    "\n",
    "    q1_condition = data[value] < q1-1.5*iqr\n",
    "    q3_condition = data[value] > q3+1.5*iqr\n",
    "\n",
    "    reset_q1_index = data[q1_condition].index\n",
    "    reset_q3_index = data[q3_condition].index\n",
    "\n",
    "    data.drop(reset_q1_index, inplace = True)\n",
    "    data.drop(reset_q3_index, inplace = True)\n",
    "\n",
    "    return data"
   ]
  },
  {
   "cell_type": "code",
   "execution_count": 92,
   "id": "9b7632f2",
   "metadata": {},
   "outputs": [],
   "source": [
    "As_ros = eli_outlier(As_smogn, \"As\")\n",
    "Cd_ros = eli_outlier(Cd_smogn, \"Cd\")\n",
    "Ni_ros = eli_outlier(Ni_smogn, \"Ni\")"
   ]
  },
  {
   "cell_type": "code",
   "execution_count": 93,
   "id": "f8609469",
   "metadata": {},
   "outputs": [],
   "source": [
    "As_X = As_ros.drop([\"As\"], axis=1)\n",
    "Cd_X = Cd_ros.drop([\"Cd\"], axis=1)\n",
    "Ni_X = Ni_ros.drop([\"Ni\"], axis=1)\n",
    "\n",
    "As_y = As_ros[\"As\"]\n",
    "Cd_y = Cd_ros[\"Cd\"]\n",
    "Ni_y = Ni_ros[\"Ni\"]"
   ]
  },
  {
   "cell_type": "code",
   "execution_count": 94,
   "id": "7237a19a",
   "metadata": {},
   "outputs": [],
   "source": [
    "As_y = np.log1p(As_ros[\"As\"])\n",
    "Cd_y = np.log1p(Cd_ros[\"Cd\"])\n",
    "Ni_y = np.log1p(Ni_ros[\"Ni\"])"
   ]
  },
  {
   "cell_type": "code",
   "execution_count": 95,
   "id": "ce87d06a",
   "metadata": {},
   "outputs": [
    {
     "name": "stdout",
     "output_type": "stream",
     "text": [
      "(1732, 15)\n",
      "(1762, 15)\n",
      "(2078, 15)\n"
     ]
    }
   ],
   "source": [
    "print(As_X.shape)\n",
    "print(Cd_X.shape)\n",
    "print(Ni_X.shape)"
   ]
  },
  {
   "attachments": {},
   "cell_type": "markdown",
   "id": "c92e5bb6",
   "metadata": {},
   "source": [
    "StandardScaler"
   ]
  },
  {
   "cell_type": "code",
   "execution_count": 96,
   "id": "fbb3f6f7",
   "metadata": {},
   "outputs": [
    {
     "data": {
      "text/plain": [
       "' from sklearn.preprocessing import StandardScaler\\n\\nscaler = StandardScaler()\\n\\nAs_X_train, As_X_test, As_y_train, As_y_test = train_test_split(As_X, As_y, test_size=0.2, random_state=42)\\nCd_X_train, Cd_X_test, Cd_y_train, Cd_y_test = train_test_split(Cd_X, Cd_y, test_size=0.2, random_state=42)\\nNi_X_train, Ni_X_test, Ni_y_train, Ni_y_test = train_test_split(Ni_X, Ni_y, test_size=0.2, random_state=42)\\n\\nAs_X_train = scaler.fit_transform(As_X_train)\\nAs_X_test = scaler.fit_transform(As_X_test)\\n\\nCd_X_train = scaler.fit_transform(Cd_X_train)\\nCd_X_test = scaler.fit_transform(Cd_X_test)\\n\\nNi_X_train = scaler.fit_transform(Ni_X_train)\\nNi_X_test = scaler.fit_transform(Ni_X_test) '"
      ]
     },
     "execution_count": 96,
     "metadata": {},
     "output_type": "execute_result"
    }
   ],
   "source": [
    "''' from sklearn.preprocessing import StandardScaler\n",
    "\n",
    "scaler = StandardScaler()\n",
    "\n",
    "As_X_train, As_X_test, As_y_train, As_y_test = train_test_split(As_X, As_y, test_size=0.2, random_state=42)\n",
    "Cd_X_train, Cd_X_test, Cd_y_train, Cd_y_test = train_test_split(Cd_X, Cd_y, test_size=0.2, random_state=42)\n",
    "Ni_X_train, Ni_X_test, Ni_y_train, Ni_y_test = train_test_split(Ni_X, Ni_y, test_size=0.2, random_state=42)\n",
    "\n",
    "As_X_train = scaler.fit_transform(As_X_train)\n",
    "As_X_test = scaler.fit_transform(As_X_test)\n",
    "\n",
    "Cd_X_train = scaler.fit_transform(Cd_X_train)\n",
    "Cd_X_test = scaler.fit_transform(Cd_X_test)\n",
    "\n",
    "Ni_X_train = scaler.fit_transform(Ni_X_train)\n",
    "Ni_X_test = scaler.fit_transform(Ni_X_test) '''"
   ]
  },
  {
   "cell_type": "code",
   "execution_count": 97,
   "id": "416a7027",
   "metadata": {},
   "outputs": [],
   "source": [
    "from sklearn.preprocessing import StandardScaler\n",
    "\n",
    "scaler = StandardScaler()\n",
    "\n",
    "As_X_scaled = scaler.fit_transform(As_X)\n",
    "Cd_X_scaled = scaler.fit_transform(Cd_X)\n",
    "Ni_X_scaled = scaler.fit_transform(Ni_X)\n",
    "\n",
    "As_X_train, As_X_test, As_y_train, As_y_test = train_test_split(As_X_scaled, As_y, test_size=0.2, random_state=42)\n",
    "Cd_X_train, Cd_X_test, Cd_y_train, Cd_y_test = train_test_split(Cd_X_scaled, Cd_y, test_size=0.2, random_state=42)\n",
    "Ni_X_train, Ni_X_test, Ni_y_train, Ni_y_test = train_test_split(Ni_X_scaled, Ni_y, test_size=0.2, random_state=42)"
   ]
  },
  {
   "attachments": {},
   "cell_type": "markdown",
   "id": "2fe0d293",
   "metadata": {},
   "source": [
    "MinMaxScaler"
   ]
  },
  {
   "cell_type": "code",
   "execution_count": 98,
   "id": "e8596f9f",
   "metadata": {},
   "outputs": [],
   "source": [
    "# from sklearn.preprocessing import MinMaxScaler\n",
    "\n",
    "# scaler = MinMaxScaler()\n",
    "# As_X_scaled = scaler.fit_transform(As_X)\n",
    "# Cd_X_scaled = scaler.fit_transform(Cd_X)\n",
    "# Ni_X_scaled = scaler.fit_transform(Ni_X)\n",
    "\n",
    "# As_X_train, As_X_test, As_y_train, As_y_test = train_test_split(As_X_scaled, As_y, test_size=0.2, random_state=42)\n",
    "# Cd_X_train, Cd_X_test, Cd_y_train, Cd_y_test = train_test_split(Cd_X_scaled, Cd_y, test_size=0.2, random_state=42)\n",
    "# Ni_X_train, Ni_X_test, Ni_y_train, Ni_y_test = train_test_split(Ni_X_scaled, Ni_y, test_size=0.2, random_state=42)"
   ]
  },
  {
   "cell_type": "code",
   "execution_count": 99,
   "id": "86ccf2fe",
   "metadata": {},
   "outputs": [
    {
     "name": "stdout",
     "output_type": "stream",
     "text": [
      "(1385, 15)\n",
      "(1409, 15)\n",
      "(1662, 15)\n"
     ]
    }
   ],
   "source": [
    "print(As_X_train.shape)\n",
    "print(Cd_X_train.shape)\n",
    "print(Ni_X_train.shape)"
   ]
  },
  {
   "attachments": {},
   "cell_type": "markdown",
   "id": "bd11b27e",
   "metadata": {},
   "source": [
    "#### 10-Fold Crossvalidation"
   ]
  },
  {
   "cell_type": "code",
   "execution_count": 100,
   "id": "7a765916",
   "metadata": {},
   "outputs": [],
   "source": [
    "kf = KFold(n_splits = 5, random_state = 42, shuffle = True)"
   ]
  },
  {
   "attachments": {},
   "cell_type": "markdown",
   "id": "859638d0",
   "metadata": {},
   "source": [
    "#### Optuna Optimization"
   ]
  },
  {
   "cell_type": "code",
   "execution_count": 101,
   "id": "92a47d83",
   "metadata": {},
   "outputs": [],
   "source": [
    "import optuna\n",
    "\n",
    "from optuna import Trial\n",
    "from optuna.samplers import TPESampler"
   ]
  },
  {
   "cell_type": "code",
   "execution_count": 102,
   "id": "a7669fea",
   "metadata": {},
   "outputs": [],
   "source": [
    "from sklearn.model_selection import cross_val_score\n",
    "\n",
    "def objectiveRF(trial: Trial, X_train, y_train) -> float:\n",
    "    rf_paramas = {\n",
    "        \"random_state\": 42,\n",
    "        #\"learning_rate\": 0.1,\n",
    "        \"n_estimators\": trial.suggest_int(\"n_estimators\", 10, 100),\n",
    "        \"max_depth\": trial.suggest_int(\"max_depth\", 1, 10),\n",
    "        \"min_samples_leaf\": trial.suggest_int(\"min_samples_leaf\", 1, 20),\n",
    "        \"min_samples_split\": trial.suggest_int(\"min_samples_split\", 2, 20),\n",
    "        #\"subsample\": trial.suggest_float(\"subsample\", 0.1, 0.5)\n",
    "    }\n",
    "    \n",
    "    rf = RandomForestRegressor(**rf_paramas)\n",
    "    r2 = cross_val_score(rf, X_train, y_train, scoring = \"r2\", cv = kf)\n",
    "    r2 = r2.mean()\n",
    "    \n",
    "    return r2"
   ]
  },
  {
   "attachments": {},
   "cell_type": "markdown",
   "id": "b0988f46",
   "metadata": {},
   "source": [
    "####  Optimization"
   ]
  },
  {
   "cell_type": "code",
   "execution_count": 103,
   "id": "94f5e00d",
   "metadata": {
    "scrolled": false
   },
   "outputs": [
    {
     "name": "stderr",
     "output_type": "stream",
     "text": [
      "\u001b[32m[I 2023-08-23 21:48:31,408]\u001b[0m A new study created in memory with name: rf_parameter_opt\u001b[0m\n",
      "\u001b[32m[I 2023-08-23 21:48:32,500]\u001b[0m Trial 0 finished with value: 0.3605496063755983 and parameters: {'n_estimators': 75, 'max_depth': 2, 'min_samples_leaf': 16, 'min_samples_split': 20}. Best is trial 0 with value: 0.3605496063755983.\u001b[0m\n",
      "\u001b[32m[I 2023-08-23 21:48:33,384]\u001b[0m Trial 1 finished with value: 0.3615091362131662 and parameters: {'n_estimators': 63, 'max_depth': 2, 'min_samples_leaf': 20, 'min_samples_split': 13}. Best is trial 1 with value: 0.3615091362131662.\u001b[0m\n",
      "\u001b[32m[I 2023-08-23 21:48:34,312]\u001b[0m Trial 2 finished with value: 0.36117765307939 and parameters: {'n_estimators': 66, 'max_depth': 2, 'min_samples_leaf': 20, 'min_samples_split': 16}. Best is trial 1 with value: 0.3615091362131662.\u001b[0m\n",
      "\u001b[32m[I 2023-08-23 21:48:37,074]\u001b[0m Trial 3 finished with value: 0.5485592218245868 and parameters: {'n_estimators': 96, 'max_depth': 6, 'min_samples_leaf': 13, 'min_samples_split': 2}. Best is trial 3 with value: 0.5485592218245868.\u001b[0m\n",
      "\u001b[32m[I 2023-08-23 21:48:37,955]\u001b[0m Trial 4 finished with value: 0.5621057596028063 and parameters: {'n_estimators': 28, 'max_depth': 8, 'min_samples_leaf': 13, 'min_samples_split': 15}. Best is trial 4 with value: 0.5621057596028063.\u001b[0m\n",
      "\u001b[32m[I 2023-08-23 21:48:39,250]\u001b[0m Trial 5 finished with value: 0.48161761726177515 and parameters: {'n_estimators': 58, 'max_depth': 4, 'min_samples_leaf': 18, 'min_samples_split': 17}. Best is trial 4 with value: 0.5621057596028063.\u001b[0m\n",
      "\u001b[32m[I 2023-08-23 21:48:41,553]\u001b[0m Trial 6 finished with value: 0.57066549913302 and parameters: {'n_estimators': 64, 'max_depth': 7, 'min_samples_leaf': 4, 'min_samples_split': 13}. Best is trial 6 with value: 0.57066549913302.\u001b[0m\n",
      "\u001b[32m[I 2023-08-23 21:48:44,375]\u001b[0m Trial 7 finished with value: 0.5708152501134534 and parameters: {'n_estimators': 89, 'max_depth': 8, 'min_samples_leaf': 12, 'min_samples_split': 19}. Best is trial 7 with value: 0.5708152501134534.\u001b[0m\n",
      "\u001b[32m[I 2023-08-23 21:48:44,684]\u001b[0m Trial 8 finished with value: 0.3539789274792297 and parameters: {'n_estimators': 21, 'max_depth': 2, 'min_samples_leaf': 4, 'min_samples_split': 20}. Best is trial 7 with value: 0.5708152501134534.\u001b[0m\n",
      "\u001b[32m[I 2023-08-23 21:48:44,845]\u001b[0m Trial 9 finished with value: 0.19116259136145292 and parameters: {'n_estimators': 16, 'max_depth': 1, 'min_samples_leaf': 12, 'min_samples_split': 4}. Best is trial 7 with value: 0.5708152501134534.\u001b[0m\n",
      "\u001b[32m[I 2023-08-23 21:48:48,571]\u001b[0m Trial 10 finished with value: 0.591693202252871 and parameters: {'n_estimators': 100, 'max_depth': 10, 'min_samples_leaf': 7, 'min_samples_split': 8}. Best is trial 10 with value: 0.591693202252871.\u001b[0m\n",
      "\u001b[32m[I 2023-08-23 21:48:52,015]\u001b[0m Trial 11 finished with value: 0.581912906991158 and parameters: {'n_estimators': 100, 'max_depth': 9, 'min_samples_leaf': 9, 'min_samples_split': 8}. Best is trial 10 with value: 0.591693202252871.\u001b[0m\n",
      "\u001b[32m[I 2023-08-23 21:48:55,581]\u001b[0m Trial 12 finished with value: 0.5867892888983881 and parameters: {'n_estimators': 99, 'max_depth': 10, 'min_samples_leaf': 8, 'min_samples_split': 8}. Best is trial 10 with value: 0.591693202252871.\u001b[0m\n",
      "\u001b[32m[I 2023-08-23 21:48:58,639]\u001b[0m Trial 13 finished with value: 0.5871879291992116 and parameters: {'n_estimators': 85, 'max_depth': 10, 'min_samples_leaf': 8, 'min_samples_split': 8}. Best is trial 10 with value: 0.591693202252871.\u001b[0m\n",
      "\u001b[32m[I 2023-08-23 21:49:01,711]\u001b[0m Trial 14 finished with value: 0.5912934670431111 and parameters: {'n_estimators': 82, 'max_depth': 10, 'min_samples_leaf': 7, 'min_samples_split': 8}. Best is trial 10 with value: 0.591693202252871.\u001b[0m\n",
      "\u001b[32m[I 2023-08-23 21:49:02,972]\u001b[0m Trial 15 finished with value: 0.5185408129253849 and parameters: {'n_estimators': 43, 'max_depth': 5, 'min_samples_leaf': 1, 'min_samples_split': 6}. Best is trial 10 with value: 0.591693202252871.\u001b[0m\n",
      "\u001b[32m[I 2023-08-23 21:49:06,116]\u001b[0m Trial 16 finished with value: 0.5956248728554179 and parameters: {'n_estimators': 79, 'max_depth': 9, 'min_samples_leaf': 5, 'min_samples_split': 10}. Best is trial 16 with value: 0.5956248728554179.\u001b[0m\n",
      "\u001b[32m[I 2023-08-23 21:49:07,805]\u001b[0m Trial 17 finished with value: 0.5838865908229056 and parameters: {'n_estimators': 44, 'max_depth': 8, 'min_samples_leaf': 5, 'min_samples_split': 11}. Best is trial 16 with value: 0.5956248728554179.\u001b[0m\n",
      "\u001b[32m[I 2023-08-23 21:49:11,051]\u001b[0m Trial 18 finished with value: 0.5965842685388222 and parameters: {'n_estimators': 75, 'max_depth': 9, 'min_samples_leaf': 2, 'min_samples_split': 11}. Best is trial 18 with value: 0.5965842685388222.\u001b[0m\n",
      "\u001b[32m[I 2023-08-23 21:49:13,560]\u001b[0m Trial 19 finished with value: 0.5520536010860211 and parameters: {'n_estimators': 75, 'max_depth': 6, 'min_samples_leaf': 1, 'min_samples_split': 11}. Best is trial 18 with value: 0.5965842685388222.\u001b[0m\n",
      "\u001b[32m[I 2023-08-23 21:49:15,434]\u001b[0m Trial 20 finished with value: 0.5717534902143901 and parameters: {'n_estimators': 51, 'max_depth': 7, 'min_samples_leaf': 3, 'min_samples_split': 11}. Best is trial 18 with value: 0.5965842685388222.\u001b[0m\n",
      "\u001b[32m[I 2023-08-23 21:49:18,399]\u001b[0m Trial 21 finished with value: 0.591403382222084 and parameters: {'n_estimators': 77, 'max_depth': 9, 'min_samples_leaf': 6, 'min_samples_split': 10}. Best is trial 18 with value: 0.5965842685388222.\u001b[0m\n",
      "\u001b[32m[I 2023-08-23 21:49:22,154]\u001b[0m Trial 22 finished with value: 0.5948262583648067 and parameters: {'n_estimators': 91, 'max_depth': 9, 'min_samples_leaf': 3, 'min_samples_split': 13}. Best is trial 18 with value: 0.5965842685388222.\u001b[0m\n",
      "\u001b[32m[I 2023-08-23 21:49:25,973]\u001b[0m Trial 23 finished with value: 0.5957307450177464 and parameters: {'n_estimators': 90, 'max_depth': 9, 'min_samples_leaf': 2, 'min_samples_split': 13}. Best is trial 18 with value: 0.5965842685388222.\u001b[0m\n",
      "\u001b[32m[I 2023-08-23 21:49:28,668]\u001b[0m Trial 24 finished with value: 0.5717834249037017 and parameters: {'n_estimators': 73, 'max_depth': 7, 'min_samples_leaf': 2, 'min_samples_split': 14}. Best is trial 18 with value: 0.5965842685388222.\u001b[0m\n",
      "\u001b[32m[I 2023-08-23 21:49:31,938]\u001b[0m Trial 25 finished with value: 0.5952601593744451 and parameters: {'n_estimators': 82, 'max_depth': 9, 'min_samples_leaf': 5, 'min_samples_split': 10}. Best is trial 18 with value: 0.5965842685388222.\u001b[0m\n",
      "\u001b[32m[I 2023-08-23 21:49:34,668]\u001b[0m Trial 26 finished with value: 0.5819011090447329 and parameters: {'n_estimators': 68, 'max_depth': 8, 'min_samples_leaf': 1, 'min_samples_split': 17}. Best is trial 18 with value: 0.5965842685388222.\u001b[0m\n",
      "\u001b[32m[I 2023-08-23 21:49:37,235]\u001b[0m Trial 27 finished with value: 0.5243427254025684 and parameters: {'n_estimators': 90, 'max_depth': 5, 'min_samples_leaf': 3, 'min_samples_split': 6}. Best is trial 18 with value: 0.5965842685388222.\u001b[0m\n",
      "\u001b[32m[I 2023-08-23 21:49:39,065]\u001b[0m Trial 28 finished with value: 0.577691140907944 and parameters: {'n_estimators': 54, 'max_depth': 9, 'min_samples_leaf': 10, 'min_samples_split': 12}. Best is trial 18 with value: 0.5965842685388222.\u001b[0m\n",
      "\u001b[32m[I 2023-08-23 21:49:40,765]\u001b[0m Trial 29 finished with value: 0.4841753838722517 and parameters: {'n_estimators': 72, 'max_depth': 4, 'min_samples_leaf': 5, 'min_samples_split': 10}. Best is trial 18 with value: 0.5965842685388222.\u001b[0m\n",
      "\u001b[32m[I 2023-08-23 21:49:43,157]\u001b[0m Trial 30 finished with value: 0.5562449156401839 and parameters: {'n_estimators': 82, 'max_depth': 7, 'min_samples_leaf': 15, 'min_samples_split': 15}. Best is trial 18 with value: 0.5965842685388222.\u001b[0m\n",
      "\u001b[32m[I 2023-08-23 21:49:46,373]\u001b[0m Trial 31 finished with value: 0.595456144207477 and parameters: {'n_estimators': 80, 'max_depth': 9, 'min_samples_leaf': 5, 'min_samples_split': 10}. Best is trial 18 with value: 0.5965842685388222.\u001b[0m\n",
      "\u001b[32m[I 2023-08-23 21:49:49,515]\u001b[0m Trial 32 finished with value: 0.5873917138492342 and parameters: {'n_estimators': 78, 'max_depth': 8, 'min_samples_leaf': 2, 'min_samples_split': 12}. Best is trial 18 with value: 0.5965842685388222.\u001b[0m\n",
      "\u001b[32m[I 2023-08-23 21:49:53,005]\u001b[0m Trial 33 finished with value: 0.5927779191981848 and parameters: {'n_estimators': 91, 'max_depth': 9, 'min_samples_leaf': 6, 'min_samples_split': 6}. Best is trial 18 with value: 0.5965842685388222.\u001b[0m\n",
      "\u001b[32m[I 2023-08-23 21:49:56,017]\u001b[0m Trial 34 finished with value: 0.599122365639493 and parameters: {'n_estimators': 70, 'max_depth': 10, 'min_samples_leaf': 4, 'min_samples_split': 9}. Best is trial 34 with value: 0.599122365639493.\u001b[0m\n",
      "\u001b[32m[I 2023-08-23 21:49:58,789]\u001b[0m Trial 35 finished with value: 0.6005376317760953 and parameters: {'n_estimators': 60, 'max_depth': 10, 'min_samples_leaf': 2, 'min_samples_split': 9}. Best is trial 35 with value: 0.6005376317760953.\u001b[0m\n",
      "\u001b[32m[I 2023-08-23 21:50:01,489]\u001b[0m Trial 36 finished with value: 0.601678921601882 and parameters: {'n_estimators': 58, 'max_depth': 10, 'min_samples_leaf': 2, 'min_samples_split': 9}. Best is trial 36 with value: 0.601678921601882.\u001b[0m\n",
      "\u001b[32m[I 2023-08-23 21:50:04,218]\u001b[0m Trial 37 finished with value: 0.602387210470455 and parameters: {'n_estimators': 60, 'max_depth': 10, 'min_samples_leaf': 3, 'min_samples_split': 7}. Best is trial 37 with value: 0.602387210470455.\u001b[0m\n",
      "\u001b[32m[I 2023-08-23 21:50:06,787]\u001b[0m Trial 38 finished with value: 0.5981989304504242 and parameters: {'n_estimators': 59, 'max_depth': 10, 'min_samples_leaf': 4, 'min_samples_split': 4}. Best is trial 37 with value: 0.602387210470455.\u001b[0m\n",
      "\u001b[32m[I 2023-08-23 21:50:08,854]\u001b[0m Trial 39 finished with value: 0.6022345439705663 and parameters: {'n_estimators': 45, 'max_depth': 10, 'min_samples_leaf': 3, 'min_samples_split': 7}. Best is trial 37 with value: 0.602387210470455.\u001b[0m\n",
      "\u001b[32m[I 2023-08-23 21:50:09,894]\u001b[0m Trial 40 finished with value: 0.5466838125526541 and parameters: {'n_estimators': 37, 'max_depth': 10, 'min_samples_leaf': 19, 'min_samples_split': 5}. Best is trial 37 with value: 0.602387210470455.\u001b[0m\n",
      "\u001b[32m[I 2023-08-23 21:50:12,632]\u001b[0m Trial 41 finished with value: 0.602387210470455 and parameters: {'n_estimators': 60, 'max_depth': 10, 'min_samples_leaf': 3, 'min_samples_split': 7}. Best is trial 37 with value: 0.602387210470455.\u001b[0m\n",
      "\u001b[32m[I 2023-08-23 21:50:15,416]\u001b[0m Trial 42 finished with value: 0.6031389693175445 and parameters: {'n_estimators': 61, 'max_depth': 10, 'min_samples_leaf': 3, 'min_samples_split': 7}. Best is trial 42 with value: 0.6031389693175445.\u001b[0m\n",
      "\u001b[32m[I 2023-08-23 21:50:17,705]\u001b[0m Trial 43 finished with value: 0.6027305649133202 and parameters: {'n_estimators': 50, 'max_depth': 10, 'min_samples_leaf': 3, 'min_samples_split': 7}. Best is trial 42 with value: 0.6031389693175445.\u001b[0m\n",
      "\u001b[32m[I 2023-08-23 21:50:18,667]\u001b[0m Trial 44 finished with value: 0.4310230554804241 and parameters: {'n_estimators': 50, 'max_depth': 3, 'min_samples_leaf': 3, 'min_samples_split': 2}. Best is trial 42 with value: 0.6031389693175445.\u001b[0m\n",
      "\u001b[32m[I 2023-08-23 21:50:19,898]\u001b[0m Trial 45 finished with value: 0.581395873221227 and parameters: {'n_estimators': 33, 'max_depth': 8, 'min_samples_leaf': 6, 'min_samples_split': 7}. Best is trial 42 with value: 0.6031389693175445.\u001b[0m\n",
      "\u001b[32m[I 2023-08-23 21:50:22,679]\u001b[0m Trial 46 finished with value: 0.5997020357189651 and parameters: {'n_estimators': 64, 'max_depth': 10, 'min_samples_leaf': 4, 'min_samples_split': 4}. Best is trial 42 with value: 0.6031389693175445.\u001b[0m\n",
      "\u001b[32m[I 2023-08-23 21:50:24,008]\u001b[0m Trial 47 finished with value: 0.5549521658151736 and parameters: {'n_estimators': 45, 'max_depth': 10, 'min_samples_leaf': 16, 'min_samples_split': 7}. Best is trial 42 with value: 0.6031389693175445.\u001b[0m\n",
      "\u001b[32m[I 2023-08-23 21:50:25,421]\u001b[0m Trial 48 finished with value: 0.5803334215729243 and parameters: {'n_estimators': 39, 'max_depth': 8, 'min_samples_leaf': 7, 'min_samples_split': 5}. Best is trial 42 with value: 0.6031389693175445.\u001b[0m\n",
      "\u001b[32m[I 2023-08-23 21:50:28,157]\u001b[0m Trial 49 finished with value: 0.6042695828963153 and parameters: {'n_estimators': 51, 'max_depth': 10, 'min_samples_leaf': 1, 'min_samples_split': 3}. Best is trial 49 with value: 0.6042695828963153.\u001b[0m\n",
      "\u001b[32m[I 2023-08-23 21:50:31,061]\u001b[0m Trial 50 finished with value: 0.6048993909234162 and parameters: {'n_estimators': 53, 'max_depth': 10, 'min_samples_leaf': 1, 'min_samples_split': 2}. Best is trial 50 with value: 0.6048993909234162.\u001b[0m\n",
      "\u001b[32m[I 2023-08-23 21:50:33,954]\u001b[0m Trial 51 finished with value: 0.605771142169558 and parameters: {'n_estimators': 54, 'max_depth': 10, 'min_samples_leaf': 1, 'min_samples_split': 3}. Best is trial 51 with value: 0.605771142169558.\u001b[0m\n",
      "\u001b[32m[I 2023-08-23 21:50:36,878]\u001b[0m Trial 52 finished with value: 0.6048993909234162 and parameters: {'n_estimators': 53, 'max_depth': 10, 'min_samples_leaf': 1, 'min_samples_split': 2}. Best is trial 51 with value: 0.605771142169558.\u001b[0m\n",
      "\u001b[32m[I 2023-08-23 21:50:39,421]\u001b[0m Trial 53 finished with value: 0.5991718881311068 and parameters: {'n_estimators': 50, 'max_depth': 9, 'min_samples_leaf': 1, 'min_samples_split': 2}. Best is trial 51 with value: 0.605771142169558.\u001b[0m\n",
      "\u001b[32m[I 2023-08-23 21:50:42,130]\u001b[0m Trial 54 finished with value: 0.599456287854036 and parameters: {'n_estimators': 54, 'max_depth': 9, 'min_samples_leaf': 1, 'min_samples_split': 3}. Best is trial 51 with value: 0.605771142169558.\u001b[0m\n",
      "\u001b[32m[I 2023-08-23 21:50:44,799]\u001b[0m Trial 55 finished with value: 0.6042429029572165 and parameters: {'n_estimators': 49, 'max_depth': 10, 'min_samples_leaf': 1, 'min_samples_split': 3}. Best is trial 51 with value: 0.605771142169558.\u001b[0m\n",
      "\u001b[32m[I 2023-08-23 21:50:47,773]\u001b[0m Trial 56 finished with value: 0.6066259939843115 and parameters: {'n_estimators': 55, 'max_depth': 10, 'min_samples_leaf': 1, 'min_samples_split': 3}. Best is trial 56 with value: 0.6066259939843115.\u001b[0m\n",
      "\u001b[32m[I 2023-08-23 21:50:48,310]\u001b[0m Trial 57 finished with value: 0.19987908326596848 and parameters: {'n_estimators': 55, 'max_depth': 1, 'min_samples_leaf': 1, 'min_samples_split': 3}. Best is trial 56 with value: 0.6066259939843115.\u001b[0m\n",
      "\u001b[32m[I 2023-08-23 21:50:50,664]\u001b[0m Trial 58 finished with value: 0.5975138034280126 and parameters: {'n_estimators': 47, 'max_depth': 9, 'min_samples_leaf': 1, 'min_samples_split': 3}. Best is trial 56 with value: 0.6066259939843115.\u001b[0m\n",
      "\u001b[32m[I 2023-08-23 21:50:52,322]\u001b[0m Trial 59 finished with value: 0.5906242403114866 and parameters: {'n_estimators': 38, 'max_depth': 8, 'min_samples_leaf': 2, 'min_samples_split': 2}. Best is trial 56 with value: 0.6066259939843115.\u001b[0m\n",
      "\u001b[32m[I 2023-08-23 21:50:53,684]\u001b[0m Trial 60 finished with value: 0.597570062279757 and parameters: {'n_estimators': 28, 'max_depth': 9, 'min_samples_leaf': 1, 'min_samples_split': 4}. Best is trial 56 with value: 0.6066259939843115.\u001b[0m\n",
      "\u001b[32m[I 2023-08-23 21:50:56,981]\u001b[0m Trial 61 finished with value: 0.6068127608881507 and parameters: {'n_estimators': 66, 'max_depth': 10, 'min_samples_leaf': 2, 'min_samples_split': 3}. Best is trial 61 with value: 0.6068127608881507.\u001b[0m\n",
      "\u001b[32m[I 2023-08-23 21:51:00,255]\u001b[0m Trial 62 finished with value: 0.6068127608881507 and parameters: {'n_estimators': 66, 'max_depth': 10, 'min_samples_leaf': 2, 'min_samples_split': 3}. Best is trial 61 with value: 0.6068127608881507.\u001b[0m\n",
      "\u001b[32m[I 2023-08-23 21:51:03,488]\u001b[0m Trial 63 finished with value: 0.6054548743030168 and parameters: {'n_estimators': 65, 'max_depth': 10, 'min_samples_leaf': 2, 'min_samples_split': 2}. Best is trial 61 with value: 0.6068127608881507.\u001b[0m\n",
      "\u001b[32m[I 2023-08-23 21:51:06,508]\u001b[0m Trial 64 finished with value: 0.6006337821372978 and parameters: {'n_estimators': 65, 'max_depth': 9, 'min_samples_leaf': 2, 'min_samples_split': 2}. Best is trial 61 with value: 0.6068127608881507.\u001b[0m\n",
      "\u001b[32m[I 2023-08-23 21:51:09,780]\u001b[0m Trial 65 finished with value: 0.6063405328866704 and parameters: {'n_estimators': 67, 'max_depth': 10, 'min_samples_leaf': 2, 'min_samples_split': 5}. Best is trial 61 with value: 0.6068127608881507.\u001b[0m\n",
      "\u001b[32m[I 2023-08-23 21:51:12,644]\u001b[0m Trial 66 finished with value: 0.5999357196937198 and parameters: {'n_estimators': 66, 'max_depth': 10, 'min_samples_leaf': 4, 'min_samples_split': 5}. Best is trial 61 with value: 0.6068127608881507.\u001b[0m\n",
      "\u001b[32m[I 2023-08-23 21:51:15,764]\u001b[0m Trial 67 finished with value: 0.6019638016461478 and parameters: {'n_estimators': 67, 'max_depth': 9, 'min_samples_leaf': 2, 'min_samples_split': 4}. Best is trial 61 with value: 0.6068127608881507.\u001b[0m\n",
      "\u001b[32m[I 2023-08-23 21:51:17,816]\u001b[0m Trial 68 finished with value: 0.5483950479800298 and parameters: {'n_estimators': 70, 'max_depth': 6, 'min_samples_leaf': 12, 'min_samples_split': 3}. Best is trial 61 with value: 0.6068127608881507.\u001b[0m\n",
      "\u001b[32m[I 2023-08-23 21:51:20,709]\u001b[0m Trial 69 finished with value: 0.6005401285409697 and parameters: {'n_estimators': 63, 'max_depth': 9, 'min_samples_leaf': 2, 'min_samples_split': 5}. Best is trial 61 with value: 0.6068127608881507.\u001b[0m\n",
      "\u001b[32m[I 2023-08-23 21:51:23,166]\u001b[0m Trial 70 finished with value: 0.5994558700351915 and parameters: {'n_estimators': 56, 'max_depth': 10, 'min_samples_leaf': 4, 'min_samples_split': 4}. Best is trial 61 with value: 0.6068127608881507.\u001b[0m\n",
      "\u001b[32m[I 2023-08-23 21:51:26,593]\u001b[0m Trial 71 finished with value: 0.6067044792483796 and parameters: {'n_estimators': 56, 'max_depth': 10, 'min_samples_leaf': 1, 'min_samples_split': 2}. Best is trial 61 with value: 0.6068127608881507.\u001b[0m\n",
      "\u001b[32m[I 2023-08-23 21:51:29,513]\u001b[0m Trial 72 finished with value: 0.6049842179958537 and parameters: {'n_estimators': 57, 'max_depth': 10, 'min_samples_leaf': 2, 'min_samples_split': 2}. Best is trial 61 with value: 0.6068127608881507.\u001b[0m\n",
      "\u001b[32m[I 2023-08-23 21:51:33,006]\u001b[0m Trial 73 finished with value: 0.6074417974567984 and parameters: {'n_estimators': 69, 'max_depth': 10, 'min_samples_leaf': 2, 'min_samples_split': 3}. Best is trial 73 with value: 0.6074417974567984.\u001b[0m\n",
      "\u001b[32m[I 2023-08-23 21:51:36,227]\u001b[0m Trial 74 finished with value: 0.6025756917022279 and parameters: {'n_estimators': 69, 'max_depth': 9, 'min_samples_leaf': 2, 'min_samples_split': 3}. Best is trial 73 with value: 0.6074417974567984.\u001b[0m\n",
      "\u001b[32m[I 2023-08-23 21:51:36,679]\u001b[0m Trial 75 finished with value: 0.5789654004541473 and parameters: {'n_estimators': 10, 'max_depth': 10, 'min_samples_leaf': 4, 'min_samples_split': 3}. Best is trial 73 with value: 0.6074417974567984.\u001b[0m\n",
      "\u001b[32m[I 2023-08-23 21:51:40,035]\u001b[0m Trial 76 finished with value: 0.605976868845181 and parameters: {'n_estimators': 72, 'max_depth': 10, 'min_samples_leaf': 3, 'min_samples_split': 5}. Best is trial 73 with value: 0.6074417974567984.\u001b[0m\n",
      "\u001b[32m[I 2023-08-23 21:51:43,345]\u001b[0m Trial 77 finished with value: 0.6012768129064183 and parameters: {'n_estimators': 75, 'max_depth': 9, 'min_samples_leaf': 3, 'min_samples_split': 6}. Best is trial 73 with value: 0.6074417974567984.\u001b[0m\n",
      "\u001b[32m[I 2023-08-23 21:51:45,864]\u001b[0m Trial 78 finished with value: 0.5820046688729477 and parameters: {'n_estimators': 72, 'max_depth': 10, 'min_samples_leaf': 9, 'min_samples_split': 4}. Best is trial 73 with value: 0.6074417974567984.\u001b[0m\n",
      "\u001b[32m[I 2023-08-23 21:51:47,114]\u001b[0m Trial 79 finished with value: 0.3606488196022982 and parameters: {'n_estimators': 86, 'max_depth': 2, 'min_samples_leaf': 5, 'min_samples_split': 5}. Best is trial 73 with value: 0.6074417974567984.\u001b[0m\n",
      "\u001b[32m[I 2023-08-23 21:51:49,889]\u001b[0m Trial 80 finished with value: 0.600167650060186 and parameters: {'n_estimators': 62, 'max_depth': 9, 'min_samples_leaf': 3, 'min_samples_split': 4}. Best is trial 73 with value: 0.6074417974567984.\u001b[0m\n",
      "\u001b[32m[I 2023-08-23 21:51:53,569]\u001b[0m Trial 81 finished with value: 0.6086847496622798 and parameters: {'n_estimators': 74, 'max_depth': 10, 'min_samples_leaf': 2, 'min_samples_split': 3}. Best is trial 81 with value: 0.6086847496622798.\u001b[0m\n",
      "\u001b[32m[I 2023-08-23 21:51:57,523]\u001b[0m Trial 82 finished with value: 0.6087404943447354 and parameters: {'n_estimators': 74, 'max_depth': 10, 'min_samples_leaf': 1, 'min_samples_split': 3}. Best is trial 82 with value: 0.6087404943447354.\u001b[0m\n",
      "\u001b[32m[I 2023-08-23 21:52:01,144]\u001b[0m Trial 83 finished with value: 0.6082729401245993 and parameters: {'n_estimators': 74, 'max_depth': 10, 'min_samples_leaf': 2, 'min_samples_split': 5}. Best is trial 82 with value: 0.6087404943447354.\u001b[0m\n",
      "\u001b[32m[I 2023-08-23 21:52:04,873]\u001b[0m Trial 84 finished with value: 0.6086056160289514 and parameters: {'n_estimators': 75, 'max_depth': 10, 'min_samples_leaf': 2, 'min_samples_split': 4}. Best is trial 82 with value: 0.6087404943447354.\u001b[0m\n",
      "\u001b[32m[I 2023-08-23 21:52:07,242]\u001b[0m Trial 85 finished with value: 0.5649037106218685 and parameters: {'n_estimators': 77, 'max_depth': 10, 'min_samples_leaf': 14, 'min_samples_split': 3}. Best is trial 82 with value: 0.6087404943447354.\u001b[0m\n",
      "\u001b[32m[I 2023-08-23 21:52:11,466]\u001b[0m Trial 86 finished with value: 0.6097576780555596 and parameters: {'n_estimators': 84, 'max_depth': 10, 'min_samples_leaf': 2, 'min_samples_split': 4}. Best is trial 86 with value: 0.6097576780555596.\u001b[0m\n",
      "\u001b[32m[I 2023-08-23 21:52:15,427]\u001b[0m Trial 87 finished with value: 0.5980967656565889 and parameters: {'n_estimators': 94, 'max_depth': 9, 'min_samples_leaf': 4, 'min_samples_split': 4}. Best is trial 86 with value: 0.6097576780555596.\u001b[0m\n",
      "\u001b[32m[I 2023-08-23 21:52:17,831]\u001b[0m Trial 88 finished with value: 0.5240100378080402 and parameters: {'n_estimators': 84, 'max_depth': 5, 'min_samples_leaf': 3, 'min_samples_split': 4}. Best is trial 86 with value: 0.6097576780555596.\u001b[0m\n",
      "\u001b[32m[I 2023-08-23 21:52:21,452]\u001b[0m Trial 89 finished with value: 0.6068491876260713 and parameters: {'n_estimators': 75, 'max_depth': 10, 'min_samples_leaf': 2, 'min_samples_split': 6}. Best is trial 86 with value: 0.6097576780555596.\u001b[0m\n",
      "\u001b[32m[I 2023-08-23 21:52:24,335]\u001b[0m Trial 90 finished with value: 0.5909248204090083 and parameters: {'n_estimators': 75, 'max_depth': 9, 'min_samples_leaf': 6, 'min_samples_split': 6}. Best is trial 86 with value: 0.6097576780555596.\u001b[0m\n",
      "\u001b[32m[I 2023-08-23 21:52:28,261]\u001b[0m Trial 91 finished with value: 0.6094949250739774 and parameters: {'n_estimators': 79, 'max_depth': 10, 'min_samples_leaf': 2, 'min_samples_split': 4}. Best is trial 86 with value: 0.6097576780555596.\u001b[0m\n",
      "\u001b[32m[I 2023-08-23 21:52:32,009]\u001b[0m Trial 92 finished with value: 0.6054328165272677 and parameters: {'n_estimators': 81, 'max_depth': 10, 'min_samples_leaf': 3, 'min_samples_split': 4}. Best is trial 86 with value: 0.6097576780555596.\u001b[0m\n",
      "\u001b[32m[I 2023-08-23 21:52:35,813]\u001b[0m Trial 93 finished with value: 0.6074625241155684 and parameters: {'n_estimators': 79, 'max_depth': 10, 'min_samples_leaf': 2, 'min_samples_split': 6}. Best is trial 86 with value: 0.6097576780555596.\u001b[0m\n",
      "\u001b[32m[I 2023-08-23 21:52:39,617]\u001b[0m Trial 94 finished with value: 0.6074625241155684 and parameters: {'n_estimators': 79, 'max_depth': 10, 'min_samples_leaf': 2, 'min_samples_split': 6}. Best is trial 86 with value: 0.6097576780555596.\u001b[0m\n",
      "\u001b[32m[I 2023-08-23 21:52:43,671]\u001b[0m Trial 95 finished with value: 0.6069272405359769 and parameters: {'n_estimators': 87, 'max_depth': 10, 'min_samples_leaf': 3, 'min_samples_split': 6}. Best is trial 86 with value: 0.6097576780555596.\u001b[0m\n",
      "\u001b[32m[I 2023-08-23 21:52:47,147]\u001b[0m Trial 96 finished with value: 0.6018686185087497 and parameters: {'n_estimators': 79, 'max_depth': 9, 'min_samples_leaf': 3, 'min_samples_split': 6}. Best is trial 86 with value: 0.6097576780555596.\u001b[0m\n",
      "\u001b[32m[I 2023-08-23 21:52:50,925]\u001b[0m Trial 97 finished with value: 0.6021106162432595 and parameters: {'n_estimators': 87, 'max_depth': 10, 'min_samples_leaf': 4, 'min_samples_split': 5}. Best is trial 86 with value: 0.6097576780555596.\u001b[0m\n",
      "\u001b[32m[I 2023-08-23 21:52:54,451]\u001b[0m Trial 98 finished with value: 0.5879845504437385 and parameters: {'n_estimators': 84, 'max_depth': 9, 'min_samples_leaf': 1, 'min_samples_split': 18}. Best is trial 86 with value: 0.6097576780555596.\u001b[0m\n",
      "\u001b[32m[I 2023-08-23 21:52:56,214]\u001b[0m Trial 99 finished with value: 0.43214364455440235 and parameters: {'n_estimators': 93, 'max_depth': 3, 'min_samples_leaf': 5, 'min_samples_split': 8}. Best is trial 86 with value: 0.6097576780555596.\u001b[0m\n"
     ]
    },
    {
     "name": "stdout",
     "output_type": "stream",
     "text": [
      "Best r2:  0.6097576780555596\n",
      "Best trial: {'n_estimators': 84, 'max_depth': 10, 'min_samples_leaf': 2, 'min_samples_split': 4}\n"
     ]
    }
   ],
   "source": [
    "sampler = TPESampler()\n",
    "study = optuna.create_study(\n",
    "    study_name=\"rf_parameter_opt\",\n",
    "    direction=\"maximize\",\n",
    "    sampler=sampler,\n",
    ")\n",
    "\n",
    "study.optimize(lambda trial : objectiveRF(trial, As_X_train, As_y_train), n_trials=100)\n",
    "print(\"Best r2: \", study.best_value)\n",
    "print(\"Best trial:\", study.best_trial.params)"
   ]
  },
  {
   "cell_type": "code",
   "execution_count": 104,
   "id": "ded0e0f8",
   "metadata": {},
   "outputs": [
    {
     "data": {
      "application/vnd.plotly.v1+json": {
       "config": {
        "plotlyServerURL": "https://plot.ly"
       },
       "data": [
        {
         "dimensions": [
          {
           "label": "Objective Value",
           "range": [
            0.19116259136145292,
            0.6097576780555596
           ],
           "values": [
            0.3605496063755983,
            0.3615091362131662,
            0.36117765307939,
            0.5485592218245868,
            0.5621057596028063,
            0.48161761726177515,
            0.57066549913302,
            0.5708152501134534,
            0.3539789274792297,
            0.19116259136145292,
            0.591693202252871,
            0.581912906991158,
            0.5867892888983881,
            0.5871879291992116,
            0.5912934670431111,
            0.5185408129253849,
            0.5956248728554179,
            0.5838865908229056,
            0.5965842685388222,
            0.5520536010860211,
            0.5717534902143901,
            0.591403382222084,
            0.5948262583648067,
            0.5957307450177464,
            0.5717834249037017,
            0.5952601593744451,
            0.5819011090447329,
            0.5243427254025684,
            0.577691140907944,
            0.4841753838722517,
            0.5562449156401839,
            0.595456144207477,
            0.5873917138492342,
            0.5927779191981848,
            0.599122365639493,
            0.6005376317760953,
            0.601678921601882,
            0.602387210470455,
            0.5981989304504242,
            0.6022345439705663,
            0.5466838125526541,
            0.602387210470455,
            0.6031389693175445,
            0.6027305649133202,
            0.4310230554804241,
            0.581395873221227,
            0.5997020357189651,
            0.5549521658151736,
            0.5803334215729243,
            0.6042695828963153,
            0.6048993909234162,
            0.605771142169558,
            0.6048993909234162,
            0.5991718881311068,
            0.599456287854036,
            0.6042429029572165,
            0.6066259939843115,
            0.19987908326596848,
            0.5975138034280126,
            0.5906242403114866,
            0.597570062279757,
            0.6068127608881507,
            0.6068127608881507,
            0.6054548743030168,
            0.6006337821372978,
            0.6063405328866704,
            0.5999357196937198,
            0.6019638016461478,
            0.5483950479800298,
            0.6005401285409697,
            0.5994558700351915,
            0.6067044792483796,
            0.6049842179958537,
            0.6074417974567984,
            0.6025756917022279,
            0.5789654004541473,
            0.605976868845181,
            0.6012768129064183,
            0.5820046688729477,
            0.3606488196022982,
            0.600167650060186,
            0.6086847496622798,
            0.6087404943447354,
            0.6082729401245993,
            0.6086056160289514,
            0.5649037106218685,
            0.6097576780555596,
            0.5980967656565889,
            0.5240100378080402,
            0.6068491876260713,
            0.5909248204090083,
            0.6094949250739774,
            0.6054328165272677,
            0.6074625241155684,
            0.6074625241155684,
            0.6069272405359769,
            0.6018686185087497,
            0.6021106162432595,
            0.5879845504437385,
            0.43214364455440235
           ]
          },
          {
           "label": "max_depth",
           "range": [
            1,
            10
           ],
           "values": [
            2,
            2,
            2,
            6,
            8,
            4,
            7,
            8,
            2,
            1,
            10,
            9,
            10,
            10,
            10,
            5,
            9,
            8,
            9,
            6,
            7,
            9,
            9,
            9,
            7,
            9,
            8,
            5,
            9,
            4,
            7,
            9,
            8,
            9,
            10,
            10,
            10,
            10,
            10,
            10,
            10,
            10,
            10,
            10,
            3,
            8,
            10,
            10,
            8,
            10,
            10,
            10,
            10,
            9,
            9,
            10,
            10,
            1,
            9,
            8,
            9,
            10,
            10,
            10,
            9,
            10,
            10,
            9,
            6,
            9,
            10,
            10,
            10,
            10,
            9,
            10,
            10,
            9,
            10,
            2,
            9,
            10,
            10,
            10,
            10,
            10,
            10,
            9,
            5,
            10,
            9,
            10,
            10,
            10,
            10,
            10,
            9,
            10,
            9,
            3
           ]
          },
          {
           "label": "min_samples_leaf",
           "range": [
            1,
            20
           ],
           "values": [
            16,
            20,
            20,
            13,
            13,
            18,
            4,
            12,
            4,
            12,
            7,
            9,
            8,
            8,
            7,
            1,
            5,
            5,
            2,
            1,
            3,
            6,
            3,
            2,
            2,
            5,
            1,
            3,
            10,
            5,
            15,
            5,
            2,
            6,
            4,
            2,
            2,
            3,
            4,
            3,
            19,
            3,
            3,
            3,
            3,
            6,
            4,
            16,
            7,
            1,
            1,
            1,
            1,
            1,
            1,
            1,
            1,
            1,
            1,
            2,
            1,
            2,
            2,
            2,
            2,
            2,
            4,
            2,
            12,
            2,
            4,
            1,
            2,
            2,
            2,
            4,
            3,
            3,
            9,
            5,
            3,
            2,
            1,
            2,
            2,
            14,
            2,
            4,
            3,
            2,
            6,
            2,
            3,
            2,
            2,
            3,
            3,
            4,
            1,
            5
           ]
          },
          {
           "label": "min_samples_split",
           "range": [
            2,
            20
           ],
           "values": [
            20,
            13,
            16,
            2,
            15,
            17,
            13,
            19,
            20,
            4,
            8,
            8,
            8,
            8,
            8,
            6,
            10,
            11,
            11,
            11,
            11,
            10,
            13,
            13,
            14,
            10,
            17,
            6,
            12,
            10,
            15,
            10,
            12,
            6,
            9,
            9,
            9,
            7,
            4,
            7,
            5,
            7,
            7,
            7,
            2,
            7,
            4,
            7,
            5,
            3,
            2,
            3,
            2,
            2,
            3,
            3,
            3,
            3,
            3,
            2,
            4,
            3,
            3,
            2,
            2,
            5,
            5,
            4,
            3,
            5,
            4,
            2,
            2,
            3,
            3,
            3,
            5,
            6,
            4,
            5,
            4,
            3,
            3,
            5,
            4,
            3,
            4,
            4,
            4,
            6,
            6,
            4,
            4,
            6,
            6,
            6,
            6,
            5,
            18,
            8
           ]
          },
          {
           "label": "n_estimators",
           "range": [
            10,
            100
           ],
           "values": [
            75,
            63,
            66,
            96,
            28,
            58,
            64,
            89,
            21,
            16,
            100,
            100,
            99,
            85,
            82,
            43,
            79,
            44,
            75,
            75,
            51,
            77,
            91,
            90,
            73,
            82,
            68,
            90,
            54,
            72,
            82,
            80,
            78,
            91,
            70,
            60,
            58,
            60,
            59,
            45,
            37,
            60,
            61,
            50,
            50,
            33,
            64,
            45,
            39,
            51,
            53,
            54,
            53,
            50,
            54,
            49,
            55,
            55,
            47,
            38,
            28,
            66,
            66,
            65,
            65,
            67,
            66,
            67,
            70,
            63,
            56,
            56,
            57,
            69,
            69,
            10,
            72,
            75,
            72,
            86,
            62,
            74,
            74,
            74,
            75,
            77,
            84,
            94,
            84,
            75,
            75,
            79,
            81,
            79,
            79,
            87,
            79,
            87,
            84,
            93
           ]
          }
         ],
         "labelangle": 30,
         "labelside": "bottom",
         "line": {
          "color": [
           0.3605496063755983,
           0.3615091362131662,
           0.36117765307939,
           0.5485592218245868,
           0.5621057596028063,
           0.48161761726177515,
           0.57066549913302,
           0.5708152501134534,
           0.3539789274792297,
           0.19116259136145292,
           0.591693202252871,
           0.581912906991158,
           0.5867892888983881,
           0.5871879291992116,
           0.5912934670431111,
           0.5185408129253849,
           0.5956248728554179,
           0.5838865908229056,
           0.5965842685388222,
           0.5520536010860211,
           0.5717534902143901,
           0.591403382222084,
           0.5948262583648067,
           0.5957307450177464,
           0.5717834249037017,
           0.5952601593744451,
           0.5819011090447329,
           0.5243427254025684,
           0.577691140907944,
           0.4841753838722517,
           0.5562449156401839,
           0.595456144207477,
           0.5873917138492342,
           0.5927779191981848,
           0.599122365639493,
           0.6005376317760953,
           0.601678921601882,
           0.602387210470455,
           0.5981989304504242,
           0.6022345439705663,
           0.5466838125526541,
           0.602387210470455,
           0.6031389693175445,
           0.6027305649133202,
           0.4310230554804241,
           0.581395873221227,
           0.5997020357189651,
           0.5549521658151736,
           0.5803334215729243,
           0.6042695828963153,
           0.6048993909234162,
           0.605771142169558,
           0.6048993909234162,
           0.5991718881311068,
           0.599456287854036,
           0.6042429029572165,
           0.6066259939843115,
           0.19987908326596848,
           0.5975138034280126,
           0.5906242403114866,
           0.597570062279757,
           0.6068127608881507,
           0.6068127608881507,
           0.6054548743030168,
           0.6006337821372978,
           0.6063405328866704,
           0.5999357196937198,
           0.6019638016461478,
           0.5483950479800298,
           0.6005401285409697,
           0.5994558700351915,
           0.6067044792483796,
           0.6049842179958537,
           0.6074417974567984,
           0.6025756917022279,
           0.5789654004541473,
           0.605976868845181,
           0.6012768129064183,
           0.5820046688729477,
           0.3606488196022982,
           0.600167650060186,
           0.6086847496622798,
           0.6087404943447354,
           0.6082729401245993,
           0.6086056160289514,
           0.5649037106218685,
           0.6097576780555596,
           0.5980967656565889,
           0.5240100378080402,
           0.6068491876260713,
           0.5909248204090083,
           0.6094949250739774,
           0.6054328165272677,
           0.6074625241155684,
           0.6074625241155684,
           0.6069272405359769,
           0.6018686185087497,
           0.6021106162432595,
           0.5879845504437385,
           0.43214364455440235
          ],
          "colorbar": {
           "title": {
            "text": "Objective Value"
           }
          },
          "colorscale": [
           [
            0,
            "rgb(247,251,255)"
           ],
           [
            0.125,
            "rgb(222,235,247)"
           ],
           [
            0.25,
            "rgb(198,219,239)"
           ],
           [
            0.375,
            "rgb(158,202,225)"
           ],
           [
            0.5,
            "rgb(107,174,214)"
           ],
           [
            0.625,
            "rgb(66,146,198)"
           ],
           [
            0.75,
            "rgb(33,113,181)"
           ],
           [
            0.875,
            "rgb(8,81,156)"
           ],
           [
            1,
            "rgb(8,48,107)"
           ]
          ],
          "reversescale": false,
          "showscale": true
         },
         "type": "parcoords"
        }
       ],
       "layout": {
        "template": {
         "data": {
          "bar": [
           {
            "error_x": {
             "color": "#2a3f5f"
            },
            "error_y": {
             "color": "#2a3f5f"
            },
            "marker": {
             "line": {
              "color": "#E5ECF6",
              "width": 0.5
             },
             "pattern": {
              "fillmode": "overlay",
              "size": 10,
              "solidity": 0.2
             }
            },
            "type": "bar"
           }
          ],
          "barpolar": [
           {
            "marker": {
             "line": {
              "color": "#E5ECF6",
              "width": 0.5
             },
             "pattern": {
              "fillmode": "overlay",
              "size": 10,
              "solidity": 0.2
             }
            },
            "type": "barpolar"
           }
          ],
          "carpet": [
           {
            "aaxis": {
             "endlinecolor": "#2a3f5f",
             "gridcolor": "white",
             "linecolor": "white",
             "minorgridcolor": "white",
             "startlinecolor": "#2a3f5f"
            },
            "baxis": {
             "endlinecolor": "#2a3f5f",
             "gridcolor": "white",
             "linecolor": "white",
             "minorgridcolor": "white",
             "startlinecolor": "#2a3f5f"
            },
            "type": "carpet"
           }
          ],
          "choropleth": [
           {
            "colorbar": {
             "outlinewidth": 0,
             "ticks": ""
            },
            "type": "choropleth"
           }
          ],
          "contour": [
           {
            "colorbar": {
             "outlinewidth": 0,
             "ticks": ""
            },
            "colorscale": [
             [
              0,
              "#0d0887"
             ],
             [
              0.1111111111111111,
              "#46039f"
             ],
             [
              0.2222222222222222,
              "#7201a8"
             ],
             [
              0.3333333333333333,
              "#9c179e"
             ],
             [
              0.4444444444444444,
              "#bd3786"
             ],
             [
              0.5555555555555556,
              "#d8576b"
             ],
             [
              0.6666666666666666,
              "#ed7953"
             ],
             [
              0.7777777777777778,
              "#fb9f3a"
             ],
             [
              0.8888888888888888,
              "#fdca26"
             ],
             [
              1,
              "#f0f921"
             ]
            ],
            "type": "contour"
           }
          ],
          "contourcarpet": [
           {
            "colorbar": {
             "outlinewidth": 0,
             "ticks": ""
            },
            "type": "contourcarpet"
           }
          ],
          "heatmap": [
           {
            "colorbar": {
             "outlinewidth": 0,
             "ticks": ""
            },
            "colorscale": [
             [
              0,
              "#0d0887"
             ],
             [
              0.1111111111111111,
              "#46039f"
             ],
             [
              0.2222222222222222,
              "#7201a8"
             ],
             [
              0.3333333333333333,
              "#9c179e"
             ],
             [
              0.4444444444444444,
              "#bd3786"
             ],
             [
              0.5555555555555556,
              "#d8576b"
             ],
             [
              0.6666666666666666,
              "#ed7953"
             ],
             [
              0.7777777777777778,
              "#fb9f3a"
             ],
             [
              0.8888888888888888,
              "#fdca26"
             ],
             [
              1,
              "#f0f921"
             ]
            ],
            "type": "heatmap"
           }
          ],
          "heatmapgl": [
           {
            "colorbar": {
             "outlinewidth": 0,
             "ticks": ""
            },
            "colorscale": [
             [
              0,
              "#0d0887"
             ],
             [
              0.1111111111111111,
              "#46039f"
             ],
             [
              0.2222222222222222,
              "#7201a8"
             ],
             [
              0.3333333333333333,
              "#9c179e"
             ],
             [
              0.4444444444444444,
              "#bd3786"
             ],
             [
              0.5555555555555556,
              "#d8576b"
             ],
             [
              0.6666666666666666,
              "#ed7953"
             ],
             [
              0.7777777777777778,
              "#fb9f3a"
             ],
             [
              0.8888888888888888,
              "#fdca26"
             ],
             [
              1,
              "#f0f921"
             ]
            ],
            "type": "heatmapgl"
           }
          ],
          "histogram": [
           {
            "marker": {
             "pattern": {
              "fillmode": "overlay",
              "size": 10,
              "solidity": 0.2
             }
            },
            "type": "histogram"
           }
          ],
          "histogram2d": [
           {
            "colorbar": {
             "outlinewidth": 0,
             "ticks": ""
            },
            "colorscale": [
             [
              0,
              "#0d0887"
             ],
             [
              0.1111111111111111,
              "#46039f"
             ],
             [
              0.2222222222222222,
              "#7201a8"
             ],
             [
              0.3333333333333333,
              "#9c179e"
             ],
             [
              0.4444444444444444,
              "#bd3786"
             ],
             [
              0.5555555555555556,
              "#d8576b"
             ],
             [
              0.6666666666666666,
              "#ed7953"
             ],
             [
              0.7777777777777778,
              "#fb9f3a"
             ],
             [
              0.8888888888888888,
              "#fdca26"
             ],
             [
              1,
              "#f0f921"
             ]
            ],
            "type": "histogram2d"
           }
          ],
          "histogram2dcontour": [
           {
            "colorbar": {
             "outlinewidth": 0,
             "ticks": ""
            },
            "colorscale": [
             [
              0,
              "#0d0887"
             ],
             [
              0.1111111111111111,
              "#46039f"
             ],
             [
              0.2222222222222222,
              "#7201a8"
             ],
             [
              0.3333333333333333,
              "#9c179e"
             ],
             [
              0.4444444444444444,
              "#bd3786"
             ],
             [
              0.5555555555555556,
              "#d8576b"
             ],
             [
              0.6666666666666666,
              "#ed7953"
             ],
             [
              0.7777777777777778,
              "#fb9f3a"
             ],
             [
              0.8888888888888888,
              "#fdca26"
             ],
             [
              1,
              "#f0f921"
             ]
            ],
            "type": "histogram2dcontour"
           }
          ],
          "mesh3d": [
           {
            "colorbar": {
             "outlinewidth": 0,
             "ticks": ""
            },
            "type": "mesh3d"
           }
          ],
          "parcoords": [
           {
            "line": {
             "colorbar": {
              "outlinewidth": 0,
              "ticks": ""
             }
            },
            "type": "parcoords"
           }
          ],
          "pie": [
           {
            "automargin": true,
            "type": "pie"
           }
          ],
          "scatter": [
           {
            "marker": {
             "colorbar": {
              "outlinewidth": 0,
              "ticks": ""
             }
            },
            "type": "scatter"
           }
          ],
          "scatter3d": [
           {
            "line": {
             "colorbar": {
              "outlinewidth": 0,
              "ticks": ""
             }
            },
            "marker": {
             "colorbar": {
              "outlinewidth": 0,
              "ticks": ""
             }
            },
            "type": "scatter3d"
           }
          ],
          "scattercarpet": [
           {
            "marker": {
             "colorbar": {
              "outlinewidth": 0,
              "ticks": ""
             }
            },
            "type": "scattercarpet"
           }
          ],
          "scattergeo": [
           {
            "marker": {
             "colorbar": {
              "outlinewidth": 0,
              "ticks": ""
             }
            },
            "type": "scattergeo"
           }
          ],
          "scattergl": [
           {
            "marker": {
             "colorbar": {
              "outlinewidth": 0,
              "ticks": ""
             }
            },
            "type": "scattergl"
           }
          ],
          "scattermapbox": [
           {
            "marker": {
             "colorbar": {
              "outlinewidth": 0,
              "ticks": ""
             }
            },
            "type": "scattermapbox"
           }
          ],
          "scatterpolar": [
           {
            "marker": {
             "colorbar": {
              "outlinewidth": 0,
              "ticks": ""
             }
            },
            "type": "scatterpolar"
           }
          ],
          "scatterpolargl": [
           {
            "marker": {
             "colorbar": {
              "outlinewidth": 0,
              "ticks": ""
             }
            },
            "type": "scatterpolargl"
           }
          ],
          "scatterternary": [
           {
            "marker": {
             "colorbar": {
              "outlinewidth": 0,
              "ticks": ""
             }
            },
            "type": "scatterternary"
           }
          ],
          "surface": [
           {
            "colorbar": {
             "outlinewidth": 0,
             "ticks": ""
            },
            "colorscale": [
             [
              0,
              "#0d0887"
             ],
             [
              0.1111111111111111,
              "#46039f"
             ],
             [
              0.2222222222222222,
              "#7201a8"
             ],
             [
              0.3333333333333333,
              "#9c179e"
             ],
             [
              0.4444444444444444,
              "#bd3786"
             ],
             [
              0.5555555555555556,
              "#d8576b"
             ],
             [
              0.6666666666666666,
              "#ed7953"
             ],
             [
              0.7777777777777778,
              "#fb9f3a"
             ],
             [
              0.8888888888888888,
              "#fdca26"
             ],
             [
              1,
              "#f0f921"
             ]
            ],
            "type": "surface"
           }
          ],
          "table": [
           {
            "cells": {
             "fill": {
              "color": "#EBF0F8"
             },
             "line": {
              "color": "white"
             }
            },
            "header": {
             "fill": {
              "color": "#C8D4E3"
             },
             "line": {
              "color": "white"
             }
            },
            "type": "table"
           }
          ]
         },
         "layout": {
          "annotationdefaults": {
           "arrowcolor": "#2a3f5f",
           "arrowhead": 0,
           "arrowwidth": 1
          },
          "autotypenumbers": "strict",
          "coloraxis": {
           "colorbar": {
            "outlinewidth": 0,
            "ticks": ""
           }
          },
          "colorscale": {
           "diverging": [
            [
             0,
             "#8e0152"
            ],
            [
             0.1,
             "#c51b7d"
            ],
            [
             0.2,
             "#de77ae"
            ],
            [
             0.3,
             "#f1b6da"
            ],
            [
             0.4,
             "#fde0ef"
            ],
            [
             0.5,
             "#f7f7f7"
            ],
            [
             0.6,
             "#e6f5d0"
            ],
            [
             0.7,
             "#b8e186"
            ],
            [
             0.8,
             "#7fbc41"
            ],
            [
             0.9,
             "#4d9221"
            ],
            [
             1,
             "#276419"
            ]
           ],
           "sequential": [
            [
             0,
             "#0d0887"
            ],
            [
             0.1111111111111111,
             "#46039f"
            ],
            [
             0.2222222222222222,
             "#7201a8"
            ],
            [
             0.3333333333333333,
             "#9c179e"
            ],
            [
             0.4444444444444444,
             "#bd3786"
            ],
            [
             0.5555555555555556,
             "#d8576b"
            ],
            [
             0.6666666666666666,
             "#ed7953"
            ],
            [
             0.7777777777777778,
             "#fb9f3a"
            ],
            [
             0.8888888888888888,
             "#fdca26"
            ],
            [
             1,
             "#f0f921"
            ]
           ],
           "sequentialminus": [
            [
             0,
             "#0d0887"
            ],
            [
             0.1111111111111111,
             "#46039f"
            ],
            [
             0.2222222222222222,
             "#7201a8"
            ],
            [
             0.3333333333333333,
             "#9c179e"
            ],
            [
             0.4444444444444444,
             "#bd3786"
            ],
            [
             0.5555555555555556,
             "#d8576b"
            ],
            [
             0.6666666666666666,
             "#ed7953"
            ],
            [
             0.7777777777777778,
             "#fb9f3a"
            ],
            [
             0.8888888888888888,
             "#fdca26"
            ],
            [
             1,
             "#f0f921"
            ]
           ]
          },
          "colorway": [
           "#636efa",
           "#EF553B",
           "#00cc96",
           "#ab63fa",
           "#FFA15A",
           "#19d3f3",
           "#FF6692",
           "#B6E880",
           "#FF97FF",
           "#FECB52"
          ],
          "font": {
           "color": "#2a3f5f"
          },
          "geo": {
           "bgcolor": "white",
           "lakecolor": "white",
           "landcolor": "#E5ECF6",
           "showlakes": true,
           "showland": true,
           "subunitcolor": "white"
          },
          "hoverlabel": {
           "align": "left"
          },
          "hovermode": "closest",
          "mapbox": {
           "style": "light"
          },
          "paper_bgcolor": "white",
          "plot_bgcolor": "#E5ECF6",
          "polar": {
           "angularaxis": {
            "gridcolor": "white",
            "linecolor": "white",
            "ticks": ""
           },
           "bgcolor": "#E5ECF6",
           "radialaxis": {
            "gridcolor": "white",
            "linecolor": "white",
            "ticks": ""
           }
          },
          "scene": {
           "xaxis": {
            "backgroundcolor": "#E5ECF6",
            "gridcolor": "white",
            "gridwidth": 2,
            "linecolor": "white",
            "showbackground": true,
            "ticks": "",
            "zerolinecolor": "white"
           },
           "yaxis": {
            "backgroundcolor": "#E5ECF6",
            "gridcolor": "white",
            "gridwidth": 2,
            "linecolor": "white",
            "showbackground": true,
            "ticks": "",
            "zerolinecolor": "white"
           },
           "zaxis": {
            "backgroundcolor": "#E5ECF6",
            "gridcolor": "white",
            "gridwidth": 2,
            "linecolor": "white",
            "showbackground": true,
            "ticks": "",
            "zerolinecolor": "white"
           }
          },
          "shapedefaults": {
           "line": {
            "color": "#2a3f5f"
           }
          },
          "ternary": {
           "aaxis": {
            "gridcolor": "white",
            "linecolor": "white",
            "ticks": ""
           },
           "baxis": {
            "gridcolor": "white",
            "linecolor": "white",
            "ticks": ""
           },
           "bgcolor": "#E5ECF6",
           "caxis": {
            "gridcolor": "white",
            "linecolor": "white",
            "ticks": ""
           }
          },
          "title": {
           "x": 0.05
          },
          "xaxis": {
           "automargin": true,
           "gridcolor": "white",
           "linecolor": "white",
           "ticks": "",
           "title": {
            "standoff": 15
           },
           "zerolinecolor": "white",
           "zerolinewidth": 2
          },
          "yaxis": {
           "automargin": true,
           "gridcolor": "white",
           "linecolor": "white",
           "ticks": "",
           "title": {
            "standoff": 15
           },
           "zerolinecolor": "white",
           "zerolinewidth": 2
          }
         }
        },
        "title": {
         "text": "Parallel Coordinate Plot"
        }
       }
      }
     },
     "metadata": {},
     "output_type": "display_data"
    }
   ],
   "source": [
    "optuna.visualization.plot_parallel_coordinate(study)"
   ]
  },
  {
   "cell_type": "code",
   "execution_count": 105,
   "id": "75db1ddf",
   "metadata": {},
   "outputs": [
    {
     "name": "stdout",
     "output_type": "stream",
     "text": [
      "Best trial: {'n_estimators': 84, 'max_depth': 10, 'min_samples_leaf': 2, 'min_samples_split': 4}\n"
     ]
    }
   ],
   "source": [
    "print(\"Best trial:\", study.best_trial.params)"
   ]
  },
  {
   "cell_type": "code",
   "execution_count": 106,
   "id": "574699dc",
   "metadata": {},
   "outputs": [
    {
     "data": {
      "text/plain": [
       "84"
      ]
     },
     "execution_count": 106,
     "metadata": {},
     "output_type": "execute_result"
    }
   ],
   "source": [
    "study.best_trial.params[\"n_estimators\"]"
   ]
  },
  {
   "cell_type": "code",
   "execution_count": 107,
   "id": "862eadd2",
   "metadata": {},
   "outputs": [
    {
     "data": {
      "text/html": [
       "<style>#sk-container-id-4 {color: black;}#sk-container-id-4 pre{padding: 0;}#sk-container-id-4 div.sk-toggleable {background-color: white;}#sk-container-id-4 label.sk-toggleable__label {cursor: pointer;display: block;width: 100%;margin-bottom: 0;padding: 0.3em;box-sizing: border-box;text-align: center;}#sk-container-id-4 label.sk-toggleable__label-arrow:before {content: \"▸\";float: left;margin-right: 0.25em;color: #696969;}#sk-container-id-4 label.sk-toggleable__label-arrow:hover:before {color: black;}#sk-container-id-4 div.sk-estimator:hover label.sk-toggleable__label-arrow:before {color: black;}#sk-container-id-4 div.sk-toggleable__content {max-height: 0;max-width: 0;overflow: hidden;text-align: left;background-color: #f0f8ff;}#sk-container-id-4 div.sk-toggleable__content pre {margin: 0.2em;color: black;border-radius: 0.25em;background-color: #f0f8ff;}#sk-container-id-4 input.sk-toggleable__control:checked~div.sk-toggleable__content {max-height: 200px;max-width: 100%;overflow: auto;}#sk-container-id-4 input.sk-toggleable__control:checked~label.sk-toggleable__label-arrow:before {content: \"▾\";}#sk-container-id-4 div.sk-estimator input.sk-toggleable__control:checked~label.sk-toggleable__label {background-color: #d4ebff;}#sk-container-id-4 div.sk-label input.sk-toggleable__control:checked~label.sk-toggleable__label {background-color: #d4ebff;}#sk-container-id-4 input.sk-hidden--visually {border: 0;clip: rect(1px 1px 1px 1px);clip: rect(1px, 1px, 1px, 1px);height: 1px;margin: -1px;overflow: hidden;padding: 0;position: absolute;width: 1px;}#sk-container-id-4 div.sk-estimator {font-family: monospace;background-color: #f0f8ff;border: 1px dotted black;border-radius: 0.25em;box-sizing: border-box;margin-bottom: 0.5em;}#sk-container-id-4 div.sk-estimator:hover {background-color: #d4ebff;}#sk-container-id-4 div.sk-parallel-item::after {content: \"\";width: 100%;border-bottom: 1px solid gray;flex-grow: 1;}#sk-container-id-4 div.sk-label:hover label.sk-toggleable__label {background-color: #d4ebff;}#sk-container-id-4 div.sk-serial::before {content: \"\";position: absolute;border-left: 1px solid gray;box-sizing: border-box;top: 0;bottom: 0;left: 50%;z-index: 0;}#sk-container-id-4 div.sk-serial {display: flex;flex-direction: column;align-items: center;background-color: white;padding-right: 0.2em;padding-left: 0.2em;position: relative;}#sk-container-id-4 div.sk-item {position: relative;z-index: 1;}#sk-container-id-4 div.sk-parallel {display: flex;align-items: stretch;justify-content: center;background-color: white;position: relative;}#sk-container-id-4 div.sk-item::before, #sk-container-id-4 div.sk-parallel-item::before {content: \"\";position: absolute;border-left: 1px solid gray;box-sizing: border-box;top: 0;bottom: 0;left: 50%;z-index: -1;}#sk-container-id-4 div.sk-parallel-item {display: flex;flex-direction: column;z-index: 1;position: relative;background-color: white;}#sk-container-id-4 div.sk-parallel-item:first-child::after {align-self: flex-end;width: 50%;}#sk-container-id-4 div.sk-parallel-item:last-child::after {align-self: flex-start;width: 50%;}#sk-container-id-4 div.sk-parallel-item:only-child::after {width: 0;}#sk-container-id-4 div.sk-dashed-wrapped {border: 1px dashed gray;margin: 0 0.4em 0.5em 0.4em;box-sizing: border-box;padding-bottom: 0.4em;background-color: white;}#sk-container-id-4 div.sk-label label {font-family: monospace;font-weight: bold;display: inline-block;line-height: 1.2em;}#sk-container-id-4 div.sk-label-container {text-align: center;}#sk-container-id-4 div.sk-container {/* jupyter's `normalize.less` sets `[hidden] { display: none; }` but bootstrap.min.css set `[hidden] { display: none !important; }` so we also need the `!important` here to be able to override the default hidden behavior on the sphinx rendered scikit-learn.org. See: https://github.com/scikit-learn/scikit-learn/issues/21755 */display: inline-block !important;position: relative;}#sk-container-id-4 div.sk-text-repr-fallback {display: none;}</style><div id=\"sk-container-id-4\" class=\"sk-top-container\"><div class=\"sk-text-repr-fallback\"><pre>RandomForestRegressor(max_depth=10, min_samples_leaf=2, min_samples_split=4,\n",
       "                      n_estimators=84, random_state=42)</pre><b>In a Jupyter environment, please rerun this cell to show the HTML representation or trust the notebook. <br />On GitHub, the HTML representation is unable to render, please try loading this page with nbviewer.org.</b></div><div class=\"sk-container\" hidden><div class=\"sk-item\"><div class=\"sk-estimator sk-toggleable\"><input class=\"sk-toggleable__control sk-hidden--visually\" id=\"sk-estimator-id-4\" type=\"checkbox\" checked><label for=\"sk-estimator-id-4\" class=\"sk-toggleable__label sk-toggleable__label-arrow\">RandomForestRegressor</label><div class=\"sk-toggleable__content\"><pre>RandomForestRegressor(max_depth=10, min_samples_leaf=2, min_samples_split=4,\n",
       "                      n_estimators=84, random_state=42)</pre></div></div></div></div></div>"
      ],
      "text/plain": [
       "RandomForestRegressor(max_depth=10, min_samples_leaf=2, min_samples_split=4,\n",
       "                      n_estimators=84, random_state=42)"
      ]
     },
     "execution_count": 107,
     "metadata": {},
     "output_type": "execute_result"
    }
   ],
   "source": [
    "rf_params = {\n",
    "    \"random_state\": 42,\n",
    "    #\"learning_rate\": 0.1,\n",
    "    \"n_estimators\": study.best_trial.params[\"n_estimators\"],\n",
    "    \"max_depth\": study.best_trial.params[\"max_depth\"],\n",
    "    \"min_samples_leaf\": study.best_trial.params[\"min_samples_leaf\"],\n",
    "    \"min_samples_split\": study.best_trial.params[\"min_samples_split\"],\n",
    "    #\"subsample\": study.best_trial.params[\"subsample\"]\n",
    "}\n",
    "\n",
    "rf = RandomForestRegressor(**rf_params)\n",
    "rf.fit(As_X_train, As_y_train)"
   ]
  },
  {
   "cell_type": "code",
   "execution_count": 108,
   "id": "8577fb37",
   "metadata": {},
   "outputs": [],
   "source": [
    "y_train_pred = rf.predict(As_X_train)\n",
    "y_test_pred = rf.predict(As_X_test)"
   ]
  },
  {
   "cell_type": "code",
   "execution_count": 109,
   "id": "2ea0526a",
   "metadata": {},
   "outputs": [],
   "source": [
    "# plt.scatter(y_train_pred, np.array(As_y_train))"
   ]
  },
  {
   "cell_type": "code",
   "execution_count": 110,
   "id": "d2a4dd85",
   "metadata": {},
   "outputs": [
    {
     "name": "stdout",
     "output_type": "stream",
     "text": [
      "Train RMSE:  0.28088286844456933\n",
      "Test RMSE:  0.5379500884610775\n"
     ]
    }
   ],
   "source": [
    "print(\"Train RMSE: \", np.sqrt(mean_squared_error(As_y_train, y_train_pred)))\n",
    "print(\"Test RMSE: \", np.sqrt(mean_squared_error(As_y_test, y_test_pred)))"
   ]
  },
  {
   "cell_type": "code",
   "execution_count": 111,
   "id": "08fe787a",
   "metadata": {},
   "outputs": [
    {
     "name": "stdout",
     "output_type": "stream",
     "text": [
      "Train R2:  0.8839917521058941\n",
      "Test R2:  0.6174973823585634\n"
     ]
    }
   ],
   "source": [
    "print(\"Train R2: \", r2_score(As_y_train, y_train_pred))\n",
    "print(\"Test R2: \", r2_score(As_y_test, y_test_pred))"
   ]
  },
  {
   "cell_type": "code",
   "execution_count": 112,
   "id": "5ec4820c",
   "metadata": {},
   "outputs": [
    {
     "data": {
      "image/png": "[encoded data removed]",
      "text/plain": [
       "<Figure size 640x480 with 1 Axes>"
      ]
     },
     "metadata": {},
     "output_type": "display_data"
    }
   ],
   "source": [
    "plt.scatter(y_train_pred, np.array(As_y_train), color=\"orange\", alpha=0.3)\n",
    "plt.scatter(y_test_pred, np.array(As_y_test), color=\"green\", alpha=0.4)\n",
    "plt.axis(\"auto\") # scaled, tight, auto, image, square\n",
    "# plt.xlim([0, 1.5]) \n",
    "# plt.ylim(0, None) \n",
    "plt.xlabel('Predicted Values')\n",
    "plt.ylabel('Actual Values')\n",
    "\n",
    "# Add y=x line\n",
    "plt.plot([0, 1.8], [0, 1.8], color='red', linestyle='-')\n",
    "\n",
    "plt.show()"
   ]
  },
  {
   "attachments": {},
   "cell_type": "markdown",
   "id": "e0507d63",
   "metadata": {},
   "source": [
    "Cd"
   ]
  },
  {
   "attachments": {},
   "cell_type": "markdown",
   "id": "f8f809d9",
   "metadata": {},
   "source": [
    "Optimization"
   ]
  },
  {
   "cell_type": "code",
   "execution_count": 113,
   "id": "b7aeaf0a",
   "metadata": {},
   "outputs": [
    {
     "name": "stderr",
     "output_type": "stream",
     "text": [
      "\u001b[32m[I 2023-08-23 21:52:57,638]\u001b[0m A new study created in memory with name: rf_parameter_opt\u001b[0m\n",
      "\u001b[32m[I 2023-08-23 21:52:58,603]\u001b[0m Trial 0 finished with value: 0.6097986387960086 and parameters: {'n_estimators': 28, 'max_depth': 7, 'min_samples_leaf': 8, 'min_samples_split': 19}. Best is trial 0 with value: 0.6097986387960086.\u001b[0m\n",
      "\u001b[32m[I 2023-08-23 21:52:59,396]\u001b[0m Trial 1 finished with value: 0.2426300544473298 and parameters: {'n_estimators': 82, 'max_depth': 1, 'min_samples_leaf': 6, 'min_samples_split': 2}. Best is trial 0 with value: 0.6097986387960086.\u001b[0m\n",
      "\u001b[32m[I 2023-08-23 21:53:01,616]\u001b[0m Trial 2 finished with value: 0.5823253065763121 and parameters: {'n_estimators': 68, 'max_depth': 10, 'min_samples_leaf': 15, 'min_samples_split': 16}. Best is trial 0 with value: 0.6097986387960086.\u001b[0m\n",
      "\u001b[32m[I 2023-08-23 21:53:02,302]\u001b[0m Trial 3 finished with value: 0.38404809600495077 and parameters: {'n_estimators': 48, 'max_depth': 2, 'min_samples_leaf': 20, 'min_samples_split': 6}. Best is trial 0 with value: 0.6097986387960086.\u001b[0m\n",
      "\u001b[32m[I 2023-08-23 21:53:05,394]\u001b[0m Trial 4 finished with value: 0.6424229574640482 and parameters: {'n_estimators': 77, 'max_depth': 8, 'min_samples_leaf': 5, 'min_samples_split': 3}. Best is trial 4 with value: 0.6424229574640482.\u001b[0m\n",
      "\u001b[32m[I 2023-08-23 21:53:07,521]\u001b[0m Trial 5 finished with value: 0.5033680904777199 and parameters: {'n_estimators': 93, 'max_depth': 4, 'min_samples_leaf': 18, 'min_samples_split': 7}. Best is trial 4 with value: 0.6424229574640482.\u001b[0m\n",
      "\u001b[32m[I 2023-08-23 21:53:09,044]\u001b[0m Trial 6 finished with value: 0.4777288595185866 and parameters: {'n_estimators': 78, 'max_depth': 3, 'min_samples_leaf': 12, 'min_samples_split': 12}. Best is trial 4 with value: 0.6424229574640482.\u001b[0m\n",
      "\u001b[32m[I 2023-08-23 21:53:11,628]\u001b[0m Trial 7 finished with value: 0.5589649324449872 and parameters: {'n_estimators': 88, 'max_depth': 8, 'min_samples_leaf': 20, 'min_samples_split': 2}. Best is trial 4 with value: 0.6424229574640482.\u001b[0m\n",
      "\u001b[32m[I 2023-08-23 21:53:13,154]\u001b[0m Trial 8 finished with value: 0.5041704371385494 and parameters: {'n_estimators': 67, 'max_depth': 4, 'min_samples_leaf': 17, 'min_samples_split': 7}. Best is trial 4 with value: 0.6424229574640482.\u001b[0m\n",
      "\u001b[32m[I 2023-08-23 21:53:15,502]\u001b[0m Trial 9 finished with value: 0.5362893418009775 and parameters: {'n_estimators': 90, 'max_depth': 5, 'min_samples_leaf': 17, 'min_samples_split': 14}. Best is trial 4 with value: 0.6424229574640482.\u001b[0m\n",
      "\u001b[32m[I 2023-08-23 21:53:17,249]\u001b[0m Trial 10 finished with value: 0.6608559070441118 and parameters: {'n_estimators': 37, 'max_depth': 10, 'min_samples_leaf': 2, 'min_samples_split': 10}. Best is trial 10 with value: 0.6608559070441118.\u001b[0m\n",
      "\u001b[32m[I 2023-08-23 21:53:19,158]\u001b[0m Trial 11 finished with value: 0.6649365903887638 and parameters: {'n_estimators': 39, 'max_depth': 10, 'min_samples_leaf': 1, 'min_samples_split': 10}. Best is trial 11 with value: 0.6649365903887638.\u001b[0m\n",
      "\u001b[32m[I 2023-08-23 21:53:20,628]\u001b[0m Trial 12 finished with value: 0.6633592086211991 and parameters: {'n_estimators': 30, 'max_depth': 10, 'min_samples_leaf': 1, 'min_samples_split': 10}. Best is trial 11 with value: 0.6649365903887638.\u001b[0m\n",
      "\u001b[32m[I 2023-08-23 21:53:21,101]\u001b[0m Trial 13 finished with value: 0.6445607906755579 and parameters: {'n_estimators': 10, 'max_depth': 9, 'min_samples_leaf': 1, 'min_samples_split': 10}. Best is trial 11 with value: 0.6649365903887638.\u001b[0m\n",
      "\u001b[32m[I 2023-08-23 21:53:21,957]\u001b[0m Trial 14 finished with value: 0.6227650931991034 and parameters: {'n_estimators': 23, 'max_depth': 7, 'min_samples_leaf': 4, 'min_samples_split': 12}. Best is trial 11 with value: 0.6649365903887638.\u001b[0m\n",
      "\u001b[32m[I 2023-08-23 21:53:23,742]\u001b[0m Trial 15 finished with value: 0.6159030015223866 and parameters: {'n_estimators': 48, 'max_depth': 10, 'min_samples_leaf': 10, 'min_samples_split': 16}. Best is trial 11 with value: 0.6649365903887638.\u001b[0m\n",
      "\u001b[32m[I 2023-08-23 21:53:24,885]\u001b[0m Trial 16 finished with value: 0.6088726000982337 and parameters: {'n_estimators': 34, 'max_depth': 6, 'min_samples_leaf': 3, 'min_samples_split': 9}. Best is trial 11 with value: 0.6649365903887638.\u001b[0m\n",
      "\u001b[32m[I 2023-08-23 21:53:25,491]\u001b[0m Trial 17 finished with value: 0.6293346176276213 and parameters: {'n_estimators': 15, 'max_depth': 9, 'min_samples_leaf': 7, 'min_samples_split': 5}. Best is trial 11 with value: 0.6649365903887638.\u001b[0m\n",
      "\u001b[32m[I 2023-08-23 21:53:27,219]\u001b[0m Trial 18 finished with value: 0.6434511544453096 and parameters: {'n_estimators': 42, 'max_depth': 8, 'min_samples_leaf': 1, 'min_samples_split': 14}. Best is trial 11 with value: 0.6649365903887638.\u001b[0m\n",
      "\u001b[32m[I 2023-08-23 21:53:29,214]\u001b[0m Trial 19 finished with value: 0.6229230550303508 and parameters: {'n_estimators': 54, 'max_depth': 9, 'min_samples_leaf': 9, 'min_samples_split': 8}. Best is trial 11 with value: 0.6649365903887638.\u001b[0m\n",
      "\u001b[32m[I 2023-08-23 21:53:29,972]\u001b[0m Trial 20 finished with value: 0.5733369791157366 and parameters: {'n_estimators': 25, 'max_depth': 6, 'min_samples_leaf': 12, 'min_samples_split': 13}. Best is trial 11 with value: 0.6649365903887638.\u001b[0m\n",
      "\u001b[32m[I 2023-08-23 21:53:31,750]\u001b[0m Trial 21 finished with value: 0.6594942109140713 and parameters: {'n_estimators': 39, 'max_depth': 10, 'min_samples_leaf': 3, 'min_samples_split': 10}. Best is trial 11 with value: 0.6649365903887638.\u001b[0m\n",
      "\u001b[32m[I 2023-08-23 21:53:33,349]\u001b[0m Trial 22 finished with value: 0.6613268033683287 and parameters: {'n_estimators': 33, 'max_depth': 10, 'min_samples_leaf': 1, 'min_samples_split': 11}. Best is trial 11 with value: 0.6649365903887638.\u001b[0m\n",
      "\u001b[32m[I 2023-08-23 21:53:34,220]\u001b[0m Trial 23 finished with value: 0.6495800452241539 and parameters: {'n_estimators': 19, 'max_depth': 9, 'min_samples_leaf': 1, 'min_samples_split': 11}. Best is trial 11 with value: 0.6649365903887638.\u001b[0m\n",
      "\u001b[32m[I 2023-08-23 21:53:35,434]\u001b[0m Trial 24 finished with value: 0.6407020174598326 and parameters: {'n_estimators': 29, 'max_depth': 10, 'min_samples_leaf': 5, 'min_samples_split': 15}. Best is trial 11 with value: 0.6649365903887638.\u001b[0m\n",
      "\u001b[32m[I 2023-08-23 21:53:37,639]\u001b[0m Trial 25 finished with value: 0.6343717700888958 and parameters: {'n_estimators': 59, 'max_depth': 7, 'min_samples_leaf': 3, 'min_samples_split': 8}. Best is trial 11 with value: 0.6649365903887638.\u001b[0m\n",
      "\u001b[32m[I 2023-08-23 21:53:38,858]\u001b[0m Trial 26 finished with value: 0.6239131895648942 and parameters: {'n_estimators': 32, 'max_depth': 8, 'min_samples_leaf': 5, 'min_samples_split': 18}. Best is trial 11 with value: 0.6649365903887638.\u001b[0m\n",
      "\u001b[32m[I 2023-08-23 21:53:41,083]\u001b[0m Trial 27 finished with value: 0.662057692946408 and parameters: {'n_estimators': 48, 'max_depth': 9, 'min_samples_leaf': 2, 'min_samples_split': 5}. Best is trial 11 with value: 0.6649365903887638.\u001b[0m\n",
      "\u001b[32m[I 2023-08-23 21:53:43,147]\u001b[0m Trial 28 finished with value: 0.6618445631632368 and parameters: {'n_estimators': 46, 'max_depth': 9, 'min_samples_leaf': 3, 'min_samples_split': 4}. Best is trial 11 with value: 0.6649365903887638.\u001b[0m\n",
      "\u001b[32m[I 2023-08-23 21:53:45,048]\u001b[0m Trial 29 finished with value: 0.6066124218051141 and parameters: {'n_estimators': 56, 'max_depth': 7, 'min_samples_leaf': 8, 'min_samples_split': 20}. Best is trial 11 with value: 0.6649365903887638.\u001b[0m\n",
      "\u001b[32m[I 2023-08-23 21:53:47,460]\u001b[0m Trial 30 finished with value: 0.6358605418480611 and parameters: {'n_estimators': 62, 'max_depth': 9, 'min_samples_leaf': 7, 'min_samples_split': 5}. Best is trial 11 with value: 0.6649365903887638.\u001b[0m\n",
      "\u001b[32m[I 2023-08-23 21:53:49,523]\u001b[0m Trial 31 finished with value: 0.6618445631632368 and parameters: {'n_estimators': 46, 'max_depth': 9, 'min_samples_leaf': 3, 'min_samples_split': 4}. Best is trial 11 with value: 0.6649365903887638.\u001b[0m\n",
      "\u001b[32m[I 2023-08-23 21:53:51,385]\u001b[0m Trial 32 finished with value: 0.6514082617629822 and parameters: {'n_estimators': 43, 'max_depth': 8, 'min_samples_leaf': 2, 'min_samples_split': 4}. Best is trial 11 with value: 0.6649365903887638.\u001b[0m\n",
      "\u001b[32m[I 2023-08-23 21:53:53,834]\u001b[0m Trial 33 finished with value: 0.6691737854111951 and parameters: {'n_estimators': 50, 'max_depth': 10, 'min_samples_leaf': 2, 'min_samples_split': 6}. Best is trial 33 with value: 0.6691737854111951.\u001b[0m\n",
      "\u001b[32m[I 2023-08-23 21:53:56,038]\u001b[0m Trial 34 finished with value: 0.6448304066276493 and parameters: {'n_estimators': 53, 'max_depth': 10, 'min_samples_leaf': 6, 'min_samples_split': 6}. Best is trial 33 with value: 0.6691737854111951.\u001b[0m\n",
      "\u001b[32m[I 2023-08-23 21:53:56,672]\u001b[0m Trial 35 finished with value: 0.2429570608370743 and parameters: {'n_estimators': 65, 'max_depth': 1, 'min_samples_leaf': 4, 'min_samples_split': 8}. Best is trial 33 with value: 0.6691737854111951.\u001b[0m\n",
      "\u001b[32m[I 2023-08-23 21:54:00,194]\u001b[0m Trial 36 finished with value: 0.6732432803578678 and parameters: {'n_estimators': 72, 'max_depth': 10, 'min_samples_leaf': 2, 'min_samples_split': 6}. Best is trial 36 with value: 0.6732432803578678.\u001b[0m\n",
      "\u001b[32m[I 2023-08-23 21:54:03,392]\u001b[0m Trial 37 finished with value: 0.6637927799555766 and parameters: {'n_estimators': 71, 'max_depth': 10, 'min_samples_leaf': 4, 'min_samples_split': 7}. Best is trial 36 with value: 0.6732432803578678.\u001b[0m\n",
      "\u001b[32m[I 2023-08-23 21:54:06,629]\u001b[0m Trial 38 finished with value: 0.6645727842343749 and parameters: {'n_estimators': 72, 'max_depth': 10, 'min_samples_leaf': 4, 'min_samples_split': 7}. Best is trial 36 with value: 0.6732432803578678.\u001b[0m\n",
      "\u001b[32m[I 2023-08-23 21:54:09,385]\u001b[0m Trial 39 finished with value: 0.593745236170953 and parameters: {'n_estimators': 84, 'max_depth': 8, 'min_samples_leaf': 13, 'min_samples_split': 6}. Best is trial 36 with value: 0.6732432803578678.\u001b[0m\n",
      "\u001b[32m[I 2023-08-23 21:54:10,777]\u001b[0m Trial 40 finished with value: 0.48506426299563393 and parameters: {'n_estimators': 73, 'max_depth': 3, 'min_samples_leaf': 6, 'min_samples_split': 2}. Best is trial 36 with value: 0.6732432803578678.\u001b[0m\n",
      "\u001b[32m[I 2023-08-23 21:54:14,015]\u001b[0m Trial 41 finished with value: 0.6645727842343749 and parameters: {'n_estimators': 72, 'max_depth': 10, 'min_samples_leaf': 4, 'min_samples_split': 7}. Best is trial 36 with value: 0.6732432803578678.\u001b[0m\n",
      "\u001b[32m[I 2023-08-23 21:54:17,728]\u001b[0m Trial 42 finished with value: 0.671671566086725 and parameters: {'n_estimators': 77, 'max_depth': 10, 'min_samples_leaf': 2, 'min_samples_split': 7}. Best is trial 36 with value: 0.6732432803578678.\u001b[0m\n",
      "\u001b[32m[I 2023-08-23 21:54:22,303]\u001b[0m Trial 43 finished with value: 0.6692951310627879 and parameters: {'n_estimators': 97, 'max_depth': 10, 'min_samples_leaf': 2, 'min_samples_split': 9}. Best is trial 36 with value: 0.6732432803578678.\u001b[0m\n",
      "\u001b[32m[I 2023-08-23 21:54:26,733]\u001b[0m Trial 44 finished with value: 0.6635202249608432 and parameters: {'n_estimators': 99, 'max_depth': 9, 'min_samples_leaf': 2, 'min_samples_split': 9}. Best is trial 36 with value: 0.6732432803578678.\u001b[0m\n",
      "\u001b[32m[I 2023-08-23 21:54:30,010]\u001b[0m Trial 45 finished with value: 0.6517832116238088 and parameters: {'n_estimators': 79, 'max_depth': 8, 'min_samples_leaf': 2, 'min_samples_split': 9}. Best is trial 36 with value: 0.6732432803578678.\u001b[0m\n",
      "\u001b[32m[I 2023-08-23 21:54:34,700]\u001b[0m Trial 46 finished with value: 0.6768179886268211 and parameters: {'n_estimators': 96, 'max_depth': 10, 'min_samples_leaf': 2, 'min_samples_split': 6}. Best is trial 46 with value: 0.6768179886268211.\u001b[0m\n",
      "\u001b[32m[I 2023-08-23 21:54:38,511]\u001b[0m Trial 47 finished with value: 0.6458062400148287 and parameters: {'n_estimators': 95, 'max_depth': 9, 'min_samples_leaf': 6, 'min_samples_split': 6}. Best is trial 46 with value: 0.6768179886268211.\u001b[0m\n",
      "\u001b[32m[I 2023-08-23 21:54:42,181]\u001b[0m Trial 48 finished with value: 0.654989727181154 and parameters: {'n_estimators': 85, 'max_depth': 10, 'min_samples_leaf': 5, 'min_samples_split': 3}. Best is trial 46 with value: 0.6768179886268211.\u001b[0m\n",
      "\u001b[32m[I 2023-08-23 21:54:45,033]\u001b[0m Trial 49 finished with value: 0.5877235032769601 and parameters: {'n_estimators': 99, 'max_depth': 5, 'min_samples_leaf': 2, 'min_samples_split': 6}. Best is trial 46 with value: 0.6768179886268211.\u001b[0m\n",
      "\u001b[32m[I 2023-08-23 21:54:49,258]\u001b[0m Trial 50 finished with value: 0.6691605321243297 and parameters: {'n_estimators': 91, 'max_depth': 10, 'min_samples_leaf': 3, 'min_samples_split': 8}. Best is trial 46 with value: 0.6768179886268211.\u001b[0m\n",
      "\u001b[32m[I 2023-08-23 21:54:53,472]\u001b[0m Trial 51 finished with value: 0.6691605321243297 and parameters: {'n_estimators': 91, 'max_depth': 10, 'min_samples_leaf': 3, 'min_samples_split': 8}. Best is trial 46 with value: 0.6768179886268211.\u001b[0m\n",
      "\u001b[32m[I 2023-08-23 21:54:57,783]\u001b[0m Trial 52 finished with value: 0.6684069889684895 and parameters: {'n_estimators': 95, 'max_depth': 9, 'min_samples_leaf': 2, 'min_samples_split': 7}. Best is trial 46 with value: 0.6768179886268211.\u001b[0m\n",
      "\u001b[32m[I 2023-08-23 21:55:02,270]\u001b[0m Trial 53 finished with value: 0.6781342460707359 and parameters: {'n_estimators': 87, 'max_depth': 10, 'min_samples_leaf': 1, 'min_samples_split': 5}. Best is trial 53 with value: 0.6781342460707359.\u001b[0m\n",
      "\u001b[32m[I 2023-08-23 21:55:06,747]\u001b[0m Trial 54 finished with value: 0.6781342460707359 and parameters: {'n_estimators': 87, 'max_depth': 10, 'min_samples_leaf': 1, 'min_samples_split': 5}. Best is trial 53 with value: 0.6781342460707359.\u001b[0m\n",
      "\u001b[32m[I 2023-08-23 21:55:11,020]\u001b[0m Trial 55 finished with value: 0.6790067347506671 and parameters: {'n_estimators': 80, 'max_depth': 10, 'min_samples_leaf': 1, 'min_samples_split': 3}. Best is trial 55 with value: 0.6790067347506671.\u001b[0m\n",
      "\u001b[32m[I 2023-08-23 21:55:14,955]\u001b[0m Trial 56 finished with value: 0.6716521804669366 and parameters: {'n_estimators': 80, 'max_depth': 9, 'min_samples_leaf': 1, 'min_samples_split': 3}. Best is trial 55 with value: 0.6790067347506671.\u001b[0m\n",
      "\u001b[32m[I 2023-08-23 21:55:19,287]\u001b[0m Trial 57 finished with value: 0.6729458021931892 and parameters: {'n_estimators': 87, 'max_depth': 9, 'min_samples_leaf': 1, 'min_samples_split': 2}. Best is trial 55 with value: 0.6790067347506671.\u001b[0m\n",
      "\u001b[32m[I 2023-08-23 21:55:23,553]\u001b[0m Trial 58 finished with value: 0.6732752934580132 and parameters: {'n_estimators': 87, 'max_depth': 9, 'min_samples_leaf': 1, 'min_samples_split': 3}. Best is trial 55 with value: 0.6790067347506671.\u001b[0m\n",
      "\u001b[32m[I 2023-08-23 21:55:28,215]\u001b[0m Trial 59 finished with value: 0.6812426043233675 and parameters: {'n_estimators': 87, 'max_depth': 10, 'min_samples_leaf': 1, 'min_samples_split': 3}. Best is trial 59 with value: 0.6812426043233675.\u001b[0m\n",
      "\u001b[32m[I 2023-08-23 21:55:32,536]\u001b[0m Trial 60 finished with value: 0.6735342385636847 and parameters: {'n_estimators': 88, 'max_depth': 9, 'min_samples_leaf': 1, 'min_samples_split': 3}. Best is trial 59 with value: 0.6812426043233675.\u001b[0m\n",
      "\u001b[32m[I 2023-08-23 21:55:36,901]\u001b[0m Trial 61 finished with value: 0.673377867358445 and parameters: {'n_estimators': 89, 'max_depth': 9, 'min_samples_leaf': 1, 'min_samples_split': 3}. Best is trial 59 with value: 0.6812426043233675.\u001b[0m\n",
      "\u001b[32m[I 2023-08-23 21:55:40,520]\u001b[0m Trial 62 finished with value: 0.6606141171097409 and parameters: {'n_estimators': 82, 'max_depth': 8, 'min_samples_leaf': 1, 'min_samples_split': 4}. Best is trial 59 with value: 0.6812426043233675.\u001b[0m\n",
      "\u001b[32m[I 2023-08-23 21:55:45,082]\u001b[0m Trial 63 finished with value: 0.674234696371551 and parameters: {'n_estimators': 93, 'max_depth': 9, 'min_samples_leaf': 1, 'min_samples_split': 3}. Best is trial 59 with value: 0.6812426043233675.\u001b[0m\n",
      "\u001b[32m[I 2023-08-23 21:55:50,170]\u001b[0m Trial 64 finished with value: 0.6827603197566667 and parameters: {'n_estimators': 93, 'max_depth': 10, 'min_samples_leaf': 1, 'min_samples_split': 2}. Best is trial 64 with value: 0.6827603197566667.\u001b[0m\n",
      "\u001b[32m[I 2023-08-23 21:55:53,132]\u001b[0m Trial 65 finished with value: 0.5768582050095449 and parameters: {'n_estimators': 94, 'max_depth': 10, 'min_samples_leaf': 16, 'min_samples_split': 2}. Best is trial 64 with value: 0.6827603197566667.\u001b[0m\n",
      "\u001b[32m[I 2023-08-23 21:55:57,472]\u001b[0m Trial 66 finished with value: 0.6722435349496596 and parameters: {'n_estimators': 92, 'max_depth': 10, 'min_samples_leaf': 3, 'min_samples_split': 5}. Best is trial 64 with value: 0.6827603197566667.\u001b[0m\n",
      "\u001b[32m[I 2023-08-23 21:56:02,187]\u001b[0m Trial 67 finished with value: 0.6725496697361433 and parameters: {'n_estimators': 100, 'max_depth': 10, 'min_samples_leaf': 3, 'min_samples_split': 4}. Best is trial 64 with value: 0.6827603197566667.\u001b[0m\n",
      "\u001b[32m[I 2023-08-23 21:56:04,923]\u001b[0m Trial 68 finished with value: 0.589246376711802 and parameters: {'n_estimators': 83, 'max_depth': 10, 'min_samples_leaf': 14, 'min_samples_split': 2}. Best is trial 64 with value: 0.6827603197566667.\u001b[0m\n",
      "\u001b[32m[I 2023-08-23 21:56:07,715]\u001b[0m Trial 69 finished with value: 0.5596464731786084 and parameters: {'n_estimators': 96, 'max_depth': 9, 'min_samples_leaf': 20, 'min_samples_split': 5}. Best is trial 64 with value: 0.6827603197566667.\u001b[0m\n",
      "\u001b[32m[I 2023-08-23 21:56:09,708]\u001b[0m Trial 70 finished with value: 0.5211165528691519 and parameters: {'n_estimators': 86, 'max_depth': 4, 'min_samples_leaf': 11, 'min_samples_split': 4}. Best is trial 64 with value: 0.6827603197566667.\u001b[0m\n",
      "\u001b[32m[I 2023-08-23 21:56:14,074]\u001b[0m Trial 71 finished with value: 0.673377867358445 and parameters: {'n_estimators': 89, 'max_depth': 9, 'min_samples_leaf': 1, 'min_samples_split': 3}. Best is trial 64 with value: 0.6827603197566667.\u001b[0m\n",
      "\u001b[32m[I 2023-08-23 21:56:19,044]\u001b[0m Trial 72 finished with value: 0.6816996855426388 and parameters: {'n_estimators': 93, 'max_depth': 10, 'min_samples_leaf': 1, 'min_samples_split': 3}. Best is trial 64 with value: 0.6827603197566667.\u001b[0m\n",
      "\u001b[32m[I 2023-08-23 21:56:24,079]\u001b[0m Trial 73 finished with value: 0.6826362915862276 and parameters: {'n_estimators': 92, 'max_depth': 10, 'min_samples_leaf': 1, 'min_samples_split': 2}. Best is trial 64 with value: 0.6827603197566667.\u001b[0m\n",
      "\u001b[32m[I 2023-08-23 21:56:28,520]\u001b[0m Trial 74 finished with value: 0.6806522939432036 and parameters: {'n_estimators': 81, 'max_depth': 10, 'min_samples_leaf': 1, 'min_samples_split': 2}. Best is trial 64 with value: 0.6827603197566667.\u001b[0m\n",
      "\u001b[32m[I 2023-08-23 21:56:32,624]\u001b[0m Trial 75 finished with value: 0.680127148896514 and parameters: {'n_estimators': 75, 'max_depth': 10, 'min_samples_leaf': 1, 'min_samples_split': 2}. Best is trial 64 with value: 0.6827603197566667.\u001b[0m\n",
      "\u001b[32m[I 2023-08-23 21:56:36,317]\u001b[0m Trial 76 finished with value: 0.6718697766724528 and parameters: {'n_estimators': 78, 'max_depth': 10, 'min_samples_leaf': 3, 'min_samples_split': 2}. Best is trial 64 with value: 0.6827603197566667.\u001b[0m\n",
      "\u001b[32m[I 2023-08-23 21:56:40,089]\u001b[0m Trial 77 finished with value: 0.6750378020215779 and parameters: {'n_estimators': 75, 'max_depth': 10, 'min_samples_leaf': 2, 'min_samples_split': 2}. Best is trial 64 with value: 0.6827603197566667.\u001b[0m\n",
      "\u001b[32m[I 2023-08-23 21:56:42,506]\u001b[0m Trial 78 finished with value: 0.5625757064683525 and parameters: {'n_estimators': 81, 'max_depth': 10, 'min_samples_leaf': 19, 'min_samples_split': 3}. Best is trial 64 with value: 0.6827603197566667.\u001b[0m\n",
      "\u001b[32m[I 2023-08-23 21:56:45,625]\u001b[0m Trial 79 finished with value: 0.6635184482999218 and parameters: {'n_estimators': 69, 'max_depth': 10, 'min_samples_leaf': 4, 'min_samples_split': 2}. Best is trial 64 with value: 0.6827603197566667.\u001b[0m\n",
      "\u001b[32m[I 2023-08-23 21:56:49,610]\u001b[0m Trial 80 finished with value: 0.6780339547133595 and parameters: {'n_estimators': 76, 'max_depth': 10, 'min_samples_leaf': 1, 'min_samples_split': 4}. Best is trial 64 with value: 0.6827603197566667.\u001b[0m\n",
      "\u001b[32m[I 2023-08-23 21:56:54,205]\u001b[0m Trial 81 finished with value: 0.6812404482212553 and parameters: {'n_estimators': 84, 'max_depth': 10, 'min_samples_leaf': 1, 'min_samples_split': 2}. Best is trial 64 with value: 0.6827603197566667.\u001b[0m\n",
      "\u001b[32m[I 2023-08-23 21:56:58,436]\u001b[0m Trial 82 finished with value: 0.676337129683646 and parameters: {'n_estimators': 84, 'max_depth': 10, 'min_samples_leaf': 2, 'min_samples_split': 2}. Best is trial 64 with value: 0.6827603197566667.\u001b[0m\n",
      "\u001b[32m[I 2023-08-23 21:57:02,514]\u001b[0m Trial 83 finished with value: 0.6723365437839609 and parameters: {'n_estimators': 82, 'max_depth': 9, 'min_samples_leaf': 1, 'min_samples_split': 3}. Best is trial 64 with value: 0.6827603197566667.\u001b[0m\n",
      "\u001b[32m[I 2023-08-23 21:57:07,438]\u001b[0m Trial 84 finished with value: 0.6827081879917202 and parameters: {'n_estimators': 90, 'max_depth': 10, 'min_samples_leaf': 1, 'min_samples_split': 2}. Best is trial 64 with value: 0.6827603197566667.\u001b[0m\n",
      "\u001b[32m[I 2023-08-23 21:57:12,119]\u001b[0m Trial 85 finished with value: 0.677714754611522 and parameters: {'n_estimators': 92, 'max_depth': 10, 'min_samples_leaf': 2, 'min_samples_split': 2}. Best is trial 64 with value: 0.6827603197566667.\u001b[0m\n",
      "\u001b[32m[I 2023-08-23 21:57:13,460]\u001b[0m Trial 86 finished with value: 0.383664596247248 and parameters: {'n_estimators': 90, 'max_depth': 2, 'min_samples_leaf': 3, 'min_samples_split': 2}. Best is trial 64 with value: 0.6827603197566667.\u001b[0m\n",
      "\u001b[32m[I 2023-08-23 21:57:18,112]\u001b[0m Trial 87 finished with value: 0.6722964709519649 and parameters: {'n_estimators': 98, 'max_depth': 9, 'min_samples_leaf': 2, 'min_samples_split': 4}. Best is trial 64 with value: 0.6827603197566667.\u001b[0m\n",
      "\u001b[32m[I 2023-08-23 21:57:21,703]\u001b[0m Trial 88 finished with value: 0.6642526453114093 and parameters: {'n_estimators': 80, 'max_depth': 10, 'min_samples_leaf': 4, 'min_samples_split': 2}. Best is trial 64 with value: 0.6827603197566667.\u001b[0m\n",
      "\u001b[32m[I 2023-08-23 21:57:24,570]\u001b[0m Trial 89 finished with value: 0.6199180483389859 and parameters: {'n_estimators': 85, 'max_depth': 6, 'min_samples_leaf': 2, 'min_samples_split': 3}. Best is trial 64 with value: 0.6827603197566667.\u001b[0m\n",
      "\u001b[32m[I 2023-08-23 21:57:28,502]\u001b[0m Trial 90 finished with value: 0.677777421843174 and parameters: {'n_estimators': 75, 'max_depth': 10, 'min_samples_leaf': 1, 'min_samples_split': 4}. Best is trial 64 with value: 0.6827603197566667.\u001b[0m\n",
      "\u001b[32m[I 2023-08-23 21:57:33,327]\u001b[0m Trial 91 finished with value: 0.6814028358434465 and parameters: {'n_estimators': 90, 'max_depth': 10, 'min_samples_leaf': 1, 'min_samples_split': 3}. Best is trial 64 with value: 0.6827603197566667.\u001b[0m\n",
      "\u001b[32m[I 2023-08-23 21:57:38,468]\u001b[0m Trial 92 finished with value: 0.6829058177341895 and parameters: {'n_estimators': 94, 'max_depth': 10, 'min_samples_leaf': 1, 'min_samples_split': 2}. Best is trial 92 with value: 0.6829058177341895.\u001b[0m\n",
      "\u001b[32m[I 2023-08-23 21:57:43,151]\u001b[0m Trial 93 finished with value: 0.677950198741655 and parameters: {'n_estimators': 93, 'max_depth': 10, 'min_samples_leaf': 2, 'min_samples_split': 2}. Best is trial 92 with value: 0.6829058177341895.\u001b[0m\n",
      "\u001b[32m[I 2023-08-23 21:57:47,404]\u001b[0m Trial 94 finished with value: 0.6721109133194161 and parameters: {'n_estimators': 90, 'max_depth': 10, 'min_samples_leaf': 3, 'min_samples_split': 2}. Best is trial 92 with value: 0.6829058177341895.\u001b[0m\n",
      "\u001b[32m[I 2023-08-23 21:57:52,158]\u001b[0m Trial 95 finished with value: 0.6747045393059261 and parameters: {'n_estimators': 97, 'max_depth': 9, 'min_samples_leaf': 1, 'min_samples_split': 3}. Best is trial 92 with value: 0.6829058177341895.\u001b[0m\n",
      "\u001b[32m[I 2023-08-23 21:57:56,895]\u001b[0m Trial 96 finished with value: 0.6780333091327058 and parameters: {'n_estimators': 94, 'max_depth': 10, 'min_samples_leaf': 2, 'min_samples_split': 3}. Best is trial 92 with value: 0.6829058177341895.\u001b[0m\n",
      "\u001b[32m[I 2023-08-23 21:58:01,491]\u001b[0m Trial 97 finished with value: 0.6812404482212553 and parameters: {'n_estimators': 84, 'max_depth': 10, 'min_samples_leaf': 1, 'min_samples_split': 2}. Best is trial 92 with value: 0.6829058177341895.\u001b[0m\n",
      "\u001b[32m[I 2023-08-23 21:58:04,763]\u001b[0m Trial 98 finished with value: 0.6261701292306836 and parameters: {'n_estimators': 89, 'max_depth': 9, 'min_samples_leaf': 9, 'min_samples_split': 17}. Best is trial 92 with value: 0.6829058177341895.\u001b[0m\n",
      "\u001b[32m[I 2023-08-23 21:58:08,994]\u001b[0m Trial 99 finished with value: 0.676337129683646 and parameters: {'n_estimators': 84, 'max_depth': 10, 'min_samples_leaf': 2, 'min_samples_split': 4}. Best is trial 92 with value: 0.6829058177341895.\u001b[0m\n"
     ]
    },
    {
     "name": "stdout",
     "output_type": "stream",
     "text": [
      "Best r2:  0.6829058177341895\n",
      "Best trial: {'n_estimators': 94, 'max_depth': 10, 'min_samples_leaf': 1, 'min_samples_split': 2}\n"
     ]
    }
   ],
   "source": [
    "sampler = TPESampler()\n",
    "study = optuna.create_study(\n",
    "    study_name=\"rf_parameter_opt\",\n",
    "    direction=\"maximize\",\n",
    "    sampler=sampler,\n",
    ")\n",
    "\n",
    "study.optimize(lambda trial : objectiveRF(trial, Cd_X_train, Cd_y_train), n_trials=100)\n",
    "print(\"Best r2: \", study.best_value)\n",
    "print(\"Best trial:\", study.best_trial.params)"
   ]
  },
  {
   "cell_type": "code",
   "execution_count": 114,
   "id": "861f88d8",
   "metadata": {},
   "outputs": [
    {
     "data": {
      "application/vnd.plotly.v1+json": {
       "config": {
        "plotlyServerURL": "https://plot.ly"
       },
       "data": [
        {
         "dimensions": [
          {
           "label": "Objective Value",
           "range": [
            0.2426300544473298,
            0.6829058177341895
           ],
           "values": [
            0.6097986387960086,
            0.2426300544473298,
            0.5823253065763121,
            0.38404809600495077,
            0.6424229574640482,
            0.5033680904777199,
            0.4777288595185866,
            0.5589649324449872,
            0.5041704371385494,
            0.5362893418009775,
            0.6608559070441118,
            0.6649365903887638,
            0.6633592086211991,
            0.6445607906755579,
            0.6227650931991034,
            0.6159030015223866,
            0.6088726000982337,
            0.6293346176276213,
            0.6434511544453096,
            0.6229230550303508,
            0.5733369791157366,
            0.6594942109140713,
            0.6613268033683287,
            0.6495800452241539,
            0.6407020174598326,
            0.6343717700888958,
            0.6239131895648942,
            0.662057692946408,
            0.6618445631632368,
            0.6066124218051141,
            0.6358605418480611,
            0.6618445631632368,
            0.6514082617629822,
            0.6691737854111951,
            0.6448304066276493,
            0.2429570608370743,
            0.6732432803578678,
            0.6637927799555766,
            0.6645727842343749,
            0.593745236170953,
            0.48506426299563393,
            0.6645727842343749,
            0.671671566086725,
            0.6692951310627879,
            0.6635202249608432,
            0.6517832116238088,
            0.6768179886268211,
            0.6458062400148287,
            0.654989727181154,
            0.5877235032769601,
            0.6691605321243297,
            0.6691605321243297,
            0.6684069889684895,
            0.6781342460707359,
            0.6781342460707359,
            0.6790067347506671,
            0.6716521804669366,
            0.6729458021931892,
            0.6732752934580132,
            0.6812426043233675,
            0.6735342385636847,
            0.673377867358445,
            0.6606141171097409,
            0.674234696371551,
            0.6827603197566667,
            0.5768582050095449,
            0.6722435349496596,
            0.6725496697361433,
            0.589246376711802,
            0.5596464731786084,
            0.5211165528691519,
            0.673377867358445,
            0.6816996855426388,
            0.6826362915862276,
            0.6806522939432036,
            0.680127148896514,
            0.6718697766724528,
            0.6750378020215779,
            0.5625757064683525,
            0.6635184482999218,
            0.6780339547133595,
            0.6812404482212553,
            0.676337129683646,
            0.6723365437839609,
            0.6827081879917202,
            0.677714754611522,
            0.383664596247248,
            0.6722964709519649,
            0.6642526453114093,
            0.6199180483389859,
            0.677777421843174,
            0.6814028358434465,
            0.6829058177341895,
            0.677950198741655,
            0.6721109133194161,
            0.6747045393059261,
            0.6780333091327058,
            0.6812404482212553,
            0.6261701292306836,
            0.676337129683646
           ]
          },
          {
           "label": "max_depth",
           "range": [
            1,
            10
           ],
           "values": [
            7,
            1,
            10,
            2,
            8,
            4,
            3,
            8,
            4,
            5,
            10,
            10,
            10,
            9,
            7,
            10,
            6,
            9,
            8,
            9,
            6,
            10,
            10,
            9,
            10,
            7,
            8,
            9,
            9,
            7,
            9,
            9,
            8,
            10,
            10,
            1,
            10,
            10,
            10,
            8,
            3,
            10,
            10,
            10,
            9,
            8,
            10,
            9,
            10,
            5,
            10,
            10,
            9,
            10,
            10,
            10,
            9,
            9,
            9,
            10,
            9,
            9,
            8,
            9,
            10,
            10,
            10,
            10,
            10,
            9,
            4,
            9,
            10,
            10,
            10,
            10,
            10,
            10,
            10,
            10,
            10,
            10,
            10,
            9,
            10,
            10,
            2,
            9,
            10,
            6,
            10,
            10,
            10,
            10,
            10,
            9,
            10,
            10,
            9,
            10
           ]
          },
          {
           "label": "min_samples_leaf",
           "range": [
            1,
            20
           ],
           "values": [
            8,
            6,
            15,
            20,
            5,
            18,
            12,
            20,
            17,
            17,
            2,
            1,
            1,
            1,
            4,
            10,
            3,
            7,
            1,
            9,
            12,
            3,
            1,
            1,
            5,
            3,
            5,
            2,
            3,
            8,
            7,
            3,
            2,
            2,
            6,
            4,
            2,
            4,
            4,
            13,
            6,
            4,
            2,
            2,
            2,
            2,
            2,
            6,
            5,
            2,
            3,
            3,
            2,
            1,
            1,
            1,
            1,
            1,
            1,
            1,
            1,
            1,
            1,
            1,
            1,
            16,
            3,
            3,
            14,
            20,
            11,
            1,
            1,
            1,
            1,
            1,
            3,
            2,
            19,
            4,
            1,
            1,
            2,
            1,
            1,
            2,
            3,
            2,
            4,
            2,
            1,
            1,
            1,
            2,
            3,
            1,
            2,
            1,
            9,
            2
           ]
          },
          {
           "label": "min_samples_split",
           "range": [
            2,
            20
           ],
           "values": [
            19,
            2,
            16,
            6,
            3,
            7,
            12,
            2,
            7,
            14,
            10,
            10,
            10,
            10,
            12,
            16,
            9,
            5,
            14,
            8,
            13,
            10,
            11,
            11,
            15,
            8,
            18,
            5,
            4,
            20,
            5,
            4,
            4,
            6,
            6,
            8,
            6,
            7,
            7,
            6,
            2,
            7,
            7,
            9,
            9,
            9,
            6,
            6,
            3,
            6,
            8,
            8,
            7,
            5,
            5,
            3,
            3,
            2,
            3,
            3,
            3,
            3,
            4,
            3,
            2,
            2,
            5,
            4,
            2,
            5,
            4,
            3,
            3,
            2,
            2,
            2,
            2,
            2,
            3,
            2,
            4,
            2,
            2,
            3,
            2,
            2,
            2,
            4,
            2,
            3,
            4,
            3,
            2,
            2,
            2,
            3,
            3,
            2,
            17,
            4
           ]
          },
          {
           "label": "n_estimators",
           "range": [
            10,
            100
           ],
           "values": [
            28,
            82,
            68,
            48,
            77,
            93,
            78,
            88,
            67,
            90,
            37,
            39,
            30,
            10,
            23,
            48,
            34,
            15,
            42,
            54,
            25,
            39,
            33,
            19,
            29,
            59,
            32,
            48,
            46,
            56,
            62,
            46,
            43,
            50,
            53,
            65,
            72,
            71,
            72,
            84,
            73,
            72,
            77,
            97,
            99,
            79,
            96,
            95,
            85,
            99,
            91,
            91,
            95,
            87,
            87,
            80,
            80,
            87,
            87,
            87,
            88,
            89,
            82,
            93,
            93,
            94,
            92,
            100,
            83,
            96,
            86,
            89,
            93,
            92,
            81,
            75,
            78,
            75,
            81,
            69,
            76,
            84,
            84,
            82,
            90,
            92,
            90,
            98,
            80,
            85,
            75,
            90,
            94,
            93,
            90,
            97,
            94,
            84,
            89,
            84
           ]
          }
         ],
         "labelangle": 30,
         "labelside": "bottom",
         "line": {
          "color": [
           0.6097986387960086,
           0.2426300544473298,
           0.5823253065763121,
           0.38404809600495077,
           0.6424229574640482,
           0.5033680904777199,
           0.4777288595185866,
           0.5589649324449872,
           0.5041704371385494,
           0.5362893418009775,
           0.6608559070441118,
           0.6649365903887638,
           0.6633592086211991,
           0.6445607906755579,
           0.6227650931991034,
           0.6159030015223866,
           0.6088726000982337,
           0.6293346176276213,
           0.6434511544453096,
           0.6229230550303508,
           0.5733369791157366,
           0.6594942109140713,
           0.6613268033683287,
           0.6495800452241539,
           0.6407020174598326,
           0.6343717700888958,
           0.6239131895648942,
           0.662057692946408,
           0.6618445631632368,
           0.6066124218051141,
           0.6358605418480611,
           0.6618445631632368,
           0.6514082617629822,
           0.6691737854111951,
           0.6448304066276493,
           0.2429570608370743,
           0.6732432803578678,
           0.6637927799555766,
           0.6645727842343749,
           0.593745236170953,
           0.48506426299563393,
           0.6645727842343749,
           0.671671566086725,
           0.6692951310627879,
           0.6635202249608432,
           0.6517832116238088,
           0.6768179886268211,
           0.6458062400148287,
           0.654989727181154,
           0.5877235032769601,
           0.6691605321243297,
           0.6691605321243297,
           0.6684069889684895,
           0.6781342460707359,
           0.6781342460707359,
           0.6790067347506671,
           0.6716521804669366,
           0.6729458021931892,
           0.6732752934580132,
           0.6812426043233675,
           0.6735342385636847,
           0.673377867358445,
           0.6606141171097409,
           0.674234696371551,
           0.6827603197566667,
           0.5768582050095449,
           0.6722435349496596,
           0.6725496697361433,
           0.589246376711802,
           0.5596464731786084,
           0.5211165528691519,
           0.673377867358445,
           0.6816996855426388,
           0.6826362915862276,
           0.6806522939432036,
           0.680127148896514,
           0.6718697766724528,
           0.6750378020215779,
           0.5625757064683525,
           0.6635184482999218,
           0.6780339547133595,
           0.6812404482212553,
           0.676337129683646,
           0.6723365437839609,
           0.6827081879917202,
           0.677714754611522,
           0.383664596247248,
           0.6722964709519649,
           0.6642526453114093,
           0.6199180483389859,
           0.677777421843174,
           0.6814028358434465,
           0.6829058177341895,
           0.677950198741655,
           0.6721109133194161,
           0.6747045393059261,
           0.6780333091327058,
           0.6812404482212553,
           0.6261701292306836,
           0.676337129683646
          ],
          "colorbar": {
           "title": {
            "text": "Objective Value"
           }
          },
          "colorscale": [
           [
            0,
            "rgb(247,251,255)"
           ],
           [
            0.125,
            "rgb(222,235,247)"
           ],
           [
            0.25,
            "rgb(198,219,239)"
           ],
           [
            0.375,
            "rgb(158,202,225)"
           ],
           [
            0.5,
            "rgb(107,174,214)"
           ],
           [
            0.625,
            "rgb(66,146,198)"
           ],
           [
            0.75,
            "rgb(33,113,181)"
           ],
           [
            0.875,
            "rgb(8,81,156)"
           ],
           [
            1,
            "rgb(8,48,107)"
           ]
          ],
          "reversescale": false,
          "showscale": true
         },
         "type": "parcoords"
        }
       ],
       "layout": {
        "template": {
         "data": {
          "bar": [
           {
            "error_x": {
             "color": "#2a3f5f"
            },
            "error_y": {
             "color": "#2a3f5f"
            },
            "marker": {
             "line": {
              "color": "#E5ECF6",
              "width": 0.5
             },
             "pattern": {
              "fillmode": "overlay",
              "size": 10,
              "solidity": 0.2
             }
            },
            "type": "bar"
           }
          ],
          "barpolar": [
           {
            "marker": {
             "line": {
              "color": "#E5ECF6",
              "width": 0.5
             },
             "pattern": {
              "fillmode": "overlay",
              "size": 10,
              "solidity": 0.2
             }
            },
            "type": "barpolar"
           }
          ],
          "carpet": [
           {
            "aaxis": {
             "endlinecolor": "#2a3f5f",
             "gridcolor": "white",
             "linecolor": "white",
             "minorgridcolor": "white",
             "startlinecolor": "#2a3f5f"
            },
            "baxis": {
             "endlinecolor": "#2a3f5f",
             "gridcolor": "white",
             "linecolor": "white",
             "minorgridcolor": "white",
             "startlinecolor": "#2a3f5f"
            },
            "type": "carpet"
           }
          ],
          "choropleth": [
           {
            "colorbar": {
             "outlinewidth": 0,
             "ticks": ""
            },
            "type": "choropleth"
           }
          ],
          "contour": [
           {
            "colorbar": {
             "outlinewidth": 0,
             "ticks": ""
            },
            "colorscale": [
             [
              0,
              "#0d0887"
             ],
             [
              0.1111111111111111,
              "#46039f"
             ],
             [
              0.2222222222222222,
              "#7201a8"
             ],
             [
              0.3333333333333333,
              "#9c179e"
             ],
             [
              0.4444444444444444,
              "#bd3786"
             ],
             [
              0.5555555555555556,
              "#d8576b"
             ],
             [
              0.6666666666666666,
              "#ed7953"
             ],
             [
              0.7777777777777778,
              "#fb9f3a"
             ],
             [
              0.8888888888888888,
              "#fdca26"
             ],
             [
              1,
              "#f0f921"
             ]
            ],
            "type": "contour"
           }
          ],
          "contourcarpet": [
           {
            "colorbar": {
             "outlinewidth": 0,
             "ticks": ""
            },
            "type": "contourcarpet"
           }
          ],
          "heatmap": [
           {
            "colorbar": {
             "outlinewidth": 0,
             "ticks": ""
            },
            "colorscale": [
             [
              0,
              "#0d0887"
             ],
             [
              0.1111111111111111,
              "#46039f"
             ],
             [
              0.2222222222222222,
              "#7201a8"
             ],
             [
              0.3333333333333333,
              "#9c179e"
             ],
             [
              0.4444444444444444,
              "#bd3786"
             ],
             [
              0.5555555555555556,
              "#d8576b"
             ],
             [
              0.6666666666666666,
              "#ed7953"
             ],
             [
              0.7777777777777778,
              "#fb9f3a"
             ],
             [
              0.8888888888888888,
              "#fdca26"
             ],
             [
              1,
              "#f0f921"
             ]
            ],
            "type": "heatmap"
           }
          ],
          "heatmapgl": [
           {
            "colorbar": {
             "outlinewidth": 0,
             "ticks": ""
            },
            "colorscale": [
             [
              0,
              "#0d0887"
             ],
             [
              0.1111111111111111,
              "#46039f"
             ],
             [
              0.2222222222222222,
              "#7201a8"
             ],
             [
              0.3333333333333333,
              "#9c179e"
             ],
             [
              0.4444444444444444,
              "#bd3786"
             ],
             [
              0.5555555555555556,
              "#d8576b"
             ],
             [
              0.6666666666666666,
              "#ed7953"
             ],
             [
              0.7777777777777778,
              "#fb9f3a"
             ],
             [
              0.8888888888888888,
              "#fdca26"
             ],
             [
              1,
              "#f0f921"
             ]
            ],
            "type": "heatmapgl"
           }
          ],
          "histogram": [
           {
            "marker": {
             "pattern": {
              "fillmode": "overlay",
              "size": 10,
              "solidity": 0.2
             }
            },
            "type": "histogram"
           }
          ],
          "histogram2d": [
           {
            "colorbar": {
             "outlinewidth": 0,
             "ticks": ""
            },
            "colorscale": [
             [
              0,
              "#0d0887"
             ],
             [
              0.1111111111111111,
              "#46039f"
             ],
             [
              0.2222222222222222,
              "#7201a8"
             ],
             [
              0.3333333333333333,
              "#9c179e"
             ],
             [
              0.4444444444444444,
              "#bd3786"
             ],
             [
              0.5555555555555556,
              "#d8576b"
             ],
             [
              0.6666666666666666,
              "#ed7953"
             ],
             [
              0.7777777777777778,
              "#fb9f3a"
             ],
             [
              0.8888888888888888,
              "#fdca26"
             ],
             [
              1,
              "#f0f921"
             ]
            ],
            "type": "histogram2d"
           }
          ],
          "histogram2dcontour": [
           {
            "colorbar": {
             "outlinewidth": 0,
             "ticks": ""
            },
            "colorscale": [
             [
              0,
              "#0d0887"
             ],
             [
              0.1111111111111111,
              "#46039f"
             ],
             [
              0.2222222222222222,
              "#7201a8"
             ],
             [
              0.3333333333333333,
              "#9c179e"
             ],
             [
              0.4444444444444444,
              "#bd3786"
             ],
             [
              0.5555555555555556,
              "#d8576b"
             ],
             [
              0.6666666666666666,
              "#ed7953"
             ],
             [
              0.7777777777777778,
              "#fb9f3a"
             ],
             [
              0.8888888888888888,
              "#fdca26"
             ],
             [
              1,
              "#f0f921"
             ]
            ],
            "type": "histogram2dcontour"
           }
          ],
          "mesh3d": [
           {
            "colorbar": {
             "outlinewidth": 0,
             "ticks": ""
            },
            "type": "mesh3d"
           }
          ],
          "parcoords": [
           {
            "line": {
             "colorbar": {
              "outlinewidth": 0,
              "ticks": ""
             }
            },
            "type": "parcoords"
           }
          ],
          "pie": [
           {
            "automargin": true,
            "type": "pie"
           }
          ],
          "scatter": [
           {
            "marker": {
             "colorbar": {
              "outlinewidth": 0,
              "ticks": ""
             }
            },
            "type": "scatter"
           }
          ],
          "scatter3d": [
           {
            "line": {
             "colorbar": {
              "outlinewidth": 0,
              "ticks": ""
             }
            },
            "marker": {
             "colorbar": {
              "outlinewidth": 0,
              "ticks": ""
             }
            },
            "type": "scatter3d"
           }
          ],
          "scattercarpet": [
           {
            "marker": {
             "colorbar": {
              "outlinewidth": 0,
              "ticks": ""
             }
            },
            "type": "scattercarpet"
           }
          ],
          "scattergeo": [
           {
            "marker": {
             "colorbar": {
              "outlinewidth": 0,
              "ticks": ""
             }
            },
            "type": "scattergeo"
           }
          ],
          "scattergl": [
           {
            "marker": {
             "colorbar": {
              "outlinewidth": 0,
              "ticks": ""
             }
            },
            "type": "scattergl"
           }
          ],
          "scattermapbox": [
           {
            "marker": {
             "colorbar": {
              "outlinewidth": 0,
              "ticks": ""
             }
            },
            "type": "scattermapbox"
           }
          ],
          "scatterpolar": [
           {
            "marker": {
             "colorbar": {
              "outlinewidth": 0,
              "ticks": ""
             }
            },
            "type": "scatterpolar"
           }
          ],
          "scatterpolargl": [
           {
            "marker": {
             "colorbar": {
              "outlinewidth": 0,
              "ticks": ""
             }
            },
            "type": "scatterpolargl"
           }
          ],
          "scatterternary": [
           {
            "marker": {
             "colorbar": {
              "outlinewidth": 0,
              "ticks": ""
             }
            },
            "type": "scatterternary"
           }
          ],
          "surface": [
           {
            "colorbar": {
             "outlinewidth": 0,
             "ticks": ""
            },
            "colorscale": [
             [
              0,
              "#0d0887"
             ],
             [
              0.1111111111111111,
              "#46039f"
             ],
             [
              0.2222222222222222,
              "#7201a8"
             ],
             [
              0.3333333333333333,
              "#9c179e"
             ],
             [
              0.4444444444444444,
              "#bd3786"
             ],
             [
              0.5555555555555556,
              "#d8576b"
             ],
             [
              0.6666666666666666,
              "#ed7953"
             ],
             [
              0.7777777777777778,
              "#fb9f3a"
             ],
             [
              0.8888888888888888,
              "#fdca26"
             ],
             [
              1,
              "#f0f921"
             ]
            ],
            "type": "surface"
           }
          ],
          "table": [
           {
            "cells": {
             "fill": {
              "color": "#EBF0F8"
             },
             "line": {
              "color": "white"
             }
            },
            "header": {
             "fill": {
              "color": "#C8D4E3"
             },
             "line": {
              "color": "white"
             }
            },
            "type": "table"
           }
          ]
         },
         "layout": {
          "annotationdefaults": {
           "arrowcolor": "#2a3f5f",
           "arrowhead": 0,
           "arrowwidth": 1
          },
          "autotypenumbers": "strict",
          "coloraxis": {
           "colorbar": {
            "outlinewidth": 0,
            "ticks": ""
           }
          },
          "colorscale": {
           "diverging": [
            [
             0,
             "#8e0152"
            ],
            [
             0.1,
             "#c51b7d"
            ],
            [
             0.2,
             "#de77ae"
            ],
            [
             0.3,
             "#f1b6da"
            ],
            [
             0.4,
             "#fde0ef"
            ],
            [
             0.5,
             "#f7f7f7"
            ],
            [
             0.6,
             "#e6f5d0"
            ],
            [
             0.7,
             "#b8e186"
            ],
            [
             0.8,
             "#7fbc41"
            ],
            [
             0.9,
             "#4d9221"
            ],
            [
             1,
             "#276419"
            ]
           ],
           "sequential": [
            [
             0,
             "#0d0887"
            ],
            [
             0.1111111111111111,
             "#46039f"
            ],
            [
             0.2222222222222222,
             "#7201a8"
            ],
            [
             0.3333333333333333,
             "#9c179e"
            ],
            [
             0.4444444444444444,
             "#bd3786"
            ],
            [
             0.5555555555555556,
             "#d8576b"
            ],
            [
             0.6666666666666666,
             "#ed7953"
            ],
            [
             0.7777777777777778,
             "#fb9f3a"
            ],
            [
             0.8888888888888888,
             "#fdca26"
            ],
            [
             1,
             "#f0f921"
            ]
           ],
           "sequentialminus": [
            [
             0,
             "#0d0887"
            ],
            [
             0.1111111111111111,
             "#46039f"
            ],
            [
             0.2222222222222222,
             "#7201a8"
            ],
            [
             0.3333333333333333,
             "#9c179e"
            ],
            [
             0.4444444444444444,
             "#bd3786"
            ],
            [
             0.5555555555555556,
             "#d8576b"
            ],
            [
             0.6666666666666666,
             "#ed7953"
            ],
            [
             0.7777777777777778,
             "#fb9f3a"
            ],
            [
             0.8888888888888888,
             "#fdca26"
            ],
            [
             1,
             "#f0f921"
            ]
           ]
          },
          "colorway": [
           "#636efa",
           "#EF553B",
           "#00cc96",
           "#ab63fa",
           "#FFA15A",
           "#19d3f3",
           "#FF6692",
           "#B6E880",
           "#FF97FF",
           "#FECB52"
          ],
          "font": {
           "color": "#2a3f5f"
          },
          "geo": {
           "bgcolor": "white",
           "lakecolor": "white",
           "landcolor": "#E5ECF6",
           "showlakes": true,
           "showland": true,
           "subunitcolor": "white"
          },
          "hoverlabel": {
           "align": "left"
          },
          "hovermode": "closest",
          "mapbox": {
           "style": "light"
          },
          "paper_bgcolor": "white",
          "plot_bgcolor": "#E5ECF6",
          "polar": {
           "angularaxis": {
            "gridcolor": "white",
            "linecolor": "white",
            "ticks": ""
           },
           "bgcolor": "#E5ECF6",
           "radialaxis": {
            "gridcolor": "white",
            "linecolor": "white",
            "ticks": ""
           }
          },
          "scene": {
           "xaxis": {
            "backgroundcolor": "#E5ECF6",
            "gridcolor": "white",
            "gridwidth": 2,
            "linecolor": "white",
            "showbackground": true,
            "ticks": "",
            "zerolinecolor": "white"
           },
           "yaxis": {
            "backgroundcolor": "#E5ECF6",
            "gridcolor": "white",
            "gridwidth": 2,
            "linecolor": "white",
            "showbackground": true,
            "ticks": "",
            "zerolinecolor": "white"
           },
           "zaxis": {
            "backgroundcolor": "#E5ECF6",
            "gridcolor": "white",
            "gridwidth": 2,
            "linecolor": "white",
            "showbackground": true,
            "ticks": "",
            "zerolinecolor": "white"
           }
          },
          "shapedefaults": {
           "line": {
            "color": "#2a3f5f"
           }
          },
          "ternary": {
           "aaxis": {
            "gridcolor": "white",
            "linecolor": "white",
            "ticks": ""
           },
           "baxis": {
            "gridcolor": "white",
            "linecolor": "white",
            "ticks": ""
           },
           "bgcolor": "#E5ECF6",
           "caxis": {
            "gridcolor": "white",
            "linecolor": "white",
            "ticks": ""
           }
          },
          "title": {
           "x": 0.05
          },
          "xaxis": {
           "automargin": true,
           "gridcolor": "white",
           "linecolor": "white",
           "ticks": "",
           "title": {
            "standoff": 15
           },
           "zerolinecolor": "white",
           "zerolinewidth": 2
          },
          "yaxis": {
           "automargin": true,
           "gridcolor": "white",
           "linecolor": "white",
           "ticks": "",
           "title": {
            "standoff": 15
           },
           "zerolinecolor": "white",
           "zerolinewidth": 2
          }
         }
        },
        "title": {
         "text": "Parallel Coordinate Plot"
        }
       }
      }
     },
     "metadata": {},
     "output_type": "display_data"
    }
   ],
   "source": [
    "optuna.visualization.plot_parallel_coordinate(study)"
   ]
  },
  {
   "cell_type": "code",
   "execution_count": 115,
   "id": "4afa60aa",
   "metadata": {},
   "outputs": [
    {
     "name": "stdout",
     "output_type": "stream",
     "text": [
      "Best trial: {'n_estimators': 94, 'max_depth': 10, 'min_samples_leaf': 1, 'min_samples_split': 2}\n"
     ]
    },
    {
     "data": {
      "text/plain": [
       "94"
      ]
     },
     "execution_count": 115,
     "metadata": {},
     "output_type": "execute_result"
    }
   ],
   "source": [
    "print(\"Best trial:\", study.best_trial.params)\n",
    "study.best_trial.params[\"n_estimators\"]"
   ]
  },
  {
   "cell_type": "code",
   "execution_count": 116,
   "id": "3b45adad",
   "metadata": {},
   "outputs": [
    {
     "data": {
      "text/html": [
       "<style>#sk-container-id-5 {color: black;}#sk-container-id-5 pre{padding: 0;}#sk-container-id-5 div.sk-toggleable {background-color: white;}#sk-container-id-5 label.sk-toggleable__label {cursor: pointer;display: block;width: 100%;margin-bottom: 0;padding: 0.3em;box-sizing: border-box;text-align: center;}#sk-container-id-5 label.sk-toggleable__label-arrow:before {content: \"▸\";float: left;margin-right: 0.25em;color: #696969;}#sk-container-id-5 label.sk-toggleable__label-arrow:hover:before {color: black;}#sk-container-id-5 div.sk-estimator:hover label.sk-toggleable__label-arrow:before {color: black;}#sk-container-id-5 div.sk-toggleable__content {max-height: 0;max-width: 0;overflow: hidden;text-align: left;background-color: #f0f8ff;}#sk-container-id-5 div.sk-toggleable__content pre {margin: 0.2em;color: black;border-radius: 0.25em;background-color: #f0f8ff;}#sk-container-id-5 input.sk-toggleable__control:checked~div.sk-toggleable__content {max-height: 200px;max-width: 100%;overflow: auto;}#sk-container-id-5 input.sk-toggleable__control:checked~label.sk-toggleable__label-arrow:before {content: \"▾\";}#sk-container-id-5 div.sk-estimator input.sk-toggleable__control:checked~label.sk-toggleable__label {background-color: #d4ebff;}#sk-container-id-5 div.sk-label input.sk-toggleable__control:checked~label.sk-toggleable__label {background-color: #d4ebff;}#sk-container-id-5 input.sk-hidden--visually {border: 0;clip: rect(1px 1px 1px 1px);clip: rect(1px, 1px, 1px, 1px);height: 1px;margin: -1px;overflow: hidden;padding: 0;position: absolute;width: 1px;}#sk-container-id-5 div.sk-estimator {font-family: monospace;background-color: #f0f8ff;border: 1px dotted black;border-radius: 0.25em;box-sizing: border-box;margin-bottom: 0.5em;}#sk-container-id-5 div.sk-estimator:hover {background-color: #d4ebff;}#sk-container-id-5 div.sk-parallel-item::after {content: \"\";width: 100%;border-bottom: 1px solid gray;flex-grow: 1;}#sk-container-id-5 div.sk-label:hover label.sk-toggleable__label {background-color: #d4ebff;}#sk-container-id-5 div.sk-serial::before {content: \"\";position: absolute;border-left: 1px solid gray;box-sizing: border-box;top: 0;bottom: 0;left: 50%;z-index: 0;}#sk-container-id-5 div.sk-serial {display: flex;flex-direction: column;align-items: center;background-color: white;padding-right: 0.2em;padding-left: 0.2em;position: relative;}#sk-container-id-5 div.sk-item {position: relative;z-index: 1;}#sk-container-id-5 div.sk-parallel {display: flex;align-items: stretch;justify-content: center;background-color: white;position: relative;}#sk-container-id-5 div.sk-item::before, #sk-container-id-5 div.sk-parallel-item::before {content: \"\";position: absolute;border-left: 1px solid gray;box-sizing: border-box;top: 0;bottom: 0;left: 50%;z-index: -1;}#sk-container-id-5 div.sk-parallel-item {display: flex;flex-direction: column;z-index: 1;position: relative;background-color: white;}#sk-container-id-5 div.sk-parallel-item:first-child::after {align-self: flex-end;width: 50%;}#sk-container-id-5 div.sk-parallel-item:last-child::after {align-self: flex-start;width: 50%;}#sk-container-id-5 div.sk-parallel-item:only-child::after {width: 0;}#sk-container-id-5 div.sk-dashed-wrapped {border: 1px dashed gray;margin: 0 0.4em 0.5em 0.4em;box-sizing: border-box;padding-bottom: 0.4em;background-color: white;}#sk-container-id-5 div.sk-label label {font-family: monospace;font-weight: bold;display: inline-block;line-height: 1.2em;}#sk-container-id-5 div.sk-label-container {text-align: center;}#sk-container-id-5 div.sk-container {/* jupyter's `normalize.less` sets `[hidden] { display: none; }` but bootstrap.min.css set `[hidden] { display: none !important; }` so we also need the `!important` here to be able to override the default hidden behavior on the sphinx rendered scikit-learn.org. See: https://github.com/scikit-learn/scikit-learn/issues/21755 */display: inline-block !important;position: relative;}#sk-container-id-5 div.sk-text-repr-fallback {display: none;}</style><div id=\"sk-container-id-5\" class=\"sk-top-container\"><div class=\"sk-text-repr-fallback\"><pre>RandomForestRegressor(max_depth=10, n_estimators=94, random_state=42)</pre><b>In a Jupyter environment, please rerun this cell to show the HTML representation or trust the notebook. <br />On GitHub, the HTML representation is unable to render, please try loading this page with nbviewer.org.</b></div><div class=\"sk-container\" hidden><div class=\"sk-item\"><div class=\"sk-estimator sk-toggleable\"><input class=\"sk-toggleable__control sk-hidden--visually\" id=\"sk-estimator-id-5\" type=\"checkbox\" checked><label for=\"sk-estimator-id-5\" class=\"sk-toggleable__label sk-toggleable__label-arrow\">RandomForestRegressor</label><div class=\"sk-toggleable__content\"><pre>RandomForestRegressor(max_depth=10, n_estimators=94, random_state=42)</pre></div></div></div></div></div>"
      ],
      "text/plain": [
       "RandomForestRegressor(max_depth=10, n_estimators=94, random_state=42)"
      ]
     },
     "execution_count": 116,
     "metadata": {},
     "output_type": "execute_result"
    }
   ],
   "source": [
    "rf_params = {\n",
    "    \"random_state\": 42,\n",
    "    #\"learning_rate\": 0.1,\n",
    "    \"n_estimators\": study.best_trial.params[\"n_estimators\"],\n",
    "    \"max_depth\": study.best_trial.params[\"max_depth\"],\n",
    "    \"min_samples_leaf\": study.best_trial.params[\"min_samples_leaf\"],\n",
    "    \"min_samples_split\": study.best_trial.params[\"min_samples_split\"],\n",
    "    #\"subsample\": study.best_trial.params[\"subsample\"]\n",
    "}\n",
    "\n",
    "rf = RandomForestRegressor(**rf_params)\n",
    "rf.fit(Cd_X_train, Cd_y_train)"
   ]
  },
  {
   "cell_type": "code",
   "execution_count": 117,
   "id": "9ab1055b",
   "metadata": {},
   "outputs": [],
   "source": [
    "y_train_pred = rf.predict(Cd_X_train)\n",
    "y_test_pred = rf.predict(Cd_X_test)"
   ]
  },
  {
   "cell_type": "code",
   "execution_count": 118,
   "id": "425b4001",
   "metadata": {},
   "outputs": [
    {
     "name": "stdout",
     "output_type": "stream",
     "text": [
      "Train RMSE:  0.0636358641562647\n",
      "Test RMSE:  0.1277047664039181\n"
     ]
    }
   ],
   "source": [
    "print(\"Train RMSE: \", np.sqrt(mean_squared_error(Cd_y_train, y_train_pred)))\n",
    "print(\"Test RMSE: \", np.sqrt(mean_squared_error(Cd_y_test, y_test_pred)))"
   ]
  },
  {
   "cell_type": "code",
   "execution_count": 119,
   "id": "0f95ae3c",
   "metadata": {},
   "outputs": [
    {
     "name": "stdout",
     "output_type": "stream",
     "text": [
      "Train R2:  0.9106367072845807\n",
      "Test R2:  0.6962456007959335\n"
     ]
    }
   ],
   "source": [
    "print(\"Train R2: \", r2_score(Cd_y_train, y_train_pred))\n",
    "print(\"Test R2: \", r2_score(Cd_y_test, y_test_pred))"
   ]
  },
  {
   "cell_type": "code",
   "execution_count": 120,
   "id": "aa0a517d",
   "metadata": {},
   "outputs": [
    {
     "data": {
      "image/png": "[encoded data removed]",
      "text/plain": [
       "<Figure size 640x480 with 1 Axes>"
      ]
     },
     "metadata": {},
     "output_type": "display_data"
    }
   ],
   "source": [
    "plt.scatter(y_train_pred, np.array(Cd_y_train), color=\"orange\", alpha=0.3)\n",
    "plt.scatter(y_test_pred, np.array(Cd_y_test), color=\"green\", alpha=0.4)\n",
    "plt.axis(\"auto\") # scaled, tight, auto, image, square\n",
    "# plt.xlim([0, 1.5]) \n",
    "# plt.ylim(0, None) \n",
    "plt.xlabel('Predicted Values')\n",
    "plt.ylabel('Actual Values')\n",
    "\n",
    "# Add y=x line\n",
    "plt.plot([0, 0.5], [0, 0.5], color='red', linestyle='-')\n",
    "\n",
    "plt.show()"
   ]
  },
  {
   "attachments": {},
   "cell_type": "markdown",
   "id": "74f680ea",
   "metadata": {},
   "source": [
    "Ni"
   ]
  },
  {
   "cell_type": "code",
   "execution_count": 121,
   "id": "de233338",
   "metadata": {},
   "outputs": [
    {
     "name": "stderr",
     "output_type": "stream",
     "text": [
      "\u001b[32m[I 2023-08-23 21:58:10,589]\u001b[0m A new study created in memory with name: rf_parameter_opt\u001b[0m\n",
      "\u001b[32m[I 2023-08-23 21:58:12,358]\u001b[0m Trial 0 finished with value: 0.550418533063507 and parameters: {'n_estimators': 46, 'max_depth': 10, 'min_samples_leaf': 15, 'min_samples_split': 18}. Best is trial 0 with value: 0.550418533063507.\u001b[0m\n",
      "\u001b[32m[I 2023-08-23 21:58:13,296]\u001b[0m Trial 1 finished with value: 0.16681189262971033 and parameters: {'n_estimators': 91, 'max_depth': 1, 'min_samples_leaf': 18, 'min_samples_split': 17}. Best is trial 0 with value: 0.550418533063507.\u001b[0m\n",
      "\u001b[32m[I 2023-08-23 21:58:15,751]\u001b[0m Trial 2 finished with value: 0.4808707541082969 and parameters: {'n_estimators': 79, 'max_depth': 5, 'min_samples_leaf': 12, 'min_samples_split': 7}. Best is trial 0 with value: 0.550418533063507.\u001b[0m\n",
      "\u001b[32m[I 2023-08-23 21:58:16,351]\u001b[0m Trial 3 finished with value: 0.16497810549032307 and parameters: {'n_estimators': 57, 'max_depth': 1, 'min_samples_leaf': 2, 'min_samples_split': 15}. Best is trial 0 with value: 0.550418533063507.\u001b[0m\n",
      "\u001b[32m[I 2023-08-23 21:58:19,385]\u001b[0m Trial 4 finished with value: 0.6232955307031791 and parameters: {'n_estimators': 66, 'max_depth': 9, 'min_samples_leaf': 7, 'min_samples_split': 5}. Best is trial 4 with value: 0.6232955307031791.\u001b[0m\n",
      "\u001b[32m[I 2023-08-23 21:58:22,040]\u001b[0m Trial 5 finished with value: 0.554333731902971 and parameters: {'n_estimators': 70, 'max_depth': 9, 'min_samples_leaf': 15, 'min_samples_split': 13}. Best is trial 4 with value: 0.6232955307031791.\u001b[0m\n",
      "\u001b[32m[I 2023-08-23 21:58:23,710]\u001b[0m Trial 6 finished with value: 0.5218197098946729 and parameters: {'n_estimators': 49, 'max_depth': 8, 'min_samples_leaf': 20, 'min_samples_split': 7}. Best is trial 4 with value: 0.6232955307031791.\u001b[0m\n",
      "\u001b[32m[I 2023-08-23 21:58:25,673]\u001b[0m Trial 7 finished with value: 0.5829824446906162 and parameters: {'n_estimators': 49, 'max_depth': 7, 'min_samples_leaf': 7, 'min_samples_split': 19}. Best is trial 4 with value: 0.6232955307031791.\u001b[0m\n",
      "\u001b[32m[I 2023-08-23 21:58:28,166]\u001b[0m Trial 8 finished with value: 0.4929876412778061 and parameters: {'n_estimators': 77, 'max_depth': 5, 'min_samples_leaf': 5, 'min_samples_split': 16}. Best is trial 4 with value: 0.6232955307031791.\u001b[0m\n",
      "\u001b[32m[I 2023-08-23 21:58:30,422]\u001b[0m Trial 9 finished with value: 0.4976013061175408 and parameters: {'n_estimators': 68, 'max_depth': 5, 'min_samples_leaf': 1, 'min_samples_split': 12}. Best is trial 4 with value: 0.6232955307031791.\u001b[0m\n",
      "\u001b[32m[I 2023-08-23 21:58:31,104]\u001b[0m Trial 10 finished with value: 0.576550767448371 and parameters: {'n_estimators': 17, 'max_depth': 7, 'min_samples_leaf': 9, 'min_samples_split': 3}. Best is trial 4 with value: 0.6232955307031791.\u001b[0m\n",
      "\u001b[32m[I 2023-08-23 21:58:32,490]\u001b[0m Trial 11 finished with value: 0.5880758650620963 and parameters: {'n_estimators': 34, 'max_depth': 7, 'min_samples_leaf': 7, 'min_samples_split': 8}. Best is trial 4 with value: 0.6232955307031791.\u001b[0m\n",
      "\u001b[32m[I 2023-08-23 21:58:33,879]\u001b[0m Trial 12 finished with value: 0.6459743490968204 and parameters: {'n_estimators': 27, 'max_depth': 10, 'min_samples_leaf': 5, 'min_samples_split': 8}. Best is trial 12 with value: 0.6459743490968204.\u001b[0m\n",
      "\u001b[32m[I 2023-08-23 21:58:34,531]\u001b[0m Trial 13 finished with value: 0.6450693483396899 and parameters: {'n_estimators': 12, 'max_depth': 10, 'min_samples_leaf': 4, 'min_samples_split': 3}. Best is trial 12 with value: 0.6459743490968204.\u001b[0m\n",
      "\u001b[32m[I 2023-08-23 21:58:35,319]\u001b[0m Trial 14 finished with value: 0.6602429680132482 and parameters: {'n_estimators': 14, 'max_depth': 10, 'min_samples_leaf': 3, 'min_samples_split': 2}. Best is trial 14 with value: 0.6602429680132482.\u001b[0m\n",
      "\u001b[32m[I 2023-08-23 21:58:35,916]\u001b[0m Trial 15 finished with value: 0.3669027662041969 and parameters: {'n_estimators': 27, 'max_depth': 3, 'min_samples_leaf': 4, 'min_samples_split': 10}. Best is trial 14 with value: 0.6602429680132482.\u001b[0m\n",
      "\u001b[32m[I 2023-08-23 21:58:37,259]\u001b[0m Trial 16 finished with value: 0.5942863040116642 and parameters: {'n_estimators': 31, 'max_depth': 10, 'min_samples_leaf': 10, 'min_samples_split': 2}. Best is trial 14 with value: 0.6602429680132482.\u001b[0m\n",
      "\u001b[32m[I 2023-08-23 21:58:38,248]\u001b[0m Trial 17 finished with value: 0.6338625657917374 and parameters: {'n_estimators': 20, 'max_depth': 8, 'min_samples_leaf': 1, 'min_samples_split': 10}. Best is trial 14 with value: 0.6602429680132482.\u001b[0m\n",
      "\u001b[32m[I 2023-08-23 21:58:39,083]\u001b[0m Trial 18 finished with value: 0.3656580284082501 and parameters: {'n_estimators': 38, 'max_depth': 3, 'min_samples_leaf': 3, 'min_samples_split': 5}. Best is trial 14 with value: 0.6602429680132482.\u001b[0m\n",
      "\u001b[32m[I 2023-08-23 21:58:39,571]\u001b[0m Trial 19 finished with value: 0.6158215269956281 and parameters: {'n_estimators': 10, 'max_depth': 9, 'min_samples_leaf': 6, 'min_samples_split': 5}. Best is trial 14 with value: 0.6602429680132482.\u001b[0m\n",
      "\u001b[32m[I 2023-08-23 21:58:40,391]\u001b[0m Trial 20 finished with value: 0.5222015907253246 and parameters: {'n_estimators': 23, 'max_depth': 6, 'min_samples_leaf': 12, 'min_samples_split': 14}. Best is trial 14 with value: 0.6602429680132482.\u001b[0m\n",
      "\u001b[32m[I 2023-08-23 21:58:40,938]\u001b[0m Trial 21 finished with value: 0.6368735106955633 and parameters: {'n_estimators': 10, 'max_depth': 10, 'min_samples_leaf': 4, 'min_samples_split': 3}. Best is trial 14 with value: 0.6602429680132482.\u001b[0m\n",
      "\u001b[32m[I 2023-08-23 21:58:41,757]\u001b[0m Trial 22 finished with value: 0.6510354692967117 and parameters: {'n_estimators': 15, 'max_depth': 10, 'min_samples_leaf': 4, 'min_samples_split': 2}. Best is trial 14 with value: 0.6602429680132482.\u001b[0m\n",
      "\u001b[32m[I 2023-08-23 21:58:43,428]\u001b[0m Trial 23 finished with value: 0.6011696298268199 and parameters: {'n_estimators': 39, 'max_depth': 8, 'min_samples_leaf': 8, 'min_samples_split': 2}. Best is trial 14 with value: 0.6602429680132482.\u001b[0m\n",
      "\u001b[32m[I 2023-08-23 21:58:44,416]\u001b[0m Trial 24 finished with value: 0.6495111569161964 and parameters: {'n_estimators': 19, 'max_depth': 9, 'min_samples_leaf': 3, 'min_samples_split': 8}. Best is trial 14 with value: 0.6602429680132482.\u001b[0m\n",
      "\u001b[32m[I 2023-08-23 21:58:45,400]\u001b[0m Trial 25 finished with value: 0.6617504689551484 and parameters: {'n_estimators': 18, 'max_depth': 9, 'min_samples_leaf': 2, 'min_samples_split': 5}. Best is trial 25 with value: 0.6617504689551484.\u001b[0m\n",
      "\u001b[32m[I 2023-08-23 21:58:46,368]\u001b[0m Trial 26 finished with value: 0.6596294056093774 and parameters: {'n_estimators': 17, 'max_depth': 9, 'min_samples_leaf': 1, 'min_samples_split': 4}. Best is trial 25 with value: 0.6617504689551484.\u001b[0m\n",
      "\u001b[32m[I 2023-08-23 21:58:47,642]\u001b[0m Trial 27 finished with value: 0.6451685581416957 and parameters: {'n_estimators': 25, 'max_depth': 8, 'min_samples_leaf': 1, 'min_samples_split': 5}. Best is trial 25 with value: 0.6617504689551484.\u001b[0m\n",
      "\u001b[32m[I 2023-08-23 21:58:49,834]\u001b[0m Trial 28 finished with value: 0.6676326996539762 and parameters: {'n_estimators': 39, 'max_depth': 9, 'min_samples_leaf': 1, 'min_samples_split': 4}. Best is trial 28 with value: 0.6676326996539762.\u001b[0m\n",
      "\u001b[32m[I 2023-08-23 21:58:51,734]\u001b[0m Trial 29 finished with value: 0.6168903744319942 and parameters: {'n_estimators': 43, 'max_depth': 7, 'min_samples_leaf': 2, 'min_samples_split': 7}. Best is trial 28 with value: 0.6676326996539762.\u001b[0m\n",
      "\u001b[32m[I 2023-08-23 21:58:53,893]\u001b[0m Trial 30 finished with value: 0.5642126171143256 and parameters: {'n_estimators': 56, 'max_depth': 6, 'min_samples_leaf': 3, 'min_samples_split': 6}. Best is trial 28 with value: 0.6676326996539762.\u001b[0m\n",
      "\u001b[32m[I 2023-08-23 21:58:55,708]\u001b[0m Trial 31 finished with value: 0.6655147450843242 and parameters: {'n_estimators': 32, 'max_depth': 9, 'min_samples_leaf': 1, 'min_samples_split': 4}. Best is trial 28 with value: 0.6676326996539762.\u001b[0m\n",
      "\u001b[32m[I 2023-08-23 21:58:57,512]\u001b[0m Trial 32 finished with value: 0.6643676010826722 and parameters: {'n_estimators': 33, 'max_depth': 9, 'min_samples_leaf': 2, 'min_samples_split': 4}. Best is trial 28 with value: 0.6676326996539762.\u001b[0m\n",
      "\u001b[32m[I 2023-08-23 21:58:59,115]\u001b[0m Trial 33 finished with value: 0.6476756049187257 and parameters: {'n_estimators': 32, 'max_depth': 8, 'min_samples_leaf': 2, 'min_samples_split': 4}. Best is trial 28 with value: 0.6676326996539762.\u001b[0m\n",
      "\u001b[32m[I 2023-08-23 21:59:00,791]\u001b[0m Trial 34 finished with value: 0.5575237842163068 and parameters: {'n_estimators': 43, 'max_depth': 9, 'min_samples_leaf': 14, 'min_samples_split': 6}. Best is trial 28 with value: 0.6676326996539762.\u001b[0m\n",
      "\u001b[32m[I 2023-08-23 21:59:02,814]\u001b[0m Trial 35 finished with value: 0.6651264698570549 and parameters: {'n_estimators': 37, 'max_depth': 9, 'min_samples_leaf': 2, 'min_samples_split': 4}. Best is trial 28 with value: 0.6676326996539762.\u001b[0m\n",
      "\u001b[32m[I 2023-08-23 21:59:04,153]\u001b[0m Trial 36 finished with value: 0.5351341958112826 and parameters: {'n_estimators': 37, 'max_depth': 8, 'min_samples_leaf': 17, 'min_samples_split': 4}. Best is trial 28 with value: 0.6676326996539762.\u001b[0m\n",
      "\u001b[32m[I 2023-08-23 21:59:07,176]\u001b[0m Trial 37 finished with value: 0.6432205951987756 and parameters: {'n_estimators': 62, 'max_depth': 9, 'min_samples_leaf': 5, 'min_samples_split': 6}. Best is trial 28 with value: 0.6676326996539762.\u001b[0m\n",
      "\u001b[32m[I 2023-08-23 21:59:08,559]\u001b[0m Trial 38 finished with value: 0.44246310301681396 and parameters: {'n_estimators': 50, 'max_depth': 4, 'min_samples_leaf': 2, 'min_samples_split': 4}. Best is trial 28 with value: 0.6676326996539762.\u001b[0m\n",
      "\u001b[32m[I 2023-08-23 21:59:09,025]\u001b[0m Trial 39 finished with value: 0.16571670313083273 and parameters: {'n_estimators': 44, 'max_depth': 1, 'min_samples_leaf': 6, 'min_samples_split': 9}. Best is trial 28 with value: 0.6676326996539762.\u001b[0m\n",
      "\u001b[32m[I 2023-08-23 21:59:12,627]\u001b[0m Trial 40 finished with value: 0.5651711405169684 and parameters: {'n_estimators': 92, 'max_depth': 6, 'min_samples_leaf': 1, 'min_samples_split': 7}. Best is trial 28 with value: 0.6676326996539762.\u001b[0m\n",
      "\u001b[32m[I 2023-08-23 21:59:14,323]\u001b[0m Trial 41 finished with value: 0.6655413739322372 and parameters: {'n_estimators': 31, 'max_depth': 9, 'min_samples_leaf': 2, 'min_samples_split': 3}. Best is trial 28 with value: 0.6676326996539762.\u001b[0m\n",
      "\u001b[32m[I 2023-08-23 21:59:15,821]\u001b[0m Trial 42 finished with value: 0.648378507342559 and parameters: {'n_estimators': 30, 'max_depth': 8, 'min_samples_leaf': 2, 'min_samples_split': 3}. Best is trial 28 with value: 0.6676326996539762.\u001b[0m\n",
      "\u001b[32m[I 2023-08-23 21:59:18,319]\u001b[0m Trial 43 finished with value: 0.6270328280540527 and parameters: {'n_estimators': 52, 'max_depth': 9, 'min_samples_leaf': 3, 'min_samples_split': 20}. Best is trial 28 with value: 0.6676326996539762.\u001b[0m\n",
      "\u001b[32m[I 2023-08-23 21:59:19,920]\u001b[0m Trial 44 finished with value: 0.6189453336475014 and parameters: {'n_estimators': 35, 'max_depth': 7, 'min_samples_leaf': 1, 'min_samples_split': 3}. Best is trial 28 with value: 0.6676326996539762.\u001b[0m\n",
      "\u001b[32m[I 2023-08-23 21:59:21,824]\u001b[0m Trial 45 finished with value: 0.6391420550671857 and parameters: {'n_estimators': 39, 'max_depth': 9, 'min_samples_leaf': 5, 'min_samples_split': 6}. Best is trial 28 with value: 0.6676326996539762.\u001b[0m\n",
      "\u001b[32m[I 2023-08-23 21:59:22,826]\u001b[0m Trial 46 finished with value: 0.5219542374641821 and parameters: {'n_estimators': 29, 'max_depth': 10, 'min_samples_leaf': 20, 'min_samples_split': 4}. Best is trial 28 with value: 0.6676326996539762.\u001b[0m\n",
      "\u001b[32m[I 2023-08-23 21:59:27,116]\u001b[0m Trial 47 finished with value: 0.6133959270436674 and parameters: {'n_estimators': 98, 'max_depth': 8, 'min_samples_leaf': 6, 'min_samples_split': 17}. Best is trial 28 with value: 0.6676326996539762.\u001b[0m\n",
      "\u001b[32m[I 2023-08-23 21:59:30,303]\u001b[0m Trial 48 finished with value: 0.6599731165299483 and parameters: {'n_estimators': 60, 'max_depth': 10, 'min_samples_leaf': 4, 'min_samples_split': 3}. Best is trial 28 with value: 0.6676326996539762.\u001b[0m\n",
      "\u001b[32m[I 2023-08-23 21:59:32,312]\u001b[0m Trial 49 finished with value: 0.6082414903611814 and parameters: {'n_estimators': 47, 'max_depth': 7, 'min_samples_leaf': 3, 'min_samples_split': 12}. Best is trial 28 with value: 0.6676326996539762.\u001b[0m\n",
      "\u001b[32m[I 2023-08-23 21:59:34,285]\u001b[0m Trial 50 finished with value: 0.6680931553467271 and parameters: {'n_estimators': 34, 'max_depth': 9, 'min_samples_leaf': 1, 'min_samples_split': 2}. Best is trial 50 with value: 0.6680931553467271.\u001b[0m\n",
      "\u001b[32m[I 2023-08-23 21:59:36,266]\u001b[0m Trial 51 finished with value: 0.6680931553467271 and parameters: {'n_estimators': 34, 'max_depth': 9, 'min_samples_leaf': 1, 'min_samples_split': 2}. Best is trial 50 with value: 0.6680931553467271.\u001b[0m\n",
      "\u001b[32m[I 2023-08-23 21:59:37,605]\u001b[0m Trial 52 finished with value: 0.6652361721232843 and parameters: {'n_estimators': 23, 'max_depth': 9, 'min_samples_leaf': 1, 'min_samples_split': 2}. Best is trial 50 with value: 0.6680931553467271.\u001b[0m\n",
      "\u001b[32m[I 2023-08-23 21:59:39,017]\u001b[0m Trial 53 finished with value: 0.6805695812803435 and parameters: {'n_estimators': 22, 'max_depth': 10, 'min_samples_leaf': 1, 'min_samples_split': 2}. Best is trial 53 with value: 0.6805695812803435.\u001b[0m\n",
      "\u001b[32m[I 2023-08-23 21:59:40,747]\u001b[0m Trial 54 finished with value: 0.6828956430338973 and parameters: {'n_estimators': 27, 'max_depth': 10, 'min_samples_leaf': 1, 'min_samples_split': 2}. Best is trial 54 with value: 0.6828956430338973.\u001b[0m\n",
      "\u001b[32m[I 2023-08-23 21:59:42,269]\u001b[0m Trial 55 finished with value: 0.6818735916972006 and parameters: {'n_estimators': 23, 'max_depth': 10, 'min_samples_leaf': 1, 'min_samples_split': 2}. Best is trial 54 with value: 0.6828956430338973.\u001b[0m\n",
      "\u001b[32m[I 2023-08-23 21:59:43,542]\u001b[0m Trial 56 finished with value: 0.6605710350101107 and parameters: {'n_estimators': 22, 'max_depth': 10, 'min_samples_leaf': 3, 'min_samples_split': 2}. Best is trial 54 with value: 0.6828956430338973.\u001b[0m\n",
      "\u001b[32m[I 2023-08-23 21:59:45,325]\u001b[0m Trial 57 finished with value: 0.6828956430338973 and parameters: {'n_estimators': 27, 'max_depth': 10, 'min_samples_leaf': 1, 'min_samples_split': 2}. Best is trial 54 with value: 0.6828956430338973.\u001b[0m\n",
      "\u001b[32m[I 2023-08-23 21:59:46,408]\u001b[0m Trial 58 finished with value: 0.5751861733506236 and parameters: {'n_estimators': 26, 'max_depth': 10, 'min_samples_leaf': 12, 'min_samples_split': 2}. Best is trial 54 with value: 0.6828956430338973.\u001b[0m\n",
      "\u001b[32m[I 2023-08-23 21:59:50,574]\u001b[0m Trial 59 finished with value: 0.6618773965114972 and parameters: {'n_estimators': 79, 'max_depth': 10, 'min_samples_leaf': 4, 'min_samples_split': 2}. Best is trial 54 with value: 0.6828956430338973.\u001b[0m\n",
      "\u001b[32m[I 2023-08-23 21:59:51,898]\u001b[0m Trial 60 finished with value: 0.6744986022067965 and parameters: {'n_estimators': 21, 'max_depth': 10, 'min_samples_leaf': 1, 'min_samples_split': 3}. Best is trial 54 with value: 0.6828956430338973.\u001b[0m\n",
      "\u001b[32m[I 2023-08-23 21:59:53,211]\u001b[0m Trial 61 finished with value: 0.6744986022067965 and parameters: {'n_estimators': 21, 'max_depth': 10, 'min_samples_leaf': 1, 'min_samples_split': 3}. Best is trial 54 with value: 0.6828956430338973.\u001b[0m\n",
      "\u001b[32m[I 2023-08-23 21:59:54,032]\u001b[0m Trial 62 finished with value: 0.6730831092921468 and parameters: {'n_estimators': 13, 'max_depth': 10, 'min_samples_leaf': 1, 'min_samples_split': 3}. Best is trial 54 with value: 0.6828956430338973.\u001b[0m\n",
      "\u001b[32m[I 2023-08-23 21:59:54,925]\u001b[0m Trial 63 finished with value: 0.6673708693337066 and parameters: {'n_estimators': 15, 'max_depth': 10, 'min_samples_leaf': 2, 'min_samples_split': 3}. Best is trial 54 with value: 0.6828956430338973.\u001b[0m\n",
      "\u001b[32m[I 2023-08-23 21:59:55,660]\u001b[0m Trial 64 finished with value: 0.657923254601376 and parameters: {'n_estimators': 13, 'max_depth': 10, 'min_samples_leaf': 3, 'min_samples_split': 3}. Best is trial 54 with value: 0.6828956430338973.\u001b[0m\n",
      "\u001b[32m[I 2023-08-23 21:59:56,888]\u001b[0m Trial 65 finished with value: 0.6670900664352922 and parameters: {'n_estimators': 21, 'max_depth': 10, 'min_samples_leaf': 2, 'min_samples_split': 5}. Best is trial 54 with value: 0.6828956430338973.\u001b[0m\n",
      "\u001b[32m[I 2023-08-23 21:59:58,227]\u001b[0m Trial 66 finished with value: 0.6570428784504097 and parameters: {'n_estimators': 25, 'max_depth': 10, 'min_samples_leaf': 4, 'min_samples_split': 3}. Best is trial 54 with value: 0.6828956430338973.\u001b[0m\n",
      "\u001b[32m[I 2023-08-23 21:59:59,021]\u001b[0m Trial 67 finished with value: 0.59740712572369 and parameters: {'n_estimators': 18, 'max_depth': 10, 'min_samples_leaf': 10, 'min_samples_split': 2}. Best is trial 54 with value: 0.6828956430338973.\u001b[0m\n",
      "\u001b[32m[I 2023-08-23 22:00:00,490]\u001b[0m Trial 68 finished with value: 0.6498310976968924 and parameters: {'n_estimators': 27, 'max_depth': 10, 'min_samples_leaf': 1, 'min_samples_split': 15}. Best is trial 54 with value: 0.6828956430338973.\u001b[0m\n",
      "\u001b[32m[I 2023-08-23 22:00:01,118]\u001b[0m Trial 69 finished with value: 0.6500456283869029 and parameters: {'n_estimators': 11, 'max_depth': 10, 'min_samples_leaf': 3, 'min_samples_split': 5}. Best is trial 54 with value: 0.6828956430338973.\u001b[0m\n",
      "\u001b[32m[I 2023-08-23 22:00:02,124]\u001b[0m Trial 70 finished with value: 0.676062558393649 and parameters: {'n_estimators': 16, 'max_depth': 10, 'min_samples_leaf': 1, 'min_samples_split': 3}. Best is trial 54 with value: 0.6828956430338973.\u001b[0m\n",
      "\u001b[32m[I 2023-08-23 22:00:03,203]\u001b[0m Trial 71 finished with value: 0.6735606567489366 and parameters: {'n_estimators': 17, 'max_depth': 10, 'min_samples_leaf': 1, 'min_samples_split': 3}. Best is trial 54 with value: 0.6828956430338973.\u001b[0m\n",
      "\u001b[32m[I 2023-08-23 22:00:04,154]\u001b[0m Trial 72 finished with value: 0.6677787968823783 and parameters: {'n_estimators': 16, 'max_depth': 10, 'min_samples_leaf': 2, 'min_samples_split': 3}. Best is trial 54 with value: 0.6828956430338973.\u001b[0m\n",
      "\u001b[32m[I 2023-08-23 22:00:05,500]\u001b[0m Trial 73 finished with value: 0.6793656091394195 and parameters: {'n_estimators': 21, 'max_depth': 10, 'min_samples_leaf': 1, 'min_samples_split': 2}. Best is trial 54 with value: 0.6828956430338973.\u001b[0m\n",
      "\u001b[32m[I 2023-08-23 22:00:06,633]\u001b[0m Trial 74 finished with value: 0.659969556804889 and parameters: {'n_estimators': 20, 'max_depth': 10, 'min_samples_leaf': 3, 'min_samples_split': 2}. Best is trial 54 with value: 0.6828956430338973.\u001b[0m\n",
      "\u001b[32m[I 2023-08-23 22:00:08,282]\u001b[0m Trial 75 finished with value: 0.6729337142516212 and parameters: {'n_estimators': 28, 'max_depth': 10, 'min_samples_leaf': 2, 'min_samples_split': 2}. Best is trial 54 with value: 0.6828956430338973.\u001b[0m\n",
      "\u001b[32m[I 2023-08-23 22:00:08,665]\u001b[0m Trial 76 finished with value: 0.2993319959937903 and parameters: {'n_estimators': 23, 'max_depth': 2, 'min_samples_leaf': 1, 'min_samples_split': 4}. Best is trial 54 with value: 0.6828956430338973.\u001b[0m\n",
      "\u001b[32m[I 2023-08-23 22:00:09,543]\u001b[0m Trial 77 finished with value: 0.5345606894467823 and parameters: {'n_estimators': 24, 'max_depth': 9, 'min_samples_leaf': 17, 'min_samples_split': 2}. Best is trial 54 with value: 0.6828956430338973.\u001b[0m\n",
      "\u001b[32m[I 2023-08-23 22:00:10,736]\u001b[0m Trial 78 finished with value: 0.6662483298444775 and parameters: {'n_estimators': 20, 'max_depth': 10, 'min_samples_leaf': 2, 'min_samples_split': 4}. Best is trial 54 with value: 0.6828956430338973.\u001b[0m\n",
      "\u001b[32m[I 2023-08-23 22:00:14,655]\u001b[0m Trial 79 finished with value: 0.6712077543375793 and parameters: {'n_estimators': 71, 'max_depth': 10, 'min_samples_leaf': 3, 'min_samples_split': 3}. Best is trial 54 with value: 0.6828956430338973.\u001b[0m\n",
      "\u001b[32m[I 2023-08-23 22:00:15,722]\u001b[0m Trial 80 finished with value: 0.6616803829243523 and parameters: {'n_estimators': 19, 'max_depth': 9, 'min_samples_leaf': 1, 'min_samples_split': 5}. Best is trial 54 with value: 0.6828956430338973.\u001b[0m\n",
      "\u001b[32m[I 2023-08-23 22:00:16,725]\u001b[0m Trial 81 finished with value: 0.676062558393649 and parameters: {'n_estimators': 16, 'max_depth': 10, 'min_samples_leaf': 1, 'min_samples_split': 3}. Best is trial 54 with value: 0.6828956430338973.\u001b[0m\n",
      "\u001b[32m[I 2023-08-23 22:00:17,619]\u001b[0m Trial 82 finished with value: 0.6673708693337066 and parameters: {'n_estimators': 15, 'max_depth': 10, 'min_samples_leaf': 2, 'min_samples_split': 2}. Best is trial 54 with value: 0.6828956430338973.\u001b[0m\n",
      "\u001b[32m[I 2023-08-23 22:00:18,221]\u001b[0m Trial 83 finished with value: 0.6484106545859647 and parameters: {'n_estimators': 10, 'max_depth': 10, 'min_samples_leaf': 2, 'min_samples_split': 4}. Best is trial 54 with value: 0.6828956430338973.\u001b[0m\n",
      "\u001b[32m[I 2023-08-23 22:00:18,814]\u001b[0m Trial 84 finished with value: 0.43877985243012924 and parameters: {'n_estimators': 21, 'max_depth': 4, 'min_samples_leaf': 1, 'min_samples_split': 3}. Best is trial 54 with value: 0.6828956430338973.\u001b[0m\n",
      "\u001b[32m[I 2023-08-23 22:00:20,507]\u001b[0m Trial 85 finished with value: 0.6685683524554074 and parameters: {'n_estimators': 29, 'max_depth': 9, 'min_samples_leaf': 1, 'min_samples_split': 2}. Best is trial 54 with value: 0.6828956430338973.\u001b[0m\n",
      "\u001b[32m[I 2023-08-23 22:00:21,662]\u001b[0m Trial 86 finished with value: 0.611557882485102 and parameters: {'n_estimators': 25, 'max_depth': 10, 'min_samples_leaf': 8, 'min_samples_split': 3}. Best is trial 54 with value: 0.6828956430338973.\u001b[0m\n",
      "\u001b[32m[I 2023-08-23 22:00:22,385]\u001b[0m Trial 87 finished with value: 0.6563182138727036 and parameters: {'n_estimators': 13, 'max_depth': 9, 'min_samples_leaf': 2, 'min_samples_split': 4}. Best is trial 54 with value: 0.6828956430338973.\u001b[0m\n",
      "\u001b[32m[I 2023-08-23 22:00:23,567]\u001b[0m Trial 88 finished with value: 0.6524399291032577 and parameters: {'n_estimators': 22, 'max_depth': 10, 'min_samples_leaf': 4, 'min_samples_split': 5}. Best is trial 54 with value: 0.6828956430338973.\u001b[0m\n",
      "\u001b[32m[I 2023-08-23 22:00:24,257]\u001b[0m Trial 89 finished with value: 0.5660288451032064 and parameters: {'n_estimators': 17, 'max_depth': 10, 'min_samples_leaf': 13, 'min_samples_split': 11}. Best is trial 54 with value: 0.6828956430338973.\u001b[0m\n",
      "\u001b[32m[I 2023-08-23 22:00:25,827]\u001b[0m Trial 90 finished with value: 0.6676201778285836 and parameters: {'n_estimators': 27, 'max_depth': 9, 'min_samples_leaf': 1, 'min_samples_split': 2}. Best is trial 54 with value: 0.6828956430338973.\u001b[0m\n",
      "\u001b[32m[I 2023-08-23 22:00:26,895]\u001b[0m Trial 91 finished with value: 0.6735606567489366 and parameters: {'n_estimators': 17, 'max_depth': 10, 'min_samples_leaf': 1, 'min_samples_split': 3}. Best is trial 54 with value: 0.6828956430338973.\u001b[0m\n",
      "\u001b[32m[I 2023-08-23 22:00:28,094]\u001b[0m Trial 92 finished with value: 0.6759358375820745 and parameters: {'n_estimators': 19, 'max_depth': 10, 'min_samples_leaf': 1, 'min_samples_split': 3}. Best is trial 54 with value: 0.6828956430338973.\u001b[0m\n",
      "\u001b[32m[I 2023-08-23 22:00:29,225]\u001b[0m Trial 93 finished with value: 0.6687391702995018 and parameters: {'n_estimators': 19, 'max_depth': 10, 'min_samples_leaf': 2, 'min_samples_split': 2}. Best is trial 54 with value: 0.6828956430338973.\u001b[0m\n",
      "\u001b[32m[I 2023-08-23 22:00:30,696]\u001b[0m Trial 94 finished with value: 0.6775957665017166 and parameters: {'n_estimators': 24, 'max_depth': 10, 'min_samples_leaf': 1, 'min_samples_split': 4}. Best is trial 54 with value: 0.6828956430338973.\u001b[0m\n",
      "\u001b[32m[I 2023-08-23 22:00:32,016]\u001b[0m Trial 95 finished with value: 0.6556405482463381 and parameters: {'n_estimators': 25, 'max_depth': 9, 'min_samples_leaf': 3, 'min_samples_split': 4}. Best is trial 54 with value: 0.6828956430338973.\u001b[0m\n",
      "\u001b[32m[I 2023-08-23 22:00:33,927]\u001b[0m Trial 96 finished with value: 0.6829410105479614 and parameters: {'n_estimators': 30, 'max_depth': 10, 'min_samples_leaf': 1, 'min_samples_split': 2}. Best is trial 96 with value: 0.6829410105479614.\u001b[0m\n",
      "\u001b[32m[I 2023-08-23 22:00:35,623]\u001b[0m Trial 97 finished with value: 0.6655413739322372 and parameters: {'n_estimators': 31, 'max_depth': 9, 'min_samples_leaf': 2, 'min_samples_split': 2}. Best is trial 96 with value: 0.6829410105479614.\u001b[0m\n",
      "\u001b[32m[I 2023-08-23 22:00:37,629]\u001b[0m Trial 98 finished with value: 0.6664899897921208 and parameters: {'n_estimators': 36, 'max_depth': 10, 'min_samples_leaf': 3, 'min_samples_split': 2}. Best is trial 96 with value: 0.6829410105479614.\u001b[0m\n",
      "\u001b[32m[I 2023-08-23 22:00:39,337]\u001b[0m Trial 99 finished with value: 0.6738516011594068 and parameters: {'n_estimators': 29, 'max_depth': 10, 'min_samples_leaf': 2, 'min_samples_split': 3}. Best is trial 96 with value: 0.6829410105479614.\u001b[0m\n"
     ]
    },
    {
     "name": "stdout",
     "output_type": "stream",
     "text": [
      "Best r2:  0.6829410105479614\n",
      "Best trial: {'n_estimators': 30, 'max_depth': 10, 'min_samples_leaf': 1, 'min_samples_split': 2}\n"
     ]
    }
   ],
   "source": [
    "sampler = TPESampler()\n",
    "study = optuna.create_study(\n",
    "    study_name=\"rf_parameter_opt\",\n",
    "    direction=\"maximize\",\n",
    "    sampler=sampler,\n",
    ")\n",
    "\n",
    "study.optimize(lambda trial : objectiveRF(trial, Ni_X_train, Ni_y_train), n_trials=100)\n",
    "print(\"Best r2: \", study.best_value)\n",
    "print(\"Best trial:\", study.best_trial.params)"
   ]
  },
  {
   "cell_type": "code",
   "execution_count": 122,
   "id": "d71c01fb",
   "metadata": {},
   "outputs": [
    {
     "data": {
      "application/vnd.plotly.v1+json": {
       "config": {
        "plotlyServerURL": "https://plot.ly"
       },
       "data": [
        {
         "dimensions": [
          {
           "label": "Objective Value",
           "range": [
            0.16497810549032307,
            0.6829410105479614
           ],
           "values": [
            0.550418533063507,
            0.16681189262971033,
            0.4808707541082969,
            0.16497810549032307,
            0.6232955307031791,
            0.554333731902971,
            0.5218197098946729,
            0.5829824446906162,
            0.4929876412778061,
            0.4976013061175408,
            0.576550767448371,
            0.5880758650620963,
            0.6459743490968204,
            0.6450693483396899,
            0.6602429680132482,
            0.3669027662041969,
            0.5942863040116642,
            0.6338625657917374,
            0.3656580284082501,
            0.6158215269956281,
            0.5222015907253246,
            0.6368735106955633,
            0.6510354692967117,
            0.6011696298268199,
            0.6495111569161964,
            0.6617504689551484,
            0.6596294056093774,
            0.6451685581416957,
            0.6676326996539762,
            0.6168903744319942,
            0.5642126171143256,
            0.6655147450843242,
            0.6643676010826722,
            0.6476756049187257,
            0.5575237842163068,
            0.6651264698570549,
            0.5351341958112826,
            0.6432205951987756,
            0.44246310301681396,
            0.16571670313083273,
            0.5651711405169684,
            0.6655413739322372,
            0.648378507342559,
            0.6270328280540527,
            0.6189453336475014,
            0.6391420550671857,
            0.5219542374641821,
            0.6133959270436674,
            0.6599731165299483,
            0.6082414903611814,
            0.6680931553467271,
            0.6680931553467271,
            0.6652361721232843,
            0.6805695812803435,
            0.6828956430338973,
            0.6818735916972006,
            0.6605710350101107,
            0.6828956430338973,
            0.5751861733506236,
            0.6618773965114972,
            0.6744986022067965,
            0.6744986022067965,
            0.6730831092921468,
            0.6673708693337066,
            0.657923254601376,
            0.6670900664352922,
            0.6570428784504097,
            0.59740712572369,
            0.6498310976968924,
            0.6500456283869029,
            0.676062558393649,
            0.6735606567489366,
            0.6677787968823783,
            0.6793656091394195,
            0.659969556804889,
            0.6729337142516212,
            0.2993319959937903,
            0.5345606894467823,
            0.6662483298444775,
            0.6712077543375793,
            0.6616803829243523,
            0.676062558393649,
            0.6673708693337066,
            0.6484106545859647,
            0.43877985243012924,
            0.6685683524554074,
            0.611557882485102,
            0.6563182138727036,
            0.6524399291032577,
            0.5660288451032064,
            0.6676201778285836,
            0.6735606567489366,
            0.6759358375820745,
            0.6687391702995018,
            0.6775957665017166,
            0.6556405482463381,
            0.6829410105479614,
            0.6655413739322372,
            0.6664899897921208,
            0.6738516011594068
           ]
          },
          {
           "label": "max_depth",
           "range": [
            1,
            10
           ],
           "values": [
            10,
            1,
            5,
            1,
            9,
            9,
            8,
            7,
            5,
            5,
            7,
            7,
            10,
            10,
            10,
            3,
            10,
            8,
            3,
            9,
            6,
            10,
            10,
            8,
            9,
            9,
            9,
            8,
            9,
            7,
            6,
            9,
            9,
            8,
            9,
            9,
            8,
            9,
            4,
            1,
            6,
            9,
            8,
            9,
            7,
            9,
            10,
            8,
            10,
            7,
            9,
            9,
            9,
            10,
            10,
            10,
            10,
            10,
            10,
            10,
            10,
            10,
            10,
            10,
            10,
            10,
            10,
            10,
            10,
            10,
            10,
            10,
            10,
            10,
            10,
            10,
            2,
            9,
            10,
            10,
            9,
            10,
            10,
            10,
            4,
            9,
            10,
            9,
            10,
            10,
            9,
            10,
            10,
            10,
            10,
            9,
            10,
            9,
            10,
            10
           ]
          },
          {
           "label": "min_samples_leaf",
           "range": [
            1,
            20
           ],
           "values": [
            15,
            18,
            12,
            2,
            7,
            15,
            20,
            7,
            5,
            1,
            9,
            7,
            5,
            4,
            3,
            4,
            10,
            1,
            3,
            6,
            12,
            4,
            4,
            8,
            3,
            2,
            1,
            1,
            1,
            2,
            3,
            1,
            2,
            2,
            14,
            2,
            17,
            5,
            2,
            6,
            1,
            2,
            2,
            3,
            1,
            5,
            20,
            6,
            4,
            3,
            1,
            1,
            1,
            1,
            1,
            1,
            3,
            1,
            12,
            4,
            1,
            1,
            1,
            2,
            3,
            2,
            4,
            10,
            1,
            3,
            1,
            1,
            2,
            1,
            3,
            2,
            1,
            17,
            2,
            3,
            1,
            1,
            2,
            2,
            1,
            1,
            8,
            2,
            4,
            13,
            1,
            1,
            1,
            2,
            1,
            3,
            1,
            2,
            3,
            2
           ]
          },
          {
           "label": "min_samples_split",
           "range": [
            2,
            20
           ],
           "values": [
            18,
            17,
            7,
            15,
            5,
            13,
            7,
            19,
            16,
            12,
            3,
            8,
            8,
            3,
            2,
            10,
            2,
            10,
            5,
            5,
            14,
            3,
            2,
            2,
            8,
            5,
            4,
            5,
            4,
            7,
            6,
            4,
            4,
            4,
            6,
            4,
            4,
            6,
            4,
            9,
            7,
            3,
            3,
            20,
            3,
            6,
            4,
            17,
            3,
            12,
            2,
            2,
            2,
            2,
            2,
            2,
            2,
            2,
            2,
            2,
            3,
            3,
            3,
            3,
            3,
            5,
            3,
            2,
            15,
            5,
            3,
            3,
            3,
            2,
            2,
            2,
            4,
            2,
            4,
            3,
            5,
            3,
            2,
            4,
            3,
            2,
            3,
            4,
            5,
            11,
            2,
            3,
            3,
            2,
            4,
            4,
            2,
            2,
            2,
            3
           ]
          },
          {
           "label": "n_estimators",
           "range": [
            10,
            98
           ],
           "values": [
            46,
            91,
            79,
            57,
            66,
            70,
            49,
            49,
            77,
            68,
            17,
            34,
            27,
            12,
            14,
            27,
            31,
            20,
            38,
            10,
            23,
            10,
            15,
            39,
            19,
            18,
            17,
            25,
            39,
            43,
            56,
            32,
            33,
            32,
            43,
            37,
            37,
            62,
            50,
            44,
            92,
            31,
            30,
            52,
            35,
            39,
            29,
            98,
            60,
            47,
            34,
            34,
            23,
            22,
            27,
            23,
            22,
            27,
            26,
            79,
            21,
            21,
            13,
            15,
            13,
            21,
            25,
            18,
            27,
            11,
            16,
            17,
            16,
            21,
            20,
            28,
            23,
            24,
            20,
            71,
            19,
            16,
            15,
            10,
            21,
            29,
            25,
            13,
            22,
            17,
            27,
            17,
            19,
            19,
            24,
            25,
            30,
            31,
            36,
            29
           ]
          }
         ],
         "labelangle": 30,
         "labelside": "bottom",
         "line": {
          "color": [
           0.550418533063507,
           0.16681189262971033,
           0.4808707541082969,
           0.16497810549032307,
           0.6232955307031791,
           0.554333731902971,
           0.5218197098946729,
           0.5829824446906162,
           0.4929876412778061,
           0.4976013061175408,
           0.576550767448371,
           0.5880758650620963,
           0.6459743490968204,
           0.6450693483396899,
           0.6602429680132482,
           0.3669027662041969,
           0.5942863040116642,
           0.6338625657917374,
           0.3656580284082501,
           0.6158215269956281,
           0.5222015907253246,
           0.6368735106955633,
           0.6510354692967117,
           0.6011696298268199,
           0.6495111569161964,
           0.6617504689551484,
           0.6596294056093774,
           0.6451685581416957,
           0.6676326996539762,
           0.6168903744319942,
           0.5642126171143256,
           0.6655147450843242,
           0.6643676010826722,
           0.6476756049187257,
           0.5575237842163068,
           0.6651264698570549,
           0.5351341958112826,
           0.6432205951987756,
           0.44246310301681396,
           0.16571670313083273,
           0.5651711405169684,
           0.6655413739322372,
           0.648378507342559,
           0.6270328280540527,
           0.6189453336475014,
           0.6391420550671857,
           0.5219542374641821,
           0.6133959270436674,
           0.6599731165299483,
           0.6082414903611814,
           0.6680931553467271,
           0.6680931553467271,
           0.6652361721232843,
           0.6805695812803435,
           0.6828956430338973,
           0.6818735916972006,
           0.6605710350101107,
           0.6828956430338973,
           0.5751861733506236,
           0.6618773965114972,
           0.6744986022067965,
           0.6744986022067965,
           0.6730831092921468,
           0.6673708693337066,
           0.657923254601376,
           0.6670900664352922,
           0.6570428784504097,
           0.59740712572369,
           0.6498310976968924,
           0.6500456283869029,
           0.676062558393649,
           0.6735606567489366,
           0.6677787968823783,
           0.6793656091394195,
           0.659969556804889,
           0.6729337142516212,
           0.2993319959937903,
           0.5345606894467823,
           0.6662483298444775,
           0.6712077543375793,
           0.6616803829243523,
           0.676062558393649,
           0.6673708693337066,
           0.6484106545859647,
           0.43877985243012924,
           0.6685683524554074,
           0.611557882485102,
           0.6563182138727036,
           0.6524399291032577,
           0.5660288451032064,
           0.6676201778285836,
           0.6735606567489366,
           0.6759358375820745,
           0.6687391702995018,
           0.6775957665017166,
           0.6556405482463381,
           0.6829410105479614,
           0.6655413739322372,
           0.6664899897921208,
           0.6738516011594068
          ],
          "colorbar": {
           "title": {
            "text": "Objective Value"
           }
          },
          "colorscale": [
           [
            0,
            "rgb(247,251,255)"
           ],
           [
            0.125,
            "rgb(222,235,247)"
           ],
           [
            0.25,
            "rgb(198,219,239)"
           ],
           [
            0.375,
            "rgb(158,202,225)"
           ],
           [
            0.5,
            "rgb(107,174,214)"
           ],
           [
            0.625,
            "rgb(66,146,198)"
           ],
           [
            0.75,
            "rgb(33,113,181)"
           ],
           [
            0.875,
            "rgb(8,81,156)"
           ],
           [
            1,
            "rgb(8,48,107)"
           ]
          ],
          "reversescale": false,
          "showscale": true
         },
         "type": "parcoords"
        }
       ],
       "layout": {
        "template": {
         "data": {
          "bar": [
           {
            "error_x": {
             "color": "#2a3f5f"
            },
            "error_y": {
             "color": "#2a3f5f"
            },
            "marker": {
             "line": {
              "color": "#E5ECF6",
              "width": 0.5
             },
             "pattern": {
              "fillmode": "overlay",
              "size": 10,
              "solidity": 0.2
             }
            },
            "type": "bar"
           }
          ],
          "barpolar": [
           {
            "marker": {
             "line": {
              "color": "#E5ECF6",
              "width": 0.5
             },
             "pattern": {
              "fillmode": "overlay",
              "size": 10,
              "solidity": 0.2
             }
            },
            "type": "barpolar"
           }
          ],
          "carpet": [
           {
            "aaxis": {
             "endlinecolor": "#2a3f5f",
             "gridcolor": "white",
             "linecolor": "white",
             "minorgridcolor": "white",
             "startlinecolor": "#2a3f5f"
            },
            "baxis": {
             "endlinecolor": "#2a3f5f",
             "gridcolor": "white",
             "linecolor": "white",
             "minorgridcolor": "white",
             "startlinecolor": "#2a3f5f"
            },
            "type": "carpet"
           }
          ],
          "choropleth": [
           {
            "colorbar": {
             "outlinewidth": 0,
             "ticks": ""
            },
            "type": "choropleth"
           }
          ],
          "contour": [
           {
            "colorbar": {
             "outlinewidth": 0,
             "ticks": ""
            },
            "colorscale": [
             [
              0,
              "#0d0887"
             ],
             [
              0.1111111111111111,
              "#46039f"
             ],
             [
              0.2222222222222222,
              "#7201a8"
             ],
             [
              0.3333333333333333,
              "#9c179e"
             ],
             [
              0.4444444444444444,
              "#bd3786"
             ],
             [
              0.5555555555555556,
              "#d8576b"
             ],
             [
              0.6666666666666666,
              "#ed7953"
             ],
             [
              0.7777777777777778,
              "#fb9f3a"
             ],
             [
              0.8888888888888888,
              "#fdca26"
             ],
             [
              1,
              "#f0f921"
             ]
            ],
            "type": "contour"
           }
          ],
          "contourcarpet": [
           {
            "colorbar": {
             "outlinewidth": 0,
             "ticks": ""
            },
            "type": "contourcarpet"
           }
          ],
          "heatmap": [
           {
            "colorbar": {
             "outlinewidth": 0,
             "ticks": ""
            },
            "colorscale": [
             [
              0,
              "#0d0887"
             ],
             [
              0.1111111111111111,
              "#46039f"
             ],
             [
              0.2222222222222222,
              "#7201a8"
             ],
             [
              0.3333333333333333,
              "#9c179e"
             ],
             [
              0.4444444444444444,
              "#bd3786"
             ],
             [
              0.5555555555555556,
              "#d8576b"
             ],
             [
              0.6666666666666666,
              "#ed7953"
             ],
             [
              0.7777777777777778,
              "#fb9f3a"
             ],
             [
              0.8888888888888888,
              "#fdca26"
             ],
             [
              1,
              "#f0f921"
             ]
            ],
            "type": "heatmap"
           }
          ],
          "heatmapgl": [
           {
            "colorbar": {
             "outlinewidth": 0,
             "ticks": ""
            },
            "colorscale": [
             [
              0,
              "#0d0887"
             ],
             [
              0.1111111111111111,
              "#46039f"
             ],
             [
              0.2222222222222222,
              "#7201a8"
             ],
             [
              0.3333333333333333,
              "#9c179e"
             ],
             [
              0.4444444444444444,
              "#bd3786"
             ],
             [
              0.5555555555555556,
              "#d8576b"
             ],
             [
              0.6666666666666666,
              "#ed7953"
             ],
             [
              0.7777777777777778,
              "#fb9f3a"
             ],
             [
              0.8888888888888888,
              "#fdca26"
             ],
             [
              1,
              "#f0f921"
             ]
            ],
            "type": "heatmapgl"
           }
          ],
          "histogram": [
           {
            "marker": {
             "pattern": {
              "fillmode": "overlay",
              "size": 10,
              "solidity": 0.2
             }
            },
            "type": "histogram"
           }
          ],
          "histogram2d": [
           {
            "colorbar": {
             "outlinewidth": 0,
             "ticks": ""
            },
            "colorscale": [
             [
              0,
              "#0d0887"
             ],
             [
              0.1111111111111111,
              "#46039f"
             ],
             [
              0.2222222222222222,
              "#7201a8"
             ],
             [
              0.3333333333333333,
              "#9c179e"
             ],
             [
              0.4444444444444444,
              "#bd3786"
             ],
             [
              0.5555555555555556,
              "#d8576b"
             ],
             [
              0.6666666666666666,
              "#ed7953"
             ],
             [
              0.7777777777777778,
              "#fb9f3a"
             ],
             [
              0.8888888888888888,
              "#fdca26"
             ],
             [
              1,
              "#f0f921"
             ]
            ],
            "type": "histogram2d"
           }
          ],
          "histogram2dcontour": [
           {
            "colorbar": {
             "outlinewidth": 0,
             "ticks": ""
            },
            "colorscale": [
             [
              0,
              "#0d0887"
             ],
             [
              0.1111111111111111,
              "#46039f"
             ],
             [
              0.2222222222222222,
              "#7201a8"
             ],
             [
              0.3333333333333333,
              "#9c179e"
             ],
             [
              0.4444444444444444,
              "#bd3786"
             ],
             [
              0.5555555555555556,
              "#d8576b"
             ],
             [
              0.6666666666666666,
              "#ed7953"
             ],
             [
              0.7777777777777778,
              "#fb9f3a"
             ],
             [
              0.8888888888888888,
              "#fdca26"
             ],
             [
              1,
              "#f0f921"
             ]
            ],
            "type": "histogram2dcontour"
           }
          ],
          "mesh3d": [
           {
            "colorbar": {
             "outlinewidth": 0,
             "ticks": ""
            },
            "type": "mesh3d"
           }
          ],
          "parcoords": [
           {
            "line": {
             "colorbar": {
              "outlinewidth": 0,
              "ticks": ""
             }
            },
            "type": "parcoords"
           }
          ],
          "pie": [
           {
            "automargin": true,
            "type": "pie"
           }
          ],
          "scatter": [
           {
            "marker": {
             "colorbar": {
              "outlinewidth": 0,
              "ticks": ""
             }
            },
            "type": "scatter"
           }
          ],
          "scatter3d": [
           {
            "line": {
             "colorbar": {
              "outlinewidth": 0,
              "ticks": ""
             }
            },
            "marker": {
             "colorbar": {
              "outlinewidth": 0,
              "ticks": ""
             }
            },
            "type": "scatter3d"
           }
          ],
          "scattercarpet": [
           {
            "marker": {
             "colorbar": {
              "outlinewidth": 0,
              "ticks": ""
             }
            },
            "type": "scattercarpet"
           }
          ],
          "scattergeo": [
           {
            "marker": {
             "colorbar": {
              "outlinewidth": 0,
              "ticks": ""
             }
            },
            "type": "scattergeo"
           }
          ],
          "scattergl": [
           {
            "marker": {
             "colorbar": {
              "outlinewidth": 0,
              "ticks": ""
             }
            },
            "type": "scattergl"
           }
          ],
          "scattermapbox": [
           {
            "marker": {
             "colorbar": {
              "outlinewidth": 0,
              "ticks": ""
             }
            },
            "type": "scattermapbox"
           }
          ],
          "scatterpolar": [
           {
            "marker": {
             "colorbar": {
              "outlinewidth": 0,
              "ticks": ""
             }
            },
            "type": "scatterpolar"
           }
          ],
          "scatterpolargl": [
           {
            "marker": {
             "colorbar": {
              "outlinewidth": 0,
              "ticks": ""
             }
            },
            "type": "scatterpolargl"
           }
          ],
          "scatterternary": [
           {
            "marker": {
             "colorbar": {
              "outlinewidth": 0,
              "ticks": ""
             }
            },
            "type": "scatterternary"
           }
          ],
          "surface": [
           {
            "colorbar": {
             "outlinewidth": 0,
             "ticks": ""
            },
            "colorscale": [
             [
              0,
              "#0d0887"
             ],
             [
              0.1111111111111111,
              "#46039f"
             ],
             [
              0.2222222222222222,
              "#7201a8"
             ],
             [
              0.3333333333333333,
              "#9c179e"
             ],
             [
              0.4444444444444444,
              "#bd3786"
             ],
             [
              0.5555555555555556,
              "#d8576b"
             ],
             [
              0.6666666666666666,
              "#ed7953"
             ],
             [
              0.7777777777777778,
              "#fb9f3a"
             ],
             [
              0.8888888888888888,
              "#fdca26"
             ],
             [
              1,
              "#f0f921"
             ]
            ],
            "type": "surface"
           }
          ],
          "table": [
           {
            "cells": {
             "fill": {
              "color": "#EBF0F8"
             },
             "line": {
              "color": "white"
             }
            },
            "header": {
             "fill": {
              "color": "#C8D4E3"
             },
             "line": {
              "color": "white"
             }
            },
            "type": "table"
           }
          ]
         },
         "layout": {
          "annotationdefaults": {
           "arrowcolor": "#2a3f5f",
           "arrowhead": 0,
           "arrowwidth": 1
          },
          "autotypenumbers": "strict",
          "coloraxis": {
           "colorbar": {
            "outlinewidth": 0,
            "ticks": ""
           }
          },
          "colorscale": {
           "diverging": [
            [
             0,
             "#8e0152"
            ],
            [
             0.1,
             "#c51b7d"
            ],
            [
             0.2,
             "#de77ae"
            ],
            [
             0.3,
             "#f1b6da"
            ],
            [
             0.4,
             "#fde0ef"
            ],
            [
             0.5,
             "#f7f7f7"
            ],
            [
             0.6,
             "#e6f5d0"
            ],
            [
             0.7,
             "#b8e186"
            ],
            [
             0.8,
             "#7fbc41"
            ],
            [
             0.9,
             "#4d9221"
            ],
            [
             1,
             "#276419"
            ]
           ],
           "sequential": [
            [
             0,
             "#0d0887"
            ],
            [
             0.1111111111111111,
             "#46039f"
            ],
            [
             0.2222222222222222,
             "#7201a8"
            ],
            [
             0.3333333333333333,
             "#9c179e"
            ],
            [
             0.4444444444444444,
             "#bd3786"
            ],
            [
             0.5555555555555556,
             "#d8576b"
            ],
            [
             0.6666666666666666,
             "#ed7953"
            ],
            [
             0.7777777777777778,
             "#fb9f3a"
            ],
            [
             0.8888888888888888,
             "#fdca26"
            ],
            [
             1,
             "#f0f921"
            ]
           ],
           "sequentialminus": [
            [
             0,
             "#0d0887"
            ],
            [
             0.1111111111111111,
             "#46039f"
            ],
            [
             0.2222222222222222,
             "#7201a8"
            ],
            [
             0.3333333333333333,
             "#9c179e"
            ],
            [
             0.4444444444444444,
             "#bd3786"
            ],
            [
             0.5555555555555556,
             "#d8576b"
            ],
            [
             0.6666666666666666,
             "#ed7953"
            ],
            [
             0.7777777777777778,
             "#fb9f3a"
            ],
            [
             0.8888888888888888,
             "#fdca26"
            ],
            [
             1,
             "#f0f921"
            ]
           ]
          },
          "colorway": [
           "#636efa",
           "#EF553B",
           "#00cc96",
           "#ab63fa",
           "#FFA15A",
           "#19d3f3",
           "#FF6692",
           "#B6E880",
           "#FF97FF",
           "#FECB52"
          ],
          "font": {
           "color": "#2a3f5f"
          },
          "geo": {
           "bgcolor": "white",
           "lakecolor": "white",
           "landcolor": "#E5ECF6",
           "showlakes": true,
           "showland": true,
           "subunitcolor": "white"
          },
          "hoverlabel": {
           "align": "left"
          },
          "hovermode": "closest",
          "mapbox": {
           "style": "light"
          },
          "paper_bgcolor": "white",
          "plot_bgcolor": "#E5ECF6",
          "polar": {
           "angularaxis": {
            "gridcolor": "white",
            "linecolor": "white",
            "ticks": ""
           },
           "bgcolor": "#E5ECF6",
           "radialaxis": {
            "gridcolor": "white",
            "linecolor": "white",
            "ticks": ""
           }
          },
          "scene": {
           "xaxis": {
            "backgroundcolor": "#E5ECF6",
            "gridcolor": "white",
            "gridwidth": 2,
            "linecolor": "white",
            "showbackground": true,
            "ticks": "",
            "zerolinecolor": "white"
           },
           "yaxis": {
            "backgroundcolor": "#E5ECF6",
            "gridcolor": "white",
            "gridwidth": 2,
            "linecolor": "white",
            "showbackground": true,
            "ticks": "",
            "zerolinecolor": "white"
           },
           "zaxis": {
            "backgroundcolor": "#E5ECF6",
            "gridcolor": "white",
            "gridwidth": 2,
            "linecolor": "white",
            "showbackground": true,
            "ticks": "",
            "zerolinecolor": "white"
           }
          },
          "shapedefaults": {
           "line": {
            "color": "#2a3f5f"
           }
          },
          "ternary": {
           "aaxis": {
            "gridcolor": "white",
            "linecolor": "white",
            "ticks": ""
           },
           "baxis": {
            "gridcolor": "white",
            "linecolor": "white",
            "ticks": ""
           },
           "bgcolor": "#E5ECF6",
           "caxis": {
            "gridcolor": "white",
            "linecolor": "white",
            "ticks": ""
           }
          },
          "title": {
           "x": 0.05
          },
          "xaxis": {
           "automargin": true,
           "gridcolor": "white",
           "linecolor": "white",
           "ticks": "",
           "title": {
            "standoff": 15
           },
           "zerolinecolor": "white",
           "zerolinewidth": 2
          },
          "yaxis": {
           "automargin": true,
           "gridcolor": "white",
           "linecolor": "white",
           "ticks": "",
           "title": {
            "standoff": 15
           },
           "zerolinecolor": "white",
           "zerolinewidth": 2
          }
         }
        },
        "title": {
         "text": "Parallel Coordinate Plot"
        }
       }
      }
     },
     "metadata": {},
     "output_type": "display_data"
    }
   ],
   "source": [
    "optuna.visualization.plot_parallel_coordinate(study)"
   ]
  },
  {
   "cell_type": "code",
   "execution_count": 123,
   "id": "1d419df8",
   "metadata": {},
   "outputs": [
    {
     "name": "stdout",
     "output_type": "stream",
     "text": [
      "Best trial: {'n_estimators': 30, 'max_depth': 10, 'min_samples_leaf': 1, 'min_samples_split': 2}\n"
     ]
    },
    {
     "data": {
      "text/plain": [
       "30"
      ]
     },
     "execution_count": 123,
     "metadata": {},
     "output_type": "execute_result"
    }
   ],
   "source": [
    "print(\"Best trial:\", study.best_trial.params)\n",
    "study.best_trial.params[\"n_estimators\"]"
   ]
  },
  {
   "cell_type": "code",
   "execution_count": 124,
   "id": "ffefef6c",
   "metadata": {},
   "outputs": [
    {
     "data": {
      "text/html": [
       "<style>#sk-container-id-6 {color: black;}#sk-container-id-6 pre{padding: 0;}#sk-container-id-6 div.sk-toggleable {background-color: white;}#sk-container-id-6 label.sk-toggleable__label {cursor: pointer;display: block;width: 100%;margin-bottom: 0;padding: 0.3em;box-sizing: border-box;text-align: center;}#sk-container-id-6 label.sk-toggleable__label-arrow:before {content: \"▸\";float: left;margin-right: 0.25em;color: #696969;}#sk-container-id-6 label.sk-toggleable__label-arrow:hover:before {color: black;}#sk-container-id-6 div.sk-estimator:hover label.sk-toggleable__label-arrow:before {color: black;}#sk-container-id-6 div.sk-toggleable__content {max-height: 0;max-width: 0;overflow: hidden;text-align: left;background-color: #f0f8ff;}#sk-container-id-6 div.sk-toggleable__content pre {margin: 0.2em;color: black;border-radius: 0.25em;background-color: #f0f8ff;}#sk-container-id-6 input.sk-toggleable__control:checked~div.sk-toggleable__content {max-height: 200px;max-width: 100%;overflow: auto;}#sk-container-id-6 input.sk-toggleable__control:checked~label.sk-toggleable__label-arrow:before {content: \"▾\";}#sk-container-id-6 div.sk-estimator input.sk-toggleable__control:checked~label.sk-toggleable__label {background-color: #d4ebff;}#sk-container-id-6 div.sk-label input.sk-toggleable__control:checked~label.sk-toggleable__label {background-color: #d4ebff;}#sk-container-id-6 input.sk-hidden--visually {border: 0;clip: rect(1px 1px 1px 1px);clip: rect(1px, 1px, 1px, 1px);height: 1px;margin: -1px;overflow: hidden;padding: 0;position: absolute;width: 1px;}#sk-container-id-6 div.sk-estimator {font-family: monospace;background-color: #f0f8ff;border: 1px dotted black;border-radius: 0.25em;box-sizing: border-box;margin-bottom: 0.5em;}#sk-container-id-6 div.sk-estimator:hover {background-color: #d4ebff;}#sk-container-id-6 div.sk-parallel-item::after {content: \"\";width: 100%;border-bottom: 1px solid gray;flex-grow: 1;}#sk-container-id-6 div.sk-label:hover label.sk-toggleable__label {background-color: #d4ebff;}#sk-container-id-6 div.sk-serial::before {content: \"\";position: absolute;border-left: 1px solid gray;box-sizing: border-box;top: 0;bottom: 0;left: 50%;z-index: 0;}#sk-container-id-6 div.sk-serial {display: flex;flex-direction: column;align-items: center;background-color: white;padding-right: 0.2em;padding-left: 0.2em;position: relative;}#sk-container-id-6 div.sk-item {position: relative;z-index: 1;}#sk-container-id-6 div.sk-parallel {display: flex;align-items: stretch;justify-content: center;background-color: white;position: relative;}#sk-container-id-6 div.sk-item::before, #sk-container-id-6 div.sk-parallel-item::before {content: \"\";position: absolute;border-left: 1px solid gray;box-sizing: border-box;top: 0;bottom: 0;left: 50%;z-index: -1;}#sk-container-id-6 div.sk-parallel-item {display: flex;flex-direction: column;z-index: 1;position: relative;background-color: white;}#sk-container-id-6 div.sk-parallel-item:first-child::after {align-self: flex-end;width: 50%;}#sk-container-id-6 div.sk-parallel-item:last-child::after {align-self: flex-start;width: 50%;}#sk-container-id-6 div.sk-parallel-item:only-child::after {width: 0;}#sk-container-id-6 div.sk-dashed-wrapped {border: 1px dashed gray;margin: 0 0.4em 0.5em 0.4em;box-sizing: border-box;padding-bottom: 0.4em;background-color: white;}#sk-container-id-6 div.sk-label label {font-family: monospace;font-weight: bold;display: inline-block;line-height: 1.2em;}#sk-container-id-6 div.sk-label-container {text-align: center;}#sk-container-id-6 div.sk-container {/* jupyter's `normalize.less` sets `[hidden] { display: none; }` but bootstrap.min.css set `[hidden] { display: none !important; }` so we also need the `!important` here to be able to override the default hidden behavior on the sphinx rendered scikit-learn.org. See: https://github.com/scikit-learn/scikit-learn/issues/21755 */display: inline-block !important;position: relative;}#sk-container-id-6 div.sk-text-repr-fallback {display: none;}</style><div id=\"sk-container-id-6\" class=\"sk-top-container\"><div class=\"sk-text-repr-fallback\"><pre>RandomForestRegressor(max_depth=10, n_estimators=30, random_state=42)</pre><b>In a Jupyter environment, please rerun this cell to show the HTML representation or trust the notebook. <br />On GitHub, the HTML representation is unable to render, please try loading this page with nbviewer.org.</b></div><div class=\"sk-container\" hidden><div class=\"sk-item\"><div class=\"sk-estimator sk-toggleable\"><input class=\"sk-toggleable__control sk-hidden--visually\" id=\"sk-estimator-id-6\" type=\"checkbox\" checked><label for=\"sk-estimator-id-6\" class=\"sk-toggleable__label sk-toggleable__label-arrow\">RandomForestRegressor</label><div class=\"sk-toggleable__content\"><pre>RandomForestRegressor(max_depth=10, n_estimators=30, random_state=42)</pre></div></div></div></div></div>"
      ],
      "text/plain": [
       "RandomForestRegressor(max_depth=10, n_estimators=30, random_state=42)"
      ]
     },
     "execution_count": 124,
     "metadata": {},
     "output_type": "execute_result"
    }
   ],
   "source": [
    "rf_params = {\n",
    "    \"random_state\": 42,\n",
    "    #\"learning_rate\": 0.1,\n",
    "    \"n_estimators\": study.best_trial.params[\"n_estimators\"],\n",
    "    \"max_depth\": study.best_trial.params[\"max_depth\"],\n",
    "    \"min_samples_leaf\": study.best_trial.params[\"min_samples_leaf\"],\n",
    "    \"min_samples_split\": study.best_trial.params[\"min_samples_split\"],\n",
    "    #\"subsample\": study.best_trial.params[\"subsample\"]\n",
    "}\n",
    "\n",
    "rf = RandomForestRegressor(**rf_params)\n",
    "rf.fit(Ni_X_train, Ni_y_train)"
   ]
  },
  {
   "cell_type": "code",
   "execution_count": 125,
   "id": "4c1a69d2",
   "metadata": {},
   "outputs": [],
   "source": [
    "y_train_pred = rf.predict(Ni_X_train)\n",
    "y_test_pred = rf.predict(Ni_X_test)"
   ]
  },
  {
   "cell_type": "code",
   "execution_count": 126,
   "id": "0f707a20",
   "metadata": {},
   "outputs": [
    {
     "name": "stdout",
     "output_type": "stream",
     "text": [
      "Train RMSE:  0.34274203542048376\n",
      "Test RMSE:  0.6198802947817844\n"
     ]
    }
   ],
   "source": [
    "print(\"Train RMSE: \", np.sqrt(mean_squared_error(Ni_y_train, y_train_pred)))\n",
    "print(\"Test RMSE: \", np.sqrt(mean_squared_error(Ni_y_test, y_test_pred)))"
   ]
  },
  {
   "cell_type": "code",
   "execution_count": 127,
   "id": "641d78f4",
   "metadata": {},
   "outputs": [
    {
     "name": "stdout",
     "output_type": "stream",
     "text": [
      "Train R2:  0.9212627958773654\n",
      "Test R2:  0.7251089954705117\n"
     ]
    }
   ],
   "source": [
    "print(\"Train R2: \", r2_score(Ni_y_train, y_train_pred))\n",
    "print(\"Test R2: \", r2_score(Ni_y_test, y_test_pred))"
   ]
  },
  {
   "cell_type": "code",
   "execution_count": 128,
   "id": "dd1670cb",
   "metadata": {},
   "outputs": [
    {
     "data": {
      "image/png": "[encoded data removed]",
      "text/plain": [
       "<Figure size 640x480 with 1 Axes>"
      ]
     },
     "metadata": {},
     "output_type": "display_data"
    }
   ],
   "source": [
    "plt.scatter(y_train_pred, np.array(Ni_y_train), color=\"orange\", alpha=0.3)\n",
    "plt.scatter(y_test_pred, np.array(Ni_y_test), color=\"green\", alpha=0.4)\n",
    "plt.axis(\"auto\") # scaled, tight, auto, image, square\n",
    "# plt.xlim([0, 1.5]) \n",
    "# plt.ylim(0, None) \n",
    "plt.xlabel('Predicted Values')\n",
    "plt.ylabel('Actual Values')\n",
    "\n",
    "# Add y=x line\n",
    "plt.plot([0, 4.0], [0, 4.0], color='red', linestyle='-')\n",
    "\n",
    "plt.show()"
   ]
  }
 ],
 "metadata": {
  "kernelspec": {
   "display_name": "base",
   "language": "python",
   "name": "python3"
  },
  "language_info": {
   "codemirror_mode": {
    "name": "ipython",
    "version": 3
   },
   "file_extension": ".py",
   "mimetype": "text/x-python",
   "name": "python",
   "nbconvert_exporter": "python",
   "pygments_lexer": "ipython3",
   "version": "3.8.11"
  },
  "vscode": {
   "interpreter": {
    "hash": "ba68d4d491ed2bf1e98a1b536323f5ca7371de2084cca3d5786e07ce079a51c3"
   }
  }
 },
 "nbformat": 4,
 "nbformat_minor": 5
}
