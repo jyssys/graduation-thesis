{
 "cells": [
  {
   "attachments": {},
   "cell_type": "markdown",
   "id": "451911be",
   "metadata": {},
   "source": [
    "#### Library import"
   ]
  },
  {
   "cell_type": "code",
   "execution_count": 256,
   "id": "8a394942",
   "metadata": {},
   "outputs": [],
   "source": [
    "import os\n",
    "import pandas as pd\n",
    "import numpy as np\n",
    "import matplotlib.pyplot as plt\n",
    "%matplotlib inline\n",
    "import seaborn as sns\n",
    "import tensorflow as tf\n",
    "import missingno as msno\n",
    "\n",
    "import warnings\n",
    "warnings.filterwarnings('ignore')\n",
    "\n",
    "from sklearn.model_selection import train_test_split\n",
    "from sklearn.model_selection import GridSearchCV\n",
    "from sklearn.metrics import mean_squared_error, r2_score\n",
    "from sklearn.preprocessing import StandardScaler, MinMaxScaler, RobustScaler\n",
    "from sklearn.ensemble import RandomForestRegressor, GradientBoostingRegressor, ExtraTreesRegressor\n",
    "from sklearn.model_selection import KFold\n",
    "from lightgbm import LGBMRegressor\n",
    "from xgboost import XGBRegressor\n",
    "from ngboost import NGBRegressor\n",
    "from scipy.stats import norm, skew\n",
    "\n",
    "from matplotlib.ticker import FormatStrFormatter\n",
    "\n",
    "from tensorflow import keras\n",
    "\n",
    "import re\n",
    "from tqdm import tqdm"
   ]
  },
  {
   "attachments": {},
   "cell_type": "markdown",
   "id": "31a13d68",
   "metadata": {},
   "source": [
    "#### GPU setting"
   ]
  },
  {
   "cell_type": "code",
   "execution_count": 257,
   "id": "cff3cada",
   "metadata": {},
   "outputs": [],
   "source": [
    "from tensorflow.compat.v1 import ConfigProto\n",
    "from tensorflow.compat.v1 import InteractiveSession"
   ]
  },
  {
   "cell_type": "code",
   "execution_count": 258,
   "id": "fb88e9c0",
   "metadata": {},
   "outputs": [],
   "source": [
    "config = ConfigProto()\n",
    "config.gpu_options.per_process_gpu_memory_fraction = 0.4\n",
    "session = InteractiveSession(config = config)"
   ]
  },
  {
   "cell_type": "code",
   "execution_count": 259,
   "id": "ea8f0f47",
   "metadata": {},
   "outputs": [
    {
     "name": "stdout",
     "output_type": "stream",
     "text": [
      "[name: \"/device:CPU:0\"\n",
      "device_type: \"CPU\"\n",
      "memory_limit: 268435456\n",
      "locality {\n",
      "}\n",
      "incarnation: 6041751694488968741\n",
      ", name: \"/device:GPU:0\"\n",
      "device_type: \"GPU\"\n",
      "memory_limit: 3435973836\n",
      "locality {\n",
      "  bus_id: 1\n",
      "  links {\n",
      "  }\n",
      "}\n",
      "incarnation: 3251140996209585769\n",
      "physical_device_desc: \"device: 0, name: NVIDIA GeForce RTX 3060 Ti, pci bus id: 0000:07:00.0, compute capability: 8.6\"\n",
      "]\n"
     ]
    }
   ],
   "source": [
    "physical_devices = tf.config.list_physical_devices('GPU')\n",
    "physical_devices\n",
    "\n",
    "from tensorflow.python.client import device_lib\n",
    "\n",
    "print(device_lib.list_local_devices())"
   ]
  },
  {
   "cell_type": "code",
   "execution_count": 260,
   "id": "cd001f36",
   "metadata": {},
   "outputs": [],
   "source": [
    "import os\n",
    "\n",
    "os.environ[\"CUDA_VISIBLE_DEVICES\"]=\"0\"\n",
    "gpus = tf.config.experimental.list_physical_devices('GPU')\n",
    "if gpus:\n",
    "    try:\n",
    "        tf.config.experimental.set_memory_growth(gpus[0], True)\n",
    "    except RuntimeError as e:\n",
    "        print(e)"
   ]
  },
  {
   "attachments": {},
   "cell_type": "markdown",
   "id": "cb740f81",
   "metadata": {},
   "source": [
    "#### Data import and preprocessing"
   ]
  },
  {
   "cell_type": "code",
   "execution_count": 261,
   "id": "9288345d",
   "metadata": {
    "scrolled": true
   },
   "outputs": [
    {
     "data": {
      "text/plain": [
       "Index(['OBJECTID_x', 'ID', 'pH', 'As', 'Cd', 'Ni', 'Pb', 'Zn', 'Hg', 'slope',\n",
       "       'altitude', 'profile_curve', 'profile_c_num', 'profile_c_abs',\n",
       "       'planform_curve', 'planform_c_num', 'planform_c_abs', 'HYDGRP',\n",
       "       'HYDGRP_A', 'HYDGRP_B', 'HYDGRP_C', 'HYDGRP_D', 'ANION_EXCL', 'SOL_CRK',\n",
       "       'SOL_K1', 'CLAY1', 'SILT1', 'SAND1', 'ROCK1', 'SOL_EC1', 'distance'],\n",
       "      dtype='object')"
      ]
     },
     "execution_count": 261,
     "metadata": {},
     "output_type": "execute_result"
    }
   ],
   "source": [
    "data = pd.read_csv(\"data/data.csv\")\n",
    "data.columns"
   ]
  },
  {
   "cell_type": "code",
   "execution_count": 262,
   "id": "bbf87a23",
   "metadata": {},
   "outputs": [
    {
     "data": {
      "text/plain": [
       "Index(['pH', 'As', 'Cd', 'Ni', 'Pb', 'Zn', 'Hg', 'slope', 'altitude',\n",
       "       'profile_curve', 'planform_curve', 'HYDGRP_A', 'HYDGRP_B', 'HYDGRP_C',\n",
       "       'HYDGRP_D', 'SOL_K1', 'CLAY1', 'SILT1', 'SAND1', 'ROCK1', 'distance'],\n",
       "      dtype='object')"
      ]
     },
     "execution_count": 262,
     "metadata": {},
     "output_type": "execute_result"
    }
   ],
   "source": [
    "data = data.drop(['OBJECTID_x','ID','HYDGRP','profile_c_num', 'profile_c_abs','planform_c_num', 'planform_c_abs','ANION_EXCL','SOL_CRK','SOL_EC1'], axis = 1)\n",
    "data.columns"
   ]
  },
  {
   "cell_type": "code",
   "execution_count": 263,
   "id": "3cb8e77e",
   "metadata": {},
   "outputs": [],
   "source": [
    "As = data\n",
    "Cd = data\n",
    "Ni = data"
   ]
  },
  {
   "cell_type": "code",
   "execution_count": 264,
   "id": "45ec138e",
   "metadata": {},
   "outputs": [],
   "source": [
    "As = As.drop([\"Cd\", \"Ni\", \"Pb\", \"Zn\", \"Hg\"], axis = 1)\n",
    "Cd = Cd.drop([\"As\", \"Ni\", \"Pb\", \"Zn\", \"Hg\"], axis = 1)\n",
    "Ni = Ni.drop([\"As\", \"Cd\", \"Pb\", \"Zn\", \"Hg\"], axis = 1)"
   ]
  },
  {
   "cell_type": "code",
   "execution_count": 265,
   "id": "69e10383",
   "metadata": {},
   "outputs": [
    {
     "name": "stdout",
     "output_type": "stream",
     "text": [
      "(1458, 16)\n",
      "(1458, 16)\n",
      "(1458, 16)\n"
     ]
    }
   ],
   "source": [
    "print(As.shape)\n",
    "print(Cd.shape)\n",
    "print(Ni.shape)"
   ]
  },
  {
   "attachments": {},
   "cell_type": "markdown",
   "id": "2b5fd2cd",
   "metadata": {},
   "source": [
    "#### Oversampling by SMOGN (SMOTE Regression)"
   ]
  },
  {
   "cell_type": "code",
   "execution_count": 266,
   "id": "b664ef07",
   "metadata": {},
   "outputs": [],
   "source": [
    "import smogn"
   ]
  },
  {
   "cell_type": "code",
   "execution_count": 267,
   "id": "0797c71f",
   "metadata": {},
   "outputs": [
    {
     "name": "stderr",
     "output_type": "stream",
     "text": [
      "dist_matrix:   0%|          | 1/248 [00:00<00:27,  9.09it/s]"
     ]
    },
    {
     "name": "stderr",
     "output_type": "stream",
     "text": [
      "dist_matrix: 100%|##########| 248/248 [00:23<00:00, 10.34it/s]\n",
      "synth_matrix: 100%|##########| 248/248 [00:00<00:00, 543.74it/s]\n",
      "r_index: 100%|##########| 233/233 [00:00<00:00, 562.68it/s]\n",
      "dist_matrix: 100%|##########| 259/259 [00:27<00:00,  9.58it/s]\n",
      "synth_matrix: 100%|##########| 259/259 [00:00<00:00, 633.11it/s]\n",
      "r_index: 100%|##########| 210/210 [00:00<00:00, 638.16it/s]\n",
      "dist_matrix: 100%|##########| 242/242 [00:22<00:00, 10.60it/s]\n",
      "synth_matrix: 100%|##########| 242/242 [00:00<00:00, 288.37it/s]\n",
      "r_index: 100%|##########| 3/3 [00:00<00:00, 499.72it/s]\n"
     ]
    }
   ],
   "source": [
    "As_smogn = smogn.smoter(data = As, y = 'As', samp_method = 'balance', k = 10)\n",
    "Cd_smogn = smogn.smoter(data = Cd, y = 'Cd', samp_method = 'balance', k = 10)\n",
    "Ni_smogn = smogn.smoter(data = Ni, y = 'Ni', samp_method = 'balance', k = 10)"
   ]
  },
  {
   "cell_type": "code",
   "execution_count": 268,
   "id": "cba746a8",
   "metadata": {},
   "outputs": [
    {
     "name": "stdout",
     "output_type": "stream",
     "text": [
      "(1210, 16)\n",
      "(1198, 16)\n",
      "(1216, 16)\n"
     ]
    }
   ],
   "source": [
    "print(As_smogn.shape)\n",
    "print(Cd_smogn.shape)\n",
    "print(Ni_smogn.shape)"
   ]
  },
  {
   "attachments": {},
   "cell_type": "markdown",
   "id": "ed72a9b1",
   "metadata": {},
   "source": [
    "#### Eliminate outlier and train / test split"
   ]
  },
  {
   "cell_type": "code",
   "execution_count": 269,
   "id": "43604a42",
   "metadata": {},
   "outputs": [],
   "source": [
    "def eli_outlier(data, value):\n",
    "    q1 = data[value].quantile(0.25)\n",
    "    q3 = data[value].quantile(0.75)\n",
    "\n",
    "    iqr = q3 - q1\n",
    "\n",
    "    q1_condition = data[value] < q1-1.5*iqr\n",
    "    q3_condition = data[value] > q3+1.5*iqr\n",
    "\n",
    "    reset_q1_index = data[q1_condition].index\n",
    "    reset_q3_index = data[q3_condition].index\n",
    "\n",
    "    data.drop(reset_q1_index, inplace = True)\n",
    "    data.drop(reset_q3_index, inplace = True)\n",
    "\n",
    "    return data"
   ]
  },
  {
   "cell_type": "code",
   "execution_count": 270,
   "id": "9b7632f2",
   "metadata": {},
   "outputs": [],
   "source": [
    "As_ros = eli_outlier(As_smogn, \"As\")\n",
    "Cd_ros = eli_outlier(Cd_smogn, \"Cd\")\n",
    "Ni_ros = eli_outlier(Ni_smogn, \"Ni\")"
   ]
  },
  {
   "cell_type": "code",
   "execution_count": 271,
   "id": "f8609469",
   "metadata": {},
   "outputs": [],
   "source": [
    "As_X = As_ros.drop([\"As\"], axis=1)\n",
    "Cd_X = Cd_ros.drop([\"Cd\"], axis=1)\n",
    "Ni_X = Ni_ros.drop([\"Ni\"], axis=1)\n",
    "\n",
    "As_y = As_ros[\"As\"]\n",
    "Cd_y = Cd_ros[\"Cd\"]\n",
    "Ni_y = Ni_ros[\"Ni\"]"
   ]
  },
  {
   "cell_type": "code",
   "execution_count": 272,
   "id": "7237a19a",
   "metadata": {},
   "outputs": [],
   "source": [
    "As_y = np.log1p(As_ros[\"As\"])\n",
    "Cd_y = np.log1p(Cd_ros[\"Cd\"])\n",
    "Ni_y = np.log1p(Ni_ros[\"Ni\"])"
   ]
  },
  {
   "cell_type": "code",
   "execution_count": 273,
   "id": "ce87d06a",
   "metadata": {},
   "outputs": [
    {
     "name": "stdout",
     "output_type": "stream",
     "text": [
      "(978, 15)\n",
      "(1041, 15)\n",
      "(1155, 15)\n"
     ]
    }
   ],
   "source": [
    "print(As_X.shape)\n",
    "print(Cd_X.shape)\n",
    "print(Ni_X.shape)"
   ]
  },
  {
   "attachments": {},
   "cell_type": "markdown",
   "id": "c92e5bb6",
   "metadata": {},
   "source": [
    "StandardScaler"
   ]
  },
  {
   "cell_type": "code",
   "execution_count": 274,
   "id": "fbb3f6f7",
   "metadata": {},
   "outputs": [],
   "source": [
    "from sklearn.preprocessing import StandardScaler\n",
    "\n",
    "scaler = StandardScaler()\n",
    "\n",
    "As_X_train, As_X_test, As_y_train, As_y_test = train_test_split(As_X, As_y, test_size=0.2, random_state=42)\n",
    "Cd_X_train, Cd_X_test, Cd_y_train, Cd_y_test = train_test_split(Cd_X, Cd_y, test_size=0.2, random_state=42)\n",
    "Ni_X_train, Ni_X_test, Ni_y_train, Ni_y_test = train_test_split(Ni_X, Ni_y, test_size=0.2, random_state=42)\n",
    "\n",
    "As_X_train = scaler.fit_transform(As_X_train)\n",
    "As_X_test = scaler.fit_transform(As_X_test)\n",
    "\n",
    "Cd_X_train = scaler.fit_transform(Cd_X_train)\n",
    "Cd_X_test = scaler.fit_transform(Cd_X_test)\n",
    "\n",
    "Ni_X_train = scaler.fit_transform(Ni_X_train)\n",
    "Ni_X_test = scaler.fit_transform(Ni_X_test)"
   ]
  },
  {
   "cell_type": "code",
   "execution_count": 275,
   "id": "416a7027",
   "metadata": {},
   "outputs": [
    {
     "data": {
      "text/plain": [
       "' from sklearn.preprocessing import StandardScaler\\n\\nscaler = StandardScaler()\\n\\nAs_X_scaled = scaler.fit_transform(As_X)\\nCd_X_scaled = scaler.fit_transform(Cd_X)\\nNi_X_scaled = scaler.fit_transform(Ni_X)\\n\\nAs_X_train, As_X_test, As_y_train, As_y_test = train_test_split(As_X_scaled, As_y, test_size=0.2, random_state=42)\\nCd_X_train, Cd_X_test, Cd_y_train, Cd_y_test = train_test_split(Cd_X_scaled, Cd_y, test_size=0.2, random_state=42)\\nNi_X_train, Ni_X_test, Ni_y_train, Ni_y_test = train_test_split(Ni_X_scaled, Ni_y, test_size=0.2, random_state=42) '"
      ]
     },
     "execution_count": 275,
     "metadata": {},
     "output_type": "execute_result"
    }
   ],
   "source": [
    "''' from sklearn.preprocessing import StandardScaler\n",
    "\n",
    "scaler = StandardScaler()\n",
    "\n",
    "As_X_scaled = scaler.fit_transform(As_X)\n",
    "Cd_X_scaled = scaler.fit_transform(Cd_X)\n",
    "Ni_X_scaled = scaler.fit_transform(Ni_X)\n",
    "\n",
    "As_X_train, As_X_test, As_y_train, As_y_test = train_test_split(As_X_scaled, As_y, test_size=0.2, random_state=42)\n",
    "Cd_X_train, Cd_X_test, Cd_y_train, Cd_y_test = train_test_split(Cd_X_scaled, Cd_y, test_size=0.2, random_state=42)\n",
    "Ni_X_train, Ni_X_test, Ni_y_train, Ni_y_test = train_test_split(Ni_X_scaled, Ni_y, test_size=0.2, random_state=42) '''"
   ]
  },
  {
   "attachments": {},
   "cell_type": "markdown",
   "id": "2fe0d293",
   "metadata": {},
   "source": [
    "MinMaxScaler"
   ]
  },
  {
   "cell_type": "code",
   "execution_count": 276,
   "id": "e8596f9f",
   "metadata": {},
   "outputs": [],
   "source": [
    "# from sklearn.preprocessing import MinMaxScaler\n",
    "\n",
    "# scaler = MinMaxScaler()\n",
    "# As_X_scaled = scaler.fit_transform(As_X)\n",
    "# Cd_X_scaled = scaler.fit_transform(Cd_X)\n",
    "# Ni_X_scaled = scaler.fit_transform(Ni_X)\n",
    "\n",
    "# As_X_train, As_X_test, As_y_train, As_y_test = train_test_split(As_X_scaled, As_y, test_size=0.2, random_state=42)\n",
    "# Cd_X_train, Cd_X_test, Cd_y_train, Cd_y_test = train_test_split(Cd_X_scaled, Cd_y, test_size=0.2, random_state=42)\n",
    "# Ni_X_train, Ni_X_test, Ni_y_train, Ni_y_test = train_test_split(Ni_X_scaled, Ni_y, test_size=0.2, random_state=42)"
   ]
  },
  {
   "cell_type": "code",
   "execution_count": 277,
   "id": "86ccf2fe",
   "metadata": {},
   "outputs": [
    {
     "name": "stdout",
     "output_type": "stream",
     "text": [
      "(782, 15)\n",
      "(832, 15)\n",
      "(924, 15)\n"
     ]
    }
   ],
   "source": [
    "print(As_X_train.shape)\n",
    "print(Cd_X_train.shape)\n",
    "print(Ni_X_train.shape)"
   ]
  },
  {
   "attachments": {},
   "cell_type": "markdown",
   "id": "bd11b27e",
   "metadata": {},
   "source": [
    "#### 10-Fold Crossvalidation"
   ]
  },
  {
   "cell_type": "code",
   "execution_count": 278,
   "id": "7a765916",
   "metadata": {},
   "outputs": [],
   "source": [
    "kf = KFold(n_splits = 5, random_state = 42, shuffle = True)"
   ]
  },
  {
   "attachments": {},
   "cell_type": "markdown",
   "id": "859638d0",
   "metadata": {},
   "source": [
    "#### Optuna Optimization"
   ]
  },
  {
   "cell_type": "code",
   "execution_count": 279,
   "id": "92a47d83",
   "metadata": {},
   "outputs": [],
   "source": [
    "import optuna\n",
    "\n",
    "from optuna import Trial\n",
    "from optuna.samplers import TPESampler"
   ]
  },
  {
   "cell_type": "code",
   "execution_count": 280,
   "id": "a7669fea",
   "metadata": {},
   "outputs": [],
   "source": [
    "from sklearn.model_selection import cross_val_score\n",
    "\n",
    "def objectiveRF(trial: Trial, X_train, y_train) -> float:\n",
    "    rf_paramas = {\n",
    "        \"random_state\": 42,\n",
    "        #\"learning_rate\": 0.1,\n",
    "        \"n_estimators\": trial.suggest_int(\"n_estimators\", 10, 100),\n",
    "        \"max_depth\": trial.suggest_int(\"max_depth\", 1, 10),\n",
    "        \"min_samples_leaf\": trial.suggest_int(\"min_samples_leaf\", 1, 20),\n",
    "        \"min_samples_split\": trial.suggest_int(\"min_samples_split\", 2, 20),\n",
    "        #\"subsample\": trial.suggest_float(\"subsample\", 0.1, 0.5)\n",
    "    }\n",
    "    \n",
    "    rf = RandomForestRegressor(**rf_paramas)\n",
    "    r2 = cross_val_score(rf, X_train, y_train, scoring = \"r2\", cv = kf)\n",
    "    r2 = r2.mean()\n",
    "    \n",
    "    return r2"
   ]
  },
  {
   "attachments": {},
   "cell_type": "markdown",
   "id": "b0988f46",
   "metadata": {},
   "source": [
    "####  Optimization"
   ]
  },
  {
   "cell_type": "code",
   "execution_count": 281,
   "id": "94f5e00d",
   "metadata": {
    "scrolled": false
   },
   "outputs": [
    {
     "name": "stderr",
     "output_type": "stream",
     "text": [
      "\u001b[32m[I 2023-08-27 23:02:43,751]\u001b[0m A new study created in memory with name: rf_parameter_opt\u001b[0m\n",
      "\u001b[32m[I 2023-08-27 23:02:44,963]\u001b[0m Trial 0 finished with value: 0.3405599374932361 and parameters: {'n_estimators': 76, 'max_depth': 4, 'min_samples_leaf': 20, 'min_samples_split': 12}. Best is trial 0 with value: 0.3405599374932361.\u001b[0m\n",
      "\u001b[32m[I 2023-08-27 23:02:45,308]\u001b[0m Trial 1 finished with value: 0.37857930652149585 and parameters: {'n_estimators': 16, 'max_depth': 5, 'min_samples_leaf': 2, 'min_samples_split': 18}. Best is trial 1 with value: 0.37857930652149585.\u001b[0m\n",
      "\u001b[32m[I 2023-08-27 23:02:46,799]\u001b[0m Trial 2 finished with value: 0.3545229347114067 and parameters: {'n_estimators': 93, 'max_depth': 4, 'min_samples_leaf': 12, 'min_samples_split': 3}. Best is trial 1 with value: 0.37857930652149585.\u001b[0m\n",
      "\u001b[32m[I 2023-08-27 23:02:47,376]\u001b[0m Trial 3 finished with value: 0.37232106013236177 and parameters: {'n_estimators': 32, 'max_depth': 5, 'min_samples_leaf': 14, 'min_samples_split': 9}. Best is trial 1 with value: 0.37857930652149585.\u001b[0m\n",
      "\u001b[32m[I 2023-08-27 23:02:48,948]\u001b[0m Trial 4 finished with value: 0.4169387902481107 and parameters: {'n_estimators': 64, 'max_depth': 8, 'min_samples_leaf': 8, 'min_samples_split': 9}. Best is trial 4 with value: 0.4169387902481107.\u001b[0m\n",
      "\u001b[32m[I 2023-08-27 23:02:49,209]\u001b[0m Trial 5 finished with value: 0.13245557945928044 and parameters: {'n_estimators': 28, 'max_depth': 1, 'min_samples_leaf': 12, 'min_samples_split': 2}. Best is trial 4 with value: 0.4169387902481107.\u001b[0m\n",
      "\u001b[32m[I 2023-08-27 23:02:49,454]\u001b[0m Trial 6 finished with value: 0.35683131267569906 and parameters: {'n_estimators': 13, 'max_depth': 4, 'min_samples_leaf': 4, 'min_samples_split': 3}. Best is trial 4 with value: 0.4169387902481107.\u001b[0m\n",
      "\u001b[32m[I 2023-08-27 23:02:49,951]\u001b[0m Trial 7 finished with value: 0.31606431926083134 and parameters: {'n_estimators': 30, 'max_depth': 3, 'min_samples_leaf': 3, 'min_samples_split': 6}. Best is trial 4 with value: 0.4169387902481107.\u001b[0m\n",
      "\u001b[32m[I 2023-08-27 23:02:51,322]\u001b[0m Trial 8 finished with value: 0.41934149198491905 and parameters: {'n_estimators': 55, 'max_depth': 10, 'min_samples_leaf': 4, 'min_samples_split': 19}. Best is trial 8 with value: 0.41934149198491905.\u001b[0m\n",
      "\u001b[32m[I 2023-08-27 23:02:51,491]\u001b[0m Trial 9 finished with value: 0.12467890826109643 and parameters: {'n_estimators': 18, 'max_depth': 1, 'min_samples_leaf': 17, 'min_samples_split': 2}. Best is trial 8 with value: 0.41934149198491905.\u001b[0m\n",
      "\u001b[32m[I 2023-08-27 23:02:52,648]\u001b[0m Trial 10 finished with value: 0.4171930059871599 and parameters: {'n_estimators': 50, 'max_depth': 10, 'min_samples_leaf': 7, 'min_samples_split': 19}. Best is trial 8 with value: 0.41934149198491905.\u001b[0m\n",
      "\u001b[32m[I 2023-08-27 23:02:53,749]\u001b[0m Trial 11 finished with value: 0.41330461238425187 and parameters: {'n_estimators': 50, 'max_depth': 10, 'min_samples_leaf': 8, 'min_samples_split': 20}. Best is trial 8 with value: 0.41934149198491905.\u001b[0m\n",
      "\u001b[32m[I 2023-08-27 23:02:54,919]\u001b[0m Trial 12 finished with value: 0.42351233028575164 and parameters: {'n_estimators': 51, 'max_depth': 10, 'min_samples_leaf': 6, 'min_samples_split': 16}. Best is trial 12 with value: 0.42351233028575164.\u001b[0m\n",
      "\u001b[32m[I 2023-08-27 23:02:56,458]\u001b[0m Trial 13 finished with value: 0.4209186097698785 and parameters: {'n_estimators': 67, 'max_depth': 8, 'min_samples_leaf': 5, 'min_samples_split': 15}. Best is trial 12 with value: 0.42351233028575164.\u001b[0m\n",
      "\u001b[32m[I 2023-08-27 23:02:58,075]\u001b[0m Trial 14 finished with value: 0.4190693746812201 and parameters: {'n_estimators': 71, 'max_depth': 8, 'min_samples_leaf': 6, 'min_samples_split': 15}. Best is trial 12 with value: 0.42351233028575164.\u001b[0m\n",
      "\u001b[32m[I 2023-08-27 23:02:59,808]\u001b[0m Trial 15 finished with value: 0.40558372187053154 and parameters: {'n_estimators': 86, 'max_depth': 8, 'min_samples_leaf': 10, 'min_samples_split': 15}. Best is trial 12 with value: 0.42351233028575164.\u001b[0m\n",
      "\u001b[32m[I 2023-08-27 23:03:00,822]\u001b[0m Trial 16 finished with value: 0.4082017417933427 and parameters: {'n_estimators': 42, 'max_depth': 7, 'min_samples_leaf': 1, 'min_samples_split': 15}. Best is trial 12 with value: 0.42351233028575164.\u001b[0m\n",
      "\u001b[32m[I 2023-08-27 23:03:02,402]\u001b[0m Trial 17 finished with value: 0.41831481076138466 and parameters: {'n_estimators': 69, 'max_depth': 7, 'min_samples_leaf': 5, 'min_samples_split': 13}. Best is trial 12 with value: 0.42351233028575164.\u001b[0m\n",
      "\u001b[32m[I 2023-08-27 23:03:04,054]\u001b[0m Trial 18 finished with value: 0.40631110916486535 and parameters: {'n_estimators': 82, 'max_depth': 9, 'min_samples_leaf': 10, 'min_samples_split': 10}. Best is trial 12 with value: 0.42351233028575164.\u001b[0m\n",
      "\u001b[32m[I 2023-08-27 23:03:05,027]\u001b[0m Trial 19 finished with value: 0.41366116464267977 and parameters: {'n_estimators': 45, 'max_depth': 7, 'min_samples_leaf': 6, 'min_samples_split': 17}. Best is trial 12 with value: 0.42351233028575164.\u001b[0m\n",
      "\u001b[32m[I 2023-08-27 23:03:06,743]\u001b[0m Trial 20 finished with value: 0.42089336491373563 and parameters: {'n_estimators': 61, 'max_depth': 9, 'min_samples_leaf': 1, 'min_samples_split': 16}. Best is trial 12 with value: 0.42351233028575164.\u001b[0m\n",
      "\u001b[32m[I 2023-08-27 23:03:08,358]\u001b[0m Trial 21 finished with value: 0.42089336491373563 and parameters: {'n_estimators': 61, 'max_depth': 9, 'min_samples_leaf': 1, 'min_samples_split': 16}. Best is trial 12 with value: 0.42351233028575164.\u001b[0m\n",
      "\u001b[32m[I 2023-08-27 23:03:09,868]\u001b[0m Trial 22 finished with value: 0.42862239926890744 and parameters: {'n_estimators': 59, 'max_depth': 9, 'min_samples_leaf': 3, 'min_samples_split': 13}. Best is trial 22 with value: 0.42862239926890744.\u001b[0m\n",
      "\u001b[32m[I 2023-08-27 23:03:10,837]\u001b[0m Trial 23 finished with value: 0.42045081504879667 and parameters: {'n_estimators': 39, 'max_depth': 9, 'min_samples_leaf': 4, 'min_samples_split': 13}. Best is trial 22 with value: 0.42862239926890744.\u001b[0m\n",
      "\u001b[32m[I 2023-08-27 23:03:11,961]\u001b[0m Trial 24 finished with value: 0.4063624586453184 and parameters: {'n_estimators': 57, 'max_depth': 6, 'min_samples_leaf': 8, 'min_samples_split': 13}. Best is trial 22 with value: 0.42862239926890744.\u001b[0m\n",
      "\u001b[32m[I 2023-08-27 23:03:13,878]\u001b[0m Trial 25 finished with value: 0.42672992103599183 and parameters: {'n_estimators': 76, 'max_depth': 10, 'min_samples_leaf': 3, 'min_samples_split': 14}. Best is trial 22 with value: 0.42862239926890744.\u001b[0m\n",
      "\u001b[32m[I 2023-08-27 23:03:16,611]\u001b[0m Trial 26 finished with value: 0.44271943251713275 and parameters: {'n_estimators': 96, 'max_depth': 10, 'min_samples_leaf': 3, 'min_samples_split': 7}. Best is trial 26 with value: 0.44271943251713275.\u001b[0m\n",
      "\u001b[32m[I 2023-08-27 23:03:19,593]\u001b[0m Trial 27 finished with value: 0.4402650549222248 and parameters: {'n_estimators': 98, 'max_depth': 10, 'min_samples_leaf': 2, 'min_samples_split': 7}. Best is trial 26 with value: 0.44271943251713275.\u001b[0m\n",
      "\u001b[32m[I 2023-08-27 23:03:22,490]\u001b[0m Trial 28 finished with value: 0.4410345069429427 and parameters: {'n_estimators': 100, 'max_depth': 9, 'min_samples_leaf': 3, 'min_samples_split': 6}. Best is trial 26 with value: 0.44271943251713275.\u001b[0m\n",
      "\u001b[32m[I 2023-08-27 23:03:24,344]\u001b[0m Trial 29 finished with value: 0.37245443667548495 and parameters: {'n_estimators': 100, 'max_depth': 6, 'min_samples_leaf': 19, 'min_samples_split': 6}. Best is trial 26 with value: 0.44271943251713275.\u001b[0m\n",
      "\u001b[32m[I 2023-08-27 23:03:27,492]\u001b[0m Trial 30 finished with value: 0.44067978534396124 and parameters: {'n_estimators': 99, 'max_depth': 10, 'min_samples_leaf': 2, 'min_samples_split': 6}. Best is trial 26 with value: 0.44271943251713275.\u001b[0m\n",
      "\u001b[32m[I 2023-08-27 23:03:30,478]\u001b[0m Trial 31 finished with value: 0.44090001692566405 and parameters: {'n_estimators': 98, 'max_depth': 10, 'min_samples_leaf': 2, 'min_samples_split': 6}. Best is trial 26 with value: 0.44271943251713275.\u001b[0m\n",
      "\u001b[32m[I 2023-08-27 23:03:33,128]\u001b[0m Trial 32 finished with value: 0.43865424362616545 and parameters: {'n_estimators': 91, 'max_depth': 9, 'min_samples_leaf': 2, 'min_samples_split': 7}. Best is trial 26 with value: 0.44271943251713275.\u001b[0m\n",
      "\u001b[32m[I 2023-08-27 23:03:36,116]\u001b[0m Trial 33 finished with value: 0.4429399003928177 and parameters: {'n_estimators': 93, 'max_depth': 10, 'min_samples_leaf': 2, 'min_samples_split': 5}. Best is trial 33 with value: 0.4429399003928177.\u001b[0m\n",
      "\u001b[32m[I 2023-08-27 23:03:38,648]\u001b[0m Trial 34 finished with value: 0.4402412591649673 and parameters: {'n_estimators': 91, 'max_depth': 9, 'min_samples_leaf': 3, 'min_samples_split': 4}. Best is trial 33 with value: 0.4429399003928177.\u001b[0m\n",
      "\u001b[32m[I 2023-08-27 23:03:40,652]\u001b[0m Trial 35 finished with value: 0.4294231752153806 and parameters: {'n_estimators': 84, 'max_depth': 8, 'min_samples_leaf': 5, 'min_samples_split': 5}. Best is trial 33 with value: 0.4429399003928177.\u001b[0m\n",
      "\u001b[32m[I 2023-08-27 23:03:42,388]\u001b[0m Trial 36 finished with value: 0.3857259095899086 and parameters: {'n_estimators': 94, 'max_depth': 10, 'min_samples_leaf': 15, 'min_samples_split': 8}. Best is trial 33 with value: 0.4429399003928177.\u001b[0m\n",
      "\u001b[32m[I 2023-08-27 23:03:43,526]\u001b[0m Trial 37 finished with value: 0.308319317999396 and parameters: {'n_estimators': 77, 'max_depth': 3, 'min_samples_leaf': 1, 'min_samples_split': 10}. Best is trial 33 with value: 0.4429399003928177.\u001b[0m\n",
      "\u001b[32m[I 2023-08-27 23:03:46,119]\u001b[0m Trial 38 finished with value: 0.4344340933098777 and parameters: {'n_estimators': 95, 'max_depth': 9, 'min_samples_leaf': 4, 'min_samples_split': 4}. Best is trial 33 with value: 0.4429399003928177.\u001b[0m\n",
      "\u001b[32m[I 2023-08-27 23:03:47,953]\u001b[0m Trial 39 finished with value: 0.41148420984772577 and parameters: {'n_estimators': 87, 'max_depth': 10, 'min_samples_leaf': 9, 'min_samples_split': 8}. Best is trial 33 with value: 0.4429399003928177.\u001b[0m\n",
      "\u001b[32m[I 2023-08-27 23:03:49,717]\u001b[0m Trial 40 finished with value: 0.4207075598984096 and parameters: {'n_estimators': 79, 'max_depth': 8, 'min_samples_leaf': 7, 'min_samples_split': 4}. Best is trial 33 with value: 0.4429399003928177.\u001b[0m\n",
      "\u001b[32m[I 2023-08-27 23:03:52,586]\u001b[0m Trial 41 finished with value: 0.44310900578752754 and parameters: {'n_estimators': 100, 'max_depth': 10, 'min_samples_leaf': 3, 'min_samples_split': 6}. Best is trial 41 with value: 0.44310900578752754.\u001b[0m\n",
      "\u001b[32m[I 2023-08-27 23:03:55,320]\u001b[0m Trial 42 finished with value: 0.4433909792084855 and parameters: {'n_estimators': 89, 'max_depth': 10, 'min_samples_leaf': 2, 'min_samples_split': 5}. Best is trial 42 with value: 0.4433909792084855.\u001b[0m\n",
      "\u001b[32m[I 2023-08-27 23:03:57,793]\u001b[0m Trial 43 finished with value: 0.44099070939275287 and parameters: {'n_estimators': 89, 'max_depth': 9, 'min_samples_leaf': 3, 'min_samples_split': 5}. Best is trial 42 with value: 0.4433909792084855.\u001b[0m\n",
      "\u001b[32m[I 2023-08-27 23:04:00,315]\u001b[0m Trial 44 finished with value: 0.43645409071530405 and parameters: {'n_estimators': 94, 'max_depth': 10, 'min_samples_leaf': 4, 'min_samples_split': 3}. Best is trial 42 with value: 0.4433909792084855.\u001b[0m\n",
      "\u001b[32m[I 2023-08-27 23:04:01,893]\u001b[0m Trial 45 finished with value: 0.39471472379554695 and parameters: {'n_estimators': 83, 'max_depth': 10, 'min_samples_leaf': 12, 'min_samples_split': 8}. Best is trial 42 with value: 0.4433909792084855.\u001b[0m\n",
      "\u001b[32m[I 2023-08-27 23:04:03,190]\u001b[0m Trial 46 finished with value: 0.313555937111274 and parameters: {'n_estimators': 95, 'max_depth': 3, 'min_samples_leaf': 5, 'min_samples_split': 5}. Best is trial 42 with value: 0.4433909792084855.\u001b[0m\n",
      "\u001b[32m[I 2023-08-27 23:04:06,149]\u001b[0m Trial 47 finished with value: 0.43814317560921606 and parameters: {'n_estimators': 89, 'max_depth': 9, 'min_samples_leaf': 1, 'min_samples_split': 2}. Best is trial 42 with value: 0.4433909792084855.\u001b[0m\n",
      "\u001b[32m[I 2023-08-27 23:04:08,177]\u001b[0m Trial 48 finished with value: 0.44105314077834673 and parameters: {'n_estimators': 73, 'max_depth': 10, 'min_samples_leaf': 3, 'min_samples_split': 7}. Best is trial 42 with value: 0.4433909792084855.\u001b[0m\n",
      "\u001b[32m[I 2023-08-27 23:04:10,050]\u001b[0m Trial 49 finished with value: 0.43371272912855546 and parameters: {'n_estimators': 72, 'max_depth': 10, 'min_samples_leaf': 4, 'min_samples_split': 9}. Best is trial 42 with value: 0.4433909792084855.\u001b[0m\n",
      "\u001b[32m[I 2023-08-27 23:04:11,870]\u001b[0m Trial 50 finished with value: 0.42606659160880495 and parameters: {'n_estimators': 80, 'max_depth': 8, 'min_samples_leaf': 6, 'min_samples_split': 7}. Best is trial 42 with value: 0.4433909792084855.\u001b[0m\n",
      "\u001b[32m[I 2023-08-27 23:04:14,583]\u001b[0m Trial 51 finished with value: 0.4438477745170998 and parameters: {'n_estimators': 96, 'max_depth': 10, 'min_samples_leaf': 3, 'min_samples_split': 5}. Best is trial 51 with value: 0.4438477745170998.\u001b[0m\n",
      "\u001b[32m[I 2023-08-27 23:04:17,266]\u001b[0m Trial 52 finished with value: 0.4452982505279682 and parameters: {'n_estimators': 86, 'max_depth': 10, 'min_samples_leaf': 2, 'min_samples_split': 3}. Best is trial 52 with value: 0.4452982505279682.\u001b[0m\n",
      "\u001b[32m[I 2023-08-27 23:04:19,970]\u001b[0m Trial 53 finished with value: 0.4453582706901775 and parameters: {'n_estimators': 87, 'max_depth': 10, 'min_samples_leaf': 2, 'min_samples_split': 3}. Best is trial 53 with value: 0.4453582706901775.\u001b[0m\n",
      "\u001b[32m[I 2023-08-27 23:04:22,660]\u001b[0m Trial 54 finished with value: 0.4452982505279682 and parameters: {'n_estimators': 86, 'max_depth': 10, 'min_samples_leaf': 2, 'min_samples_split': 3}. Best is trial 53 with value: 0.4453582706901775.\u001b[0m\n",
      "\u001b[32m[I 2023-08-27 23:04:25,177]\u001b[0m Trial 55 finished with value: 0.4408078998501569 and parameters: {'n_estimators': 85, 'max_depth': 9, 'min_samples_leaf': 2, 'min_samples_split': 3}. Best is trial 53 with value: 0.4453582706901775.\u001b[0m\n",
      "\u001b[32m[I 2023-08-27 23:04:28,330]\u001b[0m Trial 56 finished with value: 0.4455683110411933 and parameters: {'n_estimators': 88, 'max_depth': 10, 'min_samples_leaf': 1, 'min_samples_split': 2}. Best is trial 56 with value: 0.4455683110411933.\u001b[0m\n",
      "\u001b[32m[I 2023-08-27 23:04:29,793]\u001b[0m Trial 57 finished with value: 0.3585189917336364 and parameters: {'n_estimators': 87, 'max_depth': 4, 'min_samples_leaf': 1, 'min_samples_split': 2}. Best is trial 56 with value: 0.4455683110411933.\u001b[0m\n",
      "\u001b[32m[I 2023-08-27 23:04:32,162]\u001b[0m Trial 58 finished with value: 0.42785402414539464 and parameters: {'n_estimators': 80, 'max_depth': 8, 'min_samples_leaf': 1, 'min_samples_split': 3}. Best is trial 56 with value: 0.4455683110411933.\u001b[0m\n",
      "\u001b[32m[I 2023-08-27 23:04:32,918]\u001b[0m Trial 59 finished with value: 0.4353514126924951 and parameters: {'n_estimators': 25, 'max_depth': 9, 'min_samples_leaf': 2, 'min_samples_split': 2}. Best is trial 56 with value: 0.4455683110411933.\u001b[0m\n",
      "\u001b[32m[I 2023-08-27 23:04:33,635]\u001b[0m Trial 60 finished with value: 0.2515081006850617 and parameters: {'n_estimators': 67, 'max_depth': 2, 'min_samples_leaf': 4, 'min_samples_split': 3}. Best is trial 56 with value: 0.4455683110411933.\u001b[0m\n",
      "\u001b[32m[I 2023-08-27 23:04:36,432]\u001b[0m Trial 61 finished with value: 0.4448378025397788 and parameters: {'n_estimators': 90, 'max_depth': 10, 'min_samples_leaf': 2, 'min_samples_split': 4}. Best is trial 56 with value: 0.4455683110411933.\u001b[0m\n",
      "\u001b[32m[I 2023-08-27 23:04:39,396]\u001b[0m Trial 62 finished with value: 0.440926909792117 and parameters: {'n_estimators': 89, 'max_depth': 10, 'min_samples_leaf': 1, 'min_samples_split': 4}. Best is trial 56 with value: 0.4455683110411933.\u001b[0m\n",
      "\u001b[32m[I 2023-08-27 23:04:41,831]\u001b[0m Trial 63 finished with value: 0.4406119045893518 and parameters: {'n_estimators': 82, 'max_depth': 9, 'min_samples_leaf': 2, 'min_samples_split': 3}. Best is trial 56 with value: 0.4455683110411933.\u001b[0m\n",
      "\u001b[32m[I 2023-08-27 23:04:45,123]\u001b[0m Trial 64 finished with value: 0.4442032226989599 and parameters: {'n_estimators': 91, 'max_depth': 10, 'min_samples_leaf': 1, 'min_samples_split': 2}. Best is trial 56 with value: 0.4455683110411933.\u001b[0m\n",
      "\u001b[32m[I 2023-08-27 23:04:47,015]\u001b[0m Trial 65 finished with value: 0.39229480368628894 and parameters: {'n_estimators': 92, 'max_depth': 5, 'min_samples_leaf': 1, 'min_samples_split': 2}. Best is trial 56 with value: 0.4455683110411933.\u001b[0m\n",
      "\u001b[32m[I 2023-08-27 23:04:49,174]\u001b[0m Trial 66 finished with value: 0.43455963028023675 and parameters: {'n_estimators': 86, 'max_depth': 10, 'min_samples_leaf': 5, 'min_samples_split': 4}. Best is trial 56 with value: 0.4455683110411933.\u001b[0m\n",
      "\u001b[32m[I 2023-08-27 23:04:50,589]\u001b[0m Trial 67 finished with value: 0.38919082759660756 and parameters: {'n_estimators': 76, 'max_depth': 9, 'min_samples_leaf': 13, 'min_samples_split': 2}. Best is trial 56 with value: 0.4455683110411933.\u001b[0m\n",
      "\u001b[32m[I 2023-08-27 23:04:52,829]\u001b[0m Trial 68 finished with value: 0.43452132535300747 and parameters: {'n_estimators': 82, 'max_depth': 10, 'min_samples_leaf': 4, 'min_samples_split': 3}. Best is trial 56 with value: 0.4455683110411933.\u001b[0m\n",
      "\u001b[32m[I 2023-08-27 23:04:55,332]\u001b[0m Trial 69 finished with value: 0.43137112882625006 and parameters: {'n_estimators': 97, 'max_depth': 7, 'min_samples_leaf': 2, 'min_samples_split': 4}. Best is trial 56 with value: 0.4455683110411933.\u001b[0m\n",
      "\u001b[32m[I 2023-08-27 23:04:58,407]\u001b[0m Trial 70 finished with value: 0.43636660509339203 and parameters: {'n_estimators': 92, 'max_depth': 9, 'min_samples_leaf': 1, 'min_samples_split': 2}. Best is trial 56 with value: 0.4455683110411933.\u001b[0m\n",
      "\u001b[32m[I 2023-08-27 23:05:01,140]\u001b[0m Trial 71 finished with value: 0.4433909792084855 and parameters: {'n_estimators': 89, 'max_depth': 10, 'min_samples_leaf': 2, 'min_samples_split': 5}. Best is trial 56 with value: 0.4455683110411933.\u001b[0m\n",
      "\u001b[32m[I 2023-08-27 23:05:01,487]\u001b[0m Trial 72 finished with value: 0.417449960767531 and parameters: {'n_estimators': 10, 'max_depth': 10, 'min_samples_leaf': 3, 'min_samples_split': 3}. Best is trial 56 with value: 0.4455683110411933.\u001b[0m\n",
      "\u001b[32m[I 2023-08-27 23:05:04,332]\u001b[0m Trial 73 finished with value: 0.4448378025397788 and parameters: {'n_estimators': 90, 'max_depth': 10, 'min_samples_leaf': 2, 'min_samples_split': 4}. Best is trial 56 with value: 0.4455683110411933.\u001b[0m\n",
      "\u001b[32m[I 2023-08-27 23:05:07,236]\u001b[0m Trial 74 finished with value: 0.44033482011938696 and parameters: {'n_estimators': 86, 'max_depth': 10, 'min_samples_leaf': 1, 'min_samples_split': 4}. Best is trial 56 with value: 0.4455683110411933.\u001b[0m\n",
      "\u001b[32m[I 2023-08-27 23:05:10,126]\u001b[0m Trial 75 finished with value: 0.4439308919882272 and parameters: {'n_estimators': 97, 'max_depth': 10, 'min_samples_leaf': 3, 'min_samples_split': 3}. Best is trial 56 with value: 0.4455683110411933.\u001b[0m\n",
      "\u001b[32m[I 2023-08-27 23:05:11,519]\u001b[0m Trial 76 finished with value: 0.3803660023525056 and parameters: {'n_estimators': 78, 'max_depth': 9, 'min_samples_leaf': 16, 'min_samples_split': 2}. Best is trial 56 with value: 0.4455683110411933.\u001b[0m\n",
      "\u001b[32m[I 2023-08-27 23:05:14,024]\u001b[0m Trial 77 finished with value: 0.44380997658204857 and parameters: {'n_estimators': 75, 'max_depth': 10, 'min_samples_leaf': 2, 'min_samples_split': 3}. Best is trial 56 with value: 0.4455683110411933.\u001b[0m\n",
      "\u001b[32m[I 2023-08-27 23:05:15,636]\u001b[0m Trial 78 finished with value: 0.3749243657149627 and parameters: {'n_estimators': 92, 'max_depth': 9, 'min_samples_leaf': 19, 'min_samples_split': 4}. Best is trial 56 with value: 0.4455683110411933.\u001b[0m\n",
      "\u001b[32m[I 2023-08-27 23:05:18,163]\u001b[0m Trial 79 finished with value: 0.4433017806570831 and parameters: {'n_estimators': 84, 'max_depth': 10, 'min_samples_leaf': 3, 'min_samples_split': 2}. Best is trial 56 with value: 0.4455683110411933.\u001b[0m\n",
      "\u001b[32m[I 2023-08-27 23:05:20,992]\u001b[0m Trial 80 finished with value: 0.425038103627735 and parameters: {'n_estimators': 97, 'max_depth': 9, 'min_samples_leaf': 1, 'min_samples_split': 12}. Best is trial 56 with value: 0.4455683110411933.\u001b[0m\n",
      "\u001b[32m[I 2023-08-27 23:05:23,814]\u001b[0m Trial 81 finished with value: 0.4438477745170998 and parameters: {'n_estimators': 96, 'max_depth': 10, 'min_samples_leaf': 3, 'min_samples_split': 3}. Best is trial 56 with value: 0.4455683110411933.\u001b[0m\n",
      "\u001b[32m[I 2023-08-27 23:05:26,050]\u001b[0m Trial 82 finished with value: 0.4351166178896225 and parameters: {'n_estimators': 90, 'max_depth': 10, 'min_samples_leaf': 5, 'min_samples_split': 4}. Best is trial 56 with value: 0.4455683110411933.\u001b[0m\n",
      "\u001b[32m[I 2023-08-27 23:05:28,979]\u001b[0m Trial 83 finished with value: 0.44589696913250226 and parameters: {'n_estimators': 94, 'max_depth': 10, 'min_samples_leaf': 2, 'min_samples_split': 3}. Best is trial 83 with value: 0.44589696913250226.\u001b[0m\n",
      "\u001b[32m[I 2023-08-27 23:05:31,503]\u001b[0m Trial 84 finished with value: 0.44463456086248215 and parameters: {'n_estimators': 81, 'max_depth': 10, 'min_samples_leaf': 2, 'min_samples_split': 2}. Best is trial 83 with value: 0.44589696913250226.\u001b[0m\n",
      "\u001b[32m[I 2023-08-27 23:05:34,226]\u001b[0m Trial 85 finished with value: 0.4453582706901775 and parameters: {'n_estimators': 87, 'max_depth': 10, 'min_samples_leaf': 2, 'min_samples_split': 2}. Best is trial 83 with value: 0.44589696913250226.\u001b[0m\n",
      "\u001b[32m[I 2023-08-27 23:05:36,667]\u001b[0m Trial 86 finished with value: 0.4406119045893518 and parameters: {'n_estimators': 82, 'max_depth': 9, 'min_samples_leaf': 2, 'min_samples_split': 3}. Best is trial 83 with value: 0.44589696913250226.\u001b[0m\n",
      "\u001b[32m[I 2023-08-27 23:05:39,054]\u001b[0m Trial 87 finished with value: 0.43628526657761313 and parameters: {'n_estimators': 87, 'max_depth': 10, 'min_samples_leaf': 4, 'min_samples_split': 2}. Best is trial 83 with value: 0.44589696913250226.\u001b[0m\n",
      "\u001b[32m[I 2023-08-27 23:05:41,491]\u001b[0m Trial 88 finished with value: 0.43948728188179 and parameters: {'n_estimators': 80, 'max_depth': 9, 'min_samples_leaf': 2, 'min_samples_split': 4}. Best is trial 83 with value: 0.44589696913250226.\u001b[0m\n",
      "\u001b[32m[I 2023-08-27 23:05:43,724]\u001b[0m Trial 89 finished with value: 0.4353528833769592 and parameters: {'n_estimators': 84, 'max_depth': 10, 'min_samples_leaf': 4, 'min_samples_split': 3}. Best is trial 83 with value: 0.44589696913250226.\u001b[0m\n",
      "\u001b[32m[I 2023-08-27 23:05:46,681]\u001b[0m Trial 90 finished with value: 0.4451791333948568 and parameters: {'n_estimators': 93, 'max_depth': 10, 'min_samples_leaf': 2, 'min_samples_split': 2}. Best is trial 83 with value: 0.44589696913250226.\u001b[0m\n",
      "\u001b[32m[I 2023-08-27 23:05:49,637]\u001b[0m Trial 91 finished with value: 0.4451791333948568 and parameters: {'n_estimators': 93, 'max_depth': 10, 'min_samples_leaf': 2, 'min_samples_split': 2}. Best is trial 83 with value: 0.44589696913250226.\u001b[0m\n",
      "\u001b[32m[I 2023-08-27 23:05:53,224]\u001b[0m Trial 92 finished with value: 0.44472535747818726 and parameters: {'n_estimators': 94, 'max_depth': 10, 'min_samples_leaf': 1, 'min_samples_split': 2}. Best is trial 83 with value: 0.44589696913250226.\u001b[0m\n",
      "\u001b[32m[I 2023-08-27 23:05:56,329]\u001b[0m Trial 93 finished with value: 0.4451791333948568 and parameters: {'n_estimators': 93, 'max_depth': 10, 'min_samples_leaf': 2, 'min_samples_split': 3}. Best is trial 83 with value: 0.44589696913250226.\u001b[0m\n",
      "\u001b[32m[I 2023-08-27 23:05:58,891]\u001b[0m Trial 94 finished with value: 0.44355699462942033 and parameters: {'n_estimators': 87, 'max_depth': 10, 'min_samples_leaf': 3, 'min_samples_split': 3}. Best is trial 83 with value: 0.44589696913250226.\u001b[0m\n",
      "\u001b[32m[I 2023-08-27 23:06:02,060]\u001b[0m Trial 95 finished with value: 0.4368455221938601 and parameters: {'n_estimators': 93, 'max_depth': 9, 'min_samples_leaf': 1, 'min_samples_split': 2}. Best is trial 83 with value: 0.44589696913250226.\u001b[0m\n",
      "\u001b[32m[I 2023-08-27 23:06:05,332]\u001b[0m Trial 96 finished with value: 0.44546351054197525 and parameters: {'n_estimators': 100, 'max_depth': 10, 'min_samples_leaf': 2, 'min_samples_split': 3}. Best is trial 83 with value: 0.44589696913250226.\u001b[0m\n",
      "\u001b[32m[I 2023-08-27 23:06:06,131]\u001b[0m Trial 97 finished with value: 0.1340856026333058 and parameters: {'n_estimators': 99, 'max_depth': 1, 'min_samples_leaf': 3, 'min_samples_split': 3}. Best is trial 83 with value: 0.44589696913250226.\u001b[0m\n",
      "\u001b[32m[I 2023-08-27 23:06:07,204]\u001b[0m Trial 98 finished with value: 0.4039908764319473 and parameters: {'n_estimators': 53, 'max_depth': 10, 'min_samples_leaf': 11, 'min_samples_split': 20}. Best is trial 83 with value: 0.44589696913250226.\u001b[0m\n",
      "\u001b[32m[I 2023-08-27 23:06:09,698]\u001b[0m Trial 99 finished with value: 0.43415107211848925 and parameters: {'n_estimators': 94, 'max_depth': 9, 'min_samples_leaf': 4, 'min_samples_split': 2}. Best is trial 83 with value: 0.44589696913250226.\u001b[0m\n"
     ]
    },
    {
     "name": "stdout",
     "output_type": "stream",
     "text": [
      "Best r2:  0.44589696913250226\n",
      "Best trial: {'n_estimators': 94, 'max_depth': 10, 'min_samples_leaf': 2, 'min_samples_split': 3}\n"
     ]
    }
   ],
   "source": [
    "sampler = TPESampler()\n",
    "study = optuna.create_study(\n",
    "    study_name=\"rf_parameter_opt\",\n",
    "    direction=\"maximize\",\n",
    "    sampler=sampler,\n",
    ")\n",
    "\n",
    "study.optimize(lambda trial : objectiveRF(trial, As_X_train, As_y_train), n_trials=100)\n",
    "print(\"Best r2: \", study.best_value)\n",
    "print(\"Best trial:\", study.best_trial.params)"
   ]
  },
  {
   "cell_type": "code",
   "execution_count": 282,
   "id": "ded0e0f8",
   "metadata": {},
   "outputs": [
    {
     "data": {
      "application/vnd.plotly.v1+json": {
       "config": {
        "plotlyServerURL": "https://plot.ly"
       },
       "data": [
        {
         "dimensions": [
          {
           "label": "Objective Value",
           "range": [
            0.12467890826109643,
            0.44589696913250226
           ],
           "values": [
            0.3405599374932361,
            0.37857930652149585,
            0.3545229347114067,
            0.37232106013236177,
            0.4169387902481107,
            0.13245557945928044,
            0.35683131267569906,
            0.31606431926083134,
            0.41934149198491905,
            0.12467890826109643,
            0.4171930059871599,
            0.41330461238425187,
            0.42351233028575164,
            0.4209186097698785,
            0.4190693746812201,
            0.40558372187053154,
            0.4082017417933427,
            0.41831481076138466,
            0.40631110916486535,
            0.41366116464267977,
            0.42089336491373563,
            0.42089336491373563,
            0.42862239926890744,
            0.42045081504879667,
            0.4063624586453184,
            0.42672992103599183,
            0.44271943251713275,
            0.4402650549222248,
            0.4410345069429427,
            0.37245443667548495,
            0.44067978534396124,
            0.44090001692566405,
            0.43865424362616545,
            0.4429399003928177,
            0.4402412591649673,
            0.4294231752153806,
            0.3857259095899086,
            0.308319317999396,
            0.4344340933098777,
            0.41148420984772577,
            0.4207075598984096,
            0.44310900578752754,
            0.4433909792084855,
            0.44099070939275287,
            0.43645409071530405,
            0.39471472379554695,
            0.313555937111274,
            0.43814317560921606,
            0.44105314077834673,
            0.43371272912855546,
            0.42606659160880495,
            0.4438477745170998,
            0.4452982505279682,
            0.4453582706901775,
            0.4452982505279682,
            0.4408078998501569,
            0.4455683110411933,
            0.3585189917336364,
            0.42785402414539464,
            0.4353514126924951,
            0.2515081006850617,
            0.4448378025397788,
            0.440926909792117,
            0.4406119045893518,
            0.4442032226989599,
            0.39229480368628894,
            0.43455963028023675,
            0.38919082759660756,
            0.43452132535300747,
            0.43137112882625006,
            0.43636660509339203,
            0.4433909792084855,
            0.417449960767531,
            0.4448378025397788,
            0.44033482011938696,
            0.4439308919882272,
            0.3803660023525056,
            0.44380997658204857,
            0.3749243657149627,
            0.4433017806570831,
            0.425038103627735,
            0.4438477745170998,
            0.4351166178896225,
            0.44589696913250226,
            0.44463456086248215,
            0.4453582706901775,
            0.4406119045893518,
            0.43628526657761313,
            0.43948728188179,
            0.4353528833769592,
            0.4451791333948568,
            0.4451791333948568,
            0.44472535747818726,
            0.4451791333948568,
            0.44355699462942033,
            0.4368455221938601,
            0.44546351054197525,
            0.1340856026333058,
            0.4039908764319473,
            0.43415107211848925
           ]
          },
          {
           "label": "max_depth",
           "range": [
            1,
            10
           ],
           "values": [
            4,
            5,
            4,
            5,
            8,
            1,
            4,
            3,
            10,
            1,
            10,
            10,
            10,
            8,
            8,
            8,
            7,
            7,
            9,
            7,
            9,
            9,
            9,
            9,
            6,
            10,
            10,
            10,
            9,
            6,
            10,
            10,
            9,
            10,
            9,
            8,
            10,
            3,
            9,
            10,
            8,
            10,
            10,
            9,
            10,
            10,
            3,
            9,
            10,
            10,
            8,
            10,
            10,
            10,
            10,
            9,
            10,
            4,
            8,
            9,
            2,
            10,
            10,
            9,
            10,
            5,
            10,
            9,
            10,
            7,
            9,
            10,
            10,
            10,
            10,
            10,
            9,
            10,
            9,
            10,
            9,
            10,
            10,
            10,
            10,
            10,
            9,
            10,
            9,
            10,
            10,
            10,
            10,
            10,
            10,
            9,
            10,
            1,
            10,
            9
           ]
          },
          {
           "label": "min_samples_leaf",
           "range": [
            1,
            20
           ],
           "values": [
            20,
            2,
            12,
            14,
            8,
            12,
            4,
            3,
            4,
            17,
            7,
            8,
            6,
            5,
            6,
            10,
            1,
            5,
            10,
            6,
            1,
            1,
            3,
            4,
            8,
            3,
            3,
            2,
            3,
            19,
            2,
            2,
            2,
            2,
            3,
            5,
            15,
            1,
            4,
            9,
            7,
            3,
            2,
            3,
            4,
            12,
            5,
            1,
            3,
            4,
            6,
            3,
            2,
            2,
            2,
            2,
            1,
            1,
            1,
            2,
            4,
            2,
            1,
            2,
            1,
            1,
            5,
            13,
            4,
            2,
            1,
            2,
            3,
            2,
            1,
            3,
            16,
            2,
            19,
            3,
            1,
            3,
            5,
            2,
            2,
            2,
            2,
            4,
            2,
            4,
            2,
            2,
            1,
            2,
            3,
            1,
            2,
            3,
            11,
            4
           ]
          },
          {
           "label": "min_samples_split",
           "range": [
            2,
            20
           ],
           "values": [
            12,
            18,
            3,
            9,
            9,
            2,
            3,
            6,
            19,
            2,
            19,
            20,
            16,
            15,
            15,
            15,
            15,
            13,
            10,
            17,
            16,
            16,
            13,
            13,
            13,
            14,
            7,
            7,
            6,
            6,
            6,
            6,
            7,
            5,
            4,
            5,
            8,
            10,
            4,
            8,
            4,
            6,
            5,
            5,
            3,
            8,
            5,
            2,
            7,
            9,
            7,
            5,
            3,
            3,
            3,
            3,
            2,
            2,
            3,
            2,
            3,
            4,
            4,
            3,
            2,
            2,
            4,
            2,
            3,
            4,
            2,
            5,
            3,
            4,
            4,
            3,
            2,
            3,
            4,
            2,
            12,
            3,
            4,
            3,
            2,
            2,
            3,
            2,
            4,
            3,
            2,
            2,
            2,
            3,
            3,
            2,
            3,
            3,
            20,
            2
           ]
          },
          {
           "label": "n_estimators",
           "range": [
            10,
            100
           ],
           "values": [
            76,
            16,
            93,
            32,
            64,
            28,
            13,
            30,
            55,
            18,
            50,
            50,
            51,
            67,
            71,
            86,
            42,
            69,
            82,
            45,
            61,
            61,
            59,
            39,
            57,
            76,
            96,
            98,
            100,
            100,
            99,
            98,
            91,
            93,
            91,
            84,
            94,
            77,
            95,
            87,
            79,
            100,
            89,
            89,
            94,
            83,
            95,
            89,
            73,
            72,
            80,
            96,
            86,
            87,
            86,
            85,
            88,
            87,
            80,
            25,
            67,
            90,
            89,
            82,
            91,
            92,
            86,
            76,
            82,
            97,
            92,
            89,
            10,
            90,
            86,
            97,
            78,
            75,
            92,
            84,
            97,
            96,
            90,
            94,
            81,
            87,
            82,
            87,
            80,
            84,
            93,
            93,
            94,
            93,
            87,
            93,
            100,
            99,
            53,
            94
           ]
          }
         ],
         "labelangle": 30,
         "labelside": "bottom",
         "line": {
          "color": [
           0.3405599374932361,
           0.37857930652149585,
           0.3545229347114067,
           0.37232106013236177,
           0.4169387902481107,
           0.13245557945928044,
           0.35683131267569906,
           0.31606431926083134,
           0.41934149198491905,
           0.12467890826109643,
           0.4171930059871599,
           0.41330461238425187,
           0.42351233028575164,
           0.4209186097698785,
           0.4190693746812201,
           0.40558372187053154,
           0.4082017417933427,
           0.41831481076138466,
           0.40631110916486535,
           0.41366116464267977,
           0.42089336491373563,
           0.42089336491373563,
           0.42862239926890744,
           0.42045081504879667,
           0.4063624586453184,
           0.42672992103599183,
           0.44271943251713275,
           0.4402650549222248,
           0.4410345069429427,
           0.37245443667548495,
           0.44067978534396124,
           0.44090001692566405,
           0.43865424362616545,
           0.4429399003928177,
           0.4402412591649673,
           0.4294231752153806,
           0.3857259095899086,
           0.308319317999396,
           0.4344340933098777,
           0.41148420984772577,
           0.4207075598984096,
           0.44310900578752754,
           0.4433909792084855,
           0.44099070939275287,
           0.43645409071530405,
           0.39471472379554695,
           0.313555937111274,
           0.43814317560921606,
           0.44105314077834673,
           0.43371272912855546,
           0.42606659160880495,
           0.4438477745170998,
           0.4452982505279682,
           0.4453582706901775,
           0.4452982505279682,
           0.4408078998501569,
           0.4455683110411933,
           0.3585189917336364,
           0.42785402414539464,
           0.4353514126924951,
           0.2515081006850617,
           0.4448378025397788,
           0.440926909792117,
           0.4406119045893518,
           0.4442032226989599,
           0.39229480368628894,
           0.43455963028023675,
           0.38919082759660756,
           0.43452132535300747,
           0.43137112882625006,
           0.43636660509339203,
           0.4433909792084855,
           0.417449960767531,
           0.4448378025397788,
           0.44033482011938696,
           0.4439308919882272,
           0.3803660023525056,
           0.44380997658204857,
           0.3749243657149627,
           0.4433017806570831,
           0.425038103627735,
           0.4438477745170998,
           0.4351166178896225,
           0.44589696913250226,
           0.44463456086248215,
           0.4453582706901775,
           0.4406119045893518,
           0.43628526657761313,
           0.43948728188179,
           0.4353528833769592,
           0.4451791333948568,
           0.4451791333948568,
           0.44472535747818726,
           0.4451791333948568,
           0.44355699462942033,
           0.4368455221938601,
           0.44546351054197525,
           0.1340856026333058,
           0.4039908764319473,
           0.43415107211848925
          ],
          "colorbar": {
           "title": {
            "text": "Objective Value"
           }
          },
          "colorscale": [
           [
            0,
            "rgb(247,251,255)"
           ],
           [
            0.125,
            "rgb(222,235,247)"
           ],
           [
            0.25,
            "rgb(198,219,239)"
           ],
           [
            0.375,
            "rgb(158,202,225)"
           ],
           [
            0.5,
            "rgb(107,174,214)"
           ],
           [
            0.625,
            "rgb(66,146,198)"
           ],
           [
            0.75,
            "rgb(33,113,181)"
           ],
           [
            0.875,
            "rgb(8,81,156)"
           ],
           [
            1,
            "rgb(8,48,107)"
           ]
          ],
          "reversescale": false,
          "showscale": true
         },
         "type": "parcoords"
        }
       ],
       "layout": {
        "template": {
         "data": {
          "bar": [
           {
            "error_x": {
             "color": "#2a3f5f"
            },
            "error_y": {
             "color": "#2a3f5f"
            },
            "marker": {
             "line": {
              "color": "#E5ECF6",
              "width": 0.5
             },
             "pattern": {
              "fillmode": "overlay",
              "size": 10,
              "solidity": 0.2
             }
            },
            "type": "bar"
           }
          ],
          "barpolar": [
           {
            "marker": {
             "line": {
              "color": "#E5ECF6",
              "width": 0.5
             },
             "pattern": {
              "fillmode": "overlay",
              "size": 10,
              "solidity": 0.2
             }
            },
            "type": "barpolar"
           }
          ],
          "carpet": [
           {
            "aaxis": {
             "endlinecolor": "#2a3f5f",
             "gridcolor": "white",
             "linecolor": "white",
             "minorgridcolor": "white",
             "startlinecolor": "#2a3f5f"
            },
            "baxis": {
             "endlinecolor": "#2a3f5f",
             "gridcolor": "white",
             "linecolor": "white",
             "minorgridcolor": "white",
             "startlinecolor": "#2a3f5f"
            },
            "type": "carpet"
           }
          ],
          "choropleth": [
           {
            "colorbar": {
             "outlinewidth": 0,
             "ticks": ""
            },
            "type": "choropleth"
           }
          ],
          "contour": [
           {
            "colorbar": {
             "outlinewidth": 0,
             "ticks": ""
            },
            "colorscale": [
             [
              0,
              "#0d0887"
             ],
             [
              0.1111111111111111,
              "#46039f"
             ],
             [
              0.2222222222222222,
              "#7201a8"
             ],
             [
              0.3333333333333333,
              "#9c179e"
             ],
             [
              0.4444444444444444,
              "#bd3786"
             ],
             [
              0.5555555555555556,
              "#d8576b"
             ],
             [
              0.6666666666666666,
              "#ed7953"
             ],
             [
              0.7777777777777778,
              "#fb9f3a"
             ],
             [
              0.8888888888888888,
              "#fdca26"
             ],
             [
              1,
              "#f0f921"
             ]
            ],
            "type": "contour"
           }
          ],
          "contourcarpet": [
           {
            "colorbar": {
             "outlinewidth": 0,
             "ticks": ""
            },
            "type": "contourcarpet"
           }
          ],
          "heatmap": [
           {
            "colorbar": {
             "outlinewidth": 0,
             "ticks": ""
            },
            "colorscale": [
             [
              0,
              "#0d0887"
             ],
             [
              0.1111111111111111,
              "#46039f"
             ],
             [
              0.2222222222222222,
              "#7201a8"
             ],
             [
              0.3333333333333333,
              "#9c179e"
             ],
             [
              0.4444444444444444,
              "#bd3786"
             ],
             [
              0.5555555555555556,
              "#d8576b"
             ],
             [
              0.6666666666666666,
              "#ed7953"
             ],
             [
              0.7777777777777778,
              "#fb9f3a"
             ],
             [
              0.8888888888888888,
              "#fdca26"
             ],
             [
              1,
              "#f0f921"
             ]
            ],
            "type": "heatmap"
           }
          ],
          "heatmapgl": [
           {
            "colorbar": {
             "outlinewidth": 0,
             "ticks": ""
            },
            "colorscale": [
             [
              0,
              "#0d0887"
             ],
             [
              0.1111111111111111,
              "#46039f"
             ],
             [
              0.2222222222222222,
              "#7201a8"
             ],
             [
              0.3333333333333333,
              "#9c179e"
             ],
             [
              0.4444444444444444,
              "#bd3786"
             ],
             [
              0.5555555555555556,
              "#d8576b"
             ],
             [
              0.6666666666666666,
              "#ed7953"
             ],
             [
              0.7777777777777778,
              "#fb9f3a"
             ],
             [
              0.8888888888888888,
              "#fdca26"
             ],
             [
              1,
              "#f0f921"
             ]
            ],
            "type": "heatmapgl"
           }
          ],
          "histogram": [
           {
            "marker": {
             "pattern": {
              "fillmode": "overlay",
              "size": 10,
              "solidity": 0.2
             }
            },
            "type": "histogram"
           }
          ],
          "histogram2d": [
           {
            "colorbar": {
             "outlinewidth": 0,
             "ticks": ""
            },
            "colorscale": [
             [
              0,
              "#0d0887"
             ],
             [
              0.1111111111111111,
              "#46039f"
             ],
             [
              0.2222222222222222,
              "#7201a8"
             ],
             [
              0.3333333333333333,
              "#9c179e"
             ],
             [
              0.4444444444444444,
              "#bd3786"
             ],
             [
              0.5555555555555556,
              "#d8576b"
             ],
             [
              0.6666666666666666,
              "#ed7953"
             ],
             [
              0.7777777777777778,
              "#fb9f3a"
             ],
             [
              0.8888888888888888,
              "#fdca26"
             ],
             [
              1,
              "#f0f921"
             ]
            ],
            "type": "histogram2d"
           }
          ],
          "histogram2dcontour": [
           {
            "colorbar": {
             "outlinewidth": 0,
             "ticks": ""
            },
            "colorscale": [
             [
              0,
              "#0d0887"
             ],
             [
              0.1111111111111111,
              "#46039f"
             ],
             [
              0.2222222222222222,
              "#7201a8"
             ],
             [
              0.3333333333333333,
              "#9c179e"
             ],
             [
              0.4444444444444444,
              "#bd3786"
             ],
             [
              0.5555555555555556,
              "#d8576b"
             ],
             [
              0.6666666666666666,
              "#ed7953"
             ],
             [
              0.7777777777777778,
              "#fb9f3a"
             ],
             [
              0.8888888888888888,
              "#fdca26"
             ],
             [
              1,
              "#f0f921"
             ]
            ],
            "type": "histogram2dcontour"
           }
          ],
          "mesh3d": [
           {
            "colorbar": {
             "outlinewidth": 0,
             "ticks": ""
            },
            "type": "mesh3d"
           }
          ],
          "parcoords": [
           {
            "line": {
             "colorbar": {
              "outlinewidth": 0,
              "ticks": ""
             }
            },
            "type": "parcoords"
           }
          ],
          "pie": [
           {
            "automargin": true,
            "type": "pie"
           }
          ],
          "scatter": [
           {
            "marker": {
             "colorbar": {
              "outlinewidth": 0,
              "ticks": ""
             }
            },
            "type": "scatter"
           }
          ],
          "scatter3d": [
           {
            "line": {
             "colorbar": {
              "outlinewidth": 0,
              "ticks": ""
             }
            },
            "marker": {
             "colorbar": {
              "outlinewidth": 0,
              "ticks": ""
             }
            },
            "type": "scatter3d"
           }
          ],
          "scattercarpet": [
           {
            "marker": {
             "colorbar": {
              "outlinewidth": 0,
              "ticks": ""
             }
            },
            "type": "scattercarpet"
           }
          ],
          "scattergeo": [
           {
            "marker": {
             "colorbar": {
              "outlinewidth": 0,
              "ticks": ""
             }
            },
            "type": "scattergeo"
           }
          ],
          "scattergl": [
           {
            "marker": {
             "colorbar": {
              "outlinewidth": 0,
              "ticks": ""
             }
            },
            "type": "scattergl"
           }
          ],
          "scattermapbox": [
           {
            "marker": {
             "colorbar": {
              "outlinewidth": 0,
              "ticks": ""
             }
            },
            "type": "scattermapbox"
           }
          ],
          "scatterpolar": [
           {
            "marker": {
             "colorbar": {
              "outlinewidth": 0,
              "ticks": ""
             }
            },
            "type": "scatterpolar"
           }
          ],
          "scatterpolargl": [
           {
            "marker": {
             "colorbar": {
              "outlinewidth": 0,
              "ticks": ""
             }
            },
            "type": "scatterpolargl"
           }
          ],
          "scatterternary": [
           {
            "marker": {
             "colorbar": {
              "outlinewidth": 0,
              "ticks": ""
             }
            },
            "type": "scatterternary"
           }
          ],
          "surface": [
           {
            "colorbar": {
             "outlinewidth": 0,
             "ticks": ""
            },
            "colorscale": [
             [
              0,
              "#0d0887"
             ],
             [
              0.1111111111111111,
              "#46039f"
             ],
             [
              0.2222222222222222,
              "#7201a8"
             ],
             [
              0.3333333333333333,
              "#9c179e"
             ],
             [
              0.4444444444444444,
              "#bd3786"
             ],
             [
              0.5555555555555556,
              "#d8576b"
             ],
             [
              0.6666666666666666,
              "#ed7953"
             ],
             [
              0.7777777777777778,
              "#fb9f3a"
             ],
             [
              0.8888888888888888,
              "#fdca26"
             ],
             [
              1,
              "#f0f921"
             ]
            ],
            "type": "surface"
           }
          ],
          "table": [
           {
            "cells": {
             "fill": {
              "color": "#EBF0F8"
             },
             "line": {
              "color": "white"
             }
            },
            "header": {
             "fill": {
              "color": "#C8D4E3"
             },
             "line": {
              "color": "white"
             }
            },
            "type": "table"
           }
          ]
         },
         "layout": {
          "annotationdefaults": {
           "arrowcolor": "#2a3f5f",
           "arrowhead": 0,
           "arrowwidth": 1
          },
          "autotypenumbers": "strict",
          "coloraxis": {
           "colorbar": {
            "outlinewidth": 0,
            "ticks": ""
           }
          },
          "colorscale": {
           "diverging": [
            [
             0,
             "#8e0152"
            ],
            [
             0.1,
             "#c51b7d"
            ],
            [
             0.2,
             "#de77ae"
            ],
            [
             0.3,
             "#f1b6da"
            ],
            [
             0.4,
             "#fde0ef"
            ],
            [
             0.5,
             "#f7f7f7"
            ],
            [
             0.6,
             "#e6f5d0"
            ],
            [
             0.7,
             "#b8e186"
            ],
            [
             0.8,
             "#7fbc41"
            ],
            [
             0.9,
             "#4d9221"
            ],
            [
             1,
             "#276419"
            ]
           ],
           "sequential": [
            [
             0,
             "#0d0887"
            ],
            [
             0.1111111111111111,
             "#46039f"
            ],
            [
             0.2222222222222222,
             "#7201a8"
            ],
            [
             0.3333333333333333,
             "#9c179e"
            ],
            [
             0.4444444444444444,
             "#bd3786"
            ],
            [
             0.5555555555555556,
             "#d8576b"
            ],
            [
             0.6666666666666666,
             "#ed7953"
            ],
            [
             0.7777777777777778,
             "#fb9f3a"
            ],
            [
             0.8888888888888888,
             "#fdca26"
            ],
            [
             1,
             "#f0f921"
            ]
           ],
           "sequentialminus": [
            [
             0,
             "#0d0887"
            ],
            [
             0.1111111111111111,
             "#46039f"
            ],
            [
             0.2222222222222222,
             "#7201a8"
            ],
            [
             0.3333333333333333,
             "#9c179e"
            ],
            [
             0.4444444444444444,
             "#bd3786"
            ],
            [
             0.5555555555555556,
             "#d8576b"
            ],
            [
             0.6666666666666666,
             "#ed7953"
            ],
            [
             0.7777777777777778,
             "#fb9f3a"
            ],
            [
             0.8888888888888888,
             "#fdca26"
            ],
            [
             1,
             "#f0f921"
            ]
           ]
          },
          "colorway": [
           "#636efa",
           "#EF553B",
           "#00cc96",
           "#ab63fa",
           "#FFA15A",
           "#19d3f3",
           "#FF6692",
           "#B6E880",
           "#FF97FF",
           "#FECB52"
          ],
          "font": {
           "color": "#2a3f5f"
          },
          "geo": {
           "bgcolor": "white",
           "lakecolor": "white",
           "landcolor": "#E5ECF6",
           "showlakes": true,
           "showland": true,
           "subunitcolor": "white"
          },
          "hoverlabel": {
           "align": "left"
          },
          "hovermode": "closest",
          "mapbox": {
           "style": "light"
          },
          "paper_bgcolor": "white",
          "plot_bgcolor": "#E5ECF6",
          "polar": {
           "angularaxis": {
            "gridcolor": "white",
            "linecolor": "white",
            "ticks": ""
           },
           "bgcolor": "#E5ECF6",
           "radialaxis": {
            "gridcolor": "white",
            "linecolor": "white",
            "ticks": ""
           }
          },
          "scene": {
           "xaxis": {
            "backgroundcolor": "#E5ECF6",
            "gridcolor": "white",
            "gridwidth": 2,
            "linecolor": "white",
            "showbackground": true,
            "ticks": "",
            "zerolinecolor": "white"
           },
           "yaxis": {
            "backgroundcolor": "#E5ECF6",
            "gridcolor": "white",
            "gridwidth": 2,
            "linecolor": "white",
            "showbackground": true,
            "ticks": "",
            "zerolinecolor": "white"
           },
           "zaxis": {
            "backgroundcolor": "#E5ECF6",
            "gridcolor": "white",
            "gridwidth": 2,
            "linecolor": "white",
            "showbackground": true,
            "ticks": "",
            "zerolinecolor": "white"
           }
          },
          "shapedefaults": {
           "line": {
            "color": "#2a3f5f"
           }
          },
          "ternary": {
           "aaxis": {
            "gridcolor": "white",
            "linecolor": "white",
            "ticks": ""
           },
           "baxis": {
            "gridcolor": "white",
            "linecolor": "white",
            "ticks": ""
           },
           "bgcolor": "#E5ECF6",
           "caxis": {
            "gridcolor": "white",
            "linecolor": "white",
            "ticks": ""
           }
          },
          "title": {
           "x": 0.05
          },
          "xaxis": {
           "automargin": true,
           "gridcolor": "white",
           "linecolor": "white",
           "ticks": "",
           "title": {
            "standoff": 15
           },
           "zerolinecolor": "white",
           "zerolinewidth": 2
          },
          "yaxis": {
           "automargin": true,
           "gridcolor": "white",
           "linecolor": "white",
           "ticks": "",
           "title": {
            "standoff": 15
           },
           "zerolinecolor": "white",
           "zerolinewidth": 2
          }
         }
        },
        "title": {
         "text": "Parallel Coordinate Plot"
        }
       }
      }
     },
     "metadata": {},
     "output_type": "display_data"
    }
   ],
   "source": [
    "optuna.visualization.plot_parallel_coordinate(study)"
   ]
  },
  {
   "cell_type": "code",
   "execution_count": 283,
   "id": "75db1ddf",
   "metadata": {},
   "outputs": [
    {
     "name": "stdout",
     "output_type": "stream",
     "text": [
      "Best trial: {'n_estimators': 94, 'max_depth': 10, 'min_samples_leaf': 2, 'min_samples_split': 3}\n"
     ]
    }
   ],
   "source": [
    "print(\"Best trial:\", study.best_trial.params)"
   ]
  },
  {
   "cell_type": "code",
   "execution_count": 284,
   "id": "574699dc",
   "metadata": {},
   "outputs": [
    {
     "data": {
      "text/plain": [
       "94"
      ]
     },
     "execution_count": 284,
     "metadata": {},
     "output_type": "execute_result"
    }
   ],
   "source": [
    "study.best_trial.params[\"n_estimators\"]"
   ]
  },
  {
   "cell_type": "code",
   "execution_count": 285,
   "id": "862eadd2",
   "metadata": {},
   "outputs": [
    {
     "data": {
      "text/html": [
       "<style>#sk-container-id-16 {color: black;}#sk-container-id-16 pre{padding: 0;}#sk-container-id-16 div.sk-toggleable {background-color: white;}#sk-container-id-16 label.sk-toggleable__label {cursor: pointer;display: block;width: 100%;margin-bottom: 0;padding: 0.3em;box-sizing: border-box;text-align: center;}#sk-container-id-16 label.sk-toggleable__label-arrow:before {content: \"▸\";float: left;margin-right: 0.25em;color: #696969;}#sk-container-id-16 label.sk-toggleable__label-arrow:hover:before {color: black;}#sk-container-id-16 div.sk-estimator:hover label.sk-toggleable__label-arrow:before {color: black;}#sk-container-id-16 div.sk-toggleable__content {max-height: 0;max-width: 0;overflow: hidden;text-align: left;background-color: #f0f8ff;}#sk-container-id-16 div.sk-toggleable__content pre {margin: 0.2em;color: black;border-radius: 0.25em;background-color: #f0f8ff;}#sk-container-id-16 input.sk-toggleable__control:checked~div.sk-toggleable__content {max-height: 200px;max-width: 100%;overflow: auto;}#sk-container-id-16 input.sk-toggleable__control:checked~label.sk-toggleable__label-arrow:before {content: \"▾\";}#sk-container-id-16 div.sk-estimator input.sk-toggleable__control:checked~label.sk-toggleable__label {background-color: #d4ebff;}#sk-container-id-16 div.sk-label input.sk-toggleable__control:checked~label.sk-toggleable__label {background-color: #d4ebff;}#sk-container-id-16 input.sk-hidden--visually {border: 0;clip: rect(1px 1px 1px 1px);clip: rect(1px, 1px, 1px, 1px);height: 1px;margin: -1px;overflow: hidden;padding: 0;position: absolute;width: 1px;}#sk-container-id-16 div.sk-estimator {font-family: monospace;background-color: #f0f8ff;border: 1px dotted black;border-radius: 0.25em;box-sizing: border-box;margin-bottom: 0.5em;}#sk-container-id-16 div.sk-estimator:hover {background-color: #d4ebff;}#sk-container-id-16 div.sk-parallel-item::after {content: \"\";width: 100%;border-bottom: 1px solid gray;flex-grow: 1;}#sk-container-id-16 div.sk-label:hover label.sk-toggleable__label {background-color: #d4ebff;}#sk-container-id-16 div.sk-serial::before {content: \"\";position: absolute;border-left: 1px solid gray;box-sizing: border-box;top: 0;bottom: 0;left: 50%;z-index: 0;}#sk-container-id-16 div.sk-serial {display: flex;flex-direction: column;align-items: center;background-color: white;padding-right: 0.2em;padding-left: 0.2em;position: relative;}#sk-container-id-16 div.sk-item {position: relative;z-index: 1;}#sk-container-id-16 div.sk-parallel {display: flex;align-items: stretch;justify-content: center;background-color: white;position: relative;}#sk-container-id-16 div.sk-item::before, #sk-container-id-16 div.sk-parallel-item::before {content: \"\";position: absolute;border-left: 1px solid gray;box-sizing: border-box;top: 0;bottom: 0;left: 50%;z-index: -1;}#sk-container-id-16 div.sk-parallel-item {display: flex;flex-direction: column;z-index: 1;position: relative;background-color: white;}#sk-container-id-16 div.sk-parallel-item:first-child::after {align-self: flex-end;width: 50%;}#sk-container-id-16 div.sk-parallel-item:last-child::after {align-self: flex-start;width: 50%;}#sk-container-id-16 div.sk-parallel-item:only-child::after {width: 0;}#sk-container-id-16 div.sk-dashed-wrapped {border: 1px dashed gray;margin: 0 0.4em 0.5em 0.4em;box-sizing: border-box;padding-bottom: 0.4em;background-color: white;}#sk-container-id-16 div.sk-label label {font-family: monospace;font-weight: bold;display: inline-block;line-height: 1.2em;}#sk-container-id-16 div.sk-label-container {text-align: center;}#sk-container-id-16 div.sk-container {/* jupyter's `normalize.less` sets `[hidden] { display: none; }` but bootstrap.min.css set `[hidden] { display: none !important; }` so we also need the `!important` here to be able to override the default hidden behavior on the sphinx rendered scikit-learn.org. See: https://github.com/scikit-learn/scikit-learn/issues/21755 */display: inline-block !important;position: relative;}#sk-container-id-16 div.sk-text-repr-fallback {display: none;}</style><div id=\"sk-container-id-16\" class=\"sk-top-container\"><div class=\"sk-text-repr-fallback\"><pre>RandomForestRegressor(max_depth=10, min_samples_leaf=2, min_samples_split=3,\n",
       "                      n_estimators=94, random_state=42)</pre><b>In a Jupyter environment, please rerun this cell to show the HTML representation or trust the notebook. <br />On GitHub, the HTML representation is unable to render, please try loading this page with nbviewer.org.</b></div><div class=\"sk-container\" hidden><div class=\"sk-item\"><div class=\"sk-estimator sk-toggleable\"><input class=\"sk-toggleable__control sk-hidden--visually\" id=\"sk-estimator-id-16\" type=\"checkbox\" checked><label for=\"sk-estimator-id-16\" class=\"sk-toggleable__label sk-toggleable__label-arrow\">RandomForestRegressor</label><div class=\"sk-toggleable__content\"><pre>RandomForestRegressor(max_depth=10, min_samples_leaf=2, min_samples_split=3,\n",
       "                      n_estimators=94, random_state=42)</pre></div></div></div></div></div>"
      ],
      "text/plain": [
       "RandomForestRegressor(max_depth=10, min_samples_leaf=2, min_samples_split=3,\n",
       "                      n_estimators=94, random_state=42)"
      ]
     },
     "execution_count": 285,
     "metadata": {},
     "output_type": "execute_result"
    }
   ],
   "source": [
    "rf_params = {\n",
    "    \"random_state\": 42,\n",
    "    #\"learning_rate\": 0.1,\n",
    "    \"n_estimators\": study.best_trial.params[\"n_estimators\"],\n",
    "    \"max_depth\": study.best_trial.params[\"max_depth\"],\n",
    "    \"min_samples_leaf\": study.best_trial.params[\"min_samples_leaf\"],\n",
    "    \"min_samples_split\": study.best_trial.params[\"min_samples_split\"],\n",
    "    #\"subsample\": study.best_trial.params[\"subsample\"]\n",
    "}\n",
    "\n",
    "rf = RandomForestRegressor(**rf_params)\n",
    "rf.fit(As_X_train, As_y_train)"
   ]
  },
  {
   "cell_type": "code",
   "execution_count": 286,
   "id": "8577fb37",
   "metadata": {},
   "outputs": [],
   "source": [
    "y_train_pred = rf.predict(As_X_train)\n",
    "y_test_pred = rf.predict(As_X_test)"
   ]
  },
  {
   "cell_type": "code",
   "execution_count": 287,
   "id": "2ea0526a",
   "metadata": {},
   "outputs": [],
   "source": [
    "# plt.scatter(y_train_pred, np.array(As_y_train))"
   ]
  },
  {
   "cell_type": "code",
   "execution_count": 288,
   "id": "d2a4dd85",
   "metadata": {},
   "outputs": [
    {
     "name": "stdout",
     "output_type": "stream",
     "text": [
      "Train RMSE:  0.3181260015935225\n",
      "Test RMSE:  0.8197445103992506\n"
     ]
    }
   ],
   "source": [
    "print(\"Train RMSE: \", np.sqrt(mean_squared_error(As_y_train, y_train_pred)))\n",
    "print(\"Test RMSE: \", np.sqrt(mean_squared_error(As_y_test, y_test_pred)))"
   ]
  },
  {
   "cell_type": "code",
   "execution_count": 289,
   "id": "08fe787a",
   "metadata": {},
   "outputs": [
    {
     "name": "stdout",
     "output_type": "stream",
     "text": [
      "Train R2:  0.8556163348947956\n",
      "Test R2:  0.08203834127670961\n"
     ]
    }
   ],
   "source": [
    "print(\"Train R2: \", r2_score(As_y_train, y_train_pred))\n",
    "print(\"Test R2: \", r2_score(As_y_test, y_test_pred))"
   ]
  },
  {
   "cell_type": "code",
   "execution_count": 290,
   "id": "5ec4820c",
   "metadata": {},
   "outputs": [
    {
     "data": {
      "image/png": "[encoded data removed]",
      "text/plain": [
       "<Figure size 640x480 with 1 Axes>"
      ]
     },
     "metadata": {},
     "output_type": "display_data"
    }
   ],
   "source": [
    "plt.scatter(y_train_pred, np.array(As_y_train), color=\"orange\", alpha=0.3)\n",
    "plt.scatter(y_test_pred, np.array(As_y_test), color=\"green\", alpha=0.4)\n",
    "plt.axis(\"auto\") # scaled, tight, auto, image, square\n",
    "# plt.xlim([0, 1.5]) \n",
    "# plt.ylim(0, None) \n",
    "plt.xlabel('Predicted Values')\n",
    "plt.ylabel('Actual Values')\n",
    "\n",
    "# Add y=x line\n",
    "plt.plot([0, 1.8], [0, 1.8], color='red', linestyle='-')\n",
    "\n",
    "plt.show()"
   ]
  },
  {
   "attachments": {},
   "cell_type": "markdown",
   "id": "e0507d63",
   "metadata": {},
   "source": [
    "Cd"
   ]
  },
  {
   "attachments": {},
   "cell_type": "markdown",
   "id": "f8f809d9",
   "metadata": {},
   "source": [
    "Optimization"
   ]
  },
  {
   "cell_type": "code",
   "execution_count": 291,
   "id": "b7aeaf0a",
   "metadata": {},
   "outputs": [
    {
     "name": "stderr",
     "output_type": "stream",
     "text": [
      "\u001b[32m[I 2023-08-27 23:06:10,785]\u001b[0m A new study created in memory with name: rf_parameter_opt\u001b[0m\n",
      "\u001b[32m[I 2023-08-27 23:06:12,132]\u001b[0m Trial 0 finished with value: 0.5229196461742349 and parameters: {'n_estimators': 56, 'max_depth': 6, 'min_samples_leaf': 1, 'min_samples_split': 11}. Best is trial 0 with value: 0.5229196461742349.\u001b[0m\n",
      "\u001b[32m[I 2023-08-27 23:06:13,849]\u001b[0m Trial 1 finished with value: 0.5047444455874099 and parameters: {'n_estimators': 79, 'max_depth': 9, 'min_samples_leaf': 11, 'min_samples_split': 6}. Best is trial 0 with value: 0.5229196461742349.\u001b[0m\n",
      "\u001b[32m[I 2023-08-27 23:06:14,454]\u001b[0m Trial 2 finished with value: 0.24220885373415624 and parameters: {'n_estimators': 76, 'max_depth': 1, 'min_samples_leaf': 12, 'min_samples_split': 16}. Best is trial 0 with value: 0.5229196461742349.\u001b[0m\n",
      "\u001b[32m[I 2023-08-27 23:06:16,215]\u001b[0m Trial 3 finished with value: 0.49591863233900624 and parameters: {'n_estimators': 87, 'max_depth': 6, 'min_samples_leaf': 10, 'min_samples_split': 9}. Best is trial 0 with value: 0.5229196461742349.\u001b[0m\n",
      "\u001b[32m[I 2023-08-27 23:06:18,052]\u001b[0m Trial 4 finished with value: 0.5292969545481117 and parameters: {'n_estimators': 68, 'max_depth': 8, 'min_samples_leaf': 4, 'min_samples_split': 8}. Best is trial 4 with value: 0.5292969545481117.\u001b[0m\n",
      "\u001b[32m[I 2023-08-27 23:06:18,395]\u001b[0m Trial 5 finished with value: 0.4553733832466705 and parameters: {'n_estimators': 20, 'max_depth': 4, 'min_samples_leaf': 10, 'min_samples_split': 2}. Best is trial 4 with value: 0.5292969545481117.\u001b[0m\n",
      "\u001b[32m[I 2023-08-27 23:06:21,221]\u001b[0m Trial 6 finished with value: 0.5349168964933033 and parameters: {'n_estimators': 84, 'max_depth': 10, 'min_samples_leaf': 2, 'min_samples_split': 2}. Best is trial 6 with value: 0.5349168964933033.\u001b[0m\n",
      "\u001b[32m[I 2023-08-27 23:06:21,526]\u001b[0m Trial 7 finished with value: 0.4890224059766853 and parameters: {'n_estimators': 14, 'max_depth': 9, 'min_samples_leaf': 12, 'min_samples_split': 14}. Best is trial 6 with value: 0.5349168964933033.\u001b[0m\n",
      "\u001b[32m[I 2023-08-27 23:06:22,274]\u001b[0m Trial 8 finished with value: 0.5137925534294547 and parameters: {'n_estimators': 28, 'max_depth': 8, 'min_samples_leaf': 1, 'min_samples_split': 18}. Best is trial 6 with value: 0.5349168964933033.\u001b[0m\n",
      "\u001b[32m[I 2023-08-27 23:06:23,060]\u001b[0m Trial 9 finished with value: 0.4888339919680016 and parameters: {'n_estimators': 41, 'max_depth': 9, 'min_samples_leaf': 16, 'min_samples_split': 15}. Best is trial 6 with value: 0.5349168964933033.\u001b[0m\n",
      "\u001b[32m[I 2023-08-27 23:06:24,430]\u001b[0m Trial 10 finished with value: 0.43310362720112694 and parameters: {'n_estimators': 98, 'max_depth': 3, 'min_samples_leaf': 6, 'min_samples_split': 3}. Best is trial 6 with value: 0.5349168964933033.\u001b[0m\n",
      "\u001b[32m[I 2023-08-27 23:06:26,076]\u001b[0m Trial 11 finished with value: 0.5269372590092933 and parameters: {'n_estimators': 61, 'max_depth': 10, 'min_samples_leaf': 5, 'min_samples_split': 7}. Best is trial 6 with value: 0.5349168964933033.\u001b[0m\n",
      "\u001b[32m[I 2023-08-27 23:06:27,715]\u001b[0m Trial 12 finished with value: 0.5197564823507564 and parameters: {'n_estimators': 67, 'max_depth': 7, 'min_samples_leaf': 5, 'min_samples_split': 6}. Best is trial 6 with value: 0.5349168964933033.\u001b[0m\n",
      "\u001b[32m[I 2023-08-27 23:06:29,093]\u001b[0m Trial 13 finished with value: 0.5368149264018152 and parameters: {'n_estimators': 44, 'max_depth': 10, 'min_samples_leaf': 3, 'min_samples_split': 4}. Best is trial 13 with value: 0.5368149264018152.\u001b[0m\n",
      "\u001b[32m[I 2023-08-27 23:06:29,817]\u001b[0m Trial 14 finished with value: 0.4725808521361083 and parameters: {'n_estimators': 41, 'max_depth': 10, 'min_samples_leaf': 20, 'min_samples_split': 4}. Best is trial 13 with value: 0.5368149264018152.\u001b[0m\n",
      "\u001b[32m[I 2023-08-27 23:06:30,560]\u001b[0m Trial 15 finished with value: 0.4618666901600127 and parameters: {'n_estimators': 44, 'max_depth': 4, 'min_samples_leaf': 8, 'min_samples_split': 2}. Best is trial 13 with value: 0.5368149264018152.\u001b[0m\n",
      "\u001b[32m[I 2023-08-27 23:06:33,545]\u001b[0m Trial 16 finished with value: 0.5416755901533735 and parameters: {'n_estimators': 98, 'max_depth': 10, 'min_samples_leaf': 3, 'min_samples_split': 5}. Best is trial 16 with value: 0.5416755901533735.\u001b[0m\n",
      "\u001b[32m[I 2023-08-27 23:06:35,823]\u001b[0m Trial 17 finished with value: 0.5105359786570525 and parameters: {'n_estimators': 100, 'max_depth': 7, 'min_samples_leaf': 7, 'min_samples_split': 11}. Best is trial 16 with value: 0.5416755901533735.\u001b[0m\n",
      "\u001b[32m[I 2023-08-27 23:06:36,646]\u001b[0m Trial 18 finished with value: 0.528194401412186 and parameters: {'n_estimators': 29, 'max_depth': 8, 'min_samples_leaf': 3, 'min_samples_split': 5}. Best is trial 16 with value: 0.5416755901533735.\u001b[0m\n",
      "\u001b[32m[I 2023-08-27 23:06:37,057]\u001b[0m Trial 19 finished with value: 0.24118417607378628 and parameters: {'n_estimators': 51, 'max_depth': 1, 'min_samples_leaf': 8, 'min_samples_split': 9}. Best is trial 16 with value: 0.5416755901533735.\u001b[0m\n",
      "\u001b[32m[I 2023-08-27 23:06:37,824]\u001b[0m Trial 20 finished with value: 0.5119997759131636 and parameters: {'n_estimators': 32, 'max_depth': 7, 'min_samples_leaf': 3, 'min_samples_split': 20}. Best is trial 16 with value: 0.5416755901533735.\u001b[0m\n",
      "\u001b[32m[I 2023-08-27 23:06:40,961]\u001b[0m Trial 21 finished with value: 0.536055870291924 and parameters: {'n_estimators': 89, 'max_depth': 10, 'min_samples_leaf': 1, 'min_samples_split': 4}. Best is trial 16 with value: 0.5416755901533735.\u001b[0m\n",
      "\u001b[32m[I 2023-08-27 23:06:44,248]\u001b[0m Trial 22 finished with value: 0.5366913182475352 and parameters: {'n_estimators': 93, 'max_depth': 10, 'min_samples_leaf': 1, 'min_samples_split': 4}. Best is trial 16 with value: 0.5416755901533735.\u001b[0m\n",
      "\u001b[32m[I 2023-08-27 23:06:46,950]\u001b[0m Trial 23 finished with value: 0.5400285595472474 and parameters: {'n_estimators': 91, 'max_depth': 9, 'min_samples_leaf': 3, 'min_samples_split': 5}. Best is trial 16 with value: 0.5416755901533735.\u001b[0m\n",
      "\u001b[32m[I 2023-08-27 23:06:48,924]\u001b[0m Trial 24 finished with value: 0.5338733943262806 and parameters: {'n_estimators': 71, 'max_depth': 9, 'min_samples_leaf': 4, 'min_samples_split': 7}. Best is trial 16 with value: 0.5416755901533735.\u001b[0m\n",
      "\u001b[32m[I 2023-08-27 23:06:50,465]\u001b[0m Trial 25 finished with value: 0.49322628315812767 and parameters: {'n_estimators': 79, 'max_depth': 8, 'min_samples_leaf': 15, 'min_samples_split': 13}. Best is trial 16 with value: 0.5416755901533735.\u001b[0m\n",
      "\u001b[32m[I 2023-08-27 23:06:52,744]\u001b[0m Trial 26 finished with value: 0.5148472477711962 and parameters: {'n_estimators': 94, 'max_depth': 9, 'min_samples_leaf': 7, 'min_samples_split': 9}. Best is trial 16 with value: 0.5416755901533735.\u001b[0m\n",
      "\u001b[32m[I 2023-08-27 23:06:54,218]\u001b[0m Trial 27 finished with value: 0.5376257216095747 and parameters: {'n_estimators': 48, 'max_depth': 10, 'min_samples_leaf': 3, 'min_samples_split': 5}. Best is trial 16 with value: 0.5416755901533735.\u001b[0m\n",
      "\u001b[32m[I 2023-08-27 23:06:55,787]\u001b[0m Trial 28 finished with value: 0.5262124278426258 and parameters: {'n_estimators': 59, 'max_depth': 9, 'min_samples_leaf': 5, 'min_samples_split': 6}. Best is trial 16 with value: 0.5416755901533735.\u001b[0m\n",
      "\u001b[32m[I 2023-08-27 23:06:57,046]\u001b[0m Trial 29 finished with value: 0.5225865146500114 and parameters: {'n_estimators': 53, 'max_depth': 6, 'min_samples_leaf': 2, 'min_samples_split': 11}. Best is trial 16 with value: 0.5416755901533735.\u001b[0m\n",
      "\u001b[32m[I 2023-08-27 23:06:58,268]\u001b[0m Trial 30 finished with value: 0.4885923809789442 and parameters: {'n_estimators': 63, 'max_depth': 5, 'min_samples_leaf': 8, 'min_samples_split': 8}. Best is trial 16 with value: 0.5416755901533735.\u001b[0m\n",
      "\u001b[32m[I 2023-08-27 23:06:59,715]\u001b[0m Trial 31 finished with value: 0.5377094458180653 and parameters: {'n_estimators': 47, 'max_depth': 10, 'min_samples_leaf': 3, 'min_samples_split': 5}. Best is trial 16 with value: 0.5416755901533735.\u001b[0m\n",
      "\u001b[32m[I 2023-08-27 23:07:01,095]\u001b[0m Trial 32 finished with value: 0.5315239581402826 and parameters: {'n_estimators': 48, 'max_depth': 10, 'min_samples_leaf': 4, 'min_samples_split': 6}. Best is trial 16 with value: 0.5416755901533735.\u001b[0m\n",
      "\u001b[32m[I 2023-08-27 23:07:02,198]\u001b[0m Trial 33 finished with value: 0.5299440763117605 and parameters: {'n_estimators': 35, 'max_depth': 9, 'min_samples_leaf': 2, 'min_samples_split': 5}. Best is trial 16 with value: 0.5416755901533735.\u001b[0m\n",
      "\u001b[32m[I 2023-08-27 23:07:04,264]\u001b[0m Trial 34 finished with value: 0.5154588944482958 and parameters: {'n_estimators': 83, 'max_depth': 8, 'min_samples_leaf': 6, 'min_samples_split': 5}. Best is trial 16 with value: 0.5416755901533735.\u001b[0m\n",
      "\u001b[32m[I 2023-08-27 23:07:05,954]\u001b[0m Trial 35 finished with value: 0.5396181680258071 and parameters: {'n_estimators': 54, 'max_depth': 9, 'min_samples_leaf': 3, 'min_samples_split': 3}. Best is trial 16 with value: 0.5416755901533735.\u001b[0m\n",
      "\u001b[32m[I 2023-08-27 23:07:07,886]\u001b[0m Trial 36 finished with value: 0.5204663362691819 and parameters: {'n_estimators': 74, 'max_depth': 9, 'min_samples_leaf': 6, 'min_samples_split': 3}. Best is trial 16 with value: 0.5416755901533735.\u001b[0m\n",
      "\u001b[32m[I 2023-08-27 23:07:10,089]\u001b[0m Trial 37 finished with value: 0.5017788856461782 and parameters: {'n_estimators': 93, 'max_depth': 8, 'min_samples_leaf': 9, 'min_samples_split': 3}. Best is trial 16 with value: 0.5416755901533735.\u001b[0m\n",
      "\u001b[32m[I 2023-08-27 23:07:11,245]\u001b[0m Trial 38 finished with value: 0.49179743668840015 and parameters: {'n_estimators': 56, 'max_depth': 7, 'min_samples_leaf': 13, 'min_samples_split': 7}. Best is trial 16 with value: 0.5416755901533735.\u001b[0m\n",
      "\u001b[32m[I 2023-08-27 23:07:13,188]\u001b[0m Trial 39 finished with value: 0.5330094279215808 and parameters: {'n_estimators': 66, 'max_depth': 9, 'min_samples_leaf': 4, 'min_samples_split': 2}. Best is trial 16 with value: 0.5416755901533735.\u001b[0m\n",
      "\u001b[32m[I 2023-08-27 23:07:14,187]\u001b[0m Trial 40 finished with value: 0.3412349535397624 and parameters: {'n_estimators': 88, 'max_depth': 2, 'min_samples_leaf': 2, 'min_samples_split': 10}. Best is trial 16 with value: 0.5416755901533735.\u001b[0m\n",
      "\u001b[32m[I 2023-08-27 23:07:15,823]\u001b[0m Trial 41 finished with value: 0.5390855290088103 and parameters: {'n_estimators': 49, 'max_depth': 10, 'min_samples_leaf': 3, 'min_samples_split': 5}. Best is trial 16 with value: 0.5416755901533735.\u001b[0m\n",
      "\u001b[32m[I 2023-08-27 23:07:17,718]\u001b[0m Trial 42 finished with value: 0.5334262105528702 and parameters: {'n_estimators': 56, 'max_depth': 10, 'min_samples_leaf': 1, 'min_samples_split': 8}. Best is trial 16 with value: 0.5416755901533735.\u001b[0m\n",
      "\u001b[32m[I 2023-08-27 23:07:18,744]\u001b[0m Trial 43 finished with value: 0.5209004611277942 and parameters: {'n_estimators': 37, 'max_depth': 9, 'min_samples_leaf': 5, 'min_samples_split': 3}. Best is trial 16 with value: 0.5416755901533735.\u001b[0m\n",
      "\u001b[32m[I 2023-08-27 23:07:20,240]\u001b[0m Trial 44 finished with value: 0.5330700487793408 and parameters: {'n_estimators': 49, 'max_depth': 10, 'min_samples_leaf': 4, 'min_samples_split': 6}. Best is trial 16 with value: 0.5416755901533735.\u001b[0m\n",
      "\u001b[32m[I 2023-08-27 23:07:20,943]\u001b[0m Trial 45 finished with value: 0.5268844981565644 and parameters: {'n_estimators': 22, 'max_depth': 9, 'min_samples_leaf': 2, 'min_samples_split': 7}. Best is trial 16 with value: 0.5416755901533735.\u001b[0m\n",
      "\u001b[32m[I 2023-08-27 23:07:23,358]\u001b[0m Trial 46 finished with value: 0.5353244239461846 and parameters: {'n_estimators': 83, 'max_depth': 8, 'min_samples_leaf': 3, 'min_samples_split': 4}. Best is trial 16 with value: 0.5416755901533735.\u001b[0m\n",
      "\u001b[32m[I 2023-08-27 23:07:24,616]\u001b[0m Trial 47 finished with value: 0.5268412232771154 and parameters: {'n_estimators': 43, 'max_depth': 10, 'min_samples_leaf': 5, 'min_samples_split': 2}. Best is trial 16 with value: 0.5416755901533735.\u001b[0m\n",
      "\u001b[32m[I 2023-08-27 23:07:27,635]\u001b[0m Trial 48 finished with value: 0.5301969863014924 and parameters: {'n_estimators': 96, 'max_depth': 10, 'min_samples_leaf': 1, 'min_samples_split': 12}. Best is trial 16 with value: 0.5416755901533735.\u001b[0m\n",
      "\u001b[32m[I 2023-08-27 23:07:28,610]\u001b[0m Trial 49 finished with value: 0.5088308052240271 and parameters: {'n_estimators': 38, 'max_depth': 9, 'min_samples_leaf': 7, 'min_samples_split': 3}. Best is trial 16 with value: 0.5416755901533735.\u001b[0m\n",
      "\u001b[32m[I 2023-08-27 23:07:29,741]\u001b[0m Trial 50 finished with value: 0.4817646481229646 and parameters: {'n_estimators': 60, 'max_depth': 8, 'min_samples_leaf': 18, 'min_samples_split': 17}. Best is trial 16 with value: 0.5416755901533735.\u001b[0m\n",
      "\u001b[32m[I 2023-08-27 23:07:31,222]\u001b[0m Trial 51 finished with value: 0.536977307470434 and parameters: {'n_estimators': 45, 'max_depth': 10, 'min_samples_leaf': 3, 'min_samples_split': 5}. Best is trial 16 with value: 0.5416755901533735.\u001b[0m\n",
      "\u001b[32m[I 2023-08-27 23:07:32,796]\u001b[0m Trial 52 finished with value: 0.5349014032352443 and parameters: {'n_estimators': 52, 'max_depth': 10, 'min_samples_leaf': 4, 'min_samples_split': 5}. Best is trial 16 with value: 0.5416755901533735.\u001b[0m\n",
      "\u001b[32m[I 2023-08-27 23:07:34,765]\u001b[0m Trial 53 finished with value: 0.5415093323756462 and parameters: {'n_estimators': 64, 'max_depth': 9, 'min_samples_leaf': 3, 'min_samples_split': 6}. Best is trial 16 with value: 0.5416755901533735.\u001b[0m\n",
      "\u001b[32m[I 2023-08-27 23:07:36,867]\u001b[0m Trial 54 finished with value: 0.5318432639763859 and parameters: {'n_estimators': 79, 'max_depth': 7, 'min_samples_leaf': 2, 'min_samples_split': 6}. Best is trial 16 with value: 0.5416755901533735.\u001b[0m\n",
      "\u001b[32m[I 2023-08-27 23:07:37,097]\u001b[0m Trial 55 finished with value: 0.4782719854558274 and parameters: {'n_estimators': 10, 'max_depth': 9, 'min_samples_leaf': 11, 'min_samples_split': 4}. Best is trial 16 with value: 0.5416755901533735.\u001b[0m\n",
      "\u001b[32m[I 2023-08-27 23:07:38,786]\u001b[0m Trial 56 finished with value: 0.4729566988965418 and parameters: {'n_estimators': 99, 'max_depth': 4, 'min_samples_leaf': 6, 'min_samples_split': 8}. Best is trial 16 with value: 0.5416755901533735.\u001b[0m\n",
      "\u001b[32m[I 2023-08-27 23:07:40,823]\u001b[0m Trial 57 finished with value: 0.5308628396282573 and parameters: {'n_estimators': 72, 'max_depth': 8, 'min_samples_leaf': 4, 'min_samples_split': 4}. Best is trial 16 with value: 0.5416755901533735.\u001b[0m\n",
      "\u001b[32m[I 2023-08-27 23:07:42,805]\u001b[0m Trial 58 finished with value: 0.5408085465129663 and parameters: {'n_estimators': 64, 'max_depth': 9, 'min_samples_leaf': 3, 'min_samples_split': 7}. Best is trial 16 with value: 0.5416755901533735.\u001b[0m\n",
      "\u001b[32m[I 2023-08-27 23:07:44,822]\u001b[0m Trial 59 finished with value: 0.5238753646043246 and parameters: {'n_estimators': 64, 'max_depth': 8, 'min_samples_leaf': 5, 'min_samples_split': 7}. Best is trial 16 with value: 0.5416755901533735.\u001b[0m\n",
      "\u001b[32m[I 2023-08-27 23:07:47,288]\u001b[0m Trial 60 finished with value: 0.5343378366188862 and parameters: {'n_estimators': 69, 'max_depth': 9, 'min_samples_leaf': 1, 'min_samples_split': 10}. Best is trial 16 with value: 0.5416755901533735.\u001b[0m\n",
      "\u001b[32m[I 2023-08-27 23:07:49,228]\u001b[0m Trial 61 finished with value: 0.540768675111781 and parameters: {'n_estimators': 58, 'max_depth': 10, 'min_samples_leaf': 3, 'min_samples_split': 6}. Best is trial 16 with value: 0.5416755901533735.\u001b[0m\n",
      "\u001b[32m[I 2023-08-27 23:07:51,077]\u001b[0m Trial 62 finished with value: 0.5397936412307125 and parameters: {'n_estimators': 56, 'max_depth': 9, 'min_samples_leaf': 3, 'min_samples_split': 6}. Best is trial 16 with value: 0.5416755901533735.\u001b[0m\n",
      "\u001b[32m[I 2023-08-27 23:07:53,005]\u001b[0m Trial 63 finished with value: 0.5351371361321222 and parameters: {'n_estimators': 59, 'max_depth': 9, 'min_samples_leaf': 2, 'min_samples_split': 7}. Best is trial 16 with value: 0.5416755901533735.\u001b[0m\n",
      "\u001b[32m[I 2023-08-27 23:07:54,564]\u001b[0m Trial 64 finished with value: 0.5323705594088114 and parameters: {'n_estimators': 53, 'max_depth': 9, 'min_samples_leaf': 4, 'min_samples_split': 6}. Best is trial 16 with value: 0.5416755901533735.\u001b[0m\n",
      "\u001b[32m[I 2023-08-27 23:07:56,990]\u001b[0m Trial 65 finished with value: 0.5327698227368168 and parameters: {'n_estimators': 76, 'max_depth': 8, 'min_samples_leaf': 2, 'min_samples_split': 9}. Best is trial 16 with value: 0.5416755901533735.\u001b[0m\n",
      "\u001b[32m[I 2023-08-27 23:07:59,005]\u001b[0m Trial 66 finished with value: 0.5386178797399814 and parameters: {'n_estimators': 63, 'max_depth': 9, 'min_samples_leaf': 3, 'min_samples_split': 8}. Best is trial 16 with value: 0.5416755901533735.\u001b[0m\n",
      "\u001b[32m[I 2023-08-27 23:08:00,561]\u001b[0m Trial 67 finished with value: 0.5216774401017495 and parameters: {'n_estimators': 57, 'max_depth': 10, 'min_samples_leaf': 6, 'min_samples_split': 6}. Best is trial 16 with value: 0.5416755901533735.\u001b[0m\n",
      "\u001b[32m[I 2023-08-27 23:08:03,705]\u001b[0m Trial 68 finished with value: 0.5368695850280645 and parameters: {'n_estimators': 91, 'max_depth': 9, 'min_samples_leaf': 1, 'min_samples_split': 4}. Best is trial 16 with value: 0.5416755901533735.\u001b[0m\n",
      "\u001b[32m[I 2023-08-27 23:08:05,743]\u001b[0m Trial 69 finished with value: 0.5116438680599876 and parameters: {'n_estimators': 86, 'max_depth': 6, 'min_samples_leaf': 5, 'min_samples_split': 3}. Best is trial 16 with value: 0.5416755901533735.\u001b[0m\n",
      "\u001b[32m[I 2023-08-27 23:08:07,591]\u001b[0m Trial 70 finished with value: 0.5293641499864389 and parameters: {'n_estimators': 67, 'max_depth': 8, 'min_samples_leaf': 4, 'min_samples_split': 7}. Best is trial 16 with value: 0.5416755901533735.\u001b[0m\n",
      "\u001b[32m[I 2023-08-27 23:08:09,224]\u001b[0m Trial 71 finished with value: 0.5403249346844202 and parameters: {'n_estimators': 50, 'max_depth': 10, 'min_samples_leaf': 3, 'min_samples_split': 5}. Best is trial 16 with value: 0.5416755901533735.\u001b[0m\n",
      "\u001b[32m[I 2023-08-27 23:08:10,947]\u001b[0m Trial 72 finished with value: 0.5406444776046974 and parameters: {'n_estimators': 54, 'max_depth': 10, 'min_samples_leaf': 3, 'min_samples_split': 6}. Best is trial 16 with value: 0.5416755901533735.\u001b[0m\n",
      "\u001b[32m[I 2023-08-27 23:08:12,994]\u001b[0m Trial 73 finished with value: 0.5352510492210165 and parameters: {'n_estimators': 62, 'max_depth': 10, 'min_samples_leaf': 2, 'min_samples_split': 6}. Best is trial 16 with value: 0.5416755901533735.\u001b[0m\n",
      "\u001b[32m[I 2023-08-27 23:08:14,803]\u001b[0m Trial 74 finished with value: 0.5407937508395528 and parameters: {'n_estimators': 58, 'max_depth': 10, 'min_samples_leaf': 3, 'min_samples_split': 8}. Best is trial 16 with value: 0.5416755901533735.\u001b[0m\n",
      "\u001b[32m[I 2023-08-27 23:08:16,226]\u001b[0m Trial 75 finished with value: 0.49725152649893695 and parameters: {'n_estimators': 65, 'max_depth': 10, 'min_samples_leaf': 14, 'min_samples_split': 8}. Best is trial 16 with value: 0.5416755901533735.\u001b[0m\n",
      "\u001b[32m[I 2023-08-27 23:08:19,702]\u001b[0m Trial 76 finished with value: 0.5385226295699609 and parameters: {'n_estimators': 97, 'max_depth': 10, 'min_samples_leaf': 2, 'min_samples_split': 5}. Best is trial 16 with value: 0.5416755901533735.\u001b[0m\n",
      "\u001b[32m[I 2023-08-27 23:08:21,817]\u001b[0m Trial 77 finished with value: 0.5351887976499468 and parameters: {'n_estimators': 70, 'max_depth': 10, 'min_samples_leaf': 4, 'min_samples_split': 10}. Best is trial 16 with value: 0.5416755901533735.\u001b[0m\n",
      "\u001b[32m[I 2023-08-27 23:08:23,538]\u001b[0m Trial 78 finished with value: 0.5287831510054098 and parameters: {'n_estimators': 58, 'max_depth': 10, 'min_samples_leaf': 5, 'min_samples_split': 7}. Best is trial 16 with value: 0.5416755901533735.\u001b[0m\n",
      "\u001b[32m[I 2023-08-27 23:08:25,783]\u001b[0m Trial 79 finished with value: 0.5211854631246025 and parameters: {'n_estimators': 76, 'max_depth': 10, 'min_samples_leaf': 3, 'min_samples_split': 20}. Best is trial 16 with value: 0.5416755901533735.\u001b[0m\n",
      "\u001b[32m[I 2023-08-27 23:08:27,655]\u001b[0m Trial 80 finished with value: 0.5317417418491025 and parameters: {'n_estimators': 50, 'max_depth': 10, 'min_samples_leaf': 1, 'min_samples_split': 9}. Best is trial 16 with value: 0.5416755901533735.\u001b[0m\n",
      "\u001b[32m[I 2023-08-27 23:08:29,160]\u001b[0m Trial 81 finished with value: 0.5357424564424453 and parameters: {'n_estimators': 46, 'max_depth': 9, 'min_samples_leaf': 3, 'min_samples_split': 6}. Best is trial 16 with value: 0.5416755901533735.\u001b[0m\n",
      "\u001b[32m[I 2023-08-27 23:08:30,878]\u001b[0m Trial 82 finished with value: 0.5396181680258071 and parameters: {'n_estimators': 54, 'max_depth': 9, 'min_samples_leaf': 3, 'min_samples_split': 5}. Best is trial 16 with value: 0.5416755901533735.\u001b[0m\n",
      "\u001b[32m[I 2023-08-27 23:08:32,720]\u001b[0m Trial 83 finished with value: 0.5350183273178751 and parameters: {'n_estimators': 55, 'max_depth': 9, 'min_samples_leaf': 2, 'min_samples_split': 7}. Best is trial 16 with value: 0.5416755901533735.\u001b[0m\n",
      "\u001b[32m[I 2023-08-27 23:08:34,253]\u001b[0m Trial 84 finished with value: 0.535482928407232 and parameters: {'n_estimators': 51, 'max_depth': 10, 'min_samples_leaf': 4, 'min_samples_split': 6}. Best is trial 16 with value: 0.5416755901533735.\u001b[0m\n",
      "\u001b[32m[I 2023-08-27 23:08:35,693]\u001b[0m Trial 85 finished with value: 0.5352310175735374 and parameters: {'n_estimators': 42, 'max_depth': 10, 'min_samples_leaf': 3, 'min_samples_split': 8}. Best is trial 16 with value: 0.5416755901533735.\u001b[0m\n",
      "\u001b[32m[I 2023-08-27 23:08:37,492]\u001b[0m Trial 86 finished with value: 0.5256069245658678 and parameters: {'n_estimators': 62, 'max_depth': 9, 'min_samples_leaf': 5, 'min_samples_split': 5}. Best is trial 16 with value: 0.5416755901533735.\u001b[0m\n",
      "\u001b[32m[I 2023-08-27 23:08:39,551]\u001b[0m Trial 87 finished with value: 0.5349140592796621 and parameters: {'n_estimators': 61, 'max_depth': 10, 'min_samples_leaf': 2, 'min_samples_split': 6}. Best is trial 16 with value: 0.5416755901533735.\u001b[0m\n",
      "\u001b[32m[I 2023-08-27 23:08:40,047]\u001b[0m Trial 88 finished with value: 0.24161855352800007 and parameters: {'n_estimators': 58, 'max_depth': 1, 'min_samples_leaf': 4, 'min_samples_split': 5}. Best is trial 16 with value: 0.5416755901533735.\u001b[0m\n",
      "\u001b[32m[I 2023-08-27 23:08:40,887]\u001b[0m Trial 89 finished with value: 0.4786311823352188 and parameters: {'n_estimators': 40, 'max_depth': 7, 'min_samples_leaf': 17, 'min_samples_split': 7}. Best is trial 16 with value: 0.5416755901533735.\u001b[0m\n",
      "\u001b[32m[I 2023-08-27 23:08:43,267]\u001b[0m Trial 90 finished with value: 0.5119985677809179 and parameters: {'n_estimators': 100, 'max_depth': 5, 'min_samples_leaf': 1, 'min_samples_split': 4}. Best is trial 16 with value: 0.5416755901533735.\u001b[0m\n",
      "\u001b[32m[I 2023-08-27 23:08:45,056]\u001b[0m Trial 91 finished with value: 0.5388296393365894 and parameters: {'n_estimators': 55, 'max_depth': 9, 'min_samples_leaf': 3, 'min_samples_split': 4}. Best is trial 16 with value: 0.5416755901533735.\u001b[0m\n",
      "\u001b[32m[I 2023-08-27 23:08:46,654]\u001b[0m Trial 92 finished with value: 0.5297516766749255 and parameters: {'n_estimators': 52, 'max_depth': 9, 'min_samples_leaf': 3, 'min_samples_split': 14}. Best is trial 16 with value: 0.5416755901533735.\u001b[0m\n",
      "\u001b[32m[I 2023-08-27 23:08:48,341]\u001b[0m Trial 93 finished with value: 0.5323767227457494 and parameters: {'n_estimators': 47, 'max_depth': 10, 'min_samples_leaf': 2, 'min_samples_split': 2}. Best is trial 16 with value: 0.5416755901533735.\u001b[0m\n",
      "\u001b[32m[I 2023-08-27 23:08:50,102]\u001b[0m Trial 94 finished with value: 0.5329568115524234 and parameters: {'n_estimators': 57, 'max_depth': 9, 'min_samples_leaf': 4, 'min_samples_split': 3}. Best is trial 16 with value: 0.5416755901533735.\u001b[0m\n",
      "\u001b[32m[I 2023-08-27 23:08:51,101]\u001b[0m Trial 95 finished with value: 0.44096065596354234 and parameters: {'n_estimators': 66, 'max_depth': 3, 'min_samples_leaf': 3, 'min_samples_split': 6}. Best is trial 16 with value: 0.5416755901533735.\u001b[0m\n",
      "\u001b[32m[I 2023-08-27 23:08:52,202]\u001b[0m Trial 96 finished with value: 0.4743932255149811 and parameters: {'n_estimators': 60, 'max_depth': 9, 'min_samples_leaf': 20, 'min_samples_split': 5}. Best is trial 16 with value: 0.5416755901533735.\u001b[0m\n",
      "\u001b[32m[I 2023-08-27 23:08:53,841]\u001b[0m Trial 97 finished with value: 0.5351844471069205 and parameters: {'n_estimators': 54, 'max_depth': 10, 'min_samples_leaf': 4, 'min_samples_split': 7}. Best is trial 16 with value: 0.5416755901533735.\u001b[0m\n",
      "\u001b[32m[I 2023-08-27 23:08:56,987]\u001b[0m Trial 98 finished with value: 0.5374242121733376 and parameters: {'n_estimators': 96, 'max_depth': 9, 'min_samples_leaf': 2, 'min_samples_split': 5}. Best is trial 16 with value: 0.5416755901533735.\u001b[0m\n",
      "\u001b[32m[I 2023-08-27 23:08:58,600]\u001b[0m Trial 99 finished with value: 0.5047831020099319 and parameters: {'n_estimators': 68, 'max_depth': 8, 'min_samples_leaf': 10, 'min_samples_split': 6}. Best is trial 16 with value: 0.5416755901533735.\u001b[0m\n"
     ]
    },
    {
     "name": "stdout",
     "output_type": "stream",
     "text": [
      "Best r2:  0.5416755901533735\n",
      "Best trial: {'n_estimators': 98, 'max_depth': 10, 'min_samples_leaf': 3, 'min_samples_split': 5}\n"
     ]
    }
   ],
   "source": [
    "sampler = TPESampler()\n",
    "study = optuna.create_study(\n",
    "    study_name=\"rf_parameter_opt\",\n",
    "    direction=\"maximize\",\n",
    "    sampler=sampler,\n",
    ")\n",
    "\n",
    "study.optimize(lambda trial : objectiveRF(trial, Cd_X_train, Cd_y_train), n_trials=100)\n",
    "print(\"Best r2: \", study.best_value)\n",
    "print(\"Best trial:\", study.best_trial.params)"
   ]
  },
  {
   "cell_type": "code",
   "execution_count": 292,
   "id": "861f88d8",
   "metadata": {},
   "outputs": [
    {
     "data": {
      "application/vnd.plotly.v1+json": {
       "config": {
        "plotlyServerURL": "https://plot.ly"
       },
       "data": [
        {
         "dimensions": [
          {
           "label": "Objective Value",
           "range": [
            0.24118417607378628,
            0.5416755901533735
           ],
           "values": [
            0.5229196461742349,
            0.5047444455874099,
            0.24220885373415624,
            0.49591863233900624,
            0.5292969545481117,
            0.4553733832466705,
            0.5349168964933033,
            0.4890224059766853,
            0.5137925534294547,
            0.4888339919680016,
            0.43310362720112694,
            0.5269372590092933,
            0.5197564823507564,
            0.5368149264018152,
            0.4725808521361083,
            0.4618666901600127,
            0.5416755901533735,
            0.5105359786570525,
            0.528194401412186,
            0.24118417607378628,
            0.5119997759131636,
            0.536055870291924,
            0.5366913182475352,
            0.5400285595472474,
            0.5338733943262806,
            0.49322628315812767,
            0.5148472477711962,
            0.5376257216095747,
            0.5262124278426258,
            0.5225865146500114,
            0.4885923809789442,
            0.5377094458180653,
            0.5315239581402826,
            0.5299440763117605,
            0.5154588944482958,
            0.5396181680258071,
            0.5204663362691819,
            0.5017788856461782,
            0.49179743668840015,
            0.5330094279215808,
            0.3412349535397624,
            0.5390855290088103,
            0.5334262105528702,
            0.5209004611277942,
            0.5330700487793408,
            0.5268844981565644,
            0.5353244239461846,
            0.5268412232771154,
            0.5301969863014924,
            0.5088308052240271,
            0.4817646481229646,
            0.536977307470434,
            0.5349014032352443,
            0.5415093323756462,
            0.5318432639763859,
            0.4782719854558274,
            0.4729566988965418,
            0.5308628396282573,
            0.5408085465129663,
            0.5238753646043246,
            0.5343378366188862,
            0.540768675111781,
            0.5397936412307125,
            0.5351371361321222,
            0.5323705594088114,
            0.5327698227368168,
            0.5386178797399814,
            0.5216774401017495,
            0.5368695850280645,
            0.5116438680599876,
            0.5293641499864389,
            0.5403249346844202,
            0.5406444776046974,
            0.5352510492210165,
            0.5407937508395528,
            0.49725152649893695,
            0.5385226295699609,
            0.5351887976499468,
            0.5287831510054098,
            0.5211854631246025,
            0.5317417418491025,
            0.5357424564424453,
            0.5396181680258071,
            0.5350183273178751,
            0.535482928407232,
            0.5352310175735374,
            0.5256069245658678,
            0.5349140592796621,
            0.24161855352800007,
            0.4786311823352188,
            0.5119985677809179,
            0.5388296393365894,
            0.5297516766749255,
            0.5323767227457494,
            0.5329568115524234,
            0.44096065596354234,
            0.4743932255149811,
            0.5351844471069205,
            0.5374242121733376,
            0.5047831020099319
           ]
          },
          {
           "label": "max_depth",
           "range": [
            1,
            10
           ],
           "values": [
            6,
            9,
            1,
            6,
            8,
            4,
            10,
            9,
            8,
            9,
            3,
            10,
            7,
            10,
            10,
            4,
            10,
            7,
            8,
            1,
            7,
            10,
            10,
            9,
            9,
            8,
            9,
            10,
            9,
            6,
            5,
            10,
            10,
            9,
            8,
            9,
            9,
            8,
            7,
            9,
            2,
            10,
            10,
            9,
            10,
            9,
            8,
            10,
            10,
            9,
            8,
            10,
            10,
            9,
            7,
            9,
            4,
            8,
            9,
            8,
            9,
            10,
            9,
            9,
            9,
            8,
            9,
            10,
            9,
            6,
            8,
            10,
            10,
            10,
            10,
            10,
            10,
            10,
            10,
            10,
            10,
            9,
            9,
            9,
            10,
            10,
            9,
            10,
            1,
            7,
            5,
            9,
            9,
            10,
            9,
            3,
            9,
            10,
            9,
            8
           ]
          },
          {
           "label": "min_samples_leaf",
           "range": [
            1,
            20
           ],
           "values": [
            1,
            11,
            12,
            10,
            4,
            10,
            2,
            12,
            1,
            16,
            6,
            5,
            5,
            3,
            20,
            8,
            3,
            7,
            3,
            8,
            3,
            1,
            1,
            3,
            4,
            15,
            7,
            3,
            5,
            2,
            8,
            3,
            4,
            2,
            6,
            3,
            6,
            9,
            13,
            4,
            2,
            3,
            1,
            5,
            4,
            2,
            3,
            5,
            1,
            7,
            18,
            3,
            4,
            3,
            2,
            11,
            6,
            4,
            3,
            5,
            1,
            3,
            3,
            2,
            4,
            2,
            3,
            6,
            1,
            5,
            4,
            3,
            3,
            2,
            3,
            14,
            2,
            4,
            5,
            3,
            1,
            3,
            3,
            2,
            4,
            3,
            5,
            2,
            4,
            17,
            1,
            3,
            3,
            2,
            4,
            3,
            20,
            4,
            2,
            10
           ]
          },
          {
           "label": "min_samples_split",
           "range": [
            2,
            20
           ],
           "values": [
            11,
            6,
            16,
            9,
            8,
            2,
            2,
            14,
            18,
            15,
            3,
            7,
            6,
            4,
            4,
            2,
            5,
            11,
            5,
            9,
            20,
            4,
            4,
            5,
            7,
            13,
            9,
            5,
            6,
            11,
            8,
            5,
            6,
            5,
            5,
            3,
            3,
            3,
            7,
            2,
            10,
            5,
            8,
            3,
            6,
            7,
            4,
            2,
            12,
            3,
            17,
            5,
            5,
            6,
            6,
            4,
            8,
            4,
            7,
            7,
            10,
            6,
            6,
            7,
            6,
            9,
            8,
            6,
            4,
            3,
            7,
            5,
            6,
            6,
            8,
            8,
            5,
            10,
            7,
            20,
            9,
            6,
            5,
            7,
            6,
            8,
            5,
            6,
            5,
            7,
            4,
            4,
            14,
            2,
            3,
            6,
            5,
            7,
            5,
            6
           ]
          },
          {
           "label": "n_estimators",
           "range": [
            10,
            100
           ],
           "values": [
            56,
            79,
            76,
            87,
            68,
            20,
            84,
            14,
            28,
            41,
            98,
            61,
            67,
            44,
            41,
            44,
            98,
            100,
            29,
            51,
            32,
            89,
            93,
            91,
            71,
            79,
            94,
            48,
            59,
            53,
            63,
            47,
            48,
            35,
            83,
            54,
            74,
            93,
            56,
            66,
            88,
            49,
            56,
            37,
            49,
            22,
            83,
            43,
            96,
            38,
            60,
            45,
            52,
            64,
            79,
            10,
            99,
            72,
            64,
            64,
            69,
            58,
            56,
            59,
            53,
            76,
            63,
            57,
            91,
            86,
            67,
            50,
            54,
            62,
            58,
            65,
            97,
            70,
            58,
            76,
            50,
            46,
            54,
            55,
            51,
            42,
            62,
            61,
            58,
            40,
            100,
            55,
            52,
            47,
            57,
            66,
            60,
            54,
            96,
            68
           ]
          }
         ],
         "labelangle": 30,
         "labelside": "bottom",
         "line": {
          "color": [
           0.5229196461742349,
           0.5047444455874099,
           0.24220885373415624,
           0.49591863233900624,
           0.5292969545481117,
           0.4553733832466705,
           0.5349168964933033,
           0.4890224059766853,
           0.5137925534294547,
           0.4888339919680016,
           0.43310362720112694,
           0.5269372590092933,
           0.5197564823507564,
           0.5368149264018152,
           0.4725808521361083,
           0.4618666901600127,
           0.5416755901533735,
           0.5105359786570525,
           0.528194401412186,
           0.24118417607378628,
           0.5119997759131636,
           0.536055870291924,
           0.5366913182475352,
           0.5400285595472474,
           0.5338733943262806,
           0.49322628315812767,
           0.5148472477711962,
           0.5376257216095747,
           0.5262124278426258,
           0.5225865146500114,
           0.4885923809789442,
           0.5377094458180653,
           0.5315239581402826,
           0.5299440763117605,
           0.5154588944482958,
           0.5396181680258071,
           0.5204663362691819,
           0.5017788856461782,
           0.49179743668840015,
           0.5330094279215808,
           0.3412349535397624,
           0.5390855290088103,
           0.5334262105528702,
           0.5209004611277942,
           0.5330700487793408,
           0.5268844981565644,
           0.5353244239461846,
           0.5268412232771154,
           0.5301969863014924,
           0.5088308052240271,
           0.4817646481229646,
           0.536977307470434,
           0.5349014032352443,
           0.5415093323756462,
           0.5318432639763859,
           0.4782719854558274,
           0.4729566988965418,
           0.5308628396282573,
           0.5408085465129663,
           0.5238753646043246,
           0.5343378366188862,
           0.540768675111781,
           0.5397936412307125,
           0.5351371361321222,
           0.5323705594088114,
           0.5327698227368168,
           0.5386178797399814,
           0.5216774401017495,
           0.5368695850280645,
           0.5116438680599876,
           0.5293641499864389,
           0.5403249346844202,
           0.5406444776046974,
           0.5352510492210165,
           0.5407937508395528,
           0.49725152649893695,
           0.5385226295699609,
           0.5351887976499468,
           0.5287831510054098,
           0.5211854631246025,
           0.5317417418491025,
           0.5357424564424453,
           0.5396181680258071,
           0.5350183273178751,
           0.535482928407232,
           0.5352310175735374,
           0.5256069245658678,
           0.5349140592796621,
           0.24161855352800007,
           0.4786311823352188,
           0.5119985677809179,
           0.5388296393365894,
           0.5297516766749255,
           0.5323767227457494,
           0.5329568115524234,
           0.44096065596354234,
           0.4743932255149811,
           0.5351844471069205,
           0.5374242121733376,
           0.5047831020099319
          ],
          "colorbar": {
           "title": {
            "text": "Objective Value"
           }
          },
          "colorscale": [
           [
            0,
            "rgb(247,251,255)"
           ],
           [
            0.125,
            "rgb(222,235,247)"
           ],
           [
            0.25,
            "rgb(198,219,239)"
           ],
           [
            0.375,
            "rgb(158,202,225)"
           ],
           [
            0.5,
            "rgb(107,174,214)"
           ],
           [
            0.625,
            "rgb(66,146,198)"
           ],
           [
            0.75,
            "rgb(33,113,181)"
           ],
           [
            0.875,
            "rgb(8,81,156)"
           ],
           [
            1,
            "rgb(8,48,107)"
           ]
          ],
          "reversescale": false,
          "showscale": true
         },
         "type": "parcoords"
        }
       ],
       "layout": {
        "template": {
         "data": {
          "bar": [
           {
            "error_x": {
             "color": "#2a3f5f"
            },
            "error_y": {
             "color": "#2a3f5f"
            },
            "marker": {
             "line": {
              "color": "#E5ECF6",
              "width": 0.5
             },
             "pattern": {
              "fillmode": "overlay",
              "size": 10,
              "solidity": 0.2
             }
            },
            "type": "bar"
           }
          ],
          "barpolar": [
           {
            "marker": {
             "line": {
              "color": "#E5ECF6",
              "width": 0.5
             },
             "pattern": {
              "fillmode": "overlay",
              "size": 10,
              "solidity": 0.2
             }
            },
            "type": "barpolar"
           }
          ],
          "carpet": [
           {
            "aaxis": {
             "endlinecolor": "#2a3f5f",
             "gridcolor": "white",
             "linecolor": "white",
             "minorgridcolor": "white",
             "startlinecolor": "#2a3f5f"
            },
            "baxis": {
             "endlinecolor": "#2a3f5f",
             "gridcolor": "white",
             "linecolor": "white",
             "minorgridcolor": "white",
             "startlinecolor": "#2a3f5f"
            },
            "type": "carpet"
           }
          ],
          "choropleth": [
           {
            "colorbar": {
             "outlinewidth": 0,
             "ticks": ""
            },
            "type": "choropleth"
           }
          ],
          "contour": [
           {
            "colorbar": {
             "outlinewidth": 0,
             "ticks": ""
            },
            "colorscale": [
             [
              0,
              "#0d0887"
             ],
             [
              0.1111111111111111,
              "#46039f"
             ],
             [
              0.2222222222222222,
              "#7201a8"
             ],
             [
              0.3333333333333333,
              "#9c179e"
             ],
             [
              0.4444444444444444,
              "#bd3786"
             ],
             [
              0.5555555555555556,
              "#d8576b"
             ],
             [
              0.6666666666666666,
              "#ed7953"
             ],
             [
              0.7777777777777778,
              "#fb9f3a"
             ],
             [
              0.8888888888888888,
              "#fdca26"
             ],
             [
              1,
              "#f0f921"
             ]
            ],
            "type": "contour"
           }
          ],
          "contourcarpet": [
           {
            "colorbar": {
             "outlinewidth": 0,
             "ticks": ""
            },
            "type": "contourcarpet"
           }
          ],
          "heatmap": [
           {
            "colorbar": {
             "outlinewidth": 0,
             "ticks": ""
            },
            "colorscale": [
             [
              0,
              "#0d0887"
             ],
             [
              0.1111111111111111,
              "#46039f"
             ],
             [
              0.2222222222222222,
              "#7201a8"
             ],
             [
              0.3333333333333333,
              "#9c179e"
             ],
             [
              0.4444444444444444,
              "#bd3786"
             ],
             [
              0.5555555555555556,
              "#d8576b"
             ],
             [
              0.6666666666666666,
              "#ed7953"
             ],
             [
              0.7777777777777778,
              "#fb9f3a"
             ],
             [
              0.8888888888888888,
              "#fdca26"
             ],
             [
              1,
              "#f0f921"
             ]
            ],
            "type": "heatmap"
           }
          ],
          "heatmapgl": [
           {
            "colorbar": {
             "outlinewidth": 0,
             "ticks": ""
            },
            "colorscale": [
             [
              0,
              "#0d0887"
             ],
             [
              0.1111111111111111,
              "#46039f"
             ],
             [
              0.2222222222222222,
              "#7201a8"
             ],
             [
              0.3333333333333333,
              "#9c179e"
             ],
             [
              0.4444444444444444,
              "#bd3786"
             ],
             [
              0.5555555555555556,
              "#d8576b"
             ],
             [
              0.6666666666666666,
              "#ed7953"
             ],
             [
              0.7777777777777778,
              "#fb9f3a"
             ],
             [
              0.8888888888888888,
              "#fdca26"
             ],
             [
              1,
              "#f0f921"
             ]
            ],
            "type": "heatmapgl"
           }
          ],
          "histogram": [
           {
            "marker": {
             "pattern": {
              "fillmode": "overlay",
              "size": 10,
              "solidity": 0.2
             }
            },
            "type": "histogram"
           }
          ],
          "histogram2d": [
           {
            "colorbar": {
             "outlinewidth": 0,
             "ticks": ""
            },
            "colorscale": [
             [
              0,
              "#0d0887"
             ],
             [
              0.1111111111111111,
              "#46039f"
             ],
             [
              0.2222222222222222,
              "#7201a8"
             ],
             [
              0.3333333333333333,
              "#9c179e"
             ],
             [
              0.4444444444444444,
              "#bd3786"
             ],
             [
              0.5555555555555556,
              "#d8576b"
             ],
             [
              0.6666666666666666,
              "#ed7953"
             ],
             [
              0.7777777777777778,
              "#fb9f3a"
             ],
             [
              0.8888888888888888,
              "#fdca26"
             ],
             [
              1,
              "#f0f921"
             ]
            ],
            "type": "histogram2d"
           }
          ],
          "histogram2dcontour": [
           {
            "colorbar": {
             "outlinewidth": 0,
             "ticks": ""
            },
            "colorscale": [
             [
              0,
              "#0d0887"
             ],
             [
              0.1111111111111111,
              "#46039f"
             ],
             [
              0.2222222222222222,
              "#7201a8"
             ],
             [
              0.3333333333333333,
              "#9c179e"
             ],
             [
              0.4444444444444444,
              "#bd3786"
             ],
             [
              0.5555555555555556,
              "#d8576b"
             ],
             [
              0.6666666666666666,
              "#ed7953"
             ],
             [
              0.7777777777777778,
              "#fb9f3a"
             ],
             [
              0.8888888888888888,
              "#fdca26"
             ],
             [
              1,
              "#f0f921"
             ]
            ],
            "type": "histogram2dcontour"
           }
          ],
          "mesh3d": [
           {
            "colorbar": {
             "outlinewidth": 0,
             "ticks": ""
            },
            "type": "mesh3d"
           }
          ],
          "parcoords": [
           {
            "line": {
             "colorbar": {
              "outlinewidth": 0,
              "ticks": ""
             }
            },
            "type": "parcoords"
           }
          ],
          "pie": [
           {
            "automargin": true,
            "type": "pie"
           }
          ],
          "scatter": [
           {
            "marker": {
             "colorbar": {
              "outlinewidth": 0,
              "ticks": ""
             }
            },
            "type": "scatter"
           }
          ],
          "scatter3d": [
           {
            "line": {
             "colorbar": {
              "outlinewidth": 0,
              "ticks": ""
             }
            },
            "marker": {
             "colorbar": {
              "outlinewidth": 0,
              "ticks": ""
             }
            },
            "type": "scatter3d"
           }
          ],
          "scattercarpet": [
           {
            "marker": {
             "colorbar": {
              "outlinewidth": 0,
              "ticks": ""
             }
            },
            "type": "scattercarpet"
           }
          ],
          "scattergeo": [
           {
            "marker": {
             "colorbar": {
              "outlinewidth": 0,
              "ticks": ""
             }
            },
            "type": "scattergeo"
           }
          ],
          "scattergl": [
           {
            "marker": {
             "colorbar": {
              "outlinewidth": 0,
              "ticks": ""
             }
            },
            "type": "scattergl"
           }
          ],
          "scattermapbox": [
           {
            "marker": {
             "colorbar": {
              "outlinewidth": 0,
              "ticks": ""
             }
            },
            "type": "scattermapbox"
           }
          ],
          "scatterpolar": [
           {
            "marker": {
             "colorbar": {
              "outlinewidth": 0,
              "ticks": ""
             }
            },
            "type": "scatterpolar"
           }
          ],
          "scatterpolargl": [
           {
            "marker": {
             "colorbar": {
              "outlinewidth": 0,
              "ticks": ""
             }
            },
            "type": "scatterpolargl"
           }
          ],
          "scatterternary": [
           {
            "marker": {
             "colorbar": {
              "outlinewidth": 0,
              "ticks": ""
             }
            },
            "type": "scatterternary"
           }
          ],
          "surface": [
           {
            "colorbar": {
             "outlinewidth": 0,
             "ticks": ""
            },
            "colorscale": [
             [
              0,
              "#0d0887"
             ],
             [
              0.1111111111111111,
              "#46039f"
             ],
             [
              0.2222222222222222,
              "#7201a8"
             ],
             [
              0.3333333333333333,
              "#9c179e"
             ],
             [
              0.4444444444444444,
              "#bd3786"
             ],
             [
              0.5555555555555556,
              "#d8576b"
             ],
             [
              0.6666666666666666,
              "#ed7953"
             ],
             [
              0.7777777777777778,
              "#fb9f3a"
             ],
             [
              0.8888888888888888,
              "#fdca26"
             ],
             [
              1,
              "#f0f921"
             ]
            ],
            "type": "surface"
           }
          ],
          "table": [
           {
            "cells": {
             "fill": {
              "color": "#EBF0F8"
             },
             "line": {
              "color": "white"
             }
            },
            "header": {
             "fill": {
              "color": "#C8D4E3"
             },
             "line": {
              "color": "white"
             }
            },
            "type": "table"
           }
          ]
         },
         "layout": {
          "annotationdefaults": {
           "arrowcolor": "#2a3f5f",
           "arrowhead": 0,
           "arrowwidth": 1
          },
          "autotypenumbers": "strict",
          "coloraxis": {
           "colorbar": {
            "outlinewidth": 0,
            "ticks": ""
           }
          },
          "colorscale": {
           "diverging": [
            [
             0,
             "#8e0152"
            ],
            [
             0.1,
             "#c51b7d"
            ],
            [
             0.2,
             "#de77ae"
            ],
            [
             0.3,
             "#f1b6da"
            ],
            [
             0.4,
             "#fde0ef"
            ],
            [
             0.5,
             "#f7f7f7"
            ],
            [
             0.6,
             "#e6f5d0"
            ],
            [
             0.7,
             "#b8e186"
            ],
            [
             0.8,
             "#7fbc41"
            ],
            [
             0.9,
             "#4d9221"
            ],
            [
             1,
             "#276419"
            ]
           ],
           "sequential": [
            [
             0,
             "#0d0887"
            ],
            [
             0.1111111111111111,
             "#46039f"
            ],
            [
             0.2222222222222222,
             "#7201a8"
            ],
            [
             0.3333333333333333,
             "#9c179e"
            ],
            [
             0.4444444444444444,
             "#bd3786"
            ],
            [
             0.5555555555555556,
             "#d8576b"
            ],
            [
             0.6666666666666666,
             "#ed7953"
            ],
            [
             0.7777777777777778,
             "#fb9f3a"
            ],
            [
             0.8888888888888888,
             "#fdca26"
            ],
            [
             1,
             "#f0f921"
            ]
           ],
           "sequentialminus": [
            [
             0,
             "#0d0887"
            ],
            [
             0.1111111111111111,
             "#46039f"
            ],
            [
             0.2222222222222222,
             "#7201a8"
            ],
            [
             0.3333333333333333,
             "#9c179e"
            ],
            [
             0.4444444444444444,
             "#bd3786"
            ],
            [
             0.5555555555555556,
             "#d8576b"
            ],
            [
             0.6666666666666666,
             "#ed7953"
            ],
            [
             0.7777777777777778,
             "#fb9f3a"
            ],
            [
             0.8888888888888888,
             "#fdca26"
            ],
            [
             1,
             "#f0f921"
            ]
           ]
          },
          "colorway": [
           "#636efa",
           "#EF553B",
           "#00cc96",
           "#ab63fa",
           "#FFA15A",
           "#19d3f3",
           "#FF6692",
           "#B6E880",
           "#FF97FF",
           "#FECB52"
          ],
          "font": {
           "color": "#2a3f5f"
          },
          "geo": {
           "bgcolor": "white",
           "lakecolor": "white",
           "landcolor": "#E5ECF6",
           "showlakes": true,
           "showland": true,
           "subunitcolor": "white"
          },
          "hoverlabel": {
           "align": "left"
          },
          "hovermode": "closest",
          "mapbox": {
           "style": "light"
          },
          "paper_bgcolor": "white",
          "plot_bgcolor": "#E5ECF6",
          "polar": {
           "angularaxis": {
            "gridcolor": "white",
            "linecolor": "white",
            "ticks": ""
           },
           "bgcolor": "#E5ECF6",
           "radialaxis": {
            "gridcolor": "white",
            "linecolor": "white",
            "ticks": ""
           }
          },
          "scene": {
           "xaxis": {
            "backgroundcolor": "#E5ECF6",
            "gridcolor": "white",
            "gridwidth": 2,
            "linecolor": "white",
            "showbackground": true,
            "ticks": "",
            "zerolinecolor": "white"
           },
           "yaxis": {
            "backgroundcolor": "#E5ECF6",
            "gridcolor": "white",
            "gridwidth": 2,
            "linecolor": "white",
            "showbackground": true,
            "ticks": "",
            "zerolinecolor": "white"
           },
           "zaxis": {
            "backgroundcolor": "#E5ECF6",
            "gridcolor": "white",
            "gridwidth": 2,
            "linecolor": "white",
            "showbackground": true,
            "ticks": "",
            "zerolinecolor": "white"
           }
          },
          "shapedefaults": {
           "line": {
            "color": "#2a3f5f"
           }
          },
          "ternary": {
           "aaxis": {
            "gridcolor": "white",
            "linecolor": "white",
            "ticks": ""
           },
           "baxis": {
            "gridcolor": "white",
            "linecolor": "white",
            "ticks": ""
           },
           "bgcolor": "#E5ECF6",
           "caxis": {
            "gridcolor": "white",
            "linecolor": "white",
            "ticks": ""
           }
          },
          "title": {
           "x": 0.05
          },
          "xaxis": {
           "automargin": true,
           "gridcolor": "white",
           "linecolor": "white",
           "ticks": "",
           "title": {
            "standoff": 15
           },
           "zerolinecolor": "white",
           "zerolinewidth": 2
          },
          "yaxis": {
           "automargin": true,
           "gridcolor": "white",
           "linecolor": "white",
           "ticks": "",
           "title": {
            "standoff": 15
           },
           "zerolinecolor": "white",
           "zerolinewidth": 2
          }
         }
        },
        "title": {
         "text": "Parallel Coordinate Plot"
        }
       }
      }
     },
     "metadata": {},
     "output_type": "display_data"
    }
   ],
   "source": [
    "optuna.visualization.plot_parallel_coordinate(study)"
   ]
  },
  {
   "cell_type": "code",
   "execution_count": 293,
   "id": "4afa60aa",
   "metadata": {},
   "outputs": [
    {
     "name": "stdout",
     "output_type": "stream",
     "text": [
      "Best trial: {'n_estimators': 98, 'max_depth': 10, 'min_samples_leaf': 3, 'min_samples_split': 5}\n"
     ]
    },
    {
     "data": {
      "text/plain": [
       "98"
      ]
     },
     "execution_count": 293,
     "metadata": {},
     "output_type": "execute_result"
    }
   ],
   "source": [
    "print(\"Best trial:\", study.best_trial.params)\n",
    "study.best_trial.params[\"n_estimators\"]"
   ]
  },
  {
   "cell_type": "code",
   "execution_count": 294,
   "id": "3b45adad",
   "metadata": {},
   "outputs": [
    {
     "data": {
      "text/html": [
       "<style>#sk-container-id-17 {color: black;}#sk-container-id-17 pre{padding: 0;}#sk-container-id-17 div.sk-toggleable {background-color: white;}#sk-container-id-17 label.sk-toggleable__label {cursor: pointer;display: block;width: 100%;margin-bottom: 0;padding: 0.3em;box-sizing: border-box;text-align: center;}#sk-container-id-17 label.sk-toggleable__label-arrow:before {content: \"▸\";float: left;margin-right: 0.25em;color: #696969;}#sk-container-id-17 label.sk-toggleable__label-arrow:hover:before {color: black;}#sk-container-id-17 div.sk-estimator:hover label.sk-toggleable__label-arrow:before {color: black;}#sk-container-id-17 div.sk-toggleable__content {max-height: 0;max-width: 0;overflow: hidden;text-align: left;background-color: #f0f8ff;}#sk-container-id-17 div.sk-toggleable__content pre {margin: 0.2em;color: black;border-radius: 0.25em;background-color: #f0f8ff;}#sk-container-id-17 input.sk-toggleable__control:checked~div.sk-toggleable__content {max-height: 200px;max-width: 100%;overflow: auto;}#sk-container-id-17 input.sk-toggleable__control:checked~label.sk-toggleable__label-arrow:before {content: \"▾\";}#sk-container-id-17 div.sk-estimator input.sk-toggleable__control:checked~label.sk-toggleable__label {background-color: #d4ebff;}#sk-container-id-17 div.sk-label input.sk-toggleable__control:checked~label.sk-toggleable__label {background-color: #d4ebff;}#sk-container-id-17 input.sk-hidden--visually {border: 0;clip: rect(1px 1px 1px 1px);clip: rect(1px, 1px, 1px, 1px);height: 1px;margin: -1px;overflow: hidden;padding: 0;position: absolute;width: 1px;}#sk-container-id-17 div.sk-estimator {font-family: monospace;background-color: #f0f8ff;border: 1px dotted black;border-radius: 0.25em;box-sizing: border-box;margin-bottom: 0.5em;}#sk-container-id-17 div.sk-estimator:hover {background-color: #d4ebff;}#sk-container-id-17 div.sk-parallel-item::after {content: \"\";width: 100%;border-bottom: 1px solid gray;flex-grow: 1;}#sk-container-id-17 div.sk-label:hover label.sk-toggleable__label {background-color: #d4ebff;}#sk-container-id-17 div.sk-serial::before {content: \"\";position: absolute;border-left: 1px solid gray;box-sizing: border-box;top: 0;bottom: 0;left: 50%;z-index: 0;}#sk-container-id-17 div.sk-serial {display: flex;flex-direction: column;align-items: center;background-color: white;padding-right: 0.2em;padding-left: 0.2em;position: relative;}#sk-container-id-17 div.sk-item {position: relative;z-index: 1;}#sk-container-id-17 div.sk-parallel {display: flex;align-items: stretch;justify-content: center;background-color: white;position: relative;}#sk-container-id-17 div.sk-item::before, #sk-container-id-17 div.sk-parallel-item::before {content: \"\";position: absolute;border-left: 1px solid gray;box-sizing: border-box;top: 0;bottom: 0;left: 50%;z-index: -1;}#sk-container-id-17 div.sk-parallel-item {display: flex;flex-direction: column;z-index: 1;position: relative;background-color: white;}#sk-container-id-17 div.sk-parallel-item:first-child::after {align-self: flex-end;width: 50%;}#sk-container-id-17 div.sk-parallel-item:last-child::after {align-self: flex-start;width: 50%;}#sk-container-id-17 div.sk-parallel-item:only-child::after {width: 0;}#sk-container-id-17 div.sk-dashed-wrapped {border: 1px dashed gray;margin: 0 0.4em 0.5em 0.4em;box-sizing: border-box;padding-bottom: 0.4em;background-color: white;}#sk-container-id-17 div.sk-label label {font-family: monospace;font-weight: bold;display: inline-block;line-height: 1.2em;}#sk-container-id-17 div.sk-label-container {text-align: center;}#sk-container-id-17 div.sk-container {/* jupyter's `normalize.less` sets `[hidden] { display: none; }` but bootstrap.min.css set `[hidden] { display: none !important; }` so we also need the `!important` here to be able to override the default hidden behavior on the sphinx rendered scikit-learn.org. See: https://github.com/scikit-learn/scikit-learn/issues/21755 */display: inline-block !important;position: relative;}#sk-container-id-17 div.sk-text-repr-fallback {display: none;}</style><div id=\"sk-container-id-17\" class=\"sk-top-container\"><div class=\"sk-text-repr-fallback\"><pre>RandomForestRegressor(max_depth=10, min_samples_leaf=3, min_samples_split=5,\n",
       "                      n_estimators=98, random_state=42)</pre><b>In a Jupyter environment, please rerun this cell to show the HTML representation or trust the notebook. <br />On GitHub, the HTML representation is unable to render, please try loading this page with nbviewer.org.</b></div><div class=\"sk-container\" hidden><div class=\"sk-item\"><div class=\"sk-estimator sk-toggleable\"><input class=\"sk-toggleable__control sk-hidden--visually\" id=\"sk-estimator-id-17\" type=\"checkbox\" checked><label for=\"sk-estimator-id-17\" class=\"sk-toggleable__label sk-toggleable__label-arrow\">RandomForestRegressor</label><div class=\"sk-toggleable__content\"><pre>RandomForestRegressor(max_depth=10, min_samples_leaf=3, min_samples_split=5,\n",
       "                      n_estimators=98, random_state=42)</pre></div></div></div></div></div>"
      ],
      "text/plain": [
       "RandomForestRegressor(max_depth=10, min_samples_leaf=3, min_samples_split=5,\n",
       "                      n_estimators=98, random_state=42)"
      ]
     },
     "execution_count": 294,
     "metadata": {},
     "output_type": "execute_result"
    }
   ],
   "source": [
    "rf_params = {\n",
    "    \"random_state\": 42,\n",
    "    #\"learning_rate\": 0.1,\n",
    "    \"n_estimators\": study.best_trial.params[\"n_estimators\"],\n",
    "    \"max_depth\": study.best_trial.params[\"max_depth\"],\n",
    "    \"min_samples_leaf\": study.best_trial.params[\"min_samples_leaf\"],\n",
    "    \"min_samples_split\": study.best_trial.params[\"min_samples_split\"],\n",
    "    #\"subsample\": study.best_trial.params[\"subsample\"]\n",
    "}\n",
    "\n",
    "rf = RandomForestRegressor(**rf_params)\n",
    "rf.fit(Cd_X_train, Cd_y_train)"
   ]
  },
  {
   "cell_type": "code",
   "execution_count": 295,
   "id": "9ab1055b",
   "metadata": {},
   "outputs": [],
   "source": [
    "y_train_pred = rf.predict(Cd_X_train)\n",
    "y_test_pred = rf.predict(Cd_X_test)"
   ]
  },
  {
   "cell_type": "code",
   "execution_count": 296,
   "id": "425b4001",
   "metadata": {},
   "outputs": [
    {
     "name": "stdout",
     "output_type": "stream",
     "text": [
      "Train RMSE:  0.0865729370012153\n",
      "Test RMSE:  0.15230895702715214\n"
     ]
    }
   ],
   "source": [
    "print(\"Train RMSE: \", np.sqrt(mean_squared_error(Cd_y_train, y_train_pred)))\n",
    "print(\"Test RMSE: \", np.sqrt(mean_squared_error(Cd_y_test, y_test_pred)))"
   ]
  },
  {
   "cell_type": "code",
   "execution_count": 297,
   "id": "0f95ae3c",
   "metadata": {},
   "outputs": [
    {
     "name": "stdout",
     "output_type": "stream",
     "text": [
      "Train R2:  0.8409878893441753\n",
      "Test R2:  0.428371845297536\n"
     ]
    }
   ],
   "source": [
    "print(\"Train R2: \", r2_score(Cd_y_train, y_train_pred))\n",
    "print(\"Test R2: \", r2_score(Cd_y_test, y_test_pred))"
   ]
  },
  {
   "cell_type": "code",
   "execution_count": 298,
   "id": "aa0a517d",
   "metadata": {},
   "outputs": [
    {
     "data": {
      "image/png": "[encoded data removed]",
      "text/plain": [
       "<Figure size 640x480 with 1 Axes>"
      ]
     },
     "metadata": {},
     "output_type": "display_data"
    }
   ],
   "source": [
    "plt.scatter(y_train_pred, np.array(Cd_y_train), color=\"orange\", alpha=0.3)\n",
    "plt.scatter(y_test_pred, np.array(Cd_y_test), color=\"green\", alpha=0.4)\n",
    "plt.axis(\"auto\") # scaled, tight, auto, image, square\n",
    "# plt.xlim([0, 1.5]) \n",
    "# plt.ylim(0, None) \n",
    "plt.xlabel('Predicted Values')\n",
    "plt.ylabel('Actual Values')\n",
    "\n",
    "# Add y=x line\n",
    "plt.plot([0, 0.5], [0, 0.5], color='red', linestyle='-')\n",
    "\n",
    "plt.show()"
   ]
  },
  {
   "attachments": {},
   "cell_type": "markdown",
   "id": "74f680ea",
   "metadata": {},
   "source": [
    "Ni"
   ]
  },
  {
   "cell_type": "code",
   "execution_count": 299,
   "id": "de233338",
   "metadata": {},
   "outputs": [
    {
     "name": "stderr",
     "output_type": "stream",
     "text": [
      "\u001b[32m[I 2023-08-27 23:08:59,734]\u001b[0m A new study created in memory with name: rf_parameter_opt\u001b[0m\n",
      "\u001b[32m[I 2023-08-27 23:09:00,615]\u001b[0m Trial 0 finished with value: 0.4653532998638146 and parameters: {'n_estimators': 37, 'max_depth': 5, 'min_samples_leaf': 8, 'min_samples_split': 11}. Best is trial 0 with value: 0.4653532998638146.\u001b[0m\n",
      "\u001b[32m[I 2023-08-27 23:09:01,031]\u001b[0m Trial 1 finished with value: 0.4806133644848273 and parameters: {'n_estimators': 15, 'max_depth': 6, 'min_samples_leaf': 1, 'min_samples_split': 19}. Best is trial 1 with value: 0.4806133644848273.\u001b[0m\n",
      "\u001b[32m[I 2023-08-27 23:09:02,796]\u001b[0m Trial 2 finished with value: 0.5332453836805209 and parameters: {'n_estimators': 63, 'max_depth': 7, 'min_samples_leaf': 6, 'min_samples_split': 12}. Best is trial 2 with value: 0.5332453836805209.\u001b[0m\n",
      "\u001b[32m[I 2023-08-27 23:09:03,044]\u001b[0m Trial 3 finished with value: 0.3096520777492507 and parameters: {'n_estimators': 15, 'max_depth': 3, 'min_samples_leaf': 20, 'min_samples_split': 17}. Best is trial 2 with value: 0.5332453836805209.\u001b[0m\n",
      "\u001b[32m[I 2023-08-27 23:09:05,494]\u001b[0m Trial 4 finished with value: 0.5191006207276285 and parameters: {'n_estimators': 87, 'max_depth': 8, 'min_samples_leaf': 8, 'min_samples_split': 12}. Best is trial 2 with value: 0.5332453836805209.\u001b[0m\n",
      "\u001b[32m[I 2023-08-27 23:09:07,604]\u001b[0m Trial 5 finished with value: 0.46770721134178056 and parameters: {'n_estimators': 89, 'max_depth': 5, 'min_samples_leaf': 2, 'min_samples_split': 19}. Best is trial 2 with value: 0.5332453836805209.\u001b[0m\n",
      "\u001b[32m[I 2023-08-27 23:09:09,229]\u001b[0m Trial 6 finished with value: 0.41619384554462446 and parameters: {'n_estimators': 72, 'max_depth': 6, 'min_samples_leaf': 17, 'min_samples_split': 3}. Best is trial 2 with value: 0.5332453836805209.\u001b[0m\n",
      "\u001b[32m[I 2023-08-27 23:09:09,902]\u001b[0m Trial 7 finished with value: 0.1186587676044226 and parameters: {'n_estimators': 75, 'max_depth': 1, 'min_samples_leaf': 3, 'min_samples_split': 7}. Best is trial 2 with value: 0.5332453836805209.\u001b[0m\n",
      "\u001b[32m[I 2023-08-27 23:09:10,273]\u001b[0m Trial 8 finished with value: 0.33899752388883275 and parameters: {'n_estimators': 22, 'max_depth': 3, 'min_samples_leaf': 4, 'min_samples_split': 9}. Best is trial 2 with value: 0.5332453836805209.\u001b[0m\n",
      "\u001b[32m[I 2023-08-27 23:09:11,045]\u001b[0m Trial 9 finished with value: 0.50786191974777 and parameters: {'n_estimators': 28, 'max_depth': 6, 'min_samples_leaf': 3, 'min_samples_split': 8}. Best is trial 2 with value: 0.5332453836805209.\u001b[0m\n",
      "\u001b[32m[I 2023-08-27 23:09:12,267]\u001b[0m Trial 10 finished with value: 0.4569463729363859 and parameters: {'n_estimators': 51, 'max_depth': 10, 'min_samples_leaf': 13, 'min_samples_split': 13}. Best is trial 2 with value: 0.5332453836805209.\u001b[0m\n",
      "\u001b[32m[I 2023-08-27 23:09:14,802]\u001b[0m Trial 11 finished with value: 0.4936840619638151 and parameters: {'n_estimators': 95, 'max_depth': 9, 'min_samples_leaf': 10, 'min_samples_split': 14}. Best is trial 2 with value: 0.5332453836805209.\u001b[0m\n",
      "\u001b[32m[I 2023-08-27 23:09:16,682]\u001b[0m Trial 12 finished with value: 0.5314096833720066 and parameters: {'n_estimators': 65, 'max_depth': 8, 'min_samples_leaf': 7, 'min_samples_split': 15}. Best is trial 2 with value: 0.5332453836805209.\u001b[0m\n",
      "\u001b[32m[I 2023-08-27 23:09:18,457]\u001b[0m Trial 13 finished with value: 0.5325795770746705 and parameters: {'n_estimators': 60, 'max_depth': 8, 'min_samples_leaf': 6, 'min_samples_split': 16}. Best is trial 2 with value: 0.5332453836805209.\u001b[0m\n",
      "\u001b[32m[I 2023-08-27 23:09:19,845]\u001b[0m Trial 14 finished with value: 0.5378391680662873 and parameters: {'n_estimators': 49, 'max_depth': 8, 'min_samples_leaf': 6, 'min_samples_split': 16}. Best is trial 14 with value: 0.5378391680662873.\u001b[0m\n",
      "\u001b[32m[I 2023-08-27 23:09:20,903]\u001b[0m Trial 15 finished with value: 0.45686739216033184 and parameters: {'n_estimators': 46, 'max_depth': 7, 'min_samples_leaf': 13, 'min_samples_split': 5}. Best is trial 14 with value: 0.5378391680662873.\u001b[0m\n",
      "\u001b[32m[I 2023-08-27 23:09:21,887]\u001b[0m Trial 16 finished with value: 0.48067273270001165 and parameters: {'n_estimators': 39, 'max_depth': 10, 'min_samples_leaf': 11, 'min_samples_split': 11}. Best is trial 14 with value: 0.5378391680662873.\u001b[0m\n",
      "\u001b[32m[I 2023-08-27 23:09:22,989]\u001b[0m Trial 17 finished with value: 0.421676814213843 and parameters: {'n_estimators': 56, 'max_depth': 4, 'min_samples_leaf': 5, 'min_samples_split': 17}. Best is trial 14 with value: 0.5378391680662873.\u001b[0m\n",
      "\u001b[32m[I 2023-08-27 23:09:24,854]\u001b[0m Trial 18 finished with value: 0.4836182227686206 and parameters: {'n_estimators': 75, 'max_depth': 7, 'min_samples_leaf': 10, 'min_samples_split': 20}. Best is trial 14 with value: 0.5378391680662873.\u001b[0m\n",
      "\u001b[32m[I 2023-08-27 23:09:26,065]\u001b[0m Trial 19 finished with value: 0.5541474481312616 and parameters: {'n_estimators': 40, 'max_depth': 9, 'min_samples_leaf': 6, 'min_samples_split': 9}. Best is trial 19 with value: 0.5541474481312616.\u001b[0m\n",
      "\u001b[32m[I 2023-08-27 23:09:26,832]\u001b[0m Trial 20 finished with value: 0.45133742012474787 and parameters: {'n_estimators': 32, 'max_depth': 9, 'min_samples_leaf': 13, 'min_samples_split': 6}. Best is trial 19 with value: 0.5541474481312616.\u001b[0m\n",
      "\u001b[32m[I 2023-08-27 23:09:28,227]\u001b[0m Trial 21 finished with value: 0.5548255762147771 and parameters: {'n_estimators': 45, 'max_depth': 9, 'min_samples_leaf': 6, 'min_samples_split': 10}. Best is trial 21 with value: 0.5548255762147771.\u001b[0m\n",
      "\u001b[32m[I 2023-08-27 23:09:29,536]\u001b[0m Trial 22 finished with value: 0.5222845688450234 and parameters: {'n_estimators': 46, 'max_depth': 9, 'min_samples_leaf': 8, 'min_samples_split': 10}. Best is trial 21 with value: 0.5548255762147771.\u001b[0m\n",
      "\u001b[32m[I 2023-08-27 23:09:30,997]\u001b[0m Trial 23 finished with value: 0.5671935594498552 and parameters: {'n_estimators': 43, 'max_depth': 10, 'min_samples_leaf': 5, 'min_samples_split': 8}. Best is trial 23 with value: 0.5671935594498552.\u001b[0m\n",
      "\u001b[32m[I 2023-08-27 23:09:32,450]\u001b[0m Trial 24 finished with value: 0.5749098464181069 and parameters: {'n_estimators': 40, 'max_depth': 10, 'min_samples_leaf': 4, 'min_samples_split': 5}. Best is trial 24 with value: 0.5749098464181069.\u001b[0m\n",
      "\u001b[32m[I 2023-08-27 23:09:33,653]\u001b[0m Trial 25 finished with value: 0.5865580934902932 and parameters: {'n_estimators': 28, 'max_depth': 10, 'min_samples_leaf': 1, 'min_samples_split': 2}. Best is trial 25 with value: 0.5865580934902932.\u001b[0m\n",
      "\u001b[32m[I 2023-08-27 23:09:34,836]\u001b[0m Trial 26 finished with value: 0.585287381245043 and parameters: {'n_estimators': 27, 'max_depth': 10, 'min_samples_leaf': 1, 'min_samples_split': 2}. Best is trial 25 with value: 0.5865580934902932.\u001b[0m\n",
      "\u001b[32m[I 2023-08-27 23:09:35,891]\u001b[0m Trial 27 finished with value: 0.5847975837051942 and parameters: {'n_estimators': 25, 'max_depth': 10, 'min_samples_leaf': 1, 'min_samples_split': 2}. Best is trial 25 with value: 0.5865580934902932.\u001b[0m\n",
      "\u001b[32m[I 2023-08-27 23:09:36,828]\u001b[0m Trial 28 finished with value: 0.584088536577782 and parameters: {'n_estimators': 23, 'max_depth': 10, 'min_samples_leaf': 1, 'min_samples_split': 3}. Best is trial 25 with value: 0.5865580934902932.\u001b[0m\n",
      "\u001b[32m[I 2023-08-27 23:09:37,297]\u001b[0m Trial 29 finished with value: 0.5684428331524388 and parameters: {'n_estimators': 10, 'max_depth': 10, 'min_samples_leaf': 1, 'min_samples_split': 2}. Best is trial 25 with value: 0.5865580934902932.\u001b[0m\n",
      "\u001b[32m[I 2023-08-27 23:09:38,435]\u001b[0m Trial 30 finished with value: 0.5710460271660251 and parameters: {'n_estimators': 32, 'max_depth': 9, 'min_samples_leaf': 3, 'min_samples_split': 2}. Best is trial 25 with value: 0.5865580934902932.\u001b[0m\n",
      "\u001b[32m[I 2023-08-27 23:09:39,353]\u001b[0m Trial 31 finished with value: 0.5794243006955083 and parameters: {'n_estimators': 23, 'max_depth': 10, 'min_samples_leaf': 1, 'min_samples_split': 4}. Best is trial 25 with value: 0.5865580934902932.\u001b[0m\n",
      "\u001b[32m[I 2023-08-27 23:09:40,264]\u001b[0m Trial 32 finished with value: 0.5846344008689307 and parameters: {'n_estimators': 21, 'max_depth': 10, 'min_samples_leaf': 1, 'min_samples_split': 3}. Best is trial 25 with value: 0.5865580934902932.\u001b[0m\n",
      "\u001b[32m[I 2023-08-27 23:09:40,892]\u001b[0m Trial 33 finished with value: 0.5777056760668096 and parameters: {'n_estimators': 17, 'max_depth': 9, 'min_samples_leaf': 2, 'min_samples_split': 4}. Best is trial 25 with value: 0.5865580934902932.\u001b[0m\n",
      "\u001b[32m[I 2023-08-27 23:09:42,008]\u001b[0m Trial 34 finished with value: 0.5685594133745566 and parameters: {'n_estimators': 30, 'max_depth': 8, 'min_samples_leaf': 2, 'min_samples_split': 2}. Best is trial 25 with value: 0.5865580934902932.\u001b[0m\n",
      "\u001b[32m[I 2023-08-27 23:09:42,367]\u001b[0m Trial 35 finished with value: 0.526500146854527 and parameters: {'n_estimators': 11, 'max_depth': 7, 'min_samples_leaf': 1, 'min_samples_split': 4}. Best is trial 25 with value: 0.5865580934902932.\u001b[0m\n",
      "\u001b[32m[I 2023-08-27 23:09:42,981]\u001b[0m Trial 36 finished with value: 0.5636620040484507 and parameters: {'n_estimators': 18, 'max_depth': 10, 'min_samples_leaf': 4, 'min_samples_split': 3}. Best is trial 25 with value: 0.5865580934902932.\u001b[0m\n",
      "\u001b[32m[I 2023-08-27 23:09:44,248]\u001b[0m Trial 37 finished with value: 0.5752262660434126 and parameters: {'n_estimators': 35, 'max_depth': 9, 'min_samples_leaf': 2, 'min_samples_split': 6}. Best is trial 25 with value: 0.5865580934902932.\u001b[0m\n",
      "\u001b[32m[I 2023-08-27 23:09:44,506]\u001b[0m Trial 38 finished with value: 0.11825810912087602 and parameters: {'n_estimators': 26, 'max_depth': 1, 'min_samples_leaf': 16, 'min_samples_split': 2}. Best is trial 25 with value: 0.5865580934902932.\u001b[0m\n",
      "\u001b[32m[I 2023-08-27 23:09:44,773]\u001b[0m Trial 39 finished with value: 0.24456882016449813 and parameters: {'n_estimators': 19, 'max_depth': 2, 'min_samples_leaf': 3, 'min_samples_split': 5}. Best is trial 25 with value: 0.5865580934902932.\u001b[0m\n",
      "\u001b[32m[I 2023-08-27 23:09:45,124]\u001b[0m Trial 40 finished with value: 0.4747155742751835 and parameters: {'n_estimators': 14, 'max_depth': 5, 'min_samples_leaf': 2, 'min_samples_split': 3}. Best is trial 25 with value: 0.5865580934902932.\u001b[0m\n",
      "\u001b[32m[I 2023-08-27 23:09:46,217]\u001b[0m Trial 41 finished with value: 0.587305859507069 and parameters: {'n_estimators': 25, 'max_depth': 10, 'min_samples_leaf': 1, 'min_samples_split': 3}. Best is trial 41 with value: 0.587305859507069.\u001b[0m\n",
      "\u001b[32m[I 2023-08-27 23:09:47,322]\u001b[0m Trial 42 finished with value: 0.5838075220553406 and parameters: {'n_estimators': 27, 'max_depth': 10, 'min_samples_leaf': 1, 'min_samples_split': 4}. Best is trial 41 with value: 0.587305859507069.\u001b[0m\n",
      "\u001b[32m[I 2023-08-27 23:09:48,570]\u001b[0m Trial 43 finished with value: 0.5741255537707121 and parameters: {'n_estimators': 35, 'max_depth': 10, 'min_samples_leaf': 3, 'min_samples_split': 2}. Best is trial 41 with value: 0.587305859507069.\u001b[0m\n",
      "\u001b[32m[I 2023-08-27 23:09:49,280]\u001b[0m Trial 44 finished with value: 0.56060562858431 and parameters: {'n_estimators': 21, 'max_depth': 9, 'min_samples_leaf': 4, 'min_samples_split': 6}. Best is trial 41 with value: 0.587305859507069.\u001b[0m\n",
      "\u001b[32m[I 2023-08-27 23:09:49,756]\u001b[0m Trial 45 finished with value: 0.5632462302709498 and parameters: {'n_estimators': 14, 'max_depth': 8, 'min_samples_leaf': 2, 'min_samples_split': 3}. Best is trial 41 with value: 0.587305859507069.\u001b[0m\n",
      "\u001b[32m[I 2023-08-27 23:09:50,797]\u001b[0m Trial 46 finished with value: 0.587305859507069 and parameters: {'n_estimators': 25, 'max_depth': 10, 'min_samples_leaf': 1, 'min_samples_split': 3}. Best is trial 41 with value: 0.587305859507069.\u001b[0m\n",
      "\u001b[32m[I 2023-08-27 23:09:51,263]\u001b[0m Trial 47 finished with value: 0.36268435302555874 and parameters: {'n_estimators': 27, 'max_depth': 4, 'min_samples_leaf': 20, 'min_samples_split': 7}. Best is trial 41 with value: 0.587305859507069.\u001b[0m\n",
      "\u001b[32m[I 2023-08-27 23:09:52,391]\u001b[0m Trial 48 finished with value: 0.5628483311928034 and parameters: {'n_estimators': 36, 'max_depth': 9, 'min_samples_leaf': 5, 'min_samples_split': 5}. Best is trial 41 with value: 0.587305859507069.\u001b[0m\n",
      "\u001b[32m[I 2023-08-27 23:09:53,407]\u001b[0m Trial 49 finished with value: 0.5630093418732527 and parameters: {'n_estimators': 32, 'max_depth': 8, 'min_samples_leaf': 3, 'min_samples_split': 4}. Best is trial 41 with value: 0.587305859507069.\u001b[0m\n",
      "\u001b[32m[I 2023-08-27 23:09:54,471]\u001b[0m Trial 50 finished with value: 0.5855683213680757 and parameters: {'n_estimators': 27, 'max_depth': 10, 'min_samples_leaf': 2, 'min_samples_split': 2}. Best is trial 41 with value: 0.587305859507069.\u001b[0m\n",
      "\u001b[32m[I 2023-08-27 23:09:55,403]\u001b[0m Trial 51 finished with value: 0.5817373804987003 and parameters: {'n_estimators': 24, 'max_depth': 10, 'min_samples_leaf': 2, 'min_samples_split': 2}. Best is trial 41 with value: 0.587305859507069.\u001b[0m\n",
      "\u001b[32m[I 2023-08-27 23:09:56,639]\u001b[0m Trial 52 finished with value: 0.590115328581635 and parameters: {'n_estimators': 30, 'max_depth': 10, 'min_samples_leaf': 1, 'min_samples_split': 3}. Best is trial 52 with value: 0.590115328581635.\u001b[0m\n",
      "\u001b[32m[I 2023-08-27 23:09:57,775]\u001b[0m Trial 53 finished with value: 0.5800943600515976 and parameters: {'n_estimators': 31, 'max_depth': 9, 'min_samples_leaf': 2, 'min_samples_split': 4}. Best is trial 52 with value: 0.590115328581635.\u001b[0m\n",
      "\u001b[32m[I 2023-08-27 23:09:58,828]\u001b[0m Trial 54 finished with value: 0.5768291334549127 and parameters: {'n_estimators': 29, 'max_depth': 10, 'min_samples_leaf': 3, 'min_samples_split': 3}. Best is trial 52 with value: 0.590115328581635.\u001b[0m\n",
      "\u001b[32m[I 2023-08-27 23:10:01,622]\u001b[0m Trial 55 finished with value: 0.5721492608761293 and parameters: {'n_estimators': 86, 'max_depth': 9, 'min_samples_leaf': 4, 'min_samples_split': 5}. Best is trial 52 with value: 0.590115328581635.\u001b[0m\n",
      "\u001b[32m[I 2023-08-27 23:10:03,134]\u001b[0m Trial 56 finished with value: 0.5882667550044195 and parameters: {'n_estimators': 38, 'max_depth': 10, 'min_samples_leaf': 2, 'min_samples_split': 3}. Best is trial 52 with value: 0.590115328581635.\u001b[0m\n",
      "\u001b[32m[I 2023-08-27 23:10:04,631]\u001b[0m Trial 57 finished with value: 0.5048113749700714 and parameters: {'n_estimators': 52, 'max_depth': 8, 'min_samples_leaf': 9, 'min_samples_split': 7}. Best is trial 52 with value: 0.590115328581635.\u001b[0m\n",
      "\u001b[32m[I 2023-08-27 23:10:05,672]\u001b[0m Trial 58 finished with value: 0.4999542892333363 and parameters: {'n_estimators': 41, 'max_depth': 6, 'min_samples_leaf': 7, 'min_samples_split': 6}. Best is trial 52 with value: 0.590115328581635.\u001b[0m\n",
      "\u001b[32m[I 2023-08-27 23:10:06,883]\u001b[0m Trial 59 finished with value: 0.5593742919190262 and parameters: {'n_estimators': 37, 'max_depth': 9, 'min_samples_leaf': 4, 'min_samples_split': 12}. Best is trial 52 with value: 0.590115328581635.\u001b[0m\n",
      "\u001b[32m[I 2023-08-27 23:10:08,087]\u001b[0m Trial 60 finished with value: 0.5750804253298639 and parameters: {'n_estimators': 33, 'max_depth': 10, 'min_samples_leaf': 3, 'min_samples_split': 3}. Best is trial 52 with value: 0.590115328581635.\u001b[0m\n",
      "\u001b[32m[I 2023-08-27 23:10:09,273]\u001b[0m Trial 61 finished with value: 0.5865715529174118 and parameters: {'n_estimators': 28, 'max_depth': 10, 'min_samples_leaf': 2, 'min_samples_split': 2}. Best is trial 52 with value: 0.590115328581635.\u001b[0m\n",
      "\u001b[32m[I 2023-08-27 23:10:10,073]\u001b[0m Trial 62 finished with value: 0.5809948100336791 and parameters: {'n_estimators': 20, 'max_depth': 10, 'min_samples_leaf': 2, 'min_samples_split': 4}. Best is trial 52 with value: 0.590115328581635.\u001b[0m\n",
      "\u001b[32m[I 2023-08-27 23:10:10,608]\u001b[0m Trial 63 finished with value: 0.560707281081231 and parameters: {'n_estimators': 16, 'max_depth': 10, 'min_samples_leaf': 5, 'min_samples_split': 3}. Best is trial 52 with value: 0.590115328581635.\u001b[0m\n",
      "\u001b[32m[I 2023-08-27 23:10:11,780]\u001b[0m Trial 64 finished with value: 0.5803959495261932 and parameters: {'n_estimators': 29, 'max_depth': 9, 'min_samples_leaf': 1, 'min_samples_split': 2}. Best is trial 52 with value: 0.590115328581635.\u001b[0m\n",
      "\u001b[32m[I 2023-08-27 23:10:12,315]\u001b[0m Trial 65 finished with value: 0.4096223633783125 and parameters: {'n_estimators': 24, 'max_depth': 10, 'min_samples_leaf': 18, 'min_samples_split': 13}. Best is trial 52 with value: 0.590115328581635.\u001b[0m\n",
      "\u001b[32m[I 2023-08-27 23:10:13,661]\u001b[0m Trial 66 finished with value: 0.5707604160127415 and parameters: {'n_estimators': 38, 'max_depth': 9, 'min_samples_leaf': 3, 'min_samples_split': 3}. Best is trial 52 with value: 0.590115328581635.\u001b[0m\n",
      "\u001b[32m[I 2023-08-27 23:10:16,125]\u001b[0m Trial 67 finished with value: 0.5904014304698412 and parameters: {'n_estimators': 65, 'max_depth': 10, 'min_samples_leaf': 2, 'min_samples_split': 5}. Best is trial 67 with value: 0.5904014304698412.\u001b[0m\n",
      "\u001b[32m[I 2023-08-27 23:10:18,622]\u001b[0m Trial 68 finished with value: 0.5931678363891967 and parameters: {'n_estimators': 63, 'max_depth': 10, 'min_samples_leaf': 1, 'min_samples_split': 5}. Best is trial 68 with value: 0.5931678363891967.\u001b[0m\n",
      "\u001b[32m[I 2023-08-27 23:10:20,175]\u001b[0m Trial 69 finished with value: 0.4468786579718387 and parameters: {'n_estimators': 65, 'max_depth': 9, 'min_samples_leaf': 14, 'min_samples_split': 5}. Best is trial 68 with value: 0.5931678363891967.\u001b[0m\n",
      "\u001b[32m[I 2023-08-27 23:10:22,237]\u001b[0m Trial 70 finished with value: 0.5762899939017077 and parameters: {'n_estimators': 60, 'max_depth': 10, 'min_samples_leaf': 4, 'min_samples_split': 5}. Best is trial 68 with value: 0.5931678363891967.\u001b[0m\n",
      "\u001b[32m[I 2023-08-27 23:10:25,065]\u001b[0m Trial 71 finished with value: 0.5958961904997604 and parameters: {'n_estimators': 69, 'max_depth': 10, 'min_samples_leaf': 1, 'min_samples_split': 4}. Best is trial 71 with value: 0.5958961904997604.\u001b[0m\n",
      "\u001b[32m[I 2023-08-27 23:10:27,965]\u001b[0m Trial 72 finished with value: 0.5958961904997604 and parameters: {'n_estimators': 69, 'max_depth': 10, 'min_samples_leaf': 1, 'min_samples_split': 4}. Best is trial 71 with value: 0.5958961904997604.\u001b[0m\n",
      "\u001b[32m[I 2023-08-27 23:10:30,576]\u001b[0m Trial 73 finished with value: 0.5857423363595853 and parameters: {'n_estimators': 71, 'max_depth': 9, 'min_samples_leaf': 1, 'min_samples_split': 6}. Best is trial 71 with value: 0.5958961904997604.\u001b[0m\n",
      "\u001b[32m[I 2023-08-27 23:10:33,414]\u001b[0m Trial 74 finished with value: 0.5958961904997604 and parameters: {'n_estimators': 69, 'max_depth': 10, 'min_samples_leaf': 1, 'min_samples_split': 4}. Best is trial 71 with value: 0.5958961904997604.\u001b[0m\n",
      "\u001b[32m[I 2023-08-27 23:10:36,329]\u001b[0m Trial 75 finished with value: 0.5822323761665879 and parameters: {'n_estimators': 77, 'max_depth': 10, 'min_samples_leaf': 2, 'min_samples_split': 8}. Best is trial 71 with value: 0.5958961904997604.\u001b[0m\n",
      "\u001b[32m[I 2023-08-27 23:10:39,238]\u001b[0m Trial 76 finished with value: 0.5954181244179841 and parameters: {'n_estimators': 70, 'max_depth': 10, 'min_samples_leaf': 1, 'min_samples_split': 4}. Best is trial 71 with value: 0.5958961904997604.\u001b[0m\n",
      "\u001b[32m[I 2023-08-27 23:10:41,598]\u001b[0m Trial 77 finished with value: 0.5826300921652624 and parameters: {'n_estimators': 70, 'max_depth': 9, 'min_samples_leaf': 3, 'min_samples_split': 4}. Best is trial 71 with value: 0.5958961904997604.\u001b[0m\n",
      "\u001b[32m[I 2023-08-27 23:10:44,404]\u001b[0m Trial 78 finished with value: 0.5837847463738219 and parameters: {'n_estimators': 79, 'max_depth': 9, 'min_samples_leaf': 1, 'min_samples_split': 6}. Best is trial 71 with value: 0.5958961904997604.\u001b[0m\n",
      "\u001b[32m[I 2023-08-27 23:10:45,725]\u001b[0m Trial 79 finished with value: 0.42709726899073513 and parameters: {'n_estimators': 68, 'max_depth': 4, 'min_samples_leaf': 2, 'min_samples_split': 5}. Best is trial 71 with value: 0.5958961904997604.\u001b[0m\n",
      "\u001b[32m[I 2023-08-27 23:10:47,993]\u001b[0m Trial 80 finished with value: 0.590757836419636 and parameters: {'n_estimators': 59, 'max_depth': 10, 'min_samples_leaf': 1, 'min_samples_split': 7}. Best is trial 71 with value: 0.5958961904997604.\u001b[0m\n",
      "\u001b[32m[I 2023-08-27 23:10:50,225]\u001b[0m Trial 81 finished with value: 0.5892310041859069 and parameters: {'n_estimators': 60, 'max_depth': 10, 'min_samples_leaf': 1, 'min_samples_split': 7}. Best is trial 71 with value: 0.5958961904997604.\u001b[0m\n",
      "\u001b[32m[I 2023-08-27 23:10:52,358]\u001b[0m Trial 82 finished with value: 0.5817360584386055 and parameters: {'n_estimators': 58, 'max_depth': 10, 'min_samples_leaf': 1, 'min_samples_split': 9}. Best is trial 71 with value: 0.5958961904997604.\u001b[0m\n",
      "\u001b[32m[I 2023-08-27 23:10:54,729]\u001b[0m Trial 83 finished with value: 0.5889061475623446 and parameters: {'n_estimators': 63, 'max_depth': 10, 'min_samples_leaf': 1, 'min_samples_split': 7}. Best is trial 71 with value: 0.5958961904997604.\u001b[0m\n",
      "\u001b[32m[I 2023-08-27 23:10:57,316]\u001b[0m Trial 84 finished with value: 0.5890575565199673 and parameters: {'n_estimators': 66, 'max_depth': 10, 'min_samples_leaf': 1, 'min_samples_split': 7}. Best is trial 71 with value: 0.5958961904997604.\u001b[0m\n",
      "\u001b[32m[I 2023-08-27 23:10:59,231]\u001b[0m Trial 85 finished with value: 0.4791854620814574 and parameters: {'n_estimators': 74, 'max_depth': 10, 'min_samples_leaf': 11, 'min_samples_split': 8}. Best is trial 71 with value: 0.5958961904997604.\u001b[0m\n",
      "\u001b[32m[I 2023-08-27 23:11:01,499]\u001b[0m Trial 86 finished with value: 0.5894338858021015 and parameters: {'n_estimators': 61, 'max_depth': 9, 'min_samples_leaf': 1, 'min_samples_split': 5}. Best is trial 71 with value: 0.5958961904997604.\u001b[0m\n",
      "\u001b[32m[I 2023-08-27 23:11:02,786]\u001b[0m Trial 87 finished with value: 0.48274616149955224 and parameters: {'n_estimators': 54, 'max_depth': 5, 'min_samples_leaf': 3, 'min_samples_split': 4}. Best is trial 71 with value: 0.5958961904997604.\u001b[0m\n",
      "\u001b[32m[I 2023-08-27 23:11:05,013]\u001b[0m Trial 88 finished with value: 0.5862856588292833 and parameters: {'n_estimators': 63, 'max_depth': 9, 'min_samples_leaf': 2, 'min_samples_split': 5}. Best is trial 71 with value: 0.5958961904997604.\u001b[0m\n",
      "\u001b[32m[I 2023-08-27 23:11:05,842]\u001b[0m Trial 89 finished with value: 0.24205076853609767 and parameters: {'n_estimators': 68, 'max_depth': 2, 'min_samples_leaf': 3, 'min_samples_split': 6}. Best is trial 71 with value: 0.5958961904997604.\u001b[0m\n",
      "\u001b[32m[I 2023-08-27 23:11:08,060]\u001b[0m Trial 90 finished with value: 0.5952795535223421 and parameters: {'n_estimators': 57, 'max_depth': 10, 'min_samples_leaf': 1, 'min_samples_split': 4}. Best is trial 71 with value: 0.5958961904997604.\u001b[0m\n",
      "\u001b[32m[I 2023-08-27 23:11:10,305]\u001b[0m Trial 91 finished with value: 0.5952795535223421 and parameters: {'n_estimators': 57, 'max_depth': 10, 'min_samples_leaf': 1, 'min_samples_split': 4}. Best is trial 71 with value: 0.5958961904997604.\u001b[0m\n",
      "\u001b[32m[I 2023-08-27 23:11:12,479]\u001b[0m Trial 92 finished with value: 0.5928090261743939 and parameters: {'n_estimators': 57, 'max_depth': 10, 'min_samples_leaf': 2, 'min_samples_split': 4}. Best is trial 71 with value: 0.5958961904997604.\u001b[0m\n",
      "\u001b[32m[I 2023-08-27 23:11:14,611]\u001b[0m Trial 93 finished with value: 0.5928090261743939 and parameters: {'n_estimators': 57, 'max_depth': 10, 'min_samples_leaf': 2, 'min_samples_split': 4}. Best is trial 71 with value: 0.5958961904997604.\u001b[0m\n",
      "\u001b[32m[I 2023-08-27 23:11:16,339]\u001b[0m Trial 94 finished with value: 0.5532726172423852 and parameters: {'n_estimators': 57, 'max_depth': 7, 'min_samples_leaf': 2, 'min_samples_split': 4}. Best is trial 71 with value: 0.5958961904997604.\u001b[0m\n",
      "\u001b[32m[I 2023-08-27 23:11:18,321]\u001b[0m Trial 95 finished with value: 0.5923563012293703 and parameters: {'n_estimators': 50, 'max_depth': 10, 'min_samples_leaf': 1, 'min_samples_split': 4}. Best is trial 71 with value: 0.5958961904997604.\u001b[0m\n",
      "\u001b[32m[I 2023-08-27 23:11:20,113]\u001b[0m Trial 96 finished with value: 0.592045010452696 and parameters: {'n_estimators': 48, 'max_depth': 10, 'min_samples_leaf': 2, 'min_samples_split': 4}. Best is trial 71 with value: 0.5958961904997604.\u001b[0m\n",
      "\u001b[32m[I 2023-08-27 23:11:21,958]\u001b[0m Trial 97 finished with value: 0.579527047720204 and parameters: {'n_estimators': 55, 'max_depth': 9, 'min_samples_leaf': 3, 'min_samples_split': 4}. Best is trial 71 with value: 0.5958961904997604.\u001b[0m\n",
      "\u001b[32m[I 2023-08-27 23:11:23,669]\u001b[0m Trial 98 finished with value: 0.5399375261343096 and parameters: {'n_estimators': 50, 'max_depth': 10, 'min_samples_leaf': 1, 'min_samples_split': 19}. Best is trial 71 with value: 0.5958961904997604.\u001b[0m\n",
      "\u001b[32m[I 2023-08-27 23:11:25,674]\u001b[0m Trial 99 finished with value: 0.5923719478635501 and parameters: {'n_estimators': 53, 'max_depth': 10, 'min_samples_leaf': 2, 'min_samples_split': 4}. Best is trial 71 with value: 0.5958961904997604.\u001b[0m\n"
     ]
    },
    {
     "name": "stdout",
     "output_type": "stream",
     "text": [
      "Best r2:  0.5958961904997604\n",
      "Best trial: {'n_estimators': 69, 'max_depth': 10, 'min_samples_leaf': 1, 'min_samples_split': 4}\n"
     ]
    }
   ],
   "source": [
    "sampler = TPESampler()\n",
    "study = optuna.create_study(\n",
    "    study_name=\"rf_parameter_opt\",\n",
    "    direction=\"maximize\",\n",
    "    sampler=sampler,\n",
    ")\n",
    "\n",
    "study.optimize(lambda trial : objectiveRF(trial, Ni_X_train, Ni_y_train), n_trials=100)\n",
    "print(\"Best r2: \", study.best_value)\n",
    "print(\"Best trial:\", study.best_trial.params)"
   ]
  },
  {
   "cell_type": "code",
   "execution_count": 300,
   "id": "d71c01fb",
   "metadata": {},
   "outputs": [
    {
     "data": {
      "application/vnd.plotly.v1+json": {
       "config": {
        "plotlyServerURL": "https://plot.ly"
       },
       "data": [
        {
         "dimensions": [
          {
           "label": "Objective Value",
           "range": [
            0.11825810912087602,
            0.5958961904997604
           ],
           "values": [
            0.4653532998638146,
            0.4806133644848273,
            0.5332453836805209,
            0.3096520777492507,
            0.5191006207276285,
            0.46770721134178056,
            0.41619384554462446,
            0.1186587676044226,
            0.33899752388883275,
            0.50786191974777,
            0.4569463729363859,
            0.4936840619638151,
            0.5314096833720066,
            0.5325795770746705,
            0.5378391680662873,
            0.45686739216033184,
            0.48067273270001165,
            0.421676814213843,
            0.4836182227686206,
            0.5541474481312616,
            0.45133742012474787,
            0.5548255762147771,
            0.5222845688450234,
            0.5671935594498552,
            0.5749098464181069,
            0.5865580934902932,
            0.585287381245043,
            0.5847975837051942,
            0.584088536577782,
            0.5684428331524388,
            0.5710460271660251,
            0.5794243006955083,
            0.5846344008689307,
            0.5777056760668096,
            0.5685594133745566,
            0.526500146854527,
            0.5636620040484507,
            0.5752262660434126,
            0.11825810912087602,
            0.24456882016449813,
            0.4747155742751835,
            0.587305859507069,
            0.5838075220553406,
            0.5741255537707121,
            0.56060562858431,
            0.5632462302709498,
            0.587305859507069,
            0.36268435302555874,
            0.5628483311928034,
            0.5630093418732527,
            0.5855683213680757,
            0.5817373804987003,
            0.590115328581635,
            0.5800943600515976,
            0.5768291334549127,
            0.5721492608761293,
            0.5882667550044195,
            0.5048113749700714,
            0.4999542892333363,
            0.5593742919190262,
            0.5750804253298639,
            0.5865715529174118,
            0.5809948100336791,
            0.560707281081231,
            0.5803959495261932,
            0.4096223633783125,
            0.5707604160127415,
            0.5904014304698412,
            0.5931678363891967,
            0.4468786579718387,
            0.5762899939017077,
            0.5958961904997604,
            0.5958961904997604,
            0.5857423363595853,
            0.5958961904997604,
            0.5822323761665879,
            0.5954181244179841,
            0.5826300921652624,
            0.5837847463738219,
            0.42709726899073513,
            0.590757836419636,
            0.5892310041859069,
            0.5817360584386055,
            0.5889061475623446,
            0.5890575565199673,
            0.4791854620814574,
            0.5894338858021015,
            0.48274616149955224,
            0.5862856588292833,
            0.24205076853609767,
            0.5952795535223421,
            0.5952795535223421,
            0.5928090261743939,
            0.5928090261743939,
            0.5532726172423852,
            0.5923563012293703,
            0.592045010452696,
            0.579527047720204,
            0.5399375261343096,
            0.5923719478635501
           ]
          },
          {
           "label": "max_depth",
           "range": [
            1,
            10
           ],
           "values": [
            5,
            6,
            7,
            3,
            8,
            5,
            6,
            1,
            3,
            6,
            10,
            9,
            8,
            8,
            8,
            7,
            10,
            4,
            7,
            9,
            9,
            9,
            9,
            10,
            10,
            10,
            10,
            10,
            10,
            10,
            9,
            10,
            10,
            9,
            8,
            7,
            10,
            9,
            1,
            2,
            5,
            10,
            10,
            10,
            9,
            8,
            10,
            4,
            9,
            8,
            10,
            10,
            10,
            9,
            10,
            9,
            10,
            8,
            6,
            9,
            10,
            10,
            10,
            10,
            9,
            10,
            9,
            10,
            10,
            9,
            10,
            10,
            10,
            9,
            10,
            10,
            10,
            9,
            9,
            4,
            10,
            10,
            10,
            10,
            10,
            10,
            9,
            5,
            9,
            2,
            10,
            10,
            10,
            10,
            7,
            10,
            10,
            9,
            10,
            10
           ]
          },
          {
           "label": "min_samples_leaf",
           "range": [
            1,
            20
           ],
           "values": [
            8,
            1,
            6,
            20,
            8,
            2,
            17,
            3,
            4,
            3,
            13,
            10,
            7,
            6,
            6,
            13,
            11,
            5,
            10,
            6,
            13,
            6,
            8,
            5,
            4,
            1,
            1,
            1,
            1,
            1,
            3,
            1,
            1,
            2,
            2,
            1,
            4,
            2,
            16,
            3,
            2,
            1,
            1,
            3,
            4,
            2,
            1,
            20,
            5,
            3,
            2,
            2,
            1,
            2,
            3,
            4,
            2,
            9,
            7,
            4,
            3,
            2,
            2,
            5,
            1,
            18,
            3,
            2,
            1,
            14,
            4,
            1,
            1,
            1,
            1,
            2,
            1,
            3,
            1,
            2,
            1,
            1,
            1,
            1,
            1,
            11,
            1,
            3,
            2,
            3,
            1,
            1,
            2,
            2,
            2,
            1,
            2,
            3,
            1,
            2
           ]
          },
          {
           "label": "min_samples_split",
           "range": [
            2,
            20
           ],
           "values": [
            11,
            19,
            12,
            17,
            12,
            19,
            3,
            7,
            9,
            8,
            13,
            14,
            15,
            16,
            16,
            5,
            11,
            17,
            20,
            9,
            6,
            10,
            10,
            8,
            5,
            2,
            2,
            2,
            3,
            2,
            2,
            4,
            3,
            4,
            2,
            4,
            3,
            6,
            2,
            5,
            3,
            3,
            4,
            2,
            6,
            3,
            3,
            7,
            5,
            4,
            2,
            2,
            3,
            4,
            3,
            5,
            3,
            7,
            6,
            12,
            3,
            2,
            4,
            3,
            2,
            13,
            3,
            5,
            5,
            5,
            5,
            4,
            4,
            6,
            4,
            8,
            4,
            4,
            6,
            5,
            7,
            7,
            9,
            7,
            7,
            8,
            5,
            4,
            5,
            6,
            4,
            4,
            4,
            4,
            4,
            4,
            4,
            4,
            19,
            4
           ]
          },
          {
           "label": "n_estimators",
           "range": [
            10,
            95
           ],
           "values": [
            37,
            15,
            63,
            15,
            87,
            89,
            72,
            75,
            22,
            28,
            51,
            95,
            65,
            60,
            49,
            46,
            39,
            56,
            75,
            40,
            32,
            45,
            46,
            43,
            40,
            28,
            27,
            25,
            23,
            10,
            32,
            23,
            21,
            17,
            30,
            11,
            18,
            35,
            26,
            19,
            14,
            25,
            27,
            35,
            21,
            14,
            25,
            27,
            36,
            32,
            27,
            24,
            30,
            31,
            29,
            86,
            38,
            52,
            41,
            37,
            33,
            28,
            20,
            16,
            29,
            24,
            38,
            65,
            63,
            65,
            60,
            69,
            69,
            71,
            69,
            77,
            70,
            70,
            79,
            68,
            59,
            60,
            58,
            63,
            66,
            74,
            61,
            54,
            63,
            68,
            57,
            57,
            57,
            57,
            57,
            50,
            48,
            55,
            50,
            53
           ]
          }
         ],
         "labelangle": 30,
         "labelside": "bottom",
         "line": {
          "color": [
           0.4653532998638146,
           0.4806133644848273,
           0.5332453836805209,
           0.3096520777492507,
           0.5191006207276285,
           0.46770721134178056,
           0.41619384554462446,
           0.1186587676044226,
           0.33899752388883275,
           0.50786191974777,
           0.4569463729363859,
           0.4936840619638151,
           0.5314096833720066,
           0.5325795770746705,
           0.5378391680662873,
           0.45686739216033184,
           0.48067273270001165,
           0.421676814213843,
           0.4836182227686206,
           0.5541474481312616,
           0.45133742012474787,
           0.5548255762147771,
           0.5222845688450234,
           0.5671935594498552,
           0.5749098464181069,
           0.5865580934902932,
           0.585287381245043,
           0.5847975837051942,
           0.584088536577782,
           0.5684428331524388,
           0.5710460271660251,
           0.5794243006955083,
           0.5846344008689307,
           0.5777056760668096,
           0.5685594133745566,
           0.526500146854527,
           0.5636620040484507,
           0.5752262660434126,
           0.11825810912087602,
           0.24456882016449813,
           0.4747155742751835,
           0.587305859507069,
           0.5838075220553406,
           0.5741255537707121,
           0.56060562858431,
           0.5632462302709498,
           0.587305859507069,
           0.36268435302555874,
           0.5628483311928034,
           0.5630093418732527,
           0.5855683213680757,
           0.5817373804987003,
           0.590115328581635,
           0.5800943600515976,
           0.5768291334549127,
           0.5721492608761293,
           0.5882667550044195,
           0.5048113749700714,
           0.4999542892333363,
           0.5593742919190262,
           0.5750804253298639,
           0.5865715529174118,
           0.5809948100336791,
           0.560707281081231,
           0.5803959495261932,
           0.4096223633783125,
           0.5707604160127415,
           0.5904014304698412,
           0.5931678363891967,
           0.4468786579718387,
           0.5762899939017077,
           0.5958961904997604,
           0.5958961904997604,
           0.5857423363595853,
           0.5958961904997604,
           0.5822323761665879,
           0.5954181244179841,
           0.5826300921652624,
           0.5837847463738219,
           0.42709726899073513,
           0.590757836419636,
           0.5892310041859069,
           0.5817360584386055,
           0.5889061475623446,
           0.5890575565199673,
           0.4791854620814574,
           0.5894338858021015,
           0.48274616149955224,
           0.5862856588292833,
           0.24205076853609767,
           0.5952795535223421,
           0.5952795535223421,
           0.5928090261743939,
           0.5928090261743939,
           0.5532726172423852,
           0.5923563012293703,
           0.592045010452696,
           0.579527047720204,
           0.5399375261343096,
           0.5923719478635501
          ],
          "colorbar": {
           "title": {
            "text": "Objective Value"
           }
          },
          "colorscale": [
           [
            0,
            "rgb(247,251,255)"
           ],
           [
            0.125,
            "rgb(222,235,247)"
           ],
           [
            0.25,
            "rgb(198,219,239)"
           ],
           [
            0.375,
            "rgb(158,202,225)"
           ],
           [
            0.5,
            "rgb(107,174,214)"
           ],
           [
            0.625,
            "rgb(66,146,198)"
           ],
           [
            0.75,
            "rgb(33,113,181)"
           ],
           [
            0.875,
            "rgb(8,81,156)"
           ],
           [
            1,
            "rgb(8,48,107)"
           ]
          ],
          "reversescale": false,
          "showscale": true
         },
         "type": "parcoords"
        }
       ],
       "layout": {
        "template": {
         "data": {
          "bar": [
           {
            "error_x": {
             "color": "#2a3f5f"
            },
            "error_y": {
             "color": "#2a3f5f"
            },
            "marker": {
             "line": {
              "color": "#E5ECF6",
              "width": 0.5
             },
             "pattern": {
              "fillmode": "overlay",
              "size": 10,
              "solidity": 0.2
             }
            },
            "type": "bar"
           }
          ],
          "barpolar": [
           {
            "marker": {
             "line": {
              "color": "#E5ECF6",
              "width": 0.5
             },
             "pattern": {
              "fillmode": "overlay",
              "size": 10,
              "solidity": 0.2
             }
            },
            "type": "barpolar"
           }
          ],
          "carpet": [
           {
            "aaxis": {
             "endlinecolor": "#2a3f5f",
             "gridcolor": "white",
             "linecolor": "white",
             "minorgridcolor": "white",
             "startlinecolor": "#2a3f5f"
            },
            "baxis": {
             "endlinecolor": "#2a3f5f",
             "gridcolor": "white",
             "linecolor": "white",
             "minorgridcolor": "white",
             "startlinecolor": "#2a3f5f"
            },
            "type": "carpet"
           }
          ],
          "choropleth": [
           {
            "colorbar": {
             "outlinewidth": 0,
             "ticks": ""
            },
            "type": "choropleth"
           }
          ],
          "contour": [
           {
            "colorbar": {
             "outlinewidth": 0,
             "ticks": ""
            },
            "colorscale": [
             [
              0,
              "#0d0887"
             ],
             [
              0.1111111111111111,
              "#46039f"
             ],
             [
              0.2222222222222222,
              "#7201a8"
             ],
             [
              0.3333333333333333,
              "#9c179e"
             ],
             [
              0.4444444444444444,
              "#bd3786"
             ],
             [
              0.5555555555555556,
              "#d8576b"
             ],
             [
              0.6666666666666666,
              "#ed7953"
             ],
             [
              0.7777777777777778,
              "#fb9f3a"
             ],
             [
              0.8888888888888888,
              "#fdca26"
             ],
             [
              1,
              "#f0f921"
             ]
            ],
            "type": "contour"
           }
          ],
          "contourcarpet": [
           {
            "colorbar": {
             "outlinewidth": 0,
             "ticks": ""
            },
            "type": "contourcarpet"
           }
          ],
          "heatmap": [
           {
            "colorbar": {
             "outlinewidth": 0,
             "ticks": ""
            },
            "colorscale": [
             [
              0,
              "#0d0887"
             ],
             [
              0.1111111111111111,
              "#46039f"
             ],
             [
              0.2222222222222222,
              "#7201a8"
             ],
             [
              0.3333333333333333,
              "#9c179e"
             ],
             [
              0.4444444444444444,
              "#bd3786"
             ],
             [
              0.5555555555555556,
              "#d8576b"
             ],
             [
              0.6666666666666666,
              "#ed7953"
             ],
             [
              0.7777777777777778,
              "#fb9f3a"
             ],
             [
              0.8888888888888888,
              "#fdca26"
             ],
             [
              1,
              "#f0f921"
             ]
            ],
            "type": "heatmap"
           }
          ],
          "heatmapgl": [
           {
            "colorbar": {
             "outlinewidth": 0,
             "ticks": ""
            },
            "colorscale": [
             [
              0,
              "#0d0887"
             ],
             [
              0.1111111111111111,
              "#46039f"
             ],
             [
              0.2222222222222222,
              "#7201a8"
             ],
             [
              0.3333333333333333,
              "#9c179e"
             ],
             [
              0.4444444444444444,
              "#bd3786"
             ],
             [
              0.5555555555555556,
              "#d8576b"
             ],
             [
              0.6666666666666666,
              "#ed7953"
             ],
             [
              0.7777777777777778,
              "#fb9f3a"
             ],
             [
              0.8888888888888888,
              "#fdca26"
             ],
             [
              1,
              "#f0f921"
             ]
            ],
            "type": "heatmapgl"
           }
          ],
          "histogram": [
           {
            "marker": {
             "pattern": {
              "fillmode": "overlay",
              "size": 10,
              "solidity": 0.2
             }
            },
            "type": "histogram"
           }
          ],
          "histogram2d": [
           {
            "colorbar": {
             "outlinewidth": 0,
             "ticks": ""
            },
            "colorscale": [
             [
              0,
              "#0d0887"
             ],
             [
              0.1111111111111111,
              "#46039f"
             ],
             [
              0.2222222222222222,
              "#7201a8"
             ],
             [
              0.3333333333333333,
              "#9c179e"
             ],
             [
              0.4444444444444444,
              "#bd3786"
             ],
             [
              0.5555555555555556,
              "#d8576b"
             ],
             [
              0.6666666666666666,
              "#ed7953"
             ],
             [
              0.7777777777777778,
              "#fb9f3a"
             ],
             [
              0.8888888888888888,
              "#fdca26"
             ],
             [
              1,
              "#f0f921"
             ]
            ],
            "type": "histogram2d"
           }
          ],
          "histogram2dcontour": [
           {
            "colorbar": {
             "outlinewidth": 0,
             "ticks": ""
            },
            "colorscale": [
             [
              0,
              "#0d0887"
             ],
             [
              0.1111111111111111,
              "#46039f"
             ],
             [
              0.2222222222222222,
              "#7201a8"
             ],
             [
              0.3333333333333333,
              "#9c179e"
             ],
             [
              0.4444444444444444,
              "#bd3786"
             ],
             [
              0.5555555555555556,
              "#d8576b"
             ],
             [
              0.6666666666666666,
              "#ed7953"
             ],
             [
              0.7777777777777778,
              "#fb9f3a"
             ],
             [
              0.8888888888888888,
              "#fdca26"
             ],
             [
              1,
              "#f0f921"
             ]
            ],
            "type": "histogram2dcontour"
           }
          ],
          "mesh3d": [
           {
            "colorbar": {
             "outlinewidth": 0,
             "ticks": ""
            },
            "type": "mesh3d"
           }
          ],
          "parcoords": [
           {
            "line": {
             "colorbar": {
              "outlinewidth": 0,
              "ticks": ""
             }
            },
            "type": "parcoords"
           }
          ],
          "pie": [
           {
            "automargin": true,
            "type": "pie"
           }
          ],
          "scatter": [
           {
            "marker": {
             "colorbar": {
              "outlinewidth": 0,
              "ticks": ""
             }
            },
            "type": "scatter"
           }
          ],
          "scatter3d": [
           {
            "line": {
             "colorbar": {
              "outlinewidth": 0,
              "ticks": ""
             }
            },
            "marker": {
             "colorbar": {
              "outlinewidth": 0,
              "ticks": ""
             }
            },
            "type": "scatter3d"
           }
          ],
          "scattercarpet": [
           {
            "marker": {
             "colorbar": {
              "outlinewidth": 0,
              "ticks": ""
             }
            },
            "type": "scattercarpet"
           }
          ],
          "scattergeo": [
           {
            "marker": {
             "colorbar": {
              "outlinewidth": 0,
              "ticks": ""
             }
            },
            "type": "scattergeo"
           }
          ],
          "scattergl": [
           {
            "marker": {
             "colorbar": {
              "outlinewidth": 0,
              "ticks": ""
             }
            },
            "type": "scattergl"
           }
          ],
          "scattermapbox": [
           {
            "marker": {
             "colorbar": {
              "outlinewidth": 0,
              "ticks": ""
             }
            },
            "type": "scattermapbox"
           }
          ],
          "scatterpolar": [
           {
            "marker": {
             "colorbar": {
              "outlinewidth": 0,
              "ticks": ""
             }
            },
            "type": "scatterpolar"
           }
          ],
          "scatterpolargl": [
           {
            "marker": {
             "colorbar": {
              "outlinewidth": 0,
              "ticks": ""
             }
            },
            "type": "scatterpolargl"
           }
          ],
          "scatterternary": [
           {
            "marker": {
             "colorbar": {
              "outlinewidth": 0,
              "ticks": ""
             }
            },
            "type": "scatterternary"
           }
          ],
          "surface": [
           {
            "colorbar": {
             "outlinewidth": 0,
             "ticks": ""
            },
            "colorscale": [
             [
              0,
              "#0d0887"
             ],
             [
              0.1111111111111111,
              "#46039f"
             ],
             [
              0.2222222222222222,
              "#7201a8"
             ],
             [
              0.3333333333333333,
              "#9c179e"
             ],
             [
              0.4444444444444444,
              "#bd3786"
             ],
             [
              0.5555555555555556,
              "#d8576b"
             ],
             [
              0.6666666666666666,
              "#ed7953"
             ],
             [
              0.7777777777777778,
              "#fb9f3a"
             ],
             [
              0.8888888888888888,
              "#fdca26"
             ],
             [
              1,
              "#f0f921"
             ]
            ],
            "type": "surface"
           }
          ],
          "table": [
           {
            "cells": {
             "fill": {
              "color": "#EBF0F8"
             },
             "line": {
              "color": "white"
             }
            },
            "header": {
             "fill": {
              "color": "#C8D4E3"
             },
             "line": {
              "color": "white"
             }
            },
            "type": "table"
           }
          ]
         },
         "layout": {
          "annotationdefaults": {
           "arrowcolor": "#2a3f5f",
           "arrowhead": 0,
           "arrowwidth": 1
          },
          "autotypenumbers": "strict",
          "coloraxis": {
           "colorbar": {
            "outlinewidth": 0,
            "ticks": ""
           }
          },
          "colorscale": {
           "diverging": [
            [
             0,
             "#8e0152"
            ],
            [
             0.1,
             "#c51b7d"
            ],
            [
             0.2,
             "#de77ae"
            ],
            [
             0.3,
             "#f1b6da"
            ],
            [
             0.4,
             "#fde0ef"
            ],
            [
             0.5,
             "#f7f7f7"
            ],
            [
             0.6,
             "#e6f5d0"
            ],
            [
             0.7,
             "#b8e186"
            ],
            [
             0.8,
             "#7fbc41"
            ],
            [
             0.9,
             "#4d9221"
            ],
            [
             1,
             "#276419"
            ]
           ],
           "sequential": [
            [
             0,
             "#0d0887"
            ],
            [
             0.1111111111111111,
             "#46039f"
            ],
            [
             0.2222222222222222,
             "#7201a8"
            ],
            [
             0.3333333333333333,
             "#9c179e"
            ],
            [
             0.4444444444444444,
             "#bd3786"
            ],
            [
             0.5555555555555556,
             "#d8576b"
            ],
            [
             0.6666666666666666,
             "#ed7953"
            ],
            [
             0.7777777777777778,
             "#fb9f3a"
            ],
            [
             0.8888888888888888,
             "#fdca26"
            ],
            [
             1,
             "#f0f921"
            ]
           ],
           "sequentialminus": [
            [
             0,
             "#0d0887"
            ],
            [
             0.1111111111111111,
             "#46039f"
            ],
            [
             0.2222222222222222,
             "#7201a8"
            ],
            [
             0.3333333333333333,
             "#9c179e"
            ],
            [
             0.4444444444444444,
             "#bd3786"
            ],
            [
             0.5555555555555556,
             "#d8576b"
            ],
            [
             0.6666666666666666,
             "#ed7953"
            ],
            [
             0.7777777777777778,
             "#fb9f3a"
            ],
            [
             0.8888888888888888,
             "#fdca26"
            ],
            [
             1,
             "#f0f921"
            ]
           ]
          },
          "colorway": [
           "#636efa",
           "#EF553B",
           "#00cc96",
           "#ab63fa",
           "#FFA15A",
           "#19d3f3",
           "#FF6692",
           "#B6E880",
           "#FF97FF",
           "#FECB52"
          ],
          "font": {
           "color": "#2a3f5f"
          },
          "geo": {
           "bgcolor": "white",
           "lakecolor": "white",
           "landcolor": "#E5ECF6",
           "showlakes": true,
           "showland": true,
           "subunitcolor": "white"
          },
          "hoverlabel": {
           "align": "left"
          },
          "hovermode": "closest",
          "mapbox": {
           "style": "light"
          },
          "paper_bgcolor": "white",
          "plot_bgcolor": "#E5ECF6",
          "polar": {
           "angularaxis": {
            "gridcolor": "white",
            "linecolor": "white",
            "ticks": ""
           },
           "bgcolor": "#E5ECF6",
           "radialaxis": {
            "gridcolor": "white",
            "linecolor": "white",
            "ticks": ""
           }
          },
          "scene": {
           "xaxis": {
            "backgroundcolor": "#E5ECF6",
            "gridcolor": "white",
            "gridwidth": 2,
            "linecolor": "white",
            "showbackground": true,
            "ticks": "",
            "zerolinecolor": "white"
           },
           "yaxis": {
            "backgroundcolor": "#E5ECF6",
            "gridcolor": "white",
            "gridwidth": 2,
            "linecolor": "white",
            "showbackground": true,
            "ticks": "",
            "zerolinecolor": "white"
           },
           "zaxis": {
            "backgroundcolor": "#E5ECF6",
            "gridcolor": "white",
            "gridwidth": 2,
            "linecolor": "white",
            "showbackground": true,
            "ticks": "",
            "zerolinecolor": "white"
           }
          },
          "shapedefaults": {
           "line": {
            "color": "#2a3f5f"
           }
          },
          "ternary": {
           "aaxis": {
            "gridcolor": "white",
            "linecolor": "white",
            "ticks": ""
           },
           "baxis": {
            "gridcolor": "white",
            "linecolor": "white",
            "ticks": ""
           },
           "bgcolor": "#E5ECF6",
           "caxis": {
            "gridcolor": "white",
            "linecolor": "white",
            "ticks": ""
           }
          },
          "title": {
           "x": 0.05
          },
          "xaxis": {
           "automargin": true,
           "gridcolor": "white",
           "linecolor": "white",
           "ticks": "",
           "title": {
            "standoff": 15
           },
           "zerolinecolor": "white",
           "zerolinewidth": 2
          },
          "yaxis": {
           "automargin": true,
           "gridcolor": "white",
           "linecolor": "white",
           "ticks": "",
           "title": {
            "standoff": 15
           },
           "zerolinecolor": "white",
           "zerolinewidth": 2
          }
         }
        },
        "title": {
         "text": "Parallel Coordinate Plot"
        }
       }
      }
     },
     "metadata": {},
     "output_type": "display_data"
    }
   ],
   "source": [
    "optuna.visualization.plot_parallel_coordinate(study)"
   ]
  },
  {
   "cell_type": "code",
   "execution_count": 301,
   "id": "1d419df8",
   "metadata": {},
   "outputs": [
    {
     "name": "stdout",
     "output_type": "stream",
     "text": [
      "Best trial: {'n_estimators': 69, 'max_depth': 10, 'min_samples_leaf': 1, 'min_samples_split': 4}\n"
     ]
    },
    {
     "data": {
      "text/plain": [
       "69"
      ]
     },
     "execution_count": 301,
     "metadata": {},
     "output_type": "execute_result"
    }
   ],
   "source": [
    "print(\"Best trial:\", study.best_trial.params)\n",
    "study.best_trial.params[\"n_estimators\"]"
   ]
  },
  {
   "cell_type": "code",
   "execution_count": 302,
   "id": "ffefef6c",
   "metadata": {},
   "outputs": [
    {
     "data": {
      "text/html": [
       "<style>#sk-container-id-18 {color: black;}#sk-container-id-18 pre{padding: 0;}#sk-container-id-18 div.sk-toggleable {background-color: white;}#sk-container-id-18 label.sk-toggleable__label {cursor: pointer;display: block;width: 100%;margin-bottom: 0;padding: 0.3em;box-sizing: border-box;text-align: center;}#sk-container-id-18 label.sk-toggleable__label-arrow:before {content: \"▸\";float: left;margin-right: 0.25em;color: #696969;}#sk-container-id-18 label.sk-toggleable__label-arrow:hover:before {color: black;}#sk-container-id-18 div.sk-estimator:hover label.sk-toggleable__label-arrow:before {color: black;}#sk-container-id-18 div.sk-toggleable__content {max-height: 0;max-width: 0;overflow: hidden;text-align: left;background-color: #f0f8ff;}#sk-container-id-18 div.sk-toggleable__content pre {margin: 0.2em;color: black;border-radius: 0.25em;background-color: #f0f8ff;}#sk-container-id-18 input.sk-toggleable__control:checked~div.sk-toggleable__content {max-height: 200px;max-width: 100%;overflow: auto;}#sk-container-id-18 input.sk-toggleable__control:checked~label.sk-toggleable__label-arrow:before {content: \"▾\";}#sk-container-id-18 div.sk-estimator input.sk-toggleable__control:checked~label.sk-toggleable__label {background-color: #d4ebff;}#sk-container-id-18 div.sk-label input.sk-toggleable__control:checked~label.sk-toggleable__label {background-color: #d4ebff;}#sk-container-id-18 input.sk-hidden--visually {border: 0;clip: rect(1px 1px 1px 1px);clip: rect(1px, 1px, 1px, 1px);height: 1px;margin: -1px;overflow: hidden;padding: 0;position: absolute;width: 1px;}#sk-container-id-18 div.sk-estimator {font-family: monospace;background-color: #f0f8ff;border: 1px dotted black;border-radius: 0.25em;box-sizing: border-box;margin-bottom: 0.5em;}#sk-container-id-18 div.sk-estimator:hover {background-color: #d4ebff;}#sk-container-id-18 div.sk-parallel-item::after {content: \"\";width: 100%;border-bottom: 1px solid gray;flex-grow: 1;}#sk-container-id-18 div.sk-label:hover label.sk-toggleable__label {background-color: #d4ebff;}#sk-container-id-18 div.sk-serial::before {content: \"\";position: absolute;border-left: 1px solid gray;box-sizing: border-box;top: 0;bottom: 0;left: 50%;z-index: 0;}#sk-container-id-18 div.sk-serial {display: flex;flex-direction: column;align-items: center;background-color: white;padding-right: 0.2em;padding-left: 0.2em;position: relative;}#sk-container-id-18 div.sk-item {position: relative;z-index: 1;}#sk-container-id-18 div.sk-parallel {display: flex;align-items: stretch;justify-content: center;background-color: white;position: relative;}#sk-container-id-18 div.sk-item::before, #sk-container-id-18 div.sk-parallel-item::before {content: \"\";position: absolute;border-left: 1px solid gray;box-sizing: border-box;top: 0;bottom: 0;left: 50%;z-index: -1;}#sk-container-id-18 div.sk-parallel-item {display: flex;flex-direction: column;z-index: 1;position: relative;background-color: white;}#sk-container-id-18 div.sk-parallel-item:first-child::after {align-self: flex-end;width: 50%;}#sk-container-id-18 div.sk-parallel-item:last-child::after {align-self: flex-start;width: 50%;}#sk-container-id-18 div.sk-parallel-item:only-child::after {width: 0;}#sk-container-id-18 div.sk-dashed-wrapped {border: 1px dashed gray;margin: 0 0.4em 0.5em 0.4em;box-sizing: border-box;padding-bottom: 0.4em;background-color: white;}#sk-container-id-18 div.sk-label label {font-family: monospace;font-weight: bold;display: inline-block;line-height: 1.2em;}#sk-container-id-18 div.sk-label-container {text-align: center;}#sk-container-id-18 div.sk-container {/* jupyter's `normalize.less` sets `[hidden] { display: none; }` but bootstrap.min.css set `[hidden] { display: none !important; }` so we also need the `!important` here to be able to override the default hidden behavior on the sphinx rendered scikit-learn.org. See: https://github.com/scikit-learn/scikit-learn/issues/21755 */display: inline-block !important;position: relative;}#sk-container-id-18 div.sk-text-repr-fallback {display: none;}</style><div id=\"sk-container-id-18\" class=\"sk-top-container\"><div class=\"sk-text-repr-fallback\"><pre>RandomForestRegressor(max_depth=10, min_samples_split=4, n_estimators=69,\n",
       "                      random_state=42)</pre><b>In a Jupyter environment, please rerun this cell to show the HTML representation or trust the notebook. <br />On GitHub, the HTML representation is unable to render, please try loading this page with nbviewer.org.</b></div><div class=\"sk-container\" hidden><div class=\"sk-item\"><div class=\"sk-estimator sk-toggleable\"><input class=\"sk-toggleable__control sk-hidden--visually\" id=\"sk-estimator-id-18\" type=\"checkbox\" checked><label for=\"sk-estimator-id-18\" class=\"sk-toggleable__label sk-toggleable__label-arrow\">RandomForestRegressor</label><div class=\"sk-toggleable__content\"><pre>RandomForestRegressor(max_depth=10, min_samples_split=4, n_estimators=69,\n",
       "                      random_state=42)</pre></div></div></div></div></div>"
      ],
      "text/plain": [
       "RandomForestRegressor(max_depth=10, min_samples_split=4, n_estimators=69,\n",
       "                      random_state=42)"
      ]
     },
     "execution_count": 302,
     "metadata": {},
     "output_type": "execute_result"
    }
   ],
   "source": [
    "rf_params = {\n",
    "    \"random_state\": 42,\n",
    "    #\"learning_rate\": 0.1,\n",
    "    \"n_estimators\": study.best_trial.params[\"n_estimators\"],\n",
    "    \"max_depth\": study.best_trial.params[\"max_depth\"],\n",
    "    \"min_samples_leaf\": study.best_trial.params[\"min_samples_leaf\"],\n",
    "    \"min_samples_split\": study.best_trial.params[\"min_samples_split\"],\n",
    "    #\"subsample\": study.best_trial.params[\"subsample\"]\n",
    "}\n",
    "\n",
    "rf = RandomForestRegressor(**rf_params)\n",
    "rf.fit(Ni_X_train, Ni_y_train)"
   ]
  },
  {
   "cell_type": "code",
   "execution_count": 303,
   "id": "4c1a69d2",
   "metadata": {},
   "outputs": [],
   "source": [
    "y_train_pred = rf.predict(Ni_X_train)\n",
    "y_test_pred = rf.predict(Ni_X_test)"
   ]
  },
  {
   "cell_type": "code",
   "execution_count": 304,
   "id": "0f707a20",
   "metadata": {},
   "outputs": [
    {
     "name": "stdout",
     "output_type": "stream",
     "text": [
      "Train RMSE:  0.3510505602889888\n",
      "Test RMSE:  0.9370122635663368\n"
     ]
    }
   ],
   "source": [
    "print(\"Train RMSE: \", np.sqrt(mean_squared_error(Ni_y_train, y_train_pred)))\n",
    "print(\"Test RMSE: \", np.sqrt(mean_squared_error(Ni_y_test, y_test_pred)))"
   ]
  },
  {
   "cell_type": "code",
   "execution_count": 305,
   "id": "641d78f4",
   "metadata": {},
   "outputs": [
    {
     "name": "stdout",
     "output_type": "stream",
     "text": [
      "Train R2:  0.9145687368228386\n",
      "Test R2:  0.36757546523559126\n"
     ]
    }
   ],
   "source": [
    "print(\"Train R2: \", r2_score(Ni_y_train, y_train_pred))\n",
    "print(\"Test R2: \", r2_score(Ni_y_test, y_test_pred))"
   ]
  },
  {
   "cell_type": "code",
   "execution_count": 306,
   "id": "dd1670cb",
   "metadata": {},
   "outputs": [
    {
     "data": {
      "image/png": "[encoded data removed]",
      "text/plain": [
       "<Figure size 640x480 with 1 Axes>"
      ]
     },
     "metadata": {},
     "output_type": "display_data"
    }
   ],
   "source": [
    "plt.scatter(y_train_pred, np.array(Ni_y_train), color=\"orange\", alpha=0.3)\n",
    "plt.scatter(y_test_pred, np.array(Ni_y_test), color=\"green\", alpha=0.4)\n",
    "plt.axis(\"auto\") # scaled, tight, auto, image, square\n",
    "# plt.xlim([0, 1.5]) \n",
    "# plt.ylim(0, None) \n",
    "plt.xlabel('Predicted Values')\n",
    "plt.ylabel('Actual Values')\n",
    "\n",
    "# Add y=x line\n",
    "plt.plot([0, 4.0], [0, 4.0], color='red', linestyle='-')\n",
    "\n",
    "plt.show()"
   ]
  }
 ],
 "metadata": {
  "kernelspec": {
   "display_name": "base",
   "language": "python",
   "name": "python3"
  },
  "language_info": {
   "codemirror_mode": {
    "name": "ipython",
    "version": 3
   },
   "file_extension": ".py",
   "mimetype": "text/x-python",
   "name": "python",
   "nbconvert_exporter": "python",
   "pygments_lexer": "ipython3",
   "version": "3.8.11"
  },
  "vscode": {
   "interpreter": {
    "hash": "ba68d4d491ed2bf1e98a1b536323f5ca7371de2084cca3d5786e07ce079a51c3"
   }
  }
 },
 "nbformat": 4,
 "nbformat_minor": 5
}
