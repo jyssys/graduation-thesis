{
 "cells": [
  {
   "attachments": {},
   "cell_type": "markdown",
   "id": "451911be",
   "metadata": {},
   "source": [
    "#### Library import"
   ]
  },
  {
   "cell_type": "code",
   "execution_count": 1,
   "id": "8a394942",
   "metadata": {},
   "outputs": [],
   "source": [
    "import os\n",
    "import pandas as pd\n",
    "import numpy as np\n",
    "import matplotlib.pyplot as plt\n",
    "%matplotlib inline\n",
    "import seaborn as sns\n",
    "import tensorflow as tf\n",
    "import missingno as msno\n",
    "\n",
    "import warnings\n",
    "warnings.filterwarnings('ignore')\n",
    "\n",
    "from sklearn.model_selection import train_test_split\n",
    "from sklearn.model_selection import GridSearchCV\n",
    "from sklearn.metrics import mean_squared_error, r2_score\n",
    "from sklearn.preprocessing import StandardScaler, MinMaxScaler, RobustScaler\n",
    "from sklearn.ensemble import RandomForestRegressor, GradientBoostingRegressor, ExtraTreesRegressor\n",
    "from sklearn.model_selection import KFold\n",
    "from lightgbm import LGBMRegressor\n",
    "from xgboost import XGBRegressor\n",
    "from ngboost import NGBRegressor\n",
    "from scipy.stats import norm, skew\n",
    "\n",
    "from matplotlib.ticker import FormatStrFormatter\n",
    "\n",
    "from tensorflow import keras\n",
    "\n",
    "import re\n",
    "from tqdm import tqdm"
   ]
  },
  {
   "attachments": {},
   "cell_type": "markdown",
   "id": "31a13d68",
   "metadata": {},
   "source": [
    "#### GPU setting"
   ]
  },
  {
   "cell_type": "code",
   "execution_count": 2,
   "id": "cd001f36",
   "metadata": {},
   "outputs": [],
   "source": [
    "from tensorflow.compat.v1 import ConfigProto\n",
    "from tensorflow.compat.v1 import InteractiveSession"
   ]
  },
  {
   "cell_type": "code",
   "execution_count": 3,
   "id": "2aa07618",
   "metadata": {},
   "outputs": [],
   "source": [
    "config = ConfigProto()\n",
    "config.gpu_options.per_process_gpu_memory_fraction = 0.4\n",
    "session = InteractiveSession(config = config)"
   ]
  },
  {
   "cell_type": "code",
   "execution_count": 4,
   "id": "2a6c1daf",
   "metadata": {},
   "outputs": [
    {
     "name": "stdout",
     "output_type": "stream",
     "text": [
      "[name: \"/device:CPU:0\"\n",
      "device_type: \"CPU\"\n",
      "memory_limit: 268435456\n",
      "locality {\n",
      "}\n",
      "incarnation: 15710178235028177773\n",
      ", name: \"/device:GPU:0\"\n",
      "device_type: \"GPU\"\n",
      "memory_limit: 3435973836\n",
      "locality {\n",
      "  bus_id: 1\n",
      "  links {\n",
      "  }\n",
      "}\n",
      "incarnation: 15667133025489806806\n",
      "physical_device_desc: \"device: 0, name: NVIDIA GeForce RTX 3060 Ti, pci bus id: 0000:07:00.0, compute capability: 8.6\"\n",
      "]\n"
     ]
    }
   ],
   "source": [
    "physical_devices = tf.config.list_physical_devices('GPU')\n",
    "physical_devices\n",
    "\n",
    "from tensorflow.python.client import device_lib\n",
    "\n",
    "print(device_lib.list_local_devices())"
   ]
  },
  {
   "cell_type": "code",
   "execution_count": 5,
   "id": "1c58374d",
   "metadata": {},
   "outputs": [],
   "source": [
    "import os\n",
    "\n",
    "os.environ[\"CUDA_VISIBLE_DEVICES\"]=\"0\"\n",
    "gpus = tf.config.experimental.list_physical_devices('GPU')\n",
    "if gpus:\n",
    "    try:\n",
    "        tf.config.experimental.set_memory_growth(gpus[0], True)\n",
    "    except RuntimeError as e:\n",
    "        print(e)"
   ]
  },
  {
   "attachments": {},
   "cell_type": "markdown",
   "id": "cb740f81",
   "metadata": {},
   "source": [
    "#### Data import and preprocessing"
   ]
  },
  {
   "cell_type": "code",
   "execution_count": 6,
   "id": "9288345d",
   "metadata": {
    "scrolled": true
   },
   "outputs": [
    {
     "data": {
      "text/plain": [
       "Index(['OBJECTID_x', 'ID', 'pH', 'As', 'Cd', 'Ni', 'Pb', 'Zn', 'Hg', 'slope',\n",
       "       'altitude', 'profile_curve', 'profile_c_num', 'profile_c_abs',\n",
       "       'planform_curve', 'planform_c_num', 'planform_c_abs', 'HYDGRP',\n",
       "       'HYDGRP_A', 'HYDGRP_B', 'HYDGRP_C', 'HYDGRP_D', 'ANION_EXCL', 'SOL_CRK',\n",
       "       'SOL_K1', 'CLAY1', 'SILT1', 'SAND1', 'ROCK1', 'SOL_EC1', 'distance'],\n",
       "      dtype='object')"
      ]
     },
     "execution_count": 6,
     "metadata": {},
     "output_type": "execute_result"
    }
   ],
   "source": [
    "data = pd.read_csv(\"data/data_kw.csv\")\n",
    "data.columns"
   ]
  },
  {
   "cell_type": "code",
   "execution_count": 7,
   "id": "bbf87a23",
   "metadata": {},
   "outputs": [
    {
     "data": {
      "text/plain": [
       "Index(['pH', 'As', 'Cd', 'Ni', 'Pb', 'Zn', 'Hg', 'slope', 'altitude',\n",
       "       'profile_curve', 'planform_curve', 'HYDGRP_A', 'HYDGRP_B', 'HYDGRP_C',\n",
       "       'HYDGRP_D', 'SOL_K1', 'CLAY1', 'SILT1', 'SAND1', 'ROCK1', 'distance'],\n",
       "      dtype='object')"
      ]
     },
     "execution_count": 7,
     "metadata": {},
     "output_type": "execute_result"
    }
   ],
   "source": [
    "data = data.drop(['OBJECTID_x','ID','HYDGRP','profile_c_num', 'profile_c_abs','planform_c_num', 'planform_c_abs','ANION_EXCL','SOL_CRK','SOL_EC1'], axis = 1)\n",
    "data.columns"
   ]
  },
  {
   "cell_type": "code",
   "execution_count": 8,
   "id": "2dc33c24",
   "metadata": {},
   "outputs": [],
   "source": [
    "As = data\n",
    "Cd = data\n",
    "Ni = data"
   ]
  },
  {
   "cell_type": "code",
   "execution_count": 9,
   "id": "85f4f13d",
   "metadata": {},
   "outputs": [],
   "source": [
    "As = As.drop([\"Cd\", \"Ni\", \"Pb\", \"Zn\", \"Hg\"], axis = 1)\n",
    "Cd = Cd.drop([\"As\", \"Ni\", \"Pb\", \"Zn\", \"Hg\"], axis = 1)\n",
    "Ni = Ni.drop([\"As\", \"Cd\", \"Pb\", \"Zn\", \"Hg\"], axis = 1)"
   ]
  },
  {
   "cell_type": "code",
   "execution_count": 10,
   "id": "ed4a1bb4",
   "metadata": {},
   "outputs": [
    {
     "name": "stdout",
     "output_type": "stream",
     "text": [
      "(677, 16)\n",
      "(677, 16)\n",
      "(677, 16)\n"
     ]
    }
   ],
   "source": [
    "print(As.shape)\n",
    "print(Cd.shape)\n",
    "print(Ni.shape)"
   ]
  },
  {
   "attachments": {},
   "cell_type": "markdown",
   "id": "32a5223d",
   "metadata": {},
   "source": [
    "#### Oversampling by SMOGN (SMOTE Regression)"
   ]
  },
  {
   "cell_type": "code",
   "execution_count": 11,
   "id": "68a479be",
   "metadata": {},
   "outputs": [],
   "source": [
    "import smogn"
   ]
  },
  {
   "cell_type": "code",
   "execution_count": 12,
   "id": "60543147",
   "metadata": {},
   "outputs": [
    {
     "name": "stderr",
     "output_type": "stream",
     "text": [
      "dist_matrix: 100%|##########| 134/134 [00:07<00:00, 18.62it/s]\n",
      "synth_matrix: 100%|##########| 134/134 [00:00<00:00, 203.90it/s]\n",
      "dist_matrix: 100%|##########| 159/159 [00:10<00:00, 15.70it/s]\n",
      "synth_matrix: 100%|##########| 159/159 [00:00<00:00, 319.21it/s]\n",
      "r_index: 100%|##########| 47/47 [00:00<00:00, 602.43it/s]\n",
      "dist_matrix: 100%|##########| 127/127 [00:06<00:00, 19.68it/s]\n",
      "synth_matrix: 100%|##########| 127/127 [00:00<00:00, 206.46it/s]\n",
      "r_index: 100%|##########| 38/38 [00:00<00:00, 612.77it/s]\n"
     ]
    }
   ],
   "source": [
    "As_smogn = smogn.smoter(data = As, y = 'As', samp_method = 'extreme')\n",
    "Cd_smogn = smogn.smoter(data = Cd, y = 'Cd', samp_method = 'extreme', k = 3)\n",
    "Ni_smogn = smogn.smoter(data = Ni, y = 'Ni', samp_method = 'extreme', k = 7)"
   ]
  },
  {
   "cell_type": "code",
   "execution_count": 13,
   "id": "e391d78b",
   "metadata": {},
   "outputs": [
    {
     "name": "stdout",
     "output_type": "stream",
     "text": [
      "(971, 16)\n",
      "(887, 16)\n",
      "(986, 16)\n"
     ]
    }
   ],
   "source": [
    "print(As_smogn.shape)\n",
    "print(Cd_smogn.shape)\n",
    "print(Ni_smogn.shape)"
   ]
  },
  {
   "cell_type": "code",
   "execution_count": 14,
   "id": "cc69261f",
   "metadata": {},
   "outputs": [],
   "source": [
    "As_smogn = As_smogn.reset_index(drop = True)\n",
    "Cd_smogn = Cd_smogn.reset_index(drop = True)\n",
    "Ni_smogn = Ni_smogn.reset_index(drop = True)"
   ]
  },
  {
   "attachments": {},
   "cell_type": "markdown",
   "id": "ed72a9b1",
   "metadata": {},
   "source": [
    "#### Eliminate outlier and train / test split"
   ]
  },
  {
   "cell_type": "code",
   "execution_count": 15,
   "id": "43604a42",
   "metadata": {},
   "outputs": [],
   "source": [
    "def eli_outlier(data, value):\n",
    "    q1 = data[value].quantile(0.25)\n",
    "    q3 = data[value].quantile(0.75)\n",
    "\n",
    "    iqr = q3 - q1\n",
    "\n",
    "    q1_condition = data[value] < q1-1.5*iqr\n",
    "    q3_condition = data[value] > q3+1.5*iqr\n",
    "\n",
    "    reset_q1_index = data[q1_condition].index\n",
    "    reset_q3_index = data[q3_condition].index\n",
    "\n",
    "    data.drop(reset_q1_index, inplace = True)\n",
    "    data.drop(reset_q3_index, inplace = True)\n",
    "\n",
    "    return data"
   ]
  },
  {
   "cell_type": "code",
   "execution_count": 16,
   "id": "9b7632f2",
   "metadata": {},
   "outputs": [],
   "source": [
    "As_ros = eli_outlier(As_smogn, \"As\")\n",
    "Cd_ros = eli_outlier(Cd_smogn, \"Cd\")\n",
    "Ni_ros = eli_outlier(Ni_smogn, \"Ni\")"
   ]
  },
  {
   "cell_type": "code",
   "execution_count": 17,
   "id": "45ec138e",
   "metadata": {},
   "outputs": [],
   "source": [
    "As_X = As_ros.drop([\"As\"], axis=1)\n",
    "Cd_X = Cd_ros.drop([\"Cd\"], axis=1)\n",
    "Ni_X = Ni_ros.drop([\"Ni\"], axis=1)\n",
    "\n",
    "As_y = As_ros[\"As\"]\n",
    "Cd_y = Cd_ros[\"Cd\"]\n",
    "Ni_y = Ni_ros[\"Ni\"]"
   ]
  },
  {
   "cell_type": "code",
   "execution_count": 18,
   "id": "6463b1c2",
   "metadata": {},
   "outputs": [],
   "source": [
    "As_y = np.log1p(As_ros[\"As\"])\n",
    "Cd_y = np.log1p(Cd_ros[\"Cd\"])\n",
    "Ni_y = np.log1p(Ni_ros[\"Ni\"])"
   ]
  },
  {
   "cell_type": "code",
   "execution_count": 19,
   "id": "fb94ff27",
   "metadata": {},
   "outputs": [
    {
     "name": "stdout",
     "output_type": "stream",
     "text": [
      "(863, 15)\n",
      "(806, 15)\n",
      "(980, 15)\n"
     ]
    }
   ],
   "source": [
    "print(As_X.shape)\n",
    "print(Cd_X.shape)\n",
    "print(Ni_X.shape)"
   ]
  },
  {
   "attachments": {},
   "cell_type": "markdown",
   "id": "c92e5bb6",
   "metadata": {},
   "source": [
    "StandardScaler"
   ]
  },
  {
   "cell_type": "code",
   "execution_count": 20,
   "id": "0c3b79a2",
   "metadata": {},
   "outputs": [],
   "source": [
    "from sklearn.preprocessing import StandardScaler\n",
    "\n",
    "scaler = StandardScaler()\n",
    "\n",
    "As_X_train, As_X_test, As_y_train, As_y_test = train_test_split(As_X, As_y, test_size=0.2, random_state=42)\n",
    "Cd_X_train, Cd_X_test, Cd_y_train, Cd_y_test = train_test_split(Cd_X, Cd_y, test_size=0.2, random_state=42)\n",
    "Ni_X_train, Ni_X_test, Ni_y_train, Ni_y_test = train_test_split(Ni_X, Ni_y, test_size=0.2, random_state=42)\n",
    "\n",
    "As_X_train = scaler.fit_transform(As_X_train)\n",
    "As_X_test = scaler.fit_transform(As_X_test)\n",
    "\n",
    "Cd_X_train = scaler.fit_transform(Cd_X_train)\n",
    "Cd_X_test = scaler.fit_transform(Cd_X_test)\n",
    "\n",
    "Ni_X_train = scaler.fit_transform(Ni_X_train)\n",
    "Ni_X_test = scaler.fit_transform(Ni_X_test)"
   ]
  },
  {
   "cell_type": "code",
   "execution_count": 21,
   "id": "416a7027",
   "metadata": {},
   "outputs": [
    {
     "data": {
      "text/plain": [
       "' from sklearn.preprocessing import StandardScaler\\n\\nscaler = StandardScaler()\\nAs_X_scaled = scaler.fit_transform(As_X)\\nCd_X_scaled = scaler.fit_transform(Cd_X)\\nNi_X_scaled = scaler.fit_transform(Ni_X)\\n\\nAs_X_train, As_X_test, As_y_train, As_y_test = train_test_split(As_X_scaled, As_y, test_size=0.2, random_state=42)\\nCd_X_train, Cd_X_test, Cd_y_train, Cd_y_test = train_test_split(Cd_X_scaled, Cd_y, test_size=0.2, random_state=42)\\nNi_X_train, Ni_X_test, Ni_y_train, Ni_y_test = train_test_split(Ni_X_scaled, Ni_y, test_size=0.2, random_state=42) '"
      ]
     },
     "execution_count": 21,
     "metadata": {},
     "output_type": "execute_result"
    }
   ],
   "source": [
    "''' from sklearn.preprocessing import StandardScaler\n",
    "\n",
    "scaler = StandardScaler()\n",
    "As_X_scaled = scaler.fit_transform(As_X)\n",
    "Cd_X_scaled = scaler.fit_transform(Cd_X)\n",
    "Ni_X_scaled = scaler.fit_transform(Ni_X)\n",
    "\n",
    "As_X_train, As_X_test, As_y_train, As_y_test = train_test_split(As_X_scaled, As_y, test_size=0.2, random_state=42)\n",
    "Cd_X_train, Cd_X_test, Cd_y_train, Cd_y_test = train_test_split(Cd_X_scaled, Cd_y, test_size=0.2, random_state=42)\n",
    "Ni_X_train, Ni_X_test, Ni_y_train, Ni_y_test = train_test_split(Ni_X_scaled, Ni_y, test_size=0.2, random_state=42) '''"
   ]
  },
  {
   "attachments": {},
   "cell_type": "markdown",
   "id": "2fe0d293",
   "metadata": {},
   "source": [
    "MinMaxScaler"
   ]
  },
  {
   "cell_type": "code",
   "execution_count": 22,
   "id": "e8596f9f",
   "metadata": {},
   "outputs": [],
   "source": [
    "# from sklearn.preprocessing import MinMaxScaler\n",
    "\n",
    "# scaler = MinMaxScaler()\n",
    "# As_X_scaled = scaler.fit_transform(As_X)\n",
    "# Cd_X_scaled = scaler.fit_transform(Cd_X)\n",
    "# Ni_X_scaled = scaler.fit_transform(Ni_X)\n",
    "\n",
    "# As_X_train, As_X_test, As_y_train, As_y_test = train_test_split(As_X_scaled, As_y, test_size=0.2, random_state=42)\n",
    "# Cd_X_train, Cd_X_test, Cd_y_train, Cd_y_test = train_test_split(Cd_X_scaled, Cd_y, test_size=0.2, random_state=42)\n",
    "# Ni_X_train, Ni_X_test, Ni_y_train, Ni_y_test = train_test_split(Ni_X_scaled, Ni_y, test_size=0.2, random_state=42)"
   ]
  },
  {
   "cell_type": "code",
   "execution_count": 23,
   "id": "66cd05c6",
   "metadata": {},
   "outputs": [
    {
     "name": "stdout",
     "output_type": "stream",
     "text": [
      "(690, 15)\n",
      "(644, 15)\n",
      "(784, 15)\n"
     ]
    }
   ],
   "source": [
    "print(As_X_train.shape)\n",
    "print(Cd_X_train.shape)\n",
    "print(Ni_X_train.shape)"
   ]
  },
  {
   "attachments": {},
   "cell_type": "markdown",
   "id": "bd11b27e",
   "metadata": {},
   "source": [
    "#### 10-Fold Crossvalidation"
   ]
  },
  {
   "cell_type": "code",
   "execution_count": 24,
   "id": "7a765916",
   "metadata": {},
   "outputs": [],
   "source": [
    "# kf = KFold(n_splits = 10, random_state = 42, shuffle = True)"
   ]
  },
  {
   "attachments": {},
   "cell_type": "markdown",
   "id": "859638d0",
   "metadata": {},
   "source": [
    "#### Optuna Optimization"
   ]
  },
  {
   "cell_type": "code",
   "execution_count": 25,
   "id": "92a47d83",
   "metadata": {},
   "outputs": [],
   "source": [
    "import optuna\n",
    "\n",
    "from optuna import Trial\n",
    "from optuna.samplers import TPESampler"
   ]
  },
  {
   "cell_type": "code",
   "execution_count": 26,
   "id": "a7669fea",
   "metadata": {},
   "outputs": [],
   "source": [
    "from sklearn.model_selection import cross_val_score, KFold\n",
    "from sklearn.svm import SVR\n",
    "\n",
    "\n",
    "def objectiveSVM(trial: Trial, X_train, y_train) -> float:\n",
    "    C = trial.suggest_loguniform('C', 0.1, 100.0)\n",
    "    epsilon = trial.suggest_loguniform('epsilon', 0.01, 1.0)\n",
    "    kernel = trial.suggest_categorical('kernel', ['linear', 'rbf', 'poly'])\n",
    "    degree = trial.suggest_int('degree', 1, 5)\n",
    "    \n",
    "    kf = KFold(n_splits=5, shuffle=True, random_state=42)\n",
    "\n",
    "    model = SVR(C=C, epsilon=epsilon, kernel=kernel, degree=degree)\n",
    "\n",
    "    r2 = cross_val_score(model, X_train, y_train, scoring='r2', cv=kf)\n",
    "    r2 = r2.mean()\n",
    "\n",
    "    return r2\n"
   ]
  },
  {
   "attachments": {},
   "cell_type": "markdown",
   "id": "b0988f46",
   "metadata": {},
   "source": [
    "####  Optimization"
   ]
  },
  {
   "cell_type": "code",
   "execution_count": 27,
   "id": "94f5e00d",
   "metadata": {
    "scrolled": false
   },
   "outputs": [
    {
     "name": "stderr",
     "output_type": "stream",
     "text": [
      "\u001b[32m[I 2023-08-30 16:50:10,273]\u001b[0m A new study created in memory with name: svm_parameter_opt\u001b[0m\n",
      "\u001b[32m[I 2023-08-30 16:50:10,362]\u001b[0m Trial 0 finished with value: -0.28363348897461266 and parameters: {'C': 34.82520345491155, 'epsilon': 0.7666608853544378, 'kernel': 'poly', 'degree': 5}. Best is trial 0 with value: -0.28363348897461266.\u001b[0m\n",
      "\u001b[32m[I 2023-08-30 16:50:10,553]\u001b[0m Trial 1 finished with value: 0.17945891636714245 and parameters: {'C': 60.271889172280034, 'epsilon': 0.29899943749231084, 'kernel': 'rbf', 'degree': 1}. Best is trial 1 with value: 0.17945891636714245.\u001b[0m\n",
      "\u001b[32m[I 2023-08-30 16:50:10,609]\u001b[0m Trial 2 finished with value: 0.1959957460103522 and parameters: {'C': 0.14176262810265228, 'epsilon': 0.7733469049754857, 'kernel': 'rbf', 'degree': 2}. Best is trial 2 with value: 0.1959957460103522.\u001b[0m\n",
      "\u001b[32m[I 2023-08-30 16:50:10,688]\u001b[0m Trial 3 finished with value: 0.2683416856622657 and parameters: {'C': 0.16833923721611602, 'epsilon': 0.48401566987208433, 'kernel': 'rbf', 'degree': 4}. Best is trial 3 with value: 0.2683416856622657.\u001b[0m\n",
      "\u001b[32m[I 2023-08-30 16:50:11,234]\u001b[0m Trial 4 finished with value: -10.302402613931719 and parameters: {'C': 57.32477084916753, 'epsilon': 0.10631644006777886, 'kernel': 'poly', 'degree': 4}. Best is trial 3 with value: 0.2683416856622657.\u001b[0m\n",
      "\u001b[32m[I 2023-08-30 16:50:11,368]\u001b[0m Trial 5 finished with value: 0.36335152588679537 and parameters: {'C': 1.5568970096405204, 'epsilon': 0.020172315785227893, 'kernel': 'rbf', 'degree': 2}. Best is trial 5 with value: 0.36335152588679537.\u001b[0m\n",
      "\u001b[32m[I 2023-08-30 16:50:11,505]\u001b[0m Trial 6 finished with value: 0.2508117748153199 and parameters: {'C': 56.767134895654756, 'epsilon': 0.5002013210254403, 'kernel': 'rbf', 'degree': 5}. Best is trial 5 with value: 0.36335152588679537.\u001b[0m\n",
      "\u001b[32m[I 2023-08-30 16:50:11,656]\u001b[0m Trial 7 finished with value: 0.3308524556666441 and parameters: {'C': 8.652307496268673, 'epsilon': 0.0821900017546716, 'kernel': 'rbf', 'degree': 5}. Best is trial 5 with value: 0.36335152588679537.\u001b[0m\n",
      "\u001b[32m[I 2023-08-30 16:50:11,777]\u001b[0m Trial 8 finished with value: 0.1109819278442733 and parameters: {'C': 0.33232307164204133, 'epsilon': 0.021923005208162878, 'kernel': 'linear', 'degree': 2}. Best is trial 5 with value: 0.36335152588679537.\u001b[0m\n",
      "\u001b[32m[I 2023-08-30 16:50:11,870]\u001b[0m Trial 9 finished with value: 0.33186905970956604 and parameters: {'C': 18.073766010901572, 'epsilon': 0.5966191528556797, 'kernel': 'rbf', 'degree': 5}. Best is trial 5 with value: 0.36335152588679537.\u001b[0m\n",
      "\u001b[32m[I 2023-08-30 16:50:12,066]\u001b[0m Trial 10 finished with value: 0.11132750351543483 and parameters: {'C': 1.1330635310154382, 'epsilon': 0.010336128397539657, 'kernel': 'linear', 'degree': 1}. Best is trial 5 with value: 0.36335152588679537.\u001b[0m\n",
      "\u001b[32m[I 2023-08-30 16:50:12,227]\u001b[0m Trial 11 finished with value: 0.3418880137636608 and parameters: {'C': 5.563908537703203, 'epsilon': 0.05217076570250445, 'kernel': 'rbf', 'degree': 3}. Best is trial 5 with value: 0.36335152588679537.\u001b[0m\n",
      "\u001b[32m[I 2023-08-30 16:50:12,375]\u001b[0m Trial 12 finished with value: 0.3583273836237294 and parameters: {'C': 2.6447903872711045, 'epsilon': 0.03889444908558775, 'kernel': 'rbf', 'degree': 3}. Best is trial 5 with value: 0.36335152588679537.\u001b[0m\n",
      "\u001b[32m[I 2023-08-30 16:50:12,507]\u001b[0m Trial 13 finished with value: 0.36413783239077874 and parameters: {'C': 1.4226814300454587, 'epsilon': 0.03389406996577438, 'kernel': 'rbf', 'degree': 3}. Best is trial 13 with value: 0.36413783239077874.\u001b[0m\n",
      "\u001b[32m[I 2023-08-30 16:50:12,693]\u001b[0m Trial 14 finished with value: 0.11029989883209741 and parameters: {'C': 0.925893927450278, 'epsilon': 0.012923943217432916, 'kernel': 'linear', 'degree': 2}. Best is trial 13 with value: 0.36413783239077874.\u001b[0m\n",
      "\u001b[32m[I 2023-08-30 16:50:12,819]\u001b[0m Trial 15 finished with value: 0.19830431194894813 and parameters: {'C': 1.3667257648772193, 'epsilon': 0.024991296143396208, 'kernel': 'poly', 'degree': 3}. Best is trial 13 with value: 0.36413783239077874.\u001b[0m\n",
      "\u001b[32m[I 2023-08-30 16:50:12,930]\u001b[0m Trial 16 finished with value: 0.3361040126813509 and parameters: {'C': 0.5109611245140966, 'epsilon': 0.1616222920197963, 'kernel': 'rbf', 'degree': 2}. Best is trial 13 with value: 0.36413783239077874.\u001b[0m\n",
      "\u001b[32m[I 2023-08-30 16:50:13,084]\u001b[0m Trial 17 finished with value: 0.3498697256534835 and parameters: {'C': 3.2920907158812307, 'epsilon': 0.02711226992394728, 'kernel': 'rbf', 'degree': 4}. Best is trial 13 with value: 0.36413783239077874.\u001b[0m\n",
      "\u001b[32m[I 2023-08-30 16:50:13,377]\u001b[0m Trial 18 finished with value: 0.11193991940713177 and parameters: {'C': 2.315607486443775, 'epsilon': 0.01654329496297236, 'kernel': 'linear', 'degree': 1}. Best is trial 13 with value: 0.36413783239077874.\u001b[0m\n",
      "\u001b[32m[I 2023-08-30 16:50:13,467]\u001b[0m Trial 19 finished with value: 0.18160009785993084 and parameters: {'C': 0.4280326068620954, 'epsilon': 0.05099303930409292, 'kernel': 'poly', 'degree': 2}. Best is trial 13 with value: 0.36413783239077874.\u001b[0m\n",
      "\u001b[32m[I 2023-08-30 16:50:13,636]\u001b[0m Trial 20 finished with value: 0.31750292721345447 and parameters: {'C': 9.450516931625005, 'epsilon': 0.03788633840256149, 'kernel': 'rbf', 'degree': 3}. Best is trial 13 with value: 0.36413783239077874.\u001b[0m\n",
      "\u001b[32m[I 2023-08-30 16:50:13,790]\u001b[0m Trial 21 finished with value: 0.35609517281533637 and parameters: {'C': 2.897935488970092, 'epsilon': 0.038044325776765565, 'kernel': 'rbf', 'degree': 3}. Best is trial 13 with value: 0.36413783239077874.\u001b[0m\n",
      "\u001b[32m[I 2023-08-30 16:50:13,923]\u001b[0m Trial 22 finished with value: 0.36760619636708347 and parameters: {'C': 1.898990622538657, 'epsilon': 0.07240928078398667, 'kernel': 'rbf', 'degree': 3}. Best is trial 22 with value: 0.36760619636708347.\u001b[0m\n",
      "\u001b[32m[I 2023-08-30 16:50:14,046]\u001b[0m Trial 23 finished with value: 0.34968170935972387 and parameters: {'C': 0.7783631993733986, 'epsilon': 0.08049079146122223, 'kernel': 'rbf', 'degree': 4}. Best is trial 22 with value: 0.36760619636708347.\u001b[0m\n",
      "\u001b[32m[I 2023-08-30 16:50:14,167]\u001b[0m Trial 24 finished with value: 0.3665114574407443 and parameters: {'C': 1.5882630866681833, 'epsilon': 0.1340770123741606, 'kernel': 'rbf', 'degree': 3}. Best is trial 22 with value: 0.36760619636708347.\u001b[0m\n",
      "\u001b[32m[I 2023-08-30 16:50:14,296]\u001b[0m Trial 25 finished with value: 0.36902155696522987 and parameters: {'C': 4.525221613166056, 'epsilon': 0.174656599798258, 'kernel': 'rbf', 'degree': 3}. Best is trial 25 with value: 0.36902155696522987.\u001b[0m\n",
      "\u001b[32m[I 2023-08-30 16:50:14,424]\u001b[0m Trial 26 finished with value: 0.3730107643956521 and parameters: {'C': 4.805370514215623, 'epsilon': 0.20464187890765032, 'kernel': 'rbf', 'degree': 4}. Best is trial 26 with value: 0.3730107643956521.\u001b[0m\n",
      "\u001b[32m[I 2023-08-30 16:50:14,546]\u001b[0m Trial 27 finished with value: 0.37371948300214297 and parameters: {'C': 5.3785855246981455, 'epsilon': 0.23016503929683207, 'kernel': 'rbf', 'degree': 4}. Best is trial 27 with value: 0.37371948300214297.\u001b[0m\n",
      "\u001b[32m[I 2023-08-30 16:50:14,985]\u001b[0m Trial 28 finished with value: 0.13107198087595867 and parameters: {'C': 4.9140671707533405, 'epsilon': 0.23831521558068045, 'kernel': 'linear', 'degree': 4}. Best is trial 27 with value: 0.37371948300214297.\u001b[0m\n",
      "\u001b[32m[I 2023-08-30 16:50:15,232]\u001b[0m Trial 29 finished with value: -3.8210035959255535 and parameters: {'C': 26.92179158981617, 'epsilon': 0.23721983067571314, 'kernel': 'poly', 'degree': 4}. Best is trial 27 with value: 0.37371948300214297.\u001b[0m\n",
      "\u001b[32m[I 2023-08-30 16:50:15,363]\u001b[0m Trial 30 finished with value: -0.5441473128244699 and parameters: {'C': 11.926866038464047, 'epsilon': 0.3390354339333396, 'kernel': 'poly', 'degree': 5}. Best is trial 27 with value: 0.37371948300214297.\u001b[0m\n",
      "\u001b[32m[I 2023-08-30 16:50:15,494]\u001b[0m Trial 31 finished with value: 0.3654434832021629 and parameters: {'C': 5.024726673617689, 'epsilon': 0.1650527789747945, 'kernel': 'rbf', 'degree': 4}. Best is trial 27 with value: 0.37371948300214297.\u001b[0m\n",
      "\u001b[32m[I 2023-08-30 16:50:15,649]\u001b[0m Trial 32 finished with value: 0.3117275080434294 and parameters: {'C': 16.92907478454638, 'epsilon': 0.22338192748681895, 'kernel': 'rbf', 'degree': 3}. Best is trial 27 with value: 0.37371948300214297.\u001b[0m\n",
      "\u001b[32m[I 2023-08-30 16:50:15,764]\u001b[0m Trial 33 finished with value: 0.3793518661430379 and parameters: {'C': 5.722204328142532, 'epsilon': 0.35156012205929943, 'kernel': 'rbf', 'degree': 4}. Best is trial 33 with value: 0.3793518661430379.\u001b[0m\n",
      "\u001b[32m[I 2023-08-30 16:50:15,827]\u001b[0m Trial 34 finished with value: 0.2781567852473755 and parameters: {'C': 6.797879040735142, 'epsilon': 0.9258239707122223, 'kernel': 'rbf', 'degree': 4}. Best is trial 33 with value: 0.3793518661430379.\u001b[0m\n",
      "\u001b[32m[I 2023-08-30 16:50:15,935]\u001b[0m Trial 35 finished with value: 0.3806655791376688 and parameters: {'C': 3.8676124331937904, 'epsilon': 0.3358720116580079, 'kernel': 'rbf', 'degree': 4}. Best is trial 35 with value: 0.3806655791376688.\u001b[0m\n",
      "\u001b[32m[I 2023-08-30 16:50:16,067]\u001b[0m Trial 36 finished with value: 0.3447073136201818 and parameters: {'C': 15.533349104937155, 'epsilon': 0.370690977277553, 'kernel': 'rbf', 'degree': 4}. Best is trial 35 with value: 0.3806655791376688.\u001b[0m\n",
      "\u001b[32m[I 2023-08-30 16:50:16,169]\u001b[0m Trial 37 finished with value: 0.3793045449667959 and parameters: {'C': 3.9093474889676014, 'epsilon': 0.37339526396644507, 'kernel': 'rbf', 'degree': 5}. Best is trial 35 with value: 0.3806655791376688.\u001b[0m\n",
      "\u001b[32m[I 2023-08-30 16:50:16,278]\u001b[0m Trial 38 finished with value: 0.28906133043984134 and parameters: {'C': 37.381069841747234, 'epsilon': 0.6370703004272608, 'kernel': 'rbf', 'degree': 5}. Best is trial 35 with value: 0.3806655791376688.\u001b[0m\n",
      "\u001b[32m[I 2023-08-30 16:50:16,385]\u001b[0m Trial 39 finished with value: 0.3751330934701917 and parameters: {'C': 8.561185881254186, 'epsilon': 0.428514563864723, 'kernel': 'rbf', 'degree': 5}. Best is trial 35 with value: 0.3806655791376688.\u001b[0m\n",
      "\u001b[32m[I 2023-08-30 16:50:16,483]\u001b[0m Trial 40 finished with value: -0.2912884241071706 and parameters: {'C': 8.056886525981604, 'epsilon': 0.4376818584884217, 'kernel': 'poly', 'degree': 5}. Best is trial 35 with value: 0.3806655791376688.\u001b[0m\n",
      "\u001b[32m[I 2023-08-30 16:50:16,595]\u001b[0m Trial 41 finished with value: 0.38256362007151445 and parameters: {'C': 3.7520399029894476, 'epsilon': 0.29165279727798293, 'kernel': 'rbf', 'degree': 5}. Best is trial 41 with value: 0.38256362007151445.\u001b[0m\n",
      "\u001b[32m[I 2023-08-30 16:50:16,703]\u001b[0m Trial 42 finished with value: 0.3829044295915145 and parameters: {'C': 3.677241699578654, 'epsilon': 0.30509950701862865, 'kernel': 'rbf', 'degree': 5}. Best is trial 42 with value: 0.3829044295915145.\u001b[0m\n",
      "\u001b[32m[I 2023-08-30 16:50:16,816]\u001b[0m Trial 43 finished with value: 0.38422492680641745 and parameters: {'C': 3.1765590829411345, 'epsilon': 0.2766686872637248, 'kernel': 'rbf', 'degree': 5}. Best is trial 43 with value: 0.38422492680641745.\u001b[0m\n",
      "\u001b[32m[I 2023-08-30 16:50:16,924]\u001b[0m Trial 44 finished with value: 0.38506354386552627 and parameters: {'C': 2.221081156645802, 'epsilon': 0.29133588786189446, 'kernel': 'rbf', 'degree': 5}. Best is trial 44 with value: 0.38506354386552627.\u001b[0m\n",
      "\u001b[32m[I 2023-08-30 16:50:17,030]\u001b[0m Trial 45 finished with value: 0.3844604584005779 and parameters: {'C': 2.1095883788745233, 'epsilon': 0.28086040481670344, 'kernel': 'rbf', 'degree': 5}. Best is trial 44 with value: 0.38506354386552627.\u001b[0m\n",
      "\u001b[32m[I 2023-08-30 16:50:17,135]\u001b[0m Trial 46 finished with value: 0.3848224043921843 and parameters: {'C': 2.1358687276127255, 'epsilon': 0.28588283498712325, 'kernel': 'rbf', 'degree': 5}. Best is trial 44 with value: 0.38506354386552627.\u001b[0m\n",
      "\u001b[32m[I 2023-08-30 16:50:17,394]\u001b[0m Trial 47 finished with value: 0.12381007479838187 and parameters: {'C': 2.172545784655746, 'epsilon': 0.11447559072687623, 'kernel': 'linear', 'degree': 5}. Best is trial 44 with value: 0.38506354386552627.\u001b[0m\n",
      "\u001b[32m[I 2023-08-30 16:50:17,470]\u001b[0m Trial 48 finished with value: 0.34614073013040775 and parameters: {'C': 0.6990277799654794, 'epsilon': 0.5672079677291407, 'kernel': 'rbf', 'degree': 5}. Best is trial 44 with value: 0.38506354386552627.\u001b[0m\n",
      "\u001b[32m[I 2023-08-30 16:50:17,526]\u001b[0m Trial 49 finished with value: 0.3193540247835255 and parameters: {'C': 1.0970894111590757, 'epsilon': 0.7339743033086847, 'kernel': 'rbf', 'degree': 5}. Best is trial 44 with value: 0.38506354386552627.\u001b[0m\n",
      "\u001b[32m[I 2023-08-30 16:50:17,630]\u001b[0m Trial 50 finished with value: 0.38171817847823575 and parameters: {'C': 1.6767136758335568, 'epsilon': 0.2729651080699985, 'kernel': 'rbf', 'degree': 5}. Best is trial 44 with value: 0.38506354386552627.\u001b[0m\n",
      "\u001b[32m[I 2023-08-30 16:50:17,727]\u001b[0m Trial 51 finished with value: 0.24487645879236153 and parameters: {'C': 0.10150197449755169, 'epsilon': 0.28326211709307, 'kernel': 'rbf', 'degree': 5}. Best is trial 44 with value: 0.38506354386552627.\u001b[0m\n",
      "\u001b[32m[I 2023-08-30 16:50:17,860]\u001b[0m Trial 52 finished with value: 0.36607786482222543 and parameters: {'C': 2.984806518876933, 'epsilon': 0.1346483485713609, 'kernel': 'rbf', 'degree': 5}. Best is trial 44 with value: 0.38506354386552627.\u001b[0m\n",
      "\u001b[32m[I 2023-08-30 16:50:17,944]\u001b[0m Trial 53 finished with value: 0.3715386306057325 and parameters: {'C': 2.32698283666875, 'epsilon': 0.4769781788598246, 'kernel': 'rbf', 'degree': 5}. Best is trial 44 with value: 0.38506354386552627.\u001b[0m\n",
      "\u001b[32m[I 2023-08-30 16:50:18,040]\u001b[0m Trial 54 finished with value: 0.37108304726243546 and parameters: {'C': 1.1017162662321804, 'epsilon': 0.29094491767254316, 'kernel': 'rbf', 'degree': 5}. Best is trial 44 with value: 0.38506354386552627.\u001b[0m\n",
      "\u001b[32m[I 2023-08-30 16:50:18,392]\u001b[0m Trial 55 finished with value: 0.12808552020653546 and parameters: {'C': 3.3768348838054356, 'epsilon': 0.19309761551634463, 'kernel': 'linear', 'degree': 5}. Best is trial 44 with value: 0.38506354386552627.\u001b[0m\n",
      "\u001b[32m[I 2023-08-30 16:50:18,515]\u001b[0m Trial 56 finished with value: 0.36797176349781796 and parameters: {'C': 1.9635849613825276, 'epsilon': 0.1457715578323091, 'kernel': 'rbf', 'degree': 5}. Best is trial 44 with value: 0.38506354386552627.\u001b[0m\n",
      "\u001b[32m[I 2023-08-30 16:50:18,591]\u001b[0m Trial 57 finished with value: 0.36810068820264585 and parameters: {'C': 1.3207137008168033, 'epsilon': 0.5134671745250083, 'kernel': 'rbf', 'degree': 5}. Best is trial 44 with value: 0.38506354386552627.\u001b[0m\n",
      "\u001b[32m[I 2023-08-30 16:50:18,709]\u001b[0m Trial 58 finished with value: 0.3848096088016705 and parameters: {'C': 2.6686045834688064, 'epsilon': 0.2657020750973015, 'kernel': 'rbf', 'degree': 5}. Best is trial 44 with value: 0.38506354386552627.\u001b[0m\n",
      "\u001b[32m[I 2023-08-30 16:50:18,841]\u001b[0m Trial 59 finished with value: -0.20130884237737295 and parameters: {'C': 2.7383276187656778, 'epsilon': 0.10870306679564044, 'kernel': 'poly', 'degree': 5}. Best is trial 44 with value: 0.38506354386552627.\u001b[0m\n",
      "\u001b[32m[I 2023-08-30 16:50:18,922]\u001b[0m Trial 60 finished with value: 0.3451448674144335 and parameters: {'C': 0.6054503039214149, 'epsilon': 0.4067987468559554, 'kernel': 'rbf', 'degree': 5}. Best is trial 44 with value: 0.38506354386552627.\u001b[0m\n",
      "\u001b[32m[I 2023-08-30 16:50:19,036]\u001b[0m Trial 61 finished with value: 0.38343220382324983 and parameters: {'C': 3.735355451745471, 'epsilon': 0.26328870894730405, 'kernel': 'rbf', 'degree': 5}. Best is trial 44 with value: 0.38506354386552627.\u001b[0m\n",
      "\u001b[32m[I 2023-08-30 16:50:19,157]\u001b[0m Trial 62 finished with value: 0.38323093533345975 and parameters: {'C': 2.55048580883352, 'epsilon': 0.2529350823742123, 'kernel': 'rbf', 'degree': 5}. Best is trial 44 with value: 0.38506354386552627.\u001b[0m\n",
      "\u001b[32m[I 2023-08-30 16:50:19,259]\u001b[0m Trial 63 finished with value: 0.309001308631158 and parameters: {'C': 0.29745448515355893, 'epsilon': 0.19360229028156098, 'kernel': 'rbf', 'degree': 5}. Best is trial 44 with value: 0.38506354386552627.\u001b[0m\n",
      "\u001b[32m[I 2023-08-30 16:50:19,376]\u001b[0m Trial 64 finished with value: 0.3833722275236 and parameters: {'C': 2.463149720594223, 'epsilon': 0.2559592636432424, 'kernel': 'rbf', 'degree': 5}. Best is trial 44 with value: 0.38506354386552627.\u001b[0m\n",
      "\u001b[32m[I 2023-08-30 16:50:19,497]\u001b[0m Trial 65 finished with value: 0.37500704914788296 and parameters: {'C': 1.816794173442546, 'epsilon': 0.20063130999411613, 'kernel': 'rbf', 'degree': 5}. Best is trial 44 with value: 0.38506354386552627.\u001b[0m\n",
      "\u001b[32m[I 2023-08-30 16:50:19,606]\u001b[0m Trial 66 finished with value: 0.3581629928272857 and parameters: {'C': 0.8853771557068922, 'epsilon': 0.17397384459908224, 'kernel': 'rbf', 'degree': 5}. Best is trial 44 with value: 0.38506354386552627.\u001b[0m\n",
      "\u001b[32m[I 2023-08-30 16:50:19,793]\u001b[0m Trial 67 finished with value: 0.13199100088686172 and parameters: {'C': 1.2819657167721064, 'epsilon': 0.24479187166950442, 'kernel': 'linear', 'degree': 5}. Best is trial 44 with value: 0.38506354386552627.\u001b[0m\n",
      "\u001b[32m[I 2023-08-30 16:50:19,896]\u001b[0m Trial 68 finished with value: 0.38581608684683005 and parameters: {'C': 2.2106450803673487, 'epsilon': 0.31050260574824134, 'kernel': 'rbf', 'degree': 1}. Best is trial 68 with value: 0.38581608684683005.\u001b[0m\n",
      "\u001b[32m[I 2023-08-30 16:50:19,996]\u001b[0m Trial 69 finished with value: 0.3799940132195208 and parameters: {'C': 1.5040573742064327, 'epsilon': 0.3139877666606126, 'kernel': 'rbf', 'degree': 1}. Best is trial 68 with value: 0.38581608684683005.\u001b[0m\n",
      "\u001b[32m[I 2023-08-30 16:50:20,076]\u001b[0m Trial 70 finished with value: 0.3556811544353808 and parameters: {'C': 6.248332548792942, 'epsilon': 0.6686344409267464, 'kernel': 'rbf', 'degree': 2}. Best is trial 68 with value: 0.38581608684683005.\u001b[0m\n",
      "\u001b[32m[I 2023-08-30 16:50:20,193]\u001b[0m Trial 71 finished with value: 0.3759947993814832 and parameters: {'C': 2.109165550197691, 'epsilon': 0.21479946182273973, 'kernel': 'rbf', 'degree': 5}. Best is trial 68 with value: 0.38581608684683005.\u001b[0m\n",
      "\u001b[32m[I 2023-08-30 16:50:20,288]\u001b[0m Trial 72 finished with value: 0.38029987550375255 and parameters: {'C': 2.894762941840124, 'epsilon': 0.39346061912253205, 'kernel': 'rbf', 'degree': 1}. Best is trial 68 with value: 0.38581608684683005.\u001b[0m\n",
      "\u001b[32m[I 2023-08-30 16:50:20,416]\u001b[0m Trial 73 finished with value: 0.3813683120537946 and parameters: {'C': 4.358650574837356, 'epsilon': 0.2557995328538029, 'kernel': 'rbf', 'degree': 5}. Best is trial 68 with value: 0.38581608684683005.\u001b[0m\n",
      "\u001b[32m[I 2023-08-30 16:50:20,509]\u001b[0m Trial 74 finished with value: 0.36986369439318356 and parameters: {'C': 2.4823935629104157, 'epsilon': 0.505421856064964, 'kernel': 'rbf', 'degree': 4}. Best is trial 68 with value: 0.38581608684683005.\u001b[0m\n",
      "\u001b[32m[I 2023-08-30 16:50:21,038]\u001b[0m Trial 75 finished with value: 0.12882025286270452 and parameters: {'C': 84.85027240712799, 'epsilon': 0.14988687472139778, 'kernel': 'poly', 'degree': 1}. Best is trial 68 with value: 0.38581608684683005.\u001b[0m\n",
      "\u001b[32m[I 2023-08-30 16:50:21,135]\u001b[0m Trial 76 finished with value: 0.3817938449796959 and parameters: {'C': 1.8834812555876492, 'epsilon': 0.33443795472245047, 'kernel': 'rbf', 'degree': 2}. Best is trial 68 with value: 0.38581608684683005.\u001b[0m\n",
      "\u001b[32m[I 2023-08-30 16:50:21,240]\u001b[0m Trial 77 finished with value: 0.37852540369904053 and parameters: {'C': 1.561257516764564, 'epsilon': 0.2638767548056028, 'kernel': 'rbf', 'degree': 5}. Best is trial 68 with value: 0.38581608684683005.\u001b[0m\n",
      "\u001b[32m[I 2023-08-30 16:50:21,333]\u001b[0m Trial 78 finished with value: 0.3725317777248556 and parameters: {'C': 3.113744459091975, 'epsilon': 0.44623635740022766, 'kernel': 'rbf', 'degree': 4}. Best is trial 68 with value: 0.38581608684683005.\u001b[0m\n",
      "\u001b[32m[I 2023-08-30 16:50:21,407]\u001b[0m Trial 79 finished with value: 0.3598516876554983 and parameters: {'C': 0.9983921626900931, 'epsilon': 0.5557308287008318, 'kernel': 'rbf', 'degree': 5}. Best is trial 68 with value: 0.38581608684683005.\u001b[0m\n",
      "\u001b[32m[I 2023-08-30 16:50:21,992]\u001b[0m Trial 80 finished with value: 0.12908426045693128 and parameters: {'C': 6.794260335607436, 'epsilon': 0.18030773709116008, 'kernel': 'linear', 'degree': 5}. Best is trial 68 with value: 0.38581608684683005.\u001b[0m\n",
      "\u001b[32m[I 2023-08-30 16:50:22,110]\u001b[0m Trial 81 finished with value: 0.3804384855844775 and parameters: {'C': 2.434815897878706, 'epsilon': 0.23069563366657966, 'kernel': 'rbf', 'degree': 5}. Best is trial 68 with value: 0.38581608684683005.\u001b[0m\n",
      "\u001b[32m[I 2023-08-30 16:50:22,214]\u001b[0m Trial 82 finished with value: 0.3855873902509025 and parameters: {'C': 2.580818242933277, 'epsilon': 0.33522093501498673, 'kernel': 'rbf', 'degree': 5}. Best is trial 68 with value: 0.38581608684683005.\u001b[0m\n",
      "\u001b[32m[I 2023-08-30 16:50:22,317]\u001b[0m Trial 83 finished with value: 0.37943770302817736 and parameters: {'C': 4.090019218964617, 'epsilon': 0.36000628648771815, 'kernel': 'rbf', 'degree': 5}. Best is trial 68 with value: 0.38581608684683005.\u001b[0m\n",
      "\u001b[32m[I 2023-08-30 16:50:22,427]\u001b[0m Trial 84 finished with value: 0.3832877596684207 and parameters: {'C': 3.3022993925947683, 'epsilon': 0.2925319496739188, 'kernel': 'rbf', 'degree': 5}. Best is trial 68 with value: 0.38581608684683005.\u001b[0m\n",
      "\u001b[32m[I 2023-08-30 16:50:22,520]\u001b[0m Trial 85 finished with value: 0.3758246497990745 and parameters: {'C': 1.281939291026952, 'epsilon': 0.32867560587125383, 'kernel': 'rbf', 'degree': 5}. Best is trial 68 with value: 0.38581608684683005.\u001b[0m\n",
      "\u001b[32m[I 2023-08-30 16:50:22,611]\u001b[0m Trial 86 finished with value: 0.3831279603145016 and parameters: {'C': 1.9540929413090282, 'epsilon': 0.38446513206157423, 'kernel': 'rbf', 'degree': 5}. Best is trial 68 with value: 0.38581608684683005.\u001b[0m\n",
      "\u001b[32m[I 2023-08-30 16:50:22,750]\u001b[0m Trial 87 finished with value: 0.35266361367550275 and parameters: {'C': 4.977108223590502, 'epsilon': 0.0938544036429469, 'kernel': 'rbf', 'degree': 4}. Best is trial 68 with value: 0.38581608684683005.\u001b[0m\n",
      "\u001b[32m[I 2023-08-30 16:50:22,877]\u001b[0m Trial 88 finished with value: 0.37699961604850624 and parameters: {'C': 2.3159474986267377, 'epsilon': 0.21462221623224495, 'kernel': 'rbf', 'degree': 5}. Best is trial 68 with value: 0.38581608684683005.\u001b[0m\n",
      "\u001b[32m[I 2023-08-30 16:50:22,984]\u001b[0m Trial 89 finished with value: -0.2895483169461868 and parameters: {'C': 3.4280846797383333, 'epsilon': 0.27312256890434217, 'kernel': 'poly', 'degree': 4}. Best is trial 68 with value: 0.38581608684683005.\u001b[0m\n",
      "\u001b[32m[I 2023-08-30 16:50:23,098]\u001b[0m Trial 90 finished with value: 0.38036130772781196 and parameters: {'C': 1.6181970479061336, 'epsilon': 0.31225794275702057, 'kernel': 'rbf', 'degree': 5}. Best is trial 68 with value: 0.38581608684683005.\u001b[0m\n",
      "\u001b[32m[I 2023-08-30 16:50:23,215]\u001b[0m Trial 91 finished with value: 0.3831402183427567 and parameters: {'C': 3.1931412578996836, 'epsilon': 0.30640061212863284, 'kernel': 'rbf', 'degree': 5}. Best is trial 68 with value: 0.38581608684683005.\u001b[0m\n",
      "\u001b[32m[I 2023-08-30 16:50:23,328]\u001b[0m Trial 92 finished with value: 0.3846097345401723 and parameters: {'C': 3.0009146556567985, 'epsilon': 0.2750257626912384, 'kernel': 'rbf', 'degree': 5}. Best is trial 68 with value: 0.38581608684683005.\u001b[0m\n",
      "\u001b[32m[I 2023-08-30 16:50:23,448]\u001b[0m Trial 93 finished with value: 0.3808932193183362 and parameters: {'C': 2.709613093566336, 'epsilon': 0.2295234988328315, 'kernel': 'rbf', 'degree': 5}. Best is trial 68 with value: 0.38581608684683005.\u001b[0m\n",
      "\u001b[32m[I 2023-08-30 16:50:23,590]\u001b[0m Trial 94 finished with value: 0.35159676618821295 and parameters: {'C': 4.178105400551832, 'epsilon': 0.06077268211018234, 'kernel': 'rbf', 'degree': 5}. Best is trial 68 with value: 0.38581608684683005.\u001b[0m\n",
      "\u001b[32m[I 2023-08-30 16:50:23,678]\u001b[0m Trial 95 finished with value: 0.3786966633770782 and parameters: {'C': 2.186373844474342, 'epsilon': 0.4363080218430741, 'kernel': 'rbf', 'degree': 5}. Best is trial 68 with value: 0.38581608684683005.\u001b[0m\n",
      "\u001b[32m[I 2023-08-30 16:50:23,783]\u001b[0m Trial 96 finished with value: 0.38144278256979386 and parameters: {'C': 1.6918801073844554, 'epsilon': 0.35664459515405506, 'kernel': 'rbf', 'degree': 5}. Best is trial 68 with value: 0.38581608684683005.\u001b[0m\n",
      "\u001b[32m[I 2023-08-30 16:50:23,903]\u001b[0m Trial 97 finished with value: 0.38003516836303153 and parameters: {'C': 5.92396605694703, 'epsilon': 0.2636957055170464, 'kernel': 'rbf', 'degree': 5}. Best is trial 68 with value: 0.38581608684683005.\u001b[0m\n",
      "\u001b[32m[I 2023-08-30 16:50:24,056]\u001b[0m Trial 98 finished with value: 0.3379730579414179 and parameters: {'C': 11.120662775006652, 'epsilon': 0.15536331249994678, 'kernel': 'rbf', 'degree': 5}. Best is trial 68 with value: 0.38581608684683005.\u001b[0m\n",
      "\u001b[32m[I 2023-08-30 16:50:24,187]\u001b[0m Trial 99 finished with value: 0.365970085199086 and parameters: {'C': 2.667978079453399, 'epsilon': 0.12020275532655372, 'kernel': 'rbf', 'degree': 5}. Best is trial 68 with value: 0.38581608684683005.\u001b[0m\n"
     ]
    },
    {
     "name": "stdout",
     "output_type": "stream",
     "text": [
      "Best r2:  0.38581608684683005\n",
      "Best trial: {'C': 2.2106450803673487, 'epsilon': 0.31050260574824134, 'kernel': 'rbf', 'degree': 1}\n"
     ]
    }
   ],
   "source": [
    "sampler = TPESampler()\n",
    "study = optuna.create_study(\n",
    "    study_name=\"svm_parameter_opt\",\n",
    "    direction=\"maximize\",\n",
    "    sampler=sampler,\n",
    ")\n",
    "\n",
    "study.optimize(lambda trial : objectiveSVM(trial, As_X_train, As_y_train), n_trials=100)\n",
    "print(\"Best r2: \", study.best_value)\n",
    "print(\"Best trial:\", study.best_trial.params)"
   ]
  },
  {
   "cell_type": "code",
   "execution_count": 28,
   "id": "ded0e0f8",
   "metadata": {},
   "outputs": [
    {
     "data": {
      "application/vnd.plotly.v1+json": {
       "config": {
        "plotlyServerURL": "https://plot.ly"
       },
       "data": [
        {
         "dimensions": [
          {
           "label": "Objective Value",
           "range": [
            -10.302402613931719,
            0.38581608684683005
           ],
           "values": [
            -0.28363348897461266,
            0.17945891636714245,
            0.1959957460103522,
            0.2683416856622657,
            -10.302402613931719,
            0.36335152588679537,
            0.2508117748153199,
            0.3308524556666441,
            0.1109819278442733,
            0.33186905970956604,
            0.11132750351543483,
            0.3418880137636608,
            0.3583273836237294,
            0.36413783239077874,
            0.11029989883209741,
            0.19830431194894813,
            0.3361040126813509,
            0.3498697256534835,
            0.11193991940713177,
            0.18160009785993084,
            0.31750292721345447,
            0.35609517281533637,
            0.36760619636708347,
            0.34968170935972387,
            0.3665114574407443,
            0.36902155696522987,
            0.3730107643956521,
            0.37371948300214297,
            0.13107198087595867,
            -3.8210035959255535,
            -0.5441473128244699,
            0.3654434832021629,
            0.3117275080434294,
            0.3793518661430379,
            0.2781567852473755,
            0.3806655791376688,
            0.3447073136201818,
            0.3793045449667959,
            0.28906133043984134,
            0.3751330934701917,
            -0.2912884241071706,
            0.38256362007151445,
            0.3829044295915145,
            0.38422492680641745,
            0.38506354386552627,
            0.3844604584005779,
            0.3848224043921843,
            0.12381007479838187,
            0.34614073013040775,
            0.3193540247835255,
            0.38171817847823575,
            0.24487645879236153,
            0.36607786482222543,
            0.3715386306057325,
            0.37108304726243546,
            0.12808552020653546,
            0.36797176349781796,
            0.36810068820264585,
            0.3848096088016705,
            -0.20130884237737295,
            0.3451448674144335,
            0.38343220382324983,
            0.38323093533345975,
            0.309001308631158,
            0.3833722275236,
            0.37500704914788296,
            0.3581629928272857,
            0.13199100088686172,
            0.38581608684683005,
            0.3799940132195208,
            0.3556811544353808,
            0.3759947993814832,
            0.38029987550375255,
            0.3813683120537946,
            0.36986369439318356,
            0.12882025286270452,
            0.3817938449796959,
            0.37852540369904053,
            0.3725317777248556,
            0.3598516876554983,
            0.12908426045693128,
            0.3804384855844775,
            0.3855873902509025,
            0.37943770302817736,
            0.3832877596684207,
            0.3758246497990745,
            0.3831279603145016,
            0.35266361367550275,
            0.37699961604850624,
            -0.2895483169461868,
            0.38036130772781196,
            0.3831402183427567,
            0.3846097345401723,
            0.3808932193183362,
            0.35159676618821295,
            0.3786966633770782,
            0.38144278256979386,
            0.38003516836303153,
            0.3379730579414179,
            0.365970085199086
           ]
          },
          {
           "label": "C",
           "range": [
            -0.9935255094251461,
            1.9286532409344561
           ],
           "ticktext": [
            "0.102",
            "1",
            "10",
            "84.9"
           ],
           "tickvals": [
            -0.9935255094251461,
            0,
            1,
            1.9286532409344561
           ],
           "values": [
            1.54189366232751,
            1.7801148042808894,
            -0.8484382441033288,
            -0.773814645044059,
            1.7583423273506729,
            0.1922598844857919,
            1.7540969754231,
            0.9371319455289169,
            -0.4784395066328089,
            1.2570486554575457,
            0.05425426149261162,
            0.7453799822299152,
            0.4223912577478267,
            0.1531076627951945,
            -0.033438764248605715,
            0.13568138161359738,
            -0.2916121410614978,
            0.5174717939958284,
            0.3646649449869946,
            -0.36852314584457163,
            0.9754555645317177,
            0.4620887134001144,
            0.27852282013998175,
            -0.10881770548235024,
            0.2009224424391355,
            0.6556398527165569,
            0.68172687922114,
            0.7306680787172618,
            0.6914410885885358,
            1.4301039579174923,
            1.0765263413228503,
            0.7011124427356968,
            1.2286332234990125,
            0.7575633615084686,
            0.8323734326199994,
            0.5874429476864399,
            1.19126510292637,
            0.5921042751480042,
            1.5726517266768019,
            0.9325339265945907,
            0.9061672470389763,
            0.5742674484586201,
            0.5655221763316015,
            0.5019569374791446,
            0.3465644276342482,
            0.32419772438654915,
            0.32957455705251454,
            0.33696893762419083,
            -0.15550556467494595,
            0.040242023372923486,
            0.2244589066000319,
            -0.9935255094251461,
            0.47491618454161366,
            0.36679318003467054,
            0.04206976159765176,
            0.5285098255731335,
            0.2930496972852396,
            0.12080868314728035,
            0.426284227613047,
            0.4374854067308622,
            -0.21792149846386152,
            0.5723319350367041,
            0.4066229114145728,
            -0.5265794782005876,
            0.39149081088566345,
            0.2593057284079533,
            -0.05287168777667638,
            0.10787641112992769,
            0.3445190220853188,
            0.17726440329418724,
            0.7957641355079123,
            0.32411066922057313,
            0.46161300424095797,
            0.6393520538071515,
            0.3948706364094518,
            1.9286532409344561,
            0.27496130246051925,
            0.1934745423231132,
            0.4932829677182535,
            -0.0006988368301256865,
            0.8321421837102854,
            0.3864661287711529,
            0.4117574199368787,
            0.611725348758117,
            0.5188164446558841,
            0.1078674587270374,
            0.29094521595273126,
            0.6969770842636459,
            0.36472870992796225,
            0.5350515412234091,
            0.20903140454927388,
            0.5042181312451745,
            0.47725364450703955,
            0.4329072822673197,
            0.6209793916760434,
            0.3397244232636341,
            0.22836958414851616,
            0.77261256144221,
            1.0461306713243261,
            0.4261822570242948
           ]
          },
          {
           "label": "degree",
           "range": [
            1,
            5
           ],
           "values": [
            5,
            1,
            2,
            4,
            4,
            2,
            5,
            5,
            2,
            5,
            1,
            3,
            3,
            3,
            2,
            3,
            2,
            4,
            1,
            2,
            3,
            3,
            3,
            4,
            3,
            3,
            4,
            4,
            4,
            4,
            5,
            4,
            3,
            4,
            4,
            4,
            4,
            5,
            5,
            5,
            5,
            5,
            5,
            5,
            5,
            5,
            5,
            5,
            5,
            5,
            5,
            5,
            5,
            5,
            5,
            5,
            5,
            5,
            5,
            5,
            5,
            5,
            5,
            5,
            5,
            5,
            5,
            5,
            1,
            1,
            2,
            5,
            1,
            5,
            4,
            1,
            2,
            5,
            4,
            5,
            5,
            5,
            5,
            5,
            5,
            5,
            5,
            4,
            5,
            4,
            5,
            5,
            5,
            5,
            5,
            5,
            5,
            5,
            5,
            5
           ]
          },
          {
           "label": "epsilon",
           "range": [
            -1.985642104418978,
            -0.03347157899360993
           ],
           "ticktext": [
            "0.0103",
            "0.1",
            "0.926"
           ],
           "tickvals": [
            -1.985642104418978,
            -1,
            -0.03347157899360993
           ],
           "values": [
            -0.11539669366050342,
            -0.5243296287130794,
            -0.11162564822844574,
            -0.3151405779654704,
            -0.9733995738712279,
            -1.6952442418460152,
            -0.3008551656377002,
            -1.0851810102807884,
            -1.6590999129676283,
            -0.22430280889212614,
            -1.985642104418978,
            -1.282572789155867,
            -1.4101123756284628,
            -1.4698762783874826,
            -1.8886049587640907,
            -1.6022112191305646,
            -0.7914987386511441,
            -1.5668341204063931,
            -1.781377986819661,
            -1.2924891022969025,
            -1.421517365915414,
            -1.4197101080813659,
            -1.1402057661929204,
            -1.0942538021952848,
            -0.8726456759503148,
            -0.7578149989080383,
            -0.6890054853972895,
            -0.6379606424505057,
            -0.6228482286070733,
            -0.6248490084231012,
            -0.4697549095918342,
            -0.7823771591055062,
            -0.6509519660021458,
            -0.45400039341568477,
            -0.03347157899360993,
            -0.473826184574289,
            -0.430987984691394,
            -0.4278311948129798,
            -0.19581264081531397,
            -0.3680344131839578,
            -0.3588414541217574,
            -0.5351338538420012,
            -0.5155584940923102,
            -0.5580399905449812,
            -0.5356060140321904,
            -0.5515094825203399,
            -0.5438119198227276,
            -0.9412871067104138,
            -0.24625767712595106,
            -0.13431914461607608,
            -0.5638928633662618,
            -0.5478115032682688,
            -0.8707989687340406,
            -0.32150148892118474,
            -0.5361892248120309,
            -0.7142230891128248,
            -0.8363272049718046,
            -0.28948731521826854,
            -0.5756050537952614,
            -0.9637582031663685,
            -0.3906203935919229,
            -0.579567765075568,
            -0.5969909293552671,
            -0.7130895093687377,
            -0.5918291479018234,
            -0.6976012911730148,
            -0.7595160390744143,
            -0.6112030070644221,
            -0.5079347508583061,
            -0.5030872722302493,
            -0.1748112569399724,
            -0.6679668110902997,
            -0.4050987290066952,
            -0.5921002529738656,
            -0.29634598172125753,
            -0.8242363957417269,
            -0.47568444118773084,
            -0.5785988655749321,
            -0.3504350481825378,
            -0.25513551042483457,
            -0.7439856370940019,
            -0.6369606252121346,
            -0.47466886689862703,
            -0.4436899154463546,
            -0.5338266943362451,
            -0.48323252782785187,
            -0.415143041141889,
            -1.0275453454937298,
            -0.6683253248319143,
            -0.5636424113738439,
            -0.5054865058708063,
            -0.5137103714029392,
            -0.5606266222766875,
            -0.639172844370763,
            -1.2162915963012313,
            -0.3602068021171105,
            -0.44776435320100333,
            -0.5788969429613489,
            -0.808651527748172,
            -0.9200855771801734
           ]
          },
          {
           "label": "kernel",
           "range": [
            0,
            2
           ],
           "ticktext": [
            "poly",
            "rbf",
            "linear"
           ],
           "tickvals": [
            0,
            1,
            2
           ],
           "values": [
            0,
            1,
            1,
            1,
            0,
            1,
            1,
            1,
            2,
            1,
            2,
            1,
            1,
            1,
            2,
            0,
            1,
            1,
            2,
            0,
            1,
            1,
            1,
            1,
            1,
            1,
            1,
            1,
            2,
            0,
            0,
            1,
            1,
            1,
            1,
            1,
            1,
            1,
            1,
            1,
            0,
            1,
            1,
            1,
            1,
            1,
            1,
            2,
            1,
            1,
            1,
            1,
            1,
            1,
            1,
            2,
            1,
            1,
            1,
            0,
            1,
            1,
            1,
            1,
            1,
            1,
            1,
            2,
            1,
            1,
            1,
            1,
            1,
            1,
            1,
            0,
            1,
            1,
            1,
            1,
            2,
            1,
            1,
            1,
            1,
            1,
            1,
            1,
            1,
            0,
            1,
            1,
            1,
            1,
            1,
            1,
            1,
            1,
            1,
            1
           ]
          }
         ],
         "labelangle": 30,
         "labelside": "bottom",
         "line": {
          "color": [
           -0.28363348897461266,
           0.17945891636714245,
           0.1959957460103522,
           0.2683416856622657,
           -10.302402613931719,
           0.36335152588679537,
           0.2508117748153199,
           0.3308524556666441,
           0.1109819278442733,
           0.33186905970956604,
           0.11132750351543483,
           0.3418880137636608,
           0.3583273836237294,
           0.36413783239077874,
           0.11029989883209741,
           0.19830431194894813,
           0.3361040126813509,
           0.3498697256534835,
           0.11193991940713177,
           0.18160009785993084,
           0.31750292721345447,
           0.35609517281533637,
           0.36760619636708347,
           0.34968170935972387,
           0.3665114574407443,
           0.36902155696522987,
           0.3730107643956521,
           0.37371948300214297,
           0.13107198087595867,
           -3.8210035959255535,
           -0.5441473128244699,
           0.3654434832021629,
           0.3117275080434294,
           0.3793518661430379,
           0.2781567852473755,
           0.3806655791376688,
           0.3447073136201818,
           0.3793045449667959,
           0.28906133043984134,
           0.3751330934701917,
           -0.2912884241071706,
           0.38256362007151445,
           0.3829044295915145,
           0.38422492680641745,
           0.38506354386552627,
           0.3844604584005779,
           0.3848224043921843,
           0.12381007479838187,
           0.34614073013040775,
           0.3193540247835255,
           0.38171817847823575,
           0.24487645879236153,
           0.36607786482222543,
           0.3715386306057325,
           0.37108304726243546,
           0.12808552020653546,
           0.36797176349781796,
           0.36810068820264585,
           0.3848096088016705,
           -0.20130884237737295,
           0.3451448674144335,
           0.38343220382324983,
           0.38323093533345975,
           0.309001308631158,
           0.3833722275236,
           0.37500704914788296,
           0.3581629928272857,
           0.13199100088686172,
           0.38581608684683005,
           0.3799940132195208,
           0.3556811544353808,
           0.3759947993814832,
           0.38029987550375255,
           0.3813683120537946,
           0.36986369439318356,
           0.12882025286270452,
           0.3817938449796959,
           0.37852540369904053,
           0.3725317777248556,
           0.3598516876554983,
           0.12908426045693128,
           0.3804384855844775,
           0.3855873902509025,
           0.37943770302817736,
           0.3832877596684207,
           0.3758246497990745,
           0.3831279603145016,
           0.35266361367550275,
           0.37699961604850624,
           -0.2895483169461868,
           0.38036130772781196,
           0.3831402183427567,
           0.3846097345401723,
           0.3808932193183362,
           0.35159676618821295,
           0.3786966633770782,
           0.38144278256979386,
           0.38003516836303153,
           0.3379730579414179,
           0.365970085199086
          ],
          "colorbar": {
           "title": {
            "text": "Objective Value"
           }
          },
          "colorscale": [
           [
            0,
            "rgb(247,251,255)"
           ],
           [
            0.125,
            "rgb(222,235,247)"
           ],
           [
            0.25,
            "rgb(198,219,239)"
           ],
           [
            0.375,
            "rgb(158,202,225)"
           ],
           [
            0.5,
            "rgb(107,174,214)"
           ],
           [
            0.625,
            "rgb(66,146,198)"
           ],
           [
            0.75,
            "rgb(33,113,181)"
           ],
           [
            0.875,
            "rgb(8,81,156)"
           ],
           [
            1,
            "rgb(8,48,107)"
           ]
          ],
          "reversescale": false,
          "showscale": true
         },
         "type": "parcoords"
        }
       ],
       "layout": {
        "template": {
         "data": {
          "bar": [
           {
            "error_x": {
             "color": "#2a3f5f"
            },
            "error_y": {
             "color": "#2a3f5f"
            },
            "marker": {
             "line": {
              "color": "#E5ECF6",
              "width": 0.5
             },
             "pattern": {
              "fillmode": "overlay",
              "size": 10,
              "solidity": 0.2
             }
            },
            "type": "bar"
           }
          ],
          "barpolar": [
           {
            "marker": {
             "line": {
              "color": "#E5ECF6",
              "width": 0.5
             },
             "pattern": {
              "fillmode": "overlay",
              "size": 10,
              "solidity": 0.2
             }
            },
            "type": "barpolar"
           }
          ],
          "carpet": [
           {
            "aaxis": {
             "endlinecolor": "#2a3f5f",
             "gridcolor": "white",
             "linecolor": "white",
             "minorgridcolor": "white",
             "startlinecolor": "#2a3f5f"
            },
            "baxis": {
             "endlinecolor": "#2a3f5f",
             "gridcolor": "white",
             "linecolor": "white",
             "minorgridcolor": "white",
             "startlinecolor": "#2a3f5f"
            },
            "type": "carpet"
           }
          ],
          "choropleth": [
           {
            "colorbar": {
             "outlinewidth": 0,
             "ticks": ""
            },
            "type": "choropleth"
           }
          ],
          "contour": [
           {
            "colorbar": {
             "outlinewidth": 0,
             "ticks": ""
            },
            "colorscale": [
             [
              0,
              "#0d0887"
             ],
             [
              0.1111111111111111,
              "#46039f"
             ],
             [
              0.2222222222222222,
              "#7201a8"
             ],
             [
              0.3333333333333333,
              "#9c179e"
             ],
             [
              0.4444444444444444,
              "#bd3786"
             ],
             [
              0.5555555555555556,
              "#d8576b"
             ],
             [
              0.6666666666666666,
              "#ed7953"
             ],
             [
              0.7777777777777778,
              "#fb9f3a"
             ],
             [
              0.8888888888888888,
              "#fdca26"
             ],
             [
              1,
              "#f0f921"
             ]
            ],
            "type": "contour"
           }
          ],
          "contourcarpet": [
           {
            "colorbar": {
             "outlinewidth": 0,
             "ticks": ""
            },
            "type": "contourcarpet"
           }
          ],
          "heatmap": [
           {
            "colorbar": {
             "outlinewidth": 0,
             "ticks": ""
            },
            "colorscale": [
             [
              0,
              "#0d0887"
             ],
             [
              0.1111111111111111,
              "#46039f"
             ],
             [
              0.2222222222222222,
              "#7201a8"
             ],
             [
              0.3333333333333333,
              "#9c179e"
             ],
             [
              0.4444444444444444,
              "#bd3786"
             ],
             [
              0.5555555555555556,
              "#d8576b"
             ],
             [
              0.6666666666666666,
              "#ed7953"
             ],
             [
              0.7777777777777778,
              "#fb9f3a"
             ],
             [
              0.8888888888888888,
              "#fdca26"
             ],
             [
              1,
              "#f0f921"
             ]
            ],
            "type": "heatmap"
           }
          ],
          "heatmapgl": [
           {
            "colorbar": {
             "outlinewidth": 0,
             "ticks": ""
            },
            "colorscale": [
             [
              0,
              "#0d0887"
             ],
             [
              0.1111111111111111,
              "#46039f"
             ],
             [
              0.2222222222222222,
              "#7201a8"
             ],
             [
              0.3333333333333333,
              "#9c179e"
             ],
             [
              0.4444444444444444,
              "#bd3786"
             ],
             [
              0.5555555555555556,
              "#d8576b"
             ],
             [
              0.6666666666666666,
              "#ed7953"
             ],
             [
              0.7777777777777778,
              "#fb9f3a"
             ],
             [
              0.8888888888888888,
              "#fdca26"
             ],
             [
              1,
              "#f0f921"
             ]
            ],
            "type": "heatmapgl"
           }
          ],
          "histogram": [
           {
            "marker": {
             "pattern": {
              "fillmode": "overlay",
              "size": 10,
              "solidity": 0.2
             }
            },
            "type": "histogram"
           }
          ],
          "histogram2d": [
           {
            "colorbar": {
             "outlinewidth": 0,
             "ticks": ""
            },
            "colorscale": [
             [
              0,
              "#0d0887"
             ],
             [
              0.1111111111111111,
              "#46039f"
             ],
             [
              0.2222222222222222,
              "#7201a8"
             ],
             [
              0.3333333333333333,
              "#9c179e"
             ],
             [
              0.4444444444444444,
              "#bd3786"
             ],
             [
              0.5555555555555556,
              "#d8576b"
             ],
             [
              0.6666666666666666,
              "#ed7953"
             ],
             [
              0.7777777777777778,
              "#fb9f3a"
             ],
             [
              0.8888888888888888,
              "#fdca26"
             ],
             [
              1,
              "#f0f921"
             ]
            ],
            "type": "histogram2d"
           }
          ],
          "histogram2dcontour": [
           {
            "colorbar": {
             "outlinewidth": 0,
             "ticks": ""
            },
            "colorscale": [
             [
              0,
              "#0d0887"
             ],
             [
              0.1111111111111111,
              "#46039f"
             ],
             [
              0.2222222222222222,
              "#7201a8"
             ],
             [
              0.3333333333333333,
              "#9c179e"
             ],
             [
              0.4444444444444444,
              "#bd3786"
             ],
             [
              0.5555555555555556,
              "#d8576b"
             ],
             [
              0.6666666666666666,
              "#ed7953"
             ],
             [
              0.7777777777777778,
              "#fb9f3a"
             ],
             [
              0.8888888888888888,
              "#fdca26"
             ],
             [
              1,
              "#f0f921"
             ]
            ],
            "type": "histogram2dcontour"
           }
          ],
          "mesh3d": [
           {
            "colorbar": {
             "outlinewidth": 0,
             "ticks": ""
            },
            "type": "mesh3d"
           }
          ],
          "parcoords": [
           {
            "line": {
             "colorbar": {
              "outlinewidth": 0,
              "ticks": ""
             }
            },
            "type": "parcoords"
           }
          ],
          "pie": [
           {
            "automargin": true,
            "type": "pie"
           }
          ],
          "scatter": [
           {
            "marker": {
             "colorbar": {
              "outlinewidth": 0,
              "ticks": ""
             }
            },
            "type": "scatter"
           }
          ],
          "scatter3d": [
           {
            "line": {
             "colorbar": {
              "outlinewidth": 0,
              "ticks": ""
             }
            },
            "marker": {
             "colorbar": {
              "outlinewidth": 0,
              "ticks": ""
             }
            },
            "type": "scatter3d"
           }
          ],
          "scattercarpet": [
           {
            "marker": {
             "colorbar": {
              "outlinewidth": 0,
              "ticks": ""
             }
            },
            "type": "scattercarpet"
           }
          ],
          "scattergeo": [
           {
            "marker": {
             "colorbar": {
              "outlinewidth": 0,
              "ticks": ""
             }
            },
            "type": "scattergeo"
           }
          ],
          "scattergl": [
           {
            "marker": {
             "colorbar": {
              "outlinewidth": 0,
              "ticks": ""
             }
            },
            "type": "scattergl"
           }
          ],
          "scattermapbox": [
           {
            "marker": {
             "colorbar": {
              "outlinewidth": 0,
              "ticks": ""
             }
            },
            "type": "scattermapbox"
           }
          ],
          "scatterpolar": [
           {
            "marker": {
             "colorbar": {
              "outlinewidth": 0,
              "ticks": ""
             }
            },
            "type": "scatterpolar"
           }
          ],
          "scatterpolargl": [
           {
            "marker": {
             "colorbar": {
              "outlinewidth": 0,
              "ticks": ""
             }
            },
            "type": "scatterpolargl"
           }
          ],
          "scatterternary": [
           {
            "marker": {
             "colorbar": {
              "outlinewidth": 0,
              "ticks": ""
             }
            },
            "type": "scatterternary"
           }
          ],
          "surface": [
           {
            "colorbar": {
             "outlinewidth": 0,
             "ticks": ""
            },
            "colorscale": [
             [
              0,
              "#0d0887"
             ],
             [
              0.1111111111111111,
              "#46039f"
             ],
             [
              0.2222222222222222,
              "#7201a8"
             ],
             [
              0.3333333333333333,
              "#9c179e"
             ],
             [
              0.4444444444444444,
              "#bd3786"
             ],
             [
              0.5555555555555556,
              "#d8576b"
             ],
             [
              0.6666666666666666,
              "#ed7953"
             ],
             [
              0.7777777777777778,
              "#fb9f3a"
             ],
             [
              0.8888888888888888,
              "#fdca26"
             ],
             [
              1,
              "#f0f921"
             ]
            ],
            "type": "surface"
           }
          ],
          "table": [
           {
            "cells": {
             "fill": {
              "color": "#EBF0F8"
             },
             "line": {
              "color": "white"
             }
            },
            "header": {
             "fill": {
              "color": "#C8D4E3"
             },
             "line": {
              "color": "white"
             }
            },
            "type": "table"
           }
          ]
         },
         "layout": {
          "annotationdefaults": {
           "arrowcolor": "#2a3f5f",
           "arrowhead": 0,
           "arrowwidth": 1
          },
          "autotypenumbers": "strict",
          "coloraxis": {
           "colorbar": {
            "outlinewidth": 0,
            "ticks": ""
           }
          },
          "colorscale": {
           "diverging": [
            [
             0,
             "#8e0152"
            ],
            [
             0.1,
             "#c51b7d"
            ],
            [
             0.2,
             "#de77ae"
            ],
            [
             0.3,
             "#f1b6da"
            ],
            [
             0.4,
             "#fde0ef"
            ],
            [
             0.5,
             "#f7f7f7"
            ],
            [
             0.6,
             "#e6f5d0"
            ],
            [
             0.7,
             "#b8e186"
            ],
            [
             0.8,
             "#7fbc41"
            ],
            [
             0.9,
             "#4d9221"
            ],
            [
             1,
             "#276419"
            ]
           ],
           "sequential": [
            [
             0,
             "#0d0887"
            ],
            [
             0.1111111111111111,
             "#46039f"
            ],
            [
             0.2222222222222222,
             "#7201a8"
            ],
            [
             0.3333333333333333,
             "#9c179e"
            ],
            [
             0.4444444444444444,
             "#bd3786"
            ],
            [
             0.5555555555555556,
             "#d8576b"
            ],
            [
             0.6666666666666666,
             "#ed7953"
            ],
            [
             0.7777777777777778,
             "#fb9f3a"
            ],
            [
             0.8888888888888888,
             "#fdca26"
            ],
            [
             1,
             "#f0f921"
            ]
           ],
           "sequentialminus": [
            [
             0,
             "#0d0887"
            ],
            [
             0.1111111111111111,
             "#46039f"
            ],
            [
             0.2222222222222222,
             "#7201a8"
            ],
            [
             0.3333333333333333,
             "#9c179e"
            ],
            [
             0.4444444444444444,
             "#bd3786"
            ],
            [
             0.5555555555555556,
             "#d8576b"
            ],
            [
             0.6666666666666666,
             "#ed7953"
            ],
            [
             0.7777777777777778,
             "#fb9f3a"
            ],
            [
             0.8888888888888888,
             "#fdca26"
            ],
            [
             1,
             "#f0f921"
            ]
           ]
          },
          "colorway": [
           "#636efa",
           "#EF553B",
           "#00cc96",
           "#ab63fa",
           "#FFA15A",
           "#19d3f3",
           "#FF6692",
           "#B6E880",
           "#FF97FF",
           "#FECB52"
          ],
          "font": {
           "color": "#2a3f5f"
          },
          "geo": {
           "bgcolor": "white",
           "lakecolor": "white",
           "landcolor": "#E5ECF6",
           "showlakes": true,
           "showland": true,
           "subunitcolor": "white"
          },
          "hoverlabel": {
           "align": "left"
          },
          "hovermode": "closest",
          "mapbox": {
           "style": "light"
          },
          "paper_bgcolor": "white",
          "plot_bgcolor": "#E5ECF6",
          "polar": {
           "angularaxis": {
            "gridcolor": "white",
            "linecolor": "white",
            "ticks": ""
           },
           "bgcolor": "#E5ECF6",
           "radialaxis": {
            "gridcolor": "white",
            "linecolor": "white",
            "ticks": ""
           }
          },
          "scene": {
           "xaxis": {
            "backgroundcolor": "#E5ECF6",
            "gridcolor": "white",
            "gridwidth": 2,
            "linecolor": "white",
            "showbackground": true,
            "ticks": "",
            "zerolinecolor": "white"
           },
           "yaxis": {
            "backgroundcolor": "#E5ECF6",
            "gridcolor": "white",
            "gridwidth": 2,
            "linecolor": "white",
            "showbackground": true,
            "ticks": "",
            "zerolinecolor": "white"
           },
           "zaxis": {
            "backgroundcolor": "#E5ECF6",
            "gridcolor": "white",
            "gridwidth": 2,
            "linecolor": "white",
            "showbackground": true,
            "ticks": "",
            "zerolinecolor": "white"
           }
          },
          "shapedefaults": {
           "line": {
            "color": "#2a3f5f"
           }
          },
          "ternary": {
           "aaxis": {
            "gridcolor": "white",
            "linecolor": "white",
            "ticks": ""
           },
           "baxis": {
            "gridcolor": "white",
            "linecolor": "white",
            "ticks": ""
           },
           "bgcolor": "#E5ECF6",
           "caxis": {
            "gridcolor": "white",
            "linecolor": "white",
            "ticks": ""
           }
          },
          "title": {
           "x": 0.05
          },
          "xaxis": {
           "automargin": true,
           "gridcolor": "white",
           "linecolor": "white",
           "ticks": "",
           "title": {
            "standoff": 15
           },
           "zerolinecolor": "white",
           "zerolinewidth": 2
          },
          "yaxis": {
           "automargin": true,
           "gridcolor": "white",
           "linecolor": "white",
           "ticks": "",
           "title": {
            "standoff": 15
           },
           "zerolinecolor": "white",
           "zerolinewidth": 2
          }
         }
        },
        "title": {
         "text": "Parallel Coordinate Plot"
        }
       }
      }
     },
     "metadata": {},
     "output_type": "display_data"
    }
   ],
   "source": [
    "optuna.visualization.plot_parallel_coordinate(study)"
   ]
  },
  {
   "cell_type": "code",
   "execution_count": 29,
   "id": "75db1ddf",
   "metadata": {},
   "outputs": [
    {
     "name": "stdout",
     "output_type": "stream",
     "text": [
      "Best trial: {'C': 2.2106450803673487, 'epsilon': 0.31050260574824134, 'kernel': 'rbf', 'degree': 1}\n"
     ]
    }
   ],
   "source": [
    "print(\"Best trial:\", study.best_trial.params)"
   ]
  },
  {
   "cell_type": "code",
   "execution_count": 30,
   "id": "862eadd2",
   "metadata": {},
   "outputs": [
    {
     "data": {
      "text/html": [
       "<style>#sk-container-id-1 {color: black;}#sk-container-id-1 pre{padding: 0;}#sk-container-id-1 div.sk-toggleable {background-color: white;}#sk-container-id-1 label.sk-toggleable__label {cursor: pointer;display: block;width: 100%;margin-bottom: 0;padding: 0.3em;box-sizing: border-box;text-align: center;}#sk-container-id-1 label.sk-toggleable__label-arrow:before {content: \"▸\";float: left;margin-right: 0.25em;color: #696969;}#sk-container-id-1 label.sk-toggleable__label-arrow:hover:before {color: black;}#sk-container-id-1 div.sk-estimator:hover label.sk-toggleable__label-arrow:before {color: black;}#sk-container-id-1 div.sk-toggleable__content {max-height: 0;max-width: 0;overflow: hidden;text-align: left;background-color: #f0f8ff;}#sk-container-id-1 div.sk-toggleable__content pre {margin: 0.2em;color: black;border-radius: 0.25em;background-color: #f0f8ff;}#sk-container-id-1 input.sk-toggleable__control:checked~div.sk-toggleable__content {max-height: 200px;max-width: 100%;overflow: auto;}#sk-container-id-1 input.sk-toggleable__control:checked~label.sk-toggleable__label-arrow:before {content: \"▾\";}#sk-container-id-1 div.sk-estimator input.sk-toggleable__control:checked~label.sk-toggleable__label {background-color: #d4ebff;}#sk-container-id-1 div.sk-label input.sk-toggleable__control:checked~label.sk-toggleable__label {background-color: #d4ebff;}#sk-container-id-1 input.sk-hidden--visually {border: 0;clip: rect(1px 1px 1px 1px);clip: rect(1px, 1px, 1px, 1px);height: 1px;margin: -1px;overflow: hidden;padding: 0;position: absolute;width: 1px;}#sk-container-id-1 div.sk-estimator {font-family: monospace;background-color: #f0f8ff;border: 1px dotted black;border-radius: 0.25em;box-sizing: border-box;margin-bottom: 0.5em;}#sk-container-id-1 div.sk-estimator:hover {background-color: #d4ebff;}#sk-container-id-1 div.sk-parallel-item::after {content: \"\";width: 100%;border-bottom: 1px solid gray;flex-grow: 1;}#sk-container-id-1 div.sk-label:hover label.sk-toggleable__label {background-color: #d4ebff;}#sk-container-id-1 div.sk-serial::before {content: \"\";position: absolute;border-left: 1px solid gray;box-sizing: border-box;top: 0;bottom: 0;left: 50%;z-index: 0;}#sk-container-id-1 div.sk-serial {display: flex;flex-direction: column;align-items: center;background-color: white;padding-right: 0.2em;padding-left: 0.2em;position: relative;}#sk-container-id-1 div.sk-item {position: relative;z-index: 1;}#sk-container-id-1 div.sk-parallel {display: flex;align-items: stretch;justify-content: center;background-color: white;position: relative;}#sk-container-id-1 div.sk-item::before, #sk-container-id-1 div.sk-parallel-item::before {content: \"\";position: absolute;border-left: 1px solid gray;box-sizing: border-box;top: 0;bottom: 0;left: 50%;z-index: -1;}#sk-container-id-1 div.sk-parallel-item {display: flex;flex-direction: column;z-index: 1;position: relative;background-color: white;}#sk-container-id-1 div.sk-parallel-item:first-child::after {align-self: flex-end;width: 50%;}#sk-container-id-1 div.sk-parallel-item:last-child::after {align-self: flex-start;width: 50%;}#sk-container-id-1 div.sk-parallel-item:only-child::after {width: 0;}#sk-container-id-1 div.sk-dashed-wrapped {border: 1px dashed gray;margin: 0 0.4em 0.5em 0.4em;box-sizing: border-box;padding-bottom: 0.4em;background-color: white;}#sk-container-id-1 div.sk-label label {font-family: monospace;font-weight: bold;display: inline-block;line-height: 1.2em;}#sk-container-id-1 div.sk-label-container {text-align: center;}#sk-container-id-1 div.sk-container {/* jupyter's `normalize.less` sets `[hidden] { display: none; }` but bootstrap.min.css set `[hidden] { display: none !important; }` so we also need the `!important` here to be able to override the default hidden behavior on the sphinx rendered scikit-learn.org. See: https://github.com/scikit-learn/scikit-learn/issues/21755 */display: inline-block !important;position: relative;}#sk-container-id-1 div.sk-text-repr-fallback {display: none;}</style><div id=\"sk-container-id-1\" class=\"sk-top-container\"><div class=\"sk-text-repr-fallback\"><pre>SVR(C=2.2106450803673487, degree=1, epsilon=0.31050260574824134)</pre><b>In a Jupyter environment, please rerun this cell to show the HTML representation or trust the notebook. <br />On GitHub, the HTML representation is unable to render, please try loading this page with nbviewer.org.</b></div><div class=\"sk-container\" hidden><div class=\"sk-item\"><div class=\"sk-estimator sk-toggleable\"><input class=\"sk-toggleable__control sk-hidden--visually\" id=\"sk-estimator-id-1\" type=\"checkbox\" checked><label for=\"sk-estimator-id-1\" class=\"sk-toggleable__label sk-toggleable__label-arrow\">SVR</label><div class=\"sk-toggleable__content\"><pre>SVR(C=2.2106450803673487, degree=1, epsilon=0.31050260574824134)</pre></div></div></div></div></div>"
      ],
      "text/plain": [
       "SVR(C=2.2106450803673487, degree=1, epsilon=0.31050260574824134)"
      ]
     },
     "execution_count": 30,
     "metadata": {},
     "output_type": "execute_result"
    }
   ],
   "source": [
    "svm_params = {\n",
    "    \"C\": study.best_trial.params[\"C\"],\n",
    "    \"epsilon\": study.best_trial.params[\"epsilon\"],\n",
    "    \"kernel\": study.best_trial.params[\"kernel\"],\n",
    "    \"degree\": study.best_trial.params[\"degree\"]\n",
    "}\n",
    "\n",
    "svm = SVR(**svm_params)\n",
    "svm.fit(As_X_train, As_y_train)"
   ]
  },
  {
   "cell_type": "code",
   "execution_count": 31,
   "id": "8577fb37",
   "metadata": {},
   "outputs": [],
   "source": [
    "y_train_pred = svm.predict(As_X_train)\n",
    "y_test_pred = svm.predict(As_X_test)"
   ]
  },
  {
   "cell_type": "code",
   "execution_count": 32,
   "id": "2ea0526a",
   "metadata": {},
   "outputs": [],
   "source": [
    "# plt.scatter(y_train_pred, np.array(As_y_train))"
   ]
  },
  {
   "cell_type": "code",
   "execution_count": 33,
   "id": "d2a4dd85",
   "metadata": {},
   "outputs": [
    {
     "name": "stdout",
     "output_type": "stream",
     "text": [
      "Train RMSE:  0.5778071208666476\n",
      "Test RMSE:  0.5814276418578275\n"
     ]
    }
   ],
   "source": [
    "print(\"Train RMSE: \", np.sqrt(mean_squared_error(As_y_train, y_train_pred)))\n",
    "print(\"Test RMSE: \", np.sqrt(mean_squared_error(As_y_test, y_test_pred)))"
   ]
  },
  {
   "cell_type": "code",
   "execution_count": 34,
   "id": "08fe787a",
   "metadata": {},
   "outputs": [
    {
     "name": "stdout",
     "output_type": "stream",
     "text": [
      "Train R2:  0.5870041782321727\n",
      "Test R2:  0.564810826587977\n"
     ]
    }
   ],
   "source": [
    "print(\"Train R2: \", r2_score(As_y_train, y_train_pred))\n",
    "print(\"Test R2: \", r2_score(As_y_test, y_test_pred))"
   ]
  },
  {
   "cell_type": "code",
   "execution_count": 35,
   "id": "5ec4820c",
   "metadata": {},
   "outputs": [
    {
     "data": {
      "image/png": "[encoded data removed]",
      "text/plain": [
       "<Figure size 640x480 with 1 Axes>"
      ]
     },
     "metadata": {},
     "output_type": "display_data"
    }
   ],
   "source": [
    "plt.scatter(y_train_pred, np.array(As_y_train), color=\"orange\", alpha=0.3)\n",
    "plt.scatter(y_test_pred, np.array(As_y_test), color=\"green\", alpha=0.4)\n",
    "plt.axis(\"auto\") # scaled, tight, auto, image, square\n",
    "# plt.xlim([0, 1.5]) \n",
    "# plt.ylim(0, None) \n",
    "plt.xlabel('Predicted Values')\n",
    "plt.ylabel('Actual Values')\n",
    "\n",
    "# Add y=x line\n",
    "plt.plot([0, 2.0], [0, 2.0], color='red', linestyle='-')\n",
    "\n",
    "plt.show()"
   ]
  },
  {
   "attachments": {},
   "cell_type": "markdown",
   "id": "e0507d63",
   "metadata": {},
   "source": [
    "Cd"
   ]
  },
  {
   "attachments": {},
   "cell_type": "markdown",
   "id": "f8f809d9",
   "metadata": {},
   "source": [
    "Optimization"
   ]
  },
  {
   "cell_type": "code",
   "execution_count": 36,
   "id": "b7aeaf0a",
   "metadata": {},
   "outputs": [
    {
     "name": "stderr",
     "output_type": "stream",
     "text": [
      "\u001b[32m[I 2023-08-30 16:50:24,776]\u001b[0m A new study created in memory with name: svm_parameter_opt\u001b[0m\n",
      "\u001b[32m[I 2023-08-30 16:50:24,884]\u001b[0m Trial 0 finished with value: 0.49910729370634765 and parameters: {'C': 2.877702024737741, 'epsilon': 0.05952939287674768, 'kernel': 'rbf', 'degree': 3}. Best is trial 0 with value: 0.49910729370634765.\u001b[0m\n",
      "\u001b[32m[I 2023-08-30 16:50:24,980]\u001b[0m Trial 1 finished with value: 0.05166840878370427 and parameters: {'C': 0.4745271628202923, 'epsilon': 0.03660644724888376, 'kernel': 'poly', 'degree': 4}. Best is trial 0 with value: 0.49910729370634765.\u001b[0m\n",
      "\u001b[32m[I 2023-08-30 16:50:25,002]\u001b[0m Trial 2 finished with value: -0.009185048704528942 and parameters: {'C': 23.610158824346986, 'epsilon': 0.49393920902883326, 'kernel': 'rbf', 'degree': 2}. Best is trial 0 with value: 0.49910729370634765.\u001b[0m\n",
      "\u001b[32m[I 2023-08-30 16:50:25,014]\u001b[0m Trial 3 finished with value: -0.4202895600551086 and parameters: {'C': 1.297489628087658, 'epsilon': 0.6037160168231671, 'kernel': 'rbf', 'degree': 4}. Best is trial 0 with value: 0.49910729370634765.\u001b[0m\n",
      "\u001b[32m[I 2023-08-30 16:50:25,033]\u001b[0m Trial 4 finished with value: -0.026877711880522858 and parameters: {'C': 0.281855064541051, 'epsilon': 0.4216219970134782, 'kernel': 'poly', 'degree': 4}. Best is trial 0 with value: 0.49910729370634765.\u001b[0m\n",
      "\u001b[32m[I 2023-08-30 16:50:25,072]\u001b[0m Trial 5 finished with value: 0.19533324888921128 and parameters: {'C': 45.04449110810717, 'epsilon': 0.41642668460713256, 'kernel': 'rbf', 'degree': 1}. Best is trial 0 with value: 0.49910729370634765.\u001b[0m\n",
      "\u001b[32m[I 2023-08-30 16:50:25,201]\u001b[0m Trial 6 finished with value: -0.38934753112595333 and parameters: {'C': 0.5004040672710371, 'epsilon': 0.014455635247107678, 'kernel': 'poly', 'degree': 5}. Best is trial 0 with value: 0.49910729370634765.\u001b[0m\n",
      "\u001b[32m[I 2023-08-30 16:50:25,409]\u001b[0m Trial 7 finished with value: 0.14194144532604505 and parameters: {'C': 0.520125306773371, 'epsilon': 0.023624282612661255, 'kernel': 'linear', 'degree': 4}. Best is trial 0 with value: 0.49910729370634765.\u001b[0m\n",
      "\u001b[32m[I 2023-08-30 16:50:25,515]\u001b[0m Trial 8 finished with value: 0.18657085982522345 and parameters: {'C': 0.21130768639201145, 'epsilon': 0.11969976377169675, 'kernel': 'linear', 'degree': 1}. Best is trial 0 with value: 0.49910729370634765.\u001b[0m\n",
      "\u001b[32m[I 2023-08-30 16:50:25,894]\u001b[0m Trial 9 finished with value: 0.15259857848860975 and parameters: {'C': 1.3594675282486695, 'epsilon': 0.05293334478938375, 'kernel': 'linear', 'degree': 3}. Best is trial 0 with value: 0.49910729370634765.\u001b[0m\n",
      "\u001b[32m[I 2023-08-30 16:50:25,996]\u001b[0m Trial 10 finished with value: 0.4564053868183982 and parameters: {'C': 8.92809799847426, 'epsilon': 0.11887622792000901, 'kernel': 'rbf', 'degree': 2}. Best is trial 0 with value: 0.49910729370634765.\u001b[0m\n",
      "\u001b[32m[I 2023-08-30 16:50:26,080]\u001b[0m Trial 11 finished with value: 0.46088182911998066 and parameters: {'C': 6.247946596740909, 'epsilon': 0.14904649950795898, 'kernel': 'rbf', 'degree': 2}. Best is trial 0 with value: 0.49910729370634765.\u001b[0m\n",
      "\u001b[32m[I 2023-08-30 16:50:26,146]\u001b[0m Trial 12 finished with value: 0.4179908091775915 and parameters: {'C': 5.956655910409373, 'epsilon': 0.2077472219580459, 'kernel': 'rbf', 'degree': 2}. Best is trial 0 with value: 0.49910729370634765.\u001b[0m\n",
      "\u001b[32m[I 2023-08-30 16:50:26,253]\u001b[0m Trial 13 finished with value: 0.4987441501407533 and parameters: {'C': 3.2024535526121722, 'epsilon': 0.06289722419343288, 'kernel': 'rbf', 'degree': 3}. Best is trial 0 with value: 0.49910729370634765.\u001b[0m\n",
      "\u001b[32m[I 2023-08-30 16:50:26,364]\u001b[0m Trial 14 finished with value: 0.5119136431377793 and parameters: {'C': 2.001723128338701, 'epsilon': 0.04427269588322457, 'kernel': 'rbf', 'degree': 3}. Best is trial 14 with value: 0.5119136431377793.\u001b[0m\n",
      "\u001b[32m[I 2023-08-30 16:50:26,504]\u001b[0m Trial 15 finished with value: 0.5239888386210264 and parameters: {'C': 1.4916549687025455, 'epsilon': 0.010306213538673828, 'kernel': 'rbf', 'degree': 3}. Best is trial 15 with value: 0.5239888386210264.\u001b[0m\n",
      "\u001b[32m[I 2023-08-30 16:50:26,631]\u001b[0m Trial 16 finished with value: 0.5265670674266113 and parameters: {'C': 0.9965941658888154, 'epsilon': 0.010594105416879173, 'kernel': 'rbf', 'degree': 5}. Best is trial 16 with value: 0.5265670674266113.\u001b[0m\n",
      "\u001b[32m[I 2023-08-30 16:50:26,744]\u001b[0m Trial 17 finished with value: 0.47186681893796784 and parameters: {'C': 0.13935266156438872, 'epsilon': 0.010912881020729013, 'kernel': 'rbf', 'degree': 5}. Best is trial 16 with value: 0.5265670674266113.\u001b[0m\n",
      "\u001b[32m[I 2023-08-30 16:50:27,044]\u001b[0m Trial 18 finished with value: 0.1439664441515921 and parameters: {'C': 0.9106020581694134, 'epsilon': 0.02039639336769746, 'kernel': 'linear', 'degree': 5}. Best is trial 16 with value: 0.5265670674266113.\u001b[0m\n",
      "\u001b[32m[I 2023-08-30 16:50:27,504]\u001b[0m Trial 19 finished with value: -0.7627956675734964 and parameters: {'C': 15.54170577721968, 'epsilon': 0.023613197058572618, 'kernel': 'poly', 'degree': 4}. Best is trial 16 with value: 0.5265670674266113.\u001b[0m\n",
      "\u001b[32m[I 2023-08-30 16:50:27,626]\u001b[0m Trial 20 finished with value: 0.5233580192174008 and parameters: {'C': 0.7938884564776171, 'epsilon': 0.010844930599245822, 'kernel': 'rbf', 'degree': 5}. Best is trial 16 with value: 0.5265670674266113.\u001b[0m\n",
      "\u001b[32m[I 2023-08-30 16:50:27,758]\u001b[0m Trial 21 finished with value: 0.5242717077031853 and parameters: {'C': 0.8386719700930291, 'epsilon': 0.010022498094479092, 'kernel': 'rbf', 'degree': 5}. Best is trial 16 with value: 0.5265670674266113.\u001b[0m\n",
      "\u001b[32m[I 2023-08-30 16:50:27,899]\u001b[0m Trial 22 finished with value: 0.5186770161244654 and parameters: {'C': 1.9655141027570187, 'epsilon': 0.01756346216872727, 'kernel': 'rbf', 'degree': 5}. Best is trial 16 with value: 0.5265670674266113.\u001b[0m\n",
      "\u001b[32m[I 2023-08-30 16:50:28,021]\u001b[0m Trial 23 finished with value: 0.4979376303511847 and parameters: {'C': 0.28287210233452886, 'epsilon': 0.010247331184139879, 'kernel': 'rbf', 'degree': 4}. Best is trial 16 with value: 0.5265670674266113.\u001b[0m\n",
      "\u001b[32m[I 2023-08-30 16:50:28,114]\u001b[0m Trial 24 finished with value: 0.45302020422666356 and parameters: {'C': 0.10393310841590205, 'epsilon': 0.031062359259283197, 'kernel': 'rbf', 'degree': 5}. Best is trial 16 with value: 0.5265670674266113.\u001b[0m\n",
      "\u001b[32m[I 2023-08-30 16:50:28,128]\u001b[0m Trial 25 finished with value: -0.4202895600551086 and parameters: {'C': 3.609408380360791, 'epsilon': 0.9524907314717574, 'kernel': 'rbf', 'degree': 4}. Best is trial 16 with value: 0.5265670674266113.\u001b[0m\n",
      "\u001b[32m[I 2023-08-30 16:50:28,262]\u001b[0m Trial 26 finished with value: 0.5234244475472588 and parameters: {'C': 0.8487147626682788, 'epsilon': 0.01522960755895899, 'kernel': 'rbf', 'degree': 3}. Best is trial 16 with value: 0.5265670674266113.\u001b[0m\n",
      "\u001b[32m[I 2023-08-30 16:50:28,391]\u001b[0m Trial 27 finished with value: 0.523528631938554 and parameters: {'C': 1.357613576388769, 'epsilon': 0.013834750939098953, 'kernel': 'rbf', 'degree': 5}. Best is trial 16 with value: 0.5265670674266113.\u001b[0m\n",
      "\u001b[32m[I 2023-08-30 16:50:28,494]\u001b[0m Trial 28 finished with value: 0.011263572565006253 and parameters: {'C': 0.43213705333407065, 'epsilon': 0.0276168194354792, 'kernel': 'poly', 'degree': 4}. Best is trial 16 with value: 0.5265670674266113.\u001b[0m\n",
      "\u001b[32m[I 2023-08-30 16:50:29,165]\u001b[0m Trial 29 finished with value: 0.17354125748242533 and parameters: {'C': 2.467051055434196, 'epsilon': 0.07585715342965833, 'kernel': 'linear', 'degree': 3}. Best is trial 16 with value: 0.5265670674266113.\u001b[0m\n",
      "\u001b[32m[I 2023-08-30 16:50:29,721]\u001b[0m Trial 30 finished with value: 0.18016675285597555 and parameters: {'C': 73.65083460578997, 'epsilon': 0.017506985326237894, 'kernel': 'rbf', 'degree': 5}. Best is trial 16 with value: 0.5265670674266113.\u001b[0m\n",
      "\u001b[32m[I 2023-08-30 16:50:29,849]\u001b[0m Trial 31 finished with value: 0.5239240864938992 and parameters: {'C': 1.3342868195639708, 'epsilon': 0.013757014586317924, 'kernel': 'rbf', 'degree': 5}. Best is trial 16 with value: 0.5265670674266113.\u001b[0m\n",
      "\u001b[32m[I 2023-08-30 16:50:29,979]\u001b[0m Trial 32 finished with value: 0.5221562588226382 and parameters: {'C': 0.7533828467977318, 'epsilon': 0.012959035709589464, 'kernel': 'rbf', 'degree': 5}. Best is trial 16 with value: 0.5265670674266113.\u001b[0m\n",
      "\u001b[32m[I 2023-08-30 16:50:30,122]\u001b[0m Trial 33 finished with value: 0.4952559260687015 and parameters: {'C': 4.795485147284391, 'epsilon': 0.034636895038480074, 'kernel': 'rbf', 'degree': 5}. Best is trial 16 with value: 0.5265670674266113.\u001b[0m\n",
      "\u001b[32m[I 2023-08-30 16:50:30,253]\u001b[0m Trial 34 finished with value: 0.5223593185756005 and parameters: {'C': 1.5204260985672855, 'epsilon': 0.019284407817420728, 'kernel': 'rbf', 'degree': 4}. Best is trial 16 with value: 0.5265670674266113.\u001b[0m\n",
      "\u001b[32m[I 2023-08-30 16:50:30,387]\u001b[0m Trial 35 finished with value: 0.5262663980548388 and parameters: {'C': 1.0441553956754395, 'epsilon': 0.010406392442224771, 'kernel': 'rbf', 'degree': 4}. Best is trial 16 with value: 0.5265670674266113.\u001b[0m\n",
      "\u001b[32m[I 2023-08-30 16:50:30,503]\u001b[0m Trial 36 finished with value: 0.12600458877111925 and parameters: {'C': 0.3466311096461314, 'epsilon': 0.010728956748588135, 'kernel': 'poly', 'degree': 4}. Best is trial 16 with value: 0.5265670674266113.\u001b[0m\n",
      "\u001b[32m[I 2023-08-30 16:50:30,553]\u001b[0m Trial 37 finished with value: 0.391019388845526 and parameters: {'C': 0.5594687941102604, 'epsilon': 0.23650889827330013, 'kernel': 'rbf', 'degree': 3}. Best is trial 16 with value: 0.5265670674266113.\u001b[0m\n",
      "\u001b[32m[I 2023-08-30 16:50:30,668]\u001b[0m Trial 38 finished with value: 0.5216666095784015 and parameters: {'C': 0.9233921732454898, 'epsilon': 0.02437600934377145, 'kernel': 'rbf', 'degree': 4}. Best is trial 16 with value: 0.5265670674266113.\u001b[0m\n",
      "\u001b[32m[I 2023-08-30 16:50:30,768]\u001b[0m Trial 39 finished with value: 0.1919549894544335 and parameters: {'C': 0.2201453385231168, 'epsilon': 0.016469416574130667, 'kernel': 'poly', 'degree': 4}. Best is trial 16 with value: 0.5265670674266113.\u001b[0m\n",
      "\u001b[32m[I 2023-08-30 16:50:30,886]\u001b[0m Trial 40 finished with value: 0.5145865719735326 and parameters: {'C': 2.0691431018126587, 'epsilon': 0.03680834065895291, 'kernel': 'rbf', 'degree': 3}. Best is trial 16 with value: 0.5265670674266113.\u001b[0m\n",
      "\u001b[32m[I 2023-08-30 16:50:31,014]\u001b[0m Trial 41 finished with value: 0.524706881861248 and parameters: {'C': 1.304858619550555, 'epsilon': 0.012712489382715228, 'kernel': 'rbf', 'degree': 5}. Best is trial 16 with value: 0.5265670674266113.\u001b[0m\n",
      "\u001b[32m[I 2023-08-30 16:50:31,169]\u001b[0m Trial 42 finished with value: 0.5260617967889365 and parameters: {'C': 1.0881749777359488, 'epsilon': 0.010117796977034833, 'kernel': 'rbf', 'degree': 5}. Best is trial 16 with value: 0.5265670674266113.\u001b[0m\n",
      "\u001b[32m[I 2023-08-30 16:50:31,288]\u001b[0m Trial 43 finished with value: 0.5199901678728656 and parameters: {'C': 0.6415810107626511, 'epsilon': 0.012256907750642828, 'kernel': 'rbf', 'degree': 5}. Best is trial 16 with value: 0.5265670674266113.\u001b[0m\n",
      "\u001b[32m[I 2023-08-30 16:50:31,666]\u001b[0m Trial 44 finished with value: 0.14343104370626553 and parameters: {'C': 1.0420417982730112, 'epsilon': 0.021620651035896374, 'kernel': 'linear', 'degree': 5}. Best is trial 16 with value: 0.5265670674266113.\u001b[0m\n",
      "\u001b[32m[I 2023-08-30 16:50:31,796]\u001b[0m Trial 45 finished with value: 0.509982348772742 and parameters: {'C': 0.37225013223394937, 'epsilon': 0.01446840668814567, 'kernel': 'rbf', 'degree': 5}. Best is trial 16 with value: 0.5265670674266113.\u001b[0m\n",
      "\u001b[32m[I 2023-08-30 16:50:31,921]\u001b[0m Trial 46 finished with value: 0.518139900215745 and parameters: {'C': 0.55283645371858, 'epsilon': 0.01264176184350225, 'kernel': 'rbf', 'degree': 5}. Best is trial 16 with value: 0.5265670674266113.\u001b[0m\n",
      "\u001b[32m[I 2023-08-30 16:50:32,074]\u001b[0m Trial 47 finished with value: 0.5091131865814302 and parameters: {'C': 2.884750375384417, 'epsilon': 0.016816373009230487, 'kernel': 'rbf', 'degree': 5}. Best is trial 16 with value: 0.5265670674266113.\u001b[0m\n",
      "\u001b[32m[I 2023-08-30 16:50:32,239]\u001b[0m Trial 48 finished with value: 0.5001140228041041 and parameters: {'C': 3.8600031546517197, 'epsilon': 0.010145874339752357, 'kernel': 'rbf', 'degree': 5}. Best is trial 16 with value: 0.5265670674266113.\u001b[0m\n",
      "\u001b[32m[I 2023-08-30 16:50:32,606]\u001b[0m Trial 49 finished with value: 0.14411992768624582 and parameters: {'C': 1.0762041873599983, 'epsilon': 0.02008222319430318, 'kernel': 'linear', 'degree': 4}. Best is trial 16 with value: 0.5265670674266113.\u001b[0m\n",
      "\u001b[32m[I 2023-08-30 16:50:32,754]\u001b[0m Trial 50 finished with value: 0.5187950741191848 and parameters: {'C': 1.9575644009517967, 'epsilon': 0.02640850855449629, 'kernel': 'rbf', 'degree': 4}. Best is trial 16 with value: 0.5265670674266113.\u001b[0m\n",
      "\u001b[32m[I 2023-08-30 16:50:32,896]\u001b[0m Trial 51 finished with value: 0.5229637336086774 and parameters: {'C': 1.620636998350744, 'epsilon': 0.010013805870896831, 'kernel': 'rbf', 'degree': 2}. Best is trial 16 with value: 0.5265670674266113.\u001b[0m\n",
      "\u001b[32m[I 2023-08-30 16:50:33,023]\u001b[0m Trial 52 finished with value: 0.5254370010386751 and parameters: {'C': 1.138031241453257, 'epsilon': 0.01178936977484629, 'kernel': 'rbf', 'degree': 1}. Best is trial 16 with value: 0.5265670674266113.\u001b[0m\n",
      "\u001b[32m[I 2023-08-30 16:50:33,157]\u001b[0m Trial 53 finished with value: 0.5255370438154835 and parameters: {'C': 1.0810139268519445, 'epsilon': 0.013066720386394264, 'kernel': 'rbf', 'degree': 1}. Best is trial 16 with value: 0.5265670674266113.\u001b[0m\n",
      "\u001b[32m[I 2023-08-30 16:50:33,285]\u001b[0m Trial 54 finished with value: 0.5252819599706573 and parameters: {'C': 1.1690015970690562, 'epsilon': 0.012621440605135457, 'kernel': 'rbf', 'degree': 1}. Best is trial 16 with value: 0.5265670674266113.\u001b[0m\n",
      "\u001b[32m[I 2023-08-30 16:50:33,433]\u001b[0m Trial 55 finished with value: 0.514913300333926 and parameters: {'C': 2.4310065573628354, 'epsilon': 0.015792195017409996, 'kernel': 'rbf', 'degree': 1}. Best is trial 16 with value: 0.5265670674266113.\u001b[0m\n",
      "\u001b[32m[I 2023-08-30 16:50:33,527]\u001b[0m Trial 56 finished with value: 0.14558237016008518 and parameters: {'C': 0.6961332694425498, 'epsilon': 0.01203226705371056, 'kernel': 'poly', 'degree': 1}. Best is trial 16 with value: 0.5265670674266113.\u001b[0m\n",
      "\u001b[32m[I 2023-08-30 16:50:33,649]\u001b[0m Trial 57 finished with value: 0.522981510018054 and parameters: {'C': 1.0241189937151916, 'epsilon': 0.01972957085445071, 'kernel': 'rbf', 'degree': 1}. Best is trial 16 with value: 0.5265670674266113.\u001b[0m\n",
      "\u001b[32m[I 2023-08-30 16:50:33,798]\u001b[0m Trial 58 finished with value: 0.4829260086233407 and parameters: {'C': 6.973588113209008, 'epsilon': 0.0414449841985203, 'kernel': 'rbf', 'degree': 1}. Best is trial 16 with value: 0.5265670674266113.\u001b[0m\n",
      "\u001b[32m[I 2023-08-30 16:50:33,850]\u001b[0m Trial 59 finished with value: 0.37170444132680797 and parameters: {'C': 0.44822798690063503, 'epsilon': 0.24111941300270404, 'kernel': 'rbf', 'degree': 1}. Best is trial 16 with value: 0.5265670674266113.\u001b[0m\n",
      "\u001b[32m[I 2023-08-30 16:50:34,381]\u001b[0m Trial 60 finished with value: 0.14726809834891258 and parameters: {'C': 1.745783494228541, 'epsilon': 0.014843885578633038, 'kernel': 'linear', 'degree': 1}. Best is trial 16 with value: 0.5265670674266113.\u001b[0m\n",
      "\u001b[32m[I 2023-08-30 16:50:34,511]\u001b[0m Trial 61 finished with value: 0.5252250541821502 and parameters: {'C': 1.2018289457724003, 'epsilon': 0.012799092094378187, 'kernel': 'rbf', 'degree': 2}. Best is trial 16 with value: 0.5265670674266113.\u001b[0m\n",
      "\u001b[32m[I 2023-08-30 16:50:34,636]\u001b[0m Trial 62 finished with value: 0.5252950880939393 and parameters: {'C': 1.1376352787299338, 'epsilon': 0.011699711497846306, 'kernel': 'rbf', 'degree': 2}. Best is trial 16 with value: 0.5265670674266113.\u001b[0m\n",
      "\u001b[32m[I 2023-08-30 16:50:34,790]\u001b[0m Trial 63 finished with value: 0.5200485963235371 and parameters: {'C': 0.6257710777746592, 'epsilon': 0.01157906123968051, 'kernel': 'rbf', 'degree': 2}. Best is trial 16 with value: 0.5265670674266113.\u001b[0m\n",
      "\u001b[32m[I 2023-08-30 16:50:34,922]\u001b[0m Trial 64 finished with value: 0.5214217822390933 and parameters: {'C': 0.8180537915531026, 'epsilon': 0.0183423405554418, 'kernel': 'rbf', 'degree': 2}. Best is trial 16 with value: 0.5265670674266113.\u001b[0m\n",
      "\u001b[32m[I 2023-08-30 16:50:35,234]\u001b[0m Trial 65 finished with value: 0.3967225645228917 and parameters: {'C': 21.896924785248846, 'epsilon': 0.015364499496556437, 'kernel': 'rbf', 'degree': 1}. Best is trial 16 with value: 0.5265670674266113.\u001b[0m\n",
      "\u001b[32m[I 2023-08-30 16:50:35,360]\u001b[0m Trial 66 finished with value: 0.5228269614117238 and parameters: {'C': 1.1263909691938627, 'epsilon': 0.0226813824166682, 'kernel': 'rbf', 'degree': 1}. Best is trial 16 with value: 0.5265670674266113.\u001b[0m\n",
      "\u001b[32m[I 2023-08-30 16:50:35,396]\u001b[0m Trial 67 finished with value: 0.23733202528452776 and parameters: {'C': 2.411790339047248, 'epsilon': 0.3387402362222518, 'kernel': 'rbf', 'degree': 1}. Best is trial 16 with value: 0.5265670674266113.\u001b[0m\n",
      "\u001b[32m[I 2023-08-30 16:50:35,506]\u001b[0m Trial 68 finished with value: 0.5044243528676065 and parameters: {'C': 0.32050643152519515, 'epsilon': 0.011495551874250444, 'kernel': 'rbf', 'degree': 1}. Best is trial 16 with value: 0.5265670674266113.\u001b[0m\n",
      "\u001b[32m[I 2023-08-30 16:50:35,594]\u001b[0m Trial 69 finished with value: 0.35785644574927244 and parameters: {'C': 0.44514967240669834, 'epsilon': 0.07037291104669396, 'kernel': 'poly', 'degree': 2}. Best is trial 16 with value: 0.5265670674266113.\u001b[0m\n",
      "\u001b[32m[I 2023-08-30 16:50:35,676]\u001b[0m Trial 70 finished with value: 0.5041934864580198 and parameters: {'C': 0.7361290497567426, 'epsilon': 0.09554142925894707, 'kernel': 'rbf', 'degree': 1}. Best is trial 16 with value: 0.5265670674266113.\u001b[0m\n",
      "\u001b[32m[I 2023-08-30 16:50:35,818]\u001b[0m Trial 71 finished with value: 0.5238007094321598 and parameters: {'C': 1.3493625666624918, 'epsilon': 0.013820941236141426, 'kernel': 'rbf', 'degree': 2}. Best is trial 16 with value: 0.5265670674266113.\u001b[0m\n",
      "\u001b[32m[I 2023-08-30 16:50:35,942]\u001b[0m Trial 72 finished with value: 0.5253602850901374 and parameters: {'C': 1.112001688435907, 'epsilon': 0.012089259673580993, 'kernel': 'rbf', 'degree': 2}. Best is trial 16 with value: 0.5265670674266113.\u001b[0m\n",
      "\u001b[32m[I 2023-08-30 16:50:36,068]\u001b[0m Trial 73 finished with value: 0.5215936023958665 and parameters: {'C': 1.6077726530452445, 'epsilon': 0.017264312552439615, 'kernel': 'rbf', 'degree': 2}. Best is trial 16 with value: 0.5265670674266113.\u001b[0m\n",
      "\u001b[32m[I 2023-08-30 16:50:36,203]\u001b[0m Trial 74 finished with value: 0.5263012697804328 and parameters: {'C': 0.9884100383688671, 'epsilon': 0.011301215805994174, 'kernel': 'rbf', 'degree': 1}. Best is trial 16 with value: 0.5265670674266113.\u001b[0m\n",
      "\u001b[32m[I 2023-08-30 16:50:36,333]\u001b[0m Trial 75 finished with value: 0.5179423642226129 and parameters: {'C': 0.543548736310586, 'epsilon': 0.011457436012760787, 'kernel': 'rbf', 'degree': 3}. Best is trial 16 with value: 0.5265670674266113.\u001b[0m\n",
      "\u001b[32m[I 2023-08-30 16:50:36,466]\u001b[0m Trial 76 finished with value: 0.5249902352847498 and parameters: {'C': 0.9134048140714611, 'epsilon': 0.014370636178227881, 'kernel': 'rbf', 'degree': 2}. Best is trial 16 with value: 0.5265670674266113.\u001b[0m\n",
      "\u001b[32m[I 2023-08-30 16:50:36,578]\u001b[0m Trial 77 finished with value: 0.48895821666074635 and parameters: {'C': 0.22555247660090902, 'epsilon': 0.010058620304220924, 'kernel': 'rbf', 'degree': 1}. Best is trial 16 with value: 0.5265670674266113.\u001b[0m\n",
      "\u001b[32m[I 2023-08-30 16:50:36,919]\u001b[0m Trial 78 finished with value: 0.14454862251895698 and parameters: {'C': 0.9324301040993671, 'epsilon': 0.011507601043287052, 'kernel': 'linear', 'degree': 3}. Best is trial 16 with value: 0.5265670674266113.\u001b[0m\n",
      "\u001b[32m[I 2023-08-30 16:50:37,049]\u001b[0m Trial 79 finished with value: 0.5184907671433218 and parameters: {'C': 1.9384443029002072, 'epsilon': 0.02981678830024867, 'kernel': 'rbf', 'degree': 1}. Best is trial 16 with value: 0.5265670674266113.\u001b[0m\n",
      "\u001b[32m[I 2023-08-30 16:50:37,166]\u001b[0m Trial 80 finished with value: 0.5190121427287769 and parameters: {'C': 0.630401847598878, 'epsilon': 0.01655503113696594, 'kernel': 'rbf', 'degree': 2}. Best is trial 16 with value: 0.5265670674266113.\u001b[0m\n",
      "\u001b[32m[I 2023-08-30 16:50:37,310]\u001b[0m Trial 81 finished with value: 0.5249554927969531 and parameters: {'C': 1.2400476797364155, 'epsilon': 0.013153424205138502, 'kernel': 'rbf', 'degree': 1}. Best is trial 16 with value: 0.5265670674266113.\u001b[0m\n",
      "\u001b[32m[I 2023-08-30 16:50:37,442]\u001b[0m Trial 82 finished with value: 0.5233415192136889 and parameters: {'C': 1.4967159228195155, 'epsilon': 0.011367188463586034, 'kernel': 'rbf', 'degree': 1}. Best is trial 16 with value: 0.5265670674266113.\u001b[0m\n",
      "\u001b[32m[I 2023-08-30 16:50:37,571]\u001b[0m Trial 83 finished with value: 0.5249384412134752 and parameters: {'C': 1.132593022180713, 'epsilon': 0.014066402224257129, 'kernel': 'rbf', 'degree': 1}. Best is trial 16 with value: 0.5265670674266113.\u001b[0m\n",
      "\u001b[32m[I 2023-08-30 16:50:37,704]\u001b[0m Trial 84 finished with value: 0.522166622871998 and parameters: {'C': 0.7521820807834054, 'epsilon': 0.012405789621395425, 'kernel': 'rbf', 'degree': 1}. Best is trial 16 with value: 0.5265670674266113.\u001b[0m\n",
      "\u001b[32m[I 2023-08-30 16:50:37,850]\u001b[0m Trial 85 finished with value: 0.5061175307777204 and parameters: {'C': 3.2770892682271957, 'epsilon': 0.015756759644650932, 'kernel': 'rbf', 'degree': 1}. Best is trial 16 with value: 0.5265670674266113.\u001b[0m\n",
      "\u001b[32m[I 2023-08-30 16:50:37,995]\u001b[0m Trial 86 finished with value: 0.5137840609701826 and parameters: {'C': 2.4489652039145824, 'epsilon': 0.01869070728204321, 'kernel': 'rbf', 'degree': 3}. Best is trial 16 with value: 0.5265670674266113.\u001b[0m\n",
      "\u001b[32m[I 2023-08-30 16:50:38,106]\u001b[0m Trial 87 finished with value: 0.3082714230334758 and parameters: {'C': 1.0149582665816506, 'epsilon': 0.010905664209565288, 'kernel': 'poly', 'degree': 2}. Best is trial 16 with value: 0.5265670674266113.\u001b[0m\n",
      "\u001b[32m[I 2023-08-30 16:50:38,120]\u001b[0m Trial 88 finished with value: -0.4202895600551086 and parameters: {'C': 1.7295011441229415, 'epsilon': 0.6474698221174967, 'kernel': 'rbf', 'degree': 1}. Best is trial 16 with value: 0.5265670674266113.\u001b[0m\n",
      "\u001b[32m[I 2023-08-30 16:50:38,244]\u001b[0m Trial 89 finished with value: 0.5205850071860378 and parameters: {'C': 0.8259549807004517, 'epsilon': 0.021611734830732303, 'kernel': 'rbf', 'degree': 4}. Best is trial 16 with value: 0.5265670674266113.\u001b[0m\n",
      "\u001b[32m[I 2023-08-30 16:50:38,376]\u001b[0m Trial 90 finished with value: 0.523168664328774 and parameters: {'C': 1.4074447184778467, 'epsilon': 0.01388544557343325, 'kernel': 'rbf', 'degree': 1}. Best is trial 16 with value: 0.5265670674266113.\u001b[0m\n",
      "\u001b[32m[I 2023-08-30 16:50:38,507]\u001b[0m Trial 91 finished with value: 0.5251120227881498 and parameters: {'C': 1.216230809660222, 'epsilon': 0.013045242509730276, 'kernel': 'rbf', 'degree': 2}. Best is trial 16 with value: 0.5265670674266113.\u001b[0m\n",
      "\u001b[32m[I 2023-08-30 16:50:38,630]\u001b[0m Trial 92 finished with value: 0.5201536826739342 and parameters: {'C': 0.6585091717073734, 'epsilon': 0.012350645089789999, 'kernel': 'rbf', 'degree': 2}. Best is trial 16 with value: 0.5265670674266113.\u001b[0m\n",
      "\u001b[32m[I 2023-08-30 16:50:38,774]\u001b[0m Trial 93 finished with value: 0.5168968771344471 and parameters: {'C': 2.1766962028975394, 'epsilon': 0.010101284370035282, 'kernel': 'rbf', 'degree': 2}. Best is trial 16 with value: 0.5265670674266113.\u001b[0m\n",
      "\u001b[32m[I 2023-08-30 16:50:38,898]\u001b[0m Trial 94 finished with value: 0.5236861916344444 and parameters: {'C': 1.230844365887331, 'epsilon': 0.01511470066442029, 'kernel': 'rbf', 'degree': 2}. Best is trial 16 with value: 0.5265670674266113.\u001b[0m\n",
      "\u001b[32m[I 2023-08-30 16:50:39,027]\u001b[0m Trial 95 finished with value: 0.5262207768477171 and parameters: {'C': 0.9642319672516187, 'epsilon': 0.01105037831718533, 'kernel': 'rbf', 'degree': 1}. Best is trial 16 with value: 0.5265670674266113.\u001b[0m\n",
      "\u001b[32m[I 2023-08-30 16:50:39,342]\u001b[0m Trial 96 finished with value: 0.14425456782935825 and parameters: {'C': 0.9227905160429422, 'epsilon': 0.011168989976274269, 'kernel': 'linear', 'degree': 1}. Best is trial 16 with value: 0.5265670674266113.\u001b[0m\n",
      "\u001b[32m[I 2023-08-30 16:50:39,454]\u001b[0m Trial 97 finished with value: 0.5172380209983463 and parameters: {'C': 0.5241948884798712, 'epsilon': 0.01658037986339225, 'kernel': 'rbf', 'degree': 1}. Best is trial 16 with value: 0.5265670674266113.\u001b[0m\n",
      "\u001b[32m[I 2023-08-30 16:50:39,529]\u001b[0m Trial 98 finished with value: 0.49712646397628085 and parameters: {'C': 1.7943188863107369, 'epsilon': 0.13781229288342378, 'kernel': 'rbf', 'degree': 1}. Best is trial 16 with value: 0.5265670674266113.\u001b[0m\n",
      "\u001b[32m[I 2023-08-30 16:50:39,659]\u001b[0m Trial 99 finished with value: 0.5238310938175741 and parameters: {'C': 1.4625073199494916, 'epsilon': 0.010942641777442785, 'kernel': 'rbf', 'degree': 1}. Best is trial 16 with value: 0.5265670674266113.\u001b[0m\n"
     ]
    },
    {
     "name": "stdout",
     "output_type": "stream",
     "text": [
      "Best r2:  0.5265670674266113\n",
      "Best trial: {'C': 0.9965941658888154, 'epsilon': 0.010594105416879173, 'kernel': 'rbf', 'degree': 5}\n"
     ]
    }
   ],
   "source": [
    "sampler = TPESampler()\n",
    "study = optuna.create_study(\n",
    "    study_name=\"svm_parameter_opt\",\n",
    "    direction=\"maximize\",\n",
    "    sampler=sampler,\n",
    ")\n",
    "\n",
    "study.optimize(lambda trial : objectiveSVM(trial, Cd_X_train, Cd_y_train), n_trials=100)\n",
    "print(\"Best r2: \", study.best_value)\n",
    "print(\"Best trial:\", study.best_trial.params)"
   ]
  },
  {
   "cell_type": "code",
   "execution_count": 37,
   "id": "861f88d8",
   "metadata": {},
   "outputs": [
    {
     "data": {
      "application/vnd.plotly.v1+json": {
       "config": {
        "plotlyServerURL": "https://plot.ly"
       },
       "data": [
        {
         "dimensions": [
          {
           "label": "Objective Value",
           "range": [
            -0.7627956675734964,
            0.5265670674266113
           ],
           "values": [
            0.49910729370634765,
            0.05166840878370427,
            -0.009185048704528942,
            -0.4202895600551086,
            -0.026877711880522858,
            0.19533324888921128,
            -0.38934753112595333,
            0.14194144532604505,
            0.18657085982522345,
            0.15259857848860975,
            0.4564053868183982,
            0.46088182911998066,
            0.4179908091775915,
            0.4987441501407533,
            0.5119136431377793,
            0.5239888386210264,
            0.5265670674266113,
            0.47186681893796784,
            0.1439664441515921,
            -0.7627956675734964,
            0.5233580192174008,
            0.5242717077031853,
            0.5186770161244654,
            0.4979376303511847,
            0.45302020422666356,
            -0.4202895600551086,
            0.5234244475472588,
            0.523528631938554,
            0.011263572565006253,
            0.17354125748242533,
            0.18016675285597555,
            0.5239240864938992,
            0.5221562588226382,
            0.4952559260687015,
            0.5223593185756005,
            0.5262663980548388,
            0.12600458877111925,
            0.391019388845526,
            0.5216666095784015,
            0.1919549894544335,
            0.5145865719735326,
            0.524706881861248,
            0.5260617967889365,
            0.5199901678728656,
            0.14343104370626553,
            0.509982348772742,
            0.518139900215745,
            0.5091131865814302,
            0.5001140228041041,
            0.14411992768624582,
            0.5187950741191848,
            0.5229637336086774,
            0.5254370010386751,
            0.5255370438154835,
            0.5252819599706573,
            0.514913300333926,
            0.14558237016008518,
            0.522981510018054,
            0.4829260086233407,
            0.37170444132680797,
            0.14726809834891258,
            0.5252250541821502,
            0.5252950880939393,
            0.5200485963235371,
            0.5214217822390933,
            0.3967225645228917,
            0.5228269614117238,
            0.23733202528452776,
            0.5044243528676065,
            0.35785644574927244,
            0.5041934864580198,
            0.5238007094321598,
            0.5253602850901374,
            0.5215936023958665,
            0.5263012697804328,
            0.5179423642226129,
            0.5249902352847498,
            0.48895821666074635,
            0.14454862251895698,
            0.5184907671433218,
            0.5190121427287769,
            0.5249554927969531,
            0.5233415192136889,
            0.5249384412134752,
            0.522166622871998,
            0.5061175307777204,
            0.5137840609701826,
            0.3082714230334758,
            -0.4202895600551086,
            0.5205850071860378,
            0.523168664328774,
            0.5251120227881498,
            0.5201536826739342,
            0.5168968771344471,
            0.5236861916344444,
            0.5262207768477171,
            0.14425456782935825,
            0.5172380209983463,
            0.49712646397628085,
            0.5238310938175741
           ]
          },
          {
           "label": "C",
           "range": [
            -0.9832460837049247,
            1.8671776725993616
           ],
           "ticktext": [
            "0.104",
            "1",
            "10",
            "73.7"
           ],
           "tickvals": [
            -0.9832460837049247,
            0,
            1,
            1.8671776725993616
           ],
           "values": [
            0.4590458223622887,
            -0.3237389226985896,
            1.3730989085656176,
            0.11310389485783587,
            -0.5499741571096411,
            1.653641684823552,
            -0.300679169030198,
            -0.2838920150491421,
            -0.6750847050445998,
            0.13336883864596064,
            0.9507589486144519,
            0.7957373088270133,
            0.775002513557542,
            0.5054828395906459,
            0.3014040071342204,
            0.1736683790901311,
            -0.001481659538743263,
            -0.8558847320695244,
            -0.040671372421625475,
            1.1914986829963408,
            -0.10024051286166036,
            -0.07640787163301067,
            0.29347616427291284,
            -0.5484098818098886,
            -0.9832460837049247,
            0.5574360223486271,
            -0.07123824357613172,
            0.13277617235708924,
            -0.36437849377069237,
            0.39217813727405126,
            1.8671776725993616,
            0.12524919597090534,
            -0.12298427214164137,
            0.6808325502199937,
            0.18196531578931227,
            0.018765137040015093,
            -0.4601324625645555,
            -0.2522241324129766,
            -0.03461381088808379,
            -0.6572905060941724,
            0.31579052748470565,
            0.11556345874304663,
            0.03669873521062892,
            -0.19274849859396678,
            0.01788513968831008,
            -0.42916513930187267,
            -0.2574033275606891,
            0.46010823853733823,
            0.586587659606282,
            0.03189467749286048,
            0.29171605860631344,
            0.20968574941507326,
            0.05615418455862959,
            0.03383128906523331,
            0.06781510448759248,
            0.385786130304732,
            -0.15730761004032556,
            0.010350420811186353,
            0.8434562927039861,
            -0.3485010300476234,
            0.2419903830739812,
            0.07984265968540923,
            0.05600305131833369,
            -0.20358451318269133,
            -0.08721813812990076,
            1.3403831265946724,
            0.0516891598688867,
            0.3823395511660822,
            -0.49416325117518783,
            -0.35149394189250127,
            -0.13304604342837145,
            0.1301286580073483,
            0.04610544666855732,
            0.2062246373798185,
            -0.005062852519181246,
            -0.26476150960560574,
            -0.03933670378752324,
            -0.6467523999198346,
            -0.030383713451349784,
            0.2874533269885196,
            -0.20038252267455817,
            0.09343838407217588,
            0.1751393789273469,
            0.0540738816435501,
            -0.12367701697794314,
            0.5154882717670093,
            0.38898261450191063,
            0.006448185139949179,
            0.23792085365082305,
            -0.0830436235830095,
            0.14843134566795393,
            0.08501600080000765,
            -0.18143817181204908,
            0.3377978196649311,
            0.09020314203820323,
            -0.015818474418203998,
            -0.03489687757897008,
            -0.28050721825361025,
            0.25389962837257074,
            0.1650980484333404
           ]
          },
          {
           "label": "degree",
           "range": [
            1,
            5
           ],
           "values": [
            3,
            4,
            2,
            4,
            4,
            1,
            5,
            4,
            1,
            3,
            2,
            2,
            2,
            3,
            3,
            3,
            5,
            5,
            5,
            4,
            5,
            5,
            5,
            4,
            5,
            4,
            3,
            5,
            4,
            3,
            5,
            5,
            5,
            5,
            4,
            4,
            4,
            3,
            4,
            4,
            3,
            5,
            5,
            5,
            5,
            5,
            5,
            5,
            5,
            4,
            4,
            2,
            1,
            1,
            1,
            1,
            1,
            1,
            1,
            1,
            1,
            2,
            2,
            2,
            2,
            1,
            1,
            1,
            1,
            2,
            1,
            2,
            2,
            2,
            1,
            3,
            2,
            1,
            3,
            1,
            2,
            1,
            1,
            1,
            1,
            1,
            3,
            2,
            1,
            4,
            1,
            2,
            2,
            2,
            2,
            1,
            1,
            1,
            1,
            1
           ]
          },
          {
           "label": "epsilon",
           "range": [
            -1.9994008321517585,
            -0.02113924167885822
           ],
           "ticktext": [
            "0.01",
            "0.1",
            "0.952"
           ],
           "tickvals": [
            -1.9994008321517585,
            -1,
            -0.02113924167885822
           ],
           "values": [
            -1.2252685466708715,
            -1.4364424184846563,
            -0.3063264980559229,
            -0.21916730199041418,
            -0.3750767390375364,
            -0.38046144869485676,
            -1.8399628186767127,
            -1.6266413706321603,
            -0.9219067066758767,
            -1.2762706626367912,
            -0.9249049840303034,
            -0.8266782193108498,
            -0.6824647749872105,
            -1.2013685205972706,
            -1.3538640318598516,
            -1.9869008634558714,
            -1.9749357099221176,
            -1.9620605797297825,
            -1.6904466207596258,
            -1.6268452085630332,
            -1.9647732228532013,
            -1.9990240176473877,
            -1.7553898704022106,
            -1.9893892275760288,
            -1.507765561666823,
            -0.02113924167885822,
            -1.8173112875486899,
            -1.8590286548640922,
            -1.558826339557471,
            -1.120003458403421,
            -1.7567886322660125,
            -1.8614758022458817,
            -1.8874273134025346,
            -1.4604610464495318,
            -1.7147936928402085,
            -1.9826998001698553,
            -1.9694425054672906,
            -0.6261525149756644,
            -1.613037392312311,
            -1.783321785355051,
            -1.4340537603556587,
            -1.895769396785432,
            -1.9949140393609452,
            -1.911619082527372,
            -1.6651312328137744,
            -1.8395792922842649,
            -1.8981923955481272,
            -1.7742676679872265,
            -1.9937105208763024,
            -1.6971882104726213,
            -1.5782561252922225,
            -1.9994008321517585,
            -1.9285094103944929,
            -1.8838334022298193,
            -1.8988910721002794,
            -1.8015575015499397,
            -1.9196525375681093,
            -1.7048823611528234,
            -1.3825280216086193,
            -0.6177678223038164,
            -1.8284524019896387,
            -1.8928208360072973,
            -1.931824847351118,
            -1.9363266491537467,
            -1.7365452474306595,
            -1.8134815824576553,
            -1.6443304789839792,
            -0.47013321395048113,
            -1.9394701744435545,
            -1.1525944835702049,
            -1.0198082661442387,
            -1.8594623795564018,
            -1.917600293806147,
            -1.7628507101396684,
            -1.946874831788196,
            -1.940912559514771,
            -1.842524005520734,
            -1.997461585418866,
            -1.9390152030645036,
            -1.5255391381666652,
            -1.781069998083174,
            -1.88096117342433,
            -1.9443469395111999,
            -1.85181696823373,
            -1.906375587917286,
            -1.8025330897106113,
            -1.728374264010328,
            -1.9623478785708888,
            -0.188780468780722,
            -1.6653103697584306,
            -1.8574401795090774,
            -1.8845478429985085,
            -1.9083103580626577,
            -1.9956234025187471,
            -1.8206004492852228,
            -1.9566228533586454,
            -1.951986098823851,
            -1.7804055238047247,
            -0.8607120415479677,
            -1.9608778177774782
           ]
          },
          {
           "label": "kernel",
           "range": [
            0,
            2
           ],
           "ticktext": [
            "rbf",
            "poly",
            "linear"
           ],
           "tickvals": [
            0,
            1,
            2
           ],
           "values": [
            0,
            1,
            0,
            0,
            1,
            0,
            1,
            2,
            2,
            2,
            0,
            0,
            0,
            0,
            0,
            0,
            0,
            0,
            2,
            1,
            0,
            0,
            0,
            0,
            0,
            0,
            0,
            0,
            1,
            2,
            0,
            0,
            0,
            0,
            0,
            0,
            1,
            0,
            0,
            1,
            0,
            0,
            0,
            0,
            2,
            0,
            0,
            0,
            0,
            2,
            0,
            0,
            0,
            0,
            0,
            0,
            1,
            0,
            0,
            0,
            2,
            0,
            0,
            0,
            0,
            0,
            0,
            0,
            0,
            1,
            0,
            0,
            0,
            0,
            0,
            0,
            0,
            0,
            2,
            0,
            0,
            0,
            0,
            0,
            0,
            0,
            0,
            1,
            0,
            0,
            0,
            0,
            0,
            0,
            0,
            0,
            2,
            0,
            0,
            0
           ]
          }
         ],
         "labelangle": 30,
         "labelside": "bottom",
         "line": {
          "color": [
           0.49910729370634765,
           0.05166840878370427,
           -0.009185048704528942,
           -0.4202895600551086,
           -0.026877711880522858,
           0.19533324888921128,
           -0.38934753112595333,
           0.14194144532604505,
           0.18657085982522345,
           0.15259857848860975,
           0.4564053868183982,
           0.46088182911998066,
           0.4179908091775915,
           0.4987441501407533,
           0.5119136431377793,
           0.5239888386210264,
           0.5265670674266113,
           0.47186681893796784,
           0.1439664441515921,
           -0.7627956675734964,
           0.5233580192174008,
           0.5242717077031853,
           0.5186770161244654,
           0.4979376303511847,
           0.45302020422666356,
           -0.4202895600551086,
           0.5234244475472588,
           0.523528631938554,
           0.011263572565006253,
           0.17354125748242533,
           0.18016675285597555,
           0.5239240864938992,
           0.5221562588226382,
           0.4952559260687015,
           0.5223593185756005,
           0.5262663980548388,
           0.12600458877111925,
           0.391019388845526,
           0.5216666095784015,
           0.1919549894544335,
           0.5145865719735326,
           0.524706881861248,
           0.5260617967889365,
           0.5199901678728656,
           0.14343104370626553,
           0.509982348772742,
           0.518139900215745,
           0.5091131865814302,
           0.5001140228041041,
           0.14411992768624582,
           0.5187950741191848,
           0.5229637336086774,
           0.5254370010386751,
           0.5255370438154835,
           0.5252819599706573,
           0.514913300333926,
           0.14558237016008518,
           0.522981510018054,
           0.4829260086233407,
           0.37170444132680797,
           0.14726809834891258,
           0.5252250541821502,
           0.5252950880939393,
           0.5200485963235371,
           0.5214217822390933,
           0.3967225645228917,
           0.5228269614117238,
           0.23733202528452776,
           0.5044243528676065,
           0.35785644574927244,
           0.5041934864580198,
           0.5238007094321598,
           0.5253602850901374,
           0.5215936023958665,
           0.5263012697804328,
           0.5179423642226129,
           0.5249902352847498,
           0.48895821666074635,
           0.14454862251895698,
           0.5184907671433218,
           0.5190121427287769,
           0.5249554927969531,
           0.5233415192136889,
           0.5249384412134752,
           0.522166622871998,
           0.5061175307777204,
           0.5137840609701826,
           0.3082714230334758,
           -0.4202895600551086,
           0.5205850071860378,
           0.523168664328774,
           0.5251120227881498,
           0.5201536826739342,
           0.5168968771344471,
           0.5236861916344444,
           0.5262207768477171,
           0.14425456782935825,
           0.5172380209983463,
           0.49712646397628085,
           0.5238310938175741
          ],
          "colorbar": {
           "title": {
            "text": "Objective Value"
           }
          },
          "colorscale": [
           [
            0,
            "rgb(247,251,255)"
           ],
           [
            0.125,
            "rgb(222,235,247)"
           ],
           [
            0.25,
            "rgb(198,219,239)"
           ],
           [
            0.375,
            "rgb(158,202,225)"
           ],
           [
            0.5,
            "rgb(107,174,214)"
           ],
           [
            0.625,
            "rgb(66,146,198)"
           ],
           [
            0.75,
            "rgb(33,113,181)"
           ],
           [
            0.875,
            "rgb(8,81,156)"
           ],
           [
            1,
            "rgb(8,48,107)"
           ]
          ],
          "reversescale": false,
          "showscale": true
         },
         "type": "parcoords"
        }
       ],
       "layout": {
        "template": {
         "data": {
          "bar": [
           {
            "error_x": {
             "color": "#2a3f5f"
            },
            "error_y": {
             "color": "#2a3f5f"
            },
            "marker": {
             "line": {
              "color": "#E5ECF6",
              "width": 0.5
             },
             "pattern": {
              "fillmode": "overlay",
              "size": 10,
              "solidity": 0.2
             }
            },
            "type": "bar"
           }
          ],
          "barpolar": [
           {
            "marker": {
             "line": {
              "color": "#E5ECF6",
              "width": 0.5
             },
             "pattern": {
              "fillmode": "overlay",
              "size": 10,
              "solidity": 0.2
             }
            },
            "type": "barpolar"
           }
          ],
          "carpet": [
           {
            "aaxis": {
             "endlinecolor": "#2a3f5f",
             "gridcolor": "white",
             "linecolor": "white",
             "minorgridcolor": "white",
             "startlinecolor": "#2a3f5f"
            },
            "baxis": {
             "endlinecolor": "#2a3f5f",
             "gridcolor": "white",
             "linecolor": "white",
             "minorgridcolor": "white",
             "startlinecolor": "#2a3f5f"
            },
            "type": "carpet"
           }
          ],
          "choropleth": [
           {
            "colorbar": {
             "outlinewidth": 0,
             "ticks": ""
            },
            "type": "choropleth"
           }
          ],
          "contour": [
           {
            "colorbar": {
             "outlinewidth": 0,
             "ticks": ""
            },
            "colorscale": [
             [
              0,
              "#0d0887"
             ],
             [
              0.1111111111111111,
              "#46039f"
             ],
             [
              0.2222222222222222,
              "#7201a8"
             ],
             [
              0.3333333333333333,
              "#9c179e"
             ],
             [
              0.4444444444444444,
              "#bd3786"
             ],
             [
              0.5555555555555556,
              "#d8576b"
             ],
             [
              0.6666666666666666,
              "#ed7953"
             ],
             [
              0.7777777777777778,
              "#fb9f3a"
             ],
             [
              0.8888888888888888,
              "#fdca26"
             ],
             [
              1,
              "#f0f921"
             ]
            ],
            "type": "contour"
           }
          ],
          "contourcarpet": [
           {
            "colorbar": {
             "outlinewidth": 0,
             "ticks": ""
            },
            "type": "contourcarpet"
           }
          ],
          "heatmap": [
           {
            "colorbar": {
             "outlinewidth": 0,
             "ticks": ""
            },
            "colorscale": [
             [
              0,
              "#0d0887"
             ],
             [
              0.1111111111111111,
              "#46039f"
             ],
             [
              0.2222222222222222,
              "#7201a8"
             ],
             [
              0.3333333333333333,
              "#9c179e"
             ],
             [
              0.4444444444444444,
              "#bd3786"
             ],
             [
              0.5555555555555556,
              "#d8576b"
             ],
             [
              0.6666666666666666,
              "#ed7953"
             ],
             [
              0.7777777777777778,
              "#fb9f3a"
             ],
             [
              0.8888888888888888,
              "#fdca26"
             ],
             [
              1,
              "#f0f921"
             ]
            ],
            "type": "heatmap"
           }
          ],
          "heatmapgl": [
           {
            "colorbar": {
             "outlinewidth": 0,
             "ticks": ""
            },
            "colorscale": [
             [
              0,
              "#0d0887"
             ],
             [
              0.1111111111111111,
              "#46039f"
             ],
             [
              0.2222222222222222,
              "#7201a8"
             ],
             [
              0.3333333333333333,
              "#9c179e"
             ],
             [
              0.4444444444444444,
              "#bd3786"
             ],
             [
              0.5555555555555556,
              "#d8576b"
             ],
             [
              0.6666666666666666,
              "#ed7953"
             ],
             [
              0.7777777777777778,
              "#fb9f3a"
             ],
             [
              0.8888888888888888,
              "#fdca26"
             ],
             [
              1,
              "#f0f921"
             ]
            ],
            "type": "heatmapgl"
           }
          ],
          "histogram": [
           {
            "marker": {
             "pattern": {
              "fillmode": "overlay",
              "size": 10,
              "solidity": 0.2
             }
            },
            "type": "histogram"
           }
          ],
          "histogram2d": [
           {
            "colorbar": {
             "outlinewidth": 0,
             "ticks": ""
            },
            "colorscale": [
             [
              0,
              "#0d0887"
             ],
             [
              0.1111111111111111,
              "#46039f"
             ],
             [
              0.2222222222222222,
              "#7201a8"
             ],
             [
              0.3333333333333333,
              "#9c179e"
             ],
             [
              0.4444444444444444,
              "#bd3786"
             ],
             [
              0.5555555555555556,
              "#d8576b"
             ],
             [
              0.6666666666666666,
              "#ed7953"
             ],
             [
              0.7777777777777778,
              "#fb9f3a"
             ],
             [
              0.8888888888888888,
              "#fdca26"
             ],
             [
              1,
              "#f0f921"
             ]
            ],
            "type": "histogram2d"
           }
          ],
          "histogram2dcontour": [
           {
            "colorbar": {
             "outlinewidth": 0,
             "ticks": ""
            },
            "colorscale": [
             [
              0,
              "#0d0887"
             ],
             [
              0.1111111111111111,
              "#46039f"
             ],
             [
              0.2222222222222222,
              "#7201a8"
             ],
             [
              0.3333333333333333,
              "#9c179e"
             ],
             [
              0.4444444444444444,
              "#bd3786"
             ],
             [
              0.5555555555555556,
              "#d8576b"
             ],
             [
              0.6666666666666666,
              "#ed7953"
             ],
             [
              0.7777777777777778,
              "#fb9f3a"
             ],
             [
              0.8888888888888888,
              "#fdca26"
             ],
             [
              1,
              "#f0f921"
             ]
            ],
            "type": "histogram2dcontour"
           }
          ],
          "mesh3d": [
           {
            "colorbar": {
             "outlinewidth": 0,
             "ticks": ""
            },
            "type": "mesh3d"
           }
          ],
          "parcoords": [
           {
            "line": {
             "colorbar": {
              "outlinewidth": 0,
              "ticks": ""
             }
            },
            "type": "parcoords"
           }
          ],
          "pie": [
           {
            "automargin": true,
            "type": "pie"
           }
          ],
          "scatter": [
           {
            "marker": {
             "colorbar": {
              "outlinewidth": 0,
              "ticks": ""
             }
            },
            "type": "scatter"
           }
          ],
          "scatter3d": [
           {
            "line": {
             "colorbar": {
              "outlinewidth": 0,
              "ticks": ""
             }
            },
            "marker": {
             "colorbar": {
              "outlinewidth": 0,
              "ticks": ""
             }
            },
            "type": "scatter3d"
           }
          ],
          "scattercarpet": [
           {
            "marker": {
             "colorbar": {
              "outlinewidth": 0,
              "ticks": ""
             }
            },
            "type": "scattercarpet"
           }
          ],
          "scattergeo": [
           {
            "marker": {
             "colorbar": {
              "outlinewidth": 0,
              "ticks": ""
             }
            },
            "type": "scattergeo"
           }
          ],
          "scattergl": [
           {
            "marker": {
             "colorbar": {
              "outlinewidth": 0,
              "ticks": ""
             }
            },
            "type": "scattergl"
           }
          ],
          "scattermapbox": [
           {
            "marker": {
             "colorbar": {
              "outlinewidth": 0,
              "ticks": ""
             }
            },
            "type": "scattermapbox"
           }
          ],
          "scatterpolar": [
           {
            "marker": {
             "colorbar": {
              "outlinewidth": 0,
              "ticks": ""
             }
            },
            "type": "scatterpolar"
           }
          ],
          "scatterpolargl": [
           {
            "marker": {
             "colorbar": {
              "outlinewidth": 0,
              "ticks": ""
             }
            },
            "type": "scatterpolargl"
           }
          ],
          "scatterternary": [
           {
            "marker": {
             "colorbar": {
              "outlinewidth": 0,
              "ticks": ""
             }
            },
            "type": "scatterternary"
           }
          ],
          "surface": [
           {
            "colorbar": {
             "outlinewidth": 0,
             "ticks": ""
            },
            "colorscale": [
             [
              0,
              "#0d0887"
             ],
             [
              0.1111111111111111,
              "#46039f"
             ],
             [
              0.2222222222222222,
              "#7201a8"
             ],
             [
              0.3333333333333333,
              "#9c179e"
             ],
             [
              0.4444444444444444,
              "#bd3786"
             ],
             [
              0.5555555555555556,
              "#d8576b"
             ],
             [
              0.6666666666666666,
              "#ed7953"
             ],
             [
              0.7777777777777778,
              "#fb9f3a"
             ],
             [
              0.8888888888888888,
              "#fdca26"
             ],
             [
              1,
              "#f0f921"
             ]
            ],
            "type": "surface"
           }
          ],
          "table": [
           {
            "cells": {
             "fill": {
              "color": "#EBF0F8"
             },
             "line": {
              "color": "white"
             }
            },
            "header": {
             "fill": {
              "color": "#C8D4E3"
             },
             "line": {
              "color": "white"
             }
            },
            "type": "table"
           }
          ]
         },
         "layout": {
          "annotationdefaults": {
           "arrowcolor": "#2a3f5f",
           "arrowhead": 0,
           "arrowwidth": 1
          },
          "autotypenumbers": "strict",
          "coloraxis": {
           "colorbar": {
            "outlinewidth": 0,
            "ticks": ""
           }
          },
          "colorscale": {
           "diverging": [
            [
             0,
             "#8e0152"
            ],
            [
             0.1,
             "#c51b7d"
            ],
            [
             0.2,
             "#de77ae"
            ],
            [
             0.3,
             "#f1b6da"
            ],
            [
             0.4,
             "#fde0ef"
            ],
            [
             0.5,
             "#f7f7f7"
            ],
            [
             0.6,
             "#e6f5d0"
            ],
            [
             0.7,
             "#b8e186"
            ],
            [
             0.8,
             "#7fbc41"
            ],
            [
             0.9,
             "#4d9221"
            ],
            [
             1,
             "#276419"
            ]
           ],
           "sequential": [
            [
             0,
             "#0d0887"
            ],
            [
             0.1111111111111111,
             "#46039f"
            ],
            [
             0.2222222222222222,
             "#7201a8"
            ],
            [
             0.3333333333333333,
             "#9c179e"
            ],
            [
             0.4444444444444444,
             "#bd3786"
            ],
            [
             0.5555555555555556,
             "#d8576b"
            ],
            [
             0.6666666666666666,
             "#ed7953"
            ],
            [
             0.7777777777777778,
             "#fb9f3a"
            ],
            [
             0.8888888888888888,
             "#fdca26"
            ],
            [
             1,
             "#f0f921"
            ]
           ],
           "sequentialminus": [
            [
             0,
             "#0d0887"
            ],
            [
             0.1111111111111111,
             "#46039f"
            ],
            [
             0.2222222222222222,
             "#7201a8"
            ],
            [
             0.3333333333333333,
             "#9c179e"
            ],
            [
             0.4444444444444444,
             "#bd3786"
            ],
            [
             0.5555555555555556,
             "#d8576b"
            ],
            [
             0.6666666666666666,
             "#ed7953"
            ],
            [
             0.7777777777777778,
             "#fb9f3a"
            ],
            [
             0.8888888888888888,
             "#fdca26"
            ],
            [
             1,
             "#f0f921"
            ]
           ]
          },
          "colorway": [
           "#636efa",
           "#EF553B",
           "#00cc96",
           "#ab63fa",
           "#FFA15A",
           "#19d3f3",
           "#FF6692",
           "#B6E880",
           "#FF97FF",
           "#FECB52"
          ],
          "font": {
           "color": "#2a3f5f"
          },
          "geo": {
           "bgcolor": "white",
           "lakecolor": "white",
           "landcolor": "#E5ECF6",
           "showlakes": true,
           "showland": true,
           "subunitcolor": "white"
          },
          "hoverlabel": {
           "align": "left"
          },
          "hovermode": "closest",
          "mapbox": {
           "style": "light"
          },
          "paper_bgcolor": "white",
          "plot_bgcolor": "#E5ECF6",
          "polar": {
           "angularaxis": {
            "gridcolor": "white",
            "linecolor": "white",
            "ticks": ""
           },
           "bgcolor": "#E5ECF6",
           "radialaxis": {
            "gridcolor": "white",
            "linecolor": "white",
            "ticks": ""
           }
          },
          "scene": {
           "xaxis": {
            "backgroundcolor": "#E5ECF6",
            "gridcolor": "white",
            "gridwidth": 2,
            "linecolor": "white",
            "showbackground": true,
            "ticks": "",
            "zerolinecolor": "white"
           },
           "yaxis": {
            "backgroundcolor": "#E5ECF6",
            "gridcolor": "white",
            "gridwidth": 2,
            "linecolor": "white",
            "showbackground": true,
            "ticks": "",
            "zerolinecolor": "white"
           },
           "zaxis": {
            "backgroundcolor": "#E5ECF6",
            "gridcolor": "white",
            "gridwidth": 2,
            "linecolor": "white",
            "showbackground": true,
            "ticks": "",
            "zerolinecolor": "white"
           }
          },
          "shapedefaults": {
           "line": {
            "color": "#2a3f5f"
           }
          },
          "ternary": {
           "aaxis": {
            "gridcolor": "white",
            "linecolor": "white",
            "ticks": ""
           },
           "baxis": {
            "gridcolor": "white",
            "linecolor": "white",
            "ticks": ""
           },
           "bgcolor": "#E5ECF6",
           "caxis": {
            "gridcolor": "white",
            "linecolor": "white",
            "ticks": ""
           }
          },
          "title": {
           "x": 0.05
          },
          "xaxis": {
           "automargin": true,
           "gridcolor": "white",
           "linecolor": "white",
           "ticks": "",
           "title": {
            "standoff": 15
           },
           "zerolinecolor": "white",
           "zerolinewidth": 2
          },
          "yaxis": {
           "automargin": true,
           "gridcolor": "white",
           "linecolor": "white",
           "ticks": "",
           "title": {
            "standoff": 15
           },
           "zerolinecolor": "white",
           "zerolinewidth": 2
          }
         }
        },
        "title": {
         "text": "Parallel Coordinate Plot"
        }
       }
      }
     },
     "metadata": {},
     "output_type": "display_data"
    }
   ],
   "source": [
    "optuna.visualization.plot_parallel_coordinate(study)"
   ]
  },
  {
   "cell_type": "code",
   "execution_count": 38,
   "id": "281574d0",
   "metadata": {},
   "outputs": [
    {
     "name": "stdout",
     "output_type": "stream",
     "text": [
      "Best trial: {'C': 0.9965941658888154, 'epsilon': 0.010594105416879173, 'kernel': 'rbf', 'degree': 5}\n"
     ]
    }
   ],
   "source": [
    "print(\"Best trial:\", study.best_trial.params)"
   ]
  },
  {
   "cell_type": "code",
   "execution_count": 39,
   "id": "3b45adad",
   "metadata": {},
   "outputs": [
    {
     "data": {
      "text/html": [
       "<style>#sk-container-id-2 {color: black;}#sk-container-id-2 pre{padding: 0;}#sk-container-id-2 div.sk-toggleable {background-color: white;}#sk-container-id-2 label.sk-toggleable__label {cursor: pointer;display: block;width: 100%;margin-bottom: 0;padding: 0.3em;box-sizing: border-box;text-align: center;}#sk-container-id-2 label.sk-toggleable__label-arrow:before {content: \"▸\";float: left;margin-right: 0.25em;color: #696969;}#sk-container-id-2 label.sk-toggleable__label-arrow:hover:before {color: black;}#sk-container-id-2 div.sk-estimator:hover label.sk-toggleable__label-arrow:before {color: black;}#sk-container-id-2 div.sk-toggleable__content {max-height: 0;max-width: 0;overflow: hidden;text-align: left;background-color: #f0f8ff;}#sk-container-id-2 div.sk-toggleable__content pre {margin: 0.2em;color: black;border-radius: 0.25em;background-color: #f0f8ff;}#sk-container-id-2 input.sk-toggleable__control:checked~div.sk-toggleable__content {max-height: 200px;max-width: 100%;overflow: auto;}#sk-container-id-2 input.sk-toggleable__control:checked~label.sk-toggleable__label-arrow:before {content: \"▾\";}#sk-container-id-2 div.sk-estimator input.sk-toggleable__control:checked~label.sk-toggleable__label {background-color: #d4ebff;}#sk-container-id-2 div.sk-label input.sk-toggleable__control:checked~label.sk-toggleable__label {background-color: #d4ebff;}#sk-container-id-2 input.sk-hidden--visually {border: 0;clip: rect(1px 1px 1px 1px);clip: rect(1px, 1px, 1px, 1px);height: 1px;margin: -1px;overflow: hidden;padding: 0;position: absolute;width: 1px;}#sk-container-id-2 div.sk-estimator {font-family: monospace;background-color: #f0f8ff;border: 1px dotted black;border-radius: 0.25em;box-sizing: border-box;margin-bottom: 0.5em;}#sk-container-id-2 div.sk-estimator:hover {background-color: #d4ebff;}#sk-container-id-2 div.sk-parallel-item::after {content: \"\";width: 100%;border-bottom: 1px solid gray;flex-grow: 1;}#sk-container-id-2 div.sk-label:hover label.sk-toggleable__label {background-color: #d4ebff;}#sk-container-id-2 div.sk-serial::before {content: \"\";position: absolute;border-left: 1px solid gray;box-sizing: border-box;top: 0;bottom: 0;left: 50%;z-index: 0;}#sk-container-id-2 div.sk-serial {display: flex;flex-direction: column;align-items: center;background-color: white;padding-right: 0.2em;padding-left: 0.2em;position: relative;}#sk-container-id-2 div.sk-item {position: relative;z-index: 1;}#sk-container-id-2 div.sk-parallel {display: flex;align-items: stretch;justify-content: center;background-color: white;position: relative;}#sk-container-id-2 div.sk-item::before, #sk-container-id-2 div.sk-parallel-item::before {content: \"\";position: absolute;border-left: 1px solid gray;box-sizing: border-box;top: 0;bottom: 0;left: 50%;z-index: -1;}#sk-container-id-2 div.sk-parallel-item {display: flex;flex-direction: column;z-index: 1;position: relative;background-color: white;}#sk-container-id-2 div.sk-parallel-item:first-child::after {align-self: flex-end;width: 50%;}#sk-container-id-2 div.sk-parallel-item:last-child::after {align-self: flex-start;width: 50%;}#sk-container-id-2 div.sk-parallel-item:only-child::after {width: 0;}#sk-container-id-2 div.sk-dashed-wrapped {border: 1px dashed gray;margin: 0 0.4em 0.5em 0.4em;box-sizing: border-box;padding-bottom: 0.4em;background-color: white;}#sk-container-id-2 div.sk-label label {font-family: monospace;font-weight: bold;display: inline-block;line-height: 1.2em;}#sk-container-id-2 div.sk-label-container {text-align: center;}#sk-container-id-2 div.sk-container {/* jupyter's `normalize.less` sets `[hidden] { display: none; }` but bootstrap.min.css set `[hidden] { display: none !important; }` so we also need the `!important` here to be able to override the default hidden behavior on the sphinx rendered scikit-learn.org. See: https://github.com/scikit-learn/scikit-learn/issues/21755 */display: inline-block !important;position: relative;}#sk-container-id-2 div.sk-text-repr-fallback {display: none;}</style><div id=\"sk-container-id-2\" class=\"sk-top-container\"><div class=\"sk-text-repr-fallback\"><pre>SVR(C=0.9965941658888154, degree=5, epsilon=0.010594105416879173)</pre><b>In a Jupyter environment, please rerun this cell to show the HTML representation or trust the notebook. <br />On GitHub, the HTML representation is unable to render, please try loading this page with nbviewer.org.</b></div><div class=\"sk-container\" hidden><div class=\"sk-item\"><div class=\"sk-estimator sk-toggleable\"><input class=\"sk-toggleable__control sk-hidden--visually\" id=\"sk-estimator-id-2\" type=\"checkbox\" checked><label for=\"sk-estimator-id-2\" class=\"sk-toggleable__label sk-toggleable__label-arrow\">SVR</label><div class=\"sk-toggleable__content\"><pre>SVR(C=0.9965941658888154, degree=5, epsilon=0.010594105416879173)</pre></div></div></div></div></div>"
      ],
      "text/plain": [
       "SVR(C=0.9965941658888154, degree=5, epsilon=0.010594105416879173)"
      ]
     },
     "execution_count": 39,
     "metadata": {},
     "output_type": "execute_result"
    }
   ],
   "source": [
    "svm_params = {\n",
    "    \"C\": study.best_trial.params[\"C\"],\n",
    "    \"epsilon\": study.best_trial.params[\"epsilon\"],\n",
    "    \"kernel\": study.best_trial.params[\"kernel\"],\n",
    "    \"degree\": study.best_trial.params[\"degree\"]\n",
    "}\n",
    "\n",
    "svm = SVR(**svm_params)\n",
    "svm.fit(Cd_X_train, Cd_y_train)"
   ]
  },
  {
   "cell_type": "code",
   "execution_count": 40,
   "id": "9ab1055b",
   "metadata": {},
   "outputs": [],
   "source": [
    "y_train_pred = svm.predict(Cd_X_train)\n",
    "y_test_pred = svm.predict(Cd_X_test)"
   ]
  },
  {
   "cell_type": "code",
   "execution_count": 41,
   "id": "425b4001",
   "metadata": {},
   "outputs": [
    {
     "name": "stdout",
     "output_type": "stream",
     "text": [
      "Train RMSE:  0.15756433901070704\n",
      "Test RMSE:  0.21434078894099967\n"
     ]
    }
   ],
   "source": [
    "print(\"Train RMSE: \", np.sqrt(mean_squared_error(Cd_y_train, y_train_pred)))\n",
    "print(\"Test RMSE: \", np.sqrt(mean_squared_error(Cd_y_test, y_test_pred)))"
   ]
  },
  {
   "cell_type": "code",
   "execution_count": 42,
   "id": "0f95ae3c",
   "metadata": {},
   "outputs": [
    {
     "name": "stdout",
     "output_type": "stream",
     "text": [
      "Train R2:  0.6806998369473707\n",
      "Test R2:  0.4276720897363361\n"
     ]
    }
   ],
   "source": [
    "print(\"Train R2: \", r2_score(Cd_y_train, y_train_pred))\n",
    "print(\"Test R2: \", r2_score(Cd_y_test, y_test_pred))"
   ]
  },
  {
   "cell_type": "code",
   "execution_count": 43,
   "id": "a2ac1a1f",
   "metadata": {},
   "outputs": [
    {
     "data": {
      "image/png": "[encoded data removed]",
      "text/plain": [
       "<Figure size 640x480 with 1 Axes>"
      ]
     },
     "metadata": {},
     "output_type": "display_data"
    }
   ],
   "source": [
    "plt.scatter(y_train_pred, np.array(Cd_y_train), color=\"orange\", alpha=0.3)\n",
    "plt.scatter(y_test_pred, np.array(Cd_y_test), color=\"green\", alpha=0.4)\n",
    "plt.axis(\"auto\") # scaled, tight, auto, image, square\n",
    "# plt.xlim([0, 1.5]) \n",
    "# plt.ylim(0, None) \n",
    "plt.xlabel('Predicted Values')\n",
    "plt.ylabel('Actual Values')\n",
    "\n",
    "# Add y=x line\n",
    "plt.plot([0, 0.5], [0, 0.5], color='red', linestyle='-')\n",
    "\n",
    "plt.show()"
   ]
  },
  {
   "attachments": {},
   "cell_type": "markdown",
   "id": "74f680ea",
   "metadata": {},
   "source": [
    "Ni"
   ]
  },
  {
   "cell_type": "code",
   "execution_count": 44,
   "id": "de233338",
   "metadata": {},
   "outputs": [
    {
     "name": "stderr",
     "output_type": "stream",
     "text": [
      "\u001b[32m[I 2023-08-30 16:50:39,979]\u001b[0m A new study created in memory with name: svm_parameter_opt\u001b[0m\n",
      "\u001b[32m[I 2023-08-30 16:50:40,174]\u001b[0m Trial 0 finished with value: 0.48931374984078657 and parameters: {'C': 2.552821262633466, 'epsilon': 0.02351417647631524, 'kernel': 'rbf', 'degree': 3}. Best is trial 0 with value: 0.48931374984078657.\u001b[0m\n",
      "\u001b[32m[I 2023-08-30 16:50:40,314]\u001b[0m Trial 1 finished with value: 0.30177735688957225 and parameters: {'C': 0.25671023153300826, 'epsilon': 0.029460751302872373, 'kernel': 'rbf', 'degree': 3}. Best is trial 0 with value: 0.48931374984078657.\u001b[0m\n",
      "\u001b[32m[I 2023-08-30 16:50:40,490]\u001b[0m Trial 2 finished with value: 0.5503139778705926 and parameters: {'C': 11.850723666859704, 'epsilon': 0.13612688749370497, 'kernel': 'rbf', 'degree': 5}. Best is trial 2 with value: 0.5503139778705926.\u001b[0m\n",
      "\u001b[32m[I 2023-08-30 16:50:40,641]\u001b[0m Trial 3 finished with value: 0.40096050652392545 and parameters: {'C': 0.7238448444886962, 'epsilon': 0.03402524976844758, 'kernel': 'rbf', 'degree': 2}. Best is trial 2 with value: 0.5503139778705926.\u001b[0m\n",
      "\u001b[32m[I 2023-08-30 16:50:40,744]\u001b[0m Trial 4 finished with value: 0.11689098704690648 and parameters: {'C': 0.23261303424331636, 'epsilon': 0.020487177035631715, 'kernel': 'poly', 'degree': 2}. Best is trial 2 with value: 0.5503139778705926.\u001b[0m\n",
      "\u001b[32m[I 2023-08-30 16:50:40,875]\u001b[0m Trial 5 finished with value: 0.5475448979108841 and parameters: {'C': 37.7962443523998, 'epsilon': 0.5164291924024403, 'kernel': 'rbf', 'degree': 3}. Best is trial 2 with value: 0.5503139778705926.\u001b[0m\n",
      "\u001b[32m[I 2023-08-30 16:50:41,368]\u001b[0m Trial 6 finished with value: 0.17969553753808562 and parameters: {'C': 4.199741176714859, 'epsilon': 0.1248194886699553, 'kernel': 'linear', 'degree': 1}. Best is trial 2 with value: 0.5503139778705926.\u001b[0m\n",
      "\u001b[32m[I 2023-08-30 16:50:41,539]\u001b[0m Trial 7 finished with value: 0.42089266777996404 and parameters: {'C': 0.9831945352220384, 'epsilon': 0.010381792557702033, 'kernel': 'rbf', 'degree': 3}. Best is trial 2 with value: 0.5503139778705926.\u001b[0m\n",
      "\u001b[32m[I 2023-08-30 16:50:41,796]\u001b[0m Trial 8 finished with value: 0.27361824282442493 and parameters: {'C': 10.980859087907978, 'epsilon': 0.10132323692850738, 'kernel': 'poly', 'degree': 2}. Best is trial 2 with value: 0.5503139778705926.\u001b[0m\n",
      "\u001b[32m[I 2023-08-30 16:50:41,977]\u001b[0m Trial 9 finished with value: 0.23065347251001564 and parameters: {'C': 2.462389602375161, 'epsilon': 0.8463924924197251, 'kernel': 'linear', 'degree': 2}. Best is trial 2 with value: 0.5503139778705926.\u001b[0m\n",
      "\u001b[32m[I 2023-08-30 16:50:47,476]\u001b[0m Trial 10 finished with value: 0.21816483432970318 and parameters: {'C': 95.66028765211864, 'epsilon': 0.26812062020851246, 'kernel': 'linear', 'degree': 5}. Best is trial 2 with value: 0.5503139778705926.\u001b[0m\n",
      "\u001b[32m[I 2023-08-30 16:50:47,634]\u001b[0m Trial 11 finished with value: 0.5530221292711346 and parameters: {'C': 33.7227957958705, 'epsilon': 0.5298245551536137, 'kernel': 'rbf', 'degree': 5}. Best is trial 11 with value: 0.5530221292711346.\u001b[0m\n",
      "\u001b[32m[I 2023-08-30 16:50:47,833]\u001b[0m Trial 12 finished with value: 0.5635973233537055 and parameters: {'C': 17.812641207772664, 'epsilon': 0.2375000239439061, 'kernel': 'rbf', 'degree': 5}. Best is trial 12 with value: 0.5635973233537055.\u001b[0m\n",
      "\u001b[32m[I 2023-08-30 16:50:47,987]\u001b[0m Trial 13 finished with value: 0.5674452504646084 and parameters: {'C': 22.334977888913375, 'epsilon': 0.31542319931546026, 'kernel': 'rbf', 'degree': 5}. Best is trial 13 with value: 0.5674452504646084.\u001b[0m\n",
      "\u001b[32m[I 2023-08-30 16:50:48,199]\u001b[0m Trial 14 finished with value: 0.13924095036909506 and parameters: {'C': 12.497642343678919, 'epsilon': 0.26224168878222365, 'kernel': 'poly', 'degree': 4}. Best is trial 13 with value: 0.5674452504646084.\u001b[0m\n",
      "\u001b[32m[I 2023-08-30 16:50:48,402]\u001b[0m Trial 15 finished with value: 0.5467499437478167 and parameters: {'C': 36.03241405529741, 'epsilon': 0.27178309376817, 'kernel': 'rbf', 'degree': 4}. Best is trial 13 with value: 0.5674452504646084.\u001b[0m\n",
      "\u001b[32m[I 2023-08-30 16:50:48,619]\u001b[0m Trial 16 finished with value: 0.5365987294917788 and parameters: {'C': 6.247814599908254, 'epsilon': 0.056157647462881974, 'kernel': 'rbf', 'degree': 4}. Best is trial 13 with value: 0.5674452504646084.\u001b[0m\n",
      "\u001b[32m[I 2023-08-30 16:50:49,022]\u001b[0m Trial 17 finished with value: 0.4471132443874647 and parameters: {'C': 96.26849252584184, 'epsilon': 0.17951897956757915, 'kernel': 'rbf', 'degree': 5}. Best is trial 13 with value: 0.5674452504646084.\u001b[0m\n",
      "\u001b[32m[I 2023-08-30 16:50:49,472]\u001b[0m Trial 18 finished with value: -0.31809929107067897 and parameters: {'C': 21.486821260080458, 'epsilon': 0.0651836398802854, 'kernel': 'poly', 'degree': 4}. Best is trial 13 with value: 0.5674452504646084.\u001b[0m\n",
      "\u001b[32m[I 2023-08-30 16:50:50,623]\u001b[0m Trial 19 finished with value: 0.24523758031579365 and parameters: {'C': 20.169947188691214, 'epsilon': 0.4640430158288985, 'kernel': 'linear', 'degree': 5}. Best is trial 13 with value: 0.5674452504646084.\u001b[0m\n",
      "\u001b[32m[I 2023-08-30 16:50:50,725]\u001b[0m Trial 20 finished with value: 0.4375589660789053 and parameters: {'C': 5.847641818428503, 'epsilon': 0.956494155072893, 'kernel': 'rbf', 'degree': 4}. Best is trial 13 with value: 0.5674452504646084.\u001b[0m\n",
      "\u001b[32m[I 2023-08-30 16:50:50,881]\u001b[0m Trial 21 finished with value: 0.5374884381260399 and parameters: {'C': 45.53112306442145, 'epsilon': 0.47814859037656815, 'kernel': 'rbf', 'degree': 5}. Best is trial 13 with value: 0.5674452504646084.\u001b[0m\n",
      "\u001b[32m[I 2023-08-30 16:50:51,069]\u001b[0m Trial 22 finished with value: 0.5328447955321842 and parameters: {'C': 48.50828991263265, 'epsilon': 0.36476209130321585, 'kernel': 'rbf', 'degree': 5}. Best is trial 13 with value: 0.5674452504646084.\u001b[0m\n",
      "\u001b[32m[I 2023-08-30 16:50:51,176]\u001b[0m Trial 23 finished with value: 0.5483397260292515 and parameters: {'C': 21.673562687545825, 'epsilon': 0.6819215527911014, 'kernel': 'rbf', 'degree': 5}. Best is trial 13 with value: 0.5674452504646084.\u001b[0m\n",
      "\u001b[32m[I 2023-08-30 16:50:51,292]\u001b[0m Trial 24 finished with value: 0.21659967481771725 and parameters: {'C': 0.10480321472106789, 'epsilon': 0.19148626614459707, 'kernel': 'rbf', 'degree': 4}. Best is trial 13 with value: 0.5674452504646084.\u001b[0m\n",
      "\u001b[32m[I 2023-08-30 16:50:51,503]\u001b[0m Trial 25 finished with value: 0.5142757537089144 and parameters: {'C': 60.65951747801973, 'epsilon': 0.31970932744282227, 'kernel': 'rbf', 'degree': 5}. Best is trial 13 with value: 0.5674452504646084.\u001b[0m\n",
      "\u001b[32m[I 2023-08-30 16:50:51,621]\u001b[0m Trial 26 finished with value: 0.5531721537555124 and parameters: {'C': 24.181153387572426, 'epsilon': 0.6273670180994788, 'kernel': 'rbf', 'degree': 4}. Best is trial 13 with value: 0.5674452504646084.\u001b[0m\n",
      "\u001b[32m[I 2023-08-30 16:50:51,774]\u001b[0m Trial 27 finished with value: 0.5564845075691768 and parameters: {'C': 8.405812362379324, 'epsilon': 0.1843048844811404, 'kernel': 'rbf', 'degree': 4}. Best is trial 13 with value: 0.5674452504646084.\u001b[0m\n",
      "\u001b[32m[I 2023-08-30 16:50:51,956]\u001b[0m Trial 28 finished with value: 0.2882539942899097 and parameters: {'C': 7.213229044155415, 'epsilon': 0.17446820986384864, 'kernel': 'poly', 'degree': 4}. Best is trial 13 with value: 0.5674452504646084.\u001b[0m\n",
      "\u001b[32m[I 2023-08-30 16:50:52,349]\u001b[0m Trial 29 finished with value: 0.16992745993830424 and parameters: {'C': 3.064451607394116, 'epsilon': 0.07056289339750466, 'kernel': 'linear', 'degree': 4}. Best is trial 13 with value: 0.5674452504646084.\u001b[0m\n",
      "\u001b[32m[I 2023-08-30 16:50:52,510]\u001b[0m Trial 30 finished with value: 0.47753916090846255 and parameters: {'C': 1.8592672193905364, 'epsilon': 0.0896428494622637, 'kernel': 'rbf', 'degree': 3}. Best is trial 13 with value: 0.5674452504646084.\u001b[0m\n",
      "\u001b[32m[I 2023-08-30 16:50:52,643]\u001b[0m Trial 31 finished with value: 0.5753069664291864 and parameters: {'C': 16.616384968129086, 'epsilon': 0.371500118979381, 'kernel': 'rbf', 'degree': 4}. Best is trial 31 with value: 0.5753069664291864.\u001b[0m\n",
      "\u001b[32m[I 2023-08-30 16:50:52,809]\u001b[0m Trial 32 finished with value: 0.5588485732984377 and parameters: {'C': 14.475609276105201, 'epsilon': 0.2141481568055269, 'kernel': 'rbf', 'degree': 5}. Best is trial 31 with value: 0.5753069664291864.\u001b[0m\n",
      "\u001b[32m[I 2023-08-30 16:50:52,942]\u001b[0m Trial 33 finished with value: 0.5746866319447703 and parameters: {'C': 15.39372931918248, 'epsilon': 0.3666021781576133, 'kernel': 'rbf', 'degree': 5}. Best is trial 31 with value: 0.5753069664291864.\u001b[0m\n",
      "\u001b[32m[I 2023-08-30 16:50:53,073]\u001b[0m Trial 34 finished with value: 0.5748045609645026 and parameters: {'C': 15.11407729700186, 'epsilon': 0.3683208121584879, 'kernel': 'rbf', 'degree': 5}. Best is trial 31 with value: 0.5753069664291864.\u001b[0m\n",
      "\u001b[32m[I 2023-08-30 16:50:53,197]\u001b[0m Trial 35 finished with value: 0.5721045813767824 and parameters: {'C': 10.735960557834789, 'epsilon': 0.37782399907834024, 'kernel': 'rbf', 'degree': 5}. Best is trial 31 with value: 0.5753069664291864.\u001b[0m\n",
      "\u001b[32m[I 2023-08-30 16:50:53,319]\u001b[0m Trial 36 finished with value: 0.5714999699554527 and parameters: {'C': 10.52079984526251, 'epsilon': 0.41609506680114877, 'kernel': 'rbf', 'degree': 5}. Best is trial 31 with value: 0.5753069664291864.\u001b[0m\n",
      "\u001b[32m[I 2023-08-30 16:50:53,400]\u001b[0m Trial 37 finished with value: 0.46709504190531276 and parameters: {'C': 1.5865794962946977, 'epsilon': 0.7194765429491821, 'kernel': 'rbf', 'degree': 5}. Best is trial 31 with value: 0.5753069664291864.\u001b[0m\n",
      "\u001b[32m[I 2023-08-30 16:50:53,557]\u001b[0m Trial 38 finished with value: 0.5359594922429337 and parameters: {'C': 4.444814966423242, 'epsilon': 0.126860507682018, 'kernel': 'rbf', 'degree': 3}. Best is trial 31 with value: 0.5753069664291864.\u001b[0m\n",
      "\u001b[32m[I 2023-08-30 16:50:53,684]\u001b[0m Trial 39 finished with value: 0.23543108134770313 and parameters: {'C': 8.526016257556007, 'epsilon': 0.37637927435330404, 'kernel': 'poly', 'degree': 1}. Best is trial 31 with value: 0.5753069664291864.\u001b[0m\n",
      "\u001b[32m[I 2023-08-30 16:50:53,785]\u001b[0m Trial 40 finished with value: 0.5415624112336627 and parameters: {'C': 5.170942119031551, 'epsilon': 0.6167483855079814, 'kernel': 'rbf', 'degree': 4}. Best is trial 31 with value: 0.5753069664291864.\u001b[0m\n",
      "\u001b[32m[I 2023-08-30 16:50:53,907]\u001b[0m Trial 41 finished with value: 0.5720730033588343 and parameters: {'C': 11.045361957240639, 'epsilon': 0.4082716496330097, 'kernel': 'rbf', 'degree': 5}. Best is trial 31 with value: 0.5753069664291864.\u001b[0m\n",
      "\u001b[32m[I 2023-08-30 16:50:54,043]\u001b[0m Trial 42 finished with value: 0.572165230097702 and parameters: {'C': 13.661402680753675, 'epsilon': 0.3350319979263746, 'kernel': 'rbf', 'degree': 5}. Best is trial 31 with value: 0.5753069664291864.\u001b[0m\n",
      "\u001b[32m[I 2023-08-30 16:50:54,217]\u001b[0m Trial 43 finished with value: 0.5568959693979112 and parameters: {'C': 30.71711750606482, 'epsilon': 0.3329743653974265, 'kernel': 'rbf', 'degree': 5}. Best is trial 31 with value: 0.5753069664291864.\u001b[0m\n",
      "\u001b[32m[I 2023-08-30 16:50:55,568]\u001b[0m Trial 44 finished with value: 0.19341575552559215 and parameters: {'C': 17.072329263424987, 'epsilon': 0.14776916702558476, 'kernel': 'linear', 'degree': 5}. Best is trial 31 with value: 0.5753069664291864.\u001b[0m\n",
      "\u001b[32m[I 2023-08-30 16:50:55,677]\u001b[0m Trial 45 finished with value: 0.49307686893862634 and parameters: {'C': 68.49714554018654, 'epsilon': 0.7982191874152293, 'kernel': 'rbf', 'degree': 5}. Best is trial 31 with value: 0.5753069664291864.\u001b[0m\n",
      "\u001b[32m[I 2023-08-30 16:50:55,945]\u001b[0m Trial 46 finished with value: 0.5331824254297012 and parameters: {'C': 14.093559127936826, 'epsilon': 0.018998356954072315, 'kernel': 'rbf', 'degree': 5}. Best is trial 31 with value: 0.5753069664291864.\u001b[0m\n",
      "\u001b[32m[I 2023-08-30 16:50:56,063]\u001b[0m Trial 47 finished with value: 0.567288941392617 and parameters: {'C': 8.991011820906628, 'epsilon': 0.5182179212053318, 'kernel': 'rbf', 'degree': 4}. Best is trial 31 with value: 0.5753069664291864.\u001b[0m\n",
      "\u001b[32m[I 2023-08-30 16:50:56,194]\u001b[0m Trial 48 finished with value: 0.543747200086848 and parameters: {'C': 3.621472844639251, 'epsilon': 0.2971322156544689, 'kernel': 'rbf', 'degree': 5}. Best is trial 31 with value: 0.5753069664291864.\u001b[0m\n",
      "\u001b[32m[I 2023-08-30 16:50:56,352]\u001b[0m Trial 49 finished with value: 0.21256021154155097 and parameters: {'C': 0.6872569589561314, 'epsilon': 0.24064857599689846, 'kernel': 'linear', 'degree': 3}. Best is trial 31 with value: 0.5753069664291864.\u001b[0m\n",
      "\u001b[32m[I 2023-08-30 16:50:56,873]\u001b[0m Trial 50 finished with value: -1.809944721350402 and parameters: {'C': 28.6247221417442, 'epsilon': 0.03795380437671795, 'kernel': 'poly', 'degree': 5}. Best is trial 31 with value: 0.5753069664291864.\u001b[0m\n",
      "\u001b[32m[I 2023-08-30 16:50:57,009]\u001b[0m Trial 51 finished with value: 0.57354734774364 and parameters: {'C': 12.819508118973205, 'epsilon': 0.4093232644141769, 'kernel': 'rbf', 'degree': 5}. Best is trial 31 with value: 0.5753069664291864.\u001b[0m\n",
      "\u001b[32m[I 2023-08-30 16:50:57,133]\u001b[0m Trial 52 finished with value: 0.5774941357173051 and parameters: {'C': 14.884984959066337, 'epsilon': 0.4317911499035182, 'kernel': 'rbf', 'degree': 5}. Best is trial 52 with value: 0.5774941357173051.\u001b[0m\n",
      "\u001b[32m[I 2023-08-30 16:50:57,249]\u001b[0m Trial 53 finished with value: 0.5732718330149675 and parameters: {'C': 16.775130244326764, 'epsilon': 0.5535688615664668, 'kernel': 'rbf', 'degree': 2}. Best is trial 52 with value: 0.5774941357173051.\u001b[0m\n",
      "\u001b[32m[I 2023-08-30 16:50:57,391]\u001b[0m Trial 54 finished with value: 0.538584439695434 and parameters: {'C': 42.213149178957806, 'epsilon': 0.5500994825338952, 'kernel': 'rbf', 'degree': 2}. Best is trial 52 with value: 0.5774941357173051.\u001b[0m\n",
      "\u001b[32m[I 2023-08-30 16:50:57,520]\u001b[0m Trial 55 finished with value: 0.5804112857368561 and parameters: {'C': 17.228444773726757, 'epsilon': 0.45579607235389397, 'kernel': 'rbf', 'degree': 2}. Best is trial 55 with value: 0.5804112857368561.\u001b[0m\n",
      "\u001b[32m[I 2023-08-30 16:50:57,619]\u001b[0m Trial 56 finished with value: 0.5103674006074724 and parameters: {'C': 30.406423652183452, 'epsilon': 0.7958028651752929, 'kernel': 'rbf', 'degree': 2}. Best is trial 55 with value: 0.5804112857368561.\u001b[0m\n",
      "\u001b[32m[I 2023-08-30 16:50:57,705]\u001b[0m Trial 57 finished with value: 0.4454498982114351 and parameters: {'C': 25.85723590375495, 'epsilon': 0.9478087721240509, 'kernel': 'rbf', 'degree': 1}. Best is trial 55 with value: 0.5804112857368561.\u001b[0m\n",
      "\u001b[32m[I 2023-08-30 16:50:57,819]\u001b[0m Trial 58 finished with value: 0.5620338794418178 and parameters: {'C': 6.522462122029712, 'epsilon': 0.45813606233718157, 'kernel': 'rbf', 'degree': 3}. Best is trial 55 with value: 0.5804112857368561.\u001b[0m\n",
      "\u001b[32m[I 2023-08-30 16:50:57,975]\u001b[0m Trial 59 finished with value: 0.5666452695309794 and parameters: {'C': 17.99364397030247, 'epsilon': 0.26973806896903063, 'kernel': 'rbf', 'degree': 4}. Best is trial 55 with value: 0.5804112857368561.\u001b[0m\n",
      "\u001b[32m[I 2023-08-30 16:50:58,289]\u001b[0m Trial 60 finished with value: 0.20479685425879754 and parameters: {'C': 38.228857767994356, 'epsilon': 0.22303324137057898, 'kernel': 'poly', 'degree': 1}. Best is trial 55 with value: 0.5804112857368561.\u001b[0m\n",
      "\u001b[32m[I 2023-08-30 16:50:58,415]\u001b[0m Trial 61 finished with value: 0.5801490251940626 and parameters: {'C': 17.796992326457087, 'epsilon': 0.44617904247561435, 'kernel': 'rbf', 'degree': 2}. Best is trial 55 with value: 0.5804112857368561.\u001b[0m\n",
      "\u001b[32m[I 2023-08-30 16:50:58,535]\u001b[0m Trial 62 finished with value: 0.578114584867007 and parameters: {'C': 14.048950220863965, 'epsilon': 0.460823875792723, 'kernel': 'rbf', 'degree': 2}. Best is trial 55 with value: 0.5804112857368561.\u001b[0m\n",
      "\u001b[32m[I 2023-08-30 16:50:58,657]\u001b[0m Trial 63 finished with value: 0.5229904289988732 and parameters: {'C': 56.2884210246201, 'epsilon': 0.6425785908291338, 'kernel': 'rbf', 'degree': 2}. Best is trial 55 with value: 0.5804112857368561.\u001b[0m\n",
      "\u001b[32m[I 2023-08-30 16:50:58,788]\u001b[0m Trial 64 finished with value: 0.5776141007838008 and parameters: {'C': 21.467860969928708, 'epsilon': 0.44618920547989754, 'kernel': 'rbf', 'degree': 2}. Best is trial 55 with value: 0.5804112857368561.\u001b[0m\n",
      "\u001b[32m[I 2023-08-30 16:50:58,919]\u001b[0m Trial 65 finished with value: 0.5771048726216221 and parameters: {'C': 22.1180864020472, 'epsilon': 0.46054563641741253, 'kernel': 'rbf', 'degree': 2}. Best is trial 55 with value: 0.5804112857368561.\u001b[0m\n",
      "\u001b[32m[I 2023-08-30 16:51:00,115]\u001b[0m Trial 66 finished with value: 0.24545060554747017 and parameters: {'C': 20.427025691831297, 'epsilon': 0.45190576712340236, 'kernel': 'linear', 'degree': 2}. Best is trial 55 with value: 0.5804112857368561.\u001b[0m\n",
      "\u001b[32m[I 2023-08-30 16:51:00,232]\u001b[0m Trial 67 finished with value: 0.5620732307057226 and parameters: {'C': 23.664661733440084, 'epsilon': 0.5786922881084486, 'kernel': 'rbf', 'degree': 2}. Best is trial 55 with value: 0.5804112857368561.\u001b[0m\n",
      "\u001b[32m[I 2023-08-30 16:51:00,341]\u001b[0m Trial 68 finished with value: 0.5363056507074518 and parameters: {'C': 33.78032560550562, 'epsilon': 0.6958421139461538, 'kernel': 'rbf', 'degree': 2}. Best is trial 55 with value: 0.5804112857368561.\u001b[0m\n",
      "\u001b[32m[I 2023-08-30 16:51:00,453]\u001b[0m Trial 69 finished with value: 0.5641351489582692 and parameters: {'C': 7.704803651740299, 'epsilon': 0.4881321588346094, 'kernel': 'rbf', 'degree': 2}. Best is trial 55 with value: 0.5804112857368561.\u001b[0m\n",
      "\u001b[32m[I 2023-08-30 16:51:00,697]\u001b[0m Trial 70 finished with value: 0.4955482334856616 and parameters: {'C': 72.93768000428096, 'epsilon': 0.28087278671741983, 'kernel': 'rbf', 'degree': 1}. Best is trial 55 with value: 0.5804112857368561.\u001b[0m\n",
      "\u001b[32m[I 2023-08-30 16:51:00,826]\u001b[0m Trial 71 finished with value: 0.5800373406030674 and parameters: {'C': 18.780881741708157, 'epsilon': 0.43546901600148585, 'kernel': 'rbf', 'degree': 2}. Best is trial 55 with value: 0.5804112857368561.\u001b[0m\n",
      "\u001b[32m[I 2023-08-30 16:51:00,963]\u001b[0m Trial 72 finished with value: 0.5720196516432504 and parameters: {'C': 25.98899550444161, 'epsilon': 0.45863958310072156, 'kernel': 'rbf', 'degree': 2}. Best is trial 55 with value: 0.5804112857368561.\u001b[0m\n",
      "\u001b[32m[I 2023-08-30 16:51:01,088]\u001b[0m Trial 73 finished with value: 0.5751490851192224 and parameters: {'C': 17.74860951617438, 'epsilon': 0.5372524545834677, 'kernel': 'rbf', 'degree': 2}. Best is trial 55 with value: 0.5804112857368561.\u001b[0m\n",
      "\u001b[32m[I 2023-08-30 16:51:01,220]\u001b[0m Trial 74 finished with value: 0.5706932329763894 and parameters: {'C': 10.434402233893081, 'epsilon': 0.33796530990469376, 'kernel': 'rbf', 'degree': 2}. Best is trial 55 with value: 0.5804112857368561.\u001b[0m\n",
      "\u001b[32m[I 2023-08-30 16:51:01,322]\u001b[0m Trial 75 finished with value: 0.5336140026845454 and parameters: {'C': 20.261830696384703, 'epsilon': 0.7452839453075425, 'kernel': 'rbf', 'degree': 2}. Best is trial 55 with value: 0.5804112857368561.\u001b[0m\n",
      "\u001b[32m[I 2023-08-30 16:51:01,421]\u001b[0m Trial 76 finished with value: 0.47192217067309156 and parameters: {'C': 50.60083042232521, 'epsilon': 0.8892711879962513, 'kernel': 'rbf', 'degree': 3}. Best is trial 55 with value: 0.5804112857368561.\u001b[0m\n",
      "\u001b[32m[I 2023-08-30 16:51:01,541]\u001b[0m Trial 77 finished with value: 0.5704344855242222 and parameters: {'C': 9.401521034739298, 'epsilon': 0.43200129415963784, 'kernel': 'rbf', 'degree': 2}. Best is trial 55 with value: 0.5804112857368561.\u001b[0m\n",
      "\u001b[32m[I 2023-08-30 16:51:01,723]\u001b[0m Trial 78 finished with value: 0.2779786561105817 and parameters: {'C': 12.540849825079183, 'epsilon': 0.6133541086923574, 'kernel': 'poly', 'degree': 2}. Best is trial 55 with value: 0.5804112857368561.\u001b[0m\n",
      "\u001b[32m[I 2023-08-30 16:51:01,852]\u001b[0m Trial 79 finished with value: 0.5727287814115976 and parameters: {'C': 23.30277234954252, 'epsilon': 0.5023971335288393, 'kernel': 'rbf', 'degree': 3}. Best is trial 55 with value: 0.5804112857368561.\u001b[0m\n",
      "\u001b[32m[I 2023-08-30 16:51:01,973]\u001b[0m Trial 80 finished with value: 0.22401577933756617 and parameters: {'C': 0.34737910883073775, 'epsilon': 0.2974467029826729, 'kernel': 'linear', 'degree': 1}. Best is trial 55 with value: 0.5804112857368561.\u001b[0m\n",
      "\u001b[32m[I 2023-08-30 16:51:02,094]\u001b[0m Trial 81 finished with value: 0.5753803710877083 and parameters: {'C': 17.968805571975825, 'epsilon': 0.5338108535326298, 'kernel': 'rbf', 'degree': 2}. Best is trial 55 with value: 0.5804112857368561.\u001b[0m\n",
      "\u001b[32m[I 2023-08-30 16:51:02,226]\u001b[0m Trial 82 finished with value: 0.5760492212742381 and parameters: {'C': 16.201936855629157, 'epsilon': 0.38235976533096133, 'kernel': 'rbf', 'degree': 2}. Best is trial 55 with value: 0.5804112857368561.\u001b[0m\n",
      "\u001b[32m[I 2023-08-30 16:51:02,386]\u001b[0m Trial 83 finished with value: 0.552609366717663 and parameters: {'C': 37.07999785994096, 'epsilon': 0.3915291963657632, 'kernel': 'rbf', 'degree': 2}. Best is trial 55 with value: 0.5804112857368561.\u001b[0m\n",
      "\u001b[32m[I 2023-08-30 16:51:02,497]\u001b[0m Trial 84 finished with value: 0.5440993013636495 and parameters: {'C': 27.97865451855344, 'epsilon': 0.6766232531323013, 'kernel': 'rbf', 'degree': 2}. Best is trial 55 with value: 0.5804112857368561.\u001b[0m\n",
      "\u001b[32m[I 2023-08-30 16:51:02,631]\u001b[0m Trial 85 finished with value: 0.5722524584249271 and parameters: {'C': 12.171071644757674, 'epsilon': 0.3273670813024037, 'kernel': 'rbf', 'degree': 2}. Best is trial 55 with value: 0.5804112857368561.\u001b[0m\n",
      "\u001b[32m[I 2023-08-30 16:51:02,820]\u001b[0m Trial 86 finished with value: 0.5650168418227182 and parameters: {'C': 19.246524432223357, 'epsilon': 0.2518263282847315, 'kernel': 'rbf', 'degree': 2}. Best is trial 55 with value: 0.5804112857368561.\u001b[0m\n",
      "\u001b[32m[I 2023-08-30 16:51:02,938]\u001b[0m Trial 87 finished with value: 0.5658023437838263 and parameters: {'C': 15.123386362918772, 'epsilon': 0.5924408841858593, 'kernel': 'rbf', 'degree': 2}. Best is trial 55 with value: 0.5804112857368561.\u001b[0m\n",
      "\u001b[32m[I 2023-08-30 16:51:03,275]\u001b[0m Trial 88 finished with value: 0.5258740434216811 and parameters: {'C': 21.70783361494273, 'epsilon': 0.011141984512546914, 'kernel': 'rbf', 'degree': 3}. Best is trial 55 with value: 0.5804112857368561.\u001b[0m\n",
      "\u001b[32m[I 2023-08-30 16:51:03,391]\u001b[0m Trial 89 finished with value: 0.569018088112135 and parameters: {'C': 9.482493679837717, 'epsilon': 0.4990124078602125, 'kernel': 'rbf', 'degree': 2}. Best is trial 55 with value: 0.5804112857368561.\u001b[0m\n",
      "\u001b[32m[I 2023-08-30 16:51:03,506]\u001b[0m Trial 90 finished with value: 0.5563622398092555 and parameters: {'C': 5.27735857082218, 'epsilon': 0.4117732517643393, 'kernel': 'rbf', 'degree': 2}. Best is trial 55 with value: 0.5804112857368561.\u001b[0m\n",
      "\u001b[32m[I 2023-08-30 16:51:03,640]\u001b[0m Trial 91 finished with value: 0.5765059178453006 and parameters: {'C': 15.906882408109139, 'epsilon': 0.39054908719046366, 'kernel': 'rbf', 'degree': 2}. Best is trial 55 with value: 0.5804112857368561.\u001b[0m\n",
      "\u001b[32m[I 2023-08-30 16:51:03,762]\u001b[0m Trial 92 finished with value: 0.5770297002572757 and parameters: {'C': 14.05659916592657, 'epsilon': 0.44866512097742184, 'kernel': 'rbf', 'degree': 2}. Best is trial 55 with value: 0.5804112857368561.\u001b[0m\n",
      "\u001b[32m[I 2023-08-30 16:51:03,889]\u001b[0m Trial 93 finished with value: 0.5790571811794172 and parameters: {'C': 15.290453327413264, 'epsilon': 0.44327910721216557, 'kernel': 'rbf', 'degree': 2}. Best is trial 55 with value: 0.5804112857368561.\u001b[0m\n",
      "\u001b[32m[I 2023-08-30 16:51:04,014]\u001b[0m Trial 94 finished with value: 0.5759160312282413 and parameters: {'C': 13.693901020094724, 'epsilon': 0.439148768715605, 'kernel': 'rbf', 'degree': 2}. Best is trial 55 with value: 0.5804112857368561.\u001b[0m\n",
      "\u001b[32m[I 2023-08-30 16:51:04,171]\u001b[0m Trial 95 finished with value: 0.5582032605817655 and parameters: {'C': 10.939236128178923, 'epsilon': 0.20148957834870093, 'kernel': 'rbf', 'degree': 1}. Best is trial 55 with value: 0.5804112857368561.\u001b[0m\n",
      "\u001b[32m[I 2023-08-30 16:51:04,352]\u001b[0m Trial 96 finished with value: 0.5553360652715709 and parameters: {'C': 7.8146450725833585, 'epsilon': 0.159646634093343, 'kernel': 'rbf', 'degree': 2}. Best is trial 55 with value: 0.5804112857368561.\u001b[0m\n",
      "\u001b[32m[I 2023-08-30 16:51:04,524]\u001b[0m Trial 97 finished with value: 0.5525703109127422 and parameters: {'C': 33.06055832524822, 'epsilon': 0.3328481503243651, 'kernel': 'rbf', 'degree': 2}. Best is trial 55 with value: 0.5804112857368561.\u001b[0m\n",
      "\u001b[32m[I 2023-08-30 16:51:05,195]\u001b[0m Trial 98 finished with value: 0.2452399555225626 and parameters: {'C': 42.31010853605728, 'epsilon': 0.30277095712757807, 'kernel': 'poly', 'degree': 2}. Best is trial 55 with value: 0.5804112857368561.\u001b[0m\n",
      "\u001b[32m[I 2023-08-30 16:51:07,477]\u001b[0m Trial 99 finished with value: 0.18455516550082954 and parameters: {'C': 27.060024227881147, 'epsilon': 0.09448381453791281, 'kernel': 'linear', 'degree': 2}. Best is trial 55 with value: 0.5804112857368561.\u001b[0m\n"
     ]
    },
    {
     "name": "stdout",
     "output_type": "stream",
     "text": [
      "Best r2:  0.5804112857368561\n",
      "Best trial: {'C': 17.228444773726757, 'epsilon': 0.45579607235389397, 'kernel': 'rbf', 'degree': 2}\n"
     ]
    }
   ],
   "source": [
    "sampler = TPESampler()\n",
    "study = optuna.create_study(\n",
    "    study_name=\"svm_parameter_opt\",\n",
    "    direction=\"maximize\",\n",
    "    sampler=sampler,\n",
    ")\n",
    "\n",
    "study.optimize(lambda trial : objectiveSVM(trial, Ni_X_train, Ni_y_train), n_trials=100)\n",
    "print(\"Best r2: \", study.best_value)\n",
    "print(\"Best trial:\", study.best_trial.params)"
   ]
  },
  {
   "cell_type": "code",
   "execution_count": 45,
   "id": "d71c01fb",
   "metadata": {},
   "outputs": [
    {
     "data": {
      "application/vnd.plotly.v1+json": {
       "config": {
        "plotlyServerURL": "https://plot.ly"
       },
       "data": [
        {
         "dimensions": [
          {
           "label": "Objective Value",
           "range": [
            -1.809944721350402,
            0.5804112857368561
           ],
           "values": [
            0.48931374984078657,
            0.30177735688957225,
            0.5503139778705926,
            0.40096050652392545,
            0.11689098704690648,
            0.5475448979108841,
            0.17969553753808562,
            0.42089266777996404,
            0.27361824282442493,
            0.23065347251001564,
            0.21816483432970318,
            0.5530221292711346,
            0.5635973233537055,
            0.5674452504646084,
            0.13924095036909506,
            0.5467499437478167,
            0.5365987294917788,
            0.4471132443874647,
            -0.31809929107067897,
            0.24523758031579365,
            0.4375589660789053,
            0.5374884381260399,
            0.5328447955321842,
            0.5483397260292515,
            0.21659967481771725,
            0.5142757537089144,
            0.5531721537555124,
            0.5564845075691768,
            0.2882539942899097,
            0.16992745993830424,
            0.47753916090846255,
            0.5753069664291864,
            0.5588485732984377,
            0.5746866319447703,
            0.5748045609645026,
            0.5721045813767824,
            0.5714999699554527,
            0.46709504190531276,
            0.5359594922429337,
            0.23543108134770313,
            0.5415624112336627,
            0.5720730033588343,
            0.572165230097702,
            0.5568959693979112,
            0.19341575552559215,
            0.49307686893862634,
            0.5331824254297012,
            0.567288941392617,
            0.543747200086848,
            0.21256021154155097,
            -1.809944721350402,
            0.57354734774364,
            0.5774941357173051,
            0.5732718330149675,
            0.538584439695434,
            0.5804112857368561,
            0.5103674006074724,
            0.4454498982114351,
            0.5620338794418178,
            0.5666452695309794,
            0.20479685425879754,
            0.5801490251940626,
            0.578114584867007,
            0.5229904289988732,
            0.5776141007838008,
            0.5771048726216221,
            0.24545060554747017,
            0.5620732307057226,
            0.5363056507074518,
            0.5641351489582692,
            0.4955482334856616,
            0.5800373406030674,
            0.5720196516432504,
            0.5751490851192224,
            0.5706932329763894,
            0.5336140026845454,
            0.47192217067309156,
            0.5704344855242222,
            0.2779786561105817,
            0.5727287814115976,
            0.22401577933756617,
            0.5753803710877083,
            0.5760492212742381,
            0.552609366717663,
            0.5440993013636495,
            0.5722524584249271,
            0.5650168418227182,
            0.5658023437838263,
            0.5258740434216811,
            0.569018088112135,
            0.5563622398092555,
            0.5765059178453006,
            0.5770297002572757,
            0.5790571811794172,
            0.5759160312282413,
            0.5582032605817655,
            0.5553360652715709,
            0.5525703109127422,
            0.2452399555225626,
            0.18455516550082954
           ]
          },
          {
           "label": "C",
           "range": [
            -0.9796253956518344,
            1.9834841712248021
           ],
           "ticktext": [
            "0.105",
            "1",
            "10",
            "96.3"
           ],
           "tickvals": [
            -0.9796253956518344,
            0,
            1,
            1.9834841712248021
           ],
           "values": [
            0.40702040847075976,
            -0.5905568215904385,
            1.073744871437075,
            -0.1403545144708688,
            -0.6333659536602392,
            1.577448648036655,
            0.6232225263531054,
            -0.0073605440043415845,
            1.0406363184877425,
            0.39135676865024205,
            1.9807316824688328,
            1.5279235727257174,
            1.250728320188425,
            1.348985526867062,
            1.0968280919117044,
            1.55669335942409,
            0.7957281336362986,
            1.9834841712248021,
            1.332172171130483,
            1.304704761093776,
            0.7669807632240835,
            1.658308362688285,
            1.6858159644921094,
            1.3359303062605863,
            -0.9796253956518344,
            1.7828989513510558,
            1.3834770119057234,
            0.9245796912972108,
            0.8581297227118321,
            0.48635276753585516,
            0.26934181234678084,
            1.220536545370894,
            1.160636852170235,
            1.1873438457274925,
            1.1793816389731642,
            1.0308409073008695,
            1.0220487583708748,
            0.2004618375061846,
            0.6478536864009532,
            0.9307461564321703,
            0.7135696765216556,
            1.0431799522994958,
            1.1354952927010487,
            1.487380459082613,
            1.2322927781294577,
            1.8356724736533634,
            1.1490206818555189,
            0.9538085686530888,
            0.5588852330221568,
            -0.162880853927642,
            1.4567412797010302,
            1.1078713617417744,
            1.1727484001384176,
            1.224665900773836,
            1.6254477525341104,
            1.2362460750874185,
            1.4829653422269968,
            1.4125820976554935,
            0.814411565696176,
            1.2551191230975598,
            1.5823913220193435,
            1.2503466131857803,
            1.1476438736845742,
            1.75041906621372,
            1.3317887740480006,
            1.3447475502555715,
            1.3102051351267001,
            1.374100300971757,
            1.5286638313804266,
            0.8867615756887985,
            1.8629519451943397,
            1.2737159780562355,
            1.4147894939947163,
            1.2491643346808614,
            1.0184675742488392,
            1.3066786821604488,
            1.704157644208853,
            0.9731981220630087,
            1.0983269672632072,
            1.3674075924631006,
            -0.45919630331075545,
            1.2545192095107405,
            1.2095669352482812,
            1.5691397004073069,
            1.4468268256233667,
            1.0853288188968615,
            1.2843523153413823,
            1.1796490473862895,
            1.3366164841627743,
            0.9769225619139772,
            0.7224166033753302,
            1.201585070556257,
            1.147880260788727,
            1.184420361453887,
            1.136527184449802,
            1.0389869968695176,
            0.8929092579126052,
            1.5193101836433816,
            1.6264441394071705,
            1.4323281811023425
           ]
          },
          {
           "label": "degree",
           "range": [
            1,
            5
           ],
           "values": [
            3,
            3,
            5,
            2,
            2,
            3,
            1,
            3,
            2,
            2,
            5,
            5,
            5,
            5,
            4,
            4,
            4,
            5,
            4,
            5,
            4,
            5,
            5,
            5,
            4,
            5,
            4,
            4,
            4,
            4,
            3,
            4,
            5,
            5,
            5,
            5,
            5,
            5,
            3,
            1,
            4,
            5,
            5,
            5,
            5,
            5,
            5,
            4,
            5,
            3,
            5,
            5,
            5,
            2,
            2,
            2,
            2,
            1,
            3,
            4,
            1,
            2,
            2,
            2,
            2,
            2,
            2,
            2,
            2,
            2,
            1,
            2,
            2,
            2,
            2,
            2,
            3,
            2,
            2,
            3,
            1,
            2,
            2,
            2,
            2,
            2,
            2,
            2,
            3,
            2,
            2,
            2,
            2,
            2,
            2,
            1,
            2,
            2,
            2,
            2
           ]
          },
          {
           "label": "epsilon",
           "range": [
            -1.9837276531633325,
            -0.01931767950740727
           ],
           "ticktext": [
            "0.0104",
            "0.1",
            "0.956"
           ],
           "tickvals": [
            -1.9837276531633325,
            -1,
            -0.01931767950740727
           ],
           "values": [
            -1.6286702267012252,
            -1.5307561820510518,
            -0.8660560854002265,
            -1.4681986780964014,
            -1.6885178796812883,
            -0.28698921617138695,
            -0.9037176008632252,
            -1.9837276531633325,
            -0.9942909444466899,
            -0.0724281975243269,
            -0.5716697846802842,
            -0.2758679178383478,
            -0.6243363422550904,
            -0.5011063675570215,
            -0.5812982669979534,
            -0.5657775619948111,
            -1.2505910938143046,
            -0.7458896290593441,
            -1.1858613920177568,
            -0.3334417593778165,
            -0.01931767950740727,
            -0.32043712022359794,
            -0.4379903030007059,
            -0.16626558304074085,
            -0.7178623692228108,
            -0.49524469310630387,
            -0.2024783167410932,
            -0.7344631548780699,
            -0.7582836949997327,
            -1.151423619474777,
            -1.047484347071502,
            -0.43004104281301464,
            -0.6692856592671022,
            -0.43580495901640454,
            -0.43377374041682903,
            -0.42271045949976704,
            -0.38080743314658555,
            -0.14298336077365478,
            -0.8966735549355769,
            -0.4243742993835007,
            -0.2098919787103666,
            -0.3890507764214077,
            -0.474913712786356,
            -0.4775892001122319,
            -0.8304161747880666,
            -0.09787783695239391,
            -1.7212839567647962,
            -0.2854875721568238,
            -0.5270502585885636,
            -0.6186167038537284,
            -1.4207446851965346,
            -0.3879335709678002,
            -0.3647262633159502,
            -0.2568283470740499,
            -0.25955876358100954,
            -0.3412294215039979,
            -0.09919450157115935,
            -0.02327927615208485,
            -0.33900552123937305,
            -0.5690577558962374,
            -0.6516304039117828,
            -0.35049083286650434,
            -0.3364650277263198,
            -0.1920737481895103,
            -0.35048094067975283,
            -0.33672732819842666,
            -0.3449521162614332,
            -0.23755230518485865,
            -0.1574892903039475,
            -0.3114625794683671,
            -0.5514903368076118,
            -0.3610427399864674,
            -0.3385284660030009,
            -0.2698215916399249,
            -0.47112787513697285,
            -0.12767823411584064,
            -0.05096577841068799,
            -0.36451495215372787,
            -0.21228872115962147,
            -0.298952847169266,
            -0.526590840604767,
            -0.27261260030982476,
            -0.41752781360845564,
            -0.4072358470217129,
            -0.16965308113639896,
            -0.4849649936091344,
            -0.5988988666386593,
            -0.2273549785714216,
            -1.953037449549174,
            -0.30188865558256633,
            -0.3853418679861749,
            -0.408324372910442,
            -0.34807769101030633,
            -0.35332273753959015,
            -0.35738833058410097,
            -0.695747411968035,
            -0.796840233467145,
            -0.47775385213022714,
            -0.5188857862530803,
            -1.024642581532084
           ]
          },
          {
           "label": "kernel",
           "range": [
            0,
            2
           ],
           "ticktext": [
            "rbf",
            "poly",
            "linear"
           ],
           "tickvals": [
            0,
            1,
            2
           ],
           "values": [
            0,
            0,
            0,
            0,
            1,
            0,
            2,
            0,
            1,
            2,
            2,
            0,
            0,
            0,
            1,
            0,
            0,
            0,
            1,
            2,
            0,
            0,
            0,
            0,
            0,
            0,
            0,
            0,
            1,
            2,
            0,
            0,
            0,
            0,
            0,
            0,
            0,
            0,
            0,
            1,
            0,
            0,
            0,
            0,
            2,
            0,
            0,
            0,
            0,
            2,
            1,
            0,
            0,
            0,
            0,
            0,
            0,
            0,
            0,
            0,
            1,
            0,
            0,
            0,
            0,
            0,
            2,
            0,
            0,
            0,
            0,
            0,
            0,
            0,
            0,
            0,
            0,
            0,
            1,
            0,
            2,
            0,
            0,
            0,
            0,
            0,
            0,
            0,
            0,
            0,
            0,
            0,
            0,
            0,
            0,
            0,
            0,
            0,
            1,
            2
           ]
          }
         ],
         "labelangle": 30,
         "labelside": "bottom",
         "line": {
          "color": [
           0.48931374984078657,
           0.30177735688957225,
           0.5503139778705926,
           0.40096050652392545,
           0.11689098704690648,
           0.5475448979108841,
           0.17969553753808562,
           0.42089266777996404,
           0.27361824282442493,
           0.23065347251001564,
           0.21816483432970318,
           0.5530221292711346,
           0.5635973233537055,
           0.5674452504646084,
           0.13924095036909506,
           0.5467499437478167,
           0.5365987294917788,
           0.4471132443874647,
           -0.31809929107067897,
           0.24523758031579365,
           0.4375589660789053,
           0.5374884381260399,
           0.5328447955321842,
           0.5483397260292515,
           0.21659967481771725,
           0.5142757537089144,
           0.5531721537555124,
           0.5564845075691768,
           0.2882539942899097,
           0.16992745993830424,
           0.47753916090846255,
           0.5753069664291864,
           0.5588485732984377,
           0.5746866319447703,
           0.5748045609645026,
           0.5721045813767824,
           0.5714999699554527,
           0.46709504190531276,
           0.5359594922429337,
           0.23543108134770313,
           0.5415624112336627,
           0.5720730033588343,
           0.572165230097702,
           0.5568959693979112,
           0.19341575552559215,
           0.49307686893862634,
           0.5331824254297012,
           0.567288941392617,
           0.543747200086848,
           0.21256021154155097,
           -1.809944721350402,
           0.57354734774364,
           0.5774941357173051,
           0.5732718330149675,
           0.538584439695434,
           0.5804112857368561,
           0.5103674006074724,
           0.4454498982114351,
           0.5620338794418178,
           0.5666452695309794,
           0.20479685425879754,
           0.5801490251940626,
           0.578114584867007,
           0.5229904289988732,
           0.5776141007838008,
           0.5771048726216221,
           0.24545060554747017,
           0.5620732307057226,
           0.5363056507074518,
           0.5641351489582692,
           0.4955482334856616,
           0.5800373406030674,
           0.5720196516432504,
           0.5751490851192224,
           0.5706932329763894,
           0.5336140026845454,
           0.47192217067309156,
           0.5704344855242222,
           0.2779786561105817,
           0.5727287814115976,
           0.22401577933756617,
           0.5753803710877083,
           0.5760492212742381,
           0.552609366717663,
           0.5440993013636495,
           0.5722524584249271,
           0.5650168418227182,
           0.5658023437838263,
           0.5258740434216811,
           0.569018088112135,
           0.5563622398092555,
           0.5765059178453006,
           0.5770297002572757,
           0.5790571811794172,
           0.5759160312282413,
           0.5582032605817655,
           0.5553360652715709,
           0.5525703109127422,
           0.2452399555225626,
           0.18455516550082954
          ],
          "colorbar": {
           "title": {
            "text": "Objective Value"
           }
          },
          "colorscale": [
           [
            0,
            "rgb(247,251,255)"
           ],
           [
            0.125,
            "rgb(222,235,247)"
           ],
           [
            0.25,
            "rgb(198,219,239)"
           ],
           [
            0.375,
            "rgb(158,202,225)"
           ],
           [
            0.5,
            "rgb(107,174,214)"
           ],
           [
            0.625,
            "rgb(66,146,198)"
           ],
           [
            0.75,
            "rgb(33,113,181)"
           ],
           [
            0.875,
            "rgb(8,81,156)"
           ],
           [
            1,
            "rgb(8,48,107)"
           ]
          ],
          "reversescale": false,
          "showscale": true
         },
         "type": "parcoords"
        }
       ],
       "layout": {
        "template": {
         "data": {
          "bar": [
           {
            "error_x": {
             "color": "#2a3f5f"
            },
            "error_y": {
             "color": "#2a3f5f"
            },
            "marker": {
             "line": {
              "color": "#E5ECF6",
              "width": 0.5
             },
             "pattern": {
              "fillmode": "overlay",
              "size": 10,
              "solidity": 0.2
             }
            },
            "type": "bar"
           }
          ],
          "barpolar": [
           {
            "marker": {
             "line": {
              "color": "#E5ECF6",
              "width": 0.5
             },
             "pattern": {
              "fillmode": "overlay",
              "size": 10,
              "solidity": 0.2
             }
            },
            "type": "barpolar"
           }
          ],
          "carpet": [
           {
            "aaxis": {
             "endlinecolor": "#2a3f5f",
             "gridcolor": "white",
             "linecolor": "white",
             "minorgridcolor": "white",
             "startlinecolor": "#2a3f5f"
            },
            "baxis": {
             "endlinecolor": "#2a3f5f",
             "gridcolor": "white",
             "linecolor": "white",
             "minorgridcolor": "white",
             "startlinecolor": "#2a3f5f"
            },
            "type": "carpet"
           }
          ],
          "choropleth": [
           {
            "colorbar": {
             "outlinewidth": 0,
             "ticks": ""
            },
            "type": "choropleth"
           }
          ],
          "contour": [
           {
            "colorbar": {
             "outlinewidth": 0,
             "ticks": ""
            },
            "colorscale": [
             [
              0,
              "#0d0887"
             ],
             [
              0.1111111111111111,
              "#46039f"
             ],
             [
              0.2222222222222222,
              "#7201a8"
             ],
             [
              0.3333333333333333,
              "#9c179e"
             ],
             [
              0.4444444444444444,
              "#bd3786"
             ],
             [
              0.5555555555555556,
              "#d8576b"
             ],
             [
              0.6666666666666666,
              "#ed7953"
             ],
             [
              0.7777777777777778,
              "#fb9f3a"
             ],
             [
              0.8888888888888888,
              "#fdca26"
             ],
             [
              1,
              "#f0f921"
             ]
            ],
            "type": "contour"
           }
          ],
          "contourcarpet": [
           {
            "colorbar": {
             "outlinewidth": 0,
             "ticks": ""
            },
            "type": "contourcarpet"
           }
          ],
          "heatmap": [
           {
            "colorbar": {
             "outlinewidth": 0,
             "ticks": ""
            },
            "colorscale": [
             [
              0,
              "#0d0887"
             ],
             [
              0.1111111111111111,
              "#46039f"
             ],
             [
              0.2222222222222222,
              "#7201a8"
             ],
             [
              0.3333333333333333,
              "#9c179e"
             ],
             [
              0.4444444444444444,
              "#bd3786"
             ],
             [
              0.5555555555555556,
              "#d8576b"
             ],
             [
              0.6666666666666666,
              "#ed7953"
             ],
             [
              0.7777777777777778,
              "#fb9f3a"
             ],
             [
              0.8888888888888888,
              "#fdca26"
             ],
             [
              1,
              "#f0f921"
             ]
            ],
            "type": "heatmap"
           }
          ],
          "heatmapgl": [
           {
            "colorbar": {
             "outlinewidth": 0,
             "ticks": ""
            },
            "colorscale": [
             [
              0,
              "#0d0887"
             ],
             [
              0.1111111111111111,
              "#46039f"
             ],
             [
              0.2222222222222222,
              "#7201a8"
             ],
             [
              0.3333333333333333,
              "#9c179e"
             ],
             [
              0.4444444444444444,
              "#bd3786"
             ],
             [
              0.5555555555555556,
              "#d8576b"
             ],
             [
              0.6666666666666666,
              "#ed7953"
             ],
             [
              0.7777777777777778,
              "#fb9f3a"
             ],
             [
              0.8888888888888888,
              "#fdca26"
             ],
             [
              1,
              "#f0f921"
             ]
            ],
            "type": "heatmapgl"
           }
          ],
          "histogram": [
           {
            "marker": {
             "pattern": {
              "fillmode": "overlay",
              "size": 10,
              "solidity": 0.2
             }
            },
            "type": "histogram"
           }
          ],
          "histogram2d": [
           {
            "colorbar": {
             "outlinewidth": 0,
             "ticks": ""
            },
            "colorscale": [
             [
              0,
              "#0d0887"
             ],
             [
              0.1111111111111111,
              "#46039f"
             ],
             [
              0.2222222222222222,
              "#7201a8"
             ],
             [
              0.3333333333333333,
              "#9c179e"
             ],
             [
              0.4444444444444444,
              "#bd3786"
             ],
             [
              0.5555555555555556,
              "#d8576b"
             ],
             [
              0.6666666666666666,
              "#ed7953"
             ],
             [
              0.7777777777777778,
              "#fb9f3a"
             ],
             [
              0.8888888888888888,
              "#fdca26"
             ],
             [
              1,
              "#f0f921"
             ]
            ],
            "type": "histogram2d"
           }
          ],
          "histogram2dcontour": [
           {
            "colorbar": {
             "outlinewidth": 0,
             "ticks": ""
            },
            "colorscale": [
             [
              0,
              "#0d0887"
             ],
             [
              0.1111111111111111,
              "#46039f"
             ],
             [
              0.2222222222222222,
              "#7201a8"
             ],
             [
              0.3333333333333333,
              "#9c179e"
             ],
             [
              0.4444444444444444,
              "#bd3786"
             ],
             [
              0.5555555555555556,
              "#d8576b"
             ],
             [
              0.6666666666666666,
              "#ed7953"
             ],
             [
              0.7777777777777778,
              "#fb9f3a"
             ],
             [
              0.8888888888888888,
              "#fdca26"
             ],
             [
              1,
              "#f0f921"
             ]
            ],
            "type": "histogram2dcontour"
           }
          ],
          "mesh3d": [
           {
            "colorbar": {
             "outlinewidth": 0,
             "ticks": ""
            },
            "type": "mesh3d"
           }
          ],
          "parcoords": [
           {
            "line": {
             "colorbar": {
              "outlinewidth": 0,
              "ticks": ""
             }
            },
            "type": "parcoords"
           }
          ],
          "pie": [
           {
            "automargin": true,
            "type": "pie"
           }
          ],
          "scatter": [
           {
            "marker": {
             "colorbar": {
              "outlinewidth": 0,
              "ticks": ""
             }
            },
            "type": "scatter"
           }
          ],
          "scatter3d": [
           {
            "line": {
             "colorbar": {
              "outlinewidth": 0,
              "ticks": ""
             }
            },
            "marker": {
             "colorbar": {
              "outlinewidth": 0,
              "ticks": ""
             }
            },
            "type": "scatter3d"
           }
          ],
          "scattercarpet": [
           {
            "marker": {
             "colorbar": {
              "outlinewidth": 0,
              "ticks": ""
             }
            },
            "type": "scattercarpet"
           }
          ],
          "scattergeo": [
           {
            "marker": {
             "colorbar": {
              "outlinewidth": 0,
              "ticks": ""
             }
            },
            "type": "scattergeo"
           }
          ],
          "scattergl": [
           {
            "marker": {
             "colorbar": {
              "outlinewidth": 0,
              "ticks": ""
             }
            },
            "type": "scattergl"
           }
          ],
          "scattermapbox": [
           {
            "marker": {
             "colorbar": {
              "outlinewidth": 0,
              "ticks": ""
             }
            },
            "type": "scattermapbox"
           }
          ],
          "scatterpolar": [
           {
            "marker": {
             "colorbar": {
              "outlinewidth": 0,
              "ticks": ""
             }
            },
            "type": "scatterpolar"
           }
          ],
          "scatterpolargl": [
           {
            "marker": {
             "colorbar": {
              "outlinewidth": 0,
              "ticks": ""
             }
            },
            "type": "scatterpolargl"
           }
          ],
          "scatterternary": [
           {
            "marker": {
             "colorbar": {
              "outlinewidth": 0,
              "ticks": ""
             }
            },
            "type": "scatterternary"
           }
          ],
          "surface": [
           {
            "colorbar": {
             "outlinewidth": 0,
             "ticks": ""
            },
            "colorscale": [
             [
              0,
              "#0d0887"
             ],
             [
              0.1111111111111111,
              "#46039f"
             ],
             [
              0.2222222222222222,
              "#7201a8"
             ],
             [
              0.3333333333333333,
              "#9c179e"
             ],
             [
              0.4444444444444444,
              "#bd3786"
             ],
             [
              0.5555555555555556,
              "#d8576b"
             ],
             [
              0.6666666666666666,
              "#ed7953"
             ],
             [
              0.7777777777777778,
              "#fb9f3a"
             ],
             [
              0.8888888888888888,
              "#fdca26"
             ],
             [
              1,
              "#f0f921"
             ]
            ],
            "type": "surface"
           }
          ],
          "table": [
           {
            "cells": {
             "fill": {
              "color": "#EBF0F8"
             },
             "line": {
              "color": "white"
             }
            },
            "header": {
             "fill": {
              "color": "#C8D4E3"
             },
             "line": {
              "color": "white"
             }
            },
            "type": "table"
           }
          ]
         },
         "layout": {
          "annotationdefaults": {
           "arrowcolor": "#2a3f5f",
           "arrowhead": 0,
           "arrowwidth": 1
          },
          "autotypenumbers": "strict",
          "coloraxis": {
           "colorbar": {
            "outlinewidth": 0,
            "ticks": ""
           }
          },
          "colorscale": {
           "diverging": [
            [
             0,
             "#8e0152"
            ],
            [
             0.1,
             "#c51b7d"
            ],
            [
             0.2,
             "#de77ae"
            ],
            [
             0.3,
             "#f1b6da"
            ],
            [
             0.4,
             "#fde0ef"
            ],
            [
             0.5,
             "#f7f7f7"
            ],
            [
             0.6,
             "#e6f5d0"
            ],
            [
             0.7,
             "#b8e186"
            ],
            [
             0.8,
             "#7fbc41"
            ],
            [
             0.9,
             "#4d9221"
            ],
            [
             1,
             "#276419"
            ]
           ],
           "sequential": [
            [
             0,
             "#0d0887"
            ],
            [
             0.1111111111111111,
             "#46039f"
            ],
            [
             0.2222222222222222,
             "#7201a8"
            ],
            [
             0.3333333333333333,
             "#9c179e"
            ],
            [
             0.4444444444444444,
             "#bd3786"
            ],
            [
             0.5555555555555556,
             "#d8576b"
            ],
            [
             0.6666666666666666,
             "#ed7953"
            ],
            [
             0.7777777777777778,
             "#fb9f3a"
            ],
            [
             0.8888888888888888,
             "#fdca26"
            ],
            [
             1,
             "#f0f921"
            ]
           ],
           "sequentialminus": [
            [
             0,
             "#0d0887"
            ],
            [
             0.1111111111111111,
             "#46039f"
            ],
            [
             0.2222222222222222,
             "#7201a8"
            ],
            [
             0.3333333333333333,
             "#9c179e"
            ],
            [
             0.4444444444444444,
             "#bd3786"
            ],
            [
             0.5555555555555556,
             "#d8576b"
            ],
            [
             0.6666666666666666,
             "#ed7953"
            ],
            [
             0.7777777777777778,
             "#fb9f3a"
            ],
            [
             0.8888888888888888,
             "#fdca26"
            ],
            [
             1,
             "#f0f921"
            ]
           ]
          },
          "colorway": [
           "#636efa",
           "#EF553B",
           "#00cc96",
           "#ab63fa",
           "#FFA15A",
           "#19d3f3",
           "#FF6692",
           "#B6E880",
           "#FF97FF",
           "#FECB52"
          ],
          "font": {
           "color": "#2a3f5f"
          },
          "geo": {
           "bgcolor": "white",
           "lakecolor": "white",
           "landcolor": "#E5ECF6",
           "showlakes": true,
           "showland": true,
           "subunitcolor": "white"
          },
          "hoverlabel": {
           "align": "left"
          },
          "hovermode": "closest",
          "mapbox": {
           "style": "light"
          },
          "paper_bgcolor": "white",
          "plot_bgcolor": "#E5ECF6",
          "polar": {
           "angularaxis": {
            "gridcolor": "white",
            "linecolor": "white",
            "ticks": ""
           },
           "bgcolor": "#E5ECF6",
           "radialaxis": {
            "gridcolor": "white",
            "linecolor": "white",
            "ticks": ""
           }
          },
          "scene": {
           "xaxis": {
            "backgroundcolor": "#E5ECF6",
            "gridcolor": "white",
            "gridwidth": 2,
            "linecolor": "white",
            "showbackground": true,
            "ticks": "",
            "zerolinecolor": "white"
           },
           "yaxis": {
            "backgroundcolor": "#E5ECF6",
            "gridcolor": "white",
            "gridwidth": 2,
            "linecolor": "white",
            "showbackground": true,
            "ticks": "",
            "zerolinecolor": "white"
           },
           "zaxis": {
            "backgroundcolor": "#E5ECF6",
            "gridcolor": "white",
            "gridwidth": 2,
            "linecolor": "white",
            "showbackground": true,
            "ticks": "",
            "zerolinecolor": "white"
           }
          },
          "shapedefaults": {
           "line": {
            "color": "#2a3f5f"
           }
          },
          "ternary": {
           "aaxis": {
            "gridcolor": "white",
            "linecolor": "white",
            "ticks": ""
           },
           "baxis": {
            "gridcolor": "white",
            "linecolor": "white",
            "ticks": ""
           },
           "bgcolor": "#E5ECF6",
           "caxis": {
            "gridcolor": "white",
            "linecolor": "white",
            "ticks": ""
           }
          },
          "title": {
           "x": 0.05
          },
          "xaxis": {
           "automargin": true,
           "gridcolor": "white",
           "linecolor": "white",
           "ticks": "",
           "title": {
            "standoff": 15
           },
           "zerolinecolor": "white",
           "zerolinewidth": 2
          },
          "yaxis": {
           "automargin": true,
           "gridcolor": "white",
           "linecolor": "white",
           "ticks": "",
           "title": {
            "standoff": 15
           },
           "zerolinecolor": "white",
           "zerolinewidth": 2
          }
         }
        },
        "title": {
         "text": "Parallel Coordinate Plot"
        }
       }
      }
     },
     "metadata": {},
     "output_type": "display_data"
    }
   ],
   "source": [
    "optuna.visualization.plot_parallel_coordinate(study)"
   ]
  },
  {
   "cell_type": "code",
   "execution_count": 46,
   "id": "1d419df8",
   "metadata": {},
   "outputs": [
    {
     "name": "stdout",
     "output_type": "stream",
     "text": [
      "Best trial: {'C': 17.228444773726757, 'epsilon': 0.45579607235389397, 'kernel': 'rbf', 'degree': 2}\n"
     ]
    }
   ],
   "source": [
    "print(\"Best trial:\", study.best_trial.params)"
   ]
  },
  {
   "cell_type": "code",
   "execution_count": 47,
   "id": "ffefef6c",
   "metadata": {},
   "outputs": [
    {
     "data": {
      "text/html": [
       "<style>#sk-container-id-3 {color: black;}#sk-container-id-3 pre{padding: 0;}#sk-container-id-3 div.sk-toggleable {background-color: white;}#sk-container-id-3 label.sk-toggleable__label {cursor: pointer;display: block;width: 100%;margin-bottom: 0;padding: 0.3em;box-sizing: border-box;text-align: center;}#sk-container-id-3 label.sk-toggleable__label-arrow:before {content: \"▸\";float: left;margin-right: 0.25em;color: #696969;}#sk-container-id-3 label.sk-toggleable__label-arrow:hover:before {color: black;}#sk-container-id-3 div.sk-estimator:hover label.sk-toggleable__label-arrow:before {color: black;}#sk-container-id-3 div.sk-toggleable__content {max-height: 0;max-width: 0;overflow: hidden;text-align: left;background-color: #f0f8ff;}#sk-container-id-3 div.sk-toggleable__content pre {margin: 0.2em;color: black;border-radius: 0.25em;background-color: #f0f8ff;}#sk-container-id-3 input.sk-toggleable__control:checked~div.sk-toggleable__content {max-height: 200px;max-width: 100%;overflow: auto;}#sk-container-id-3 input.sk-toggleable__control:checked~label.sk-toggleable__label-arrow:before {content: \"▾\";}#sk-container-id-3 div.sk-estimator input.sk-toggleable__control:checked~label.sk-toggleable__label {background-color: #d4ebff;}#sk-container-id-3 div.sk-label input.sk-toggleable__control:checked~label.sk-toggleable__label {background-color: #d4ebff;}#sk-container-id-3 input.sk-hidden--visually {border: 0;clip: rect(1px 1px 1px 1px);clip: rect(1px, 1px, 1px, 1px);height: 1px;margin: -1px;overflow: hidden;padding: 0;position: absolute;width: 1px;}#sk-container-id-3 div.sk-estimator {font-family: monospace;background-color: #f0f8ff;border: 1px dotted black;border-radius: 0.25em;box-sizing: border-box;margin-bottom: 0.5em;}#sk-container-id-3 div.sk-estimator:hover {background-color: #d4ebff;}#sk-container-id-3 div.sk-parallel-item::after {content: \"\";width: 100%;border-bottom: 1px solid gray;flex-grow: 1;}#sk-container-id-3 div.sk-label:hover label.sk-toggleable__label {background-color: #d4ebff;}#sk-container-id-3 div.sk-serial::before {content: \"\";position: absolute;border-left: 1px solid gray;box-sizing: border-box;top: 0;bottom: 0;left: 50%;z-index: 0;}#sk-container-id-3 div.sk-serial {display: flex;flex-direction: column;align-items: center;background-color: white;padding-right: 0.2em;padding-left: 0.2em;position: relative;}#sk-container-id-3 div.sk-item {position: relative;z-index: 1;}#sk-container-id-3 div.sk-parallel {display: flex;align-items: stretch;justify-content: center;background-color: white;position: relative;}#sk-container-id-3 div.sk-item::before, #sk-container-id-3 div.sk-parallel-item::before {content: \"\";position: absolute;border-left: 1px solid gray;box-sizing: border-box;top: 0;bottom: 0;left: 50%;z-index: -1;}#sk-container-id-3 div.sk-parallel-item {display: flex;flex-direction: column;z-index: 1;position: relative;background-color: white;}#sk-container-id-3 div.sk-parallel-item:first-child::after {align-self: flex-end;width: 50%;}#sk-container-id-3 div.sk-parallel-item:last-child::after {align-self: flex-start;width: 50%;}#sk-container-id-3 div.sk-parallel-item:only-child::after {width: 0;}#sk-container-id-3 div.sk-dashed-wrapped {border: 1px dashed gray;margin: 0 0.4em 0.5em 0.4em;box-sizing: border-box;padding-bottom: 0.4em;background-color: white;}#sk-container-id-3 div.sk-label label {font-family: monospace;font-weight: bold;display: inline-block;line-height: 1.2em;}#sk-container-id-3 div.sk-label-container {text-align: center;}#sk-container-id-3 div.sk-container {/* jupyter's `normalize.less` sets `[hidden] { display: none; }` but bootstrap.min.css set `[hidden] { display: none !important; }` so we also need the `!important` here to be able to override the default hidden behavior on the sphinx rendered scikit-learn.org. See: https://github.com/scikit-learn/scikit-learn/issues/21755 */display: inline-block !important;position: relative;}#sk-container-id-3 div.sk-text-repr-fallback {display: none;}</style><div id=\"sk-container-id-3\" class=\"sk-top-container\"><div class=\"sk-text-repr-fallback\"><pre>SVR(C=17.228444773726757, degree=2, epsilon=0.45579607235389397)</pre><b>In a Jupyter environment, please rerun this cell to show the HTML representation or trust the notebook. <br />On GitHub, the HTML representation is unable to render, please try loading this page with nbviewer.org.</b></div><div class=\"sk-container\" hidden><div class=\"sk-item\"><div class=\"sk-estimator sk-toggleable\"><input class=\"sk-toggleable__control sk-hidden--visually\" id=\"sk-estimator-id-3\" type=\"checkbox\" checked><label for=\"sk-estimator-id-3\" class=\"sk-toggleable__label sk-toggleable__label-arrow\">SVR</label><div class=\"sk-toggleable__content\"><pre>SVR(C=17.228444773726757, degree=2, epsilon=0.45579607235389397)</pre></div></div></div></div></div>"
      ],
      "text/plain": [
       "SVR(C=17.228444773726757, degree=2, epsilon=0.45579607235389397)"
      ]
     },
     "execution_count": 47,
     "metadata": {},
     "output_type": "execute_result"
    }
   ],
   "source": [
    "svm_params = {\n",
    "    \"C\": study.best_trial.params[\"C\"],\n",
    "    \"epsilon\": study.best_trial.params[\"epsilon\"],\n",
    "    \"kernel\": study.best_trial.params[\"kernel\"],\n",
    "    \"degree\": study.best_trial.params[\"degree\"]\n",
    "}\n",
    "\n",
    "svm = SVR(**svm_params)\n",
    "svm.fit(Ni_X_train, Ni_y_train)"
   ]
  },
  {
   "cell_type": "code",
   "execution_count": 48,
   "id": "4c1a69d2",
   "metadata": {},
   "outputs": [],
   "source": [
    "y_train_pred = svm.predict(Ni_X_train)\n",
    "y_test_pred = svm.predict(Ni_X_test)"
   ]
  },
  {
   "cell_type": "code",
   "execution_count": 49,
   "id": "0f707a20",
   "metadata": {},
   "outputs": [
    {
     "name": "stdout",
     "output_type": "stream",
     "text": [
      "Train RMSE:  0.5417855957006067\n",
      "Test RMSE:  0.8434624859683261\n"
     ]
    }
   ],
   "source": [
    "print(\"Train RMSE: \", np.sqrt(mean_squared_error(Ni_y_train, y_train_pred)))\n",
    "print(\"Test RMSE: \", np.sqrt(mean_squared_error(Ni_y_test, y_test_pred)))"
   ]
  },
  {
   "cell_type": "code",
   "execution_count": 50,
   "id": "641d78f4",
   "metadata": {},
   "outputs": [
    {
     "name": "stdout",
     "output_type": "stream",
     "text": [
      "Train R2:  0.7901209122980883\n",
      "Test R2:  0.5232509608831151\n"
     ]
    }
   ],
   "source": [
    "print(\"Train R2: \", r2_score(Ni_y_train, y_train_pred))\n",
    "print(\"Test R2: \", r2_score(Ni_y_test, y_test_pred))"
   ]
  },
  {
   "cell_type": "code",
   "execution_count": 51,
   "id": "badc2f1d",
   "metadata": {},
   "outputs": [
    {
     "data": {
      "image/png": "[encoded data removed]",
      "text/plain": [
       "<Figure size 640x480 with 1 Axes>"
      ]
     },
     "metadata": {},
     "output_type": "display_data"
    }
   ],
   "source": [
    "plt.scatter(y_train_pred, np.array(Ni_y_train), color=\"orange\", alpha=0.3)\n",
    "plt.scatter(y_test_pred, np.array(Ni_y_test), color=\"green\", alpha=0.4)\n",
    "plt.axis(\"auto\") # scaled, tight, auto, image, square\n",
    "# plt.xlim([0, 1.5]) \n",
    "# plt.ylim(0, None) \n",
    "plt.xlabel('Predicted Values')\n",
    "plt.ylabel('Actual Values')\n",
    "\n",
    "# Add y=x line\n",
    "plt.plot([0, 4.0], [0, 4.0], color='red', linestyle='-')\n",
    "\n",
    "plt.show()"
   ]
  }
 ],
 "metadata": {
  "kernelspec": {
   "display_name": "Python 3",
   "language": "python",
   "name": "python3"
  },
  "language_info": {
   "codemirror_mode": {
    "name": "ipython",
    "version": 3
   },
   "file_extension": ".py",
   "mimetype": "text/x-python",
   "name": "python",
   "nbconvert_exporter": "python",
   "pygments_lexer": "ipython3",
   "version": "3.8.11"
  }
 },
 "nbformat": 4,
 "nbformat_minor": 5
}
