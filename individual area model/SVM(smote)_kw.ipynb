{
 "cells": [
  {
   "attachments": {},
   "cell_type": "markdown",
   "id": "451911be",
   "metadata": {},
   "source": [
    "#### Library import"
   ]
  },
  {
   "cell_type": "code",
   "execution_count": 1,
   "id": "8a394942",
   "metadata": {},
   "outputs": [],
   "source": [
    "import os\n",
    "import pandas as pd\n",
    "import numpy as np\n",
    "import matplotlib.pyplot as plt\n",
    "%matplotlib inline\n",
    "import seaborn as sns\n",
    "import tensorflow as tf\n",
    "import missingno as msno\n",
    "\n",
    "import warnings\n",
    "warnings.filterwarnings('ignore')\n",
    "\n",
    "from sklearn.model_selection import train_test_split\n",
    "from sklearn.model_selection import GridSearchCV\n",
    "from sklearn.metrics import mean_squared_error, r2_score\n",
    "from sklearn.preprocessing import StandardScaler, MinMaxScaler, RobustScaler\n",
    "from sklearn.ensemble import RandomForestRegressor, GradientBoostingRegressor, ExtraTreesRegressor\n",
    "from sklearn.model_selection import KFold\n",
    "from lightgbm import LGBMRegressor\n",
    "from xgboost import XGBRegressor\n",
    "from ngboost import NGBRegressor\n",
    "from scipy.stats import norm, skew\n",
    "\n",
    "from matplotlib.ticker import FormatStrFormatter\n",
    "\n",
    "from tensorflow import keras\n",
    "\n",
    "import re\n",
    "from tqdm import tqdm"
   ]
  },
  {
   "attachments": {},
   "cell_type": "markdown",
   "id": "31a13d68",
   "metadata": {},
   "source": [
    "#### GPU setting"
   ]
  },
  {
   "cell_type": "code",
   "execution_count": 2,
   "id": "cd001f36",
   "metadata": {},
   "outputs": [],
   "source": [
    "from tensorflow.compat.v1 import ConfigProto\n",
    "from tensorflow.compat.v1 import InteractiveSession"
   ]
  },
  {
   "cell_type": "code",
   "execution_count": 3,
   "id": "2aa07618",
   "metadata": {},
   "outputs": [],
   "source": [
    "config = ConfigProto()\n",
    "config.gpu_options.per_process_gpu_memory_fraction = 0.4\n",
    "session = InteractiveSession(config = config)"
   ]
  },
  {
   "cell_type": "code",
   "execution_count": 4,
   "id": "2a6c1daf",
   "metadata": {},
   "outputs": [
    {
     "name": "stdout",
     "output_type": "stream",
     "text": [
      "[name: \"/device:CPU:0\"\n",
      "device_type: \"CPU\"\n",
      "memory_limit: 268435456\n",
      "locality {\n",
      "}\n",
      "incarnation: 846070126142094540\n",
      ", name: \"/device:GPU:0\"\n",
      "device_type: \"GPU\"\n",
      "memory_limit: 3435973836\n",
      "locality {\n",
      "  bus_id: 1\n",
      "  links {\n",
      "  }\n",
      "}\n",
      "incarnation: 5382535062879019993\n",
      "physical_device_desc: \"device: 0, name: NVIDIA GeForce RTX 3060 Ti, pci bus id: 0000:07:00.0, compute capability: 8.6\"\n",
      "]\n"
     ]
    }
   ],
   "source": [
    "physical_devices = tf.config.list_physical_devices('GPU')\n",
    "physical_devices\n",
    "\n",
    "from tensorflow.python.client import device_lib\n",
    "\n",
    "print(device_lib.list_local_devices())"
   ]
  },
  {
   "cell_type": "code",
   "execution_count": 5,
   "id": "1c58374d",
   "metadata": {},
   "outputs": [],
   "source": [
    "import os\n",
    "\n",
    "os.environ[\"CUDA_VISIBLE_DEVICES\"]=\"0\"\n",
    "gpus = tf.config.experimental.list_physical_devices('GPU')\n",
    "if gpus:\n",
    "    try:\n",
    "        tf.config.experimental.set_memory_growth(gpus[0], True)\n",
    "    except RuntimeError as e:\n",
    "        print(e)"
   ]
  },
  {
   "attachments": {},
   "cell_type": "markdown",
   "id": "cb740f81",
   "metadata": {},
   "source": [
    "#### Data import and preprocessing"
   ]
  },
  {
   "cell_type": "code",
   "execution_count": 6,
   "id": "9288345d",
   "metadata": {
    "scrolled": true
   },
   "outputs": [
    {
     "data": {
      "text/plain": [
       "Index(['OBJECTID_x', 'ID', 'pH', 'As', 'Cd', 'Ni', 'Pb', 'Zn', 'Hg', 'slope',\n",
       "       'altitude', 'profile_curve', 'profile_c_num', 'profile_c_abs',\n",
       "       'planform_curve', 'planform_c_num', 'planform_c_abs', 'HYDGRP',\n",
       "       'HYDGRP_A', 'HYDGRP_B', 'HYDGRP_C', 'HYDGRP_D', 'ANION_EXCL', 'SOL_CRK',\n",
       "       'SOL_K1', 'CLAY1', 'SILT1', 'SAND1', 'ROCK1', 'SOL_EC1', 'distance'],\n",
       "      dtype='object')"
      ]
     },
     "execution_count": 6,
     "metadata": {},
     "output_type": "execute_result"
    }
   ],
   "source": [
    "data = pd.read_csv(\"data/data_kw.csv\")\n",
    "data.columns"
   ]
  },
  {
   "cell_type": "code",
   "execution_count": 7,
   "id": "bbf87a23",
   "metadata": {},
   "outputs": [
    {
     "data": {
      "text/plain": [
       "Index(['pH', 'As', 'Cd', 'Ni', 'Pb', 'Zn', 'Hg', 'slope', 'altitude',\n",
       "       'profile_curve', 'planform_curve', 'HYDGRP_A', 'HYDGRP_B', 'HYDGRP_C',\n",
       "       'HYDGRP_D', 'SOL_K1', 'CLAY1', 'SILT1', 'SAND1', 'ROCK1', 'distance'],\n",
       "      dtype='object')"
      ]
     },
     "execution_count": 7,
     "metadata": {},
     "output_type": "execute_result"
    }
   ],
   "source": [
    "data = data.drop(['OBJECTID_x','ID','HYDGRP','profile_c_num', 'profile_c_abs','planform_c_num', 'planform_c_abs','ANION_EXCL','SOL_CRK','SOL_EC1'], axis = 1)\n",
    "data.columns"
   ]
  },
  {
   "cell_type": "code",
   "execution_count": 8,
   "id": "2dc33c24",
   "metadata": {},
   "outputs": [],
   "source": [
    "As = data\n",
    "Cd = data\n",
    "Ni = data"
   ]
  },
  {
   "cell_type": "code",
   "execution_count": 9,
   "id": "85f4f13d",
   "metadata": {},
   "outputs": [],
   "source": [
    "As = As.drop([\"Cd\", \"Ni\", \"Pb\", \"Zn\", \"Hg\"], axis = 1)\n",
    "Cd = Cd.drop([\"As\", \"Ni\", \"Pb\", \"Zn\", \"Hg\"], axis = 1)\n",
    "Ni = Ni.drop([\"As\", \"Cd\", \"Pb\", \"Zn\", \"Hg\"], axis = 1)"
   ]
  },
  {
   "cell_type": "code",
   "execution_count": 10,
   "id": "ed4a1bb4",
   "metadata": {},
   "outputs": [
    {
     "name": "stdout",
     "output_type": "stream",
     "text": [
      "(677, 16)\n",
      "(677, 16)\n",
      "(677, 16)\n"
     ]
    }
   ],
   "source": [
    "print(As.shape)\n",
    "print(Cd.shape)\n",
    "print(Ni.shape)"
   ]
  },
  {
   "attachments": {},
   "cell_type": "markdown",
   "id": "32a5223d",
   "metadata": {},
   "source": [
    "#### Oversampling by SMOGN (SMOTE Regression)"
   ]
  },
  {
   "cell_type": "code",
   "execution_count": 11,
   "id": "68a479be",
   "metadata": {},
   "outputs": [],
   "source": [
    "import smogn"
   ]
  },
  {
   "cell_type": "code",
   "execution_count": 12,
   "id": "60543147",
   "metadata": {},
   "outputs": [
    {
     "name": "stderr",
     "output_type": "stream",
     "text": [
      "dist_matrix:   0%|          | 0/134 [00:00<?, ?it/s]"
     ]
    },
    {
     "name": "stderr",
     "output_type": "stream",
     "text": [
      "dist_matrix: 100%|##########| 134/134 [00:06<00:00, 19.45it/s]\n",
      "synth_matrix: 100%|##########| 134/134 [00:00<00:00, 207.10it/s]\n",
      "dist_matrix: 100%|##########| 159/159 [00:09<00:00, 16.27it/s]\n",
      "synth_matrix: 100%|##########| 159/159 [00:00<00:00, 313.54it/s]\n",
      "r_index: 100%|##########| 47/47 [00:00<00:00, 489.47it/s]\n",
      "dist_matrix: 100%|##########| 127/127 [00:06<00:00, 19.71it/s]\n",
      "synth_matrix: 100%|##########| 127/127 [00:00<00:00, 214.12it/s]\n",
      "r_index: 100%|##########| 38/38 [00:00<00:00, 643.94it/s]\n"
     ]
    }
   ],
   "source": [
    "As_smogn = smogn.smoter(data = As, y = 'As', samp_method = 'extreme')\n",
    "Cd_smogn = smogn.smoter(data = Cd, y = 'Cd', samp_method = 'extreme')\n",
    "Ni_smogn = smogn.smoter(data = Ni, y = 'Ni', samp_method = 'extreme')"
   ]
  },
  {
   "cell_type": "code",
   "execution_count": 13,
   "id": "e391d78b",
   "metadata": {},
   "outputs": [
    {
     "name": "stdout",
     "output_type": "stream",
     "text": [
      "(971, 16)\n",
      "(887, 16)\n",
      "(986, 16)\n"
     ]
    }
   ],
   "source": [
    "print(As_smogn.shape)\n",
    "print(Cd_smogn.shape)\n",
    "print(Ni_smogn.shape)"
   ]
  },
  {
   "attachments": {},
   "cell_type": "markdown",
   "id": "ed72a9b1",
   "metadata": {},
   "source": [
    "#### Eliminate outlier and train / test split"
   ]
  },
  {
   "cell_type": "code",
   "execution_count": 14,
   "id": "43604a42",
   "metadata": {},
   "outputs": [],
   "source": [
    "def eli_outlier(data, value):\n",
    "    q1 = data[value].quantile(0.25)\n",
    "    q3 = data[value].quantile(0.75)\n",
    "\n",
    "    iqr = q3 - q1\n",
    "\n",
    "    q1_condition = data[value] < q1-1.5*iqr\n",
    "    q3_condition = data[value] > q3+1.5*iqr\n",
    "\n",
    "    reset_q1_index = data[q1_condition].index\n",
    "    reset_q3_index = data[q3_condition].index\n",
    "\n",
    "    data.drop(reset_q1_index, inplace = True)\n",
    "    data.drop(reset_q3_index, inplace = True)\n",
    "\n",
    "    return data"
   ]
  },
  {
   "cell_type": "code",
   "execution_count": 15,
   "id": "9b7632f2",
   "metadata": {},
   "outputs": [],
   "source": [
    "As_ros = eli_outlier(As_smogn, \"As\")\n",
    "Cd_ros = eli_outlier(Cd_smogn, \"Cd\")\n",
    "Ni_ros = eli_outlier(Ni_smogn, \"Ni\")"
   ]
  },
  {
   "cell_type": "code",
   "execution_count": 16,
   "id": "45ec138e",
   "metadata": {},
   "outputs": [],
   "source": [
    "As_X = As_ros.drop([\"As\"], axis=1)\n",
    "Cd_X = Cd_ros.drop([\"Cd\"], axis=1)\n",
    "Ni_X = Ni_ros.drop([\"Ni\"], axis=1)\n",
    "\n",
    "As_y = As_ros[\"As\"]\n",
    "Cd_y = Cd_ros[\"Cd\"]\n",
    "Ni_y = Ni_ros[\"Ni\"]"
   ]
  },
  {
   "cell_type": "code",
   "execution_count": 17,
   "id": "6463b1c2",
   "metadata": {},
   "outputs": [],
   "source": [
    "As_y = np.log1p(As_ros[\"As\"])\n",
    "Cd_y = np.log1p(Cd_ros[\"Cd\"])\n",
    "Ni_y = np.log1p(Ni_ros[\"Ni\"])"
   ]
  },
  {
   "cell_type": "code",
   "execution_count": 18,
   "id": "fb94ff27",
   "metadata": {},
   "outputs": [
    {
     "name": "stdout",
     "output_type": "stream",
     "text": [
      "(789, 15)\n",
      "(748, 15)\n",
      "(978, 15)\n"
     ]
    }
   ],
   "source": [
    "print(As_X.shape)\n",
    "print(Cd_X.shape)\n",
    "print(Ni_X.shape)"
   ]
  },
  {
   "attachments": {},
   "cell_type": "markdown",
   "id": "c92e5bb6",
   "metadata": {},
   "source": [
    "StandardScaler"
   ]
  },
  {
   "cell_type": "code",
   "execution_count": 19,
   "id": "0c3b79a2",
   "metadata": {},
   "outputs": [],
   "source": [
    "from sklearn.preprocessing import StandardScaler\n",
    "\n",
    "scaler = StandardScaler()\n",
    "\n",
    "As_X_train, As_X_test, As_y_train, As_y_test = train_test_split(As_X, As_y, test_size=0.2, random_state=42)\n",
    "Cd_X_train, Cd_X_test, Cd_y_train, Cd_y_test = train_test_split(Cd_X, Cd_y, test_size=0.2, random_state=42)\n",
    "Ni_X_train, Ni_X_test, Ni_y_train, Ni_y_test = train_test_split(Ni_X, Ni_y, test_size=0.2, random_state=42)\n",
    "\n",
    "As_X_train = scaler.fit_transform(As_X_train)\n",
    "As_X_test = scaler.fit_transform(As_X_test)\n",
    "\n",
    "Cd_X_train = scaler.fit_transform(Cd_X_train)\n",
    "Cd_X_test = scaler.fit_transform(Cd_X_test)\n",
    "\n",
    "Ni_X_train = scaler.fit_transform(Ni_X_train)\n",
    "Ni_X_test = scaler.fit_transform(Ni_X_test)"
   ]
  },
  {
   "cell_type": "code",
   "execution_count": 20,
   "id": "416a7027",
   "metadata": {},
   "outputs": [
    {
     "data": {
      "text/plain": [
       "' from sklearn.preprocessing import StandardScaler\\n\\nscaler = StandardScaler()\\nAs_X_scaled = scaler.fit_transform(As_X)\\nCd_X_scaled = scaler.fit_transform(Cd_X)\\nNi_X_scaled = scaler.fit_transform(Ni_X)\\n\\nAs_X_train, As_X_test, As_y_train, As_y_test = train_test_split(As_X_scaled, As_y, test_size=0.2, random_state=42)\\nCd_X_train, Cd_X_test, Cd_y_train, Cd_y_test = train_test_split(Cd_X_scaled, Cd_y, test_size=0.2, random_state=42)\\nNi_X_train, Ni_X_test, Ni_y_train, Ni_y_test = train_test_split(Ni_X_scaled, Ni_y, test_size=0.2, random_state=42) '"
      ]
     },
     "execution_count": 20,
     "metadata": {},
     "output_type": "execute_result"
    }
   ],
   "source": [
    "''' from sklearn.preprocessing import StandardScaler\n",
    "\n",
    "scaler = StandardScaler()\n",
    "As_X_scaled = scaler.fit_transform(As_X)\n",
    "Cd_X_scaled = scaler.fit_transform(Cd_X)\n",
    "Ni_X_scaled = scaler.fit_transform(Ni_X)\n",
    "\n",
    "As_X_train, As_X_test, As_y_train, As_y_test = train_test_split(As_X_scaled, As_y, test_size=0.2, random_state=42)\n",
    "Cd_X_train, Cd_X_test, Cd_y_train, Cd_y_test = train_test_split(Cd_X_scaled, Cd_y, test_size=0.2, random_state=42)\n",
    "Ni_X_train, Ni_X_test, Ni_y_train, Ni_y_test = train_test_split(Ni_X_scaled, Ni_y, test_size=0.2, random_state=42) '''"
   ]
  },
  {
   "attachments": {},
   "cell_type": "markdown",
   "id": "2fe0d293",
   "metadata": {},
   "source": [
    "MinMaxScaler"
   ]
  },
  {
   "cell_type": "code",
   "execution_count": 21,
   "id": "e8596f9f",
   "metadata": {},
   "outputs": [],
   "source": [
    "# from sklearn.preprocessing import MinMaxScaler\n",
    "\n",
    "# scaler = MinMaxScaler()\n",
    "# As_X_scaled = scaler.fit_transform(As_X)\n",
    "# Cd_X_scaled = scaler.fit_transform(Cd_X)\n",
    "# Ni_X_scaled = scaler.fit_transform(Ni_X)\n",
    "\n",
    "# As_X_train, As_X_test, As_y_train, As_y_test = train_test_split(As_X_scaled, As_y, test_size=0.2, random_state=42)\n",
    "# Cd_X_train, Cd_X_test, Cd_y_train, Cd_y_test = train_test_split(Cd_X_scaled, Cd_y, test_size=0.2, random_state=42)\n",
    "# Ni_X_train, Ni_X_test, Ni_y_train, Ni_y_test = train_test_split(Ni_X_scaled, Ni_y, test_size=0.2, random_state=42)"
   ]
  },
  {
   "cell_type": "code",
   "execution_count": 22,
   "id": "66cd05c6",
   "metadata": {},
   "outputs": [
    {
     "name": "stdout",
     "output_type": "stream",
     "text": [
      "(631, 15)\n",
      "(598, 15)\n",
      "(782, 15)\n"
     ]
    }
   ],
   "source": [
    "print(As_X_train.shape)\n",
    "print(Cd_X_train.shape)\n",
    "print(Ni_X_train.shape)"
   ]
  },
  {
   "attachments": {},
   "cell_type": "markdown",
   "id": "bd11b27e",
   "metadata": {},
   "source": [
    "#### 10-Fold Crossvalidation"
   ]
  },
  {
   "cell_type": "code",
   "execution_count": 23,
   "id": "7a765916",
   "metadata": {},
   "outputs": [],
   "source": [
    "# kf = KFold(n_splits = 10, random_state = 42, shuffle = True)"
   ]
  },
  {
   "attachments": {},
   "cell_type": "markdown",
   "id": "859638d0",
   "metadata": {},
   "source": [
    "#### Optuna Optimization"
   ]
  },
  {
   "cell_type": "code",
   "execution_count": 24,
   "id": "92a47d83",
   "metadata": {},
   "outputs": [],
   "source": [
    "import optuna\n",
    "\n",
    "from optuna import Trial\n",
    "from optuna.samplers import TPESampler"
   ]
  },
  {
   "cell_type": "code",
   "execution_count": 25,
   "id": "a7669fea",
   "metadata": {},
   "outputs": [],
   "source": [
    "from sklearn.model_selection import cross_val_score, KFold\n",
    "from sklearn.svm import SVR\n",
    "\n",
    "\n",
    "def objectiveSVM(trial: Trial, X_train, y_train) -> float:\n",
    "    C = trial.suggest_loguniform('C', 0.1, 100.0)\n",
    "    epsilon = trial.suggest_loguniform('epsilon', 0.01, 1.0)\n",
    "    kernel = trial.suggest_categorical('kernel', ['linear', 'rbf', 'poly'])\n",
    "    degree = trial.suggest_int('degree', 1, 5)\n",
    "    \n",
    "    kf = KFold(n_splits=5, shuffle=True, random_state=42)\n",
    "\n",
    "    model = SVR(C=C, epsilon=epsilon, kernel=kernel, degree=degree)\n",
    "\n",
    "    r2 = cross_val_score(model, X_train, y_train, scoring='r2', cv=kf)\n",
    "    r2 = r2.mean()\n",
    "\n",
    "    return r2\n"
   ]
  },
  {
   "attachments": {},
   "cell_type": "markdown",
   "id": "b0988f46",
   "metadata": {},
   "source": [
    "####  Optimization"
   ]
  },
  {
   "cell_type": "code",
   "execution_count": 26,
   "id": "94f5e00d",
   "metadata": {
    "scrolled": false
   },
   "outputs": [
    {
     "name": "stderr",
     "output_type": "stream",
     "text": [
      "\u001b[32m[I 2023-08-24 14:32:05,795]\u001b[0m A new study created in memory with name: svm_parameter_opt\u001b[0m\n",
      "\u001b[32m[I 2023-08-24 14:32:05,911]\u001b[0m Trial 0 finished with value: 0.19654727415131465 and parameters: {'C': 0.5348982466951453, 'epsilon': 0.25290300817424244, 'kernel': 'linear', 'degree': 2}. Best is trial 0 with value: 0.19654727415131465.\u001b[0m\n",
      "\u001b[32m[I 2023-08-24 14:32:08,600]\u001b[0m Trial 1 finished with value: 0.19753401666972845 and parameters: {'C': 40.1437149059588, 'epsilon': 0.11421505705359312, 'kernel': 'linear', 'degree': 5}. Best is trial 1 with value: 0.19753401666972845.\u001b[0m\n",
      "\u001b[32m[I 2023-08-24 14:32:08,778]\u001b[0m Trial 2 finished with value: 0.017852796486908316 and parameters: {'C': 7.603552461254027, 'epsilon': 0.10519263518938808, 'kernel': 'poly', 'degree': 3}. Best is trial 1 with value: 0.19753401666972845.\u001b[0m\n",
      "\u001b[32m[I 2023-08-24 14:32:09,081]\u001b[0m Trial 3 finished with value: 0.1904502547328526 and parameters: {'C': 3.0465392053913467, 'epsilon': 0.0916402346210566, 'kernel': 'linear', 'degree': 3}. Best is trial 1 with value: 0.19753401666972845.\u001b[0m\n",
      "\u001b[32m[I 2023-08-24 14:32:09,349]\u001b[0m Trial 4 finished with value: 0.1793099462806595 and parameters: {'C': 31.51318966531171, 'epsilon': 0.017726776337499618, 'kernel': 'poly', 'degree': 1}. Best is trial 1 with value: 0.19753401666972845.\u001b[0m\n",
      "\u001b[32m[I 2023-08-24 14:32:09,521]\u001b[0m Trial 5 finished with value: -0.7685840784217703 and parameters: {'C': 7.029339480509594, 'epsilon': 0.014351477787543625, 'kernel': 'poly', 'degree': 4}. Best is trial 1 with value: 0.19753401666972845.\u001b[0m\n",
      "\u001b[32m[I 2023-08-24 14:32:10,064]\u001b[0m Trial 6 finished with value: -1.36109062501847 and parameters: {'C': 42.717642911475004, 'epsilon': 0.06896824215073072, 'kernel': 'poly', 'degree': 2}. Best is trial 1 with value: 0.19753401666972845.\u001b[0m\n",
      "\u001b[32m[I 2023-08-24 14:32:10,160]\u001b[0m Trial 7 finished with value: 0.18654597432098768 and parameters: {'C': 3.0344048557314234, 'epsilon': 0.025478610312189554, 'kernel': 'poly', 'degree': 1}. Best is trial 1 with value: 0.19753401666972845.\u001b[0m\n",
      "\u001b[32m[I 2023-08-24 14:32:10,490]\u001b[0m Trial 8 finished with value: 0.097768446883218 and parameters: {'C': 63.30655743249285, 'epsilon': 0.011107627595555, 'kernel': 'rbf', 'degree': 2}. Best is trial 1 with value: 0.19753401666972845.\u001b[0m\n",
      "\u001b[32m[I 2023-08-24 14:32:10,667]\u001b[0m Trial 9 finished with value: 0.19418504451641014 and parameters: {'C': 1.4261292197710558, 'epsilon': 0.19004533704853546, 'kernel': 'linear', 'degree': 1}. Best is trial 1 with value: 0.19753401666972845.\u001b[0m\n",
      "\u001b[32m[I 2023-08-24 14:32:10,704]\u001b[0m Trial 10 finished with value: 0.1914643627301909 and parameters: {'C': 0.1850780787541969, 'epsilon': 0.9984852138849102, 'kernel': 'rbf', 'degree': 5}. Best is trial 1 with value: 0.19753401666972845.\u001b[0m\n",
      "\u001b[32m[I 2023-08-24 14:32:10,801]\u001b[0m Trial 11 finished with value: 0.21716806807318284 and parameters: {'C': 0.33655144739273557, 'epsilon': 0.37339222950143885, 'kernel': 'linear', 'degree': 5}. Best is trial 11 with value: 0.21716806807318284.\u001b[0m\n",
      "\u001b[32m[I 2023-08-24 14:32:10,867]\u001b[0m Trial 12 finished with value: 0.21167383622424438 and parameters: {'C': 0.16382308791375247, 'epsilon': 0.6297344162668976, 'kernel': 'linear', 'degree': 5}. Best is trial 11 with value: 0.21716806807318284.\u001b[0m\n",
      "\u001b[32m[I 2023-08-24 14:32:10,926]\u001b[0m Trial 13 finished with value: 0.2091550247850648 and parameters: {'C': 0.10598257907127794, 'epsilon': 0.7511224359321806, 'kernel': 'linear', 'degree': 4}. Best is trial 11 with value: 0.21716806807318284.\u001b[0m\n",
      "\u001b[32m[I 2023-08-24 14:32:11,021]\u001b[0m Trial 14 finished with value: 0.21806645836025887 and parameters: {'C': 0.4201961558622533, 'epsilon': 0.41740173253321555, 'kernel': 'linear', 'degree': 5}. Best is trial 14 with value: 0.21806645836025887.\u001b[0m\n",
      "\u001b[32m[I 2023-08-24 14:32:11,133]\u001b[0m Trial 15 finished with value: 0.21109503542605604 and parameters: {'C': 0.5361056221662077, 'epsilon': 0.34160966895040284, 'kernel': 'linear', 'degree': 4}. Best is trial 14 with value: 0.21806645836025887.\u001b[0m\n",
      "\u001b[32m[I 2023-08-24 14:32:11,243]\u001b[0m Trial 16 finished with value: 0.2171825427106578 and parameters: {'C': 0.605649995002963, 'epsilon': 0.42922161925991087, 'kernel': 'linear', 'degree': 5}. Best is trial 14 with value: 0.21806645836025887.\u001b[0m\n",
      "\u001b[32m[I 2023-08-24 14:32:11,353]\u001b[0m Trial 17 finished with value: 0.3667506999047892 and parameters: {'C': 1.1249312228770232, 'epsilon': 0.046286035124526156, 'kernel': 'rbf', 'degree': 4}. Best is trial 17 with value: 0.3667506999047892.\u001b[0m\n",
      "\u001b[32m[I 2023-08-24 14:32:11,472]\u001b[0m Trial 18 finished with value: 0.3679264268376545 and parameters: {'C': 1.3197153982614884, 'epsilon': 0.03979030501895245, 'kernel': 'rbf', 'degree': 4}. Best is trial 18 with value: 0.3679264268376545.\u001b[0m\n",
      "\u001b[32m[I 2023-08-24 14:32:11,616]\u001b[0m Trial 19 finished with value: 0.35139568724947373 and parameters: {'C': 8.9473959811747, 'epsilon': 0.036860681422292624, 'kernel': 'rbf', 'degree': 4}. Best is trial 18 with value: 0.3679264268376545.\u001b[0m\n",
      "\u001b[32m[I 2023-08-24 14:32:11,745]\u001b[0m Trial 20 finished with value: 0.3690489631304851 and parameters: {'C': 1.4645702596720156, 'epsilon': 0.04859824260310318, 'kernel': 'rbf', 'degree': 3}. Best is trial 20 with value: 0.3690489631304851.\u001b[0m\n",
      "\u001b[32m[I 2023-08-24 14:32:11,865]\u001b[0m Trial 21 finished with value: 0.36816702219457087 and parameters: {'C': 1.3326956385819684, 'epsilon': 0.04160837286108512, 'kernel': 'rbf', 'degree': 3}. Best is trial 20 with value: 0.3690489631304851.\u001b[0m\n",
      "\u001b[32m[I 2023-08-24 14:32:12,001]\u001b[0m Trial 22 finished with value: 0.3688873208183128 and parameters: {'C': 1.3950102102424937, 'epsilon': 0.04601215566323383, 'kernel': 'rbf', 'degree': 3}. Best is trial 20 with value: 0.3690489631304851.\u001b[0m\n",
      "\u001b[32m[I 2023-08-24 14:32:12,128]\u001b[0m Trial 23 finished with value: 0.37103244245307687 and parameters: {'C': 1.8291584888659556, 'epsilon': 0.05897602353322343, 'kernel': 'rbf', 'degree': 3}. Best is trial 23 with value: 0.37103244245307687.\u001b[0m\n",
      "\u001b[32m[I 2023-08-24 14:32:12,266]\u001b[0m Trial 24 finished with value: 0.36896782153423596 and parameters: {'C': 2.393299736226017, 'epsilon': 0.06194967607436768, 'kernel': 'rbf', 'degree': 3}. Best is trial 23 with value: 0.37103244245307687.\u001b[0m\n",
      "\u001b[32m[I 2023-08-24 14:32:12,412]\u001b[0m Trial 25 finished with value: 0.3735700746080902 and parameters: {'C': 4.599915839651293, 'epsilon': 0.06881847345308519, 'kernel': 'rbf', 'degree': 3}. Best is trial 25 with value: 0.3735700746080902.\u001b[0m\n",
      "\u001b[32m[I 2023-08-24 14:32:12,566]\u001b[0m Trial 26 finished with value: 0.35477643716110074 and parameters: {'C': 14.7787656003603, 'epsilon': 0.1612260425681364, 'kernel': 'rbf', 'degree': 2}. Best is trial 25 with value: 0.3735700746080902.\u001b[0m\n",
      "\u001b[32m[I 2023-08-24 14:32:12,707]\u001b[0m Trial 27 finished with value: 0.3600515685337915 and parameters: {'C': 4.169416893716081, 'epsilon': 0.024282599780533234, 'kernel': 'rbf', 'degree': 3}. Best is trial 25 with value: 0.3735700746080902.\u001b[0m\n",
      "\u001b[32m[I 2023-08-24 14:32:12,891]\u001b[0m Trial 28 finished with value: 0.31532578656320737 and parameters: {'C': 17.93823369447827, 'epsilon': 0.06993041237773281, 'kernel': 'rbf', 'degree': 2}. Best is trial 25 with value: 0.3735700746080902.\u001b[0m\n",
      "\u001b[32m[I 2023-08-24 14:32:13,032]\u001b[0m Trial 29 finished with value: 0.3618850723682293 and parameters: {'C': 4.738899917717645, 'epsilon': 0.0297864428884423, 'kernel': 'rbf', 'degree': 3}. Best is trial 25 with value: 0.3735700746080902.\u001b[0m\n",
      "\u001b[32m[I 2023-08-24 14:32:13,131]\u001b[0m Trial 30 finished with value: 0.38228678555386886 and parameters: {'C': 0.7829633109788957, 'epsilon': 0.16847836873620992, 'kernel': 'rbf', 'degree': 2}. Best is trial 30 with value: 0.38228678555386886.\u001b[0m\n",
      "\u001b[32m[I 2023-08-24 14:32:13,234]\u001b[0m Trial 31 finished with value: 0.38025252007326993 and parameters: {'C': 0.7847235668436502, 'epsilon': 0.15036766294311882, 'kernel': 'rbf', 'degree': 2}. Best is trial 30 with value: 0.38228678555386886.\u001b[0m\n",
      "\u001b[32m[I 2023-08-24 14:32:13,338]\u001b[0m Trial 32 finished with value: 0.38160783200955395 and parameters: {'C': 0.7648290078450221, 'epsilon': 0.16698169136041824, 'kernel': 'rbf', 'degree': 2}. Best is trial 30 with value: 0.38228678555386886.\u001b[0m\n",
      "\u001b[32m[I 2023-08-24 14:32:13,446]\u001b[0m Trial 33 finished with value: 0.3816846444868469 and parameters: {'C': 0.8993400653886658, 'epsilon': 0.13931788491575112, 'kernel': 'rbf', 'degree': 2}. Best is trial 30 with value: 0.38228678555386886.\u001b[0m\n",
      "\u001b[32m[I 2023-08-24 14:32:13,539]\u001b[0m Trial 34 finished with value: 0.3814566896533214 and parameters: {'C': 0.8165677577966178, 'epsilon': 0.149681131272678, 'kernel': 'rbf', 'degree': 2}. Best is trial 30 with value: 0.38228678555386886.\u001b[0m\n",
      "\u001b[32m[I 2023-08-24 14:32:13,634]\u001b[0m Trial 35 finished with value: 0.34578511903368525 and parameters: {'C': 0.26436110144759833, 'epsilon': 0.11949252040657833, 'kernel': 'rbf', 'degree': 1}. Best is trial 30 with value: 0.38228678555386886.\u001b[0m\n",
      "\u001b[32m[I 2023-08-24 14:32:13,715]\u001b[0m Trial 36 finished with value: 0.38378865365527115 and parameters: {'C': 0.8388775519435566, 'epsilon': 0.2621550418651411, 'kernel': 'rbf', 'degree': 2}. Best is trial 36 with value: 0.38378865365527115.\u001b[0m\n",
      "\u001b[32m[I 2023-08-24 14:32:13,791]\u001b[0m Trial 37 finished with value: 0.19953672606834402 and parameters: {'C': 0.889728042523882, 'epsilon': 0.27414261705524395, 'kernel': 'poly', 'degree': 2}. Best is trial 36 with value: 0.38378865365527115.\u001b[0m\n",
      "\u001b[32m[I 2023-08-24 14:32:13,877]\u001b[0m Trial 38 finished with value: 0.35714152830701684 and parameters: {'C': 0.3232959059052118, 'epsilon': 0.2202271294821325, 'kernel': 'rbf', 'degree': 1}. Best is trial 36 with value: 0.38378865365527115.\u001b[0m\n",
      "\u001b[32m[I 2023-08-24 14:32:13,985]\u001b[0m Trial 39 finished with value: 0.13161782911483524 and parameters: {'C': 2.1973256011468663, 'epsilon': 0.0945442040600706, 'kernel': 'poly', 'degree': 2}. Best is trial 36 with value: 0.38378865365527115.\u001b[0m\n",
      "\u001b[32m[I 2023-08-24 14:32:14,076]\u001b[0m Trial 40 finished with value: 0.3786345015940332 and parameters: {'C': 0.6305822668795434, 'epsilon': 0.2784850777398578, 'kernel': 'rbf', 'degree': 1}. Best is trial 36 with value: 0.38378865365527115.\u001b[0m\n",
      "\u001b[32m[I 2023-08-24 14:32:14,176]\u001b[0m Trial 41 finished with value: 0.37607950970874865 and parameters: {'C': 0.7373148411804527, 'epsilon': 0.13464529327710326, 'kernel': 'rbf', 'degree': 2}. Best is trial 36 with value: 0.38378865365527115.\u001b[0m\n",
      "\u001b[32m[I 2023-08-24 14:32:14,277]\u001b[0m Trial 42 finished with value: 0.38658284352231503 and parameters: {'C': 0.9528298576614789, 'epsilon': 0.19550711169285565, 'kernel': 'rbf', 'degree': 2}. Best is trial 42 with value: 0.38658284352231503.\u001b[0m\n",
      "\u001b[32m[I 2023-08-24 14:32:14,380]\u001b[0m Trial 43 finished with value: 0.3631095025222272 and parameters: {'C': 0.4219633664593168, 'epsilon': 0.18956569887952968, 'kernel': 'rbf', 'degree': 2}. Best is trial 42 with value: 0.38658284352231503.\u001b[0m\n",
      "\u001b[32m[I 2023-08-24 14:32:14,473]\u001b[0m Trial 44 finished with value: 0.3381249308366976 and parameters: {'C': 0.20372638789348857, 'epsilon': 0.21611565545898817, 'kernel': 'rbf', 'degree': 1}. Best is trial 42 with value: 0.38658284352231503.\u001b[0m\n",
      "\u001b[32m[I 2023-08-24 14:32:14,588]\u001b[0m Trial 45 finished with value: 0.3784034331034158 and parameters: {'C': 1.0283163451940083, 'epsilon': 0.10178554614111536, 'kernel': 'rbf', 'degree': 2}. Best is trial 42 with value: 0.38658284352231503.\u001b[0m\n",
      "\u001b[32m[I 2023-08-24 14:32:14,666]\u001b[0m Trial 46 finished with value: 0.19682466608954752 and parameters: {'C': 0.4973166862298992, 'epsilon': 0.2831157112994681, 'kernel': 'poly', 'degree': 2}. Best is trial 42 with value: 0.38658284352231503.\u001b[0m\n",
      "\u001b[32m[I 2023-08-24 14:32:14,736]\u001b[0m Trial 47 finished with value: 0.4018350194288834 and parameters: {'C': 1.995423381548519, 'epsilon': 0.49331635593333895, 'kernel': 'rbf', 'degree': 1}. Best is trial 47 with value: 0.4018350194288834.\u001b[0m\n",
      "\u001b[32m[I 2023-08-24 14:32:14,803]\u001b[0m Trial 48 finished with value: 0.38704861108427374 and parameters: {'C': 2.6580413388733475, 'epsilon': 0.6531232344718298, 'kernel': 'rbf', 'degree': 1}. Best is trial 47 with value: 0.4018350194288834.\u001b[0m\n",
      "\u001b[32m[I 2023-08-24 14:32:14,887]\u001b[0m Trial 49 finished with value: 0.40817833279347165 and parameters: {'C': 2.964552744053328, 'epsilon': 0.5167058950478663, 'kernel': 'rbf', 'degree': 1}. Best is trial 49 with value: 0.40817833279347165.\u001b[0m\n",
      "\u001b[32m[I 2023-08-24 14:32:14,990]\u001b[0m Trial 50 finished with value: 0.2118898277403864 and parameters: {'C': 6.645309473179517, 'epsilon': 0.5264342436796097, 'kernel': 'poly', 'degree': 1}. Best is trial 49 with value: 0.40817833279347165.\u001b[0m\n",
      "\u001b[32m[I 2023-08-24 14:32:15,050]\u001b[0m Trial 51 finished with value: 0.32244804462750287 and parameters: {'C': 3.0337463904566278, 'epsilon': 0.8889648289164622, 'kernel': 'rbf', 'degree': 1}. Best is trial 49 with value: 0.40817833279347165.\u001b[0m\n",
      "\u001b[32m[I 2023-08-24 14:32:15,135]\u001b[0m Trial 52 finished with value: 0.3975473096200514 and parameters: {'C': 1.91614456147565, 'epsilon': 0.5379897892582884, 'kernel': 'rbf', 'degree': 1}. Best is trial 49 with value: 0.40817833279347165.\u001b[0m\n",
      "\u001b[32m[I 2023-08-24 14:32:15,208]\u001b[0m Trial 53 finished with value: 0.39222502172487117 and parameters: {'C': 2.0049633307863375, 'epsilon': 0.6018494458009568, 'kernel': 'rbf', 'degree': 1}. Best is trial 49 with value: 0.40817833279347165.\u001b[0m\n",
      "\u001b[32m[I 2023-08-24 14:32:15,280]\u001b[0m Trial 54 finished with value: 0.39108380554211075 and parameters: {'C': 1.9499489599956183, 'epsilon': 0.6083500314228265, 'kernel': 'rbf', 'degree': 1}. Best is trial 49 with value: 0.40817833279347165.\u001b[0m\n",
      "\u001b[32m[I 2023-08-24 14:32:15,349]\u001b[0m Trial 55 finished with value: 0.39497908708717605 and parameters: {'C': 2.1030085634505182, 'epsilon': 0.5801560873198778, 'kernel': 'rbf', 'degree': 1}. Best is trial 49 with value: 0.40817833279347165.\u001b[0m\n",
      "\u001b[32m[I 2023-08-24 14:32:15,581]\u001b[0m Trial 56 finished with value: 0.21131545135708593 and parameters: {'C': 2.0492940748984467, 'epsilon': 0.5074387809459786, 'kernel': 'linear', 'degree': 1}. Best is trial 49 with value: 0.40817833279347165.\u001b[0m\n",
      "\u001b[32m[I 2023-08-24 14:32:15,655]\u001b[0m Trial 57 finished with value: 0.3618918626385381 and parameters: {'C': 3.4985581461431585, 'epsilon': 0.7687092810631523, 'kernel': 'rbf', 'degree': 1}. Best is trial 49 with value: 0.40817833279347165.\u001b[0m\n",
      "\u001b[32m[I 2023-08-24 14:32:15,741]\u001b[0m Trial 58 finished with value: 0.39508112153674196 and parameters: {'C': 1.6527410302779508, 'epsilon': 0.5365906741531468, 'kernel': 'rbf', 'degree': 1}. Best is trial 49 with value: 0.40817833279347165.\u001b[0m\n",
      "\u001b[32m[I 2023-08-24 14:32:15,879]\u001b[0m Trial 59 finished with value: 0.41644031955951766 and parameters: {'C': 6.1224064017176625, 'epsilon': 0.33163798857603766, 'kernel': 'rbf', 'degree': 1}. Best is trial 59 with value: 0.41644031955951766.\u001b[0m\n",
      "\u001b[32m[I 2023-08-24 14:32:16,387]\u001b[0m Trial 60 finished with value: 0.21200938383281026 and parameters: {'C': 5.973317737098323, 'epsilon': 0.34429626518136736, 'kernel': 'linear', 'degree': 1}. Best is trial 59 with value: 0.41644031955951766.\u001b[0m\n",
      "\u001b[32m[I 2023-08-24 14:32:16,507]\u001b[0m Trial 61 finished with value: 0.4126074516289286 and parameters: {'C': 11.484567786094342, 'epsilon': 0.4644571914073604, 'kernel': 'rbf', 'degree': 1}. Best is trial 59 with value: 0.41644031955951766.\u001b[0m\n",
      "\u001b[32m[I 2023-08-24 14:32:16,636]\u001b[0m Trial 62 finished with value: 0.4123380948576294 and parameters: {'C': 10.757092582391104, 'epsilon': 0.4348508716190888, 'kernel': 'rbf', 'degree': 1}. Best is trial 59 with value: 0.41644031955951766.\u001b[0m\n",
      "\u001b[32m[I 2023-08-24 14:32:16,746]\u001b[0m Trial 63 finished with value: 0.4146029170280836 and parameters: {'C': 11.022715126078435, 'epsilon': 0.4770991882651667, 'kernel': 'rbf', 'degree': 1}. Best is trial 59 with value: 0.41644031955951766.\u001b[0m\n",
      "\u001b[32m[I 2023-08-24 14:32:16,853]\u001b[0m Trial 64 finished with value: 0.4130116875507467 and parameters: {'C': 9.775719216002612, 'epsilon': 0.41867777827535185, 'kernel': 'rbf', 'degree': 1}. Best is trial 59 with value: 0.41644031955951766.\u001b[0m\n",
      "\u001b[32m[I 2023-08-24 14:32:16,970]\u001b[0m Trial 65 finished with value: 0.4120579244590057 and parameters: {'C': 10.388523991916824, 'epsilon': 0.42786312090326534, 'kernel': 'rbf', 'degree': 1}. Best is trial 59 with value: 0.41644031955951766.\u001b[0m\n",
      "\u001b[32m[I 2023-08-24 14:32:17,084]\u001b[0m Trial 66 finished with value: 0.41238825875625207 and parameters: {'C': 10.13900398770075, 'epsilon': 0.4260370906524125, 'kernel': 'rbf', 'degree': 1}. Best is trial 59 with value: 0.41644031955951766.\u001b[0m\n",
      "\u001b[32m[I 2023-08-24 14:32:17,199]\u001b[0m Trial 67 finished with value: 0.4102190056996836 and parameters: {'C': 10.733345012348101, 'epsilon': 0.40753355293506244, 'kernel': 'rbf', 'degree': 1}. Best is trial 59 with value: 0.41644031955951766.\u001b[0m\n",
      "\u001b[32m[I 2023-08-24 14:32:17,349]\u001b[0m Trial 68 finished with value: 0.35196774048648016 and parameters: {'C': 22.604012298413075, 'epsilon': 0.3143390115069033, 'kernel': 'rbf', 'degree': 1}. Best is trial 59 with value: 0.41644031955951766.\u001b[0m\n",
      "\u001b[32m[I 2023-08-24 14:32:17,464]\u001b[0m Trial 69 finished with value: 0.4101694121556398 and parameters: {'C': 11.290780623234005, 'epsilon': 0.42176716002293163, 'kernel': 'rbf', 'degree': 1}. Best is trial 59 with value: 0.41644031955951766.\u001b[0m\n",
      "\u001b[32m[I 2023-08-24 14:32:18,704]\u001b[0m Trial 70 finished with value: 0.21035149799147698 and parameters: {'C': 30.191502739187765, 'epsilon': 0.73586009454102, 'kernel': 'linear', 'degree': 1}. Best is trial 59 with value: 0.41644031955951766.\u001b[0m\n",
      "\u001b[32m[I 2023-08-24 14:32:18,814]\u001b[0m Trial 71 finished with value: 0.41357152282305554 and parameters: {'C': 9.269056519178388, 'epsilon': 0.38026085283564215, 'kernel': 'rbf', 'degree': 1}. Best is trial 59 with value: 0.41644031955951766.\u001b[0m\n",
      "\u001b[32m[I 2023-08-24 14:32:18,930]\u001b[0m Trial 72 finished with value: 0.4162702465454052 and parameters: {'C': 8.537719046733676, 'epsilon': 0.3683491356165112, 'kernel': 'rbf', 'degree': 1}. Best is trial 59 with value: 0.41644031955951766.\u001b[0m\n",
      "\u001b[32m[I 2023-08-24 14:32:19,047]\u001b[0m Trial 73 finished with value: 0.38822658896290896 and parameters: {'C': 14.926881190648547, 'epsilon': 0.35345788138427897, 'kernel': 'rbf', 'degree': 1}. Best is trial 59 with value: 0.41644031955951766.\u001b[0m\n",
      "\u001b[32m[I 2023-08-24 14:32:19,163]\u001b[0m Trial 74 finished with value: 0.41651655572282686 and parameters: {'C': 8.387410146474247, 'epsilon': 0.3825953005184383, 'kernel': 'rbf', 'degree': 1}. Best is trial 74 with value: 0.41651655572282686.\u001b[0m\n",
      "\u001b[32m[I 2023-08-24 14:32:19,283]\u001b[0m Trial 75 finished with value: 0.4116057959163049 and parameters: {'C': 8.39074572540735, 'epsilon': 0.3130617966685143, 'kernel': 'rbf', 'degree': 1}. Best is trial 74 with value: 0.41651655572282686.\u001b[0m\n",
      "\u001b[32m[I 2023-08-24 14:32:19,422]\u001b[0m Trial 76 finished with value: 0.40870620685408665 and parameters: {'C': 5.696892305724431, 'epsilon': 0.23383191929119615, 'kernel': 'rbf', 'degree': 1}. Best is trial 74 with value: 0.41651655572282686.\u001b[0m\n",
      "\u001b[32m[I 2023-08-24 14:32:19,595]\u001b[0m Trial 77 finished with value: 0.21635490815963898 and parameters: {'C': 18.873887608209046, 'epsilon': 0.3754434354417373, 'kernel': 'poly', 'degree': 1}. Best is trial 74 with value: 0.41651655572282686.\u001b[0m\n",
      "\u001b[32m[I 2023-08-24 14:32:19,721]\u001b[0m Trial 78 finished with value: 0.3856283027306979 and parameters: {'C': 13.530499955190747, 'epsilon': 0.30802892980971514, 'kernel': 'rbf', 'degree': 1}. Best is trial 74 with value: 0.41651655572282686.\u001b[0m\n",
      "\u001b[32m[I 2023-08-24 14:32:19,810]\u001b[0m Trial 79 finished with value: 0.3802085912962695 and parameters: {'C': 7.555896887691739, 'epsilon': 0.7024973133281469, 'kernel': 'rbf', 'degree': 1}. Best is trial 74 with value: 0.41651655572282686.\u001b[0m\n",
      "\u001b[32m[I 2023-08-24 14:32:19,905]\u001b[0m Trial 80 finished with value: 0.41669880284614297 and parameters: {'C': 5.212255116755125, 'epsilon': 0.4774124704521485, 'kernel': 'rbf', 'degree': 1}. Best is trial 80 with value: 0.41669880284614297.\u001b[0m\n",
      "\u001b[32m[I 2023-08-24 14:32:20,006]\u001b[0m Trial 81 finished with value: 0.41916867375765865 and parameters: {'C': 8.754215393570933, 'epsilon': 0.4619129685247384, 'kernel': 'rbf', 'degree': 1}. Best is trial 81 with value: 0.41916867375765865.\u001b[0m\n",
      "\u001b[32m[I 2023-08-24 14:32:20,109]\u001b[0m Trial 82 finished with value: 0.415793320153516 and parameters: {'C': 4.735227148908687, 'epsilon': 0.47094490102803027, 'kernel': 'rbf', 'degree': 1}. Best is trial 81 with value: 0.41916867375765865.\u001b[0m\n",
      "\u001b[32m[I 2023-08-24 14:32:20,218]\u001b[0m Trial 83 finished with value: 0.4197043405530607 and parameters: {'C': 4.014927460041668, 'epsilon': 0.37348054033602757, 'kernel': 'rbf', 'degree': 1}. Best is trial 83 with value: 0.4197043405530607.\u001b[0m\n",
      "\u001b[32m[I 2023-08-24 14:32:20,328]\u001b[0m Trial 84 finished with value: 0.42034428710235233 and parameters: {'C': 4.89891238197303, 'epsilon': 0.36513313573545114, 'kernel': 'rbf', 'degree': 1}. Best is trial 84 with value: 0.42034428710235233.\u001b[0m\n",
      "\u001b[32m[I 2023-08-24 14:32:20,392]\u001b[0m Trial 85 finished with value: 0.33221985852586167 and parameters: {'C': 4.242929956492254, 'epsilon': 0.8700186907724758, 'kernel': 'rbf', 'degree': 1}. Best is trial 84 with value: 0.42034428710235233.\u001b[0m\n",
      "\u001b[32m[I 2023-08-24 14:32:20,516]\u001b[0m Trial 86 finished with value: 0.41868204932150926 and parameters: {'C': 5.561187625114525, 'epsilon': 0.33595395345212914, 'kernel': 'rbf', 'degree': 1}. Best is trial 84 with value: 0.42034428710235233.\u001b[0m\n",
      "\u001b[32m[I 2023-08-24 14:32:20,640]\u001b[0m Trial 87 finished with value: 0.410183998580876 and parameters: {'C': 5.210935345164976, 'epsilon': 0.23848751387818196, 'kernel': 'rbf', 'degree': 1}. Best is trial 84 with value: 0.42034428710235233.\u001b[0m\n",
      "\u001b[32m[I 2023-08-24 14:32:20,751]\u001b[0m Trial 88 finished with value: 0.41849472610991284 and parameters: {'C': 3.705461252976382, 'epsilon': 0.35894530562965093, 'kernel': 'rbf', 'degree': 1}. Best is trial 84 with value: 0.42034428710235233.\u001b[0m\n",
      "\u001b[32m[I 2023-08-24 14:32:20,871]\u001b[0m Trial 89 finished with value: 0.20536282195118155 and parameters: {'C': 3.7856985103130962, 'epsilon': 0.2981809861524338, 'kernel': 'poly', 'degree': 1}. Best is trial 84 with value: 0.42034428710235233.\u001b[0m\n",
      "\u001b[32m[I 2023-08-24 14:32:20,979]\u001b[0m Trial 90 finished with value: 0.41922716481818345 and parameters: {'C': 6.754418116399006, 'epsilon': 0.35133589869318466, 'kernel': 'rbf', 'degree': 1}. Best is trial 84 with value: 0.42034428710235233.\u001b[0m\n",
      "\u001b[32m[I 2023-08-24 14:32:21,082]\u001b[0m Trial 91 finished with value: 0.4168433599636428 and parameters: {'C': 6.65328164566165, 'epsilon': 0.3306721778212126, 'kernel': 'rbf', 'degree': 1}. Best is trial 84 with value: 0.42034428710235233.\u001b[0m\n",
      "\u001b[32m[I 2023-08-24 14:32:21,223]\u001b[0m Trial 92 finished with value: 0.40754354721811764 and parameters: {'C': 6.54432880385844, 'epsilon': 0.2532689723844855, 'kernel': 'rbf', 'degree': 1}. Best is trial 84 with value: 0.42034428710235233.\u001b[0m\n",
      "\u001b[32m[I 2023-08-24 14:32:21,357]\u001b[0m Trial 93 finished with value: 0.4006594674443694 and parameters: {'C': 7.267301510211132, 'epsilon': 0.20476490800556887, 'kernel': 'rbf', 'degree': 1}. Best is trial 84 with value: 0.42034428710235233.\u001b[0m\n",
      "\u001b[32m[I 2023-08-24 14:32:21,473]\u001b[0m Trial 94 finished with value: 0.418390350916299 and parameters: {'C': 3.7484533913761253, 'epsilon': 0.33059989976581733, 'kernel': 'rbf', 'degree': 1}. Best is trial 84 with value: 0.42034428710235233.\u001b[0m\n",
      "\u001b[32m[I 2023-08-24 14:32:21,587]\u001b[0m Trial 95 finished with value: 0.4134712395183639 and parameters: {'C': 3.5038916631728676, 'epsilon': 0.2806520048456508, 'kernel': 'rbf', 'degree': 1}. Best is trial 84 with value: 0.42034428710235233.\u001b[0m\n",
      "\u001b[32m[I 2023-08-24 14:32:21,877]\u001b[0m Trial 96 finished with value: 0.18909059300329015 and parameters: {'C': 87.55923296819327, 'epsilon': 0.254031683249073, 'kernel': 'rbf', 'degree': 1}. Best is trial 84 with value: 0.42034428710235233.\u001b[0m\n",
      "\u001b[32m[I 2023-08-24 14:32:22,375]\u001b[0m Trial 97 finished with value: 0.2173833943606212 and parameters: {'C': 5.006175326201287, 'epsilon': 0.37520167052252645, 'kernel': 'linear', 'degree': 1}. Best is trial 84 with value: 0.42034428710235233.\u001b[0m\n",
      "\u001b[32m[I 2023-08-24 14:32:22,498]\u001b[0m Trial 98 finished with value: 0.41969216427740197 and parameters: {'C': 4.1427579573111, 'epsilon': 0.33377251335698466, 'kernel': 'rbf', 'degree': 1}. Best is trial 84 with value: 0.42034428710235233.\u001b[0m\n",
      "\u001b[32m[I 2023-08-24 14:32:22,667]\u001b[0m Trial 99 finished with value: 0.3565504004038044 and parameters: {'C': 2.648341588106403, 'epsilon': 0.01811228761580599, 'kernel': 'rbf', 'degree': 1}. Best is trial 84 with value: 0.42034428710235233.\u001b[0m\n"
     ]
    },
    {
     "name": "stdout",
     "output_type": "stream",
     "text": [
      "Best r2:  0.42034428710235233\n",
      "Best trial: {'C': 4.89891238197303, 'epsilon': 0.36513313573545114, 'kernel': 'rbf', 'degree': 1}\n"
     ]
    }
   ],
   "source": [
    "sampler = TPESampler()\n",
    "study = optuna.create_study(\n",
    "    study_name=\"svm_parameter_opt\",\n",
    "    direction=\"maximize\",\n",
    "    sampler=sampler,\n",
    ")\n",
    "\n",
    "study.optimize(lambda trial : objectiveSVM(trial, As_X_train, As_y_train), n_trials=100)\n",
    "print(\"Best r2: \", study.best_value)\n",
    "print(\"Best trial:\", study.best_trial.params)"
   ]
  },
  {
   "cell_type": "code",
   "execution_count": 27,
   "id": "ded0e0f8",
   "metadata": {},
   "outputs": [
    {
     "data": {
      "application/vnd.plotly.v1+json": {
       "config": {
        "plotlyServerURL": "https://plot.ly"
       },
       "data": [
        {
         "dimensions": [
          {
           "label": "Objective Value",
           "range": [
            -1.36109062501847,
            0.42034428710235233
           ],
           "values": [
            0.19654727415131465,
            0.19753401666972845,
            0.017852796486908316,
            0.1904502547328526,
            0.1793099462806595,
            -0.7685840784217703,
            -1.36109062501847,
            0.18654597432098768,
            0.097768446883218,
            0.19418504451641014,
            0.1914643627301909,
            0.21716806807318284,
            0.21167383622424438,
            0.2091550247850648,
            0.21806645836025887,
            0.21109503542605604,
            0.2171825427106578,
            0.3667506999047892,
            0.3679264268376545,
            0.35139568724947373,
            0.3690489631304851,
            0.36816702219457087,
            0.3688873208183128,
            0.37103244245307687,
            0.36896782153423596,
            0.3735700746080902,
            0.35477643716110074,
            0.3600515685337915,
            0.31532578656320737,
            0.3618850723682293,
            0.38228678555386886,
            0.38025252007326993,
            0.38160783200955395,
            0.3816846444868469,
            0.3814566896533214,
            0.34578511903368525,
            0.38378865365527115,
            0.19953672606834402,
            0.35714152830701684,
            0.13161782911483524,
            0.3786345015940332,
            0.37607950970874865,
            0.38658284352231503,
            0.3631095025222272,
            0.3381249308366976,
            0.3784034331034158,
            0.19682466608954752,
            0.4018350194288834,
            0.38704861108427374,
            0.40817833279347165,
            0.2118898277403864,
            0.32244804462750287,
            0.3975473096200514,
            0.39222502172487117,
            0.39108380554211075,
            0.39497908708717605,
            0.21131545135708593,
            0.3618918626385381,
            0.39508112153674196,
            0.41644031955951766,
            0.21200938383281026,
            0.4126074516289286,
            0.4123380948576294,
            0.4146029170280836,
            0.4130116875507467,
            0.4120579244590057,
            0.41238825875625207,
            0.4102190056996836,
            0.35196774048648016,
            0.4101694121556398,
            0.21035149799147698,
            0.41357152282305554,
            0.4162702465454052,
            0.38822658896290896,
            0.41651655572282686,
            0.4116057959163049,
            0.40870620685408665,
            0.21635490815963898,
            0.3856283027306979,
            0.3802085912962695,
            0.41669880284614297,
            0.41916867375765865,
            0.415793320153516,
            0.4197043405530607,
            0.42034428710235233,
            0.33221985852586167,
            0.41868204932150926,
            0.410183998580876,
            0.41849472610991284,
            0.20536282195118155,
            0.41922716481818345,
            0.4168433599636428,
            0.40754354721811764,
            0.4006594674443694,
            0.418390350916299,
            0.4134712395183639,
            0.18909059300329015,
            0.2173833943606212,
            0.41969216427740197,
            0.3565504004038044
           ]
          },
          {
           "label": "C",
           "range": [
            -0.9747655161974593,
            1.9423019484287838
           ],
           "ticktext": [
            "0.106",
            "1",
            "10",
            "87.6"
           ],
           "tickvals": [
            -0.9747655161974593,
            0,
            1,
            1.9423019484287838
           ],
           "values": [
            -0.27172882564559137,
            1.6036175596937177,
            0.8810165467352596,
            0.4838067713577687,
            1.4984923633116103,
            0.8469145179861106,
            1.6306072810340426,
            0.4820735246643082,
            1.8014486975252282,
            0.154158878174325,
            -0.7326450174430581,
            -0.4729485373511024,
            -0.785624892276767,
            -0.9747655161974593,
            -0.37654792502727624,
            -0.27074963828307363,
            -0.21777828202561175,
            0.05112597094687709,
            0.120480284015599,
            0.951696658158501,
            0.165710210879985,
            0.12473097643775749,
            0.1445773862732339,
            0.2622513368913379,
            0.3789970929457315,
            0.6627498858751827,
            1.1696381610317432,
            0.6200753217486149,
            1.2537796775873005,
            0.6756775367977474,
            -0.10625858814988488,
            -0.10528330444892799,
            -0.11643564883326472,
            -0.04607605843840262,
            -0.08800777220564525,
            -0.5778024473311221,
            -0.07630142700942408,
            -0.05074272108571529,
            -0.4903997950916084,
            0.34189441572979257,
            -0.20025824656725913,
            -0.1323470242307603,
            -0.02098464235813479,
            -0.37472525149133196,
            -0.690952714866764,
            0.012126739014808397,
            -0.30336696884741615,
            0.300035056795806,
            0.4245617309727682,
            0.47195918153122424,
            0.8225152109167552,
            0.4819792726178811,
            0.2824282708609187,
            0.3021064341218976,
            0.2900232438331027,
            0.32284104113697926,
            0.31160428438539567,
            0.5438890962956847,
            0.21820480884533863,
            0.7869221544291319,
            0.7762156166721282,
            1.0601146554608387,
            1.0316949064561913,
            1.0422885835389202,
            0.9901487190142816,
            1.016553847104624,
            1.0059952938640502,
            1.0307350895347624,
            1.3541855349172907,
            1.0527239692627084,
            1.479884729952373,
            0.9670355303292126,
            0.9313418592450619,
            1.1739690760985222,
            0.9236278806465641,
            0.9238005603563899,
            0.7556380096143612,
            1.2758613645474288,
            1.1313138441784825,
            0.8782860226468252,
            0.717025664348196,
            0.9422172280308623,
            0.6753408169510062,
            0.6036777030422921,
            0.6900996720821909,
            0.6276658623676074,
            0.7451675476892566,
            0.7169156846785101,
            0.5688422763245428,
            0.5781460241758443,
            0.8295879411120147,
            0.8230359083201985,
            0.8158651112797134,
            0.8613731788398196,
            0.573852115157054,
            0.5445506697524433,
            1.9423019484287838,
            0.6995060553937373,
            0.6172895601689444,
            0.42297400050409073
           ]
          },
          {
           "label": "degree",
           "range": [
            1,
            5
           ],
           "values": [
            2,
            5,
            3,
            3,
            1,
            4,
            2,
            1,
            2,
            1,
            5,
            5,
            5,
            4,
            5,
            4,
            5,
            4,
            4,
            4,
            3,
            3,
            3,
            3,
            3,
            3,
            2,
            3,
            2,
            3,
            2,
            2,
            2,
            2,
            2,
            1,
            2,
            2,
            1,
            2,
            1,
            2,
            2,
            2,
            1,
            2,
            2,
            1,
            1,
            1,
            1,
            1,
            1,
            1,
            1,
            1,
            1,
            1,
            1,
            1,
            1,
            1,
            1,
            1,
            1,
            1,
            1,
            1,
            1,
            1,
            1,
            1,
            1,
            1,
            1,
            1,
            1,
            1,
            1,
            1,
            1,
            1,
            1,
            1,
            1,
            1,
            1,
            1,
            1,
            1,
            1,
            1,
            1,
            1,
            1,
            1,
            1,
            1,
            1,
            1
           ]
          },
          {
           "label": "epsilon",
           "range": [
            -1.9543786892302673,
            -0.0006583620158512941
           ],
           "ticktext": [
            "0.0111",
            "0.1",
            "0.998"
           ],
           "tickvals": [
            -1.9543786892302673,
            -1,
            -0.0006583620158512941
           ],
           "values": [
            -0.5970460048758233,
            -0.9422766389602508,
            -0.978014665206747,
            -1.0379138075828171,
            -1.7513702348517801,
            -1.8431033768441827,
            -1.1613508430840842,
            -1.5938242635504514,
            -1.9543786892302673,
            -0.7211427817774472,
            -0.0006583620158512941,
            -0.42783472420097646,
            -0.20084257097242095,
            -0.12428926550479022,
            -0.3794457526159082,
            -0.46646984549948944,
            -0.36731841138264765,
            -1.3345500194178344,
            -1.400222731686982,
            -1.4334366404895413,
            -1.3133794352968517,
            -1.3808192674146742,
            -1.33712741962117,
            -1.2293245131643056,
            -1.2079609601431631,
            -1.162294965226488,
            -0.792564806016456,
            -1.6147048180129058,
            -1.1553339107295053,
            -1.5259813573475534,
            -0.7734558511223367,
            -0.8228455501495584,
            -0.7773311442837721,
            -0.8559931274982597,
            -0.824832943148179,
            -0.9226592783795452,
            -0.5814417853538322,
            -0.5620234456234433,
            -0.6571291819190284,
            -1.0243650900012022,
            -0.5551980709709091,
            -0.870808823385102,
            -0.7088374402487323,
            -0.7222402436594386,
            -0.6653137716027329,
            -0.9923138887657407,
            -0.548036029111297,
            -0.3068744852395836,
            -0.18500486619572784,
            -0.28675658360209444,
            -0.27865586833522993,
            -0.05111542115539035,
            -0.26922596691885814,
            -0.22051213504663697,
            -0.21584646517878733,
            -0.23645514653714425,
            -0.2946163449439337,
            -0.11423787541547231,
            -0.270356879556407,
            -0.47933572756690823,
            -0.46306768836102663,
            -0.33305430834917144,
            -0.36165965508459275,
            -0.32139132234750606,
            -0.37812008909324657,
            -0.36869514534230075,
            -0.37055258971309707,
            -0.38983662924383294,
            -0.5026017168799718,
            -0.3749272386696963,
            -0.133204748087057,
            -0.4199183821155389,
            -0.433740344941498,
            -0.45166233002039147,
            -0.4172603687871461,
            -0.5043699266608047,
            -0.6310962056384806,
            -0.42545548482751555,
            -0.5114084930232549,
            -0.15335533236094895,
            -0.32110624101041035,
            -0.335439844465581,
            -0.3270299008949833,
            -0.42773202154563333,
            -0.43754875315252983,
            -0.0604714172524672,
            -0.4737202438365125,
            -0.6225343537129919,
            -0.4449717220981752,
            -0.5255200532785642,
            -0.454277472730535,
            -0.4806023443273908,
            -0.5964180117395733,
            -0.6887444694021676,
            -0.4806972824377686,
            -0.5518318510381329,
            -0.5951121140803403,
            -0.42573523666530777,
            -0.47654943095485736,
            -1.7420266940162437
           ]
          },
          {
           "label": "kernel",
           "range": [
            0,
            2
           ],
           "ticktext": [
            "linear",
            "poly",
            "rbf"
           ],
           "tickvals": [
            0,
            1,
            2
           ],
           "values": [
            0,
            0,
            1,
            0,
            1,
            1,
            1,
            1,
            2,
            0,
            2,
            0,
            0,
            0,
            0,
            0,
            0,
            2,
            2,
            2,
            2,
            2,
            2,
            2,
            2,
            2,
            2,
            2,
            2,
            2,
            2,
            2,
            2,
            2,
            2,
            2,
            2,
            1,
            2,
            1,
            2,
            2,
            2,
            2,
            2,
            2,
            1,
            2,
            2,
            2,
            1,
            2,
            2,
            2,
            2,
            2,
            0,
            2,
            2,
            2,
            0,
            2,
            2,
            2,
            2,
            2,
            2,
            2,
            2,
            2,
            0,
            2,
            2,
            2,
            2,
            2,
            2,
            1,
            2,
            2,
            2,
            2,
            2,
            2,
            2,
            2,
            2,
            2,
            2,
            1,
            2,
            2,
            2,
            2,
            2,
            2,
            2,
            0,
            2,
            2
           ]
          }
         ],
         "labelangle": 30,
         "labelside": "bottom",
         "line": {
          "color": [
           0.19654727415131465,
           0.19753401666972845,
           0.017852796486908316,
           0.1904502547328526,
           0.1793099462806595,
           -0.7685840784217703,
           -1.36109062501847,
           0.18654597432098768,
           0.097768446883218,
           0.19418504451641014,
           0.1914643627301909,
           0.21716806807318284,
           0.21167383622424438,
           0.2091550247850648,
           0.21806645836025887,
           0.21109503542605604,
           0.2171825427106578,
           0.3667506999047892,
           0.3679264268376545,
           0.35139568724947373,
           0.3690489631304851,
           0.36816702219457087,
           0.3688873208183128,
           0.37103244245307687,
           0.36896782153423596,
           0.3735700746080902,
           0.35477643716110074,
           0.3600515685337915,
           0.31532578656320737,
           0.3618850723682293,
           0.38228678555386886,
           0.38025252007326993,
           0.38160783200955395,
           0.3816846444868469,
           0.3814566896533214,
           0.34578511903368525,
           0.38378865365527115,
           0.19953672606834402,
           0.35714152830701684,
           0.13161782911483524,
           0.3786345015940332,
           0.37607950970874865,
           0.38658284352231503,
           0.3631095025222272,
           0.3381249308366976,
           0.3784034331034158,
           0.19682466608954752,
           0.4018350194288834,
           0.38704861108427374,
           0.40817833279347165,
           0.2118898277403864,
           0.32244804462750287,
           0.3975473096200514,
           0.39222502172487117,
           0.39108380554211075,
           0.39497908708717605,
           0.21131545135708593,
           0.3618918626385381,
           0.39508112153674196,
           0.41644031955951766,
           0.21200938383281026,
           0.4126074516289286,
           0.4123380948576294,
           0.4146029170280836,
           0.4130116875507467,
           0.4120579244590057,
           0.41238825875625207,
           0.4102190056996836,
           0.35196774048648016,
           0.4101694121556398,
           0.21035149799147698,
           0.41357152282305554,
           0.4162702465454052,
           0.38822658896290896,
           0.41651655572282686,
           0.4116057959163049,
           0.40870620685408665,
           0.21635490815963898,
           0.3856283027306979,
           0.3802085912962695,
           0.41669880284614297,
           0.41916867375765865,
           0.415793320153516,
           0.4197043405530607,
           0.42034428710235233,
           0.33221985852586167,
           0.41868204932150926,
           0.410183998580876,
           0.41849472610991284,
           0.20536282195118155,
           0.41922716481818345,
           0.4168433599636428,
           0.40754354721811764,
           0.4006594674443694,
           0.418390350916299,
           0.4134712395183639,
           0.18909059300329015,
           0.2173833943606212,
           0.41969216427740197,
           0.3565504004038044
          ],
          "colorbar": {
           "title": {
            "text": "Objective Value"
           }
          },
          "colorscale": [
           [
            0,
            "rgb(247,251,255)"
           ],
           [
            0.125,
            "rgb(222,235,247)"
           ],
           [
            0.25,
            "rgb(198,219,239)"
           ],
           [
            0.375,
            "rgb(158,202,225)"
           ],
           [
            0.5,
            "rgb(107,174,214)"
           ],
           [
            0.625,
            "rgb(66,146,198)"
           ],
           [
            0.75,
            "rgb(33,113,181)"
           ],
           [
            0.875,
            "rgb(8,81,156)"
           ],
           [
            1,
            "rgb(8,48,107)"
           ]
          ],
          "reversescale": false,
          "showscale": true
         },
         "type": "parcoords"
        }
       ],
       "layout": {
        "template": {
         "data": {
          "bar": [
           {
            "error_x": {
             "color": "#2a3f5f"
            },
            "error_y": {
             "color": "#2a3f5f"
            },
            "marker": {
             "line": {
              "color": "#E5ECF6",
              "width": 0.5
             },
             "pattern": {
              "fillmode": "overlay",
              "size": 10,
              "solidity": 0.2
             }
            },
            "type": "bar"
           }
          ],
          "barpolar": [
           {
            "marker": {
             "line": {
              "color": "#E5ECF6",
              "width": 0.5
             },
             "pattern": {
              "fillmode": "overlay",
              "size": 10,
              "solidity": 0.2
             }
            },
            "type": "barpolar"
           }
          ],
          "carpet": [
           {
            "aaxis": {
             "endlinecolor": "#2a3f5f",
             "gridcolor": "white",
             "linecolor": "white",
             "minorgridcolor": "white",
             "startlinecolor": "#2a3f5f"
            },
            "baxis": {
             "endlinecolor": "#2a3f5f",
             "gridcolor": "white",
             "linecolor": "white",
             "minorgridcolor": "white",
             "startlinecolor": "#2a3f5f"
            },
            "type": "carpet"
           }
          ],
          "choropleth": [
           {
            "colorbar": {
             "outlinewidth": 0,
             "ticks": ""
            },
            "type": "choropleth"
           }
          ],
          "contour": [
           {
            "colorbar": {
             "outlinewidth": 0,
             "ticks": ""
            },
            "colorscale": [
             [
              0,
              "#0d0887"
             ],
             [
              0.1111111111111111,
              "#46039f"
             ],
             [
              0.2222222222222222,
              "#7201a8"
             ],
             [
              0.3333333333333333,
              "#9c179e"
             ],
             [
              0.4444444444444444,
              "#bd3786"
             ],
             [
              0.5555555555555556,
              "#d8576b"
             ],
             [
              0.6666666666666666,
              "#ed7953"
             ],
             [
              0.7777777777777778,
              "#fb9f3a"
             ],
             [
              0.8888888888888888,
              "#fdca26"
             ],
             [
              1,
              "#f0f921"
             ]
            ],
            "type": "contour"
           }
          ],
          "contourcarpet": [
           {
            "colorbar": {
             "outlinewidth": 0,
             "ticks": ""
            },
            "type": "contourcarpet"
           }
          ],
          "heatmap": [
           {
            "colorbar": {
             "outlinewidth": 0,
             "ticks": ""
            },
            "colorscale": [
             [
              0,
              "#0d0887"
             ],
             [
              0.1111111111111111,
              "#46039f"
             ],
             [
              0.2222222222222222,
              "#7201a8"
             ],
             [
              0.3333333333333333,
              "#9c179e"
             ],
             [
              0.4444444444444444,
              "#bd3786"
             ],
             [
              0.5555555555555556,
              "#d8576b"
             ],
             [
              0.6666666666666666,
              "#ed7953"
             ],
             [
              0.7777777777777778,
              "#fb9f3a"
             ],
             [
              0.8888888888888888,
              "#fdca26"
             ],
             [
              1,
              "#f0f921"
             ]
            ],
            "type": "heatmap"
           }
          ],
          "heatmapgl": [
           {
            "colorbar": {
             "outlinewidth": 0,
             "ticks": ""
            },
            "colorscale": [
             [
              0,
              "#0d0887"
             ],
             [
              0.1111111111111111,
              "#46039f"
             ],
             [
              0.2222222222222222,
              "#7201a8"
             ],
             [
              0.3333333333333333,
              "#9c179e"
             ],
             [
              0.4444444444444444,
              "#bd3786"
             ],
             [
              0.5555555555555556,
              "#d8576b"
             ],
             [
              0.6666666666666666,
              "#ed7953"
             ],
             [
              0.7777777777777778,
              "#fb9f3a"
             ],
             [
              0.8888888888888888,
              "#fdca26"
             ],
             [
              1,
              "#f0f921"
             ]
            ],
            "type": "heatmapgl"
           }
          ],
          "histogram": [
           {
            "marker": {
             "pattern": {
              "fillmode": "overlay",
              "size": 10,
              "solidity": 0.2
             }
            },
            "type": "histogram"
           }
          ],
          "histogram2d": [
           {
            "colorbar": {
             "outlinewidth": 0,
             "ticks": ""
            },
            "colorscale": [
             [
              0,
              "#0d0887"
             ],
             [
              0.1111111111111111,
              "#46039f"
             ],
             [
              0.2222222222222222,
              "#7201a8"
             ],
             [
              0.3333333333333333,
              "#9c179e"
             ],
             [
              0.4444444444444444,
              "#bd3786"
             ],
             [
              0.5555555555555556,
              "#d8576b"
             ],
             [
              0.6666666666666666,
              "#ed7953"
             ],
             [
              0.7777777777777778,
              "#fb9f3a"
             ],
             [
              0.8888888888888888,
              "#fdca26"
             ],
             [
              1,
              "#f0f921"
             ]
            ],
            "type": "histogram2d"
           }
          ],
          "histogram2dcontour": [
           {
            "colorbar": {
             "outlinewidth": 0,
             "ticks": ""
            },
            "colorscale": [
             [
              0,
              "#0d0887"
             ],
             [
              0.1111111111111111,
              "#46039f"
             ],
             [
              0.2222222222222222,
              "#7201a8"
             ],
             [
              0.3333333333333333,
              "#9c179e"
             ],
             [
              0.4444444444444444,
              "#bd3786"
             ],
             [
              0.5555555555555556,
              "#d8576b"
             ],
             [
              0.6666666666666666,
              "#ed7953"
             ],
             [
              0.7777777777777778,
              "#fb9f3a"
             ],
             [
              0.8888888888888888,
              "#fdca26"
             ],
             [
              1,
              "#f0f921"
             ]
            ],
            "type": "histogram2dcontour"
           }
          ],
          "mesh3d": [
           {
            "colorbar": {
             "outlinewidth": 0,
             "ticks": ""
            },
            "type": "mesh3d"
           }
          ],
          "parcoords": [
           {
            "line": {
             "colorbar": {
              "outlinewidth": 0,
              "ticks": ""
             }
            },
            "type": "parcoords"
           }
          ],
          "pie": [
           {
            "automargin": true,
            "type": "pie"
           }
          ],
          "scatter": [
           {
            "marker": {
             "colorbar": {
              "outlinewidth": 0,
              "ticks": ""
             }
            },
            "type": "scatter"
           }
          ],
          "scatter3d": [
           {
            "line": {
             "colorbar": {
              "outlinewidth": 0,
              "ticks": ""
             }
            },
            "marker": {
             "colorbar": {
              "outlinewidth": 0,
              "ticks": ""
             }
            },
            "type": "scatter3d"
           }
          ],
          "scattercarpet": [
           {
            "marker": {
             "colorbar": {
              "outlinewidth": 0,
              "ticks": ""
             }
            },
            "type": "scattercarpet"
           }
          ],
          "scattergeo": [
           {
            "marker": {
             "colorbar": {
              "outlinewidth": 0,
              "ticks": ""
             }
            },
            "type": "scattergeo"
           }
          ],
          "scattergl": [
           {
            "marker": {
             "colorbar": {
              "outlinewidth": 0,
              "ticks": ""
             }
            },
            "type": "scattergl"
           }
          ],
          "scattermapbox": [
           {
            "marker": {
             "colorbar": {
              "outlinewidth": 0,
              "ticks": ""
             }
            },
            "type": "scattermapbox"
           }
          ],
          "scatterpolar": [
           {
            "marker": {
             "colorbar": {
              "outlinewidth": 0,
              "ticks": ""
             }
            },
            "type": "scatterpolar"
           }
          ],
          "scatterpolargl": [
           {
            "marker": {
             "colorbar": {
              "outlinewidth": 0,
              "ticks": ""
             }
            },
            "type": "scatterpolargl"
           }
          ],
          "scatterternary": [
           {
            "marker": {
             "colorbar": {
              "outlinewidth": 0,
              "ticks": ""
             }
            },
            "type": "scatterternary"
           }
          ],
          "surface": [
           {
            "colorbar": {
             "outlinewidth": 0,
             "ticks": ""
            },
            "colorscale": [
             [
              0,
              "#0d0887"
             ],
             [
              0.1111111111111111,
              "#46039f"
             ],
             [
              0.2222222222222222,
              "#7201a8"
             ],
             [
              0.3333333333333333,
              "#9c179e"
             ],
             [
              0.4444444444444444,
              "#bd3786"
             ],
             [
              0.5555555555555556,
              "#d8576b"
             ],
             [
              0.6666666666666666,
              "#ed7953"
             ],
             [
              0.7777777777777778,
              "#fb9f3a"
             ],
             [
              0.8888888888888888,
              "#fdca26"
             ],
             [
              1,
              "#f0f921"
             ]
            ],
            "type": "surface"
           }
          ],
          "table": [
           {
            "cells": {
             "fill": {
              "color": "#EBF0F8"
             },
             "line": {
              "color": "white"
             }
            },
            "header": {
             "fill": {
              "color": "#C8D4E3"
             },
             "line": {
              "color": "white"
             }
            },
            "type": "table"
           }
          ]
         },
         "layout": {
          "annotationdefaults": {
           "arrowcolor": "#2a3f5f",
           "arrowhead": 0,
           "arrowwidth": 1
          },
          "autotypenumbers": "strict",
          "coloraxis": {
           "colorbar": {
            "outlinewidth": 0,
            "ticks": ""
           }
          },
          "colorscale": {
           "diverging": [
            [
             0,
             "#8e0152"
            ],
            [
             0.1,
             "#c51b7d"
            ],
            [
             0.2,
             "#de77ae"
            ],
            [
             0.3,
             "#f1b6da"
            ],
            [
             0.4,
             "#fde0ef"
            ],
            [
             0.5,
             "#f7f7f7"
            ],
            [
             0.6,
             "#e6f5d0"
            ],
            [
             0.7,
             "#b8e186"
            ],
            [
             0.8,
             "#7fbc41"
            ],
            [
             0.9,
             "#4d9221"
            ],
            [
             1,
             "#276419"
            ]
           ],
           "sequential": [
            [
             0,
             "#0d0887"
            ],
            [
             0.1111111111111111,
             "#46039f"
            ],
            [
             0.2222222222222222,
             "#7201a8"
            ],
            [
             0.3333333333333333,
             "#9c179e"
            ],
            [
             0.4444444444444444,
             "#bd3786"
            ],
            [
             0.5555555555555556,
             "#d8576b"
            ],
            [
             0.6666666666666666,
             "#ed7953"
            ],
            [
             0.7777777777777778,
             "#fb9f3a"
            ],
            [
             0.8888888888888888,
             "#fdca26"
            ],
            [
             1,
             "#f0f921"
            ]
           ],
           "sequentialminus": [
            [
             0,
             "#0d0887"
            ],
            [
             0.1111111111111111,
             "#46039f"
            ],
            [
             0.2222222222222222,
             "#7201a8"
            ],
            [
             0.3333333333333333,
             "#9c179e"
            ],
            [
             0.4444444444444444,
             "#bd3786"
            ],
            [
             0.5555555555555556,
             "#d8576b"
            ],
            [
             0.6666666666666666,
             "#ed7953"
            ],
            [
             0.7777777777777778,
             "#fb9f3a"
            ],
            [
             0.8888888888888888,
             "#fdca26"
            ],
            [
             1,
             "#f0f921"
            ]
           ]
          },
          "colorway": [
           "#636efa",
           "#EF553B",
           "#00cc96",
           "#ab63fa",
           "#FFA15A",
           "#19d3f3",
           "#FF6692",
           "#B6E880",
           "#FF97FF",
           "#FECB52"
          ],
          "font": {
           "color": "#2a3f5f"
          },
          "geo": {
           "bgcolor": "white",
           "lakecolor": "white",
           "landcolor": "#E5ECF6",
           "showlakes": true,
           "showland": true,
           "subunitcolor": "white"
          },
          "hoverlabel": {
           "align": "left"
          },
          "hovermode": "closest",
          "mapbox": {
           "style": "light"
          },
          "paper_bgcolor": "white",
          "plot_bgcolor": "#E5ECF6",
          "polar": {
           "angularaxis": {
            "gridcolor": "white",
            "linecolor": "white",
            "ticks": ""
           },
           "bgcolor": "#E5ECF6",
           "radialaxis": {
            "gridcolor": "white",
            "linecolor": "white",
            "ticks": ""
           }
          },
          "scene": {
           "xaxis": {
            "backgroundcolor": "#E5ECF6",
            "gridcolor": "white",
            "gridwidth": 2,
            "linecolor": "white",
            "showbackground": true,
            "ticks": "",
            "zerolinecolor": "white"
           },
           "yaxis": {
            "backgroundcolor": "#E5ECF6",
            "gridcolor": "white",
            "gridwidth": 2,
            "linecolor": "white",
            "showbackground": true,
            "ticks": "",
            "zerolinecolor": "white"
           },
           "zaxis": {
            "backgroundcolor": "#E5ECF6",
            "gridcolor": "white",
            "gridwidth": 2,
            "linecolor": "white",
            "showbackground": true,
            "ticks": "",
            "zerolinecolor": "white"
           }
          },
          "shapedefaults": {
           "line": {
            "color": "#2a3f5f"
           }
          },
          "ternary": {
           "aaxis": {
            "gridcolor": "white",
            "linecolor": "white",
            "ticks": ""
           },
           "baxis": {
            "gridcolor": "white",
            "linecolor": "white",
            "ticks": ""
           },
           "bgcolor": "#E5ECF6",
           "caxis": {
            "gridcolor": "white",
            "linecolor": "white",
            "ticks": ""
           }
          },
          "title": {
           "x": 0.05
          },
          "xaxis": {
           "automargin": true,
           "gridcolor": "white",
           "linecolor": "white",
           "ticks": "",
           "title": {
            "standoff": 15
           },
           "zerolinecolor": "white",
           "zerolinewidth": 2
          },
          "yaxis": {
           "automargin": true,
           "gridcolor": "white",
           "linecolor": "white",
           "ticks": "",
           "title": {
            "standoff": 15
           },
           "zerolinecolor": "white",
           "zerolinewidth": 2
          }
         }
        },
        "title": {
         "text": "Parallel Coordinate Plot"
        }
       }
      }
     },
     "metadata": {},
     "output_type": "display_data"
    }
   ],
   "source": [
    "optuna.visualization.plot_parallel_coordinate(study)"
   ]
  },
  {
   "cell_type": "code",
   "execution_count": 28,
   "id": "75db1ddf",
   "metadata": {},
   "outputs": [
    {
     "name": "stdout",
     "output_type": "stream",
     "text": [
      "Best trial: {'C': 4.89891238197303, 'epsilon': 0.36513313573545114, 'kernel': 'rbf', 'degree': 1}\n"
     ]
    }
   ],
   "source": [
    "print(\"Best trial:\", study.best_trial.params)"
   ]
  },
  {
   "cell_type": "code",
   "execution_count": 29,
   "id": "862eadd2",
   "metadata": {},
   "outputs": [
    {
     "data": {
      "text/html": [
       "<style>#sk-container-id-1 {color: black;}#sk-container-id-1 pre{padding: 0;}#sk-container-id-1 div.sk-toggleable {background-color: white;}#sk-container-id-1 label.sk-toggleable__label {cursor: pointer;display: block;width: 100%;margin-bottom: 0;padding: 0.3em;box-sizing: border-box;text-align: center;}#sk-container-id-1 label.sk-toggleable__label-arrow:before {content: \"▸\";float: left;margin-right: 0.25em;color: #696969;}#sk-container-id-1 label.sk-toggleable__label-arrow:hover:before {color: black;}#sk-container-id-1 div.sk-estimator:hover label.sk-toggleable__label-arrow:before {color: black;}#sk-container-id-1 div.sk-toggleable__content {max-height: 0;max-width: 0;overflow: hidden;text-align: left;background-color: #f0f8ff;}#sk-container-id-1 div.sk-toggleable__content pre {margin: 0.2em;color: black;border-radius: 0.25em;background-color: #f0f8ff;}#sk-container-id-1 input.sk-toggleable__control:checked~div.sk-toggleable__content {max-height: 200px;max-width: 100%;overflow: auto;}#sk-container-id-1 input.sk-toggleable__control:checked~label.sk-toggleable__label-arrow:before {content: \"▾\";}#sk-container-id-1 div.sk-estimator input.sk-toggleable__control:checked~label.sk-toggleable__label {background-color: #d4ebff;}#sk-container-id-1 div.sk-label input.sk-toggleable__control:checked~label.sk-toggleable__label {background-color: #d4ebff;}#sk-container-id-1 input.sk-hidden--visually {border: 0;clip: rect(1px 1px 1px 1px);clip: rect(1px, 1px, 1px, 1px);height: 1px;margin: -1px;overflow: hidden;padding: 0;position: absolute;width: 1px;}#sk-container-id-1 div.sk-estimator {font-family: monospace;background-color: #f0f8ff;border: 1px dotted black;border-radius: 0.25em;box-sizing: border-box;margin-bottom: 0.5em;}#sk-container-id-1 div.sk-estimator:hover {background-color: #d4ebff;}#sk-container-id-1 div.sk-parallel-item::after {content: \"\";width: 100%;border-bottom: 1px solid gray;flex-grow: 1;}#sk-container-id-1 div.sk-label:hover label.sk-toggleable__label {background-color: #d4ebff;}#sk-container-id-1 div.sk-serial::before {content: \"\";position: absolute;border-left: 1px solid gray;box-sizing: border-box;top: 0;bottom: 0;left: 50%;z-index: 0;}#sk-container-id-1 div.sk-serial {display: flex;flex-direction: column;align-items: center;background-color: white;padding-right: 0.2em;padding-left: 0.2em;position: relative;}#sk-container-id-1 div.sk-item {position: relative;z-index: 1;}#sk-container-id-1 div.sk-parallel {display: flex;align-items: stretch;justify-content: center;background-color: white;position: relative;}#sk-container-id-1 div.sk-item::before, #sk-container-id-1 div.sk-parallel-item::before {content: \"\";position: absolute;border-left: 1px solid gray;box-sizing: border-box;top: 0;bottom: 0;left: 50%;z-index: -1;}#sk-container-id-1 div.sk-parallel-item {display: flex;flex-direction: column;z-index: 1;position: relative;background-color: white;}#sk-container-id-1 div.sk-parallel-item:first-child::after {align-self: flex-end;width: 50%;}#sk-container-id-1 div.sk-parallel-item:last-child::after {align-self: flex-start;width: 50%;}#sk-container-id-1 div.sk-parallel-item:only-child::after {width: 0;}#sk-container-id-1 div.sk-dashed-wrapped {border: 1px dashed gray;margin: 0 0.4em 0.5em 0.4em;box-sizing: border-box;padding-bottom: 0.4em;background-color: white;}#sk-container-id-1 div.sk-label label {font-family: monospace;font-weight: bold;display: inline-block;line-height: 1.2em;}#sk-container-id-1 div.sk-label-container {text-align: center;}#sk-container-id-1 div.sk-container {/* jupyter's `normalize.less` sets `[hidden] { display: none; }` but bootstrap.min.css set `[hidden] { display: none !important; }` so we also need the `!important` here to be able to override the default hidden behavior on the sphinx rendered scikit-learn.org. See: https://github.com/scikit-learn/scikit-learn/issues/21755 */display: inline-block !important;position: relative;}#sk-container-id-1 div.sk-text-repr-fallback {display: none;}</style><div id=\"sk-container-id-1\" class=\"sk-top-container\"><div class=\"sk-text-repr-fallback\"><pre>SVR(C=4.89891238197303, degree=1, epsilon=0.36513313573545114)</pre><b>In a Jupyter environment, please rerun this cell to show the HTML representation or trust the notebook. <br />On GitHub, the HTML representation is unable to render, please try loading this page with nbviewer.org.</b></div><div class=\"sk-container\" hidden><div class=\"sk-item\"><div class=\"sk-estimator sk-toggleable\"><input class=\"sk-toggleable__control sk-hidden--visually\" id=\"sk-estimator-id-1\" type=\"checkbox\" checked><label for=\"sk-estimator-id-1\" class=\"sk-toggleable__label sk-toggleable__label-arrow\">SVR</label><div class=\"sk-toggleable__content\"><pre>SVR(C=4.89891238197303, degree=1, epsilon=0.36513313573545114)</pre></div></div></div></div></div>"
      ],
      "text/plain": [
       "SVR(C=4.89891238197303, degree=1, epsilon=0.36513313573545114)"
      ]
     },
     "execution_count": 29,
     "metadata": {},
     "output_type": "execute_result"
    }
   ],
   "source": [
    "svm_params = {\n",
    "    \"C\": study.best_trial.params[\"C\"],\n",
    "    \"epsilon\": study.best_trial.params[\"epsilon\"],\n",
    "    \"kernel\": study.best_trial.params[\"kernel\"],\n",
    "    \"degree\": study.best_trial.params[\"degree\"]\n",
    "}\n",
    "\n",
    "svm = SVR(**svm_params)\n",
    "svm.fit(As_X_train, As_y_train)"
   ]
  },
  {
   "cell_type": "code",
   "execution_count": 30,
   "id": "8577fb37",
   "metadata": {},
   "outputs": [],
   "source": [
    "y_train_pred = svm.predict(As_X_train)\n",
    "y_test_pred = svm.predict(As_X_test)"
   ]
  },
  {
   "cell_type": "code",
   "execution_count": 31,
   "id": "2ea0526a",
   "metadata": {},
   "outputs": [],
   "source": [
    "# plt.scatter(y_train_pred, np.array(As_y_train))"
   ]
  },
  {
   "cell_type": "code",
   "execution_count": 32,
   "id": "d2a4dd85",
   "metadata": {},
   "outputs": [
    {
     "name": "stdout",
     "output_type": "stream",
     "text": [
      "Train RMSE:  0.537695646394691\n",
      "Test RMSE:  0.6968090503004354\n"
     ]
    }
   ],
   "source": [
    "print(\"Train RMSE: \", np.sqrt(mean_squared_error(As_y_train, y_train_pred)))\n",
    "print(\"Test RMSE: \", np.sqrt(mean_squared_error(As_y_test, y_test_pred)))"
   ]
  },
  {
   "cell_type": "code",
   "execution_count": 33,
   "id": "08fe787a",
   "metadata": {},
   "outputs": [
    {
     "name": "stdout",
     "output_type": "stream",
     "text": [
      "Train R2:  0.6442188562689908\n",
      "Test R2:  0.39537009440556714\n"
     ]
    }
   ],
   "source": [
    "print(\"Train R2: \", r2_score(As_y_train, y_train_pred))\n",
    "print(\"Test R2: \", r2_score(As_y_test, y_test_pred))"
   ]
  },
  {
   "cell_type": "code",
   "execution_count": 34,
   "id": "5ec4820c",
   "metadata": {},
   "outputs": [
    {
     "data": {
      "image/png": "[encoded data removed]",
      "text/plain": [
       "<Figure size 640x480 with 1 Axes>"
      ]
     },
     "metadata": {},
     "output_type": "display_data"
    }
   ],
   "source": [
    "plt.scatter(y_train_pred, np.array(As_y_train), color=\"orange\", alpha=0.3)\n",
    "plt.scatter(y_test_pred, np.array(As_y_test), color=\"green\", alpha=0.4)\n",
    "plt.axis(\"auto\") # scaled, tight, auto, image, square\n",
    "# plt.xlim([0, 1.5]) \n",
    "# plt.ylim(0, None) \n",
    "plt.xlabel('Predicted Values')\n",
    "plt.ylabel('Actual Values')\n",
    "\n",
    "# Add y=x line\n",
    "plt.plot([0, 2.0], [0, 2.0], color='red', linestyle='-')\n",
    "\n",
    "plt.show()"
   ]
  },
  {
   "attachments": {},
   "cell_type": "markdown",
   "id": "e0507d63",
   "metadata": {},
   "source": [
    "Cd"
   ]
  },
  {
   "attachments": {},
   "cell_type": "markdown",
   "id": "f8f809d9",
   "metadata": {},
   "source": [
    "Optimization"
   ]
  },
  {
   "cell_type": "code",
   "execution_count": 35,
   "id": "b7aeaf0a",
   "metadata": {},
   "outputs": [
    {
     "name": "stderr",
     "output_type": "stream",
     "text": [
      "\u001b[32m[I 2023-08-24 14:32:23,265]\u001b[0m A new study created in memory with name: svm_parameter_opt\u001b[0m\n",
      "\u001b[32m[I 2023-08-24 14:32:23,354]\u001b[0m Trial 0 finished with value: -0.008298568081250046 and parameters: {'C': 0.19797311902252507, 'epsilon': 0.01973943152038071, 'kernel': 'poly', 'degree': 5}. Best is trial 0 with value: -0.008298568081250046.\u001b[0m\n",
      "\u001b[32m[I 2023-08-24 14:32:23,529]\u001b[0m Trial 1 finished with value: -0.5933177038023626 and parameters: {'C': 3.3271412163577607, 'epsilon': 0.03814654009251565, 'kernel': 'poly', 'degree': 5}. Best is trial 0 with value: -0.008298568081250046.\u001b[0m\n",
      "\u001b[32m[I 2023-08-24 14:32:23,541]\u001b[0m Trial 2 finished with value: -0.4072942131459957 and parameters: {'C': 0.9365163004727649, 'epsilon': 0.6455879462352787, 'kernel': 'poly', 'degree': 3}. Best is trial 0 with value: -0.008298568081250046.\u001b[0m\n",
      "\u001b[32m[I 2023-08-24 14:32:23,632]\u001b[0m Trial 3 finished with value: 0.18810937316044649 and parameters: {'C': 0.2426301781559355, 'epsilon': 0.01544596036043487, 'kernel': 'poly', 'degree': 4}. Best is trial 3 with value: 0.18810937316044649.\u001b[0m\n",
      "\u001b[32m[I 2023-08-24 14:32:23,717]\u001b[0m Trial 4 finished with value: 0.4435005112311588 and parameters: {'C': 0.28664489280765654, 'epsilon': 0.12601002923768406, 'kernel': 'rbf', 'degree': 5}. Best is trial 4 with value: 0.4435005112311588.\u001b[0m\n",
      "\u001b[32m[I 2023-08-24 14:32:23,856]\u001b[0m Trial 5 finished with value: 0.4137733820957695 and parameters: {'C': 2.7390576863798803, 'epsilon': 0.01860202665727757, 'kernel': 'rbf', 'degree': 2}. Best is trial 4 with value: 0.4435005112311588.\u001b[0m\n",
      "\u001b[32m[I 2023-08-24 14:32:24,083]\u001b[0m Trial 6 finished with value: 0.13722929763936378 and parameters: {'C': 0.9326346158373007, 'epsilon': 0.08578674112751318, 'kernel': 'linear', 'degree': 4}. Best is trial 4 with value: 0.4435005112311588.\u001b[0m\n",
      "\u001b[32m[I 2023-08-24 14:32:24,273]\u001b[0m Trial 7 finished with value: 0.35833105066429194 and parameters: {'C': 10.61409631634159, 'epsilon': 0.018532184163271685, 'kernel': 'rbf', 'degree': 3}. Best is trial 4 with value: 0.4435005112311588.\u001b[0m\n",
      "\u001b[32m[I 2023-08-24 14:32:24,374]\u001b[0m Trial 8 finished with value: 0.20438321661774492 and parameters: {'C': 1.1796244887474199, 'epsilon': 0.019041722867938624, 'kernel': 'poly', 'degree': 2}. Best is trial 4 with value: 0.4435005112311588.\u001b[0m\n",
      "\u001b[32m[I 2023-08-24 14:32:24,511]\u001b[0m Trial 9 finished with value: 0.32923923935000465 and parameters: {'C': 16.364391581778516, 'epsilon': 0.08416707515904917, 'kernel': 'rbf', 'degree': 1}. Best is trial 4 with value: 0.4435005112311588.\u001b[0m\n",
      "\u001b[32m[I 2023-08-24 14:32:26,205]\u001b[0m Trial 10 finished with value: 0.03786550199954457 and parameters: {'C': 60.408491072523155, 'epsilon': 0.41080006246414086, 'kernel': 'linear', 'degree': 4}. Best is trial 4 with value: 0.4435005112311588.\u001b[0m\n",
      "\u001b[32m[I 2023-08-24 14:32:26,241]\u001b[0m Trial 11 finished with value: 0.1875289345317799 and parameters: {'C': 0.11121616774112661, 'epsilon': 0.32556917037011635, 'kernel': 'rbf', 'degree': 1}. Best is trial 4 with value: 0.4435005112311588.\u001b[0m\n",
      "\u001b[32m[I 2023-08-24 14:32:26,316]\u001b[0m Trial 12 finished with value: 0.430880224393608 and parameters: {'C': 3.5784504542703894, 'epsilon': 0.17753732973651046, 'kernel': 'rbf', 'degree': 2}. Best is trial 4 with value: 0.4435005112311588.\u001b[0m\n",
      "\u001b[32m[I 2023-08-24 14:32:26,401]\u001b[0m Trial 13 finished with value: 0.3719031408679894 and parameters: {'C': 10.55910190088126, 'epsilon': 0.19196453522243231, 'kernel': 'rbf', 'degree': 2}. Best is trial 4 with value: 0.4435005112311588.\u001b[0m\n",
      "\u001b[32m[I 2023-08-24 14:32:26,501]\u001b[0m Trial 14 finished with value: 0.44289079475982207 and parameters: {'C': 3.4705516795664226, 'epsilon': 0.15606613082870335, 'kernel': 'rbf', 'degree': 2}. Best is trial 4 with value: 0.4435005112311588.\u001b[0m\n",
      "\u001b[32m[I 2023-08-24 14:32:26,569]\u001b[0m Trial 15 finished with value: 0.4465342467400914 and parameters: {'C': 0.3555843216110804, 'epsilon': 0.13620367991362467, 'kernel': 'rbf', 'degree': 5}. Best is trial 15 with value: 0.4465342467400914.\u001b[0m\n",
      "\u001b[32m[I 2023-08-24 14:32:26,679]\u001b[0m Trial 16 finished with value: 0.44552329453713585 and parameters: {'C': 0.391999182300666, 'epsilon': 0.046886231505453665, 'kernel': 'rbf', 'degree': 5}. Best is trial 15 with value: 0.4465342467400914.\u001b[0m\n",
      "\u001b[32m[I 2023-08-24 14:32:26,902]\u001b[0m Trial 17 finished with value: 0.1214945675158989 and parameters: {'C': 0.4930611020258965, 'epsilon': 0.04442965362968622, 'kernel': 'linear', 'degree': 5}. Best is trial 15 with value: 0.4465342467400914.\u001b[0m\n",
      "\u001b[32m[I 2023-08-24 14:32:27,002]\u001b[0m Trial 18 finished with value: 0.4042958624539509 and parameters: {'C': 0.11505746547611319, 'epsilon': 0.04548945595626935, 'kernel': 'rbf', 'degree': 4}. Best is trial 15 with value: 0.4465342467400914.\u001b[0m\n",
      "\u001b[32m[I 2023-08-24 14:32:27,113]\u001b[0m Trial 19 finished with value: 0.4475965014823841 and parameters: {'C': 0.5535736819870417, 'epsilon': 0.05735692549991334, 'kernel': 'rbf', 'degree': 5}. Best is trial 19 with value: 0.4475965014823841.\u001b[0m\n",
      "\u001b[32m[I 2023-08-24 14:32:27,357]\u001b[0m Trial 20 finished with value: 0.12795836001533822 and parameters: {'C': 0.6381405099977127, 'epsilon': 0.06964043520218847, 'kernel': 'linear', 'degree': 4}. Best is trial 19 with value: 0.4475965014823841.\u001b[0m\n",
      "\u001b[32m[I 2023-08-24 14:32:27,445]\u001b[0m Trial 21 finished with value: 0.4466117662973246 and parameters: {'C': 0.4653005563825769, 'epsilon': 0.060007660955190195, 'kernel': 'rbf', 'degree': 5}. Best is trial 19 with value: 0.4475965014823841.\u001b[0m\n",
      "\u001b[32m[I 2023-08-24 14:32:27,486]\u001b[0m Trial 22 finished with value: 0.30588252853350484 and parameters: {'C': 1.7136821907332724, 'epsilon': 0.2944832126457836, 'kernel': 'rbf', 'degree': 5}. Best is trial 19 with value: 0.4475965014823841.\u001b[0m\n",
      "\u001b[32m[I 2023-08-24 14:32:27,572]\u001b[0m Trial 23 finished with value: 0.43039258092191107 and parameters: {'C': 0.19199590258318852, 'epsilon': 0.029469111052931908, 'kernel': 'rbf', 'degree': 5}. Best is trial 19 with value: 0.4475965014823841.\u001b[0m\n",
      "\u001b[32m[I 2023-08-24 14:32:27,654]\u001b[0m Trial 24 finished with value: 0.4509204080089749 and parameters: {'C': 0.5770944829504104, 'epsilon': 0.06832645818125294, 'kernel': 'rbf', 'degree': 4}. Best is trial 24 with value: 0.4509204080089749.\u001b[0m\n",
      "\u001b[32m[I 2023-08-24 14:32:27,747]\u001b[0m Trial 25 finished with value: 0.44634483194812535 and parameters: {'C': 1.7229319980865274, 'epsilon': 0.07116080918885569, 'kernel': 'rbf', 'degree': 4}. Best is trial 24 with value: 0.4509204080089749.\u001b[0m\n",
      "\u001b[32m[I 2023-08-24 14:32:27,859]\u001b[0m Trial 26 finished with value: 0.4430824198877201 and parameters: {'C': 0.6585885089647644, 'epsilon': 0.011313114369234186, 'kernel': 'rbf', 'degree': 4}. Best is trial 24 with value: 0.4509204080089749.\u001b[0m\n",
      "\u001b[32m[I 2023-08-24 14:32:27,969]\u001b[0m Trial 27 finished with value: 0.4327949900257616 and parameters: {'C': 1.3683651553603, 'epsilon': 0.03198861589600536, 'kernel': 'rbf', 'degree': 3}. Best is trial 24 with value: 0.4509204080089749.\u001b[0m\n",
      "\u001b[32m[I 2023-08-24 14:32:28,039]\u001b[0m Trial 28 finished with value: 0.462205795349717 and parameters: {'C': 0.5641676422710824, 'epsilon': 0.1047182122789893, 'kernel': 'rbf', 'degree': 3}. Best is trial 28 with value: 0.462205795349717.\u001b[0m\n",
      "\u001b[32m[I 2023-08-24 14:32:28,132]\u001b[0m Trial 29 finished with value: 0.14546606816057037 and parameters: {'C': 0.17687647412193824, 'epsilon': 0.10549812243971872, 'kernel': 'linear', 'degree': 3}. Best is trial 28 with value: 0.462205795349717.\u001b[0m\n",
      "\u001b[32m[I 2023-08-24 14:32:28,206]\u001b[0m Trial 30 finished with value: 0.046077164253910265 and parameters: {'C': 5.275280163682635, 'epsilon': 0.2313451432880837, 'kernel': 'poly', 'degree': 3}. Best is trial 28 with value: 0.462205795349717.\u001b[0m\n",
      "\u001b[32m[I 2023-08-24 14:32:28,295]\u001b[0m Trial 31 finished with value: 0.4486081891257651 and parameters: {'C': 0.5710830320217875, 'epsilon': 0.061202217052278705, 'kernel': 'rbf', 'degree': 5}. Best is trial 28 with value: 0.462205795349717.\u001b[0m\n",
      "\u001b[32m[I 2023-08-24 14:32:28,391]\u001b[0m Trial 32 finished with value: 0.4458308898555396 and parameters: {'C': 0.7730076452487671, 'epsilon': 0.05427554629301991, 'kernel': 'rbf', 'degree': 4}. Best is trial 28 with value: 0.462205795349717.\u001b[0m\n",
      "\u001b[32m[I 2023-08-24 14:32:28,487]\u001b[0m Trial 33 finished with value: 0.449177086061406 and parameters: {'C': 0.5411569408903263, 'epsilon': 0.028870331631116505, 'kernel': 'rbf', 'degree': 3}. Best is trial 28 with value: 0.462205795349717.\u001b[0m\n",
      "\u001b[32m[I 2023-08-24 14:32:28,648]\u001b[0m Trial 34 finished with value: 0.02311148424527454 and parameters: {'C': 2.1404295845871752, 'epsilon': 0.028048051846754796, 'kernel': 'poly', 'degree': 3}. Best is trial 28 with value: 0.462205795349717.\u001b[0m\n",
      "\u001b[32m[I 2023-08-24 14:32:28,711]\u001b[0m Trial 35 finished with value: 0.441724402121331 and parameters: {'C': 0.26814734773890736, 'epsilon': 0.1046609414106188, 'kernel': 'rbf', 'degree': 3}. Best is trial 28 with value: 0.462205795349717.\u001b[0m\n",
      "\u001b[32m[I 2023-08-24 14:32:28,821]\u001b[0m Trial 36 finished with value: 0.44135269691772006 and parameters: {'C': 0.912772820208109, 'epsilon': 0.03524245255039986, 'kernel': 'rbf', 'degree': 3}. Best is trial 28 with value: 0.462205795349717.\u001b[0m\n",
      "\u001b[32m[I 2023-08-24 14:32:28,907]\u001b[0m Trial 37 finished with value: 0.17533402840818887 and parameters: {'C': 0.3200134514642201, 'epsilon': 0.02470479997872507, 'kernel': 'poly', 'degree': 4}. Best is trial 28 with value: 0.462205795349717.\u001b[0m\n",
      "\u001b[32m[I 2023-08-24 14:32:28,921]\u001b[0m Trial 38 finished with value: -0.4072942131459957 and parameters: {'C': 0.1506931988042976, 'epsilon': 0.5816972461683378, 'kernel': 'rbf', 'degree': 3}. Best is trial 28 with value: 0.462205795349717.\u001b[0m\n",
      "\u001b[32m[I 2023-08-24 14:32:28,991]\u001b[0m Trial 39 finished with value: 0.43222969366543335 and parameters: {'C': 0.22961908660697516, 'epsilon': 0.08932764991745759, 'kernel': 'rbf', 'degree': 4}. Best is trial 28 with value: 0.462205795349717.\u001b[0m\n",
      "\u001b[32m[I 2023-08-24 14:32:29,109]\u001b[0m Trial 40 finished with value: 0.427803274798352 and parameters: {'C': 1.2328538820266275, 'epsilon': 0.010746922213653271, 'kernel': 'rbf', 'degree': 2}. Best is trial 28 with value: 0.462205795349717.\u001b[0m\n",
      "\u001b[32m[I 2023-08-24 14:32:29,198]\u001b[0m Trial 41 finished with value: 0.44895675451521144 and parameters: {'C': 0.5793633919602081, 'epsilon': 0.06331245739505702, 'kernel': 'rbf', 'degree': 5}. Best is trial 28 with value: 0.462205795349717.\u001b[0m\n",
      "\u001b[32m[I 2023-08-24 14:32:29,265]\u001b[0m Trial 42 finished with value: 0.46100983747013374 and parameters: {'C': 0.7494084617153931, 'epsilon': 0.12801196055837133, 'kernel': 'rbf', 'degree': 5}. Best is trial 28 with value: 0.462205795349717.\u001b[0m\n",
      "\u001b[32m[I 2023-08-24 14:32:29,332]\u001b[0m Trial 43 finished with value: 0.4630825434192321 and parameters: {'C': 0.9107110022500322, 'epsilon': 0.12706093860354611, 'kernel': 'rbf', 'degree': 3}. Best is trial 43 with value: 0.4630825434192321.\u001b[0m\n",
      "\u001b[32m[I 2023-08-24 14:32:29,400]\u001b[0m Trial 44 finished with value: 0.46313796677106545 and parameters: {'C': 0.875182041375404, 'epsilon': 0.12362175625357873, 'kernel': 'rbf', 'degree': 3}. Best is trial 44 with value: 0.46313796677106545.\u001b[0m\n",
      "\u001b[32m[I 2023-08-24 14:32:29,475]\u001b[0m Trial 45 finished with value: 0.2446834254783048 and parameters: {'C': 1.0299356072265544, 'epsilon': 0.12631950535787567, 'kernel': 'poly', 'degree': 3}. Best is trial 44 with value: 0.46313796677106545.\u001b[0m\n",
      "\u001b[32m[I 2023-08-24 14:32:29,799]\u001b[0m Trial 46 finished with value: 0.16749721471013446 and parameters: {'C': 2.2806109390519533, 'epsilon': 0.1956082494378331, 'kernel': 'linear', 'degree': 3}. Best is trial 44 with value: 0.46313796677106545.\u001b[0m\n",
      "\u001b[32m[I 2023-08-24 14:32:29,887]\u001b[0m Trial 47 finished with value: 0.11655304414352811 and parameters: {'C': 77.34397291166069, 'epsilon': 0.23276242233407135, 'kernel': 'rbf', 'degree': 2}. Best is trial 44 with value: 0.46313796677106545.\u001b[0m\n",
      "\u001b[32m[I 2023-08-24 14:32:29,901]\u001b[0m Trial 48 finished with value: -0.4072942131459957 and parameters: {'C': 5.124239980869779, 'epsilon': 0.969184739521214, 'kernel': 'rbf', 'degree': 4}. Best is trial 44 with value: 0.46313796677106545.\u001b[0m\n",
      "\u001b[32m[I 2023-08-24 14:32:29,962]\u001b[0m Trial 49 finished with value: 0.45967659957710294 and parameters: {'C': 0.8482562914724556, 'epsilon': 0.1494883121903883, 'kernel': 'rbf', 'degree': 2}. Best is trial 44 with value: 0.46313796677106545.\u001b[0m\n",
      "\u001b[32m[I 2023-08-24 14:32:30,021]\u001b[0m Trial 50 finished with value: 0.45553429187933236 and parameters: {'C': 0.8243073594991759, 'epsilon': 0.15952953878247544, 'kernel': 'rbf', 'degree': 2}. Best is trial 44 with value: 0.46313796677106545.\u001b[0m\n",
      "\u001b[32m[I 2023-08-24 14:32:30,096]\u001b[0m Trial 51 finished with value: 0.4555048840877838 and parameters: {'C': 1.5575668036870198, 'epsilon': 0.15249837501315605, 'kernel': 'rbf', 'degree': 1}. Best is trial 44 with value: 0.46313796677106545.\u001b[0m\n",
      "\u001b[32m[I 2023-08-24 14:32:30,164]\u001b[0m Trial 52 finished with value: 0.4613309956923629 and parameters: {'C': 1.0730206257215142, 'epsilon': 0.12283277712609834, 'kernel': 'rbf', 'degree': 2}. Best is trial 44 with value: 0.46313796677106545.\u001b[0m\n",
      "\u001b[32m[I 2023-08-24 14:32:30,227]\u001b[0m Trial 53 finished with value: 0.4525644508940606 and parameters: {'C': 0.39875545980660265, 'epsilon': 0.11783520745946824, 'kernel': 'rbf', 'degree': 2}. Best is trial 44 with value: 0.46313796677106545.\u001b[0m\n",
      "\u001b[32m[I 2023-08-24 14:32:30,311]\u001b[0m Trial 54 finished with value: 0.45732061517119205 and parameters: {'C': 1.0733683360316029, 'epsilon': 0.08358027865572154, 'kernel': 'rbf', 'degree': 1}. Best is trial 44 with value: 0.46313796677106545.\u001b[0m\n",
      "\u001b[32m[I 2023-08-24 14:32:30,400]\u001b[0m Trial 55 finished with value: 0.45017957061673997 and parameters: {'C': 2.65459015682504, 'epsilon': 0.13148044291561475, 'kernel': 'rbf', 'degree': 2}. Best is trial 44 with value: 0.46313796677106545.\u001b[0m\n",
      "\u001b[32m[I 2023-08-24 14:32:34,028]\u001b[0m Trial 56 finished with value: 0.17379244976729663 and parameters: {'C': 40.05212917687574, 'epsilon': 0.22310626915938225, 'kernel': 'linear', 'degree': 2}. Best is trial 44 with value: 0.46313796677106545.\u001b[0m\n",
      "\u001b[32m[I 2023-08-24 14:32:34,100]\u001b[0m Trial 57 finished with value: 0.4611744522610507 and parameters: {'C': 0.7414029198391995, 'epsilon': 0.09391741937065715, 'kernel': 'rbf', 'degree': 2}. Best is trial 44 with value: 0.46313796677106545.\u001b[0m\n",
      "\u001b[32m[I 2023-08-24 14:32:34,166]\u001b[0m Trial 58 finished with value: 0.4580512324916123 and parameters: {'C': 0.4142448409140895, 'epsilon': 0.10437086455391485, 'kernel': 'rbf', 'degree': 3}. Best is trial 44 with value: 0.46313796677106545.\u001b[0m\n",
      "\u001b[32m[I 2023-08-24 14:32:34,260]\u001b[0m Trial 59 finished with value: 0.45974137061678677 and parameters: {'C': 0.7387719703354639, 'epsilon': 0.08643569100639957, 'kernel': 'rbf', 'degree': 1}. Best is trial 44 with value: 0.46313796677106545.\u001b[0m\n",
      "\u001b[32m[I 2023-08-24 14:32:34,307]\u001b[0m Trial 60 finished with value: 0.280564603894677 and parameters: {'C': 1.1991307958076212, 'epsilon': 0.28851004902908134, 'kernel': 'poly', 'degree': 2}. Best is trial 44 with value: 0.46313796677106545.\u001b[0m\n",
      "\u001b[32m[I 2023-08-24 14:32:34,368]\u001b[0m Trial 61 finished with value: 0.4442224895315838 and parameters: {'C': 0.7506873641369562, 'epsilon': 0.17677461593190294, 'kernel': 'rbf', 'degree': 1}. Best is trial 44 with value: 0.46313796677106545.\u001b[0m\n",
      "\u001b[32m[I 2023-08-24 14:32:34,441]\u001b[0m Trial 62 finished with value: 0.4441303605617731 and parameters: {'C': 0.32535008389770187, 'epsilon': 0.07986717404575695, 'kernel': 'rbf', 'degree': 1}. Best is trial 44 with value: 0.46313796677106545.\u001b[0m\n",
      "\u001b[32m[I 2023-08-24 14:32:34,531]\u001b[0m Trial 63 finished with value: 0.45278839426720213 and parameters: {'C': 1.8495538841266181, 'epsilon': 0.09548596567033266, 'kernel': 'rbf', 'degree': 1}. Best is trial 44 with value: 0.46313796677106545.\u001b[0m\n",
      "\u001b[32m[I 2023-08-24 14:32:34,614]\u001b[0m Trial 64 finished with value: 0.4587945596063291 and parameters: {'C': 1.337068518170972, 'epsilon': 0.11142094413653153, 'kernel': 'rbf', 'degree': 3}. Best is trial 44 with value: 0.46313796677106545.\u001b[0m\n",
      "\u001b[32m[I 2023-08-24 14:32:34,678]\u001b[0m Trial 65 finished with value: 0.46085236724468714 and parameters: {'C': 0.7207374688419441, 'epsilon': 0.13330949680771803, 'kernel': 'rbf', 'degree': 1}. Best is trial 44 with value: 0.46313796677106545.\u001b[0m\n",
      "\u001b[32m[I 2023-08-24 14:32:34,741]\u001b[0m Trial 66 finished with value: 0.45165796069081 and parameters: {'C': 0.4211100478700581, 'epsilon': 0.13164318000133027, 'kernel': 'rbf', 'degree': 2}. Best is trial 44 with value: 0.46313796677106545.\u001b[0m\n",
      "\u001b[32m[I 2023-08-24 14:32:34,854]\u001b[0m Trial 67 finished with value: 0.44161890968850326 and parameters: {'C': 4.592953688133164, 'epsilon': 0.07675774350118358, 'kernel': 'rbf', 'degree': 3}. Best is trial 44 with value: 0.46313796677106545.\u001b[0m\n",
      "\u001b[32m[I 2023-08-24 14:32:35,041]\u001b[0m Trial 68 finished with value: 0.16204003463890582 and parameters: {'C': 0.985740689262259, 'epsilon': 0.17149968741558075, 'kernel': 'linear', 'degree': 3}. Best is trial 44 with value: 0.46313796677106545.\u001b[0m\n",
      "\u001b[32m[I 2023-08-24 14:32:35,102]\u001b[0m Trial 69 finished with value: 0.4595272987274259 and parameters: {'C': 0.6770036515024141, 'epsilon': 0.1373025561013284, 'kernel': 'rbf', 'degree': 1}. Best is trial 44 with value: 0.46313796677106545.\u001b[0m\n",
      "\u001b[32m[I 2023-08-24 14:32:35,150]\u001b[0m Trial 70 finished with value: 0.405286111497314 and parameters: {'C': 0.49305728548345923, 'epsilon': 0.20484167184781385, 'kernel': 'rbf', 'degree': 3}. Best is trial 44 with value: 0.46313796677106545.\u001b[0m\n",
      "\u001b[32m[I 2023-08-24 14:32:35,245]\u001b[0m Trial 71 finished with value: 0.44648562146477094 and parameters: {'C': 0.7464215308384083, 'epsilon': 0.051900554693651145, 'kernel': 'rbf', 'degree': 1}. Best is trial 44 with value: 0.46313796677106545.\u001b[0m\n",
      "\u001b[32m[I 2023-08-24 14:32:35,327]\u001b[0m Trial 72 finished with value: 0.4554837835830353 and parameters: {'C': 1.4121507912692912, 'epsilon': 0.08859077165168575, 'kernel': 'rbf', 'degree': 1}. Best is trial 44 with value: 0.46313796677106545.\u001b[0m\n",
      "\u001b[32m[I 2023-08-24 14:32:35,403]\u001b[0m Trial 73 finished with value: 0.46041772689083693 and parameters: {'C': 1.0621693934612133, 'epsilon': 0.09527034048309918, 'kernel': 'rbf', 'degree': 1}. Best is trial 44 with value: 0.46313796677106545.\u001b[0m\n",
      "\u001b[32m[I 2023-08-24 14:32:35,484]\u001b[0m Trial 74 finished with value: 0.4502005334208928 and parameters: {'C': 1.9753676671767089, 'epsilon': 0.11327258606697055, 'kernel': 'rbf', 'degree': 1}. Best is trial 44 with value: 0.46313796677106545.\u001b[0m\n",
      "\u001b[32m[I 2023-08-24 14:32:35,558]\u001b[0m Trial 75 finished with value: 0.460772809329271 and parameters: {'C': 0.9711567323352225, 'epsilon': 0.10186581580116506, 'kernel': 'rbf', 'degree': 2}. Best is trial 44 with value: 0.46313796677106545.\u001b[0m\n",
      "\u001b[32m[I 2023-08-24 14:32:35,657]\u001b[0m Trial 76 finished with value: 0.44555056505881313 and parameters: {'C': 2.836777439283091, 'epsilon': 0.07275136748469412, 'kernel': 'rbf', 'degree': 2}. Best is trial 44 with value: 0.46313796677106545.\u001b[0m\n",
      "\u001b[32m[I 2023-08-24 14:32:35,715]\u001b[0m Trial 77 finished with value: 0.4496156968705975 and parameters: {'C': 0.48296971263881294, 'epsilon': 0.14729563336186846, 'kernel': 'rbf', 'degree': 2}. Best is trial 44 with value: 0.46313796677106545.\u001b[0m\n",
      "\u001b[32m[I 2023-08-24 14:32:35,751]\u001b[0m Trial 78 finished with value: 0.2596374201129342 and parameters: {'C': 0.24981517932343014, 'epsilon': 0.2641513489273009, 'kernel': 'poly', 'degree': 2}. Best is trial 44 with value: 0.46313796677106545.\u001b[0m\n",
      "\u001b[32m[I 2023-08-24 14:32:35,827]\u001b[0m Trial 79 finished with value: 0.4562588862125252 and parameters: {'C': 1.5449007730381359, 'epsilon': 0.11643337092848802, 'kernel': 'rbf', 'degree': 3}. Best is trial 44 with value: 0.46313796677106545.\u001b[0m\n",
      "\u001b[32m[I 2023-08-24 14:32:35,882]\u001b[0m Trial 80 finished with value: 0.44581152091774356 and parameters: {'C': 0.6322668606039846, 'epsilon': 0.1720055721682695, 'kernel': 'rbf', 'degree': 2}. Best is trial 44 with value: 0.46313796677106545.\u001b[0m\n",
      "\u001b[32m[I 2023-08-24 14:32:35,956]\u001b[0m Trial 81 finished with value: 0.4610908588285233 and parameters: {'C': 0.9478041404859847, 'epsilon': 0.09822354084492252, 'kernel': 'rbf', 'degree': 3}. Best is trial 44 with value: 0.46313796677106545.\u001b[0m\n",
      "\u001b[32m[I 2023-08-24 14:32:36,027]\u001b[0m Trial 82 finished with value: 0.46070569421986374 and parameters: {'C': 0.8530669093771627, 'epsilon': 0.10329451194373922, 'kernel': 'rbf', 'degree': 3}. Best is trial 44 with value: 0.46313796677106545.\u001b[0m\n",
      "\u001b[32m[I 2023-08-24 14:32:36,097]\u001b[0m Trial 83 finished with value: 0.4629888250960962 and parameters: {'C': 0.8822413976026577, 'epsilon': 0.1290060744090803, 'kernel': 'rbf', 'degree': 3}. Best is trial 44 with value: 0.46313796677106545.\u001b[0m\n",
      "\u001b[32m[I 2023-08-24 14:32:36,160]\u001b[0m Trial 84 finished with value: 0.4585749552052622 and parameters: {'C': 0.6156249068486644, 'epsilon': 0.12639657325151765, 'kernel': 'rbf', 'degree': 3}. Best is trial 44 with value: 0.46313796677106545.\u001b[0m\n",
      "\u001b[32m[I 2023-08-24 14:32:36,196]\u001b[0m Trial 85 finished with value: 0.15336793487256967 and parameters: {'C': 1.189970785521306, 'epsilon': 0.3749103644350218, 'kernel': 'rbf', 'degree': 3}. Best is trial 44 with value: 0.46313796677106545.\u001b[0m\n",
      "\u001b[32m[I 2023-08-24 14:32:36,318]\u001b[0m Trial 86 finished with value: 0.16123539881554055 and parameters: {'C': 0.3550273809110015, 'epsilon': 0.15061213013892571, 'kernel': 'linear', 'degree': 3}. Best is trial 44 with value: 0.46313796677106545.\u001b[0m\n",
      "\u001b[32m[I 2023-08-24 14:32:36,383]\u001b[0m Trial 87 finished with value: 0.4581849269753035 and parameters: {'C': 0.502450594343541, 'epsilon': 0.11608318368375113, 'kernel': 'rbf', 'degree': 3}. Best is trial 44 with value: 0.46313796677106545.\u001b[0m\n",
      "\u001b[32m[I 2023-08-24 14:32:36,515]\u001b[0m Trial 88 finished with value: 0.40771918797521794 and parameters: {'C': 9.1601072129984, 'epsilon': 0.06669543437394375, 'kernel': 'rbf', 'degree': 4}. Best is trial 44 with value: 0.46313796677106545.\u001b[0m\n",
      "\u001b[32m[I 2023-08-24 14:32:36,573]\u001b[0m Trial 89 finished with value: 0.44059407051281446 and parameters: {'C': 0.29238064286171106, 'epsilon': 0.13684562719557083, 'kernel': 'rbf', 'degree': 3}. Best is trial 44 with value: 0.46313796677106545.\u001b[0m\n",
      "\u001b[32m[I 2023-08-24 14:32:36,623]\u001b[0m Trial 90 finished with value: 0.41890299764557265 and parameters: {'C': 0.9096893638522525, 'epsilon': 0.20321102897659288, 'kernel': 'rbf', 'degree': 4}. Best is trial 44 with value: 0.46313796677106545.\u001b[0m\n",
      "\u001b[32m[I 2023-08-24 14:32:36,700]\u001b[0m Trial 91 finished with value: 0.4607771404817024 and parameters: {'C': 0.9351477971272019, 'epsilon': 0.10169789328828156, 'kernel': 'rbf', 'degree': 3}. Best is trial 44 with value: 0.46313796677106545.\u001b[0m\n",
      "\u001b[32m[I 2023-08-24 14:32:36,770]\u001b[0m Trial 92 finished with value: 0.4624758386882958 and parameters: {'C': 0.6635699876935178, 'epsilon': 0.09375531979257004, 'kernel': 'rbf', 'degree': 3}. Best is trial 44 with value: 0.46313796677106545.\u001b[0m\n",
      "\u001b[32m[I 2023-08-24 14:32:36,848]\u001b[0m Trial 93 finished with value: 0.4576679353143843 and parameters: {'C': 0.7166434665130786, 'epsilon': 0.0778747786359132, 'kernel': 'rbf', 'degree': 3}. Best is trial 44 with value: 0.46313796677106545.\u001b[0m\n",
      "\u001b[32m[I 2023-08-24 14:32:36,918]\u001b[0m Trial 94 finished with value: 0.4609507081095893 and parameters: {'C': 0.553361008425502, 'epsilon': 0.09412129502442264, 'kernel': 'rbf', 'degree': 3}. Best is trial 44 with value: 0.46313796677106545.\u001b[0m\n",
      "\u001b[32m[I 2023-08-24 14:32:36,989]\u001b[0m Trial 95 finished with value: 0.45995414460891765 and parameters: {'C': 0.5662056788857168, 'epsilon': 0.09004176421543844, 'kernel': 'rbf', 'degree': 3}. Best is trial 44 with value: 0.46313796677106545.\u001b[0m\n",
      "\u001b[32m[I 2023-08-24 14:32:37,074]\u001b[0m Trial 96 finished with value: 0.20699961965759378 and parameters: {'C': 1.5372894527068863, 'epsilon': 0.1198598154582607, 'kernel': 'poly', 'degree': 3}. Best is trial 44 with value: 0.46313796677106545.\u001b[0m\n",
      "\u001b[32m[I 2023-08-24 14:32:37,156]\u001b[0m Trial 97 finished with value: 0.4552246467686559 and parameters: {'C': 0.4164052140945027, 'epsilon': 0.09419224838366155, 'kernel': 'rbf', 'degree': 3}. Best is trial 44 with value: 0.46313796677106545.\u001b[0m\n",
      "\u001b[32m[I 2023-08-24 14:32:37,215]\u001b[0m Trial 98 finished with value: 0.45545032355808956 and parameters: {'C': 1.1291727720176157, 'epsilon': 0.1602156238166379, 'kernel': 'rbf', 'degree': 3}. Best is trial 44 with value: 0.46313796677106545.\u001b[0m\n",
      "\u001b[32m[I 2023-08-24 14:32:37,297]\u001b[0m Trial 99 finished with value: 0.453851865564577 and parameters: {'C': 0.8160648115454513, 'epsilon': 0.07163429915758332, 'kernel': 'rbf', 'degree': 3}. Best is trial 44 with value: 0.46313796677106545.\u001b[0m\n"
     ]
    },
    {
     "name": "stdout",
     "output_type": "stream",
     "text": [
      "Best r2:  0.46313796677106545\n",
      "Best trial: {'C': 0.875182041375404, 'epsilon': 0.12362175625357873, 'kernel': 'rbf', 'degree': 3}\n"
     ]
    }
   ],
   "source": [
    "sampler = TPESampler()\n",
    "study = optuna.create_study(\n",
    "    study_name=\"svm_parameter_opt\",\n",
    "    direction=\"maximize\",\n",
    "    sampler=sampler,\n",
    ")\n",
    "\n",
    "study.optimize(lambda trial : objectiveSVM(trial, Cd_X_train, Cd_y_train), n_trials=100)\n",
    "print(\"Best r2: \", study.best_value)\n",
    "print(\"Best trial:\", study.best_trial.params)"
   ]
  },
  {
   "cell_type": "code",
   "execution_count": 36,
   "id": "861f88d8",
   "metadata": {},
   "outputs": [
    {
     "data": {
      "application/vnd.plotly.v1+json": {
       "config": {
        "plotlyServerURL": "https://plot.ly"
       },
       "data": [
        {
         "dimensions": [
          {
           "label": "Objective Value",
           "range": [
            -0.5933177038023626,
            0.46313796677106545
           ],
           "values": [
            -0.008298568081250046,
            -0.5933177038023626,
            -0.4072942131459957,
            0.18810937316044649,
            0.4435005112311588,
            0.4137733820957695,
            0.13722929763936378,
            0.35833105066429194,
            0.20438321661774492,
            0.32923923935000465,
            0.03786550199954457,
            0.1875289345317799,
            0.430880224393608,
            0.3719031408679894,
            0.44289079475982207,
            0.4465342467400914,
            0.44552329453713585,
            0.1214945675158989,
            0.4042958624539509,
            0.4475965014823841,
            0.12795836001533822,
            0.4466117662973246,
            0.30588252853350484,
            0.43039258092191107,
            0.4509204080089749,
            0.44634483194812535,
            0.4430824198877201,
            0.4327949900257616,
            0.462205795349717,
            0.14546606816057037,
            0.046077164253910265,
            0.4486081891257651,
            0.4458308898555396,
            0.449177086061406,
            0.02311148424527454,
            0.441724402121331,
            0.44135269691772006,
            0.17533402840818887,
            -0.4072942131459957,
            0.43222969366543335,
            0.427803274798352,
            0.44895675451521144,
            0.46100983747013374,
            0.4630825434192321,
            0.46313796677106545,
            0.2446834254783048,
            0.16749721471013446,
            0.11655304414352811,
            -0.4072942131459957,
            0.45967659957710294,
            0.45553429187933236,
            0.4555048840877838,
            0.4613309956923629,
            0.4525644508940606,
            0.45732061517119205,
            0.45017957061673997,
            0.17379244976729663,
            0.4611744522610507,
            0.4580512324916123,
            0.45974137061678677,
            0.280564603894677,
            0.4442224895315838,
            0.4441303605617731,
            0.45278839426720213,
            0.4587945596063291,
            0.46085236724468714,
            0.45165796069081,
            0.44161890968850326,
            0.16204003463890582,
            0.4595272987274259,
            0.405286111497314,
            0.44648562146477094,
            0.4554837835830353,
            0.46041772689083693,
            0.4502005334208928,
            0.460772809329271,
            0.44555056505881313,
            0.4496156968705975,
            0.2596374201129342,
            0.4562588862125252,
            0.44581152091774356,
            0.4610908588285233,
            0.46070569421986374,
            0.4629888250960962,
            0.4585749552052622,
            0.15336793487256967,
            0.16123539881554055,
            0.4581849269753035,
            0.40771918797521794,
            0.44059407051281446,
            0.41890299764557265,
            0.4607771404817024,
            0.4624758386882958,
            0.4576679353143843,
            0.4609507081095893,
            0.45995414460891765,
            0.20699961965759378,
            0.4552246467686559,
            0.45545032355808956,
            0.453851865564577
           ]
          },
          {
           "label": "C",
           "range": [
            -0.9538320738118619,
            1.88842647662373
           ],
           "ticktext": [
            "0.111",
            "1",
            "10",
            "77.3"
           ],
           "tickvals": [
            -0.9538320738118619,
            0,
            1,
            1.88842647662373
           ],
           "values": [
            -0.7033937746511998,
            0.5220712343474473,
            -0.028484659138967493,
            -0.6150551828944539,
            -0.5426557917061979,
            0.43760117888143346,
            -0.030288469228802923,
            1.025883024264337,
            0.07174377983218404,
            1.2138998631369518,
            1.7810979877397093,
            -0.9538320738118619,
            0.5536950085316763,
            1.0236269810691658,
            0.5403985158132715,
            -0.44905739614924356,
            -0.4067148389047443,
            -0.3070992579471643,
            -0.9390851969875734,
            -0.2568245652989418,
            -0.19508368491837835,
            -0.3322664281593213,
            0.23393028339319477,
            -0.7167080395490509,
            -0.23875307754655498,
            0.2362681367407828,
            -0.18138585111686978,
            0.13620200659208187,
            -0.24859182634461122,
            -0.7523299276243235,
            0.7222455294314126,
            -0.24330074337012728,
            -0.11181621077387044,
            -0.2666767669112348,
            0.33050094507467326,
            -0.5716264943117788,
            -0.03963730045813839,
            -0.49483176613664626,
            -0.8219063481393672,
            -0.6389920149519105,
            0.09091160701752234,
            -0.2370489498846841,
            -0.12528140751182892,
            -0.040619416704474574,
            -0.057901602586952386,
            0.012810072957231284,
            0.35805120310457034,
            1.88842647662373,
            0.7096294606368512,
            -0.07147291053148876,
            -0.08391082271408733,
            0.1924466825225173,
            0.030608070102899836,
            -0.39929335748298417,
            0.030748779613602877,
            0.4239974797041928,
            1.6026256081902783,
            -0.12994570793748375,
            -0.38274289166298836,
            -0.13148959043748698,
            0.07886655657627666,
            -0.1245408942865106,
            -0.48764907693902587,
            0.26706698838888965,
            0.12615366328374863,
            -0.1422228997688992,
            -0.3756043959996817,
            0.6620920663433284,
            -0.006237316330437989,
            -0.16940898888786537,
            -0.3071026196192342,
            -0.12701584167655186,
            0.14988107371267695,
            0.02619378301569955,
            0.2956479409575132,
            -0.012710674834143464,
            0.45282526435321074,
            -0.3160801032987218,
            -0.6023811764658088,
            0.18890059048843225,
            -0.19909958053691876,
            -0.023281398415381266,
            -0.06901690408021606,
            -0.054412567586197606,
            -0.21068381787220394,
            0.07553629933989858,
            -0.449738151395627,
            -0.29890663571612563,
            0.9619005568273595,
            -0.5340513833442114,
            -0.041106883059129844,
            -0.029119744844910384,
            -0.17811326471194522,
            -0.1446968541460658,
            -0.256991445885773,
            -0.2470257790960272,
            0.18675564751147009,
            -0.3804838410291931,
            0.05276039736624674,
            -0.08827534837996247
           ]
          },
          {
           "label": "degree",
           "range": [
            1,
            5
           ],
           "values": [
            5,
            5,
            3,
            4,
            5,
            2,
            4,
            3,
            2,
            1,
            4,
            1,
            2,
            2,
            2,
            5,
            5,
            5,
            4,
            5,
            4,
            5,
            5,
            5,
            4,
            4,
            4,
            3,
            3,
            3,
            3,
            5,
            4,
            3,
            3,
            3,
            3,
            4,
            3,
            4,
            2,
            5,
            5,
            3,
            3,
            3,
            3,
            2,
            4,
            2,
            2,
            1,
            2,
            2,
            1,
            2,
            2,
            2,
            3,
            1,
            2,
            1,
            1,
            1,
            3,
            1,
            2,
            3,
            3,
            1,
            3,
            1,
            1,
            1,
            1,
            2,
            2,
            2,
            2,
            3,
            2,
            3,
            3,
            3,
            3,
            3,
            3,
            3,
            4,
            3,
            4,
            3,
            3,
            3,
            3,
            3,
            3,
            3,
            3,
            3
           ]
          },
          {
           "label": "epsilon",
           "range": [
            -1.9687158945400867,
            -0.013593432745329271
           ],
           "ticktext": [
            "0.0107",
            "0.1",
            "0.969"
           ],
           "tickvals": [
            -1.9687158945400867,
            -1,
            -0.013593432745329271
           ],
           "values": [
            -1.704665358815155,
            -1.4185448466178916,
            -0.19004458691729723,
            -1.8111850840429335,
            -0.8995948876662088,
            -1.7304397376033545,
            -1.066579829868327,
            -1.7320733926532523,
            -1.72029375982821,
            -1.074857764476185,
            -0.3863694990381732,
            -0.4873567271613894,
            -0.7507103164452459,
            -0.7167789982748844,
            -0.8066913364645897,
            -0.8658111586156604,
            -1.3289546724041952,
            -1.3523270724737886,
            -1.3420892572039649,
            -1.2414141361793072,
            -1.157138523520841,
            -1.221793301313419,
            -0.5309394576276575,
            -1.5306329646125525,
            -1.1654110910906375,
            -1.1477591220797265,
            -1.9464178223791602,
            -1.4950045508421712,
            -0.9799777805520038,
            -0.9767552694783791,
            -0.6357396133688619,
            -1.2132328452379222,
            -1.2653957966003955,
            -1.5395482273857597,
            -1.5520972984572576,
            -0.9802153631602923,
            -1.4529338763087185,
            -1.6072186580055956,
            -0.23530299220425538,
            -1.0490140915267632,
            -1.9687158945400867,
            -1.1985108295459561,
            -0.8927494509628437,
            -0.8959879408405557,
            -0.9079050908216881,
            -0.8985295836074705,
            -0.7086128335474875,
            -0.6330871317980699,
            -0.013593432745329271,
            -0.8253927615177955,
            -0.797158890396889,
            -0.8167347840324707,
            -0.9106857290777525,
            -0.9287249292359705,
            -1.077896185256996,
            -0.8811388415885617,
            -0.6514882261165527,
            -1.027253849321345,
            -0.9814207190484195,
            -1.063306891705366,
            -0.5398390554307013,
            -0.7525800976497317,
            -1.0976316820135839,
            -1.020060455430153,
            -0.9530331658231872,
            -0.8751389108691482,
            -0.8806016353388499,
            -1.114877800994785,
            -0.7657366671886283,
            -0.8623213776185331,
            -0.6885816882598387,
            -1.2848280005502992,
            -1.0526115154660713,
            -1.0210422826708632,
            -0.9458751842268166,
            -0.9919715323788584,
            -1.1381588389678268,
            -0.8318101278006453,
            -0.5781471671834115,
            -0.9339225288527092,
            -0.7644574837742325,
            -1.0077844141089825,
            -0.9859227520124745,
            -0.8893898399314895,
            -0.8982647000894738,
            -0.42607255329752336,
            -0.8221400491163752,
            -0.9352306894975708,
            -1.1759038946301998,
            -0.8637690756026019,
            -0.6920527250608906,
            -0.9926880435644807,
            -1.028004080496131,
            -1.1086031748411274,
            -1.0263121059531832,
            -1.0455560043254084,
            -0.9213263952989762,
            -1.0259848363018296,
            -0.795295134902861,
            -1.144878983723595
           ]
          },
          {
           "label": "kernel",
           "range": [
            0,
            2
           ],
           "ticktext": [
            "poly",
            "rbf",
            "linear"
           ],
           "tickvals": [
            0,
            1,
            2
           ],
           "values": [
            0,
            0,
            0,
            0,
            1,
            1,
            2,
            1,
            0,
            1,
            2,
            1,
            1,
            1,
            1,
            1,
            1,
            2,
            1,
            1,
            2,
            1,
            1,
            1,
            1,
            1,
            1,
            1,
            1,
            2,
            0,
            1,
            1,
            1,
            0,
            1,
            1,
            0,
            1,
            1,
            1,
            1,
            1,
            1,
            1,
            0,
            2,
            1,
            1,
            1,
            1,
            1,
            1,
            1,
            1,
            1,
            2,
            1,
            1,
            1,
            0,
            1,
            1,
            1,
            1,
            1,
            1,
            1,
            2,
            1,
            1,
            1,
            1,
            1,
            1,
            1,
            1,
            1,
            0,
            1,
            1,
            1,
            1,
            1,
            1,
            1,
            2,
            1,
            1,
            1,
            1,
            1,
            1,
            1,
            1,
            1,
            0,
            1,
            1,
            1
           ]
          }
         ],
         "labelangle": 30,
         "labelside": "bottom",
         "line": {
          "color": [
           -0.008298568081250046,
           -0.5933177038023626,
           -0.4072942131459957,
           0.18810937316044649,
           0.4435005112311588,
           0.4137733820957695,
           0.13722929763936378,
           0.35833105066429194,
           0.20438321661774492,
           0.32923923935000465,
           0.03786550199954457,
           0.1875289345317799,
           0.430880224393608,
           0.3719031408679894,
           0.44289079475982207,
           0.4465342467400914,
           0.44552329453713585,
           0.1214945675158989,
           0.4042958624539509,
           0.4475965014823841,
           0.12795836001533822,
           0.4466117662973246,
           0.30588252853350484,
           0.43039258092191107,
           0.4509204080089749,
           0.44634483194812535,
           0.4430824198877201,
           0.4327949900257616,
           0.462205795349717,
           0.14546606816057037,
           0.046077164253910265,
           0.4486081891257651,
           0.4458308898555396,
           0.449177086061406,
           0.02311148424527454,
           0.441724402121331,
           0.44135269691772006,
           0.17533402840818887,
           -0.4072942131459957,
           0.43222969366543335,
           0.427803274798352,
           0.44895675451521144,
           0.46100983747013374,
           0.4630825434192321,
           0.46313796677106545,
           0.2446834254783048,
           0.16749721471013446,
           0.11655304414352811,
           -0.4072942131459957,
           0.45967659957710294,
           0.45553429187933236,
           0.4555048840877838,
           0.4613309956923629,
           0.4525644508940606,
           0.45732061517119205,
           0.45017957061673997,
           0.17379244976729663,
           0.4611744522610507,
           0.4580512324916123,
           0.45974137061678677,
           0.280564603894677,
           0.4442224895315838,
           0.4441303605617731,
           0.45278839426720213,
           0.4587945596063291,
           0.46085236724468714,
           0.45165796069081,
           0.44161890968850326,
           0.16204003463890582,
           0.4595272987274259,
           0.405286111497314,
           0.44648562146477094,
           0.4554837835830353,
           0.46041772689083693,
           0.4502005334208928,
           0.460772809329271,
           0.44555056505881313,
           0.4496156968705975,
           0.2596374201129342,
           0.4562588862125252,
           0.44581152091774356,
           0.4610908588285233,
           0.46070569421986374,
           0.4629888250960962,
           0.4585749552052622,
           0.15336793487256967,
           0.16123539881554055,
           0.4581849269753035,
           0.40771918797521794,
           0.44059407051281446,
           0.41890299764557265,
           0.4607771404817024,
           0.4624758386882958,
           0.4576679353143843,
           0.4609507081095893,
           0.45995414460891765,
           0.20699961965759378,
           0.4552246467686559,
           0.45545032355808956,
           0.453851865564577
          ],
          "colorbar": {
           "title": {
            "text": "Objective Value"
           }
          },
          "colorscale": [
           [
            0,
            "rgb(247,251,255)"
           ],
           [
            0.125,
            "rgb(222,235,247)"
           ],
           [
            0.25,
            "rgb(198,219,239)"
           ],
           [
            0.375,
            "rgb(158,202,225)"
           ],
           [
            0.5,
            "rgb(107,174,214)"
           ],
           [
            0.625,
            "rgb(66,146,198)"
           ],
           [
            0.75,
            "rgb(33,113,181)"
           ],
           [
            0.875,
            "rgb(8,81,156)"
           ],
           [
            1,
            "rgb(8,48,107)"
           ]
          ],
          "reversescale": false,
          "showscale": true
         },
         "type": "parcoords"
        }
       ],
       "layout": {
        "template": {
         "data": {
          "bar": [
           {
            "error_x": {
             "color": "#2a3f5f"
            },
            "error_y": {
             "color": "#2a3f5f"
            },
            "marker": {
             "line": {
              "color": "#E5ECF6",
              "width": 0.5
             },
             "pattern": {
              "fillmode": "overlay",
              "size": 10,
              "solidity": 0.2
             }
            },
            "type": "bar"
           }
          ],
          "barpolar": [
           {
            "marker": {
             "line": {
              "color": "#E5ECF6",
              "width": 0.5
             },
             "pattern": {
              "fillmode": "overlay",
              "size": 10,
              "solidity": 0.2
             }
            },
            "type": "barpolar"
           }
          ],
          "carpet": [
           {
            "aaxis": {
             "endlinecolor": "#2a3f5f",
             "gridcolor": "white",
             "linecolor": "white",
             "minorgridcolor": "white",
             "startlinecolor": "#2a3f5f"
            },
            "baxis": {
             "endlinecolor": "#2a3f5f",
             "gridcolor": "white",
             "linecolor": "white",
             "minorgridcolor": "white",
             "startlinecolor": "#2a3f5f"
            },
            "type": "carpet"
           }
          ],
          "choropleth": [
           {
            "colorbar": {
             "outlinewidth": 0,
             "ticks": ""
            },
            "type": "choropleth"
           }
          ],
          "contour": [
           {
            "colorbar": {
             "outlinewidth": 0,
             "ticks": ""
            },
            "colorscale": [
             [
              0,
              "#0d0887"
             ],
             [
              0.1111111111111111,
              "#46039f"
             ],
             [
              0.2222222222222222,
              "#7201a8"
             ],
             [
              0.3333333333333333,
              "#9c179e"
             ],
             [
              0.4444444444444444,
              "#bd3786"
             ],
             [
              0.5555555555555556,
              "#d8576b"
             ],
             [
              0.6666666666666666,
              "#ed7953"
             ],
             [
              0.7777777777777778,
              "#fb9f3a"
             ],
             [
              0.8888888888888888,
              "#fdca26"
             ],
             [
              1,
              "#f0f921"
             ]
            ],
            "type": "contour"
           }
          ],
          "contourcarpet": [
           {
            "colorbar": {
             "outlinewidth": 0,
             "ticks": ""
            },
            "type": "contourcarpet"
           }
          ],
          "heatmap": [
           {
            "colorbar": {
             "outlinewidth": 0,
             "ticks": ""
            },
            "colorscale": [
             [
              0,
              "#0d0887"
             ],
             [
              0.1111111111111111,
              "#46039f"
             ],
             [
              0.2222222222222222,
              "#7201a8"
             ],
             [
              0.3333333333333333,
              "#9c179e"
             ],
             [
              0.4444444444444444,
              "#bd3786"
             ],
             [
              0.5555555555555556,
              "#d8576b"
             ],
             [
              0.6666666666666666,
              "#ed7953"
             ],
             [
              0.7777777777777778,
              "#fb9f3a"
             ],
             [
              0.8888888888888888,
              "#fdca26"
             ],
             [
              1,
              "#f0f921"
             ]
            ],
            "type": "heatmap"
           }
          ],
          "heatmapgl": [
           {
            "colorbar": {
             "outlinewidth": 0,
             "ticks": ""
            },
            "colorscale": [
             [
              0,
              "#0d0887"
             ],
             [
              0.1111111111111111,
              "#46039f"
             ],
             [
              0.2222222222222222,
              "#7201a8"
             ],
             [
              0.3333333333333333,
              "#9c179e"
             ],
             [
              0.4444444444444444,
              "#bd3786"
             ],
             [
              0.5555555555555556,
              "#d8576b"
             ],
             [
              0.6666666666666666,
              "#ed7953"
             ],
             [
              0.7777777777777778,
              "#fb9f3a"
             ],
             [
              0.8888888888888888,
              "#fdca26"
             ],
             [
              1,
              "#f0f921"
             ]
            ],
            "type": "heatmapgl"
           }
          ],
          "histogram": [
           {
            "marker": {
             "pattern": {
              "fillmode": "overlay",
              "size": 10,
              "solidity": 0.2
             }
            },
            "type": "histogram"
           }
          ],
          "histogram2d": [
           {
            "colorbar": {
             "outlinewidth": 0,
             "ticks": ""
            },
            "colorscale": [
             [
              0,
              "#0d0887"
             ],
             [
              0.1111111111111111,
              "#46039f"
             ],
             [
              0.2222222222222222,
              "#7201a8"
             ],
             [
              0.3333333333333333,
              "#9c179e"
             ],
             [
              0.4444444444444444,
              "#bd3786"
             ],
             [
              0.5555555555555556,
              "#d8576b"
             ],
             [
              0.6666666666666666,
              "#ed7953"
             ],
             [
              0.7777777777777778,
              "#fb9f3a"
             ],
             [
              0.8888888888888888,
              "#fdca26"
             ],
             [
              1,
              "#f0f921"
             ]
            ],
            "type": "histogram2d"
           }
          ],
          "histogram2dcontour": [
           {
            "colorbar": {
             "outlinewidth": 0,
             "ticks": ""
            },
            "colorscale": [
             [
              0,
              "#0d0887"
             ],
             [
              0.1111111111111111,
              "#46039f"
             ],
             [
              0.2222222222222222,
              "#7201a8"
             ],
             [
              0.3333333333333333,
              "#9c179e"
             ],
             [
              0.4444444444444444,
              "#bd3786"
             ],
             [
              0.5555555555555556,
              "#d8576b"
             ],
             [
              0.6666666666666666,
              "#ed7953"
             ],
             [
              0.7777777777777778,
              "#fb9f3a"
             ],
             [
              0.8888888888888888,
              "#fdca26"
             ],
             [
              1,
              "#f0f921"
             ]
            ],
            "type": "histogram2dcontour"
           }
          ],
          "mesh3d": [
           {
            "colorbar": {
             "outlinewidth": 0,
             "ticks": ""
            },
            "type": "mesh3d"
           }
          ],
          "parcoords": [
           {
            "line": {
             "colorbar": {
              "outlinewidth": 0,
              "ticks": ""
             }
            },
            "type": "parcoords"
           }
          ],
          "pie": [
           {
            "automargin": true,
            "type": "pie"
           }
          ],
          "scatter": [
           {
            "marker": {
             "colorbar": {
              "outlinewidth": 0,
              "ticks": ""
             }
            },
            "type": "scatter"
           }
          ],
          "scatter3d": [
           {
            "line": {
             "colorbar": {
              "outlinewidth": 0,
              "ticks": ""
             }
            },
            "marker": {
             "colorbar": {
              "outlinewidth": 0,
              "ticks": ""
             }
            },
            "type": "scatter3d"
           }
          ],
          "scattercarpet": [
           {
            "marker": {
             "colorbar": {
              "outlinewidth": 0,
              "ticks": ""
             }
            },
            "type": "scattercarpet"
           }
          ],
          "scattergeo": [
           {
            "marker": {
             "colorbar": {
              "outlinewidth": 0,
              "ticks": ""
             }
            },
            "type": "scattergeo"
           }
          ],
          "scattergl": [
           {
            "marker": {
             "colorbar": {
              "outlinewidth": 0,
              "ticks": ""
             }
            },
            "type": "scattergl"
           }
          ],
          "scattermapbox": [
           {
            "marker": {
             "colorbar": {
              "outlinewidth": 0,
              "ticks": ""
             }
            },
            "type": "scattermapbox"
           }
          ],
          "scatterpolar": [
           {
            "marker": {
             "colorbar": {
              "outlinewidth": 0,
              "ticks": ""
             }
            },
            "type": "scatterpolar"
           }
          ],
          "scatterpolargl": [
           {
            "marker": {
             "colorbar": {
              "outlinewidth": 0,
              "ticks": ""
             }
            },
            "type": "scatterpolargl"
           }
          ],
          "scatterternary": [
           {
            "marker": {
             "colorbar": {
              "outlinewidth": 0,
              "ticks": ""
             }
            },
            "type": "scatterternary"
           }
          ],
          "surface": [
           {
            "colorbar": {
             "outlinewidth": 0,
             "ticks": ""
            },
            "colorscale": [
             [
              0,
              "#0d0887"
             ],
             [
              0.1111111111111111,
              "#46039f"
             ],
             [
              0.2222222222222222,
              "#7201a8"
             ],
             [
              0.3333333333333333,
              "#9c179e"
             ],
             [
              0.4444444444444444,
              "#bd3786"
             ],
             [
              0.5555555555555556,
              "#d8576b"
             ],
             [
              0.6666666666666666,
              "#ed7953"
             ],
             [
              0.7777777777777778,
              "#fb9f3a"
             ],
             [
              0.8888888888888888,
              "#fdca26"
             ],
             [
              1,
              "#f0f921"
             ]
            ],
            "type": "surface"
           }
          ],
          "table": [
           {
            "cells": {
             "fill": {
              "color": "#EBF0F8"
             },
             "line": {
              "color": "white"
             }
            },
            "header": {
             "fill": {
              "color": "#C8D4E3"
             },
             "line": {
              "color": "white"
             }
            },
            "type": "table"
           }
          ]
         },
         "layout": {
          "annotationdefaults": {
           "arrowcolor": "#2a3f5f",
           "arrowhead": 0,
           "arrowwidth": 1
          },
          "autotypenumbers": "strict",
          "coloraxis": {
           "colorbar": {
            "outlinewidth": 0,
            "ticks": ""
           }
          },
          "colorscale": {
           "diverging": [
            [
             0,
             "#8e0152"
            ],
            [
             0.1,
             "#c51b7d"
            ],
            [
             0.2,
             "#de77ae"
            ],
            [
             0.3,
             "#f1b6da"
            ],
            [
             0.4,
             "#fde0ef"
            ],
            [
             0.5,
             "#f7f7f7"
            ],
            [
             0.6,
             "#e6f5d0"
            ],
            [
             0.7,
             "#b8e186"
            ],
            [
             0.8,
             "#7fbc41"
            ],
            [
             0.9,
             "#4d9221"
            ],
            [
             1,
             "#276419"
            ]
           ],
           "sequential": [
            [
             0,
             "#0d0887"
            ],
            [
             0.1111111111111111,
             "#46039f"
            ],
            [
             0.2222222222222222,
             "#7201a8"
            ],
            [
             0.3333333333333333,
             "#9c179e"
            ],
            [
             0.4444444444444444,
             "#bd3786"
            ],
            [
             0.5555555555555556,
             "#d8576b"
            ],
            [
             0.6666666666666666,
             "#ed7953"
            ],
            [
             0.7777777777777778,
             "#fb9f3a"
            ],
            [
             0.8888888888888888,
             "#fdca26"
            ],
            [
             1,
             "#f0f921"
            ]
           ],
           "sequentialminus": [
            [
             0,
             "#0d0887"
            ],
            [
             0.1111111111111111,
             "#46039f"
            ],
            [
             0.2222222222222222,
             "#7201a8"
            ],
            [
             0.3333333333333333,
             "#9c179e"
            ],
            [
             0.4444444444444444,
             "#bd3786"
            ],
            [
             0.5555555555555556,
             "#d8576b"
            ],
            [
             0.6666666666666666,
             "#ed7953"
            ],
            [
             0.7777777777777778,
             "#fb9f3a"
            ],
            [
             0.8888888888888888,
             "#fdca26"
            ],
            [
             1,
             "#f0f921"
            ]
           ]
          },
          "colorway": [
           "#636efa",
           "#EF553B",
           "#00cc96",
           "#ab63fa",
           "#FFA15A",
           "#19d3f3",
           "#FF6692",
           "#B6E880",
           "#FF97FF",
           "#FECB52"
          ],
          "font": {
           "color": "#2a3f5f"
          },
          "geo": {
           "bgcolor": "white",
           "lakecolor": "white",
           "landcolor": "#E5ECF6",
           "showlakes": true,
           "showland": true,
           "subunitcolor": "white"
          },
          "hoverlabel": {
           "align": "left"
          },
          "hovermode": "closest",
          "mapbox": {
           "style": "light"
          },
          "paper_bgcolor": "white",
          "plot_bgcolor": "#E5ECF6",
          "polar": {
           "angularaxis": {
            "gridcolor": "white",
            "linecolor": "white",
            "ticks": ""
           },
           "bgcolor": "#E5ECF6",
           "radialaxis": {
            "gridcolor": "white",
            "linecolor": "white",
            "ticks": ""
           }
          },
          "scene": {
           "xaxis": {
            "backgroundcolor": "#E5ECF6",
            "gridcolor": "white",
            "gridwidth": 2,
            "linecolor": "white",
            "showbackground": true,
            "ticks": "",
            "zerolinecolor": "white"
           },
           "yaxis": {
            "backgroundcolor": "#E5ECF6",
            "gridcolor": "white",
            "gridwidth": 2,
            "linecolor": "white",
            "showbackground": true,
            "ticks": "",
            "zerolinecolor": "white"
           },
           "zaxis": {
            "backgroundcolor": "#E5ECF6",
            "gridcolor": "white",
            "gridwidth": 2,
            "linecolor": "white",
            "showbackground": true,
            "ticks": "",
            "zerolinecolor": "white"
           }
          },
          "shapedefaults": {
           "line": {
            "color": "#2a3f5f"
           }
          },
          "ternary": {
           "aaxis": {
            "gridcolor": "white",
            "linecolor": "white",
            "ticks": ""
           },
           "baxis": {
            "gridcolor": "white",
            "linecolor": "white",
            "ticks": ""
           },
           "bgcolor": "#E5ECF6",
           "caxis": {
            "gridcolor": "white",
            "linecolor": "white",
            "ticks": ""
           }
          },
          "title": {
           "x": 0.05
          },
          "xaxis": {
           "automargin": true,
           "gridcolor": "white",
           "linecolor": "white",
           "ticks": "",
           "title": {
            "standoff": 15
           },
           "zerolinecolor": "white",
           "zerolinewidth": 2
          },
          "yaxis": {
           "automargin": true,
           "gridcolor": "white",
           "linecolor": "white",
           "ticks": "",
           "title": {
            "standoff": 15
           },
           "zerolinecolor": "white",
           "zerolinewidth": 2
          }
         }
        },
        "title": {
         "text": "Parallel Coordinate Plot"
        }
       }
      }
     },
     "metadata": {},
     "output_type": "display_data"
    }
   ],
   "source": [
    "optuna.visualization.plot_parallel_coordinate(study)"
   ]
  },
  {
   "cell_type": "code",
   "execution_count": 37,
   "id": "281574d0",
   "metadata": {},
   "outputs": [
    {
     "name": "stdout",
     "output_type": "stream",
     "text": [
      "Best trial: {'C': 0.875182041375404, 'epsilon': 0.12362175625357873, 'kernel': 'rbf', 'degree': 3}\n"
     ]
    }
   ],
   "source": [
    "print(\"Best trial:\", study.best_trial.params)"
   ]
  },
  {
   "cell_type": "code",
   "execution_count": 38,
   "id": "3b45adad",
   "metadata": {},
   "outputs": [
    {
     "data": {
      "text/html": [
       "<style>#sk-container-id-2 {color: black;}#sk-container-id-2 pre{padding: 0;}#sk-container-id-2 div.sk-toggleable {background-color: white;}#sk-container-id-2 label.sk-toggleable__label {cursor: pointer;display: block;width: 100%;margin-bottom: 0;padding: 0.3em;box-sizing: border-box;text-align: center;}#sk-container-id-2 label.sk-toggleable__label-arrow:before {content: \"▸\";float: left;margin-right: 0.25em;color: #696969;}#sk-container-id-2 label.sk-toggleable__label-arrow:hover:before {color: black;}#sk-container-id-2 div.sk-estimator:hover label.sk-toggleable__label-arrow:before {color: black;}#sk-container-id-2 div.sk-toggleable__content {max-height: 0;max-width: 0;overflow: hidden;text-align: left;background-color: #f0f8ff;}#sk-container-id-2 div.sk-toggleable__content pre {margin: 0.2em;color: black;border-radius: 0.25em;background-color: #f0f8ff;}#sk-container-id-2 input.sk-toggleable__control:checked~div.sk-toggleable__content {max-height: 200px;max-width: 100%;overflow: auto;}#sk-container-id-2 input.sk-toggleable__control:checked~label.sk-toggleable__label-arrow:before {content: \"▾\";}#sk-container-id-2 div.sk-estimator input.sk-toggleable__control:checked~label.sk-toggleable__label {background-color: #d4ebff;}#sk-container-id-2 div.sk-label input.sk-toggleable__control:checked~label.sk-toggleable__label {background-color: #d4ebff;}#sk-container-id-2 input.sk-hidden--visually {border: 0;clip: rect(1px 1px 1px 1px);clip: rect(1px, 1px, 1px, 1px);height: 1px;margin: -1px;overflow: hidden;padding: 0;position: absolute;width: 1px;}#sk-container-id-2 div.sk-estimator {font-family: monospace;background-color: #f0f8ff;border: 1px dotted black;border-radius: 0.25em;box-sizing: border-box;margin-bottom: 0.5em;}#sk-container-id-2 div.sk-estimator:hover {background-color: #d4ebff;}#sk-container-id-2 div.sk-parallel-item::after {content: \"\";width: 100%;border-bottom: 1px solid gray;flex-grow: 1;}#sk-container-id-2 div.sk-label:hover label.sk-toggleable__label {background-color: #d4ebff;}#sk-container-id-2 div.sk-serial::before {content: \"\";position: absolute;border-left: 1px solid gray;box-sizing: border-box;top: 0;bottom: 0;left: 50%;z-index: 0;}#sk-container-id-2 div.sk-serial {display: flex;flex-direction: column;align-items: center;background-color: white;padding-right: 0.2em;padding-left: 0.2em;position: relative;}#sk-container-id-2 div.sk-item {position: relative;z-index: 1;}#sk-container-id-2 div.sk-parallel {display: flex;align-items: stretch;justify-content: center;background-color: white;position: relative;}#sk-container-id-2 div.sk-item::before, #sk-container-id-2 div.sk-parallel-item::before {content: \"\";position: absolute;border-left: 1px solid gray;box-sizing: border-box;top: 0;bottom: 0;left: 50%;z-index: -1;}#sk-container-id-2 div.sk-parallel-item {display: flex;flex-direction: column;z-index: 1;position: relative;background-color: white;}#sk-container-id-2 div.sk-parallel-item:first-child::after {align-self: flex-end;width: 50%;}#sk-container-id-2 div.sk-parallel-item:last-child::after {align-self: flex-start;width: 50%;}#sk-container-id-2 div.sk-parallel-item:only-child::after {width: 0;}#sk-container-id-2 div.sk-dashed-wrapped {border: 1px dashed gray;margin: 0 0.4em 0.5em 0.4em;box-sizing: border-box;padding-bottom: 0.4em;background-color: white;}#sk-container-id-2 div.sk-label label {font-family: monospace;font-weight: bold;display: inline-block;line-height: 1.2em;}#sk-container-id-2 div.sk-label-container {text-align: center;}#sk-container-id-2 div.sk-container {/* jupyter's `normalize.less` sets `[hidden] { display: none; }` but bootstrap.min.css set `[hidden] { display: none !important; }` so we also need the `!important` here to be able to override the default hidden behavior on the sphinx rendered scikit-learn.org. See: https://github.com/scikit-learn/scikit-learn/issues/21755 */display: inline-block !important;position: relative;}#sk-container-id-2 div.sk-text-repr-fallback {display: none;}</style><div id=\"sk-container-id-2\" class=\"sk-top-container\"><div class=\"sk-text-repr-fallback\"><pre>SVR(C=0.875182041375404, epsilon=0.12362175625357873)</pre><b>In a Jupyter environment, please rerun this cell to show the HTML representation or trust the notebook. <br />On GitHub, the HTML representation is unable to render, please try loading this page with nbviewer.org.</b></div><div class=\"sk-container\" hidden><div class=\"sk-item\"><div class=\"sk-estimator sk-toggleable\"><input class=\"sk-toggleable__control sk-hidden--visually\" id=\"sk-estimator-id-2\" type=\"checkbox\" checked><label for=\"sk-estimator-id-2\" class=\"sk-toggleable__label sk-toggleable__label-arrow\">SVR</label><div class=\"sk-toggleable__content\"><pre>SVR(C=0.875182041375404, epsilon=0.12362175625357873)</pre></div></div></div></div></div>"
      ],
      "text/plain": [
       "SVR(C=0.875182041375404, epsilon=0.12362175625357873)"
      ]
     },
     "execution_count": 38,
     "metadata": {},
     "output_type": "execute_result"
    }
   ],
   "source": [
    "svm_params = {\n",
    "    \"C\": study.best_trial.params[\"C\"],\n",
    "    \"epsilon\": study.best_trial.params[\"epsilon\"],\n",
    "    \"kernel\": study.best_trial.params[\"kernel\"],\n",
    "    \"degree\": study.best_trial.params[\"degree\"]\n",
    "}\n",
    "\n",
    "svm = SVR(**svm_params)\n",
    "svm.fit(Cd_X_train, Cd_y_train)"
   ]
  },
  {
   "cell_type": "code",
   "execution_count": 39,
   "id": "9ab1055b",
   "metadata": {},
   "outputs": [],
   "source": [
    "y_train_pred = svm.predict(Cd_X_train)\n",
    "y_test_pred = svm.predict(Cd_X_test)"
   ]
  },
  {
   "cell_type": "code",
   "execution_count": 40,
   "id": "425b4001",
   "metadata": {},
   "outputs": [
    {
     "name": "stdout",
     "output_type": "stream",
     "text": [
      "Train RMSE:  0.1773264280292402\n",
      "Test RMSE:  0.19878314732783406\n"
     ]
    }
   ],
   "source": [
    "print(\"Train RMSE: \", np.sqrt(mean_squared_error(Cd_y_train, y_train_pred)))\n",
    "print(\"Test RMSE: \", np.sqrt(mean_squared_error(Cd_y_test, y_test_pred)))"
   ]
  },
  {
   "cell_type": "code",
   "execution_count": 41,
   "id": "0f95ae3c",
   "metadata": {},
   "outputs": [
    {
     "name": "stdout",
     "output_type": "stream",
     "text": [
      "Train R2:  0.629280187961132\n",
      "Test R2:  0.5384936347680643\n"
     ]
    }
   ],
   "source": [
    "print(\"Train R2: \", r2_score(Cd_y_train, y_train_pred))\n",
    "print(\"Test R2: \", r2_score(Cd_y_test, y_test_pred))"
   ]
  },
  {
   "cell_type": "code",
   "execution_count": 42,
   "id": "a2ac1a1f",
   "metadata": {},
   "outputs": [
    {
     "data": {
      "image/png": "[encoded data removed]",
      "text/plain": [
       "<Figure size 640x480 with 1 Axes>"
      ]
     },
     "metadata": {},
     "output_type": "display_data"
    }
   ],
   "source": [
    "plt.scatter(y_train_pred, np.array(Cd_y_train), color=\"orange\", alpha=0.3)\n",
    "plt.scatter(y_test_pred, np.array(Cd_y_test), color=\"green\", alpha=0.4)\n",
    "plt.axis(\"auto\") # scaled, tight, auto, image, square\n",
    "# plt.xlim([0, 1.5]) \n",
    "# plt.ylim(0, None) \n",
    "plt.xlabel('Predicted Values')\n",
    "plt.ylabel('Actual Values')\n",
    "\n",
    "# Add y=x line\n",
    "plt.plot([0, 0.5], [0, 0.5], color='red', linestyle='-')\n",
    "\n",
    "plt.show()"
   ]
  },
  {
   "attachments": {},
   "cell_type": "markdown",
   "id": "74f680ea",
   "metadata": {},
   "source": [
    "Ni"
   ]
  },
  {
   "cell_type": "code",
   "execution_count": 43,
   "id": "de233338",
   "metadata": {},
   "outputs": [
    {
     "name": "stderr",
     "output_type": "stream",
     "text": [
      "\u001b[32m[I 2023-08-24 14:32:37,606]\u001b[0m A new study created in memory with name: svm_parameter_opt\u001b[0m\n",
      "\u001b[32m[I 2023-08-24 14:32:37,727]\u001b[0m Trial 0 finished with value: 0.1353890492624346 and parameters: {'C': 0.11814258643209961, 'epsilon': 0.041069828554114306, 'kernel': 'linear', 'degree': 5}. Best is trial 0 with value: 0.1353890492624346.\u001b[0m\n",
      "\u001b[32m[I 2023-08-24 14:32:37,859]\u001b[0m Trial 1 finished with value: 0.14677684215736359 and parameters: {'C': 4.1055411181574994, 'epsilon': 0.09832650228147641, 'kernel': 'poly', 'degree': 1}. Best is trial 1 with value: 0.14677684215736359.\u001b[0m\n",
      "\u001b[32m[I 2023-08-24 14:32:37,990]\u001b[0m Trial 2 finished with value: 0.009378381268374735 and parameters: {'C': 0.4427124403585699, 'epsilon': 0.048363175210289704, 'kernel': 'poly', 'degree': 5}. Best is trial 1 with value: 0.14677684215736359.\u001b[0m\n",
      "\u001b[32m[I 2023-08-24 14:32:38,077]\u001b[0m Trial 3 finished with value: 0.4894996925631411 and parameters: {'C': 1.9028811745279688, 'epsilon': 0.6263856717162802, 'kernel': 'rbf', 'degree': 3}. Best is trial 3 with value: 0.4894996925631411.\u001b[0m\n",
      "\u001b[32m[I 2023-08-24 14:32:38,215]\u001b[0m Trial 4 finished with value: 0.23310503912121394 and parameters: {'C': 1.3673350857798856, 'epsilon': 0.03370643630176863, 'kernel': 'poly', 'degree': 3}. Best is trial 3 with value: 0.4894996925631411.\u001b[0m\n",
      "\u001b[32m[I 2023-08-24 14:32:38,371]\u001b[0m Trial 5 finished with value: 0.5058012241805454 and parameters: {'C': 42.42332407684077, 'epsilon': 0.46927347523148244, 'kernel': 'rbf', 'degree': 3}. Best is trial 5 with value: 0.5058012241805454.\u001b[0m\n",
      "\u001b[32m[I 2023-08-24 14:32:38,515]\u001b[0m Trial 6 finished with value: 0.5428330804865356 and parameters: {'C': 9.73905710111178, 'epsilon': 0.24084825932566092, 'kernel': 'rbf', 'degree': 3}. Best is trial 6 with value: 0.5428330804865356.\u001b[0m\n",
      "\u001b[32m[I 2023-08-24 14:32:39,200]\u001b[0m Trial 7 finished with value: 0.16098962529547858 and parameters: {'C': 7.147100624902542, 'epsilon': 0.1296324482727123, 'kernel': 'linear', 'degree': 5}. Best is trial 6 with value: 0.5428330804865356.\u001b[0m\n",
      "\u001b[32m[I 2023-08-24 14:32:39,334]\u001b[0m Trial 8 finished with value: 0.2065713425295055 and parameters: {'C': 2.705687923416102, 'epsilon': 0.1566135369143208, 'kernel': 'poly', 'degree': 4}. Best is trial 6 with value: 0.5428330804865356.\u001b[0m\n",
      "\u001b[32m[I 2023-08-24 14:32:39,420]\u001b[0m Trial 9 finished with value: 0.10388656263945333 and parameters: {'C': 0.14102963490120388, 'epsilon': 0.07977512633751603, 'kernel': 'poly', 'degree': 1}. Best is trial 6 with value: 0.5428330804865356.\u001b[0m\n",
      "\u001b[32m[I 2023-08-24 14:32:39,893]\u001b[0m Trial 10 finished with value: 0.4722084558019244 and parameters: {'C': 46.88247538417684, 'epsilon': 0.0160773176601381, 'kernel': 'rbf', 'degree': 2}. Best is trial 6 with value: 0.5428330804865356.\u001b[0m\n",
      "\u001b[32m[I 2023-08-24 14:32:40,057]\u001b[0m Trial 11 finished with value: 0.5058434036274337 and parameters: {'C': 41.36348590321605, 'epsilon': 0.4638840425312369, 'kernel': 'rbf', 'degree': 2}. Best is trial 6 with value: 0.5428330804865356.\u001b[0m\n",
      "\u001b[32m[I 2023-08-24 14:32:40,208]\u001b[0m Trial 12 finished with value: 0.5427233125928055 and parameters: {'C': 14.59170883754914, 'epsilon': 0.32448066310480195, 'kernel': 'rbf', 'degree': 2}. Best is trial 6 with value: 0.5428330804865356.\u001b[0m\n",
      "\u001b[32m[I 2023-08-24 14:32:40,356]\u001b[0m Trial 13 finished with value: 0.5420234013063581 and parameters: {'C': 12.77861241030078, 'epsilon': 0.25978894493341975, 'kernel': 'rbf', 'degree': 2}. Best is trial 6 with value: 0.5428330804865356.\u001b[0m\n",
      "\u001b[32m[I 2023-08-24 14:32:40,520]\u001b[0m Trial 14 finished with value: 0.539154288888257 and parameters: {'C': 15.556170980367659, 'epsilon': 0.2508309894508792, 'kernel': 'rbf', 'degree': 4}. Best is trial 6 with value: 0.5428330804865356.\u001b[0m\n",
      "\u001b[32m[I 2023-08-24 14:32:40,623]\u001b[0m Trial 15 finished with value: 0.4371907264784114 and parameters: {'C': 14.986337845270016, 'epsilon': 0.9966884687360485, 'kernel': 'rbf', 'degree': 2}. Best is trial 6 with value: 0.5428330804865356.\u001b[0m\n",
      "\u001b[32m[I 2023-08-24 14:32:40,932]\u001b[0m Trial 16 finished with value: 0.4122535073397229 and parameters: {'C': 91.22416467024105, 'epsilon': 0.2369735763375273, 'kernel': 'rbf', 'degree': 4}. Best is trial 6 with value: 0.5428330804865356.\u001b[0m\n",
      "\u001b[32m[I 2023-08-24 14:32:41,513]\u001b[0m Trial 17 finished with value: 0.2032759094668771 and parameters: {'C': 6.906198321483235, 'epsilon': 0.35858227681330396, 'kernel': 'linear', 'degree': 1}. Best is trial 6 with value: 0.5428330804865356.\u001b[0m\n",
      "\u001b[32m[I 2023-08-24 14:32:41,588]\u001b[0m Trial 18 finished with value: 0.3461501050087216 and parameters: {'C': 0.9637366309657769, 'epsilon': 0.9402066799538165, 'kernel': 'rbf', 'degree': 2}. Best is trial 6 with value: 0.5428330804865356.\u001b[0m\n",
      "\u001b[32m[I 2023-08-24 14:32:41,797]\u001b[0m Trial 19 finished with value: 0.528011490268674 and parameters: {'C': 21.712135939300932, 'epsilon': 0.17435675924599903, 'kernel': 'rbf', 'degree': 3}. Best is trial 6 with value: 0.5428330804865356.\u001b[0m\n",
      "\u001b[32m[I 2023-08-24 14:32:42,408]\u001b[0m Trial 20 finished with value: 0.1503614633534736 and parameters: {'C': 5.758014237940417, 'epsilon': 0.07945590827213744, 'kernel': 'linear', 'degree': 3}. Best is trial 6 with value: 0.5428330804865356.\u001b[0m\n",
      "\u001b[32m[I 2023-08-24 14:32:42,548]\u001b[0m Trial 21 finished with value: 0.5442359070243187 and parameters: {'C': 11.019284991932258, 'epsilon': 0.28713990594377103, 'kernel': 'rbf', 'degree': 2}. Best is trial 21 with value: 0.5442359070243187.\u001b[0m\n",
      "\u001b[32m[I 2023-08-24 14:32:42,678]\u001b[0m Trial 22 finished with value: 0.5438409053077031 and parameters: {'C': 9.819365990720556, 'epsilon': 0.33397800802387, 'kernel': 'rbf', 'degree': 2}. Best is trial 21 with value: 0.5442359070243187.\u001b[0m\n",
      "\u001b[32m[I 2023-08-24 14:32:42,784]\u001b[0m Trial 23 finished with value: 0.5336965606409898 and parameters: {'C': 8.291343569354174, 'epsilon': 0.602264754712839, 'kernel': 'rbf', 'degree': 1}. Best is trial 21 with value: 0.5442359070243187.\u001b[0m\n",
      "\u001b[32m[I 2023-08-24 14:32:42,968]\u001b[0m Trial 24 finished with value: 0.5284304120377735 and parameters: {'C': 24.918719761130394, 'epsilon': 0.21751671076930523, 'kernel': 'rbf', 'degree': 3}. Best is trial 21 with value: 0.5442359070243187.\u001b[0m\n",
      "\u001b[32m[I 2023-08-24 14:32:43,124]\u001b[0m Trial 25 finished with value: 0.5099286722786932 and parameters: {'C': 3.254400476640122, 'epsilon': 0.13357270453928827, 'kernel': 'rbf', 'degree': 2}. Best is trial 21 with value: 0.5442359070243187.\u001b[0m\n",
      "\u001b[32m[I 2023-08-24 14:32:43,248]\u001b[0m Trial 26 finished with value: 0.5404288393568287 and parameters: {'C': 9.850832665434211, 'epsilon': 0.3911088876522047, 'kernel': 'rbf', 'degree': 4}. Best is trial 21 with value: 0.5442359070243187.\u001b[0m\n",
      "\u001b[32m[I 2023-08-24 14:32:43,348]\u001b[0m Trial 27 finished with value: 0.5172850619137794 and parameters: {'C': 4.431243307975164, 'epsilon': 0.6246122628925517, 'kernel': 'rbf', 'degree': 2}. Best is trial 21 with value: 0.5442359070243187.\u001b[0m\n",
      "\u001b[32m[I 2023-08-24 14:32:43,706]\u001b[0m Trial 28 finished with value: 0.49947845197455554 and parameters: {'C': 26.3080853516105, 'epsilon': 0.011889032918482732, 'kernel': 'rbf', 'degree': 3}. Best is trial 21 with value: 0.5442359070243187.\u001b[0m\n",
      "\u001b[32m[I 2023-08-24 14:32:52,512]\u001b[0m Trial 29 finished with value: 0.1728238481891652 and parameters: {'C': 99.09169072397013, 'epsilon': 0.18158286665522214, 'kernel': 'linear', 'degree': 1}. Best is trial 21 with value: 0.5442359070243187.\u001b[0m\n",
      "\u001b[32m[I 2023-08-24 14:32:52,718]\u001b[0m Trial 30 finished with value: 0.1429561961570355 and parameters: {'C': 0.8405321530237431, 'epsilon': 0.05047610706247675, 'kernel': 'linear', 'degree': 2}. Best is trial 21 with value: 0.5442359070243187.\u001b[0m\n",
      "\u001b[32m[I 2023-08-24 14:32:52,873]\u001b[0m Trial 31 finished with value: 0.5445820174128497 and parameters: {'C': 11.344849085751529, 'epsilon': 0.32703155292538744, 'kernel': 'rbf', 'degree': 2}. Best is trial 31 with value: 0.5445820174128497.\u001b[0m\n",
      "\u001b[32m[I 2023-08-24 14:32:53,000]\u001b[0m Trial 32 finished with value: 0.5371623112146624 and parameters: {'C': 4.851499280776199, 'epsilon': 0.28519611955083385, 'kernel': 'rbf', 'degree': 1}. Best is trial 31 with value: 0.5445820174128497.\u001b[0m\n",
      "\u001b[32m[I 2023-08-24 14:32:53,157]\u001b[0m Trial 33 finished with value: 0.5401931705561328 and parameters: {'C': 10.258111741722201, 'epsilon': 0.42445346817251806, 'kernel': 'rbf', 'degree': 2}. Best is trial 31 with value: 0.5445820174128497.\u001b[0m\n",
      "\u001b[32m[I 2023-08-24 14:32:53,316]\u001b[0m Trial 34 finished with value: 0.4992388896448359 and parameters: {'C': 2.7656349301640053, 'epsilon': 0.10350051463135995, 'kernel': 'rbf', 'degree': 2}. Best is trial 31 with value: 0.5445820174128497.\u001b[0m\n",
      "\u001b[32m[I 2023-08-24 14:32:53,535]\u001b[0m Trial 35 finished with value: 0.026668550348148967 and parameters: {'C': 21.658928003320163, 'epsilon': 0.6917105576297092, 'kernel': 'poly', 'degree': 3}. Best is trial 31 with value: 0.5445820174128497.\u001b[0m\n",
      "\u001b[32m[I 2023-08-24 14:32:53,650]\u001b[0m Trial 36 finished with value: 0.4913471659848206 and parameters: {'C': 1.7992935366115135, 'epsilon': 0.3308519221959342, 'kernel': 'rbf', 'degree': 3}. Best is trial 31 with value: 0.5445820174128497.\u001b[0m\n",
      "\u001b[32m[I 2023-08-24 14:32:54,320]\u001b[0m Trial 37 finished with value: -0.32090655149137004 and parameters: {'C': 63.25426599768815, 'epsilon': 0.49939994462972476, 'kernel': 'poly', 'degree': 3}. Best is trial 31 with value: 0.5445820174128497.\u001b[0m\n",
      "\u001b[32m[I 2023-08-24 14:32:54,574]\u001b[0m Trial 38 finished with value: 0.5126738430453922 and parameters: {'C': 31.408232743530952, 'epsilon': 0.19140076479903134, 'kernel': 'rbf', 'degree': 1}. Best is trial 31 with value: 0.5445820174128497.\u001b[0m\n",
      "\u001b[32m[I 2023-08-24 14:32:54,732]\u001b[0m Trial 39 finished with value: 0.5121185662109586 and parameters: {'C': 3.7263632705777483, 'epsilon': 0.12072317343232337, 'kernel': 'rbf', 'degree': 5}. Best is trial 31 with value: 0.5445820174128497.\u001b[0m\n",
      "\u001b[32m[I 2023-08-24 14:32:54,802]\u001b[0m Trial 40 finished with value: 0.22349368590386468 and parameters: {'C': 0.2513416329876116, 'epsilon': 0.7414382928527087, 'kernel': 'poly', 'degree': 2}. Best is trial 31 with value: 0.5445820174128497.\u001b[0m\n",
      "\u001b[32m[I 2023-08-24 14:32:54,952]\u001b[0m Trial 41 finished with value: 0.5399924903483159 and parameters: {'C': 18.296001507015017, 'epsilon': 0.32002947588483943, 'kernel': 'rbf', 'degree': 2}. Best is trial 31 with value: 0.5445820174128497.\u001b[0m\n",
      "\u001b[32m[I 2023-08-24 14:32:55,067]\u001b[0m Trial 42 finished with value: 0.5404073816395443 and parameters: {'C': 10.66118308083242, 'epsilon': 0.526326966393412, 'kernel': 'rbf', 'degree': 2}. Best is trial 31 with value: 0.5445820174128497.\u001b[0m\n",
      "\u001b[32m[I 2023-08-24 14:32:55,212]\u001b[0m Trial 43 finished with value: 0.5422616811596854 and parameters: {'C': 14.087935186598605, 'epsilon': 0.2997017095472596, 'kernel': 'rbf', 'degree': 2}. Best is trial 31 with value: 0.5445820174128497.\u001b[0m\n",
      "\u001b[32m[I 2023-08-24 14:32:55,336]\u001b[0m Trial 44 finished with value: 0.5383755542260442 and parameters: {'C': 6.309364294461556, 'epsilon': 0.38937413759838146, 'kernel': 'rbf', 'degree': 1}. Best is trial 31 with value: 0.5445820174128497.\u001b[0m\n",
      "\u001b[32m[I 2023-08-24 14:32:55,545]\u001b[0m Trial 45 finished with value: 0.508488423332075 and parameters: {'C': 33.43072786274494, 'epsilon': 0.22770695235262395, 'kernel': 'rbf', 'degree': 3}. Best is trial 31 with value: 0.5445820174128497.\u001b[0m\n",
      "\u001b[32m[I 2023-08-24 14:32:55,712]\u001b[0m Trial 46 finished with value: 0.534639864774363 and parameters: {'C': 7.854680514538482, 'epsilon': 0.15427188613612763, 'kernel': 'rbf', 'degree': 2}. Best is trial 31 with value: 0.5445820174128497.\u001b[0m\n",
      "\u001b[32m[I 2023-08-24 14:32:55,931]\u001b[0m Trial 47 finished with value: 0.5270522118961422 and parameters: {'C': 12.473838427817485, 'epsilon': 0.07399984971538535, 'kernel': 'rbf', 'degree': 2}. Best is trial 31 with value: 0.5445820174128497.\u001b[0m\n",
      "\u001b[32m[I 2023-08-24 14:32:56,212]\u001b[0m Trial 48 finished with value: 0.17265335095621923 and parameters: {'C': 2.090047703601298, 'epsilon': 0.21166236610979197, 'kernel': 'linear', 'degree': 1}. Best is trial 31 with value: 0.5445820174128497.\u001b[0m\n",
      "\u001b[32m[I 2023-08-24 14:32:56,625]\u001b[0m Trial 49 finished with value: -2.6870329138962328 and parameters: {'C': 55.03081126673963, 'epsilon': 0.27082372518656916, 'kernel': 'poly', 'degree': 4}. Best is trial 31 with value: 0.5445820174128497.\u001b[0m\n",
      "\u001b[32m[I 2023-08-24 14:32:56,913]\u001b[0m Trial 50 finished with value: 0.5107452007562874 and parameters: {'C': 17.67391961657787, 'epsilon': 0.02567130809064902, 'kernel': 'rbf', 'degree': 3}. Best is trial 31 with value: 0.5445820174128497.\u001b[0m\n",
      "\u001b[32m[I 2023-08-24 14:32:57,068]\u001b[0m Trial 51 finished with value: 0.5429678779140328 and parameters: {'C': 13.31274255519571, 'epsilon': 0.30054701887610813, 'kernel': 'rbf', 'degree': 2}. Best is trial 31 with value: 0.5445820174128497.\u001b[0m\n",
      "\u001b[32m[I 2023-08-24 14:32:57,208]\u001b[0m Trial 52 finished with value: 0.5433285592236909 and parameters: {'C': 9.294083008735354, 'epsilon': 0.3368903355973812, 'kernel': 'rbf', 'degree': 2}. Best is trial 31 with value: 0.5445820174128497.\u001b[0m\n",
      "\u001b[32m[I 2023-08-24 14:32:57,327]\u001b[0m Trial 53 finished with value: 0.5357530753293366 and parameters: {'C': 4.921976757642441, 'epsilon': 0.4060612518676726, 'kernel': 'rbf', 'degree': 2}. Best is trial 31 with value: 0.5445820174128497.\u001b[0m\n",
      "\u001b[32m[I 2023-08-24 14:32:57,440]\u001b[0m Trial 54 finished with value: 0.5367793558529337 and parameters: {'C': 8.875394785890132, 'epsilon': 0.5355056581928008, 'kernel': 'rbf', 'degree': 2}. Best is trial 31 with value: 0.5445820174128497.\u001b[0m\n",
      "\u001b[32m[I 2023-08-24 14:32:57,534]\u001b[0m Trial 55 finished with value: 0.491489037068712 and parameters: {'C': 6.423642112625797, 'epsilon': 0.8265168331694674, 'kernel': 'rbf', 'degree': 2}. Best is trial 31 with value: 0.5445820174128497.\u001b[0m\n",
      "\u001b[32m[I 2023-08-24 14:32:57,716]\u001b[0m Trial 56 finished with value: 0.5370153707201746 and parameters: {'C': 12.2156688868513, 'epsilon': 0.1536450116596241, 'kernel': 'rbf', 'degree': 2}. Best is trial 31 with value: 0.5445820174128497.\u001b[0m\n",
      "\u001b[32m[I 2023-08-24 14:32:57,877]\u001b[0m Trial 57 finished with value: 0.5371903456181729 and parameters: {'C': 18.23667474887022, 'epsilon': 0.26653262765212754, 'kernel': 'rbf', 'degree': 3}. Best is trial 31 with value: 0.5445820174128497.\u001b[0m\n",
      "\u001b[32m[I 2023-08-24 14:32:58,020]\u001b[0m Trial 58 finished with value: 0.5416841511443493 and parameters: {'C': 8.184988756954647, 'epsilon': 0.34867848980923494, 'kernel': 'rbf', 'degree': 2}. Best is trial 31 with value: 0.5445820174128497.\u001b[0m\n",
      "\u001b[32m[I 2023-08-24 14:32:59,902]\u001b[0m Trial 59 finished with value: 0.21268987512179302 and parameters: {'C': 36.65801588943006, 'epsilon': 0.42233807205957924, 'kernel': 'linear', 'degree': 1}. Best is trial 31 with value: 0.5445820174128497.\u001b[0m\n",
      "\u001b[32m[I 2023-08-24 14:33:00,054]\u001b[0m Trial 60 finished with value: 0.5309740527274747 and parameters: {'C': 5.379305881052911, 'epsilon': 0.20083712175359628, 'kernel': 'rbf', 'degree': 2}. Best is trial 31 with value: 0.5445820174128497.\u001b[0m\n",
      "\u001b[32m[I 2023-08-24 14:33:00,226]\u001b[0m Trial 61 finished with value: 0.539489546755182 and parameters: {'C': 14.831918911657237, 'epsilon': 0.24349756937560263, 'kernel': 'rbf', 'degree': 2}. Best is trial 31 with value: 0.5445820174128497.\u001b[0m\n",
      "\u001b[32m[I 2023-08-24 14:33:00,394]\u001b[0m Trial 62 finished with value: 0.5315196937308908 and parameters: {'C': 24.40828716736917, 'epsilon': 0.3212194652303975, 'kernel': 'rbf', 'degree': 2}. Best is trial 31 with value: 0.5445820174128497.\u001b[0m\n",
      "\u001b[32m[I 2023-08-24 14:33:00,515]\u001b[0m Trial 63 finished with value: 0.5408906836757617 and parameters: {'C': 11.165119112578417, 'epsilon': 0.47110728973200017, 'kernel': 'rbf', 'degree': 2}. Best is trial 31 with value: 0.5445820174128497.\u001b[0m\n",
      "\u001b[32m[I 2023-08-24 14:33:00,657]\u001b[0m Trial 64 finished with value: 0.5327641251256113 and parameters: {'C': 3.845349874432868, 'epsilon': 0.3732829625466565, 'kernel': 'rbf', 'degree': 2}. Best is trial 31 with value: 0.5445820174128497.\u001b[0m\n",
      "\u001b[32m[I 2023-08-24 14:33:00,790]\u001b[0m Trial 65 finished with value: 0.5446817373422862 and parameters: {'C': 6.803340427152225, 'epsilon': 0.2822331138812409, 'kernel': 'rbf', 'degree': 3}. Best is trial 65 with value: 0.5446817373422862.\u001b[0m\n",
      "\u001b[32m[I 2023-08-24 14:33:00,946]\u001b[0m Trial 66 finished with value: 0.5344700612461042 and parameters: {'C': 7.064947721088386, 'epsilon': 0.16756567856867471, 'kernel': 'rbf', 'degree': 3}. Best is trial 65 with value: 0.5446817373422862.\u001b[0m\n",
      "\u001b[32m[I 2023-08-24 14:33:01,088]\u001b[0m Trial 67 finished with value: 0.5440171843308527 and parameters: {'C': 8.833844847608463, 'epsilon': 0.285576867098832, 'kernel': 'rbf', 'degree': 4}. Best is trial 65 with value: 0.5446817373422862.\u001b[0m\n",
      "\u001b[32m[I 2023-08-24 14:33:01,227]\u001b[0m Trial 68 finished with value: 0.5441660589023822 and parameters: {'C': 9.248490317278716, 'epsilon': 0.2876513458212444, 'kernel': 'rbf', 'degree': 5}. Best is trial 65 with value: 0.5446817373422862.\u001b[0m\n",
      "\u001b[32m[I 2023-08-24 14:33:01,342]\u001b[0m Trial 69 finished with value: -0.35676534416780903 and parameters: {'C': 9.006374816391538, 'epsilon': 0.5941166692427164, 'kernel': 'poly', 'degree': 5}. Best is trial 65 with value: 0.5446817373422862.\u001b[0m\n",
      "\u001b[32m[I 2023-08-24 14:33:01,476]\u001b[0m Trial 70 finished with value: 0.518543900757515 and parameters: {'C': 3.253027680174387, 'epsilon': 0.24324388555293963, 'kernel': 'rbf', 'degree': 4}. Best is trial 65 with value: 0.5446817373422862.\u001b[0m\n",
      "\u001b[32m[I 2023-08-24 14:33:01,607]\u001b[0m Trial 71 finished with value: 0.5420379547182848 and parameters: {'C': 5.787085163734891, 'epsilon': 0.283166978609097, 'kernel': 'rbf', 'degree': 5}. Best is trial 65 with value: 0.5446817373422862.\u001b[0m\n",
      "\u001b[32m[I 2023-08-24 14:33:01,745]\u001b[0m Trial 72 finished with value: 0.5447235411489089 and parameters: {'C': 11.859709935973761, 'epsilon': 0.3399926660234506, 'kernel': 'rbf', 'degree': 4}. Best is trial 72 with value: 0.5447235411489089.\u001b[0m\n",
      "\u001b[32m[I 2023-08-24 14:33:01,873]\u001b[0m Trial 73 finished with value: 0.5390135037402277 and parameters: {'C': 9.69535515276567, 'epsilon': 0.45433104893076626, 'kernel': 'rbf', 'degree': 4}. Best is trial 72 with value: 0.5447235411489089.\u001b[0m\n",
      "\u001b[32m[I 2023-08-24 14:33:02,001]\u001b[0m Trial 74 finished with value: 0.5421278104583639 and parameters: {'C': 7.302101140235305, 'epsilon': 0.34566681837254515, 'kernel': 'rbf', 'degree': 5}. Best is trial 72 with value: 0.5447235411489089.\u001b[0m\n",
      "\u001b[32m[I 2023-08-24 14:33:02,177]\u001b[0m Trial 75 finished with value: 0.5359439388937 and parameters: {'C': 16.942295772571793, 'epsilon': 0.20435912774385218, 'kernel': 'rbf', 'degree': 4}. Best is trial 72 with value: 0.5447235411489089.\u001b[0m\n",
      "\u001b[32m[I 2023-08-24 14:33:02,726]\u001b[0m Trial 76 finished with value: 0.16173107538252293 and parameters: {'C': 4.668363621816008, 'epsilon': 0.13632508609168725, 'kernel': 'linear', 'degree': 5}. Best is trial 72 with value: 0.5447235411489089.\u001b[0m\n",
      "\u001b[32m[I 2023-08-24 14:33:02,845]\u001b[0m Trial 77 finished with value: 0.5401703015919341 and parameters: {'C': 11.062332680127298, 'epsilon': 0.5345125401934057, 'kernel': 'rbf', 'degree': 4}. Best is trial 72 with value: 0.5447235411489089.\u001b[0m\n",
      "\u001b[32m[I 2023-08-24 14:33:03,002]\u001b[0m Trial 78 finished with value: 0.5370631612547201 and parameters: {'C': 22.49270509763765, 'epsilon': 0.3702687470294915, 'kernel': 'rbf', 'degree': 4}. Best is trial 72 with value: 0.5447235411489089.\u001b[0m\n",
      "\u001b[32m[I 2023-08-24 14:33:03,148]\u001b[0m Trial 79 finished with value: 0.5441618531836248 and parameters: {'C': 8.137451182140117, 'epsilon': 0.2639586520378308, 'kernel': 'rbf', 'degree': 4}. Best is trial 72 with value: 0.5447235411489089.\u001b[0m\n",
      "\u001b[32m[I 2023-08-24 14:33:03,280]\u001b[0m Trial 80 finished with value: 0.5083119509196008 and parameters: {'C': 2.693968422353924, 'epsilon': 0.23075715629562235, 'kernel': 'rbf', 'degree': 4}. Best is trial 72 with value: 0.5447235411489089.\u001b[0m\n",
      "\u001b[32m[I 2023-08-24 14:33:03,416]\u001b[0m Trial 81 finished with value: 0.5439966574175705 and parameters: {'C': 8.025291969174118, 'epsilon': 0.2936552280922161, 'kernel': 'rbf', 'degree': 4}. Best is trial 72 with value: 0.5447235411489089.\u001b[0m\n",
      "\u001b[32m[I 2023-08-24 14:33:03,557]\u001b[0m Trial 82 finished with value: 0.5448356162575172 and parameters: {'C': 7.135690054282019, 'epsilon': 0.26668523510566133, 'kernel': 'rbf', 'degree': 4}. Best is trial 82 with value: 0.5448356162575172.\u001b[0m\n",
      "\u001b[32m[I 2023-08-24 14:33:03,683]\u001b[0m Trial 83 finished with value: 0.2104580302657185 and parameters: {'C': 0.10032052457254392, 'epsilon': 0.26935738752368243, 'kernel': 'rbf', 'degree': 4}. Best is trial 82 with value: 0.5448356162575172.\u001b[0m\n",
      "\u001b[32m[I 2023-08-24 14:33:03,832]\u001b[0m Trial 84 finished with value: 0.5334606545113891 and parameters: {'C': 6.204665835956999, 'epsilon': 0.19007847561357333, 'kernel': 'rbf', 'degree': 4}. Best is trial 82 with value: 0.5448356162575172.\u001b[0m\n",
      "\u001b[32m[I 2023-08-24 14:33:03,960]\u001b[0m Trial 85 finished with value: 0.5325715694001121 and parameters: {'C': 4.01494252722869, 'epsilon': 0.28389957531772364, 'kernel': 'rbf', 'degree': 4}. Best is trial 82 with value: 0.5448356162575172.\u001b[0m\n",
      "\u001b[32m[I 2023-08-24 14:33:04,114]\u001b[0m Trial 86 finished with value: 0.5417061012120845 and parameters: {'C': 12.875527618737092, 'epsilon': 0.2501505561264317, 'kernel': 'rbf', 'degree': 4}. Best is trial 82 with value: 0.5448356162575172.\u001b[0m\n",
      "\u001b[32m[I 2023-08-24 14:33:04,233]\u001b[0m Trial 87 finished with value: -0.46505609861775954 and parameters: {'C': 7.657582146921016, 'epsilon': 0.43101030276407615, 'kernel': 'poly', 'degree': 5}. Best is trial 82 with value: 0.5448356162575172.\u001b[0m\n",
      "\u001b[32m[I 2023-08-24 14:33:04,362]\u001b[0m Trial 88 finished with value: 0.5391973377156124 and parameters: {'C': 5.185513250577585, 'epsilon': 0.30354888142074615, 'kernel': 'rbf', 'degree': 4}. Best is trial 82 with value: 0.5448356162575172.\u001b[0m\n",
      "\u001b[32m[I 2023-08-24 14:33:04,528]\u001b[0m Trial 89 finished with value: 0.5372135653310048 and parameters: {'C': 15.35233834449666, 'epsilon': 0.21638689198796934, 'kernel': 'rbf', 'degree': 4}. Best is trial 82 with value: 0.5448356162575172.\u001b[0m\n",
      "\u001b[32m[I 2023-08-24 14:33:04,697]\u001b[0m Trial 90 finished with value: 0.5395171705294531 and parameters: {'C': 11.643404578189363, 'epsilon': 0.1792063236609405, 'kernel': 'rbf', 'degree': 5}. Best is trial 82 with value: 0.5448356162575172.\u001b[0m\n",
      "\u001b[32m[I 2023-08-24 14:33:04,824]\u001b[0m Trial 91 finished with value: 0.5405908027142476 and parameters: {'C': 9.60776920683171, 'epsilon': 0.3803152222340872, 'kernel': 'rbf', 'degree': 4}. Best is trial 82 with value: 0.5448356162575172.\u001b[0m\n",
      "\u001b[32m[I 2023-08-24 14:33:04,988]\u001b[0m Trial 92 finished with value: 0.5377807211064664 and parameters: {'C': 20.180242000236568, 'epsilon': 0.3141618280407241, 'kernel': 'rbf', 'degree': 4}. Best is trial 82 with value: 0.5448356162575172.\u001b[0m\n",
      "\u001b[32m[I 2023-08-24 14:33:05,135]\u001b[0m Trial 93 finished with value: 0.5438884611785852 and parameters: {'C': 6.883041425269221, 'epsilon': 0.2596793361541261, 'kernel': 'rbf', 'degree': 3}. Best is trial 82 with value: 0.5448356162575172.\u001b[0m\n",
      "\u001b[32m[I 2023-08-24 14:33:05,274]\u001b[0m Trial 94 finished with value: 0.5437911915762317 and parameters: {'C': 6.988578204746107, 'epsilon': 0.2561952370146807, 'kernel': 'rbf', 'degree': 3}. Best is trial 82 with value: 0.5448356162575172.\u001b[0m\n",
      "\u001b[32m[I 2023-08-24 14:33:06,005]\u001b[0m Trial 95 finished with value: 0.17683812360606838 and parameters: {'C': 8.103405000617606, 'epsilon': 0.22405670582998405, 'kernel': 'linear', 'degree': 3}. Best is trial 82 with value: 0.5448356162575172.\u001b[0m\n",
      "\u001b[32m[I 2023-08-24 14:33:06,179]\u001b[0m Trial 96 finished with value: 0.5102059617027412 and parameters: {'C': 4.476944884009797, 'epsilon': 0.06641665791259019, 'kernel': 'rbf', 'degree': 3}. Best is trial 82 with value: 0.5448356162575172.\u001b[0m\n",
      "\u001b[32m[I 2023-08-24 14:33:06,362]\u001b[0m Trial 97 finished with value: 0.5349941842441337 and parameters: {'C': 14.215363165255118, 'epsilon': 0.16399103839172993, 'kernel': 'rbf', 'degree': 3}. Best is trial 82 with value: 0.5448356162575172.\u001b[0m\n",
      "\u001b[32m[I 2023-08-24 14:33:06,497]\u001b[0m Trial 98 finished with value: 0.5422373765500206 and parameters: {'C': 5.806661827345068, 'epsilon': 0.2905709071838817, 'kernel': 'rbf', 'degree': 4}. Best is trial 82 with value: 0.5448356162575172.\u001b[0m\n",
      "\u001b[32m[I 2023-08-24 14:33:06,750]\u001b[0m Trial 99 finished with value: 0.5108751599894348 and parameters: {'C': 29.262050985108047, 'epsilon': 0.14298797741652314, 'kernel': 'rbf', 'degree': 4}. Best is trial 82 with value: 0.5448356162575172.\u001b[0m\n"
     ]
    },
    {
     "name": "stdout",
     "output_type": "stream",
     "text": [
      "Best r2:  0.5448356162575172\n",
      "Best trial: {'C': 7.135690054282019, 'epsilon': 0.26668523510566133, 'kernel': 'rbf', 'degree': 4}\n"
     ]
    }
   ],
   "source": [
    "sampler = TPESampler()\n",
    "study = optuna.create_study(\n",
    "    study_name=\"svm_parameter_opt\",\n",
    "    direction=\"maximize\",\n",
    "    sampler=sampler,\n",
    ")\n",
    "\n",
    "study.optimize(lambda trial : objectiveSVM(trial, Ni_X_train, Ni_y_train), n_trials=100)\n",
    "print(\"Best r2: \", study.best_value)\n",
    "print(\"Best trial:\", study.best_trial.params)"
   ]
  },
  {
   "cell_type": "code",
   "execution_count": 44,
   "id": "d71c01fb",
   "metadata": {},
   "outputs": [
    {
     "data": {
      "application/vnd.plotly.v1+json": {
       "config": {
        "plotlyServerURL": "https://plot.ly"
       },
       "data": [
        {
         "dimensions": [
          {
           "label": "Objective Value",
           "range": [
            -2.6870329138962328,
            0.5448356162575172
           ],
           "values": [
            0.1353890492624346,
            0.14677684215736359,
            0.009378381268374735,
            0.4894996925631411,
            0.23310503912121394,
            0.5058012241805454,
            0.5428330804865356,
            0.16098962529547858,
            0.2065713425295055,
            0.10388656263945333,
            0.4722084558019244,
            0.5058434036274337,
            0.5427233125928055,
            0.5420234013063581,
            0.539154288888257,
            0.4371907264784114,
            0.4122535073397229,
            0.2032759094668771,
            0.3461501050087216,
            0.528011490268674,
            0.1503614633534736,
            0.5442359070243187,
            0.5438409053077031,
            0.5336965606409898,
            0.5284304120377735,
            0.5099286722786932,
            0.5404288393568287,
            0.5172850619137794,
            0.49947845197455554,
            0.1728238481891652,
            0.1429561961570355,
            0.5445820174128497,
            0.5371623112146624,
            0.5401931705561328,
            0.4992388896448359,
            0.026668550348148967,
            0.4913471659848206,
            -0.32090655149137004,
            0.5126738430453922,
            0.5121185662109586,
            0.22349368590386468,
            0.5399924903483159,
            0.5404073816395443,
            0.5422616811596854,
            0.5383755542260442,
            0.508488423332075,
            0.534639864774363,
            0.5270522118961422,
            0.17265335095621923,
            -2.6870329138962328,
            0.5107452007562874,
            0.5429678779140328,
            0.5433285592236909,
            0.5357530753293366,
            0.5367793558529337,
            0.491489037068712,
            0.5370153707201746,
            0.5371903456181729,
            0.5416841511443493,
            0.21268987512179302,
            0.5309740527274747,
            0.539489546755182,
            0.5315196937308908,
            0.5408906836757617,
            0.5327641251256113,
            0.5446817373422862,
            0.5344700612461042,
            0.5440171843308527,
            0.5441660589023822,
            -0.35676534416780903,
            0.518543900757515,
            0.5420379547182848,
            0.5447235411489089,
            0.5390135037402277,
            0.5421278104583639,
            0.5359439388937,
            0.16173107538252293,
            0.5401703015919341,
            0.5370631612547201,
            0.5441618531836248,
            0.5083119509196008,
            0.5439966574175705,
            0.5448356162575172,
            0.2104580302657185,
            0.5334606545113891,
            0.5325715694001121,
            0.5417061012120845,
            -0.46505609861775954,
            0.5391973377156124,
            0.5372135653310048,
            0.5395171705294531,
            0.5405908027142476,
            0.5377807211064664,
            0.5438884611785852,
            0.5437911915762317,
            0.17683812360606838,
            0.5102059617027412,
            0.5349941842441337,
            0.5422373765500206,
            0.5108751599894348
           ]
          },
          {
           "label": "C",
           "range": [
            -0.9986102055966367,
            1.996037238501161
           ],
           "ticktext": [
            "0.1",
            "1",
            "10",
            "99.1"
           ],
           "tickvals": [
            -0.9986102055966367,
            0,
            1,
            1.996037238501161
           ],
           "values": [
            -0.9275935255986633,
            0.6133704060698688,
            -0.35387827403838906,
            0.2794116696017736,
            0.13587495792705348,
            1.6276046946300997,
            0.9885169121551629,
            0.85412989662926,
            0.4322777032171558,
            -0.8506896183961178,
            1.671010534266583,
            1.6166171317478095,
            1.1641061551738057,
            1.1064836976982197,
            1.1919027079018882,
            1.175695518912199,
            1.9601098952675344,
            0.8392390455873027,
            -0.01604163346815924,
            1.3367025494342806,
            0.760272734430794,
            1.0421534153748768,
            0.9920834474997261,
            0.9186249114280847,
            1.3965257259903803,
            0.5124709948495089,
            0.993472941839686,
            0.6465255966599138,
            1.420089242175866,
            1.996037238501161,
            -0.07544566876382808,
            1.0547987230802514,
            0.6858759713335696,
            1.0110674255299918,
            0.44179485173889194,
            1.335636957655698,
            0.2551020198944141,
            1.8010898205479258,
            1.4970435005078628,
            0.571285190527225,
            -0.5997355675983975,
            1.262356187370898,
            1.0278054014041922,
            1.1488473449348502,
            0.7999856037266212,
            1.524145832271076,
            0.8951285250100139,
            1.0960001143854876,
            0.32015619863468076,
            1.7406059152474882,
            1.2473328754307924,
            1.1242675336033507,
            0.9682065469974575,
            0.6921395585639664,
            0.9481876799829467,
            0.8077813366228259,
            1.086917252391337,
            1.2609456525302412,
            0.9130180871937867,
            1.5641689551272624,
            0.730726240075942,
            1.1711973424533295,
            1.3875373042078578,
            1.0478633606058083,
            0.5849358608143603,
            0.8327222028339575,
            0.849108952521897,
            0.9461497672996394,
            0.9660708462109442,
            0.9545500169444047,
            0.512287758730931,
            0.7624598735624363,
            1.0740740672115066,
            0.9865637224463191,
            0.8634478439987939,
            1.228972259229891,
            0.6691646761646411,
            1.0438467149694326,
            1.352041689243088,
            0.9104883961826065,
            0.4303925007864408,
            0.9044608414874521,
            0.8534359777696395,
            -0.9986102055966367,
            0.7927183967118054,
            0.6036793328560229,
            1.1097650347781658,
            0.8840916644094813,
            0.714791748355175,
            1.1861745330880638,
            1.0660799883316552,
            0.9826225621089104,
            1.3049263699651725,
            0.8377803833430251,
            0.8443888294451855,
            0.9086675450823476,
            0.6509817477857789,
            1.1527579592534483,
            0.7639265340073995,
            1.4663047626744032
           ]
          },
          {
           "label": "degree",
           "range": [
            1,
            5
           ],
           "values": [
            5,
            1,
            5,
            3,
            3,
            3,
            3,
            5,
            4,
            1,
            2,
            2,
            2,
            2,
            4,
            2,
            4,
            1,
            2,
            3,
            3,
            2,
            2,
            1,
            3,
            2,
            4,
            2,
            3,
            1,
            2,
            2,
            1,
            2,
            2,
            3,
            3,
            3,
            1,
            5,
            2,
            2,
            2,
            2,
            1,
            3,
            2,
            2,
            1,
            4,
            3,
            2,
            2,
            2,
            2,
            2,
            2,
            3,
            2,
            1,
            2,
            2,
            2,
            2,
            2,
            3,
            3,
            4,
            5,
            5,
            4,
            5,
            4,
            4,
            5,
            4,
            5,
            4,
            4,
            4,
            4,
            4,
            4,
            4,
            4,
            4,
            4,
            5,
            4,
            4,
            5,
            4,
            4,
            3,
            3,
            3,
            3,
            3,
            4,
            4
           ]
          },
          {
           "label": "epsilon",
           "range": [
            -1.9248534704652318,
            -0.0014405663134271574
           ],
           "ticktext": [
            "0.0119",
            "0.1",
            "0.997"
           ],
           "tickvals": [
            -1.9248534704652318,
            -1,
            -0.0014405663134271574
           ],
           "values": [
            -1.3864771101036768,
            -1.0073294094992342,
            -1.3154851939353471,
            -0.20315818512272593,
            -1.472287161934416,
            -0.32857399274287535,
            -0.6182564880997735,
            -0.8872862766911743,
            -0.8051707023476299,
            -1.0981324993545383,
            -1.7937864072401355,
            -0.33359056682124183,
            -0.48881117916286143,
            -0.5853793338502337,
            -0.6006188086862282,
            -0.0014405663134271574,
            -0.6253000771568757,
            -0.4454111795602208,
            -0.02677666757365847,
            -0.7585612117733015,
            -1.0998738034964461,
            -0.5419064462119034,
            -0.476282129919969,
            -0.2202125515423631,
            -0.6625073726582404,
            -0.8742822804764167,
            -0.4077023149237244,
            -0.2043894936019974,
            -1.9248534704652318,
            -0.7409251319610147,
            -1.2969141471569376,
            -0.4854103433632681,
            -0.5448563878984509,
            -0.3721699134849841,
            -0.9850574907770713,
            -0.1600755956017397,
            -0.4803663378326501,
            -0.30155151013646586,
            -0.7180563312021456,
            -0.9182093568471762,
            -0.12992498784359002,
            -0.49481001972822664,
            -0.27874437830908666,
            -0.5233107797609823,
            -0.4096328978887073,
            -0.6426237092957634,
            -0.8117132107378832,
            -1.130769162266931,
            -0.6743563533352162,
            -0.5673132924748049,
            -1.5905520011346854,
            -0.522087575438093,
            -0.472511447484093,
            -0.39140845080283077,
            -0.2712359360199336,
            -0.08274829698888296,
            -0.8134815352700615,
            -0.5742496191254817,
            -0.457574843691696,
            -0.3743397669290841,
            -0.6971560112345944,
            -0.6135053696116957,
            -0.49319814525509736,
            -0.32688017560492444,
            -0.427961831774284,
            -0.5493920326362204,
            -0.7758149304231808,
            -0.5442769751109201,
            -0.5411335897199254,
            -0.22612826237071199,
            -0.6139580678283396,
            -0.5479573930868115,
            -0.4685304510162699,
            -0.3426275825370582,
            -0.4613423077278883,
            -0.6896059596638798,
            -0.8654242193764581,
            -0.27204210135714574,
            -0.4314829435418106,
            -0.578464098123321,
            -0.6368448216497986,
            -0.5321622627883712,
            -0.5740010281407992,
            -0.5696711087878878,
            -0.7210670596285514,
            -0.5468352571300327,
            -0.6017985272703898,
            -0.3655123484469057,
            -0.5177713631655755,
            -0.6647690509116506,
            -0.7466466694361906,
            -0.41985629146992626,
            -0.5028465846632513,
            -0.5855626077495454,
            -0.5914289485861404,
            -0.6496420534854758,
            -1.1777229818938817,
            -0.7851798841679183,
            -0.536747870705586,
            -0.8447004769486731
           ]
          },
          {
           "label": "kernel",
           "range": [
            0,
            2
           ],
           "ticktext": [
            "linear",
            "poly",
            "rbf"
           ],
           "tickvals": [
            0,
            1,
            2
           ],
           "values": [
            0,
            1,
            1,
            2,
            1,
            2,
            2,
            0,
            1,
            1,
            2,
            2,
            2,
            2,
            2,
            2,
            2,
            0,
            2,
            2,
            0,
            2,
            2,
            2,
            2,
            2,
            2,
            2,
            2,
            0,
            0,
            2,
            2,
            2,
            2,
            1,
            2,
            1,
            2,
            2,
            1,
            2,
            2,
            2,
            2,
            2,
            2,
            2,
            0,
            1,
            2,
            2,
            2,
            2,
            2,
            2,
            2,
            2,
            2,
            0,
            2,
            2,
            2,
            2,
            2,
            2,
            2,
            2,
            2,
            1,
            2,
            2,
            2,
            2,
            2,
            2,
            0,
            2,
            2,
            2,
            2,
            2,
            2,
            2,
            2,
            2,
            2,
            1,
            2,
            2,
            2,
            2,
            2,
            2,
            2,
            0,
            2,
            2,
            2,
            2
           ]
          }
         ],
         "labelangle": 30,
         "labelside": "bottom",
         "line": {
          "color": [
           0.1353890492624346,
           0.14677684215736359,
           0.009378381268374735,
           0.4894996925631411,
           0.23310503912121394,
           0.5058012241805454,
           0.5428330804865356,
           0.16098962529547858,
           0.2065713425295055,
           0.10388656263945333,
           0.4722084558019244,
           0.5058434036274337,
           0.5427233125928055,
           0.5420234013063581,
           0.539154288888257,
           0.4371907264784114,
           0.4122535073397229,
           0.2032759094668771,
           0.3461501050087216,
           0.528011490268674,
           0.1503614633534736,
           0.5442359070243187,
           0.5438409053077031,
           0.5336965606409898,
           0.5284304120377735,
           0.5099286722786932,
           0.5404288393568287,
           0.5172850619137794,
           0.49947845197455554,
           0.1728238481891652,
           0.1429561961570355,
           0.5445820174128497,
           0.5371623112146624,
           0.5401931705561328,
           0.4992388896448359,
           0.026668550348148967,
           0.4913471659848206,
           -0.32090655149137004,
           0.5126738430453922,
           0.5121185662109586,
           0.22349368590386468,
           0.5399924903483159,
           0.5404073816395443,
           0.5422616811596854,
           0.5383755542260442,
           0.508488423332075,
           0.534639864774363,
           0.5270522118961422,
           0.17265335095621923,
           -2.6870329138962328,
           0.5107452007562874,
           0.5429678779140328,
           0.5433285592236909,
           0.5357530753293366,
           0.5367793558529337,
           0.491489037068712,
           0.5370153707201746,
           0.5371903456181729,
           0.5416841511443493,
           0.21268987512179302,
           0.5309740527274747,
           0.539489546755182,
           0.5315196937308908,
           0.5408906836757617,
           0.5327641251256113,
           0.5446817373422862,
           0.5344700612461042,
           0.5440171843308527,
           0.5441660589023822,
           -0.35676534416780903,
           0.518543900757515,
           0.5420379547182848,
           0.5447235411489089,
           0.5390135037402277,
           0.5421278104583639,
           0.5359439388937,
           0.16173107538252293,
           0.5401703015919341,
           0.5370631612547201,
           0.5441618531836248,
           0.5083119509196008,
           0.5439966574175705,
           0.5448356162575172,
           0.2104580302657185,
           0.5334606545113891,
           0.5325715694001121,
           0.5417061012120845,
           -0.46505609861775954,
           0.5391973377156124,
           0.5372135653310048,
           0.5395171705294531,
           0.5405908027142476,
           0.5377807211064664,
           0.5438884611785852,
           0.5437911915762317,
           0.17683812360606838,
           0.5102059617027412,
           0.5349941842441337,
           0.5422373765500206,
           0.5108751599894348
          ],
          "colorbar": {
           "title": {
            "text": "Objective Value"
           }
          },
          "colorscale": [
           [
            0,
            "rgb(247,251,255)"
           ],
           [
            0.125,
            "rgb(222,235,247)"
           ],
           [
            0.25,
            "rgb(198,219,239)"
           ],
           [
            0.375,
            "rgb(158,202,225)"
           ],
           [
            0.5,
            "rgb(107,174,214)"
           ],
           [
            0.625,
            "rgb(66,146,198)"
           ],
           [
            0.75,
            "rgb(33,113,181)"
           ],
           [
            0.875,
            "rgb(8,81,156)"
           ],
           [
            1,
            "rgb(8,48,107)"
           ]
          ],
          "reversescale": false,
          "showscale": true
         },
         "type": "parcoords"
        }
       ],
       "layout": {
        "template": {
         "data": {
          "bar": [
           {
            "error_x": {
             "color": "#2a3f5f"
            },
            "error_y": {
             "color": "#2a3f5f"
            },
            "marker": {
             "line": {
              "color": "#E5ECF6",
              "width": 0.5
             },
             "pattern": {
              "fillmode": "overlay",
              "size": 10,
              "solidity": 0.2
             }
            },
            "type": "bar"
           }
          ],
          "barpolar": [
           {
            "marker": {
             "line": {
              "color": "#E5ECF6",
              "width": 0.5
             },
             "pattern": {
              "fillmode": "overlay",
              "size": 10,
              "solidity": 0.2
             }
            },
            "type": "barpolar"
           }
          ],
          "carpet": [
           {
            "aaxis": {
             "endlinecolor": "#2a3f5f",
             "gridcolor": "white",
             "linecolor": "white",
             "minorgridcolor": "white",
             "startlinecolor": "#2a3f5f"
            },
            "baxis": {
             "endlinecolor": "#2a3f5f",
             "gridcolor": "white",
             "linecolor": "white",
             "minorgridcolor": "white",
             "startlinecolor": "#2a3f5f"
            },
            "type": "carpet"
           }
          ],
          "choropleth": [
           {
            "colorbar": {
             "outlinewidth": 0,
             "ticks": ""
            },
            "type": "choropleth"
           }
          ],
          "contour": [
           {
            "colorbar": {
             "outlinewidth": 0,
             "ticks": ""
            },
            "colorscale": [
             [
              0,
              "#0d0887"
             ],
             [
              0.1111111111111111,
              "#46039f"
             ],
             [
              0.2222222222222222,
              "#7201a8"
             ],
             [
              0.3333333333333333,
              "#9c179e"
             ],
             [
              0.4444444444444444,
              "#bd3786"
             ],
             [
              0.5555555555555556,
              "#d8576b"
             ],
             [
              0.6666666666666666,
              "#ed7953"
             ],
             [
              0.7777777777777778,
              "#fb9f3a"
             ],
             [
              0.8888888888888888,
              "#fdca26"
             ],
             [
              1,
              "#f0f921"
             ]
            ],
            "type": "contour"
           }
          ],
          "contourcarpet": [
           {
            "colorbar": {
             "outlinewidth": 0,
             "ticks": ""
            },
            "type": "contourcarpet"
           }
          ],
          "heatmap": [
           {
            "colorbar": {
             "outlinewidth": 0,
             "ticks": ""
            },
            "colorscale": [
             [
              0,
              "#0d0887"
             ],
             [
              0.1111111111111111,
              "#46039f"
             ],
             [
              0.2222222222222222,
              "#7201a8"
             ],
             [
              0.3333333333333333,
              "#9c179e"
             ],
             [
              0.4444444444444444,
              "#bd3786"
             ],
             [
              0.5555555555555556,
              "#d8576b"
             ],
             [
              0.6666666666666666,
              "#ed7953"
             ],
             [
              0.7777777777777778,
              "#fb9f3a"
             ],
             [
              0.8888888888888888,
              "#fdca26"
             ],
             [
              1,
              "#f0f921"
             ]
            ],
            "type": "heatmap"
           }
          ],
          "heatmapgl": [
           {
            "colorbar": {
             "outlinewidth": 0,
             "ticks": ""
            },
            "colorscale": [
             [
              0,
              "#0d0887"
             ],
             [
              0.1111111111111111,
              "#46039f"
             ],
             [
              0.2222222222222222,
              "#7201a8"
             ],
             [
              0.3333333333333333,
              "#9c179e"
             ],
             [
              0.4444444444444444,
              "#bd3786"
             ],
             [
              0.5555555555555556,
              "#d8576b"
             ],
             [
              0.6666666666666666,
              "#ed7953"
             ],
             [
              0.7777777777777778,
              "#fb9f3a"
             ],
             [
              0.8888888888888888,
              "#fdca26"
             ],
             [
              1,
              "#f0f921"
             ]
            ],
            "type": "heatmapgl"
           }
          ],
          "histogram": [
           {
            "marker": {
             "pattern": {
              "fillmode": "overlay",
              "size": 10,
              "solidity": 0.2
             }
            },
            "type": "histogram"
           }
          ],
          "histogram2d": [
           {
            "colorbar": {
             "outlinewidth": 0,
             "ticks": ""
            },
            "colorscale": [
             [
              0,
              "#0d0887"
             ],
             [
              0.1111111111111111,
              "#46039f"
             ],
             [
              0.2222222222222222,
              "#7201a8"
             ],
             [
              0.3333333333333333,
              "#9c179e"
             ],
             [
              0.4444444444444444,
              "#bd3786"
             ],
             [
              0.5555555555555556,
              "#d8576b"
             ],
             [
              0.6666666666666666,
              "#ed7953"
             ],
             [
              0.7777777777777778,
              "#fb9f3a"
             ],
             [
              0.8888888888888888,
              "#fdca26"
             ],
             [
              1,
              "#f0f921"
             ]
            ],
            "type": "histogram2d"
           }
          ],
          "histogram2dcontour": [
           {
            "colorbar": {
             "outlinewidth": 0,
             "ticks": ""
            },
            "colorscale": [
             [
              0,
              "#0d0887"
             ],
             [
              0.1111111111111111,
              "#46039f"
             ],
             [
              0.2222222222222222,
              "#7201a8"
             ],
             [
              0.3333333333333333,
              "#9c179e"
             ],
             [
              0.4444444444444444,
              "#bd3786"
             ],
             [
              0.5555555555555556,
              "#d8576b"
             ],
             [
              0.6666666666666666,
              "#ed7953"
             ],
             [
              0.7777777777777778,
              "#fb9f3a"
             ],
             [
              0.8888888888888888,
              "#fdca26"
             ],
             [
              1,
              "#f0f921"
             ]
            ],
            "type": "histogram2dcontour"
           }
          ],
          "mesh3d": [
           {
            "colorbar": {
             "outlinewidth": 0,
             "ticks": ""
            },
            "type": "mesh3d"
           }
          ],
          "parcoords": [
           {
            "line": {
             "colorbar": {
              "outlinewidth": 0,
              "ticks": ""
             }
            },
            "type": "parcoords"
           }
          ],
          "pie": [
           {
            "automargin": true,
            "type": "pie"
           }
          ],
          "scatter": [
           {
            "marker": {
             "colorbar": {
              "outlinewidth": 0,
              "ticks": ""
             }
            },
            "type": "scatter"
           }
          ],
          "scatter3d": [
           {
            "line": {
             "colorbar": {
              "outlinewidth": 0,
              "ticks": ""
             }
            },
            "marker": {
             "colorbar": {
              "outlinewidth": 0,
              "ticks": ""
             }
            },
            "type": "scatter3d"
           }
          ],
          "scattercarpet": [
           {
            "marker": {
             "colorbar": {
              "outlinewidth": 0,
              "ticks": ""
             }
            },
            "type": "scattercarpet"
           }
          ],
          "scattergeo": [
           {
            "marker": {
             "colorbar": {
              "outlinewidth": 0,
              "ticks": ""
             }
            },
            "type": "scattergeo"
           }
          ],
          "scattergl": [
           {
            "marker": {
             "colorbar": {
              "outlinewidth": 0,
              "ticks": ""
             }
            },
            "type": "scattergl"
           }
          ],
          "scattermapbox": [
           {
            "marker": {
             "colorbar": {
              "outlinewidth": 0,
              "ticks": ""
             }
            },
            "type": "scattermapbox"
           }
          ],
          "scatterpolar": [
           {
            "marker": {
             "colorbar": {
              "outlinewidth": 0,
              "ticks": ""
             }
            },
            "type": "scatterpolar"
           }
          ],
          "scatterpolargl": [
           {
            "marker": {
             "colorbar": {
              "outlinewidth": 0,
              "ticks": ""
             }
            },
            "type": "scatterpolargl"
           }
          ],
          "scatterternary": [
           {
            "marker": {
             "colorbar": {
              "outlinewidth": 0,
              "ticks": ""
             }
            },
            "type": "scatterternary"
           }
          ],
          "surface": [
           {
            "colorbar": {
             "outlinewidth": 0,
             "ticks": ""
            },
            "colorscale": [
             [
              0,
              "#0d0887"
             ],
             [
              0.1111111111111111,
              "#46039f"
             ],
             [
              0.2222222222222222,
              "#7201a8"
             ],
             [
              0.3333333333333333,
              "#9c179e"
             ],
             [
              0.4444444444444444,
              "#bd3786"
             ],
             [
              0.5555555555555556,
              "#d8576b"
             ],
             [
              0.6666666666666666,
              "#ed7953"
             ],
             [
              0.7777777777777778,
              "#fb9f3a"
             ],
             [
              0.8888888888888888,
              "#fdca26"
             ],
             [
              1,
              "#f0f921"
             ]
            ],
            "type": "surface"
           }
          ],
          "table": [
           {
            "cells": {
             "fill": {
              "color": "#EBF0F8"
             },
             "line": {
              "color": "white"
             }
            },
            "header": {
             "fill": {
              "color": "#C8D4E3"
             },
             "line": {
              "color": "white"
             }
            },
            "type": "table"
           }
          ]
         },
         "layout": {
          "annotationdefaults": {
           "arrowcolor": "#2a3f5f",
           "arrowhead": 0,
           "arrowwidth": 1
          },
          "autotypenumbers": "strict",
          "coloraxis": {
           "colorbar": {
            "outlinewidth": 0,
            "ticks": ""
           }
          },
          "colorscale": {
           "diverging": [
            [
             0,
             "#8e0152"
            ],
            [
             0.1,
             "#c51b7d"
            ],
            [
             0.2,
             "#de77ae"
            ],
            [
             0.3,
             "#f1b6da"
            ],
            [
             0.4,
             "#fde0ef"
            ],
            [
             0.5,
             "#f7f7f7"
            ],
            [
             0.6,
             "#e6f5d0"
            ],
            [
             0.7,
             "#b8e186"
            ],
            [
             0.8,
             "#7fbc41"
            ],
            [
             0.9,
             "#4d9221"
            ],
            [
             1,
             "#276419"
            ]
           ],
           "sequential": [
            [
             0,
             "#0d0887"
            ],
            [
             0.1111111111111111,
             "#46039f"
            ],
            [
             0.2222222222222222,
             "#7201a8"
            ],
            [
             0.3333333333333333,
             "#9c179e"
            ],
            [
             0.4444444444444444,
             "#bd3786"
            ],
            [
             0.5555555555555556,
             "#d8576b"
            ],
            [
             0.6666666666666666,
             "#ed7953"
            ],
            [
             0.7777777777777778,
             "#fb9f3a"
            ],
            [
             0.8888888888888888,
             "#fdca26"
            ],
            [
             1,
             "#f0f921"
            ]
           ],
           "sequentialminus": [
            [
             0,
             "#0d0887"
            ],
            [
             0.1111111111111111,
             "#46039f"
            ],
            [
             0.2222222222222222,
             "#7201a8"
            ],
            [
             0.3333333333333333,
             "#9c179e"
            ],
            [
             0.4444444444444444,
             "#bd3786"
            ],
            [
             0.5555555555555556,
             "#d8576b"
            ],
            [
             0.6666666666666666,
             "#ed7953"
            ],
            [
             0.7777777777777778,
             "#fb9f3a"
            ],
            [
             0.8888888888888888,
             "#fdca26"
            ],
            [
             1,
             "#f0f921"
            ]
           ]
          },
          "colorway": [
           "#636efa",
           "#EF553B",
           "#00cc96",
           "#ab63fa",
           "#FFA15A",
           "#19d3f3",
           "#FF6692",
           "#B6E880",
           "#FF97FF",
           "#FECB52"
          ],
          "font": {
           "color": "#2a3f5f"
          },
          "geo": {
           "bgcolor": "white",
           "lakecolor": "white",
           "landcolor": "#E5ECF6",
           "showlakes": true,
           "showland": true,
           "subunitcolor": "white"
          },
          "hoverlabel": {
           "align": "left"
          },
          "hovermode": "closest",
          "mapbox": {
           "style": "light"
          },
          "paper_bgcolor": "white",
          "plot_bgcolor": "#E5ECF6",
          "polar": {
           "angularaxis": {
            "gridcolor": "white",
            "linecolor": "white",
            "ticks": ""
           },
           "bgcolor": "#E5ECF6",
           "radialaxis": {
            "gridcolor": "white",
            "linecolor": "white",
            "ticks": ""
           }
          },
          "scene": {
           "xaxis": {
            "backgroundcolor": "#E5ECF6",
            "gridcolor": "white",
            "gridwidth": 2,
            "linecolor": "white",
            "showbackground": true,
            "ticks": "",
            "zerolinecolor": "white"
           },
           "yaxis": {
            "backgroundcolor": "#E5ECF6",
            "gridcolor": "white",
            "gridwidth": 2,
            "linecolor": "white",
            "showbackground": true,
            "ticks": "",
            "zerolinecolor": "white"
           },
           "zaxis": {
            "backgroundcolor": "#E5ECF6",
            "gridcolor": "white",
            "gridwidth": 2,
            "linecolor": "white",
            "showbackground": true,
            "ticks": "",
            "zerolinecolor": "white"
           }
          },
          "shapedefaults": {
           "line": {
            "color": "#2a3f5f"
           }
          },
          "ternary": {
           "aaxis": {
            "gridcolor": "white",
            "linecolor": "white",
            "ticks": ""
           },
           "baxis": {
            "gridcolor": "white",
            "linecolor": "white",
            "ticks": ""
           },
           "bgcolor": "#E5ECF6",
           "caxis": {
            "gridcolor": "white",
            "linecolor": "white",
            "ticks": ""
           }
          },
          "title": {
           "x": 0.05
          },
          "xaxis": {
           "automargin": true,
           "gridcolor": "white",
           "linecolor": "white",
           "ticks": "",
           "title": {
            "standoff": 15
           },
           "zerolinecolor": "white",
           "zerolinewidth": 2
          },
          "yaxis": {
           "automargin": true,
           "gridcolor": "white",
           "linecolor": "white",
           "ticks": "",
           "title": {
            "standoff": 15
           },
           "zerolinecolor": "white",
           "zerolinewidth": 2
          }
         }
        },
        "title": {
         "text": "Parallel Coordinate Plot"
        }
       }
      }
     },
     "metadata": {},
     "output_type": "display_data"
    }
   ],
   "source": [
    "optuna.visualization.plot_parallel_coordinate(study)"
   ]
  },
  {
   "cell_type": "code",
   "execution_count": 45,
   "id": "1d419df8",
   "metadata": {},
   "outputs": [
    {
     "name": "stdout",
     "output_type": "stream",
     "text": [
      "Best trial: {'C': 7.135690054282019, 'epsilon': 0.26668523510566133, 'kernel': 'rbf', 'degree': 4}\n"
     ]
    }
   ],
   "source": [
    "print(\"Best trial:\", study.best_trial.params)"
   ]
  },
  {
   "cell_type": "code",
   "execution_count": 46,
   "id": "ffefef6c",
   "metadata": {},
   "outputs": [
    {
     "data": {
      "text/html": [
       "<style>#sk-container-id-3 {color: black;}#sk-container-id-3 pre{padding: 0;}#sk-container-id-3 div.sk-toggleable {background-color: white;}#sk-container-id-3 label.sk-toggleable__label {cursor: pointer;display: block;width: 100%;margin-bottom: 0;padding: 0.3em;box-sizing: border-box;text-align: center;}#sk-container-id-3 label.sk-toggleable__label-arrow:before {content: \"▸\";float: left;margin-right: 0.25em;color: #696969;}#sk-container-id-3 label.sk-toggleable__label-arrow:hover:before {color: black;}#sk-container-id-3 div.sk-estimator:hover label.sk-toggleable__label-arrow:before {color: black;}#sk-container-id-3 div.sk-toggleable__content {max-height: 0;max-width: 0;overflow: hidden;text-align: left;background-color: #f0f8ff;}#sk-container-id-3 div.sk-toggleable__content pre {margin: 0.2em;color: black;border-radius: 0.25em;background-color: #f0f8ff;}#sk-container-id-3 input.sk-toggleable__control:checked~div.sk-toggleable__content {max-height: 200px;max-width: 100%;overflow: auto;}#sk-container-id-3 input.sk-toggleable__control:checked~label.sk-toggleable__label-arrow:before {content: \"▾\";}#sk-container-id-3 div.sk-estimator input.sk-toggleable__control:checked~label.sk-toggleable__label {background-color: #d4ebff;}#sk-container-id-3 div.sk-label input.sk-toggleable__control:checked~label.sk-toggleable__label {background-color: #d4ebff;}#sk-container-id-3 input.sk-hidden--visually {border: 0;clip: rect(1px 1px 1px 1px);clip: rect(1px, 1px, 1px, 1px);height: 1px;margin: -1px;overflow: hidden;padding: 0;position: absolute;width: 1px;}#sk-container-id-3 div.sk-estimator {font-family: monospace;background-color: #f0f8ff;border: 1px dotted black;border-radius: 0.25em;box-sizing: border-box;margin-bottom: 0.5em;}#sk-container-id-3 div.sk-estimator:hover {background-color: #d4ebff;}#sk-container-id-3 div.sk-parallel-item::after {content: \"\";width: 100%;border-bottom: 1px solid gray;flex-grow: 1;}#sk-container-id-3 div.sk-label:hover label.sk-toggleable__label {background-color: #d4ebff;}#sk-container-id-3 div.sk-serial::before {content: \"\";position: absolute;border-left: 1px solid gray;box-sizing: border-box;top: 0;bottom: 0;left: 50%;z-index: 0;}#sk-container-id-3 div.sk-serial {display: flex;flex-direction: column;align-items: center;background-color: white;padding-right: 0.2em;padding-left: 0.2em;position: relative;}#sk-container-id-3 div.sk-item {position: relative;z-index: 1;}#sk-container-id-3 div.sk-parallel {display: flex;align-items: stretch;justify-content: center;background-color: white;position: relative;}#sk-container-id-3 div.sk-item::before, #sk-container-id-3 div.sk-parallel-item::before {content: \"\";position: absolute;border-left: 1px solid gray;box-sizing: border-box;top: 0;bottom: 0;left: 50%;z-index: -1;}#sk-container-id-3 div.sk-parallel-item {display: flex;flex-direction: column;z-index: 1;position: relative;background-color: white;}#sk-container-id-3 div.sk-parallel-item:first-child::after {align-self: flex-end;width: 50%;}#sk-container-id-3 div.sk-parallel-item:last-child::after {align-self: flex-start;width: 50%;}#sk-container-id-3 div.sk-parallel-item:only-child::after {width: 0;}#sk-container-id-3 div.sk-dashed-wrapped {border: 1px dashed gray;margin: 0 0.4em 0.5em 0.4em;box-sizing: border-box;padding-bottom: 0.4em;background-color: white;}#sk-container-id-3 div.sk-label label {font-family: monospace;font-weight: bold;display: inline-block;line-height: 1.2em;}#sk-container-id-3 div.sk-label-container {text-align: center;}#sk-container-id-3 div.sk-container {/* jupyter's `normalize.less` sets `[hidden] { display: none; }` but bootstrap.min.css set `[hidden] { display: none !important; }` so we also need the `!important` here to be able to override the default hidden behavior on the sphinx rendered scikit-learn.org. See: https://github.com/scikit-learn/scikit-learn/issues/21755 */display: inline-block !important;position: relative;}#sk-container-id-3 div.sk-text-repr-fallback {display: none;}</style><div id=\"sk-container-id-3\" class=\"sk-top-container\"><div class=\"sk-text-repr-fallback\"><pre>SVR(C=7.135690054282019, degree=4, epsilon=0.26668523510566133)</pre><b>In a Jupyter environment, please rerun this cell to show the HTML representation or trust the notebook. <br />On GitHub, the HTML representation is unable to render, please try loading this page with nbviewer.org.</b></div><div class=\"sk-container\" hidden><div class=\"sk-item\"><div class=\"sk-estimator sk-toggleable\"><input class=\"sk-toggleable__control sk-hidden--visually\" id=\"sk-estimator-id-3\" type=\"checkbox\" checked><label for=\"sk-estimator-id-3\" class=\"sk-toggleable__label sk-toggleable__label-arrow\">SVR</label><div class=\"sk-toggleable__content\"><pre>SVR(C=7.135690054282019, degree=4, epsilon=0.26668523510566133)</pre></div></div></div></div></div>"
      ],
      "text/plain": [
       "SVR(C=7.135690054282019, degree=4, epsilon=0.26668523510566133)"
      ]
     },
     "execution_count": 46,
     "metadata": {},
     "output_type": "execute_result"
    }
   ],
   "source": [
    "svm_params = {\n",
    "    \"C\": study.best_trial.params[\"C\"],\n",
    "    \"epsilon\": study.best_trial.params[\"epsilon\"],\n",
    "    \"kernel\": study.best_trial.params[\"kernel\"],\n",
    "    \"degree\": study.best_trial.params[\"degree\"]\n",
    "}\n",
    "\n",
    "svm = SVR(**svm_params)\n",
    "svm.fit(Ni_X_train, Ni_y_train)"
   ]
  },
  {
   "cell_type": "code",
   "execution_count": 47,
   "id": "4c1a69d2",
   "metadata": {},
   "outputs": [],
   "source": [
    "y_train_pred = svm.predict(Ni_X_train)\n",
    "y_test_pred = svm.predict(Ni_X_test)"
   ]
  },
  {
   "cell_type": "code",
   "execution_count": 48,
   "id": "0f707a20",
   "metadata": {},
   "outputs": [
    {
     "name": "stdout",
     "output_type": "stream",
     "text": [
      "Train RMSE:  0.599306691281773\n",
      "Test RMSE:  0.7700191722899864\n"
     ]
    }
   ],
   "source": [
    "print(\"Train RMSE: \", np.sqrt(mean_squared_error(Ni_y_train, y_train_pred)))\n",
    "print(\"Test RMSE: \", np.sqrt(mean_squared_error(Ni_y_test, y_test_pred)))"
   ]
  },
  {
   "cell_type": "code",
   "execution_count": 49,
   "id": "641d78f4",
   "metadata": {},
   "outputs": [
    {
     "name": "stdout",
     "output_type": "stream",
     "text": [
      "Train R2:  0.7527124582087972\n",
      "Test R2:  0.5842670685122107\n"
     ]
    }
   ],
   "source": [
    "print(\"Train R2: \", r2_score(Ni_y_train, y_train_pred))\n",
    "print(\"Test R2: \", r2_score(Ni_y_test, y_test_pred))"
   ]
  },
  {
   "cell_type": "code",
   "execution_count": 50,
   "id": "badc2f1d",
   "metadata": {},
   "outputs": [
    {
     "data": {
      "image/png": "[encoded data removed]",
      "text/plain": [
       "<Figure size 640x480 with 1 Axes>"
      ]
     },
     "metadata": {},
     "output_type": "display_data"
    }
   ],
   "source": [
    "plt.scatter(y_train_pred, np.array(Ni_y_train), color=\"orange\", alpha=0.3)\n",
    "plt.scatter(y_test_pred, np.array(Ni_y_test), color=\"green\", alpha=0.4)\n",
    "plt.axis(\"auto\") # scaled, tight, auto, image, square\n",
    "# plt.xlim([0, 1.5]) \n",
    "# plt.ylim(0, None) \n",
    "plt.xlabel('Predicted Values')\n",
    "plt.ylabel('Actual Values')\n",
    "\n",
    "# Add y=x line\n",
    "plt.plot([0, 4.0], [0, 4.0], color='red', linestyle='-')\n",
    "\n",
    "plt.show()"
   ]
  }
 ],
 "metadata": {
  "kernelspec": {
   "display_name": "Python 3",
   "language": "python",
   "name": "python3"
  },
  "language_info": {
   "codemirror_mode": {
    "name": "ipython",
    "version": 3
   },
   "file_extension": ".py",
   "mimetype": "text/x-python",
   "name": "python",
   "nbconvert_exporter": "python",
   "pygments_lexer": "ipython3",
   "version": "3.8.11"
  }
 },
 "nbformat": 4,
 "nbformat_minor": 5
}
