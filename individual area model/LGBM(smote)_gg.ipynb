{
 "cells": [
  {
   "attachments": {},
   "cell_type": "markdown",
   "id": "451911be",
   "metadata": {},
   "source": [
    "#### Library import"
   ]
  },
  {
   "cell_type": "code",
   "execution_count": 13,
   "id": "8a394942",
   "metadata": {},
   "outputs": [],
   "source": [
    "import os\n",
    "import pandas as pd\n",
    "import numpy as np\n",
    "import matplotlib.pyplot as plt\n",
    "%matplotlib inline\n",
    "import seaborn as sns\n",
    "import tensorflow as tf\n",
    "import missingno as msno\n",
    "\n",
    "import warnings\n",
    "warnings.filterwarnings('ignore')\n",
    "\n",
    "from sklearn.model_selection import train_test_split\n",
    "from sklearn.model_selection import GridSearchCV\n",
    "from sklearn.metrics import mean_squared_error, r2_score\n",
    "from sklearn.preprocessing import StandardScaler, MinMaxScaler, RobustScaler\n",
    "from sklearn.ensemble import RandomForestRegressor, GradientBoostingRegressor, ExtraTreesRegressor\n",
    "from sklearn.model_selection import KFold\n",
    "from lightgbm import LGBMRegressor\n",
    "from xgboost import XGBRegressor\n",
    "from ngboost import NGBRegressor\n",
    "from scipy.stats import norm, skew\n",
    "\n",
    "from matplotlib.ticker import FormatStrFormatter\n",
    "\n",
    "import re\n",
    "from tqdm import tqdm"
   ]
  },
  {
   "attachments": {},
   "cell_type": "markdown",
   "id": "31a13d68",
   "metadata": {},
   "source": [
    "#### GPU setting"
   ]
  },
  {
   "cell_type": "code",
   "execution_count": 14,
   "id": "0ff69fbf",
   "metadata": {},
   "outputs": [],
   "source": [
    "from tensorflow.compat.v1 import ConfigProto\n",
    "from tensorflow.compat.v1 import InteractiveSession"
   ]
  },
  {
   "cell_type": "code",
   "execution_count": 15,
   "id": "1c359e17",
   "metadata": {},
   "outputs": [],
   "source": [
    "config = ConfigProto()\n",
    "config.gpu_options.per_process_gpu_memory_fraction = 0.4\n",
    "session = InteractiveSession(config = config)"
   ]
  },
  {
   "cell_type": "code",
   "execution_count": 16,
   "id": "c1894e3b",
   "metadata": {},
   "outputs": [
    {
     "name": "stdout",
     "output_type": "stream",
     "text": [
      "[name: \"/device:CPU:0\"\n",
      "device_type: \"CPU\"\n",
      "memory_limit: 268435456\n",
      "locality {\n",
      "}\n",
      "incarnation: 9775292424254468416\n",
      ", name: \"/device:GPU:0\"\n",
      "device_type: \"GPU\"\n",
      "memory_limit: 3435973836\n",
      "locality {\n",
      "  bus_id: 1\n",
      "  links {\n",
      "  }\n",
      "}\n",
      "incarnation: 2445530478520034701\n",
      "physical_device_desc: \"device: 0, name: NVIDIA GeForce RTX 3060 Ti, pci bus id: 0000:07:00.0, compute capability: 8.6\"\n",
      "]\n"
     ]
    }
   ],
   "source": [
    "physical_devices = tf.config.list_physical_devices('GPU')\n",
    "physical_devices\n",
    "\n",
    "from tensorflow.python.client import device_lib\n",
    "\n",
    "print(device_lib.list_local_devices())"
   ]
  },
  {
   "cell_type": "code",
   "execution_count": 17,
   "id": "324427e4",
   "metadata": {},
   "outputs": [],
   "source": [
    "import os\n",
    "\n",
    "os.environ[\"CUDA_VISIBLE_DEVICES\"]=\"0\"\n",
    "gpus = tf.config.experimental.list_physical_devices('GPU')\n",
    "if gpus:\n",
    "    try:\n",
    "        tf.config.experimental.set_memory_growth(gpus[0], True)\n",
    "    except RuntimeError as e:\n",
    "        print(e)"
   ]
  },
  {
   "attachments": {},
   "cell_type": "markdown",
   "id": "cb740f81",
   "metadata": {},
   "source": [
    "#### Data import and preprocessing"
   ]
  },
  {
   "cell_type": "code",
   "execution_count": 18,
   "id": "9288345d",
   "metadata": {
    "scrolled": true
   },
   "outputs": [
    {
     "data": {
      "text/plain": [
       "Index(['OBJECTID_x', 'ID', 'pH', 'As', 'Cd', 'Ni', 'Pb', 'Zn', 'Hg', 'slope',\n",
       "       'altitude', 'profile_curve', 'profile_c_num', 'profile_c_abs',\n",
       "       'planform_curve', 'planform_c_num', 'planform_c_abs', 'HYDGRP',\n",
       "       'HYDGRP_A', 'HYDGRP_B', 'HYDGRP_C', 'HYDGRP_D', 'ANION_EXCL', 'SOL_CRK',\n",
       "       'SOL_K1', 'CLAY1', 'SILT1', 'SAND1', 'ROCK1', 'SOL_EC1', 'distance'],\n",
       "      dtype='object')"
      ]
     },
     "execution_count": 18,
     "metadata": {},
     "output_type": "execute_result"
    }
   ],
   "source": [
    "data = pd.read_csv(\"data/data_gg.csv\")\n",
    "data.columns"
   ]
  },
  {
   "cell_type": "code",
   "execution_count": 19,
   "id": "bbf87a23",
   "metadata": {},
   "outputs": [
    {
     "data": {
      "text/plain": [
       "Index(['pH', 'As', 'Cd', 'Ni', 'Pb', 'Zn', 'Hg', 'slope', 'altitude',\n",
       "       'profile_curve', 'planform_curve', 'HYDGRP_A', 'HYDGRP_B', 'HYDGRP_C',\n",
       "       'HYDGRP_D', 'SOL_K1', 'CLAY1', 'SILT1', 'SAND1', 'ROCK1', 'distance'],\n",
       "      dtype='object')"
      ]
     },
     "execution_count": 19,
     "metadata": {},
     "output_type": "execute_result"
    }
   ],
   "source": [
    "data = data.drop(['OBJECTID_x','ID','HYDGRP','profile_c_num', 'profile_c_abs','planform_c_num', 'planform_c_abs','ANION_EXCL','SOL_CRK','SOL_EC1'], axis = 1)\n",
    "data.columns"
   ]
  },
  {
   "cell_type": "code",
   "execution_count": 20,
   "id": "8d9bad18",
   "metadata": {},
   "outputs": [],
   "source": [
    "As = data\n",
    "Cd = data\n",
    "Ni = data"
   ]
  },
  {
   "cell_type": "code",
   "execution_count": 21,
   "id": "b1dbe457",
   "metadata": {},
   "outputs": [],
   "source": [
    "As = As.drop([\"Cd\", \"Ni\", \"Pb\", \"Zn\", \"Hg\"], axis = 1)\n",
    "Cd = Cd.drop([\"As\", \"Ni\", \"Pb\", \"Zn\", \"Hg\"], axis = 1)\n",
    "Ni = Ni.drop([\"As\", \"Cd\", \"Pb\", \"Zn\", \"Hg\"], axis = 1)"
   ]
  },
  {
   "cell_type": "code",
   "execution_count": 22,
   "id": "3077737a",
   "metadata": {},
   "outputs": [
    {
     "name": "stdout",
     "output_type": "stream",
     "text": [
      "(781, 16)\n",
      "(781, 16)\n",
      "(781, 16)\n"
     ]
    }
   ],
   "source": [
    "print(As.shape)\n",
    "print(Cd.shape)\n",
    "print(Ni.shape)"
   ]
  },
  {
   "cell_type": "markdown",
   "id": "89adead2",
   "metadata": {},
   "source": [
    "#### Oversampling by SMOGN (SMOTE Regression)"
   ]
  },
  {
   "cell_type": "code",
   "execution_count": 23,
   "id": "d0a159ca",
   "metadata": {},
   "outputs": [],
   "source": [
    "import smogn"
   ]
  },
  {
   "cell_type": "code",
   "execution_count": 24,
   "id": "d5fd8af3",
   "metadata": {},
   "outputs": [
    {
     "name": "stderr",
     "output_type": "stream",
     "text": [
      "dist_matrix:   1%|1         | 2/148 [00:00<00:11, 12.66it/s]"
     ]
    },
    {
     "name": "stderr",
     "output_type": "stream",
     "text": [
      "dist_matrix: 100%|##########| 148/148 [00:11<00:00, 12.97it/s]\n",
      "synth_matrix: 100%|##########| 148/148 [00:01<00:00, 145.64it/s]\n",
      "r_index: 100%|##########| 44/44 [00:00<00:00, 435.55it/s]\n",
      "dist_matrix: 100%|##########| 88/88 [00:04<00:00, 20.87it/s]\n",
      "synth_matrix: 100%|##########| 88/88 [00:01<00:00, 71.30it/s]\n",
      "r_index: 100%|##########| 79/79 [00:00<00:00, 442.67it/s]\n",
      "dist_matrix: 100%|##########| 115/115 [00:07<00:00, 16.17it/s]\n",
      "synth_matrix: 100%|##########| 115/115 [00:01<00:00, 109.87it/s]\n",
      "r_index: 100%|##########| 91/91 [00:00<00:00, 439.52it/s]\n"
     ]
    }
   ],
   "source": [
    "As_smogn = smogn.smoter(data = As, y = 'As', samp_method = 'extreme')\n",
    "Cd_smogn = smogn.smoter(data = Cd, y = 'Cd', samp_method = 'extreme')\n",
    "Ni_smogn = smogn.smoter(data = Ni, y = 'Ni', samp_method = 'extreme')"
   ]
  },
  {
   "cell_type": "code",
   "execution_count": 25,
   "id": "ea3035fe",
   "metadata": {},
   "outputs": [
    {
     "name": "stdout",
     "output_type": "stream",
     "text": [
      "(1143, 16)\n",
      "(1319, 16)\n",
      "(1199, 16)\n"
     ]
    }
   ],
   "source": [
    "print(As_smogn.shape)\n",
    "print(Cd_smogn.shape)\n",
    "print(Ni_smogn.shape)"
   ]
  },
  {
   "attachments": {},
   "cell_type": "markdown",
   "id": "ed72a9b1",
   "metadata": {},
   "source": [
    "#### Eliminate outlier and train / test split"
   ]
  },
  {
   "cell_type": "code",
   "execution_count": 26,
   "id": "43604a42",
   "metadata": {},
   "outputs": [],
   "source": [
    "def eli_outlier(data, value):\n",
    "    q1 = data[value].quantile(0.25)\n",
    "    q3 = data[value].quantile(0.75)\n",
    "\n",
    "    iqr = q3 - q1\n",
    "\n",
    "    q1_condition = data[value] < q1-1.5*iqr\n",
    "    q3_condition = data[value] > q3+1.5*iqr\n",
    "\n",
    "    reset_q1_index = data[q1_condition].index\n",
    "    reset_q3_index = data[q3_condition].index\n",
    "\n",
    "    data.drop(reset_q1_index, inplace = True)\n",
    "    data.drop(reset_q3_index, inplace = True)\n",
    "\n",
    "    return data"
   ]
  },
  {
   "cell_type": "code",
   "execution_count": 27,
   "id": "9b7632f2",
   "metadata": {},
   "outputs": [],
   "source": [
    "As_ros = eli_outlier(As_smogn, \"As\")\n",
    "Cd_ros = eli_outlier(Cd_smogn, \"Cd\")\n",
    "Ni_ros = eli_outlier(Ni_smogn, \"Ni\")"
   ]
  },
  {
   "cell_type": "code",
   "execution_count": 28,
   "id": "c05c01a2",
   "metadata": {},
   "outputs": [],
   "source": [
    "As_X = As_ros.drop([\"As\"], axis=1)\n",
    "Cd_X = Cd_ros.drop([\"Cd\"], axis=1)\n",
    "Ni_X = Ni_ros.drop([\"Ni\"], axis=1)\n",
    "\n",
    "As_y = As_ros[\"As\"]\n",
    "Cd_y = Cd_ros[\"Cd\"]\n",
    "Ni_y = Ni_ros[\"Ni\"]"
   ]
  },
  {
   "cell_type": "code",
   "execution_count": 29,
   "id": "7237a19a",
   "metadata": {},
   "outputs": [],
   "source": [
    "As_y = np.log1p(As_ros[\"As\"])\n",
    "Cd_y = np.log1p(Cd_ros[\"Cd\"])\n",
    "Ni_y = np.log1p(Ni_ros[\"Ni\"])"
   ]
  },
  {
   "cell_type": "code",
   "execution_count": 30,
   "id": "9b2b0920",
   "metadata": {},
   "outputs": [
    {
     "name": "stdout",
     "output_type": "stream",
     "text": [
      "(876, 15)\n",
      "(1237, 15)\n",
      "(1095, 15)\n"
     ]
    }
   ],
   "source": [
    "print(As_X.shape)\n",
    "print(Cd_X.shape)\n",
    "print(Ni_X.shape)"
   ]
  },
  {
   "attachments": {},
   "cell_type": "markdown",
   "id": "c92e5bb6",
   "metadata": {},
   "source": [
    "StandardScaler"
   ]
  },
  {
   "cell_type": "code",
   "execution_count": 31,
   "id": "38b5268e",
   "metadata": {},
   "outputs": [],
   "source": [
    "from sklearn.preprocessing import StandardScaler\n",
    "\n",
    "scaler = StandardScaler()\n",
    "\n",
    "As_X_train, As_X_test, As_y_train, As_y_test = train_test_split(As_X, As_y, test_size=0.2, random_state=42)\n",
    "Cd_X_train, Cd_X_test, Cd_y_train, Cd_y_test = train_test_split(Cd_X, Cd_y, test_size=0.2, random_state=42)\n",
    "Ni_X_train, Ni_X_test, Ni_y_train, Ni_y_test = train_test_split(Ni_X, Ni_y, test_size=0.2, random_state=42)\n",
    "\n",
    "As_X_train = scaler.fit_transform(As_X_train)\n",
    "As_X_test = scaler.fit_transform(As_X_test)\n",
    "\n",
    "Cd_X_train = scaler.fit_transform(Cd_X_train)\n",
    "Cd_X_test = scaler.fit_transform(Cd_X_test)\n",
    "\n",
    "Ni_X_train = scaler.fit_transform(Ni_X_train)\n",
    "Ni_X_test = scaler.fit_transform(Ni_X_test)"
   ]
  },
  {
   "cell_type": "code",
   "execution_count": 32,
   "id": "416a7027",
   "metadata": {},
   "outputs": [
    {
     "data": {
      "text/plain": [
       "' from sklearn.preprocessing import StandardScaler\\n\\nscaler = StandardScaler()\\nAs_X_scaled = scaler.fit_transform(As_X)\\nCd_X_scaled = scaler.fit_transform(Cd_X)\\nNi_X_scaled = scaler.fit_transform(Ni_X)\\n\\nAs_X_train, As_X_test, As_y_train, As_y_test = train_test_split(As_X_scaled, As_y, test_size=0.3, random_state=42)\\nCd_X_train, Cd_X_test, Cd_y_train, Cd_y_test = train_test_split(Cd_X_scaled, Cd_y, test_size=0.3, random_state=42)\\nNi_X_train, Ni_X_test, Ni_y_train, Ni_y_test = train_test_split(Ni_X_scaled, Ni_y, test_size=0.3, random_state=42) '"
      ]
     },
     "execution_count": 32,
     "metadata": {},
     "output_type": "execute_result"
    }
   ],
   "source": [
    "''' from sklearn.preprocessing import StandardScaler\n",
    "\n",
    "scaler = StandardScaler()\n",
    "As_X_scaled = scaler.fit_transform(As_X)\n",
    "Cd_X_scaled = scaler.fit_transform(Cd_X)\n",
    "Ni_X_scaled = scaler.fit_transform(Ni_X)\n",
    "\n",
    "As_X_train, As_X_test, As_y_train, As_y_test = train_test_split(As_X_scaled, As_y, test_size=0.3, random_state=42)\n",
    "Cd_X_train, Cd_X_test, Cd_y_train, Cd_y_test = train_test_split(Cd_X_scaled, Cd_y, test_size=0.3, random_state=42)\n",
    "Ni_X_train, Ni_X_test, Ni_y_train, Ni_y_test = train_test_split(Ni_X_scaled, Ni_y, test_size=0.3, random_state=42) '''"
   ]
  },
  {
   "attachments": {},
   "cell_type": "markdown",
   "id": "2fe0d293",
   "metadata": {},
   "source": [
    "MinMaxScaler"
   ]
  },
  {
   "cell_type": "code",
   "execution_count": 33,
   "id": "e8596f9f",
   "metadata": {},
   "outputs": [],
   "source": [
    "# from sklearn.preprocessing import MinMaxScaler\n",
    "\n",
    "# scaler = MinMaxScaler()\n",
    "# As_X_scaled = scaler.fit_transform(As_X)\n",
    "# Cd_X_scaled = scaler.fit_transform(Cd_X)\n",
    "# Ni_X_scaled = scaler.fit_transform(Ni_X)\n",
    "\n",
    "# As_X_train, As_X_test, As_y_train, As_y_test = train_test_split(As_X_scaled, As_y, test_size=0.2, random_state=42)\n",
    "# Cd_X_train, Cd_X_test, Cd_y_train, Cd_y_test = train_test_split(Cd_X_scaled, Cd_y, test_size=0.2, random_state=42)\n",
    "# Ni_X_train, Ni_X_test, Ni_y_train, Ni_y_test = train_test_split(Ni_X_scaled, Ni_y, test_size=0.2, random_state=42)"
   ]
  },
  {
   "cell_type": "code",
   "execution_count": 34,
   "id": "c6cad4b1",
   "metadata": {},
   "outputs": [
    {
     "name": "stdout",
     "output_type": "stream",
     "text": [
      "(700, 15)\n",
      "(989, 15)\n",
      "(876, 15)\n"
     ]
    }
   ],
   "source": [
    "print(As_X_train.shape)\n",
    "print(Cd_X_train.shape)\n",
    "print(Ni_X_train.shape)"
   ]
  },
  {
   "attachments": {},
   "cell_type": "markdown",
   "id": "bd11b27e",
   "metadata": {},
   "source": [
    "#### 10-Fold Crossvalidation"
   ]
  },
  {
   "cell_type": "code",
   "execution_count": 35,
   "id": "7a765916",
   "metadata": {},
   "outputs": [],
   "source": [
    "kf = KFold(n_splits = 5, random_state = 42, shuffle = True)"
   ]
  },
  {
   "attachments": {},
   "cell_type": "markdown",
   "id": "859638d0",
   "metadata": {},
   "source": [
    "#### Optuna Optimization"
   ]
  },
  {
   "cell_type": "code",
   "execution_count": 36,
   "id": "92a47d83",
   "metadata": {},
   "outputs": [],
   "source": [
    "import optuna\n",
    "\n",
    "from optuna import Trial\n",
    "from optuna.samplers import TPESampler"
   ]
  },
  {
   "cell_type": "code",
   "execution_count": 37,
   "id": "a7669fea",
   "metadata": {},
   "outputs": [],
   "source": [
    "from sklearn.model_selection import cross_val_score\n",
    "\n",
    "def objectiveLGBM(trial: Trial, X_train, y_train) -> float:\n",
    "    lgbm_paramas = {\n",
    "        \"random_state\": 42,\n",
    "        \"learning_rate\": 0.1, \n",
    "        \"n_estimators\": trial.suggest_int(\"n_estimators\", 500, 1000),\n",
    "        \"max_depth\": trial.suggest_int(\"max_depth\", 1, 30),\n",
    "        \"num_leaves\": trial.suggest_int(\"num_leaves\", 2, 32),\n",
    "        \"min_child_samples\": trial.suggest_int(\"min_child_samples\", 1, 10),\n",
    "        \"num_iterations\": trial.suggest_int(\"num_iterations\", 500, 1000)\n",
    "    }\n",
    "    \n",
    "    lgbm = LGBMRegressor(**lgbm_paramas)\n",
    "    r2 = cross_val_score(lgbm, X_train, y_train, scoring = \"r2\", cv = kf)\n",
    "    r2 = r2.mean()\n",
    "    \n",
    "    return r2"
   ]
  },
  {
   "attachments": {},
   "cell_type": "markdown",
   "id": "b0988f46",
   "metadata": {},
   "source": [
    "####  Optimization"
   ]
  },
  {
   "cell_type": "code",
   "execution_count": 38,
   "id": "94f5e00d",
   "metadata": {
    "scrolled": false
   },
   "outputs": [
    {
     "name": "stderr",
     "output_type": "stream",
     "text": [
      "\u001b[32m[I 2023-08-24 14:06:16,168]\u001b[0m A new study created in memory with name: lgbm_parameter_opt\u001b[0m\n",
      "\u001b[32m[I 2023-08-24 14:06:20,763]\u001b[0m Trial 0 finished with value: 0.4275140337219221 and parameters: {'n_estimators': 945, 'max_depth': 27, 'num_leaves': 25, 'min_child_samples': 6, 'num_iterations': 871}. Best is trial 0 with value: 0.4275140337219221.\u001b[0m\n",
      "\u001b[32m[I 2023-08-24 14:06:23,357]\u001b[0m Trial 1 finished with value: 0.4331820219031977 and parameters: {'n_estimators': 875, 'max_depth': 28, 'num_leaves': 16, 'min_child_samples': 3, 'num_iterations': 673}. Best is trial 1 with value: 0.4331820219031977.\u001b[0m\n",
      "\u001b[32m[I 2023-08-24 14:06:26,418]\u001b[0m Trial 2 finished with value: 0.4489951581198409 and parameters: {'n_estimators': 749, 'max_depth': 28, 'num_leaves': 14, 'min_child_samples': 3, 'num_iterations': 891}. Best is trial 2 with value: 0.4489951581198409.\u001b[0m\n",
      "\u001b[32m[I 2023-08-24 14:06:28,576]\u001b[0m Trial 3 finished with value: 0.4194281532982539 and parameters: {'n_estimators': 796, 'max_depth': 22, 'num_leaves': 19, 'min_child_samples': 6, 'num_iterations': 519}. Best is trial 2 with value: 0.4489951581198409.\u001b[0m\n",
      "\u001b[32m[I 2023-08-24 14:06:29,980]\u001b[0m Trial 4 finished with value: 0.4138089056766304 and parameters: {'n_estimators': 826, 'max_depth': 3, 'num_leaves': 28, 'min_child_samples': 6, 'num_iterations': 949}. Best is trial 2 with value: 0.4489951581198409.\u001b[0m\n",
      "\u001b[32m[I 2023-08-24 14:06:33,635]\u001b[0m Trial 5 finished with value: 0.4255816299166716 and parameters: {'n_estimators': 622, 'max_depth': 30, 'num_leaves': 27, 'min_child_samples': 5, 'num_iterations': 638}. Best is trial 2 with value: 0.4489951581198409.\u001b[0m\n",
      "\u001b[32m[I 2023-08-24 14:06:36,063]\u001b[0m Trial 6 finished with value: 0.4255579244088711 and parameters: {'n_estimators': 879, 'max_depth': 30, 'num_leaves': 17, 'min_child_samples': 6, 'num_iterations': 645}. Best is trial 2 with value: 0.4489951581198409.\u001b[0m\n",
      "\u001b[32m[I 2023-08-24 14:06:39,156]\u001b[0m Trial 7 finished with value: 0.4302814019073895 and parameters: {'n_estimators': 898, 'max_depth': 30, 'num_leaves': 29, 'min_child_samples': 6, 'num_iterations': 536}. Best is trial 2 with value: 0.4489951581198409.\u001b[0m\n",
      "\u001b[32m[I 2023-08-24 14:06:39,653]\u001b[0m Trial 8 finished with value: 0.41414099125231674 and parameters: {'n_estimators': 502, 'max_depth': 1, 'num_leaves': 19, 'min_child_samples': 2, 'num_iterations': 762}. Best is trial 2 with value: 0.4489951581198409.\u001b[0m\n",
      "\u001b[32m[I 2023-08-24 14:06:42,149]\u001b[0m Trial 9 finished with value: 0.43937902277068125 and parameters: {'n_estimators': 746, 'max_depth': 29, 'num_leaves': 11, 'min_child_samples': 5, 'num_iterations': 960}. Best is trial 2 with value: 0.4489951581198409.\u001b[0m\n",
      "\u001b[32m[I 2023-08-24 14:06:42,546]\u001b[0m Trial 10 finished with value: 0.42270881635819035 and parameters: {'n_estimators': 695, 'max_depth': 13, 'num_leaves': 2, 'min_child_samples': 10, 'num_iterations': 805}. Best is trial 2 with value: 0.4489951581198409.\u001b[0m\n",
      "\u001b[32m[I 2023-08-24 14:06:44,287]\u001b[0m Trial 11 finished with value: 0.4472391661479242 and parameters: {'n_estimators': 702, 'max_depth': 20, 'num_leaves': 8, 'min_child_samples': 3, 'num_iterations': 989}. Best is trial 2 with value: 0.4489951581198409.\u001b[0m\n",
      "\u001b[32m[I 2023-08-24 14:06:45,976]\u001b[0m Trial 12 finished with value: 0.4667085217047734 and parameters: {'n_estimators': 652, 'max_depth': 20, 'num_leaves': 7, 'min_child_samples': 1, 'num_iterations': 994}. Best is trial 12 with value: 0.4667085217047734.\u001b[0m\n",
      "\u001b[32m[I 2023-08-24 14:06:47,506]\u001b[0m Trial 13 finished with value: 0.4681732238172832 and parameters: {'n_estimators': 598, 'max_depth': 14, 'num_leaves': 7, 'min_child_samples': 1, 'num_iterations': 866}. Best is trial 13 with value: 0.4681732238172832.\u001b[0m\n",
      "\u001b[32m[I 2023-08-24 14:06:48,245]\u001b[0m Trial 14 finished with value: 0.4685086120811883 and parameters: {'n_estimators': 593, 'max_depth': 11, 'num_leaves': 3, 'min_child_samples': 1, 'num_iterations': 874}. Best is trial 14 with value: 0.4685086120811883.\u001b[0m\n",
      "\u001b[32m[I 2023-08-24 14:06:48,742]\u001b[0m Trial 15 finished with value: 0.4243682997920712 and parameters: {'n_estimators': 528, 'max_depth': 10, 'num_leaves': 2, 'min_child_samples': 1, 'num_iterations': 852}. Best is trial 14 with value: 0.4685086120811883.\u001b[0m\n",
      "\u001b[32m[I 2023-08-24 14:06:50,006]\u001b[0m Trial 16 finished with value: 0.4504714923839074 and parameters: {'n_estimators': 580, 'max_depth': 7, 'num_leaves': 6, 'min_child_samples': 9, 'num_iterations': 810}. Best is trial 14 with value: 0.4685086120811883.\u001b[0m\n",
      "\u001b[32m[I 2023-08-24 14:06:52,567]\u001b[0m Trial 17 finished with value: 0.45689551331390155 and parameters: {'n_estimators': 588, 'max_depth': 15, 'num_leaves': 11, 'min_child_samples': 1, 'num_iterations': 909}. Best is trial 14 with value: 0.4685086120811883.\u001b[0m\n",
      "\u001b[32m[I 2023-08-24 14:06:53,484]\u001b[0m Trial 18 finished with value: 0.4536021640662355 and parameters: {'n_estimators': 548, 'max_depth': 8, 'num_leaves': 5, 'min_child_samples': 4, 'num_iterations': 714}. Best is trial 14 with value: 0.4685086120811883.\u001b[0m\n",
      "\u001b[32m[I 2023-08-24 14:06:55,431]\u001b[0m Trial 19 finished with value: 0.4272537225615096 and parameters: {'n_estimators': 655, 'max_depth': 12, 'num_leaves': 11, 'min_child_samples': 8, 'num_iterations': 818}. Best is trial 14 with value: 0.4685086120811883.\u001b[0m\n",
      "\u001b[32m[I 2023-08-24 14:06:58,242]\u001b[0m Trial 20 finished with value: 0.437009248194273 and parameters: {'n_estimators': 612, 'max_depth': 5, 'num_leaves': 23, 'min_child_samples': 2, 'num_iterations': 762}. Best is trial 14 with value: 0.4685086120811883.\u001b[0m\n",
      "\u001b[32m[I 2023-08-24 14:06:59,933]\u001b[0m Trial 21 finished with value: 0.46670841476989333 and parameters: {'n_estimators': 663, 'max_depth': 19, 'num_leaves': 7, 'min_child_samples': 1, 'num_iterations': 1000}. Best is trial 14 with value: 0.4685086120811883.\u001b[0m\n",
      "\u001b[32m[I 2023-08-24 14:07:00,919]\u001b[0m Trial 22 finished with value: 0.4546366208634479 and parameters: {'n_estimators': 653, 'max_depth': 18, 'num_leaves': 4, 'min_child_samples': 2, 'num_iterations': 932}. Best is trial 14 with value: 0.4685086120811883.\u001b[0m\n",
      "\u001b[32m[I 2023-08-24 14:07:07,429]\u001b[0m Trial 23 finished with value: 0.4358605919230527 and parameters: {'n_estimators': 573, 'max_depth': 16, 'num_leaves': 32, 'min_child_samples': 1, 'num_iterations': 855}. Best is trial 14 with value: 0.4685086120811883.\u001b[0m\n",
      "\u001b[32m[I 2023-08-24 14:07:09,411]\u001b[0m Trial 24 finished with value: 0.45744835273842116 and parameters: {'n_estimators': 700, 'max_depth': 24, 'num_leaves': 8, 'min_child_samples': 2, 'num_iterations': 912}. Best is trial 14 with value: 0.4685086120811883.\u001b[0m\n",
      "\u001b[32m[I 2023-08-24 14:07:11,587]\u001b[0m Trial 25 finished with value: 0.43389552916751556 and parameters: {'n_estimators': 618, 'max_depth': 15, 'num_leaves': 9, 'min_child_samples': 3, 'num_iterations': 961}. Best is trial 14 with value: 0.4685086120811883.\u001b[0m\n",
      "\u001b[32m[I 2023-08-24 14:07:12,465]\u001b[0m Trial 26 finished with value: 0.44752902519880833 and parameters: {'n_estimators': 548, 'max_depth': 11, 'num_leaves': 3, 'min_child_samples': 4, 'num_iterations': 841}. Best is trial 14 with value: 0.4685086120811883.\u001b[0m\n",
      "\u001b[32m[I 2023-08-24 14:07:15,128]\u001b[0m Trial 27 finished with value: 0.4598142466601457 and parameters: {'n_estimators': 500, 'max_depth': 22, 'num_leaves': 14, 'min_child_samples': 1, 'num_iterations': 724}. Best is trial 14 with value: 0.4685086120811883.\u001b[0m\n",
      "\u001b[32m[I 2023-08-24 14:07:16,232]\u001b[0m Trial 28 finished with value: 0.448031320055597 and parameters: {'n_estimators': 673, 'max_depth': 17, 'num_leaves': 5, 'min_child_samples': 4, 'num_iterations': 891}. Best is trial 14 with value: 0.4685086120811883.\u001b[0m\n",
      "\u001b[32m[I 2023-08-24 14:07:18,029]\u001b[0m Trial 29 finished with value: 0.43522706856227755 and parameters: {'n_estimators': 626, 'max_depth': 24, 'num_leaves': 10, 'min_child_samples': 7, 'num_iterations': 788}. Best is trial 14 with value: 0.4685086120811883.\u001b[0m\n",
      "\u001b[32m[I 2023-08-24 14:07:20,680]\u001b[0m Trial 30 finished with value: 0.4537897373394631 and parameters: {'n_estimators': 727, 'max_depth': 14, 'num_leaves': 13, 'min_child_samples': 2, 'num_iterations': 871}. Best is trial 14 with value: 0.4685086120811883.\u001b[0m\n",
      "\u001b[32m[I 2023-08-24 14:07:22,481]\u001b[0m Trial 31 finished with value: 0.46692500989336105 and parameters: {'n_estimators': 652, 'max_depth': 20, 'num_leaves': 7, 'min_child_samples': 1, 'num_iterations': 982}. Best is trial 14 with value: 0.4685086120811883.\u001b[0m\n",
      "\u001b[32m[I 2023-08-24 14:07:23,984]\u001b[0m Trial 32 finished with value: 0.4746449954981909 and parameters: {'n_estimators': 593, 'max_depth': 21, 'num_leaves': 6, 'min_child_samples': 1, 'num_iterations': 978}. Best is trial 32 with value: 0.4746449954981909.\u001b[0m\n",
      "\u001b[32m[I 2023-08-24 14:07:25,014]\u001b[0m Trial 33 finished with value: 0.4541477725435577 and parameters: {'n_estimators': 577, 'max_depth': 25, 'num_leaves': 4, 'min_child_samples': 2, 'num_iterations': 939}. Best is trial 32 with value: 0.4746449954981909.\u001b[0m\n",
      "\u001b[32m[I 2023-08-24 14:07:26,317]\u001b[0m Trial 34 finished with value: 0.4387402504424004 and parameters: {'n_estimators': 782, 'max_depth': 9, 'num_leaves': 6, 'min_child_samples': 3, 'num_iterations': 904}. Best is trial 32 with value: 0.4746449954981909.\u001b[0m\n",
      "\u001b[32m[I 2023-08-24 14:07:26,904]\u001b[0m Trial 35 finished with value: 0.42520781792841006 and parameters: {'n_estimators': 548, 'max_depth': 22, 'num_leaves': 2, 'min_child_samples': 1, 'num_iterations': 971}. Best is trial 32 with value: 0.4746449954981909.\u001b[0m\n",
      "\u001b[32m[I 2023-08-24 14:07:28,836]\u001b[0m Trial 36 finished with value: 0.4439017609974303 and parameters: {'n_estimators': 601, 'max_depth': 26, 'num_leaves': 9, 'min_child_samples': 2, 'num_iterations': 929}. Best is trial 32 with value: 0.4746449954981909.\u001b[0m\n",
      "\u001b[32m[I 2023-08-24 14:07:31,302]\u001b[0m Trial 37 finished with value: 0.4313770370678399 and parameters: {'n_estimators': 631, 'max_depth': 18, 'num_leaves': 13, 'min_child_samples': 3, 'num_iterations': 878}. Best is trial 32 with value: 0.4746449954981909.\u001b[0m\n",
      "\u001b[32m[I 2023-08-24 14:07:34,366]\u001b[0m Trial 38 finished with value: 0.46261000068580477 and parameters: {'n_estimators': 996, 'max_depth': 13, 'num_leaves': 23, 'min_child_samples': 1, 'num_iterations': 583}. Best is trial 32 with value: 0.4746449954981909.\u001b[0m\n",
      "\u001b[32m[I 2023-08-24 14:07:37,570]\u001b[0m Trial 39 finished with value: 0.4519888498640027 and parameters: {'n_estimators': 527, 'max_depth': 21, 'num_leaves': 15, 'min_child_samples': 2, 'num_iterations': 970}. Best is trial 32 with value: 0.4746449954981909.\u001b[0m\n",
      "\u001b[32m[I 2023-08-24 14:07:38,447]\u001b[0m Trial 40 finished with value: 0.45755865754377334 and parameters: {'n_estimators': 842, 'max_depth': 16, 'num_leaves': 4, 'min_child_samples': 3, 'num_iterations': 837}. Best is trial 32 with value: 0.4746449954981909.\u001b[0m\n",
      "\u001b[32m[I 2023-08-24 14:07:40,292]\u001b[0m Trial 41 finished with value: 0.4667489356421649 and parameters: {'n_estimators': 648, 'max_depth': 20, 'num_leaves': 7, 'min_child_samples': 1, 'num_iterations': 995}. Best is trial 32 with value: 0.4746449954981909.\u001b[0m\n",
      "\u001b[32m[I 2023-08-24 14:07:41,863]\u001b[0m Trial 42 finished with value: 0.47535488991613306 and parameters: {'n_estimators': 681, 'max_depth': 23, 'num_leaves': 6, 'min_child_samples': 1, 'num_iterations': 935}. Best is trial 42 with value: 0.47535488991613306.\u001b[0m\n",
      "\u001b[32m[I 2023-08-24 14:07:43,161]\u001b[0m Trial 43 finished with value: 0.47983280406589246 and parameters: {'n_estimators': 681, 'max_depth': 27, 'num_leaves': 5, 'min_child_samples': 1, 'num_iterations': 942}. Best is trial 43 with value: 0.47983280406589246.\u001b[0m\n",
      "\u001b[32m[I 2023-08-24 14:07:44,410]\u001b[0m Trial 44 finished with value: 0.45143783293184836 and parameters: {'n_estimators': 724, 'max_depth': 27, 'num_leaves': 5, 'min_child_samples': 2, 'num_iterations': 945}. Best is trial 43 with value: 0.47983280406589246.\u001b[0m\n",
      "\u001b[32m[I 2023-08-24 14:07:45,224]\u001b[0m Trial 45 finished with value: 0.4490716940290199 and parameters: {'n_estimators': 776, 'max_depth': 27, 'num_leaves': 3, 'min_child_samples': 2, 'num_iterations': 921}. Best is trial 43 with value: 0.47983280406589246.\u001b[0m\n",
      "\u001b[32m[I 2023-08-24 14:07:49,119]\u001b[0m Trial 46 finished with value: 0.45676317670206645 and parameters: {'n_estimators': 682, 'max_depth': 23, 'num_leaves': 18, 'min_child_samples': 1, 'num_iterations': 876}. Best is trial 43 with value: 0.47983280406589246.\u001b[0m\n",
      "\u001b[32m[I 2023-08-24 14:07:50,894]\u001b[0m Trial 47 finished with value: 0.4353787935152186 and parameters: {'n_estimators': 598, 'max_depth': 28, 'num_leaves': 9, 'min_child_samples': 5, 'num_iterations': 897}. Best is trial 43 with value: 0.47983280406589246.\u001b[0m\n",
      "\u001b[32m[I 2023-08-24 14:07:52,277]\u001b[0m Trial 48 finished with value: 0.4750444490631465 and parameters: {'n_estimators': 718, 'max_depth': 6, 'num_leaves': 6, 'min_child_samples': 1, 'num_iterations': 950}. Best is trial 43 with value: 0.47983280406589246.\u001b[0m\n",
      "\u001b[32m[I 2023-08-24 14:07:53,160]\u001b[0m Trial 49 finished with value: 0.4576049384034608 and parameters: {'n_estimators': 750, 'max_depth': 5, 'num_leaves': 3, 'min_child_samples': 7, 'num_iterations': 951}. Best is trial 43 with value: 0.47983280406589246.\u001b[0m\n",
      "\u001b[32m[I 2023-08-24 14:07:54,709]\u001b[0m Trial 50 finished with value: 0.4370795136230673 and parameters: {'n_estimators': 805, 'max_depth': 6, 'num_leaves': 6, 'min_child_samples': 3, 'num_iterations': 959}. Best is trial 43 with value: 0.47983280406589246.\u001b[0m\n",
      "\u001b[32m[I 2023-08-24 14:07:55,981]\u001b[0m Trial 51 finished with value: 0.47988794394083883 and parameters: {'n_estimators': 727, 'max_depth': 10, 'num_leaves': 5, 'min_child_samples': 1, 'num_iterations': 933}. Best is trial 51 with value: 0.47988794394083883.\u001b[0m\n",
      "\u001b[32m[I 2023-08-24 14:07:56,875]\u001b[0m Trial 52 finished with value: 0.44371579143215933 and parameters: {'n_estimators': 722, 'max_depth': 2, 'num_leaves': 5, 'min_child_samples': 1, 'num_iterations': 930}. Best is trial 51 with value: 0.47988794394083883.\u001b[0m\n",
      "\u001b[32m[I 2023-08-24 14:07:57,469]\u001b[0m Trial 53 finished with value: 0.4253105792304298 and parameters: {'n_estimators': 769, 'max_depth': 10, 'num_leaves': 2, 'min_child_samples': 1, 'num_iterations': 975}. Best is trial 51 with value: 0.47988794394083883.\u001b[0m\n",
      "\u001b[32m[I 2023-08-24 14:07:58,586]\u001b[0m Trial 54 finished with value: 0.4539143984007682 and parameters: {'n_estimators': 690, 'max_depth': 7, 'num_leaves': 4, 'min_child_samples': 2, 'num_iterations': 948}. Best is trial 51 with value: 0.47988794394083883.\u001b[0m\n",
      "\u001b[32m[I 2023-08-24 14:08:00,534]\u001b[0m Trial 55 finished with value: 0.46617171587429407 and parameters: {'n_estimators': 734, 'max_depth': 29, 'num_leaves': 8, 'min_child_samples': 1, 'num_iterations': 908}. Best is trial 51 with value: 0.47988794394083883.\u001b[0m\n",
      "\u001b[32m[I 2023-08-24 14:08:01,928]\u001b[0m Trial 56 finished with value: 0.4548786587322816 and parameters: {'n_estimators': 709, 'max_depth': 9, 'num_leaves': 6, 'min_child_samples': 10, 'num_iterations': 920}. Best is trial 51 with value: 0.47988794394083883.\u001b[0m\n",
      "\u001b[32m[I 2023-08-24 14:08:03,815]\u001b[0m Trial 57 finished with value: 0.43765155681733586 and parameters: {'n_estimators': 759, 'max_depth': 4, 'num_leaves': 10, 'min_child_samples': 2, 'num_iterations': 891}. Best is trial 51 with value: 0.47988794394083883.\u001b[0m\n",
      "\u001b[32m[I 2023-08-24 14:08:09,039]\u001b[0m Trial 58 finished with value: 0.4575245789741354 and parameters: {'n_estimators': 675, 'max_depth': 12, 'num_leaves': 21, 'min_child_samples': 1, 'num_iterations': 1000}. Best is trial 51 with value: 0.47988794394083883.\u001b[0m\n",
      "\u001b[32m[I 2023-08-24 14:08:09,615]\u001b[0m Trial 59 finished with value: 0.47024983366670287 and parameters: {'n_estimators': 708, 'max_depth': 25, 'num_leaves': 3, 'min_child_samples': 1, 'num_iterations': 668}. Best is trial 51 with value: 0.47988794394083883.\u001b[0m\n",
      "\u001b[32m[I 2023-08-24 14:08:10,893]\u001b[0m Trial 60 finished with value: 0.4627739095896818 and parameters: {'n_estimators': 708, 'max_depth': 25, 'num_leaves': 8, 'min_child_samples': 2, 'num_iterations': 648}. Best is trial 51 with value: 0.47988794394083883.\u001b[0m\n",
      "\u001b[32m[I 2023-08-24 14:08:11,394]\u001b[0m Trial 61 finished with value: 0.4683572025337993 and parameters: {'n_estimators': 638, 'max_depth': 26, 'num_leaves': 3, 'min_child_samples': 1, 'num_iterations': 597}. Best is trial 51 with value: 0.47988794394083883.\u001b[0m\n",
      "\u001b[32m[I 2023-08-24 14:08:12,273]\u001b[0m Trial 62 finished with value: 0.4898396149904357 and parameters: {'n_estimators': 742, 'max_depth': 23, 'num_leaves': 5, 'min_child_samples': 1, 'num_iterations': 661}. Best is trial 62 with value: 0.4898396149904357.\u001b[0m\n",
      "\u001b[32m[I 2023-08-24 14:08:13,466]\u001b[0m Trial 63 finished with value: 0.4819096957798853 and parameters: {'n_estimators': 808, 'max_depth': 23, 'num_leaves': 6, 'min_child_samples': 1, 'num_iterations': 695}. Best is trial 62 with value: 0.4898396149904357.\u001b[0m\n",
      "\u001b[32m[I 2023-08-24 14:08:14,361]\u001b[0m Trial 64 finished with value: 0.4622185345278401 and parameters: {'n_estimators': 823, 'max_depth': 23, 'num_leaves': 5, 'min_child_samples': 2, 'num_iterations': 679}. Best is trial 62 with value: 0.4898396149904357.\u001b[0m\n",
      "\u001b[32m[I 2023-08-24 14:08:15,484]\u001b[0m Trial 65 finished with value: 0.4820379417585484 and parameters: {'n_estimators': 744, 'max_depth': 23, 'num_leaves': 6, 'min_child_samples': 1, 'num_iterations': 701}. Best is trial 62 with value: 0.4898396149904357.\u001b[0m\n",
      "\u001b[32m[I 2023-08-24 14:08:17,537]\u001b[0m Trial 66 finished with value: 0.4504495453354562 and parameters: {'n_estimators': 799, 'max_depth': 23, 'num_leaves': 12, 'min_child_samples': 1, 'num_iterations': 704}. Best is trial 62 with value: 0.4898396149904357.\u001b[0m\n",
      "\u001b[32m[I 2023-08-24 14:08:18,767]\u001b[0m Trial 67 finished with value: 0.44487387817826674 and parameters: {'n_estimators': 740, 'max_depth': 30, 'num_leaves': 7, 'min_child_samples': 2, 'num_iterations': 731}. Best is trial 62 with value: 0.4898396149904357.\u001b[0m\n",
      "\u001b[32m[I 2023-08-24 14:08:20,492]\u001b[0m Trial 68 finished with value: 0.46040710126779893 and parameters: {'n_estimators': 860, 'max_depth': 28, 'num_leaves': 10, 'min_child_samples': 1, 'num_iterations': 694}. Best is trial 62 with value: 0.4898396149904357.\u001b[0m\n",
      "\u001b[32m[I 2023-08-24 14:08:21,624]\u001b[0m Trial 69 finished with value: 0.4531460095444403 and parameters: {'n_estimators': 755, 'max_depth': 24, 'num_leaves': 8, 'min_child_samples': 3, 'num_iterations': 614}. Best is trial 62 with value: 0.4898396149904357.\u001b[0m\n",
      "\u001b[32m[I 2023-08-24 14:08:22,469]\u001b[0m Trial 70 finished with value: 0.46244839576010666 and parameters: {'n_estimators': 792, 'max_depth': 22, 'num_leaves': 4, 'min_child_samples': 2, 'num_iterations': 737}. Best is trial 62 with value: 0.4898396149904357.\u001b[0m\n",
      "\u001b[32m[I 2023-08-24 14:08:23,664]\u001b[0m Trial 71 finished with value: 0.48112337840237795 and parameters: {'n_estimators': 825, 'max_depth': 21, 'num_leaves': 6, 'min_child_samples': 1, 'num_iterations': 756}. Best is trial 62 with value: 0.4898396149904357.\u001b[0m\n",
      "\u001b[32m[I 2023-08-24 14:08:25,063]\u001b[0m Trial 72 finished with value: 0.46900965857755333 and parameters: {'n_estimators': 820, 'max_depth': 23, 'num_leaves': 7, 'min_child_samples': 1, 'num_iterations': 780}. Best is trial 62 with value: 0.4898396149904357.\u001b[0m\n",
      "\u001b[32m[I 2023-08-24 14:08:26,146]\u001b[0m Trial 73 finished with value: 0.4824567986451413 and parameters: {'n_estimators': 858, 'max_depth': 21, 'num_leaves': 6, 'min_child_samples': 1, 'num_iterations': 662}. Best is trial 62 with value: 0.4898396149904357.\u001b[0m\n",
      "\u001b[32m[I 2023-08-24 14:08:27,087]\u001b[0m Trial 74 finished with value: 0.489793460636068 and parameters: {'n_estimators': 891, 'max_depth': 19, 'num_leaves': 5, 'min_child_samples': 1, 'num_iterations': 656}. Best is trial 62 with value: 0.4898396149904357.\u001b[0m\n",
      "\u001b[32m[I 2023-08-24 14:08:27,987]\u001b[0m Trial 75 finished with value: 0.4898133281011855 and parameters: {'n_estimators': 896, 'max_depth': 19, 'num_leaves': 5, 'min_child_samples': 1, 'num_iterations': 655}. Best is trial 62 with value: 0.4898396149904357.\u001b[0m\n",
      "\u001b[32m[I 2023-08-24 14:08:28,671]\u001b[0m Trial 76 finished with value: 0.4769666955773141 and parameters: {'n_estimators': 916, 'max_depth': 19, 'num_leaves': 4, 'min_child_samples': 9, 'num_iterations': 634}. Best is trial 62 with value: 0.4898396149904357.\u001b[0m\n",
      "\u001b[32m[I 2023-08-24 14:08:29,957]\u001b[0m Trial 77 finished with value: 0.4627897983356147 and parameters: {'n_estimators': 893, 'max_depth': 21, 'num_leaves': 8, 'min_child_samples': 2, 'num_iterations': 659}. Best is trial 62 with value: 0.4898396149904357.\u001b[0m\n",
      "\u001b[32m[I 2023-08-24 14:08:33,941]\u001b[0m Trial 78 finished with value: 0.4382183295025587 and parameters: {'n_estimators': 924, 'max_depth': 19, 'num_leaves': 26, 'min_child_samples': 2, 'num_iterations': 688}. Best is trial 62 with value: 0.4898396149904357.\u001b[0m\n",
      "\u001b[32m[I 2023-08-24 14:08:38,288]\u001b[0m Trial 79 finished with value: 0.4378944855352639 and parameters: {'n_estimators': 864, 'max_depth': 17, 'num_leaves': 30, 'min_child_samples': 1, 'num_iterations': 632}. Best is trial 62 with value: 0.4898396149904357.\u001b[0m\n",
      "\u001b[32m[I 2023-08-24 14:08:39,565]\u001b[0m Trial 80 finished with value: 0.47700036965646975 and parameters: {'n_estimators': 851, 'max_depth': 18, 'num_leaves': 9, 'min_child_samples': 1, 'num_iterations': 575}. Best is trial 62 with value: 0.4898396149904357.\u001b[0m\n",
      "\u001b[32m[I 2023-08-24 14:08:40,493]\u001b[0m Trial 81 finished with value: 0.4880429023289522 and parameters: {'n_estimators': 889, 'max_depth': 21, 'num_leaves': 5, 'min_child_samples': 1, 'num_iterations': 706}. Best is trial 62 with value: 0.4898396149904357.\u001b[0m\n",
      "\u001b[32m[I 2023-08-24 14:08:40,919]\u001b[0m Trial 82 finished with value: 0.4224322858145392 and parameters: {'n_estimators': 884, 'max_depth': 21, 'num_leaves': 2, 'min_child_samples': 1, 'num_iterations': 710}. Best is trial 62 with value: 0.4898396149904357.\u001b[0m\n",
      "\u001b[32m[I 2023-08-24 14:08:41,813]\u001b[0m Trial 83 finished with value: 0.48394932741494545 and parameters: {'n_estimators': 911, 'max_depth': 20, 'num_leaves': 4, 'min_child_samples': 1, 'num_iterations': 753}. Best is trial 62 with value: 0.4898396149904357.\u001b[0m\n",
      "\u001b[32m[I 2023-08-24 14:08:42,640]\u001b[0m Trial 84 finished with value: 0.46226149102434666 and parameters: {'n_estimators': 911, 'max_depth': 20, 'num_leaves': 4, 'min_child_samples': 2, 'num_iterations': 757}. Best is trial 62 with value: 0.4898396149904357.\u001b[0m\n",
      "\u001b[32m[I 2023-08-24 14:08:43,991]\u001b[0m Trial 85 finished with value: 0.4691603279357045 and parameters: {'n_estimators': 951, 'max_depth': 19, 'num_leaves': 7, 'min_child_samples': 1, 'num_iterations': 743}. Best is trial 62 with value: 0.4898396149904357.\u001b[0m\n",
      "\u001b[32m[I 2023-08-24 14:08:45,071]\u001b[0m Trial 86 finished with value: 0.4869883850255152 and parameters: {'n_estimators': 838, 'max_depth': 22, 'num_leaves': 5, 'min_child_samples': 1, 'num_iterations': 720}. Best is trial 62 with value: 0.4898396149904357.\u001b[0m\n",
      "\u001b[32m[I 2023-08-24 14:08:45,932]\u001b[0m Trial 87 finished with value: 0.46329522516309396 and parameters: {'n_estimators': 943, 'max_depth': 24, 'num_leaves': 5, 'min_child_samples': 2, 'num_iterations': 657}. Best is trial 62 with value: 0.4898396149904357.\u001b[0m\n",
      "\u001b[32m[I 2023-08-24 14:08:46,555]\u001b[0m Trial 88 finished with value: 0.47080470737806096 and parameters: {'n_estimators': 842, 'max_depth': 22, 'num_leaves': 3, 'min_child_samples': 1, 'num_iterations': 721}. Best is trial 62 with value: 0.4898396149904357.\u001b[0m\n",
      "\u001b[32m[I 2023-08-24 14:08:46,994]\u001b[0m Trial 89 finished with value: 0.42190679436101747 and parameters: {'n_estimators': 874, 'max_depth': 20, 'num_leaves': 2, 'min_child_samples': 1, 'num_iterations': 697}. Best is trial 62 with value: 0.4898396149904357.\u001b[0m\n",
      "\u001b[32m[I 2023-08-24 14:08:47,911]\u001b[0m Trial 90 finished with value: 0.4732726187023477 and parameters: {'n_estimators': 933, 'max_depth': 17, 'num_leaves': 4, 'min_child_samples': 5, 'num_iterations': 676}. Best is trial 62 with value: 0.4898396149904357.\u001b[0m\n",
      "\u001b[32m[I 2023-08-24 14:08:49,165]\u001b[0m Trial 91 finished with value: 0.48067127321065567 and parameters: {'n_estimators': 896, 'max_depth': 22, 'num_leaves': 6, 'min_child_samples': 1, 'num_iterations': 766}. Best is trial 62 with value: 0.4898396149904357.\u001b[0m\n",
      "\u001b[32m[I 2023-08-24 14:08:50,225]\u001b[0m Trial 92 finished with value: 0.4819994707599958 and parameters: {'n_estimators': 835, 'max_depth': 21, 'num_leaves': 6, 'min_child_samples': 1, 'num_iterations': 687}. Best is trial 62 with value: 0.4898396149904357.\u001b[0m\n",
      "\u001b[32m[I 2023-08-24 14:08:51,140]\u001b[0m Trial 93 finished with value: 0.4892446597474409 and parameters: {'n_estimators': 838, 'max_depth': 21, 'num_leaves': 5, 'min_child_samples': 1, 'num_iterations': 683}. Best is trial 62 with value: 0.4898396149904357.\u001b[0m\n",
      "\u001b[32m[I 2023-08-24 14:08:51,914]\u001b[0m Trial 94 finished with value: 0.46432229738242414 and parameters: {'n_estimators': 836, 'max_depth': 21, 'num_leaves': 5, 'min_child_samples': 2, 'num_iterations': 619}. Best is trial 62 with value: 0.4898396149904357.\u001b[0m\n",
      "\u001b[32m[I 2023-08-24 14:08:53,038]\u001b[0m Trial 95 finished with value: 0.4700244826074843 and parameters: {'n_estimators': 873, 'max_depth': 18, 'num_leaves': 7, 'min_child_samples': 1, 'num_iterations': 683}. Best is trial 62 with value: 0.4898396149904357.\u001b[0m\n",
      "\u001b[32m[I 2023-08-24 14:08:53,776]\u001b[0m Trial 96 finished with value: 0.4798924617519901 and parameters: {'n_estimators': 886, 'max_depth': 20, 'num_leaves': 4, 'min_child_samples': 6, 'num_iterations': 666}. Best is trial 62 with value: 0.4898396149904357.\u001b[0m\n",
      "\u001b[32m[I 2023-08-24 14:08:54,774]\u001b[0m Trial 97 finished with value: 0.4612300406808097 and parameters: {'n_estimators': 965, 'max_depth': 19, 'num_leaves': 5, 'min_child_samples': 2, 'num_iterations': 718}. Best is trial 62 with value: 0.4898396149904357.\u001b[0m\n",
      "\u001b[32m[I 2023-08-24 14:08:55,327]\u001b[0m Trial 98 finished with value: 0.46885828480979386 and parameters: {'n_estimators': 904, 'max_depth': 22, 'num_leaves': 3, 'min_child_samples': 1, 'num_iterations': 653}. Best is trial 62 with value: 0.4898396149904357.\u001b[0m\n",
      "\u001b[32m[I 2023-08-24 14:08:56,260]\u001b[0m Trial 99 finished with value: 0.45941237551421493 and parameters: {'n_estimators': 859, 'max_depth': 21, 'num_leaves': 5, 'min_child_samples': 7, 'num_iterations': 707}. Best is trial 62 with value: 0.4898396149904357.\u001b[0m\n"
     ]
    },
    {
     "name": "stdout",
     "output_type": "stream",
     "text": [
      "Best r2:  0.4898396149904357\n",
      "Best trial: {'n_estimators': 742, 'max_depth': 23, 'num_leaves': 5, 'min_child_samples': 1, 'num_iterations': 661}\n"
     ]
    }
   ],
   "source": [
    "sampler = TPESampler()\n",
    "study = optuna.create_study(\n",
    "    study_name=\"lgbm_parameter_opt\",\n",
    "    direction=\"maximize\",\n",
    "    sampler=sampler,\n",
    ")\n",
    "\n",
    "study.optimize(lambda trial : objectiveLGBM(trial, As_X_train, As_y_train), n_trials=100)\n",
    "print(\"Best r2: \", study.best_value)\n",
    "print(\"Best trial:\", study.best_trial.params)"
   ]
  },
  {
   "cell_type": "code",
   "execution_count": 39,
   "id": "ded0e0f8",
   "metadata": {},
   "outputs": [
    {
     "data": {
      "application/vnd.plotly.v1+json": {
       "config": {
        "plotlyServerURL": "https://plot.ly"
       },
       "data": [
        {
         "dimensions": [
          {
           "label": "Objective Value",
           "range": [
            0.4138089056766304,
            0.4898396149904357
           ],
           "values": [
            0.4275140337219221,
            0.4331820219031977,
            0.4489951581198409,
            0.4194281532982539,
            0.4138089056766304,
            0.4255816299166716,
            0.4255579244088711,
            0.4302814019073895,
            0.41414099125231674,
            0.43937902277068125,
            0.42270881635819035,
            0.4472391661479242,
            0.4667085217047734,
            0.4681732238172832,
            0.4685086120811883,
            0.4243682997920712,
            0.4504714923839074,
            0.45689551331390155,
            0.4536021640662355,
            0.4272537225615096,
            0.437009248194273,
            0.46670841476989333,
            0.4546366208634479,
            0.4358605919230527,
            0.45744835273842116,
            0.43389552916751556,
            0.44752902519880833,
            0.4598142466601457,
            0.448031320055597,
            0.43522706856227755,
            0.4537897373394631,
            0.46692500989336105,
            0.4746449954981909,
            0.4541477725435577,
            0.4387402504424004,
            0.42520781792841006,
            0.4439017609974303,
            0.4313770370678399,
            0.46261000068580477,
            0.4519888498640027,
            0.45755865754377334,
            0.4667489356421649,
            0.47535488991613306,
            0.47983280406589246,
            0.45143783293184836,
            0.4490716940290199,
            0.45676317670206645,
            0.4353787935152186,
            0.4750444490631465,
            0.4576049384034608,
            0.4370795136230673,
            0.47988794394083883,
            0.44371579143215933,
            0.4253105792304298,
            0.4539143984007682,
            0.46617171587429407,
            0.4548786587322816,
            0.43765155681733586,
            0.4575245789741354,
            0.47024983366670287,
            0.4627739095896818,
            0.4683572025337993,
            0.4898396149904357,
            0.4819096957798853,
            0.4622185345278401,
            0.4820379417585484,
            0.4504495453354562,
            0.44487387817826674,
            0.46040710126779893,
            0.4531460095444403,
            0.46244839576010666,
            0.48112337840237795,
            0.46900965857755333,
            0.4824567986451413,
            0.489793460636068,
            0.4898133281011855,
            0.4769666955773141,
            0.4627897983356147,
            0.4382183295025587,
            0.4378944855352639,
            0.47700036965646975,
            0.4880429023289522,
            0.4224322858145392,
            0.48394932741494545,
            0.46226149102434666,
            0.4691603279357045,
            0.4869883850255152,
            0.46329522516309396,
            0.47080470737806096,
            0.42190679436101747,
            0.4732726187023477,
            0.48067127321065567,
            0.4819994707599958,
            0.4892446597474409,
            0.46432229738242414,
            0.4700244826074843,
            0.4798924617519901,
            0.4612300406808097,
            0.46885828480979386,
            0.45941237551421493
           ]
          },
          {
           "label": "max_depth",
           "range": [
            1,
            30
           ],
           "values": [
            27,
            28,
            28,
            22,
            3,
            30,
            30,
            30,
            1,
            29,
            13,
            20,
            20,
            14,
            11,
            10,
            7,
            15,
            8,
            12,
            5,
            19,
            18,
            16,
            24,
            15,
            11,
            22,
            17,
            24,
            14,
            20,
            21,
            25,
            9,
            22,
            26,
            18,
            13,
            21,
            16,
            20,
            23,
            27,
            27,
            27,
            23,
            28,
            6,
            5,
            6,
            10,
            2,
            10,
            7,
            29,
            9,
            4,
            12,
            25,
            25,
            26,
            23,
            23,
            23,
            23,
            23,
            30,
            28,
            24,
            22,
            21,
            23,
            21,
            19,
            19,
            19,
            21,
            19,
            17,
            18,
            21,
            21,
            20,
            20,
            19,
            22,
            24,
            22,
            20,
            17,
            22,
            21,
            21,
            21,
            18,
            20,
            19,
            22,
            21
           ]
          },
          {
           "label": "min_child_samples",
           "range": [
            1,
            10
           ],
           "values": [
            6,
            3,
            3,
            6,
            6,
            5,
            6,
            6,
            2,
            5,
            10,
            3,
            1,
            1,
            1,
            1,
            9,
            1,
            4,
            8,
            2,
            1,
            2,
            1,
            2,
            3,
            4,
            1,
            4,
            7,
            2,
            1,
            1,
            2,
            3,
            1,
            2,
            3,
            1,
            2,
            3,
            1,
            1,
            1,
            2,
            2,
            1,
            5,
            1,
            7,
            3,
            1,
            1,
            1,
            2,
            1,
            10,
            2,
            1,
            1,
            2,
            1,
            1,
            1,
            2,
            1,
            1,
            2,
            1,
            3,
            2,
            1,
            1,
            1,
            1,
            1,
            9,
            2,
            2,
            1,
            1,
            1,
            1,
            1,
            2,
            1,
            1,
            2,
            1,
            1,
            5,
            1,
            1,
            1,
            2,
            1,
            6,
            2,
            1,
            7
           ]
          },
          {
           "label": "n_estimators",
           "range": [
            500,
            996
           ],
           "values": [
            945,
            875,
            749,
            796,
            826,
            622,
            879,
            898,
            502,
            746,
            695,
            702,
            652,
            598,
            593,
            528,
            580,
            588,
            548,
            655,
            612,
            663,
            653,
            573,
            700,
            618,
            548,
            500,
            673,
            626,
            727,
            652,
            593,
            577,
            782,
            548,
            601,
            631,
            996,
            527,
            842,
            648,
            681,
            681,
            724,
            776,
            682,
            598,
            718,
            750,
            805,
            727,
            722,
            769,
            690,
            734,
            709,
            759,
            675,
            708,
            708,
            638,
            742,
            808,
            823,
            744,
            799,
            740,
            860,
            755,
            792,
            825,
            820,
            858,
            891,
            896,
            916,
            893,
            924,
            864,
            851,
            889,
            884,
            911,
            911,
            951,
            838,
            943,
            842,
            874,
            933,
            896,
            835,
            838,
            836,
            873,
            886,
            965,
            904,
            859
           ]
          },
          {
           "label": "num_iterations",
           "range": [
            519,
            1000
           ],
           "values": [
            871,
            673,
            891,
            519,
            949,
            638,
            645,
            536,
            762,
            960,
            805,
            989,
            994,
            866,
            874,
            852,
            810,
            909,
            714,
            818,
            762,
            1000,
            932,
            855,
            912,
            961,
            841,
            724,
            891,
            788,
            871,
            982,
            978,
            939,
            904,
            971,
            929,
            878,
            583,
            970,
            837,
            995,
            935,
            942,
            945,
            921,
            876,
            897,
            950,
            951,
            959,
            933,
            930,
            975,
            948,
            908,
            920,
            891,
            1000,
            668,
            648,
            597,
            661,
            695,
            679,
            701,
            704,
            731,
            694,
            614,
            737,
            756,
            780,
            662,
            656,
            655,
            634,
            659,
            688,
            632,
            575,
            706,
            710,
            753,
            757,
            743,
            720,
            657,
            721,
            697,
            676,
            766,
            687,
            683,
            619,
            683,
            666,
            718,
            653,
            707
           ]
          },
          {
           "label": "num_leaves",
           "range": [
            2,
            32
           ],
           "values": [
            25,
            16,
            14,
            19,
            28,
            27,
            17,
            29,
            19,
            11,
            2,
            8,
            7,
            7,
            3,
            2,
            6,
            11,
            5,
            11,
            23,
            7,
            4,
            32,
            8,
            9,
            3,
            14,
            5,
            10,
            13,
            7,
            6,
            4,
            6,
            2,
            9,
            13,
            23,
            15,
            4,
            7,
            6,
            5,
            5,
            3,
            18,
            9,
            6,
            3,
            6,
            5,
            5,
            2,
            4,
            8,
            6,
            10,
            21,
            3,
            8,
            3,
            5,
            6,
            5,
            6,
            12,
            7,
            10,
            8,
            4,
            6,
            7,
            6,
            5,
            5,
            4,
            8,
            26,
            30,
            9,
            5,
            2,
            4,
            4,
            7,
            5,
            5,
            3,
            2,
            4,
            6,
            6,
            5,
            5,
            7,
            4,
            5,
            3,
            5
           ]
          }
         ],
         "labelangle": 30,
         "labelside": "bottom",
         "line": {
          "color": [
           0.4275140337219221,
           0.4331820219031977,
           0.4489951581198409,
           0.4194281532982539,
           0.4138089056766304,
           0.4255816299166716,
           0.4255579244088711,
           0.4302814019073895,
           0.41414099125231674,
           0.43937902277068125,
           0.42270881635819035,
           0.4472391661479242,
           0.4667085217047734,
           0.4681732238172832,
           0.4685086120811883,
           0.4243682997920712,
           0.4504714923839074,
           0.45689551331390155,
           0.4536021640662355,
           0.4272537225615096,
           0.437009248194273,
           0.46670841476989333,
           0.4546366208634479,
           0.4358605919230527,
           0.45744835273842116,
           0.43389552916751556,
           0.44752902519880833,
           0.4598142466601457,
           0.448031320055597,
           0.43522706856227755,
           0.4537897373394631,
           0.46692500989336105,
           0.4746449954981909,
           0.4541477725435577,
           0.4387402504424004,
           0.42520781792841006,
           0.4439017609974303,
           0.4313770370678399,
           0.46261000068580477,
           0.4519888498640027,
           0.45755865754377334,
           0.4667489356421649,
           0.47535488991613306,
           0.47983280406589246,
           0.45143783293184836,
           0.4490716940290199,
           0.45676317670206645,
           0.4353787935152186,
           0.4750444490631465,
           0.4576049384034608,
           0.4370795136230673,
           0.47988794394083883,
           0.44371579143215933,
           0.4253105792304298,
           0.4539143984007682,
           0.46617171587429407,
           0.4548786587322816,
           0.43765155681733586,
           0.4575245789741354,
           0.47024983366670287,
           0.4627739095896818,
           0.4683572025337993,
           0.4898396149904357,
           0.4819096957798853,
           0.4622185345278401,
           0.4820379417585484,
           0.4504495453354562,
           0.44487387817826674,
           0.46040710126779893,
           0.4531460095444403,
           0.46244839576010666,
           0.48112337840237795,
           0.46900965857755333,
           0.4824567986451413,
           0.489793460636068,
           0.4898133281011855,
           0.4769666955773141,
           0.4627897983356147,
           0.4382183295025587,
           0.4378944855352639,
           0.47700036965646975,
           0.4880429023289522,
           0.4224322858145392,
           0.48394932741494545,
           0.46226149102434666,
           0.4691603279357045,
           0.4869883850255152,
           0.46329522516309396,
           0.47080470737806096,
           0.42190679436101747,
           0.4732726187023477,
           0.48067127321065567,
           0.4819994707599958,
           0.4892446597474409,
           0.46432229738242414,
           0.4700244826074843,
           0.4798924617519901,
           0.4612300406808097,
           0.46885828480979386,
           0.45941237551421493
          ],
          "colorbar": {
           "title": {
            "text": "Objective Value"
           }
          },
          "colorscale": [
           [
            0,
            "rgb(247,251,255)"
           ],
           [
            0.125,
            "rgb(222,235,247)"
           ],
           [
            0.25,
            "rgb(198,219,239)"
           ],
           [
            0.375,
            "rgb(158,202,225)"
           ],
           [
            0.5,
            "rgb(107,174,214)"
           ],
           [
            0.625,
            "rgb(66,146,198)"
           ],
           [
            0.75,
            "rgb(33,113,181)"
           ],
           [
            0.875,
            "rgb(8,81,156)"
           ],
           [
            1,
            "rgb(8,48,107)"
           ]
          ],
          "reversescale": false,
          "showscale": true
         },
         "type": "parcoords"
        }
       ],
       "layout": {
        "template": {
         "data": {
          "bar": [
           {
            "error_x": {
             "color": "#2a3f5f"
            },
            "error_y": {
             "color": "#2a3f5f"
            },
            "marker": {
             "line": {
              "color": "#E5ECF6",
              "width": 0.5
             },
             "pattern": {
              "fillmode": "overlay",
              "size": 10,
              "solidity": 0.2
             }
            },
            "type": "bar"
           }
          ],
          "barpolar": [
           {
            "marker": {
             "line": {
              "color": "#E5ECF6",
              "width": 0.5
             },
             "pattern": {
              "fillmode": "overlay",
              "size": 10,
              "solidity": 0.2
             }
            },
            "type": "barpolar"
           }
          ],
          "carpet": [
           {
            "aaxis": {
             "endlinecolor": "#2a3f5f",
             "gridcolor": "white",
             "linecolor": "white",
             "minorgridcolor": "white",
             "startlinecolor": "#2a3f5f"
            },
            "baxis": {
             "endlinecolor": "#2a3f5f",
             "gridcolor": "white",
             "linecolor": "white",
             "minorgridcolor": "white",
             "startlinecolor": "#2a3f5f"
            },
            "type": "carpet"
           }
          ],
          "choropleth": [
           {
            "colorbar": {
             "outlinewidth": 0,
             "ticks": ""
            },
            "type": "choropleth"
           }
          ],
          "contour": [
           {
            "colorbar": {
             "outlinewidth": 0,
             "ticks": ""
            },
            "colorscale": [
             [
              0,
              "#0d0887"
             ],
             [
              0.1111111111111111,
              "#46039f"
             ],
             [
              0.2222222222222222,
              "#7201a8"
             ],
             [
              0.3333333333333333,
              "#9c179e"
             ],
             [
              0.4444444444444444,
              "#bd3786"
             ],
             [
              0.5555555555555556,
              "#d8576b"
             ],
             [
              0.6666666666666666,
              "#ed7953"
             ],
             [
              0.7777777777777778,
              "#fb9f3a"
             ],
             [
              0.8888888888888888,
              "#fdca26"
             ],
             [
              1,
              "#f0f921"
             ]
            ],
            "type": "contour"
           }
          ],
          "contourcarpet": [
           {
            "colorbar": {
             "outlinewidth": 0,
             "ticks": ""
            },
            "type": "contourcarpet"
           }
          ],
          "heatmap": [
           {
            "colorbar": {
             "outlinewidth": 0,
             "ticks": ""
            },
            "colorscale": [
             [
              0,
              "#0d0887"
             ],
             [
              0.1111111111111111,
              "#46039f"
             ],
             [
              0.2222222222222222,
              "#7201a8"
             ],
             [
              0.3333333333333333,
              "#9c179e"
             ],
             [
              0.4444444444444444,
              "#bd3786"
             ],
             [
              0.5555555555555556,
              "#d8576b"
             ],
             [
              0.6666666666666666,
              "#ed7953"
             ],
             [
              0.7777777777777778,
              "#fb9f3a"
             ],
             [
              0.8888888888888888,
              "#fdca26"
             ],
             [
              1,
              "#f0f921"
             ]
            ],
            "type": "heatmap"
           }
          ],
          "heatmapgl": [
           {
            "colorbar": {
             "outlinewidth": 0,
             "ticks": ""
            },
            "colorscale": [
             [
              0,
              "#0d0887"
             ],
             [
              0.1111111111111111,
              "#46039f"
             ],
             [
              0.2222222222222222,
              "#7201a8"
             ],
             [
              0.3333333333333333,
              "#9c179e"
             ],
             [
              0.4444444444444444,
              "#bd3786"
             ],
             [
              0.5555555555555556,
              "#d8576b"
             ],
             [
              0.6666666666666666,
              "#ed7953"
             ],
             [
              0.7777777777777778,
              "#fb9f3a"
             ],
             [
              0.8888888888888888,
              "#fdca26"
             ],
             [
              1,
              "#f0f921"
             ]
            ],
            "type": "heatmapgl"
           }
          ],
          "histogram": [
           {
            "marker": {
             "pattern": {
              "fillmode": "overlay",
              "size": 10,
              "solidity": 0.2
             }
            },
            "type": "histogram"
           }
          ],
          "histogram2d": [
           {
            "colorbar": {
             "outlinewidth": 0,
             "ticks": ""
            },
            "colorscale": [
             [
              0,
              "#0d0887"
             ],
             [
              0.1111111111111111,
              "#46039f"
             ],
             [
              0.2222222222222222,
              "#7201a8"
             ],
             [
              0.3333333333333333,
              "#9c179e"
             ],
             [
              0.4444444444444444,
              "#bd3786"
             ],
             [
              0.5555555555555556,
              "#d8576b"
             ],
             [
              0.6666666666666666,
              "#ed7953"
             ],
             [
              0.7777777777777778,
              "#fb9f3a"
             ],
             [
              0.8888888888888888,
              "#fdca26"
             ],
             [
              1,
              "#f0f921"
             ]
            ],
            "type": "histogram2d"
           }
          ],
          "histogram2dcontour": [
           {
            "colorbar": {
             "outlinewidth": 0,
             "ticks": ""
            },
            "colorscale": [
             [
              0,
              "#0d0887"
             ],
             [
              0.1111111111111111,
              "#46039f"
             ],
             [
              0.2222222222222222,
              "#7201a8"
             ],
             [
              0.3333333333333333,
              "#9c179e"
             ],
             [
              0.4444444444444444,
              "#bd3786"
             ],
             [
              0.5555555555555556,
              "#d8576b"
             ],
             [
              0.6666666666666666,
              "#ed7953"
             ],
             [
              0.7777777777777778,
              "#fb9f3a"
             ],
             [
              0.8888888888888888,
              "#fdca26"
             ],
             [
              1,
              "#f0f921"
             ]
            ],
            "type": "histogram2dcontour"
           }
          ],
          "mesh3d": [
           {
            "colorbar": {
             "outlinewidth": 0,
             "ticks": ""
            },
            "type": "mesh3d"
           }
          ],
          "parcoords": [
           {
            "line": {
             "colorbar": {
              "outlinewidth": 0,
              "ticks": ""
             }
            },
            "type": "parcoords"
           }
          ],
          "pie": [
           {
            "automargin": true,
            "type": "pie"
           }
          ],
          "scatter": [
           {
            "marker": {
             "colorbar": {
              "outlinewidth": 0,
              "ticks": ""
             }
            },
            "type": "scatter"
           }
          ],
          "scatter3d": [
           {
            "line": {
             "colorbar": {
              "outlinewidth": 0,
              "ticks": ""
             }
            },
            "marker": {
             "colorbar": {
              "outlinewidth": 0,
              "ticks": ""
             }
            },
            "type": "scatter3d"
           }
          ],
          "scattercarpet": [
           {
            "marker": {
             "colorbar": {
              "outlinewidth": 0,
              "ticks": ""
             }
            },
            "type": "scattercarpet"
           }
          ],
          "scattergeo": [
           {
            "marker": {
             "colorbar": {
              "outlinewidth": 0,
              "ticks": ""
             }
            },
            "type": "scattergeo"
           }
          ],
          "scattergl": [
           {
            "marker": {
             "colorbar": {
              "outlinewidth": 0,
              "ticks": ""
             }
            },
            "type": "scattergl"
           }
          ],
          "scattermapbox": [
           {
            "marker": {
             "colorbar": {
              "outlinewidth": 0,
              "ticks": ""
             }
            },
            "type": "scattermapbox"
           }
          ],
          "scatterpolar": [
           {
            "marker": {
             "colorbar": {
              "outlinewidth": 0,
              "ticks": ""
             }
            },
            "type": "scatterpolar"
           }
          ],
          "scatterpolargl": [
           {
            "marker": {
             "colorbar": {
              "outlinewidth": 0,
              "ticks": ""
             }
            },
            "type": "scatterpolargl"
           }
          ],
          "scatterternary": [
           {
            "marker": {
             "colorbar": {
              "outlinewidth": 0,
              "ticks": ""
             }
            },
            "type": "scatterternary"
           }
          ],
          "surface": [
           {
            "colorbar": {
             "outlinewidth": 0,
             "ticks": ""
            },
            "colorscale": [
             [
              0,
              "#0d0887"
             ],
             [
              0.1111111111111111,
              "#46039f"
             ],
             [
              0.2222222222222222,
              "#7201a8"
             ],
             [
              0.3333333333333333,
              "#9c179e"
             ],
             [
              0.4444444444444444,
              "#bd3786"
             ],
             [
              0.5555555555555556,
              "#d8576b"
             ],
             [
              0.6666666666666666,
              "#ed7953"
             ],
             [
              0.7777777777777778,
              "#fb9f3a"
             ],
             [
              0.8888888888888888,
              "#fdca26"
             ],
             [
              1,
              "#f0f921"
             ]
            ],
            "type": "surface"
           }
          ],
          "table": [
           {
            "cells": {
             "fill": {
              "color": "#EBF0F8"
             },
             "line": {
              "color": "white"
             }
            },
            "header": {
             "fill": {
              "color": "#C8D4E3"
             },
             "line": {
              "color": "white"
             }
            },
            "type": "table"
           }
          ]
         },
         "layout": {
          "annotationdefaults": {
           "arrowcolor": "#2a3f5f",
           "arrowhead": 0,
           "arrowwidth": 1
          },
          "autotypenumbers": "strict",
          "coloraxis": {
           "colorbar": {
            "outlinewidth": 0,
            "ticks": ""
           }
          },
          "colorscale": {
           "diverging": [
            [
             0,
             "#8e0152"
            ],
            [
             0.1,
             "#c51b7d"
            ],
            [
             0.2,
             "#de77ae"
            ],
            [
             0.3,
             "#f1b6da"
            ],
            [
             0.4,
             "#fde0ef"
            ],
            [
             0.5,
             "#f7f7f7"
            ],
            [
             0.6,
             "#e6f5d0"
            ],
            [
             0.7,
             "#b8e186"
            ],
            [
             0.8,
             "#7fbc41"
            ],
            [
             0.9,
             "#4d9221"
            ],
            [
             1,
             "#276419"
            ]
           ],
           "sequential": [
            [
             0,
             "#0d0887"
            ],
            [
             0.1111111111111111,
             "#46039f"
            ],
            [
             0.2222222222222222,
             "#7201a8"
            ],
            [
             0.3333333333333333,
             "#9c179e"
            ],
            [
             0.4444444444444444,
             "#bd3786"
            ],
            [
             0.5555555555555556,
             "#d8576b"
            ],
            [
             0.6666666666666666,
             "#ed7953"
            ],
            [
             0.7777777777777778,
             "#fb9f3a"
            ],
            [
             0.8888888888888888,
             "#fdca26"
            ],
            [
             1,
             "#f0f921"
            ]
           ],
           "sequentialminus": [
            [
             0,
             "#0d0887"
            ],
            [
             0.1111111111111111,
             "#46039f"
            ],
            [
             0.2222222222222222,
             "#7201a8"
            ],
            [
             0.3333333333333333,
             "#9c179e"
            ],
            [
             0.4444444444444444,
             "#bd3786"
            ],
            [
             0.5555555555555556,
             "#d8576b"
            ],
            [
             0.6666666666666666,
             "#ed7953"
            ],
            [
             0.7777777777777778,
             "#fb9f3a"
            ],
            [
             0.8888888888888888,
             "#fdca26"
            ],
            [
             1,
             "#f0f921"
            ]
           ]
          },
          "colorway": [
           "#636efa",
           "#EF553B",
           "#00cc96",
           "#ab63fa",
           "#FFA15A",
           "#19d3f3",
           "#FF6692",
           "#B6E880",
           "#FF97FF",
           "#FECB52"
          ],
          "font": {
           "color": "#2a3f5f"
          },
          "geo": {
           "bgcolor": "white",
           "lakecolor": "white",
           "landcolor": "#E5ECF6",
           "showlakes": true,
           "showland": true,
           "subunitcolor": "white"
          },
          "hoverlabel": {
           "align": "left"
          },
          "hovermode": "closest",
          "mapbox": {
           "style": "light"
          },
          "paper_bgcolor": "white",
          "plot_bgcolor": "#E5ECF6",
          "polar": {
           "angularaxis": {
            "gridcolor": "white",
            "linecolor": "white",
            "ticks": ""
           },
           "bgcolor": "#E5ECF6",
           "radialaxis": {
            "gridcolor": "white",
            "linecolor": "white",
            "ticks": ""
           }
          },
          "scene": {
           "xaxis": {
            "backgroundcolor": "#E5ECF6",
            "gridcolor": "white",
            "gridwidth": 2,
            "linecolor": "white",
            "showbackground": true,
            "ticks": "",
            "zerolinecolor": "white"
           },
           "yaxis": {
            "backgroundcolor": "#E5ECF6",
            "gridcolor": "white",
            "gridwidth": 2,
            "linecolor": "white",
            "showbackground": true,
            "ticks": "",
            "zerolinecolor": "white"
           },
           "zaxis": {
            "backgroundcolor": "#E5ECF6",
            "gridcolor": "white",
            "gridwidth": 2,
            "linecolor": "white",
            "showbackground": true,
            "ticks": "",
            "zerolinecolor": "white"
           }
          },
          "shapedefaults": {
           "line": {
            "color": "#2a3f5f"
           }
          },
          "ternary": {
           "aaxis": {
            "gridcolor": "white",
            "linecolor": "white",
            "ticks": ""
           },
           "baxis": {
            "gridcolor": "white",
            "linecolor": "white",
            "ticks": ""
           },
           "bgcolor": "#E5ECF6",
           "caxis": {
            "gridcolor": "white",
            "linecolor": "white",
            "ticks": ""
           }
          },
          "title": {
           "x": 0.05
          },
          "xaxis": {
           "automargin": true,
           "gridcolor": "white",
           "linecolor": "white",
           "ticks": "",
           "title": {
            "standoff": 15
           },
           "zerolinecolor": "white",
           "zerolinewidth": 2
          },
          "yaxis": {
           "automargin": true,
           "gridcolor": "white",
           "linecolor": "white",
           "ticks": "",
           "title": {
            "standoff": 15
           },
           "zerolinecolor": "white",
           "zerolinewidth": 2
          }
         }
        },
        "title": {
         "text": "Parallel Coordinate Plot"
        }
       }
      }
     },
     "metadata": {},
     "output_type": "display_data"
    }
   ],
   "source": [
    "optuna.visualization.plot_parallel_coordinate(study)"
   ]
  },
  {
   "cell_type": "code",
   "execution_count": 40,
   "id": "75db1ddf",
   "metadata": {},
   "outputs": [
    {
     "name": "stdout",
     "output_type": "stream",
     "text": [
      "Best trial: {'n_estimators': 742, 'max_depth': 23, 'num_leaves': 5, 'min_child_samples': 1, 'num_iterations': 661}\n"
     ]
    }
   ],
   "source": [
    "print(\"Best trial:\", study.best_trial.params)"
   ]
  },
  {
   "cell_type": "code",
   "execution_count": 41,
   "id": "574699dc",
   "metadata": {},
   "outputs": [
    {
     "data": {
      "text/plain": [
       "742"
      ]
     },
     "execution_count": 41,
     "metadata": {},
     "output_type": "execute_result"
    }
   ],
   "source": [
    "study.best_trial.params[\"n_estimators\"]"
   ]
  },
  {
   "cell_type": "code",
   "execution_count": 42,
   "id": "862eadd2",
   "metadata": {},
   "outputs": [
    {
     "data": {
      "text/html": [
       "<style>#sk-container-id-1 {color: black;}#sk-container-id-1 pre{padding: 0;}#sk-container-id-1 div.sk-toggleable {background-color: white;}#sk-container-id-1 label.sk-toggleable__label {cursor: pointer;display: block;width: 100%;margin-bottom: 0;padding: 0.3em;box-sizing: border-box;text-align: center;}#sk-container-id-1 label.sk-toggleable__label-arrow:before {content: \"▸\";float: left;margin-right: 0.25em;color: #696969;}#sk-container-id-1 label.sk-toggleable__label-arrow:hover:before {color: black;}#sk-container-id-1 div.sk-estimator:hover label.sk-toggleable__label-arrow:before {color: black;}#sk-container-id-1 div.sk-toggleable__content {max-height: 0;max-width: 0;overflow: hidden;text-align: left;background-color: #f0f8ff;}#sk-container-id-1 div.sk-toggleable__content pre {margin: 0.2em;color: black;border-radius: 0.25em;background-color: #f0f8ff;}#sk-container-id-1 input.sk-toggleable__control:checked~div.sk-toggleable__content {max-height: 200px;max-width: 100%;overflow: auto;}#sk-container-id-1 input.sk-toggleable__control:checked~label.sk-toggleable__label-arrow:before {content: \"▾\";}#sk-container-id-1 div.sk-estimator input.sk-toggleable__control:checked~label.sk-toggleable__label {background-color: #d4ebff;}#sk-container-id-1 div.sk-label input.sk-toggleable__control:checked~label.sk-toggleable__label {background-color: #d4ebff;}#sk-container-id-1 input.sk-hidden--visually {border: 0;clip: rect(1px 1px 1px 1px);clip: rect(1px, 1px, 1px, 1px);height: 1px;margin: -1px;overflow: hidden;padding: 0;position: absolute;width: 1px;}#sk-container-id-1 div.sk-estimator {font-family: monospace;background-color: #f0f8ff;border: 1px dotted black;border-radius: 0.25em;box-sizing: border-box;margin-bottom: 0.5em;}#sk-container-id-1 div.sk-estimator:hover {background-color: #d4ebff;}#sk-container-id-1 div.sk-parallel-item::after {content: \"\";width: 100%;border-bottom: 1px solid gray;flex-grow: 1;}#sk-container-id-1 div.sk-label:hover label.sk-toggleable__label {background-color: #d4ebff;}#sk-container-id-1 div.sk-serial::before {content: \"\";position: absolute;border-left: 1px solid gray;box-sizing: border-box;top: 0;bottom: 0;left: 50%;z-index: 0;}#sk-container-id-1 div.sk-serial {display: flex;flex-direction: column;align-items: center;background-color: white;padding-right: 0.2em;padding-left: 0.2em;position: relative;}#sk-container-id-1 div.sk-item {position: relative;z-index: 1;}#sk-container-id-1 div.sk-parallel {display: flex;align-items: stretch;justify-content: center;background-color: white;position: relative;}#sk-container-id-1 div.sk-item::before, #sk-container-id-1 div.sk-parallel-item::before {content: \"\";position: absolute;border-left: 1px solid gray;box-sizing: border-box;top: 0;bottom: 0;left: 50%;z-index: -1;}#sk-container-id-1 div.sk-parallel-item {display: flex;flex-direction: column;z-index: 1;position: relative;background-color: white;}#sk-container-id-1 div.sk-parallel-item:first-child::after {align-self: flex-end;width: 50%;}#sk-container-id-1 div.sk-parallel-item:last-child::after {align-self: flex-start;width: 50%;}#sk-container-id-1 div.sk-parallel-item:only-child::after {width: 0;}#sk-container-id-1 div.sk-dashed-wrapped {border: 1px dashed gray;margin: 0 0.4em 0.5em 0.4em;box-sizing: border-box;padding-bottom: 0.4em;background-color: white;}#sk-container-id-1 div.sk-label label {font-family: monospace;font-weight: bold;display: inline-block;line-height: 1.2em;}#sk-container-id-1 div.sk-label-container {text-align: center;}#sk-container-id-1 div.sk-container {/* jupyter's `normalize.less` sets `[hidden] { display: none; }` but bootstrap.min.css set `[hidden] { display: none !important; }` so we also need the `!important` here to be able to override the default hidden behavior on the sphinx rendered scikit-learn.org. See: https://github.com/scikit-learn/scikit-learn/issues/21755 */display: inline-block !important;position: relative;}#sk-container-id-1 div.sk-text-repr-fallback {display: none;}</style><div id=\"sk-container-id-1\" class=\"sk-top-container\"><div class=\"sk-text-repr-fallback\"><pre>LGBMRegressor(max_depth=23, min_child_samples=1, n_estimators=742,\n",
       "              num_iterations=661, num_leaves=5, random_state=42)</pre><b>In a Jupyter environment, please rerun this cell to show the HTML representation or trust the notebook. <br />On GitHub, the HTML representation is unable to render, please try loading this page with nbviewer.org.</b></div><div class=\"sk-container\" hidden><div class=\"sk-item\"><div class=\"sk-estimator sk-toggleable\"><input class=\"sk-toggleable__control sk-hidden--visually\" id=\"sk-estimator-id-1\" type=\"checkbox\" checked><label for=\"sk-estimator-id-1\" class=\"sk-toggleable__label sk-toggleable__label-arrow\">LGBMRegressor</label><div class=\"sk-toggleable__content\"><pre>LGBMRegressor(max_depth=23, min_child_samples=1, n_estimators=742,\n",
       "              num_iterations=661, num_leaves=5, random_state=42)</pre></div></div></div></div></div>"
      ],
      "text/plain": [
       "LGBMRegressor(max_depth=23, min_child_samples=1, n_estimators=742,\n",
       "              num_iterations=661, num_leaves=5, random_state=42)"
      ]
     },
     "execution_count": 42,
     "metadata": {},
     "output_type": "execute_result"
    }
   ],
   "source": [
    "lgbm_params = {\n",
    "    \"random_state\": 42,\n",
    "    \"learning_rate\": 0.1,\n",
    "    \"n_estimators\": study.best_trial.params[\"n_estimators\"],\n",
    "    \"max_depth\": study.best_trial.params[\"max_depth\"],\n",
    "    \"num_leaves\": study.best_trial.params[\"num_leaves\"],\n",
    "    \"min_child_samples\": study.best_trial.params[\"min_child_samples\"],\n",
    "    \"num_iterations\": study.best_trial.params[\"num_iterations\"]\n",
    "}\n",
    "\n",
    "lgbm = LGBMRegressor(**lgbm_params)\n",
    "lgbm.fit(As_X_train, As_y_train)"
   ]
  },
  {
   "cell_type": "code",
   "execution_count": 43,
   "id": "8577fb37",
   "metadata": {},
   "outputs": [],
   "source": [
    "y_train_pred = lgbm.predict(As_X_train)\n",
    "y_test_pred = lgbm.predict(As_X_test)"
   ]
  },
  {
   "cell_type": "code",
   "execution_count": 44,
   "id": "2ea0526a",
   "metadata": {},
   "outputs": [],
   "source": [
    "# plt.scatter(y_train_pred, np.array(As_y_train))"
   ]
  },
  {
   "cell_type": "code",
   "execution_count": 45,
   "id": "d2a4dd85",
   "metadata": {},
   "outputs": [
    {
     "name": "stdout",
     "output_type": "stream",
     "text": [
      "Train RMSE:  0.105564146786757\n",
      "Test RMSE:  0.4904763771499332\n"
     ]
    }
   ],
   "source": [
    "print(\"Train RMSE: \", np.sqrt(mean_squared_error(As_y_train, y_train_pred)))\n",
    "print(\"Test RMSE: \", np.sqrt(mean_squared_error(As_y_test, y_test_pred)))"
   ]
  },
  {
   "cell_type": "code",
   "execution_count": 46,
   "id": "08fe787a",
   "metadata": {},
   "outputs": [
    {
     "name": "stdout",
     "output_type": "stream",
     "text": [
      "Train R2:  0.9545362964536456\n",
      "Test R2:  -0.04691957724697482\n"
     ]
    }
   ],
   "source": [
    "print(\"Train R2: \", r2_score(As_y_train, y_train_pred))\n",
    "print(\"Test R2: \", r2_score(As_y_test, y_test_pred))"
   ]
  },
  {
   "cell_type": "code",
   "execution_count": 47,
   "id": "5ec4820c",
   "metadata": {},
   "outputs": [
    {
     "data": {
      "image/png": "[encoded data removed]",
      "text/plain": [
       "<Figure size 640x480 with 1 Axes>"
      ]
     },
     "metadata": {},
     "output_type": "display_data"
    }
   ],
   "source": [
    "plt.scatter(y_train_pred, np.array(As_y_train), color=\"orange\", alpha=0.3)\n",
    "plt.scatter(y_test_pred, np.array(As_y_test), color=\"green\", alpha=0.4)\n",
    "plt.axis(\"auto\") # scaled, tight, auto, image, square\n",
    "# plt.xlim([0, 1.5]) \n",
    "# plt.ylim(0, None) \n",
    "plt.xlabel('Predicted Values')\n",
    "plt.ylabel('Actual Values')\n",
    "\n",
    "# Add y=x line\n",
    "plt.plot([0, 4.0], [0, 4.0], color='red', linestyle='-')\n",
    "\n",
    "plt.show()"
   ]
  },
  {
   "attachments": {},
   "cell_type": "markdown",
   "id": "e0507d63",
   "metadata": {},
   "source": [
    "Cd"
   ]
  },
  {
   "attachments": {},
   "cell_type": "markdown",
   "id": "f8f809d9",
   "metadata": {},
   "source": [
    "Optimization"
   ]
  },
  {
   "cell_type": "code",
   "execution_count": 48,
   "id": "b7aeaf0a",
   "metadata": {},
   "outputs": [
    {
     "name": "stderr",
     "output_type": "stream",
     "text": [
      "\u001b[32m[I 2023-08-24 14:08:57,020]\u001b[0m A new study created in memory with name: lgbm_parameter_opt\u001b[0m\n",
      "\u001b[32m[I 2023-08-24 14:08:59,189]\u001b[0m Trial 0 finished with value: 0.6000793765919229 and parameters: {'n_estimators': 916, 'max_depth': 27, 'num_leaves': 11, 'min_child_samples': 6, 'num_iterations': 835}. Best is trial 0 with value: 0.6000793765919229.\u001b[0m\n",
      "\u001b[32m[I 2023-08-24 14:09:03,751]\u001b[0m Trial 1 finished with value: 0.6055882108673565 and parameters: {'n_estimators': 968, 'max_depth': 20, 'num_leaves': 23, 'min_child_samples': 2, 'num_iterations': 843}. Best is trial 1 with value: 0.6055882108673565.\u001b[0m\n",
      "\u001b[32m[I 2023-08-24 14:09:05,124]\u001b[0m Trial 2 finished with value: 0.6033846916996287 and parameters: {'n_estimators': 851, 'max_depth': 29, 'num_leaves': 10, 'min_child_samples': 9, 'num_iterations': 587}. Best is trial 1 with value: 0.6055882108673565.\u001b[0m\n",
      "\u001b[32m[I 2023-08-24 14:09:09,479]\u001b[0m Trial 3 finished with value: 0.5916123949115615 and parameters: {'n_estimators': 855, 'max_depth': 25, 'num_leaves': 26, 'min_child_samples': 6, 'num_iterations': 801}. Best is trial 1 with value: 0.6055882108673565.\u001b[0m\n",
      "\u001b[32m[I 2023-08-24 14:09:12,076]\u001b[0m Trial 4 finished with value: 0.5742686898589427 and parameters: {'n_estimators': 584, 'max_depth': 5, 'num_leaves': 23, 'min_child_samples': 10, 'num_iterations': 988}. Best is trial 1 with value: 0.6055882108673565.\u001b[0m\n",
      "\u001b[32m[I 2023-08-24 14:09:12,491]\u001b[0m Trial 5 finished with value: 0.4992160038463019 and parameters: {'n_estimators': 856, 'max_depth': 1, 'num_leaves': 18, 'min_child_samples': 4, 'num_iterations': 677}. Best is trial 1 with value: 0.6055882108673565.\u001b[0m\n",
      "\u001b[32m[I 2023-08-24 14:09:17,012]\u001b[0m Trial 6 finished with value: 0.5751370543481445 and parameters: {'n_estimators': 608, 'max_depth': 27, 'num_leaves': 28, 'min_child_samples': 10, 'num_iterations': 811}. Best is trial 1 with value: 0.6055882108673565.\u001b[0m\n"
     ]
    },
    {
     "name": "stdout",
     "output_type": "stream",
     "text": [
      "[LightGBM] [Warning] Accuracy may be bad since you didn't explicitly set num_leaves OR 2^max_depth > num_leaves. (num_leaves=31).\n",
      "[LightGBM] [Warning] Accuracy may be bad since you didn't explicitly set num_leaves OR 2^max_depth > num_leaves. (num_leaves=31).\n",
      "[LightGBM] [Warning] Accuracy may be bad since you didn't explicitly set num_leaves OR 2^max_depth > num_leaves. (num_leaves=31).\n",
      "[LightGBM] [Warning] Accuracy may be bad since you didn't explicitly set num_leaves OR 2^max_depth > num_leaves. (num_leaves=31).\n",
      "[LightGBM] [Warning] Accuracy may be bad since you didn't explicitly set num_leaves OR 2^max_depth > num_leaves. (num_leaves=31).\n"
     ]
    },
    {
     "name": "stderr",
     "output_type": "stream",
     "text": [
      "\u001b[32m[I 2023-08-24 14:09:22,833]\u001b[0m Trial 7 finished with value: 0.5873752677147069 and parameters: {'n_estimators': 893, 'max_depth': 29, 'num_leaves': 31, 'min_child_samples': 8, 'num_iterations': 939}. Best is trial 1 with value: 0.6055882108673565.\u001b[0m\n",
      "\u001b[32m[I 2023-08-24 14:09:25,594]\u001b[0m Trial 8 finished with value: 0.6061207942173475 and parameters: {'n_estimators': 621, 'max_depth': 23, 'num_leaves': 17, 'min_child_samples': 2, 'num_iterations': 742}. Best is trial 8 with value: 0.6061207942173475.\u001b[0m\n"
     ]
    },
    {
     "name": "stdout",
     "output_type": "stream",
     "text": [
      "[LightGBM] [Warning] Accuracy may be bad since you didn't explicitly set num_leaves OR 2^max_depth > num_leaves. (num_leaves=31).\n",
      "[LightGBM] [Warning] Accuracy may be bad since you didn't explicitly set num_leaves OR 2^max_depth > num_leaves. (num_leaves=31).\n",
      "[LightGBM] [Warning] Accuracy may be bad since you didn't explicitly set num_leaves OR 2^max_depth > num_leaves. (num_leaves=31).\n",
      "[LightGBM] [Warning] Accuracy may be bad since you didn't explicitly set num_leaves OR 2^max_depth > num_leaves. (num_leaves=31).\n",
      "[LightGBM] [Warning] Accuracy may be bad since you didn't explicitly set num_leaves OR 2^max_depth > num_leaves. (num_leaves=31).\n"
     ]
    },
    {
     "name": "stderr",
     "output_type": "stream",
     "text": [
      "\u001b[32m[I 2023-08-24 14:09:29,777]\u001b[0m Trial 9 finished with value: 0.5969922235286764 and parameters: {'n_estimators': 968, 'max_depth': 27, 'num_leaves': 31, 'min_child_samples': 3, 'num_iterations': 663}. Best is trial 8 with value: 0.6061207942173475.\u001b[0m\n",
      "\u001b[32m[I 2023-08-24 14:09:30,474]\u001b[0m Trial 10 finished with value: 0.5869285001751722 and parameters: {'n_estimators': 707, 'max_depth': 12, 'num_leaves': 5, 'min_child_samples': 1, 'num_iterations': 525}. Best is trial 8 with value: 0.6061207942173475.\u001b[0m\n",
      "\u001b[32m[I 2023-08-24 14:09:34,620]\u001b[0m Trial 11 finished with value: 0.5962391313170612 and parameters: {'n_estimators': 726, 'max_depth': 19, 'num_leaves': 20, 'min_child_samples': 1, 'num_iterations': 887}. Best is trial 8 with value: 0.6061207942173475.\u001b[0m\n",
      "\u001b[32m[I 2023-08-24 14:09:36,653]\u001b[0m Trial 12 finished with value: 0.6094512121226422 and parameters: {'n_estimators': 524, 'max_depth': 19, 'num_leaves': 13, 'min_child_samples': 3, 'num_iterations': 724}. Best is trial 12 with value: 0.6094512121226422.\u001b[0m\n",
      "\u001b[32m[I 2023-08-24 14:09:38,624]\u001b[0m Trial 13 finished with value: 0.6109284716805833 and parameters: {'n_estimators': 509, 'max_depth': 12, 'num_leaves': 13, 'min_child_samples': 4, 'num_iterations': 716}. Best is trial 13 with value: 0.6109284716805833.\u001b[0m\n",
      "\u001b[32m[I 2023-08-24 14:09:40,276]\u001b[0m Trial 14 finished with value: 0.5977478698393022 and parameters: {'n_estimators': 515, 'max_depth': 12, 'num_leaves': 11, 'min_child_samples': 4, 'num_iterations': 711}. Best is trial 13 with value: 0.6109284716805833.\u001b[0m\n",
      "\u001b[32m[I 2023-08-24 14:09:40,635]\u001b[0m Trial 15 finished with value: 0.4979863455800958 and parameters: {'n_estimators': 519, 'max_depth': 15, 'num_leaves': 2, 'min_child_samples': 4, 'num_iterations': 639}. Best is trial 13 with value: 0.6109284716805833.\u001b[0m\n",
      "\u001b[32m[I 2023-08-24 14:09:42,917]\u001b[0m Trial 16 finished with value: 0.604930281561113 and parameters: {'n_estimators': 666, 'max_depth': 10, 'num_leaves': 14, 'min_child_samples': 5, 'num_iterations': 760}. Best is trial 13 with value: 0.6109284716805833.\u001b[0m\n",
      "\u001b[32m[I 2023-08-24 14:09:43,945]\u001b[0m Trial 17 finished with value: 0.6070041775465805 and parameters: {'n_estimators': 559, 'max_depth': 18, 'num_leaves': 8, 'min_child_samples': 7, 'num_iterations': 562}. Best is trial 13 with value: 0.6109284716805833.\u001b[0m\n",
      "\u001b[32m[I 2023-08-24 14:09:45,842]\u001b[0m Trial 18 finished with value: 0.6033367958937494 and parameters: {'n_estimators': 790, 'max_depth': 7, 'num_leaves': 15, 'min_child_samples': 3, 'num_iterations': 624}. Best is trial 13 with value: 0.6109284716805833.\u001b[0m\n",
      "\u001b[32m[I 2023-08-24 14:09:47,016]\u001b[0m Trial 19 finished with value: 0.6077845618699664 and parameters: {'n_estimators': 653, 'max_depth': 17, 'num_leaves': 7, 'min_child_samples': 5, 'num_iterations': 732}. Best is trial 13 with value: 0.6109284716805833.\u001b[0m\n",
      "\u001b[32m[I 2023-08-24 14:09:49,402]\u001b[0m Trial 20 finished with value: 0.6045501301674795 and parameters: {'n_estimators': 503, 'max_depth': 14, 'num_leaves': 14, 'min_child_samples': 3, 'num_iterations': 777}. Best is trial 13 with value: 0.6109284716805833.\u001b[0m\n",
      "\u001b[32m[I 2023-08-24 14:09:50,416]\u001b[0m Trial 21 finished with value: 0.6145677608754195 and parameters: {'n_estimators': 665, 'max_depth': 22, 'num_leaves': 6, 'min_child_samples': 5, 'num_iterations': 701}. Best is trial 21 with value: 0.6145677608754195.\u001b[0m\n",
      "\u001b[32m[I 2023-08-24 14:09:50,800]\u001b[0m Trial 22 finished with value: 0.4990346285796857 and parameters: {'n_estimators': 552, 'max_depth': 21, 'num_leaves': 2, 'min_child_samples': 5, 'num_iterations': 687}. Best is trial 21 with value: 0.6145677608754195.\u001b[0m\n",
      "\u001b[32m[I 2023-08-24 14:09:51,592]\u001b[0m Trial 23 finished with value: 0.6094636276888142 and parameters: {'n_estimators': 783, 'max_depth': 22, 'num_leaves': 5, 'min_child_samples': 7, 'num_iterations': 610}. Best is trial 21 with value: 0.6145677608754195.\u001b[0m\n",
      "\u001b[32m[I 2023-08-24 14:09:52,385]\u001b[0m Trial 24 finished with value: 0.6093847763545339 and parameters: {'n_estimators': 777, 'max_depth': 23, 'num_leaves': 5, 'min_child_samples': 7, 'num_iterations': 613}. Best is trial 21 with value: 0.6145677608754195.\u001b[0m\n",
      "\u001b[32m[I 2023-08-24 14:09:53,053]\u001b[0m Trial 25 finished with value: 0.6069906043763339 and parameters: {'n_estimators': 801, 'max_depth': 22, 'num_leaves': 5, 'min_child_samples': 7, 'num_iterations': 506}. Best is trial 21 with value: 0.6145677608754195.\u001b[0m\n",
      "\u001b[32m[I 2023-08-24 14:09:54,111]\u001b[0m Trial 26 finished with value: 0.603292860939038 and parameters: {'n_estimators': 690, 'max_depth': 16, 'num_leaves': 8, 'min_child_samples': 8, 'num_iterations': 569}. Best is trial 21 with value: 0.6145677608754195.\u001b[0m\n",
      "\u001b[32m[I 2023-08-24 14:09:54,792]\u001b[0m Trial 27 finished with value: 0.6021420335147617 and parameters: {'n_estimators': 758, 'max_depth': 8, 'num_leaves': 4, 'min_child_samples': 6, 'num_iterations': 653}. Best is trial 21 with value: 0.6145677608754195.\u001b[0m\n",
      "\u001b[32m[I 2023-08-24 14:09:56,151]\u001b[0m Trial 28 finished with value: 0.602138660949159 and parameters: {'n_estimators': 733, 'max_depth': 25, 'num_leaves': 9, 'min_child_samples': 8, 'num_iterations': 691}. Best is trial 21 with value: 0.6145677608754195.\u001b[0m\n",
      "\u001b[32m[I 2023-08-24 14:09:57,549]\u001b[0m Trial 29 finished with value: 0.6025721838255201 and parameters: {'n_estimators': 824, 'max_depth': 13, 'num_leaves': 11, 'min_child_samples': 6, 'num_iterations': 599}. Best is trial 21 with value: 0.6145677608754195.\u001b[0m\n",
      "\u001b[32m[I 2023-08-24 14:09:58,341]\u001b[0m Trial 30 finished with value: 0.6082812283950292 and parameters: {'n_estimators': 640, 'max_depth': 3, 'num_leaves': 7, 'min_child_samples': 5, 'num_iterations': 561}. Best is trial 21 with value: 0.6145677608754195.\u001b[0m\n",
      "\u001b[32m[I 2023-08-24 14:10:00,223]\u001b[0m Trial 31 finished with value: 0.6082072761141074 and parameters: {'n_estimators': 585, 'max_depth': 18, 'num_leaves': 12, 'min_child_samples': 4, 'num_iterations': 726}. Best is trial 21 with value: 0.6145677608754195.\u001b[0m\n",
      "\u001b[32m[I 2023-08-24 14:10:02,737]\u001b[0m Trial 32 finished with value: 0.6045254101847564 and parameters: {'n_estimators': 543, 'max_depth': 20, 'num_leaves': 13, 'min_child_samples': 2, 'num_iterations': 843}. Best is trial 21 with value: 0.6145677608754195.\u001b[0m\n",
      "\u001b[32m[I 2023-08-24 14:10:05,916]\u001b[0m Trial 33 finished with value: 0.6024512171336633 and parameters: {'n_estimators': 681, 'max_depth': 25, 'num_leaves': 19, 'min_child_samples': 3, 'num_iterations': 773}. Best is trial 21 with value: 0.6145677608754195.\u001b[0m\n",
      "\u001b[32m[I 2023-08-24 14:10:08,381]\u001b[0m Trial 34 finished with value: 0.6033702892173616 and parameters: {'n_estimators': 582, 'max_depth': 20, 'num_leaves': 16, 'min_child_samples': 4, 'num_iterations': 709}. Best is trial 21 with value: 0.6145677608754195.\u001b[0m\n",
      "\u001b[32m[I 2023-08-24 14:10:12,165]\u001b[0m Trial 35 finished with value: 0.5937480817470633 and parameters: {'n_estimators': 536, 'max_depth': 10, 'num_leaves': 22, 'min_child_samples': 6, 'num_iterations': 796}. Best is trial 21 with value: 0.6145677608754195.\u001b[0m\n",
      "\u001b[32m[I 2023-08-24 14:10:13,568]\u001b[0m Trial 36 finished with value: 0.6106233349890238 and parameters: {'n_estimators': 930, 'max_depth': 24, 'num_leaves': 9, 'min_child_samples': 2, 'num_iterations': 639}. Best is trial 21 with value: 0.6145677608754195.\u001b[0m\n",
      "\u001b[32m[I 2023-08-24 14:10:15,101]\u001b[0m Trial 37 finished with value: 0.5983823263728512 and parameters: {'n_estimators': 938, 'max_depth': 24, 'num_leaves': 10, 'min_child_samples': 2, 'num_iterations': 648}. Best is trial 21 with value: 0.6145677608754195.\u001b[0m\n",
      "\u001b[32m[I 2023-08-24 14:10:15,586]\u001b[0m Trial 38 finished with value: 0.5431697989560089 and parameters: {'n_estimators': 892, 'max_depth': 26, 'num_leaves': 3, 'min_child_samples': 1, 'num_iterations': 592}. Best is trial 21 with value: 0.6145677608754195.\u001b[0m\n",
      "\u001b[32m[I 2023-08-24 14:10:17,099]\u001b[0m Trial 39 finished with value: 0.6009937928374793 and parameters: {'n_estimators': 988, 'max_depth': 29, 'num_leaves': 10, 'min_child_samples': 9, 'num_iterations': 683}. Best is trial 21 with value: 0.6145677608754195.\u001b[0m\n",
      "\u001b[32m[I 2023-08-24 14:10:18,034]\u001b[0m Trial 40 finished with value: 0.6169411365218208 and parameters: {'n_estimators': 830, 'max_depth': 30, 'num_leaves': 6, 'min_child_samples': 7, 'num_iterations': 632}. Best is trial 40 with value: 0.6169411365218208.\u001b[0m\n",
      "\u001b[32m[I 2023-08-24 14:10:18,933]\u001b[0m Trial 41 finished with value: 0.5994394391750897 and parameters: {'n_estimators': 827, 'max_depth': 28, 'num_leaves': 6, 'min_child_samples': 9, 'num_iterations': 631}. Best is trial 40 with value: 0.6169411365218208.\u001b[0m\n",
      "\u001b[32m[I 2023-08-24 14:10:20,049]\u001b[0m Trial 42 finished with value: 0.6110685062024332 and parameters: {'n_estimators': 898, 'max_depth': 23, 'num_leaves': 7, 'min_child_samples': 7, 'num_iterations': 663}. Best is trial 40 with value: 0.6169411365218208.\u001b[0m\n",
      "\u001b[32m[I 2023-08-24 14:10:21,363]\u001b[0m Trial 43 finished with value: 0.6131759831860665 and parameters: {'n_estimators': 895, 'max_depth': 30, 'num_leaves': 9, 'min_child_samples': 6, 'num_iterations': 662}. Best is trial 40 with value: 0.6169411365218208.\u001b[0m\n",
      "\u001b[32m[I 2023-08-24 14:10:22,492]\u001b[0m Trial 44 finished with value: 0.6165686223057837 and parameters: {'n_estimators': 879, 'max_depth': 30, 'num_leaves': 7, 'min_child_samples': 6, 'num_iterations': 678}. Best is trial 40 with value: 0.6169411365218208.\u001b[0m\n",
      "\u001b[32m[I 2023-08-24 14:10:23,586]\u001b[0m Trial 45 finished with value: 0.616821947249943 and parameters: {'n_estimators': 889, 'max_depth': 30, 'num_leaves': 7, 'min_child_samples': 6, 'num_iterations': 668}. Best is trial 40 with value: 0.6169411365218208.\u001b[0m\n",
      "\u001b[32m[I 2023-08-24 14:10:24,176]\u001b[0m Trial 46 finished with value: 0.5743842875834553 and parameters: {'n_estimators': 857, 'max_depth': 30, 'num_leaves': 3, 'min_child_samples': 6, 'num_iterations': 698}. Best is trial 40 with value: 0.6169411365218208.\u001b[0m\n",
      "\u001b[32m[I 2023-08-24 14:10:25,158]\u001b[0m Trial 47 finished with value: 0.6033698985573588 and parameters: {'n_estimators': 867, 'max_depth': 30, 'num_leaves': 6, 'min_child_samples': 6, 'num_iterations': 667}. Best is trial 40 with value: 0.6169411365218208.\u001b[0m\n",
      "\u001b[32m[I 2023-08-24 14:10:28,983]\u001b[0m Trial 48 finished with value: 0.5940238262857686 and parameters: {'n_estimators': 890, 'max_depth': 28, 'num_leaves': 27, 'min_child_samples': 5, 'num_iterations': 672}. Best is trial 40 with value: 0.6169411365218208.\u001b[0m\n",
      "\u001b[32m[I 2023-08-24 14:10:29,781]\u001b[0m Trial 49 finished with value: 0.6029205733562757 and parameters: {'n_estimators': 960, 'max_depth': 27, 'num_leaves': 4, 'min_child_samples': 8, 'num_iterations': 751}. Best is trial 40 with value: 0.6169411365218208.\u001b[0m\n",
      "\u001b[32m[I 2023-08-24 14:10:31,569]\u001b[0m Trial 50 finished with value: 0.6051980385253861 and parameters: {'n_estimators': 825, 'max_depth': 30, 'num_leaves': 8, 'min_child_samples': 6, 'num_iterations': 990}. Best is trial 40 with value: 0.6169411365218208.\u001b[0m\n",
      "\u001b[32m[I 2023-08-24 14:10:32,686]\u001b[0m Trial 51 finished with value: 0.6110743616662285 and parameters: {'n_estimators': 913, 'max_depth': 28, 'num_leaves': 7, 'min_child_samples': 7, 'num_iterations': 660}. Best is trial 40 with value: 0.6169411365218208.\u001b[0m\n",
      "\u001b[32m[I 2023-08-24 14:10:34,427]\u001b[0m Trial 52 finished with value: 0.6089302028239623 and parameters: {'n_estimators': 911, 'max_depth': 28, 'num_leaves': 9, 'min_child_samples': 7, 'num_iterations': 871}. Best is trial 40 with value: 0.6169411365218208.\u001b[0m\n",
      "\u001b[32m[I 2023-08-24 14:10:35,416]\u001b[0m Trial 53 finished with value: 0.6065951488883193 and parameters: {'n_estimators': 876, 'max_depth': 27, 'num_leaves': 6, 'min_child_samples': 8, 'num_iterations': 701}. Best is trial 40 with value: 0.6169411365218208.\u001b[0m\n",
      "\u001b[32m[I 2023-08-24 14:10:36,915]\u001b[0m Trial 54 finished with value: 0.6041944430412756 and parameters: {'n_estimators': 839, 'max_depth': 29, 'num_leaves': 11, 'min_child_samples': 5, 'num_iterations': 631}. Best is trial 40 with value: 0.6169411365218208.\u001b[0m\n",
      "\u001b[32m[I 2023-08-24 14:10:37,546]\u001b[0m Trial 55 finished with value: 0.5994771789089018 and parameters: {'n_estimators': 927, 'max_depth': 26, 'num_leaves': 4, 'min_child_samples': 6, 'num_iterations': 581}. Best is trial 40 with value: 0.6169411365218208.\u001b[0m\n",
      "\u001b[32m[I 2023-08-24 14:10:38,641]\u001b[0m Trial 56 finished with value: 0.611036333006938 and parameters: {'n_estimators': 949, 'max_depth': 29, 'num_leaves': 7, 'min_child_samples': 7, 'num_iterations': 656}. Best is trial 40 with value: 0.6169411365218208.\u001b[0m\n",
      "\u001b[32m[I 2023-08-24 14:10:39,105]\u001b[0m Trial 57 finished with value: 0.567972977302653 and parameters: {'n_estimators': 910, 'max_depth': 30, 'num_leaves': 3, 'min_child_samples': 6, 'num_iterations': 533}. Best is trial 40 with value: 0.6169411365218208.\u001b[0m\n",
      "\u001b[32m[I 2023-08-24 14:10:40,204]\u001b[0m Trial 58 finished with value: 0.6162578582844971 and parameters: {'n_estimators': 997, 'max_depth': 28, 'num_leaves': 6, 'min_child_samples': 7, 'num_iterations': 741}. Best is trial 40 with value: 0.6169411365218208.\u001b[0m\n",
      "\u001b[32m[I 2023-08-24 14:10:40,642]\u001b[0m Trial 59 finished with value: 0.500922076776375 and parameters: {'n_estimators': 996, 'max_depth': 26, 'num_leaves': 2, 'min_child_samples': 5, 'num_iterations': 740}. Best is trial 40 with value: 0.6169411365218208.\u001b[0m\n",
      "\u001b[32m[I 2023-08-24 14:10:42,139]\u001b[0m Trial 60 finished with value: 0.5995349547320121 and parameters: {'n_estimators': 975, 'max_depth': 30, 'num_leaves': 8, 'min_child_samples': 8, 'num_iterations': 809}. Best is trial 40 with value: 0.6169411365218208.\u001b[0m\n",
      "\u001b[32m[I 2023-08-24 14:10:43,180]\u001b[0m Trial 61 finished with value: 0.6164660952228889 and parameters: {'n_estimators': 879, 'max_depth': 28, 'num_leaves': 6, 'min_child_samples': 7, 'num_iterations': 716}. Best is trial 40 with value: 0.6169411365218208.\u001b[0m\n",
      "\u001b[32m[I 2023-08-24 14:10:44,141]\u001b[0m Trial 62 finished with value: 0.6133014598533866 and parameters: {'n_estimators': 876, 'max_depth': 28, 'num_leaves': 5, 'min_child_samples': 7, 'num_iterations': 759}. Best is trial 40 with value: 0.6169411365218208.\u001b[0m\n",
      "\u001b[32m[I 2023-08-24 14:10:45,148]\u001b[0m Trial 63 finished with value: 0.6135525273635377 and parameters: {'n_estimators': 805, 'max_depth': 28, 'num_leaves': 5, 'min_child_samples': 7, 'num_iterations': 769}. Best is trial 40 with value: 0.6169411365218208.\u001b[0m\n",
      "\u001b[32m[I 2023-08-24 14:10:46,352]\u001b[0m Trial 64 finished with value: 0.6171526461648668 and parameters: {'n_estimators': 806, 'max_depth': 26, 'num_leaves': 6, 'min_child_samples': 7, 'num_iterations': 785}. Best is trial 64 with value: 0.6171526461648668.\u001b[0m\n",
      "\u001b[32m[I 2023-08-24 14:10:47,787]\u001b[0m Trial 65 finished with value: 0.594449622509553 and parameters: {'n_estimators': 752, 'max_depth': 26, 'num_leaves': 6, 'min_child_samples': 9, 'num_iterations': 788}. Best is trial 64 with value: 0.6171526461648668.\u001b[0m\n",
      "\u001b[32m[I 2023-08-24 14:10:49,777]\u001b[0m Trial 66 finished with value: 0.6058939753804173 and parameters: {'n_estimators': 848, 'max_depth': 27, 'num_leaves': 10, 'min_child_samples': 8, 'num_iterations': 721}. Best is trial 64 with value: 0.6171526461648668.\u001b[0m\n",
      "\u001b[32m[I 2023-08-24 14:10:50,743]\u001b[0m Trial 67 finished with value: 0.6072757334068525 and parameters: {'n_estimators': 769, 'max_depth': 25, 'num_leaves': 4, 'min_child_samples': 7, 'num_iterations': 735}. Best is trial 64 with value: 0.6171526461648668.\u001b[0m\n",
      "\u001b[32m[I 2023-08-24 14:10:52,494]\u001b[0m Trial 68 finished with value: 0.5993883520457641 and parameters: {'n_estimators': 728, 'max_depth': 24, 'num_leaves': 8, 'min_child_samples': 8, 'num_iterations': 820}. Best is trial 64 with value: 0.6171526461648668.\u001b[0m\n",
      "\u001b[32m[I 2023-08-24 14:10:53,824]\u001b[0m Trial 69 finished with value: 0.5990444546170614 and parameters: {'n_estimators': 811, 'max_depth': 29, 'num_leaves': 6, 'min_child_samples': 6, 'num_iterations': 937}. Best is trial 64 with value: 0.6171526461648668.\u001b[0m\n",
      "\u001b[32m[I 2023-08-24 14:10:55,671]\u001b[0m Trial 70 finished with value: 0.6129220024536988 and parameters: {'n_estimators': 790, 'max_depth': 22, 'num_leaves': 12, 'min_child_samples': 7, 'num_iterations': 713}. Best is trial 64 with value: 0.6171526461648668.\u001b[0m\n",
      "\u001b[32m[I 2023-08-24 14:10:56,662]\u001b[0m Trial 71 finished with value: 0.6135525273635377 and parameters: {'n_estimators': 800, 'max_depth': 27, 'num_leaves': 5, 'min_child_samples': 7, 'num_iterations': 769}. Best is trial 64 with value: 0.6171526461648668.\u001b[0m\n",
      "\u001b[32m[I 2023-08-24 14:11:02,175]\u001b[0m Trial 72 finished with value: 0.5841542525755039 and parameters: {'n_estimators': 853, 'max_depth': 26, 'num_leaves': 32, 'min_child_samples': 7, 'num_iterations': 783}. Best is trial 64 with value: 0.6171526461648668.\u001b[0m\n",
      "\u001b[32m[I 2023-08-24 14:11:02,862]\u001b[0m Trial 73 finished with value: 0.5765113441750274 and parameters: {'n_estimators': 712, 'max_depth': 27, 'num_leaves': 3, 'min_child_samples': 6, 'num_iterations': 743}. Best is trial 64 with value: 0.6171526461648668.\u001b[0m\n",
      "\u001b[32m[I 2023-08-24 14:11:03,914]\u001b[0m Trial 74 finished with value: 0.6059763817520546 and parameters: {'n_estimators': 767, 'max_depth': 29, 'num_leaves': 5, 'min_child_samples': 8, 'num_iterations': 682}. Best is trial 64 with value: 0.6171526461648668.\u001b[0m\n",
      "\u001b[32m[I 2023-08-24 14:11:05,496]\u001b[0m Trial 75 finished with value: 0.6065290289021086 and parameters: {'n_estimators': 838, 'max_depth': 28, 'num_leaves': 7, 'min_child_samples': 5, 'num_iterations': 828}. Best is trial 64 with value: 0.6171526461648668.\u001b[0m\n",
      "\u001b[32m[I 2023-08-24 14:11:06,422]\u001b[0m Trial 76 finished with value: 0.6072611444567169 and parameters: {'n_estimators': 810, 'max_depth': 29, 'num_leaves': 4, 'min_child_samples': 7, 'num_iterations': 756}. Best is trial 64 with value: 0.6171526461648668.\u001b[0m\n",
      "\u001b[32m[I 2023-08-24 14:11:07,934]\u001b[0m Trial 77 finished with value: 0.6087382745009589 and parameters: {'n_estimators': 740, 'max_depth': 24, 'num_leaves': 8, 'min_child_samples': 6, 'num_iterations': 699}. Best is trial 64 with value: 0.6171526461648668.\u001b[0m\n",
      "\u001b[32m[I 2023-08-24 14:11:08,942]\u001b[0m Trial 78 finished with value: 0.6173259052780505 and parameters: {'n_estimators': 871, 'max_depth': 25, 'num_leaves': 6, 'min_child_samples': 7, 'num_iterations': 613}. Best is trial 78 with value: 0.6173259052780505.\u001b[0m\n",
      "\u001b[32m[I 2023-08-24 14:11:12,087]\u001b[0m Trial 79 finished with value: 0.5963757976405407 and parameters: {'n_estimators': 884, 'max_depth': 25, 'num_leaves': 24, 'min_child_samples': 6, 'num_iterations': 605}. Best is trial 78 with value: 0.6173259052780505.\u001b[0m\n",
      "\u001b[32m[I 2023-08-24 14:11:13,068]\u001b[0m Trial 80 finished with value: 0.6175313058298373 and parameters: {'n_estimators': 858, 'max_depth': 23, 'num_leaves': 6, 'min_child_samples': 7, 'num_iterations': 614}. Best is trial 80 with value: 0.6175313058298373.\u001b[0m\n",
      "\u001b[32m[I 2023-08-24 14:11:13,997]\u001b[0m Trial 81 finished with value: 0.6175158543907429 and parameters: {'n_estimators': 869, 'max_depth': 21, 'num_leaves': 6, 'min_child_samples': 7, 'num_iterations': 620}. Best is trial 80 with value: 0.6175313058298373.\u001b[0m\n",
      "\u001b[32m[I 2023-08-24 14:11:15,284]\u001b[0m Trial 82 finished with value: 0.6120697806139347 and parameters: {'n_estimators': 874, 'max_depth': 21, 'num_leaves': 9, 'min_child_samples': 7, 'num_iterations': 618}. Best is trial 80 with value: 0.6175313058298373.\u001b[0m\n",
      "\u001b[32m[I 2023-08-24 14:11:16,192]\u001b[0m Trial 83 finished with value: 0.6070253439361641 and parameters: {'n_estimators': 860, 'max_depth': 23, 'num_leaves': 6, 'min_child_samples': 8, 'num_iterations': 581}. Best is trial 80 with value: 0.6175313058298373.\u001b[0m\n",
      "\u001b[32m[I 2023-08-24 14:11:17,289]\u001b[0m Trial 84 finished with value: 0.6109706281369076 and parameters: {'n_estimators': 839, 'max_depth': 25, 'num_leaves': 7, 'min_child_samples': 7, 'num_iterations': 641}. Best is trial 80 with value: 0.6175313058298373.\u001b[0m\n",
      "\u001b[32m[I 2023-08-24 14:11:17,905]\u001b[0m Trial 85 finished with value: 0.6040478613534311 and parameters: {'n_estimators': 900, 'max_depth': 24, 'num_leaves': 4, 'min_child_samples': 7, 'num_iterations': 542}. Best is trial 80 with value: 0.6175313058298373.\u001b[0m\n",
      "\u001b[32m[I 2023-08-24 14:11:19,020]\u001b[0m Trial 86 finished with value: 0.6015601301377973 and parameters: {'n_estimators': 927, 'max_depth': 21, 'num_leaves': 7, 'min_child_samples': 8, 'num_iterations': 623}. Best is trial 80 with value: 0.6175313058298373.\u001b[0m\n",
      "\u001b[32m[I 2023-08-24 14:11:20,384]\u001b[0m Trial 87 finished with value: 0.6051403004723088 and parameters: {'n_estimators': 865, 'max_depth': 19, 'num_leaves': 10, 'min_child_samples': 7, 'num_iterations': 599}. Best is trial 80 with value: 0.6175313058298373.\u001b[0m\n",
      "\u001b[32m[I 2023-08-24 14:11:20,758]\u001b[0m Trial 88 finished with value: 0.49448517686395543 and parameters: {'n_estimators': 818, 'max_depth': 29, 'num_leaves': 2, 'min_child_samples': 6, 'num_iterations': 571}. Best is trial 80 with value: 0.6175313058298373.\u001b[0m\n",
      "\u001b[32m[I 2023-08-24 14:11:22,082]\u001b[0m Trial 89 finished with value: 0.6063457388784054 and parameters: {'n_estimators': 846, 'max_depth': 27, 'num_leaves': 8, 'min_child_samples': 7, 'num_iterations': 677}. Best is trial 80 with value: 0.6175313058298373.\u001b[0m\n",
      "\u001b[32m[I 2023-08-24 14:11:23,386]\u001b[0m Trial 90 finished with value: 0.6020654130380066 and parameters: {'n_estimators': 945, 'max_depth': 30, 'num_leaves': 9, 'min_child_samples': 8, 'num_iterations': 640}. Best is trial 80 with value: 0.6175313058298373.\u001b[0m\n",
      "\u001b[32m[I 2023-08-24 14:11:24,480]\u001b[0m Trial 91 finished with value: 0.6144275823501695 and parameters: {'n_estimators': 870, 'max_depth': 22, 'num_leaves': 6, 'min_child_samples': 5, 'num_iterations': 691}. Best is trial 80 with value: 0.6175313058298373.\u001b[0m\n",
      "\u001b[32m[I 2023-08-24 14:11:25,439]\u001b[0m Trial 92 finished with value: 0.6045421496052137 and parameters: {'n_estimators': 882, 'max_depth': 23, 'num_leaves': 6, 'min_child_samples': 6, 'num_iterations': 607}. Best is trial 80 with value: 0.6175313058298373.\u001b[0m\n",
      "\u001b[32m[I 2023-08-24 14:11:26,365]\u001b[0m Trial 93 finished with value: 0.6112639122789942 and parameters: {'n_estimators': 832, 'max_depth': 21, 'num_leaves': 5, 'min_child_samples': 7, 'num_iterations': 708}. Best is trial 80 with value: 0.6175313058298373.\u001b[0m\n",
      "\u001b[32m[I 2023-08-24 14:11:26,930]\u001b[0m Trial 94 finished with value: 0.5668166197948972 and parameters: {'n_estimators': 621, 'max_depth': 17, 'num_leaves': 3, 'min_child_samples': 5, 'num_iterations': 648}. Best is trial 80 with value: 0.6175313058298373.\u001b[0m\n",
      "\u001b[32m[I 2023-08-24 14:11:28,259]\u001b[0m Trial 95 finished with value: 0.6150329568208516 and parameters: {'n_estimators': 919, 'max_depth': 26, 'num_leaves': 7, 'min_child_samples': 6, 'num_iterations': 728}. Best is trial 80 with value: 0.6175313058298373.\u001b[0m\n",
      "\u001b[32m[I 2023-08-24 14:11:29,549]\u001b[0m Trial 96 finished with value: 0.6149030459535989 and parameters: {'n_estimators': 964, 'max_depth': 25, 'num_leaves': 7, 'min_child_samples': 6, 'num_iterations': 732}. Best is trial 80 with value: 0.6175313058298373.\u001b[0m\n",
      "\u001b[32m[I 2023-08-24 14:11:30,269]\u001b[0m Trial 97 finished with value: 0.6059886499191035 and parameters: {'n_estimators': 919, 'max_depth': 26, 'num_leaves': 4, 'min_child_samples': 7, 'num_iterations': 624}. Best is trial 80 with value: 0.6175313058298373.\u001b[0m\n",
      "\u001b[32m[I 2023-08-24 14:11:34,449]\u001b[0m Trial 98 finished with value: 0.5927704534503764 and parameters: {'n_estimators': 856, 'max_depth': 28, 'num_leaves': 29, 'min_child_samples': 6, 'num_iterations': 672}. Best is trial 80 with value: 0.6175313058298373.\u001b[0m\n",
      "\u001b[32m[I 2023-08-24 14:11:35,503]\u001b[0m Trial 99 finished with value: 0.6101322627224689 and parameters: {'n_estimators': 900, 'max_depth': 27, 'num_leaves': 8, 'min_child_samples': 6, 'num_iterations': 554}. Best is trial 80 with value: 0.6175313058298373.\u001b[0m\n"
     ]
    },
    {
     "name": "stdout",
     "output_type": "stream",
     "text": [
      "Best r2:  0.6175313058298373\n",
      "Best trial: {'n_estimators': 858, 'max_depth': 23, 'num_leaves': 6, 'min_child_samples': 7, 'num_iterations': 614}\n"
     ]
    }
   ],
   "source": [
    "sampler = TPESampler()\n",
    "study = optuna.create_study(\n",
    "    study_name=\"lgbm_parameter_opt\",\n",
    "    direction=\"maximize\",\n",
    "    sampler=sampler,\n",
    ")\n",
    "\n",
    "study.optimize(lambda trial : objectiveLGBM(trial, Cd_X_train, Cd_y_train), n_trials=100)\n",
    "print(\"Best r2: \", study.best_value)\n",
    "print(\"Best trial:\", study.best_trial.params)"
   ]
  },
  {
   "cell_type": "code",
   "execution_count": 49,
   "id": "861f88d8",
   "metadata": {},
   "outputs": [
    {
     "data": {
      "application/vnd.plotly.v1+json": {
       "config": {
        "plotlyServerURL": "https://plot.ly"
       },
       "data": [
        {
         "dimensions": [
          {
           "label": "Objective Value",
           "range": [
            0.49448517686395543,
            0.6175313058298373
           ],
           "values": [
            0.6000793765919229,
            0.6055882108673565,
            0.6033846916996287,
            0.5916123949115615,
            0.5742686898589427,
            0.4992160038463019,
            0.5751370543481445,
            0.5873752677147069,
            0.6061207942173475,
            0.5969922235286764,
            0.5869285001751722,
            0.5962391313170612,
            0.6094512121226422,
            0.6109284716805833,
            0.5977478698393022,
            0.4979863455800958,
            0.604930281561113,
            0.6070041775465805,
            0.6033367958937494,
            0.6077845618699664,
            0.6045501301674795,
            0.6145677608754195,
            0.4990346285796857,
            0.6094636276888142,
            0.6093847763545339,
            0.6069906043763339,
            0.603292860939038,
            0.6021420335147617,
            0.602138660949159,
            0.6025721838255201,
            0.6082812283950292,
            0.6082072761141074,
            0.6045254101847564,
            0.6024512171336633,
            0.6033702892173616,
            0.5937480817470633,
            0.6106233349890238,
            0.5983823263728512,
            0.5431697989560089,
            0.6009937928374793,
            0.6169411365218208,
            0.5994394391750897,
            0.6110685062024332,
            0.6131759831860665,
            0.6165686223057837,
            0.616821947249943,
            0.5743842875834553,
            0.6033698985573588,
            0.5940238262857686,
            0.6029205733562757,
            0.6051980385253861,
            0.6110743616662285,
            0.6089302028239623,
            0.6065951488883193,
            0.6041944430412756,
            0.5994771789089018,
            0.611036333006938,
            0.567972977302653,
            0.6162578582844971,
            0.500922076776375,
            0.5995349547320121,
            0.6164660952228889,
            0.6133014598533866,
            0.6135525273635377,
            0.6171526461648668,
            0.594449622509553,
            0.6058939753804173,
            0.6072757334068525,
            0.5993883520457641,
            0.5990444546170614,
            0.6129220024536988,
            0.6135525273635377,
            0.5841542525755039,
            0.5765113441750274,
            0.6059763817520546,
            0.6065290289021086,
            0.6072611444567169,
            0.6087382745009589,
            0.6173259052780505,
            0.5963757976405407,
            0.6175313058298373,
            0.6175158543907429,
            0.6120697806139347,
            0.6070253439361641,
            0.6109706281369076,
            0.6040478613534311,
            0.6015601301377973,
            0.6051403004723088,
            0.49448517686395543,
            0.6063457388784054,
            0.6020654130380066,
            0.6144275823501695,
            0.6045421496052137,
            0.6112639122789942,
            0.5668166197948972,
            0.6150329568208516,
            0.6149030459535989,
            0.6059886499191035,
            0.5927704534503764,
            0.6101322627224689
           ]
          },
          {
           "label": "max_depth",
           "range": [
            1,
            30
           ],
           "values": [
            27,
            20,
            29,
            25,
            5,
            1,
            27,
            29,
            23,
            27,
            12,
            19,
            19,
            12,
            12,
            15,
            10,
            18,
            7,
            17,
            14,
            22,
            21,
            22,
            23,
            22,
            16,
            8,
            25,
            13,
            3,
            18,
            20,
            25,
            20,
            10,
            24,
            24,
            26,
            29,
            30,
            28,
            23,
            30,
            30,
            30,
            30,
            30,
            28,
            27,
            30,
            28,
            28,
            27,
            29,
            26,
            29,
            30,
            28,
            26,
            30,
            28,
            28,
            28,
            26,
            26,
            27,
            25,
            24,
            29,
            22,
            27,
            26,
            27,
            29,
            28,
            29,
            24,
            25,
            25,
            23,
            21,
            21,
            23,
            25,
            24,
            21,
            19,
            29,
            27,
            30,
            22,
            23,
            21,
            17,
            26,
            25,
            26,
            28,
            27
           ]
          },
          {
           "label": "min_child_samples",
           "range": [
            1,
            10
           ],
           "values": [
            6,
            2,
            9,
            6,
            10,
            4,
            10,
            8,
            2,
            3,
            1,
            1,
            3,
            4,
            4,
            4,
            5,
            7,
            3,
            5,
            3,
            5,
            5,
            7,
            7,
            7,
            8,
            6,
            8,
            6,
            5,
            4,
            2,
            3,
            4,
            6,
            2,
            2,
            1,
            9,
            7,
            9,
            7,
            6,
            6,
            6,
            6,
            6,
            5,
            8,
            6,
            7,
            7,
            8,
            5,
            6,
            7,
            6,
            7,
            5,
            8,
            7,
            7,
            7,
            7,
            9,
            8,
            7,
            8,
            6,
            7,
            7,
            7,
            6,
            8,
            5,
            7,
            6,
            7,
            6,
            7,
            7,
            7,
            8,
            7,
            7,
            8,
            7,
            6,
            7,
            8,
            5,
            6,
            7,
            5,
            6,
            6,
            7,
            6,
            6
           ]
          },
          {
           "label": "n_estimators",
           "range": [
            503,
            997
           ],
           "values": [
            916,
            968,
            851,
            855,
            584,
            856,
            608,
            893,
            621,
            968,
            707,
            726,
            524,
            509,
            515,
            519,
            666,
            559,
            790,
            653,
            503,
            665,
            552,
            783,
            777,
            801,
            690,
            758,
            733,
            824,
            640,
            585,
            543,
            681,
            582,
            536,
            930,
            938,
            892,
            988,
            830,
            827,
            898,
            895,
            879,
            889,
            857,
            867,
            890,
            960,
            825,
            913,
            911,
            876,
            839,
            927,
            949,
            910,
            997,
            996,
            975,
            879,
            876,
            805,
            806,
            752,
            848,
            769,
            728,
            811,
            790,
            800,
            853,
            712,
            767,
            838,
            810,
            740,
            871,
            884,
            858,
            869,
            874,
            860,
            839,
            900,
            927,
            865,
            818,
            846,
            945,
            870,
            882,
            832,
            621,
            919,
            964,
            919,
            856,
            900
           ]
          },
          {
           "label": "num_iterations",
           "range": [
            506,
            990
           ],
           "values": [
            835,
            843,
            587,
            801,
            988,
            677,
            811,
            939,
            742,
            663,
            525,
            887,
            724,
            716,
            711,
            639,
            760,
            562,
            624,
            732,
            777,
            701,
            687,
            610,
            613,
            506,
            569,
            653,
            691,
            599,
            561,
            726,
            843,
            773,
            709,
            796,
            639,
            648,
            592,
            683,
            632,
            631,
            663,
            662,
            678,
            668,
            698,
            667,
            672,
            751,
            990,
            660,
            871,
            701,
            631,
            581,
            656,
            533,
            741,
            740,
            809,
            716,
            759,
            769,
            785,
            788,
            721,
            735,
            820,
            937,
            713,
            769,
            783,
            743,
            682,
            828,
            756,
            699,
            613,
            605,
            614,
            620,
            618,
            581,
            641,
            542,
            623,
            599,
            571,
            677,
            640,
            691,
            607,
            708,
            648,
            728,
            732,
            624,
            672,
            554
           ]
          },
          {
           "label": "num_leaves",
           "range": [
            2,
            32
           ],
           "values": [
            11,
            23,
            10,
            26,
            23,
            18,
            28,
            31,
            17,
            31,
            5,
            20,
            13,
            13,
            11,
            2,
            14,
            8,
            15,
            7,
            14,
            6,
            2,
            5,
            5,
            5,
            8,
            4,
            9,
            11,
            7,
            12,
            13,
            19,
            16,
            22,
            9,
            10,
            3,
            10,
            6,
            6,
            7,
            9,
            7,
            7,
            3,
            6,
            27,
            4,
            8,
            7,
            9,
            6,
            11,
            4,
            7,
            3,
            6,
            2,
            8,
            6,
            5,
            5,
            6,
            6,
            10,
            4,
            8,
            6,
            12,
            5,
            32,
            3,
            5,
            7,
            4,
            8,
            6,
            24,
            6,
            6,
            9,
            6,
            7,
            4,
            7,
            10,
            2,
            8,
            9,
            6,
            6,
            5,
            3,
            7,
            7,
            4,
            29,
            8
           ]
          }
         ],
         "labelangle": 30,
         "labelside": "bottom",
         "line": {
          "color": [
           0.6000793765919229,
           0.6055882108673565,
           0.6033846916996287,
           0.5916123949115615,
           0.5742686898589427,
           0.4992160038463019,
           0.5751370543481445,
           0.5873752677147069,
           0.6061207942173475,
           0.5969922235286764,
           0.5869285001751722,
           0.5962391313170612,
           0.6094512121226422,
           0.6109284716805833,
           0.5977478698393022,
           0.4979863455800958,
           0.604930281561113,
           0.6070041775465805,
           0.6033367958937494,
           0.6077845618699664,
           0.6045501301674795,
           0.6145677608754195,
           0.4990346285796857,
           0.6094636276888142,
           0.6093847763545339,
           0.6069906043763339,
           0.603292860939038,
           0.6021420335147617,
           0.602138660949159,
           0.6025721838255201,
           0.6082812283950292,
           0.6082072761141074,
           0.6045254101847564,
           0.6024512171336633,
           0.6033702892173616,
           0.5937480817470633,
           0.6106233349890238,
           0.5983823263728512,
           0.5431697989560089,
           0.6009937928374793,
           0.6169411365218208,
           0.5994394391750897,
           0.6110685062024332,
           0.6131759831860665,
           0.6165686223057837,
           0.616821947249943,
           0.5743842875834553,
           0.6033698985573588,
           0.5940238262857686,
           0.6029205733562757,
           0.6051980385253861,
           0.6110743616662285,
           0.6089302028239623,
           0.6065951488883193,
           0.6041944430412756,
           0.5994771789089018,
           0.611036333006938,
           0.567972977302653,
           0.6162578582844971,
           0.500922076776375,
           0.5995349547320121,
           0.6164660952228889,
           0.6133014598533866,
           0.6135525273635377,
           0.6171526461648668,
           0.594449622509553,
           0.6058939753804173,
           0.6072757334068525,
           0.5993883520457641,
           0.5990444546170614,
           0.6129220024536988,
           0.6135525273635377,
           0.5841542525755039,
           0.5765113441750274,
           0.6059763817520546,
           0.6065290289021086,
           0.6072611444567169,
           0.6087382745009589,
           0.6173259052780505,
           0.5963757976405407,
           0.6175313058298373,
           0.6175158543907429,
           0.6120697806139347,
           0.6070253439361641,
           0.6109706281369076,
           0.6040478613534311,
           0.6015601301377973,
           0.6051403004723088,
           0.49448517686395543,
           0.6063457388784054,
           0.6020654130380066,
           0.6144275823501695,
           0.6045421496052137,
           0.6112639122789942,
           0.5668166197948972,
           0.6150329568208516,
           0.6149030459535989,
           0.6059886499191035,
           0.5927704534503764,
           0.6101322627224689
          ],
          "colorbar": {
           "title": {
            "text": "Objective Value"
           }
          },
          "colorscale": [
           [
            0,
            "rgb(247,251,255)"
           ],
           [
            0.125,
            "rgb(222,235,247)"
           ],
           [
            0.25,
            "rgb(198,219,239)"
           ],
           [
            0.375,
            "rgb(158,202,225)"
           ],
           [
            0.5,
            "rgb(107,174,214)"
           ],
           [
            0.625,
            "rgb(66,146,198)"
           ],
           [
            0.75,
            "rgb(33,113,181)"
           ],
           [
            0.875,
            "rgb(8,81,156)"
           ],
           [
            1,
            "rgb(8,48,107)"
           ]
          ],
          "reversescale": false,
          "showscale": true
         },
         "type": "parcoords"
        }
       ],
       "layout": {
        "template": {
         "data": {
          "bar": [
           {
            "error_x": {
             "color": "#2a3f5f"
            },
            "error_y": {
             "color": "#2a3f5f"
            },
            "marker": {
             "line": {
              "color": "#E5ECF6",
              "width": 0.5
             },
             "pattern": {
              "fillmode": "overlay",
              "size": 10,
              "solidity": 0.2
             }
            },
            "type": "bar"
           }
          ],
          "barpolar": [
           {
            "marker": {
             "line": {
              "color": "#E5ECF6",
              "width": 0.5
             },
             "pattern": {
              "fillmode": "overlay",
              "size": 10,
              "solidity": 0.2
             }
            },
            "type": "barpolar"
           }
          ],
          "carpet": [
           {
            "aaxis": {
             "endlinecolor": "#2a3f5f",
             "gridcolor": "white",
             "linecolor": "white",
             "minorgridcolor": "white",
             "startlinecolor": "#2a3f5f"
            },
            "baxis": {
             "endlinecolor": "#2a3f5f",
             "gridcolor": "white",
             "linecolor": "white",
             "minorgridcolor": "white",
             "startlinecolor": "#2a3f5f"
            },
            "type": "carpet"
           }
          ],
          "choropleth": [
           {
            "colorbar": {
             "outlinewidth": 0,
             "ticks": ""
            },
            "type": "choropleth"
           }
          ],
          "contour": [
           {
            "colorbar": {
             "outlinewidth": 0,
             "ticks": ""
            },
            "colorscale": [
             [
              0,
              "#0d0887"
             ],
             [
              0.1111111111111111,
              "#46039f"
             ],
             [
              0.2222222222222222,
              "#7201a8"
             ],
             [
              0.3333333333333333,
              "#9c179e"
             ],
             [
              0.4444444444444444,
              "#bd3786"
             ],
             [
              0.5555555555555556,
              "#d8576b"
             ],
             [
              0.6666666666666666,
              "#ed7953"
             ],
             [
              0.7777777777777778,
              "#fb9f3a"
             ],
             [
              0.8888888888888888,
              "#fdca26"
             ],
             [
              1,
              "#f0f921"
             ]
            ],
            "type": "contour"
           }
          ],
          "contourcarpet": [
           {
            "colorbar": {
             "outlinewidth": 0,
             "ticks": ""
            },
            "type": "contourcarpet"
           }
          ],
          "heatmap": [
           {
            "colorbar": {
             "outlinewidth": 0,
             "ticks": ""
            },
            "colorscale": [
             [
              0,
              "#0d0887"
             ],
             [
              0.1111111111111111,
              "#46039f"
             ],
             [
              0.2222222222222222,
              "#7201a8"
             ],
             [
              0.3333333333333333,
              "#9c179e"
             ],
             [
              0.4444444444444444,
              "#bd3786"
             ],
             [
              0.5555555555555556,
              "#d8576b"
             ],
             [
              0.6666666666666666,
              "#ed7953"
             ],
             [
              0.7777777777777778,
              "#fb9f3a"
             ],
             [
              0.8888888888888888,
              "#fdca26"
             ],
             [
              1,
              "#f0f921"
             ]
            ],
            "type": "heatmap"
           }
          ],
          "heatmapgl": [
           {
            "colorbar": {
             "outlinewidth": 0,
             "ticks": ""
            },
            "colorscale": [
             [
              0,
              "#0d0887"
             ],
             [
              0.1111111111111111,
              "#46039f"
             ],
             [
              0.2222222222222222,
              "#7201a8"
             ],
             [
              0.3333333333333333,
              "#9c179e"
             ],
             [
              0.4444444444444444,
              "#bd3786"
             ],
             [
              0.5555555555555556,
              "#d8576b"
             ],
             [
              0.6666666666666666,
              "#ed7953"
             ],
             [
              0.7777777777777778,
              "#fb9f3a"
             ],
             [
              0.8888888888888888,
              "#fdca26"
             ],
             [
              1,
              "#f0f921"
             ]
            ],
            "type": "heatmapgl"
           }
          ],
          "histogram": [
           {
            "marker": {
             "pattern": {
              "fillmode": "overlay",
              "size": 10,
              "solidity": 0.2
             }
            },
            "type": "histogram"
           }
          ],
          "histogram2d": [
           {
            "colorbar": {
             "outlinewidth": 0,
             "ticks": ""
            },
            "colorscale": [
             [
              0,
              "#0d0887"
             ],
             [
              0.1111111111111111,
              "#46039f"
             ],
             [
              0.2222222222222222,
              "#7201a8"
             ],
             [
              0.3333333333333333,
              "#9c179e"
             ],
             [
              0.4444444444444444,
              "#bd3786"
             ],
             [
              0.5555555555555556,
              "#d8576b"
             ],
             [
              0.6666666666666666,
              "#ed7953"
             ],
             [
              0.7777777777777778,
              "#fb9f3a"
             ],
             [
              0.8888888888888888,
              "#fdca26"
             ],
             [
              1,
              "#f0f921"
             ]
            ],
            "type": "histogram2d"
           }
          ],
          "histogram2dcontour": [
           {
            "colorbar": {
             "outlinewidth": 0,
             "ticks": ""
            },
            "colorscale": [
             [
              0,
              "#0d0887"
             ],
             [
              0.1111111111111111,
              "#46039f"
             ],
             [
              0.2222222222222222,
              "#7201a8"
             ],
             [
              0.3333333333333333,
              "#9c179e"
             ],
             [
              0.4444444444444444,
              "#bd3786"
             ],
             [
              0.5555555555555556,
              "#d8576b"
             ],
             [
              0.6666666666666666,
              "#ed7953"
             ],
             [
              0.7777777777777778,
              "#fb9f3a"
             ],
             [
              0.8888888888888888,
              "#fdca26"
             ],
             [
              1,
              "#f0f921"
             ]
            ],
            "type": "histogram2dcontour"
           }
          ],
          "mesh3d": [
           {
            "colorbar": {
             "outlinewidth": 0,
             "ticks": ""
            },
            "type": "mesh3d"
           }
          ],
          "parcoords": [
           {
            "line": {
             "colorbar": {
              "outlinewidth": 0,
              "ticks": ""
             }
            },
            "type": "parcoords"
           }
          ],
          "pie": [
           {
            "automargin": true,
            "type": "pie"
           }
          ],
          "scatter": [
           {
            "marker": {
             "colorbar": {
              "outlinewidth": 0,
              "ticks": ""
             }
            },
            "type": "scatter"
           }
          ],
          "scatter3d": [
           {
            "line": {
             "colorbar": {
              "outlinewidth": 0,
              "ticks": ""
             }
            },
            "marker": {
             "colorbar": {
              "outlinewidth": 0,
              "ticks": ""
             }
            },
            "type": "scatter3d"
           }
          ],
          "scattercarpet": [
           {
            "marker": {
             "colorbar": {
              "outlinewidth": 0,
              "ticks": ""
             }
            },
            "type": "scattercarpet"
           }
          ],
          "scattergeo": [
           {
            "marker": {
             "colorbar": {
              "outlinewidth": 0,
              "ticks": ""
             }
            },
            "type": "scattergeo"
           }
          ],
          "scattergl": [
           {
            "marker": {
             "colorbar": {
              "outlinewidth": 0,
              "ticks": ""
             }
            },
            "type": "scattergl"
           }
          ],
          "scattermapbox": [
           {
            "marker": {
             "colorbar": {
              "outlinewidth": 0,
              "ticks": ""
             }
            },
            "type": "scattermapbox"
           }
          ],
          "scatterpolar": [
           {
            "marker": {
             "colorbar": {
              "outlinewidth": 0,
              "ticks": ""
             }
            },
            "type": "scatterpolar"
           }
          ],
          "scatterpolargl": [
           {
            "marker": {
             "colorbar": {
              "outlinewidth": 0,
              "ticks": ""
             }
            },
            "type": "scatterpolargl"
           }
          ],
          "scatterternary": [
           {
            "marker": {
             "colorbar": {
              "outlinewidth": 0,
              "ticks": ""
             }
            },
            "type": "scatterternary"
           }
          ],
          "surface": [
           {
            "colorbar": {
             "outlinewidth": 0,
             "ticks": ""
            },
            "colorscale": [
             [
              0,
              "#0d0887"
             ],
             [
              0.1111111111111111,
              "#46039f"
             ],
             [
              0.2222222222222222,
              "#7201a8"
             ],
             [
              0.3333333333333333,
              "#9c179e"
             ],
             [
              0.4444444444444444,
              "#bd3786"
             ],
             [
              0.5555555555555556,
              "#d8576b"
             ],
             [
              0.6666666666666666,
              "#ed7953"
             ],
             [
              0.7777777777777778,
              "#fb9f3a"
             ],
             [
              0.8888888888888888,
              "#fdca26"
             ],
             [
              1,
              "#f0f921"
             ]
            ],
            "type": "surface"
           }
          ],
          "table": [
           {
            "cells": {
             "fill": {
              "color": "#EBF0F8"
             },
             "line": {
              "color": "white"
             }
            },
            "header": {
             "fill": {
              "color": "#C8D4E3"
             },
             "line": {
              "color": "white"
             }
            },
            "type": "table"
           }
          ]
         },
         "layout": {
          "annotationdefaults": {
           "arrowcolor": "#2a3f5f",
           "arrowhead": 0,
           "arrowwidth": 1
          },
          "autotypenumbers": "strict",
          "coloraxis": {
           "colorbar": {
            "outlinewidth": 0,
            "ticks": ""
           }
          },
          "colorscale": {
           "diverging": [
            [
             0,
             "#8e0152"
            ],
            [
             0.1,
             "#c51b7d"
            ],
            [
             0.2,
             "#de77ae"
            ],
            [
             0.3,
             "#f1b6da"
            ],
            [
             0.4,
             "#fde0ef"
            ],
            [
             0.5,
             "#f7f7f7"
            ],
            [
             0.6,
             "#e6f5d0"
            ],
            [
             0.7,
             "#b8e186"
            ],
            [
             0.8,
             "#7fbc41"
            ],
            [
             0.9,
             "#4d9221"
            ],
            [
             1,
             "#276419"
            ]
           ],
           "sequential": [
            [
             0,
             "#0d0887"
            ],
            [
             0.1111111111111111,
             "#46039f"
            ],
            [
             0.2222222222222222,
             "#7201a8"
            ],
            [
             0.3333333333333333,
             "#9c179e"
            ],
            [
             0.4444444444444444,
             "#bd3786"
            ],
            [
             0.5555555555555556,
             "#d8576b"
            ],
            [
             0.6666666666666666,
             "#ed7953"
            ],
            [
             0.7777777777777778,
             "#fb9f3a"
            ],
            [
             0.8888888888888888,
             "#fdca26"
            ],
            [
             1,
             "#f0f921"
            ]
           ],
           "sequentialminus": [
            [
             0,
             "#0d0887"
            ],
            [
             0.1111111111111111,
             "#46039f"
            ],
            [
             0.2222222222222222,
             "#7201a8"
            ],
            [
             0.3333333333333333,
             "#9c179e"
            ],
            [
             0.4444444444444444,
             "#bd3786"
            ],
            [
             0.5555555555555556,
             "#d8576b"
            ],
            [
             0.6666666666666666,
             "#ed7953"
            ],
            [
             0.7777777777777778,
             "#fb9f3a"
            ],
            [
             0.8888888888888888,
             "#fdca26"
            ],
            [
             1,
             "#f0f921"
            ]
           ]
          },
          "colorway": [
           "#636efa",
           "#EF553B",
           "#00cc96",
           "#ab63fa",
           "#FFA15A",
           "#19d3f3",
           "#FF6692",
           "#B6E880",
           "#FF97FF",
           "#FECB52"
          ],
          "font": {
           "color": "#2a3f5f"
          },
          "geo": {
           "bgcolor": "white",
           "lakecolor": "white",
           "landcolor": "#E5ECF6",
           "showlakes": true,
           "showland": true,
           "subunitcolor": "white"
          },
          "hoverlabel": {
           "align": "left"
          },
          "hovermode": "closest",
          "mapbox": {
           "style": "light"
          },
          "paper_bgcolor": "white",
          "plot_bgcolor": "#E5ECF6",
          "polar": {
           "angularaxis": {
            "gridcolor": "white",
            "linecolor": "white",
            "ticks": ""
           },
           "bgcolor": "#E5ECF6",
           "radialaxis": {
            "gridcolor": "white",
            "linecolor": "white",
            "ticks": ""
           }
          },
          "scene": {
           "xaxis": {
            "backgroundcolor": "#E5ECF6",
            "gridcolor": "white",
            "gridwidth": 2,
            "linecolor": "white",
            "showbackground": true,
            "ticks": "",
            "zerolinecolor": "white"
           },
           "yaxis": {
            "backgroundcolor": "#E5ECF6",
            "gridcolor": "white",
            "gridwidth": 2,
            "linecolor": "white",
            "showbackground": true,
            "ticks": "",
            "zerolinecolor": "white"
           },
           "zaxis": {
            "backgroundcolor": "#E5ECF6",
            "gridcolor": "white",
            "gridwidth": 2,
            "linecolor": "white",
            "showbackground": true,
            "ticks": "",
            "zerolinecolor": "white"
           }
          },
          "shapedefaults": {
           "line": {
            "color": "#2a3f5f"
           }
          },
          "ternary": {
           "aaxis": {
            "gridcolor": "white",
            "linecolor": "white",
            "ticks": ""
           },
           "baxis": {
            "gridcolor": "white",
            "linecolor": "white",
            "ticks": ""
           },
           "bgcolor": "#E5ECF6",
           "caxis": {
            "gridcolor": "white",
            "linecolor": "white",
            "ticks": ""
           }
          },
          "title": {
           "x": 0.05
          },
          "xaxis": {
           "automargin": true,
           "gridcolor": "white",
           "linecolor": "white",
           "ticks": "",
           "title": {
            "standoff": 15
           },
           "zerolinecolor": "white",
           "zerolinewidth": 2
          },
          "yaxis": {
           "automargin": true,
           "gridcolor": "white",
           "linecolor": "white",
           "ticks": "",
           "title": {
            "standoff": 15
           },
           "zerolinecolor": "white",
           "zerolinewidth": 2
          }
         }
        },
        "title": {
         "text": "Parallel Coordinate Plot"
        }
       }
      }
     },
     "metadata": {},
     "output_type": "display_data"
    }
   ],
   "source": [
    "optuna.visualization.plot_parallel_coordinate(study)"
   ]
  },
  {
   "cell_type": "code",
   "execution_count": 50,
   "id": "4afa60aa",
   "metadata": {},
   "outputs": [
    {
     "name": "stdout",
     "output_type": "stream",
     "text": [
      "Best trial: {'n_estimators': 858, 'max_depth': 23, 'num_leaves': 6, 'min_child_samples': 7, 'num_iterations': 614}\n"
     ]
    },
    {
     "data": {
      "text/plain": [
       "858"
      ]
     },
     "execution_count": 50,
     "metadata": {},
     "output_type": "execute_result"
    }
   ],
   "source": [
    "print(\"Best trial:\", study.best_trial.params)\n",
    "study.best_trial.params[\"n_estimators\"]"
   ]
  },
  {
   "cell_type": "code",
   "execution_count": 51,
   "id": "3b45adad",
   "metadata": {},
   "outputs": [
    {
     "data": {
      "text/html": [
       "<style>#sk-container-id-2 {color: black;}#sk-container-id-2 pre{padding: 0;}#sk-container-id-2 div.sk-toggleable {background-color: white;}#sk-container-id-2 label.sk-toggleable__label {cursor: pointer;display: block;width: 100%;margin-bottom: 0;padding: 0.3em;box-sizing: border-box;text-align: center;}#sk-container-id-2 label.sk-toggleable__label-arrow:before {content: \"▸\";float: left;margin-right: 0.25em;color: #696969;}#sk-container-id-2 label.sk-toggleable__label-arrow:hover:before {color: black;}#sk-container-id-2 div.sk-estimator:hover label.sk-toggleable__label-arrow:before {color: black;}#sk-container-id-2 div.sk-toggleable__content {max-height: 0;max-width: 0;overflow: hidden;text-align: left;background-color: #f0f8ff;}#sk-container-id-2 div.sk-toggleable__content pre {margin: 0.2em;color: black;border-radius: 0.25em;background-color: #f0f8ff;}#sk-container-id-2 input.sk-toggleable__control:checked~div.sk-toggleable__content {max-height: 200px;max-width: 100%;overflow: auto;}#sk-container-id-2 input.sk-toggleable__control:checked~label.sk-toggleable__label-arrow:before {content: \"▾\";}#sk-container-id-2 div.sk-estimator input.sk-toggleable__control:checked~label.sk-toggleable__label {background-color: #d4ebff;}#sk-container-id-2 div.sk-label input.sk-toggleable__control:checked~label.sk-toggleable__label {background-color: #d4ebff;}#sk-container-id-2 input.sk-hidden--visually {border: 0;clip: rect(1px 1px 1px 1px);clip: rect(1px, 1px, 1px, 1px);height: 1px;margin: -1px;overflow: hidden;padding: 0;position: absolute;width: 1px;}#sk-container-id-2 div.sk-estimator {font-family: monospace;background-color: #f0f8ff;border: 1px dotted black;border-radius: 0.25em;box-sizing: border-box;margin-bottom: 0.5em;}#sk-container-id-2 div.sk-estimator:hover {background-color: #d4ebff;}#sk-container-id-2 div.sk-parallel-item::after {content: \"\";width: 100%;border-bottom: 1px solid gray;flex-grow: 1;}#sk-container-id-2 div.sk-label:hover label.sk-toggleable__label {background-color: #d4ebff;}#sk-container-id-2 div.sk-serial::before {content: \"\";position: absolute;border-left: 1px solid gray;box-sizing: border-box;top: 0;bottom: 0;left: 50%;z-index: 0;}#sk-container-id-2 div.sk-serial {display: flex;flex-direction: column;align-items: center;background-color: white;padding-right: 0.2em;padding-left: 0.2em;position: relative;}#sk-container-id-2 div.sk-item {position: relative;z-index: 1;}#sk-container-id-2 div.sk-parallel {display: flex;align-items: stretch;justify-content: center;background-color: white;position: relative;}#sk-container-id-2 div.sk-item::before, #sk-container-id-2 div.sk-parallel-item::before {content: \"\";position: absolute;border-left: 1px solid gray;box-sizing: border-box;top: 0;bottom: 0;left: 50%;z-index: -1;}#sk-container-id-2 div.sk-parallel-item {display: flex;flex-direction: column;z-index: 1;position: relative;background-color: white;}#sk-container-id-2 div.sk-parallel-item:first-child::after {align-self: flex-end;width: 50%;}#sk-container-id-2 div.sk-parallel-item:last-child::after {align-self: flex-start;width: 50%;}#sk-container-id-2 div.sk-parallel-item:only-child::after {width: 0;}#sk-container-id-2 div.sk-dashed-wrapped {border: 1px dashed gray;margin: 0 0.4em 0.5em 0.4em;box-sizing: border-box;padding-bottom: 0.4em;background-color: white;}#sk-container-id-2 div.sk-label label {font-family: monospace;font-weight: bold;display: inline-block;line-height: 1.2em;}#sk-container-id-2 div.sk-label-container {text-align: center;}#sk-container-id-2 div.sk-container {/* jupyter's `normalize.less` sets `[hidden] { display: none; }` but bootstrap.min.css set `[hidden] { display: none !important; }` so we also need the `!important` here to be able to override the default hidden behavior on the sphinx rendered scikit-learn.org. See: https://github.com/scikit-learn/scikit-learn/issues/21755 */display: inline-block !important;position: relative;}#sk-container-id-2 div.sk-text-repr-fallback {display: none;}</style><div id=\"sk-container-id-2\" class=\"sk-top-container\"><div class=\"sk-text-repr-fallback\"><pre>LGBMRegressor(max_depth=23, min_child_samples=7, n_estimators=858,\n",
       "              num_iterations=614, num_leaves=6, random_state=42)</pre><b>In a Jupyter environment, please rerun this cell to show the HTML representation or trust the notebook. <br />On GitHub, the HTML representation is unable to render, please try loading this page with nbviewer.org.</b></div><div class=\"sk-container\" hidden><div class=\"sk-item\"><div class=\"sk-estimator sk-toggleable\"><input class=\"sk-toggleable__control sk-hidden--visually\" id=\"sk-estimator-id-2\" type=\"checkbox\" checked><label for=\"sk-estimator-id-2\" class=\"sk-toggleable__label sk-toggleable__label-arrow\">LGBMRegressor</label><div class=\"sk-toggleable__content\"><pre>LGBMRegressor(max_depth=23, min_child_samples=7, n_estimators=858,\n",
       "              num_iterations=614, num_leaves=6, random_state=42)</pre></div></div></div></div></div>"
      ],
      "text/plain": [
       "LGBMRegressor(max_depth=23, min_child_samples=7, n_estimators=858,\n",
       "              num_iterations=614, num_leaves=6, random_state=42)"
      ]
     },
     "execution_count": 51,
     "metadata": {},
     "output_type": "execute_result"
    }
   ],
   "source": [
    "lgbm_params = {\n",
    "    \"random_state\": 42,\n",
    "    \"learning_rate\": 0.1,\n",
    "    \"n_estimators\": study.best_trial.params[\"n_estimators\"],\n",
    "    \"max_depth\": study.best_trial.params[\"max_depth\"],\n",
    "    \"num_leaves\": study.best_trial.params[\"num_leaves\"],\n",
    "    \"min_child_samples\": study.best_trial.params[\"min_child_samples\"],\n",
    "    \"num_iterations\": study.best_trial.params[\"num_iterations\"]\n",
    "}\n",
    "\n",
    "lgbm = LGBMRegressor(**lgbm_params)\n",
    "lgbm.fit(Cd_X_train, Cd_y_train)"
   ]
  },
  {
   "cell_type": "code",
   "execution_count": 52,
   "id": "9ab1055b",
   "metadata": {},
   "outputs": [],
   "source": [
    "y_train_pred = lgbm.predict(Cd_X_train)\n",
    "y_test_pred = lgbm.predict(Cd_X_test)"
   ]
  },
  {
   "cell_type": "code",
   "execution_count": 53,
   "id": "425b4001",
   "metadata": {},
   "outputs": [
    {
     "name": "stdout",
     "output_type": "stream",
     "text": [
      "Train RMSE:  0.020041057451875427\n",
      "Test RMSE:  0.08322912775070444\n"
     ]
    }
   ],
   "source": [
    "print(\"Train RMSE: \", np.sqrt(mean_squared_error(Cd_y_train, y_train_pred)))\n",
    "print(\"Test RMSE: \", np.sqrt(mean_squared_error(Cd_y_test, y_test_pred)))"
   ]
  },
  {
   "cell_type": "code",
   "execution_count": 54,
   "id": "0f95ae3c",
   "metadata": {},
   "outputs": [
    {
     "name": "stdout",
     "output_type": "stream",
     "text": [
      "Train R2:  0.9462320743871582\n",
      "Test R2:  0.0703991170584739\n"
     ]
    }
   ],
   "source": [
    "print(\"Train R2: \", r2_score(Cd_y_train, y_train_pred))\n",
    "print(\"Test R2: \", r2_score(Cd_y_test, y_test_pred))"
   ]
  },
  {
   "cell_type": "code",
   "execution_count": 55,
   "id": "d01dda76",
   "metadata": {},
   "outputs": [
    {
     "data": {
      "image/png": "[encoded data removed]",
      "text/plain": [
       "<Figure size 640x480 with 1 Axes>"
      ]
     },
     "metadata": {},
     "output_type": "display_data"
    }
   ],
   "source": [
    "plt.scatter(y_train_pred, np.array(Cd_y_train), color=\"orange\", alpha=0.3)\n",
    "plt.scatter(y_test_pred, np.array(Cd_y_test), color=\"green\", alpha=0.4)\n",
    "plt.axis(\"auto\") # scaled, tight, auto, image, square\n",
    "# plt.xlim([0, 1.5]) \n",
    "# plt.ylim(0, None) \n",
    "plt.xlabel('Predicted Values')\n",
    "plt.ylabel('Actual Values')\n",
    "\n",
    "# Add y=x line\n",
    "plt.plot([0, 4], [0, 4], color='red', linestyle='-')\n",
    "\n",
    "plt.show()"
   ]
  },
  {
   "attachments": {},
   "cell_type": "markdown",
   "id": "74f680ea",
   "metadata": {},
   "source": [
    "Ni"
   ]
  },
  {
   "cell_type": "code",
   "execution_count": 56,
   "id": "de233338",
   "metadata": {},
   "outputs": [
    {
     "name": "stderr",
     "output_type": "stream",
     "text": [
      "\u001b[32m[I 2023-08-24 14:11:36,105]\u001b[0m A new study created in memory with name: lgbm_parameter_opt\u001b[0m\n",
      "\u001b[32m[I 2023-08-24 14:11:39,288]\u001b[0m Trial 0 finished with value: 0.7947900713588125 and parameters: {'n_estimators': 542, 'max_depth': 22, 'num_leaves': 25, 'min_child_samples': 10, 'num_iterations': 579}. Best is trial 0 with value: 0.7947900713588125.\u001b[0m\n",
      "\u001b[32m[I 2023-08-24 14:11:42,554]\u001b[0m Trial 1 finished with value: 0.7887353824839647 and parameters: {'n_estimators': 546, 'max_depth': 15, 'num_leaves': 23, 'min_child_samples': 2, 'num_iterations': 592}. Best is trial 0 with value: 0.7947900713588125.\u001b[0m\n",
      "\u001b[32m[I 2023-08-24 14:11:42,923]\u001b[0m Trial 2 finished with value: 0.6852543686661827 and parameters: {'n_estimators': 776, 'max_depth': 1, 'num_leaves': 13, 'min_child_samples': 1, 'num_iterations': 573}. Best is trial 0 with value: 0.7947900713588125.\u001b[0m\n",
      "\u001b[32m[I 2023-08-24 14:11:46,924]\u001b[0m Trial 3 finished with value: 0.7978884283348332 and parameters: {'n_estimators': 617, 'max_depth': 28, 'num_leaves': 20, 'min_child_samples': 9, 'num_iterations': 890}. Best is trial 3 with value: 0.7978884283348332.\u001b[0m\n",
      "\u001b[32m[I 2023-08-24 14:11:49,596]\u001b[0m Trial 4 finished with value: 0.7949039716300937 and parameters: {'n_estimators': 524, 'max_depth': 17, 'num_leaves': 25, 'min_child_samples': 10, 'num_iterations': 561}. Best is trial 3 with value: 0.7978884283348332.\u001b[0m\n",
      "\u001b[32m[I 2023-08-24 14:11:50,500]\u001b[0m Trial 5 finished with value: 0.7889405422380806 and parameters: {'n_estimators': 798, 'max_depth': 13, 'num_leaves': 11, 'min_child_samples': 4, 'num_iterations': 731}. Best is trial 3 with value: 0.7978884283348332.\u001b[0m\n",
      "\u001b[32m[I 2023-08-24 14:11:51,896]\u001b[0m Trial 6 finished with value: 0.7715263929476996 and parameters: {'n_estimators': 935, 'max_depth': 7, 'num_leaves': 28, 'min_child_samples': 3, 'num_iterations': 581}. Best is trial 3 with value: 0.7978884283348332.\u001b[0m\n",
      "\u001b[32m[I 2023-08-24 14:11:52,705]\u001b[0m Trial 7 finished with value: 0.7912682039892781 and parameters: {'n_estimators': 541, 'max_depth': 15, 'num_leaves': 9, 'min_child_samples': 5, 'num_iterations': 778}. Best is trial 3 with value: 0.7978884283348332.\u001b[0m\n",
      "\u001b[32m[I 2023-08-24 14:11:54,737]\u001b[0m Trial 8 finished with value: 0.7833093975367206 and parameters: {'n_estimators': 879, 'max_depth': 17, 'num_leaves': 20, 'min_child_samples': 5, 'num_iterations': 813}. Best is trial 3 with value: 0.7978884283348332.\u001b[0m\n",
      "\u001b[32m[I 2023-08-24 14:11:55,423]\u001b[0m Trial 9 finished with value: 0.7935472807278419 and parameters: {'n_estimators': 645, 'max_depth': 25, 'num_leaves': 12, 'min_child_samples': 8, 'num_iterations': 520}. Best is trial 3 with value: 0.7978884283348332.\u001b[0m\n"
     ]
    },
    {
     "name": "stdout",
     "output_type": "stream",
     "text": [
      "[LightGBM] [Warning] Accuracy may be bad since you didn't explicitly set num_leaves OR 2^max_depth > num_leaves. (num_leaves=31).\n",
      "[LightGBM] [Warning] Accuracy may be bad since you didn't explicitly set num_leaves OR 2^max_depth > num_leaves. (num_leaves=31).\n",
      "[LightGBM] [Warning] Accuracy may be bad since you didn't explicitly set num_leaves OR 2^max_depth > num_leaves. (num_leaves=31).\n",
      "[LightGBM] [Warning] Accuracy may be bad since you didn't explicitly set num_leaves OR 2^max_depth > num_leaves. (num_leaves=31).\n",
      "[LightGBM] [Warning] Accuracy may be bad since you didn't explicitly set num_leaves OR 2^max_depth > num_leaves. (num_leaves=31).\n"
     ]
    },
    {
     "name": "stderr",
     "output_type": "stream",
     "text": [
      "\u001b[32m[I 2023-08-24 14:11:58,507]\u001b[0m Trial 10 finished with value: 0.7985644002893418 and parameters: {'n_estimators': 660, 'max_depth': 28, 'num_leaves': 31, 'min_child_samples': 7, 'num_iterations': 991}. Best is trial 10 with value: 0.7985644002893418.\u001b[0m\n",
      "\u001b[32m[I 2023-08-24 14:12:01,600]\u001b[0m Trial 11 finished with value: 0.791336371326201 and parameters: {'n_estimators': 685, 'max_depth': 30, 'num_leaves': 32, 'min_child_samples': 7, 'num_iterations': 967}. Best is trial 10 with value: 0.7985644002893418.\u001b[0m\n",
      "\u001b[32m[I 2023-08-24 14:12:02,194]\u001b[0m Trial 12 finished with value: 0.7745494041485985 and parameters: {'n_estimators': 664, 'max_depth': 30, 'num_leaves': 4, 'min_child_samples': 8, 'num_iterations': 991}. Best is trial 10 with value: 0.7985644002893418.\u001b[0m\n",
      "\u001b[32m[I 2023-08-24 14:12:03,934]\u001b[0m Trial 13 finished with value: 0.7896039384247371 and parameters: {'n_estimators': 623, 'max_depth': 24, 'num_leaves': 18, 'min_child_samples': 7, 'num_iterations': 896}. Best is trial 10 with value: 0.7985644002893418.\u001b[0m\n",
      "\u001b[32m[I 2023-08-24 14:12:06,940]\u001b[0m Trial 14 finished with value: 0.7957950682220166 and parameters: {'n_estimators': 722, 'max_depth': 27, 'num_leaves': 32, 'min_child_samples': 9, 'num_iterations': 896}. Best is trial 10 with value: 0.7985644002893418.\u001b[0m\n",
      "\u001b[32m[I 2023-08-24 14:12:09,581]\u001b[0m Trial 15 finished with value: 0.7958246924279418 and parameters: {'n_estimators': 602, 'max_depth': 21, 'num_leaves': 28, 'min_child_samples': 7, 'num_iterations': 919}. Best is trial 10 with value: 0.7985644002893418.\u001b[0m\n",
      "\u001b[32m[I 2023-08-24 14:12:11,005]\u001b[0m Trial 16 finished with value: 0.7969053295435863 and parameters: {'n_estimators': 730, 'max_depth': 28, 'num_leaves': 16, 'min_child_samples': 6, 'num_iterations': 821}. Best is trial 10 with value: 0.7985644002893418.\u001b[0m\n",
      "\u001b[32m[I 2023-08-24 14:12:11,426]\u001b[0m Trial 17 finished with value: 0.7753499499582108 and parameters: {'n_estimators': 583, 'max_depth': 20, 'num_leaves': 4, 'min_child_samples': 9, 'num_iterations': 702}. Best is trial 10 with value: 0.7985644002893418.\u001b[0m\n",
      "\u001b[32m[I 2023-08-24 14:12:14,318]\u001b[0m Trial 18 finished with value: 0.7912581263647459 and parameters: {'n_estimators': 829, 'max_depth': 25, 'num_leaves': 21, 'min_child_samples': 9, 'num_iterations': 943}. Best is trial 10 with value: 0.7985644002893418.\u001b[0m\n",
      "\u001b[32m[I 2023-08-24 14:12:16,115]\u001b[0m Trial 19 finished with value: 0.7924293393313697 and parameters: {'n_estimators': 699, 'max_depth': 11, 'num_leaves': 16, 'min_child_samples': 6, 'num_iterations': 862}. Best is trial 10 with value: 0.7985644002893418.\u001b[0m\n",
      "\u001b[32m[I 2023-08-24 14:12:17,843]\u001b[0m Trial 20 finished with value: 0.8051265905838971 and parameters: {'n_estimators': 978, 'max_depth': 8, 'num_leaves': 28, 'min_child_samples': 8, 'num_iterations': 672}. Best is trial 20 with value: 0.8051265905838971.\u001b[0m\n",
      "\u001b[32m[I 2023-08-24 14:12:19,164]\u001b[0m Trial 21 finished with value: 0.8011462751534406 and parameters: {'n_estimators': 988, 'max_depth': 6, 'num_leaves': 29, 'min_child_samples': 8, 'num_iterations': 658}. Best is trial 20 with value: 0.8051265905838971.\u001b[0m\n",
      "\u001b[32m[I 2023-08-24 14:12:20,638]\u001b[0m Trial 22 finished with value: 0.8011341136267556 and parameters: {'n_estimators': 984, 'max_depth': 6, 'num_leaves': 29, 'min_child_samples': 8, 'num_iterations': 662}. Best is trial 20 with value: 0.8051265905838971.\u001b[0m\n",
      "\u001b[32m[I 2023-08-24 14:12:21,693]\u001b[0m Trial 23 finished with value: 0.789755588680862 and parameters: {'n_estimators': 994, 'max_depth': 5, 'num_leaves': 29, 'min_child_samples': 8, 'num_iterations': 668}. Best is trial 20 with value: 0.8051265905838971.\u001b[0m\n",
      "\u001b[32m[I 2023-08-24 14:12:23,198]\u001b[0m Trial 24 finished with value: 0.7968924245713922 and parameters: {'n_estimators': 992, 'max_depth': 8, 'num_leaves': 26, 'min_child_samples': 8, 'num_iterations': 633}. Best is trial 20 with value: 0.8051265905838971.\u001b[0m\n",
      "\u001b[32m[I 2023-08-24 14:12:23,551]\u001b[0m Trial 25 finished with value: 0.7619212276613077 and parameters: {'n_estimators': 933, 'max_depth': 2, 'num_leaves': 29, 'min_child_samples': 10, 'num_iterations': 646}. Best is trial 20 with value: 0.8051265905838971.\u001b[0m\n",
      "\u001b[32m[I 2023-08-24 14:12:25,307]\u001b[0m Trial 26 finished with value: 0.7906193036740505 and parameters: {'n_estimators': 932, 'max_depth': 10, 'num_leaves': 24, 'min_child_samples': 6, 'num_iterations': 691}. Best is trial 20 with value: 0.8051265905838971.\u001b[0m\n",
      "\u001b[32m[I 2023-08-24 14:12:26,121]\u001b[0m Trial 27 finished with value: 0.78767226446369 and parameters: {'n_estimators': 880, 'max_depth': 4, 'num_leaves': 30, 'min_child_samples': 8, 'num_iterations': 748}. Best is trial 20 with value: 0.8051265905838971.\u001b[0m\n",
      "\u001b[32m[I 2023-08-24 14:12:27,691]\u001b[0m Trial 28 finished with value: 0.7826484780891567 and parameters: {'n_estimators': 965, 'max_depth': 7, 'num_leaves': 27, 'min_child_samples': 4, 'num_iterations': 623}. Best is trial 20 with value: 0.8051265905838971.\u001b[0m\n",
      "\u001b[32m[I 2023-08-24 14:12:28,421]\u001b[0m Trial 29 finished with value: 0.7936280142424786 and parameters: {'n_estimators': 879, 'max_depth': 4, 'num_leaves': 23, 'min_child_samples': 10, 'num_iterations': 719}. Best is trial 20 with value: 0.8051265905838971.\u001b[0m\n",
      "\u001b[32m[I 2023-08-24 14:12:30,232]\u001b[0m Trial 30 finished with value: 0.8001485211080978 and parameters: {'n_estimators': 906, 'max_depth': 10, 'num_leaves': 26, 'min_child_samples': 7, 'num_iterations': 672}. Best is trial 20 with value: 0.8051265905838971.\u001b[0m\n",
      "\u001b[32m[I 2023-08-24 14:12:32,019]\u001b[0m Trial 31 finished with value: 0.8001438980064958 and parameters: {'n_estimators': 955, 'max_depth': 10, 'num_leaves': 26, 'min_child_samples': 7, 'num_iterations': 680}. Best is trial 20 with value: 0.8051265905838971.\u001b[0m\n",
      "\u001b[32m[I 2023-08-24 14:12:33,340]\u001b[0m Trial 32 finished with value: 0.7989053594917643 and parameters: {'n_estimators': 895, 'max_depth': 8, 'num_leaves': 22, 'min_child_samples': 9, 'num_iterations': 619}. Best is trial 20 with value: 0.8051265905838971.\u001b[0m\n",
      "\u001b[32m[I 2023-08-24 14:12:35,395]\u001b[0m Trial 33 finished with value: 0.7995398374060912 and parameters: {'n_estimators': 844, 'max_depth': 13, 'num_leaves': 30, 'min_child_samples': 8, 'num_iterations': 659}. Best is trial 20 with value: 0.8051265905838971.\u001b[0m\n",
      "\u001b[32m[I 2023-08-24 14:12:36,329]\u001b[0m Trial 34 finished with value: 0.7860928758209118 and parameters: {'n_estimators': 1000, 'max_depth': 5, 'num_leaves': 25, 'min_child_samples': 6, 'num_iterations': 603}. Best is trial 20 with value: 0.8051265905838971.\u001b[0m\n",
      "\u001b[32m[I 2023-08-24 14:12:36,643]\u001b[0m Trial 35 finished with value: 0.7525443755975727 and parameters: {'n_estimators': 913, 'max_depth': 2, 'num_leaves': 27, 'min_child_samples': 1, 'num_iterations': 547}. Best is trial 20 with value: 0.8051265905838971.\u001b[0m\n",
      "\u001b[32m[I 2023-08-24 14:12:38,613]\u001b[0m Trial 36 finished with value: 0.7967879606020128 and parameters: {'n_estimators': 962, 'max_depth': 12, 'num_leaves': 24, 'min_child_samples': 7, 'num_iterations': 769}. Best is trial 20 with value: 0.8051265905838971.\u001b[0m\n",
      "\u001b[32m[I 2023-08-24 14:12:40,534]\u001b[0m Trial 37 finished with value: 0.8027513171192362 and parameters: {'n_estimators': 967, 'max_depth': 9, 'num_leaves': 30, 'min_child_samples': 9, 'num_iterations': 713}. Best is trial 20 with value: 0.8051265905838971.\u001b[0m\n",
      "\u001b[32m[I 2023-08-24 14:12:41,954]\u001b[0m Trial 38 finished with value: 0.7959356827531124 and parameters: {'n_estimators': 973, 'max_depth': 7, 'num_leaves': 32, 'min_child_samples': 10, 'num_iterations': 722}. Best is trial 20 with value: 0.8051265905838971.\u001b[0m\n",
      "\u001b[32m[I 2023-08-24 14:12:42,274]\u001b[0m Trial 39 finished with value: 0.6994971357341552 and parameters: {'n_estimators': 857, 'max_depth': 1, 'num_leaves': 30, 'min_child_samples': 9, 'num_iterations': 792}. Best is trial 20 with value: 0.8051265905838971.\u001b[0m\n",
      "\u001b[32m[I 2023-08-24 14:12:44,467]\u001b[0m Trial 40 finished with value: 0.7914137125404057 and parameters: {'n_estimators': 801, 'max_depth': 14, 'num_leaves': 28, 'min_child_samples': 10, 'num_iterations': 747}. Best is trial 20 with value: 0.8051265905838971.\u001b[0m\n",
      "\u001b[32m[I 2023-08-24 14:12:46,202]\u001b[0m Trial 41 finished with value: 0.7939714090124296 and parameters: {'n_estimators': 919, 'max_depth': 9, 'num_leaves': 26, 'min_child_samples': 8, 'num_iterations': 657}. Best is trial 20 with value: 0.8051265905838971.\u001b[0m\n",
      "\u001b[32m[I 2023-08-24 14:12:47,435]\u001b[0m Trial 42 finished with value: 0.7923586512241364 and parameters: {'n_estimators': 950, 'max_depth': 6, 'num_leaves': 29, 'min_child_samples': 9, 'num_iterations': 695}. Best is trial 20 with value: 0.8051265905838971.\u001b[0m\n",
      "\u001b[32m[I 2023-08-24 14:12:48,984]\u001b[0m Trial 43 finished with value: 0.7955444416138905 and parameters: {'n_estimators': 981, 'max_depth': 9, 'num_leaves': 30, 'min_child_samples': 8, 'num_iterations': 595}. Best is trial 20 with value: 0.8051265905838971.\u001b[0m\n",
      "\u001b[32m[I 2023-08-24 14:12:51,088]\u001b[0m Trial 44 finished with value: 0.7985286624984569 and parameters: {'n_estimators': 911, 'max_depth': 17, 'num_leaves': 27, 'min_child_samples': 7, 'num_iterations': 712}. Best is trial 20 with value: 0.8051265905838971.\u001b[0m\n",
      "\u001b[32m[I 2023-08-24 14:12:52,799]\u001b[0m Trial 45 finished with value: 0.7932172366126596 and parameters: {'n_estimators': 949, 'max_depth': 11, 'num_leaves': 24, 'min_child_samples': 8, 'num_iterations': 678}. Best is trial 20 with value: 0.8051265905838971.\u001b[0m\n",
      "\u001b[32m[I 2023-08-24 14:12:53,268]\u001b[0m Trial 46 finished with value: 0.7743548875934144 and parameters: {'n_estimators': 977, 'max_depth': 3, 'num_leaves': 31, 'min_child_samples': 5, 'num_iterations': 570}. Best is trial 20 with value: 0.8051265905838971.\u001b[0m\n",
      "\u001b[32m[I 2023-08-24 14:12:53,918]\u001b[0m Trial 47 finished with value: 0.7891346414209633 and parameters: {'n_estimators': 940, 'max_depth': 6, 'num_leaves': 8, 'min_child_samples': 9, 'num_iterations': 636}. Best is trial 20 with value: 0.8051265905838971.\u001b[0m\n",
      "\u001b[32m[I 2023-08-24 14:12:55,345]\u001b[0m Trial 48 finished with value: 0.7993736588831786 and parameters: {'n_estimators': 894, 'max_depth': 9, 'num_leaves': 32, 'min_child_samples': 7, 'num_iterations': 506}. Best is trial 20 with value: 0.8051265905838971.\u001b[0m\n",
      "\u001b[32m[I 2023-08-24 14:12:57,157]\u001b[0m Trial 49 finished with value: 0.7924973916503585 and parameters: {'n_estimators': 1000, 'max_depth': 15, 'num_leaves': 22, 'min_child_samples': 9, 'num_iterations': 736}. Best is trial 20 with value: 0.8051265905838971.\u001b[0m\n",
      "\u001b[32m[I 2023-08-24 14:12:58,722]\u001b[0m Trial 50 finished with value: 0.7924689689968673 and parameters: {'n_estimators': 784, 'max_depth': 12, 'num_leaves': 18, 'min_child_samples': 7, 'num_iterations': 777}. Best is trial 20 with value: 0.8051265905838971.\u001b[0m\n",
      "\u001b[32m[I 2023-08-24 14:13:00,528]\u001b[0m Trial 51 finished with value: 0.8023930221708987 and parameters: {'n_estimators': 970, 'max_depth': 10, 'num_leaves': 26, 'min_child_samples': 8, 'num_iterations': 680}. Best is trial 20 with value: 0.8051265905838971.\u001b[0m\n",
      "\u001b[32m[I 2023-08-24 14:13:01,638]\u001b[0m Trial 52 finished with value: 0.7942463605951607 and parameters: {'n_estimators': 980, 'max_depth': 6, 'num_leaves': 28, 'min_child_samples': 8, 'num_iterations': 610}. Best is trial 20 with value: 0.8051265905838971.\u001b[0m\n"
     ]
    },
    {
     "name": "stdout",
     "output_type": "stream",
     "text": [
      "[LightGBM] [Warning] Accuracy may be bad since you didn't explicitly set num_leaves OR 2^max_depth > num_leaves. (num_leaves=31).\n",
      "[LightGBM] [Warning] Accuracy may be bad since you didn't explicitly set num_leaves OR 2^max_depth > num_leaves. (num_leaves=31).\n",
      "[LightGBM] [Warning] Accuracy may be bad since you didn't explicitly set num_leaves OR 2^max_depth > num_leaves. (num_leaves=31).\n",
      "[LightGBM] [Warning] Accuracy may be bad since you didn't explicitly set num_leaves OR 2^max_depth > num_leaves. (num_leaves=31).\n",
      "[LightGBM] [Warning] Accuracy may be bad since you didn't explicitly set num_leaves OR 2^max_depth > num_leaves. (num_leaves=31).\n"
     ]
    },
    {
     "name": "stderr",
     "output_type": "stream",
     "text": [
      "\u001b[32m[I 2023-08-24 14:13:03,260]\u001b[0m Trial 53 finished with value: 0.8040479341214842 and parameters: {'n_estimators': 926, 'max_depth': 8, 'num_leaves': 31, 'min_child_samples': 8, 'num_iterations': 648}. Best is trial 20 with value: 0.8051265905838971.\u001b[0m\n"
     ]
    },
    {
     "name": "stdout",
     "output_type": "stream",
     "text": [
      "[LightGBM] [Warning] Accuracy may be bad since you didn't explicitly set num_leaves OR 2^max_depth > num_leaves. (num_leaves=31).\n",
      "[LightGBM] [Warning] Accuracy may be bad since you didn't explicitly set num_leaves OR 2^max_depth > num_leaves. (num_leaves=31).\n",
      "[LightGBM] [Warning] Accuracy may be bad since you didn't explicitly set num_leaves OR 2^max_depth > num_leaves. (num_leaves=31).\n",
      "[LightGBM] [Warning] Accuracy may be bad since you didn't explicitly set num_leaves OR 2^max_depth > num_leaves. (num_leaves=31).\n",
      "[LightGBM] [Warning] Accuracy may be bad since you didn't explicitly set num_leaves OR 2^max_depth > num_leaves. (num_leaves=31).\n"
     ]
    },
    {
     "name": "stderr",
     "output_type": "stream",
     "text": [
      "\u001b[32m[I 2023-08-24 14:13:04,798]\u001b[0m Trial 54 finished with value: 0.8071584724012422 and parameters: {'n_estimators': 927, 'max_depth': 8, 'num_leaves': 31, 'min_child_samples': 9, 'num_iterations': 647}. Best is trial 54 with value: 0.8071584724012422.\u001b[0m\n"
     ]
    },
    {
     "name": "stdout",
     "output_type": "stream",
     "text": [
      "[LightGBM] [Warning] Accuracy may be bad since you didn't explicitly set num_leaves OR 2^max_depth > num_leaves. (num_leaves=31).\n",
      "[LightGBM] [Warning] Accuracy may be bad since you didn't explicitly set num_leaves OR 2^max_depth > num_leaves. (num_leaves=31).\n",
      "[LightGBM] [Warning] Accuracy may be bad since you didn't explicitly set num_leaves OR 2^max_depth > num_leaves. (num_leaves=31).\n",
      "[LightGBM] [Warning] Accuracy may be bad since you didn't explicitly set num_leaves OR 2^max_depth > num_leaves. (num_leaves=31).\n",
      "[LightGBM] [Warning] Accuracy may be bad since you didn't explicitly set num_leaves OR 2^max_depth > num_leaves. (num_leaves=31).\n"
     ]
    },
    {
     "name": "stderr",
     "output_type": "stream",
     "text": [
      "\u001b[32m[I 2023-08-24 14:13:06,031]\u001b[0m Trial 55 finished with value: 0.7972833307918586 and parameters: {'n_estimators': 929, 'max_depth': 8, 'num_leaves': 31, 'min_child_samples': 10, 'num_iterations': 545}. Best is trial 54 with value: 0.8071584724012422.\u001b[0m\n"
     ]
    },
    {
     "name": "stdout",
     "output_type": "stream",
     "text": [
      "[LightGBM] [Warning] Accuracy may be bad since you didn't explicitly set num_leaves OR 2^max_depth > num_leaves. (num_leaves=31).\n",
      "[LightGBM] [Warning] Accuracy may be bad since you didn't explicitly set num_leaves OR 2^max_depth > num_leaves. (num_leaves=31).\n",
      "[LightGBM] [Warning] Accuracy may be bad since you didn't explicitly set num_leaves OR 2^max_depth > num_leaves. (num_leaves=31).\n",
      "[LightGBM] [Warning] Accuracy may be bad since you didn't explicitly set num_leaves OR 2^max_depth > num_leaves. (num_leaves=31).\n",
      "[LightGBM] [Warning] Accuracy may be bad since you didn't explicitly set num_leaves OR 2^max_depth > num_leaves. (num_leaves=31).\n"
     ]
    },
    {
     "name": "stderr",
     "output_type": "stream",
     "text": [
      "\u001b[32m[I 2023-08-24 14:13:08,195]\u001b[0m Trial 56 finished with value: 0.8052134546276518 and parameters: {'n_estimators': 860, 'max_depth': 11, 'num_leaves': 31, 'min_child_samples': 9, 'num_iterations': 702}. Best is trial 54 with value: 0.8071584724012422.\u001b[0m\n"
     ]
    },
    {
     "name": "stdout",
     "output_type": "stream",
     "text": [
      "[LightGBM] [Warning] Accuracy may be bad since you didn't explicitly set num_leaves OR 2^max_depth > num_leaves. (num_leaves=31).\n",
      "[LightGBM] [Warning] Accuracy may be bad since you didn't explicitly set num_leaves OR 2^max_depth > num_leaves. (num_leaves=31).\n",
      "[LightGBM] [Warning] Accuracy may be bad since you didn't explicitly set num_leaves OR 2^max_depth > num_leaves. (num_leaves=31).\n",
      "[LightGBM] [Warning] Accuracy may be bad since you didn't explicitly set num_leaves OR 2^max_depth > num_leaves. (num_leaves=31).\n",
      "[LightGBM] [Warning] Accuracy may be bad since you didn't explicitly set num_leaves OR 2^max_depth > num_leaves. (num_leaves=31).\n"
     ]
    },
    {
     "name": "stderr",
     "output_type": "stream",
     "text": [
      "\u001b[32m[I 2023-08-24 14:13:10,395]\u001b[0m Trial 57 finished with value: 0.8034760267631416 and parameters: {'n_estimators': 859, 'max_depth': 12, 'num_leaves': 31, 'min_child_samples': 9, 'num_iterations': 706}. Best is trial 54 with value: 0.8071584724012422.\u001b[0m\n"
     ]
    },
    {
     "name": "stdout",
     "output_type": "stream",
     "text": [
      "[LightGBM] [Warning] Accuracy may be bad since you didn't explicitly set num_leaves OR 2^max_depth > num_leaves. (num_leaves=31).\n",
      "[LightGBM] [Warning] Accuracy may be bad since you didn't explicitly set num_leaves OR 2^max_depth > num_leaves. (num_leaves=31).\n",
      "[LightGBM] [Warning] Accuracy may be bad since you didn't explicitly set num_leaves OR 2^max_depth > num_leaves. (num_leaves=31).\n",
      "[LightGBM] [Warning] Accuracy may be bad since you didn't explicitly set num_leaves OR 2^max_depth > num_leaves. (num_leaves=31).\n",
      "[LightGBM] [Warning] Accuracy may be bad since you didn't explicitly set num_leaves OR 2^max_depth > num_leaves. (num_leaves=31).\n"
     ]
    },
    {
     "name": "stderr",
     "output_type": "stream",
     "text": [
      "\u001b[32m[I 2023-08-24 14:13:12,545]\u001b[0m Trial 58 finished with value: 0.796454488328233 and parameters: {'n_estimators': 858, 'max_depth': 13, 'num_leaves': 31, 'min_child_samples': 10, 'num_iterations': 705}. Best is trial 54 with value: 0.8071584724012422.\u001b[0m\n",
      "\u001b[32m[I 2023-08-24 14:13:14,937]\u001b[0m Trial 59 finished with value: 0.8011816216625707 and parameters: {'n_estimators': 837, 'max_depth': 12, 'num_leaves': 32, 'min_child_samples': 9, 'num_iterations': 759}. Best is trial 54 with value: 0.8071584724012422.\u001b[0m\n"
     ]
    },
    {
     "name": "stdout",
     "output_type": "stream",
     "text": [
      "[LightGBM] [Warning] Accuracy may be bad since you didn't explicitly set num_leaves OR 2^max_depth > num_leaves. (num_leaves=31).\n",
      "[LightGBM] [Warning] Accuracy may be bad since you didn't explicitly set num_leaves OR 2^max_depth > num_leaves. (num_leaves=31).\n",
      "[LightGBM] [Warning] Accuracy may be bad since you didn't explicitly set num_leaves OR 2^max_depth > num_leaves. (num_leaves=31).\n",
      "[LightGBM] [Warning] Accuracy may be bad since you didn't explicitly set num_leaves OR 2^max_depth > num_leaves. (num_leaves=31).\n",
      "[LightGBM] [Warning] Accuracy may be bad since you didn't explicitly set num_leaves OR 2^max_depth > num_leaves. (num_leaves=31).\n"
     ]
    },
    {
     "name": "stderr",
     "output_type": "stream",
     "text": [
      "\u001b[32m[I 2023-08-24 14:13:17,686]\u001b[0m Trial 60 finished with value: 0.8033799671824073 and parameters: {'n_estimators': 817, 'max_depth': 19, 'num_leaves': 31, 'min_child_samples': 9, 'num_iterations': 794}. Best is trial 54 with value: 0.8071584724012422.\u001b[0m\n"
     ]
    },
    {
     "name": "stdout",
     "output_type": "stream",
     "text": [
      "[LightGBM] [Warning] Accuracy may be bad since you didn't explicitly set num_leaves OR 2^max_depth > num_leaves. (num_leaves=31).\n",
      "[LightGBM] [Warning] Accuracy may be bad since you didn't explicitly set num_leaves OR 2^max_depth > num_leaves. (num_leaves=31).\n",
      "[LightGBM] [Warning] Accuracy may be bad since you didn't explicitly set num_leaves OR 2^max_depth > num_leaves. (num_leaves=31).\n",
      "[LightGBM] [Warning] Accuracy may be bad since you didn't explicitly set num_leaves OR 2^max_depth > num_leaves. (num_leaves=31).\n",
      "[LightGBM] [Warning] Accuracy may be bad since you didn't explicitly set num_leaves OR 2^max_depth > num_leaves. (num_leaves=31).\n"
     ]
    },
    {
     "name": "stderr",
     "output_type": "stream",
     "text": [
      "\u001b[32m[I 2023-08-24 14:13:20,467]\u001b[0m Trial 61 finished with value: 0.8041955739984029 and parameters: {'n_estimators': 822, 'max_depth': 20, 'num_leaves': 31, 'min_child_samples': 9, 'num_iterations': 836}. Best is trial 54 with value: 0.8071584724012422.\u001b[0m\n"
     ]
    },
    {
     "name": "stdout",
     "output_type": "stream",
     "text": [
      "[LightGBM] [Warning] Accuracy may be bad since you didn't explicitly set num_leaves OR 2^max_depth > num_leaves. (num_leaves=31).\n",
      "[LightGBM] [Warning] Accuracy may be bad since you didn't explicitly set num_leaves OR 2^max_depth > num_leaves. (num_leaves=31).\n",
      "[LightGBM] [Warning] Accuracy may be bad since you didn't explicitly set num_leaves OR 2^max_depth > num_leaves. (num_leaves=31).\n",
      "[LightGBM] [Warning] Accuracy may be bad since you didn't explicitly set num_leaves OR 2^max_depth > num_leaves. (num_leaves=31).\n",
      "[LightGBM] [Warning] Accuracy may be bad since you didn't explicitly set num_leaves OR 2^max_depth > num_leaves. (num_leaves=31).\n"
     ]
    },
    {
     "name": "stderr",
     "output_type": "stream",
     "text": [
      "\u001b[32m[I 2023-08-24 14:13:23,284]\u001b[0m Trial 62 finished with value: 0.8033615890827364 and parameters: {'n_estimators': 816, 'max_depth': 19, 'num_leaves': 31, 'min_child_samples': 9, 'num_iterations': 832}. Best is trial 54 with value: 0.8071584724012422.\u001b[0m\n",
      "\u001b[32m[I 2023-08-24 14:13:26,181]\u001b[0m Trial 63 finished with value: 0.7910984319227264 and parameters: {'n_estimators': 814, 'max_depth': 18, 'num_leaves': 32, 'min_child_samples': 10, 'num_iterations': 846}. Best is trial 54 with value: 0.8071584724012422.\u001b[0m\n",
      "\u001b[32m[I 2023-08-24 14:13:27,493]\u001b[0m Trial 64 finished with value: 0.7938674864551436 and parameters: {'n_estimators': 747, 'max_depth': 23, 'num_leaves': 14, 'min_child_samples': 9, 'num_iterations': 796}. Best is trial 54 with value: 0.8071584724012422.\u001b[0m\n",
      "\u001b[32m[I 2023-08-24 14:13:30,091]\u001b[0m Trial 65 finished with value: 0.7941369405593622 and parameters: {'n_estimators': 862, 'max_depth': 21, 'num_leaves': 28, 'min_child_samples': 10, 'num_iterations': 863}. Best is trial 54 with value: 0.8071584724012422.\u001b[0m\n",
      "\u001b[32m[I 2023-08-24 14:13:32,530]\u001b[0m Trial 66 finished with value: 0.7961757729348375 and parameters: {'n_estimators': 766, 'max_depth': 16, 'num_leaves': 30, 'min_child_samples': 9, 'num_iterations': 732}. Best is trial 54 with value: 0.8071584724012422.\u001b[0m\n",
      "\u001b[32m[I 2023-08-24 14:13:34,537]\u001b[0m Trial 67 finished with value: 0.7989203089706527 and parameters: {'n_estimators': 879, 'max_depth': 20, 'num_leaves': 29, 'min_child_samples': 9, 'num_iterations': 646}. Best is trial 54 with value: 0.8071584724012422.\u001b[0m\n"
     ]
    },
    {
     "name": "stdout",
     "output_type": "stream",
     "text": [
      "[LightGBM] [Warning] Accuracy may be bad since you didn't explicitly set num_leaves OR 2^max_depth > num_leaves. (num_leaves=31).\n",
      "[LightGBM] [Warning] Accuracy may be bad since you didn't explicitly set num_leaves OR 2^max_depth > num_leaves. (num_leaves=31).\n",
      "[LightGBM] [Warning] Accuracy may be bad since you didn't explicitly set num_leaves OR 2^max_depth > num_leaves. (num_leaves=31).\n",
      "[LightGBM] [Warning] Accuracy may be bad since you didn't explicitly set num_leaves OR 2^max_depth > num_leaves. (num_leaves=31).\n",
      "[LightGBM] [Warning] Accuracy may be bad since you didn't explicitly set num_leaves OR 2^max_depth > num_leaves. (num_leaves=31).\n"
     ]
    },
    {
     "name": "stderr",
     "output_type": "stream",
     "text": [
      "\u001b[32m[I 2023-08-24 14:13:37,119]\u001b[0m Trial 68 finished with value: 0.7938025962499599 and parameters: {'n_estimators': 826, 'max_depth': 22, 'num_leaves': 31, 'min_child_samples': 10, 'num_iterations': 803}. Best is trial 54 with value: 0.8071584724012422.\u001b[0m\n",
      "\u001b[32m[I 2023-08-24 14:13:40,055]\u001b[0m Trial 69 finished with value: 0.8022985927819717 and parameters: {'n_estimators': 783, 'max_depth': 14, 'num_leaves': 32, 'min_child_samples': 9, 'num_iterations': 882}. Best is trial 54 with value: 0.8071584724012422.\u001b[0m\n",
      "\u001b[32m[I 2023-08-24 14:13:42,595]\u001b[0m Trial 70 finished with value: 0.8024462772838893 and parameters: {'n_estimators': 894, 'max_depth': 16, 'num_leaves': 29, 'min_child_samples': 8, 'num_iterations': 828}. Best is trial 54 with value: 0.8071584724012422.\u001b[0m\n"
     ]
    },
    {
     "name": "stdout",
     "output_type": "stream",
     "text": [
      "[LightGBM] [Warning] Accuracy may be bad since you didn't explicitly set num_leaves OR 2^max_depth > num_leaves. (num_leaves=31).\n",
      "[LightGBM] [Warning] Accuracy may be bad since you didn't explicitly set num_leaves OR 2^max_depth > num_leaves. (num_leaves=31).\n",
      "[LightGBM] [Warning] Accuracy may be bad since you didn't explicitly set num_leaves OR 2^max_depth > num_leaves. (num_leaves=31).\n",
      "[LightGBM] [Warning] Accuracy may be bad since you didn't explicitly set num_leaves OR 2^max_depth > num_leaves. (num_leaves=31).\n",
      "[LightGBM] [Warning] Accuracy may be bad since you didn't explicitly set num_leaves OR 2^max_depth > num_leaves. (num_leaves=31).\n"
     ]
    },
    {
     "name": "stderr",
     "output_type": "stream",
     "text": [
      "\u001b[32m[I 2023-08-24 14:13:45,529]\u001b[0m Trial 71 finished with value: 0.8041954831849087 and parameters: {'n_estimators': 808, 'max_depth': 20, 'num_leaves': 31, 'min_child_samples': 9, 'num_iterations': 860}. Best is trial 54 with value: 0.8071584724012422.\u001b[0m\n",
      "\u001b[32m[I 2023-08-24 14:13:48,477]\u001b[0m Trial 72 finished with value: 0.7982607604625811 and parameters: {'n_estimators': 802, 'max_depth': 18, 'num_leaves': 30, 'min_child_samples': 9, 'num_iterations': 849}. Best is trial 54 with value: 0.8071584724012422.\u001b[0m\n",
      "\u001b[32m[I 2023-08-24 14:13:48,821]\u001b[0m Trial 73 finished with value: 0.7031833340899777 and parameters: {'n_estimators': 756, 'max_depth': 20, 'num_leaves': 2, 'min_child_samples': 3, 'num_iterations': 906}. Best is trial 54 with value: 0.8071584724012422.\u001b[0m\n"
     ]
    },
    {
     "name": "stdout",
     "output_type": "stream",
     "text": [
      "[LightGBM] [Warning] Accuracy may be bad since you didn't explicitly set num_leaves OR 2^max_depth > num_leaves. (num_leaves=31).\n",
      "[LightGBM] [Warning] Accuracy may be bad since you didn't explicitly set num_leaves OR 2^max_depth > num_leaves. (num_leaves=31).\n",
      "[LightGBM] [Warning] Accuracy may be bad since you didn't explicitly set num_leaves OR 2^max_depth > num_leaves. (num_leaves=31).\n",
      "[LightGBM] [Warning] Accuracy may be bad since you didn't explicitly set num_leaves OR 2^max_depth > num_leaves. (num_leaves=31).\n",
      "[LightGBM] [Warning] Accuracy may be bad since you didn't explicitly set num_leaves OR 2^max_depth > num_leaves. (num_leaves=31).\n"
     ]
    },
    {
     "name": "stderr",
     "output_type": "stream",
     "text": [
      "\u001b[32m[I 2023-08-24 14:13:51,987]\u001b[0m Trial 74 finished with value: 0.8039199056340817 and parameters: {'n_estimators': 844, 'max_depth': 25, 'num_leaves': 31, 'min_child_samples': 9, 'num_iterations': 930}. Best is trial 54 with value: 0.8071584724012422.\u001b[0m\n",
      "\u001b[32m[I 2023-08-24 14:13:54,808]\u001b[0m Trial 75 finished with value: 0.7983851260035643 and parameters: {'n_estimators': 844, 'max_depth': 24, 'num_leaves': 27, 'min_child_samples': 8, 'num_iterations': 949}. Best is trial 54 with value: 0.8071584724012422.\u001b[0m\n",
      "\u001b[32m[I 2023-08-24 14:13:57,856]\u001b[0m Trial 76 finished with value: 0.7897761558570057 and parameters: {'n_estimators': 859, 'max_depth': 29, 'num_leaves': 32, 'min_child_samples': 10, 'num_iterations': 921}. Best is trial 54 with value: 0.8071584724012422.\u001b[0m\n",
      "\u001b[32m[I 2023-08-24 14:14:00,850]\u001b[0m Trial 77 finished with value: 0.8011220107040368 and parameters: {'n_estimators': 871, 'max_depth': 26, 'num_leaves': 28, 'min_child_samples': 8, 'num_iterations': 992}. Best is trial 54 with value: 0.8071584724012422.\u001b[0m\n",
      "\u001b[32m[I 2023-08-24 14:14:02,809]\u001b[0m Trial 78 finished with value: 0.8024540858300468 and parameters: {'n_estimators': 900, 'max_depth': 7, 'num_leaves': 30, 'min_child_samples': 9, 'num_iterations': 956}. Best is trial 54 with value: 0.8071584724012422.\u001b[0m\n",
      "\u001b[32m[I 2023-08-24 14:14:05,409]\u001b[0m Trial 79 finished with value: 0.7946194140859687 and parameters: {'n_estimators': 922, 'max_depth': 11, 'num_leaves': 29, 'min_child_samples': 10, 'num_iterations': 929}. Best is trial 54 with value: 0.8071584724012422.\u001b[0m\n"
     ]
    },
    {
     "name": "stdout",
     "output_type": "stream",
     "text": [
      "[LightGBM] [Warning] Accuracy may be bad since you didn't explicitly set num_leaves OR 2^max_depth > num_leaves. (num_leaves=31).\n",
      "[LightGBM] [Warning] Accuracy may be bad since you didn't explicitly set num_leaves OR 2^max_depth > num_leaves. (num_leaves=31).\n",
      "[LightGBM] [Warning] Accuracy may be bad since you didn't explicitly set num_leaves OR 2^max_depth > num_leaves. (num_leaves=31).\n",
      "[LightGBM] [Warning] Accuracy may be bad since you didn't explicitly set num_leaves OR 2^max_depth > num_leaves. (num_leaves=31).\n",
      "[LightGBM] [Warning] Accuracy may be bad since you didn't explicitly set num_leaves OR 2^max_depth > num_leaves. (num_leaves=31).\n"
     ]
    },
    {
     "name": "stderr",
     "output_type": "stream",
     "text": [
      "\u001b[32m[I 2023-08-24 14:14:08,546]\u001b[0m Trial 80 finished with value: 0.7979480806795982 and parameters: {'n_estimators': 847, 'max_depth': 14, 'num_leaves': 31, 'min_child_samples': 8, 'num_iterations': 977}. Best is trial 54 with value: 0.8071584724012422.\u001b[0m\n"
     ]
    },
    {
     "name": "stdout",
     "output_type": "stream",
     "text": [
      "[LightGBM] [Warning] Accuracy may be bad since you didn't explicitly set num_leaves OR 2^max_depth > num_leaves. (num_leaves=31).\n",
      "[LightGBM] [Warning] Accuracy may be bad since you didn't explicitly set num_leaves OR 2^max_depth > num_leaves. (num_leaves=31).\n",
      "[LightGBM] [Warning] Accuracy may be bad since you didn't explicitly set num_leaves OR 2^max_depth > num_leaves. (num_leaves=31).\n",
      "[LightGBM] [Warning] Accuracy may be bad since you didn't explicitly set num_leaves OR 2^max_depth > num_leaves. (num_leaves=31).\n",
      "[LightGBM] [Warning] Accuracy may be bad since you didn't explicitly set num_leaves OR 2^max_depth > num_leaves. (num_leaves=31).\n"
     ]
    },
    {
     "name": "stderr",
     "output_type": "stream",
     "text": [
      "\u001b[32m[I 2023-08-24 14:14:11,446]\u001b[0m Trial 81 finished with value: 0.8039474602415531 and parameters: {'n_estimators': 815, 'max_depth': 22, 'num_leaves': 31, 'min_child_samples': 9, 'num_iterations': 875}. Best is trial 54 with value: 0.8071584724012422.\u001b[0m\n",
      "\u001b[32m[I 2023-08-24 14:14:14,414]\u001b[0m Trial 82 finished with value: 0.7957141618101686 and parameters: {'n_estimators': 830, 'max_depth': 22, 'num_leaves': 32, 'min_child_samples': 9, 'num_iterations': 868}. Best is trial 54 with value: 0.8071584724012422.\u001b[0m\n",
      "\u001b[32m[I 2023-08-24 14:14:17,248]\u001b[0m Trial 83 finished with value: 0.7971479215511758 and parameters: {'n_estimators': 794, 'max_depth': 24, 'num_leaves': 30, 'min_child_samples': 9, 'num_iterations': 888}. Best is trial 54 with value: 0.8071584724012422.\u001b[0m\n"
     ]
    },
    {
     "name": "stdout",
     "output_type": "stream",
     "text": [
      "[LightGBM] [Warning] Accuracy may be bad since you didn't explicitly set num_leaves OR 2^max_depth > num_leaves. (num_leaves=31).\n",
      "[LightGBM] [Warning] Accuracy may be bad since you didn't explicitly set num_leaves OR 2^max_depth > num_leaves. (num_leaves=31).\n",
      "[LightGBM] [Warning] Accuracy may be bad since you didn't explicitly set num_leaves OR 2^max_depth > num_leaves. (num_leaves=31).\n",
      "[LightGBM] [Warning] Accuracy may be bad since you didn't explicitly set num_leaves OR 2^max_depth > num_leaves. (num_leaves=31).\n",
      "[LightGBM] [Warning] Accuracy may be bad since you didn't explicitly set num_leaves OR 2^max_depth > num_leaves. (num_leaves=31).\n"
     ]
    },
    {
     "name": "stderr",
     "output_type": "stream",
     "text": [
      "\u001b[32m[I 2023-08-24 14:14:19,584]\u001b[0m Trial 84 finished with value: 0.7939181892932495 and parameters: {'n_estimators': 802, 'max_depth': 25, 'num_leaves': 31, 'min_child_samples': 10, 'num_iterations': 689}. Best is trial 54 with value: 0.8071584724012422.\u001b[0m\n",
      "\u001b[32m[I 2023-08-24 14:14:21,711]\u001b[0m Trial 85 finished with value: 0.798973953424291 and parameters: {'n_estimators': 885, 'max_depth': 23, 'num_leaves': 29, 'min_child_samples': 9, 'num_iterations': 647}. Best is trial 54 with value: 0.8071584724012422.\u001b[0m\n",
      "\u001b[32m[I 2023-08-24 14:14:24,346]\u001b[0m Trial 86 finished with value: 0.798391332474086 and parameters: {'n_estimators': 736, 'max_depth': 27, 'num_leaves': 27, 'min_child_samples': 8, 'num_iterations': 909}. Best is trial 54 with value: 0.8071584724012422.\u001b[0m\n",
      "\u001b[32m[I 2023-08-24 14:14:26,519]\u001b[0m Trial 87 finished with value: 0.8028177510929837 and parameters: {'n_estimators': 709, 'max_depth': 8, 'num_leaves': 30, 'min_child_samples': 9, 'num_iterations': 938}. Best is trial 54 with value: 0.8071584724012422.\u001b[0m\n",
      "\u001b[32m[I 2023-08-24 14:14:28,346]\u001b[0m Trial 88 finished with value: 0.7941980947473524 and parameters: {'n_estimators': 844, 'max_depth': 21, 'num_leaves': 28, 'min_child_samples': 10, 'num_iterations': 621}. Best is trial 54 with value: 0.8071584724012422.\u001b[0m\n",
      "\u001b[32m[I 2023-08-24 14:14:30,524]\u001b[0m Trial 89 finished with value: 0.802590160317143 and parameters: {'n_estimators': 772, 'max_depth': 11, 'num_leaves': 32, 'min_child_samples': 8, 'num_iterations': 697}. Best is trial 54 with value: 0.8071584724012422.\u001b[0m\n",
      "\u001b[32m[I 2023-08-24 14:14:31,138]\u001b[0m Trial 90 finished with value: 0.7820747960193277 and parameters: {'n_estimators': 826, 'max_depth': 26, 'num_leaves': 8, 'min_child_samples': 9, 'num_iterations': 586}. Best is trial 54 with value: 0.8071584724012422.\u001b[0m\n"
     ]
    },
    {
     "name": "stdout",
     "output_type": "stream",
     "text": [
      "[LightGBM] [Warning] Accuracy may be bad since you didn't explicitly set num_leaves OR 2^max_depth > num_leaves. (num_leaves=31).\n",
      "[LightGBM] [Warning] Accuracy may be bad since you didn't explicitly set num_leaves OR 2^max_depth > num_leaves. (num_leaves=31).\n",
      "[LightGBM] [Warning] Accuracy may be bad since you didn't explicitly set num_leaves OR 2^max_depth > num_leaves. (num_leaves=31).\n",
      "[LightGBM] [Warning] Accuracy may be bad since you didn't explicitly set num_leaves OR 2^max_depth > num_leaves. (num_leaves=31).\n",
      "[LightGBM] [Warning] Accuracy may be bad since you didn't explicitly set num_leaves OR 2^max_depth > num_leaves. (num_leaves=31).\n"
     ]
    },
    {
     "name": "stderr",
     "output_type": "stream",
     "text": [
      "\u001b[32m[I 2023-08-24 14:14:33,887]\u001b[0m Trial 91 finished with value: 0.8033721851530341 and parameters: {'n_estimators': 812, 'max_depth': 19, 'num_leaves': 31, 'min_child_samples': 9, 'num_iterations': 815}. Best is trial 54 with value: 0.8071584724012422.\u001b[0m\n"
     ]
    },
    {
     "name": "stdout",
     "output_type": "stream",
     "text": [
      "[LightGBM] [Warning] Accuracy may be bad since you didn't explicitly set num_leaves OR 2^max_depth > num_leaves. (num_leaves=31).\n",
      "[LightGBM] [Warning] Accuracy may be bad since you didn't explicitly set num_leaves OR 2^max_depth > num_leaves. (num_leaves=31).\n",
      "[LightGBM] [Warning] Accuracy may be bad since you didn't explicitly set num_leaves OR 2^max_depth > num_leaves. (num_leaves=31).\n",
      "[LightGBM] [Warning] Accuracy may be bad since you didn't explicitly set num_leaves OR 2^max_depth > num_leaves. (num_leaves=31).\n",
      "[LightGBM] [Warning] Accuracy may be bad since you didn't explicitly set num_leaves OR 2^max_depth > num_leaves. (num_leaves=31).\n"
     ]
    },
    {
     "name": "stderr",
     "output_type": "stream",
     "text": [
      "\u001b[32m[I 2023-08-24 14:14:36,704]\u001b[0m Trial 92 finished with value: 0.8033476055650471 and parameters: {'n_estimators': 866, 'max_depth': 19, 'num_leaves': 31, 'min_child_samples': 9, 'num_iterations': 854}. Best is trial 54 with value: 0.8071584724012422.\u001b[0m\n"
     ]
    },
    {
     "name": "stdout",
     "output_type": "stream",
     "text": [
      "[LightGBM] [Warning] Accuracy may be bad since you didn't explicitly set num_leaves OR 2^max_depth > num_leaves. (num_leaves=31).\n",
      "[LightGBM] [Warning] Accuracy may be bad since you didn't explicitly set num_leaves OR 2^max_depth > num_leaves. (num_leaves=31).\n",
      "[LightGBM] [Warning] Accuracy may be bad since you didn't explicitly set num_leaves OR 2^max_depth > num_leaves. (num_leaves=31).\n",
      "[LightGBM] [Warning] Accuracy may be bad since you didn't explicitly set num_leaves OR 2^max_depth > num_leaves. (num_leaves=31).\n",
      "[LightGBM] [Warning] Accuracy may be bad since you didn't explicitly set num_leaves OR 2^max_depth > num_leaves. (num_leaves=31).\n"
     ]
    },
    {
     "name": "stderr",
     "output_type": "stream",
     "text": [
      "\u001b[32m[I 2023-08-24 14:14:39,508]\u001b[0m Trial 93 finished with value: 0.8019734498432449 and parameters: {'n_estimators': 849, 'max_depth': 17, 'num_leaves': 31, 'min_child_samples': 9, 'num_iterations': 838}. Best is trial 54 with value: 0.8071584724012422.\u001b[0m\n",
      "\u001b[32m[I 2023-08-24 14:14:41,635]\u001b[0m Trial 94 finished with value: 0.8032342389900288 and parameters: {'n_estimators': 790, 'max_depth': 22, 'num_leaves': 29, 'min_child_samples': 8, 'num_iterations': 668}. Best is trial 54 with value: 0.8071584724012422.\u001b[0m\n",
      "\u001b[32m[I 2023-08-24 14:14:44,292]\u001b[0m Trial 95 finished with value: 0.7958075423174359 and parameters: {'n_estimators': 818, 'max_depth': 21, 'num_leaves': 32, 'min_child_samples': 9, 'num_iterations': 786}. Best is trial 54 with value: 0.8071584724012422.\u001b[0m\n",
      "\u001b[32m[I 2023-08-24 14:14:46,052]\u001b[0m Trial 96 finished with value: 0.796924121733245 and parameters: {'n_estimators': 944, 'max_depth': 7, 'num_leaves': 30, 'min_child_samples': 10, 'num_iterations': 879}. Best is trial 54 with value: 0.8071584724012422.\u001b[0m\n",
      "\u001b[32m[I 2023-08-24 14:14:48,427]\u001b[0m Trial 97 finished with value: 0.7968177743416751 and parameters: {'n_estimators': 565, 'max_depth': 18, 'num_leaves': 28, 'min_child_samples': 9, 'num_iterations': 763}. Best is trial 54 with value: 0.8071584724012422.\u001b[0m\n",
      "\u001b[32m[I 2023-08-24 14:14:50,295]\u001b[0m Trial 98 finished with value: 0.799360659933605 and parameters: {'n_estimators': 836, 'max_depth': 20, 'num_leaves': 20, 'min_child_samples': 8, 'num_iterations': 813}. Best is trial 54 with value: 0.8071584724012422.\u001b[0m\n"
     ]
    },
    {
     "name": "stdout",
     "output_type": "stream",
     "text": [
      "[LightGBM] [Warning] Accuracy may be bad since you didn't explicitly set num_leaves OR 2^max_depth > num_leaves. (num_leaves=31).\n",
      "[LightGBM] [Warning] Accuracy may be bad since you didn't explicitly set num_leaves OR 2^max_depth > num_leaves. (num_leaves=31).\n",
      "[LightGBM] [Warning] Accuracy may be bad since you didn't explicitly set num_leaves OR 2^max_depth > num_leaves. (num_leaves=31).\n",
      "[LightGBM] [Warning] Accuracy may be bad since you didn't explicitly set num_leaves OR 2^max_depth > num_leaves. (num_leaves=31).\n",
      "[LightGBM] [Warning] Accuracy may be bad since you didn't explicitly set num_leaves OR 2^max_depth > num_leaves. (num_leaves=31).\n"
     ]
    },
    {
     "name": "stderr",
     "output_type": "stream",
     "text": [
      "\u001b[32m[I 2023-08-24 14:14:52,182]\u001b[0m Trial 99 finished with value: 0.7976756826895326 and parameters: {'n_estimators': 872, 'max_depth': 10, 'num_leaves': 31, 'min_child_samples': 6, 'num_iterations': 635}. Best is trial 54 with value: 0.8071584724012422.\u001b[0m\n"
     ]
    },
    {
     "name": "stdout",
     "output_type": "stream",
     "text": [
      "Best r2:  0.8071584724012422\n",
      "Best trial: {'n_estimators': 927, 'max_depth': 8, 'num_leaves': 31, 'min_child_samples': 9, 'num_iterations': 647}\n"
     ]
    }
   ],
   "source": [
    "sampler = TPESampler()\n",
    "study = optuna.create_study(\n",
    "    study_name=\"lgbm_parameter_opt\",\n",
    "    direction=\"maximize\",\n",
    "    sampler=sampler,\n",
    ")\n",
    "\n",
    "study.optimize(lambda trial : objectiveLGBM(trial, Ni_X_train, Ni_y_train), n_trials=100)\n",
    "print(\"Best r2: \", study.best_value)\n",
    "print(\"Best trial:\", study.best_trial.params)"
   ]
  },
  {
   "cell_type": "code",
   "execution_count": 57,
   "id": "d71c01fb",
   "metadata": {},
   "outputs": [
    {
     "data": {
      "application/vnd.plotly.v1+json": {
       "config": {
        "plotlyServerURL": "https://plot.ly"
       },
       "data": [
        {
         "dimensions": [
          {
           "label": "Objective Value",
           "range": [
            0.6852543686661827,
            0.8071584724012422
           ],
           "values": [
            0.7947900713588125,
            0.7887353824839647,
            0.6852543686661827,
            0.7978884283348332,
            0.7949039716300937,
            0.7889405422380806,
            0.7715263929476996,
            0.7912682039892781,
            0.7833093975367206,
            0.7935472807278419,
            0.7985644002893418,
            0.791336371326201,
            0.7745494041485985,
            0.7896039384247371,
            0.7957950682220166,
            0.7958246924279418,
            0.7969053295435863,
            0.7753499499582108,
            0.7912581263647459,
            0.7924293393313697,
            0.8051265905838971,
            0.8011462751534406,
            0.8011341136267556,
            0.789755588680862,
            0.7968924245713922,
            0.7619212276613077,
            0.7906193036740505,
            0.78767226446369,
            0.7826484780891567,
            0.7936280142424786,
            0.8001485211080978,
            0.8001438980064958,
            0.7989053594917643,
            0.7995398374060912,
            0.7860928758209118,
            0.7525443755975727,
            0.7967879606020128,
            0.8027513171192362,
            0.7959356827531124,
            0.6994971357341552,
            0.7914137125404057,
            0.7939714090124296,
            0.7923586512241364,
            0.7955444416138905,
            0.7985286624984569,
            0.7932172366126596,
            0.7743548875934144,
            0.7891346414209633,
            0.7993736588831786,
            0.7924973916503585,
            0.7924689689968673,
            0.8023930221708987,
            0.7942463605951607,
            0.8040479341214842,
            0.8071584724012422,
            0.7972833307918586,
            0.8052134546276518,
            0.8034760267631416,
            0.796454488328233,
            0.8011816216625707,
            0.8033799671824073,
            0.8041955739984029,
            0.8033615890827364,
            0.7910984319227264,
            0.7938674864551436,
            0.7941369405593622,
            0.7961757729348375,
            0.7989203089706527,
            0.7938025962499599,
            0.8022985927819717,
            0.8024462772838893,
            0.8041954831849087,
            0.7982607604625811,
            0.7031833340899777,
            0.8039199056340817,
            0.7983851260035643,
            0.7897761558570057,
            0.8011220107040368,
            0.8024540858300468,
            0.7946194140859687,
            0.7979480806795982,
            0.8039474602415531,
            0.7957141618101686,
            0.7971479215511758,
            0.7939181892932495,
            0.798973953424291,
            0.798391332474086,
            0.8028177510929837,
            0.7941980947473524,
            0.802590160317143,
            0.7820747960193277,
            0.8033721851530341,
            0.8033476055650471,
            0.8019734498432449,
            0.8032342389900288,
            0.7958075423174359,
            0.796924121733245,
            0.7968177743416751,
            0.799360659933605,
            0.7976756826895326
           ]
          },
          {
           "label": "max_depth",
           "range": [
            1,
            30
           ],
           "values": [
            22,
            15,
            1,
            28,
            17,
            13,
            7,
            15,
            17,
            25,
            28,
            30,
            30,
            24,
            27,
            21,
            28,
            20,
            25,
            11,
            8,
            6,
            6,
            5,
            8,
            2,
            10,
            4,
            7,
            4,
            10,
            10,
            8,
            13,
            5,
            2,
            12,
            9,
            7,
            1,
            14,
            9,
            6,
            9,
            17,
            11,
            3,
            6,
            9,
            15,
            12,
            10,
            6,
            8,
            8,
            8,
            11,
            12,
            13,
            12,
            19,
            20,
            19,
            18,
            23,
            21,
            16,
            20,
            22,
            14,
            16,
            20,
            18,
            20,
            25,
            24,
            29,
            26,
            7,
            11,
            14,
            22,
            22,
            24,
            25,
            23,
            27,
            8,
            21,
            11,
            26,
            19,
            19,
            17,
            22,
            21,
            7,
            18,
            20,
            10
           ]
          },
          {
           "label": "min_child_samples",
           "range": [
            1,
            10
           ],
           "values": [
            10,
            2,
            1,
            9,
            10,
            4,
            3,
            5,
            5,
            8,
            7,
            7,
            8,
            7,
            9,
            7,
            6,
            9,
            9,
            6,
            8,
            8,
            8,
            8,
            8,
            10,
            6,
            8,
            4,
            10,
            7,
            7,
            9,
            8,
            6,
            1,
            7,
            9,
            10,
            9,
            10,
            8,
            9,
            8,
            7,
            8,
            5,
            9,
            7,
            9,
            7,
            8,
            8,
            8,
            9,
            10,
            9,
            9,
            10,
            9,
            9,
            9,
            9,
            10,
            9,
            10,
            9,
            9,
            10,
            9,
            8,
            9,
            9,
            3,
            9,
            8,
            10,
            8,
            9,
            10,
            8,
            9,
            9,
            9,
            10,
            9,
            8,
            9,
            10,
            8,
            9,
            9,
            9,
            9,
            8,
            9,
            10,
            9,
            8,
            6
           ]
          },
          {
           "label": "n_estimators",
           "range": [
            524,
            1000
           ],
           "values": [
            542,
            546,
            776,
            617,
            524,
            798,
            935,
            541,
            879,
            645,
            660,
            685,
            664,
            623,
            722,
            602,
            730,
            583,
            829,
            699,
            978,
            988,
            984,
            994,
            992,
            933,
            932,
            880,
            965,
            879,
            906,
            955,
            895,
            844,
            1000,
            913,
            962,
            967,
            973,
            857,
            801,
            919,
            950,
            981,
            911,
            949,
            977,
            940,
            894,
            1000,
            784,
            970,
            980,
            926,
            927,
            929,
            860,
            859,
            858,
            837,
            817,
            822,
            816,
            814,
            747,
            862,
            766,
            879,
            826,
            783,
            894,
            808,
            802,
            756,
            844,
            844,
            859,
            871,
            900,
            922,
            847,
            815,
            830,
            794,
            802,
            885,
            736,
            709,
            844,
            772,
            826,
            812,
            866,
            849,
            790,
            818,
            944,
            565,
            836,
            872
           ]
          },
          {
           "label": "num_iterations",
           "range": [
            506,
            992
           ],
           "values": [
            579,
            592,
            573,
            890,
            561,
            731,
            581,
            778,
            813,
            520,
            991,
            967,
            991,
            896,
            896,
            919,
            821,
            702,
            943,
            862,
            672,
            658,
            662,
            668,
            633,
            646,
            691,
            748,
            623,
            719,
            672,
            680,
            619,
            659,
            603,
            547,
            769,
            713,
            722,
            792,
            747,
            657,
            695,
            595,
            712,
            678,
            570,
            636,
            506,
            736,
            777,
            680,
            610,
            648,
            647,
            545,
            702,
            706,
            705,
            759,
            794,
            836,
            832,
            846,
            796,
            863,
            732,
            646,
            803,
            882,
            828,
            860,
            849,
            906,
            930,
            949,
            921,
            992,
            956,
            929,
            977,
            875,
            868,
            888,
            689,
            647,
            909,
            938,
            621,
            697,
            586,
            815,
            854,
            838,
            668,
            786,
            879,
            763,
            813,
            635
           ]
          },
          {
           "label": "num_leaves",
           "range": [
            2,
            32
           ],
           "values": [
            25,
            23,
            13,
            20,
            25,
            11,
            28,
            9,
            20,
            12,
            31,
            32,
            4,
            18,
            32,
            28,
            16,
            4,
            21,
            16,
            28,
            29,
            29,
            29,
            26,
            29,
            24,
            30,
            27,
            23,
            26,
            26,
            22,
            30,
            25,
            27,
            24,
            30,
            32,
            30,
            28,
            26,
            29,
            30,
            27,
            24,
            31,
            8,
            32,
            22,
            18,
            26,
            28,
            31,
            31,
            31,
            31,
            31,
            31,
            32,
            31,
            31,
            31,
            32,
            14,
            28,
            30,
            29,
            31,
            32,
            29,
            31,
            30,
            2,
            31,
            27,
            32,
            28,
            30,
            29,
            31,
            31,
            32,
            30,
            31,
            29,
            27,
            30,
            28,
            32,
            8,
            31,
            31,
            31,
            29,
            32,
            30,
            28,
            20,
            31
           ]
          }
         ],
         "labelangle": 30,
         "labelside": "bottom",
         "line": {
          "color": [
           0.7947900713588125,
           0.7887353824839647,
           0.6852543686661827,
           0.7978884283348332,
           0.7949039716300937,
           0.7889405422380806,
           0.7715263929476996,
           0.7912682039892781,
           0.7833093975367206,
           0.7935472807278419,
           0.7985644002893418,
           0.791336371326201,
           0.7745494041485985,
           0.7896039384247371,
           0.7957950682220166,
           0.7958246924279418,
           0.7969053295435863,
           0.7753499499582108,
           0.7912581263647459,
           0.7924293393313697,
           0.8051265905838971,
           0.8011462751534406,
           0.8011341136267556,
           0.789755588680862,
           0.7968924245713922,
           0.7619212276613077,
           0.7906193036740505,
           0.78767226446369,
           0.7826484780891567,
           0.7936280142424786,
           0.8001485211080978,
           0.8001438980064958,
           0.7989053594917643,
           0.7995398374060912,
           0.7860928758209118,
           0.7525443755975727,
           0.7967879606020128,
           0.8027513171192362,
           0.7959356827531124,
           0.6994971357341552,
           0.7914137125404057,
           0.7939714090124296,
           0.7923586512241364,
           0.7955444416138905,
           0.7985286624984569,
           0.7932172366126596,
           0.7743548875934144,
           0.7891346414209633,
           0.7993736588831786,
           0.7924973916503585,
           0.7924689689968673,
           0.8023930221708987,
           0.7942463605951607,
           0.8040479341214842,
           0.8071584724012422,
           0.7972833307918586,
           0.8052134546276518,
           0.8034760267631416,
           0.796454488328233,
           0.8011816216625707,
           0.8033799671824073,
           0.8041955739984029,
           0.8033615890827364,
           0.7910984319227264,
           0.7938674864551436,
           0.7941369405593622,
           0.7961757729348375,
           0.7989203089706527,
           0.7938025962499599,
           0.8022985927819717,
           0.8024462772838893,
           0.8041954831849087,
           0.7982607604625811,
           0.7031833340899777,
           0.8039199056340817,
           0.7983851260035643,
           0.7897761558570057,
           0.8011220107040368,
           0.8024540858300468,
           0.7946194140859687,
           0.7979480806795982,
           0.8039474602415531,
           0.7957141618101686,
           0.7971479215511758,
           0.7939181892932495,
           0.798973953424291,
           0.798391332474086,
           0.8028177510929837,
           0.7941980947473524,
           0.802590160317143,
           0.7820747960193277,
           0.8033721851530341,
           0.8033476055650471,
           0.8019734498432449,
           0.8032342389900288,
           0.7958075423174359,
           0.796924121733245,
           0.7968177743416751,
           0.799360659933605,
           0.7976756826895326
          ],
          "colorbar": {
           "title": {
            "text": "Objective Value"
           }
          },
          "colorscale": [
           [
            0,
            "rgb(247,251,255)"
           ],
           [
            0.125,
            "rgb(222,235,247)"
           ],
           [
            0.25,
            "rgb(198,219,239)"
           ],
           [
            0.375,
            "rgb(158,202,225)"
           ],
           [
            0.5,
            "rgb(107,174,214)"
           ],
           [
            0.625,
            "rgb(66,146,198)"
           ],
           [
            0.75,
            "rgb(33,113,181)"
           ],
           [
            0.875,
            "rgb(8,81,156)"
           ],
           [
            1,
            "rgb(8,48,107)"
           ]
          ],
          "reversescale": false,
          "showscale": true
         },
         "type": "parcoords"
        }
       ],
       "layout": {
        "template": {
         "data": {
          "bar": [
           {
            "error_x": {
             "color": "#2a3f5f"
            },
            "error_y": {
             "color": "#2a3f5f"
            },
            "marker": {
             "line": {
              "color": "#E5ECF6",
              "width": 0.5
             },
             "pattern": {
              "fillmode": "overlay",
              "size": 10,
              "solidity": 0.2
             }
            },
            "type": "bar"
           }
          ],
          "barpolar": [
           {
            "marker": {
             "line": {
              "color": "#E5ECF6",
              "width": 0.5
             },
             "pattern": {
              "fillmode": "overlay",
              "size": 10,
              "solidity": 0.2
             }
            },
            "type": "barpolar"
           }
          ],
          "carpet": [
           {
            "aaxis": {
             "endlinecolor": "#2a3f5f",
             "gridcolor": "white",
             "linecolor": "white",
             "minorgridcolor": "white",
             "startlinecolor": "#2a3f5f"
            },
            "baxis": {
             "endlinecolor": "#2a3f5f",
             "gridcolor": "white",
             "linecolor": "white",
             "minorgridcolor": "white",
             "startlinecolor": "#2a3f5f"
            },
            "type": "carpet"
           }
          ],
          "choropleth": [
           {
            "colorbar": {
             "outlinewidth": 0,
             "ticks": ""
            },
            "type": "choropleth"
           }
          ],
          "contour": [
           {
            "colorbar": {
             "outlinewidth": 0,
             "ticks": ""
            },
            "colorscale": [
             [
              0,
              "#0d0887"
             ],
             [
              0.1111111111111111,
              "#46039f"
             ],
             [
              0.2222222222222222,
              "#7201a8"
             ],
             [
              0.3333333333333333,
              "#9c179e"
             ],
             [
              0.4444444444444444,
              "#bd3786"
             ],
             [
              0.5555555555555556,
              "#d8576b"
             ],
             [
              0.6666666666666666,
              "#ed7953"
             ],
             [
              0.7777777777777778,
              "#fb9f3a"
             ],
             [
              0.8888888888888888,
              "#fdca26"
             ],
             [
              1,
              "#f0f921"
             ]
            ],
            "type": "contour"
           }
          ],
          "contourcarpet": [
           {
            "colorbar": {
             "outlinewidth": 0,
             "ticks": ""
            },
            "type": "contourcarpet"
           }
          ],
          "heatmap": [
           {
            "colorbar": {
             "outlinewidth": 0,
             "ticks": ""
            },
            "colorscale": [
             [
              0,
              "#0d0887"
             ],
             [
              0.1111111111111111,
              "#46039f"
             ],
             [
              0.2222222222222222,
              "#7201a8"
             ],
             [
              0.3333333333333333,
              "#9c179e"
             ],
             [
              0.4444444444444444,
              "#bd3786"
             ],
             [
              0.5555555555555556,
              "#d8576b"
             ],
             [
              0.6666666666666666,
              "#ed7953"
             ],
             [
              0.7777777777777778,
              "#fb9f3a"
             ],
             [
              0.8888888888888888,
              "#fdca26"
             ],
             [
              1,
              "#f0f921"
             ]
            ],
            "type": "heatmap"
           }
          ],
          "heatmapgl": [
           {
            "colorbar": {
             "outlinewidth": 0,
             "ticks": ""
            },
            "colorscale": [
             [
              0,
              "#0d0887"
             ],
             [
              0.1111111111111111,
              "#46039f"
             ],
             [
              0.2222222222222222,
              "#7201a8"
             ],
             [
              0.3333333333333333,
              "#9c179e"
             ],
             [
              0.4444444444444444,
              "#bd3786"
             ],
             [
              0.5555555555555556,
              "#d8576b"
             ],
             [
              0.6666666666666666,
              "#ed7953"
             ],
             [
              0.7777777777777778,
              "#fb9f3a"
             ],
             [
              0.8888888888888888,
              "#fdca26"
             ],
             [
              1,
              "#f0f921"
             ]
            ],
            "type": "heatmapgl"
           }
          ],
          "histogram": [
           {
            "marker": {
             "pattern": {
              "fillmode": "overlay",
              "size": 10,
              "solidity": 0.2
             }
            },
            "type": "histogram"
           }
          ],
          "histogram2d": [
           {
            "colorbar": {
             "outlinewidth": 0,
             "ticks": ""
            },
            "colorscale": [
             [
              0,
              "#0d0887"
             ],
             [
              0.1111111111111111,
              "#46039f"
             ],
             [
              0.2222222222222222,
              "#7201a8"
             ],
             [
              0.3333333333333333,
              "#9c179e"
             ],
             [
              0.4444444444444444,
              "#bd3786"
             ],
             [
              0.5555555555555556,
              "#d8576b"
             ],
             [
              0.6666666666666666,
              "#ed7953"
             ],
             [
              0.7777777777777778,
              "#fb9f3a"
             ],
             [
              0.8888888888888888,
              "#fdca26"
             ],
             [
              1,
              "#f0f921"
             ]
            ],
            "type": "histogram2d"
           }
          ],
          "histogram2dcontour": [
           {
            "colorbar": {
             "outlinewidth": 0,
             "ticks": ""
            },
            "colorscale": [
             [
              0,
              "#0d0887"
             ],
             [
              0.1111111111111111,
              "#46039f"
             ],
             [
              0.2222222222222222,
              "#7201a8"
             ],
             [
              0.3333333333333333,
              "#9c179e"
             ],
             [
              0.4444444444444444,
              "#bd3786"
             ],
             [
              0.5555555555555556,
              "#d8576b"
             ],
             [
              0.6666666666666666,
              "#ed7953"
             ],
             [
              0.7777777777777778,
              "#fb9f3a"
             ],
             [
              0.8888888888888888,
              "#fdca26"
             ],
             [
              1,
              "#f0f921"
             ]
            ],
            "type": "histogram2dcontour"
           }
          ],
          "mesh3d": [
           {
            "colorbar": {
             "outlinewidth": 0,
             "ticks": ""
            },
            "type": "mesh3d"
           }
          ],
          "parcoords": [
           {
            "line": {
             "colorbar": {
              "outlinewidth": 0,
              "ticks": ""
             }
            },
            "type": "parcoords"
           }
          ],
          "pie": [
           {
            "automargin": true,
            "type": "pie"
           }
          ],
          "scatter": [
           {
            "marker": {
             "colorbar": {
              "outlinewidth": 0,
              "ticks": ""
             }
            },
            "type": "scatter"
           }
          ],
          "scatter3d": [
           {
            "line": {
             "colorbar": {
              "outlinewidth": 0,
              "ticks": ""
             }
            },
            "marker": {
             "colorbar": {
              "outlinewidth": 0,
              "ticks": ""
             }
            },
            "type": "scatter3d"
           }
          ],
          "scattercarpet": [
           {
            "marker": {
             "colorbar": {
              "outlinewidth": 0,
              "ticks": ""
             }
            },
            "type": "scattercarpet"
           }
          ],
          "scattergeo": [
           {
            "marker": {
             "colorbar": {
              "outlinewidth": 0,
              "ticks": ""
             }
            },
            "type": "scattergeo"
           }
          ],
          "scattergl": [
           {
            "marker": {
             "colorbar": {
              "outlinewidth": 0,
              "ticks": ""
             }
            },
            "type": "scattergl"
           }
          ],
          "scattermapbox": [
           {
            "marker": {
             "colorbar": {
              "outlinewidth": 0,
              "ticks": ""
             }
            },
            "type": "scattermapbox"
           }
          ],
          "scatterpolar": [
           {
            "marker": {
             "colorbar": {
              "outlinewidth": 0,
              "ticks": ""
             }
            },
            "type": "scatterpolar"
           }
          ],
          "scatterpolargl": [
           {
            "marker": {
             "colorbar": {
              "outlinewidth": 0,
              "ticks": ""
             }
            },
            "type": "scatterpolargl"
           }
          ],
          "scatterternary": [
           {
            "marker": {
             "colorbar": {
              "outlinewidth": 0,
              "ticks": ""
             }
            },
            "type": "scatterternary"
           }
          ],
          "surface": [
           {
            "colorbar": {
             "outlinewidth": 0,
             "ticks": ""
            },
            "colorscale": [
             [
              0,
              "#0d0887"
             ],
             [
              0.1111111111111111,
              "#46039f"
             ],
             [
              0.2222222222222222,
              "#7201a8"
             ],
             [
              0.3333333333333333,
              "#9c179e"
             ],
             [
              0.4444444444444444,
              "#bd3786"
             ],
             [
              0.5555555555555556,
              "#d8576b"
             ],
             [
              0.6666666666666666,
              "#ed7953"
             ],
             [
              0.7777777777777778,
              "#fb9f3a"
             ],
             [
              0.8888888888888888,
              "#fdca26"
             ],
             [
              1,
              "#f0f921"
             ]
            ],
            "type": "surface"
           }
          ],
          "table": [
           {
            "cells": {
             "fill": {
              "color": "#EBF0F8"
             },
             "line": {
              "color": "white"
             }
            },
            "header": {
             "fill": {
              "color": "#C8D4E3"
             },
             "line": {
              "color": "white"
             }
            },
            "type": "table"
           }
          ]
         },
         "layout": {
          "annotationdefaults": {
           "arrowcolor": "#2a3f5f",
           "arrowhead": 0,
           "arrowwidth": 1
          },
          "autotypenumbers": "strict",
          "coloraxis": {
           "colorbar": {
            "outlinewidth": 0,
            "ticks": ""
           }
          },
          "colorscale": {
           "diverging": [
            [
             0,
             "#8e0152"
            ],
            [
             0.1,
             "#c51b7d"
            ],
            [
             0.2,
             "#de77ae"
            ],
            [
             0.3,
             "#f1b6da"
            ],
            [
             0.4,
             "#fde0ef"
            ],
            [
             0.5,
             "#f7f7f7"
            ],
            [
             0.6,
             "#e6f5d0"
            ],
            [
             0.7,
             "#b8e186"
            ],
            [
             0.8,
             "#7fbc41"
            ],
            [
             0.9,
             "#4d9221"
            ],
            [
             1,
             "#276419"
            ]
           ],
           "sequential": [
            [
             0,
             "#0d0887"
            ],
            [
             0.1111111111111111,
             "#46039f"
            ],
            [
             0.2222222222222222,
             "#7201a8"
            ],
            [
             0.3333333333333333,
             "#9c179e"
            ],
            [
             0.4444444444444444,
             "#bd3786"
            ],
            [
             0.5555555555555556,
             "#d8576b"
            ],
            [
             0.6666666666666666,
             "#ed7953"
            ],
            [
             0.7777777777777778,
             "#fb9f3a"
            ],
            [
             0.8888888888888888,
             "#fdca26"
            ],
            [
             1,
             "#f0f921"
            ]
           ],
           "sequentialminus": [
            [
             0,
             "#0d0887"
            ],
            [
             0.1111111111111111,
             "#46039f"
            ],
            [
             0.2222222222222222,
             "#7201a8"
            ],
            [
             0.3333333333333333,
             "#9c179e"
            ],
            [
             0.4444444444444444,
             "#bd3786"
            ],
            [
             0.5555555555555556,
             "#d8576b"
            ],
            [
             0.6666666666666666,
             "#ed7953"
            ],
            [
             0.7777777777777778,
             "#fb9f3a"
            ],
            [
             0.8888888888888888,
             "#fdca26"
            ],
            [
             1,
             "#f0f921"
            ]
           ]
          },
          "colorway": [
           "#636efa",
           "#EF553B",
           "#00cc96",
           "#ab63fa",
           "#FFA15A",
           "#19d3f3",
           "#FF6692",
           "#B6E880",
           "#FF97FF",
           "#FECB52"
          ],
          "font": {
           "color": "#2a3f5f"
          },
          "geo": {
           "bgcolor": "white",
           "lakecolor": "white",
           "landcolor": "#E5ECF6",
           "showlakes": true,
           "showland": true,
           "subunitcolor": "white"
          },
          "hoverlabel": {
           "align": "left"
          },
          "hovermode": "closest",
          "mapbox": {
           "style": "light"
          },
          "paper_bgcolor": "white",
          "plot_bgcolor": "#E5ECF6",
          "polar": {
           "angularaxis": {
            "gridcolor": "white",
            "linecolor": "white",
            "ticks": ""
           },
           "bgcolor": "#E5ECF6",
           "radialaxis": {
            "gridcolor": "white",
            "linecolor": "white",
            "ticks": ""
           }
          },
          "scene": {
           "xaxis": {
            "backgroundcolor": "#E5ECF6",
            "gridcolor": "white",
            "gridwidth": 2,
            "linecolor": "white",
            "showbackground": true,
            "ticks": "",
            "zerolinecolor": "white"
           },
           "yaxis": {
            "backgroundcolor": "#E5ECF6",
            "gridcolor": "white",
            "gridwidth": 2,
            "linecolor": "white",
            "showbackground": true,
            "ticks": "",
            "zerolinecolor": "white"
           },
           "zaxis": {
            "backgroundcolor": "#E5ECF6",
            "gridcolor": "white",
            "gridwidth": 2,
            "linecolor": "white",
            "showbackground": true,
            "ticks": "",
            "zerolinecolor": "white"
           }
          },
          "shapedefaults": {
           "line": {
            "color": "#2a3f5f"
           }
          },
          "ternary": {
           "aaxis": {
            "gridcolor": "white",
            "linecolor": "white",
            "ticks": ""
           },
           "baxis": {
            "gridcolor": "white",
            "linecolor": "white",
            "ticks": ""
           },
           "bgcolor": "#E5ECF6",
           "caxis": {
            "gridcolor": "white",
            "linecolor": "white",
            "ticks": ""
           }
          },
          "title": {
           "x": 0.05
          },
          "xaxis": {
           "automargin": true,
           "gridcolor": "white",
           "linecolor": "white",
           "ticks": "",
           "title": {
            "standoff": 15
           },
           "zerolinecolor": "white",
           "zerolinewidth": 2
          },
          "yaxis": {
           "automargin": true,
           "gridcolor": "white",
           "linecolor": "white",
           "ticks": "",
           "title": {
            "standoff": 15
           },
           "zerolinecolor": "white",
           "zerolinewidth": 2
          }
         }
        },
        "title": {
         "text": "Parallel Coordinate Plot"
        }
       }
      }
     },
     "metadata": {},
     "output_type": "display_data"
    }
   ],
   "source": [
    "optuna.visualization.plot_parallel_coordinate(study)"
   ]
  },
  {
   "cell_type": "code",
   "execution_count": 58,
   "id": "1d419df8",
   "metadata": {},
   "outputs": [
    {
     "name": "stdout",
     "output_type": "stream",
     "text": [
      "Best trial: {'n_estimators': 927, 'max_depth': 8, 'num_leaves': 31, 'min_child_samples': 9, 'num_iterations': 647}\n"
     ]
    },
    {
     "data": {
      "text/plain": [
       "927"
      ]
     },
     "execution_count": 58,
     "metadata": {},
     "output_type": "execute_result"
    }
   ],
   "source": [
    "print(\"Best trial:\", study.best_trial.params)\n",
    "study.best_trial.params[\"n_estimators\"]"
   ]
  },
  {
   "cell_type": "code",
   "execution_count": 59,
   "id": "ffefef6c",
   "metadata": {},
   "outputs": [
    {
     "name": "stdout",
     "output_type": "stream",
     "text": [
      "[LightGBM] [Warning] Accuracy may be bad since you didn't explicitly set num_leaves OR 2^max_depth > num_leaves. (num_leaves=31).\n"
     ]
    },
    {
     "data": {
      "text/html": [
       "<style>#sk-container-id-3 {color: black;}#sk-container-id-3 pre{padding: 0;}#sk-container-id-3 div.sk-toggleable {background-color: white;}#sk-container-id-3 label.sk-toggleable__label {cursor: pointer;display: block;width: 100%;margin-bottom: 0;padding: 0.3em;box-sizing: border-box;text-align: center;}#sk-container-id-3 label.sk-toggleable__label-arrow:before {content: \"▸\";float: left;margin-right: 0.25em;color: #696969;}#sk-container-id-3 label.sk-toggleable__label-arrow:hover:before {color: black;}#sk-container-id-3 div.sk-estimator:hover label.sk-toggleable__label-arrow:before {color: black;}#sk-container-id-3 div.sk-toggleable__content {max-height: 0;max-width: 0;overflow: hidden;text-align: left;background-color: #f0f8ff;}#sk-container-id-3 div.sk-toggleable__content pre {margin: 0.2em;color: black;border-radius: 0.25em;background-color: #f0f8ff;}#sk-container-id-3 input.sk-toggleable__control:checked~div.sk-toggleable__content {max-height: 200px;max-width: 100%;overflow: auto;}#sk-container-id-3 input.sk-toggleable__control:checked~label.sk-toggleable__label-arrow:before {content: \"▾\";}#sk-container-id-3 div.sk-estimator input.sk-toggleable__control:checked~label.sk-toggleable__label {background-color: #d4ebff;}#sk-container-id-3 div.sk-label input.sk-toggleable__control:checked~label.sk-toggleable__label {background-color: #d4ebff;}#sk-container-id-3 input.sk-hidden--visually {border: 0;clip: rect(1px 1px 1px 1px);clip: rect(1px, 1px, 1px, 1px);height: 1px;margin: -1px;overflow: hidden;padding: 0;position: absolute;width: 1px;}#sk-container-id-3 div.sk-estimator {font-family: monospace;background-color: #f0f8ff;border: 1px dotted black;border-radius: 0.25em;box-sizing: border-box;margin-bottom: 0.5em;}#sk-container-id-3 div.sk-estimator:hover {background-color: #d4ebff;}#sk-container-id-3 div.sk-parallel-item::after {content: \"\";width: 100%;border-bottom: 1px solid gray;flex-grow: 1;}#sk-container-id-3 div.sk-label:hover label.sk-toggleable__label {background-color: #d4ebff;}#sk-container-id-3 div.sk-serial::before {content: \"\";position: absolute;border-left: 1px solid gray;box-sizing: border-box;top: 0;bottom: 0;left: 50%;z-index: 0;}#sk-container-id-3 div.sk-serial {display: flex;flex-direction: column;align-items: center;background-color: white;padding-right: 0.2em;padding-left: 0.2em;position: relative;}#sk-container-id-3 div.sk-item {position: relative;z-index: 1;}#sk-container-id-3 div.sk-parallel {display: flex;align-items: stretch;justify-content: center;background-color: white;position: relative;}#sk-container-id-3 div.sk-item::before, #sk-container-id-3 div.sk-parallel-item::before {content: \"\";position: absolute;border-left: 1px solid gray;box-sizing: border-box;top: 0;bottom: 0;left: 50%;z-index: -1;}#sk-container-id-3 div.sk-parallel-item {display: flex;flex-direction: column;z-index: 1;position: relative;background-color: white;}#sk-container-id-3 div.sk-parallel-item:first-child::after {align-self: flex-end;width: 50%;}#sk-container-id-3 div.sk-parallel-item:last-child::after {align-self: flex-start;width: 50%;}#sk-container-id-3 div.sk-parallel-item:only-child::after {width: 0;}#sk-container-id-3 div.sk-dashed-wrapped {border: 1px dashed gray;margin: 0 0.4em 0.5em 0.4em;box-sizing: border-box;padding-bottom: 0.4em;background-color: white;}#sk-container-id-3 div.sk-label label {font-family: monospace;font-weight: bold;display: inline-block;line-height: 1.2em;}#sk-container-id-3 div.sk-label-container {text-align: center;}#sk-container-id-3 div.sk-container {/* jupyter's `normalize.less` sets `[hidden] { display: none; }` but bootstrap.min.css set `[hidden] { display: none !important; }` so we also need the `!important` here to be able to override the default hidden behavior on the sphinx rendered scikit-learn.org. See: https://github.com/scikit-learn/scikit-learn/issues/21755 */display: inline-block !important;position: relative;}#sk-container-id-3 div.sk-text-repr-fallback {display: none;}</style><div id=\"sk-container-id-3\" class=\"sk-top-container\"><div class=\"sk-text-repr-fallback\"><pre>LGBMRegressor(max_depth=8, min_child_samples=9, n_estimators=927,\n",
       "              num_iterations=647, random_state=42)</pre><b>In a Jupyter environment, please rerun this cell to show the HTML representation or trust the notebook. <br />On GitHub, the HTML representation is unable to render, please try loading this page with nbviewer.org.</b></div><div class=\"sk-container\" hidden><div class=\"sk-item\"><div class=\"sk-estimator sk-toggleable\"><input class=\"sk-toggleable__control sk-hidden--visually\" id=\"sk-estimator-id-3\" type=\"checkbox\" checked><label for=\"sk-estimator-id-3\" class=\"sk-toggleable__label sk-toggleable__label-arrow\">LGBMRegressor</label><div class=\"sk-toggleable__content\"><pre>LGBMRegressor(max_depth=8, min_child_samples=9, n_estimators=927,\n",
       "              num_iterations=647, random_state=42)</pre></div></div></div></div></div>"
      ],
      "text/plain": [
       "LGBMRegressor(max_depth=8, min_child_samples=9, n_estimators=927,\n",
       "              num_iterations=647, random_state=42)"
      ]
     },
     "execution_count": 59,
     "metadata": {},
     "output_type": "execute_result"
    }
   ],
   "source": [
    "lgbm_params = {\n",
    "    \"random_state\": 42,\n",
    "    \"learning_rate\": 0.1,\n",
    "    \"n_estimators\": study.best_trial.params[\"n_estimators\"],\n",
    "    \"max_depth\": study.best_trial.params[\"max_depth\"],\n",
    "    \"num_leaves\": study.best_trial.params[\"num_leaves\"],\n",
    "    \"min_child_samples\": study.best_trial.params[\"min_child_samples\"],\n",
    "    \"num_iterations\": study.best_trial.params[\"num_iterations\"]\n",
    "}\n",
    "\n",
    "lgbm = LGBMRegressor(**lgbm_params)\n",
    "lgbm.fit(Ni_X_train, Ni_y_train)"
   ]
  },
  {
   "cell_type": "code",
   "execution_count": 60,
   "id": "4c1a69d2",
   "metadata": {},
   "outputs": [],
   "source": [
    "y_train_pred = lgbm.predict(Ni_X_train)\n",
    "y_test_pred = lgbm.predict(Ni_X_test)"
   ]
  },
  {
   "cell_type": "code",
   "execution_count": 61,
   "id": "0f707a20",
   "metadata": {},
   "outputs": [
    {
     "name": "stdout",
     "output_type": "stream",
     "text": [
      "Train RMSE:  0.016668731178507114\n",
      "Test RMSE:  0.685631763830245\n"
     ]
    }
   ],
   "source": [
    "print(\"Train RMSE: \", np.sqrt(mean_squared_error(Ni_y_train, y_train_pred)))\n",
    "print(\"Test RMSE: \", np.sqrt(mean_squared_error(Ni_y_test, y_test_pred)))"
   ]
  },
  {
   "cell_type": "code",
   "execution_count": 62,
   "id": "641d78f4",
   "metadata": {},
   "outputs": [
    {
     "name": "stdout",
     "output_type": "stream",
     "text": [
      "Train R2:  0.9998166855196098\n",
      "Test R2:  0.6555555612535807\n"
     ]
    }
   ],
   "source": [
    "print(\"Train R2: \", r2_score(Ni_y_train, y_train_pred))\n",
    "print(\"Test R2: \", r2_score(Ni_y_test, y_test_pred))"
   ]
  },
  {
   "cell_type": "code",
   "execution_count": 63,
   "id": "badc2f1d",
   "metadata": {},
   "outputs": [
    {
     "data": {
      "image/png": "[encoded data removed]",
      "text/plain": [
       "<Figure size 640x480 with 1 Axes>"
      ]
     },
     "metadata": {},
     "output_type": "display_data"
    }
   ],
   "source": [
    "plt.scatter(y_train_pred, np.array(Ni_y_train), color=\"orange\", alpha=0.3)\n",
    "plt.scatter(y_test_pred, np.array(Ni_y_test), color=\"green\", alpha=0.4)\n",
    "plt.axis(\"auto\") # scaled, tight, auto, image, square\n",
    "# plt.xlim([0, 1.5]) \n",
    "# plt.ylim(0, None) \n",
    "plt.xlabel('Predicted Values')\n",
    "plt.ylabel('Actual Values')\n",
    "\n",
    "# Add y=x line\n",
    "plt.plot([0, 4.0], [0, 4.0], color='red', linestyle='-')\n",
    "\n",
    "plt.show()"
   ]
  }
 ],
 "metadata": {
  "kernelspec": {
   "display_name": "Python 3",
   "language": "python",
   "name": "python3"
  },
  "language_info": {
   "codemirror_mode": {
    "name": "ipython",
    "version": 3
   },
   "file_extension": ".py",
   "mimetype": "text/x-python",
   "name": "python",
   "nbconvert_exporter": "python",
   "pygments_lexer": "ipython3",
   "version": "3.8.11"
  }
 },
 "nbformat": 4,
 "nbformat_minor": 5
}
