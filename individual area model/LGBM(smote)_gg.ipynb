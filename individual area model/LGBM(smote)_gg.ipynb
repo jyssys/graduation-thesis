{
 "cells": [
  {
   "attachments": {},
   "cell_type": "markdown",
   "id": "451911be",
   "metadata": {},
   "source": [
    "#### Library import"
   ]
  },
  {
   "cell_type": "code",
   "execution_count": 26,
   "id": "8a394942",
   "metadata": {},
   "outputs": [],
   "source": [
    "import os\n",
    "import pandas as pd\n",
    "import numpy as np\n",
    "import matplotlib.pyplot as plt\n",
    "%matplotlib inline\n",
    "import seaborn as sns\n",
    "import tensorflow as tf\n",
    "import missingno as msno\n",
    "\n",
    "import warnings\n",
    "warnings.filterwarnings('ignore')\n",
    "\n",
    "from sklearn.model_selection import train_test_split\n",
    "from sklearn.model_selection import GridSearchCV\n",
    "from sklearn.metrics import mean_squared_error, r2_score\n",
    "from sklearn.preprocessing import StandardScaler, MinMaxScaler, RobustScaler\n",
    "from sklearn.ensemble import RandomForestRegressor, GradientBoostingRegressor, ExtraTreesRegressor\n",
    "from sklearn.model_selection import KFold\n",
    "from lightgbm import LGBMRegressor\n",
    "from xgboost import XGBRegressor\n",
    "from ngboost import NGBRegressor\n",
    "from scipy.stats import norm, skew\n",
    "\n",
    "from matplotlib.ticker import FormatStrFormatter\n",
    "\n",
    "import re\n",
    "from tqdm import tqdm"
   ]
  },
  {
   "attachments": {},
   "cell_type": "markdown",
   "id": "31a13d68",
   "metadata": {},
   "source": [
    "#### GPU setting"
   ]
  },
  {
   "cell_type": "code",
   "execution_count": 27,
   "id": "0ff69fbf",
   "metadata": {},
   "outputs": [],
   "source": [
    "from tensorflow.compat.v1 import ConfigProto\n",
    "from tensorflow.compat.v1 import InteractiveSession"
   ]
  },
  {
   "cell_type": "code",
   "execution_count": 28,
   "id": "1c359e17",
   "metadata": {},
   "outputs": [],
   "source": [
    "config = ConfigProto()\n",
    "config.gpu_options.per_process_gpu_memory_fraction = 0.4\n",
    "session = InteractiveSession(config = config)"
   ]
  },
  {
   "cell_type": "code",
   "execution_count": 29,
   "id": "c1894e3b",
   "metadata": {},
   "outputs": [
    {
     "name": "stdout",
     "output_type": "stream",
     "text": [
      "[name: \"/device:CPU:0\"\n",
      "device_type: \"CPU\"\n",
      "memory_limit: 268435456\n",
      "locality {\n",
      "}\n",
      "incarnation: 5753639343699152511\n",
      ", name: \"/device:GPU:0\"\n",
      "device_type: \"GPU\"\n",
      "memory_limit: 3435973836\n",
      "locality {\n",
      "  bus_id: 1\n",
      "  links {\n",
      "  }\n",
      "}\n",
      "incarnation: 10577806845032008376\n",
      "physical_device_desc: \"device: 0, name: NVIDIA GeForce RTX 3060 Ti, pci bus id: 0000:07:00.0, compute capability: 8.6\"\n",
      "]\n"
     ]
    }
   ],
   "source": [
    "physical_devices = tf.config.list_physical_devices('GPU')\n",
    "physical_devices\n",
    "\n",
    "from tensorflow.python.client import device_lib\n",
    "\n",
    "print(device_lib.list_local_devices())"
   ]
  },
  {
   "cell_type": "code",
   "execution_count": 30,
   "id": "324427e4",
   "metadata": {},
   "outputs": [],
   "source": [
    "import os\n",
    "\n",
    "os.environ[\"CUDA_VISIBLE_DEVICES\"]=\"0\"\n",
    "gpus = tf.config.experimental.list_physical_devices('GPU')\n",
    "if gpus:\n",
    "    try:\n",
    "        tf.config.experimental.set_memory_growth(gpus[0], True)\n",
    "    except RuntimeError as e:\n",
    "        print(e)"
   ]
  },
  {
   "attachments": {},
   "cell_type": "markdown",
   "id": "cb740f81",
   "metadata": {},
   "source": [
    "#### Data import and preprocessing"
   ]
  },
  {
   "cell_type": "code",
   "execution_count": 31,
   "id": "9288345d",
   "metadata": {
    "scrolled": true
   },
   "outputs": [
    {
     "data": {
      "text/plain": [
       "Index(['OBJECTID_x', 'ID', 'pH', 'As', 'Cd', 'Ni', 'Pb', 'Zn', 'Hg', 'slope',\n",
       "       'altitude', 'profile_curve', 'profile_c_num', 'profile_c_abs',\n",
       "       'planform_curve', 'planform_c_num', 'planform_c_abs', 'HYDGRP',\n",
       "       'HYDGRP_A', 'HYDGRP_B', 'HYDGRP_C', 'HYDGRP_D', 'ANION_EXCL', 'SOL_CRK',\n",
       "       'SOL_K1', 'CLAY1', 'SILT1', 'SAND1', 'ROCK1', 'SOL_EC1', 'distance'],\n",
       "      dtype='object')"
      ]
     },
     "execution_count": 31,
     "metadata": {},
     "output_type": "execute_result"
    }
   ],
   "source": [
    "data = pd.read_csv(\"data/data_gg.csv\")\n",
    "data.columns"
   ]
  },
  {
   "cell_type": "code",
   "execution_count": 32,
   "id": "bbf87a23",
   "metadata": {},
   "outputs": [
    {
     "data": {
      "text/plain": [
       "Index(['pH', 'As', 'Cd', 'Ni', 'Pb', 'Zn', 'Hg', 'slope', 'altitude',\n",
       "       'profile_curve', 'planform_curve', 'HYDGRP_A', 'HYDGRP_B', 'HYDGRP_C',\n",
       "       'HYDGRP_D', 'SOL_K1', 'CLAY1', 'SILT1', 'SAND1', 'ROCK1', 'distance'],\n",
       "      dtype='object')"
      ]
     },
     "execution_count": 32,
     "metadata": {},
     "output_type": "execute_result"
    }
   ],
   "source": [
    "data = data.drop(['OBJECTID_x','ID','HYDGRP','profile_c_num', 'profile_c_abs','planform_c_num', 'planform_c_abs','ANION_EXCL','SOL_CRK','SOL_EC1'], axis = 1)\n",
    "data.columns"
   ]
  },
  {
   "cell_type": "code",
   "execution_count": 33,
   "id": "8d9bad18",
   "metadata": {},
   "outputs": [],
   "source": [
    "As = data\n",
    "Cd = data\n",
    "Ni = data"
   ]
  },
  {
   "cell_type": "code",
   "execution_count": 34,
   "id": "b1dbe457",
   "metadata": {},
   "outputs": [],
   "source": [
    "As = As.drop([\"Cd\", \"Ni\", \"Pb\", \"Zn\", \"Hg\"], axis = 1)\n",
    "Cd = Cd.drop([\"As\", \"Ni\", \"Pb\", \"Zn\", \"Hg\"], axis = 1)\n",
    "Ni = Ni.drop([\"As\", \"Cd\", \"Pb\", \"Zn\", \"Hg\"], axis = 1)"
   ]
  },
  {
   "cell_type": "code",
   "execution_count": 35,
   "id": "3077737a",
   "metadata": {},
   "outputs": [
    {
     "name": "stdout",
     "output_type": "stream",
     "text": [
      "(781, 16)\n",
      "(781, 16)\n",
      "(781, 16)\n"
     ]
    }
   ],
   "source": [
    "print(As.shape)\n",
    "print(Cd.shape)\n",
    "print(Ni.shape)"
   ]
  },
  {
   "cell_type": "markdown",
   "id": "89adead2",
   "metadata": {},
   "source": [
    "#### Oversampling by SMOGN (SMOTE Regression)"
   ]
  },
  {
   "cell_type": "code",
   "execution_count": 36,
   "id": "d0a159ca",
   "metadata": {},
   "outputs": [],
   "source": [
    "import smogn"
   ]
  },
  {
   "cell_type": "code",
   "execution_count": 37,
   "id": "d5fd8af3",
   "metadata": {},
   "outputs": [
    {
     "name": "stderr",
     "output_type": "stream",
     "text": [
      "dist_matrix:   3%|2         | 4/148 [00:00<00:08, 16.49it/s]"
     ]
    },
    {
     "name": "stderr",
     "output_type": "stream",
     "text": [
      "dist_matrix: 100%|##########| 148/148 [00:08<00:00, 17.63it/s]\n",
      "synth_matrix: 100%|##########| 148/148 [00:00<00:00, 189.46it/s]\n",
      "r_index: 100%|##########| 44/44 [00:00<00:00, 489.38it/s]\n",
      "dist_matrix: 100%|##########| 88/88 [00:03<00:00, 25.35it/s]\n",
      "synth_matrix: 100%|##########| 88/88 [00:01<00:00, 83.86it/s]\n",
      "r_index: 100%|##########| 79/79 [00:00<00:00, 530.08it/s]\n",
      "dist_matrix: 100%|##########| 115/115 [00:05<00:00, 20.91it/s]\n",
      "synth_matrix: 100%|##########| 115/115 [00:00<00:00, 145.94it/s]\n",
      "r_index: 100%|##########| 91/91 [00:00<00:00, 576.66it/s]\n"
     ]
    }
   ],
   "source": [
    "As_smogn = smogn.smoter(data = As, y = 'As', samp_method = 'extreme')\n",
    "Cd_smogn = smogn.smoter(data = Cd, y = 'Cd', samp_method = 'extreme')\n",
    "Ni_smogn = smogn.smoter(data = Ni, y = 'Ni', samp_method = 'extreme')"
   ]
  },
  {
   "cell_type": "code",
   "execution_count": 38,
   "id": "ea3035fe",
   "metadata": {},
   "outputs": [
    {
     "name": "stdout",
     "output_type": "stream",
     "text": [
      "(1143, 16)\n",
      "(1319, 16)\n",
      "(1199, 16)\n"
     ]
    }
   ],
   "source": [
    "print(As_smogn.shape)\n",
    "print(Cd_smogn.shape)\n",
    "print(Ni_smogn.shape)"
   ]
  },
  {
   "attachments": {},
   "cell_type": "markdown",
   "id": "ed72a9b1",
   "metadata": {},
   "source": [
    "#### Eliminate outlier and train / test split"
   ]
  },
  {
   "cell_type": "code",
   "execution_count": 39,
   "id": "43604a42",
   "metadata": {},
   "outputs": [],
   "source": [
    "def eli_outlier(data, value):\n",
    "    q1 = data[value].quantile(0.25)\n",
    "    q3 = data[value].quantile(0.75)\n",
    "\n",
    "    iqr = q3 - q1\n",
    "\n",
    "    q1_condition = data[value] < q1-1.5*iqr\n",
    "    q3_condition = data[value] > q3+1.5*iqr\n",
    "\n",
    "    reset_q1_index = data[q1_condition].index\n",
    "    reset_q3_index = data[q3_condition].index\n",
    "\n",
    "    data.drop(reset_q1_index, inplace = True)\n",
    "    data.drop(reset_q3_index, inplace = True)\n",
    "\n",
    "    return data"
   ]
  },
  {
   "cell_type": "code",
   "execution_count": 40,
   "id": "9b7632f2",
   "metadata": {},
   "outputs": [],
   "source": [
    "As_ros = eli_outlier(As_smogn, \"As\")\n",
    "Cd_ros = eli_outlier(Cd_smogn, \"Cd\")\n",
    "Ni_ros = eli_outlier(Ni_smogn, \"Ni\")"
   ]
  },
  {
   "cell_type": "code",
   "execution_count": 41,
   "id": "c05c01a2",
   "metadata": {},
   "outputs": [],
   "source": [
    "As_X = As_ros.drop([\"As\"], axis=1)\n",
    "Cd_X = Cd_ros.drop([\"Cd\"], axis=1)\n",
    "Ni_X = Ni_ros.drop([\"Ni\"], axis=1)\n",
    "\n",
    "As_y = As_ros[\"As\"]\n",
    "Cd_y = Cd_ros[\"Cd\"]\n",
    "Ni_y = Ni_ros[\"Ni\"]"
   ]
  },
  {
   "cell_type": "code",
   "execution_count": 42,
   "id": "7237a19a",
   "metadata": {},
   "outputs": [],
   "source": [
    "As_y = np.log1p(As_ros[\"As\"])\n",
    "Cd_y = np.log1p(Cd_ros[\"Cd\"])\n",
    "Ni_y = np.log1p(Ni_ros[\"Ni\"])"
   ]
  },
  {
   "cell_type": "code",
   "execution_count": 43,
   "id": "9b2b0920",
   "metadata": {},
   "outputs": [
    {
     "name": "stdout",
     "output_type": "stream",
     "text": [
      "(876, 15)\n",
      "(1224, 15)\n",
      "(1093, 15)\n"
     ]
    }
   ],
   "source": [
    "print(As_X.shape)\n",
    "print(Cd_X.shape)\n",
    "print(Ni_X.shape)"
   ]
  },
  {
   "attachments": {},
   "cell_type": "markdown",
   "id": "c92e5bb6",
   "metadata": {},
   "source": [
    "StandardScaler"
   ]
  },
  {
   "cell_type": "code",
   "execution_count": 44,
   "id": "416a7027",
   "metadata": {},
   "outputs": [],
   "source": [
    "from sklearn.preprocessing import StandardScaler\n",
    "\n",
    "scaler = StandardScaler()\n",
    "As_X_scaled = scaler.fit_transform(As_X)\n",
    "Cd_X_scaled = scaler.fit_transform(Cd_X)\n",
    "Ni_X_scaled = scaler.fit_transform(Ni_X)\n",
    "\n",
    "As_X_train, As_X_test, As_y_train, As_y_test = train_test_split(As_X_scaled, As_y, test_size=0.3, random_state=42)\n",
    "Cd_X_train, Cd_X_test, Cd_y_train, Cd_y_test = train_test_split(Cd_X_scaled, Cd_y, test_size=0.3, random_state=42)\n",
    "Ni_X_train, Ni_X_test, Ni_y_train, Ni_y_test = train_test_split(Ni_X_scaled, Ni_y, test_size=0.3, random_state=42)"
   ]
  },
  {
   "attachments": {},
   "cell_type": "markdown",
   "id": "2fe0d293",
   "metadata": {},
   "source": [
    "MinMaxScaler"
   ]
  },
  {
   "cell_type": "code",
   "execution_count": 45,
   "id": "e8596f9f",
   "metadata": {},
   "outputs": [],
   "source": [
    "# from sklearn.preprocessing import MinMaxScaler\n",
    "\n",
    "# scaler = MinMaxScaler()\n",
    "# As_X_scaled = scaler.fit_transform(As_X)\n",
    "# Cd_X_scaled = scaler.fit_transform(Cd_X)\n",
    "# Ni_X_scaled = scaler.fit_transform(Ni_X)\n",
    "\n",
    "# As_X_train, As_X_test, As_y_train, As_y_test = train_test_split(As_X_scaled, As_y, test_size=0.2, random_state=42)\n",
    "# Cd_X_train, Cd_X_test, Cd_y_train, Cd_y_test = train_test_split(Cd_X_scaled, Cd_y, test_size=0.2, random_state=42)\n",
    "# Ni_X_train, Ni_X_test, Ni_y_train, Ni_y_test = train_test_split(Ni_X_scaled, Ni_y, test_size=0.2, random_state=42)"
   ]
  },
  {
   "cell_type": "code",
   "execution_count": 46,
   "id": "c6cad4b1",
   "metadata": {},
   "outputs": [
    {
     "name": "stdout",
     "output_type": "stream",
     "text": [
      "(613, 15)\n",
      "(856, 15)\n",
      "(765, 15)\n"
     ]
    }
   ],
   "source": [
    "print(As_X_train.shape)\n",
    "print(Cd_X_train.shape)\n",
    "print(Ni_X_train.shape)"
   ]
  },
  {
   "attachments": {},
   "cell_type": "markdown",
   "id": "bd11b27e",
   "metadata": {},
   "source": [
    "#### 10-Fold Crossvalidation"
   ]
  },
  {
   "cell_type": "code",
   "execution_count": 47,
   "id": "7a765916",
   "metadata": {},
   "outputs": [],
   "source": [
    "kf = KFold(n_splits = 5, random_state = 42, shuffle = True)"
   ]
  },
  {
   "attachments": {},
   "cell_type": "markdown",
   "id": "859638d0",
   "metadata": {},
   "source": [
    "#### Optuna Optimization"
   ]
  },
  {
   "cell_type": "code",
   "execution_count": 48,
   "id": "92a47d83",
   "metadata": {},
   "outputs": [],
   "source": [
    "import optuna\n",
    "\n",
    "from optuna import Trial\n",
    "from optuna.samplers import TPESampler"
   ]
  },
  {
   "cell_type": "code",
   "execution_count": 49,
   "id": "a7669fea",
   "metadata": {},
   "outputs": [],
   "source": [
    "from sklearn.model_selection import cross_val_score\n",
    "\n",
    "def objectiveLGBM(trial: Trial, X_train, y_train) -> float:\n",
    "    lgbm_paramas = {\n",
    "        \"random_state\": 42,\n",
    "        \"learning_rate\": 0.1, \n",
    "        \"n_estimators\": trial.suggest_int(\"n_estimators\", 500, 1000),\n",
    "        \"max_depth\": trial.suggest_int(\"max_depth\", 1, 30),\n",
    "        \"num_leaves\": trial.suggest_int(\"num_leaves\", 2, 32),\n",
    "        \"min_child_samples\": trial.suggest_int(\"min_child_samples\", 1, 10),\n",
    "        \"num_iterations\": trial.suggest_int(\"num_iterations\", 500, 1000)\n",
    "    }\n",
    "    \n",
    "    lgbm = LGBMRegressor(**lgbm_paramas)\n",
    "    r2 = cross_val_score(lgbm, X_train, y_train, scoring = \"r2\", cv = kf)\n",
    "    r2 = r2.mean()\n",
    "    \n",
    "    return r2"
   ]
  },
  {
   "attachments": {},
   "cell_type": "markdown",
   "id": "b0988f46",
   "metadata": {},
   "source": [
    "####  Optimization"
   ]
  },
  {
   "cell_type": "code",
   "execution_count": 50,
   "id": "94f5e00d",
   "metadata": {
    "scrolled": false
   },
   "outputs": [
    {
     "name": "stderr",
     "output_type": "stream",
     "text": [
      "\u001b[32m[I 2023-08-17 22:37:31,232]\u001b[0m A new study created in memory with name: lgbm_parameter_opt\u001b[0m\n",
      "\u001b[32m[I 2023-08-17 22:37:35,616]\u001b[0m Trial 0 finished with value: 0.47936288417239226 and parameters: {'n_estimators': 890, 'max_depth': 20, 'num_leaves': 24, 'min_child_samples': 3, 'num_iterations': 938}. Best is trial 0 with value: 0.47936288417239226.\u001b[0m\n",
      "\u001b[32m[I 2023-08-17 22:37:36,905]\u001b[0m Trial 1 finished with value: 0.46334973434042925 and parameters: {'n_estimators': 627, 'max_depth': 4, 'num_leaves': 17, 'min_child_samples': 2, 'num_iterations': 659}. Best is trial 0 with value: 0.47936288417239226.\u001b[0m\n",
      "\u001b[32m[I 2023-08-17 22:37:38,546]\u001b[0m Trial 2 finished with value: 0.46773266628394 and parameters: {'n_estimators': 644, 'max_depth': 28, 'num_leaves': 19, 'min_child_samples': 6, 'num_iterations': 512}. Best is trial 0 with value: 0.47936288417239226.\u001b[0m\n",
      "\u001b[32m[I 2023-08-17 22:37:39,557]\u001b[0m Trial 3 finished with value: 0.47673005238035754 and parameters: {'n_estimators': 911, 'max_depth': 13, 'num_leaves': 6, 'min_child_samples': 4, 'num_iterations': 800}. Best is trial 0 with value: 0.47936288417239226.\u001b[0m\n",
      "\u001b[32m[I 2023-08-17 22:37:40,966]\u001b[0m Trial 4 finished with value: 0.4887790320997407 and parameters: {'n_estimators': 755, 'max_depth': 28, 'num_leaves': 9, 'min_child_samples': 5, 'num_iterations': 905}. Best is trial 4 with value: 0.4887790320997407.\u001b[0m\n",
      "\u001b[32m[I 2023-08-17 22:37:44,735]\u001b[0m Trial 5 finished with value: 0.49792351017610914 and parameters: {'n_estimators': 600, 'max_depth': 6, 'num_leaves': 17, 'min_child_samples': 1, 'num_iterations': 967}. Best is trial 5 with value: 0.49792351017610914.\u001b[0m\n",
      "\u001b[32m[I 2023-08-17 22:37:47,579]\u001b[0m Trial 6 finished with value: 0.4820582933521019 and parameters: {'n_estimators': 875, 'max_depth': 27, 'num_leaves': 10, 'min_child_samples': 3, 'num_iterations': 964}. Best is trial 5 with value: 0.49792351017610914.\u001b[0m\n",
      "\u001b[32m[I 2023-08-17 22:37:54,939]\u001b[0m Trial 7 finished with value: 0.476639652246204 and parameters: {'n_estimators': 864, 'max_depth': 26, 'num_leaves': 27, 'min_child_samples': 4, 'num_iterations': 948}. Best is trial 5 with value: 0.49792351017610914.\u001b[0m\n",
      "\u001b[32m[I 2023-08-17 22:37:55,454]\u001b[0m Trial 8 finished with value: 0.45823979703268247 and parameters: {'n_estimators': 868, 'max_depth': 22, 'num_leaves': 2, 'min_child_samples': 10, 'num_iterations': 700}. Best is trial 5 with value: 0.49792351017610914.\u001b[0m\n",
      "\u001b[32m[I 2023-08-17 22:37:58,615]\u001b[0m Trial 9 finished with value: 0.4495043997502507 and parameters: {'n_estimators': 680, 'max_depth': 22, 'num_leaves': 13, 'min_child_samples': 10, 'num_iterations': 856}. Best is trial 5 with value: 0.49792351017610914.\u001b[0m\n",
      "\u001b[32m[I 2023-08-17 22:37:59,097]\u001b[0m Trial 10 finished with value: 0.45230818314446514 and parameters: {'n_estimators': 539, 'max_depth': 1, 'num_leaves': 31, 'min_child_samples': 1, 'num_iterations': 595}. Best is trial 5 with value: 0.49792351017610914.\u001b[0m\n",
      "\u001b[32m[I 2023-08-17 22:38:02,436]\u001b[0m Trial 11 finished with value: 0.47167238071580025 and parameters: {'n_estimators': 770, 'max_depth': 9, 'num_leaves': 13, 'min_child_samples': 6, 'num_iterations': 851}. Best is trial 5 with value: 0.49792351017610914.\u001b[0m\n",
      "\u001b[32m[I 2023-08-17 22:38:07,476]\u001b[0m Trial 12 finished with value: 0.4735897208467505 and parameters: {'n_estimators': 735, 'max_depth': 14, 'num_leaves': 20, 'min_child_samples': 8, 'num_iterations': 996}. Best is trial 5 with value: 0.49792351017610914.\u001b[0m\n",
      "\u001b[32m[I 2023-08-17 22:38:09,560]\u001b[0m Trial 13 finished with value: 0.4407542556633729 and parameters: {'n_estimators': 515, 'max_depth': 8, 'num_leaves': 8, 'min_child_samples': 8, 'num_iterations': 881}. Best is trial 5 with value: 0.49792351017610914.\u001b[0m\n",
      "\u001b[32m[I 2023-08-17 22:38:12,941]\u001b[0m Trial 14 finished with value: 0.5143945422218337 and parameters: {'n_estimators': 753, 'max_depth': 17, 'num_leaves': 15, 'min_child_samples': 1, 'num_iterations': 767}. Best is trial 14 with value: 0.5143945422218337.\u001b[0m\n",
      "\u001b[32m[I 2023-08-17 22:38:16,397]\u001b[0m Trial 15 finished with value: 0.5088900166780639 and parameters: {'n_estimators': 587, 'max_depth': 17, 'num_leaves': 16, 'min_child_samples': 1, 'num_iterations': 758}. Best is trial 14 with value: 0.5143945422218337.\u001b[0m\n",
      "\u001b[32m[I 2023-08-17 22:38:21,142]\u001b[0m Trial 16 finished with value: 0.4933948775003484 and parameters: {'n_estimators': 985, 'max_depth': 18, 'num_leaves': 22, 'min_child_samples': 1, 'num_iterations': 751}. Best is trial 14 with value: 0.5143945422218337.\u001b[0m\n",
      "\u001b[32m[I 2023-08-17 22:38:24,633]\u001b[0m Trial 17 finished with value: 0.4682325157486071 and parameters: {'n_estimators': 571, 'max_depth': 16, 'num_leaves': 14, 'min_child_samples': 2, 'num_iterations': 778}. Best is trial 14 with value: 0.5143945422218337.\u001b[0m\n",
      "\u001b[32m[I 2023-08-17 22:38:30,212]\u001b[0m Trial 18 finished with value: 0.49378449343132846 and parameters: {'n_estimators': 697, 'max_depth': 11, 'num_leaves': 26, 'min_child_samples': 2, 'num_iterations': 684}. Best is trial 14 with value: 0.5143945422218337.\u001b[0m\n",
      "\u001b[32m[I 2023-08-17 22:38:32,708]\u001b[0m Trial 19 finished with value: 0.49823014404013993 and parameters: {'n_estimators': 799, 'max_depth': 17, 'num_leaves': 15, 'min_child_samples': 3, 'num_iterations': 622}. Best is trial 14 with value: 0.5143945422218337.\u001b[0m\n",
      "\u001b[32m[I 2023-08-17 22:38:33,758]\u001b[0m Trial 20 finished with value: 0.4540508516035162 and parameters: {'n_estimators': 809, 'max_depth': 24, 'num_leaves': 4, 'min_child_samples': 7, 'num_iterations': 815}. Best is trial 14 with value: 0.5143945422218337.\u001b[0m\n",
      "\u001b[32m[I 2023-08-17 22:38:36,091]\u001b[0m Trial 21 finished with value: 0.49461423648933805 and parameters: {'n_estimators': 805, 'max_depth': 17, 'num_leaves': 14, 'min_child_samples': 3, 'num_iterations': 640}. Best is trial 14 with value: 0.5143945422218337.\u001b[0m\n",
      "\u001b[32m[I 2023-08-17 22:38:38,408]\u001b[0m Trial 22 finished with value: 0.4922792284771177 and parameters: {'n_estimators': 811, 'max_depth': 20, 'num_leaves': 11, 'min_child_samples': 1, 'num_iterations': 725}. Best is trial 14 with value: 0.5143945422218337.\u001b[0m\n",
      "\u001b[32m[I 2023-08-17 22:38:40,875]\u001b[0m Trial 23 finished with value: 0.5063158175461846 and parameters: {'n_estimators': 708, 'max_depth': 13, 'num_leaves': 16, 'min_child_samples': 2, 'num_iterations': 586}. Best is trial 14 with value: 0.5143945422218337.\u001b[0m\n",
      "\u001b[32m[I 2023-08-17 22:38:43,786]\u001b[0m Trial 24 finished with value: 0.4962825856185389 and parameters: {'n_estimators': 696, 'max_depth': 12, 'num_leaves': 20, 'min_child_samples': 2, 'num_iterations': 552}. Best is trial 14 with value: 0.5143945422218337.\u001b[0m\n",
      "\u001b[32m[I 2023-08-17 22:38:47,295]\u001b[0m Trial 25 finished with value: 0.5021785597555214 and parameters: {'n_estimators': 659, 'max_depth': 14, 'num_leaves': 17, 'min_child_samples': 1, 'num_iterations': 752}. Best is trial 14 with value: 0.5143945422218337.\u001b[0m\n",
      "\u001b[32m[I 2023-08-17 22:38:50,622]\u001b[0m Trial 26 finished with value: 0.47436577188943 and parameters: {'n_estimators': 724, 'max_depth': 10, 'num_leaves': 23, 'min_child_samples': 4, 'num_iterations': 594}. Best is trial 14 with value: 0.5143945422218337.\u001b[0m\n",
      "\u001b[32m[I 2023-08-17 22:38:52,885]\u001b[0m Trial 27 finished with value: 0.4963060602486662 and parameters: {'n_estimators': 589, 'max_depth': 19, 'num_leaves': 11, 'min_child_samples': 2, 'num_iterations': 722}. Best is trial 14 with value: 0.5143945422218337.\u001b[0m\n",
      "\u001b[32m[I 2023-08-17 22:38:57,250]\u001b[0m Trial 28 finished with value: 0.4853717514693733 and parameters: {'n_estimators': 552, 'max_depth': 15, 'num_leaves': 19, 'min_child_samples': 5, 'num_iterations': 806}. Best is trial 14 with value: 0.5143945422218337.\u001b[0m\n",
      "\u001b[32m[I 2023-08-17 22:39:00,262]\u001b[0m Trial 29 finished with value: 0.5017343117718961 and parameters: {'n_estimators': 610, 'max_depth': 22, 'num_leaves': 16, 'min_child_samples': 3, 'num_iterations': 680}. Best is trial 14 with value: 0.5143945422218337.\u001b[0m\n",
      "\u001b[32m[I 2023-08-17 22:39:03,965]\u001b[0m Trial 30 finished with value: 0.4850013168525217 and parameters: {'n_estimators': 510, 'max_depth': 12, 'num_leaves': 25, 'min_child_samples': 2, 'num_iterations': 508}. Best is trial 14 with value: 0.5143945422218337.\u001b[0m\n",
      "\u001b[32m[I 2023-08-17 22:39:07,511]\u001b[0m Trial 31 finished with value: 0.5021825019432439 and parameters: {'n_estimators': 661, 'max_depth': 15, 'num_leaves': 17, 'min_child_samples': 1, 'num_iterations': 750}. Best is trial 14 with value: 0.5143945422218337.\u001b[0m\n",
      "\u001b[32m[I 2023-08-17 22:39:12,306]\u001b[0m Trial 32 finished with value: 0.5014861300516069 and parameters: {'n_estimators': 659, 'max_depth': 16, 'num_leaves': 21, 'min_child_samples': 1, 'num_iterations': 835}. Best is trial 14 with value: 0.5143945422218337.\u001b[0m\n",
      "\u001b[32m[I 2023-08-17 22:39:16,104]\u001b[0m Trial 33 finished with value: 0.49014087928474465 and parameters: {'n_estimators': 622, 'max_depth': 19, 'num_leaves': 18, 'min_child_samples': 1, 'num_iterations': 771}. Best is trial 14 with value: 0.5143945422218337.\u001b[0m\n",
      "\u001b[32m[I 2023-08-17 22:39:18,318]\u001b[0m Trial 34 finished with value: 0.49192386826242906 and parameters: {'n_estimators': 704, 'max_depth': 7, 'num_leaves': 12, 'min_child_samples': 2, 'num_iterations': 726}. Best is trial 14 with value: 0.5143945422218337.\u001b[0m\n",
      "\u001b[32m[I 2023-08-17 22:39:20,903]\u001b[0m Trial 35 finished with value: 0.49832804706428285 and parameters: {'n_estimators': 641, 'max_depth': 14, 'num_leaves': 15, 'min_child_samples': 3, 'num_iterations': 653}. Best is trial 14 with value: 0.5143945422218337.\u001b[0m\n",
      "\u001b[32m[I 2023-08-17 22:39:22,972]\u001b[0m Trial 36 finished with value: 0.487112968014381 and parameters: {'n_estimators': 767, 'max_depth': 5, 'num_leaves': 16, 'min_child_samples': 2, 'num_iterations': 578}. Best is trial 14 with value: 0.5143945422218337.\u001b[0m\n",
      "\u001b[32m[I 2023-08-17 22:39:25,341]\u001b[0m Trial 37 finished with value: 0.4747315917499829 and parameters: {'n_estimators': 668, 'max_depth': 20, 'num_leaves': 8, 'min_child_samples': 1, 'num_iterations': 893}. Best is trial 14 with value: 0.5143945422218337.\u001b[0m\n",
      "\u001b[32m[I 2023-08-17 22:39:29,021]\u001b[0m Trial 38 finished with value: 0.48581447719921067 and parameters: {'n_estimators': 731, 'max_depth': 11, 'num_leaves': 18, 'min_child_samples': 4, 'num_iterations': 781}. Best is trial 14 with value: 0.5143945422218337.\u001b[0m\n",
      "\u001b[32m[I 2023-08-17 22:39:32,745]\u001b[0m Trial 39 finished with value: 0.48729419888025766 and parameters: {'n_estimators': 837, 'max_depth': 24, 'num_leaves': 23, 'min_child_samples': 3, 'num_iterations': 622}. Best is trial 14 with value: 0.5143945422218337.\u001b[0m\n",
      "\u001b[32m[I 2023-08-17 22:39:35,191]\u001b[0m Trial 40 finished with value: 0.4922781783055757 and parameters: {'n_estimators': 585, 'max_depth': 30, 'num_leaves': 17, 'min_child_samples': 2, 'num_iterations': 553}. Best is trial 14 with value: 0.5143945422218337.\u001b[0m\n",
      "\u001b[32m[I 2023-08-17 22:39:39,047]\u001b[0m Trial 41 finished with value: 0.4901368736738176 and parameters: {'n_estimators': 657, 'max_depth': 14, 'num_leaves': 18, 'min_child_samples': 1, 'num_iterations': 757}. Best is trial 14 with value: 0.5143945422218337.\u001b[0m\n",
      "\u001b[32m[I 2023-08-17 22:39:42,341]\u001b[0m Trial 42 finished with value: 0.5089521132252172 and parameters: {'n_estimators': 630, 'max_depth': 13, 'num_leaves': 16, 'min_child_samples': 1, 'num_iterations': 708}. Best is trial 14 with value: 0.5143945422218337.\u001b[0m\n",
      "\u001b[32m[I 2023-08-17 22:39:45,313]\u001b[0m Trial 43 finished with value: 0.5144797729719268 and parameters: {'n_estimators': 624, 'max_depth': 13, 'num_leaves': 15, 'min_child_samples': 1, 'num_iterations': 706}. Best is trial 43 with value: 0.5144797729719268.\u001b[0m\n",
      "\u001b[32m[I 2023-08-17 22:39:47,738]\u001b[0m Trial 44 finished with value: 0.503971379613113 and parameters: {'n_estimators': 629, 'max_depth': 12, 'num_leaves': 13, 'min_child_samples': 1, 'num_iterations': 700}. Best is trial 43 with value: 0.5144797729719268.\u001b[0m\n",
      "\u001b[32m[I 2023-08-17 22:39:50,460]\u001b[0m Trial 45 finished with value: 0.5067253135311793 and parameters: {'n_estimators': 568, 'max_depth': 10, 'num_leaves': 15, 'min_child_samples': 1, 'num_iterations': 674}. Best is trial 43 with value: 0.5144797729719268.\u001b[0m\n",
      "\u001b[32m[I 2023-08-17 22:39:52,650]\u001b[0m Trial 46 finished with value: 0.48698405689044366 and parameters: {'n_estimators': 548, 'max_depth': 9, 'num_leaves': 10, 'min_child_samples': 1, 'num_iterations': 672}. Best is trial 43 with value: 0.5144797729719268.\u001b[0m\n",
      "\u001b[32m[I 2023-08-17 22:39:53,460]\u001b[0m Trial 47 finished with value: 0.46157523265412603 and parameters: {'n_estimators': 574, 'max_depth': 2, 'num_leaves': 14, 'min_child_samples': 9, 'num_iterations': 705}. Best is trial 43 with value: 0.5144797729719268.\u001b[0m\n",
      "\u001b[32m[I 2023-08-17 22:39:58,985]\u001b[0m Trial 48 finished with value: 0.46767705962245526 and parameters: {'n_estimators': 526, 'max_depth': 18, 'num_leaves': 29, 'min_child_samples': 5, 'num_iterations': 733}. Best is trial 43 with value: 0.5144797729719268.\u001b[0m\n",
      "\u001b[32m[I 2023-08-17 22:40:01,051]\u001b[0m Trial 49 finished with value: 0.48389502890658864 and parameters: {'n_estimators': 930, 'max_depth': 10, 'num_leaves': 12, 'min_child_samples': 2, 'num_iterations': 660}. Best is trial 43 with value: 0.5144797729719268.\u001b[0m\n",
      "\u001b[32m[I 2023-08-17 22:40:04,571]\u001b[0m Trial 50 finished with value: 0.47258057707863504 and parameters: {'n_estimators': 605, 'max_depth': 7, 'num_leaves': 20, 'min_child_samples': 4, 'num_iterations': 702}. Best is trial 43 with value: 0.5144797729719268.\u001b[0m\n",
      "\u001b[32m[I 2023-08-17 22:40:08,396]\u001b[0m Trial 51 finished with value: 0.5088787414412241 and parameters: {'n_estimators': 570, 'max_depth': 13, 'num_leaves': 16, 'min_child_samples': 1, 'num_iterations': 792}. Best is trial 43 with value: 0.5144797729719268.\u001b[0m\n",
      "\u001b[32m[I 2023-08-17 22:40:11,576]\u001b[0m Trial 52 finished with value: 0.5017057157426714 and parameters: {'n_estimators': 559, 'max_depth': 17, 'num_leaves': 14, 'min_child_samples': 1, 'num_iterations': 788}. Best is trial 43 with value: 0.5144797729719268.\u001b[0m\n",
      "\u001b[32m[I 2023-08-17 22:40:14,919]\u001b[0m Trial 53 finished with value: 0.5143885840638802 and parameters: {'n_estimators': 526, 'max_depth': 13, 'num_leaves': 15, 'min_child_samples': 1, 'num_iterations': 821}. Best is trial 43 with value: 0.5144797729719268.\u001b[0m\n",
      "\u001b[32m[I 2023-08-17 22:40:18,817]\u001b[0m Trial 54 finished with value: 0.48968546905608284 and parameters: {'n_estimators': 527, 'max_depth': 13, 'num_leaves': 19, 'min_child_samples': 2, 'num_iterations': 823}. Best is trial 43 with value: 0.5144797729719268.\u001b[0m\n",
      "\u001b[32m[I 2023-08-17 22:40:21,715]\u001b[0m Trial 55 finished with value: 0.49711846452774067 and parameters: {'n_estimators': 502, 'max_depth': 15, 'num_leaves': 12, 'min_child_samples': 1, 'num_iterations': 856}. Best is trial 43 with value: 0.5144797729719268.\u001b[0m\n",
      "\u001b[32m[I 2023-08-17 22:40:25,563]\u001b[0m Trial 56 finished with value: 0.49771502909633936 and parameters: {'n_estimators': 592, 'max_depth': 16, 'num_leaves': 15, 'min_child_samples': 3, 'num_iterations': 930}. Best is trial 43 with value: 0.5144797729719268.\u001b[0m\n",
      "\u001b[32m[I 2023-08-17 22:40:27,941]\u001b[0m Trial 57 finished with value: 0.4825356475257033 and parameters: {'n_estimators': 536, 'max_depth': 13, 'num_leaves': 9, 'min_child_samples': 2, 'num_iterations': 877}. Best is trial 43 with value: 0.5144797729719268.\u001b[0m\n",
      "\u001b[32m[I 2023-08-17 22:40:30,773]\u001b[0m Trial 58 finished with value: 0.503757249618692 and parameters: {'n_estimators': 627, 'max_depth': 18, 'num_leaves': 13, 'min_child_samples': 1, 'num_iterations': 799}. Best is trial 43 with value: 0.5144797729719268.\u001b[0m\n",
      "\u001b[32m[I 2023-08-17 22:40:33,836]\u001b[0m Trial 59 finished with value: 0.47031008903893784 and parameters: {'n_estimators': 749, 'max_depth': 21, 'num_leaves': 16, 'min_child_samples': 7, 'num_iterations': 768}. Best is trial 43 with value: 0.5144797729719268.\u001b[0m\n",
      "\u001b[32m[I 2023-08-17 22:40:38,012]\u001b[0m Trial 60 finished with value: 0.4982496082960687 and parameters: {'n_estimators': 682, 'max_depth': 11, 'num_leaves': 21, 'min_child_samples': 1, 'num_iterations': 741}. Best is trial 43 with value: 0.5144797729719268.\u001b[0m\n",
      "\u001b[32m[I 2023-08-17 22:40:41,384]\u001b[0m Trial 61 finished with value: 0.5065175629917952 and parameters: {'n_estimators': 569, 'max_depth': 10, 'num_leaves': 15, 'min_child_samples': 1, 'num_iterations': 832}. Best is trial 43 with value: 0.5144797729719268.\u001b[0m\n",
      "\u001b[32m[I 2023-08-17 22:40:44,280]\u001b[0m Trial 62 finished with value: 0.5061171458802475 and parameters: {'n_estimators': 610, 'max_depth': 8, 'num_leaves': 14, 'min_child_samples': 1, 'num_iterations': 714}. Best is trial 43 with value: 0.5144797729719268.\u001b[0m\n",
      "\u001b[32m[I 2023-08-17 22:40:47,906]\u001b[0m Trial 63 finished with value: 0.5047956754217274 and parameters: {'n_estimators': 556, 'max_depth': 13, 'num_leaves': 18, 'min_child_samples': 2, 'num_iterations': 792}. Best is trial 43 with value: 0.5144797729719268.\u001b[0m\n",
      "\u001b[32m[I 2023-08-17 22:40:50,799]\u001b[0m Trial 64 finished with value: 0.506334414575167 and parameters: {'n_estimators': 567, 'max_depth': 17, 'num_leaves': 16, 'min_child_samples': 2, 'num_iterations': 696}. Best is trial 43 with value: 0.5144797729719268.\u001b[0m\n",
      "\u001b[32m[I 2023-08-17 22:40:54,432]\u001b[0m Trial 65 finished with value: 0.5148328821379986 and parameters: {'n_estimators': 584, 'max_depth': 12, 'num_leaves': 15, 'min_child_samples': 1, 'num_iterations': 811}. Best is trial 65 with value: 0.5148328821379986.\u001b[0m\n",
      "\u001b[32m[I 2023-08-17 22:40:57,513]\u001b[0m Trial 66 finished with value: 0.5037752116493946 and parameters: {'n_estimators': 784, 'max_depth': 15, 'num_leaves': 13, 'min_child_samples': 1, 'num_iterations': 814}. Best is trial 65 with value: 0.5148328821379986.\u001b[0m\n",
      "\u001b[32m[I 2023-08-17 22:41:01,686]\u001b[0m Trial 67 finished with value: 0.4955231309437683 and parameters: {'n_estimators': 582, 'max_depth': 12, 'num_leaves': 19, 'min_child_samples': 2, 'num_iterations': 869}. Best is trial 65 with value: 0.5148328821379986.\u001b[0m\n",
      "\u001b[32m[I 2023-08-17 22:41:05,284]\u001b[0m Trial 68 finished with value: 0.4920883037916289 and parameters: {'n_estimators': 600, 'max_depth': 16, 'num_leaves': 17, 'min_child_samples': 2, 'num_iterations': 835}. Best is trial 65 with value: 0.5148328821379986.\u001b[0m\n",
      "\u001b[32m[I 2023-08-17 22:41:07,639]\u001b[0m Trial 69 finished with value: 0.4920741886672605 and parameters: {'n_estimators': 643, 'max_depth': 14, 'num_leaves': 11, 'min_child_samples': 1, 'num_iterations': 775}. Best is trial 65 with value: 0.5148328821379986.\u001b[0m\n",
      "\u001b[32m[I 2023-08-17 22:41:11,032]\u001b[0m Trial 70 finished with value: 0.5040325978200583 and parameters: {'n_estimators': 539, 'max_depth': 11, 'num_leaves': 16, 'min_child_samples': 1, 'num_iterations': 764}. Best is trial 65 with value: 0.5148328821379986.\u001b[0m\n",
      "\u001b[32m[I 2023-08-17 22:41:13,999]\u001b[0m Trial 71 finished with value: 0.5144502120719416 and parameters: {'n_estimators': 524, 'max_depth': 13, 'num_leaves': 15, 'min_child_samples': 1, 'num_iterations': 738}. Best is trial 65 with value: 0.5148328821379986.\u001b[0m\n",
      "\u001b[32m[I 2023-08-17 22:41:17,090]\u001b[0m Trial 72 finished with value: 0.5144310801168558 and parameters: {'n_estimators': 501, 'max_depth': 14, 'num_leaves': 15, 'min_child_samples': 1, 'num_iterations': 745}. Best is trial 65 with value: 0.5148328821379986.\u001b[0m\n",
      "\u001b[32m[I 2023-08-17 22:41:19,825]\u001b[0m Trial 73 finished with value: 0.5018101304028949 and parameters: {'n_estimators': 519, 'max_depth': 14, 'num_leaves': 14, 'min_child_samples': 1, 'num_iterations': 734}. Best is trial 65 with value: 0.5148328821379986.\u001b[0m\n",
      "\u001b[32m[I 2023-08-17 22:41:23,233]\u001b[0m Trial 74 finished with value: 0.49210633071062404 and parameters: {'n_estimators': 505, 'max_depth': 16, 'num_leaves': 17, 'min_child_samples': 2, 'num_iterations': 752}. Best is trial 65 with value: 0.5148328821379986.\u001b[0m\n",
      "\u001b[32m[I 2023-08-17 22:41:26,257]\u001b[0m Trial 75 finished with value: 0.5038256656062197 and parameters: {'n_estimators': 542, 'max_depth': 19, 'num_leaves': 13, 'min_child_samples': 1, 'num_iterations': 739}. Best is trial 65 with value: 0.5148328821379986.\u001b[0m\n",
      "\u001b[32m[I 2023-08-17 22:41:28,981]\u001b[0m Trial 76 finished with value: 0.5038270130592715 and parameters: {'n_estimators': 517, 'max_depth': 15, 'num_leaves': 15, 'min_child_samples': 2, 'num_iterations': 716}. Best is trial 65 with value: 0.5148328821379986.\u001b[0m\n",
      "\u001b[32m[I 2023-08-17 22:41:31,176]\u001b[0m Trial 77 finished with value: 0.4975097261724093 and parameters: {'n_estimators': 501, 'max_depth': 12, 'num_leaves': 12, 'min_child_samples': 1, 'num_iterations': 687}. Best is trial 65 with value: 0.5148328821379986.\u001b[0m\n",
      "\u001b[32m[I 2023-08-17 22:41:34,507]\u001b[0m Trial 78 finished with value: 0.475450242375602 and parameters: {'n_estimators': 528, 'max_depth': 9, 'num_leaves': 19, 'min_child_samples': 6, 'num_iterations': 760}. Best is trial 65 with value: 0.5148328821379986.\u001b[0m\n",
      "\u001b[32m[I 2023-08-17 22:41:37,821]\u001b[0m Trial 79 finished with value: 0.49380847724369054 and parameters: {'n_estimators': 616, 'max_depth': 11, 'num_leaves': 17, 'min_child_samples': 3, 'num_iterations': 813}. Best is trial 65 with value: 0.5148328821379986.\u001b[0m\n",
      "\u001b[32m[I 2023-08-17 22:41:41,277]\u001b[0m Trial 80 finished with value: 0.5087380692721424 and parameters: {'n_estimators': 719, 'max_depth': 14, 'num_leaves': 18, 'min_child_samples': 2, 'num_iterations': 745}. Best is trial 65 with value: 0.5148328821379986.\u001b[0m\n",
      "\u001b[32m[I 2023-08-17 22:41:44,428]\u001b[0m Trial 81 finished with value: 0.5143989490407698 and parameters: {'n_estimators': 555, 'max_depth': 13, 'num_leaves': 15, 'min_child_samples': 1, 'num_iterations': 787}. Best is trial 65 with value: 0.5148328821379986.\u001b[0m\n",
      "\u001b[32m[I 2023-08-17 22:41:47,650]\u001b[0m Trial 82 finished with value: 0.5144035569731156 and parameters: {'n_estimators': 553, 'max_depth': 13, 'num_leaves': 15, 'min_child_samples': 1, 'num_iterations': 804}. Best is trial 65 with value: 0.5148328821379986.\u001b[0m\n",
      "\u001b[32m[I 2023-08-17 22:41:51,271]\u001b[0m Trial 83 finished with value: 0.5060586751335086 and parameters: {'n_estimators': 553, 'max_depth': 12, 'num_leaves': 14, 'min_child_samples': 1, 'num_iterations': 848}. Best is trial 65 with value: 0.5148328821379986.\u001b[0m\n",
      "\u001b[32m[I 2023-08-17 22:41:54,922]\u001b[0m Trial 84 finished with value: 0.5143960491809428 and parameters: {'n_estimators': 530, 'max_depth': 14, 'num_leaves': 15, 'min_child_samples': 1, 'num_iterations': 778}. Best is trial 65 with value: 0.5148328821379986.\u001b[0m\n",
      "\u001b[32m[I 2023-08-17 22:41:58,573]\u001b[0m Trial 85 finished with value: 0.5143983333455806 and parameters: {'n_estimators': 531, 'max_depth': 14, 'num_leaves': 15, 'min_child_samples': 1, 'num_iterations': 784}. Best is trial 65 with value: 0.5148328821379986.\u001b[0m\n",
      "\u001b[32m[I 2023-08-17 22:42:01,206]\u001b[0m Trial 86 finished with value: 0.49208327462747226 and parameters: {'n_estimators': 541, 'max_depth': 15, 'num_leaves': 11, 'min_child_samples': 1, 'num_iterations': 783}. Best is trial 65 with value: 0.5148328821379986.\u001b[0m\n",
      "\u001b[32m[I 2023-08-17 22:42:04,402]\u001b[0m Trial 87 finished with value: 0.4682510049894925 and parameters: {'n_estimators': 518, 'max_depth': 17, 'num_leaves': 14, 'min_child_samples': 2, 'num_iterations': 775}. Best is trial 65 with value: 0.5148328821379986.\u001b[0m\n",
      "\u001b[32m[I 2023-08-17 22:42:07,542]\u001b[0m Trial 88 finished with value: 0.5037578826982818 and parameters: {'n_estimators': 559, 'max_depth': 14, 'num_leaves': 13, 'min_child_samples': 1, 'num_iterations': 798}. Best is trial 65 with value: 0.5148328821379986.\u001b[0m\n",
      "\u001b[32m[I 2023-08-17 22:42:11,109]\u001b[0m Trial 89 finished with value: 0.5123729178304208 and parameters: {'n_estimators': 534, 'max_depth': 11, 'num_leaves': 15, 'min_child_samples': 1, 'num_iterations': 807}. Best is trial 65 with value: 0.5148328821379986.\u001b[0m\n",
      "\u001b[32m[I 2023-08-17 22:42:13,123]\u001b[0m Trial 90 finished with value: 0.48549735900666224 and parameters: {'n_estimators': 513, 'max_depth': 12, 'num_leaves': 10, 'min_child_samples': 2, 'num_iterations': 726}. Best is trial 65 with value: 0.5148328821379986.\u001b[0m\n",
      "\u001b[32m[I 2023-08-17 22:42:16,495]\u001b[0m Trial 91 finished with value: 0.5143869528548206 and parameters: {'n_estimators': 548, 'max_depth': 13, 'num_leaves': 15, 'min_child_samples': 1, 'num_iterations': 822}. Best is trial 65 with value: 0.5148328821379986.\u001b[0m\n",
      "\u001b[32m[I 2023-08-17 22:42:19,313]\u001b[0m Trial 92 finished with value: 0.4971309415898576 and parameters: {'n_estimators': 526, 'max_depth': 13, 'num_leaves': 12, 'min_child_samples': 1, 'num_iterations': 843}. Best is trial 65 with value: 0.5148328821379986.\u001b[0m\n",
      "\u001b[32m[I 2023-08-17 22:42:22,871]\u001b[0m Trial 93 finished with value: 0.5088826270002685 and parameters: {'n_estimators': 578, 'max_depth': 15, 'num_leaves': 16, 'min_child_samples': 1, 'num_iterations': 782}. Best is trial 65 with value: 0.5148328821379986.\u001b[0m\n",
      "\u001b[32m[I 2023-08-17 22:42:26,296]\u001b[0m Trial 94 finished with value: 0.5017145038599077 and parameters: {'n_estimators': 742, 'max_depth': 16, 'num_leaves': 14, 'min_child_samples': 1, 'num_iterations': 801}. Best is trial 65 with value: 0.5148328821379986.\u001b[0m\n",
      "\u001b[32m[I 2023-08-17 22:42:30,270]\u001b[0m Trial 95 finished with value: 0.5143723670527682 and parameters: {'n_estimators': 762, 'max_depth': 14, 'num_leaves': 15, 'min_child_samples': 1, 'num_iterations': 825}. Best is trial 65 with value: 0.5148328821379986.\u001b[0m\n",
      "\u001b[32m[I 2023-08-17 22:42:30,905]\u001b[0m Trial 96 finished with value: 0.4556814677404882 and parameters: {'n_estimators': 597, 'max_depth': 18, 'num_leaves': 2, 'min_child_samples': 2, 'num_iterations': 863}. Best is trial 65 with value: 0.5148328821379986.\u001b[0m\n",
      "\u001b[32m[I 2023-08-17 22:42:36,190]\u001b[0m Trial 97 finished with value: 0.45919625709409945 and parameters: {'n_estimators': 509, 'max_depth': 12, 'num_leaves': 32, 'min_child_samples': 7, 'num_iterations': 764}. Best is trial 65 with value: 0.5148328821379986.\u001b[0m\n",
      "\u001b[32m[I 2023-08-17 22:42:39,909]\u001b[0m Trial 98 finished with value: 0.49588671914966953 and parameters: {'n_estimators': 562, 'max_depth': 9, 'num_leaves': 17, 'min_child_samples': 1, 'num_iterations': 792}. Best is trial 65 with value: 0.5148328821379986.\u001b[0m\n",
      "\u001b[32m[I 2023-08-17 22:42:42,773]\u001b[0m Trial 99 finished with value: 0.49725856645038513 and parameters: {'n_estimators': 533, 'max_depth': 11, 'num_leaves': 13, 'min_child_samples': 2, 'num_iterations': 750}. Best is trial 65 with value: 0.5148328821379986.\u001b[0m\n"
     ]
    },
    {
     "name": "stdout",
     "output_type": "stream",
     "text": [
      "Best r2:  0.5148328821379986\n",
      "Best trial: {'n_estimators': 584, 'max_depth': 12, 'num_leaves': 15, 'min_child_samples': 1, 'num_iterations': 811}\n"
     ]
    }
   ],
   "source": [
    "sampler = TPESampler()\n",
    "study = optuna.create_study(\n",
    "    study_name=\"lgbm_parameter_opt\",\n",
    "    direction=\"maximize\",\n",
    "    sampler=sampler,\n",
    ")\n",
    "\n",
    "study.optimize(lambda trial : objectiveLGBM(trial, As_X_train, As_y_train), n_trials=100)\n",
    "print(\"Best r2: \", study.best_value)\n",
    "print(\"Best trial:\", study.best_trial.params)"
   ]
  },
  {
   "cell_type": "code",
   "execution_count": 51,
   "id": "ded0e0f8",
   "metadata": {},
   "outputs": [
    {
     "data": {
      "application/vnd.plotly.v1+json": {
       "config": {
        "plotlyServerURL": "https://plot.ly"
       },
       "data": [
        {
         "dimensions": [
          {
           "label": "Objective Value",
           "range": [
            0.4407542556633729,
            0.5148328821379986
           ],
           "values": [
            0.47936288417239226,
            0.46334973434042925,
            0.46773266628394,
            0.47673005238035754,
            0.4887790320997407,
            0.49792351017610914,
            0.4820582933521019,
            0.476639652246204,
            0.45823979703268247,
            0.4495043997502507,
            0.45230818314446514,
            0.47167238071580025,
            0.4735897208467505,
            0.4407542556633729,
            0.5143945422218337,
            0.5088900166780639,
            0.4933948775003484,
            0.4682325157486071,
            0.49378449343132846,
            0.49823014404013993,
            0.4540508516035162,
            0.49461423648933805,
            0.4922792284771177,
            0.5063158175461846,
            0.4962825856185389,
            0.5021785597555214,
            0.47436577188943,
            0.4963060602486662,
            0.4853717514693733,
            0.5017343117718961,
            0.4850013168525217,
            0.5021825019432439,
            0.5014861300516069,
            0.49014087928474465,
            0.49192386826242906,
            0.49832804706428285,
            0.487112968014381,
            0.4747315917499829,
            0.48581447719921067,
            0.48729419888025766,
            0.4922781783055757,
            0.4901368736738176,
            0.5089521132252172,
            0.5144797729719268,
            0.503971379613113,
            0.5067253135311793,
            0.48698405689044366,
            0.46157523265412603,
            0.46767705962245526,
            0.48389502890658864,
            0.47258057707863504,
            0.5088787414412241,
            0.5017057157426714,
            0.5143885840638802,
            0.48968546905608284,
            0.49711846452774067,
            0.49771502909633936,
            0.4825356475257033,
            0.503757249618692,
            0.47031008903893784,
            0.4982496082960687,
            0.5065175629917952,
            0.5061171458802475,
            0.5047956754217274,
            0.506334414575167,
            0.5148328821379986,
            0.5037752116493946,
            0.4955231309437683,
            0.4920883037916289,
            0.4920741886672605,
            0.5040325978200583,
            0.5144502120719416,
            0.5144310801168558,
            0.5018101304028949,
            0.49210633071062404,
            0.5038256656062197,
            0.5038270130592715,
            0.4975097261724093,
            0.475450242375602,
            0.49380847724369054,
            0.5087380692721424,
            0.5143989490407698,
            0.5144035569731156,
            0.5060586751335086,
            0.5143960491809428,
            0.5143983333455806,
            0.49208327462747226,
            0.4682510049894925,
            0.5037578826982818,
            0.5123729178304208,
            0.48549735900666224,
            0.5143869528548206,
            0.4971309415898576,
            0.5088826270002685,
            0.5017145038599077,
            0.5143723670527682,
            0.4556814677404882,
            0.45919625709409945,
            0.49588671914966953,
            0.49725856645038513
           ]
          },
          {
           "label": "max_depth",
           "range": [
            1,
            30
           ],
           "values": [
            20,
            4,
            28,
            13,
            28,
            6,
            27,
            26,
            22,
            22,
            1,
            9,
            14,
            8,
            17,
            17,
            18,
            16,
            11,
            17,
            24,
            17,
            20,
            13,
            12,
            14,
            10,
            19,
            15,
            22,
            12,
            15,
            16,
            19,
            7,
            14,
            5,
            20,
            11,
            24,
            30,
            14,
            13,
            13,
            12,
            10,
            9,
            2,
            18,
            10,
            7,
            13,
            17,
            13,
            13,
            15,
            16,
            13,
            18,
            21,
            11,
            10,
            8,
            13,
            17,
            12,
            15,
            12,
            16,
            14,
            11,
            13,
            14,
            14,
            16,
            19,
            15,
            12,
            9,
            11,
            14,
            13,
            13,
            12,
            14,
            14,
            15,
            17,
            14,
            11,
            12,
            13,
            13,
            15,
            16,
            14,
            18,
            12,
            9,
            11
           ]
          },
          {
           "label": "min_child_samples",
           "range": [
            1,
            10
           ],
           "values": [
            3,
            2,
            6,
            4,
            5,
            1,
            3,
            4,
            10,
            10,
            1,
            6,
            8,
            8,
            1,
            1,
            1,
            2,
            2,
            3,
            7,
            3,
            1,
            2,
            2,
            1,
            4,
            2,
            5,
            3,
            2,
            1,
            1,
            1,
            2,
            3,
            2,
            1,
            4,
            3,
            2,
            1,
            1,
            1,
            1,
            1,
            1,
            9,
            5,
            2,
            4,
            1,
            1,
            1,
            2,
            1,
            3,
            2,
            1,
            7,
            1,
            1,
            1,
            2,
            2,
            1,
            1,
            2,
            2,
            1,
            1,
            1,
            1,
            1,
            2,
            1,
            2,
            1,
            6,
            3,
            2,
            1,
            1,
            1,
            1,
            1,
            1,
            2,
            1,
            1,
            2,
            1,
            1,
            1,
            1,
            1,
            2,
            7,
            1,
            2
           ]
          },
          {
           "label": "n_estimators",
           "range": [
            501,
            985
           ],
           "values": [
            890,
            627,
            644,
            911,
            755,
            600,
            875,
            864,
            868,
            680,
            539,
            770,
            735,
            515,
            753,
            587,
            985,
            571,
            697,
            799,
            809,
            805,
            811,
            708,
            696,
            659,
            724,
            589,
            552,
            610,
            510,
            661,
            659,
            622,
            704,
            641,
            767,
            668,
            731,
            837,
            585,
            657,
            630,
            624,
            629,
            568,
            548,
            574,
            526,
            930,
            605,
            570,
            559,
            526,
            527,
            502,
            592,
            536,
            627,
            749,
            682,
            569,
            610,
            556,
            567,
            584,
            784,
            582,
            600,
            643,
            539,
            524,
            501,
            519,
            505,
            542,
            517,
            501,
            528,
            616,
            719,
            555,
            553,
            553,
            530,
            531,
            541,
            518,
            559,
            534,
            513,
            548,
            526,
            578,
            742,
            762,
            597,
            509,
            562,
            533
           ]
          },
          {
           "label": "num_iterations",
           "range": [
            508,
            996
           ],
           "values": [
            938,
            659,
            512,
            800,
            905,
            967,
            964,
            948,
            700,
            856,
            595,
            851,
            996,
            881,
            767,
            758,
            751,
            778,
            684,
            622,
            815,
            640,
            725,
            586,
            552,
            752,
            594,
            722,
            806,
            680,
            508,
            750,
            835,
            771,
            726,
            653,
            578,
            893,
            781,
            622,
            553,
            757,
            708,
            706,
            700,
            674,
            672,
            705,
            733,
            660,
            702,
            792,
            788,
            821,
            823,
            856,
            930,
            877,
            799,
            768,
            741,
            832,
            714,
            792,
            696,
            811,
            814,
            869,
            835,
            775,
            764,
            738,
            745,
            734,
            752,
            739,
            716,
            687,
            760,
            813,
            745,
            787,
            804,
            848,
            778,
            784,
            783,
            775,
            798,
            807,
            726,
            822,
            843,
            782,
            801,
            825,
            863,
            764,
            792,
            750
           ]
          },
          {
           "label": "num_leaves",
           "range": [
            2,
            32
           ],
           "values": [
            24,
            17,
            19,
            6,
            9,
            17,
            10,
            27,
            2,
            13,
            31,
            13,
            20,
            8,
            15,
            16,
            22,
            14,
            26,
            15,
            4,
            14,
            11,
            16,
            20,
            17,
            23,
            11,
            19,
            16,
            25,
            17,
            21,
            18,
            12,
            15,
            16,
            8,
            18,
            23,
            17,
            18,
            16,
            15,
            13,
            15,
            10,
            14,
            29,
            12,
            20,
            16,
            14,
            15,
            19,
            12,
            15,
            9,
            13,
            16,
            21,
            15,
            14,
            18,
            16,
            15,
            13,
            19,
            17,
            11,
            16,
            15,
            15,
            14,
            17,
            13,
            15,
            12,
            19,
            17,
            18,
            15,
            15,
            14,
            15,
            15,
            11,
            14,
            13,
            15,
            10,
            15,
            12,
            16,
            14,
            15,
            2,
            32,
            17,
            13
           ]
          }
         ],
         "labelangle": 30,
         "labelside": "bottom",
         "line": {
          "color": [
           0.47936288417239226,
           0.46334973434042925,
           0.46773266628394,
           0.47673005238035754,
           0.4887790320997407,
           0.49792351017610914,
           0.4820582933521019,
           0.476639652246204,
           0.45823979703268247,
           0.4495043997502507,
           0.45230818314446514,
           0.47167238071580025,
           0.4735897208467505,
           0.4407542556633729,
           0.5143945422218337,
           0.5088900166780639,
           0.4933948775003484,
           0.4682325157486071,
           0.49378449343132846,
           0.49823014404013993,
           0.4540508516035162,
           0.49461423648933805,
           0.4922792284771177,
           0.5063158175461846,
           0.4962825856185389,
           0.5021785597555214,
           0.47436577188943,
           0.4963060602486662,
           0.4853717514693733,
           0.5017343117718961,
           0.4850013168525217,
           0.5021825019432439,
           0.5014861300516069,
           0.49014087928474465,
           0.49192386826242906,
           0.49832804706428285,
           0.487112968014381,
           0.4747315917499829,
           0.48581447719921067,
           0.48729419888025766,
           0.4922781783055757,
           0.4901368736738176,
           0.5089521132252172,
           0.5144797729719268,
           0.503971379613113,
           0.5067253135311793,
           0.48698405689044366,
           0.46157523265412603,
           0.46767705962245526,
           0.48389502890658864,
           0.47258057707863504,
           0.5088787414412241,
           0.5017057157426714,
           0.5143885840638802,
           0.48968546905608284,
           0.49711846452774067,
           0.49771502909633936,
           0.4825356475257033,
           0.503757249618692,
           0.47031008903893784,
           0.4982496082960687,
           0.5065175629917952,
           0.5061171458802475,
           0.5047956754217274,
           0.506334414575167,
           0.5148328821379986,
           0.5037752116493946,
           0.4955231309437683,
           0.4920883037916289,
           0.4920741886672605,
           0.5040325978200583,
           0.5144502120719416,
           0.5144310801168558,
           0.5018101304028949,
           0.49210633071062404,
           0.5038256656062197,
           0.5038270130592715,
           0.4975097261724093,
           0.475450242375602,
           0.49380847724369054,
           0.5087380692721424,
           0.5143989490407698,
           0.5144035569731156,
           0.5060586751335086,
           0.5143960491809428,
           0.5143983333455806,
           0.49208327462747226,
           0.4682510049894925,
           0.5037578826982818,
           0.5123729178304208,
           0.48549735900666224,
           0.5143869528548206,
           0.4971309415898576,
           0.5088826270002685,
           0.5017145038599077,
           0.5143723670527682,
           0.4556814677404882,
           0.45919625709409945,
           0.49588671914966953,
           0.49725856645038513
          ],
          "colorbar": {
           "title": {
            "text": "Objective Value"
           }
          },
          "colorscale": [
           [
            0,
            "rgb(247,251,255)"
           ],
           [
            0.125,
            "rgb(222,235,247)"
           ],
           [
            0.25,
            "rgb(198,219,239)"
           ],
           [
            0.375,
            "rgb(158,202,225)"
           ],
           [
            0.5,
            "rgb(107,174,214)"
           ],
           [
            0.625,
            "rgb(66,146,198)"
           ],
           [
            0.75,
            "rgb(33,113,181)"
           ],
           [
            0.875,
            "rgb(8,81,156)"
           ],
           [
            1,
            "rgb(8,48,107)"
           ]
          ],
          "reversescale": false,
          "showscale": true
         },
         "type": "parcoords"
        }
       ],
       "layout": {
        "template": {
         "data": {
          "bar": [
           {
            "error_x": {
             "color": "#2a3f5f"
            },
            "error_y": {
             "color": "#2a3f5f"
            },
            "marker": {
             "line": {
              "color": "#E5ECF6",
              "width": 0.5
             },
             "pattern": {
              "fillmode": "overlay",
              "size": 10,
              "solidity": 0.2
             }
            },
            "type": "bar"
           }
          ],
          "barpolar": [
           {
            "marker": {
             "line": {
              "color": "#E5ECF6",
              "width": 0.5
             },
             "pattern": {
              "fillmode": "overlay",
              "size": 10,
              "solidity": 0.2
             }
            },
            "type": "barpolar"
           }
          ],
          "carpet": [
           {
            "aaxis": {
             "endlinecolor": "#2a3f5f",
             "gridcolor": "white",
             "linecolor": "white",
             "minorgridcolor": "white",
             "startlinecolor": "#2a3f5f"
            },
            "baxis": {
             "endlinecolor": "#2a3f5f",
             "gridcolor": "white",
             "linecolor": "white",
             "minorgridcolor": "white",
             "startlinecolor": "#2a3f5f"
            },
            "type": "carpet"
           }
          ],
          "choropleth": [
           {
            "colorbar": {
             "outlinewidth": 0,
             "ticks": ""
            },
            "type": "choropleth"
           }
          ],
          "contour": [
           {
            "colorbar": {
             "outlinewidth": 0,
             "ticks": ""
            },
            "colorscale": [
             [
              0,
              "#0d0887"
             ],
             [
              0.1111111111111111,
              "#46039f"
             ],
             [
              0.2222222222222222,
              "#7201a8"
             ],
             [
              0.3333333333333333,
              "#9c179e"
             ],
             [
              0.4444444444444444,
              "#bd3786"
             ],
             [
              0.5555555555555556,
              "#d8576b"
             ],
             [
              0.6666666666666666,
              "#ed7953"
             ],
             [
              0.7777777777777778,
              "#fb9f3a"
             ],
             [
              0.8888888888888888,
              "#fdca26"
             ],
             [
              1,
              "#f0f921"
             ]
            ],
            "type": "contour"
           }
          ],
          "contourcarpet": [
           {
            "colorbar": {
             "outlinewidth": 0,
             "ticks": ""
            },
            "type": "contourcarpet"
           }
          ],
          "heatmap": [
           {
            "colorbar": {
             "outlinewidth": 0,
             "ticks": ""
            },
            "colorscale": [
             [
              0,
              "#0d0887"
             ],
             [
              0.1111111111111111,
              "#46039f"
             ],
             [
              0.2222222222222222,
              "#7201a8"
             ],
             [
              0.3333333333333333,
              "#9c179e"
             ],
             [
              0.4444444444444444,
              "#bd3786"
             ],
             [
              0.5555555555555556,
              "#d8576b"
             ],
             [
              0.6666666666666666,
              "#ed7953"
             ],
             [
              0.7777777777777778,
              "#fb9f3a"
             ],
             [
              0.8888888888888888,
              "#fdca26"
             ],
             [
              1,
              "#f0f921"
             ]
            ],
            "type": "heatmap"
           }
          ],
          "heatmapgl": [
           {
            "colorbar": {
             "outlinewidth": 0,
             "ticks": ""
            },
            "colorscale": [
             [
              0,
              "#0d0887"
             ],
             [
              0.1111111111111111,
              "#46039f"
             ],
             [
              0.2222222222222222,
              "#7201a8"
             ],
             [
              0.3333333333333333,
              "#9c179e"
             ],
             [
              0.4444444444444444,
              "#bd3786"
             ],
             [
              0.5555555555555556,
              "#d8576b"
             ],
             [
              0.6666666666666666,
              "#ed7953"
             ],
             [
              0.7777777777777778,
              "#fb9f3a"
             ],
             [
              0.8888888888888888,
              "#fdca26"
             ],
             [
              1,
              "#f0f921"
             ]
            ],
            "type": "heatmapgl"
           }
          ],
          "histogram": [
           {
            "marker": {
             "pattern": {
              "fillmode": "overlay",
              "size": 10,
              "solidity": 0.2
             }
            },
            "type": "histogram"
           }
          ],
          "histogram2d": [
           {
            "colorbar": {
             "outlinewidth": 0,
             "ticks": ""
            },
            "colorscale": [
             [
              0,
              "#0d0887"
             ],
             [
              0.1111111111111111,
              "#46039f"
             ],
             [
              0.2222222222222222,
              "#7201a8"
             ],
             [
              0.3333333333333333,
              "#9c179e"
             ],
             [
              0.4444444444444444,
              "#bd3786"
             ],
             [
              0.5555555555555556,
              "#d8576b"
             ],
             [
              0.6666666666666666,
              "#ed7953"
             ],
             [
              0.7777777777777778,
              "#fb9f3a"
             ],
             [
              0.8888888888888888,
              "#fdca26"
             ],
             [
              1,
              "#f0f921"
             ]
            ],
            "type": "histogram2d"
           }
          ],
          "histogram2dcontour": [
           {
            "colorbar": {
             "outlinewidth": 0,
             "ticks": ""
            },
            "colorscale": [
             [
              0,
              "#0d0887"
             ],
             [
              0.1111111111111111,
              "#46039f"
             ],
             [
              0.2222222222222222,
              "#7201a8"
             ],
             [
              0.3333333333333333,
              "#9c179e"
             ],
             [
              0.4444444444444444,
              "#bd3786"
             ],
             [
              0.5555555555555556,
              "#d8576b"
             ],
             [
              0.6666666666666666,
              "#ed7953"
             ],
             [
              0.7777777777777778,
              "#fb9f3a"
             ],
             [
              0.8888888888888888,
              "#fdca26"
             ],
             [
              1,
              "#f0f921"
             ]
            ],
            "type": "histogram2dcontour"
           }
          ],
          "mesh3d": [
           {
            "colorbar": {
             "outlinewidth": 0,
             "ticks": ""
            },
            "type": "mesh3d"
           }
          ],
          "parcoords": [
           {
            "line": {
             "colorbar": {
              "outlinewidth": 0,
              "ticks": ""
             }
            },
            "type": "parcoords"
           }
          ],
          "pie": [
           {
            "automargin": true,
            "type": "pie"
           }
          ],
          "scatter": [
           {
            "marker": {
             "colorbar": {
              "outlinewidth": 0,
              "ticks": ""
             }
            },
            "type": "scatter"
           }
          ],
          "scatter3d": [
           {
            "line": {
             "colorbar": {
              "outlinewidth": 0,
              "ticks": ""
             }
            },
            "marker": {
             "colorbar": {
              "outlinewidth": 0,
              "ticks": ""
             }
            },
            "type": "scatter3d"
           }
          ],
          "scattercarpet": [
           {
            "marker": {
             "colorbar": {
              "outlinewidth": 0,
              "ticks": ""
             }
            },
            "type": "scattercarpet"
           }
          ],
          "scattergeo": [
           {
            "marker": {
             "colorbar": {
              "outlinewidth": 0,
              "ticks": ""
             }
            },
            "type": "scattergeo"
           }
          ],
          "scattergl": [
           {
            "marker": {
             "colorbar": {
              "outlinewidth": 0,
              "ticks": ""
             }
            },
            "type": "scattergl"
           }
          ],
          "scattermapbox": [
           {
            "marker": {
             "colorbar": {
              "outlinewidth": 0,
              "ticks": ""
             }
            },
            "type": "scattermapbox"
           }
          ],
          "scatterpolar": [
           {
            "marker": {
             "colorbar": {
              "outlinewidth": 0,
              "ticks": ""
             }
            },
            "type": "scatterpolar"
           }
          ],
          "scatterpolargl": [
           {
            "marker": {
             "colorbar": {
              "outlinewidth": 0,
              "ticks": ""
             }
            },
            "type": "scatterpolargl"
           }
          ],
          "scatterternary": [
           {
            "marker": {
             "colorbar": {
              "outlinewidth": 0,
              "ticks": ""
             }
            },
            "type": "scatterternary"
           }
          ],
          "surface": [
           {
            "colorbar": {
             "outlinewidth": 0,
             "ticks": ""
            },
            "colorscale": [
             [
              0,
              "#0d0887"
             ],
             [
              0.1111111111111111,
              "#46039f"
             ],
             [
              0.2222222222222222,
              "#7201a8"
             ],
             [
              0.3333333333333333,
              "#9c179e"
             ],
             [
              0.4444444444444444,
              "#bd3786"
             ],
             [
              0.5555555555555556,
              "#d8576b"
             ],
             [
              0.6666666666666666,
              "#ed7953"
             ],
             [
              0.7777777777777778,
              "#fb9f3a"
             ],
             [
              0.8888888888888888,
              "#fdca26"
             ],
             [
              1,
              "#f0f921"
             ]
            ],
            "type": "surface"
           }
          ],
          "table": [
           {
            "cells": {
             "fill": {
              "color": "#EBF0F8"
             },
             "line": {
              "color": "white"
             }
            },
            "header": {
             "fill": {
              "color": "#C8D4E3"
             },
             "line": {
              "color": "white"
             }
            },
            "type": "table"
           }
          ]
         },
         "layout": {
          "annotationdefaults": {
           "arrowcolor": "#2a3f5f",
           "arrowhead": 0,
           "arrowwidth": 1
          },
          "autotypenumbers": "strict",
          "coloraxis": {
           "colorbar": {
            "outlinewidth": 0,
            "ticks": ""
           }
          },
          "colorscale": {
           "diverging": [
            [
             0,
             "#8e0152"
            ],
            [
             0.1,
             "#c51b7d"
            ],
            [
             0.2,
             "#de77ae"
            ],
            [
             0.3,
             "#f1b6da"
            ],
            [
             0.4,
             "#fde0ef"
            ],
            [
             0.5,
             "#f7f7f7"
            ],
            [
             0.6,
             "#e6f5d0"
            ],
            [
             0.7,
             "#b8e186"
            ],
            [
             0.8,
             "#7fbc41"
            ],
            [
             0.9,
             "#4d9221"
            ],
            [
             1,
             "#276419"
            ]
           ],
           "sequential": [
            [
             0,
             "#0d0887"
            ],
            [
             0.1111111111111111,
             "#46039f"
            ],
            [
             0.2222222222222222,
             "#7201a8"
            ],
            [
             0.3333333333333333,
             "#9c179e"
            ],
            [
             0.4444444444444444,
             "#bd3786"
            ],
            [
             0.5555555555555556,
             "#d8576b"
            ],
            [
             0.6666666666666666,
             "#ed7953"
            ],
            [
             0.7777777777777778,
             "#fb9f3a"
            ],
            [
             0.8888888888888888,
             "#fdca26"
            ],
            [
             1,
             "#f0f921"
            ]
           ],
           "sequentialminus": [
            [
             0,
             "#0d0887"
            ],
            [
             0.1111111111111111,
             "#46039f"
            ],
            [
             0.2222222222222222,
             "#7201a8"
            ],
            [
             0.3333333333333333,
             "#9c179e"
            ],
            [
             0.4444444444444444,
             "#bd3786"
            ],
            [
             0.5555555555555556,
             "#d8576b"
            ],
            [
             0.6666666666666666,
             "#ed7953"
            ],
            [
             0.7777777777777778,
             "#fb9f3a"
            ],
            [
             0.8888888888888888,
             "#fdca26"
            ],
            [
             1,
             "#f0f921"
            ]
           ]
          },
          "colorway": [
           "#636efa",
           "#EF553B",
           "#00cc96",
           "#ab63fa",
           "#FFA15A",
           "#19d3f3",
           "#FF6692",
           "#B6E880",
           "#FF97FF",
           "#FECB52"
          ],
          "font": {
           "color": "#2a3f5f"
          },
          "geo": {
           "bgcolor": "white",
           "lakecolor": "white",
           "landcolor": "#E5ECF6",
           "showlakes": true,
           "showland": true,
           "subunitcolor": "white"
          },
          "hoverlabel": {
           "align": "left"
          },
          "hovermode": "closest",
          "mapbox": {
           "style": "light"
          },
          "paper_bgcolor": "white",
          "plot_bgcolor": "#E5ECF6",
          "polar": {
           "angularaxis": {
            "gridcolor": "white",
            "linecolor": "white",
            "ticks": ""
           },
           "bgcolor": "#E5ECF6",
           "radialaxis": {
            "gridcolor": "white",
            "linecolor": "white",
            "ticks": ""
           }
          },
          "scene": {
           "xaxis": {
            "backgroundcolor": "#E5ECF6",
            "gridcolor": "white",
            "gridwidth": 2,
            "linecolor": "white",
            "showbackground": true,
            "ticks": "",
            "zerolinecolor": "white"
           },
           "yaxis": {
            "backgroundcolor": "#E5ECF6",
            "gridcolor": "white",
            "gridwidth": 2,
            "linecolor": "white",
            "showbackground": true,
            "ticks": "",
            "zerolinecolor": "white"
           },
           "zaxis": {
            "backgroundcolor": "#E5ECF6",
            "gridcolor": "white",
            "gridwidth": 2,
            "linecolor": "white",
            "showbackground": true,
            "ticks": "",
            "zerolinecolor": "white"
           }
          },
          "shapedefaults": {
           "line": {
            "color": "#2a3f5f"
           }
          },
          "ternary": {
           "aaxis": {
            "gridcolor": "white",
            "linecolor": "white",
            "ticks": ""
           },
           "baxis": {
            "gridcolor": "white",
            "linecolor": "white",
            "ticks": ""
           },
           "bgcolor": "#E5ECF6",
           "caxis": {
            "gridcolor": "white",
            "linecolor": "white",
            "ticks": ""
           }
          },
          "title": {
           "x": 0.05
          },
          "xaxis": {
           "automargin": true,
           "gridcolor": "white",
           "linecolor": "white",
           "ticks": "",
           "title": {
            "standoff": 15
           },
           "zerolinecolor": "white",
           "zerolinewidth": 2
          },
          "yaxis": {
           "automargin": true,
           "gridcolor": "white",
           "linecolor": "white",
           "ticks": "",
           "title": {
            "standoff": 15
           },
           "zerolinecolor": "white",
           "zerolinewidth": 2
          }
         }
        },
        "title": {
         "text": "Parallel Coordinate Plot"
        }
       }
      }
     },
     "metadata": {},
     "output_type": "display_data"
    }
   ],
   "source": [
    "optuna.visualization.plot_parallel_coordinate(study)"
   ]
  },
  {
   "cell_type": "code",
   "execution_count": 52,
   "id": "75db1ddf",
   "metadata": {},
   "outputs": [
    {
     "name": "stdout",
     "output_type": "stream",
     "text": [
      "Best trial: {'n_estimators': 584, 'max_depth': 12, 'num_leaves': 15, 'min_child_samples': 1, 'num_iterations': 811}\n"
     ]
    }
   ],
   "source": [
    "print(\"Best trial:\", study.best_trial.params)"
   ]
  },
  {
   "cell_type": "code",
   "execution_count": 53,
   "id": "574699dc",
   "metadata": {},
   "outputs": [
    {
     "data": {
      "text/plain": [
       "584"
      ]
     },
     "execution_count": 53,
     "metadata": {},
     "output_type": "execute_result"
    }
   ],
   "source": [
    "study.best_trial.params[\"n_estimators\"]"
   ]
  },
  {
   "cell_type": "code",
   "execution_count": 54,
   "id": "862eadd2",
   "metadata": {},
   "outputs": [
    {
     "data": {
      "text/html": [
       "<style>#sk-container-id-1 {color: black;background-color: white;}#sk-container-id-1 pre{padding: 0;}#sk-container-id-1 div.sk-toggleable {background-color: white;}#sk-container-id-1 label.sk-toggleable__label {cursor: pointer;display: block;width: 100%;margin-bottom: 0;padding: 0.3em;box-sizing: border-box;text-align: center;}#sk-container-id-1 label.sk-toggleable__label-arrow:before {content: \"▸\";float: left;margin-right: 0.25em;color: #696969;}#sk-container-id-1 label.sk-toggleable__label-arrow:hover:before {color: black;}#sk-container-id-1 div.sk-estimator:hover label.sk-toggleable__label-arrow:before {color: black;}#sk-container-id-1 div.sk-toggleable__content {max-height: 0;max-width: 0;overflow: hidden;text-align: left;background-color: #f0f8ff;}#sk-container-id-1 div.sk-toggleable__content pre {margin: 0.2em;color: black;border-radius: 0.25em;background-color: #f0f8ff;}#sk-container-id-1 input.sk-toggleable__control:checked~div.sk-toggleable__content {max-height: 200px;max-width: 100%;overflow: auto;}#sk-container-id-1 input.sk-toggleable__control:checked~label.sk-toggleable__label-arrow:before {content: \"▾\";}#sk-container-id-1 div.sk-estimator input.sk-toggleable__control:checked~label.sk-toggleable__label {background-color: #d4ebff;}#sk-container-id-1 div.sk-label input.sk-toggleable__control:checked~label.sk-toggleable__label {background-color: #d4ebff;}#sk-container-id-1 input.sk-hidden--visually {border: 0;clip: rect(1px 1px 1px 1px);clip: rect(1px, 1px, 1px, 1px);height: 1px;margin: -1px;overflow: hidden;padding: 0;position: absolute;width: 1px;}#sk-container-id-1 div.sk-estimator {font-family: monospace;background-color: #f0f8ff;border: 1px dotted black;border-radius: 0.25em;box-sizing: border-box;margin-bottom: 0.5em;}#sk-container-id-1 div.sk-estimator:hover {background-color: #d4ebff;}#sk-container-id-1 div.sk-parallel-item::after {content: \"\";width: 100%;border-bottom: 1px solid gray;flex-grow: 1;}#sk-container-id-1 div.sk-label:hover label.sk-toggleable__label {background-color: #d4ebff;}#sk-container-id-1 div.sk-serial::before {content: \"\";position: absolute;border-left: 1px solid gray;box-sizing: border-box;top: 0;bottom: 0;left: 50%;z-index: 0;}#sk-container-id-1 div.sk-serial {display: flex;flex-direction: column;align-items: center;background-color: white;padding-right: 0.2em;padding-left: 0.2em;position: relative;}#sk-container-id-1 div.sk-item {position: relative;z-index: 1;}#sk-container-id-1 div.sk-parallel {display: flex;align-items: stretch;justify-content: center;background-color: white;position: relative;}#sk-container-id-1 div.sk-item::before, #sk-container-id-1 div.sk-parallel-item::before {content: \"\";position: absolute;border-left: 1px solid gray;box-sizing: border-box;top: 0;bottom: 0;left: 50%;z-index: -1;}#sk-container-id-1 div.sk-parallel-item {display: flex;flex-direction: column;z-index: 1;position: relative;background-color: white;}#sk-container-id-1 div.sk-parallel-item:first-child::after {align-self: flex-end;width: 50%;}#sk-container-id-1 div.sk-parallel-item:last-child::after {align-self: flex-start;width: 50%;}#sk-container-id-1 div.sk-parallel-item:only-child::after {width: 0;}#sk-container-id-1 div.sk-dashed-wrapped {border: 1px dashed gray;margin: 0 0.4em 0.5em 0.4em;box-sizing: border-box;padding-bottom: 0.4em;background-color: white;}#sk-container-id-1 div.sk-label label {font-family: monospace;font-weight: bold;display: inline-block;line-height: 1.2em;}#sk-container-id-1 div.sk-label-container {text-align: center;}#sk-container-id-1 div.sk-container {/* jupyter's `normalize.less` sets `[hidden] { display: none; }` but bootstrap.min.css set `[hidden] { display: none !important; }` so we also need the `!important` here to be able to override the default hidden behavior on the sphinx rendered scikit-learn.org. See: https://github.com/scikit-learn/scikit-learn/issues/21755 */display: inline-block !important;position: relative;}#sk-container-id-1 div.sk-text-repr-fallback {display: none;}</style><div id=\"sk-container-id-1\" class=\"sk-top-container\"><div class=\"sk-text-repr-fallback\"><pre>LGBMRegressor(max_depth=12, min_child_samples=1, n_estimators=584,\n",
       "              num_iterations=811, num_leaves=15, random_state=42)</pre><b>In a Jupyter environment, please rerun this cell to show the HTML representation or trust the notebook. <br />On GitHub, the HTML representation is unable to render, please try loading this page with nbviewer.org.</b></div><div class=\"sk-container\" hidden><div class=\"sk-item\"><div class=\"sk-estimator sk-toggleable\"><input class=\"sk-toggleable__control sk-hidden--visually\" id=\"sk-estimator-id-1\" type=\"checkbox\" checked><label for=\"sk-estimator-id-1\" class=\"sk-toggleable__label sk-toggleable__label-arrow\">LGBMRegressor</label><div class=\"sk-toggleable__content\"><pre>LGBMRegressor(max_depth=12, min_child_samples=1, n_estimators=584,\n",
       "              num_iterations=811, num_leaves=15, random_state=42)</pre></div></div></div></div></div>"
      ],
      "text/plain": [
       "LGBMRegressor(max_depth=12, min_child_samples=1, n_estimators=584,\n",
       "              num_iterations=811, num_leaves=15, random_state=42)"
      ]
     },
     "execution_count": 54,
     "metadata": {},
     "output_type": "execute_result"
    }
   ],
   "source": [
    "lgbm_params = {\n",
    "    \"random_state\": 42,\n",
    "    \"learning_rate\": 0.1,\n",
    "    \"n_estimators\": study.best_trial.params[\"n_estimators\"],\n",
    "    \"max_depth\": study.best_trial.params[\"max_depth\"],\n",
    "    \"num_leaves\": study.best_trial.params[\"num_leaves\"],\n",
    "    \"min_child_samples\": study.best_trial.params[\"min_child_samples\"],\n",
    "    \"num_iterations\": study.best_trial.params[\"num_iterations\"]\n",
    "}\n",
    "\n",
    "lgbm = LGBMRegressor(**lgbm_params)\n",
    "lgbm.fit(As_X_train, As_y_train)"
   ]
  },
  {
   "cell_type": "code",
   "execution_count": 55,
   "id": "8577fb37",
   "metadata": {},
   "outputs": [],
   "source": [
    "y_train_pred = lgbm.predict(As_X_train)\n",
    "y_test_pred = lgbm.predict(As_X_test)"
   ]
  },
  {
   "cell_type": "code",
   "execution_count": 56,
   "id": "2ea0526a",
   "metadata": {},
   "outputs": [],
   "source": [
    "# plt.scatter(y_train_pred, np.array(As_y_train))"
   ]
  },
  {
   "cell_type": "code",
   "execution_count": 57,
   "id": "d2a4dd85",
   "metadata": {},
   "outputs": [
    {
     "name": "stdout",
     "output_type": "stream",
     "text": [
      "Train RMSE:  0.009657802021598456\n",
      "Test RMSE:  0.32856407921279\n"
     ]
    }
   ],
   "source": [
    "print(\"Train RMSE: \", np.sqrt(mean_squared_error(As_y_train, y_train_pred)))\n",
    "print(\"Test RMSE: \", np.sqrt(mean_squared_error(As_y_test, y_test_pred)))"
   ]
  },
  {
   "cell_type": "code",
   "execution_count": 58,
   "id": "08fe787a",
   "metadata": {},
   "outputs": [
    {
     "name": "stdout",
     "output_type": "stream",
     "text": [
      "Train R2:  0.9996332667251405\n",
      "Test R2:  0.533366896987626\n"
     ]
    }
   ],
   "source": [
    "print(\"Train R2: \", r2_score(As_y_train, y_train_pred))\n",
    "print(\"Test R2: \", r2_score(As_y_test, y_test_pred))"
   ]
  },
  {
   "cell_type": "code",
   "execution_count": 59,
   "id": "5ec4820c",
   "metadata": {},
   "outputs": [
    {
     "data": {
      "image/png": "[encoded data removed]",
      "text/plain": [
       "<Figure size 432x288 with 1 Axes>"
      ]
     },
     "metadata": {
      "needs_background": "light"
     },
     "output_type": "display_data"
    }
   ],
   "source": [
    "plt.scatter(y_train_pred, np.array(As_y_train), color=\"orange\", alpha=0.3)\n",
    "plt.scatter(y_test_pred, np.array(As_y_test), color=\"green\", alpha=0.4)\n",
    "plt.axis(\"auto\") # scaled, tight, auto, image, square\n",
    "# plt.xlim([0, 1.5]) \n",
    "# plt.ylim(0, None) \n",
    "plt.xlabel('Predicted Values')\n",
    "plt.ylabel('Actual Values')\n",
    "\n",
    "# Add y=x line\n",
    "plt.plot([0, 4.0], [0, 4.0], color='red', linestyle='-')\n",
    "\n",
    "plt.show()"
   ]
  },
  {
   "attachments": {},
   "cell_type": "markdown",
   "id": "e0507d63",
   "metadata": {},
   "source": [
    "Cd"
   ]
  },
  {
   "attachments": {},
   "cell_type": "markdown",
   "id": "f8f809d9",
   "metadata": {},
   "source": [
    "Optimization"
   ]
  },
  {
   "cell_type": "code",
   "execution_count": 60,
   "id": "b7aeaf0a",
   "metadata": {},
   "outputs": [
    {
     "name": "stderr",
     "output_type": "stream",
     "text": [
      "\u001b[32m[I 2023-08-17 22:42:44,847]\u001b[0m A new study created in memory with name: lgbm_parameter_opt\u001b[0m\n",
      "\u001b[32m[I 2023-08-17 22:42:47,543]\u001b[0m Trial 0 finished with value: 0.576719505111926 and parameters: {'n_estimators': 773, 'max_depth': 21, 'num_leaves': 11, 'min_child_samples': 8, 'num_iterations': 853}. Best is trial 0 with value: 0.576719505111926.\u001b[0m\n",
      "\u001b[32m[I 2023-08-17 22:42:50,608]\u001b[0m Trial 1 finished with value: 0.5645053365833193 and parameters: {'n_estimators': 665, 'max_depth': 5, 'num_leaves': 25, 'min_child_samples': 7, 'num_iterations': 900}. Best is trial 0 with value: 0.576719505111926.\u001b[0m\n",
      "\u001b[32m[I 2023-08-17 22:42:51,390]\u001b[0m Trial 2 finished with value: 0.5562471672229714 and parameters: {'n_estimators': 845, 'max_depth': 14, 'num_leaves': 5, 'min_child_samples': 7, 'num_iterations': 528}. Best is trial 0 with value: 0.576719505111926.\u001b[0m\n",
      "\u001b[32m[I 2023-08-17 22:42:53,348]\u001b[0m Trial 3 finished with value: 0.5694793961716129 and parameters: {'n_estimators': 786, 'max_depth': 30, 'num_leaves': 6, 'min_child_samples': 6, 'num_iterations': 951}. Best is trial 0 with value: 0.576719505111926.\u001b[0m\n",
      "\u001b[32m[I 2023-08-17 22:42:55,963]\u001b[0m Trial 4 finished with value: 0.5807353718351133 and parameters: {'n_estimators': 666, 'max_depth': 29, 'num_leaves': 14, 'min_child_samples': 3, 'num_iterations': 527}. Best is trial 4 with value: 0.5807353718351133.\u001b[0m\n",
      "\u001b[32m[I 2023-08-17 22:43:04,547]\u001b[0m Trial 5 finished with value: 0.5762177606081637 and parameters: {'n_estimators': 821, 'max_depth': 20, 'num_leaves': 30, 'min_child_samples': 2, 'num_iterations': 986}. Best is trial 4 with value: 0.5807353718351133.\u001b[0m\n",
      "\u001b[32m[I 2023-08-17 22:43:08,365]\u001b[0m Trial 6 finished with value: 0.5733669675628399 and parameters: {'n_estimators': 534, 'max_depth': 6, 'num_leaves': 17, 'min_child_samples': 4, 'num_iterations': 900}. Best is trial 4 with value: 0.5807353718351133.\u001b[0m\n",
      "\u001b[32m[I 2023-08-17 22:43:09,305]\u001b[0m Trial 7 finished with value: 0.5495105342630717 and parameters: {'n_estimators': 671, 'max_depth': 28, 'num_leaves': 4, 'min_child_samples': 1, 'num_iterations': 679}. Best is trial 4 with value: 0.5807353718351133.\u001b[0m\n",
      "\u001b[32m[I 2023-08-17 22:43:14,420]\u001b[0m Trial 8 finished with value: 0.5798864399308881 and parameters: {'n_estimators': 861, 'max_depth': 30, 'num_leaves': 25, 'min_child_samples': 10, 'num_iterations': 889}. Best is trial 4 with value: 0.5807353718351133.\u001b[0m\n",
      "\u001b[32m[I 2023-08-17 22:43:18,732]\u001b[0m Trial 9 finished with value: 0.5594799852249563 and parameters: {'n_estimators': 593, 'max_depth': 7, 'num_leaves': 27, 'min_child_samples': 2, 'num_iterations': 610}. Best is trial 4 with value: 0.5807353718351133.\u001b[0m\n",
      "\u001b[32m[I 2023-08-17 22:43:21,120]\u001b[0m Trial 10 finished with value: 0.5838979117719768 and parameters: {'n_estimators': 984, 'max_depth': 14, 'num_leaves': 17, 'min_child_samples': 4, 'num_iterations': 507}. Best is trial 10 with value: 0.5838979117719768.\u001b[0m\n",
      "\u001b[32m[I 2023-08-17 22:43:23,915]\u001b[0m Trial 11 finished with value: 0.5837847716730132 and parameters: {'n_estimators': 984, 'max_depth': 14, 'num_leaves': 17, 'min_child_samples': 4, 'num_iterations': 524}. Best is trial 10 with value: 0.5838979117719768.\u001b[0m\n",
      "\u001b[32m[I 2023-08-17 22:43:28,039]\u001b[0m Trial 12 finished with value: 0.5792502609112694 and parameters: {'n_estimators': 986, 'max_depth': 13, 'num_leaves': 21, 'min_child_samples': 4, 'num_iterations': 614}. Best is trial 10 with value: 0.5838979117719768.\u001b[0m\n",
      "\u001b[32m[I 2023-08-17 22:43:32,043]\u001b[0m Trial 13 finished with value: 0.5800096989188577 and parameters: {'n_estimators': 997, 'max_depth': 11, 'num_leaves': 20, 'min_child_samples': 5, 'num_iterations': 762}. Best is trial 10 with value: 0.5838979117719768.\u001b[0m\n",
      "\u001b[32m[I 2023-08-17 22:43:33,608]\u001b[0m Trial 14 finished with value: 0.5849739912967267 and parameters: {'n_estimators': 924, 'max_depth': 19, 'num_leaves': 11, 'min_child_samples': 5, 'num_iterations': 505}. Best is trial 14 with value: 0.5849739912967267.\u001b[0m\n",
      "\u001b[32m[I 2023-08-17 22:43:35,218]\u001b[0m Trial 15 finished with value: 0.5885740461485178 and parameters: {'n_estimators': 929, 'max_depth': 19, 'num_leaves': 10, 'min_child_samples': 5, 'num_iterations': 598}. Best is trial 15 with value: 0.5885740461485178.\u001b[0m\n",
      "\u001b[32m[I 2023-08-17 22:43:36,717]\u001b[0m Trial 16 finished with value: 0.5666157583310951 and parameters: {'n_estimators': 904, 'max_depth': 20, 'num_leaves': 10, 'min_child_samples': 9, 'num_iterations': 614}. Best is trial 15 with value: 0.5885740461485178.\u001b[0m\n",
      "\u001b[32m[I 2023-08-17 22:43:38,459]\u001b[0m Trial 17 finished with value: 0.5913061643106889 and parameters: {'n_estimators': 914, 'max_depth': 24, 'num_leaves': 9, 'min_child_samples': 6, 'num_iterations': 703}. Best is trial 17 with value: 0.5913061643106889.\u001b[0m\n",
      "\u001b[32m[I 2023-08-17 22:43:38,954]\u001b[0m Trial 18 finished with value: 0.49366908720114944 and parameters: {'n_estimators': 917, 'max_depth': 25, 'num_leaves': 2, 'min_child_samples': 6, 'num_iterations': 747}. Best is trial 17 with value: 0.5913061643106889.\u001b[0m\n",
      "\u001b[32m[I 2023-08-17 22:43:40,962]\u001b[0m Trial 19 finished with value: 0.5732511433535862 and parameters: {'n_estimators': 728, 'max_depth': 24, 'num_leaves': 8, 'min_child_samples': 7, 'num_iterations': 710}. Best is trial 17 with value: 0.5913061643106889.\u001b[0m\n",
      "\u001b[32m[I 2023-08-17 22:43:43,249]\u001b[0m Trial 20 finished with value: 0.5680528200376409 and parameters: {'n_estimators': 891, 'max_depth': 17, 'num_leaves': 14, 'min_child_samples': 9, 'num_iterations': 670}. Best is trial 17 with value: 0.5913061643106889.\u001b[0m\n",
      "\u001b[32m[I 2023-08-17 22:43:45,218]\u001b[0m Trial 21 finished with value: 0.5847861263596913 and parameters: {'n_estimators': 926, 'max_depth': 24, 'num_leaves': 11, 'min_child_samples': 5, 'num_iterations': 584}. Best is trial 17 with value: 0.5913061643106889.\u001b[0m\n",
      "\u001b[32m[I 2023-08-17 22:43:45,646]\u001b[0m Trial 22 finished with value: 0.490726062378129 and parameters: {'n_estimators': 941, 'max_depth': 1, 'num_leaves': 8, 'min_child_samples': 6, 'num_iterations': 585}. Best is trial 17 with value: 0.5913061643106889.\u001b[0m\n",
      "\u001b[32m[I 2023-08-17 22:43:48,799]\u001b[0m Trial 23 finished with value: 0.5884382198718894 and parameters: {'n_estimators': 867, 'max_depth': 18, 'num_leaves': 13, 'min_child_samples': 5, 'num_iterations': 811}. Best is trial 17 with value: 0.5913061643106889.\u001b[0m\n",
      "\u001b[32m[I 2023-08-17 22:43:52,216]\u001b[0m Trial 24 finished with value: 0.5808392594429154 and parameters: {'n_estimators': 853, 'max_depth': 17, 'num_leaves': 14, 'min_child_samples': 3, 'num_iterations': 808}. Best is trial 17 with value: 0.5913061643106889.\u001b[0m\n",
      "\u001b[32m[I 2023-08-17 22:43:54,582]\u001b[0m Trial 25 finished with value: 0.5729850450307066 and parameters: {'n_estimators': 811, 'max_depth': 22, 'num_leaves': 8, 'min_child_samples': 8, 'num_iterations': 792}. Best is trial 17 with value: 0.5913061643106889.\u001b[0m\n",
      "\u001b[32m[I 2023-08-17 22:43:57,212]\u001b[0m Trial 26 finished with value: 0.5893935185745458 and parameters: {'n_estimators': 879, 'max_depth': 26, 'num_leaves': 13, 'min_child_samples': 5, 'num_iterations': 691}. Best is trial 17 with value: 0.5913061643106889.\u001b[0m\n",
      "\u001b[32m[I 2023-08-17 22:44:00,832]\u001b[0m Trial 27 finished with value: 0.5889375388234909 and parameters: {'n_estimators': 725, 'max_depth': 27, 'num_leaves': 20, 'min_child_samples': 6, 'num_iterations': 665}. Best is trial 17 with value: 0.5913061643106889.\u001b[0m\n",
      "\u001b[32m[I 2023-08-17 22:44:04,774]\u001b[0m Trial 28 finished with value: 0.5830607278344732 and parameters: {'n_estimators': 728, 'max_depth': 27, 'num_leaves': 19, 'min_child_samples': 7, 'num_iterations': 703}. Best is trial 17 with value: 0.5913061643106889.\u001b[0m\n",
      "\u001b[32m[I 2023-08-17 22:44:08,635]\u001b[0m Trial 29 finished with value: 0.5808512983302215 and parameters: {'n_estimators': 764, 'max_depth': 26, 'num_leaves': 22, 'min_child_samples': 8, 'num_iterations': 668}. Best is trial 17 with value: 0.5913061643106889.\u001b[0m\n",
      "\u001b[32m[I 2023-08-17 22:44:13,098]\u001b[0m Trial 30 finished with value: 0.5933509279968658 and parameters: {'n_estimators': 706, 'max_depth': 22, 'num_leaves': 24, 'min_child_samples': 6, 'num_iterations': 728}. Best is trial 30 with value: 0.5933509279968658.\u001b[0m\n",
      "\u001b[32m[I 2023-08-17 22:44:17,522]\u001b[0m Trial 31 finished with value: 0.5823663308634591 and parameters: {'n_estimators': 679, 'max_depth': 22, 'num_leaves': 23, 'min_child_samples': 6, 'num_iterations': 734}. Best is trial 30 with value: 0.5933509279968658.\u001b[0m\n",
      "\u001b[32m[I 2023-08-17 22:44:22,307]\u001b[0m Trial 32 finished with value: 0.5783924360857078 and parameters: {'n_estimators': 629, 'max_depth': 22, 'num_leaves': 30, 'min_child_samples': 7, 'num_iterations': 652}. Best is trial 30 with value: 0.5933509279968658.\u001b[0m\n",
      "\u001b[32m[I 2023-08-17 22:44:27,188]\u001b[0m Trial 33 finished with value: 0.5842925666819607 and parameters: {'n_estimators': 715, 'max_depth': 27, 'num_leaves': 25, 'min_child_samples': 6, 'num_iterations': 716}. Best is trial 30 with value: 0.5933509279968658.\u001b[0m\n",
      "\u001b[32m[I 2023-08-17 22:44:30,164]\u001b[0m Trial 34 finished with value: 0.5788355753857998 and parameters: {'n_estimators': 783, 'max_depth': 25, 'num_leaves': 18, 'min_child_samples': 7, 'num_iterations': 644}. Best is trial 30 with value: 0.5933509279968658.\u001b[0m\n",
      "\u001b[32m[I 2023-08-17 22:44:35,562]\u001b[0m Trial 35 finished with value: 0.5765095449536399 and parameters: {'n_estimators': 696, 'max_depth': 23, 'num_leaves': 28, 'min_child_samples': 6, 'num_iterations': 775}. Best is trial 30 with value: 0.5933509279968658.\u001b[0m\n",
      "\u001b[32m[I 2023-08-17 22:44:40,199]\u001b[0m Trial 36 finished with value: 0.5823206520151448 and parameters: {'n_estimators': 631, 'max_depth': 28, 'num_leaves': 23, 'min_child_samples': 7, 'num_iterations': 841}. Best is trial 30 with value: 0.5933509279968658.\u001b[0m\n",
      "\u001b[32m[I 2023-08-17 22:44:45,688]\u001b[0m Trial 37 finished with value: 0.5670404282599898 and parameters: {'n_estimators': 804, 'max_depth': 26, 'num_leaves': 32, 'min_child_samples': 3, 'num_iterations': 692}. Best is trial 30 with value: 0.5933509279968658.\u001b[0m\n",
      "\u001b[32m[I 2023-08-17 22:44:47,961]\u001b[0m Trial 38 finished with value: 0.5867993892772926 and parameters: {'n_estimators': 755, 'max_depth': 30, 'num_leaves': 16, 'min_child_samples': 8, 'num_iterations': 559}. Best is trial 30 with value: 0.5933509279968658.\u001b[0m\n",
      "\u001b[32m[I 2023-08-17 22:44:50,105]\u001b[0m Trial 39 finished with value: 0.5896914704529803 and parameters: {'n_estimators': 827, 'max_depth': 24, 'num_leaves': 13, 'min_child_samples': 5, 'num_iterations': 635}. Best is trial 30 with value: 0.5933509279968658.\u001b[0m\n",
      "\u001b[32m[I 2023-08-17 22:44:52,260]\u001b[0m Trial 40 finished with value: 0.5878041435819856 and parameters: {'n_estimators': 881, 'max_depth': 21, 'num_leaves': 13, 'min_child_samples': 4, 'num_iterations': 633}. Best is trial 30 with value: 0.5933509279968658.\u001b[0m\n",
      "\u001b[32m[I 2023-08-17 22:44:55,770]\u001b[0m Trial 41 finished with value: 0.5872669082213033 and parameters: {'n_estimators': 823, 'max_depth': 24, 'num_leaves': 16, 'min_child_samples': 6, 'num_iterations': 722}. Best is trial 30 with value: 0.5933509279968658.\u001b[0m\n",
      "\u001b[32m[I 2023-08-17 22:44:57,085]\u001b[0m Trial 42 finished with value: 0.5700517014370837 and parameters: {'n_estimators': 835, 'max_depth': 28, 'num_leaves': 6, 'min_child_samples': 5, 'num_iterations': 684}. Best is trial 30 with value: 0.5933509279968658.\u001b[0m\n",
      "\u001b[32m[I 2023-08-17 22:44:59,455]\u001b[0m Trial 43 finished with value: 0.5714283940317022 and parameters: {'n_estimators': 958, 'max_depth': 26, 'num_leaves': 12, 'min_child_samples': 4, 'num_iterations': 740}. Best is trial 30 with value: 0.5933509279968658.\u001b[0m\n",
      "\u001b[32m[I 2023-08-17 22:45:02,782]\u001b[0m Trial 44 finished with value: 0.582340564226285 and parameters: {'n_estimators': 799, 'max_depth': 23, 'num_leaves': 19, 'min_child_samples': 5, 'num_iterations': 646}. Best is trial 30 with value: 0.5933509279968658.\u001b[0m\n",
      "\u001b[32m[I 2023-08-17 22:45:05,452]\u001b[0m Trial 45 finished with value: 0.5800070241799555 and parameters: {'n_estimators': 632, 'max_depth': 29, 'num_leaves': 15, 'min_child_samples': 6, 'num_iterations': 669}. Best is trial 30 with value: 0.5933509279968658.\u001b[0m\n",
      "\u001b[32m[I 2023-08-17 22:45:09,163]\u001b[0m Trial 46 finished with value: 0.5730943931565184 and parameters: {'n_estimators': 738, 'max_depth': 25, 'num_leaves': 26, 'min_child_samples': 3, 'num_iterations': 554}. Best is trial 30 with value: 0.5933509279968658.\u001b[0m\n",
      "\u001b[32m[I 2023-08-17 22:45:13,740]\u001b[0m Trial 47 finished with value: 0.57915818110219 and parameters: {'n_estimators': 700, 'max_depth': 21, 'num_leaves': 22, 'min_child_samples': 5, 'num_iterations': 773}. Best is trial 30 with value: 0.5933509279968658.\u001b[0m\n",
      "\u001b[32m[I 2023-08-17 22:45:17,108]\u001b[0m Trial 48 finished with value: 0.5783492069486703 and parameters: {'n_estimators': 571, 'max_depth': 29, 'num_leaves': 20, 'min_child_samples': 4, 'num_iterations': 620}. Best is trial 30 with value: 0.5933509279968658.\u001b[0m\n",
      "\u001b[32m[I 2023-08-17 22:45:19,058]\u001b[0m Trial 49 finished with value: 0.5782178328974169 and parameters: {'n_estimators': 780, 'max_depth': 27, 'num_leaves': 10, 'min_child_samples': 7, 'num_iterations': 694}. Best is trial 30 with value: 0.5933509279968658.\u001b[0m\n",
      "\u001b[32m[I 2023-08-17 22:45:20,676]\u001b[0m Trial 50 finished with value: 0.5698832221134472 and parameters: {'n_estimators': 847, 'max_depth': 10, 'num_leaves': 6, 'min_child_samples': 6, 'num_iterations': 964}. Best is trial 30 with value: 0.5933509279968658.\u001b[0m\n",
      "\u001b[32m[I 2023-08-17 22:45:22,420]\u001b[0m Trial 51 finished with value: 0.594439177756344 and parameters: {'n_estimators': 960, 'max_depth': 19, 'num_leaves': 9, 'min_child_samples': 5, 'num_iterations': 655}. Best is trial 51 with value: 0.594439177756344.\u001b[0m\n",
      "\u001b[32m[I 2023-08-17 22:45:23,302]\u001b[0m Trial 52 finished with value: 0.5599684365909949 and parameters: {'n_estimators': 961, 'max_depth': 20, 'num_leaves': 4, 'min_child_samples': 5, 'num_iterations': 660}. Best is trial 51 with value: 0.594439177756344.\u001b[0m\n",
      "\u001b[32m[I 2023-08-17 22:45:25,436]\u001b[0m Trial 53 finished with value: 0.5720009343944691 and parameters: {'n_estimators': 896, 'max_depth': 16, 'num_leaves': 12, 'min_child_samples': 4, 'num_iterations': 631}. Best is trial 51 with value: 0.594439177756344.\u001b[0m\n",
      "\u001b[32m[I 2023-08-17 22:45:27,397]\u001b[0m Trial 54 finished with value: 0.5941945754114393 and parameters: {'n_estimators': 959, 'max_depth': 24, 'num_leaves': 9, 'min_child_samples': 5, 'num_iterations': 717}. Best is trial 51 with value: 0.594439177756344.\u001b[0m\n",
      "\u001b[32m[I 2023-08-17 22:45:29,104]\u001b[0m Trial 55 finished with value: 0.594246822341068 and parameters: {'n_estimators': 968, 'max_depth': 19, 'num_leaves': 9, 'min_child_samples': 5, 'num_iterations': 726}. Best is trial 51 with value: 0.594439177756344.\u001b[0m\n",
      "\u001b[32m[I 2023-08-17 22:45:30,880]\u001b[0m Trial 56 finished with value: 0.5940397505834694 and parameters: {'n_estimators': 966, 'max_depth': 19, 'num_leaves': 9, 'min_child_samples': 5, 'num_iterations': 756}. Best is trial 51 with value: 0.594439177756344.\u001b[0m\n",
      "\u001b[32m[I 2023-08-17 22:45:32,780]\u001b[0m Trial 57 finished with value: 0.5880704313078446 and parameters: {'n_estimators': 962, 'max_depth': 18, 'num_leaves': 9, 'min_child_samples': 3, 'num_iterations': 752}. Best is trial 51 with value: 0.594439177756344.\u001b[0m\n",
      "\u001b[32m[I 2023-08-17 22:45:34,167]\u001b[0m Trial 58 finished with value: 0.5751977256624754 and parameters: {'n_estimators': 1000, 'max_depth': 16, 'num_leaves': 7, 'min_child_samples': 4, 'num_iterations': 726}. Best is trial 51 with value: 0.594439177756344.\u001b[0m\n",
      "\u001b[32m[I 2023-08-17 22:45:35,369]\u001b[0m Trial 59 finished with value: 0.5652523721057134 and parameters: {'n_estimators': 942, 'max_depth': 14, 'num_leaves': 5, 'min_child_samples': 5, 'num_iterations': 792}. Best is trial 51 with value: 0.594439177756344.\u001b[0m\n",
      "\u001b[32m[I 2023-08-17 22:45:35,924]\u001b[0m Trial 60 finished with value: 0.4945655432170713 and parameters: {'n_estimators': 981, 'max_depth': 20, 'num_leaves': 2, 'min_child_samples': 6, 'num_iterations': 829}. Best is trial 51 with value: 0.594439177756344.\u001b[0m\n",
      "\u001b[32m[I 2023-08-17 22:45:38,031]\u001b[0m Trial 61 finished with value: 0.5938020920573737 and parameters: {'n_estimators': 912, 'max_depth': 19, 'num_leaves': 9, 'min_child_samples': 5, 'num_iterations': 883}. Best is trial 51 with value: 0.594439177756344.\u001b[0m\n",
      "\u001b[32m[I 2023-08-17 22:45:40,242]\u001b[0m Trial 62 finished with value: 0.5937753251179605 and parameters: {'n_estimators': 948, 'max_depth': 19, 'num_leaves': 9, 'min_child_samples': 5, 'num_iterations': 893}. Best is trial 51 with value: 0.594439177756344.\u001b[0m\n",
      "\u001b[32m[I 2023-08-17 22:45:42,330]\u001b[0m Trial 63 finished with value: 0.5709055635915131 and parameters: {'n_estimators': 945, 'max_depth': 19, 'num_leaves': 9, 'min_child_samples': 4, 'num_iterations': 881}. Best is trial 51 with value: 0.594439177756344.\u001b[0m\n",
      "\u001b[32m[I 2023-08-17 22:45:44,986]\u001b[0m Trial 64 finished with value: 0.5833822714750327 and parameters: {'n_estimators': 981, 'max_depth': 18, 'num_leaves': 11, 'min_child_samples': 5, 'num_iterations': 923}. Best is trial 51 with value: 0.594439177756344.\u001b[0m\n",
      "\u001b[32m[I 2023-08-17 22:45:46,719]\u001b[0m Trial 65 finished with value: 0.582137485979996 and parameters: {'n_estimators': 967, 'max_depth': 15, 'num_leaves': 7, 'min_child_samples': 5, 'num_iterations': 865}. Best is trial 51 with value: 0.594439177756344.\u001b[0m\n",
      "\u001b[32m[I 2023-08-17 22:45:48,578]\u001b[0m Trial 66 finished with value: 0.559212915077682 and parameters: {'n_estimators': 910, 'max_depth': 17, 'num_leaves': 7, 'min_child_samples': 1, 'num_iterations': 915}. Best is trial 51 with value: 0.594439177756344.\u001b[0m\n",
      "\u001b[32m[I 2023-08-17 22:45:51,099]\u001b[0m Trial 67 finished with value: 0.5801563478555181 and parameters: {'n_estimators': 933, 'max_depth': 20, 'num_leaves': 10, 'min_child_samples': 4, 'num_iterations': 942}. Best is trial 51 with value: 0.594439177756344.\u001b[0m\n",
      "\u001b[32m[I 2023-08-17 22:45:53,090]\u001b[0m Trial 68 finished with value: 0.5951855615940619 and parameters: {'n_estimators': 978, 'max_depth': 19, 'num_leaves': 8, 'min_child_samples': 5, 'num_iterations': 870}. Best is trial 68 with value: 0.5951855615940619.\u001b[0m\n",
      "\u001b[32m[I 2023-08-17 22:45:54,501]\u001b[0m Trial 69 finished with value: 0.5590863454601787 and parameters: {'n_estimators': 950, 'max_depth': 19, 'num_leaves': 4, 'min_child_samples': 5, 'num_iterations': 999}. Best is trial 68 with value: 0.5951855615940619.\u001b[0m\n",
      "\u001b[32m[I 2023-08-17 22:45:56,960]\u001b[0m Trial 70 finished with value: 0.5596217706093681 and parameters: {'n_estimators': 974, 'max_depth': 12, 'num_leaves': 9, 'min_child_samples': 2, 'num_iterations': 872}. Best is trial 68 with value: 0.5951855615940619.\u001b[0m\n",
      "\u001b[32m[I 2023-08-17 22:45:58,982]\u001b[0m Trial 71 finished with value: 0.5951619406039755 and parameters: {'n_estimators': 1000, 'max_depth': 18, 'num_leaves': 8, 'min_child_samples': 5, 'num_iterations': 901}. Best is trial 68 with value: 0.5951855615940619.\u001b[0m\n",
      "\u001b[32m[I 2023-08-17 22:46:00,973]\u001b[0m Trial 72 finished with value: 0.5949936896612663 and parameters: {'n_estimators': 994, 'max_depth': 18, 'num_leaves': 8, 'min_child_samples': 5, 'num_iterations': 910}. Best is trial 68 with value: 0.5951855615940619.\u001b[0m\n",
      "\u001b[32m[I 2023-08-17 22:46:02,299]\u001b[0m Trial 73 finished with value: 0.5687464371626103 and parameters: {'n_estimators': 995, 'max_depth': 15, 'num_leaves': 5, 'min_child_samples': 4, 'num_iterations': 910}. Best is trial 68 with value: 0.5951855615940619.\u001b[0m\n",
      "\u001b[32m[I 2023-08-17 22:46:04,144]\u001b[0m Trial 74 finished with value: 0.5951966898672776 and parameters: {'n_estimators': 989, 'max_depth': 17, 'num_leaves': 8, 'min_child_samples': 5, 'num_iterations': 849}. Best is trial 74 with value: 0.5951966898672776.\u001b[0m\n",
      "\u001b[32m[I 2023-08-17 22:46:06,098]\u001b[0m Trial 75 finished with value: 0.5824034676200253 and parameters: {'n_estimators': 992, 'max_depth': 17, 'num_leaves': 8, 'min_child_samples': 4, 'num_iterations': 856}. Best is trial 74 with value: 0.5951966898672776.\u001b[0m\n",
      "\u001b[32m[I 2023-08-17 22:46:07,904]\u001b[0m Trial 76 finished with value: 0.58103758532469 and parameters: {'n_estimators': 969, 'max_depth': 18, 'num_leaves': 7, 'min_child_samples': 5, 'num_iterations': 930}. Best is trial 74 with value: 0.5951966898672776.\u001b[0m\n",
      "\u001b[32m[I 2023-08-17 22:46:10,703]\u001b[0m Trial 77 finished with value: 0.58897999540225 and parameters: {'n_estimators': 933, 'max_depth': 21, 'num_leaves': 11, 'min_child_samples': 6, 'num_iterations': 970}. Best is trial 74 with value: 0.5951966898672776.\u001b[0m\n",
      "\u001b[32m[I 2023-08-17 22:46:12,050]\u001b[0m Trial 78 finished with value: 0.566347693065605 and parameters: {'n_estimators': 978, 'max_depth': 16, 'num_leaves': 5, 'min_child_samples': 5, 'num_iterations': 826}. Best is trial 74 with value: 0.5951966898672776.\u001b[0m\n",
      "\u001b[32m[I 2023-08-17 22:46:14,382]\u001b[0m Trial 79 finished with value: 0.582763774885787 and parameters: {'n_estimators': 1000, 'max_depth': 17, 'num_leaves': 8, 'min_child_samples': 4, 'num_iterations': 902}. Best is trial 74 with value: 0.5951966898672776.\u001b[0m\n",
      "\u001b[32m[I 2023-08-17 22:46:16,571]\u001b[0m Trial 80 finished with value: 0.587460143737143 and parameters: {'n_estimators': 513, 'max_depth': 14, 'num_leaves': 10, 'min_child_samples': 6, 'num_iterations': 851}. Best is trial 74 with value: 0.5951966898672776.\u001b[0m\n",
      "\u001b[32m[I 2023-08-17 22:46:19,415]\u001b[0m Trial 81 finished with value: 0.5796233890615285 and parameters: {'n_estimators': 920, 'max_depth': 18, 'num_leaves': 12, 'min_child_samples': 5, 'num_iterations': 883}. Best is trial 74 with value: 0.5951966898672776.\u001b[0m\n",
      "\u001b[32m[I 2023-08-17 22:46:21,095]\u001b[0m Trial 82 finished with value: 0.570988542240882 and parameters: {'n_estimators': 956, 'max_depth': 21, 'num_leaves': 6, 'min_child_samples': 5, 'num_iterations': 936}. Best is trial 74 with value: 0.5951966898672776.\u001b[0m\n",
      "\u001b[32m[I 2023-08-17 22:46:22,950]\u001b[0m Trial 83 finished with value: 0.5951942105137216 and parameters: {'n_estimators': 985, 'max_depth': 20, 'num_leaves': 8, 'min_child_samples': 5, 'num_iterations': 804}. Best is trial 74 with value: 0.5951966898672776.\u001b[0m\n",
      "\u001b[32m[I 2023-08-17 22:46:24,855]\u001b[0m Trial 84 finished with value: 0.5951356139436734 and parameters: {'n_estimators': 985, 'max_depth': 23, 'num_leaves': 8, 'min_child_samples': 5, 'num_iterations': 802}. Best is trial 74 with value: 0.5951966898672776.\u001b[0m\n",
      "\u001b[32m[I 2023-08-17 22:46:26,131]\u001b[0m Trial 85 finished with value: 0.561138865850489 and parameters: {'n_estimators': 984, 'max_depth': 20, 'num_leaves': 4, 'min_child_samples': 4, 'num_iterations': 798}. Best is trial 74 with value: 0.5951966898672776.\u001b[0m\n",
      "\u001b[32m[I 2023-08-17 22:46:27,605]\u001b[0m Trial 86 finished with value: 0.5691344186944387 and parameters: {'n_estimators': 984, 'max_depth': 23, 'num_leaves': 6, 'min_child_samples': 6, 'num_iterations': 775}. Best is trial 74 with value: 0.5951966898672776.\u001b[0m\n",
      "\u001b[32m[I 2023-08-17 22:46:29,163]\u001b[0m Trial 87 finished with value: 0.581865353352236 and parameters: {'n_estimators': 969, 'max_depth': 22, 'num_leaves': 7, 'min_child_samples': 5, 'num_iterations': 807}. Best is trial 74 with value: 0.5951966898672776.\u001b[0m\n",
      "\u001b[32m[I 2023-08-17 22:46:31,338]\u001b[0m Trial 88 finished with value: 0.5877845420612742 and parameters: {'n_estimators': 932, 'max_depth': 17, 'num_leaves': 10, 'min_child_samples': 6, 'num_iterations': 818}. Best is trial 74 with value: 0.5951966898672776.\u001b[0m\n",
      "\u001b[32m[I 2023-08-17 22:46:31,933]\u001b[0m Trial 89 finished with value: 0.4942143193580245 and parameters: {'n_estimators': 987, 'max_depth': 1, 'num_leaves': 8, 'min_child_samples': 4, 'num_iterations': 841}. Best is trial 74 with value: 0.5951966898672776.\u001b[0m\n",
      "\u001b[32m[I 2023-08-17 22:46:34,164]\u001b[0m Trial 90 finished with value: 0.5890034625532918 and parameters: {'n_estimators': 956, 'max_depth': 23, 'num_leaves': 10, 'min_child_samples': 5, 'num_iterations': 837}. Best is trial 74 with value: 0.5951966898672776.\u001b[0m\n",
      "\u001b[32m[I 2023-08-17 22:46:35,819]\u001b[0m Trial 91 finished with value: 0.594534841094615 and parameters: {'n_estimators': 973, 'max_depth': 19, 'num_leaves': 8, 'min_child_samples': 5, 'num_iterations': 762}. Best is trial 74 with value: 0.5951966898672776.\u001b[0m\n",
      "\u001b[32m[I 2023-08-17 22:46:37,452]\u001b[0m Trial 92 finished with value: 0.5946571570854581 and parameters: {'n_estimators': 999, 'max_depth': 21, 'num_leaves': 8, 'min_child_samples': 5, 'num_iterations': 743}. Best is trial 74 with value: 0.5951966898672776.\u001b[0m\n",
      "\u001b[32m[I 2023-08-17 22:46:39,177]\u001b[0m Trial 93 finished with value: 0.5952950711417129 and parameters: {'n_estimators': 999, 'max_depth': 21, 'num_leaves': 8, 'min_child_samples': 5, 'num_iterations': 784}. Best is trial 93 with value: 0.5952950711417129.\u001b[0m\n",
      "\u001b[32m[I 2023-08-17 22:46:39,975]\u001b[0m Trial 94 finished with value: 0.5371620754900566 and parameters: {'n_estimators': 999, 'max_depth': 21, 'num_leaves': 3, 'min_child_samples': 5, 'num_iterations': 768}. Best is trial 93 with value: 0.5952950711417129.\u001b[0m\n",
      "\u001b[32m[I 2023-08-17 22:46:41,633]\u001b[0m Trial 95 finished with value: 0.5876356714003963 and parameters: {'n_estimators': 988, 'max_depth': 20, 'num_leaves': 8, 'min_child_samples': 6, 'num_iterations': 784}. Best is trial 93 with value: 0.5952950711417129.\u001b[0m\n",
      "\u001b[32m[I 2023-08-17 22:46:42,972]\u001b[0m Trial 96 finished with value: 0.5731669421105126 and parameters: {'n_estimators': 977, 'max_depth': 18, 'num_leaves': 6, 'min_child_samples': 4, 'num_iterations': 741}. Best is trial 93 with value: 0.5952950711417129.\u001b[0m\n",
      "\u001b[32m[I 2023-08-17 22:46:44,920]\u001b[0m Trial 97 finished with value: 0.5952918479704004 and parameters: {'n_estimators': 1000, 'max_depth': 22, 'num_leaves': 8, 'min_child_samples': 5, 'num_iterations': 860}. Best is trial 93 with value: 0.5952950711417129.\u001b[0m\n",
      "\u001b[32m[I 2023-08-17 22:46:47,164]\u001b[0m Trial 98 finished with value: 0.5890227879602139 and parameters: {'n_estimators': 1000, 'max_depth': 22, 'num_leaves': 11, 'min_child_samples': 6, 'num_iterations': 815}. Best is trial 93 with value: 0.5952950711417129.\u001b[0m\n",
      "\u001b[32m[I 2023-08-17 22:46:48,833]\u001b[0m Trial 99 finished with value: 0.5821088779098826 and parameters: {'n_estimators': 989, 'max_depth': 21, 'num_leaves': 7, 'min_child_samples': 5, 'num_iterations': 866}. Best is trial 93 with value: 0.5952950711417129.\u001b[0m\n"
     ]
    },
    {
     "name": "stdout",
     "output_type": "stream",
     "text": [
      "Best r2:  0.5952950711417129\n",
      "Best trial: {'n_estimators': 999, 'max_depth': 21, 'num_leaves': 8, 'min_child_samples': 5, 'num_iterations': 784}\n"
     ]
    }
   ],
   "source": [
    "sampler = TPESampler()\n",
    "study = optuna.create_study(\n",
    "    study_name=\"lgbm_parameter_opt\",\n",
    "    direction=\"maximize\",\n",
    "    sampler=sampler,\n",
    ")\n",
    "\n",
    "study.optimize(lambda trial : objectiveLGBM(trial, Cd_X_train, Cd_y_train), n_trials=100)\n",
    "print(\"Best r2: \", study.best_value)\n",
    "print(\"Best trial:\", study.best_trial.params)"
   ]
  },
  {
   "cell_type": "code",
   "execution_count": 61,
   "id": "861f88d8",
   "metadata": {},
   "outputs": [
    {
     "data": {
      "application/vnd.plotly.v1+json": {
       "config": {
        "plotlyServerURL": "https://plot.ly"
       },
       "data": [
        {
         "dimensions": [
          {
           "label": "Objective Value",
           "range": [
            0.490726062378129,
            0.5952950711417129
           ],
           "values": [
            0.576719505111926,
            0.5645053365833193,
            0.5562471672229714,
            0.5694793961716129,
            0.5807353718351133,
            0.5762177606081637,
            0.5733669675628399,
            0.5495105342630717,
            0.5798864399308881,
            0.5594799852249563,
            0.5838979117719768,
            0.5837847716730132,
            0.5792502609112694,
            0.5800096989188577,
            0.5849739912967267,
            0.5885740461485178,
            0.5666157583310951,
            0.5913061643106889,
            0.49366908720114944,
            0.5732511433535862,
            0.5680528200376409,
            0.5847861263596913,
            0.490726062378129,
            0.5884382198718894,
            0.5808392594429154,
            0.5729850450307066,
            0.5893935185745458,
            0.5889375388234909,
            0.5830607278344732,
            0.5808512983302215,
            0.5933509279968658,
            0.5823663308634591,
            0.5783924360857078,
            0.5842925666819607,
            0.5788355753857998,
            0.5765095449536399,
            0.5823206520151448,
            0.5670404282599898,
            0.5867993892772926,
            0.5896914704529803,
            0.5878041435819856,
            0.5872669082213033,
            0.5700517014370837,
            0.5714283940317022,
            0.582340564226285,
            0.5800070241799555,
            0.5730943931565184,
            0.57915818110219,
            0.5783492069486703,
            0.5782178328974169,
            0.5698832221134472,
            0.594439177756344,
            0.5599684365909949,
            0.5720009343944691,
            0.5941945754114393,
            0.594246822341068,
            0.5940397505834694,
            0.5880704313078446,
            0.5751977256624754,
            0.5652523721057134,
            0.4945655432170713,
            0.5938020920573737,
            0.5937753251179605,
            0.5709055635915131,
            0.5833822714750327,
            0.582137485979996,
            0.559212915077682,
            0.5801563478555181,
            0.5951855615940619,
            0.5590863454601787,
            0.5596217706093681,
            0.5951619406039755,
            0.5949936896612663,
            0.5687464371626103,
            0.5951966898672776,
            0.5824034676200253,
            0.58103758532469,
            0.58897999540225,
            0.566347693065605,
            0.582763774885787,
            0.587460143737143,
            0.5796233890615285,
            0.570988542240882,
            0.5951942105137216,
            0.5951356139436734,
            0.561138865850489,
            0.5691344186944387,
            0.581865353352236,
            0.5877845420612742,
            0.4942143193580245,
            0.5890034625532918,
            0.594534841094615,
            0.5946571570854581,
            0.5952950711417129,
            0.5371620754900566,
            0.5876356714003963,
            0.5731669421105126,
            0.5952918479704004,
            0.5890227879602139,
            0.5821088779098826
           ]
          },
          {
           "label": "max_depth",
           "range": [
            1,
            30
           ],
           "values": [
            21,
            5,
            14,
            30,
            29,
            20,
            6,
            28,
            30,
            7,
            14,
            14,
            13,
            11,
            19,
            19,
            20,
            24,
            25,
            24,
            17,
            24,
            1,
            18,
            17,
            22,
            26,
            27,
            27,
            26,
            22,
            22,
            22,
            27,
            25,
            23,
            28,
            26,
            30,
            24,
            21,
            24,
            28,
            26,
            23,
            29,
            25,
            21,
            29,
            27,
            10,
            19,
            20,
            16,
            24,
            19,
            19,
            18,
            16,
            14,
            20,
            19,
            19,
            19,
            18,
            15,
            17,
            20,
            19,
            19,
            12,
            18,
            18,
            15,
            17,
            17,
            18,
            21,
            16,
            17,
            14,
            18,
            21,
            20,
            23,
            20,
            23,
            22,
            17,
            1,
            23,
            19,
            21,
            21,
            21,
            20,
            18,
            22,
            22,
            21
           ]
          },
          {
           "label": "min_child_samples",
           "range": [
            1,
            10
           ],
           "values": [
            8,
            7,
            7,
            6,
            3,
            2,
            4,
            1,
            10,
            2,
            4,
            4,
            4,
            5,
            5,
            5,
            9,
            6,
            6,
            7,
            9,
            5,
            6,
            5,
            3,
            8,
            5,
            6,
            7,
            8,
            6,
            6,
            7,
            6,
            7,
            6,
            7,
            3,
            8,
            5,
            4,
            6,
            5,
            4,
            5,
            6,
            3,
            5,
            4,
            7,
            6,
            5,
            5,
            4,
            5,
            5,
            5,
            3,
            4,
            5,
            6,
            5,
            5,
            4,
            5,
            5,
            1,
            4,
            5,
            5,
            2,
            5,
            5,
            4,
            5,
            4,
            5,
            6,
            5,
            4,
            6,
            5,
            5,
            5,
            5,
            4,
            6,
            5,
            6,
            4,
            5,
            5,
            5,
            5,
            5,
            6,
            4,
            5,
            6,
            5
           ]
          },
          {
           "label": "n_estimators",
           "range": [
            513,
            1000
           ],
           "values": [
            773,
            665,
            845,
            786,
            666,
            821,
            534,
            671,
            861,
            593,
            984,
            984,
            986,
            997,
            924,
            929,
            904,
            914,
            917,
            728,
            891,
            926,
            941,
            867,
            853,
            811,
            879,
            725,
            728,
            764,
            706,
            679,
            629,
            715,
            783,
            696,
            631,
            804,
            755,
            827,
            881,
            823,
            835,
            958,
            799,
            632,
            738,
            700,
            571,
            780,
            847,
            960,
            961,
            896,
            959,
            968,
            966,
            962,
            1000,
            942,
            981,
            912,
            948,
            945,
            981,
            967,
            910,
            933,
            978,
            950,
            974,
            1000,
            994,
            995,
            989,
            992,
            969,
            933,
            978,
            1000,
            513,
            920,
            956,
            985,
            985,
            984,
            984,
            969,
            932,
            987,
            956,
            973,
            999,
            999,
            999,
            988,
            977,
            1000,
            1000,
            989
           ]
          },
          {
           "label": "num_iterations",
           "range": [
            505,
            999
           ],
           "values": [
            853,
            900,
            528,
            951,
            527,
            986,
            900,
            679,
            889,
            610,
            507,
            524,
            614,
            762,
            505,
            598,
            614,
            703,
            747,
            710,
            670,
            584,
            585,
            811,
            808,
            792,
            691,
            665,
            703,
            668,
            728,
            734,
            652,
            716,
            644,
            775,
            841,
            692,
            559,
            635,
            633,
            722,
            684,
            740,
            646,
            669,
            554,
            773,
            620,
            694,
            964,
            655,
            660,
            631,
            717,
            726,
            756,
            752,
            726,
            792,
            829,
            883,
            893,
            881,
            923,
            865,
            915,
            942,
            870,
            999,
            872,
            901,
            910,
            910,
            849,
            856,
            930,
            970,
            826,
            902,
            851,
            883,
            936,
            804,
            802,
            798,
            775,
            807,
            818,
            841,
            837,
            762,
            743,
            784,
            768,
            784,
            741,
            860,
            815,
            866
           ]
          },
          {
           "label": "num_leaves",
           "range": [
            2,
            32
           ],
           "values": [
            11,
            25,
            5,
            6,
            14,
            30,
            17,
            4,
            25,
            27,
            17,
            17,
            21,
            20,
            11,
            10,
            10,
            9,
            2,
            8,
            14,
            11,
            8,
            13,
            14,
            8,
            13,
            20,
            19,
            22,
            24,
            23,
            30,
            25,
            18,
            28,
            23,
            32,
            16,
            13,
            13,
            16,
            6,
            12,
            19,
            15,
            26,
            22,
            20,
            10,
            6,
            9,
            4,
            12,
            9,
            9,
            9,
            9,
            7,
            5,
            2,
            9,
            9,
            9,
            11,
            7,
            7,
            10,
            8,
            4,
            9,
            8,
            8,
            5,
            8,
            8,
            7,
            11,
            5,
            8,
            10,
            12,
            6,
            8,
            8,
            4,
            6,
            7,
            10,
            8,
            10,
            8,
            8,
            8,
            3,
            8,
            6,
            8,
            11,
            7
           ]
          }
         ],
         "labelangle": 30,
         "labelside": "bottom",
         "line": {
          "color": [
           0.576719505111926,
           0.5645053365833193,
           0.5562471672229714,
           0.5694793961716129,
           0.5807353718351133,
           0.5762177606081637,
           0.5733669675628399,
           0.5495105342630717,
           0.5798864399308881,
           0.5594799852249563,
           0.5838979117719768,
           0.5837847716730132,
           0.5792502609112694,
           0.5800096989188577,
           0.5849739912967267,
           0.5885740461485178,
           0.5666157583310951,
           0.5913061643106889,
           0.49366908720114944,
           0.5732511433535862,
           0.5680528200376409,
           0.5847861263596913,
           0.490726062378129,
           0.5884382198718894,
           0.5808392594429154,
           0.5729850450307066,
           0.5893935185745458,
           0.5889375388234909,
           0.5830607278344732,
           0.5808512983302215,
           0.5933509279968658,
           0.5823663308634591,
           0.5783924360857078,
           0.5842925666819607,
           0.5788355753857998,
           0.5765095449536399,
           0.5823206520151448,
           0.5670404282599898,
           0.5867993892772926,
           0.5896914704529803,
           0.5878041435819856,
           0.5872669082213033,
           0.5700517014370837,
           0.5714283940317022,
           0.582340564226285,
           0.5800070241799555,
           0.5730943931565184,
           0.57915818110219,
           0.5783492069486703,
           0.5782178328974169,
           0.5698832221134472,
           0.594439177756344,
           0.5599684365909949,
           0.5720009343944691,
           0.5941945754114393,
           0.594246822341068,
           0.5940397505834694,
           0.5880704313078446,
           0.5751977256624754,
           0.5652523721057134,
           0.4945655432170713,
           0.5938020920573737,
           0.5937753251179605,
           0.5709055635915131,
           0.5833822714750327,
           0.582137485979996,
           0.559212915077682,
           0.5801563478555181,
           0.5951855615940619,
           0.5590863454601787,
           0.5596217706093681,
           0.5951619406039755,
           0.5949936896612663,
           0.5687464371626103,
           0.5951966898672776,
           0.5824034676200253,
           0.58103758532469,
           0.58897999540225,
           0.566347693065605,
           0.582763774885787,
           0.587460143737143,
           0.5796233890615285,
           0.570988542240882,
           0.5951942105137216,
           0.5951356139436734,
           0.561138865850489,
           0.5691344186944387,
           0.581865353352236,
           0.5877845420612742,
           0.4942143193580245,
           0.5890034625532918,
           0.594534841094615,
           0.5946571570854581,
           0.5952950711417129,
           0.5371620754900566,
           0.5876356714003963,
           0.5731669421105126,
           0.5952918479704004,
           0.5890227879602139,
           0.5821088779098826
          ],
          "colorbar": {
           "title": {
            "text": "Objective Value"
           }
          },
          "colorscale": [
           [
            0,
            "rgb(247,251,255)"
           ],
           [
            0.125,
            "rgb(222,235,247)"
           ],
           [
            0.25,
            "rgb(198,219,239)"
           ],
           [
            0.375,
            "rgb(158,202,225)"
           ],
           [
            0.5,
            "rgb(107,174,214)"
           ],
           [
            0.625,
            "rgb(66,146,198)"
           ],
           [
            0.75,
            "rgb(33,113,181)"
           ],
           [
            0.875,
            "rgb(8,81,156)"
           ],
           [
            1,
            "rgb(8,48,107)"
           ]
          ],
          "reversescale": false,
          "showscale": true
         },
         "type": "parcoords"
        }
       ],
       "layout": {
        "template": {
         "data": {
          "bar": [
           {
            "error_x": {
             "color": "#2a3f5f"
            },
            "error_y": {
             "color": "#2a3f5f"
            },
            "marker": {
             "line": {
              "color": "#E5ECF6",
              "width": 0.5
             },
             "pattern": {
              "fillmode": "overlay",
              "size": 10,
              "solidity": 0.2
             }
            },
            "type": "bar"
           }
          ],
          "barpolar": [
           {
            "marker": {
             "line": {
              "color": "#E5ECF6",
              "width": 0.5
             },
             "pattern": {
              "fillmode": "overlay",
              "size": 10,
              "solidity": 0.2
             }
            },
            "type": "barpolar"
           }
          ],
          "carpet": [
           {
            "aaxis": {
             "endlinecolor": "#2a3f5f",
             "gridcolor": "white",
             "linecolor": "white",
             "minorgridcolor": "white",
             "startlinecolor": "#2a3f5f"
            },
            "baxis": {
             "endlinecolor": "#2a3f5f",
             "gridcolor": "white",
             "linecolor": "white",
             "minorgridcolor": "white",
             "startlinecolor": "#2a3f5f"
            },
            "type": "carpet"
           }
          ],
          "choropleth": [
           {
            "colorbar": {
             "outlinewidth": 0,
             "ticks": ""
            },
            "type": "choropleth"
           }
          ],
          "contour": [
           {
            "colorbar": {
             "outlinewidth": 0,
             "ticks": ""
            },
            "colorscale": [
             [
              0,
              "#0d0887"
             ],
             [
              0.1111111111111111,
              "#46039f"
             ],
             [
              0.2222222222222222,
              "#7201a8"
             ],
             [
              0.3333333333333333,
              "#9c179e"
             ],
             [
              0.4444444444444444,
              "#bd3786"
             ],
             [
              0.5555555555555556,
              "#d8576b"
             ],
             [
              0.6666666666666666,
              "#ed7953"
             ],
             [
              0.7777777777777778,
              "#fb9f3a"
             ],
             [
              0.8888888888888888,
              "#fdca26"
             ],
             [
              1,
              "#f0f921"
             ]
            ],
            "type": "contour"
           }
          ],
          "contourcarpet": [
           {
            "colorbar": {
             "outlinewidth": 0,
             "ticks": ""
            },
            "type": "contourcarpet"
           }
          ],
          "heatmap": [
           {
            "colorbar": {
             "outlinewidth": 0,
             "ticks": ""
            },
            "colorscale": [
             [
              0,
              "#0d0887"
             ],
             [
              0.1111111111111111,
              "#46039f"
             ],
             [
              0.2222222222222222,
              "#7201a8"
             ],
             [
              0.3333333333333333,
              "#9c179e"
             ],
             [
              0.4444444444444444,
              "#bd3786"
             ],
             [
              0.5555555555555556,
              "#d8576b"
             ],
             [
              0.6666666666666666,
              "#ed7953"
             ],
             [
              0.7777777777777778,
              "#fb9f3a"
             ],
             [
              0.8888888888888888,
              "#fdca26"
             ],
             [
              1,
              "#f0f921"
             ]
            ],
            "type": "heatmap"
           }
          ],
          "heatmapgl": [
           {
            "colorbar": {
             "outlinewidth": 0,
             "ticks": ""
            },
            "colorscale": [
             [
              0,
              "#0d0887"
             ],
             [
              0.1111111111111111,
              "#46039f"
             ],
             [
              0.2222222222222222,
              "#7201a8"
             ],
             [
              0.3333333333333333,
              "#9c179e"
             ],
             [
              0.4444444444444444,
              "#bd3786"
             ],
             [
              0.5555555555555556,
              "#d8576b"
             ],
             [
              0.6666666666666666,
              "#ed7953"
             ],
             [
              0.7777777777777778,
              "#fb9f3a"
             ],
             [
              0.8888888888888888,
              "#fdca26"
             ],
             [
              1,
              "#f0f921"
             ]
            ],
            "type": "heatmapgl"
           }
          ],
          "histogram": [
           {
            "marker": {
             "pattern": {
              "fillmode": "overlay",
              "size": 10,
              "solidity": 0.2
             }
            },
            "type": "histogram"
           }
          ],
          "histogram2d": [
           {
            "colorbar": {
             "outlinewidth": 0,
             "ticks": ""
            },
            "colorscale": [
             [
              0,
              "#0d0887"
             ],
             [
              0.1111111111111111,
              "#46039f"
             ],
             [
              0.2222222222222222,
              "#7201a8"
             ],
             [
              0.3333333333333333,
              "#9c179e"
             ],
             [
              0.4444444444444444,
              "#bd3786"
             ],
             [
              0.5555555555555556,
              "#d8576b"
             ],
             [
              0.6666666666666666,
              "#ed7953"
             ],
             [
              0.7777777777777778,
              "#fb9f3a"
             ],
             [
              0.8888888888888888,
              "#fdca26"
             ],
             [
              1,
              "#f0f921"
             ]
            ],
            "type": "histogram2d"
           }
          ],
          "histogram2dcontour": [
           {
            "colorbar": {
             "outlinewidth": 0,
             "ticks": ""
            },
            "colorscale": [
             [
              0,
              "#0d0887"
             ],
             [
              0.1111111111111111,
              "#46039f"
             ],
             [
              0.2222222222222222,
              "#7201a8"
             ],
             [
              0.3333333333333333,
              "#9c179e"
             ],
             [
              0.4444444444444444,
              "#bd3786"
             ],
             [
              0.5555555555555556,
              "#d8576b"
             ],
             [
              0.6666666666666666,
              "#ed7953"
             ],
             [
              0.7777777777777778,
              "#fb9f3a"
             ],
             [
              0.8888888888888888,
              "#fdca26"
             ],
             [
              1,
              "#f0f921"
             ]
            ],
            "type": "histogram2dcontour"
           }
          ],
          "mesh3d": [
           {
            "colorbar": {
             "outlinewidth": 0,
             "ticks": ""
            },
            "type": "mesh3d"
           }
          ],
          "parcoords": [
           {
            "line": {
             "colorbar": {
              "outlinewidth": 0,
              "ticks": ""
             }
            },
            "type": "parcoords"
           }
          ],
          "pie": [
           {
            "automargin": true,
            "type": "pie"
           }
          ],
          "scatter": [
           {
            "marker": {
             "colorbar": {
              "outlinewidth": 0,
              "ticks": ""
             }
            },
            "type": "scatter"
           }
          ],
          "scatter3d": [
           {
            "line": {
             "colorbar": {
              "outlinewidth": 0,
              "ticks": ""
             }
            },
            "marker": {
             "colorbar": {
              "outlinewidth": 0,
              "ticks": ""
             }
            },
            "type": "scatter3d"
           }
          ],
          "scattercarpet": [
           {
            "marker": {
             "colorbar": {
              "outlinewidth": 0,
              "ticks": ""
             }
            },
            "type": "scattercarpet"
           }
          ],
          "scattergeo": [
           {
            "marker": {
             "colorbar": {
              "outlinewidth": 0,
              "ticks": ""
             }
            },
            "type": "scattergeo"
           }
          ],
          "scattergl": [
           {
            "marker": {
             "colorbar": {
              "outlinewidth": 0,
              "ticks": ""
             }
            },
            "type": "scattergl"
           }
          ],
          "scattermapbox": [
           {
            "marker": {
             "colorbar": {
              "outlinewidth": 0,
              "ticks": ""
             }
            },
            "type": "scattermapbox"
           }
          ],
          "scatterpolar": [
           {
            "marker": {
             "colorbar": {
              "outlinewidth": 0,
              "ticks": ""
             }
            },
            "type": "scatterpolar"
           }
          ],
          "scatterpolargl": [
           {
            "marker": {
             "colorbar": {
              "outlinewidth": 0,
              "ticks": ""
             }
            },
            "type": "scatterpolargl"
           }
          ],
          "scatterternary": [
           {
            "marker": {
             "colorbar": {
              "outlinewidth": 0,
              "ticks": ""
             }
            },
            "type": "scatterternary"
           }
          ],
          "surface": [
           {
            "colorbar": {
             "outlinewidth": 0,
             "ticks": ""
            },
            "colorscale": [
             [
              0,
              "#0d0887"
             ],
             [
              0.1111111111111111,
              "#46039f"
             ],
             [
              0.2222222222222222,
              "#7201a8"
             ],
             [
              0.3333333333333333,
              "#9c179e"
             ],
             [
              0.4444444444444444,
              "#bd3786"
             ],
             [
              0.5555555555555556,
              "#d8576b"
             ],
             [
              0.6666666666666666,
              "#ed7953"
             ],
             [
              0.7777777777777778,
              "#fb9f3a"
             ],
             [
              0.8888888888888888,
              "#fdca26"
             ],
             [
              1,
              "#f0f921"
             ]
            ],
            "type": "surface"
           }
          ],
          "table": [
           {
            "cells": {
             "fill": {
              "color": "#EBF0F8"
             },
             "line": {
              "color": "white"
             }
            },
            "header": {
             "fill": {
              "color": "#C8D4E3"
             },
             "line": {
              "color": "white"
             }
            },
            "type": "table"
           }
          ]
         },
         "layout": {
          "annotationdefaults": {
           "arrowcolor": "#2a3f5f",
           "arrowhead": 0,
           "arrowwidth": 1
          },
          "autotypenumbers": "strict",
          "coloraxis": {
           "colorbar": {
            "outlinewidth": 0,
            "ticks": ""
           }
          },
          "colorscale": {
           "diverging": [
            [
             0,
             "#8e0152"
            ],
            [
             0.1,
             "#c51b7d"
            ],
            [
             0.2,
             "#de77ae"
            ],
            [
             0.3,
             "#f1b6da"
            ],
            [
             0.4,
             "#fde0ef"
            ],
            [
             0.5,
             "#f7f7f7"
            ],
            [
             0.6,
             "#e6f5d0"
            ],
            [
             0.7,
             "#b8e186"
            ],
            [
             0.8,
             "#7fbc41"
            ],
            [
             0.9,
             "#4d9221"
            ],
            [
             1,
             "#276419"
            ]
           ],
           "sequential": [
            [
             0,
             "#0d0887"
            ],
            [
             0.1111111111111111,
             "#46039f"
            ],
            [
             0.2222222222222222,
             "#7201a8"
            ],
            [
             0.3333333333333333,
             "#9c179e"
            ],
            [
             0.4444444444444444,
             "#bd3786"
            ],
            [
             0.5555555555555556,
             "#d8576b"
            ],
            [
             0.6666666666666666,
             "#ed7953"
            ],
            [
             0.7777777777777778,
             "#fb9f3a"
            ],
            [
             0.8888888888888888,
             "#fdca26"
            ],
            [
             1,
             "#f0f921"
            ]
           ],
           "sequentialminus": [
            [
             0,
             "#0d0887"
            ],
            [
             0.1111111111111111,
             "#46039f"
            ],
            [
             0.2222222222222222,
             "#7201a8"
            ],
            [
             0.3333333333333333,
             "#9c179e"
            ],
            [
             0.4444444444444444,
             "#bd3786"
            ],
            [
             0.5555555555555556,
             "#d8576b"
            ],
            [
             0.6666666666666666,
             "#ed7953"
            ],
            [
             0.7777777777777778,
             "#fb9f3a"
            ],
            [
             0.8888888888888888,
             "#fdca26"
            ],
            [
             1,
             "#f0f921"
            ]
           ]
          },
          "colorway": [
           "#636efa",
           "#EF553B",
           "#00cc96",
           "#ab63fa",
           "#FFA15A",
           "#19d3f3",
           "#FF6692",
           "#B6E880",
           "#FF97FF",
           "#FECB52"
          ],
          "font": {
           "color": "#2a3f5f"
          },
          "geo": {
           "bgcolor": "white",
           "lakecolor": "white",
           "landcolor": "#E5ECF6",
           "showlakes": true,
           "showland": true,
           "subunitcolor": "white"
          },
          "hoverlabel": {
           "align": "left"
          },
          "hovermode": "closest",
          "mapbox": {
           "style": "light"
          },
          "paper_bgcolor": "white",
          "plot_bgcolor": "#E5ECF6",
          "polar": {
           "angularaxis": {
            "gridcolor": "white",
            "linecolor": "white",
            "ticks": ""
           },
           "bgcolor": "#E5ECF6",
           "radialaxis": {
            "gridcolor": "white",
            "linecolor": "white",
            "ticks": ""
           }
          },
          "scene": {
           "xaxis": {
            "backgroundcolor": "#E5ECF6",
            "gridcolor": "white",
            "gridwidth": 2,
            "linecolor": "white",
            "showbackground": true,
            "ticks": "",
            "zerolinecolor": "white"
           },
           "yaxis": {
            "backgroundcolor": "#E5ECF6",
            "gridcolor": "white",
            "gridwidth": 2,
            "linecolor": "white",
            "showbackground": true,
            "ticks": "",
            "zerolinecolor": "white"
           },
           "zaxis": {
            "backgroundcolor": "#E5ECF6",
            "gridcolor": "white",
            "gridwidth": 2,
            "linecolor": "white",
            "showbackground": true,
            "ticks": "",
            "zerolinecolor": "white"
           }
          },
          "shapedefaults": {
           "line": {
            "color": "#2a3f5f"
           }
          },
          "ternary": {
           "aaxis": {
            "gridcolor": "white",
            "linecolor": "white",
            "ticks": ""
           },
           "baxis": {
            "gridcolor": "white",
            "linecolor": "white",
            "ticks": ""
           },
           "bgcolor": "#E5ECF6",
           "caxis": {
            "gridcolor": "white",
            "linecolor": "white",
            "ticks": ""
           }
          },
          "title": {
           "x": 0.05
          },
          "xaxis": {
           "automargin": true,
           "gridcolor": "white",
           "linecolor": "white",
           "ticks": "",
           "title": {
            "standoff": 15
           },
           "zerolinecolor": "white",
           "zerolinewidth": 2
          },
          "yaxis": {
           "automargin": true,
           "gridcolor": "white",
           "linecolor": "white",
           "ticks": "",
           "title": {
            "standoff": 15
           },
           "zerolinecolor": "white",
           "zerolinewidth": 2
          }
         }
        },
        "title": {
         "text": "Parallel Coordinate Plot"
        }
       }
      }
     },
     "metadata": {},
     "output_type": "display_data"
    }
   ],
   "source": [
    "optuna.visualization.plot_parallel_coordinate(study)"
   ]
  },
  {
   "cell_type": "code",
   "execution_count": 62,
   "id": "4afa60aa",
   "metadata": {},
   "outputs": [
    {
     "name": "stdout",
     "output_type": "stream",
     "text": [
      "Best trial: {'n_estimators': 999, 'max_depth': 21, 'num_leaves': 8, 'min_child_samples': 5, 'num_iterations': 784}\n"
     ]
    },
    {
     "data": {
      "text/plain": [
       "999"
      ]
     },
     "execution_count": 62,
     "metadata": {},
     "output_type": "execute_result"
    }
   ],
   "source": [
    "print(\"Best trial:\", study.best_trial.params)\n",
    "study.best_trial.params[\"n_estimators\"]"
   ]
  },
  {
   "cell_type": "code",
   "execution_count": 63,
   "id": "3b45adad",
   "metadata": {},
   "outputs": [
    {
     "data": {
      "text/html": [
       "<style>#sk-container-id-2 {color: black;background-color: white;}#sk-container-id-2 pre{padding: 0;}#sk-container-id-2 div.sk-toggleable {background-color: white;}#sk-container-id-2 label.sk-toggleable__label {cursor: pointer;display: block;width: 100%;margin-bottom: 0;padding: 0.3em;box-sizing: border-box;text-align: center;}#sk-container-id-2 label.sk-toggleable__label-arrow:before {content: \"▸\";float: left;margin-right: 0.25em;color: #696969;}#sk-container-id-2 label.sk-toggleable__label-arrow:hover:before {color: black;}#sk-container-id-2 div.sk-estimator:hover label.sk-toggleable__label-arrow:before {color: black;}#sk-container-id-2 div.sk-toggleable__content {max-height: 0;max-width: 0;overflow: hidden;text-align: left;background-color: #f0f8ff;}#sk-container-id-2 div.sk-toggleable__content pre {margin: 0.2em;color: black;border-radius: 0.25em;background-color: #f0f8ff;}#sk-container-id-2 input.sk-toggleable__control:checked~div.sk-toggleable__content {max-height: 200px;max-width: 100%;overflow: auto;}#sk-container-id-2 input.sk-toggleable__control:checked~label.sk-toggleable__label-arrow:before {content: \"▾\";}#sk-container-id-2 div.sk-estimator input.sk-toggleable__control:checked~label.sk-toggleable__label {background-color: #d4ebff;}#sk-container-id-2 div.sk-label input.sk-toggleable__control:checked~label.sk-toggleable__label {background-color: #d4ebff;}#sk-container-id-2 input.sk-hidden--visually {border: 0;clip: rect(1px 1px 1px 1px);clip: rect(1px, 1px, 1px, 1px);height: 1px;margin: -1px;overflow: hidden;padding: 0;position: absolute;width: 1px;}#sk-container-id-2 div.sk-estimator {font-family: monospace;background-color: #f0f8ff;border: 1px dotted black;border-radius: 0.25em;box-sizing: border-box;margin-bottom: 0.5em;}#sk-container-id-2 div.sk-estimator:hover {background-color: #d4ebff;}#sk-container-id-2 div.sk-parallel-item::after {content: \"\";width: 100%;border-bottom: 1px solid gray;flex-grow: 1;}#sk-container-id-2 div.sk-label:hover label.sk-toggleable__label {background-color: #d4ebff;}#sk-container-id-2 div.sk-serial::before {content: \"\";position: absolute;border-left: 1px solid gray;box-sizing: border-box;top: 0;bottom: 0;left: 50%;z-index: 0;}#sk-container-id-2 div.sk-serial {display: flex;flex-direction: column;align-items: center;background-color: white;padding-right: 0.2em;padding-left: 0.2em;position: relative;}#sk-container-id-2 div.sk-item {position: relative;z-index: 1;}#sk-container-id-2 div.sk-parallel {display: flex;align-items: stretch;justify-content: center;background-color: white;position: relative;}#sk-container-id-2 div.sk-item::before, #sk-container-id-2 div.sk-parallel-item::before {content: \"\";position: absolute;border-left: 1px solid gray;box-sizing: border-box;top: 0;bottom: 0;left: 50%;z-index: -1;}#sk-container-id-2 div.sk-parallel-item {display: flex;flex-direction: column;z-index: 1;position: relative;background-color: white;}#sk-container-id-2 div.sk-parallel-item:first-child::after {align-self: flex-end;width: 50%;}#sk-container-id-2 div.sk-parallel-item:last-child::after {align-self: flex-start;width: 50%;}#sk-container-id-2 div.sk-parallel-item:only-child::after {width: 0;}#sk-container-id-2 div.sk-dashed-wrapped {border: 1px dashed gray;margin: 0 0.4em 0.5em 0.4em;box-sizing: border-box;padding-bottom: 0.4em;background-color: white;}#sk-container-id-2 div.sk-label label {font-family: monospace;font-weight: bold;display: inline-block;line-height: 1.2em;}#sk-container-id-2 div.sk-label-container {text-align: center;}#sk-container-id-2 div.sk-container {/* jupyter's `normalize.less` sets `[hidden] { display: none; }` but bootstrap.min.css set `[hidden] { display: none !important; }` so we also need the `!important` here to be able to override the default hidden behavior on the sphinx rendered scikit-learn.org. See: https://github.com/scikit-learn/scikit-learn/issues/21755 */display: inline-block !important;position: relative;}#sk-container-id-2 div.sk-text-repr-fallback {display: none;}</style><div id=\"sk-container-id-2\" class=\"sk-top-container\"><div class=\"sk-text-repr-fallback\"><pre>LGBMRegressor(max_depth=21, min_child_samples=5, n_estimators=999,\n",
       "              num_iterations=784, num_leaves=8, random_state=42)</pre><b>In a Jupyter environment, please rerun this cell to show the HTML representation or trust the notebook. <br />On GitHub, the HTML representation is unable to render, please try loading this page with nbviewer.org.</b></div><div class=\"sk-container\" hidden><div class=\"sk-item\"><div class=\"sk-estimator sk-toggleable\"><input class=\"sk-toggleable__control sk-hidden--visually\" id=\"sk-estimator-id-2\" type=\"checkbox\" checked><label for=\"sk-estimator-id-2\" class=\"sk-toggleable__label sk-toggleable__label-arrow\">LGBMRegressor</label><div class=\"sk-toggleable__content\"><pre>LGBMRegressor(max_depth=21, min_child_samples=5, n_estimators=999,\n",
       "              num_iterations=784, num_leaves=8, random_state=42)</pre></div></div></div></div></div>"
      ],
      "text/plain": [
       "LGBMRegressor(max_depth=21, min_child_samples=5, n_estimators=999,\n",
       "              num_iterations=784, num_leaves=8, random_state=42)"
      ]
     },
     "execution_count": 63,
     "metadata": {},
     "output_type": "execute_result"
    }
   ],
   "source": [
    "lgbm_params = {\n",
    "    \"random_state\": 42,\n",
    "    \"learning_rate\": 0.1,\n",
    "    \"n_estimators\": study.best_trial.params[\"n_estimators\"],\n",
    "    \"max_depth\": study.best_trial.params[\"max_depth\"],\n",
    "    \"num_leaves\": study.best_trial.params[\"num_leaves\"],\n",
    "    \"min_child_samples\": study.best_trial.params[\"min_child_samples\"],\n",
    "    \"num_iterations\": study.best_trial.params[\"num_iterations\"]\n",
    "}\n",
    "\n",
    "lgbm = LGBMRegressor(**lgbm_params)\n",
    "lgbm.fit(Cd_X_train, Cd_y_train)"
   ]
  },
  {
   "cell_type": "code",
   "execution_count": 64,
   "id": "9ab1055b",
   "metadata": {},
   "outputs": [],
   "source": [
    "y_train_pred = lgbm.predict(Cd_X_train)\n",
    "y_test_pred = lgbm.predict(Cd_X_test)"
   ]
  },
  {
   "cell_type": "code",
   "execution_count": 65,
   "id": "425b4001",
   "metadata": {},
   "outputs": [
    {
     "name": "stdout",
     "output_type": "stream",
     "text": [
      "Train RMSE:  0.009054706694053689\n",
      "Test RMSE:  0.05369525674662779\n"
     ]
    }
   ],
   "source": [
    "print(\"Train RMSE: \", np.sqrt(mean_squared_error(Cd_y_train, y_train_pred)))\n",
    "print(\"Test RMSE: \", np.sqrt(mean_squared_error(Cd_y_test, y_test_pred)))"
   ]
  },
  {
   "cell_type": "code",
   "execution_count": 66,
   "id": "0f95ae3c",
   "metadata": {},
   "outputs": [
    {
     "name": "stdout",
     "output_type": "stream",
     "text": [
      "Train R2:  0.9890272071700869\n",
      "Test R2:  0.6111657032151261\n"
     ]
    }
   ],
   "source": [
    "print(\"Train R2: \", r2_score(Cd_y_train, y_train_pred))\n",
    "print(\"Test R2: \", r2_score(Cd_y_test, y_test_pred))"
   ]
  },
  {
   "cell_type": "code",
   "execution_count": 67,
   "id": "d01dda76",
   "metadata": {},
   "outputs": [
    {
     "data": {
      "image/png": "[encoded data removed]",
      "text/plain": [
       "<Figure size 432x288 with 1 Axes>"
      ]
     },
     "metadata": {
      "needs_background": "light"
     },
     "output_type": "display_data"
    }
   ],
   "source": [
    "plt.scatter(y_train_pred, np.array(Cd_y_train), color=\"orange\", alpha=0.3)\n",
    "plt.scatter(y_test_pred, np.array(Cd_y_test), color=\"green\", alpha=0.4)\n",
    "plt.axis(\"auto\") # scaled, tight, auto, image, square\n",
    "# plt.xlim([0, 1.5]) \n",
    "# plt.ylim(0, None) \n",
    "plt.xlabel('Predicted Values')\n",
    "plt.ylabel('Actual Values')\n",
    "\n",
    "# Add y=x line\n",
    "plt.plot([0, 4], [0, 4], color='red', linestyle='-')\n",
    "\n",
    "plt.show()"
   ]
  },
  {
   "attachments": {},
   "cell_type": "markdown",
   "id": "74f680ea",
   "metadata": {},
   "source": [
    "Ni"
   ]
  },
  {
   "cell_type": "code",
   "execution_count": 68,
   "id": "de233338",
   "metadata": {},
   "outputs": [
    {
     "name": "stderr",
     "output_type": "stream",
     "text": [
      "\u001b[32m[I 2023-08-17 22:46:49,853]\u001b[0m A new study created in memory with name: lgbm_parameter_opt\u001b[0m\n",
      "\u001b[32m[I 2023-08-17 22:46:55,367]\u001b[0m Trial 0 finished with value: 0.7817323926767281 and parameters: {'n_estimators': 533, 'max_depth': 22, 'num_leaves': 19, 'min_child_samples': 6, 'num_iterations': 896}. Best is trial 0 with value: 0.7817323926767281.\u001b[0m\n",
      "\u001b[32m[I 2023-08-17 22:46:57,937]\u001b[0m Trial 1 finished with value: 0.7960930528180284 and parameters: {'n_estimators': 599, 'max_depth': 27, 'num_leaves': 8, 'min_child_samples': 5, 'num_iterations': 829}. Best is trial 1 with value: 0.7960930528180284.\u001b[0m\n",
      "\u001b[32m[I 2023-08-17 22:46:58,839]\u001b[0m Trial 2 finished with value: 0.7930903183248239 and parameters: {'n_estimators': 812, 'max_depth': 13, 'num_leaves': 6, 'min_child_samples': 9, 'num_iterations': 522}. Best is trial 1 with value: 0.7960930528180284.\u001b[0m\n",
      "\u001b[32m[I 2023-08-17 22:47:06,137]\u001b[0m Trial 3 finished with value: 0.7826539243452373 and parameters: {'n_estimators': 723, 'max_depth': 27, 'num_leaves': 30, 'min_child_samples': 4, 'num_iterations': 970}. Best is trial 1 with value: 0.7960930528180284.\u001b[0m\n",
      "\u001b[32m[I 2023-08-17 22:47:06,756]\u001b[0m Trial 4 finished with value: 0.7750700962136143 and parameters: {'n_estimators': 644, 'max_depth': 12, 'num_leaves': 3, 'min_child_samples': 5, 'num_iterations': 525}. Best is trial 1 with value: 0.7960930528180284.\u001b[0m\n",
      "\u001b[32m[I 2023-08-17 22:47:07,283]\u001b[0m Trial 5 finished with value: 0.6957863133764334 and parameters: {'n_estimators': 558, 'max_depth': 1, 'num_leaves': 17, 'min_child_samples': 9, 'num_iterations': 803}. Best is trial 1 with value: 0.7960930528180284.\u001b[0m\n",
      "\u001b[32m[I 2023-08-17 22:47:12,459]\u001b[0m Trial 6 finished with value: 0.7917796464662012 and parameters: {'n_estimators': 603, 'max_depth': 30, 'num_leaves': 21, 'min_child_samples': 4, 'num_iterations': 954}. Best is trial 1 with value: 0.7960930528180284.\u001b[0m\n"
     ]
    },
    {
     "name": "stdout",
     "output_type": "stream",
     "text": [
      "[LightGBM] [Warning] Accuracy may be bad since you didn't explicitly set num_leaves OR 2^max_depth > num_leaves. (num_leaves=31).\n",
      "[LightGBM] [Warning] Accuracy may be bad since you didn't explicitly set num_leaves OR 2^max_depth > num_leaves. (num_leaves=31).\n",
      "[LightGBM] [Warning] Accuracy may be bad since you didn't explicitly set num_leaves OR 2^max_depth > num_leaves. (num_leaves=31).\n",
      "[LightGBM] [Warning] Accuracy may be bad since you didn't explicitly set num_leaves OR 2^max_depth > num_leaves. (num_leaves=31).\n",
      "[LightGBM] [Warning] Accuracy may be bad since you didn't explicitly set num_leaves OR 2^max_depth > num_leaves. (num_leaves=31).\n"
     ]
    },
    {
     "name": "stderr",
     "output_type": "stream",
     "text": [
      "\u001b[32m[I 2023-08-17 22:47:17,441]\u001b[0m Trial 7 finished with value: 0.7888169686940836 and parameters: {'n_estimators': 828, 'max_depth': 26, 'num_leaves': 31, 'min_child_samples': 10, 'num_iterations': 714}. Best is trial 1 with value: 0.7960930528180284.\u001b[0m\n"
     ]
    },
    {
     "name": "stdout",
     "output_type": "stream",
     "text": [
      "[LightGBM] [Warning] Accuracy may be bad since you didn't explicitly set num_leaves OR 2^max_depth > num_leaves. (num_leaves=31).\n",
      "[LightGBM] [Warning] Accuracy may be bad since you didn't explicitly set num_leaves OR 2^max_depth > num_leaves. (num_leaves=31).\n",
      "[LightGBM] [Warning] Accuracy may be bad since you didn't explicitly set num_leaves OR 2^max_depth > num_leaves. (num_leaves=31).\n",
      "[LightGBM] [Warning] Accuracy may be bad since you didn't explicitly set num_leaves OR 2^max_depth > num_leaves. (num_leaves=31).\n",
      "[LightGBM] [Warning] Accuracy may be bad since you didn't explicitly set num_leaves OR 2^max_depth > num_leaves. (num_leaves=31).\n"
     ]
    },
    {
     "name": "stderr",
     "output_type": "stream",
     "text": [
      "\u001b[32m[I 2023-08-17 22:47:22,827]\u001b[0m Trial 8 finished with value: 0.78746601670363 and parameters: {'n_estimators': 764, 'max_depth': 17, 'num_leaves': 31, 'min_child_samples': 7, 'num_iterations': 690}. Best is trial 1 with value: 0.7960930528180284.\u001b[0m\n",
      "\u001b[32m[I 2023-08-17 22:47:23,433]\u001b[0m Trial 9 finished with value: 0.7901913204040418 and parameters: {'n_estimators': 957, 'max_depth': 3, 'num_leaves': 4, 'min_child_samples': 5, 'num_iterations': 535}. Best is trial 1 with value: 0.7960930528180284.\u001b[0m\n",
      "\u001b[32m[I 2023-08-17 22:47:25,425]\u001b[0m Trial 10 finished with value: 0.7980805519524514 and parameters: {'n_estimators': 675, 'max_depth': 20, 'num_leaves': 11, 'min_child_samples': 1, 'num_iterations': 818}. Best is trial 10 with value: 0.7980805519524514.\u001b[0m\n",
      "\u001b[32m[I 2023-08-17 22:47:27,094]\u001b[0m Trial 11 finished with value: 0.7980880615669425 and parameters: {'n_estimators': 679, 'max_depth': 20, 'num_leaves': 11, 'min_child_samples': 1, 'num_iterations': 821}. Best is trial 11 with value: 0.7980880615669425.\u001b[0m\n",
      "\u001b[32m[I 2023-08-17 22:47:28,634]\u001b[0m Trial 12 finished with value: 0.7956092777818667 and parameters: {'n_estimators': 682, 'max_depth': 19, 'num_leaves': 12, 'min_child_samples': 1, 'num_iterations': 789}. Best is trial 11 with value: 0.7980880615669425.\u001b[0m\n",
      "\u001b[32m[I 2023-08-17 22:47:30,007]\u001b[0m Trial 13 finished with value: 0.7931575102010966 and parameters: {'n_estimators': 899, 'max_depth': 8, 'num_leaves': 13, 'min_child_samples': 1, 'num_iterations': 658}. Best is trial 11 with value: 0.7980880615669425.\u001b[0m\n",
      "\u001b[32m[I 2023-08-17 22:47:31,388]\u001b[0m Trial 14 finished with value: 0.7910199973550934 and parameters: {'n_estimators': 700, 'max_depth': 22, 'num_leaves': 11, 'min_child_samples': 2, 'num_iterations': 857}. Best is trial 11 with value: 0.7980880615669425.\u001b[0m\n",
      "\u001b[32m[I 2023-08-17 22:47:33,635]\u001b[0m Trial 15 finished with value: 0.7903772085765465 and parameters: {'n_estimators': 768, 'max_depth': 21, 'num_leaves': 25, 'min_child_samples': 3, 'num_iterations': 633}. Best is trial 11 with value: 0.7980880615669425.\u001b[0m\n",
      "\u001b[32m[I 2023-08-17 22:47:35,475]\u001b[0m Trial 16 finished with value: 0.7917971470938129 and parameters: {'n_estimators': 655, 'max_depth': 15, 'num_leaves': 16, 'min_child_samples': 2, 'num_iterations': 755}. Best is trial 11 with value: 0.7980880615669425.\u001b[0m\n",
      "\u001b[32m[I 2023-08-17 22:47:36,835]\u001b[0m Trial 17 finished with value: 0.7970166737523712 and parameters: {'n_estimators': 600, 'max_depth': 10, 'num_leaves': 10, 'min_child_samples': 2, 'num_iterations': 900}. Best is trial 11 with value: 0.7980880615669425.\u001b[0m\n",
      "\u001b[32m[I 2023-08-17 22:47:38,888]\u001b[0m Trial 18 finished with value: 0.8040072378704378 and parameters: {'n_estimators': 502, 'max_depth': 18, 'num_leaves': 14, 'min_child_samples': 1, 'num_iterations': 895}. Best is trial 18 with value: 0.8040072378704378.\u001b[0m\n",
      "\u001b[32m[I 2023-08-17 22:47:41,569]\u001b[0m Trial 19 finished with value: 0.7951976952883947 and parameters: {'n_estimators': 523, 'max_depth': 7, 'num_leaves': 25, 'min_child_samples': 3, 'num_iterations': 911}. Best is trial 18 with value: 0.8040072378704378.\u001b[0m\n",
      "\u001b[32m[I 2023-08-17 22:47:43,736]\u001b[0m Trial 20 finished with value: 0.7863919165964484 and parameters: {'n_estimators': 507, 'max_depth': 17, 'num_leaves': 15, 'min_child_samples': 7, 'num_iterations': 996}. Best is trial 18 with value: 0.8040072378704378.\u001b[0m\n",
      "\u001b[32m[I 2023-08-17 22:47:44,913]\u001b[0m Trial 21 finished with value: 0.803549252137463 and parameters: {'n_estimators': 636, 'max_depth': 24, 'num_leaves': 8, 'min_child_samples': 1, 'num_iterations': 854}. Best is trial 18 with value: 0.8040072378704378.\u001b[0m\n",
      "\u001b[32m[I 2023-08-17 22:47:46,125]\u001b[0m Trial 22 finished with value: 0.7971264449324208 and parameters: {'n_estimators': 567, 'max_depth': 24, 'num_leaves': 8, 'min_child_samples': 3, 'num_iterations': 869}. Best is trial 18 with value: 0.8040072378704378.\u001b[0m\n",
      "\u001b[32m[I 2023-08-17 22:47:46,953]\u001b[0m Trial 23 finished with value: 0.7923459206008335 and parameters: {'n_estimators': 622, 'max_depth': 30, 'num_leaves': 6, 'min_child_samples': 1, 'num_iterations': 759}. Best is trial 18 with value: 0.8040072378704378.\u001b[0m\n",
      "\u001b[32m[I 2023-08-17 22:47:48,959]\u001b[0m Trial 24 finished with value: 0.7939218196706588 and parameters: {'n_estimators': 732, 'max_depth': 24, 'num_leaves': 14, 'min_child_samples': 2, 'num_iterations': 935}. Best is trial 18 with value: 0.8040072378704378.\u001b[0m\n",
      "\u001b[32m[I 2023-08-17 22:47:50,153]\u001b[0m Trial 25 finished with value: 0.8035082553317701 and parameters: {'n_estimators': 559, 'max_depth': 18, 'num_leaves': 8, 'min_child_samples': 1, 'num_iterations': 862}. Best is trial 18 with value: 0.8040072378704378.\u001b[0m\n",
      "\u001b[32m[I 2023-08-17 22:47:50,541]\u001b[0m Trial 26 finished with value: 0.6960951167850465 and parameters: {'n_estimators': 500, 'max_depth': 18, 'num_leaves': 2, 'min_child_samples': 3, 'num_iterations': 862}. Best is trial 18 with value: 0.8040072378704378.\u001b[0m\n",
      "\u001b[32m[I 2023-08-17 22:47:51,728]\u001b[0m Trial 27 finished with value: 0.8005493898282738 and parameters: {'n_estimators': 563, 'max_depth': 15, 'num_leaves': 8, 'min_child_samples': 2, 'num_iterations': 916}. Best is trial 18 with value: 0.8040072378704378.\u001b[0m\n",
      "\u001b[32m[I 2023-08-17 22:47:52,642]\u001b[0m Trial 28 finished with value: 0.7983706414663707 and parameters: {'n_estimators': 555, 'max_depth': 25, 'num_leaves': 5, 'min_child_samples': 4, 'num_iterations': 866}. Best is trial 18 with value: 0.8040072378704378.\u001b[0m\n",
      "\u001b[32m[I 2023-08-17 22:47:56,305]\u001b[0m Trial 29 finished with value: 0.7983210571304513 and parameters: {'n_estimators': 533, 'max_depth': 22, 'num_leaves': 20, 'min_child_samples': 1, 'num_iterations': 988}. Best is trial 18 with value: 0.8040072378704378.\u001b[0m\n",
      "\u001b[32m[I 2023-08-17 22:47:58,635]\u001b[0m Trial 30 finished with value: 0.7925583895772002 and parameters: {'n_estimators': 630, 'max_depth': 13, 'num_leaves': 17, 'min_child_samples': 6, 'num_iterations': 939}. Best is trial 18 with value: 0.8040072378704378.\u001b[0m\n",
      "\u001b[32m[I 2023-08-17 22:48:00,181]\u001b[0m Trial 31 finished with value: 0.795474943016107 and parameters: {'n_estimators': 573, 'max_depth': 15, 'num_leaves': 9, 'min_child_samples': 2, 'num_iterations': 902}. Best is trial 18 with value: 0.8040072378704378.\u001b[0m\n",
      "\u001b[32m[I 2023-08-17 22:48:01,279]\u001b[0m Trial 32 finished with value: 0.7904999911764887 and parameters: {'n_estimators': 547, 'max_depth': 16, 'num_leaves': 7, 'min_child_samples': 2, 'num_iterations': 926}. Best is trial 18 with value: 0.8040072378704378.\u001b[0m\n",
      "\u001b[32m[I 2023-08-17 22:48:02,403]\u001b[0m Trial 33 finished with value: 0.8035790060696157 and parameters: {'n_estimators': 586, 'max_depth': 14, 'num_leaves': 8, 'min_child_samples': 1, 'num_iterations': 846}. Best is trial 18 with value: 0.8040072378704378.\u001b[0m\n",
      "\u001b[32m[I 2023-08-17 22:48:03,157]\u001b[0m Trial 34 finished with value: 0.7953484021300886 and parameters: {'n_estimators': 584, 'max_depth': 12, 'num_leaves': 5, 'min_child_samples': 1, 'num_iterations': 836}. Best is trial 18 with value: 0.8040072378704378.\u001b[0m\n",
      "\u001b[32m[I 2023-08-17 22:48:04,730]\u001b[0m Trial 35 finished with value: 0.7880061625335248 and parameters: {'n_estimators': 609, 'max_depth': 28, 'num_leaves': 13, 'min_child_samples': 3, 'num_iterations': 777}. Best is trial 18 with value: 0.8040072378704378.\u001b[0m\n",
      "\u001b[32m[I 2023-08-17 22:48:05,977]\u001b[0m Trial 36 finished with value: 0.799992446548421 and parameters: {'n_estimators': 517, 'max_depth': 23, 'num_leaves': 9, 'min_child_samples': 1, 'num_iterations': 880}. Best is trial 18 with value: 0.8040072378704378.\u001b[0m\n",
      "\u001b[32m[I 2023-08-17 22:48:06,506]\u001b[0m Trial 37 finished with value: 0.7788975403342417 and parameters: {'n_estimators': 647, 'max_depth': 13, 'num_leaves': 3, 'min_child_samples': 4, 'num_iterations': 843}. Best is trial 18 with value: 0.8040072378704378.\u001b[0m\n",
      "\u001b[32m[I 2023-08-17 22:48:08,254]\u001b[0m Trial 38 finished with value: 0.7934933721768855 and parameters: {'n_estimators': 585, 'max_depth': 10, 'num_leaves': 18, 'min_child_samples': 8, 'num_iterations': 718}. Best is trial 18 with value: 0.8040072378704378.\u001b[0m\n",
      "\u001b[32m[I 2023-08-17 22:48:09,350]\u001b[0m Trial 39 finished with value: 0.7906208335725106 and parameters: {'n_estimators': 539, 'max_depth': 18, 'num_leaves': 7, 'min_child_samples': 2, 'num_iterations': 957}. Best is trial 18 with value: 0.8040072378704378.\u001b[0m\n",
      "\u001b[32m[I 2023-08-17 22:48:11,259]\u001b[0m Trial 40 finished with value: 0.7955031360843684 and parameters: {'n_estimators': 805, 'max_depth': 28, 'num_leaves': 15, 'min_child_samples': 1, 'num_iterations': 793}. Best is trial 18 with value: 0.8040072378704378.\u001b[0m\n",
      "\u001b[32m[I 2023-08-17 22:48:12,466]\u001b[0m Trial 41 finished with value: 0.8004895550920846 and parameters: {'n_estimators': 555, 'max_depth': 14, 'num_leaves': 8, 'min_child_samples': 2, 'num_iterations': 888}. Best is trial 18 with value: 0.8040072378704378.\u001b[0m\n",
      "\u001b[32m[I 2023-08-17 22:48:13,455]\u001b[0m Trial 42 finished with value: 0.7925140398308131 and parameters: {'n_estimators': 584, 'max_depth': 16, 'num_leaves': 6, 'min_child_samples': 1, 'num_iterations': 919}. Best is trial 18 with value: 0.8040072378704378.\u001b[0m\n",
      "\u001b[32m[I 2023-08-17 22:48:14,792]\u001b[0m Trial 43 finished with value: 0.7954487972558728 and parameters: {'n_estimators': 625, 'max_depth': 11, 'num_leaves': 9, 'min_child_samples': 2, 'num_iterations': 970}. Best is trial 18 with value: 0.8040072378704378.\u001b[0m\n",
      "\u001b[32m[I 2023-08-17 22:48:17,684]\u001b[0m Trial 44 finished with value: 0.791259496598202 and parameters: {'n_estimators': 526, 'max_depth': 19, 'num_leaves': 23, 'min_child_samples': 1, 'num_iterations': 839}. Best is trial 18 with value: 0.8040072378704378.\u001b[0m\n",
      "\u001b[32m[I 2023-08-17 22:48:19,281]\u001b[0m Trial 45 finished with value: 0.7904581570526379 and parameters: {'n_estimators': 608, 'max_depth': 14, 'num_leaves': 12, 'min_child_samples': 3, 'num_iterations': 892}. Best is trial 18 with value: 0.8040072378704378.\u001b[0m\n",
      "\u001b[32m[I 2023-08-17 22:48:19,958]\u001b[0m Trial 46 finished with value: 0.7986092075628142 and parameters: {'n_estimators': 560, 'max_depth': 20, 'num_leaves': 5, 'min_child_samples': 4, 'num_iterations': 804}. Best is trial 18 with value: 0.8040072378704378.\u001b[0m\n",
      "\u001b[32m[I 2023-08-17 22:48:20,806]\u001b[0m Trial 47 finished with value: 0.795794868701295 and parameters: {'n_estimators': 500, 'max_depth': 7, 'num_leaves': 10, 'min_child_samples': 1, 'num_iterations': 568}. Best is trial 18 with value: 0.8040072378704378.\u001b[0m\n",
      "\u001b[32m[I 2023-08-17 22:48:21,288]\u001b[0m Trial 48 finished with value: 0.7772803053724193 and parameters: {'n_estimators': 658, 'max_depth': 17, 'num_leaves': 3, 'min_child_samples': 5, 'num_iterations': 808}. Best is trial 18 with value: 0.8040072378704378.\u001b[0m\n",
      "\u001b[32m[I 2023-08-17 22:48:22,191]\u001b[0m Trial 49 finished with value: 0.7906247820673433 and parameters: {'n_estimators': 961, 'max_depth': 21, 'num_leaves': 7, 'min_child_samples': 2, 'num_iterations': 828}. Best is trial 18 with value: 0.8040072378704378.\u001b[0m\n",
      "\u001b[32m[I 2023-08-17 22:48:24,251]\u001b[0m Trial 50 finished with value: 0.7956578048759859 and parameters: {'n_estimators': 885, 'max_depth': 14, 'num_leaves': 12, 'min_child_samples': 1, 'num_iterations': 946}. Best is trial 18 with value: 0.8040072378704378.\u001b[0m\n",
      "\u001b[32m[I 2023-08-17 22:48:25,494]\u001b[0m Trial 51 finished with value: 0.800482163244267 and parameters: {'n_estimators': 552, 'max_depth': 14, 'num_leaves': 8, 'min_child_samples': 2, 'num_iterations': 889}. Best is trial 18 with value: 0.8040072378704378.\u001b[0m\n",
      "\u001b[32m[I 2023-08-17 22:48:27,169]\u001b[0m Trial 52 finished with value: 0.7969024176027422 and parameters: {'n_estimators': 539, 'max_depth': 12, 'num_leaves': 10, 'min_child_samples': 2, 'num_iterations': 850}. Best is trial 18 with value: 0.8040072378704378.\u001b[0m\n",
      "\u001b[32m[I 2023-08-17 22:48:28,275]\u001b[0m Trial 53 finished with value: 0.800350301581829 and parameters: {'n_estimators': 586, 'max_depth': 16, 'num_leaves': 8, 'min_child_samples': 10, 'num_iterations': 910}. Best is trial 18 with value: 0.8040072378704378.\u001b[0m\n",
      "\u001b[32m[I 2023-08-17 22:48:28,924]\u001b[0m Trial 54 finished with value: 0.7768661138828605 and parameters: {'n_estimators': 521, 'max_depth': 18, 'num_leaves': 4, 'min_child_samples': 1, 'num_iterations': 878}. Best is trial 18 with value: 0.8040072378704378.\u001b[0m\n",
      "\u001b[32m[I 2023-08-17 22:48:31,708]\u001b[0m Trial 55 finished with value: 0.7824974579983983 and parameters: {'n_estimators': 570, 'max_depth': 9, 'num_leaves': 29, 'min_child_samples': 2, 'num_iterations': 772}. Best is trial 18 with value: 0.8040072378704378.\u001b[0m\n",
      "\u001b[32m[I 2023-08-17 22:48:32,404]\u001b[0m Trial 56 finished with value: 0.7972751443931726 and parameters: {'n_estimators': 695, 'max_depth': 19, 'num_leaves': 6, 'min_child_samples': 3, 'num_iterations': 724}. Best is trial 18 with value: 0.8040072378704378.\u001b[0m\n",
      "\u001b[32m[I 2023-08-17 22:48:33,778]\u001b[0m Trial 57 finished with value: 0.7895916265017398 and parameters: {'n_estimators': 600, 'max_depth': 4, 'num_leaves': 11, 'min_child_samples': 1, 'num_iterations': 973}. Best is trial 18 with value: 0.8040072378704378.\u001b[0m\n",
      "\u001b[32m[I 2023-08-17 22:48:35,303]\u001b[0m Trial 58 finished with value: 0.7964259018232045 and parameters: {'n_estimators': 630, 'max_depth': 15, 'num_leaves': 13, 'min_child_samples': 6, 'num_iterations': 821}. Best is trial 18 with value: 0.8040072378704378.\u001b[0m\n",
      "\u001b[32m[I 2023-08-17 22:48:36,427]\u001b[0m Trial 59 finished with value: 0.7955137384479911 and parameters: {'n_estimators': 544, 'max_depth': 26, 'num_leaves': 9, 'min_child_samples': 2, 'num_iterations': 858}. Best is trial 18 with value: 0.8040072378704378.\u001b[0m\n",
      "\u001b[32m[I 2023-08-17 22:48:37,951]\u001b[0m Trial 60 finished with value: 0.80150584155574 and parameters: {'n_estimators': 515, 'max_depth': 21, 'num_leaves': 11, 'min_child_samples': 3, 'num_iterations': 883}. Best is trial 18 with value: 0.8040072378704378.\u001b[0m\n",
      "\u001b[32m[I 2023-08-17 22:48:39,343]\u001b[0m Trial 61 finished with value: 0.8015003892211234 and parameters: {'n_estimators': 518, 'max_depth': 21, 'num_leaves': 11, 'min_child_samples': 3, 'num_iterations': 881}. Best is trial 18 with value: 0.8040072378704378.\u001b[0m\n",
      "\u001b[32m[I 2023-08-17 22:48:41,193]\u001b[0m Trial 62 finished with value: 0.7963804611319111 and parameters: {'n_estimators': 514, 'max_depth': 21, 'num_leaves': 14, 'min_child_samples': 3, 'num_iterations': 920}. Best is trial 18 with value: 0.8040072378704378.\u001b[0m\n",
      "\u001b[32m[I 2023-08-17 22:48:42,590]\u001b[0m Trial 63 finished with value: 0.7980943339069597 and parameters: {'n_estimators': 530, 'max_depth': 23, 'num_leaves': 11, 'min_child_samples': 1, 'num_iterations': 863}. Best is trial 18 with value: 0.8040072378704378.\u001b[0m\n",
      "\u001b[32m[I 2023-08-17 22:48:43,852]\u001b[0m Trial 64 finished with value: 0.7908798709861523 and parameters: {'n_estimators': 502, 'max_depth': 20, 'num_leaves': 10, 'min_child_samples': 3, 'num_iterations': 905}. Best is trial 18 with value: 0.8040072378704378.\u001b[0m\n",
      "\u001b[32m[I 2023-08-17 22:48:45,815]\u001b[0m Trial 65 finished with value: 0.7890298710874726 and parameters: {'n_estimators': 564, 'max_depth': 23, 'num_leaves': 15, 'min_child_samples': 4, 'num_iterations': 927}. Best is trial 18 with value: 0.8040072378704378.\u001b[0m\n",
      "\u001b[32m[I 2023-08-17 22:48:47,482]\u001b[0m Trial 66 finished with value: 0.7952403615155637 and parameters: {'n_estimators': 518, 'max_depth': 25, 'num_leaves': 12, 'min_child_samples': 2, 'num_iterations': 882}. Best is trial 18 with value: 0.8040072378704378.\u001b[0m\n",
      "\u001b[32m[I 2023-08-17 22:48:49,787]\u001b[0m Trial 67 finished with value: 0.7908852308137104 and parameters: {'n_estimators': 571, 'max_depth': 17, 'num_leaves': 16, 'min_child_samples': 1, 'num_iterations': 951}. Best is trial 18 with value: 0.8040072378704378.\u001b[0m\n",
      "\u001b[32m[I 2023-08-17 22:48:51,442]\u001b[0m Trial 68 finished with value: 0.7879484041010137 and parameters: {'n_estimators': 538, 'max_depth': 19, 'num_leaves': 13, 'min_child_samples': 3, 'num_iterations': 875}. Best is trial 18 with value: 0.8040072378704378.\u001b[0m\n",
      "\u001b[32m[I 2023-08-17 22:48:52,511]\u001b[0m Trial 69 finished with value: 0.7965440576448466 and parameters: {'n_estimators': 615, 'max_depth': 22, 'num_leaves': 7, 'min_child_samples': 1, 'num_iterations': 851}. Best is trial 18 with value: 0.8040072378704378.\u001b[0m\n",
      "\u001b[32m[I 2023-08-17 22:48:53,897]\u001b[0m Trial 70 finished with value: 0.801244131134235 and parameters: {'n_estimators': 726, 'max_depth': 21, 'num_leaves': 10, 'min_child_samples': 7, 'num_iterations': 897}. Best is trial 18 with value: 0.8040072378704378.\u001b[0m\n",
      "\u001b[32m[I 2023-08-17 22:48:55,314]\u001b[0m Trial 71 finished with value: 0.8012568733901408 and parameters: {'n_estimators': 745, 'max_depth': 21, 'num_leaves': 10, 'min_child_samples': 7, 'num_iterations': 898}. Best is trial 18 with value: 0.8040072378704378.\u001b[0m\n",
      "\u001b[32m[I 2023-08-17 22:48:57,112]\u001b[0m Trial 72 finished with value: 0.7937155933580942 and parameters: {'n_estimators': 747, 'max_depth': 21, 'num_leaves': 11, 'min_child_samples': 7, 'num_iterations': 900}. Best is trial 18 with value: 0.8040072378704378.\u001b[0m\n",
      "\u001b[32m[I 2023-08-17 22:48:58,302]\u001b[0m Trial 73 finished with value: 0.8011774781474091 and parameters: {'n_estimators': 775, 'max_depth': 20, 'num_leaves': 10, 'min_child_samples': 7, 'num_iterations': 870}. Best is trial 18 with value: 0.8040072378704378.\u001b[0m\n",
      "\u001b[32m[I 2023-08-17 22:48:59,812]\u001b[0m Trial 74 finished with value: 0.7921173890797841 and parameters: {'n_estimators': 722, 'max_depth': 24, 'num_leaves': 14, 'min_child_samples': 8, 'num_iterations': 829}. Best is trial 18 with value: 0.8040072378704378.\u001b[0m\n",
      "\u001b[32m[I 2023-08-17 22:49:01,114]\u001b[0m Trial 75 finished with value: 0.7961953790495091 and parameters: {'n_estimators': 793, 'max_depth': 22, 'num_leaves': 9, 'min_child_samples': 8, 'num_iterations': 937}. Best is trial 18 with value: 0.8040072378704378.\u001b[0m\n",
      "\u001b[32m[I 2023-08-17 22:49:02,809]\u001b[0m Trial 76 finished with value: 0.7867899885540093 and parameters: {'n_estimators': 719, 'max_depth': 18, 'num_leaves': 12, 'min_child_samples': 5, 'num_iterations': 847}. Best is trial 18 with value: 0.8040072378704378.\u001b[0m\n",
      "\u001b[32m[I 2023-08-17 22:49:04,477]\u001b[0m Trial 77 finished with value: 0.792452393008267 and parameters: {'n_estimators': 662, 'max_depth': 19, 'num_leaves': 11, 'min_child_samples': 6, 'num_iterations': 885}. Best is trial 18 with value: 0.8040072378704378.\u001b[0m\n",
      "\u001b[32m[I 2023-08-17 22:49:05,756]\u001b[0m Trial 78 finished with value: 0.7993006800434619 and parameters: {'n_estimators': 746, 'max_depth': 21, 'num_leaves': 9, 'min_child_samples': 7, 'num_iterations': 900}. Best is trial 18 with value: 0.8040072378704378.\u001b[0m\n",
      "\u001b[32m[I 2023-08-17 22:49:07,340]\u001b[0m Trial 79 finished with value: 0.7906540166522404 and parameters: {'n_estimators': 697, 'max_depth': 25, 'num_leaves': 14, 'min_child_samples': 7, 'num_iterations': 814}. Best is trial 18 with value: 0.8040072378704378.\u001b[0m\n",
      "\u001b[32m[I 2023-08-17 22:49:09,195]\u001b[0m Trial 80 finished with value: 0.7872982084274678 and parameters: {'n_estimators': 845, 'max_depth': 23, 'num_leaves': 18, 'min_child_samples': 9, 'num_iterations': 790}. Best is trial 18 with value: 0.8040072378704378.\u001b[0m\n",
      "\u001b[32m[I 2023-08-17 22:49:10,388]\u001b[0m Trial 81 finished with value: 0.7942001030108818 and parameters: {'n_estimators': 767, 'max_depth': 20, 'num_leaves': 10, 'min_child_samples': 6, 'num_iterations': 870}. Best is trial 18 with value: 0.8040072378704378.\u001b[0m\n",
      "\u001b[32m[I 2023-08-17 22:49:11,297]\u001b[0m Trial 82 finished with value: 0.7940623858708494 and parameters: {'n_estimators': 802, 'max_depth': 20, 'num_leaves': 7, 'min_child_samples': 7, 'num_iterations': 870}. Best is trial 18 with value: 0.8040072378704378.\u001b[0m\n",
      "\u001b[32m[I 2023-08-17 22:49:12,432]\u001b[0m Trial 83 finished with value: 0.793687633445005 and parameters: {'n_estimators': 827, 'max_depth': 22, 'num_leaves': 10, 'min_child_samples': 8, 'num_iterations': 857}. Best is trial 18 with value: 0.8040072378704378.\u001b[0m\n",
      "\u001b[32m[I 2023-08-17 22:49:13,951]\u001b[0m Trial 84 finished with value: 0.7906811586313551 and parameters: {'n_estimators': 778, 'max_depth': 18, 'num_leaves': 12, 'min_child_samples': 7, 'num_iterations': 833}. Best is trial 18 with value: 0.8040072378704378.\u001b[0m\n",
      "\u001b[32m[I 2023-08-17 22:49:14,776]\u001b[0m Trial 85 finished with value: 0.7951028151358552 and parameters: {'n_estimators': 735, 'max_depth': 24, 'num_leaves': 6, 'min_child_samples': 6, 'num_iterations': 894}. Best is trial 18 with value: 0.8040072378704378.\u001b[0m\n",
      "\u001b[32m[I 2023-08-17 22:49:15,771]\u001b[0m Trial 86 finished with value: 0.7936761874656784 and parameters: {'n_estimators': 708, 'max_depth': 19, 'num_leaves': 8, 'min_child_samples': 9, 'num_iterations': 911}. Best is trial 18 with value: 0.8040072378704378.\u001b[0m\n",
      "\u001b[32m[I 2023-08-17 22:49:17,177]\u001b[0m Trial 87 finished with value: 0.7893263364501137 and parameters: {'n_estimators': 995, 'max_depth': 16, 'num_leaves': 11, 'min_child_samples': 8, 'num_iterations': 926}. Best is trial 18 with value: 0.8040072378704378.\u001b[0m\n",
      "\u001b[32m[I 2023-08-17 22:49:18,719]\u001b[0m Trial 88 finished with value: 0.7908992201992001 and parameters: {'n_estimators': 758, 'max_depth': 17, 'num_leaves': 13, 'min_child_samples': 7, 'num_iterations': 840}. Best is trial 18 with value: 0.8040072378704378.\u001b[0m\n",
      "\u001b[32m[I 2023-08-17 22:49:19,592]\u001b[0m Trial 89 finished with value: 0.7913622634235058 and parameters: {'n_estimators': 782, 'max_depth': 21, 'num_leaves': 9, 'min_child_samples': 4, 'num_iterations': 665}. Best is trial 18 with value: 0.8040072378704378.\u001b[0m\n",
      "\u001b[32m[I 2023-08-17 22:49:20,034]\u001b[0m Trial 90 finished with value: 0.8007049663637587 and parameters: {'n_estimators': 681, 'max_depth': 20, 'num_leaves': 5, 'min_child_samples': 5, 'num_iterations': 507}. Best is trial 18 with value: 0.8040072378704378.\u001b[0m\n",
      "\u001b[32m[I 2023-08-17 22:49:20,547]\u001b[0m Trial 91 finished with value: 0.8010187593948833 and parameters: {'n_estimators': 678, 'max_depth': 20, 'num_leaves': 5, 'min_child_samples': 5, 'num_iterations': 572}. Best is trial 18 with value: 0.8040072378704378.\u001b[0m\n",
      "\u001b[32m[I 2023-08-17 22:49:21,090]\u001b[0m Trial 92 finished with value: 0.7914249812688438 and parameters: {'n_estimators': 669, 'max_depth': 22, 'num_leaves': 4, 'min_child_samples': 5, 'num_iterations': 746}. Best is trial 18 with value: 0.8040072378704378.\u001b[0m\n",
      "\u001b[32m[I 2023-08-17 22:49:21,373]\u001b[0m Trial 93 finished with value: 0.6858603799082457 and parameters: {'n_estimators': 735, 'max_depth': 19, 'num_leaves': 2, 'min_child_samples': 7, 'num_iterations': 631}. Best is trial 18 with value: 0.8040072378704378.\u001b[0m\n",
      "\u001b[32m[I 2023-08-17 22:49:22,081]\u001b[0m Trial 94 finished with value: 0.7931330773583491 and parameters: {'n_estimators': 688, 'max_depth': 18, 'num_leaves': 8, 'min_child_samples': 6, 'num_iterations': 593}. Best is trial 18 with value: 0.8040072378704378.\u001b[0m\n",
      "\u001b[32m[I 2023-08-17 22:49:23,556]\u001b[0m Trial 95 finished with value: 0.7935717657097408 and parameters: {'n_estimators': 641, 'max_depth': 21, 'num_leaves': 10, 'min_child_samples': 1, 'num_iterations': 876}. Best is trial 18 with value: 0.8040072378704378.\u001b[0m\n",
      "\u001b[32m[I 2023-08-17 22:49:24,797]\u001b[0m Trial 96 finished with value: 0.7965959270845808 and parameters: {'n_estimators': 594, 'max_depth': 23, 'num_leaves': 7, 'min_child_samples': 1, 'num_iterations': 862}. Best is trial 18 with value: 0.8040072378704378.\u001b[0m\n",
      "\u001b[32m[I 2023-08-17 22:49:25,442]\u001b[0m Trial 97 finished with value: 0.797051709769427 and parameters: {'n_estimators': 508, 'max_depth': 17, 'num_leaves': 6, 'min_child_samples': 5, 'num_iterations': 543}. Best is trial 18 with value: 0.8040072378704378.\u001b[0m\n",
      "\u001b[32m[I 2023-08-17 22:49:26,892]\u001b[0m Trial 98 finished with value: 0.8012054977171686 and parameters: {'n_estimators': 646, 'max_depth': 22, 'num_leaves': 10, 'min_child_samples': 7, 'num_iterations': 887}. Best is trial 18 with value: 0.8040072378704378.\u001b[0m\n",
      "\u001b[32m[I 2023-08-17 22:49:28,076]\u001b[0m Trial 99 finished with value: 0.7993010828304739 and parameters: {'n_estimators': 528, 'max_depth': 24, 'num_leaves': 9, 'min_child_samples': 7, 'num_iterations': 892}. Best is trial 18 with value: 0.8040072378704378.\u001b[0m\n"
     ]
    },
    {
     "name": "stdout",
     "output_type": "stream",
     "text": [
      "Best r2:  0.8040072378704378\n",
      "Best trial: {'n_estimators': 502, 'max_depth': 18, 'num_leaves': 14, 'min_child_samples': 1, 'num_iterations': 895}\n"
     ]
    }
   ],
   "source": [
    "sampler = TPESampler()\n",
    "study = optuna.create_study(\n",
    "    study_name=\"lgbm_parameter_opt\",\n",
    "    direction=\"maximize\",\n",
    "    sampler=sampler,\n",
    ")\n",
    "\n",
    "study.optimize(lambda trial : objectiveLGBM(trial, Ni_X_train, Ni_y_train), n_trials=100)\n",
    "print(\"Best r2: \", study.best_value)\n",
    "print(\"Best trial:\", study.best_trial.params)"
   ]
  },
  {
   "cell_type": "code",
   "execution_count": 69,
   "id": "d71c01fb",
   "metadata": {},
   "outputs": [
    {
     "data": {
      "application/vnd.plotly.v1+json": {
       "config": {
        "plotlyServerURL": "https://plot.ly"
       },
       "data": [
        {
         "dimensions": [
          {
           "label": "Objective Value",
           "range": [
            0.6858603799082457,
            0.8040072378704378
           ],
           "values": [
            0.7817323926767281,
            0.7960930528180284,
            0.7930903183248239,
            0.7826539243452373,
            0.7750700962136143,
            0.6957863133764334,
            0.7917796464662012,
            0.7888169686940836,
            0.78746601670363,
            0.7901913204040418,
            0.7980805519524514,
            0.7980880615669425,
            0.7956092777818667,
            0.7931575102010966,
            0.7910199973550934,
            0.7903772085765465,
            0.7917971470938129,
            0.7970166737523712,
            0.8040072378704378,
            0.7951976952883947,
            0.7863919165964484,
            0.803549252137463,
            0.7971264449324208,
            0.7923459206008335,
            0.7939218196706588,
            0.8035082553317701,
            0.6960951167850465,
            0.8005493898282738,
            0.7983706414663707,
            0.7983210571304513,
            0.7925583895772002,
            0.795474943016107,
            0.7904999911764887,
            0.8035790060696157,
            0.7953484021300886,
            0.7880061625335248,
            0.799992446548421,
            0.7788975403342417,
            0.7934933721768855,
            0.7906208335725106,
            0.7955031360843684,
            0.8004895550920846,
            0.7925140398308131,
            0.7954487972558728,
            0.791259496598202,
            0.7904581570526379,
            0.7986092075628142,
            0.795794868701295,
            0.7772803053724193,
            0.7906247820673433,
            0.7956578048759859,
            0.800482163244267,
            0.7969024176027422,
            0.800350301581829,
            0.7768661138828605,
            0.7824974579983983,
            0.7972751443931726,
            0.7895916265017398,
            0.7964259018232045,
            0.7955137384479911,
            0.80150584155574,
            0.8015003892211234,
            0.7963804611319111,
            0.7980943339069597,
            0.7908798709861523,
            0.7890298710874726,
            0.7952403615155637,
            0.7908852308137104,
            0.7879484041010137,
            0.7965440576448466,
            0.801244131134235,
            0.8012568733901408,
            0.7937155933580942,
            0.8011774781474091,
            0.7921173890797841,
            0.7961953790495091,
            0.7867899885540093,
            0.792452393008267,
            0.7993006800434619,
            0.7906540166522404,
            0.7872982084274678,
            0.7942001030108818,
            0.7940623858708494,
            0.793687633445005,
            0.7906811586313551,
            0.7951028151358552,
            0.7936761874656784,
            0.7893263364501137,
            0.7908992201992001,
            0.7913622634235058,
            0.8007049663637587,
            0.8010187593948833,
            0.7914249812688438,
            0.6858603799082457,
            0.7931330773583491,
            0.7935717657097408,
            0.7965959270845808,
            0.797051709769427,
            0.8012054977171686,
            0.7993010828304739
           ]
          },
          {
           "label": "max_depth",
           "range": [
            1,
            30
           ],
           "values": [
            22,
            27,
            13,
            27,
            12,
            1,
            30,
            26,
            17,
            3,
            20,
            20,
            19,
            8,
            22,
            21,
            15,
            10,
            18,
            7,
            17,
            24,
            24,
            30,
            24,
            18,
            18,
            15,
            25,
            22,
            13,
            15,
            16,
            14,
            12,
            28,
            23,
            13,
            10,
            18,
            28,
            14,
            16,
            11,
            19,
            14,
            20,
            7,
            17,
            21,
            14,
            14,
            12,
            16,
            18,
            9,
            19,
            4,
            15,
            26,
            21,
            21,
            21,
            23,
            20,
            23,
            25,
            17,
            19,
            22,
            21,
            21,
            21,
            20,
            24,
            22,
            18,
            19,
            21,
            25,
            23,
            20,
            20,
            22,
            18,
            24,
            19,
            16,
            17,
            21,
            20,
            20,
            22,
            19,
            18,
            21,
            23,
            17,
            22,
            24
           ]
          },
          {
           "label": "min_child_samples",
           "range": [
            1,
            10
           ],
           "values": [
            6,
            5,
            9,
            4,
            5,
            9,
            4,
            10,
            7,
            5,
            1,
            1,
            1,
            1,
            2,
            3,
            2,
            2,
            1,
            3,
            7,
            1,
            3,
            1,
            2,
            1,
            3,
            2,
            4,
            1,
            6,
            2,
            2,
            1,
            1,
            3,
            1,
            4,
            8,
            2,
            1,
            2,
            1,
            2,
            1,
            3,
            4,
            1,
            5,
            2,
            1,
            2,
            2,
            10,
            1,
            2,
            3,
            1,
            6,
            2,
            3,
            3,
            3,
            1,
            3,
            4,
            2,
            1,
            3,
            1,
            7,
            7,
            7,
            7,
            8,
            8,
            5,
            6,
            7,
            7,
            9,
            6,
            7,
            8,
            7,
            6,
            9,
            8,
            7,
            4,
            5,
            5,
            5,
            7,
            6,
            1,
            1,
            5,
            7,
            7
           ]
          },
          {
           "label": "n_estimators",
           "range": [
            500,
            995
           ],
           "values": [
            533,
            599,
            812,
            723,
            644,
            558,
            603,
            828,
            764,
            957,
            675,
            679,
            682,
            899,
            700,
            768,
            655,
            600,
            502,
            523,
            507,
            636,
            567,
            622,
            732,
            559,
            500,
            563,
            555,
            533,
            630,
            573,
            547,
            586,
            584,
            609,
            517,
            647,
            585,
            539,
            805,
            555,
            584,
            625,
            526,
            608,
            560,
            500,
            658,
            961,
            885,
            552,
            539,
            586,
            521,
            570,
            695,
            600,
            630,
            544,
            515,
            518,
            514,
            530,
            502,
            564,
            518,
            571,
            538,
            615,
            726,
            745,
            747,
            775,
            722,
            793,
            719,
            662,
            746,
            697,
            845,
            767,
            802,
            827,
            778,
            735,
            708,
            995,
            758,
            782,
            681,
            678,
            669,
            735,
            688,
            641,
            594,
            508,
            646,
            528
           ]
          },
          {
           "label": "num_iterations",
           "range": [
            507,
            996
           ],
           "values": [
            896,
            829,
            522,
            970,
            525,
            803,
            954,
            714,
            690,
            535,
            818,
            821,
            789,
            658,
            857,
            633,
            755,
            900,
            895,
            911,
            996,
            854,
            869,
            759,
            935,
            862,
            862,
            916,
            866,
            988,
            939,
            902,
            926,
            846,
            836,
            777,
            880,
            843,
            718,
            957,
            793,
            888,
            919,
            970,
            839,
            892,
            804,
            568,
            808,
            828,
            946,
            889,
            850,
            910,
            878,
            772,
            724,
            973,
            821,
            858,
            883,
            881,
            920,
            863,
            905,
            927,
            882,
            951,
            875,
            851,
            897,
            898,
            900,
            870,
            829,
            937,
            847,
            885,
            900,
            814,
            790,
            870,
            870,
            857,
            833,
            894,
            911,
            926,
            840,
            665,
            507,
            572,
            746,
            631,
            593,
            876,
            862,
            543,
            887,
            892
           ]
          },
          {
           "label": "num_leaves",
           "range": [
            2,
            31
           ],
           "values": [
            19,
            8,
            6,
            30,
            3,
            17,
            21,
            31,
            31,
            4,
            11,
            11,
            12,
            13,
            11,
            25,
            16,
            10,
            14,
            25,
            15,
            8,
            8,
            6,
            14,
            8,
            2,
            8,
            5,
            20,
            17,
            9,
            7,
            8,
            5,
            13,
            9,
            3,
            18,
            7,
            15,
            8,
            6,
            9,
            23,
            12,
            5,
            10,
            3,
            7,
            12,
            8,
            10,
            8,
            4,
            29,
            6,
            11,
            13,
            9,
            11,
            11,
            14,
            11,
            10,
            15,
            12,
            16,
            13,
            7,
            10,
            10,
            11,
            10,
            14,
            9,
            12,
            11,
            9,
            14,
            18,
            10,
            7,
            10,
            12,
            6,
            8,
            11,
            13,
            9,
            5,
            5,
            4,
            2,
            8,
            10,
            7,
            6,
            10,
            9
           ]
          }
         ],
         "labelangle": 30,
         "labelside": "bottom",
         "line": {
          "color": [
           0.7817323926767281,
           0.7960930528180284,
           0.7930903183248239,
           0.7826539243452373,
           0.7750700962136143,
           0.6957863133764334,
           0.7917796464662012,
           0.7888169686940836,
           0.78746601670363,
           0.7901913204040418,
           0.7980805519524514,
           0.7980880615669425,
           0.7956092777818667,
           0.7931575102010966,
           0.7910199973550934,
           0.7903772085765465,
           0.7917971470938129,
           0.7970166737523712,
           0.8040072378704378,
           0.7951976952883947,
           0.7863919165964484,
           0.803549252137463,
           0.7971264449324208,
           0.7923459206008335,
           0.7939218196706588,
           0.8035082553317701,
           0.6960951167850465,
           0.8005493898282738,
           0.7983706414663707,
           0.7983210571304513,
           0.7925583895772002,
           0.795474943016107,
           0.7904999911764887,
           0.8035790060696157,
           0.7953484021300886,
           0.7880061625335248,
           0.799992446548421,
           0.7788975403342417,
           0.7934933721768855,
           0.7906208335725106,
           0.7955031360843684,
           0.8004895550920846,
           0.7925140398308131,
           0.7954487972558728,
           0.791259496598202,
           0.7904581570526379,
           0.7986092075628142,
           0.795794868701295,
           0.7772803053724193,
           0.7906247820673433,
           0.7956578048759859,
           0.800482163244267,
           0.7969024176027422,
           0.800350301581829,
           0.7768661138828605,
           0.7824974579983983,
           0.7972751443931726,
           0.7895916265017398,
           0.7964259018232045,
           0.7955137384479911,
           0.80150584155574,
           0.8015003892211234,
           0.7963804611319111,
           0.7980943339069597,
           0.7908798709861523,
           0.7890298710874726,
           0.7952403615155637,
           0.7908852308137104,
           0.7879484041010137,
           0.7965440576448466,
           0.801244131134235,
           0.8012568733901408,
           0.7937155933580942,
           0.8011774781474091,
           0.7921173890797841,
           0.7961953790495091,
           0.7867899885540093,
           0.792452393008267,
           0.7993006800434619,
           0.7906540166522404,
           0.7872982084274678,
           0.7942001030108818,
           0.7940623858708494,
           0.793687633445005,
           0.7906811586313551,
           0.7951028151358552,
           0.7936761874656784,
           0.7893263364501137,
           0.7908992201992001,
           0.7913622634235058,
           0.8007049663637587,
           0.8010187593948833,
           0.7914249812688438,
           0.6858603799082457,
           0.7931330773583491,
           0.7935717657097408,
           0.7965959270845808,
           0.797051709769427,
           0.8012054977171686,
           0.7993010828304739
          ],
          "colorbar": {
           "title": {
            "text": "Objective Value"
           }
          },
          "colorscale": [
           [
            0,
            "rgb(247,251,255)"
           ],
           [
            0.125,
            "rgb(222,235,247)"
           ],
           [
            0.25,
            "rgb(198,219,239)"
           ],
           [
            0.375,
            "rgb(158,202,225)"
           ],
           [
            0.5,
            "rgb(107,174,214)"
           ],
           [
            0.625,
            "rgb(66,146,198)"
           ],
           [
            0.75,
            "rgb(33,113,181)"
           ],
           [
            0.875,
            "rgb(8,81,156)"
           ],
           [
            1,
            "rgb(8,48,107)"
           ]
          ],
          "reversescale": false,
          "showscale": true
         },
         "type": "parcoords"
        }
       ],
       "layout": {
        "template": {
         "data": {
          "bar": [
           {
            "error_x": {
             "color": "#2a3f5f"
            },
            "error_y": {
             "color": "#2a3f5f"
            },
            "marker": {
             "line": {
              "color": "#E5ECF6",
              "width": 0.5
             },
             "pattern": {
              "fillmode": "overlay",
              "size": 10,
              "solidity": 0.2
             }
            },
            "type": "bar"
           }
          ],
          "barpolar": [
           {
            "marker": {
             "line": {
              "color": "#E5ECF6",
              "width": 0.5
             },
             "pattern": {
              "fillmode": "overlay",
              "size": 10,
              "solidity": 0.2
             }
            },
            "type": "barpolar"
           }
          ],
          "carpet": [
           {
            "aaxis": {
             "endlinecolor": "#2a3f5f",
             "gridcolor": "white",
             "linecolor": "white",
             "minorgridcolor": "white",
             "startlinecolor": "#2a3f5f"
            },
            "baxis": {
             "endlinecolor": "#2a3f5f",
             "gridcolor": "white",
             "linecolor": "white",
             "minorgridcolor": "white",
             "startlinecolor": "#2a3f5f"
            },
            "type": "carpet"
           }
          ],
          "choropleth": [
           {
            "colorbar": {
             "outlinewidth": 0,
             "ticks": ""
            },
            "type": "choropleth"
           }
          ],
          "contour": [
           {
            "colorbar": {
             "outlinewidth": 0,
             "ticks": ""
            },
            "colorscale": [
             [
              0,
              "#0d0887"
             ],
             [
              0.1111111111111111,
              "#46039f"
             ],
             [
              0.2222222222222222,
              "#7201a8"
             ],
             [
              0.3333333333333333,
              "#9c179e"
             ],
             [
              0.4444444444444444,
              "#bd3786"
             ],
             [
              0.5555555555555556,
              "#d8576b"
             ],
             [
              0.6666666666666666,
              "#ed7953"
             ],
             [
              0.7777777777777778,
              "#fb9f3a"
             ],
             [
              0.8888888888888888,
              "#fdca26"
             ],
             [
              1,
              "#f0f921"
             ]
            ],
            "type": "contour"
           }
          ],
          "contourcarpet": [
           {
            "colorbar": {
             "outlinewidth": 0,
             "ticks": ""
            },
            "type": "contourcarpet"
           }
          ],
          "heatmap": [
           {
            "colorbar": {
             "outlinewidth": 0,
             "ticks": ""
            },
            "colorscale": [
             [
              0,
              "#0d0887"
             ],
             [
              0.1111111111111111,
              "#46039f"
             ],
             [
              0.2222222222222222,
              "#7201a8"
             ],
             [
              0.3333333333333333,
              "#9c179e"
             ],
             [
              0.4444444444444444,
              "#bd3786"
             ],
             [
              0.5555555555555556,
              "#d8576b"
             ],
             [
              0.6666666666666666,
              "#ed7953"
             ],
             [
              0.7777777777777778,
              "#fb9f3a"
             ],
             [
              0.8888888888888888,
              "#fdca26"
             ],
             [
              1,
              "#f0f921"
             ]
            ],
            "type": "heatmap"
           }
          ],
          "heatmapgl": [
           {
            "colorbar": {
             "outlinewidth": 0,
             "ticks": ""
            },
            "colorscale": [
             [
              0,
              "#0d0887"
             ],
             [
              0.1111111111111111,
              "#46039f"
             ],
             [
              0.2222222222222222,
              "#7201a8"
             ],
             [
              0.3333333333333333,
              "#9c179e"
             ],
             [
              0.4444444444444444,
              "#bd3786"
             ],
             [
              0.5555555555555556,
              "#d8576b"
             ],
             [
              0.6666666666666666,
              "#ed7953"
             ],
             [
              0.7777777777777778,
              "#fb9f3a"
             ],
             [
              0.8888888888888888,
              "#fdca26"
             ],
             [
              1,
              "#f0f921"
             ]
            ],
            "type": "heatmapgl"
           }
          ],
          "histogram": [
           {
            "marker": {
             "pattern": {
              "fillmode": "overlay",
              "size": 10,
              "solidity": 0.2
             }
            },
            "type": "histogram"
           }
          ],
          "histogram2d": [
           {
            "colorbar": {
             "outlinewidth": 0,
             "ticks": ""
            },
            "colorscale": [
             [
              0,
              "#0d0887"
             ],
             [
              0.1111111111111111,
              "#46039f"
             ],
             [
              0.2222222222222222,
              "#7201a8"
             ],
             [
              0.3333333333333333,
              "#9c179e"
             ],
             [
              0.4444444444444444,
              "#bd3786"
             ],
             [
              0.5555555555555556,
              "#d8576b"
             ],
             [
              0.6666666666666666,
              "#ed7953"
             ],
             [
              0.7777777777777778,
              "#fb9f3a"
             ],
             [
              0.8888888888888888,
              "#fdca26"
             ],
             [
              1,
              "#f0f921"
             ]
            ],
            "type": "histogram2d"
           }
          ],
          "histogram2dcontour": [
           {
            "colorbar": {
             "outlinewidth": 0,
             "ticks": ""
            },
            "colorscale": [
             [
              0,
              "#0d0887"
             ],
             [
              0.1111111111111111,
              "#46039f"
             ],
             [
              0.2222222222222222,
              "#7201a8"
             ],
             [
              0.3333333333333333,
              "#9c179e"
             ],
             [
              0.4444444444444444,
              "#bd3786"
             ],
             [
              0.5555555555555556,
              "#d8576b"
             ],
             [
              0.6666666666666666,
              "#ed7953"
             ],
             [
              0.7777777777777778,
              "#fb9f3a"
             ],
             [
              0.8888888888888888,
              "#fdca26"
             ],
             [
              1,
              "#f0f921"
             ]
            ],
            "type": "histogram2dcontour"
           }
          ],
          "mesh3d": [
           {
            "colorbar": {
             "outlinewidth": 0,
             "ticks": ""
            },
            "type": "mesh3d"
           }
          ],
          "parcoords": [
           {
            "line": {
             "colorbar": {
              "outlinewidth": 0,
              "ticks": ""
             }
            },
            "type": "parcoords"
           }
          ],
          "pie": [
           {
            "automargin": true,
            "type": "pie"
           }
          ],
          "scatter": [
           {
            "marker": {
             "colorbar": {
              "outlinewidth": 0,
              "ticks": ""
             }
            },
            "type": "scatter"
           }
          ],
          "scatter3d": [
           {
            "line": {
             "colorbar": {
              "outlinewidth": 0,
              "ticks": ""
             }
            },
            "marker": {
             "colorbar": {
              "outlinewidth": 0,
              "ticks": ""
             }
            },
            "type": "scatter3d"
           }
          ],
          "scattercarpet": [
           {
            "marker": {
             "colorbar": {
              "outlinewidth": 0,
              "ticks": ""
             }
            },
            "type": "scattercarpet"
           }
          ],
          "scattergeo": [
           {
            "marker": {
             "colorbar": {
              "outlinewidth": 0,
              "ticks": ""
             }
            },
            "type": "scattergeo"
           }
          ],
          "scattergl": [
           {
            "marker": {
             "colorbar": {
              "outlinewidth": 0,
              "ticks": ""
             }
            },
            "type": "scattergl"
           }
          ],
          "scattermapbox": [
           {
            "marker": {
             "colorbar": {
              "outlinewidth": 0,
              "ticks": ""
             }
            },
            "type": "scattermapbox"
           }
          ],
          "scatterpolar": [
           {
            "marker": {
             "colorbar": {
              "outlinewidth": 0,
              "ticks": ""
             }
            },
            "type": "scatterpolar"
           }
          ],
          "scatterpolargl": [
           {
            "marker": {
             "colorbar": {
              "outlinewidth": 0,
              "ticks": ""
             }
            },
            "type": "scatterpolargl"
           }
          ],
          "scatterternary": [
           {
            "marker": {
             "colorbar": {
              "outlinewidth": 0,
              "ticks": ""
             }
            },
            "type": "scatterternary"
           }
          ],
          "surface": [
           {
            "colorbar": {
             "outlinewidth": 0,
             "ticks": ""
            },
            "colorscale": [
             [
              0,
              "#0d0887"
             ],
             [
              0.1111111111111111,
              "#46039f"
             ],
             [
              0.2222222222222222,
              "#7201a8"
             ],
             [
              0.3333333333333333,
              "#9c179e"
             ],
             [
              0.4444444444444444,
              "#bd3786"
             ],
             [
              0.5555555555555556,
              "#d8576b"
             ],
             [
              0.6666666666666666,
              "#ed7953"
             ],
             [
              0.7777777777777778,
              "#fb9f3a"
             ],
             [
              0.8888888888888888,
              "#fdca26"
             ],
             [
              1,
              "#f0f921"
             ]
            ],
            "type": "surface"
           }
          ],
          "table": [
           {
            "cells": {
             "fill": {
              "color": "#EBF0F8"
             },
             "line": {
              "color": "white"
             }
            },
            "header": {
             "fill": {
              "color": "#C8D4E3"
             },
             "line": {
              "color": "white"
             }
            },
            "type": "table"
           }
          ]
         },
         "layout": {
          "annotationdefaults": {
           "arrowcolor": "#2a3f5f",
           "arrowhead": 0,
           "arrowwidth": 1
          },
          "autotypenumbers": "strict",
          "coloraxis": {
           "colorbar": {
            "outlinewidth": 0,
            "ticks": ""
           }
          },
          "colorscale": {
           "diverging": [
            [
             0,
             "#8e0152"
            ],
            [
             0.1,
             "#c51b7d"
            ],
            [
             0.2,
             "#de77ae"
            ],
            [
             0.3,
             "#f1b6da"
            ],
            [
             0.4,
             "#fde0ef"
            ],
            [
             0.5,
             "#f7f7f7"
            ],
            [
             0.6,
             "#e6f5d0"
            ],
            [
             0.7,
             "#b8e186"
            ],
            [
             0.8,
             "#7fbc41"
            ],
            [
             0.9,
             "#4d9221"
            ],
            [
             1,
             "#276419"
            ]
           ],
           "sequential": [
            [
             0,
             "#0d0887"
            ],
            [
             0.1111111111111111,
             "#46039f"
            ],
            [
             0.2222222222222222,
             "#7201a8"
            ],
            [
             0.3333333333333333,
             "#9c179e"
            ],
            [
             0.4444444444444444,
             "#bd3786"
            ],
            [
             0.5555555555555556,
             "#d8576b"
            ],
            [
             0.6666666666666666,
             "#ed7953"
            ],
            [
             0.7777777777777778,
             "#fb9f3a"
            ],
            [
             0.8888888888888888,
             "#fdca26"
            ],
            [
             1,
             "#f0f921"
            ]
           ],
           "sequentialminus": [
            [
             0,
             "#0d0887"
            ],
            [
             0.1111111111111111,
             "#46039f"
            ],
            [
             0.2222222222222222,
             "#7201a8"
            ],
            [
             0.3333333333333333,
             "#9c179e"
            ],
            [
             0.4444444444444444,
             "#bd3786"
            ],
            [
             0.5555555555555556,
             "#d8576b"
            ],
            [
             0.6666666666666666,
             "#ed7953"
            ],
            [
             0.7777777777777778,
             "#fb9f3a"
            ],
            [
             0.8888888888888888,
             "#fdca26"
            ],
            [
             1,
             "#f0f921"
            ]
           ]
          },
          "colorway": [
           "#636efa",
           "#EF553B",
           "#00cc96",
           "#ab63fa",
           "#FFA15A",
           "#19d3f3",
           "#FF6692",
           "#B6E880",
           "#FF97FF",
           "#FECB52"
          ],
          "font": {
           "color": "#2a3f5f"
          },
          "geo": {
           "bgcolor": "white",
           "lakecolor": "white",
           "landcolor": "#E5ECF6",
           "showlakes": true,
           "showland": true,
           "subunitcolor": "white"
          },
          "hoverlabel": {
           "align": "left"
          },
          "hovermode": "closest",
          "mapbox": {
           "style": "light"
          },
          "paper_bgcolor": "white",
          "plot_bgcolor": "#E5ECF6",
          "polar": {
           "angularaxis": {
            "gridcolor": "white",
            "linecolor": "white",
            "ticks": ""
           },
           "bgcolor": "#E5ECF6",
           "radialaxis": {
            "gridcolor": "white",
            "linecolor": "white",
            "ticks": ""
           }
          },
          "scene": {
           "xaxis": {
            "backgroundcolor": "#E5ECF6",
            "gridcolor": "white",
            "gridwidth": 2,
            "linecolor": "white",
            "showbackground": true,
            "ticks": "",
            "zerolinecolor": "white"
           },
           "yaxis": {
            "backgroundcolor": "#E5ECF6",
            "gridcolor": "white",
            "gridwidth": 2,
            "linecolor": "white",
            "showbackground": true,
            "ticks": "",
            "zerolinecolor": "white"
           },
           "zaxis": {
            "backgroundcolor": "#E5ECF6",
            "gridcolor": "white",
            "gridwidth": 2,
            "linecolor": "white",
            "showbackground": true,
            "ticks": "",
            "zerolinecolor": "white"
           }
          },
          "shapedefaults": {
           "line": {
            "color": "#2a3f5f"
           }
          },
          "ternary": {
           "aaxis": {
            "gridcolor": "white",
            "linecolor": "white",
            "ticks": ""
           },
           "baxis": {
            "gridcolor": "white",
            "linecolor": "white",
            "ticks": ""
           },
           "bgcolor": "#E5ECF6",
           "caxis": {
            "gridcolor": "white",
            "linecolor": "white",
            "ticks": ""
           }
          },
          "title": {
           "x": 0.05
          },
          "xaxis": {
           "automargin": true,
           "gridcolor": "white",
           "linecolor": "white",
           "ticks": "",
           "title": {
            "standoff": 15
           },
           "zerolinecolor": "white",
           "zerolinewidth": 2
          },
          "yaxis": {
           "automargin": true,
           "gridcolor": "white",
           "linecolor": "white",
           "ticks": "",
           "title": {
            "standoff": 15
           },
           "zerolinecolor": "white",
           "zerolinewidth": 2
          }
         }
        },
        "title": {
         "text": "Parallel Coordinate Plot"
        }
       }
      }
     },
     "metadata": {},
     "output_type": "display_data"
    }
   ],
   "source": [
    "optuna.visualization.plot_parallel_coordinate(study)"
   ]
  },
  {
   "cell_type": "code",
   "execution_count": 70,
   "id": "1d419df8",
   "metadata": {},
   "outputs": [
    {
     "name": "stdout",
     "output_type": "stream",
     "text": [
      "Best trial: {'n_estimators': 502, 'max_depth': 18, 'num_leaves': 14, 'min_child_samples': 1, 'num_iterations': 895}\n"
     ]
    },
    {
     "data": {
      "text/plain": [
       "502"
      ]
     },
     "execution_count": 70,
     "metadata": {},
     "output_type": "execute_result"
    }
   ],
   "source": [
    "print(\"Best trial:\", study.best_trial.params)\n",
    "study.best_trial.params[\"n_estimators\"]"
   ]
  },
  {
   "cell_type": "code",
   "execution_count": 71,
   "id": "ffefef6c",
   "metadata": {},
   "outputs": [
    {
     "data": {
      "text/html": [
       "<style>#sk-container-id-3 {color: black;background-color: white;}#sk-container-id-3 pre{padding: 0;}#sk-container-id-3 div.sk-toggleable {background-color: white;}#sk-container-id-3 label.sk-toggleable__label {cursor: pointer;display: block;width: 100%;margin-bottom: 0;padding: 0.3em;box-sizing: border-box;text-align: center;}#sk-container-id-3 label.sk-toggleable__label-arrow:before {content: \"▸\";float: left;margin-right: 0.25em;color: #696969;}#sk-container-id-3 label.sk-toggleable__label-arrow:hover:before {color: black;}#sk-container-id-3 div.sk-estimator:hover label.sk-toggleable__label-arrow:before {color: black;}#sk-container-id-3 div.sk-toggleable__content {max-height: 0;max-width: 0;overflow: hidden;text-align: left;background-color: #f0f8ff;}#sk-container-id-3 div.sk-toggleable__content pre {margin: 0.2em;color: black;border-radius: 0.25em;background-color: #f0f8ff;}#sk-container-id-3 input.sk-toggleable__control:checked~div.sk-toggleable__content {max-height: 200px;max-width: 100%;overflow: auto;}#sk-container-id-3 input.sk-toggleable__control:checked~label.sk-toggleable__label-arrow:before {content: \"▾\";}#sk-container-id-3 div.sk-estimator input.sk-toggleable__control:checked~label.sk-toggleable__label {background-color: #d4ebff;}#sk-container-id-3 div.sk-label input.sk-toggleable__control:checked~label.sk-toggleable__label {background-color: #d4ebff;}#sk-container-id-3 input.sk-hidden--visually {border: 0;clip: rect(1px 1px 1px 1px);clip: rect(1px, 1px, 1px, 1px);height: 1px;margin: -1px;overflow: hidden;padding: 0;position: absolute;width: 1px;}#sk-container-id-3 div.sk-estimator {font-family: monospace;background-color: #f0f8ff;border: 1px dotted black;border-radius: 0.25em;box-sizing: border-box;margin-bottom: 0.5em;}#sk-container-id-3 div.sk-estimator:hover {background-color: #d4ebff;}#sk-container-id-3 div.sk-parallel-item::after {content: \"\";width: 100%;border-bottom: 1px solid gray;flex-grow: 1;}#sk-container-id-3 div.sk-label:hover label.sk-toggleable__label {background-color: #d4ebff;}#sk-container-id-3 div.sk-serial::before {content: \"\";position: absolute;border-left: 1px solid gray;box-sizing: border-box;top: 0;bottom: 0;left: 50%;z-index: 0;}#sk-container-id-3 div.sk-serial {display: flex;flex-direction: column;align-items: center;background-color: white;padding-right: 0.2em;padding-left: 0.2em;position: relative;}#sk-container-id-3 div.sk-item {position: relative;z-index: 1;}#sk-container-id-3 div.sk-parallel {display: flex;align-items: stretch;justify-content: center;background-color: white;position: relative;}#sk-container-id-3 div.sk-item::before, #sk-container-id-3 div.sk-parallel-item::before {content: \"\";position: absolute;border-left: 1px solid gray;box-sizing: border-box;top: 0;bottom: 0;left: 50%;z-index: -1;}#sk-container-id-3 div.sk-parallel-item {display: flex;flex-direction: column;z-index: 1;position: relative;background-color: white;}#sk-container-id-3 div.sk-parallel-item:first-child::after {align-self: flex-end;width: 50%;}#sk-container-id-3 div.sk-parallel-item:last-child::after {align-self: flex-start;width: 50%;}#sk-container-id-3 div.sk-parallel-item:only-child::after {width: 0;}#sk-container-id-3 div.sk-dashed-wrapped {border: 1px dashed gray;margin: 0 0.4em 0.5em 0.4em;box-sizing: border-box;padding-bottom: 0.4em;background-color: white;}#sk-container-id-3 div.sk-label label {font-family: monospace;font-weight: bold;display: inline-block;line-height: 1.2em;}#sk-container-id-3 div.sk-label-container {text-align: center;}#sk-container-id-3 div.sk-container {/* jupyter's `normalize.less` sets `[hidden] { display: none; }` but bootstrap.min.css set `[hidden] { display: none !important; }` so we also need the `!important` here to be able to override the default hidden behavior on the sphinx rendered scikit-learn.org. See: https://github.com/scikit-learn/scikit-learn/issues/21755 */display: inline-block !important;position: relative;}#sk-container-id-3 div.sk-text-repr-fallback {display: none;}</style><div id=\"sk-container-id-3\" class=\"sk-top-container\"><div class=\"sk-text-repr-fallback\"><pre>LGBMRegressor(max_depth=18, min_child_samples=1, n_estimators=502,\n",
       "              num_iterations=895, num_leaves=14, random_state=42)</pre><b>In a Jupyter environment, please rerun this cell to show the HTML representation or trust the notebook. <br />On GitHub, the HTML representation is unable to render, please try loading this page with nbviewer.org.</b></div><div class=\"sk-container\" hidden><div class=\"sk-item\"><div class=\"sk-estimator sk-toggleable\"><input class=\"sk-toggleable__control sk-hidden--visually\" id=\"sk-estimator-id-3\" type=\"checkbox\" checked><label for=\"sk-estimator-id-3\" class=\"sk-toggleable__label sk-toggleable__label-arrow\">LGBMRegressor</label><div class=\"sk-toggleable__content\"><pre>LGBMRegressor(max_depth=18, min_child_samples=1, n_estimators=502,\n",
       "              num_iterations=895, num_leaves=14, random_state=42)</pre></div></div></div></div></div>"
      ],
      "text/plain": [
       "LGBMRegressor(max_depth=18, min_child_samples=1, n_estimators=502,\n",
       "              num_iterations=895, num_leaves=14, random_state=42)"
      ]
     },
     "execution_count": 71,
     "metadata": {},
     "output_type": "execute_result"
    }
   ],
   "source": [
    "lgbm_params = {\n",
    "    \"random_state\": 42,\n",
    "    \"learning_rate\": 0.1,\n",
    "    \"n_estimators\": study.best_trial.params[\"n_estimators\"],\n",
    "    \"max_depth\": study.best_trial.params[\"max_depth\"],\n",
    "    \"num_leaves\": study.best_trial.params[\"num_leaves\"],\n",
    "    \"min_child_samples\": study.best_trial.params[\"min_child_samples\"],\n",
    "    \"num_iterations\": study.best_trial.params[\"num_iterations\"]\n",
    "}\n",
    "\n",
    "lgbm = LGBMRegressor(**lgbm_params)\n",
    "lgbm.fit(Ni_X_train, Ni_y_train)"
   ]
  },
  {
   "cell_type": "code",
   "execution_count": 72,
   "id": "4c1a69d2",
   "metadata": {},
   "outputs": [],
   "source": [
    "y_train_pred = lgbm.predict(Ni_X_train)\n",
    "y_test_pred = lgbm.predict(Ni_X_test)"
   ]
  },
  {
   "cell_type": "code",
   "execution_count": 73,
   "id": "0f707a20",
   "metadata": {},
   "outputs": [
    {
     "name": "stdout",
     "output_type": "stream",
     "text": [
      "Train RMSE:  0.004500418237388392\n",
      "Test RMSE:  0.4590499574026822\n"
     ]
    }
   ],
   "source": [
    "print(\"Train RMSE: \", np.sqrt(mean_squared_error(Ni_y_train, y_train_pred)))\n",
    "print(\"Test RMSE: \", np.sqrt(mean_squared_error(Ni_y_test, y_test_pred)))"
   ]
  },
  {
   "cell_type": "code",
   "execution_count": 74,
   "id": "641d78f4",
   "metadata": {},
   "outputs": [
    {
     "name": "stdout",
     "output_type": "stream",
     "text": [
      "Train R2:  0.9999863378188206\n",
      "Test R2:  0.8539091694612185\n"
     ]
    }
   ],
   "source": [
    "print(\"Train R2: \", r2_score(Ni_y_train, y_train_pred))\n",
    "print(\"Test R2: \", r2_score(Ni_y_test, y_test_pred))"
   ]
  },
  {
   "cell_type": "code",
   "execution_count": 75,
   "id": "badc2f1d",
   "metadata": {},
   "outputs": [
    {
     "data": {
      "image/png": "[encoded data removed]",
      "text/plain": [
       "<Figure size 432x288 with 1 Axes>"
      ]
     },
     "metadata": {
      "needs_background": "light"
     },
     "output_type": "display_data"
    }
   ],
   "source": [
    "plt.scatter(y_train_pred, np.array(Ni_y_train), color=\"orange\", alpha=0.3)\n",
    "plt.scatter(y_test_pred, np.array(Ni_y_test), color=\"green\", alpha=0.4)\n",
    "plt.axis(\"auto\") # scaled, tight, auto, image, square\n",
    "# plt.xlim([0, 1.5]) \n",
    "# plt.ylim(0, None) \n",
    "plt.xlabel('Predicted Values')\n",
    "plt.ylabel('Actual Values')\n",
    "\n",
    "# Add y=x line\n",
    "plt.plot([0, 4.0], [0, 4.0], color='red', linestyle='-')\n",
    "\n",
    "plt.show()"
   ]
  }
 ],
 "metadata": {
  "kernelspec": {
   "display_name": "Python 3",
   "language": "python",
   "name": "python3"
  },
  "language_info": {
   "codemirror_mode": {
    "name": "ipython",
    "version": 3
   },
   "file_extension": ".py",
   "mimetype": "text/x-python",
   "name": "python",
   "nbconvert_exporter": "python",
   "pygments_lexer": "ipython3",
   "version": "3.8.11"
  }
 },
 "nbformat": 4,
 "nbformat_minor": 5
}
