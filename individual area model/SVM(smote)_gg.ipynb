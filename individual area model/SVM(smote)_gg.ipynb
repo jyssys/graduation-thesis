{
 "cells": [
  {
   "attachments": {},
   "cell_type": "markdown",
   "id": "451911be",
   "metadata": {},
   "source": [
    "#### Library import"
   ]
  },
  {
   "cell_type": "code",
   "execution_count": 1,
   "id": "8a394942",
   "metadata": {},
   "outputs": [],
   "source": [
    "import os\n",
    "import pandas as pd\n",
    "import numpy as np\n",
    "import matplotlib.pyplot as plt\n",
    "%matplotlib inline\n",
    "import seaborn as sns\n",
    "import tensorflow as tf\n",
    "import missingno as msno\n",
    "\n",
    "import warnings\n",
    "warnings.filterwarnings('ignore')\n",
    "\n",
    "from sklearn.model_selection import train_test_split\n",
    "from sklearn.model_selection import GridSearchCV\n",
    "from sklearn.metrics import mean_squared_error, r2_score\n",
    "from sklearn.preprocessing import StandardScaler, MinMaxScaler, RobustScaler\n",
    "from sklearn.ensemble import RandomForestRegressor, GradientBoostingRegressor, ExtraTreesRegressor\n",
    "from sklearn.model_selection import KFold\n",
    "from lightgbm import LGBMRegressor\n",
    "from xgboost import XGBRegressor\n",
    "from ngboost import NGBRegressor\n",
    "from scipy.stats import norm, skew\n",
    "\n",
    "from matplotlib.ticker import FormatStrFormatter\n",
    "\n",
    "from tensorflow import keras\n",
    "\n",
    "import re\n",
    "from tqdm import tqdm"
   ]
  },
  {
   "attachments": {},
   "cell_type": "markdown",
   "id": "31a13d68",
   "metadata": {},
   "source": [
    "#### GPU setting"
   ]
  },
  {
   "cell_type": "code",
   "execution_count": 2,
   "id": "cd001f36",
   "metadata": {},
   "outputs": [],
   "source": [
    "from tensorflow.compat.v1 import ConfigProto\n",
    "from tensorflow.compat.v1 import InteractiveSession"
   ]
  },
  {
   "cell_type": "code",
   "execution_count": 3,
   "id": "2aa07618",
   "metadata": {},
   "outputs": [],
   "source": [
    "config = ConfigProto()\n",
    "config.gpu_options.per_process_gpu_memory_fraction = 0.4\n",
    "session = InteractiveSession(config = config)"
   ]
  },
  {
   "cell_type": "code",
   "execution_count": 4,
   "id": "2a6c1daf",
   "metadata": {},
   "outputs": [
    {
     "name": "stdout",
     "output_type": "stream",
     "text": [
      "[name: \"/device:CPU:0\"\n",
      "device_type: \"CPU\"\n",
      "memory_limit: 268435456\n",
      "locality {\n",
      "}\n",
      "incarnation: 13912581089883723426\n",
      ", name: \"/device:GPU:0\"\n",
      "device_type: \"GPU\"\n",
      "memory_limit: 3435973836\n",
      "locality {\n",
      "  bus_id: 1\n",
      "  links {\n",
      "  }\n",
      "}\n",
      "incarnation: 3040277030671656708\n",
      "physical_device_desc: \"device: 0, name: NVIDIA GeForce RTX 3060 Ti, pci bus id: 0000:07:00.0, compute capability: 8.6\"\n",
      "]\n"
     ]
    }
   ],
   "source": [
    "physical_devices = tf.config.list_physical_devices('GPU')\n",
    "physical_devices\n",
    "\n",
    "from tensorflow.python.client import device_lib\n",
    "\n",
    "print(device_lib.list_local_devices())"
   ]
  },
  {
   "cell_type": "code",
   "execution_count": 5,
   "id": "1c58374d",
   "metadata": {},
   "outputs": [],
   "source": [
    "import os\n",
    "\n",
    "os.environ[\"CUDA_VISIBLE_DEVICES\"]=\"0\"\n",
    "gpus = tf.config.experimental.list_physical_devices('GPU')\n",
    "if gpus:\n",
    "    try:\n",
    "        tf.config.experimental.set_memory_growth(gpus[0], True)\n",
    "    except RuntimeError as e:\n",
    "        print(e)"
   ]
  },
  {
   "attachments": {},
   "cell_type": "markdown",
   "id": "cb740f81",
   "metadata": {},
   "source": [
    "#### Data import and preprocessing"
   ]
  },
  {
   "cell_type": "code",
   "execution_count": 6,
   "id": "9288345d",
   "metadata": {
    "scrolled": true
   },
   "outputs": [
    {
     "data": {
      "text/plain": [
       "Index(['OBJECTID_x', 'ID', 'pH', 'As', 'Cd', 'Ni', 'Pb', 'Zn', 'Hg', 'slope',\n",
       "       'altitude', 'profile_curve', 'profile_c_num', 'profile_c_abs',\n",
       "       'planform_curve', 'planform_c_num', 'planform_c_abs', 'HYDGRP',\n",
       "       'HYDGRP_A', 'HYDGRP_B', 'HYDGRP_C', 'HYDGRP_D', 'ANION_EXCL', 'SOL_CRK',\n",
       "       'SOL_K1', 'CLAY1', 'SILT1', 'SAND1', 'ROCK1', 'SOL_EC1', 'distance'],\n",
       "      dtype='object')"
      ]
     },
     "execution_count": 6,
     "metadata": {},
     "output_type": "execute_result"
    }
   ],
   "source": [
    "data = pd.read_csv(\"data/data_gg.csv\")\n",
    "data.columns"
   ]
  },
  {
   "cell_type": "code",
   "execution_count": 7,
   "id": "bbf87a23",
   "metadata": {},
   "outputs": [
    {
     "data": {
      "text/plain": [
       "Index(['pH', 'As', 'Cd', 'Ni', 'Pb', 'Zn', 'Hg', 'slope', 'altitude',\n",
       "       'profile_curve', 'planform_curve', 'HYDGRP_A', 'HYDGRP_B', 'HYDGRP_C',\n",
       "       'HYDGRP_D', 'SOL_K1', 'CLAY1', 'SILT1', 'SAND1', 'ROCK1', 'distance'],\n",
       "      dtype='object')"
      ]
     },
     "execution_count": 7,
     "metadata": {},
     "output_type": "execute_result"
    }
   ],
   "source": [
    "data = data.drop(['OBJECTID_x','ID','HYDGRP','profile_c_num', 'profile_c_abs','planform_c_num', 'planform_c_abs','ANION_EXCL','SOL_CRK','SOL_EC1'], axis = 1)\n",
    "data.columns"
   ]
  },
  {
   "cell_type": "code",
   "execution_count": 8,
   "id": "2dc33c24",
   "metadata": {},
   "outputs": [],
   "source": [
    "As = data\n",
    "Cd = data\n",
    "Ni = data"
   ]
  },
  {
   "cell_type": "code",
   "execution_count": 9,
   "id": "85f4f13d",
   "metadata": {},
   "outputs": [],
   "source": [
    "As = As.drop([\"Cd\", \"Ni\", \"Pb\", \"Zn\", \"Hg\"], axis = 1)\n",
    "Cd = Cd.drop([\"As\", \"Ni\", \"Pb\", \"Zn\", \"Hg\"], axis = 1)\n",
    "Ni = Ni.drop([\"As\", \"Cd\", \"Pb\", \"Zn\", \"Hg\"], axis = 1)"
   ]
  },
  {
   "cell_type": "code",
   "execution_count": 10,
   "id": "daff7fe8",
   "metadata": {},
   "outputs": [
    {
     "name": "stdout",
     "output_type": "stream",
     "text": [
      "(781, 16)\n",
      "(781, 16)\n",
      "(781, 16)\n"
     ]
    }
   ],
   "source": [
    "print(As.shape)\n",
    "print(Cd.shape)\n",
    "print(Ni.shape)"
   ]
  },
  {
   "attachments": {},
   "cell_type": "markdown",
   "id": "32a5223d",
   "metadata": {},
   "source": [
    "#### Oversampling by SMOGN (SMOTE Regression)"
   ]
  },
  {
   "cell_type": "code",
   "execution_count": 11,
   "id": "68a479be",
   "metadata": {},
   "outputs": [],
   "source": [
    "import smogn"
   ]
  },
  {
   "cell_type": "code",
   "execution_count": 12,
   "id": "60543147",
   "metadata": {},
   "outputs": [
    {
     "name": "stderr",
     "output_type": "stream",
     "text": [
      "dist_matrix: 100%|##########| 148/148 [00:08<00:00, 17.23it/s]\n",
      "synth_matrix: 100%|##########| 148/148 [00:00<00:00, 203.53it/s]\n",
      "r_index: 100%|##########| 44/44 [00:00<00:00, 478.16it/s]\n",
      "dist_matrix: 100%|##########| 88/88 [00:03<00:00, 28.89it/s]\n",
      "synth_matrix: 100%|##########| 88/88 [00:00<00:00, 103.55it/s]\n",
      "r_index: 100%|##########| 79/79 [00:00<00:00, 636.96it/s]\n",
      "dist_matrix: 100%|##########| 115/115 [00:05<00:00, 21.75it/s]\n",
      "synth_matrix: 100%|##########| 115/115 [00:00<00:00, 146.74it/s]\n",
      "r_index: 100%|##########| 91/91 [00:00<00:00, 558.16it/s]\n"
     ]
    }
   ],
   "source": [
    "As_smogn = smogn.smoter(data = As, y = 'As', samp_method = 'extreme')\n",
    "Cd_smogn = smogn.smoter(data = Cd, y = 'Cd', samp_method = 'extreme', k = 3)\n",
    "Ni_smogn = smogn.smoter(data = Ni, y = 'Ni', samp_method = 'extreme', k = 7)"
   ]
  },
  {
   "cell_type": "code",
   "execution_count": 13,
   "id": "7072810a",
   "metadata": {},
   "outputs": [
    {
     "name": "stdout",
     "output_type": "stream",
     "text": [
      "(1143, 16)\n",
      "(1319, 16)\n",
      "(1199, 16)\n"
     ]
    }
   ],
   "source": [
    "print(As_smogn.shape)\n",
    "print(Cd_smogn.shape)\n",
    "print(Ni_smogn.shape)"
   ]
  },
  {
   "cell_type": "code",
   "execution_count": 14,
   "id": "3de0b4af",
   "metadata": {},
   "outputs": [],
   "source": [
    "As_smogn = As_smogn.reset_index(drop = True)\n",
    "Cd_smogn = Cd_smogn.reset_index(drop = True)\n",
    "Ni_smogn = Ni_smogn.reset_index(drop = True)"
   ]
  },
  {
   "attachments": {},
   "cell_type": "markdown",
   "id": "ed72a9b1",
   "metadata": {},
   "source": [
    "#### Eliminate outlier and train / test split"
   ]
  },
  {
   "cell_type": "code",
   "execution_count": 15,
   "id": "43604a42",
   "metadata": {},
   "outputs": [],
   "source": [
    "def eli_outlier(data, value):\n",
    "    q1 = data[value].quantile(0.25)\n",
    "    q3 = data[value].quantile(0.75)\n",
    "\n",
    "    iqr = q3 - q1\n",
    "\n",
    "    q1_condition = data[value] < q1-1.5*iqr\n",
    "    q3_condition = data[value] > q3+1.5*iqr\n",
    "\n",
    "    reset_q1_index = data[q1_condition].index\n",
    "    reset_q3_index = data[q3_condition].index\n",
    "\n",
    "    data.drop(reset_q1_index, inplace = True)\n",
    "    data.drop(reset_q3_index, inplace = True)\n",
    "\n",
    "    return data"
   ]
  },
  {
   "cell_type": "code",
   "execution_count": 16,
   "id": "9b7632f2",
   "metadata": {},
   "outputs": [],
   "source": [
    "As_ros = eli_outlier(As_smogn, \"As\")\n",
    "Cd_ros = eli_outlier(Cd_smogn, \"Cd\")\n",
    "Ni_ros = eli_outlier(Ni_smogn, \"Ni\")"
   ]
  },
  {
   "cell_type": "code",
   "execution_count": 17,
   "id": "45ec138e",
   "metadata": {},
   "outputs": [],
   "source": [
    "As_X = As_ros.drop([\"As\"], axis=1)\n",
    "Cd_X = Cd_ros.drop([\"Cd\"], axis=1)\n",
    "Ni_X = Ni_ros.drop([\"Ni\"], axis=1)\n",
    "\n",
    "As_y = As_ros[\"As\"]\n",
    "Cd_y = Cd_ros[\"Cd\"]\n",
    "Ni_y = Ni_ros[\"Ni\"]"
   ]
  },
  {
   "cell_type": "code",
   "execution_count": 18,
   "id": "6463b1c2",
   "metadata": {},
   "outputs": [],
   "source": [
    "As_y = np.log1p(As_ros[\"As\"])\n",
    "Cd_y = np.log1p(Cd_ros[\"Cd\"])\n",
    "Ni_y = np.log1p(Ni_ros[\"Ni\"])"
   ]
  },
  {
   "cell_type": "code",
   "execution_count": 19,
   "id": "fb94ff27",
   "metadata": {},
   "outputs": [
    {
     "name": "stdout",
     "output_type": "stream",
     "text": [
      "(982, 15)\n",
      "(1269, 15)\n",
      "(1136, 15)\n"
     ]
    }
   ],
   "source": [
    "print(As_X.shape)\n",
    "print(Cd_X.shape)\n",
    "print(Ni_X.shape)"
   ]
  },
  {
   "attachments": {},
   "cell_type": "markdown",
   "id": "c92e5bb6",
   "metadata": {},
   "source": [
    "StandardScaler"
   ]
  },
  {
   "cell_type": "code",
   "execution_count": 20,
   "id": "7d0fa112",
   "metadata": {},
   "outputs": [],
   "source": [
    "from sklearn.preprocessing import StandardScaler\n",
    "\n",
    "scaler = StandardScaler()\n",
    "\n",
    "As_X_train, As_X_test, As_y_train, As_y_test = train_test_split(As_X, As_y, test_size=0.2, random_state=42)\n",
    "Cd_X_train, Cd_X_test, Cd_y_train, Cd_y_test = train_test_split(Cd_X, Cd_y, test_size=0.2, random_state=42)\n",
    "Ni_X_train, Ni_X_test, Ni_y_train, Ni_y_test = train_test_split(Ni_X, Ni_y, test_size=0.2, random_state=42)\n",
    "\n",
    "As_X_train = scaler.fit_transform(As_X_train)\n",
    "As_X_test = scaler.fit_transform(As_X_test)\n",
    "\n",
    "Cd_X_train = scaler.fit_transform(Cd_X_train)\n",
    "Cd_X_test = scaler.fit_transform(Cd_X_test)\n",
    "\n",
    "Ni_X_train = scaler.fit_transform(Ni_X_train)\n",
    "Ni_X_test = scaler.fit_transform(Ni_X_test)"
   ]
  },
  {
   "cell_type": "code",
   "execution_count": 21,
   "id": "416a7027",
   "metadata": {},
   "outputs": [
    {
     "data": {
      "text/plain": [
       "' from sklearn.preprocessing import StandardScaler\\n\\nscaler = StandardScaler()\\nAs_X_scaled = scaler.fit_transform(As_X)\\nCd_X_scaled = scaler.fit_transform(Cd_X)\\nNi_X_scaled = scaler.fit_transform(Ni_X)\\n\\nAs_X_train, As_X_test, As_y_train, As_y_test = train_test_split(As_X_scaled, As_y, test_size=0.2, random_state=42)\\nCd_X_train, Cd_X_test, Cd_y_train, Cd_y_test = train_test_split(Cd_X_scaled, Cd_y, test_size=0.2, random_state=42)\\nNi_X_train, Ni_X_test, Ni_y_train, Ni_y_test = train_test_split(Ni_X_scaled, Ni_y, test_size=0.2, random_state=42) '"
      ]
     },
     "execution_count": 21,
     "metadata": {},
     "output_type": "execute_result"
    }
   ],
   "source": [
    "''' from sklearn.preprocessing import StandardScaler\n",
    "\n",
    "scaler = StandardScaler()\n",
    "As_X_scaled = scaler.fit_transform(As_X)\n",
    "Cd_X_scaled = scaler.fit_transform(Cd_X)\n",
    "Ni_X_scaled = scaler.fit_transform(Ni_X)\n",
    "\n",
    "As_X_train, As_X_test, As_y_train, As_y_test = train_test_split(As_X_scaled, As_y, test_size=0.2, random_state=42)\n",
    "Cd_X_train, Cd_X_test, Cd_y_train, Cd_y_test = train_test_split(Cd_X_scaled, Cd_y, test_size=0.2, random_state=42)\n",
    "Ni_X_train, Ni_X_test, Ni_y_train, Ni_y_test = train_test_split(Ni_X_scaled, Ni_y, test_size=0.2, random_state=42) '''"
   ]
  },
  {
   "attachments": {},
   "cell_type": "markdown",
   "id": "2fe0d293",
   "metadata": {},
   "source": [
    "MinMaxScaler"
   ]
  },
  {
   "cell_type": "code",
   "execution_count": 22,
   "id": "e8596f9f",
   "metadata": {},
   "outputs": [],
   "source": [
    "# from sklearn.preprocessing import MinMaxScaler\n",
    "\n",
    "# scaler = MinMaxScaler()\n",
    "# As_X_scaled = scaler.fit_transform(As_X)\n",
    "# Cd_X_scaled = scaler.fit_transform(Cd_X)\n",
    "# Ni_X_scaled = scaler.fit_transform(Ni_X)\n",
    "\n",
    "# As_X_train, As_X_test, As_y_train, As_y_test = train_test_split(As_X_scaled, As_y, test_size=0.2, random_state=42)\n",
    "# Cd_X_train, Cd_X_test, Cd_y_train, Cd_y_test = train_test_split(Cd_X_scaled, Cd_y, test_size=0.2, random_state=42)\n",
    "# Ni_X_train, Ni_X_test, Ni_y_train, Ni_y_test = train_test_split(Ni_X_scaled, Ni_y, test_size=0.2, random_state=42)"
   ]
  },
  {
   "cell_type": "code",
   "execution_count": 23,
   "id": "66cd05c6",
   "metadata": {},
   "outputs": [
    {
     "name": "stdout",
     "output_type": "stream",
     "text": [
      "(785, 15)\n",
      "(1015, 15)\n",
      "(908, 15)\n"
     ]
    }
   ],
   "source": [
    "print(As_X_train.shape)\n",
    "print(Cd_X_train.shape)\n",
    "print(Ni_X_train.shape)"
   ]
  },
  {
   "attachments": {},
   "cell_type": "markdown",
   "id": "bd11b27e",
   "metadata": {},
   "source": [
    "#### 10-Fold Crossvalidation"
   ]
  },
  {
   "cell_type": "code",
   "execution_count": 24,
   "id": "7a765916",
   "metadata": {},
   "outputs": [],
   "source": [
    "# kf = KFold(n_splits = 10, random_state = 42, shuffle = True)"
   ]
  },
  {
   "attachments": {},
   "cell_type": "markdown",
   "id": "859638d0",
   "metadata": {},
   "source": [
    "#### Optuna Optimization"
   ]
  },
  {
   "cell_type": "code",
   "execution_count": 25,
   "id": "92a47d83",
   "metadata": {},
   "outputs": [],
   "source": [
    "import optuna\n",
    "\n",
    "from optuna import Trial\n",
    "from optuna.samplers import TPESampler"
   ]
  },
  {
   "cell_type": "code",
   "execution_count": 26,
   "id": "a7669fea",
   "metadata": {},
   "outputs": [],
   "source": [
    "from sklearn.model_selection import cross_val_score, KFold\n",
    "from sklearn.svm import SVR\n",
    "\n",
    "\n",
    "def objectiveSVM(trial: Trial, X_train, y_train) -> float:\n",
    "    C = trial.suggest_loguniform('C', 0.1, 100.0)\n",
    "    epsilon = trial.suggest_loguniform('epsilon', 0.01, 1.0)\n",
    "    kernel = trial.suggest_categorical('kernel', ['linear', 'rbf', 'poly'])\n",
    "    degree = trial.suggest_int('degree', 1, 5)\n",
    "    \n",
    "    kf = KFold(n_splits=5, shuffle=True, random_state=42)\n",
    "\n",
    "    model = SVR(C=C, epsilon=epsilon, kernel=kernel, degree=degree)\n",
    "\n",
    "    r2 = cross_val_score(model, X_train, y_train, scoring='r2', cv=kf)\n",
    "    r2 = r2.mean()\n",
    "\n",
    "    return r2\n"
   ]
  },
  {
   "attachments": {},
   "cell_type": "markdown",
   "id": "b0988f46",
   "metadata": {},
   "source": [
    "####  Optimization"
   ]
  },
  {
   "cell_type": "code",
   "execution_count": 27,
   "id": "94f5e00d",
   "metadata": {
    "scrolled": false
   },
   "outputs": [
    {
     "name": "stderr",
     "output_type": "stream",
     "text": [
      "\u001b[32m[I 2023-08-30 16:50:07,152]\u001b[0m A new study created in memory with name: svm_parameter_opt\u001b[0m\n",
      "\u001b[32m[I 2023-08-30 16:50:07,315]\u001b[0m Trial 0 finished with value: 0.4039748331857188 and parameters: {'C': 0.3588398817058449, 'epsilon': 0.01183546119762004, 'kernel': 'rbf', 'degree': 2}. Best is trial 0 with value: 0.4039748331857188.\u001b[0m\n",
      "\u001b[32m[I 2023-08-30 16:50:07,539]\u001b[0m Trial 1 finished with value: -1.7801602057711279 and parameters: {'C': 17.26216290862083, 'epsilon': 0.12905103347073243, 'kernel': 'poly', 'degree': 5}. Best is trial 0 with value: 0.4039748331857188.\u001b[0m\n",
      "\u001b[32m[I 2023-08-30 16:50:07,689]\u001b[0m Trial 2 finished with value: 0.40261388568553597 and parameters: {'C': 0.3409632752266163, 'epsilon': 0.017079660925374964, 'kernel': 'rbf', 'degree': 1}. Best is trial 0 with value: 0.4039748331857188.\u001b[0m\n",
      "\u001b[32m[I 2023-08-30 16:50:07,812]\u001b[0m Trial 3 finished with value: 0.14129669736344216 and parameters: {'C': 0.18445981370656012, 'epsilon': 0.017242826935960347, 'kernel': 'poly', 'degree': 5}. Best is trial 0 with value: 0.4039748331857188.\u001b[0m\n",
      "\u001b[32m[I 2023-08-30 16:50:07,839]\u001b[0m Trial 4 finished with value: 0.2702864015686588 and parameters: {'C': 1.6940712383053618, 'epsilon': 0.6817498275667393, 'kernel': 'rbf', 'degree': 1}. Best is trial 0 with value: 0.4039748331857188.\u001b[0m\n",
      "\u001b[32m[I 2023-08-30 16:50:19,477]\u001b[0m Trial 5 finished with value: 0.18524593722855284 and parameters: {'C': 83.59158483176273, 'epsilon': 0.04536405206530722, 'kernel': 'linear', 'degree': 5}. Best is trial 0 with value: 0.4039748331857188.\u001b[0m\n",
      "\u001b[32m[I 2023-08-30 16:50:19,627]\u001b[0m Trial 6 finished with value: 0.41978048754911396 and parameters: {'C': 0.5214546796681179, 'epsilon': 0.029184272962791125, 'kernel': 'rbf', 'degree': 3}. Best is trial 6 with value: 0.41978048754911396.\u001b[0m\n",
      "\u001b[32m[I 2023-08-30 16:50:20,063]\u001b[0m Trial 7 finished with value: 0.19100059946196 and parameters: {'C': 1.9118751350967367, 'epsilon': 0.08844805647501933, 'kernel': 'linear', 'degree': 2}. Best is trial 6 with value: 0.41978048754911396.\u001b[0m\n",
      "\u001b[32m[I 2023-08-30 16:50:20,219]\u001b[0m Trial 8 finished with value: 0.2246739326924728 and parameters: {'C': 0.5480051790004182, 'epsilon': 0.2733793988902421, 'kernel': 'linear', 'degree': 2}. Best is trial 6 with value: 0.41978048754911396.\u001b[0m\n",
      "\u001b[32m[I 2023-08-30 16:50:21,031]\u001b[0m Trial 9 finished with value: -0.07184303904572822 and parameters: {'C': 28.216749530173804, 'epsilon': 0.1089250958444545, 'kernel': 'poly', 'degree': 2}. Best is trial 6 with value: 0.41978048754911396.\u001b[0m\n",
      "\u001b[32m[I 2023-08-30 16:50:21,165]\u001b[0m Trial 10 finished with value: 0.34883024853801226 and parameters: {'C': 0.1016076150528931, 'epsilon': 0.04092893255200967, 'kernel': 'rbf', 'degree': 4}. Best is trial 6 with value: 0.41978048754911396.\u001b[0m\n",
      "\u001b[32m[I 2023-08-30 16:50:21,324]\u001b[0m Trial 11 finished with value: 0.4173619351661298 and parameters: {'C': 0.5589310512824724, 'epsilon': 0.010871606240082207, 'kernel': 'rbf', 'degree': 3}. Best is trial 6 with value: 0.41978048754911396.\u001b[0m\n",
      "\u001b[32m[I 2023-08-30 16:50:21,486]\u001b[0m Trial 12 finished with value: 0.4283663035139485 and parameters: {'C': 0.9501353306002386, 'epsilon': 0.03218383262077746, 'kernel': 'rbf', 'degree': 3}. Best is trial 12 with value: 0.4283663035139485.\u001b[0m\n",
      "\u001b[32m[I 2023-08-30 16:50:21,683]\u001b[0m Trial 13 finished with value: 0.4005259480246881 and parameters: {'C': 4.856558715301367, 'epsilon': 0.03328263924677099, 'kernel': 'rbf', 'degree': 3}. Best is trial 12 with value: 0.4283663035139485.\u001b[0m\n",
      "\u001b[32m[I 2023-08-30 16:50:21,887]\u001b[0m Trial 14 finished with value: 0.39706655223002946 and parameters: {'C': 5.033310562673617, 'epsilon': 0.02859720830195533, 'kernel': 'rbf', 'degree': 4}. Best is trial 12 with value: 0.4283663035139485.\u001b[0m\n",
      "\u001b[32m[I 2023-08-30 16:50:22,045]\u001b[0m Trial 15 finished with value: 0.4335218983511462 and parameters: {'C': 1.126800210063002, 'epsilon': 0.05683450459639909, 'kernel': 'rbf', 'degree': 4}. Best is trial 15 with value: 0.4335218983511462.\u001b[0m\n",
      "\u001b[32m[I 2023-08-30 16:50:22,200]\u001b[0m Trial 16 finished with value: 0.43639689200786586 and parameters: {'C': 1.2838849896039046, 'epsilon': 0.07814201476201016, 'kernel': 'rbf', 'degree': 4}. Best is trial 16 with value: 0.43639689200786586.\u001b[0m\n",
      "\u001b[32m[I 2023-08-30 16:50:22,333]\u001b[0m Trial 17 finished with value: 0.3834776704161954 and parameters: {'C': 8.948138927734265, 'epsilon': 0.23089406788752176, 'kernel': 'rbf', 'degree': 4}. Best is trial 16 with value: 0.43639689200786586.\u001b[0m\n",
      "\u001b[32m[I 2023-08-30 16:50:22,482]\u001b[0m Trial 18 finished with value: 0.0012294219219504798 and parameters: {'C': 1.5355280761795742, 'epsilon': 0.0632460731882812, 'kernel': 'poly', 'degree': 4}. Best is trial 16 with value: 0.43639689200786586.\u001b[0m\n",
      "\u001b[32m[I 2023-08-30 16:50:23,140]\u001b[0m Trial 19 finished with value: 0.2201898368865325 and parameters: {'C': 4.412916380980241, 'epsilon': 0.2281584438872001, 'kernel': 'linear', 'degree': 4}. Best is trial 16 with value: 0.43639689200786586.\u001b[0m\n",
      "\u001b[32m[I 2023-08-30 16:50:23,158]\u001b[0m Trial 20 finished with value: 0.06902577743183991 and parameters: {'C': 1.030800805218789, 'epsilon': 0.895286874663954, 'kernel': 'rbf', 'degree': 5}. Best is trial 16 with value: 0.43639689200786586.\u001b[0m\n",
      "\u001b[32m[I 2023-08-30 16:50:23,314]\u001b[0m Trial 21 finished with value: 0.43535598393165936 and parameters: {'C': 0.9067806683873294, 'epsilon': 0.07090321049462693, 'kernel': 'rbf', 'degree': 3}. Best is trial 16 with value: 0.43639689200786586.\u001b[0m\n",
      "\u001b[32m[I 2023-08-30 16:50:23,475]\u001b[0m Trial 22 finished with value: 0.42646358704157084 and parameters: {'C': 2.635848973768168, 'epsilon': 0.06711694004023905, 'kernel': 'rbf', 'degree': 4}. Best is trial 16 with value: 0.43639689200786586.\u001b[0m\n",
      "\u001b[32m[I 2023-08-30 16:50:23,592]\u001b[0m Trial 23 finished with value: 0.4430364675104732 and parameters: {'C': 1.0383393108296612, 'epsilon': 0.17261834719015737, 'kernel': 'rbf', 'degree': 3}. Best is trial 23 with value: 0.4430364675104732.\u001b[0m\n",
      "\u001b[32m[I 2023-08-30 16:50:23,750]\u001b[0m Trial 24 finished with value: 0.43600219010081886 and parameters: {'C': 2.847033251094567, 'epsilon': 0.1369310726388276, 'kernel': 'rbf', 'degree': 3}. Best is trial 23 with value: 0.4430364675104732.\u001b[0m\n",
      "\u001b[32m[I 2023-08-30 16:50:23,904]\u001b[0m Trial 25 finished with value: 0.38418862723669406 and parameters: {'C': 8.221399095118342, 'epsilon': 0.1668336242847403, 'kernel': 'rbf', 'degree': 3}. Best is trial 23 with value: 0.4430364675104732.\u001b[0m\n",
      "\u001b[32m[I 2023-08-30 16:50:23,964]\u001b[0m Trial 26 finished with value: 0.3736218785731225 and parameters: {'C': 2.2656436751142524, 'epsilon': 0.48000993648085655, 'kernel': 'rbf', 'degree': 2}. Best is trial 23 with value: 0.4430364675104732.\u001b[0m\n",
      "\u001b[32m[I 2023-08-30 16:50:24,062]\u001b[0m Trial 27 finished with value: 0.4254820369380978 and parameters: {'C': 3.7091709630956364, 'epsilon': 0.3310614692262192, 'kernel': 'rbf', 'degree': 3}. Best is trial 23 with value: 0.4430364675104732.\u001b[0m\n",
      "\u001b[32m[I 2023-08-30 16:50:25,513]\u001b[0m Trial 28 finished with value: 0.20290801107509396 and parameters: {'C': 8.56090021168179, 'epsilon': 0.15735156482025756, 'kernel': 'linear', 'degree': 4}. Best is trial 23 with value: 0.4430364675104732.\u001b[0m\n",
      "\u001b[32m[I 2023-08-30 16:50:25,601]\u001b[0m Trial 29 finished with value: 0.18017271926499284 and parameters: {'C': 0.21400127087997217, 'epsilon': 0.16854865710358605, 'kernel': 'poly', 'degree': 2}. Best is trial 23 with value: 0.4430364675104732.\u001b[0m\n",
      "\u001b[32m[I 2023-08-30 16:50:25,670]\u001b[0m Trial 30 finished with value: 0.36095543495795446 and parameters: {'C': 0.4008467833791458, 'epsilon': 0.37499081336500617, 'kernel': 'rbf', 'degree': 3}. Best is trial 23 with value: 0.4430364675104732.\u001b[0m\n",
      "\u001b[32m[I 2023-08-30 16:50:25,815]\u001b[0m Trial 31 finished with value: 0.4377441808679289 and parameters: {'C': 0.7895956141505807, 'epsilon': 0.08474518339433326, 'kernel': 'rbf', 'degree': 3}. Best is trial 23 with value: 0.4430364675104732.\u001b[0m\n",
      "\u001b[32m[I 2023-08-30 16:50:25,950]\u001b[0m Trial 32 finished with value: 0.436364500235881 and parameters: {'C': 0.6750219447088501, 'epsilon': 0.09503851502197039, 'kernel': 'rbf', 'degree': 3}. Best is trial 23 with value: 0.4430364675104732.\u001b[0m\n",
      "\u001b[32m[I 2023-08-30 16:50:26,077]\u001b[0m Trial 33 finished with value: 0.4081849105678126 and parameters: {'C': 0.28812475038350605, 'epsilon': 0.09651789571178032, 'kernel': 'rbf', 'degree': 3}. Best is trial 23 with value: 0.4430364675104732.\u001b[0m\n",
      "\u001b[32m[I 2023-08-30 16:50:26,217]\u001b[0m Trial 34 finished with value: 0.434530220121904 and parameters: {'C': 0.6739693860143238, 'epsilon': 0.08443279096461022, 'kernel': 'rbf', 'degree': 3}. Best is trial 23 with value: 0.4430364675104732.\u001b[0m\n",
      "\u001b[32m[I 2023-08-30 16:50:26,333]\u001b[0m Trial 35 finished with value: 0.19584146027300273 and parameters: {'C': 1.5762554379285731, 'epsilon': 0.12169363801165045, 'kernel': 'poly', 'degree': 1}. Best is trial 23 with value: 0.4430364675104732.\u001b[0m\n",
      "\u001b[32m[I 2023-08-30 16:50:26,483]\u001b[0m Trial 36 finished with value: 0.40611856485634606 and parameters: {'C': 0.316254998810309, 'epsilon': 0.051599332619947924, 'kernel': 'rbf', 'degree': 5}. Best is trial 23 with value: 0.4430364675104732.\u001b[0m\n",
      "\u001b[32m[I 2023-08-30 16:50:26,634]\u001b[0m Trial 37 finished with value: 0.3702004580937818 and parameters: {'C': 0.14616004071362912, 'epsilon': 0.019105817773639584, 'kernel': 'rbf', 'degree': 2}. Best is trial 23 with value: 0.4430364675104732.\u001b[0m\n",
      "\u001b[32m[I 2023-08-30 16:50:26,762]\u001b[0m Trial 38 finished with value: 0.4479841633074197 and parameters: {'C': 1.3879223688274749, 'epsilon': 0.18857094908107166, 'kernel': 'rbf', 'degree': 3}. Best is trial 38 with value: 0.4479841633074197.\u001b[0m\n",
      "\u001b[32m[I 2023-08-30 16:50:27,076]\u001b[0m Trial 39 finished with value: 0.21012286304164798 and parameters: {'C': 1.3369934767073912, 'epsilon': 0.19762542446281425, 'kernel': 'linear', 'degree': 4}. Best is trial 38 with value: 0.4479841633074197.\u001b[0m\n",
      "\u001b[32m[I 2023-08-30 16:50:27,132]\u001b[0m Trial 40 finished with value: 0.15358548326321256 and parameters: {'C': 0.42930085361283127, 'epsilon': 0.47738009856075836, 'kernel': 'poly', 'degree': 2}. Best is trial 38 with value: 0.4479841633074197.\u001b[0m\n",
      "\u001b[32m[I 2023-08-30 16:50:27,278]\u001b[0m Trial 41 finished with value: 0.43546983981359544 and parameters: {'C': 0.7513139190116307, 'epsilon': 0.07839725366309211, 'kernel': 'rbf', 'degree': 3}. Best is trial 38 with value: 0.4479841633074197.\u001b[0m\n",
      "\u001b[32m[I 2023-08-30 16:50:27,429]\u001b[0m Trial 42 finished with value: 0.4394390897889881 and parameters: {'C': 1.9484162815178205, 'epsilon': 0.11428677441485914, 'kernel': 'rbf', 'degree': 3}. Best is trial 38 with value: 0.4479841633074197.\u001b[0m\n",
      "\u001b[32m[I 2023-08-30 16:50:27,574]\u001b[0m Trial 43 finished with value: 0.4412631090465903 and parameters: {'C': 2.0406977011928347, 'epsilon': 0.12711829445116396, 'kernel': 'rbf', 'degree': 3}. Best is trial 38 with value: 0.4479841633074197.\u001b[0m\n",
      "\u001b[32m[I 2023-08-30 16:50:27,719]\u001b[0m Trial 44 finished with value: 0.4425571437456018 and parameters: {'C': 2.0386376277673337, 'epsilon': 0.13505900347784133, 'kernel': 'rbf', 'degree': 3}. Best is trial 38 with value: 0.4479841633074197.\u001b[0m\n",
      "\u001b[32m[I 2023-08-30 16:50:27,874]\u001b[0m Trial 45 finished with value: 0.4421057325407839 and parameters: {'C': 2.2628265148946958, 'epsilon': 0.13532463821095608, 'kernel': 'rbf', 'degree': 3}. Best is trial 38 with value: 0.4479841633074197.\u001b[0m\n",
      "\u001b[32m[I 2023-08-30 16:50:28,012]\u001b[0m Trial 46 finished with value: 0.4025234231725321 and parameters: {'C': 6.212300943522534, 'epsilon': 0.2627046614713008, 'kernel': 'rbf', 'degree': 2}. Best is trial 38 with value: 0.4479841633074197.\u001b[0m\n",
      "\u001b[32m[I 2023-08-30 16:50:28,150]\u001b[0m Trial 47 finished with value: 0.4273944528980076 and parameters: {'C': 3.315649409856266, 'epsilon': 0.195752119166811, 'kernel': 'rbf', 'degree': 2}. Best is trial 38 with value: 0.4479841633074197.\u001b[0m\n",
      "\u001b[32m[I 2023-08-30 16:50:31,767]\u001b[0m Trial 48 finished with value: 0.2001064876192708 and parameters: {'C': 27.64786545548208, 'epsilon': 0.14193507762367488, 'kernel': 'linear', 'degree': 3}. Best is trial 38 with value: 0.4479841633074197.\u001b[0m\n",
      "\u001b[32m[I 2023-08-30 16:50:31,868]\u001b[0m Trial 49 finished with value: 0.43143773771995014 and parameters: {'C': 2.0631585623057007, 'epsilon': 0.3203240203319556, 'kernel': 'rbf', 'degree': 3}. Best is trial 38 with value: 0.4479841633074197.\u001b[0m\n",
      "\u001b[32m[I 2023-08-30 16:50:32,063]\u001b[0m Trial 50 finished with value: 0.3478139549351614 and parameters: {'C': 15.656265375923052, 'epsilon': 0.18986176229617344, 'kernel': 'rbf', 'degree': 3}. Best is trial 38 with value: 0.4479841633074197.\u001b[0m\n",
      "\u001b[32m[I 2023-08-30 16:50:32,217]\u001b[0m Trial 51 finished with value: 0.4387191888595977 and parameters: {'C': 1.9247879392418696, 'epsilon': 0.10910098737982729, 'kernel': 'rbf', 'degree': 3}. Best is trial 38 with value: 0.4479841633074197.\u001b[0m\n",
      "\u001b[32m[I 2023-08-30 16:50:32,374]\u001b[0m Trial 52 finished with value: 0.43960231016248363 and parameters: {'C': 2.3358858677960197, 'epsilon': 0.12515747528118804, 'kernel': 'rbf', 'degree': 3}. Best is trial 38 with value: 0.4479841633074197.\u001b[0m\n",
      "\u001b[32m[I 2023-08-30 16:50:32,523]\u001b[0m Trial 53 finished with value: 0.4277703352377701 and parameters: {'C': 3.578294079250707, 'epsilon': 0.139049665619759, 'kernel': 'rbf', 'degree': 3}. Best is trial 38 with value: 0.4479841633074197.\u001b[0m\n",
      "\u001b[32m[I 2023-08-30 16:50:32,656]\u001b[0m Trial 54 finished with value: 0.44173444343511453 and parameters: {'C': 1.2126053261822456, 'epsilon': 0.21122158199246704, 'kernel': 'rbf', 'degree': 3}. Best is trial 38 with value: 0.4479841633074197.\u001b[0m\n",
      "\u001b[32m[I 2023-08-30 16:50:32,768]\u001b[0m Trial 55 finished with value: 0.43119774478468126 and parameters: {'C': 1.1405693089317728, 'epsilon': 0.24576815089537704, 'kernel': 'rbf', 'degree': 3}. Best is trial 38 with value: 0.4479841633074197.\u001b[0m\n",
      "\u001b[32m[I 2023-08-30 16:50:32,887]\u001b[0m Trial 56 finished with value: 0.4410550294718112 and parameters: {'C': 1.5659443984104018, 'epsilon': 0.21116158687547937, 'kernel': 'rbf', 'degree': 1}. Best is trial 38 with value: 0.4479841633074197.\u001b[0m\n",
      "\u001b[32m[I 2023-08-30 16:50:32,962]\u001b[0m Trial 57 finished with value: 0.26755928692617503 and parameters: {'C': 0.5265749882797703, 'epsilon': 0.2957521790289233, 'kernel': 'poly', 'degree': 4}. Best is trial 38 with value: 0.4479841633074197.\u001b[0m\n",
      "\u001b[32m[I 2023-08-30 16:50:33,037]\u001b[0m Trial 58 finished with value: 0.39894294481941767 and parameters: {'C': 1.2556324085648238, 'epsilon': 0.38894796305481916, 'kernel': 'rbf', 'degree': 3}. Best is trial 38 with value: 0.4479841633074197.\u001b[0m\n",
      "\u001b[32m[I 2023-08-30 16:50:42,210]\u001b[0m Trial 59 finished with value: 0.19995106403204924 and parameters: {'C': 76.80030230917002, 'epsilon': 0.15158462443225193, 'kernel': 'linear', 'degree': 3}. Best is trial 38 with value: 0.4479841633074197.\u001b[0m\n",
      "\u001b[32m[I 2023-08-30 16:50:42,365]\u001b[0m Trial 60 finished with value: 0.39881112986920836 and parameters: {'C': 6.179919281333232, 'epsilon': 0.16492798430470293, 'kernel': 'rbf', 'degree': 4}. Best is trial 38 with value: 0.4479841633074197.\u001b[0m\n",
      "\u001b[32m[I 2023-08-30 16:50:42,485]\u001b[0m Trial 61 finished with value: 0.4404817996828723 and parameters: {'C': 1.508414860075027, 'epsilon': 0.21430979986952298, 'kernel': 'rbf', 'degree': 2}. Best is trial 38 with value: 0.4479841633074197.\u001b[0m\n",
      "\u001b[32m[I 2023-08-30 16:50:42,611]\u001b[0m Trial 62 finished with value: 0.44385151749063334 and parameters: {'C': 1.0006467941344792, 'epsilon': 0.18233229324664532, 'kernel': 'rbf', 'degree': 1}. Best is trial 38 with value: 0.4479841633074197.\u001b[0m\n",
      "\u001b[32m[I 2023-08-30 16:50:42,748]\u001b[0m Trial 63 finished with value: 0.4397534166860674 and parameters: {'C': 0.9374977720296149, 'epsilon': 0.10851801006016643, 'kernel': 'rbf', 'degree': 3}. Best is trial 38 with value: 0.4479841633074197.\u001b[0m\n",
      "\u001b[32m[I 2023-08-30 16:50:42,863]\u001b[0m Trial 64 finished with value: 0.42587847499989184 and parameters: {'C': 2.7638554081062914, 'epsilon': 0.26438527299234554, 'kernel': 'rbf', 'degree': 1}. Best is trial 38 with value: 0.4479841633074197.\u001b[0m\n",
      "\u001b[32m[I 2023-08-30 16:50:43,004]\u001b[0m Trial 65 finished with value: 0.4402819231378311 and parameters: {'C': 0.9845201360275599, 'epsilon': 0.12804172786443407, 'kernel': 'rbf', 'degree': 1}. Best is trial 38 with value: 0.4479841633074197.\u001b[0m\n",
      "\u001b[32m[I 2023-08-30 16:50:43,146]\u001b[0m Trial 66 finished with value: 0.4147981973732039 and parameters: {'C': 4.308028191020013, 'epsilon': 0.19219158773368641, 'kernel': 'rbf', 'degree': 2}. Best is trial 38 with value: 0.4479841633074197.\u001b[0m\n",
      "\u001b[32m[I 2023-08-30 16:50:43,279]\u001b[0m Trial 67 finished with value: 0.43770418344895223 and parameters: {'C': 2.590140266078507, 'epsilon': 0.16018656183212676, 'kernel': 'rbf', 'degree': 3}. Best is trial 38 with value: 0.4479841633074197.\u001b[0m\n",
      "\u001b[32m[I 2023-08-30 16:50:43,374]\u001b[0m Trial 68 finished with value: 0.4303402200133729 and parameters: {'C': 0.6036990133232821, 'epsilon': 0.2292856176024109, 'kernel': 'rbf', 'degree': 5}. Best is trial 38 with value: 0.4479841633074197.\u001b[0m\n",
      "\u001b[32m[I 2023-08-30 16:50:43,499]\u001b[0m Trial 69 finished with value: 0.44645810595553587 and parameters: {'C': 1.7691137098807497, 'epsilon': 0.18415180188261582, 'kernel': 'rbf', 'degree': 2}. Best is trial 38 with value: 0.4479841633074197.\u001b[0m\n",
      "\u001b[32m[I 2023-08-30 16:50:43,603]\u001b[0m Trial 70 finished with value: 0.20958112111352728 and parameters: {'C': 0.8219027573270058, 'epsilon': 0.17660648782171956, 'kernel': 'poly', 'degree': 1}. Best is trial 38 with value: 0.4479841633074197.\u001b[0m\n",
      "\u001b[32m[I 2023-08-30 16:50:43,751]\u001b[0m Trial 71 finished with value: 0.4394709887403289 and parameters: {'C': 1.723982145183751, 'epsilon': 0.10228599263577726, 'kernel': 'rbf', 'degree': 2}. Best is trial 38 with value: 0.4479841633074197.\u001b[0m\n",
      "\u001b[32m[I 2023-08-30 16:50:43,886]\u001b[0m Trial 72 finished with value: 0.4423335995436427 and parameters: {'C': 1.2540381906183569, 'epsilon': 0.14366993551284166, 'kernel': 'rbf', 'degree': 1}. Best is trial 38 with value: 0.4479841633074197.\u001b[0m\n",
      "\u001b[32m[I 2023-08-30 16:50:43,980]\u001b[0m Trial 73 finished with value: 0.42600609084267627 and parameters: {'C': 1.2745147994759503, 'epsilon': 0.291961553154638, 'kernel': 'rbf', 'degree': 1}. Best is trial 38 with value: 0.4479841633074197.\u001b[0m\n",
      "\u001b[32m[I 2023-08-30 16:50:44,111]\u001b[0m Trial 74 finished with value: 0.4390295009724966 and parameters: {'C': 1.025003395470536, 'epsilon': 0.14887681787584772, 'kernel': 'rbf', 'degree': 1}. Best is trial 38 with value: 0.4479841633074197.\u001b[0m\n",
      "\u001b[32m[I 2023-08-30 16:50:44,214]\u001b[0m Trial 75 finished with value: 0.4219601803827482 and parameters: {'C': 0.4367903053038358, 'epsilon': 0.17703372878974782, 'kernel': 'rbf', 'degree': 1}. Best is trial 38 with value: 0.4479841633074197.\u001b[0m\n",
      "\u001b[32m[I 2023-08-30 16:50:44,292]\u001b[0m Trial 76 finished with value: 0.41173770244180846 and parameters: {'C': 1.47414280788834, 'epsilon': 0.3635325358855098, 'kernel': 'rbf', 'degree': 1}. Best is trial 38 with value: 0.4479841633074197.\u001b[0m\n",
      "\u001b[32m[I 2023-08-30 16:50:44,546]\u001b[0m Trial 77 finished with value: 0.2201356280656186 and parameters: {'C': 1.1471176656007462, 'epsilon': 0.2386814211833406, 'kernel': 'linear', 'degree': 2}. Best is trial 38 with value: 0.4479841633074197.\u001b[0m\n",
      "\u001b[32m[I 2023-08-30 16:50:44,683]\u001b[0m Trial 78 finished with value: 0.43672248796680224 and parameters: {'C': 0.69947256149062, 'epsilon': 0.09253035237791618, 'kernel': 'rbf', 'degree': 2}. Best is trial 38 with value: 0.4479841633074197.\u001b[0m\n",
      "\u001b[32m[I 2023-08-30 16:50:44,753]\u001b[0m Trial 79 finished with value: 0.38244994937904575 and parameters: {'C': 3.0563505851641644, 'epsilon': 0.4669928052052463, 'kernel': 'rbf', 'degree': 1}. Best is trial 38 with value: 0.4479841633074197.\u001b[0m\n",
      "\u001b[32m[I 2023-08-30 16:50:44,894]\u001b[0m Trial 80 finished with value: 0.4417420428083562 and parameters: {'C': 2.3213123879758464, 'epsilon': 0.13770185594446377, 'kernel': 'rbf', 'degree': 1}. Best is trial 38 with value: 0.4479841633074197.\u001b[0m\n",
      "\u001b[32m[I 2023-08-30 16:50:45,032]\u001b[0m Trial 81 finished with value: 0.44075400265513487 and parameters: {'C': 2.3316069361114584, 'epsilon': 0.14323523887098163, 'kernel': 'rbf', 'degree': 1}. Best is trial 38 with value: 0.4479841633074197.\u001b[0m\n",
      "\u001b[32m[I 2023-08-30 16:50:45,174]\u001b[0m Trial 82 finished with value: 0.4409344530545319 and parameters: {'C': 1.7552289872900533, 'epsilon': 0.11928745084787752, 'kernel': 'rbf', 'degree': 1}. Best is trial 38 with value: 0.4479841633074197.\u001b[0m\n",
      "\u001b[32m[I 2023-08-30 16:50:45,288]\u001b[0m Trial 83 finished with value: 0.4372130191074543 and parameters: {'C': 0.8305580298221622, 'epsilon': 0.17290758493423383, 'kernel': 'rbf', 'degree': 1}. Best is trial 38 with value: 0.4479841633074197.\u001b[0m\n",
      "\u001b[32m[I 2023-08-30 16:50:45,402]\u001b[0m Trial 84 finished with value: 0.4417911621615705 and parameters: {'C': 1.290561589963574, 'epsilon': 0.21043503194017904, 'kernel': 'rbf', 'degree': 1}. Best is trial 38 with value: 0.4479841633074197.\u001b[0m\n",
      "\u001b[32m[I 2023-08-30 16:50:45,534]\u001b[0m Trial 85 finished with value: 0.4217312047017751 and parameters: {'C': 3.846232993477304, 'epsilon': 0.18845724506485217, 'kernel': 'rbf', 'degree': 1}. Best is trial 38 with value: 0.4479841633074197.\u001b[0m\n",
      "\u001b[32m[I 2023-08-30 16:50:45,683]\u001b[0m Trial 86 finished with value: 0.4403704128131786 and parameters: {'C': 2.546082076689129, 'epsilon': 0.13517877369904996, 'kernel': 'rbf', 'degree': 1}. Best is trial 38 with value: 0.4479841633074197.\u001b[0m\n",
      "\u001b[32m[I 2023-08-30 16:50:45,792]\u001b[0m Trial 87 finished with value: 0.20438465926319066 and parameters: {'C': 1.4449153967042199, 'epsilon': 0.1531586742270712, 'kernel': 'poly', 'degree': 1}. Best is trial 38 with value: 0.4479841633074197.\u001b[0m\n",
      "\u001b[32m[I 2023-08-30 16:50:45,942]\u001b[0m Trial 88 finished with value: 0.4387990500074796 and parameters: {'C': 1.8021116410809794, 'epsilon': 0.10432683859803873, 'kernel': 'rbf', 'degree': 1}. Best is trial 38 with value: 0.4479841633074197.\u001b[0m\n",
      "\u001b[32m[I 2023-08-30 16:50:46,061]\u001b[0m Trial 89 finished with value: 0.4375154089706907 and parameters: {'C': 2.220456838976839, 'epsilon': 0.21173495726785557, 'kernel': 'rbf', 'degree': 2}. Best is trial 38 with value: 0.4479841633074197.\u001b[0m\n",
      "\u001b[32m[I 2023-08-30 16:50:46,200]\u001b[0m Trial 90 finished with value: 0.40563059149193725 and parameters: {'C': 5.769547597954363, 'epsilon': 0.2515509236757441, 'kernel': 'rbf', 'degree': 1}. Best is trial 38 with value: 0.4479841633074197.\u001b[0m\n",
      "\u001b[32m[I 2023-08-30 16:50:46,327]\u001b[0m Trial 91 finished with value: 0.4477070771800742 and parameters: {'C': 1.1876587860878964, 'epsilon': 0.17925325161753455, 'kernel': 'rbf', 'degree': 3}. Best is trial 38 with value: 0.4479841633074197.\u001b[0m\n",
      "\u001b[32m[I 2023-08-30 16:50:46,472]\u001b[0m Trial 92 finished with value: 0.44105095664838423 and parameters: {'C': 1.060850142906867, 'epsilon': 0.11556104103315318, 'kernel': 'rbf', 'degree': 3}. Best is trial 38 with value: 0.4479841633074197.\u001b[0m\n",
      "\u001b[32m[I 2023-08-30 16:50:46,603]\u001b[0m Trial 93 finished with value: 0.4481601844876639 and parameters: {'C': 1.3589428496515839, 'epsilon': 0.17728063535871283, 'kernel': 'rbf', 'degree': 3}. Best is trial 93 with value: 0.4481601844876639.\u001b[0m\n",
      "\u001b[32m[I 2023-08-30 16:50:46,698]\u001b[0m Trial 94 finished with value: 0.42560278425003933 and parameters: {'C': 0.9090363621159613, 'epsilon': 0.28359020297174176, 'kernel': 'rbf', 'degree': 3}. Best is trial 93 with value: 0.4481601844876639.\u001b[0m\n",
      "\u001b[32m[I 2023-08-30 16:50:46,917]\u001b[0m Trial 95 finished with value: 0.20903634468184445 and parameters: {'C': 0.5993852409050624, 'epsilon': 0.17696758156446143, 'kernel': 'linear', 'degree': 3}. Best is trial 93 with value: 0.4481601844876639.\u001b[0m\n",
      "\u001b[32m[I 2023-08-30 16:50:47,054]\u001b[0m Trial 96 finished with value: 0.4438833356114616 and parameters: {'C': 1.3109801990744914, 'epsilon': 0.1601985907276192, 'kernel': 'rbf', 'degree': 3}. Best is trial 93 with value: 0.4481601844876639.\u001b[0m\n",
      "\u001b[32m[I 2023-08-30 16:50:47,189]\u001b[0m Trial 97 finished with value: 0.4447246043441801 and parameters: {'C': 1.6543346361591345, 'epsilon': 0.15540763430036889, 'kernel': 'rbf', 'degree': 3}. Best is trial 93 with value: 0.4481601844876639.\u001b[0m\n",
      "\u001b[32m[I 2023-08-30 16:50:47,307]\u001b[0m Trial 98 finished with value: 0.43534580637771036 and parameters: {'C': 0.8081361767947999, 'epsilon': 0.1596410879563214, 'kernel': 'rbf', 'degree': 3}. Best is trial 93 with value: 0.4481601844876639.\u001b[0m\n",
      "\u001b[32m[I 2023-08-30 16:50:47,434]\u001b[0m Trial 99 finished with value: 0.4478932520008462 and parameters: {'C': 1.4029684250434573, 'epsilon': 0.18895861617312326, 'kernel': 'rbf', 'degree': 3}. Best is trial 93 with value: 0.4481601844876639.\u001b[0m\n"
     ]
    },
    {
     "name": "stdout",
     "output_type": "stream",
     "text": [
      "Best r2:  0.4481601844876639\n",
      "Best trial: {'C': 1.3589428496515839, 'epsilon': 0.17728063535871283, 'kernel': 'rbf', 'degree': 3}\n"
     ]
    }
   ],
   "source": [
    "sampler = TPESampler()\n",
    "study = optuna.create_study(\n",
    "    study_name=\"svm_parameter_opt\",\n",
    "    direction=\"maximize\",\n",
    "    sampler=sampler,\n",
    ")\n",
    "\n",
    "study.optimize(lambda trial : objectiveSVM(trial, As_X_train, As_y_train), n_trials=100)\n",
    "print(\"Best r2: \", study.best_value)\n",
    "print(\"Best trial:\", study.best_trial.params)"
   ]
  },
  {
   "cell_type": "code",
   "execution_count": 28,
   "id": "ded0e0f8",
   "metadata": {},
   "outputs": [
    {
     "data": {
      "application/vnd.plotly.v1+json": {
       "config": {
        "plotlyServerURL": "https://plot.ly"
       },
       "data": [
        {
         "dimensions": [
          {
           "label": "Objective Value",
           "range": [
            -1.7801602057711279,
            0.4481601844876639
           ],
           "values": [
            0.4039748331857188,
            -1.7801602057711279,
            0.40261388568553597,
            0.14129669736344216,
            0.2702864015686588,
            0.18524593722855284,
            0.41978048754911396,
            0.19100059946196,
            0.2246739326924728,
            -0.07184303904572822,
            0.34883024853801226,
            0.4173619351661298,
            0.4283663035139485,
            0.4005259480246881,
            0.39706655223002946,
            0.4335218983511462,
            0.43639689200786586,
            0.3834776704161954,
            0.0012294219219504798,
            0.2201898368865325,
            0.06902577743183991,
            0.43535598393165936,
            0.42646358704157084,
            0.4430364675104732,
            0.43600219010081886,
            0.38418862723669406,
            0.3736218785731225,
            0.4254820369380978,
            0.20290801107509396,
            0.18017271926499284,
            0.36095543495795446,
            0.4377441808679289,
            0.436364500235881,
            0.4081849105678126,
            0.434530220121904,
            0.19584146027300273,
            0.40611856485634606,
            0.3702004580937818,
            0.4479841633074197,
            0.21012286304164798,
            0.15358548326321256,
            0.43546983981359544,
            0.4394390897889881,
            0.4412631090465903,
            0.4425571437456018,
            0.4421057325407839,
            0.4025234231725321,
            0.4273944528980076,
            0.2001064876192708,
            0.43143773771995014,
            0.3478139549351614,
            0.4387191888595977,
            0.43960231016248363,
            0.4277703352377701,
            0.44173444343511453,
            0.43119774478468126,
            0.4410550294718112,
            0.26755928692617503,
            0.39894294481941767,
            0.19995106403204924,
            0.39881112986920836,
            0.4404817996828723,
            0.44385151749063334,
            0.4397534166860674,
            0.42587847499989184,
            0.4402819231378311,
            0.4147981973732039,
            0.43770418344895223,
            0.4303402200133729,
            0.44645810595553587,
            0.20958112111352728,
            0.4394709887403289,
            0.4423335995436427,
            0.42600609084267627,
            0.4390295009724966,
            0.4219601803827482,
            0.41173770244180846,
            0.2201356280656186,
            0.43672248796680224,
            0.38244994937904575,
            0.4417420428083562,
            0.44075400265513487,
            0.4409344530545319,
            0.4372130191074543,
            0.4417911621615705,
            0.4217312047017751,
            0.4403704128131786,
            0.20438465926319066,
            0.4387990500074796,
            0.4375154089706907,
            0.40563059149193725,
            0.4477070771800742,
            0.44105095664838423,
            0.4481601844876639,
            0.42560278425003933,
            0.20903634468184445,
            0.4438833356114616,
            0.4447246043441801,
            0.43534580637771036,
            0.4478932520008462
           ]
          },
          {
           "label": "C",
           "range": [
            -0.9930737423324292,
            1.9221625591964207
           ],
           "ticktext": [
            "0.102",
            "1",
            "10",
            "83.6"
           ],
           "tickvals": [
            -0.9930737423324292,
            0,
            1,
            1.9221625591964207
           ],
           "values": [
            -0.44509929516462066,
            1.2370952108709592,
            -0.4672923958618808,
            -0.7340982343096163,
            0.22893166913070104,
            1.9221625591964207,
            -0.28278343071844814,
            0.2814595250168298,
            -0.2612153371348368,
            1.450506983110208,
            -0.9930737423324292,
            -0.2526417625865681,
            -0.02221453245106039,
            0.6863286436797074,
            0.7018537278329309,
            0.05184691927681179,
            0.10852612138275154,
            0.9517327182810953,
            0.18625776165723007,
            0.6447256982101827,
            0.013174749131816457,
            -0.04249774714962402,
            0.4209205228650214,
            0.016339296422747656,
            0.4543925393923218,
            0.9149457308715747,
            0.35519160804281946,
            0.5692768512897562,
            0.9325194348184977,
            -0.6695836475175372,
            -0.3970215970766774,
            -0.10259527264273995,
            -0.17068210818965215,
            -0.54041943351656,
            -0.1713598301516339,
            0.1976265978576161,
            -0.4999626011882179,
            -0.835171344680546,
            0.1423651752451152,
            0.12612928831142706,
            -0.3672382479776454,
            -0.12417856524789132,
            0.28968175000248475,
            0.30977867525627756,
            0.309340035857984,
            0.35465125898696304,
            0.7932524861655735,
            0.5205686028751146,
            1.4416616073698396,
            0.3145326065907678,
            1.1946881740655197,
            0.2843828887067452,
            0.36845161917781627,
            0.553676029844412,
            0.08371947147480019,
            0.05712168117079051,
            0.19477633761193647,
            -0.2785397732399235,
            0.09886251655271641,
            1.8853629295490377,
            0.7909828026130065,
            0.17852080218544936,
            0.0002808083207306742,
            -0.02802975570306362,
            0.44151531905522945,
            -0.006775396970020074,
            0.6342785365861047,
            0.4133232834381726,
            -0.21917953395041007,
            0.24775574810850634,
            -0.08517956257492043,
            0.23653276364163683,
            0.0983107627484893,
            0.1053448827973801,
            0.010725304056821662,
            -0.35972700949693764,
            0.16853955792849287,
            0.059607967944994705,
            -0.15522931709343601,
            0.485203169428982,
            0.3657335890750495,
            0.3676553385973352,
            0.244333782584876,
            -0.08063001865976718,
            0.1107787353758612,
            0.5850355889811458,
            0.4058723996627402,
            0.15984241884331027,
            0.25578169208342283,
            0.3464423358180178,
            0.761141760570835,
            0.07469168592782055,
            0.025654039221606837,
            0.13320119285990198,
            -0.041418744335276744,
            -0.22229395520486375,
            0.1175961321953267,
            0.21862336249448555,
            -0.09251545129541884,
            0.14704789698438206
           ]
          },
          {
           "label": "degree",
           "range": [
            1,
            5
           ],
           "values": [
            2,
            5,
            1,
            5,
            1,
            5,
            3,
            2,
            2,
            2,
            4,
            3,
            3,
            3,
            4,
            4,
            4,
            4,
            4,
            4,
            5,
            3,
            4,
            3,
            3,
            3,
            2,
            3,
            4,
            2,
            3,
            3,
            3,
            3,
            3,
            1,
            5,
            2,
            3,
            4,
            2,
            3,
            3,
            3,
            3,
            3,
            2,
            2,
            3,
            3,
            3,
            3,
            3,
            3,
            3,
            3,
            1,
            4,
            3,
            3,
            4,
            2,
            1,
            3,
            1,
            1,
            2,
            3,
            5,
            2,
            1,
            2,
            1,
            1,
            1,
            1,
            1,
            2,
            2,
            1,
            1,
            1,
            1,
            1,
            1,
            1,
            1,
            1,
            1,
            2,
            1,
            3,
            3,
            3,
            3,
            3,
            3,
            3,
            3,
            3
           ]
          },
          {
           "label": "epsilon",
           "range": [
            -1.963706285750942,
            -0.048037782426336426
           ],
           "ticktext": [
            "0.0109",
            "0.1",
            "0.895"
           ],
           "tickvals": [
            -1.963706285750942,
            -1,
            -0.048037782426336426
           ],
           "values": [
            -1.926814814061143,
            -0.8892385131748265,
            -1.7675207554093277,
            -1.7633915307362995,
            -0.1663749632313242,
            -1.3432881597808064,
            -1.5348511213423726,
            -1.0533117056762258,
            -0.5632342157571835,
            -0.9628720492512913,
            -1.3879695818345048,
            -1.963706285750942,
            -1.4923622390765465,
            -1.477782242331382,
            -1.5436763612147684,
            -1.2453879212237882,
            -1.1071153954052828,
            -0.6365872247996269,
            -1.1989664337189734,
            -0.6417634538439492,
            -0.048037782426336426,
            -1.149334099534377,
            -1.1731678518505773,
            -0.7629130460485349,
            -0.8634979898181835,
            -0.7777164155108363,
            -0.31874977238662106,
            -0.480091361912321,
            -0.8031289337839745,
            -0.7732747033318297,
            -0.42597937161562827,
            -1.071884976130276,
            -1.0221003581667791,
            -1.0153921551710876,
            -1.073488854686321,
            -0.9147321255386723,
            -1.2873559154531824,
            -1.7188343687592267,
            -0.7245252131129268,
            -0.704157184274611,
            -0.32113569020023686,
            -1.1056991508341252,
            -0.9420040244689178,
            -0.8957919426998049,
            -0.8694764590114474,
            -0.8686231253172293,
            -0.5805322209584965,
            -0.7082935276737455,
            -0.8479102603861561,
            -0.49441049341085663,
            -0.7215624923241054,
            -0.9621713189655525,
            -0.902543206172277,
            -0.8568300511699628,
            -0.6752617089537034,
            -0.6094743980426901,
            -0.6753850829436943,
            -0.5290720469138914,
            -0.4101084985967912,
            -0.8193448479313781,
            -0.7827056487946442,
            -0.6689579692663993,
            -0.7391364057456337,
            -0.9644981786757638,
            -0.5777627399439226,
            -0.8926484738833723,
            -0.7162656254125004,
            -0.7953739200054994,
            -0.6396231864031093,
            -0.734824027317629,
            -0.752993346209087,
            -0.9901838358626536,
            -0.8426341031735084,
            -0.5346743346889952,
            -0.8271729224789103,
            -0.7519439831761786,
            -0.4394567140395987,
            -0.6221813848959593,
            -1.0337157839311735,
            -0.3306898104054727,
            -0.8610602062862317,
            -0.8439501233374982,
            -0.9234052421149332,
            -0.7621859551191874,
            -0.6768819598041443,
            -0.7247871618429059,
            -0.8690914976628424,
            -0.8148584016502788,
            -0.9816039527849905,
            -0.6742074343980845,
            -0.5993740836391981,
            -0.7465329575751174,
            -0.9371885544626845,
            -0.7513387004744049,
            -0.5473087765524575,
            -0.7521062841306055,
            -0.7953413087381141,
            -0.8085276505731656,
            -0.7968553211547589,
            -0.7236333002480092
           ]
          },
          {
           "label": "kernel",
           "range": [
            0,
            2
           ],
           "ticktext": [
            "rbf",
            "poly",
            "linear"
           ],
           "tickvals": [
            0,
            1,
            2
           ],
           "values": [
            0,
            1,
            0,
            1,
            0,
            2,
            0,
            2,
            2,
            1,
            0,
            0,
            0,
            0,
            0,
            0,
            0,
            0,
            1,
            2,
            0,
            0,
            0,
            0,
            0,
            0,
            0,
            0,
            2,
            1,
            0,
            0,
            0,
            0,
            0,
            1,
            0,
            0,
            0,
            2,
            1,
            0,
            0,
            0,
            0,
            0,
            0,
            0,
            2,
            0,
            0,
            0,
            0,
            0,
            0,
            0,
            0,
            1,
            0,
            2,
            0,
            0,
            0,
            0,
            0,
            0,
            0,
            0,
            0,
            0,
            1,
            0,
            0,
            0,
            0,
            0,
            0,
            2,
            0,
            0,
            0,
            0,
            0,
            0,
            0,
            0,
            0,
            1,
            0,
            0,
            0,
            0,
            0,
            0,
            0,
            2,
            0,
            0,
            0,
            0
           ]
          }
         ],
         "labelangle": 30,
         "labelside": "bottom",
         "line": {
          "color": [
           0.4039748331857188,
           -1.7801602057711279,
           0.40261388568553597,
           0.14129669736344216,
           0.2702864015686588,
           0.18524593722855284,
           0.41978048754911396,
           0.19100059946196,
           0.2246739326924728,
           -0.07184303904572822,
           0.34883024853801226,
           0.4173619351661298,
           0.4283663035139485,
           0.4005259480246881,
           0.39706655223002946,
           0.4335218983511462,
           0.43639689200786586,
           0.3834776704161954,
           0.0012294219219504798,
           0.2201898368865325,
           0.06902577743183991,
           0.43535598393165936,
           0.42646358704157084,
           0.4430364675104732,
           0.43600219010081886,
           0.38418862723669406,
           0.3736218785731225,
           0.4254820369380978,
           0.20290801107509396,
           0.18017271926499284,
           0.36095543495795446,
           0.4377441808679289,
           0.436364500235881,
           0.4081849105678126,
           0.434530220121904,
           0.19584146027300273,
           0.40611856485634606,
           0.3702004580937818,
           0.4479841633074197,
           0.21012286304164798,
           0.15358548326321256,
           0.43546983981359544,
           0.4394390897889881,
           0.4412631090465903,
           0.4425571437456018,
           0.4421057325407839,
           0.4025234231725321,
           0.4273944528980076,
           0.2001064876192708,
           0.43143773771995014,
           0.3478139549351614,
           0.4387191888595977,
           0.43960231016248363,
           0.4277703352377701,
           0.44173444343511453,
           0.43119774478468126,
           0.4410550294718112,
           0.26755928692617503,
           0.39894294481941767,
           0.19995106403204924,
           0.39881112986920836,
           0.4404817996828723,
           0.44385151749063334,
           0.4397534166860674,
           0.42587847499989184,
           0.4402819231378311,
           0.4147981973732039,
           0.43770418344895223,
           0.4303402200133729,
           0.44645810595553587,
           0.20958112111352728,
           0.4394709887403289,
           0.4423335995436427,
           0.42600609084267627,
           0.4390295009724966,
           0.4219601803827482,
           0.41173770244180846,
           0.2201356280656186,
           0.43672248796680224,
           0.38244994937904575,
           0.4417420428083562,
           0.44075400265513487,
           0.4409344530545319,
           0.4372130191074543,
           0.4417911621615705,
           0.4217312047017751,
           0.4403704128131786,
           0.20438465926319066,
           0.4387990500074796,
           0.4375154089706907,
           0.40563059149193725,
           0.4477070771800742,
           0.44105095664838423,
           0.4481601844876639,
           0.42560278425003933,
           0.20903634468184445,
           0.4438833356114616,
           0.4447246043441801,
           0.43534580637771036,
           0.4478932520008462
          ],
          "colorbar": {
           "title": {
            "text": "Objective Value"
           }
          },
          "colorscale": [
           [
            0,
            "rgb(247,251,255)"
           ],
           [
            0.125,
            "rgb(222,235,247)"
           ],
           [
            0.25,
            "rgb(198,219,239)"
           ],
           [
            0.375,
            "rgb(158,202,225)"
           ],
           [
            0.5,
            "rgb(107,174,214)"
           ],
           [
            0.625,
            "rgb(66,146,198)"
           ],
           [
            0.75,
            "rgb(33,113,181)"
           ],
           [
            0.875,
            "rgb(8,81,156)"
           ],
           [
            1,
            "rgb(8,48,107)"
           ]
          ],
          "reversescale": false,
          "showscale": true
         },
         "type": "parcoords"
        }
       ],
       "layout": {
        "template": {
         "data": {
          "bar": [
           {
            "error_x": {
             "color": "#2a3f5f"
            },
            "error_y": {
             "color": "#2a3f5f"
            },
            "marker": {
             "line": {
              "color": "#E5ECF6",
              "width": 0.5
             },
             "pattern": {
              "fillmode": "overlay",
              "size": 10,
              "solidity": 0.2
             }
            },
            "type": "bar"
           }
          ],
          "barpolar": [
           {
            "marker": {
             "line": {
              "color": "#E5ECF6",
              "width": 0.5
             },
             "pattern": {
              "fillmode": "overlay",
              "size": 10,
              "solidity": 0.2
             }
            },
            "type": "barpolar"
           }
          ],
          "carpet": [
           {
            "aaxis": {
             "endlinecolor": "#2a3f5f",
             "gridcolor": "white",
             "linecolor": "white",
             "minorgridcolor": "white",
             "startlinecolor": "#2a3f5f"
            },
            "baxis": {
             "endlinecolor": "#2a3f5f",
             "gridcolor": "white",
             "linecolor": "white",
             "minorgridcolor": "white",
             "startlinecolor": "#2a3f5f"
            },
            "type": "carpet"
           }
          ],
          "choropleth": [
           {
            "colorbar": {
             "outlinewidth": 0,
             "ticks": ""
            },
            "type": "choropleth"
           }
          ],
          "contour": [
           {
            "colorbar": {
             "outlinewidth": 0,
             "ticks": ""
            },
            "colorscale": [
             [
              0,
              "#0d0887"
             ],
             [
              0.1111111111111111,
              "#46039f"
             ],
             [
              0.2222222222222222,
              "#7201a8"
             ],
             [
              0.3333333333333333,
              "#9c179e"
             ],
             [
              0.4444444444444444,
              "#bd3786"
             ],
             [
              0.5555555555555556,
              "#d8576b"
             ],
             [
              0.6666666666666666,
              "#ed7953"
             ],
             [
              0.7777777777777778,
              "#fb9f3a"
             ],
             [
              0.8888888888888888,
              "#fdca26"
             ],
             [
              1,
              "#f0f921"
             ]
            ],
            "type": "contour"
           }
          ],
          "contourcarpet": [
           {
            "colorbar": {
             "outlinewidth": 0,
             "ticks": ""
            },
            "type": "contourcarpet"
           }
          ],
          "heatmap": [
           {
            "colorbar": {
             "outlinewidth": 0,
             "ticks": ""
            },
            "colorscale": [
             [
              0,
              "#0d0887"
             ],
             [
              0.1111111111111111,
              "#46039f"
             ],
             [
              0.2222222222222222,
              "#7201a8"
             ],
             [
              0.3333333333333333,
              "#9c179e"
             ],
             [
              0.4444444444444444,
              "#bd3786"
             ],
             [
              0.5555555555555556,
              "#d8576b"
             ],
             [
              0.6666666666666666,
              "#ed7953"
             ],
             [
              0.7777777777777778,
              "#fb9f3a"
             ],
             [
              0.8888888888888888,
              "#fdca26"
             ],
             [
              1,
              "#f0f921"
             ]
            ],
            "type": "heatmap"
           }
          ],
          "heatmapgl": [
           {
            "colorbar": {
             "outlinewidth": 0,
             "ticks": ""
            },
            "colorscale": [
             [
              0,
              "#0d0887"
             ],
             [
              0.1111111111111111,
              "#46039f"
             ],
             [
              0.2222222222222222,
              "#7201a8"
             ],
             [
              0.3333333333333333,
              "#9c179e"
             ],
             [
              0.4444444444444444,
              "#bd3786"
             ],
             [
              0.5555555555555556,
              "#d8576b"
             ],
             [
              0.6666666666666666,
              "#ed7953"
             ],
             [
              0.7777777777777778,
              "#fb9f3a"
             ],
             [
              0.8888888888888888,
              "#fdca26"
             ],
             [
              1,
              "#f0f921"
             ]
            ],
            "type": "heatmapgl"
           }
          ],
          "histogram": [
           {
            "marker": {
             "pattern": {
              "fillmode": "overlay",
              "size": 10,
              "solidity": 0.2
             }
            },
            "type": "histogram"
           }
          ],
          "histogram2d": [
           {
            "colorbar": {
             "outlinewidth": 0,
             "ticks": ""
            },
            "colorscale": [
             [
              0,
              "#0d0887"
             ],
             [
              0.1111111111111111,
              "#46039f"
             ],
             [
              0.2222222222222222,
              "#7201a8"
             ],
             [
              0.3333333333333333,
              "#9c179e"
             ],
             [
              0.4444444444444444,
              "#bd3786"
             ],
             [
              0.5555555555555556,
              "#d8576b"
             ],
             [
              0.6666666666666666,
              "#ed7953"
             ],
             [
              0.7777777777777778,
              "#fb9f3a"
             ],
             [
              0.8888888888888888,
              "#fdca26"
             ],
             [
              1,
              "#f0f921"
             ]
            ],
            "type": "histogram2d"
           }
          ],
          "histogram2dcontour": [
           {
            "colorbar": {
             "outlinewidth": 0,
             "ticks": ""
            },
            "colorscale": [
             [
              0,
              "#0d0887"
             ],
             [
              0.1111111111111111,
              "#46039f"
             ],
             [
              0.2222222222222222,
              "#7201a8"
             ],
             [
              0.3333333333333333,
              "#9c179e"
             ],
             [
              0.4444444444444444,
              "#bd3786"
             ],
             [
              0.5555555555555556,
              "#d8576b"
             ],
             [
              0.6666666666666666,
              "#ed7953"
             ],
             [
              0.7777777777777778,
              "#fb9f3a"
             ],
             [
              0.8888888888888888,
              "#fdca26"
             ],
             [
              1,
              "#f0f921"
             ]
            ],
            "type": "histogram2dcontour"
           }
          ],
          "mesh3d": [
           {
            "colorbar": {
             "outlinewidth": 0,
             "ticks": ""
            },
            "type": "mesh3d"
           }
          ],
          "parcoords": [
           {
            "line": {
             "colorbar": {
              "outlinewidth": 0,
              "ticks": ""
             }
            },
            "type": "parcoords"
           }
          ],
          "pie": [
           {
            "automargin": true,
            "type": "pie"
           }
          ],
          "scatter": [
           {
            "marker": {
             "colorbar": {
              "outlinewidth": 0,
              "ticks": ""
             }
            },
            "type": "scatter"
           }
          ],
          "scatter3d": [
           {
            "line": {
             "colorbar": {
              "outlinewidth": 0,
              "ticks": ""
             }
            },
            "marker": {
             "colorbar": {
              "outlinewidth": 0,
              "ticks": ""
             }
            },
            "type": "scatter3d"
           }
          ],
          "scattercarpet": [
           {
            "marker": {
             "colorbar": {
              "outlinewidth": 0,
              "ticks": ""
             }
            },
            "type": "scattercarpet"
           }
          ],
          "scattergeo": [
           {
            "marker": {
             "colorbar": {
              "outlinewidth": 0,
              "ticks": ""
             }
            },
            "type": "scattergeo"
           }
          ],
          "scattergl": [
           {
            "marker": {
             "colorbar": {
              "outlinewidth": 0,
              "ticks": ""
             }
            },
            "type": "scattergl"
           }
          ],
          "scattermapbox": [
           {
            "marker": {
             "colorbar": {
              "outlinewidth": 0,
              "ticks": ""
             }
            },
            "type": "scattermapbox"
           }
          ],
          "scatterpolar": [
           {
            "marker": {
             "colorbar": {
              "outlinewidth": 0,
              "ticks": ""
             }
            },
            "type": "scatterpolar"
           }
          ],
          "scatterpolargl": [
           {
            "marker": {
             "colorbar": {
              "outlinewidth": 0,
              "ticks": ""
             }
            },
            "type": "scatterpolargl"
           }
          ],
          "scatterternary": [
           {
            "marker": {
             "colorbar": {
              "outlinewidth": 0,
              "ticks": ""
             }
            },
            "type": "scatterternary"
           }
          ],
          "surface": [
           {
            "colorbar": {
             "outlinewidth": 0,
             "ticks": ""
            },
            "colorscale": [
             [
              0,
              "#0d0887"
             ],
             [
              0.1111111111111111,
              "#46039f"
             ],
             [
              0.2222222222222222,
              "#7201a8"
             ],
             [
              0.3333333333333333,
              "#9c179e"
             ],
             [
              0.4444444444444444,
              "#bd3786"
             ],
             [
              0.5555555555555556,
              "#d8576b"
             ],
             [
              0.6666666666666666,
              "#ed7953"
             ],
             [
              0.7777777777777778,
              "#fb9f3a"
             ],
             [
              0.8888888888888888,
              "#fdca26"
             ],
             [
              1,
              "#f0f921"
             ]
            ],
            "type": "surface"
           }
          ],
          "table": [
           {
            "cells": {
             "fill": {
              "color": "#EBF0F8"
             },
             "line": {
              "color": "white"
             }
            },
            "header": {
             "fill": {
              "color": "#C8D4E3"
             },
             "line": {
              "color": "white"
             }
            },
            "type": "table"
           }
          ]
         },
         "layout": {
          "annotationdefaults": {
           "arrowcolor": "#2a3f5f",
           "arrowhead": 0,
           "arrowwidth": 1
          },
          "autotypenumbers": "strict",
          "coloraxis": {
           "colorbar": {
            "outlinewidth": 0,
            "ticks": ""
           }
          },
          "colorscale": {
           "diverging": [
            [
             0,
             "#8e0152"
            ],
            [
             0.1,
             "#c51b7d"
            ],
            [
             0.2,
             "#de77ae"
            ],
            [
             0.3,
             "#f1b6da"
            ],
            [
             0.4,
             "#fde0ef"
            ],
            [
             0.5,
             "#f7f7f7"
            ],
            [
             0.6,
             "#e6f5d0"
            ],
            [
             0.7,
             "#b8e186"
            ],
            [
             0.8,
             "#7fbc41"
            ],
            [
             0.9,
             "#4d9221"
            ],
            [
             1,
             "#276419"
            ]
           ],
           "sequential": [
            [
             0,
             "#0d0887"
            ],
            [
             0.1111111111111111,
             "#46039f"
            ],
            [
             0.2222222222222222,
             "#7201a8"
            ],
            [
             0.3333333333333333,
             "#9c179e"
            ],
            [
             0.4444444444444444,
             "#bd3786"
            ],
            [
             0.5555555555555556,
             "#d8576b"
            ],
            [
             0.6666666666666666,
             "#ed7953"
            ],
            [
             0.7777777777777778,
             "#fb9f3a"
            ],
            [
             0.8888888888888888,
             "#fdca26"
            ],
            [
             1,
             "#f0f921"
            ]
           ],
           "sequentialminus": [
            [
             0,
             "#0d0887"
            ],
            [
             0.1111111111111111,
             "#46039f"
            ],
            [
             0.2222222222222222,
             "#7201a8"
            ],
            [
             0.3333333333333333,
             "#9c179e"
            ],
            [
             0.4444444444444444,
             "#bd3786"
            ],
            [
             0.5555555555555556,
             "#d8576b"
            ],
            [
             0.6666666666666666,
             "#ed7953"
            ],
            [
             0.7777777777777778,
             "#fb9f3a"
            ],
            [
             0.8888888888888888,
             "#fdca26"
            ],
            [
             1,
             "#f0f921"
            ]
           ]
          },
          "colorway": [
           "#636efa",
           "#EF553B",
           "#00cc96",
           "#ab63fa",
           "#FFA15A",
           "#19d3f3",
           "#FF6692",
           "#B6E880",
           "#FF97FF",
           "#FECB52"
          ],
          "font": {
           "color": "#2a3f5f"
          },
          "geo": {
           "bgcolor": "white",
           "lakecolor": "white",
           "landcolor": "#E5ECF6",
           "showlakes": true,
           "showland": true,
           "subunitcolor": "white"
          },
          "hoverlabel": {
           "align": "left"
          },
          "hovermode": "closest",
          "mapbox": {
           "style": "light"
          },
          "paper_bgcolor": "white",
          "plot_bgcolor": "#E5ECF6",
          "polar": {
           "angularaxis": {
            "gridcolor": "white",
            "linecolor": "white",
            "ticks": ""
           },
           "bgcolor": "#E5ECF6",
           "radialaxis": {
            "gridcolor": "white",
            "linecolor": "white",
            "ticks": ""
           }
          },
          "scene": {
           "xaxis": {
            "backgroundcolor": "#E5ECF6",
            "gridcolor": "white",
            "gridwidth": 2,
            "linecolor": "white",
            "showbackground": true,
            "ticks": "",
            "zerolinecolor": "white"
           },
           "yaxis": {
            "backgroundcolor": "#E5ECF6",
            "gridcolor": "white",
            "gridwidth": 2,
            "linecolor": "white",
            "showbackground": true,
            "ticks": "",
            "zerolinecolor": "white"
           },
           "zaxis": {
            "backgroundcolor": "#E5ECF6",
            "gridcolor": "white",
            "gridwidth": 2,
            "linecolor": "white",
            "showbackground": true,
            "ticks": "",
            "zerolinecolor": "white"
           }
          },
          "shapedefaults": {
           "line": {
            "color": "#2a3f5f"
           }
          },
          "ternary": {
           "aaxis": {
            "gridcolor": "white",
            "linecolor": "white",
            "ticks": ""
           },
           "baxis": {
            "gridcolor": "white",
            "linecolor": "white",
            "ticks": ""
           },
           "bgcolor": "#E5ECF6",
           "caxis": {
            "gridcolor": "white",
            "linecolor": "white",
            "ticks": ""
           }
          },
          "title": {
           "x": 0.05
          },
          "xaxis": {
           "automargin": true,
           "gridcolor": "white",
           "linecolor": "white",
           "ticks": "",
           "title": {
            "standoff": 15
           },
           "zerolinecolor": "white",
           "zerolinewidth": 2
          },
          "yaxis": {
           "automargin": true,
           "gridcolor": "white",
           "linecolor": "white",
           "ticks": "",
           "title": {
            "standoff": 15
           },
           "zerolinecolor": "white",
           "zerolinewidth": 2
          }
         }
        },
        "title": {
         "text": "Parallel Coordinate Plot"
        }
       }
      }
     },
     "metadata": {},
     "output_type": "display_data"
    }
   ],
   "source": [
    "optuna.visualization.plot_parallel_coordinate(study)"
   ]
  },
  {
   "cell_type": "code",
   "execution_count": 29,
   "id": "75db1ddf",
   "metadata": {},
   "outputs": [
    {
     "name": "stdout",
     "output_type": "stream",
     "text": [
      "Best trial: {'C': 1.3589428496515839, 'epsilon': 0.17728063535871283, 'kernel': 'rbf', 'degree': 3}\n"
     ]
    }
   ],
   "source": [
    "print(\"Best trial:\", study.best_trial.params)"
   ]
  },
  {
   "cell_type": "code",
   "execution_count": 30,
   "id": "862eadd2",
   "metadata": {},
   "outputs": [
    {
     "data": {
      "text/html": [
       "<style>#sk-container-id-1 {color: black;}#sk-container-id-1 pre{padding: 0;}#sk-container-id-1 div.sk-toggleable {background-color: white;}#sk-container-id-1 label.sk-toggleable__label {cursor: pointer;display: block;width: 100%;margin-bottom: 0;padding: 0.3em;box-sizing: border-box;text-align: center;}#sk-container-id-1 label.sk-toggleable__label-arrow:before {content: \"▸\";float: left;margin-right: 0.25em;color: #696969;}#sk-container-id-1 label.sk-toggleable__label-arrow:hover:before {color: black;}#sk-container-id-1 div.sk-estimator:hover label.sk-toggleable__label-arrow:before {color: black;}#sk-container-id-1 div.sk-toggleable__content {max-height: 0;max-width: 0;overflow: hidden;text-align: left;background-color: #f0f8ff;}#sk-container-id-1 div.sk-toggleable__content pre {margin: 0.2em;color: black;border-radius: 0.25em;background-color: #f0f8ff;}#sk-container-id-1 input.sk-toggleable__control:checked~div.sk-toggleable__content {max-height: 200px;max-width: 100%;overflow: auto;}#sk-container-id-1 input.sk-toggleable__control:checked~label.sk-toggleable__label-arrow:before {content: \"▾\";}#sk-container-id-1 div.sk-estimator input.sk-toggleable__control:checked~label.sk-toggleable__label {background-color: #d4ebff;}#sk-container-id-1 div.sk-label input.sk-toggleable__control:checked~label.sk-toggleable__label {background-color: #d4ebff;}#sk-container-id-1 input.sk-hidden--visually {border: 0;clip: rect(1px 1px 1px 1px);clip: rect(1px, 1px, 1px, 1px);height: 1px;margin: -1px;overflow: hidden;padding: 0;position: absolute;width: 1px;}#sk-container-id-1 div.sk-estimator {font-family: monospace;background-color: #f0f8ff;border: 1px dotted black;border-radius: 0.25em;box-sizing: border-box;margin-bottom: 0.5em;}#sk-container-id-1 div.sk-estimator:hover {background-color: #d4ebff;}#sk-container-id-1 div.sk-parallel-item::after {content: \"\";width: 100%;border-bottom: 1px solid gray;flex-grow: 1;}#sk-container-id-1 div.sk-label:hover label.sk-toggleable__label {background-color: #d4ebff;}#sk-container-id-1 div.sk-serial::before {content: \"\";position: absolute;border-left: 1px solid gray;box-sizing: border-box;top: 0;bottom: 0;left: 50%;z-index: 0;}#sk-container-id-1 div.sk-serial {display: flex;flex-direction: column;align-items: center;background-color: white;padding-right: 0.2em;padding-left: 0.2em;position: relative;}#sk-container-id-1 div.sk-item {position: relative;z-index: 1;}#sk-container-id-1 div.sk-parallel {display: flex;align-items: stretch;justify-content: center;background-color: white;position: relative;}#sk-container-id-1 div.sk-item::before, #sk-container-id-1 div.sk-parallel-item::before {content: \"\";position: absolute;border-left: 1px solid gray;box-sizing: border-box;top: 0;bottom: 0;left: 50%;z-index: -1;}#sk-container-id-1 div.sk-parallel-item {display: flex;flex-direction: column;z-index: 1;position: relative;background-color: white;}#sk-container-id-1 div.sk-parallel-item:first-child::after {align-self: flex-end;width: 50%;}#sk-container-id-1 div.sk-parallel-item:last-child::after {align-self: flex-start;width: 50%;}#sk-container-id-1 div.sk-parallel-item:only-child::after {width: 0;}#sk-container-id-1 div.sk-dashed-wrapped {border: 1px dashed gray;margin: 0 0.4em 0.5em 0.4em;box-sizing: border-box;padding-bottom: 0.4em;background-color: white;}#sk-container-id-1 div.sk-label label {font-family: monospace;font-weight: bold;display: inline-block;line-height: 1.2em;}#sk-container-id-1 div.sk-label-container {text-align: center;}#sk-container-id-1 div.sk-container {/* jupyter's `normalize.less` sets `[hidden] { display: none; }` but bootstrap.min.css set `[hidden] { display: none !important; }` so we also need the `!important` here to be able to override the default hidden behavior on the sphinx rendered scikit-learn.org. See: https://github.com/scikit-learn/scikit-learn/issues/21755 */display: inline-block !important;position: relative;}#sk-container-id-1 div.sk-text-repr-fallback {display: none;}</style><div id=\"sk-container-id-1\" class=\"sk-top-container\"><div class=\"sk-text-repr-fallback\"><pre>SVR(C=1.3589428496515839, epsilon=0.17728063535871283)</pre><b>In a Jupyter environment, please rerun this cell to show the HTML representation or trust the notebook. <br />On GitHub, the HTML representation is unable to render, please try loading this page with nbviewer.org.</b></div><div class=\"sk-container\" hidden><div class=\"sk-item\"><div class=\"sk-estimator sk-toggleable\"><input class=\"sk-toggleable__control sk-hidden--visually\" id=\"sk-estimator-id-1\" type=\"checkbox\" checked><label for=\"sk-estimator-id-1\" class=\"sk-toggleable__label sk-toggleable__label-arrow\">SVR</label><div class=\"sk-toggleable__content\"><pre>SVR(C=1.3589428496515839, epsilon=0.17728063535871283)</pre></div></div></div></div></div>"
      ],
      "text/plain": [
       "SVR(C=1.3589428496515839, epsilon=0.17728063535871283)"
      ]
     },
     "execution_count": 30,
     "metadata": {},
     "output_type": "execute_result"
    }
   ],
   "source": [
    "svm_params = {\n",
    "    \"C\": study.best_trial.params[\"C\"],\n",
    "    \"epsilon\": study.best_trial.params[\"epsilon\"],\n",
    "    \"kernel\": study.best_trial.params[\"kernel\"],\n",
    "    \"degree\": study.best_trial.params[\"degree\"]\n",
    "}\n",
    "\n",
    "svm = SVR(**svm_params)\n",
    "svm.fit(As_X_train, As_y_train)"
   ]
  },
  {
   "cell_type": "code",
   "execution_count": 31,
   "id": "8577fb37",
   "metadata": {},
   "outputs": [],
   "source": [
    "y_train_pred = svm.predict(As_X_train)\n",
    "y_test_pred = svm.predict(As_X_test)"
   ]
  },
  {
   "cell_type": "code",
   "execution_count": 32,
   "id": "2ea0526a",
   "metadata": {},
   "outputs": [],
   "source": [
    "# plt.scatter(y_train_pred, np.array(As_y_train))"
   ]
  },
  {
   "cell_type": "code",
   "execution_count": 33,
   "id": "d2a4dd85",
   "metadata": {},
   "outputs": [
    {
     "name": "stdout",
     "output_type": "stream",
     "text": [
      "Train RMSE:  0.3003910449202925\n",
      "Test RMSE:  0.364439314091269\n"
     ]
    }
   ],
   "source": [
    "print(\"Train RMSE: \", np.sqrt(mean_squared_error(As_y_train, y_train_pred)))\n",
    "print(\"Test RMSE: \", np.sqrt(mean_squared_error(As_y_test, y_test_pred)))"
   ]
  },
  {
   "cell_type": "code",
   "execution_count": 34,
   "id": "08fe787a",
   "metadata": {},
   "outputs": [
    {
     "name": "stdout",
     "output_type": "stream",
     "text": [
      "Train R2:  0.6258591782196548\n",
      "Test R2:  0.48278642632998625\n"
     ]
    }
   ],
   "source": [
    "print(\"Train R2: \", r2_score(As_y_train, y_train_pred))\n",
    "print(\"Test R2: \", r2_score(As_y_test, y_test_pred))"
   ]
  },
  {
   "cell_type": "code",
   "execution_count": 35,
   "id": "5ec4820c",
   "metadata": {},
   "outputs": [
    {
     "data": {
      "image/png": "[encoded data removed]",
      "text/plain": [
       "<Figure size 640x480 with 1 Axes>"
      ]
     },
     "metadata": {},
     "output_type": "display_data"
    }
   ],
   "source": [
    "plt.scatter(y_train_pred, np.array(As_y_train), color=\"orange\", alpha=0.3)\n",
    "plt.scatter(y_test_pred, np.array(As_y_test), color=\"green\", alpha=0.4)\n",
    "plt.axis(\"auto\") # scaled, tight, auto, image, square\n",
    "# plt.xlim([0, 1.5]) \n",
    "# plt.ylim(0, None) \n",
    "plt.xlabel('Predicted Values')\n",
    "plt.ylabel('Actual Values')\n",
    "\n",
    "# Add y=x line\n",
    "plt.plot([0, 2.0], [0, 2.0], color='red', linestyle='-')\n",
    "\n",
    "plt.show()"
   ]
  },
  {
   "attachments": {},
   "cell_type": "markdown",
   "id": "e0507d63",
   "metadata": {},
   "source": [
    "Cd"
   ]
  },
  {
   "attachments": {},
   "cell_type": "markdown",
   "id": "f8f809d9",
   "metadata": {},
   "source": [
    "Optimization"
   ]
  },
  {
   "cell_type": "code",
   "execution_count": 36,
   "id": "b7aeaf0a",
   "metadata": {},
   "outputs": [
    {
     "name": "stderr",
     "output_type": "stream",
     "text": [
      "\u001b[32m[I 2023-08-30 16:50:48,006]\u001b[0m A new study created in memory with name: svm_parameter_opt\u001b[0m\n",
      "\u001b[32m[I 2023-08-30 16:50:48,018]\u001b[0m Trial 0 finished with value: -0.2121306234645751 and parameters: {'C': 68.016965959061, 'epsilon': 0.6742775567196091, 'kernel': 'linear', 'degree': 3}. Best is trial 0 with value: -0.2121306234645751.\u001b[0m\n",
      "\u001b[32m[I 2023-08-30 16:50:48,193]\u001b[0m Trial 1 finished with value: -2.3074764916710064 and parameters: {'C': 0.17926798321643383, 'epsilon': 0.02703975868620011, 'kernel': 'poly', 'degree': 4}. Best is trial 0 with value: -0.2121306234645751.\u001b[0m\n",
      "\u001b[32m[I 2023-08-30 16:50:48,204]\u001b[0m Trial 2 finished with value: -0.2121306234645751 and parameters: {'C': 6.395667307936559, 'epsilon': 0.3692679144524224, 'kernel': 'poly', 'degree': 2}. Best is trial 0 with value: -0.2121306234645751.\u001b[0m\n",
      "\u001b[32m[I 2023-08-30 16:50:48,214]\u001b[0m Trial 3 finished with value: -0.2121306234645751 and parameters: {'C': 4.206575042543194, 'epsilon': 0.3034741422478118, 'kernel': 'rbf', 'degree': 5}. Best is trial 0 with value: -0.2121306234645751.\u001b[0m\n",
      "\u001b[32m[I 2023-08-30 16:50:48,224]\u001b[0m Trial 4 finished with value: -0.2121306234645751 and parameters: {'C': 0.1473280721806992, 'epsilon': 0.33587405478503707, 'kernel': 'linear', 'degree': 4}. Best is trial 0 with value: -0.2121306234645751.\u001b[0m\n",
      "\u001b[32m[I 2023-08-30 16:50:57,921]\u001b[0m Trial 5 finished with value: -31.845020725130905 and parameters: {'C': 57.97778417257726, 'epsilon': 0.0293979937223354, 'kernel': 'poly', 'degree': 3}. Best is trial 0 with value: -0.2121306234645751.\u001b[0m\n",
      "\u001b[32m[I 2023-08-30 16:50:59,120]\u001b[0m Trial 6 finished with value: -0.2180934404511806 and parameters: {'C': 69.531378206447, 'epsilon': 0.019709820612622504, 'kernel': 'rbf', 'degree': 3}. Best is trial 0 with value: -0.2121306234645751.\u001b[0m\n",
      "\u001b[32m[I 2023-08-30 16:51:00,369]\u001b[0m Trial 7 finished with value: 0.18416797387088832 and parameters: {'C': 5.166411500199141, 'epsilon': 0.10543930830409107, 'kernel': 'linear', 'degree': 5}. Best is trial 7 with value: 0.18416797387088832.\u001b[0m\n",
      "\u001b[32m[I 2023-08-30 16:51:00,516]\u001b[0m Trial 8 finished with value: 0.4568708449113627 and parameters: {'C': 1.571323919993131, 'epsilon': 0.0529130964456138, 'kernel': 'rbf', 'degree': 3}. Best is trial 8 with value: 0.4568708449113627.\u001b[0m\n",
      "\u001b[32m[I 2023-08-30 16:51:00,848]\u001b[0m Trial 9 finished with value: -681.4983958785731 and parameters: {'C': 0.48446239348900466, 'epsilon': 0.010496106917692299, 'kernel': 'poly', 'degree': 5}. Best is trial 8 with value: 0.4568708449113627.\u001b[0m\n",
      "\u001b[32m[I 2023-08-30 16:51:00,937]\u001b[0m Trial 10 finished with value: 0.399996315814018 and parameters: {'C': 1.0780931867971255, 'epsilon': 0.08701279096943519, 'kernel': 'rbf', 'degree': 1}. Best is trial 8 with value: 0.4568708449113627.\u001b[0m\n",
      "\u001b[32m[I 2023-08-30 16:51:01,054]\u001b[0m Trial 11 finished with value: 0.4143333756425241 and parameters: {'C': 1.1869159181955706, 'epsilon': 0.07774459170549872, 'kernel': 'rbf', 'degree': 1}. Best is trial 8 with value: 0.4568708449113627.\u001b[0m\n",
      "\u001b[32m[I 2023-08-30 16:51:01,167]\u001b[0m Trial 12 finished with value: 0.41994592121185914 and parameters: {'C': 1.1684512425949363, 'epsilon': 0.07483060958589831, 'kernel': 'rbf', 'degree': 1}. Best is trial 8 with value: 0.4568708449113627.\u001b[0m\n",
      "\u001b[32m[I 2023-08-30 16:51:01,475]\u001b[0m Trial 13 finished with value: 0.25927927632078107 and parameters: {'C': 14.866411662111204, 'epsilon': 0.04738205691352814, 'kernel': 'rbf', 'degree': 2}. Best is trial 8 with value: 0.4568708449113627.\u001b[0m\n",
      "\u001b[32m[I 2023-08-30 16:51:01,498]\u001b[0m Trial 14 finished with value: 0.0011522626368184242 and parameters: {'C': 1.352798981856204, 'epsilon': 0.15980662952538865, 'kernel': 'rbf', 'degree': 2}. Best is trial 8 with value: 0.4568708449113627.\u001b[0m\n",
      "\u001b[32m[I 2023-08-30 16:51:01,649]\u001b[0m Trial 15 finished with value: 0.46066402540552887 and parameters: {'C': 0.44184581788394167, 'epsilon': 0.05291214751368451, 'kernel': 'rbf', 'degree': 1}. Best is trial 15 with value: 0.46066402540552887.\u001b[0m\n",
      "\u001b[32m[I 2023-08-30 16:51:01,815]\u001b[0m Trial 16 finished with value: 0.4773981433843377 and parameters: {'C': 0.3955893612486054, 'epsilon': 0.04046839914392673, 'kernel': 'rbf', 'degree': 4}. Best is trial 16 with value: 0.4773981433843377.\u001b[0m\n",
      "\u001b[32m[I 2023-08-30 16:51:02,053]\u001b[0m Trial 17 finished with value: 0.4680409523237385 and parameters: {'C': 0.36190639668355, 'epsilon': 0.011448024517703518, 'kernel': 'rbf', 'degree': 4}. Best is trial 16 with value: 0.4773981433843377.\u001b[0m\n",
      "\u001b[32m[I 2023-08-30 16:51:02,281]\u001b[0m Trial 18 finished with value: 0.4677868641222614 and parameters: {'C': 0.320905164951587, 'epsilon': 0.011763038375424067, 'kernel': 'rbf', 'degree': 4}. Best is trial 16 with value: 0.4773981433843377.\u001b[0m\n",
      "\u001b[32m[I 2023-08-30 16:51:02,806]\u001b[0m Trial 19 finished with value: 0.1868789326390378 and parameters: {'C': 0.2832657730770797, 'epsilon': 0.017948818412701774, 'kernel': 'linear', 'degree': 4}. Best is trial 16 with value: 0.4773981433843377.\u001b[0m\n",
      "\u001b[32m[I 2023-08-30 16:51:02,973]\u001b[0m Trial 20 finished with value: 0.442361419334365 and parameters: {'C': 0.10234410015428456, 'epsilon': 0.0308499566185026, 'kernel': 'rbf', 'degree': 4}. Best is trial 16 with value: 0.4773981433843377.\u001b[0m\n",
      "\u001b[32m[I 2023-08-30 16:51:03,215]\u001b[0m Trial 21 finished with value: 0.4697995736020375 and parameters: {'C': 0.4861379344744277, 'epsilon': 0.01018166058932867, 'kernel': 'rbf', 'degree': 4}. Best is trial 16 with value: 0.4773981433843377.\u001b[0m\n",
      "\u001b[32m[I 2023-08-30 16:51:03,452]\u001b[0m Trial 22 finished with value: 0.4773446335969558 and parameters: {'C': 0.6836163974185805, 'epsilon': 0.015245673093100844, 'kernel': 'rbf', 'degree': 4}. Best is trial 16 with value: 0.4773981433843377.\u001b[0m\n",
      "\u001b[32m[I 2023-08-30 16:51:03,687]\u001b[0m Trial 23 finished with value: 0.4724076570602905 and parameters: {'C': 0.8382058510875968, 'epsilon': 0.017864390560682383, 'kernel': 'rbf', 'degree': 5}. Best is trial 16 with value: 0.4773981433843377.\u001b[0m\n",
      "\u001b[32m[I 2023-08-30 16:51:03,924]\u001b[0m Trial 24 finished with value: 0.4744314190279484 and parameters: {'C': 0.7777443576491619, 'epsilon': 0.01735402655311261, 'kernel': 'rbf', 'degree': 5}. Best is trial 16 with value: 0.4773981433843377.\u001b[0m\n",
      "\u001b[32m[I 2023-08-30 16:51:04,136]\u001b[0m Trial 25 finished with value: 0.4474970062454025 and parameters: {'C': 2.4674946860608435, 'epsilon': 0.03924095708287837, 'kernel': 'rbf', 'degree': 5}. Best is trial 16 with value: 0.4773981433843377.\u001b[0m\n",
      "\u001b[32m[I 2023-08-30 16:51:04,376]\u001b[0m Trial 26 finished with value: 0.4762298768803796 and parameters: {'C': 0.6289417794425395, 'epsilon': 0.018606774489891117, 'kernel': 'rbf', 'degree': 5}. Best is trial 16 with value: 0.4773981433843377.\u001b[0m\n",
      "\u001b[32m[I 2023-08-30 16:51:04,648]\u001b[0m Trial 27 finished with value: 0.44197818060691463 and parameters: {'C': 2.182477584613167, 'epsilon': 0.02498041066161829, 'kernel': 'rbf', 'degree': 4}. Best is trial 16 with value: 0.4773981433843377.\u001b[0m\n",
      "\u001b[32m[I 2023-08-30 16:51:05,101]\u001b[0m Trial 28 finished with value: -1581.8042323904099 and parameters: {'C': 9.97657071051654, 'epsilon': 0.04002188473469571, 'kernel': 'poly', 'degree': 5}. Best is trial 16 with value: 0.4773981433843377.\u001b[0m\n",
      "\u001b[32m[I 2023-08-30 16:51:05,515]\u001b[0m Trial 29 finished with value: 0.18301456370450908 and parameters: {'C': 0.1985577367118605, 'epsilon': 0.015128024169026193, 'kernel': 'linear', 'degree': 3}. Best is trial 16 with value: 0.4773981433843377.\u001b[0m\n",
      "\u001b[32m[I 2023-08-30 16:51:06,376]\u001b[0m Trial 30 finished with value: 0.19044512897839241 and parameters: {'C': 0.6332948133512296, 'epsilon': 0.02283377140119985, 'kernel': 'linear', 'degree': 3}. Best is trial 16 with value: 0.4773981433843377.\u001b[0m\n",
      "\u001b[32m[I 2023-08-30 16:51:06,619]\u001b[0m Trial 31 finished with value: 0.4762059052839813 and parameters: {'C': 0.7546485965439294, 'epsilon': 0.015460527008768736, 'kernel': 'rbf', 'degree': 5}. Best is trial 16 with value: 0.4773981433843377.\u001b[0m\n",
      "\u001b[32m[I 2023-08-30 16:51:06,846]\u001b[0m Trial 32 finished with value: 0.46153694324478023 and parameters: {'C': 0.21351843744974047, 'epsilon': 0.013773960742840681, 'kernel': 'rbf', 'degree': 5}. Best is trial 16 with value: 0.4773981433843377.\u001b[0m\n",
      "\u001b[32m[I 2023-08-30 16:51:07,079]\u001b[0m Trial 33 finished with value: 0.45259375256180157 and parameters: {'C': 2.028549844602593, 'epsilon': 0.032887268888567564, 'kernel': 'rbf', 'degree': 4}. Best is trial 16 with value: 0.4773981433843377.\u001b[0m\n",
      "\u001b[32m[I 2023-08-30 16:51:07,096]\u001b[0m Trial 34 finished with value: -0.2121306234645751 and parameters: {'C': 0.6552299043066395, 'epsilon': 0.8110929695634513, 'kernel': 'rbf', 'degree': 5}. Best is trial 16 with value: 0.4773981433843377.\u001b[0m\n",
      "\u001b[32m[I 2023-08-30 16:51:07,727]\u001b[0m Trial 35 finished with value: -32.340202180440784 and parameters: {'C': 3.575793487161481, 'epsilon': 0.0208756608351129, 'kernel': 'poly', 'degree': 4}. Best is trial 16 with value: 0.4773981433843377.\u001b[0m\n",
      "\u001b[32m[I 2023-08-30 16:51:07,962]\u001b[0m Trial 36 finished with value: 0.45282634294897484 and parameters: {'C': 0.14593784767861998, 'epsilon': 0.014384772204635122, 'kernel': 'rbf', 'degree': 5}. Best is trial 16 with value: 0.4773981433843377.\u001b[0m\n",
      "\u001b[32m[I 2023-08-30 16:51:08,143]\u001b[0m Trial 37 finished with value: 0.461659343579014 and parameters: {'C': 0.2359082096747477, 'epsilon': 0.026164631374458177, 'kernel': 'rbf', 'degree': 4}. Best is trial 16 with value: 0.4773981433843377.\u001b[0m\n",
      "\u001b[32m[I 2023-08-30 16:51:08,158]\u001b[0m Trial 38 finished with value: -0.2121306234645751 and parameters: {'C': 0.11084419365739266, 'epsilon': 0.20146305442803616, 'kernel': 'poly', 'degree': 5}. Best is trial 16 with value: 0.4773981433843377.\u001b[0m\n",
      "\u001b[32m[I 2023-08-30 16:51:09,022]\u001b[0m Trial 39 finished with value: 0.1962337703920201 and parameters: {'C': 0.8601875299680709, 'epsilon': 0.036286866007323226, 'kernel': 'linear', 'degree': 4}. Best is trial 16 with value: 0.4773981433843377.\u001b[0m\n",
      "\u001b[32m[I 2023-08-30 16:51:09,221]\u001b[0m Trial 40 finished with value: 0.4777575258008625 and parameters: {'C': 0.5942731980862341, 'epsilon': 0.02371347250075654, 'kernel': 'rbf', 'degree': 5}. Best is trial 40 with value: 0.4777575258008625.\u001b[0m\n",
      "\u001b[32m[I 2023-08-30 16:51:09,417]\u001b[0m Trial 41 finished with value: 0.4777206356605694 and parameters: {'C': 0.5661436410850892, 'epsilon': 0.025130426805267142, 'kernel': 'rbf', 'degree': 5}. Best is trial 40 with value: 0.4777575258008625.\u001b[0m\n",
      "\u001b[32m[I 2023-08-30 16:51:09,430]\u001b[0m Trial 42 finished with value: -0.2121306234645751 and parameters: {'C': 0.4563391433690817, 'epsilon': 0.5540287124176254, 'kernel': 'rbf', 'degree': 5}. Best is trial 40 with value: 0.4777575258008625.\u001b[0m\n",
      "\u001b[32m[I 2023-08-30 16:51:09,697]\u001b[0m Trial 43 finished with value: 0.19113150092012593 and parameters: {'C': 33.79681056135181, 'epsilon': 0.06503366173360929, 'kernel': 'rbf', 'degree': 5}. Best is trial 40 with value: 0.4777575258008625.\u001b[0m\n",
      "\u001b[32m[I 2023-08-30 16:51:09,900]\u001b[0m Trial 44 finished with value: 0.47745350204480486 and parameters: {'C': 0.5582276399155348, 'epsilon': 0.022386147319624794, 'kernel': 'rbf', 'degree': 5}. Best is trial 40 with value: 0.4777575258008625.\u001b[0m\n",
      "\u001b[32m[I 2023-08-30 16:51:10,135]\u001b[0m Trial 45 finished with value: 0.4522821887867118 and parameters: {'C': 1.6425236955296225, 'epsilon': 0.025116400158514254, 'kernel': 'rbf', 'degree': 3}. Best is trial 40 with value: 0.4777575258008625.\u001b[0m\n",
      "\u001b[32m[I 2023-08-30 16:51:10,276]\u001b[0m Trial 46 finished with value: 0.4675421296477163 and parameters: {'C': 0.27869098956246213, 'epsilon': 0.04516076493342823, 'kernel': 'rbf', 'degree': 4}. Best is trial 40 with value: 0.4777575258008625.\u001b[0m\n",
      "\u001b[32m[I 2023-08-30 16:51:10,392]\u001b[0m Trial 47 finished with value: -116.00051772410498 and parameters: {'C': 0.4096258675463518, 'epsilon': 0.06220145939237995, 'kernel': 'poly', 'degree': 5}. Best is trial 40 with value: 0.4777575258008625.\u001b[0m\n",
      "\u001b[32m[I 2023-08-30 16:51:10,430]\u001b[0m Trial 48 finished with value: 0.2019538268273958 and parameters: {'C': 0.987838289557877, 'epsilon': 0.12955830430075307, 'kernel': 'rbf', 'degree': 2}. Best is trial 40 with value: 0.4777575258008625.\u001b[0m\n",
      "\u001b[32m[I 2023-08-30 16:51:10,605]\u001b[0m Trial 49 finished with value: 0.47915011562168514 and parameters: {'C': 0.5106817406926055, 'epsilon': 0.03278761375979385, 'kernel': 'rbf', 'degree': 4}. Best is trial 49 with value: 0.47915011562168514.\u001b[0m\n",
      "\u001b[32m[I 2023-08-30 16:51:10,761]\u001b[0m Trial 50 finished with value: 0.4490220823426971 and parameters: {'C': 0.1437947358247536, 'epsilon': 0.03449017424215426, 'kernel': 'rbf', 'degree': 5}. Best is trial 49 with value: 0.47915011562168514.\u001b[0m\n",
      "\u001b[32m[I 2023-08-30 16:51:10,946]\u001b[0m Trial 51 finished with value: 0.4792765258278034 and parameters: {'C': 0.5772757005673894, 'epsilon': 0.02965658100880342, 'kernel': 'rbf', 'degree': 4}. Best is trial 51 with value: 0.4792765258278034.\u001b[0m\n",
      "\u001b[32m[I 2023-08-30 16:51:11,136]\u001b[0m Trial 52 finished with value: 0.4792587257369645 and parameters: {'C': 0.5014337011151414, 'epsilon': 0.02817670112059654, 'kernel': 'rbf', 'degree': 3}. Best is trial 51 with value: 0.4792765258278034.\u001b[0m\n",
      "\u001b[32m[I 2023-08-30 16:51:11,323]\u001b[0m Trial 53 finished with value: 0.4791469399708431 and parameters: {'C': 0.5293977507112898, 'epsilon': 0.0286982625987475, 'kernel': 'rbf', 'degree': 3}. Best is trial 51 with value: 0.4792765258278034.\u001b[0m\n",
      "\u001b[32m[I 2023-08-30 16:51:11,544]\u001b[0m Trial 54 finished with value: 0.4597358149102915 and parameters: {'C': 1.4634043863315545, 'epsilon': 0.02778342379016669, 'kernel': 'rbf', 'degree': 3}. Best is trial 51 with value: 0.4792765258278034.\u001b[0m\n",
      "\u001b[32m[I 2023-08-30 16:51:11,728]\u001b[0m Trial 55 finished with value: 0.4733405859783521 and parameters: {'C': 0.3407174168584612, 'epsilon': 0.03008366241212971, 'kernel': 'rbf', 'degree': 2}. Best is trial 51 with value: 0.4792765258278034.\u001b[0m\n",
      "\u001b[32m[I 2023-08-30 16:51:12,681]\u001b[0m Trial 56 finished with value: 0.19705068691944788 and parameters: {'C': 1.1535279177389028, 'epsilon': 0.04749322589256091, 'kernel': 'linear', 'degree': 3}. Best is trial 51 with value: 0.4792765258278034.\u001b[0m\n",
      "\u001b[32m[I 2023-08-30 16:51:12,791]\u001b[0m Trial 57 finished with value: 0.44566648611125476 and parameters: {'C': 0.27756961302453537, 'epsilon': 0.060891230346372636, 'kernel': 'rbf', 'degree': 3}. Best is trial 51 with value: 0.4792765258278034.\u001b[0m\n",
      "\u001b[32m[I 2023-08-30 16:51:12,995]\u001b[0m Trial 58 finished with value: 0.4769230894901342 and parameters: {'C': 0.4735528012221113, 'epsilon': 0.02028601209062988, 'kernel': 'rbf', 'degree': 3}. Best is trial 51 with value: 0.4792765258278034.\u001b[0m\n",
      "\u001b[32m[I 2023-08-30 16:51:13,090]\u001b[0m Trial 59 finished with value: 0.30922186886246383 and parameters: {'C': 4.913007426717534, 'epsilon': 0.09703643564612657, 'kernel': 'rbf', 'degree': 2}. Best is trial 51 with value: 0.4792765258278034.\u001b[0m\n",
      "\u001b[32m[I 2023-08-30 16:51:13,275]\u001b[0m Trial 60 finished with value: 0.4356154043821694 and parameters: {'C': 2.8282841581978215, 'epsilon': 0.04787349400265257, 'kernel': 'rbf', 'degree': 3}. Best is trial 51 with value: 0.4792765258278034.\u001b[0m\n",
      "\u001b[32m[I 2023-08-30 16:51:13,472]\u001b[0m Trial 61 finished with value: 0.4777374800039391 and parameters: {'C': 0.5482632469269754, 'epsilon': 0.024427188032968936, 'kernel': 'rbf', 'degree': 3}. Best is trial 51 with value: 0.4792765258278034.\u001b[0m\n",
      "\u001b[32m[I 2023-08-30 16:51:13,662]\u001b[0m Trial 62 finished with value: 0.47872570161630124 and parameters: {'C': 0.535890243844174, 'epsilon': 0.027367125159496675, 'kernel': 'rbf', 'degree': 3}. Best is trial 51 with value: 0.4792765258278034.\u001b[0m\n",
      "\u001b[32m[I 2023-08-30 16:51:13,859]\u001b[0m Trial 63 finished with value: 0.4752752476408542 and parameters: {'C': 0.9290988628486048, 'epsilon': 0.030991275402157462, 'kernel': 'rbf', 'degree': 3}. Best is trial 51 with value: 0.4792765258278034.\u001b[0m\n",
      "\u001b[32m[I 2023-08-30 16:51:14,079]\u001b[0m Trial 64 finished with value: 0.46793939652093763 and parameters: {'C': 0.3049152840390215, 'epsilon': 0.012763410303626868, 'kernel': 'rbf', 'degree': 3}. Best is trial 51 with value: 0.4792765258278034.\u001b[0m\n",
      "\u001b[32m[I 2023-08-30 16:51:14,925]\u001b[0m Trial 65 finished with value: -0.12964532505560605 and parameters: {'C': 99.27644597382282, 'epsilon': 0.037544531676692805, 'kernel': 'rbf', 'degree': 3}. Best is trial 51 with value: 0.4792765258278034.\u001b[0m\n",
      "\u001b[32m[I 2023-08-30 16:51:15,120]\u001b[0m Trial 66 finished with value: 0.47277793553426806 and parameters: {'C': 0.361912961687135, 'epsilon': 0.022574388101374777, 'kernel': 'rbf', 'degree': 3}. Best is trial 51 with value: 0.4792765258278034.\u001b[0m\n",
      "\u001b[32m[I 2023-08-30 16:51:15,379]\u001b[0m Trial 67 finished with value: -5.103859875130049 and parameters: {'C': 0.5312563537758354, 'epsilon': 0.016950765165127436, 'kernel': 'poly', 'degree': 3}. Best is trial 51 with value: 0.4792765258278034.\u001b[0m\n",
      "\u001b[32m[I 2023-08-30 16:51:15,586]\u001b[0m Trial 68 finished with value: 0.4684142337272147 and parameters: {'C': 1.2412233406455402, 'epsilon': 0.03019533817912365, 'kernel': 'rbf', 'degree': 3}. Best is trial 51 with value: 0.4792765258278034.\u001b[0m\n",
      "\u001b[32m[I 2023-08-30 16:51:15,958]\u001b[0m Trial 69 finished with value: 0.18694187016279878 and parameters: {'C': 0.18143501447798957, 'epsilon': 0.020270413386133855, 'kernel': 'linear', 'degree': 2}. Best is trial 51 with value: 0.4792765258278034.\u001b[0m\n",
      "\u001b[32m[I 2023-08-30 16:51:16,107]\u001b[0m Trial 70 finished with value: 0.46423031810055126 and parameters: {'C': 0.23254531990017108, 'epsilon': 0.04162834223064189, 'kernel': 'rbf', 'degree': 3}. Best is trial 51 with value: 0.4792765258278034.\u001b[0m\n",
      "\u001b[32m[I 2023-08-30 16:51:16,310]\u001b[0m Trial 71 finished with value: 0.47564597692065647 and parameters: {'C': 0.7613089795738867, 'epsilon': 0.02570789811139798, 'kernel': 'rbf', 'degree': 4}. Best is trial 51 with value: 0.4792765258278034.\u001b[0m\n",
      "\u001b[32m[I 2023-08-30 16:51:16,487]\u001b[0m Trial 72 finished with value: 0.48029854005889333 and parameters: {'C': 0.5673628029187258, 'epsilon': 0.03377746042299544, 'kernel': 'rbf', 'degree': 3}. Best is trial 72 with value: 0.48029854005889333.\u001b[0m\n",
      "\u001b[32m[I 2023-08-30 16:51:16,673]\u001b[0m Trial 73 finished with value: 0.4746422507401714 and parameters: {'C': 0.3725419764923898, 'epsilon': 0.027706420711697932, 'kernel': 'rbf', 'degree': 3}. Best is trial 72 with value: 0.48029854005889333.\u001b[0m\n",
      "\u001b[32m[I 2023-08-30 16:51:16,807]\u001b[0m Trial 74 finished with value: 0.45721004843241586 and parameters: {'C': 0.628348317993117, 'epsilon': 0.05622768542477478, 'kernel': 'rbf', 'degree': 3}. Best is trial 72 with value: 0.48029854005889333.\u001b[0m\n",
      "\u001b[32m[I 2023-08-30 16:51:16,992]\u001b[0m Trial 75 finished with value: 0.47395795325119494 and parameters: {'C': 1.0035679474626968, 'epsilon': 0.035629375461460874, 'kernel': 'rbf', 'degree': 3}. Best is trial 72 with value: 0.48029854005889333.\u001b[0m\n",
      "\u001b[32m[I 2023-08-30 16:51:17,171]\u001b[0m Trial 76 finished with value: 0.47874708598224397 and parameters: {'C': 0.5055109326055103, 'epsilon': 0.03189748694955388, 'kernel': 'rbf', 'degree': 2}. Best is trial 72 with value: 0.48029854005889333.\u001b[0m\n",
      "\u001b[32m[I 2023-08-30 16:51:17,395]\u001b[0m Trial 77 finished with value: 0.454232727020627 and parameters: {'C': 1.859405489363145, 'epsilon': 0.03184317682390542, 'kernel': 'rbf', 'degree': 1}. Best is trial 72 with value: 0.48029854005889333.\u001b[0m\n",
      "\u001b[32m[I 2023-08-30 16:51:17,556]\u001b[0m Trial 78 finished with value: 0.47777938155973504 and parameters: {'C': 0.41923298744693827, 'epsilon': 0.04140078303199513, 'kernel': 'rbf', 'degree': 2}. Best is trial 72 with value: 0.48029854005889333.\u001b[0m\n",
      "\u001b[32m[I 2023-08-30 16:51:17,681]\u001b[0m Trial 79 finished with value: 0.45618765808937917 and parameters: {'C': 0.24851486117473992, 'epsilon': 0.05237126153508933, 'kernel': 'rbf', 'degree': 2}. Best is trial 72 with value: 0.48029854005889333.\u001b[0m\n",
      "\u001b[32m[I 2023-08-30 16:51:17,769]\u001b[0m Trial 80 finished with value: 0.4220279267061359 and parameters: {'C': 0.4207702933058784, 'epsilon': 0.07746994431105438, 'kernel': 'rbf', 'degree': 2}. Best is trial 72 with value: 0.48029854005889333.\u001b[0m\n",
      "\u001b[32m[I 2023-08-30 16:51:17,933]\u001b[0m Trial 81 finished with value: 0.4777668319279922 and parameters: {'C': 0.7193762983553614, 'epsilon': 0.04183582758676981, 'kernel': 'rbf', 'degree': 2}. Best is trial 72 with value: 0.48029854005889333.\u001b[0m\n",
      "\u001b[32m[I 2023-08-30 16:51:18,100]\u001b[0m Trial 82 finished with value: 0.4763209889968877 and parameters: {'C': 0.7822707717233752, 'epsilon': 0.041533031638130075, 'kernel': 'rbf', 'degree': 2}. Best is trial 72 with value: 0.48029854005889333.\u001b[0m\n",
      "\u001b[32m[I 2023-08-30 16:51:18,257]\u001b[0m Trial 83 finished with value: 0.47584795577507605 and parameters: {'C': 0.4470732613668419, 'epsilon': 0.043567798158571945, 'kernel': 'rbf', 'degree': 2}. Best is trial 72 with value: 0.48029854005889333.\u001b[0m\n",
      "\u001b[32m[I 2023-08-30 16:51:18,474]\u001b[0m Trial 84 finished with value: 0.16842179560349657 and parameters: {'C': 0.7011046278131992, 'epsilon': 0.034413926061302134, 'kernel': 'poly', 'degree': 2}. Best is trial 72 with value: 0.48029854005889333.\u001b[0m\n",
      "\u001b[32m[I 2023-08-30 16:51:18,634]\u001b[0m Trial 85 finished with value: 0.47379794272093134 and parameters: {'C': 0.32900210797053386, 'epsilon': 0.03814148481431369, 'kernel': 'rbf', 'degree': 2}. Best is trial 72 with value: 0.48029854005889333.\u001b[0m\n",
      "\u001b[32m[I 2023-08-30 16:51:18,820]\u001b[0m Trial 86 finished with value: 0.4792532125950223 and parameters: {'C': 0.4897665601451877, 'epsilon': 0.029240874093348128, 'kernel': 'rbf', 'degree': 2}. Best is trial 72 with value: 0.48029854005889333.\u001b[0m\n",
      "\u001b[32m[I 2023-08-30 16:51:19,384]\u001b[0m Trial 87 finished with value: 0.1933331475521404 and parameters: {'C': 0.39942745286417525, 'epsilon': 0.027739164342419586, 'kernel': 'linear', 'degree': 1}. Best is trial 72 with value: 0.48029854005889333.\u001b[0m\n",
      "\u001b[32m[I 2023-08-30 16:51:19,823]\u001b[0m Trial 88 finished with value: 0.33736187020096453 and parameters: {'C': 7.170957710982559, 'epsilon': 0.01857670099369631, 'kernel': 'rbf', 'degree': 4}. Best is trial 72 with value: 0.48029854005889333.\u001b[0m\n",
      "\u001b[32m[I 2023-08-30 16:51:20,026]\u001b[0m Trial 89 finished with value: 0.4766529649917028 and parameters: {'C': 0.4995144814952246, 'epsilon': 0.021707669153259383, 'kernel': 'rbf', 'degree': 2}. Best is trial 72 with value: 0.48029854005889333.\u001b[0m\n",
      "\u001b[32m[I 2023-08-30 16:51:20,214]\u001b[0m Trial 90 finished with value: 0.47643660986436903 and parameters: {'C': 0.8963179401835206, 'epsilon': 0.033821966772216695, 'kernel': 'rbf', 'degree': 4}. Best is trial 72 with value: 0.48029854005889333.\u001b[0m\n",
      "\u001b[32m[I 2023-08-30 16:51:20,405]\u001b[0m Trial 91 finished with value: 0.4780270280043285 and parameters: {'C': 0.6316264234010917, 'epsilon': 0.028495442466134353, 'kernel': 'rbf', 'degree': 2}. Best is trial 72 with value: 0.48029854005889333.\u001b[0m\n",
      "\u001b[32m[I 2023-08-30 16:51:20,591]\u001b[0m Trial 92 finished with value: 0.4791203535198337 and parameters: {'C': 0.5149685685909753, 'epsilon': 0.028843834971619717, 'kernel': 'rbf', 'degree': 2}. Best is trial 72 with value: 0.48029854005889333.\u001b[0m\n",
      "\u001b[32m[I 2023-08-30 16:51:20,778]\u001b[0m Trial 93 finished with value: 0.47911099407517777 and parameters: {'C': 0.5975328339052608, 'epsilon': 0.02975241113100764, 'kernel': 'rbf', 'degree': 2}. Best is trial 72 with value: 0.48029854005889333.\u001b[0m\n",
      "\u001b[32m[I 2023-08-30 16:51:20,961]\u001b[0m Trial 94 finished with value: 0.4786662324293681 and parameters: {'C': 0.5054387233113845, 'epsilon': 0.03129370860719994, 'kernel': 'rbf', 'degree': 1}. Best is trial 72 with value: 0.48029854005889333.\u001b[0m\n",
      "\u001b[32m[I 2023-08-30 16:51:21,209]\u001b[0m Trial 95 finished with value: 0.4659313454836019 and parameters: {'C': 1.1082364000080285, 'epsilon': 0.016826986006853374, 'kernel': 'rbf', 'degree': 2}. Best is trial 72 with value: 0.48029854005889333.\u001b[0m\n",
      "\u001b[32m[I 2023-08-30 16:51:21,401]\u001b[0m Trial 96 finished with value: 0.4674472760852012 and parameters: {'C': 0.28630436689698235, 'epsilon': 0.023921087527128806, 'kernel': 'rbf', 'degree': 2}. Best is trial 72 with value: 0.48029854005889333.\u001b[0m\n",
      "\u001b[32m[I 2023-08-30 16:51:21,548]\u001b[0m Trial 97 finished with value: 0.46580626164156935 and parameters: {'C': 0.8411451326999371, 'epsilon': 0.050778689383766805, 'kernel': 'rbf', 'degree': 4}. Best is trial 72 with value: 0.48029854005889333.\u001b[0m\n",
      "\u001b[32m[I 2023-08-30 16:51:21,760]\u001b[0m Trial 98 finished with value: 0.47645464949149174 and parameters: {'C': 0.5600179708221381, 'epsilon': 0.019477330472130336, 'kernel': 'rbf', 'degree': 2}. Best is trial 72 with value: 0.48029854005889333.\u001b[0m\n",
      "\u001b[32m[I 2023-08-30 16:51:25,261]\u001b[0m Trial 99 finished with value: -34.8415257982657 and parameters: {'C': 21.360058920468273, 'epsilon': 0.02652551433642779, 'kernel': 'poly', 'degree': 3}. Best is trial 72 with value: 0.48029854005889333.\u001b[0m\n"
     ]
    },
    {
     "name": "stdout",
     "output_type": "stream",
     "text": [
      "Best r2:  0.48029854005889333\n",
      "Best trial: {'C': 0.5673628029187258, 'epsilon': 0.03377746042299544, 'kernel': 'rbf', 'degree': 3}\n"
     ]
    }
   ],
   "source": [
    "sampler = TPESampler()\n",
    "study = optuna.create_study(\n",
    "    study_name=\"svm_parameter_opt\",\n",
    "    direction=\"maximize\",\n",
    "    sampler=sampler,\n",
    ")\n",
    "\n",
    "study.optimize(lambda trial : objectiveSVM(trial, Cd_X_train, Cd_y_train), n_trials=100)\n",
    "print(\"Best r2: \", study.best_value)\n",
    "print(\"Best trial:\", study.best_trial.params)"
   ]
  },
  {
   "cell_type": "code",
   "execution_count": 37,
   "id": "861f88d8",
   "metadata": {},
   "outputs": [
    {
     "data": {
      "application/vnd.plotly.v1+json": {
       "config": {
        "plotlyServerURL": "https://plot.ly"
       },
       "data": [
        {
         "dimensions": [
          {
           "label": "Objective Value",
           "range": [
            -1581.8042323904099,
            0.48029854005889333
           ],
           "values": [
            -0.2121306234645751,
            -2.3074764916710064,
            -0.2121306234645751,
            -0.2121306234645751,
            -0.2121306234645751,
            -31.845020725130905,
            -0.2180934404511806,
            0.18416797387088832,
            0.4568708449113627,
            -681.4983958785731,
            0.399996315814018,
            0.4143333756425241,
            0.41994592121185914,
            0.25927927632078107,
            0.0011522626368184242,
            0.46066402540552887,
            0.4773981433843377,
            0.4680409523237385,
            0.4677868641222614,
            0.1868789326390378,
            0.442361419334365,
            0.4697995736020375,
            0.4773446335969558,
            0.4724076570602905,
            0.4744314190279484,
            0.4474970062454025,
            0.4762298768803796,
            0.44197818060691463,
            -1581.8042323904099,
            0.18301456370450908,
            0.19044512897839241,
            0.4762059052839813,
            0.46153694324478023,
            0.45259375256180157,
            -0.2121306234645751,
            -32.340202180440784,
            0.45282634294897484,
            0.461659343579014,
            -0.2121306234645751,
            0.1962337703920201,
            0.4777575258008625,
            0.4777206356605694,
            -0.2121306234645751,
            0.19113150092012593,
            0.47745350204480486,
            0.4522821887867118,
            0.4675421296477163,
            -116.00051772410498,
            0.2019538268273958,
            0.47915011562168514,
            0.4490220823426971,
            0.4792765258278034,
            0.4792587257369645,
            0.4791469399708431,
            0.4597358149102915,
            0.4733405859783521,
            0.19705068691944788,
            0.44566648611125476,
            0.4769230894901342,
            0.30922186886246383,
            0.4356154043821694,
            0.4777374800039391,
            0.47872570161630124,
            0.4752752476408542,
            0.46793939652093763,
            -0.12964532505560605,
            0.47277793553426806,
            -5.103859875130049,
            0.4684142337272147,
            0.18694187016279878,
            0.46423031810055126,
            0.47564597692065647,
            0.48029854005889333,
            0.4746422507401714,
            0.45721004843241586,
            0.47395795325119494,
            0.47874708598224397,
            0.454232727020627,
            0.47777938155973504,
            0.45618765808937917,
            0.4220279267061359,
            0.4777668319279922,
            0.4763209889968877,
            0.47584795577507605,
            0.16842179560349657,
            0.47379794272093134,
            0.4792532125950223,
            0.1933331475521404,
            0.33736187020096453,
            0.4766529649917028,
            0.47643660986436903,
            0.4780270280043285,
            0.4791203535198337,
            0.47911099407517777,
            0.4786662324293681,
            0.4659313454836019,
            0.4674472760852012,
            0.46580626164156935,
            0.47645464949149174,
            -34.8415257982657
           ]
          },
          {
           "label": "C",
           "range": [
            -0.9899371881191177,
            1.9968462213353053
           ],
           "ticktext": [
            "0.102",
            "1",
            "10",
            "99.3"
           ],
           "tickvals": [
            -0.9899371881191177,
            0,
            1,
            1.9968462213353053
           ],
           "values": [
            1.83261725540285,
            -0.7464972673481877,
            0.8058858643791955,
            0.6239286408498033,
            -0.8317144939476352,
            1.7632616132264367,
            1.8421808377780047,
            0.7131889943941048,
            0.1962657217457204,
            -0.3147399295194943,
            0.03265630144687861,
            0.07441995437407047,
            0.06761059476524688,
            1.1722061545740186,
            0.13123326773102273,
            -0.3547292512929401,
            -0.4027553965823228,
            -0.4414037406834083,
            -0.49362329290162255,
            -0.5478058979884268,
            -0.9899371881191177,
            -0.3132404885940029,
            -0.1651875287146135,
            -0.07664931190328712,
            -0.10916313091128418,
            0.3922562260561879,
            -0.20138955493167968,
            0.3389497919291296,
            0.998981285031296,
            -0.7021131861835402,
            -0.19839406880540594,
            -0.1222552312960288,
            -0.6705646174213659,
            0.30718568345760094,
            -0.18360628985113553,
            0.5533724290343892,
            -0.8358320631004232,
            -0.6272569452763305,
            -0.9552870515670778,
            -0.06540685764952855,
            -0.22601385612195402,
            -0.24707336630967897,
            -0.3407122771837684,
            1.5288757174089425,
            -0.25318866378860183,
            0.21551164353686017,
            -0.5548770723579576,
            -0.3876126258166001,
            -0.005314144178297837,
            -0.29184966996550804,
            -0.8422570127299687,
            -0.23861672299955117,
            -0.299786480676002,
            -0.276217908247648,
            0.16536435243082714,
            -0.4676056655158082,
            0.06202810980053008,
            -0.5566280800691487,
            -0.3246315900483904,
            0.691347420633907,
            0.4515230409585483,
            -0.26101086626642617,
            -0.2709241494374636,
            -0.03193807146900151,
            -0.5158208058496259,
            1.9968462213353053,
            -0.44139586262710123,
            -0.2746958627895693,
            0.09384993370092395,
            -0.741278896288323,
            -0.6334923964749043,
            -0.11843904771044518,
            -0.24613914054701155,
            -0.4288247856487718,
            -0.20179954313149673,
            0.001546782114099665,
            -0.29626944755289353,
            0.269374108755122,
            -0.37754455211562327,
            -0.6046476353684676,
            -0.3759549292838515,
            -0.143043875195641,
            -0.10664289615866648,
            -0.3496213037130165,
            -0.15421716621131357,
            -0.48280131944504684,
            -0.3100108705796081,
            -0.39856208914561153,
            0.8555771613608625,
            -0.30145191656252573,
            -0.04753791090182061,
            -0.1995397100487171,
            -0.28821927756865784,
            -0.22363822562318686,
            -0.296331488422784,
            0.04463241045392754,
            -0.5431720277911889,
            -0.07512906378267037,
            -0.25179803638011333,
            1.3296024463339977
           ]
          },
          {
           "label": "degree",
           "range": [
            1,
            5
           ],
           "values": [
            3,
            4,
            2,
            5,
            4,
            3,
            3,
            5,
            3,
            5,
            1,
            1,
            1,
            2,
            2,
            1,
            4,
            4,
            4,
            4,
            4,
            4,
            4,
            5,
            5,
            5,
            5,
            4,
            5,
            3,
            3,
            5,
            5,
            4,
            5,
            4,
            5,
            4,
            5,
            4,
            5,
            5,
            5,
            5,
            5,
            3,
            4,
            5,
            2,
            4,
            5,
            4,
            3,
            3,
            3,
            2,
            3,
            3,
            3,
            2,
            3,
            3,
            3,
            3,
            3,
            3,
            3,
            3,
            3,
            2,
            3,
            4,
            3,
            3,
            3,
            3,
            2,
            1,
            2,
            2,
            2,
            2,
            2,
            2,
            2,
            2,
            2,
            1,
            4,
            2,
            4,
            2,
            2,
            2,
            1,
            2,
            2,
            4,
            2,
            3
           ]
          },
          {
           "label": "epsilon",
           "range": [
            -1.992181384477872,
            -0.09092936298453658
           ],
           "ticktext": [
            "0.0102",
            "0.1",
            "0.811"
           ],
           "tickvals": [
            -1.992181384477872,
            -1,
            -0.09092936298453658
           ],
           "values": [
            -0.17116129554365023,
            -1.5679971885336317,
            -0.432658426390801,
            -0.5178783074140992,
            -0.47382354274625627,
            -1.5316823071745724,
            -1.705317328399537,
            -0.9769974517703777,
            -1.2764368230475078,
            -1.9789717540424159,
            -1.0604169009546567,
            -1.109329812901167,
            -1.1259207169082819,
            -1.3243860899449342,
            -0.7964052080847779,
            -1.2764446116598498,
            -1.3928839751663784,
            -1.9412694491389209,
            -1.9294804861470332,
            -1.7459641361516192,
            -1.5107454423392706,
            -1.992181384477872,
            -1.8168533968698395,
            -1.7480117950589287,
            -1.76059974237681,
            -1.4062604087654873,
            -1.7303289058940448,
            -1.6024004263858713,
            -1.3977024631609631,
            -1.8202177903193941,
            -1.6414223511703552,
            -1.8107757062068772,
            -1.8609411591314424,
            -1.4829721908491516,
            -0.09092936298453658,
            -1.6803597677006297,
            -1.8420970111496224,
            -1.5822853795242182,
            -0.6958045858959997,
            -1.440250538950181,
            -1.625004845115335,
            -1.599800135458426,
            -0.2564677274711859,
            -1.1868617922641356,
            -1.6500206425441861,
            -1.6000426063092523,
            -1.3452387106010681,
            -1.2061994256207216,
            -0.8875347448054638,
            -1.4842901895723097,
            -1.4623046115991223,
            -1.5278789185334722,
            -1.5501098546967214,
            -1.5421443947857465,
            -1.556214236584206,
            -1.5216692934608465,
            -1.3233683307389428,
            -1.2154452506582025,
            -1.6928033200074308,
            -1.0130651644049697,
            -1.319904874780503,
            -1.6121265245146288,
            -1.5627708216231908,
            -1.5087605506170723,
            -1.8940332693325683,
            -1.4254533086086107,
            -1.6463840127884544,
            -1.7708106927710918,
            -1.5200601020548414,
            -1.6931373944009147,
            -1.3806108837185511,
            -1.589933430005815,
            -1.4713730062078874,
            -1.5574195754650493,
            -1.2500497935657762,
            -1.4481917902231762,
            -1.4962435315802363,
            -1.4969836115289572,
            -1.3829914447907266,
            -1.280906964553178,
            -1.1108667562239367,
            -1.3784516354792142,
            -1.3816063670924474,
            -1.3608343880042364,
            -1.4632657787160233,
            -1.4186024042603522,
            -1.5340096492160982,
            -1.5569066264257652,
            -1.7310314091499626,
            -1.663386806127422,
            -1.470801141460766,
            -1.5452245950821957,
            -1.539946997895469,
            -1.5264778333485225,
            -1.504542965706436,
            -1.7739936664254468,
            -1.6212190798552604,
            -1.2943185126143928,
            -1.7104705669989553,
            -1.5763361862651972
           ]
          },
          {
           "label": "kernel",
           "range": [
            0,
            2
           ],
           "ticktext": [
            "linear",
            "poly",
            "rbf"
           ],
           "tickvals": [
            0,
            1,
            2
           ],
           "values": [
            0,
            1,
            1,
            2,
            0,
            1,
            2,
            0,
            2,
            1,
            2,
            2,
            2,
            2,
            2,
            2,
            2,
            2,
            2,
            0,
            2,
            2,
            2,
            2,
            2,
            2,
            2,
            2,
            1,
            0,
            0,
            2,
            2,
            2,
            2,
            1,
            2,
            2,
            1,
            0,
            2,
            2,
            2,
            2,
            2,
            2,
            2,
            1,
            2,
            2,
            2,
            2,
            2,
            2,
            2,
            2,
            0,
            2,
            2,
            2,
            2,
            2,
            2,
            2,
            2,
            2,
            2,
            1,
            2,
            0,
            2,
            2,
            2,
            2,
            2,
            2,
            2,
            2,
            2,
            2,
            2,
            2,
            2,
            2,
            1,
            2,
            2,
            0,
            2,
            2,
            2,
            2,
            2,
            2,
            2,
            2,
            2,
            2,
            2,
            1
           ]
          }
         ],
         "labelangle": 30,
         "labelside": "bottom",
         "line": {
          "color": [
           -0.2121306234645751,
           -2.3074764916710064,
           -0.2121306234645751,
           -0.2121306234645751,
           -0.2121306234645751,
           -31.845020725130905,
           -0.2180934404511806,
           0.18416797387088832,
           0.4568708449113627,
           -681.4983958785731,
           0.399996315814018,
           0.4143333756425241,
           0.41994592121185914,
           0.25927927632078107,
           0.0011522626368184242,
           0.46066402540552887,
           0.4773981433843377,
           0.4680409523237385,
           0.4677868641222614,
           0.1868789326390378,
           0.442361419334365,
           0.4697995736020375,
           0.4773446335969558,
           0.4724076570602905,
           0.4744314190279484,
           0.4474970062454025,
           0.4762298768803796,
           0.44197818060691463,
           -1581.8042323904099,
           0.18301456370450908,
           0.19044512897839241,
           0.4762059052839813,
           0.46153694324478023,
           0.45259375256180157,
           -0.2121306234645751,
           -32.340202180440784,
           0.45282634294897484,
           0.461659343579014,
           -0.2121306234645751,
           0.1962337703920201,
           0.4777575258008625,
           0.4777206356605694,
           -0.2121306234645751,
           0.19113150092012593,
           0.47745350204480486,
           0.4522821887867118,
           0.4675421296477163,
           -116.00051772410498,
           0.2019538268273958,
           0.47915011562168514,
           0.4490220823426971,
           0.4792765258278034,
           0.4792587257369645,
           0.4791469399708431,
           0.4597358149102915,
           0.4733405859783521,
           0.19705068691944788,
           0.44566648611125476,
           0.4769230894901342,
           0.30922186886246383,
           0.4356154043821694,
           0.4777374800039391,
           0.47872570161630124,
           0.4752752476408542,
           0.46793939652093763,
           -0.12964532505560605,
           0.47277793553426806,
           -5.103859875130049,
           0.4684142337272147,
           0.18694187016279878,
           0.46423031810055126,
           0.47564597692065647,
           0.48029854005889333,
           0.4746422507401714,
           0.45721004843241586,
           0.47395795325119494,
           0.47874708598224397,
           0.454232727020627,
           0.47777938155973504,
           0.45618765808937917,
           0.4220279267061359,
           0.4777668319279922,
           0.4763209889968877,
           0.47584795577507605,
           0.16842179560349657,
           0.47379794272093134,
           0.4792532125950223,
           0.1933331475521404,
           0.33736187020096453,
           0.4766529649917028,
           0.47643660986436903,
           0.4780270280043285,
           0.4791203535198337,
           0.47911099407517777,
           0.4786662324293681,
           0.4659313454836019,
           0.4674472760852012,
           0.46580626164156935,
           0.47645464949149174,
           -34.8415257982657
          ],
          "colorbar": {
           "title": {
            "text": "Objective Value"
           }
          },
          "colorscale": [
           [
            0,
            "rgb(247,251,255)"
           ],
           [
            0.125,
            "rgb(222,235,247)"
           ],
           [
            0.25,
            "rgb(198,219,239)"
           ],
           [
            0.375,
            "rgb(158,202,225)"
           ],
           [
            0.5,
            "rgb(107,174,214)"
           ],
           [
            0.625,
            "rgb(66,146,198)"
           ],
           [
            0.75,
            "rgb(33,113,181)"
           ],
           [
            0.875,
            "rgb(8,81,156)"
           ],
           [
            1,
            "rgb(8,48,107)"
           ]
          ],
          "reversescale": false,
          "showscale": true
         },
         "type": "parcoords"
        }
       ],
       "layout": {
        "template": {
         "data": {
          "bar": [
           {
            "error_x": {
             "color": "#2a3f5f"
            },
            "error_y": {
             "color": "#2a3f5f"
            },
            "marker": {
             "line": {
              "color": "#E5ECF6",
              "width": 0.5
             },
             "pattern": {
              "fillmode": "overlay",
              "size": 10,
              "solidity": 0.2
             }
            },
            "type": "bar"
           }
          ],
          "barpolar": [
           {
            "marker": {
             "line": {
              "color": "#E5ECF6",
              "width": 0.5
             },
             "pattern": {
              "fillmode": "overlay",
              "size": 10,
              "solidity": 0.2
             }
            },
            "type": "barpolar"
           }
          ],
          "carpet": [
           {
            "aaxis": {
             "endlinecolor": "#2a3f5f",
             "gridcolor": "white",
             "linecolor": "white",
             "minorgridcolor": "white",
             "startlinecolor": "#2a3f5f"
            },
            "baxis": {
             "endlinecolor": "#2a3f5f",
             "gridcolor": "white",
             "linecolor": "white",
             "minorgridcolor": "white",
             "startlinecolor": "#2a3f5f"
            },
            "type": "carpet"
           }
          ],
          "choropleth": [
           {
            "colorbar": {
             "outlinewidth": 0,
             "ticks": ""
            },
            "type": "choropleth"
           }
          ],
          "contour": [
           {
            "colorbar": {
             "outlinewidth": 0,
             "ticks": ""
            },
            "colorscale": [
             [
              0,
              "#0d0887"
             ],
             [
              0.1111111111111111,
              "#46039f"
             ],
             [
              0.2222222222222222,
              "#7201a8"
             ],
             [
              0.3333333333333333,
              "#9c179e"
             ],
             [
              0.4444444444444444,
              "#bd3786"
             ],
             [
              0.5555555555555556,
              "#d8576b"
             ],
             [
              0.6666666666666666,
              "#ed7953"
             ],
             [
              0.7777777777777778,
              "#fb9f3a"
             ],
             [
              0.8888888888888888,
              "#fdca26"
             ],
             [
              1,
              "#f0f921"
             ]
            ],
            "type": "contour"
           }
          ],
          "contourcarpet": [
           {
            "colorbar": {
             "outlinewidth": 0,
             "ticks": ""
            },
            "type": "contourcarpet"
           }
          ],
          "heatmap": [
           {
            "colorbar": {
             "outlinewidth": 0,
             "ticks": ""
            },
            "colorscale": [
             [
              0,
              "#0d0887"
             ],
             [
              0.1111111111111111,
              "#46039f"
             ],
             [
              0.2222222222222222,
              "#7201a8"
             ],
             [
              0.3333333333333333,
              "#9c179e"
             ],
             [
              0.4444444444444444,
              "#bd3786"
             ],
             [
              0.5555555555555556,
              "#d8576b"
             ],
             [
              0.6666666666666666,
              "#ed7953"
             ],
             [
              0.7777777777777778,
              "#fb9f3a"
             ],
             [
              0.8888888888888888,
              "#fdca26"
             ],
             [
              1,
              "#f0f921"
             ]
            ],
            "type": "heatmap"
           }
          ],
          "heatmapgl": [
           {
            "colorbar": {
             "outlinewidth": 0,
             "ticks": ""
            },
            "colorscale": [
             [
              0,
              "#0d0887"
             ],
             [
              0.1111111111111111,
              "#46039f"
             ],
             [
              0.2222222222222222,
              "#7201a8"
             ],
             [
              0.3333333333333333,
              "#9c179e"
             ],
             [
              0.4444444444444444,
              "#bd3786"
             ],
             [
              0.5555555555555556,
              "#d8576b"
             ],
             [
              0.6666666666666666,
              "#ed7953"
             ],
             [
              0.7777777777777778,
              "#fb9f3a"
             ],
             [
              0.8888888888888888,
              "#fdca26"
             ],
             [
              1,
              "#f0f921"
             ]
            ],
            "type": "heatmapgl"
           }
          ],
          "histogram": [
           {
            "marker": {
             "pattern": {
              "fillmode": "overlay",
              "size": 10,
              "solidity": 0.2
             }
            },
            "type": "histogram"
           }
          ],
          "histogram2d": [
           {
            "colorbar": {
             "outlinewidth": 0,
             "ticks": ""
            },
            "colorscale": [
             [
              0,
              "#0d0887"
             ],
             [
              0.1111111111111111,
              "#46039f"
             ],
             [
              0.2222222222222222,
              "#7201a8"
             ],
             [
              0.3333333333333333,
              "#9c179e"
             ],
             [
              0.4444444444444444,
              "#bd3786"
             ],
             [
              0.5555555555555556,
              "#d8576b"
             ],
             [
              0.6666666666666666,
              "#ed7953"
             ],
             [
              0.7777777777777778,
              "#fb9f3a"
             ],
             [
              0.8888888888888888,
              "#fdca26"
             ],
             [
              1,
              "#f0f921"
             ]
            ],
            "type": "histogram2d"
           }
          ],
          "histogram2dcontour": [
           {
            "colorbar": {
             "outlinewidth": 0,
             "ticks": ""
            },
            "colorscale": [
             [
              0,
              "#0d0887"
             ],
             [
              0.1111111111111111,
              "#46039f"
             ],
             [
              0.2222222222222222,
              "#7201a8"
             ],
             [
              0.3333333333333333,
              "#9c179e"
             ],
             [
              0.4444444444444444,
              "#bd3786"
             ],
             [
              0.5555555555555556,
              "#d8576b"
             ],
             [
              0.6666666666666666,
              "#ed7953"
             ],
             [
              0.7777777777777778,
              "#fb9f3a"
             ],
             [
              0.8888888888888888,
              "#fdca26"
             ],
             [
              1,
              "#f0f921"
             ]
            ],
            "type": "histogram2dcontour"
           }
          ],
          "mesh3d": [
           {
            "colorbar": {
             "outlinewidth": 0,
             "ticks": ""
            },
            "type": "mesh3d"
           }
          ],
          "parcoords": [
           {
            "line": {
             "colorbar": {
              "outlinewidth": 0,
              "ticks": ""
             }
            },
            "type": "parcoords"
           }
          ],
          "pie": [
           {
            "automargin": true,
            "type": "pie"
           }
          ],
          "scatter": [
           {
            "marker": {
             "colorbar": {
              "outlinewidth": 0,
              "ticks": ""
             }
            },
            "type": "scatter"
           }
          ],
          "scatter3d": [
           {
            "line": {
             "colorbar": {
              "outlinewidth": 0,
              "ticks": ""
             }
            },
            "marker": {
             "colorbar": {
              "outlinewidth": 0,
              "ticks": ""
             }
            },
            "type": "scatter3d"
           }
          ],
          "scattercarpet": [
           {
            "marker": {
             "colorbar": {
              "outlinewidth": 0,
              "ticks": ""
             }
            },
            "type": "scattercarpet"
           }
          ],
          "scattergeo": [
           {
            "marker": {
             "colorbar": {
              "outlinewidth": 0,
              "ticks": ""
             }
            },
            "type": "scattergeo"
           }
          ],
          "scattergl": [
           {
            "marker": {
             "colorbar": {
              "outlinewidth": 0,
              "ticks": ""
             }
            },
            "type": "scattergl"
           }
          ],
          "scattermapbox": [
           {
            "marker": {
             "colorbar": {
              "outlinewidth": 0,
              "ticks": ""
             }
            },
            "type": "scattermapbox"
           }
          ],
          "scatterpolar": [
           {
            "marker": {
             "colorbar": {
              "outlinewidth": 0,
              "ticks": ""
             }
            },
            "type": "scatterpolar"
           }
          ],
          "scatterpolargl": [
           {
            "marker": {
             "colorbar": {
              "outlinewidth": 0,
              "ticks": ""
             }
            },
            "type": "scatterpolargl"
           }
          ],
          "scatterternary": [
           {
            "marker": {
             "colorbar": {
              "outlinewidth": 0,
              "ticks": ""
             }
            },
            "type": "scatterternary"
           }
          ],
          "surface": [
           {
            "colorbar": {
             "outlinewidth": 0,
             "ticks": ""
            },
            "colorscale": [
             [
              0,
              "#0d0887"
             ],
             [
              0.1111111111111111,
              "#46039f"
             ],
             [
              0.2222222222222222,
              "#7201a8"
             ],
             [
              0.3333333333333333,
              "#9c179e"
             ],
             [
              0.4444444444444444,
              "#bd3786"
             ],
             [
              0.5555555555555556,
              "#d8576b"
             ],
             [
              0.6666666666666666,
              "#ed7953"
             ],
             [
              0.7777777777777778,
              "#fb9f3a"
             ],
             [
              0.8888888888888888,
              "#fdca26"
             ],
             [
              1,
              "#f0f921"
             ]
            ],
            "type": "surface"
           }
          ],
          "table": [
           {
            "cells": {
             "fill": {
              "color": "#EBF0F8"
             },
             "line": {
              "color": "white"
             }
            },
            "header": {
             "fill": {
              "color": "#C8D4E3"
             },
             "line": {
              "color": "white"
             }
            },
            "type": "table"
           }
          ]
         },
         "layout": {
          "annotationdefaults": {
           "arrowcolor": "#2a3f5f",
           "arrowhead": 0,
           "arrowwidth": 1
          },
          "autotypenumbers": "strict",
          "coloraxis": {
           "colorbar": {
            "outlinewidth": 0,
            "ticks": ""
           }
          },
          "colorscale": {
           "diverging": [
            [
             0,
             "#8e0152"
            ],
            [
             0.1,
             "#c51b7d"
            ],
            [
             0.2,
             "#de77ae"
            ],
            [
             0.3,
             "#f1b6da"
            ],
            [
             0.4,
             "#fde0ef"
            ],
            [
             0.5,
             "#f7f7f7"
            ],
            [
             0.6,
             "#e6f5d0"
            ],
            [
             0.7,
             "#b8e186"
            ],
            [
             0.8,
             "#7fbc41"
            ],
            [
             0.9,
             "#4d9221"
            ],
            [
             1,
             "#276419"
            ]
           ],
           "sequential": [
            [
             0,
             "#0d0887"
            ],
            [
             0.1111111111111111,
             "#46039f"
            ],
            [
             0.2222222222222222,
             "#7201a8"
            ],
            [
             0.3333333333333333,
             "#9c179e"
            ],
            [
             0.4444444444444444,
             "#bd3786"
            ],
            [
             0.5555555555555556,
             "#d8576b"
            ],
            [
             0.6666666666666666,
             "#ed7953"
            ],
            [
             0.7777777777777778,
             "#fb9f3a"
            ],
            [
             0.8888888888888888,
             "#fdca26"
            ],
            [
             1,
             "#f0f921"
            ]
           ],
           "sequentialminus": [
            [
             0,
             "#0d0887"
            ],
            [
             0.1111111111111111,
             "#46039f"
            ],
            [
             0.2222222222222222,
             "#7201a8"
            ],
            [
             0.3333333333333333,
             "#9c179e"
            ],
            [
             0.4444444444444444,
             "#bd3786"
            ],
            [
             0.5555555555555556,
             "#d8576b"
            ],
            [
             0.6666666666666666,
             "#ed7953"
            ],
            [
             0.7777777777777778,
             "#fb9f3a"
            ],
            [
             0.8888888888888888,
             "#fdca26"
            ],
            [
             1,
             "#f0f921"
            ]
           ]
          },
          "colorway": [
           "#636efa",
           "#EF553B",
           "#00cc96",
           "#ab63fa",
           "#FFA15A",
           "#19d3f3",
           "#FF6692",
           "#B6E880",
           "#FF97FF",
           "#FECB52"
          ],
          "font": {
           "color": "#2a3f5f"
          },
          "geo": {
           "bgcolor": "white",
           "lakecolor": "white",
           "landcolor": "#E5ECF6",
           "showlakes": true,
           "showland": true,
           "subunitcolor": "white"
          },
          "hoverlabel": {
           "align": "left"
          },
          "hovermode": "closest",
          "mapbox": {
           "style": "light"
          },
          "paper_bgcolor": "white",
          "plot_bgcolor": "#E5ECF6",
          "polar": {
           "angularaxis": {
            "gridcolor": "white",
            "linecolor": "white",
            "ticks": ""
           },
           "bgcolor": "#E5ECF6",
           "radialaxis": {
            "gridcolor": "white",
            "linecolor": "white",
            "ticks": ""
           }
          },
          "scene": {
           "xaxis": {
            "backgroundcolor": "#E5ECF6",
            "gridcolor": "white",
            "gridwidth": 2,
            "linecolor": "white",
            "showbackground": true,
            "ticks": "",
            "zerolinecolor": "white"
           },
           "yaxis": {
            "backgroundcolor": "#E5ECF6",
            "gridcolor": "white",
            "gridwidth": 2,
            "linecolor": "white",
            "showbackground": true,
            "ticks": "",
            "zerolinecolor": "white"
           },
           "zaxis": {
            "backgroundcolor": "#E5ECF6",
            "gridcolor": "white",
            "gridwidth": 2,
            "linecolor": "white",
            "showbackground": true,
            "ticks": "",
            "zerolinecolor": "white"
           }
          },
          "shapedefaults": {
           "line": {
            "color": "#2a3f5f"
           }
          },
          "ternary": {
           "aaxis": {
            "gridcolor": "white",
            "linecolor": "white",
            "ticks": ""
           },
           "baxis": {
            "gridcolor": "white",
            "linecolor": "white",
            "ticks": ""
           },
           "bgcolor": "#E5ECF6",
           "caxis": {
            "gridcolor": "white",
            "linecolor": "white",
            "ticks": ""
           }
          },
          "title": {
           "x": 0.05
          },
          "xaxis": {
           "automargin": true,
           "gridcolor": "white",
           "linecolor": "white",
           "ticks": "",
           "title": {
            "standoff": 15
           },
           "zerolinecolor": "white",
           "zerolinewidth": 2
          },
          "yaxis": {
           "automargin": true,
           "gridcolor": "white",
           "linecolor": "white",
           "ticks": "",
           "title": {
            "standoff": 15
           },
           "zerolinecolor": "white",
           "zerolinewidth": 2
          }
         }
        },
        "title": {
         "text": "Parallel Coordinate Plot"
        }
       }
      }
     },
     "metadata": {},
     "output_type": "display_data"
    }
   ],
   "source": [
    "optuna.visualization.plot_parallel_coordinate(study)"
   ]
  },
  {
   "cell_type": "code",
   "execution_count": 38,
   "id": "281574d0",
   "metadata": {},
   "outputs": [
    {
     "name": "stdout",
     "output_type": "stream",
     "text": [
      "Best trial: {'C': 0.5673628029187258, 'epsilon': 0.03377746042299544, 'kernel': 'rbf', 'degree': 3}\n"
     ]
    }
   ],
   "source": [
    "print(\"Best trial:\", study.best_trial.params)"
   ]
  },
  {
   "cell_type": "code",
   "execution_count": 39,
   "id": "3b45adad",
   "metadata": {},
   "outputs": [
    {
     "data": {
      "text/html": [
       "<style>#sk-container-id-2 {color: black;}#sk-container-id-2 pre{padding: 0;}#sk-container-id-2 div.sk-toggleable {background-color: white;}#sk-container-id-2 label.sk-toggleable__label {cursor: pointer;display: block;width: 100%;margin-bottom: 0;padding: 0.3em;box-sizing: border-box;text-align: center;}#sk-container-id-2 label.sk-toggleable__label-arrow:before {content: \"▸\";float: left;margin-right: 0.25em;color: #696969;}#sk-container-id-2 label.sk-toggleable__label-arrow:hover:before {color: black;}#sk-container-id-2 div.sk-estimator:hover label.sk-toggleable__label-arrow:before {color: black;}#sk-container-id-2 div.sk-toggleable__content {max-height: 0;max-width: 0;overflow: hidden;text-align: left;background-color: #f0f8ff;}#sk-container-id-2 div.sk-toggleable__content pre {margin: 0.2em;color: black;border-radius: 0.25em;background-color: #f0f8ff;}#sk-container-id-2 input.sk-toggleable__control:checked~div.sk-toggleable__content {max-height: 200px;max-width: 100%;overflow: auto;}#sk-container-id-2 input.sk-toggleable__control:checked~label.sk-toggleable__label-arrow:before {content: \"▾\";}#sk-container-id-2 div.sk-estimator input.sk-toggleable__control:checked~label.sk-toggleable__label {background-color: #d4ebff;}#sk-container-id-2 div.sk-label input.sk-toggleable__control:checked~label.sk-toggleable__label {background-color: #d4ebff;}#sk-container-id-2 input.sk-hidden--visually {border: 0;clip: rect(1px 1px 1px 1px);clip: rect(1px, 1px, 1px, 1px);height: 1px;margin: -1px;overflow: hidden;padding: 0;position: absolute;width: 1px;}#sk-container-id-2 div.sk-estimator {font-family: monospace;background-color: #f0f8ff;border: 1px dotted black;border-radius: 0.25em;box-sizing: border-box;margin-bottom: 0.5em;}#sk-container-id-2 div.sk-estimator:hover {background-color: #d4ebff;}#sk-container-id-2 div.sk-parallel-item::after {content: \"\";width: 100%;border-bottom: 1px solid gray;flex-grow: 1;}#sk-container-id-2 div.sk-label:hover label.sk-toggleable__label {background-color: #d4ebff;}#sk-container-id-2 div.sk-serial::before {content: \"\";position: absolute;border-left: 1px solid gray;box-sizing: border-box;top: 0;bottom: 0;left: 50%;z-index: 0;}#sk-container-id-2 div.sk-serial {display: flex;flex-direction: column;align-items: center;background-color: white;padding-right: 0.2em;padding-left: 0.2em;position: relative;}#sk-container-id-2 div.sk-item {position: relative;z-index: 1;}#sk-container-id-2 div.sk-parallel {display: flex;align-items: stretch;justify-content: center;background-color: white;position: relative;}#sk-container-id-2 div.sk-item::before, #sk-container-id-2 div.sk-parallel-item::before {content: \"\";position: absolute;border-left: 1px solid gray;box-sizing: border-box;top: 0;bottom: 0;left: 50%;z-index: -1;}#sk-container-id-2 div.sk-parallel-item {display: flex;flex-direction: column;z-index: 1;position: relative;background-color: white;}#sk-container-id-2 div.sk-parallel-item:first-child::after {align-self: flex-end;width: 50%;}#sk-container-id-2 div.sk-parallel-item:last-child::after {align-self: flex-start;width: 50%;}#sk-container-id-2 div.sk-parallel-item:only-child::after {width: 0;}#sk-container-id-2 div.sk-dashed-wrapped {border: 1px dashed gray;margin: 0 0.4em 0.5em 0.4em;box-sizing: border-box;padding-bottom: 0.4em;background-color: white;}#sk-container-id-2 div.sk-label label {font-family: monospace;font-weight: bold;display: inline-block;line-height: 1.2em;}#sk-container-id-2 div.sk-label-container {text-align: center;}#sk-container-id-2 div.sk-container {/* jupyter's `normalize.less` sets `[hidden] { display: none; }` but bootstrap.min.css set `[hidden] { display: none !important; }` so we also need the `!important` here to be able to override the default hidden behavior on the sphinx rendered scikit-learn.org. See: https://github.com/scikit-learn/scikit-learn/issues/21755 */display: inline-block !important;position: relative;}#sk-container-id-2 div.sk-text-repr-fallback {display: none;}</style><div id=\"sk-container-id-2\" class=\"sk-top-container\"><div class=\"sk-text-repr-fallback\"><pre>SVR(C=0.5673628029187258, epsilon=0.03377746042299544)</pre><b>In a Jupyter environment, please rerun this cell to show the HTML representation or trust the notebook. <br />On GitHub, the HTML representation is unable to render, please try loading this page with nbviewer.org.</b></div><div class=\"sk-container\" hidden><div class=\"sk-item\"><div class=\"sk-estimator sk-toggleable\"><input class=\"sk-toggleable__control sk-hidden--visually\" id=\"sk-estimator-id-2\" type=\"checkbox\" checked><label for=\"sk-estimator-id-2\" class=\"sk-toggleable__label sk-toggleable__label-arrow\">SVR</label><div class=\"sk-toggleable__content\"><pre>SVR(C=0.5673628029187258, epsilon=0.03377746042299544)</pre></div></div></div></div></div>"
      ],
      "text/plain": [
       "SVR(C=0.5673628029187258, epsilon=0.03377746042299544)"
      ]
     },
     "execution_count": 39,
     "metadata": {},
     "output_type": "execute_result"
    }
   ],
   "source": [
    "svm_params = {\n",
    "    \"C\": study.best_trial.params[\"C\"],\n",
    "    \"epsilon\": study.best_trial.params[\"epsilon\"],\n",
    "    \"kernel\": study.best_trial.params[\"kernel\"],\n",
    "    \"degree\": study.best_trial.params[\"degree\"]\n",
    "}\n",
    "\n",
    "svm = SVR(**svm_params)\n",
    "svm.fit(Cd_X_train, Cd_y_train)"
   ]
  },
  {
   "cell_type": "code",
   "execution_count": 40,
   "id": "9ab1055b",
   "metadata": {},
   "outputs": [],
   "source": [
    "y_train_pred = svm.predict(Cd_X_train)\n",
    "y_test_pred = svm.predict(Cd_X_test)"
   ]
  },
  {
   "cell_type": "code",
   "execution_count": 41,
   "id": "425b4001",
   "metadata": {},
   "outputs": [
    {
     "name": "stdout",
     "output_type": "stream",
     "text": [
      "Train RMSE:  0.04878139561835716\n",
      "Test RMSE:  0.05545454583358325\n"
     ]
    }
   ],
   "source": [
    "print(\"Train RMSE: \", np.sqrt(mean_squared_error(Cd_y_train, y_train_pred)))\n",
    "print(\"Test RMSE: \", np.sqrt(mean_squared_error(Cd_y_test, y_test_pred)))"
   ]
  },
  {
   "cell_type": "code",
   "execution_count": 42,
   "id": "0f95ae3c",
   "metadata": {},
   "outputs": [
    {
     "name": "stdout",
     "output_type": "stream",
     "text": [
      "Train R2:  0.680696455533765\n",
      "Test R2:  0.573430035303507\n"
     ]
    }
   ],
   "source": [
    "print(\"Train R2: \", r2_score(Cd_y_train, y_train_pred))\n",
    "print(\"Test R2: \", r2_score(Cd_y_test, y_test_pred))"
   ]
  },
  {
   "cell_type": "code",
   "execution_count": 43,
   "id": "a2ac1a1f",
   "metadata": {},
   "outputs": [
    {
     "data": {
      "image/png": "[encoded data removed]",
      "text/plain": [
       "<Figure size 640x480 with 1 Axes>"
      ]
     },
     "metadata": {},
     "output_type": "display_data"
    }
   ],
   "source": [
    "plt.scatter(y_train_pred, np.array(Cd_y_train), color=\"orange\", alpha=0.3)\n",
    "plt.scatter(y_test_pred, np.array(Cd_y_test), color=\"green\", alpha=0.4)\n",
    "plt.axis(\"auto\") # scaled, tight, auto, image, square\n",
    "# plt.xlim([0, 1.5]) \n",
    "# plt.ylim(0, None) \n",
    "plt.xlabel('Predicted Values')\n",
    "plt.ylabel('Actual Values')\n",
    "\n",
    "# Add y=x line\n",
    "plt.plot([0, 0.5], [0, 0.5], color='red', linestyle='-')\n",
    "\n",
    "plt.show()"
   ]
  },
  {
   "attachments": {},
   "cell_type": "markdown",
   "id": "74f680ea",
   "metadata": {},
   "source": [
    "Ni"
   ]
  },
  {
   "cell_type": "code",
   "execution_count": 44,
   "id": "de233338",
   "metadata": {},
   "outputs": [
    {
     "name": "stderr",
     "output_type": "stream",
     "text": [
      "\u001b[32m[I 2023-08-30 16:51:25,632]\u001b[0m A new study created in memory with name: svm_parameter_opt\u001b[0m\n",
      "\u001b[32m[I 2023-08-30 16:51:25,818]\u001b[0m Trial 0 finished with value: 0.5524060030538547 and parameters: {'C': 0.16703854817887764, 'epsilon': 0.02556018062028628, 'kernel': 'rbf', 'degree': 5}. Best is trial 0 with value: 0.5524060030538547.\u001b[0m\n",
      "\u001b[32m[I 2023-08-30 16:51:25,936]\u001b[0m Trial 1 finished with value: 0.3953404875672772 and parameters: {'C': 0.2680755159359281, 'epsilon': 0.06494022581641562, 'kernel': 'poly', 'degree': 1}. Best is trial 0 with value: 0.5524060030538547.\u001b[0m\n",
      "\u001b[32m[I 2023-08-30 16:51:26,132]\u001b[0m Trial 2 finished with value: 0.7131858829879818 and parameters: {'C': 7.1361257641660645, 'epsilon': 0.12508956469671723, 'kernel': 'rbf', 'degree': 1}. Best is trial 2 with value: 0.7131858829879818.\u001b[0m\n",
      "\u001b[32m[I 2023-08-30 16:51:26,365]\u001b[0m Trial 3 finished with value: -16.615090139802522 and parameters: {'C': 25.92747959811974, 'epsilon': 0.2795578704098425, 'kernel': 'poly', 'degree': 5}. Best is trial 2 with value: 0.7131858829879818.\u001b[0m\n",
      "\u001b[32m[I 2023-08-30 16:51:26,539]\u001b[0m Trial 4 finished with value: 0.6747431651095155 and parameters: {'C': 1.5490896877583256, 'epsilon': 0.09480079732247314, 'kernel': 'rbf', 'degree': 2}. Best is trial 2 with value: 0.7131858829879818.\u001b[0m\n",
      "\u001b[32m[I 2023-08-30 16:51:26,682]\u001b[0m Trial 5 finished with value: 0.6406223369590547 and parameters: {'C': 0.7578841828141125, 'epsilon': 0.14642397367562318, 'kernel': 'rbf', 'degree': 5}. Best is trial 2 with value: 0.7131858829879818.\u001b[0m\n",
      "\u001b[32m[I 2023-08-30 16:51:26,988]\u001b[0m Trial 6 finished with value: -3.839720156239278 and parameters: {'C': 39.93475342873833, 'epsilon': 0.35831076375566223, 'kernel': 'poly', 'degree': 4}. Best is trial 2 with value: 0.7131858829879818.\u001b[0m\n",
      "\u001b[32m[I 2023-08-30 16:51:27,118]\u001b[0m Trial 7 finished with value: 0.4978136495885602 and parameters: {'C': 0.42953984318081945, 'epsilon': 0.07911320526720308, 'kernel': 'poly', 'degree': 3}. Best is trial 2 with value: 0.7131858829879818.\u001b[0m\n",
      "\u001b[32m[I 2023-08-30 16:51:27,354]\u001b[0m Trial 8 finished with value: 0.7020484257873523 and parameters: {'C': 13.381097253472623, 'epsilon': 0.1270371267066205, 'kernel': 'rbf', 'degree': 2}. Best is trial 2 with value: 0.7131858829879818.\u001b[0m\n",
      "\u001b[32m[I 2023-08-30 16:51:27,489]\u001b[0m Trial 9 finished with value: 0.07843484884635639 and parameters: {'C': 0.11318733797580159, 'epsilon': 0.0781739678585787, 'kernel': 'poly', 'degree': 5}. Best is trial 2 with value: 0.7131858829879818.\u001b[0m\n",
      "\u001b[32m[I 2023-08-30 16:51:27,858]\u001b[0m Trial 10 finished with value: 0.40706338895845207 and parameters: {'C': 5.932963814547611, 'epsilon': 0.9369513807511075, 'kernel': 'linear', 'degree': 1}. Best is trial 2 with value: 0.7131858829879818.\u001b[0m\n",
      "\u001b[32m[I 2023-08-30 16:51:28,124]\u001b[0m Trial 11 finished with value: 0.7074585942129984 and parameters: {'C': 6.21885439379294, 'epsilon': 0.025662424710199284, 'kernel': 'rbf', 'degree': 2}. Best is trial 2 with value: 0.7131858829879818.\u001b[0m\n",
      "\u001b[32m[I 2023-08-30 16:51:28,380]\u001b[0m Trial 12 finished with value: 0.7032050772549876 and parameters: {'C': 4.349593368492497, 'epsilon': 0.010086531583161858, 'kernel': 'rbf', 'degree': 2}. Best is trial 2 with value: 0.7131858829879818.\u001b[0m\n",
      "\u001b[32m[I 2023-08-30 16:51:30,259]\u001b[0m Trial 13 finished with value: 0.4200034762078202 and parameters: {'C': 11.767264807228273, 'epsilon': 0.036804675977423186, 'kernel': 'linear', 'degree': 1}. Best is trial 2 with value: 0.7131858829879818.\u001b[0m\n",
      "\u001b[32m[I 2023-08-30 16:51:31,468]\u001b[0m Trial 14 finished with value: 0.6356577237502703 and parameters: {'C': 99.61251220835716, 'epsilon': 0.010865984568697348, 'kernel': 'rbf', 'degree': 3}. Best is trial 2 with value: 0.7131858829879818.\u001b[0m\n",
      "\u001b[32m[I 2023-08-30 16:51:31,675]\u001b[0m Trial 15 finished with value: 0.6777387334004688 and parameters: {'C': 1.61968402639099, 'epsilon': 0.027937660431138035, 'kernel': 'rbf', 'degree': 2}. Best is trial 2 with value: 0.7131858829879818.\u001b[0m\n",
      "\u001b[32m[I 2023-08-30 16:51:31,816]\u001b[0m Trial 16 finished with value: 0.6943398060253688 and parameters: {'C': 2.341310685728939, 'epsilon': 0.2575133977550404, 'kernel': 'rbf', 'degree': 1}. Best is trial 2 with value: 0.7131858829879818.\u001b[0m\n",
      "\u001b[32m[I 2023-08-30 16:51:33,280]\u001b[0m Trial 17 finished with value: 0.41654369141423164 and parameters: {'C': 9.408366675851264, 'epsilon': 0.04196471819993343, 'kernel': 'linear', 'degree': 2}. Best is trial 2 with value: 0.7131858829879818.\u001b[0m\n",
      "\u001b[32m[I 2023-08-30 16:51:33,817]\u001b[0m Trial 18 finished with value: 0.6803420572824652 and parameters: {'C': 33.76737399677145, 'epsilon': 0.01722127998335674, 'kernel': 'rbf', 'degree': 3}. Best is trial 2 with value: 0.7131858829879818.\u001b[0m\n",
      "\u001b[32m[I 2023-08-30 16:51:33,989]\u001b[0m Trial 19 finished with value: 0.7039228602526448 and parameters: {'C': 3.9304684695675216, 'epsilon': 0.1862465682309676, 'kernel': 'rbf', 'degree': 4}. Best is trial 2 with value: 0.7131858829879818.\u001b[0m\n",
      "\u001b[32m[I 2023-08-30 16:51:34,134]\u001b[0m Trial 20 finished with value: 0.42954491200947265 and parameters: {'C': 0.7617180995103623, 'epsilon': 0.6708925702665313, 'kernel': 'linear', 'degree': 1}. Best is trial 2 with value: 0.7131858829879818.\u001b[0m\n",
      "\u001b[32m[I 2023-08-30 16:51:34,301]\u001b[0m Trial 21 finished with value: 0.7029298033536829 and parameters: {'C': 3.7770593091490126, 'epsilon': 0.1728988133111155, 'kernel': 'rbf', 'degree': 4}. Best is trial 2 with value: 0.7131858829879818.\u001b[0m\n",
      "\u001b[32m[I 2023-08-30 16:51:34,419]\u001b[0m Trial 22 finished with value: 0.70639373863689 and parameters: {'C': 7.176406177946905, 'epsilon': 0.450127825920347, 'kernel': 'rbf', 'degree': 4}. Best is trial 2 with value: 0.7131858829879818.\u001b[0m\n",
      "\u001b[32m[I 2023-08-30 16:51:34,528]\u001b[0m Trial 23 finished with value: 0.6994916377435695 and parameters: {'C': 8.557357922123831, 'epsilon': 0.5430794623487423, 'kernel': 'rbf', 'degree': 3}. Best is trial 2 with value: 0.7131858829879818.\u001b[0m\n",
      "\u001b[32m[I 2023-08-30 16:51:34,662]\u001b[0m Trial 24 finished with value: 0.7135754839130117 and parameters: {'C': 19.28605971971253, 'epsilon': 0.4609339150948, 'kernel': 'rbf', 'degree': 4}. Best is trial 24 with value: 0.7135754839130117.\u001b[0m\n",
      "\u001b[32m[I 2023-08-30 16:51:35,364]\u001b[0m Trial 25 finished with value: 0.667060726725062 and parameters: {'C': 61.2356577537173, 'epsilon': 0.04815907367812124, 'kernel': 'rbf', 'degree': 2}. Best is trial 24 with value: 0.7135754839130117.\u001b[0m\n",
      "\u001b[32m[I 2023-08-30 16:51:35,781]\u001b[0m Trial 26 finished with value: 0.6900304767921364 and parameters: {'C': 19.997388176540536, 'epsilon': 0.016811515783051127, 'kernel': 'rbf', 'degree': 3}. Best is trial 24 with value: 0.7135754839130117.\u001b[0m\n",
      "\u001b[32m[I 2023-08-30 16:51:35,977]\u001b[0m Trial 27 finished with value: 0.7069431817392252 and parameters: {'C': 18.610313774448308, 'epsilon': 0.24711007003007743, 'kernel': 'rbf', 'degree': 1}. Best is trial 24 with value: 0.7135754839130117.\u001b[0m\n",
      "\u001b[32m[I 2023-08-30 16:51:36,178]\u001b[0m Trial 28 finished with value: 0.6925764815617793 and parameters: {'C': 2.55088199915139, 'epsilon': 0.05559068378815951, 'kernel': 'rbf', 'degree': 4}. Best is trial 24 with value: 0.7135754839130117.\u001b[0m\n",
      "\u001b[32m[I 2023-08-30 16:51:38,367]\u001b[0m Trial 29 finished with value: 0.4233638964940424 and parameters: {'C': 14.238650598891192, 'epsilon': 0.02913136762357602, 'kernel': 'linear', 'degree': 2}. Best is trial 24 with value: 0.7135754839130117.\u001b[0m\n",
      "\u001b[32m[I 2023-08-30 16:51:38,565]\u001b[0m Trial 30 finished with value: 0.7122673772850491 and parameters: {'C': 5.956412194580087, 'epsilon': 0.12346179035810904, 'kernel': 'rbf', 'degree': 1}. Best is trial 24 with value: 0.7135754839130117.\u001b[0m\n",
      "\u001b[32m[I 2023-08-30 16:51:38,764]\u001b[0m Trial 31 finished with value: 0.7131400559166705 and parameters: {'C': 6.769554669967956, 'epsilon': 0.12228886545106463, 'kernel': 'rbf', 'degree': 1}. Best is trial 24 with value: 0.7135754839130117.\u001b[0m\n",
      "\u001b[32m[I 2023-08-30 16:51:38,960]\u001b[0m Trial 32 finished with value: 0.7116828535653059 and parameters: {'C': 5.359743477328236, 'epsilon': 0.11344518680689077, 'kernel': 'rbf', 'degree': 1}. Best is trial 24 with value: 0.7135754839130117.\u001b[0m\n",
      "\u001b[32m[I 2023-08-30 16:51:39,202]\u001b[0m Trial 33 finished with value: 0.6988433905261846 and parameters: {'C': 23.15303127276086, 'epsilon': 0.19767447106140174, 'kernel': 'rbf', 'degree': 1}. Best is trial 24 with value: 0.7135754839130117.\u001b[0m\n",
      "\u001b[32m[I 2023-08-30 16:51:39,389]\u001b[0m Trial 34 finished with value: 0.6752925070581519 and parameters: {'C': 1.5692070298639114, 'epsilon': 0.09418351348211401, 'kernel': 'rbf', 'degree': 1}. Best is trial 24 with value: 0.7135754839130117.\u001b[0m\n",
      "\u001b[32m[I 2023-08-30 16:51:39,503]\u001b[0m Trial 35 finished with value: 0.41185103091688086 and parameters: {'C': 2.8117427072355445, 'epsilon': 0.37370874146397504, 'kernel': 'poly', 'degree': 1}. Best is trial 24 with value: 0.7135754839130117.\u001b[0m\n",
      "\u001b[32m[I 2023-08-30 16:51:39,834]\u001b[0m Trial 36 finished with value: 0.6879817323369496 and parameters: {'C': 40.57850756692663, 'epsilon': 0.15416622733787752, 'kernel': 'rbf', 'degree': 5}. Best is trial 24 with value: 0.7135754839130117.\u001b[0m\n",
      "\u001b[32m[I 2023-08-30 16:51:40,092]\u001b[0m Trial 37 finished with value: 0.4027228718303813 and parameters: {'C': 9.483840224543345, 'epsilon': 0.06836285057441104, 'kernel': 'poly', 'degree': 1}. Best is trial 24 with value: 0.7135754839130117.\u001b[0m\n",
      "\u001b[32m[I 2023-08-30 16:51:40,256]\u001b[0m Trial 38 finished with value: 0.7116400452597752 and parameters: {'C': 16.089625108494275, 'epsilon': 0.3184267962113521, 'kernel': 'rbf', 'degree': 1}. Best is trial 24 with value: 0.7135754839130117.\u001b[0m\n",
      "\u001b[32m[I 2023-08-30 16:51:40,414]\u001b[0m Trial 39 finished with value: 0.6370498989516014 and parameters: {'C': 0.7302368679183245, 'epsilon': 0.10675667160625404, 'kernel': 'rbf', 'degree': 2}. Best is trial 24 with value: 0.7135754839130117.\u001b[0m\n",
      "\u001b[32m[I 2023-08-30 16:51:40,839]\u001b[0m Trial 40 finished with value: -27.30869142600563 and parameters: {'C': 30.493060545407328, 'epsilon': 0.1371448657291273, 'kernel': 'poly', 'degree': 5}. Best is trial 24 with value: 0.7135754839130117.\u001b[0m\n",
      "\u001b[32m[I 2023-08-30 16:51:41,032]\u001b[0m Trial 41 finished with value: 0.7109923924955435 and parameters: {'C': 5.061428610253872, 'epsilon': 0.11240060334529581, 'kernel': 'rbf', 'degree': 1}. Best is trial 24 with value: 0.7135754839130117.\u001b[0m\n",
      "\u001b[32m[I 2023-08-30 16:51:41,214]\u001b[0m Trial 42 finished with value: 0.7085883861538895 and parameters: {'C': 11.48980195299492, 'epsilon': 0.22486950083848484, 'kernel': 'rbf', 'degree': 1}. Best is trial 24 with value: 0.7135754839130117.\u001b[0m\n",
      "\u001b[32m[I 2023-08-30 16:51:41,426]\u001b[0m Trial 43 finished with value: 0.7112456192770098 and parameters: {'C': 6.316569431549851, 'epsilon': 0.09524247763547306, 'kernel': 'rbf', 'degree': 1}. Best is trial 24 with value: 0.7135754839130117.\u001b[0m\n",
      "\u001b[32m[I 2023-08-30 16:51:41,637]\u001b[0m Trial 44 finished with value: 0.708471405384611 and parameters: {'C': 5.016927299266462, 'epsilon': 0.0750615228800901, 'kernel': 'rbf', 'degree': 2}. Best is trial 24 with value: 0.7135754839130117.\u001b[0m\n",
      "\u001b[32m[I 2023-08-30 16:51:41,843]\u001b[0m Trial 45 finished with value: 0.7121670195824314 and parameters: {'C': 8.354461991721205, 'epsilon': 0.12881966996400934, 'kernel': 'rbf', 'degree': 1}. Best is trial 24 with value: 0.7135754839130117.\u001b[0m\n",
      "\u001b[32m[I 2023-08-30 16:51:42,086]\u001b[0m Trial 46 finished with value: 0.7091164852335301 and parameters: {'C': 7.920248785346005, 'epsilon': 0.05811059642711511, 'kernel': 'rbf', 'degree': 1}. Best is trial 24 with value: 0.7135754839130117.\u001b[0m\n",
      "\u001b[32m[I 2023-08-30 16:51:44,632]\u001b[0m Trial 47 finished with value: 0.43853515672797905 and parameters: {'C': 50.944975492672725, 'epsilon': 0.7846481645938103, 'kernel': 'linear', 'degree': 2}. Best is trial 24 with value: 0.7135754839130117.\u001b[0m\n",
      "\u001b[32m[I 2023-08-30 16:51:44,814]\u001b[0m Trial 48 finished with value: 0.6848550442663276 and parameters: {'C': 1.9755496636475995, 'epsilon': 0.08682360448663022, 'kernel': 'rbf', 'degree': 1}. Best is trial 24 with value: 0.7135754839130117.\u001b[0m\n",
      "\u001b[32m[I 2023-08-30 16:51:44,986]\u001b[0m Trial 49 finished with value: -0.7179664276899723 and parameters: {'C': 3.216307057270957, 'epsilon': 0.1530674818923618, 'kernel': 'poly', 'degree': 4}. Best is trial 24 with value: 0.7135754839130117.\u001b[0m\n",
      "\u001b[32m[I 2023-08-30 16:51:45,216]\u001b[0m Trial 50 finished with value: 0.7058162947764938 and parameters: {'C': 11.557454643892992, 'epsilon': 0.12386652934939084, 'kernel': 'rbf', 'degree': 2}. Best is trial 24 with value: 0.7135754839130117.\u001b[0m\n",
      "\u001b[32m[I 2023-08-30 16:51:45,411]\u001b[0m Trial 51 finished with value: 0.7115628492950079 and parameters: {'C': 5.310554820502579, 'epsilon': 0.11835600576970227, 'kernel': 'rbf', 'degree': 1}. Best is trial 24 with value: 0.7135754839130117.\u001b[0m\n",
      "\u001b[32m[I 2023-08-30 16:51:45,563]\u001b[0m Trial 52 finished with value: 0.701320201268151 and parameters: {'C': 3.421304916206336, 'epsilon': 0.2096717769487493, 'kernel': 'rbf', 'degree': 1}. Best is trial 24 with value: 0.7135754839130117.\u001b[0m\n",
      "\u001b[32m[I 2023-08-30 16:51:45,710]\u001b[0m Trial 53 finished with value: 0.6595021736325064 and parameters: {'C': 1.076482264867601, 'epsilon': 0.15573840909730405, 'kernel': 'rbf', 'degree': 1}. Best is trial 24 with value: 0.7135754839130117.\u001b[0m\n",
      "\u001b[32m[I 2023-08-30 16:51:45,857]\u001b[0m Trial 54 finished with value: 0.7112777598790586 and parameters: {'C': 6.937375298717575, 'epsilon': 0.2836720069341864, 'kernel': 'rbf', 'degree': 1}. Best is trial 24 with value: 0.7135754839130117.\u001b[0m\n",
      "\u001b[32m[I 2023-08-30 16:51:46,119]\u001b[0m Trial 55 finished with value: 0.7063193764494072 and parameters: {'C': 10.92246454275953, 'epsilon': 0.07738922365244928, 'kernel': 'rbf', 'degree': 2}. Best is trial 24 with value: 0.7135754839130117.\u001b[0m\n",
      "\u001b[32m[I 2023-08-30 16:51:46,338]\u001b[0m Trial 56 finished with value: 0.7002411373412883 and parameters: {'C': 15.414172606742081, 'epsilon': 0.17005552036314353, 'kernel': 'rbf', 'degree': 1}. Best is trial 24 with value: 0.7135754839130117.\u001b[0m\n",
      "\u001b[32m[I 2023-08-30 16:51:46,795]\u001b[0m Trial 57 finished with value: 0.4176882479185763 and parameters: {'C': 4.054512666021751, 'epsilon': 0.3859484539127641, 'kernel': 'linear', 'degree': 1}. Best is trial 24 with value: 0.7135754839130117.\u001b[0m\n",
      "\u001b[32m[I 2023-08-30 16:51:46,940]\u001b[0m Trial 58 finished with value: 0.5476096541487522 and parameters: {'C': 0.1433676472796231, 'epsilon': 0.13067605838862073, 'kernel': 'rbf', 'degree': 3}. Best is trial 24 with value: 0.7135754839130117.\u001b[0m\n",
      "\u001b[32m[I 2023-08-30 16:51:47,307]\u001b[0m Trial 59 finished with value: 0.6901861345864747 and parameters: {'C': 24.407132988677834, 'epsilon': 0.06286086551645717, 'kernel': 'rbf', 'degree': 2}. Best is trial 24 with value: 0.7135754839130117.\u001b[0m\n",
      "\u001b[32m[I 2023-08-30 16:51:47,577]\u001b[0m Trial 60 finished with value: 0.7087736219179928 and parameters: {'C': 8.775768053619037, 'epsilon': 0.04648434068739426, 'kernel': 'rbf', 'degree': 1}. Best is trial 24 with value: 0.7135754839130117.\u001b[0m\n",
      "\u001b[32m[I 2023-08-30 16:51:47,750]\u001b[0m Trial 61 finished with value: 0.7103187335025062 and parameters: {'C': 16.670863040483376, 'epsilon': 0.2918074101723669, 'kernel': 'rbf', 'degree': 1}. Best is trial 24 with value: 0.7135754839130117.\u001b[0m\n",
      "\u001b[32m[I 2023-08-30 16:51:47,873]\u001b[0m Trial 62 finished with value: 0.7082838225460788 and parameters: {'C': 14.049135064889335, 'epsilon': 0.5026599834786677, 'kernel': 'rbf', 'degree': 1}. Best is trial 24 with value: 0.7135754839130117.\u001b[0m\n",
      "\u001b[32m[I 2023-08-30 16:51:47,965]\u001b[0m Trial 63 finished with value: 0.6727901161229812 and parameters: {'C': 6.116286202661148, 'epsilon': 0.7175376601374912, 'kernel': 'rbf', 'degree': 1}. Best is trial 24 with value: 0.7135754839130117.\u001b[0m\n",
      "\u001b[32m[I 2023-08-30 16:51:48,155]\u001b[0m Trial 64 finished with value: 0.7132129720626049 and parameters: {'C': 19.41399202112529, 'epsilon': 0.33967534179583925, 'kernel': 'rbf', 'degree': 1}. Best is trial 24 with value: 0.7135754839130117.\u001b[0m\n",
      "\u001b[32m[I 2023-08-30 16:51:48,307]\u001b[0m Trial 65 finished with value: 0.715242514719807 and parameters: {'C': 21.451922012469822, 'epsilon': 0.4285522564776005, 'kernel': 'rbf', 'degree': 1}. Best is trial 65 with value: 0.715242514719807.\u001b[0m\n",
      "\u001b[32m[I 2023-08-30 16:51:48,391]\u001b[0m Trial 66 finished with value: 0.624917185828766 and parameters: {'C': 20.975324224987904, 'epsilon': 0.951949046442347, 'kernel': 'rbf', 'degree': 4}. Best is trial 65 with value: 0.715242514719807.\u001b[0m\n",
      "\u001b[32m[I 2023-08-30 16:51:50,445]\u001b[0m Trial 67 finished with value: 0.43441286717430694 and parameters: {'C': 29.436559149954853, 'epsilon': 0.4524488331812049, 'kernel': 'linear', 'degree': 3}. Best is trial 65 with value: 0.715242514719807.\u001b[0m\n",
      "\u001b[32m[I 2023-08-30 16:51:50,725]\u001b[0m Trial 68 finished with value: 0.6703385220069233 and parameters: {'C': 90.73090463764139, 'epsilon': 0.3296503598785442, 'kernel': 'rbf', 'degree': 1}. Best is trial 65 with value: 0.715242514719807.\u001b[0m\n",
      "\u001b[32m[I 2023-08-30 16:51:51,040]\u001b[0m Trial 69 finished with value: 0.42924646379150727 and parameters: {'C': 39.395990474285774, 'epsilon': 0.5610754100636539, 'kernel': 'poly', 'degree': 1}. Best is trial 65 with value: 0.715242514719807.\u001b[0m\n",
      "\u001b[32m[I 2023-08-30 16:51:51,212]\u001b[0m Trial 70 finished with value: 0.711274675570611 and parameters: {'C': 9.883228302816857, 'epsilon': 0.23059423382018795, 'kernel': 'rbf', 'degree': 2}. Best is trial 65 with value: 0.715242514719807.\u001b[0m\n",
      "\u001b[32m[I 2023-08-30 16:51:51,321]\u001b[0m Trial 71 finished with value: 0.6954956404985357 and parameters: {'C': 12.975451471053464, 'epsilon': 0.6193677602094728, 'kernel': 'rbf', 'degree': 1}. Best is trial 65 with value: 0.715242514719807.\u001b[0m\n",
      "\u001b[32m[I 2023-08-30 16:51:51,514]\u001b[0m Trial 72 finished with value: 0.7072082496459329 and parameters: {'C': 4.179628049149693, 'epsilon': 0.10044169238234824, 'kernel': 'rbf', 'degree': 1}. Best is trial 65 with value: 0.715242514719807.\u001b[0m\n",
      "\u001b[32m[I 2023-08-30 16:51:51,692]\u001b[0m Trial 73 finished with value: 0.7134555941372651 and parameters: {'C': 7.9074409893223825, 'epsilon': 0.18629380429028072, 'kernel': 'rbf', 'degree': 1}. Best is trial 65 with value: 0.715242514719807.\u001b[0m\n",
      "\u001b[32m[I 2023-08-30 16:51:51,872]\u001b[0m Trial 74 finished with value: 0.7137439679557153 and parameters: {'C': 7.246736130542897, 'epsilon': 0.18349844732717793, 'kernel': 'rbf', 'degree': 1}. Best is trial 65 with value: 0.715242514719807.\u001b[0m\n",
      "\u001b[32m[I 2023-08-30 16:51:52,050]\u001b[0m Trial 75 finished with value: 0.7133973401087518 and parameters: {'C': 7.4623665376669175, 'epsilon': 0.19124898749865982, 'kernel': 'rbf', 'degree': 1}. Best is trial 65 with value: 0.715242514719807.\u001b[0m\n",
      "\u001b[32m[I 2023-08-30 16:51:52,196]\u001b[0m Trial 76 finished with value: 0.7154109209060044 and parameters: {'C': 17.81663745098145, 'epsilon': 0.41724290284343474, 'kernel': 'rbf', 'degree': 5}. Best is trial 76 with value: 0.7154109209060044.\u001b[0m\n",
      "\u001b[32m[I 2023-08-30 16:51:52,348]\u001b[0m Trial 77 finished with value: 0.7155294571241196 and parameters: {'C': 25.69256682987275, 'epsilon': 0.4282571319008539, 'kernel': 'rbf', 'degree': 5}. Best is trial 77 with value: 0.7155294571241196.\u001b[0m\n",
      "\u001b[32m[I 2023-08-30 16:51:52,521]\u001b[0m Trial 78 finished with value: 0.7140088874134307 and parameters: {'C': 25.853830360600718, 'epsilon': 0.3595101742411227, 'kernel': 'rbf', 'degree': 5}. Best is trial 77 with value: 0.7155294571241196.\u001b[0m\n",
      "\u001b[32m[I 2023-08-30 16:51:52,695]\u001b[0m Trial 79 finished with value: 0.6956011631757034 and parameters: {'C': 52.58895235787926, 'epsilon': 0.45210026882002824, 'kernel': 'rbf', 'degree': 5}. Best is trial 77 with value: 0.7155294571241196.\u001b[0m\n",
      "\u001b[32m[I 2023-08-30 16:51:52,857]\u001b[0m Trial 80 finished with value: 0.7156987007022673 and parameters: {'C': 26.96320064060911, 'epsilon': 0.39995448071291073, 'kernel': 'rbf', 'degree': 5}. Best is trial 80 with value: 0.7156987007022673.\u001b[0m\n",
      "\u001b[32m[I 2023-08-30 16:51:53,020]\u001b[0m Trial 81 finished with value: 0.7159889137880786 and parameters: {'C': 26.220131113824657, 'epsilon': 0.3983605496362469, 'kernel': 'rbf', 'degree': 5}. Best is trial 81 with value: 0.7159889137880786.\u001b[0m\n",
      "\u001b[32m[I 2023-08-30 16:51:53,183]\u001b[0m Trial 82 finished with value: 0.7155726485414895 and parameters: {'C': 27.187200640871545, 'epsilon': 0.40396561896154476, 'kernel': 'rbf', 'degree': 5}. Best is trial 81 with value: 0.7159889137880786.\u001b[0m\n",
      "\u001b[32m[I 2023-08-30 16:51:53,346]\u001b[0m Trial 83 finished with value: 0.7156478269269397 and parameters: {'C': 27.019209844868428, 'epsilon': 0.40337660649261775, 'kernel': 'rbf', 'degree': 5}. Best is trial 81 with value: 0.7159889137880786.\u001b[0m\n",
      "\u001b[32m[I 2023-08-30 16:51:53,512]\u001b[0m Trial 84 finished with value: 0.7154297160159303 and parameters: {'C': 27.712825517550755, 'epsilon': 0.394193775347617, 'kernel': 'rbf', 'degree': 5}. Best is trial 81 with value: 0.7159889137880786.\u001b[0m\n",
      "\u001b[32m[I 2023-08-30 16:51:53,689]\u001b[0m Trial 85 finished with value: 0.7107631389048785 and parameters: {'C': 34.61654724144892, 'epsilon': 0.39255427835466444, 'kernel': 'rbf', 'degree': 5}. Best is trial 81 with value: 0.7159889137880786.\u001b[0m\n",
      "\u001b[32m[I 2023-08-30 16:51:53,851]\u001b[0m Trial 86 finished with value: 0.7151225578392716 and parameters: {'C': 27.824938959010755, 'epsilon': 0.4141124521695153, 'kernel': 'rbf', 'degree': 5}. Best is trial 81 with value: 0.7159889137880786.\u001b[0m\n",
      "\u001b[32m[I 2023-08-30 16:51:54,058]\u001b[0m Trial 87 finished with value: 0.6860225036696347 and parameters: {'C': 71.95636074533023, 'epsilon': 0.41199943797273375, 'kernel': 'rbf', 'degree': 5}. Best is trial 81 with value: 0.7159889137880786.\u001b[0m\n",
      "\u001b[32m[I 2023-08-30 16:51:54,216]\u001b[0m Trial 88 finished with value: -6.8417244290738255 and parameters: {'C': 45.117648691492676, 'epsilon': 0.5218444287767454, 'kernel': 'poly', 'degree': 5}. Best is trial 81 with value: 0.7159889137880786.\u001b[0m\n",
      "\u001b[32m[I 2023-08-30 16:51:55,854]\u001b[0m Trial 89 finished with value: 0.43431804918382255 and parameters: {'C': 30.366520333678533, 'epsilon': 0.809100364748244, 'kernel': 'linear', 'degree': 5}. Best is trial 81 with value: 0.7159889137880786.\u001b[0m\n",
      "\u001b[32m[I 2023-08-30 16:51:55,979]\u001b[0m Trial 90 finished with value: 0.6924877436784433 and parameters: {'C': 36.32654723374126, 'epsilon': 0.6252856986382028, 'kernel': 'rbf', 'degree': 5}. Best is trial 81 with value: 0.7159889137880786.\u001b[0m\n",
      "\u001b[32m[I 2023-08-30 16:51:56,172]\u001b[0m Trial 91 finished with value: 0.7119916837388999 and parameters: {'C': 26.398885315222966, 'epsilon': 0.3027020820727433, 'kernel': 'rbf', 'degree': 5}. Best is trial 81 with value: 0.7159889137880786.\u001b[0m\n",
      "\u001b[32m[I 2023-08-30 16:51:56,385]\u001b[0m Trial 92 finished with value: 0.708360585796598 and parameters: {'C': 24.40858115119792, 'epsilon': 0.26297720379478934, 'kernel': 'rbf', 'degree': 5}. Best is trial 81 with value: 0.7159889137880786.\u001b[0m\n",
      "\u001b[32m[I 2023-08-30 16:51:56,564]\u001b[0m Trial 93 finished with value: 0.712682127068361 and parameters: {'C': 28.399697879432804, 'epsilon': 0.3514102644483932, 'kernel': 'rbf', 'degree': 5}. Best is trial 81 with value: 0.7159889137880786.\u001b[0m\n",
      "\u001b[32m[I 2023-08-30 16:51:56,720]\u001b[0m Trial 94 finished with value: 0.7161663532758171 and parameters: {'C': 21.635613671415687, 'epsilon': 0.40805061587752317, 'kernel': 'rbf', 'degree': 5}. Best is trial 94 with value: 0.7161663532758171.\u001b[0m\n",
      "\u001b[32m[I 2023-08-30 16:51:56,866]\u001b[0m Trial 95 finished with value: 0.7153899906126572 and parameters: {'C': 17.473123863557092, 'epsilon': 0.41546964384973706, 'kernel': 'rbf', 'degree': 5}. Best is trial 94 with value: 0.7161663532758171.\u001b[0m\n",
      "\u001b[32m[I 2023-08-30 16:51:56,984]\u001b[0m Trial 96 finished with value: 0.7054822192984952 and parameters: {'C': 17.53778182712783, 'epsilon': 0.5776968675043099, 'kernel': 'rbf', 'degree': 5}. Best is trial 94 with value: 0.7161663532758171.\u001b[0m\n",
      "\u001b[32m[I 2023-08-30 16:51:57,119]\u001b[0m Trial 97 finished with value: 0.7143753915713129 and parameters: {'C': 21.855017559616755, 'epsilon': 0.4880397377409145, 'kernel': 'rbf', 'degree': 5}. Best is trial 94 with value: 0.7161663532758171.\u001b[0m\n",
      "\u001b[32m[I 2023-08-30 16:51:57,316]\u001b[0m Trial 98 finished with value: 0.6900968925929235 and parameters: {'C': 63.23540791311286, 'epsilon': 0.4112132354986296, 'kernel': 'rbf', 'degree': 5}. Best is trial 94 with value: 0.7161663532758171.\u001b[0m\n",
      "\u001b[32m[I 2023-08-30 16:51:57,544]\u001b[0m Trial 99 finished with value: 0.7043621087234745 and parameters: {'C': 43.93210264102331, 'epsilon': 0.3149650786623481, 'kernel': 'rbf', 'degree': 5}. Best is trial 94 with value: 0.7161663532758171.\u001b[0m\n"
     ]
    },
    {
     "name": "stdout",
     "output_type": "stream",
     "text": [
      "Best r2:  0.7161663532758171\n",
      "Best trial: {'C': 21.635613671415687, 'epsilon': 0.40805061587752317, 'kernel': 'rbf', 'degree': 5}\n"
     ]
    }
   ],
   "source": [
    "sampler = TPESampler()\n",
    "study = optuna.create_study(\n",
    "    study_name=\"svm_parameter_opt\",\n",
    "    direction=\"maximize\",\n",
    "    sampler=sampler,\n",
    ")\n",
    "\n",
    "study.optimize(lambda trial : objectiveSVM(trial, Ni_X_train, Ni_y_train), n_trials=100)\n",
    "print(\"Best r2: \", study.best_value)\n",
    "print(\"Best trial:\", study.best_trial.params)"
   ]
  },
  {
   "cell_type": "code",
   "execution_count": 45,
   "id": "d71c01fb",
   "metadata": {},
   "outputs": [
    {
     "data": {
      "application/vnd.plotly.v1+json": {
       "config": {
        "plotlyServerURL": "https://plot.ly"
       },
       "data": [
        {
         "dimensions": [
          {
           "label": "Objective Value",
           "range": [
            -27.30869142600563,
            0.7161663532758171
           ],
           "values": [
            0.5524060030538547,
            0.3953404875672772,
            0.7131858829879818,
            -16.615090139802522,
            0.6747431651095155,
            0.6406223369590547,
            -3.839720156239278,
            0.4978136495885602,
            0.7020484257873523,
            0.07843484884635639,
            0.40706338895845207,
            0.7074585942129984,
            0.7032050772549876,
            0.4200034762078202,
            0.6356577237502703,
            0.6777387334004688,
            0.6943398060253688,
            0.41654369141423164,
            0.6803420572824652,
            0.7039228602526448,
            0.42954491200947265,
            0.7029298033536829,
            0.70639373863689,
            0.6994916377435695,
            0.7135754839130117,
            0.667060726725062,
            0.6900304767921364,
            0.7069431817392252,
            0.6925764815617793,
            0.4233638964940424,
            0.7122673772850491,
            0.7131400559166705,
            0.7116828535653059,
            0.6988433905261846,
            0.6752925070581519,
            0.41185103091688086,
            0.6879817323369496,
            0.4027228718303813,
            0.7116400452597752,
            0.6370498989516014,
            -27.30869142600563,
            0.7109923924955435,
            0.7085883861538895,
            0.7112456192770098,
            0.708471405384611,
            0.7121670195824314,
            0.7091164852335301,
            0.43853515672797905,
            0.6848550442663276,
            -0.7179664276899723,
            0.7058162947764938,
            0.7115628492950079,
            0.701320201268151,
            0.6595021736325064,
            0.7112777598790586,
            0.7063193764494072,
            0.7002411373412883,
            0.4176882479185763,
            0.5476096541487522,
            0.6901861345864747,
            0.7087736219179928,
            0.7103187335025062,
            0.7082838225460788,
            0.6727901161229812,
            0.7132129720626049,
            0.715242514719807,
            0.624917185828766,
            0.43441286717430694,
            0.6703385220069233,
            0.42924646379150727,
            0.711274675570611,
            0.6954956404985357,
            0.7072082496459329,
            0.7134555941372651,
            0.7137439679557153,
            0.7133973401087518,
            0.7154109209060044,
            0.7155294571241196,
            0.7140088874134307,
            0.6956011631757034,
            0.7156987007022673,
            0.7159889137880786,
            0.7155726485414895,
            0.7156478269269397,
            0.7154297160159303,
            0.7107631389048785,
            0.7151225578392716,
            0.6860225036696347,
            -6.8417244290738255,
            0.43431804918382255,
            0.6924877436784433,
            0.7119916837388999,
            0.708360585796598,
            0.712682127068361,
            0.7161663532758171,
            0.7153899906126572,
            0.7054822192984952,
            0.7143753915713129,
            0.6900968925929235,
            0.7043621087234745
           ]
          },
          {
           "label": "C",
           "range": [
            -0.9462021540206353,
            1.998313893059779
           ],
           "ticktext": [
            "0.113",
            "1",
            "10",
            "99.6"
           ],
           "tickvals": [
            -0.9462021540206353,
            0,
            1,
            1.998313893059779
           ],
           "values": [
            -0.7771832933464276,
            -0.5717428494989929,
            0.853462495264094,
            1.4137603011955087,
            0.19007656286633434,
            -0.12039715664734565,
            1.6013510072893635,
            -0.3669965457535282,
            1.1264917271530328,
            -0.9462021540206353,
            0.7732716995610808,
            0.7937103885047044,
            0.6384486578570646,
            1.070675526804963,
            1.998313893059779,
            0.20943029912338798,
            0.3694590472484916,
            0.9735142349858523,
            1.5284972879657117,
            0.594444316691682,
            -0.11820572482661508,
            0.5771538043758205,
            0.8559070113973589,
            0.9323396972753134,
            1.285243507230012,
            1.7870043871134216,
            1.3009732769346103,
            1.2697536955038287,
            0.4066903691144121,
            1.1534688330351055,
            0.7749847440897789,
            0.8305600998909223,
            0.7291440044228451,
            1.3646078583713113,
            0.19568024505032688,
            0.44897557739323896,
            1.6082960701155762,
            0.9769842287536755,
            1.2065459250680148,
            -0.13653624433988118,
            1.484201016076628,
            0.7042731156503146,
            1.0603125429212936,
            0.8004812742546601,
            0.7004378076739202,
            0.9219184875567674,
            0.8987388235599476,
            1.707101357657267,
            0.2956879519506428,
            0.5073575036686578,
            1.0628621977669963,
            0.7251398963913297,
            0.534191781441627,
            0.032006879181722285,
            0.8411951896347926,
            1.0383206435478798,
            1.1879202178740662,
            0.6079386614629434,
            -0.8435488416470442,
            1.3875167675235367,
            0.9432851361750707,
            1.2219580835723054,
            1.1476495877209163,
            0.7864877993904242,
            1.2881148467992822,
            1.331466209435186,
            1.321708682637084,
            1.4688870437931325,
            1.9577552410566814,
            1.5954520237671765,
            0.9948988276939973,
            1.1131224777325295,
            0.6211376350311887,
            0.8980359596004334,
            0.8601424479975246,
            0.8728765769718492,
            1.2508257426705258,
            1.4098074948604493,
            1.412524894866661,
            1.7208945191739067,
            1.4307714434289835,
            1.4186348590500297,
            1.4343644922947267,
            1.4316726442777528,
            1.4426808074178366,
            1.539283747861541,
            1.4444342202738123,
            1.8570691904129741,
            1.6543464582864909,
            1.4823950294400847,
            1.5602241209952694,
            1.4215855893066454,
            1.3875425350044654,
            1.4533137199768575,
            1.3351692180154364,
            1.2423705555509783,
            1.2439746630803523,
            1.3395511597637448,
            1.8009603244099759,
            1.642781989596778
           ]
          },
          {
           "label": "degree",
           "range": [
            1,
            5
           ],
           "values": [
            5,
            1,
            1,
            5,
            2,
            5,
            4,
            3,
            2,
            5,
            1,
            2,
            2,
            1,
            3,
            2,
            1,
            2,
            3,
            4,
            1,
            4,
            4,
            3,
            4,
            2,
            3,
            1,
            4,
            2,
            1,
            1,
            1,
            1,
            1,
            1,
            5,
            1,
            1,
            2,
            5,
            1,
            1,
            1,
            2,
            1,
            1,
            2,
            1,
            4,
            2,
            1,
            1,
            1,
            1,
            2,
            1,
            1,
            3,
            2,
            1,
            1,
            1,
            1,
            1,
            1,
            4,
            3,
            1,
            1,
            2,
            1,
            1,
            1,
            1,
            1,
            5,
            5,
            5,
            5,
            5,
            5,
            5,
            5,
            5,
            5,
            5,
            5,
            5,
            5,
            5,
            5,
            5,
            5,
            5,
            5,
            5,
            5,
            5,
            5
           ]
          },
          {
           "label": "epsilon",
           "range": [
            -1.9962581472664906,
            -0.02138629682680761
           ],
           "ticktext": [
            "0.0101",
            "0.1",
            "0.952"
           ],
           "tickvals": [
            -1.9962581472664906,
            -1,
            -0.02138629682680761
           ],
           "values": [
            -1.5924360815732426,
            -1.1874862055367388,
            -0.9027789187930944,
            -0.5535282765140552,
            -1.023188010011151,
            -0.8343878113742765,
            -0.4457401453100987,
            -1.1017510197131712,
            -0.8960693375678868,
            -1.1069378440956843,
            -0.028282944458367765,
            -1.5907023117759727,
            -1.9962581472664906,
            -1.4340970013758023,
            -1.963930916064156,
            -1.5538099655943982,
            -0.5892001708180573,
            -1.377115688900806,
            -1.7639345724497388,
            -0.7299117207922057,
            -0.1733470176488203,
            -0.762207987490698,
            -0.3466641390941145,
            -0.2651366206234335,
            -0.33636133571007865,
            -1.3173218751628024,
            -1.7743931273376337,
            -0.6071095562191904,
            -1.254997983928735,
            -1.5356391261711615,
            -0.908467429482876,
            -0.9126130842008476,
            -0.9452139254075251,
            -0.7040494146168239,
            -1.0260251123915687,
            -0.42746674339958074,
            -0.8120107552554698,
            -1.1651798364877848,
            -0.49699039270240897,
            -0.9716049748392952,
            -0.862820446369668,
            -0.9492313575496144,
            -0.6480694441453502,
            -1.0211693153942245,
            -1.1245826286824552,
            -0.8900178178411322,
            -1.2357446670896095,
            -0.10532503679365905,
            -1.0613621883641797,
            -0.8151170623044094,
            -0.9070460308525918,
            -0.9268096996574668,
            -0.678460024185698,
            -0.8076042660325189,
            -0.5471835187471131,
            -1.1113195100420517,
            -0.7694092653817293,
            -0.41347069448912177,
            -0.8838039737213061,
            -1.201619643578802,
            -1.3326933244954442,
            -0.5349036838061484,
            -0.2987256873721761,
            -0.14415529994493997,
            -0.46893597891946287,
            -0.36799621384312875,
            -0.02138629682680761,
            -0.34443052744995917,
            -0.4819464458017268,
            -0.2509787644594002,
            -0.6371515567611103,
            -0.20805140460972482,
            -0.9980859782956047,
            -0.7298015885137756,
            -0.7363676061807839,
            -0.7184008553895549,
            -0.3796110417838802,
            -0.3682953958594848,
            -0.44428881444868557,
            -0.3447652347329692,
            -0.3979894334223228,
            -0.3997236770847312,
            -0.3936555956088658,
            -0.394289291958067,
            -0.40429023787881185,
            -0.4061002850075404,
            -0.38288171026748247,
            -0.3851033764074161,
            -0.2824589487099663,
            -0.09199760304433681,
            -0.2039215042691793,
            -0.5189845918297054,
            -0.580081896739222,
            -0.45418555721695664,
            -0.3892859623197319,
            -0.38146070230144324,
            -0.23829998736473437,
            -0.3115448149255932,
            -0.38593291538555907,
            -0.5017375953690502
           ]
          },
          {
           "label": "kernel",
           "range": [
            0,
            2
           ],
           "ticktext": [
            "rbf",
            "poly",
            "linear"
           ],
           "tickvals": [
            0,
            1,
            2
           ],
           "values": [
            0,
            1,
            0,
            1,
            0,
            0,
            1,
            1,
            0,
            1,
            2,
            0,
            0,
            2,
            0,
            0,
            0,
            2,
            0,
            0,
            2,
            0,
            0,
            0,
            0,
            0,
            0,
            0,
            0,
            2,
            0,
            0,
            0,
            0,
            0,
            1,
            0,
            1,
            0,
            0,
            1,
            0,
            0,
            0,
            0,
            0,
            0,
            2,
            0,
            1,
            0,
            0,
            0,
            0,
            0,
            0,
            0,
            2,
            0,
            0,
            0,
            0,
            0,
            0,
            0,
            0,
            0,
            2,
            0,
            1,
            0,
            0,
            0,
            0,
            0,
            0,
            0,
            0,
            0,
            0,
            0,
            0,
            0,
            0,
            0,
            0,
            0,
            0,
            1,
            2,
            0,
            0,
            0,
            0,
            0,
            0,
            0,
            0,
            0,
            0
           ]
          }
         ],
         "labelangle": 30,
         "labelside": "bottom",
         "line": {
          "color": [
           0.5524060030538547,
           0.3953404875672772,
           0.7131858829879818,
           -16.615090139802522,
           0.6747431651095155,
           0.6406223369590547,
           -3.839720156239278,
           0.4978136495885602,
           0.7020484257873523,
           0.07843484884635639,
           0.40706338895845207,
           0.7074585942129984,
           0.7032050772549876,
           0.4200034762078202,
           0.6356577237502703,
           0.6777387334004688,
           0.6943398060253688,
           0.41654369141423164,
           0.6803420572824652,
           0.7039228602526448,
           0.42954491200947265,
           0.7029298033536829,
           0.70639373863689,
           0.6994916377435695,
           0.7135754839130117,
           0.667060726725062,
           0.6900304767921364,
           0.7069431817392252,
           0.6925764815617793,
           0.4233638964940424,
           0.7122673772850491,
           0.7131400559166705,
           0.7116828535653059,
           0.6988433905261846,
           0.6752925070581519,
           0.41185103091688086,
           0.6879817323369496,
           0.4027228718303813,
           0.7116400452597752,
           0.6370498989516014,
           -27.30869142600563,
           0.7109923924955435,
           0.7085883861538895,
           0.7112456192770098,
           0.708471405384611,
           0.7121670195824314,
           0.7091164852335301,
           0.43853515672797905,
           0.6848550442663276,
           -0.7179664276899723,
           0.7058162947764938,
           0.7115628492950079,
           0.701320201268151,
           0.6595021736325064,
           0.7112777598790586,
           0.7063193764494072,
           0.7002411373412883,
           0.4176882479185763,
           0.5476096541487522,
           0.6901861345864747,
           0.7087736219179928,
           0.7103187335025062,
           0.7082838225460788,
           0.6727901161229812,
           0.7132129720626049,
           0.715242514719807,
           0.624917185828766,
           0.43441286717430694,
           0.6703385220069233,
           0.42924646379150727,
           0.711274675570611,
           0.6954956404985357,
           0.7072082496459329,
           0.7134555941372651,
           0.7137439679557153,
           0.7133973401087518,
           0.7154109209060044,
           0.7155294571241196,
           0.7140088874134307,
           0.6956011631757034,
           0.7156987007022673,
           0.7159889137880786,
           0.7155726485414895,
           0.7156478269269397,
           0.7154297160159303,
           0.7107631389048785,
           0.7151225578392716,
           0.6860225036696347,
           -6.8417244290738255,
           0.43431804918382255,
           0.6924877436784433,
           0.7119916837388999,
           0.708360585796598,
           0.712682127068361,
           0.7161663532758171,
           0.7153899906126572,
           0.7054822192984952,
           0.7143753915713129,
           0.6900968925929235,
           0.7043621087234745
          ],
          "colorbar": {
           "title": {
            "text": "Objective Value"
           }
          },
          "colorscale": [
           [
            0,
            "rgb(247,251,255)"
           ],
           [
            0.125,
            "rgb(222,235,247)"
           ],
           [
            0.25,
            "rgb(198,219,239)"
           ],
           [
            0.375,
            "rgb(158,202,225)"
           ],
           [
            0.5,
            "rgb(107,174,214)"
           ],
           [
            0.625,
            "rgb(66,146,198)"
           ],
           [
            0.75,
            "rgb(33,113,181)"
           ],
           [
            0.875,
            "rgb(8,81,156)"
           ],
           [
            1,
            "rgb(8,48,107)"
           ]
          ],
          "reversescale": false,
          "showscale": true
         },
         "type": "parcoords"
        }
       ],
       "layout": {
        "template": {
         "data": {
          "bar": [
           {
            "error_x": {
             "color": "#2a3f5f"
            },
            "error_y": {
             "color": "#2a3f5f"
            },
            "marker": {
             "line": {
              "color": "#E5ECF6",
              "width": 0.5
             },
             "pattern": {
              "fillmode": "overlay",
              "size": 10,
              "solidity": 0.2
             }
            },
            "type": "bar"
           }
          ],
          "barpolar": [
           {
            "marker": {
             "line": {
              "color": "#E5ECF6",
              "width": 0.5
             },
             "pattern": {
              "fillmode": "overlay",
              "size": 10,
              "solidity": 0.2
             }
            },
            "type": "barpolar"
           }
          ],
          "carpet": [
           {
            "aaxis": {
             "endlinecolor": "#2a3f5f",
             "gridcolor": "white",
             "linecolor": "white",
             "minorgridcolor": "white",
             "startlinecolor": "#2a3f5f"
            },
            "baxis": {
             "endlinecolor": "#2a3f5f",
             "gridcolor": "white",
             "linecolor": "white",
             "minorgridcolor": "white",
             "startlinecolor": "#2a3f5f"
            },
            "type": "carpet"
           }
          ],
          "choropleth": [
           {
            "colorbar": {
             "outlinewidth": 0,
             "ticks": ""
            },
            "type": "choropleth"
           }
          ],
          "contour": [
           {
            "colorbar": {
             "outlinewidth": 0,
             "ticks": ""
            },
            "colorscale": [
             [
              0,
              "#0d0887"
             ],
             [
              0.1111111111111111,
              "#46039f"
             ],
             [
              0.2222222222222222,
              "#7201a8"
             ],
             [
              0.3333333333333333,
              "#9c179e"
             ],
             [
              0.4444444444444444,
              "#bd3786"
             ],
             [
              0.5555555555555556,
              "#d8576b"
             ],
             [
              0.6666666666666666,
              "#ed7953"
             ],
             [
              0.7777777777777778,
              "#fb9f3a"
             ],
             [
              0.8888888888888888,
              "#fdca26"
             ],
             [
              1,
              "#f0f921"
             ]
            ],
            "type": "contour"
           }
          ],
          "contourcarpet": [
           {
            "colorbar": {
             "outlinewidth": 0,
             "ticks": ""
            },
            "type": "contourcarpet"
           }
          ],
          "heatmap": [
           {
            "colorbar": {
             "outlinewidth": 0,
             "ticks": ""
            },
            "colorscale": [
             [
              0,
              "#0d0887"
             ],
             [
              0.1111111111111111,
              "#46039f"
             ],
             [
              0.2222222222222222,
              "#7201a8"
             ],
             [
              0.3333333333333333,
              "#9c179e"
             ],
             [
              0.4444444444444444,
              "#bd3786"
             ],
             [
              0.5555555555555556,
              "#d8576b"
             ],
             [
              0.6666666666666666,
              "#ed7953"
             ],
             [
              0.7777777777777778,
              "#fb9f3a"
             ],
             [
              0.8888888888888888,
              "#fdca26"
             ],
             [
              1,
              "#f0f921"
             ]
            ],
            "type": "heatmap"
           }
          ],
          "heatmapgl": [
           {
            "colorbar": {
             "outlinewidth": 0,
             "ticks": ""
            },
            "colorscale": [
             [
              0,
              "#0d0887"
             ],
             [
              0.1111111111111111,
              "#46039f"
             ],
             [
              0.2222222222222222,
              "#7201a8"
             ],
             [
              0.3333333333333333,
              "#9c179e"
             ],
             [
              0.4444444444444444,
              "#bd3786"
             ],
             [
              0.5555555555555556,
              "#d8576b"
             ],
             [
              0.6666666666666666,
              "#ed7953"
             ],
             [
              0.7777777777777778,
              "#fb9f3a"
             ],
             [
              0.8888888888888888,
              "#fdca26"
             ],
             [
              1,
              "#f0f921"
             ]
            ],
            "type": "heatmapgl"
           }
          ],
          "histogram": [
           {
            "marker": {
             "pattern": {
              "fillmode": "overlay",
              "size": 10,
              "solidity": 0.2
             }
            },
            "type": "histogram"
           }
          ],
          "histogram2d": [
           {
            "colorbar": {
             "outlinewidth": 0,
             "ticks": ""
            },
            "colorscale": [
             [
              0,
              "#0d0887"
             ],
             [
              0.1111111111111111,
              "#46039f"
             ],
             [
              0.2222222222222222,
              "#7201a8"
             ],
             [
              0.3333333333333333,
              "#9c179e"
             ],
             [
              0.4444444444444444,
              "#bd3786"
             ],
             [
              0.5555555555555556,
              "#d8576b"
             ],
             [
              0.6666666666666666,
              "#ed7953"
             ],
             [
              0.7777777777777778,
              "#fb9f3a"
             ],
             [
              0.8888888888888888,
              "#fdca26"
             ],
             [
              1,
              "#f0f921"
             ]
            ],
            "type": "histogram2d"
           }
          ],
          "histogram2dcontour": [
           {
            "colorbar": {
             "outlinewidth": 0,
             "ticks": ""
            },
            "colorscale": [
             [
              0,
              "#0d0887"
             ],
             [
              0.1111111111111111,
              "#46039f"
             ],
             [
              0.2222222222222222,
              "#7201a8"
             ],
             [
              0.3333333333333333,
              "#9c179e"
             ],
             [
              0.4444444444444444,
              "#bd3786"
             ],
             [
              0.5555555555555556,
              "#d8576b"
             ],
             [
              0.6666666666666666,
              "#ed7953"
             ],
             [
              0.7777777777777778,
              "#fb9f3a"
             ],
             [
              0.8888888888888888,
              "#fdca26"
             ],
             [
              1,
              "#f0f921"
             ]
            ],
            "type": "histogram2dcontour"
           }
          ],
          "mesh3d": [
           {
            "colorbar": {
             "outlinewidth": 0,
             "ticks": ""
            },
            "type": "mesh3d"
           }
          ],
          "parcoords": [
           {
            "line": {
             "colorbar": {
              "outlinewidth": 0,
              "ticks": ""
             }
            },
            "type": "parcoords"
           }
          ],
          "pie": [
           {
            "automargin": true,
            "type": "pie"
           }
          ],
          "scatter": [
           {
            "marker": {
             "colorbar": {
              "outlinewidth": 0,
              "ticks": ""
             }
            },
            "type": "scatter"
           }
          ],
          "scatter3d": [
           {
            "line": {
             "colorbar": {
              "outlinewidth": 0,
              "ticks": ""
             }
            },
            "marker": {
             "colorbar": {
              "outlinewidth": 0,
              "ticks": ""
             }
            },
            "type": "scatter3d"
           }
          ],
          "scattercarpet": [
           {
            "marker": {
             "colorbar": {
              "outlinewidth": 0,
              "ticks": ""
             }
            },
            "type": "scattercarpet"
           }
          ],
          "scattergeo": [
           {
            "marker": {
             "colorbar": {
              "outlinewidth": 0,
              "ticks": ""
             }
            },
            "type": "scattergeo"
           }
          ],
          "scattergl": [
           {
            "marker": {
             "colorbar": {
              "outlinewidth": 0,
              "ticks": ""
             }
            },
            "type": "scattergl"
           }
          ],
          "scattermapbox": [
           {
            "marker": {
             "colorbar": {
              "outlinewidth": 0,
              "ticks": ""
             }
            },
            "type": "scattermapbox"
           }
          ],
          "scatterpolar": [
           {
            "marker": {
             "colorbar": {
              "outlinewidth": 0,
              "ticks": ""
             }
            },
            "type": "scatterpolar"
           }
          ],
          "scatterpolargl": [
           {
            "marker": {
             "colorbar": {
              "outlinewidth": 0,
              "ticks": ""
             }
            },
            "type": "scatterpolargl"
           }
          ],
          "scatterternary": [
           {
            "marker": {
             "colorbar": {
              "outlinewidth": 0,
              "ticks": ""
             }
            },
            "type": "scatterternary"
           }
          ],
          "surface": [
           {
            "colorbar": {
             "outlinewidth": 0,
             "ticks": ""
            },
            "colorscale": [
             [
              0,
              "#0d0887"
             ],
             [
              0.1111111111111111,
              "#46039f"
             ],
             [
              0.2222222222222222,
              "#7201a8"
             ],
             [
              0.3333333333333333,
              "#9c179e"
             ],
             [
              0.4444444444444444,
              "#bd3786"
             ],
             [
              0.5555555555555556,
              "#d8576b"
             ],
             [
              0.6666666666666666,
              "#ed7953"
             ],
             [
              0.7777777777777778,
              "#fb9f3a"
             ],
             [
              0.8888888888888888,
              "#fdca26"
             ],
             [
              1,
              "#f0f921"
             ]
            ],
            "type": "surface"
           }
          ],
          "table": [
           {
            "cells": {
             "fill": {
              "color": "#EBF0F8"
             },
             "line": {
              "color": "white"
             }
            },
            "header": {
             "fill": {
              "color": "#C8D4E3"
             },
             "line": {
              "color": "white"
             }
            },
            "type": "table"
           }
          ]
         },
         "layout": {
          "annotationdefaults": {
           "arrowcolor": "#2a3f5f",
           "arrowhead": 0,
           "arrowwidth": 1
          },
          "autotypenumbers": "strict",
          "coloraxis": {
           "colorbar": {
            "outlinewidth": 0,
            "ticks": ""
           }
          },
          "colorscale": {
           "diverging": [
            [
             0,
             "#8e0152"
            ],
            [
             0.1,
             "#c51b7d"
            ],
            [
             0.2,
             "#de77ae"
            ],
            [
             0.3,
             "#f1b6da"
            ],
            [
             0.4,
             "#fde0ef"
            ],
            [
             0.5,
             "#f7f7f7"
            ],
            [
             0.6,
             "#e6f5d0"
            ],
            [
             0.7,
             "#b8e186"
            ],
            [
             0.8,
             "#7fbc41"
            ],
            [
             0.9,
             "#4d9221"
            ],
            [
             1,
             "#276419"
            ]
           ],
           "sequential": [
            [
             0,
             "#0d0887"
            ],
            [
             0.1111111111111111,
             "#46039f"
            ],
            [
             0.2222222222222222,
             "#7201a8"
            ],
            [
             0.3333333333333333,
             "#9c179e"
            ],
            [
             0.4444444444444444,
             "#bd3786"
            ],
            [
             0.5555555555555556,
             "#d8576b"
            ],
            [
             0.6666666666666666,
             "#ed7953"
            ],
            [
             0.7777777777777778,
             "#fb9f3a"
            ],
            [
             0.8888888888888888,
             "#fdca26"
            ],
            [
             1,
             "#f0f921"
            ]
           ],
           "sequentialminus": [
            [
             0,
             "#0d0887"
            ],
            [
             0.1111111111111111,
             "#46039f"
            ],
            [
             0.2222222222222222,
             "#7201a8"
            ],
            [
             0.3333333333333333,
             "#9c179e"
            ],
            [
             0.4444444444444444,
             "#bd3786"
            ],
            [
             0.5555555555555556,
             "#d8576b"
            ],
            [
             0.6666666666666666,
             "#ed7953"
            ],
            [
             0.7777777777777778,
             "#fb9f3a"
            ],
            [
             0.8888888888888888,
             "#fdca26"
            ],
            [
             1,
             "#f0f921"
            ]
           ]
          },
          "colorway": [
           "#636efa",
           "#EF553B",
           "#00cc96",
           "#ab63fa",
           "#FFA15A",
           "#19d3f3",
           "#FF6692",
           "#B6E880",
           "#FF97FF",
           "#FECB52"
          ],
          "font": {
           "color": "#2a3f5f"
          },
          "geo": {
           "bgcolor": "white",
           "lakecolor": "white",
           "landcolor": "#E5ECF6",
           "showlakes": true,
           "showland": true,
           "subunitcolor": "white"
          },
          "hoverlabel": {
           "align": "left"
          },
          "hovermode": "closest",
          "mapbox": {
           "style": "light"
          },
          "paper_bgcolor": "white",
          "plot_bgcolor": "#E5ECF6",
          "polar": {
           "angularaxis": {
            "gridcolor": "white",
            "linecolor": "white",
            "ticks": ""
           },
           "bgcolor": "#E5ECF6",
           "radialaxis": {
            "gridcolor": "white",
            "linecolor": "white",
            "ticks": ""
           }
          },
          "scene": {
           "xaxis": {
            "backgroundcolor": "#E5ECF6",
            "gridcolor": "white",
            "gridwidth": 2,
            "linecolor": "white",
            "showbackground": true,
            "ticks": "",
            "zerolinecolor": "white"
           },
           "yaxis": {
            "backgroundcolor": "#E5ECF6",
            "gridcolor": "white",
            "gridwidth": 2,
            "linecolor": "white",
            "showbackground": true,
            "ticks": "",
            "zerolinecolor": "white"
           },
           "zaxis": {
            "backgroundcolor": "#E5ECF6",
            "gridcolor": "white",
            "gridwidth": 2,
            "linecolor": "white",
            "showbackground": true,
            "ticks": "",
            "zerolinecolor": "white"
           }
          },
          "shapedefaults": {
           "line": {
            "color": "#2a3f5f"
           }
          },
          "ternary": {
           "aaxis": {
            "gridcolor": "white",
            "linecolor": "white",
            "ticks": ""
           },
           "baxis": {
            "gridcolor": "white",
            "linecolor": "white",
            "ticks": ""
           },
           "bgcolor": "#E5ECF6",
           "caxis": {
            "gridcolor": "white",
            "linecolor": "white",
            "ticks": ""
           }
          },
          "title": {
           "x": 0.05
          },
          "xaxis": {
           "automargin": true,
           "gridcolor": "white",
           "linecolor": "white",
           "ticks": "",
           "title": {
            "standoff": 15
           },
           "zerolinecolor": "white",
           "zerolinewidth": 2
          },
          "yaxis": {
           "automargin": true,
           "gridcolor": "white",
           "linecolor": "white",
           "ticks": "",
           "title": {
            "standoff": 15
           },
           "zerolinecolor": "white",
           "zerolinewidth": 2
          }
         }
        },
        "title": {
         "text": "Parallel Coordinate Plot"
        }
       }
      }
     },
     "metadata": {},
     "output_type": "display_data"
    }
   ],
   "source": [
    "optuna.visualization.plot_parallel_coordinate(study)"
   ]
  },
  {
   "cell_type": "code",
   "execution_count": 46,
   "id": "1d419df8",
   "metadata": {},
   "outputs": [
    {
     "name": "stdout",
     "output_type": "stream",
     "text": [
      "Best trial: {'C': 21.635613671415687, 'epsilon': 0.40805061587752317, 'kernel': 'rbf', 'degree': 5}\n"
     ]
    }
   ],
   "source": [
    "print(\"Best trial:\", study.best_trial.params)"
   ]
  },
  {
   "cell_type": "code",
   "execution_count": 47,
   "id": "ffefef6c",
   "metadata": {},
   "outputs": [
    {
     "data": {
      "text/html": [
       "<style>#sk-container-id-3 {color: black;}#sk-container-id-3 pre{padding: 0;}#sk-container-id-3 div.sk-toggleable {background-color: white;}#sk-container-id-3 label.sk-toggleable__label {cursor: pointer;display: block;width: 100%;margin-bottom: 0;padding: 0.3em;box-sizing: border-box;text-align: center;}#sk-container-id-3 label.sk-toggleable__label-arrow:before {content: \"▸\";float: left;margin-right: 0.25em;color: #696969;}#sk-container-id-3 label.sk-toggleable__label-arrow:hover:before {color: black;}#sk-container-id-3 div.sk-estimator:hover label.sk-toggleable__label-arrow:before {color: black;}#sk-container-id-3 div.sk-toggleable__content {max-height: 0;max-width: 0;overflow: hidden;text-align: left;background-color: #f0f8ff;}#sk-container-id-3 div.sk-toggleable__content pre {margin: 0.2em;color: black;border-radius: 0.25em;background-color: #f0f8ff;}#sk-container-id-3 input.sk-toggleable__control:checked~div.sk-toggleable__content {max-height: 200px;max-width: 100%;overflow: auto;}#sk-container-id-3 input.sk-toggleable__control:checked~label.sk-toggleable__label-arrow:before {content: \"▾\";}#sk-container-id-3 div.sk-estimator input.sk-toggleable__control:checked~label.sk-toggleable__label {background-color: #d4ebff;}#sk-container-id-3 div.sk-label input.sk-toggleable__control:checked~label.sk-toggleable__label {background-color: #d4ebff;}#sk-container-id-3 input.sk-hidden--visually {border: 0;clip: rect(1px 1px 1px 1px);clip: rect(1px, 1px, 1px, 1px);height: 1px;margin: -1px;overflow: hidden;padding: 0;position: absolute;width: 1px;}#sk-container-id-3 div.sk-estimator {font-family: monospace;background-color: #f0f8ff;border: 1px dotted black;border-radius: 0.25em;box-sizing: border-box;margin-bottom: 0.5em;}#sk-container-id-3 div.sk-estimator:hover {background-color: #d4ebff;}#sk-container-id-3 div.sk-parallel-item::after {content: \"\";width: 100%;border-bottom: 1px solid gray;flex-grow: 1;}#sk-container-id-3 div.sk-label:hover label.sk-toggleable__label {background-color: #d4ebff;}#sk-container-id-3 div.sk-serial::before {content: \"\";position: absolute;border-left: 1px solid gray;box-sizing: border-box;top: 0;bottom: 0;left: 50%;z-index: 0;}#sk-container-id-3 div.sk-serial {display: flex;flex-direction: column;align-items: center;background-color: white;padding-right: 0.2em;padding-left: 0.2em;position: relative;}#sk-container-id-3 div.sk-item {position: relative;z-index: 1;}#sk-container-id-3 div.sk-parallel {display: flex;align-items: stretch;justify-content: center;background-color: white;position: relative;}#sk-container-id-3 div.sk-item::before, #sk-container-id-3 div.sk-parallel-item::before {content: \"\";position: absolute;border-left: 1px solid gray;box-sizing: border-box;top: 0;bottom: 0;left: 50%;z-index: -1;}#sk-container-id-3 div.sk-parallel-item {display: flex;flex-direction: column;z-index: 1;position: relative;background-color: white;}#sk-container-id-3 div.sk-parallel-item:first-child::after {align-self: flex-end;width: 50%;}#sk-container-id-3 div.sk-parallel-item:last-child::after {align-self: flex-start;width: 50%;}#sk-container-id-3 div.sk-parallel-item:only-child::after {width: 0;}#sk-container-id-3 div.sk-dashed-wrapped {border: 1px dashed gray;margin: 0 0.4em 0.5em 0.4em;box-sizing: border-box;padding-bottom: 0.4em;background-color: white;}#sk-container-id-3 div.sk-label label {font-family: monospace;font-weight: bold;display: inline-block;line-height: 1.2em;}#sk-container-id-3 div.sk-label-container {text-align: center;}#sk-container-id-3 div.sk-container {/* jupyter's `normalize.less` sets `[hidden] { display: none; }` but bootstrap.min.css set `[hidden] { display: none !important; }` so we also need the `!important` here to be able to override the default hidden behavior on the sphinx rendered scikit-learn.org. See: https://github.com/scikit-learn/scikit-learn/issues/21755 */display: inline-block !important;position: relative;}#sk-container-id-3 div.sk-text-repr-fallback {display: none;}</style><div id=\"sk-container-id-3\" class=\"sk-top-container\"><div class=\"sk-text-repr-fallback\"><pre>SVR(C=21.635613671415687, degree=5, epsilon=0.40805061587752317)</pre><b>In a Jupyter environment, please rerun this cell to show the HTML representation or trust the notebook. <br />On GitHub, the HTML representation is unable to render, please try loading this page with nbviewer.org.</b></div><div class=\"sk-container\" hidden><div class=\"sk-item\"><div class=\"sk-estimator sk-toggleable\"><input class=\"sk-toggleable__control sk-hidden--visually\" id=\"sk-estimator-id-3\" type=\"checkbox\" checked><label for=\"sk-estimator-id-3\" class=\"sk-toggleable__label sk-toggleable__label-arrow\">SVR</label><div class=\"sk-toggleable__content\"><pre>SVR(C=21.635613671415687, degree=5, epsilon=0.40805061587752317)</pre></div></div></div></div></div>"
      ],
      "text/plain": [
       "SVR(C=21.635613671415687, degree=5, epsilon=0.40805061587752317)"
      ]
     },
     "execution_count": 47,
     "metadata": {},
     "output_type": "execute_result"
    }
   ],
   "source": [
    "svm_params = {\n",
    "    \"C\": study.best_trial.params[\"C\"],\n",
    "    \"epsilon\": study.best_trial.params[\"epsilon\"],\n",
    "    \"kernel\": study.best_trial.params[\"kernel\"],\n",
    "    \"degree\": study.best_trial.params[\"degree\"]\n",
    "}\n",
    "\n",
    "svm = SVR(**svm_params)\n",
    "svm.fit(Ni_X_train, Ni_y_train)"
   ]
  },
  {
   "cell_type": "code",
   "execution_count": 48,
   "id": "4c1a69d2",
   "metadata": {},
   "outputs": [],
   "source": [
    "y_train_pred = svm.predict(Ni_X_train)\n",
    "y_test_pred = svm.predict(Ni_X_test)"
   ]
  },
  {
   "cell_type": "code",
   "execution_count": 49,
   "id": "0f707a20",
   "metadata": {},
   "outputs": [
    {
     "name": "stdout",
     "output_type": "stream",
     "text": [
      "Train RMSE:  0.412589535600197\n",
      "Test RMSE:  0.5446742738362328\n"
     ]
    }
   ],
   "source": [
    "print(\"Train RMSE: \", np.sqrt(mean_squared_error(Ni_y_train, y_train_pred)))\n",
    "print(\"Test RMSE: \", np.sqrt(mean_squared_error(Ni_y_test, y_test_pred)))"
   ]
  },
  {
   "cell_type": "code",
   "execution_count": 50,
   "id": "641d78f4",
   "metadata": {},
   "outputs": [
    {
     "name": "stdout",
     "output_type": "stream",
     "text": [
      "Train R2:  0.8855596303886814\n",
      "Test R2:  0.7752904153024178\n"
     ]
    }
   ],
   "source": [
    "print(\"Train R2: \", r2_score(Ni_y_train, y_train_pred))\n",
    "print(\"Test R2: \", r2_score(Ni_y_test, y_test_pred))"
   ]
  },
  {
   "cell_type": "code",
   "execution_count": 51,
   "id": "badc2f1d",
   "metadata": {},
   "outputs": [
    {
     "data": {
      "image/png": "[encoded data removed]",
      "text/plain": [
       "<Figure size 640x480 with 1 Axes>"
      ]
     },
     "metadata": {},
     "output_type": "display_data"
    }
   ],
   "source": [
    "plt.scatter(y_train_pred, np.array(Ni_y_train), color=\"orange\", alpha=0.3)\n",
    "plt.scatter(y_test_pred, np.array(Ni_y_test), color=\"green\", alpha=0.4)\n",
    "plt.axis(\"auto\") # scaled, tight, auto, image, square\n",
    "# plt.xlim([0, 1.5]) \n",
    "# plt.ylim(0, None) \n",
    "plt.xlabel('Predicted Values')\n",
    "plt.ylabel('Actual Values')\n",
    "\n",
    "# Add y=x line\n",
    "plt.plot([0, 4.0], [0, 4.0], color='red', linestyle='-')\n",
    "\n",
    "plt.show()"
   ]
  }
 ],
 "metadata": {
  "kernelspec": {
   "display_name": "Python 3",
   "language": "python",
   "name": "python3"
  },
  "language_info": {
   "codemirror_mode": {
    "name": "ipython",
    "version": 3
   },
   "file_extension": ".py",
   "mimetype": "text/x-python",
   "name": "python",
   "nbconvert_exporter": "python",
   "pygments_lexer": "ipython3",
   "version": "3.8.11"
  }
 },
 "nbformat": 4,
 "nbformat_minor": 5
}
