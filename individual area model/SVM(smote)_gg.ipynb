{
 "cells": [
  {
   "attachments": {},
   "cell_type": "markdown",
   "id": "451911be",
   "metadata": {},
   "source": [
    "#### Library import"
   ]
  },
  {
   "cell_type": "code",
   "execution_count": 1,
   "id": "8a394942",
   "metadata": {},
   "outputs": [],
   "source": [
    "import os\n",
    "import pandas as pd\n",
    "import numpy as np\n",
    "import matplotlib.pyplot as plt\n",
    "%matplotlib inline\n",
    "import seaborn as sns\n",
    "import tensorflow as tf\n",
    "import missingno as msno\n",
    "\n",
    "import warnings\n",
    "warnings.filterwarnings('ignore')\n",
    "\n",
    "from sklearn.model_selection import train_test_split\n",
    "from sklearn.model_selection import GridSearchCV\n",
    "from sklearn.metrics import mean_squared_error, r2_score\n",
    "from sklearn.preprocessing import StandardScaler, MinMaxScaler, RobustScaler\n",
    "from sklearn.ensemble import RandomForestRegressor, GradientBoostingRegressor, ExtraTreesRegressor\n",
    "from sklearn.model_selection import KFold\n",
    "from lightgbm import LGBMRegressor\n",
    "from xgboost import XGBRegressor\n",
    "from ngboost import NGBRegressor\n",
    "from scipy.stats import norm, skew\n",
    "\n",
    "from matplotlib.ticker import FormatStrFormatter\n",
    "\n",
    "from tensorflow import keras\n",
    "\n",
    "import re\n",
    "from tqdm import tqdm"
   ]
  },
  {
   "attachments": {},
   "cell_type": "markdown",
   "id": "31a13d68",
   "metadata": {},
   "source": [
    "#### GPU setting"
   ]
  },
  {
   "cell_type": "code",
   "execution_count": 2,
   "id": "cd001f36",
   "metadata": {},
   "outputs": [],
   "source": [
    "from tensorflow.compat.v1 import ConfigProto\n",
    "from tensorflow.compat.v1 import InteractiveSession"
   ]
  },
  {
   "cell_type": "code",
   "execution_count": 3,
   "id": "2aa07618",
   "metadata": {},
   "outputs": [],
   "source": [
    "config = ConfigProto()\n",
    "config.gpu_options.per_process_gpu_memory_fraction = 0.4\n",
    "session = InteractiveSession(config = config)"
   ]
  },
  {
   "cell_type": "code",
   "execution_count": 4,
   "id": "2a6c1daf",
   "metadata": {},
   "outputs": [
    {
     "name": "stdout",
     "output_type": "stream",
     "text": [
      "[name: \"/device:CPU:0\"\n",
      "device_type: \"CPU\"\n",
      "memory_limit: 268435456\n",
      "locality {\n",
      "}\n",
      "incarnation: 11397862008885730724\n",
      ", name: \"/device:GPU:0\"\n",
      "device_type: \"GPU\"\n",
      "memory_limit: 3435973836\n",
      "locality {\n",
      "  bus_id: 1\n",
      "  links {\n",
      "  }\n",
      "}\n",
      "incarnation: 6598169230920541738\n",
      "physical_device_desc: \"device: 0, name: NVIDIA GeForce RTX 3060 Ti, pci bus id: 0000:07:00.0, compute capability: 8.6\"\n",
      "]\n"
     ]
    }
   ],
   "source": [
    "physical_devices = tf.config.list_physical_devices('GPU')\n",
    "physical_devices\n",
    "\n",
    "from tensorflow.python.client import device_lib\n",
    "\n",
    "print(device_lib.list_local_devices())"
   ]
  },
  {
   "cell_type": "code",
   "execution_count": 5,
   "id": "1c58374d",
   "metadata": {},
   "outputs": [],
   "source": [
    "import os\n",
    "\n",
    "os.environ[\"CUDA_VISIBLE_DEVICES\"]=\"0\"\n",
    "gpus = tf.config.experimental.list_physical_devices('GPU')\n",
    "if gpus:\n",
    "    try:\n",
    "        tf.config.experimental.set_memory_growth(gpus[0], True)\n",
    "    except RuntimeError as e:\n",
    "        print(e)"
   ]
  },
  {
   "attachments": {},
   "cell_type": "markdown",
   "id": "cb740f81",
   "metadata": {},
   "source": [
    "#### Data import and preprocessing"
   ]
  },
  {
   "cell_type": "code",
   "execution_count": 6,
   "id": "9288345d",
   "metadata": {
    "scrolled": true
   },
   "outputs": [
    {
     "data": {
      "text/plain": [
       "Index(['OBJECTID_x', 'ID', 'pH', 'As', 'Cd', 'Ni', 'Pb', 'Zn', 'Hg', 'slope',\n",
       "       'altitude', 'profile_curve', 'profile_c_num', 'profile_c_abs',\n",
       "       'planform_curve', 'planform_c_num', 'planform_c_abs', 'HYDGRP',\n",
       "       'HYDGRP_A', 'HYDGRP_B', 'HYDGRP_C', 'HYDGRP_D', 'ANION_EXCL', 'SOL_CRK',\n",
       "       'SOL_K1', 'CLAY1', 'SILT1', 'SAND1', 'ROCK1', 'SOL_EC1', 'distance'],\n",
       "      dtype='object')"
      ]
     },
     "execution_count": 6,
     "metadata": {},
     "output_type": "execute_result"
    }
   ],
   "source": [
    "data = pd.read_csv(\"data/data_gg.csv\")\n",
    "data.columns"
   ]
  },
  {
   "cell_type": "code",
   "execution_count": 7,
   "id": "bbf87a23",
   "metadata": {},
   "outputs": [
    {
     "data": {
      "text/plain": [
       "Index(['pH', 'As', 'Cd', 'Ni', 'Pb', 'Zn', 'Hg', 'slope', 'altitude',\n",
       "       'profile_curve', 'planform_curve', 'HYDGRP_A', 'HYDGRP_B', 'HYDGRP_C',\n",
       "       'HYDGRP_D', 'SOL_K1', 'CLAY1', 'SILT1', 'SAND1', 'ROCK1', 'distance'],\n",
       "      dtype='object')"
      ]
     },
     "execution_count": 7,
     "metadata": {},
     "output_type": "execute_result"
    }
   ],
   "source": [
    "data = data.drop(['OBJECTID_x','ID','HYDGRP','profile_c_num', 'profile_c_abs','planform_c_num', 'planform_c_abs','ANION_EXCL','SOL_CRK','SOL_EC1'], axis = 1)\n",
    "data.columns"
   ]
  },
  {
   "cell_type": "code",
   "execution_count": 8,
   "id": "2dc33c24",
   "metadata": {},
   "outputs": [],
   "source": [
    "As = data\n",
    "Cd = data\n",
    "Ni = data"
   ]
  },
  {
   "cell_type": "code",
   "execution_count": 9,
   "id": "85f4f13d",
   "metadata": {},
   "outputs": [],
   "source": [
    "As = As.drop([\"Cd\", \"Ni\", \"Pb\", \"Zn\", \"Hg\"], axis = 1)\n",
    "Cd = Cd.drop([\"As\", \"Ni\", \"Pb\", \"Zn\", \"Hg\"], axis = 1)\n",
    "Ni = Ni.drop([\"As\", \"Cd\", \"Pb\", \"Zn\", \"Hg\"], axis = 1)"
   ]
  },
  {
   "cell_type": "code",
   "execution_count": 10,
   "id": "daff7fe8",
   "metadata": {},
   "outputs": [
    {
     "name": "stdout",
     "output_type": "stream",
     "text": [
      "(781, 16)\n",
      "(781, 16)\n",
      "(781, 16)\n"
     ]
    }
   ],
   "source": [
    "print(As.shape)\n",
    "print(Cd.shape)\n",
    "print(Ni.shape)"
   ]
  },
  {
   "attachments": {},
   "cell_type": "markdown",
   "id": "32a5223d",
   "metadata": {},
   "source": [
    "#### Oversampling by SMOGN (SMOTE Regression)"
   ]
  },
  {
   "cell_type": "code",
   "execution_count": 11,
   "id": "68a479be",
   "metadata": {},
   "outputs": [],
   "source": [
    "import smogn"
   ]
  },
  {
   "cell_type": "code",
   "execution_count": 12,
   "id": "60543147",
   "metadata": {},
   "outputs": [
    {
     "name": "stderr",
     "output_type": "stream",
     "text": [
      "dist_matrix:   0%|          | 0/148 [00:00<?, ?it/s]"
     ]
    },
    {
     "name": "stderr",
     "output_type": "stream",
     "text": [
      "dist_matrix: 100%|##########| 148/148 [00:08<00:00, 18.06it/s]\n",
      "synth_matrix: 100%|##########| 148/148 [00:00<00:00, 201.62it/s]\n",
      "r_index: 100%|##########| 44/44 [00:00<00:00, 610.97it/s]\n",
      "dist_matrix: 100%|##########| 88/88 [00:02<00:00, 29.86it/s]\n",
      "synth_matrix: 100%|##########| 88/88 [00:00<00:00, 97.65it/s]\n",
      "r_index: 100%|##########| 79/79 [00:00<00:00, 602.92it/s]\n",
      "dist_matrix: 100%|##########| 115/115 [00:05<00:00, 22.34it/s]\n",
      "synth_matrix: 100%|##########| 115/115 [00:00<00:00, 150.49it/s]\n",
      "r_index: 100%|##########| 91/91 [00:00<00:00, 579.49it/s]\n"
     ]
    }
   ],
   "source": [
    "As_smogn = smogn.smoter(data = As, y = 'As', samp_method = 'extreme')\n",
    "Cd_smogn = smogn.smoter(data = Cd, y = 'Cd', samp_method = 'extreme')\n",
    "Ni_smogn = smogn.smoter(data = Ni, y = 'Ni', samp_method = 'extreme')"
   ]
  },
  {
   "cell_type": "code",
   "execution_count": 13,
   "id": "7072810a",
   "metadata": {},
   "outputs": [
    {
     "name": "stdout",
     "output_type": "stream",
     "text": [
      "(1143, 16)\n",
      "(1319, 16)\n",
      "(1199, 16)\n"
     ]
    }
   ],
   "source": [
    "print(As_smogn.shape)\n",
    "print(Cd_smogn.shape)\n",
    "print(Ni_smogn.shape)"
   ]
  },
  {
   "attachments": {},
   "cell_type": "markdown",
   "id": "ed72a9b1",
   "metadata": {},
   "source": [
    "#### Eliminate outlier and train / test split"
   ]
  },
  {
   "cell_type": "code",
   "execution_count": 14,
   "id": "43604a42",
   "metadata": {},
   "outputs": [],
   "source": [
    "def eli_outlier(data, value):\n",
    "    q1 = data[value].quantile(0.25)\n",
    "    q3 = data[value].quantile(0.75)\n",
    "\n",
    "    iqr = q3 - q1\n",
    "\n",
    "    q1_condition = data[value] < q1-1.5*iqr\n",
    "    q3_condition = data[value] > q3+1.5*iqr\n",
    "\n",
    "    reset_q1_index = data[q1_condition].index\n",
    "    reset_q3_index = data[q3_condition].index\n",
    "\n",
    "    data.drop(reset_q1_index, inplace = True)\n",
    "    data.drop(reset_q3_index, inplace = True)\n",
    "\n",
    "    return data"
   ]
  },
  {
   "cell_type": "code",
   "execution_count": 15,
   "id": "9b7632f2",
   "metadata": {},
   "outputs": [],
   "source": [
    "As_ros = eli_outlier(As_smogn, \"As\")\n",
    "Cd_ros = eli_outlier(Cd_smogn, \"Cd\")\n",
    "Ni_ros = eli_outlier(Ni_smogn, \"Ni\")"
   ]
  },
  {
   "cell_type": "code",
   "execution_count": 16,
   "id": "45ec138e",
   "metadata": {},
   "outputs": [],
   "source": [
    "As_X = As_ros.drop([\"As\"], axis=1)\n",
    "Cd_X = Cd_ros.drop([\"Cd\"], axis=1)\n",
    "Ni_X = Ni_ros.drop([\"Ni\"], axis=1)\n",
    "\n",
    "As_y = As_ros[\"As\"]\n",
    "Cd_y = Cd_ros[\"Cd\"]\n",
    "Ni_y = Ni_ros[\"Ni\"]"
   ]
  },
  {
   "cell_type": "code",
   "execution_count": 17,
   "id": "6463b1c2",
   "metadata": {},
   "outputs": [],
   "source": [
    "As_y = np.log1p(As_ros[\"As\"])\n",
    "Cd_y = np.log1p(Cd_ros[\"Cd\"])\n",
    "Ni_y = np.log1p(Ni_ros[\"Ni\"])"
   ]
  },
  {
   "cell_type": "code",
   "execution_count": 18,
   "id": "fb94ff27",
   "metadata": {},
   "outputs": [
    {
     "name": "stdout",
     "output_type": "stream",
     "text": [
      "(866, 15)\n",
      "(1222, 15)\n",
      "(1087, 15)\n"
     ]
    }
   ],
   "source": [
    "print(As_X.shape)\n",
    "print(Cd_X.shape)\n",
    "print(Ni_X.shape)"
   ]
  },
  {
   "attachments": {},
   "cell_type": "markdown",
   "id": "c92e5bb6",
   "metadata": {},
   "source": [
    "StandardScaler"
   ]
  },
  {
   "cell_type": "code",
   "execution_count": 19,
   "id": "7d0fa112",
   "metadata": {},
   "outputs": [],
   "source": [
    "from sklearn.preprocessing import StandardScaler\n",
    "\n",
    "scaler = StandardScaler()\n",
    "\n",
    "As_X_train, As_X_test, As_y_train, As_y_test = train_test_split(As_X, As_y, test_size=0.2, random_state=42)\n",
    "Cd_X_train, Cd_X_test, Cd_y_train, Cd_y_test = train_test_split(Cd_X, Cd_y, test_size=0.2, random_state=42)\n",
    "Ni_X_train, Ni_X_test, Ni_y_train, Ni_y_test = train_test_split(Ni_X, Ni_y, test_size=0.2, random_state=42)\n",
    "\n",
    "As_X_train = scaler.fit_transform(As_X_train)\n",
    "As_X_test = scaler.fit_transform(As_X_test)\n",
    "\n",
    "Cd_X_train = scaler.fit_transform(Cd_X_train)\n",
    "Cd_X_test = scaler.fit_transform(Cd_X_test)\n",
    "\n",
    "Ni_X_train = scaler.fit_transform(Ni_X_train)\n",
    "Ni_X_test = scaler.fit_transform(Ni_X_test)"
   ]
  },
  {
   "cell_type": "code",
   "execution_count": 20,
   "id": "416a7027",
   "metadata": {},
   "outputs": [
    {
     "data": {
      "text/plain": [
       "' from sklearn.preprocessing import StandardScaler\\n\\nscaler = StandardScaler()\\nAs_X_scaled = scaler.fit_transform(As_X)\\nCd_X_scaled = scaler.fit_transform(Cd_X)\\nNi_X_scaled = scaler.fit_transform(Ni_X)\\n\\nAs_X_train, As_X_test, As_y_train, As_y_test = train_test_split(As_X_scaled, As_y, test_size=0.2, random_state=42)\\nCd_X_train, Cd_X_test, Cd_y_train, Cd_y_test = train_test_split(Cd_X_scaled, Cd_y, test_size=0.2, random_state=42)\\nNi_X_train, Ni_X_test, Ni_y_train, Ni_y_test = train_test_split(Ni_X_scaled, Ni_y, test_size=0.2, random_state=42) '"
      ]
     },
     "execution_count": 20,
     "metadata": {},
     "output_type": "execute_result"
    }
   ],
   "source": [
    "''' from sklearn.preprocessing import StandardScaler\n",
    "\n",
    "scaler = StandardScaler()\n",
    "As_X_scaled = scaler.fit_transform(As_X)\n",
    "Cd_X_scaled = scaler.fit_transform(Cd_X)\n",
    "Ni_X_scaled = scaler.fit_transform(Ni_X)\n",
    "\n",
    "As_X_train, As_X_test, As_y_train, As_y_test = train_test_split(As_X_scaled, As_y, test_size=0.2, random_state=42)\n",
    "Cd_X_train, Cd_X_test, Cd_y_train, Cd_y_test = train_test_split(Cd_X_scaled, Cd_y, test_size=0.2, random_state=42)\n",
    "Ni_X_train, Ni_X_test, Ni_y_train, Ni_y_test = train_test_split(Ni_X_scaled, Ni_y, test_size=0.2, random_state=42) '''"
   ]
  },
  {
   "attachments": {},
   "cell_type": "markdown",
   "id": "2fe0d293",
   "metadata": {},
   "source": [
    "MinMaxScaler"
   ]
  },
  {
   "cell_type": "code",
   "execution_count": 21,
   "id": "e8596f9f",
   "metadata": {},
   "outputs": [],
   "source": [
    "# from sklearn.preprocessing import MinMaxScaler\n",
    "\n",
    "# scaler = MinMaxScaler()\n",
    "# As_X_scaled = scaler.fit_transform(As_X)\n",
    "# Cd_X_scaled = scaler.fit_transform(Cd_X)\n",
    "# Ni_X_scaled = scaler.fit_transform(Ni_X)\n",
    "\n",
    "# As_X_train, As_X_test, As_y_train, As_y_test = train_test_split(As_X_scaled, As_y, test_size=0.2, random_state=42)\n",
    "# Cd_X_train, Cd_X_test, Cd_y_train, Cd_y_test = train_test_split(Cd_X_scaled, Cd_y, test_size=0.2, random_state=42)\n",
    "# Ni_X_train, Ni_X_test, Ni_y_train, Ni_y_test = train_test_split(Ni_X_scaled, Ni_y, test_size=0.2, random_state=42)"
   ]
  },
  {
   "cell_type": "code",
   "execution_count": 22,
   "id": "66cd05c6",
   "metadata": {},
   "outputs": [
    {
     "name": "stdout",
     "output_type": "stream",
     "text": [
      "(692, 15)\n",
      "(977, 15)\n",
      "(869, 15)\n"
     ]
    }
   ],
   "source": [
    "print(As_X_train.shape)\n",
    "print(Cd_X_train.shape)\n",
    "print(Ni_X_train.shape)"
   ]
  },
  {
   "attachments": {},
   "cell_type": "markdown",
   "id": "bd11b27e",
   "metadata": {},
   "source": [
    "#### 10-Fold Crossvalidation"
   ]
  },
  {
   "cell_type": "code",
   "execution_count": 23,
   "id": "7a765916",
   "metadata": {},
   "outputs": [],
   "source": [
    "# kf = KFold(n_splits = 10, random_state = 42, shuffle = True)"
   ]
  },
  {
   "attachments": {},
   "cell_type": "markdown",
   "id": "859638d0",
   "metadata": {},
   "source": [
    "#### Optuna Optimization"
   ]
  },
  {
   "cell_type": "code",
   "execution_count": 24,
   "id": "92a47d83",
   "metadata": {},
   "outputs": [],
   "source": [
    "import optuna\n",
    "\n",
    "from optuna import Trial\n",
    "from optuna.samplers import TPESampler"
   ]
  },
  {
   "cell_type": "code",
   "execution_count": 25,
   "id": "a7669fea",
   "metadata": {},
   "outputs": [],
   "source": [
    "from sklearn.model_selection import cross_val_score, KFold\n",
    "from sklearn.svm import SVR\n",
    "\n",
    "\n",
    "def objectiveSVM(trial: Trial, X_train, y_train) -> float:\n",
    "    C = trial.suggest_loguniform('C', 0.1, 100.0)\n",
    "    epsilon = trial.suggest_loguniform('epsilon', 0.01, 1.0)\n",
    "    kernel = trial.suggest_categorical('kernel', ['linear', 'rbf', 'poly'])\n",
    "    degree = trial.suggest_int('degree', 1, 5)\n",
    "    \n",
    "    kf = KFold(n_splits=5, shuffle=True, random_state=42)\n",
    "\n",
    "    model = SVR(C=C, epsilon=epsilon, kernel=kernel, degree=degree)\n",
    "\n",
    "    r2 = cross_val_score(model, X_train, y_train, scoring='r2', cv=kf)\n",
    "    r2 = r2.mean()\n",
    "\n",
    "    return r2\n"
   ]
  },
  {
   "attachments": {},
   "cell_type": "markdown",
   "id": "b0988f46",
   "metadata": {},
   "source": [
    "####  Optimization"
   ]
  },
  {
   "cell_type": "code",
   "execution_count": 26,
   "id": "94f5e00d",
   "metadata": {
    "scrolled": false
   },
   "outputs": [
    {
     "name": "stderr",
     "output_type": "stream",
     "text": [
      "\u001b[32m[I 2023-08-24 14:31:58,546]\u001b[0m A new study created in memory with name: svm_parameter_opt\u001b[0m\n",
      "\u001b[32m[I 2023-08-24 14:31:58,783]\u001b[0m Trial 0 finished with value: 0.4593354978111823 and parameters: {'C': 2.0445221972091594, 'epsilon': 0.015668764527030515, 'kernel': 'rbf', 'degree': 5}. Best is trial 0 with value: 0.4593354978111823.\u001b[0m\n",
      "\u001b[32m[I 2023-08-24 14:31:58,898]\u001b[0m Trial 1 finished with value: 0.4173681282286372 and parameters: {'C': 0.2925196788781803, 'epsilon': 0.040558393138111284, 'kernel': 'rbf', 'degree': 1}. Best is trial 0 with value: 0.4593354978111823.\u001b[0m\n",
      "\u001b[32m[I 2023-08-24 14:31:58,979]\u001b[0m Trial 2 finished with value: 0.41753569332924023 and parameters: {'C': 0.34206926290339573, 'epsilon': 0.1949867745124697, 'kernel': 'rbf', 'degree': 2}. Best is trial 0 with value: 0.4593354978111823.\u001b[0m\n",
      "\u001b[32m[I 2023-08-24 14:31:59,135]\u001b[0m Trial 3 finished with value: -1.5513771948396673 and parameters: {'C': 2.57136305888214, 'epsilon': 0.018210355166356613, 'kernel': 'poly', 'degree': 5}. Best is trial 0 with value: 0.4593354978111823.\u001b[0m\n",
      "\u001b[32m[I 2023-08-24 14:31:59,410]\u001b[0m Trial 4 finished with value: 0.2291040805305043 and parameters: {'C': 2.394811894152556, 'epsilon': 0.2988941421139943, 'kernel': 'linear', 'degree': 2}. Best is trial 0 with value: 0.4593354978111823.\u001b[0m\n",
      "\u001b[32m[I 2023-08-24 14:31:59,582]\u001b[0m Trial 5 finished with value: 0.09744554305883395 and parameters: {'C': 3.7045467763769366, 'epsilon': 0.01682435554147005, 'kernel': 'poly', 'degree': 2}. Best is trial 0 with value: 0.4593354978111823.\u001b[0m\n",
      "\u001b[32m[I 2023-08-24 14:31:59,837]\u001b[0m Trial 6 finished with value: 0.20104886117914025 and parameters: {'C': 1.0146960131604472, 'epsilon': 0.05421663370036997, 'kernel': 'linear', 'degree': 1}. Best is trial 0 with value: 0.4593354978111823.\u001b[0m\n",
      "\u001b[32m[I 2023-08-24 14:31:59,918]\u001b[0m Trial 7 finished with value: 0.20225371225712388 and parameters: {'C': 0.16299588272637394, 'epsilon': 0.01939271238866026, 'kernel': 'poly', 'degree': 1}. Best is trial 0 with value: 0.4593354978111823.\u001b[0m\n",
      "\u001b[32m[I 2023-08-24 14:32:00,250]\u001b[0m Trial 8 finished with value: 0.33661257236307784 and parameters: {'C': 36.23658987088346, 'epsilon': 0.04665511376643943, 'kernel': 'rbf', 'degree': 1}. Best is trial 0 with value: 0.4593354978111823.\u001b[0m\n",
      "\u001b[32m[I 2023-08-24 14:32:00,396]\u001b[0m Trial 9 finished with value: 0.456161457739389 and parameters: {'C': 1.463001747641072, 'epsilon': 0.0138117773672599, 'kernel': 'rbf', 'degree': 4}. Best is trial 0 with value: 0.4593354978111823.\u001b[0m\n",
      "\u001b[32m[I 2023-08-24 14:32:00,414]\u001b[0m Trial 10 finished with value: 0.09877804867360862 and parameters: {'C': 24.81154510267658, 'epsilon': 0.8421134313778547, 'kernel': 'rbf', 'degree': 5}. Best is trial 0 with value: 0.4593354978111823.\u001b[0m\n",
      "\u001b[32m[I 2023-08-24 14:32:00,641]\u001b[0m Trial 11 finished with value: 0.4138428112825398 and parameters: {'C': 9.42545721185192, 'epsilon': 0.01130617827943801, 'kernel': 'rbf', 'degree': 4}. Best is trial 0 with value: 0.4593354978111823.\u001b[0m\n",
      "\u001b[32m[I 2023-08-24 14:32:00,814]\u001b[0m Trial 12 finished with value: 0.4449827403952457 and parameters: {'C': 0.7245639507970546, 'epsilon': 0.010290946858483176, 'kernel': 'rbf', 'degree': 4}. Best is trial 0 with value: 0.4593354978111823.\u001b[0m\n",
      "\u001b[32m[I 2023-08-24 14:32:00,961]\u001b[0m Trial 13 finished with value: 0.4452320196346052 and parameters: {'C': 6.455545719574878, 'epsilon': 0.09935301188615298, 'kernel': 'rbf', 'degree': 4}. Best is trial 0 with value: 0.4593354978111823.\u001b[0m\n",
      "\u001b[32m[I 2023-08-24 14:32:01,100]\u001b[0m Trial 14 finished with value: 0.4531010212239659 and parameters: {'C': 1.0466439724974839, 'epsilon': 0.025714311518590296, 'kernel': 'rbf', 'degree': 5}. Best is trial 0 with value: 0.4593354978111823.\u001b[0m\n",
      "\u001b[32m[I 2023-08-24 14:32:03,014]\u001b[0m Trial 15 finished with value: 0.20882816441526764 and parameters: {'C': 16.234098060643788, 'epsilon': 0.12138851833989618, 'kernel': 'linear', 'degree': 3}. Best is trial 0 with value: 0.4593354978111823.\u001b[0m\n",
      "\u001b[32m[I 2023-08-24 14:32:03,151]\u001b[0m Trial 16 finished with value: 0.45701696403309366 and parameters: {'C': 1.446017416127687, 'epsilon': 0.03162903100641242, 'kernel': 'rbf', 'degree': 4}. Best is trial 0 with value: 0.4593354978111823.\u001b[0m\n",
      "\u001b[32m[I 2023-08-24 14:32:03,601]\u001b[0m Trial 17 finished with value: 0.23254143758063045 and parameters: {'C': 62.91457538054007, 'epsilon': 0.02729319902657091, 'kernel': 'rbf', 'degree': 3}. Best is trial 0 with value: 0.4593354978111823.\u001b[0m\n",
      "\u001b[32m[I 2023-08-24 14:32:03,764]\u001b[0m Trial 18 finished with value: 0.20242812843057284 and parameters: {'C': 0.4708856136166071, 'epsilon': 0.05789132618756175, 'kernel': 'linear', 'degree': 5}. Best is trial 0 with value: 0.4593354978111823.\u001b[0m\n",
      "\u001b[32m[I 2023-08-24 14:32:03,849]\u001b[0m Trial 19 finished with value: 0.1277577165972209 and parameters: {'C': 0.10168469168316523, 'epsilon': 0.03211191883478398, 'kernel': 'poly', 'degree': 4}. Best is trial 0 with value: 0.4593354978111823.\u001b[0m\n",
      "\u001b[32m[I 2023-08-24 14:32:03,996]\u001b[0m Trial 20 finished with value: 0.44256506556580144 and parameters: {'C': 6.404631329925906, 'epsilon': 0.08557986843823942, 'kernel': 'rbf', 'degree': 5}. Best is trial 0 with value: 0.4593354978111823.\u001b[0m\n",
      "\u001b[32m[I 2023-08-24 14:32:04,139]\u001b[0m Trial 21 finished with value: 0.45680031636654095 and parameters: {'C': 1.631542154573537, 'epsilon': 0.014004845424602664, 'kernel': 'rbf', 'degree': 4}. Best is trial 0 with value: 0.4593354978111823.\u001b[0m\n",
      "\u001b[32m[I 2023-08-24 14:32:04,281]\u001b[0m Trial 22 finished with value: 0.46022411512071376 and parameters: {'C': 1.9080614399000873, 'epsilon': 0.022368550250461958, 'kernel': 'rbf', 'degree': 4}. Best is trial 22 with value: 0.46022411512071376.\u001b[0m\n",
      "\u001b[32m[I 2023-08-24 14:32:04,442]\u001b[0m Trial 23 finished with value: 0.448551470676516 and parameters: {'C': 4.083936709505251, 'epsilon': 0.021425466620572608, 'kernel': 'rbf', 'degree': 3}. Best is trial 22 with value: 0.46022411512071376.\u001b[0m\n",
      "\u001b[32m[I 2023-08-24 14:32:04,564]\u001b[0m Trial 24 finished with value: 0.437896120634407 and parameters: {'C': 0.59582913665211, 'epsilon': 0.03381861774722828, 'kernel': 'rbf', 'degree': 4}. Best is trial 22 with value: 0.46022411512071376.\u001b[0m\n",
      "\u001b[32m[I 2023-08-24 14:32:04,691]\u001b[0m Trial 25 finished with value: 0.45716746164356714 and parameters: {'C': 1.8140045613015234, 'epsilon': 0.06753125748884378, 'kernel': 'rbf', 'degree': 5}. Best is trial 22 with value: 0.46022411512071376.\u001b[0m\n",
      "\u001b[32m[I 2023-08-24 14:32:04,867]\u001b[0m Trial 26 finished with value: 0.42411648945474933 and parameters: {'C': 9.710538137330882, 'epsilon': 0.06485639290230245, 'kernel': 'rbf', 'degree': 5}. Best is trial 22 with value: 0.46022411512071376.\u001b[0m\n",
      "\u001b[32m[I 2023-08-24 14:32:04,958]\u001b[0m Trial 27 finished with value: 0.44661609960990384 and parameters: {'C': 2.3850852017308046, 'epsilon': 0.2354704125545769, 'kernel': 'rbf', 'degree': 5}. Best is trial 22 with value: 0.46022411512071376.\u001b[0m\n",
      "\u001b[32m[I 2023-08-24 14:32:05,069]\u001b[0m Trial 28 finished with value: 0.13344504826874706 and parameters: {'C': 4.9302262866934035, 'epsilon': 0.7722756550047668, 'kernel': 'linear', 'degree': 5}. Best is trial 22 with value: 0.46022411512071376.\u001b[0m\n",
      "\u001b[32m[I 2023-08-24 14:32:05,151]\u001b[0m Trial 29 finished with value: 0.24045135103810464 and parameters: {'C': 0.19468459273626212, 'epsilon': 0.14632163157359615, 'kernel': 'poly', 'degree': 5}. Best is trial 22 with value: 0.46022411512071376.\u001b[0m\n",
      "\u001b[32m[I 2023-08-24 14:32:05,296]\u001b[0m Trial 30 finished with value: 0.4499086380068871 and parameters: {'C': 0.878124537219388, 'epsilon': 0.042009973470268594, 'kernel': 'rbf', 'degree': 4}. Best is trial 22 with value: 0.46022411512071376.\u001b[0m\n",
      "\u001b[32m[I 2023-08-24 14:32:05,440]\u001b[0m Trial 31 finished with value: 0.45800127850918787 and parameters: {'C': 1.571309809219558, 'epsilon': 0.037414093063764, 'kernel': 'rbf', 'degree': 3}. Best is trial 22 with value: 0.46022411512071376.\u001b[0m\n",
      "\u001b[32m[I 2023-08-24 14:32:05,563]\u001b[0m Trial 32 finished with value: 0.4196388994212187 and parameters: {'C': 0.3541613545495674, 'epsilon': 0.08645077864670564, 'kernel': 'rbf', 'degree': 3}. Best is trial 22 with value: 0.46022411512071376.\u001b[0m\n",
      "\u001b[32m[I 2023-08-24 14:32:05,692]\u001b[0m Trial 33 finished with value: 0.4587197255860776 and parameters: {'C': 1.921870463651207, 'epsilon': 0.06852537806181726, 'kernel': 'rbf', 'degree': 3}. Best is trial 22 with value: 0.46022411512071376.\u001b[0m\n",
      "\u001b[32m[I 2023-08-24 14:32:05,841]\u001b[0m Trial 34 finished with value: 0.45973422491872135 and parameters: {'C': 2.5103871142454746, 'epsilon': 0.022830325007630943, 'kernel': 'rbf', 'degree': 2}. Best is trial 22 with value: 0.46022411512071376.\u001b[0m\n",
      "\u001b[32m[I 2023-08-24 14:32:06,003]\u001b[0m Trial 35 finished with value: 0.44986167939907123 and parameters: {'C': 3.706929798320928, 'epsilon': 0.021815987170922008, 'kernel': 'rbf', 'degree': 2}. Best is trial 22 with value: 0.46022411512071376.\u001b[0m\n",
      "\u001b[32m[I 2023-08-24 14:32:06,153]\u001b[0m Trial 36 finished with value: 0.13727587055061952 and parameters: {'C': 2.4170522868971376, 'epsilon': 0.015148864227394046, 'kernel': 'poly', 'degree': 2}. Best is trial 22 with value: 0.46022411512071376.\u001b[0m\n",
      "\u001b[32m[I 2023-08-24 14:32:06,198]\u001b[0m Trial 37 finished with value: 0.3716522069015512 and parameters: {'C': 2.3813842751598875, 'epsilon': 0.5219965803871696, 'kernel': 'rbf', 'degree': 2}. Best is trial 22 with value: 0.46022411512071376.\u001b[0m\n",
      "\u001b[32m[I 2023-08-24 14:32:06,502]\u001b[0m Trial 38 finished with value: 0.19619781369706596 and parameters: {'C': 1.1534562650590603, 'epsilon': 0.024884532663374585, 'kernel': 'linear', 'degree': 3}. Best is trial 22 with value: 0.46022411512071376.\u001b[0m\n",
      "\u001b[32m[I 2023-08-24 14:32:06,666]\u001b[0m Trial 39 finished with value: 0.45676254645376446 and parameters: {'C': 3.0954222449176294, 'epsilon': 0.018439602614684043, 'kernel': 'rbf', 'degree': 1}. Best is trial 22 with value: 0.46022411512071376.\u001b[0m\n",
      "\u001b[32m[I 2023-08-24 14:32:06,997]\u001b[0m Trial 40 finished with value: -0.13310836011231547 and parameters: {'C': 9.857010050769892, 'epsilon': 0.048128826797049294, 'kernel': 'poly', 'degree': 2}. Best is trial 22 with value: 0.46022411512071376.\u001b[0m\n",
      "\u001b[32m[I 2023-08-24 14:32:07,137]\u001b[0m Trial 41 finished with value: 0.45884964537728157 and parameters: {'C': 1.7589452728566872, 'epsilon': 0.03719993442997365, 'kernel': 'rbf', 'degree': 3}. Best is trial 22 with value: 0.46022411512071376.\u001b[0m\n",
      "\u001b[32m[I 2023-08-24 14:32:07,318]\u001b[0m Trial 42 finished with value: 0.4417037908420127 and parameters: {'C': 5.344787323148041, 'epsilon': 0.012830801912363753, 'kernel': 'rbf', 'degree': 3}. Best is trial 22 with value: 0.46022411512071376.\u001b[0m\n",
      "\u001b[32m[I 2023-08-24 14:32:07,461]\u001b[0m Trial 43 finished with value: 0.44558594835815474 and parameters: {'C': 0.7279455816249671, 'epsilon': 0.01755876257220305, 'kernel': 'rbf', 'degree': 3}. Best is trial 22 with value: 0.46022411512071376.\u001b[0m\n",
      "\u001b[32m[I 2023-08-24 14:32:07,622]\u001b[0m Trial 44 finished with value: 0.45804915812006114 and parameters: {'C': 3.004800114060003, 'epsilon': 0.04278226095548203, 'kernel': 'rbf', 'degree': 2}. Best is trial 22 with value: 0.46022411512071376.\u001b[0m\n",
      "\u001b[32m[I 2023-08-24 14:32:07,778]\u001b[0m Trial 45 finished with value: 0.46076709049889236 and parameters: {'C': 1.9770291251998935, 'epsilon': 0.028131754609801163, 'kernel': 'rbf', 'degree': 2}. Best is trial 45 with value: 0.46076709049889236.\u001b[0m\n",
      "\u001b[32m[I 2023-08-24 14:32:07,934]\u001b[0m Trial 46 finished with value: 0.453941383768765 and parameters: {'C': 1.1798288304774487, 'epsilon': 0.02747376706169493, 'kernel': 'rbf', 'degree': 2}. Best is trial 45 with value: 0.46076709049889236.\u001b[0m\n",
      "\u001b[32m[I 2023-08-24 14:32:08,078]\u001b[0m Trial 47 finished with value: 0.4346777737065234 and parameters: {'C': 0.4891932961702737, 'epsilon': 0.021310820694875672, 'kernel': 'rbf', 'degree': 2}. Best is trial 45 with value: 0.46076709049889236.\u001b[0m\n",
      "\u001b[32m[I 2023-08-24 14:32:08,340]\u001b[0m Trial 48 finished with value: 0.19443855603924934 and parameters: {'C': 0.8059230839148274, 'epsilon': 0.011464270255981313, 'kernel': 'linear', 'degree': 1}. Best is trial 45 with value: 0.46076709049889236.\u001b[0m\n",
      "\u001b[32m[I 2023-08-24 14:32:08,551]\u001b[0m Trial 49 finished with value: 0.42451819978538385 and parameters: {'C': 7.549693375015083, 'epsilon': 0.010022427951813828, 'kernel': 'rbf', 'degree': 1}. Best is trial 45 with value: 0.46076709049889236.\u001b[0m\n",
      "\u001b[32m[I 2023-08-24 14:32:08,797]\u001b[0m Trial 50 finished with value: 0.37994424846728575 and parameters: {'C': 16.655361731550652, 'epsilon': 0.029006460918895652, 'kernel': 'rbf', 'degree': 2}. Best is trial 45 with value: 0.46076709049889236.\u001b[0m\n",
      "\u001b[32m[I 2023-08-24 14:32:08,934]\u001b[0m Trial 51 finished with value: 0.45850920914892085 and parameters: {'C': 2.236853643170276, 'epsilon': 0.05014999042799408, 'kernel': 'rbf', 'degree': 3}. Best is trial 45 with value: 0.46076709049889236.\u001b[0m\n",
      "\u001b[32m[I 2023-08-24 14:32:09,087]\u001b[0m Trial 52 finished with value: 0.45908643992072495 and parameters: {'C': 1.932030604427884, 'epsilon': 0.03817918460314864, 'kernel': 'rbf', 'degree': 3}. Best is trial 45 with value: 0.46076709049889236.\u001b[0m\n",
      "\u001b[32m[I 2023-08-24 14:32:09,241]\u001b[0m Trial 53 finished with value: 0.45485530312952377 and parameters: {'C': 1.1703130398490884, 'epsilon': 0.01682822559693702, 'kernel': 'rbf', 'degree': 4}. Best is trial 45 with value: 0.46076709049889236.\u001b[0m\n",
      "\u001b[32m[I 2023-08-24 14:32:09,409]\u001b[0m Trial 54 finished with value: 0.44907849676648925 and parameters: {'C': 4.075295408700515, 'epsilon': 0.034871070022097626, 'kernel': 'rbf', 'degree': 3}. Best is trial 45 with value: 0.46076709049889236.\u001b[0m\n",
      "\u001b[32m[I 2023-08-24 14:32:09,572]\u001b[0m Trial 55 finished with value: 0.4563972540710117 and parameters: {'C': 3.153879586993791, 'epsilon': 0.02384762847908796, 'kernel': 'rbf', 'degree': 4}. Best is trial 45 with value: 0.46076709049889236.\u001b[0m\n",
      "\u001b[32m[I 2023-08-24 14:32:09,721]\u001b[0m Trial 56 finished with value: 0.21627229250255892 and parameters: {'C': 1.423996087619017, 'epsilon': 0.0151160091311343, 'kernel': 'poly', 'degree': 3}. Best is trial 45 with value: 0.46076709049889236.\u001b[0m\n",
      "\u001b[32m[I 2023-08-24 14:32:09,869]\u001b[0m Trial 57 finished with value: 0.45910512291993466 and parameters: {'C': 1.9619645150491427, 'epsilon': 0.038284362043677356, 'kernel': 'rbf', 'degree': 2}. Best is trial 45 with value: 0.46076709049889236.\u001b[0m\n",
      "\u001b[32m[I 2023-08-24 14:32:10,057]\u001b[0m Trial 58 finished with value: 0.44502838761120833 and parameters: {'C': 4.686256607956402, 'epsilon': 0.019635073363846442, 'kernel': 'rbf', 'degree': 2}. Best is trial 45 with value: 0.46076709049889236.\u001b[0m\n",
      "\u001b[32m[I 2023-08-24 14:32:10,307]\u001b[0m Trial 59 finished with value: 0.2024897893879219 and parameters: {'C': 0.9916179975600348, 'epsilon': 0.05810447092081513, 'kernel': 'linear', 'degree': 2}. Best is trial 45 with value: 0.46076709049889236.\u001b[0m\n",
      "\u001b[32m[I 2023-08-24 14:32:10,900]\u001b[0m Trial 60 finished with value: 0.13170263181061811 and parameters: {'C': 94.3095756413407, 'epsilon': 0.030360767666557213, 'kernel': 'rbf', 'degree': 1}. Best is trial 45 with value: 0.46076709049889236.\u001b[0m\n",
      "\u001b[32m[I 2023-08-24 14:32:11,051]\u001b[0m Trial 61 finished with value: 0.4606040499168196 and parameters: {'C': 1.9172889785735332, 'epsilon': 0.024349312031058622, 'kernel': 'rbf', 'degree': 2}. Best is trial 45 with value: 0.46076709049889236.\u001b[0m\n",
      "\u001b[32m[I 2023-08-24 14:32:11,224]\u001b[0m Trial 62 finished with value: 0.45813669504369053 and parameters: {'C': 2.984019102094532, 'epsilon': 0.023852577901472324, 'kernel': 'rbf', 'degree': 2}. Best is trial 45 with value: 0.46076709049889236.\u001b[0m\n",
      "\u001b[32m[I 2023-08-24 14:32:11,379]\u001b[0m Trial 63 finished with value: 0.45505507228032727 and parameters: {'C': 1.36597077575019, 'epsilon': 0.012149707619974548, 'kernel': 'rbf', 'degree': 2}. Best is trial 45 with value: 0.46076709049889236.\u001b[0m\n",
      "\u001b[32m[I 2023-08-24 14:32:11,532]\u001b[0m Trial 64 finished with value: 0.4580999370537338 and parameters: {'C': 1.8015974676398314, 'epsilon': 0.01499364275092523, 'kernel': 'rbf', 'degree': 2}. Best is trial 45 with value: 0.46076709049889236.\u001b[0m\n",
      "\u001b[32m[I 2023-08-24 14:32:11,689]\u001b[0m Trial 65 finished with value: 0.45991178886985 and parameters: {'C': 2.0114711362264526, 'epsilon': 0.019799064298489082, 'kernel': 'rbf', 'degree': 2}. Best is trial 45 with value: 0.46076709049889236.\u001b[0m\n",
      "\u001b[32m[I 2023-08-24 14:32:11,853]\u001b[0m Trial 66 finished with value: 0.4595122768585195 and parameters: {'C': 2.627893996493242, 'epsilon': 0.01964955315077272, 'kernel': 'rbf', 'degree': 2}. Best is trial 45 with value: 0.46076709049889236.\u001b[0m\n",
      "\u001b[32m[I 2023-08-24 14:32:12,025]\u001b[0m Trial 67 finished with value: 0.4594668855147743 and parameters: {'C': 2.6930373179287477, 'epsilon': 0.020579830263135507, 'kernel': 'rbf', 'degree': 1}. Best is trial 45 with value: 0.46076709049889236.\u001b[0m\n",
      "\u001b[32m[I 2023-08-24 14:32:12,196]\u001b[0m Trial 68 finished with value: 0.45925149263571796 and parameters: {'C': 2.7413243547144783, 'epsilon': 0.01904601326912796, 'kernel': 'rbf', 'degree': 1}. Best is trial 45 with value: 0.46076709049889236.\u001b[0m\n",
      "\u001b[32m[I 2023-08-24 14:32:12,411]\u001b[0m Trial 69 finished with value: 0.44780959928617053 and parameters: {'C': 4.2420859194212595, 'epsilon': 0.021119256858733358, 'kernel': 'rbf', 'degree': 1}. Best is trial 45 with value: 0.46076709049889236.\u001b[0m\n",
      "\u001b[32m[I 2023-08-24 14:32:12,605]\u001b[0m Trial 70 finished with value: 0.1962389616421048 and parameters: {'C': 6.71905708485178, 'epsilon': 0.025970958046855643, 'kernel': 'poly', 'degree': 1}. Best is trial 45 with value: 0.46076709049889236.\u001b[0m\n",
      "\u001b[32m[I 2023-08-24 14:32:12,780]\u001b[0m Trial 71 finished with value: 0.4502327661164867 and parameters: {'C': 3.7092466635194294, 'epsilon': 0.013752701252139302, 'kernel': 'rbf', 'degree': 2}. Best is trial 45 with value: 0.46076709049889236.\u001b[0m\n",
      "\u001b[32m[I 2023-08-24 14:32:12,948]\u001b[0m Trial 72 finished with value: 0.4591495228851576 and parameters: {'C': 2.480553250255778, 'epsilon': 0.01654037196333741, 'kernel': 'rbf', 'degree': 2}. Best is trial 45 with value: 0.46076709049889236.\u001b[0m\n",
      "\u001b[32m[I 2023-08-24 14:32:13,100]\u001b[0m Trial 73 finished with value: 0.4566741258974199 and parameters: {'C': 1.4233477412154925, 'epsilon': 0.02294981131859955, 'kernel': 'rbf', 'degree': 1}. Best is trial 45 with value: 0.46076709049889236.\u001b[0m\n",
      "\u001b[32m[I 2023-08-24 14:32:13,278]\u001b[0m Trial 74 finished with value: 0.44042449865042643 and parameters: {'C': 5.510787525244988, 'epsilon': 0.028442748516613905, 'kernel': 'rbf', 'degree': 2}. Best is trial 45 with value: 0.46076709049889236.\u001b[0m\n",
      "\u001b[32m[I 2023-08-24 14:32:13,438]\u001b[0m Trial 75 finished with value: 0.4597231802991848 and parameters: {'C': 2.0840581668156477, 'epsilon': 0.019784988268777837, 'kernel': 'rbf', 'degree': 5}. Best is trial 45 with value: 0.46076709049889236.\u001b[0m\n",
      "\u001b[32m[I 2023-08-24 14:32:13,595]\u001b[0m Trial 76 finished with value: 0.4513768477948187 and parameters: {'C': 3.5294446226214893, 'epsilon': 0.020091905570251166, 'kernel': 'rbf', 'degree': 2}. Best is trial 45 with value: 0.46076709049889236.\u001b[0m\n",
      "\u001b[32m[I 2023-08-24 14:32:13,738]\u001b[0m Trial 77 finished with value: 0.46017520242778076 and parameters: {'C': 2.209801640176533, 'epsilon': 0.03100275143924143, 'kernel': 'rbf', 'degree': 5}. Best is trial 45 with value: 0.46076709049889236.\u001b[0m\n",
      "\u001b[32m[I 2023-08-24 14:32:13,938]\u001b[0m Trial 78 finished with value: 0.19521051787540325 and parameters: {'C': 0.5892575864522098, 'epsilon': 0.03190375059708108, 'kernel': 'linear', 'degree': 5}. Best is trial 45 with value: 0.46076709049889236.\u001b[0m\n",
      "\u001b[32m[I 2023-08-24 14:32:14,098]\u001b[0m Trial 79 finished with value: 0.4520946294146572 and parameters: {'C': 0.9404506824981788, 'epsilon': 0.02657292451147348, 'kernel': 'rbf', 'degree': 5}. Best is trial 45 with value: 0.46076709049889236.\u001b[0m\n",
      "\u001b[32m[I 2023-08-24 14:32:14,255]\u001b[0m Trial 80 finished with value: 0.4594276767402802 and parameters: {'C': 2.14678108259933, 'epsilon': 0.01742276909813965, 'kernel': 'rbf', 'degree': 5}. Best is trial 45 with value: 0.46076709049889236.\u001b[0m\n",
      "\u001b[32m[I 2023-08-24 14:32:14,413]\u001b[0m Trial 81 finished with value: 0.45807155067906624 and parameters: {'C': 1.6051770490482453, 'epsilon': 0.022853915585789593, 'kernel': 'rbf', 'degree': 4}. Best is trial 45 with value: 0.46076709049889236.\u001b[0m\n",
      "\u001b[32m[I 2023-08-24 14:32:14,573]\u001b[0m Trial 82 finished with value: 0.45512389289749144 and parameters: {'C': 1.2581128656481475, 'epsilon': 0.013289489713560117, 'kernel': 'rbf', 'degree': 5}. Best is trial 45 with value: 0.46076709049889236.\u001b[0m\n",
      "\u001b[32m[I 2023-08-24 14:32:14,733]\u001b[0m Trial 83 finished with value: 0.4595259350892909 and parameters: {'C': 2.25106908946979, 'epsilon': 0.02034101558868194, 'kernel': 'rbf', 'degree': 2}. Best is trial 45 with value: 0.46076709049889236.\u001b[0m\n",
      "\u001b[32m[I 2023-08-24 14:32:14,812]\u001b[0m Trial 84 finished with value: 0.4320859388275329 and parameters: {'C': 2.10535032954559, 'epsilon': 0.3693857242854073, 'kernel': 'rbf', 'degree': 2}. Best is trial 45 with value: 0.46076709049889236.\u001b[0m\n",
      "\u001b[32m[I 2023-08-24 14:32:14,979]\u001b[0m Trial 85 finished with value: 0.4571977237973214 and parameters: {'C': 1.673447693242783, 'epsilon': 0.015819766464614936, 'kernel': 'rbf', 'degree': 2}. Best is trial 45 with value: 0.46076709049889236.\u001b[0m\n",
      "\u001b[32m[I 2023-08-24 14:32:15,128]\u001b[0m Trial 86 finished with value: 0.45734290350341994 and parameters: {'C': 3.466318902057263, 'epsilon': 0.14694854148577402, 'kernel': 'rbf', 'degree': 2}. Best is trial 45 with value: 0.46076709049889236.\u001b[0m\n",
      "\u001b[32m[I 2023-08-24 14:32:15,288]\u001b[0m Trial 87 finished with value: 0.46032375088867655 and parameters: {'C': 2.551957172874458, 'epsilon': 0.03399871860612196, 'kernel': 'rbf', 'degree': 2}. Best is trial 45 with value: 0.46076709049889236.\u001b[0m\n",
      "\u001b[32m[I 2023-08-24 14:32:15,456]\u001b[0m Trial 88 finished with value: -1.1006253847202414 and parameters: {'C': 2.1557055240875536, 'epsilon': 0.04220823779696454, 'kernel': 'poly', 'degree': 5}. Best is trial 45 with value: 0.46076709049889236.\u001b[0m\n",
      "\u001b[32m[I 2023-08-24 14:32:15,644]\u001b[0m Trial 89 finished with value: 0.45302856726138135 and parameters: {'C': 1.109263605858751, 'epsilon': 0.03384163945030122, 'kernel': 'rbf', 'degree': 2}. Best is trial 45 with value: 0.46076709049889236.\u001b[0m\n",
      "\u001b[32m[I 2023-08-24 14:32:15,841]\u001b[0m Trial 90 finished with value: 0.4579032280412541 and parameters: {'C': 1.5299144461280996, 'epsilon': 0.02991408305796064, 'kernel': 'rbf', 'degree': 5}. Best is trial 45 with value: 0.46076709049889236.\u001b[0m\n",
      "\u001b[32m[I 2023-08-24 14:32:16,030]\u001b[0m Trial 91 finished with value: 0.4596112477559404 and parameters: {'C': 2.658827004603807, 'epsilon': 0.025197944433400035, 'kernel': 'rbf', 'degree': 2}. Best is trial 45 with value: 0.46076709049889236.\u001b[0m\n",
      "\u001b[32m[I 2023-08-24 14:32:16,211]\u001b[0m Trial 92 finished with value: 0.45922979796194446 and parameters: {'C': 2.769520767656731, 'epsilon': 0.02618979755757993, 'kernel': 'rbf', 'degree': 2}. Best is trial 45 with value: 0.46076709049889236.\u001b[0m\n",
      "\u001b[32m[I 2023-08-24 14:32:16,402]\u001b[0m Trial 93 finished with value: 0.4603879440022859 and parameters: {'C': 1.8468302242781114, 'epsilon': 0.02381251613623012, 'kernel': 'rbf', 'degree': 2}. Best is trial 45 with value: 0.46076709049889236.\u001b[0m\n",
      "\u001b[32m[I 2023-08-24 14:32:16,580]\u001b[0m Trial 94 finished with value: 0.4601173091966738 and parameters: {'C': 1.7933577761196817, 'epsilon': 0.0242754747714751, 'kernel': 'rbf', 'degree': 2}. Best is trial 45 with value: 0.46076709049889236.\u001b[0m\n",
      "\u001b[32m[I 2023-08-24 14:32:16,762]\u001b[0m Trial 95 finished with value: 0.45971922824895345 and parameters: {'C': 1.8327823800794134, 'epsilon': 0.03359747057695161, 'kernel': 'rbf', 'degree': 2}. Best is trial 45 with value: 0.46076709049889236.\u001b[0m\n",
      "\u001b[32m[I 2023-08-24 14:32:17,147]\u001b[0m Trial 96 finished with value: 0.1932415430824314 and parameters: {'C': 1.3027359162019432, 'epsilon': 0.017701848916360036, 'kernel': 'linear', 'degree': 2}. Best is trial 45 with value: 0.46076709049889236.\u001b[0m\n",
      "\u001b[32m[I 2023-08-24 14:32:17,311]\u001b[0m Trial 97 finished with value: 0.44829606767491315 and parameters: {'C': 0.821912179270386, 'epsilon': 0.04448864597384719, 'kernel': 'rbf', 'degree': 2}. Best is trial 45 with value: 0.46076709049889236.\u001b[0m\n",
      "\u001b[32m[I 2023-08-24 14:32:17,507]\u001b[0m Trial 98 finished with value: 0.4538642547313936 and parameters: {'C': 3.3522715114942567, 'epsilon': 0.022940599681964383, 'kernel': 'rbf', 'degree': 4}. Best is trial 45 with value: 0.46076709049889236.\u001b[0m\n",
      "\u001b[32m[I 2023-08-24 14:32:17,664]\u001b[0m Trial 99 finished with value: 0.45949785647140506 and parameters: {'C': 1.6694554254041851, 'epsilon': 0.028995103260363697, 'kernel': 'rbf', 'degree': 2}. Best is trial 45 with value: 0.46076709049889236.\u001b[0m\n"
     ]
    },
    {
     "name": "stdout",
     "output_type": "stream",
     "text": [
      "Best r2:  0.46076709049889236\n",
      "Best trial: {'C': 1.9770291251998935, 'epsilon': 0.028131754609801163, 'kernel': 'rbf', 'degree': 2}\n"
     ]
    }
   ],
   "source": [
    "sampler = TPESampler()\n",
    "study = optuna.create_study(\n",
    "    study_name=\"svm_parameter_opt\",\n",
    "    direction=\"maximize\",\n",
    "    sampler=sampler,\n",
    ")\n",
    "\n",
    "study.optimize(lambda trial : objectiveSVM(trial, As_X_train, As_y_train), n_trials=100)\n",
    "print(\"Best r2: \", study.best_value)\n",
    "print(\"Best trial:\", study.best_trial.params)"
   ]
  },
  {
   "cell_type": "code",
   "execution_count": 27,
   "id": "ded0e0f8",
   "metadata": {},
   "outputs": [
    {
     "data": {
      "application/vnd.plotly.v1+json": {
       "config": {
        "plotlyServerURL": "https://plot.ly"
       },
       "data": [
        {
         "dimensions": [
          {
           "label": "Objective Value",
           "range": [
            -1.5513771948396673,
            0.46076709049889236
           ],
           "values": [
            0.4593354978111823,
            0.4173681282286372,
            0.41753569332924023,
            -1.5513771948396673,
            0.2291040805305043,
            0.09744554305883395,
            0.20104886117914025,
            0.20225371225712388,
            0.33661257236307784,
            0.456161457739389,
            0.09877804867360862,
            0.4138428112825398,
            0.4449827403952457,
            0.4452320196346052,
            0.4531010212239659,
            0.20882816441526764,
            0.45701696403309366,
            0.23254143758063045,
            0.20242812843057284,
            0.1277577165972209,
            0.44256506556580144,
            0.45680031636654095,
            0.46022411512071376,
            0.448551470676516,
            0.437896120634407,
            0.45716746164356714,
            0.42411648945474933,
            0.44661609960990384,
            0.13344504826874706,
            0.24045135103810464,
            0.4499086380068871,
            0.45800127850918787,
            0.4196388994212187,
            0.4587197255860776,
            0.45973422491872135,
            0.44986167939907123,
            0.13727587055061952,
            0.3716522069015512,
            0.19619781369706596,
            0.45676254645376446,
            -0.13310836011231547,
            0.45884964537728157,
            0.4417037908420127,
            0.44558594835815474,
            0.45804915812006114,
            0.46076709049889236,
            0.453941383768765,
            0.4346777737065234,
            0.19443855603924934,
            0.42451819978538385,
            0.37994424846728575,
            0.45850920914892085,
            0.45908643992072495,
            0.45485530312952377,
            0.44907849676648925,
            0.4563972540710117,
            0.21627229250255892,
            0.45910512291993466,
            0.44502838761120833,
            0.2024897893879219,
            0.13170263181061811,
            0.4606040499168196,
            0.45813669504369053,
            0.45505507228032727,
            0.4580999370537338,
            0.45991178886985,
            0.4595122768585195,
            0.4594668855147743,
            0.45925149263571796,
            0.44780959928617053,
            0.1962389616421048,
            0.4502327661164867,
            0.4591495228851576,
            0.4566741258974199,
            0.44042449865042643,
            0.4597231802991848,
            0.4513768477948187,
            0.46017520242778076,
            0.19521051787540325,
            0.4520946294146572,
            0.4594276767402802,
            0.45807155067906624,
            0.45512389289749144,
            0.4595259350892909,
            0.4320859388275329,
            0.4571977237973214,
            0.45734290350341994,
            0.46032375088867655,
            -1.1006253847202414,
            0.45302856726138135,
            0.4579032280412541,
            0.4596112477559404,
            0.45922979796194446,
            0.4603879440022859,
            0.4601173091966738,
            0.45971922824895345,
            0.1932415430824314,
            0.44829606767491315,
            0.4538642547313936,
            0.45949785647140506
           ]
          },
          {
           "label": "C",
           "range": [
            -0.9927444238515456,
            1.9745557906913627
           ],
           "ticktext": [
            "0.102",
            "1",
            "10",
            "94.3"
           ],
           "tickvals": [
            -0.9927444238515456,
            0,
            1,
            1.9745557906913627
           ],
           "values": [
            0.3105918300153831,
            -0.5338449120066814,
            -0.46588594818024304,
            0.41016340038355176,
            0.37927140646044954,
            0.5687350828798361,
            0.006335953992546897,
            -0.787823365729784,
            1.5591473206288868,
            0.1652448449157555,
            1.3946538101679078,
            0.9743024262272488,
            -0.1399232772009785,
            0.8099329612395002,
            0.01979897673638784,
            1.2104281649566915,
            0.16017352372102991,
            1.7987512698339674,
            -0.3270845778145799,
            -0.9927444238515456,
            0.8064941354878897,
            0.21259829924688745,
            0.2805923549487751,
            0.6110790030217257,
            -0.2248782631588512,
            0.25863837475582474,
            0.9872432982496456,
            0.37750389783341226,
            0.6928668529094679,
            -0.710668417018174,
            -0.05644388729239942,
            0.196261821685054,
            -0.450798829993864,
            0.283724112355765,
            0.3997406970258251,
            0.5690143614569897,
            0.38328604538708205,
            0.3768294815517304,
            0.06200113227401625,
            0.49071989927855286,
            0.9937451993861228,
            0.24525232719703108,
            0.7279304286802755,
            -0.13790108563661505,
            0.47781558707151645,
            0.296013067300737,
            0.071819004449067,
            -0.31051950309978854,
            -0.09370640462832638,
            0.8779293134512897,
            1.2215540694084859,
            0.34963756923614014,
            0.28601400159752854,
            0.06830204404961494,
            0.6101590952155161,
            0.49884510823751893,
            0.1535087960931085,
            0.29269114827445397,
            0.6708260658162657,
            -0.003655599522127418,
            1.9745557906913627,
            0.28268757575830594,
            0.47480159893055573,
            0.13544140793541276,
            0.2556577627189763,
            0.30351380500694863,
            0.4196078427497882,
            0.43024237155419115,
            0.4379604244956153,
            0.6275794604918715,
            0.827308330854702,
            0.569285714709959,
            0.3945485545102876,
            0.15331101648712805,
            0.7412136666247199,
            0.31890983611238766,
            0.5477063721564559,
            0.34435329158417755,
            -0.22969481740249725,
            -0.026663974042877996,
            0.3317877596358096,
            0.2055229415284352,
            0.0997196035333043,
            0.35238882450519593,
            0.32332437263214286,
            0.22361214221453338,
            0.539868515398281,
            0.4068733817496077,
            0.3335894346230212,
            0.04503476433304901,
            0.1846671454494059,
            0.42469008107354184,
            0.442404626115634,
            0.26642697337845056,
            0.2536669402561457,
            0.26311090100070733,
            0.11485638673318146,
            -0.0851745840363663,
            0.5253391863211267,
            0.2225748278471551
           ]
          },
          {
           "label": "degree",
           "range": [
            1,
            5
           ],
           "values": [
            5,
            1,
            2,
            5,
            2,
            2,
            1,
            1,
            1,
            4,
            5,
            4,
            4,
            4,
            5,
            3,
            4,
            3,
            5,
            4,
            5,
            4,
            4,
            3,
            4,
            5,
            5,
            5,
            5,
            5,
            4,
            3,
            3,
            3,
            2,
            2,
            2,
            2,
            3,
            1,
            2,
            3,
            3,
            3,
            2,
            2,
            2,
            2,
            1,
            1,
            2,
            3,
            3,
            4,
            3,
            4,
            3,
            2,
            2,
            2,
            1,
            2,
            2,
            2,
            2,
            2,
            2,
            1,
            1,
            1,
            1,
            2,
            2,
            1,
            2,
            5,
            2,
            5,
            5,
            5,
            5,
            4,
            5,
            2,
            2,
            2,
            2,
            2,
            5,
            2,
            5,
            2,
            2,
            2,
            2,
            2,
            2,
            2,
            4,
            2
           ]
          },
          {
           "label": "epsilon",
           "range": [
            -1.9990270570771567,
            -0.07462940576456845
           ],
           "ticktext": [
            "0.01",
            "0.1",
            "0.842"
           ],
           "tickvals": [
            -1.9990270570771567,
            -1,
            -0.07462940576456845
           ],
           "values": [
            -1.8049652460487244,
            -1.3919192594211496,
            -0.7099948447966775,
            -1.739681583843485,
            -0.5244825964110289,
            -1.7740615624765745,
            -1.2658674511734487,
            -1.712361443471862,
            -1.3311007472266136,
            -1.859750430680951,
            -0.07462940576456845,
            -1.9466841707275078,
            -1.9875446644507768,
            -1.0028189627191437,
            -1.5898250990963383,
            -0.9158223895164589,
            -1.4999141130167564,
            -1.5639455578382313,
            -1.2373865014032617,
            -1.4933337425661684,
            -1.0676283854916113,
            -1.8537216802436671,
            -1.6503621624669584,
            -1.6690697108968031,
            -1.4708441470936637,
            -1.1704951632758005,
            -1.1880472090116103,
            -0.6280636552932305,
            -0.11222765551995872,
            -0.8346914648617445,
            -1.3766475927233648,
            -1.426964777827732,
            -1.0632310907596974,
            -1.1641485597328913,
            -1.6414879059422656,
            -1.661225130456939,
            -1.819619926783185,
            -0.2823323420625789,
            -1.6040705109827842,
            -1.734248442507418,
            -1.3175947246882689,
            -1.429457825621482,
            -1.8917461998034675,
            -1.755506093612151,
            -1.3687362675778858,
            -1.5508031795450694,
            -1.5610817882699715,
            -1.6713998249740811,
            -1.9406535845351762,
            -1.9990270570771567,
            -1.537505256276818,
            -1.2997291455362798,
            -1.4181733511161234,
            -1.7739616745223958,
            -1.457534726052108,
            -1.6225548027729277,
            -1.8205628544104848,
            -1.416978585430929,
            -1.706967471706822,
            -1.235790448994626,
            -1.5176872515797586,
            -1.61351330489435,
            -1.622464677090003,
            -1.9154341731405267,
            -1.8240928411723256,
            -1.7033553339609562,
            -1.7066473214392026,
            -1.6865582115020417,
            -1.7201959174380583,
            -1.6753213677589456,
            -1.5855120293160805,
            -1.8616119910206936,
            -1.7814547281686897,
            -1.6392208806551687,
            -1.5460284386060175,
            -1.7036642029064983,
            -1.6969788716440442,
            -1.5085997615897886,
            -1.496158258388963,
            -1.5755606462181917,
            -1.7588828189914703,
            -1.641039381081317,
            -1.8764916946659758,
            -1.691627367364626,
            -0.43251989282613723,
            -1.800799931955768,
            -0.8328347200903382,
            -1.468537450980609,
            -1.374602779355426,
            -1.4705486058288635,
            -1.5241243048383522,
            -1.5986348861090596,
            -1.5818678585799508,
            -1.6231947126864126,
            -1.6148322675532023,
            -1.4736934177239274,
            -1.751981370234983,
            -1.351750811942113,
            -1.6393952335505322,
            -1.5376753402585386
           ]
          },
          {
           "label": "kernel",
           "range": [
            0,
            2
           ],
           "ticktext": [
            "rbf",
            "poly",
            "linear"
           ],
           "tickvals": [
            0,
            1,
            2
           ],
           "values": [
            0,
            0,
            0,
            1,
            2,
            1,
            2,
            1,
            0,
            0,
            0,
            0,
            0,
            0,
            0,
            2,
            0,
            0,
            2,
            1,
            0,
            0,
            0,
            0,
            0,
            0,
            0,
            0,
            2,
            1,
            0,
            0,
            0,
            0,
            0,
            0,
            1,
            0,
            2,
            0,
            1,
            0,
            0,
            0,
            0,
            0,
            0,
            0,
            2,
            0,
            0,
            0,
            0,
            0,
            0,
            0,
            1,
            0,
            0,
            2,
            0,
            0,
            0,
            0,
            0,
            0,
            0,
            0,
            0,
            0,
            1,
            0,
            0,
            0,
            0,
            0,
            0,
            0,
            2,
            0,
            0,
            0,
            0,
            0,
            0,
            0,
            0,
            0,
            1,
            0,
            0,
            0,
            0,
            0,
            0,
            0,
            2,
            0,
            0,
            0
           ]
          }
         ],
         "labelangle": 30,
         "labelside": "bottom",
         "line": {
          "color": [
           0.4593354978111823,
           0.4173681282286372,
           0.41753569332924023,
           -1.5513771948396673,
           0.2291040805305043,
           0.09744554305883395,
           0.20104886117914025,
           0.20225371225712388,
           0.33661257236307784,
           0.456161457739389,
           0.09877804867360862,
           0.4138428112825398,
           0.4449827403952457,
           0.4452320196346052,
           0.4531010212239659,
           0.20882816441526764,
           0.45701696403309366,
           0.23254143758063045,
           0.20242812843057284,
           0.1277577165972209,
           0.44256506556580144,
           0.45680031636654095,
           0.46022411512071376,
           0.448551470676516,
           0.437896120634407,
           0.45716746164356714,
           0.42411648945474933,
           0.44661609960990384,
           0.13344504826874706,
           0.24045135103810464,
           0.4499086380068871,
           0.45800127850918787,
           0.4196388994212187,
           0.4587197255860776,
           0.45973422491872135,
           0.44986167939907123,
           0.13727587055061952,
           0.3716522069015512,
           0.19619781369706596,
           0.45676254645376446,
           -0.13310836011231547,
           0.45884964537728157,
           0.4417037908420127,
           0.44558594835815474,
           0.45804915812006114,
           0.46076709049889236,
           0.453941383768765,
           0.4346777737065234,
           0.19443855603924934,
           0.42451819978538385,
           0.37994424846728575,
           0.45850920914892085,
           0.45908643992072495,
           0.45485530312952377,
           0.44907849676648925,
           0.4563972540710117,
           0.21627229250255892,
           0.45910512291993466,
           0.44502838761120833,
           0.2024897893879219,
           0.13170263181061811,
           0.4606040499168196,
           0.45813669504369053,
           0.45505507228032727,
           0.4580999370537338,
           0.45991178886985,
           0.4595122768585195,
           0.4594668855147743,
           0.45925149263571796,
           0.44780959928617053,
           0.1962389616421048,
           0.4502327661164867,
           0.4591495228851576,
           0.4566741258974199,
           0.44042449865042643,
           0.4597231802991848,
           0.4513768477948187,
           0.46017520242778076,
           0.19521051787540325,
           0.4520946294146572,
           0.4594276767402802,
           0.45807155067906624,
           0.45512389289749144,
           0.4595259350892909,
           0.4320859388275329,
           0.4571977237973214,
           0.45734290350341994,
           0.46032375088867655,
           -1.1006253847202414,
           0.45302856726138135,
           0.4579032280412541,
           0.4596112477559404,
           0.45922979796194446,
           0.4603879440022859,
           0.4601173091966738,
           0.45971922824895345,
           0.1932415430824314,
           0.44829606767491315,
           0.4538642547313936,
           0.45949785647140506
          ],
          "colorbar": {
           "title": {
            "text": "Objective Value"
           }
          },
          "colorscale": [
           [
            0,
            "rgb(247,251,255)"
           ],
           [
            0.125,
            "rgb(222,235,247)"
           ],
           [
            0.25,
            "rgb(198,219,239)"
           ],
           [
            0.375,
            "rgb(158,202,225)"
           ],
           [
            0.5,
            "rgb(107,174,214)"
           ],
           [
            0.625,
            "rgb(66,146,198)"
           ],
           [
            0.75,
            "rgb(33,113,181)"
           ],
           [
            0.875,
            "rgb(8,81,156)"
           ],
           [
            1,
            "rgb(8,48,107)"
           ]
          ],
          "reversescale": false,
          "showscale": true
         },
         "type": "parcoords"
        }
       ],
       "layout": {
        "template": {
         "data": {
          "bar": [
           {
            "error_x": {
             "color": "#2a3f5f"
            },
            "error_y": {
             "color": "#2a3f5f"
            },
            "marker": {
             "line": {
              "color": "#E5ECF6",
              "width": 0.5
             },
             "pattern": {
              "fillmode": "overlay",
              "size": 10,
              "solidity": 0.2
             }
            },
            "type": "bar"
           }
          ],
          "barpolar": [
           {
            "marker": {
             "line": {
              "color": "#E5ECF6",
              "width": 0.5
             },
             "pattern": {
              "fillmode": "overlay",
              "size": 10,
              "solidity": 0.2
             }
            },
            "type": "barpolar"
           }
          ],
          "carpet": [
           {
            "aaxis": {
             "endlinecolor": "#2a3f5f",
             "gridcolor": "white",
             "linecolor": "white",
             "minorgridcolor": "white",
             "startlinecolor": "#2a3f5f"
            },
            "baxis": {
             "endlinecolor": "#2a3f5f",
             "gridcolor": "white",
             "linecolor": "white",
             "minorgridcolor": "white",
             "startlinecolor": "#2a3f5f"
            },
            "type": "carpet"
           }
          ],
          "choropleth": [
           {
            "colorbar": {
             "outlinewidth": 0,
             "ticks": ""
            },
            "type": "choropleth"
           }
          ],
          "contour": [
           {
            "colorbar": {
             "outlinewidth": 0,
             "ticks": ""
            },
            "colorscale": [
             [
              0,
              "#0d0887"
             ],
             [
              0.1111111111111111,
              "#46039f"
             ],
             [
              0.2222222222222222,
              "#7201a8"
             ],
             [
              0.3333333333333333,
              "#9c179e"
             ],
             [
              0.4444444444444444,
              "#bd3786"
             ],
             [
              0.5555555555555556,
              "#d8576b"
             ],
             [
              0.6666666666666666,
              "#ed7953"
             ],
             [
              0.7777777777777778,
              "#fb9f3a"
             ],
             [
              0.8888888888888888,
              "#fdca26"
             ],
             [
              1,
              "#f0f921"
             ]
            ],
            "type": "contour"
           }
          ],
          "contourcarpet": [
           {
            "colorbar": {
             "outlinewidth": 0,
             "ticks": ""
            },
            "type": "contourcarpet"
           }
          ],
          "heatmap": [
           {
            "colorbar": {
             "outlinewidth": 0,
             "ticks": ""
            },
            "colorscale": [
             [
              0,
              "#0d0887"
             ],
             [
              0.1111111111111111,
              "#46039f"
             ],
             [
              0.2222222222222222,
              "#7201a8"
             ],
             [
              0.3333333333333333,
              "#9c179e"
             ],
             [
              0.4444444444444444,
              "#bd3786"
             ],
             [
              0.5555555555555556,
              "#d8576b"
             ],
             [
              0.6666666666666666,
              "#ed7953"
             ],
             [
              0.7777777777777778,
              "#fb9f3a"
             ],
             [
              0.8888888888888888,
              "#fdca26"
             ],
             [
              1,
              "#f0f921"
             ]
            ],
            "type": "heatmap"
           }
          ],
          "heatmapgl": [
           {
            "colorbar": {
             "outlinewidth": 0,
             "ticks": ""
            },
            "colorscale": [
             [
              0,
              "#0d0887"
             ],
             [
              0.1111111111111111,
              "#46039f"
             ],
             [
              0.2222222222222222,
              "#7201a8"
             ],
             [
              0.3333333333333333,
              "#9c179e"
             ],
             [
              0.4444444444444444,
              "#bd3786"
             ],
             [
              0.5555555555555556,
              "#d8576b"
             ],
             [
              0.6666666666666666,
              "#ed7953"
             ],
             [
              0.7777777777777778,
              "#fb9f3a"
             ],
             [
              0.8888888888888888,
              "#fdca26"
             ],
             [
              1,
              "#f0f921"
             ]
            ],
            "type": "heatmapgl"
           }
          ],
          "histogram": [
           {
            "marker": {
             "pattern": {
              "fillmode": "overlay",
              "size": 10,
              "solidity": 0.2
             }
            },
            "type": "histogram"
           }
          ],
          "histogram2d": [
           {
            "colorbar": {
             "outlinewidth": 0,
             "ticks": ""
            },
            "colorscale": [
             [
              0,
              "#0d0887"
             ],
             [
              0.1111111111111111,
              "#46039f"
             ],
             [
              0.2222222222222222,
              "#7201a8"
             ],
             [
              0.3333333333333333,
              "#9c179e"
             ],
             [
              0.4444444444444444,
              "#bd3786"
             ],
             [
              0.5555555555555556,
              "#d8576b"
             ],
             [
              0.6666666666666666,
              "#ed7953"
             ],
             [
              0.7777777777777778,
              "#fb9f3a"
             ],
             [
              0.8888888888888888,
              "#fdca26"
             ],
             [
              1,
              "#f0f921"
             ]
            ],
            "type": "histogram2d"
           }
          ],
          "histogram2dcontour": [
           {
            "colorbar": {
             "outlinewidth": 0,
             "ticks": ""
            },
            "colorscale": [
             [
              0,
              "#0d0887"
             ],
             [
              0.1111111111111111,
              "#46039f"
             ],
             [
              0.2222222222222222,
              "#7201a8"
             ],
             [
              0.3333333333333333,
              "#9c179e"
             ],
             [
              0.4444444444444444,
              "#bd3786"
             ],
             [
              0.5555555555555556,
              "#d8576b"
             ],
             [
              0.6666666666666666,
              "#ed7953"
             ],
             [
              0.7777777777777778,
              "#fb9f3a"
             ],
             [
              0.8888888888888888,
              "#fdca26"
             ],
             [
              1,
              "#f0f921"
             ]
            ],
            "type": "histogram2dcontour"
           }
          ],
          "mesh3d": [
           {
            "colorbar": {
             "outlinewidth": 0,
             "ticks": ""
            },
            "type": "mesh3d"
           }
          ],
          "parcoords": [
           {
            "line": {
             "colorbar": {
              "outlinewidth": 0,
              "ticks": ""
             }
            },
            "type": "parcoords"
           }
          ],
          "pie": [
           {
            "automargin": true,
            "type": "pie"
           }
          ],
          "scatter": [
           {
            "marker": {
             "colorbar": {
              "outlinewidth": 0,
              "ticks": ""
             }
            },
            "type": "scatter"
           }
          ],
          "scatter3d": [
           {
            "line": {
             "colorbar": {
              "outlinewidth": 0,
              "ticks": ""
             }
            },
            "marker": {
             "colorbar": {
              "outlinewidth": 0,
              "ticks": ""
             }
            },
            "type": "scatter3d"
           }
          ],
          "scattercarpet": [
           {
            "marker": {
             "colorbar": {
              "outlinewidth": 0,
              "ticks": ""
             }
            },
            "type": "scattercarpet"
           }
          ],
          "scattergeo": [
           {
            "marker": {
             "colorbar": {
              "outlinewidth": 0,
              "ticks": ""
             }
            },
            "type": "scattergeo"
           }
          ],
          "scattergl": [
           {
            "marker": {
             "colorbar": {
              "outlinewidth": 0,
              "ticks": ""
             }
            },
            "type": "scattergl"
           }
          ],
          "scattermapbox": [
           {
            "marker": {
             "colorbar": {
              "outlinewidth": 0,
              "ticks": ""
             }
            },
            "type": "scattermapbox"
           }
          ],
          "scatterpolar": [
           {
            "marker": {
             "colorbar": {
              "outlinewidth": 0,
              "ticks": ""
             }
            },
            "type": "scatterpolar"
           }
          ],
          "scatterpolargl": [
           {
            "marker": {
             "colorbar": {
              "outlinewidth": 0,
              "ticks": ""
             }
            },
            "type": "scatterpolargl"
           }
          ],
          "scatterternary": [
           {
            "marker": {
             "colorbar": {
              "outlinewidth": 0,
              "ticks": ""
             }
            },
            "type": "scatterternary"
           }
          ],
          "surface": [
           {
            "colorbar": {
             "outlinewidth": 0,
             "ticks": ""
            },
            "colorscale": [
             [
              0,
              "#0d0887"
             ],
             [
              0.1111111111111111,
              "#46039f"
             ],
             [
              0.2222222222222222,
              "#7201a8"
             ],
             [
              0.3333333333333333,
              "#9c179e"
             ],
             [
              0.4444444444444444,
              "#bd3786"
             ],
             [
              0.5555555555555556,
              "#d8576b"
             ],
             [
              0.6666666666666666,
              "#ed7953"
             ],
             [
              0.7777777777777778,
              "#fb9f3a"
             ],
             [
              0.8888888888888888,
              "#fdca26"
             ],
             [
              1,
              "#f0f921"
             ]
            ],
            "type": "surface"
           }
          ],
          "table": [
           {
            "cells": {
             "fill": {
              "color": "#EBF0F8"
             },
             "line": {
              "color": "white"
             }
            },
            "header": {
             "fill": {
              "color": "#C8D4E3"
             },
             "line": {
              "color": "white"
             }
            },
            "type": "table"
           }
          ]
         },
         "layout": {
          "annotationdefaults": {
           "arrowcolor": "#2a3f5f",
           "arrowhead": 0,
           "arrowwidth": 1
          },
          "autotypenumbers": "strict",
          "coloraxis": {
           "colorbar": {
            "outlinewidth": 0,
            "ticks": ""
           }
          },
          "colorscale": {
           "diverging": [
            [
             0,
             "#8e0152"
            ],
            [
             0.1,
             "#c51b7d"
            ],
            [
             0.2,
             "#de77ae"
            ],
            [
             0.3,
             "#f1b6da"
            ],
            [
             0.4,
             "#fde0ef"
            ],
            [
             0.5,
             "#f7f7f7"
            ],
            [
             0.6,
             "#e6f5d0"
            ],
            [
             0.7,
             "#b8e186"
            ],
            [
             0.8,
             "#7fbc41"
            ],
            [
             0.9,
             "#4d9221"
            ],
            [
             1,
             "#276419"
            ]
           ],
           "sequential": [
            [
             0,
             "#0d0887"
            ],
            [
             0.1111111111111111,
             "#46039f"
            ],
            [
             0.2222222222222222,
             "#7201a8"
            ],
            [
             0.3333333333333333,
             "#9c179e"
            ],
            [
             0.4444444444444444,
             "#bd3786"
            ],
            [
             0.5555555555555556,
             "#d8576b"
            ],
            [
             0.6666666666666666,
             "#ed7953"
            ],
            [
             0.7777777777777778,
             "#fb9f3a"
            ],
            [
             0.8888888888888888,
             "#fdca26"
            ],
            [
             1,
             "#f0f921"
            ]
           ],
           "sequentialminus": [
            [
             0,
             "#0d0887"
            ],
            [
             0.1111111111111111,
             "#46039f"
            ],
            [
             0.2222222222222222,
             "#7201a8"
            ],
            [
             0.3333333333333333,
             "#9c179e"
            ],
            [
             0.4444444444444444,
             "#bd3786"
            ],
            [
             0.5555555555555556,
             "#d8576b"
            ],
            [
             0.6666666666666666,
             "#ed7953"
            ],
            [
             0.7777777777777778,
             "#fb9f3a"
            ],
            [
             0.8888888888888888,
             "#fdca26"
            ],
            [
             1,
             "#f0f921"
            ]
           ]
          },
          "colorway": [
           "#636efa",
           "#EF553B",
           "#00cc96",
           "#ab63fa",
           "#FFA15A",
           "#19d3f3",
           "#FF6692",
           "#B6E880",
           "#FF97FF",
           "#FECB52"
          ],
          "font": {
           "color": "#2a3f5f"
          },
          "geo": {
           "bgcolor": "white",
           "lakecolor": "white",
           "landcolor": "#E5ECF6",
           "showlakes": true,
           "showland": true,
           "subunitcolor": "white"
          },
          "hoverlabel": {
           "align": "left"
          },
          "hovermode": "closest",
          "mapbox": {
           "style": "light"
          },
          "paper_bgcolor": "white",
          "plot_bgcolor": "#E5ECF6",
          "polar": {
           "angularaxis": {
            "gridcolor": "white",
            "linecolor": "white",
            "ticks": ""
           },
           "bgcolor": "#E5ECF6",
           "radialaxis": {
            "gridcolor": "white",
            "linecolor": "white",
            "ticks": ""
           }
          },
          "scene": {
           "xaxis": {
            "backgroundcolor": "#E5ECF6",
            "gridcolor": "white",
            "gridwidth": 2,
            "linecolor": "white",
            "showbackground": true,
            "ticks": "",
            "zerolinecolor": "white"
           },
           "yaxis": {
            "backgroundcolor": "#E5ECF6",
            "gridcolor": "white",
            "gridwidth": 2,
            "linecolor": "white",
            "showbackground": true,
            "ticks": "",
            "zerolinecolor": "white"
           },
           "zaxis": {
            "backgroundcolor": "#E5ECF6",
            "gridcolor": "white",
            "gridwidth": 2,
            "linecolor": "white",
            "showbackground": true,
            "ticks": "",
            "zerolinecolor": "white"
           }
          },
          "shapedefaults": {
           "line": {
            "color": "#2a3f5f"
           }
          },
          "ternary": {
           "aaxis": {
            "gridcolor": "white",
            "linecolor": "white",
            "ticks": ""
           },
           "baxis": {
            "gridcolor": "white",
            "linecolor": "white",
            "ticks": ""
           },
           "bgcolor": "#E5ECF6",
           "caxis": {
            "gridcolor": "white",
            "linecolor": "white",
            "ticks": ""
           }
          },
          "title": {
           "x": 0.05
          },
          "xaxis": {
           "automargin": true,
           "gridcolor": "white",
           "linecolor": "white",
           "ticks": "",
           "title": {
            "standoff": 15
           },
           "zerolinecolor": "white",
           "zerolinewidth": 2
          },
          "yaxis": {
           "automargin": true,
           "gridcolor": "white",
           "linecolor": "white",
           "ticks": "",
           "title": {
            "standoff": 15
           },
           "zerolinecolor": "white",
           "zerolinewidth": 2
          }
         }
        },
        "title": {
         "text": "Parallel Coordinate Plot"
        }
       }
      }
     },
     "metadata": {},
     "output_type": "display_data"
    }
   ],
   "source": [
    "optuna.visualization.plot_parallel_coordinate(study)"
   ]
  },
  {
   "cell_type": "code",
   "execution_count": 28,
   "id": "75db1ddf",
   "metadata": {},
   "outputs": [
    {
     "name": "stdout",
     "output_type": "stream",
     "text": [
      "Best trial: {'C': 1.9770291251998935, 'epsilon': 0.028131754609801163, 'kernel': 'rbf', 'degree': 2}\n"
     ]
    }
   ],
   "source": [
    "print(\"Best trial:\", study.best_trial.params)"
   ]
  },
  {
   "cell_type": "code",
   "execution_count": 29,
   "id": "862eadd2",
   "metadata": {},
   "outputs": [
    {
     "data": {
      "text/html": [
       "<style>#sk-container-id-1 {color: black;}#sk-container-id-1 pre{padding: 0;}#sk-container-id-1 div.sk-toggleable {background-color: white;}#sk-container-id-1 label.sk-toggleable__label {cursor: pointer;display: block;width: 100%;margin-bottom: 0;padding: 0.3em;box-sizing: border-box;text-align: center;}#sk-container-id-1 label.sk-toggleable__label-arrow:before {content: \"▸\";float: left;margin-right: 0.25em;color: #696969;}#sk-container-id-1 label.sk-toggleable__label-arrow:hover:before {color: black;}#sk-container-id-1 div.sk-estimator:hover label.sk-toggleable__label-arrow:before {color: black;}#sk-container-id-1 div.sk-toggleable__content {max-height: 0;max-width: 0;overflow: hidden;text-align: left;background-color: #f0f8ff;}#sk-container-id-1 div.sk-toggleable__content pre {margin: 0.2em;color: black;border-radius: 0.25em;background-color: #f0f8ff;}#sk-container-id-1 input.sk-toggleable__control:checked~div.sk-toggleable__content {max-height: 200px;max-width: 100%;overflow: auto;}#sk-container-id-1 input.sk-toggleable__control:checked~label.sk-toggleable__label-arrow:before {content: \"▾\";}#sk-container-id-1 div.sk-estimator input.sk-toggleable__control:checked~label.sk-toggleable__label {background-color: #d4ebff;}#sk-container-id-1 div.sk-label input.sk-toggleable__control:checked~label.sk-toggleable__label {background-color: #d4ebff;}#sk-container-id-1 input.sk-hidden--visually {border: 0;clip: rect(1px 1px 1px 1px);clip: rect(1px, 1px, 1px, 1px);height: 1px;margin: -1px;overflow: hidden;padding: 0;position: absolute;width: 1px;}#sk-container-id-1 div.sk-estimator {font-family: monospace;background-color: #f0f8ff;border: 1px dotted black;border-radius: 0.25em;box-sizing: border-box;margin-bottom: 0.5em;}#sk-container-id-1 div.sk-estimator:hover {background-color: #d4ebff;}#sk-container-id-1 div.sk-parallel-item::after {content: \"\";width: 100%;border-bottom: 1px solid gray;flex-grow: 1;}#sk-container-id-1 div.sk-label:hover label.sk-toggleable__label {background-color: #d4ebff;}#sk-container-id-1 div.sk-serial::before {content: \"\";position: absolute;border-left: 1px solid gray;box-sizing: border-box;top: 0;bottom: 0;left: 50%;z-index: 0;}#sk-container-id-1 div.sk-serial {display: flex;flex-direction: column;align-items: center;background-color: white;padding-right: 0.2em;padding-left: 0.2em;position: relative;}#sk-container-id-1 div.sk-item {position: relative;z-index: 1;}#sk-container-id-1 div.sk-parallel {display: flex;align-items: stretch;justify-content: center;background-color: white;position: relative;}#sk-container-id-1 div.sk-item::before, #sk-container-id-1 div.sk-parallel-item::before {content: \"\";position: absolute;border-left: 1px solid gray;box-sizing: border-box;top: 0;bottom: 0;left: 50%;z-index: -1;}#sk-container-id-1 div.sk-parallel-item {display: flex;flex-direction: column;z-index: 1;position: relative;background-color: white;}#sk-container-id-1 div.sk-parallel-item:first-child::after {align-self: flex-end;width: 50%;}#sk-container-id-1 div.sk-parallel-item:last-child::after {align-self: flex-start;width: 50%;}#sk-container-id-1 div.sk-parallel-item:only-child::after {width: 0;}#sk-container-id-1 div.sk-dashed-wrapped {border: 1px dashed gray;margin: 0 0.4em 0.5em 0.4em;box-sizing: border-box;padding-bottom: 0.4em;background-color: white;}#sk-container-id-1 div.sk-label label {font-family: monospace;font-weight: bold;display: inline-block;line-height: 1.2em;}#sk-container-id-1 div.sk-label-container {text-align: center;}#sk-container-id-1 div.sk-container {/* jupyter's `normalize.less` sets `[hidden] { display: none; }` but bootstrap.min.css set `[hidden] { display: none !important; }` so we also need the `!important` here to be able to override the default hidden behavior on the sphinx rendered scikit-learn.org. See: https://github.com/scikit-learn/scikit-learn/issues/21755 */display: inline-block !important;position: relative;}#sk-container-id-1 div.sk-text-repr-fallback {display: none;}</style><div id=\"sk-container-id-1\" class=\"sk-top-container\"><div class=\"sk-text-repr-fallback\"><pre>SVR(C=1.9770291251998935, degree=2, epsilon=0.028131754609801163)</pre><b>In a Jupyter environment, please rerun this cell to show the HTML representation or trust the notebook. <br />On GitHub, the HTML representation is unable to render, please try loading this page with nbviewer.org.</b></div><div class=\"sk-container\" hidden><div class=\"sk-item\"><div class=\"sk-estimator sk-toggleable\"><input class=\"sk-toggleable__control sk-hidden--visually\" id=\"sk-estimator-id-1\" type=\"checkbox\" checked><label for=\"sk-estimator-id-1\" class=\"sk-toggleable__label sk-toggleable__label-arrow\">SVR</label><div class=\"sk-toggleable__content\"><pre>SVR(C=1.9770291251998935, degree=2, epsilon=0.028131754609801163)</pre></div></div></div></div></div>"
      ],
      "text/plain": [
       "SVR(C=1.9770291251998935, degree=2, epsilon=0.028131754609801163)"
      ]
     },
     "execution_count": 29,
     "metadata": {},
     "output_type": "execute_result"
    }
   ],
   "source": [
    "svm_params = {\n",
    "    \"C\": study.best_trial.params[\"C\"],\n",
    "    \"epsilon\": study.best_trial.params[\"epsilon\"],\n",
    "    \"kernel\": study.best_trial.params[\"kernel\"],\n",
    "    \"degree\": study.best_trial.params[\"degree\"]\n",
    "}\n",
    "\n",
    "svm = SVR(**svm_params)\n",
    "svm.fit(As_X_train, As_y_train)"
   ]
  },
  {
   "cell_type": "code",
   "execution_count": 30,
   "id": "8577fb37",
   "metadata": {},
   "outputs": [],
   "source": [
    "y_train_pred = svm.predict(As_X_train)\n",
    "y_test_pred = svm.predict(As_X_test)"
   ]
  },
  {
   "cell_type": "code",
   "execution_count": 31,
   "id": "2ea0526a",
   "metadata": {},
   "outputs": [],
   "source": [
    "# plt.scatter(y_train_pred, np.array(As_y_train))"
   ]
  },
  {
   "cell_type": "code",
   "execution_count": 32,
   "id": "d2a4dd85",
   "metadata": {},
   "outputs": [
    {
     "name": "stdout",
     "output_type": "stream",
     "text": [
      "Train RMSE:  0.28174635181156704\n",
      "Test RMSE:  0.3951459875182923\n"
     ]
    }
   ],
   "source": [
    "print(\"Train RMSE: \", np.sqrt(mean_squared_error(As_y_train, y_train_pred)))\n",
    "print(\"Test RMSE: \", np.sqrt(mean_squared_error(As_y_test, y_test_pred)))"
   ]
  },
  {
   "cell_type": "code",
   "execution_count": 33,
   "id": "08fe787a",
   "metadata": {},
   "outputs": [
    {
     "name": "stdout",
     "output_type": "stream",
     "text": [
      "Train R2:  0.66748144801639\n",
      "Test R2:  0.2863421254727929\n"
     ]
    }
   ],
   "source": [
    "print(\"Train R2: \", r2_score(As_y_train, y_train_pred))\n",
    "print(\"Test R2: \", r2_score(As_y_test, y_test_pred))"
   ]
  },
  {
   "cell_type": "code",
   "execution_count": 34,
   "id": "5ec4820c",
   "metadata": {},
   "outputs": [
    {
     "data": {
      "image/png": "[encoded data removed]",
      "text/plain": [
       "<Figure size 640x480 with 1 Axes>"
      ]
     },
     "metadata": {},
     "output_type": "display_data"
    }
   ],
   "source": [
    "plt.scatter(y_train_pred, np.array(As_y_train), color=\"orange\", alpha=0.3)\n",
    "plt.scatter(y_test_pred, np.array(As_y_test), color=\"green\", alpha=0.4)\n",
    "plt.axis(\"auto\") # scaled, tight, auto, image, square\n",
    "# plt.xlim([0, 1.5]) \n",
    "# plt.ylim(0, None) \n",
    "plt.xlabel('Predicted Values')\n",
    "plt.ylabel('Actual Values')\n",
    "\n",
    "# Add y=x line\n",
    "plt.plot([0, 2.0], [0, 2.0], color='red', linestyle='-')\n",
    "\n",
    "plt.show()"
   ]
  },
  {
   "attachments": {},
   "cell_type": "markdown",
   "id": "e0507d63",
   "metadata": {},
   "source": [
    "Cd"
   ]
  },
  {
   "attachments": {},
   "cell_type": "markdown",
   "id": "f8f809d9",
   "metadata": {},
   "source": [
    "Optimization"
   ]
  },
  {
   "cell_type": "code",
   "execution_count": 35,
   "id": "b7aeaf0a",
   "metadata": {},
   "outputs": [
    {
     "name": "stderr",
     "output_type": "stream",
     "text": [
      "\u001b[32m[I 2023-08-24 14:32:18,383]\u001b[0m A new study created in memory with name: svm_parameter_opt\u001b[0m\n",
      "\u001b[32m[I 2023-08-24 14:32:18,528]\u001b[0m Trial 0 finished with value: -0.031199014491278133 and parameters: {'C': 2.157914819754843, 'epsilon': 0.16181359709954762, 'kernel': 'linear', 'degree': 2}. Best is trial 0 with value: -0.031199014491278133.\u001b[0m\n",
      "\u001b[32m[I 2023-08-24 14:32:18,540]\u001b[0m Trial 1 finished with value: -0.2523214127113583 and parameters: {'C': 11.5355709921917, 'epsilon': 0.34209240036038, 'kernel': 'poly', 'degree': 5}. Best is trial 0 with value: -0.031199014491278133.\u001b[0m\n",
      "\u001b[32m[I 2023-08-24 14:32:18,555]\u001b[0m Trial 2 finished with value: -0.2523214127113583 and parameters: {'C': 16.15391221935158, 'epsilon': 0.34939896638165524, 'kernel': 'rbf', 'degree': 2}. Best is trial 0 with value: -0.031199014491278133.\u001b[0m\n",
      "\u001b[32m[I 2023-08-24 14:32:18,668]\u001b[0m Trial 3 finished with value: -7.173205631522455 and parameters: {'C': 10.558300203278302, 'epsilon': 0.10411293203967019, 'kernel': 'poly', 'degree': 5}. Best is trial 0 with value: -0.031199014491278133.\u001b[0m\n",
      "\u001b[32m[I 2023-08-24 14:32:25,861]\u001b[0m Trial 4 finished with value: 0.1843461605844191 and parameters: {'C': 70.16622502767295, 'epsilon': 0.11717951852814974, 'kernel': 'linear', 'degree': 1}. Best is trial 4 with value: 0.1843461605844191.\u001b[0m\n",
      "\u001b[32m[I 2023-08-24 14:32:53,062]\u001b[0m Trial 5 finished with value: 0.20301857687829344 and parameters: {'C': 48.69084232095858, 'epsilon': 0.0363779262024453, 'kernel': 'linear', 'degree': 4}. Best is trial 5 with value: 0.20301857687829344.\u001b[0m\n",
      "\u001b[32m[I 2023-08-24 14:32:53,083]\u001b[0m Trial 6 finished with value: -0.07497462467179453 and parameters: {'C': 1.69230721255872, 'epsilon': 0.1754378841545519, 'kernel': 'rbf', 'degree': 1}. Best is trial 5 with value: 0.20301857687829344.\u001b[0m\n",
      "\u001b[32m[I 2023-08-24 14:32:53,095]\u001b[0m Trial 7 finished with value: -0.2523214127113583 and parameters: {'C': 8.868464745626788, 'epsilon': 0.29218201524636084, 'kernel': 'rbf', 'degree': 3}. Best is trial 5 with value: 0.20301857687829344.\u001b[0m\n",
      "\u001b[32m[I 2023-08-24 14:32:53,306]\u001b[0m Trial 8 finished with value: 0.10934226789903748 and parameters: {'C': 0.38323343332609144, 'epsilon': 0.010544813718642198, 'kernel': 'poly', 'degree': 2}. Best is trial 5 with value: 0.20301857687829344.\u001b[0m\n",
      "\u001b[32m[I 2023-08-24 14:32:53,349]\u001b[0m Trial 9 finished with value: -0.990777872119161 and parameters: {'C': 0.32194677250694687, 'epsilon': 0.11986978736088481, 'kernel': 'poly', 'degree': 5}. Best is trial 5 with value: 0.20301857687829344.\u001b[0m\n",
      "\u001b[32m[I 2023-08-24 14:33:25,766]\u001b[0m Trial 10 finished with value: 0.19876663051460536 and parameters: {'C': 57.247040912582904, 'epsilon': 0.028733789477899178, 'kernel': 'linear', 'degree': 4}. Best is trial 5 with value: 0.20301857687829344.\u001b[0m\n",
      "\u001b[32m[I 2023-08-24 14:34:16,886]\u001b[0m Trial 11 finished with value: 0.1978752349846084 and parameters: {'C': 97.06289711849286, 'epsilon': 0.02802308206809544, 'kernel': 'linear', 'degree': 4}. Best is trial 5 with value: 0.20301857687829344.\u001b[0m\n",
      "\u001b[32m[I 2023-08-24 14:34:36,446]\u001b[0m Trial 12 finished with value: 0.20281281749158203 and parameters: {'C': 37.73037106427984, 'epsilon': 0.037735067201544535, 'kernel': 'linear', 'degree': 4}. Best is trial 5 with value: 0.20301857687829344.\u001b[0m\n",
      "\u001b[32m[I 2023-08-24 14:34:49,780]\u001b[0m Trial 13 finished with value: 0.20633749682377972 and parameters: {'C': 25.624812358225828, 'epsilon': 0.0407983164283228, 'kernel': 'linear', 'degree': 4}. Best is trial 13 with value: 0.20633749682377972.\u001b[0m\n",
      "\u001b[32m[I 2023-08-24 14:35:00,634]\u001b[0m Trial 14 finished with value: 0.20583628264159243 and parameters: {'C': 24.777425677196884, 'epsilon': 0.050445644409726216, 'kernel': 'linear', 'degree': 3}. Best is trial 13 with value: 0.20633749682377972.\u001b[0m\n",
      "\u001b[32m[I 2023-08-24 14:35:00,646]\u001b[0m Trial 15 finished with value: -0.2523214127113583 and parameters: {'C': 4.045893079242726, 'epsilon': 0.8505597207596739, 'kernel': 'linear', 'degree': 3}. Best is trial 13 with value: 0.20633749682377972.\u001b[0m\n",
      "\u001b[32m[I 2023-08-24 14:35:00,806]\u001b[0m Trial 16 finished with value: 0.19213808556408254 and parameters: {'C': 0.10434630465024325, 'epsilon': 0.0658328543557869, 'kernel': 'linear', 'degree': 3}. Best is trial 13 with value: 0.20633749682377972.\u001b[0m\n",
      "\u001b[32m[I 2023-08-24 14:35:18,494]\u001b[0m Trial 17 finished with value: 0.19315271657875382 and parameters: {'C': 24.520387343568093, 'epsilon': 0.013847703852662934, 'kernel': 'linear', 'degree': 4}. Best is trial 13 with value: 0.20633749682377972.\u001b[0m\n",
      "\u001b[32m[I 2023-08-24 14:35:20,521]\u001b[0m Trial 18 finished with value: 0.19845668825259702 and parameters: {'C': 4.535196350771601, 'epsilon': 0.06254282926147192, 'kernel': 'linear', 'degree': 3}. Best is trial 13 with value: 0.20633749682377972.\u001b[0m\n",
      "\u001b[32m[I 2023-08-24 14:35:20,805]\u001b[0m Trial 19 finished with value: 0.19679699565887937 and parameters: {'C': 23.94303540336724, 'epsilon': 0.056236407193666765, 'kernel': 'rbf', 'degree': 2}. Best is trial 13 with value: 0.20633749682377972.\u001b[0m\n",
      "\u001b[32m[I 2023-08-24 14:35:25,914]\u001b[0m Trial 20 finished with value: 0.19388362182253435 and parameters: {'C': 6.793106202369426, 'epsilon': 0.018892981481019346, 'kernel': 'linear', 'degree': 3}. Best is trial 13 with value: 0.20633749682377972.\u001b[0m\n",
      "\u001b[32m[I 2023-08-24 14:35:45,269]\u001b[0m Trial 21 finished with value: 0.20556771533195625 and parameters: {'C': 37.79911261134536, 'epsilon': 0.04062379800159587, 'kernel': 'linear', 'degree': 4}. Best is trial 13 with value: 0.20633749682377972.\u001b[0m\n",
      "\u001b[32m[I 2023-08-24 14:35:58,164]\u001b[0m Trial 22 finished with value: 0.2046866850649928 and parameters: {'C': 27.862467121716428, 'epsilon': 0.04909412711789843, 'kernel': 'linear', 'degree': 4}. Best is trial 13 with value: 0.20633749682377972.\u001b[0m\n",
      "\u001b[32m[I 2023-08-24 14:36:10,005]\u001b[0m Trial 23 finished with value: 0.19626562236141748 and parameters: {'C': 17.80546115888331, 'epsilon': 0.021010051232736162, 'kernel': 'linear', 'degree': 5}. Best is trial 13 with value: 0.20633749682377972.\u001b[0m\n",
      "\u001b[32m[I 2023-08-24 14:36:33,050]\u001b[0m Trial 24 finished with value: 0.19227859805240755 and parameters: {'C': 98.92921151236375, 'epsilon': 0.07861795371927667, 'kernel': 'linear', 'degree': 3}. Best is trial 13 with value: 0.20633749682377972.\u001b[0m\n",
      "\u001b[32m[I 2023-08-24 14:36:33,995]\u001b[0m Trial 25 finished with value: 0.20183795741131103 and parameters: {'C': 1.1700969830040182, 'epsilon': 0.043289675391639935, 'kernel': 'linear', 'degree': 4}. Best is trial 13 with value: 0.20633749682377972.\u001b[0m\n",
      "\u001b[32m[I 2023-08-24 14:36:57,367]\u001b[0m Trial 26 finished with value: 0.1986733615594688 and parameters: {'C': 40.678478560617975, 'epsilon': 0.02891633262041352, 'kernel': 'linear', 'degree': 4}. Best is trial 13 with value: 0.20633749682377972.\u001b[0m\n",
      "\u001b[32m[I 2023-08-24 14:37:01,512]\u001b[0m Trial 27 finished with value: 0.19427343891259252 and parameters: {'C': 16.4504997917252, 'epsilon': 0.08823863126593577, 'kernel': 'linear', 'degree': 3}. Best is trial 13 with value: 0.20633749682377972.\u001b[0m\n",
      "\u001b[32m[I 2023-08-24 14:37:02,273]\u001b[0m Trial 28 finished with value: -6023.362804067265 and parameters: {'C': 7.513207587683545, 'epsilon': 0.01693557059395121, 'kernel': 'poly', 'degree': 5}. Best is trial 13 with value: 0.20633749682377972.\u001b[0m\n",
      "\u001b[32m[I 2023-08-24 14:37:02,540]\u001b[0m Trial 29 finished with value: 0.37020719380544553 and parameters: {'C': 2.733512375304425, 'epsilon': 0.024124920867076766, 'kernel': 'rbf', 'degree': 2}. Best is trial 29 with value: 0.37020719380544553.\u001b[0m\n",
      "\u001b[32m[I 2023-08-24 14:37:02,557]\u001b[0m Trial 30 finished with value: -0.06699632578054371 and parameters: {'C': 0.8465181937899453, 'epsilon': 0.1741606933922289, 'kernel': 'rbf', 'degree': 2}. Best is trial 29 with value: 0.37020719380544553.\u001b[0m\n",
      "\u001b[32m[I 2023-08-24 14:37:02,814]\u001b[0m Trial 31 finished with value: 0.3776007197773522 and parameters: {'C': 2.6266645454613204, 'epsilon': 0.027222772772115426, 'kernel': 'rbf', 'degree': 1}. Best is trial 31 with value: 0.3776007197773522.\u001b[0m\n",
      "\u001b[32m[I 2023-08-24 14:37:03,082]\u001b[0m Trial 32 finished with value: 0.37007241688687115 and parameters: {'C': 2.7162835245442967, 'epsilon': 0.023057880203706617, 'kernel': 'rbf', 'degree': 1}. Best is trial 31 with value: 0.3776007197773522.\u001b[0m\n",
      "\u001b[32m[I 2023-08-24 14:37:03,328]\u001b[0m Trial 33 finished with value: 0.3847847026426457 and parameters: {'C': 2.2060452527090706, 'epsilon': 0.024816827226936962, 'kernel': 'rbf', 'degree': 1}. Best is trial 33 with value: 0.3847847026426457.\u001b[0m\n",
      "\u001b[32m[I 2023-08-24 14:37:03,650]\u001b[0m Trial 34 finished with value: 0.3690093613142107 and parameters: {'C': 2.45361053336301, 'epsilon': 0.0113371153108426, 'kernel': 'rbf', 'degree': 1}. Best is trial 33 with value: 0.3847847026426457.\u001b[0m\n",
      "\u001b[32m[I 2023-08-24 14:37:03,930]\u001b[0m Trial 35 finished with value: 0.3709159432066217 and parameters: {'C': 2.605201666843723, 'epsilon': 0.020556782202487224, 'kernel': 'rbf', 'degree': 1}. Best is trial 33 with value: 0.3847847026426457.\u001b[0m\n",
      "\u001b[32m[I 2023-08-24 14:37:04,190]\u001b[0m Trial 36 finished with value: 0.4078866283747512 and parameters: {'C': 1.52931097800524, 'epsilon': 0.015630741216782453, 'kernel': 'rbf', 'degree': 1}. Best is trial 36 with value: 0.4078866283747512.\u001b[0m\n",
      "\u001b[32m[I 2023-08-24 14:37:04,444]\u001b[0m Trial 37 finished with value: 0.4084386499150007 and parameters: {'C': 1.522368009340849, 'epsilon': 0.016233329582247793, 'kernel': 'rbf', 'degree': 1}. Best is trial 37 with value: 0.4084386499150007.\u001b[0m\n",
      "\u001b[32m[I 2023-08-24 14:37:04,659]\u001b[0m Trial 38 finished with value: 0.43575384885742513 and parameters: {'C': 0.64931609520066, 'epsilon': 0.0158059137810272, 'kernel': 'rbf', 'degree': 1}. Best is trial 38 with value: 0.43575384885742513.\u001b[0m\n",
      "\u001b[32m[I 2023-08-24 14:37:04,876]\u001b[0m Trial 39 finished with value: 0.43957527497272747 and parameters: {'C': 0.5797697293057787, 'epsilon': 0.014689313743315245, 'kernel': 'rbf', 'degree': 1}. Best is trial 39 with value: 0.43957527497272747.\u001b[0m\n",
      "\u001b[32m[I 2023-08-24 14:37:05,093]\u001b[0m Trial 40 finished with value: 0.43774594632494673 and parameters: {'C': 0.6116717478157333, 'epsilon': 0.015057169933464284, 'kernel': 'rbf', 'degree': 1}. Best is trial 39 with value: 0.43957527497272747.\u001b[0m\n",
      "\u001b[32m[I 2023-08-24 14:37:05,310]\u001b[0m Trial 41 finished with value: 0.4405320333362873 and parameters: {'C': 0.5700408216295474, 'epsilon': 0.014510805916281604, 'kernel': 'rbf', 'degree': 1}. Best is trial 41 with value: 0.4405320333362873.\u001b[0m\n",
      "\u001b[32m[I 2023-08-24 14:37:05,533]\u001b[0m Trial 42 finished with value: 0.4427949664298044 and parameters: {'C': 0.5473821695246227, 'epsilon': 0.012409743510851223, 'kernel': 'rbf', 'degree': 1}. Best is trial 42 with value: 0.4427949664298044.\u001b[0m\n",
      "\u001b[32m[I 2023-08-24 14:37:05,753]\u001b[0m Trial 43 finished with value: 0.4458450463323665 and parameters: {'C': 0.48199396210558265, 'epsilon': 0.012118277425853459, 'kernel': 'rbf', 'degree': 1}. Best is trial 43 with value: 0.4458450463323665.\u001b[0m\n",
      "\u001b[32m[I 2023-08-24 14:37:05,973]\u001b[0m Trial 44 finished with value: 0.4542924463208296 and parameters: {'C': 0.2851756457714149, 'epsilon': 0.010064873792260835, 'kernel': 'rbf', 'degree': 1}. Best is trial 44 with value: 0.4542924463208296.\u001b[0m\n",
      "\u001b[32m[I 2023-08-24 14:37:06,191]\u001b[0m Trial 45 finished with value: 0.4470160617120758 and parameters: {'C': 0.18656162261636777, 'epsilon': 0.010030190037013616, 'kernel': 'rbf', 'degree': 2}. Best is trial 44 with value: 0.4542924463208296.\u001b[0m\n",
      "\u001b[32m[I 2023-08-24 14:37:06,404]\u001b[0m Trial 46 finished with value: 0.44487849659481904 and parameters: {'C': 0.17192410045112508, 'epsilon': 0.010062846517771071, 'kernel': 'rbf', 'degree': 2}. Best is trial 44 with value: 0.4542924463208296.\u001b[0m\n",
      "\u001b[32m[I 2023-08-24 14:37:06,624]\u001b[0m Trial 47 finished with value: 0.4471317753503034 and parameters: {'C': 0.1867330583109261, 'epsilon': 0.010048049106821179, 'kernel': 'rbf', 'degree': 2}. Best is trial 44 with value: 0.4542924463208296.\u001b[0m\n",
      "\u001b[32m[I 2023-08-24 14:37:06,786]\u001b[0m Trial 48 finished with value: 0.16714985687234243 and parameters: {'C': 0.15459408770836813, 'epsilon': 0.010497764650270846, 'kernel': 'poly', 'degree': 2}. Best is trial 44 with value: 0.4542924463208296.\u001b[0m\n",
      "\u001b[32m[I 2023-08-24 14:37:06,999]\u001b[0m Trial 49 finished with value: 0.45474633927304764 and parameters: {'C': 0.26313508039230515, 'epsilon': 0.011705290753621228, 'kernel': 'rbf', 'degree': 2}. Best is trial 49 with value: 0.45474633927304764.\u001b[0m\n",
      "\u001b[32m[I 2023-08-24 14:37:07,212]\u001b[0m Trial 50 finished with value: 0.4560911702345911 and parameters: {'C': 0.30457418846938605, 'epsilon': 0.012280441109187927, 'kernel': 'rbf', 'degree': 2}. Best is trial 50 with value: 0.4560911702345911.\u001b[0m\n",
      "\u001b[32m[I 2023-08-24 14:37:07,422]\u001b[0m Trial 51 finished with value: 0.45551229512684016 and parameters: {'C': 0.28620761756876256, 'epsilon': 0.012724162998705364, 'kernel': 'rbf', 'degree': 2}. Best is trial 50 with value: 0.4560911702345911.\u001b[0m\n",
      "\u001b[32m[I 2023-08-24 14:37:07,633]\u001b[0m Trial 52 finished with value: 0.45571511412617943 and parameters: {'C': 0.28202034047838404, 'epsilon': 0.012493575088483066, 'kernel': 'rbf', 'degree': 2}. Best is trial 50 with value: 0.4560911702345911.\u001b[0m\n",
      "\u001b[32m[I 2023-08-24 14:37:07,842]\u001b[0m Trial 53 finished with value: 0.4530747160804127 and parameters: {'C': 0.24156333579090683, 'epsilon': 0.01291115173050764, 'kernel': 'rbf', 'degree': 2}. Best is trial 50 with value: 0.4560911702345911.\u001b[0m\n",
      "\u001b[32m[I 2023-08-24 14:37:08,052]\u001b[0m Trial 54 finished with value: 0.4549026306164087 and parameters: {'C': 0.27991234243876806, 'epsilon': 0.012939776721745197, 'kernel': 'rbf', 'degree': 2}. Best is trial 50 with value: 0.4560911702345911.\u001b[0m\n",
      "\u001b[32m[I 2023-08-24 14:37:08,066]\u001b[0m Trial 55 finished with value: -0.2523214127113583 and parameters: {'C': 0.32035814596524015, 'epsilon': 0.6331614630547825, 'kernel': 'rbf', 'degree': 2}. Best is trial 50 with value: 0.4560911702345911.\u001b[0m\n",
      "\u001b[32m[I 2023-08-24 14:37:08,213]\u001b[0m Trial 56 finished with value: 0.19797228389406074 and parameters: {'C': 0.11084924829645407, 'epsilon': 0.01827824157202496, 'kernel': 'poly', 'degree': 2}. Best is trial 50 with value: 0.4560911702345911.\u001b[0m\n",
      "\u001b[32m[I 2023-08-24 14:37:08,371]\u001b[0m Trial 57 finished with value: 0.442346299354268 and parameters: {'C': 0.2801790995697065, 'epsilon': 0.03234484962117995, 'kernel': 'rbf', 'degree': 2}. Best is trial 50 with value: 0.4560911702345911.\u001b[0m\n",
      "\u001b[32m[I 2023-08-24 14:37:08,385]\u001b[0m Trial 58 finished with value: -0.2523214127113583 and parameters: {'C': 0.412143827713691, 'epsilon': 0.32216610200312157, 'kernel': 'rbf', 'degree': 2}. Best is trial 50 with value: 0.4560911702345911.\u001b[0m\n",
      "\u001b[32m[I 2023-08-24 14:37:08,594]\u001b[0m Trial 59 finished with value: 0.4532172916404491 and parameters: {'C': 0.2343522970779984, 'epsilon': 0.012745939592620324, 'kernel': 'rbf', 'degree': 2}. Best is trial 50 with value: 0.4560911702345911.\u001b[0m\n",
      "\u001b[32m[I 2023-08-24 14:37:08,775]\u001b[0m Trial 60 finished with value: 0.43794065577240476 and parameters: {'C': 0.13349089174856874, 'epsilon': 0.019276181736857696, 'kernel': 'rbf', 'degree': 3}. Best is trial 50 with value: 0.4560911702345911.\u001b[0m\n",
      "\u001b[32m[I 2023-08-24 14:37:08,984]\u001b[0m Trial 61 finished with value: 0.45312222722842793 and parameters: {'C': 0.2374970582020463, 'epsilon': 0.013073552992286219, 'kernel': 'rbf', 'degree': 2}. Best is trial 50 with value: 0.4560911702345911.\u001b[0m\n",
      "\u001b[32m[I 2023-08-24 14:37:09,198]\u001b[0m Trial 62 finished with value: 0.45155381151053503 and parameters: {'C': 0.3838542211724339, 'epsilon': 0.012139417217125605, 'kernel': 'rbf', 'degree': 2}. Best is trial 50 with value: 0.4560911702345911.\u001b[0m\n",
      "\u001b[32m[I 2023-08-24 14:37:09,213]\u001b[0m Trial 63 finished with value: -0.2523214127113583 and parameters: {'C': 0.22278384650647548, 'epsilon': 0.2414327223119514, 'kernel': 'rbf', 'degree': 3}. Best is trial 50 with value: 0.4560911702345911.\u001b[0m\n",
      "\u001b[32m[I 2023-08-24 14:37:09,437]\u001b[0m Trial 64 finished with value: 0.4264345106983297 and parameters: {'C': 0.9795588181374756, 'epsilon': 0.017529704968001988, 'kernel': 'rbf', 'degree': 2}. Best is trial 50 with value: 0.4560911702345911.\u001b[0m\n",
      "\u001b[32m[I 2023-08-24 14:37:09,647]\u001b[0m Trial 65 finished with value: 0.4542976853154538 and parameters: {'C': 0.3053651608724079, 'epsilon': 0.01341482057855125, 'kernel': 'rbf', 'degree': 2}. Best is trial 50 with value: 0.4560911702345911.\u001b[0m\n",
      "\u001b[32m[I 2023-08-24 14:37:09,823]\u001b[0m Trial 66 finished with value: 0.15871425404293388 and parameters: {'C': 0.32040339054991424, 'epsilon': 0.021125194659961318, 'kernel': 'poly', 'degree': 2}. Best is trial 50 with value: 0.4560911702345911.\u001b[0m\n",
      "\u001b[32m[I 2023-08-24 14:37:10,041]\u001b[0m Trial 67 finished with value: 0.4494325508545245 and parameters: {'C': 0.4367731823159261, 'epsilon': 0.011547495768842373, 'kernel': 'rbf', 'degree': 3}. Best is trial 50 with value: 0.4560911702345911.\u001b[0m\n",
      "\u001b[32m[I 2023-08-24 14:37:10,075]\u001b[0m Trial 68 finished with value: 0.19822011726942362 and parameters: {'C': 0.7762431973997383, 'epsilon': 0.12690586802701362, 'kernel': 'rbf', 'degree': 2}. Best is trial 50 with value: 0.4560911702345911.\u001b[0m\n",
      "\u001b[32m[I 2023-08-24 14:37:10,273]\u001b[0m Trial 69 finished with value: 0.450027908705238 and parameters: {'C': 0.3249391939589143, 'epsilon': 0.017811547947678672, 'kernel': 'rbf', 'degree': 2}. Best is trial 50 with value: 0.4560911702345911.\u001b[0m\n",
      "\u001b[32m[I 2023-08-24 14:37:10,469]\u001b[0m Trial 70 finished with value: 0.44163759705590416 and parameters: {'C': 0.14149700094986883, 'epsilon': 0.013909772189351136, 'kernel': 'rbf', 'degree': 3}. Best is trial 50 with value: 0.4560911702345911.\u001b[0m\n",
      "\u001b[32m[I 2023-08-24 14:37:10,695]\u001b[0m Trial 71 finished with value: 0.4518372339079818 and parameters: {'C': 0.21752657151806837, 'epsilon': 0.013110300803262462, 'kernel': 'rbf', 'degree': 2}. Best is trial 50 with value: 0.4560911702345911.\u001b[0m\n",
      "\u001b[32m[I 2023-08-24 14:37:10,912]\u001b[0m Trial 72 finished with value: 0.4554924030202276 and parameters: {'C': 0.2796500807949289, 'epsilon': 0.011341671604050701, 'kernel': 'rbf', 'degree': 2}. Best is trial 50 with value: 0.4560911702345911.\u001b[0m\n",
      "\u001b[32m[I 2023-08-24 14:37:11,127]\u001b[0m Trial 73 finished with value: 0.4559527890873748 and parameters: {'C': 0.29494118884488163, 'epsilon': 0.01130617550746135, 'kernel': 'rbf', 'degree': 2}. Best is trial 50 with value: 0.4560911702345911.\u001b[0m\n",
      "\u001b[32m[I 2023-08-24 14:37:11,344]\u001b[0m Trial 74 finished with value: 0.45281333278471136 and parameters: {'C': 0.36154659683727824, 'epsilon': 0.011524984384329726, 'kernel': 'rbf', 'degree': 2}. Best is trial 50 with value: 0.4560911702345911.\u001b[0m\n",
      "\u001b[32m[I 2023-08-24 14:37:11,532]\u001b[0m Trial 75 finished with value: 0.43350429991946193 and parameters: {'C': 0.10965887839301736, 'epsilon': 0.015623930047019141, 'kernel': 'rbf', 'degree': 2}. Best is trial 50 with value: 0.4560911702345911.\u001b[0m\n",
      "\u001b[32m[I 2023-08-24 14:37:11,726]\u001b[0m Trial 76 finished with value: 0.440387690823188 and parameters: {'C': 0.49108770274126506, 'epsilon': 0.02125930509377006, 'kernel': 'rbf', 'degree': 2}. Best is trial 50 with value: 0.4560911702345911.\u001b[0m\n",
      "\u001b[32m[I 2023-08-24 14:37:11,933]\u001b[0m Trial 77 finished with value: 0.45328284220224735 and parameters: {'C': 0.28979725451305505, 'epsilon': 0.014312956185160973, 'kernel': 'rbf', 'degree': 2}. Best is trial 50 with value: 0.4560911702345911.\u001b[0m\n",
      "\u001b[32m[I 2023-08-24 14:37:12,143]\u001b[0m Trial 78 finished with value: 0.12164147029859976 and parameters: {'C': 0.6966570538870454, 'epsilon': 0.033674982180144614, 'kernel': 'poly', 'degree': 2}. Best is trial 50 with value: 0.4560911702345911.\u001b[0m\n",
      "\u001b[32m[I 2023-08-24 14:37:12,322]\u001b[0m Trial 79 finished with value: 0.4428127604944754 and parameters: {'C': 0.19051522668475432, 'epsilon': 0.025710737929062234, 'kernel': 'rbf', 'degree': 2}. Best is trial 50 with value: 0.4560911702345911.\u001b[0m\n",
      "\u001b[32m[I 2023-08-24 14:37:12,528]\u001b[0m Trial 80 finished with value: 0.4376224259360946 and parameters: {'C': 0.12652239041820032, 'epsilon': 0.011375719927879615, 'kernel': 'rbf', 'degree': 2}. Best is trial 50 with value: 0.4560911702345911.\u001b[0m\n",
      "\u001b[32m[I 2023-08-24 14:37:12,747]\u001b[0m Trial 81 finished with value: 0.455461126895664 and parameters: {'C': 0.28137675774393983, 'epsilon': 0.011067034043432913, 'kernel': 'rbf', 'degree': 2}. Best is trial 50 with value: 0.4560911702345911.\u001b[0m\n",
      "\u001b[32m[I 2023-08-24 14:37:12,946]\u001b[0m Trial 82 finished with value: 0.4507901291324661 and parameters: {'C': 0.2683785125545845, 'epsilon': 0.016708884232602028, 'kernel': 'rbf', 'degree': 2}. Best is trial 50 with value: 0.4560911702345911.\u001b[0m\n",
      "\u001b[32m[I 2023-08-24 14:37:13,154]\u001b[0m Trial 83 finished with value: 0.45109482454925737 and parameters: {'C': 0.371764317618736, 'epsilon': 0.014298236092326283, 'kernel': 'rbf', 'degree': 2}. Best is trial 50 with value: 0.4560911702345911.\u001b[0m\n",
      "\u001b[32m[I 2023-08-24 14:37:13,360]\u001b[0m Trial 84 finished with value: 0.44268386331647347 and parameters: {'C': 0.1548847327804958, 'epsilon': 0.011465608858051986, 'kernel': 'rbf', 'degree': 2}. Best is trial 50 with value: 0.4560911702345911.\u001b[0m\n",
      "\u001b[32m[I 2023-08-24 14:37:13,557]\u001b[0m Trial 85 finished with value: 0.44432202893455663 and parameters: {'C': 0.4391448135317798, 'epsilon': 0.01930105659809149, 'kernel': 'rbf', 'degree': 2}. Best is trial 50 with value: 0.4560911702345911.\u001b[0m\n",
      "\u001b[32m[I 2023-08-24 14:37:13,772]\u001b[0m Trial 86 finished with value: 0.44925765562572656 and parameters: {'C': 0.20220335669624226, 'epsilon': 0.011032365799127327, 'kernel': 'rbf', 'degree': 2}. Best is trial 50 with value: 0.4560911702345911.\u001b[0m\n",
      "\u001b[32m[I 2023-08-24 14:37:13,980]\u001b[0m Trial 87 finished with value: 0.45382149615374257 and parameters: {'C': 0.26222256109853365, 'epsilon': 0.01343226273872056, 'kernel': 'rbf', 'degree': 2}. Best is trial 50 with value: 0.4560911702345911.\u001b[0m\n",
      "\u001b[32m[I 2023-08-24 14:37:14,152]\u001b[0m Trial 88 finished with value: 0.4431592100516202 and parameters: {'C': 0.1704397676465859, 'epsilon': 0.023061086609413094, 'kernel': 'rbf', 'degree': 3}. Best is trial 50 with value: 0.4560911702345911.\u001b[0m\n",
      "\u001b[32m[I 2023-08-24 14:37:14,167]\u001b[0m Trial 89 finished with value: -0.2523214127113583 and parameters: {'C': 0.36100425933474106, 'epsilon': 0.5160140257092829, 'kernel': 'rbf', 'degree': 2}. Best is trial 50 with value: 0.4560911702345911.\u001b[0m\n",
      "\u001b[32m[I 2023-08-24 14:37:14,380]\u001b[0m Trial 90 finished with value: 0.44236006566628083 and parameters: {'C': 0.5211935391125347, 'epsilon': 0.015825899337736853, 'kernel': 'rbf', 'degree': 3}. Best is trial 50 with value: 0.4560911702345911.\u001b[0m\n",
      "\u001b[32m[I 2023-08-24 14:37:14,615]\u001b[0m Trial 91 finished with value: 0.45499169742110457 and parameters: {'C': 0.29714992151226116, 'epsilon': 0.010110517401188485, 'kernel': 'rbf', 'degree': 1}. Best is trial 50 with value: 0.4560911702345911.\u001b[0m\n",
      "\u001b[32m[I 2023-08-24 14:37:14,832]\u001b[0m Trial 92 finished with value: 0.4559247527609642 and parameters: {'C': 0.30202948565287474, 'epsilon': 0.010995210120274487, 'kernel': 'rbf', 'degree': 2}. Best is trial 50 with value: 0.4560911702345911.\u001b[0m\n",
      "\u001b[32m[I 2023-08-24 14:37:15,054]\u001b[0m Trial 93 finished with value: 0.44795139839980147 and parameters: {'C': 0.46407085916810187, 'epsilon': 0.011114407415008253, 'kernel': 'rbf', 'degree': 1}. Best is trial 50 with value: 0.4560911702345911.\u001b[0m\n",
      "\u001b[32m[I 2023-08-24 14:37:15,266]\u001b[0m Trial 94 finished with value: 0.45358978379835735 and parameters: {'C': 0.2467396789756096, 'epsilon': 0.012322628975117352, 'kernel': 'rbf', 'degree': 2}. Best is trial 50 with value: 0.4560911702345911.\u001b[0m\n",
      "\u001b[32m[I 2023-08-24 14:37:15,488]\u001b[0m Trial 95 finished with value: 0.4542466072749412 and parameters: {'C': 0.34560724083085204, 'epsilon': 0.010216000089641065, 'kernel': 'rbf', 'degree': 3}. Best is trial 50 with value: 0.4560911702345911.\u001b[0m\n",
      "\u001b[32m[I 2023-08-24 14:37:15,691]\u001b[0m Trial 96 finished with value: 0.4506971004461399 and parameters: {'C': 0.21015348381332485, 'epsilon': 0.014773403006977482, 'kernel': 'rbf', 'degree': 2}. Best is trial 50 with value: 0.4560911702345911.\u001b[0m\n",
      "\u001b[32m[I 2023-08-24 14:37:16,659]\u001b[0m Trial 97 finished with value: 0.19255030088477815 and parameters: {'C': 11.436776795681087, 'epsilon': 0.0122494101199384, 'kernel': 'poly', 'degree': 1}. Best is trial 50 with value: 0.4560911702345911.\u001b[0m\n",
      "\u001b[32m[I 2023-08-24 14:37:16,860]\u001b[0m Trial 98 finished with value: 0.44589217822331123 and parameters: {'C': 0.41967557300051034, 'epsilon': 0.017854450901930934, 'kernel': 'rbf', 'degree': 2}. Best is trial 50 with value: 0.4560911702345911.\u001b[0m\n",
      "\u001b[32m[I 2023-08-24 14:37:17,251]\u001b[0m Trial 99 finished with value: 0.32707059725609255 and parameters: {'C': 3.7844708208459212, 'epsilon': 0.010659789652602742, 'kernel': 'rbf', 'degree': 2}. Best is trial 50 with value: 0.4560911702345911.\u001b[0m\n"
     ]
    },
    {
     "name": "stdout",
     "output_type": "stream",
     "text": [
      "Best r2:  0.4560911702345911\n",
      "Best trial: {'C': 0.30457418846938605, 'epsilon': 0.012280441109187927, 'kernel': 'rbf', 'degree': 2}\n"
     ]
    }
   ],
   "source": [
    "sampler = TPESampler()\n",
    "study = optuna.create_study(\n",
    "    study_name=\"svm_parameter_opt\",\n",
    "    direction=\"maximize\",\n",
    "    sampler=sampler,\n",
    ")\n",
    "\n",
    "study.optimize(lambda trial : objectiveSVM(trial, Cd_X_train, Cd_y_train), n_trials=100)\n",
    "print(\"Best r2: \", study.best_value)\n",
    "print(\"Best trial:\", study.best_trial.params)"
   ]
  },
  {
   "cell_type": "code",
   "execution_count": 36,
   "id": "861f88d8",
   "metadata": {},
   "outputs": [
    {
     "data": {
      "application/vnd.plotly.v1+json": {
       "config": {
        "plotlyServerURL": "https://plot.ly"
       },
       "data": [
        {
         "dimensions": [
          {
           "label": "Objective Value",
           "range": [
            -6023.362804067265,
            0.4560911702345911
           ],
           "values": [
            -0.031199014491278133,
            -0.2523214127113583,
            -0.2523214127113583,
            -7.173205631522455,
            0.1843461605844191,
            0.20301857687829344,
            -0.07497462467179453,
            -0.2523214127113583,
            0.10934226789903748,
            -0.990777872119161,
            0.19876663051460536,
            0.1978752349846084,
            0.20281281749158203,
            0.20633749682377972,
            0.20583628264159243,
            -0.2523214127113583,
            0.19213808556408254,
            0.19315271657875382,
            0.19845668825259702,
            0.19679699565887937,
            0.19388362182253435,
            0.20556771533195625,
            0.2046866850649928,
            0.19626562236141748,
            0.19227859805240755,
            0.20183795741131103,
            0.1986733615594688,
            0.19427343891259252,
            -6023.362804067265,
            0.37020719380544553,
            -0.06699632578054371,
            0.3776007197773522,
            0.37007241688687115,
            0.3847847026426457,
            0.3690093613142107,
            0.3709159432066217,
            0.4078866283747512,
            0.4084386499150007,
            0.43575384885742513,
            0.43957527497272747,
            0.43774594632494673,
            0.4405320333362873,
            0.4427949664298044,
            0.4458450463323665,
            0.4542924463208296,
            0.4470160617120758,
            0.44487849659481904,
            0.4471317753503034,
            0.16714985687234243,
            0.45474633927304764,
            0.4560911702345911,
            0.45551229512684016,
            0.45571511412617943,
            0.4530747160804127,
            0.4549026306164087,
            -0.2523214127113583,
            0.19797228389406074,
            0.442346299354268,
            -0.2523214127113583,
            0.4532172916404491,
            0.43794065577240476,
            0.45312222722842793,
            0.45155381151053503,
            -0.2523214127113583,
            0.4264345106983297,
            0.4542976853154538,
            0.15871425404293388,
            0.4494325508545245,
            0.19822011726942362,
            0.450027908705238,
            0.44163759705590416,
            0.4518372339079818,
            0.4554924030202276,
            0.4559527890873748,
            0.45281333278471136,
            0.43350429991946193,
            0.440387690823188,
            0.45328284220224735,
            0.12164147029859976,
            0.4428127604944754,
            0.4376224259360946,
            0.455461126895664,
            0.4507901291324661,
            0.45109482454925737,
            0.44268386331647347,
            0.44432202893455663,
            0.44925765562572656,
            0.45382149615374257,
            0.4431592100516202,
            -0.2523214127113583,
            0.44236006566628083,
            0.45499169742110457,
            0.4559247527609642,
            0.44795139839980147,
            0.45358978379835735,
            0.4542466072749412,
            0.4506971004461399,
            0.19255030088477815,
            0.44589217822331123,
            0.32707059725609255
           ]
          },
          {
           "label": "C",
           "range": [
            -0.981522926554688,
            1.995324547668392
           ],
           "ticktext": [
            "0.104",
            "1",
            "10",
            "98.9"
           ],
           "tickvals": [
            -0.981522926554688,
            0,
            1,
            1.995324547668392
           ],
           "values": [
            0.3340342976033538,
            1.062039096266795,
            1.208277718587726,
            1.0235940060996531,
            1.8461281119320971,
            1.6874472876323616,
            0.2284792053980653,
            0.9478484439341693,
            -0.4165366100432438,
            -0.4922159243207286,
            1.7577530430023218,
            1.987053249927931,
            1.5766910763480069,
            1.4086606938848658,
            1.3940561820938908,
            0.6070144014925096,
            -0.981522926554688,
            1.3895273263621009,
            0.6565960945296603,
            1.3791792076981022,
            0.8320684043364158,
            1.5774816042679198,
            1.4450195690121863,
            1.2505532263205608,
            1.995324547668392,
            0.06822185955634945,
            1.609364701254527,
            1.216179097027091,
            0.8758253884324632,
            0.4367210443933918,
            -0.07236370338178374,
            0.4194046120485164,
            0.4339750994518202,
            0.34361441689849076,
            0.38980562740694125,
            0.415841347369694,
            0.18449580607892715,
            0.1825196492196389,
            -0.18754383173344064,
            -0.2367444635906363,
            -0.21348157843808982,
            -0.24409404261934878,
            -0.2617093534424942,
            -0.3169584020944531,
            -0.5448875663331834,
            -0.7291776896361838,
            -0.7646632393147729,
            -0.728778789865111,
            -0.8108071192451813,
            -0.5798212491959441,
            -0.5163069042839433,
            -0.543318811442584,
            -0.5497195674290426,
            -0.616968981772858,
            -0.5529779513556629,
            -0.4943642284294959,
            -0.9552672476267049,
            -0.5525642647679184,
            -0.3849511997871763,
            -0.6301307852484862,
            -0.8745483657472206,
            -0.6243417654687179,
            -0.41583367917641084,
            -0.652116301951758,
            -0.008969481439931197,
            -0.5151805131340546,
            -0.49430289680338274,
            -0.35974403497767077,
            -0.11000219273446332,
            -0.4881979011712849,
            -0.8492527649787429,
            -0.6624876851055285,
            -0.5533850508617951,
            -0.5302645735351981,
            -0.4418357220342581,
            -0.9599562004570474,
            -0.30884094083984304,
            -0.5379057332729821,
            -0.1569809611530312,
            -0.7200703081726293,
            -0.8978326114478512,
            -0.5507117789710442,
            -0.5712522584454366,
            -0.42973229666458906,
            -0.8099913891869629,
            -0.357392242065512,
            -0.6942116391379196,
            -0.5813299452200009,
            -0.7684290665267028,
            -0.44248767400940564,
            -0.2830009765840997,
            -0.5270243801181943,
            -0.5199506569393672,
            -0.33341570178099966,
            -0.6077610046469246,
            -0.4614171671771104,
            -0.677463406094604,
            1.0583036453411434,
            -0.3770863079384105,
            0.5780051610742583
           ]
          },
          {
           "label": "degree",
           "range": [
            1,
            5
           ],
           "values": [
            2,
            5,
            2,
            5,
            1,
            4,
            1,
            3,
            2,
            5,
            4,
            4,
            4,
            4,
            3,
            3,
            3,
            4,
            3,
            2,
            3,
            4,
            4,
            5,
            3,
            4,
            4,
            3,
            5,
            2,
            2,
            1,
            1,
            1,
            1,
            1,
            1,
            1,
            1,
            1,
            1,
            1,
            1,
            1,
            1,
            2,
            2,
            2,
            2,
            2,
            2,
            2,
            2,
            2,
            2,
            2,
            2,
            2,
            2,
            2,
            3,
            2,
            2,
            3,
            2,
            2,
            2,
            3,
            2,
            2,
            3,
            2,
            2,
            2,
            2,
            2,
            2,
            2,
            2,
            2,
            2,
            2,
            2,
            2,
            2,
            2,
            2,
            2,
            3,
            2,
            3,
            1,
            2,
            1,
            2,
            3,
            2,
            1,
            2,
            2
           ]
          },
          {
           "label": "epsilon",
           "range": [
            -1.9986908385404474,
            -0.07029518765303736
           ],
           "ticktext": [
            "0.01",
            "0.1",
            "0.851"
           ],
           "tickvals": [
            -1.9986908385404474,
            -1,
            -0.07029518765303736
           ],
           "values": [
            -0.7909849876854673,
            -0.4658565736319837,
            -0.45667838411384204,
            -0.9824953227022566,
            -0.931148290771217,
            -1.439162062405726,
            -0.7558766190502314,
            -0.5343465198173459,
            -1.9769610879662545,
            -0.9212902650736282,
            -1.541607094480954,
            -1.5524841013287465,
            -1.4232548722464806,
            -1.3893577580124516,
            -1.297176325769625,
            -0.07029518765303736,
            -1.1815573145252154,
            -1.8586222328658797,
            -1.2038224763893361,
            -1.249982433112824,
            -1.7236995011263128,
            -1.391219475957611,
            -1.3089704572220175,
            -1.677572888571321,
            -1.1044782642553335,
            -1.3636156707391212,
            -1.538856788269399,
            -1.054341237175545,
            -1.7712001665050414,
            -1.6175341025250305,
            -0.7590498548912883,
            -1.5650676418696268,
            -1.6371806215057383,
            -1.6052537428176126,
            -1.9454974360917374,
            -1.6870448654098653,
            -1.8060204270527311,
            -1.789592393858782,
            -1.8011803914038957,
            -1.8329984931446055,
            -1.8222566481737357,
            -1.83830846659229,
            -1.9062371945667913,
            -1.916559109345831,
            -1.9971916665446603,
            -1.9986908385404474,
            -1.9972791512785122,
            -1.9979182511178915,
            -1.9789031679209377,
            -1.9316177941736785,
            -1.910786033207424,
            -1.8953707761424106,
            -1.903313268668943,
            -1.8890350150617066,
            -1.8880732174347519,
            -0.19848552604589673,
            -1.738065587174358,
            -1.490194863656081,
            -0.49192015754643054,
            -1.8946281441217914,
            -1.7149789878002548,
            -1.8836063684065318,
            -1.9158021621455827,
            -0.6172038686362336,
            -1.7562253931958207,
            -1.8724151315843807,
            -1.675199280515191,
            -1.9375121882127209,
            -0.8965182960074893,
            -1.7492983356786984,
            -1.8566799827123315,
            -1.8823873437257554,
            -1.9453229317822909,
            -1.9466842772050712,
            -1.9383596543811799,
            -1.8062097141813893,
            -1.6724509354323571,
            -1.8442706581821773,
            -1.4726926254213661,
            -1.589885458404955,
            -1.9440211088852062,
            -1.955968754113142,
            -1.7770525499751162,
            -1.8447175361447077,
            -1.9406028779884452,
            -1.7144189157507548,
            -1.9573313467317057,
            -1.8718508218684782,
            -1.6371202331491235,
            -0.2873384937112337,
            -1.8006316009745182,
            -1.9952266190151893,
            -1.9587964667848825,
            -1.9541136875536156,
            -1.9092966275949355,
            -1.9907191119338914,
            -1.8305194547947876,
            -1.9118848245912001,
            -1.7482535016139242,
            -1.9722513650669726
           ]
          },
          {
           "label": "kernel",
           "range": [
            0,
            2
           ],
           "ticktext": [
            "linear",
            "poly",
            "rbf"
           ],
           "tickvals": [
            0,
            1,
            2
           ],
           "values": [
            0,
            1,
            2,
            1,
            0,
            0,
            2,
            2,
            1,
            1,
            0,
            0,
            0,
            0,
            0,
            0,
            0,
            0,
            0,
            2,
            0,
            0,
            0,
            0,
            0,
            0,
            0,
            0,
            1,
            2,
            2,
            2,
            2,
            2,
            2,
            2,
            2,
            2,
            2,
            2,
            2,
            2,
            2,
            2,
            2,
            2,
            2,
            2,
            1,
            2,
            2,
            2,
            2,
            2,
            2,
            2,
            1,
            2,
            2,
            2,
            2,
            2,
            2,
            2,
            2,
            2,
            1,
            2,
            2,
            2,
            2,
            2,
            2,
            2,
            2,
            2,
            2,
            2,
            1,
            2,
            2,
            2,
            2,
            2,
            2,
            2,
            2,
            2,
            2,
            2,
            2,
            2,
            2,
            2,
            2,
            2,
            2,
            1,
            2,
            2
           ]
          }
         ],
         "labelangle": 30,
         "labelside": "bottom",
         "line": {
          "color": [
           -0.031199014491278133,
           -0.2523214127113583,
           -0.2523214127113583,
           -7.173205631522455,
           0.1843461605844191,
           0.20301857687829344,
           -0.07497462467179453,
           -0.2523214127113583,
           0.10934226789903748,
           -0.990777872119161,
           0.19876663051460536,
           0.1978752349846084,
           0.20281281749158203,
           0.20633749682377972,
           0.20583628264159243,
           -0.2523214127113583,
           0.19213808556408254,
           0.19315271657875382,
           0.19845668825259702,
           0.19679699565887937,
           0.19388362182253435,
           0.20556771533195625,
           0.2046866850649928,
           0.19626562236141748,
           0.19227859805240755,
           0.20183795741131103,
           0.1986733615594688,
           0.19427343891259252,
           -6023.362804067265,
           0.37020719380544553,
           -0.06699632578054371,
           0.3776007197773522,
           0.37007241688687115,
           0.3847847026426457,
           0.3690093613142107,
           0.3709159432066217,
           0.4078866283747512,
           0.4084386499150007,
           0.43575384885742513,
           0.43957527497272747,
           0.43774594632494673,
           0.4405320333362873,
           0.4427949664298044,
           0.4458450463323665,
           0.4542924463208296,
           0.4470160617120758,
           0.44487849659481904,
           0.4471317753503034,
           0.16714985687234243,
           0.45474633927304764,
           0.4560911702345911,
           0.45551229512684016,
           0.45571511412617943,
           0.4530747160804127,
           0.4549026306164087,
           -0.2523214127113583,
           0.19797228389406074,
           0.442346299354268,
           -0.2523214127113583,
           0.4532172916404491,
           0.43794065577240476,
           0.45312222722842793,
           0.45155381151053503,
           -0.2523214127113583,
           0.4264345106983297,
           0.4542976853154538,
           0.15871425404293388,
           0.4494325508545245,
           0.19822011726942362,
           0.450027908705238,
           0.44163759705590416,
           0.4518372339079818,
           0.4554924030202276,
           0.4559527890873748,
           0.45281333278471136,
           0.43350429991946193,
           0.440387690823188,
           0.45328284220224735,
           0.12164147029859976,
           0.4428127604944754,
           0.4376224259360946,
           0.455461126895664,
           0.4507901291324661,
           0.45109482454925737,
           0.44268386331647347,
           0.44432202893455663,
           0.44925765562572656,
           0.45382149615374257,
           0.4431592100516202,
           -0.2523214127113583,
           0.44236006566628083,
           0.45499169742110457,
           0.4559247527609642,
           0.44795139839980147,
           0.45358978379835735,
           0.4542466072749412,
           0.4506971004461399,
           0.19255030088477815,
           0.44589217822331123,
           0.32707059725609255
          ],
          "colorbar": {
           "title": {
            "text": "Objective Value"
           }
          },
          "colorscale": [
           [
            0,
            "rgb(247,251,255)"
           ],
           [
            0.125,
            "rgb(222,235,247)"
           ],
           [
            0.25,
            "rgb(198,219,239)"
           ],
           [
            0.375,
            "rgb(158,202,225)"
           ],
           [
            0.5,
            "rgb(107,174,214)"
           ],
           [
            0.625,
            "rgb(66,146,198)"
           ],
           [
            0.75,
            "rgb(33,113,181)"
           ],
           [
            0.875,
            "rgb(8,81,156)"
           ],
           [
            1,
            "rgb(8,48,107)"
           ]
          ],
          "reversescale": false,
          "showscale": true
         },
         "type": "parcoords"
        }
       ],
       "layout": {
        "template": {
         "data": {
          "bar": [
           {
            "error_x": {
             "color": "#2a3f5f"
            },
            "error_y": {
             "color": "#2a3f5f"
            },
            "marker": {
             "line": {
              "color": "#E5ECF6",
              "width": 0.5
             },
             "pattern": {
              "fillmode": "overlay",
              "size": 10,
              "solidity": 0.2
             }
            },
            "type": "bar"
           }
          ],
          "barpolar": [
           {
            "marker": {
             "line": {
              "color": "#E5ECF6",
              "width": 0.5
             },
             "pattern": {
              "fillmode": "overlay",
              "size": 10,
              "solidity": 0.2
             }
            },
            "type": "barpolar"
           }
          ],
          "carpet": [
           {
            "aaxis": {
             "endlinecolor": "#2a3f5f",
             "gridcolor": "white",
             "linecolor": "white",
             "minorgridcolor": "white",
             "startlinecolor": "#2a3f5f"
            },
            "baxis": {
             "endlinecolor": "#2a3f5f",
             "gridcolor": "white",
             "linecolor": "white",
             "minorgridcolor": "white",
             "startlinecolor": "#2a3f5f"
            },
            "type": "carpet"
           }
          ],
          "choropleth": [
           {
            "colorbar": {
             "outlinewidth": 0,
             "ticks": ""
            },
            "type": "choropleth"
           }
          ],
          "contour": [
           {
            "colorbar": {
             "outlinewidth": 0,
             "ticks": ""
            },
            "colorscale": [
             [
              0,
              "#0d0887"
             ],
             [
              0.1111111111111111,
              "#46039f"
             ],
             [
              0.2222222222222222,
              "#7201a8"
             ],
             [
              0.3333333333333333,
              "#9c179e"
             ],
             [
              0.4444444444444444,
              "#bd3786"
             ],
             [
              0.5555555555555556,
              "#d8576b"
             ],
             [
              0.6666666666666666,
              "#ed7953"
             ],
             [
              0.7777777777777778,
              "#fb9f3a"
             ],
             [
              0.8888888888888888,
              "#fdca26"
             ],
             [
              1,
              "#f0f921"
             ]
            ],
            "type": "contour"
           }
          ],
          "contourcarpet": [
           {
            "colorbar": {
             "outlinewidth": 0,
             "ticks": ""
            },
            "type": "contourcarpet"
           }
          ],
          "heatmap": [
           {
            "colorbar": {
             "outlinewidth": 0,
             "ticks": ""
            },
            "colorscale": [
             [
              0,
              "#0d0887"
             ],
             [
              0.1111111111111111,
              "#46039f"
             ],
             [
              0.2222222222222222,
              "#7201a8"
             ],
             [
              0.3333333333333333,
              "#9c179e"
             ],
             [
              0.4444444444444444,
              "#bd3786"
             ],
             [
              0.5555555555555556,
              "#d8576b"
             ],
             [
              0.6666666666666666,
              "#ed7953"
             ],
             [
              0.7777777777777778,
              "#fb9f3a"
             ],
             [
              0.8888888888888888,
              "#fdca26"
             ],
             [
              1,
              "#f0f921"
             ]
            ],
            "type": "heatmap"
           }
          ],
          "heatmapgl": [
           {
            "colorbar": {
             "outlinewidth": 0,
             "ticks": ""
            },
            "colorscale": [
             [
              0,
              "#0d0887"
             ],
             [
              0.1111111111111111,
              "#46039f"
             ],
             [
              0.2222222222222222,
              "#7201a8"
             ],
             [
              0.3333333333333333,
              "#9c179e"
             ],
             [
              0.4444444444444444,
              "#bd3786"
             ],
             [
              0.5555555555555556,
              "#d8576b"
             ],
             [
              0.6666666666666666,
              "#ed7953"
             ],
             [
              0.7777777777777778,
              "#fb9f3a"
             ],
             [
              0.8888888888888888,
              "#fdca26"
             ],
             [
              1,
              "#f0f921"
             ]
            ],
            "type": "heatmapgl"
           }
          ],
          "histogram": [
           {
            "marker": {
             "pattern": {
              "fillmode": "overlay",
              "size": 10,
              "solidity": 0.2
             }
            },
            "type": "histogram"
           }
          ],
          "histogram2d": [
           {
            "colorbar": {
             "outlinewidth": 0,
             "ticks": ""
            },
            "colorscale": [
             [
              0,
              "#0d0887"
             ],
             [
              0.1111111111111111,
              "#46039f"
             ],
             [
              0.2222222222222222,
              "#7201a8"
             ],
             [
              0.3333333333333333,
              "#9c179e"
             ],
             [
              0.4444444444444444,
              "#bd3786"
             ],
             [
              0.5555555555555556,
              "#d8576b"
             ],
             [
              0.6666666666666666,
              "#ed7953"
             ],
             [
              0.7777777777777778,
              "#fb9f3a"
             ],
             [
              0.8888888888888888,
              "#fdca26"
             ],
             [
              1,
              "#f0f921"
             ]
            ],
            "type": "histogram2d"
           }
          ],
          "histogram2dcontour": [
           {
            "colorbar": {
             "outlinewidth": 0,
             "ticks": ""
            },
            "colorscale": [
             [
              0,
              "#0d0887"
             ],
             [
              0.1111111111111111,
              "#46039f"
             ],
             [
              0.2222222222222222,
              "#7201a8"
             ],
             [
              0.3333333333333333,
              "#9c179e"
             ],
             [
              0.4444444444444444,
              "#bd3786"
             ],
             [
              0.5555555555555556,
              "#d8576b"
             ],
             [
              0.6666666666666666,
              "#ed7953"
             ],
             [
              0.7777777777777778,
              "#fb9f3a"
             ],
             [
              0.8888888888888888,
              "#fdca26"
             ],
             [
              1,
              "#f0f921"
             ]
            ],
            "type": "histogram2dcontour"
           }
          ],
          "mesh3d": [
           {
            "colorbar": {
             "outlinewidth": 0,
             "ticks": ""
            },
            "type": "mesh3d"
           }
          ],
          "parcoords": [
           {
            "line": {
             "colorbar": {
              "outlinewidth": 0,
              "ticks": ""
             }
            },
            "type": "parcoords"
           }
          ],
          "pie": [
           {
            "automargin": true,
            "type": "pie"
           }
          ],
          "scatter": [
           {
            "marker": {
             "colorbar": {
              "outlinewidth": 0,
              "ticks": ""
             }
            },
            "type": "scatter"
           }
          ],
          "scatter3d": [
           {
            "line": {
             "colorbar": {
              "outlinewidth": 0,
              "ticks": ""
             }
            },
            "marker": {
             "colorbar": {
              "outlinewidth": 0,
              "ticks": ""
             }
            },
            "type": "scatter3d"
           }
          ],
          "scattercarpet": [
           {
            "marker": {
             "colorbar": {
              "outlinewidth": 0,
              "ticks": ""
             }
            },
            "type": "scattercarpet"
           }
          ],
          "scattergeo": [
           {
            "marker": {
             "colorbar": {
              "outlinewidth": 0,
              "ticks": ""
             }
            },
            "type": "scattergeo"
           }
          ],
          "scattergl": [
           {
            "marker": {
             "colorbar": {
              "outlinewidth": 0,
              "ticks": ""
             }
            },
            "type": "scattergl"
           }
          ],
          "scattermapbox": [
           {
            "marker": {
             "colorbar": {
              "outlinewidth": 0,
              "ticks": ""
             }
            },
            "type": "scattermapbox"
           }
          ],
          "scatterpolar": [
           {
            "marker": {
             "colorbar": {
              "outlinewidth": 0,
              "ticks": ""
             }
            },
            "type": "scatterpolar"
           }
          ],
          "scatterpolargl": [
           {
            "marker": {
             "colorbar": {
              "outlinewidth": 0,
              "ticks": ""
             }
            },
            "type": "scatterpolargl"
           }
          ],
          "scatterternary": [
           {
            "marker": {
             "colorbar": {
              "outlinewidth": 0,
              "ticks": ""
             }
            },
            "type": "scatterternary"
           }
          ],
          "surface": [
           {
            "colorbar": {
             "outlinewidth": 0,
             "ticks": ""
            },
            "colorscale": [
             [
              0,
              "#0d0887"
             ],
             [
              0.1111111111111111,
              "#46039f"
             ],
             [
              0.2222222222222222,
              "#7201a8"
             ],
             [
              0.3333333333333333,
              "#9c179e"
             ],
             [
              0.4444444444444444,
              "#bd3786"
             ],
             [
              0.5555555555555556,
              "#d8576b"
             ],
             [
              0.6666666666666666,
              "#ed7953"
             ],
             [
              0.7777777777777778,
              "#fb9f3a"
             ],
             [
              0.8888888888888888,
              "#fdca26"
             ],
             [
              1,
              "#f0f921"
             ]
            ],
            "type": "surface"
           }
          ],
          "table": [
           {
            "cells": {
             "fill": {
              "color": "#EBF0F8"
             },
             "line": {
              "color": "white"
             }
            },
            "header": {
             "fill": {
              "color": "#C8D4E3"
             },
             "line": {
              "color": "white"
             }
            },
            "type": "table"
           }
          ]
         },
         "layout": {
          "annotationdefaults": {
           "arrowcolor": "#2a3f5f",
           "arrowhead": 0,
           "arrowwidth": 1
          },
          "autotypenumbers": "strict",
          "coloraxis": {
           "colorbar": {
            "outlinewidth": 0,
            "ticks": ""
           }
          },
          "colorscale": {
           "diverging": [
            [
             0,
             "#8e0152"
            ],
            [
             0.1,
             "#c51b7d"
            ],
            [
             0.2,
             "#de77ae"
            ],
            [
             0.3,
             "#f1b6da"
            ],
            [
             0.4,
             "#fde0ef"
            ],
            [
             0.5,
             "#f7f7f7"
            ],
            [
             0.6,
             "#e6f5d0"
            ],
            [
             0.7,
             "#b8e186"
            ],
            [
             0.8,
             "#7fbc41"
            ],
            [
             0.9,
             "#4d9221"
            ],
            [
             1,
             "#276419"
            ]
           ],
           "sequential": [
            [
             0,
             "#0d0887"
            ],
            [
             0.1111111111111111,
             "#46039f"
            ],
            [
             0.2222222222222222,
             "#7201a8"
            ],
            [
             0.3333333333333333,
             "#9c179e"
            ],
            [
             0.4444444444444444,
             "#bd3786"
            ],
            [
             0.5555555555555556,
             "#d8576b"
            ],
            [
             0.6666666666666666,
             "#ed7953"
            ],
            [
             0.7777777777777778,
             "#fb9f3a"
            ],
            [
             0.8888888888888888,
             "#fdca26"
            ],
            [
             1,
             "#f0f921"
            ]
           ],
           "sequentialminus": [
            [
             0,
             "#0d0887"
            ],
            [
             0.1111111111111111,
             "#46039f"
            ],
            [
             0.2222222222222222,
             "#7201a8"
            ],
            [
             0.3333333333333333,
             "#9c179e"
            ],
            [
             0.4444444444444444,
             "#bd3786"
            ],
            [
             0.5555555555555556,
             "#d8576b"
            ],
            [
             0.6666666666666666,
             "#ed7953"
            ],
            [
             0.7777777777777778,
             "#fb9f3a"
            ],
            [
             0.8888888888888888,
             "#fdca26"
            ],
            [
             1,
             "#f0f921"
            ]
           ]
          },
          "colorway": [
           "#636efa",
           "#EF553B",
           "#00cc96",
           "#ab63fa",
           "#FFA15A",
           "#19d3f3",
           "#FF6692",
           "#B6E880",
           "#FF97FF",
           "#FECB52"
          ],
          "font": {
           "color": "#2a3f5f"
          },
          "geo": {
           "bgcolor": "white",
           "lakecolor": "white",
           "landcolor": "#E5ECF6",
           "showlakes": true,
           "showland": true,
           "subunitcolor": "white"
          },
          "hoverlabel": {
           "align": "left"
          },
          "hovermode": "closest",
          "mapbox": {
           "style": "light"
          },
          "paper_bgcolor": "white",
          "plot_bgcolor": "#E5ECF6",
          "polar": {
           "angularaxis": {
            "gridcolor": "white",
            "linecolor": "white",
            "ticks": ""
           },
           "bgcolor": "#E5ECF6",
           "radialaxis": {
            "gridcolor": "white",
            "linecolor": "white",
            "ticks": ""
           }
          },
          "scene": {
           "xaxis": {
            "backgroundcolor": "#E5ECF6",
            "gridcolor": "white",
            "gridwidth": 2,
            "linecolor": "white",
            "showbackground": true,
            "ticks": "",
            "zerolinecolor": "white"
           },
           "yaxis": {
            "backgroundcolor": "#E5ECF6",
            "gridcolor": "white",
            "gridwidth": 2,
            "linecolor": "white",
            "showbackground": true,
            "ticks": "",
            "zerolinecolor": "white"
           },
           "zaxis": {
            "backgroundcolor": "#E5ECF6",
            "gridcolor": "white",
            "gridwidth": 2,
            "linecolor": "white",
            "showbackground": true,
            "ticks": "",
            "zerolinecolor": "white"
           }
          },
          "shapedefaults": {
           "line": {
            "color": "#2a3f5f"
           }
          },
          "ternary": {
           "aaxis": {
            "gridcolor": "white",
            "linecolor": "white",
            "ticks": ""
           },
           "baxis": {
            "gridcolor": "white",
            "linecolor": "white",
            "ticks": ""
           },
           "bgcolor": "#E5ECF6",
           "caxis": {
            "gridcolor": "white",
            "linecolor": "white",
            "ticks": ""
           }
          },
          "title": {
           "x": 0.05
          },
          "xaxis": {
           "automargin": true,
           "gridcolor": "white",
           "linecolor": "white",
           "ticks": "",
           "title": {
            "standoff": 15
           },
           "zerolinecolor": "white",
           "zerolinewidth": 2
          },
          "yaxis": {
           "automargin": true,
           "gridcolor": "white",
           "linecolor": "white",
           "ticks": "",
           "title": {
            "standoff": 15
           },
           "zerolinecolor": "white",
           "zerolinewidth": 2
          }
         }
        },
        "title": {
         "text": "Parallel Coordinate Plot"
        }
       }
      }
     },
     "metadata": {},
     "output_type": "display_data"
    }
   ],
   "source": [
    "optuna.visualization.plot_parallel_coordinate(study)"
   ]
  },
  {
   "cell_type": "code",
   "execution_count": 37,
   "id": "281574d0",
   "metadata": {},
   "outputs": [
    {
     "name": "stdout",
     "output_type": "stream",
     "text": [
      "Best trial: {'C': 0.30457418846938605, 'epsilon': 0.012280441109187927, 'kernel': 'rbf', 'degree': 2}\n"
     ]
    }
   ],
   "source": [
    "print(\"Best trial:\", study.best_trial.params)"
   ]
  },
  {
   "cell_type": "code",
   "execution_count": 38,
   "id": "3b45adad",
   "metadata": {},
   "outputs": [
    {
     "data": {
      "text/html": [
       "<style>#sk-container-id-2 {color: black;}#sk-container-id-2 pre{padding: 0;}#sk-container-id-2 div.sk-toggleable {background-color: white;}#sk-container-id-2 label.sk-toggleable__label {cursor: pointer;display: block;width: 100%;margin-bottom: 0;padding: 0.3em;box-sizing: border-box;text-align: center;}#sk-container-id-2 label.sk-toggleable__label-arrow:before {content: \"▸\";float: left;margin-right: 0.25em;color: #696969;}#sk-container-id-2 label.sk-toggleable__label-arrow:hover:before {color: black;}#sk-container-id-2 div.sk-estimator:hover label.sk-toggleable__label-arrow:before {color: black;}#sk-container-id-2 div.sk-toggleable__content {max-height: 0;max-width: 0;overflow: hidden;text-align: left;background-color: #f0f8ff;}#sk-container-id-2 div.sk-toggleable__content pre {margin: 0.2em;color: black;border-radius: 0.25em;background-color: #f0f8ff;}#sk-container-id-2 input.sk-toggleable__control:checked~div.sk-toggleable__content {max-height: 200px;max-width: 100%;overflow: auto;}#sk-container-id-2 input.sk-toggleable__control:checked~label.sk-toggleable__label-arrow:before {content: \"▾\";}#sk-container-id-2 div.sk-estimator input.sk-toggleable__control:checked~label.sk-toggleable__label {background-color: #d4ebff;}#sk-container-id-2 div.sk-label input.sk-toggleable__control:checked~label.sk-toggleable__label {background-color: #d4ebff;}#sk-container-id-2 input.sk-hidden--visually {border: 0;clip: rect(1px 1px 1px 1px);clip: rect(1px, 1px, 1px, 1px);height: 1px;margin: -1px;overflow: hidden;padding: 0;position: absolute;width: 1px;}#sk-container-id-2 div.sk-estimator {font-family: monospace;background-color: #f0f8ff;border: 1px dotted black;border-radius: 0.25em;box-sizing: border-box;margin-bottom: 0.5em;}#sk-container-id-2 div.sk-estimator:hover {background-color: #d4ebff;}#sk-container-id-2 div.sk-parallel-item::after {content: \"\";width: 100%;border-bottom: 1px solid gray;flex-grow: 1;}#sk-container-id-2 div.sk-label:hover label.sk-toggleable__label {background-color: #d4ebff;}#sk-container-id-2 div.sk-serial::before {content: \"\";position: absolute;border-left: 1px solid gray;box-sizing: border-box;top: 0;bottom: 0;left: 50%;z-index: 0;}#sk-container-id-2 div.sk-serial {display: flex;flex-direction: column;align-items: center;background-color: white;padding-right: 0.2em;padding-left: 0.2em;position: relative;}#sk-container-id-2 div.sk-item {position: relative;z-index: 1;}#sk-container-id-2 div.sk-parallel {display: flex;align-items: stretch;justify-content: center;background-color: white;position: relative;}#sk-container-id-2 div.sk-item::before, #sk-container-id-2 div.sk-parallel-item::before {content: \"\";position: absolute;border-left: 1px solid gray;box-sizing: border-box;top: 0;bottom: 0;left: 50%;z-index: -1;}#sk-container-id-2 div.sk-parallel-item {display: flex;flex-direction: column;z-index: 1;position: relative;background-color: white;}#sk-container-id-2 div.sk-parallel-item:first-child::after {align-self: flex-end;width: 50%;}#sk-container-id-2 div.sk-parallel-item:last-child::after {align-self: flex-start;width: 50%;}#sk-container-id-2 div.sk-parallel-item:only-child::after {width: 0;}#sk-container-id-2 div.sk-dashed-wrapped {border: 1px dashed gray;margin: 0 0.4em 0.5em 0.4em;box-sizing: border-box;padding-bottom: 0.4em;background-color: white;}#sk-container-id-2 div.sk-label label {font-family: monospace;font-weight: bold;display: inline-block;line-height: 1.2em;}#sk-container-id-2 div.sk-label-container {text-align: center;}#sk-container-id-2 div.sk-container {/* jupyter's `normalize.less` sets `[hidden] { display: none; }` but bootstrap.min.css set `[hidden] { display: none !important; }` so we also need the `!important` here to be able to override the default hidden behavior on the sphinx rendered scikit-learn.org. See: https://github.com/scikit-learn/scikit-learn/issues/21755 */display: inline-block !important;position: relative;}#sk-container-id-2 div.sk-text-repr-fallback {display: none;}</style><div id=\"sk-container-id-2\" class=\"sk-top-container\"><div class=\"sk-text-repr-fallback\"><pre>SVR(C=0.30457418846938605, degree=2, epsilon=0.012280441109187927)</pre><b>In a Jupyter environment, please rerun this cell to show the HTML representation or trust the notebook. <br />On GitHub, the HTML representation is unable to render, please try loading this page with nbviewer.org.</b></div><div class=\"sk-container\" hidden><div class=\"sk-item\"><div class=\"sk-estimator sk-toggleable\"><input class=\"sk-toggleable__control sk-hidden--visually\" id=\"sk-estimator-id-2\" type=\"checkbox\" checked><label for=\"sk-estimator-id-2\" class=\"sk-toggleable__label sk-toggleable__label-arrow\">SVR</label><div class=\"sk-toggleable__content\"><pre>SVR(C=0.30457418846938605, degree=2, epsilon=0.012280441109187927)</pre></div></div></div></div></div>"
      ],
      "text/plain": [
       "SVR(C=0.30457418846938605, degree=2, epsilon=0.012280441109187927)"
      ]
     },
     "execution_count": 38,
     "metadata": {},
     "output_type": "execute_result"
    }
   ],
   "source": [
    "svm_params = {\n",
    "    \"C\": study.best_trial.params[\"C\"],\n",
    "    \"epsilon\": study.best_trial.params[\"epsilon\"],\n",
    "    \"kernel\": study.best_trial.params[\"kernel\"],\n",
    "    \"degree\": study.best_trial.params[\"degree\"]\n",
    "}\n",
    "\n",
    "svm = SVR(**svm_params)\n",
    "svm.fit(Cd_X_train, Cd_y_train)"
   ]
  },
  {
   "cell_type": "code",
   "execution_count": 39,
   "id": "9ab1055b",
   "metadata": {},
   "outputs": [],
   "source": [
    "y_train_pred = svm.predict(Cd_X_train)\n",
    "y_test_pred = svm.predict(Cd_X_test)"
   ]
  },
  {
   "cell_type": "code",
   "execution_count": 40,
   "id": "425b4001",
   "metadata": {},
   "outputs": [
    {
     "name": "stdout",
     "output_type": "stream",
     "text": [
      "Train RMSE:  0.05064165816863905\n",
      "Test RMSE:  0.06125487729092811\n"
     ]
    }
   ],
   "source": [
    "print(\"Train RMSE: \", np.sqrt(mean_squared_error(Cd_y_train, y_train_pred)))\n",
    "print(\"Test RMSE: \", np.sqrt(mean_squared_error(Cd_y_test, y_test_pred)))"
   ]
  },
  {
   "cell_type": "code",
   "execution_count": 41,
   "id": "0f95ae3c",
   "metadata": {},
   "outputs": [
    {
     "name": "stdout",
     "output_type": "stream",
     "text": [
      "Train R2:  0.650995652581012\n",
      "Test R2:  0.4264565252476644\n"
     ]
    }
   ],
   "source": [
    "print(\"Train R2: \", r2_score(Cd_y_train, y_train_pred))\n",
    "print(\"Test R2: \", r2_score(Cd_y_test, y_test_pred))"
   ]
  },
  {
   "cell_type": "code",
   "execution_count": 42,
   "id": "a2ac1a1f",
   "metadata": {},
   "outputs": [
    {
     "data": {
      "image/png": "[encoded data removed]",
      "text/plain": [
       "<Figure size 640x480 with 1 Axes>"
      ]
     },
     "metadata": {},
     "output_type": "display_data"
    }
   ],
   "source": [
    "plt.scatter(y_train_pred, np.array(Cd_y_train), color=\"orange\", alpha=0.3)\n",
    "plt.scatter(y_test_pred, np.array(Cd_y_test), color=\"green\", alpha=0.4)\n",
    "plt.axis(\"auto\") # scaled, tight, auto, image, square\n",
    "# plt.xlim([0, 1.5]) \n",
    "# plt.ylim(0, None) \n",
    "plt.xlabel('Predicted Values')\n",
    "plt.ylabel('Actual Values')\n",
    "\n",
    "# Add y=x line\n",
    "plt.plot([0, 0.5], [0, 0.5], color='red', linestyle='-')\n",
    "\n",
    "plt.show()"
   ]
  },
  {
   "attachments": {},
   "cell_type": "markdown",
   "id": "74f680ea",
   "metadata": {},
   "source": [
    "Ni"
   ]
  },
  {
   "cell_type": "code",
   "execution_count": 43,
   "id": "de233338",
   "metadata": {},
   "outputs": [
    {
     "name": "stderr",
     "output_type": "stream",
     "text": [
      "\u001b[32m[I 2023-08-24 14:37:17,656]\u001b[0m A new study created in memory with name: svm_parameter_opt\u001b[0m\n",
      "\u001b[32m[I 2023-08-24 14:37:17,852]\u001b[0m Trial 0 finished with value: 0.4158489860112254 and parameters: {'C': 0.36015094283076626, 'epsilon': 0.016731192163971283, 'kernel': 'linear', 'degree': 4}. Best is trial 0 with value: 0.4158489860112254.\u001b[0m\n",
      "\u001b[32m[I 2023-08-24 14:37:17,917]\u001b[0m Trial 1 finished with value: -0.2530403817607823 and parameters: {'C': 2.317914630361059, 'epsilon': 0.9022266912998136, 'kernel': 'poly', 'degree': 5}. Best is trial 0 with value: 0.4158489860112254.\u001b[0m\n",
      "\u001b[32m[I 2023-08-24 14:37:18,061]\u001b[0m Trial 2 finished with value: 0.6076615388578005 and parameters: {'C': 0.9281945335274976, 'epsilon': 0.035225802657931224, 'kernel': 'poly', 'degree': 3}. Best is trial 2 with value: 0.6076615388578005.\u001b[0m\n",
      "\u001b[32m[I 2023-08-24 14:37:18,800]\u001b[0m Trial 3 finished with value: -19.29345506490694 and parameters: {'C': 31.712851370683577, 'epsilon': 0.03306938441494765, 'kernel': 'poly', 'degree': 5}. Best is trial 2 with value: 0.6076615388578005.\u001b[0m\n",
      "\u001b[32m[I 2023-08-24 14:37:18,953]\u001b[0m Trial 4 finished with value: 0.5529738843539937 and parameters: {'C': 0.12762847927199272, 'epsilon': 0.08323193374974128, 'kernel': 'rbf', 'degree': 4}. Best is trial 2 with value: 0.6076615388578005.\u001b[0m\n",
      "\u001b[32m[I 2023-08-24 14:37:19,039]\u001b[0m Trial 5 finished with value: -0.030015948473525112 and parameters: {'C': 0.3167675496267968, 'epsilon': 0.5631998696401831, 'kernel': 'poly', 'degree': 5}. Best is trial 2 with value: 0.6076615388578005.\u001b[0m\n",
      "\u001b[32m[I 2023-08-24 14:37:19,119]\u001b[0m Trial 6 finished with value: 0.5877861305980122 and parameters: {'C': 0.244404271950168, 'epsilon': 0.5358434952357115, 'kernel': 'rbf', 'degree': 2}. Best is trial 2 with value: 0.6076615388578005.\u001b[0m\n",
      "\u001b[32m[I 2023-08-24 14:37:19,266]\u001b[0m Trial 7 finished with value: 0.6210972999800004 and parameters: {'C': 0.33088120067961463, 'epsilon': 0.0865027879019505, 'kernel': 'rbf', 'degree': 1}. Best is trial 7 with value: 0.6210972999800004.\u001b[0m\n",
      "\u001b[32m[I 2023-08-24 14:37:19,389]\u001b[0m Trial 8 finished with value: 0.7546747718542408 and parameters: {'C': 6.39992690225576, 'epsilon': 0.3333832166047634, 'kernel': 'rbf', 'degree': 3}. Best is trial 8 with value: 0.7546747718542408.\u001b[0m\n",
      "\u001b[32m[I 2023-08-24 14:37:20,229]\u001b[0m Trial 9 finished with value: 0.4482767913056974 and parameters: {'C': 19.163925384919697, 'epsilon': 0.898183839580854, 'kernel': 'linear', 'degree': 2}. Best is trial 8 with value: 0.7546747718542408.\u001b[0m\n",
      "\u001b[32m[I 2023-08-24 14:37:20,394]\u001b[0m Trial 10 finished with value: 0.7628053633436245 and parameters: {'C': 8.462096915255573, 'epsilon': 0.20181741287636917, 'kernel': 'rbf', 'degree': 3}. Best is trial 10 with value: 0.7628053633436245.\u001b[0m\n",
      "\u001b[32m[I 2023-08-24 14:37:20,543]\u001b[0m Trial 11 finished with value: 0.7631269392988125 and parameters: {'C': 8.36895606370812, 'epsilon': 0.2390318767659668, 'kernel': 'rbf', 'degree': 3}. Best is trial 11 with value: 0.7631269392988125.\u001b[0m\n",
      "\u001b[32m[I 2023-08-24 14:37:20,971]\u001b[0m Trial 12 finished with value: 0.7367697701822591 and parameters: {'C': 93.71702894203715, 'epsilon': 0.17063632436062592, 'kernel': 'rbf', 'degree': 2}. Best is trial 11 with value: 0.7631269392988125.\u001b[0m\n",
      "\u001b[32m[I 2023-08-24 14:37:21,143]\u001b[0m Trial 13 finished with value: 0.7557417201298758 and parameters: {'C': 6.565384029533107, 'epsilon': 0.1816541908256569, 'kernel': 'rbf', 'degree': 4}. Best is trial 11 with value: 0.7631269392988125.\u001b[0m\n",
      "\u001b[32m[I 2023-08-24 14:37:21,336]\u001b[0m Trial 14 finished with value: 0.7704451702846635 and parameters: {'C': 16.101753020813522, 'epsilon': 0.1991056804037285, 'kernel': 'rbf', 'degree': 3}. Best is trial 14 with value: 0.7704451702846635.\u001b[0m\n",
      "\u001b[32m[I 2023-08-24 14:37:21,562]\u001b[0m Trial 15 finished with value: 0.7690450892179864 and parameters: {'C': 30.94720541851, 'epsilon': 0.27724058795359996, 'kernel': 'rbf', 'degree': 1}. Best is trial 14 with value: 0.7704451702846635.\u001b[0m\n",
      "\u001b[32m[I 2023-08-24 14:37:30,391]\u001b[0m Trial 16 finished with value: 0.46881511475909365 and parameters: {'C': 83.1562789335965, 'epsilon': 0.10899064400918775, 'kernel': 'linear', 'degree': 1}. Best is trial 14 with value: 0.7704451702846635.\u001b[0m\n",
      "\u001b[32m[I 2023-08-24 14:37:30,558]\u001b[0m Trial 17 finished with value: 0.7656879547675356 and parameters: {'C': 28.367742948976677, 'epsilon': 0.36006334396033335, 'kernel': 'rbf', 'degree': 1}. Best is trial 14 with value: 0.7704451702846635.\u001b[0m\n",
      "\u001b[32m[I 2023-08-24 14:37:30,757]\u001b[0m Trial 18 finished with value: 0.7270166182954589 and parameters: {'C': 2.5346851130576162, 'epsilon': 0.0411421401895167, 'kernel': 'rbf', 'degree': 2}. Best is trial 14 with value: 0.7704451702846635.\u001b[0m\n",
      "\u001b[32m[I 2023-08-24 14:37:36,058]\u001b[0m Trial 19 finished with value: 0.46199410307675903 and parameters: {'C': 47.18533090649771, 'epsilon': 0.1161284506718423, 'kernel': 'linear', 'degree': 1}. Best is trial 14 with value: 0.7704451702846635.\u001b[0m\n",
      "\u001b[32m[I 2023-08-24 14:37:36,359]\u001b[0m Trial 20 finished with value: 0.7631920626661095 and parameters: {'C': 16.967138205209103, 'epsilon': 0.059423000233849825, 'kernel': 'rbf', 'degree': 2}. Best is trial 14 with value: 0.7704451702846635.\u001b[0m\n",
      "\u001b[32m[I 2023-08-24 14:37:36,517]\u001b[0m Trial 21 finished with value: 0.7665258445136265 and parameters: {'C': 22.7035971315224, 'epsilon': 0.34670369512505683, 'kernel': 'rbf', 'degree': 1}. Best is trial 14 with value: 0.7704451702846635.\u001b[0m\n",
      "\u001b[32m[I 2023-08-24 14:37:36,660]\u001b[0m Trial 22 finished with value: 0.7662102746911958 and parameters: {'C': 15.256945223275768, 'epsilon': 0.3478885341005331, 'kernel': 'rbf', 'degree': 1}. Best is trial 14 with value: 0.7704451702846635.\u001b[0m\n",
      "\u001b[32m[I 2023-08-24 14:37:36,798]\u001b[0m Trial 23 finished with value: 0.7438775220965599 and parameters: {'C': 47.2798498754222, 'epsilon': 0.559891060711062, 'kernel': 'rbf', 'degree': 1}. Best is trial 14 with value: 0.7704451702846635.\u001b[0m\n",
      "\u001b[32m[I 2023-08-24 14:37:36,947]\u001b[0m Trial 24 finished with value: 0.768979884432764 and parameters: {'C': 12.24905027737436, 'epsilon': 0.2884950906947023, 'kernel': 'rbf', 'degree': 2}. Best is trial 14 with value: 0.7704451702846635.\u001b[0m\n",
      "\u001b[32m[I 2023-08-24 14:37:37,112]\u001b[0m Trial 25 finished with value: 0.7472853117681219 and parameters: {'C': 4.474989023057532, 'epsilon': 0.14024245739105465, 'kernel': 'rbf', 'degree': 2}. Best is trial 14 with value: 0.7704451702846635.\u001b[0m\n",
      "\u001b[32m[I 2023-08-24 14:37:37,271]\u001b[0m Trial 26 finished with value: 0.769579338040596 and parameters: {'C': 11.704213643977422, 'epsilon': 0.24823241587563294, 'kernel': 'rbf', 'degree': 3}. Best is trial 14 with value: 0.7704451702846635.\u001b[0m\n",
      "\u001b[32m[I 2023-08-24 14:37:37,477]\u001b[0m Trial 27 finished with value: 0.6979022129002331 and parameters: {'C': 1.3869353714016541, 'epsilon': 0.01021586940219341, 'kernel': 'rbf', 'degree': 4}. Best is trial 14 with value: 0.7704451702846635.\u001b[0m\n",
      "\u001b[32m[I 2023-08-24 14:37:42,501]\u001b[0m Trial 28 finished with value: 0.4676240049973563 and parameters: {'C': 55.76371334107649, 'epsilon': 0.24271004927411133, 'kernel': 'linear', 'degree': 3}. Best is trial 14 with value: 0.7704451702846635.\u001b[0m\n",
      "\u001b[32m[I 2023-08-24 14:37:42,603]\u001b[0m Trial 29 finished with value: -0.2757053227926868 and parameters: {'C': 3.9324298885407756, 'epsilon': 0.48911149711100643, 'kernel': 'poly', 'degree': 4}. Best is trial 14 with value: 0.7704451702846635.\u001b[0m\n",
      "\u001b[32m[I 2023-08-24 14:37:46,943]\u001b[0m Trial 30 finished with value: 0.45606552690213187 and parameters: {'C': 34.31393658233071, 'epsilon': 0.05804047137117159, 'kernel': 'linear', 'degree': 4}. Best is trial 14 with value: 0.7704451702846635.\u001b[0m\n",
      "\u001b[32m[I 2023-08-24 14:37:47,089]\u001b[0m Trial 31 finished with value: 0.7673910103798726 and parameters: {'C': 10.216623367487234, 'epsilon': 0.26849992545686274, 'kernel': 'rbf', 'degree': 2}. Best is trial 14 with value: 0.7704451702846635.\u001b[0m\n",
      "\u001b[32m[I 2023-08-24 14:37:47,297]\u001b[0m Trial 32 finished with value: 0.7689731064773364 and parameters: {'C': 14.865658991781066, 'epsilon': 0.1553380317285202, 'kernel': 'rbf', 'degree': 3}. Best is trial 14 with value: 0.7704451702846635.\u001b[0m\n",
      "\u001b[32m[I 2023-08-24 14:37:47,422]\u001b[0m Trial 33 finished with value: 0.7559641527826632 and parameters: {'C': 12.862669907633183, 'epsilon': 0.4200762341377768, 'kernel': 'rbf', 'degree': 3}. Best is trial 14 with value: 0.7704451702846635.\u001b[0m\n",
      "\u001b[32m[I 2023-08-24 14:37:47,959]\u001b[0m Trial 34 finished with value: -0.6550752241041057 and parameters: {'C': 26.89596823582459, 'epsilon': 0.26458695505887425, 'kernel': 'poly', 'degree': 3}. Best is trial 14 with value: 0.7704451702846635.\u001b[0m\n",
      "\u001b[32m[I 2023-08-24 14:37:48,047]\u001b[0m Trial 35 finished with value: 0.6506236713171958 and parameters: {'C': 1.403712498636239, 'epsilon': 0.7139456580947178, 'kernel': 'rbf', 'degree': 2}. Best is trial 14 with value: 0.7704451702846635.\u001b[0m\n",
      "\u001b[32m[I 2023-08-24 14:37:48,251]\u001b[0m Trial 36 finished with value: -0.5935703763340944 and parameters: {'C': 5.47634120314609, 'epsilon': 0.13432876407237287, 'kernel': 'poly', 'degree': 2}. Best is trial 14 with value: 0.7704451702846635.\u001b[0m\n",
      "\u001b[32m[I 2023-08-24 14:37:48,421]\u001b[0m Trial 37 finished with value: 0.7694117664743318 and parameters: {'C': 11.746388999694108, 'epsilon': 0.20318646909353602, 'kernel': 'rbf', 'degree': 5}. Best is trial 14 with value: 0.7704451702846635.\u001b[0m\n",
      "\u001b[32m[I 2023-08-24 14:37:48,686]\u001b[0m Trial 38 finished with value: 0.7658709245521022 and parameters: {'C': 36.37295572044735, 'epsilon': 0.20349270411034884, 'kernel': 'rbf', 'degree': 5}. Best is trial 14 with value: 0.7704451702846635.\u001b[0m\n",
      "\u001b[32m[I 2023-08-24 14:37:49,380]\u001b[0m Trial 39 finished with value: -21.82730796564367 and parameters: {'C': 63.97755775694334, 'epsilon': 0.08417768806689292, 'kernel': 'poly', 'degree': 5}. Best is trial 14 with value: 0.7704451702846635.\u001b[0m\n",
      "\u001b[32m[I 2023-08-24 14:37:49,453]\u001b[0m Trial 40 finished with value: 0.6243453010829968 and parameters: {'C': 0.6615302614580274, 'epsilon': 0.6892066671066774, 'kernel': 'rbf', 'degree': 5}. Best is trial 14 with value: 0.7704451702846635.\u001b[0m\n",
      "\u001b[32m[I 2023-08-24 14:37:49,600]\u001b[0m Trial 41 finished with value: 0.7680068238846021 and parameters: {'C': 10.892028829915189, 'epsilon': 0.28499036396898686, 'kernel': 'rbf', 'degree': 3}. Best is trial 14 with value: 0.7704451702846635.\u001b[0m\n",
      "\u001b[32m[I 2023-08-24 14:37:49,803]\u001b[0m Trial 42 finished with value: 0.7708356081152685 and parameters: {'C': 21.109171411498714, 'epsilon': 0.21935186635179815, 'kernel': 'rbf', 'degree': 4}. Best is trial 42 with value: 0.7708356081152685.\u001b[0m\n",
      "\u001b[32m[I 2023-08-24 14:37:50,012]\u001b[0m Trial 43 finished with value: 0.7706712100224173 and parameters: {'C': 22.34037835703469, 'epsilon': 0.2046989425414986, 'kernel': 'rbf', 'degree': 4}. Best is trial 42 with value: 0.7708356081152685.\u001b[0m\n",
      "\u001b[32m[I 2023-08-24 14:37:50,212]\u001b[0m Trial 44 finished with value: 0.770929806206609 and parameters: {'C': 20.13603290177112, 'epsilon': 0.20821172166012875, 'kernel': 'rbf', 'degree': 4}. Best is trial 44 with value: 0.770929806206609.\u001b[0m\n",
      "\u001b[32m[I 2023-08-24 14:37:50,466]\u001b[0m Trial 45 finished with value: 0.7685769620056679 and parameters: {'C': 19.563560081933968, 'epsilon': 0.12555352350253676, 'kernel': 'rbf', 'degree': 4}. Best is trial 44 with value: 0.770929806206609.\u001b[0m\n",
      "\u001b[32m[I 2023-08-24 14:37:50,635]\u001b[0m Trial 46 finished with value: 0.7620730008753239 and parameters: {'C': 8.383629715059119, 'epsilon': 0.17454703406685046, 'kernel': 'rbf', 'degree': 4}. Best is trial 44 with value: 0.770929806206609.\u001b[0m\n",
      "\u001b[32m[I 2023-08-24 14:37:50,771]\u001b[0m Trial 47 finished with value: 0.7607816599805046 and parameters: {'C': 21.885235462321578, 'epsilon': 0.4318593101326821, 'kernel': 'rbf', 'degree': 4}. Best is trial 44 with value: 0.770929806206609.\u001b[0m\n",
      "\u001b[32m[I 2023-08-24 14:37:50,914]\u001b[0m Trial 48 finished with value: 0.5610933566777959 and parameters: {'C': 0.1392259205909054, 'epsilon': 0.09775236523379253, 'kernel': 'rbf', 'degree': 4}. Best is trial 44 with value: 0.770929806206609.\u001b[0m\n",
      "\u001b[32m[I 2023-08-24 14:37:55,940]\u001b[0m Trial 49 finished with value: 0.4592365093758401 and parameters: {'C': 40.80217831857702, 'epsilon': 0.06291057310982652, 'kernel': 'linear', 'degree': 3}. Best is trial 44 with value: 0.770929806206609.\u001b[0m\n",
      "\u001b[32m[I 2023-08-24 14:37:56,093]\u001b[0m Trial 50 finished with value: 0.7593722276642237 and parameters: {'C': 7.443471580378304, 'epsilon': 0.21060585792478434, 'kernel': 'rbf', 'degree': 3}. Best is trial 44 with value: 0.770929806206609.\u001b[0m\n",
      "\u001b[32m[I 2023-08-24 14:37:56,298]\u001b[0m Trial 51 finished with value: 0.7707509499164646 and parameters: {'C': 21.74864759982613, 'epsilon': 0.21139032218686063, 'kernel': 'rbf', 'degree': 5}. Best is trial 44 with value: 0.770929806206609.\u001b[0m\n",
      "\u001b[32m[I 2023-08-24 14:37:56,549]\u001b[0m Trial 52 finished with value: 0.7688852651074278 and parameters: {'C': 25.11789917295065, 'epsilon': 0.1585765077059333, 'kernel': 'rbf', 'degree': 5}. Best is trial 44 with value: 0.770929806206609.\u001b[0m\n",
      "\u001b[32m[I 2023-08-24 14:37:56,870]\u001b[0m Trial 53 finished with value: 0.753830032157763 and parameters: {'C': 67.12259847920681, 'epsilon': 0.21365004086122238, 'kernel': 'rbf', 'degree': 4}. Best is trial 44 with value: 0.770929806206609.\u001b[0m\n",
      "\u001b[32m[I 2023-08-24 14:37:57,028]\u001b[0m Trial 54 finished with value: 0.7683662434931317 and parameters: {'C': 17.95176995412421, 'epsilon': 0.3237112151787154, 'kernel': 'rbf', 'degree': 4}. Best is trial 44 with value: 0.770929806206609.\u001b[0m\n",
      "\u001b[32m[I 2023-08-24 14:37:57,359]\u001b[0m Trial 55 finished with value: 0.764985392321637 and parameters: {'C': 29.978313609357443, 'epsilon': 0.10260869857845586, 'kernel': 'rbf', 'degree': 5}. Best is trial 44 with value: 0.770929806206609.\u001b[0m\n",
      "\u001b[32m[I 2023-08-24 14:37:57,564]\u001b[0m Trial 56 finished with value: 0.7700732292066715 and parameters: {'C': 15.73711468106839, 'epsilon': 0.17167567285222401, 'kernel': 'rbf', 'degree': 3}. Best is trial 44 with value: 0.770929806206609.\u001b[0m\n",
      "\u001b[32m[I 2023-08-24 14:37:57,766]\u001b[0m Trial 57 finished with value: 0.7696759379975433 and parameters: {'C': 14.779123280926655, 'epsilon': 0.16330164994617763, 'kernel': 'rbf', 'degree': 4}. Best is trial 44 with value: 0.770929806206609.\u001b[0m\n",
      "\u001b[32m[I 2023-08-24 14:37:57,995]\u001b[0m Trial 58 finished with value: 0.4989693038133932 and parameters: {'C': 5.8703279415927305, 'epsilon': 0.14422177325917945, 'kernel': 'poly', 'degree': 3}. Best is trial 44 with value: 0.770929806206609.\u001b[0m\n",
      "\u001b[32m[I 2023-08-24 14:37:58,164]\u001b[0m Trial 59 finished with value: 0.7597708640664189 and parameters: {'C': 41.87562216754007, 'epsilon': 0.406561919902642, 'kernel': 'rbf', 'degree': 4}. Best is trial 44 with value: 0.770929806206609.\u001b[0m\n",
      "\u001b[32m[I 2023-08-24 14:38:00,900]\u001b[0m Trial 60 finished with value: 0.449354271149515 and parameters: {'C': 21.863643295054665, 'epsilon': 0.026818997251065915, 'kernel': 'linear', 'degree': 5}. Best is trial 44 with value: 0.770929806206609.\u001b[0m\n",
      "\u001b[32m[I 2023-08-24 14:38:01,094]\u001b[0m Trial 61 finished with value: 0.7700139410431837 and parameters: {'C': 14.876978933368887, 'epsilon': 0.17278756698935152, 'kernel': 'rbf', 'degree': 4}. Best is trial 44 with value: 0.770929806206609.\u001b[0m\n",
      "\u001b[32m[I 2023-08-24 14:38:01,301]\u001b[0m Trial 62 finished with value: 0.7703258237017891 and parameters: {'C': 16.865794288177735, 'epsilon': 0.17348043328824092, 'kernel': 'rbf', 'degree': 4}. Best is trial 44 with value: 0.770929806206609.\u001b[0m\n",
      "\u001b[32m[I 2023-08-24 14:38:01,502]\u001b[0m Trial 63 finished with value: 0.7631396534708423 and parameters: {'C': 9.342642224216522, 'epsilon': 0.12081490916167394, 'kernel': 'rbf', 'degree': 3}. Best is trial 44 with value: 0.770929806206609.\u001b[0m\n",
      "\u001b[32m[I 2023-08-24 14:38:01,711]\u001b[0m Trial 64 finished with value: 0.7704925968009815 and parameters: {'C': 19.609132253263606, 'epsilon': 0.18496677936111083, 'kernel': 'rbf', 'degree': 4}. Best is trial 44 with value: 0.770929806206609.\u001b[0m\n",
      "\u001b[32m[I 2023-08-24 14:38:01,925]\u001b[0m Trial 65 finished with value: 0.7702278240745295 and parameters: {'C': 27.70704247507527, 'epsilon': 0.23249937759507863, 'kernel': 'rbf', 'degree': 4}. Best is trial 44 with value: 0.770929806206609.\u001b[0m\n",
      "\u001b[32m[I 2023-08-24 14:38:02,135]\u001b[0m Trial 66 finished with value: 0.7706170413255684 and parameters: {'C': 19.647000602677597, 'epsilon': 0.18991182955322755, 'kernel': 'rbf', 'degree': 4}. Best is trial 44 with value: 0.770929806206609.\u001b[0m\n",
      "\u001b[32m[I 2023-08-24 14:38:02,327]\u001b[0m Trial 67 finished with value: 0.7666553970881556 and parameters: {'C': 35.81545000448735, 'epsilon': 0.32251578610841164, 'kernel': 'rbf', 'degree': 4}. Best is trial 44 with value: 0.770929806206609.\u001b[0m\n",
      "\u001b[32m[I 2023-08-24 14:38:02,604]\u001b[0m Trial 68 finished with value: 0.7587183571838617 and parameters: {'C': 57.56233773612652, 'epsilon': 0.22971567771329018, 'kernel': 'rbf', 'degree': 4}. Best is trial 44 with value: 0.770929806206609.\u001b[0m\n",
      "\u001b[32m[I 2023-08-24 14:38:02,920]\u001b[0m Trial 69 finished with value: 0.7406116912425583 and parameters: {'C': 98.58799456480428, 'epsilon': 0.2923531077063058, 'kernel': 'rbf', 'degree': 5}. Best is trial 44 with value: 0.770929806206609.\u001b[0m\n",
      "\u001b[32m[I 2023-08-24 14:38:03,421]\u001b[0m Trial 70 finished with value: 0.7432035155472901 and parameters: {'C': 73.4087644333834, 'epsilon': 0.10930153877121486, 'kernel': 'rbf', 'degree': 4}. Best is trial 44 with value: 0.770929806206609.\u001b[0m\n",
      "\u001b[32m[I 2023-08-24 14:38:03,623]\u001b[0m Trial 71 finished with value: 0.7706937449627882 and parameters: {'C': 19.57320500332744, 'epsilon': 0.1940554244286952, 'kernel': 'rbf', 'degree': 4}. Best is trial 44 with value: 0.770929806206609.\u001b[0m\n",
      "\u001b[32m[I 2023-08-24 14:38:03,847]\u001b[0m Trial 72 finished with value: 0.7703189136844825 and parameters: {'C': 21.22592464281573, 'epsilon': 0.19228351203925115, 'kernel': 'rbf', 'degree': 4}. Best is trial 44 with value: 0.770929806206609.\u001b[0m\n",
      "\u001b[32m[I 2023-08-24 14:38:04,112]\u001b[0m Trial 73 finished with value: 0.7681779142541554 and parameters: {'C': 25.691691583676956, 'epsilon': 0.1476595783203541, 'kernel': 'rbf', 'degree': 4}. Best is trial 44 with value: 0.770929806206609.\u001b[0m\n",
      "\u001b[32m[I 2023-08-24 14:38:04,362]\u001b[0m Trial 74 finished with value: 0.7645095163963115 and parameters: {'C': 49.74087571680562, 'epsilon': 0.25026597574826553, 'kernel': 'rbf', 'degree': 4}. Best is trial 44 with value: 0.770929806206609.\u001b[0m\n",
      "\u001b[32m[I 2023-08-24 14:38:04,498]\u001b[0m Trial 75 finished with value: 0.7595409042480968 and parameters: {'C': 13.075435594857048, 'epsilon': 0.3819864804351025, 'kernel': 'rbf', 'degree': 4}. Best is trial 44 with value: 0.770929806206609.\u001b[0m\n",
      "\u001b[32m[I 2023-08-24 14:38:08,079]\u001b[0m Trial 76 finished with value: 0.457853236416452 and parameters: {'C': 32.30712030844503, 'epsilon': 0.13122425289300826, 'kernel': 'linear', 'degree': 5}. Best is trial 44 with value: 0.770929806206609.\u001b[0m\n",
      "\u001b[32m[I 2023-08-24 14:38:08,390]\u001b[0m Trial 77 finished with value: -1.9936375768875774 and parameters: {'C': 19.267945961760873, 'epsilon': 0.1991050023519079, 'kernel': 'poly', 'degree': 4}. Best is trial 44 with value: 0.770929806206609.\u001b[0m\n",
      "\u001b[32m[I 2023-08-24 14:38:08,527]\u001b[0m Trial 78 finished with value: 0.7347826318569287 and parameters: {'C': 2.814263608720171, 'epsilon': 0.2292136732184841, 'kernel': 'rbf', 'degree': 4}. Best is trial 44 with value: 0.770929806206609.\u001b[0m\n",
      "\u001b[32m[I 2023-08-24 14:38:08,678]\u001b[0m Trial 79 finished with value: 0.7661673339867107 and parameters: {'C': 10.363129674463318, 'epsilon': 0.3040957077632576, 'kernel': 'rbf', 'degree': 5}. Best is trial 44 with value: 0.770929806206609.\u001b[0m\n",
      "\u001b[32m[I 2023-08-24 14:38:09,011]\u001b[0m Trial 80 finished with value: 0.7636958072824834 and parameters: {'C': 23.80996533137628, 'epsilon': 0.07715381619350452, 'kernel': 'rbf', 'degree': 3}. Best is trial 44 with value: 0.770929806206609.\u001b[0m\n",
      "\u001b[32m[I 2023-08-24 14:38:09,214]\u001b[0m Trial 81 finished with value: 0.7710348184199349 and parameters: {'C': 17.894725756786283, 'epsilon': 0.18804191537765547, 'kernel': 'rbf', 'degree': 4}. Best is trial 81 with value: 0.7710348184199349.\u001b[0m\n",
      "\u001b[32m[I 2023-08-24 14:38:09,419]\u001b[0m Trial 82 finished with value: 0.7709561343290509 and parameters: {'C': 18.380559447813837, 'epsilon': 0.18811675079447704, 'kernel': 'rbf', 'degree': 4}. Best is trial 81 with value: 0.7710348184199349.\u001b[0m\n",
      "\u001b[32m[I 2023-08-24 14:38:09,693]\u001b[0m Trial 83 finished with value: 0.7637949013975305 and parameters: {'C': 41.16161059474227, 'epsilon': 0.19034137644670873, 'kernel': 'rbf', 'degree': 4}. Best is trial 81 with value: 0.7710348184199349.\u001b[0m\n",
      "\u001b[32m[I 2023-08-24 14:38:09,851]\u001b[0m Trial 84 finished with value: 0.7705106389189785 and parameters: {'C': 13.073108779507546, 'epsilon': 0.2622669565264112, 'kernel': 'rbf', 'degree': 4}. Best is trial 81 with value: 0.7710348184199349.\u001b[0m\n",
      "\u001b[32m[I 2023-08-24 14:38:10,011]\u001b[0m Trial 85 finished with value: 0.770765693973132 and parameters: {'C': 13.575370558349254, 'epsilon': 0.26990636581145255, 'kernel': 'rbf', 'degree': 4}. Best is trial 81 with value: 0.7710348184199349.\u001b[0m\n",
      "\u001b[32m[I 2023-08-24 14:38:10,151]\u001b[0m Trial 86 finished with value: 0.7554106438054187 and parameters: {'C': 31.695271528230883, 'epsilon': 0.474576560432582, 'kernel': 'rbf', 'degree': 4}. Best is trial 81 with value: 0.7710348184199349.\u001b[0m\n",
      "\u001b[32m[I 2023-08-24 14:38:10,275]\u001b[0m Trial 87 finished with value: 0.7551823477594022 and parameters: {'C': 7.180879484590171, 'epsilon': 0.3517258971067992, 'kernel': 'rbf', 'degree': 4}. Best is trial 81 with value: 0.7710348184199349.\u001b[0m\n",
      "\u001b[32m[I 2023-08-24 14:38:10,462]\u001b[0m Trial 88 finished with value: 0.7630791448613945 and parameters: {'C': 9.16700709825608, 'epsilon': 0.1508476771907294, 'kernel': 'rbf', 'degree': 4}. Best is trial 81 with value: 0.7710348184199349.\u001b[0m\n",
      "\u001b[32m[I 2023-08-24 14:38:10,594]\u001b[0m Trial 89 finished with value: 0.7214166959340647 and parameters: {'C': 1.9635989144230122, 'epsilon': 0.21983633486118845, 'kernel': 'rbf', 'degree': 4}. Best is trial 81 with value: 0.7710348184199349.\u001b[0m\n",
      "\u001b[32m[I 2023-08-24 14:38:11,167]\u001b[0m Trial 90 finished with value: 0.4319724026004129 and parameters: {'C': 4.466769114073835, 'epsilon': 0.24898915898090057, 'kernel': 'linear', 'degree': 5}. Best is trial 81 with value: 0.7710348184199349.\u001b[0m\n",
      "\u001b[32m[I 2023-08-24 14:38:11,330]\u001b[0m Trial 91 finished with value: 0.7711211375263336 and parameters: {'C': 13.818756569471203, 'epsilon': 0.25592361767347277, 'kernel': 'rbf', 'degree': 4}. Best is trial 91 with value: 0.7711211375263336.\u001b[0m\n",
      "\u001b[32m[I 2023-08-24 14:38:11,501]\u001b[0m Trial 92 finished with value: 0.7710492430998616 and parameters: {'C': 18.314885202251066, 'epsilon': 0.2774419767636241, 'kernel': 'rbf', 'degree': 4}. Best is trial 91 with value: 0.7711211375263336.\u001b[0m\n",
      "\u001b[32m[I 2023-08-24 14:38:11,654]\u001b[0m Trial 93 finished with value: 0.7696445968364477 and parameters: {'C': 13.625769952164639, 'epsilon': 0.290105622293373, 'kernel': 'rbf', 'degree': 4}. Best is trial 91 with value: 0.7711211375263336.\u001b[0m\n",
      "\u001b[32m[I 2023-08-24 14:38:11,827]\u001b[0m Trial 94 finished with value: 0.7716245885869617 and parameters: {'C': 17.535200420851496, 'epsilon': 0.26620318239293494, 'kernel': 'rbf', 'degree': 4}. Best is trial 94 with value: 0.7716245885869617.\u001b[0m\n",
      "\u001b[32m[I 2023-08-24 14:38:11,967]\u001b[0m Trial 95 finished with value: 0.7665676563330563 and parameters: {'C': 10.872199297147386, 'epsilon': 0.31072610510417553, 'kernel': 'rbf', 'degree': 4}. Best is trial 94 with value: 0.7716245885869617.\u001b[0m\n",
      "\u001b[32m[I 2023-08-24 14:38:12,197]\u001b[0m Trial 96 finished with value: -1.8851476243442835 and parameters: {'C': 16.971029270623575, 'epsilon': 0.2660643203254574, 'kernel': 'poly', 'degree': 4}. Best is trial 94 with value: 0.7716245885869617.\u001b[0m\n",
      "\u001b[32m[I 2023-08-24 14:38:12,364]\u001b[0m Trial 97 finished with value: 0.7662564966883109 and parameters: {'C': 26.848674599383695, 'epsilon': 0.3514920517123297, 'kernel': 'rbf', 'degree': 4}. Best is trial 94 with value: 0.7716245885869617.\u001b[0m\n",
      "\u001b[32m[I 2023-08-24 14:38:12,507]\u001b[0m Trial 98 finished with value: 0.763479422909186 and parameters: {'C': 17.131648441033033, 'epsilon': 0.379475838251462, 'kernel': 'rbf', 'degree': 4}. Best is trial 94 with value: 0.7716245885869617.\u001b[0m\n",
      "\u001b[32m[I 2023-08-24 14:38:12,632]\u001b[0m Trial 99 finished with value: 0.7515931272585302 and parameters: {'C': 11.509977509746959, 'epsilon': 0.4399607152311458, 'kernel': 'rbf', 'degree': 5}. Best is trial 94 with value: 0.7716245885869617.\u001b[0m\n"
     ]
    },
    {
     "name": "stdout",
     "output_type": "stream",
     "text": [
      "Best r2:  0.7716245885869617\n",
      "Best trial: {'C': 17.535200420851496, 'epsilon': 0.26620318239293494, 'kernel': 'rbf', 'degree': 4}\n"
     ]
    }
   ],
   "source": [
    "sampler = TPESampler()\n",
    "study = optuna.create_study(\n",
    "    study_name=\"svm_parameter_opt\",\n",
    "    direction=\"maximize\",\n",
    "    sampler=sampler,\n",
    ")\n",
    "\n",
    "study.optimize(lambda trial : objectiveSVM(trial, Ni_X_train, Ni_y_train), n_trials=100)\n",
    "print(\"Best r2: \", study.best_value)\n",
    "print(\"Best trial:\", study.best_trial.params)"
   ]
  },
  {
   "cell_type": "code",
   "execution_count": 44,
   "id": "d71c01fb",
   "metadata": {},
   "outputs": [
    {
     "data": {
      "application/vnd.plotly.v1+json": {
       "config": {
        "plotlyServerURL": "https://plot.ly"
       },
       "data": [
        {
         "dimensions": [
          {
           "label": "Objective Value",
           "range": [
            -21.82730796564367,
            0.7716245885869617
           ],
           "values": [
            0.4158489860112254,
            -0.2530403817607823,
            0.6076615388578005,
            -19.29345506490694,
            0.5529738843539937,
            -0.030015948473525112,
            0.5877861305980122,
            0.6210972999800004,
            0.7546747718542408,
            0.4482767913056974,
            0.7628053633436245,
            0.7631269392988125,
            0.7367697701822591,
            0.7557417201298758,
            0.7704451702846635,
            0.7690450892179864,
            0.46881511475909365,
            0.7656879547675356,
            0.7270166182954589,
            0.46199410307675903,
            0.7631920626661095,
            0.7665258445136265,
            0.7662102746911958,
            0.7438775220965599,
            0.768979884432764,
            0.7472853117681219,
            0.769579338040596,
            0.6979022129002331,
            0.4676240049973563,
            -0.2757053227926868,
            0.45606552690213187,
            0.7673910103798726,
            0.7689731064773364,
            0.7559641527826632,
            -0.6550752241041057,
            0.6506236713171958,
            -0.5935703763340944,
            0.7694117664743318,
            0.7658709245521022,
            -21.82730796564367,
            0.6243453010829968,
            0.7680068238846021,
            0.7708356081152685,
            0.7706712100224173,
            0.770929806206609,
            0.7685769620056679,
            0.7620730008753239,
            0.7607816599805046,
            0.5610933566777959,
            0.4592365093758401,
            0.7593722276642237,
            0.7707509499164646,
            0.7688852651074278,
            0.753830032157763,
            0.7683662434931317,
            0.764985392321637,
            0.7700732292066715,
            0.7696759379975433,
            0.4989693038133932,
            0.7597708640664189,
            0.449354271149515,
            0.7700139410431837,
            0.7703258237017891,
            0.7631396534708423,
            0.7704925968009815,
            0.7702278240745295,
            0.7706170413255684,
            0.7666553970881556,
            0.7587183571838617,
            0.7406116912425583,
            0.7432035155472901,
            0.7706937449627882,
            0.7703189136844825,
            0.7681779142541554,
            0.7645095163963115,
            0.7595409042480968,
            0.457853236416452,
            -1.9936375768875774,
            0.7347826318569287,
            0.7661673339867107,
            0.7636958072824834,
            0.7710348184199349,
            0.7709561343290509,
            0.7637949013975305,
            0.7705106389189785,
            0.770765693973132,
            0.7554106438054187,
            0.7551823477594022,
            0.7630791448613945,
            0.7214166959340647,
            0.4319724026004129,
            0.7711211375263336,
            0.7710492430998616,
            0.7696445968364477,
            0.7716245885869617,
            0.7665676563330563,
            -1.8851476243442835,
            0.7662564966883109,
            0.763479422909186,
            0.7515931272585302
           ]
          },
          {
           "label": "C",
           "range": [
            -0.8940524054689412,
            1.9938240324695748
           ],
           "ticktext": [
            "0.128",
            "1",
            "10",
            "98.6"
           ],
           "tickvals": [
            -0.8940524054689412,
            0,
            1,
            1.9938240324695748
           ],
           "values": [
            -0.4435154439563927,
            0.3650974366983887,
            -0.032360993626355465,
            1.501235292133724,
            -0.8940524054689412,
            -0.4992593148977375,
            -0.6118912073158559,
            -0.48032790698048433,
            0.8061750136513468,
            1.2824844712562014,
            0.9274779949399323,
            0.9226712878562593,
            1.9718185119508373,
            0.8172601343903462,
            1.206873160865457,
            1.4906214376496132,
            1.91989504734098,
            1.4528247829654304,
            0.4039240141010377,
            1.673807005063526,
            1.2296085973857398,
            1.3560946717572906,
            1.1834675869949773,
            1.6746760888888663,
            1.088102417248704,
            0.6507919743488271,
            1.0683422406252565,
            0.142056224232925,
            1.7463516859981836,
            0.5946609883096166,
            1.535470544285061,
            1.0093073835506396,
            1.1721841661578771,
            1.1093311245603952,
            1.4296871831933193,
            0.14727816688098427,
            0.7384904989994255,
            1.0699043790731926,
            1.5607785939038497,
            1.8060276575529164,
            -0.1794502843810391,
            1.0371087821957006,
            1.324471186482629,
            1.3490905240607405,
            1.3039739121671423,
            1.2914478884501734,
            0.9234320883111852,
            1.3401512235302089,
            -0.8562799017827643,
            1.6106833495233195,
            0.8717755345458474,
            1.3374322563162289,
            1.3999833127821604,
            1.8268687607428278,
            1.2541072742744532,
            1.4768071985339473,
            1.1969251096649633,
            1.1696486718430452,
            0.7686623634700762,
            1.621961272628118,
            1.339722533235778,
            1.1725147480260225,
            1.2270067989405622,
            0.9704697178914672,
            1.2924583756179335,
            1.4425901704843394,
            1.293296258470577,
            1.554070412237288,
            1.7601384232993746,
            1.9938240324695748,
            1.8657479143823161,
            1.2916619447839175,
            1.3268666180455992,
            1.4097926998782928,
            1.6967134270060624,
            1.1164561658598944,
            1.5092982489527162,
            1.2848354196362737,
            0.4493647748508958,
            1.0154909325413615,
            1.3767587630486036,
            1.25272504705533,
            1.2643587258423052,
            1.614492359742589,
            1.11637887489831,
            1.1327516930859205,
            1.5009944766540504,
            0.8561776381020939,
            0.9622275676359204,
            0.29305278332790013,
            0.6499935045033665,
            1.1404689663875138,
            1.2628042008501326,
            1.1343610523452796,
            1.2439107340710962,
            1.0363174048040977,
            1.2297081825060523,
            1.4289228513621477,
            1.2337991536485347,
            1.0610744750283725
           ]
          },
          {
           "label": "degree",
           "range": [
            1,
            5
           ],
           "values": [
            4,
            5,
            3,
            5,
            4,
            5,
            2,
            1,
            3,
            2,
            3,
            3,
            2,
            4,
            3,
            1,
            1,
            1,
            2,
            1,
            2,
            1,
            1,
            1,
            2,
            2,
            3,
            4,
            3,
            4,
            4,
            2,
            3,
            3,
            3,
            2,
            2,
            5,
            5,
            5,
            5,
            3,
            4,
            4,
            4,
            4,
            4,
            4,
            4,
            3,
            3,
            5,
            5,
            4,
            4,
            5,
            3,
            4,
            3,
            4,
            5,
            4,
            4,
            3,
            4,
            4,
            4,
            4,
            4,
            5,
            4,
            4,
            4,
            4,
            4,
            4,
            5,
            4,
            4,
            5,
            3,
            4,
            4,
            4,
            4,
            4,
            4,
            4,
            4,
            4,
            5,
            4,
            4,
            4,
            4,
            4,
            4,
            4,
            4,
            5
           ]
          },
          {
           "label": "epsilon",
           "range": [
            -1.9907246676504051,
            -0.04468432896436003
           ],
           "ticktext": [
            "0.0102",
            "0.1",
            "0.902"
           ],
           "tickvals": [
            -1.9907246676504051,
            -1,
            -0.04468432896436003
           ],
           "values": [
            -1.7764731127263125,
            -0.04468432896436003,
            -1.4531391022373752,
            -1.4805738893826283,
            -1.0797100151701742,
            -0.24933745438894792,
            -0.270962036949939,
            -1.0629698954147002,
            -0.4770562674936403,
            -0.04663476317221125,
            -0.6950413654040033,
            -0.6215441786316824,
            -0.7679285124993824,
            -0.7407545783602392,
            -0.7009163495516807,
            -0.5571431888008012,
            -0.9626107812298056,
            -0.4436210894758868,
            -1.3857131203145663,
            -0.9350613680641814,
            -1.2260454246947352,
            -0.4600415296621197,
            -0.45855988473021336,
            -0.25189646644831015,
            -0.5398615728109931,
            -0.8531204869454608,
            -0.6051415060094459,
            -1.9907246676504051,
            -0.6149122415751901,
            -0.31059212848278045,
            -1.2362690691311407,
            -0.5710558305367819,
            -0.808722202045255,
            -0.37667188802825996,
            -0.5774315716587399,
            -0.14633484324868287,
            -0.8718309810741216,
            -0.6921052166325731,
            -0.6914511570599758,
            -1.0748030062855376,
            -0.16165053001443955,
            -0.5451698240119975,
            -0.6588586660557584,
            -0.6888844008625468,
            -0.6814948247341466,
            -0.9011710948488175,
            -0.7580875263934528,
            -0.36465771333458075,
            -1.009872725537649,
            -1.2012763584121728,
            -0.6765295532406187,
            -0.6749148993230704,
            -0.7997611507471194,
            -0.6702970197866316,
            -0.4898422539312094,
            -0.9888158206619075,
            -0.7652912417905482,
            -0.7870094272725149,
            -0.8409691689335876,
            -0.3908733014250654,
            -1.571557464234981,
            -0.7624875105965836,
            -0.7607495018192343,
            -0.9178794683050626,
            -0.7329062653034404,
            -0.6335782053864344,
            -0.7214479823420779,
            -0.49144902319309786,
            -0.6388093639167599,
            -0.5340922852625566,
            -0.961373723913578,
            -0.7120742129264209,
            -0.7160579541253672,
            -0.8307383761506176,
            -0.6015981897413044,
            -0.4179520077069702,
            -0.8819858911478771,
            -0.7009178285384426,
            -0.6397594790858911,
            -0.5169897097732891,
            -1.11264258793146,
            -0.7257453337776055,
            -0.7255725311178339,
            -0.7204667944285272,
            -0.5812564234860211,
            -0.5687868723749984,
            -0.3236937156049277,
            -0.4537956539846773,
            -0.8214613728672858,
            -0.6579005251719906,
            -0.6038195617286384,
            -0.5918896338003096,
            -0.5568278298610507,
            -0.5374438544192359,
            -0.5747867569476338,
            -0.5076222587294547,
            -0.5750133611671715,
            -0.45408449123165184,
            -0.42081587101518847,
            -0.3565861006047718
           ]
          },
          {
           "label": "kernel",
           "range": [
            0,
            2
           ],
           "ticktext": [
            "linear",
            "poly",
            "rbf"
           ],
           "tickvals": [
            0,
            1,
            2
           ],
           "values": [
            0,
            1,
            1,
            1,
            2,
            1,
            2,
            2,
            2,
            0,
            2,
            2,
            2,
            2,
            2,
            2,
            0,
            2,
            2,
            0,
            2,
            2,
            2,
            2,
            2,
            2,
            2,
            2,
            0,
            1,
            0,
            2,
            2,
            2,
            1,
            2,
            1,
            2,
            2,
            1,
            2,
            2,
            2,
            2,
            2,
            2,
            2,
            2,
            2,
            0,
            2,
            2,
            2,
            2,
            2,
            2,
            2,
            2,
            1,
            2,
            0,
            2,
            2,
            2,
            2,
            2,
            2,
            2,
            2,
            2,
            2,
            2,
            2,
            2,
            2,
            2,
            0,
            1,
            2,
            2,
            2,
            2,
            2,
            2,
            2,
            2,
            2,
            2,
            2,
            2,
            0,
            2,
            2,
            2,
            2,
            2,
            1,
            2,
            2,
            2
           ]
          }
         ],
         "labelangle": 30,
         "labelside": "bottom",
         "line": {
          "color": [
           0.4158489860112254,
           -0.2530403817607823,
           0.6076615388578005,
           -19.29345506490694,
           0.5529738843539937,
           -0.030015948473525112,
           0.5877861305980122,
           0.6210972999800004,
           0.7546747718542408,
           0.4482767913056974,
           0.7628053633436245,
           0.7631269392988125,
           0.7367697701822591,
           0.7557417201298758,
           0.7704451702846635,
           0.7690450892179864,
           0.46881511475909365,
           0.7656879547675356,
           0.7270166182954589,
           0.46199410307675903,
           0.7631920626661095,
           0.7665258445136265,
           0.7662102746911958,
           0.7438775220965599,
           0.768979884432764,
           0.7472853117681219,
           0.769579338040596,
           0.6979022129002331,
           0.4676240049973563,
           -0.2757053227926868,
           0.45606552690213187,
           0.7673910103798726,
           0.7689731064773364,
           0.7559641527826632,
           -0.6550752241041057,
           0.6506236713171958,
           -0.5935703763340944,
           0.7694117664743318,
           0.7658709245521022,
           -21.82730796564367,
           0.6243453010829968,
           0.7680068238846021,
           0.7708356081152685,
           0.7706712100224173,
           0.770929806206609,
           0.7685769620056679,
           0.7620730008753239,
           0.7607816599805046,
           0.5610933566777959,
           0.4592365093758401,
           0.7593722276642237,
           0.7707509499164646,
           0.7688852651074278,
           0.753830032157763,
           0.7683662434931317,
           0.764985392321637,
           0.7700732292066715,
           0.7696759379975433,
           0.4989693038133932,
           0.7597708640664189,
           0.449354271149515,
           0.7700139410431837,
           0.7703258237017891,
           0.7631396534708423,
           0.7704925968009815,
           0.7702278240745295,
           0.7706170413255684,
           0.7666553970881556,
           0.7587183571838617,
           0.7406116912425583,
           0.7432035155472901,
           0.7706937449627882,
           0.7703189136844825,
           0.7681779142541554,
           0.7645095163963115,
           0.7595409042480968,
           0.457853236416452,
           -1.9936375768875774,
           0.7347826318569287,
           0.7661673339867107,
           0.7636958072824834,
           0.7710348184199349,
           0.7709561343290509,
           0.7637949013975305,
           0.7705106389189785,
           0.770765693973132,
           0.7554106438054187,
           0.7551823477594022,
           0.7630791448613945,
           0.7214166959340647,
           0.4319724026004129,
           0.7711211375263336,
           0.7710492430998616,
           0.7696445968364477,
           0.7716245885869617,
           0.7665676563330563,
           -1.8851476243442835,
           0.7662564966883109,
           0.763479422909186,
           0.7515931272585302
          ],
          "colorbar": {
           "title": {
            "text": "Objective Value"
           }
          },
          "colorscale": [
           [
            0,
            "rgb(247,251,255)"
           ],
           [
            0.125,
            "rgb(222,235,247)"
           ],
           [
            0.25,
            "rgb(198,219,239)"
           ],
           [
            0.375,
            "rgb(158,202,225)"
           ],
           [
            0.5,
            "rgb(107,174,214)"
           ],
           [
            0.625,
            "rgb(66,146,198)"
           ],
           [
            0.75,
            "rgb(33,113,181)"
           ],
           [
            0.875,
            "rgb(8,81,156)"
           ],
           [
            1,
            "rgb(8,48,107)"
           ]
          ],
          "reversescale": false,
          "showscale": true
         },
         "type": "parcoords"
        }
       ],
       "layout": {
        "template": {
         "data": {
          "bar": [
           {
            "error_x": {
             "color": "#2a3f5f"
            },
            "error_y": {
             "color": "#2a3f5f"
            },
            "marker": {
             "line": {
              "color": "#E5ECF6",
              "width": 0.5
             },
             "pattern": {
              "fillmode": "overlay",
              "size": 10,
              "solidity": 0.2
             }
            },
            "type": "bar"
           }
          ],
          "barpolar": [
           {
            "marker": {
             "line": {
              "color": "#E5ECF6",
              "width": 0.5
             },
             "pattern": {
              "fillmode": "overlay",
              "size": 10,
              "solidity": 0.2
             }
            },
            "type": "barpolar"
           }
          ],
          "carpet": [
           {
            "aaxis": {
             "endlinecolor": "#2a3f5f",
             "gridcolor": "white",
             "linecolor": "white",
             "minorgridcolor": "white",
             "startlinecolor": "#2a3f5f"
            },
            "baxis": {
             "endlinecolor": "#2a3f5f",
             "gridcolor": "white",
             "linecolor": "white",
             "minorgridcolor": "white",
             "startlinecolor": "#2a3f5f"
            },
            "type": "carpet"
           }
          ],
          "choropleth": [
           {
            "colorbar": {
             "outlinewidth": 0,
             "ticks": ""
            },
            "type": "choropleth"
           }
          ],
          "contour": [
           {
            "colorbar": {
             "outlinewidth": 0,
             "ticks": ""
            },
            "colorscale": [
             [
              0,
              "#0d0887"
             ],
             [
              0.1111111111111111,
              "#46039f"
             ],
             [
              0.2222222222222222,
              "#7201a8"
             ],
             [
              0.3333333333333333,
              "#9c179e"
             ],
             [
              0.4444444444444444,
              "#bd3786"
             ],
             [
              0.5555555555555556,
              "#d8576b"
             ],
             [
              0.6666666666666666,
              "#ed7953"
             ],
             [
              0.7777777777777778,
              "#fb9f3a"
             ],
             [
              0.8888888888888888,
              "#fdca26"
             ],
             [
              1,
              "#f0f921"
             ]
            ],
            "type": "contour"
           }
          ],
          "contourcarpet": [
           {
            "colorbar": {
             "outlinewidth": 0,
             "ticks": ""
            },
            "type": "contourcarpet"
           }
          ],
          "heatmap": [
           {
            "colorbar": {
             "outlinewidth": 0,
             "ticks": ""
            },
            "colorscale": [
             [
              0,
              "#0d0887"
             ],
             [
              0.1111111111111111,
              "#46039f"
             ],
             [
              0.2222222222222222,
              "#7201a8"
             ],
             [
              0.3333333333333333,
              "#9c179e"
             ],
             [
              0.4444444444444444,
              "#bd3786"
             ],
             [
              0.5555555555555556,
              "#d8576b"
             ],
             [
              0.6666666666666666,
              "#ed7953"
             ],
             [
              0.7777777777777778,
              "#fb9f3a"
             ],
             [
              0.8888888888888888,
              "#fdca26"
             ],
             [
              1,
              "#f0f921"
             ]
            ],
            "type": "heatmap"
           }
          ],
          "heatmapgl": [
           {
            "colorbar": {
             "outlinewidth": 0,
             "ticks": ""
            },
            "colorscale": [
             [
              0,
              "#0d0887"
             ],
             [
              0.1111111111111111,
              "#46039f"
             ],
             [
              0.2222222222222222,
              "#7201a8"
             ],
             [
              0.3333333333333333,
              "#9c179e"
             ],
             [
              0.4444444444444444,
              "#bd3786"
             ],
             [
              0.5555555555555556,
              "#d8576b"
             ],
             [
              0.6666666666666666,
              "#ed7953"
             ],
             [
              0.7777777777777778,
              "#fb9f3a"
             ],
             [
              0.8888888888888888,
              "#fdca26"
             ],
             [
              1,
              "#f0f921"
             ]
            ],
            "type": "heatmapgl"
           }
          ],
          "histogram": [
           {
            "marker": {
             "pattern": {
              "fillmode": "overlay",
              "size": 10,
              "solidity": 0.2
             }
            },
            "type": "histogram"
           }
          ],
          "histogram2d": [
           {
            "colorbar": {
             "outlinewidth": 0,
             "ticks": ""
            },
            "colorscale": [
             [
              0,
              "#0d0887"
             ],
             [
              0.1111111111111111,
              "#46039f"
             ],
             [
              0.2222222222222222,
              "#7201a8"
             ],
             [
              0.3333333333333333,
              "#9c179e"
             ],
             [
              0.4444444444444444,
              "#bd3786"
             ],
             [
              0.5555555555555556,
              "#d8576b"
             ],
             [
              0.6666666666666666,
              "#ed7953"
             ],
             [
              0.7777777777777778,
              "#fb9f3a"
             ],
             [
              0.8888888888888888,
              "#fdca26"
             ],
             [
              1,
              "#f0f921"
             ]
            ],
            "type": "histogram2d"
           }
          ],
          "histogram2dcontour": [
           {
            "colorbar": {
             "outlinewidth": 0,
             "ticks": ""
            },
            "colorscale": [
             [
              0,
              "#0d0887"
             ],
             [
              0.1111111111111111,
              "#46039f"
             ],
             [
              0.2222222222222222,
              "#7201a8"
             ],
             [
              0.3333333333333333,
              "#9c179e"
             ],
             [
              0.4444444444444444,
              "#bd3786"
             ],
             [
              0.5555555555555556,
              "#d8576b"
             ],
             [
              0.6666666666666666,
              "#ed7953"
             ],
             [
              0.7777777777777778,
              "#fb9f3a"
             ],
             [
              0.8888888888888888,
              "#fdca26"
             ],
             [
              1,
              "#f0f921"
             ]
            ],
            "type": "histogram2dcontour"
           }
          ],
          "mesh3d": [
           {
            "colorbar": {
             "outlinewidth": 0,
             "ticks": ""
            },
            "type": "mesh3d"
           }
          ],
          "parcoords": [
           {
            "line": {
             "colorbar": {
              "outlinewidth": 0,
              "ticks": ""
             }
            },
            "type": "parcoords"
           }
          ],
          "pie": [
           {
            "automargin": true,
            "type": "pie"
           }
          ],
          "scatter": [
           {
            "marker": {
             "colorbar": {
              "outlinewidth": 0,
              "ticks": ""
             }
            },
            "type": "scatter"
           }
          ],
          "scatter3d": [
           {
            "line": {
             "colorbar": {
              "outlinewidth": 0,
              "ticks": ""
             }
            },
            "marker": {
             "colorbar": {
              "outlinewidth": 0,
              "ticks": ""
             }
            },
            "type": "scatter3d"
           }
          ],
          "scattercarpet": [
           {
            "marker": {
             "colorbar": {
              "outlinewidth": 0,
              "ticks": ""
             }
            },
            "type": "scattercarpet"
           }
          ],
          "scattergeo": [
           {
            "marker": {
             "colorbar": {
              "outlinewidth": 0,
              "ticks": ""
             }
            },
            "type": "scattergeo"
           }
          ],
          "scattergl": [
           {
            "marker": {
             "colorbar": {
              "outlinewidth": 0,
              "ticks": ""
             }
            },
            "type": "scattergl"
           }
          ],
          "scattermapbox": [
           {
            "marker": {
             "colorbar": {
              "outlinewidth": 0,
              "ticks": ""
             }
            },
            "type": "scattermapbox"
           }
          ],
          "scatterpolar": [
           {
            "marker": {
             "colorbar": {
              "outlinewidth": 0,
              "ticks": ""
             }
            },
            "type": "scatterpolar"
           }
          ],
          "scatterpolargl": [
           {
            "marker": {
             "colorbar": {
              "outlinewidth": 0,
              "ticks": ""
             }
            },
            "type": "scatterpolargl"
           }
          ],
          "scatterternary": [
           {
            "marker": {
             "colorbar": {
              "outlinewidth": 0,
              "ticks": ""
             }
            },
            "type": "scatterternary"
           }
          ],
          "surface": [
           {
            "colorbar": {
             "outlinewidth": 0,
             "ticks": ""
            },
            "colorscale": [
             [
              0,
              "#0d0887"
             ],
             [
              0.1111111111111111,
              "#46039f"
             ],
             [
              0.2222222222222222,
              "#7201a8"
             ],
             [
              0.3333333333333333,
              "#9c179e"
             ],
             [
              0.4444444444444444,
              "#bd3786"
             ],
             [
              0.5555555555555556,
              "#d8576b"
             ],
             [
              0.6666666666666666,
              "#ed7953"
             ],
             [
              0.7777777777777778,
              "#fb9f3a"
             ],
             [
              0.8888888888888888,
              "#fdca26"
             ],
             [
              1,
              "#f0f921"
             ]
            ],
            "type": "surface"
           }
          ],
          "table": [
           {
            "cells": {
             "fill": {
              "color": "#EBF0F8"
             },
             "line": {
              "color": "white"
             }
            },
            "header": {
             "fill": {
              "color": "#C8D4E3"
             },
             "line": {
              "color": "white"
             }
            },
            "type": "table"
           }
          ]
         },
         "layout": {
          "annotationdefaults": {
           "arrowcolor": "#2a3f5f",
           "arrowhead": 0,
           "arrowwidth": 1
          },
          "autotypenumbers": "strict",
          "coloraxis": {
           "colorbar": {
            "outlinewidth": 0,
            "ticks": ""
           }
          },
          "colorscale": {
           "diverging": [
            [
             0,
             "#8e0152"
            ],
            [
             0.1,
             "#c51b7d"
            ],
            [
             0.2,
             "#de77ae"
            ],
            [
             0.3,
             "#f1b6da"
            ],
            [
             0.4,
             "#fde0ef"
            ],
            [
             0.5,
             "#f7f7f7"
            ],
            [
             0.6,
             "#e6f5d0"
            ],
            [
             0.7,
             "#b8e186"
            ],
            [
             0.8,
             "#7fbc41"
            ],
            [
             0.9,
             "#4d9221"
            ],
            [
             1,
             "#276419"
            ]
           ],
           "sequential": [
            [
             0,
             "#0d0887"
            ],
            [
             0.1111111111111111,
             "#46039f"
            ],
            [
             0.2222222222222222,
             "#7201a8"
            ],
            [
             0.3333333333333333,
             "#9c179e"
            ],
            [
             0.4444444444444444,
             "#bd3786"
            ],
            [
             0.5555555555555556,
             "#d8576b"
            ],
            [
             0.6666666666666666,
             "#ed7953"
            ],
            [
             0.7777777777777778,
             "#fb9f3a"
            ],
            [
             0.8888888888888888,
             "#fdca26"
            ],
            [
             1,
             "#f0f921"
            ]
           ],
           "sequentialminus": [
            [
             0,
             "#0d0887"
            ],
            [
             0.1111111111111111,
             "#46039f"
            ],
            [
             0.2222222222222222,
             "#7201a8"
            ],
            [
             0.3333333333333333,
             "#9c179e"
            ],
            [
             0.4444444444444444,
             "#bd3786"
            ],
            [
             0.5555555555555556,
             "#d8576b"
            ],
            [
             0.6666666666666666,
             "#ed7953"
            ],
            [
             0.7777777777777778,
             "#fb9f3a"
            ],
            [
             0.8888888888888888,
             "#fdca26"
            ],
            [
             1,
             "#f0f921"
            ]
           ]
          },
          "colorway": [
           "#636efa",
           "#EF553B",
           "#00cc96",
           "#ab63fa",
           "#FFA15A",
           "#19d3f3",
           "#FF6692",
           "#B6E880",
           "#FF97FF",
           "#FECB52"
          ],
          "font": {
           "color": "#2a3f5f"
          },
          "geo": {
           "bgcolor": "white",
           "lakecolor": "white",
           "landcolor": "#E5ECF6",
           "showlakes": true,
           "showland": true,
           "subunitcolor": "white"
          },
          "hoverlabel": {
           "align": "left"
          },
          "hovermode": "closest",
          "mapbox": {
           "style": "light"
          },
          "paper_bgcolor": "white",
          "plot_bgcolor": "#E5ECF6",
          "polar": {
           "angularaxis": {
            "gridcolor": "white",
            "linecolor": "white",
            "ticks": ""
           },
           "bgcolor": "#E5ECF6",
           "radialaxis": {
            "gridcolor": "white",
            "linecolor": "white",
            "ticks": ""
           }
          },
          "scene": {
           "xaxis": {
            "backgroundcolor": "#E5ECF6",
            "gridcolor": "white",
            "gridwidth": 2,
            "linecolor": "white",
            "showbackground": true,
            "ticks": "",
            "zerolinecolor": "white"
           },
           "yaxis": {
            "backgroundcolor": "#E5ECF6",
            "gridcolor": "white",
            "gridwidth": 2,
            "linecolor": "white",
            "showbackground": true,
            "ticks": "",
            "zerolinecolor": "white"
           },
           "zaxis": {
            "backgroundcolor": "#E5ECF6",
            "gridcolor": "white",
            "gridwidth": 2,
            "linecolor": "white",
            "showbackground": true,
            "ticks": "",
            "zerolinecolor": "white"
           }
          },
          "shapedefaults": {
           "line": {
            "color": "#2a3f5f"
           }
          },
          "ternary": {
           "aaxis": {
            "gridcolor": "white",
            "linecolor": "white",
            "ticks": ""
           },
           "baxis": {
            "gridcolor": "white",
            "linecolor": "white",
            "ticks": ""
           },
           "bgcolor": "#E5ECF6",
           "caxis": {
            "gridcolor": "white",
            "linecolor": "white",
            "ticks": ""
           }
          },
          "title": {
           "x": 0.05
          },
          "xaxis": {
           "automargin": true,
           "gridcolor": "white",
           "linecolor": "white",
           "ticks": "",
           "title": {
            "standoff": 15
           },
           "zerolinecolor": "white",
           "zerolinewidth": 2
          },
          "yaxis": {
           "automargin": true,
           "gridcolor": "white",
           "linecolor": "white",
           "ticks": "",
           "title": {
            "standoff": 15
           },
           "zerolinecolor": "white",
           "zerolinewidth": 2
          }
         }
        },
        "title": {
         "text": "Parallel Coordinate Plot"
        }
       }
      }
     },
     "metadata": {},
     "output_type": "display_data"
    }
   ],
   "source": [
    "optuna.visualization.plot_parallel_coordinate(study)"
   ]
  },
  {
   "cell_type": "code",
   "execution_count": 45,
   "id": "1d419df8",
   "metadata": {},
   "outputs": [
    {
     "name": "stdout",
     "output_type": "stream",
     "text": [
      "Best trial: {'C': 17.535200420851496, 'epsilon': 0.26620318239293494, 'kernel': 'rbf', 'degree': 4}\n"
     ]
    }
   ],
   "source": [
    "print(\"Best trial:\", study.best_trial.params)"
   ]
  },
  {
   "cell_type": "code",
   "execution_count": 46,
   "id": "ffefef6c",
   "metadata": {},
   "outputs": [
    {
     "data": {
      "text/html": [
       "<style>#sk-container-id-3 {color: black;}#sk-container-id-3 pre{padding: 0;}#sk-container-id-3 div.sk-toggleable {background-color: white;}#sk-container-id-3 label.sk-toggleable__label {cursor: pointer;display: block;width: 100%;margin-bottom: 0;padding: 0.3em;box-sizing: border-box;text-align: center;}#sk-container-id-3 label.sk-toggleable__label-arrow:before {content: \"▸\";float: left;margin-right: 0.25em;color: #696969;}#sk-container-id-3 label.sk-toggleable__label-arrow:hover:before {color: black;}#sk-container-id-3 div.sk-estimator:hover label.sk-toggleable__label-arrow:before {color: black;}#sk-container-id-3 div.sk-toggleable__content {max-height: 0;max-width: 0;overflow: hidden;text-align: left;background-color: #f0f8ff;}#sk-container-id-3 div.sk-toggleable__content pre {margin: 0.2em;color: black;border-radius: 0.25em;background-color: #f0f8ff;}#sk-container-id-3 input.sk-toggleable__control:checked~div.sk-toggleable__content {max-height: 200px;max-width: 100%;overflow: auto;}#sk-container-id-3 input.sk-toggleable__control:checked~label.sk-toggleable__label-arrow:before {content: \"▾\";}#sk-container-id-3 div.sk-estimator input.sk-toggleable__control:checked~label.sk-toggleable__label {background-color: #d4ebff;}#sk-container-id-3 div.sk-label input.sk-toggleable__control:checked~label.sk-toggleable__label {background-color: #d4ebff;}#sk-container-id-3 input.sk-hidden--visually {border: 0;clip: rect(1px 1px 1px 1px);clip: rect(1px, 1px, 1px, 1px);height: 1px;margin: -1px;overflow: hidden;padding: 0;position: absolute;width: 1px;}#sk-container-id-3 div.sk-estimator {font-family: monospace;background-color: #f0f8ff;border: 1px dotted black;border-radius: 0.25em;box-sizing: border-box;margin-bottom: 0.5em;}#sk-container-id-3 div.sk-estimator:hover {background-color: #d4ebff;}#sk-container-id-3 div.sk-parallel-item::after {content: \"\";width: 100%;border-bottom: 1px solid gray;flex-grow: 1;}#sk-container-id-3 div.sk-label:hover label.sk-toggleable__label {background-color: #d4ebff;}#sk-container-id-3 div.sk-serial::before {content: \"\";position: absolute;border-left: 1px solid gray;box-sizing: border-box;top: 0;bottom: 0;left: 50%;z-index: 0;}#sk-container-id-3 div.sk-serial {display: flex;flex-direction: column;align-items: center;background-color: white;padding-right: 0.2em;padding-left: 0.2em;position: relative;}#sk-container-id-3 div.sk-item {position: relative;z-index: 1;}#sk-container-id-3 div.sk-parallel {display: flex;align-items: stretch;justify-content: center;background-color: white;position: relative;}#sk-container-id-3 div.sk-item::before, #sk-container-id-3 div.sk-parallel-item::before {content: \"\";position: absolute;border-left: 1px solid gray;box-sizing: border-box;top: 0;bottom: 0;left: 50%;z-index: -1;}#sk-container-id-3 div.sk-parallel-item {display: flex;flex-direction: column;z-index: 1;position: relative;background-color: white;}#sk-container-id-3 div.sk-parallel-item:first-child::after {align-self: flex-end;width: 50%;}#sk-container-id-3 div.sk-parallel-item:last-child::after {align-self: flex-start;width: 50%;}#sk-container-id-3 div.sk-parallel-item:only-child::after {width: 0;}#sk-container-id-3 div.sk-dashed-wrapped {border: 1px dashed gray;margin: 0 0.4em 0.5em 0.4em;box-sizing: border-box;padding-bottom: 0.4em;background-color: white;}#sk-container-id-3 div.sk-label label {font-family: monospace;font-weight: bold;display: inline-block;line-height: 1.2em;}#sk-container-id-3 div.sk-label-container {text-align: center;}#sk-container-id-3 div.sk-container {/* jupyter's `normalize.less` sets `[hidden] { display: none; }` but bootstrap.min.css set `[hidden] { display: none !important; }` so we also need the `!important` here to be able to override the default hidden behavior on the sphinx rendered scikit-learn.org. See: https://github.com/scikit-learn/scikit-learn/issues/21755 */display: inline-block !important;position: relative;}#sk-container-id-3 div.sk-text-repr-fallback {display: none;}</style><div id=\"sk-container-id-3\" class=\"sk-top-container\"><div class=\"sk-text-repr-fallback\"><pre>SVR(C=17.535200420851496, degree=4, epsilon=0.26620318239293494)</pre><b>In a Jupyter environment, please rerun this cell to show the HTML representation or trust the notebook. <br />On GitHub, the HTML representation is unable to render, please try loading this page with nbviewer.org.</b></div><div class=\"sk-container\" hidden><div class=\"sk-item\"><div class=\"sk-estimator sk-toggleable\"><input class=\"sk-toggleable__control sk-hidden--visually\" id=\"sk-estimator-id-3\" type=\"checkbox\" checked><label for=\"sk-estimator-id-3\" class=\"sk-toggleable__label sk-toggleable__label-arrow\">SVR</label><div class=\"sk-toggleable__content\"><pre>SVR(C=17.535200420851496, degree=4, epsilon=0.26620318239293494)</pre></div></div></div></div></div>"
      ],
      "text/plain": [
       "SVR(C=17.535200420851496, degree=4, epsilon=0.26620318239293494)"
      ]
     },
     "execution_count": 46,
     "metadata": {},
     "output_type": "execute_result"
    }
   ],
   "source": [
    "svm_params = {\n",
    "    \"C\": study.best_trial.params[\"C\"],\n",
    "    \"epsilon\": study.best_trial.params[\"epsilon\"],\n",
    "    \"kernel\": study.best_trial.params[\"kernel\"],\n",
    "    \"degree\": study.best_trial.params[\"degree\"]\n",
    "}\n",
    "\n",
    "svm = SVR(**svm_params)\n",
    "svm.fit(Ni_X_train, Ni_y_train)"
   ]
  },
  {
   "cell_type": "code",
   "execution_count": 47,
   "id": "4c1a69d2",
   "metadata": {},
   "outputs": [],
   "source": [
    "y_train_pred = svm.predict(Ni_X_train)\n",
    "y_test_pred = svm.predict(Ni_X_test)"
   ]
  },
  {
   "cell_type": "code",
   "execution_count": 48,
   "id": "0f707a20",
   "metadata": {},
   "outputs": [
    {
     "name": "stdout",
     "output_type": "stream",
     "text": [
      "Train RMSE:  0.3599703572962158\n",
      "Test RMSE:  0.7175756815995767\n"
     ]
    }
   ],
   "source": [
    "print(\"Train RMSE: \", np.sqrt(mean_squared_error(Ni_y_train, y_train_pred)))\n",
    "print(\"Test RMSE: \", np.sqrt(mean_squared_error(Ni_y_test, y_test_pred)))"
   ]
  },
  {
   "cell_type": "code",
   "execution_count": 49,
   "id": "641d78f4",
   "metadata": {},
   "outputs": [
    {
     "name": "stdout",
     "output_type": "stream",
     "text": [
      "Train R2:  0.9123661771051349\n",
      "Test R2:  0.6280677215307221\n"
     ]
    }
   ],
   "source": [
    "print(\"Train R2: \", r2_score(Ni_y_train, y_train_pred))\n",
    "print(\"Test R2: \", r2_score(Ni_y_test, y_test_pred))"
   ]
  },
  {
   "cell_type": "code",
   "execution_count": 50,
   "id": "badc2f1d",
   "metadata": {},
   "outputs": [
    {
     "data": {
      "image/png": "[encoded data removed]",
      "text/plain": [
       "<Figure size 640x480 with 1 Axes>"
      ]
     },
     "metadata": {},
     "output_type": "display_data"
    }
   ],
   "source": [
    "plt.scatter(y_train_pred, np.array(Ni_y_train), color=\"orange\", alpha=0.3)\n",
    "plt.scatter(y_test_pred, np.array(Ni_y_test), color=\"green\", alpha=0.4)\n",
    "plt.axis(\"auto\") # scaled, tight, auto, image, square\n",
    "# plt.xlim([0, 1.5]) \n",
    "# plt.ylim(0, None) \n",
    "plt.xlabel('Predicted Values')\n",
    "plt.ylabel('Actual Values')\n",
    "\n",
    "# Add y=x line\n",
    "plt.plot([0, 4.0], [0, 4.0], color='red', linestyle='-')\n",
    "\n",
    "plt.show()"
   ]
  }
 ],
 "metadata": {
  "kernelspec": {
   "display_name": "Python 3",
   "language": "python",
   "name": "python3"
  },
  "language_info": {
   "codemirror_mode": {
    "name": "ipython",
    "version": 3
   },
   "file_extension": ".py",
   "mimetype": "text/x-python",
   "name": "python",
   "nbconvert_exporter": "python",
   "pygments_lexer": "ipython3",
   "version": "3.8.11"
  }
 },
 "nbformat": 4,
 "nbformat_minor": 5
}
