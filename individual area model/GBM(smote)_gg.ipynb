{
 "cells": [
  {
   "attachments": {},
   "cell_type": "markdown",
   "id": "451911be",
   "metadata": {},
   "source": [
    "#### Library import"
   ]
  },
  {
   "cell_type": "code",
   "execution_count": 1,
   "id": "8a394942",
   "metadata": {},
   "outputs": [],
   "source": [
    "import os\n",
    "import pandas as pd\n",
    "import numpy as np\n",
    "import matplotlib.pyplot as plt\n",
    "%matplotlib inline\n",
    "import seaborn as sns\n",
    "import tensorflow as tf\n",
    "import missingno as msno\n",
    "\n",
    "import warnings\n",
    "warnings.filterwarnings('ignore')\n",
    "\n",
    "from sklearn.model_selection import train_test_split\n",
    "from sklearn.model_selection import GridSearchCV\n",
    "from sklearn.metrics import mean_squared_error, r2_score\n",
    "from sklearn.preprocessing import StandardScaler, MinMaxScaler, RobustScaler\n",
    "from sklearn.ensemble import RandomForestRegressor, GradientBoostingRegressor, ExtraTreesRegressor\n",
    "from sklearn.model_selection import KFold\n",
    "from lightgbm import LGBMRegressor\n",
    "from xgboost import XGBRegressor\n",
    "from ngboost import NGBRegressor\n",
    "from scipy.stats import norm, skew\n",
    "\n",
    "from matplotlib.ticker import FormatStrFormatter\n",
    "\n",
    "import re\n",
    "from tqdm import tqdm"
   ]
  },
  {
   "attachments": {},
   "cell_type": "markdown",
   "id": "31a13d68",
   "metadata": {},
   "source": [
    "#### GPU setting"
   ]
  },
  {
   "cell_type": "code",
   "execution_count": 2,
   "id": "cd001f36",
   "metadata": {},
   "outputs": [],
   "source": [
    "from tensorflow.compat.v1 import ConfigProto\n",
    "from tensorflow.compat.v1 import InteractiveSession"
   ]
  },
  {
   "cell_type": "code",
   "execution_count": 3,
   "id": "25c4acdb",
   "metadata": {},
   "outputs": [],
   "source": [
    "config = ConfigProto()\n",
    "config.gpu_options.per_process_gpu_memory_fraction = 0.4\n",
    "session = InteractiveSession(config = config)"
   ]
  },
  {
   "cell_type": "code",
   "execution_count": 4,
   "id": "7f5f8e0a",
   "metadata": {},
   "outputs": [
    {
     "name": "stdout",
     "output_type": "stream",
     "text": [
      "[name: \"/device:CPU:0\"\n",
      "device_type: \"CPU\"\n",
      "memory_limit: 268435456\n",
      "locality {\n",
      "}\n",
      "incarnation: 7986749292205573622\n",
      ", name: \"/device:GPU:0\"\n",
      "device_type: \"GPU\"\n",
      "memory_limit: 3435973836\n",
      "locality {\n",
      "  bus_id: 1\n",
      "  links {\n",
      "  }\n",
      "}\n",
      "incarnation: 18354873349669170058\n",
      "physical_device_desc: \"device: 0, name: NVIDIA GeForce RTX 3060 Ti, pci bus id: 0000:07:00.0, compute capability: 8.6\"\n",
      "]\n"
     ]
    }
   ],
   "source": [
    "physical_devices = tf.config.list_physical_devices('GPU')\n",
    "physical_devices\n",
    "\n",
    "from tensorflow.python.client import device_lib\n",
    "\n",
    "print(device_lib.list_local_devices())"
   ]
  },
  {
   "cell_type": "code",
   "execution_count": 5,
   "id": "1de68242",
   "metadata": {},
   "outputs": [],
   "source": [
    "import os\n",
    "\n",
    "os.environ[\"CUDA_VISIBLE_DEVICES\"]=\"0\"\n",
    "gpus = tf.config.experimental.list_physical_devices('GPU')\n",
    "if gpus:\n",
    "    try:\n",
    "        tf.config.experimental.set_memory_growth(gpus[0], True)\n",
    "    except RuntimeError as e:\n",
    "        print(e)"
   ]
  },
  {
   "attachments": {},
   "cell_type": "markdown",
   "id": "cb740f81",
   "metadata": {},
   "source": [
    "#### Data import and preprocessing"
   ]
  },
  {
   "cell_type": "code",
   "execution_count": 6,
   "id": "9288345d",
   "metadata": {
    "scrolled": true
   },
   "outputs": [
    {
     "data": {
      "text/plain": [
       "Index(['OBJECTID_x', 'ID', 'pH', 'As', 'Cd', 'Ni', 'Pb', 'Zn', 'Hg', 'slope',\n",
       "       'altitude', 'profile_curve', 'profile_c_num', 'profile_c_abs',\n",
       "       'planform_curve', 'planform_c_num', 'planform_c_abs', 'HYDGRP',\n",
       "       'HYDGRP_A', 'HYDGRP_B', 'HYDGRP_C', 'HYDGRP_D', 'ANION_EXCL', 'SOL_CRK',\n",
       "       'SOL_K1', 'CLAY1', 'SILT1', 'SAND1', 'ROCK1', 'SOL_EC1', 'distance'],\n",
       "      dtype='object')"
      ]
     },
     "execution_count": 6,
     "metadata": {},
     "output_type": "execute_result"
    }
   ],
   "source": [
    "data = pd.read_csv(\"data/data_gg.csv\")\n",
    "data.columns"
   ]
  },
  {
   "cell_type": "code",
   "execution_count": 7,
   "id": "bbf87a23",
   "metadata": {},
   "outputs": [
    {
     "data": {
      "text/plain": [
       "Index(['pH', 'As', 'Cd', 'Ni', 'Pb', 'Zn', 'Hg', 'slope', 'altitude',\n",
       "       'profile_curve', 'planform_curve', 'HYDGRP_A', 'HYDGRP_B', 'HYDGRP_C',\n",
       "       'HYDGRP_D', 'SOL_K1', 'CLAY1', 'SILT1', 'SAND1', 'ROCK1', 'distance'],\n",
       "      dtype='object')"
      ]
     },
     "execution_count": 7,
     "metadata": {},
     "output_type": "execute_result"
    }
   ],
   "source": [
    "data = data.drop(['OBJECTID_x','ID','HYDGRP','profile_c_num', 'profile_c_abs','planform_c_num', 'planform_c_abs','ANION_EXCL','SOL_CRK','SOL_EC1'], axis = 1)\n",
    "data.columns"
   ]
  },
  {
   "cell_type": "code",
   "execution_count": 8,
   "id": "eda19bb6",
   "metadata": {},
   "outputs": [],
   "source": [
    "As = data\n",
    "Cd = data\n",
    "Ni = data"
   ]
  },
  {
   "cell_type": "code",
   "execution_count": 9,
   "id": "c3c7d06a",
   "metadata": {},
   "outputs": [],
   "source": [
    "As = As.drop([\"Cd\", \"Ni\", \"Pb\", \"Zn\", \"Hg\"], axis = 1)\n",
    "Cd = Cd.drop([\"As\", \"Ni\", \"Pb\", \"Zn\", \"Hg\"], axis = 1)\n",
    "Ni = Ni.drop([\"As\", \"Cd\", \"Pb\", \"Zn\", \"Hg\"], axis = 1)"
   ]
  },
  {
   "cell_type": "code",
   "execution_count": 10,
   "id": "67d23d19",
   "metadata": {},
   "outputs": [
    {
     "name": "stdout",
     "output_type": "stream",
     "text": [
      "(781, 16)\n",
      "(781, 16)\n",
      "(781, 16)\n"
     ]
    }
   ],
   "source": [
    "print(As.shape)\n",
    "print(Cd.shape)\n",
    "print(Ni.shape)"
   ]
  },
  {
   "cell_type": "markdown",
   "id": "a5e7de7c",
   "metadata": {},
   "source": [
    "#### Oversampling by SMOGN (SMOTE Regression)"
   ]
  },
  {
   "cell_type": "code",
   "execution_count": 11,
   "id": "07928600",
   "metadata": {},
   "outputs": [],
   "source": [
    "import smogn"
   ]
  },
  {
   "cell_type": "code",
   "execution_count": 12,
   "id": "944a8180",
   "metadata": {},
   "outputs": [
    {
     "name": "stderr",
     "output_type": "stream",
     "text": [
      "dist_matrix: 100%|##########| 148/148 [00:08<00:00, 17.19it/s]\n",
      "synth_matrix: 100%|##########| 148/148 [00:00<00:00, 199.42it/s]\n",
      "r_index: 100%|##########| 44/44 [00:00<00:00, 602.60it/s]\n",
      "dist_matrix: 100%|##########| 88/88 [00:03<00:00, 28.11it/s]\n",
      "synth_matrix: 100%|##########| 88/88 [00:00<00:00, 99.64it/s] \n",
      "r_index: 100%|##########| 79/79 [00:00<00:00, 598.35it/s]\n",
      "dist_matrix: 100%|##########| 115/115 [00:05<00:00, 21.87it/s]\n",
      "synth_matrix: 100%|##########| 115/115 [00:00<00:00, 146.46it/s]\n",
      "r_index: 100%|##########| 91/91 [00:00<00:00, 614.73it/s]\n"
     ]
    }
   ],
   "source": [
    "As_smogn = smogn.smoter(data = As, y = 'As', samp_method = 'extreme')\n",
    "Cd_smogn = smogn.smoter(data = Cd, y = 'Cd', samp_method = 'extreme')\n",
    "Ni_smogn = smogn.smoter(data = Ni, y = 'Ni', samp_method = 'extreme')"
   ]
  },
  {
   "cell_type": "code",
   "execution_count": 13,
   "id": "3d5966fa",
   "metadata": {},
   "outputs": [
    {
     "name": "stdout",
     "output_type": "stream",
     "text": [
      "(1143, 16)\n",
      "(1319, 16)\n",
      "(1199, 16)\n"
     ]
    }
   ],
   "source": [
    "print(As_smogn.shape)\n",
    "print(Cd_smogn.shape)\n",
    "print(Ni_smogn.shape)"
   ]
  },
  {
   "attachments": {},
   "cell_type": "markdown",
   "id": "ed72a9b1",
   "metadata": {},
   "source": [
    "#### Eliminate outlier and train / test split"
   ]
  },
  {
   "cell_type": "code",
   "execution_count": 14,
   "id": "43604a42",
   "metadata": {},
   "outputs": [],
   "source": [
    "def eli_outlier(data, value):\n",
    "    q1 = data[value].quantile(0.25)\n",
    "    q3 = data[value].quantile(0.75)\n",
    "\n",
    "    iqr = q3 - q1\n",
    "\n",
    "    q1_condition = data[value] < q1-1.5*iqr\n",
    "    q3_condition = data[value] > q3+1.5*iqr\n",
    "\n",
    "    reset_q1_index = data[q1_condition].index\n",
    "    reset_q3_index = data[q3_condition].index\n",
    "\n",
    "    data.drop(reset_q1_index, inplace = True)\n",
    "    data.drop(reset_q3_index, inplace = True)\n",
    "\n",
    "    return data"
   ]
  },
  {
   "cell_type": "code",
   "execution_count": 15,
   "id": "9b7632f2",
   "metadata": {},
   "outputs": [],
   "source": [
    "As_ros = eli_outlier(As_smogn, \"As\")\n",
    "Cd_ros = eli_outlier(Cd_smogn, \"Cd\")\n",
    "Ni_ros = eli_outlier(Ni_smogn, \"Ni\")"
   ]
  },
  {
   "cell_type": "code",
   "execution_count": 16,
   "id": "fd2813d1",
   "metadata": {},
   "outputs": [],
   "source": [
    "As_X = As_ros.drop([\"As\"], axis=1)\n",
    "Cd_X = Cd_ros.drop([\"Cd\"], axis=1)\n",
    "Ni_X = Ni_ros.drop([\"Ni\"], axis=1)\n",
    "\n",
    "As_y = As_ros[\"As\"]\n",
    "Cd_y = Cd_ros[\"Cd\"]\n",
    "Ni_y = Ni_ros[\"Ni\"]"
   ]
  },
  {
   "cell_type": "code",
   "execution_count": 17,
   "id": "3d1db064",
   "metadata": {},
   "outputs": [],
   "source": [
    "As_y = np.log1p(As_ros[\"As\"])\n",
    "Cd_y = np.log1p(Cd_ros[\"Cd\"])\n",
    "Ni_y = np.log1p(Ni_ros[\"Ni\"])"
   ]
  },
  {
   "cell_type": "code",
   "execution_count": 18,
   "id": "e6b5aab4",
   "metadata": {},
   "outputs": [
    {
     "name": "stdout",
     "output_type": "stream",
     "text": [
      "(882, 15)\n",
      "(1208, 15)\n",
      "(1083, 15)\n"
     ]
    }
   ],
   "source": [
    "print(As_X.shape)\n",
    "print(Cd_X.shape)\n",
    "print(Ni_X.shape)"
   ]
  },
  {
   "attachments": {},
   "cell_type": "markdown",
   "id": "c92e5bb6",
   "metadata": {},
   "source": [
    "StandardScaler"
   ]
  },
  {
   "cell_type": "code",
   "execution_count": 19,
   "id": "faf2473d",
   "metadata": {},
   "outputs": [],
   "source": [
    "from sklearn.preprocessing import StandardScaler\n",
    "\n",
    "scaler = StandardScaler()\n",
    "\n",
    "As_X_train, As_X_test, As_y_train, As_y_test = train_test_split(As_X, As_y, test_size=0.2, random_state=42)\n",
    "Cd_X_train, Cd_X_test, Cd_y_train, Cd_y_test = train_test_split(Cd_X, Cd_y, test_size=0.2, random_state=42)\n",
    "Ni_X_train, Ni_X_test, Ni_y_train, Ni_y_test = train_test_split(Ni_X, Ni_y, test_size=0.2, random_state=42)\n",
    "\n",
    "As_X_train = scaler.fit_transform(As_X_train)\n",
    "As_X_test = scaler.fit_transform(As_X_test)\n",
    "\n",
    "Cd_X_train = scaler.fit_transform(Cd_X_train)\n",
    "Cd_X_test = scaler.fit_transform(Cd_X_test)\n",
    "\n",
    "Ni_X_train = scaler.fit_transform(Ni_X_train)\n",
    "Ni_X_test = scaler.fit_transform(Ni_X_test)"
   ]
  },
  {
   "cell_type": "code",
   "execution_count": 20,
   "id": "416a7027",
   "metadata": {},
   "outputs": [
    {
     "data": {
      "text/plain": [
       "' from sklearn.preprocessing import StandardScaler\\n\\nscaler = StandardScaler()\\nAs_X_scaled = scaler.fit_transform(As_X)\\nCd_X_scaled = scaler.fit_transform(Cd_X)\\nNi_X_scaled = scaler.fit_transform(Ni_X)\\n\\nAs_X_train, As_X_test, As_y_train, As_y_test = train_test_split(As_X_scaled, As_y, test_size=0.2, random_state=42)\\nCd_X_train, Cd_X_test, Cd_y_train, Cd_y_test = train_test_split(Cd_X_scaled, Cd_y, test_size=0.2, random_state=42)\\nNi_X_train, Ni_X_test, Ni_y_train, Ni_y_test = train_test_split(Ni_X_scaled, Ni_y, test_size=0.2, random_state=42) '"
      ]
     },
     "execution_count": 20,
     "metadata": {},
     "output_type": "execute_result"
    }
   ],
   "source": [
    "''' from sklearn.preprocessing import StandardScaler\n",
    "\n",
    "scaler = StandardScaler()\n",
    "As_X_scaled = scaler.fit_transform(As_X)\n",
    "Cd_X_scaled = scaler.fit_transform(Cd_X)\n",
    "Ni_X_scaled = scaler.fit_transform(Ni_X)\n",
    "\n",
    "As_X_train, As_X_test, As_y_train, As_y_test = train_test_split(As_X_scaled, As_y, test_size=0.2, random_state=42)\n",
    "Cd_X_train, Cd_X_test, Cd_y_train, Cd_y_test = train_test_split(Cd_X_scaled, Cd_y, test_size=0.2, random_state=42)\n",
    "Ni_X_train, Ni_X_test, Ni_y_train, Ni_y_test = train_test_split(Ni_X_scaled, Ni_y, test_size=0.2, random_state=42) '''"
   ]
  },
  {
   "attachments": {},
   "cell_type": "markdown",
   "id": "2fe0d293",
   "metadata": {},
   "source": [
    "MinMaxScaler"
   ]
  },
  {
   "cell_type": "code",
   "execution_count": 21,
   "id": "e8596f9f",
   "metadata": {},
   "outputs": [],
   "source": [
    "# from sklearn.preprocessing import MinMaxScaler\n",
    "\n",
    "# scaler = MinMaxScaler()\n",
    "# As_X_scaled = scaler.fit_transform(As_X)\n",
    "# Cd_X_scaled = scaler.fit_transform(Cd_X)\n",
    "# Ni_X_scaled = scaler.fit_transform(Ni_X)\n",
    "\n",
    "# As_X_train, As_X_test, As_y_train, As_y_test = train_test_split(As_X_scaled, As_y, test_size=0.2, random_state=42)\n",
    "# Cd_X_train, Cd_X_test, Cd_y_train, Cd_y_test = train_test_split(Cd_X_scaled, Cd_y, test_size=0.2, random_state=42)\n",
    "# Ni_X_train, Ni_X_test, Ni_y_train, Ni_y_test = train_test_split(Ni_X_scaled, Ni_y, test_size=0.2, random_state=42)"
   ]
  },
  {
   "cell_type": "code",
   "execution_count": 22,
   "id": "c6cad4b1",
   "metadata": {},
   "outputs": [
    {
     "name": "stdout",
     "output_type": "stream",
     "text": [
      "(705, 15)\n",
      "(966, 15)\n",
      "(866, 15)\n"
     ]
    }
   ],
   "source": [
    "print(As_X_train.shape)\n",
    "print(Cd_X_train.shape)\n",
    "print(Ni_X_train.shape)"
   ]
  },
  {
   "attachments": {},
   "cell_type": "markdown",
   "id": "bd11b27e",
   "metadata": {},
   "source": [
    "#### 10-Fold Crossvalidation"
   ]
  },
  {
   "cell_type": "code",
   "execution_count": 23,
   "id": "7a765916",
   "metadata": {},
   "outputs": [],
   "source": [
    "kf = KFold(n_splits = 5, random_state = 42, shuffle = True)"
   ]
  },
  {
   "attachments": {},
   "cell_type": "markdown",
   "id": "859638d0",
   "metadata": {},
   "source": [
    "#### Optuna Optimization"
   ]
  },
  {
   "cell_type": "code",
   "execution_count": 24,
   "id": "92a47d83",
   "metadata": {},
   "outputs": [],
   "source": [
    "import optuna\n",
    "\n",
    "from optuna import Trial\n",
    "from optuna.samplers import TPESampler"
   ]
  },
  {
   "cell_type": "code",
   "execution_count": 25,
   "id": "a7669fea",
   "metadata": {},
   "outputs": [],
   "source": [
    "from sklearn.model_selection import cross_val_score\n",
    "\n",
    "def objectiveGB(trial: Trial, X_train, y_train) -> float:\n",
    "    gb_paramas = {\n",
    "        \"random_state\": 42,\n",
    "        \"learning_rate\": 0.1,\n",
    "        \"n_estimators\": trial.suggest_int(\"n_estimators\", 100, 200),\n",
    "        \"max_depth\": trial.suggest_int(\"max_depth\", 1, 30),\n",
    "        \"min_samples_leaf\": trial.suggest_int(\"min_samples_leaf\", 1, 10),\n",
    "        \"min_samples_split\": trial.suggest_int(\"min_samples_split\", 2, 10),\n",
    "        \"subsample\": trial.suggest_float(\"subsample\", 0.1, 0.5)\n",
    "    }\n",
    "    \n",
    "    gb = GradientBoostingRegressor(**gb_paramas)\n",
    "    r2 = cross_val_score(gb, X_train, y_train, scoring = \"r2\", cv = kf)\n",
    "    r2 = r2.mean()\n",
    "    \n",
    "    return r2"
   ]
  },
  {
   "attachments": {},
   "cell_type": "markdown",
   "id": "b0988f46",
   "metadata": {},
   "source": [
    "####  Optimization"
   ]
  },
  {
   "cell_type": "code",
   "execution_count": 26,
   "id": "94f5e00d",
   "metadata": {
    "scrolled": false
   },
   "outputs": [
    {
     "name": "stderr",
     "output_type": "stream",
     "text": [
      "\u001b[32m[I 2023-08-24 13:46:05,519]\u001b[0m A new study created in memory with name: gb_parameter_opt\u001b[0m\n",
      "\u001b[32m[I 2023-08-24 13:46:07,161]\u001b[0m Trial 0 finished with value: 0.5145446205961415 and parameters: {'n_estimators': 144, 'max_depth': 28, 'min_samples_leaf': 7, 'min_samples_split': 6, 'subsample': 0.378589821343597}. Best is trial 0 with value: 0.5145446205961415.\u001b[0m\n",
      "\u001b[32m[I 2023-08-24 13:46:07,745]\u001b[0m Trial 1 finished with value: 0.4908277424136596 and parameters: {'n_estimators': 104, 'max_depth': 10, 'min_samples_leaf': 7, 'min_samples_split': 7, 'subsample': 0.20466017322038932}. Best is trial 0 with value: 0.5145446205961415.\u001b[0m\n",
      "\u001b[32m[I 2023-08-24 13:46:09,329]\u001b[0m Trial 2 finished with value: 0.5054402237725705 and parameters: {'n_estimators': 143, 'max_depth': 17, 'min_samples_leaf': 10, 'min_samples_split': 5, 'subsample': 0.43091712770241797}. Best is trial 0 with value: 0.5145446205961415.\u001b[0m\n",
      "\u001b[32m[I 2023-08-24 13:46:10,103]\u001b[0m Trial 3 finished with value: 0.49168323115355095 and parameters: {'n_estimators': 116, 'max_depth': 4, 'min_samples_leaf': 6, 'min_samples_split': 10, 'subsample': 0.31533026545253184}. Best is trial 0 with value: 0.5145446205961415.\u001b[0m\n",
      "\u001b[32m[I 2023-08-24 13:46:12,077]\u001b[0m Trial 4 finished with value: 0.5270033160371544 and parameters: {'n_estimators': 132, 'max_depth': 28, 'min_samples_leaf': 4, 'min_samples_split': 3, 'subsample': 0.37951208815342197}. Best is trial 4 with value: 0.5270033160371544.\u001b[0m\n",
      "\u001b[32m[I 2023-08-24 13:46:14,466]\u001b[0m Trial 5 finished with value: 0.4843511858649319 and parameters: {'n_estimators': 193, 'max_depth': 25, 'min_samples_leaf': 5, 'min_samples_split': 4, 'subsample': 0.3488177786797194}. Best is trial 4 with value: 0.5270033160371544.\u001b[0m\n",
      "\u001b[32m[I 2023-08-24 13:46:16,036]\u001b[0m Trial 6 finished with value: 0.49840686011231483 and parameters: {'n_estimators': 174, 'max_depth': 22, 'min_samples_leaf': 2, 'min_samples_split': 8, 'subsample': 0.2109970288839696}. Best is trial 4 with value: 0.5270033160371544.\u001b[0m\n",
      "\u001b[32m[I 2023-08-24 13:46:16,581]\u001b[0m Trial 7 finished with value: 0.47008695115651766 and parameters: {'n_estimators': 105, 'max_depth': 9, 'min_samples_leaf': 6, 'min_samples_split': 3, 'subsample': 0.17675648132794058}. Best is trial 4 with value: 0.5270033160371544.\u001b[0m\n",
      "\u001b[32m[I 2023-08-24 13:46:17,433]\u001b[0m Trial 8 finished with value: 0.4587753709617277 and parameters: {'n_estimators': 190, 'max_depth': 10, 'min_samples_leaf': 4, 'min_samples_split': 5, 'subsample': 0.12483011819101582}. Best is trial 4 with value: 0.5270033160371544.\u001b[0m\n",
      "\u001b[32m[I 2023-08-24 13:46:18,217]\u001b[0m Trial 9 finished with value: 0.5077359620044637 and parameters: {'n_estimators': 100, 'max_depth': 8, 'min_samples_leaf': 2, 'min_samples_split': 3, 'subsample': 0.1966391972131184}. Best is trial 4 with value: 0.5270033160371544.\u001b[0m\n",
      "\u001b[32m[I 2023-08-24 13:46:19,942]\u001b[0m Trial 10 finished with value: 0.5150908474565223 and parameters: {'n_estimators': 128, 'max_depth': 30, 'min_samples_leaf': 9, 'min_samples_split': 2, 'subsample': 0.48469482912824746}. Best is trial 4 with value: 0.5270033160371544.\u001b[0m\n",
      "\u001b[32m[I 2023-08-24 13:46:21,655]\u001b[0m Trial 11 finished with value: 0.5055105458072727 and parameters: {'n_estimators': 129, 'max_depth': 30, 'min_samples_leaf': 10, 'min_samples_split': 2, 'subsample': 0.49180717457760675}. Best is trial 4 with value: 0.5270033160371544.\u001b[0m\n",
      "\u001b[32m[I 2023-08-24 13:46:24,152]\u001b[0m Trial 12 finished with value: 0.5085228985304063 and parameters: {'n_estimators': 165, 'max_depth': 20, 'min_samples_leaf': 8, 'min_samples_split': 2, 'subsample': 0.49862333816278465}. Best is trial 4 with value: 0.5270033160371544.\u001b[0m\n",
      "\u001b[32m[I 2023-08-24 13:46:26,377]\u001b[0m Trial 13 finished with value: 0.5012862997106253 and parameters: {'n_estimators': 131, 'max_depth': 25, 'min_samples_leaf': 4, 'min_samples_split': 2, 'subsample': 0.4238997294889602}. Best is trial 4 with value: 0.5270033160371544.\u001b[0m\n",
      "\u001b[32m[I 2023-08-24 13:46:29,770]\u001b[0m Trial 14 finished with value: 0.5160823424481168 and parameters: {'n_estimators': 127, 'max_depth': 30, 'min_samples_leaf': 1, 'min_samples_split': 4, 'subsample': 0.4246770105481748}. Best is trial 4 with value: 0.5270033160371544.\u001b[0m\n",
      "\u001b[32m[I 2023-08-24 13:46:32,176]\u001b[0m Trial 15 finished with value: 0.4688211488285642 and parameters: {'n_estimators': 158, 'max_depth': 16, 'min_samples_leaf': 1, 'min_samples_split': 4, 'subsample': 0.2807002189510011}. Best is trial 4 with value: 0.5270033160371544.\u001b[0m\n",
      "\u001b[32m[I 2023-08-24 13:46:34,317]\u001b[0m Trial 16 finished with value: 0.5174618900606097 and parameters: {'n_estimators': 119, 'max_depth': 25, 'min_samples_leaf': 3, 'min_samples_split': 4, 'subsample': 0.4072284401440164}. Best is trial 4 with value: 0.5270033160371544.\u001b[0m\n",
      "\u001b[32m[I 2023-08-24 13:46:35,689]\u001b[0m Trial 17 finished with value: 0.4968990850536715 and parameters: {'n_estimators': 117, 'max_depth': 24, 'min_samples_leaf': 3, 'min_samples_split': 6, 'subsample': 0.2900705371823276}. Best is trial 4 with value: 0.5270033160371544.\u001b[0m\n",
      "\u001b[32m[I 2023-08-24 13:46:37,788]\u001b[0m Trial 18 finished with value: 0.505064172811579 and parameters: {'n_estimators': 139, 'max_depth': 19, 'min_samples_leaf': 4, 'min_samples_split': 5, 'subsample': 0.38470176881046514}. Best is trial 4 with value: 0.5270033160371544.\u001b[0m\n",
      "\u001b[32m[I 2023-08-24 13:46:38,902]\u001b[0m Trial 19 finished with value: 0.5027697220381355 and parameters: {'n_estimators': 116, 'max_depth': 14, 'min_samples_leaf': 3, 'min_samples_split': 8, 'subsample': 0.2534460532721279}. Best is trial 4 with value: 0.5270033160371544.\u001b[0m\n",
      "\u001b[32m[I 2023-08-24 13:46:40,649]\u001b[0m Trial 20 finished with value: 0.4741467363236581 and parameters: {'n_estimators': 154, 'max_depth': 27, 'min_samples_leaf': 5, 'min_samples_split': 3, 'subsample': 0.3318305650720915}. Best is trial 4 with value: 0.5270033160371544.\u001b[0m\n",
      "\u001b[32m[I 2023-08-24 13:46:43,761]\u001b[0m Trial 21 finished with value: 0.5142834550451079 and parameters: {'n_estimators': 123, 'max_depth': 27, 'min_samples_leaf': 1, 'min_samples_split': 4, 'subsample': 0.4220958067379283}. Best is trial 4 with value: 0.5270033160371544.\u001b[0m\n",
      "\u001b[32m[I 2023-08-24 13:46:46,522]\u001b[0m Trial 22 finished with value: 0.5055403638288462 and parameters: {'n_estimators': 136, 'max_depth': 22, 'min_samples_leaf': 2, 'min_samples_split': 4, 'subsample': 0.3873429572807017}. Best is trial 4 with value: 0.5270033160371544.\u001b[0m\n",
      "\u001b[32m[I 2023-08-24 13:46:48,853]\u001b[0m Trial 23 finished with value: 0.5190811261121334 and parameters: {'n_estimators': 112, 'max_depth': 30, 'min_samples_leaf': 3, 'min_samples_split': 3, 'subsample': 0.4507444259728901}. Best is trial 4 with value: 0.5270033160371544.\u001b[0m\n",
      "\u001b[32m[I 2023-08-24 13:46:51,185]\u001b[0m Trial 24 finished with value: 0.5178941725506967 and parameters: {'n_estimators': 113, 'max_depth': 27, 'min_samples_leaf': 3, 'min_samples_split': 3, 'subsample': 0.4474308343707609}. Best is trial 4 with value: 0.5270033160371544.\u001b[0m\n",
      "\u001b[32m[I 2023-08-24 13:46:53,351]\u001b[0m Trial 25 finished with value: 0.4865383322911141 and parameters: {'n_estimators': 111, 'max_depth': 28, 'min_samples_leaf': 4, 'min_samples_split': 3, 'subsample': 0.46648256456737935}. Best is trial 4 with value: 0.5270033160371544.\u001b[0m\n",
      "\u001b[32m[I 2023-08-24 13:46:55,598]\u001b[0m Trial 26 finished with value: 0.5365611408876576 and parameters: {'n_estimators': 110, 'max_depth': 23, 'min_samples_leaf': 3, 'min_samples_split': 3, 'subsample': 0.4434948627944249}. Best is trial 26 with value: 0.5365611408876576.\u001b[0m\n",
      "\u001b[32m[I 2023-08-24 13:46:56,911]\u001b[0m Trial 27 finished with value: 0.5079513588958188 and parameters: {'n_estimators': 109, 'max_depth': 22, 'min_samples_leaf': 5, 'min_samples_split': 10, 'subsample': 0.35374161815455685}. Best is trial 26 with value: 0.5365611408876576.\u001b[0m\n",
      "\u001b[32m[I 2023-08-24 13:46:59,180]\u001b[0m Trial 28 finished with value: 0.5224158838954777 and parameters: {'n_estimators': 100, 'max_depth': 23, 'min_samples_leaf': 2, 'min_samples_split': 5, 'subsample': 0.44515464290060713}. Best is trial 26 with value: 0.5365611408876576.\u001b[0m\n",
      "\u001b[32m[I 2023-08-24 13:47:01,757]\u001b[0m Trial 29 finished with value: 0.5137806499054317 and parameters: {'n_estimators': 148, 'max_depth': 19, 'min_samples_leaf': 2, 'min_samples_split': 7, 'subsample': 0.3663703476136594}. Best is trial 26 with value: 0.5365611408876576.\u001b[0m\n",
      "\u001b[32m[I 2023-08-24 13:47:03,575]\u001b[0m Trial 30 finished with value: 0.5096162497764192 and parameters: {'n_estimators': 100, 'max_depth': 14, 'min_samples_leaf': 2, 'min_samples_split': 5, 'subsample': 0.3950951606564183}. Best is trial 26 with value: 0.5365611408876576.\u001b[0m\n",
      "\u001b[32m[I 2023-08-24 13:47:06,159]\u001b[0m Trial 31 finished with value: 0.49705656828474354 and parameters: {'n_estimators': 122, 'max_depth': 28, 'min_samples_leaf': 3, 'min_samples_split': 3, 'subsample': 0.46007489015884223}. Best is trial 26 with value: 0.5365611408876576.\u001b[0m\n",
      "\u001b[32m[I 2023-08-24 13:47:08,063]\u001b[0m Trial 32 finished with value: 0.5185059793124756 and parameters: {'n_estimators': 108, 'max_depth': 23, 'min_samples_leaf': 4, 'min_samples_split': 7, 'subsample': 0.4443339657636175}. Best is trial 26 with value: 0.5365611408876576.\u001b[0m\n",
      "\u001b[32m[I 2023-08-24 13:47:10,350]\u001b[0m Trial 33 finished with value: 0.4949132089474507 and parameters: {'n_estimators': 105, 'max_depth': 26, 'min_samples_leaf': 3, 'min_samples_split': 5, 'subsample': 0.4728873995155759}. Best is trial 26 with value: 0.5365611408876576.\u001b[0m\n",
      "\u001b[32m[I 2023-08-24 13:47:12,026]\u001b[0m Trial 34 finished with value: 0.49982092347394086 and parameters: {'n_estimators': 136, 'max_depth': 29, 'min_samples_leaf': 7, 'min_samples_split': 2, 'subsample': 0.40785859188972656}. Best is trial 26 with value: 0.5365611408876576.\u001b[0m\n",
      "\u001b[32m[I 2023-08-24 13:47:13,750]\u001b[0m Trial 35 finished with value: 0.5095469214700135 and parameters: {'n_estimators': 114, 'max_depth': 20, 'min_samples_leaf': 6, 'min_samples_split': 6, 'subsample': 0.4543973604520086}. Best is trial 26 with value: 0.5365611408876576.\u001b[0m\n",
      "\u001b[32m[I 2023-08-24 13:47:15,683]\u001b[0m Trial 36 finished with value: 0.4737598272526067 and parameters: {'n_estimators': 122, 'max_depth': 24, 'min_samples_leaf': 2, 'min_samples_split': 3, 'subsample': 0.32061189829787007}. Best is trial 26 with value: 0.5365611408876576.\u001b[0m\n",
      "\u001b[32m[I 2023-08-24 13:47:16,181]\u001b[0m Trial 37 finished with value: 0.47467637155339737 and parameters: {'n_estimators': 100, 'max_depth': 2, 'min_samples_leaf': 5, 'min_samples_split': 4, 'subsample': 0.3662005833379718}. Best is trial 26 with value: 0.5365611408876576.\u001b[0m\n",
      "\u001b[32m[I 2023-08-24 13:47:20,511]\u001b[0m Trial 38 finished with value: 0.5151568466610151 and parameters: {'n_estimators': 144, 'max_depth': 21, 'min_samples_leaf': 1, 'min_samples_split': 2, 'subsample': 0.44207234942233753}. Best is trial 26 with value: 0.5365611408876576.\u001b[0m\n",
      "\u001b[32m[I 2023-08-24 13:47:23,818]\u001b[0m Trial 39 finished with value: 0.5147795629308904 and parameters: {'n_estimators': 199, 'max_depth': 17, 'min_samples_leaf': 4, 'min_samples_split': 5, 'subsample': 0.4094211845998623}. Best is trial 26 with value: 0.5365611408876576.\u001b[0m\n",
      "\u001b[32m[I 2023-08-24 13:47:26,483]\u001b[0m Trial 40 finished with value: 0.5236170537872968 and parameters: {'n_estimators': 109, 'max_depth': 26, 'min_samples_leaf': 2, 'min_samples_split': 6, 'subsample': 0.47692384073727584}. Best is trial 26 with value: 0.5365611408876576.\u001b[0m\n",
      "\u001b[32m[I 2023-08-24 13:47:29,079]\u001b[0m Trial 41 finished with value: 0.5102258113639782 and parameters: {'n_estimators': 106, 'max_depth': 26, 'min_samples_leaf': 2, 'min_samples_split': 6, 'subsample': 0.4778196508552849}. Best is trial 26 with value: 0.5365611408876576.\u001b[0m\n",
      "\u001b[32m[I 2023-08-24 13:47:31,184]\u001b[0m Trial 42 finished with value: 0.49827258010773245 and parameters: {'n_estimators': 109, 'max_depth': 28, 'min_samples_leaf': 3, 'min_samples_split': 6, 'subsample': 0.4314876917007142}. Best is trial 26 with value: 0.5365611408876576.\u001b[0m\n",
      "\u001b[32m[I 2023-08-24 13:47:33,577]\u001b[0m Trial 43 finished with value: 0.5163678574536599 and parameters: {'n_estimators': 103, 'max_depth': 24, 'min_samples_leaf': 2, 'min_samples_split': 7, 'subsample': 0.47192293048294404}. Best is trial 26 with value: 0.5365611408876576.\u001b[0m\n",
      "\u001b[32m[I 2023-08-24 13:47:36,152]\u001b[0m Trial 44 finished with value: 0.501950936385591 and parameters: {'n_estimators': 113, 'max_depth': 29, 'min_samples_leaf': 3, 'min_samples_split': 3, 'subsample': 0.49283029239840476}. Best is trial 26 with value: 0.5365611408876576.\u001b[0m\n",
      "\u001b[32m[I 2023-08-24 13:47:39,162]\u001b[0m Trial 45 finished with value: 0.5146248929466467 and parameters: {'n_estimators': 119, 'max_depth': 26, 'min_samples_leaf': 1, 'min_samples_split': 8, 'subsample': 0.4536566338514226}. Best is trial 26 with value: 0.5365611408876576.\u001b[0m\n",
      "\u001b[32m[I 2023-08-24 13:47:39,715]\u001b[0m Trial 46 finished with value: 0.45592388686740276 and parameters: {'n_estimators': 126, 'max_depth': 30, 'min_samples_leaf': 4, 'min_samples_split': 5, 'subsample': 0.12397480029732283}. Best is trial 26 with value: 0.5365611408876576.\u001b[0m\n",
      "\u001b[32m[I 2023-08-24 13:47:42,068]\u001b[0m Trial 47 finished with value: 0.5183399155041919 and parameters: {'n_estimators': 103, 'max_depth': 24, 'min_samples_leaf': 2, 'min_samples_split': 4, 'subsample': 0.43376818249464266}. Best is trial 26 with value: 0.5365611408876576.\u001b[0m\n",
      "\u001b[32m[I 2023-08-24 13:47:43,964]\u001b[0m Trial 48 finished with value: 0.5020007373909966 and parameters: {'n_estimators': 133, 'max_depth': 23, 'min_samples_leaf': 5, 'min_samples_split': 8, 'subsample': 0.4033480898593418}. Best is trial 26 with value: 0.5365611408876576.\u001b[0m\n",
      "\u001b[32m[I 2023-08-24 13:47:48,395]\u001b[0m Trial 49 finished with value: 0.49117269620469395 and parameters: {'n_estimators': 178, 'max_depth': 29, 'min_samples_leaf': 3, 'min_samples_split': 2, 'subsample': 0.49588994585510787}. Best is trial 26 with value: 0.5365611408876576.\u001b[0m\n",
      "\u001b[32m[I 2023-08-24 13:47:49,464]\u001b[0m Trial 50 finished with value: 0.48990617308332063 and parameters: {'n_estimators': 125, 'max_depth': 6, 'min_samples_leaf': 1, 'min_samples_split': 3, 'subsample': 0.25629086219792224}. Best is trial 26 with value: 0.5365611408876576.\u001b[0m\n",
      "\u001b[32m[I 2023-08-24 13:47:51,424]\u001b[0m Trial 51 finished with value: 0.5183402919160047 and parameters: {'n_estimators': 111, 'max_depth': 23, 'min_samples_leaf': 4, 'min_samples_split': 7, 'subsample': 0.4437564113136787}. Best is trial 26 with value: 0.5365611408876576.\u001b[0m\n",
      "\u001b[32m[I 2023-08-24 13:47:53,155]\u001b[0m Trial 52 finished with value: 0.5131041167152037 and parameters: {'n_estimators': 107, 'max_depth': 25, 'min_samples_leaf': 4, 'min_samples_split': 9, 'subsample': 0.420406134853699}. Best is trial 26 with value: 0.5365611408876576.\u001b[0m\n",
      "\u001b[32m[I 2023-08-24 13:47:55,648]\u001b[0m Trial 53 finished with value: 0.5119697154159193 and parameters: {'n_estimators': 116, 'max_depth': 21, 'min_samples_leaf': 3, 'min_samples_split': 7, 'subsample': 0.47935967188008693}. Best is trial 26 with value: 0.5365611408876576.\u001b[0m\n",
      "\u001b[32m[I 2023-08-24 13:47:56,216]\u001b[0m Trial 54 finished with value: 0.4768621040311306 and parameters: {'n_estimators': 119, 'max_depth': 26, 'min_samples_leaf': 6, 'min_samples_split': 6, 'subsample': 0.16150076105885927}. Best is trial 26 with value: 0.5365611408876576.\u001b[0m\n",
      "\u001b[32m[I 2023-08-24 13:47:58,124]\u001b[0m Trial 55 finished with value: 0.5064562909861429 and parameters: {'n_estimators': 103, 'max_depth': 18, 'min_samples_leaf': 4, 'min_samples_split': 7, 'subsample': 0.4613534271695317}. Best is trial 26 with value: 0.5365611408876576.\u001b[0m\n",
      "\u001b[32m[I 2023-08-24 13:48:00,076]\u001b[0m Trial 56 finished with value: 0.5132447716213109 and parameters: {'n_estimators': 108, 'max_depth': 23, 'min_samples_leaf': 2, 'min_samples_split': 6, 'subsample': 0.37777538197450716}. Best is trial 26 with value: 0.5365611408876576.\u001b[0m\n",
      "\u001b[32m[I 2023-08-24 13:48:02,703]\u001b[0m Trial 57 finished with value: 0.5001882319097856 and parameters: {'n_estimators': 131, 'max_depth': 27, 'min_samples_leaf': 3, 'min_samples_split': 4, 'subsample': 0.4403478756048787}. Best is trial 26 with value: 0.5365611408876576.\u001b[0m\n",
      "\u001b[32m[I 2023-08-24 13:48:04,410]\u001b[0m Trial 58 finished with value: 0.501508413011472 and parameters: {'n_estimators': 111, 'max_depth': 12, 'min_samples_leaf': 4, 'min_samples_split': 9, 'subsample': 0.42040111561112536}. Best is trial 26 with value: 0.5365611408876576.\u001b[0m\n",
      "\u001b[32m[I 2023-08-24 13:48:05,592]\u001b[0m Trial 59 finished with value: 0.5064356811897331 and parameters: {'n_estimators': 100, 'max_depth': 29, 'min_samples_leaf': 5, 'min_samples_split': 5, 'subsample': 0.34117095529291264}. Best is trial 26 with value: 0.5365611408876576.\u001b[0m\n",
      "\u001b[32m[I 2023-08-24 13:48:06,194]\u001b[0m Trial 60 finished with value: 0.4224360738441434 and parameters: {'n_estimators': 118, 'max_depth': 21, 'min_samples_leaf': 2, 'min_samples_split': 2, 'subsample': 0.1028389094019117}. Best is trial 26 with value: 0.5365611408876576.\u001b[0m\n",
      "\u001b[32m[I 2023-08-24 13:48:08,267]\u001b[0m Trial 61 finished with value: 0.5175411660828005 and parameters: {'n_estimators': 113, 'max_depth': 23, 'min_samples_leaf': 4, 'min_samples_split': 7, 'subsample': 0.4427201968340822}. Best is trial 26 with value: 0.5365611408876576.\u001b[0m\n",
      "\u001b[32m[I 2023-08-24 13:48:10,393]\u001b[0m Trial 62 finished with value: 0.5087827885460058 and parameters: {'n_estimators': 108, 'max_depth': 25, 'min_samples_leaf': 4, 'min_samples_split': 8, 'subsample': 0.48428589978453923}. Best is trial 26 with value: 0.5365611408876576.\u001b[0m\n",
      "\u001b[32m[I 2023-08-24 13:48:12,715]\u001b[0m Trial 63 finished with value: 0.5089138009131478 and parameters: {'n_estimators': 111, 'max_depth': 22, 'min_samples_leaf': 3, 'min_samples_split': 7, 'subsample': 0.4607278336950673}. Best is trial 26 with value: 0.5365611408876576.\u001b[0m\n",
      "\u001b[32m[I 2023-08-24 13:48:14,287]\u001b[0m Trial 64 finished with value: 0.5150063090223721 and parameters: {'n_estimators': 104, 'max_depth': 28, 'min_samples_leaf': 4, 'min_samples_split': 6, 'subsample': 0.3963238133521799}. Best is trial 26 with value: 0.5365611408876576.\u001b[0m\n",
      "\u001b[32m[I 2023-08-24 13:48:16,096]\u001b[0m Trial 65 finished with value: 0.518621821475279 and parameters: {'n_estimators': 121, 'max_depth': 30, 'min_samples_leaf': 5, 'min_samples_split': 7, 'subsample': 0.41711779160226037}. Best is trial 26 with value: 0.5365611408876576.\u001b[0m\n",
      "\u001b[32m[I 2023-08-24 13:48:17,900]\u001b[0m Trial 66 finished with value: 0.5154398987532577 and parameters: {'n_estimators': 122, 'max_depth': 30, 'min_samples_leaf': 5, 'min_samples_split': 3, 'subsample': 0.41992535191880714}. Best is trial 26 with value: 0.5365611408876576.\u001b[0m\n",
      "\u001b[32m[I 2023-08-24 13:48:19,276]\u001b[0m Trial 67 finished with value: 0.512121572189387 and parameters: {'n_estimators': 117, 'max_depth': 27, 'min_samples_leaf': 6, 'min_samples_split': 4, 'subsample': 0.37324257951983014}. Best is trial 26 with value: 0.5365611408876576.\u001b[0m\n",
      "\u001b[32m[I 2023-08-24 13:48:21,537]\u001b[0m Trial 68 finished with value: 0.5034515100689332 and parameters: {'n_estimators': 165, 'max_depth': 30, 'min_samples_leaf': 5, 'min_samples_split': 3, 'subsample': 0.38753693788618004}. Best is trial 26 with value: 0.5365611408876576.\u001b[0m\n",
      "\u001b[32m[I 2023-08-24 13:48:22,929]\u001b[0m Trial 69 finished with value: 0.4835248196752788 and parameters: {'n_estimators': 129, 'max_depth': 28, 'min_samples_leaf': 9, 'min_samples_split': 8, 'subsample': 0.4124936774401949}. Best is trial 26 with value: 0.5365611408876576.\u001b[0m\n",
      "\u001b[32m[I 2023-08-24 13:48:25,713]\u001b[0m Trial 70 finished with value: 0.49232152158440784 and parameters: {'n_estimators': 140, 'max_depth': 26, 'min_samples_leaf': 3, 'min_samples_split': 6, 'subsample': 0.4321075660073316}. Best is trial 26 with value: 0.5365611408876576.\u001b[0m\n",
      "\u001b[32m[I 2023-08-24 13:48:27,506]\u001b[0m Trial 71 finished with value: 0.5074072508621693 and parameters: {'n_estimators': 111, 'max_depth': 23, 'min_samples_leaf': 5, 'min_samples_split': 7, 'subsample': 0.4504364816586329}. Best is trial 26 with value: 0.5365611408876576.\u001b[0m\n",
      "\u001b[32m[I 2023-08-24 13:48:29,679]\u001b[0m Trial 72 finished with value: 0.4840637742663917 and parameters: {'n_estimators': 115, 'max_depth': 19, 'min_samples_leaf': 4, 'min_samples_split': 7, 'subsample': 0.46695582642038524}. Best is trial 26 with value: 0.5365611408876576.\u001b[0m\n",
      "\u001b[32m[I 2023-08-24 13:48:32,105]\u001b[0m Trial 73 finished with value: 0.5108265757260231 and parameters: {'n_estimators': 121, 'max_depth': 20, 'min_samples_leaf': 3, 'min_samples_split': 7, 'subsample': 0.44566600241296817}. Best is trial 26 with value: 0.5365611408876576.\u001b[0m\n",
      "\u001b[32m[I 2023-08-24 13:48:34,796]\u001b[0m Trial 74 finished with value: 0.5270162949727498 and parameters: {'n_estimators': 106, 'max_depth': 24, 'min_samples_leaf': 2, 'min_samples_split': 6, 'subsample': 0.4858363354299631}. Best is trial 26 with value: 0.5365611408876576.\u001b[0m\n",
      "\u001b[32m[I 2023-08-24 13:48:37,399]\u001b[0m Trial 75 finished with value: 0.5203279221298074 and parameters: {'n_estimators': 107, 'max_depth': 29, 'min_samples_leaf': 2, 'min_samples_split': 6, 'subsample': 0.475501440943655}. Best is trial 26 with value: 0.5365611408876576.\u001b[0m\n",
      "\u001b[32m[I 2023-08-24 13:48:40,389]\u001b[0m Trial 76 finished with value: 0.5421973825852191 and parameters: {'n_estimators': 106, 'max_depth': 29, 'min_samples_leaf': 1, 'min_samples_split': 6, 'subsample': 0.4838414727787746}. Best is trial 76 with value: 0.5421973825852191.\u001b[0m\n",
      "\u001b[32m[I 2023-08-24 13:48:43,497]\u001b[0m Trial 77 finished with value: 0.5102615436321868 and parameters: {'n_estimators': 105, 'max_depth': 29, 'min_samples_leaf': 1, 'min_samples_split': 5, 'subsample': 0.4874955493308467}. Best is trial 76 with value: 0.5421973825852191.\u001b[0m\n",
      "\u001b[32m[I 2023-08-24 13:48:46,123]\u001b[0m Trial 78 finished with value: 0.5276542861594951 and parameters: {'n_estimators': 102, 'max_depth': 27, 'min_samples_leaf': 2, 'min_samples_split': 6, 'subsample': 0.4982780607329361}. Best is trial 76 with value: 0.5421973825852191.\u001b[0m\n",
      "\u001b[32m[I 2023-08-24 13:48:48,527]\u001b[0m Trial 79 finished with value: 0.5131105145490442 and parameters: {'n_estimators': 100, 'max_depth': 27, 'min_samples_leaf': 2, 'min_samples_split': 6, 'subsample': 0.47747558874345897}. Best is trial 76 with value: 0.5421973825852191.\u001b[0m\n",
      "\u001b[32m[I 2023-08-24 13:48:53,144]\u001b[0m Trial 80 finished with value: 0.5265567265743396 and parameters: {'n_estimators': 148, 'max_depth': 25, 'min_samples_leaf': 1, 'min_samples_split': 5, 'subsample': 0.4912098866235968}. Best is trial 76 with value: 0.5421973825852191.\u001b[0m\n",
      "\u001b[32m[I 2023-08-24 13:48:57,844]\u001b[0m Trial 81 finished with value: 0.5163935881847855 and parameters: {'n_estimators': 148, 'max_depth': 28, 'min_samples_leaf': 1, 'min_samples_split': 5, 'subsample': 0.49876129202522973}. Best is trial 76 with value: 0.5421973825852191.\u001b[0m\n",
      "\u001b[32m[I 2023-08-24 13:49:02,413]\u001b[0m Trial 82 finished with value: 0.5334206970564126 and parameters: {'n_estimators': 155, 'max_depth': 24, 'min_samples_leaf': 1, 'min_samples_split': 6, 'subsample': 0.4853740313105272}. Best is trial 76 with value: 0.5421973825852191.\u001b[0m\n",
      "\u001b[32m[I 2023-08-24 13:49:07,265]\u001b[0m Trial 83 finished with value: 0.5203493009897582 and parameters: {'n_estimators': 154, 'max_depth': 25, 'min_samples_leaf': 1, 'min_samples_split': 5, 'subsample': 0.49962661429175365}. Best is trial 76 with value: 0.5421973825852191.\u001b[0m\n",
      "\u001b[32m[I 2023-08-24 13:49:11,940]\u001b[0m Trial 84 finished with value: 0.5151045697190829 and parameters: {'n_estimators': 157, 'max_depth': 25, 'min_samples_leaf': 1, 'min_samples_split': 6, 'subsample': 0.4873514177181089}. Best is trial 76 with value: 0.5421973825852191.\u001b[0m\n",
      "\u001b[32m[I 2023-08-24 13:49:16,399]\u001b[0m Trial 85 finished with value: 0.526489452105241 and parameters: {'n_estimators': 151, 'max_depth': 24, 'min_samples_leaf': 1, 'min_samples_split': 5, 'subsample': 0.46895701044654303}. Best is trial 76 with value: 0.5421973825852191.\u001b[0m\n",
      "\u001b[32m[I 2023-08-24 13:49:21,211]\u001b[0m Trial 86 finished with value: 0.5053263521236018 and parameters: {'n_estimators': 164, 'max_depth': 26, 'min_samples_leaf': 1, 'min_samples_split': 5, 'subsample': 0.4674583560476941}. Best is trial 76 with value: 0.5421973825852191.\u001b[0m\n",
      "\u001b[32m[I 2023-08-24 13:49:26,017]\u001b[0m Trial 87 finished with value: 0.5295805204712288 and parameters: {'n_estimators': 161, 'max_depth': 24, 'min_samples_leaf': 1, 'min_samples_split': 6, 'subsample': 0.4860276512130021}. Best is trial 76 with value: 0.5421973825852191.\u001b[0m\n",
      "\u001b[32m[I 2023-08-24 13:49:30,608]\u001b[0m Trial 88 finished with value: 0.5296358753883644 and parameters: {'n_estimators': 155, 'max_depth': 24, 'min_samples_leaf': 1, 'min_samples_split': 6, 'subsample': 0.4868612308373865}. Best is trial 76 with value: 0.5421973825852191.\u001b[0m\n",
      "\u001b[32m[I 2023-08-24 13:49:35,411]\u001b[0m Trial 89 finished with value: 0.5295491807906049 and parameters: {'n_estimators': 162, 'max_depth': 24, 'min_samples_leaf': 1, 'min_samples_split': 6, 'subsample': 0.4864217876647762}. Best is trial 76 with value: 0.5421973825852191.\u001b[0m\n",
      "\u001b[32m[I 2023-08-24 13:49:40,133]\u001b[0m Trial 90 finished with value: 0.5230611238874417 and parameters: {'n_estimators': 162, 'max_depth': 22, 'min_samples_leaf': 1, 'min_samples_split': 6, 'subsample': 0.48403612259518836}. Best is trial 76 with value: 0.5421973825852191.\u001b[0m\n",
      "\u001b[32m[I 2023-08-24 13:49:45,276]\u001b[0m Trial 91 finished with value: 0.5091111014032209 and parameters: {'n_estimators': 171, 'max_depth': 24, 'min_samples_leaf': 1, 'min_samples_split': 6, 'subsample': 0.4891278561099389}. Best is trial 76 with value: 0.5421973825852191.\u001b[0m\n",
      "\u001b[32m[I 2023-08-24 13:49:50,001]\u001b[0m Trial 92 finished with value: 0.4929302497523551 and parameters: {'n_estimators': 169, 'max_depth': 24, 'min_samples_leaf': 1, 'min_samples_split': 6, 'subsample': 0.4577500258039911}. Best is trial 76 with value: 0.5421973825852191.\u001b[0m\n",
      "\u001b[32m[I 2023-08-24 13:49:54,955]\u001b[0m Trial 93 finished with value: 0.5085793227131246 and parameters: {'n_estimators': 159, 'max_depth': 27, 'min_samples_leaf': 1, 'min_samples_split': 6, 'subsample': 0.4935821936728341}. Best is trial 76 with value: 0.5421973825852191.\u001b[0m\n",
      "\u001b[32m[I 2023-08-24 13:49:59,368]\u001b[0m Trial 94 finished with value: 0.5124067260281309 and parameters: {'n_estimators': 144, 'max_depth': 25, 'min_samples_leaf': 1, 'min_samples_split': 6, 'subsample': 0.49847037231317765}. Best is trial 76 with value: 0.5421973825852191.\u001b[0m\n",
      "\u001b[32m[I 2023-08-24 13:50:03,324]\u001b[0m Trial 95 finished with value: 0.5170875470058387 and parameters: {'n_estimators': 152, 'max_depth': 22, 'min_samples_leaf': 2, 'min_samples_split': 6, 'subsample': 0.48213096587913323}. Best is trial 76 with value: 0.5421973825852191.\u001b[0m\n",
      "\u001b[32m[I 2023-08-24 13:50:07,283]\u001b[0m Trial 96 finished with value: 0.5049807095032385 and parameters: {'n_estimators': 156, 'max_depth': 26, 'min_samples_leaf': 2, 'min_samples_split': 6, 'subsample': 0.46635396811242585}. Best is trial 76 with value: 0.5421973825852191.\u001b[0m\n",
      "\u001b[32m[I 2023-08-24 13:50:11,432]\u001b[0m Trial 97 finished with value: 0.5046196845904044 and parameters: {'n_estimators': 148, 'max_depth': 21, 'min_samples_leaf': 1, 'min_samples_split': 6, 'subsample': 0.47543739196898}. Best is trial 76 with value: 0.5421973825852191.\u001b[0m\n",
      "\u001b[32m[I 2023-08-24 13:50:13,749]\u001b[0m Trial 98 finished with value: 0.47617772730706615 and parameters: {'n_estimators': 161, 'max_depth': 25, 'min_samples_leaf': 2, 'min_samples_split': 5, 'subsample': 0.29731972938438944}. Best is trial 76 with value: 0.5421973825852191.\u001b[0m\n",
      "\u001b[32m[I 2023-08-24 13:50:17,981]\u001b[0m Trial 99 finished with value: 0.514427800210021 and parameters: {'n_estimators': 154, 'max_depth': 24, 'min_samples_leaf': 1, 'min_samples_split': 6, 'subsample': 0.4568916251194644}. Best is trial 76 with value: 0.5421973825852191.\u001b[0m\n"
     ]
    },
    {
     "name": "stdout",
     "output_type": "stream",
     "text": [
      "Best r2:  0.5421973825852191\n",
      "Best trial: {'n_estimators': 106, 'max_depth': 29, 'min_samples_leaf': 1, 'min_samples_split': 6, 'subsample': 0.4838414727787746}\n"
     ]
    }
   ],
   "source": [
    "sampler = TPESampler()\n",
    "study = optuna.create_study(\n",
    "    study_name=\"gb_parameter_opt\",\n",
    "    direction=\"maximize\",\n",
    "    sampler=sampler,\n",
    ")\n",
    "\n",
    "study.optimize(lambda trial : objectiveGB(trial, As_X_train, As_y_train), n_trials=100)\n",
    "print(\"Best r2: \", study.best_value)\n",
    "print(\"Best trial:\", study.best_trial.params)"
   ]
  },
  {
   "cell_type": "code",
   "execution_count": 27,
   "id": "8ec7571f",
   "metadata": {},
   "outputs": [
    {
     "data": {
      "application/vnd.plotly.v1+json": {
       "config": {
        "plotlyServerURL": "https://plot.ly"
       },
       "data": [
        {
         "mode": "markers",
         "name": "Objective Value",
         "type": "scatter",
         "x": [
          0,
          1,
          2,
          3,
          4,
          5,
          6,
          7,
          8,
          9,
          10,
          11,
          12,
          13,
          14,
          15,
          16,
          17,
          18,
          19,
          20,
          21,
          22,
          23,
          24,
          25,
          26,
          27,
          28,
          29,
          30,
          31,
          32,
          33,
          34,
          35,
          36,
          37,
          38,
          39,
          40,
          41,
          42,
          43,
          44,
          45,
          46,
          47,
          48,
          49,
          50,
          51,
          52,
          53,
          54,
          55,
          56,
          57,
          58,
          59,
          60,
          61,
          62,
          63,
          64,
          65,
          66,
          67,
          68,
          69,
          70,
          71,
          72,
          73,
          74,
          75,
          76,
          77,
          78,
          79,
          80,
          81,
          82,
          83,
          84,
          85,
          86,
          87,
          88,
          89,
          90,
          91,
          92,
          93,
          94,
          95,
          96,
          97,
          98,
          99
         ],
         "y": [
          0.5145446205961415,
          0.4908277424136596,
          0.5054402237725705,
          0.49168323115355095,
          0.5270033160371544,
          0.4843511858649319,
          0.49840686011231483,
          0.47008695115651766,
          0.4587753709617277,
          0.5077359620044637,
          0.5150908474565223,
          0.5055105458072727,
          0.5085228985304063,
          0.5012862997106253,
          0.5160823424481168,
          0.4688211488285642,
          0.5174618900606097,
          0.4968990850536715,
          0.505064172811579,
          0.5027697220381355,
          0.4741467363236581,
          0.5142834550451079,
          0.5055403638288462,
          0.5190811261121334,
          0.5178941725506967,
          0.4865383322911141,
          0.5365611408876576,
          0.5079513588958188,
          0.5224158838954777,
          0.5137806499054317,
          0.5096162497764192,
          0.49705656828474354,
          0.5185059793124756,
          0.4949132089474507,
          0.49982092347394086,
          0.5095469214700135,
          0.4737598272526067,
          0.47467637155339737,
          0.5151568466610151,
          0.5147795629308904,
          0.5236170537872968,
          0.5102258113639782,
          0.49827258010773245,
          0.5163678574536599,
          0.501950936385591,
          0.5146248929466467,
          0.45592388686740276,
          0.5183399155041919,
          0.5020007373909966,
          0.49117269620469395,
          0.48990617308332063,
          0.5183402919160047,
          0.5131041167152037,
          0.5119697154159193,
          0.4768621040311306,
          0.5064562909861429,
          0.5132447716213109,
          0.5001882319097856,
          0.501508413011472,
          0.5064356811897331,
          0.4224360738441434,
          0.5175411660828005,
          0.5087827885460058,
          0.5089138009131478,
          0.5150063090223721,
          0.518621821475279,
          0.5154398987532577,
          0.512121572189387,
          0.5034515100689332,
          0.4835248196752788,
          0.49232152158440784,
          0.5074072508621693,
          0.4840637742663917,
          0.5108265757260231,
          0.5270162949727498,
          0.5203279221298074,
          0.5421973825852191,
          0.5102615436321868,
          0.5276542861594951,
          0.5131105145490442,
          0.5265567265743396,
          0.5163935881847855,
          0.5334206970564126,
          0.5203493009897582,
          0.5151045697190829,
          0.526489452105241,
          0.5053263521236018,
          0.5295805204712288,
          0.5296358753883644,
          0.5295491807906049,
          0.5230611238874417,
          0.5091111014032209,
          0.4929302497523551,
          0.5085793227131246,
          0.5124067260281309,
          0.5170875470058387,
          0.5049807095032385,
          0.5046196845904044,
          0.47617772730706615,
          0.514427800210021
         ]
        },
        {
         "name": "Best Value",
         "type": "scatter",
         "x": [
          0,
          1,
          2,
          3,
          4,
          5,
          6,
          7,
          8,
          9,
          10,
          11,
          12,
          13,
          14,
          15,
          16,
          17,
          18,
          19,
          20,
          21,
          22,
          23,
          24,
          25,
          26,
          27,
          28,
          29,
          30,
          31,
          32,
          33,
          34,
          35,
          36,
          37,
          38,
          39,
          40,
          41,
          42,
          43,
          44,
          45,
          46,
          47,
          48,
          49,
          50,
          51,
          52,
          53,
          54,
          55,
          56,
          57,
          58,
          59,
          60,
          61,
          62,
          63,
          64,
          65,
          66,
          67,
          68,
          69,
          70,
          71,
          72,
          73,
          74,
          75,
          76,
          77,
          78,
          79,
          80,
          81,
          82,
          83,
          84,
          85,
          86,
          87,
          88,
          89,
          90,
          91,
          92,
          93,
          94,
          95,
          96,
          97,
          98,
          99
         ],
         "y": [
          0.5145446205961415,
          0.5145446205961415,
          0.5145446205961415,
          0.5145446205961415,
          0.5270033160371544,
          0.5270033160371544,
          0.5270033160371544,
          0.5270033160371544,
          0.5270033160371544,
          0.5270033160371544,
          0.5270033160371544,
          0.5270033160371544,
          0.5270033160371544,
          0.5270033160371544,
          0.5270033160371544,
          0.5270033160371544,
          0.5270033160371544,
          0.5270033160371544,
          0.5270033160371544,
          0.5270033160371544,
          0.5270033160371544,
          0.5270033160371544,
          0.5270033160371544,
          0.5270033160371544,
          0.5270033160371544,
          0.5270033160371544,
          0.5365611408876576,
          0.5365611408876576,
          0.5365611408876576,
          0.5365611408876576,
          0.5365611408876576,
          0.5365611408876576,
          0.5365611408876576,
          0.5365611408876576,
          0.5365611408876576,
          0.5365611408876576,
          0.5365611408876576,
          0.5365611408876576,
          0.5365611408876576,
          0.5365611408876576,
          0.5365611408876576,
          0.5365611408876576,
          0.5365611408876576,
          0.5365611408876576,
          0.5365611408876576,
          0.5365611408876576,
          0.5365611408876576,
          0.5365611408876576,
          0.5365611408876576,
          0.5365611408876576,
          0.5365611408876576,
          0.5365611408876576,
          0.5365611408876576,
          0.5365611408876576,
          0.5365611408876576,
          0.5365611408876576,
          0.5365611408876576,
          0.5365611408876576,
          0.5365611408876576,
          0.5365611408876576,
          0.5365611408876576,
          0.5365611408876576,
          0.5365611408876576,
          0.5365611408876576,
          0.5365611408876576,
          0.5365611408876576,
          0.5365611408876576,
          0.5365611408876576,
          0.5365611408876576,
          0.5365611408876576,
          0.5365611408876576,
          0.5365611408876576,
          0.5365611408876576,
          0.5365611408876576,
          0.5365611408876576,
          0.5365611408876576,
          0.5421973825852191,
          0.5421973825852191,
          0.5421973825852191,
          0.5421973825852191,
          0.5421973825852191,
          0.5421973825852191,
          0.5421973825852191,
          0.5421973825852191,
          0.5421973825852191,
          0.5421973825852191,
          0.5421973825852191,
          0.5421973825852191,
          0.5421973825852191,
          0.5421973825852191,
          0.5421973825852191,
          0.5421973825852191,
          0.5421973825852191,
          0.5421973825852191,
          0.5421973825852191,
          0.5421973825852191,
          0.5421973825852191,
          0.5421973825852191,
          0.5421973825852191,
          0.5421973825852191
         ]
        }
       ],
       "layout": {
        "template": {
         "data": {
          "bar": [
           {
            "error_x": {
             "color": "#2a3f5f"
            },
            "error_y": {
             "color": "#2a3f5f"
            },
            "marker": {
             "line": {
              "color": "#E5ECF6",
              "width": 0.5
             },
             "pattern": {
              "fillmode": "overlay",
              "size": 10,
              "solidity": 0.2
             }
            },
            "type": "bar"
           }
          ],
          "barpolar": [
           {
            "marker": {
             "line": {
              "color": "#E5ECF6",
              "width": 0.5
             },
             "pattern": {
              "fillmode": "overlay",
              "size": 10,
              "solidity": 0.2
             }
            },
            "type": "barpolar"
           }
          ],
          "carpet": [
           {
            "aaxis": {
             "endlinecolor": "#2a3f5f",
             "gridcolor": "white",
             "linecolor": "white",
             "minorgridcolor": "white",
             "startlinecolor": "#2a3f5f"
            },
            "baxis": {
             "endlinecolor": "#2a3f5f",
             "gridcolor": "white",
             "linecolor": "white",
             "minorgridcolor": "white",
             "startlinecolor": "#2a3f5f"
            },
            "type": "carpet"
           }
          ],
          "choropleth": [
           {
            "colorbar": {
             "outlinewidth": 0,
             "ticks": ""
            },
            "type": "choropleth"
           }
          ],
          "contour": [
           {
            "colorbar": {
             "outlinewidth": 0,
             "ticks": ""
            },
            "colorscale": [
             [
              0,
              "#0d0887"
             ],
             [
              0.1111111111111111,
              "#46039f"
             ],
             [
              0.2222222222222222,
              "#7201a8"
             ],
             [
              0.3333333333333333,
              "#9c179e"
             ],
             [
              0.4444444444444444,
              "#bd3786"
             ],
             [
              0.5555555555555556,
              "#d8576b"
             ],
             [
              0.6666666666666666,
              "#ed7953"
             ],
             [
              0.7777777777777778,
              "#fb9f3a"
             ],
             [
              0.8888888888888888,
              "#fdca26"
             ],
             [
              1,
              "#f0f921"
             ]
            ],
            "type": "contour"
           }
          ],
          "contourcarpet": [
           {
            "colorbar": {
             "outlinewidth": 0,
             "ticks": ""
            },
            "type": "contourcarpet"
           }
          ],
          "heatmap": [
           {
            "colorbar": {
             "outlinewidth": 0,
             "ticks": ""
            },
            "colorscale": [
             [
              0,
              "#0d0887"
             ],
             [
              0.1111111111111111,
              "#46039f"
             ],
             [
              0.2222222222222222,
              "#7201a8"
             ],
             [
              0.3333333333333333,
              "#9c179e"
             ],
             [
              0.4444444444444444,
              "#bd3786"
             ],
             [
              0.5555555555555556,
              "#d8576b"
             ],
             [
              0.6666666666666666,
              "#ed7953"
             ],
             [
              0.7777777777777778,
              "#fb9f3a"
             ],
             [
              0.8888888888888888,
              "#fdca26"
             ],
             [
              1,
              "#f0f921"
             ]
            ],
            "type": "heatmap"
           }
          ],
          "heatmapgl": [
           {
            "colorbar": {
             "outlinewidth": 0,
             "ticks": ""
            },
            "colorscale": [
             [
              0,
              "#0d0887"
             ],
             [
              0.1111111111111111,
              "#46039f"
             ],
             [
              0.2222222222222222,
              "#7201a8"
             ],
             [
              0.3333333333333333,
              "#9c179e"
             ],
             [
              0.4444444444444444,
              "#bd3786"
             ],
             [
              0.5555555555555556,
              "#d8576b"
             ],
             [
              0.6666666666666666,
              "#ed7953"
             ],
             [
              0.7777777777777778,
              "#fb9f3a"
             ],
             [
              0.8888888888888888,
              "#fdca26"
             ],
             [
              1,
              "#f0f921"
             ]
            ],
            "type": "heatmapgl"
           }
          ],
          "histogram": [
           {
            "marker": {
             "pattern": {
              "fillmode": "overlay",
              "size": 10,
              "solidity": 0.2
             }
            },
            "type": "histogram"
           }
          ],
          "histogram2d": [
           {
            "colorbar": {
             "outlinewidth": 0,
             "ticks": ""
            },
            "colorscale": [
             [
              0,
              "#0d0887"
             ],
             [
              0.1111111111111111,
              "#46039f"
             ],
             [
              0.2222222222222222,
              "#7201a8"
             ],
             [
              0.3333333333333333,
              "#9c179e"
             ],
             [
              0.4444444444444444,
              "#bd3786"
             ],
             [
              0.5555555555555556,
              "#d8576b"
             ],
             [
              0.6666666666666666,
              "#ed7953"
             ],
             [
              0.7777777777777778,
              "#fb9f3a"
             ],
             [
              0.8888888888888888,
              "#fdca26"
             ],
             [
              1,
              "#f0f921"
             ]
            ],
            "type": "histogram2d"
           }
          ],
          "histogram2dcontour": [
           {
            "colorbar": {
             "outlinewidth": 0,
             "ticks": ""
            },
            "colorscale": [
             [
              0,
              "#0d0887"
             ],
             [
              0.1111111111111111,
              "#46039f"
             ],
             [
              0.2222222222222222,
              "#7201a8"
             ],
             [
              0.3333333333333333,
              "#9c179e"
             ],
             [
              0.4444444444444444,
              "#bd3786"
             ],
             [
              0.5555555555555556,
              "#d8576b"
             ],
             [
              0.6666666666666666,
              "#ed7953"
             ],
             [
              0.7777777777777778,
              "#fb9f3a"
             ],
             [
              0.8888888888888888,
              "#fdca26"
             ],
             [
              1,
              "#f0f921"
             ]
            ],
            "type": "histogram2dcontour"
           }
          ],
          "mesh3d": [
           {
            "colorbar": {
             "outlinewidth": 0,
             "ticks": ""
            },
            "type": "mesh3d"
           }
          ],
          "parcoords": [
           {
            "line": {
             "colorbar": {
              "outlinewidth": 0,
              "ticks": ""
             }
            },
            "type": "parcoords"
           }
          ],
          "pie": [
           {
            "automargin": true,
            "type": "pie"
           }
          ],
          "scatter": [
           {
            "marker": {
             "colorbar": {
              "outlinewidth": 0,
              "ticks": ""
             }
            },
            "type": "scatter"
           }
          ],
          "scatter3d": [
           {
            "line": {
             "colorbar": {
              "outlinewidth": 0,
              "ticks": ""
             }
            },
            "marker": {
             "colorbar": {
              "outlinewidth": 0,
              "ticks": ""
             }
            },
            "type": "scatter3d"
           }
          ],
          "scattercarpet": [
           {
            "marker": {
             "colorbar": {
              "outlinewidth": 0,
              "ticks": ""
             }
            },
            "type": "scattercarpet"
           }
          ],
          "scattergeo": [
           {
            "marker": {
             "colorbar": {
              "outlinewidth": 0,
              "ticks": ""
             }
            },
            "type": "scattergeo"
           }
          ],
          "scattergl": [
           {
            "marker": {
             "colorbar": {
              "outlinewidth": 0,
              "ticks": ""
             }
            },
            "type": "scattergl"
           }
          ],
          "scattermapbox": [
           {
            "marker": {
             "colorbar": {
              "outlinewidth": 0,
              "ticks": ""
             }
            },
            "type": "scattermapbox"
           }
          ],
          "scatterpolar": [
           {
            "marker": {
             "colorbar": {
              "outlinewidth": 0,
              "ticks": ""
             }
            },
            "type": "scatterpolar"
           }
          ],
          "scatterpolargl": [
           {
            "marker": {
             "colorbar": {
              "outlinewidth": 0,
              "ticks": ""
             }
            },
            "type": "scatterpolargl"
           }
          ],
          "scatterternary": [
           {
            "marker": {
             "colorbar": {
              "outlinewidth": 0,
              "ticks": ""
             }
            },
            "type": "scatterternary"
           }
          ],
          "surface": [
           {
            "colorbar": {
             "outlinewidth": 0,
             "ticks": ""
            },
            "colorscale": [
             [
              0,
              "#0d0887"
             ],
             [
              0.1111111111111111,
              "#46039f"
             ],
             [
              0.2222222222222222,
              "#7201a8"
             ],
             [
              0.3333333333333333,
              "#9c179e"
             ],
             [
              0.4444444444444444,
              "#bd3786"
             ],
             [
              0.5555555555555556,
              "#d8576b"
             ],
             [
              0.6666666666666666,
              "#ed7953"
             ],
             [
              0.7777777777777778,
              "#fb9f3a"
             ],
             [
              0.8888888888888888,
              "#fdca26"
             ],
             [
              1,
              "#f0f921"
             ]
            ],
            "type": "surface"
           }
          ],
          "table": [
           {
            "cells": {
             "fill": {
              "color": "#EBF0F8"
             },
             "line": {
              "color": "white"
             }
            },
            "header": {
             "fill": {
              "color": "#C8D4E3"
             },
             "line": {
              "color": "white"
             }
            },
            "type": "table"
           }
          ]
         },
         "layout": {
          "annotationdefaults": {
           "arrowcolor": "#2a3f5f",
           "arrowhead": 0,
           "arrowwidth": 1
          },
          "autotypenumbers": "strict",
          "coloraxis": {
           "colorbar": {
            "outlinewidth": 0,
            "ticks": ""
           }
          },
          "colorscale": {
           "diverging": [
            [
             0,
             "#8e0152"
            ],
            [
             0.1,
             "#c51b7d"
            ],
            [
             0.2,
             "#de77ae"
            ],
            [
             0.3,
             "#f1b6da"
            ],
            [
             0.4,
             "#fde0ef"
            ],
            [
             0.5,
             "#f7f7f7"
            ],
            [
             0.6,
             "#e6f5d0"
            ],
            [
             0.7,
             "#b8e186"
            ],
            [
             0.8,
             "#7fbc41"
            ],
            [
             0.9,
             "#4d9221"
            ],
            [
             1,
             "#276419"
            ]
           ],
           "sequential": [
            [
             0,
             "#0d0887"
            ],
            [
             0.1111111111111111,
             "#46039f"
            ],
            [
             0.2222222222222222,
             "#7201a8"
            ],
            [
             0.3333333333333333,
             "#9c179e"
            ],
            [
             0.4444444444444444,
             "#bd3786"
            ],
            [
             0.5555555555555556,
             "#d8576b"
            ],
            [
             0.6666666666666666,
             "#ed7953"
            ],
            [
             0.7777777777777778,
             "#fb9f3a"
            ],
            [
             0.8888888888888888,
             "#fdca26"
            ],
            [
             1,
             "#f0f921"
            ]
           ],
           "sequentialminus": [
            [
             0,
             "#0d0887"
            ],
            [
             0.1111111111111111,
             "#46039f"
            ],
            [
             0.2222222222222222,
             "#7201a8"
            ],
            [
             0.3333333333333333,
             "#9c179e"
            ],
            [
             0.4444444444444444,
             "#bd3786"
            ],
            [
             0.5555555555555556,
             "#d8576b"
            ],
            [
             0.6666666666666666,
             "#ed7953"
            ],
            [
             0.7777777777777778,
             "#fb9f3a"
            ],
            [
             0.8888888888888888,
             "#fdca26"
            ],
            [
             1,
             "#f0f921"
            ]
           ]
          },
          "colorway": [
           "#636efa",
           "#EF553B",
           "#00cc96",
           "#ab63fa",
           "#FFA15A",
           "#19d3f3",
           "#FF6692",
           "#B6E880",
           "#FF97FF",
           "#FECB52"
          ],
          "font": {
           "color": "#2a3f5f"
          },
          "geo": {
           "bgcolor": "white",
           "lakecolor": "white",
           "landcolor": "#E5ECF6",
           "showlakes": true,
           "showland": true,
           "subunitcolor": "white"
          },
          "hoverlabel": {
           "align": "left"
          },
          "hovermode": "closest",
          "mapbox": {
           "style": "light"
          },
          "paper_bgcolor": "white",
          "plot_bgcolor": "#E5ECF6",
          "polar": {
           "angularaxis": {
            "gridcolor": "white",
            "linecolor": "white",
            "ticks": ""
           },
           "bgcolor": "#E5ECF6",
           "radialaxis": {
            "gridcolor": "white",
            "linecolor": "white",
            "ticks": ""
           }
          },
          "scene": {
           "xaxis": {
            "backgroundcolor": "#E5ECF6",
            "gridcolor": "white",
            "gridwidth": 2,
            "linecolor": "white",
            "showbackground": true,
            "ticks": "",
            "zerolinecolor": "white"
           },
           "yaxis": {
            "backgroundcolor": "#E5ECF6",
            "gridcolor": "white",
            "gridwidth": 2,
            "linecolor": "white",
            "showbackground": true,
            "ticks": "",
            "zerolinecolor": "white"
           },
           "zaxis": {
            "backgroundcolor": "#E5ECF6",
            "gridcolor": "white",
            "gridwidth": 2,
            "linecolor": "white",
            "showbackground": true,
            "ticks": "",
            "zerolinecolor": "white"
           }
          },
          "shapedefaults": {
           "line": {
            "color": "#2a3f5f"
           }
          },
          "ternary": {
           "aaxis": {
            "gridcolor": "white",
            "linecolor": "white",
            "ticks": ""
           },
           "baxis": {
            "gridcolor": "white",
            "linecolor": "white",
            "ticks": ""
           },
           "bgcolor": "#E5ECF6",
           "caxis": {
            "gridcolor": "white",
            "linecolor": "white",
            "ticks": ""
           }
          },
          "title": {
           "x": 0.05
          },
          "xaxis": {
           "automargin": true,
           "gridcolor": "white",
           "linecolor": "white",
           "ticks": "",
           "title": {
            "standoff": 15
           },
           "zerolinecolor": "white",
           "zerolinewidth": 2
          },
          "yaxis": {
           "automargin": true,
           "gridcolor": "white",
           "linecolor": "white",
           "ticks": "",
           "title": {
            "standoff": 15
           },
           "zerolinecolor": "white",
           "zerolinewidth": 2
          }
         }
        },
        "title": {
         "text": "Optimization History Plot"
        },
        "xaxis": {
         "title": {
          "text": "#Trials"
         }
        },
        "yaxis": {
         "title": {
          "text": "Objective Value"
         }
        }
       }
      }
     },
     "metadata": {},
     "output_type": "display_data"
    }
   ],
   "source": [
    "optuna.visualization.plot_optimization_history(study)"
   ]
  },
  {
   "cell_type": "code",
   "execution_count": 28,
   "id": "1f8e15f7",
   "metadata": {},
   "outputs": [
    {
     "data": {
      "application/vnd.plotly.v1+json": {
       "config": {
        "plotlyServerURL": "https://plot.ly"
       },
       "data": [
        {
         "cliponaxis": false,
         "hovertemplate": [
          "min_samples_leaf (IntUniformDistribution): 0.01563570152789406<extra></extra>",
          "max_depth (IntUniformDistribution): 0.029942887659747758<extra></extra>",
          "n_estimators (IntUniformDistribution): 0.03129688126734955<extra></extra>",
          "min_samples_split (IntUniformDistribution): 0.06721176167108037<extra></extra>",
          "subsample (UniformDistribution): 0.8559127678739282<extra></extra>"
         ],
         "marker": {
          "color": "rgb(66,146,198)"
         },
         "orientation": "h",
         "text": [
          "0.01563570152789406",
          "0.029942887659747758",
          "0.03129688126734955",
          "0.06721176167108037",
          "0.8559127678739282"
         ],
         "textposition": "outside",
         "texttemplate": "%{text:.2f}",
         "type": "bar",
         "x": [
          0.01563570152789406,
          0.029942887659747758,
          0.03129688126734955,
          0.06721176167108037,
          0.8559127678739282
         ],
         "y": [
          "min_samples_leaf",
          "max_depth",
          "n_estimators",
          "min_samples_split",
          "subsample"
         ]
        }
       ],
       "layout": {
        "showlegend": false,
        "template": {
         "data": {
          "bar": [
           {
            "error_x": {
             "color": "#2a3f5f"
            },
            "error_y": {
             "color": "#2a3f5f"
            },
            "marker": {
             "line": {
              "color": "#E5ECF6",
              "width": 0.5
             },
             "pattern": {
              "fillmode": "overlay",
              "size": 10,
              "solidity": 0.2
             }
            },
            "type": "bar"
           }
          ],
          "barpolar": [
           {
            "marker": {
             "line": {
              "color": "#E5ECF6",
              "width": 0.5
             },
             "pattern": {
              "fillmode": "overlay",
              "size": 10,
              "solidity": 0.2
             }
            },
            "type": "barpolar"
           }
          ],
          "carpet": [
           {
            "aaxis": {
             "endlinecolor": "#2a3f5f",
             "gridcolor": "white",
             "linecolor": "white",
             "minorgridcolor": "white",
             "startlinecolor": "#2a3f5f"
            },
            "baxis": {
             "endlinecolor": "#2a3f5f",
             "gridcolor": "white",
             "linecolor": "white",
             "minorgridcolor": "white",
             "startlinecolor": "#2a3f5f"
            },
            "type": "carpet"
           }
          ],
          "choropleth": [
           {
            "colorbar": {
             "outlinewidth": 0,
             "ticks": ""
            },
            "type": "choropleth"
           }
          ],
          "contour": [
           {
            "colorbar": {
             "outlinewidth": 0,
             "ticks": ""
            },
            "colorscale": [
             [
              0,
              "#0d0887"
             ],
             [
              0.1111111111111111,
              "#46039f"
             ],
             [
              0.2222222222222222,
              "#7201a8"
             ],
             [
              0.3333333333333333,
              "#9c179e"
             ],
             [
              0.4444444444444444,
              "#bd3786"
             ],
             [
              0.5555555555555556,
              "#d8576b"
             ],
             [
              0.6666666666666666,
              "#ed7953"
             ],
             [
              0.7777777777777778,
              "#fb9f3a"
             ],
             [
              0.8888888888888888,
              "#fdca26"
             ],
             [
              1,
              "#f0f921"
             ]
            ],
            "type": "contour"
           }
          ],
          "contourcarpet": [
           {
            "colorbar": {
             "outlinewidth": 0,
             "ticks": ""
            },
            "type": "contourcarpet"
           }
          ],
          "heatmap": [
           {
            "colorbar": {
             "outlinewidth": 0,
             "ticks": ""
            },
            "colorscale": [
             [
              0,
              "#0d0887"
             ],
             [
              0.1111111111111111,
              "#46039f"
             ],
             [
              0.2222222222222222,
              "#7201a8"
             ],
             [
              0.3333333333333333,
              "#9c179e"
             ],
             [
              0.4444444444444444,
              "#bd3786"
             ],
             [
              0.5555555555555556,
              "#d8576b"
             ],
             [
              0.6666666666666666,
              "#ed7953"
             ],
             [
              0.7777777777777778,
              "#fb9f3a"
             ],
             [
              0.8888888888888888,
              "#fdca26"
             ],
             [
              1,
              "#f0f921"
             ]
            ],
            "type": "heatmap"
           }
          ],
          "heatmapgl": [
           {
            "colorbar": {
             "outlinewidth": 0,
             "ticks": ""
            },
            "colorscale": [
             [
              0,
              "#0d0887"
             ],
             [
              0.1111111111111111,
              "#46039f"
             ],
             [
              0.2222222222222222,
              "#7201a8"
             ],
             [
              0.3333333333333333,
              "#9c179e"
             ],
             [
              0.4444444444444444,
              "#bd3786"
             ],
             [
              0.5555555555555556,
              "#d8576b"
             ],
             [
              0.6666666666666666,
              "#ed7953"
             ],
             [
              0.7777777777777778,
              "#fb9f3a"
             ],
             [
              0.8888888888888888,
              "#fdca26"
             ],
             [
              1,
              "#f0f921"
             ]
            ],
            "type": "heatmapgl"
           }
          ],
          "histogram": [
           {
            "marker": {
             "pattern": {
              "fillmode": "overlay",
              "size": 10,
              "solidity": 0.2
             }
            },
            "type": "histogram"
           }
          ],
          "histogram2d": [
           {
            "colorbar": {
             "outlinewidth": 0,
             "ticks": ""
            },
            "colorscale": [
             [
              0,
              "#0d0887"
             ],
             [
              0.1111111111111111,
              "#46039f"
             ],
             [
              0.2222222222222222,
              "#7201a8"
             ],
             [
              0.3333333333333333,
              "#9c179e"
             ],
             [
              0.4444444444444444,
              "#bd3786"
             ],
             [
              0.5555555555555556,
              "#d8576b"
             ],
             [
              0.6666666666666666,
              "#ed7953"
             ],
             [
              0.7777777777777778,
              "#fb9f3a"
             ],
             [
              0.8888888888888888,
              "#fdca26"
             ],
             [
              1,
              "#f0f921"
             ]
            ],
            "type": "histogram2d"
           }
          ],
          "histogram2dcontour": [
           {
            "colorbar": {
             "outlinewidth": 0,
             "ticks": ""
            },
            "colorscale": [
             [
              0,
              "#0d0887"
             ],
             [
              0.1111111111111111,
              "#46039f"
             ],
             [
              0.2222222222222222,
              "#7201a8"
             ],
             [
              0.3333333333333333,
              "#9c179e"
             ],
             [
              0.4444444444444444,
              "#bd3786"
             ],
             [
              0.5555555555555556,
              "#d8576b"
             ],
             [
              0.6666666666666666,
              "#ed7953"
             ],
             [
              0.7777777777777778,
              "#fb9f3a"
             ],
             [
              0.8888888888888888,
              "#fdca26"
             ],
             [
              1,
              "#f0f921"
             ]
            ],
            "type": "histogram2dcontour"
           }
          ],
          "mesh3d": [
           {
            "colorbar": {
             "outlinewidth": 0,
             "ticks": ""
            },
            "type": "mesh3d"
           }
          ],
          "parcoords": [
           {
            "line": {
             "colorbar": {
              "outlinewidth": 0,
              "ticks": ""
             }
            },
            "type": "parcoords"
           }
          ],
          "pie": [
           {
            "automargin": true,
            "type": "pie"
           }
          ],
          "scatter": [
           {
            "marker": {
             "colorbar": {
              "outlinewidth": 0,
              "ticks": ""
             }
            },
            "type": "scatter"
           }
          ],
          "scatter3d": [
           {
            "line": {
             "colorbar": {
              "outlinewidth": 0,
              "ticks": ""
             }
            },
            "marker": {
             "colorbar": {
              "outlinewidth": 0,
              "ticks": ""
             }
            },
            "type": "scatter3d"
           }
          ],
          "scattercarpet": [
           {
            "marker": {
             "colorbar": {
              "outlinewidth": 0,
              "ticks": ""
             }
            },
            "type": "scattercarpet"
           }
          ],
          "scattergeo": [
           {
            "marker": {
             "colorbar": {
              "outlinewidth": 0,
              "ticks": ""
             }
            },
            "type": "scattergeo"
           }
          ],
          "scattergl": [
           {
            "marker": {
             "colorbar": {
              "outlinewidth": 0,
              "ticks": ""
             }
            },
            "type": "scattergl"
           }
          ],
          "scattermapbox": [
           {
            "marker": {
             "colorbar": {
              "outlinewidth": 0,
              "ticks": ""
             }
            },
            "type": "scattermapbox"
           }
          ],
          "scatterpolar": [
           {
            "marker": {
             "colorbar": {
              "outlinewidth": 0,
              "ticks": ""
             }
            },
            "type": "scatterpolar"
           }
          ],
          "scatterpolargl": [
           {
            "marker": {
             "colorbar": {
              "outlinewidth": 0,
              "ticks": ""
             }
            },
            "type": "scatterpolargl"
           }
          ],
          "scatterternary": [
           {
            "marker": {
             "colorbar": {
              "outlinewidth": 0,
              "ticks": ""
             }
            },
            "type": "scatterternary"
           }
          ],
          "surface": [
           {
            "colorbar": {
             "outlinewidth": 0,
             "ticks": ""
            },
            "colorscale": [
             [
              0,
              "#0d0887"
             ],
             [
              0.1111111111111111,
              "#46039f"
             ],
             [
              0.2222222222222222,
              "#7201a8"
             ],
             [
              0.3333333333333333,
              "#9c179e"
             ],
             [
              0.4444444444444444,
              "#bd3786"
             ],
             [
              0.5555555555555556,
              "#d8576b"
             ],
             [
              0.6666666666666666,
              "#ed7953"
             ],
             [
              0.7777777777777778,
              "#fb9f3a"
             ],
             [
              0.8888888888888888,
              "#fdca26"
             ],
             [
              1,
              "#f0f921"
             ]
            ],
            "type": "surface"
           }
          ],
          "table": [
           {
            "cells": {
             "fill": {
              "color": "#EBF0F8"
             },
             "line": {
              "color": "white"
             }
            },
            "header": {
             "fill": {
              "color": "#C8D4E3"
             },
             "line": {
              "color": "white"
             }
            },
            "type": "table"
           }
          ]
         },
         "layout": {
          "annotationdefaults": {
           "arrowcolor": "#2a3f5f",
           "arrowhead": 0,
           "arrowwidth": 1
          },
          "autotypenumbers": "strict",
          "coloraxis": {
           "colorbar": {
            "outlinewidth": 0,
            "ticks": ""
           }
          },
          "colorscale": {
           "diverging": [
            [
             0,
             "#8e0152"
            ],
            [
             0.1,
             "#c51b7d"
            ],
            [
             0.2,
             "#de77ae"
            ],
            [
             0.3,
             "#f1b6da"
            ],
            [
             0.4,
             "#fde0ef"
            ],
            [
             0.5,
             "#f7f7f7"
            ],
            [
             0.6,
             "#e6f5d0"
            ],
            [
             0.7,
             "#b8e186"
            ],
            [
             0.8,
             "#7fbc41"
            ],
            [
             0.9,
             "#4d9221"
            ],
            [
             1,
             "#276419"
            ]
           ],
           "sequential": [
            [
             0,
             "#0d0887"
            ],
            [
             0.1111111111111111,
             "#46039f"
            ],
            [
             0.2222222222222222,
             "#7201a8"
            ],
            [
             0.3333333333333333,
             "#9c179e"
            ],
            [
             0.4444444444444444,
             "#bd3786"
            ],
            [
             0.5555555555555556,
             "#d8576b"
            ],
            [
             0.6666666666666666,
             "#ed7953"
            ],
            [
             0.7777777777777778,
             "#fb9f3a"
            ],
            [
             0.8888888888888888,
             "#fdca26"
            ],
            [
             1,
             "#f0f921"
            ]
           ],
           "sequentialminus": [
            [
             0,
             "#0d0887"
            ],
            [
             0.1111111111111111,
             "#46039f"
            ],
            [
             0.2222222222222222,
             "#7201a8"
            ],
            [
             0.3333333333333333,
             "#9c179e"
            ],
            [
             0.4444444444444444,
             "#bd3786"
            ],
            [
             0.5555555555555556,
             "#d8576b"
            ],
            [
             0.6666666666666666,
             "#ed7953"
            ],
            [
             0.7777777777777778,
             "#fb9f3a"
            ],
            [
             0.8888888888888888,
             "#fdca26"
            ],
            [
             1,
             "#f0f921"
            ]
           ]
          },
          "colorway": [
           "#636efa",
           "#EF553B",
           "#00cc96",
           "#ab63fa",
           "#FFA15A",
           "#19d3f3",
           "#FF6692",
           "#B6E880",
           "#FF97FF",
           "#FECB52"
          ],
          "font": {
           "color": "#2a3f5f"
          },
          "geo": {
           "bgcolor": "white",
           "lakecolor": "white",
           "landcolor": "#E5ECF6",
           "showlakes": true,
           "showland": true,
           "subunitcolor": "white"
          },
          "hoverlabel": {
           "align": "left"
          },
          "hovermode": "closest",
          "mapbox": {
           "style": "light"
          },
          "paper_bgcolor": "white",
          "plot_bgcolor": "#E5ECF6",
          "polar": {
           "angularaxis": {
            "gridcolor": "white",
            "linecolor": "white",
            "ticks": ""
           },
           "bgcolor": "#E5ECF6",
           "radialaxis": {
            "gridcolor": "white",
            "linecolor": "white",
            "ticks": ""
           }
          },
          "scene": {
           "xaxis": {
            "backgroundcolor": "#E5ECF6",
            "gridcolor": "white",
            "gridwidth": 2,
            "linecolor": "white",
            "showbackground": true,
            "ticks": "",
            "zerolinecolor": "white"
           },
           "yaxis": {
            "backgroundcolor": "#E5ECF6",
            "gridcolor": "white",
            "gridwidth": 2,
            "linecolor": "white",
            "showbackground": true,
            "ticks": "",
            "zerolinecolor": "white"
           },
           "zaxis": {
            "backgroundcolor": "#E5ECF6",
            "gridcolor": "white",
            "gridwidth": 2,
            "linecolor": "white",
            "showbackground": true,
            "ticks": "",
            "zerolinecolor": "white"
           }
          },
          "shapedefaults": {
           "line": {
            "color": "#2a3f5f"
           }
          },
          "ternary": {
           "aaxis": {
            "gridcolor": "white",
            "linecolor": "white",
            "ticks": ""
           },
           "baxis": {
            "gridcolor": "white",
            "linecolor": "white",
            "ticks": ""
           },
           "bgcolor": "#E5ECF6",
           "caxis": {
            "gridcolor": "white",
            "linecolor": "white",
            "ticks": ""
           }
          },
          "title": {
           "x": 0.05
          },
          "xaxis": {
           "automargin": true,
           "gridcolor": "white",
           "linecolor": "white",
           "ticks": "",
           "title": {
            "standoff": 15
           },
           "zerolinecolor": "white",
           "zerolinewidth": 2
          },
          "yaxis": {
           "automargin": true,
           "gridcolor": "white",
           "linecolor": "white",
           "ticks": "",
           "title": {
            "standoff": 15
           },
           "zerolinecolor": "white",
           "zerolinewidth": 2
          }
         }
        },
        "title": {
         "text": "Hyperparameter Importances"
        },
        "xaxis": {
         "title": {
          "text": "Importance for Objective Value"
         }
        },
        "yaxis": {
         "title": {
          "text": "Hyperparameter"
         }
        }
       }
      }
     },
     "metadata": {},
     "output_type": "display_data"
    }
   ],
   "source": [
    "optuna.visualization.plot_param_importances(study)"
   ]
  },
  {
   "cell_type": "code",
   "execution_count": 29,
   "id": "ded0e0f8",
   "metadata": {},
   "outputs": [
    {
     "data": {
      "application/vnd.plotly.v1+json": {
       "config": {
        "plotlyServerURL": "https://plot.ly"
       },
       "data": [
        {
         "dimensions": [
          {
           "label": "Objective Value",
           "range": [
            0.4224360738441434,
            0.5421973825852191
           ],
           "values": [
            0.5145446205961415,
            0.4908277424136596,
            0.5054402237725705,
            0.49168323115355095,
            0.5270033160371544,
            0.4843511858649319,
            0.49840686011231483,
            0.47008695115651766,
            0.4587753709617277,
            0.5077359620044637,
            0.5150908474565223,
            0.5055105458072727,
            0.5085228985304063,
            0.5012862997106253,
            0.5160823424481168,
            0.4688211488285642,
            0.5174618900606097,
            0.4968990850536715,
            0.505064172811579,
            0.5027697220381355,
            0.4741467363236581,
            0.5142834550451079,
            0.5055403638288462,
            0.5190811261121334,
            0.5178941725506967,
            0.4865383322911141,
            0.5365611408876576,
            0.5079513588958188,
            0.5224158838954777,
            0.5137806499054317,
            0.5096162497764192,
            0.49705656828474354,
            0.5185059793124756,
            0.4949132089474507,
            0.49982092347394086,
            0.5095469214700135,
            0.4737598272526067,
            0.47467637155339737,
            0.5151568466610151,
            0.5147795629308904,
            0.5236170537872968,
            0.5102258113639782,
            0.49827258010773245,
            0.5163678574536599,
            0.501950936385591,
            0.5146248929466467,
            0.45592388686740276,
            0.5183399155041919,
            0.5020007373909966,
            0.49117269620469395,
            0.48990617308332063,
            0.5183402919160047,
            0.5131041167152037,
            0.5119697154159193,
            0.4768621040311306,
            0.5064562909861429,
            0.5132447716213109,
            0.5001882319097856,
            0.501508413011472,
            0.5064356811897331,
            0.4224360738441434,
            0.5175411660828005,
            0.5087827885460058,
            0.5089138009131478,
            0.5150063090223721,
            0.518621821475279,
            0.5154398987532577,
            0.512121572189387,
            0.5034515100689332,
            0.4835248196752788,
            0.49232152158440784,
            0.5074072508621693,
            0.4840637742663917,
            0.5108265757260231,
            0.5270162949727498,
            0.5203279221298074,
            0.5421973825852191,
            0.5102615436321868,
            0.5276542861594951,
            0.5131105145490442,
            0.5265567265743396,
            0.5163935881847855,
            0.5334206970564126,
            0.5203493009897582,
            0.5151045697190829,
            0.526489452105241,
            0.5053263521236018,
            0.5295805204712288,
            0.5296358753883644,
            0.5295491807906049,
            0.5230611238874417,
            0.5091111014032209,
            0.4929302497523551,
            0.5085793227131246,
            0.5124067260281309,
            0.5170875470058387,
            0.5049807095032385,
            0.5046196845904044,
            0.47617772730706615,
            0.514427800210021
           ]
          },
          {
           "label": "max_depth",
           "range": [
            2,
            30
           ],
           "values": [
            28,
            10,
            17,
            4,
            28,
            25,
            22,
            9,
            10,
            8,
            30,
            30,
            20,
            25,
            30,
            16,
            25,
            24,
            19,
            14,
            27,
            27,
            22,
            30,
            27,
            28,
            23,
            22,
            23,
            19,
            14,
            28,
            23,
            26,
            29,
            20,
            24,
            2,
            21,
            17,
            26,
            26,
            28,
            24,
            29,
            26,
            30,
            24,
            23,
            29,
            6,
            23,
            25,
            21,
            26,
            18,
            23,
            27,
            12,
            29,
            21,
            23,
            25,
            22,
            28,
            30,
            30,
            27,
            30,
            28,
            26,
            23,
            19,
            20,
            24,
            29,
            29,
            29,
            27,
            27,
            25,
            28,
            24,
            25,
            25,
            24,
            26,
            24,
            24,
            24,
            22,
            24,
            24,
            27,
            25,
            22,
            26,
            21,
            25,
            24
           ]
          },
          {
           "label": "min_samples_leaf",
           "range": [
            1,
            10
           ],
           "values": [
            7,
            7,
            10,
            6,
            4,
            5,
            2,
            6,
            4,
            2,
            9,
            10,
            8,
            4,
            1,
            1,
            3,
            3,
            4,
            3,
            5,
            1,
            2,
            3,
            3,
            4,
            3,
            5,
            2,
            2,
            2,
            3,
            4,
            3,
            7,
            6,
            2,
            5,
            1,
            4,
            2,
            2,
            3,
            2,
            3,
            1,
            4,
            2,
            5,
            3,
            1,
            4,
            4,
            3,
            6,
            4,
            2,
            3,
            4,
            5,
            2,
            4,
            4,
            3,
            4,
            5,
            5,
            6,
            5,
            9,
            3,
            5,
            4,
            3,
            2,
            2,
            1,
            1,
            2,
            2,
            1,
            1,
            1,
            1,
            1,
            1,
            1,
            1,
            1,
            1,
            1,
            1,
            1,
            1,
            1,
            2,
            2,
            1,
            2,
            1
           ]
          },
          {
           "label": "min_samples_split",
           "range": [
            2,
            10
           ],
           "values": [
            6,
            7,
            5,
            10,
            3,
            4,
            8,
            3,
            5,
            3,
            2,
            2,
            2,
            2,
            4,
            4,
            4,
            6,
            5,
            8,
            3,
            4,
            4,
            3,
            3,
            3,
            3,
            10,
            5,
            7,
            5,
            3,
            7,
            5,
            2,
            6,
            3,
            4,
            2,
            5,
            6,
            6,
            6,
            7,
            3,
            8,
            5,
            4,
            8,
            2,
            3,
            7,
            9,
            7,
            6,
            7,
            6,
            4,
            9,
            5,
            2,
            7,
            8,
            7,
            6,
            7,
            3,
            4,
            3,
            8,
            6,
            7,
            7,
            7,
            6,
            6,
            6,
            5,
            6,
            6,
            5,
            5,
            6,
            5,
            6,
            5,
            5,
            6,
            6,
            6,
            6,
            6,
            6,
            6,
            6,
            6,
            6,
            6,
            5,
            6
           ]
          },
          {
           "label": "n_estimators",
           "range": [
            100,
            199
           ],
           "values": [
            144,
            104,
            143,
            116,
            132,
            193,
            174,
            105,
            190,
            100,
            128,
            129,
            165,
            131,
            127,
            158,
            119,
            117,
            139,
            116,
            154,
            123,
            136,
            112,
            113,
            111,
            110,
            109,
            100,
            148,
            100,
            122,
            108,
            105,
            136,
            114,
            122,
            100,
            144,
            199,
            109,
            106,
            109,
            103,
            113,
            119,
            126,
            103,
            133,
            178,
            125,
            111,
            107,
            116,
            119,
            103,
            108,
            131,
            111,
            100,
            118,
            113,
            108,
            111,
            104,
            121,
            122,
            117,
            165,
            129,
            140,
            111,
            115,
            121,
            106,
            107,
            106,
            105,
            102,
            100,
            148,
            148,
            155,
            154,
            157,
            151,
            164,
            161,
            155,
            162,
            162,
            171,
            169,
            159,
            144,
            152,
            156,
            148,
            161,
            154
           ]
          },
          {
           "label": "subsample",
           "range": [
            0.1028389094019117,
            0.49962661429175365
           ],
           "values": [
            0.378589821343597,
            0.20466017322038932,
            0.43091712770241797,
            0.31533026545253184,
            0.37951208815342197,
            0.3488177786797194,
            0.2109970288839696,
            0.17675648132794058,
            0.12483011819101582,
            0.1966391972131184,
            0.48469482912824746,
            0.49180717457760675,
            0.49862333816278465,
            0.4238997294889602,
            0.4246770105481748,
            0.2807002189510011,
            0.4072284401440164,
            0.2900705371823276,
            0.38470176881046514,
            0.2534460532721279,
            0.3318305650720915,
            0.4220958067379283,
            0.3873429572807017,
            0.4507444259728901,
            0.4474308343707609,
            0.46648256456737935,
            0.4434948627944249,
            0.35374161815455685,
            0.44515464290060713,
            0.3663703476136594,
            0.3950951606564183,
            0.46007489015884223,
            0.4443339657636175,
            0.4728873995155759,
            0.40785859188972656,
            0.4543973604520086,
            0.32061189829787007,
            0.3662005833379718,
            0.44207234942233753,
            0.4094211845998623,
            0.47692384073727584,
            0.4778196508552849,
            0.4314876917007142,
            0.47192293048294404,
            0.49283029239840476,
            0.4536566338514226,
            0.12397480029732283,
            0.43376818249464266,
            0.4033480898593418,
            0.49588994585510787,
            0.25629086219792224,
            0.4437564113136787,
            0.420406134853699,
            0.47935967188008693,
            0.16150076105885927,
            0.4613534271695317,
            0.37777538197450716,
            0.4403478756048787,
            0.42040111561112536,
            0.34117095529291264,
            0.1028389094019117,
            0.4427201968340822,
            0.48428589978453923,
            0.4607278336950673,
            0.3963238133521799,
            0.41711779160226037,
            0.41992535191880714,
            0.37324257951983014,
            0.38753693788618004,
            0.4124936774401949,
            0.4321075660073316,
            0.4504364816586329,
            0.46695582642038524,
            0.44566600241296817,
            0.4858363354299631,
            0.475501440943655,
            0.4838414727787746,
            0.4874955493308467,
            0.4982780607329361,
            0.47747558874345897,
            0.4912098866235968,
            0.49876129202522973,
            0.4853740313105272,
            0.49962661429175365,
            0.4873514177181089,
            0.46895701044654303,
            0.4674583560476941,
            0.4860276512130021,
            0.4868612308373865,
            0.4864217876647762,
            0.48403612259518836,
            0.4891278561099389,
            0.4577500258039911,
            0.4935821936728341,
            0.49847037231317765,
            0.48213096587913323,
            0.46635396811242585,
            0.47543739196898,
            0.29731972938438944,
            0.4568916251194644
           ]
          }
         ],
         "labelangle": 30,
         "labelside": "bottom",
         "line": {
          "color": [
           0.5145446205961415,
           0.4908277424136596,
           0.5054402237725705,
           0.49168323115355095,
           0.5270033160371544,
           0.4843511858649319,
           0.49840686011231483,
           0.47008695115651766,
           0.4587753709617277,
           0.5077359620044637,
           0.5150908474565223,
           0.5055105458072727,
           0.5085228985304063,
           0.5012862997106253,
           0.5160823424481168,
           0.4688211488285642,
           0.5174618900606097,
           0.4968990850536715,
           0.505064172811579,
           0.5027697220381355,
           0.4741467363236581,
           0.5142834550451079,
           0.5055403638288462,
           0.5190811261121334,
           0.5178941725506967,
           0.4865383322911141,
           0.5365611408876576,
           0.5079513588958188,
           0.5224158838954777,
           0.5137806499054317,
           0.5096162497764192,
           0.49705656828474354,
           0.5185059793124756,
           0.4949132089474507,
           0.49982092347394086,
           0.5095469214700135,
           0.4737598272526067,
           0.47467637155339737,
           0.5151568466610151,
           0.5147795629308904,
           0.5236170537872968,
           0.5102258113639782,
           0.49827258010773245,
           0.5163678574536599,
           0.501950936385591,
           0.5146248929466467,
           0.45592388686740276,
           0.5183399155041919,
           0.5020007373909966,
           0.49117269620469395,
           0.48990617308332063,
           0.5183402919160047,
           0.5131041167152037,
           0.5119697154159193,
           0.4768621040311306,
           0.5064562909861429,
           0.5132447716213109,
           0.5001882319097856,
           0.501508413011472,
           0.5064356811897331,
           0.4224360738441434,
           0.5175411660828005,
           0.5087827885460058,
           0.5089138009131478,
           0.5150063090223721,
           0.518621821475279,
           0.5154398987532577,
           0.512121572189387,
           0.5034515100689332,
           0.4835248196752788,
           0.49232152158440784,
           0.5074072508621693,
           0.4840637742663917,
           0.5108265757260231,
           0.5270162949727498,
           0.5203279221298074,
           0.5421973825852191,
           0.5102615436321868,
           0.5276542861594951,
           0.5131105145490442,
           0.5265567265743396,
           0.5163935881847855,
           0.5334206970564126,
           0.5203493009897582,
           0.5151045697190829,
           0.526489452105241,
           0.5053263521236018,
           0.5295805204712288,
           0.5296358753883644,
           0.5295491807906049,
           0.5230611238874417,
           0.5091111014032209,
           0.4929302497523551,
           0.5085793227131246,
           0.5124067260281309,
           0.5170875470058387,
           0.5049807095032385,
           0.5046196845904044,
           0.47617772730706615,
           0.514427800210021
          ],
          "colorbar": {
           "title": {
            "text": "Objective Value"
           }
          },
          "colorscale": [
           [
            0,
            "rgb(247,251,255)"
           ],
           [
            0.125,
            "rgb(222,235,247)"
           ],
           [
            0.25,
            "rgb(198,219,239)"
           ],
           [
            0.375,
            "rgb(158,202,225)"
           ],
           [
            0.5,
            "rgb(107,174,214)"
           ],
           [
            0.625,
            "rgb(66,146,198)"
           ],
           [
            0.75,
            "rgb(33,113,181)"
           ],
           [
            0.875,
            "rgb(8,81,156)"
           ],
           [
            1,
            "rgb(8,48,107)"
           ]
          ],
          "reversescale": false,
          "showscale": true
         },
         "type": "parcoords"
        }
       ],
       "layout": {
        "template": {
         "data": {
          "bar": [
           {
            "error_x": {
             "color": "#2a3f5f"
            },
            "error_y": {
             "color": "#2a3f5f"
            },
            "marker": {
             "line": {
              "color": "#E5ECF6",
              "width": 0.5
             },
             "pattern": {
              "fillmode": "overlay",
              "size": 10,
              "solidity": 0.2
             }
            },
            "type": "bar"
           }
          ],
          "barpolar": [
           {
            "marker": {
             "line": {
              "color": "#E5ECF6",
              "width": 0.5
             },
             "pattern": {
              "fillmode": "overlay",
              "size": 10,
              "solidity": 0.2
             }
            },
            "type": "barpolar"
           }
          ],
          "carpet": [
           {
            "aaxis": {
             "endlinecolor": "#2a3f5f",
             "gridcolor": "white",
             "linecolor": "white",
             "minorgridcolor": "white",
             "startlinecolor": "#2a3f5f"
            },
            "baxis": {
             "endlinecolor": "#2a3f5f",
             "gridcolor": "white",
             "linecolor": "white",
             "minorgridcolor": "white",
             "startlinecolor": "#2a3f5f"
            },
            "type": "carpet"
           }
          ],
          "choropleth": [
           {
            "colorbar": {
             "outlinewidth": 0,
             "ticks": ""
            },
            "type": "choropleth"
           }
          ],
          "contour": [
           {
            "colorbar": {
             "outlinewidth": 0,
             "ticks": ""
            },
            "colorscale": [
             [
              0,
              "#0d0887"
             ],
             [
              0.1111111111111111,
              "#46039f"
             ],
             [
              0.2222222222222222,
              "#7201a8"
             ],
             [
              0.3333333333333333,
              "#9c179e"
             ],
             [
              0.4444444444444444,
              "#bd3786"
             ],
             [
              0.5555555555555556,
              "#d8576b"
             ],
             [
              0.6666666666666666,
              "#ed7953"
             ],
             [
              0.7777777777777778,
              "#fb9f3a"
             ],
             [
              0.8888888888888888,
              "#fdca26"
             ],
             [
              1,
              "#f0f921"
             ]
            ],
            "type": "contour"
           }
          ],
          "contourcarpet": [
           {
            "colorbar": {
             "outlinewidth": 0,
             "ticks": ""
            },
            "type": "contourcarpet"
           }
          ],
          "heatmap": [
           {
            "colorbar": {
             "outlinewidth": 0,
             "ticks": ""
            },
            "colorscale": [
             [
              0,
              "#0d0887"
             ],
             [
              0.1111111111111111,
              "#46039f"
             ],
             [
              0.2222222222222222,
              "#7201a8"
             ],
             [
              0.3333333333333333,
              "#9c179e"
             ],
             [
              0.4444444444444444,
              "#bd3786"
             ],
             [
              0.5555555555555556,
              "#d8576b"
             ],
             [
              0.6666666666666666,
              "#ed7953"
             ],
             [
              0.7777777777777778,
              "#fb9f3a"
             ],
             [
              0.8888888888888888,
              "#fdca26"
             ],
             [
              1,
              "#f0f921"
             ]
            ],
            "type": "heatmap"
           }
          ],
          "heatmapgl": [
           {
            "colorbar": {
             "outlinewidth": 0,
             "ticks": ""
            },
            "colorscale": [
             [
              0,
              "#0d0887"
             ],
             [
              0.1111111111111111,
              "#46039f"
             ],
             [
              0.2222222222222222,
              "#7201a8"
             ],
             [
              0.3333333333333333,
              "#9c179e"
             ],
             [
              0.4444444444444444,
              "#bd3786"
             ],
             [
              0.5555555555555556,
              "#d8576b"
             ],
             [
              0.6666666666666666,
              "#ed7953"
             ],
             [
              0.7777777777777778,
              "#fb9f3a"
             ],
             [
              0.8888888888888888,
              "#fdca26"
             ],
             [
              1,
              "#f0f921"
             ]
            ],
            "type": "heatmapgl"
           }
          ],
          "histogram": [
           {
            "marker": {
             "pattern": {
              "fillmode": "overlay",
              "size": 10,
              "solidity": 0.2
             }
            },
            "type": "histogram"
           }
          ],
          "histogram2d": [
           {
            "colorbar": {
             "outlinewidth": 0,
             "ticks": ""
            },
            "colorscale": [
             [
              0,
              "#0d0887"
             ],
             [
              0.1111111111111111,
              "#46039f"
             ],
             [
              0.2222222222222222,
              "#7201a8"
             ],
             [
              0.3333333333333333,
              "#9c179e"
             ],
             [
              0.4444444444444444,
              "#bd3786"
             ],
             [
              0.5555555555555556,
              "#d8576b"
             ],
             [
              0.6666666666666666,
              "#ed7953"
             ],
             [
              0.7777777777777778,
              "#fb9f3a"
             ],
             [
              0.8888888888888888,
              "#fdca26"
             ],
             [
              1,
              "#f0f921"
             ]
            ],
            "type": "histogram2d"
           }
          ],
          "histogram2dcontour": [
           {
            "colorbar": {
             "outlinewidth": 0,
             "ticks": ""
            },
            "colorscale": [
             [
              0,
              "#0d0887"
             ],
             [
              0.1111111111111111,
              "#46039f"
             ],
             [
              0.2222222222222222,
              "#7201a8"
             ],
             [
              0.3333333333333333,
              "#9c179e"
             ],
             [
              0.4444444444444444,
              "#bd3786"
             ],
             [
              0.5555555555555556,
              "#d8576b"
             ],
             [
              0.6666666666666666,
              "#ed7953"
             ],
             [
              0.7777777777777778,
              "#fb9f3a"
             ],
             [
              0.8888888888888888,
              "#fdca26"
             ],
             [
              1,
              "#f0f921"
             ]
            ],
            "type": "histogram2dcontour"
           }
          ],
          "mesh3d": [
           {
            "colorbar": {
             "outlinewidth": 0,
             "ticks": ""
            },
            "type": "mesh3d"
           }
          ],
          "parcoords": [
           {
            "line": {
             "colorbar": {
              "outlinewidth": 0,
              "ticks": ""
             }
            },
            "type": "parcoords"
           }
          ],
          "pie": [
           {
            "automargin": true,
            "type": "pie"
           }
          ],
          "scatter": [
           {
            "marker": {
             "colorbar": {
              "outlinewidth": 0,
              "ticks": ""
             }
            },
            "type": "scatter"
           }
          ],
          "scatter3d": [
           {
            "line": {
             "colorbar": {
              "outlinewidth": 0,
              "ticks": ""
             }
            },
            "marker": {
             "colorbar": {
              "outlinewidth": 0,
              "ticks": ""
             }
            },
            "type": "scatter3d"
           }
          ],
          "scattercarpet": [
           {
            "marker": {
             "colorbar": {
              "outlinewidth": 0,
              "ticks": ""
             }
            },
            "type": "scattercarpet"
           }
          ],
          "scattergeo": [
           {
            "marker": {
             "colorbar": {
              "outlinewidth": 0,
              "ticks": ""
             }
            },
            "type": "scattergeo"
           }
          ],
          "scattergl": [
           {
            "marker": {
             "colorbar": {
              "outlinewidth": 0,
              "ticks": ""
             }
            },
            "type": "scattergl"
           }
          ],
          "scattermapbox": [
           {
            "marker": {
             "colorbar": {
              "outlinewidth": 0,
              "ticks": ""
             }
            },
            "type": "scattermapbox"
           }
          ],
          "scatterpolar": [
           {
            "marker": {
             "colorbar": {
              "outlinewidth": 0,
              "ticks": ""
             }
            },
            "type": "scatterpolar"
           }
          ],
          "scatterpolargl": [
           {
            "marker": {
             "colorbar": {
              "outlinewidth": 0,
              "ticks": ""
             }
            },
            "type": "scatterpolargl"
           }
          ],
          "scatterternary": [
           {
            "marker": {
             "colorbar": {
              "outlinewidth": 0,
              "ticks": ""
             }
            },
            "type": "scatterternary"
           }
          ],
          "surface": [
           {
            "colorbar": {
             "outlinewidth": 0,
             "ticks": ""
            },
            "colorscale": [
             [
              0,
              "#0d0887"
             ],
             [
              0.1111111111111111,
              "#46039f"
             ],
             [
              0.2222222222222222,
              "#7201a8"
             ],
             [
              0.3333333333333333,
              "#9c179e"
             ],
             [
              0.4444444444444444,
              "#bd3786"
             ],
             [
              0.5555555555555556,
              "#d8576b"
             ],
             [
              0.6666666666666666,
              "#ed7953"
             ],
             [
              0.7777777777777778,
              "#fb9f3a"
             ],
             [
              0.8888888888888888,
              "#fdca26"
             ],
             [
              1,
              "#f0f921"
             ]
            ],
            "type": "surface"
           }
          ],
          "table": [
           {
            "cells": {
             "fill": {
              "color": "#EBF0F8"
             },
             "line": {
              "color": "white"
             }
            },
            "header": {
             "fill": {
              "color": "#C8D4E3"
             },
             "line": {
              "color": "white"
             }
            },
            "type": "table"
           }
          ]
         },
         "layout": {
          "annotationdefaults": {
           "arrowcolor": "#2a3f5f",
           "arrowhead": 0,
           "arrowwidth": 1
          },
          "autotypenumbers": "strict",
          "coloraxis": {
           "colorbar": {
            "outlinewidth": 0,
            "ticks": ""
           }
          },
          "colorscale": {
           "diverging": [
            [
             0,
             "#8e0152"
            ],
            [
             0.1,
             "#c51b7d"
            ],
            [
             0.2,
             "#de77ae"
            ],
            [
             0.3,
             "#f1b6da"
            ],
            [
             0.4,
             "#fde0ef"
            ],
            [
             0.5,
             "#f7f7f7"
            ],
            [
             0.6,
             "#e6f5d0"
            ],
            [
             0.7,
             "#b8e186"
            ],
            [
             0.8,
             "#7fbc41"
            ],
            [
             0.9,
             "#4d9221"
            ],
            [
             1,
             "#276419"
            ]
           ],
           "sequential": [
            [
             0,
             "#0d0887"
            ],
            [
             0.1111111111111111,
             "#46039f"
            ],
            [
             0.2222222222222222,
             "#7201a8"
            ],
            [
             0.3333333333333333,
             "#9c179e"
            ],
            [
             0.4444444444444444,
             "#bd3786"
            ],
            [
             0.5555555555555556,
             "#d8576b"
            ],
            [
             0.6666666666666666,
             "#ed7953"
            ],
            [
             0.7777777777777778,
             "#fb9f3a"
            ],
            [
             0.8888888888888888,
             "#fdca26"
            ],
            [
             1,
             "#f0f921"
            ]
           ],
           "sequentialminus": [
            [
             0,
             "#0d0887"
            ],
            [
             0.1111111111111111,
             "#46039f"
            ],
            [
             0.2222222222222222,
             "#7201a8"
            ],
            [
             0.3333333333333333,
             "#9c179e"
            ],
            [
             0.4444444444444444,
             "#bd3786"
            ],
            [
             0.5555555555555556,
             "#d8576b"
            ],
            [
             0.6666666666666666,
             "#ed7953"
            ],
            [
             0.7777777777777778,
             "#fb9f3a"
            ],
            [
             0.8888888888888888,
             "#fdca26"
            ],
            [
             1,
             "#f0f921"
            ]
           ]
          },
          "colorway": [
           "#636efa",
           "#EF553B",
           "#00cc96",
           "#ab63fa",
           "#FFA15A",
           "#19d3f3",
           "#FF6692",
           "#B6E880",
           "#FF97FF",
           "#FECB52"
          ],
          "font": {
           "color": "#2a3f5f"
          },
          "geo": {
           "bgcolor": "white",
           "lakecolor": "white",
           "landcolor": "#E5ECF6",
           "showlakes": true,
           "showland": true,
           "subunitcolor": "white"
          },
          "hoverlabel": {
           "align": "left"
          },
          "hovermode": "closest",
          "mapbox": {
           "style": "light"
          },
          "paper_bgcolor": "white",
          "plot_bgcolor": "#E5ECF6",
          "polar": {
           "angularaxis": {
            "gridcolor": "white",
            "linecolor": "white",
            "ticks": ""
           },
           "bgcolor": "#E5ECF6",
           "radialaxis": {
            "gridcolor": "white",
            "linecolor": "white",
            "ticks": ""
           }
          },
          "scene": {
           "xaxis": {
            "backgroundcolor": "#E5ECF6",
            "gridcolor": "white",
            "gridwidth": 2,
            "linecolor": "white",
            "showbackground": true,
            "ticks": "",
            "zerolinecolor": "white"
           },
           "yaxis": {
            "backgroundcolor": "#E5ECF6",
            "gridcolor": "white",
            "gridwidth": 2,
            "linecolor": "white",
            "showbackground": true,
            "ticks": "",
            "zerolinecolor": "white"
           },
           "zaxis": {
            "backgroundcolor": "#E5ECF6",
            "gridcolor": "white",
            "gridwidth": 2,
            "linecolor": "white",
            "showbackground": true,
            "ticks": "",
            "zerolinecolor": "white"
           }
          },
          "shapedefaults": {
           "line": {
            "color": "#2a3f5f"
           }
          },
          "ternary": {
           "aaxis": {
            "gridcolor": "white",
            "linecolor": "white",
            "ticks": ""
           },
           "baxis": {
            "gridcolor": "white",
            "linecolor": "white",
            "ticks": ""
           },
           "bgcolor": "#E5ECF6",
           "caxis": {
            "gridcolor": "white",
            "linecolor": "white",
            "ticks": ""
           }
          },
          "title": {
           "x": 0.05
          },
          "xaxis": {
           "automargin": true,
           "gridcolor": "white",
           "linecolor": "white",
           "ticks": "",
           "title": {
            "standoff": 15
           },
           "zerolinecolor": "white",
           "zerolinewidth": 2
          },
          "yaxis": {
           "automargin": true,
           "gridcolor": "white",
           "linecolor": "white",
           "ticks": "",
           "title": {
            "standoff": 15
           },
           "zerolinecolor": "white",
           "zerolinewidth": 2
          }
         }
        },
        "title": {
         "text": "Parallel Coordinate Plot"
        }
       }
      }
     },
     "metadata": {},
     "output_type": "display_data"
    }
   ],
   "source": [
    "optuna.visualization.plot_parallel_coordinate(study)"
   ]
  },
  {
   "cell_type": "code",
   "execution_count": 30,
   "id": "75db1ddf",
   "metadata": {},
   "outputs": [
    {
     "name": "stdout",
     "output_type": "stream",
     "text": [
      "Best trial: {'n_estimators': 106, 'max_depth': 29, 'min_samples_leaf': 1, 'min_samples_split': 6, 'subsample': 0.4838414727787746}\n"
     ]
    }
   ],
   "source": [
    "print(\"Best trial:\", study.best_trial.params)"
   ]
  },
  {
   "cell_type": "code",
   "execution_count": 31,
   "id": "574699dc",
   "metadata": {},
   "outputs": [
    {
     "data": {
      "text/plain": [
       "106"
      ]
     },
     "execution_count": 31,
     "metadata": {},
     "output_type": "execute_result"
    }
   ],
   "source": [
    "study.best_trial.params[\"n_estimators\"]"
   ]
  },
  {
   "cell_type": "code",
   "execution_count": 32,
   "id": "862eadd2",
   "metadata": {},
   "outputs": [
    {
     "data": {
      "text/html": [
       "<style>#sk-container-id-1 {color: black;}#sk-container-id-1 pre{padding: 0;}#sk-container-id-1 div.sk-toggleable {background-color: white;}#sk-container-id-1 label.sk-toggleable__label {cursor: pointer;display: block;width: 100%;margin-bottom: 0;padding: 0.3em;box-sizing: border-box;text-align: center;}#sk-container-id-1 label.sk-toggleable__label-arrow:before {content: \"▸\";float: left;margin-right: 0.25em;color: #696969;}#sk-container-id-1 label.sk-toggleable__label-arrow:hover:before {color: black;}#sk-container-id-1 div.sk-estimator:hover label.sk-toggleable__label-arrow:before {color: black;}#sk-container-id-1 div.sk-toggleable__content {max-height: 0;max-width: 0;overflow: hidden;text-align: left;background-color: #f0f8ff;}#sk-container-id-1 div.sk-toggleable__content pre {margin: 0.2em;color: black;border-radius: 0.25em;background-color: #f0f8ff;}#sk-container-id-1 input.sk-toggleable__control:checked~div.sk-toggleable__content {max-height: 200px;max-width: 100%;overflow: auto;}#sk-container-id-1 input.sk-toggleable__control:checked~label.sk-toggleable__label-arrow:before {content: \"▾\";}#sk-container-id-1 div.sk-estimator input.sk-toggleable__control:checked~label.sk-toggleable__label {background-color: #d4ebff;}#sk-container-id-1 div.sk-label input.sk-toggleable__control:checked~label.sk-toggleable__label {background-color: #d4ebff;}#sk-container-id-1 input.sk-hidden--visually {border: 0;clip: rect(1px 1px 1px 1px);clip: rect(1px, 1px, 1px, 1px);height: 1px;margin: -1px;overflow: hidden;padding: 0;position: absolute;width: 1px;}#sk-container-id-1 div.sk-estimator {font-family: monospace;background-color: #f0f8ff;border: 1px dotted black;border-radius: 0.25em;box-sizing: border-box;margin-bottom: 0.5em;}#sk-container-id-1 div.sk-estimator:hover {background-color: #d4ebff;}#sk-container-id-1 div.sk-parallel-item::after {content: \"\";width: 100%;border-bottom: 1px solid gray;flex-grow: 1;}#sk-container-id-1 div.sk-label:hover label.sk-toggleable__label {background-color: #d4ebff;}#sk-container-id-1 div.sk-serial::before {content: \"\";position: absolute;border-left: 1px solid gray;box-sizing: border-box;top: 0;bottom: 0;left: 50%;z-index: 0;}#sk-container-id-1 div.sk-serial {display: flex;flex-direction: column;align-items: center;background-color: white;padding-right: 0.2em;padding-left: 0.2em;position: relative;}#sk-container-id-1 div.sk-item {position: relative;z-index: 1;}#sk-container-id-1 div.sk-parallel {display: flex;align-items: stretch;justify-content: center;background-color: white;position: relative;}#sk-container-id-1 div.sk-item::before, #sk-container-id-1 div.sk-parallel-item::before {content: \"\";position: absolute;border-left: 1px solid gray;box-sizing: border-box;top: 0;bottom: 0;left: 50%;z-index: -1;}#sk-container-id-1 div.sk-parallel-item {display: flex;flex-direction: column;z-index: 1;position: relative;background-color: white;}#sk-container-id-1 div.sk-parallel-item:first-child::after {align-self: flex-end;width: 50%;}#sk-container-id-1 div.sk-parallel-item:last-child::after {align-self: flex-start;width: 50%;}#sk-container-id-1 div.sk-parallel-item:only-child::after {width: 0;}#sk-container-id-1 div.sk-dashed-wrapped {border: 1px dashed gray;margin: 0 0.4em 0.5em 0.4em;box-sizing: border-box;padding-bottom: 0.4em;background-color: white;}#sk-container-id-1 div.sk-label label {font-family: monospace;font-weight: bold;display: inline-block;line-height: 1.2em;}#sk-container-id-1 div.sk-label-container {text-align: center;}#sk-container-id-1 div.sk-container {/* jupyter's `normalize.less` sets `[hidden] { display: none; }` but bootstrap.min.css set `[hidden] { display: none !important; }` so we also need the `!important` here to be able to override the default hidden behavior on the sphinx rendered scikit-learn.org. See: https://github.com/scikit-learn/scikit-learn/issues/21755 */display: inline-block !important;position: relative;}#sk-container-id-1 div.sk-text-repr-fallback {display: none;}</style><div id=\"sk-container-id-1\" class=\"sk-top-container\"><div class=\"sk-text-repr-fallback\"><pre>GradientBoostingRegressor(max_depth=29, min_samples_split=6, n_estimators=106,\n",
       "                          random_state=42, subsample=0.4838414727787746)</pre><b>In a Jupyter environment, please rerun this cell to show the HTML representation or trust the notebook. <br />On GitHub, the HTML representation is unable to render, please try loading this page with nbviewer.org.</b></div><div class=\"sk-container\" hidden><div class=\"sk-item\"><div class=\"sk-estimator sk-toggleable\"><input class=\"sk-toggleable__control sk-hidden--visually\" id=\"sk-estimator-id-1\" type=\"checkbox\" checked><label for=\"sk-estimator-id-1\" class=\"sk-toggleable__label sk-toggleable__label-arrow\">GradientBoostingRegressor</label><div class=\"sk-toggleable__content\"><pre>GradientBoostingRegressor(max_depth=29, min_samples_split=6, n_estimators=106,\n",
       "                          random_state=42, subsample=0.4838414727787746)</pre></div></div></div></div></div>"
      ],
      "text/plain": [
       "GradientBoostingRegressor(max_depth=29, min_samples_split=6, n_estimators=106,\n",
       "                          random_state=42, subsample=0.4838414727787746)"
      ]
     },
     "execution_count": 32,
     "metadata": {},
     "output_type": "execute_result"
    }
   ],
   "source": [
    "gb_params = {\n",
    "    \"random_state\": 42,\n",
    "    \"learning_rate\": 0.1,\n",
    "    \"n_estimators\": study.best_trial.params[\"n_estimators\"],\n",
    "    \"max_depth\": study.best_trial.params[\"max_depth\"],\n",
    "    \"min_samples_leaf\": study.best_trial.params[\"min_samples_leaf\"],\n",
    "    \"min_samples_split\": study.best_trial.params[\"min_samples_split\"],\n",
    "    \"subsample\": study.best_trial.params[\"subsample\"]\n",
    "}\n",
    "\n",
    "gb = GradientBoostingRegressor(**gb_params)\n",
    "gb.fit(As_X_train, As_y_train)"
   ]
  },
  {
   "cell_type": "code",
   "execution_count": 33,
   "id": "2be83ec7",
   "metadata": {},
   "outputs": [],
   "source": [
    "# gb_params = {\n",
    "#     \"random_state\": 42,\n",
    "#     \"learning_rate\": 0.1,\n",
    "#     \"n_estimators\": 100,\n",
    "#     \"max_depth\": 2,\n",
    "#     \"min_samples_leaf\": 8,\n",
    "#     \"min_samples_split\": 2,\n",
    "#     \"subsample\": 0.35775273871202684\n",
    "# }\n",
    "\n",
    "# gb = GradientBoostingRegressor(**gb_params)\n",
    "# gb.fit(As_X_train, As_y_train)"
   ]
  },
  {
   "cell_type": "code",
   "execution_count": 34,
   "id": "8577fb37",
   "metadata": {},
   "outputs": [],
   "source": [
    "y_train_pred = gb.predict(As_X_train)\n",
    "y_test_pred = gb.predict(As_X_test)"
   ]
  },
  {
   "cell_type": "code",
   "execution_count": 35,
   "id": "2ea0526a",
   "metadata": {},
   "outputs": [
    {
     "data": {
      "text/plain": [
       "<matplotlib.collections.PathCollection at 0x18c7ba5acd0>"
      ]
     },
     "execution_count": 35,
     "metadata": {},
     "output_type": "execute_result"
    },
    {
     "data": {
      "image/png": "[encoded data removed]",
      "text/plain": [
       "<Figure size 640x480 with 1 Axes>"
      ]
     },
     "metadata": {},
     "output_type": "display_data"
    }
   ],
   "source": [
    "plt.scatter(y_train_pred, np.array(As_y_train))"
   ]
  },
  {
   "cell_type": "code",
   "execution_count": 36,
   "id": "d2a4dd85",
   "metadata": {},
   "outputs": [
    {
     "name": "stdout",
     "output_type": "stream",
     "text": [
      "Train RMSE:  0.015932258139909974\n",
      "Test RMSE:  0.42029198847779803\n"
     ]
    }
   ],
   "source": [
    "print(\"Train RMSE: \", np.sqrt(mean_squared_error(As_y_train, y_train_pred)))\n",
    "print(\"Test RMSE: \", np.sqrt(mean_squared_error(As_y_test, y_test_pred)))"
   ]
  },
  {
   "cell_type": "code",
   "execution_count": 37,
   "id": "08fe787a",
   "metadata": {},
   "outputs": [
    {
     "name": "stdout",
     "output_type": "stream",
     "text": [
      "Train R2:  0.9989711500145815\n",
      "Test R2:  0.256009598951507\n"
     ]
    }
   ],
   "source": [
    "print(\"Train R2: \", r2_score(As_y_train, y_train_pred))\n",
    "print(\"Test R2: \", r2_score(As_y_test, y_test_pred))"
   ]
  },
  {
   "cell_type": "code",
   "execution_count": 38,
   "id": "5ec4820c",
   "metadata": {},
   "outputs": [
    {
     "data": {
      "image/png": "[encoded data removed]",
      "text/plain": [
       "<Figure size 640x480 with 1 Axes>"
      ]
     },
     "metadata": {},
     "output_type": "display_data"
    }
   ],
   "source": [
    "import matplotlib.pyplot as plt\n",
    "\n",
    "plt.scatter(y_train_pred, np.array(As_y_train), color=\"orange\", alpha=0.3)\n",
    "plt.scatter(y_test_pred, np.array(As_y_test), color=\"green\", alpha=0.4)\n",
    "plt.axis(\"auto\") # scaled, tight, auto, image, square\n",
    "# plt.xlim([0, 1.5]) \n",
    "# plt.ylim(0, None) \n",
    "plt.xlabel('Predicted Values')\n",
    "plt.ylabel('Actual Values')\n",
    "\n",
    "# Add trendline\n",
    "# z = np.polyfit(y_train_pred, As_y_train, 1)\n",
    "# p = np.poly1d(z)\n",
    "# plt.plot(y_train_pred, p(y_train_pred), color='red', linestyle='-')\n",
    "\n",
    "# Add y=x line\n",
    "plt.plot([0, 1.75], [0, 1.75], color='red', linestyle='-')\n",
    "\n",
    "plt.show()"
   ]
  },
  {
   "cell_type": "code",
   "execution_count": 39,
   "id": "a08d5dc7",
   "metadata": {},
   "outputs": [],
   "source": [
    "# import shap\n",
    "\n",
    "# #background = shap.sample(As_X_train, 100)  # Adjust the number of samples as needed\n",
    "\n",
    "# explainer = shap.KernelExplainer(gb.predict, As_X_train)\n",
    "# shap_values = explainer.shap_values(As_X_train)\n",
    "\n",
    "# shap.summary_plot(shap_values, As_X_train)\n",
    "\n",
    "# shap.force_plot(explainer.expected_value, shap_values[0], As_X_train[0])\n",
    "\n",
    "# print(shap_values)"
   ]
  },
  {
   "attachments": {},
   "cell_type": "markdown",
   "id": "e0507d63",
   "metadata": {},
   "source": [
    "Cd"
   ]
  },
  {
   "attachments": {},
   "cell_type": "markdown",
   "id": "f8f809d9",
   "metadata": {},
   "source": [
    "Optimization"
   ]
  },
  {
   "cell_type": "code",
   "execution_count": 40,
   "id": "b7aeaf0a",
   "metadata": {},
   "outputs": [
    {
     "name": "stderr",
     "output_type": "stream",
     "text": [
      "\u001b[32m[I 2023-08-24 13:50:21,264]\u001b[0m A new study created in memory with name: gb_parameter_opt\u001b[0m\n",
      "\u001b[32m[I 2023-08-24 13:50:23,752]\u001b[0m Trial 0 finished with value: 0.5590576158887073 and parameters: {'n_estimators': 148, 'max_depth': 20, 'min_samples_leaf': 3, 'min_samples_split': 9, 'subsample': 0.2665012803089313}. Best is trial 0 with value: 0.5590576158887073.\u001b[0m\n",
      "\u001b[32m[I 2023-08-24 13:50:28,500]\u001b[0m Trial 1 finished with value: 0.5836005757957977 and parameters: {'n_estimators': 185, 'max_depth': 10, 'min_samples_leaf': 5, 'min_samples_split': 6, 'subsample': 0.49374739345339946}. Best is trial 1 with value: 0.5836005757957977.\u001b[0m\n",
      "\u001b[32m[I 2023-08-24 13:50:33,202]\u001b[0m Trial 2 finished with value: 0.574343432086611 and parameters: {'n_estimators': 164, 'max_depth': 24, 'min_samples_leaf': 6, 'min_samples_split': 3, 'subsample': 0.47561084968579415}. Best is trial 1 with value: 0.5836005757957977.\u001b[0m\n",
      "\u001b[32m[I 2023-08-24 13:50:37,060]\u001b[0m Trial 3 finished with value: 0.5804559625497523 and parameters: {'n_estimators': 178, 'max_depth': 18, 'min_samples_leaf': 6, 'min_samples_split': 2, 'subsample': 0.39374653087930833}. Best is trial 1 with value: 0.5836005757957977.\u001b[0m\n",
      "\u001b[32m[I 2023-08-24 13:50:43,306]\u001b[0m Trial 4 finished with value: 0.577855976365601 and parameters: {'n_estimators': 192, 'max_depth': 16, 'min_samples_leaf': 1, 'min_samples_split': 5, 'subsample': 0.3944129674432365}. Best is trial 1 with value: 0.5836005757957977.\u001b[0m\n",
      "\u001b[32m[I 2023-08-24 13:50:49,601]\u001b[0m Trial 5 finished with value: 0.559086234760152 and parameters: {'n_estimators': 152, 'max_depth': 15, 'min_samples_leaf': 1, 'min_samples_split': 2, 'subsample': 0.4796582629825731}. Best is trial 1 with value: 0.5836005757957977.\u001b[0m\n",
      "\u001b[32m[I 2023-08-24 13:50:50,572]\u001b[0m Trial 6 finished with value: 0.4669197021634699 and parameters: {'n_estimators': 110, 'max_depth': 19, 'min_samples_leaf': 1, 'min_samples_split': 5, 'subsample': 0.11879815599697122}. Best is trial 1 with value: 0.5836005757957977.\u001b[0m\n",
      "\u001b[32m[I 2023-08-24 13:50:53,903]\u001b[0m Trial 7 finished with value: 0.5883826125978977 and parameters: {'n_estimators': 106, 'max_depth': 24, 'min_samples_leaf': 4, 'min_samples_split': 10, 'subsample': 0.46917073611309823}. Best is trial 7 with value: 0.5883826125978977.\u001b[0m\n",
      "\u001b[32m[I 2023-08-24 13:51:00,565]\u001b[0m Trial 8 finished with value: 0.5498558843506277 and parameters: {'n_estimators': 189, 'max_depth': 19, 'min_samples_leaf': 1, 'min_samples_split': 2, 'subsample': 0.3523440386846187}. Best is trial 7 with value: 0.5883826125978977.\u001b[0m\n",
      "\u001b[32m[I 2023-08-24 13:51:01,951]\u001b[0m Trial 9 finished with value: 0.5514060883288882 and parameters: {'n_estimators': 195, 'max_depth': 3, 'min_samples_leaf': 6, 'min_samples_split': 4, 'subsample': 0.2948350646419071}. Best is trial 7 with value: 0.5883826125978977.\u001b[0m\n",
      "\u001b[32m[I 2023-08-24 13:51:02,662]\u001b[0m Trial 10 finished with value: 0.5566871825302226 and parameters: {'n_estimators': 101, 'max_depth': 30, 'min_samples_leaf': 10, 'min_samples_split': 10, 'subsample': 0.20312151586546717}. Best is trial 7 with value: 0.5883826125978977.\u001b[0m\n",
      "\u001b[32m[I 2023-08-24 13:51:05,926]\u001b[0m Trial 11 finished with value: 0.5829496001808196 and parameters: {'n_estimators': 136, 'max_depth': 9, 'min_samples_leaf': 4, 'min_samples_split': 7, 'subsample': 0.48178839738428975}. Best is trial 7 with value: 0.5883826125978977.\u001b[0m\n",
      "\u001b[32m[I 2023-08-24 13:51:08,249]\u001b[0m Trial 12 finished with value: 0.5856496993385492 and parameters: {'n_estimators': 125, 'max_depth': 10, 'min_samples_leaf': 8, 'min_samples_split': 7, 'subsample': 0.42040837584826796}. Best is trial 7 with value: 0.5883826125978977.\u001b[0m\n",
      "\u001b[32m[I 2023-08-24 13:51:10,509]\u001b[0m Trial 13 finished with value: 0.6022772580725184 and parameters: {'n_estimators': 123, 'max_depth': 26, 'min_samples_leaf': 9, 'min_samples_split': 8, 'subsample': 0.4161415249621898}. Best is trial 13 with value: 0.6022772580725184.\u001b[0m\n",
      "\u001b[32m[I 2023-08-24 13:51:12,138]\u001b[0m Trial 14 finished with value: 0.5919102938586146 and parameters: {'n_estimators': 120, 'max_depth': 29, 'min_samples_leaf': 10, 'min_samples_split': 9, 'subsample': 0.34790704530994226}. Best is trial 13 with value: 0.6022772580725184.\u001b[0m\n",
      "\u001b[32m[I 2023-08-24 13:51:13,798]\u001b[0m Trial 15 finished with value: 0.5826741629617758 and parameters: {'n_estimators': 123, 'max_depth': 30, 'min_samples_leaf': 10, 'min_samples_split': 8, 'subsample': 0.3407200846446909}. Best is trial 13 with value: 0.6022772580725184.\u001b[0m\n",
      "\u001b[32m[I 2023-08-24 13:51:14,976]\u001b[0m Trial 16 finished with value: 0.5687867842664773 and parameters: {'n_estimators': 122, 'max_depth': 25, 'min_samples_leaf': 8, 'min_samples_split': 8, 'subsample': 0.24065546609164468}. Best is trial 13 with value: 0.6022772580725184.\u001b[0m\n",
      "\u001b[32m[I 2023-08-24 13:51:17,042]\u001b[0m Trial 17 finished with value: 0.5808612708738097 and parameters: {'n_estimators': 138, 'max_depth': 27, 'min_samples_leaf': 8, 'min_samples_split': 9, 'subsample': 0.3390753052296125}. Best is trial 13 with value: 0.6022772580725184.\u001b[0m\n",
      "\u001b[32m[I 2023-08-24 13:51:19,200]\u001b[0m Trial 18 finished with value: 0.6067098774966085 and parameters: {'n_estimators': 114, 'max_depth': 27, 'min_samples_leaf': 9, 'min_samples_split': 8, 'subsample': 0.426717172276485}. Best is trial 18 with value: 0.6067098774966085.\u001b[0m\n",
      "\u001b[32m[I 2023-08-24 13:51:21,326]\u001b[0m Trial 19 finished with value: 0.59664501790023 and parameters: {'n_estimators': 113, 'max_depth': 22, 'min_samples_leaf': 9, 'min_samples_split': 7, 'subsample': 0.42511893538133727}. Best is trial 18 with value: 0.6067098774966085.\u001b[0m\n",
      "\u001b[32m[I 2023-08-24 13:51:24,269]\u001b[0m Trial 20 finished with value: 0.5953387455389245 and parameters: {'n_estimators': 135, 'max_depth': 27, 'min_samples_leaf': 7, 'min_samples_split': 8, 'subsample': 0.42387221773181627}. Best is trial 18 with value: 0.6067098774966085.\u001b[0m\n",
      "\u001b[32m[I 2023-08-24 13:51:26,432]\u001b[0m Trial 21 finished with value: 0.6104562717624584 and parameters: {'n_estimators': 112, 'max_depth': 22, 'min_samples_leaf': 9, 'min_samples_split': 7, 'subsample': 0.4299214859983549}. Best is trial 21 with value: 0.6104562717624584.\u001b[0m\n",
      "\u001b[32m[I 2023-08-24 13:51:28,441]\u001b[0m Trial 22 finished with value: 0.5849047273365737 and parameters: {'n_estimators': 100, 'max_depth': 22, 'min_samples_leaf': 9, 'min_samples_split': 6, 'subsample': 0.44615351840417145}. Best is trial 21 with value: 0.6104562717624584.\u001b[0m\n",
      "\u001b[32m[I 2023-08-24 13:51:30,284]\u001b[0m Trial 23 finished with value: 0.6001586838146629 and parameters: {'n_estimators': 114, 'max_depth': 27, 'min_samples_leaf': 9, 'min_samples_split': 7, 'subsample': 0.3801691580128703}. Best is trial 21 with value: 0.6104562717624584.\u001b[0m\n",
      "\u001b[32m[I 2023-08-24 13:51:33,417]\u001b[0m Trial 24 finished with value: 0.5898052515022898 and parameters: {'n_estimators': 132, 'max_depth': 23, 'min_samples_leaf': 7, 'min_samples_split': 8, 'subsample': 0.4517355675210226}. Best is trial 21 with value: 0.6104562717624584.\u001b[0m\n",
      "\u001b[32m[I 2023-08-24 13:51:35,793]\u001b[0m Trial 25 finished with value: 0.5941979370921074 and parameters: {'n_estimators': 146, 'max_depth': 26, 'min_samples_leaf': 9, 'min_samples_split': 5, 'subsample': 0.3825724264247489}. Best is trial 21 with value: 0.6104562717624584.\u001b[0m\n",
      "\u001b[32m[I 2023-08-24 13:51:37,421]\u001b[0m Trial 26 finished with value: 0.5828727865747203 and parameters: {'n_estimators': 118, 'max_depth': 14, 'min_samples_leaf': 7, 'min_samples_split': 9, 'subsample': 0.30441733009307687}. Best is trial 21 with value: 0.6104562717624584.\u001b[0m\n",
      "\u001b[32m[I 2023-08-24 13:51:40,087]\u001b[0m Trial 27 finished with value: 0.6000073549902403 and parameters: {'n_estimators': 126, 'max_depth': 21, 'min_samples_leaf': 8, 'min_samples_split': 6, 'subsample': 0.43939549490747215}. Best is trial 21 with value: 0.6104562717624584.\u001b[0m\n",
      "\u001b[32m[I 2023-08-24 13:51:41,013]\u001b[0m Trial 28 finished with value: 0.5375256195177036 and parameters: {'n_estimators': 157, 'max_depth': 28, 'min_samples_leaf': 10, 'min_samples_split': 8, 'subsample': 0.1736713510547707}. Best is trial 21 with value: 0.6104562717624584.\u001b[0m\n",
      "\u001b[32m[I 2023-08-24 13:51:42,261]\u001b[0m Trial 29 finished with value: 0.5775415971676731 and parameters: {'n_estimators': 108, 'max_depth': 25, 'min_samples_leaf': 9, 'min_samples_split': 9, 'subsample': 0.29223698203359155}. Best is trial 21 with value: 0.6104562717624584.\u001b[0m\n",
      "\u001b[32m[I 2023-08-24 13:51:42,873]\u001b[0m Trial 30 finished with value: 0.45034107226614595 and parameters: {'n_estimators': 145, 'max_depth': 1, 'min_samples_leaf': 7, 'min_samples_split': 7, 'subsample': 0.37079047031514273}. Best is trial 21 with value: 0.6104562717624584.\u001b[0m\n",
      "\u001b[32m[I 2023-08-24 13:51:44,998]\u001b[0m Trial 31 finished with value: 0.5943580995692307 and parameters: {'n_estimators': 116, 'max_depth': 27, 'min_samples_leaf': 9, 'min_samples_split': 7, 'subsample': 0.41427655220881204}. Best is trial 21 with value: 0.6104562717624584.\u001b[0m\n",
      "\u001b[32m[I 2023-08-24 13:51:47,182]\u001b[0m Trial 32 finished with value: 0.6001878033982991 and parameters: {'n_estimators': 130, 'max_depth': 28, 'min_samples_leaf': 8, 'min_samples_split': 6, 'subsample': 0.3731715726987595}. Best is trial 21 with value: 0.6104562717624584.\u001b[0m\n",
      "\u001b[32m[I 2023-08-24 13:51:48,943]\u001b[0m Trial 33 finished with value: 0.5714626413136064 and parameters: {'n_estimators': 130, 'max_depth': 29, 'min_samples_leaf': 8, 'min_samples_split': 6, 'subsample': 0.31761838784944263}. Best is trial 21 with value: 0.6104562717624584.\u001b[0m\n",
      "\u001b[32m[I 2023-08-24 13:51:51,300]\u001b[0m Trial 34 finished with value: 0.6028247569849942 and parameters: {'n_estimators': 141, 'max_depth': 25, 'min_samples_leaf': 10, 'min_samples_split': 6, 'subsample': 0.4035168932381219}. Best is trial 21 with value: 0.6104562717624584.\u001b[0m\n",
      "\u001b[32m[I 2023-08-24 13:51:54,288]\u001b[0m Trial 35 finished with value: 0.6017531056124894 and parameters: {'n_estimators': 173, 'max_depth': 24, 'min_samples_leaf': 10, 'min_samples_split': 4, 'subsample': 0.4049877501514766}. Best is trial 21 with value: 0.6104562717624584.\u001b[0m\n",
      "\u001b[32m[I 2023-08-24 13:51:57,165]\u001b[0m Trial 36 finished with value: 0.5927656364547618 and parameters: {'n_estimators': 141, 'max_depth': 21, 'min_samples_leaf': 10, 'min_samples_split': 8, 'subsample': 0.46013195571351506}. Best is trial 21 with value: 0.6104562717624584.\u001b[0m\n",
      "\u001b[32m[I 2023-08-24 13:52:03,404]\u001b[0m Trial 37 finished with value: 0.5689569433083539 and parameters: {'n_estimators': 153, 'max_depth': 17, 'min_samples_leaf': 2, 'min_samples_split': 5, 'subsample': 0.4991929851592342}. Best is trial 21 with value: 0.6104562717624584.\u001b[0m\n",
      "\u001b[32m[I 2023-08-24 13:52:06,312]\u001b[0m Trial 38 finished with value: 0.6162514617866075 and parameters: {'n_estimators': 165, 'max_depth': 13, 'min_samples_leaf': 9, 'min_samples_split': 10, 'subsample': 0.400620246870574}. Best is trial 38 with value: 0.6162514617866075.\u001b[0m\n",
      "\u001b[32m[I 2023-08-24 13:52:08,459]\u001b[0m Trial 39 finished with value: 0.5791124908550532 and parameters: {'n_estimators': 165, 'max_depth': 12, 'min_samples_leaf': 5, 'min_samples_split': 10, 'subsample': 0.25841217067347283}. Best is trial 38 with value: 0.6162514617866075.\u001b[0m\n",
      "\u001b[32m[I 2023-08-24 13:52:11,514]\u001b[0m Trial 40 finished with value: 0.5925624148469348 and parameters: {'n_estimators': 179, 'max_depth': 8, 'min_samples_leaf': 6, 'min_samples_split': 10, 'subsample': 0.39428717307272493}. Best is trial 38 with value: 0.6162514617866075.\u001b[0m\n",
      "\u001b[32m[I 2023-08-24 13:52:14,382]\u001b[0m Trial 41 finished with value: 0.6165495216467016 and parameters: {'n_estimators': 163, 'max_depth': 13, 'min_samples_leaf': 9, 'min_samples_split': 7, 'subsample': 0.4005196048549395}. Best is trial 41 with value: 0.6165495216467016.\u001b[0m\n",
      "\u001b[32m[I 2023-08-24 13:52:17,526]\u001b[0m Trial 42 finished with value: 0.5892350085483331 and parameters: {'n_estimators': 163, 'max_depth': 15, 'min_samples_leaf': 10, 'min_samples_split': 6, 'subsample': 0.4399383712221201}. Best is trial 41 with value: 0.6165495216467016.\u001b[0m\n",
      "\u001b[32m[I 2023-08-24 13:52:21,291]\u001b[0m Trial 43 finished with value: 0.6012659867360652 and parameters: {'n_estimators': 170, 'max_depth': 13, 'min_samples_leaf': 9, 'min_samples_split': 4, 'subsample': 0.4743283206362262}. Best is trial 41 with value: 0.6165495216467016.\u001b[0m\n",
      "\u001b[32m[I 2023-08-24 13:52:23,583]\u001b[0m Trial 44 finished with value: 0.5840578604401505 and parameters: {'n_estimators': 159, 'max_depth': 11, 'min_samples_leaf': 10, 'min_samples_split': 5, 'subsample': 0.35848925035802054}. Best is trial 41 with value: 0.6165495216467016.\u001b[0m\n",
      "\u001b[32m[I 2023-08-24 13:52:27,052]\u001b[0m Trial 45 finished with value: 0.6060182721796903 and parameters: {'n_estimators': 183, 'max_depth': 19, 'min_samples_leaf': 8, 'min_samples_split': 7, 'subsample': 0.39792581292919665}. Best is trial 41 with value: 0.6165495216467016.\u001b[0m\n",
      "\u001b[32m[I 2023-08-24 13:52:30,088]\u001b[0m Trial 46 finished with value: 0.5915552658031048 and parameters: {'n_estimators': 185, 'max_depth': 7, 'min_samples_leaf': 8, 'min_samples_split': 7, 'subsample': 0.4308218654689526}. Best is trial 41 with value: 0.6165495216467016.\u001b[0m\n",
      "\u001b[32m[I 2023-08-24 13:52:33,088]\u001b[0m Trial 47 finished with value: 0.5900264535931966 and parameters: {'n_estimators': 199, 'max_depth': 17, 'min_samples_leaf': 7, 'min_samples_split': 7, 'subsample': 0.31936197056338256}. Best is trial 41 with value: 0.6165495216467016.\u001b[0m\n",
      "\u001b[32m[I 2023-08-24 13:52:37,031]\u001b[0m Trial 48 finished with value: 0.5942229078185399 and parameters: {'n_estimators': 184, 'max_depth': 19, 'min_samples_leaf': 9, 'min_samples_split': 9, 'subsample': 0.45613970656270014}. Best is trial 41 with value: 0.6165495216467016.\u001b[0m\n",
      "\u001b[32m[I 2023-08-24 13:52:41,197]\u001b[0m Trial 49 finished with value: 0.5827338418886131 and parameters: {'n_estimators': 168, 'max_depth': 18, 'min_samples_leaf': 8, 'min_samples_split': 8, 'subsample': 0.4837028432528048}. Best is trial 41 with value: 0.6165495216467016.\u001b[0m\n",
      "\u001b[32m[I 2023-08-24 13:52:46,037]\u001b[0m Trial 50 finished with value: 0.5786461572025768 and parameters: {'n_estimators': 177, 'max_depth': 16, 'min_samples_leaf': 3, 'min_samples_split': 10, 'subsample': 0.3968246069334448}. Best is trial 41 with value: 0.6165495216467016.\u001b[0m\n",
      "\u001b[32m[I 2023-08-24 13:52:48,720]\u001b[0m Trial 51 finished with value: 0.6144224041817308 and parameters: {'n_estimators': 153, 'max_depth': 20, 'min_samples_leaf': 9, 'min_samples_split': 6, 'subsample': 0.4037161069329005}. Best is trial 41 with value: 0.6165495216467016.\u001b[0m\n",
      "\u001b[32m[I 2023-08-24 13:52:51,006]\u001b[0m Trial 52 finished with value: 0.5919397315491199 and parameters: {'n_estimators': 151, 'max_depth': 20, 'min_samples_leaf': 9, 'min_samples_split': 7, 'subsample': 0.3578094232147211}. Best is trial 41 with value: 0.6165495216467016.\u001b[0m\n",
      "\u001b[32m[I 2023-08-24 13:52:51,602]\u001b[0m Trial 53 finished with value: 0.5083188543032289 and parameters: {'n_estimators': 160, 'max_depth': 14, 'min_samples_leaf': 9, 'min_samples_split': 7, 'subsample': 0.10092615963058543}. Best is trial 41 with value: 0.6165495216467016.\u001b[0m\n",
      "\u001b[32m[I 2023-08-24 13:52:54,681]\u001b[0m Trial 54 finished with value: 0.600589856559403 and parameters: {'n_estimators': 155, 'max_depth': 18, 'min_samples_leaf': 8, 'min_samples_split': 6, 'subsample': 0.41200375532425787}. Best is trial 41 with value: 0.6165495216467016.\u001b[0m\n",
      "\u001b[32m[I 2023-08-24 13:52:56,359]\u001b[0m Trial 55 finished with value: 0.5931972285566813 and parameters: {'n_estimators': 103, 'max_depth': 20, 'min_samples_leaf': 9, 'min_samples_split': 9, 'subsample': 0.38217660738494547}. Best is trial 41 with value: 0.6165495216467016.\u001b[0m\n",
      "\u001b[32m[I 2023-08-24 13:52:59,930]\u001b[0m Trial 56 finished with value: 0.5966602052802313 and parameters: {'n_estimators': 190, 'max_depth': 16, 'min_samples_leaf': 10, 'min_samples_split': 7, 'subsample': 0.4330861967773118}. Best is trial 41 with value: 0.6165495216467016.\u001b[0m\n",
      "\u001b[32m[I 2023-08-24 13:53:03,565]\u001b[0m Trial 57 finished with value: 0.5870319175962152 and parameters: {'n_estimators': 149, 'max_depth': 23, 'min_samples_leaf': 7, 'min_samples_split': 8, 'subsample': 0.4595443113811595}. Best is trial 41 with value: 0.6165495216467016.\u001b[0m\n",
      "\u001b[32m[I 2023-08-24 13:53:06,422]\u001b[0m Trial 58 finished with value: 0.5981358864038492 and parameters: {'n_estimators': 174, 'max_depth': 12, 'min_samples_leaf': 8, 'min_samples_split': 5, 'subsample': 0.3670153447503107}. Best is trial 41 with value: 0.6165495216467016.\u001b[0m\n",
      "\u001b[32m[I 2023-08-24 13:53:09,338]\u001b[0m Trial 59 finished with value: 0.5882845572774089 and parameters: {'n_estimators': 162, 'max_depth': 14, 'min_samples_leaf': 8, 'min_samples_split': 6, 'subsample': 0.3905315966693667}. Best is trial 41 with value: 0.6165495216467016.\u001b[0m\n",
      "\u001b[32m[I 2023-08-24 13:53:11,067]\u001b[0m Trial 60 finished with value: 0.5793132351272418 and parameters: {'n_estimators': 168, 'max_depth': 5, 'min_samples_leaf': 9, 'min_samples_split': 8, 'subsample': 0.3309810022449596}. Best is trial 41 with value: 0.6165495216467016.\u001b[0m\n",
      "\u001b[32m[I 2023-08-24 13:53:13,679]\u001b[0m Trial 61 finished with value: 0.5993785942168478 and parameters: {'n_estimators': 144, 'max_depth': 22, 'min_samples_leaf': 10, 'min_samples_split': 6, 'subsample': 0.4247621092552923}. Best is trial 41 with value: 0.6165495216467016.\u001b[0m\n",
      "\u001b[32m[I 2023-08-24 13:53:15,390]\u001b[0m Trial 62 finished with value: 0.5944101648738801 and parameters: {'n_estimators': 105, 'max_depth': 23, 'min_samples_leaf': 10, 'min_samples_split': 6, 'subsample': 0.4007224277470968}. Best is trial 41 with value: 0.6165495216467016.\u001b[0m\n",
      "\u001b[32m[I 2023-08-24 13:53:17,354]\u001b[0m Trial 63 finished with value: 0.6088284236448054 and parameters: {'n_estimators': 110, 'max_depth': 24, 'min_samples_leaf': 9, 'min_samples_split': 7, 'subsample': 0.4082122999201502}. Best is trial 41 with value: 0.6165495216467016.\u001b[0m\n",
      "\u001b[32m[I 2023-08-24 13:53:19,391]\u001b[0m Trial 64 finished with value: 0.6024032686224263 and parameters: {'n_estimators': 110, 'max_depth': 21, 'min_samples_leaf': 9, 'min_samples_split': 7, 'subsample': 0.4147016798608397}. Best is trial 41 with value: 0.6165495216467016.\u001b[0m\n",
      "\u001b[32m[I 2023-08-24 13:53:21,721]\u001b[0m Trial 65 finished with value: 0.5883311336349253 and parameters: {'n_estimators': 115, 'max_depth': 24, 'min_samples_leaf': 9, 'min_samples_split': 7, 'subsample': 0.44755426074157667}. Best is trial 41 with value: 0.6165495216467016.\u001b[0m\n",
      "\u001b[32m[I 2023-08-24 13:53:23,474]\u001b[0m Trial 66 finished with value: 0.5903557618487631 and parameters: {'n_estimators': 107, 'max_depth': 19, 'min_samples_leaf': 9, 'min_samples_split': 7, 'subsample': 0.38491916071902715}. Best is trial 41 with value: 0.6165495216467016.\u001b[0m\n",
      "\u001b[32m[I 2023-08-24 13:53:25,784]\u001b[0m Trial 67 finished with value: 0.6004199991001006 and parameters: {'n_estimators': 120, 'max_depth': 10, 'min_samples_leaf': 8, 'min_samples_split': 8, 'subsample': 0.4334254760092747}. Best is trial 41 with value: 0.6165495216467016.\u001b[0m\n",
      "\u001b[32m[I 2023-08-24 13:53:28,002]\u001b[0m Trial 68 finished with value: 0.5673587990414439 and parameters: {'n_estimators': 195, 'max_depth': 26, 'min_samples_leaf': 4, 'min_samples_split': 9, 'subsample': 0.2118804733590884}. Best is trial 41 with value: 0.6165495216467016.\u001b[0m\n",
      "\u001b[32m[I 2023-08-24 13:53:30,396]\u001b[0m Trial 69 finished with value: 0.6062640289631188 and parameters: {'n_estimators': 112, 'max_depth': 17, 'min_samples_leaf': 9, 'min_samples_split': 3, 'subsample': 0.4641400333521225}. Best is trial 41 with value: 0.6165495216467016.\u001b[0m\n",
      "\u001b[32m[I 2023-08-24 13:53:32,859]\u001b[0m Trial 70 finished with value: 0.5919944741837592 and parameters: {'n_estimators': 112, 'max_depth': 15, 'min_samples_leaf': 9, 'min_samples_split': 3, 'subsample': 0.4741420607014585}. Best is trial 41 with value: 0.6165495216467016.\u001b[0m\n",
      "\u001b[32m[I 2023-08-24 13:53:35,494]\u001b[0m Trial 71 finished with value: 0.5889206050066836 and parameters: {'n_estimators': 111, 'max_depth': 13, 'min_samples_leaf': 8, 'min_samples_split': 2, 'subsample': 0.48767875805799493}. Best is trial 41 with value: 0.6165495216467016.\u001b[0m\n",
      "\u001b[32m[I 2023-08-24 13:53:38,019]\u001b[0m Trial 72 finished with value: 0.6020606793228634 and parameters: {'n_estimators': 118, 'max_depth': 17, 'min_samples_leaf': 9, 'min_samples_split': 3, 'subsample': 0.4666171760829174}. Best is trial 41 with value: 0.6165495216467016.\u001b[0m\n",
      "\u001b[32m[I 2023-08-24 13:53:39,750]\u001b[0m Trial 73 finished with value: 0.6025027687194762 and parameters: {'n_estimators': 102, 'max_depth': 22, 'min_samples_leaf': 10, 'min_samples_split': 8, 'subsample': 0.4081041996107902}. Best is trial 41 with value: 0.6165495216467016.\u001b[0m\n",
      "\u001b[32m[I 2023-08-24 13:53:42,297]\u001b[0m Trial 74 finished with value: 0.5865408724004005 and parameters: {'n_estimators': 126, 'max_depth': 20, 'min_samples_leaf': 9, 'min_samples_split': 3, 'subsample': 0.4445315157321299}. Best is trial 41 with value: 0.6165495216467016.\u001b[0m\n",
      "\u001b[32m[I 2023-08-24 13:53:45,827]\u001b[0m Trial 75 finished with value: 0.6059517047183789 and parameters: {'n_estimators': 182, 'max_depth': 18, 'min_samples_leaf': 9, 'min_samples_split': 4, 'subsample': 0.4258870812244409}. Best is trial 41 with value: 0.6165495216467016.\u001b[0m\n",
      "\u001b[32m[I 2023-08-24 13:53:48,458]\u001b[0m Trial 76 finished with value: 0.6011765853589143 and parameters: {'n_estimators': 155, 'max_depth': 23, 'min_samples_leaf': 8, 'min_samples_split': 10, 'subsample': 0.37407343507253865}. Best is trial 41 with value: 0.6165495216467016.\u001b[0m\n",
      "\u001b[32m[I 2023-08-24 13:53:50,405]\u001b[0m Trial 77 finished with value: 0.6045747398177769 and parameters: {'n_estimators': 110, 'max_depth': 21, 'min_samples_leaf': 10, 'min_samples_split': 7, 'subsample': 0.4179225440350738}. Best is trial 41 with value: 0.6165495216467016.\u001b[0m\n",
      "\u001b[32m[I 2023-08-24 13:53:52,837]\u001b[0m Trial 78 finished with value: 0.5990053028888465 and parameters: {'n_estimators': 166, 'max_depth': 25, 'min_samples_leaf': 9, 'min_samples_split': 7, 'subsample': 0.34978000898841927}. Best is trial 41 with value: 0.6165495216467016.\u001b[0m\n",
      "\u001b[32m[I 2023-08-24 13:53:55,030]\u001b[0m Trial 79 finished with value: 0.5988610409811905 and parameters: {'n_estimators': 115, 'max_depth': 24, 'min_samples_leaf': 7, 'min_samples_split': 2, 'subsample': 0.39191851876296335}. Best is trial 41 with value: 0.6165495216467016.\u001b[0m\n",
      "\u001b[32m[I 2023-08-24 13:53:57,551]\u001b[0m Trial 80 finished with value: 0.5903510075632932 and parameters: {'n_estimators': 107, 'max_depth': 11, 'min_samples_leaf': 5, 'min_samples_split': 9, 'subsample': 0.441347821956814}. Best is trial 41 with value: 0.6165495216467016.\u001b[0m\n",
      "\u001b[32m[I 2023-08-24 13:54:00,866]\u001b[0m Trial 81 finished with value: 0.5914001045048247 and parameters: {'n_estimators': 173, 'max_depth': 19, 'min_samples_leaf': 9, 'min_samples_split': 4, 'subsample': 0.42452862057184354}. Best is trial 41 with value: 0.6165495216467016.\u001b[0m\n",
      "\u001b[32m[I 2023-08-24 13:54:04,094]\u001b[0m Trial 82 finished with value: 0.5991828584261694 and parameters: {'n_estimators': 177, 'max_depth': 17, 'min_samples_leaf': 9, 'min_samples_split': 4, 'subsample': 0.4061421198090748}. Best is trial 41 with value: 0.6165495216467016.\u001b[0m\n",
      "\u001b[32m[I 2023-08-24 13:54:07,870]\u001b[0m Trial 83 finished with value: 0.5974823745742226 and parameters: {'n_estimators': 182, 'max_depth': 18, 'min_samples_leaf': 10, 'min_samples_split': 3, 'subsample': 0.4655420070937212}. Best is trial 41 with value: 0.6165495216467016.\u001b[0m\n",
      "\u001b[32m[I 2023-08-24 13:54:12,079]\u001b[0m Trial 84 finished with value: 0.594813141414435 and parameters: {'n_estimators': 186, 'max_depth': 16, 'min_samples_leaf': 8, 'min_samples_split': 4, 'subsample': 0.45278818010351213}. Best is trial 41 with value: 0.6165495216467016.\u001b[0m\n",
      "\u001b[32m[I 2023-08-24 13:54:15,920]\u001b[0m Trial 85 finished with value: 0.5885653651845745 and parameters: {'n_estimators': 181, 'max_depth': 18, 'min_samples_leaf': 8, 'min_samples_split': 3, 'subsample': 0.4328480270161652}. Best is trial 41 with value: 0.6165495216467016.\u001b[0m\n",
      "\u001b[32m[I 2023-08-24 13:54:18,922]\u001b[0m Trial 86 finished with value: 0.6077940790551268 and parameters: {'n_estimators': 159, 'max_depth': 22, 'min_samples_leaf': 9, 'min_samples_split': 6, 'subsample': 0.41808121412471505}. Best is trial 41 with value: 0.6165495216467016.\u001b[0m\n",
      "\u001b[32m[I 2023-08-24 13:54:21,375]\u001b[0m Trial 87 finished with value: 0.5762702810308489 and parameters: {'n_estimators': 159, 'max_depth': 13, 'min_samples_leaf': 9, 'min_samples_split': 6, 'subsample': 0.3618589023290669}. Best is trial 41 with value: 0.6165495216467016.\u001b[0m\n",
      "\u001b[32m[I 2023-08-24 13:54:23,867]\u001b[0m Trial 88 finished with value: 0.5987593302957597 and parameters: {'n_estimators': 153, 'max_depth': 22, 'min_samples_leaf': 10, 'min_samples_split': 5, 'subsample': 0.3991717549204996}. Best is trial 41 with value: 0.6165495216467016.\u001b[0m\n",
      "\u001b[32m[I 2023-08-24 13:54:26,724]\u001b[0m Trial 89 finished with value: 0.6092305328099971 and parameters: {'n_estimators': 156, 'max_depth': 28, 'min_samples_leaf': 9, 'min_samples_split': 6, 'subsample': 0.41576780470987434}. Best is trial 41 with value: 0.6165495216467016.\u001b[0m\n",
      "\u001b[32m[I 2023-08-24 13:54:29,607]\u001b[0m Trial 90 finished with value: 0.6096896198974034 and parameters: {'n_estimators': 157, 'max_depth': 29, 'min_samples_leaf': 9, 'min_samples_split': 6, 'subsample': 0.41553759364413345}. Best is trial 41 with value: 0.6165495216467016.\u001b[0m\n",
      "\u001b[32m[I 2023-08-24 13:54:32,411]\u001b[0m Trial 91 finished with value: 0.5989823630692952 and parameters: {'n_estimators': 156, 'max_depth': 29, 'min_samples_leaf': 9, 'min_samples_split': 6, 'subsample': 0.4120112392613252}. Best is trial 41 with value: 0.6165495216467016.\u001b[0m\n",
      "\u001b[32m[I 2023-08-24 13:54:34,990]\u001b[0m Trial 92 finished with value: 0.5939013794147409 and parameters: {'n_estimators': 161, 'max_depth': 28, 'min_samples_leaf': 9, 'min_samples_split': 5, 'subsample': 0.37857923997411147}. Best is trial 41 with value: 0.6165495216467016.\u001b[0m\n",
      "\u001b[32m[I 2023-08-24 13:54:37,939]\u001b[0m Trial 93 finished with value: 0.6088881782687301 and parameters: {'n_estimators': 158, 'max_depth': 30, 'min_samples_leaf': 9, 'min_samples_split': 6, 'subsample': 0.41939033520635277}. Best is trial 41 with value: 0.6165495216467016.\u001b[0m\n",
      "\u001b[32m[I 2023-08-24 13:54:40,390]\u001b[0m Trial 94 finished with value: 0.5915998761911873 and parameters: {'n_estimators': 157, 'max_depth': 30, 'min_samples_leaf': 10, 'min_samples_split': 6, 'subsample': 0.38644451815158576}. Best is trial 41 with value: 0.6165495216467016.\u001b[0m\n",
      "\u001b[32m[I 2023-08-24 13:54:41,230]\u001b[0m Trial 95 finished with value: 0.5439118341818299 and parameters: {'n_estimators': 150, 'max_depth': 30, 'min_samples_leaf': 9, 'min_samples_split': 6, 'subsample': 0.14960560400649991}. Best is trial 41 with value: 0.6165495216467016.\u001b[0m\n",
      "\u001b[32m[I 2023-08-24 13:54:44,458]\u001b[0m Trial 96 finished with value: 0.6057906799402996 and parameters: {'n_estimators': 164, 'max_depth': 28, 'min_samples_leaf': 9, 'min_samples_split': 6, 'subsample': 0.4225515702415109}. Best is trial 41 with value: 0.6165495216467016.\u001b[0m\n",
      "\u001b[32m[I 2023-08-24 13:54:47,605]\u001b[0m Trial 97 finished with value: 0.5993724901984093 and parameters: {'n_estimators': 147, 'max_depth': 29, 'min_samples_leaf': 8, 'min_samples_split': 5, 'subsample': 0.4352741030363905}. Best is trial 41 with value: 0.6165495216467016.\u001b[0m\n",
      "\u001b[32m[I 2023-08-24 13:54:50,969]\u001b[0m Trial 98 finished with value: 0.5879546033046458 and parameters: {'n_estimators': 153, 'max_depth': 26, 'min_samples_leaf': 6, 'min_samples_split': 6, 'subsample': 0.4046277172992701}. Best is trial 41 with value: 0.6165495216467016.\u001b[0m\n",
      "\u001b[32m[I 2023-08-24 13:54:53,807]\u001b[0m Trial 99 finished with value: 0.6050756564471202 and parameters: {'n_estimators': 158, 'max_depth': 27, 'min_samples_leaf': 10, 'min_samples_split': 6, 'subsample': 0.4183684703607035}. Best is trial 41 with value: 0.6165495216467016.\u001b[0m\n"
     ]
    },
    {
     "name": "stdout",
     "output_type": "stream",
     "text": [
      "Best r2:  0.6165495216467016\n",
      "Best trial: {'n_estimators': 163, 'max_depth': 13, 'min_samples_leaf': 9, 'min_samples_split': 7, 'subsample': 0.4005196048549395}\n"
     ]
    }
   ],
   "source": [
    "sampler = TPESampler()\n",
    "study = optuna.create_study(\n",
    "    study_name=\"gb_parameter_opt\",\n",
    "    direction=\"maximize\",\n",
    "    sampler=sampler,\n",
    ")\n",
    "\n",
    "study.optimize(lambda trial : objectiveGB(trial, Cd_X_train, Cd_y_train), n_trials=100)\n",
    "print(\"Best r2: \", study.best_value)\n",
    "print(\"Best trial:\", study.best_trial.params)"
   ]
  },
  {
   "cell_type": "code",
   "execution_count": 41,
   "id": "861f88d8",
   "metadata": {},
   "outputs": [
    {
     "data": {
      "application/vnd.plotly.v1+json": {
       "config": {
        "plotlyServerURL": "https://plot.ly"
       },
       "data": [
        {
         "dimensions": [
          {
           "label": "Objective Value",
           "range": [
            0.45034107226614595,
            0.6165495216467016
           ],
           "values": [
            0.5590576158887073,
            0.5836005757957977,
            0.574343432086611,
            0.5804559625497523,
            0.577855976365601,
            0.559086234760152,
            0.4669197021634699,
            0.5883826125978977,
            0.5498558843506277,
            0.5514060883288882,
            0.5566871825302226,
            0.5829496001808196,
            0.5856496993385492,
            0.6022772580725184,
            0.5919102938586146,
            0.5826741629617758,
            0.5687867842664773,
            0.5808612708738097,
            0.6067098774966085,
            0.59664501790023,
            0.5953387455389245,
            0.6104562717624584,
            0.5849047273365737,
            0.6001586838146629,
            0.5898052515022898,
            0.5941979370921074,
            0.5828727865747203,
            0.6000073549902403,
            0.5375256195177036,
            0.5775415971676731,
            0.45034107226614595,
            0.5943580995692307,
            0.6001878033982991,
            0.5714626413136064,
            0.6028247569849942,
            0.6017531056124894,
            0.5927656364547618,
            0.5689569433083539,
            0.6162514617866075,
            0.5791124908550532,
            0.5925624148469348,
            0.6165495216467016,
            0.5892350085483331,
            0.6012659867360652,
            0.5840578604401505,
            0.6060182721796903,
            0.5915552658031048,
            0.5900264535931966,
            0.5942229078185399,
            0.5827338418886131,
            0.5786461572025768,
            0.6144224041817308,
            0.5919397315491199,
            0.5083188543032289,
            0.600589856559403,
            0.5931972285566813,
            0.5966602052802313,
            0.5870319175962152,
            0.5981358864038492,
            0.5882845572774089,
            0.5793132351272418,
            0.5993785942168478,
            0.5944101648738801,
            0.6088284236448054,
            0.6024032686224263,
            0.5883311336349253,
            0.5903557618487631,
            0.6004199991001006,
            0.5673587990414439,
            0.6062640289631188,
            0.5919944741837592,
            0.5889206050066836,
            0.6020606793228634,
            0.6025027687194762,
            0.5865408724004005,
            0.6059517047183789,
            0.6011765853589143,
            0.6045747398177769,
            0.5990053028888465,
            0.5988610409811905,
            0.5903510075632932,
            0.5914001045048247,
            0.5991828584261694,
            0.5974823745742226,
            0.594813141414435,
            0.5885653651845745,
            0.6077940790551268,
            0.5762702810308489,
            0.5987593302957597,
            0.6092305328099971,
            0.6096896198974034,
            0.5989823630692952,
            0.5939013794147409,
            0.6088881782687301,
            0.5915998761911873,
            0.5439118341818299,
            0.6057906799402996,
            0.5993724901984093,
            0.5879546033046458,
            0.6050756564471202
           ]
          },
          {
           "label": "max_depth",
           "range": [
            1,
            30
           ],
           "values": [
            20,
            10,
            24,
            18,
            16,
            15,
            19,
            24,
            19,
            3,
            30,
            9,
            10,
            26,
            29,
            30,
            25,
            27,
            27,
            22,
            27,
            22,
            22,
            27,
            23,
            26,
            14,
            21,
            28,
            25,
            1,
            27,
            28,
            29,
            25,
            24,
            21,
            17,
            13,
            12,
            8,
            13,
            15,
            13,
            11,
            19,
            7,
            17,
            19,
            18,
            16,
            20,
            20,
            14,
            18,
            20,
            16,
            23,
            12,
            14,
            5,
            22,
            23,
            24,
            21,
            24,
            19,
            10,
            26,
            17,
            15,
            13,
            17,
            22,
            20,
            18,
            23,
            21,
            25,
            24,
            11,
            19,
            17,
            18,
            16,
            18,
            22,
            13,
            22,
            28,
            29,
            29,
            28,
            30,
            30,
            30,
            28,
            29,
            26,
            27
           ]
          },
          {
           "label": "min_samples_leaf",
           "range": [
            1,
            10
           ],
           "values": [
            3,
            5,
            6,
            6,
            1,
            1,
            1,
            4,
            1,
            6,
            10,
            4,
            8,
            9,
            10,
            10,
            8,
            8,
            9,
            9,
            7,
            9,
            9,
            9,
            7,
            9,
            7,
            8,
            10,
            9,
            7,
            9,
            8,
            8,
            10,
            10,
            10,
            2,
            9,
            5,
            6,
            9,
            10,
            9,
            10,
            8,
            8,
            7,
            9,
            8,
            3,
            9,
            9,
            9,
            8,
            9,
            10,
            7,
            8,
            8,
            9,
            10,
            10,
            9,
            9,
            9,
            9,
            8,
            4,
            9,
            9,
            8,
            9,
            10,
            9,
            9,
            8,
            10,
            9,
            7,
            5,
            9,
            9,
            10,
            8,
            8,
            9,
            9,
            10,
            9,
            9,
            9,
            9,
            9,
            10,
            9,
            9,
            8,
            6,
            10
           ]
          },
          {
           "label": "min_samples_split",
           "range": [
            2,
            10
           ],
           "values": [
            9,
            6,
            3,
            2,
            5,
            2,
            5,
            10,
            2,
            4,
            10,
            7,
            7,
            8,
            9,
            8,
            8,
            9,
            8,
            7,
            8,
            7,
            6,
            7,
            8,
            5,
            9,
            6,
            8,
            9,
            7,
            7,
            6,
            6,
            6,
            4,
            8,
            5,
            10,
            10,
            10,
            7,
            6,
            4,
            5,
            7,
            7,
            7,
            9,
            8,
            10,
            6,
            7,
            7,
            6,
            9,
            7,
            8,
            5,
            6,
            8,
            6,
            6,
            7,
            7,
            7,
            7,
            8,
            9,
            3,
            3,
            2,
            3,
            8,
            3,
            4,
            10,
            7,
            7,
            2,
            9,
            4,
            4,
            3,
            4,
            3,
            6,
            6,
            5,
            6,
            6,
            6,
            5,
            6,
            6,
            6,
            6,
            5,
            6,
            6
           ]
          },
          {
           "label": "n_estimators",
           "range": [
            100,
            199
           ],
           "values": [
            148,
            185,
            164,
            178,
            192,
            152,
            110,
            106,
            189,
            195,
            101,
            136,
            125,
            123,
            120,
            123,
            122,
            138,
            114,
            113,
            135,
            112,
            100,
            114,
            132,
            146,
            118,
            126,
            157,
            108,
            145,
            116,
            130,
            130,
            141,
            173,
            141,
            153,
            165,
            165,
            179,
            163,
            163,
            170,
            159,
            183,
            185,
            199,
            184,
            168,
            177,
            153,
            151,
            160,
            155,
            103,
            190,
            149,
            174,
            162,
            168,
            144,
            105,
            110,
            110,
            115,
            107,
            120,
            195,
            112,
            112,
            111,
            118,
            102,
            126,
            182,
            155,
            110,
            166,
            115,
            107,
            173,
            177,
            182,
            186,
            181,
            159,
            159,
            153,
            156,
            157,
            156,
            161,
            158,
            157,
            150,
            164,
            147,
            153,
            158
           ]
          },
          {
           "label": "subsample",
           "range": [
            0.10092615963058543,
            0.4991929851592342
           ],
           "values": [
            0.2665012803089313,
            0.49374739345339946,
            0.47561084968579415,
            0.39374653087930833,
            0.3944129674432365,
            0.4796582629825731,
            0.11879815599697122,
            0.46917073611309823,
            0.3523440386846187,
            0.2948350646419071,
            0.20312151586546717,
            0.48178839738428975,
            0.42040837584826796,
            0.4161415249621898,
            0.34790704530994226,
            0.3407200846446909,
            0.24065546609164468,
            0.3390753052296125,
            0.426717172276485,
            0.42511893538133727,
            0.42387221773181627,
            0.4299214859983549,
            0.44615351840417145,
            0.3801691580128703,
            0.4517355675210226,
            0.3825724264247489,
            0.30441733009307687,
            0.43939549490747215,
            0.1736713510547707,
            0.29223698203359155,
            0.37079047031514273,
            0.41427655220881204,
            0.3731715726987595,
            0.31761838784944263,
            0.4035168932381219,
            0.4049877501514766,
            0.46013195571351506,
            0.4991929851592342,
            0.400620246870574,
            0.25841217067347283,
            0.39428717307272493,
            0.4005196048549395,
            0.4399383712221201,
            0.4743283206362262,
            0.35848925035802054,
            0.39792581292919665,
            0.4308218654689526,
            0.31936197056338256,
            0.45613970656270014,
            0.4837028432528048,
            0.3968246069334448,
            0.4037161069329005,
            0.3578094232147211,
            0.10092615963058543,
            0.41200375532425787,
            0.38217660738494547,
            0.4330861967773118,
            0.4595443113811595,
            0.3670153447503107,
            0.3905315966693667,
            0.3309810022449596,
            0.4247621092552923,
            0.4007224277470968,
            0.4082122999201502,
            0.4147016798608397,
            0.44755426074157667,
            0.38491916071902715,
            0.4334254760092747,
            0.2118804733590884,
            0.4641400333521225,
            0.4741420607014585,
            0.48767875805799493,
            0.4666171760829174,
            0.4081041996107902,
            0.4445315157321299,
            0.4258870812244409,
            0.37407343507253865,
            0.4179225440350738,
            0.34978000898841927,
            0.39191851876296335,
            0.441347821956814,
            0.42452862057184354,
            0.4061421198090748,
            0.4655420070937212,
            0.45278818010351213,
            0.4328480270161652,
            0.41808121412471505,
            0.3618589023290669,
            0.3991717549204996,
            0.41576780470987434,
            0.41553759364413345,
            0.4120112392613252,
            0.37857923997411147,
            0.41939033520635277,
            0.38644451815158576,
            0.14960560400649991,
            0.4225515702415109,
            0.4352741030363905,
            0.4046277172992701,
            0.4183684703607035
           ]
          }
         ],
         "labelangle": 30,
         "labelside": "bottom",
         "line": {
          "color": [
           0.5590576158887073,
           0.5836005757957977,
           0.574343432086611,
           0.5804559625497523,
           0.577855976365601,
           0.559086234760152,
           0.4669197021634699,
           0.5883826125978977,
           0.5498558843506277,
           0.5514060883288882,
           0.5566871825302226,
           0.5829496001808196,
           0.5856496993385492,
           0.6022772580725184,
           0.5919102938586146,
           0.5826741629617758,
           0.5687867842664773,
           0.5808612708738097,
           0.6067098774966085,
           0.59664501790023,
           0.5953387455389245,
           0.6104562717624584,
           0.5849047273365737,
           0.6001586838146629,
           0.5898052515022898,
           0.5941979370921074,
           0.5828727865747203,
           0.6000073549902403,
           0.5375256195177036,
           0.5775415971676731,
           0.45034107226614595,
           0.5943580995692307,
           0.6001878033982991,
           0.5714626413136064,
           0.6028247569849942,
           0.6017531056124894,
           0.5927656364547618,
           0.5689569433083539,
           0.6162514617866075,
           0.5791124908550532,
           0.5925624148469348,
           0.6165495216467016,
           0.5892350085483331,
           0.6012659867360652,
           0.5840578604401505,
           0.6060182721796903,
           0.5915552658031048,
           0.5900264535931966,
           0.5942229078185399,
           0.5827338418886131,
           0.5786461572025768,
           0.6144224041817308,
           0.5919397315491199,
           0.5083188543032289,
           0.600589856559403,
           0.5931972285566813,
           0.5966602052802313,
           0.5870319175962152,
           0.5981358864038492,
           0.5882845572774089,
           0.5793132351272418,
           0.5993785942168478,
           0.5944101648738801,
           0.6088284236448054,
           0.6024032686224263,
           0.5883311336349253,
           0.5903557618487631,
           0.6004199991001006,
           0.5673587990414439,
           0.6062640289631188,
           0.5919944741837592,
           0.5889206050066836,
           0.6020606793228634,
           0.6025027687194762,
           0.5865408724004005,
           0.6059517047183789,
           0.6011765853589143,
           0.6045747398177769,
           0.5990053028888465,
           0.5988610409811905,
           0.5903510075632932,
           0.5914001045048247,
           0.5991828584261694,
           0.5974823745742226,
           0.594813141414435,
           0.5885653651845745,
           0.6077940790551268,
           0.5762702810308489,
           0.5987593302957597,
           0.6092305328099971,
           0.6096896198974034,
           0.5989823630692952,
           0.5939013794147409,
           0.6088881782687301,
           0.5915998761911873,
           0.5439118341818299,
           0.6057906799402996,
           0.5993724901984093,
           0.5879546033046458,
           0.6050756564471202
          ],
          "colorbar": {
           "title": {
            "text": "Objective Value"
           }
          },
          "colorscale": [
           [
            0,
            "rgb(247,251,255)"
           ],
           [
            0.125,
            "rgb(222,235,247)"
           ],
           [
            0.25,
            "rgb(198,219,239)"
           ],
           [
            0.375,
            "rgb(158,202,225)"
           ],
           [
            0.5,
            "rgb(107,174,214)"
           ],
           [
            0.625,
            "rgb(66,146,198)"
           ],
           [
            0.75,
            "rgb(33,113,181)"
           ],
           [
            0.875,
            "rgb(8,81,156)"
           ],
           [
            1,
            "rgb(8,48,107)"
           ]
          ],
          "reversescale": false,
          "showscale": true
         },
         "type": "parcoords"
        }
       ],
       "layout": {
        "template": {
         "data": {
          "bar": [
           {
            "error_x": {
             "color": "#2a3f5f"
            },
            "error_y": {
             "color": "#2a3f5f"
            },
            "marker": {
             "line": {
              "color": "#E5ECF6",
              "width": 0.5
             },
             "pattern": {
              "fillmode": "overlay",
              "size": 10,
              "solidity": 0.2
             }
            },
            "type": "bar"
           }
          ],
          "barpolar": [
           {
            "marker": {
             "line": {
              "color": "#E5ECF6",
              "width": 0.5
             },
             "pattern": {
              "fillmode": "overlay",
              "size": 10,
              "solidity": 0.2
             }
            },
            "type": "barpolar"
           }
          ],
          "carpet": [
           {
            "aaxis": {
             "endlinecolor": "#2a3f5f",
             "gridcolor": "white",
             "linecolor": "white",
             "minorgridcolor": "white",
             "startlinecolor": "#2a3f5f"
            },
            "baxis": {
             "endlinecolor": "#2a3f5f",
             "gridcolor": "white",
             "linecolor": "white",
             "minorgridcolor": "white",
             "startlinecolor": "#2a3f5f"
            },
            "type": "carpet"
           }
          ],
          "choropleth": [
           {
            "colorbar": {
             "outlinewidth": 0,
             "ticks": ""
            },
            "type": "choropleth"
           }
          ],
          "contour": [
           {
            "colorbar": {
             "outlinewidth": 0,
             "ticks": ""
            },
            "colorscale": [
             [
              0,
              "#0d0887"
             ],
             [
              0.1111111111111111,
              "#46039f"
             ],
             [
              0.2222222222222222,
              "#7201a8"
             ],
             [
              0.3333333333333333,
              "#9c179e"
             ],
             [
              0.4444444444444444,
              "#bd3786"
             ],
             [
              0.5555555555555556,
              "#d8576b"
             ],
             [
              0.6666666666666666,
              "#ed7953"
             ],
             [
              0.7777777777777778,
              "#fb9f3a"
             ],
             [
              0.8888888888888888,
              "#fdca26"
             ],
             [
              1,
              "#f0f921"
             ]
            ],
            "type": "contour"
           }
          ],
          "contourcarpet": [
           {
            "colorbar": {
             "outlinewidth": 0,
             "ticks": ""
            },
            "type": "contourcarpet"
           }
          ],
          "heatmap": [
           {
            "colorbar": {
             "outlinewidth": 0,
             "ticks": ""
            },
            "colorscale": [
             [
              0,
              "#0d0887"
             ],
             [
              0.1111111111111111,
              "#46039f"
             ],
             [
              0.2222222222222222,
              "#7201a8"
             ],
             [
              0.3333333333333333,
              "#9c179e"
             ],
             [
              0.4444444444444444,
              "#bd3786"
             ],
             [
              0.5555555555555556,
              "#d8576b"
             ],
             [
              0.6666666666666666,
              "#ed7953"
             ],
             [
              0.7777777777777778,
              "#fb9f3a"
             ],
             [
              0.8888888888888888,
              "#fdca26"
             ],
             [
              1,
              "#f0f921"
             ]
            ],
            "type": "heatmap"
           }
          ],
          "heatmapgl": [
           {
            "colorbar": {
             "outlinewidth": 0,
             "ticks": ""
            },
            "colorscale": [
             [
              0,
              "#0d0887"
             ],
             [
              0.1111111111111111,
              "#46039f"
             ],
             [
              0.2222222222222222,
              "#7201a8"
             ],
             [
              0.3333333333333333,
              "#9c179e"
             ],
             [
              0.4444444444444444,
              "#bd3786"
             ],
             [
              0.5555555555555556,
              "#d8576b"
             ],
             [
              0.6666666666666666,
              "#ed7953"
             ],
             [
              0.7777777777777778,
              "#fb9f3a"
             ],
             [
              0.8888888888888888,
              "#fdca26"
             ],
             [
              1,
              "#f0f921"
             ]
            ],
            "type": "heatmapgl"
           }
          ],
          "histogram": [
           {
            "marker": {
             "pattern": {
              "fillmode": "overlay",
              "size": 10,
              "solidity": 0.2
             }
            },
            "type": "histogram"
           }
          ],
          "histogram2d": [
           {
            "colorbar": {
             "outlinewidth": 0,
             "ticks": ""
            },
            "colorscale": [
             [
              0,
              "#0d0887"
             ],
             [
              0.1111111111111111,
              "#46039f"
             ],
             [
              0.2222222222222222,
              "#7201a8"
             ],
             [
              0.3333333333333333,
              "#9c179e"
             ],
             [
              0.4444444444444444,
              "#bd3786"
             ],
             [
              0.5555555555555556,
              "#d8576b"
             ],
             [
              0.6666666666666666,
              "#ed7953"
             ],
             [
              0.7777777777777778,
              "#fb9f3a"
             ],
             [
              0.8888888888888888,
              "#fdca26"
             ],
             [
              1,
              "#f0f921"
             ]
            ],
            "type": "histogram2d"
           }
          ],
          "histogram2dcontour": [
           {
            "colorbar": {
             "outlinewidth": 0,
             "ticks": ""
            },
            "colorscale": [
             [
              0,
              "#0d0887"
             ],
             [
              0.1111111111111111,
              "#46039f"
             ],
             [
              0.2222222222222222,
              "#7201a8"
             ],
             [
              0.3333333333333333,
              "#9c179e"
             ],
             [
              0.4444444444444444,
              "#bd3786"
             ],
             [
              0.5555555555555556,
              "#d8576b"
             ],
             [
              0.6666666666666666,
              "#ed7953"
             ],
             [
              0.7777777777777778,
              "#fb9f3a"
             ],
             [
              0.8888888888888888,
              "#fdca26"
             ],
             [
              1,
              "#f0f921"
             ]
            ],
            "type": "histogram2dcontour"
           }
          ],
          "mesh3d": [
           {
            "colorbar": {
             "outlinewidth": 0,
             "ticks": ""
            },
            "type": "mesh3d"
           }
          ],
          "parcoords": [
           {
            "line": {
             "colorbar": {
              "outlinewidth": 0,
              "ticks": ""
             }
            },
            "type": "parcoords"
           }
          ],
          "pie": [
           {
            "automargin": true,
            "type": "pie"
           }
          ],
          "scatter": [
           {
            "marker": {
             "colorbar": {
              "outlinewidth": 0,
              "ticks": ""
             }
            },
            "type": "scatter"
           }
          ],
          "scatter3d": [
           {
            "line": {
             "colorbar": {
              "outlinewidth": 0,
              "ticks": ""
             }
            },
            "marker": {
             "colorbar": {
              "outlinewidth": 0,
              "ticks": ""
             }
            },
            "type": "scatter3d"
           }
          ],
          "scattercarpet": [
           {
            "marker": {
             "colorbar": {
              "outlinewidth": 0,
              "ticks": ""
             }
            },
            "type": "scattercarpet"
           }
          ],
          "scattergeo": [
           {
            "marker": {
             "colorbar": {
              "outlinewidth": 0,
              "ticks": ""
             }
            },
            "type": "scattergeo"
           }
          ],
          "scattergl": [
           {
            "marker": {
             "colorbar": {
              "outlinewidth": 0,
              "ticks": ""
             }
            },
            "type": "scattergl"
           }
          ],
          "scattermapbox": [
           {
            "marker": {
             "colorbar": {
              "outlinewidth": 0,
              "ticks": ""
             }
            },
            "type": "scattermapbox"
           }
          ],
          "scatterpolar": [
           {
            "marker": {
             "colorbar": {
              "outlinewidth": 0,
              "ticks": ""
             }
            },
            "type": "scatterpolar"
           }
          ],
          "scatterpolargl": [
           {
            "marker": {
             "colorbar": {
              "outlinewidth": 0,
              "ticks": ""
             }
            },
            "type": "scatterpolargl"
           }
          ],
          "scatterternary": [
           {
            "marker": {
             "colorbar": {
              "outlinewidth": 0,
              "ticks": ""
             }
            },
            "type": "scatterternary"
           }
          ],
          "surface": [
           {
            "colorbar": {
             "outlinewidth": 0,
             "ticks": ""
            },
            "colorscale": [
             [
              0,
              "#0d0887"
             ],
             [
              0.1111111111111111,
              "#46039f"
             ],
             [
              0.2222222222222222,
              "#7201a8"
             ],
             [
              0.3333333333333333,
              "#9c179e"
             ],
             [
              0.4444444444444444,
              "#bd3786"
             ],
             [
              0.5555555555555556,
              "#d8576b"
             ],
             [
              0.6666666666666666,
              "#ed7953"
             ],
             [
              0.7777777777777778,
              "#fb9f3a"
             ],
             [
              0.8888888888888888,
              "#fdca26"
             ],
             [
              1,
              "#f0f921"
             ]
            ],
            "type": "surface"
           }
          ],
          "table": [
           {
            "cells": {
             "fill": {
              "color": "#EBF0F8"
             },
             "line": {
              "color": "white"
             }
            },
            "header": {
             "fill": {
              "color": "#C8D4E3"
             },
             "line": {
              "color": "white"
             }
            },
            "type": "table"
           }
          ]
         },
         "layout": {
          "annotationdefaults": {
           "arrowcolor": "#2a3f5f",
           "arrowhead": 0,
           "arrowwidth": 1
          },
          "autotypenumbers": "strict",
          "coloraxis": {
           "colorbar": {
            "outlinewidth": 0,
            "ticks": ""
           }
          },
          "colorscale": {
           "diverging": [
            [
             0,
             "#8e0152"
            ],
            [
             0.1,
             "#c51b7d"
            ],
            [
             0.2,
             "#de77ae"
            ],
            [
             0.3,
             "#f1b6da"
            ],
            [
             0.4,
             "#fde0ef"
            ],
            [
             0.5,
             "#f7f7f7"
            ],
            [
             0.6,
             "#e6f5d0"
            ],
            [
             0.7,
             "#b8e186"
            ],
            [
             0.8,
             "#7fbc41"
            ],
            [
             0.9,
             "#4d9221"
            ],
            [
             1,
             "#276419"
            ]
           ],
           "sequential": [
            [
             0,
             "#0d0887"
            ],
            [
             0.1111111111111111,
             "#46039f"
            ],
            [
             0.2222222222222222,
             "#7201a8"
            ],
            [
             0.3333333333333333,
             "#9c179e"
            ],
            [
             0.4444444444444444,
             "#bd3786"
            ],
            [
             0.5555555555555556,
             "#d8576b"
            ],
            [
             0.6666666666666666,
             "#ed7953"
            ],
            [
             0.7777777777777778,
             "#fb9f3a"
            ],
            [
             0.8888888888888888,
             "#fdca26"
            ],
            [
             1,
             "#f0f921"
            ]
           ],
           "sequentialminus": [
            [
             0,
             "#0d0887"
            ],
            [
             0.1111111111111111,
             "#46039f"
            ],
            [
             0.2222222222222222,
             "#7201a8"
            ],
            [
             0.3333333333333333,
             "#9c179e"
            ],
            [
             0.4444444444444444,
             "#bd3786"
            ],
            [
             0.5555555555555556,
             "#d8576b"
            ],
            [
             0.6666666666666666,
             "#ed7953"
            ],
            [
             0.7777777777777778,
             "#fb9f3a"
            ],
            [
             0.8888888888888888,
             "#fdca26"
            ],
            [
             1,
             "#f0f921"
            ]
           ]
          },
          "colorway": [
           "#636efa",
           "#EF553B",
           "#00cc96",
           "#ab63fa",
           "#FFA15A",
           "#19d3f3",
           "#FF6692",
           "#B6E880",
           "#FF97FF",
           "#FECB52"
          ],
          "font": {
           "color": "#2a3f5f"
          },
          "geo": {
           "bgcolor": "white",
           "lakecolor": "white",
           "landcolor": "#E5ECF6",
           "showlakes": true,
           "showland": true,
           "subunitcolor": "white"
          },
          "hoverlabel": {
           "align": "left"
          },
          "hovermode": "closest",
          "mapbox": {
           "style": "light"
          },
          "paper_bgcolor": "white",
          "plot_bgcolor": "#E5ECF6",
          "polar": {
           "angularaxis": {
            "gridcolor": "white",
            "linecolor": "white",
            "ticks": ""
           },
           "bgcolor": "#E5ECF6",
           "radialaxis": {
            "gridcolor": "white",
            "linecolor": "white",
            "ticks": ""
           }
          },
          "scene": {
           "xaxis": {
            "backgroundcolor": "#E5ECF6",
            "gridcolor": "white",
            "gridwidth": 2,
            "linecolor": "white",
            "showbackground": true,
            "ticks": "",
            "zerolinecolor": "white"
           },
           "yaxis": {
            "backgroundcolor": "#E5ECF6",
            "gridcolor": "white",
            "gridwidth": 2,
            "linecolor": "white",
            "showbackground": true,
            "ticks": "",
            "zerolinecolor": "white"
           },
           "zaxis": {
            "backgroundcolor": "#E5ECF6",
            "gridcolor": "white",
            "gridwidth": 2,
            "linecolor": "white",
            "showbackground": true,
            "ticks": "",
            "zerolinecolor": "white"
           }
          },
          "shapedefaults": {
           "line": {
            "color": "#2a3f5f"
           }
          },
          "ternary": {
           "aaxis": {
            "gridcolor": "white",
            "linecolor": "white",
            "ticks": ""
           },
           "baxis": {
            "gridcolor": "white",
            "linecolor": "white",
            "ticks": ""
           },
           "bgcolor": "#E5ECF6",
           "caxis": {
            "gridcolor": "white",
            "linecolor": "white",
            "ticks": ""
           }
          },
          "title": {
           "x": 0.05
          },
          "xaxis": {
           "automargin": true,
           "gridcolor": "white",
           "linecolor": "white",
           "ticks": "",
           "title": {
            "standoff": 15
           },
           "zerolinecolor": "white",
           "zerolinewidth": 2
          },
          "yaxis": {
           "automargin": true,
           "gridcolor": "white",
           "linecolor": "white",
           "ticks": "",
           "title": {
            "standoff": 15
           },
           "zerolinecolor": "white",
           "zerolinewidth": 2
          }
         }
        },
        "title": {
         "text": "Parallel Coordinate Plot"
        }
       }
      }
     },
     "metadata": {},
     "output_type": "display_data"
    }
   ],
   "source": [
    "optuna.visualization.plot_parallel_coordinate(study)"
   ]
  },
  {
   "cell_type": "code",
   "execution_count": 42,
   "id": "4afa60aa",
   "metadata": {},
   "outputs": [
    {
     "name": "stdout",
     "output_type": "stream",
     "text": [
      "Best trial: {'n_estimators': 163, 'max_depth': 13, 'min_samples_leaf': 9, 'min_samples_split': 7, 'subsample': 0.4005196048549395}\n"
     ]
    },
    {
     "data": {
      "text/plain": [
       "163"
      ]
     },
     "execution_count": 42,
     "metadata": {},
     "output_type": "execute_result"
    }
   ],
   "source": [
    "print(\"Best trial:\", study.best_trial.params)\n",
    "study.best_trial.params[\"n_estimators\"]"
   ]
  },
  {
   "cell_type": "code",
   "execution_count": 43,
   "id": "3b45adad",
   "metadata": {},
   "outputs": [
    {
     "data": {
      "text/html": [
       "<style>#sk-container-id-2 {color: black;}#sk-container-id-2 pre{padding: 0;}#sk-container-id-2 div.sk-toggleable {background-color: white;}#sk-container-id-2 label.sk-toggleable__label {cursor: pointer;display: block;width: 100%;margin-bottom: 0;padding: 0.3em;box-sizing: border-box;text-align: center;}#sk-container-id-2 label.sk-toggleable__label-arrow:before {content: \"▸\";float: left;margin-right: 0.25em;color: #696969;}#sk-container-id-2 label.sk-toggleable__label-arrow:hover:before {color: black;}#sk-container-id-2 div.sk-estimator:hover label.sk-toggleable__label-arrow:before {color: black;}#sk-container-id-2 div.sk-toggleable__content {max-height: 0;max-width: 0;overflow: hidden;text-align: left;background-color: #f0f8ff;}#sk-container-id-2 div.sk-toggleable__content pre {margin: 0.2em;color: black;border-radius: 0.25em;background-color: #f0f8ff;}#sk-container-id-2 input.sk-toggleable__control:checked~div.sk-toggleable__content {max-height: 200px;max-width: 100%;overflow: auto;}#sk-container-id-2 input.sk-toggleable__control:checked~label.sk-toggleable__label-arrow:before {content: \"▾\";}#sk-container-id-2 div.sk-estimator input.sk-toggleable__control:checked~label.sk-toggleable__label {background-color: #d4ebff;}#sk-container-id-2 div.sk-label input.sk-toggleable__control:checked~label.sk-toggleable__label {background-color: #d4ebff;}#sk-container-id-2 input.sk-hidden--visually {border: 0;clip: rect(1px 1px 1px 1px);clip: rect(1px, 1px, 1px, 1px);height: 1px;margin: -1px;overflow: hidden;padding: 0;position: absolute;width: 1px;}#sk-container-id-2 div.sk-estimator {font-family: monospace;background-color: #f0f8ff;border: 1px dotted black;border-radius: 0.25em;box-sizing: border-box;margin-bottom: 0.5em;}#sk-container-id-2 div.sk-estimator:hover {background-color: #d4ebff;}#sk-container-id-2 div.sk-parallel-item::after {content: \"\";width: 100%;border-bottom: 1px solid gray;flex-grow: 1;}#sk-container-id-2 div.sk-label:hover label.sk-toggleable__label {background-color: #d4ebff;}#sk-container-id-2 div.sk-serial::before {content: \"\";position: absolute;border-left: 1px solid gray;box-sizing: border-box;top: 0;bottom: 0;left: 50%;z-index: 0;}#sk-container-id-2 div.sk-serial {display: flex;flex-direction: column;align-items: center;background-color: white;padding-right: 0.2em;padding-left: 0.2em;position: relative;}#sk-container-id-2 div.sk-item {position: relative;z-index: 1;}#sk-container-id-2 div.sk-parallel {display: flex;align-items: stretch;justify-content: center;background-color: white;position: relative;}#sk-container-id-2 div.sk-item::before, #sk-container-id-2 div.sk-parallel-item::before {content: \"\";position: absolute;border-left: 1px solid gray;box-sizing: border-box;top: 0;bottom: 0;left: 50%;z-index: -1;}#sk-container-id-2 div.sk-parallel-item {display: flex;flex-direction: column;z-index: 1;position: relative;background-color: white;}#sk-container-id-2 div.sk-parallel-item:first-child::after {align-self: flex-end;width: 50%;}#sk-container-id-2 div.sk-parallel-item:last-child::after {align-self: flex-start;width: 50%;}#sk-container-id-2 div.sk-parallel-item:only-child::after {width: 0;}#sk-container-id-2 div.sk-dashed-wrapped {border: 1px dashed gray;margin: 0 0.4em 0.5em 0.4em;box-sizing: border-box;padding-bottom: 0.4em;background-color: white;}#sk-container-id-2 div.sk-label label {font-family: monospace;font-weight: bold;display: inline-block;line-height: 1.2em;}#sk-container-id-2 div.sk-label-container {text-align: center;}#sk-container-id-2 div.sk-container {/* jupyter's `normalize.less` sets `[hidden] { display: none; }` but bootstrap.min.css set `[hidden] { display: none !important; }` so we also need the `!important` here to be able to override the default hidden behavior on the sphinx rendered scikit-learn.org. See: https://github.com/scikit-learn/scikit-learn/issues/21755 */display: inline-block !important;position: relative;}#sk-container-id-2 div.sk-text-repr-fallback {display: none;}</style><div id=\"sk-container-id-2\" class=\"sk-top-container\"><div class=\"sk-text-repr-fallback\"><pre>GradientBoostingRegressor(max_depth=13, min_samples_leaf=9, min_samples_split=7,\n",
       "                          n_estimators=163, random_state=42,\n",
       "                          subsample=0.4005196048549395)</pre><b>In a Jupyter environment, please rerun this cell to show the HTML representation or trust the notebook. <br />On GitHub, the HTML representation is unable to render, please try loading this page with nbviewer.org.</b></div><div class=\"sk-container\" hidden><div class=\"sk-item\"><div class=\"sk-estimator sk-toggleable\"><input class=\"sk-toggleable__control sk-hidden--visually\" id=\"sk-estimator-id-2\" type=\"checkbox\" checked><label for=\"sk-estimator-id-2\" class=\"sk-toggleable__label sk-toggleable__label-arrow\">GradientBoostingRegressor</label><div class=\"sk-toggleable__content\"><pre>GradientBoostingRegressor(max_depth=13, min_samples_leaf=9, min_samples_split=7,\n",
       "                          n_estimators=163, random_state=42,\n",
       "                          subsample=0.4005196048549395)</pre></div></div></div></div></div>"
      ],
      "text/plain": [
       "GradientBoostingRegressor(max_depth=13, min_samples_leaf=9, min_samples_split=7,\n",
       "                          n_estimators=163, random_state=42,\n",
       "                          subsample=0.4005196048549395)"
      ]
     },
     "execution_count": 43,
     "metadata": {},
     "output_type": "execute_result"
    }
   ],
   "source": [
    "gb_params = {\n",
    "    \"random_state\": 42,\n",
    "    \"learning_rate\": 0.1,\n",
    "    \"n_estimators\": study.best_trial.params[\"n_estimators\"],\n",
    "    \"max_depth\": study.best_trial.params[\"max_depth\"],\n",
    "    \"min_samples_leaf\": study.best_trial.params[\"min_samples_leaf\"],\n",
    "    \"min_samples_split\": study.best_trial.params[\"min_samples_split\"],\n",
    "    \"subsample\": study.best_trial.params[\"subsample\"]\n",
    "}\n",
    "\n",
    "gb = GradientBoostingRegressor(**gb_params)\n",
    "gb.fit(Cd_X_train, Cd_y_train)"
   ]
  },
  {
   "cell_type": "code",
   "execution_count": 44,
   "id": "9959cba0",
   "metadata": {},
   "outputs": [],
   "source": [
    "# gb_params = {\n",
    "#     \"random_state\": 42,\n",
    "#     \"learning_rate\": 0.1,\n",
    "#     \"n_estimators\": 138,\n",
    "#     \"max_depth\": 2,\n",
    "#     \"min_samples_leaf\": 3,\n",
    "#     \"min_samples_split\": 6,\n",
    "#     \"subsample\": 0.4574655226902498\n",
    "# }\n",
    "\n",
    "# gb = GradientBoostingRegressor(**gb_params)\n",
    "# gb.fit(Cd_X_train, Cd_y_train)"
   ]
  },
  {
   "cell_type": "code",
   "execution_count": 45,
   "id": "9ab1055b",
   "metadata": {},
   "outputs": [],
   "source": [
    "y_train_pred = gb.predict(Cd_X_train)\n",
    "y_test_pred = gb.predict(Cd_X_test)"
   ]
  },
  {
   "cell_type": "code",
   "execution_count": 46,
   "id": "425b4001",
   "metadata": {},
   "outputs": [
    {
     "name": "stdout",
     "output_type": "stream",
     "text": [
      "Train RMSE:  0.01671773214050722\n",
      "Test RMSE:  0.05904380526271862\n"
     ]
    }
   ],
   "source": [
    "print(\"Train RMSE: \", np.sqrt(mean_squared_error(Cd_y_train, y_train_pred)))\n",
    "print(\"Test RMSE: \", np.sqrt(mean_squared_error(Cd_y_test, y_test_pred)))"
   ]
  },
  {
   "cell_type": "code",
   "execution_count": 47,
   "id": "0f95ae3c",
   "metadata": {},
   "outputs": [
    {
     "name": "stdout",
     "output_type": "stream",
     "text": [
      "Train R2:  0.9594424886883546\n",
      "Test R2:  0.49937439391412375\n"
     ]
    }
   ],
   "source": [
    "print(\"Train R2: \", r2_score(Cd_y_train, y_train_pred))\n",
    "print(\"Test R2: \", r2_score(Cd_y_test, y_test_pred))"
   ]
  },
  {
   "cell_type": "code",
   "execution_count": 48,
   "id": "49f07f23",
   "metadata": {},
   "outputs": [
    {
     "data": {
      "image/png": "[encoded data removed]",
      "text/plain": [
       "<Figure size 640x480 with 1 Axes>"
      ]
     },
     "metadata": {},
     "output_type": "display_data"
    }
   ],
   "source": [
    "plt.scatter(y_train_pred, np.array(Cd_y_train), color=\"orange\", alpha=0.3)\n",
    "plt.scatter(y_test_pred, np.array(Cd_y_test), color=\"green\", alpha=0.4)\n",
    "plt.axis(\"auto\") # scaled, tight, auto, image, square\n",
    "# plt.xlim([0, 1.5]) \n",
    "# plt.ylim(0, None) \n",
    "plt.xlabel('Predicted Values')\n",
    "plt.ylabel('Actual Values')\n",
    "\n",
    "# Add y=x line\n",
    "plt.plot([0, 0.30], [0, 0.30], color='red', linestyle='-')\n",
    "\n",
    "plt.show()"
   ]
  },
  {
   "cell_type": "code",
   "execution_count": 49,
   "id": "b2991dac",
   "metadata": {},
   "outputs": [],
   "source": [
    "# explainer = shap.KernelExplainer(gb.predict, Cd_X_train)\n",
    "# shap_values = explainer.shap_values(Cd_X_train)\n",
    "\n",
    "# shap.summary_plot(shap_values, Cd_X_train)\n",
    "\n",
    "# shap.force_plot(explainer.expected_value, shap_values[0], Cd_X_train[0])\n",
    "\n",
    "# print(shap_values)"
   ]
  },
  {
   "attachments": {},
   "cell_type": "markdown",
   "id": "74f680ea",
   "metadata": {},
   "source": [
    "Ni"
   ]
  },
  {
   "cell_type": "code",
   "execution_count": 50,
   "id": "de233338",
   "metadata": {},
   "outputs": [
    {
     "name": "stderr",
     "output_type": "stream",
     "text": [
      "\u001b[32m[I 2023-08-24 13:54:54,920]\u001b[0m A new study created in memory with name: gb_parameter_opt\u001b[0m\n",
      "\u001b[32m[I 2023-08-24 13:54:56,905]\u001b[0m Trial 0 finished with value: 0.8143254789435309 and parameters: {'n_estimators': 181, 'max_depth': 5, 'min_samples_leaf': 6, 'min_samples_split': 3, 'subsample': 0.39424993052026847}. Best is trial 0 with value: 0.8143254789435309.\u001b[0m\n",
      "\u001b[32m[I 2023-08-24 13:55:01,499]\u001b[0m Trial 1 finished with value: 0.8148055931209072 and parameters: {'n_estimators': 191, 'max_depth': 16, 'min_samples_leaf': 4, 'min_samples_split': 2, 'subsample': 0.440814840862058}. Best is trial 1 with value: 0.8148055931209072.\u001b[0m\n",
      "\u001b[32m[I 2023-08-24 13:55:02,672]\u001b[0m Trial 2 finished with value: 0.7896807950899947 and parameters: {'n_estimators': 193, 'max_depth': 9, 'min_samples_leaf': 10, 'min_samples_split': 9, 'subsample': 0.1777478571772095}. Best is trial 1 with value: 0.8148055931209072.\u001b[0m\n",
      "\u001b[32m[I 2023-08-24 13:55:05,253]\u001b[0m Trial 3 finished with value: 0.7994247536007768 and parameters: {'n_estimators': 120, 'max_depth': 21, 'min_samples_leaf': 1, 'min_samples_split': 8, 'subsample': 0.3055583914567722}. Best is trial 1 with value: 0.8148055931209072.\u001b[0m\n",
      "\u001b[32m[I 2023-08-24 13:55:08,630]\u001b[0m Trial 4 finished with value: 0.8223630035684362 and parameters: {'n_estimators': 188, 'max_depth': 20, 'min_samples_leaf': 7, 'min_samples_split': 2, 'subsample': 0.41210987546767996}. Best is trial 4 with value: 0.8223630035684362.\u001b[0m\n",
      "\u001b[32m[I 2023-08-24 13:55:09,294]\u001b[0m Trial 5 finished with value: 0.6158903478012423 and parameters: {'n_estimators': 189, 'max_depth': 1, 'min_samples_leaf': 5, 'min_samples_split': 5, 'subsample': 0.3120318245924354}. Best is trial 4 with value: 0.8223630035684362.\u001b[0m\n",
      "\u001b[32m[I 2023-08-24 13:55:12,155]\u001b[0m Trial 6 finished with value: 0.8085566514135586 and parameters: {'n_estimators': 193, 'max_depth': 14, 'min_samples_leaf': 3, 'min_samples_split': 10, 'subsample': 0.28714225412569877}. Best is trial 4 with value: 0.8223630035684362.\u001b[0m\n",
      "\u001b[32m[I 2023-08-24 13:55:13,623]\u001b[0m Trial 7 finished with value: 0.8010788947447537 and parameters: {'n_estimators': 176, 'max_depth': 26, 'min_samples_leaf': 5, 'min_samples_split': 9, 'subsample': 0.19480195498224318}. Best is trial 4 with value: 0.8223630035684362.\u001b[0m\n",
      "\u001b[32m[I 2023-08-24 13:55:14,114]\u001b[0m Trial 8 finished with value: 0.7091151064794559 and parameters: {'n_estimators': 104, 'max_depth': 2, 'min_samples_leaf': 8, 'min_samples_split': 2, 'subsample': 0.28890311406331226}. Best is trial 4 with value: 0.8223630035684362.\u001b[0m\n",
      "\u001b[32m[I 2023-08-24 13:55:16,618]\u001b[0m Trial 9 finished with value: 0.8258641522757891 and parameters: {'n_estimators': 149, 'max_depth': 28, 'min_samples_leaf': 10, 'min_samples_split': 10, 'subsample': 0.45633165206590276}. Best is trial 9 with value: 0.8258641522757891.\u001b[0m\n",
      "\u001b[32m[I 2023-08-24 13:55:19,340]\u001b[0m Trial 10 finished with value: 0.8223098248061739 and parameters: {'n_estimators': 149, 'max_depth': 30, 'min_samples_leaf': 10, 'min_samples_split': 6, 'subsample': 0.49108251812442205}. Best is trial 9 with value: 0.8258641522757891.\u001b[0m\n",
      "\u001b[32m[I 2023-08-24 13:55:21,812]\u001b[0m Trial 11 finished with value: 0.8245367163609896 and parameters: {'n_estimators': 156, 'max_depth': 22, 'min_samples_leaf': 8, 'min_samples_split': 4, 'subsample': 0.39834898768480975}. Best is trial 9 with value: 0.8258641522757891.\u001b[0m\n",
      "\u001b[32m[I 2023-08-24 13:55:24,909]\u001b[0m Trial 12 finished with value: 0.8259299772279981 and parameters: {'n_estimators': 150, 'max_depth': 25, 'min_samples_leaf': 8, 'min_samples_split': 4, 'subsample': 0.4973657687948702}. Best is trial 12 with value: 0.8259299772279981.\u001b[0m\n",
      "\u001b[32m[I 2023-08-24 13:55:27,588]\u001b[0m Trial 13 finished with value: 0.8168888096086333 and parameters: {'n_estimators': 144, 'max_depth': 30, 'min_samples_leaf': 9, 'min_samples_split': 6, 'subsample': 0.48609945681538386}. Best is trial 12 with value: 0.8259299772279981.\u001b[0m\n",
      "\u001b[32m[I 2023-08-24 13:55:28,056]\u001b[0m Trial 14 finished with value: 0.6957642805094963 and parameters: {'n_estimators': 133, 'max_depth': 26, 'min_samples_leaf': 8, 'min_samples_split': 7, 'subsample': 0.10246151354342217}. Best is trial 12 with value: 0.8259299772279981.\u001b[0m\n",
      "\u001b[32m[I 2023-08-24 13:55:30,764]\u001b[0m Trial 15 finished with value: 0.8277246847911008 and parameters: {'n_estimators': 165, 'max_depth': 25, 'min_samples_leaf': 10, 'min_samples_split': 4, 'subsample': 0.4553783871421424}. Best is trial 15 with value: 0.8277246847911008.\u001b[0m\n",
      "\u001b[32m[I 2023-08-24 13:55:33,202]\u001b[0m Trial 16 finished with value: 0.821659846324931 and parameters: {'n_estimators': 170, 'max_depth': 16, 'min_samples_leaf': 7, 'min_samples_split': 4, 'subsample': 0.3602379547100331}. Best is trial 15 with value: 0.8277246847911008.\u001b[0m\n",
      "\u001b[32m[I 2023-08-24 13:55:36,442]\u001b[0m Trial 17 finished with value: 0.8220186723783073 and parameters: {'n_estimators': 164, 'max_depth': 24, 'min_samples_leaf': 9, 'min_samples_split': 4, 'subsample': 0.4999357163308825}. Best is trial 15 with value: 0.8277246847911008.\u001b[0m\n",
      "\u001b[32m[I 2023-08-24 13:55:38,091]\u001b[0m Trial 18 finished with value: 0.8195610858058379 and parameters: {'n_estimators': 134, 'max_depth': 18, 'min_samples_leaf': 9, 'min_samples_split': 5, 'subsample': 0.35280383658931747}. Best is trial 15 with value: 0.8277246847911008.\u001b[0m\n",
      "\u001b[32m[I 2023-08-24 13:55:40,940]\u001b[0m Trial 19 finished with value: 0.8214970399452783 and parameters: {'n_estimators': 160, 'max_depth': 13, 'min_samples_leaf': 7, 'min_samples_split': 3, 'subsample': 0.4359205886757366}. Best is trial 15 with value: 0.8277246847911008.\u001b[0m\n",
      "\u001b[32m[I 2023-08-24 13:55:43,406]\u001b[0m Trial 20 finished with value: 0.7894100082873707 and parameters: {'n_estimators': 138, 'max_depth': 24, 'min_samples_leaf': 1, 'min_samples_split': 5, 'subsample': 0.24459318193475646}. Best is trial 15 with value: 0.8277246847911008.\u001b[0m\n",
      "\u001b[32m[I 2023-08-24 13:55:45,409]\u001b[0m Trial 21 finished with value: 0.8285004877855684 and parameters: {'n_estimators': 123, 'max_depth': 28, 'min_samples_leaf': 10, 'min_samples_split': 7, 'subsample': 0.4574025163922168}. Best is trial 21 with value: 0.8285004877855684.\u001b[0m\n",
      "\u001b[32m[I 2023-08-24 13:55:47,410]\u001b[0m Trial 22 finished with value: 0.819641134426643 and parameters: {'n_estimators': 122, 'max_depth': 26, 'min_samples_leaf': 10, 'min_samples_split': 7, 'subsample': 0.4614848510327318}. Best is trial 21 with value: 0.8285004877855684.\u001b[0m\n",
      "\u001b[32m[I 2023-08-24 13:55:48,715]\u001b[0m Trial 23 finished with value: 0.8175214900331623 and parameters: {'n_estimators': 103, 'max_depth': 23, 'min_samples_leaf': 9, 'min_samples_split': 7, 'subsample': 0.3633171890890904}. Best is trial 21 with value: 0.8285004877855684.\u001b[0m\n",
      "\u001b[32m[I 2023-08-24 13:55:50,994]\u001b[0m Trial 24 finished with value: 0.8284262267608742 and parameters: {'n_estimators': 122, 'max_depth': 29, 'min_samples_leaf': 8, 'min_samples_split': 3, 'subsample': 0.4679351193324273}. Best is trial 21 with value: 0.8285004877855684.\u001b[0m\n",
      "\u001b[32m[I 2023-08-24 13:55:52,697]\u001b[0m Trial 25 finished with value: 0.8263096512178597 and parameters: {'n_estimators': 116, 'max_depth': 28, 'min_samples_leaf': 10, 'min_samples_split': 3, 'subsample': 0.4219168502350148}. Best is trial 21 with value: 0.8285004877855684.\u001b[0m\n",
      "\u001b[32m[I 2023-08-24 13:55:54,171]\u001b[0m Trial 26 finished with value: 0.8239571959539308 and parameters: {'n_estimators': 111, 'max_depth': 28, 'min_samples_leaf': 9, 'min_samples_split': 5, 'subsample': 0.3757796135174193}. Best is trial 21 with value: 0.8285004877855684.\u001b[0m\n",
      "\u001b[32m[I 2023-08-24 13:55:56,945]\u001b[0m Trial 27 finished with value: 0.8202464011398186 and parameters: {'n_estimators': 131, 'max_depth': 19, 'min_samples_leaf': 6, 'min_samples_split': 8, 'subsample': 0.46200434921277445}. Best is trial 21 with value: 0.8285004877855684.\u001b[0m\n",
      "\u001b[32m[I 2023-08-24 13:55:58,443]\u001b[0m Trial 28 finished with value: 0.8059953736013215 and parameters: {'n_estimators': 126, 'max_depth': 30, 'min_samples_leaf': 9, 'min_samples_split': 3, 'subsample': 0.34034255799475954}. Best is trial 21 with value: 0.8285004877855684.\u001b[0m\n",
      "\u001b[32m[I 2023-08-24 13:56:01,084]\u001b[0m Trial 29 finished with value: 0.8125179487677545 and parameters: {'n_estimators': 178, 'max_depth': 10, 'min_samples_leaf': 7, 'min_samples_split': 6, 'subsample': 0.3915079676735088}. Best is trial 21 with value: 0.8285004877855684.\u001b[0m\n",
      "\u001b[32m[I 2023-08-24 13:56:02,896]\u001b[0m Trial 30 finished with value: 0.8206600004192385 and parameters: {'n_estimators': 108, 'max_depth': 28, 'min_samples_leaf': 10, 'min_samples_split': 3, 'subsample': 0.46952353515206363}. Best is trial 21 with value: 0.8285004877855684.\u001b[0m\n",
      "\u001b[32m[I 2023-08-24 13:56:04,658]\u001b[0m Trial 31 finished with value: 0.8210455535676505 and parameters: {'n_estimators': 121, 'max_depth': 28, 'min_samples_leaf': 10, 'min_samples_split': 3, 'subsample': 0.4197664323731958}. Best is trial 21 with value: 0.8285004877855684.\u001b[0m\n",
      "\u001b[32m[I 2023-08-24 13:56:06,407]\u001b[0m Trial 32 finished with value: 0.825026047865159 and parameters: {'n_estimators': 114, 'max_depth': 27, 'min_samples_leaf': 10, 'min_samples_split': 2, 'subsample': 0.43358699018833413}. Best is trial 21 with value: 0.8285004877855684.\u001b[0m\n",
      "\u001b[32m[I 2023-08-24 13:56:08,445]\u001b[0m Trial 33 finished with value: 0.8189607207694809 and parameters: {'n_estimators': 117, 'max_depth': 30, 'min_samples_leaf': 8, 'min_samples_split': 3, 'subsample': 0.44179858965863167}. Best is trial 21 with value: 0.8285004877855684.\u001b[0m\n",
      "\u001b[32m[I 2023-08-24 13:56:10,613]\u001b[0m Trial 34 finished with value: 0.8186017478039533 and parameters: {'n_estimators': 141, 'max_depth': 24, 'min_samples_leaf': 9, 'min_samples_split': 4, 'subsample': 0.4178270732730321}. Best is trial 21 with value: 0.8285004877855684.\u001b[0m\n",
      "\u001b[32m[I 2023-08-24 13:56:12,311]\u001b[0m Trial 35 finished with value: 0.8222225594445132 and parameters: {'n_estimators': 127, 'max_depth': 21, 'min_samples_leaf': 10, 'min_samples_split': 2, 'subsample': 0.39079575582506076}. Best is trial 21 with value: 0.8285004877855684.\u001b[0m\n",
      "\u001b[32m[I 2023-08-24 13:56:17,214]\u001b[0m Trial 36 finished with value: 0.8120150591580613 and parameters: {'n_estimators': 169, 'max_depth': 28, 'min_samples_leaf': 3, 'min_samples_split': 8, 'subsample': 0.46704637009121974}. Best is trial 21 with value: 0.8285004877855684.\u001b[0m\n",
      "\u001b[32m[I 2023-08-24 13:56:19,121]\u001b[0m Trial 37 finished with value: 0.816814595375565 and parameters: {'n_estimators': 199, 'max_depth': 6, 'min_samples_leaf': 9, 'min_samples_split': 2, 'subsample': 0.3321765013974143}. Best is trial 21 with value: 0.8285004877855684.\u001b[0m\n",
      "\u001b[32m[I 2023-08-24 13:56:21,290]\u001b[0m Trial 38 finished with value: 0.8257093730861407 and parameters: {'n_estimators': 110, 'max_depth': 22, 'min_samples_leaf': 6, 'min_samples_split': 4, 'subsample': 0.4408268560342825}. Best is trial 21 with value: 0.8285004877855684.\u001b[0m\n",
      "\u001b[32m[I 2023-08-24 13:56:22,337]\u001b[0m Trial 39 finished with value: 0.8065488910825511 and parameters: {'n_estimators': 117, 'max_depth': 26, 'min_samples_leaf': 8, 'min_samples_split': 5, 'subsample': 0.2557024897041935}. Best is trial 21 with value: 0.8285004877855684.\u001b[0m\n",
      "\u001b[32m[I 2023-08-24 13:56:24,400]\u001b[0m Trial 40 finished with value: 0.8303229603107971 and parameters: {'n_estimators': 100, 'max_depth': 17, 'min_samples_leaf': 4, 'min_samples_split': 9, 'subsample': 0.4107933066383133}. Best is trial 40 with value: 0.8303229603107971.\u001b[0m\n",
      "\u001b[32m[I 2023-08-24 13:56:26,499]\u001b[0m Trial 41 finished with value: 0.8302517876753853 and parameters: {'n_estimators': 101, 'max_depth': 17, 'min_samples_leaf': 4, 'min_samples_split': 9, 'subsample': 0.4148934364352187}. Best is trial 40 with value: 0.8303229603107971.\u001b[0m\n",
      "\u001b[32m[I 2023-08-24 13:56:29,075]\u001b[0m Trial 42 finished with value: 0.8144506710275599 and parameters: {'n_estimators': 104, 'max_depth': 17, 'min_samples_leaf': 4, 'min_samples_split': 9, 'subsample': 0.4768457535968931}. Best is trial 40 with value: 0.8303229603107971.\u001b[0m\n",
      "\u001b[32m[I 2023-08-24 13:56:31,128]\u001b[0m Trial 43 finished with value: 0.8136858157408431 and parameters: {'n_estimators': 100, 'max_depth': 14, 'min_samples_leaf': 3, 'min_samples_split': 10, 'subsample': 0.40829109098231875}. Best is trial 40 with value: 0.8303229603107971.\u001b[0m\n",
      "\u001b[32m[I 2023-08-24 13:56:33,122]\u001b[0m Trial 44 finished with value: 0.8219966316213719 and parameters: {'n_estimators': 100, 'max_depth': 11, 'min_samples_leaf': 4, 'min_samples_split': 9, 'subsample': 0.44979396851771564}. Best is trial 40 with value: 0.8303229603107971.\u001b[0m\n",
      "\u001b[32m[I 2023-08-24 13:56:36,539]\u001b[0m Trial 45 finished with value: 0.8205339950209611 and parameters: {'n_estimators': 184, 'max_depth': 19, 'min_samples_leaf': 5, 'min_samples_split': 8, 'subsample': 0.38531581290071004}. Best is trial 40 with value: 0.8303229603107971.\u001b[0m\n",
      "\u001b[32m[I 2023-08-24 13:56:39,514]\u001b[0m Trial 46 finished with value: 0.8144664578730154 and parameters: {'n_estimators': 109, 'max_depth': 15, 'min_samples_leaf': 2, 'min_samples_split': 9, 'subsample': 0.48188615283718267}. Best is trial 40 with value: 0.8303229603107971.\u001b[0m\n",
      "\u001b[32m[I 2023-08-24 13:56:41,793]\u001b[0m Trial 47 finished with value: 0.817885634102652 and parameters: {'n_estimators': 153, 'max_depth': 8, 'min_samples_leaf': 5, 'min_samples_split': 10, 'subsample': 0.40502386694184944}. Best is trial 40 with value: 0.8303229603107971.\u001b[0m\n",
      "\u001b[32m[I 2023-08-24 13:56:43,522]\u001b[0m Trial 48 finished with value: 0.8024350683313788 and parameters: {'n_estimators': 106, 'max_depth': 12, 'min_samples_leaf': 2, 'min_samples_split': 8, 'subsample': 0.3178600914082785}. Best is trial 40 with value: 0.8303229603107971.\u001b[0m\n",
      "\u001b[32m[I 2023-08-24 13:56:46,293]\u001b[0m Trial 49 finished with value: 0.8157718870557318 and parameters: {'n_estimators': 124, 'max_depth': 17, 'min_samples_leaf': 4, 'min_samples_split': 7, 'subsample': 0.4277702404024961}. Best is trial 40 with value: 0.8303229603107971.\u001b[0m\n",
      "\u001b[32m[I 2023-08-24 13:56:49,546]\u001b[0m Trial 50 finished with value: 0.8236334824279099 and parameters: {'n_estimators': 146, 'max_depth': 20, 'min_samples_leaf': 5, 'min_samples_split': 9, 'subsample': 0.45460102747404896}. Best is trial 40 with value: 0.8303229603107971.\u001b[0m\n",
      "\u001b[32m[I 2023-08-24 13:56:51,254]\u001b[0m Trial 51 finished with value: 0.8277850762032978 and parameters: {'n_estimators': 116, 'max_depth': 29, 'min_samples_leaf': 10, 'min_samples_split': 3, 'subsample': 0.4226363954264848}. Best is trial 40 with value: 0.8303229603107971.\u001b[0m\n",
      "\u001b[32m[I 2023-08-24 13:56:53,947]\u001b[0m Trial 52 finished with value: 0.8188612918831 and parameters: {'n_estimators': 113, 'max_depth': 29, 'min_samples_leaf': 4, 'min_samples_split': 8, 'subsample': 0.4477650825559508}. Best is trial 40 with value: 0.8303229603107971.\u001b[0m\n",
      "\u001b[32m[I 2023-08-24 13:56:57,789]\u001b[0m Trial 53 finished with value: 0.8223589365824132 and parameters: {'n_estimators': 129, 'max_depth': 26, 'min_samples_leaf': 3, 'min_samples_split': 6, 'subsample': 0.48185388608293955}. Best is trial 40 with value: 0.8303229603107971.\u001b[0m\n",
      "\u001b[32m[I 2023-08-24 13:56:59,950]\u001b[0m Trial 54 finished with value: 0.8234749729086376 and parameters: {'n_estimators': 120, 'max_depth': 29, 'min_samples_leaf': 6, 'min_samples_split': 10, 'subsample': 0.40958369168950315}. Best is trial 40 with value: 0.8303229603107971.\u001b[0m\n",
      "\u001b[32m[I 2023-08-24 13:57:01,680]\u001b[0m Trial 55 finished with value: 0.8211390400545187 and parameters: {'n_estimators': 138, 'max_depth': 25, 'min_samples_leaf': 10, 'min_samples_split': 2, 'subsample': 0.37507230482840465}. Best is trial 40 with value: 0.8303229603107971.\u001b[0m\n",
      "\u001b[32m[I 2023-08-24 13:57:03,411]\u001b[0m Trial 56 finished with value: 0.8217641249330907 and parameters: {'n_estimators': 105, 'max_depth': 22, 'min_samples_leaf': 8, 'min_samples_split': 4, 'subsample': 0.42538845775318185}. Best is trial 40 with value: 0.8303229603107971.\u001b[0m\n",
      "\u001b[32m[I 2023-08-24 13:57:05,106]\u001b[0m Trial 57 finished with value: 0.7831323195907423 and parameters: {'n_estimators': 159, 'max_depth': 27, 'min_samples_leaf': 2, 'min_samples_split': 6, 'subsample': 0.18560610479611955}. Best is trial 40 with value: 0.8303229603107971.\u001b[0m\n",
      "\u001b[32m[I 2023-08-24 13:57:08,871]\u001b[0m Trial 58 finished with value: 0.8259240602507443 and parameters: {'n_estimators': 170, 'max_depth': 25, 'min_samples_leaf': 7, 'min_samples_split': 9, 'subsample': 0.4980360022744138}. Best is trial 40 with value: 0.8303229603107971.\u001b[0m\n",
      "\u001b[32m[I 2023-08-24 13:57:11,316]\u001b[0m Trial 59 finished with value: 0.8196342667319556 and parameters: {'n_estimators': 100, 'max_depth': 29, 'min_samples_leaf': 4, 'min_samples_split': 7, 'subsample': 0.45679543788166144}. Best is trial 40 with value: 0.8303229603107971.\u001b[0m\n",
      "\u001b[32m[I 2023-08-24 13:57:12,309]\u001b[0m Trial 60 finished with value: 0.8010638553997513 and parameters: {'n_estimators': 114, 'max_depth': 15, 'min_samples_leaf': 9, 'min_samples_split': 3, 'subsample': 0.2668883344664668}. Best is trial 40 with value: 0.8303229603107971.\u001b[0m\n",
      "\u001b[32m[I 2023-08-24 13:57:14,054]\u001b[0m Trial 61 finished with value: 0.8148716539330192 and parameters: {'n_estimators': 115, 'max_depth': 27, 'min_samples_leaf': 10, 'min_samples_split': 3, 'subsample': 0.43009942087255976}. Best is trial 40 with value: 0.8303229603107971.\u001b[0m\n",
      "\u001b[32m[I 2023-08-24 13:57:14,804]\u001b[0m Trial 62 finished with value: 0.7779828789504373 and parameters: {'n_estimators': 118, 'max_depth': 29, 'min_samples_leaf': 10, 'min_samples_split': 3, 'subsample': 0.21324355063615436}. Best is trial 40 with value: 0.8303229603107971.\u001b[0m\n",
      "\u001b[32m[I 2023-08-24 13:57:16,889]\u001b[0m Trial 63 finished with value: 0.824575525602428 and parameters: {'n_estimators': 123, 'max_depth': 30, 'min_samples_leaf': 10, 'min_samples_split': 4, 'subsample': 0.47012824609064674}. Best is trial 40 with value: 0.8303229603107971.\u001b[0m\n",
      "\u001b[32m[I 2023-08-24 13:57:18,312]\u001b[0m Trial 64 finished with value: 0.8233698196696189 and parameters: {'n_estimators': 107, 'max_depth': 27, 'min_samples_leaf': 9, 'min_samples_split': 2, 'subsample': 0.37576162966313453}. Best is trial 40 with value: 0.8303229603107971.\u001b[0m\n",
      "\u001b[32m[I 2023-08-24 13:57:18,745]\u001b[0m Trial 65 finished with value: 0.6733421302273935 and parameters: {'n_estimators': 134, 'max_depth': 2, 'min_samples_leaf': 10, 'min_samples_split': 3, 'subsample': 0.1425725647386617}. Best is trial 40 with value: 0.8303229603107971.\u001b[0m\n",
      "\u001b[32m[I 2023-08-24 13:57:20,323]\u001b[0m Trial 66 finished with value: 0.8244595260973563 and parameters: {'n_estimators': 111, 'max_depth': 23, 'min_samples_leaf': 9, 'min_samples_split': 5, 'subsample': 0.3951640643015571}. Best is trial 40 with value: 0.8303229603107971.\u001b[0m\n",
      "\u001b[32m[I 2023-08-24 13:57:22,741]\u001b[0m Trial 67 finished with value: 0.823231690036215 and parameters: {'n_estimators': 165, 'max_depth': 18, 'min_samples_leaf': 10, 'min_samples_split': 4, 'subsample': 0.41879855837204594}. Best is trial 40 with value: 0.8303229603107971.\u001b[0m\n",
      "\u001b[32m[I 2023-08-24 13:57:24,429]\u001b[0m Trial 68 finished with value: 0.8136006366240698 and parameters: {'n_estimators': 103, 'max_depth': 25, 'min_samples_leaf': 9, 'min_samples_split': 3, 'subsample': 0.4420046811407707}. Best is trial 40 with value: 0.8303229603107971.\u001b[0m\n",
      "\u001b[32m[I 2023-08-24 13:57:26,060]\u001b[0m Trial 69 finished with value: 0.8139411484299053 and parameters: {'n_estimators': 129, 'max_depth': 28, 'min_samples_leaf': 8, 'min_samples_split': 4, 'subsample': 0.3452572392480925}. Best is trial 40 with value: 0.8303229603107971.\u001b[0m\n",
      "\u001b[32m[I 2023-08-24 13:57:29,152]\u001b[0m Trial 70 finished with value: 0.8245352530094641 and parameters: {'n_estimators': 126, 'max_depth': 30, 'min_samples_leaf': 5, 'min_samples_split': 2, 'subsample': 0.4866080728350137}. Best is trial 40 with value: 0.8303229603107971.\u001b[0m\n",
      "\u001b[32m[I 2023-08-24 13:57:31,953]\u001b[0m Trial 71 finished with value: 0.8260478397323162 and parameters: {'n_estimators': 137, 'max_depth': 25, 'min_samples_leaf': 8, 'min_samples_split': 4, 'subsample': 0.49735394708542385}. Best is trial 40 with value: 0.8303229603107971.\u001b[0m\n",
      "\u001b[32m[I 2023-08-24 13:57:34,296]\u001b[0m Trial 72 finished with value: 0.8242969041167096 and parameters: {'n_estimators': 137, 'max_depth': 23, 'min_samples_leaf': 10, 'min_samples_split': 5, 'subsample': 0.4711141216390104}. Best is trial 40 with value: 0.8303229603107971.\u001b[0m\n",
      "\u001b[32m[I 2023-08-24 13:57:36,761]\u001b[0m Trial 73 finished with value: 0.8286927909274079 and parameters: {'n_estimators': 118, 'max_depth': 27, 'min_samples_leaf': 7, 'min_samples_split': 3, 'subsample': 0.48936989714512497}. Best is trial 40 with value: 0.8303229603107971.\u001b[0m\n",
      "\u001b[32m[I 2023-08-24 13:57:39,037]\u001b[0m Trial 74 finished with value: 0.8228998929635397 and parameters: {'n_estimators': 119, 'max_depth': 27, 'min_samples_leaf': 7, 'min_samples_split': 3, 'subsample': 0.45362308413402197}. Best is trial 40 with value: 0.8303229603107971.\u001b[0m\n",
      "\u001b[32m[I 2023-08-24 13:57:41,170]\u001b[0m Trial 75 finished with value: 0.8270271580724826 and parameters: {'n_estimators': 111, 'max_depth': 29, 'min_samples_leaf': 6, 'min_samples_split': 2, 'subsample': 0.4350794467869098}. Best is trial 40 with value: 0.8303229603107971.\u001b[0m\n",
      "\u001b[32m[I 2023-08-24 13:57:43,326]\u001b[0m Trial 76 finished with value: 0.8188395671656441 and parameters: {'n_estimators': 111, 'max_depth': 29, 'min_samples_leaf': 6, 'min_samples_split': 2, 'subsample': 0.43878056875309995}. Best is trial 40 with value: 0.8303229603107971.\u001b[0m\n",
      "\u001b[32m[I 2023-08-24 13:57:45,598]\u001b[0m Trial 77 finished with value: 0.8209978121766677 and parameters: {'n_estimators': 107, 'max_depth': 26, 'min_samples_leaf': 6, 'min_samples_split': 2, 'subsample': 0.4677635293906542}. Best is trial 40 with value: 0.8303229603107971.\u001b[0m\n",
      "\u001b[32m[I 2023-08-24 13:57:47,724]\u001b[0m Trial 78 finished with value: 0.8217112982266105 and parameters: {'n_estimators': 102, 'max_depth': 29, 'min_samples_leaf': 7, 'min_samples_split': 3, 'subsample': 0.48755997011835606}. Best is trial 40 with value: 0.8303229603107971.\u001b[0m\n",
      "\u001b[32m[I 2023-08-24 13:57:49,708]\u001b[0m Trial 79 finished with value: 0.8196451182012936 and parameters: {'n_estimators': 113, 'max_depth': 16, 'min_samples_leaf': 6, 'min_samples_split': 8, 'subsample': 0.4026429316105727}. Best is trial 40 with value: 0.8303229603107971.\u001b[0m\n",
      "\u001b[32m[I 2023-08-24 13:57:53,134]\u001b[0m Trial 80 finished with value: 0.8167084115899879 and parameters: {'n_estimators': 121, 'max_depth': 30, 'min_samples_leaf': 3, 'min_samples_split': 2, 'subsample': 0.46079757352738493}. Best is trial 40 with value: 0.8303229603107971.\u001b[0m\n",
      "\u001b[32m[I 2023-08-24 13:57:55,111]\u001b[0m Trial 81 finished with value: 0.8210978832434085 and parameters: {'n_estimators': 116, 'max_depth': 28, 'min_samples_leaf': 7, 'min_samples_split': 3, 'subsample': 0.4165500450271492}. Best is trial 40 with value: 0.8303229603107971.\u001b[0m\n",
      "\u001b[32m[I 2023-08-24 13:57:56,808]\u001b[0m Trial 82 finished with value: 0.819490157150606 and parameters: {'n_estimators': 108, 'max_depth': 27, 'min_samples_leaf': 9, 'min_samples_split': 3, 'subsample': 0.43058395139748423}. Best is trial 40 with value: 0.8303229603107971.\u001b[0m\n",
      "\u001b[32m[I 2023-08-24 13:57:59,486]\u001b[0m Trial 83 finished with value: 0.8185330501102379 and parameters: {'n_estimators': 124, 'max_depth': 28, 'min_samples_leaf': 5, 'min_samples_split': 9, 'subsample': 0.44243625388206426}. Best is trial 40 with value: 0.8303229603107971.\u001b[0m\n",
      "\u001b[32m[I 2023-08-24 13:58:02,334]\u001b[0m Trial 84 finished with value: 0.8328157680324271 and parameters: {'n_estimators': 175, 'max_depth': 26, 'min_samples_leaf': 10, 'min_samples_split': 10, 'subsample': 0.4503252641605484}. Best is trial 84 with value: 0.8328157680324271.\u001b[0m\n",
      "\u001b[32m[I 2023-08-24 13:58:07,159]\u001b[0m Trial 85 finished with value: 0.8179223432412778 and parameters: {'n_estimators': 181, 'max_depth': 26, 'min_samples_leaf': 4, 'min_samples_split': 10, 'subsample': 0.47497151687326566}. Best is trial 84 with value: 0.8328157680324271.\u001b[0m\n",
      "\u001b[32m[I 2023-08-24 13:58:09,881]\u001b[0m Trial 86 finished with value: 0.835900005036347 and parameters: {'n_estimators': 167, 'max_depth': 20, 'min_samples_leaf': 10, 'min_samples_split': 10, 'subsample': 0.4497769081107684}. Best is trial 86 with value: 0.835900005036347.\u001b[0m\n",
      "\u001b[32m[I 2023-08-24 13:58:12,745]\u001b[0m Trial 87 finished with value: 0.8350414605927228 and parameters: {'n_estimators': 175, 'max_depth': 21, 'min_samples_leaf': 10, 'min_samples_split': 10, 'subsample': 0.4499400881510568}. Best is trial 86 with value: 0.835900005036347.\u001b[0m\n",
      "\u001b[32m[I 2023-08-24 13:58:15,588]\u001b[0m Trial 88 finished with value: 0.8325543039931776 and parameters: {'n_estimators': 174, 'max_depth': 20, 'min_samples_leaf': 10, 'min_samples_split': 10, 'subsample': 0.452068199656891}. Best is trial 86 with value: 0.835900005036347.\u001b[0m\n",
      "\u001b[32m[I 2023-08-24 13:58:18,435]\u001b[0m Trial 89 finished with value: 0.8303546153664488 and parameters: {'n_estimators': 177, 'max_depth': 21, 'min_samples_leaf': 10, 'min_samples_split': 10, 'subsample': 0.4485060481317595}. Best is trial 86 with value: 0.835900005036347.\u001b[0m\n",
      "\u001b[32m[I 2023-08-24 13:58:21,478]\u001b[0m Trial 90 finished with value: 0.8271607182432362 and parameters: {'n_estimators': 173, 'max_depth': 20, 'min_samples_leaf': 10, 'min_samples_split': 10, 'subsample': 0.47873554688868314}. Best is trial 86 with value: 0.835900005036347.\u001b[0m\n",
      "\u001b[32m[I 2023-08-24 13:58:24,530]\u001b[0m Trial 91 finished with value: 0.821326070784874 and parameters: {'n_estimators': 176, 'max_depth': 19, 'min_samples_leaf': 9, 'min_samples_split': 10, 'subsample': 0.44906383555989576}. Best is trial 86 with value: 0.835900005036347.\u001b[0m\n",
      "\u001b[32m[I 2023-08-24 13:58:27,854]\u001b[0m Trial 92 finished with value: 0.830178700211141 and parameters: {'n_estimators': 186, 'max_depth': 21, 'min_samples_leaf': 10, 'min_samples_split': 10, 'subsample': 0.4636485438606673}. Best is trial 86 with value: 0.835900005036347.\u001b[0m\n",
      "\u001b[32m[I 2023-08-24 13:58:30,927]\u001b[0m Trial 93 finished with value: 0.8229208060570133 and parameters: {'n_estimators': 184, 'max_depth': 21, 'min_samples_leaf': 10, 'min_samples_split': 10, 'subsample': 0.4603718164193817}. Best is trial 86 with value: 0.835900005036347.\u001b[0m\n",
      "\u001b[32m[I 2023-08-24 13:58:33,988]\u001b[0m Trial 94 finished with value: 0.8234232247189943 and parameters: {'n_estimators': 192, 'max_depth': 21, 'min_samples_leaf': 10, 'min_samples_split': 10, 'subsample': 0.4456405749030071}. Best is trial 86 with value: 0.835900005036347.\u001b[0m\n",
      "\u001b[32m[I 2023-08-24 13:58:37,075]\u001b[0m Trial 95 finished with value: 0.8335050940948371 and parameters: {'n_estimators': 188, 'max_depth': 18, 'min_samples_leaf': 10, 'min_samples_split': 10, 'subsample': 0.4530975751519157}. Best is trial 86 with value: 0.835900005036347.\u001b[0m\n",
      "\u001b[32m[I 2023-08-24 13:58:40,284]\u001b[0m Trial 96 finished with value: 0.8280806769447595 and parameters: {'n_estimators': 189, 'max_depth': 17, 'min_samples_leaf': 10, 'min_samples_split': 9, 'subsample': 0.46334100514426735}. Best is trial 86 with value: 0.835900005036347.\u001b[0m\n",
      "\u001b[32m[I 2023-08-24 13:58:43,548]\u001b[0m Trial 97 finished with value: 0.8267615140680492 and parameters: {'n_estimators': 180, 'max_depth': 18, 'min_samples_leaf': 10, 'min_samples_split': 10, 'subsample': 0.4902611217148449}. Best is trial 86 with value: 0.835900005036347.\u001b[0m\n",
      "\u001b[32m[I 2023-08-24 13:58:46,253]\u001b[0m Trial 98 finished with value: 0.8171253304856491 and parameters: {'n_estimators': 175, 'max_depth': 20, 'min_samples_leaf': 9, 'min_samples_split': 10, 'subsample': 0.40995895736600896}. Best is trial 86 with value: 0.835900005036347.\u001b[0m\n",
      "\u001b[32m[I 2023-08-24 13:58:49,750]\u001b[0m Trial 99 finished with value: 0.8213215191189827 and parameters: {'n_estimators': 195, 'max_depth': 22, 'min_samples_leaf': 10, 'min_samples_split': 10, 'subsample': 0.4768794347321747}. Best is trial 86 with value: 0.835900005036347.\u001b[0m\n"
     ]
    },
    {
     "name": "stdout",
     "output_type": "stream",
     "text": [
      "Best r2:  0.835900005036347\n",
      "Best trial: {'n_estimators': 167, 'max_depth': 20, 'min_samples_leaf': 10, 'min_samples_split': 10, 'subsample': 0.4497769081107684}\n"
     ]
    }
   ],
   "source": [
    "sampler = TPESampler()\n",
    "study = optuna.create_study(\n",
    "    study_name=\"gb_parameter_opt\",\n",
    "    direction=\"maximize\",\n",
    "    sampler=sampler,\n",
    ")\n",
    "\n",
    "study.optimize(lambda trial : objectiveGB(trial, Ni_X_train, Ni_y_train), n_trials=100)\n",
    "print(\"Best r2: \", study.best_value)\n",
    "print(\"Best trial:\", study.best_trial.params)"
   ]
  },
  {
   "cell_type": "code",
   "execution_count": 51,
   "id": "d71c01fb",
   "metadata": {},
   "outputs": [
    {
     "data": {
      "application/vnd.plotly.v1+json": {
       "config": {
        "plotlyServerURL": "https://plot.ly"
       },
       "data": [
        {
         "dimensions": [
          {
           "label": "Objective Value",
           "range": [
            0.6158903478012423,
            0.835900005036347
           ],
           "values": [
            0.8143254789435309,
            0.8148055931209072,
            0.7896807950899947,
            0.7994247536007768,
            0.8223630035684362,
            0.6158903478012423,
            0.8085566514135586,
            0.8010788947447537,
            0.7091151064794559,
            0.8258641522757891,
            0.8223098248061739,
            0.8245367163609896,
            0.8259299772279981,
            0.8168888096086333,
            0.6957642805094963,
            0.8277246847911008,
            0.821659846324931,
            0.8220186723783073,
            0.8195610858058379,
            0.8214970399452783,
            0.7894100082873707,
            0.8285004877855684,
            0.819641134426643,
            0.8175214900331623,
            0.8284262267608742,
            0.8263096512178597,
            0.8239571959539308,
            0.8202464011398186,
            0.8059953736013215,
            0.8125179487677545,
            0.8206600004192385,
            0.8210455535676505,
            0.825026047865159,
            0.8189607207694809,
            0.8186017478039533,
            0.8222225594445132,
            0.8120150591580613,
            0.816814595375565,
            0.8257093730861407,
            0.8065488910825511,
            0.8303229603107971,
            0.8302517876753853,
            0.8144506710275599,
            0.8136858157408431,
            0.8219966316213719,
            0.8205339950209611,
            0.8144664578730154,
            0.817885634102652,
            0.8024350683313788,
            0.8157718870557318,
            0.8236334824279099,
            0.8277850762032978,
            0.8188612918831,
            0.8223589365824132,
            0.8234749729086376,
            0.8211390400545187,
            0.8217641249330907,
            0.7831323195907423,
            0.8259240602507443,
            0.8196342667319556,
            0.8010638553997513,
            0.8148716539330192,
            0.7779828789504373,
            0.824575525602428,
            0.8233698196696189,
            0.6733421302273935,
            0.8244595260973563,
            0.823231690036215,
            0.8136006366240698,
            0.8139411484299053,
            0.8245352530094641,
            0.8260478397323162,
            0.8242969041167096,
            0.8286927909274079,
            0.8228998929635397,
            0.8270271580724826,
            0.8188395671656441,
            0.8209978121766677,
            0.8217112982266105,
            0.8196451182012936,
            0.8167084115899879,
            0.8210978832434085,
            0.819490157150606,
            0.8185330501102379,
            0.8328157680324271,
            0.8179223432412778,
            0.835900005036347,
            0.8350414605927228,
            0.8325543039931776,
            0.8303546153664488,
            0.8271607182432362,
            0.821326070784874,
            0.830178700211141,
            0.8229208060570133,
            0.8234232247189943,
            0.8335050940948371,
            0.8280806769447595,
            0.8267615140680492,
            0.8171253304856491,
            0.8213215191189827
           ]
          },
          {
           "label": "max_depth",
           "range": [
            1,
            30
           ],
           "values": [
            5,
            16,
            9,
            21,
            20,
            1,
            14,
            26,
            2,
            28,
            30,
            22,
            25,
            30,
            26,
            25,
            16,
            24,
            18,
            13,
            24,
            28,
            26,
            23,
            29,
            28,
            28,
            19,
            30,
            10,
            28,
            28,
            27,
            30,
            24,
            21,
            28,
            6,
            22,
            26,
            17,
            17,
            17,
            14,
            11,
            19,
            15,
            8,
            12,
            17,
            20,
            29,
            29,
            26,
            29,
            25,
            22,
            27,
            25,
            29,
            15,
            27,
            29,
            30,
            27,
            2,
            23,
            18,
            25,
            28,
            30,
            25,
            23,
            27,
            27,
            29,
            29,
            26,
            29,
            16,
            30,
            28,
            27,
            28,
            26,
            26,
            20,
            21,
            20,
            21,
            20,
            19,
            21,
            21,
            21,
            18,
            17,
            18,
            20,
            22
           ]
          },
          {
           "label": "min_samples_leaf",
           "range": [
            1,
            10
           ],
           "values": [
            6,
            4,
            10,
            1,
            7,
            5,
            3,
            5,
            8,
            10,
            10,
            8,
            8,
            9,
            8,
            10,
            7,
            9,
            9,
            7,
            1,
            10,
            10,
            9,
            8,
            10,
            9,
            6,
            9,
            7,
            10,
            10,
            10,
            8,
            9,
            10,
            3,
            9,
            6,
            8,
            4,
            4,
            4,
            3,
            4,
            5,
            2,
            5,
            2,
            4,
            5,
            10,
            4,
            3,
            6,
            10,
            8,
            2,
            7,
            4,
            9,
            10,
            10,
            10,
            9,
            10,
            9,
            10,
            9,
            8,
            5,
            8,
            10,
            7,
            7,
            6,
            6,
            6,
            7,
            6,
            3,
            7,
            9,
            5,
            10,
            4,
            10,
            10,
            10,
            10,
            10,
            9,
            10,
            10,
            10,
            10,
            10,
            10,
            9,
            10
           ]
          },
          {
           "label": "min_samples_split",
           "range": [
            2,
            10
           ],
           "values": [
            3,
            2,
            9,
            8,
            2,
            5,
            10,
            9,
            2,
            10,
            6,
            4,
            4,
            6,
            7,
            4,
            4,
            4,
            5,
            3,
            5,
            7,
            7,
            7,
            3,
            3,
            5,
            8,
            3,
            6,
            3,
            3,
            2,
            3,
            4,
            2,
            8,
            2,
            4,
            5,
            9,
            9,
            9,
            10,
            9,
            8,
            9,
            10,
            8,
            7,
            9,
            3,
            8,
            6,
            10,
            2,
            4,
            6,
            9,
            7,
            3,
            3,
            3,
            4,
            2,
            3,
            5,
            4,
            3,
            4,
            2,
            4,
            5,
            3,
            3,
            2,
            2,
            2,
            3,
            8,
            2,
            3,
            3,
            9,
            10,
            10,
            10,
            10,
            10,
            10,
            10,
            10,
            10,
            10,
            10,
            10,
            9,
            10,
            10,
            10
           ]
          },
          {
           "label": "n_estimators",
           "range": [
            100,
            199
           ],
           "values": [
            181,
            191,
            193,
            120,
            188,
            189,
            193,
            176,
            104,
            149,
            149,
            156,
            150,
            144,
            133,
            165,
            170,
            164,
            134,
            160,
            138,
            123,
            122,
            103,
            122,
            116,
            111,
            131,
            126,
            178,
            108,
            121,
            114,
            117,
            141,
            127,
            169,
            199,
            110,
            117,
            100,
            101,
            104,
            100,
            100,
            184,
            109,
            153,
            106,
            124,
            146,
            116,
            113,
            129,
            120,
            138,
            105,
            159,
            170,
            100,
            114,
            115,
            118,
            123,
            107,
            134,
            111,
            165,
            103,
            129,
            126,
            137,
            137,
            118,
            119,
            111,
            111,
            107,
            102,
            113,
            121,
            116,
            108,
            124,
            175,
            181,
            167,
            175,
            174,
            177,
            173,
            176,
            186,
            184,
            192,
            188,
            189,
            180,
            175,
            195
           ]
          },
          {
           "label": "subsample",
           "range": [
            0.10246151354342217,
            0.4999357163308825
           ],
           "values": [
            0.39424993052026847,
            0.440814840862058,
            0.1777478571772095,
            0.3055583914567722,
            0.41210987546767996,
            0.3120318245924354,
            0.28714225412569877,
            0.19480195498224318,
            0.28890311406331226,
            0.45633165206590276,
            0.49108251812442205,
            0.39834898768480975,
            0.4973657687948702,
            0.48609945681538386,
            0.10246151354342217,
            0.4553783871421424,
            0.3602379547100331,
            0.4999357163308825,
            0.35280383658931747,
            0.4359205886757366,
            0.24459318193475646,
            0.4574025163922168,
            0.4614848510327318,
            0.3633171890890904,
            0.4679351193324273,
            0.4219168502350148,
            0.3757796135174193,
            0.46200434921277445,
            0.34034255799475954,
            0.3915079676735088,
            0.46952353515206363,
            0.4197664323731958,
            0.43358699018833413,
            0.44179858965863167,
            0.4178270732730321,
            0.39079575582506076,
            0.46704637009121974,
            0.3321765013974143,
            0.4408268560342825,
            0.2557024897041935,
            0.4107933066383133,
            0.4148934364352187,
            0.4768457535968931,
            0.40829109098231875,
            0.44979396851771564,
            0.38531581290071004,
            0.48188615283718267,
            0.40502386694184944,
            0.3178600914082785,
            0.4277702404024961,
            0.45460102747404896,
            0.4226363954264848,
            0.4477650825559508,
            0.48185388608293955,
            0.40958369168950315,
            0.37507230482840465,
            0.42538845775318185,
            0.18560610479611955,
            0.4980360022744138,
            0.45679543788166144,
            0.2668883344664668,
            0.43009942087255976,
            0.21324355063615436,
            0.47012824609064674,
            0.37576162966313453,
            0.1425725647386617,
            0.3951640643015571,
            0.41879855837204594,
            0.4420046811407707,
            0.3452572392480925,
            0.4866080728350137,
            0.49735394708542385,
            0.4711141216390104,
            0.48936989714512497,
            0.45362308413402197,
            0.4350794467869098,
            0.43878056875309995,
            0.4677635293906542,
            0.48755997011835606,
            0.4026429316105727,
            0.46079757352738493,
            0.4165500450271492,
            0.43058395139748423,
            0.44243625388206426,
            0.4503252641605484,
            0.47497151687326566,
            0.4497769081107684,
            0.4499400881510568,
            0.452068199656891,
            0.4485060481317595,
            0.47873554688868314,
            0.44906383555989576,
            0.4636485438606673,
            0.4603718164193817,
            0.4456405749030071,
            0.4530975751519157,
            0.46334100514426735,
            0.4902611217148449,
            0.40995895736600896,
            0.4768794347321747
           ]
          }
         ],
         "labelangle": 30,
         "labelside": "bottom",
         "line": {
          "color": [
           0.8143254789435309,
           0.8148055931209072,
           0.7896807950899947,
           0.7994247536007768,
           0.8223630035684362,
           0.6158903478012423,
           0.8085566514135586,
           0.8010788947447537,
           0.7091151064794559,
           0.8258641522757891,
           0.8223098248061739,
           0.8245367163609896,
           0.8259299772279981,
           0.8168888096086333,
           0.6957642805094963,
           0.8277246847911008,
           0.821659846324931,
           0.8220186723783073,
           0.8195610858058379,
           0.8214970399452783,
           0.7894100082873707,
           0.8285004877855684,
           0.819641134426643,
           0.8175214900331623,
           0.8284262267608742,
           0.8263096512178597,
           0.8239571959539308,
           0.8202464011398186,
           0.8059953736013215,
           0.8125179487677545,
           0.8206600004192385,
           0.8210455535676505,
           0.825026047865159,
           0.8189607207694809,
           0.8186017478039533,
           0.8222225594445132,
           0.8120150591580613,
           0.816814595375565,
           0.8257093730861407,
           0.8065488910825511,
           0.8303229603107971,
           0.8302517876753853,
           0.8144506710275599,
           0.8136858157408431,
           0.8219966316213719,
           0.8205339950209611,
           0.8144664578730154,
           0.817885634102652,
           0.8024350683313788,
           0.8157718870557318,
           0.8236334824279099,
           0.8277850762032978,
           0.8188612918831,
           0.8223589365824132,
           0.8234749729086376,
           0.8211390400545187,
           0.8217641249330907,
           0.7831323195907423,
           0.8259240602507443,
           0.8196342667319556,
           0.8010638553997513,
           0.8148716539330192,
           0.7779828789504373,
           0.824575525602428,
           0.8233698196696189,
           0.6733421302273935,
           0.8244595260973563,
           0.823231690036215,
           0.8136006366240698,
           0.8139411484299053,
           0.8245352530094641,
           0.8260478397323162,
           0.8242969041167096,
           0.8286927909274079,
           0.8228998929635397,
           0.8270271580724826,
           0.8188395671656441,
           0.8209978121766677,
           0.8217112982266105,
           0.8196451182012936,
           0.8167084115899879,
           0.8210978832434085,
           0.819490157150606,
           0.8185330501102379,
           0.8328157680324271,
           0.8179223432412778,
           0.835900005036347,
           0.8350414605927228,
           0.8325543039931776,
           0.8303546153664488,
           0.8271607182432362,
           0.821326070784874,
           0.830178700211141,
           0.8229208060570133,
           0.8234232247189943,
           0.8335050940948371,
           0.8280806769447595,
           0.8267615140680492,
           0.8171253304856491,
           0.8213215191189827
          ],
          "colorbar": {
           "title": {
            "text": "Objective Value"
           }
          },
          "colorscale": [
           [
            0,
            "rgb(247,251,255)"
           ],
           [
            0.125,
            "rgb(222,235,247)"
           ],
           [
            0.25,
            "rgb(198,219,239)"
           ],
           [
            0.375,
            "rgb(158,202,225)"
           ],
           [
            0.5,
            "rgb(107,174,214)"
           ],
           [
            0.625,
            "rgb(66,146,198)"
           ],
           [
            0.75,
            "rgb(33,113,181)"
           ],
           [
            0.875,
            "rgb(8,81,156)"
           ],
           [
            1,
            "rgb(8,48,107)"
           ]
          ],
          "reversescale": false,
          "showscale": true
         },
         "type": "parcoords"
        }
       ],
       "layout": {
        "template": {
         "data": {
          "bar": [
           {
            "error_x": {
             "color": "#2a3f5f"
            },
            "error_y": {
             "color": "#2a3f5f"
            },
            "marker": {
             "line": {
              "color": "#E5ECF6",
              "width": 0.5
             },
             "pattern": {
              "fillmode": "overlay",
              "size": 10,
              "solidity": 0.2
             }
            },
            "type": "bar"
           }
          ],
          "barpolar": [
           {
            "marker": {
             "line": {
              "color": "#E5ECF6",
              "width": 0.5
             },
             "pattern": {
              "fillmode": "overlay",
              "size": 10,
              "solidity": 0.2
             }
            },
            "type": "barpolar"
           }
          ],
          "carpet": [
           {
            "aaxis": {
             "endlinecolor": "#2a3f5f",
             "gridcolor": "white",
             "linecolor": "white",
             "minorgridcolor": "white",
             "startlinecolor": "#2a3f5f"
            },
            "baxis": {
             "endlinecolor": "#2a3f5f",
             "gridcolor": "white",
             "linecolor": "white",
             "minorgridcolor": "white",
             "startlinecolor": "#2a3f5f"
            },
            "type": "carpet"
           }
          ],
          "choropleth": [
           {
            "colorbar": {
             "outlinewidth": 0,
             "ticks": ""
            },
            "type": "choropleth"
           }
          ],
          "contour": [
           {
            "colorbar": {
             "outlinewidth": 0,
             "ticks": ""
            },
            "colorscale": [
             [
              0,
              "#0d0887"
             ],
             [
              0.1111111111111111,
              "#46039f"
             ],
             [
              0.2222222222222222,
              "#7201a8"
             ],
             [
              0.3333333333333333,
              "#9c179e"
             ],
             [
              0.4444444444444444,
              "#bd3786"
             ],
             [
              0.5555555555555556,
              "#d8576b"
             ],
             [
              0.6666666666666666,
              "#ed7953"
             ],
             [
              0.7777777777777778,
              "#fb9f3a"
             ],
             [
              0.8888888888888888,
              "#fdca26"
             ],
             [
              1,
              "#f0f921"
             ]
            ],
            "type": "contour"
           }
          ],
          "contourcarpet": [
           {
            "colorbar": {
             "outlinewidth": 0,
             "ticks": ""
            },
            "type": "contourcarpet"
           }
          ],
          "heatmap": [
           {
            "colorbar": {
             "outlinewidth": 0,
             "ticks": ""
            },
            "colorscale": [
             [
              0,
              "#0d0887"
             ],
             [
              0.1111111111111111,
              "#46039f"
             ],
             [
              0.2222222222222222,
              "#7201a8"
             ],
             [
              0.3333333333333333,
              "#9c179e"
             ],
             [
              0.4444444444444444,
              "#bd3786"
             ],
             [
              0.5555555555555556,
              "#d8576b"
             ],
             [
              0.6666666666666666,
              "#ed7953"
             ],
             [
              0.7777777777777778,
              "#fb9f3a"
             ],
             [
              0.8888888888888888,
              "#fdca26"
             ],
             [
              1,
              "#f0f921"
             ]
            ],
            "type": "heatmap"
           }
          ],
          "heatmapgl": [
           {
            "colorbar": {
             "outlinewidth": 0,
             "ticks": ""
            },
            "colorscale": [
             [
              0,
              "#0d0887"
             ],
             [
              0.1111111111111111,
              "#46039f"
             ],
             [
              0.2222222222222222,
              "#7201a8"
             ],
             [
              0.3333333333333333,
              "#9c179e"
             ],
             [
              0.4444444444444444,
              "#bd3786"
             ],
             [
              0.5555555555555556,
              "#d8576b"
             ],
             [
              0.6666666666666666,
              "#ed7953"
             ],
             [
              0.7777777777777778,
              "#fb9f3a"
             ],
             [
              0.8888888888888888,
              "#fdca26"
             ],
             [
              1,
              "#f0f921"
             ]
            ],
            "type": "heatmapgl"
           }
          ],
          "histogram": [
           {
            "marker": {
             "pattern": {
              "fillmode": "overlay",
              "size": 10,
              "solidity": 0.2
             }
            },
            "type": "histogram"
           }
          ],
          "histogram2d": [
           {
            "colorbar": {
             "outlinewidth": 0,
             "ticks": ""
            },
            "colorscale": [
             [
              0,
              "#0d0887"
             ],
             [
              0.1111111111111111,
              "#46039f"
             ],
             [
              0.2222222222222222,
              "#7201a8"
             ],
             [
              0.3333333333333333,
              "#9c179e"
             ],
             [
              0.4444444444444444,
              "#bd3786"
             ],
             [
              0.5555555555555556,
              "#d8576b"
             ],
             [
              0.6666666666666666,
              "#ed7953"
             ],
             [
              0.7777777777777778,
              "#fb9f3a"
             ],
             [
              0.8888888888888888,
              "#fdca26"
             ],
             [
              1,
              "#f0f921"
             ]
            ],
            "type": "histogram2d"
           }
          ],
          "histogram2dcontour": [
           {
            "colorbar": {
             "outlinewidth": 0,
             "ticks": ""
            },
            "colorscale": [
             [
              0,
              "#0d0887"
             ],
             [
              0.1111111111111111,
              "#46039f"
             ],
             [
              0.2222222222222222,
              "#7201a8"
             ],
             [
              0.3333333333333333,
              "#9c179e"
             ],
             [
              0.4444444444444444,
              "#bd3786"
             ],
             [
              0.5555555555555556,
              "#d8576b"
             ],
             [
              0.6666666666666666,
              "#ed7953"
             ],
             [
              0.7777777777777778,
              "#fb9f3a"
             ],
             [
              0.8888888888888888,
              "#fdca26"
             ],
             [
              1,
              "#f0f921"
             ]
            ],
            "type": "histogram2dcontour"
           }
          ],
          "mesh3d": [
           {
            "colorbar": {
             "outlinewidth": 0,
             "ticks": ""
            },
            "type": "mesh3d"
           }
          ],
          "parcoords": [
           {
            "line": {
             "colorbar": {
              "outlinewidth": 0,
              "ticks": ""
             }
            },
            "type": "parcoords"
           }
          ],
          "pie": [
           {
            "automargin": true,
            "type": "pie"
           }
          ],
          "scatter": [
           {
            "marker": {
             "colorbar": {
              "outlinewidth": 0,
              "ticks": ""
             }
            },
            "type": "scatter"
           }
          ],
          "scatter3d": [
           {
            "line": {
             "colorbar": {
              "outlinewidth": 0,
              "ticks": ""
             }
            },
            "marker": {
             "colorbar": {
              "outlinewidth": 0,
              "ticks": ""
             }
            },
            "type": "scatter3d"
           }
          ],
          "scattercarpet": [
           {
            "marker": {
             "colorbar": {
              "outlinewidth": 0,
              "ticks": ""
             }
            },
            "type": "scattercarpet"
           }
          ],
          "scattergeo": [
           {
            "marker": {
             "colorbar": {
              "outlinewidth": 0,
              "ticks": ""
             }
            },
            "type": "scattergeo"
           }
          ],
          "scattergl": [
           {
            "marker": {
             "colorbar": {
              "outlinewidth": 0,
              "ticks": ""
             }
            },
            "type": "scattergl"
           }
          ],
          "scattermapbox": [
           {
            "marker": {
             "colorbar": {
              "outlinewidth": 0,
              "ticks": ""
             }
            },
            "type": "scattermapbox"
           }
          ],
          "scatterpolar": [
           {
            "marker": {
             "colorbar": {
              "outlinewidth": 0,
              "ticks": ""
             }
            },
            "type": "scatterpolar"
           }
          ],
          "scatterpolargl": [
           {
            "marker": {
             "colorbar": {
              "outlinewidth": 0,
              "ticks": ""
             }
            },
            "type": "scatterpolargl"
           }
          ],
          "scatterternary": [
           {
            "marker": {
             "colorbar": {
              "outlinewidth": 0,
              "ticks": ""
             }
            },
            "type": "scatterternary"
           }
          ],
          "surface": [
           {
            "colorbar": {
             "outlinewidth": 0,
             "ticks": ""
            },
            "colorscale": [
             [
              0,
              "#0d0887"
             ],
             [
              0.1111111111111111,
              "#46039f"
             ],
             [
              0.2222222222222222,
              "#7201a8"
             ],
             [
              0.3333333333333333,
              "#9c179e"
             ],
             [
              0.4444444444444444,
              "#bd3786"
             ],
             [
              0.5555555555555556,
              "#d8576b"
             ],
             [
              0.6666666666666666,
              "#ed7953"
             ],
             [
              0.7777777777777778,
              "#fb9f3a"
             ],
             [
              0.8888888888888888,
              "#fdca26"
             ],
             [
              1,
              "#f0f921"
             ]
            ],
            "type": "surface"
           }
          ],
          "table": [
           {
            "cells": {
             "fill": {
              "color": "#EBF0F8"
             },
             "line": {
              "color": "white"
             }
            },
            "header": {
             "fill": {
              "color": "#C8D4E3"
             },
             "line": {
              "color": "white"
             }
            },
            "type": "table"
           }
          ]
         },
         "layout": {
          "annotationdefaults": {
           "arrowcolor": "#2a3f5f",
           "arrowhead": 0,
           "arrowwidth": 1
          },
          "autotypenumbers": "strict",
          "coloraxis": {
           "colorbar": {
            "outlinewidth": 0,
            "ticks": ""
           }
          },
          "colorscale": {
           "diverging": [
            [
             0,
             "#8e0152"
            ],
            [
             0.1,
             "#c51b7d"
            ],
            [
             0.2,
             "#de77ae"
            ],
            [
             0.3,
             "#f1b6da"
            ],
            [
             0.4,
             "#fde0ef"
            ],
            [
             0.5,
             "#f7f7f7"
            ],
            [
             0.6,
             "#e6f5d0"
            ],
            [
             0.7,
             "#b8e186"
            ],
            [
             0.8,
             "#7fbc41"
            ],
            [
             0.9,
             "#4d9221"
            ],
            [
             1,
             "#276419"
            ]
           ],
           "sequential": [
            [
             0,
             "#0d0887"
            ],
            [
             0.1111111111111111,
             "#46039f"
            ],
            [
             0.2222222222222222,
             "#7201a8"
            ],
            [
             0.3333333333333333,
             "#9c179e"
            ],
            [
             0.4444444444444444,
             "#bd3786"
            ],
            [
             0.5555555555555556,
             "#d8576b"
            ],
            [
             0.6666666666666666,
             "#ed7953"
            ],
            [
             0.7777777777777778,
             "#fb9f3a"
            ],
            [
             0.8888888888888888,
             "#fdca26"
            ],
            [
             1,
             "#f0f921"
            ]
           ],
           "sequentialminus": [
            [
             0,
             "#0d0887"
            ],
            [
             0.1111111111111111,
             "#46039f"
            ],
            [
             0.2222222222222222,
             "#7201a8"
            ],
            [
             0.3333333333333333,
             "#9c179e"
            ],
            [
             0.4444444444444444,
             "#bd3786"
            ],
            [
             0.5555555555555556,
             "#d8576b"
            ],
            [
             0.6666666666666666,
             "#ed7953"
            ],
            [
             0.7777777777777778,
             "#fb9f3a"
            ],
            [
             0.8888888888888888,
             "#fdca26"
            ],
            [
             1,
             "#f0f921"
            ]
           ]
          },
          "colorway": [
           "#636efa",
           "#EF553B",
           "#00cc96",
           "#ab63fa",
           "#FFA15A",
           "#19d3f3",
           "#FF6692",
           "#B6E880",
           "#FF97FF",
           "#FECB52"
          ],
          "font": {
           "color": "#2a3f5f"
          },
          "geo": {
           "bgcolor": "white",
           "lakecolor": "white",
           "landcolor": "#E5ECF6",
           "showlakes": true,
           "showland": true,
           "subunitcolor": "white"
          },
          "hoverlabel": {
           "align": "left"
          },
          "hovermode": "closest",
          "mapbox": {
           "style": "light"
          },
          "paper_bgcolor": "white",
          "plot_bgcolor": "#E5ECF6",
          "polar": {
           "angularaxis": {
            "gridcolor": "white",
            "linecolor": "white",
            "ticks": ""
           },
           "bgcolor": "#E5ECF6",
           "radialaxis": {
            "gridcolor": "white",
            "linecolor": "white",
            "ticks": ""
           }
          },
          "scene": {
           "xaxis": {
            "backgroundcolor": "#E5ECF6",
            "gridcolor": "white",
            "gridwidth": 2,
            "linecolor": "white",
            "showbackground": true,
            "ticks": "",
            "zerolinecolor": "white"
           },
           "yaxis": {
            "backgroundcolor": "#E5ECF6",
            "gridcolor": "white",
            "gridwidth": 2,
            "linecolor": "white",
            "showbackground": true,
            "ticks": "",
            "zerolinecolor": "white"
           },
           "zaxis": {
            "backgroundcolor": "#E5ECF6",
            "gridcolor": "white",
            "gridwidth": 2,
            "linecolor": "white",
            "showbackground": true,
            "ticks": "",
            "zerolinecolor": "white"
           }
          },
          "shapedefaults": {
           "line": {
            "color": "#2a3f5f"
           }
          },
          "ternary": {
           "aaxis": {
            "gridcolor": "white",
            "linecolor": "white",
            "ticks": ""
           },
           "baxis": {
            "gridcolor": "white",
            "linecolor": "white",
            "ticks": ""
           },
           "bgcolor": "#E5ECF6",
           "caxis": {
            "gridcolor": "white",
            "linecolor": "white",
            "ticks": ""
           }
          },
          "title": {
           "x": 0.05
          },
          "xaxis": {
           "automargin": true,
           "gridcolor": "white",
           "linecolor": "white",
           "ticks": "",
           "title": {
            "standoff": 15
           },
           "zerolinecolor": "white",
           "zerolinewidth": 2
          },
          "yaxis": {
           "automargin": true,
           "gridcolor": "white",
           "linecolor": "white",
           "ticks": "",
           "title": {
            "standoff": 15
           },
           "zerolinecolor": "white",
           "zerolinewidth": 2
          }
         }
        },
        "title": {
         "text": "Parallel Coordinate Plot"
        }
       }
      }
     },
     "metadata": {},
     "output_type": "display_data"
    }
   ],
   "source": [
    "optuna.visualization.plot_parallel_coordinate(study)"
   ]
  },
  {
   "cell_type": "code",
   "execution_count": 52,
   "id": "1d419df8",
   "metadata": {},
   "outputs": [
    {
     "name": "stdout",
     "output_type": "stream",
     "text": [
      "Best trial: {'n_estimators': 167, 'max_depth': 20, 'min_samples_leaf': 10, 'min_samples_split': 10, 'subsample': 0.4497769081107684}\n"
     ]
    },
    {
     "data": {
      "text/plain": [
       "167"
      ]
     },
     "execution_count": 52,
     "metadata": {},
     "output_type": "execute_result"
    }
   ],
   "source": [
    "print(\"Best trial:\", study.best_trial.params)\n",
    "study.best_trial.params[\"n_estimators\"]"
   ]
  },
  {
   "cell_type": "code",
   "execution_count": 53,
   "id": "ffefef6c",
   "metadata": {},
   "outputs": [
    {
     "data": {
      "text/html": [
       "<style>#sk-container-id-3 {color: black;}#sk-container-id-3 pre{padding: 0;}#sk-container-id-3 div.sk-toggleable {background-color: white;}#sk-container-id-3 label.sk-toggleable__label {cursor: pointer;display: block;width: 100%;margin-bottom: 0;padding: 0.3em;box-sizing: border-box;text-align: center;}#sk-container-id-3 label.sk-toggleable__label-arrow:before {content: \"▸\";float: left;margin-right: 0.25em;color: #696969;}#sk-container-id-3 label.sk-toggleable__label-arrow:hover:before {color: black;}#sk-container-id-3 div.sk-estimator:hover label.sk-toggleable__label-arrow:before {color: black;}#sk-container-id-3 div.sk-toggleable__content {max-height: 0;max-width: 0;overflow: hidden;text-align: left;background-color: #f0f8ff;}#sk-container-id-3 div.sk-toggleable__content pre {margin: 0.2em;color: black;border-radius: 0.25em;background-color: #f0f8ff;}#sk-container-id-3 input.sk-toggleable__control:checked~div.sk-toggleable__content {max-height: 200px;max-width: 100%;overflow: auto;}#sk-container-id-3 input.sk-toggleable__control:checked~label.sk-toggleable__label-arrow:before {content: \"▾\";}#sk-container-id-3 div.sk-estimator input.sk-toggleable__control:checked~label.sk-toggleable__label {background-color: #d4ebff;}#sk-container-id-3 div.sk-label input.sk-toggleable__control:checked~label.sk-toggleable__label {background-color: #d4ebff;}#sk-container-id-3 input.sk-hidden--visually {border: 0;clip: rect(1px 1px 1px 1px);clip: rect(1px, 1px, 1px, 1px);height: 1px;margin: -1px;overflow: hidden;padding: 0;position: absolute;width: 1px;}#sk-container-id-3 div.sk-estimator {font-family: monospace;background-color: #f0f8ff;border: 1px dotted black;border-radius: 0.25em;box-sizing: border-box;margin-bottom: 0.5em;}#sk-container-id-3 div.sk-estimator:hover {background-color: #d4ebff;}#sk-container-id-3 div.sk-parallel-item::after {content: \"\";width: 100%;border-bottom: 1px solid gray;flex-grow: 1;}#sk-container-id-3 div.sk-label:hover label.sk-toggleable__label {background-color: #d4ebff;}#sk-container-id-3 div.sk-serial::before {content: \"\";position: absolute;border-left: 1px solid gray;box-sizing: border-box;top: 0;bottom: 0;left: 50%;z-index: 0;}#sk-container-id-3 div.sk-serial {display: flex;flex-direction: column;align-items: center;background-color: white;padding-right: 0.2em;padding-left: 0.2em;position: relative;}#sk-container-id-3 div.sk-item {position: relative;z-index: 1;}#sk-container-id-3 div.sk-parallel {display: flex;align-items: stretch;justify-content: center;background-color: white;position: relative;}#sk-container-id-3 div.sk-item::before, #sk-container-id-3 div.sk-parallel-item::before {content: \"\";position: absolute;border-left: 1px solid gray;box-sizing: border-box;top: 0;bottom: 0;left: 50%;z-index: -1;}#sk-container-id-3 div.sk-parallel-item {display: flex;flex-direction: column;z-index: 1;position: relative;background-color: white;}#sk-container-id-3 div.sk-parallel-item:first-child::after {align-self: flex-end;width: 50%;}#sk-container-id-3 div.sk-parallel-item:last-child::after {align-self: flex-start;width: 50%;}#sk-container-id-3 div.sk-parallel-item:only-child::after {width: 0;}#sk-container-id-3 div.sk-dashed-wrapped {border: 1px dashed gray;margin: 0 0.4em 0.5em 0.4em;box-sizing: border-box;padding-bottom: 0.4em;background-color: white;}#sk-container-id-3 div.sk-label label {font-family: monospace;font-weight: bold;display: inline-block;line-height: 1.2em;}#sk-container-id-3 div.sk-label-container {text-align: center;}#sk-container-id-3 div.sk-container {/* jupyter's `normalize.less` sets `[hidden] { display: none; }` but bootstrap.min.css set `[hidden] { display: none !important; }` so we also need the `!important` here to be able to override the default hidden behavior on the sphinx rendered scikit-learn.org. See: https://github.com/scikit-learn/scikit-learn/issues/21755 */display: inline-block !important;position: relative;}#sk-container-id-3 div.sk-text-repr-fallback {display: none;}</style><div id=\"sk-container-id-3\" class=\"sk-top-container\"><div class=\"sk-text-repr-fallback\"><pre>GradientBoostingRegressor(max_depth=20, min_samples_leaf=10,\n",
       "                          min_samples_split=10, n_estimators=167,\n",
       "                          random_state=42, subsample=0.4497769081107684)</pre><b>In a Jupyter environment, please rerun this cell to show the HTML representation or trust the notebook. <br />On GitHub, the HTML representation is unable to render, please try loading this page with nbviewer.org.</b></div><div class=\"sk-container\" hidden><div class=\"sk-item\"><div class=\"sk-estimator sk-toggleable\"><input class=\"sk-toggleable__control sk-hidden--visually\" id=\"sk-estimator-id-3\" type=\"checkbox\" checked><label for=\"sk-estimator-id-3\" class=\"sk-toggleable__label sk-toggleable__label-arrow\">GradientBoostingRegressor</label><div class=\"sk-toggleable__content\"><pre>GradientBoostingRegressor(max_depth=20, min_samples_leaf=10,\n",
       "                          min_samples_split=10, n_estimators=167,\n",
       "                          random_state=42, subsample=0.4497769081107684)</pre></div></div></div></div></div>"
      ],
      "text/plain": [
       "GradientBoostingRegressor(max_depth=20, min_samples_leaf=10,\n",
       "                          min_samples_split=10, n_estimators=167,\n",
       "                          random_state=42, subsample=0.4497769081107684)"
      ]
     },
     "execution_count": 53,
     "metadata": {},
     "output_type": "execute_result"
    }
   ],
   "source": [
    "gb_params = {\n",
    "    \"random_state\": 42,\n",
    "    \"learning_rate\": 0.1,\n",
    "    \"n_estimators\": study.best_trial.params[\"n_estimators\"],\n",
    "    \"max_depth\": study.best_trial.params[\"max_depth\"],\n",
    "    \"min_samples_leaf\": study.best_trial.params[\"min_samples_leaf\"],\n",
    "    \"min_samples_split\": study.best_trial.params[\"min_samples_split\"],\n",
    "    \"subsample\": study.best_trial.params[\"subsample\"]\n",
    "}\n",
    "\n",
    "gb = GradientBoostingRegressor(**gb_params)\n",
    "gb.fit(Ni_X_train, Ni_y_train)"
   ]
  },
  {
   "cell_type": "code",
   "execution_count": 54,
   "id": "417e128a",
   "metadata": {},
   "outputs": [],
   "source": [
    "# gb_params = {\n",
    "#     \"random_state\": 42,\n",
    "#     \"learning_rate\": 0.1,\n",
    "#     \"n_estimators\": 181,\n",
    "#     \"max_depth\": 28,\n",
    "#     \"min_samples_leaf\": 7,\n",
    "#     \"min_samples_split\": 7,\n",
    "#     \"subsample\": 0.4946447123833718\n",
    "# }\n",
    "\n",
    "# gb = GradientBoostingRegressor(**gb_params)\n",
    "# gb.fit(Ni_X_train, Ni_y_train)"
   ]
  },
  {
   "cell_type": "code",
   "execution_count": 55,
   "id": "4c1a69d2",
   "metadata": {},
   "outputs": [],
   "source": [
    "y_train_pred = gb.predict(Ni_X_train)\n",
    "y_test_pred = gb.predict(Ni_X_test)"
   ]
  },
  {
   "cell_type": "code",
   "execution_count": 56,
   "id": "0f707a20",
   "metadata": {},
   "outputs": [
    {
     "name": "stdout",
     "output_type": "stream",
     "text": [
      "Train RMSE:  0.14572899946763873\n",
      "Test RMSE:  0.561935756181939\n"
     ]
    }
   ],
   "source": [
    "print(\"Train RMSE: \", np.sqrt(mean_squared_error(Ni_y_train, y_train_pred)))\n",
    "print(\"Test RMSE: \", np.sqrt(mean_squared_error(Ni_y_test, y_test_pred)))"
   ]
  },
  {
   "cell_type": "code",
   "execution_count": 57,
   "id": "641d78f4",
   "metadata": {},
   "outputs": [
    {
     "name": "stdout",
     "output_type": "stream",
     "text": [
      "Train R2:  0.9859938908968304\n",
      "Test R2:  0.7705758010958528\n"
     ]
    }
   ],
   "source": [
    "print(\"Train R2: \", r2_score(Ni_y_train, y_train_pred))\n",
    "print(\"Test R2: \", r2_score(Ni_y_test, y_test_pred))"
   ]
  },
  {
   "cell_type": "code",
   "execution_count": 58,
   "id": "dd1670cb",
   "metadata": {},
   "outputs": [
    {
     "data": {
      "image/png": "[encoded data removed]",
      "text/plain": [
       "<Figure size 640x480 with 1 Axes>"
      ]
     },
     "metadata": {},
     "output_type": "display_data"
    }
   ],
   "source": [
    "plt.scatter(y_train_pred, np.array(Ni_y_train), color=\"orange\", alpha=0.3)\n",
    "plt.scatter(y_test_pred, np.array(Ni_y_test), color=\"green\", alpha=0.4)\n",
    "plt.axis(\"auto\")\n",
    "# plt.xlim([0, 1.5]) \n",
    "# plt.ylim(0, None) \n",
    "plt.xlabel('Predicted Values')\n",
    "plt.ylabel('Actual Values')\n",
    "\n",
    "# Add trendline\n",
    "# z = np.polyfit(y_train_pred, As_y_train, 1)\n",
    "# p = np.poly1d(z)\n",
    "# plt.plot(y_train_pred, p(y_train_pred), color='red', linestyle='-')\n",
    "\n",
    "# Add y=x line\n",
    "plt.plot([0, 4.5], [0, 4.5], color='red', linestyle='-')\n",
    "\n",
    "plt.show()"
   ]
  }
 ],
 "metadata": {
  "kernelspec": {
   "display_name": "Python 3",
   "language": "python",
   "name": "python3"
  },
  "language_info": {
   "codemirror_mode": {
    "name": "ipython",
    "version": 3
   },
   "file_extension": ".py",
   "mimetype": "text/x-python",
   "name": "python",
   "nbconvert_exporter": "python",
   "pygments_lexer": "ipython3",
   "version": "3.8.11"
  }
 },
 "nbformat": 4,
 "nbformat_minor": 5
}
