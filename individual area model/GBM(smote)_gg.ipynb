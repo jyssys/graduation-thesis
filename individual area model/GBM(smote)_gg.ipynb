{
 "cells": [
  {
   "attachments": {},
   "cell_type": "markdown",
   "id": "451911be",
   "metadata": {},
   "source": [
    "#### Library import"
   ]
  },
  {
   "cell_type": "code",
   "execution_count": 1,
   "id": "8a394942",
   "metadata": {},
   "outputs": [],
   "source": [
    "import os\n",
    "import pandas as pd\n",
    "import numpy as np\n",
    "import matplotlib.pyplot as plt\n",
    "%matplotlib inline\n",
    "import seaborn as sns\n",
    "import tensorflow as tf\n",
    "import missingno as msno\n",
    "\n",
    "import warnings\n",
    "warnings.filterwarnings('ignore')\n",
    "\n",
    "from sklearn.model_selection import train_test_split\n",
    "from sklearn.model_selection import GridSearchCV\n",
    "from sklearn.metrics import mean_squared_error, r2_score\n",
    "from sklearn.preprocessing import StandardScaler, MinMaxScaler, RobustScaler\n",
    "from sklearn.ensemble import RandomForestRegressor, GradientBoostingRegressor, ExtraTreesRegressor\n",
    "from sklearn.model_selection import KFold\n",
    "from lightgbm import LGBMRegressor\n",
    "from xgboost import XGBRegressor\n",
    "from ngboost import NGBRegressor\n",
    "from scipy.stats import norm, skew\n",
    "\n",
    "from matplotlib.ticker import FormatStrFormatter\n",
    "\n",
    "import re\n",
    "from tqdm import tqdm"
   ]
  },
  {
   "attachments": {},
   "cell_type": "markdown",
   "id": "31a13d68",
   "metadata": {},
   "source": [
    "#### GPU setting"
   ]
  },
  {
   "cell_type": "code",
   "execution_count": 2,
   "id": "cd001f36",
   "metadata": {},
   "outputs": [],
   "source": [
    "from tensorflow.compat.v1 import ConfigProto\n",
    "from tensorflow.compat.v1 import InteractiveSession"
   ]
  },
  {
   "cell_type": "code",
   "execution_count": 3,
   "id": "25c4acdb",
   "metadata": {},
   "outputs": [],
   "source": [
    "config = ConfigProto()\n",
    "config.gpu_options.per_process_gpu_memory_fraction = 0.4\n",
    "session = InteractiveSession(config = config)"
   ]
  },
  {
   "cell_type": "code",
   "execution_count": 4,
   "id": "7f5f8e0a",
   "metadata": {},
   "outputs": [
    {
     "name": "stdout",
     "output_type": "stream",
     "text": [
      "[name: \"/device:CPU:0\"\n",
      "device_type: \"CPU\"\n",
      "memory_limit: 268435456\n",
      "locality {\n",
      "}\n",
      "incarnation: 9044125416373000940\n",
      ", name: \"/device:GPU:0\"\n",
      "device_type: \"GPU\"\n",
      "memory_limit: 3435973836\n",
      "locality {\n",
      "  bus_id: 1\n",
      "  links {\n",
      "  }\n",
      "}\n",
      "incarnation: 177141232924792071\n",
      "physical_device_desc: \"device: 0, name: NVIDIA GeForce RTX 3060 Ti, pci bus id: 0000:07:00.0, compute capability: 8.6\"\n",
      "]\n"
     ]
    }
   ],
   "source": [
    "physical_devices = tf.config.list_physical_devices('GPU')\n",
    "physical_devices\n",
    "\n",
    "from tensorflow.python.client import device_lib\n",
    "\n",
    "print(device_lib.list_local_devices())"
   ]
  },
  {
   "cell_type": "code",
   "execution_count": 5,
   "id": "1de68242",
   "metadata": {},
   "outputs": [],
   "source": [
    "import os\n",
    "\n",
    "os.environ[\"CUDA_VISIBLE_DEVICES\"]=\"0\"\n",
    "gpus = tf.config.experimental.list_physical_devices('GPU')\n",
    "if gpus:\n",
    "    try:\n",
    "        tf.config.experimental.set_memory_growth(gpus[0], True)\n",
    "    except RuntimeError as e:\n",
    "        print(e)"
   ]
  },
  {
   "attachments": {},
   "cell_type": "markdown",
   "id": "cb740f81",
   "metadata": {},
   "source": [
    "#### Data import and preprocessing"
   ]
  },
  {
   "cell_type": "code",
   "execution_count": 6,
   "id": "9288345d",
   "metadata": {
    "scrolled": true
   },
   "outputs": [
    {
     "data": {
      "text/plain": [
       "Index(['OBJECTID_x', 'ID', 'pH', 'As', 'Cd', 'Ni', 'Pb', 'Zn', 'Hg', 'slope',\n",
       "       'altitude', 'profile_curve', 'profile_c_num', 'profile_c_abs',\n",
       "       'planform_curve', 'planform_c_num', 'planform_c_abs', 'HYDGRP',\n",
       "       'HYDGRP_A', 'HYDGRP_B', 'HYDGRP_C', 'HYDGRP_D', 'ANION_EXCL', 'SOL_CRK',\n",
       "       'SOL_K1', 'CLAY1', 'SILT1', 'SAND1', 'ROCK1', 'SOL_EC1', 'distance'],\n",
       "      dtype='object')"
      ]
     },
     "execution_count": 6,
     "metadata": {},
     "output_type": "execute_result"
    }
   ],
   "source": [
    "data = pd.read_csv(\"data/data_gg.csv\")\n",
    "data.columns"
   ]
  },
  {
   "cell_type": "code",
   "execution_count": 7,
   "id": "bbf87a23",
   "metadata": {},
   "outputs": [
    {
     "data": {
      "text/plain": [
       "Index(['pH', 'As', 'Cd', 'Ni', 'Pb', 'Zn', 'Hg', 'slope', 'altitude',\n",
       "       'profile_curve', 'planform_curve', 'HYDGRP_A', 'HYDGRP_B', 'HYDGRP_C',\n",
       "       'HYDGRP_D', 'SOL_K1', 'CLAY1', 'SILT1', 'SAND1', 'ROCK1', 'distance'],\n",
       "      dtype='object')"
      ]
     },
     "execution_count": 7,
     "metadata": {},
     "output_type": "execute_result"
    }
   ],
   "source": [
    "data = data.drop(['OBJECTID_x','ID','HYDGRP','profile_c_num', 'profile_c_abs','planform_c_num', 'planform_c_abs','ANION_EXCL','SOL_CRK','SOL_EC1'], axis = 1)\n",
    "data.columns"
   ]
  },
  {
   "cell_type": "code",
   "execution_count": 8,
   "id": "eda19bb6",
   "metadata": {},
   "outputs": [],
   "source": [
    "As = data\n",
    "Cd = data\n",
    "Ni = data"
   ]
  },
  {
   "cell_type": "code",
   "execution_count": 9,
   "id": "c3c7d06a",
   "metadata": {},
   "outputs": [],
   "source": [
    "As = As.drop([\"Cd\", \"Ni\", \"Pb\", \"Zn\", \"Hg\"], axis = 1)\n",
    "Cd = Cd.drop([\"As\", \"Ni\", \"Pb\", \"Zn\", \"Hg\"], axis = 1)\n",
    "Ni = Ni.drop([\"As\", \"Cd\", \"Pb\", \"Zn\", \"Hg\"], axis = 1)"
   ]
  },
  {
   "cell_type": "code",
   "execution_count": 10,
   "id": "67d23d19",
   "metadata": {},
   "outputs": [
    {
     "name": "stdout",
     "output_type": "stream",
     "text": [
      "(781, 16)\n",
      "(781, 16)\n",
      "(781, 16)\n"
     ]
    }
   ],
   "source": [
    "print(As.shape)\n",
    "print(Cd.shape)\n",
    "print(Ni.shape)"
   ]
  },
  {
   "cell_type": "markdown",
   "id": "a5e7de7c",
   "metadata": {},
   "source": [
    "#### Oversampling by SMOGN (SMOTE Regression)"
   ]
  },
  {
   "cell_type": "code",
   "execution_count": 11,
   "id": "07928600",
   "metadata": {},
   "outputs": [],
   "source": [
    "import smogn"
   ]
  },
  {
   "cell_type": "code",
   "execution_count": 12,
   "id": "944a8180",
   "metadata": {},
   "outputs": [
    {
     "name": "stderr",
     "output_type": "stream",
     "text": [
      "dist_matrix:   1%|1         | 2/148 [00:00<00:08, 17.39it/s]"
     ]
    },
    {
     "name": "stderr",
     "output_type": "stream",
     "text": [
      "dist_matrix: 100%|##########| 148/148 [00:08<00:00, 17.49it/s]\n",
      "synth_matrix: 100%|##########| 148/148 [00:00<00:00, 177.63it/s]\n",
      "r_index: 100%|##########| 44/44 [00:00<00:00, 549.88it/s]\n",
      "dist_matrix: 100%|##########| 88/88 [00:03<00:00, 27.72it/s]\n",
      "synth_matrix: 100%|##########| 88/88 [00:00<00:00, 94.91it/s]\n",
      "r_index: 100%|##########| 79/79 [00:00<00:00, 523.06it/s]\n",
      "dist_matrix: 100%|##########| 115/115 [00:05<00:00, 21.25it/s]\n",
      "synth_matrix: 100%|##########| 115/115 [00:00<00:00, 121.41it/s]\n",
      "r_index: 100%|##########| 91/91 [00:00<00:00, 476.33it/s]\n"
     ]
    }
   ],
   "source": [
    "As_smogn = smogn.smoter(data = As, y = 'As', samp_method = 'extreme')\n",
    "Cd_smogn = smogn.smoter(data = Cd, y = 'Cd', samp_method = 'extreme')\n",
    "Ni_smogn = smogn.smoter(data = Ni, y = 'Ni', samp_method = 'extreme')"
   ]
  },
  {
   "cell_type": "code",
   "execution_count": 13,
   "id": "3d5966fa",
   "metadata": {},
   "outputs": [
    {
     "name": "stdout",
     "output_type": "stream",
     "text": [
      "(1143, 16)\n",
      "(1319, 16)\n",
      "(1199, 16)\n"
     ]
    }
   ],
   "source": [
    "print(As_smogn.shape)\n",
    "print(Cd_smogn.shape)\n",
    "print(Ni_smogn.shape)"
   ]
  },
  {
   "attachments": {},
   "cell_type": "markdown",
   "id": "ed72a9b1",
   "metadata": {},
   "source": [
    "#### Eliminate outlier and train / test split"
   ]
  },
  {
   "cell_type": "code",
   "execution_count": 14,
   "id": "43604a42",
   "metadata": {},
   "outputs": [],
   "source": [
    "def eli_outlier(data, value):\n",
    "    q1 = data[value].quantile(0.25)\n",
    "    q3 = data[value].quantile(0.75)\n",
    "\n",
    "    iqr = q3 - q1\n",
    "\n",
    "    q1_condition = data[value] < q1-1.5*iqr\n",
    "    q3_condition = data[value] > q3+1.5*iqr\n",
    "\n",
    "    reset_q1_index = data[q1_condition].index\n",
    "    reset_q3_index = data[q3_condition].index\n",
    "\n",
    "    data.drop(reset_q1_index, inplace = True)\n",
    "    data.drop(reset_q3_index, inplace = True)\n",
    "\n",
    "    return data"
   ]
  },
  {
   "cell_type": "code",
   "execution_count": 15,
   "id": "9b7632f2",
   "metadata": {},
   "outputs": [],
   "source": [
    "As_ros = eli_outlier(As_smogn, \"As\")\n",
    "Cd_ros = eli_outlier(Cd_smogn, \"Cd\")\n",
    "Ni_ros = eli_outlier(Ni_smogn, \"Ni\")"
   ]
  },
  {
   "cell_type": "code",
   "execution_count": 16,
   "id": "fd2813d1",
   "metadata": {},
   "outputs": [],
   "source": [
    "As_X = As_ros.drop([\"As\"], axis=1)\n",
    "Cd_X = Cd_ros.drop([\"Cd\"], axis=1)\n",
    "Ni_X = Ni_ros.drop([\"Ni\"], axis=1)\n",
    "\n",
    "As_y = As_ros[\"As\"]\n",
    "Cd_y = Cd_ros[\"Cd\"]\n",
    "Ni_y = Ni_ros[\"Ni\"]"
   ]
  },
  {
   "cell_type": "code",
   "execution_count": 17,
   "id": "3d1db064",
   "metadata": {},
   "outputs": [],
   "source": [
    "As_y = np.log1p(As_ros[\"As\"])\n",
    "Cd_y = np.log1p(Cd_ros[\"Cd\"])\n",
    "Ni_y = np.log1p(Ni_ros[\"Ni\"])"
   ]
  },
  {
   "cell_type": "code",
   "execution_count": 18,
   "id": "e6b5aab4",
   "metadata": {},
   "outputs": [
    {
     "name": "stdout",
     "output_type": "stream",
     "text": [
      "(869, 15)\n",
      "(1221, 15)\n",
      "(1098, 15)\n"
     ]
    }
   ],
   "source": [
    "print(As_X.shape)\n",
    "print(Cd_X.shape)\n",
    "print(Ni_X.shape)"
   ]
  },
  {
   "attachments": {},
   "cell_type": "markdown",
   "id": "c92e5bb6",
   "metadata": {},
   "source": [
    "StandardScaler"
   ]
  },
  {
   "cell_type": "code",
   "execution_count": null,
   "id": "faf2473d",
   "metadata": {},
   "outputs": [],
   "source": [
    "from sklearn.preprocessing import StandardScaler\n",
    "\n",
    "scaler = StandardScaler()\n",
    "\n",
    "As_X_train, As_X_test, As_y_train, As_y_test = train_test_split(As_X, As_y, test_size=0.2, random_state=42)\n",
    "Cd_X_train, Cd_X_test, Cd_y_train, Cd_y_test = train_test_split(Cd_X, Cd_y, test_size=0.2, random_state=42)\n",
    "Ni_X_train, Ni_X_test, Ni_y_train, Ni_y_test = train_test_split(Ni_X, Ni_y, test_size=0.2, random_state=42)\n",
    "\n",
    "As_X_train = scaler.fit_transform(As_X_train)\n",
    "As_X_test = scaler.fit_transform(As_X_test)\n",
    "\n",
    "Cd_X_train = scaler.fit_transform(Cd_X_train)\n",
    "Cd_X_test = scaler.fit_transform(Cd_X_test)\n",
    "\n",
    "Ni_X_train = scaler.fit_transform(Ni_X_train)\n",
    "Ni_X_test = scaler.fit_transform(Ni_X_test)"
   ]
  },
  {
   "cell_type": "code",
   "execution_count": 19,
   "id": "416a7027",
   "metadata": {},
   "outputs": [],
   "source": [
    "''' from sklearn.preprocessing import StandardScaler\n",
    "\n",
    "scaler = StandardScaler()\n",
    "As_X_scaled = scaler.fit_transform(As_X)\n",
    "Cd_X_scaled = scaler.fit_transform(Cd_X)\n",
    "Ni_X_scaled = scaler.fit_transform(Ni_X)\n",
    "\n",
    "As_X_train, As_X_test, As_y_train, As_y_test = train_test_split(As_X_scaled, As_y, test_size=0.2, random_state=42)\n",
    "Cd_X_train, Cd_X_test, Cd_y_train, Cd_y_test = train_test_split(Cd_X_scaled, Cd_y, test_size=0.2, random_state=42)\n",
    "Ni_X_train, Ni_X_test, Ni_y_train, Ni_y_test = train_test_split(Ni_X_scaled, Ni_y, test_size=0.2, random_state=42) '''"
   ]
  },
  {
   "attachments": {},
   "cell_type": "markdown",
   "id": "2fe0d293",
   "metadata": {},
   "source": [
    "MinMaxScaler"
   ]
  },
  {
   "cell_type": "code",
   "execution_count": 20,
   "id": "e8596f9f",
   "metadata": {},
   "outputs": [],
   "source": [
    "# from sklearn.preprocessing import MinMaxScaler\n",
    "\n",
    "# scaler = MinMaxScaler()\n",
    "# As_X_scaled = scaler.fit_transform(As_X)\n",
    "# Cd_X_scaled = scaler.fit_transform(Cd_X)\n",
    "# Ni_X_scaled = scaler.fit_transform(Ni_X)\n",
    "\n",
    "# As_X_train, As_X_test, As_y_train, As_y_test = train_test_split(As_X_scaled, As_y, test_size=0.2, random_state=42)\n",
    "# Cd_X_train, Cd_X_test, Cd_y_train, Cd_y_test = train_test_split(Cd_X_scaled, Cd_y, test_size=0.2, random_state=42)\n",
    "# Ni_X_train, Ni_X_test, Ni_y_train, Ni_y_test = train_test_split(Ni_X_scaled, Ni_y, test_size=0.2, random_state=42)"
   ]
  },
  {
   "cell_type": "code",
   "execution_count": 21,
   "id": "c6cad4b1",
   "metadata": {},
   "outputs": [
    {
     "name": "stdout",
     "output_type": "stream",
     "text": [
      "(695, 15)\n",
      "(976, 15)\n",
      "(878, 15)\n"
     ]
    }
   ],
   "source": [
    "print(As_X_train.shape)\n",
    "print(Cd_X_train.shape)\n",
    "print(Ni_X_train.shape)"
   ]
  },
  {
   "attachments": {},
   "cell_type": "markdown",
   "id": "bd11b27e",
   "metadata": {},
   "source": [
    "#### 10-Fold Crossvalidation"
   ]
  },
  {
   "cell_type": "code",
   "execution_count": 22,
   "id": "7a765916",
   "metadata": {},
   "outputs": [],
   "source": [
    "kf = KFold(n_splits = 5, random_state = 42, shuffle = True)"
   ]
  },
  {
   "attachments": {},
   "cell_type": "markdown",
   "id": "859638d0",
   "metadata": {},
   "source": [
    "#### Optuna Optimization"
   ]
  },
  {
   "cell_type": "code",
   "execution_count": 23,
   "id": "92a47d83",
   "metadata": {},
   "outputs": [],
   "source": [
    "import optuna\n",
    "\n",
    "from optuna import Trial\n",
    "from optuna.samplers import TPESampler"
   ]
  },
  {
   "cell_type": "code",
   "execution_count": 24,
   "id": "a7669fea",
   "metadata": {},
   "outputs": [],
   "source": [
    "from sklearn.model_selection import cross_val_score\n",
    "\n",
    "def objectiveGB(trial: Trial, X_train, y_train) -> float:\n",
    "    gb_paramas = {\n",
    "        \"random_state\": 42,\n",
    "        \"learning_rate\": 0.1,\n",
    "        \"n_estimators\": trial.suggest_int(\"n_estimators\", 100, 200),\n",
    "        \"max_depth\": trial.suggest_int(\"max_depth\", 1, 30),\n",
    "        \"min_samples_leaf\": trial.suggest_int(\"min_samples_leaf\", 1, 10),\n",
    "        \"min_samples_split\": trial.suggest_int(\"min_samples_split\", 2, 10),\n",
    "        \"subsample\": trial.suggest_float(\"subsample\", 0.1, 0.5)\n",
    "    }\n",
    "    \n",
    "    gb = GradientBoostingRegressor(**gb_paramas)\n",
    "    r2 = cross_val_score(gb, X_train, y_train, scoring = \"r2\", cv = kf)\n",
    "    r2 = r2.mean()\n",
    "    \n",
    "    return r2"
   ]
  },
  {
   "attachments": {},
   "cell_type": "markdown",
   "id": "b0988f46",
   "metadata": {},
   "source": [
    "####  Optimization"
   ]
  },
  {
   "cell_type": "code",
   "execution_count": 25,
   "id": "94f5e00d",
   "metadata": {
    "scrolled": false
   },
   "outputs": [
    {
     "name": "stderr",
     "output_type": "stream",
     "text": [
      "\u001b[32m[I 2023-08-17 22:14:26,039]\u001b[0m A new study created in memory with name: gb_parameter_opt\u001b[0m\n",
      "\u001b[32m[I 2023-08-17 22:14:26,532]\u001b[0m Trial 0 finished with value: 0.3130793856389086 and parameters: {'n_estimators': 198, 'max_depth': 11, 'min_samples_leaf': 1, 'min_samples_split': 4, 'subsample': 0.10235248038612035}. Best is trial 0 with value: 0.3130793856389086.\u001b[0m\n",
      "\u001b[32m[I 2023-08-17 22:14:27,499]\u001b[0m Trial 1 finished with value: 0.48179919241799396 and parameters: {'n_estimators': 128, 'max_depth': 24, 'min_samples_leaf': 3, 'min_samples_split': 4, 'subsample': 0.4514862061688566}. Best is trial 1 with value: 0.48179919241799396.\u001b[0m\n",
      "\u001b[32m[I 2023-08-17 22:14:27,761]\u001b[0m Trial 2 finished with value: 0.43782353462605245 and parameters: {'n_estimators': 118, 'max_depth': 30, 'min_samples_leaf': 3, 'min_samples_split': 10, 'subsample': 0.13638140982253597}. Best is trial 1 with value: 0.48179919241799396.\u001b[0m\n",
      "\u001b[32m[I 2023-08-17 22:14:28,482]\u001b[0m Trial 3 finished with value: 0.4134892356612682 and parameters: {'n_estimators': 183, 'max_depth': 17, 'min_samples_leaf': 1, 'min_samples_split': 10, 'subsample': 0.2134252903051253}. Best is trial 1 with value: 0.48179919241799396.\u001b[0m\n",
      "\u001b[32m[I 2023-08-17 22:14:28,981]\u001b[0m Trial 4 finished with value: 0.4783406960013662 and parameters: {'n_estimators': 183, 'max_depth': 2, 'min_samples_leaf': 6, 'min_samples_split': 10, 'subsample': 0.47218919560764583}. Best is trial 1 with value: 0.48179919241799396.\u001b[0m\n",
      "\u001b[32m[I 2023-08-17 22:14:29,980]\u001b[0m Trial 5 finished with value: 0.48845331681602266 and parameters: {'n_estimators': 135, 'max_depth': 16, 'min_samples_leaf': 3, 'min_samples_split': 7, 'subsample': 0.471611776650944}. Best is trial 5 with value: 0.48845331681602266.\u001b[0m\n",
      "\u001b[32m[I 2023-08-17 22:14:30,965]\u001b[0m Trial 6 finished with value: 0.45387822500494146 and parameters: {'n_estimators': 192, 'max_depth': 22, 'min_samples_leaf': 5, 'min_samples_split': 5, 'subsample': 0.39042624072648313}. Best is trial 5 with value: 0.48845331681602266.\u001b[0m\n",
      "\u001b[32m[I 2023-08-17 22:14:31,473]\u001b[0m Trial 7 finished with value: 0.49525846170470283 and parameters: {'n_estimators': 107, 'max_depth': 13, 'min_samples_leaf': 8, 'min_samples_split': 6, 'subsample': 0.42757682399423314}. Best is trial 7 with value: 0.49525846170470283.\u001b[0m\n",
      "\u001b[32m[I 2023-08-17 22:14:31,977]\u001b[0m Trial 8 finished with value: 0.4973538257111885 and parameters: {'n_estimators': 131, 'max_depth': 26, 'min_samples_leaf': 8, 'min_samples_split': 4, 'subsample': 0.3482210534611051}. Best is trial 8 with value: 0.4973538257111885.\u001b[0m\n",
      "\u001b[32m[I 2023-08-17 22:14:32,716]\u001b[0m Trial 9 finished with value: 0.48074607294648564 and parameters: {'n_estimators': 189, 'max_depth': 10, 'min_samples_leaf': 7, 'min_samples_split': 7, 'subsample': 0.33708827393673074}. Best is trial 8 with value: 0.4973538257111885.\u001b[0m\n",
      "\u001b[32m[I 2023-08-17 22:14:33,185]\u001b[0m Trial 10 finished with value: 0.4717706050823354 and parameters: {'n_estimators': 162, 'max_depth': 30, 'min_samples_leaf': 10, 'min_samples_split': 2, 'subsample': 0.26480062721444525}. Best is trial 8 with value: 0.4973538257111885.\u001b[0m\n",
      "\u001b[32m[I 2023-08-17 22:14:33,567]\u001b[0m Trial 11 finished with value: 0.48976972285758646 and parameters: {'n_estimators': 100, 'max_depth': 8, 'min_samples_leaf': 9, 'min_samples_split': 2, 'subsample': 0.3613654996689528}. Best is trial 8 with value: 0.4973538257111885.\u001b[0m\n",
      "\u001b[32m[I 2023-08-17 22:14:34,033]\u001b[0m Trial 12 finished with value: 0.4994751652533763 and parameters: {'n_estimators': 102, 'max_depth': 21, 'min_samples_leaf': 8, 'min_samples_split': 6, 'subsample': 0.4080829764996804}. Best is trial 12 with value: 0.4994751652533763.\u001b[0m\n",
      "\u001b[32m[I 2023-08-17 22:14:34,543]\u001b[0m Trial 13 finished with value: 0.47727441692463024 and parameters: {'n_estimators': 148, 'max_depth': 23, 'min_samples_leaf': 8, 'min_samples_split': 8, 'subsample': 0.2911355996502235}. Best is trial 12 with value: 0.4994751652533763.\u001b[0m\n",
      "\u001b[32m[I 2023-08-17 22:14:35,038]\u001b[0m Trial 14 finished with value: 0.48604210954458543 and parameters: {'n_estimators': 118, 'max_depth': 25, 'min_samples_leaf': 10, 'min_samples_split': 4, 'subsample': 0.40101150739865987}. Best is trial 12 with value: 0.4994751652533763.\u001b[0m\n",
      "\u001b[32m[I 2023-08-17 22:14:35,474]\u001b[0m Trial 15 finished with value: 0.43503876808299874 and parameters: {'n_estimators': 147, 'max_depth': 19, 'min_samples_leaf': 6, 'min_samples_split': 3, 'subsample': 0.23448822167918193}. Best is trial 12 with value: 0.4994751652533763.\u001b[0m\n",
      "\u001b[32m[I 2023-08-17 22:14:35,960]\u001b[0m Trial 16 finished with value: 0.47729258579143885 and parameters: {'n_estimators': 133, 'max_depth': 27, 'min_samples_leaf': 8, 'min_samples_split': 6, 'subsample': 0.3281206140188371}. Best is trial 12 with value: 0.4994751652533763.\u001b[0m\n",
      "\u001b[32m[I 2023-08-17 22:14:36,750]\u001b[0m Trial 17 finished with value: 0.4758487506920989 and parameters: {'n_estimators': 162, 'max_depth': 19, 'min_samples_leaf': 5, 'min_samples_split': 8, 'subsample': 0.3782602139990848}. Best is trial 12 with value: 0.4994751652533763.\u001b[0m\n",
      "\u001b[32m[I 2023-08-17 22:14:37,162]\u001b[0m Trial 18 finished with value: 0.4831029439414053 and parameters: {'n_estimators': 115, 'max_depth': 20, 'min_samples_leaf': 7, 'min_samples_split': 5, 'subsample': 0.3031192415532083}. Best is trial 12 with value: 0.4994751652533763.\u001b[0m\n",
      "\u001b[32m[I 2023-08-17 22:14:37,622]\u001b[0m Trial 19 finished with value: 0.4885242210360589 and parameters: {'n_estimators': 100, 'max_depth': 26, 'min_samples_leaf': 9, 'min_samples_split': 3, 'subsample': 0.43298648299667686}. Best is trial 12 with value: 0.4994751652533763.\u001b[0m\n",
      "\u001b[32m[I 2023-08-17 22:14:38,257]\u001b[0m Trial 20 finished with value: 0.4845772436169174 and parameters: {'n_estimators': 159, 'max_depth': 28, 'min_samples_leaf': 7, 'min_samples_split': 5, 'subsample': 0.34547814841552676}. Best is trial 12 with value: 0.4994751652533763.\u001b[0m\n",
      "\u001b[32m[I 2023-08-17 22:14:38,773]\u001b[0m Trial 21 finished with value: 0.496983493899186 and parameters: {'n_estimators': 108, 'max_depth': 13, 'min_samples_leaf': 8, 'min_samples_split': 6, 'subsample': 0.4235222769255183}. Best is trial 12 with value: 0.4994751652533763.\u001b[0m\n",
      "\u001b[32m[I 2023-08-17 22:14:39,292]\u001b[0m Trial 22 finished with value: 0.49851325940385083 and parameters: {'n_estimators': 112, 'max_depth': 6, 'min_samples_leaf': 9, 'min_samples_split': 7, 'subsample': 0.4916669511539241}. Best is trial 12 with value: 0.4994751652533763.\u001b[0m\n",
      "\u001b[32m[I 2023-08-17 22:14:39,641]\u001b[0m Trial 23 finished with value: 0.4624904661502251 and parameters: {'n_estimators': 123, 'max_depth': 2, 'min_samples_leaf': 9, 'min_samples_split': 8, 'subsample': 0.49767551577851593}. Best is trial 12 with value: 0.4994751652533763.\u001b[0m\n",
      "\u001b[32m[I 2023-08-17 22:14:40,242]\u001b[0m Trial 24 finished with value: 0.48646432021796554 and parameters: {'n_estimators': 138, 'max_depth': 6, 'min_samples_leaf': 10, 'min_samples_split': 7, 'subsample': 0.4830562616805201}. Best is trial 12 with value: 0.4994751652533763.\u001b[0m\n",
      "\u001b[32m[I 2023-08-17 22:14:40,728]\u001b[0m Trial 25 finished with value: 0.49410063217262257 and parameters: {'n_estimators': 111, 'max_depth': 21, 'min_samples_leaf': 9, 'min_samples_split': 9, 'subsample': 0.40764091729346585}. Best is trial 12 with value: 0.4994751652533763.\u001b[0m\n",
      "\u001b[32m[I 2023-08-17 22:14:41,232]\u001b[0m Trial 26 finished with value: 0.5034591176569477 and parameters: {'n_estimators': 125, 'max_depth': 4, 'min_samples_leaf': 6, 'min_samples_split': 6, 'subsample': 0.4520856830804981}. Best is trial 26 with value: 0.5034591176569477.\u001b[0m\n",
      "\u001b[32m[I 2023-08-17 22:14:41,775]\u001b[0m Trial 27 finished with value: 0.4833907694494329 and parameters: {'n_estimators': 124, 'max_depth': 6, 'min_samples_leaf': 6, 'min_samples_split': 6, 'subsample': 0.4375656371269379}. Best is trial 26 with value: 0.5034591176569477.\u001b[0m\n",
      "\u001b[32m[I 2023-08-17 22:14:42,441]\u001b[0m Trial 28 finished with value: 0.4889074154723193 and parameters: {'n_estimators': 140, 'max_depth': 5, 'min_samples_leaf': 4, 'min_samples_split': 7, 'subsample': 0.45786493203346784}. Best is trial 26 with value: 0.5034591176569477.\u001b[0m\n",
      "\u001b[32m[I 2023-08-17 22:14:42,906]\u001b[0m Trial 29 finished with value: 0.4942304309081047 and parameters: {'n_estimators': 104, 'max_depth': 4, 'min_samples_leaf': 7, 'min_samples_split': 5, 'subsample': 0.49892552403070617}. Best is trial 26 with value: 0.5034591176569477.\u001b[0m\n",
      "\u001b[32m[I 2023-08-17 22:14:43,163]\u001b[0m Trial 30 finished with value: 0.443865446895355 and parameters: {'n_estimators': 113, 'max_depth': 11, 'min_samples_leaf': 5, 'min_samples_split': 9, 'subsample': 0.12183869036482678}. Best is trial 26 with value: 0.5034591176569477.\u001b[0m\n",
      "\u001b[32m[I 2023-08-17 22:14:43,688]\u001b[0m Trial 31 finished with value: 0.49185225601519383 and parameters: {'n_estimators': 125, 'max_depth': 8, 'min_samples_leaf': 8, 'min_samples_split': 4, 'subsample': 0.3698914867217931}. Best is trial 26 with value: 0.5034591176569477.\u001b[0m\n",
      "\u001b[32m[I 2023-08-17 22:14:43,974]\u001b[0m Trial 32 finished with value: 0.3815394173491256 and parameters: {'n_estimators': 131, 'max_depth': 1, 'min_samples_leaf': 9, 'min_samples_split': 3, 'subsample': 0.4598818992043699}. Best is trial 26 with value: 0.5034591176569477.\u001b[0m\n",
      "\u001b[32m[I 2023-08-17 22:14:44,632]\u001b[0m Trial 33 finished with value: 0.4918215331029899 and parameters: {'n_estimators': 114, 'max_depth': 24, 'min_samples_leaf': 7, 'min_samples_split': 5, 'subsample': 0.40679025652210676}. Best is trial 26 with value: 0.5034591176569477.\u001b[0m\n",
      "\u001b[32m[I 2023-08-17 22:14:45,109]\u001b[0m Trial 34 finished with value: 0.46999007025971673 and parameters: {'n_estimators': 121, 'max_depth': 4, 'min_samples_leaf': 1, 'min_samples_split': 6, 'subsample': 0.45046974343029095}. Best is trial 26 with value: 0.5034591176569477.\u001b[0m\n",
      "\u001b[32m[I 2023-08-17 22:14:45,427]\u001b[0m Trial 35 finished with value: 0.44583209065002843 and parameters: {'n_estimators': 128, 'max_depth': 18, 'min_samples_leaf': 6, 'min_samples_split': 7, 'subsample': 0.17920739730469215}. Best is trial 26 with value: 0.5034591176569477.\u001b[0m\n",
      "\u001b[32m[I 2023-08-17 22:14:46,207]\u001b[0m Trial 36 finished with value: 0.45741469324243617 and parameters: {'n_estimators': 143, 'max_depth': 15, 'min_samples_leaf': 4, 'min_samples_split': 4, 'subsample': 0.3572623539598785}. Best is trial 26 with value: 0.5034591176569477.\u001b[0m\n",
      "\u001b[32m[I 2023-08-17 22:14:46,739]\u001b[0m Trial 37 finished with value: 0.4791516472662389 and parameters: {'n_estimators': 154, 'max_depth': 28, 'min_samples_leaf': 10, 'min_samples_split': 9, 'subsample': 0.31114026649651483}. Best is trial 26 with value: 0.5034591176569477.\u001b[0m\n",
      "\u001b[32m[I 2023-08-17 22:14:47,237]\u001b[0m Trial 38 finished with value: 0.49225896964260585 and parameters: {'n_estimators': 106, 'max_depth': 22, 'min_samples_leaf': 8, 'min_samples_split': 8, 'subsample': 0.38304777924370903}. Best is trial 26 with value: 0.5034591176569477.\u001b[0m\n",
      "\u001b[32m[I 2023-08-17 22:14:48,123]\u001b[0m Trial 39 finished with value: 0.48429905436793746 and parameters: {'n_estimators': 169, 'max_depth': 8, 'min_samples_leaf': 9, 'min_samples_split': 6, 'subsample': 0.47629642232503644}. Best is trial 26 with value: 0.5034591176569477.\u001b[0m\n",
      "\u001b[32m[I 2023-08-17 22:14:48,879]\u001b[0m Trial 40 finished with value: 0.5113318696963327 and parameters: {'n_estimators': 118, 'max_depth': 13, 'min_samples_leaf': 2, 'min_samples_split': 7, 'subsample': 0.41679731186420316}. Best is trial 40 with value: 0.5113318696963327.\u001b[0m\n",
      "\u001b[32m[I 2023-08-17 22:14:49,712]\u001b[0m Trial 41 finished with value: 0.48085736194703904 and parameters: {'n_estimators': 119, 'max_depth': 14, 'min_samples_leaf': 2, 'min_samples_split': 7, 'subsample': 0.4395440554454717}. Best is trial 40 with value: 0.5113318696963327.\u001b[0m\n",
      "\u001b[32m[I 2023-08-17 22:14:50,337]\u001b[0m Trial 42 finished with value: 0.497808081006297 and parameters: {'n_estimators': 111, 'max_depth': 12, 'min_samples_leaf': 4, 'min_samples_split': 7, 'subsample': 0.41697220786895817}. Best is trial 40 with value: 0.5113318696963327.\u001b[0m\n",
      "\u001b[32m[I 2023-08-17 22:14:51,050]\u001b[0m Trial 43 finished with value: 0.4652650945495417 and parameters: {'n_estimators': 110, 'max_depth': 10, 'min_samples_leaf': 2, 'min_samples_split': 7, 'subsample': 0.41117607283209123}. Best is trial 40 with value: 0.5113318696963327.\u001b[0m\n",
      "\u001b[32m[I 2023-08-17 22:14:51,721]\u001b[0m Trial 44 finished with value: 0.47604010312065387 and parameters: {'n_estimators': 104, 'max_depth': 12, 'min_samples_leaf': 4, 'min_samples_split': 6, 'subsample': 0.4640994403031997}. Best is trial 40 with value: 0.5113318696963327.\u001b[0m\n",
      "\u001b[32m[I 2023-08-17 22:14:52,459]\u001b[0m Trial 45 finished with value: 0.4954678412811401 and parameters: {'n_estimators': 116, 'max_depth': 17, 'min_samples_leaf': 3, 'min_samples_split': 8, 'subsample': 0.41921640347769673}. Best is trial 40 with value: 0.5113318696963327.\u001b[0m\n",
      "\u001b[32m[I 2023-08-17 22:14:52,992]\u001b[0m Trial 46 finished with value: 0.46643283889671644 and parameters: {'n_estimators': 103, 'max_depth': 9, 'min_samples_leaf': 3, 'min_samples_split': 7, 'subsample': 0.39036893099488307}. Best is trial 40 with value: 0.5113318696963327.\u001b[0m\n",
      "\u001b[32m[I 2023-08-17 22:14:53,802]\u001b[0m Trial 47 finished with value: 0.4786922355114468 and parameters: {'n_estimators': 110, 'max_depth': 16, 'min_samples_leaf': 2, 'min_samples_split': 7, 'subsample': 0.4457268349932397}. Best is trial 40 with value: 0.5113318696963327.\u001b[0m\n",
      "\u001b[32m[I 2023-08-17 22:14:54,488]\u001b[0m Trial 48 finished with value: 0.4905667734113403 and parameters: {'n_estimators': 200, 'max_depth': 3, 'min_samples_leaf': 1, 'min_samples_split': 6, 'subsample': 0.4815346446066077}. Best is trial 40 with value: 0.5113318696963327.\u001b[0m\n",
      "\u001b[32m[I 2023-08-17 22:14:55,158]\u001b[0m Trial 49 finished with value: 0.4581547847636681 and parameters: {'n_estimators': 119, 'max_depth': 12, 'min_samples_leaf': 4, 'min_samples_split': 8, 'subsample': 0.3900083075625135}. Best is trial 40 with value: 0.5113318696963327.\u001b[0m\n",
      "\u001b[32m[I 2023-08-17 22:14:55,523]\u001b[0m Trial 50 finished with value: 0.45102972334495905 and parameters: {'n_estimators': 101, 'max_depth': 7, 'min_samples_leaf': 5, 'min_samples_split': 5, 'subsample': 0.2719160594812328}. Best is trial 40 with value: 0.5113318696963327.\u001b[0m\n",
      "\u001b[32m[I 2023-08-17 22:14:56,032]\u001b[0m Trial 51 finished with value: 0.4695044820764377 and parameters: {'n_estimators': 128, 'max_depth': 14, 'min_samples_leaf': 7, 'min_samples_split': 7, 'subsample': 0.3217490340917662}. Best is trial 40 with value: 0.5113318696963327.\u001b[0m\n",
      "\u001b[32m[I 2023-08-17 22:14:56,632]\u001b[0m Trial 52 finished with value: 0.4886043221042085 and parameters: {'n_estimators': 130, 'max_depth': 24, 'min_samples_leaf': 6, 'min_samples_split': 4, 'subsample': 0.34644753094305575}. Best is trial 40 with value: 0.5113318696963327.\u001b[0m\n",
      "\u001b[32m[I 2023-08-17 22:14:57,216]\u001b[0m Trial 53 finished with value: 0.49174030225877774 and parameters: {'n_estimators': 136, 'max_depth': 10, 'min_samples_leaf': 8, 'min_samples_split': 6, 'subsample': 0.3669163129424219}. Best is trial 40 with value: 0.5113318696963327.\u001b[0m\n",
      "\u001b[32m[I 2023-08-17 22:14:57,793]\u001b[0m Trial 54 finished with value: 0.4952258709036042 and parameters: {'n_estimators': 114, 'max_depth': 29, 'min_samples_leaf': 9, 'min_samples_split': 2, 'subsample': 0.42778834604917615}. Best is trial 40 with value: 0.5113318696963327.\u001b[0m\n",
      "\u001b[32m[I 2023-08-17 22:14:58,300]\u001b[0m Trial 55 finished with value: 0.4852701173277202 and parameters: {'n_estimators': 107, 'max_depth': 26, 'min_samples_leaf': 8, 'min_samples_split': 6, 'subsample': 0.3987831647434538}. Best is trial 40 with value: 0.5113318696963327.\u001b[0m\n",
      "\u001b[32m[I 2023-08-17 22:14:59,008]\u001b[0m Trial 56 finished with value: 0.5001125181259656 and parameters: {'n_estimators': 122, 'max_depth': 21, 'min_samples_leaf': 5, 'min_samples_split': 3, 'subsample': 0.4195257731421225}. Best is trial 40 with value: 0.5113318696963327.\u001b[0m\n",
      "\u001b[32m[I 2023-08-17 22:14:59,851]\u001b[0m Trial 57 finished with value: 0.48456558967241037 and parameters: {'n_estimators': 121, 'max_depth': 20, 'min_samples_leaf': 5, 'min_samples_split': 3, 'subsample': 0.48987743262211497}. Best is trial 40 with value: 0.5113318696963327.\u001b[0m\n",
      "\u001b[32m[I 2023-08-17 22:15:00,680]\u001b[0m Trial 58 finished with value: 0.4660763288558405 and parameters: {'n_estimators': 117, 'max_depth': 22, 'min_samples_leaf': 4, 'min_samples_split': 8, 'subsample': 0.47216076776192445}. Best is trial 40 with value: 0.5113318696963327.\u001b[0m\n",
      "\u001b[32m[I 2023-08-17 22:15:01,392]\u001b[0m Trial 59 finished with value: 0.5071573556720268 and parameters: {'n_estimators': 125, 'max_depth': 17, 'min_samples_leaf': 6, 'min_samples_split': 7, 'subsample': 0.4197329970231551}. Best is trial 40 with value: 0.5113318696963327.\u001b[0m\n",
      "\u001b[32m[I 2023-08-17 22:15:02,189]\u001b[0m Trial 60 finished with value: 0.47343053035648064 and parameters: {'n_estimators': 126, 'max_depth': 18, 'min_samples_leaf': 6, 'min_samples_split': 10, 'subsample': 0.4508230313413594}. Best is trial 40 with value: 0.5113318696963327.\u001b[0m\n",
      "\u001b[32m[I 2023-08-17 22:15:02,900]\u001b[0m Trial 61 finished with value: 0.4679901795069811 and parameters: {'n_estimators': 112, 'max_depth': 15, 'min_samples_leaf': 5, 'min_samples_split': 7, 'subsample': 0.4227282125475807}. Best is trial 40 with value: 0.5113318696963327.\u001b[0m\n",
      "\u001b[32m[I 2023-08-17 22:15:03,689]\u001b[0m Trial 62 finished with value: 0.5025977695978497 and parameters: {'n_estimators': 122, 'max_depth': 20, 'min_samples_leaf': 6, 'min_samples_split': 7, 'subsample': 0.4381385176656155}. Best is trial 40 with value: 0.5113318696963327.\u001b[0m\n",
      "\u001b[32m[I 2023-08-17 22:15:04,494]\u001b[0m Trial 63 finished with value: 0.4866976385654421 and parameters: {'n_estimators': 122, 'max_depth': 20, 'min_samples_leaf': 6, 'min_samples_split': 5, 'subsample': 0.43685965677068633}. Best is trial 40 with value: 0.5113318696963327.\u001b[0m\n",
      "\u001b[32m[I 2023-08-17 22:15:05,335]\u001b[0m Trial 64 finished with value: 0.48568650480520753 and parameters: {'n_estimators': 134, 'max_depth': 21, 'min_samples_leaf': 7, 'min_samples_split': 8, 'subsample': 0.46750696218959764}. Best is trial 40 with value: 0.5113318696963327.\u001b[0m\n",
      "\u001b[32m[I 2023-08-17 22:15:05,976]\u001b[0m Trial 65 finished with value: 0.47340131707984556 and parameters: {'n_estimators': 126, 'max_depth': 17, 'min_samples_leaf': 7, 'min_samples_split': 9, 'subsample': 0.3997976265720293}. Best is trial 40 with value: 0.5113318696963327.\u001b[0m\n",
      "\u001b[32m[I 2023-08-17 22:15:06,681]\u001b[0m Trial 66 finished with value: 0.4958372683349442 and parameters: {'n_estimators': 117, 'max_depth': 18, 'min_samples_leaf': 6, 'min_samples_split': 8, 'subsample': 0.4514850528129661}. Best is trial 40 with value: 0.5113318696963327.\u001b[0m\n",
      "\u001b[32m[I 2023-08-17 22:15:07,904]\u001b[0m Trial 67 finished with value: 0.5069051535662974 and parameters: {'n_estimators': 141, 'max_depth': 23, 'min_samples_leaf': 3, 'min_samples_split': 6, 'subsample': 0.48962768714856014}. Best is trial 40 with value: 0.5113318696963327.\u001b[0m\n",
      "\u001b[32m[I 2023-08-17 22:15:08,981]\u001b[0m Trial 68 finished with value: 0.48079632362195834 and parameters: {'n_estimators': 142, 'max_depth': 23, 'min_samples_leaf': 3, 'min_samples_split': 6, 'subsample': 0.42771613121791907}. Best is trial 40 with value: 0.5113318696963327.\u001b[0m\n",
      "\u001b[32m[I 2023-08-17 22:15:10,086]\u001b[0m Trial 69 finished with value: 0.47935087654014213 and parameters: {'n_estimators': 145, 'max_depth': 19, 'min_samples_leaf': 2, 'min_samples_split': 5, 'subsample': 0.3731579317601609}. Best is trial 40 with value: 0.5113318696963327.\u001b[0m\n",
      "\u001b[32m[I 2023-08-17 22:15:11,171]\u001b[0m Trial 70 finished with value: 0.4633726819925796 and parameters: {'n_estimators': 137, 'max_depth': 23, 'min_samples_leaf': 5, 'min_samples_split': 6, 'subsample': 0.46026239861837437}. Best is trial 40 with value: 0.5113318696963327.\u001b[0m\n",
      "\u001b[32m[I 2023-08-17 22:15:12,827]\u001b[0m Trial 71 finished with value: 0.4758366615201929 and parameters: {'n_estimators': 153, 'max_depth': 21, 'min_samples_leaf': 1, 'min_samples_split': 7, 'subsample': 0.49548579281592114}. Best is trial 40 with value: 0.5113318696963327.\u001b[0m\n",
      "\u001b[32m[I 2023-08-17 22:15:13,933]\u001b[0m Trial 72 finished with value: 0.48560182532810503 and parameters: {'n_estimators': 124, 'max_depth': 25, 'min_samples_leaf': 3, 'min_samples_split': 7, 'subsample': 0.4859487445127384}. Best is trial 40 with value: 0.5113318696963327.\u001b[0m\n",
      "\u001b[32m[I 2023-08-17 22:15:14,248]\u001b[0m Trial 73 finished with value: 0.3743712230252271 and parameters: {'n_estimators': 132, 'max_depth': 1, 'min_samples_leaf': 2, 'min_samples_split': 6, 'subsample': 0.47693530855466176}. Best is trial 40 with value: 0.5113318696963327.\u001b[0m\n",
      "\u001b[32m[I 2023-08-17 22:15:15,371]\u001b[0m Trial 74 finished with value: 0.4975875577664951 and parameters: {'n_estimators': 180, 'max_depth': 20, 'min_samples_leaf': 6, 'min_samples_split': 5, 'subsample': 0.4384672964194627}. Best is trial 40 with value: 0.5113318696963327.\u001b[0m\n",
      "\u001b[32m[I 2023-08-17 22:15:15,749]\u001b[0m Trial 75 finished with value: 0.4568852771389246 and parameters: {'n_estimators': 129, 'max_depth': 5, 'min_samples_leaf': 5, 'min_samples_split': 7, 'subsample': 0.18629726437470234}. Best is trial 40 with value: 0.5113318696963327.\u001b[0m\n",
      "\u001b[32m[I 2023-08-17 22:15:16,297]\u001b[0m Trial 76 finished with value: 0.4850958604366026 and parameters: {'n_estimators': 108, 'max_depth': 22, 'min_samples_leaf': 10, 'min_samples_split': 6, 'subsample': 0.41261543133633555}. Best is trial 40 with value: 0.5113318696963327.\u001b[0m\n",
      "\u001b[32m[I 2023-08-17 22:15:17,107]\u001b[0m Trial 77 finished with value: 0.4883112147836881 and parameters: {'n_estimators': 121, 'max_depth': 19, 'min_samples_leaf': 6, 'min_samples_split': 3, 'subsample': 0.46172853943379477}. Best is trial 40 with value: 0.5113318696963327.\u001b[0m\n",
      "\u001b[32m[I 2023-08-17 22:15:17,785]\u001b[0m Trial 78 finished with value: 0.5004992755360895 and parameters: {'n_estimators': 118, 'max_depth': 17, 'min_samples_leaf': 7, 'min_samples_split': 7, 'subsample': 0.4436020684383705}. Best is trial 40 with value: 0.5113318696963327.\u001b[0m\n",
      "\u001b[32m[I 2023-08-17 22:15:18,550]\u001b[0m Trial 79 finished with value: 0.5144589466142062 and parameters: {'n_estimators': 149, 'max_depth': 16, 'min_samples_leaf': 7, 'min_samples_split': 7, 'subsample': 0.38096620888144056}. Best is trial 79 with value: 0.5144589466142062.\u001b[0m\n",
      "\u001b[32m[I 2023-08-17 22:15:19,440]\u001b[0m Trial 80 finished with value: 0.494670511043652 and parameters: {'n_estimators': 139, 'max_depth': 17, 'min_samples_leaf': 7, 'min_samples_split': 8, 'subsample': 0.44227318275081856}. Best is trial 79 with value: 0.5144589466142062.\u001b[0m\n",
      "\u001b[32m[I 2023-08-17 22:15:20,277]\u001b[0m Trial 81 finished with value: 0.46824429996403116 and parameters: {'n_estimators': 150, 'max_depth': 16, 'min_samples_leaf': 7, 'min_samples_split': 7, 'subsample': 0.3995592569507322}. Best is trial 79 with value: 0.5144589466142062.\u001b[0m\n",
      "\u001b[32m[I 2023-08-17 22:15:21,231]\u001b[0m Trial 82 finished with value: 0.48877429101831515 and parameters: {'n_estimators': 157, 'max_depth': 14, 'min_samples_leaf': 6, 'min_samples_split': 7, 'subsample': 0.43230540611980195}. Best is trial 79 with value: 0.5144589466142062.\u001b[0m\n",
      "\u001b[32m[I 2023-08-17 22:15:21,886]\u001b[0m Trial 83 finished with value: 0.5065056067114184 and parameters: {'n_estimators': 134, 'max_depth': 18, 'min_samples_leaf': 7, 'min_samples_split': 6, 'subsample': 0.3831240890984344}. Best is trial 79 with value: 0.5144589466142062.\u001b[0m\n",
      "\u001b[32m[I 2023-08-17 22:15:22,645]\u001b[0m Trial 84 finished with value: 0.48073312169422844 and parameters: {'n_estimators': 146, 'max_depth': 18, 'min_samples_leaf': 7, 'min_samples_split': 6, 'subsample': 0.3851019864344383}. Best is trial 79 with value: 0.5144589466142062.\u001b[0m\n",
      "\u001b[32m[I 2023-08-17 22:15:23,302]\u001b[0m Trial 85 finished with value: 0.463019138269832 and parameters: {'n_estimators': 134, 'max_depth': 16, 'min_samples_leaf': 7, 'min_samples_split': 7, 'subsample': 0.35580938528596556}. Best is trial 79 with value: 0.5144589466142062.\u001b[0m\n",
      "\u001b[32m[I 2023-08-17 22:15:24,138]\u001b[0m Trial 86 finished with value: 0.5146052690060026 and parameters: {'n_estimators': 150, 'max_depth': 19, 'min_samples_leaf': 7, 'min_samples_split': 6, 'subsample': 0.41460654686962134}. Best is trial 86 with value: 0.5146052690060026.\u001b[0m\n",
      "\u001b[32m[I 2023-08-17 22:15:24,813]\u001b[0m Trial 87 finished with value: 0.45659984279622934 and parameters: {'n_estimators': 150, 'max_depth': 17, 'min_samples_leaf': 7, 'min_samples_split': 6, 'subsample': 0.3332292209584136}. Best is trial 86 with value: 0.5146052690060026.\u001b[0m\n",
      "\u001b[32m[I 2023-08-17 22:15:25,594]\u001b[0m Trial 88 finished with value: 0.5109417466304517 and parameters: {'n_estimators': 142, 'max_depth': 15, 'min_samples_leaf': 7, 'min_samples_split': 6, 'subsample': 0.38030644270141895}. Best is trial 86 with value: 0.5146052690060026.\u001b[0m\n",
      "\u001b[32m[I 2023-08-17 22:15:26,397]\u001b[0m Trial 89 finished with value: 0.4779391940805965 and parameters: {'n_estimators': 142, 'max_depth': 15, 'min_samples_leaf': 6, 'min_samples_split': 6, 'subsample': 0.3753476435118857}. Best is trial 86 with value: 0.5146052690060026.\u001b[0m\n",
      "\u001b[32m[I 2023-08-17 22:15:27,263]\u001b[0m Trial 90 finished with value: 0.48151680607683167 and parameters: {'n_estimators': 144, 'max_depth': 19, 'min_samples_leaf': 8, 'min_samples_split': 5, 'subsample': 0.40520784475791394}. Best is trial 86 with value: 0.5146052690060026.\u001b[0m\n",
      "\u001b[32m[I 2023-08-17 22:15:28,224]\u001b[0m Trial 91 finished with value: 0.479991260753257 and parameters: {'n_estimators': 148, 'max_depth': 13, 'min_samples_leaf': 7, 'min_samples_split': 6, 'subsample': 0.3907869871317748}. Best is trial 86 with value: 0.5146052690060026.\u001b[0m\n",
      "\u001b[32m[I 2023-08-17 22:15:29,266]\u001b[0m Trial 92 finished with value: 0.5019505272186631 and parameters: {'n_estimators': 154, 'max_depth': 18, 'min_samples_leaf': 7, 'min_samples_split': 6, 'subsample': 0.44823116653372885}. Best is trial 86 with value: 0.5146052690060026.\u001b[0m\n",
      "\u001b[32m[I 2023-08-17 22:15:30,341]\u001b[0m Trial 93 finished with value: 0.4895896804960631 and parameters: {'n_estimators': 153, 'max_depth': 16, 'min_samples_leaf': 6, 'min_samples_split': 6, 'subsample': 0.4155740200801629}. Best is trial 86 with value: 0.5146052690060026.\u001b[0m\n",
      "\u001b[32m[I 2023-08-17 22:15:31,460]\u001b[0m Trial 94 finished with value: 0.4795032664229809 and parameters: {'n_estimators': 163, 'max_depth': 19, 'min_samples_leaf': 6, 'min_samples_split': 6, 'subsample': 0.38472585485447275}. Best is trial 86 with value: 0.5146052690060026.\u001b[0m\n",
      "\u001b[32m[I 2023-08-17 22:15:32,513]\u001b[0m Trial 95 finished with value: 0.48707562471680904 and parameters: {'n_estimators': 158, 'max_depth': 18, 'min_samples_leaf': 8, 'min_samples_split': 6, 'subsample': 0.4264562461909391}. Best is trial 86 with value: 0.5146052690060026.\u001b[0m\n",
      "\u001b[32m[I 2023-08-17 22:15:33,397]\u001b[0m Trial 96 finished with value: 0.487552890919498 and parameters: {'n_estimators': 139, 'max_depth': 14, 'min_samples_leaf': 7, 'min_samples_split': 7, 'subsample': 0.36099028229673963}. Best is trial 86 with value: 0.5146052690060026.\u001b[0m\n",
      "\u001b[32m[I 2023-08-17 22:15:34,347]\u001b[0m Trial 97 finished with value: 0.492405636394313 and parameters: {'n_estimators': 152, 'max_depth': 15, 'min_samples_leaf': 7, 'min_samples_split': 5, 'subsample': 0.39692686340419725}. Best is trial 86 with value: 0.5146052690060026.\u001b[0m\n",
      "\u001b[32m[I 2023-08-17 22:15:35,543]\u001b[0m Trial 98 finished with value: 0.5008702050088358 and parameters: {'n_estimators': 155, 'max_depth': 20, 'min_samples_leaf': 8, 'min_samples_split': 6, 'subsample': 0.45161965927948616}. Best is trial 86 with value: 0.5146052690060026.\u001b[0m\n",
      "\u001b[32m[I 2023-08-17 22:15:36,712]\u001b[0m Trial 99 finished with value: 0.47607434835015666 and parameters: {'n_estimators': 166, 'max_depth': 13, 'min_samples_leaf': 7, 'min_samples_split': 6, 'subsample': 0.40939591071357634}. Best is trial 86 with value: 0.5146052690060026.\u001b[0m\n"
     ]
    },
    {
     "name": "stdout",
     "output_type": "stream",
     "text": [
      "Best r2:  0.5146052690060026\n",
      "Best trial: {'n_estimators': 150, 'max_depth': 19, 'min_samples_leaf': 7, 'min_samples_split': 6, 'subsample': 0.41460654686962134}\n"
     ]
    }
   ],
   "source": [
    "sampler = TPESampler()\n",
    "study = optuna.create_study(\n",
    "    study_name=\"gb_parameter_opt\",\n",
    "    direction=\"maximize\",\n",
    "    sampler=sampler,\n",
    ")\n",
    "\n",
    "study.optimize(lambda trial : objectiveGB(trial, As_X_train, As_y_train), n_trials=100)\n",
    "print(\"Best r2: \", study.best_value)\n",
    "print(\"Best trial:\", study.best_trial.params)"
   ]
  },
  {
   "cell_type": "code",
   "execution_count": 26,
   "id": "8ec7571f",
   "metadata": {},
   "outputs": [
    {
     "data": {
      "application/vnd.plotly.v1+json": {
       "config": {
        "plotlyServerURL": "https://plot.ly"
       },
       "data": [
        {
         "mode": "markers",
         "name": "Objective Value",
         "type": "scatter",
         "x": [
          0,
          1,
          2,
          3,
          4,
          5,
          6,
          7,
          8,
          9,
          10,
          11,
          12,
          13,
          14,
          15,
          16,
          17,
          18,
          19,
          20,
          21,
          22,
          23,
          24,
          25,
          26,
          27,
          28,
          29,
          30,
          31,
          32,
          33,
          34,
          35,
          36,
          37,
          38,
          39,
          40,
          41,
          42,
          43,
          44,
          45,
          46,
          47,
          48,
          49,
          50,
          51,
          52,
          53,
          54,
          55,
          56,
          57,
          58,
          59,
          60,
          61,
          62,
          63,
          64,
          65,
          66,
          67,
          68,
          69,
          70,
          71,
          72,
          73,
          74,
          75,
          76,
          77,
          78,
          79,
          80,
          81,
          82,
          83,
          84,
          85,
          86,
          87,
          88,
          89,
          90,
          91,
          92,
          93,
          94,
          95,
          96,
          97,
          98,
          99
         ],
         "y": [
          0.3130793856389086,
          0.48179919241799396,
          0.43782353462605245,
          0.4134892356612682,
          0.4783406960013662,
          0.48845331681602266,
          0.45387822500494146,
          0.49525846170470283,
          0.4973538257111885,
          0.48074607294648564,
          0.4717706050823354,
          0.48976972285758646,
          0.4994751652533763,
          0.47727441692463024,
          0.48604210954458543,
          0.43503876808299874,
          0.47729258579143885,
          0.4758487506920989,
          0.4831029439414053,
          0.4885242210360589,
          0.4845772436169174,
          0.496983493899186,
          0.49851325940385083,
          0.4624904661502251,
          0.48646432021796554,
          0.49410063217262257,
          0.5034591176569477,
          0.4833907694494329,
          0.4889074154723193,
          0.4942304309081047,
          0.443865446895355,
          0.49185225601519383,
          0.3815394173491256,
          0.4918215331029899,
          0.46999007025971673,
          0.44583209065002843,
          0.45741469324243617,
          0.4791516472662389,
          0.49225896964260585,
          0.48429905436793746,
          0.5113318696963327,
          0.48085736194703904,
          0.497808081006297,
          0.4652650945495417,
          0.47604010312065387,
          0.4954678412811401,
          0.46643283889671644,
          0.4786922355114468,
          0.4905667734113403,
          0.4581547847636681,
          0.45102972334495905,
          0.4695044820764377,
          0.4886043221042085,
          0.49174030225877774,
          0.4952258709036042,
          0.4852701173277202,
          0.5001125181259656,
          0.48456558967241037,
          0.4660763288558405,
          0.5071573556720268,
          0.47343053035648064,
          0.4679901795069811,
          0.5025977695978497,
          0.4866976385654421,
          0.48568650480520753,
          0.47340131707984556,
          0.4958372683349442,
          0.5069051535662974,
          0.48079632362195834,
          0.47935087654014213,
          0.4633726819925796,
          0.4758366615201929,
          0.48560182532810503,
          0.3743712230252271,
          0.4975875577664951,
          0.4568852771389246,
          0.4850958604366026,
          0.4883112147836881,
          0.5004992755360895,
          0.5144589466142062,
          0.494670511043652,
          0.46824429996403116,
          0.48877429101831515,
          0.5065056067114184,
          0.48073312169422844,
          0.463019138269832,
          0.5146052690060026,
          0.45659984279622934,
          0.5109417466304517,
          0.4779391940805965,
          0.48151680607683167,
          0.479991260753257,
          0.5019505272186631,
          0.4895896804960631,
          0.4795032664229809,
          0.48707562471680904,
          0.487552890919498,
          0.492405636394313,
          0.5008702050088358,
          0.47607434835015666
         ]
        },
        {
         "name": "Best Value",
         "type": "scatter",
         "x": [
          0,
          1,
          2,
          3,
          4,
          5,
          6,
          7,
          8,
          9,
          10,
          11,
          12,
          13,
          14,
          15,
          16,
          17,
          18,
          19,
          20,
          21,
          22,
          23,
          24,
          25,
          26,
          27,
          28,
          29,
          30,
          31,
          32,
          33,
          34,
          35,
          36,
          37,
          38,
          39,
          40,
          41,
          42,
          43,
          44,
          45,
          46,
          47,
          48,
          49,
          50,
          51,
          52,
          53,
          54,
          55,
          56,
          57,
          58,
          59,
          60,
          61,
          62,
          63,
          64,
          65,
          66,
          67,
          68,
          69,
          70,
          71,
          72,
          73,
          74,
          75,
          76,
          77,
          78,
          79,
          80,
          81,
          82,
          83,
          84,
          85,
          86,
          87,
          88,
          89,
          90,
          91,
          92,
          93,
          94,
          95,
          96,
          97,
          98,
          99
         ],
         "y": [
          0.3130793856389086,
          0.48179919241799396,
          0.48179919241799396,
          0.48179919241799396,
          0.48179919241799396,
          0.48845331681602266,
          0.48845331681602266,
          0.49525846170470283,
          0.4973538257111885,
          0.4973538257111885,
          0.4973538257111885,
          0.4973538257111885,
          0.4994751652533763,
          0.4994751652533763,
          0.4994751652533763,
          0.4994751652533763,
          0.4994751652533763,
          0.4994751652533763,
          0.4994751652533763,
          0.4994751652533763,
          0.4994751652533763,
          0.4994751652533763,
          0.4994751652533763,
          0.4994751652533763,
          0.4994751652533763,
          0.4994751652533763,
          0.5034591176569477,
          0.5034591176569477,
          0.5034591176569477,
          0.5034591176569477,
          0.5034591176569477,
          0.5034591176569477,
          0.5034591176569477,
          0.5034591176569477,
          0.5034591176569477,
          0.5034591176569477,
          0.5034591176569477,
          0.5034591176569477,
          0.5034591176569477,
          0.5034591176569477,
          0.5113318696963327,
          0.5113318696963327,
          0.5113318696963327,
          0.5113318696963327,
          0.5113318696963327,
          0.5113318696963327,
          0.5113318696963327,
          0.5113318696963327,
          0.5113318696963327,
          0.5113318696963327,
          0.5113318696963327,
          0.5113318696963327,
          0.5113318696963327,
          0.5113318696963327,
          0.5113318696963327,
          0.5113318696963327,
          0.5113318696963327,
          0.5113318696963327,
          0.5113318696963327,
          0.5113318696963327,
          0.5113318696963327,
          0.5113318696963327,
          0.5113318696963327,
          0.5113318696963327,
          0.5113318696963327,
          0.5113318696963327,
          0.5113318696963327,
          0.5113318696963327,
          0.5113318696963327,
          0.5113318696963327,
          0.5113318696963327,
          0.5113318696963327,
          0.5113318696963327,
          0.5113318696963327,
          0.5113318696963327,
          0.5113318696963327,
          0.5113318696963327,
          0.5113318696963327,
          0.5113318696963327,
          0.5144589466142062,
          0.5144589466142062,
          0.5144589466142062,
          0.5144589466142062,
          0.5144589466142062,
          0.5144589466142062,
          0.5144589466142062,
          0.5146052690060026,
          0.5146052690060026,
          0.5146052690060026,
          0.5146052690060026,
          0.5146052690060026,
          0.5146052690060026,
          0.5146052690060026,
          0.5146052690060026,
          0.5146052690060026,
          0.5146052690060026,
          0.5146052690060026,
          0.5146052690060026,
          0.5146052690060026,
          0.5146052690060026
         ]
        }
       ],
       "layout": {
        "template": {
         "data": {
          "bar": [
           {
            "error_x": {
             "color": "#2a3f5f"
            },
            "error_y": {
             "color": "#2a3f5f"
            },
            "marker": {
             "line": {
              "color": "#E5ECF6",
              "width": 0.5
             },
             "pattern": {
              "fillmode": "overlay",
              "size": 10,
              "solidity": 0.2
             }
            },
            "type": "bar"
           }
          ],
          "barpolar": [
           {
            "marker": {
             "line": {
              "color": "#E5ECF6",
              "width": 0.5
             },
             "pattern": {
              "fillmode": "overlay",
              "size": 10,
              "solidity": 0.2
             }
            },
            "type": "barpolar"
           }
          ],
          "carpet": [
           {
            "aaxis": {
             "endlinecolor": "#2a3f5f",
             "gridcolor": "white",
             "linecolor": "white",
             "minorgridcolor": "white",
             "startlinecolor": "#2a3f5f"
            },
            "baxis": {
             "endlinecolor": "#2a3f5f",
             "gridcolor": "white",
             "linecolor": "white",
             "minorgridcolor": "white",
             "startlinecolor": "#2a3f5f"
            },
            "type": "carpet"
           }
          ],
          "choropleth": [
           {
            "colorbar": {
             "outlinewidth": 0,
             "ticks": ""
            },
            "type": "choropleth"
           }
          ],
          "contour": [
           {
            "colorbar": {
             "outlinewidth": 0,
             "ticks": ""
            },
            "colorscale": [
             [
              0,
              "#0d0887"
             ],
             [
              0.1111111111111111,
              "#46039f"
             ],
             [
              0.2222222222222222,
              "#7201a8"
             ],
             [
              0.3333333333333333,
              "#9c179e"
             ],
             [
              0.4444444444444444,
              "#bd3786"
             ],
             [
              0.5555555555555556,
              "#d8576b"
             ],
             [
              0.6666666666666666,
              "#ed7953"
             ],
             [
              0.7777777777777778,
              "#fb9f3a"
             ],
             [
              0.8888888888888888,
              "#fdca26"
             ],
             [
              1,
              "#f0f921"
             ]
            ],
            "type": "contour"
           }
          ],
          "contourcarpet": [
           {
            "colorbar": {
             "outlinewidth": 0,
             "ticks": ""
            },
            "type": "contourcarpet"
           }
          ],
          "heatmap": [
           {
            "colorbar": {
             "outlinewidth": 0,
             "ticks": ""
            },
            "colorscale": [
             [
              0,
              "#0d0887"
             ],
             [
              0.1111111111111111,
              "#46039f"
             ],
             [
              0.2222222222222222,
              "#7201a8"
             ],
             [
              0.3333333333333333,
              "#9c179e"
             ],
             [
              0.4444444444444444,
              "#bd3786"
             ],
             [
              0.5555555555555556,
              "#d8576b"
             ],
             [
              0.6666666666666666,
              "#ed7953"
             ],
             [
              0.7777777777777778,
              "#fb9f3a"
             ],
             [
              0.8888888888888888,
              "#fdca26"
             ],
             [
              1,
              "#f0f921"
             ]
            ],
            "type": "heatmap"
           }
          ],
          "heatmapgl": [
           {
            "colorbar": {
             "outlinewidth": 0,
             "ticks": ""
            },
            "colorscale": [
             [
              0,
              "#0d0887"
             ],
             [
              0.1111111111111111,
              "#46039f"
             ],
             [
              0.2222222222222222,
              "#7201a8"
             ],
             [
              0.3333333333333333,
              "#9c179e"
             ],
             [
              0.4444444444444444,
              "#bd3786"
             ],
             [
              0.5555555555555556,
              "#d8576b"
             ],
             [
              0.6666666666666666,
              "#ed7953"
             ],
             [
              0.7777777777777778,
              "#fb9f3a"
             ],
             [
              0.8888888888888888,
              "#fdca26"
             ],
             [
              1,
              "#f0f921"
             ]
            ],
            "type": "heatmapgl"
           }
          ],
          "histogram": [
           {
            "marker": {
             "pattern": {
              "fillmode": "overlay",
              "size": 10,
              "solidity": 0.2
             }
            },
            "type": "histogram"
           }
          ],
          "histogram2d": [
           {
            "colorbar": {
             "outlinewidth": 0,
             "ticks": ""
            },
            "colorscale": [
             [
              0,
              "#0d0887"
             ],
             [
              0.1111111111111111,
              "#46039f"
             ],
             [
              0.2222222222222222,
              "#7201a8"
             ],
             [
              0.3333333333333333,
              "#9c179e"
             ],
             [
              0.4444444444444444,
              "#bd3786"
             ],
             [
              0.5555555555555556,
              "#d8576b"
             ],
             [
              0.6666666666666666,
              "#ed7953"
             ],
             [
              0.7777777777777778,
              "#fb9f3a"
             ],
             [
              0.8888888888888888,
              "#fdca26"
             ],
             [
              1,
              "#f0f921"
             ]
            ],
            "type": "histogram2d"
           }
          ],
          "histogram2dcontour": [
           {
            "colorbar": {
             "outlinewidth": 0,
             "ticks": ""
            },
            "colorscale": [
             [
              0,
              "#0d0887"
             ],
             [
              0.1111111111111111,
              "#46039f"
             ],
             [
              0.2222222222222222,
              "#7201a8"
             ],
             [
              0.3333333333333333,
              "#9c179e"
             ],
             [
              0.4444444444444444,
              "#bd3786"
             ],
             [
              0.5555555555555556,
              "#d8576b"
             ],
             [
              0.6666666666666666,
              "#ed7953"
             ],
             [
              0.7777777777777778,
              "#fb9f3a"
             ],
             [
              0.8888888888888888,
              "#fdca26"
             ],
             [
              1,
              "#f0f921"
             ]
            ],
            "type": "histogram2dcontour"
           }
          ],
          "mesh3d": [
           {
            "colorbar": {
             "outlinewidth": 0,
             "ticks": ""
            },
            "type": "mesh3d"
           }
          ],
          "parcoords": [
           {
            "line": {
             "colorbar": {
              "outlinewidth": 0,
              "ticks": ""
             }
            },
            "type": "parcoords"
           }
          ],
          "pie": [
           {
            "automargin": true,
            "type": "pie"
           }
          ],
          "scatter": [
           {
            "marker": {
             "colorbar": {
              "outlinewidth": 0,
              "ticks": ""
             }
            },
            "type": "scatter"
           }
          ],
          "scatter3d": [
           {
            "line": {
             "colorbar": {
              "outlinewidth": 0,
              "ticks": ""
             }
            },
            "marker": {
             "colorbar": {
              "outlinewidth": 0,
              "ticks": ""
             }
            },
            "type": "scatter3d"
           }
          ],
          "scattercarpet": [
           {
            "marker": {
             "colorbar": {
              "outlinewidth": 0,
              "ticks": ""
             }
            },
            "type": "scattercarpet"
           }
          ],
          "scattergeo": [
           {
            "marker": {
             "colorbar": {
              "outlinewidth": 0,
              "ticks": ""
             }
            },
            "type": "scattergeo"
           }
          ],
          "scattergl": [
           {
            "marker": {
             "colorbar": {
              "outlinewidth": 0,
              "ticks": ""
             }
            },
            "type": "scattergl"
           }
          ],
          "scattermapbox": [
           {
            "marker": {
             "colorbar": {
              "outlinewidth": 0,
              "ticks": ""
             }
            },
            "type": "scattermapbox"
           }
          ],
          "scatterpolar": [
           {
            "marker": {
             "colorbar": {
              "outlinewidth": 0,
              "ticks": ""
             }
            },
            "type": "scatterpolar"
           }
          ],
          "scatterpolargl": [
           {
            "marker": {
             "colorbar": {
              "outlinewidth": 0,
              "ticks": ""
             }
            },
            "type": "scatterpolargl"
           }
          ],
          "scatterternary": [
           {
            "marker": {
             "colorbar": {
              "outlinewidth": 0,
              "ticks": ""
             }
            },
            "type": "scatterternary"
           }
          ],
          "surface": [
           {
            "colorbar": {
             "outlinewidth": 0,
             "ticks": ""
            },
            "colorscale": [
             [
              0,
              "#0d0887"
             ],
             [
              0.1111111111111111,
              "#46039f"
             ],
             [
              0.2222222222222222,
              "#7201a8"
             ],
             [
              0.3333333333333333,
              "#9c179e"
             ],
             [
              0.4444444444444444,
              "#bd3786"
             ],
             [
              0.5555555555555556,
              "#d8576b"
             ],
             [
              0.6666666666666666,
              "#ed7953"
             ],
             [
              0.7777777777777778,
              "#fb9f3a"
             ],
             [
              0.8888888888888888,
              "#fdca26"
             ],
             [
              1,
              "#f0f921"
             ]
            ],
            "type": "surface"
           }
          ],
          "table": [
           {
            "cells": {
             "fill": {
              "color": "#EBF0F8"
             },
             "line": {
              "color": "white"
             }
            },
            "header": {
             "fill": {
              "color": "#C8D4E3"
             },
             "line": {
              "color": "white"
             }
            },
            "type": "table"
           }
          ]
         },
         "layout": {
          "annotationdefaults": {
           "arrowcolor": "#2a3f5f",
           "arrowhead": 0,
           "arrowwidth": 1
          },
          "autotypenumbers": "strict",
          "coloraxis": {
           "colorbar": {
            "outlinewidth": 0,
            "ticks": ""
           }
          },
          "colorscale": {
           "diverging": [
            [
             0,
             "#8e0152"
            ],
            [
             0.1,
             "#c51b7d"
            ],
            [
             0.2,
             "#de77ae"
            ],
            [
             0.3,
             "#f1b6da"
            ],
            [
             0.4,
             "#fde0ef"
            ],
            [
             0.5,
             "#f7f7f7"
            ],
            [
             0.6,
             "#e6f5d0"
            ],
            [
             0.7,
             "#b8e186"
            ],
            [
             0.8,
             "#7fbc41"
            ],
            [
             0.9,
             "#4d9221"
            ],
            [
             1,
             "#276419"
            ]
           ],
           "sequential": [
            [
             0,
             "#0d0887"
            ],
            [
             0.1111111111111111,
             "#46039f"
            ],
            [
             0.2222222222222222,
             "#7201a8"
            ],
            [
             0.3333333333333333,
             "#9c179e"
            ],
            [
             0.4444444444444444,
             "#bd3786"
            ],
            [
             0.5555555555555556,
             "#d8576b"
            ],
            [
             0.6666666666666666,
             "#ed7953"
            ],
            [
             0.7777777777777778,
             "#fb9f3a"
            ],
            [
             0.8888888888888888,
             "#fdca26"
            ],
            [
             1,
             "#f0f921"
            ]
           ],
           "sequentialminus": [
            [
             0,
             "#0d0887"
            ],
            [
             0.1111111111111111,
             "#46039f"
            ],
            [
             0.2222222222222222,
             "#7201a8"
            ],
            [
             0.3333333333333333,
             "#9c179e"
            ],
            [
             0.4444444444444444,
             "#bd3786"
            ],
            [
             0.5555555555555556,
             "#d8576b"
            ],
            [
             0.6666666666666666,
             "#ed7953"
            ],
            [
             0.7777777777777778,
             "#fb9f3a"
            ],
            [
             0.8888888888888888,
             "#fdca26"
            ],
            [
             1,
             "#f0f921"
            ]
           ]
          },
          "colorway": [
           "#636efa",
           "#EF553B",
           "#00cc96",
           "#ab63fa",
           "#FFA15A",
           "#19d3f3",
           "#FF6692",
           "#B6E880",
           "#FF97FF",
           "#FECB52"
          ],
          "font": {
           "color": "#2a3f5f"
          },
          "geo": {
           "bgcolor": "white",
           "lakecolor": "white",
           "landcolor": "#E5ECF6",
           "showlakes": true,
           "showland": true,
           "subunitcolor": "white"
          },
          "hoverlabel": {
           "align": "left"
          },
          "hovermode": "closest",
          "mapbox": {
           "style": "light"
          },
          "paper_bgcolor": "white",
          "plot_bgcolor": "#E5ECF6",
          "polar": {
           "angularaxis": {
            "gridcolor": "white",
            "linecolor": "white",
            "ticks": ""
           },
           "bgcolor": "#E5ECF6",
           "radialaxis": {
            "gridcolor": "white",
            "linecolor": "white",
            "ticks": ""
           }
          },
          "scene": {
           "xaxis": {
            "backgroundcolor": "#E5ECF6",
            "gridcolor": "white",
            "gridwidth": 2,
            "linecolor": "white",
            "showbackground": true,
            "ticks": "",
            "zerolinecolor": "white"
           },
           "yaxis": {
            "backgroundcolor": "#E5ECF6",
            "gridcolor": "white",
            "gridwidth": 2,
            "linecolor": "white",
            "showbackground": true,
            "ticks": "",
            "zerolinecolor": "white"
           },
           "zaxis": {
            "backgroundcolor": "#E5ECF6",
            "gridcolor": "white",
            "gridwidth": 2,
            "linecolor": "white",
            "showbackground": true,
            "ticks": "",
            "zerolinecolor": "white"
           }
          },
          "shapedefaults": {
           "line": {
            "color": "#2a3f5f"
           }
          },
          "ternary": {
           "aaxis": {
            "gridcolor": "white",
            "linecolor": "white",
            "ticks": ""
           },
           "baxis": {
            "gridcolor": "white",
            "linecolor": "white",
            "ticks": ""
           },
           "bgcolor": "#E5ECF6",
           "caxis": {
            "gridcolor": "white",
            "linecolor": "white",
            "ticks": ""
           }
          },
          "title": {
           "x": 0.05
          },
          "xaxis": {
           "automargin": true,
           "gridcolor": "white",
           "linecolor": "white",
           "ticks": "",
           "title": {
            "standoff": 15
           },
           "zerolinecolor": "white",
           "zerolinewidth": 2
          },
          "yaxis": {
           "automargin": true,
           "gridcolor": "white",
           "linecolor": "white",
           "ticks": "",
           "title": {
            "standoff": 15
           },
           "zerolinecolor": "white",
           "zerolinewidth": 2
          }
         }
        },
        "title": {
         "text": "Optimization History Plot"
        },
        "xaxis": {
         "title": {
          "text": "#Trials"
         }
        },
        "yaxis": {
         "title": {
          "text": "Objective Value"
         }
        }
       }
      }
     },
     "metadata": {},
     "output_type": "display_data"
    }
   ],
   "source": [
    "optuna.visualization.plot_optimization_history(study)"
   ]
  },
  {
   "cell_type": "code",
   "execution_count": 27,
   "id": "1f8e15f7",
   "metadata": {},
   "outputs": [
    {
     "data": {
      "application/vnd.plotly.v1+json": {
       "config": {
        "plotlyServerURL": "https://plot.ly"
       },
       "data": [
        {
         "cliponaxis": false,
         "hovertemplate": [
          "min_samples_split (IntUniformDistribution): 0.007573970806259725<extra></extra>",
          "min_samples_leaf (IntUniformDistribution): 0.04763615459065888<extra></extra>",
          "n_estimators (IntUniformDistribution): 0.09833594125237828<extra></extra>",
          "max_depth (IntUniformDistribution): 0.12659703166001893<extra></extra>",
          "subsample (UniformDistribution): 0.7198569016906842<extra></extra>"
         ],
         "marker": {
          "color": "rgb(66,146,198)"
         },
         "orientation": "h",
         "text": [
          "0.007573970806259725",
          "0.04763615459065888",
          "0.09833594125237828",
          "0.12659703166001893",
          "0.7198569016906842"
         ],
         "textposition": "outside",
         "texttemplate": "%{text:.2f}",
         "type": "bar",
         "x": [
          0.007573970806259725,
          0.04763615459065888,
          0.09833594125237828,
          0.12659703166001893,
          0.7198569016906842
         ],
         "y": [
          "min_samples_split",
          "min_samples_leaf",
          "n_estimators",
          "max_depth",
          "subsample"
         ]
        }
       ],
       "layout": {
        "showlegend": false,
        "template": {
         "data": {
          "bar": [
           {
            "error_x": {
             "color": "#2a3f5f"
            },
            "error_y": {
             "color": "#2a3f5f"
            },
            "marker": {
             "line": {
              "color": "#E5ECF6",
              "width": 0.5
             },
             "pattern": {
              "fillmode": "overlay",
              "size": 10,
              "solidity": 0.2
             }
            },
            "type": "bar"
           }
          ],
          "barpolar": [
           {
            "marker": {
             "line": {
              "color": "#E5ECF6",
              "width": 0.5
             },
             "pattern": {
              "fillmode": "overlay",
              "size": 10,
              "solidity": 0.2
             }
            },
            "type": "barpolar"
           }
          ],
          "carpet": [
           {
            "aaxis": {
             "endlinecolor": "#2a3f5f",
             "gridcolor": "white",
             "linecolor": "white",
             "minorgridcolor": "white",
             "startlinecolor": "#2a3f5f"
            },
            "baxis": {
             "endlinecolor": "#2a3f5f",
             "gridcolor": "white",
             "linecolor": "white",
             "minorgridcolor": "white",
             "startlinecolor": "#2a3f5f"
            },
            "type": "carpet"
           }
          ],
          "choropleth": [
           {
            "colorbar": {
             "outlinewidth": 0,
             "ticks": ""
            },
            "type": "choropleth"
           }
          ],
          "contour": [
           {
            "colorbar": {
             "outlinewidth": 0,
             "ticks": ""
            },
            "colorscale": [
             [
              0,
              "#0d0887"
             ],
             [
              0.1111111111111111,
              "#46039f"
             ],
             [
              0.2222222222222222,
              "#7201a8"
             ],
             [
              0.3333333333333333,
              "#9c179e"
             ],
             [
              0.4444444444444444,
              "#bd3786"
             ],
             [
              0.5555555555555556,
              "#d8576b"
             ],
             [
              0.6666666666666666,
              "#ed7953"
             ],
             [
              0.7777777777777778,
              "#fb9f3a"
             ],
             [
              0.8888888888888888,
              "#fdca26"
             ],
             [
              1,
              "#f0f921"
             ]
            ],
            "type": "contour"
           }
          ],
          "contourcarpet": [
           {
            "colorbar": {
             "outlinewidth": 0,
             "ticks": ""
            },
            "type": "contourcarpet"
           }
          ],
          "heatmap": [
           {
            "colorbar": {
             "outlinewidth": 0,
             "ticks": ""
            },
            "colorscale": [
             [
              0,
              "#0d0887"
             ],
             [
              0.1111111111111111,
              "#46039f"
             ],
             [
              0.2222222222222222,
              "#7201a8"
             ],
             [
              0.3333333333333333,
              "#9c179e"
             ],
             [
              0.4444444444444444,
              "#bd3786"
             ],
             [
              0.5555555555555556,
              "#d8576b"
             ],
             [
              0.6666666666666666,
              "#ed7953"
             ],
             [
              0.7777777777777778,
              "#fb9f3a"
             ],
             [
              0.8888888888888888,
              "#fdca26"
             ],
             [
              1,
              "#f0f921"
             ]
            ],
            "type": "heatmap"
           }
          ],
          "heatmapgl": [
           {
            "colorbar": {
             "outlinewidth": 0,
             "ticks": ""
            },
            "colorscale": [
             [
              0,
              "#0d0887"
             ],
             [
              0.1111111111111111,
              "#46039f"
             ],
             [
              0.2222222222222222,
              "#7201a8"
             ],
             [
              0.3333333333333333,
              "#9c179e"
             ],
             [
              0.4444444444444444,
              "#bd3786"
             ],
             [
              0.5555555555555556,
              "#d8576b"
             ],
             [
              0.6666666666666666,
              "#ed7953"
             ],
             [
              0.7777777777777778,
              "#fb9f3a"
             ],
             [
              0.8888888888888888,
              "#fdca26"
             ],
             [
              1,
              "#f0f921"
             ]
            ],
            "type": "heatmapgl"
           }
          ],
          "histogram": [
           {
            "marker": {
             "pattern": {
              "fillmode": "overlay",
              "size": 10,
              "solidity": 0.2
             }
            },
            "type": "histogram"
           }
          ],
          "histogram2d": [
           {
            "colorbar": {
             "outlinewidth": 0,
             "ticks": ""
            },
            "colorscale": [
             [
              0,
              "#0d0887"
             ],
             [
              0.1111111111111111,
              "#46039f"
             ],
             [
              0.2222222222222222,
              "#7201a8"
             ],
             [
              0.3333333333333333,
              "#9c179e"
             ],
             [
              0.4444444444444444,
              "#bd3786"
             ],
             [
              0.5555555555555556,
              "#d8576b"
             ],
             [
              0.6666666666666666,
              "#ed7953"
             ],
             [
              0.7777777777777778,
              "#fb9f3a"
             ],
             [
              0.8888888888888888,
              "#fdca26"
             ],
             [
              1,
              "#f0f921"
             ]
            ],
            "type": "histogram2d"
           }
          ],
          "histogram2dcontour": [
           {
            "colorbar": {
             "outlinewidth": 0,
             "ticks": ""
            },
            "colorscale": [
             [
              0,
              "#0d0887"
             ],
             [
              0.1111111111111111,
              "#46039f"
             ],
             [
              0.2222222222222222,
              "#7201a8"
             ],
             [
              0.3333333333333333,
              "#9c179e"
             ],
             [
              0.4444444444444444,
              "#bd3786"
             ],
             [
              0.5555555555555556,
              "#d8576b"
             ],
             [
              0.6666666666666666,
              "#ed7953"
             ],
             [
              0.7777777777777778,
              "#fb9f3a"
             ],
             [
              0.8888888888888888,
              "#fdca26"
             ],
             [
              1,
              "#f0f921"
             ]
            ],
            "type": "histogram2dcontour"
           }
          ],
          "mesh3d": [
           {
            "colorbar": {
             "outlinewidth": 0,
             "ticks": ""
            },
            "type": "mesh3d"
           }
          ],
          "parcoords": [
           {
            "line": {
             "colorbar": {
              "outlinewidth": 0,
              "ticks": ""
             }
            },
            "type": "parcoords"
           }
          ],
          "pie": [
           {
            "automargin": true,
            "type": "pie"
           }
          ],
          "scatter": [
           {
            "marker": {
             "colorbar": {
              "outlinewidth": 0,
              "ticks": ""
             }
            },
            "type": "scatter"
           }
          ],
          "scatter3d": [
           {
            "line": {
             "colorbar": {
              "outlinewidth": 0,
              "ticks": ""
             }
            },
            "marker": {
             "colorbar": {
              "outlinewidth": 0,
              "ticks": ""
             }
            },
            "type": "scatter3d"
           }
          ],
          "scattercarpet": [
           {
            "marker": {
             "colorbar": {
              "outlinewidth": 0,
              "ticks": ""
             }
            },
            "type": "scattercarpet"
           }
          ],
          "scattergeo": [
           {
            "marker": {
             "colorbar": {
              "outlinewidth": 0,
              "ticks": ""
             }
            },
            "type": "scattergeo"
           }
          ],
          "scattergl": [
           {
            "marker": {
             "colorbar": {
              "outlinewidth": 0,
              "ticks": ""
             }
            },
            "type": "scattergl"
           }
          ],
          "scattermapbox": [
           {
            "marker": {
             "colorbar": {
              "outlinewidth": 0,
              "ticks": ""
             }
            },
            "type": "scattermapbox"
           }
          ],
          "scatterpolar": [
           {
            "marker": {
             "colorbar": {
              "outlinewidth": 0,
              "ticks": ""
             }
            },
            "type": "scatterpolar"
           }
          ],
          "scatterpolargl": [
           {
            "marker": {
             "colorbar": {
              "outlinewidth": 0,
              "ticks": ""
             }
            },
            "type": "scatterpolargl"
           }
          ],
          "scatterternary": [
           {
            "marker": {
             "colorbar": {
              "outlinewidth": 0,
              "ticks": ""
             }
            },
            "type": "scatterternary"
           }
          ],
          "surface": [
           {
            "colorbar": {
             "outlinewidth": 0,
             "ticks": ""
            },
            "colorscale": [
             [
              0,
              "#0d0887"
             ],
             [
              0.1111111111111111,
              "#46039f"
             ],
             [
              0.2222222222222222,
              "#7201a8"
             ],
             [
              0.3333333333333333,
              "#9c179e"
             ],
             [
              0.4444444444444444,
              "#bd3786"
             ],
             [
              0.5555555555555556,
              "#d8576b"
             ],
             [
              0.6666666666666666,
              "#ed7953"
             ],
             [
              0.7777777777777778,
              "#fb9f3a"
             ],
             [
              0.8888888888888888,
              "#fdca26"
             ],
             [
              1,
              "#f0f921"
             ]
            ],
            "type": "surface"
           }
          ],
          "table": [
           {
            "cells": {
             "fill": {
              "color": "#EBF0F8"
             },
             "line": {
              "color": "white"
             }
            },
            "header": {
             "fill": {
              "color": "#C8D4E3"
             },
             "line": {
              "color": "white"
             }
            },
            "type": "table"
           }
          ]
         },
         "layout": {
          "annotationdefaults": {
           "arrowcolor": "#2a3f5f",
           "arrowhead": 0,
           "arrowwidth": 1
          },
          "autotypenumbers": "strict",
          "coloraxis": {
           "colorbar": {
            "outlinewidth": 0,
            "ticks": ""
           }
          },
          "colorscale": {
           "diverging": [
            [
             0,
             "#8e0152"
            ],
            [
             0.1,
             "#c51b7d"
            ],
            [
             0.2,
             "#de77ae"
            ],
            [
             0.3,
             "#f1b6da"
            ],
            [
             0.4,
             "#fde0ef"
            ],
            [
             0.5,
             "#f7f7f7"
            ],
            [
             0.6,
             "#e6f5d0"
            ],
            [
             0.7,
             "#b8e186"
            ],
            [
             0.8,
             "#7fbc41"
            ],
            [
             0.9,
             "#4d9221"
            ],
            [
             1,
             "#276419"
            ]
           ],
           "sequential": [
            [
             0,
             "#0d0887"
            ],
            [
             0.1111111111111111,
             "#46039f"
            ],
            [
             0.2222222222222222,
             "#7201a8"
            ],
            [
             0.3333333333333333,
             "#9c179e"
            ],
            [
             0.4444444444444444,
             "#bd3786"
            ],
            [
             0.5555555555555556,
             "#d8576b"
            ],
            [
             0.6666666666666666,
             "#ed7953"
            ],
            [
             0.7777777777777778,
             "#fb9f3a"
            ],
            [
             0.8888888888888888,
             "#fdca26"
            ],
            [
             1,
             "#f0f921"
            ]
           ],
           "sequentialminus": [
            [
             0,
             "#0d0887"
            ],
            [
             0.1111111111111111,
             "#46039f"
            ],
            [
             0.2222222222222222,
             "#7201a8"
            ],
            [
             0.3333333333333333,
             "#9c179e"
            ],
            [
             0.4444444444444444,
             "#bd3786"
            ],
            [
             0.5555555555555556,
             "#d8576b"
            ],
            [
             0.6666666666666666,
             "#ed7953"
            ],
            [
             0.7777777777777778,
             "#fb9f3a"
            ],
            [
             0.8888888888888888,
             "#fdca26"
            ],
            [
             1,
             "#f0f921"
            ]
           ]
          },
          "colorway": [
           "#636efa",
           "#EF553B",
           "#00cc96",
           "#ab63fa",
           "#FFA15A",
           "#19d3f3",
           "#FF6692",
           "#B6E880",
           "#FF97FF",
           "#FECB52"
          ],
          "font": {
           "color": "#2a3f5f"
          },
          "geo": {
           "bgcolor": "white",
           "lakecolor": "white",
           "landcolor": "#E5ECF6",
           "showlakes": true,
           "showland": true,
           "subunitcolor": "white"
          },
          "hoverlabel": {
           "align": "left"
          },
          "hovermode": "closest",
          "mapbox": {
           "style": "light"
          },
          "paper_bgcolor": "white",
          "plot_bgcolor": "#E5ECF6",
          "polar": {
           "angularaxis": {
            "gridcolor": "white",
            "linecolor": "white",
            "ticks": ""
           },
           "bgcolor": "#E5ECF6",
           "radialaxis": {
            "gridcolor": "white",
            "linecolor": "white",
            "ticks": ""
           }
          },
          "scene": {
           "xaxis": {
            "backgroundcolor": "#E5ECF6",
            "gridcolor": "white",
            "gridwidth": 2,
            "linecolor": "white",
            "showbackground": true,
            "ticks": "",
            "zerolinecolor": "white"
           },
           "yaxis": {
            "backgroundcolor": "#E5ECF6",
            "gridcolor": "white",
            "gridwidth": 2,
            "linecolor": "white",
            "showbackground": true,
            "ticks": "",
            "zerolinecolor": "white"
           },
           "zaxis": {
            "backgroundcolor": "#E5ECF6",
            "gridcolor": "white",
            "gridwidth": 2,
            "linecolor": "white",
            "showbackground": true,
            "ticks": "",
            "zerolinecolor": "white"
           }
          },
          "shapedefaults": {
           "line": {
            "color": "#2a3f5f"
           }
          },
          "ternary": {
           "aaxis": {
            "gridcolor": "white",
            "linecolor": "white",
            "ticks": ""
           },
           "baxis": {
            "gridcolor": "white",
            "linecolor": "white",
            "ticks": ""
           },
           "bgcolor": "#E5ECF6",
           "caxis": {
            "gridcolor": "white",
            "linecolor": "white",
            "ticks": ""
           }
          },
          "title": {
           "x": 0.05
          },
          "xaxis": {
           "automargin": true,
           "gridcolor": "white",
           "linecolor": "white",
           "ticks": "",
           "title": {
            "standoff": 15
           },
           "zerolinecolor": "white",
           "zerolinewidth": 2
          },
          "yaxis": {
           "automargin": true,
           "gridcolor": "white",
           "linecolor": "white",
           "ticks": "",
           "title": {
            "standoff": 15
           },
           "zerolinecolor": "white",
           "zerolinewidth": 2
          }
         }
        },
        "title": {
         "text": "Hyperparameter Importances"
        },
        "xaxis": {
         "title": {
          "text": "Importance for Objective Value"
         }
        },
        "yaxis": {
         "title": {
          "text": "Hyperparameter"
         }
        }
       }
      }
     },
     "metadata": {},
     "output_type": "display_data"
    }
   ],
   "source": [
    "optuna.visualization.plot_param_importances(study)"
   ]
  },
  {
   "cell_type": "code",
   "execution_count": 28,
   "id": "ded0e0f8",
   "metadata": {},
   "outputs": [
    {
     "data": {
      "application/vnd.plotly.v1+json": {
       "config": {
        "plotlyServerURL": "https://plot.ly"
       },
       "data": [
        {
         "dimensions": [
          {
           "label": "Objective Value",
           "range": [
            0.3130793856389086,
            0.5146052690060026
           ],
           "values": [
            0.3130793856389086,
            0.48179919241799396,
            0.43782353462605245,
            0.4134892356612682,
            0.4783406960013662,
            0.48845331681602266,
            0.45387822500494146,
            0.49525846170470283,
            0.4973538257111885,
            0.48074607294648564,
            0.4717706050823354,
            0.48976972285758646,
            0.4994751652533763,
            0.47727441692463024,
            0.48604210954458543,
            0.43503876808299874,
            0.47729258579143885,
            0.4758487506920989,
            0.4831029439414053,
            0.4885242210360589,
            0.4845772436169174,
            0.496983493899186,
            0.49851325940385083,
            0.4624904661502251,
            0.48646432021796554,
            0.49410063217262257,
            0.5034591176569477,
            0.4833907694494329,
            0.4889074154723193,
            0.4942304309081047,
            0.443865446895355,
            0.49185225601519383,
            0.3815394173491256,
            0.4918215331029899,
            0.46999007025971673,
            0.44583209065002843,
            0.45741469324243617,
            0.4791516472662389,
            0.49225896964260585,
            0.48429905436793746,
            0.5113318696963327,
            0.48085736194703904,
            0.497808081006297,
            0.4652650945495417,
            0.47604010312065387,
            0.4954678412811401,
            0.46643283889671644,
            0.4786922355114468,
            0.4905667734113403,
            0.4581547847636681,
            0.45102972334495905,
            0.4695044820764377,
            0.4886043221042085,
            0.49174030225877774,
            0.4952258709036042,
            0.4852701173277202,
            0.5001125181259656,
            0.48456558967241037,
            0.4660763288558405,
            0.5071573556720268,
            0.47343053035648064,
            0.4679901795069811,
            0.5025977695978497,
            0.4866976385654421,
            0.48568650480520753,
            0.47340131707984556,
            0.4958372683349442,
            0.5069051535662974,
            0.48079632362195834,
            0.47935087654014213,
            0.4633726819925796,
            0.4758366615201929,
            0.48560182532810503,
            0.3743712230252271,
            0.4975875577664951,
            0.4568852771389246,
            0.4850958604366026,
            0.4883112147836881,
            0.5004992755360895,
            0.5144589466142062,
            0.494670511043652,
            0.46824429996403116,
            0.48877429101831515,
            0.5065056067114184,
            0.48073312169422844,
            0.463019138269832,
            0.5146052690060026,
            0.45659984279622934,
            0.5109417466304517,
            0.4779391940805965,
            0.48151680607683167,
            0.479991260753257,
            0.5019505272186631,
            0.4895896804960631,
            0.4795032664229809,
            0.48707562471680904,
            0.487552890919498,
            0.492405636394313,
            0.5008702050088358,
            0.47607434835015666
           ]
          },
          {
           "label": "max_depth",
           "range": [
            1,
            30
           ],
           "values": [
            11,
            24,
            30,
            17,
            2,
            16,
            22,
            13,
            26,
            10,
            30,
            8,
            21,
            23,
            25,
            19,
            27,
            19,
            20,
            26,
            28,
            13,
            6,
            2,
            6,
            21,
            4,
            6,
            5,
            4,
            11,
            8,
            1,
            24,
            4,
            18,
            15,
            28,
            22,
            8,
            13,
            14,
            12,
            10,
            12,
            17,
            9,
            16,
            3,
            12,
            7,
            14,
            24,
            10,
            29,
            26,
            21,
            20,
            22,
            17,
            18,
            15,
            20,
            20,
            21,
            17,
            18,
            23,
            23,
            19,
            23,
            21,
            25,
            1,
            20,
            5,
            22,
            19,
            17,
            16,
            17,
            16,
            14,
            18,
            18,
            16,
            19,
            17,
            15,
            15,
            19,
            13,
            18,
            16,
            19,
            18,
            14,
            15,
            20,
            13
           ]
          },
          {
           "label": "min_samples_leaf",
           "range": [
            1,
            10
           ],
           "values": [
            1,
            3,
            3,
            1,
            6,
            3,
            5,
            8,
            8,
            7,
            10,
            9,
            8,
            8,
            10,
            6,
            8,
            5,
            7,
            9,
            7,
            8,
            9,
            9,
            10,
            9,
            6,
            6,
            4,
            7,
            5,
            8,
            9,
            7,
            1,
            6,
            4,
            10,
            8,
            9,
            2,
            2,
            4,
            2,
            4,
            3,
            3,
            2,
            1,
            4,
            5,
            7,
            6,
            8,
            9,
            8,
            5,
            5,
            4,
            6,
            6,
            5,
            6,
            6,
            7,
            7,
            6,
            3,
            3,
            2,
            5,
            1,
            3,
            2,
            6,
            5,
            10,
            6,
            7,
            7,
            7,
            7,
            6,
            7,
            7,
            7,
            7,
            7,
            7,
            6,
            8,
            7,
            7,
            6,
            6,
            8,
            7,
            7,
            8,
            7
           ]
          },
          {
           "label": "min_samples_split",
           "range": [
            2,
            10
           ],
           "values": [
            4,
            4,
            10,
            10,
            10,
            7,
            5,
            6,
            4,
            7,
            2,
            2,
            6,
            8,
            4,
            3,
            6,
            8,
            5,
            3,
            5,
            6,
            7,
            8,
            7,
            9,
            6,
            6,
            7,
            5,
            9,
            4,
            3,
            5,
            6,
            7,
            4,
            9,
            8,
            6,
            7,
            7,
            7,
            7,
            6,
            8,
            7,
            7,
            6,
            8,
            5,
            7,
            4,
            6,
            2,
            6,
            3,
            3,
            8,
            7,
            10,
            7,
            7,
            5,
            8,
            9,
            8,
            6,
            6,
            5,
            6,
            7,
            7,
            6,
            5,
            7,
            6,
            3,
            7,
            7,
            8,
            7,
            7,
            6,
            6,
            7,
            6,
            6,
            6,
            6,
            5,
            6,
            6,
            6,
            6,
            6,
            7,
            5,
            6,
            6
           ]
          },
          {
           "label": "n_estimators",
           "range": [
            100,
            200
           ],
           "values": [
            198,
            128,
            118,
            183,
            183,
            135,
            192,
            107,
            131,
            189,
            162,
            100,
            102,
            148,
            118,
            147,
            133,
            162,
            115,
            100,
            159,
            108,
            112,
            123,
            138,
            111,
            125,
            124,
            140,
            104,
            113,
            125,
            131,
            114,
            121,
            128,
            143,
            154,
            106,
            169,
            118,
            119,
            111,
            110,
            104,
            116,
            103,
            110,
            200,
            119,
            101,
            128,
            130,
            136,
            114,
            107,
            122,
            121,
            117,
            125,
            126,
            112,
            122,
            122,
            134,
            126,
            117,
            141,
            142,
            145,
            137,
            153,
            124,
            132,
            180,
            129,
            108,
            121,
            118,
            149,
            139,
            150,
            157,
            134,
            146,
            134,
            150,
            150,
            142,
            142,
            144,
            148,
            154,
            153,
            163,
            158,
            139,
            152,
            155,
            166
           ]
          },
          {
           "label": "subsample",
           "range": [
            0.10235248038612035,
            0.49892552403070617
           ],
           "values": [
            0.10235248038612035,
            0.4514862061688566,
            0.13638140982253597,
            0.2134252903051253,
            0.47218919560764583,
            0.471611776650944,
            0.39042624072648313,
            0.42757682399423314,
            0.3482210534611051,
            0.33708827393673074,
            0.26480062721444525,
            0.3613654996689528,
            0.4080829764996804,
            0.2911355996502235,
            0.40101150739865987,
            0.23448822167918193,
            0.3281206140188371,
            0.3782602139990848,
            0.3031192415532083,
            0.43298648299667686,
            0.34547814841552676,
            0.4235222769255183,
            0.4916669511539241,
            0.49767551577851593,
            0.4830562616805201,
            0.40764091729346585,
            0.4520856830804981,
            0.4375656371269379,
            0.45786493203346784,
            0.49892552403070617,
            0.12183869036482678,
            0.3698914867217931,
            0.4598818992043699,
            0.40679025652210676,
            0.45046974343029095,
            0.17920739730469215,
            0.3572623539598785,
            0.31114026649651483,
            0.38304777924370903,
            0.47629642232503644,
            0.41679731186420316,
            0.4395440554454717,
            0.41697220786895817,
            0.41117607283209123,
            0.4640994403031997,
            0.41921640347769673,
            0.39036893099488307,
            0.4457268349932397,
            0.4815346446066077,
            0.3900083075625135,
            0.2719160594812328,
            0.3217490340917662,
            0.34644753094305575,
            0.3669163129424219,
            0.42778834604917615,
            0.3987831647434538,
            0.4195257731421225,
            0.48987743262211497,
            0.47216076776192445,
            0.4197329970231551,
            0.4508230313413594,
            0.4227282125475807,
            0.4381385176656155,
            0.43685965677068633,
            0.46750696218959764,
            0.3997976265720293,
            0.4514850528129661,
            0.48962768714856014,
            0.42771613121791907,
            0.3731579317601609,
            0.46026239861837437,
            0.49548579281592114,
            0.4859487445127384,
            0.47693530855466176,
            0.4384672964194627,
            0.18629726437470234,
            0.41261543133633555,
            0.46172853943379477,
            0.4436020684383705,
            0.38096620888144056,
            0.44227318275081856,
            0.3995592569507322,
            0.43230540611980195,
            0.3831240890984344,
            0.3851019864344383,
            0.35580938528596556,
            0.41460654686962134,
            0.3332292209584136,
            0.38030644270141895,
            0.3753476435118857,
            0.40520784475791394,
            0.3907869871317748,
            0.44823116653372885,
            0.4155740200801629,
            0.38472585485447275,
            0.4264562461909391,
            0.36099028229673963,
            0.39692686340419725,
            0.45161965927948616,
            0.40939591071357634
           ]
          }
         ],
         "labelangle": 30,
         "labelside": "bottom",
         "line": {
          "color": [
           0.3130793856389086,
           0.48179919241799396,
           0.43782353462605245,
           0.4134892356612682,
           0.4783406960013662,
           0.48845331681602266,
           0.45387822500494146,
           0.49525846170470283,
           0.4973538257111885,
           0.48074607294648564,
           0.4717706050823354,
           0.48976972285758646,
           0.4994751652533763,
           0.47727441692463024,
           0.48604210954458543,
           0.43503876808299874,
           0.47729258579143885,
           0.4758487506920989,
           0.4831029439414053,
           0.4885242210360589,
           0.4845772436169174,
           0.496983493899186,
           0.49851325940385083,
           0.4624904661502251,
           0.48646432021796554,
           0.49410063217262257,
           0.5034591176569477,
           0.4833907694494329,
           0.4889074154723193,
           0.4942304309081047,
           0.443865446895355,
           0.49185225601519383,
           0.3815394173491256,
           0.4918215331029899,
           0.46999007025971673,
           0.44583209065002843,
           0.45741469324243617,
           0.4791516472662389,
           0.49225896964260585,
           0.48429905436793746,
           0.5113318696963327,
           0.48085736194703904,
           0.497808081006297,
           0.4652650945495417,
           0.47604010312065387,
           0.4954678412811401,
           0.46643283889671644,
           0.4786922355114468,
           0.4905667734113403,
           0.4581547847636681,
           0.45102972334495905,
           0.4695044820764377,
           0.4886043221042085,
           0.49174030225877774,
           0.4952258709036042,
           0.4852701173277202,
           0.5001125181259656,
           0.48456558967241037,
           0.4660763288558405,
           0.5071573556720268,
           0.47343053035648064,
           0.4679901795069811,
           0.5025977695978497,
           0.4866976385654421,
           0.48568650480520753,
           0.47340131707984556,
           0.4958372683349442,
           0.5069051535662974,
           0.48079632362195834,
           0.47935087654014213,
           0.4633726819925796,
           0.4758366615201929,
           0.48560182532810503,
           0.3743712230252271,
           0.4975875577664951,
           0.4568852771389246,
           0.4850958604366026,
           0.4883112147836881,
           0.5004992755360895,
           0.5144589466142062,
           0.494670511043652,
           0.46824429996403116,
           0.48877429101831515,
           0.5065056067114184,
           0.48073312169422844,
           0.463019138269832,
           0.5146052690060026,
           0.45659984279622934,
           0.5109417466304517,
           0.4779391940805965,
           0.48151680607683167,
           0.479991260753257,
           0.5019505272186631,
           0.4895896804960631,
           0.4795032664229809,
           0.48707562471680904,
           0.487552890919498,
           0.492405636394313,
           0.5008702050088358,
           0.47607434835015666
          ],
          "colorbar": {
           "title": {
            "text": "Objective Value"
           }
          },
          "colorscale": [
           [
            0,
            "rgb(247,251,255)"
           ],
           [
            0.125,
            "rgb(222,235,247)"
           ],
           [
            0.25,
            "rgb(198,219,239)"
           ],
           [
            0.375,
            "rgb(158,202,225)"
           ],
           [
            0.5,
            "rgb(107,174,214)"
           ],
           [
            0.625,
            "rgb(66,146,198)"
           ],
           [
            0.75,
            "rgb(33,113,181)"
           ],
           [
            0.875,
            "rgb(8,81,156)"
           ],
           [
            1,
            "rgb(8,48,107)"
           ]
          ],
          "reversescale": false,
          "showscale": true
         },
         "type": "parcoords"
        }
       ],
       "layout": {
        "template": {
         "data": {
          "bar": [
           {
            "error_x": {
             "color": "#2a3f5f"
            },
            "error_y": {
             "color": "#2a3f5f"
            },
            "marker": {
             "line": {
              "color": "#E5ECF6",
              "width": 0.5
             },
             "pattern": {
              "fillmode": "overlay",
              "size": 10,
              "solidity": 0.2
             }
            },
            "type": "bar"
           }
          ],
          "barpolar": [
           {
            "marker": {
             "line": {
              "color": "#E5ECF6",
              "width": 0.5
             },
             "pattern": {
              "fillmode": "overlay",
              "size": 10,
              "solidity": 0.2
             }
            },
            "type": "barpolar"
           }
          ],
          "carpet": [
           {
            "aaxis": {
             "endlinecolor": "#2a3f5f",
             "gridcolor": "white",
             "linecolor": "white",
             "minorgridcolor": "white",
             "startlinecolor": "#2a3f5f"
            },
            "baxis": {
             "endlinecolor": "#2a3f5f",
             "gridcolor": "white",
             "linecolor": "white",
             "minorgridcolor": "white",
             "startlinecolor": "#2a3f5f"
            },
            "type": "carpet"
           }
          ],
          "choropleth": [
           {
            "colorbar": {
             "outlinewidth": 0,
             "ticks": ""
            },
            "type": "choropleth"
           }
          ],
          "contour": [
           {
            "colorbar": {
             "outlinewidth": 0,
             "ticks": ""
            },
            "colorscale": [
             [
              0,
              "#0d0887"
             ],
             [
              0.1111111111111111,
              "#46039f"
             ],
             [
              0.2222222222222222,
              "#7201a8"
             ],
             [
              0.3333333333333333,
              "#9c179e"
             ],
             [
              0.4444444444444444,
              "#bd3786"
             ],
             [
              0.5555555555555556,
              "#d8576b"
             ],
             [
              0.6666666666666666,
              "#ed7953"
             ],
             [
              0.7777777777777778,
              "#fb9f3a"
             ],
             [
              0.8888888888888888,
              "#fdca26"
             ],
             [
              1,
              "#f0f921"
             ]
            ],
            "type": "contour"
           }
          ],
          "contourcarpet": [
           {
            "colorbar": {
             "outlinewidth": 0,
             "ticks": ""
            },
            "type": "contourcarpet"
           }
          ],
          "heatmap": [
           {
            "colorbar": {
             "outlinewidth": 0,
             "ticks": ""
            },
            "colorscale": [
             [
              0,
              "#0d0887"
             ],
             [
              0.1111111111111111,
              "#46039f"
             ],
             [
              0.2222222222222222,
              "#7201a8"
             ],
             [
              0.3333333333333333,
              "#9c179e"
             ],
             [
              0.4444444444444444,
              "#bd3786"
             ],
             [
              0.5555555555555556,
              "#d8576b"
             ],
             [
              0.6666666666666666,
              "#ed7953"
             ],
             [
              0.7777777777777778,
              "#fb9f3a"
             ],
             [
              0.8888888888888888,
              "#fdca26"
             ],
             [
              1,
              "#f0f921"
             ]
            ],
            "type": "heatmap"
           }
          ],
          "heatmapgl": [
           {
            "colorbar": {
             "outlinewidth": 0,
             "ticks": ""
            },
            "colorscale": [
             [
              0,
              "#0d0887"
             ],
             [
              0.1111111111111111,
              "#46039f"
             ],
             [
              0.2222222222222222,
              "#7201a8"
             ],
             [
              0.3333333333333333,
              "#9c179e"
             ],
             [
              0.4444444444444444,
              "#bd3786"
             ],
             [
              0.5555555555555556,
              "#d8576b"
             ],
             [
              0.6666666666666666,
              "#ed7953"
             ],
             [
              0.7777777777777778,
              "#fb9f3a"
             ],
             [
              0.8888888888888888,
              "#fdca26"
             ],
             [
              1,
              "#f0f921"
             ]
            ],
            "type": "heatmapgl"
           }
          ],
          "histogram": [
           {
            "marker": {
             "pattern": {
              "fillmode": "overlay",
              "size": 10,
              "solidity": 0.2
             }
            },
            "type": "histogram"
           }
          ],
          "histogram2d": [
           {
            "colorbar": {
             "outlinewidth": 0,
             "ticks": ""
            },
            "colorscale": [
             [
              0,
              "#0d0887"
             ],
             [
              0.1111111111111111,
              "#46039f"
             ],
             [
              0.2222222222222222,
              "#7201a8"
             ],
             [
              0.3333333333333333,
              "#9c179e"
             ],
             [
              0.4444444444444444,
              "#bd3786"
             ],
             [
              0.5555555555555556,
              "#d8576b"
             ],
             [
              0.6666666666666666,
              "#ed7953"
             ],
             [
              0.7777777777777778,
              "#fb9f3a"
             ],
             [
              0.8888888888888888,
              "#fdca26"
             ],
             [
              1,
              "#f0f921"
             ]
            ],
            "type": "histogram2d"
           }
          ],
          "histogram2dcontour": [
           {
            "colorbar": {
             "outlinewidth": 0,
             "ticks": ""
            },
            "colorscale": [
             [
              0,
              "#0d0887"
             ],
             [
              0.1111111111111111,
              "#46039f"
             ],
             [
              0.2222222222222222,
              "#7201a8"
             ],
             [
              0.3333333333333333,
              "#9c179e"
             ],
             [
              0.4444444444444444,
              "#bd3786"
             ],
             [
              0.5555555555555556,
              "#d8576b"
             ],
             [
              0.6666666666666666,
              "#ed7953"
             ],
             [
              0.7777777777777778,
              "#fb9f3a"
             ],
             [
              0.8888888888888888,
              "#fdca26"
             ],
             [
              1,
              "#f0f921"
             ]
            ],
            "type": "histogram2dcontour"
           }
          ],
          "mesh3d": [
           {
            "colorbar": {
             "outlinewidth": 0,
             "ticks": ""
            },
            "type": "mesh3d"
           }
          ],
          "parcoords": [
           {
            "line": {
             "colorbar": {
              "outlinewidth": 0,
              "ticks": ""
             }
            },
            "type": "parcoords"
           }
          ],
          "pie": [
           {
            "automargin": true,
            "type": "pie"
           }
          ],
          "scatter": [
           {
            "marker": {
             "colorbar": {
              "outlinewidth": 0,
              "ticks": ""
             }
            },
            "type": "scatter"
           }
          ],
          "scatter3d": [
           {
            "line": {
             "colorbar": {
              "outlinewidth": 0,
              "ticks": ""
             }
            },
            "marker": {
             "colorbar": {
              "outlinewidth": 0,
              "ticks": ""
             }
            },
            "type": "scatter3d"
           }
          ],
          "scattercarpet": [
           {
            "marker": {
             "colorbar": {
              "outlinewidth": 0,
              "ticks": ""
             }
            },
            "type": "scattercarpet"
           }
          ],
          "scattergeo": [
           {
            "marker": {
             "colorbar": {
              "outlinewidth": 0,
              "ticks": ""
             }
            },
            "type": "scattergeo"
           }
          ],
          "scattergl": [
           {
            "marker": {
             "colorbar": {
              "outlinewidth": 0,
              "ticks": ""
             }
            },
            "type": "scattergl"
           }
          ],
          "scattermapbox": [
           {
            "marker": {
             "colorbar": {
              "outlinewidth": 0,
              "ticks": ""
             }
            },
            "type": "scattermapbox"
           }
          ],
          "scatterpolar": [
           {
            "marker": {
             "colorbar": {
              "outlinewidth": 0,
              "ticks": ""
             }
            },
            "type": "scatterpolar"
           }
          ],
          "scatterpolargl": [
           {
            "marker": {
             "colorbar": {
              "outlinewidth": 0,
              "ticks": ""
             }
            },
            "type": "scatterpolargl"
           }
          ],
          "scatterternary": [
           {
            "marker": {
             "colorbar": {
              "outlinewidth": 0,
              "ticks": ""
             }
            },
            "type": "scatterternary"
           }
          ],
          "surface": [
           {
            "colorbar": {
             "outlinewidth": 0,
             "ticks": ""
            },
            "colorscale": [
             [
              0,
              "#0d0887"
             ],
             [
              0.1111111111111111,
              "#46039f"
             ],
             [
              0.2222222222222222,
              "#7201a8"
             ],
             [
              0.3333333333333333,
              "#9c179e"
             ],
             [
              0.4444444444444444,
              "#bd3786"
             ],
             [
              0.5555555555555556,
              "#d8576b"
             ],
             [
              0.6666666666666666,
              "#ed7953"
             ],
             [
              0.7777777777777778,
              "#fb9f3a"
             ],
             [
              0.8888888888888888,
              "#fdca26"
             ],
             [
              1,
              "#f0f921"
             ]
            ],
            "type": "surface"
           }
          ],
          "table": [
           {
            "cells": {
             "fill": {
              "color": "#EBF0F8"
             },
             "line": {
              "color": "white"
             }
            },
            "header": {
             "fill": {
              "color": "#C8D4E3"
             },
             "line": {
              "color": "white"
             }
            },
            "type": "table"
           }
          ]
         },
         "layout": {
          "annotationdefaults": {
           "arrowcolor": "#2a3f5f",
           "arrowhead": 0,
           "arrowwidth": 1
          },
          "autotypenumbers": "strict",
          "coloraxis": {
           "colorbar": {
            "outlinewidth": 0,
            "ticks": ""
           }
          },
          "colorscale": {
           "diverging": [
            [
             0,
             "#8e0152"
            ],
            [
             0.1,
             "#c51b7d"
            ],
            [
             0.2,
             "#de77ae"
            ],
            [
             0.3,
             "#f1b6da"
            ],
            [
             0.4,
             "#fde0ef"
            ],
            [
             0.5,
             "#f7f7f7"
            ],
            [
             0.6,
             "#e6f5d0"
            ],
            [
             0.7,
             "#b8e186"
            ],
            [
             0.8,
             "#7fbc41"
            ],
            [
             0.9,
             "#4d9221"
            ],
            [
             1,
             "#276419"
            ]
           ],
           "sequential": [
            [
             0,
             "#0d0887"
            ],
            [
             0.1111111111111111,
             "#46039f"
            ],
            [
             0.2222222222222222,
             "#7201a8"
            ],
            [
             0.3333333333333333,
             "#9c179e"
            ],
            [
             0.4444444444444444,
             "#bd3786"
            ],
            [
             0.5555555555555556,
             "#d8576b"
            ],
            [
             0.6666666666666666,
             "#ed7953"
            ],
            [
             0.7777777777777778,
             "#fb9f3a"
            ],
            [
             0.8888888888888888,
             "#fdca26"
            ],
            [
             1,
             "#f0f921"
            ]
           ],
           "sequentialminus": [
            [
             0,
             "#0d0887"
            ],
            [
             0.1111111111111111,
             "#46039f"
            ],
            [
             0.2222222222222222,
             "#7201a8"
            ],
            [
             0.3333333333333333,
             "#9c179e"
            ],
            [
             0.4444444444444444,
             "#bd3786"
            ],
            [
             0.5555555555555556,
             "#d8576b"
            ],
            [
             0.6666666666666666,
             "#ed7953"
            ],
            [
             0.7777777777777778,
             "#fb9f3a"
            ],
            [
             0.8888888888888888,
             "#fdca26"
            ],
            [
             1,
             "#f0f921"
            ]
           ]
          },
          "colorway": [
           "#636efa",
           "#EF553B",
           "#00cc96",
           "#ab63fa",
           "#FFA15A",
           "#19d3f3",
           "#FF6692",
           "#B6E880",
           "#FF97FF",
           "#FECB52"
          ],
          "font": {
           "color": "#2a3f5f"
          },
          "geo": {
           "bgcolor": "white",
           "lakecolor": "white",
           "landcolor": "#E5ECF6",
           "showlakes": true,
           "showland": true,
           "subunitcolor": "white"
          },
          "hoverlabel": {
           "align": "left"
          },
          "hovermode": "closest",
          "mapbox": {
           "style": "light"
          },
          "paper_bgcolor": "white",
          "plot_bgcolor": "#E5ECF6",
          "polar": {
           "angularaxis": {
            "gridcolor": "white",
            "linecolor": "white",
            "ticks": ""
           },
           "bgcolor": "#E5ECF6",
           "radialaxis": {
            "gridcolor": "white",
            "linecolor": "white",
            "ticks": ""
           }
          },
          "scene": {
           "xaxis": {
            "backgroundcolor": "#E5ECF6",
            "gridcolor": "white",
            "gridwidth": 2,
            "linecolor": "white",
            "showbackground": true,
            "ticks": "",
            "zerolinecolor": "white"
           },
           "yaxis": {
            "backgroundcolor": "#E5ECF6",
            "gridcolor": "white",
            "gridwidth": 2,
            "linecolor": "white",
            "showbackground": true,
            "ticks": "",
            "zerolinecolor": "white"
           },
           "zaxis": {
            "backgroundcolor": "#E5ECF6",
            "gridcolor": "white",
            "gridwidth": 2,
            "linecolor": "white",
            "showbackground": true,
            "ticks": "",
            "zerolinecolor": "white"
           }
          },
          "shapedefaults": {
           "line": {
            "color": "#2a3f5f"
           }
          },
          "ternary": {
           "aaxis": {
            "gridcolor": "white",
            "linecolor": "white",
            "ticks": ""
           },
           "baxis": {
            "gridcolor": "white",
            "linecolor": "white",
            "ticks": ""
           },
           "bgcolor": "#E5ECF6",
           "caxis": {
            "gridcolor": "white",
            "linecolor": "white",
            "ticks": ""
           }
          },
          "title": {
           "x": 0.05
          },
          "xaxis": {
           "automargin": true,
           "gridcolor": "white",
           "linecolor": "white",
           "ticks": "",
           "title": {
            "standoff": 15
           },
           "zerolinecolor": "white",
           "zerolinewidth": 2
          },
          "yaxis": {
           "automargin": true,
           "gridcolor": "white",
           "linecolor": "white",
           "ticks": "",
           "title": {
            "standoff": 15
           },
           "zerolinecolor": "white",
           "zerolinewidth": 2
          }
         }
        },
        "title": {
         "text": "Parallel Coordinate Plot"
        }
       }
      }
     },
     "metadata": {},
     "output_type": "display_data"
    }
   ],
   "source": [
    "optuna.visualization.plot_parallel_coordinate(study)"
   ]
  },
  {
   "cell_type": "code",
   "execution_count": 29,
   "id": "75db1ddf",
   "metadata": {},
   "outputs": [
    {
     "name": "stdout",
     "output_type": "stream",
     "text": [
      "Best trial: {'n_estimators': 150, 'max_depth': 19, 'min_samples_leaf': 7, 'min_samples_split': 6, 'subsample': 0.41460654686962134}\n"
     ]
    }
   ],
   "source": [
    "print(\"Best trial:\", study.best_trial.params)"
   ]
  },
  {
   "cell_type": "code",
   "execution_count": 30,
   "id": "574699dc",
   "metadata": {},
   "outputs": [
    {
     "data": {
      "text/plain": [
       "150"
      ]
     },
     "execution_count": 30,
     "metadata": {},
     "output_type": "execute_result"
    }
   ],
   "source": [
    "study.best_trial.params[\"n_estimators\"]"
   ]
  },
  {
   "cell_type": "code",
   "execution_count": 31,
   "id": "862eadd2",
   "metadata": {},
   "outputs": [
    {
     "data": {
      "text/html": [
       "<style>#sk-container-id-1 {color: black;background-color: white;}#sk-container-id-1 pre{padding: 0;}#sk-container-id-1 div.sk-toggleable {background-color: white;}#sk-container-id-1 label.sk-toggleable__label {cursor: pointer;display: block;width: 100%;margin-bottom: 0;padding: 0.3em;box-sizing: border-box;text-align: center;}#sk-container-id-1 label.sk-toggleable__label-arrow:before {content: \"▸\";float: left;margin-right: 0.25em;color: #696969;}#sk-container-id-1 label.sk-toggleable__label-arrow:hover:before {color: black;}#sk-container-id-1 div.sk-estimator:hover label.sk-toggleable__label-arrow:before {color: black;}#sk-container-id-1 div.sk-toggleable__content {max-height: 0;max-width: 0;overflow: hidden;text-align: left;background-color: #f0f8ff;}#sk-container-id-1 div.sk-toggleable__content pre {margin: 0.2em;color: black;border-radius: 0.25em;background-color: #f0f8ff;}#sk-container-id-1 input.sk-toggleable__control:checked~div.sk-toggleable__content {max-height: 200px;max-width: 100%;overflow: auto;}#sk-container-id-1 input.sk-toggleable__control:checked~label.sk-toggleable__label-arrow:before {content: \"▾\";}#sk-container-id-1 div.sk-estimator input.sk-toggleable__control:checked~label.sk-toggleable__label {background-color: #d4ebff;}#sk-container-id-1 div.sk-label input.sk-toggleable__control:checked~label.sk-toggleable__label {background-color: #d4ebff;}#sk-container-id-1 input.sk-hidden--visually {border: 0;clip: rect(1px 1px 1px 1px);clip: rect(1px, 1px, 1px, 1px);height: 1px;margin: -1px;overflow: hidden;padding: 0;position: absolute;width: 1px;}#sk-container-id-1 div.sk-estimator {font-family: monospace;background-color: #f0f8ff;border: 1px dotted black;border-radius: 0.25em;box-sizing: border-box;margin-bottom: 0.5em;}#sk-container-id-1 div.sk-estimator:hover {background-color: #d4ebff;}#sk-container-id-1 div.sk-parallel-item::after {content: \"\";width: 100%;border-bottom: 1px solid gray;flex-grow: 1;}#sk-container-id-1 div.sk-label:hover label.sk-toggleable__label {background-color: #d4ebff;}#sk-container-id-1 div.sk-serial::before {content: \"\";position: absolute;border-left: 1px solid gray;box-sizing: border-box;top: 0;bottom: 0;left: 50%;z-index: 0;}#sk-container-id-1 div.sk-serial {display: flex;flex-direction: column;align-items: center;background-color: white;padding-right: 0.2em;padding-left: 0.2em;position: relative;}#sk-container-id-1 div.sk-item {position: relative;z-index: 1;}#sk-container-id-1 div.sk-parallel {display: flex;align-items: stretch;justify-content: center;background-color: white;position: relative;}#sk-container-id-1 div.sk-item::before, #sk-container-id-1 div.sk-parallel-item::before {content: \"\";position: absolute;border-left: 1px solid gray;box-sizing: border-box;top: 0;bottom: 0;left: 50%;z-index: -1;}#sk-container-id-1 div.sk-parallel-item {display: flex;flex-direction: column;z-index: 1;position: relative;background-color: white;}#sk-container-id-1 div.sk-parallel-item:first-child::after {align-self: flex-end;width: 50%;}#sk-container-id-1 div.sk-parallel-item:last-child::after {align-self: flex-start;width: 50%;}#sk-container-id-1 div.sk-parallel-item:only-child::after {width: 0;}#sk-container-id-1 div.sk-dashed-wrapped {border: 1px dashed gray;margin: 0 0.4em 0.5em 0.4em;box-sizing: border-box;padding-bottom: 0.4em;background-color: white;}#sk-container-id-1 div.sk-label label {font-family: monospace;font-weight: bold;display: inline-block;line-height: 1.2em;}#sk-container-id-1 div.sk-label-container {text-align: center;}#sk-container-id-1 div.sk-container {/* jupyter's `normalize.less` sets `[hidden] { display: none; }` but bootstrap.min.css set `[hidden] { display: none !important; }` so we also need the `!important` here to be able to override the default hidden behavior on the sphinx rendered scikit-learn.org. See: https://github.com/scikit-learn/scikit-learn/issues/21755 */display: inline-block !important;position: relative;}#sk-container-id-1 div.sk-text-repr-fallback {display: none;}</style><div id=\"sk-container-id-1\" class=\"sk-top-container\"><div class=\"sk-text-repr-fallback\"><pre>GradientBoostingRegressor(max_depth=19, min_samples_leaf=7, min_samples_split=6,\n",
       "                          n_estimators=150, random_state=42,\n",
       "                          subsample=0.41460654686962134)</pre><b>In a Jupyter environment, please rerun this cell to show the HTML representation or trust the notebook. <br />On GitHub, the HTML representation is unable to render, please try loading this page with nbviewer.org.</b></div><div class=\"sk-container\" hidden><div class=\"sk-item\"><div class=\"sk-estimator sk-toggleable\"><input class=\"sk-toggleable__control sk-hidden--visually\" id=\"sk-estimator-id-1\" type=\"checkbox\" checked><label for=\"sk-estimator-id-1\" class=\"sk-toggleable__label sk-toggleable__label-arrow\">GradientBoostingRegressor</label><div class=\"sk-toggleable__content\"><pre>GradientBoostingRegressor(max_depth=19, min_samples_leaf=7, min_samples_split=6,\n",
       "                          n_estimators=150, random_state=42,\n",
       "                          subsample=0.41460654686962134)</pre></div></div></div></div></div>"
      ],
      "text/plain": [
       "GradientBoostingRegressor(max_depth=19, min_samples_leaf=7, min_samples_split=6,\n",
       "                          n_estimators=150, random_state=42,\n",
       "                          subsample=0.41460654686962134)"
      ]
     },
     "execution_count": 31,
     "metadata": {},
     "output_type": "execute_result"
    }
   ],
   "source": [
    "gb_params = {\n",
    "    \"random_state\": 42,\n",
    "    \"learning_rate\": 0.1,\n",
    "    \"n_estimators\": study.best_trial.params[\"n_estimators\"],\n",
    "    \"max_depth\": study.best_trial.params[\"max_depth\"],\n",
    "    \"min_samples_leaf\": study.best_trial.params[\"min_samples_leaf\"],\n",
    "    \"min_samples_split\": study.best_trial.params[\"min_samples_split\"],\n",
    "    \"subsample\": study.best_trial.params[\"subsample\"]\n",
    "}\n",
    "\n",
    "gb = GradientBoostingRegressor(**gb_params)\n",
    "gb.fit(As_X_train, As_y_train)"
   ]
  },
  {
   "cell_type": "code",
   "execution_count": 32,
   "id": "2be83ec7",
   "metadata": {},
   "outputs": [],
   "source": [
    "# gb_params = {\n",
    "#     \"random_state\": 42,\n",
    "#     \"learning_rate\": 0.1,\n",
    "#     \"n_estimators\": 100,\n",
    "#     \"max_depth\": 2,\n",
    "#     \"min_samples_leaf\": 8,\n",
    "#     \"min_samples_split\": 2,\n",
    "#     \"subsample\": 0.35775273871202684\n",
    "# }\n",
    "\n",
    "# gb = GradientBoostingRegressor(**gb_params)\n",
    "# gb.fit(As_X_train, As_y_train)"
   ]
  },
  {
   "cell_type": "code",
   "execution_count": 33,
   "id": "8577fb37",
   "metadata": {},
   "outputs": [],
   "source": [
    "y_train_pred = gb.predict(As_X_train)\n",
    "y_test_pred = gb.predict(As_X_test)"
   ]
  },
  {
   "cell_type": "code",
   "execution_count": 34,
   "id": "2ea0526a",
   "metadata": {},
   "outputs": [
    {
     "data": {
      "text/plain": [
       "<matplotlib.collections.PathCollection at 0x21d684af970>"
      ]
     },
     "execution_count": 34,
     "metadata": {},
     "output_type": "execute_result"
    },
    {
     "data": {
      "image/png": "[encoded data removed]",
      "text/plain": [
       "<Figure size 432x288 with 1 Axes>"
      ]
     },
     "metadata": {
      "needs_background": "light"
     },
     "output_type": "display_data"
    }
   ],
   "source": [
    "plt.scatter(y_train_pred, np.array(As_y_train))"
   ]
  },
  {
   "cell_type": "code",
   "execution_count": 35,
   "id": "d2a4dd85",
   "metadata": {},
   "outputs": [
    {
     "name": "stdout",
     "output_type": "stream",
     "text": [
      "Train RMSE:  0.08183464850632197\n",
      "Test RMSE:  0.36462016270666164\n"
     ]
    }
   ],
   "source": [
    "print(\"Train RMSE: \", np.sqrt(mean_squared_error(As_y_train, y_train_pred)))\n",
    "print(\"Test RMSE: \", np.sqrt(mean_squared_error(As_y_test, y_test_pred)))"
   ]
  },
  {
   "cell_type": "code",
   "execution_count": 36,
   "id": "08fe787a",
   "metadata": {},
   "outputs": [
    {
     "name": "stdout",
     "output_type": "stream",
     "text": [
      "Train R2:  0.9711300021590777\n",
      "Test R2:  0.47391237773537676\n"
     ]
    }
   ],
   "source": [
    "print(\"Train R2: \", r2_score(As_y_train, y_train_pred))\n",
    "print(\"Test R2: \", r2_score(As_y_test, y_test_pred))"
   ]
  },
  {
   "cell_type": "code",
   "execution_count": 37,
   "id": "5ec4820c",
   "metadata": {},
   "outputs": [
    {
     "data": {
      "image/png": "[encoded data removed]",
      "text/plain": [
       "<Figure size 432x288 with 1 Axes>"
      ]
     },
     "metadata": {
      "needs_background": "light"
     },
     "output_type": "display_data"
    }
   ],
   "source": [
    "import matplotlib.pyplot as plt\n",
    "\n",
    "plt.scatter(y_train_pred, np.array(As_y_train), color=\"orange\", alpha=0.3)\n",
    "plt.scatter(y_test_pred, np.array(As_y_test), color=\"green\", alpha=0.4)\n",
    "plt.axis(\"auto\") # scaled, tight, auto, image, square\n",
    "# plt.xlim([0, 1.5]) \n",
    "# plt.ylim(0, None) \n",
    "plt.xlabel('Predicted Values')\n",
    "plt.ylabel('Actual Values')\n",
    "\n",
    "# Add trendline\n",
    "# z = np.polyfit(y_train_pred, As_y_train, 1)\n",
    "# p = np.poly1d(z)\n",
    "# plt.plot(y_train_pred, p(y_train_pred), color='red', linestyle='-')\n",
    "\n",
    "# Add y=x line\n",
    "plt.plot([0, 1.75], [0, 1.75], color='red', linestyle='-')\n",
    "\n",
    "plt.show()"
   ]
  },
  {
   "cell_type": "code",
   "execution_count": 38,
   "id": "a08d5dc7",
   "metadata": {},
   "outputs": [],
   "source": [
    "# import shap\n",
    "\n",
    "# #background = shap.sample(As_X_train, 100)  # Adjust the number of samples as needed\n",
    "\n",
    "# explainer = shap.KernelExplainer(gb.predict, As_X_train)\n",
    "# shap_values = explainer.shap_values(As_X_train)\n",
    "\n",
    "# shap.summary_plot(shap_values, As_X_train)\n",
    "\n",
    "# shap.force_plot(explainer.expected_value, shap_values[0], As_X_train[0])\n",
    "\n",
    "# print(shap_values)"
   ]
  },
  {
   "attachments": {},
   "cell_type": "markdown",
   "id": "e0507d63",
   "metadata": {},
   "source": [
    "Cd"
   ]
  },
  {
   "attachments": {},
   "cell_type": "markdown",
   "id": "f8f809d9",
   "metadata": {},
   "source": [
    "Optimization"
   ]
  },
  {
   "cell_type": "code",
   "execution_count": 39,
   "id": "b7aeaf0a",
   "metadata": {},
   "outputs": [
    {
     "name": "stderr",
     "output_type": "stream",
     "text": [
      "\u001b[32m[I 2023-08-17 22:15:42,165]\u001b[0m A new study created in memory with name: gb_parameter_opt\u001b[0m\n",
      "\u001b[32m[I 2023-08-17 22:15:42,963]\u001b[0m Trial 0 finished with value: 0.5573331026755531 and parameters: {'n_estimators': 165, 'max_depth': 3, 'min_samples_leaf': 10, 'min_samples_split': 5, 'subsample': 0.39497761139782495}. Best is trial 0 with value: 0.5573331026755531.\u001b[0m\n",
      "\u001b[32m[I 2023-08-17 22:15:44,160]\u001b[0m Trial 1 finished with value: 0.5451641288933882 and parameters: {'n_estimators': 168, 'max_depth': 30, 'min_samples_leaf': 3, 'min_samples_split': 5, 'subsample': 0.21927529954984715}. Best is trial 0 with value: 0.5573331026755531.\u001b[0m\n",
      "\u001b[32m[I 2023-08-17 22:15:45,481]\u001b[0m Trial 2 finished with value: 0.5761498305630923 and parameters: {'n_estimators': 132, 'max_depth': 9, 'min_samples_leaf': 10, 'min_samples_split': 2, 'subsample': 0.4915916186261332}. Best is trial 2 with value: 0.5761498305630923.\u001b[0m\n",
      "\u001b[32m[I 2023-08-17 22:15:47,678]\u001b[0m Trial 3 finished with value: 0.5847760789965323 and parameters: {'n_estimators': 193, 'max_depth': 11, 'min_samples_leaf': 3, 'min_samples_split': 6, 'subsample': 0.37373556143149533}. Best is trial 3 with value: 0.5847760789965323.\u001b[0m\n",
      "\u001b[32m[I 2023-08-17 22:15:48,451]\u001b[0m Trial 4 finished with value: 0.5664143192362302 and parameters: {'n_estimators': 134, 'max_depth': 7, 'min_samples_leaf': 4, 'min_samples_split': 10, 'subsample': 0.2633528804458616}. Best is trial 3 with value: 0.5847760789965323.\u001b[0m\n",
      "\u001b[32m[I 2023-08-17 22:15:49,662]\u001b[0m Trial 5 finished with value: 0.5907341392413387 and parameters: {'n_estimators': 132, 'max_depth': 12, 'min_samples_leaf': 4, 'min_samples_split': 5, 'subsample': 0.34590506249827147}. Best is trial 5 with value: 0.5907341392413387.\u001b[0m\n",
      "\u001b[32m[I 2023-08-17 22:15:50,256]\u001b[0m Trial 6 finished with value: 0.5238487669930818 and parameters: {'n_estimators': 161, 'max_depth': 2, 'min_samples_leaf': 7, 'min_samples_split': 4, 'subsample': 0.3574915434116047}. Best is trial 5 with value: 0.5907341392413387.\u001b[0m\n",
      "\u001b[32m[I 2023-08-17 22:15:51,639]\u001b[0m Trial 7 finished with value: 0.5914393490046151 and parameters: {'n_estimators': 134, 'max_depth': 24, 'min_samples_leaf': 10, 'min_samples_split': 10, 'subsample': 0.41646393528755976}. Best is trial 7 with value: 0.5914393490046151.\u001b[0m\n",
      "\u001b[32m[I 2023-08-17 22:15:52,308]\u001b[0m Trial 8 finished with value: 0.523048234008671 and parameters: {'n_estimators': 181, 'max_depth': 3, 'min_samples_leaf': 3, 'min_samples_split': 5, 'subsample': 0.25024274330863694}. Best is trial 7 with value: 0.5914393490046151.\u001b[0m\n",
      "\u001b[32m[I 2023-08-17 22:15:53,215]\u001b[0m Trial 9 finished with value: 0.598355375757037 and parameters: {'n_estimators': 104, 'max_depth': 11, 'min_samples_leaf': 7, 'min_samples_split': 10, 'subsample': 0.40298004393299347}. Best is trial 9 with value: 0.598355375757037.\u001b[0m\n",
      "\u001b[32m[I 2023-08-17 22:15:53,562]\u001b[0m Trial 10 finished with value: 0.4972733144468652 and parameters: {'n_estimators': 101, 'max_depth': 17, 'min_samples_leaf': 7, 'min_samples_split': 8, 'subsample': 0.10207962950741636}. Best is trial 9 with value: 0.598355375757037.\u001b[0m\n",
      "\u001b[32m[I 2023-08-17 22:15:54,555]\u001b[0m Trial 11 finished with value: 0.5769190685388833 and parameters: {'n_estimators': 104, 'max_depth': 22, 'min_samples_leaf': 8, 'min_samples_split': 10, 'subsample': 0.42558622511212}. Best is trial 9 with value: 0.598355375757037.\u001b[0m\n",
      "\u001b[32m[I 2023-08-17 22:15:56,773]\u001b[0m Trial 12 finished with value: 0.5586911014410056 and parameters: {'n_estimators': 121, 'max_depth': 23, 'min_samples_leaf': 1, 'min_samples_split': 8, 'subsample': 0.4795598167898618}. Best is trial 9 with value: 0.598355375757037.\u001b[0m\n",
      "\u001b[32m[I 2023-08-17 22:15:57,906]\u001b[0m Trial 13 finished with value: 0.5889560261664984 and parameters: {'n_estimators': 120, 'max_depth': 17, 'min_samples_leaf': 8, 'min_samples_split': 8, 'subsample': 0.43712466213600687}. Best is trial 9 with value: 0.598355375757037.\u001b[0m\n",
      "\u001b[32m[I 2023-08-17 22:15:58,896]\u001b[0m Trial 14 finished with value: 0.5779302030963496 and parameters: {'n_estimators': 150, 'max_depth': 30, 'min_samples_leaf': 9, 'min_samples_split': 9, 'subsample': 0.3175961377311509}. Best is trial 9 with value: 0.598355375757037.\u001b[0m\n",
      "\u001b[32m[I 2023-08-17 22:16:00,181]\u001b[0m Trial 15 finished with value: 0.5781327922938593 and parameters: {'n_estimators': 111, 'max_depth': 23, 'min_samples_leaf': 6, 'min_samples_split': 9, 'subsample': 0.42876488733211204}. Best is trial 9 with value: 0.598355375757037.\u001b[0m\n",
      "\u001b[32m[I 2023-08-17 22:16:00,740]\u001b[0m Trial 16 finished with value: 0.5465140298224264 and parameters: {'n_estimators': 146, 'max_depth': 20, 'min_samples_leaf': 9, 'min_samples_split': 7, 'subsample': 0.17509987111629305}. Best is trial 9 with value: 0.598355375757037.\u001b[0m\n",
      "\u001b[32m[I 2023-08-17 22:16:01,596]\u001b[0m Trial 17 finished with value: 0.5732107772119118 and parameters: {'n_estimators': 118, 'max_depth': 26, 'min_samples_leaf': 6, 'min_samples_split': 10, 'subsample': 0.30920552649046323}. Best is trial 9 with value: 0.598355375757037.\u001b[0m\n",
      "\u001b[32m[I 2023-08-17 22:16:03,052]\u001b[0m Trial 18 finished with value: 0.6009585210238662 and parameters: {'n_estimators': 139, 'max_depth': 14, 'min_samples_leaf': 8, 'min_samples_split': 9, 'subsample': 0.4659726550469789}. Best is trial 18 with value: 0.6009585210238662.\u001b[0m\n",
      "\u001b[32m[I 2023-08-17 22:16:04,843]\u001b[0m Trial 19 finished with value: 0.571184512839553 and parameters: {'n_estimators': 150, 'max_depth': 13, 'min_samples_leaf': 5, 'min_samples_split': 9, 'subsample': 0.46661262755724875}. Best is trial 18 with value: 0.6009585210238662.\u001b[0m\n",
      "\u001b[32m[I 2023-08-17 22:16:06,591]\u001b[0m Trial 20 finished with value: 0.5899465306582738 and parameters: {'n_estimators': 199, 'max_depth': 7, 'min_samples_leaf': 7, 'min_samples_split': 7, 'subsample': 0.46813782246901336}. Best is trial 18 with value: 0.6009585210238662.\u001b[0m\n",
      "\u001b[32m[I 2023-08-17 22:16:07,830]\u001b[0m Trial 21 finished with value: 0.5771887224593462 and parameters: {'n_estimators': 142, 'max_depth': 15, 'min_samples_leaf': 9, 'min_samples_split': 10, 'subsample': 0.4062338357889526}. Best is trial 18 with value: 0.6009585210238662.\u001b[0m\n",
      "\u001b[32m[I 2023-08-17 22:16:09,085]\u001b[0m Trial 22 finished with value: 0.5980951013887854 and parameters: {'n_estimators': 126, 'max_depth': 19, 'min_samples_leaf': 8, 'min_samples_split': 9, 'subsample': 0.44715487010980104}. Best is trial 18 with value: 0.6009585210238662.\u001b[0m\n",
      "\u001b[32m[I 2023-08-17 22:16:10,198]\u001b[0m Trial 23 finished with value: 0.5977923537759766 and parameters: {'n_estimators': 112, 'max_depth': 19, 'min_samples_leaf': 8, 'min_samples_split': 9, 'subsample': 0.4504275875054836}. Best is trial 18 with value: 0.6009585210238662.\u001b[0m\n",
      "\u001b[32m[I 2023-08-17 22:16:11,702]\u001b[0m Trial 24 finished with value: 0.5836451971634855 and parameters: {'n_estimators': 127, 'max_depth': 16, 'min_samples_leaf': 7, 'min_samples_split': 7, 'subsample': 0.4946938003757865}. Best is trial 18 with value: 0.6009585210238662.\u001b[0m\n",
      "\u001b[32m[I 2023-08-17 22:16:12,639]\u001b[0m Trial 25 finished with value: 0.5953997855519841 and parameters: {'n_estimators': 108, 'max_depth': 14, 'min_samples_leaf': 8, 'min_samples_split': 8, 'subsample': 0.3972955800833081}. Best is trial 18 with value: 0.6009585210238662.\u001b[0m\n",
      "\u001b[32m[I 2023-08-17 22:16:13,722]\u001b[0m Trial 26 finished with value: 0.5888782095520444 and parameters: {'n_estimators': 141, 'max_depth': 10, 'min_samples_leaf': 6, 'min_samples_split': 9, 'subsample': 0.3403420204221226}. Best is trial 18 with value: 0.6009585210238662.\u001b[0m\n",
      "\u001b[32m[I 2023-08-17 22:16:14,737]\u001b[0m Trial 27 finished with value: 0.5775224791458221 and parameters: {'n_estimators': 116, 'max_depth': 7, 'min_samples_leaf': 5, 'min_samples_split': 2, 'subsample': 0.4465777588601384}. Best is trial 18 with value: 0.6009585210238662.\u001b[0m\n",
      "\u001b[32m[I 2023-08-17 22:16:15,724]\u001b[0m Trial 28 finished with value: 0.5950909608891153 and parameters: {'n_estimators': 125, 'max_depth': 19, 'min_samples_leaf': 9, 'min_samples_split': 9, 'subsample': 0.37500270610599445}. Best is trial 18 with value: 0.6009585210238662.\u001b[0m\n",
      "\u001b[32m[I 2023-08-17 22:16:16,737]\u001b[0m Trial 29 finished with value: 0.5642703413193805 and parameters: {'n_estimators': 160, 'max_depth': 5, 'min_samples_leaf': 10, 'min_samples_split': 6, 'subsample': 0.38849390098301334}. Best is trial 18 with value: 0.6009585210238662.\u001b[0m\n",
      "\u001b[32m[I 2023-08-17 22:16:18,604]\u001b[0m Trial 30 finished with value: 0.59420739952459 and parameters: {'n_estimators': 172, 'max_depth': 13, 'min_samples_leaf': 8, 'min_samples_split': 3, 'subsample': 0.4624406747242805}. Best is trial 18 with value: 0.6009585210238662.\u001b[0m\n",
      "\u001b[32m[I 2023-08-17 22:16:19,695]\u001b[0m Trial 31 finished with value: 0.5968586628227056 and parameters: {'n_estimators': 112, 'max_depth': 20, 'min_samples_leaf': 8, 'min_samples_split': 9, 'subsample': 0.43721757451706883}. Best is trial 18 with value: 0.6009585210238662.\u001b[0m\n",
      "\u001b[32m[I 2023-08-17 22:16:20,805]\u001b[0m Trial 32 finished with value: 0.5867008496248585 and parameters: {'n_estimators': 106, 'max_depth': 18, 'min_samples_leaf': 7, 'min_samples_split': 8, 'subsample': 0.45092645593039454}. Best is trial 18 with value: 0.6009585210238662.\u001b[0m\n",
      "\u001b[32m[I 2023-08-17 22:16:21,896]\u001b[0m Trial 33 finished with value: 0.5928806718899645 and parameters: {'n_estimators': 100, 'max_depth': 15, 'min_samples_leaf': 9, 'min_samples_split': 10, 'subsample': 0.49634830097371035}. Best is trial 18 with value: 0.6009585210238662.\u001b[0m\n",
      "\u001b[32m[I 2023-08-17 22:16:22,921]\u001b[0m Trial 34 finished with value: 0.5855467576618633 and parameters: {'n_estimators': 113, 'max_depth': 21, 'min_samples_leaf': 8, 'min_samples_split': 9, 'subsample': 0.4069138968232281}. Best is trial 18 with value: 0.6009585210238662.\u001b[0m\n",
      "\u001b[32m[I 2023-08-17 22:16:24,008]\u001b[0m Trial 35 finished with value: 0.5842290164378878 and parameters: {'n_estimators': 127, 'max_depth': 11, 'min_samples_leaf': 6, 'min_samples_split': 7, 'subsample': 0.3781905871818209}. Best is trial 18 with value: 0.6009585210238662.\u001b[0m\n",
      "\u001b[32m[I 2023-08-17 22:16:24,869]\u001b[0m Trial 36 finished with value: 0.565308133457239 and parameters: {'n_estimators': 136, 'max_depth': 25, 'min_samples_leaf': 7, 'min_samples_split': 10, 'subsample': 0.2829374557836706}. Best is trial 18 with value: 0.6009585210238662.\u001b[0m\n",
      "\u001b[32m[I 2023-08-17 22:16:26,009]\u001b[0m Trial 37 finished with value: 0.5898282738372824 and parameters: {'n_estimators': 123, 'max_depth': 9, 'min_samples_leaf': 10, 'min_samples_split': 6, 'subsample': 0.4770260706430922}. Best is trial 18 with value: 0.6009585210238662.\u001b[0m\n",
      "\u001b[32m[I 2023-08-17 22:16:26,986]\u001b[0m Trial 38 finished with value: 0.5923446911343497 and parameters: {'n_estimators': 130, 'max_depth': 17, 'min_samples_leaf': 9, 'min_samples_split': 8, 'subsample': 0.35621233714949485}. Best is trial 18 with value: 0.6009585210238662.\u001b[0m\n",
      "\u001b[32m[I 2023-08-17 22:16:28,858]\u001b[0m Trial 39 finished with value: 0.5813468928797437 and parameters: {'n_estimators': 116, 'max_depth': 27, 'min_samples_leaf': 1, 'min_samples_split': 10, 'subsample': 0.45009821726054405}. Best is trial 18 with value: 0.6009585210238662.\u001b[0m\n",
      "\u001b[32m[I 2023-08-17 22:16:29,897]\u001b[0m Trial 40 finished with value: 0.5651065843464051 and parameters: {'n_estimators': 138, 'max_depth': 12, 'min_samples_leaf': 8, 'min_samples_split': 9, 'subsample': 0.3322519604478399}. Best is trial 18 with value: 0.6009585210238662.\u001b[0m\n",
      "\u001b[32m[I 2023-08-17 22:16:30,982]\u001b[0m Trial 41 finished with value: 0.5760879787691866 and parameters: {'n_estimators': 110, 'max_depth': 20, 'min_samples_leaf': 8, 'min_samples_split': 9, 'subsample': 0.4248554974687269}. Best is trial 18 with value: 0.6009585210238662.\u001b[0m\n",
      "\u001b[32m[I 2023-08-17 22:16:32,183]\u001b[0m Trial 42 finished with value: 0.5846754988776617 and parameters: {'n_estimators': 113, 'max_depth': 19, 'min_samples_leaf': 7, 'min_samples_split': 9, 'subsample': 0.44219740941155666}. Best is trial 18 with value: 0.6009585210238662.\u001b[0m\n",
      "\u001b[32m[I 2023-08-17 22:16:33,130]\u001b[0m Trial 43 finished with value: 0.5934296706831792 and parameters: {'n_estimators': 105, 'max_depth': 21, 'min_samples_leaf': 8, 'min_samples_split': 8, 'subsample': 0.4093151298557502}. Best is trial 18 with value: 0.6009585210238662.\u001b[0m\n",
      "\u001b[32m[I 2023-08-17 22:16:34,702]\u001b[0m Trial 44 finished with value: 0.5962838476582497 and parameters: {'n_estimators': 131, 'max_depth': 18, 'min_samples_leaf': 7, 'min_samples_split': 10, 'subsample': 0.47553051446608335}. Best is trial 18 with value: 0.6009585210238662.\u001b[0m\n",
      "\u001b[32m[I 2023-08-17 22:16:35,215]\u001b[0m Trial 45 finished with value: 0.5471784038835572 and parameters: {'n_estimators': 122, 'max_depth': 16, 'min_samples_leaf': 9, 'min_samples_split': 10, 'subsample': 0.188787684984006}. Best is trial 18 with value: 0.6009585210238662.\u001b[0m\n",
      "\u001b[32m[I 2023-08-17 22:16:36,113]\u001b[0m Trial 46 finished with value: 0.5881606240645684 and parameters: {'n_estimators': 100, 'max_depth': 28, 'min_samples_leaf': 10, 'min_samples_split': 8, 'subsample': 0.43103949464962915}. Best is trial 18 with value: 0.6009585210238662.\u001b[0m\n",
      "\u001b[32m[I 2023-08-17 22:16:37,284]\u001b[0m Trial 47 finished with value: 0.581507894198148 and parameters: {'n_estimators': 116, 'max_depth': 22, 'min_samples_leaf': 8, 'min_samples_split': 9, 'subsample': 0.4557735341127673}. Best is trial 18 with value: 0.6009585210238662.\u001b[0m\n",
      "\u001b[32m[I 2023-08-17 22:16:38,551]\u001b[0m Trial 48 finished with value: 0.5853505616338254 and parameters: {'n_estimators': 105, 'max_depth': 14, 'min_samples_leaf': 7, 'min_samples_split': 10, 'subsample': 0.48815016626008795}. Best is trial 18 with value: 0.6009585210238662.\u001b[0m\n",
      "\u001b[32m[I 2023-08-17 22:16:39,960]\u001b[0m Trial 49 finished with value: 0.5865025561858779 and parameters: {'n_estimators': 154, 'max_depth': 9, 'min_samples_leaf': 6, 'min_samples_split': 4, 'subsample': 0.4206217142293331}. Best is trial 18 with value: 0.6009585210238662.\u001b[0m\n",
      "\u001b[32m[I 2023-08-17 22:16:40,306]\u001b[0m Trial 50 finished with value: 0.5131015755465234 and parameters: {'n_estimators': 111, 'max_depth': 18, 'min_samples_leaf': 8, 'min_samples_split': 9, 'subsample': 0.1153741280978326}. Best is trial 18 with value: 0.6009585210238662.\u001b[0m\n",
      "\u001b[32m[I 2023-08-17 22:16:41,783]\u001b[0m Trial 51 finished with value: 0.5962838476582497 and parameters: {'n_estimators': 131, 'max_depth': 18, 'min_samples_leaf': 7, 'min_samples_split': 10, 'subsample': 0.4750867268534993}. Best is trial 18 with value: 0.6009585210238662.\u001b[0m\n",
      "\u001b[32m[I 2023-08-17 22:16:43,430]\u001b[0m Trial 52 finished with value: 0.6005595808211245 and parameters: {'n_estimators': 143, 'max_depth': 23, 'min_samples_leaf': 5, 'min_samples_split': 10, 'subsample': 0.437061398522271}. Best is trial 18 with value: 0.6009585210238662.\u001b[0m\n",
      "\u001b[32m[I 2023-08-17 22:16:44,979]\u001b[0m Trial 53 finished with value: 0.5717209141802292 and parameters: {'n_estimators': 139, 'max_depth': 24, 'min_samples_leaf': 4, 'min_samples_split': 9, 'subsample': 0.3890074873720888}. Best is trial 18 with value: 0.6009585210238662.\u001b[0m\n",
      "\u001b[32m[I 2023-08-17 22:16:46,713]\u001b[0m Trial 54 finished with value: 0.6010793833117201 and parameters: {'n_estimators': 146, 'max_depth': 22, 'min_samples_leaf': 5, 'min_samples_split': 10, 'subsample': 0.43538435445523443}. Best is trial 54 with value: 0.6010793833117201.\u001b[0m\n",
      "\u001b[32m[I 2023-08-17 22:16:48,035]\u001b[0m Trial 55 finished with value: 0.586673647058306 and parameters: {'n_estimators': 145, 'max_depth': 23, 'min_samples_leaf': 5, 'min_samples_split': 10, 'subsample': 0.41638005480054524}. Best is trial 54 with value: 0.6010793833117201.\u001b[0m\n",
      "\u001b[32m[I 2023-08-17 22:16:49,344]\u001b[0m Trial 56 finished with value: 0.5804952301315408 and parameters: {'n_estimators': 154, 'max_depth': 22, 'min_samples_leaf': 3, 'min_samples_split': 10, 'subsample': 0.3648804810049815}. Best is trial 54 with value: 0.6010793833117201.\u001b[0m\n",
      "\u001b[32m[I 2023-08-17 22:16:51,077]\u001b[0m Trial 57 finished with value: 0.5959805139931488 and parameters: {'n_estimators': 144, 'max_depth': 24, 'min_samples_leaf': 4, 'min_samples_split': 10, 'subsample': 0.4999597203082135}. Best is trial 54 with value: 0.6010793833117201.\u001b[0m\n",
      "\u001b[32m[I 2023-08-17 22:16:52,647]\u001b[0m Trial 58 finished with value: 0.5951386853061399 and parameters: {'n_estimators': 155, 'max_depth': 21, 'min_samples_leaf': 5, 'min_samples_split': 7, 'subsample': 0.45814322165807103}. Best is trial 54 with value: 0.6010793833117201.\u001b[0m\n",
      "\u001b[32m[I 2023-08-17 22:16:53,362]\u001b[0m Trial 59 finished with value: 0.5689071698434718 and parameters: {'n_estimators': 147, 'max_depth': 12, 'min_samples_leaf': 4, 'min_samples_split': 5, 'subsample': 0.23798010720812243}. Best is trial 54 with value: 0.6010793833117201.\u001b[0m\n",
      "\u001b[32m[I 2023-08-17 22:16:54,527]\u001b[0m Trial 60 finished with value: 0.5861921537346815 and parameters: {'n_estimators': 135, 'max_depth': 26, 'min_samples_leaf': 5, 'min_samples_split': 10, 'subsample': 0.39964611925579513}. Best is trial 54 with value: 0.6010793833117201.\u001b[0m\n",
      "\u001b[32m[I 2023-08-17 22:16:55,567]\u001b[0m Trial 61 finished with value: 0.5894143816996318 and parameters: {'n_estimators': 119, 'max_depth': 20, 'min_samples_leaf': 6, 'min_samples_split': 9, 'subsample': 0.44289297681148493}. Best is trial 54 with value: 0.6010793833117201.\u001b[0m\n",
      "\u001b[32m[I 2023-08-17 22:16:56,893]\u001b[0m Trial 62 finished with value: 0.579968567534617 and parameters: {'n_estimators': 149, 'max_depth': 19, 'min_samples_leaf': 6, 'min_samples_split': 9, 'subsample': 0.4346327639156585}. Best is trial 54 with value: 0.6010793833117201.\u001b[0m\n",
      "\u001b[32m[I 2023-08-17 22:16:58,531]\u001b[0m Trial 63 finished with value: 0.5883366949789404 and parameters: {'n_estimators': 142, 'max_depth': 22, 'min_samples_leaf': 4, 'min_samples_split': 8, 'subsample': 0.4626818104596245}. Best is trial 54 with value: 0.6010793833117201.\u001b[0m\n",
      "\u001b[32m[I 2023-08-17 22:16:59,968]\u001b[0m Trial 64 finished with value: 0.5767759153606656 and parameters: {'n_estimators': 162, 'max_depth': 16, 'min_samples_leaf': 9, 'min_samples_split': 9, 'subsample': 0.48265891469893546}. Best is trial 54 with value: 0.6010793833117201.\u001b[0m\n",
      "\u001b[32m[I 2023-08-17 22:17:01,327]\u001b[0m Trial 65 finished with value: 0.5903740637172953 and parameters: {'n_estimators': 169, 'max_depth': 14, 'min_samples_leaf': 8, 'min_samples_split': 10, 'subsample': 0.435177135718094}. Best is trial 54 with value: 0.6010793833117201.\u001b[0m\n",
      "\u001b[32m[I 2023-08-17 22:17:02,422]\u001b[0m Trial 66 finished with value: 0.5940664732301073 and parameters: {'n_estimators': 127, 'max_depth': 23, 'min_samples_leaf': 5, 'min_samples_split': 8, 'subsample': 0.4120236062060293}. Best is trial 54 with value: 0.6010793833117201.\u001b[0m\n",
      "\u001b[32m[I 2023-08-17 22:17:03,657]\u001b[0m Trial 67 finished with value: 0.5904530614608446 and parameters: {'n_estimators': 103, 'max_depth': 17, 'min_samples_leaf': 2, 'min_samples_split': 9, 'subsample': 0.46722400682576665}. Best is trial 54 with value: 0.6010793833117201.\u001b[0m\n",
      "\u001b[32m[I 2023-08-17 22:17:04,405]\u001b[0m Trial 68 finished with value: 0.5836859089067777 and parameters: {'n_estimators': 108, 'max_depth': 21, 'min_samples_leaf': 8, 'min_samples_split': 10, 'subsample': 0.38302420419332234}. Best is trial 54 with value: 0.6010793833117201.\u001b[0m\n",
      "\u001b[32m[I 2023-08-17 22:17:05,405]\u001b[0m Trial 69 finished with value: 0.5830904001371093 and parameters: {'n_estimators': 124, 'max_depth': 19, 'min_samples_leaf': 9, 'min_samples_split': 9, 'subsample': 0.4242352479511975}. Best is trial 54 with value: 0.6010793833117201.\u001b[0m\n",
      "\u001b[32m[I 2023-08-17 22:17:06,833]\u001b[0m Trial 70 finished with value: 0.5908770108107204 and parameters: {'n_estimators': 178, 'max_depth': 25, 'min_samples_leaf': 7, 'min_samples_split': 10, 'subsample': 0.4013906785754072}. Best is trial 54 with value: 0.6010793833117201.\u001b[0m\n",
      "\u001b[32m[I 2023-08-17 22:17:08,121]\u001b[0m Trial 71 finished with value: 0.600107638783326 and parameters: {'n_estimators': 134, 'max_depth': 20, 'min_samples_leaf': 7, 'min_samples_split': 10, 'subsample': 0.47966414799989515}. Best is trial 54 with value: 0.6010793833117201.\u001b[0m\n",
      "\u001b[32m[I 2023-08-17 22:17:09,406]\u001b[0m Trial 72 finished with value: 0.5852342477766059 and parameters: {'n_estimators': 138, 'max_depth': 20, 'min_samples_leaf': 6, 'min_samples_split': 10, 'subsample': 0.44854055846148133}. Best is trial 54 with value: 0.6010793833117201.\u001b[0m\n",
      "\u001b[32m[I 2023-08-17 22:17:10,615]\u001b[0m Trial 73 finished with value: 0.5845652277117794 and parameters: {'n_estimators': 140, 'max_depth': 10, 'min_samples_leaf': 7, 'min_samples_split': 9, 'subsample': 0.48337582330528384}. Best is trial 54 with value: 0.6010793833117201.\u001b[0m\n",
      "\u001b[32m[I 2023-08-17 22:17:11,771]\u001b[0m Trial 74 finished with value: 0.5944232757544305 and parameters: {'n_estimators': 135, 'max_depth': 17, 'min_samples_leaf': 8, 'min_samples_split': 10, 'subsample': 0.46033303156558397}. Best is trial 54 with value: 0.6010793833117201.\u001b[0m\n",
      "\u001b[32m[I 2023-08-17 22:17:12,798]\u001b[0m Trial 75 finished with value: 0.5818555793507717 and parameters: {'n_estimators': 114, 'max_depth': 15, 'min_samples_leaf': 7, 'min_samples_split': 9, 'subsample': 0.44434455379522214}. Best is trial 54 with value: 0.6010793833117201.\u001b[0m\n",
      "\u001b[32m[I 2023-08-17 22:17:13,806]\u001b[0m Trial 76 finished with value: 0.5889571225360914 and parameters: {'n_estimators': 128, 'max_depth': 20, 'min_samples_leaf': 8, 'min_samples_split': 8, 'subsample': 0.43241486006014884}. Best is trial 54 with value: 0.6010793833117201.\u001b[0m\n",
      "\u001b[32m[I 2023-08-17 22:17:15,136]\u001b[0m Trial 77 finished with value: 0.589079481405531 and parameters: {'n_estimators': 133, 'max_depth': 13, 'min_samples_leaf': 5, 'min_samples_split': 10, 'subsample': 0.472537338457922}. Best is trial 54 with value: 0.6010793833117201.\u001b[0m\n",
      "\u001b[32m[I 2023-08-17 22:17:15,828]\u001b[0m Trial 78 finished with value: 0.5826797053671339 and parameters: {'n_estimators': 109, 'max_depth': 6, 'min_samples_leaf': 9, 'min_samples_split': 9, 'subsample': 0.45377359483591045}. Best is trial 54 with value: 0.6010793833117201.\u001b[0m\n",
      "\u001b[32m[I 2023-08-17 22:17:16,504]\u001b[0m Trial 79 finished with value: 0.5900321047396914 and parameters: {'n_estimators': 119, 'max_depth': 21, 'min_samples_leaf': 6, 'min_samples_split': 10, 'subsample': 0.29326125995965274}. Best is trial 54 with value: 0.6010793833117201.\u001b[0m\n",
      "\u001b[32m[I 2023-08-17 22:17:17,994]\u001b[0m Trial 80 finished with value: 0.5991624059613685 and parameters: {'n_estimators': 142, 'max_depth': 24, 'min_samples_leaf': 7, 'min_samples_split': 4, 'subsample': 0.49135515905072163}. Best is trial 54 with value: 0.6010793833117201.\u001b[0m\n",
      "\u001b[32m[I 2023-08-17 22:17:19,506]\u001b[0m Trial 81 finished with value: 0.5927061953978796 and parameters: {'n_estimators': 143, 'max_depth': 24, 'min_samples_leaf': 7, 'min_samples_split': 4, 'subsample': 0.4903597176349467}. Best is trial 54 with value: 0.6010793833117201.\u001b[0m\n",
      "\u001b[32m[I 2023-08-17 22:17:20,822]\u001b[0m Trial 82 finished with value: 0.5893579373454716 and parameters: {'n_estimators': 147, 'max_depth': 23, 'min_samples_leaf': 8, 'min_samples_split': 3, 'subsample': 0.4691361620851145}. Best is trial 54 with value: 0.6010793833117201.\u001b[0m\n",
      "\u001b[32m[I 2023-08-17 22:17:22,273]\u001b[0m Trial 83 finished with value: 0.5875097638533314 and parameters: {'n_estimators': 152, 'max_depth': 29, 'min_samples_leaf': 8, 'min_samples_split': 4, 'subsample': 0.48336380963282644}. Best is trial 54 with value: 0.6010793833117201.\u001b[0m\n",
      "\u001b[32m[I 2023-08-17 22:17:23,725]\u001b[0m Trial 84 finished with value: 0.576999182006096 and parameters: {'n_estimators': 158, 'max_depth': 22, 'min_samples_leaf': 6, 'min_samples_split': 10, 'subsample': 0.4377330545123268}. Best is trial 54 with value: 0.6010793833117201.\u001b[0m\n",
      "\u001b[32m[I 2023-08-17 22:17:24,553]\u001b[0m Trial 85 finished with value: 0.5763060516405007 and parameters: {'n_estimators': 102, 'max_depth': 25, 'min_samples_leaf': 7, 'min_samples_split': 5, 'subsample': 0.4203584281107291}. Best is trial 54 with value: 0.6010793833117201.\u001b[0m\n",
      "\u001b[32m[I 2023-08-17 22:17:25,920]\u001b[0m Trial 86 finished with value: 0.6010026031416309 and parameters: {'n_estimators': 137, 'max_depth': 18, 'min_samples_leaf': 7, 'min_samples_split': 2, 'subsample': 0.49606234909260843}. Best is trial 54 with value: 0.6010793833117201.\u001b[0m\n",
      "\u001b[32m[I 2023-08-17 22:17:27,291]\u001b[0m Trial 87 finished with value: 0.5973114663480533 and parameters: {'n_estimators': 137, 'max_depth': 19, 'min_samples_leaf': 7, 'min_samples_split': 2, 'subsample': 0.49739297246553743}. Best is trial 54 with value: 0.6010793833117201.\u001b[0m\n",
      "\u001b[32m[I 2023-08-17 22:17:27,652]\u001b[0m Trial 88 finished with value: 0.44492361298873034 and parameters: {'n_estimators': 141, 'max_depth': 1, 'min_samples_leaf': 6, 'min_samples_split': 5, 'subsample': 0.4867770739312548}. Best is trial 54 with value: 0.6010793833117201.\u001b[0m\n",
      "\u001b[32m[I 2023-08-17 22:17:29,066]\u001b[0m Trial 89 finished with value: 0.5799444580070074 and parameters: {'n_estimators': 129, 'max_depth': 18, 'min_samples_leaf': 5, 'min_samples_split': 3, 'subsample': 0.4758623016046076}. Best is trial 54 with value: 0.6010793833117201.\u001b[0m\n",
      "\u001b[32m[I 2023-08-17 22:17:30,401]\u001b[0m Trial 90 finished with value: 0.5816141547359929 and parameters: {'n_estimators': 149, 'max_depth': 16, 'min_samples_leaf': 7, 'min_samples_split': 2, 'subsample': 0.456657493734135}. Best is trial 54 with value: 0.6010793833117201.\u001b[0m\n",
      "\u001b[32m[I 2023-08-17 22:17:31,712]\u001b[0m Trial 91 finished with value: 0.5967454308304934 and parameters: {'n_estimators': 133, 'max_depth': 19, 'min_samples_leaf': 7, 'min_samples_split': 2, 'subsample': 0.4991197394952047}. Best is trial 54 with value: 0.6010793833117201.\u001b[0m\n",
      "\u001b[32m[I 2023-08-17 22:17:33,036]\u001b[0m Trial 92 finished with value: 0.6028896350253324 and parameters: {'n_estimators': 138, 'max_depth': 17, 'min_samples_leaf': 7, 'min_samples_split': 2, 'subsample': 0.49200131764666094}. Best is trial 92 with value: 0.6028896350253324.\u001b[0m\n",
      "\u001b[32m[I 2023-08-17 22:17:34,359]\u001b[0m Trial 93 finished with value: 0.590083549525857 and parameters: {'n_estimators': 145, 'max_depth': 18, 'min_samples_leaf': 7, 'min_samples_split': 2, 'subsample': 0.4671378256696946}. Best is trial 92 with value: 0.6028896350253324.\u001b[0m\n",
      "\u001b[32m[I 2023-08-17 22:17:35,471]\u001b[0m Trial 94 finished with value: 0.5891070548411383 and parameters: {'n_estimators': 139, 'max_depth': 8, 'min_samples_leaf': 6, 'min_samples_split': 3, 'subsample': 0.4895966890100623}. Best is trial 92 with value: 0.6028896350253324.\u001b[0m\n",
      "\u001b[32m[I 2023-08-17 22:17:36,605]\u001b[0m Trial 95 finished with value: 0.5975424381880463 and parameters: {'n_estimators': 136, 'max_depth': 17, 'min_samples_leaf': 8, 'min_samples_split': 3, 'subsample': 0.4513016486314235}. Best is trial 92 with value: 0.6028896350253324.\u001b[0m\n",
      "\u001b[32m[I 2023-08-17 22:17:37,924]\u001b[0m Trial 96 finished with value: 0.5973158695431783 and parameters: {'n_estimators': 143, 'max_depth': 21, 'min_samples_leaf': 7, 'min_samples_split': 2, 'subsample': 0.47360971608959546}. Best is trial 92 with value: 0.6028896350253324.\u001b[0m\n",
      "\u001b[32m[I 2023-08-17 22:17:39,063]\u001b[0m Trial 97 finished with value: 0.5916082594594242 and parameters: {'n_estimators': 133, 'max_depth': 14, 'min_samples_leaf': 8, 'min_samples_split': 2, 'subsample': 0.481831813526425}. Best is trial 92 with value: 0.6028896350253324.\u001b[0m\n",
      "\u001b[32m[I 2023-08-17 22:17:40,821]\u001b[0m Trial 98 finished with value: 0.5823052226282297 and parameters: {'n_estimators': 191, 'max_depth': 15, 'min_samples_leaf': 6, 'min_samples_split': 6, 'subsample': 0.46274174398158774}. Best is trial 92 with value: 0.6028896350253324.\u001b[0m\n",
      "\u001b[32m[I 2023-08-17 22:17:42,201]\u001b[0m Trial 99 finished with value: 0.6037106484661617 and parameters: {'n_estimators': 126, 'max_depth': 23, 'min_samples_leaf': 5, 'min_samples_split': 10, 'subsample': 0.4929601862393594}. Best is trial 99 with value: 0.6037106484661617.\u001b[0m\n"
     ]
    },
    {
     "name": "stdout",
     "output_type": "stream",
     "text": [
      "Best r2:  0.6037106484661617\n",
      "Best trial: {'n_estimators': 126, 'max_depth': 23, 'min_samples_leaf': 5, 'min_samples_split': 10, 'subsample': 0.4929601862393594}\n"
     ]
    }
   ],
   "source": [
    "sampler = TPESampler()\n",
    "study = optuna.create_study(\n",
    "    study_name=\"gb_parameter_opt\",\n",
    "    direction=\"maximize\",\n",
    "    sampler=sampler,\n",
    ")\n",
    "\n",
    "study.optimize(lambda trial : objectiveGB(trial, Cd_X_train, Cd_y_train), n_trials=100)\n",
    "print(\"Best r2: \", study.best_value)\n",
    "print(\"Best trial:\", study.best_trial.params)"
   ]
  },
  {
   "cell_type": "code",
   "execution_count": 40,
   "id": "861f88d8",
   "metadata": {},
   "outputs": [
    {
     "data": {
      "application/vnd.plotly.v1+json": {
       "config": {
        "plotlyServerURL": "https://plot.ly"
       },
       "data": [
        {
         "dimensions": [
          {
           "label": "Objective Value",
           "range": [
            0.44492361298873034,
            0.6037106484661617
           ],
           "values": [
            0.5573331026755531,
            0.5451641288933882,
            0.5761498305630923,
            0.5847760789965323,
            0.5664143192362302,
            0.5907341392413387,
            0.5238487669930818,
            0.5914393490046151,
            0.523048234008671,
            0.598355375757037,
            0.4972733144468652,
            0.5769190685388833,
            0.5586911014410056,
            0.5889560261664984,
            0.5779302030963496,
            0.5781327922938593,
            0.5465140298224264,
            0.5732107772119118,
            0.6009585210238662,
            0.571184512839553,
            0.5899465306582738,
            0.5771887224593462,
            0.5980951013887854,
            0.5977923537759766,
            0.5836451971634855,
            0.5953997855519841,
            0.5888782095520444,
            0.5775224791458221,
            0.5950909608891153,
            0.5642703413193805,
            0.59420739952459,
            0.5968586628227056,
            0.5867008496248585,
            0.5928806718899645,
            0.5855467576618633,
            0.5842290164378878,
            0.565308133457239,
            0.5898282738372824,
            0.5923446911343497,
            0.5813468928797437,
            0.5651065843464051,
            0.5760879787691866,
            0.5846754988776617,
            0.5934296706831792,
            0.5962838476582497,
            0.5471784038835572,
            0.5881606240645684,
            0.581507894198148,
            0.5853505616338254,
            0.5865025561858779,
            0.5131015755465234,
            0.5962838476582497,
            0.6005595808211245,
            0.5717209141802292,
            0.6010793833117201,
            0.586673647058306,
            0.5804952301315408,
            0.5959805139931488,
            0.5951386853061399,
            0.5689071698434718,
            0.5861921537346815,
            0.5894143816996318,
            0.579968567534617,
            0.5883366949789404,
            0.5767759153606656,
            0.5903740637172953,
            0.5940664732301073,
            0.5904530614608446,
            0.5836859089067777,
            0.5830904001371093,
            0.5908770108107204,
            0.600107638783326,
            0.5852342477766059,
            0.5845652277117794,
            0.5944232757544305,
            0.5818555793507717,
            0.5889571225360914,
            0.589079481405531,
            0.5826797053671339,
            0.5900321047396914,
            0.5991624059613685,
            0.5927061953978796,
            0.5893579373454716,
            0.5875097638533314,
            0.576999182006096,
            0.5763060516405007,
            0.6010026031416309,
            0.5973114663480533,
            0.44492361298873034,
            0.5799444580070074,
            0.5816141547359929,
            0.5967454308304934,
            0.6028896350253324,
            0.590083549525857,
            0.5891070548411383,
            0.5975424381880463,
            0.5973158695431783,
            0.5916082594594242,
            0.5823052226282297,
            0.6037106484661617
           ]
          },
          {
           "label": "max_depth",
           "range": [
            1,
            30
           ],
           "values": [
            3,
            30,
            9,
            11,
            7,
            12,
            2,
            24,
            3,
            11,
            17,
            22,
            23,
            17,
            30,
            23,
            20,
            26,
            14,
            13,
            7,
            15,
            19,
            19,
            16,
            14,
            10,
            7,
            19,
            5,
            13,
            20,
            18,
            15,
            21,
            11,
            25,
            9,
            17,
            27,
            12,
            20,
            19,
            21,
            18,
            16,
            28,
            22,
            14,
            9,
            18,
            18,
            23,
            24,
            22,
            23,
            22,
            24,
            21,
            12,
            26,
            20,
            19,
            22,
            16,
            14,
            23,
            17,
            21,
            19,
            25,
            20,
            20,
            10,
            17,
            15,
            20,
            13,
            6,
            21,
            24,
            24,
            23,
            29,
            22,
            25,
            18,
            19,
            1,
            18,
            16,
            19,
            17,
            18,
            8,
            17,
            21,
            14,
            15,
            23
           ]
          },
          {
           "label": "min_samples_leaf",
           "range": [
            1,
            10
           ],
           "values": [
            10,
            3,
            10,
            3,
            4,
            4,
            7,
            10,
            3,
            7,
            7,
            8,
            1,
            8,
            9,
            6,
            9,
            6,
            8,
            5,
            7,
            9,
            8,
            8,
            7,
            8,
            6,
            5,
            9,
            10,
            8,
            8,
            7,
            9,
            8,
            6,
            7,
            10,
            9,
            1,
            8,
            8,
            7,
            8,
            7,
            9,
            10,
            8,
            7,
            6,
            8,
            7,
            5,
            4,
            5,
            5,
            3,
            4,
            5,
            4,
            5,
            6,
            6,
            4,
            9,
            8,
            5,
            2,
            8,
            9,
            7,
            7,
            6,
            7,
            8,
            7,
            8,
            5,
            9,
            6,
            7,
            7,
            8,
            8,
            6,
            7,
            7,
            7,
            6,
            5,
            7,
            7,
            7,
            7,
            6,
            8,
            7,
            8,
            6,
            5
           ]
          },
          {
           "label": "min_samples_split",
           "range": [
            2,
            10
           ],
           "values": [
            5,
            5,
            2,
            6,
            10,
            5,
            4,
            10,
            5,
            10,
            8,
            10,
            8,
            8,
            9,
            9,
            7,
            10,
            9,
            9,
            7,
            10,
            9,
            9,
            7,
            8,
            9,
            2,
            9,
            6,
            3,
            9,
            8,
            10,
            9,
            7,
            10,
            6,
            8,
            10,
            9,
            9,
            9,
            8,
            10,
            10,
            8,
            9,
            10,
            4,
            9,
            10,
            10,
            9,
            10,
            10,
            10,
            10,
            7,
            5,
            10,
            9,
            9,
            8,
            9,
            10,
            8,
            9,
            10,
            9,
            10,
            10,
            10,
            9,
            10,
            9,
            8,
            10,
            9,
            10,
            4,
            4,
            3,
            4,
            10,
            5,
            2,
            2,
            5,
            3,
            2,
            2,
            2,
            2,
            3,
            3,
            2,
            2,
            6,
            10
           ]
          },
          {
           "label": "n_estimators",
           "range": [
            100,
            199
           ],
           "values": [
            165,
            168,
            132,
            193,
            134,
            132,
            161,
            134,
            181,
            104,
            101,
            104,
            121,
            120,
            150,
            111,
            146,
            118,
            139,
            150,
            199,
            142,
            126,
            112,
            127,
            108,
            141,
            116,
            125,
            160,
            172,
            112,
            106,
            100,
            113,
            127,
            136,
            123,
            130,
            116,
            138,
            110,
            113,
            105,
            131,
            122,
            100,
            116,
            105,
            154,
            111,
            131,
            143,
            139,
            146,
            145,
            154,
            144,
            155,
            147,
            135,
            119,
            149,
            142,
            162,
            169,
            127,
            103,
            108,
            124,
            178,
            134,
            138,
            140,
            135,
            114,
            128,
            133,
            109,
            119,
            142,
            143,
            147,
            152,
            158,
            102,
            137,
            137,
            141,
            129,
            149,
            133,
            138,
            145,
            139,
            136,
            143,
            133,
            191,
            126
           ]
          },
          {
           "label": "subsample",
           "range": [
            0.10207962950741636,
            0.4999597203082135
           ],
           "values": [
            0.39497761139782495,
            0.21927529954984715,
            0.4915916186261332,
            0.37373556143149533,
            0.2633528804458616,
            0.34590506249827147,
            0.3574915434116047,
            0.41646393528755976,
            0.25024274330863694,
            0.40298004393299347,
            0.10207962950741636,
            0.42558622511212,
            0.4795598167898618,
            0.43712466213600687,
            0.3175961377311509,
            0.42876488733211204,
            0.17509987111629305,
            0.30920552649046323,
            0.4659726550469789,
            0.46661262755724875,
            0.46813782246901336,
            0.4062338357889526,
            0.44715487010980104,
            0.4504275875054836,
            0.4946938003757865,
            0.3972955800833081,
            0.3403420204221226,
            0.4465777588601384,
            0.37500270610599445,
            0.38849390098301334,
            0.4624406747242805,
            0.43721757451706883,
            0.45092645593039454,
            0.49634830097371035,
            0.4069138968232281,
            0.3781905871818209,
            0.2829374557836706,
            0.4770260706430922,
            0.35621233714949485,
            0.45009821726054405,
            0.3322519604478399,
            0.4248554974687269,
            0.44219740941155666,
            0.4093151298557502,
            0.47553051446608335,
            0.188787684984006,
            0.43103949464962915,
            0.4557735341127673,
            0.48815016626008795,
            0.4206217142293331,
            0.1153741280978326,
            0.4750867268534993,
            0.437061398522271,
            0.3890074873720888,
            0.43538435445523443,
            0.41638005480054524,
            0.3648804810049815,
            0.4999597203082135,
            0.45814322165807103,
            0.23798010720812243,
            0.39964611925579513,
            0.44289297681148493,
            0.4346327639156585,
            0.4626818104596245,
            0.48265891469893546,
            0.435177135718094,
            0.4120236062060293,
            0.46722400682576665,
            0.38302420419332234,
            0.4242352479511975,
            0.4013906785754072,
            0.47966414799989515,
            0.44854055846148133,
            0.48337582330528384,
            0.46033303156558397,
            0.44434455379522214,
            0.43241486006014884,
            0.472537338457922,
            0.45377359483591045,
            0.29326125995965274,
            0.49135515905072163,
            0.4903597176349467,
            0.4691361620851145,
            0.48336380963282644,
            0.4377330545123268,
            0.4203584281107291,
            0.49606234909260843,
            0.49739297246553743,
            0.4867770739312548,
            0.4758623016046076,
            0.456657493734135,
            0.4991197394952047,
            0.49200131764666094,
            0.4671378256696946,
            0.4895966890100623,
            0.4513016486314235,
            0.47360971608959546,
            0.481831813526425,
            0.46274174398158774,
            0.4929601862393594
           ]
          }
         ],
         "labelangle": 30,
         "labelside": "bottom",
         "line": {
          "color": [
           0.5573331026755531,
           0.5451641288933882,
           0.5761498305630923,
           0.5847760789965323,
           0.5664143192362302,
           0.5907341392413387,
           0.5238487669930818,
           0.5914393490046151,
           0.523048234008671,
           0.598355375757037,
           0.4972733144468652,
           0.5769190685388833,
           0.5586911014410056,
           0.5889560261664984,
           0.5779302030963496,
           0.5781327922938593,
           0.5465140298224264,
           0.5732107772119118,
           0.6009585210238662,
           0.571184512839553,
           0.5899465306582738,
           0.5771887224593462,
           0.5980951013887854,
           0.5977923537759766,
           0.5836451971634855,
           0.5953997855519841,
           0.5888782095520444,
           0.5775224791458221,
           0.5950909608891153,
           0.5642703413193805,
           0.59420739952459,
           0.5968586628227056,
           0.5867008496248585,
           0.5928806718899645,
           0.5855467576618633,
           0.5842290164378878,
           0.565308133457239,
           0.5898282738372824,
           0.5923446911343497,
           0.5813468928797437,
           0.5651065843464051,
           0.5760879787691866,
           0.5846754988776617,
           0.5934296706831792,
           0.5962838476582497,
           0.5471784038835572,
           0.5881606240645684,
           0.581507894198148,
           0.5853505616338254,
           0.5865025561858779,
           0.5131015755465234,
           0.5962838476582497,
           0.6005595808211245,
           0.5717209141802292,
           0.6010793833117201,
           0.586673647058306,
           0.5804952301315408,
           0.5959805139931488,
           0.5951386853061399,
           0.5689071698434718,
           0.5861921537346815,
           0.5894143816996318,
           0.579968567534617,
           0.5883366949789404,
           0.5767759153606656,
           0.5903740637172953,
           0.5940664732301073,
           0.5904530614608446,
           0.5836859089067777,
           0.5830904001371093,
           0.5908770108107204,
           0.600107638783326,
           0.5852342477766059,
           0.5845652277117794,
           0.5944232757544305,
           0.5818555793507717,
           0.5889571225360914,
           0.589079481405531,
           0.5826797053671339,
           0.5900321047396914,
           0.5991624059613685,
           0.5927061953978796,
           0.5893579373454716,
           0.5875097638533314,
           0.576999182006096,
           0.5763060516405007,
           0.6010026031416309,
           0.5973114663480533,
           0.44492361298873034,
           0.5799444580070074,
           0.5816141547359929,
           0.5967454308304934,
           0.6028896350253324,
           0.590083549525857,
           0.5891070548411383,
           0.5975424381880463,
           0.5973158695431783,
           0.5916082594594242,
           0.5823052226282297,
           0.6037106484661617
          ],
          "colorbar": {
           "title": {
            "text": "Objective Value"
           }
          },
          "colorscale": [
           [
            0,
            "rgb(247,251,255)"
           ],
           [
            0.125,
            "rgb(222,235,247)"
           ],
           [
            0.25,
            "rgb(198,219,239)"
           ],
           [
            0.375,
            "rgb(158,202,225)"
           ],
           [
            0.5,
            "rgb(107,174,214)"
           ],
           [
            0.625,
            "rgb(66,146,198)"
           ],
           [
            0.75,
            "rgb(33,113,181)"
           ],
           [
            0.875,
            "rgb(8,81,156)"
           ],
           [
            1,
            "rgb(8,48,107)"
           ]
          ],
          "reversescale": false,
          "showscale": true
         },
         "type": "parcoords"
        }
       ],
       "layout": {
        "template": {
         "data": {
          "bar": [
           {
            "error_x": {
             "color": "#2a3f5f"
            },
            "error_y": {
             "color": "#2a3f5f"
            },
            "marker": {
             "line": {
              "color": "#E5ECF6",
              "width": 0.5
             },
             "pattern": {
              "fillmode": "overlay",
              "size": 10,
              "solidity": 0.2
             }
            },
            "type": "bar"
           }
          ],
          "barpolar": [
           {
            "marker": {
             "line": {
              "color": "#E5ECF6",
              "width": 0.5
             },
             "pattern": {
              "fillmode": "overlay",
              "size": 10,
              "solidity": 0.2
             }
            },
            "type": "barpolar"
           }
          ],
          "carpet": [
           {
            "aaxis": {
             "endlinecolor": "#2a3f5f",
             "gridcolor": "white",
             "linecolor": "white",
             "minorgridcolor": "white",
             "startlinecolor": "#2a3f5f"
            },
            "baxis": {
             "endlinecolor": "#2a3f5f",
             "gridcolor": "white",
             "linecolor": "white",
             "minorgridcolor": "white",
             "startlinecolor": "#2a3f5f"
            },
            "type": "carpet"
           }
          ],
          "choropleth": [
           {
            "colorbar": {
             "outlinewidth": 0,
             "ticks": ""
            },
            "type": "choropleth"
           }
          ],
          "contour": [
           {
            "colorbar": {
             "outlinewidth": 0,
             "ticks": ""
            },
            "colorscale": [
             [
              0,
              "#0d0887"
             ],
             [
              0.1111111111111111,
              "#46039f"
             ],
             [
              0.2222222222222222,
              "#7201a8"
             ],
             [
              0.3333333333333333,
              "#9c179e"
             ],
             [
              0.4444444444444444,
              "#bd3786"
             ],
             [
              0.5555555555555556,
              "#d8576b"
             ],
             [
              0.6666666666666666,
              "#ed7953"
             ],
             [
              0.7777777777777778,
              "#fb9f3a"
             ],
             [
              0.8888888888888888,
              "#fdca26"
             ],
             [
              1,
              "#f0f921"
             ]
            ],
            "type": "contour"
           }
          ],
          "contourcarpet": [
           {
            "colorbar": {
             "outlinewidth": 0,
             "ticks": ""
            },
            "type": "contourcarpet"
           }
          ],
          "heatmap": [
           {
            "colorbar": {
             "outlinewidth": 0,
             "ticks": ""
            },
            "colorscale": [
             [
              0,
              "#0d0887"
             ],
             [
              0.1111111111111111,
              "#46039f"
             ],
             [
              0.2222222222222222,
              "#7201a8"
             ],
             [
              0.3333333333333333,
              "#9c179e"
             ],
             [
              0.4444444444444444,
              "#bd3786"
             ],
             [
              0.5555555555555556,
              "#d8576b"
             ],
             [
              0.6666666666666666,
              "#ed7953"
             ],
             [
              0.7777777777777778,
              "#fb9f3a"
             ],
             [
              0.8888888888888888,
              "#fdca26"
             ],
             [
              1,
              "#f0f921"
             ]
            ],
            "type": "heatmap"
           }
          ],
          "heatmapgl": [
           {
            "colorbar": {
             "outlinewidth": 0,
             "ticks": ""
            },
            "colorscale": [
             [
              0,
              "#0d0887"
             ],
             [
              0.1111111111111111,
              "#46039f"
             ],
             [
              0.2222222222222222,
              "#7201a8"
             ],
             [
              0.3333333333333333,
              "#9c179e"
             ],
             [
              0.4444444444444444,
              "#bd3786"
             ],
             [
              0.5555555555555556,
              "#d8576b"
             ],
             [
              0.6666666666666666,
              "#ed7953"
             ],
             [
              0.7777777777777778,
              "#fb9f3a"
             ],
             [
              0.8888888888888888,
              "#fdca26"
             ],
             [
              1,
              "#f0f921"
             ]
            ],
            "type": "heatmapgl"
           }
          ],
          "histogram": [
           {
            "marker": {
             "pattern": {
              "fillmode": "overlay",
              "size": 10,
              "solidity": 0.2
             }
            },
            "type": "histogram"
           }
          ],
          "histogram2d": [
           {
            "colorbar": {
             "outlinewidth": 0,
             "ticks": ""
            },
            "colorscale": [
             [
              0,
              "#0d0887"
             ],
             [
              0.1111111111111111,
              "#46039f"
             ],
             [
              0.2222222222222222,
              "#7201a8"
             ],
             [
              0.3333333333333333,
              "#9c179e"
             ],
             [
              0.4444444444444444,
              "#bd3786"
             ],
             [
              0.5555555555555556,
              "#d8576b"
             ],
             [
              0.6666666666666666,
              "#ed7953"
             ],
             [
              0.7777777777777778,
              "#fb9f3a"
             ],
             [
              0.8888888888888888,
              "#fdca26"
             ],
             [
              1,
              "#f0f921"
             ]
            ],
            "type": "histogram2d"
           }
          ],
          "histogram2dcontour": [
           {
            "colorbar": {
             "outlinewidth": 0,
             "ticks": ""
            },
            "colorscale": [
             [
              0,
              "#0d0887"
             ],
             [
              0.1111111111111111,
              "#46039f"
             ],
             [
              0.2222222222222222,
              "#7201a8"
             ],
             [
              0.3333333333333333,
              "#9c179e"
             ],
             [
              0.4444444444444444,
              "#bd3786"
             ],
             [
              0.5555555555555556,
              "#d8576b"
             ],
             [
              0.6666666666666666,
              "#ed7953"
             ],
             [
              0.7777777777777778,
              "#fb9f3a"
             ],
             [
              0.8888888888888888,
              "#fdca26"
             ],
             [
              1,
              "#f0f921"
             ]
            ],
            "type": "histogram2dcontour"
           }
          ],
          "mesh3d": [
           {
            "colorbar": {
             "outlinewidth": 0,
             "ticks": ""
            },
            "type": "mesh3d"
           }
          ],
          "parcoords": [
           {
            "line": {
             "colorbar": {
              "outlinewidth": 0,
              "ticks": ""
             }
            },
            "type": "parcoords"
           }
          ],
          "pie": [
           {
            "automargin": true,
            "type": "pie"
           }
          ],
          "scatter": [
           {
            "marker": {
             "colorbar": {
              "outlinewidth": 0,
              "ticks": ""
             }
            },
            "type": "scatter"
           }
          ],
          "scatter3d": [
           {
            "line": {
             "colorbar": {
              "outlinewidth": 0,
              "ticks": ""
             }
            },
            "marker": {
             "colorbar": {
              "outlinewidth": 0,
              "ticks": ""
             }
            },
            "type": "scatter3d"
           }
          ],
          "scattercarpet": [
           {
            "marker": {
             "colorbar": {
              "outlinewidth": 0,
              "ticks": ""
             }
            },
            "type": "scattercarpet"
           }
          ],
          "scattergeo": [
           {
            "marker": {
             "colorbar": {
              "outlinewidth": 0,
              "ticks": ""
             }
            },
            "type": "scattergeo"
           }
          ],
          "scattergl": [
           {
            "marker": {
             "colorbar": {
              "outlinewidth": 0,
              "ticks": ""
             }
            },
            "type": "scattergl"
           }
          ],
          "scattermapbox": [
           {
            "marker": {
             "colorbar": {
              "outlinewidth": 0,
              "ticks": ""
             }
            },
            "type": "scattermapbox"
           }
          ],
          "scatterpolar": [
           {
            "marker": {
             "colorbar": {
              "outlinewidth": 0,
              "ticks": ""
             }
            },
            "type": "scatterpolar"
           }
          ],
          "scatterpolargl": [
           {
            "marker": {
             "colorbar": {
              "outlinewidth": 0,
              "ticks": ""
             }
            },
            "type": "scatterpolargl"
           }
          ],
          "scatterternary": [
           {
            "marker": {
             "colorbar": {
              "outlinewidth": 0,
              "ticks": ""
             }
            },
            "type": "scatterternary"
           }
          ],
          "surface": [
           {
            "colorbar": {
             "outlinewidth": 0,
             "ticks": ""
            },
            "colorscale": [
             [
              0,
              "#0d0887"
             ],
             [
              0.1111111111111111,
              "#46039f"
             ],
             [
              0.2222222222222222,
              "#7201a8"
             ],
             [
              0.3333333333333333,
              "#9c179e"
             ],
             [
              0.4444444444444444,
              "#bd3786"
             ],
             [
              0.5555555555555556,
              "#d8576b"
             ],
             [
              0.6666666666666666,
              "#ed7953"
             ],
             [
              0.7777777777777778,
              "#fb9f3a"
             ],
             [
              0.8888888888888888,
              "#fdca26"
             ],
             [
              1,
              "#f0f921"
             ]
            ],
            "type": "surface"
           }
          ],
          "table": [
           {
            "cells": {
             "fill": {
              "color": "#EBF0F8"
             },
             "line": {
              "color": "white"
             }
            },
            "header": {
             "fill": {
              "color": "#C8D4E3"
             },
             "line": {
              "color": "white"
             }
            },
            "type": "table"
           }
          ]
         },
         "layout": {
          "annotationdefaults": {
           "arrowcolor": "#2a3f5f",
           "arrowhead": 0,
           "arrowwidth": 1
          },
          "autotypenumbers": "strict",
          "coloraxis": {
           "colorbar": {
            "outlinewidth": 0,
            "ticks": ""
           }
          },
          "colorscale": {
           "diverging": [
            [
             0,
             "#8e0152"
            ],
            [
             0.1,
             "#c51b7d"
            ],
            [
             0.2,
             "#de77ae"
            ],
            [
             0.3,
             "#f1b6da"
            ],
            [
             0.4,
             "#fde0ef"
            ],
            [
             0.5,
             "#f7f7f7"
            ],
            [
             0.6,
             "#e6f5d0"
            ],
            [
             0.7,
             "#b8e186"
            ],
            [
             0.8,
             "#7fbc41"
            ],
            [
             0.9,
             "#4d9221"
            ],
            [
             1,
             "#276419"
            ]
           ],
           "sequential": [
            [
             0,
             "#0d0887"
            ],
            [
             0.1111111111111111,
             "#46039f"
            ],
            [
             0.2222222222222222,
             "#7201a8"
            ],
            [
             0.3333333333333333,
             "#9c179e"
            ],
            [
             0.4444444444444444,
             "#bd3786"
            ],
            [
             0.5555555555555556,
             "#d8576b"
            ],
            [
             0.6666666666666666,
             "#ed7953"
            ],
            [
             0.7777777777777778,
             "#fb9f3a"
            ],
            [
             0.8888888888888888,
             "#fdca26"
            ],
            [
             1,
             "#f0f921"
            ]
           ],
           "sequentialminus": [
            [
             0,
             "#0d0887"
            ],
            [
             0.1111111111111111,
             "#46039f"
            ],
            [
             0.2222222222222222,
             "#7201a8"
            ],
            [
             0.3333333333333333,
             "#9c179e"
            ],
            [
             0.4444444444444444,
             "#bd3786"
            ],
            [
             0.5555555555555556,
             "#d8576b"
            ],
            [
             0.6666666666666666,
             "#ed7953"
            ],
            [
             0.7777777777777778,
             "#fb9f3a"
            ],
            [
             0.8888888888888888,
             "#fdca26"
            ],
            [
             1,
             "#f0f921"
            ]
           ]
          },
          "colorway": [
           "#636efa",
           "#EF553B",
           "#00cc96",
           "#ab63fa",
           "#FFA15A",
           "#19d3f3",
           "#FF6692",
           "#B6E880",
           "#FF97FF",
           "#FECB52"
          ],
          "font": {
           "color": "#2a3f5f"
          },
          "geo": {
           "bgcolor": "white",
           "lakecolor": "white",
           "landcolor": "#E5ECF6",
           "showlakes": true,
           "showland": true,
           "subunitcolor": "white"
          },
          "hoverlabel": {
           "align": "left"
          },
          "hovermode": "closest",
          "mapbox": {
           "style": "light"
          },
          "paper_bgcolor": "white",
          "plot_bgcolor": "#E5ECF6",
          "polar": {
           "angularaxis": {
            "gridcolor": "white",
            "linecolor": "white",
            "ticks": ""
           },
           "bgcolor": "#E5ECF6",
           "radialaxis": {
            "gridcolor": "white",
            "linecolor": "white",
            "ticks": ""
           }
          },
          "scene": {
           "xaxis": {
            "backgroundcolor": "#E5ECF6",
            "gridcolor": "white",
            "gridwidth": 2,
            "linecolor": "white",
            "showbackground": true,
            "ticks": "",
            "zerolinecolor": "white"
           },
           "yaxis": {
            "backgroundcolor": "#E5ECF6",
            "gridcolor": "white",
            "gridwidth": 2,
            "linecolor": "white",
            "showbackground": true,
            "ticks": "",
            "zerolinecolor": "white"
           },
           "zaxis": {
            "backgroundcolor": "#E5ECF6",
            "gridcolor": "white",
            "gridwidth": 2,
            "linecolor": "white",
            "showbackground": true,
            "ticks": "",
            "zerolinecolor": "white"
           }
          },
          "shapedefaults": {
           "line": {
            "color": "#2a3f5f"
           }
          },
          "ternary": {
           "aaxis": {
            "gridcolor": "white",
            "linecolor": "white",
            "ticks": ""
           },
           "baxis": {
            "gridcolor": "white",
            "linecolor": "white",
            "ticks": ""
           },
           "bgcolor": "#E5ECF6",
           "caxis": {
            "gridcolor": "white",
            "linecolor": "white",
            "ticks": ""
           }
          },
          "title": {
           "x": 0.05
          },
          "xaxis": {
           "automargin": true,
           "gridcolor": "white",
           "linecolor": "white",
           "ticks": "",
           "title": {
            "standoff": 15
           },
           "zerolinecolor": "white",
           "zerolinewidth": 2
          },
          "yaxis": {
           "automargin": true,
           "gridcolor": "white",
           "linecolor": "white",
           "ticks": "",
           "title": {
            "standoff": 15
           },
           "zerolinecolor": "white",
           "zerolinewidth": 2
          }
         }
        },
        "title": {
         "text": "Parallel Coordinate Plot"
        }
       }
      }
     },
     "metadata": {},
     "output_type": "display_data"
    }
   ],
   "source": [
    "optuna.visualization.plot_parallel_coordinate(study)"
   ]
  },
  {
   "cell_type": "code",
   "execution_count": 41,
   "id": "4afa60aa",
   "metadata": {},
   "outputs": [
    {
     "name": "stdout",
     "output_type": "stream",
     "text": [
      "Best trial: {'n_estimators': 126, 'max_depth': 23, 'min_samples_leaf': 5, 'min_samples_split': 10, 'subsample': 0.4929601862393594}\n"
     ]
    },
    {
     "data": {
      "text/plain": [
       "126"
      ]
     },
     "execution_count": 41,
     "metadata": {},
     "output_type": "execute_result"
    }
   ],
   "source": [
    "print(\"Best trial:\", study.best_trial.params)\n",
    "study.best_trial.params[\"n_estimators\"]"
   ]
  },
  {
   "cell_type": "code",
   "execution_count": 42,
   "id": "3b45adad",
   "metadata": {},
   "outputs": [
    {
     "data": {
      "text/html": [
       "<style>#sk-container-id-2 {color: black;background-color: white;}#sk-container-id-2 pre{padding: 0;}#sk-container-id-2 div.sk-toggleable {background-color: white;}#sk-container-id-2 label.sk-toggleable__label {cursor: pointer;display: block;width: 100%;margin-bottom: 0;padding: 0.3em;box-sizing: border-box;text-align: center;}#sk-container-id-2 label.sk-toggleable__label-arrow:before {content: \"▸\";float: left;margin-right: 0.25em;color: #696969;}#sk-container-id-2 label.sk-toggleable__label-arrow:hover:before {color: black;}#sk-container-id-2 div.sk-estimator:hover label.sk-toggleable__label-arrow:before {color: black;}#sk-container-id-2 div.sk-toggleable__content {max-height: 0;max-width: 0;overflow: hidden;text-align: left;background-color: #f0f8ff;}#sk-container-id-2 div.sk-toggleable__content pre {margin: 0.2em;color: black;border-radius: 0.25em;background-color: #f0f8ff;}#sk-container-id-2 input.sk-toggleable__control:checked~div.sk-toggleable__content {max-height: 200px;max-width: 100%;overflow: auto;}#sk-container-id-2 input.sk-toggleable__control:checked~label.sk-toggleable__label-arrow:before {content: \"▾\";}#sk-container-id-2 div.sk-estimator input.sk-toggleable__control:checked~label.sk-toggleable__label {background-color: #d4ebff;}#sk-container-id-2 div.sk-label input.sk-toggleable__control:checked~label.sk-toggleable__label {background-color: #d4ebff;}#sk-container-id-2 input.sk-hidden--visually {border: 0;clip: rect(1px 1px 1px 1px);clip: rect(1px, 1px, 1px, 1px);height: 1px;margin: -1px;overflow: hidden;padding: 0;position: absolute;width: 1px;}#sk-container-id-2 div.sk-estimator {font-family: monospace;background-color: #f0f8ff;border: 1px dotted black;border-radius: 0.25em;box-sizing: border-box;margin-bottom: 0.5em;}#sk-container-id-2 div.sk-estimator:hover {background-color: #d4ebff;}#sk-container-id-2 div.sk-parallel-item::after {content: \"\";width: 100%;border-bottom: 1px solid gray;flex-grow: 1;}#sk-container-id-2 div.sk-label:hover label.sk-toggleable__label {background-color: #d4ebff;}#sk-container-id-2 div.sk-serial::before {content: \"\";position: absolute;border-left: 1px solid gray;box-sizing: border-box;top: 0;bottom: 0;left: 50%;z-index: 0;}#sk-container-id-2 div.sk-serial {display: flex;flex-direction: column;align-items: center;background-color: white;padding-right: 0.2em;padding-left: 0.2em;position: relative;}#sk-container-id-2 div.sk-item {position: relative;z-index: 1;}#sk-container-id-2 div.sk-parallel {display: flex;align-items: stretch;justify-content: center;background-color: white;position: relative;}#sk-container-id-2 div.sk-item::before, #sk-container-id-2 div.sk-parallel-item::before {content: \"\";position: absolute;border-left: 1px solid gray;box-sizing: border-box;top: 0;bottom: 0;left: 50%;z-index: -1;}#sk-container-id-2 div.sk-parallel-item {display: flex;flex-direction: column;z-index: 1;position: relative;background-color: white;}#sk-container-id-2 div.sk-parallel-item:first-child::after {align-self: flex-end;width: 50%;}#sk-container-id-2 div.sk-parallel-item:last-child::after {align-self: flex-start;width: 50%;}#sk-container-id-2 div.sk-parallel-item:only-child::after {width: 0;}#sk-container-id-2 div.sk-dashed-wrapped {border: 1px dashed gray;margin: 0 0.4em 0.5em 0.4em;box-sizing: border-box;padding-bottom: 0.4em;background-color: white;}#sk-container-id-2 div.sk-label label {font-family: monospace;font-weight: bold;display: inline-block;line-height: 1.2em;}#sk-container-id-2 div.sk-label-container {text-align: center;}#sk-container-id-2 div.sk-container {/* jupyter's `normalize.less` sets `[hidden] { display: none; }` but bootstrap.min.css set `[hidden] { display: none !important; }` so we also need the `!important` here to be able to override the default hidden behavior on the sphinx rendered scikit-learn.org. See: https://github.com/scikit-learn/scikit-learn/issues/21755 */display: inline-block !important;position: relative;}#sk-container-id-2 div.sk-text-repr-fallback {display: none;}</style><div id=\"sk-container-id-2\" class=\"sk-top-container\"><div class=\"sk-text-repr-fallback\"><pre>GradientBoostingRegressor(max_depth=23, min_samples_leaf=5,\n",
       "                          min_samples_split=10, n_estimators=126,\n",
       "                          random_state=42, subsample=0.4929601862393594)</pre><b>In a Jupyter environment, please rerun this cell to show the HTML representation or trust the notebook. <br />On GitHub, the HTML representation is unable to render, please try loading this page with nbviewer.org.</b></div><div class=\"sk-container\" hidden><div class=\"sk-item\"><div class=\"sk-estimator sk-toggleable\"><input class=\"sk-toggleable__control sk-hidden--visually\" id=\"sk-estimator-id-2\" type=\"checkbox\" checked><label for=\"sk-estimator-id-2\" class=\"sk-toggleable__label sk-toggleable__label-arrow\">GradientBoostingRegressor</label><div class=\"sk-toggleable__content\"><pre>GradientBoostingRegressor(max_depth=23, min_samples_leaf=5,\n",
       "                          min_samples_split=10, n_estimators=126,\n",
       "                          random_state=42, subsample=0.4929601862393594)</pre></div></div></div></div></div>"
      ],
      "text/plain": [
       "GradientBoostingRegressor(max_depth=23, min_samples_leaf=5,\n",
       "                          min_samples_split=10, n_estimators=126,\n",
       "                          random_state=42, subsample=0.4929601862393594)"
      ]
     },
     "execution_count": 42,
     "metadata": {},
     "output_type": "execute_result"
    }
   ],
   "source": [
    "gb_params = {\n",
    "    \"random_state\": 42,\n",
    "    \"learning_rate\": 0.1,\n",
    "    \"n_estimators\": study.best_trial.params[\"n_estimators\"],\n",
    "    \"max_depth\": study.best_trial.params[\"max_depth\"],\n",
    "    \"min_samples_leaf\": study.best_trial.params[\"min_samples_leaf\"],\n",
    "    \"min_samples_split\": study.best_trial.params[\"min_samples_split\"],\n",
    "    \"subsample\": study.best_trial.params[\"subsample\"]\n",
    "}\n",
    "\n",
    "gb = GradientBoostingRegressor(**gb_params)\n",
    "gb.fit(Cd_X_train, Cd_y_train)"
   ]
  },
  {
   "cell_type": "code",
   "execution_count": 43,
   "id": "9959cba0",
   "metadata": {},
   "outputs": [],
   "source": [
    "# gb_params = {\n",
    "#     \"random_state\": 42,\n",
    "#     \"learning_rate\": 0.1,\n",
    "#     \"n_estimators\": 138,\n",
    "#     \"max_depth\": 2,\n",
    "#     \"min_samples_leaf\": 3,\n",
    "#     \"min_samples_split\": 6,\n",
    "#     \"subsample\": 0.4574655226902498\n",
    "# }\n",
    "\n",
    "# gb = GradientBoostingRegressor(**gb_params)\n",
    "# gb.fit(Cd_X_train, Cd_y_train)"
   ]
  },
  {
   "cell_type": "code",
   "execution_count": 44,
   "id": "9ab1055b",
   "metadata": {},
   "outputs": [],
   "source": [
    "y_train_pred = gb.predict(Cd_X_train)\n",
    "y_test_pred = gb.predict(Cd_X_test)"
   ]
  },
  {
   "cell_type": "code",
   "execution_count": 45,
   "id": "425b4001",
   "metadata": {},
   "outputs": [
    {
     "name": "stdout",
     "output_type": "stream",
     "text": [
      "Train RMSE:  0.008282204061177578\n",
      "Test RMSE:  0.05070252169182093\n"
     ]
    }
   ],
   "source": [
    "print(\"Train RMSE: \", np.sqrt(mean_squared_error(Cd_y_train, y_train_pred)))\n",
    "print(\"Test RMSE: \", np.sqrt(mean_squared_error(Cd_y_test, y_test_pred)))"
   ]
  },
  {
   "cell_type": "code",
   "execution_count": 46,
   "id": "0f95ae3c",
   "metadata": {},
   "outputs": [
    {
     "name": "stdout",
     "output_type": "stream",
     "text": [
      "Train R2:  0.9901542608084716\n",
      "Test R2:  0.6673821061560379\n"
     ]
    }
   ],
   "source": [
    "print(\"Train R2: \", r2_score(Cd_y_train, y_train_pred))\n",
    "print(\"Test R2: \", r2_score(Cd_y_test, y_test_pred))"
   ]
  },
  {
   "cell_type": "code",
   "execution_count": 47,
   "id": "49f07f23",
   "metadata": {},
   "outputs": [
    {
     "data": {
      "image/png": "[encoded data removed]",
      "text/plain": [
       "<Figure size 432x288 with 1 Axes>"
      ]
     },
     "metadata": {
      "needs_background": "light"
     },
     "output_type": "display_data"
    }
   ],
   "source": [
    "plt.scatter(y_train_pred, np.array(Cd_y_train), color=\"orange\", alpha=0.3)\n",
    "plt.scatter(y_test_pred, np.array(Cd_y_test), color=\"green\", alpha=0.4)\n",
    "plt.axis(\"auto\") # scaled, tight, auto, image, square\n",
    "# plt.xlim([0, 1.5]) \n",
    "# plt.ylim(0, None) \n",
    "plt.xlabel('Predicted Values')\n",
    "plt.ylabel('Actual Values')\n",
    "\n",
    "# Add y=x line\n",
    "plt.plot([0, 0.30], [0, 0.30], color='red', linestyle='-')\n",
    "\n",
    "plt.show()"
   ]
  },
  {
   "cell_type": "code",
   "execution_count": 48,
   "id": "b2991dac",
   "metadata": {},
   "outputs": [],
   "source": [
    "# explainer = shap.KernelExplainer(gb.predict, Cd_X_train)\n",
    "# shap_values = explainer.shap_values(Cd_X_train)\n",
    "\n",
    "# shap.summary_plot(shap_values, Cd_X_train)\n",
    "\n",
    "# shap.force_plot(explainer.expected_value, shap_values[0], Cd_X_train[0])\n",
    "\n",
    "# print(shap_values)"
   ]
  },
  {
   "attachments": {},
   "cell_type": "markdown",
   "id": "74f680ea",
   "metadata": {},
   "source": [
    "Ni"
   ]
  },
  {
   "cell_type": "code",
   "execution_count": 49,
   "id": "de233338",
   "metadata": {},
   "outputs": [
    {
     "name": "stderr",
     "output_type": "stream",
     "text": [
      "\u001b[32m[I 2023-08-17 22:17:43,099]\u001b[0m A new study created in memory with name: gb_parameter_opt\u001b[0m\n",
      "\u001b[32m[I 2023-08-17 22:17:44,265]\u001b[0m Trial 0 finished with value: 0.8151284064435584 and parameters: {'n_estimators': 166, 'max_depth': 10, 'min_samples_leaf': 8, 'min_samples_split': 6, 'subsample': 0.4652340975380427}. Best is trial 0 with value: 0.8151284064435584.\u001b[0m\n",
      "\u001b[32m[I 2023-08-17 22:17:44,947]\u001b[0m Trial 1 finished with value: 0.8074838109506505 and parameters: {'n_estimators': 182, 'max_depth': 3, 'min_samples_leaf': 10, 'min_samples_split': 3, 'subsample': 0.47546715941599227}. Best is trial 0 with value: 0.8151284064435584.\u001b[0m\n",
      "\u001b[32m[I 2023-08-17 22:17:45,130]\u001b[0m Trial 2 finished with value: 0.5935896601181653 and parameters: {'n_estimators': 107, 'max_depth': 1, 'min_samples_leaf': 9, 'min_samples_split': 3, 'subsample': 0.19446926522479863}. Best is trial 0 with value: 0.8151284064435584.\u001b[0m\n",
      "\u001b[32m[I 2023-08-17 22:17:46,468]\u001b[0m Trial 3 finished with value: 0.7985950513835388 and parameters: {'n_estimators': 179, 'max_depth': 16, 'min_samples_leaf': 1, 'min_samples_split': 4, 'subsample': 0.31233678307094803}. Best is trial 0 with value: 0.8151284064435584.\u001b[0m\n",
      "\u001b[32m[I 2023-08-17 22:17:46,940]\u001b[0m Trial 4 finished with value: 0.7735586283253378 and parameters: {'n_estimators': 198, 'max_depth': 23, 'min_samples_leaf': 9, 'min_samples_split': 10, 'subsample': 0.14825998287358264}. Best is trial 0 with value: 0.8151284064435584.\u001b[0m\n",
      "\u001b[32m[I 2023-08-17 22:17:47,814]\u001b[0m Trial 5 finished with value: 0.8028189322189855 and parameters: {'n_estimators': 127, 'max_depth': 23, 'min_samples_leaf': 2, 'min_samples_split': 7, 'subsample': 0.30825473526185904}. Best is trial 0 with value: 0.8151284064435584.\u001b[0m\n",
      "\u001b[32m[I 2023-08-17 22:17:48,138]\u001b[0m Trial 6 finished with value: 0.7540190675923174 and parameters: {'n_estimators': 104, 'max_depth': 2, 'min_samples_leaf': 9, 'min_samples_split': 10, 'subsample': 0.44826993083450317}. Best is trial 0 with value: 0.8151284064435584.\u001b[0m\n",
      "\u001b[32m[I 2023-08-17 22:17:48,538]\u001b[0m Trial 7 finished with value: 0.7694813862403114 and parameters: {'n_estimators': 160, 'max_depth': 7, 'min_samples_leaf': 10, 'min_samples_split': 9, 'subsample': 0.16157200667327665}. Best is trial 0 with value: 0.8151284064435584.\u001b[0m\n",
      "\u001b[32m[I 2023-08-17 22:17:49,945]\u001b[0m Trial 8 finished with value: 0.8255640069150983 and parameters: {'n_estimators': 160, 'max_depth': 19, 'min_samples_leaf': 6, 'min_samples_split': 10, 'subsample': 0.47621765530255}. Best is trial 8 with value: 0.8255640069150983.\u001b[0m\n",
      "\u001b[32m[I 2023-08-17 22:17:50,882]\u001b[0m Trial 9 finished with value: 0.8097630510404782 and parameters: {'n_estimators': 106, 'max_depth': 19, 'min_samples_leaf': 2, 'min_samples_split': 4, 'subsample': 0.3769350771896034}. Best is trial 8 with value: 0.8255640069150983.\u001b[0m\n",
      "\u001b[32m[I 2023-08-17 22:17:51,863]\u001b[0m Trial 10 finished with value: 0.8219320505112261 and parameters: {'n_estimators': 138, 'max_depth': 29, 'min_samples_leaf': 5, 'min_samples_split': 8, 'subsample': 0.3898211479666175}. Best is trial 8 with value: 0.8255640069150983.\u001b[0m\n",
      "\u001b[32m[I 2023-08-17 22:17:52,827]\u001b[0m Trial 11 finished with value: 0.824421956244997 and parameters: {'n_estimators': 137, 'max_depth': 30, 'min_samples_leaf': 5, 'min_samples_split': 8, 'subsample': 0.39392244966513634}. Best is trial 8 with value: 0.8255640069150983.\u001b[0m\n",
      "\u001b[32m[I 2023-08-17 22:17:53,850]\u001b[0m Trial 12 finished with value: 0.8201850919700412 and parameters: {'n_estimators': 141, 'max_depth': 30, 'min_samples_leaf': 5, 'min_samples_split': 8, 'subsample': 0.39282342247943225}. Best is trial 8 with value: 0.8255640069150983.\u001b[0m\n",
      "\u001b[32m[I 2023-08-17 22:17:54,964]\u001b[0m Trial 13 finished with value: 0.8108723240732016 and parameters: {'n_estimators': 152, 'max_depth': 26, 'min_samples_leaf': 6, 'min_samples_split': 6, 'subsample': 0.4155725812289965}. Best is trial 8 with value: 0.8255640069150983.\u001b[0m\n",
      "\u001b[32m[I 2023-08-17 22:17:55,577]\u001b[0m Trial 14 finished with value: 0.7931653523780228 and parameters: {'n_estimators': 127, 'max_depth': 12, 'min_samples_leaf': 6, 'min_samples_split': 9, 'subsample': 0.2655004109604192}. Best is trial 8 with value: 0.8255640069150983.\u001b[0m\n",
      "\u001b[32m[I 2023-08-17 22:17:57,333]\u001b[0m Trial 15 finished with value: 0.8166577381191928 and parameters: {'n_estimators': 168, 'max_depth': 19, 'min_samples_leaf': 4, 'min_samples_split': 8, 'subsample': 0.4974189595764194}. Best is trial 8 with value: 0.8255640069150983.\u001b[0m\n",
      "\u001b[32m[I 2023-08-17 22:17:57,982]\u001b[0m Trial 16 finished with value: 0.8205494300862389 and parameters: {'n_estimators': 124, 'max_depth': 24, 'min_samples_leaf': 7, 'min_samples_split': 10, 'subsample': 0.3320759176871869}. Best is trial 8 with value: 0.8255640069150983.\u001b[0m\n",
      "\u001b[32m[I 2023-08-17 22:17:58,661]\u001b[0m Trial 17 finished with value: 0.7883506019930098 and parameters: {'n_estimators': 145, 'max_depth': 18, 'min_samples_leaf': 4, 'min_samples_split': 7, 'subsample': 0.2503122681166539}. Best is trial 8 with value: 0.8255640069150983.\u001b[0m\n",
      "\u001b[32m[I 2023-08-17 22:18:00,001]\u001b[0m Trial 18 finished with value: 0.8205888292073134 and parameters: {'n_estimators': 151, 'max_depth': 27, 'min_samples_leaf': 4, 'min_samples_split': 9, 'subsample': 0.4278537586231361}. Best is trial 8 with value: 0.8255640069150983.\u001b[0m\n",
      "\u001b[32m[I 2023-08-17 22:18:00,692]\u001b[0m Trial 19 finished with value: 0.8176259010579304 and parameters: {'n_estimators': 118, 'max_depth': 13, 'min_samples_leaf': 7, 'min_samples_split': 9, 'subsample': 0.3780281841760111}. Best is trial 8 with value: 0.8255640069150983.\u001b[0m\n",
      "\u001b[32m[I 2023-08-17 22:18:01,938]\u001b[0m Trial 20 finished with value: 0.8101960458338194 and parameters: {'n_estimators': 179, 'max_depth': 21, 'min_samples_leaf': 3, 'min_samples_split': 7, 'subsample': 0.3461931086232801}. Best is trial 8 with value: 0.8255640069150983.\u001b[0m\n",
      "\u001b[32m[I 2023-08-17 22:18:02,941]\u001b[0m Trial 21 finished with value: 0.8093848131322838 and parameters: {'n_estimators': 137, 'max_depth': 29, 'min_samples_leaf': 5, 'min_samples_split': 8, 'subsample': 0.4175899331333645}. Best is trial 8 with value: 0.8255640069150983.\u001b[0m\n",
      "\u001b[32m[I 2023-08-17 22:18:03,701]\u001b[0m Trial 22 finished with value: 0.8107631832378995 and parameters: {'n_estimators': 132, 'max_depth': 28, 'min_samples_leaf': 7, 'min_samples_split': 5, 'subsample': 0.36284114377874005}. Best is trial 8 with value: 0.8255640069150983.\u001b[0m\n",
      "\u001b[32m[I 2023-08-17 22:18:05,149]\u001b[0m Trial 23 finished with value: 0.8157817383424806 and parameters: {'n_estimators': 161, 'max_depth': 26, 'min_samples_leaf': 5, 'min_samples_split': 8, 'subsample': 0.4979853196961856}. Best is trial 8 with value: 0.8255640069150983.\u001b[0m\n",
      "\u001b[32m[I 2023-08-17 22:18:06,249]\u001b[0m Trial 24 finished with value: 0.8213242459653525 and parameters: {'n_estimators': 148, 'max_depth': 30, 'min_samples_leaf': 6, 'min_samples_split': 10, 'subsample': 0.44024904481396326}. Best is trial 8 with value: 0.8255640069150983.\u001b[0m\n",
      "\u001b[32m[I 2023-08-17 22:18:06,802]\u001b[0m Trial 25 finished with value: 0.8112866649594668 and parameters: {'n_estimators': 115, 'max_depth': 25, 'min_samples_leaf': 4, 'min_samples_split': 7, 'subsample': 0.2649136342240731}. Best is trial 8 with value: 0.8255640069150983.\u001b[0m\n",
      "\u001b[32m[I 2023-08-17 22:18:07,898]\u001b[0m Trial 26 finished with value: 0.8222712004101369 and parameters: {'n_estimators': 136, 'max_depth': 21, 'min_samples_leaf': 3, 'min_samples_split': 9, 'subsample': 0.3983912898380457}. Best is trial 8 with value: 0.8255640069150983.\u001b[0m\n",
      "\u001b[32m[I 2023-08-17 22:18:09,402]\u001b[0m Trial 27 finished with value: 0.8162608040313051 and parameters: {'n_estimators': 155, 'max_depth': 16, 'min_samples_leaf': 3, 'min_samples_split': 9, 'subsample': 0.4629642378686731}. Best is trial 8 with value: 0.8255640069150983.\u001b[0m\n",
      "\u001b[32m[I 2023-08-17 22:18:10,908]\u001b[0m Trial 28 finished with value: 0.8233684995977688 and parameters: {'n_estimators': 173, 'max_depth': 21, 'min_samples_leaf': 3, 'min_samples_split': 10, 'subsample': 0.41988773068342294}. Best is trial 8 with value: 0.8255640069150983.\u001b[0m\n",
      "\u001b[32m[I 2023-08-17 22:18:11,256]\u001b[0m Trial 29 finished with value: 0.7477868049623583 and parameters: {'n_estimators': 170, 'max_depth': 7, 'min_samples_leaf': 8, 'min_samples_split': 10, 'subsample': 0.10341974610452509}. Best is trial 8 with value: 0.8255640069150983.\u001b[0m\n",
      "\u001b[32m[I 2023-08-17 22:18:13,054]\u001b[0m Trial 30 finished with value: 0.8052667816309604 and parameters: {'n_estimators': 190, 'max_depth': 13, 'min_samples_leaf': 2, 'min_samples_split': 2, 'subsample': 0.4646686318964472}. Best is trial 8 with value: 0.8255640069150983.\u001b[0m\n",
      "\u001b[32m[I 2023-08-17 22:18:14,460]\u001b[0m Trial 31 finished with value: 0.8151952684196452 and parameters: {'n_estimators': 170, 'max_depth': 21, 'min_samples_leaf': 3, 'min_samples_split': 9, 'subsample': 0.4064873427525814}. Best is trial 8 with value: 0.8255640069150983.\u001b[0m\n",
      "\u001b[32m[I 2023-08-17 22:18:16,252]\u001b[0m Trial 32 finished with value: 0.8070019878002821 and parameters: {'n_estimators': 160, 'max_depth': 21, 'min_samples_leaf': 1, 'min_samples_split': 10, 'subsample': 0.4774835241178914}. Best is trial 8 with value: 0.8255640069150983.\u001b[0m\n",
      "\u001b[32m[I 2023-08-17 22:18:17,477]\u001b[0m Trial 33 finished with value: 0.8165462805556108 and parameters: {'n_estimators': 133, 'max_depth': 18, 'min_samples_leaf': 3, 'min_samples_split': 9, 'subsample': 0.44009974549409164}. Best is trial 8 with value: 0.8255640069150983.\u001b[0m\n",
      "\u001b[32m[I 2023-08-17 22:18:18,743]\u001b[0m Trial 34 finished with value: 0.8117035060826836 and parameters: {'n_estimators': 174, 'max_depth': 15, 'min_samples_leaf': 2, 'min_samples_split': 10, 'subsample': 0.35675746195266034}. Best is trial 8 with value: 0.8255640069150983.\u001b[0m\n",
      "\u001b[32m[I 2023-08-17 22:18:20,658]\u001b[0m Trial 35 finished with value: 0.8148661763498926 and parameters: {'n_estimators': 190, 'max_depth': 22, 'min_samples_leaf': 4, 'min_samples_split': 9, 'subsample': 0.4787986042127262}. Best is trial 8 with value: 0.8255640069150983.\u001b[0m\n",
      "\u001b[32m[I 2023-08-17 22:18:21,745]\u001b[0m Trial 36 finished with value: 0.8027656218095585 and parameters: {'n_estimators': 143, 'max_depth': 16, 'min_samples_leaf': 1, 'min_samples_split': 10, 'subsample': 0.3353865843523765}. Best is trial 8 with value: 0.8255640069150983.\u001b[0m\n",
      "\u001b[32m[I 2023-08-17 22:18:22,795]\u001b[0m Trial 37 finished with value: 0.815753971801185 and parameters: {'n_estimators': 184, 'max_depth': 9, 'min_samples_leaf': 8, 'min_samples_split': 5, 'subsample': 0.4036532147619066}. Best is trial 8 with value: 0.8255640069150983.\u001b[0m\n",
      "\u001b[32m[I 2023-08-17 22:18:24,062]\u001b[0m Trial 38 finished with value: 0.815546069329699 and parameters: {'n_estimators': 159, 'max_depth': 24, 'min_samples_leaf': 6, 'min_samples_split': 8, 'subsample': 0.4547553709545055}. Best is trial 8 with value: 0.8255640069150983.\u001b[0m\n",
      "\u001b[32m[I 2023-08-17 22:18:25,505]\u001b[0m Trial 39 finished with value: 0.815924698697305 and parameters: {'n_estimators': 164, 'max_depth': 20, 'min_samples_leaf': 3, 'min_samples_split': 10, 'subsample': 0.43458599532104447}. Best is trial 8 with value: 0.8255640069150983.\u001b[0m\n",
      "\u001b[32m[I 2023-08-17 22:18:26,112]\u001b[0m Trial 40 finished with value: 0.811371605804419 and parameters: {'n_estimators': 115, 'max_depth': 23, 'min_samples_leaf': 5, 'min_samples_split': 7, 'subsample': 0.2984434322609914}. Best is trial 8 with value: 0.8255640069150983.\u001b[0m\n",
      "\u001b[32m[I 2023-08-17 22:18:27,013]\u001b[0m Trial 41 finished with value: 0.8132465452741089 and parameters: {'n_estimators': 136, 'max_depth': 28, 'min_samples_leaf': 5, 'min_samples_split': 8, 'subsample': 0.38556445555041957}. Best is trial 8 with value: 0.8255640069150983.\u001b[0m\n",
      "\u001b[32m[I 2023-08-17 22:18:27,924]\u001b[0m Trial 42 finished with value: 0.8210079396174408 and parameters: {'n_estimators': 140, 'max_depth': 27, 'min_samples_leaf': 7, 'min_samples_split': 9, 'subsample': 0.40022473682108173}. Best is trial 8 with value: 0.8255640069150983.\u001b[0m\n",
      "\u001b[32m[I 2023-08-17 22:18:28,816]\u001b[0m Trial 43 finished with value: 0.819134770672945 and parameters: {'n_estimators': 147, 'max_depth': 18, 'min_samples_leaf': 6, 'min_samples_split': 6, 'subsample': 0.36900359037413427}. Best is trial 8 with value: 0.8255640069150983.\u001b[0m\n",
      "\u001b[32m[I 2023-08-17 22:18:30,023]\u001b[0m Trial 44 finished with value: 0.8199757723513873 and parameters: {'n_estimators': 155, 'max_depth': 30, 'min_samples_leaf': 5, 'min_samples_split': 8, 'subsample': 0.4287976321812351}. Best is trial 8 with value: 0.8255640069150983.\u001b[0m\n",
      "\u001b[32m[I 2023-08-17 22:18:30,912]\u001b[0m Trial 45 finished with value: 0.7964285935535472 and parameters: {'n_estimators': 127, 'max_depth': 24, 'min_samples_leaf': 2, 'min_samples_split': 9, 'subsample': 0.3230656044866983}. Best is trial 8 with value: 0.8255640069150983.\u001b[0m\n",
      "\u001b[32m[I 2023-08-17 22:18:31,331]\u001b[0m Trial 46 finished with value: 0.7974325159224621 and parameters: {'n_estimators': 121, 'max_depth': 4, 'min_samples_leaf': 4, 'min_samples_split': 10, 'subsample': 0.2915857875074924}. Best is trial 8 with value: 0.8255640069150983.\u001b[0m\n",
      "\u001b[32m[I 2023-08-17 22:18:32,210]\u001b[0m Trial 47 finished with value: 0.8234433381836688 and parameters: {'n_estimators': 131, 'max_depth': 26, 'min_samples_leaf': 6, 'min_samples_split': 8, 'subsample': 0.39334808728445714}. Best is trial 8 with value: 0.8255640069150983.\u001b[0m\n",
      "\u001b[32m[I 2023-08-17 22:18:33,357]\u001b[0m Trial 48 finished with value: 0.8297204654961657 and parameters: {'n_estimators': 132, 'max_depth': 22, 'min_samples_leaf': 6, 'min_samples_split': 7, 'subsample': 0.47914092898283106}. Best is trial 48 with value: 0.8297204654961657.\u001b[0m\n",
      "\u001b[32m[I 2023-08-17 22:18:34,421]\u001b[0m Trial 49 finished with value: 0.8193920066101639 and parameters: {'n_estimators': 132, 'max_depth': 26, 'min_samples_leaf': 7, 'min_samples_split': 7, 'subsample': 0.48679179303254483}. Best is trial 48 with value: 0.8297204654961657.\u001b[0m\n",
      "\u001b[32m[I 2023-08-17 22:18:35,218]\u001b[0m Trial 50 finished with value: 0.8063635046888219 and parameters: {'n_estimators': 110, 'max_depth': 23, 'min_samples_leaf': 6, 'min_samples_split': 6, 'subsample': 0.45155055790229354}. Best is trial 48 with value: 0.8297204654961657.\u001b[0m\n",
      "\u001b[32m[I 2023-08-17 22:18:35,656]\u001b[0m Trial 51 finished with value: 0.796330981843004 and parameters: {'n_estimators': 128, 'max_depth': 20, 'min_samples_leaf': 6, 'min_samples_split': 8, 'subsample': 0.21442376024980633}. Best is trial 48 with value: 0.8297204654961657.\u001b[0m\n",
      "\u001b[32m[I 2023-08-17 22:18:36,441]\u001b[0m Trial 52 finished with value: 0.8171696997867572 and parameters: {'n_estimators': 123, 'max_depth': 22, 'min_samples_leaf': 7, 'min_samples_split': 7, 'subsample': 0.41742971860220934}. Best is trial 48 with value: 0.8297204654961657.\u001b[0m\n",
      "\u001b[32m[I 2023-08-17 22:18:37,437]\u001b[0m Trial 53 finished with value: 0.817481344027132 and parameters: {'n_estimators': 143, 'max_depth': 25, 'min_samples_leaf': 9, 'min_samples_split': 9, 'subsample': 0.46859476786658383}. Best is trial 48 with value: 0.8297204654961657.\u001b[0m\n",
      "\u001b[32m[I 2023-08-17 22:18:38,206]\u001b[0m Trial 54 finished with value: 0.8210725352520442 and parameters: {'n_estimators': 134, 'max_depth': 28, 'min_samples_leaf': 6, 'min_samples_split': 8, 'subsample': 0.34993400998770824}. Best is trial 48 with value: 0.8297204654961657.\u001b[0m\n",
      "\u001b[32m[I 2023-08-17 22:18:39,515]\u001b[0m Trial 55 finished with value: 0.8158999762013055 and parameters: {'n_estimators': 175, 'max_depth': 19, 'min_samples_leaf': 4, 'min_samples_split': 7, 'subsample': 0.3898893675461485}. Best is trial 48 with value: 0.8297204654961657.\u001b[0m\n",
      "\u001b[32m[I 2023-08-17 22:18:40,440]\u001b[0m Trial 56 finished with value: 0.8246094480528166 and parameters: {'n_estimators': 129, 'max_depth': 22, 'min_samples_leaf': 5, 'min_samples_split': 5, 'subsample': 0.42295377314839067}. Best is trial 48 with value: 0.8297204654961657.\u001b[0m\n",
      "\u001b[32m[I 2023-08-17 22:18:41,349]\u001b[0m Trial 57 finished with value: 0.8226222362567194 and parameters: {'n_estimators': 129, 'max_depth': 17, 'min_samples_leaf': 5, 'min_samples_split': 5, 'subsample': 0.42009234747389185}. Best is trial 48 with value: 0.8297204654961657.\u001b[0m\n",
      "\u001b[32m[I 2023-08-17 22:18:42,456]\u001b[0m Trial 58 finished with value: 0.8276787175917419 and parameters: {'n_estimators': 141, 'max_depth': 25, 'min_samples_leaf': 7, 'min_samples_split': 4, 'subsample': 0.4904000157703774}. Best is trial 48 with value: 0.8297204654961657.\u001b[0m\n",
      "\u001b[32m[I 2023-08-17 22:18:43,548]\u001b[0m Trial 59 finished with value: 0.8280196718505172 and parameters: {'n_estimators': 141, 'max_depth': 27, 'min_samples_leaf': 8, 'min_samples_split': 4, 'subsample': 0.4902779240993583}. Best is trial 48 with value: 0.8297204654961657.\u001b[0m\n",
      "\u001b[32m[I 2023-08-17 22:18:44,491]\u001b[0m Trial 60 finished with value: 0.8227503969806351 and parameters: {'n_estimators': 140, 'max_depth': 29, 'min_samples_leaf': 10, 'min_samples_split': 4, 'subsample': 0.4919066952874822}. Best is trial 48 with value: 0.8297204654961657.\u001b[0m\n",
      "\u001b[32m[I 2023-08-17 22:18:45,576]\u001b[0m Trial 61 finished with value: 0.8205071786428088 and parameters: {'n_estimators': 148, 'max_depth': 25, 'min_samples_leaf': 8, 'min_samples_split': 4, 'subsample': 0.4843467216006994}. Best is trial 48 with value: 0.8297204654961657.\u001b[0m\n",
      "\u001b[32m[I 2023-08-17 22:18:46,676]\u001b[0m Trial 62 finished with value: 0.8209687094699728 and parameters: {'n_estimators': 153, 'max_depth': 27, 'min_samples_leaf': 7, 'min_samples_split': 3, 'subsample': 0.45458194570965826}. Best is trial 48 with value: 0.8297204654961657.\u001b[0m\n",
      "\u001b[32m[I 2023-08-17 22:18:47,597]\u001b[0m Trial 63 finished with value: 0.8170553346502185 and parameters: {'n_estimators': 130, 'max_depth': 26, 'min_samples_leaf': 8, 'min_samples_split': 3, 'subsample': 0.4714411332098973}. Best is trial 48 with value: 0.8297204654961657.\u001b[0m\n",
      "\u001b[32m[I 2023-08-17 22:18:48,411]\u001b[0m Trial 64 finished with value: 0.8174526691201296 and parameters: {'n_estimators': 125, 'max_depth': 24, 'min_samples_leaf': 9, 'min_samples_split': 5, 'subsample': 0.45348399549131446}. Best is trial 48 with value: 0.8297204654961657.\u001b[0m\n",
      "\u001b[32m[I 2023-08-17 22:18:49,518]\u001b[0m Trial 65 finished with value: 0.8257213449457877 and parameters: {'n_estimators': 142, 'max_depth': 29, 'min_samples_leaf': 7, 'min_samples_split': 4, 'subsample': 0.49891300959230855}. Best is trial 48 with value: 0.8297204654961657.\u001b[0m\n",
      "\u001b[32m[I 2023-08-17 22:18:50,576]\u001b[0m Trial 66 finished with value: 0.815325414692669 and parameters: {'n_estimators': 145, 'max_depth': 29, 'min_samples_leaf': 9, 'min_samples_split': 4, 'subsample': 0.49441136050663254}. Best is trial 48 with value: 0.8297204654961657.\u001b[0m\n",
      "\u001b[32m[I 2023-08-17 22:18:51,641]\u001b[0m Trial 67 finished with value: 0.8222050733361502 and parameters: {'n_estimators': 139, 'max_depth': 28, 'min_samples_leaf': 7, 'min_samples_split': 4, 'subsample': 0.4745815805127996}. Best is trial 48 with value: 0.8297204654961657.\u001b[0m\n",
      "\u001b[32m[I 2023-08-17 22:18:52,856]\u001b[0m Trial 68 finished with value: 0.8253270464395037 and parameters: {'n_estimators': 151, 'max_depth': 30, 'min_samples_leaf': 7, 'min_samples_split': 5, 'subsample': 0.4983782849029955}. Best is trial 48 with value: 0.8297204654961657.\u001b[0m\n",
      "\u001b[32m[I 2023-08-17 22:18:54,054]\u001b[0m Trial 69 finished with value: 0.822424101320775 and parameters: {'n_estimators': 157, 'max_depth': 22, 'min_samples_leaf': 8, 'min_samples_split': 5, 'subsample': 0.4997922101276709}. Best is trial 48 with value: 0.8297204654961657.\u001b[0m\n",
      "\u001b[32m[I 2023-08-17 22:18:55,222]\u001b[0m Trial 70 finished with value: 0.8216094401412377 and parameters: {'n_estimators': 150, 'max_depth': 27, 'min_samples_leaf': 7, 'min_samples_split': 3, 'subsample': 0.48161753635279775}. Best is trial 48 with value: 0.8297204654961657.\u001b[0m\n",
      "\u001b[32m[I 2023-08-17 22:18:56,267]\u001b[0m Trial 71 finished with value: 0.8207614601441202 and parameters: {'n_estimators': 136, 'max_depth': 30, 'min_samples_leaf': 6, 'min_samples_split': 6, 'subsample': 0.46381181792164555}. Best is trial 48 with value: 0.8297204654961657.\u001b[0m\n",
      "\u001b[32m[I 2023-08-17 22:18:57,256]\u001b[0m Trial 72 finished with value: 0.8252042126060072 and parameters: {'n_estimators': 144, 'max_depth': 30, 'min_samples_leaf': 7, 'min_samples_split': 5, 'subsample': 0.4414907844117175}. Best is trial 48 with value: 0.8297204654961657.\u001b[0m\n",
      "\u001b[32m[I 2023-08-17 22:18:58,410]\u001b[0m Trial 73 finished with value: 0.8208896182392976 and parameters: {'n_estimators': 144, 'max_depth': 29, 'min_samples_leaf': 8, 'min_samples_split': 5, 'subsample': 0.49951514173310346}. Best is trial 48 with value: 0.8297204654961657.\u001b[0m\n",
      "\u001b[32m[I 2023-08-17 22:18:59,461]\u001b[0m Trial 74 finished with value: 0.8210956362618591 and parameters: {'n_estimators': 148, 'max_depth': 28, 'min_samples_leaf': 7, 'min_samples_split': 4, 'subsample': 0.4463522100490965}. Best is trial 48 with value: 0.8297204654961657.\u001b[0m\n",
      "\u001b[32m[I 2023-08-17 22:19:00,689]\u001b[0m Trial 75 finished with value: 0.8273848949814578 and parameters: {'n_estimators': 153, 'max_depth': 30, 'min_samples_leaf': 8, 'min_samples_split': 5, 'subsample': 0.4837367501507145}. Best is trial 48 with value: 0.8297204654961657.\u001b[0m\n",
      "\u001b[32m[I 2023-08-17 22:19:01,927]\u001b[0m Trial 76 finished with value: 0.8234615327381765 and parameters: {'n_estimators': 162, 'max_depth': 30, 'min_samples_leaf': 8, 'min_samples_split': 4, 'subsample': 0.4879413521239572}. Best is trial 48 with value: 0.8297204654961657.\u001b[0m\n",
      "\u001b[32m[I 2023-08-17 22:19:03,057]\u001b[0m Trial 77 finished with value: 0.8161342643662366 and parameters: {'n_estimators': 152, 'max_depth': 29, 'min_samples_leaf': 7, 'min_samples_split': 4, 'subsample': 0.46161269043082004}. Best is trial 48 with value: 0.8297204654961657.\u001b[0m\n",
      "\u001b[32m[I 2023-08-17 22:19:04,200]\u001b[0m Trial 78 finished with value: 0.8261877087034872 and parameters: {'n_estimators': 157, 'max_depth': 25, 'min_samples_leaf': 8, 'min_samples_split': 2, 'subsample': 0.4821389271011884}. Best is trial 48 with value: 0.8297204654961657.\u001b[0m\n",
      "\u001b[32m[I 2023-08-17 22:19:05,322]\u001b[0m Trial 79 finished with value: 0.8277040669926368 and parameters: {'n_estimators': 157, 'max_depth': 25, 'min_samples_leaf': 8, 'min_samples_split': 3, 'subsample': 0.47498115091358056}. Best is trial 48 with value: 0.8297204654961657.\u001b[0m\n",
      "\u001b[32m[I 2023-08-17 22:19:06,590]\u001b[0m Trial 80 finished with value: 0.8193116570325898 and parameters: {'n_estimators': 164, 'max_depth': 25, 'min_samples_leaf': 8, 'min_samples_split': 2, 'subsample': 0.47987116587237244}. Best is trial 48 with value: 0.8297204654961657.\u001b[0m\n",
      "\u001b[32m[I 2023-08-17 22:19:07,725]\u001b[0m Trial 81 finished with value: 0.8182372223280506 and parameters: {'n_estimators': 157, 'max_depth': 27, 'min_samples_leaf': 8, 'min_samples_split': 2, 'subsample': 0.47092252751484387}. Best is trial 48 with value: 0.8297204654961657.\u001b[0m\n",
      "\u001b[32m[I 2023-08-17 22:19:08,817]\u001b[0m Trial 82 finished with value: 0.8236186950913107 and parameters: {'n_estimators': 154, 'max_depth': 24, 'min_samples_leaf': 9, 'min_samples_split': 3, 'subsample': 0.4879479298869735}. Best is trial 48 with value: 0.8297204654961657.\u001b[0m\n",
      "\u001b[32m[I 2023-08-17 22:19:09,794]\u001b[0m Trial 83 finished with value: 0.8211746978193417 and parameters: {'n_estimators': 150, 'max_depth': 23, 'min_samples_leaf': 9, 'min_samples_split': 2, 'subsample': 0.46178434188211126}. Best is trial 48 with value: 0.8297204654961657.\u001b[0m\n",
      "\u001b[32m[I 2023-08-17 22:19:10,947]\u001b[0m Trial 84 finished with value: 0.8235370057257289 and parameters: {'n_estimators': 158, 'max_depth': 25, 'min_samples_leaf': 8, 'min_samples_split': 3, 'subsample': 0.48047548678518265}. Best is trial 48 with value: 0.8297204654961657.\u001b[0m\n",
      "\u001b[32m[I 2023-08-17 22:19:12,300]\u001b[0m Trial 85 finished with value: 0.8254915398189212 and parameters: {'n_estimators': 167, 'max_depth': 28, 'min_samples_leaf': 7, 'min_samples_split': 3, 'subsample': 0.4919959822617876}. Best is trial 48 with value: 0.8297204654961657.\u001b[0m\n",
      "\u001b[32m[I 2023-08-17 22:19:13,529]\u001b[0m Trial 86 finished with value: 0.8201808404147991 and parameters: {'n_estimators': 168, 'max_depth': 26, 'min_samples_leaf': 8, 'min_samples_split': 3, 'subsample': 0.4722309719311983}. Best is trial 48 with value: 0.8297204654961657.\u001b[0m\n",
      "\u001b[32m[I 2023-08-17 22:19:14,708]\u001b[0m Trial 87 finished with value: 0.8185356419004973 and parameters: {'n_estimators': 165, 'max_depth': 28, 'min_samples_leaf': 7, 'min_samples_split': 3, 'subsample': 0.46050475098191435}. Best is trial 48 with value: 0.8297204654961657.\u001b[0m\n",
      "\u001b[32m[I 2023-08-17 22:19:15,750]\u001b[0m Trial 88 finished with value: 0.8243595572883798 and parameters: {'n_estimators': 168, 'max_depth': 27, 'min_samples_leaf': 9, 'min_samples_split': 2, 'subsample': 0.43949901124134316}. Best is trial 48 with value: 0.8297204654961657.\u001b[0m\n",
      "\u001b[32m[I 2023-08-17 22:19:16,987]\u001b[0m Trial 89 finished with value: 0.8319038495852193 and parameters: {'n_estimators': 162, 'max_depth': 20, 'min_samples_leaf': 8, 'min_samples_split': 3, 'subsample': 0.49005718087777245}. Best is trial 89 with value: 0.8319038495852193.\u001b[0m\n",
      "\u001b[32m[I 2023-08-17 22:19:18,089]\u001b[0m Trial 90 finished with value: 0.8149080678537874 and parameters: {'n_estimators': 163, 'max_depth': 20, 'min_samples_leaf': 8, 'min_samples_split': 4, 'subsample': 0.4487110321714209}. Best is trial 89 with value: 0.8319038495852193.\u001b[0m\n",
      "\u001b[32m[I 2023-08-17 22:19:19,279]\u001b[0m Trial 91 finished with value: 0.8267753849534717 and parameters: {'n_estimators': 161, 'max_depth': 23, 'min_samples_leaf': 8, 'min_samples_split': 3, 'subsample': 0.4895592014231625}. Best is trial 89 with value: 0.8319038495852193.\u001b[0m\n",
      "\u001b[32m[I 2023-08-17 22:19:20,496]\u001b[0m Trial 92 finished with value: 0.8256391587774713 and parameters: {'n_estimators': 161, 'max_depth': 23, 'min_samples_leaf': 8, 'min_samples_split': 2, 'subsample': 0.47701245644440576}. Best is trial 89 with value: 0.8319038495852193.\u001b[0m\n",
      "\u001b[32m[I 2023-08-17 22:19:21,656]\u001b[0m Trial 93 finished with value: 0.8254880309612197 and parameters: {'n_estimators': 158, 'max_depth': 24, 'min_samples_leaf': 8, 'min_samples_split': 2, 'subsample': 0.4779733892676392}. Best is trial 89 with value: 0.8319038495852193.\u001b[0m\n",
      "\u001b[32m[I 2023-08-17 22:19:22,758]\u001b[0m Trial 94 finished with value: 0.8228328200295719 and parameters: {'n_estimators': 155, 'max_depth': 23, 'min_samples_leaf': 9, 'min_samples_split': 2, 'subsample': 0.48588537096881357}. Best is trial 89 with value: 0.8319038495852193.\u001b[0m\n",
      "\u001b[32m[I 2023-08-17 22:19:23,777]\u001b[0m Trial 95 finished with value: 0.8120045384340833 and parameters: {'n_estimators': 161, 'max_depth': 25, 'min_samples_leaf': 8, 'min_samples_split': 3, 'subsample': 0.43223321695454403}. Best is trial 89 with value: 0.8319038495852193.\u001b[0m\n",
      "\u001b[32m[I 2023-08-17 22:19:24,767]\u001b[0m Trial 96 finished with value: 0.8235468218515957 and parameters: {'n_estimators': 142, 'max_depth': 24, 'min_samples_leaf': 8, 'min_samples_split': 3, 'subsample': 0.4695166465622083}. Best is trial 89 with value: 0.8319038495852193.\u001b[0m\n",
      "\u001b[32m[I 2023-08-17 22:19:25,148]\u001b[0m Trial 97 finished with value: 0.7619588326243353 and parameters: {'n_estimators': 170, 'max_depth': 22, 'min_samples_leaf': 10, 'min_samples_split': 2, 'subsample': 0.1500791541442653}. Best is trial 89 with value: 0.8319038495852193.\u001b[0m\n",
      "\u001b[32m[I 2023-08-17 22:19:26,252]\u001b[0m Trial 98 finished with value: 0.82961989377369 and parameters: {'n_estimators': 146, 'max_depth': 26, 'min_samples_leaf': 8, 'min_samples_split': 2, 'subsample': 0.49093209831019974}. Best is trial 89 with value: 0.8319038495852193.\u001b[0m\n",
      "\u001b[32m[I 2023-08-17 22:19:26,974]\u001b[0m Trial 99 finished with value: 0.8240545704633014 and parameters: {'n_estimators': 101, 'max_depth': 26, 'min_samples_leaf': 9, 'min_samples_split': 3, 'subsample': 0.48986737848484924}. Best is trial 89 with value: 0.8319038495852193.\u001b[0m\n"
     ]
    },
    {
     "name": "stdout",
     "output_type": "stream",
     "text": [
      "Best r2:  0.8319038495852193\n",
      "Best trial: {'n_estimators': 162, 'max_depth': 20, 'min_samples_leaf': 8, 'min_samples_split': 3, 'subsample': 0.49005718087777245}\n"
     ]
    }
   ],
   "source": [
    "sampler = TPESampler()\n",
    "study = optuna.create_study(\n",
    "    study_name=\"gb_parameter_opt\",\n",
    "    direction=\"maximize\",\n",
    "    sampler=sampler,\n",
    ")\n",
    "\n",
    "study.optimize(lambda trial : objectiveGB(trial, Ni_X_train, Ni_y_train), n_trials=100)\n",
    "print(\"Best r2: \", study.best_value)\n",
    "print(\"Best trial:\", study.best_trial.params)"
   ]
  },
  {
   "cell_type": "code",
   "execution_count": 50,
   "id": "d71c01fb",
   "metadata": {},
   "outputs": [
    {
     "data": {
      "application/vnd.plotly.v1+json": {
       "config": {
        "plotlyServerURL": "https://plot.ly"
       },
       "data": [
        {
         "dimensions": [
          {
           "label": "Objective Value",
           "range": [
            0.5935896601181653,
            0.8319038495852193
           ],
           "values": [
            0.8151284064435584,
            0.8074838109506505,
            0.5935896601181653,
            0.7985950513835388,
            0.7735586283253378,
            0.8028189322189855,
            0.7540190675923174,
            0.7694813862403114,
            0.8255640069150983,
            0.8097630510404782,
            0.8219320505112261,
            0.824421956244997,
            0.8201850919700412,
            0.8108723240732016,
            0.7931653523780228,
            0.8166577381191928,
            0.8205494300862389,
            0.7883506019930098,
            0.8205888292073134,
            0.8176259010579304,
            0.8101960458338194,
            0.8093848131322838,
            0.8107631832378995,
            0.8157817383424806,
            0.8213242459653525,
            0.8112866649594668,
            0.8222712004101369,
            0.8162608040313051,
            0.8233684995977688,
            0.7477868049623583,
            0.8052667816309604,
            0.8151952684196452,
            0.8070019878002821,
            0.8165462805556108,
            0.8117035060826836,
            0.8148661763498926,
            0.8027656218095585,
            0.815753971801185,
            0.815546069329699,
            0.815924698697305,
            0.811371605804419,
            0.8132465452741089,
            0.8210079396174408,
            0.819134770672945,
            0.8199757723513873,
            0.7964285935535472,
            0.7974325159224621,
            0.8234433381836688,
            0.8297204654961657,
            0.8193920066101639,
            0.8063635046888219,
            0.796330981843004,
            0.8171696997867572,
            0.817481344027132,
            0.8210725352520442,
            0.8158999762013055,
            0.8246094480528166,
            0.8226222362567194,
            0.8276787175917419,
            0.8280196718505172,
            0.8227503969806351,
            0.8205071786428088,
            0.8209687094699728,
            0.8170553346502185,
            0.8174526691201296,
            0.8257213449457877,
            0.815325414692669,
            0.8222050733361502,
            0.8253270464395037,
            0.822424101320775,
            0.8216094401412377,
            0.8207614601441202,
            0.8252042126060072,
            0.8208896182392976,
            0.8210956362618591,
            0.8273848949814578,
            0.8234615327381765,
            0.8161342643662366,
            0.8261877087034872,
            0.8277040669926368,
            0.8193116570325898,
            0.8182372223280506,
            0.8236186950913107,
            0.8211746978193417,
            0.8235370057257289,
            0.8254915398189212,
            0.8201808404147991,
            0.8185356419004973,
            0.8243595572883798,
            0.8319038495852193,
            0.8149080678537874,
            0.8267753849534717,
            0.8256391587774713,
            0.8254880309612197,
            0.8228328200295719,
            0.8120045384340833,
            0.8235468218515957,
            0.7619588326243353,
            0.82961989377369,
            0.8240545704633014
           ]
          },
          {
           "label": "max_depth",
           "range": [
            1,
            30
           ],
           "values": [
            10,
            3,
            1,
            16,
            23,
            23,
            2,
            7,
            19,
            19,
            29,
            30,
            30,
            26,
            12,
            19,
            24,
            18,
            27,
            13,
            21,
            29,
            28,
            26,
            30,
            25,
            21,
            16,
            21,
            7,
            13,
            21,
            21,
            18,
            15,
            22,
            16,
            9,
            24,
            20,
            23,
            28,
            27,
            18,
            30,
            24,
            4,
            26,
            22,
            26,
            23,
            20,
            22,
            25,
            28,
            19,
            22,
            17,
            25,
            27,
            29,
            25,
            27,
            26,
            24,
            29,
            29,
            28,
            30,
            22,
            27,
            30,
            30,
            29,
            28,
            30,
            30,
            29,
            25,
            25,
            25,
            27,
            24,
            23,
            25,
            28,
            26,
            28,
            27,
            20,
            20,
            23,
            23,
            24,
            23,
            25,
            24,
            22,
            26,
            26
           ]
          },
          {
           "label": "min_samples_leaf",
           "range": [
            1,
            10
           ],
           "values": [
            8,
            10,
            9,
            1,
            9,
            2,
            9,
            10,
            6,
            2,
            5,
            5,
            5,
            6,
            6,
            4,
            7,
            4,
            4,
            7,
            3,
            5,
            7,
            5,
            6,
            4,
            3,
            3,
            3,
            8,
            2,
            3,
            1,
            3,
            2,
            4,
            1,
            8,
            6,
            3,
            5,
            5,
            7,
            6,
            5,
            2,
            4,
            6,
            6,
            7,
            6,
            6,
            7,
            9,
            6,
            4,
            5,
            5,
            7,
            8,
            10,
            8,
            7,
            8,
            9,
            7,
            9,
            7,
            7,
            8,
            7,
            6,
            7,
            8,
            7,
            8,
            8,
            7,
            8,
            8,
            8,
            8,
            9,
            9,
            8,
            7,
            8,
            7,
            9,
            8,
            8,
            8,
            8,
            8,
            9,
            8,
            8,
            10,
            8,
            9
           ]
          },
          {
           "label": "min_samples_split",
           "range": [
            2,
            10
           ],
           "values": [
            6,
            3,
            3,
            4,
            10,
            7,
            10,
            9,
            10,
            4,
            8,
            8,
            8,
            6,
            9,
            8,
            10,
            7,
            9,
            9,
            7,
            8,
            5,
            8,
            10,
            7,
            9,
            9,
            10,
            10,
            2,
            9,
            10,
            9,
            10,
            9,
            10,
            5,
            8,
            10,
            7,
            8,
            9,
            6,
            8,
            9,
            10,
            8,
            7,
            7,
            6,
            8,
            7,
            9,
            8,
            7,
            5,
            5,
            4,
            4,
            4,
            4,
            3,
            3,
            5,
            4,
            4,
            4,
            5,
            5,
            3,
            6,
            5,
            5,
            4,
            5,
            4,
            4,
            2,
            3,
            2,
            2,
            3,
            2,
            3,
            3,
            3,
            3,
            2,
            3,
            4,
            3,
            2,
            2,
            2,
            3,
            3,
            2,
            2,
            3
           ]
          },
          {
           "label": "n_estimators",
           "range": [
            101,
            198
           ],
           "values": [
            166,
            182,
            107,
            179,
            198,
            127,
            104,
            160,
            160,
            106,
            138,
            137,
            141,
            152,
            127,
            168,
            124,
            145,
            151,
            118,
            179,
            137,
            132,
            161,
            148,
            115,
            136,
            155,
            173,
            170,
            190,
            170,
            160,
            133,
            174,
            190,
            143,
            184,
            159,
            164,
            115,
            136,
            140,
            147,
            155,
            127,
            121,
            131,
            132,
            132,
            110,
            128,
            123,
            143,
            134,
            175,
            129,
            129,
            141,
            141,
            140,
            148,
            153,
            130,
            125,
            142,
            145,
            139,
            151,
            157,
            150,
            136,
            144,
            144,
            148,
            153,
            162,
            152,
            157,
            157,
            164,
            157,
            154,
            150,
            158,
            167,
            168,
            165,
            168,
            162,
            163,
            161,
            161,
            158,
            155,
            161,
            142,
            170,
            146,
            101
           ]
          },
          {
           "label": "subsample",
           "range": [
            0.10341974610452509,
            0.4997922101276709
           ],
           "values": [
            0.4652340975380427,
            0.47546715941599227,
            0.19446926522479863,
            0.31233678307094803,
            0.14825998287358264,
            0.30825473526185904,
            0.44826993083450317,
            0.16157200667327665,
            0.47621765530255,
            0.3769350771896034,
            0.3898211479666175,
            0.39392244966513634,
            0.39282342247943225,
            0.4155725812289965,
            0.2655004109604192,
            0.4974189595764194,
            0.3320759176871869,
            0.2503122681166539,
            0.4278537586231361,
            0.3780281841760111,
            0.3461931086232801,
            0.4175899331333645,
            0.36284114377874005,
            0.4979853196961856,
            0.44024904481396326,
            0.2649136342240731,
            0.3983912898380457,
            0.4629642378686731,
            0.41988773068342294,
            0.10341974610452509,
            0.4646686318964472,
            0.4064873427525814,
            0.4774835241178914,
            0.44009974549409164,
            0.35675746195266034,
            0.4787986042127262,
            0.3353865843523765,
            0.4036532147619066,
            0.4547553709545055,
            0.43458599532104447,
            0.2984434322609914,
            0.38556445555041957,
            0.40022473682108173,
            0.36900359037413427,
            0.4287976321812351,
            0.3230656044866983,
            0.2915857875074924,
            0.39334808728445714,
            0.47914092898283106,
            0.48679179303254483,
            0.45155055790229354,
            0.21442376024980633,
            0.41742971860220934,
            0.46859476786658383,
            0.34993400998770824,
            0.3898893675461485,
            0.42295377314839067,
            0.42009234747389185,
            0.4904000157703774,
            0.4902779240993583,
            0.4919066952874822,
            0.4843467216006994,
            0.45458194570965826,
            0.4714411332098973,
            0.45348399549131446,
            0.49891300959230855,
            0.49441136050663254,
            0.4745815805127996,
            0.4983782849029955,
            0.4997922101276709,
            0.48161753635279775,
            0.46381181792164555,
            0.4414907844117175,
            0.49951514173310346,
            0.4463522100490965,
            0.4837367501507145,
            0.4879413521239572,
            0.46161269043082004,
            0.4821389271011884,
            0.47498115091358056,
            0.47987116587237244,
            0.47092252751484387,
            0.4879479298869735,
            0.46178434188211126,
            0.48047548678518265,
            0.4919959822617876,
            0.4722309719311983,
            0.46050475098191435,
            0.43949901124134316,
            0.49005718087777245,
            0.4487110321714209,
            0.4895592014231625,
            0.47701245644440576,
            0.4779733892676392,
            0.48588537096881357,
            0.43223321695454403,
            0.4695166465622083,
            0.1500791541442653,
            0.49093209831019974,
            0.48986737848484924
           ]
          }
         ],
         "labelangle": 30,
         "labelside": "bottom",
         "line": {
          "color": [
           0.8151284064435584,
           0.8074838109506505,
           0.5935896601181653,
           0.7985950513835388,
           0.7735586283253378,
           0.8028189322189855,
           0.7540190675923174,
           0.7694813862403114,
           0.8255640069150983,
           0.8097630510404782,
           0.8219320505112261,
           0.824421956244997,
           0.8201850919700412,
           0.8108723240732016,
           0.7931653523780228,
           0.8166577381191928,
           0.8205494300862389,
           0.7883506019930098,
           0.8205888292073134,
           0.8176259010579304,
           0.8101960458338194,
           0.8093848131322838,
           0.8107631832378995,
           0.8157817383424806,
           0.8213242459653525,
           0.8112866649594668,
           0.8222712004101369,
           0.8162608040313051,
           0.8233684995977688,
           0.7477868049623583,
           0.8052667816309604,
           0.8151952684196452,
           0.8070019878002821,
           0.8165462805556108,
           0.8117035060826836,
           0.8148661763498926,
           0.8027656218095585,
           0.815753971801185,
           0.815546069329699,
           0.815924698697305,
           0.811371605804419,
           0.8132465452741089,
           0.8210079396174408,
           0.819134770672945,
           0.8199757723513873,
           0.7964285935535472,
           0.7974325159224621,
           0.8234433381836688,
           0.8297204654961657,
           0.8193920066101639,
           0.8063635046888219,
           0.796330981843004,
           0.8171696997867572,
           0.817481344027132,
           0.8210725352520442,
           0.8158999762013055,
           0.8246094480528166,
           0.8226222362567194,
           0.8276787175917419,
           0.8280196718505172,
           0.8227503969806351,
           0.8205071786428088,
           0.8209687094699728,
           0.8170553346502185,
           0.8174526691201296,
           0.8257213449457877,
           0.815325414692669,
           0.8222050733361502,
           0.8253270464395037,
           0.822424101320775,
           0.8216094401412377,
           0.8207614601441202,
           0.8252042126060072,
           0.8208896182392976,
           0.8210956362618591,
           0.8273848949814578,
           0.8234615327381765,
           0.8161342643662366,
           0.8261877087034872,
           0.8277040669926368,
           0.8193116570325898,
           0.8182372223280506,
           0.8236186950913107,
           0.8211746978193417,
           0.8235370057257289,
           0.8254915398189212,
           0.8201808404147991,
           0.8185356419004973,
           0.8243595572883798,
           0.8319038495852193,
           0.8149080678537874,
           0.8267753849534717,
           0.8256391587774713,
           0.8254880309612197,
           0.8228328200295719,
           0.8120045384340833,
           0.8235468218515957,
           0.7619588326243353,
           0.82961989377369,
           0.8240545704633014
          ],
          "colorbar": {
           "title": {
            "text": "Objective Value"
           }
          },
          "colorscale": [
           [
            0,
            "rgb(247,251,255)"
           ],
           [
            0.125,
            "rgb(222,235,247)"
           ],
           [
            0.25,
            "rgb(198,219,239)"
           ],
           [
            0.375,
            "rgb(158,202,225)"
           ],
           [
            0.5,
            "rgb(107,174,214)"
           ],
           [
            0.625,
            "rgb(66,146,198)"
           ],
           [
            0.75,
            "rgb(33,113,181)"
           ],
           [
            0.875,
            "rgb(8,81,156)"
           ],
           [
            1,
            "rgb(8,48,107)"
           ]
          ],
          "reversescale": false,
          "showscale": true
         },
         "type": "parcoords"
        }
       ],
       "layout": {
        "template": {
         "data": {
          "bar": [
           {
            "error_x": {
             "color": "#2a3f5f"
            },
            "error_y": {
             "color": "#2a3f5f"
            },
            "marker": {
             "line": {
              "color": "#E5ECF6",
              "width": 0.5
             },
             "pattern": {
              "fillmode": "overlay",
              "size": 10,
              "solidity": 0.2
             }
            },
            "type": "bar"
           }
          ],
          "barpolar": [
           {
            "marker": {
             "line": {
              "color": "#E5ECF6",
              "width": 0.5
             },
             "pattern": {
              "fillmode": "overlay",
              "size": 10,
              "solidity": 0.2
             }
            },
            "type": "barpolar"
           }
          ],
          "carpet": [
           {
            "aaxis": {
             "endlinecolor": "#2a3f5f",
             "gridcolor": "white",
             "linecolor": "white",
             "minorgridcolor": "white",
             "startlinecolor": "#2a3f5f"
            },
            "baxis": {
             "endlinecolor": "#2a3f5f",
             "gridcolor": "white",
             "linecolor": "white",
             "minorgridcolor": "white",
             "startlinecolor": "#2a3f5f"
            },
            "type": "carpet"
           }
          ],
          "choropleth": [
           {
            "colorbar": {
             "outlinewidth": 0,
             "ticks": ""
            },
            "type": "choropleth"
           }
          ],
          "contour": [
           {
            "colorbar": {
             "outlinewidth": 0,
             "ticks": ""
            },
            "colorscale": [
             [
              0,
              "#0d0887"
             ],
             [
              0.1111111111111111,
              "#46039f"
             ],
             [
              0.2222222222222222,
              "#7201a8"
             ],
             [
              0.3333333333333333,
              "#9c179e"
             ],
             [
              0.4444444444444444,
              "#bd3786"
             ],
             [
              0.5555555555555556,
              "#d8576b"
             ],
             [
              0.6666666666666666,
              "#ed7953"
             ],
             [
              0.7777777777777778,
              "#fb9f3a"
             ],
             [
              0.8888888888888888,
              "#fdca26"
             ],
             [
              1,
              "#f0f921"
             ]
            ],
            "type": "contour"
           }
          ],
          "contourcarpet": [
           {
            "colorbar": {
             "outlinewidth": 0,
             "ticks": ""
            },
            "type": "contourcarpet"
           }
          ],
          "heatmap": [
           {
            "colorbar": {
             "outlinewidth": 0,
             "ticks": ""
            },
            "colorscale": [
             [
              0,
              "#0d0887"
             ],
             [
              0.1111111111111111,
              "#46039f"
             ],
             [
              0.2222222222222222,
              "#7201a8"
             ],
             [
              0.3333333333333333,
              "#9c179e"
             ],
             [
              0.4444444444444444,
              "#bd3786"
             ],
             [
              0.5555555555555556,
              "#d8576b"
             ],
             [
              0.6666666666666666,
              "#ed7953"
             ],
             [
              0.7777777777777778,
              "#fb9f3a"
             ],
             [
              0.8888888888888888,
              "#fdca26"
             ],
             [
              1,
              "#f0f921"
             ]
            ],
            "type": "heatmap"
           }
          ],
          "heatmapgl": [
           {
            "colorbar": {
             "outlinewidth": 0,
             "ticks": ""
            },
            "colorscale": [
             [
              0,
              "#0d0887"
             ],
             [
              0.1111111111111111,
              "#46039f"
             ],
             [
              0.2222222222222222,
              "#7201a8"
             ],
             [
              0.3333333333333333,
              "#9c179e"
             ],
             [
              0.4444444444444444,
              "#bd3786"
             ],
             [
              0.5555555555555556,
              "#d8576b"
             ],
             [
              0.6666666666666666,
              "#ed7953"
             ],
             [
              0.7777777777777778,
              "#fb9f3a"
             ],
             [
              0.8888888888888888,
              "#fdca26"
             ],
             [
              1,
              "#f0f921"
             ]
            ],
            "type": "heatmapgl"
           }
          ],
          "histogram": [
           {
            "marker": {
             "pattern": {
              "fillmode": "overlay",
              "size": 10,
              "solidity": 0.2
             }
            },
            "type": "histogram"
           }
          ],
          "histogram2d": [
           {
            "colorbar": {
             "outlinewidth": 0,
             "ticks": ""
            },
            "colorscale": [
             [
              0,
              "#0d0887"
             ],
             [
              0.1111111111111111,
              "#46039f"
             ],
             [
              0.2222222222222222,
              "#7201a8"
             ],
             [
              0.3333333333333333,
              "#9c179e"
             ],
             [
              0.4444444444444444,
              "#bd3786"
             ],
             [
              0.5555555555555556,
              "#d8576b"
             ],
             [
              0.6666666666666666,
              "#ed7953"
             ],
             [
              0.7777777777777778,
              "#fb9f3a"
             ],
             [
              0.8888888888888888,
              "#fdca26"
             ],
             [
              1,
              "#f0f921"
             ]
            ],
            "type": "histogram2d"
           }
          ],
          "histogram2dcontour": [
           {
            "colorbar": {
             "outlinewidth": 0,
             "ticks": ""
            },
            "colorscale": [
             [
              0,
              "#0d0887"
             ],
             [
              0.1111111111111111,
              "#46039f"
             ],
             [
              0.2222222222222222,
              "#7201a8"
             ],
             [
              0.3333333333333333,
              "#9c179e"
             ],
             [
              0.4444444444444444,
              "#bd3786"
             ],
             [
              0.5555555555555556,
              "#d8576b"
             ],
             [
              0.6666666666666666,
              "#ed7953"
             ],
             [
              0.7777777777777778,
              "#fb9f3a"
             ],
             [
              0.8888888888888888,
              "#fdca26"
             ],
             [
              1,
              "#f0f921"
             ]
            ],
            "type": "histogram2dcontour"
           }
          ],
          "mesh3d": [
           {
            "colorbar": {
             "outlinewidth": 0,
             "ticks": ""
            },
            "type": "mesh3d"
           }
          ],
          "parcoords": [
           {
            "line": {
             "colorbar": {
              "outlinewidth": 0,
              "ticks": ""
             }
            },
            "type": "parcoords"
           }
          ],
          "pie": [
           {
            "automargin": true,
            "type": "pie"
           }
          ],
          "scatter": [
           {
            "marker": {
             "colorbar": {
              "outlinewidth": 0,
              "ticks": ""
             }
            },
            "type": "scatter"
           }
          ],
          "scatter3d": [
           {
            "line": {
             "colorbar": {
              "outlinewidth": 0,
              "ticks": ""
             }
            },
            "marker": {
             "colorbar": {
              "outlinewidth": 0,
              "ticks": ""
             }
            },
            "type": "scatter3d"
           }
          ],
          "scattercarpet": [
           {
            "marker": {
             "colorbar": {
              "outlinewidth": 0,
              "ticks": ""
             }
            },
            "type": "scattercarpet"
           }
          ],
          "scattergeo": [
           {
            "marker": {
             "colorbar": {
              "outlinewidth": 0,
              "ticks": ""
             }
            },
            "type": "scattergeo"
           }
          ],
          "scattergl": [
           {
            "marker": {
             "colorbar": {
              "outlinewidth": 0,
              "ticks": ""
             }
            },
            "type": "scattergl"
           }
          ],
          "scattermapbox": [
           {
            "marker": {
             "colorbar": {
              "outlinewidth": 0,
              "ticks": ""
             }
            },
            "type": "scattermapbox"
           }
          ],
          "scatterpolar": [
           {
            "marker": {
             "colorbar": {
              "outlinewidth": 0,
              "ticks": ""
             }
            },
            "type": "scatterpolar"
           }
          ],
          "scatterpolargl": [
           {
            "marker": {
             "colorbar": {
              "outlinewidth": 0,
              "ticks": ""
             }
            },
            "type": "scatterpolargl"
           }
          ],
          "scatterternary": [
           {
            "marker": {
             "colorbar": {
              "outlinewidth": 0,
              "ticks": ""
             }
            },
            "type": "scatterternary"
           }
          ],
          "surface": [
           {
            "colorbar": {
             "outlinewidth": 0,
             "ticks": ""
            },
            "colorscale": [
             [
              0,
              "#0d0887"
             ],
             [
              0.1111111111111111,
              "#46039f"
             ],
             [
              0.2222222222222222,
              "#7201a8"
             ],
             [
              0.3333333333333333,
              "#9c179e"
             ],
             [
              0.4444444444444444,
              "#bd3786"
             ],
             [
              0.5555555555555556,
              "#d8576b"
             ],
             [
              0.6666666666666666,
              "#ed7953"
             ],
             [
              0.7777777777777778,
              "#fb9f3a"
             ],
             [
              0.8888888888888888,
              "#fdca26"
             ],
             [
              1,
              "#f0f921"
             ]
            ],
            "type": "surface"
           }
          ],
          "table": [
           {
            "cells": {
             "fill": {
              "color": "#EBF0F8"
             },
             "line": {
              "color": "white"
             }
            },
            "header": {
             "fill": {
              "color": "#C8D4E3"
             },
             "line": {
              "color": "white"
             }
            },
            "type": "table"
           }
          ]
         },
         "layout": {
          "annotationdefaults": {
           "arrowcolor": "#2a3f5f",
           "arrowhead": 0,
           "arrowwidth": 1
          },
          "autotypenumbers": "strict",
          "coloraxis": {
           "colorbar": {
            "outlinewidth": 0,
            "ticks": ""
           }
          },
          "colorscale": {
           "diverging": [
            [
             0,
             "#8e0152"
            ],
            [
             0.1,
             "#c51b7d"
            ],
            [
             0.2,
             "#de77ae"
            ],
            [
             0.3,
             "#f1b6da"
            ],
            [
             0.4,
             "#fde0ef"
            ],
            [
             0.5,
             "#f7f7f7"
            ],
            [
             0.6,
             "#e6f5d0"
            ],
            [
             0.7,
             "#b8e186"
            ],
            [
             0.8,
             "#7fbc41"
            ],
            [
             0.9,
             "#4d9221"
            ],
            [
             1,
             "#276419"
            ]
           ],
           "sequential": [
            [
             0,
             "#0d0887"
            ],
            [
             0.1111111111111111,
             "#46039f"
            ],
            [
             0.2222222222222222,
             "#7201a8"
            ],
            [
             0.3333333333333333,
             "#9c179e"
            ],
            [
             0.4444444444444444,
             "#bd3786"
            ],
            [
             0.5555555555555556,
             "#d8576b"
            ],
            [
             0.6666666666666666,
             "#ed7953"
            ],
            [
             0.7777777777777778,
             "#fb9f3a"
            ],
            [
             0.8888888888888888,
             "#fdca26"
            ],
            [
             1,
             "#f0f921"
            ]
           ],
           "sequentialminus": [
            [
             0,
             "#0d0887"
            ],
            [
             0.1111111111111111,
             "#46039f"
            ],
            [
             0.2222222222222222,
             "#7201a8"
            ],
            [
             0.3333333333333333,
             "#9c179e"
            ],
            [
             0.4444444444444444,
             "#bd3786"
            ],
            [
             0.5555555555555556,
             "#d8576b"
            ],
            [
             0.6666666666666666,
             "#ed7953"
            ],
            [
             0.7777777777777778,
             "#fb9f3a"
            ],
            [
             0.8888888888888888,
             "#fdca26"
            ],
            [
             1,
             "#f0f921"
            ]
           ]
          },
          "colorway": [
           "#636efa",
           "#EF553B",
           "#00cc96",
           "#ab63fa",
           "#FFA15A",
           "#19d3f3",
           "#FF6692",
           "#B6E880",
           "#FF97FF",
           "#FECB52"
          ],
          "font": {
           "color": "#2a3f5f"
          },
          "geo": {
           "bgcolor": "white",
           "lakecolor": "white",
           "landcolor": "#E5ECF6",
           "showlakes": true,
           "showland": true,
           "subunitcolor": "white"
          },
          "hoverlabel": {
           "align": "left"
          },
          "hovermode": "closest",
          "mapbox": {
           "style": "light"
          },
          "paper_bgcolor": "white",
          "plot_bgcolor": "#E5ECF6",
          "polar": {
           "angularaxis": {
            "gridcolor": "white",
            "linecolor": "white",
            "ticks": ""
           },
           "bgcolor": "#E5ECF6",
           "radialaxis": {
            "gridcolor": "white",
            "linecolor": "white",
            "ticks": ""
           }
          },
          "scene": {
           "xaxis": {
            "backgroundcolor": "#E5ECF6",
            "gridcolor": "white",
            "gridwidth": 2,
            "linecolor": "white",
            "showbackground": true,
            "ticks": "",
            "zerolinecolor": "white"
           },
           "yaxis": {
            "backgroundcolor": "#E5ECF6",
            "gridcolor": "white",
            "gridwidth": 2,
            "linecolor": "white",
            "showbackground": true,
            "ticks": "",
            "zerolinecolor": "white"
           },
           "zaxis": {
            "backgroundcolor": "#E5ECF6",
            "gridcolor": "white",
            "gridwidth": 2,
            "linecolor": "white",
            "showbackground": true,
            "ticks": "",
            "zerolinecolor": "white"
           }
          },
          "shapedefaults": {
           "line": {
            "color": "#2a3f5f"
           }
          },
          "ternary": {
           "aaxis": {
            "gridcolor": "white",
            "linecolor": "white",
            "ticks": ""
           },
           "baxis": {
            "gridcolor": "white",
            "linecolor": "white",
            "ticks": ""
           },
           "bgcolor": "#E5ECF6",
           "caxis": {
            "gridcolor": "white",
            "linecolor": "white",
            "ticks": ""
           }
          },
          "title": {
           "x": 0.05
          },
          "xaxis": {
           "automargin": true,
           "gridcolor": "white",
           "linecolor": "white",
           "ticks": "",
           "title": {
            "standoff": 15
           },
           "zerolinecolor": "white",
           "zerolinewidth": 2
          },
          "yaxis": {
           "automargin": true,
           "gridcolor": "white",
           "linecolor": "white",
           "ticks": "",
           "title": {
            "standoff": 15
           },
           "zerolinecolor": "white",
           "zerolinewidth": 2
          }
         }
        },
        "title": {
         "text": "Parallel Coordinate Plot"
        }
       }
      }
     },
     "metadata": {},
     "output_type": "display_data"
    }
   ],
   "source": [
    "optuna.visualization.plot_parallel_coordinate(study)"
   ]
  },
  {
   "cell_type": "code",
   "execution_count": 51,
   "id": "1d419df8",
   "metadata": {},
   "outputs": [
    {
     "name": "stdout",
     "output_type": "stream",
     "text": [
      "Best trial: {'n_estimators': 162, 'max_depth': 20, 'min_samples_leaf': 8, 'min_samples_split': 3, 'subsample': 0.49005718087777245}\n"
     ]
    },
    {
     "data": {
      "text/plain": [
       "162"
      ]
     },
     "execution_count": 51,
     "metadata": {},
     "output_type": "execute_result"
    }
   ],
   "source": [
    "print(\"Best trial:\", study.best_trial.params)\n",
    "study.best_trial.params[\"n_estimators\"]"
   ]
  },
  {
   "cell_type": "code",
   "execution_count": 52,
   "id": "ffefef6c",
   "metadata": {},
   "outputs": [
    {
     "data": {
      "text/html": [
       "<style>#sk-container-id-3 {color: black;background-color: white;}#sk-container-id-3 pre{padding: 0;}#sk-container-id-3 div.sk-toggleable {background-color: white;}#sk-container-id-3 label.sk-toggleable__label {cursor: pointer;display: block;width: 100%;margin-bottom: 0;padding: 0.3em;box-sizing: border-box;text-align: center;}#sk-container-id-3 label.sk-toggleable__label-arrow:before {content: \"▸\";float: left;margin-right: 0.25em;color: #696969;}#sk-container-id-3 label.sk-toggleable__label-arrow:hover:before {color: black;}#sk-container-id-3 div.sk-estimator:hover label.sk-toggleable__label-arrow:before {color: black;}#sk-container-id-3 div.sk-toggleable__content {max-height: 0;max-width: 0;overflow: hidden;text-align: left;background-color: #f0f8ff;}#sk-container-id-3 div.sk-toggleable__content pre {margin: 0.2em;color: black;border-radius: 0.25em;background-color: #f0f8ff;}#sk-container-id-3 input.sk-toggleable__control:checked~div.sk-toggleable__content {max-height: 200px;max-width: 100%;overflow: auto;}#sk-container-id-3 input.sk-toggleable__control:checked~label.sk-toggleable__label-arrow:before {content: \"▾\";}#sk-container-id-3 div.sk-estimator input.sk-toggleable__control:checked~label.sk-toggleable__label {background-color: #d4ebff;}#sk-container-id-3 div.sk-label input.sk-toggleable__control:checked~label.sk-toggleable__label {background-color: #d4ebff;}#sk-container-id-3 input.sk-hidden--visually {border: 0;clip: rect(1px 1px 1px 1px);clip: rect(1px, 1px, 1px, 1px);height: 1px;margin: -1px;overflow: hidden;padding: 0;position: absolute;width: 1px;}#sk-container-id-3 div.sk-estimator {font-family: monospace;background-color: #f0f8ff;border: 1px dotted black;border-radius: 0.25em;box-sizing: border-box;margin-bottom: 0.5em;}#sk-container-id-3 div.sk-estimator:hover {background-color: #d4ebff;}#sk-container-id-3 div.sk-parallel-item::after {content: \"\";width: 100%;border-bottom: 1px solid gray;flex-grow: 1;}#sk-container-id-3 div.sk-label:hover label.sk-toggleable__label {background-color: #d4ebff;}#sk-container-id-3 div.sk-serial::before {content: \"\";position: absolute;border-left: 1px solid gray;box-sizing: border-box;top: 0;bottom: 0;left: 50%;z-index: 0;}#sk-container-id-3 div.sk-serial {display: flex;flex-direction: column;align-items: center;background-color: white;padding-right: 0.2em;padding-left: 0.2em;position: relative;}#sk-container-id-3 div.sk-item {position: relative;z-index: 1;}#sk-container-id-3 div.sk-parallel {display: flex;align-items: stretch;justify-content: center;background-color: white;position: relative;}#sk-container-id-3 div.sk-item::before, #sk-container-id-3 div.sk-parallel-item::before {content: \"\";position: absolute;border-left: 1px solid gray;box-sizing: border-box;top: 0;bottom: 0;left: 50%;z-index: -1;}#sk-container-id-3 div.sk-parallel-item {display: flex;flex-direction: column;z-index: 1;position: relative;background-color: white;}#sk-container-id-3 div.sk-parallel-item:first-child::after {align-self: flex-end;width: 50%;}#sk-container-id-3 div.sk-parallel-item:last-child::after {align-self: flex-start;width: 50%;}#sk-container-id-3 div.sk-parallel-item:only-child::after {width: 0;}#sk-container-id-3 div.sk-dashed-wrapped {border: 1px dashed gray;margin: 0 0.4em 0.5em 0.4em;box-sizing: border-box;padding-bottom: 0.4em;background-color: white;}#sk-container-id-3 div.sk-label label {font-family: monospace;font-weight: bold;display: inline-block;line-height: 1.2em;}#sk-container-id-3 div.sk-label-container {text-align: center;}#sk-container-id-3 div.sk-container {/* jupyter's `normalize.less` sets `[hidden] { display: none; }` but bootstrap.min.css set `[hidden] { display: none !important; }` so we also need the `!important` here to be able to override the default hidden behavior on the sphinx rendered scikit-learn.org. See: https://github.com/scikit-learn/scikit-learn/issues/21755 */display: inline-block !important;position: relative;}#sk-container-id-3 div.sk-text-repr-fallback {display: none;}</style><div id=\"sk-container-id-3\" class=\"sk-top-container\"><div class=\"sk-text-repr-fallback\"><pre>GradientBoostingRegressor(max_depth=20, min_samples_leaf=8, min_samples_split=3,\n",
       "                          n_estimators=162, random_state=42,\n",
       "                          subsample=0.49005718087777245)</pre><b>In a Jupyter environment, please rerun this cell to show the HTML representation or trust the notebook. <br />On GitHub, the HTML representation is unable to render, please try loading this page with nbviewer.org.</b></div><div class=\"sk-container\" hidden><div class=\"sk-item\"><div class=\"sk-estimator sk-toggleable\"><input class=\"sk-toggleable__control sk-hidden--visually\" id=\"sk-estimator-id-3\" type=\"checkbox\" checked><label for=\"sk-estimator-id-3\" class=\"sk-toggleable__label sk-toggleable__label-arrow\">GradientBoostingRegressor</label><div class=\"sk-toggleable__content\"><pre>GradientBoostingRegressor(max_depth=20, min_samples_leaf=8, min_samples_split=3,\n",
       "                          n_estimators=162, random_state=42,\n",
       "                          subsample=0.49005718087777245)</pre></div></div></div></div></div>"
      ],
      "text/plain": [
       "GradientBoostingRegressor(max_depth=20, min_samples_leaf=8, min_samples_split=3,\n",
       "                          n_estimators=162, random_state=42,\n",
       "                          subsample=0.49005718087777245)"
      ]
     },
     "execution_count": 52,
     "metadata": {},
     "output_type": "execute_result"
    }
   ],
   "source": [
    "gb_params = {\n",
    "    \"random_state\": 42,\n",
    "    \"learning_rate\": 0.1,\n",
    "    \"n_estimators\": study.best_trial.params[\"n_estimators\"],\n",
    "    \"max_depth\": study.best_trial.params[\"max_depth\"],\n",
    "    \"min_samples_leaf\": study.best_trial.params[\"min_samples_leaf\"],\n",
    "    \"min_samples_split\": study.best_trial.params[\"min_samples_split\"],\n",
    "    \"subsample\": study.best_trial.params[\"subsample\"]\n",
    "}\n",
    "\n",
    "gb = GradientBoostingRegressor(**gb_params)\n",
    "gb.fit(Ni_X_train, Ni_y_train)"
   ]
  },
  {
   "cell_type": "code",
   "execution_count": 53,
   "id": "417e128a",
   "metadata": {},
   "outputs": [],
   "source": [
    "# gb_params = {\n",
    "#     \"random_state\": 42,\n",
    "#     \"learning_rate\": 0.1,\n",
    "#     \"n_estimators\": 181,\n",
    "#     \"max_depth\": 28,\n",
    "#     \"min_samples_leaf\": 7,\n",
    "#     \"min_samples_split\": 7,\n",
    "#     \"subsample\": 0.4946447123833718\n",
    "# }\n",
    "\n",
    "# gb = GradientBoostingRegressor(**gb_params)\n",
    "# gb.fit(Ni_X_train, Ni_y_train)"
   ]
  },
  {
   "cell_type": "code",
   "execution_count": 54,
   "id": "4c1a69d2",
   "metadata": {},
   "outputs": [],
   "source": [
    "y_train_pred = gb.predict(Ni_X_train)\n",
    "y_test_pred = gb.predict(Ni_X_test)"
   ]
  },
  {
   "cell_type": "code",
   "execution_count": 55,
   "id": "0f707a20",
   "metadata": {},
   "outputs": [
    {
     "name": "stdout",
     "output_type": "stream",
     "text": [
      "Train RMSE:  0.11719331807385495\n",
      "Test RMSE:  0.4407756274021183\n"
     ]
    }
   ],
   "source": [
    "print(\"Train RMSE: \", np.sqrt(mean_squared_error(Ni_y_train, y_train_pred)))\n",
    "print(\"Test RMSE: \", np.sqrt(mean_squared_error(Ni_y_test, y_test_pred)))"
   ]
  },
  {
   "cell_type": "code",
   "execution_count": 56,
   "id": "641d78f4",
   "metadata": {},
   "outputs": [
    {
     "name": "stdout",
     "output_type": "stream",
     "text": [
      "Train R2:  0.9908393420370447\n",
      "Test R2:  0.8477238696835727\n"
     ]
    }
   ],
   "source": [
    "print(\"Train R2: \", r2_score(Ni_y_train, y_train_pred))\n",
    "print(\"Test R2: \", r2_score(Ni_y_test, y_test_pred))"
   ]
  },
  {
   "cell_type": "code",
   "execution_count": 57,
   "id": "dd1670cb",
   "metadata": {},
   "outputs": [
    {
     "data": {
      "image/png": "[encoded data removed]",
      "text/plain": [
       "<Figure size 432x288 with 1 Axes>"
      ]
     },
     "metadata": {
      "needs_background": "light"
     },
     "output_type": "display_data"
    }
   ],
   "source": [
    "plt.scatter(y_train_pred, np.array(Ni_y_train), color=\"orange\", alpha=0.3)\n",
    "plt.scatter(y_test_pred, np.array(Ni_y_test), color=\"green\", alpha=0.4)\n",
    "plt.axis(\"auto\")\n",
    "# plt.xlim([0, 1.5]) \n",
    "# plt.ylim(0, None) \n",
    "plt.xlabel('Predicted Values')\n",
    "plt.ylabel('Actual Values')\n",
    "\n",
    "# Add trendline\n",
    "# z = np.polyfit(y_train_pred, As_y_train, 1)\n",
    "# p = np.poly1d(z)\n",
    "# plt.plot(y_train_pred, p(y_train_pred), color='red', linestyle='-')\n",
    "\n",
    "# Add y=x line\n",
    "plt.plot([0, 4.5], [0, 4.5], color='red', linestyle='-')\n",
    "\n",
    "plt.show()"
   ]
  }
 ],
 "metadata": {
  "kernelspec": {
   "display_name": "Python 3",
   "language": "python",
   "name": "python3"
  },
  "language_info": {
   "codemirror_mode": {
    "name": "ipython",
    "version": 3
   },
   "file_extension": ".py",
   "mimetype": "text/x-python",
   "name": "python",
   "nbconvert_exporter": "python",
   "pygments_lexer": "ipython3",
   "version": "3.8.11"
  }
 },
 "nbformat": 4,
 "nbformat_minor": 5
}
