{
 "cells": [
  {
   "attachments": {},
   "cell_type": "markdown",
   "id": "451911be",
   "metadata": {},
   "source": [
    "#### Library import"
   ]
  },
  {
   "cell_type": "code",
   "execution_count": 1,
   "id": "8a394942",
   "metadata": {},
   "outputs": [],
   "source": [
    "import os\n",
    "import pandas as pd\n",
    "import numpy as np\n",
    "import matplotlib.pyplot as plt\n",
    "%matplotlib inline\n",
    "import seaborn as sns\n",
    "import tensorflow as tf\n",
    "import missingno as msno\n",
    "\n",
    "import warnings\n",
    "warnings.filterwarnings('ignore')\n",
    "\n",
    "from sklearn.model_selection import train_test_split\n",
    "from sklearn.model_selection import GridSearchCV\n",
    "from sklearn.metrics import mean_squared_error, r2_score\n",
    "from sklearn.preprocessing import StandardScaler, MinMaxScaler, RobustScaler\n",
    "from sklearn.ensemble import RandomForestRegressor, GradientBoostingRegressor, ExtraTreesRegressor\n",
    "from sklearn.model_selection import KFold\n",
    "from lightgbm import LGBMRegressor\n",
    "from xgboost import XGBRegressor\n",
    "from ngboost import NGBRegressor\n",
    "from scipy.stats import norm, skew\n",
    "\n",
    "from matplotlib.ticker import FormatStrFormatter\n",
    "\n",
    "import re\n",
    "from tqdm import tqdm"
   ]
  },
  {
   "attachments": {},
   "cell_type": "markdown",
   "id": "31a13d68",
   "metadata": {},
   "source": [
    "#### GPU setting"
   ]
  },
  {
   "cell_type": "code",
   "execution_count": 2,
   "id": "cd001f36",
   "metadata": {},
   "outputs": [],
   "source": [
    "from tensorflow.compat.v1 import ConfigProto\n",
    "from tensorflow.compat.v1 import InteractiveSession"
   ]
  },
  {
   "cell_type": "code",
   "execution_count": 3,
   "id": "25c4acdb",
   "metadata": {},
   "outputs": [],
   "source": [
    "config = ConfigProto()\n",
    "config.gpu_options.per_process_gpu_memory_fraction = 0.4\n",
    "session = InteractiveSession(config = config)"
   ]
  },
  {
   "cell_type": "code",
   "execution_count": 4,
   "id": "7f5f8e0a",
   "metadata": {},
   "outputs": [
    {
     "name": "stdout",
     "output_type": "stream",
     "text": [
      "[name: \"/device:CPU:0\"\n",
      "device_type: \"CPU\"\n",
      "memory_limit: 268435456\n",
      "locality {\n",
      "}\n",
      "incarnation: 11026049640963945003\n",
      ", name: \"/device:GPU:0\"\n",
      "device_type: \"GPU\"\n",
      "memory_limit: 3435973836\n",
      "locality {\n",
      "  bus_id: 1\n",
      "  links {\n",
      "  }\n",
      "}\n",
      "incarnation: 18265296211950226673\n",
      "physical_device_desc: \"device: 0, name: NVIDIA GeForce RTX 3060 Ti, pci bus id: 0000:07:00.0, compute capability: 8.6\"\n",
      "]\n"
     ]
    }
   ],
   "source": [
    "physical_devices = tf.config.list_physical_devices('GPU')\n",
    "physical_devices\n",
    "\n",
    "from tensorflow.python.client import device_lib\n",
    "\n",
    "print(device_lib.list_local_devices())"
   ]
  },
  {
   "cell_type": "code",
   "execution_count": 5,
   "id": "1de68242",
   "metadata": {},
   "outputs": [],
   "source": [
    "import os\n",
    "\n",
    "os.environ[\"CUDA_VISIBLE_DEVICES\"]=\"0\"\n",
    "gpus = tf.config.experimental.list_physical_devices('GPU')\n",
    "if gpus:\n",
    "    try:\n",
    "        tf.config.experimental.set_memory_growth(gpus[0], True)\n",
    "    except RuntimeError as e:\n",
    "        print(e)"
   ]
  },
  {
   "attachments": {},
   "cell_type": "markdown",
   "id": "cb740f81",
   "metadata": {},
   "source": [
    "#### Data import and preprocessing"
   ]
  },
  {
   "cell_type": "code",
   "execution_count": 6,
   "id": "9288345d",
   "metadata": {
    "scrolled": true
   },
   "outputs": [
    {
     "data": {
      "text/plain": [
       "Index(['OBJECTID_x', 'ID', 'pH', 'As', 'Cd', 'Ni', 'Pb', 'Zn', 'Hg', 'slope',\n",
       "       'altitude', 'profile_curve', 'profile_c_num', 'profile_c_abs',\n",
       "       'planform_curve', 'planform_c_num', 'planform_c_abs', 'HYDGRP',\n",
       "       'HYDGRP_A', 'HYDGRP_B', 'HYDGRP_C', 'HYDGRP_D', 'ANION_EXCL', 'SOL_CRK',\n",
       "       'SOL_K1', 'CLAY1', 'SILT1', 'SAND1', 'ROCK1', 'SOL_EC1', 'distance'],\n",
       "      dtype='object')"
      ]
     },
     "execution_count": 6,
     "metadata": {},
     "output_type": "execute_result"
    }
   ],
   "source": [
    "data = pd.read_csv(\"data/data_kw.csv\")\n",
    "data.columns"
   ]
  },
  {
   "cell_type": "code",
   "execution_count": 7,
   "id": "bbf87a23",
   "metadata": {},
   "outputs": [
    {
     "data": {
      "text/plain": [
       "Index(['pH', 'As', 'Cd', 'Ni', 'Pb', 'Zn', 'Hg', 'slope', 'altitude',\n",
       "       'profile_curve', 'planform_curve', 'HYDGRP_A', 'HYDGRP_B', 'HYDGRP_C',\n",
       "       'HYDGRP_D', 'SOL_K1', 'CLAY1', 'SILT1', 'SAND1', 'ROCK1', 'distance'],\n",
       "      dtype='object')"
      ]
     },
     "execution_count": 7,
     "metadata": {},
     "output_type": "execute_result"
    }
   ],
   "source": [
    "data = data.drop(['OBJECTID_x','ID','HYDGRP','profile_c_num', 'profile_c_abs','planform_c_num', 'planform_c_abs','ANION_EXCL','SOL_CRK','SOL_EC1'], axis = 1)\n",
    "data.columns"
   ]
  },
  {
   "cell_type": "code",
   "execution_count": 8,
   "id": "eda19bb6",
   "metadata": {},
   "outputs": [],
   "source": [
    "As = data\n",
    "Cd = data\n",
    "Ni = data"
   ]
  },
  {
   "cell_type": "code",
   "execution_count": 9,
   "id": "c3c7d06a",
   "metadata": {},
   "outputs": [],
   "source": [
    "As = As.drop([\"Cd\", \"Ni\", \"Pb\", \"Zn\", \"Hg\"], axis = 1)\n",
    "Cd = Cd.drop([\"As\", \"Ni\", \"Pb\", \"Zn\", \"Hg\"], axis = 1)\n",
    "Ni = Ni.drop([\"As\", \"Cd\", \"Pb\", \"Zn\", \"Hg\"], axis = 1)"
   ]
  },
  {
   "cell_type": "code",
   "execution_count": 10,
   "id": "67d23d19",
   "metadata": {},
   "outputs": [
    {
     "name": "stdout",
     "output_type": "stream",
     "text": [
      "(677, 16)\n",
      "(677, 16)\n",
      "(677, 16)\n"
     ]
    }
   ],
   "source": [
    "print(As.shape)\n",
    "print(Cd.shape)\n",
    "print(Ni.shape)"
   ]
  },
  {
   "cell_type": "markdown",
   "id": "a5e7de7c",
   "metadata": {},
   "source": [
    "#### Oversampling by SMOGN (SMOTE Regression)"
   ]
  },
  {
   "cell_type": "code",
   "execution_count": 11,
   "id": "07928600",
   "metadata": {},
   "outputs": [],
   "source": [
    "import smogn"
   ]
  },
  {
   "cell_type": "code",
   "execution_count": 12,
   "id": "944a8180",
   "metadata": {},
   "outputs": [
    {
     "name": "stderr",
     "output_type": "stream",
     "text": [
      "dist_matrix:   0%|          | 0/134 [00:00<?, ?it/s]"
     ]
    },
    {
     "name": "stderr",
     "output_type": "stream",
     "text": [
      "dist_matrix: 100%|##########| 134/134 [00:07<00:00, 18.15it/s]\n",
      "synth_matrix: 100%|##########| 134/134 [00:00<00:00, 192.49it/s]\n",
      "dist_matrix: 100%|##########| 159/159 [00:10<00:00, 15.20it/s]\n",
      "synth_matrix: 100%|##########| 159/159 [00:00<00:00, 291.45it/s]\n",
      "r_index: 100%|##########| 47/47 [00:00<00:00, 580.12it/s]\n",
      "dist_matrix: 100%|##########| 127/127 [00:06<00:00, 20.12it/s]\n",
      "synth_matrix: 100%|##########| 127/127 [00:00<00:00, 190.36it/s]\n",
      "r_index: 100%|##########| 38/38 [00:00<00:00, 506.55it/s]\n"
     ]
    }
   ],
   "source": [
    "As_smogn = smogn.smoter(data = As, y = 'As', samp_method = 'extreme')\n",
    "Cd_smogn = smogn.smoter(data = Cd, y = 'Cd', samp_method = 'extreme')\n",
    "Ni_smogn = smogn.smoter(data = Ni, y = 'Ni', samp_method = 'extreme')"
   ]
  },
  {
   "cell_type": "code",
   "execution_count": 13,
   "id": "3d5966fa",
   "metadata": {},
   "outputs": [
    {
     "name": "stdout",
     "output_type": "stream",
     "text": [
      "(971, 16)\n",
      "(887, 16)\n",
      "(986, 16)\n"
     ]
    }
   ],
   "source": [
    "print(As_smogn.shape)\n",
    "print(Cd_smogn.shape)\n",
    "print(Ni_smogn.shape)"
   ]
  },
  {
   "attachments": {},
   "cell_type": "markdown",
   "id": "ed72a9b1",
   "metadata": {},
   "source": [
    "#### Eliminate outlier and train / test split"
   ]
  },
  {
   "cell_type": "code",
   "execution_count": 14,
   "id": "43604a42",
   "metadata": {},
   "outputs": [],
   "source": [
    "def eli_outlier(data, value):\n",
    "    q1 = data[value].quantile(0.25)\n",
    "    q3 = data[value].quantile(0.75)\n",
    "\n",
    "    iqr = q3 - q1\n",
    "\n",
    "    q1_condition = data[value] < q1-1.5*iqr\n",
    "    q3_condition = data[value] > q3+1.5*iqr\n",
    "\n",
    "    reset_q1_index = data[q1_condition].index\n",
    "    reset_q3_index = data[q3_condition].index\n",
    "\n",
    "    data.drop(reset_q1_index, inplace = True)\n",
    "    data.drop(reset_q3_index, inplace = True)\n",
    "\n",
    "    return data"
   ]
  },
  {
   "cell_type": "code",
   "execution_count": 15,
   "id": "9b7632f2",
   "metadata": {},
   "outputs": [],
   "source": [
    "As_ros = eli_outlier(As_smogn, \"As\")\n",
    "Cd_ros = eli_outlier(Cd_smogn, \"Cd\")\n",
    "Ni_ros = eli_outlier(Ni_smogn, \"Ni\")"
   ]
  },
  {
   "cell_type": "code",
   "execution_count": 16,
   "id": "fd2813d1",
   "metadata": {},
   "outputs": [],
   "source": [
    "As_X = As_ros.drop([\"As\"], axis=1)\n",
    "Cd_X = Cd_ros.drop([\"Cd\"], axis=1)\n",
    "Ni_X = Ni_ros.drop([\"Ni\"], axis=1)\n",
    "\n",
    "As_y = As_ros[\"As\"]\n",
    "Cd_y = Cd_ros[\"Cd\"]\n",
    "Ni_y = Ni_ros[\"Ni\"]"
   ]
  },
  {
   "cell_type": "code",
   "execution_count": 17,
   "id": "3d1db064",
   "metadata": {},
   "outputs": [],
   "source": [
    "As_y = np.log1p(As_ros[\"As\"])\n",
    "Cd_y = np.log1p(Cd_ros[\"Cd\"])\n",
    "Ni_y = np.log1p(Ni_ros[\"Ni\"])"
   ]
  },
  {
   "cell_type": "code",
   "execution_count": 18,
   "id": "e6b5aab4",
   "metadata": {},
   "outputs": [
    {
     "name": "stdout",
     "output_type": "stream",
     "text": [
      "(791, 15)\n",
      "(743, 15)\n",
      "(976, 15)\n"
     ]
    }
   ],
   "source": [
    "print(As_X.shape)\n",
    "print(Cd_X.shape)\n",
    "print(Ni_X.shape)"
   ]
  },
  {
   "attachments": {},
   "cell_type": "markdown",
   "id": "c92e5bb6",
   "metadata": {},
   "source": [
    "StandardScaler"
   ]
  },
  {
   "cell_type": "code",
   "execution_count": null,
   "id": "5cc1e7ea",
   "metadata": {},
   "outputs": [],
   "source": [
    "from sklearn.preprocessing import StandardScaler\n",
    "\n",
    "scaler = StandardScaler()\n",
    "\n",
    "As_X_train, As_X_test, As_y_train, As_y_test = train_test_split(As_X, As_y, test_size=0.2, random_state=42)\n",
    "Cd_X_train, Cd_X_test, Cd_y_train, Cd_y_test = train_test_split(Cd_X, Cd_y, test_size=0.2, random_state=42)\n",
    "Ni_X_train, Ni_X_test, Ni_y_train, Ni_y_test = train_test_split(Ni_X, Ni_y, test_size=0.2, random_state=42)\n",
    "\n",
    "As_X_train = scaler.fit_transform(As_X_train)\n",
    "As_X_test = scaler.fit_transform(As_X_test)\n",
    "\n",
    "Cd_X_train = scaler.fit_transform(Cd_X_train)\n",
    "Cd_X_test = scaler.fit_transform(Cd_X_test)\n",
    "\n",
    "Ni_X_train = scaler.fit_transform(Ni_X_train)\n",
    "Ni_X_test = scaler.fit_transform(Ni_X_test)"
   ]
  },
  {
   "cell_type": "code",
   "execution_count": 19,
   "id": "416a7027",
   "metadata": {},
   "outputs": [],
   "source": [
    "''' from sklearn.preprocessing import StandardScaler\n",
    "\n",
    "scaler = StandardScaler()\n",
    "As_X_scaled = scaler.fit_transform(As_X)\n",
    "Cd_X_scaled = scaler.fit_transform(Cd_X)\n",
    "Ni_X_scaled = scaler.fit_transform(Ni_X)\n",
    "\n",
    "As_X_train, As_X_test, As_y_train, As_y_test = train_test_split(As_X_scaled, As_y, test_size=0.2, random_state=42)\n",
    "Cd_X_train, Cd_X_test, Cd_y_train, Cd_y_test = train_test_split(Cd_X_scaled, Cd_y, test_size=0.2, random_state=42)\n",
    "Ni_X_train, Ni_X_test, Ni_y_train, Ni_y_test = train_test_split(Ni_X_scaled, Ni_y, test_size=0.2, random_state=42) '''"
   ]
  },
  {
   "attachments": {},
   "cell_type": "markdown",
   "id": "2fe0d293",
   "metadata": {},
   "source": [
    "MinMaxScaler"
   ]
  },
  {
   "cell_type": "code",
   "execution_count": 20,
   "id": "e8596f9f",
   "metadata": {},
   "outputs": [],
   "source": [
    "# from sklearn.preprocessing import MinMaxScaler\n",
    "\n",
    "# scaler = MinMaxScaler()\n",
    "# As_X_scaled = scaler.fit_transform(As_X)\n",
    "# Cd_X_scaled = scaler.fit_transform(Cd_X)\n",
    "# Ni_X_scaled = scaler.fit_transform(Ni_X)\n",
    "\n",
    "# As_X_train, As_X_test, As_y_train, As_y_test = train_test_split(As_X_scaled, As_y, test_size=0.2, random_state=42)\n",
    "# Cd_X_train, Cd_X_test, Cd_y_train, Cd_y_test = train_test_split(Cd_X_scaled, Cd_y, test_size=0.2, random_state=42)\n",
    "# Ni_X_train, Ni_X_test, Ni_y_train, Ni_y_test = train_test_split(Ni_X_scaled, Ni_y, test_size=0.2, random_state=42)"
   ]
  },
  {
   "cell_type": "code",
   "execution_count": 21,
   "id": "c6cad4b1",
   "metadata": {},
   "outputs": [
    {
     "name": "stdout",
     "output_type": "stream",
     "text": [
      "(632, 15)\n",
      "(594, 15)\n",
      "(780, 15)\n"
     ]
    }
   ],
   "source": [
    "print(As_X_train.shape)\n",
    "print(Cd_X_train.shape)\n",
    "print(Ni_X_train.shape)"
   ]
  },
  {
   "attachments": {},
   "cell_type": "markdown",
   "id": "bd11b27e",
   "metadata": {},
   "source": [
    "#### 10-Fold Crossvalidation"
   ]
  },
  {
   "cell_type": "code",
   "execution_count": 22,
   "id": "7a765916",
   "metadata": {},
   "outputs": [],
   "source": [
    "kf = KFold(n_splits = 5, random_state = 42, shuffle = True)"
   ]
  },
  {
   "attachments": {},
   "cell_type": "markdown",
   "id": "859638d0",
   "metadata": {},
   "source": [
    "#### Optuna Optimization"
   ]
  },
  {
   "cell_type": "code",
   "execution_count": 23,
   "id": "92a47d83",
   "metadata": {},
   "outputs": [],
   "source": [
    "import optuna\n",
    "\n",
    "from optuna import Trial\n",
    "from optuna.samplers import TPESampler"
   ]
  },
  {
   "cell_type": "code",
   "execution_count": 24,
   "id": "a7669fea",
   "metadata": {},
   "outputs": [],
   "source": [
    "from sklearn.model_selection import cross_val_score\n",
    "\n",
    "def objectiveGB(trial: Trial, X_train, y_train) -> float:\n",
    "    gb_paramas = {\n",
    "        \"random_state\": 42,\n",
    "        \"learning_rate\": 0.1,\n",
    "        \"n_estimators\": trial.suggest_int(\"n_estimators\", 100, 200),\n",
    "        \"max_depth\": trial.suggest_int(\"max_depth\", 1, 30),\n",
    "        \"min_samples_leaf\": trial.suggest_int(\"min_samples_leaf\", 1, 10),\n",
    "        \"min_samples_split\": trial.suggest_int(\"min_samples_split\", 2, 10),\n",
    "        \"subsample\": trial.suggest_float(\"subsample\", 0.1, 0.5)\n",
    "    }\n",
    "    \n",
    "    gb = GradientBoostingRegressor(**gb_paramas)\n",
    "    r2 = cross_val_score(gb, X_train, y_train, scoring = \"r2\", cv = kf)\n",
    "    r2 = r2.mean()\n",
    "    \n",
    "    return r2"
   ]
  },
  {
   "attachments": {},
   "cell_type": "markdown",
   "id": "b0988f46",
   "metadata": {},
   "source": [
    "####  Optimization"
   ]
  },
  {
   "cell_type": "code",
   "execution_count": 25,
   "id": "94f5e00d",
   "metadata": {
    "scrolled": false
   },
   "outputs": [
    {
     "name": "stderr",
     "output_type": "stream",
     "text": [
      "\u001b[32m[I 2023-08-17 22:14:42,709]\u001b[0m A new study created in memory with name: gb_parameter_opt\u001b[0m\n",
      "\u001b[32m[I 2023-08-17 22:14:43,406]\u001b[0m Trial 0 finished with value: 0.5460967698885423 and parameters: {'n_estimators': 137, 'max_depth': 10, 'min_samples_leaf': 1, 'min_samples_split': 6, 'subsample': 0.36595499860709657}. Best is trial 0 with value: 0.5460967698885423.\u001b[0m\n",
      "\u001b[32m[I 2023-08-17 22:14:44,395]\u001b[0m Trial 1 finished with value: 0.5357102810692413 and parameters: {'n_estimators': 186, 'max_depth': 10, 'min_samples_leaf': 5, 'min_samples_split': 3, 'subsample': 0.40827358162105}. Best is trial 0 with value: 0.5460967698885423.\u001b[0m\n",
      "\u001b[32m[I 2023-08-17 22:14:44,597]\u001b[0m Trial 2 finished with value: 0.4197475381798479 and parameters: {'n_estimators': 103, 'max_depth': 1, 'min_samples_leaf': 7, 'min_samples_split': 7, 'subsample': 0.32782600512037346}. Best is trial 0 with value: 0.5460967698885423.\u001b[0m\n",
      "\u001b[32m[I 2023-08-17 22:14:45,144]\u001b[0m Trial 3 finished with value: 0.5577389899515521 and parameters: {'n_estimators': 181, 'max_depth': 3, 'min_samples_leaf': 10, 'min_samples_split': 5, 'subsample': 0.49051647379639374}. Best is trial 3 with value: 0.5577389899515521.\u001b[0m\n",
      "\u001b[32m[I 2023-08-17 22:14:45,400]\u001b[0m Trial 4 finished with value: 0.4487319995084091 and parameters: {'n_estimators': 172, 'max_depth': 1, 'min_samples_leaf': 7, 'min_samples_split': 10, 'subsample': 0.19225975175912763}. Best is trial 3 with value: 0.5577389899515521.\u001b[0m\n",
      "\u001b[32m[I 2023-08-17 22:14:45,884]\u001b[0m Trial 5 finished with value: 0.5621071119117856 and parameters: {'n_estimators': 102, 'max_depth': 26, 'min_samples_leaf': 5, 'min_samples_split': 7, 'subsample': 0.3834248475972326}. Best is trial 5 with value: 0.5621071119117856.\u001b[0m\n",
      "\u001b[32m[I 2023-08-17 22:14:46,123]\u001b[0m Trial 6 finished with value: 0.4505457551073168 and parameters: {'n_estimators': 140, 'max_depth': 1, 'min_samples_leaf': 8, 'min_samples_split': 7, 'subsample': 0.28832776503194535}. Best is trial 5 with value: 0.5621071119117856.\u001b[0m\n",
      "\u001b[32m[I 2023-08-17 22:14:46,648]\u001b[0m Trial 7 finished with value: 0.5235910659064273 and parameters: {'n_estimators': 183, 'max_depth': 29, 'min_samples_leaf': 7, 'min_samples_split': 7, 'subsample': 0.24722356910985424}. Best is trial 5 with value: 0.5621071119117856.\u001b[0m\n",
      "\u001b[32m[I 2023-08-17 22:14:47,063]\u001b[0m Trial 8 finished with value: 0.5140215219636338 and parameters: {'n_estimators': 160, 'max_depth': 23, 'min_samples_leaf': 8, 'min_samples_split': 2, 'subsample': 0.2243216281411493}. Best is trial 5 with value: 0.5621071119117856.\u001b[0m\n",
      "\u001b[32m[I 2023-08-17 22:14:47,588]\u001b[0m Trial 9 finished with value: 0.4987982417546467 and parameters: {'n_estimators': 162, 'max_depth': 25, 'min_samples_leaf': 3, 'min_samples_split': 2, 'subsample': 0.21543411804169654}. Best is trial 5 with value: 0.5621071119117856.\u001b[0m\n",
      "\u001b[32m[I 2023-08-17 22:14:48,262]\u001b[0m Trial 10 finished with value: 0.5563309900057105 and parameters: {'n_estimators': 106, 'max_depth': 20, 'min_samples_leaf': 4, 'min_samples_split': 10, 'subsample': 0.46615332956678235}. Best is trial 5 with value: 0.5621071119117856.\u001b[0m\n",
      "\u001b[32m[I 2023-08-17 22:14:49,149]\u001b[0m Trial 11 finished with value: 0.5600801863780185 and parameters: {'n_estimators': 198, 'max_depth': 15, 'min_samples_leaf': 10, 'min_samples_split': 5, 'subsample': 0.4697531913880559}. Best is trial 5 with value: 0.5621071119117856.\u001b[0m\n",
      "\u001b[32m[I 2023-08-17 22:14:50,458]\u001b[0m Trial 12 finished with value: 0.5241781500242109 and parameters: {'n_estimators': 199, 'max_depth': 15, 'min_samples_leaf': 2, 'min_samples_split': 4, 'subsample': 0.4219503860817864}. Best is trial 5 with value: 0.5621071119117856.\u001b[0m\n",
      "\u001b[32m[I 2023-08-17 22:14:50,727]\u001b[0m Trial 13 finished with value: 0.47230824018098644 and parameters: {'n_estimators': 124, 'max_depth': 16, 'min_samples_leaf': 5, 'min_samples_split': 8, 'subsample': 0.11889393404235302}. Best is trial 5 with value: 0.5621071119117856.\u001b[0m\n",
      "\u001b[32m[I 2023-08-17 22:14:51,249]\u001b[0m Trial 14 finished with value: 0.5506965841341357 and parameters: {'n_estimators': 120, 'max_depth': 30, 'min_samples_leaf': 10, 'min_samples_split': 5, 'subsample': 0.4119429511554273}. Best is trial 5 with value: 0.5621071119117856.\u001b[0m\n",
      "\u001b[32m[I 2023-08-17 22:14:51,895]\u001b[0m Trial 15 finished with value: 0.5457585139300843 and parameters: {'n_estimators': 143, 'max_depth': 17, 'min_samples_leaf': 4, 'min_samples_split': 9, 'subsample': 0.357484281223095}. Best is trial 5 with value: 0.5621071119117856.\u001b[0m\n",
      "\u001b[32m[I 2023-08-17 22:14:52,432]\u001b[0m Trial 16 finished with value: 0.5664576500449761 and parameters: {'n_estimators': 119, 'max_depth': 11, 'min_samples_leaf': 9, 'min_samples_split': 5, 'subsample': 0.452028816478098}. Best is trial 16 with value: 0.5664576500449761.\u001b[0m\n",
      "\u001b[32m[I 2023-08-17 22:14:52,969]\u001b[0m Trial 17 finished with value: 0.5549769595735166 and parameters: {'n_estimators': 114, 'max_depth': 9, 'min_samples_leaf': 6, 'min_samples_split': 6, 'subsample': 0.43582078679629566}. Best is trial 16 with value: 0.5664576500449761.\u001b[0m\n",
      "\u001b[32m[I 2023-08-17 22:14:53,458]\u001b[0m Trial 18 finished with value: 0.5491350773678635 and parameters: {'n_estimators': 127, 'max_depth': 26, 'min_samples_leaf': 9, 'min_samples_split': 8, 'subsample': 0.38234441033736016}. Best is trial 16 with value: 0.5664576500449761.\u001b[0m\n",
      "\u001b[32m[I 2023-08-17 22:14:53,796]\u001b[0m Trial 19 finished with value: 0.5229244304526295 and parameters: {'n_estimators': 101, 'max_depth': 7, 'min_samples_leaf': 6, 'min_samples_split': 4, 'subsample': 0.2950255159547283}. Best is trial 16 with value: 0.5664576500449761.\u001b[0m\n",
      "\u001b[32m[I 2023-08-17 22:14:54,580]\u001b[0m Trial 20 finished with value: 0.5386930395330571 and parameters: {'n_estimators': 112, 'max_depth': 20, 'min_samples_leaf': 4, 'min_samples_split': 8, 'subsample': 0.4983083933985476}. Best is trial 16 with value: 0.5664576500449761.\u001b[0m\n",
      "\u001b[32m[I 2023-08-17 22:14:55,195]\u001b[0m Trial 21 finished with value: 0.5613256426836435 and parameters: {'n_estimators': 130, 'max_depth': 13, 'min_samples_leaf': 9, 'min_samples_split': 5, 'subsample': 0.45392119127834485}. Best is trial 16 with value: 0.5664576500449761.\u001b[0m\n",
      "\u001b[32m[I 2023-08-17 22:14:55,795]\u001b[0m Trial 22 finished with value: 0.5442033122959851 and parameters: {'n_estimators': 132, 'max_depth': 13, 'min_samples_leaf': 9, 'min_samples_split': 4, 'subsample': 0.44836331863935525}. Best is trial 16 with value: 0.5664576500449761.\u001b[0m\n",
      "\u001b[32m[I 2023-08-17 22:14:56,309]\u001b[0m Trial 23 finished with value: 0.5574403320576091 and parameters: {'n_estimators': 115, 'max_depth': 12, 'min_samples_leaf': 8, 'min_samples_split': 6, 'subsample': 0.3900307568381056}. Best is trial 16 with value: 0.5664576500449761.\u001b[0m\n",
      "\u001b[32m[I 2023-08-17 22:14:56,689]\u001b[0m Trial 24 finished with value: 0.5538219656497214 and parameters: {'n_estimators': 124, 'max_depth': 5, 'min_samples_leaf': 9, 'min_samples_split': 5, 'subsample': 0.3227389115142897}. Best is trial 16 with value: 0.5664576500449761.\u001b[0m\n",
      "\u001b[32m[I 2023-08-17 22:14:57,465]\u001b[0m Trial 25 finished with value: 0.5573326860647504 and parameters: {'n_estimators': 147, 'max_depth': 19, 'min_samples_leaf': 6, 'min_samples_split': 3, 'subsample': 0.45038408688640835}. Best is trial 16 with value: 0.5664576500449761.\u001b[0m\n",
      "\u001b[32m[I 2023-08-17 22:14:57,891]\u001b[0m Trial 26 finished with value: 0.5575568058141778 and parameters: {'n_estimators': 109, 'max_depth': 13, 'min_samples_leaf': 8, 'min_samples_split': 7, 'subsample': 0.3450134394668618}. Best is trial 16 with value: 0.5664576500449761.\u001b[0m\n",
      "\u001b[32m[I 2023-08-17 22:14:58,468]\u001b[0m Trial 27 finished with value: 0.5353690806105351 and parameters: {'n_estimators': 131, 'max_depth': 7, 'min_samples_leaf': 3, 'min_samples_split': 6, 'subsample': 0.3907752959356767}. Best is trial 16 with value: 0.5664576500449761.\u001b[0m\n",
      "\u001b[32m[I 2023-08-17 22:14:59,050]\u001b[0m Trial 28 finished with value: 0.5693162338960374 and parameters: {'n_estimators': 119, 'max_depth': 23, 'min_samples_leaf': 9, 'min_samples_split': 3, 'subsample': 0.4725451391140236}. Best is trial 28 with value: 0.5693162338960374.\u001b[0m\n",
      "\u001b[32m[I 2023-08-17 22:15:00,021]\u001b[0m Trial 29 finished with value: 0.5530423526870685 and parameters: {'n_estimators': 154, 'max_depth': 27, 'min_samples_leaf': 5, 'min_samples_split': 3, 'subsample': 0.48206840223378705}. Best is trial 28 with value: 0.5693162338960374.\u001b[0m\n",
      "\u001b[32m[I 2023-08-17 22:15:00,959]\u001b[0m Trial 30 finished with value: 0.524308370071491 and parameters: {'n_estimators': 119, 'max_depth': 22, 'min_samples_leaf': 1, 'min_samples_split': 4, 'subsample': 0.41997014123983484}. Best is trial 28 with value: 0.5693162338960374.\u001b[0m\n",
      "\u001b[32m[I 2023-08-17 22:15:01,595]\u001b[0m Trial 31 finished with value: 0.5632301159469015 and parameters: {'n_estimators': 134, 'max_depth': 23, 'min_samples_leaf': 9, 'min_samples_split': 5, 'subsample': 0.4448427244152424}. Best is trial 28 with value: 0.5693162338960374.\u001b[0m\n",
      "\u001b[32m[I 2023-08-17 22:15:02,224]\u001b[0m Trial 32 finished with value: 0.5437454098023997 and parameters: {'n_estimators': 138, 'max_depth': 23, 'min_samples_leaf': 10, 'min_samples_split': 6, 'subsample': 0.4303386856150102}. Best is trial 28 with value: 0.5693162338960374.\u001b[0m\n",
      "\u001b[32m[I 2023-08-17 22:15:02,792]\u001b[0m Trial 33 finished with value: 0.5673832985278434 and parameters: {'n_estimators': 119, 'max_depth': 28, 'min_samples_leaf': 7, 'min_samples_split': 3, 'subsample': 0.39818338431465533}. Best is trial 28 with value: 0.5693162338960374.\u001b[0m\n",
      "\u001b[32m[I 2023-08-17 22:15:03,538]\u001b[0m Trial 34 finished with value: 0.5498949146765141 and parameters: {'n_estimators': 119, 'max_depth': 28, 'min_samples_leaf': 7, 'min_samples_split': 3, 'subsample': 0.46966475438331107}. Best is trial 28 with value: 0.5693162338960374.\u001b[0m\n",
      "\u001b[32m[I 2023-08-17 22:15:04,315]\u001b[0m Trial 35 finished with value: 0.561992558583361 and parameters: {'n_estimators': 136, 'max_depth': 25, 'min_samples_leaf': 9, 'min_samples_split': 3, 'subsample': 0.489191743428828}. Best is trial 28 with value: 0.5693162338960374.\u001b[0m\n",
      "\u001b[32m[I 2023-08-17 22:15:04,823]\u001b[0m Trial 36 finished with value: 0.553554459639821 and parameters: {'n_estimators': 123, 'max_depth': 22, 'min_samples_leaf': 8, 'min_samples_split': 2, 'subsample': 0.3679594060189767}. Best is trial 28 with value: 0.5693162338960374.\u001b[0m\n",
      "\u001b[32m[I 2023-08-17 22:15:05,486]\u001b[0m Trial 37 finished with value: 0.5538552645229121 and parameters: {'n_estimators': 134, 'max_depth': 24, 'min_samples_leaf': 7, 'min_samples_split': 4, 'subsample': 0.40630391028969054}. Best is trial 28 with value: 0.5693162338960374.\u001b[0m\n",
      "\u001b[32m[I 2023-08-17 22:15:05,861]\u001b[0m Trial 38 finished with value: 0.5731991018969902 and parameters: {'n_estimators': 108, 'max_depth': 18, 'min_samples_leaf': 10, 'min_samples_split': 3, 'subsample': 0.32821695801835143}. Best is trial 38 with value: 0.5731991018969902.\u001b[0m\n",
      "\u001b[32m[I 2023-08-17 22:15:06,175]\u001b[0m Trial 39 finished with value: 0.5450148702922144 and parameters: {'n_estimators': 107, 'max_depth': 18, 'min_samples_leaf': 10, 'min_samples_split': 2, 'subsample': 0.27475722718347284}. Best is trial 38 with value: 0.5731991018969902.\u001b[0m\n",
      "\u001b[32m[I 2023-08-17 22:15:06,522]\u001b[0m Trial 40 finished with value: 0.554565486711405 and parameters: {'n_estimators': 100, 'max_depth': 10, 'min_samples_leaf': 10, 'min_samples_split': 3, 'subsample': 0.3201902877493444}. Best is trial 38 with value: 0.5731991018969902.\u001b[0m\n",
      "\u001b[32m[I 2023-08-17 22:15:06,934]\u001b[0m Trial 41 finished with value: 0.5636913747350194 and parameters: {'n_estimators': 115, 'max_depth': 20, 'min_samples_leaf': 9, 'min_samples_split': 4, 'subsample': 0.3415603481243152}. Best is trial 38 with value: 0.5731991018969902.\u001b[0m\n",
      "\u001b[32m[I 2023-08-17 22:15:07,356]\u001b[0m Trial 42 finished with value: 0.5585816029190209 and parameters: {'n_estimators': 112, 'max_depth': 20, 'min_samples_leaf': 8, 'min_samples_split': 4, 'subsample': 0.34092102284551995}. Best is trial 38 with value: 0.5731991018969902.\u001b[0m\n",
      "\u001b[32m[I 2023-08-17 22:15:07,798]\u001b[0m Trial 43 finished with value: 0.5480491065609325 and parameters: {'n_estimators': 116, 'max_depth': 21, 'min_samples_leaf': 9, 'min_samples_split': 3, 'subsample': 0.36695645269282406}. Best is trial 38 with value: 0.5731991018969902.\u001b[0m\n",
      "\u001b[32m[I 2023-08-17 22:15:08,110]\u001b[0m Trial 44 finished with value: 0.5468767909132348 and parameters: {'n_estimators': 106, 'max_depth': 17, 'min_samples_leaf': 10, 'min_samples_split': 2, 'subsample': 0.27592266679243355}. Best is trial 38 with value: 0.5731991018969902.\u001b[0m\n",
      "\u001b[32m[I 2023-08-17 22:15:08,493]\u001b[0m Trial 45 finished with value: 0.5497680307860014 and parameters: {'n_estimators': 108, 'max_depth': 30, 'min_samples_leaf': 8, 'min_samples_split': 4, 'subsample': 0.31108941920080296}. Best is trial 38 with value: 0.5731991018969902.\u001b[0m\n",
      "\u001b[32m[I 2023-08-17 22:15:09,365]\u001b[0m Trial 46 finished with value: 0.5457761107520881 and parameters: {'n_estimators': 172, 'max_depth': 28, 'min_samples_leaf': 7, 'min_samples_split': 3, 'subsample': 0.4019597469581219}. Best is trial 38 with value: 0.5731991018969902.\u001b[0m\n",
      "\u001b[32m[I 2023-08-17 22:15:09,849]\u001b[0m Trial 47 finished with value: 0.5530383344763298 and parameters: {'n_estimators': 126, 'max_depth': 18, 'min_samples_leaf': 9, 'min_samples_split': 2, 'subsample': 0.34030881490847276}. Best is trial 38 with value: 0.5731991018969902.\u001b[0m\n",
      "\u001b[32m[I 2023-08-17 22:15:10,132]\u001b[0m Trial 48 finished with value: 0.4977216857034573 and parameters: {'n_estimators': 121, 'max_depth': 15, 'min_samples_leaf': 10, 'min_samples_split': 4, 'subsample': 0.14378108922681967}. Best is trial 38 with value: 0.5731991018969902.\u001b[0m\n",
      "\u001b[32m[I 2023-08-17 22:15:10,550]\u001b[0m Trial 49 finished with value: 0.5286115634413677 and parameters: {'n_estimators': 116, 'max_depth': 11, 'min_samples_leaf': 8, 'min_samples_split': 5, 'subsample': 0.2519815225210435}. Best is trial 38 with value: 0.5731991018969902.\u001b[0m\n",
      "\u001b[32m[I 2023-08-17 22:15:11,213]\u001b[0m Trial 50 finished with value: 0.5649731937766587 and parameters: {'n_estimators': 143, 'max_depth': 25, 'min_samples_leaf': 7, 'min_samples_split': 3, 'subsample': 0.3539729334036058}. Best is trial 38 with value: 0.5731991018969902.\u001b[0m\n",
      "\u001b[32m[I 2023-08-17 22:15:11,832]\u001b[0m Trial 51 finished with value: 0.5558166234326818 and parameters: {'n_estimators': 142, 'max_depth': 25, 'min_samples_leaf': 7, 'min_samples_split': 3, 'subsample': 0.3574203863323451}. Best is trial 38 with value: 0.5731991018969902.\u001b[0m\n",
      "\u001b[32m[I 2023-08-17 22:15:12,476]\u001b[0m Trial 52 finished with value: 0.5694486020252041 and parameters: {'n_estimators': 128, 'max_depth': 27, 'min_samples_leaf': 6, 'min_samples_split': 2, 'subsample': 0.3785802206014305}. Best is trial 38 with value: 0.5731991018969902.\u001b[0m\n",
      "\u001b[32m[I 2023-08-17 22:15:13,088]\u001b[0m Trial 53 finished with value: 0.5738825197396091 and parameters: {'n_estimators': 128, 'max_depth': 26, 'min_samples_leaf': 6, 'min_samples_split': 2, 'subsample': 0.3796180661711959}. Best is trial 53 with value: 0.5738825197396091.\u001b[0m\n",
      "\u001b[32m[I 2023-08-17 22:15:13,688]\u001b[0m Trial 54 finished with value: 0.5582278435626743 and parameters: {'n_estimators': 129, 'max_depth': 27, 'min_samples_leaf': 6, 'min_samples_split': 2, 'subsample': 0.3780219880031334}. Best is trial 53 with value: 0.5738825197396091.\u001b[0m\n",
      "\u001b[32m[I 2023-08-17 22:15:14,331]\u001b[0m Trial 55 finished with value: 0.5578962370245983 and parameters: {'n_estimators': 127, 'max_depth': 28, 'min_samples_leaf': 6, 'min_samples_split': 2, 'subsample': 0.4027994167428789}. Best is trial 53 with value: 0.5738825197396091.\u001b[0m\n",
      "\u001b[32m[I 2023-08-17 22:15:14,931]\u001b[0m Trial 56 finished with value: 0.5621268117183451 and parameters: {'n_estimators': 104, 'max_depth': 30, 'min_samples_leaf': 5, 'min_samples_split': 2, 'subsample': 0.4290760980596259}. Best is trial 53 with value: 0.5738825197396091.\u001b[0m\n",
      "\u001b[32m[I 2023-08-17 22:15:15,491]\u001b[0m Trial 57 finished with value: 0.5365528677229879 and parameters: {'n_estimators': 110, 'max_depth': 26, 'min_samples_leaf': 6, 'min_samples_split': 2, 'subsample': 0.3772979418585614}. Best is trial 53 with value: 0.5738825197396091.\u001b[0m\n",
      "\u001b[32m[I 2023-08-17 22:15:16,347]\u001b[0m Trial 58 finished with value: 0.5298329681633454 and parameters: {'n_estimators': 121, 'max_depth': 29, 'min_samples_leaf': 4, 'min_samples_split': 3, 'subsample': 0.45833593907501585}. Best is trial 53 with value: 0.5738825197396091.\u001b[0m\n",
      "\u001b[32m[I 2023-08-17 22:15:16,977]\u001b[0m Trial 59 finished with value: 0.5382722782971339 and parameters: {'n_estimators': 150, 'max_depth': 24, 'min_samples_leaf': 5, 'min_samples_split': 2, 'subsample': 0.30552916595503354}. Best is trial 53 with value: 0.5738825197396091.\u001b[0m\n",
      "\u001b[32m[I 2023-08-17 22:15:17,477]\u001b[0m Trial 60 finished with value: 0.5563735638115006 and parameters: {'n_estimators': 104, 'max_depth': 27, 'min_samples_leaf': 7, 'min_samples_split': 3, 'subsample': 0.41647942078487465}. Best is trial 53 with value: 0.5738825197396091.\u001b[0m\n",
      "\u001b[32m[I 2023-08-17 22:15:18,175]\u001b[0m Trial 61 finished with value: 0.553046991864201 and parameters: {'n_estimators': 159, 'max_depth': 25, 'min_samples_leaf': 6, 'min_samples_split': 3, 'subsample': 0.3594279262002996}. Best is trial 53 with value: 0.5738825197396091.\u001b[0m\n",
      "\u001b[32m[I 2023-08-17 22:15:19,026]\u001b[0m Trial 62 finished with value: 0.5665819710325627 and parameters: {'n_estimators': 145, 'max_depth': 24, 'min_samples_leaf': 7, 'min_samples_split': 2, 'subsample': 0.4776756613888862}. Best is trial 53 with value: 0.5738825197396091.\u001b[0m\n",
      "\u001b[32m[I 2023-08-17 22:15:19,910]\u001b[0m Trial 63 finished with value: 0.5586784159607279 and parameters: {'n_estimators': 118, 'max_depth': 29, 'min_samples_leaf': 5, 'min_samples_split': 2, 'subsample': 0.4857351068423764}. Best is trial 53 with value: 0.5738825197396091.\u001b[0m\n",
      "\u001b[32m[I 2023-08-17 22:15:20,508]\u001b[0m Trial 64 finished with value: 0.5754759102929614 and parameters: {'n_estimators': 112, 'max_depth': 22, 'min_samples_leaf': 8, 'min_samples_split': 2, 'subsample': 0.4702194121222136}. Best is trial 64 with value: 0.5754759102929614.\u001b[0m\n",
      "\u001b[32m[I 2023-08-17 22:15:21,123]\u001b[0m Trial 65 finished with value: 0.5576227168605549 and parameters: {'n_estimators': 112, 'max_depth': 22, 'min_samples_leaf': 7, 'min_samples_split': 2, 'subsample': 0.44029078337216715}. Best is trial 64 with value: 0.5754759102929614.\u001b[0m\n",
      "\u001b[32m[I 2023-08-17 22:15:21,862]\u001b[0m Trial 66 finished with value: 0.5442044685209153 and parameters: {'n_estimators': 124, 'max_depth': 24, 'min_samples_leaf': 6, 'min_samples_split': 2, 'subsample': 0.46856353056297084}. Best is trial 64 with value: 0.5754759102929614.\u001b[0m\n",
      "\u001b[32m[I 2023-08-17 22:15:22,822]\u001b[0m Trial 67 finished with value: 0.558249523616914 and parameters: {'n_estimators': 164, 'max_depth': 21, 'min_samples_leaf': 8, 'min_samples_split': 2, 'subsample': 0.4829649096989316}. Best is trial 64 with value: 0.5754759102929614.\u001b[0m\n",
      "\u001b[32m[I 2023-08-17 22:15:23,469]\u001b[0m Trial 68 finished with value: 0.5583075166176032 and parameters: {'n_estimators': 128, 'max_depth': 26, 'min_samples_leaf': 7, 'min_samples_split': 3, 'subsample': 0.3931727834193452}. Best is trial 64 with value: 0.5754759102929614.\u001b[0m\n",
      "\u001b[32m[I 2023-08-17 22:15:24,338]\u001b[0m Trial 69 finished with value: 0.5630773633671129 and parameters: {'n_estimators': 147, 'max_depth': 23, 'min_samples_leaf': 8, 'min_samples_split': 2, 'subsample': 0.4999318506059237}. Best is trial 64 with value: 0.5754759102929614.\u001b[0m\n",
      "\u001b[32m[I 2023-08-17 22:15:25,225]\u001b[0m Trial 70 finished with value: 0.5492810535898914 and parameters: {'n_estimators': 138, 'max_depth': 21, 'min_samples_leaf': 6, 'min_samples_split': 3, 'subsample': 0.47891332424180805}. Best is trial 64 with value: 0.5754759102929614.\u001b[0m\n",
      "\u001b[32m[I 2023-08-17 22:15:25,924]\u001b[0m Trial 71 finished with value: 0.5672737751265674 and parameters: {'n_estimators': 122, 'max_depth': 26, 'min_samples_leaf': 8, 'min_samples_split': 2, 'subsample': 0.4534029991149884}. Best is trial 64 with value: 0.5754759102929614.\u001b[0m\n",
      "\u001b[32m[I 2023-08-17 22:15:26,570]\u001b[0m Trial 72 finished with value: 0.5590471824999577 and parameters: {'n_estimators': 112, 'max_depth': 26, 'min_samples_leaf': 8, 'min_samples_split': 2, 'subsample': 0.46022261287663985}. Best is trial 64 with value: 0.5754759102929614.\u001b[0m\n",
      "\u001b[32m[I 2023-08-17 22:15:27,338]\u001b[0m Trial 73 finished with value: 0.5664617845478653 and parameters: {'n_estimators': 133, 'max_depth': 27, 'min_samples_leaf': 8, 'min_samples_split': 2, 'subsample': 0.43413657734275257}. Best is trial 64 with value: 0.5754759102929614.\u001b[0m\n",
      "\u001b[32m[I 2023-08-17 22:15:28,636]\u001b[0m Trial 74 finished with value: 0.5569841632100883 and parameters: {'n_estimators': 190, 'max_depth': 24, 'min_samples_leaf': 7, 'min_samples_split': 10, 'subsample': 0.4766424321425575}. Best is trial 64 with value: 0.5754759102929614.\u001b[0m\n",
      "\u001b[32m[I 2023-08-17 22:15:29,416]\u001b[0m Trial 75 finished with value: 0.568836640267307 and parameters: {'n_estimators': 124, 'max_depth': 28, 'min_samples_leaf': 7, 'min_samples_split': 2, 'subsample': 0.4434173302335779}. Best is trial 64 with value: 0.5754759102929614.\u001b[0m\n",
      "\u001b[32m[I 2023-08-17 22:15:30,093]\u001b[0m Trial 76 finished with value: 0.5633423000164006 and parameters: {'n_estimators': 124, 'max_depth': 29, 'min_samples_leaf': 9, 'min_samples_split': 3, 'subsample': 0.4213969793421521}. Best is trial 64 with value: 0.5754759102929614.\u001b[0m\n",
      "\u001b[32m[I 2023-08-17 22:15:30,838]\u001b[0m Trial 77 finished with value: 0.5704990695490162 and parameters: {'n_estimators': 118, 'max_depth': 28, 'min_samples_leaf': 8, 'min_samples_split': 9, 'subsample': 0.4444067486330338}. Best is trial 64 with value: 0.5754759102929614.\u001b[0m\n",
      "\u001b[32m[I 2023-08-17 22:15:31,369]\u001b[0m Trial 78 finished with value: 0.5534656527801215 and parameters: {'n_estimators': 117, 'max_depth': 28, 'min_samples_leaf': 9, 'min_samples_split': 7, 'subsample': 0.32990627907641534}. Best is trial 64 with value: 0.5754759102929614.\u001b[0m\n",
      "\u001b[32m[I 2023-08-17 22:15:31,968]\u001b[0m Trial 79 finished with value: 0.5679347281863784 and parameters: {'n_estimators': 110, 'max_depth': 30, 'min_samples_leaf': 10, 'min_samples_split': 10, 'subsample': 0.3952556071756958}. Best is trial 64 with value: 0.5754759102929614.\u001b[0m\n",
      "\u001b[32m[I 2023-08-17 22:15:32,500]\u001b[0m Trial 80 finished with value: 0.5595308038625868 and parameters: {'n_estimators': 110, 'max_depth': 30, 'min_samples_leaf': 10, 'min_samples_split': 9, 'subsample': 0.38097790500479917}. Best is trial 64 with value: 0.5754759102929614.\u001b[0m\n",
      "\u001b[32m[I 2023-08-17 22:15:33,140]\u001b[0m Trial 81 finished with value: 0.5657872601447662 and parameters: {'n_estimators': 114, 'max_depth': 28, 'min_samples_leaf': 10, 'min_samples_split': 9, 'subsample': 0.3940045494452792}. Best is trial 64 with value: 0.5754759102929614.\u001b[0m\n",
      "\u001b[32m[I 2023-08-17 22:15:33,768]\u001b[0m Trial 82 finished with value: 0.5452588122636085 and parameters: {'n_estimators': 106, 'max_depth': 29, 'min_samples_leaf': 10, 'min_samples_split': 9, 'subsample': 0.4400147460487266}. Best is trial 64 with value: 0.5754759102929614.\u001b[0m\n",
      "\u001b[32m[I 2023-08-17 22:15:34,468]\u001b[0m Trial 83 finished with value: 0.5576524265688734 and parameters: {'n_estimators': 126, 'max_depth': 27, 'min_samples_leaf': 9, 'min_samples_split': 10, 'subsample': 0.412862860358168}. Best is trial 64 with value: 0.5754759102929614.\u001b[0m\n",
      "\u001b[32m[I 2023-08-17 22:15:35,106]\u001b[0m Trial 84 finished with value: 0.553422837115514 and parameters: {'n_estimators': 102, 'max_depth': 30, 'min_samples_leaf': 10, 'min_samples_split': 10, 'subsample': 0.4288110898961457}. Best is trial 64 with value: 0.5754759102929614.\u001b[0m\n",
      "\u001b[32m[I 2023-08-17 22:15:35,938]\u001b[0m Trial 85 finished with value: 0.5553587238587279 and parameters: {'n_estimators': 119, 'max_depth': 29, 'min_samples_leaf': 7, 'min_samples_split': 8, 'subsample': 0.40097015922915047}. Best is trial 64 with value: 0.5754759102929614.\u001b[0m\n",
      "\u001b[32m[I 2023-08-17 22:15:36,620]\u001b[0m Trial 86 finished with value: 0.5558557181226563 and parameters: {'n_estimators': 114, 'max_depth': 27, 'min_samples_leaf': 6, 'min_samples_split': 8, 'subsample': 0.3734750833789985}. Best is trial 64 with value: 0.5754759102929614.\u001b[0m\n",
      "\u001b[32m[I 2023-08-17 22:15:37,496]\u001b[0m Trial 87 finished with value: 0.5501633778606203 and parameters: {'n_estimators': 131, 'max_depth': 28, 'min_samples_leaf': 9, 'min_samples_split': 10, 'subsample': 0.4471648156207539}. Best is trial 64 with value: 0.5754759102929614.\u001b[0m\n",
      "\u001b[32m[I 2023-08-17 22:15:38,363]\u001b[0m Trial 88 finished with value: 0.5489702020251807 and parameters: {'n_estimators': 111, 'max_depth': 19, 'min_samples_leaf': 8, 'min_samples_split': 3, 'subsample': 0.42397586314208546}. Best is trial 64 with value: 0.5754759102929614.\u001b[0m\n",
      "\u001b[32m[I 2023-08-17 22:15:38,956]\u001b[0m Trial 89 finished with value: 0.5592853441803547 and parameters: {'n_estimators': 108, 'max_depth': 23, 'min_samples_leaf': 10, 'min_samples_split': 3, 'subsample': 0.38805983540057115}. Best is trial 64 with value: 0.5754759102929614.\u001b[0m\n",
      "\u001b[32m[I 2023-08-17 22:15:39,696]\u001b[0m Trial 90 finished with value: 0.560017300821675 and parameters: {'n_estimators': 121, 'max_depth': 14, 'min_samples_leaf': 9, 'min_samples_split': 7, 'subsample': 0.4622908021703603}. Best is trial 64 with value: 0.5754759102929614.\u001b[0m\n",
      "\u001b[32m[I 2023-08-17 22:15:40,512]\u001b[0m Trial 91 finished with value: 0.5709533095470399 and parameters: {'n_estimators': 121, 'max_depth': 26, 'min_samples_leaf': 8, 'min_samples_split': 9, 'subsample': 0.4543044718708901}. Best is trial 64 with value: 0.5754759102929614.\u001b[0m\n",
      "\u001b[32m[I 2023-08-17 22:15:41,216]\u001b[0m Trial 92 finished with value: 0.5525438761658557 and parameters: {'n_estimators': 117, 'max_depth': 25, 'min_samples_leaf': 7, 'min_samples_split': 9, 'subsample': 0.4067178627600478}. Best is trial 64 with value: 0.5754759102929614.\u001b[0m\n",
      "\u001b[32m[I 2023-08-17 22:15:42,097]\u001b[0m Trial 93 finished with value: 0.5659381443029092 and parameters: {'n_estimators': 136, 'max_depth': 26, 'min_samples_leaf': 8, 'min_samples_split': 10, 'subsample': 0.4665905343871337}. Best is trial 64 with value: 0.5754759102929614.\u001b[0m\n",
      "\u001b[32m[I 2023-08-17 22:15:42,629]\u001b[0m Trial 94 finished with value: 0.548222452434788 and parameters: {'n_estimators': 113, 'max_depth': 28, 'min_samples_leaf': 8, 'min_samples_split': 9, 'subsample': 0.3496421893506447}. Best is trial 64 with value: 0.5754759102929614.\u001b[0m\n",
      "\u001b[32m[I 2023-08-17 22:15:43,309]\u001b[0m Trial 95 finished with value: 0.5547405479239045 and parameters: {'n_estimators': 126, 'max_depth': 27, 'min_samples_leaf': 6, 'min_samples_split': 9, 'subsample': 0.3331817572727639}. Best is trial 64 with value: 0.5754759102929614.\u001b[0m\n",
      "\u001b[32m[I 2023-08-17 22:15:44,079]\u001b[0m Trial 96 finished with value: 0.56696734498731 and parameters: {'n_estimators': 119, 'max_depth': 29, 'min_samples_leaf': 7, 'min_samples_split': 8, 'subsample': 0.4448689099845116}. Best is trial 64 with value: 0.5754759102929614.\u001b[0m\n",
      "\u001b[32m[I 2023-08-17 22:15:44,938]\u001b[0m Trial 97 finished with value: 0.5626254551646293 and parameters: {'n_estimators': 123, 'max_depth': 16, 'min_samples_leaf': 9, 'min_samples_split': 4, 'subsample': 0.4952817914138595}. Best is trial 64 with value: 0.5754759102929614.\u001b[0m\n",
      "\u001b[32m[I 2023-08-17 22:15:45,376]\u001b[0m Trial 98 finished with value: 0.5571201041446456 and parameters: {'n_estimators': 115, 'max_depth': 3, 'min_samples_leaf': 8, 'min_samples_split': 2, 'subsample': 0.4124583869203403}. Best is trial 64 with value: 0.5754759102929614.\u001b[0m\n",
      "\u001b[32m[I 2023-08-17 22:15:45,973]\u001b[0m Trial 99 finished with value: 0.48178081407272416 and parameters: {'n_estimators': 104, 'max_depth': 30, 'min_samples_leaf': 1, 'min_samples_split': 2, 'subsample': 0.20163885179814256}. Best is trial 64 with value: 0.5754759102929614.\u001b[0m\n"
     ]
    },
    {
     "name": "stdout",
     "output_type": "stream",
     "text": [
      "Best r2:  0.5754759102929614\n",
      "Best trial: {'n_estimators': 112, 'max_depth': 22, 'min_samples_leaf': 8, 'min_samples_split': 2, 'subsample': 0.4702194121222136}\n"
     ]
    }
   ],
   "source": [
    "sampler = TPESampler()\n",
    "study = optuna.create_study(\n",
    "    study_name=\"gb_parameter_opt\",\n",
    "    direction=\"maximize\",\n",
    "    sampler=sampler,\n",
    ")\n",
    "\n",
    "study.optimize(lambda trial : objectiveGB(trial, As_X_train, As_y_train), n_trials=100)\n",
    "print(\"Best r2: \", study.best_value)\n",
    "print(\"Best trial:\", study.best_trial.params)"
   ]
  },
  {
   "cell_type": "code",
   "execution_count": 26,
   "id": "8ec7571f",
   "metadata": {},
   "outputs": [
    {
     "data": {
      "application/vnd.plotly.v1+json": {
       "config": {
        "plotlyServerURL": "https://plot.ly"
       },
       "data": [
        {
         "mode": "markers",
         "name": "Objective Value",
         "type": "scatter",
         "x": [
          0,
          1,
          2,
          3,
          4,
          5,
          6,
          7,
          8,
          9,
          10,
          11,
          12,
          13,
          14,
          15,
          16,
          17,
          18,
          19,
          20,
          21,
          22,
          23,
          24,
          25,
          26,
          27,
          28,
          29,
          30,
          31,
          32,
          33,
          34,
          35,
          36,
          37,
          38,
          39,
          40,
          41,
          42,
          43,
          44,
          45,
          46,
          47,
          48,
          49,
          50,
          51,
          52,
          53,
          54,
          55,
          56,
          57,
          58,
          59,
          60,
          61,
          62,
          63,
          64,
          65,
          66,
          67,
          68,
          69,
          70,
          71,
          72,
          73,
          74,
          75,
          76,
          77,
          78,
          79,
          80,
          81,
          82,
          83,
          84,
          85,
          86,
          87,
          88,
          89,
          90,
          91,
          92,
          93,
          94,
          95,
          96,
          97,
          98,
          99
         ],
         "y": [
          0.5460967698885423,
          0.5357102810692413,
          0.4197475381798479,
          0.5577389899515521,
          0.4487319995084091,
          0.5621071119117856,
          0.4505457551073168,
          0.5235910659064273,
          0.5140215219636338,
          0.4987982417546467,
          0.5563309900057105,
          0.5600801863780185,
          0.5241781500242109,
          0.47230824018098644,
          0.5506965841341357,
          0.5457585139300843,
          0.5664576500449761,
          0.5549769595735166,
          0.5491350773678635,
          0.5229244304526295,
          0.5386930395330571,
          0.5613256426836435,
          0.5442033122959851,
          0.5574403320576091,
          0.5538219656497214,
          0.5573326860647504,
          0.5575568058141778,
          0.5353690806105351,
          0.5693162338960374,
          0.5530423526870685,
          0.524308370071491,
          0.5632301159469015,
          0.5437454098023997,
          0.5673832985278434,
          0.5498949146765141,
          0.561992558583361,
          0.553554459639821,
          0.5538552645229121,
          0.5731991018969902,
          0.5450148702922144,
          0.554565486711405,
          0.5636913747350194,
          0.5585816029190209,
          0.5480491065609325,
          0.5468767909132348,
          0.5497680307860014,
          0.5457761107520881,
          0.5530383344763298,
          0.4977216857034573,
          0.5286115634413677,
          0.5649731937766587,
          0.5558166234326818,
          0.5694486020252041,
          0.5738825197396091,
          0.5582278435626743,
          0.5578962370245983,
          0.5621268117183451,
          0.5365528677229879,
          0.5298329681633454,
          0.5382722782971339,
          0.5563735638115006,
          0.553046991864201,
          0.5665819710325627,
          0.5586784159607279,
          0.5754759102929614,
          0.5576227168605549,
          0.5442044685209153,
          0.558249523616914,
          0.5583075166176032,
          0.5630773633671129,
          0.5492810535898914,
          0.5672737751265674,
          0.5590471824999577,
          0.5664617845478653,
          0.5569841632100883,
          0.568836640267307,
          0.5633423000164006,
          0.5704990695490162,
          0.5534656527801215,
          0.5679347281863784,
          0.5595308038625868,
          0.5657872601447662,
          0.5452588122636085,
          0.5576524265688734,
          0.553422837115514,
          0.5553587238587279,
          0.5558557181226563,
          0.5501633778606203,
          0.5489702020251807,
          0.5592853441803547,
          0.560017300821675,
          0.5709533095470399,
          0.5525438761658557,
          0.5659381443029092,
          0.548222452434788,
          0.5547405479239045,
          0.56696734498731,
          0.5626254551646293,
          0.5571201041446456,
          0.48178081407272416
         ]
        },
        {
         "name": "Best Value",
         "type": "scatter",
         "x": [
          0,
          1,
          2,
          3,
          4,
          5,
          6,
          7,
          8,
          9,
          10,
          11,
          12,
          13,
          14,
          15,
          16,
          17,
          18,
          19,
          20,
          21,
          22,
          23,
          24,
          25,
          26,
          27,
          28,
          29,
          30,
          31,
          32,
          33,
          34,
          35,
          36,
          37,
          38,
          39,
          40,
          41,
          42,
          43,
          44,
          45,
          46,
          47,
          48,
          49,
          50,
          51,
          52,
          53,
          54,
          55,
          56,
          57,
          58,
          59,
          60,
          61,
          62,
          63,
          64,
          65,
          66,
          67,
          68,
          69,
          70,
          71,
          72,
          73,
          74,
          75,
          76,
          77,
          78,
          79,
          80,
          81,
          82,
          83,
          84,
          85,
          86,
          87,
          88,
          89,
          90,
          91,
          92,
          93,
          94,
          95,
          96,
          97,
          98,
          99
         ],
         "y": [
          0.5460967698885423,
          0.5460967698885423,
          0.5460967698885423,
          0.5577389899515521,
          0.5577389899515521,
          0.5621071119117856,
          0.5621071119117856,
          0.5621071119117856,
          0.5621071119117856,
          0.5621071119117856,
          0.5621071119117856,
          0.5621071119117856,
          0.5621071119117856,
          0.5621071119117856,
          0.5621071119117856,
          0.5621071119117856,
          0.5664576500449761,
          0.5664576500449761,
          0.5664576500449761,
          0.5664576500449761,
          0.5664576500449761,
          0.5664576500449761,
          0.5664576500449761,
          0.5664576500449761,
          0.5664576500449761,
          0.5664576500449761,
          0.5664576500449761,
          0.5664576500449761,
          0.5693162338960374,
          0.5693162338960374,
          0.5693162338960374,
          0.5693162338960374,
          0.5693162338960374,
          0.5693162338960374,
          0.5693162338960374,
          0.5693162338960374,
          0.5693162338960374,
          0.5693162338960374,
          0.5731991018969902,
          0.5731991018969902,
          0.5731991018969902,
          0.5731991018969902,
          0.5731991018969902,
          0.5731991018969902,
          0.5731991018969902,
          0.5731991018969902,
          0.5731991018969902,
          0.5731991018969902,
          0.5731991018969902,
          0.5731991018969902,
          0.5731991018969902,
          0.5731991018969902,
          0.5731991018969902,
          0.5738825197396091,
          0.5738825197396091,
          0.5738825197396091,
          0.5738825197396091,
          0.5738825197396091,
          0.5738825197396091,
          0.5738825197396091,
          0.5738825197396091,
          0.5738825197396091,
          0.5738825197396091,
          0.5738825197396091,
          0.5754759102929614,
          0.5754759102929614,
          0.5754759102929614,
          0.5754759102929614,
          0.5754759102929614,
          0.5754759102929614,
          0.5754759102929614,
          0.5754759102929614,
          0.5754759102929614,
          0.5754759102929614,
          0.5754759102929614,
          0.5754759102929614,
          0.5754759102929614,
          0.5754759102929614,
          0.5754759102929614,
          0.5754759102929614,
          0.5754759102929614,
          0.5754759102929614,
          0.5754759102929614,
          0.5754759102929614,
          0.5754759102929614,
          0.5754759102929614,
          0.5754759102929614,
          0.5754759102929614,
          0.5754759102929614,
          0.5754759102929614,
          0.5754759102929614,
          0.5754759102929614,
          0.5754759102929614,
          0.5754759102929614,
          0.5754759102929614,
          0.5754759102929614,
          0.5754759102929614,
          0.5754759102929614,
          0.5754759102929614,
          0.5754759102929614
         ]
        }
       ],
       "layout": {
        "template": {
         "data": {
          "bar": [
           {
            "error_x": {
             "color": "#2a3f5f"
            },
            "error_y": {
             "color": "#2a3f5f"
            },
            "marker": {
             "line": {
              "color": "#E5ECF6",
              "width": 0.5
             },
             "pattern": {
              "fillmode": "overlay",
              "size": 10,
              "solidity": 0.2
             }
            },
            "type": "bar"
           }
          ],
          "barpolar": [
           {
            "marker": {
             "line": {
              "color": "#E5ECF6",
              "width": 0.5
             },
             "pattern": {
              "fillmode": "overlay",
              "size": 10,
              "solidity": 0.2
             }
            },
            "type": "barpolar"
           }
          ],
          "carpet": [
           {
            "aaxis": {
             "endlinecolor": "#2a3f5f",
             "gridcolor": "white",
             "linecolor": "white",
             "minorgridcolor": "white",
             "startlinecolor": "#2a3f5f"
            },
            "baxis": {
             "endlinecolor": "#2a3f5f",
             "gridcolor": "white",
             "linecolor": "white",
             "minorgridcolor": "white",
             "startlinecolor": "#2a3f5f"
            },
            "type": "carpet"
           }
          ],
          "choropleth": [
           {
            "colorbar": {
             "outlinewidth": 0,
             "ticks": ""
            },
            "type": "choropleth"
           }
          ],
          "contour": [
           {
            "colorbar": {
             "outlinewidth": 0,
             "ticks": ""
            },
            "colorscale": [
             [
              0,
              "#0d0887"
             ],
             [
              0.1111111111111111,
              "#46039f"
             ],
             [
              0.2222222222222222,
              "#7201a8"
             ],
             [
              0.3333333333333333,
              "#9c179e"
             ],
             [
              0.4444444444444444,
              "#bd3786"
             ],
             [
              0.5555555555555556,
              "#d8576b"
             ],
             [
              0.6666666666666666,
              "#ed7953"
             ],
             [
              0.7777777777777778,
              "#fb9f3a"
             ],
             [
              0.8888888888888888,
              "#fdca26"
             ],
             [
              1,
              "#f0f921"
             ]
            ],
            "type": "contour"
           }
          ],
          "contourcarpet": [
           {
            "colorbar": {
             "outlinewidth": 0,
             "ticks": ""
            },
            "type": "contourcarpet"
           }
          ],
          "heatmap": [
           {
            "colorbar": {
             "outlinewidth": 0,
             "ticks": ""
            },
            "colorscale": [
             [
              0,
              "#0d0887"
             ],
             [
              0.1111111111111111,
              "#46039f"
             ],
             [
              0.2222222222222222,
              "#7201a8"
             ],
             [
              0.3333333333333333,
              "#9c179e"
             ],
             [
              0.4444444444444444,
              "#bd3786"
             ],
             [
              0.5555555555555556,
              "#d8576b"
             ],
             [
              0.6666666666666666,
              "#ed7953"
             ],
             [
              0.7777777777777778,
              "#fb9f3a"
             ],
             [
              0.8888888888888888,
              "#fdca26"
             ],
             [
              1,
              "#f0f921"
             ]
            ],
            "type": "heatmap"
           }
          ],
          "heatmapgl": [
           {
            "colorbar": {
             "outlinewidth": 0,
             "ticks": ""
            },
            "colorscale": [
             [
              0,
              "#0d0887"
             ],
             [
              0.1111111111111111,
              "#46039f"
             ],
             [
              0.2222222222222222,
              "#7201a8"
             ],
             [
              0.3333333333333333,
              "#9c179e"
             ],
             [
              0.4444444444444444,
              "#bd3786"
             ],
             [
              0.5555555555555556,
              "#d8576b"
             ],
             [
              0.6666666666666666,
              "#ed7953"
             ],
             [
              0.7777777777777778,
              "#fb9f3a"
             ],
             [
              0.8888888888888888,
              "#fdca26"
             ],
             [
              1,
              "#f0f921"
             ]
            ],
            "type": "heatmapgl"
           }
          ],
          "histogram": [
           {
            "marker": {
             "pattern": {
              "fillmode": "overlay",
              "size": 10,
              "solidity": 0.2
             }
            },
            "type": "histogram"
           }
          ],
          "histogram2d": [
           {
            "colorbar": {
             "outlinewidth": 0,
             "ticks": ""
            },
            "colorscale": [
             [
              0,
              "#0d0887"
             ],
             [
              0.1111111111111111,
              "#46039f"
             ],
             [
              0.2222222222222222,
              "#7201a8"
             ],
             [
              0.3333333333333333,
              "#9c179e"
             ],
             [
              0.4444444444444444,
              "#bd3786"
             ],
             [
              0.5555555555555556,
              "#d8576b"
             ],
             [
              0.6666666666666666,
              "#ed7953"
             ],
             [
              0.7777777777777778,
              "#fb9f3a"
             ],
             [
              0.8888888888888888,
              "#fdca26"
             ],
             [
              1,
              "#f0f921"
             ]
            ],
            "type": "histogram2d"
           }
          ],
          "histogram2dcontour": [
           {
            "colorbar": {
             "outlinewidth": 0,
             "ticks": ""
            },
            "colorscale": [
             [
              0,
              "#0d0887"
             ],
             [
              0.1111111111111111,
              "#46039f"
             ],
             [
              0.2222222222222222,
              "#7201a8"
             ],
             [
              0.3333333333333333,
              "#9c179e"
             ],
             [
              0.4444444444444444,
              "#bd3786"
             ],
             [
              0.5555555555555556,
              "#d8576b"
             ],
             [
              0.6666666666666666,
              "#ed7953"
             ],
             [
              0.7777777777777778,
              "#fb9f3a"
             ],
             [
              0.8888888888888888,
              "#fdca26"
             ],
             [
              1,
              "#f0f921"
             ]
            ],
            "type": "histogram2dcontour"
           }
          ],
          "mesh3d": [
           {
            "colorbar": {
             "outlinewidth": 0,
             "ticks": ""
            },
            "type": "mesh3d"
           }
          ],
          "parcoords": [
           {
            "line": {
             "colorbar": {
              "outlinewidth": 0,
              "ticks": ""
             }
            },
            "type": "parcoords"
           }
          ],
          "pie": [
           {
            "automargin": true,
            "type": "pie"
           }
          ],
          "scatter": [
           {
            "marker": {
             "colorbar": {
              "outlinewidth": 0,
              "ticks": ""
             }
            },
            "type": "scatter"
           }
          ],
          "scatter3d": [
           {
            "line": {
             "colorbar": {
              "outlinewidth": 0,
              "ticks": ""
             }
            },
            "marker": {
             "colorbar": {
              "outlinewidth": 0,
              "ticks": ""
             }
            },
            "type": "scatter3d"
           }
          ],
          "scattercarpet": [
           {
            "marker": {
             "colorbar": {
              "outlinewidth": 0,
              "ticks": ""
             }
            },
            "type": "scattercarpet"
           }
          ],
          "scattergeo": [
           {
            "marker": {
             "colorbar": {
              "outlinewidth": 0,
              "ticks": ""
             }
            },
            "type": "scattergeo"
           }
          ],
          "scattergl": [
           {
            "marker": {
             "colorbar": {
              "outlinewidth": 0,
              "ticks": ""
             }
            },
            "type": "scattergl"
           }
          ],
          "scattermapbox": [
           {
            "marker": {
             "colorbar": {
              "outlinewidth": 0,
              "ticks": ""
             }
            },
            "type": "scattermapbox"
           }
          ],
          "scatterpolar": [
           {
            "marker": {
             "colorbar": {
              "outlinewidth": 0,
              "ticks": ""
             }
            },
            "type": "scatterpolar"
           }
          ],
          "scatterpolargl": [
           {
            "marker": {
             "colorbar": {
              "outlinewidth": 0,
              "ticks": ""
             }
            },
            "type": "scatterpolargl"
           }
          ],
          "scatterternary": [
           {
            "marker": {
             "colorbar": {
              "outlinewidth": 0,
              "ticks": ""
             }
            },
            "type": "scatterternary"
           }
          ],
          "surface": [
           {
            "colorbar": {
             "outlinewidth": 0,
             "ticks": ""
            },
            "colorscale": [
             [
              0,
              "#0d0887"
             ],
             [
              0.1111111111111111,
              "#46039f"
             ],
             [
              0.2222222222222222,
              "#7201a8"
             ],
             [
              0.3333333333333333,
              "#9c179e"
             ],
             [
              0.4444444444444444,
              "#bd3786"
             ],
             [
              0.5555555555555556,
              "#d8576b"
             ],
             [
              0.6666666666666666,
              "#ed7953"
             ],
             [
              0.7777777777777778,
              "#fb9f3a"
             ],
             [
              0.8888888888888888,
              "#fdca26"
             ],
             [
              1,
              "#f0f921"
             ]
            ],
            "type": "surface"
           }
          ],
          "table": [
           {
            "cells": {
             "fill": {
              "color": "#EBF0F8"
             },
             "line": {
              "color": "white"
             }
            },
            "header": {
             "fill": {
              "color": "#C8D4E3"
             },
             "line": {
              "color": "white"
             }
            },
            "type": "table"
           }
          ]
         },
         "layout": {
          "annotationdefaults": {
           "arrowcolor": "#2a3f5f",
           "arrowhead": 0,
           "arrowwidth": 1
          },
          "autotypenumbers": "strict",
          "coloraxis": {
           "colorbar": {
            "outlinewidth": 0,
            "ticks": ""
           }
          },
          "colorscale": {
           "diverging": [
            [
             0,
             "#8e0152"
            ],
            [
             0.1,
             "#c51b7d"
            ],
            [
             0.2,
             "#de77ae"
            ],
            [
             0.3,
             "#f1b6da"
            ],
            [
             0.4,
             "#fde0ef"
            ],
            [
             0.5,
             "#f7f7f7"
            ],
            [
             0.6,
             "#e6f5d0"
            ],
            [
             0.7,
             "#b8e186"
            ],
            [
             0.8,
             "#7fbc41"
            ],
            [
             0.9,
             "#4d9221"
            ],
            [
             1,
             "#276419"
            ]
           ],
           "sequential": [
            [
             0,
             "#0d0887"
            ],
            [
             0.1111111111111111,
             "#46039f"
            ],
            [
             0.2222222222222222,
             "#7201a8"
            ],
            [
             0.3333333333333333,
             "#9c179e"
            ],
            [
             0.4444444444444444,
             "#bd3786"
            ],
            [
             0.5555555555555556,
             "#d8576b"
            ],
            [
             0.6666666666666666,
             "#ed7953"
            ],
            [
             0.7777777777777778,
             "#fb9f3a"
            ],
            [
             0.8888888888888888,
             "#fdca26"
            ],
            [
             1,
             "#f0f921"
            ]
           ],
           "sequentialminus": [
            [
             0,
             "#0d0887"
            ],
            [
             0.1111111111111111,
             "#46039f"
            ],
            [
             0.2222222222222222,
             "#7201a8"
            ],
            [
             0.3333333333333333,
             "#9c179e"
            ],
            [
             0.4444444444444444,
             "#bd3786"
            ],
            [
             0.5555555555555556,
             "#d8576b"
            ],
            [
             0.6666666666666666,
             "#ed7953"
            ],
            [
             0.7777777777777778,
             "#fb9f3a"
            ],
            [
             0.8888888888888888,
             "#fdca26"
            ],
            [
             1,
             "#f0f921"
            ]
           ]
          },
          "colorway": [
           "#636efa",
           "#EF553B",
           "#00cc96",
           "#ab63fa",
           "#FFA15A",
           "#19d3f3",
           "#FF6692",
           "#B6E880",
           "#FF97FF",
           "#FECB52"
          ],
          "font": {
           "color": "#2a3f5f"
          },
          "geo": {
           "bgcolor": "white",
           "lakecolor": "white",
           "landcolor": "#E5ECF6",
           "showlakes": true,
           "showland": true,
           "subunitcolor": "white"
          },
          "hoverlabel": {
           "align": "left"
          },
          "hovermode": "closest",
          "mapbox": {
           "style": "light"
          },
          "paper_bgcolor": "white",
          "plot_bgcolor": "#E5ECF6",
          "polar": {
           "angularaxis": {
            "gridcolor": "white",
            "linecolor": "white",
            "ticks": ""
           },
           "bgcolor": "#E5ECF6",
           "radialaxis": {
            "gridcolor": "white",
            "linecolor": "white",
            "ticks": ""
           }
          },
          "scene": {
           "xaxis": {
            "backgroundcolor": "#E5ECF6",
            "gridcolor": "white",
            "gridwidth": 2,
            "linecolor": "white",
            "showbackground": true,
            "ticks": "",
            "zerolinecolor": "white"
           },
           "yaxis": {
            "backgroundcolor": "#E5ECF6",
            "gridcolor": "white",
            "gridwidth": 2,
            "linecolor": "white",
            "showbackground": true,
            "ticks": "",
            "zerolinecolor": "white"
           },
           "zaxis": {
            "backgroundcolor": "#E5ECF6",
            "gridcolor": "white",
            "gridwidth": 2,
            "linecolor": "white",
            "showbackground": true,
            "ticks": "",
            "zerolinecolor": "white"
           }
          },
          "shapedefaults": {
           "line": {
            "color": "#2a3f5f"
           }
          },
          "ternary": {
           "aaxis": {
            "gridcolor": "white",
            "linecolor": "white",
            "ticks": ""
           },
           "baxis": {
            "gridcolor": "white",
            "linecolor": "white",
            "ticks": ""
           },
           "bgcolor": "#E5ECF6",
           "caxis": {
            "gridcolor": "white",
            "linecolor": "white",
            "ticks": ""
           }
          },
          "title": {
           "x": 0.05
          },
          "xaxis": {
           "automargin": true,
           "gridcolor": "white",
           "linecolor": "white",
           "ticks": "",
           "title": {
            "standoff": 15
           },
           "zerolinecolor": "white",
           "zerolinewidth": 2
          },
          "yaxis": {
           "automargin": true,
           "gridcolor": "white",
           "linecolor": "white",
           "ticks": "",
           "title": {
            "standoff": 15
           },
           "zerolinecolor": "white",
           "zerolinewidth": 2
          }
         }
        },
        "title": {
         "text": "Optimization History Plot"
        },
        "xaxis": {
         "title": {
          "text": "#Trials"
         }
        },
        "yaxis": {
         "title": {
          "text": "Objective Value"
         }
        }
       }
      }
     },
     "metadata": {},
     "output_type": "display_data"
    }
   ],
   "source": [
    "optuna.visualization.plot_optimization_history(study)"
   ]
  },
  {
   "cell_type": "code",
   "execution_count": 27,
   "id": "1f8e15f7",
   "metadata": {},
   "outputs": [
    {
     "data": {
      "application/vnd.plotly.v1+json": {
       "config": {
        "plotlyServerURL": "https://plot.ly"
       },
       "data": [
        {
         "cliponaxis": false,
         "hovertemplate": [
          "n_estimators (IntUniformDistribution): 0.005345603828755235<extra></extra>",
          "min_samples_split (IntUniformDistribution): 0.02796671479390279<extra></extra>",
          "min_samples_leaf (IntUniformDistribution): 0.03770892733778309<extra></extra>",
          "max_depth (IntUniformDistribution): 0.19185425788767915<extra></extra>",
          "subsample (UniformDistribution): 0.7371244961518797<extra></extra>"
         ],
         "marker": {
          "color": "rgb(66,146,198)"
         },
         "orientation": "h",
         "text": [
          "0.005345603828755235",
          "0.02796671479390279",
          "0.03770892733778309",
          "0.19185425788767915",
          "0.7371244961518797"
         ],
         "textposition": "outside",
         "texttemplate": "%{text:.2f}",
         "type": "bar",
         "x": [
          0.005345603828755235,
          0.02796671479390279,
          0.03770892733778309,
          0.19185425788767915,
          0.7371244961518797
         ],
         "y": [
          "n_estimators",
          "min_samples_split",
          "min_samples_leaf",
          "max_depth",
          "subsample"
         ]
        }
       ],
       "layout": {
        "showlegend": false,
        "template": {
         "data": {
          "bar": [
           {
            "error_x": {
             "color": "#2a3f5f"
            },
            "error_y": {
             "color": "#2a3f5f"
            },
            "marker": {
             "line": {
              "color": "#E5ECF6",
              "width": 0.5
             },
             "pattern": {
              "fillmode": "overlay",
              "size": 10,
              "solidity": 0.2
             }
            },
            "type": "bar"
           }
          ],
          "barpolar": [
           {
            "marker": {
             "line": {
              "color": "#E5ECF6",
              "width": 0.5
             },
             "pattern": {
              "fillmode": "overlay",
              "size": 10,
              "solidity": 0.2
             }
            },
            "type": "barpolar"
           }
          ],
          "carpet": [
           {
            "aaxis": {
             "endlinecolor": "#2a3f5f",
             "gridcolor": "white",
             "linecolor": "white",
             "minorgridcolor": "white",
             "startlinecolor": "#2a3f5f"
            },
            "baxis": {
             "endlinecolor": "#2a3f5f",
             "gridcolor": "white",
             "linecolor": "white",
             "minorgridcolor": "white",
             "startlinecolor": "#2a3f5f"
            },
            "type": "carpet"
           }
          ],
          "choropleth": [
           {
            "colorbar": {
             "outlinewidth": 0,
             "ticks": ""
            },
            "type": "choropleth"
           }
          ],
          "contour": [
           {
            "colorbar": {
             "outlinewidth": 0,
             "ticks": ""
            },
            "colorscale": [
             [
              0,
              "#0d0887"
             ],
             [
              0.1111111111111111,
              "#46039f"
             ],
             [
              0.2222222222222222,
              "#7201a8"
             ],
             [
              0.3333333333333333,
              "#9c179e"
             ],
             [
              0.4444444444444444,
              "#bd3786"
             ],
             [
              0.5555555555555556,
              "#d8576b"
             ],
             [
              0.6666666666666666,
              "#ed7953"
             ],
             [
              0.7777777777777778,
              "#fb9f3a"
             ],
             [
              0.8888888888888888,
              "#fdca26"
             ],
             [
              1,
              "#f0f921"
             ]
            ],
            "type": "contour"
           }
          ],
          "contourcarpet": [
           {
            "colorbar": {
             "outlinewidth": 0,
             "ticks": ""
            },
            "type": "contourcarpet"
           }
          ],
          "heatmap": [
           {
            "colorbar": {
             "outlinewidth": 0,
             "ticks": ""
            },
            "colorscale": [
             [
              0,
              "#0d0887"
             ],
             [
              0.1111111111111111,
              "#46039f"
             ],
             [
              0.2222222222222222,
              "#7201a8"
             ],
             [
              0.3333333333333333,
              "#9c179e"
             ],
             [
              0.4444444444444444,
              "#bd3786"
             ],
             [
              0.5555555555555556,
              "#d8576b"
             ],
             [
              0.6666666666666666,
              "#ed7953"
             ],
             [
              0.7777777777777778,
              "#fb9f3a"
             ],
             [
              0.8888888888888888,
              "#fdca26"
             ],
             [
              1,
              "#f0f921"
             ]
            ],
            "type": "heatmap"
           }
          ],
          "heatmapgl": [
           {
            "colorbar": {
             "outlinewidth": 0,
             "ticks": ""
            },
            "colorscale": [
             [
              0,
              "#0d0887"
             ],
             [
              0.1111111111111111,
              "#46039f"
             ],
             [
              0.2222222222222222,
              "#7201a8"
             ],
             [
              0.3333333333333333,
              "#9c179e"
             ],
             [
              0.4444444444444444,
              "#bd3786"
             ],
             [
              0.5555555555555556,
              "#d8576b"
             ],
             [
              0.6666666666666666,
              "#ed7953"
             ],
             [
              0.7777777777777778,
              "#fb9f3a"
             ],
             [
              0.8888888888888888,
              "#fdca26"
             ],
             [
              1,
              "#f0f921"
             ]
            ],
            "type": "heatmapgl"
           }
          ],
          "histogram": [
           {
            "marker": {
             "pattern": {
              "fillmode": "overlay",
              "size": 10,
              "solidity": 0.2
             }
            },
            "type": "histogram"
           }
          ],
          "histogram2d": [
           {
            "colorbar": {
             "outlinewidth": 0,
             "ticks": ""
            },
            "colorscale": [
             [
              0,
              "#0d0887"
             ],
             [
              0.1111111111111111,
              "#46039f"
             ],
             [
              0.2222222222222222,
              "#7201a8"
             ],
             [
              0.3333333333333333,
              "#9c179e"
             ],
             [
              0.4444444444444444,
              "#bd3786"
             ],
             [
              0.5555555555555556,
              "#d8576b"
             ],
             [
              0.6666666666666666,
              "#ed7953"
             ],
             [
              0.7777777777777778,
              "#fb9f3a"
             ],
             [
              0.8888888888888888,
              "#fdca26"
             ],
             [
              1,
              "#f0f921"
             ]
            ],
            "type": "histogram2d"
           }
          ],
          "histogram2dcontour": [
           {
            "colorbar": {
             "outlinewidth": 0,
             "ticks": ""
            },
            "colorscale": [
             [
              0,
              "#0d0887"
             ],
             [
              0.1111111111111111,
              "#46039f"
             ],
             [
              0.2222222222222222,
              "#7201a8"
             ],
             [
              0.3333333333333333,
              "#9c179e"
             ],
             [
              0.4444444444444444,
              "#bd3786"
             ],
             [
              0.5555555555555556,
              "#d8576b"
             ],
             [
              0.6666666666666666,
              "#ed7953"
             ],
             [
              0.7777777777777778,
              "#fb9f3a"
             ],
             [
              0.8888888888888888,
              "#fdca26"
             ],
             [
              1,
              "#f0f921"
             ]
            ],
            "type": "histogram2dcontour"
           }
          ],
          "mesh3d": [
           {
            "colorbar": {
             "outlinewidth": 0,
             "ticks": ""
            },
            "type": "mesh3d"
           }
          ],
          "parcoords": [
           {
            "line": {
             "colorbar": {
              "outlinewidth": 0,
              "ticks": ""
             }
            },
            "type": "parcoords"
           }
          ],
          "pie": [
           {
            "automargin": true,
            "type": "pie"
           }
          ],
          "scatter": [
           {
            "marker": {
             "colorbar": {
              "outlinewidth": 0,
              "ticks": ""
             }
            },
            "type": "scatter"
           }
          ],
          "scatter3d": [
           {
            "line": {
             "colorbar": {
              "outlinewidth": 0,
              "ticks": ""
             }
            },
            "marker": {
             "colorbar": {
              "outlinewidth": 0,
              "ticks": ""
             }
            },
            "type": "scatter3d"
           }
          ],
          "scattercarpet": [
           {
            "marker": {
             "colorbar": {
              "outlinewidth": 0,
              "ticks": ""
             }
            },
            "type": "scattercarpet"
           }
          ],
          "scattergeo": [
           {
            "marker": {
             "colorbar": {
              "outlinewidth": 0,
              "ticks": ""
             }
            },
            "type": "scattergeo"
           }
          ],
          "scattergl": [
           {
            "marker": {
             "colorbar": {
              "outlinewidth": 0,
              "ticks": ""
             }
            },
            "type": "scattergl"
           }
          ],
          "scattermapbox": [
           {
            "marker": {
             "colorbar": {
              "outlinewidth": 0,
              "ticks": ""
             }
            },
            "type": "scattermapbox"
           }
          ],
          "scatterpolar": [
           {
            "marker": {
             "colorbar": {
              "outlinewidth": 0,
              "ticks": ""
             }
            },
            "type": "scatterpolar"
           }
          ],
          "scatterpolargl": [
           {
            "marker": {
             "colorbar": {
              "outlinewidth": 0,
              "ticks": ""
             }
            },
            "type": "scatterpolargl"
           }
          ],
          "scatterternary": [
           {
            "marker": {
             "colorbar": {
              "outlinewidth": 0,
              "ticks": ""
             }
            },
            "type": "scatterternary"
           }
          ],
          "surface": [
           {
            "colorbar": {
             "outlinewidth": 0,
             "ticks": ""
            },
            "colorscale": [
             [
              0,
              "#0d0887"
             ],
             [
              0.1111111111111111,
              "#46039f"
             ],
             [
              0.2222222222222222,
              "#7201a8"
             ],
             [
              0.3333333333333333,
              "#9c179e"
             ],
             [
              0.4444444444444444,
              "#bd3786"
             ],
             [
              0.5555555555555556,
              "#d8576b"
             ],
             [
              0.6666666666666666,
              "#ed7953"
             ],
             [
              0.7777777777777778,
              "#fb9f3a"
             ],
             [
              0.8888888888888888,
              "#fdca26"
             ],
             [
              1,
              "#f0f921"
             ]
            ],
            "type": "surface"
           }
          ],
          "table": [
           {
            "cells": {
             "fill": {
              "color": "#EBF0F8"
             },
             "line": {
              "color": "white"
             }
            },
            "header": {
             "fill": {
              "color": "#C8D4E3"
             },
             "line": {
              "color": "white"
             }
            },
            "type": "table"
           }
          ]
         },
         "layout": {
          "annotationdefaults": {
           "arrowcolor": "#2a3f5f",
           "arrowhead": 0,
           "arrowwidth": 1
          },
          "autotypenumbers": "strict",
          "coloraxis": {
           "colorbar": {
            "outlinewidth": 0,
            "ticks": ""
           }
          },
          "colorscale": {
           "diverging": [
            [
             0,
             "#8e0152"
            ],
            [
             0.1,
             "#c51b7d"
            ],
            [
             0.2,
             "#de77ae"
            ],
            [
             0.3,
             "#f1b6da"
            ],
            [
             0.4,
             "#fde0ef"
            ],
            [
             0.5,
             "#f7f7f7"
            ],
            [
             0.6,
             "#e6f5d0"
            ],
            [
             0.7,
             "#b8e186"
            ],
            [
             0.8,
             "#7fbc41"
            ],
            [
             0.9,
             "#4d9221"
            ],
            [
             1,
             "#276419"
            ]
           ],
           "sequential": [
            [
             0,
             "#0d0887"
            ],
            [
             0.1111111111111111,
             "#46039f"
            ],
            [
             0.2222222222222222,
             "#7201a8"
            ],
            [
             0.3333333333333333,
             "#9c179e"
            ],
            [
             0.4444444444444444,
             "#bd3786"
            ],
            [
             0.5555555555555556,
             "#d8576b"
            ],
            [
             0.6666666666666666,
             "#ed7953"
            ],
            [
             0.7777777777777778,
             "#fb9f3a"
            ],
            [
             0.8888888888888888,
             "#fdca26"
            ],
            [
             1,
             "#f0f921"
            ]
           ],
           "sequentialminus": [
            [
             0,
             "#0d0887"
            ],
            [
             0.1111111111111111,
             "#46039f"
            ],
            [
             0.2222222222222222,
             "#7201a8"
            ],
            [
             0.3333333333333333,
             "#9c179e"
            ],
            [
             0.4444444444444444,
             "#bd3786"
            ],
            [
             0.5555555555555556,
             "#d8576b"
            ],
            [
             0.6666666666666666,
             "#ed7953"
            ],
            [
             0.7777777777777778,
             "#fb9f3a"
            ],
            [
             0.8888888888888888,
             "#fdca26"
            ],
            [
             1,
             "#f0f921"
            ]
           ]
          },
          "colorway": [
           "#636efa",
           "#EF553B",
           "#00cc96",
           "#ab63fa",
           "#FFA15A",
           "#19d3f3",
           "#FF6692",
           "#B6E880",
           "#FF97FF",
           "#FECB52"
          ],
          "font": {
           "color": "#2a3f5f"
          },
          "geo": {
           "bgcolor": "white",
           "lakecolor": "white",
           "landcolor": "#E5ECF6",
           "showlakes": true,
           "showland": true,
           "subunitcolor": "white"
          },
          "hoverlabel": {
           "align": "left"
          },
          "hovermode": "closest",
          "mapbox": {
           "style": "light"
          },
          "paper_bgcolor": "white",
          "plot_bgcolor": "#E5ECF6",
          "polar": {
           "angularaxis": {
            "gridcolor": "white",
            "linecolor": "white",
            "ticks": ""
           },
           "bgcolor": "#E5ECF6",
           "radialaxis": {
            "gridcolor": "white",
            "linecolor": "white",
            "ticks": ""
           }
          },
          "scene": {
           "xaxis": {
            "backgroundcolor": "#E5ECF6",
            "gridcolor": "white",
            "gridwidth": 2,
            "linecolor": "white",
            "showbackground": true,
            "ticks": "",
            "zerolinecolor": "white"
           },
           "yaxis": {
            "backgroundcolor": "#E5ECF6",
            "gridcolor": "white",
            "gridwidth": 2,
            "linecolor": "white",
            "showbackground": true,
            "ticks": "",
            "zerolinecolor": "white"
           },
           "zaxis": {
            "backgroundcolor": "#E5ECF6",
            "gridcolor": "white",
            "gridwidth": 2,
            "linecolor": "white",
            "showbackground": true,
            "ticks": "",
            "zerolinecolor": "white"
           }
          },
          "shapedefaults": {
           "line": {
            "color": "#2a3f5f"
           }
          },
          "ternary": {
           "aaxis": {
            "gridcolor": "white",
            "linecolor": "white",
            "ticks": ""
           },
           "baxis": {
            "gridcolor": "white",
            "linecolor": "white",
            "ticks": ""
           },
           "bgcolor": "#E5ECF6",
           "caxis": {
            "gridcolor": "white",
            "linecolor": "white",
            "ticks": ""
           }
          },
          "title": {
           "x": 0.05
          },
          "xaxis": {
           "automargin": true,
           "gridcolor": "white",
           "linecolor": "white",
           "ticks": "",
           "title": {
            "standoff": 15
           },
           "zerolinecolor": "white",
           "zerolinewidth": 2
          },
          "yaxis": {
           "automargin": true,
           "gridcolor": "white",
           "linecolor": "white",
           "ticks": "",
           "title": {
            "standoff": 15
           },
           "zerolinecolor": "white",
           "zerolinewidth": 2
          }
         }
        },
        "title": {
         "text": "Hyperparameter Importances"
        },
        "xaxis": {
         "title": {
          "text": "Importance for Objective Value"
         }
        },
        "yaxis": {
         "title": {
          "text": "Hyperparameter"
         }
        }
       }
      }
     },
     "metadata": {},
     "output_type": "display_data"
    }
   ],
   "source": [
    "optuna.visualization.plot_param_importances(study)"
   ]
  },
  {
   "cell_type": "code",
   "execution_count": 28,
   "id": "ded0e0f8",
   "metadata": {},
   "outputs": [
    {
     "data": {
      "application/vnd.plotly.v1+json": {
       "config": {
        "plotlyServerURL": "https://plot.ly"
       },
       "data": [
        {
         "dimensions": [
          {
           "label": "Objective Value",
           "range": [
            0.4197475381798479,
            0.5754759102929614
           ],
           "values": [
            0.5460967698885423,
            0.5357102810692413,
            0.4197475381798479,
            0.5577389899515521,
            0.4487319995084091,
            0.5621071119117856,
            0.4505457551073168,
            0.5235910659064273,
            0.5140215219636338,
            0.4987982417546467,
            0.5563309900057105,
            0.5600801863780185,
            0.5241781500242109,
            0.47230824018098644,
            0.5506965841341357,
            0.5457585139300843,
            0.5664576500449761,
            0.5549769595735166,
            0.5491350773678635,
            0.5229244304526295,
            0.5386930395330571,
            0.5613256426836435,
            0.5442033122959851,
            0.5574403320576091,
            0.5538219656497214,
            0.5573326860647504,
            0.5575568058141778,
            0.5353690806105351,
            0.5693162338960374,
            0.5530423526870685,
            0.524308370071491,
            0.5632301159469015,
            0.5437454098023997,
            0.5673832985278434,
            0.5498949146765141,
            0.561992558583361,
            0.553554459639821,
            0.5538552645229121,
            0.5731991018969902,
            0.5450148702922144,
            0.554565486711405,
            0.5636913747350194,
            0.5585816029190209,
            0.5480491065609325,
            0.5468767909132348,
            0.5497680307860014,
            0.5457761107520881,
            0.5530383344763298,
            0.4977216857034573,
            0.5286115634413677,
            0.5649731937766587,
            0.5558166234326818,
            0.5694486020252041,
            0.5738825197396091,
            0.5582278435626743,
            0.5578962370245983,
            0.5621268117183451,
            0.5365528677229879,
            0.5298329681633454,
            0.5382722782971339,
            0.5563735638115006,
            0.553046991864201,
            0.5665819710325627,
            0.5586784159607279,
            0.5754759102929614,
            0.5576227168605549,
            0.5442044685209153,
            0.558249523616914,
            0.5583075166176032,
            0.5630773633671129,
            0.5492810535898914,
            0.5672737751265674,
            0.5590471824999577,
            0.5664617845478653,
            0.5569841632100883,
            0.568836640267307,
            0.5633423000164006,
            0.5704990695490162,
            0.5534656527801215,
            0.5679347281863784,
            0.5595308038625868,
            0.5657872601447662,
            0.5452588122636085,
            0.5576524265688734,
            0.553422837115514,
            0.5553587238587279,
            0.5558557181226563,
            0.5501633778606203,
            0.5489702020251807,
            0.5592853441803547,
            0.560017300821675,
            0.5709533095470399,
            0.5525438761658557,
            0.5659381443029092,
            0.548222452434788,
            0.5547405479239045,
            0.56696734498731,
            0.5626254551646293,
            0.5571201041446456,
            0.48178081407272416
           ]
          },
          {
           "label": "max_depth",
           "range": [
            1,
            30
           ],
           "values": [
            10,
            10,
            1,
            3,
            1,
            26,
            1,
            29,
            23,
            25,
            20,
            15,
            15,
            16,
            30,
            17,
            11,
            9,
            26,
            7,
            20,
            13,
            13,
            12,
            5,
            19,
            13,
            7,
            23,
            27,
            22,
            23,
            23,
            28,
            28,
            25,
            22,
            24,
            18,
            18,
            10,
            20,
            20,
            21,
            17,
            30,
            28,
            18,
            15,
            11,
            25,
            25,
            27,
            26,
            27,
            28,
            30,
            26,
            29,
            24,
            27,
            25,
            24,
            29,
            22,
            22,
            24,
            21,
            26,
            23,
            21,
            26,
            26,
            27,
            24,
            28,
            29,
            28,
            28,
            30,
            30,
            28,
            29,
            27,
            30,
            29,
            27,
            28,
            19,
            23,
            14,
            26,
            25,
            26,
            28,
            27,
            29,
            16,
            3,
            30
           ]
          },
          {
           "label": "min_samples_leaf",
           "range": [
            1,
            10
           ],
           "values": [
            1,
            5,
            7,
            10,
            7,
            5,
            8,
            7,
            8,
            3,
            4,
            10,
            2,
            5,
            10,
            4,
            9,
            6,
            9,
            6,
            4,
            9,
            9,
            8,
            9,
            6,
            8,
            3,
            9,
            5,
            1,
            9,
            10,
            7,
            7,
            9,
            8,
            7,
            10,
            10,
            10,
            9,
            8,
            9,
            10,
            8,
            7,
            9,
            10,
            8,
            7,
            7,
            6,
            6,
            6,
            6,
            5,
            6,
            4,
            5,
            7,
            6,
            7,
            5,
            8,
            7,
            6,
            8,
            7,
            8,
            6,
            8,
            8,
            8,
            7,
            7,
            9,
            8,
            9,
            10,
            10,
            10,
            10,
            9,
            10,
            7,
            6,
            9,
            8,
            10,
            9,
            8,
            7,
            8,
            8,
            6,
            7,
            9,
            8,
            1
           ]
          },
          {
           "label": "min_samples_split",
           "range": [
            2,
            10
           ],
           "values": [
            6,
            3,
            7,
            5,
            10,
            7,
            7,
            7,
            2,
            2,
            10,
            5,
            4,
            8,
            5,
            9,
            5,
            6,
            8,
            4,
            8,
            5,
            4,
            6,
            5,
            3,
            7,
            6,
            3,
            3,
            4,
            5,
            6,
            3,
            3,
            3,
            2,
            4,
            3,
            2,
            3,
            4,
            4,
            3,
            2,
            4,
            3,
            2,
            4,
            5,
            3,
            3,
            2,
            2,
            2,
            2,
            2,
            2,
            3,
            2,
            3,
            3,
            2,
            2,
            2,
            2,
            2,
            2,
            3,
            2,
            3,
            2,
            2,
            2,
            10,
            2,
            3,
            9,
            7,
            10,
            9,
            9,
            9,
            10,
            10,
            8,
            8,
            10,
            3,
            3,
            7,
            9,
            9,
            10,
            9,
            9,
            8,
            4,
            2,
            2
           ]
          },
          {
           "label": "n_estimators",
           "range": [
            100,
            199
           ],
           "values": [
            137,
            186,
            103,
            181,
            172,
            102,
            140,
            183,
            160,
            162,
            106,
            198,
            199,
            124,
            120,
            143,
            119,
            114,
            127,
            101,
            112,
            130,
            132,
            115,
            124,
            147,
            109,
            131,
            119,
            154,
            119,
            134,
            138,
            119,
            119,
            136,
            123,
            134,
            108,
            107,
            100,
            115,
            112,
            116,
            106,
            108,
            172,
            126,
            121,
            116,
            143,
            142,
            128,
            128,
            129,
            127,
            104,
            110,
            121,
            150,
            104,
            159,
            145,
            118,
            112,
            112,
            124,
            164,
            128,
            147,
            138,
            122,
            112,
            133,
            190,
            124,
            124,
            118,
            117,
            110,
            110,
            114,
            106,
            126,
            102,
            119,
            114,
            131,
            111,
            108,
            121,
            121,
            117,
            136,
            113,
            126,
            119,
            123,
            115,
            104
           ]
          },
          {
           "label": "subsample",
           "range": [
            0.11889393404235302,
            0.4999318506059237
           ],
           "values": [
            0.36595499860709657,
            0.40827358162105,
            0.32782600512037346,
            0.49051647379639374,
            0.19225975175912763,
            0.3834248475972326,
            0.28832776503194535,
            0.24722356910985424,
            0.2243216281411493,
            0.21543411804169654,
            0.46615332956678235,
            0.4697531913880559,
            0.4219503860817864,
            0.11889393404235302,
            0.4119429511554273,
            0.357484281223095,
            0.452028816478098,
            0.43582078679629566,
            0.38234441033736016,
            0.2950255159547283,
            0.4983083933985476,
            0.45392119127834485,
            0.44836331863935525,
            0.3900307568381056,
            0.3227389115142897,
            0.45038408688640835,
            0.3450134394668618,
            0.3907752959356767,
            0.4725451391140236,
            0.48206840223378705,
            0.41997014123983484,
            0.4448427244152424,
            0.4303386856150102,
            0.39818338431465533,
            0.46966475438331107,
            0.489191743428828,
            0.3679594060189767,
            0.40630391028969054,
            0.32821695801835143,
            0.27475722718347284,
            0.3201902877493444,
            0.3415603481243152,
            0.34092102284551995,
            0.36695645269282406,
            0.27592266679243355,
            0.31108941920080296,
            0.4019597469581219,
            0.34030881490847276,
            0.14378108922681967,
            0.2519815225210435,
            0.3539729334036058,
            0.3574203863323451,
            0.3785802206014305,
            0.3796180661711959,
            0.3780219880031334,
            0.4027994167428789,
            0.4290760980596259,
            0.3772979418585614,
            0.45833593907501585,
            0.30552916595503354,
            0.41647942078487465,
            0.3594279262002996,
            0.4776756613888862,
            0.4857351068423764,
            0.4702194121222136,
            0.44029078337216715,
            0.46856353056297084,
            0.4829649096989316,
            0.3931727834193452,
            0.4999318506059237,
            0.47891332424180805,
            0.4534029991149884,
            0.46022261287663985,
            0.43413657734275257,
            0.4766424321425575,
            0.4434173302335779,
            0.4213969793421521,
            0.4444067486330338,
            0.32990627907641534,
            0.3952556071756958,
            0.38097790500479917,
            0.3940045494452792,
            0.4400147460487266,
            0.412862860358168,
            0.4288110898961457,
            0.40097015922915047,
            0.3734750833789985,
            0.4471648156207539,
            0.42397586314208546,
            0.38805983540057115,
            0.4622908021703603,
            0.4543044718708901,
            0.4067178627600478,
            0.4665905343871337,
            0.3496421893506447,
            0.3331817572727639,
            0.4448689099845116,
            0.4952817914138595,
            0.4124583869203403,
            0.20163885179814256
           ]
          }
         ],
         "labelangle": 30,
         "labelside": "bottom",
         "line": {
          "color": [
           0.5460967698885423,
           0.5357102810692413,
           0.4197475381798479,
           0.5577389899515521,
           0.4487319995084091,
           0.5621071119117856,
           0.4505457551073168,
           0.5235910659064273,
           0.5140215219636338,
           0.4987982417546467,
           0.5563309900057105,
           0.5600801863780185,
           0.5241781500242109,
           0.47230824018098644,
           0.5506965841341357,
           0.5457585139300843,
           0.5664576500449761,
           0.5549769595735166,
           0.5491350773678635,
           0.5229244304526295,
           0.5386930395330571,
           0.5613256426836435,
           0.5442033122959851,
           0.5574403320576091,
           0.5538219656497214,
           0.5573326860647504,
           0.5575568058141778,
           0.5353690806105351,
           0.5693162338960374,
           0.5530423526870685,
           0.524308370071491,
           0.5632301159469015,
           0.5437454098023997,
           0.5673832985278434,
           0.5498949146765141,
           0.561992558583361,
           0.553554459639821,
           0.5538552645229121,
           0.5731991018969902,
           0.5450148702922144,
           0.554565486711405,
           0.5636913747350194,
           0.5585816029190209,
           0.5480491065609325,
           0.5468767909132348,
           0.5497680307860014,
           0.5457761107520881,
           0.5530383344763298,
           0.4977216857034573,
           0.5286115634413677,
           0.5649731937766587,
           0.5558166234326818,
           0.5694486020252041,
           0.5738825197396091,
           0.5582278435626743,
           0.5578962370245983,
           0.5621268117183451,
           0.5365528677229879,
           0.5298329681633454,
           0.5382722782971339,
           0.5563735638115006,
           0.553046991864201,
           0.5665819710325627,
           0.5586784159607279,
           0.5754759102929614,
           0.5576227168605549,
           0.5442044685209153,
           0.558249523616914,
           0.5583075166176032,
           0.5630773633671129,
           0.5492810535898914,
           0.5672737751265674,
           0.5590471824999577,
           0.5664617845478653,
           0.5569841632100883,
           0.568836640267307,
           0.5633423000164006,
           0.5704990695490162,
           0.5534656527801215,
           0.5679347281863784,
           0.5595308038625868,
           0.5657872601447662,
           0.5452588122636085,
           0.5576524265688734,
           0.553422837115514,
           0.5553587238587279,
           0.5558557181226563,
           0.5501633778606203,
           0.5489702020251807,
           0.5592853441803547,
           0.560017300821675,
           0.5709533095470399,
           0.5525438761658557,
           0.5659381443029092,
           0.548222452434788,
           0.5547405479239045,
           0.56696734498731,
           0.5626254551646293,
           0.5571201041446456,
           0.48178081407272416
          ],
          "colorbar": {
           "title": {
            "text": "Objective Value"
           }
          },
          "colorscale": [
           [
            0,
            "rgb(247,251,255)"
           ],
           [
            0.125,
            "rgb(222,235,247)"
           ],
           [
            0.25,
            "rgb(198,219,239)"
           ],
           [
            0.375,
            "rgb(158,202,225)"
           ],
           [
            0.5,
            "rgb(107,174,214)"
           ],
           [
            0.625,
            "rgb(66,146,198)"
           ],
           [
            0.75,
            "rgb(33,113,181)"
           ],
           [
            0.875,
            "rgb(8,81,156)"
           ],
           [
            1,
            "rgb(8,48,107)"
           ]
          ],
          "reversescale": false,
          "showscale": true
         },
         "type": "parcoords"
        }
       ],
       "layout": {
        "template": {
         "data": {
          "bar": [
           {
            "error_x": {
             "color": "#2a3f5f"
            },
            "error_y": {
             "color": "#2a3f5f"
            },
            "marker": {
             "line": {
              "color": "#E5ECF6",
              "width": 0.5
             },
             "pattern": {
              "fillmode": "overlay",
              "size": 10,
              "solidity": 0.2
             }
            },
            "type": "bar"
           }
          ],
          "barpolar": [
           {
            "marker": {
             "line": {
              "color": "#E5ECF6",
              "width": 0.5
             },
             "pattern": {
              "fillmode": "overlay",
              "size": 10,
              "solidity": 0.2
             }
            },
            "type": "barpolar"
           }
          ],
          "carpet": [
           {
            "aaxis": {
             "endlinecolor": "#2a3f5f",
             "gridcolor": "white",
             "linecolor": "white",
             "minorgridcolor": "white",
             "startlinecolor": "#2a3f5f"
            },
            "baxis": {
             "endlinecolor": "#2a3f5f",
             "gridcolor": "white",
             "linecolor": "white",
             "minorgridcolor": "white",
             "startlinecolor": "#2a3f5f"
            },
            "type": "carpet"
           }
          ],
          "choropleth": [
           {
            "colorbar": {
             "outlinewidth": 0,
             "ticks": ""
            },
            "type": "choropleth"
           }
          ],
          "contour": [
           {
            "colorbar": {
             "outlinewidth": 0,
             "ticks": ""
            },
            "colorscale": [
             [
              0,
              "#0d0887"
             ],
             [
              0.1111111111111111,
              "#46039f"
             ],
             [
              0.2222222222222222,
              "#7201a8"
             ],
             [
              0.3333333333333333,
              "#9c179e"
             ],
             [
              0.4444444444444444,
              "#bd3786"
             ],
             [
              0.5555555555555556,
              "#d8576b"
             ],
             [
              0.6666666666666666,
              "#ed7953"
             ],
             [
              0.7777777777777778,
              "#fb9f3a"
             ],
             [
              0.8888888888888888,
              "#fdca26"
             ],
             [
              1,
              "#f0f921"
             ]
            ],
            "type": "contour"
           }
          ],
          "contourcarpet": [
           {
            "colorbar": {
             "outlinewidth": 0,
             "ticks": ""
            },
            "type": "contourcarpet"
           }
          ],
          "heatmap": [
           {
            "colorbar": {
             "outlinewidth": 0,
             "ticks": ""
            },
            "colorscale": [
             [
              0,
              "#0d0887"
             ],
             [
              0.1111111111111111,
              "#46039f"
             ],
             [
              0.2222222222222222,
              "#7201a8"
             ],
             [
              0.3333333333333333,
              "#9c179e"
             ],
             [
              0.4444444444444444,
              "#bd3786"
             ],
             [
              0.5555555555555556,
              "#d8576b"
             ],
             [
              0.6666666666666666,
              "#ed7953"
             ],
             [
              0.7777777777777778,
              "#fb9f3a"
             ],
             [
              0.8888888888888888,
              "#fdca26"
             ],
             [
              1,
              "#f0f921"
             ]
            ],
            "type": "heatmap"
           }
          ],
          "heatmapgl": [
           {
            "colorbar": {
             "outlinewidth": 0,
             "ticks": ""
            },
            "colorscale": [
             [
              0,
              "#0d0887"
             ],
             [
              0.1111111111111111,
              "#46039f"
             ],
             [
              0.2222222222222222,
              "#7201a8"
             ],
             [
              0.3333333333333333,
              "#9c179e"
             ],
             [
              0.4444444444444444,
              "#bd3786"
             ],
             [
              0.5555555555555556,
              "#d8576b"
             ],
             [
              0.6666666666666666,
              "#ed7953"
             ],
             [
              0.7777777777777778,
              "#fb9f3a"
             ],
             [
              0.8888888888888888,
              "#fdca26"
             ],
             [
              1,
              "#f0f921"
             ]
            ],
            "type": "heatmapgl"
           }
          ],
          "histogram": [
           {
            "marker": {
             "pattern": {
              "fillmode": "overlay",
              "size": 10,
              "solidity": 0.2
             }
            },
            "type": "histogram"
           }
          ],
          "histogram2d": [
           {
            "colorbar": {
             "outlinewidth": 0,
             "ticks": ""
            },
            "colorscale": [
             [
              0,
              "#0d0887"
             ],
             [
              0.1111111111111111,
              "#46039f"
             ],
             [
              0.2222222222222222,
              "#7201a8"
             ],
             [
              0.3333333333333333,
              "#9c179e"
             ],
             [
              0.4444444444444444,
              "#bd3786"
             ],
             [
              0.5555555555555556,
              "#d8576b"
             ],
             [
              0.6666666666666666,
              "#ed7953"
             ],
             [
              0.7777777777777778,
              "#fb9f3a"
             ],
             [
              0.8888888888888888,
              "#fdca26"
             ],
             [
              1,
              "#f0f921"
             ]
            ],
            "type": "histogram2d"
           }
          ],
          "histogram2dcontour": [
           {
            "colorbar": {
             "outlinewidth": 0,
             "ticks": ""
            },
            "colorscale": [
             [
              0,
              "#0d0887"
             ],
             [
              0.1111111111111111,
              "#46039f"
             ],
             [
              0.2222222222222222,
              "#7201a8"
             ],
             [
              0.3333333333333333,
              "#9c179e"
             ],
             [
              0.4444444444444444,
              "#bd3786"
             ],
             [
              0.5555555555555556,
              "#d8576b"
             ],
             [
              0.6666666666666666,
              "#ed7953"
             ],
             [
              0.7777777777777778,
              "#fb9f3a"
             ],
             [
              0.8888888888888888,
              "#fdca26"
             ],
             [
              1,
              "#f0f921"
             ]
            ],
            "type": "histogram2dcontour"
           }
          ],
          "mesh3d": [
           {
            "colorbar": {
             "outlinewidth": 0,
             "ticks": ""
            },
            "type": "mesh3d"
           }
          ],
          "parcoords": [
           {
            "line": {
             "colorbar": {
              "outlinewidth": 0,
              "ticks": ""
             }
            },
            "type": "parcoords"
           }
          ],
          "pie": [
           {
            "automargin": true,
            "type": "pie"
           }
          ],
          "scatter": [
           {
            "marker": {
             "colorbar": {
              "outlinewidth": 0,
              "ticks": ""
             }
            },
            "type": "scatter"
           }
          ],
          "scatter3d": [
           {
            "line": {
             "colorbar": {
              "outlinewidth": 0,
              "ticks": ""
             }
            },
            "marker": {
             "colorbar": {
              "outlinewidth": 0,
              "ticks": ""
             }
            },
            "type": "scatter3d"
           }
          ],
          "scattercarpet": [
           {
            "marker": {
             "colorbar": {
              "outlinewidth": 0,
              "ticks": ""
             }
            },
            "type": "scattercarpet"
           }
          ],
          "scattergeo": [
           {
            "marker": {
             "colorbar": {
              "outlinewidth": 0,
              "ticks": ""
             }
            },
            "type": "scattergeo"
           }
          ],
          "scattergl": [
           {
            "marker": {
             "colorbar": {
              "outlinewidth": 0,
              "ticks": ""
             }
            },
            "type": "scattergl"
           }
          ],
          "scattermapbox": [
           {
            "marker": {
             "colorbar": {
              "outlinewidth": 0,
              "ticks": ""
             }
            },
            "type": "scattermapbox"
           }
          ],
          "scatterpolar": [
           {
            "marker": {
             "colorbar": {
              "outlinewidth": 0,
              "ticks": ""
             }
            },
            "type": "scatterpolar"
           }
          ],
          "scatterpolargl": [
           {
            "marker": {
             "colorbar": {
              "outlinewidth": 0,
              "ticks": ""
             }
            },
            "type": "scatterpolargl"
           }
          ],
          "scatterternary": [
           {
            "marker": {
             "colorbar": {
              "outlinewidth": 0,
              "ticks": ""
             }
            },
            "type": "scatterternary"
           }
          ],
          "surface": [
           {
            "colorbar": {
             "outlinewidth": 0,
             "ticks": ""
            },
            "colorscale": [
             [
              0,
              "#0d0887"
             ],
             [
              0.1111111111111111,
              "#46039f"
             ],
             [
              0.2222222222222222,
              "#7201a8"
             ],
             [
              0.3333333333333333,
              "#9c179e"
             ],
             [
              0.4444444444444444,
              "#bd3786"
             ],
             [
              0.5555555555555556,
              "#d8576b"
             ],
             [
              0.6666666666666666,
              "#ed7953"
             ],
             [
              0.7777777777777778,
              "#fb9f3a"
             ],
             [
              0.8888888888888888,
              "#fdca26"
             ],
             [
              1,
              "#f0f921"
             ]
            ],
            "type": "surface"
           }
          ],
          "table": [
           {
            "cells": {
             "fill": {
              "color": "#EBF0F8"
             },
             "line": {
              "color": "white"
             }
            },
            "header": {
             "fill": {
              "color": "#C8D4E3"
             },
             "line": {
              "color": "white"
             }
            },
            "type": "table"
           }
          ]
         },
         "layout": {
          "annotationdefaults": {
           "arrowcolor": "#2a3f5f",
           "arrowhead": 0,
           "arrowwidth": 1
          },
          "autotypenumbers": "strict",
          "coloraxis": {
           "colorbar": {
            "outlinewidth": 0,
            "ticks": ""
           }
          },
          "colorscale": {
           "diverging": [
            [
             0,
             "#8e0152"
            ],
            [
             0.1,
             "#c51b7d"
            ],
            [
             0.2,
             "#de77ae"
            ],
            [
             0.3,
             "#f1b6da"
            ],
            [
             0.4,
             "#fde0ef"
            ],
            [
             0.5,
             "#f7f7f7"
            ],
            [
             0.6,
             "#e6f5d0"
            ],
            [
             0.7,
             "#b8e186"
            ],
            [
             0.8,
             "#7fbc41"
            ],
            [
             0.9,
             "#4d9221"
            ],
            [
             1,
             "#276419"
            ]
           ],
           "sequential": [
            [
             0,
             "#0d0887"
            ],
            [
             0.1111111111111111,
             "#46039f"
            ],
            [
             0.2222222222222222,
             "#7201a8"
            ],
            [
             0.3333333333333333,
             "#9c179e"
            ],
            [
             0.4444444444444444,
             "#bd3786"
            ],
            [
             0.5555555555555556,
             "#d8576b"
            ],
            [
             0.6666666666666666,
             "#ed7953"
            ],
            [
             0.7777777777777778,
             "#fb9f3a"
            ],
            [
             0.8888888888888888,
             "#fdca26"
            ],
            [
             1,
             "#f0f921"
            ]
           ],
           "sequentialminus": [
            [
             0,
             "#0d0887"
            ],
            [
             0.1111111111111111,
             "#46039f"
            ],
            [
             0.2222222222222222,
             "#7201a8"
            ],
            [
             0.3333333333333333,
             "#9c179e"
            ],
            [
             0.4444444444444444,
             "#bd3786"
            ],
            [
             0.5555555555555556,
             "#d8576b"
            ],
            [
             0.6666666666666666,
             "#ed7953"
            ],
            [
             0.7777777777777778,
             "#fb9f3a"
            ],
            [
             0.8888888888888888,
             "#fdca26"
            ],
            [
             1,
             "#f0f921"
            ]
           ]
          },
          "colorway": [
           "#636efa",
           "#EF553B",
           "#00cc96",
           "#ab63fa",
           "#FFA15A",
           "#19d3f3",
           "#FF6692",
           "#B6E880",
           "#FF97FF",
           "#FECB52"
          ],
          "font": {
           "color": "#2a3f5f"
          },
          "geo": {
           "bgcolor": "white",
           "lakecolor": "white",
           "landcolor": "#E5ECF6",
           "showlakes": true,
           "showland": true,
           "subunitcolor": "white"
          },
          "hoverlabel": {
           "align": "left"
          },
          "hovermode": "closest",
          "mapbox": {
           "style": "light"
          },
          "paper_bgcolor": "white",
          "plot_bgcolor": "#E5ECF6",
          "polar": {
           "angularaxis": {
            "gridcolor": "white",
            "linecolor": "white",
            "ticks": ""
           },
           "bgcolor": "#E5ECF6",
           "radialaxis": {
            "gridcolor": "white",
            "linecolor": "white",
            "ticks": ""
           }
          },
          "scene": {
           "xaxis": {
            "backgroundcolor": "#E5ECF6",
            "gridcolor": "white",
            "gridwidth": 2,
            "linecolor": "white",
            "showbackground": true,
            "ticks": "",
            "zerolinecolor": "white"
           },
           "yaxis": {
            "backgroundcolor": "#E5ECF6",
            "gridcolor": "white",
            "gridwidth": 2,
            "linecolor": "white",
            "showbackground": true,
            "ticks": "",
            "zerolinecolor": "white"
           },
           "zaxis": {
            "backgroundcolor": "#E5ECF6",
            "gridcolor": "white",
            "gridwidth": 2,
            "linecolor": "white",
            "showbackground": true,
            "ticks": "",
            "zerolinecolor": "white"
           }
          },
          "shapedefaults": {
           "line": {
            "color": "#2a3f5f"
           }
          },
          "ternary": {
           "aaxis": {
            "gridcolor": "white",
            "linecolor": "white",
            "ticks": ""
           },
           "baxis": {
            "gridcolor": "white",
            "linecolor": "white",
            "ticks": ""
           },
           "bgcolor": "#E5ECF6",
           "caxis": {
            "gridcolor": "white",
            "linecolor": "white",
            "ticks": ""
           }
          },
          "title": {
           "x": 0.05
          },
          "xaxis": {
           "automargin": true,
           "gridcolor": "white",
           "linecolor": "white",
           "ticks": "",
           "title": {
            "standoff": 15
           },
           "zerolinecolor": "white",
           "zerolinewidth": 2
          },
          "yaxis": {
           "automargin": true,
           "gridcolor": "white",
           "linecolor": "white",
           "ticks": "",
           "title": {
            "standoff": 15
           },
           "zerolinecolor": "white",
           "zerolinewidth": 2
          }
         }
        },
        "title": {
         "text": "Parallel Coordinate Plot"
        }
       }
      }
     },
     "metadata": {},
     "output_type": "display_data"
    }
   ],
   "source": [
    "optuna.visualization.plot_parallel_coordinate(study)"
   ]
  },
  {
   "cell_type": "code",
   "execution_count": 29,
   "id": "75db1ddf",
   "metadata": {},
   "outputs": [
    {
     "name": "stdout",
     "output_type": "stream",
     "text": [
      "Best trial: {'n_estimators': 112, 'max_depth': 22, 'min_samples_leaf': 8, 'min_samples_split': 2, 'subsample': 0.4702194121222136}\n"
     ]
    }
   ],
   "source": [
    "print(\"Best trial:\", study.best_trial.params)"
   ]
  },
  {
   "cell_type": "code",
   "execution_count": 30,
   "id": "574699dc",
   "metadata": {},
   "outputs": [
    {
     "data": {
      "text/plain": [
       "112"
      ]
     },
     "execution_count": 30,
     "metadata": {},
     "output_type": "execute_result"
    }
   ],
   "source": [
    "study.best_trial.params[\"n_estimators\"]"
   ]
  },
  {
   "cell_type": "code",
   "execution_count": 31,
   "id": "862eadd2",
   "metadata": {},
   "outputs": [
    {
     "data": {
      "text/html": [
       "<style>#sk-container-id-1 {color: black;background-color: white;}#sk-container-id-1 pre{padding: 0;}#sk-container-id-1 div.sk-toggleable {background-color: white;}#sk-container-id-1 label.sk-toggleable__label {cursor: pointer;display: block;width: 100%;margin-bottom: 0;padding: 0.3em;box-sizing: border-box;text-align: center;}#sk-container-id-1 label.sk-toggleable__label-arrow:before {content: \"▸\";float: left;margin-right: 0.25em;color: #696969;}#sk-container-id-1 label.sk-toggleable__label-arrow:hover:before {color: black;}#sk-container-id-1 div.sk-estimator:hover label.sk-toggleable__label-arrow:before {color: black;}#sk-container-id-1 div.sk-toggleable__content {max-height: 0;max-width: 0;overflow: hidden;text-align: left;background-color: #f0f8ff;}#sk-container-id-1 div.sk-toggleable__content pre {margin: 0.2em;color: black;border-radius: 0.25em;background-color: #f0f8ff;}#sk-container-id-1 input.sk-toggleable__control:checked~div.sk-toggleable__content {max-height: 200px;max-width: 100%;overflow: auto;}#sk-container-id-1 input.sk-toggleable__control:checked~label.sk-toggleable__label-arrow:before {content: \"▾\";}#sk-container-id-1 div.sk-estimator input.sk-toggleable__control:checked~label.sk-toggleable__label {background-color: #d4ebff;}#sk-container-id-1 div.sk-label input.sk-toggleable__control:checked~label.sk-toggleable__label {background-color: #d4ebff;}#sk-container-id-1 input.sk-hidden--visually {border: 0;clip: rect(1px 1px 1px 1px);clip: rect(1px, 1px, 1px, 1px);height: 1px;margin: -1px;overflow: hidden;padding: 0;position: absolute;width: 1px;}#sk-container-id-1 div.sk-estimator {font-family: monospace;background-color: #f0f8ff;border: 1px dotted black;border-radius: 0.25em;box-sizing: border-box;margin-bottom: 0.5em;}#sk-container-id-1 div.sk-estimator:hover {background-color: #d4ebff;}#sk-container-id-1 div.sk-parallel-item::after {content: \"\";width: 100%;border-bottom: 1px solid gray;flex-grow: 1;}#sk-container-id-1 div.sk-label:hover label.sk-toggleable__label {background-color: #d4ebff;}#sk-container-id-1 div.sk-serial::before {content: \"\";position: absolute;border-left: 1px solid gray;box-sizing: border-box;top: 0;bottom: 0;left: 50%;z-index: 0;}#sk-container-id-1 div.sk-serial {display: flex;flex-direction: column;align-items: center;background-color: white;padding-right: 0.2em;padding-left: 0.2em;position: relative;}#sk-container-id-1 div.sk-item {position: relative;z-index: 1;}#sk-container-id-1 div.sk-parallel {display: flex;align-items: stretch;justify-content: center;background-color: white;position: relative;}#sk-container-id-1 div.sk-item::before, #sk-container-id-1 div.sk-parallel-item::before {content: \"\";position: absolute;border-left: 1px solid gray;box-sizing: border-box;top: 0;bottom: 0;left: 50%;z-index: -1;}#sk-container-id-1 div.sk-parallel-item {display: flex;flex-direction: column;z-index: 1;position: relative;background-color: white;}#sk-container-id-1 div.sk-parallel-item:first-child::after {align-self: flex-end;width: 50%;}#sk-container-id-1 div.sk-parallel-item:last-child::after {align-self: flex-start;width: 50%;}#sk-container-id-1 div.sk-parallel-item:only-child::after {width: 0;}#sk-container-id-1 div.sk-dashed-wrapped {border: 1px dashed gray;margin: 0 0.4em 0.5em 0.4em;box-sizing: border-box;padding-bottom: 0.4em;background-color: white;}#sk-container-id-1 div.sk-label label {font-family: monospace;font-weight: bold;display: inline-block;line-height: 1.2em;}#sk-container-id-1 div.sk-label-container {text-align: center;}#sk-container-id-1 div.sk-container {/* jupyter's `normalize.less` sets `[hidden] { display: none; }` but bootstrap.min.css set `[hidden] { display: none !important; }` so we also need the `!important` here to be able to override the default hidden behavior on the sphinx rendered scikit-learn.org. See: https://github.com/scikit-learn/scikit-learn/issues/21755 */display: inline-block !important;position: relative;}#sk-container-id-1 div.sk-text-repr-fallback {display: none;}</style><div id=\"sk-container-id-1\" class=\"sk-top-container\"><div class=\"sk-text-repr-fallback\"><pre>GradientBoostingRegressor(max_depth=22, min_samples_leaf=8, n_estimators=112,\n",
       "                          random_state=42, subsample=0.4702194121222136)</pre><b>In a Jupyter environment, please rerun this cell to show the HTML representation or trust the notebook. <br />On GitHub, the HTML representation is unable to render, please try loading this page with nbviewer.org.</b></div><div class=\"sk-container\" hidden><div class=\"sk-item\"><div class=\"sk-estimator sk-toggleable\"><input class=\"sk-toggleable__control sk-hidden--visually\" id=\"sk-estimator-id-1\" type=\"checkbox\" checked><label for=\"sk-estimator-id-1\" class=\"sk-toggleable__label sk-toggleable__label-arrow\">GradientBoostingRegressor</label><div class=\"sk-toggleable__content\"><pre>GradientBoostingRegressor(max_depth=22, min_samples_leaf=8, n_estimators=112,\n",
       "                          random_state=42, subsample=0.4702194121222136)</pre></div></div></div></div></div>"
      ],
      "text/plain": [
       "GradientBoostingRegressor(max_depth=22, min_samples_leaf=8, n_estimators=112,\n",
       "                          random_state=42, subsample=0.4702194121222136)"
      ]
     },
     "execution_count": 31,
     "metadata": {},
     "output_type": "execute_result"
    }
   ],
   "source": [
    "gb_params = {\n",
    "    \"random_state\": 42,\n",
    "    \"learning_rate\": 0.1,\n",
    "    \"n_estimators\": study.best_trial.params[\"n_estimators\"],\n",
    "    \"max_depth\": study.best_trial.params[\"max_depth\"],\n",
    "    \"min_samples_leaf\": study.best_trial.params[\"min_samples_leaf\"],\n",
    "    \"min_samples_split\": study.best_trial.params[\"min_samples_split\"],\n",
    "    \"subsample\": study.best_trial.params[\"subsample\"]\n",
    "}\n",
    "\n",
    "gb = GradientBoostingRegressor(**gb_params)\n",
    "gb.fit(As_X_train, As_y_train)"
   ]
  },
  {
   "cell_type": "code",
   "execution_count": 32,
   "id": "2be83ec7",
   "metadata": {},
   "outputs": [],
   "source": [
    "# gb_params = {\n",
    "#     \"random_state\": 42,\n",
    "#     \"learning_rate\": 0.1,\n",
    "#     \"n_estimators\": 100,\n",
    "#     \"max_depth\": 2,\n",
    "#     \"min_samples_leaf\": 8,\n",
    "#     \"min_samples_split\": 2,\n",
    "#     \"subsample\": 0.35775273871202684\n",
    "# }\n",
    "\n",
    "# gb = GradientBoostingRegressor(**gb_params)\n",
    "# gb.fit(As_X_train, As_y_train)"
   ]
  },
  {
   "cell_type": "code",
   "execution_count": 33,
   "id": "8577fb37",
   "metadata": {},
   "outputs": [],
   "source": [
    "y_train_pred = gb.predict(As_X_train)\n",
    "y_test_pred = gb.predict(As_X_test)"
   ]
  },
  {
   "cell_type": "code",
   "execution_count": 34,
   "id": "2ea0526a",
   "metadata": {},
   "outputs": [
    {
     "data": {
      "text/plain": [
       "<matplotlib.collections.PathCollection at 0x232157067f0>"
      ]
     },
     "execution_count": 34,
     "metadata": {},
     "output_type": "execute_result"
    },
    {
     "data": {
      "image/png": "[encoded data removed]",
      "text/plain": [
       "<Figure size 432x288 with 1 Axes>"
      ]
     },
     "metadata": {
      "needs_background": "light"
     },
     "output_type": "display_data"
    }
   ],
   "source": [
    "plt.scatter(y_train_pred, np.array(As_y_train))"
   ]
  },
  {
   "cell_type": "code",
   "execution_count": 35,
   "id": "d2a4dd85",
   "metadata": {},
   "outputs": [
    {
     "name": "stdout",
     "output_type": "stream",
     "text": [
      "Train RMSE:  0.19587575885047592\n",
      "Test RMSE:  0.671239314159421\n"
     ]
    }
   ],
   "source": [
    "print(\"Train RMSE: \", np.sqrt(mean_squared_error(As_y_train, y_train_pred)))\n",
    "print(\"Test RMSE: \", np.sqrt(mean_squared_error(As_y_test, y_test_pred)))"
   ]
  },
  {
   "cell_type": "code",
   "execution_count": 36,
   "id": "08fe787a",
   "metadata": {},
   "outputs": [
    {
     "name": "stdout",
     "output_type": "stream",
     "text": [
      "Train R2:  0.9513130431801025\n",
      "Test R2:  0.492566540228213\n"
     ]
    }
   ],
   "source": [
    "print(\"Train R2: \", r2_score(As_y_train, y_train_pred))\n",
    "print(\"Test R2: \", r2_score(As_y_test, y_test_pred))"
   ]
  },
  {
   "cell_type": "code",
   "execution_count": 37,
   "id": "5ec4820c",
   "metadata": {},
   "outputs": [
    {
     "data": {
      "image/png": "[encoded data removed]",
      "text/plain": [
       "<Figure size 432x288 with 1 Axes>"
      ]
     },
     "metadata": {
      "needs_background": "light"
     },
     "output_type": "display_data"
    }
   ],
   "source": [
    "import matplotlib.pyplot as plt\n",
    "\n",
    "plt.scatter(y_train_pred, np.array(As_y_train), color=\"orange\", alpha=0.3)\n",
    "plt.scatter(y_test_pred, np.array(As_y_test), color=\"green\", alpha=0.4)\n",
    "plt.axis(\"auto\") # scaled, tight, auto, image, square\n",
    "# plt.xlim([0, 1.5]) \n",
    "# plt.ylim(0, None) \n",
    "plt.xlabel('Predicted Values')\n",
    "plt.ylabel('Actual Values')\n",
    "\n",
    "# Add trendline\n",
    "# z = np.polyfit(y_train_pred, As_y_train, 1)\n",
    "# p = np.poly1d(z)\n",
    "# plt.plot(y_train_pred, p(y_train_pred), color='red', linestyle='-')\n",
    "\n",
    "# Add y=x line\n",
    "plt.plot([0, 1.75], [0, 1.75], color='red', linestyle='-')\n",
    "\n",
    "plt.show()"
   ]
  },
  {
   "cell_type": "code",
   "execution_count": 38,
   "id": "a08d5dc7",
   "metadata": {},
   "outputs": [],
   "source": [
    "# import shap\n",
    "\n",
    "# #background = shap.sample(As_X_train, 100)  # Adjust the number of samples as needed\n",
    "\n",
    "# explainer = shap.KernelExplainer(gb.predict, As_X_train)\n",
    "# shap_values = explainer.shap_values(As_X_train)\n",
    "\n",
    "# shap.summary_plot(shap_values, As_X_train)\n",
    "\n",
    "# shap.force_plot(explainer.expected_value, shap_values[0], As_X_train[0])\n",
    "\n",
    "# print(shap_values)"
   ]
  },
  {
   "attachments": {},
   "cell_type": "markdown",
   "id": "e0507d63",
   "metadata": {},
   "source": [
    "Cd"
   ]
  },
  {
   "attachments": {},
   "cell_type": "markdown",
   "id": "f8f809d9",
   "metadata": {},
   "source": [
    "Optimization"
   ]
  },
  {
   "cell_type": "code",
   "execution_count": 39,
   "id": "b7aeaf0a",
   "metadata": {},
   "outputs": [
    {
     "name": "stderr",
     "output_type": "stream",
     "text": [
      "\u001b[32m[I 2023-08-17 22:15:50,929]\u001b[0m A new study created in memory with name: gb_parameter_opt\u001b[0m\n",
      "\u001b[32m[I 2023-08-17 22:15:51,449]\u001b[0m Trial 0 finished with value: 0.5449229022024391 and parameters: {'n_estimators': 161, 'max_depth': 4, 'min_samples_leaf': 4, 'min_samples_split': 2, 'subsample': 0.29517468297445426}. Best is trial 0 with value: 0.5449229022024391.\u001b[0m\n",
      "\u001b[32m[I 2023-08-17 22:15:51,878]\u001b[0m Trial 1 finished with value: 0.5812772794822016 and parameters: {'n_estimators': 112, 'max_depth': 9, 'min_samples_leaf': 10, 'min_samples_split': 3, 'subsample': 0.30996608228398903}. Best is trial 1 with value: 0.5812772794822016.\u001b[0m\n",
      "\u001b[32m[I 2023-08-17 22:15:52,327]\u001b[0m Trial 2 finished with value: 0.5983216295059762 and parameters: {'n_estimators': 101, 'max_depth': 28, 'min_samples_leaf': 10, 'min_samples_split': 9, 'subsample': 0.40100691508409847}. Best is trial 2 with value: 0.5983216295059762.\u001b[0m\n",
      "\u001b[32m[I 2023-08-17 22:15:52,643]\u001b[0m Trial 3 finished with value: 0.4989009238824954 and parameters: {'n_estimators': 148, 'max_depth': 2, 'min_samples_leaf': 2, 'min_samples_split': 10, 'subsample': 0.1371939071303422}. Best is trial 2 with value: 0.5983216295059762.\u001b[0m\n",
      "\u001b[32m[I 2023-08-17 22:15:52,914]\u001b[0m Trial 4 finished with value: 0.543239100504306 and parameters: {'n_estimators': 117, 'max_depth': 8, 'min_samples_leaf': 7, 'min_samples_split': 2, 'subsample': 0.13137001981695154}. Best is trial 2 with value: 0.5983216295059762.\u001b[0m\n",
      "\u001b[32m[I 2023-08-17 22:15:53,448]\u001b[0m Trial 5 finished with value: 0.5442437512968831 and parameters: {'n_estimators': 132, 'max_depth': 12, 'min_samples_leaf': 5, 'min_samples_split': 8, 'subsample': 0.27599946631274364}. Best is trial 2 with value: 0.5983216295059762.\u001b[0m\n",
      "\u001b[32m[I 2023-08-17 22:15:54,126]\u001b[0m Trial 6 finished with value: 0.5223987720345201 and parameters: {'n_estimators': 154, 'max_depth': 7, 'min_samples_leaf': 1, 'min_samples_split': 8, 'subsample': 0.3197000821553869}. Best is trial 2 with value: 0.5983216295059762.\u001b[0m\n",
      "\u001b[32m[I 2023-08-17 22:15:54,521]\u001b[0m Trial 7 finished with value: 0.4932355730987217 and parameters: {'n_estimators': 172, 'max_depth': 18, 'min_samples_leaf': 6, 'min_samples_split': 8, 'subsample': 0.11508593287661029}. Best is trial 2 with value: 0.5983216295059762.\u001b[0m\n",
      "\u001b[32m[I 2023-08-17 22:15:54,872]\u001b[0m Trial 8 finished with value: 0.4623592955285618 and parameters: {'n_estimators': 141, 'max_depth': 15, 'min_samples_leaf': 2, 'min_samples_split': 10, 'subsample': 0.11399271577098968}. Best is trial 2 with value: 0.5983216295059762.\u001b[0m\n",
      "\u001b[32m[I 2023-08-17 22:15:55,286]\u001b[0m Trial 9 finished with value: 0.4910629190699912 and parameters: {'n_estimators': 147, 'max_depth': 12, 'min_samples_leaf': 2, 'min_samples_split': 3, 'subsample': 0.12057280069698506}. Best is trial 2 with value: 0.5983216295059762.\u001b[0m\n",
      "\u001b[32m[I 2023-08-17 22:15:56,355]\u001b[0m Trial 10 finished with value: 0.5787362103965786 and parameters: {'n_estimators': 193, 'max_depth': 27, 'min_samples_leaf': 10, 'min_samples_split': 6, 'subsample': 0.48329915719913585}. Best is trial 2 with value: 0.5983216295059762.\u001b[0m\n",
      "\u001b[32m[I 2023-08-17 22:15:56,811]\u001b[0m Trial 11 finished with value: 0.5983216295059762 and parameters: {'n_estimators': 101, 'max_depth': 28, 'min_samples_leaf': 10, 'min_samples_split': 5, 'subsample': 0.4004860274634941}. Best is trial 2 with value: 0.5983216295059762.\u001b[0m\n",
      "\u001b[32m[I 2023-08-17 22:15:57,338]\u001b[0m Trial 12 finished with value: 0.5843628492714812 and parameters: {'n_estimators': 101, 'max_depth': 30, 'min_samples_leaf': 8, 'min_samples_split': 5, 'subsample': 0.42451165916969597}. Best is trial 2 with value: 0.5983216295059762.\u001b[0m\n",
      "\u001b[32m[I 2023-08-17 22:15:57,818]\u001b[0m Trial 13 finished with value: 0.5750660785828929 and parameters: {'n_estimators': 102, 'max_depth': 24, 'min_samples_leaf': 9, 'min_samples_split': 5, 'subsample': 0.39130506103188495}. Best is trial 2 with value: 0.5983216295059762.\u001b[0m\n",
      "\u001b[32m[I 2023-08-17 22:15:58,481]\u001b[0m Trial 14 finished with value: 0.5560774450747884 and parameters: {'n_estimators': 126, 'max_depth': 22, 'min_samples_leaf': 8, 'min_samples_split': 7, 'subsample': 0.3914670408204546}. Best is trial 2 with value: 0.5983216295059762.\u001b[0m\n",
      "\u001b[32m[I 2023-08-17 22:15:59,122]\u001b[0m Trial 15 finished with value: 0.5915656466340662 and parameters: {'n_estimators': 117, 'max_depth': 21, 'min_samples_leaf': 10, 'min_samples_split': 5, 'subsample': 0.48974969277162317}. Best is trial 2 with value: 0.5983216295059762.\u001b[0m\n",
      "\u001b[32m[I 2023-08-17 22:15:59,525]\u001b[0m Trial 16 finished with value: 0.5769735727768964 and parameters: {'n_estimators': 129, 'max_depth': 30, 'min_samples_leaf': 8, 'min_samples_split': 9, 'subsample': 0.23127082673743438}. Best is trial 2 with value: 0.5983216295059762.\u001b[0m\n",
      "\u001b[32m[I 2023-08-17 22:16:00,082]\u001b[0m Trial 17 finished with value: 0.5726743059798981 and parameters: {'n_estimators': 108, 'max_depth': 25, 'min_samples_leaf': 9, 'min_samples_split': 6, 'subsample': 0.43924611895937815}. Best is trial 2 with value: 0.5983216295059762.\u001b[0m\n",
      "\u001b[32m[I 2023-08-17 22:16:00,959]\u001b[0m Trial 18 finished with value: 0.5488208076086434 and parameters: {'n_estimators': 183, 'max_depth': 19, 'min_samples_leaf': 6, 'min_samples_split': 7, 'subsample': 0.36110529802188207}. Best is trial 2 with value: 0.5983216295059762.\u001b[0m\n",
      "\u001b[32m[I 2023-08-17 22:16:01,628]\u001b[0m Trial 19 finished with value: 0.5726220660805774 and parameters: {'n_estimators': 124, 'max_depth': 27, 'min_samples_leaf': 4, 'min_samples_split': 4, 'subsample': 0.36294050909013387}. Best is trial 2 with value: 0.5983216295059762.\u001b[0m\n",
      "\u001b[32m[I 2023-08-17 22:16:02,025]\u001b[0m Trial 20 finished with value: 0.5779375551418521 and parameters: {'n_estimators': 138, 'max_depth': 27, 'min_samples_leaf': 9, 'min_samples_split': 9, 'subsample': 0.20741151116432271}. Best is trial 2 with value: 0.5983216295059762.\u001b[0m\n",
      "\u001b[32m[I 2023-08-17 22:16:02,672]\u001b[0m Trial 21 finished with value: 0.5593985839182118 and parameters: {'n_estimators': 115, 'max_depth': 20, 'min_samples_leaf': 10, 'min_samples_split': 5, 'subsample': 0.49663074455651823}. Best is trial 2 with value: 0.5983216295059762.\u001b[0m\n",
      "\u001b[32m[I 2023-08-17 22:16:03,194]\u001b[0m Trial 22 finished with value: 0.594436695046183 and parameters: {'n_estimators': 100, 'max_depth': 23, 'min_samples_leaf': 10, 'min_samples_split': 4, 'subsample': 0.45290121825022556}. Best is trial 2 with value: 0.5983216295059762.\u001b[0m\n",
      "\u001b[32m[I 2023-08-17 22:16:03,727]\u001b[0m Trial 23 finished with value: 0.580636619694672 and parameters: {'n_estimators': 101, 'max_depth': 24, 'min_samples_leaf': 9, 'min_samples_split': 4, 'subsample': 0.4521030499313131}. Best is trial 2 with value: 0.5983216295059762.\u001b[0m\n",
      "\u001b[32m[I 2023-08-17 22:16:04,281]\u001b[0m Trial 24 finished with value: 0.5853228831183754 and parameters: {'n_estimators': 108, 'max_depth': 29, 'min_samples_leaf': 7, 'min_samples_split': 4, 'subsample': 0.4006312269680233}. Best is trial 2 with value: 0.5983216295059762.\u001b[0m\n",
      "\u001b[32m[I 2023-08-17 22:16:04,697]\u001b[0m Trial 25 finished with value: 0.5718168964835033 and parameters: {'n_estimators': 100, 'max_depth': 23, 'min_samples_leaf': 10, 'min_samples_split': 3, 'subsample': 0.351785110304238}. Best is trial 2 with value: 0.5983216295059762.\u001b[0m\n",
      "\u001b[32m[I 2023-08-17 22:16:05,359]\u001b[0m Trial 26 finished with value: 0.5731971558900499 and parameters: {'n_estimators': 121, 'max_depth': 26, 'min_samples_leaf': 8, 'min_samples_split': 7, 'subsample': 0.4574863832456057}. Best is trial 2 with value: 0.5983216295059762.\u001b[0m\n",
      "\u001b[32m[I 2023-08-17 22:16:05,911]\u001b[0m Trial 27 finished with value: 0.5826182826454736 and parameters: {'n_estimators': 108, 'max_depth': 17, 'min_samples_leaf': 9, 'min_samples_split': 6, 'subsample': 0.4182544203961535}. Best is trial 2 with value: 0.5983216295059762.\u001b[0m\n",
      "\u001b[32m[I 2023-08-17 22:16:06,555]\u001b[0m Trial 28 finished with value: 0.5831454727936579 and parameters: {'n_estimators': 110, 'max_depth': 28, 'min_samples_leaf': 7, 'min_samples_split': 4, 'subsample': 0.46169179402999116}. Best is trial 2 with value: 0.5983216295059762.\u001b[0m\n",
      "\u001b[32m[I 2023-08-17 22:16:07,069]\u001b[0m Trial 29 finished with value: 0.5841904428627668 and parameters: {'n_estimators': 134, 'max_depth': 25, 'min_samples_leaf': 10, 'min_samples_split': 2, 'subsample': 0.3358795208793135}. Best is trial 2 with value: 0.5983216295059762.\u001b[0m\n",
      "\u001b[32m[I 2023-08-17 22:16:07,786]\u001b[0m Trial 30 finished with value: 0.5170404355536284 and parameters: {'n_estimators': 165, 'max_depth': 22, 'min_samples_leaf': 4, 'min_samples_split': 9, 'subsample': 0.2810187033196583}. Best is trial 2 with value: 0.5983216295059762.\u001b[0m\n",
      "\u001b[32m[I 2023-08-17 22:16:08,415]\u001b[0m Trial 31 finished with value: 0.5728486931102554 and parameters: {'n_estimators': 118, 'max_depth': 21, 'min_samples_leaf': 10, 'min_samples_split': 5, 'subsample': 0.4776969221781061}. Best is trial 2 with value: 0.5983216295059762.\u001b[0m\n",
      "\u001b[32m[I 2023-08-17 22:16:08,948]\u001b[0m Trial 32 finished with value: 0.5806333864511757 and parameters: {'n_estimators': 106, 'max_depth': 16, 'min_samples_leaf': 9, 'min_samples_split': 5, 'subsample': 0.42094867657020485}. Best is trial 2 with value: 0.5983216295059762.\u001b[0m\n",
      "\u001b[32m[I 2023-08-17 22:16:09,577]\u001b[0m Trial 33 finished with value: 0.5713170480143347 and parameters: {'n_estimators': 114, 'max_depth': 20, 'min_samples_leaf': 10, 'min_samples_split': 4, 'subsample': 0.49686362383996246}. Best is trial 2 with value: 0.5983216295059762.\u001b[0m\n",
      "\u001b[32m[I 2023-08-17 22:16:10,081]\u001b[0m Trial 34 finished with value: 0.604146978112546 and parameters: {'n_estimators': 113, 'max_depth': 28, 'min_samples_leaf': 10, 'min_samples_split': 6, 'subsample': 0.3802761532244382}. Best is trial 34 with value: 0.604146978112546.\u001b[0m\n",
      "\u001b[32m[I 2023-08-17 22:16:10,554]\u001b[0m Trial 35 finished with value: 0.5690159320197766 and parameters: {'n_estimators': 105, 'max_depth': 29, 'min_samples_leaf': 9, 'min_samples_split': 7, 'subsample': 0.38824513988783016}. Best is trial 34 with value: 0.604146978112546.\u001b[0m\n",
      "\u001b[32m[I 2023-08-17 22:16:11,078]\u001b[0m Trial 36 finished with value: 0.5827162336959278 and parameters: {'n_estimators': 114, 'max_depth': 28, 'min_samples_leaf': 8, 'min_samples_split': 6, 'subsample': 0.3716510443360956}. Best is trial 34 with value: 0.604146978112546.\u001b[0m\n",
      "\u001b[32m[I 2023-08-17 22:16:11,416]\u001b[0m Trial 37 finished with value: 0.5570793461696987 and parameters: {'n_estimators': 121, 'max_depth': 2, 'min_samples_leaf': 7, 'min_samples_split': 3, 'subsample': 0.33056319704210246}. Best is trial 34 with value: 0.604146978112546.\u001b[0m\n",
      "\u001b[32m[I 2023-08-17 22:16:12,094]\u001b[0m Trial 38 finished with value: 0.5812125929548031 and parameters: {'n_estimators': 111, 'max_depth': 26, 'min_samples_leaf': 5, 'min_samples_split': 10, 'subsample': 0.4316393070577671}. Best is trial 34 with value: 0.604146978112546.\u001b[0m\n",
      "\u001b[32m[I 2023-08-17 22:16:12,594]\u001b[0m Trial 39 finished with value: 0.5428546900007483 and parameters: {'n_estimators': 105, 'max_depth': 30, 'min_samples_leaf': 3, 'min_samples_split': 8, 'subsample': 0.2958161627237235}. Best is trial 34 with value: 0.604146978112546.\u001b[0m\n",
      "\u001b[32m[I 2023-08-17 22:16:13,086]\u001b[0m Trial 40 finished with value: 0.5625678742082993 and parameters: {'n_estimators': 157, 'max_depth': 14, 'min_samples_leaf': 10, 'min_samples_split': 6, 'subsample': 0.25174744021777845}. Best is trial 34 with value: 0.604146978112546.\u001b[0m\n",
      "\u001b[32m[I 2023-08-17 22:16:13,736]\u001b[0m Trial 41 finished with value: 0.597447109318849 and parameters: {'n_estimators': 121, 'max_depth': 23, 'min_samples_leaf': 10, 'min_samples_split': 5, 'subsample': 0.4689782669799451}. Best is trial 34 with value: 0.604146978112546.\u001b[0m\n",
      "\u001b[32m[I 2023-08-17 22:16:14,196]\u001b[0m Trial 42 finished with value: 0.5949842624823525 and parameters: {'n_estimators': 100, 'max_depth': 24, 'min_samples_leaf': 10, 'min_samples_split': 6, 'subsample': 0.409427265544511}. Best is trial 34 with value: 0.604146978112546.\u001b[0m\n",
      "\u001b[32m[I 2023-08-17 22:16:14,734]\u001b[0m Trial 43 finished with value: 0.5966659496620315 and parameters: {'n_estimators': 113, 'max_depth': 25, 'min_samples_leaf': 9, 'min_samples_split': 7, 'subsample': 0.4079337163207381}. Best is trial 34 with value: 0.604146978112546.\u001b[0m\n",
      "\u001b[32m[I 2023-08-17 22:16:15,394]\u001b[0m Trial 44 finished with value: 0.5823209855773697 and parameters: {'n_estimators': 146, 'max_depth': 27, 'min_samples_leaf': 9, 'min_samples_split': 8, 'subsample': 0.37315326452210706}. Best is trial 34 with value: 0.604146978112546.\u001b[0m\n",
      "\u001b[32m[I 2023-08-17 22:16:15,887]\u001b[0m Trial 45 finished with value: 0.5699374337530141 and parameters: {'n_estimators': 127, 'max_depth': 28, 'min_samples_leaf': 9, 'min_samples_split': 7, 'subsample': 0.312572711808977}. Best is trial 34 with value: 0.604146978112546.\u001b[0m\n",
      "\u001b[32m[I 2023-08-17 22:16:16,192]\u001b[0m Trial 46 finished with value: 0.5671889336689759 and parameters: {'n_estimators': 119, 'max_depth': 7, 'min_samples_leaf': 8, 'min_samples_split': 9, 'subsample': 0.15482992053782518}. Best is trial 34 with value: 0.604146978112546.\u001b[0m\n",
      "\u001b[32m[I 2023-08-17 22:16:17,112]\u001b[0m Trial 47 finished with value: 0.5514480790448195 and parameters: {'n_estimators': 132, 'max_depth': 26, 'min_samples_leaf': 1, 'min_samples_split': 5, 'subsample': 0.3449653797055215}. Best is trial 34 with value: 0.604146978112546.\u001b[0m\n",
      "\u001b[32m[I 2023-08-17 22:16:17,606]\u001b[0m Trial 48 finished with value: 0.6026592186101836 and parameters: {'n_estimators': 112, 'max_depth': 29, 'min_samples_leaf': 10, 'min_samples_split': 6, 'subsample': 0.3827289815580167}. Best is trial 34 with value: 0.604146978112546.\u001b[0m\n",
      "\u001b[32m[I 2023-08-17 22:16:18,146]\u001b[0m Trial 49 finished with value: 0.5788154419503607 and parameters: {'n_estimators': 123, 'max_depth': 10, 'min_samples_leaf': 10, 'min_samples_split': 6, 'subsample': 0.3781928500607788}. Best is trial 34 with value: 0.604146978112546.\u001b[0m\n",
      "\u001b[32m[I 2023-08-17 22:16:18,779]\u001b[0m Trial 50 finished with value: 0.5924134660176941 and parameters: {'n_estimators': 111, 'max_depth': 29, 'min_samples_leaf': 8, 'min_samples_split': 6, 'subsample': 0.4714912132043483}. Best is trial 34 with value: 0.604146978112546.\u001b[0m\n",
      "\u001b[32m[I 2023-08-17 22:16:19,292]\u001b[0m Trial 51 finished with value: 0.5906485313252021 and parameters: {'n_estimators': 105, 'max_depth': 30, 'min_samples_leaf': 10, 'min_samples_split': 7, 'subsample': 0.44030459032634994}. Best is trial 34 with value: 0.604146978112546.\u001b[0m\n",
      "\u001b[32m[I 2023-08-17 22:16:19,845]\u001b[0m Trial 52 finished with value: 0.5903547042252306 and parameters: {'n_estimators': 115, 'max_depth': 25, 'min_samples_leaf': 9, 'min_samples_split': 10, 'subsample': 0.39942500204186804}. Best is trial 34 with value: 0.604146978112546.\u001b[0m\n",
      "\u001b[32m[I 2023-08-17 22:16:20,312]\u001b[0m Trial 53 finished with value: 0.601578846572293 and parameters: {'n_estimators': 104, 'max_depth': 28, 'min_samples_leaf': 10, 'min_samples_split': 5, 'subsample': 0.4040476597750887}. Best is trial 34 with value: 0.604146978112546.\u001b[0m\n",
      "\u001b[32m[I 2023-08-17 22:16:20,777]\u001b[0m Trial 54 finished with value: 0.5951246514031271 and parameters: {'n_estimators': 103, 'max_depth': 28, 'min_samples_leaf': 10, 'min_samples_split': 5, 'subsample': 0.38526851759868014}. Best is trial 34 with value: 0.604146978112546.\u001b[0m\n",
      "\u001b[32m[I 2023-08-17 22:16:21,322]\u001b[0m Trial 55 finished with value: 0.5887990544560433 and parameters: {'n_estimators': 109, 'max_depth': 30, 'min_samples_leaf': 10, 'min_samples_split': 5, 'subsample': 0.44116183601553743}. Best is trial 34 with value: 0.604146978112546.\u001b[0m\n",
      "\u001b[32m[I 2023-08-17 22:16:21,769]\u001b[0m Trial 56 finished with value: 0.5763119558943792 and parameters: {'n_estimators': 104, 'max_depth': 27, 'min_samples_leaf': 9, 'min_samples_split': 5, 'subsample': 0.3624452651176718}. Best is trial 34 with value: 0.604146978112546.\u001b[0m\n",
      "\u001b[32m[I 2023-08-17 22:16:22,482]\u001b[0m Trial 57 finished with value: 0.5611330214957052 and parameters: {'n_estimators': 192, 'max_depth': 29, 'min_samples_leaf': 10, 'min_samples_split': 6, 'subsample': 0.3248105535256313}. Best is trial 34 with value: 0.604146978112546.\u001b[0m\n",
      "\u001b[32m[I 2023-08-17 22:16:23,032]\u001b[0m Trial 58 finished with value: 0.5935202825984633 and parameters: {'n_estimators': 117, 'max_depth': 23, 'min_samples_leaf': 10, 'min_samples_split': 4, 'subsample': 0.41548162637220487}. Best is trial 34 with value: 0.604146978112546.\u001b[0m\n",
      "\u001b[32m[I 2023-08-17 22:16:23,690]\u001b[0m Trial 59 finished with value: 0.574800393490927 and parameters: {'n_estimators': 142, 'max_depth': 26, 'min_samples_leaf': 9, 'min_samples_split': 5, 'subsample': 0.3969099551754136}. Best is trial 34 with value: 0.604146978112546.\u001b[0m\n",
      "\u001b[32m[I 2023-08-17 22:16:24,311]\u001b[0m Trial 60 finished with value: 0.5591128111666974 and parameters: {'n_estimators': 108, 'max_depth': 28, 'min_samples_leaf': 3, 'min_samples_split': 6, 'subsample': 0.3506463951151194}. Best is trial 34 with value: 0.604146978112546.\u001b[0m\n",
      "\u001b[32m[I 2023-08-17 22:16:24,830]\u001b[0m Trial 61 finished with value: 0.5891611980139243 and parameters: {'n_estimators': 112, 'max_depth': 25, 'min_samples_leaf': 10, 'min_samples_split': 8, 'subsample': 0.4062651093962689}. Best is trial 34 with value: 0.604146978112546.\u001b[0m\n",
      "\u001b[32m[I 2023-08-17 22:16:25,394]\u001b[0m Trial 62 finished with value: 0.6080695257592488 and parameters: {'n_estimators': 112, 'max_depth': 27, 'min_samples_leaf': 9, 'min_samples_split': 7, 'subsample': 0.43183379591354554}. Best is trial 62 with value: 0.6080695257592488.\u001b[0m\n",
      "\u001b[32m[I 2023-08-17 22:16:26,000]\u001b[0m Trial 63 finished with value: 0.591199681305312 and parameters: {'n_estimators': 121, 'max_depth': 29, 'min_samples_leaf': 9, 'min_samples_split': 6, 'subsample': 0.43004139031974076}. Best is trial 62 with value: 0.6080695257592488.\u001b[0m\n",
      "\u001b[32m[I 2023-08-17 22:16:26,549]\u001b[0m Trial 64 finished with value: 0.5945515249146778 and parameters: {'n_estimators': 106, 'max_depth': 27, 'min_samples_leaf': 10, 'min_samples_split': 4, 'subsample': 0.4636184023495922}. Best is trial 62 with value: 0.6080695257592488.\u001b[0m\n",
      "\u001b[32m[I 2023-08-17 22:16:27,416]\u001b[0m Trial 65 finished with value: 0.5793974678351422 and parameters: {'n_estimators': 176, 'max_depth': 30, 'min_samples_leaf': 10, 'min_samples_split': 5, 'subsample': 0.43834042257405026}. Best is trial 62 with value: 0.6080695257592488.\u001b[0m\n",
      "\u001b[32m[I 2023-08-17 22:16:28,240]\u001b[0m Trial 66 finished with value: 0.5842335930934202 and parameters: {'n_estimators': 129, 'max_depth': 24, 'min_samples_leaf': 6, 'min_samples_split': 6, 'subsample': 0.47856925853347687}. Best is trial 62 with value: 0.6080695257592488.\u001b[0m\n",
      "\u001b[32m[I 2023-08-17 22:16:28,888]\u001b[0m Trial 67 finished with value: 0.5733282623791446 and parameters: {'n_estimators': 124, 'max_depth': 26, 'min_samples_leaf': 9, 'min_samples_split': 7, 'subsample': 0.4523025220084143}. Best is trial 62 with value: 0.6080695257592488.\u001b[0m\n",
      "\u001b[32m[I 2023-08-17 22:16:29,394]\u001b[0m Trial 68 finished with value: 0.574503330250207 and parameters: {'n_estimators': 102, 'max_depth': 27, 'min_samples_leaf': 9, 'min_samples_split': 5, 'subsample': 0.4227817822966528}. Best is trial 62 with value: 0.6080695257592488.\u001b[0m\n",
      "\u001b[32m[I 2023-08-17 22:16:29,909]\u001b[0m Trial 69 finished with value: 0.5925660123415568 and parameters: {'n_estimators': 117, 'max_depth': 28, 'min_samples_leaf': 10, 'min_samples_split': 8, 'subsample': 0.37902730021705394}. Best is trial 62 with value: 0.6080695257592488.\u001b[0m\n",
      "\u001b[32m[I 2023-08-17 22:16:30,415]\u001b[0m Trial 70 finished with value: 0.5846651161159923 and parameters: {'n_estimators': 109, 'max_depth': 22, 'min_samples_leaf': 10, 'min_samples_split': 5, 'subsample': 0.3918255536694868}. Best is trial 62 with value: 0.6080695257592488.\u001b[0m\n",
      "\u001b[32m[I 2023-08-17 22:16:30,956]\u001b[0m Trial 71 finished with value: 0.5825468402513507 and parameters: {'n_estimators': 113, 'max_depth': 25, 'min_samples_leaf': 9, 'min_samples_split': 7, 'subsample': 0.4190438814606409}. Best is trial 62 with value: 0.6080695257592488.\u001b[0m\n",
      "\u001b[32m[I 2023-08-17 22:16:31,517]\u001b[0m Trial 72 finished with value: 0.5852053457322621 and parameters: {'n_estimators': 112, 'max_depth': 29, 'min_samples_leaf': 9, 'min_samples_split': 7, 'subsample': 0.4098781172643343}. Best is trial 62 with value: 0.6080695257592488.\u001b[0m\n",
      "\u001b[32m[I 2023-08-17 22:16:32,095]\u001b[0m Trial 73 finished with value: 0.5708526039453709 and parameters: {'n_estimators': 107, 'max_depth': 24, 'min_samples_leaf': 8, 'min_samples_split': 9, 'subsample': 0.4445628989581776}. Best is trial 62 with value: 0.6080695257592488.\u001b[0m\n",
      "\u001b[32m[I 2023-08-17 22:16:32,530]\u001b[0m Trial 74 finished with value: 0.5817907272605073 and parameters: {'n_estimators': 103, 'max_depth': 26, 'min_samples_leaf': 10, 'min_samples_split': 7, 'subsample': 0.3666494688495494}. Best is trial 62 with value: 0.6080695257592488.\u001b[0m\n",
      "\u001b[32m[I 2023-08-17 22:16:33,144]\u001b[0m Trial 75 finished with value: 0.599374043867118 and parameters: {'n_estimators': 117, 'max_depth': 28, 'min_samples_leaf': 10, 'min_samples_split': 6, 'subsample': 0.46633151991539834}. Best is trial 62 with value: 0.6080695257592488.\u001b[0m\n",
      "\u001b[32m[I 2023-08-17 22:16:33,768]\u001b[0m Trial 76 finished with value: 0.5820963228928321 and parameters: {'n_estimators': 116, 'max_depth': 28, 'min_samples_leaf': 10, 'min_samples_split': 6, 'subsample': 0.48496922028805295}. Best is trial 62 with value: 0.6080695257592488.\u001b[0m\n",
      "\u001b[32m[I 2023-08-17 22:16:34,387]\u001b[0m Trial 77 finished with value: 0.5838509217132094 and parameters: {'n_estimators': 119, 'max_depth': 29, 'min_samples_leaf': 10, 'min_samples_split': 5, 'subsample': 0.4706213531138503}. Best is trial 62 with value: 0.6080695257592488.\u001b[0m\n",
      "\u001b[32m[I 2023-08-17 22:16:34,890]\u001b[0m Trial 78 finished with value: 0.5839266603961539 and parameters: {'n_estimators': 100, 'max_depth': 27, 'min_samples_leaf': 10, 'min_samples_split': 4, 'subsample': 0.43229766811089476}. Best is trial 62 with value: 0.6080695257592488.\u001b[0m\n",
      "\u001b[32m[I 2023-08-17 22:16:35,474]\u001b[0m Trial 79 finished with value: 0.5917142902223252 and parameters: {'n_estimators': 110, 'max_depth': 30, 'min_samples_leaf': 10, 'min_samples_split': 6, 'subsample': 0.45025534663499545}. Best is trial 62 with value: 0.6080695257592488.\u001b[0m\n",
      "\u001b[32m[I 2023-08-17 22:16:36,158]\u001b[0m Trial 80 finished with value: 0.5812547952139054 and parameters: {'n_estimators': 126, 'max_depth': 23, 'min_samples_leaf': 9, 'min_samples_split': 6, 'subsample': 0.4641510498443984}. Best is trial 62 with value: 0.6080695257592488.\u001b[0m\n",
      "\u001b[32m[I 2023-08-17 22:16:36,725]\u001b[0m Trial 81 finished with value: 0.5816164203705275 and parameters: {'n_estimators': 114, 'max_depth': 26, 'min_samples_leaf': 8, 'min_samples_split': 8, 'subsample': 0.401752213107566}. Best is trial 62 with value: 0.6080695257592488.\u001b[0m\n",
      "\u001b[32m[I 2023-08-17 22:16:37,205]\u001b[0m Trial 82 finished with value: 0.5837496540063951 and parameters: {'n_estimators': 107, 'max_depth': 28, 'min_samples_leaf': 9, 'min_samples_split': 6, 'subsample': 0.3836513173878638}. Best is trial 62 with value: 0.6080695257592488.\u001b[0m\n",
      "\u001b[32m[I 2023-08-17 22:16:37,763]\u001b[0m Trial 83 finished with value: 0.59210410959327 and parameters: {'n_estimators': 103, 'max_depth': 25, 'min_samples_leaf': 10, 'min_samples_split': 9, 'subsample': 0.4145870448360136}. Best is trial 62 with value: 0.6080695257592488.\u001b[0m\n",
      "\u001b[32m[I 2023-08-17 22:16:38,356]\u001b[0m Trial 84 finished with value: 0.5811701449878568 and parameters: {'n_estimators': 120, 'max_depth': 27, 'min_samples_leaf': 9, 'min_samples_split': 5, 'subsample': 0.4269376442725909}. Best is trial 62 with value: 0.6080695257592488.\u001b[0m\n",
      "\u001b[32m[I 2023-08-17 22:16:38,973]\u001b[0m Trial 85 finished with value: 0.5896525168720033 and parameters: {'n_estimators': 111, 'max_depth': 29, 'min_samples_leaf': 10, 'min_samples_split': 7, 'subsample': 0.4912853198833873}. Best is trial 62 with value: 0.6080695257592488.\u001b[0m\n",
      "\u001b[32m[I 2023-08-17 22:16:39,439]\u001b[0m Trial 86 finished with value: 0.5658137646617247 and parameters: {'n_estimators': 114, 'max_depth': 28, 'min_samples_leaf': 10, 'min_samples_split': 7, 'subsample': 0.3565594330398639}. Best is trial 62 with value: 0.6080695257592488.\u001b[0m\n",
      "\u001b[32m[I 2023-08-17 22:16:40,006]\u001b[0m Trial 87 finished with value: 0.569471776573658 and parameters: {'n_estimators': 122, 'max_depth': 26, 'min_samples_leaf': 9, 'min_samples_split': 6, 'subsample': 0.39498104912297416}. Best is trial 62 with value: 0.6080695257592488.\u001b[0m\n",
      "\u001b[32m[I 2023-08-17 22:16:40,433]\u001b[0m Trial 88 finished with value: 0.575995068346591 and parameters: {'n_estimators': 105, 'max_depth': 27, 'min_samples_leaf': 10, 'min_samples_split': 4, 'subsample': 0.3424545501335942}. Best is trial 62 with value: 0.6080695257592488.\u001b[0m\n",
      "\u001b[32m[I 2023-08-17 22:16:40,861]\u001b[0m Trial 89 finished with value: 0.5640826031468857 and parameters: {'n_estimators': 166, 'max_depth': 30, 'min_samples_leaf': 9, 'min_samples_split': 5, 'subsample': 0.17159003047573534}. Best is trial 62 with value: 0.6080695257592488.\u001b[0m\n",
      "\u001b[32m[I 2023-08-17 22:16:41,547]\u001b[0m Trial 90 finished with value: 0.5677693060652391 and parameters: {'n_estimators': 134, 'max_depth': 18, 'min_samples_leaf': 7, 'min_samples_split': 10, 'subsample': 0.4061045423003229}. Best is trial 62 with value: 0.6080695257592488.\u001b[0m\n",
      "\u001b[32m[I 2023-08-17 22:16:41,998]\u001b[0m Trial 91 finished with value: 0.5951246514031271 and parameters: {'n_estimators': 103, 'max_depth': 28, 'min_samples_leaf': 10, 'min_samples_split': 5, 'subsample': 0.38536119093970816}. Best is trial 62 with value: 0.6080695257592488.\u001b[0m\n",
      "\u001b[32m[I 2023-08-17 22:16:42,415]\u001b[0m Trial 92 finished with value: 0.5847968861718778 and parameters: {'n_estimators': 100, 'max_depth': 29, 'min_samples_leaf': 10, 'min_samples_split': 5, 'subsample': 0.3684634086666464}. Best is trial 62 with value: 0.6080695257592488.\u001b[0m\n",
      "\u001b[32m[I 2023-08-17 22:16:42,677]\u001b[0m Trial 93 finished with value: 0.45707953282530395 and parameters: {'n_estimators': 108, 'max_depth': 5, 'min_samples_leaf': 10, 'min_samples_split': 6, 'subsample': 0.10221263473902667}. Best is trial 62 with value: 0.6080695257592488.\u001b[0m\n",
      "\u001b[32m[I 2023-08-17 22:16:43,151]\u001b[0m Trial 94 finished with value: 0.6032491577568129 and parameters: {'n_estimators': 110, 'max_depth': 12, 'min_samples_leaf': 10, 'min_samples_split': 5, 'subsample': 0.38849286128343274}. Best is trial 62 with value: 0.6080695257592488.\u001b[0m\n",
      "\u001b[32m[I 2023-08-17 22:16:43,728]\u001b[0m Trial 95 finished with value: 0.5753991320156052 and parameters: {'n_estimators': 110, 'max_depth': 13, 'min_samples_leaf': 5, 'min_samples_split': 6, 'subsample': 0.3737451098549163}. Best is trial 62 with value: 0.6080695257592488.\u001b[0m\n",
      "\u001b[32m[I 2023-08-17 22:16:44,301]\u001b[0m Trial 96 finished with value: 0.5881619174234297 and parameters: {'n_estimators': 117, 'max_depth': 9, 'min_samples_leaf': 10, 'min_samples_split': 4, 'subsample': 0.4465358856589833}. Best is trial 62 with value: 0.6080695257592488.\u001b[0m\n",
      "\u001b[32m[I 2023-08-17 22:16:44,909]\u001b[0m Trial 97 finished with value: 0.572749251671047 and parameters: {'n_estimators': 115, 'max_depth': 14, 'min_samples_leaf': 9, 'min_samples_split': 5, 'subsample': 0.4337681240661779}. Best is trial 62 with value: 0.6080695257592488.\u001b[0m\n",
      "\u001b[32m[I 2023-08-17 22:16:45,482]\u001b[0m Trial 98 finished with value: 0.5861473605827182 and parameters: {'n_estimators': 112, 'max_depth': 11, 'min_samples_leaf': 10, 'min_samples_split': 6, 'subsample': 0.4127179787891466}. Best is trial 62 with value: 0.6080695257592488.\u001b[0m\n",
      "\u001b[32m[I 2023-08-17 22:16:46,198]\u001b[0m Trial 99 finished with value: 0.5895146940390859 and parameters: {'n_estimators': 150, 'max_depth': 16, 'min_samples_leaf': 10, 'min_samples_split': 8, 'subsample': 0.3958994053507239}. Best is trial 62 with value: 0.6080695257592488.\u001b[0m\n"
     ]
    },
    {
     "name": "stdout",
     "output_type": "stream",
     "text": [
      "Best r2:  0.6080695257592488\n",
      "Best trial: {'n_estimators': 112, 'max_depth': 27, 'min_samples_leaf': 9, 'min_samples_split': 7, 'subsample': 0.43183379591354554}\n"
     ]
    }
   ],
   "source": [
    "sampler = TPESampler()\n",
    "study = optuna.create_study(\n",
    "    study_name=\"gb_parameter_opt\",\n",
    "    direction=\"maximize\",\n",
    "    sampler=sampler,\n",
    ")\n",
    "\n",
    "study.optimize(lambda trial : objectiveGB(trial, Cd_X_train, Cd_y_train), n_trials=100)\n",
    "print(\"Best r2: \", study.best_value)\n",
    "print(\"Best trial:\", study.best_trial.params)"
   ]
  },
  {
   "cell_type": "code",
   "execution_count": 40,
   "id": "861f88d8",
   "metadata": {},
   "outputs": [
    {
     "data": {
      "application/vnd.plotly.v1+json": {
       "config": {
        "plotlyServerURL": "https://plot.ly"
       },
       "data": [
        {
         "dimensions": [
          {
           "label": "Objective Value",
           "range": [
            0.45707953282530395,
            0.6080695257592488
           ],
           "values": [
            0.5449229022024391,
            0.5812772794822016,
            0.5983216295059762,
            0.4989009238824954,
            0.543239100504306,
            0.5442437512968831,
            0.5223987720345201,
            0.4932355730987217,
            0.4623592955285618,
            0.4910629190699912,
            0.5787362103965786,
            0.5983216295059762,
            0.5843628492714812,
            0.5750660785828929,
            0.5560774450747884,
            0.5915656466340662,
            0.5769735727768964,
            0.5726743059798981,
            0.5488208076086434,
            0.5726220660805774,
            0.5779375551418521,
            0.5593985839182118,
            0.594436695046183,
            0.580636619694672,
            0.5853228831183754,
            0.5718168964835033,
            0.5731971558900499,
            0.5826182826454736,
            0.5831454727936579,
            0.5841904428627668,
            0.5170404355536284,
            0.5728486931102554,
            0.5806333864511757,
            0.5713170480143347,
            0.604146978112546,
            0.5690159320197766,
            0.5827162336959278,
            0.5570793461696987,
            0.5812125929548031,
            0.5428546900007483,
            0.5625678742082993,
            0.597447109318849,
            0.5949842624823525,
            0.5966659496620315,
            0.5823209855773697,
            0.5699374337530141,
            0.5671889336689759,
            0.5514480790448195,
            0.6026592186101836,
            0.5788154419503607,
            0.5924134660176941,
            0.5906485313252021,
            0.5903547042252306,
            0.601578846572293,
            0.5951246514031271,
            0.5887990544560433,
            0.5763119558943792,
            0.5611330214957052,
            0.5935202825984633,
            0.574800393490927,
            0.5591128111666974,
            0.5891611980139243,
            0.6080695257592488,
            0.591199681305312,
            0.5945515249146778,
            0.5793974678351422,
            0.5842335930934202,
            0.5733282623791446,
            0.574503330250207,
            0.5925660123415568,
            0.5846651161159923,
            0.5825468402513507,
            0.5852053457322621,
            0.5708526039453709,
            0.5817907272605073,
            0.599374043867118,
            0.5820963228928321,
            0.5838509217132094,
            0.5839266603961539,
            0.5917142902223252,
            0.5812547952139054,
            0.5816164203705275,
            0.5837496540063951,
            0.59210410959327,
            0.5811701449878568,
            0.5896525168720033,
            0.5658137646617247,
            0.569471776573658,
            0.575995068346591,
            0.5640826031468857,
            0.5677693060652391,
            0.5951246514031271,
            0.5847968861718778,
            0.45707953282530395,
            0.6032491577568129,
            0.5753991320156052,
            0.5881619174234297,
            0.572749251671047,
            0.5861473605827182,
            0.5895146940390859
           ]
          },
          {
           "label": "max_depth",
           "range": [
            2,
            30
           ],
           "values": [
            4,
            9,
            28,
            2,
            8,
            12,
            7,
            18,
            15,
            12,
            27,
            28,
            30,
            24,
            22,
            21,
            30,
            25,
            19,
            27,
            27,
            20,
            23,
            24,
            29,
            23,
            26,
            17,
            28,
            25,
            22,
            21,
            16,
            20,
            28,
            29,
            28,
            2,
            26,
            30,
            14,
            23,
            24,
            25,
            27,
            28,
            7,
            26,
            29,
            10,
            29,
            30,
            25,
            28,
            28,
            30,
            27,
            29,
            23,
            26,
            28,
            25,
            27,
            29,
            27,
            30,
            24,
            26,
            27,
            28,
            22,
            25,
            29,
            24,
            26,
            28,
            28,
            29,
            27,
            30,
            23,
            26,
            28,
            25,
            27,
            29,
            28,
            26,
            27,
            30,
            18,
            28,
            29,
            5,
            12,
            13,
            9,
            14,
            11,
            16
           ]
          },
          {
           "label": "min_samples_leaf",
           "range": [
            1,
            10
           ],
           "values": [
            4,
            10,
            10,
            2,
            7,
            5,
            1,
            6,
            2,
            2,
            10,
            10,
            8,
            9,
            8,
            10,
            8,
            9,
            6,
            4,
            9,
            10,
            10,
            9,
            7,
            10,
            8,
            9,
            7,
            10,
            4,
            10,
            9,
            10,
            10,
            9,
            8,
            7,
            5,
            3,
            10,
            10,
            10,
            9,
            9,
            9,
            8,
            1,
            10,
            10,
            8,
            10,
            9,
            10,
            10,
            10,
            9,
            10,
            10,
            9,
            3,
            10,
            9,
            9,
            10,
            10,
            6,
            9,
            9,
            10,
            10,
            9,
            9,
            8,
            10,
            10,
            10,
            10,
            10,
            10,
            9,
            8,
            9,
            10,
            9,
            10,
            10,
            9,
            10,
            9,
            7,
            10,
            10,
            10,
            10,
            5,
            10,
            9,
            10,
            10
           ]
          },
          {
           "label": "min_samples_split",
           "range": [
            2,
            10
           ],
           "values": [
            2,
            3,
            9,
            10,
            2,
            8,
            8,
            8,
            10,
            3,
            6,
            5,
            5,
            5,
            7,
            5,
            9,
            6,
            7,
            4,
            9,
            5,
            4,
            4,
            4,
            3,
            7,
            6,
            4,
            2,
            9,
            5,
            5,
            4,
            6,
            7,
            6,
            3,
            10,
            8,
            6,
            5,
            6,
            7,
            8,
            7,
            9,
            5,
            6,
            6,
            6,
            7,
            10,
            5,
            5,
            5,
            5,
            6,
            4,
            5,
            6,
            8,
            7,
            6,
            4,
            5,
            6,
            7,
            5,
            8,
            5,
            7,
            7,
            9,
            7,
            6,
            6,
            5,
            4,
            6,
            6,
            8,
            6,
            9,
            5,
            7,
            7,
            6,
            4,
            5,
            10,
            5,
            5,
            6,
            5,
            6,
            4,
            5,
            6,
            8
           ]
          },
          {
           "label": "n_estimators",
           "range": [
            100,
            193
           ],
           "values": [
            161,
            112,
            101,
            148,
            117,
            132,
            154,
            172,
            141,
            147,
            193,
            101,
            101,
            102,
            126,
            117,
            129,
            108,
            183,
            124,
            138,
            115,
            100,
            101,
            108,
            100,
            121,
            108,
            110,
            134,
            165,
            118,
            106,
            114,
            113,
            105,
            114,
            121,
            111,
            105,
            157,
            121,
            100,
            113,
            146,
            127,
            119,
            132,
            112,
            123,
            111,
            105,
            115,
            104,
            103,
            109,
            104,
            192,
            117,
            142,
            108,
            112,
            112,
            121,
            106,
            176,
            129,
            124,
            102,
            117,
            109,
            113,
            112,
            107,
            103,
            117,
            116,
            119,
            100,
            110,
            126,
            114,
            107,
            103,
            120,
            111,
            114,
            122,
            105,
            166,
            134,
            103,
            100,
            108,
            110,
            110,
            117,
            115,
            112,
            150
           ]
          },
          {
           "label": "subsample",
           "range": [
            0.10221263473902667,
            0.49686362383996246
           ],
           "values": [
            0.29517468297445426,
            0.30996608228398903,
            0.40100691508409847,
            0.1371939071303422,
            0.13137001981695154,
            0.27599946631274364,
            0.3197000821553869,
            0.11508593287661029,
            0.11399271577098968,
            0.12057280069698506,
            0.48329915719913585,
            0.4004860274634941,
            0.42451165916969597,
            0.39130506103188495,
            0.3914670408204546,
            0.48974969277162317,
            0.23127082673743438,
            0.43924611895937815,
            0.36110529802188207,
            0.36294050909013387,
            0.20741151116432271,
            0.49663074455651823,
            0.45290121825022556,
            0.4521030499313131,
            0.4006312269680233,
            0.351785110304238,
            0.4574863832456057,
            0.4182544203961535,
            0.46169179402999116,
            0.3358795208793135,
            0.2810187033196583,
            0.4776969221781061,
            0.42094867657020485,
            0.49686362383996246,
            0.3802761532244382,
            0.38824513988783016,
            0.3716510443360956,
            0.33056319704210246,
            0.4316393070577671,
            0.2958161627237235,
            0.25174744021777845,
            0.4689782669799451,
            0.409427265544511,
            0.4079337163207381,
            0.37315326452210706,
            0.312572711808977,
            0.15482992053782518,
            0.3449653797055215,
            0.3827289815580167,
            0.3781928500607788,
            0.4714912132043483,
            0.44030459032634994,
            0.39942500204186804,
            0.4040476597750887,
            0.38526851759868014,
            0.44116183601553743,
            0.3624452651176718,
            0.3248105535256313,
            0.41548162637220487,
            0.3969099551754136,
            0.3506463951151194,
            0.4062651093962689,
            0.43183379591354554,
            0.43004139031974076,
            0.4636184023495922,
            0.43834042257405026,
            0.47856925853347687,
            0.4523025220084143,
            0.4227817822966528,
            0.37902730021705394,
            0.3918255536694868,
            0.4190438814606409,
            0.4098781172643343,
            0.4445628989581776,
            0.3666494688495494,
            0.46633151991539834,
            0.48496922028805295,
            0.4706213531138503,
            0.43229766811089476,
            0.45025534663499545,
            0.4641510498443984,
            0.401752213107566,
            0.3836513173878638,
            0.4145870448360136,
            0.4269376442725909,
            0.4912853198833873,
            0.3565594330398639,
            0.39498104912297416,
            0.3424545501335942,
            0.17159003047573534,
            0.4061045423003229,
            0.38536119093970816,
            0.3684634086666464,
            0.10221263473902667,
            0.38849286128343274,
            0.3737451098549163,
            0.4465358856589833,
            0.4337681240661779,
            0.4127179787891466,
            0.3958994053507239
           ]
          }
         ],
         "labelangle": 30,
         "labelside": "bottom",
         "line": {
          "color": [
           0.5449229022024391,
           0.5812772794822016,
           0.5983216295059762,
           0.4989009238824954,
           0.543239100504306,
           0.5442437512968831,
           0.5223987720345201,
           0.4932355730987217,
           0.4623592955285618,
           0.4910629190699912,
           0.5787362103965786,
           0.5983216295059762,
           0.5843628492714812,
           0.5750660785828929,
           0.5560774450747884,
           0.5915656466340662,
           0.5769735727768964,
           0.5726743059798981,
           0.5488208076086434,
           0.5726220660805774,
           0.5779375551418521,
           0.5593985839182118,
           0.594436695046183,
           0.580636619694672,
           0.5853228831183754,
           0.5718168964835033,
           0.5731971558900499,
           0.5826182826454736,
           0.5831454727936579,
           0.5841904428627668,
           0.5170404355536284,
           0.5728486931102554,
           0.5806333864511757,
           0.5713170480143347,
           0.604146978112546,
           0.5690159320197766,
           0.5827162336959278,
           0.5570793461696987,
           0.5812125929548031,
           0.5428546900007483,
           0.5625678742082993,
           0.597447109318849,
           0.5949842624823525,
           0.5966659496620315,
           0.5823209855773697,
           0.5699374337530141,
           0.5671889336689759,
           0.5514480790448195,
           0.6026592186101836,
           0.5788154419503607,
           0.5924134660176941,
           0.5906485313252021,
           0.5903547042252306,
           0.601578846572293,
           0.5951246514031271,
           0.5887990544560433,
           0.5763119558943792,
           0.5611330214957052,
           0.5935202825984633,
           0.574800393490927,
           0.5591128111666974,
           0.5891611980139243,
           0.6080695257592488,
           0.591199681305312,
           0.5945515249146778,
           0.5793974678351422,
           0.5842335930934202,
           0.5733282623791446,
           0.574503330250207,
           0.5925660123415568,
           0.5846651161159923,
           0.5825468402513507,
           0.5852053457322621,
           0.5708526039453709,
           0.5817907272605073,
           0.599374043867118,
           0.5820963228928321,
           0.5838509217132094,
           0.5839266603961539,
           0.5917142902223252,
           0.5812547952139054,
           0.5816164203705275,
           0.5837496540063951,
           0.59210410959327,
           0.5811701449878568,
           0.5896525168720033,
           0.5658137646617247,
           0.569471776573658,
           0.575995068346591,
           0.5640826031468857,
           0.5677693060652391,
           0.5951246514031271,
           0.5847968861718778,
           0.45707953282530395,
           0.6032491577568129,
           0.5753991320156052,
           0.5881619174234297,
           0.572749251671047,
           0.5861473605827182,
           0.5895146940390859
          ],
          "colorbar": {
           "title": {
            "text": "Objective Value"
           }
          },
          "colorscale": [
           [
            0,
            "rgb(247,251,255)"
           ],
           [
            0.125,
            "rgb(222,235,247)"
           ],
           [
            0.25,
            "rgb(198,219,239)"
           ],
           [
            0.375,
            "rgb(158,202,225)"
           ],
           [
            0.5,
            "rgb(107,174,214)"
           ],
           [
            0.625,
            "rgb(66,146,198)"
           ],
           [
            0.75,
            "rgb(33,113,181)"
           ],
           [
            0.875,
            "rgb(8,81,156)"
           ],
           [
            1,
            "rgb(8,48,107)"
           ]
          ],
          "reversescale": false,
          "showscale": true
         },
         "type": "parcoords"
        }
       ],
       "layout": {
        "template": {
         "data": {
          "bar": [
           {
            "error_x": {
             "color": "#2a3f5f"
            },
            "error_y": {
             "color": "#2a3f5f"
            },
            "marker": {
             "line": {
              "color": "#E5ECF6",
              "width": 0.5
             },
             "pattern": {
              "fillmode": "overlay",
              "size": 10,
              "solidity": 0.2
             }
            },
            "type": "bar"
           }
          ],
          "barpolar": [
           {
            "marker": {
             "line": {
              "color": "#E5ECF6",
              "width": 0.5
             },
             "pattern": {
              "fillmode": "overlay",
              "size": 10,
              "solidity": 0.2
             }
            },
            "type": "barpolar"
           }
          ],
          "carpet": [
           {
            "aaxis": {
             "endlinecolor": "#2a3f5f",
             "gridcolor": "white",
             "linecolor": "white",
             "minorgridcolor": "white",
             "startlinecolor": "#2a3f5f"
            },
            "baxis": {
             "endlinecolor": "#2a3f5f",
             "gridcolor": "white",
             "linecolor": "white",
             "minorgridcolor": "white",
             "startlinecolor": "#2a3f5f"
            },
            "type": "carpet"
           }
          ],
          "choropleth": [
           {
            "colorbar": {
             "outlinewidth": 0,
             "ticks": ""
            },
            "type": "choropleth"
           }
          ],
          "contour": [
           {
            "colorbar": {
             "outlinewidth": 0,
             "ticks": ""
            },
            "colorscale": [
             [
              0,
              "#0d0887"
             ],
             [
              0.1111111111111111,
              "#46039f"
             ],
             [
              0.2222222222222222,
              "#7201a8"
             ],
             [
              0.3333333333333333,
              "#9c179e"
             ],
             [
              0.4444444444444444,
              "#bd3786"
             ],
             [
              0.5555555555555556,
              "#d8576b"
             ],
             [
              0.6666666666666666,
              "#ed7953"
             ],
             [
              0.7777777777777778,
              "#fb9f3a"
             ],
             [
              0.8888888888888888,
              "#fdca26"
             ],
             [
              1,
              "#f0f921"
             ]
            ],
            "type": "contour"
           }
          ],
          "contourcarpet": [
           {
            "colorbar": {
             "outlinewidth": 0,
             "ticks": ""
            },
            "type": "contourcarpet"
           }
          ],
          "heatmap": [
           {
            "colorbar": {
             "outlinewidth": 0,
             "ticks": ""
            },
            "colorscale": [
             [
              0,
              "#0d0887"
             ],
             [
              0.1111111111111111,
              "#46039f"
             ],
             [
              0.2222222222222222,
              "#7201a8"
             ],
             [
              0.3333333333333333,
              "#9c179e"
             ],
             [
              0.4444444444444444,
              "#bd3786"
             ],
             [
              0.5555555555555556,
              "#d8576b"
             ],
             [
              0.6666666666666666,
              "#ed7953"
             ],
             [
              0.7777777777777778,
              "#fb9f3a"
             ],
             [
              0.8888888888888888,
              "#fdca26"
             ],
             [
              1,
              "#f0f921"
             ]
            ],
            "type": "heatmap"
           }
          ],
          "heatmapgl": [
           {
            "colorbar": {
             "outlinewidth": 0,
             "ticks": ""
            },
            "colorscale": [
             [
              0,
              "#0d0887"
             ],
             [
              0.1111111111111111,
              "#46039f"
             ],
             [
              0.2222222222222222,
              "#7201a8"
             ],
             [
              0.3333333333333333,
              "#9c179e"
             ],
             [
              0.4444444444444444,
              "#bd3786"
             ],
             [
              0.5555555555555556,
              "#d8576b"
             ],
             [
              0.6666666666666666,
              "#ed7953"
             ],
             [
              0.7777777777777778,
              "#fb9f3a"
             ],
             [
              0.8888888888888888,
              "#fdca26"
             ],
             [
              1,
              "#f0f921"
             ]
            ],
            "type": "heatmapgl"
           }
          ],
          "histogram": [
           {
            "marker": {
             "pattern": {
              "fillmode": "overlay",
              "size": 10,
              "solidity": 0.2
             }
            },
            "type": "histogram"
           }
          ],
          "histogram2d": [
           {
            "colorbar": {
             "outlinewidth": 0,
             "ticks": ""
            },
            "colorscale": [
             [
              0,
              "#0d0887"
             ],
             [
              0.1111111111111111,
              "#46039f"
             ],
             [
              0.2222222222222222,
              "#7201a8"
             ],
             [
              0.3333333333333333,
              "#9c179e"
             ],
             [
              0.4444444444444444,
              "#bd3786"
             ],
             [
              0.5555555555555556,
              "#d8576b"
             ],
             [
              0.6666666666666666,
              "#ed7953"
             ],
             [
              0.7777777777777778,
              "#fb9f3a"
             ],
             [
              0.8888888888888888,
              "#fdca26"
             ],
             [
              1,
              "#f0f921"
             ]
            ],
            "type": "histogram2d"
           }
          ],
          "histogram2dcontour": [
           {
            "colorbar": {
             "outlinewidth": 0,
             "ticks": ""
            },
            "colorscale": [
             [
              0,
              "#0d0887"
             ],
             [
              0.1111111111111111,
              "#46039f"
             ],
             [
              0.2222222222222222,
              "#7201a8"
             ],
             [
              0.3333333333333333,
              "#9c179e"
             ],
             [
              0.4444444444444444,
              "#bd3786"
             ],
             [
              0.5555555555555556,
              "#d8576b"
             ],
             [
              0.6666666666666666,
              "#ed7953"
             ],
             [
              0.7777777777777778,
              "#fb9f3a"
             ],
             [
              0.8888888888888888,
              "#fdca26"
             ],
             [
              1,
              "#f0f921"
             ]
            ],
            "type": "histogram2dcontour"
           }
          ],
          "mesh3d": [
           {
            "colorbar": {
             "outlinewidth": 0,
             "ticks": ""
            },
            "type": "mesh3d"
           }
          ],
          "parcoords": [
           {
            "line": {
             "colorbar": {
              "outlinewidth": 0,
              "ticks": ""
             }
            },
            "type": "parcoords"
           }
          ],
          "pie": [
           {
            "automargin": true,
            "type": "pie"
           }
          ],
          "scatter": [
           {
            "marker": {
             "colorbar": {
              "outlinewidth": 0,
              "ticks": ""
             }
            },
            "type": "scatter"
           }
          ],
          "scatter3d": [
           {
            "line": {
             "colorbar": {
              "outlinewidth": 0,
              "ticks": ""
             }
            },
            "marker": {
             "colorbar": {
              "outlinewidth": 0,
              "ticks": ""
             }
            },
            "type": "scatter3d"
           }
          ],
          "scattercarpet": [
           {
            "marker": {
             "colorbar": {
              "outlinewidth": 0,
              "ticks": ""
             }
            },
            "type": "scattercarpet"
           }
          ],
          "scattergeo": [
           {
            "marker": {
             "colorbar": {
              "outlinewidth": 0,
              "ticks": ""
             }
            },
            "type": "scattergeo"
           }
          ],
          "scattergl": [
           {
            "marker": {
             "colorbar": {
              "outlinewidth": 0,
              "ticks": ""
             }
            },
            "type": "scattergl"
           }
          ],
          "scattermapbox": [
           {
            "marker": {
             "colorbar": {
              "outlinewidth": 0,
              "ticks": ""
             }
            },
            "type": "scattermapbox"
           }
          ],
          "scatterpolar": [
           {
            "marker": {
             "colorbar": {
              "outlinewidth": 0,
              "ticks": ""
             }
            },
            "type": "scatterpolar"
           }
          ],
          "scatterpolargl": [
           {
            "marker": {
             "colorbar": {
              "outlinewidth": 0,
              "ticks": ""
             }
            },
            "type": "scatterpolargl"
           }
          ],
          "scatterternary": [
           {
            "marker": {
             "colorbar": {
              "outlinewidth": 0,
              "ticks": ""
             }
            },
            "type": "scatterternary"
           }
          ],
          "surface": [
           {
            "colorbar": {
             "outlinewidth": 0,
             "ticks": ""
            },
            "colorscale": [
             [
              0,
              "#0d0887"
             ],
             [
              0.1111111111111111,
              "#46039f"
             ],
             [
              0.2222222222222222,
              "#7201a8"
             ],
             [
              0.3333333333333333,
              "#9c179e"
             ],
             [
              0.4444444444444444,
              "#bd3786"
             ],
             [
              0.5555555555555556,
              "#d8576b"
             ],
             [
              0.6666666666666666,
              "#ed7953"
             ],
             [
              0.7777777777777778,
              "#fb9f3a"
             ],
             [
              0.8888888888888888,
              "#fdca26"
             ],
             [
              1,
              "#f0f921"
             ]
            ],
            "type": "surface"
           }
          ],
          "table": [
           {
            "cells": {
             "fill": {
              "color": "#EBF0F8"
             },
             "line": {
              "color": "white"
             }
            },
            "header": {
             "fill": {
              "color": "#C8D4E3"
             },
             "line": {
              "color": "white"
             }
            },
            "type": "table"
           }
          ]
         },
         "layout": {
          "annotationdefaults": {
           "arrowcolor": "#2a3f5f",
           "arrowhead": 0,
           "arrowwidth": 1
          },
          "autotypenumbers": "strict",
          "coloraxis": {
           "colorbar": {
            "outlinewidth": 0,
            "ticks": ""
           }
          },
          "colorscale": {
           "diverging": [
            [
             0,
             "#8e0152"
            ],
            [
             0.1,
             "#c51b7d"
            ],
            [
             0.2,
             "#de77ae"
            ],
            [
             0.3,
             "#f1b6da"
            ],
            [
             0.4,
             "#fde0ef"
            ],
            [
             0.5,
             "#f7f7f7"
            ],
            [
             0.6,
             "#e6f5d0"
            ],
            [
             0.7,
             "#b8e186"
            ],
            [
             0.8,
             "#7fbc41"
            ],
            [
             0.9,
             "#4d9221"
            ],
            [
             1,
             "#276419"
            ]
           ],
           "sequential": [
            [
             0,
             "#0d0887"
            ],
            [
             0.1111111111111111,
             "#46039f"
            ],
            [
             0.2222222222222222,
             "#7201a8"
            ],
            [
             0.3333333333333333,
             "#9c179e"
            ],
            [
             0.4444444444444444,
             "#bd3786"
            ],
            [
             0.5555555555555556,
             "#d8576b"
            ],
            [
             0.6666666666666666,
             "#ed7953"
            ],
            [
             0.7777777777777778,
             "#fb9f3a"
            ],
            [
             0.8888888888888888,
             "#fdca26"
            ],
            [
             1,
             "#f0f921"
            ]
           ],
           "sequentialminus": [
            [
             0,
             "#0d0887"
            ],
            [
             0.1111111111111111,
             "#46039f"
            ],
            [
             0.2222222222222222,
             "#7201a8"
            ],
            [
             0.3333333333333333,
             "#9c179e"
            ],
            [
             0.4444444444444444,
             "#bd3786"
            ],
            [
             0.5555555555555556,
             "#d8576b"
            ],
            [
             0.6666666666666666,
             "#ed7953"
            ],
            [
             0.7777777777777778,
             "#fb9f3a"
            ],
            [
             0.8888888888888888,
             "#fdca26"
            ],
            [
             1,
             "#f0f921"
            ]
           ]
          },
          "colorway": [
           "#636efa",
           "#EF553B",
           "#00cc96",
           "#ab63fa",
           "#FFA15A",
           "#19d3f3",
           "#FF6692",
           "#B6E880",
           "#FF97FF",
           "#FECB52"
          ],
          "font": {
           "color": "#2a3f5f"
          },
          "geo": {
           "bgcolor": "white",
           "lakecolor": "white",
           "landcolor": "#E5ECF6",
           "showlakes": true,
           "showland": true,
           "subunitcolor": "white"
          },
          "hoverlabel": {
           "align": "left"
          },
          "hovermode": "closest",
          "mapbox": {
           "style": "light"
          },
          "paper_bgcolor": "white",
          "plot_bgcolor": "#E5ECF6",
          "polar": {
           "angularaxis": {
            "gridcolor": "white",
            "linecolor": "white",
            "ticks": ""
           },
           "bgcolor": "#E5ECF6",
           "radialaxis": {
            "gridcolor": "white",
            "linecolor": "white",
            "ticks": ""
           }
          },
          "scene": {
           "xaxis": {
            "backgroundcolor": "#E5ECF6",
            "gridcolor": "white",
            "gridwidth": 2,
            "linecolor": "white",
            "showbackground": true,
            "ticks": "",
            "zerolinecolor": "white"
           },
           "yaxis": {
            "backgroundcolor": "#E5ECF6",
            "gridcolor": "white",
            "gridwidth": 2,
            "linecolor": "white",
            "showbackground": true,
            "ticks": "",
            "zerolinecolor": "white"
           },
           "zaxis": {
            "backgroundcolor": "#E5ECF6",
            "gridcolor": "white",
            "gridwidth": 2,
            "linecolor": "white",
            "showbackground": true,
            "ticks": "",
            "zerolinecolor": "white"
           }
          },
          "shapedefaults": {
           "line": {
            "color": "#2a3f5f"
           }
          },
          "ternary": {
           "aaxis": {
            "gridcolor": "white",
            "linecolor": "white",
            "ticks": ""
           },
           "baxis": {
            "gridcolor": "white",
            "linecolor": "white",
            "ticks": ""
           },
           "bgcolor": "#E5ECF6",
           "caxis": {
            "gridcolor": "white",
            "linecolor": "white",
            "ticks": ""
           }
          },
          "title": {
           "x": 0.05
          },
          "xaxis": {
           "automargin": true,
           "gridcolor": "white",
           "linecolor": "white",
           "ticks": "",
           "title": {
            "standoff": 15
           },
           "zerolinecolor": "white",
           "zerolinewidth": 2
          },
          "yaxis": {
           "automargin": true,
           "gridcolor": "white",
           "linecolor": "white",
           "ticks": "",
           "title": {
            "standoff": 15
           },
           "zerolinecolor": "white",
           "zerolinewidth": 2
          }
         }
        },
        "title": {
         "text": "Parallel Coordinate Plot"
        }
       }
      }
     },
     "metadata": {},
     "output_type": "display_data"
    }
   ],
   "source": [
    "optuna.visualization.plot_parallel_coordinate(study)"
   ]
  },
  {
   "cell_type": "code",
   "execution_count": 41,
   "id": "4afa60aa",
   "metadata": {},
   "outputs": [
    {
     "name": "stdout",
     "output_type": "stream",
     "text": [
      "Best trial: {'n_estimators': 112, 'max_depth': 27, 'min_samples_leaf': 9, 'min_samples_split': 7, 'subsample': 0.43183379591354554}\n"
     ]
    },
    {
     "data": {
      "text/plain": [
       "112"
      ]
     },
     "execution_count": 41,
     "metadata": {},
     "output_type": "execute_result"
    }
   ],
   "source": [
    "print(\"Best trial:\", study.best_trial.params)\n",
    "study.best_trial.params[\"n_estimators\"]"
   ]
  },
  {
   "cell_type": "code",
   "execution_count": 42,
   "id": "3b45adad",
   "metadata": {},
   "outputs": [
    {
     "data": {
      "text/html": [
       "<style>#sk-container-id-2 {color: black;background-color: white;}#sk-container-id-2 pre{padding: 0;}#sk-container-id-2 div.sk-toggleable {background-color: white;}#sk-container-id-2 label.sk-toggleable__label {cursor: pointer;display: block;width: 100%;margin-bottom: 0;padding: 0.3em;box-sizing: border-box;text-align: center;}#sk-container-id-2 label.sk-toggleable__label-arrow:before {content: \"▸\";float: left;margin-right: 0.25em;color: #696969;}#sk-container-id-2 label.sk-toggleable__label-arrow:hover:before {color: black;}#sk-container-id-2 div.sk-estimator:hover label.sk-toggleable__label-arrow:before {color: black;}#sk-container-id-2 div.sk-toggleable__content {max-height: 0;max-width: 0;overflow: hidden;text-align: left;background-color: #f0f8ff;}#sk-container-id-2 div.sk-toggleable__content pre {margin: 0.2em;color: black;border-radius: 0.25em;background-color: #f0f8ff;}#sk-container-id-2 input.sk-toggleable__control:checked~div.sk-toggleable__content {max-height: 200px;max-width: 100%;overflow: auto;}#sk-container-id-2 input.sk-toggleable__control:checked~label.sk-toggleable__label-arrow:before {content: \"▾\";}#sk-container-id-2 div.sk-estimator input.sk-toggleable__control:checked~label.sk-toggleable__label {background-color: #d4ebff;}#sk-container-id-2 div.sk-label input.sk-toggleable__control:checked~label.sk-toggleable__label {background-color: #d4ebff;}#sk-container-id-2 input.sk-hidden--visually {border: 0;clip: rect(1px 1px 1px 1px);clip: rect(1px, 1px, 1px, 1px);height: 1px;margin: -1px;overflow: hidden;padding: 0;position: absolute;width: 1px;}#sk-container-id-2 div.sk-estimator {font-family: monospace;background-color: #f0f8ff;border: 1px dotted black;border-radius: 0.25em;box-sizing: border-box;margin-bottom: 0.5em;}#sk-container-id-2 div.sk-estimator:hover {background-color: #d4ebff;}#sk-container-id-2 div.sk-parallel-item::after {content: \"\";width: 100%;border-bottom: 1px solid gray;flex-grow: 1;}#sk-container-id-2 div.sk-label:hover label.sk-toggleable__label {background-color: #d4ebff;}#sk-container-id-2 div.sk-serial::before {content: \"\";position: absolute;border-left: 1px solid gray;box-sizing: border-box;top: 0;bottom: 0;left: 50%;z-index: 0;}#sk-container-id-2 div.sk-serial {display: flex;flex-direction: column;align-items: center;background-color: white;padding-right: 0.2em;padding-left: 0.2em;position: relative;}#sk-container-id-2 div.sk-item {position: relative;z-index: 1;}#sk-container-id-2 div.sk-parallel {display: flex;align-items: stretch;justify-content: center;background-color: white;position: relative;}#sk-container-id-2 div.sk-item::before, #sk-container-id-2 div.sk-parallel-item::before {content: \"\";position: absolute;border-left: 1px solid gray;box-sizing: border-box;top: 0;bottom: 0;left: 50%;z-index: -1;}#sk-container-id-2 div.sk-parallel-item {display: flex;flex-direction: column;z-index: 1;position: relative;background-color: white;}#sk-container-id-2 div.sk-parallel-item:first-child::after {align-self: flex-end;width: 50%;}#sk-container-id-2 div.sk-parallel-item:last-child::after {align-self: flex-start;width: 50%;}#sk-container-id-2 div.sk-parallel-item:only-child::after {width: 0;}#sk-container-id-2 div.sk-dashed-wrapped {border: 1px dashed gray;margin: 0 0.4em 0.5em 0.4em;box-sizing: border-box;padding-bottom: 0.4em;background-color: white;}#sk-container-id-2 div.sk-label label {font-family: monospace;font-weight: bold;display: inline-block;line-height: 1.2em;}#sk-container-id-2 div.sk-label-container {text-align: center;}#sk-container-id-2 div.sk-container {/* jupyter's `normalize.less` sets `[hidden] { display: none; }` but bootstrap.min.css set `[hidden] { display: none !important; }` so we also need the `!important` here to be able to override the default hidden behavior on the sphinx rendered scikit-learn.org. See: https://github.com/scikit-learn/scikit-learn/issues/21755 */display: inline-block !important;position: relative;}#sk-container-id-2 div.sk-text-repr-fallback {display: none;}</style><div id=\"sk-container-id-2\" class=\"sk-top-container\"><div class=\"sk-text-repr-fallback\"><pre>GradientBoostingRegressor(max_depth=27, min_samples_leaf=9, min_samples_split=7,\n",
       "                          n_estimators=112, random_state=42,\n",
       "                          subsample=0.43183379591354554)</pre><b>In a Jupyter environment, please rerun this cell to show the HTML representation or trust the notebook. <br />On GitHub, the HTML representation is unable to render, please try loading this page with nbviewer.org.</b></div><div class=\"sk-container\" hidden><div class=\"sk-item\"><div class=\"sk-estimator sk-toggleable\"><input class=\"sk-toggleable__control sk-hidden--visually\" id=\"sk-estimator-id-2\" type=\"checkbox\" checked><label for=\"sk-estimator-id-2\" class=\"sk-toggleable__label sk-toggleable__label-arrow\">GradientBoostingRegressor</label><div class=\"sk-toggleable__content\"><pre>GradientBoostingRegressor(max_depth=27, min_samples_leaf=9, min_samples_split=7,\n",
       "                          n_estimators=112, random_state=42,\n",
       "                          subsample=0.43183379591354554)</pre></div></div></div></div></div>"
      ],
      "text/plain": [
       "GradientBoostingRegressor(max_depth=27, min_samples_leaf=9, min_samples_split=7,\n",
       "                          n_estimators=112, random_state=42,\n",
       "                          subsample=0.43183379591354554)"
      ]
     },
     "execution_count": 42,
     "metadata": {},
     "output_type": "execute_result"
    }
   ],
   "source": [
    "gb_params = {\n",
    "    \"random_state\": 42,\n",
    "    \"learning_rate\": 0.1,\n",
    "    \"n_estimators\": study.best_trial.params[\"n_estimators\"],\n",
    "    \"max_depth\": study.best_trial.params[\"max_depth\"],\n",
    "    \"min_samples_leaf\": study.best_trial.params[\"min_samples_leaf\"],\n",
    "    \"min_samples_split\": study.best_trial.params[\"min_samples_split\"],\n",
    "    \"subsample\": study.best_trial.params[\"subsample\"]\n",
    "}\n",
    "\n",
    "gb = GradientBoostingRegressor(**gb_params)\n",
    "gb.fit(Cd_X_train, Cd_y_train)"
   ]
  },
  {
   "cell_type": "code",
   "execution_count": 43,
   "id": "9959cba0",
   "metadata": {},
   "outputs": [],
   "source": [
    "# gb_params = {\n",
    "#     \"random_state\": 42,\n",
    "#     \"learning_rate\": 0.1,\n",
    "#     \"n_estimators\": 138,\n",
    "#     \"max_depth\": 2,\n",
    "#     \"min_samples_leaf\": 3,\n",
    "#     \"min_samples_split\": 6,\n",
    "#     \"subsample\": 0.4574655226902498\n",
    "# }\n",
    "\n",
    "# gb = GradientBoostingRegressor(**gb_params)\n",
    "# gb.fit(Cd_X_train, Cd_y_train)"
   ]
  },
  {
   "cell_type": "code",
   "execution_count": 44,
   "id": "9ab1055b",
   "metadata": {},
   "outputs": [],
   "source": [
    "y_train_pred = gb.predict(Cd_X_train)\n",
    "y_test_pred = gb.predict(Cd_X_test)"
   ]
  },
  {
   "cell_type": "code",
   "execution_count": 45,
   "id": "425b4001",
   "metadata": {},
   "outputs": [
    {
     "name": "stdout",
     "output_type": "stream",
     "text": [
      "Train RMSE:  0.07550988914730011\n",
      "Test RMSE:  0.1973066435852085\n"
     ]
    }
   ],
   "source": [
    "print(\"Train RMSE: \", np.sqrt(mean_squared_error(Cd_y_train, y_train_pred)))\n",
    "print(\"Test RMSE: \", np.sqrt(mean_squared_error(Cd_y_test, y_test_pred)))"
   ]
  },
  {
   "cell_type": "code",
   "execution_count": 46,
   "id": "0f95ae3c",
   "metadata": {},
   "outputs": [
    {
     "name": "stdout",
     "output_type": "stream",
     "text": [
      "Train R2:  0.9437260512262492\n",
      "Test R2:  0.6580125791734804\n"
     ]
    }
   ],
   "source": [
    "print(\"Train R2: \", r2_score(Cd_y_train, y_train_pred))\n",
    "print(\"Test R2: \", r2_score(Cd_y_test, y_test_pred))"
   ]
  },
  {
   "cell_type": "code",
   "execution_count": 47,
   "id": "49f07f23",
   "metadata": {},
   "outputs": [
    {
     "data": {
      "image/png": "[encoded data removed]",
      "text/plain": [
       "<Figure size 432x288 with 1 Axes>"
      ]
     },
     "metadata": {
      "needs_background": "light"
     },
     "output_type": "display_data"
    }
   ],
   "source": [
    "plt.scatter(y_train_pred, np.array(Cd_y_train), color=\"orange\", alpha=0.3)\n",
    "plt.scatter(y_test_pred, np.array(Cd_y_test), color=\"green\", alpha=0.4)\n",
    "plt.axis(\"auto\") # scaled, tight, auto, image, square\n",
    "# plt.xlim([0, 1.5]) \n",
    "# plt.ylim(0, None) \n",
    "plt.xlabel('Predicted Values')\n",
    "plt.ylabel('Actual Values')\n",
    "\n",
    "# Add y=x line\n",
    "plt.plot([0, 0.30], [0, 0.30], color='red', linestyle='-')\n",
    "\n",
    "plt.show()"
   ]
  },
  {
   "cell_type": "code",
   "execution_count": 48,
   "id": "b2991dac",
   "metadata": {},
   "outputs": [],
   "source": [
    "# explainer = shap.KernelExplainer(gb.predict, Cd_X_train)\n",
    "# shap_values = explainer.shap_values(Cd_X_train)\n",
    "\n",
    "# shap.summary_plot(shap_values, Cd_X_train)\n",
    "\n",
    "# shap.force_plot(explainer.expected_value, shap_values[0], Cd_X_train[0])\n",
    "\n",
    "# print(shap_values)"
   ]
  },
  {
   "attachments": {},
   "cell_type": "markdown",
   "id": "74f680ea",
   "metadata": {},
   "source": [
    "Ni"
   ]
  },
  {
   "cell_type": "code",
   "execution_count": 49,
   "id": "de233338",
   "metadata": {},
   "outputs": [
    {
     "name": "stderr",
     "output_type": "stream",
     "text": [
      "\u001b[32m[I 2023-08-17 22:16:46,650]\u001b[0m A new study created in memory with name: gb_parameter_opt\u001b[0m\n",
      "\u001b[32m[I 2023-08-17 22:16:47,125]\u001b[0m Trial 0 finished with value: 0.6416540810416012 and parameters: {'n_estimators': 172, 'max_depth': 19, 'min_samples_leaf': 7, 'min_samples_split': 6, 'subsample': 0.16657080384246942}. Best is trial 0 with value: 0.6416540810416012.\u001b[0m\n",
      "\u001b[32m[I 2023-08-17 22:16:47,567]\u001b[0m Trial 1 finished with value: 0.6433225322791991 and parameters: {'n_estimators': 146, 'max_depth': 4, 'min_samples_leaf': 1, 'min_samples_split': 3, 'subsample': 0.2789462756412078}. Best is trial 1 with value: 0.6433225322791991.\u001b[0m\n",
      "\u001b[32m[I 2023-08-17 22:16:47,986]\u001b[0m Trial 2 finished with value: 0.6847505218611365 and parameters: {'n_estimators': 139, 'max_depth': 9, 'min_samples_leaf': 5, 'min_samples_split': 8, 'subsample': 0.19996460876745445}. Best is trial 2 with value: 0.6847505218611365.\u001b[0m\n",
      "\u001b[32m[I 2023-08-17 22:16:48,228]\u001b[0m Trial 3 finished with value: 0.5645298387002173 and parameters: {'n_estimators': 102, 'max_depth': 2, 'min_samples_leaf': 4, 'min_samples_split': 3, 'subsample': 0.33556170098099425}. Best is trial 2 with value: 0.6847505218611365.\u001b[0m\n",
      "\u001b[32m[I 2023-08-17 22:16:49,692]\u001b[0m Trial 4 finished with value: 0.6994784458051102 and parameters: {'n_estimators': 193, 'max_depth': 24, 'min_samples_leaf': 4, 'min_samples_split': 5, 'subsample': 0.44018761353265157}. Best is trial 4 with value: 0.6994784458051102.\u001b[0m\n",
      "\u001b[32m[I 2023-08-17 22:16:50,337]\u001b[0m Trial 5 finished with value: 0.6899278149269374 and parameters: {'n_estimators': 145, 'max_depth': 17, 'min_samples_leaf': 8, 'min_samples_split': 9, 'subsample': 0.357355286260126}. Best is trial 4 with value: 0.6994784458051102.\u001b[0m\n",
      "\u001b[32m[I 2023-08-17 22:16:51,195]\u001b[0m Trial 6 finished with value: 0.6966719958953373 and parameters: {'n_estimators': 105, 'max_depth': 28, 'min_samples_leaf': 5, 'min_samples_split': 5, 'subsample': 0.4940499285751704}. Best is trial 4 with value: 0.6994784458051102.\u001b[0m\n",
      "\u001b[32m[I 2023-08-17 22:16:51,859]\u001b[0m Trial 7 finished with value: 0.6834481252967792 and parameters: {'n_estimators': 148, 'max_depth': 17, 'min_samples_leaf': 7, 'min_samples_split': 3, 'subsample': 0.2867114207768008}. Best is trial 4 with value: 0.6994784458051102.\u001b[0m\n",
      "\u001b[32m[I 2023-08-17 22:16:52,272]\u001b[0m Trial 8 finished with value: 0.640387858364378 and parameters: {'n_estimators': 167, 'max_depth': 4, 'min_samples_leaf': 7, 'min_samples_split': 10, 'subsample': 0.19085148861805906}. Best is trial 4 with value: 0.6994784458051102.\u001b[0m\n",
      "\u001b[32m[I 2023-08-17 22:16:52,856]\u001b[0m Trial 9 finished with value: 0.6974626084803944 and parameters: {'n_estimators': 132, 'max_depth': 21, 'min_samples_leaf': 6, 'min_samples_split': 6, 'subsample': 0.3078926839107663}. Best is trial 4 with value: 0.6994784458051102.\u001b[0m\n",
      "\u001b[32m[I 2023-08-17 22:16:55,198]\u001b[0m Trial 10 finished with value: 0.6936419694282329 and parameters: {'n_estimators': 199, 'max_depth': 30, 'min_samples_leaf': 1, 'min_samples_split': 5, 'subsample': 0.4689452713743831}. Best is trial 4 with value: 0.6994784458051102.\u001b[0m\n",
      "\u001b[32m[I 2023-08-17 22:16:55,829]\u001b[0m Trial 11 finished with value: 0.6784368697429493 and parameters: {'n_estimators': 127, 'max_depth': 24, 'min_samples_leaf': 10, 'min_samples_split': 7, 'subsample': 0.40396207118818805}. Best is trial 4 with value: 0.6994784458051102.\u001b[0m\n",
      "\u001b[32m[I 2023-08-17 22:16:57,491]\u001b[0m Trial 12 finished with value: 0.6956888069865104 and parameters: {'n_estimators': 197, 'max_depth': 23, 'min_samples_leaf': 3, 'min_samples_split': 5, 'subsample': 0.4222512003171362}. Best is trial 4 with value: 0.6994784458051102.\u001b[0m\n",
      "\u001b[32m[I 2023-08-17 22:16:58,021]\u001b[0m Trial 13 finished with value: 0.6720195696107056 and parameters: {'n_estimators': 123, 'max_depth': 11, 'min_samples_leaf': 3, 'min_samples_split': 7, 'subsample': 0.25314123151081047}. Best is trial 4 with value: 0.6994784458051102.\u001b[0m\n",
      "\u001b[32m[I 2023-08-17 22:16:58,429]\u001b[0m Trial 14 finished with value: 0.5732976692876002 and parameters: {'n_estimators': 169, 'max_depth': 23, 'min_samples_leaf': 3, 'min_samples_split': 4, 'subsample': 0.10227051365012732}. Best is trial 4 with value: 0.6994784458051102.\u001b[0m\n",
      "\u001b[32m[I 2023-08-17 22:16:59,554]\u001b[0m Trial 15 finished with value: 0.686324231611965 and parameters: {'n_estimators': 187, 'max_depth': 26, 'min_samples_leaf': 6, 'min_samples_split': 2, 'subsample': 0.4039199702057186}. Best is trial 4 with value: 0.6994784458051102.\u001b[0m\n",
      "\u001b[32m[I 2023-08-17 22:17:00,111]\u001b[0m Trial 16 finished with value: 0.6703273358651607 and parameters: {'n_estimators': 126, 'max_depth': 20, 'min_samples_leaf': 10, 'min_samples_split': 6, 'subsample': 0.3418733230797317}. Best is trial 4 with value: 0.6994784458051102.\u001b[0m\n",
      "\u001b[32m[I 2023-08-17 22:17:01,258]\u001b[0m Trial 17 finished with value: 0.7042560910532047 and parameters: {'n_estimators': 162, 'max_depth': 13, 'min_samples_leaf': 4, 'min_samples_split': 7, 'subsample': 0.42900600852487725}. Best is trial 17 with value: 0.7042560910532047.\u001b[0m\n",
      "\u001b[32m[I 2023-08-17 22:17:02,708]\u001b[0m Trial 18 finished with value: 0.6776011910861831 and parameters: {'n_estimators': 181, 'max_depth': 13, 'min_samples_leaf': 2, 'min_samples_split': 8, 'subsample': 0.4544531064857253}. Best is trial 17 with value: 0.7042560910532047.\u001b[0m\n",
      "\u001b[32m[I 2023-08-17 22:17:03,565]\u001b[0m Trial 19 finished with value: 0.6880956966871071 and parameters: {'n_estimators': 163, 'max_depth': 8, 'min_samples_leaf': 4, 'min_samples_split': 7, 'subsample': 0.3809240892608435}. Best is trial 17 with value: 0.7042560910532047.\u001b[0m\n",
      "\u001b[32m[I 2023-08-17 22:17:04,769]\u001b[0m Trial 20 finished with value: 0.7107788812517819 and parameters: {'n_estimators': 157, 'max_depth': 14, 'min_samples_leaf': 4, 'min_samples_split': 10, 'subsample': 0.43808738358548327}. Best is trial 20 with value: 0.7107788812517819.\u001b[0m\n",
      "\u001b[32m[I 2023-08-17 22:17:05,940]\u001b[0m Trial 21 finished with value: 0.6892110706279041 and parameters: {'n_estimators': 158, 'max_depth': 12, 'min_samples_leaf': 4, 'min_samples_split': 10, 'subsample': 0.442868561062143}. Best is trial 20 with value: 0.7107788812517819.\u001b[0m\n",
      "\u001b[32m[I 2023-08-17 22:17:07,632]\u001b[0m Trial 22 finished with value: 0.7089588476520964 and parameters: {'n_estimators': 180, 'max_depth': 15, 'min_samples_leaf': 2, 'min_samples_split': 9, 'subsample': 0.48137996748159584}. Best is trial 20 with value: 0.7107788812517819.\u001b[0m\n",
      "\u001b[32m[I 2023-08-17 22:17:09,181]\u001b[0m Trial 23 finished with value: 0.6941124201346162 and parameters: {'n_estimators': 176, 'max_depth': 14, 'min_samples_leaf': 2, 'min_samples_split': 9, 'subsample': 0.4864554994585337}. Best is trial 20 with value: 0.7107788812517819.\u001b[0m\n",
      "\u001b[32m[I 2023-08-17 22:17:10,067]\u001b[0m Trial 24 finished with value: 0.6988195312852081 and parameters: {'n_estimators': 158, 'max_depth': 8, 'min_samples_leaf': 2, 'min_samples_split': 9, 'subsample': 0.3818639422174876}. Best is trial 20 with value: 0.7107788812517819.\u001b[0m\n",
      "\u001b[32m[I 2023-08-17 22:17:11,404]\u001b[0m Trial 25 finished with value: 0.7079057376608489 and parameters: {'n_estimators': 157, 'max_depth': 15, 'min_samples_leaf': 3, 'min_samples_split': 10, 'subsample': 0.4973009746450982}. Best is trial 20 with value: 0.7107788812517819.\u001b[0m\n",
      "\u001b[32m[I 2023-08-17 22:17:13,173]\u001b[0m Trial 26 finished with value: 0.703870021422548 and parameters: {'n_estimators': 183, 'max_depth': 16, 'min_samples_leaf': 2, 'min_samples_split': 10, 'subsample': 0.49412964725750363}. Best is trial 20 with value: 0.7107788812517819.\u001b[0m\n",
      "\u001b[32m[I 2023-08-17 22:17:14,318]\u001b[0m Trial 27 finished with value: 0.7098422893230181 and parameters: {'n_estimators': 154, 'max_depth': 10, 'min_samples_leaf': 1, 'min_samples_split': 9, 'subsample': 0.4668948711499289}. Best is trial 20 with value: 0.7107788812517819.\u001b[0m\n",
      "\u001b[32m[I 2023-08-17 22:17:15,398]\u001b[0m Trial 28 finished with value: 0.6971651080855026 and parameters: {'n_estimators': 152, 'max_depth': 10, 'min_samples_leaf': 1, 'min_samples_split': 8, 'subsample': 0.4581444869893748}. Best is trial 20 with value: 0.7107788812517819.\u001b[0m\n",
      "\u001b[32m[I 2023-08-17 22:17:16,879]\u001b[0m Trial 29 finished with value: 0.6891184262244741 and parameters: {'n_estimators': 172, 'max_depth': 18, 'min_samples_leaf': 1, 'min_samples_split': 9, 'subsample': 0.4045521949597945}. Best is trial 20 with value: 0.7107788812517819.\u001b[0m\n",
      "\u001b[32m[I 2023-08-17 22:17:17,683]\u001b[0m Trial 30 finished with value: 0.6924362591051503 and parameters: {'n_estimators': 139, 'max_depth': 6, 'min_samples_leaf': 2, 'min_samples_split': 8, 'subsample': 0.4630343833538679}. Best is trial 20 with value: 0.7107788812517819.\u001b[0m\n",
      "\u001b[32m[I 2023-08-17 22:17:19,117]\u001b[0m Trial 31 finished with value: 0.7088406697165667 and parameters: {'n_estimators': 154, 'max_depth': 15, 'min_samples_leaf': 3, 'min_samples_split': 10, 'subsample': 0.4989951200765328}. Best is trial 20 with value: 0.7107788812517819.\u001b[0m\n",
      "\u001b[32m[I 2023-08-17 22:17:20,466]\u001b[0m Trial 32 finished with value: 0.6845814697441386 and parameters: {'n_estimators': 152, 'max_depth': 15, 'min_samples_leaf': 3, 'min_samples_split': 9, 'subsample': 0.4729023472475755}. Best is trial 20 with value: 0.7107788812517819.\u001b[0m\n",
      "\u001b[32m[I 2023-08-17 22:17:21,877]\u001b[0m Trial 33 finished with value: 0.7027034438756221 and parameters: {'n_estimators': 140, 'max_depth': 19, 'min_samples_leaf': 1, 'min_samples_split': 10, 'subsample': 0.4708567767452743}. Best is trial 20 with value: 0.7107788812517819.\u001b[0m\n",
      "\u001b[32m[I 2023-08-17 22:17:23,141]\u001b[0m Trial 34 finished with value: 0.6895605493738002 and parameters: {'n_estimators': 177, 'max_depth': 11, 'min_samples_leaf': 2, 'min_samples_split': 9, 'subsample': 0.4181978533474818}. Best is trial 20 with value: 0.7107788812517819.\u001b[0m\n",
      "\u001b[32m[I 2023-08-17 22:17:23,787]\u001b[0m Trial 35 finished with value: 0.7025124671436276 and parameters: {'n_estimators': 116, 'max_depth': 7, 'min_samples_leaf': 5, 'min_samples_split': 10, 'subsample': 0.4443511735394776}. Best is trial 20 with value: 0.7107788812517819.\u001b[0m\n",
      "\u001b[32m[I 2023-08-17 22:17:24,122]\u001b[0m Trial 36 finished with value: 0.461378650237935 and parameters: {'n_estimators': 143, 'max_depth': 1, 'min_samples_leaf': 3, 'min_samples_split': 8, 'subsample': 0.49871758629597224}. Best is trial 20 with value: 0.7107788812517819.\u001b[0m\n",
      "\u001b[32m[I 2023-08-17 22:17:25,183]\u001b[0m Trial 37 finished with value: 0.6879394016501252 and parameters: {'n_estimators': 153, 'max_depth': 13, 'min_samples_leaf': 1, 'min_samples_split': 9, 'subsample': 0.3800404809812475}. Best is trial 20 with value: 0.7107788812517819.\u001b[0m\n",
      "\u001b[32m[I 2023-08-17 22:17:26,000]\u001b[0m Trial 38 finished with value: 0.7073594671514474 and parameters: {'n_estimators': 164, 'max_depth': 10, 'min_samples_leaf': 4, 'min_samples_split': 10, 'subsample': 0.3194269908775923}. Best is trial 20 with value: 0.7107788812517819.\u001b[0m\n",
      "\u001b[32m[I 2023-08-17 22:17:26,579]\u001b[0m Trial 39 finished with value: 0.6792436247578139 and parameters: {'n_estimators': 134, 'max_depth': 18, 'min_samples_leaf': 5, 'min_samples_split': 9, 'subsample': 0.27082529677306055}. Best is trial 20 with value: 0.7107788812517819.\u001b[0m\n",
      "\u001b[32m[I 2023-08-17 22:17:28,328]\u001b[0m Trial 40 finished with value: 0.6986912930451536 and parameters: {'n_estimators': 190, 'max_depth': 16, 'min_samples_leaf': 2, 'min_samples_split': 10, 'subsample': 0.4779238916872761}. Best is trial 20 with value: 0.7107788812517819.\u001b[0m\n",
      "\u001b[32m[I 2023-08-17 22:17:29,737]\u001b[0m Trial 41 finished with value: 0.7084882241071302 and parameters: {'n_estimators': 156, 'max_depth': 15, 'min_samples_leaf': 3, 'min_samples_split': 10, 'subsample': 0.4987338349079852}. Best is trial 20 with value: 0.7107788812517819.\u001b[0m\n",
      "\u001b[32m[I 2023-08-17 22:17:30,843]\u001b[0m Trial 42 finished with value: 0.7106158444922208 and parameters: {'n_estimators': 149, 'max_depth': 14, 'min_samples_leaf': 3, 'min_samples_split': 10, 'subsample': 0.4365510259560724}. Best is trial 20 with value: 0.7107788812517819.\u001b[0m\n",
      "\u001b[32m[I 2023-08-17 22:17:31,785]\u001b[0m Trial 43 finished with value: 0.6940321691858151 and parameters: {'n_estimators': 143, 'max_depth': 12, 'min_samples_leaf': 4, 'min_samples_split': 9, 'subsample': 0.43453584005585755}. Best is trial 20 with value: 0.7107788812517819.\u001b[0m\n",
      "\u001b[32m[I 2023-08-17 22:17:32,660]\u001b[0m Trial 44 finished with value: 0.6970057681478282 and parameters: {'n_estimators': 149, 'max_depth': 17, 'min_samples_leaf': 9, 'min_samples_split': 10, 'subsample': 0.45710272453561035}. Best is trial 20 with value: 0.7107788812517819.\u001b[0m\n",
      "\u001b[32m[I 2023-08-17 22:17:33,355]\u001b[0m Trial 45 finished with value: 0.6991041039969415 and parameters: {'n_estimators': 171, 'max_depth': 5, 'min_samples_leaf': 1, 'min_samples_split': 8, 'subsample': 0.36636426008076617}. Best is trial 20 with value: 0.7107788812517819.\u001b[0m\n",
      "\u001b[32m[I 2023-08-17 22:17:34,291]\u001b[0m Trial 46 finished with value: 0.709006446203988 and parameters: {'n_estimators': 146, 'max_depth': 21, 'min_samples_leaf': 5, 'min_samples_split': 9, 'subsample': 0.40074768323394666}. Best is trial 20 with value: 0.7107788812517819.\u001b[0m\n",
      "\u001b[32m[I 2023-08-17 22:17:35,121]\u001b[0m Trial 47 finished with value: 0.7078196743475574 and parameters: {'n_estimators': 134, 'max_depth': 20, 'min_samples_leaf': 6, 'min_samples_split': 9, 'subsample': 0.4124188174569152}. Best is trial 20 with value: 0.7107788812517819.\u001b[0m\n",
      "\u001b[32m[I 2023-08-17 22:17:35,591]\u001b[0m Trial 48 finished with value: 0.657148422982804 and parameters: {'n_estimators': 147, 'max_depth': 22, 'min_samples_leaf': 6, 'min_samples_split': 8, 'subsample': 0.2221342435492351}. Best is trial 20 with value: 0.7107788812517819.\u001b[0m\n",
      "\u001b[32m[I 2023-08-17 22:17:36,648]\u001b[0m Trial 49 finished with value: 0.703483272585691 and parameters: {'n_estimators': 167, 'max_depth': 26, 'min_samples_leaf': 5, 'min_samples_split': 4, 'subsample': 0.3954205597937013}. Best is trial 20 with value: 0.7107788812517819.\u001b[0m\n",
      "\u001b[32m[I 2023-08-17 22:17:36,914]\u001b[0m Trial 50 finished with value: 0.5801305562302701 and parameters: {'n_estimators': 118, 'max_depth': 9, 'min_samples_leaf': 7, 'min_samples_split': 8, 'subsample': 0.13891782183162707}. Best is trial 20 with value: 0.7107788812517819.\u001b[0m\n",
      "\u001b[32m[I 2023-08-17 22:17:37,938]\u001b[0m Trial 51 finished with value: 0.7037707083240736 and parameters: {'n_estimators': 138, 'max_depth': 14, 'min_samples_leaf': 3, 'min_samples_split': 10, 'subsample': 0.4428605381822889}. Best is trial 20 with value: 0.7107788812517819.\u001b[0m\n",
      "\u001b[32m[I 2023-08-17 22:17:38,966]\u001b[0m Trial 52 finished with value: 0.689361229566224 and parameters: {'n_estimators': 146, 'max_depth': 18, 'min_samples_leaf': 4, 'min_samples_split': 9, 'subsample': 0.4290608815070605}. Best is trial 20 with value: 0.7107788812517819.\u001b[0m\n",
      "\u001b[32m[I 2023-08-17 22:17:40,150]\u001b[0m Trial 53 finished with value: 0.7019140234140835 and parameters: {'n_estimators': 162, 'max_depth': 14, 'min_samples_leaf': 5, 'min_samples_split': 10, 'subsample': 0.4747057377065195}. Best is trial 20 with value: 0.7107788812517819.\u001b[0m\n",
      "\u001b[32m[I 2023-08-17 22:17:41,254]\u001b[0m Trial 54 finished with value: 0.6911919798924566 and parameters: {'n_estimators': 154, 'max_depth': 12, 'min_samples_leaf': 3, 'min_samples_split': 9, 'subsample': 0.4533961988943522}. Best is trial 20 with value: 0.7107788812517819.\u001b[0m\n",
      "\u001b[32m[I 2023-08-17 22:17:42,519]\u001b[0m Trial 55 finished with value: 0.689553222558981 and parameters: {'n_estimators': 149, 'max_depth': 17, 'min_samples_leaf': 4, 'min_samples_split': 10, 'subsample': 0.48342793627040437}. Best is trial 20 with value: 0.7107788812517819.\u001b[0m\n",
      "\u001b[32m[I 2023-08-17 22:17:43,538]\u001b[0m Trial 56 finished with value: 0.7073109056057334 and parameters: {'n_estimators': 161, 'max_depth': 11, 'min_samples_leaf': 2, 'min_samples_split': 9, 'subsample': 0.3568634783092073}. Best is trial 20 with value: 0.7107788812517819.\u001b[0m\n",
      "\u001b[32m[I 2023-08-17 22:17:44,980]\u001b[0m Trial 57 finished with value: 0.6960368827209619 and parameters: {'n_estimators': 194, 'max_depth': 20, 'min_samples_leaf': 4, 'min_samples_split': 10, 'subsample': 0.4303331945073206}. Best is trial 20 with value: 0.7107788812517819.\u001b[0m\n",
      "\u001b[32m[I 2023-08-17 22:17:45,884]\u001b[0m Trial 58 finished with value: 0.7060004898031303 and parameters: {'n_estimators': 130, 'max_depth': 16, 'min_samples_leaf': 3, 'min_samples_split': 7, 'subsample': 0.39144742542558164}. Best is trial 20 with value: 0.7107788812517819.\u001b[0m\n",
      "\u001b[32m[I 2023-08-17 22:17:47,051]\u001b[0m Trial 59 finished with value: 0.7048287546086024 and parameters: {'n_estimators': 143, 'max_depth': 14, 'min_samples_leaf': 2, 'min_samples_split': 9, 'subsample': 0.4504334114922449}. Best is trial 20 with value: 0.7107788812517819.\u001b[0m\n",
      "\u001b[32m[I 2023-08-17 22:17:48,178]\u001b[0m Trial 60 finished with value: 0.6980530084695067 and parameters: {'n_estimators': 166, 'max_depth': 26, 'min_samples_leaf': 5, 'min_samples_split': 2, 'subsample': 0.41798729837126897}. Best is trial 20 with value: 0.7107788812517819.\u001b[0m\n",
      "\u001b[32m[I 2023-08-17 22:17:49,519]\u001b[0m Trial 61 finished with value: 0.6869662793398517 and parameters: {'n_estimators': 157, 'max_depth': 15, 'min_samples_leaf': 3, 'min_samples_split': 10, 'subsample': 0.48439376248650196}. Best is trial 20 with value: 0.7107788812517819.\u001b[0m\n",
      "\u001b[32m[I 2023-08-17 22:17:50,878]\u001b[0m Trial 62 finished with value: 0.7048945853476194 and parameters: {'n_estimators': 155, 'max_depth': 13, 'min_samples_leaf': 3, 'min_samples_split': 10, 'subsample': 0.49971107652160407}. Best is trial 20 with value: 0.7107788812517819.\u001b[0m\n",
      "\u001b[32m[I 2023-08-17 22:17:52,289]\u001b[0m Trial 63 finished with value: 0.697733013891576 and parameters: {'n_estimators': 160, 'max_depth': 16, 'min_samples_leaf': 2, 'min_samples_split': 10, 'subsample': 0.4724887176042783}. Best is trial 20 with value: 0.7107788812517819.\u001b[0m\n",
      "\u001b[32m[I 2023-08-17 22:17:53,826]\u001b[0m Trial 64 finished with value: 0.697576466695007 and parameters: {'n_estimators': 175, 'max_depth': 19, 'min_samples_leaf': 3, 'min_samples_split': 9, 'subsample': 0.46401253206167564}. Best is trial 20 with value: 0.7107788812517819.\u001b[0m\n",
      "\u001b[32m[I 2023-08-17 22:17:54,883]\u001b[0m Trial 65 finished with value: 0.7016257416114303 and parameters: {'n_estimators': 149, 'max_depth': 10, 'min_samples_leaf': 4, 'min_samples_split': 10, 'subsample': 0.4835581906350716}. Best is trial 20 with value: 0.7107788812517819.\u001b[0m\n",
      "\u001b[32m[I 2023-08-17 22:17:56,164]\u001b[0m Trial 66 finished with value: 0.6868239325815455 and parameters: {'n_estimators': 152, 'max_depth': 13, 'min_samples_leaf': 1, 'min_samples_split': 8, 'subsample': 0.44054688929782293}. Best is trial 20 with value: 0.7107788812517819.\u001b[0m\n",
      "\u001b[32m[I 2023-08-17 22:17:57,872]\u001b[0m Trial 67 finished with value: 0.6918289781616183 and parameters: {'n_estimators': 184, 'max_depth': 17, 'min_samples_leaf': 2, 'min_samples_split': 9, 'subsample': 0.4636979139449073}. Best is trial 20 with value: 0.7107788812517819.\u001b[0m\n",
      "\u001b[32m[I 2023-08-17 22:17:59,262]\u001b[0m Trial 68 finished with value: 0.6895702534445525 and parameters: {'n_estimators': 158, 'max_depth': 15, 'min_samples_leaf': 3, 'min_samples_split': 6, 'subsample': 0.48994663912794384}. Best is trial 20 with value: 0.7107788812517819.\u001b[0m\n",
      "\u001b[32m[I 2023-08-17 22:18:00,320]\u001b[0m Trial 69 finished with value: 0.6911363996111117 and parameters: {'n_estimators': 145, 'max_depth': 12, 'min_samples_leaf': 1, 'min_samples_split': 10, 'subsample': 0.40960558421394744}. Best is trial 20 with value: 0.7107788812517819.\u001b[0m\n",
      "\u001b[32m[I 2023-08-17 22:18:00,779]\u001b[0m Trial 70 finished with value: 0.6415560806326275 and parameters: {'n_estimators': 137, 'max_depth': 3, 'min_samples_leaf': 5, 'min_samples_split': 9, 'subsample': 0.4507959683393998}. Best is trial 20 with value: 0.7107788812517819.\u001b[0m\n",
      "\u001b[32m[I 2023-08-17 22:18:02,017]\u001b[0m Trial 71 finished with value: 0.7026446676858639 and parameters: {'n_estimators': 156, 'max_depth': 15, 'min_samples_leaf': 4, 'min_samples_split': 10, 'subsample': 0.4953577630653714}. Best is trial 20 with value: 0.7107788812517819.\u001b[0m\n",
      "\u001b[32m[I 2023-08-17 22:18:03,262]\u001b[0m Trial 72 finished with value: 0.6906715853515196 and parameters: {'n_estimators': 151, 'max_depth': 14, 'min_samples_leaf': 2, 'min_samples_split': 10, 'subsample': 0.480626907797739}. Best is trial 20 with value: 0.7107788812517819.\u001b[0m\n",
      "\u001b[32m[I 2023-08-17 22:18:04,419]\u001b[0m Trial 73 finished with value: 0.701287924352109 and parameters: {'n_estimators': 141, 'max_depth': 17, 'min_samples_leaf': 3, 'min_samples_split': 10, 'subsample': 0.4700712995422367}. Best is trial 20 with value: 0.7107788812517819.\u001b[0m\n",
      "\u001b[32m[I 2023-08-17 22:18:05,498]\u001b[0m Trial 74 finished with value: 0.6974638455361376 and parameters: {'n_estimators': 165, 'max_depth': 9, 'min_samples_leaf': 4, 'min_samples_split': 9, 'subsample': 0.4970316674504553}. Best is trial 20 with value: 0.7107788812517819.\u001b[0m\n",
      "\u001b[32m[I 2023-08-17 22:18:06,605]\u001b[0m Trial 75 finished with value: 0.7086311366249302 and parameters: {'n_estimators': 159, 'max_depth': 11, 'min_samples_leaf': 3, 'min_samples_split': 10, 'subsample': 0.4578092955495825}. Best is trial 20 with value: 0.7107788812517819.\u001b[0m\n",
      "\u001b[32m[I 2023-08-17 22:18:07,739]\u001b[0m Trial 76 finished with value: 0.6973722942237013 and parameters: {'n_estimators': 170, 'max_depth': 11, 'min_samples_leaf': 2, 'min_samples_split': 10, 'subsample': 0.42338753253142003}. Best is trial 20 with value: 0.7107788812517819.\u001b[0m\n",
      "\u001b[32m[I 2023-08-17 22:18:08,805]\u001b[0m Trial 77 finished with value: 0.6973628996453619 and parameters: {'n_estimators': 159, 'max_depth': 9, 'min_samples_leaf': 3, 'min_samples_split': 9, 'subsample': 0.46028333987473957}. Best is trial 20 with value: 0.7107788812517819.\u001b[0m\n",
      "\u001b[32m[I 2023-08-17 22:18:10,275]\u001b[0m Trial 78 finished with value: 0.7062104425792055 and parameters: {'n_estimators': 200, 'max_depth': 12, 'min_samples_leaf': 1, 'min_samples_split': 10, 'subsample': 0.43624495027448956}. Best is trial 20 with value: 0.7107788812517819.\u001b[0m\n",
      "\u001b[32m[I 2023-08-17 22:18:11,184]\u001b[0m Trial 79 finished with value: 0.7014957879972166 and parameters: {'n_estimators': 154, 'max_depth': 8, 'min_samples_leaf': 4, 'min_samples_split': 9, 'subsample': 0.45188283480585084}. Best is trial 20 with value: 0.7107788812517819.\u001b[0m\n",
      "\u001b[32m[I 2023-08-17 22:18:12,091]\u001b[0m Trial 80 finished with value: 0.6807827450309853 and parameters: {'n_estimators': 178, 'max_depth': 7, 'min_samples_leaf': 2, 'min_samples_split': 10, 'subsample': 0.3934686372896818}. Best is trial 20 with value: 0.7107788812517819.\u001b[0m\n",
      "\u001b[32m[I 2023-08-17 22:18:13,466]\u001b[0m Trial 81 finished with value: 0.6992163400560892 and parameters: {'n_estimators': 168, 'max_depth': 15, 'min_samples_leaf': 3, 'min_samples_split': 10, 'subsample': 0.48829903752727793}. Best is trial 20 with value: 0.7107788812517819.\u001b[0m\n",
      "\u001b[32m[I 2023-08-17 22:18:14,586]\u001b[0m Trial 82 finished with value: 0.6984352963602808 and parameters: {'n_estimators': 146, 'max_depth': 13, 'min_samples_leaf': 3, 'min_samples_split': 10, 'subsample': 0.47409482414659776}. Best is trial 20 with value: 0.7107788812517819.\u001b[0m\n",
      "\u001b[32m[I 2023-08-17 22:18:15,777]\u001b[0m Trial 83 finished with value: 0.6967959852436791 and parameters: {'n_estimators': 150, 'max_depth': 18, 'min_samples_leaf': 3, 'min_samples_split': 10, 'subsample': 0.4644411907714031}. Best is trial 20 with value: 0.7107788812517819.\u001b[0m\n",
      "\u001b[32m[I 2023-08-17 22:18:17,010]\u001b[0m Trial 84 finished with value: 0.7163665405392561 and parameters: {'n_estimators': 163, 'max_depth': 16, 'min_samples_leaf': 4, 'min_samples_split': 9, 'subsample': 0.44409093217904305}. Best is trial 84 with value: 0.7163665405392561.\u001b[0m\n",
      "\u001b[32m[I 2023-08-17 22:18:18,213]\u001b[0m Trial 85 finished with value: 0.6929694843978405 and parameters: {'n_estimators': 163, 'max_depth': 28, 'min_samples_leaf': 4, 'min_samples_split': 8, 'subsample': 0.4237906491032109}. Best is trial 84 with value: 0.7163665405392561.\u001b[0m\n",
      "\u001b[32m[I 2023-08-17 22:18:19,450]\u001b[0m Trial 86 finished with value: 0.7024699770267298 and parameters: {'n_estimators': 174, 'max_depth': 24, 'min_samples_leaf': 6, 'min_samples_split': 9, 'subsample': 0.4375265808544552}. Best is trial 84 with value: 0.7163665405392561.\u001b[0m\n",
      "\u001b[32m[I 2023-08-17 22:18:20,616]\u001b[0m Trial 87 finished with value: 0.7025635143840032 and parameters: {'n_estimators': 160, 'max_depth': 21, 'min_samples_leaf': 5, 'min_samples_split': 8, 'subsample': 0.447453358340643}. Best is trial 84 with value: 0.7163665405392561.\u001b[0m\n",
      "\u001b[32m[I 2023-08-17 22:18:21,477]\u001b[0m Trial 88 finished with value: 0.6932752070026756 and parameters: {'n_estimators': 155, 'max_depth': 10, 'min_samples_leaf': 2, 'min_samples_split': 4, 'subsample': 0.30974433583730127}. Best is trial 84 with value: 0.7163665405392561.\u001b[0m\n",
      "\u001b[32m[I 2023-08-17 22:18:22,027]\u001b[0m Trial 89 finished with value: 0.6706916569675073 and parameters: {'n_estimators': 148, 'max_depth': 14, 'min_samples_leaf': 4, 'min_samples_split': 5, 'subsample': 0.22859883536203063}. Best is trial 84 with value: 0.7163665405392561.\u001b[0m\n",
      "\u001b[32m[I 2023-08-17 22:18:23,083]\u001b[0m Trial 90 finished with value: 0.6873831111637726 and parameters: {'n_estimators': 164, 'max_depth': 16, 'min_samples_leaf': 8, 'min_samples_split': 9, 'subsample': 0.47839525557221013}. Best is trial 84 with value: 0.7163665405392561.\u001b[0m\n",
      "\u001b[32m[I 2023-08-17 22:18:24,362]\u001b[0m Trial 91 finished with value: 0.6993451797145469 and parameters: {'n_estimators': 157, 'max_depth': 15, 'min_samples_leaf': 3, 'min_samples_split': 10, 'subsample': 0.4668191588503241}. Best is trial 84 with value: 0.7163665405392561.\u001b[0m\n",
      "\u001b[32m[I 2023-08-17 22:18:25,536]\u001b[0m Trial 92 finished with value: 0.7068078059476489 and parameters: {'n_estimators': 154, 'max_depth': 13, 'min_samples_leaf': 4, 'min_samples_split': 10, 'subsample': 0.4905020135364439}. Best is trial 84 with value: 0.7163665405392561.\u001b[0m\n",
      "\u001b[32m[I 2023-08-17 22:18:26,601]\u001b[0m Trial 93 finished with value: 0.690635177643945 and parameters: {'n_estimators': 152, 'max_depth': 11, 'min_samples_leaf': 3, 'min_samples_split': 9, 'subsample': 0.4569805715722212}. Best is trial 84 with value: 0.7163665405392561.\u001b[0m\n",
      "\u001b[32m[I 2023-08-17 22:18:27,868]\u001b[0m Trial 94 finished with value: 0.7095798516479286 and parameters: {'n_estimators': 161, 'max_depth': 14, 'min_samples_leaf': 4, 'min_samples_split': 10, 'subsample': 0.4877318590826871}. Best is trial 84 with value: 0.7163665405392561.\u001b[0m\n",
      "\u001b[32m[I 2023-08-17 22:18:29,043]\u001b[0m Trial 95 finished with value: 0.7051882940390548 and parameters: {'n_estimators': 160, 'max_depth': 14, 'min_samples_leaf': 5, 'min_samples_split': 9, 'subsample': 0.4778548140901817}. Best is trial 84 with value: 0.7163665405392561.\u001b[0m\n",
      "\u001b[32m[I 2023-08-17 22:18:30,090]\u001b[0m Trial 96 finished with value: 0.7100863005585382 and parameters: {'n_estimators': 142, 'max_depth': 16, 'min_samples_leaf': 4, 'min_samples_split': 10, 'subsample': 0.4443424975927065}. Best is trial 84 with value: 0.7163665405392561.\u001b[0m\n",
      "\u001b[32m[I 2023-08-17 22:18:31,058]\u001b[0m Trial 97 finished with value: 0.6979206780359228 and parameters: {'n_estimators': 142, 'max_depth': 17, 'min_samples_leaf': 4, 'min_samples_split': 9, 'subsample': 0.4031794792301297}. Best is trial 84 with value: 0.7163665405392561.\u001b[0m\n",
      "\u001b[32m[I 2023-08-17 22:18:32,056]\u001b[0m Trial 98 finished with value: 0.7099659417166994 and parameters: {'n_estimators': 144, 'max_depth': 16, 'min_samples_leaf': 5, 'min_samples_split': 10, 'subsample': 0.4425220331319085}. Best is trial 84 with value: 0.7163665405392561.\u001b[0m\n",
      "\u001b[32m[I 2023-08-17 22:18:32,979]\u001b[0m Trial 99 finished with value: 0.7106015818660462 and parameters: {'n_estimators': 134, 'max_depth': 19, 'min_samples_leaf': 5, 'min_samples_split': 10, 'subsample': 0.4336158151554974}. Best is trial 84 with value: 0.7163665405392561.\u001b[0m\n"
     ]
    },
    {
     "name": "stdout",
     "output_type": "stream",
     "text": [
      "Best r2:  0.7163665405392561\n",
      "Best trial: {'n_estimators': 163, 'max_depth': 16, 'min_samples_leaf': 4, 'min_samples_split': 9, 'subsample': 0.44409093217904305}\n"
     ]
    }
   ],
   "source": [
    "sampler = TPESampler()\n",
    "study = optuna.create_study(\n",
    "    study_name=\"gb_parameter_opt\",\n",
    "    direction=\"maximize\",\n",
    "    sampler=sampler,\n",
    ")\n",
    "\n",
    "study.optimize(lambda trial : objectiveGB(trial, Ni_X_train, Ni_y_train), n_trials=100)\n",
    "print(\"Best r2: \", study.best_value)\n",
    "print(\"Best trial:\", study.best_trial.params)"
   ]
  },
  {
   "cell_type": "code",
   "execution_count": 50,
   "id": "d71c01fb",
   "metadata": {},
   "outputs": [
    {
     "data": {
      "application/vnd.plotly.v1+json": {
       "config": {
        "plotlyServerURL": "https://plot.ly"
       },
       "data": [
        {
         "dimensions": [
          {
           "label": "Objective Value",
           "range": [
            0.461378650237935,
            0.7163665405392561
           ],
           "values": [
            0.6416540810416012,
            0.6433225322791991,
            0.6847505218611365,
            0.5645298387002173,
            0.6994784458051102,
            0.6899278149269374,
            0.6966719958953373,
            0.6834481252967792,
            0.640387858364378,
            0.6974626084803944,
            0.6936419694282329,
            0.6784368697429493,
            0.6956888069865104,
            0.6720195696107056,
            0.5732976692876002,
            0.686324231611965,
            0.6703273358651607,
            0.7042560910532047,
            0.6776011910861831,
            0.6880956966871071,
            0.7107788812517819,
            0.6892110706279041,
            0.7089588476520964,
            0.6941124201346162,
            0.6988195312852081,
            0.7079057376608489,
            0.703870021422548,
            0.7098422893230181,
            0.6971651080855026,
            0.6891184262244741,
            0.6924362591051503,
            0.7088406697165667,
            0.6845814697441386,
            0.7027034438756221,
            0.6895605493738002,
            0.7025124671436276,
            0.461378650237935,
            0.6879394016501252,
            0.7073594671514474,
            0.6792436247578139,
            0.6986912930451536,
            0.7084882241071302,
            0.7106158444922208,
            0.6940321691858151,
            0.6970057681478282,
            0.6991041039969415,
            0.709006446203988,
            0.7078196743475574,
            0.657148422982804,
            0.703483272585691,
            0.5801305562302701,
            0.7037707083240736,
            0.689361229566224,
            0.7019140234140835,
            0.6911919798924566,
            0.689553222558981,
            0.7073109056057334,
            0.6960368827209619,
            0.7060004898031303,
            0.7048287546086024,
            0.6980530084695067,
            0.6869662793398517,
            0.7048945853476194,
            0.697733013891576,
            0.697576466695007,
            0.7016257416114303,
            0.6868239325815455,
            0.6918289781616183,
            0.6895702534445525,
            0.6911363996111117,
            0.6415560806326275,
            0.7026446676858639,
            0.6906715853515196,
            0.701287924352109,
            0.6974638455361376,
            0.7086311366249302,
            0.6973722942237013,
            0.6973628996453619,
            0.7062104425792055,
            0.7014957879972166,
            0.6807827450309853,
            0.6992163400560892,
            0.6984352963602808,
            0.6967959852436791,
            0.7163665405392561,
            0.6929694843978405,
            0.7024699770267298,
            0.7025635143840032,
            0.6932752070026756,
            0.6706916569675073,
            0.6873831111637726,
            0.6993451797145469,
            0.7068078059476489,
            0.690635177643945,
            0.7095798516479286,
            0.7051882940390548,
            0.7100863005585382,
            0.6979206780359228,
            0.7099659417166994,
            0.7106015818660462
           ]
          },
          {
           "label": "max_depth",
           "range": [
            1,
            30
           ],
           "values": [
            19,
            4,
            9,
            2,
            24,
            17,
            28,
            17,
            4,
            21,
            30,
            24,
            23,
            11,
            23,
            26,
            20,
            13,
            13,
            8,
            14,
            12,
            15,
            14,
            8,
            15,
            16,
            10,
            10,
            18,
            6,
            15,
            15,
            19,
            11,
            7,
            1,
            13,
            10,
            18,
            16,
            15,
            14,
            12,
            17,
            5,
            21,
            20,
            22,
            26,
            9,
            14,
            18,
            14,
            12,
            17,
            11,
            20,
            16,
            14,
            26,
            15,
            13,
            16,
            19,
            10,
            13,
            17,
            15,
            12,
            3,
            15,
            14,
            17,
            9,
            11,
            11,
            9,
            12,
            8,
            7,
            15,
            13,
            18,
            16,
            28,
            24,
            21,
            10,
            14,
            16,
            15,
            13,
            11,
            14,
            14,
            16,
            17,
            16,
            19
           ]
          },
          {
           "label": "min_samples_leaf",
           "range": [
            1,
            10
           ],
           "values": [
            7,
            1,
            5,
            4,
            4,
            8,
            5,
            7,
            7,
            6,
            1,
            10,
            3,
            3,
            3,
            6,
            10,
            4,
            2,
            4,
            4,
            4,
            2,
            2,
            2,
            3,
            2,
            1,
            1,
            1,
            2,
            3,
            3,
            1,
            2,
            5,
            3,
            1,
            4,
            5,
            2,
            3,
            3,
            4,
            9,
            1,
            5,
            6,
            6,
            5,
            7,
            3,
            4,
            5,
            3,
            4,
            2,
            4,
            3,
            2,
            5,
            3,
            3,
            2,
            3,
            4,
            1,
            2,
            3,
            1,
            5,
            4,
            2,
            3,
            4,
            3,
            2,
            3,
            1,
            4,
            2,
            3,
            3,
            3,
            4,
            4,
            6,
            5,
            2,
            4,
            8,
            3,
            4,
            3,
            4,
            5,
            4,
            4,
            5,
            5
           ]
          },
          {
           "label": "min_samples_split",
           "range": [
            2,
            10
           ],
           "values": [
            6,
            3,
            8,
            3,
            5,
            9,
            5,
            3,
            10,
            6,
            5,
            7,
            5,
            7,
            4,
            2,
            6,
            7,
            8,
            7,
            10,
            10,
            9,
            9,
            9,
            10,
            10,
            9,
            8,
            9,
            8,
            10,
            9,
            10,
            9,
            10,
            8,
            9,
            10,
            9,
            10,
            10,
            10,
            9,
            10,
            8,
            9,
            9,
            8,
            4,
            8,
            10,
            9,
            10,
            9,
            10,
            9,
            10,
            7,
            9,
            2,
            10,
            10,
            10,
            9,
            10,
            8,
            9,
            6,
            10,
            9,
            10,
            10,
            10,
            9,
            10,
            10,
            9,
            10,
            9,
            10,
            10,
            10,
            10,
            9,
            8,
            9,
            8,
            4,
            5,
            9,
            10,
            10,
            9,
            10,
            9,
            10,
            9,
            10,
            10
           ]
          },
          {
           "label": "n_estimators",
           "range": [
            102,
            200
           ],
           "values": [
            172,
            146,
            139,
            102,
            193,
            145,
            105,
            148,
            167,
            132,
            199,
            127,
            197,
            123,
            169,
            187,
            126,
            162,
            181,
            163,
            157,
            158,
            180,
            176,
            158,
            157,
            183,
            154,
            152,
            172,
            139,
            154,
            152,
            140,
            177,
            116,
            143,
            153,
            164,
            134,
            190,
            156,
            149,
            143,
            149,
            171,
            146,
            134,
            147,
            167,
            118,
            138,
            146,
            162,
            154,
            149,
            161,
            194,
            130,
            143,
            166,
            157,
            155,
            160,
            175,
            149,
            152,
            184,
            158,
            145,
            137,
            156,
            151,
            141,
            165,
            159,
            170,
            159,
            200,
            154,
            178,
            168,
            146,
            150,
            163,
            163,
            174,
            160,
            155,
            148,
            164,
            157,
            154,
            152,
            161,
            160,
            142,
            142,
            144,
            134
           ]
          },
          {
           "label": "subsample",
           "range": [
            0.10227051365012732,
            0.49971107652160407
           ],
           "values": [
            0.16657080384246942,
            0.2789462756412078,
            0.19996460876745445,
            0.33556170098099425,
            0.44018761353265157,
            0.357355286260126,
            0.4940499285751704,
            0.2867114207768008,
            0.19085148861805906,
            0.3078926839107663,
            0.4689452713743831,
            0.40396207118818805,
            0.4222512003171362,
            0.25314123151081047,
            0.10227051365012732,
            0.4039199702057186,
            0.3418733230797317,
            0.42900600852487725,
            0.4544531064857253,
            0.3809240892608435,
            0.43808738358548327,
            0.442868561062143,
            0.48137996748159584,
            0.4864554994585337,
            0.3818639422174876,
            0.4973009746450982,
            0.49412964725750363,
            0.4668948711499289,
            0.4581444869893748,
            0.4045521949597945,
            0.4630343833538679,
            0.4989951200765328,
            0.4729023472475755,
            0.4708567767452743,
            0.4181978533474818,
            0.4443511735394776,
            0.49871758629597224,
            0.3800404809812475,
            0.3194269908775923,
            0.27082529677306055,
            0.4779238916872761,
            0.4987338349079852,
            0.4365510259560724,
            0.43453584005585755,
            0.45710272453561035,
            0.36636426008076617,
            0.40074768323394666,
            0.4124188174569152,
            0.2221342435492351,
            0.3954205597937013,
            0.13891782183162707,
            0.4428605381822889,
            0.4290608815070605,
            0.4747057377065195,
            0.4533961988943522,
            0.48342793627040437,
            0.3568634783092073,
            0.4303331945073206,
            0.39144742542558164,
            0.4504334114922449,
            0.41798729837126897,
            0.48439376248650196,
            0.49971107652160407,
            0.4724887176042783,
            0.46401253206167564,
            0.4835581906350716,
            0.44054688929782293,
            0.4636979139449073,
            0.48994663912794384,
            0.40960558421394744,
            0.4507959683393998,
            0.4953577630653714,
            0.480626907797739,
            0.4700712995422367,
            0.4970316674504553,
            0.4578092955495825,
            0.42338753253142003,
            0.46028333987473957,
            0.43624495027448956,
            0.45188283480585084,
            0.3934686372896818,
            0.48829903752727793,
            0.47409482414659776,
            0.4644411907714031,
            0.44409093217904305,
            0.4237906491032109,
            0.4375265808544552,
            0.447453358340643,
            0.30974433583730127,
            0.22859883536203063,
            0.47839525557221013,
            0.4668191588503241,
            0.4905020135364439,
            0.4569805715722212,
            0.4877318590826871,
            0.4778548140901817,
            0.4443424975927065,
            0.4031794792301297,
            0.4425220331319085,
            0.4336158151554974
           ]
          }
         ],
         "labelangle": 30,
         "labelside": "bottom",
         "line": {
          "color": [
           0.6416540810416012,
           0.6433225322791991,
           0.6847505218611365,
           0.5645298387002173,
           0.6994784458051102,
           0.6899278149269374,
           0.6966719958953373,
           0.6834481252967792,
           0.640387858364378,
           0.6974626084803944,
           0.6936419694282329,
           0.6784368697429493,
           0.6956888069865104,
           0.6720195696107056,
           0.5732976692876002,
           0.686324231611965,
           0.6703273358651607,
           0.7042560910532047,
           0.6776011910861831,
           0.6880956966871071,
           0.7107788812517819,
           0.6892110706279041,
           0.7089588476520964,
           0.6941124201346162,
           0.6988195312852081,
           0.7079057376608489,
           0.703870021422548,
           0.7098422893230181,
           0.6971651080855026,
           0.6891184262244741,
           0.6924362591051503,
           0.7088406697165667,
           0.6845814697441386,
           0.7027034438756221,
           0.6895605493738002,
           0.7025124671436276,
           0.461378650237935,
           0.6879394016501252,
           0.7073594671514474,
           0.6792436247578139,
           0.6986912930451536,
           0.7084882241071302,
           0.7106158444922208,
           0.6940321691858151,
           0.6970057681478282,
           0.6991041039969415,
           0.709006446203988,
           0.7078196743475574,
           0.657148422982804,
           0.703483272585691,
           0.5801305562302701,
           0.7037707083240736,
           0.689361229566224,
           0.7019140234140835,
           0.6911919798924566,
           0.689553222558981,
           0.7073109056057334,
           0.6960368827209619,
           0.7060004898031303,
           0.7048287546086024,
           0.6980530084695067,
           0.6869662793398517,
           0.7048945853476194,
           0.697733013891576,
           0.697576466695007,
           0.7016257416114303,
           0.6868239325815455,
           0.6918289781616183,
           0.6895702534445525,
           0.6911363996111117,
           0.6415560806326275,
           0.7026446676858639,
           0.6906715853515196,
           0.701287924352109,
           0.6974638455361376,
           0.7086311366249302,
           0.6973722942237013,
           0.6973628996453619,
           0.7062104425792055,
           0.7014957879972166,
           0.6807827450309853,
           0.6992163400560892,
           0.6984352963602808,
           0.6967959852436791,
           0.7163665405392561,
           0.6929694843978405,
           0.7024699770267298,
           0.7025635143840032,
           0.6932752070026756,
           0.6706916569675073,
           0.6873831111637726,
           0.6993451797145469,
           0.7068078059476489,
           0.690635177643945,
           0.7095798516479286,
           0.7051882940390548,
           0.7100863005585382,
           0.6979206780359228,
           0.7099659417166994,
           0.7106015818660462
          ],
          "colorbar": {
           "title": {
            "text": "Objective Value"
           }
          },
          "colorscale": [
           [
            0,
            "rgb(247,251,255)"
           ],
           [
            0.125,
            "rgb(222,235,247)"
           ],
           [
            0.25,
            "rgb(198,219,239)"
           ],
           [
            0.375,
            "rgb(158,202,225)"
           ],
           [
            0.5,
            "rgb(107,174,214)"
           ],
           [
            0.625,
            "rgb(66,146,198)"
           ],
           [
            0.75,
            "rgb(33,113,181)"
           ],
           [
            0.875,
            "rgb(8,81,156)"
           ],
           [
            1,
            "rgb(8,48,107)"
           ]
          ],
          "reversescale": false,
          "showscale": true
         },
         "type": "parcoords"
        }
       ],
       "layout": {
        "template": {
         "data": {
          "bar": [
           {
            "error_x": {
             "color": "#2a3f5f"
            },
            "error_y": {
             "color": "#2a3f5f"
            },
            "marker": {
             "line": {
              "color": "#E5ECF6",
              "width": 0.5
             },
             "pattern": {
              "fillmode": "overlay",
              "size": 10,
              "solidity": 0.2
             }
            },
            "type": "bar"
           }
          ],
          "barpolar": [
           {
            "marker": {
             "line": {
              "color": "#E5ECF6",
              "width": 0.5
             },
             "pattern": {
              "fillmode": "overlay",
              "size": 10,
              "solidity": 0.2
             }
            },
            "type": "barpolar"
           }
          ],
          "carpet": [
           {
            "aaxis": {
             "endlinecolor": "#2a3f5f",
             "gridcolor": "white",
             "linecolor": "white",
             "minorgridcolor": "white",
             "startlinecolor": "#2a3f5f"
            },
            "baxis": {
             "endlinecolor": "#2a3f5f",
             "gridcolor": "white",
             "linecolor": "white",
             "minorgridcolor": "white",
             "startlinecolor": "#2a3f5f"
            },
            "type": "carpet"
           }
          ],
          "choropleth": [
           {
            "colorbar": {
             "outlinewidth": 0,
             "ticks": ""
            },
            "type": "choropleth"
           }
          ],
          "contour": [
           {
            "colorbar": {
             "outlinewidth": 0,
             "ticks": ""
            },
            "colorscale": [
             [
              0,
              "#0d0887"
             ],
             [
              0.1111111111111111,
              "#46039f"
             ],
             [
              0.2222222222222222,
              "#7201a8"
             ],
             [
              0.3333333333333333,
              "#9c179e"
             ],
             [
              0.4444444444444444,
              "#bd3786"
             ],
             [
              0.5555555555555556,
              "#d8576b"
             ],
             [
              0.6666666666666666,
              "#ed7953"
             ],
             [
              0.7777777777777778,
              "#fb9f3a"
             ],
             [
              0.8888888888888888,
              "#fdca26"
             ],
             [
              1,
              "#f0f921"
             ]
            ],
            "type": "contour"
           }
          ],
          "contourcarpet": [
           {
            "colorbar": {
             "outlinewidth": 0,
             "ticks": ""
            },
            "type": "contourcarpet"
           }
          ],
          "heatmap": [
           {
            "colorbar": {
             "outlinewidth": 0,
             "ticks": ""
            },
            "colorscale": [
             [
              0,
              "#0d0887"
             ],
             [
              0.1111111111111111,
              "#46039f"
             ],
             [
              0.2222222222222222,
              "#7201a8"
             ],
             [
              0.3333333333333333,
              "#9c179e"
             ],
             [
              0.4444444444444444,
              "#bd3786"
             ],
             [
              0.5555555555555556,
              "#d8576b"
             ],
             [
              0.6666666666666666,
              "#ed7953"
             ],
             [
              0.7777777777777778,
              "#fb9f3a"
             ],
             [
              0.8888888888888888,
              "#fdca26"
             ],
             [
              1,
              "#f0f921"
             ]
            ],
            "type": "heatmap"
           }
          ],
          "heatmapgl": [
           {
            "colorbar": {
             "outlinewidth": 0,
             "ticks": ""
            },
            "colorscale": [
             [
              0,
              "#0d0887"
             ],
             [
              0.1111111111111111,
              "#46039f"
             ],
             [
              0.2222222222222222,
              "#7201a8"
             ],
             [
              0.3333333333333333,
              "#9c179e"
             ],
             [
              0.4444444444444444,
              "#bd3786"
             ],
             [
              0.5555555555555556,
              "#d8576b"
             ],
             [
              0.6666666666666666,
              "#ed7953"
             ],
             [
              0.7777777777777778,
              "#fb9f3a"
             ],
             [
              0.8888888888888888,
              "#fdca26"
             ],
             [
              1,
              "#f0f921"
             ]
            ],
            "type": "heatmapgl"
           }
          ],
          "histogram": [
           {
            "marker": {
             "pattern": {
              "fillmode": "overlay",
              "size": 10,
              "solidity": 0.2
             }
            },
            "type": "histogram"
           }
          ],
          "histogram2d": [
           {
            "colorbar": {
             "outlinewidth": 0,
             "ticks": ""
            },
            "colorscale": [
             [
              0,
              "#0d0887"
             ],
             [
              0.1111111111111111,
              "#46039f"
             ],
             [
              0.2222222222222222,
              "#7201a8"
             ],
             [
              0.3333333333333333,
              "#9c179e"
             ],
             [
              0.4444444444444444,
              "#bd3786"
             ],
             [
              0.5555555555555556,
              "#d8576b"
             ],
             [
              0.6666666666666666,
              "#ed7953"
             ],
             [
              0.7777777777777778,
              "#fb9f3a"
             ],
             [
              0.8888888888888888,
              "#fdca26"
             ],
             [
              1,
              "#f0f921"
             ]
            ],
            "type": "histogram2d"
           }
          ],
          "histogram2dcontour": [
           {
            "colorbar": {
             "outlinewidth": 0,
             "ticks": ""
            },
            "colorscale": [
             [
              0,
              "#0d0887"
             ],
             [
              0.1111111111111111,
              "#46039f"
             ],
             [
              0.2222222222222222,
              "#7201a8"
             ],
             [
              0.3333333333333333,
              "#9c179e"
             ],
             [
              0.4444444444444444,
              "#bd3786"
             ],
             [
              0.5555555555555556,
              "#d8576b"
             ],
             [
              0.6666666666666666,
              "#ed7953"
             ],
             [
              0.7777777777777778,
              "#fb9f3a"
             ],
             [
              0.8888888888888888,
              "#fdca26"
             ],
             [
              1,
              "#f0f921"
             ]
            ],
            "type": "histogram2dcontour"
           }
          ],
          "mesh3d": [
           {
            "colorbar": {
             "outlinewidth": 0,
             "ticks": ""
            },
            "type": "mesh3d"
           }
          ],
          "parcoords": [
           {
            "line": {
             "colorbar": {
              "outlinewidth": 0,
              "ticks": ""
             }
            },
            "type": "parcoords"
           }
          ],
          "pie": [
           {
            "automargin": true,
            "type": "pie"
           }
          ],
          "scatter": [
           {
            "marker": {
             "colorbar": {
              "outlinewidth": 0,
              "ticks": ""
             }
            },
            "type": "scatter"
           }
          ],
          "scatter3d": [
           {
            "line": {
             "colorbar": {
              "outlinewidth": 0,
              "ticks": ""
             }
            },
            "marker": {
             "colorbar": {
              "outlinewidth": 0,
              "ticks": ""
             }
            },
            "type": "scatter3d"
           }
          ],
          "scattercarpet": [
           {
            "marker": {
             "colorbar": {
              "outlinewidth": 0,
              "ticks": ""
             }
            },
            "type": "scattercarpet"
           }
          ],
          "scattergeo": [
           {
            "marker": {
             "colorbar": {
              "outlinewidth": 0,
              "ticks": ""
             }
            },
            "type": "scattergeo"
           }
          ],
          "scattergl": [
           {
            "marker": {
             "colorbar": {
              "outlinewidth": 0,
              "ticks": ""
             }
            },
            "type": "scattergl"
           }
          ],
          "scattermapbox": [
           {
            "marker": {
             "colorbar": {
              "outlinewidth": 0,
              "ticks": ""
             }
            },
            "type": "scattermapbox"
           }
          ],
          "scatterpolar": [
           {
            "marker": {
             "colorbar": {
              "outlinewidth": 0,
              "ticks": ""
             }
            },
            "type": "scatterpolar"
           }
          ],
          "scatterpolargl": [
           {
            "marker": {
             "colorbar": {
              "outlinewidth": 0,
              "ticks": ""
             }
            },
            "type": "scatterpolargl"
           }
          ],
          "scatterternary": [
           {
            "marker": {
             "colorbar": {
              "outlinewidth": 0,
              "ticks": ""
             }
            },
            "type": "scatterternary"
           }
          ],
          "surface": [
           {
            "colorbar": {
             "outlinewidth": 0,
             "ticks": ""
            },
            "colorscale": [
             [
              0,
              "#0d0887"
             ],
             [
              0.1111111111111111,
              "#46039f"
             ],
             [
              0.2222222222222222,
              "#7201a8"
             ],
             [
              0.3333333333333333,
              "#9c179e"
             ],
             [
              0.4444444444444444,
              "#bd3786"
             ],
             [
              0.5555555555555556,
              "#d8576b"
             ],
             [
              0.6666666666666666,
              "#ed7953"
             ],
             [
              0.7777777777777778,
              "#fb9f3a"
             ],
             [
              0.8888888888888888,
              "#fdca26"
             ],
             [
              1,
              "#f0f921"
             ]
            ],
            "type": "surface"
           }
          ],
          "table": [
           {
            "cells": {
             "fill": {
              "color": "#EBF0F8"
             },
             "line": {
              "color": "white"
             }
            },
            "header": {
             "fill": {
              "color": "#C8D4E3"
             },
             "line": {
              "color": "white"
             }
            },
            "type": "table"
           }
          ]
         },
         "layout": {
          "annotationdefaults": {
           "arrowcolor": "#2a3f5f",
           "arrowhead": 0,
           "arrowwidth": 1
          },
          "autotypenumbers": "strict",
          "coloraxis": {
           "colorbar": {
            "outlinewidth": 0,
            "ticks": ""
           }
          },
          "colorscale": {
           "diverging": [
            [
             0,
             "#8e0152"
            ],
            [
             0.1,
             "#c51b7d"
            ],
            [
             0.2,
             "#de77ae"
            ],
            [
             0.3,
             "#f1b6da"
            ],
            [
             0.4,
             "#fde0ef"
            ],
            [
             0.5,
             "#f7f7f7"
            ],
            [
             0.6,
             "#e6f5d0"
            ],
            [
             0.7,
             "#b8e186"
            ],
            [
             0.8,
             "#7fbc41"
            ],
            [
             0.9,
             "#4d9221"
            ],
            [
             1,
             "#276419"
            ]
           ],
           "sequential": [
            [
             0,
             "#0d0887"
            ],
            [
             0.1111111111111111,
             "#46039f"
            ],
            [
             0.2222222222222222,
             "#7201a8"
            ],
            [
             0.3333333333333333,
             "#9c179e"
            ],
            [
             0.4444444444444444,
             "#bd3786"
            ],
            [
             0.5555555555555556,
             "#d8576b"
            ],
            [
             0.6666666666666666,
             "#ed7953"
            ],
            [
             0.7777777777777778,
             "#fb9f3a"
            ],
            [
             0.8888888888888888,
             "#fdca26"
            ],
            [
             1,
             "#f0f921"
            ]
           ],
           "sequentialminus": [
            [
             0,
             "#0d0887"
            ],
            [
             0.1111111111111111,
             "#46039f"
            ],
            [
             0.2222222222222222,
             "#7201a8"
            ],
            [
             0.3333333333333333,
             "#9c179e"
            ],
            [
             0.4444444444444444,
             "#bd3786"
            ],
            [
             0.5555555555555556,
             "#d8576b"
            ],
            [
             0.6666666666666666,
             "#ed7953"
            ],
            [
             0.7777777777777778,
             "#fb9f3a"
            ],
            [
             0.8888888888888888,
             "#fdca26"
            ],
            [
             1,
             "#f0f921"
            ]
           ]
          },
          "colorway": [
           "#636efa",
           "#EF553B",
           "#00cc96",
           "#ab63fa",
           "#FFA15A",
           "#19d3f3",
           "#FF6692",
           "#B6E880",
           "#FF97FF",
           "#FECB52"
          ],
          "font": {
           "color": "#2a3f5f"
          },
          "geo": {
           "bgcolor": "white",
           "lakecolor": "white",
           "landcolor": "#E5ECF6",
           "showlakes": true,
           "showland": true,
           "subunitcolor": "white"
          },
          "hoverlabel": {
           "align": "left"
          },
          "hovermode": "closest",
          "mapbox": {
           "style": "light"
          },
          "paper_bgcolor": "white",
          "plot_bgcolor": "#E5ECF6",
          "polar": {
           "angularaxis": {
            "gridcolor": "white",
            "linecolor": "white",
            "ticks": ""
           },
           "bgcolor": "#E5ECF6",
           "radialaxis": {
            "gridcolor": "white",
            "linecolor": "white",
            "ticks": ""
           }
          },
          "scene": {
           "xaxis": {
            "backgroundcolor": "#E5ECF6",
            "gridcolor": "white",
            "gridwidth": 2,
            "linecolor": "white",
            "showbackground": true,
            "ticks": "",
            "zerolinecolor": "white"
           },
           "yaxis": {
            "backgroundcolor": "#E5ECF6",
            "gridcolor": "white",
            "gridwidth": 2,
            "linecolor": "white",
            "showbackground": true,
            "ticks": "",
            "zerolinecolor": "white"
           },
           "zaxis": {
            "backgroundcolor": "#E5ECF6",
            "gridcolor": "white",
            "gridwidth": 2,
            "linecolor": "white",
            "showbackground": true,
            "ticks": "",
            "zerolinecolor": "white"
           }
          },
          "shapedefaults": {
           "line": {
            "color": "#2a3f5f"
           }
          },
          "ternary": {
           "aaxis": {
            "gridcolor": "white",
            "linecolor": "white",
            "ticks": ""
           },
           "baxis": {
            "gridcolor": "white",
            "linecolor": "white",
            "ticks": ""
           },
           "bgcolor": "#E5ECF6",
           "caxis": {
            "gridcolor": "white",
            "linecolor": "white",
            "ticks": ""
           }
          },
          "title": {
           "x": 0.05
          },
          "xaxis": {
           "automargin": true,
           "gridcolor": "white",
           "linecolor": "white",
           "ticks": "",
           "title": {
            "standoff": 15
           },
           "zerolinecolor": "white",
           "zerolinewidth": 2
          },
          "yaxis": {
           "automargin": true,
           "gridcolor": "white",
           "linecolor": "white",
           "ticks": "",
           "title": {
            "standoff": 15
           },
           "zerolinecolor": "white",
           "zerolinewidth": 2
          }
         }
        },
        "title": {
         "text": "Parallel Coordinate Plot"
        }
       }
      }
     },
     "metadata": {},
     "output_type": "display_data"
    }
   ],
   "source": [
    "optuna.visualization.plot_parallel_coordinate(study)"
   ]
  },
  {
   "cell_type": "code",
   "execution_count": 51,
   "id": "1d419df8",
   "metadata": {},
   "outputs": [
    {
     "name": "stdout",
     "output_type": "stream",
     "text": [
      "Best trial: {'n_estimators': 163, 'max_depth': 16, 'min_samples_leaf': 4, 'min_samples_split': 9, 'subsample': 0.44409093217904305}\n"
     ]
    },
    {
     "data": {
      "text/plain": [
       "163"
      ]
     },
     "execution_count": 51,
     "metadata": {},
     "output_type": "execute_result"
    }
   ],
   "source": [
    "print(\"Best trial:\", study.best_trial.params)\n",
    "study.best_trial.params[\"n_estimators\"]"
   ]
  },
  {
   "cell_type": "code",
   "execution_count": 52,
   "id": "ffefef6c",
   "metadata": {},
   "outputs": [
    {
     "data": {
      "text/html": [
       "<style>#sk-container-id-3 {color: black;background-color: white;}#sk-container-id-3 pre{padding: 0;}#sk-container-id-3 div.sk-toggleable {background-color: white;}#sk-container-id-3 label.sk-toggleable__label {cursor: pointer;display: block;width: 100%;margin-bottom: 0;padding: 0.3em;box-sizing: border-box;text-align: center;}#sk-container-id-3 label.sk-toggleable__label-arrow:before {content: \"▸\";float: left;margin-right: 0.25em;color: #696969;}#sk-container-id-3 label.sk-toggleable__label-arrow:hover:before {color: black;}#sk-container-id-3 div.sk-estimator:hover label.sk-toggleable__label-arrow:before {color: black;}#sk-container-id-3 div.sk-toggleable__content {max-height: 0;max-width: 0;overflow: hidden;text-align: left;background-color: #f0f8ff;}#sk-container-id-3 div.sk-toggleable__content pre {margin: 0.2em;color: black;border-radius: 0.25em;background-color: #f0f8ff;}#sk-container-id-3 input.sk-toggleable__control:checked~div.sk-toggleable__content {max-height: 200px;max-width: 100%;overflow: auto;}#sk-container-id-3 input.sk-toggleable__control:checked~label.sk-toggleable__label-arrow:before {content: \"▾\";}#sk-container-id-3 div.sk-estimator input.sk-toggleable__control:checked~label.sk-toggleable__label {background-color: #d4ebff;}#sk-container-id-3 div.sk-label input.sk-toggleable__control:checked~label.sk-toggleable__label {background-color: #d4ebff;}#sk-container-id-3 input.sk-hidden--visually {border: 0;clip: rect(1px 1px 1px 1px);clip: rect(1px, 1px, 1px, 1px);height: 1px;margin: -1px;overflow: hidden;padding: 0;position: absolute;width: 1px;}#sk-container-id-3 div.sk-estimator {font-family: monospace;background-color: #f0f8ff;border: 1px dotted black;border-radius: 0.25em;box-sizing: border-box;margin-bottom: 0.5em;}#sk-container-id-3 div.sk-estimator:hover {background-color: #d4ebff;}#sk-container-id-3 div.sk-parallel-item::after {content: \"\";width: 100%;border-bottom: 1px solid gray;flex-grow: 1;}#sk-container-id-3 div.sk-label:hover label.sk-toggleable__label {background-color: #d4ebff;}#sk-container-id-3 div.sk-serial::before {content: \"\";position: absolute;border-left: 1px solid gray;box-sizing: border-box;top: 0;bottom: 0;left: 50%;z-index: 0;}#sk-container-id-3 div.sk-serial {display: flex;flex-direction: column;align-items: center;background-color: white;padding-right: 0.2em;padding-left: 0.2em;position: relative;}#sk-container-id-3 div.sk-item {position: relative;z-index: 1;}#sk-container-id-3 div.sk-parallel {display: flex;align-items: stretch;justify-content: center;background-color: white;position: relative;}#sk-container-id-3 div.sk-item::before, #sk-container-id-3 div.sk-parallel-item::before {content: \"\";position: absolute;border-left: 1px solid gray;box-sizing: border-box;top: 0;bottom: 0;left: 50%;z-index: -1;}#sk-container-id-3 div.sk-parallel-item {display: flex;flex-direction: column;z-index: 1;position: relative;background-color: white;}#sk-container-id-3 div.sk-parallel-item:first-child::after {align-self: flex-end;width: 50%;}#sk-container-id-3 div.sk-parallel-item:last-child::after {align-self: flex-start;width: 50%;}#sk-container-id-3 div.sk-parallel-item:only-child::after {width: 0;}#sk-container-id-3 div.sk-dashed-wrapped {border: 1px dashed gray;margin: 0 0.4em 0.5em 0.4em;box-sizing: border-box;padding-bottom: 0.4em;background-color: white;}#sk-container-id-3 div.sk-label label {font-family: monospace;font-weight: bold;display: inline-block;line-height: 1.2em;}#sk-container-id-3 div.sk-label-container {text-align: center;}#sk-container-id-3 div.sk-container {/* jupyter's `normalize.less` sets `[hidden] { display: none; }` but bootstrap.min.css set `[hidden] { display: none !important; }` so we also need the `!important` here to be able to override the default hidden behavior on the sphinx rendered scikit-learn.org. See: https://github.com/scikit-learn/scikit-learn/issues/21755 */display: inline-block !important;position: relative;}#sk-container-id-3 div.sk-text-repr-fallback {display: none;}</style><div id=\"sk-container-id-3\" class=\"sk-top-container\"><div class=\"sk-text-repr-fallback\"><pre>GradientBoostingRegressor(max_depth=16, min_samples_leaf=4, min_samples_split=9,\n",
       "                          n_estimators=163, random_state=42,\n",
       "                          subsample=0.44409093217904305)</pre><b>In a Jupyter environment, please rerun this cell to show the HTML representation or trust the notebook. <br />On GitHub, the HTML representation is unable to render, please try loading this page with nbviewer.org.</b></div><div class=\"sk-container\" hidden><div class=\"sk-item\"><div class=\"sk-estimator sk-toggleable\"><input class=\"sk-toggleable__control sk-hidden--visually\" id=\"sk-estimator-id-3\" type=\"checkbox\" checked><label for=\"sk-estimator-id-3\" class=\"sk-toggleable__label sk-toggleable__label-arrow\">GradientBoostingRegressor</label><div class=\"sk-toggleable__content\"><pre>GradientBoostingRegressor(max_depth=16, min_samples_leaf=4, min_samples_split=9,\n",
       "                          n_estimators=163, random_state=42,\n",
       "                          subsample=0.44409093217904305)</pre></div></div></div></div></div>"
      ],
      "text/plain": [
       "GradientBoostingRegressor(max_depth=16, min_samples_leaf=4, min_samples_split=9,\n",
       "                          n_estimators=163, random_state=42,\n",
       "                          subsample=0.44409093217904305)"
      ]
     },
     "execution_count": 52,
     "metadata": {},
     "output_type": "execute_result"
    }
   ],
   "source": [
    "gb_params = {\n",
    "    \"random_state\": 42,\n",
    "    \"learning_rate\": 0.1,\n",
    "    \"n_estimators\": study.best_trial.params[\"n_estimators\"],\n",
    "    \"max_depth\": study.best_trial.params[\"max_depth\"],\n",
    "    \"min_samples_leaf\": study.best_trial.params[\"min_samples_leaf\"],\n",
    "    \"min_samples_split\": study.best_trial.params[\"min_samples_split\"],\n",
    "    \"subsample\": study.best_trial.params[\"subsample\"]\n",
    "}\n",
    "\n",
    "gb = GradientBoostingRegressor(**gb_params)\n",
    "gb.fit(Ni_X_train, Ni_y_train)"
   ]
  },
  {
   "cell_type": "code",
   "execution_count": 53,
   "id": "417e128a",
   "metadata": {},
   "outputs": [],
   "source": [
    "# gb_params = {\n",
    "#     \"random_state\": 42,\n",
    "#     \"learning_rate\": 0.1,\n",
    "#     \"n_estimators\": 181,\n",
    "#     \"max_depth\": 28,\n",
    "#     \"min_samples_leaf\": 7,\n",
    "#     \"min_samples_split\": 7,\n",
    "#     \"subsample\": 0.4946447123833718\n",
    "# }\n",
    "\n",
    "# gb = GradientBoostingRegressor(**gb_params)\n",
    "# gb.fit(Ni_X_train, Ni_y_train)"
   ]
  },
  {
   "cell_type": "code",
   "execution_count": 54,
   "id": "4c1a69d2",
   "metadata": {},
   "outputs": [],
   "source": [
    "y_train_pred = gb.predict(Ni_X_train)\n",
    "y_test_pred = gb.predict(Ni_X_test)"
   ]
  },
  {
   "cell_type": "code",
   "execution_count": 55,
   "id": "0f707a20",
   "metadata": {},
   "outputs": [
    {
     "name": "stdout",
     "output_type": "stream",
     "text": [
      "Train RMSE:  0.07341753003701731\n",
      "Test RMSE:  0.6185336688968186\n"
     ]
    }
   ],
   "source": [
    "print(\"Train RMSE: \", np.sqrt(mean_squared_error(Ni_y_train, y_train_pred)))\n",
    "print(\"Test RMSE: \", np.sqrt(mean_squared_error(Ni_y_test, y_test_pred)))"
   ]
  },
  {
   "cell_type": "code",
   "execution_count": 56,
   "id": "641d78f4",
   "metadata": {},
   "outputs": [
    {
     "name": "stdout",
     "output_type": "stream",
     "text": [
      "Train R2:  0.9960626736299902\n",
      "Test R2:  0.7678913252972858\n"
     ]
    }
   ],
   "source": [
    "print(\"Train R2: \", r2_score(Ni_y_train, y_train_pred))\n",
    "print(\"Test R2: \", r2_score(Ni_y_test, y_test_pred))"
   ]
  },
  {
   "cell_type": "code",
   "execution_count": 57,
   "id": "dd1670cb",
   "metadata": {},
   "outputs": [
    {
     "data": {
      "image/png": "[encoded data removed]",
      "text/plain": [
       "<Figure size 432x288 with 1 Axes>"
      ]
     },
     "metadata": {
      "needs_background": "light"
     },
     "output_type": "display_data"
    }
   ],
   "source": [
    "plt.scatter(y_train_pred, np.array(Ni_y_train), color=\"orange\", alpha=0.3)\n",
    "plt.scatter(y_test_pred, np.array(Ni_y_test), color=\"green\", alpha=0.4)\n",
    "plt.axis(\"auto\")\n",
    "# plt.xlim([0, 1.5]) \n",
    "# plt.ylim(0, None) \n",
    "plt.xlabel('Predicted Values')\n",
    "plt.ylabel('Actual Values')\n",
    "\n",
    "# Add trendline\n",
    "# z = np.polyfit(y_train_pred, As_y_train, 1)\n",
    "# p = np.poly1d(z)\n",
    "# plt.plot(y_train_pred, p(y_train_pred), color='red', linestyle='-')\n",
    "\n",
    "# Add y=x line\n",
    "plt.plot([0, 4.5], [0, 4.5], color='red', linestyle='-')\n",
    "\n",
    "plt.show()"
   ]
  }
 ],
 "metadata": {
  "kernelspec": {
   "display_name": "Python 3",
   "language": "python",
   "name": "python3"
  },
  "language_info": {
   "codemirror_mode": {
    "name": "ipython",
    "version": 3
   },
   "file_extension": ".py",
   "mimetype": "text/x-python",
   "name": "python",
   "nbconvert_exporter": "python",
   "pygments_lexer": "ipython3",
   "version": "3.8.11"
  }
 },
 "nbformat": 4,
 "nbformat_minor": 5
}
