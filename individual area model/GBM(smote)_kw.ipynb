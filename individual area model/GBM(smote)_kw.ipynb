{
 "cells": [
  {
   "attachments": {},
   "cell_type": "markdown",
   "id": "451911be",
   "metadata": {},
   "source": [
    "#### Library import"
   ]
  },
  {
   "cell_type": "code",
   "execution_count": 1,
   "id": "8a394942",
   "metadata": {},
   "outputs": [],
   "source": [
    "import os\n",
    "import pandas as pd\n",
    "import numpy as np\n",
    "import matplotlib.pyplot as plt\n",
    "%matplotlib inline\n",
    "import seaborn as sns\n",
    "import tensorflow as tf\n",
    "import missingno as msno\n",
    "\n",
    "import warnings\n",
    "warnings.filterwarnings('ignore')\n",
    "\n",
    "from sklearn.model_selection import train_test_split\n",
    "from sklearn.model_selection import GridSearchCV\n",
    "from sklearn.metrics import mean_squared_error, r2_score\n",
    "from sklearn.preprocessing import StandardScaler, MinMaxScaler, RobustScaler\n",
    "from sklearn.ensemble import RandomForestRegressor, GradientBoostingRegressor, ExtraTreesRegressor\n",
    "from sklearn.model_selection import KFold\n",
    "from lightgbm import LGBMRegressor\n",
    "from xgboost import XGBRegressor\n",
    "from ngboost import NGBRegressor\n",
    "from scipy.stats import norm, skew\n",
    "\n",
    "from matplotlib.ticker import FormatStrFormatter\n",
    "\n",
    "import re\n",
    "from tqdm import tqdm"
   ]
  },
  {
   "attachments": {},
   "cell_type": "markdown",
   "id": "31a13d68",
   "metadata": {},
   "source": [
    "#### GPU setting"
   ]
  },
  {
   "cell_type": "code",
   "execution_count": 2,
   "id": "cd001f36",
   "metadata": {},
   "outputs": [],
   "source": [
    "from tensorflow.compat.v1 import ConfigProto\n",
    "from tensorflow.compat.v1 import InteractiveSession"
   ]
  },
  {
   "cell_type": "code",
   "execution_count": 3,
   "id": "25c4acdb",
   "metadata": {},
   "outputs": [],
   "source": [
    "config = ConfigProto()\n",
    "config.gpu_options.per_process_gpu_memory_fraction = 0.4\n",
    "session = InteractiveSession(config = config)"
   ]
  },
  {
   "cell_type": "code",
   "execution_count": 4,
   "id": "7f5f8e0a",
   "metadata": {},
   "outputs": [
    {
     "name": "stdout",
     "output_type": "stream",
     "text": [
      "[name: \"/device:CPU:0\"\n",
      "device_type: \"CPU\"\n",
      "memory_limit: 268435456\n",
      "locality {\n",
      "}\n",
      "incarnation: 2232497589137098802\n",
      ", name: \"/device:GPU:0\"\n",
      "device_type: \"GPU\"\n",
      "memory_limit: 3435973836\n",
      "locality {\n",
      "  bus_id: 1\n",
      "  links {\n",
      "  }\n",
      "}\n",
      "incarnation: 17101595862308196752\n",
      "physical_device_desc: \"device: 0, name: NVIDIA GeForce RTX 3060 Ti, pci bus id: 0000:07:00.0, compute capability: 8.6\"\n",
      "]\n"
     ]
    }
   ],
   "source": [
    "physical_devices = tf.config.list_physical_devices('GPU')\n",
    "physical_devices\n",
    "\n",
    "from tensorflow.python.client import device_lib\n",
    "\n",
    "print(device_lib.list_local_devices())"
   ]
  },
  {
   "cell_type": "code",
   "execution_count": 5,
   "id": "1de68242",
   "metadata": {},
   "outputs": [],
   "source": [
    "import os\n",
    "\n",
    "os.environ[\"CUDA_VISIBLE_DEVICES\"]=\"0\"\n",
    "gpus = tf.config.experimental.list_physical_devices('GPU')\n",
    "if gpus:\n",
    "    try:\n",
    "        tf.config.experimental.set_memory_growth(gpus[0], True)\n",
    "    except RuntimeError as e:\n",
    "        print(e)"
   ]
  },
  {
   "attachments": {},
   "cell_type": "markdown",
   "id": "cb740f81",
   "metadata": {},
   "source": [
    "#### Data import and preprocessing"
   ]
  },
  {
   "cell_type": "code",
   "execution_count": 6,
   "id": "9288345d",
   "metadata": {
    "scrolled": true
   },
   "outputs": [
    {
     "data": {
      "text/plain": [
       "Index(['OBJECTID_x', 'ID', 'pH', 'As', 'Cd', 'Ni', 'Pb', 'Zn', 'Hg', 'slope',\n",
       "       'altitude', 'profile_curve', 'profile_c_num', 'profile_c_abs',\n",
       "       'planform_curve', 'planform_c_num', 'planform_c_abs', 'HYDGRP',\n",
       "       'HYDGRP_A', 'HYDGRP_B', 'HYDGRP_C', 'HYDGRP_D', 'ANION_EXCL', 'SOL_CRK',\n",
       "       'SOL_K1', 'CLAY1', 'SILT1', 'SAND1', 'ROCK1', 'SOL_EC1', 'distance'],\n",
       "      dtype='object')"
      ]
     },
     "execution_count": 6,
     "metadata": {},
     "output_type": "execute_result"
    }
   ],
   "source": [
    "data = pd.read_csv(\"data/data_kw.csv\")\n",
    "data.columns"
   ]
  },
  {
   "cell_type": "code",
   "execution_count": 7,
   "id": "bbf87a23",
   "metadata": {},
   "outputs": [
    {
     "data": {
      "text/plain": [
       "Index(['pH', 'As', 'Cd', 'Ni', 'Pb', 'Zn', 'Hg', 'slope', 'altitude',\n",
       "       'profile_curve', 'planform_curve', 'HYDGRP_A', 'HYDGRP_B', 'HYDGRP_C',\n",
       "       'HYDGRP_D', 'SOL_K1', 'CLAY1', 'SILT1', 'SAND1', 'ROCK1', 'distance'],\n",
       "      dtype='object')"
      ]
     },
     "execution_count": 7,
     "metadata": {},
     "output_type": "execute_result"
    }
   ],
   "source": [
    "data = data.drop(['OBJECTID_x','ID','HYDGRP','profile_c_num', 'profile_c_abs','planform_c_num', 'planform_c_abs','ANION_EXCL','SOL_CRK','SOL_EC1'], axis = 1)\n",
    "data.columns"
   ]
  },
  {
   "cell_type": "code",
   "execution_count": 8,
   "id": "eda19bb6",
   "metadata": {},
   "outputs": [],
   "source": [
    "As = data\n",
    "Cd = data\n",
    "Ni = data"
   ]
  },
  {
   "cell_type": "code",
   "execution_count": 9,
   "id": "c3c7d06a",
   "metadata": {},
   "outputs": [],
   "source": [
    "As = As.drop([\"Cd\", \"Ni\", \"Pb\", \"Zn\", \"Hg\"], axis = 1)\n",
    "Cd = Cd.drop([\"As\", \"Ni\", \"Pb\", \"Zn\", \"Hg\"], axis = 1)\n",
    "Ni = Ni.drop([\"As\", \"Cd\", \"Pb\", \"Zn\", \"Hg\"], axis = 1)"
   ]
  },
  {
   "cell_type": "code",
   "execution_count": 10,
   "id": "67d23d19",
   "metadata": {},
   "outputs": [
    {
     "name": "stdout",
     "output_type": "stream",
     "text": [
      "(677, 16)\n",
      "(677, 16)\n",
      "(677, 16)\n"
     ]
    }
   ],
   "source": [
    "print(As.shape)\n",
    "print(Cd.shape)\n",
    "print(Ni.shape)"
   ]
  },
  {
   "cell_type": "markdown",
   "id": "a5e7de7c",
   "metadata": {},
   "source": [
    "#### Oversampling by SMOGN (SMOTE Regression)"
   ]
  },
  {
   "cell_type": "code",
   "execution_count": 11,
   "id": "07928600",
   "metadata": {},
   "outputs": [],
   "source": [
    "import smogn"
   ]
  },
  {
   "cell_type": "code",
   "execution_count": 12,
   "id": "944a8180",
   "metadata": {},
   "outputs": [
    {
     "name": "stderr",
     "output_type": "stream",
     "text": [
      "dist_matrix:   0%|          | 0/134 [00:00<?, ?it/s]"
     ]
    },
    {
     "name": "stderr",
     "output_type": "stream",
     "text": [
      "dist_matrix: 100%|##########| 134/134 [00:07<00:00, 18.43it/s]\n",
      "synth_matrix: 100%|##########| 134/134 [00:00<00:00, 198.47it/s]\n",
      "dist_matrix: 100%|##########| 159/159 [00:10<00:00, 15.77it/s]\n",
      "synth_matrix: 100%|##########| 159/159 [00:00<00:00, 308.67it/s]\n",
      "r_index: 100%|##########| 47/47 [00:00<00:00, 652.63it/s]\n",
      "dist_matrix: 100%|##########| 127/127 [00:06<00:00, 20.63it/s]\n",
      "synth_matrix: 100%|##########| 127/127 [00:00<00:00, 211.97it/s]\n",
      "r_index: 100%|##########| 38/38 [00:00<00:00, 622.82it/s]\n"
     ]
    }
   ],
   "source": [
    "As_smogn = smogn.smoter(data = As, y = 'As', samp_method = 'extreme')\n",
    "Cd_smogn = smogn.smoter(data = Cd, y = 'Cd', samp_method = 'extreme')\n",
    "Ni_smogn = smogn.smoter(data = Ni, y = 'Ni', samp_method = 'extreme')"
   ]
  },
  {
   "cell_type": "code",
   "execution_count": 13,
   "id": "3d5966fa",
   "metadata": {},
   "outputs": [
    {
     "name": "stdout",
     "output_type": "stream",
     "text": [
      "(971, 16)\n",
      "(887, 16)\n",
      "(986, 16)\n"
     ]
    }
   ],
   "source": [
    "print(As_smogn.shape)\n",
    "print(Cd_smogn.shape)\n",
    "print(Ni_smogn.shape)"
   ]
  },
  {
   "attachments": {},
   "cell_type": "markdown",
   "id": "ed72a9b1",
   "metadata": {},
   "source": [
    "#### Eliminate outlier and train / test split"
   ]
  },
  {
   "cell_type": "code",
   "execution_count": 14,
   "id": "43604a42",
   "metadata": {},
   "outputs": [],
   "source": [
    "def eli_outlier(data, value):\n",
    "    q1 = data[value].quantile(0.25)\n",
    "    q3 = data[value].quantile(0.75)\n",
    "\n",
    "    iqr = q3 - q1\n",
    "\n",
    "    q1_condition = data[value] < q1-1.5*iqr\n",
    "    q3_condition = data[value] > q3+1.5*iqr\n",
    "\n",
    "    reset_q1_index = data[q1_condition].index\n",
    "    reset_q3_index = data[q3_condition].index\n",
    "\n",
    "    data.drop(reset_q1_index, inplace = True)\n",
    "    data.drop(reset_q3_index, inplace = True)\n",
    "\n",
    "    return data"
   ]
  },
  {
   "cell_type": "code",
   "execution_count": 15,
   "id": "9b7632f2",
   "metadata": {},
   "outputs": [],
   "source": [
    "As_ros = eli_outlier(As_smogn, \"As\")\n",
    "Cd_ros = eli_outlier(Cd_smogn, \"Cd\")\n",
    "Ni_ros = eli_outlier(Ni_smogn, \"Ni\")"
   ]
  },
  {
   "cell_type": "code",
   "execution_count": 16,
   "id": "fd2813d1",
   "metadata": {},
   "outputs": [],
   "source": [
    "As_X = As_ros.drop([\"As\"], axis=1)\n",
    "Cd_X = Cd_ros.drop([\"Cd\"], axis=1)\n",
    "Ni_X = Ni_ros.drop([\"Ni\"], axis=1)\n",
    "\n",
    "As_y = As_ros[\"As\"]\n",
    "Cd_y = Cd_ros[\"Cd\"]\n",
    "Ni_y = Ni_ros[\"Ni\"]"
   ]
  },
  {
   "cell_type": "code",
   "execution_count": 17,
   "id": "3d1db064",
   "metadata": {},
   "outputs": [],
   "source": [
    "As_y = np.log1p(As_ros[\"As\"])\n",
    "Cd_y = np.log1p(Cd_ros[\"Cd\"])\n",
    "Ni_y = np.log1p(Ni_ros[\"Ni\"])"
   ]
  },
  {
   "cell_type": "code",
   "execution_count": 18,
   "id": "e6b5aab4",
   "metadata": {},
   "outputs": [
    {
     "name": "stdout",
     "output_type": "stream",
     "text": [
      "(781, 15)\n",
      "(737, 15)\n",
      "(976, 15)\n"
     ]
    }
   ],
   "source": [
    "print(As_X.shape)\n",
    "print(Cd_X.shape)\n",
    "print(Ni_X.shape)"
   ]
  },
  {
   "attachments": {},
   "cell_type": "markdown",
   "id": "c92e5bb6",
   "metadata": {},
   "source": [
    "StandardScaler"
   ]
  },
  {
   "cell_type": "code",
   "execution_count": 19,
   "id": "5cc1e7ea",
   "metadata": {},
   "outputs": [],
   "source": [
    "from sklearn.preprocessing import StandardScaler\n",
    "\n",
    "scaler = StandardScaler()\n",
    "\n",
    "As_X_train, As_X_test, As_y_train, As_y_test = train_test_split(As_X, As_y, test_size=0.2, random_state=42)\n",
    "Cd_X_train, Cd_X_test, Cd_y_train, Cd_y_test = train_test_split(Cd_X, Cd_y, test_size=0.2, random_state=42)\n",
    "Ni_X_train, Ni_X_test, Ni_y_train, Ni_y_test = train_test_split(Ni_X, Ni_y, test_size=0.2, random_state=42)\n",
    "\n",
    "As_X_train = scaler.fit_transform(As_X_train)\n",
    "As_X_test = scaler.fit_transform(As_X_test)\n",
    "\n",
    "Cd_X_train = scaler.fit_transform(Cd_X_train)\n",
    "Cd_X_test = scaler.fit_transform(Cd_X_test)\n",
    "\n",
    "Ni_X_train = scaler.fit_transform(Ni_X_train)\n",
    "Ni_X_test = scaler.fit_transform(Ni_X_test)"
   ]
  },
  {
   "cell_type": "code",
   "execution_count": 20,
   "id": "416a7027",
   "metadata": {},
   "outputs": [
    {
     "data": {
      "text/plain": [
       "' from sklearn.preprocessing import StandardScaler\\n\\nscaler = StandardScaler()\\nAs_X_scaled = scaler.fit_transform(As_X)\\nCd_X_scaled = scaler.fit_transform(Cd_X)\\nNi_X_scaled = scaler.fit_transform(Ni_X)\\n\\nAs_X_train, As_X_test, As_y_train, As_y_test = train_test_split(As_X_scaled, As_y, test_size=0.2, random_state=42)\\nCd_X_train, Cd_X_test, Cd_y_train, Cd_y_test = train_test_split(Cd_X_scaled, Cd_y, test_size=0.2, random_state=42)\\nNi_X_train, Ni_X_test, Ni_y_train, Ni_y_test = train_test_split(Ni_X_scaled, Ni_y, test_size=0.2, random_state=42) '"
      ]
     },
     "execution_count": 20,
     "metadata": {},
     "output_type": "execute_result"
    }
   ],
   "source": [
    "''' from sklearn.preprocessing import StandardScaler\n",
    "\n",
    "scaler = StandardScaler()\n",
    "As_X_scaled = scaler.fit_transform(As_X)\n",
    "Cd_X_scaled = scaler.fit_transform(Cd_X)\n",
    "Ni_X_scaled = scaler.fit_transform(Ni_X)\n",
    "\n",
    "As_X_train, As_X_test, As_y_train, As_y_test = train_test_split(As_X_scaled, As_y, test_size=0.2, random_state=42)\n",
    "Cd_X_train, Cd_X_test, Cd_y_train, Cd_y_test = train_test_split(Cd_X_scaled, Cd_y, test_size=0.2, random_state=42)\n",
    "Ni_X_train, Ni_X_test, Ni_y_train, Ni_y_test = train_test_split(Ni_X_scaled, Ni_y, test_size=0.2, random_state=42) '''"
   ]
  },
  {
   "attachments": {},
   "cell_type": "markdown",
   "id": "2fe0d293",
   "metadata": {},
   "source": [
    "MinMaxScaler"
   ]
  },
  {
   "cell_type": "code",
   "execution_count": 21,
   "id": "e8596f9f",
   "metadata": {},
   "outputs": [],
   "source": [
    "# from sklearn.preprocessing import MinMaxScaler\n",
    "\n",
    "# scaler = MinMaxScaler()\n",
    "# As_X_scaled = scaler.fit_transform(As_X)\n",
    "# Cd_X_scaled = scaler.fit_transform(Cd_X)\n",
    "# Ni_X_scaled = scaler.fit_transform(Ni_X)\n",
    "\n",
    "# As_X_train, As_X_test, As_y_train, As_y_test = train_test_split(As_X_scaled, As_y, test_size=0.2, random_state=42)\n",
    "# Cd_X_train, Cd_X_test, Cd_y_train, Cd_y_test = train_test_split(Cd_X_scaled, Cd_y, test_size=0.2, random_state=42)\n",
    "# Ni_X_train, Ni_X_test, Ni_y_train, Ni_y_test = train_test_split(Ni_X_scaled, Ni_y, test_size=0.2, random_state=42)"
   ]
  },
  {
   "cell_type": "code",
   "execution_count": 22,
   "id": "c6cad4b1",
   "metadata": {},
   "outputs": [
    {
     "name": "stdout",
     "output_type": "stream",
     "text": [
      "(624, 15)\n",
      "(589, 15)\n",
      "(780, 15)\n"
     ]
    }
   ],
   "source": [
    "print(As_X_train.shape)\n",
    "print(Cd_X_train.shape)\n",
    "print(Ni_X_train.shape)"
   ]
  },
  {
   "attachments": {},
   "cell_type": "markdown",
   "id": "bd11b27e",
   "metadata": {},
   "source": [
    "#### 10-Fold Crossvalidation"
   ]
  },
  {
   "cell_type": "code",
   "execution_count": 23,
   "id": "7a765916",
   "metadata": {},
   "outputs": [],
   "source": [
    "kf = KFold(n_splits = 5, random_state = 42, shuffle = True)"
   ]
  },
  {
   "attachments": {},
   "cell_type": "markdown",
   "id": "859638d0",
   "metadata": {},
   "source": [
    "#### Optuna Optimization"
   ]
  },
  {
   "cell_type": "code",
   "execution_count": 24,
   "id": "92a47d83",
   "metadata": {},
   "outputs": [],
   "source": [
    "import optuna\n",
    "\n",
    "from optuna import Trial\n",
    "from optuna.samplers import TPESampler"
   ]
  },
  {
   "cell_type": "code",
   "execution_count": 25,
   "id": "a7669fea",
   "metadata": {},
   "outputs": [],
   "source": [
    "from sklearn.model_selection import cross_val_score\n",
    "\n",
    "def objectiveGB(trial: Trial, X_train, y_train) -> float:\n",
    "    gb_paramas = {\n",
    "        \"random_state\": 42,\n",
    "        \"learning_rate\": 0.1,\n",
    "        \"n_estimators\": trial.suggest_int(\"n_estimators\", 100, 200),\n",
    "        \"max_depth\": trial.suggest_int(\"max_depth\", 1, 30),\n",
    "        \"min_samples_leaf\": trial.suggest_int(\"min_samples_leaf\", 1, 10),\n",
    "        \"min_samples_split\": trial.suggest_int(\"min_samples_split\", 2, 10),\n",
    "        \"subsample\": trial.suggest_float(\"subsample\", 0.1, 0.5)\n",
    "    }\n",
    "    \n",
    "    gb = GradientBoostingRegressor(**gb_paramas)\n",
    "    r2 = cross_val_score(gb, X_train, y_train, scoring = \"r2\", cv = kf)\n",
    "    r2 = r2.mean()\n",
    "    \n",
    "    return r2"
   ]
  },
  {
   "attachments": {},
   "cell_type": "markdown",
   "id": "b0988f46",
   "metadata": {},
   "source": [
    "####  Optimization"
   ]
  },
  {
   "cell_type": "code",
   "execution_count": 26,
   "id": "94f5e00d",
   "metadata": {
    "scrolled": false
   },
   "outputs": [
    {
     "name": "stderr",
     "output_type": "stream",
     "text": [
      "\u001b[32m[I 2023-08-24 13:46:14,762]\u001b[0m A new study created in memory with name: gb_parameter_opt\u001b[0m\n",
      "\u001b[32m[I 2023-08-24 13:46:15,535]\u001b[0m Trial 0 finished with value: 0.5054701003821543 and parameters: {'n_estimators': 142, 'max_depth': 28, 'min_samples_leaf': 7, 'min_samples_split': 9, 'subsample': 0.2258903557664138}. Best is trial 0 with value: 0.5054701003821543.\u001b[0m\n",
      "\u001b[32m[I 2023-08-24 13:46:17,284]\u001b[0m Trial 1 finished with value: 0.5308767805135004 and parameters: {'n_estimators': 136, 'max_depth': 10, 'min_samples_leaf': 7, 'min_samples_split': 8, 'subsample': 0.484321238859062}. Best is trial 1 with value: 0.5308767805135004.\u001b[0m\n",
      "\u001b[32m[I 2023-08-24 13:46:18,440]\u001b[0m Trial 2 finished with value: 0.5302638163531757 and parameters: {'n_estimators': 196, 'max_depth': 16, 'min_samples_leaf': 9, 'min_samples_split': 2, 'subsample': 0.27431010205525563}. Best is trial 1 with value: 0.5308767805135004.\u001b[0m\n",
      "\u001b[32m[I 2023-08-24 13:46:20,239]\u001b[0m Trial 3 finished with value: 0.5320293172617997 and parameters: {'n_estimators': 141, 'max_depth': 14, 'min_samples_leaf': 6, 'min_samples_split': 6, 'subsample': 0.4360490941650119}. Best is trial 3 with value: 0.5320293172617997.\u001b[0m\n",
      "\u001b[32m[I 2023-08-24 13:46:21,543]\u001b[0m Trial 4 finished with value: 0.5076955350613027 and parameters: {'n_estimators': 160, 'max_depth': 27, 'min_samples_leaf': 4, 'min_samples_split': 2, 'subsample': 0.25322120752566357}. Best is trial 3 with value: 0.5320293172617997.\u001b[0m\n",
      "\u001b[32m[I 2023-08-24 13:46:23,967]\u001b[0m Trial 5 finished with value: 0.5113332136055877 and parameters: {'n_estimators': 163, 'max_depth': 12, 'min_samples_leaf': 4, 'min_samples_split': 2, 'subsample': 0.4432058833658641}. Best is trial 3 with value: 0.5320293172617997.\u001b[0m\n",
      "\u001b[32m[I 2023-08-24 13:46:24,945]\u001b[0m Trial 6 finished with value: 0.5483123516229741 and parameters: {'n_estimators': 121, 'max_depth': 27, 'min_samples_leaf': 8, 'min_samples_split': 5, 'subsample': 0.34402782664318454}. Best is trial 6 with value: 0.5483123516229741.\u001b[0m\n",
      "\u001b[32m[I 2023-08-24 13:46:26,757]\u001b[0m Trial 7 finished with value: 0.5466229416537345 and parameters: {'n_estimators': 165, 'max_depth': 19, 'min_samples_leaf': 6, 'min_samples_split': 7, 'subsample': 0.38440669797264226}. Best is trial 6 with value: 0.5483123516229741.\u001b[0m\n",
      "\u001b[32m[I 2023-08-24 13:46:28,703]\u001b[0m Trial 8 finished with value: 0.536827688317103 and parameters: {'n_estimators': 148, 'max_depth': 18, 'min_samples_leaf': 4, 'min_samples_split': 5, 'subsample': 0.37801637994495396}. Best is trial 6 with value: 0.5483123516229741.\u001b[0m\n",
      "\u001b[32m[I 2023-08-24 13:46:29,524]\u001b[0m Trial 9 finished with value: 0.4776636176337526 and parameters: {'n_estimators': 188, 'max_depth': 26, 'min_samples_leaf': 3, 'min_samples_split': 7, 'subsample': 0.12528396673996595}. Best is trial 6 with value: 0.5483123516229741.\u001b[0m\n",
      "\u001b[32m[I 2023-08-24 13:46:29,845]\u001b[0m Trial 10 finished with value: 0.37267362088145867 and parameters: {'n_estimators': 102, 'max_depth': 1, 'min_samples_leaf': 10, 'min_samples_split': 4, 'subsample': 0.33685839781707655}. Best is trial 6 with value: 0.5483123516229741.\u001b[0m\n",
      "\u001b[32m[I 2023-08-24 13:46:31,593]\u001b[0m Trial 11 finished with value: 0.5241150121711045 and parameters: {'n_estimators': 111, 'max_depth': 22, 'min_samples_leaf': 1, 'min_samples_split': 10, 'subsample': 0.36076658289247915}. Best is trial 6 with value: 0.5483123516229741.\u001b[0m\n",
      "\u001b[32m[I 2023-08-24 13:46:32,786]\u001b[0m Trial 12 finished with value: 0.5463328506855885 and parameters: {'n_estimators': 122, 'max_depth': 22, 'min_samples_leaf': 8, 'min_samples_split': 4, 'subsample': 0.3979751367964334}. Best is trial 6 with value: 0.5483123516229741.\u001b[0m\n",
      "\u001b[32m[I 2023-08-24 13:46:34,291]\u001b[0m Trial 13 finished with value: 0.5390522272743352 and parameters: {'n_estimators': 179, 'max_depth': 21, 'min_samples_leaf': 6, 'min_samples_split': 7, 'subsample': 0.3114055021554755}. Best is trial 6 with value: 0.5483123516229741.\u001b[0m\n",
      "\u001b[32m[I 2023-08-24 13:46:35,101]\u001b[0m Trial 14 finished with value: 0.5375251008267583 and parameters: {'n_estimators': 170, 'max_depth': 8, 'min_samples_leaf': 8, 'min_samples_split': 6, 'subsample': 0.21138014587681303}. Best is trial 6 with value: 0.5483123516229741.\u001b[0m\n",
      "\u001b[32m[I 2023-08-24 13:46:36,562]\u001b[0m Trial 15 finished with value: 0.5475047754177901 and parameters: {'n_estimators': 127, 'max_depth': 30, 'min_samples_leaf': 10, 'min_samples_split': 4, 'subsample': 0.49493152781891236}. Best is trial 6 with value: 0.5483123516229741.\u001b[0m\n",
      "\u001b[32m[I 2023-08-24 13:46:38,002]\u001b[0m Trial 16 finished with value: 0.5515606852669765 and parameters: {'n_estimators': 125, 'max_depth': 30, 'min_samples_leaf': 10, 'min_samples_split': 4, 'subsample': 0.4870393832065101}. Best is trial 16 with value: 0.5515606852669765.\u001b[0m\n",
      "\u001b[32m[I 2023-08-24 13:46:38,436]\u001b[0m Trial 17 finished with value: 0.48044391901593997 and parameters: {'n_estimators': 120, 'max_depth': 25, 'min_samples_leaf': 9, 'min_samples_split': 3, 'subsample': 0.16224130176954554}. Best is trial 16 with value: 0.5515606852669765.\u001b[0m\n",
      "\u001b[32m[I 2023-08-24 13:46:39,453]\u001b[0m Trial 18 finished with value: 0.5599180257882568 and parameters: {'n_estimators': 101, 'max_depth': 30, 'min_samples_leaf': 9, 'min_samples_split': 5, 'subsample': 0.4298987125468253}. Best is trial 18 with value: 0.5599180257882568.\u001b[0m\n",
      "\u001b[32m[I 2023-08-24 13:46:40,478]\u001b[0m Trial 19 finished with value: 0.5467193729990394 and parameters: {'n_estimators': 104, 'max_depth': 30, 'min_samples_leaf': 10, 'min_samples_split': 5, 'subsample': 0.4387493627339377}. Best is trial 18 with value: 0.5599180257882568.\u001b[0m\n",
      "\u001b[32m[I 2023-08-24 13:46:41,322]\u001b[0m Trial 20 finished with value: 0.558070678290381 and parameters: {'n_estimators': 111, 'max_depth': 4, 'min_samples_leaf': 9, 'min_samples_split': 3, 'subsample': 0.4714551908226905}. Best is trial 18 with value: 0.5599180257882568.\u001b[0m\n",
      "\u001b[32m[I 2023-08-24 13:46:42,262]\u001b[0m Trial 21 finished with value: 0.5503887855044375 and parameters: {'n_estimators': 109, 'max_depth': 5, 'min_samples_leaf': 9, 'min_samples_split': 3, 'subsample': 0.47423863262008453}. Best is trial 18 with value: 0.5599180257882568.\u001b[0m\n",
      "\u001b[32m[I 2023-08-24 13:46:42,699]\u001b[0m Trial 22 finished with value: 0.40259090577225454 and parameters: {'n_estimators': 131, 'max_depth': 1, 'min_samples_leaf': 9, 'min_samples_split': 3, 'subsample': 0.426556793934809}. Best is trial 18 with value: 0.5599180257882568.\u001b[0m\n",
      "\u001b[32m[I 2023-08-24 13:46:43,614]\u001b[0m Trial 23 finished with value: 0.5617087710100298 and parameters: {'n_estimators': 112, 'max_depth': 5, 'min_samples_leaf': 10, 'min_samples_split': 4, 'subsample': 0.4545346834387931}. Best is trial 23 with value: 0.5617087710100298.\u001b[0m\n",
      "\u001b[32m[I 2023-08-24 13:46:44,520]\u001b[0m Trial 24 finished with value: 0.5578162575250257 and parameters: {'n_estimators': 113, 'max_depth': 5, 'min_samples_leaf': 7, 'min_samples_split': 3, 'subsample': 0.40959309037330505}. Best is trial 23 with value: 0.5617087710100298.\u001b[0m\n",
      "\u001b[32m[I 2023-08-24 13:46:45,380]\u001b[0m Trial 25 finished with value: 0.5539363252060857 and parameters: {'n_estimators': 100, 'max_depth': 5, 'min_samples_leaf': 8, 'min_samples_split': 5, 'subsample': 0.45361111999153786}. Best is trial 23 with value: 0.5617087710100298.\u001b[0m\n",
      "\u001b[32m[I 2023-08-24 13:46:46,584]\u001b[0m Trial 26 finished with value: 0.5402459336332914 and parameters: {'n_estimators': 115, 'max_depth': 8, 'min_samples_leaf': 9, 'min_samples_split': 4, 'subsample': 0.4655953976257667}. Best is trial 23 with value: 0.5617087710100298.\u001b[0m\n",
      "\u001b[32m[I 2023-08-24 13:46:47,207]\u001b[0m Trial 27 finished with value: 0.5258073355380384 and parameters: {'n_estimators': 108, 'max_depth': 3, 'min_samples_leaf': 10, 'min_samples_split': 6, 'subsample': 0.4088562455055228}. Best is trial 23 with value: 0.5617087710100298.\u001b[0m\n",
      "\u001b[32m[I 2023-08-24 13:46:48,559]\u001b[0m Trial 28 finished with value: 0.5378107996060871 and parameters: {'n_estimators': 116, 'max_depth': 10, 'min_samples_leaf': 8, 'min_samples_split': 3, 'subsample': 0.4639831969268927}. Best is trial 23 with value: 0.5617087710100298.\u001b[0m\n",
      "\u001b[32m[I 2023-08-24 13:46:49,573]\u001b[0m Trial 29 finished with value: 0.5247709075351933 and parameters: {'n_estimators': 133, 'max_depth': 7, 'min_samples_leaf': 7, 'min_samples_split': 5, 'subsample': 0.3325111174122203}. Best is trial 23 with value: 0.5617087710100298.\u001b[0m\n",
      "\u001b[32m[I 2023-08-24 13:46:52,243]\u001b[0m Trial 30 finished with value: 0.5053414629460597 and parameters: {'n_estimators': 147, 'max_depth': 14, 'min_samples_leaf': 1, 'min_samples_split': 8, 'subsample': 0.4148845843565792}. Best is trial 23 with value: 0.5617087710100298.\u001b[0m\n",
      "\u001b[32m[I 2023-08-24 13:46:52,998]\u001b[0m Trial 31 finished with value: 0.5453909548839034 and parameters: {'n_estimators': 113, 'max_depth': 4, 'min_samples_leaf': 7, 'min_samples_split': 3, 'subsample': 0.37741398540553134}. Best is trial 23 with value: 0.5617087710100298.\u001b[0m\n",
      "\u001b[32m[I 2023-08-24 13:46:54,088]\u001b[0m Trial 32 finished with value: 0.5362751685400327 and parameters: {'n_estimators': 105, 'max_depth': 6, 'min_samples_leaf': 7, 'min_samples_split': 2, 'subsample': 0.4976746738755343}. Best is trial 23 with value: 0.5617087710100298.\u001b[0m\n",
      "\u001b[32m[I 2023-08-24 13:46:54,696]\u001b[0m Trial 33 finished with value: 0.5160515135062596 and parameters: {'n_estimators': 100, 'max_depth': 3, 'min_samples_leaf': 9, 'min_samples_split': 3, 'subsample': 0.413295877954523}. Best is trial 23 with value: 0.5617087710100298.\u001b[0m\n",
      "\u001b[32m[I 2023-08-24 13:46:56,233]\u001b[0m Trial 34 finished with value: 0.5423544314198296 and parameters: {'n_estimators': 138, 'max_depth': 10, 'min_samples_leaf': 8, 'min_samples_split': 4, 'subsample': 0.4525980177577552}. Best is trial 23 with value: 0.5617087710100298.\u001b[0m\n",
      "\u001b[32m[I 2023-08-24 13:46:57,168]\u001b[0m Trial 35 finished with value: 0.5529615725391877 and parameters: {'n_estimators': 117, 'max_depth': 10, 'min_samples_leaf': 5, 'min_samples_split': 2, 'subsample': 0.28414685767052045}. Best is trial 23 with value: 0.5617087710100298.\u001b[0m\n",
      "\u001b[32m[I 2023-08-24 13:46:58,244]\u001b[0m Trial 36 finished with value: 0.5556758635976197 and parameters: {'n_estimators': 109, 'max_depth': 13, 'min_samples_leaf': 10, 'min_samples_split': 6, 'subsample': 0.43699819418072794}. Best is trial 23 with value: 0.5617087710100298.\u001b[0m\n",
      "\u001b[32m[I 2023-08-24 13:47:00,038]\u001b[0m Trial 37 finished with value: 0.5388925151018713 and parameters: {'n_estimators': 155, 'max_depth': 16, 'min_samples_leaf': 9, 'min_samples_split': 2, 'subsample': 0.47465848368860647}. Best is trial 23 with value: 0.5617087710100298.\u001b[0m\n",
      "\u001b[32m[I 2023-08-24 13:47:00,626]\u001b[0m Trial 38 finished with value: 0.510069437221891 and parameters: {'n_estimators': 128, 'max_depth': 2, 'min_samples_leaf': 5, 'min_samples_split': 4, 'subsample': 0.3958517149811859}. Best is trial 23 with value: 0.5617087710100298.\u001b[0m\n",
      "\u001b[32m[I 2023-08-24 13:47:01,843]\u001b[0m Trial 39 finished with value: 0.5335316207714929 and parameters: {'n_estimators': 141, 'max_depth': 8, 'min_samples_leaf': 7, 'min_samples_split': 5, 'subsample': 0.36064087054538363}. Best is trial 23 with value: 0.5617087710100298.\u001b[0m\n",
      "\u001b[32m[I 2023-08-24 13:47:02,529]\u001b[0m Trial 40 finished with value: 0.5498040511086134 and parameters: {'n_estimators': 119, 'max_depth': 12, 'min_samples_leaf': 6, 'min_samples_split': 3, 'subsample': 0.2263128556589674}. Best is trial 23 with value: 0.5617087710100298.\u001b[0m\n",
      "\u001b[32m[I 2023-08-24 13:47:03,568]\u001b[0m Trial 41 finished with value: 0.5596654673139341 and parameters: {'n_estimators': 107, 'max_depth': 12, 'min_samples_leaf': 10, 'min_samples_split': 6, 'subsample': 0.43311513477648617}. Best is trial 23 with value: 0.5617087710100298.\u001b[0m\n",
      "\u001b[32m[I 2023-08-24 13:47:04,647]\u001b[0m Trial 42 finished with value: 0.5588737021598706 and parameters: {'n_estimators': 105, 'max_depth': 17, 'min_samples_leaf': 9, 'min_samples_split': 6, 'subsample': 0.4302793944723348}. Best is trial 23 with value: 0.5617087710100298.\u001b[0m\n",
      "\u001b[32m[I 2023-08-24 13:47:05,656]\u001b[0m Trial 43 finished with value: 0.5656345679600967 and parameters: {'n_estimators': 107, 'max_depth': 19, 'min_samples_leaf': 10, 'min_samples_split': 7, 'subsample': 0.4262643030202733}. Best is trial 43 with value: 0.5656345679600967.\u001b[0m\n",
      "\u001b[32m[I 2023-08-24 13:47:06,638]\u001b[0m Trial 44 finished with value: 0.5693622604997562 and parameters: {'n_estimators': 104, 'max_depth': 18, 'min_samples_leaf': 10, 'min_samples_split': 8, 'subsample': 0.42698585699293534}. Best is trial 44 with value: 0.5693622604997562.\u001b[0m\n",
      "\u001b[32m[I 2023-08-24 13:47:07,504]\u001b[0m Trial 45 finished with value: 0.5665885516898486 and parameters: {'n_estimators': 105, 'max_depth': 19, 'min_samples_leaf': 10, 'min_samples_split': 8, 'subsample': 0.3785178516766532}. Best is trial 44 with value: 0.5693622604997562.\u001b[0m\n",
      "\u001b[32m[I 2023-08-24 13:47:08,262]\u001b[0m Trial 46 finished with value: 0.5487397456602038 and parameters: {'n_estimators': 100, 'max_depth': 19, 'min_samples_leaf': 10, 'min_samples_split': 8, 'subsample': 0.35988560429373284}. Best is trial 44 with value: 0.5693622604997562.\u001b[0m\n",
      "\u001b[32m[I 2023-08-24 13:47:09,281]\u001b[0m Trial 47 finished with value: 0.5475252947604734 and parameters: {'n_estimators': 123, 'max_depth': 24, 'min_samples_leaf': 10, 'min_samples_split': 9, 'subsample': 0.3839300591136857}. Best is trial 44 with value: 0.5693622604997562.\u001b[0m\n",
      "\u001b[32m[I 2023-08-24 13:47:10,539]\u001b[0m Trial 48 finished with value: 0.5264184118748879 and parameters: {'n_estimators': 193, 'max_depth': 21, 'min_samples_leaf': 10, 'min_samples_split': 7, 'subsample': 0.31355825236730356}. Best is trial 44 with value: 0.5693622604997562.\u001b[0m\n",
      "\u001b[32m[I 2023-08-24 13:47:11,506]\u001b[0m Trial 49 finished with value: 0.5410433936784618 and parameters: {'n_estimators': 105, 'max_depth': 19, 'min_samples_leaf': 9, 'min_samples_split': 9, 'subsample': 0.3953563886662529}. Best is trial 44 with value: 0.5693622604997562.\u001b[0m\n",
      "\u001b[32m[I 2023-08-24 13:47:13,411]\u001b[0m Trial 50 finished with value: 0.5050892971341868 and parameters: {'n_estimators': 112, 'max_depth': 15, 'min_samples_leaf': 3, 'min_samples_split': 8, 'subsample': 0.44977621665032147}. Best is trial 44 with value: 0.5693622604997562.\u001b[0m\n",
      "\u001b[32m[I 2023-08-24 13:47:14,395]\u001b[0m Trial 51 finished with value: 0.5632389097075581 and parameters: {'n_estimators': 107, 'max_depth': 17, 'min_samples_leaf': 10, 'min_samples_split': 7, 'subsample': 0.4234751954547624}. Best is trial 44 with value: 0.5693622604997562.\u001b[0m\n",
      "\u001b[32m[I 2023-08-24 13:47:15,343]\u001b[0m Trial 52 finished with value: 0.5526001722605016 and parameters: {'n_estimators': 103, 'max_depth': 18, 'min_samples_leaf': 10, 'min_samples_split': 7, 'subsample': 0.41848830934357545}. Best is trial 44 with value: 0.5693622604997562.\u001b[0m\n",
      "\u001b[32m[I 2023-08-24 13:47:16,207]\u001b[0m Trial 53 finished with value: 0.5469417024116267 and parameters: {'n_estimators': 108, 'max_depth': 24, 'min_samples_leaf': 10, 'min_samples_split': 7, 'subsample': 0.371730425005631}. Best is trial 44 with value: 0.5693622604997562.\u001b[0m\n",
      "\u001b[32m[I 2023-08-24 13:47:17,288]\u001b[0m Trial 54 finished with value: 0.5574199869363863 and parameters: {'n_estimators': 118, 'max_depth': 20, 'min_samples_leaf': 9, 'min_samples_split': 8, 'subsample': 0.39371788228621296}. Best is trial 44 with value: 0.5693622604997562.\u001b[0m\n",
      "\u001b[32m[I 2023-08-24 13:47:18,320]\u001b[0m Trial 55 finished with value: 0.5529626300798072 and parameters: {'n_estimators': 104, 'max_depth': 28, 'min_samples_leaf': 10, 'min_samples_split': 10, 'subsample': 0.4446351974345467}. Best is trial 44 with value: 0.5693622604997562.\u001b[0m\n",
      "\u001b[32m[I 2023-08-24 13:47:19,512]\u001b[0m Trial 56 finished with value: 0.5451333920151786 and parameters: {'n_estimators': 113, 'max_depth': 17, 'min_samples_leaf': 8, 'min_samples_split': 8, 'subsample': 0.4245318202644956}. Best is trial 44 with value: 0.5693622604997562.\u001b[0m\n",
      "\u001b[32m[I 2023-08-24 13:47:20,615]\u001b[0m Trial 57 finished with value: 0.5443617133859888 and parameters: {'n_estimators': 100, 'max_depth': 23, 'min_samples_leaf': 10, 'min_samples_split': 9, 'subsample': 0.48343129799716916}. Best is trial 44 with value: 0.5693622604997562.\u001b[0m\n",
      "\u001b[32m[I 2023-08-24 13:47:21,552]\u001b[0m Trial 58 finished with value: 0.5422141305028546 and parameters: {'n_estimators': 123, 'max_depth': 16, 'min_samples_leaf': 9, 'min_samples_split': 7, 'subsample': 0.3430340656702088}. Best is trial 44 with value: 0.5693622604997562.\u001b[0m\n",
      "\u001b[32m[I 2023-08-24 13:47:22,036]\u001b[0m Trial 59 finished with value: 0.4857363822117563 and parameters: {'n_estimators': 110, 'max_depth': 21, 'min_samples_leaf': 2, 'min_samples_split': 7, 'subsample': 0.11264342550342013}. Best is trial 44 with value: 0.5693622604997562.\u001b[0m\n",
      "\u001b[32m[I 2023-08-24 13:47:23,913]\u001b[0m Trial 60 finished with value: 0.5300634091893179 and parameters: {'n_estimators': 174, 'max_depth': 18, 'min_samples_leaf': 10, 'min_samples_split': 8, 'subsample': 0.4633448073922056}. Best is trial 44 with value: 0.5693622604997562.\u001b[0m\n",
      "\u001b[32m[I 2023-08-24 13:47:24,950]\u001b[0m Trial 61 finished with value: 0.5610437060336334 and parameters: {'n_estimators': 106, 'max_depth': 14, 'min_samples_leaf': 10, 'min_samples_split': 6, 'subsample': 0.4373610851121193}. Best is trial 44 with value: 0.5693622604997562.\u001b[0m\n",
      "\u001b[32m[I 2023-08-24 13:47:26,098]\u001b[0m Trial 62 finished with value: 0.545544446142911 and parameters: {'n_estimators': 107, 'max_depth': 20, 'min_samples_leaf': 9, 'min_samples_split': 5, 'subsample': 0.4537549910716275}. Best is trial 44 with value: 0.5693622604997562.\u001b[0m\n",
      "\u001b[32m[I 2023-08-24 13:47:27,104]\u001b[0m Trial 63 finished with value: 0.5487623636563085 and parameters: {'n_estimators': 115, 'max_depth': 15, 'min_samples_leaf': 10, 'min_samples_split': 6, 'subsample': 0.4023049526486644}. Best is trial 44 with value: 0.5693622604997562.\u001b[0m\n",
      "\u001b[32m[I 2023-08-24 13:47:28,123]\u001b[0m Trial 64 finished with value: 0.5603382356994999 and parameters: {'n_estimators': 103, 'max_depth': 26, 'min_samples_leaf': 10, 'min_samples_split': 7, 'subsample': 0.4375769811169657}. Best is trial 44 with value: 0.5693622604997562.\u001b[0m\n",
      "\u001b[32m[I 2023-08-24 13:47:29,250]\u001b[0m Trial 65 finished with value: 0.5633791135406465 and parameters: {'n_estimators': 103, 'max_depth': 28, 'min_samples_leaf': 10, 'min_samples_split': 7, 'subsample': 0.48161232707193385}. Best is trial 44 with value: 0.5693622604997562.\u001b[0m\n",
      "\u001b[32m[I 2023-08-24 13:47:30,518]\u001b[0m Trial 66 finished with value: 0.5561758090122251 and parameters: {'n_estimators': 110, 'max_depth': 22, 'min_samples_leaf': 10, 'min_samples_split': 8, 'subsample': 0.48752850366557243}. Best is trial 44 with value: 0.5693622604997562.\u001b[0m\n",
      "\u001b[32m[I 2023-08-24 13:47:31,846]\u001b[0m Trial 67 finished with value: 0.5521506418883029 and parameters: {'n_estimators': 115, 'max_depth': 28, 'min_samples_leaf': 9, 'min_samples_split': 7, 'subsample': 0.4793624491615864}. Best is trial 44 with value: 0.5693622604997562.\u001b[0m\n",
      "\u001b[32m[I 2023-08-24 13:47:32,963]\u001b[0m Trial 68 finished with value: 0.5362324188191046 and parameters: {'n_estimators': 106, 'max_depth': 17, 'min_samples_leaf': 10, 'min_samples_split': 8, 'subsample': 0.46537071408637515}. Best is trial 44 with value: 0.5693622604997562.\u001b[0m\n",
      "\u001b[32m[I 2023-08-24 13:47:34,432]\u001b[0m Trial 69 finished with value: 0.5447074707942006 and parameters: {'n_estimators': 120, 'max_depth': 14, 'min_samples_leaf': 9, 'min_samples_split': 7, 'subsample': 0.4966908242052016}. Best is trial 44 with value: 0.5693622604997562.\u001b[0m\n",
      "\u001b[32m[I 2023-08-24 13:47:35,626]\u001b[0m Trial 70 finished with value: 0.5487689162651934 and parameters: {'n_estimators': 103, 'max_depth': 20, 'min_samples_leaf': 8, 'min_samples_split': 9, 'subsample': 0.45735872403127137}. Best is trial 44 with value: 0.5693622604997562.\u001b[0m\n",
      "\u001b[32m[I 2023-08-24 13:47:36,633]\u001b[0m Trial 71 finished with value: 0.5593033137969511 and parameters: {'n_estimators': 103, 'max_depth': 26, 'min_samples_leaf': 10, 'min_samples_split': 7, 'subsample': 0.4418833499751081}. Best is trial 44 with value: 0.5693622604997562.\u001b[0m\n",
      "\u001b[32m[I 2023-08-24 13:47:37,687]\u001b[0m Trial 72 finished with value: 0.5645916670328237 and parameters: {'n_estimators': 110, 'max_depth': 27, 'min_samples_leaf': 10, 'min_samples_split': 7, 'subsample': 0.4260563461951487}. Best is trial 44 with value: 0.5693622604997562.\u001b[0m\n",
      "\u001b[32m[I 2023-08-24 13:47:38,728]\u001b[0m Trial 73 finished with value: 0.5771793379662327 and parameters: {'n_estimators': 111, 'max_depth': 29, 'min_samples_leaf': 10, 'min_samples_split': 6, 'subsample': 0.4216369159388182}. Best is trial 73 with value: 0.5771793379662327.\u001b[0m\n",
      "\u001b[32m[I 2023-08-24 13:47:39,802]\u001b[0m Trial 74 finished with value: 0.5512040090513551 and parameters: {'n_estimators': 112, 'max_depth': 28, 'min_samples_leaf': 9, 'min_samples_split': 8, 'subsample': 0.4155408937288984}. Best is trial 73 with value: 0.5771793379662327.\u001b[0m\n",
      "\u001b[32m[I 2023-08-24 13:47:40,711]\u001b[0m Trial 75 finished with value: 0.5776046177392123 and parameters: {'n_estimators': 110, 'max_depth': 29, 'min_samples_leaf': 10, 'min_samples_split': 7, 'subsample': 0.3857053332429903}. Best is trial 75 with value: 0.5776046177392123.\u001b[0m\n",
      "\u001b[32m[I 2023-08-24 13:47:41,720]\u001b[0m Trial 76 finished with value: 0.5584824752930665 and parameters: {'n_estimators': 126, 'max_depth': 29, 'min_samples_leaf': 10, 'min_samples_split': 7, 'subsample': 0.3701295005512987}. Best is trial 75 with value: 0.5776046177392123.\u001b[0m\n",
      "\u001b[32m[I 2023-08-24 13:47:42,684]\u001b[0m Trial 77 finished with value: 0.5529407001623639 and parameters: {'n_estimators': 109, 'max_depth': 27, 'min_samples_leaf': 9, 'min_samples_split': 6, 'subsample': 0.38763806735476874}. Best is trial 75 with value: 0.5776046177392123.\u001b[0m\n",
      "\u001b[32m[I 2023-08-24 13:47:43,722]\u001b[0m Trial 78 finished with value: 0.5480732456944111 and parameters: {'n_estimators': 116, 'max_depth': 29, 'min_samples_leaf': 10, 'min_samples_split': 7, 'subsample': 0.40615350039067627}. Best is trial 75 with value: 0.5776046177392123.\u001b[0m\n",
      "\u001b[32m[I 2023-08-24 13:47:44,863]\u001b[0m Trial 79 finished with value: 0.5132407860254079 and parameters: {'n_estimators': 158, 'max_depth': 29, 'min_samples_leaf': 9, 'min_samples_split': 6, 'subsample': 0.32512234788192473}. Best is trial 75 with value: 0.5776046177392123.\u001b[0m\n",
      "\u001b[32m[I 2023-08-24 13:47:45,712]\u001b[0m Trial 80 finished with value: 0.5561674089314158 and parameters: {'n_estimators': 114, 'max_depth': 25, 'min_samples_leaf': 10, 'min_samples_split': 8, 'subsample': 0.35208644769866115}. Best is trial 75 with value: 0.5776046177392123.\u001b[0m\n",
      "\u001b[32m[I 2023-08-24 13:47:46,746]\u001b[0m Trial 81 finished with value: 0.5619872583155094 and parameters: {'n_estimators': 111, 'max_depth': 27, 'min_samples_leaf': 10, 'min_samples_split': 7, 'subsample': 0.42311898330964626}. Best is trial 75 with value: 0.5776046177392123.\u001b[0m\n",
      "\u001b[32m[I 2023-08-24 13:47:47,778]\u001b[0m Trial 82 finished with value: 0.5582446467681329 and parameters: {'n_estimators': 110, 'max_depth': 27, 'min_samples_leaf': 10, 'min_samples_split': 7, 'subsample': 0.4254156631603367}. Best is trial 75 with value: 0.5776046177392123.\u001b[0m\n",
      "\u001b[32m[I 2023-08-24 13:47:48,765]\u001b[0m Trial 83 finished with value: 0.5702347840000451 and parameters: {'n_estimators': 107, 'max_depth': 30, 'min_samples_leaf': 10, 'min_samples_split': 6, 'subsample': 0.4201804687931059}. Best is trial 75 with value: 0.5776046177392123.\u001b[0m\n",
      "\u001b[32m[I 2023-08-24 13:47:49,645]\u001b[0m Trial 84 finished with value: 0.5470063051043844 and parameters: {'n_estimators': 107, 'max_depth': 30, 'min_samples_leaf': 10, 'min_samples_split': 6, 'subsample': 0.3832213433615097}. Best is trial 75 with value: 0.5776046177392123.\u001b[0m\n",
      "\u001b[32m[I 2023-08-24 13:47:50,777]\u001b[0m Trial 85 finished with value: 0.5510143928542964 and parameters: {'n_estimators': 119, 'max_depth': 29, 'min_samples_leaf': 9, 'min_samples_split': 6, 'subsample': 0.40537405299184354}. Best is trial 75 with value: 0.5776046177392123.\u001b[0m\n",
      "\u001b[32m[I 2023-08-24 13:47:51,320]\u001b[0m Trial 86 finished with value: 0.5432043780633349 and parameters: {'n_estimators': 102, 'max_depth': 30, 'min_samples_leaf': 10, 'min_samples_split': 6, 'subsample': 0.2609571884109353}. Best is trial 75 with value: 0.5776046177392123.\u001b[0m\n",
      "\u001b[32m[I 2023-08-24 13:47:52,727]\u001b[0m Trial 87 finished with value: 0.5547974544758087 and parameters: {'n_estimators': 144, 'max_depth': 25, 'min_samples_leaf': 9, 'min_samples_split': 8, 'subsample': 0.4174412571035799}. Best is trial 75 with value: 0.5776046177392123.\u001b[0m\n",
      "\u001b[32m[I 2023-08-24 13:47:53,523]\u001b[0m Trial 88 finished with value: 0.5537286007687534 and parameters: {'n_estimators': 100, 'max_depth': 28, 'min_samples_leaf': 10, 'min_samples_split': 7, 'subsample': 0.3738717318867685}. Best is trial 75 with value: 0.5776046177392123.\u001b[0m\n",
      "\u001b[32m[I 2023-08-24 13:47:54,450]\u001b[0m Trial 89 finished with value: 0.5590466798519159 and parameters: {'n_estimators': 107, 'max_depth': 29, 'min_samples_leaf': 10, 'min_samples_split': 6, 'subsample': 0.3962528246222713}. Best is trial 75 with value: 0.5776046177392123.\u001b[0m\n",
      "\u001b[32m[I 2023-08-24 13:47:55,526]\u001b[0m Trial 90 finished with value: 0.5502720935261556 and parameters: {'n_estimators': 122, 'max_depth': 26, 'min_samples_leaf': 9, 'min_samples_split': 7, 'subsample': 0.3870224387797732}. Best is trial 75 with value: 0.5776046177392123.\u001b[0m\n",
      "\u001b[32m[I 2023-08-24 13:47:56,553]\u001b[0m Trial 91 finished with value: 0.5619852264867112 and parameters: {'n_estimators': 111, 'max_depth': 18, 'min_samples_leaf': 10, 'min_samples_split': 7, 'subsample': 0.42447726780248896}. Best is trial 75 with value: 0.5776046177392123.\u001b[0m\n",
      "\u001b[32m[I 2023-08-24 13:47:57,627]\u001b[0m Trial 92 finished with value: 0.5370775306134481 and parameters: {'n_estimators': 117, 'max_depth': 27, 'min_samples_leaf': 10, 'min_samples_split': 7, 'subsample': 0.410169421050131}. Best is trial 75 with value: 0.5776046177392123.\u001b[0m\n",
      "\u001b[32m[I 2023-08-24 13:47:58,686]\u001b[0m Trial 93 finished with value: 0.5446818856312335 and parameters: {'n_estimators': 105, 'max_depth': 30, 'min_samples_leaf': 10, 'min_samples_split': 8, 'subsample': 0.4472263205827414}. Best is trial 75 with value: 0.5776046177392123.\u001b[0m\n",
      "\u001b[32m[I 2023-08-24 13:47:59,756]\u001b[0m Trial 94 finished with value: 0.5760756808380563 and parameters: {'n_estimators': 113, 'max_depth': 27, 'min_samples_leaf': 10, 'min_samples_split': 7, 'subsample': 0.4217149164180642}. Best is trial 75 with value: 0.5776046177392123.\u001b[0m\n",
      "\u001b[32m[I 2023-08-24 13:48:00,726]\u001b[0m Trial 95 finished with value: 0.5519465978803278 and parameters: {'n_estimators': 102, 'max_depth': 28, 'min_samples_leaf': 10, 'min_samples_split': 6, 'subsample': 0.43092649263058713}. Best is trial 75 with value: 0.5776046177392123.\u001b[0m\n",
      "\u001b[32m[I 2023-08-24 13:48:01,169]\u001b[0m Trial 96 finished with value: 0.4935535400211088 and parameters: {'n_estimators': 129, 'max_depth': 24, 'min_samples_leaf': 9, 'min_samples_split': 8, 'subsample': 0.15097835170436927}. Best is trial 75 with value: 0.5776046177392123.\u001b[0m\n",
      "\u001b[32m[I 2023-08-24 13:48:02,487]\u001b[0m Trial 97 finished with value: 0.5414514506177748 and parameters: {'n_estimators': 108, 'max_depth': 19, 'min_samples_leaf': 5, 'min_samples_split': 7, 'subsample': 0.39971000570015053}. Best is trial 75 with value: 0.5776046177392123.\u001b[0m\n",
      "\u001b[32m[I 2023-08-24 13:48:03,369]\u001b[0m Trial 98 finished with value: 0.5620444934282665 and parameters: {'n_estimators': 114, 'max_depth': 23, 'min_samples_leaf': 10, 'min_samples_split': 6, 'subsample': 0.3666699929018625}. Best is trial 75 with value: 0.5776046177392123.\u001b[0m\n",
      "\u001b[32m[I 2023-08-24 13:48:04,315]\u001b[0m Trial 99 finished with value: 0.5602839352051013 and parameters: {'n_estimators': 104, 'max_depth': 29, 'min_samples_leaf': 10, 'min_samples_split': 9, 'subsample': 0.41505583318713823}. Best is trial 75 with value: 0.5776046177392123.\u001b[0m\n"
     ]
    },
    {
     "name": "stdout",
     "output_type": "stream",
     "text": [
      "Best r2:  0.5776046177392123\n",
      "Best trial: {'n_estimators': 110, 'max_depth': 29, 'min_samples_leaf': 10, 'min_samples_split': 7, 'subsample': 0.3857053332429903}\n"
     ]
    }
   ],
   "source": [
    "sampler = TPESampler()\n",
    "study = optuna.create_study(\n",
    "    study_name=\"gb_parameter_opt\",\n",
    "    direction=\"maximize\",\n",
    "    sampler=sampler,\n",
    ")\n",
    "\n",
    "study.optimize(lambda trial : objectiveGB(trial, As_X_train, As_y_train), n_trials=100)\n",
    "print(\"Best r2: \", study.best_value)\n",
    "print(\"Best trial:\", study.best_trial.params)"
   ]
  },
  {
   "cell_type": "code",
   "execution_count": 27,
   "id": "8ec7571f",
   "metadata": {},
   "outputs": [
    {
     "data": {
      "application/vnd.plotly.v1+json": {
       "config": {
        "plotlyServerURL": "https://plot.ly"
       },
       "data": [
        {
         "mode": "markers",
         "name": "Objective Value",
         "type": "scatter",
         "x": [
          0,
          1,
          2,
          3,
          4,
          5,
          6,
          7,
          8,
          9,
          10,
          11,
          12,
          13,
          14,
          15,
          16,
          17,
          18,
          19,
          20,
          21,
          22,
          23,
          24,
          25,
          26,
          27,
          28,
          29,
          30,
          31,
          32,
          33,
          34,
          35,
          36,
          37,
          38,
          39,
          40,
          41,
          42,
          43,
          44,
          45,
          46,
          47,
          48,
          49,
          50,
          51,
          52,
          53,
          54,
          55,
          56,
          57,
          58,
          59,
          60,
          61,
          62,
          63,
          64,
          65,
          66,
          67,
          68,
          69,
          70,
          71,
          72,
          73,
          74,
          75,
          76,
          77,
          78,
          79,
          80,
          81,
          82,
          83,
          84,
          85,
          86,
          87,
          88,
          89,
          90,
          91,
          92,
          93,
          94,
          95,
          96,
          97,
          98,
          99
         ],
         "y": [
          0.5054701003821543,
          0.5308767805135004,
          0.5302638163531757,
          0.5320293172617997,
          0.5076955350613027,
          0.5113332136055877,
          0.5483123516229741,
          0.5466229416537345,
          0.536827688317103,
          0.4776636176337526,
          0.37267362088145867,
          0.5241150121711045,
          0.5463328506855885,
          0.5390522272743352,
          0.5375251008267583,
          0.5475047754177901,
          0.5515606852669765,
          0.48044391901593997,
          0.5599180257882568,
          0.5467193729990394,
          0.558070678290381,
          0.5503887855044375,
          0.40259090577225454,
          0.5617087710100298,
          0.5578162575250257,
          0.5539363252060857,
          0.5402459336332914,
          0.5258073355380384,
          0.5378107996060871,
          0.5247709075351933,
          0.5053414629460597,
          0.5453909548839034,
          0.5362751685400327,
          0.5160515135062596,
          0.5423544314198296,
          0.5529615725391877,
          0.5556758635976197,
          0.5388925151018713,
          0.510069437221891,
          0.5335316207714929,
          0.5498040511086134,
          0.5596654673139341,
          0.5588737021598706,
          0.5656345679600967,
          0.5693622604997562,
          0.5665885516898486,
          0.5487397456602038,
          0.5475252947604734,
          0.5264184118748879,
          0.5410433936784618,
          0.5050892971341868,
          0.5632389097075581,
          0.5526001722605016,
          0.5469417024116267,
          0.5574199869363863,
          0.5529626300798072,
          0.5451333920151786,
          0.5443617133859888,
          0.5422141305028546,
          0.4857363822117563,
          0.5300634091893179,
          0.5610437060336334,
          0.545544446142911,
          0.5487623636563085,
          0.5603382356994999,
          0.5633791135406465,
          0.5561758090122251,
          0.5521506418883029,
          0.5362324188191046,
          0.5447074707942006,
          0.5487689162651934,
          0.5593033137969511,
          0.5645916670328237,
          0.5771793379662327,
          0.5512040090513551,
          0.5776046177392123,
          0.5584824752930665,
          0.5529407001623639,
          0.5480732456944111,
          0.5132407860254079,
          0.5561674089314158,
          0.5619872583155094,
          0.5582446467681329,
          0.5702347840000451,
          0.5470063051043844,
          0.5510143928542964,
          0.5432043780633349,
          0.5547974544758087,
          0.5537286007687534,
          0.5590466798519159,
          0.5502720935261556,
          0.5619852264867112,
          0.5370775306134481,
          0.5446818856312335,
          0.5760756808380563,
          0.5519465978803278,
          0.4935535400211088,
          0.5414514506177748,
          0.5620444934282665,
          0.5602839352051013
         ]
        },
        {
         "name": "Best Value",
         "type": "scatter",
         "x": [
          0,
          1,
          2,
          3,
          4,
          5,
          6,
          7,
          8,
          9,
          10,
          11,
          12,
          13,
          14,
          15,
          16,
          17,
          18,
          19,
          20,
          21,
          22,
          23,
          24,
          25,
          26,
          27,
          28,
          29,
          30,
          31,
          32,
          33,
          34,
          35,
          36,
          37,
          38,
          39,
          40,
          41,
          42,
          43,
          44,
          45,
          46,
          47,
          48,
          49,
          50,
          51,
          52,
          53,
          54,
          55,
          56,
          57,
          58,
          59,
          60,
          61,
          62,
          63,
          64,
          65,
          66,
          67,
          68,
          69,
          70,
          71,
          72,
          73,
          74,
          75,
          76,
          77,
          78,
          79,
          80,
          81,
          82,
          83,
          84,
          85,
          86,
          87,
          88,
          89,
          90,
          91,
          92,
          93,
          94,
          95,
          96,
          97,
          98,
          99
         ],
         "y": [
          0.5054701003821543,
          0.5308767805135004,
          0.5308767805135004,
          0.5320293172617997,
          0.5320293172617997,
          0.5320293172617997,
          0.5483123516229741,
          0.5483123516229741,
          0.5483123516229741,
          0.5483123516229741,
          0.5483123516229741,
          0.5483123516229741,
          0.5483123516229741,
          0.5483123516229741,
          0.5483123516229741,
          0.5483123516229741,
          0.5515606852669765,
          0.5515606852669765,
          0.5599180257882568,
          0.5599180257882568,
          0.5599180257882568,
          0.5599180257882568,
          0.5599180257882568,
          0.5617087710100298,
          0.5617087710100298,
          0.5617087710100298,
          0.5617087710100298,
          0.5617087710100298,
          0.5617087710100298,
          0.5617087710100298,
          0.5617087710100298,
          0.5617087710100298,
          0.5617087710100298,
          0.5617087710100298,
          0.5617087710100298,
          0.5617087710100298,
          0.5617087710100298,
          0.5617087710100298,
          0.5617087710100298,
          0.5617087710100298,
          0.5617087710100298,
          0.5617087710100298,
          0.5617087710100298,
          0.5656345679600967,
          0.5693622604997562,
          0.5693622604997562,
          0.5693622604997562,
          0.5693622604997562,
          0.5693622604997562,
          0.5693622604997562,
          0.5693622604997562,
          0.5693622604997562,
          0.5693622604997562,
          0.5693622604997562,
          0.5693622604997562,
          0.5693622604997562,
          0.5693622604997562,
          0.5693622604997562,
          0.5693622604997562,
          0.5693622604997562,
          0.5693622604997562,
          0.5693622604997562,
          0.5693622604997562,
          0.5693622604997562,
          0.5693622604997562,
          0.5693622604997562,
          0.5693622604997562,
          0.5693622604997562,
          0.5693622604997562,
          0.5693622604997562,
          0.5693622604997562,
          0.5693622604997562,
          0.5693622604997562,
          0.5771793379662327,
          0.5771793379662327,
          0.5776046177392123,
          0.5776046177392123,
          0.5776046177392123,
          0.5776046177392123,
          0.5776046177392123,
          0.5776046177392123,
          0.5776046177392123,
          0.5776046177392123,
          0.5776046177392123,
          0.5776046177392123,
          0.5776046177392123,
          0.5776046177392123,
          0.5776046177392123,
          0.5776046177392123,
          0.5776046177392123,
          0.5776046177392123,
          0.5776046177392123,
          0.5776046177392123,
          0.5776046177392123,
          0.5776046177392123,
          0.5776046177392123,
          0.5776046177392123,
          0.5776046177392123,
          0.5776046177392123,
          0.5776046177392123
         ]
        }
       ],
       "layout": {
        "template": {
         "data": {
          "bar": [
           {
            "error_x": {
             "color": "#2a3f5f"
            },
            "error_y": {
             "color": "#2a3f5f"
            },
            "marker": {
             "line": {
              "color": "#E5ECF6",
              "width": 0.5
             },
             "pattern": {
              "fillmode": "overlay",
              "size": 10,
              "solidity": 0.2
             }
            },
            "type": "bar"
           }
          ],
          "barpolar": [
           {
            "marker": {
             "line": {
              "color": "#E5ECF6",
              "width": 0.5
             },
             "pattern": {
              "fillmode": "overlay",
              "size": 10,
              "solidity": 0.2
             }
            },
            "type": "barpolar"
           }
          ],
          "carpet": [
           {
            "aaxis": {
             "endlinecolor": "#2a3f5f",
             "gridcolor": "white",
             "linecolor": "white",
             "minorgridcolor": "white",
             "startlinecolor": "#2a3f5f"
            },
            "baxis": {
             "endlinecolor": "#2a3f5f",
             "gridcolor": "white",
             "linecolor": "white",
             "minorgridcolor": "white",
             "startlinecolor": "#2a3f5f"
            },
            "type": "carpet"
           }
          ],
          "choropleth": [
           {
            "colorbar": {
             "outlinewidth": 0,
             "ticks": ""
            },
            "type": "choropleth"
           }
          ],
          "contour": [
           {
            "colorbar": {
             "outlinewidth": 0,
             "ticks": ""
            },
            "colorscale": [
             [
              0,
              "#0d0887"
             ],
             [
              0.1111111111111111,
              "#46039f"
             ],
             [
              0.2222222222222222,
              "#7201a8"
             ],
             [
              0.3333333333333333,
              "#9c179e"
             ],
             [
              0.4444444444444444,
              "#bd3786"
             ],
             [
              0.5555555555555556,
              "#d8576b"
             ],
             [
              0.6666666666666666,
              "#ed7953"
             ],
             [
              0.7777777777777778,
              "#fb9f3a"
             ],
             [
              0.8888888888888888,
              "#fdca26"
             ],
             [
              1,
              "#f0f921"
             ]
            ],
            "type": "contour"
           }
          ],
          "contourcarpet": [
           {
            "colorbar": {
             "outlinewidth": 0,
             "ticks": ""
            },
            "type": "contourcarpet"
           }
          ],
          "heatmap": [
           {
            "colorbar": {
             "outlinewidth": 0,
             "ticks": ""
            },
            "colorscale": [
             [
              0,
              "#0d0887"
             ],
             [
              0.1111111111111111,
              "#46039f"
             ],
             [
              0.2222222222222222,
              "#7201a8"
             ],
             [
              0.3333333333333333,
              "#9c179e"
             ],
             [
              0.4444444444444444,
              "#bd3786"
             ],
             [
              0.5555555555555556,
              "#d8576b"
             ],
             [
              0.6666666666666666,
              "#ed7953"
             ],
             [
              0.7777777777777778,
              "#fb9f3a"
             ],
             [
              0.8888888888888888,
              "#fdca26"
             ],
             [
              1,
              "#f0f921"
             ]
            ],
            "type": "heatmap"
           }
          ],
          "heatmapgl": [
           {
            "colorbar": {
             "outlinewidth": 0,
             "ticks": ""
            },
            "colorscale": [
             [
              0,
              "#0d0887"
             ],
             [
              0.1111111111111111,
              "#46039f"
             ],
             [
              0.2222222222222222,
              "#7201a8"
             ],
             [
              0.3333333333333333,
              "#9c179e"
             ],
             [
              0.4444444444444444,
              "#bd3786"
             ],
             [
              0.5555555555555556,
              "#d8576b"
             ],
             [
              0.6666666666666666,
              "#ed7953"
             ],
             [
              0.7777777777777778,
              "#fb9f3a"
             ],
             [
              0.8888888888888888,
              "#fdca26"
             ],
             [
              1,
              "#f0f921"
             ]
            ],
            "type": "heatmapgl"
           }
          ],
          "histogram": [
           {
            "marker": {
             "pattern": {
              "fillmode": "overlay",
              "size": 10,
              "solidity": 0.2
             }
            },
            "type": "histogram"
           }
          ],
          "histogram2d": [
           {
            "colorbar": {
             "outlinewidth": 0,
             "ticks": ""
            },
            "colorscale": [
             [
              0,
              "#0d0887"
             ],
             [
              0.1111111111111111,
              "#46039f"
             ],
             [
              0.2222222222222222,
              "#7201a8"
             ],
             [
              0.3333333333333333,
              "#9c179e"
             ],
             [
              0.4444444444444444,
              "#bd3786"
             ],
             [
              0.5555555555555556,
              "#d8576b"
             ],
             [
              0.6666666666666666,
              "#ed7953"
             ],
             [
              0.7777777777777778,
              "#fb9f3a"
             ],
             [
              0.8888888888888888,
              "#fdca26"
             ],
             [
              1,
              "#f0f921"
             ]
            ],
            "type": "histogram2d"
           }
          ],
          "histogram2dcontour": [
           {
            "colorbar": {
             "outlinewidth": 0,
             "ticks": ""
            },
            "colorscale": [
             [
              0,
              "#0d0887"
             ],
             [
              0.1111111111111111,
              "#46039f"
             ],
             [
              0.2222222222222222,
              "#7201a8"
             ],
             [
              0.3333333333333333,
              "#9c179e"
             ],
             [
              0.4444444444444444,
              "#bd3786"
             ],
             [
              0.5555555555555556,
              "#d8576b"
             ],
             [
              0.6666666666666666,
              "#ed7953"
             ],
             [
              0.7777777777777778,
              "#fb9f3a"
             ],
             [
              0.8888888888888888,
              "#fdca26"
             ],
             [
              1,
              "#f0f921"
             ]
            ],
            "type": "histogram2dcontour"
           }
          ],
          "mesh3d": [
           {
            "colorbar": {
             "outlinewidth": 0,
             "ticks": ""
            },
            "type": "mesh3d"
           }
          ],
          "parcoords": [
           {
            "line": {
             "colorbar": {
              "outlinewidth": 0,
              "ticks": ""
             }
            },
            "type": "parcoords"
           }
          ],
          "pie": [
           {
            "automargin": true,
            "type": "pie"
           }
          ],
          "scatter": [
           {
            "marker": {
             "colorbar": {
              "outlinewidth": 0,
              "ticks": ""
             }
            },
            "type": "scatter"
           }
          ],
          "scatter3d": [
           {
            "line": {
             "colorbar": {
              "outlinewidth": 0,
              "ticks": ""
             }
            },
            "marker": {
             "colorbar": {
              "outlinewidth": 0,
              "ticks": ""
             }
            },
            "type": "scatter3d"
           }
          ],
          "scattercarpet": [
           {
            "marker": {
             "colorbar": {
              "outlinewidth": 0,
              "ticks": ""
             }
            },
            "type": "scattercarpet"
           }
          ],
          "scattergeo": [
           {
            "marker": {
             "colorbar": {
              "outlinewidth": 0,
              "ticks": ""
             }
            },
            "type": "scattergeo"
           }
          ],
          "scattergl": [
           {
            "marker": {
             "colorbar": {
              "outlinewidth": 0,
              "ticks": ""
             }
            },
            "type": "scattergl"
           }
          ],
          "scattermapbox": [
           {
            "marker": {
             "colorbar": {
              "outlinewidth": 0,
              "ticks": ""
             }
            },
            "type": "scattermapbox"
           }
          ],
          "scatterpolar": [
           {
            "marker": {
             "colorbar": {
              "outlinewidth": 0,
              "ticks": ""
             }
            },
            "type": "scatterpolar"
           }
          ],
          "scatterpolargl": [
           {
            "marker": {
             "colorbar": {
              "outlinewidth": 0,
              "ticks": ""
             }
            },
            "type": "scatterpolargl"
           }
          ],
          "scatterternary": [
           {
            "marker": {
             "colorbar": {
              "outlinewidth": 0,
              "ticks": ""
             }
            },
            "type": "scatterternary"
           }
          ],
          "surface": [
           {
            "colorbar": {
             "outlinewidth": 0,
             "ticks": ""
            },
            "colorscale": [
             [
              0,
              "#0d0887"
             ],
             [
              0.1111111111111111,
              "#46039f"
             ],
             [
              0.2222222222222222,
              "#7201a8"
             ],
             [
              0.3333333333333333,
              "#9c179e"
             ],
             [
              0.4444444444444444,
              "#bd3786"
             ],
             [
              0.5555555555555556,
              "#d8576b"
             ],
             [
              0.6666666666666666,
              "#ed7953"
             ],
             [
              0.7777777777777778,
              "#fb9f3a"
             ],
             [
              0.8888888888888888,
              "#fdca26"
             ],
             [
              1,
              "#f0f921"
             ]
            ],
            "type": "surface"
           }
          ],
          "table": [
           {
            "cells": {
             "fill": {
              "color": "#EBF0F8"
             },
             "line": {
              "color": "white"
             }
            },
            "header": {
             "fill": {
              "color": "#C8D4E3"
             },
             "line": {
              "color": "white"
             }
            },
            "type": "table"
           }
          ]
         },
         "layout": {
          "annotationdefaults": {
           "arrowcolor": "#2a3f5f",
           "arrowhead": 0,
           "arrowwidth": 1
          },
          "autotypenumbers": "strict",
          "coloraxis": {
           "colorbar": {
            "outlinewidth": 0,
            "ticks": ""
           }
          },
          "colorscale": {
           "diverging": [
            [
             0,
             "#8e0152"
            ],
            [
             0.1,
             "#c51b7d"
            ],
            [
             0.2,
             "#de77ae"
            ],
            [
             0.3,
             "#f1b6da"
            ],
            [
             0.4,
             "#fde0ef"
            ],
            [
             0.5,
             "#f7f7f7"
            ],
            [
             0.6,
             "#e6f5d0"
            ],
            [
             0.7,
             "#b8e186"
            ],
            [
             0.8,
             "#7fbc41"
            ],
            [
             0.9,
             "#4d9221"
            ],
            [
             1,
             "#276419"
            ]
           ],
           "sequential": [
            [
             0,
             "#0d0887"
            ],
            [
             0.1111111111111111,
             "#46039f"
            ],
            [
             0.2222222222222222,
             "#7201a8"
            ],
            [
             0.3333333333333333,
             "#9c179e"
            ],
            [
             0.4444444444444444,
             "#bd3786"
            ],
            [
             0.5555555555555556,
             "#d8576b"
            ],
            [
             0.6666666666666666,
             "#ed7953"
            ],
            [
             0.7777777777777778,
             "#fb9f3a"
            ],
            [
             0.8888888888888888,
             "#fdca26"
            ],
            [
             1,
             "#f0f921"
            ]
           ],
           "sequentialminus": [
            [
             0,
             "#0d0887"
            ],
            [
             0.1111111111111111,
             "#46039f"
            ],
            [
             0.2222222222222222,
             "#7201a8"
            ],
            [
             0.3333333333333333,
             "#9c179e"
            ],
            [
             0.4444444444444444,
             "#bd3786"
            ],
            [
             0.5555555555555556,
             "#d8576b"
            ],
            [
             0.6666666666666666,
             "#ed7953"
            ],
            [
             0.7777777777777778,
             "#fb9f3a"
            ],
            [
             0.8888888888888888,
             "#fdca26"
            ],
            [
             1,
             "#f0f921"
            ]
           ]
          },
          "colorway": [
           "#636efa",
           "#EF553B",
           "#00cc96",
           "#ab63fa",
           "#FFA15A",
           "#19d3f3",
           "#FF6692",
           "#B6E880",
           "#FF97FF",
           "#FECB52"
          ],
          "font": {
           "color": "#2a3f5f"
          },
          "geo": {
           "bgcolor": "white",
           "lakecolor": "white",
           "landcolor": "#E5ECF6",
           "showlakes": true,
           "showland": true,
           "subunitcolor": "white"
          },
          "hoverlabel": {
           "align": "left"
          },
          "hovermode": "closest",
          "mapbox": {
           "style": "light"
          },
          "paper_bgcolor": "white",
          "plot_bgcolor": "#E5ECF6",
          "polar": {
           "angularaxis": {
            "gridcolor": "white",
            "linecolor": "white",
            "ticks": ""
           },
           "bgcolor": "#E5ECF6",
           "radialaxis": {
            "gridcolor": "white",
            "linecolor": "white",
            "ticks": ""
           }
          },
          "scene": {
           "xaxis": {
            "backgroundcolor": "#E5ECF6",
            "gridcolor": "white",
            "gridwidth": 2,
            "linecolor": "white",
            "showbackground": true,
            "ticks": "",
            "zerolinecolor": "white"
           },
           "yaxis": {
            "backgroundcolor": "#E5ECF6",
            "gridcolor": "white",
            "gridwidth": 2,
            "linecolor": "white",
            "showbackground": true,
            "ticks": "",
            "zerolinecolor": "white"
           },
           "zaxis": {
            "backgroundcolor": "#E5ECF6",
            "gridcolor": "white",
            "gridwidth": 2,
            "linecolor": "white",
            "showbackground": true,
            "ticks": "",
            "zerolinecolor": "white"
           }
          },
          "shapedefaults": {
           "line": {
            "color": "#2a3f5f"
           }
          },
          "ternary": {
           "aaxis": {
            "gridcolor": "white",
            "linecolor": "white",
            "ticks": ""
           },
           "baxis": {
            "gridcolor": "white",
            "linecolor": "white",
            "ticks": ""
           },
           "bgcolor": "#E5ECF6",
           "caxis": {
            "gridcolor": "white",
            "linecolor": "white",
            "ticks": ""
           }
          },
          "title": {
           "x": 0.05
          },
          "xaxis": {
           "automargin": true,
           "gridcolor": "white",
           "linecolor": "white",
           "ticks": "",
           "title": {
            "standoff": 15
           },
           "zerolinecolor": "white",
           "zerolinewidth": 2
          },
          "yaxis": {
           "automargin": true,
           "gridcolor": "white",
           "linecolor": "white",
           "ticks": "",
           "title": {
            "standoff": 15
           },
           "zerolinecolor": "white",
           "zerolinewidth": 2
          }
         }
        },
        "title": {
         "text": "Optimization History Plot"
        },
        "xaxis": {
         "title": {
          "text": "#Trials"
         }
        },
        "yaxis": {
         "title": {
          "text": "Objective Value"
         }
        }
       }
      }
     },
     "metadata": {},
     "output_type": "display_data"
    }
   ],
   "source": [
    "optuna.visualization.plot_optimization_history(study)"
   ]
  },
  {
   "cell_type": "code",
   "execution_count": 28,
   "id": "1f8e15f7",
   "metadata": {},
   "outputs": [
    {
     "data": {
      "application/vnd.plotly.v1+json": {
       "config": {
        "plotlyServerURL": "https://plot.ly"
       },
       "data": [
        {
         "cliponaxis": false,
         "hovertemplate": [
          "min_samples_split (IntUniformDistribution): 0.009206908564566733<extra></extra>",
          "n_estimators (IntUniformDistribution): 0.05556463113821657<extra></extra>",
          "min_samples_leaf (IntUniformDistribution): 0.11469527487385608<extra></extra>",
          "subsample (UniformDistribution): 0.3007150558359224<extra></extra>",
          "max_depth (IntUniformDistribution): 0.5198181295874383<extra></extra>"
         ],
         "marker": {
          "color": "rgb(66,146,198)"
         },
         "orientation": "h",
         "text": [
          "0.009206908564566733",
          "0.05556463113821657",
          "0.11469527487385608",
          "0.3007150558359224",
          "0.5198181295874383"
         ],
         "textposition": "outside",
         "texttemplate": "%{text:.2f}",
         "type": "bar",
         "x": [
          0.009206908564566733,
          0.05556463113821657,
          0.11469527487385608,
          0.3007150558359224,
          0.5198181295874383
         ],
         "y": [
          "min_samples_split",
          "n_estimators",
          "min_samples_leaf",
          "subsample",
          "max_depth"
         ]
        }
       ],
       "layout": {
        "showlegend": false,
        "template": {
         "data": {
          "bar": [
           {
            "error_x": {
             "color": "#2a3f5f"
            },
            "error_y": {
             "color": "#2a3f5f"
            },
            "marker": {
             "line": {
              "color": "#E5ECF6",
              "width": 0.5
             },
             "pattern": {
              "fillmode": "overlay",
              "size": 10,
              "solidity": 0.2
             }
            },
            "type": "bar"
           }
          ],
          "barpolar": [
           {
            "marker": {
             "line": {
              "color": "#E5ECF6",
              "width": 0.5
             },
             "pattern": {
              "fillmode": "overlay",
              "size": 10,
              "solidity": 0.2
             }
            },
            "type": "barpolar"
           }
          ],
          "carpet": [
           {
            "aaxis": {
             "endlinecolor": "#2a3f5f",
             "gridcolor": "white",
             "linecolor": "white",
             "minorgridcolor": "white",
             "startlinecolor": "#2a3f5f"
            },
            "baxis": {
             "endlinecolor": "#2a3f5f",
             "gridcolor": "white",
             "linecolor": "white",
             "minorgridcolor": "white",
             "startlinecolor": "#2a3f5f"
            },
            "type": "carpet"
           }
          ],
          "choropleth": [
           {
            "colorbar": {
             "outlinewidth": 0,
             "ticks": ""
            },
            "type": "choropleth"
           }
          ],
          "contour": [
           {
            "colorbar": {
             "outlinewidth": 0,
             "ticks": ""
            },
            "colorscale": [
             [
              0,
              "#0d0887"
             ],
             [
              0.1111111111111111,
              "#46039f"
             ],
             [
              0.2222222222222222,
              "#7201a8"
             ],
             [
              0.3333333333333333,
              "#9c179e"
             ],
             [
              0.4444444444444444,
              "#bd3786"
             ],
             [
              0.5555555555555556,
              "#d8576b"
             ],
             [
              0.6666666666666666,
              "#ed7953"
             ],
             [
              0.7777777777777778,
              "#fb9f3a"
             ],
             [
              0.8888888888888888,
              "#fdca26"
             ],
             [
              1,
              "#f0f921"
             ]
            ],
            "type": "contour"
           }
          ],
          "contourcarpet": [
           {
            "colorbar": {
             "outlinewidth": 0,
             "ticks": ""
            },
            "type": "contourcarpet"
           }
          ],
          "heatmap": [
           {
            "colorbar": {
             "outlinewidth": 0,
             "ticks": ""
            },
            "colorscale": [
             [
              0,
              "#0d0887"
             ],
             [
              0.1111111111111111,
              "#46039f"
             ],
             [
              0.2222222222222222,
              "#7201a8"
             ],
             [
              0.3333333333333333,
              "#9c179e"
             ],
             [
              0.4444444444444444,
              "#bd3786"
             ],
             [
              0.5555555555555556,
              "#d8576b"
             ],
             [
              0.6666666666666666,
              "#ed7953"
             ],
             [
              0.7777777777777778,
              "#fb9f3a"
             ],
             [
              0.8888888888888888,
              "#fdca26"
             ],
             [
              1,
              "#f0f921"
             ]
            ],
            "type": "heatmap"
           }
          ],
          "heatmapgl": [
           {
            "colorbar": {
             "outlinewidth": 0,
             "ticks": ""
            },
            "colorscale": [
             [
              0,
              "#0d0887"
             ],
             [
              0.1111111111111111,
              "#46039f"
             ],
             [
              0.2222222222222222,
              "#7201a8"
             ],
             [
              0.3333333333333333,
              "#9c179e"
             ],
             [
              0.4444444444444444,
              "#bd3786"
             ],
             [
              0.5555555555555556,
              "#d8576b"
             ],
             [
              0.6666666666666666,
              "#ed7953"
             ],
             [
              0.7777777777777778,
              "#fb9f3a"
             ],
             [
              0.8888888888888888,
              "#fdca26"
             ],
             [
              1,
              "#f0f921"
             ]
            ],
            "type": "heatmapgl"
           }
          ],
          "histogram": [
           {
            "marker": {
             "pattern": {
              "fillmode": "overlay",
              "size": 10,
              "solidity": 0.2
             }
            },
            "type": "histogram"
           }
          ],
          "histogram2d": [
           {
            "colorbar": {
             "outlinewidth": 0,
             "ticks": ""
            },
            "colorscale": [
             [
              0,
              "#0d0887"
             ],
             [
              0.1111111111111111,
              "#46039f"
             ],
             [
              0.2222222222222222,
              "#7201a8"
             ],
             [
              0.3333333333333333,
              "#9c179e"
             ],
             [
              0.4444444444444444,
              "#bd3786"
             ],
             [
              0.5555555555555556,
              "#d8576b"
             ],
             [
              0.6666666666666666,
              "#ed7953"
             ],
             [
              0.7777777777777778,
              "#fb9f3a"
             ],
             [
              0.8888888888888888,
              "#fdca26"
             ],
             [
              1,
              "#f0f921"
             ]
            ],
            "type": "histogram2d"
           }
          ],
          "histogram2dcontour": [
           {
            "colorbar": {
             "outlinewidth": 0,
             "ticks": ""
            },
            "colorscale": [
             [
              0,
              "#0d0887"
             ],
             [
              0.1111111111111111,
              "#46039f"
             ],
             [
              0.2222222222222222,
              "#7201a8"
             ],
             [
              0.3333333333333333,
              "#9c179e"
             ],
             [
              0.4444444444444444,
              "#bd3786"
             ],
             [
              0.5555555555555556,
              "#d8576b"
             ],
             [
              0.6666666666666666,
              "#ed7953"
             ],
             [
              0.7777777777777778,
              "#fb9f3a"
             ],
             [
              0.8888888888888888,
              "#fdca26"
             ],
             [
              1,
              "#f0f921"
             ]
            ],
            "type": "histogram2dcontour"
           }
          ],
          "mesh3d": [
           {
            "colorbar": {
             "outlinewidth": 0,
             "ticks": ""
            },
            "type": "mesh3d"
           }
          ],
          "parcoords": [
           {
            "line": {
             "colorbar": {
              "outlinewidth": 0,
              "ticks": ""
             }
            },
            "type": "parcoords"
           }
          ],
          "pie": [
           {
            "automargin": true,
            "type": "pie"
           }
          ],
          "scatter": [
           {
            "marker": {
             "colorbar": {
              "outlinewidth": 0,
              "ticks": ""
             }
            },
            "type": "scatter"
           }
          ],
          "scatter3d": [
           {
            "line": {
             "colorbar": {
              "outlinewidth": 0,
              "ticks": ""
             }
            },
            "marker": {
             "colorbar": {
              "outlinewidth": 0,
              "ticks": ""
             }
            },
            "type": "scatter3d"
           }
          ],
          "scattercarpet": [
           {
            "marker": {
             "colorbar": {
              "outlinewidth": 0,
              "ticks": ""
             }
            },
            "type": "scattercarpet"
           }
          ],
          "scattergeo": [
           {
            "marker": {
             "colorbar": {
              "outlinewidth": 0,
              "ticks": ""
             }
            },
            "type": "scattergeo"
           }
          ],
          "scattergl": [
           {
            "marker": {
             "colorbar": {
              "outlinewidth": 0,
              "ticks": ""
             }
            },
            "type": "scattergl"
           }
          ],
          "scattermapbox": [
           {
            "marker": {
             "colorbar": {
              "outlinewidth": 0,
              "ticks": ""
             }
            },
            "type": "scattermapbox"
           }
          ],
          "scatterpolar": [
           {
            "marker": {
             "colorbar": {
              "outlinewidth": 0,
              "ticks": ""
             }
            },
            "type": "scatterpolar"
           }
          ],
          "scatterpolargl": [
           {
            "marker": {
             "colorbar": {
              "outlinewidth": 0,
              "ticks": ""
             }
            },
            "type": "scatterpolargl"
           }
          ],
          "scatterternary": [
           {
            "marker": {
             "colorbar": {
              "outlinewidth": 0,
              "ticks": ""
             }
            },
            "type": "scatterternary"
           }
          ],
          "surface": [
           {
            "colorbar": {
             "outlinewidth": 0,
             "ticks": ""
            },
            "colorscale": [
             [
              0,
              "#0d0887"
             ],
             [
              0.1111111111111111,
              "#46039f"
             ],
             [
              0.2222222222222222,
              "#7201a8"
             ],
             [
              0.3333333333333333,
              "#9c179e"
             ],
             [
              0.4444444444444444,
              "#bd3786"
             ],
             [
              0.5555555555555556,
              "#d8576b"
             ],
             [
              0.6666666666666666,
              "#ed7953"
             ],
             [
              0.7777777777777778,
              "#fb9f3a"
             ],
             [
              0.8888888888888888,
              "#fdca26"
             ],
             [
              1,
              "#f0f921"
             ]
            ],
            "type": "surface"
           }
          ],
          "table": [
           {
            "cells": {
             "fill": {
              "color": "#EBF0F8"
             },
             "line": {
              "color": "white"
             }
            },
            "header": {
             "fill": {
              "color": "#C8D4E3"
             },
             "line": {
              "color": "white"
             }
            },
            "type": "table"
           }
          ]
         },
         "layout": {
          "annotationdefaults": {
           "arrowcolor": "#2a3f5f",
           "arrowhead": 0,
           "arrowwidth": 1
          },
          "autotypenumbers": "strict",
          "coloraxis": {
           "colorbar": {
            "outlinewidth": 0,
            "ticks": ""
           }
          },
          "colorscale": {
           "diverging": [
            [
             0,
             "#8e0152"
            ],
            [
             0.1,
             "#c51b7d"
            ],
            [
             0.2,
             "#de77ae"
            ],
            [
             0.3,
             "#f1b6da"
            ],
            [
             0.4,
             "#fde0ef"
            ],
            [
             0.5,
             "#f7f7f7"
            ],
            [
             0.6,
             "#e6f5d0"
            ],
            [
             0.7,
             "#b8e186"
            ],
            [
             0.8,
             "#7fbc41"
            ],
            [
             0.9,
             "#4d9221"
            ],
            [
             1,
             "#276419"
            ]
           ],
           "sequential": [
            [
             0,
             "#0d0887"
            ],
            [
             0.1111111111111111,
             "#46039f"
            ],
            [
             0.2222222222222222,
             "#7201a8"
            ],
            [
             0.3333333333333333,
             "#9c179e"
            ],
            [
             0.4444444444444444,
             "#bd3786"
            ],
            [
             0.5555555555555556,
             "#d8576b"
            ],
            [
             0.6666666666666666,
             "#ed7953"
            ],
            [
             0.7777777777777778,
             "#fb9f3a"
            ],
            [
             0.8888888888888888,
             "#fdca26"
            ],
            [
             1,
             "#f0f921"
            ]
           ],
           "sequentialminus": [
            [
             0,
             "#0d0887"
            ],
            [
             0.1111111111111111,
             "#46039f"
            ],
            [
             0.2222222222222222,
             "#7201a8"
            ],
            [
             0.3333333333333333,
             "#9c179e"
            ],
            [
             0.4444444444444444,
             "#bd3786"
            ],
            [
             0.5555555555555556,
             "#d8576b"
            ],
            [
             0.6666666666666666,
             "#ed7953"
            ],
            [
             0.7777777777777778,
             "#fb9f3a"
            ],
            [
             0.8888888888888888,
             "#fdca26"
            ],
            [
             1,
             "#f0f921"
            ]
           ]
          },
          "colorway": [
           "#636efa",
           "#EF553B",
           "#00cc96",
           "#ab63fa",
           "#FFA15A",
           "#19d3f3",
           "#FF6692",
           "#B6E880",
           "#FF97FF",
           "#FECB52"
          ],
          "font": {
           "color": "#2a3f5f"
          },
          "geo": {
           "bgcolor": "white",
           "lakecolor": "white",
           "landcolor": "#E5ECF6",
           "showlakes": true,
           "showland": true,
           "subunitcolor": "white"
          },
          "hoverlabel": {
           "align": "left"
          },
          "hovermode": "closest",
          "mapbox": {
           "style": "light"
          },
          "paper_bgcolor": "white",
          "plot_bgcolor": "#E5ECF6",
          "polar": {
           "angularaxis": {
            "gridcolor": "white",
            "linecolor": "white",
            "ticks": ""
           },
           "bgcolor": "#E5ECF6",
           "radialaxis": {
            "gridcolor": "white",
            "linecolor": "white",
            "ticks": ""
           }
          },
          "scene": {
           "xaxis": {
            "backgroundcolor": "#E5ECF6",
            "gridcolor": "white",
            "gridwidth": 2,
            "linecolor": "white",
            "showbackground": true,
            "ticks": "",
            "zerolinecolor": "white"
           },
           "yaxis": {
            "backgroundcolor": "#E5ECF6",
            "gridcolor": "white",
            "gridwidth": 2,
            "linecolor": "white",
            "showbackground": true,
            "ticks": "",
            "zerolinecolor": "white"
           },
           "zaxis": {
            "backgroundcolor": "#E5ECF6",
            "gridcolor": "white",
            "gridwidth": 2,
            "linecolor": "white",
            "showbackground": true,
            "ticks": "",
            "zerolinecolor": "white"
           }
          },
          "shapedefaults": {
           "line": {
            "color": "#2a3f5f"
           }
          },
          "ternary": {
           "aaxis": {
            "gridcolor": "white",
            "linecolor": "white",
            "ticks": ""
           },
           "baxis": {
            "gridcolor": "white",
            "linecolor": "white",
            "ticks": ""
           },
           "bgcolor": "#E5ECF6",
           "caxis": {
            "gridcolor": "white",
            "linecolor": "white",
            "ticks": ""
           }
          },
          "title": {
           "x": 0.05
          },
          "xaxis": {
           "automargin": true,
           "gridcolor": "white",
           "linecolor": "white",
           "ticks": "",
           "title": {
            "standoff": 15
           },
           "zerolinecolor": "white",
           "zerolinewidth": 2
          },
          "yaxis": {
           "automargin": true,
           "gridcolor": "white",
           "linecolor": "white",
           "ticks": "",
           "title": {
            "standoff": 15
           },
           "zerolinecolor": "white",
           "zerolinewidth": 2
          }
         }
        },
        "title": {
         "text": "Hyperparameter Importances"
        },
        "xaxis": {
         "title": {
          "text": "Importance for Objective Value"
         }
        },
        "yaxis": {
         "title": {
          "text": "Hyperparameter"
         }
        }
       }
      }
     },
     "metadata": {},
     "output_type": "display_data"
    }
   ],
   "source": [
    "optuna.visualization.plot_param_importances(study)"
   ]
  },
  {
   "cell_type": "code",
   "execution_count": 29,
   "id": "ded0e0f8",
   "metadata": {},
   "outputs": [
    {
     "data": {
      "application/vnd.plotly.v1+json": {
       "config": {
        "plotlyServerURL": "https://plot.ly"
       },
       "data": [
        {
         "dimensions": [
          {
           "label": "Objective Value",
           "range": [
            0.37267362088145867,
            0.5776046177392123
           ],
           "values": [
            0.5054701003821543,
            0.5308767805135004,
            0.5302638163531757,
            0.5320293172617997,
            0.5076955350613027,
            0.5113332136055877,
            0.5483123516229741,
            0.5466229416537345,
            0.536827688317103,
            0.4776636176337526,
            0.37267362088145867,
            0.5241150121711045,
            0.5463328506855885,
            0.5390522272743352,
            0.5375251008267583,
            0.5475047754177901,
            0.5515606852669765,
            0.48044391901593997,
            0.5599180257882568,
            0.5467193729990394,
            0.558070678290381,
            0.5503887855044375,
            0.40259090577225454,
            0.5617087710100298,
            0.5578162575250257,
            0.5539363252060857,
            0.5402459336332914,
            0.5258073355380384,
            0.5378107996060871,
            0.5247709075351933,
            0.5053414629460597,
            0.5453909548839034,
            0.5362751685400327,
            0.5160515135062596,
            0.5423544314198296,
            0.5529615725391877,
            0.5556758635976197,
            0.5388925151018713,
            0.510069437221891,
            0.5335316207714929,
            0.5498040511086134,
            0.5596654673139341,
            0.5588737021598706,
            0.5656345679600967,
            0.5693622604997562,
            0.5665885516898486,
            0.5487397456602038,
            0.5475252947604734,
            0.5264184118748879,
            0.5410433936784618,
            0.5050892971341868,
            0.5632389097075581,
            0.5526001722605016,
            0.5469417024116267,
            0.5574199869363863,
            0.5529626300798072,
            0.5451333920151786,
            0.5443617133859888,
            0.5422141305028546,
            0.4857363822117563,
            0.5300634091893179,
            0.5610437060336334,
            0.545544446142911,
            0.5487623636563085,
            0.5603382356994999,
            0.5633791135406465,
            0.5561758090122251,
            0.5521506418883029,
            0.5362324188191046,
            0.5447074707942006,
            0.5487689162651934,
            0.5593033137969511,
            0.5645916670328237,
            0.5771793379662327,
            0.5512040090513551,
            0.5776046177392123,
            0.5584824752930665,
            0.5529407001623639,
            0.5480732456944111,
            0.5132407860254079,
            0.5561674089314158,
            0.5619872583155094,
            0.5582446467681329,
            0.5702347840000451,
            0.5470063051043844,
            0.5510143928542964,
            0.5432043780633349,
            0.5547974544758087,
            0.5537286007687534,
            0.5590466798519159,
            0.5502720935261556,
            0.5619852264867112,
            0.5370775306134481,
            0.5446818856312335,
            0.5760756808380563,
            0.5519465978803278,
            0.4935535400211088,
            0.5414514506177748,
            0.5620444934282665,
            0.5602839352051013
           ]
          },
          {
           "label": "max_depth",
           "range": [
            1,
            30
           ],
           "values": [
            28,
            10,
            16,
            14,
            27,
            12,
            27,
            19,
            18,
            26,
            1,
            22,
            22,
            21,
            8,
            30,
            30,
            25,
            30,
            30,
            4,
            5,
            1,
            5,
            5,
            5,
            8,
            3,
            10,
            7,
            14,
            4,
            6,
            3,
            10,
            10,
            13,
            16,
            2,
            8,
            12,
            12,
            17,
            19,
            18,
            19,
            19,
            24,
            21,
            19,
            15,
            17,
            18,
            24,
            20,
            28,
            17,
            23,
            16,
            21,
            18,
            14,
            20,
            15,
            26,
            28,
            22,
            28,
            17,
            14,
            20,
            26,
            27,
            29,
            28,
            29,
            29,
            27,
            29,
            29,
            25,
            27,
            27,
            30,
            30,
            29,
            30,
            25,
            28,
            29,
            26,
            18,
            27,
            30,
            27,
            28,
            24,
            19,
            23,
            29
           ]
          },
          {
           "label": "min_samples_leaf",
           "range": [
            1,
            10
           ],
           "values": [
            7,
            7,
            9,
            6,
            4,
            4,
            8,
            6,
            4,
            3,
            10,
            1,
            8,
            6,
            8,
            10,
            10,
            9,
            9,
            10,
            9,
            9,
            9,
            10,
            7,
            8,
            9,
            10,
            8,
            7,
            1,
            7,
            7,
            9,
            8,
            5,
            10,
            9,
            5,
            7,
            6,
            10,
            9,
            10,
            10,
            10,
            10,
            10,
            10,
            9,
            3,
            10,
            10,
            10,
            9,
            10,
            8,
            10,
            9,
            2,
            10,
            10,
            9,
            10,
            10,
            10,
            10,
            9,
            10,
            9,
            8,
            10,
            10,
            10,
            9,
            10,
            10,
            9,
            10,
            9,
            10,
            10,
            10,
            10,
            10,
            9,
            10,
            9,
            10,
            10,
            9,
            10,
            10,
            10,
            10,
            10,
            9,
            5,
            10,
            10
           ]
          },
          {
           "label": "min_samples_split",
           "range": [
            2,
            10
           ],
           "values": [
            9,
            8,
            2,
            6,
            2,
            2,
            5,
            7,
            5,
            7,
            4,
            10,
            4,
            7,
            6,
            4,
            4,
            3,
            5,
            5,
            3,
            3,
            3,
            4,
            3,
            5,
            4,
            6,
            3,
            5,
            8,
            3,
            2,
            3,
            4,
            2,
            6,
            2,
            4,
            5,
            3,
            6,
            6,
            7,
            8,
            8,
            8,
            9,
            7,
            9,
            8,
            7,
            7,
            7,
            8,
            10,
            8,
            9,
            7,
            7,
            8,
            6,
            5,
            6,
            7,
            7,
            8,
            7,
            8,
            7,
            9,
            7,
            7,
            6,
            8,
            7,
            7,
            6,
            7,
            6,
            8,
            7,
            7,
            6,
            6,
            6,
            6,
            8,
            7,
            6,
            7,
            7,
            7,
            8,
            7,
            6,
            8,
            7,
            6,
            9
           ]
          },
          {
           "label": "n_estimators",
           "range": [
            100,
            196
           ],
           "values": [
            142,
            136,
            196,
            141,
            160,
            163,
            121,
            165,
            148,
            188,
            102,
            111,
            122,
            179,
            170,
            127,
            125,
            120,
            101,
            104,
            111,
            109,
            131,
            112,
            113,
            100,
            115,
            108,
            116,
            133,
            147,
            113,
            105,
            100,
            138,
            117,
            109,
            155,
            128,
            141,
            119,
            107,
            105,
            107,
            104,
            105,
            100,
            123,
            193,
            105,
            112,
            107,
            103,
            108,
            118,
            104,
            113,
            100,
            123,
            110,
            174,
            106,
            107,
            115,
            103,
            103,
            110,
            115,
            106,
            120,
            103,
            103,
            110,
            111,
            112,
            110,
            126,
            109,
            116,
            158,
            114,
            111,
            110,
            107,
            107,
            119,
            102,
            144,
            100,
            107,
            122,
            111,
            117,
            105,
            113,
            102,
            129,
            108,
            114,
            104
           ]
          },
          {
           "label": "subsample",
           "range": [
            0.11264342550342013,
            0.4976746738755343
           ],
           "values": [
            0.2258903557664138,
            0.484321238859062,
            0.27431010205525563,
            0.4360490941650119,
            0.25322120752566357,
            0.4432058833658641,
            0.34402782664318454,
            0.38440669797264226,
            0.37801637994495396,
            0.12528396673996595,
            0.33685839781707655,
            0.36076658289247915,
            0.3979751367964334,
            0.3114055021554755,
            0.21138014587681303,
            0.49493152781891236,
            0.4870393832065101,
            0.16224130176954554,
            0.4298987125468253,
            0.4387493627339377,
            0.4714551908226905,
            0.47423863262008453,
            0.426556793934809,
            0.4545346834387931,
            0.40959309037330505,
            0.45361111999153786,
            0.4655953976257667,
            0.4088562455055228,
            0.4639831969268927,
            0.3325111174122203,
            0.4148845843565792,
            0.37741398540553134,
            0.4976746738755343,
            0.413295877954523,
            0.4525980177577552,
            0.28414685767052045,
            0.43699819418072794,
            0.47465848368860647,
            0.3958517149811859,
            0.36064087054538363,
            0.2263128556589674,
            0.43311513477648617,
            0.4302793944723348,
            0.4262643030202733,
            0.42698585699293534,
            0.3785178516766532,
            0.35988560429373284,
            0.3839300591136857,
            0.31355825236730356,
            0.3953563886662529,
            0.44977621665032147,
            0.4234751954547624,
            0.41848830934357545,
            0.371730425005631,
            0.39371788228621296,
            0.4446351974345467,
            0.4245318202644956,
            0.48343129799716916,
            0.3430340656702088,
            0.11264342550342013,
            0.4633448073922056,
            0.4373610851121193,
            0.4537549910716275,
            0.4023049526486644,
            0.4375769811169657,
            0.48161232707193385,
            0.48752850366557243,
            0.4793624491615864,
            0.46537071408637515,
            0.4966908242052016,
            0.45735872403127137,
            0.4418833499751081,
            0.4260563461951487,
            0.4216369159388182,
            0.4155408937288984,
            0.3857053332429903,
            0.3701295005512987,
            0.38763806735476874,
            0.40615350039067627,
            0.32512234788192473,
            0.35208644769866115,
            0.42311898330964626,
            0.4254156631603367,
            0.4201804687931059,
            0.3832213433615097,
            0.40537405299184354,
            0.2609571884109353,
            0.4174412571035799,
            0.3738717318867685,
            0.3962528246222713,
            0.3870224387797732,
            0.42447726780248896,
            0.410169421050131,
            0.4472263205827414,
            0.4217149164180642,
            0.43092649263058713,
            0.15097835170436927,
            0.39971000570015053,
            0.3666699929018625,
            0.41505583318713823
           ]
          }
         ],
         "labelangle": 30,
         "labelside": "bottom",
         "line": {
          "color": [
           0.5054701003821543,
           0.5308767805135004,
           0.5302638163531757,
           0.5320293172617997,
           0.5076955350613027,
           0.5113332136055877,
           0.5483123516229741,
           0.5466229416537345,
           0.536827688317103,
           0.4776636176337526,
           0.37267362088145867,
           0.5241150121711045,
           0.5463328506855885,
           0.5390522272743352,
           0.5375251008267583,
           0.5475047754177901,
           0.5515606852669765,
           0.48044391901593997,
           0.5599180257882568,
           0.5467193729990394,
           0.558070678290381,
           0.5503887855044375,
           0.40259090577225454,
           0.5617087710100298,
           0.5578162575250257,
           0.5539363252060857,
           0.5402459336332914,
           0.5258073355380384,
           0.5378107996060871,
           0.5247709075351933,
           0.5053414629460597,
           0.5453909548839034,
           0.5362751685400327,
           0.5160515135062596,
           0.5423544314198296,
           0.5529615725391877,
           0.5556758635976197,
           0.5388925151018713,
           0.510069437221891,
           0.5335316207714929,
           0.5498040511086134,
           0.5596654673139341,
           0.5588737021598706,
           0.5656345679600967,
           0.5693622604997562,
           0.5665885516898486,
           0.5487397456602038,
           0.5475252947604734,
           0.5264184118748879,
           0.5410433936784618,
           0.5050892971341868,
           0.5632389097075581,
           0.5526001722605016,
           0.5469417024116267,
           0.5574199869363863,
           0.5529626300798072,
           0.5451333920151786,
           0.5443617133859888,
           0.5422141305028546,
           0.4857363822117563,
           0.5300634091893179,
           0.5610437060336334,
           0.545544446142911,
           0.5487623636563085,
           0.5603382356994999,
           0.5633791135406465,
           0.5561758090122251,
           0.5521506418883029,
           0.5362324188191046,
           0.5447074707942006,
           0.5487689162651934,
           0.5593033137969511,
           0.5645916670328237,
           0.5771793379662327,
           0.5512040090513551,
           0.5776046177392123,
           0.5584824752930665,
           0.5529407001623639,
           0.5480732456944111,
           0.5132407860254079,
           0.5561674089314158,
           0.5619872583155094,
           0.5582446467681329,
           0.5702347840000451,
           0.5470063051043844,
           0.5510143928542964,
           0.5432043780633349,
           0.5547974544758087,
           0.5537286007687534,
           0.5590466798519159,
           0.5502720935261556,
           0.5619852264867112,
           0.5370775306134481,
           0.5446818856312335,
           0.5760756808380563,
           0.5519465978803278,
           0.4935535400211088,
           0.5414514506177748,
           0.5620444934282665,
           0.5602839352051013
          ],
          "colorbar": {
           "title": {
            "text": "Objective Value"
           }
          },
          "colorscale": [
           [
            0,
            "rgb(247,251,255)"
           ],
           [
            0.125,
            "rgb(222,235,247)"
           ],
           [
            0.25,
            "rgb(198,219,239)"
           ],
           [
            0.375,
            "rgb(158,202,225)"
           ],
           [
            0.5,
            "rgb(107,174,214)"
           ],
           [
            0.625,
            "rgb(66,146,198)"
           ],
           [
            0.75,
            "rgb(33,113,181)"
           ],
           [
            0.875,
            "rgb(8,81,156)"
           ],
           [
            1,
            "rgb(8,48,107)"
           ]
          ],
          "reversescale": false,
          "showscale": true
         },
         "type": "parcoords"
        }
       ],
       "layout": {
        "template": {
         "data": {
          "bar": [
           {
            "error_x": {
             "color": "#2a3f5f"
            },
            "error_y": {
             "color": "#2a3f5f"
            },
            "marker": {
             "line": {
              "color": "#E5ECF6",
              "width": 0.5
             },
             "pattern": {
              "fillmode": "overlay",
              "size": 10,
              "solidity": 0.2
             }
            },
            "type": "bar"
           }
          ],
          "barpolar": [
           {
            "marker": {
             "line": {
              "color": "#E5ECF6",
              "width": 0.5
             },
             "pattern": {
              "fillmode": "overlay",
              "size": 10,
              "solidity": 0.2
             }
            },
            "type": "barpolar"
           }
          ],
          "carpet": [
           {
            "aaxis": {
             "endlinecolor": "#2a3f5f",
             "gridcolor": "white",
             "linecolor": "white",
             "minorgridcolor": "white",
             "startlinecolor": "#2a3f5f"
            },
            "baxis": {
             "endlinecolor": "#2a3f5f",
             "gridcolor": "white",
             "linecolor": "white",
             "minorgridcolor": "white",
             "startlinecolor": "#2a3f5f"
            },
            "type": "carpet"
           }
          ],
          "choropleth": [
           {
            "colorbar": {
             "outlinewidth": 0,
             "ticks": ""
            },
            "type": "choropleth"
           }
          ],
          "contour": [
           {
            "colorbar": {
             "outlinewidth": 0,
             "ticks": ""
            },
            "colorscale": [
             [
              0,
              "#0d0887"
             ],
             [
              0.1111111111111111,
              "#46039f"
             ],
             [
              0.2222222222222222,
              "#7201a8"
             ],
             [
              0.3333333333333333,
              "#9c179e"
             ],
             [
              0.4444444444444444,
              "#bd3786"
             ],
             [
              0.5555555555555556,
              "#d8576b"
             ],
             [
              0.6666666666666666,
              "#ed7953"
             ],
             [
              0.7777777777777778,
              "#fb9f3a"
             ],
             [
              0.8888888888888888,
              "#fdca26"
             ],
             [
              1,
              "#f0f921"
             ]
            ],
            "type": "contour"
           }
          ],
          "contourcarpet": [
           {
            "colorbar": {
             "outlinewidth": 0,
             "ticks": ""
            },
            "type": "contourcarpet"
           }
          ],
          "heatmap": [
           {
            "colorbar": {
             "outlinewidth": 0,
             "ticks": ""
            },
            "colorscale": [
             [
              0,
              "#0d0887"
             ],
             [
              0.1111111111111111,
              "#46039f"
             ],
             [
              0.2222222222222222,
              "#7201a8"
             ],
             [
              0.3333333333333333,
              "#9c179e"
             ],
             [
              0.4444444444444444,
              "#bd3786"
             ],
             [
              0.5555555555555556,
              "#d8576b"
             ],
             [
              0.6666666666666666,
              "#ed7953"
             ],
             [
              0.7777777777777778,
              "#fb9f3a"
             ],
             [
              0.8888888888888888,
              "#fdca26"
             ],
             [
              1,
              "#f0f921"
             ]
            ],
            "type": "heatmap"
           }
          ],
          "heatmapgl": [
           {
            "colorbar": {
             "outlinewidth": 0,
             "ticks": ""
            },
            "colorscale": [
             [
              0,
              "#0d0887"
             ],
             [
              0.1111111111111111,
              "#46039f"
             ],
             [
              0.2222222222222222,
              "#7201a8"
             ],
             [
              0.3333333333333333,
              "#9c179e"
             ],
             [
              0.4444444444444444,
              "#bd3786"
             ],
             [
              0.5555555555555556,
              "#d8576b"
             ],
             [
              0.6666666666666666,
              "#ed7953"
             ],
             [
              0.7777777777777778,
              "#fb9f3a"
             ],
             [
              0.8888888888888888,
              "#fdca26"
             ],
             [
              1,
              "#f0f921"
             ]
            ],
            "type": "heatmapgl"
           }
          ],
          "histogram": [
           {
            "marker": {
             "pattern": {
              "fillmode": "overlay",
              "size": 10,
              "solidity": 0.2
             }
            },
            "type": "histogram"
           }
          ],
          "histogram2d": [
           {
            "colorbar": {
             "outlinewidth": 0,
             "ticks": ""
            },
            "colorscale": [
             [
              0,
              "#0d0887"
             ],
             [
              0.1111111111111111,
              "#46039f"
             ],
             [
              0.2222222222222222,
              "#7201a8"
             ],
             [
              0.3333333333333333,
              "#9c179e"
             ],
             [
              0.4444444444444444,
              "#bd3786"
             ],
             [
              0.5555555555555556,
              "#d8576b"
             ],
             [
              0.6666666666666666,
              "#ed7953"
             ],
             [
              0.7777777777777778,
              "#fb9f3a"
             ],
             [
              0.8888888888888888,
              "#fdca26"
             ],
             [
              1,
              "#f0f921"
             ]
            ],
            "type": "histogram2d"
           }
          ],
          "histogram2dcontour": [
           {
            "colorbar": {
             "outlinewidth": 0,
             "ticks": ""
            },
            "colorscale": [
             [
              0,
              "#0d0887"
             ],
             [
              0.1111111111111111,
              "#46039f"
             ],
             [
              0.2222222222222222,
              "#7201a8"
             ],
             [
              0.3333333333333333,
              "#9c179e"
             ],
             [
              0.4444444444444444,
              "#bd3786"
             ],
             [
              0.5555555555555556,
              "#d8576b"
             ],
             [
              0.6666666666666666,
              "#ed7953"
             ],
             [
              0.7777777777777778,
              "#fb9f3a"
             ],
             [
              0.8888888888888888,
              "#fdca26"
             ],
             [
              1,
              "#f0f921"
             ]
            ],
            "type": "histogram2dcontour"
           }
          ],
          "mesh3d": [
           {
            "colorbar": {
             "outlinewidth": 0,
             "ticks": ""
            },
            "type": "mesh3d"
           }
          ],
          "parcoords": [
           {
            "line": {
             "colorbar": {
              "outlinewidth": 0,
              "ticks": ""
             }
            },
            "type": "parcoords"
           }
          ],
          "pie": [
           {
            "automargin": true,
            "type": "pie"
           }
          ],
          "scatter": [
           {
            "marker": {
             "colorbar": {
              "outlinewidth": 0,
              "ticks": ""
             }
            },
            "type": "scatter"
           }
          ],
          "scatter3d": [
           {
            "line": {
             "colorbar": {
              "outlinewidth": 0,
              "ticks": ""
             }
            },
            "marker": {
             "colorbar": {
              "outlinewidth": 0,
              "ticks": ""
             }
            },
            "type": "scatter3d"
           }
          ],
          "scattercarpet": [
           {
            "marker": {
             "colorbar": {
              "outlinewidth": 0,
              "ticks": ""
             }
            },
            "type": "scattercarpet"
           }
          ],
          "scattergeo": [
           {
            "marker": {
             "colorbar": {
              "outlinewidth": 0,
              "ticks": ""
             }
            },
            "type": "scattergeo"
           }
          ],
          "scattergl": [
           {
            "marker": {
             "colorbar": {
              "outlinewidth": 0,
              "ticks": ""
             }
            },
            "type": "scattergl"
           }
          ],
          "scattermapbox": [
           {
            "marker": {
             "colorbar": {
              "outlinewidth": 0,
              "ticks": ""
             }
            },
            "type": "scattermapbox"
           }
          ],
          "scatterpolar": [
           {
            "marker": {
             "colorbar": {
              "outlinewidth": 0,
              "ticks": ""
             }
            },
            "type": "scatterpolar"
           }
          ],
          "scatterpolargl": [
           {
            "marker": {
             "colorbar": {
              "outlinewidth": 0,
              "ticks": ""
             }
            },
            "type": "scatterpolargl"
           }
          ],
          "scatterternary": [
           {
            "marker": {
             "colorbar": {
              "outlinewidth": 0,
              "ticks": ""
             }
            },
            "type": "scatterternary"
           }
          ],
          "surface": [
           {
            "colorbar": {
             "outlinewidth": 0,
             "ticks": ""
            },
            "colorscale": [
             [
              0,
              "#0d0887"
             ],
             [
              0.1111111111111111,
              "#46039f"
             ],
             [
              0.2222222222222222,
              "#7201a8"
             ],
             [
              0.3333333333333333,
              "#9c179e"
             ],
             [
              0.4444444444444444,
              "#bd3786"
             ],
             [
              0.5555555555555556,
              "#d8576b"
             ],
             [
              0.6666666666666666,
              "#ed7953"
             ],
             [
              0.7777777777777778,
              "#fb9f3a"
             ],
             [
              0.8888888888888888,
              "#fdca26"
             ],
             [
              1,
              "#f0f921"
             ]
            ],
            "type": "surface"
           }
          ],
          "table": [
           {
            "cells": {
             "fill": {
              "color": "#EBF0F8"
             },
             "line": {
              "color": "white"
             }
            },
            "header": {
             "fill": {
              "color": "#C8D4E3"
             },
             "line": {
              "color": "white"
             }
            },
            "type": "table"
           }
          ]
         },
         "layout": {
          "annotationdefaults": {
           "arrowcolor": "#2a3f5f",
           "arrowhead": 0,
           "arrowwidth": 1
          },
          "autotypenumbers": "strict",
          "coloraxis": {
           "colorbar": {
            "outlinewidth": 0,
            "ticks": ""
           }
          },
          "colorscale": {
           "diverging": [
            [
             0,
             "#8e0152"
            ],
            [
             0.1,
             "#c51b7d"
            ],
            [
             0.2,
             "#de77ae"
            ],
            [
             0.3,
             "#f1b6da"
            ],
            [
             0.4,
             "#fde0ef"
            ],
            [
             0.5,
             "#f7f7f7"
            ],
            [
             0.6,
             "#e6f5d0"
            ],
            [
             0.7,
             "#b8e186"
            ],
            [
             0.8,
             "#7fbc41"
            ],
            [
             0.9,
             "#4d9221"
            ],
            [
             1,
             "#276419"
            ]
           ],
           "sequential": [
            [
             0,
             "#0d0887"
            ],
            [
             0.1111111111111111,
             "#46039f"
            ],
            [
             0.2222222222222222,
             "#7201a8"
            ],
            [
             0.3333333333333333,
             "#9c179e"
            ],
            [
             0.4444444444444444,
             "#bd3786"
            ],
            [
             0.5555555555555556,
             "#d8576b"
            ],
            [
             0.6666666666666666,
             "#ed7953"
            ],
            [
             0.7777777777777778,
             "#fb9f3a"
            ],
            [
             0.8888888888888888,
             "#fdca26"
            ],
            [
             1,
             "#f0f921"
            ]
           ],
           "sequentialminus": [
            [
             0,
             "#0d0887"
            ],
            [
             0.1111111111111111,
             "#46039f"
            ],
            [
             0.2222222222222222,
             "#7201a8"
            ],
            [
             0.3333333333333333,
             "#9c179e"
            ],
            [
             0.4444444444444444,
             "#bd3786"
            ],
            [
             0.5555555555555556,
             "#d8576b"
            ],
            [
             0.6666666666666666,
             "#ed7953"
            ],
            [
             0.7777777777777778,
             "#fb9f3a"
            ],
            [
             0.8888888888888888,
             "#fdca26"
            ],
            [
             1,
             "#f0f921"
            ]
           ]
          },
          "colorway": [
           "#636efa",
           "#EF553B",
           "#00cc96",
           "#ab63fa",
           "#FFA15A",
           "#19d3f3",
           "#FF6692",
           "#B6E880",
           "#FF97FF",
           "#FECB52"
          ],
          "font": {
           "color": "#2a3f5f"
          },
          "geo": {
           "bgcolor": "white",
           "lakecolor": "white",
           "landcolor": "#E5ECF6",
           "showlakes": true,
           "showland": true,
           "subunitcolor": "white"
          },
          "hoverlabel": {
           "align": "left"
          },
          "hovermode": "closest",
          "mapbox": {
           "style": "light"
          },
          "paper_bgcolor": "white",
          "plot_bgcolor": "#E5ECF6",
          "polar": {
           "angularaxis": {
            "gridcolor": "white",
            "linecolor": "white",
            "ticks": ""
           },
           "bgcolor": "#E5ECF6",
           "radialaxis": {
            "gridcolor": "white",
            "linecolor": "white",
            "ticks": ""
           }
          },
          "scene": {
           "xaxis": {
            "backgroundcolor": "#E5ECF6",
            "gridcolor": "white",
            "gridwidth": 2,
            "linecolor": "white",
            "showbackground": true,
            "ticks": "",
            "zerolinecolor": "white"
           },
           "yaxis": {
            "backgroundcolor": "#E5ECF6",
            "gridcolor": "white",
            "gridwidth": 2,
            "linecolor": "white",
            "showbackground": true,
            "ticks": "",
            "zerolinecolor": "white"
           },
           "zaxis": {
            "backgroundcolor": "#E5ECF6",
            "gridcolor": "white",
            "gridwidth": 2,
            "linecolor": "white",
            "showbackground": true,
            "ticks": "",
            "zerolinecolor": "white"
           }
          },
          "shapedefaults": {
           "line": {
            "color": "#2a3f5f"
           }
          },
          "ternary": {
           "aaxis": {
            "gridcolor": "white",
            "linecolor": "white",
            "ticks": ""
           },
           "baxis": {
            "gridcolor": "white",
            "linecolor": "white",
            "ticks": ""
           },
           "bgcolor": "#E5ECF6",
           "caxis": {
            "gridcolor": "white",
            "linecolor": "white",
            "ticks": ""
           }
          },
          "title": {
           "x": 0.05
          },
          "xaxis": {
           "automargin": true,
           "gridcolor": "white",
           "linecolor": "white",
           "ticks": "",
           "title": {
            "standoff": 15
           },
           "zerolinecolor": "white",
           "zerolinewidth": 2
          },
          "yaxis": {
           "automargin": true,
           "gridcolor": "white",
           "linecolor": "white",
           "ticks": "",
           "title": {
            "standoff": 15
           },
           "zerolinecolor": "white",
           "zerolinewidth": 2
          }
         }
        },
        "title": {
         "text": "Parallel Coordinate Plot"
        }
       }
      }
     },
     "metadata": {},
     "output_type": "display_data"
    }
   ],
   "source": [
    "optuna.visualization.plot_parallel_coordinate(study)"
   ]
  },
  {
   "cell_type": "code",
   "execution_count": 30,
   "id": "75db1ddf",
   "metadata": {},
   "outputs": [
    {
     "name": "stdout",
     "output_type": "stream",
     "text": [
      "Best trial: {'n_estimators': 110, 'max_depth': 29, 'min_samples_leaf': 10, 'min_samples_split': 7, 'subsample': 0.3857053332429903}\n"
     ]
    }
   ],
   "source": [
    "print(\"Best trial:\", study.best_trial.params)"
   ]
  },
  {
   "cell_type": "code",
   "execution_count": 31,
   "id": "574699dc",
   "metadata": {},
   "outputs": [
    {
     "data": {
      "text/plain": [
       "110"
      ]
     },
     "execution_count": 31,
     "metadata": {},
     "output_type": "execute_result"
    }
   ],
   "source": [
    "study.best_trial.params[\"n_estimators\"]"
   ]
  },
  {
   "cell_type": "code",
   "execution_count": 32,
   "id": "862eadd2",
   "metadata": {},
   "outputs": [
    {
     "data": {
      "text/html": [
       "<style>#sk-container-id-1 {color: black;}#sk-container-id-1 pre{padding: 0;}#sk-container-id-1 div.sk-toggleable {background-color: white;}#sk-container-id-1 label.sk-toggleable__label {cursor: pointer;display: block;width: 100%;margin-bottom: 0;padding: 0.3em;box-sizing: border-box;text-align: center;}#sk-container-id-1 label.sk-toggleable__label-arrow:before {content: \"▸\";float: left;margin-right: 0.25em;color: #696969;}#sk-container-id-1 label.sk-toggleable__label-arrow:hover:before {color: black;}#sk-container-id-1 div.sk-estimator:hover label.sk-toggleable__label-arrow:before {color: black;}#sk-container-id-1 div.sk-toggleable__content {max-height: 0;max-width: 0;overflow: hidden;text-align: left;background-color: #f0f8ff;}#sk-container-id-1 div.sk-toggleable__content pre {margin: 0.2em;color: black;border-radius: 0.25em;background-color: #f0f8ff;}#sk-container-id-1 input.sk-toggleable__control:checked~div.sk-toggleable__content {max-height: 200px;max-width: 100%;overflow: auto;}#sk-container-id-1 input.sk-toggleable__control:checked~label.sk-toggleable__label-arrow:before {content: \"▾\";}#sk-container-id-1 div.sk-estimator input.sk-toggleable__control:checked~label.sk-toggleable__label {background-color: #d4ebff;}#sk-container-id-1 div.sk-label input.sk-toggleable__control:checked~label.sk-toggleable__label {background-color: #d4ebff;}#sk-container-id-1 input.sk-hidden--visually {border: 0;clip: rect(1px 1px 1px 1px);clip: rect(1px, 1px, 1px, 1px);height: 1px;margin: -1px;overflow: hidden;padding: 0;position: absolute;width: 1px;}#sk-container-id-1 div.sk-estimator {font-family: monospace;background-color: #f0f8ff;border: 1px dotted black;border-radius: 0.25em;box-sizing: border-box;margin-bottom: 0.5em;}#sk-container-id-1 div.sk-estimator:hover {background-color: #d4ebff;}#sk-container-id-1 div.sk-parallel-item::after {content: \"\";width: 100%;border-bottom: 1px solid gray;flex-grow: 1;}#sk-container-id-1 div.sk-label:hover label.sk-toggleable__label {background-color: #d4ebff;}#sk-container-id-1 div.sk-serial::before {content: \"\";position: absolute;border-left: 1px solid gray;box-sizing: border-box;top: 0;bottom: 0;left: 50%;z-index: 0;}#sk-container-id-1 div.sk-serial {display: flex;flex-direction: column;align-items: center;background-color: white;padding-right: 0.2em;padding-left: 0.2em;position: relative;}#sk-container-id-1 div.sk-item {position: relative;z-index: 1;}#sk-container-id-1 div.sk-parallel {display: flex;align-items: stretch;justify-content: center;background-color: white;position: relative;}#sk-container-id-1 div.sk-item::before, #sk-container-id-1 div.sk-parallel-item::before {content: \"\";position: absolute;border-left: 1px solid gray;box-sizing: border-box;top: 0;bottom: 0;left: 50%;z-index: -1;}#sk-container-id-1 div.sk-parallel-item {display: flex;flex-direction: column;z-index: 1;position: relative;background-color: white;}#sk-container-id-1 div.sk-parallel-item:first-child::after {align-self: flex-end;width: 50%;}#sk-container-id-1 div.sk-parallel-item:last-child::after {align-self: flex-start;width: 50%;}#sk-container-id-1 div.sk-parallel-item:only-child::after {width: 0;}#sk-container-id-1 div.sk-dashed-wrapped {border: 1px dashed gray;margin: 0 0.4em 0.5em 0.4em;box-sizing: border-box;padding-bottom: 0.4em;background-color: white;}#sk-container-id-1 div.sk-label label {font-family: monospace;font-weight: bold;display: inline-block;line-height: 1.2em;}#sk-container-id-1 div.sk-label-container {text-align: center;}#sk-container-id-1 div.sk-container {/* jupyter's `normalize.less` sets `[hidden] { display: none; }` but bootstrap.min.css set `[hidden] { display: none !important; }` so we also need the `!important` here to be able to override the default hidden behavior on the sphinx rendered scikit-learn.org. See: https://github.com/scikit-learn/scikit-learn/issues/21755 */display: inline-block !important;position: relative;}#sk-container-id-1 div.sk-text-repr-fallback {display: none;}</style><div id=\"sk-container-id-1\" class=\"sk-top-container\"><div class=\"sk-text-repr-fallback\"><pre>GradientBoostingRegressor(max_depth=29, min_samples_leaf=10,\n",
       "                          min_samples_split=7, n_estimators=110,\n",
       "                          random_state=42, subsample=0.3857053332429903)</pre><b>In a Jupyter environment, please rerun this cell to show the HTML representation or trust the notebook. <br />On GitHub, the HTML representation is unable to render, please try loading this page with nbviewer.org.</b></div><div class=\"sk-container\" hidden><div class=\"sk-item\"><div class=\"sk-estimator sk-toggleable\"><input class=\"sk-toggleable__control sk-hidden--visually\" id=\"sk-estimator-id-1\" type=\"checkbox\" checked><label for=\"sk-estimator-id-1\" class=\"sk-toggleable__label sk-toggleable__label-arrow\">GradientBoostingRegressor</label><div class=\"sk-toggleable__content\"><pre>GradientBoostingRegressor(max_depth=29, min_samples_leaf=10,\n",
       "                          min_samples_split=7, n_estimators=110,\n",
       "                          random_state=42, subsample=0.3857053332429903)</pre></div></div></div></div></div>"
      ],
      "text/plain": [
       "GradientBoostingRegressor(max_depth=29, min_samples_leaf=10,\n",
       "                          min_samples_split=7, n_estimators=110,\n",
       "                          random_state=42, subsample=0.3857053332429903)"
      ]
     },
     "execution_count": 32,
     "metadata": {},
     "output_type": "execute_result"
    }
   ],
   "source": [
    "gb_params = {\n",
    "    \"random_state\": 42,\n",
    "    \"learning_rate\": 0.1,\n",
    "    \"n_estimators\": study.best_trial.params[\"n_estimators\"],\n",
    "    \"max_depth\": study.best_trial.params[\"max_depth\"],\n",
    "    \"min_samples_leaf\": study.best_trial.params[\"min_samples_leaf\"],\n",
    "    \"min_samples_split\": study.best_trial.params[\"min_samples_split\"],\n",
    "    \"subsample\": study.best_trial.params[\"subsample\"]\n",
    "}\n",
    "\n",
    "gb = GradientBoostingRegressor(**gb_params)\n",
    "gb.fit(As_X_train, As_y_train)"
   ]
  },
  {
   "cell_type": "code",
   "execution_count": 33,
   "id": "2be83ec7",
   "metadata": {},
   "outputs": [],
   "source": [
    "# gb_params = {\n",
    "#     \"random_state\": 42,\n",
    "#     \"learning_rate\": 0.1,\n",
    "#     \"n_estimators\": 100,\n",
    "#     \"max_depth\": 2,\n",
    "#     \"min_samples_leaf\": 8,\n",
    "#     \"min_samples_split\": 2,\n",
    "#     \"subsample\": 0.35775273871202684\n",
    "# }\n",
    "\n",
    "# gb = GradientBoostingRegressor(**gb_params)\n",
    "# gb.fit(As_X_train, As_y_train)"
   ]
  },
  {
   "cell_type": "code",
   "execution_count": 34,
   "id": "8577fb37",
   "metadata": {},
   "outputs": [],
   "source": [
    "y_train_pred = gb.predict(As_X_train)\n",
    "y_test_pred = gb.predict(As_X_test)"
   ]
  },
  {
   "cell_type": "code",
   "execution_count": 35,
   "id": "2ea0526a",
   "metadata": {},
   "outputs": [
    {
     "data": {
      "text/plain": [
       "<matplotlib.collections.PathCollection at 0x2a697382cd0>"
      ]
     },
     "execution_count": 35,
     "metadata": {},
     "output_type": "execute_result"
    },
    {
     "data": {
      "image/png": "[encoded data removed]",
      "text/plain": [
       "<Figure size 640x480 with 1 Axes>"
      ]
     },
     "metadata": {},
     "output_type": "display_data"
    }
   ],
   "source": [
    "plt.scatter(y_train_pred, np.array(As_y_train))"
   ]
  },
  {
   "cell_type": "code",
   "execution_count": 36,
   "id": "d2a4dd85",
   "metadata": {},
   "outputs": [
    {
     "name": "stdout",
     "output_type": "stream",
     "text": [
      "Train RMSE:  0.28521481512475666\n",
      "Test RMSE:  0.8278260493243544\n"
     ]
    }
   ],
   "source": [
    "print(\"Train RMSE: \", np.sqrt(mean_squared_error(As_y_train, y_train_pred)))\n",
    "print(\"Test RMSE: \", np.sqrt(mean_squared_error(As_y_test, y_test_pred)))"
   ]
  },
  {
   "cell_type": "code",
   "execution_count": 37,
   "id": "08fe787a",
   "metadata": {},
   "outputs": [
    {
     "name": "stdout",
     "output_type": "stream",
     "text": [
      "Train R2:  0.8978805747087134\n",
      "Test R2:  0.20210408528118473\n"
     ]
    }
   ],
   "source": [
    "print(\"Train R2: \", r2_score(As_y_train, y_train_pred))\n",
    "print(\"Test R2: \", r2_score(As_y_test, y_test_pred))"
   ]
  },
  {
   "cell_type": "code",
   "execution_count": 38,
   "id": "5ec4820c",
   "metadata": {},
   "outputs": [
    {
     "data": {
      "image/png": "[encoded data removed]",
      "text/plain": [
       "<Figure size 640x480 with 1 Axes>"
      ]
     },
     "metadata": {},
     "output_type": "display_data"
    }
   ],
   "source": [
    "import matplotlib.pyplot as plt\n",
    "\n",
    "plt.scatter(y_train_pred, np.array(As_y_train), color=\"orange\", alpha=0.3)\n",
    "plt.scatter(y_test_pred, np.array(As_y_test), color=\"green\", alpha=0.4)\n",
    "plt.axis(\"auto\") # scaled, tight, auto, image, square\n",
    "# plt.xlim([0, 1.5]) \n",
    "# plt.ylim(0, None) \n",
    "plt.xlabel('Predicted Values')\n",
    "plt.ylabel('Actual Values')\n",
    "\n",
    "# Add trendline\n",
    "# z = np.polyfit(y_train_pred, As_y_train, 1)\n",
    "# p = np.poly1d(z)\n",
    "# plt.plot(y_train_pred, p(y_train_pred), color='red', linestyle='-')\n",
    "\n",
    "# Add y=x line\n",
    "plt.plot([0, 1.75], [0, 1.75], color='red', linestyle='-')\n",
    "\n",
    "plt.show()"
   ]
  },
  {
   "cell_type": "code",
   "execution_count": 39,
   "id": "a08d5dc7",
   "metadata": {},
   "outputs": [],
   "source": [
    "# import shap\n",
    "\n",
    "# #background = shap.sample(As_X_train, 100)  # Adjust the number of samples as needed\n",
    "\n",
    "# explainer = shap.KernelExplainer(gb.predict, As_X_train)\n",
    "# shap_values = explainer.shap_values(As_X_train)\n",
    "\n",
    "# shap.summary_plot(shap_values, As_X_train)\n",
    "\n",
    "# shap.force_plot(explainer.expected_value, shap_values[0], As_X_train[0])\n",
    "\n",
    "# print(shap_values)"
   ]
  },
  {
   "attachments": {},
   "cell_type": "markdown",
   "id": "e0507d63",
   "metadata": {},
   "source": [
    "Cd"
   ]
  },
  {
   "attachments": {},
   "cell_type": "markdown",
   "id": "f8f809d9",
   "metadata": {},
   "source": [
    "Optimization"
   ]
  },
  {
   "cell_type": "code",
   "execution_count": 40,
   "id": "b7aeaf0a",
   "metadata": {},
   "outputs": [
    {
     "name": "stderr",
     "output_type": "stream",
     "text": [
      "\u001b[32m[I 2023-08-24 13:48:07,141]\u001b[0m A new study created in memory with name: gb_parameter_opt\u001b[0m\n",
      "\u001b[32m[I 2023-08-24 13:48:07,673]\u001b[0m Trial 0 finished with value: 0.5537949567717272 and parameters: {'n_estimators': 114, 'max_depth': 5, 'min_samples_leaf': 8, 'min_samples_split': 5, 'subsample': 0.22801418077881774}. Best is trial 0 with value: 0.5537949567717272.\u001b[0m\n",
      "\u001b[32m[I 2023-08-24 13:48:08,451]\u001b[0m Trial 1 finished with value: 0.49515545672495714 and parameters: {'n_estimators': 187, 'max_depth': 8, 'min_samples_leaf': 3, 'min_samples_split': 7, 'subsample': 0.1291496630735079}. Best is trial 0 with value: 0.5537949567717272.\u001b[0m\n",
      "\u001b[32m[I 2023-08-24 13:48:08,784]\u001b[0m Trial 2 finished with value: 0.499492690107164 and parameters: {'n_estimators': 101, 'max_depth': 3, 'min_samples_leaf': 10, 'min_samples_split': 10, 'subsample': 0.17238937412244132}. Best is trial 0 with value: 0.5537949567717272.\u001b[0m\n",
      "\u001b[32m[I 2023-08-24 13:48:10,334]\u001b[0m Trial 3 finished with value: 0.5579931972811514 and parameters: {'n_estimators': 133, 'max_depth': 17, 'min_samples_leaf': 5, 'min_samples_split': 10, 'subsample': 0.4226375323375313}. Best is trial 3 with value: 0.5579931972811514.\u001b[0m\n",
      "\u001b[32m[I 2023-08-24 13:48:13,475]\u001b[0m Trial 4 finished with value: 0.5418612102596099 and parameters: {'n_estimators': 156, 'max_depth': 19, 'min_samples_leaf': 1, 'min_samples_split': 7, 'subsample': 0.4505248824544299}. Best is trial 3 with value: 0.5579931972811514.\u001b[0m\n",
      "\u001b[32m[I 2023-08-24 13:48:13,799]\u001b[0m Trial 5 finished with value: 0.5145054550780376 and parameters: {'n_estimators': 101, 'max_depth': 16, 'min_samples_leaf': 9, 'min_samples_split': 8, 'subsample': 0.14746115279869088}. Best is trial 3 with value: 0.5579931972811514.\u001b[0m\n",
      "\u001b[32m[I 2023-08-24 13:48:15,003]\u001b[0m Trial 6 finished with value: 0.5750968935759289 and parameters: {'n_estimators': 137, 'max_depth': 8, 'min_samples_leaf': 7, 'min_samples_split': 5, 'subsample': 0.39559650069247676}. Best is trial 6 with value: 0.5750968935759289.\u001b[0m\n",
      "\u001b[32m[I 2023-08-24 13:48:17,415]\u001b[0m Trial 7 finished with value: 0.5399006933517368 and parameters: {'n_estimators': 167, 'max_depth': 27, 'min_samples_leaf': 1, 'min_samples_split': 10, 'subsample': 0.3578077036138253}. Best is trial 6 with value: 0.5750968935759289.\u001b[0m\n",
      "\u001b[32m[I 2023-08-24 13:48:17,848]\u001b[0m Trial 8 finished with value: 0.49643583722731044 and parameters: {'n_estimators': 144, 'max_depth': 2, 'min_samples_leaf': 3, 'min_samples_split': 2, 'subsample': 0.1616407813178117}. Best is trial 6 with value: 0.5750968935759289.\u001b[0m\n",
      "\u001b[32m[I 2023-08-24 13:48:18,424]\u001b[0m Trial 9 finished with value: 0.5277824386137239 and parameters: {'n_estimators': 141, 'max_depth': 22, 'min_samples_leaf': 4, 'min_samples_split': 5, 'subsample': 0.13926650542552094}. Best is trial 6 with value: 0.5750968935759289.\u001b[0m\n",
      "\u001b[32m[I 2023-08-24 13:48:19,850]\u001b[0m Trial 10 finished with value: 0.5626180703247678 and parameters: {'n_estimators': 197, 'max_depth': 10, 'min_samples_leaf': 7, 'min_samples_split': 3, 'subsample': 0.31919059271541816}. Best is trial 6 with value: 0.5750968935759289.\u001b[0m\n",
      "\u001b[32m[I 2023-08-24 13:48:21,166]\u001b[0m Trial 11 finished with value: 0.5425635856929232 and parameters: {'n_estimators': 198, 'max_depth': 10, 'min_samples_leaf': 7, 'min_samples_split': 2, 'subsample': 0.2948866018272076}. Best is trial 6 with value: 0.5750968935759289.\u001b[0m\n",
      "\u001b[32m[I 2023-08-24 13:48:22,564]\u001b[0m Trial 12 finished with value: 0.5466321416809127 and parameters: {'n_estimators': 175, 'max_depth': 12, 'min_samples_leaf': 7, 'min_samples_split': 4, 'subsample': 0.35436719644234455}. Best is trial 6 with value: 0.5750968935759289.\u001b[0m\n",
      "\u001b[32m[I 2023-08-24 13:48:23,471]\u001b[0m Trial 13 finished with value: 0.5559251565312134 and parameters: {'n_estimators': 124, 'max_depth': 12, 'min_samples_leaf': 6, 'min_samples_split': 3, 'subsample': 0.30238004853761863}. Best is trial 6 with value: 0.5750968935759289.\u001b[0m\n",
      "\u001b[32m[I 2023-08-24 13:48:25,092]\u001b[0m Trial 14 finished with value: 0.5757668713148304 and parameters: {'n_estimators': 159, 'max_depth': 7, 'min_samples_leaf': 8, 'min_samples_split': 4, 'subsample': 0.4965047726854338}. Best is trial 14 with value: 0.5757668713148304.\u001b[0m\n",
      "\u001b[32m[I 2023-08-24 13:48:26,535]\u001b[0m Trial 15 finished with value: 0.5877717791305287 and parameters: {'n_estimators': 158, 'max_depth': 6, 'min_samples_leaf': 10, 'min_samples_split': 5, 'subsample': 0.49954693250521165}. Best is trial 15 with value: 0.5877717791305287.\u001b[0m\n",
      "\u001b[32m[I 2023-08-24 13:48:27,090]\u001b[0m Trial 16 finished with value: 0.476935182542028 and parameters: {'n_estimators': 159, 'max_depth': 1, 'min_samples_leaf': 10, 'min_samples_split': 6, 'subsample': 0.4967887494879935}. Best is trial 15 with value: 0.5877717791305287.\u001b[0m\n",
      "\u001b[32m[I 2023-08-24 13:48:28,529]\u001b[0m Trial 17 finished with value: 0.5710301963178895 and parameters: {'n_estimators': 172, 'max_depth': 5, 'min_samples_leaf': 9, 'min_samples_split': 4, 'subsample': 0.485027537187222}. Best is trial 15 with value: 0.5877717791305287.\u001b[0m\n",
      "\u001b[32m[I 2023-08-24 13:48:29,944]\u001b[0m Trial 18 finished with value: 0.5732369646609318 and parameters: {'n_estimators': 153, 'max_depth': 30, 'min_samples_leaf': 9, 'min_samples_split': 6, 'subsample': 0.4415851362748841}. Best is trial 15 with value: 0.5877717791305287.\u001b[0m\n",
      "\u001b[32m[I 2023-08-24 13:48:31,231]\u001b[0m Trial 19 finished with value: 0.5759127028277427 and parameters: {'n_estimators': 177, 'max_depth': 6, 'min_samples_leaf': 10, 'min_samples_split': 4, 'subsample': 0.395164910340422}. Best is trial 15 with value: 0.5877717791305287.\u001b[0m\n",
      "\u001b[32m[I 2023-08-24 13:48:32,614]\u001b[0m Trial 20 finished with value: 0.5729923015434072 and parameters: {'n_estimators': 183, 'max_depth': 13, 'min_samples_leaf': 10, 'min_samples_split': 8, 'subsample': 0.3855220179385321}. Best is trial 15 with value: 0.5877717791305287.\u001b[0m\n",
      "\u001b[32m[I 2023-08-24 13:48:34,097]\u001b[0m Trial 21 finished with value: 0.5823633753133297 and parameters: {'n_estimators': 164, 'max_depth': 6, 'min_samples_leaf': 8, 'min_samples_split': 4, 'subsample': 0.46811228035879304}. Best is trial 15 with value: 0.5877717791305287.\u001b[0m\n",
      "\u001b[32m[I 2023-08-24 13:48:35,418]\u001b[0m Trial 22 finished with value: 0.576454465227486 and parameters: {'n_estimators': 166, 'max_depth': 5, 'min_samples_leaf': 9, 'min_samples_split': 3, 'subsample': 0.4559900314377085}. Best is trial 15 with value: 0.5877717791305287.\u001b[0m\n",
      "\u001b[32m[I 2023-08-24 13:48:36,401]\u001b[0m Trial 23 finished with value: 0.5642310311597363 and parameters: {'n_estimators': 164, 'max_depth': 3, 'min_samples_leaf': 8, 'min_samples_split': 3, 'subsample': 0.4581394867197484}. Best is trial 15 with value: 0.5877717791305287.\u001b[0m\n",
      "\u001b[32m[I 2023-08-24 13:48:37,840]\u001b[0m Trial 24 finished with value: 0.5647839161044048 and parameters: {'n_estimators': 148, 'max_depth': 10, 'min_samples_leaf': 9, 'min_samples_split': 3, 'subsample': 0.46440979932763254}. Best is trial 15 with value: 0.5877717791305287.\u001b[0m\n",
      "\u001b[32m[I 2023-08-24 13:48:39,090]\u001b[0m Trial 25 finished with value: 0.5710732049917073 and parameters: {'n_estimators': 166, 'max_depth': 5, 'min_samples_leaf': 8, 'min_samples_split': 5, 'subsample': 0.4171191531499119}. Best is trial 15 with value: 0.5877717791305287.\u001b[0m\n",
      "\u001b[32m[I 2023-08-24 13:48:41,439]\u001b[0m Trial 26 finished with value: 0.5928357283265813 and parameters: {'n_estimators': 185, 'max_depth': 14, 'min_samples_leaf': 6, 'min_samples_split': 2, 'subsample': 0.47594577844282565}. Best is trial 26 with value: 0.5928357283265813.\u001b[0m\n",
      "\u001b[32m[I 2023-08-24 13:48:42,419]\u001b[0m Trial 27 finished with value: 0.565008920834372 and parameters: {'n_estimators': 189, 'max_depth': 20, 'min_samples_leaf': 6, 'min_samples_split': 2, 'subsample': 0.21669651325140526}. Best is trial 26 with value: 0.5928357283265813.\u001b[0m\n",
      "\u001b[32m[I 2023-08-24 13:48:44,513]\u001b[0m Trial 28 finished with value: 0.5717439949937964 and parameters: {'n_estimators': 178, 'max_depth': 15, 'min_samples_leaf': 5, 'min_samples_split': 2, 'subsample': 0.4212964407737722}. Best is trial 26 with value: 0.5928357283265813.\u001b[0m\n",
      "\u001b[32m[I 2023-08-24 13:48:45,873]\u001b[0m Trial 29 finished with value: 0.5861692221367104 and parameters: {'n_estimators': 124, 'max_depth': 14, 'min_samples_leaf': 8, 'min_samples_split': 5, 'subsample': 0.4766103190646694}. Best is trial 26 with value: 0.5928357283265813.\u001b[0m\n",
      "\u001b[32m[I 2023-08-24 13:48:46,617]\u001b[0m Trial 30 finished with value: 0.5543076456555565 and parameters: {'n_estimators': 118, 'max_depth': 23, 'min_samples_leaf': 6, 'min_samples_split': 7, 'subsample': 0.26507017202799144}. Best is trial 26 with value: 0.5928357283265813.\u001b[0m\n",
      "\u001b[32m[I 2023-08-24 13:48:48,022]\u001b[0m Trial 31 finished with value: 0.5814176093392315 and parameters: {'n_estimators': 130, 'max_depth': 14, 'min_samples_leaf': 8, 'min_samples_split': 5, 'subsample': 0.4793682856462349}. Best is trial 26 with value: 0.5928357283265813.\u001b[0m\n",
      "\u001b[32m[I 2023-08-24 13:48:49,175]\u001b[0m Trial 32 finished with value: 0.5878149812542295 and parameters: {'n_estimators': 108, 'max_depth': 8, 'min_samples_leaf': 8, 'min_samples_split': 6, 'subsample': 0.4989787117815183}. Best is trial 26 with value: 0.5928357283265813.\u001b[0m\n",
      "\u001b[32m[I 2023-08-24 13:48:50,608]\u001b[0m Trial 33 finished with value: 0.5814788275414788 and parameters: {'n_estimators': 107, 'max_depth': 9, 'min_samples_leaf': 4, 'min_samples_split': 6, 'subsample': 0.49523363135319204}. Best is trial 26 with value: 0.5928357283265813.\u001b[0m\n",
      "\u001b[32m[I 2023-08-24 13:48:50,930]\u001b[0m Trial 34 finished with value: 0.4746255917837323 and parameters: {'n_estimators': 112, 'max_depth': 18, 'min_samples_leaf': 7, 'min_samples_split': 8, 'subsample': 0.10301569968517577}. Best is trial 26 with value: 0.5928357283265813.\u001b[0m\n",
      "\u001b[32m[I 2023-08-24 13:48:52,418]\u001b[0m Trial 35 finished with value: 0.5636652557004892 and parameters: {'n_estimators': 123, 'max_depth': 11, 'min_samples_leaf': 5, 'min_samples_split': 7, 'subsample': 0.4471873430960019}. Best is trial 26 with value: 0.5928357283265813.\u001b[0m\n",
      "\u001b[32m[I 2023-08-24 13:48:53,331]\u001b[0m Trial 36 finished with value: 0.5804131826933634 and parameters: {'n_estimators': 108, 'max_depth': 15, 'min_samples_leaf': 10, 'min_samples_split': 9, 'subsample': 0.43022418325986606}. Best is trial 26 with value: 0.5928357283265813.\u001b[0m\n",
      "\u001b[32m[I 2023-08-24 13:48:54,441]\u001b[0m Trial 37 finished with value: 0.583345720688371 and parameters: {'n_estimators': 100, 'max_depth': 8, 'min_samples_leaf': 6, 'min_samples_split': 6, 'subsample': 0.4726326420942077}. Best is trial 26 with value: 0.5928357283265813.\u001b[0m\n",
      "\u001b[32m[I 2023-08-24 13:48:55,401]\u001b[0m Trial 38 finished with value: 0.5995313986325697 and parameters: {'n_estimators': 130, 'max_depth': 17, 'min_samples_leaf': 9, 'min_samples_split': 7, 'subsample': 0.36505842297595237}. Best is trial 38 with value: 0.5995313986325697.\u001b[0m\n",
      "\u001b[32m[I 2023-08-24 13:48:56,401]\u001b[0m Trial 39 finished with value: 0.5791340954879572 and parameters: {'n_estimators': 137, 'max_depth': 22, 'min_samples_leaf': 9, 'min_samples_split': 7, 'subsample': 0.3619094923284698}. Best is trial 38 with value: 0.5995313986325697.\u001b[0m\n",
      "\u001b[32m[I 2023-08-24 13:48:57,064]\u001b[0m Trial 40 finished with value: 0.5395933197120195 and parameters: {'n_estimators': 187, 'max_depth': 3, 'min_samples_leaf': 10, 'min_samples_split': 9, 'subsample': 0.2073938193630472}. Best is trial 38 with value: 0.5995313986325697.\u001b[0m\n",
      "\u001b[32m[I 2023-08-24 13:48:58,139]\u001b[0m Trial 41 finished with value: 0.5658556330327618 and parameters: {'n_estimators': 125, 'max_depth': 17, 'min_samples_leaf': 9, 'min_samples_split': 5, 'subsample': 0.4153920055356832}. Best is trial 38 with value: 0.5995313986325697.\u001b[0m\n",
      "\u001b[32m[I 2023-08-24 13:48:59,234]\u001b[0m Trial 42 finished with value: 0.5556099347948935 and parameters: {'n_estimators': 116, 'max_depth': 20, 'min_samples_leaf': 8, 'min_samples_split': 6, 'subsample': 0.4339692579857799}. Best is trial 38 with value: 0.5995313986325697.\u001b[0m\n",
      "\u001b[32m[I 2023-08-24 13:49:01,741]\u001b[0m Trial 43 finished with value: 0.5605945118715383 and parameters: {'n_estimators': 130, 'max_depth': 16, 'min_samples_leaf': 2, 'min_samples_split': 6, 'subsample': 0.48222785874127183}. Best is trial 38 with value: 0.5995313986325697.\u001b[0m\n",
      "\u001b[32m[I 2023-08-24 13:49:02,844]\u001b[0m Trial 44 finished with value: 0.5731794664573768 and parameters: {'n_estimators': 146, 'max_depth': 13, 'min_samples_leaf': 7, 'min_samples_split': 7, 'subsample': 0.3360219282115622}. Best is trial 38 with value: 0.5995313986325697.\u001b[0m\n",
      "\u001b[32m[I 2023-08-24 13:49:04,498]\u001b[0m Trial 45 finished with value: 0.5586995935771079 and parameters: {'n_estimators': 140, 'max_depth': 17, 'min_samples_leaf': 4, 'min_samples_split': 5, 'subsample': 0.38880399961736234}. Best is trial 38 with value: 0.5995313986325697.\u001b[0m\n",
      "\u001b[32m[I 2023-08-24 13:49:05,863]\u001b[0m Trial 46 finished with value: 0.585856373387222 and parameters: {'n_estimators': 120, 'max_depth': 19, 'min_samples_leaf': 8, 'min_samples_split': 8, 'subsample': 0.4995994285031185}. Best is trial 38 with value: 0.5995313986325697.\u001b[0m\n",
      "\u001b[32m[I 2023-08-24 13:49:06,660]\u001b[0m Trial 47 finished with value: 0.5709759563083641 and parameters: {'n_estimators': 106, 'max_depth': 14, 'min_samples_leaf': 9, 'min_samples_split': 5, 'subsample': 0.37128833445483395}. Best is trial 38 with value: 0.5995313986325697.\u001b[0m\n",
      "\u001b[32m[I 2023-08-24 13:49:07,678]\u001b[0m Trial 48 finished with value: 0.5844811629952809 and parameters: {'n_estimators': 112, 'max_depth': 25, 'min_samples_leaf': 10, 'min_samples_split': 9, 'subsample': 0.4468580641238435}. Best is trial 38 with value: 0.5995313986325697.\u001b[0m\n",
      "\u001b[32m[I 2023-08-24 13:49:08,832]\u001b[0m Trial 49 finished with value: 0.5631817833207814 and parameters: {'n_estimators': 193, 'max_depth': 11, 'min_samples_leaf': 7, 'min_samples_split': 7, 'subsample': 0.2695337069254513}. Best is trial 38 with value: 0.5995313986325697.\u001b[0m\n",
      "\u001b[32m[I 2023-08-24 13:49:10,534]\u001b[0m Trial 50 finished with value: 0.5757083356151749 and parameters: {'n_estimators': 134, 'max_depth': 8, 'min_samples_leaf': 3, 'min_samples_split': 6, 'subsample': 0.4742273583751445}. Best is trial 38 with value: 0.5995313986325697.\u001b[0m\n",
      "\u001b[32m[I 2023-08-24 13:49:11,889]\u001b[0m Trial 51 finished with value: 0.5890453620214342 and parameters: {'n_estimators': 120, 'max_depth': 19, 'min_samples_leaf': 8, 'min_samples_split': 8, 'subsample': 0.49228080271130376}. Best is trial 38 with value: 0.5995313986325697.\u001b[0m\n",
      "\u001b[32m[I 2023-08-24 13:49:13,211]\u001b[0m Trial 52 finished with value: 0.5819286248021621 and parameters: {'n_estimators': 127, 'max_depth': 18, 'min_samples_leaf': 9, 'min_samples_split': 8, 'subsample': 0.4856512651443351}. Best is trial 38 with value: 0.5995313986325697.\u001b[0m\n",
      "\u001b[32m[I 2023-08-24 13:49:14,301]\u001b[0m Trial 53 finished with value: 0.5853041076044083 and parameters: {'n_estimators': 104, 'max_depth': 21, 'min_samples_leaf': 8, 'min_samples_split': 7, 'subsample': 0.46134182346237373}. Best is trial 38 with value: 0.5995313986325697.\u001b[0m\n",
      "\u001b[32m[I 2023-08-24 13:49:15,464]\u001b[0m Trial 54 finished with value: 0.5827618898657008 and parameters: {'n_estimators': 113, 'max_depth': 16, 'min_samples_leaf': 10, 'min_samples_split': 8, 'subsample': 0.49939675988015025}. Best is trial 38 with value: 0.5995313986325697.\u001b[0m\n",
      "\u001b[32m[I 2023-08-24 13:49:16,710]\u001b[0m Trial 55 finished with value: 0.5801283011533386 and parameters: {'n_estimators': 120, 'max_depth': 24, 'min_samples_leaf': 7, 'min_samples_split': 4, 'subsample': 0.4377432974168346}. Best is trial 38 with value: 0.5995313986325697.\u001b[0m\n",
      "\u001b[32m[I 2023-08-24 13:49:18,090]\u001b[0m Trial 56 finished with value: 0.5834469147463169 and parameters: {'n_estimators': 152, 'max_depth': 12, 'min_samples_leaf': 8, 'min_samples_split': 10, 'subsample': 0.40978949899328204}. Best is trial 38 with value: 0.5995313986325697.\u001b[0m\n",
      "\u001b[32m[I 2023-08-24 13:49:19,350]\u001b[0m Trial 57 finished with value: 0.5763042106056269 and parameters: {'n_estimators': 131, 'max_depth': 14, 'min_samples_leaf': 9, 'min_samples_split': 9, 'subsample': 0.45623189637097955}. Best is trial 38 with value: 0.5995313986325697.\u001b[0m\n",
      "\u001b[32m[I 2023-08-24 13:49:20,514]\u001b[0m Trial 58 finished with value: 0.5526822244479377 and parameters: {'n_estimators': 141, 'max_depth': 18, 'min_samples_leaf': 9, 'min_samples_split': 6, 'subsample': 0.4023208531342929}. Best is trial 38 with value: 0.5995313986325697.\u001b[0m\n",
      "\u001b[32m[I 2023-08-24 13:49:22,260]\u001b[0m Trial 59 finished with value: 0.5835600748686982 and parameters: {'n_estimators': 170, 'max_depth': 7, 'min_samples_leaf': 7, 'min_samples_split': 4, 'subsample': 0.4816518351818023}. Best is trial 38 with value: 0.5995313986325697.\u001b[0m\n",
      "\u001b[32m[I 2023-08-24 13:49:23,265]\u001b[0m Trial 60 finished with value: 0.5827239569379067 and parameters: {'n_estimators': 135, 'max_depth': 4, 'min_samples_leaf': 7, 'min_samples_split': 5, 'subsample': 0.4655404293712358}. Best is trial 38 with value: 0.5995313986325697.\u001b[0m\n",
      "\u001b[32m[I 2023-08-24 13:49:24,651]\u001b[0m Trial 61 finished with value: 0.585081662328649 and parameters: {'n_estimators': 122, 'max_depth': 19, 'min_samples_leaf': 8, 'min_samples_split': 8, 'subsample': 0.4988048740698547}. Best is trial 38 with value: 0.5995313986325697.\u001b[0m\n",
      "\u001b[32m[I 2023-08-24 13:49:25,973]\u001b[0m Trial 62 finished with value: 0.5882566802652673 and parameters: {'n_estimators': 120, 'max_depth': 19, 'min_samples_leaf': 8, 'min_samples_split': 8, 'subsample': 0.48612748460669464}. Best is trial 38 with value: 0.5995313986325697.\u001b[0m\n",
      "\u001b[32m[I 2023-08-24 13:49:27,276]\u001b[0m Trial 63 finished with value: 0.5841406787444348 and parameters: {'n_estimators': 127, 'max_depth': 20, 'min_samples_leaf': 9, 'min_samples_split': 7, 'subsample': 0.4758709017671274}. Best is trial 38 with value: 0.5995313986325697.\u001b[0m\n",
      "\u001b[32m[I 2023-08-24 13:49:28,559]\u001b[0m Trial 64 finished with value: 0.5917474550156978 and parameters: {'n_estimators': 116, 'max_depth': 17, 'min_samples_leaf': 8, 'min_samples_split': 8, 'subsample': 0.4870266365266255}. Best is trial 38 with value: 0.5995313986325697.\u001b[0m\n",
      "\u001b[32m[I 2023-08-24 13:49:28,932]\u001b[0m Trial 65 finished with value: 0.4437935270374558 and parameters: {'n_estimators': 110, 'max_depth': 1, 'min_samples_leaf': 6, 'min_samples_split': 8, 'subsample': 0.44791330962456566}. Best is trial 38 with value: 0.5995313986325697.\u001b[0m\n",
      "\u001b[32m[I 2023-08-24 13:49:29,757]\u001b[0m Trial 66 finished with value: 0.5719227529542245 and parameters: {'n_estimators': 116, 'max_depth': 21, 'min_samples_leaf': 8, 'min_samples_split': 9, 'subsample': 0.33696235790301693}. Best is trial 38 with value: 0.5995313986325697.\u001b[0m\n",
      "\u001b[32m[I 2023-08-24 13:49:31,554]\u001b[0m Trial 67 finished with value: 0.5812385274780245 and parameters: {'n_estimators': 181, 'max_depth': 16, 'min_samples_leaf': 10, 'min_samples_split': 7, 'subsample': 0.4851003750525556}. Best is trial 38 with value: 0.5995313986325697.\u001b[0m\n",
      "\u001b[32m[I 2023-08-24 13:49:32,966]\u001b[0m Trial 68 finished with value: 0.5691171522413601 and parameters: {'n_estimators': 158, 'max_depth': 19, 'min_samples_leaf': 9, 'min_samples_split': 8, 'subsample': 0.4256687576271747}. Best is trial 38 with value: 0.5995313986325697.\u001b[0m\n",
      "\u001b[32m[I 2023-08-24 13:49:33,382]\u001b[0m Trial 69 finished with value: 0.5320736149129566 and parameters: {'n_estimators': 104, 'max_depth': 17, 'min_samples_leaf': 8, 'min_samples_split': 8, 'subsample': 0.18275688208867405}. Best is trial 38 with value: 0.5995313986325697.\u001b[0m\n",
      "\u001b[32m[I 2023-08-24 13:49:34,427]\u001b[0m Trial 70 finished with value: 0.5921088822765574 and parameters: {'n_estimators': 114, 'max_depth': 9, 'min_samples_leaf': 10, 'min_samples_split': 7, 'subsample': 0.4621195664119478}. Best is trial 38 with value: 0.5995313986325697.\u001b[0m\n",
      "\u001b[32m[I 2023-08-24 13:49:35,577]\u001b[0m Trial 71 finished with value: 0.5809589666089888 and parameters: {'n_estimators': 116, 'max_depth': 9, 'min_samples_leaf': 10, 'min_samples_split': 7, 'subsample': 0.4875901926734746}. Best is trial 38 with value: 0.5995313986325697.\u001b[0m\n",
      "\u001b[32m[I 2023-08-24 13:49:36,374]\u001b[0m Trial 72 finished with value: 0.5736969625567313 and parameters: {'n_estimators': 110, 'max_depth': 4, 'min_samples_leaf': 9, 'min_samples_split': 8, 'subsample': 0.46632716778644523}. Best is trial 38 with value: 0.5995313986325697.\u001b[0m\n",
      "\u001b[32m[I 2023-08-24 13:49:37,410]\u001b[0m Trial 73 finished with value: 0.5754055464580132 and parameters: {'n_estimators': 119, 'max_depth': 7, 'min_samples_leaf': 10, 'min_samples_split': 9, 'subsample': 0.4580834729201788}. Best is trial 38 with value: 0.5995313986325697.\u001b[0m\n",
      "\u001b[32m[I 2023-08-24 13:49:38,489]\u001b[0m Trial 74 finished with value: 0.5812089344679938 and parameters: {'n_estimators': 115, 'max_depth': 10, 'min_samples_leaf': 10, 'min_samples_split': 7, 'subsample': 0.47092261216329373}. Best is trial 38 with value: 0.5995313986325697.\u001b[0m\n",
      "\u001b[32m[I 2023-08-24 13:49:39,730]\u001b[0m Trial 75 finished with value: 0.5649355746973916 and parameters: {'n_estimators': 103, 'max_depth': 15, 'min_samples_leaf': 5, 'min_samples_split': 6, 'subsample': 0.43902524876293014}. Best is trial 38 with value: 0.5995313986325697.\u001b[0m\n",
      "\u001b[32m[I 2023-08-24 13:49:40,762]\u001b[0m Trial 76 finished with value: 0.5899981445619649 and parameters: {'n_estimators': 109, 'max_depth': 6, 'min_samples_leaf': 8, 'min_samples_split': 2, 'subsample': 0.48758922675405475}. Best is trial 38 with value: 0.5995313986325697.\u001b[0m\n",
      "\u001b[32m[I 2023-08-24 13:49:41,794]\u001b[0m Trial 77 finished with value: 0.5779096941436747 and parameters: {'n_estimators': 110, 'max_depth': 6, 'min_samples_leaf': 8, 'min_samples_split': 2, 'subsample': 0.4892261177441492}. Best is trial 38 with value: 0.5995313986325697.\u001b[0m\n",
      "\u001b[32m[I 2023-08-24 13:49:42,899]\u001b[0m Trial 78 finished with value: 0.5764457506091597 and parameters: {'n_estimators': 107, 'max_depth': 9, 'min_samples_leaf': 7, 'min_samples_split': 3, 'subsample': 0.45078307405287527}. Best is trial 38 with value: 0.5995313986325697.\u001b[0m\n",
      "\u001b[32m[I 2023-08-24 13:49:43,665]\u001b[0m Trial 79 finished with value: 0.5624392833332448 and parameters: {'n_estimators': 118, 'max_depth': 18, 'min_samples_leaf': 8, 'min_samples_split': 2, 'subsample': 0.3072487458721528}. Best is trial 38 with value: 0.5995313986325697.\u001b[0m\n",
      "\u001b[32m[I 2023-08-24 13:49:44,842]\u001b[0m Trial 80 finished with value: 0.577301557437199 and parameters: {'n_estimators': 113, 'max_depth': 21, 'min_samples_leaf': 9, 'min_samples_split': 3, 'subsample': 0.4885289822527754}. Best is trial 38 with value: 0.5995313986325697.\u001b[0m\n",
      "\u001b[32m[I 2023-08-24 13:49:46,104]\u001b[0m Trial 81 finished with value: 0.6069622052070126 and parameters: {'n_estimators': 127, 'max_depth': 7, 'min_samples_leaf': 7, 'min_samples_split': 2, 'subsample': 0.4682860145061074}. Best is trial 81 with value: 0.6069622052070126.\u001b[0m\n",
      "\u001b[32m[I 2023-08-24 13:49:47,451]\u001b[0m Trial 82 finished with value: 0.5856553114567814 and parameters: {'n_estimators': 122, 'max_depth': 8, 'min_samples_leaf': 6, 'min_samples_split': 2, 'subsample': 0.4715041091857502}. Best is trial 81 with value: 0.6069622052070126.\u001b[0m\n",
      "\u001b[32m[I 2023-08-24 13:49:48,828]\u001b[0m Trial 83 finished with value: 0.6013132462121364 and parameters: {'n_estimators': 126, 'max_depth': 11, 'min_samples_leaf': 7, 'min_samples_split': 2, 'subsample': 0.462562598312615}. Best is trial 81 with value: 0.6069622052070126.\u001b[0m\n",
      "\u001b[32m[I 2023-08-24 13:49:50,077]\u001b[0m Trial 84 finished with value: 0.5884716196481282 and parameters: {'n_estimators': 125, 'max_depth': 11, 'min_samples_leaf': 7, 'min_samples_split': 2, 'subsample': 0.42784836744586174}. Best is trial 81 with value: 0.6069622052070126.\u001b[0m\n",
      "\u001b[32m[I 2023-08-24 13:49:51,418]\u001b[0m Trial 85 finished with value: 0.5857038975511947 and parameters: {'n_estimators': 126, 'max_depth': 13, 'min_samples_leaf': 6, 'min_samples_split': 2, 'subsample': 0.4257500085255851}. Best is trial 81 with value: 0.6069622052070126.\u001b[0m\n",
      "\u001b[32m[I 2023-08-24 13:49:52,756]\u001b[0m Trial 86 finished with value: 0.5784025720382766 and parameters: {'n_estimators': 129, 'max_depth': 11, 'min_samples_leaf': 7, 'min_samples_split': 2, 'subsample': 0.441525904982135}. Best is trial 81 with value: 0.6069622052070126.\u001b[0m\n",
      "\u001b[32m[I 2023-08-24 13:49:54,181]\u001b[0m Trial 87 finished with value: 0.5757456148548474 and parameters: {'n_estimators': 133, 'max_depth': 10, 'min_samples_leaf': 7, 'min_samples_split': 3, 'subsample': 0.4603508899543864}. Best is trial 81 with value: 0.6069622052070126.\u001b[0m\n",
      "\u001b[32m[I 2023-08-24 13:49:55,270]\u001b[0m Trial 88 finished with value: 0.597800552489179 and parameters: {'n_estimators': 123, 'max_depth': 12, 'min_samples_leaf': 7, 'min_samples_split': 2, 'subsample': 0.38107639876404026}. Best is trial 81 with value: 0.6069622052070126.\u001b[0m\n",
      "\u001b[32m[I 2023-08-24 13:49:56,466]\u001b[0m Trial 89 finished with value: 0.5679321800562722 and parameters: {'n_estimators': 128, 'max_depth': 13, 'min_samples_leaf': 6, 'min_samples_split': 2, 'subsample': 0.38214561541060477}. Best is trial 81 with value: 0.6069622052070126.\u001b[0m\n",
      "\u001b[32m[I 2023-08-24 13:49:57,527]\u001b[0m Trial 90 finished with value: 0.5503596194173758 and parameters: {'n_estimators': 138, 'max_depth': 12, 'min_samples_leaf': 7, 'min_samples_split': 2, 'subsample': 0.3422033050627121}. Best is trial 81 with value: 0.6069622052070126.\u001b[0m\n",
      "\u001b[32m[I 2023-08-24 13:49:58,698]\u001b[0m Trial 91 finished with value: 0.5736233994006315 and parameters: {'n_estimators': 123, 'max_depth': 11, 'min_samples_leaf': 7, 'min_samples_split': 2, 'subsample': 0.4075919571535982}. Best is trial 81 with value: 0.6069622052070126.\u001b[0m\n",
      "\u001b[32m[I 2023-08-24 13:50:00,147]\u001b[0m Trial 92 finished with value: 0.5823164424588506 and parameters: {'n_estimators': 132, 'max_depth': 12, 'min_samples_leaf': 7, 'min_samples_split': 3, 'subsample': 0.4534341073698911}. Best is trial 81 with value: 0.6069622052070126.\u001b[0m\n",
      "\u001b[32m[I 2023-08-24 13:50:01,319]\u001b[0m Trial 93 finished with value: 0.5927046849594434 and parameters: {'n_estimators': 124, 'max_depth': 9, 'min_samples_leaf': 6, 'min_samples_split': 2, 'subsample': 0.3974689021753921}. Best is trial 81 with value: 0.6069622052070126.\u001b[0m\n",
      "\u001b[32m[I 2023-08-24 13:50:02,291]\u001b[0m Trial 94 finished with value: 0.5717447108743989 and parameters: {'n_estimators': 121, 'max_depth': 7, 'min_samples_leaf': 6, 'min_samples_split': 2, 'subsample': 0.36087449247639547}. Best is trial 81 with value: 0.6069622052070126.\u001b[0m\n",
      "\u001b[32m[I 2023-08-24 13:50:03,430]\u001b[0m Trial 95 finished with value: 0.5606361271901806 and parameters: {'n_estimators': 115, 'max_depth': 9, 'min_samples_leaf': 5, 'min_samples_split': 3, 'subsample': 0.38525201859974173}. Best is trial 81 with value: 0.6069622052070126.\u001b[0m\n",
      "\u001b[32m[I 2023-08-24 13:50:04,395]\u001b[0m Trial 96 finished with value: 0.5754242753698124 and parameters: {'n_estimators': 124, 'max_depth': 6, 'min_samples_leaf': 6, 'min_samples_split': 2, 'subsample': 0.3702742486502935}. Best is trial 81 with value: 0.6069622052070126.\u001b[0m\n",
      "\u001b[32m[I 2023-08-24 13:50:05,658]\u001b[0m Trial 97 finished with value: 0.5737520731498675 and parameters: {'n_estimators': 118, 'max_depth': 15, 'min_samples_leaf': 5, 'min_samples_split': 2, 'subsample': 0.39600970597842244}. Best is trial 81 with value: 0.6069622052070126.\u001b[0m\n",
      "\u001b[32m[I 2023-08-24 13:50:06,383]\u001b[0m Trial 98 finished with value: 0.5533098945877096 and parameters: {'n_estimators': 136, 'max_depth': 4, 'min_samples_leaf': 6, 'min_samples_split': 3, 'subsample': 0.2794076091278076}. Best is trial 81 with value: 0.6069622052070126.\u001b[0m\n",
      "\u001b[32m[I 2023-08-24 13:50:07,609]\u001b[0m Trial 99 finished with value: 0.5650888320470878 and parameters: {'n_estimators': 129, 'max_depth': 9, 'min_samples_leaf': 7, 'min_samples_split': 2, 'subsample': 0.4189195039365564}. Best is trial 81 with value: 0.6069622052070126.\u001b[0m\n"
     ]
    },
    {
     "name": "stdout",
     "output_type": "stream",
     "text": [
      "Best r2:  0.6069622052070126\n",
      "Best trial: {'n_estimators': 127, 'max_depth': 7, 'min_samples_leaf': 7, 'min_samples_split': 2, 'subsample': 0.4682860145061074}\n"
     ]
    }
   ],
   "source": [
    "sampler = TPESampler()\n",
    "study = optuna.create_study(\n",
    "    study_name=\"gb_parameter_opt\",\n",
    "    direction=\"maximize\",\n",
    "    sampler=sampler,\n",
    ")\n",
    "\n",
    "study.optimize(lambda trial : objectiveGB(trial, Cd_X_train, Cd_y_train), n_trials=100)\n",
    "print(\"Best r2: \", study.best_value)\n",
    "print(\"Best trial:\", study.best_trial.params)"
   ]
  },
  {
   "cell_type": "code",
   "execution_count": 41,
   "id": "861f88d8",
   "metadata": {},
   "outputs": [
    {
     "data": {
      "application/vnd.plotly.v1+json": {
       "config": {
        "plotlyServerURL": "https://plot.ly"
       },
       "data": [
        {
         "dimensions": [
          {
           "label": "Objective Value",
           "range": [
            0.4437935270374558,
            0.6069622052070126
           ],
           "values": [
            0.5537949567717272,
            0.49515545672495714,
            0.499492690107164,
            0.5579931972811514,
            0.5418612102596099,
            0.5145054550780376,
            0.5750968935759289,
            0.5399006933517368,
            0.49643583722731044,
            0.5277824386137239,
            0.5626180703247678,
            0.5425635856929232,
            0.5466321416809127,
            0.5559251565312134,
            0.5757668713148304,
            0.5877717791305287,
            0.476935182542028,
            0.5710301963178895,
            0.5732369646609318,
            0.5759127028277427,
            0.5729923015434072,
            0.5823633753133297,
            0.576454465227486,
            0.5642310311597363,
            0.5647839161044048,
            0.5710732049917073,
            0.5928357283265813,
            0.565008920834372,
            0.5717439949937964,
            0.5861692221367104,
            0.5543076456555565,
            0.5814176093392315,
            0.5878149812542295,
            0.5814788275414788,
            0.4746255917837323,
            0.5636652557004892,
            0.5804131826933634,
            0.583345720688371,
            0.5995313986325697,
            0.5791340954879572,
            0.5395933197120195,
            0.5658556330327618,
            0.5556099347948935,
            0.5605945118715383,
            0.5731794664573768,
            0.5586995935771079,
            0.585856373387222,
            0.5709759563083641,
            0.5844811629952809,
            0.5631817833207814,
            0.5757083356151749,
            0.5890453620214342,
            0.5819286248021621,
            0.5853041076044083,
            0.5827618898657008,
            0.5801283011533386,
            0.5834469147463169,
            0.5763042106056269,
            0.5526822244479377,
            0.5835600748686982,
            0.5827239569379067,
            0.585081662328649,
            0.5882566802652673,
            0.5841406787444348,
            0.5917474550156978,
            0.4437935270374558,
            0.5719227529542245,
            0.5812385274780245,
            0.5691171522413601,
            0.5320736149129566,
            0.5921088822765574,
            0.5809589666089888,
            0.5736969625567313,
            0.5754055464580132,
            0.5812089344679938,
            0.5649355746973916,
            0.5899981445619649,
            0.5779096941436747,
            0.5764457506091597,
            0.5624392833332448,
            0.577301557437199,
            0.6069622052070126,
            0.5856553114567814,
            0.6013132462121364,
            0.5884716196481282,
            0.5857038975511947,
            0.5784025720382766,
            0.5757456148548474,
            0.597800552489179,
            0.5679321800562722,
            0.5503596194173758,
            0.5736233994006315,
            0.5823164424588506,
            0.5927046849594434,
            0.5717447108743989,
            0.5606361271901806,
            0.5754242753698124,
            0.5737520731498675,
            0.5533098945877096,
            0.5650888320470878
           ]
          },
          {
           "label": "max_depth",
           "range": [
            1,
            30
           ],
           "values": [
            5,
            8,
            3,
            17,
            19,
            16,
            8,
            27,
            2,
            22,
            10,
            10,
            12,
            12,
            7,
            6,
            1,
            5,
            30,
            6,
            13,
            6,
            5,
            3,
            10,
            5,
            14,
            20,
            15,
            14,
            23,
            14,
            8,
            9,
            18,
            11,
            15,
            8,
            17,
            22,
            3,
            17,
            20,
            16,
            13,
            17,
            19,
            14,
            25,
            11,
            8,
            19,
            18,
            21,
            16,
            24,
            12,
            14,
            18,
            7,
            4,
            19,
            19,
            20,
            17,
            1,
            21,
            16,
            19,
            17,
            9,
            9,
            4,
            7,
            10,
            15,
            6,
            6,
            9,
            18,
            21,
            7,
            8,
            11,
            11,
            13,
            11,
            10,
            12,
            13,
            12,
            11,
            12,
            9,
            7,
            9,
            6,
            15,
            4,
            9
           ]
          },
          {
           "label": "min_samples_leaf",
           "range": [
            1,
            10
           ],
           "values": [
            8,
            3,
            10,
            5,
            1,
            9,
            7,
            1,
            3,
            4,
            7,
            7,
            7,
            6,
            8,
            10,
            10,
            9,
            9,
            10,
            10,
            8,
            9,
            8,
            9,
            8,
            6,
            6,
            5,
            8,
            6,
            8,
            8,
            4,
            7,
            5,
            10,
            6,
            9,
            9,
            10,
            9,
            8,
            2,
            7,
            4,
            8,
            9,
            10,
            7,
            3,
            8,
            9,
            8,
            10,
            7,
            8,
            9,
            9,
            7,
            7,
            8,
            8,
            9,
            8,
            6,
            8,
            10,
            9,
            8,
            10,
            10,
            9,
            10,
            10,
            5,
            8,
            8,
            7,
            8,
            9,
            7,
            6,
            7,
            7,
            6,
            7,
            7,
            7,
            6,
            7,
            7,
            7,
            6,
            6,
            5,
            6,
            5,
            6,
            7
           ]
          },
          {
           "label": "min_samples_split",
           "range": [
            2,
            10
           ],
           "values": [
            5,
            7,
            10,
            10,
            7,
            8,
            5,
            10,
            2,
            5,
            3,
            2,
            4,
            3,
            4,
            5,
            6,
            4,
            6,
            4,
            8,
            4,
            3,
            3,
            3,
            5,
            2,
            2,
            2,
            5,
            7,
            5,
            6,
            6,
            8,
            7,
            9,
            6,
            7,
            7,
            9,
            5,
            6,
            6,
            7,
            5,
            8,
            5,
            9,
            7,
            6,
            8,
            8,
            7,
            8,
            4,
            10,
            9,
            6,
            4,
            5,
            8,
            8,
            7,
            8,
            8,
            9,
            7,
            8,
            8,
            7,
            7,
            8,
            9,
            7,
            6,
            2,
            2,
            3,
            2,
            3,
            2,
            2,
            2,
            2,
            2,
            2,
            3,
            2,
            2,
            2,
            2,
            3,
            2,
            2,
            3,
            2,
            2,
            3,
            2
           ]
          },
          {
           "label": "n_estimators",
           "range": [
            100,
            198
           ],
           "values": [
            114,
            187,
            101,
            133,
            156,
            101,
            137,
            167,
            144,
            141,
            197,
            198,
            175,
            124,
            159,
            158,
            159,
            172,
            153,
            177,
            183,
            164,
            166,
            164,
            148,
            166,
            185,
            189,
            178,
            124,
            118,
            130,
            108,
            107,
            112,
            123,
            108,
            100,
            130,
            137,
            187,
            125,
            116,
            130,
            146,
            140,
            120,
            106,
            112,
            193,
            134,
            120,
            127,
            104,
            113,
            120,
            152,
            131,
            141,
            170,
            135,
            122,
            120,
            127,
            116,
            110,
            116,
            181,
            158,
            104,
            114,
            116,
            110,
            119,
            115,
            103,
            109,
            110,
            107,
            118,
            113,
            127,
            122,
            126,
            125,
            126,
            129,
            133,
            123,
            128,
            138,
            123,
            132,
            124,
            121,
            115,
            124,
            118,
            136,
            129
           ]
          },
          {
           "label": "subsample",
           "range": [
            0.10301569968517577,
            0.4995994285031185
           ],
           "values": [
            0.22801418077881774,
            0.1291496630735079,
            0.17238937412244132,
            0.4226375323375313,
            0.4505248824544299,
            0.14746115279869088,
            0.39559650069247676,
            0.3578077036138253,
            0.1616407813178117,
            0.13926650542552094,
            0.31919059271541816,
            0.2948866018272076,
            0.35436719644234455,
            0.30238004853761863,
            0.4965047726854338,
            0.49954693250521165,
            0.4967887494879935,
            0.485027537187222,
            0.4415851362748841,
            0.395164910340422,
            0.3855220179385321,
            0.46811228035879304,
            0.4559900314377085,
            0.4581394867197484,
            0.46440979932763254,
            0.4171191531499119,
            0.47594577844282565,
            0.21669651325140526,
            0.4212964407737722,
            0.4766103190646694,
            0.26507017202799144,
            0.4793682856462349,
            0.4989787117815183,
            0.49523363135319204,
            0.10301569968517577,
            0.4471873430960019,
            0.43022418325986606,
            0.4726326420942077,
            0.36505842297595237,
            0.3619094923284698,
            0.2073938193630472,
            0.4153920055356832,
            0.4339692579857799,
            0.48222785874127183,
            0.3360219282115622,
            0.38880399961736234,
            0.4995994285031185,
            0.37128833445483395,
            0.4468580641238435,
            0.2695337069254513,
            0.4742273583751445,
            0.49228080271130376,
            0.4856512651443351,
            0.46134182346237373,
            0.49939675988015025,
            0.4377432974168346,
            0.40978949899328204,
            0.45623189637097955,
            0.4023208531342929,
            0.4816518351818023,
            0.4655404293712358,
            0.4988048740698547,
            0.48612748460669464,
            0.4758709017671274,
            0.4870266365266255,
            0.44791330962456566,
            0.33696235790301693,
            0.4851003750525556,
            0.4256687576271747,
            0.18275688208867405,
            0.4621195664119478,
            0.4875901926734746,
            0.46632716778644523,
            0.4580834729201788,
            0.47092261216329373,
            0.43902524876293014,
            0.48758922675405475,
            0.4892261177441492,
            0.45078307405287527,
            0.3072487458721528,
            0.4885289822527754,
            0.4682860145061074,
            0.4715041091857502,
            0.462562598312615,
            0.42784836744586174,
            0.4257500085255851,
            0.441525904982135,
            0.4603508899543864,
            0.38107639876404026,
            0.38214561541060477,
            0.3422033050627121,
            0.4075919571535982,
            0.4534341073698911,
            0.3974689021753921,
            0.36087449247639547,
            0.38525201859974173,
            0.3702742486502935,
            0.39600970597842244,
            0.2794076091278076,
            0.4189195039365564
           ]
          }
         ],
         "labelangle": 30,
         "labelside": "bottom",
         "line": {
          "color": [
           0.5537949567717272,
           0.49515545672495714,
           0.499492690107164,
           0.5579931972811514,
           0.5418612102596099,
           0.5145054550780376,
           0.5750968935759289,
           0.5399006933517368,
           0.49643583722731044,
           0.5277824386137239,
           0.5626180703247678,
           0.5425635856929232,
           0.5466321416809127,
           0.5559251565312134,
           0.5757668713148304,
           0.5877717791305287,
           0.476935182542028,
           0.5710301963178895,
           0.5732369646609318,
           0.5759127028277427,
           0.5729923015434072,
           0.5823633753133297,
           0.576454465227486,
           0.5642310311597363,
           0.5647839161044048,
           0.5710732049917073,
           0.5928357283265813,
           0.565008920834372,
           0.5717439949937964,
           0.5861692221367104,
           0.5543076456555565,
           0.5814176093392315,
           0.5878149812542295,
           0.5814788275414788,
           0.4746255917837323,
           0.5636652557004892,
           0.5804131826933634,
           0.583345720688371,
           0.5995313986325697,
           0.5791340954879572,
           0.5395933197120195,
           0.5658556330327618,
           0.5556099347948935,
           0.5605945118715383,
           0.5731794664573768,
           0.5586995935771079,
           0.585856373387222,
           0.5709759563083641,
           0.5844811629952809,
           0.5631817833207814,
           0.5757083356151749,
           0.5890453620214342,
           0.5819286248021621,
           0.5853041076044083,
           0.5827618898657008,
           0.5801283011533386,
           0.5834469147463169,
           0.5763042106056269,
           0.5526822244479377,
           0.5835600748686982,
           0.5827239569379067,
           0.585081662328649,
           0.5882566802652673,
           0.5841406787444348,
           0.5917474550156978,
           0.4437935270374558,
           0.5719227529542245,
           0.5812385274780245,
           0.5691171522413601,
           0.5320736149129566,
           0.5921088822765574,
           0.5809589666089888,
           0.5736969625567313,
           0.5754055464580132,
           0.5812089344679938,
           0.5649355746973916,
           0.5899981445619649,
           0.5779096941436747,
           0.5764457506091597,
           0.5624392833332448,
           0.577301557437199,
           0.6069622052070126,
           0.5856553114567814,
           0.6013132462121364,
           0.5884716196481282,
           0.5857038975511947,
           0.5784025720382766,
           0.5757456148548474,
           0.597800552489179,
           0.5679321800562722,
           0.5503596194173758,
           0.5736233994006315,
           0.5823164424588506,
           0.5927046849594434,
           0.5717447108743989,
           0.5606361271901806,
           0.5754242753698124,
           0.5737520731498675,
           0.5533098945877096,
           0.5650888320470878
          ],
          "colorbar": {
           "title": {
            "text": "Objective Value"
           }
          },
          "colorscale": [
           [
            0,
            "rgb(247,251,255)"
           ],
           [
            0.125,
            "rgb(222,235,247)"
           ],
           [
            0.25,
            "rgb(198,219,239)"
           ],
           [
            0.375,
            "rgb(158,202,225)"
           ],
           [
            0.5,
            "rgb(107,174,214)"
           ],
           [
            0.625,
            "rgb(66,146,198)"
           ],
           [
            0.75,
            "rgb(33,113,181)"
           ],
           [
            0.875,
            "rgb(8,81,156)"
           ],
           [
            1,
            "rgb(8,48,107)"
           ]
          ],
          "reversescale": false,
          "showscale": true
         },
         "type": "parcoords"
        }
       ],
       "layout": {
        "template": {
         "data": {
          "bar": [
           {
            "error_x": {
             "color": "#2a3f5f"
            },
            "error_y": {
             "color": "#2a3f5f"
            },
            "marker": {
             "line": {
              "color": "#E5ECF6",
              "width": 0.5
             },
             "pattern": {
              "fillmode": "overlay",
              "size": 10,
              "solidity": 0.2
             }
            },
            "type": "bar"
           }
          ],
          "barpolar": [
           {
            "marker": {
             "line": {
              "color": "#E5ECF6",
              "width": 0.5
             },
             "pattern": {
              "fillmode": "overlay",
              "size": 10,
              "solidity": 0.2
             }
            },
            "type": "barpolar"
           }
          ],
          "carpet": [
           {
            "aaxis": {
             "endlinecolor": "#2a3f5f",
             "gridcolor": "white",
             "linecolor": "white",
             "minorgridcolor": "white",
             "startlinecolor": "#2a3f5f"
            },
            "baxis": {
             "endlinecolor": "#2a3f5f",
             "gridcolor": "white",
             "linecolor": "white",
             "minorgridcolor": "white",
             "startlinecolor": "#2a3f5f"
            },
            "type": "carpet"
           }
          ],
          "choropleth": [
           {
            "colorbar": {
             "outlinewidth": 0,
             "ticks": ""
            },
            "type": "choropleth"
           }
          ],
          "contour": [
           {
            "colorbar": {
             "outlinewidth": 0,
             "ticks": ""
            },
            "colorscale": [
             [
              0,
              "#0d0887"
             ],
             [
              0.1111111111111111,
              "#46039f"
             ],
             [
              0.2222222222222222,
              "#7201a8"
             ],
             [
              0.3333333333333333,
              "#9c179e"
             ],
             [
              0.4444444444444444,
              "#bd3786"
             ],
             [
              0.5555555555555556,
              "#d8576b"
             ],
             [
              0.6666666666666666,
              "#ed7953"
             ],
             [
              0.7777777777777778,
              "#fb9f3a"
             ],
             [
              0.8888888888888888,
              "#fdca26"
             ],
             [
              1,
              "#f0f921"
             ]
            ],
            "type": "contour"
           }
          ],
          "contourcarpet": [
           {
            "colorbar": {
             "outlinewidth": 0,
             "ticks": ""
            },
            "type": "contourcarpet"
           }
          ],
          "heatmap": [
           {
            "colorbar": {
             "outlinewidth": 0,
             "ticks": ""
            },
            "colorscale": [
             [
              0,
              "#0d0887"
             ],
             [
              0.1111111111111111,
              "#46039f"
             ],
             [
              0.2222222222222222,
              "#7201a8"
             ],
             [
              0.3333333333333333,
              "#9c179e"
             ],
             [
              0.4444444444444444,
              "#bd3786"
             ],
             [
              0.5555555555555556,
              "#d8576b"
             ],
             [
              0.6666666666666666,
              "#ed7953"
             ],
             [
              0.7777777777777778,
              "#fb9f3a"
             ],
             [
              0.8888888888888888,
              "#fdca26"
             ],
             [
              1,
              "#f0f921"
             ]
            ],
            "type": "heatmap"
           }
          ],
          "heatmapgl": [
           {
            "colorbar": {
             "outlinewidth": 0,
             "ticks": ""
            },
            "colorscale": [
             [
              0,
              "#0d0887"
             ],
             [
              0.1111111111111111,
              "#46039f"
             ],
             [
              0.2222222222222222,
              "#7201a8"
             ],
             [
              0.3333333333333333,
              "#9c179e"
             ],
             [
              0.4444444444444444,
              "#bd3786"
             ],
             [
              0.5555555555555556,
              "#d8576b"
             ],
             [
              0.6666666666666666,
              "#ed7953"
             ],
             [
              0.7777777777777778,
              "#fb9f3a"
             ],
             [
              0.8888888888888888,
              "#fdca26"
             ],
             [
              1,
              "#f0f921"
             ]
            ],
            "type": "heatmapgl"
           }
          ],
          "histogram": [
           {
            "marker": {
             "pattern": {
              "fillmode": "overlay",
              "size": 10,
              "solidity": 0.2
             }
            },
            "type": "histogram"
           }
          ],
          "histogram2d": [
           {
            "colorbar": {
             "outlinewidth": 0,
             "ticks": ""
            },
            "colorscale": [
             [
              0,
              "#0d0887"
             ],
             [
              0.1111111111111111,
              "#46039f"
             ],
             [
              0.2222222222222222,
              "#7201a8"
             ],
             [
              0.3333333333333333,
              "#9c179e"
             ],
             [
              0.4444444444444444,
              "#bd3786"
             ],
             [
              0.5555555555555556,
              "#d8576b"
             ],
             [
              0.6666666666666666,
              "#ed7953"
             ],
             [
              0.7777777777777778,
              "#fb9f3a"
             ],
             [
              0.8888888888888888,
              "#fdca26"
             ],
             [
              1,
              "#f0f921"
             ]
            ],
            "type": "histogram2d"
           }
          ],
          "histogram2dcontour": [
           {
            "colorbar": {
             "outlinewidth": 0,
             "ticks": ""
            },
            "colorscale": [
             [
              0,
              "#0d0887"
             ],
             [
              0.1111111111111111,
              "#46039f"
             ],
             [
              0.2222222222222222,
              "#7201a8"
             ],
             [
              0.3333333333333333,
              "#9c179e"
             ],
             [
              0.4444444444444444,
              "#bd3786"
             ],
             [
              0.5555555555555556,
              "#d8576b"
             ],
             [
              0.6666666666666666,
              "#ed7953"
             ],
             [
              0.7777777777777778,
              "#fb9f3a"
             ],
             [
              0.8888888888888888,
              "#fdca26"
             ],
             [
              1,
              "#f0f921"
             ]
            ],
            "type": "histogram2dcontour"
           }
          ],
          "mesh3d": [
           {
            "colorbar": {
             "outlinewidth": 0,
             "ticks": ""
            },
            "type": "mesh3d"
           }
          ],
          "parcoords": [
           {
            "line": {
             "colorbar": {
              "outlinewidth": 0,
              "ticks": ""
             }
            },
            "type": "parcoords"
           }
          ],
          "pie": [
           {
            "automargin": true,
            "type": "pie"
           }
          ],
          "scatter": [
           {
            "marker": {
             "colorbar": {
              "outlinewidth": 0,
              "ticks": ""
             }
            },
            "type": "scatter"
           }
          ],
          "scatter3d": [
           {
            "line": {
             "colorbar": {
              "outlinewidth": 0,
              "ticks": ""
             }
            },
            "marker": {
             "colorbar": {
              "outlinewidth": 0,
              "ticks": ""
             }
            },
            "type": "scatter3d"
           }
          ],
          "scattercarpet": [
           {
            "marker": {
             "colorbar": {
              "outlinewidth": 0,
              "ticks": ""
             }
            },
            "type": "scattercarpet"
           }
          ],
          "scattergeo": [
           {
            "marker": {
             "colorbar": {
              "outlinewidth": 0,
              "ticks": ""
             }
            },
            "type": "scattergeo"
           }
          ],
          "scattergl": [
           {
            "marker": {
             "colorbar": {
              "outlinewidth": 0,
              "ticks": ""
             }
            },
            "type": "scattergl"
           }
          ],
          "scattermapbox": [
           {
            "marker": {
             "colorbar": {
              "outlinewidth": 0,
              "ticks": ""
             }
            },
            "type": "scattermapbox"
           }
          ],
          "scatterpolar": [
           {
            "marker": {
             "colorbar": {
              "outlinewidth": 0,
              "ticks": ""
             }
            },
            "type": "scatterpolar"
           }
          ],
          "scatterpolargl": [
           {
            "marker": {
             "colorbar": {
              "outlinewidth": 0,
              "ticks": ""
             }
            },
            "type": "scatterpolargl"
           }
          ],
          "scatterternary": [
           {
            "marker": {
             "colorbar": {
              "outlinewidth": 0,
              "ticks": ""
             }
            },
            "type": "scatterternary"
           }
          ],
          "surface": [
           {
            "colorbar": {
             "outlinewidth": 0,
             "ticks": ""
            },
            "colorscale": [
             [
              0,
              "#0d0887"
             ],
             [
              0.1111111111111111,
              "#46039f"
             ],
             [
              0.2222222222222222,
              "#7201a8"
             ],
             [
              0.3333333333333333,
              "#9c179e"
             ],
             [
              0.4444444444444444,
              "#bd3786"
             ],
             [
              0.5555555555555556,
              "#d8576b"
             ],
             [
              0.6666666666666666,
              "#ed7953"
             ],
             [
              0.7777777777777778,
              "#fb9f3a"
             ],
             [
              0.8888888888888888,
              "#fdca26"
             ],
             [
              1,
              "#f0f921"
             ]
            ],
            "type": "surface"
           }
          ],
          "table": [
           {
            "cells": {
             "fill": {
              "color": "#EBF0F8"
             },
             "line": {
              "color": "white"
             }
            },
            "header": {
             "fill": {
              "color": "#C8D4E3"
             },
             "line": {
              "color": "white"
             }
            },
            "type": "table"
           }
          ]
         },
         "layout": {
          "annotationdefaults": {
           "arrowcolor": "#2a3f5f",
           "arrowhead": 0,
           "arrowwidth": 1
          },
          "autotypenumbers": "strict",
          "coloraxis": {
           "colorbar": {
            "outlinewidth": 0,
            "ticks": ""
           }
          },
          "colorscale": {
           "diverging": [
            [
             0,
             "#8e0152"
            ],
            [
             0.1,
             "#c51b7d"
            ],
            [
             0.2,
             "#de77ae"
            ],
            [
             0.3,
             "#f1b6da"
            ],
            [
             0.4,
             "#fde0ef"
            ],
            [
             0.5,
             "#f7f7f7"
            ],
            [
             0.6,
             "#e6f5d0"
            ],
            [
             0.7,
             "#b8e186"
            ],
            [
             0.8,
             "#7fbc41"
            ],
            [
             0.9,
             "#4d9221"
            ],
            [
             1,
             "#276419"
            ]
           ],
           "sequential": [
            [
             0,
             "#0d0887"
            ],
            [
             0.1111111111111111,
             "#46039f"
            ],
            [
             0.2222222222222222,
             "#7201a8"
            ],
            [
             0.3333333333333333,
             "#9c179e"
            ],
            [
             0.4444444444444444,
             "#bd3786"
            ],
            [
             0.5555555555555556,
             "#d8576b"
            ],
            [
             0.6666666666666666,
             "#ed7953"
            ],
            [
             0.7777777777777778,
             "#fb9f3a"
            ],
            [
             0.8888888888888888,
             "#fdca26"
            ],
            [
             1,
             "#f0f921"
            ]
           ],
           "sequentialminus": [
            [
             0,
             "#0d0887"
            ],
            [
             0.1111111111111111,
             "#46039f"
            ],
            [
             0.2222222222222222,
             "#7201a8"
            ],
            [
             0.3333333333333333,
             "#9c179e"
            ],
            [
             0.4444444444444444,
             "#bd3786"
            ],
            [
             0.5555555555555556,
             "#d8576b"
            ],
            [
             0.6666666666666666,
             "#ed7953"
            ],
            [
             0.7777777777777778,
             "#fb9f3a"
            ],
            [
             0.8888888888888888,
             "#fdca26"
            ],
            [
             1,
             "#f0f921"
            ]
           ]
          },
          "colorway": [
           "#636efa",
           "#EF553B",
           "#00cc96",
           "#ab63fa",
           "#FFA15A",
           "#19d3f3",
           "#FF6692",
           "#B6E880",
           "#FF97FF",
           "#FECB52"
          ],
          "font": {
           "color": "#2a3f5f"
          },
          "geo": {
           "bgcolor": "white",
           "lakecolor": "white",
           "landcolor": "#E5ECF6",
           "showlakes": true,
           "showland": true,
           "subunitcolor": "white"
          },
          "hoverlabel": {
           "align": "left"
          },
          "hovermode": "closest",
          "mapbox": {
           "style": "light"
          },
          "paper_bgcolor": "white",
          "plot_bgcolor": "#E5ECF6",
          "polar": {
           "angularaxis": {
            "gridcolor": "white",
            "linecolor": "white",
            "ticks": ""
           },
           "bgcolor": "#E5ECF6",
           "radialaxis": {
            "gridcolor": "white",
            "linecolor": "white",
            "ticks": ""
           }
          },
          "scene": {
           "xaxis": {
            "backgroundcolor": "#E5ECF6",
            "gridcolor": "white",
            "gridwidth": 2,
            "linecolor": "white",
            "showbackground": true,
            "ticks": "",
            "zerolinecolor": "white"
           },
           "yaxis": {
            "backgroundcolor": "#E5ECF6",
            "gridcolor": "white",
            "gridwidth": 2,
            "linecolor": "white",
            "showbackground": true,
            "ticks": "",
            "zerolinecolor": "white"
           },
           "zaxis": {
            "backgroundcolor": "#E5ECF6",
            "gridcolor": "white",
            "gridwidth": 2,
            "linecolor": "white",
            "showbackground": true,
            "ticks": "",
            "zerolinecolor": "white"
           }
          },
          "shapedefaults": {
           "line": {
            "color": "#2a3f5f"
           }
          },
          "ternary": {
           "aaxis": {
            "gridcolor": "white",
            "linecolor": "white",
            "ticks": ""
           },
           "baxis": {
            "gridcolor": "white",
            "linecolor": "white",
            "ticks": ""
           },
           "bgcolor": "#E5ECF6",
           "caxis": {
            "gridcolor": "white",
            "linecolor": "white",
            "ticks": ""
           }
          },
          "title": {
           "x": 0.05
          },
          "xaxis": {
           "automargin": true,
           "gridcolor": "white",
           "linecolor": "white",
           "ticks": "",
           "title": {
            "standoff": 15
           },
           "zerolinecolor": "white",
           "zerolinewidth": 2
          },
          "yaxis": {
           "automargin": true,
           "gridcolor": "white",
           "linecolor": "white",
           "ticks": "",
           "title": {
            "standoff": 15
           },
           "zerolinecolor": "white",
           "zerolinewidth": 2
          }
         }
        },
        "title": {
         "text": "Parallel Coordinate Plot"
        }
       }
      }
     },
     "metadata": {},
     "output_type": "display_data"
    }
   ],
   "source": [
    "optuna.visualization.plot_parallel_coordinate(study)"
   ]
  },
  {
   "cell_type": "code",
   "execution_count": 42,
   "id": "4afa60aa",
   "metadata": {},
   "outputs": [
    {
     "name": "stdout",
     "output_type": "stream",
     "text": [
      "Best trial: {'n_estimators': 127, 'max_depth': 7, 'min_samples_leaf': 7, 'min_samples_split': 2, 'subsample': 0.4682860145061074}\n"
     ]
    },
    {
     "data": {
      "text/plain": [
       "127"
      ]
     },
     "execution_count": 42,
     "metadata": {},
     "output_type": "execute_result"
    }
   ],
   "source": [
    "print(\"Best trial:\", study.best_trial.params)\n",
    "study.best_trial.params[\"n_estimators\"]"
   ]
  },
  {
   "cell_type": "code",
   "execution_count": 43,
   "id": "3b45adad",
   "metadata": {},
   "outputs": [
    {
     "data": {
      "text/html": [
       "<style>#sk-container-id-2 {color: black;}#sk-container-id-2 pre{padding: 0;}#sk-container-id-2 div.sk-toggleable {background-color: white;}#sk-container-id-2 label.sk-toggleable__label {cursor: pointer;display: block;width: 100%;margin-bottom: 0;padding: 0.3em;box-sizing: border-box;text-align: center;}#sk-container-id-2 label.sk-toggleable__label-arrow:before {content: \"▸\";float: left;margin-right: 0.25em;color: #696969;}#sk-container-id-2 label.sk-toggleable__label-arrow:hover:before {color: black;}#sk-container-id-2 div.sk-estimator:hover label.sk-toggleable__label-arrow:before {color: black;}#sk-container-id-2 div.sk-toggleable__content {max-height: 0;max-width: 0;overflow: hidden;text-align: left;background-color: #f0f8ff;}#sk-container-id-2 div.sk-toggleable__content pre {margin: 0.2em;color: black;border-radius: 0.25em;background-color: #f0f8ff;}#sk-container-id-2 input.sk-toggleable__control:checked~div.sk-toggleable__content {max-height: 200px;max-width: 100%;overflow: auto;}#sk-container-id-2 input.sk-toggleable__control:checked~label.sk-toggleable__label-arrow:before {content: \"▾\";}#sk-container-id-2 div.sk-estimator input.sk-toggleable__control:checked~label.sk-toggleable__label {background-color: #d4ebff;}#sk-container-id-2 div.sk-label input.sk-toggleable__control:checked~label.sk-toggleable__label {background-color: #d4ebff;}#sk-container-id-2 input.sk-hidden--visually {border: 0;clip: rect(1px 1px 1px 1px);clip: rect(1px, 1px, 1px, 1px);height: 1px;margin: -1px;overflow: hidden;padding: 0;position: absolute;width: 1px;}#sk-container-id-2 div.sk-estimator {font-family: monospace;background-color: #f0f8ff;border: 1px dotted black;border-radius: 0.25em;box-sizing: border-box;margin-bottom: 0.5em;}#sk-container-id-2 div.sk-estimator:hover {background-color: #d4ebff;}#sk-container-id-2 div.sk-parallel-item::after {content: \"\";width: 100%;border-bottom: 1px solid gray;flex-grow: 1;}#sk-container-id-2 div.sk-label:hover label.sk-toggleable__label {background-color: #d4ebff;}#sk-container-id-2 div.sk-serial::before {content: \"\";position: absolute;border-left: 1px solid gray;box-sizing: border-box;top: 0;bottom: 0;left: 50%;z-index: 0;}#sk-container-id-2 div.sk-serial {display: flex;flex-direction: column;align-items: center;background-color: white;padding-right: 0.2em;padding-left: 0.2em;position: relative;}#sk-container-id-2 div.sk-item {position: relative;z-index: 1;}#sk-container-id-2 div.sk-parallel {display: flex;align-items: stretch;justify-content: center;background-color: white;position: relative;}#sk-container-id-2 div.sk-item::before, #sk-container-id-2 div.sk-parallel-item::before {content: \"\";position: absolute;border-left: 1px solid gray;box-sizing: border-box;top: 0;bottom: 0;left: 50%;z-index: -1;}#sk-container-id-2 div.sk-parallel-item {display: flex;flex-direction: column;z-index: 1;position: relative;background-color: white;}#sk-container-id-2 div.sk-parallel-item:first-child::after {align-self: flex-end;width: 50%;}#sk-container-id-2 div.sk-parallel-item:last-child::after {align-self: flex-start;width: 50%;}#sk-container-id-2 div.sk-parallel-item:only-child::after {width: 0;}#sk-container-id-2 div.sk-dashed-wrapped {border: 1px dashed gray;margin: 0 0.4em 0.5em 0.4em;box-sizing: border-box;padding-bottom: 0.4em;background-color: white;}#sk-container-id-2 div.sk-label label {font-family: monospace;font-weight: bold;display: inline-block;line-height: 1.2em;}#sk-container-id-2 div.sk-label-container {text-align: center;}#sk-container-id-2 div.sk-container {/* jupyter's `normalize.less` sets `[hidden] { display: none; }` but bootstrap.min.css set `[hidden] { display: none !important; }` so we also need the `!important` here to be able to override the default hidden behavior on the sphinx rendered scikit-learn.org. See: https://github.com/scikit-learn/scikit-learn/issues/21755 */display: inline-block !important;position: relative;}#sk-container-id-2 div.sk-text-repr-fallback {display: none;}</style><div id=\"sk-container-id-2\" class=\"sk-top-container\"><div class=\"sk-text-repr-fallback\"><pre>GradientBoostingRegressor(max_depth=7, min_samples_leaf=7, n_estimators=127,\n",
       "                          random_state=42, subsample=0.4682860145061074)</pre><b>In a Jupyter environment, please rerun this cell to show the HTML representation or trust the notebook. <br />On GitHub, the HTML representation is unable to render, please try loading this page with nbviewer.org.</b></div><div class=\"sk-container\" hidden><div class=\"sk-item\"><div class=\"sk-estimator sk-toggleable\"><input class=\"sk-toggleable__control sk-hidden--visually\" id=\"sk-estimator-id-2\" type=\"checkbox\" checked><label for=\"sk-estimator-id-2\" class=\"sk-toggleable__label sk-toggleable__label-arrow\">GradientBoostingRegressor</label><div class=\"sk-toggleable__content\"><pre>GradientBoostingRegressor(max_depth=7, min_samples_leaf=7, n_estimators=127,\n",
       "                          random_state=42, subsample=0.4682860145061074)</pre></div></div></div></div></div>"
      ],
      "text/plain": [
       "GradientBoostingRegressor(max_depth=7, min_samples_leaf=7, n_estimators=127,\n",
       "                          random_state=42, subsample=0.4682860145061074)"
      ]
     },
     "execution_count": 43,
     "metadata": {},
     "output_type": "execute_result"
    }
   ],
   "source": [
    "gb_params = {\n",
    "    \"random_state\": 42,\n",
    "    \"learning_rate\": 0.1,\n",
    "    \"n_estimators\": study.best_trial.params[\"n_estimators\"],\n",
    "    \"max_depth\": study.best_trial.params[\"max_depth\"],\n",
    "    \"min_samples_leaf\": study.best_trial.params[\"min_samples_leaf\"],\n",
    "    \"min_samples_split\": study.best_trial.params[\"min_samples_split\"],\n",
    "    \"subsample\": study.best_trial.params[\"subsample\"]\n",
    "}\n",
    "\n",
    "gb = GradientBoostingRegressor(**gb_params)\n",
    "gb.fit(Cd_X_train, Cd_y_train)"
   ]
  },
  {
   "cell_type": "code",
   "execution_count": 44,
   "id": "9959cba0",
   "metadata": {},
   "outputs": [],
   "source": [
    "# gb_params = {\n",
    "#     \"random_state\": 42,\n",
    "#     \"learning_rate\": 0.1,\n",
    "#     \"n_estimators\": 138,\n",
    "#     \"max_depth\": 2,\n",
    "#     \"min_samples_leaf\": 3,\n",
    "#     \"min_samples_split\": 6,\n",
    "#     \"subsample\": 0.4574655226902498\n",
    "# }\n",
    "\n",
    "# gb = GradientBoostingRegressor(**gb_params)\n",
    "# gb.fit(Cd_X_train, Cd_y_train)"
   ]
  },
  {
   "cell_type": "code",
   "execution_count": 45,
   "id": "9ab1055b",
   "metadata": {},
   "outputs": [],
   "source": [
    "y_train_pred = gb.predict(Cd_X_train)\n",
    "y_test_pred = gb.predict(Cd_X_test)"
   ]
  },
  {
   "cell_type": "code",
   "execution_count": 46,
   "id": "425b4001",
   "metadata": {},
   "outputs": [
    {
     "name": "stdout",
     "output_type": "stream",
     "text": [
      "Train RMSE:  0.06041744177730502\n",
      "Test RMSE:  0.23260875150851082\n"
     ]
    }
   ],
   "source": [
    "print(\"Train RMSE: \", np.sqrt(mean_squared_error(Cd_y_train, y_train_pred)))\n",
    "print(\"Test RMSE: \", np.sqrt(mean_squared_error(Cd_y_test, y_test_pred)))"
   ]
  },
  {
   "cell_type": "code",
   "execution_count": 47,
   "id": "0f95ae3c",
   "metadata": {},
   "outputs": [
    {
     "name": "stdout",
     "output_type": "stream",
     "text": [
      "Train R2:  0.9561599899880826\n",
      "Test R2:  0.32501974749057705\n"
     ]
    }
   ],
   "source": [
    "print(\"Train R2: \", r2_score(Cd_y_train, y_train_pred))\n",
    "print(\"Test R2: \", r2_score(Cd_y_test, y_test_pred))"
   ]
  },
  {
   "cell_type": "code",
   "execution_count": 48,
   "id": "49f07f23",
   "metadata": {},
   "outputs": [
    {
     "data": {
      "image/png": "[encoded data removed]",
      "text/plain": [
       "<Figure size 640x480 with 1 Axes>"
      ]
     },
     "metadata": {},
     "output_type": "display_data"
    }
   ],
   "source": [
    "plt.scatter(y_train_pred, np.array(Cd_y_train), color=\"orange\", alpha=0.3)\n",
    "plt.scatter(y_test_pred, np.array(Cd_y_test), color=\"green\", alpha=0.4)\n",
    "plt.axis(\"auto\") # scaled, tight, auto, image, square\n",
    "# plt.xlim([0, 1.5]) \n",
    "# plt.ylim(0, None) \n",
    "plt.xlabel('Predicted Values')\n",
    "plt.ylabel('Actual Values')\n",
    "\n",
    "# Add y=x line\n",
    "plt.plot([0, 0.30], [0, 0.30], color='red', linestyle='-')\n",
    "\n",
    "plt.show()"
   ]
  },
  {
   "cell_type": "code",
   "execution_count": 49,
   "id": "b2991dac",
   "metadata": {},
   "outputs": [],
   "source": [
    "# explainer = shap.KernelExplainer(gb.predict, Cd_X_train)\n",
    "# shap_values = explainer.shap_values(Cd_X_train)\n",
    "\n",
    "# shap.summary_plot(shap_values, Cd_X_train)\n",
    "\n",
    "# shap.force_plot(explainer.expected_value, shap_values[0], Cd_X_train[0])\n",
    "\n",
    "# print(shap_values)"
   ]
  },
  {
   "attachments": {},
   "cell_type": "markdown",
   "id": "74f680ea",
   "metadata": {},
   "source": [
    "Ni"
   ]
  },
  {
   "cell_type": "code",
   "execution_count": 50,
   "id": "de233338",
   "metadata": {},
   "outputs": [
    {
     "name": "stderr",
     "output_type": "stream",
     "text": [
      "\u001b[32m[I 2023-08-24 13:50:08,208]\u001b[0m A new study created in memory with name: gb_parameter_opt\u001b[0m\n",
      "\u001b[32m[I 2023-08-24 13:50:10,758]\u001b[0m Trial 0 finished with value: 0.6808025101782518 and parameters: {'n_estimators': 121, 'max_depth': 14, 'min_samples_leaf': 4, 'min_samples_split': 7, 'subsample': 0.4747632528257466}. Best is trial 0 with value: 0.6808025101782518.\u001b[0m\n",
      "\u001b[32m[I 2023-08-24 13:50:11,572]\u001b[0m Trial 1 finished with value: 0.6223690786348014 and parameters: {'n_estimators': 139, 'max_depth': 14, 'min_samples_leaf': 8, 'min_samples_split': 8, 'subsample': 0.20229409801299003}. Best is trial 0 with value: 0.6808025101782518.\u001b[0m\n",
      "\u001b[32m[I 2023-08-24 13:50:12,480]\u001b[0m Trial 2 finished with value: 0.6166020957135292 and parameters: {'n_estimators': 195, 'max_depth': 23, 'min_samples_leaf': 8, 'min_samples_split': 9, 'subsample': 0.16422007352911616}. Best is trial 0 with value: 0.6808025101782518.\u001b[0m\n",
      "\u001b[32m[I 2023-08-24 13:50:14,821]\u001b[0m Trial 3 finished with value: 0.6987641646184881 and parameters: {'n_estimators': 147, 'max_depth': 25, 'min_samples_leaf': 9, 'min_samples_split': 3, 'subsample': 0.48518580335169603}. Best is trial 3 with value: 0.6987641646184881.\u001b[0m\n",
      "\u001b[32m[I 2023-08-24 13:50:17,326]\u001b[0m Trial 4 finished with value: 0.7093119652115478 and parameters: {'n_estimators': 132, 'max_depth': 21, 'min_samples_leaf': 6, 'min_samples_split': 10, 'subsample': 0.4788885110805373}. Best is trial 4 with value: 0.7093119652115478.\u001b[0m\n",
      "\u001b[32m[I 2023-08-24 13:50:21,604]\u001b[0m Trial 5 finished with value: 0.6776553468601583 and parameters: {'n_estimators': 196, 'max_depth': 23, 'min_samples_leaf': 1, 'min_samples_split': 8, 'subsample': 0.33688388427126004}. Best is trial 4 with value: 0.7093119652115478.\u001b[0m\n",
      "\u001b[32m[I 2023-08-24 13:50:22,626]\u001b[0m Trial 6 finished with value: 0.5804264337813524 and parameters: {'n_estimators': 190, 'max_depth': 28, 'min_samples_leaf': 2, 'min_samples_split': 8, 'subsample': 0.11274116398338446}. Best is trial 4 with value: 0.7093119652115478.\u001b[0m\n",
      "\u001b[32m[I 2023-08-24 13:50:25,847]\u001b[0m Trial 7 finished with value: 0.6900656583945615 and parameters: {'n_estimators': 193, 'max_depth': 19, 'min_samples_leaf': 7, 'min_samples_split': 8, 'subsample': 0.4514125074905214}. Best is trial 4 with value: 0.7093119652115478.\u001b[0m\n",
      "\u001b[32m[I 2023-08-24 13:50:28,124]\u001b[0m Trial 8 finished with value: 0.6849143029001623 and parameters: {'n_estimators': 168, 'max_depth': 11, 'min_samples_leaf': 3, 'min_samples_split': 2, 'subsample': 0.3142066346997244}. Best is trial 4 with value: 0.7093119652115478.\u001b[0m\n",
      "\u001b[32m[I 2023-08-24 13:50:30,766]\u001b[0m Trial 9 finished with value: 0.6740350659995406 and parameters: {'n_estimators': 116, 'max_depth': 23, 'min_samples_leaf': 2, 'min_samples_split': 4, 'subsample': 0.3786189869073433}. Best is trial 4 with value: 0.7093119652115478.\u001b[0m\n",
      "\u001b[32m[I 2023-08-24 13:50:31,183]\u001b[0m Trial 10 finished with value: 0.5409530929660872 and parameters: {'n_estimators': 100, 'max_depth': 2, 'min_samples_leaf': 5, 'min_samples_split': 10, 'subsample': 0.24065611549547689}. Best is trial 4 with value: 0.7093119652115478.\u001b[0m\n",
      "\u001b[32m[I 2023-08-24 13:50:33,006]\u001b[0m Trial 11 finished with value: 0.6975590335489766 and parameters: {'n_estimators': 151, 'max_depth': 29, 'min_samples_leaf': 10, 'min_samples_split': 5, 'subsample': 0.4157582657191382}. Best is trial 4 with value: 0.7093119652115478.\u001b[0m\n",
      "\u001b[32m[I 2023-08-24 13:50:35,214]\u001b[0m Trial 12 finished with value: 0.6943113617845473 and parameters: {'n_estimators': 144, 'max_depth': 19, 'min_samples_leaf': 10, 'min_samples_split': 2, 'subsample': 0.49497465129903345}. Best is trial 4 with value: 0.7093119652115478.\u001b[0m\n",
      "\u001b[32m[I 2023-08-24 13:50:37,200]\u001b[0m Trial 13 finished with value: 0.6967518971940505 and parameters: {'n_estimators': 160, 'max_depth': 8, 'min_samples_leaf': 6, 'min_samples_split': 4, 'subsample': 0.39399301776994133}. Best is trial 4 with value: 0.7093119652115478.\u001b[0m\n",
      "\u001b[32m[I 2023-08-24 13:50:39,062]\u001b[0m Trial 14 finished with value: 0.6899499351519625 and parameters: {'n_estimators': 129, 'max_depth': 26, 'min_samples_leaf': 8, 'min_samples_split': 6, 'subsample': 0.4382007366666838}. Best is trial 4 with value: 0.7093119652115478.\u001b[0m\n",
      "\u001b[32m[I 2023-08-24 13:50:40,626]\u001b[0m Trial 15 finished with value: 0.6724210588334734 and parameters: {'n_estimators': 174, 'max_depth': 19, 'min_samples_leaf': 6, 'min_samples_split': 3, 'subsample': 0.26249318782724185}. Best is trial 4 with value: 0.7093119652115478.\u001b[0m\n",
      "\u001b[32m[I 2023-08-24 13:50:41,955]\u001b[0m Trial 16 finished with value: 0.6863133266526706 and parameters: {'n_estimators': 134, 'max_depth': 25, 'min_samples_leaf': 10, 'min_samples_split': 10, 'subsample': 0.3581534479924635}. Best is trial 4 with value: 0.7093119652115478.\u001b[0m\n",
      "\u001b[32m[I 2023-08-24 13:50:44,330]\u001b[0m Trial 17 finished with value: 0.7053009193758217 and parameters: {'n_estimators': 152, 'max_depth': 30, 'min_samples_leaf': 9, 'min_samples_split': 6, 'subsample': 0.48206528731106746}. Best is trial 4 with value: 0.7093119652115478.\u001b[0m\n",
      "\u001b[32m[I 2023-08-24 13:50:46,178]\u001b[0m Trial 18 finished with value: 0.6798451250750464 and parameters: {'n_estimators': 109, 'max_depth': 30, 'min_samples_leaf': 5, 'min_samples_split': 6, 'subsample': 0.41828645617596877}. Best is trial 4 with value: 0.7093119652115478.\u001b[0m\n",
      "\u001b[32m[I 2023-08-24 13:50:47,082]\u001b[0m Trial 19 finished with value: 0.6445150041763588 and parameters: {'n_estimators': 162, 'max_depth': 3, 'min_samples_leaf': 7, 'min_samples_split': 6, 'subsample': 0.2969986653175747}. Best is trial 4 with value: 0.7093119652115478.\u001b[0m\n",
      "\u001b[32m[I 2023-08-24 13:50:50,794]\u001b[0m Trial 20 finished with value: 0.7111237750399788 and parameters: {'n_estimators': 177, 'max_depth': 18, 'min_samples_leaf': 4, 'min_samples_split': 7, 'subsample': 0.4467300997444862}. Best is trial 20 with value: 0.7111237750399788.\u001b[0m\n",
      "\u001b[32m[I 2023-08-24 13:50:54,521]\u001b[0m Trial 21 finished with value: 0.6973588850519155 and parameters: {'n_estimators': 176, 'max_depth': 17, 'min_samples_leaf': 4, 'min_samples_split': 7, 'subsample': 0.45332025826203826}. Best is trial 20 with value: 0.7111237750399788.\u001b[0m\n",
      "\u001b[32m[I 2023-08-24 13:50:59,072]\u001b[0m Trial 22 finished with value: 0.7003804319977981 and parameters: {'n_estimators': 183, 'max_depth': 21, 'min_samples_leaf': 4, 'min_samples_split': 5, 'subsample': 0.49702500186224174}. Best is trial 20 with value: 0.7111237750399788.\u001b[0m\n",
      "\u001b[32m[I 2023-08-24 13:51:00,839]\u001b[0m Trial 23 finished with value: 0.7001637852058835 and parameters: {'n_estimators': 127, 'max_depth': 11, 'min_samples_leaf': 7, 'min_samples_split': 9, 'subsample': 0.4166696024738371}. Best is trial 20 with value: 0.7111237750399788.\u001b[0m\n",
      "\u001b[32m[I 2023-08-24 13:51:04,398]\u001b[0m Trial 24 finished with value: 0.6986309489504305 and parameters: {'n_estimators': 154, 'max_depth': 16, 'min_samples_leaf': 3, 'min_samples_split': 7, 'subsample': 0.4632750846627325}. Best is trial 20 with value: 0.7111237750399788.\u001b[0m\n",
      "\u001b[32m[I 2023-08-24 13:51:05,885]\u001b[0m Trial 25 finished with value: 0.6890287402214434 and parameters: {'n_estimators': 139, 'max_depth': 11, 'min_samples_leaf': 9, 'min_samples_split': 5, 'subsample': 0.366137443820736}. Best is trial 20 with value: 0.7111237750399788.\u001b[0m\n",
      "\u001b[32m[I 2023-08-24 13:51:09,278]\u001b[0m Trial 26 finished with value: 0.6912089217729178 and parameters: {'n_estimators': 182, 'max_depth': 21, 'min_samples_leaf': 5, 'min_samples_split': 9, 'subsample': 0.4404826342468526}. Best is trial 20 with value: 0.7111237750399788.\u001b[0m\n",
      "\u001b[32m[I 2023-08-24 13:51:11,736]\u001b[0m Trial 27 finished with value: 0.6926249159497815 and parameters: {'n_estimators': 164, 'max_depth': 27, 'min_samples_leaf': 6, 'min_samples_split': 7, 'subsample': 0.4008155733518094}. Best is trial 20 with value: 0.7111237750399788.\u001b[0m\n",
      "\u001b[32m[I 2023-08-24 13:51:14,191]\u001b[0m Trial 28 finished with value: 0.715348447457815 and parameters: {'n_estimators': 156, 'max_depth': 7, 'min_samples_leaf': 3, 'min_samples_split': 10, 'subsample': 0.49762202663114524}. Best is trial 28 with value: 0.715348447457815.\u001b[0m\n",
      "\u001b[32m[I 2023-08-24 13:51:15,556]\u001b[0m Trial 29 finished with value: 0.6892625549660819 and parameters: {'n_estimators': 117, 'max_depth': 5, 'min_samples_leaf': 3, 'min_samples_split': 10, 'subsample': 0.4680812174442086}. Best is trial 28 with value: 0.715348447457815.\u001b[0m\n",
      "\u001b[32m[I 2023-08-24 13:51:17,863]\u001b[0m Trial 30 finished with value: 0.6882948170223808 and parameters: {'n_estimators': 157, 'max_depth': 8, 'min_samples_leaf': 4, 'min_samples_split': 9, 'subsample': 0.4341649685577045}. Best is trial 28 with value: 0.715348447457815.\u001b[0m\n",
      "\u001b[32m[I 2023-08-24 13:51:21,848]\u001b[0m Trial 31 finished with value: 0.7058276537362262 and parameters: {'n_estimators': 168, 'max_depth': 14, 'min_samples_leaf': 2, 'min_samples_split': 10, 'subsample': 0.48207202887803796}. Best is trial 28 with value: 0.715348447457815.\u001b[0m\n",
      "\u001b[32m[I 2023-08-24 13:51:26,168]\u001b[0m Trial 32 finished with value: 0.6898995803986561 and parameters: {'n_estimators': 169, 'max_depth': 14, 'min_samples_leaf': 1, 'min_samples_split': 10, 'subsample': 0.4988592135461791}. Best is trial 28 with value: 0.715348447457815.\u001b[0m\n",
      "\u001b[32m[I 2023-08-24 13:51:28,957]\u001b[0m Trial 33 finished with value: 0.7006826497075276 and parameters: {'n_estimators': 185, 'max_depth': 7, 'min_samples_leaf': 2, 'min_samples_split': 9, 'subsample': 0.46530760625354783}. Best is trial 28 with value: 0.715348447457815.\u001b[0m\n",
      "\u001b[32m[I 2023-08-24 13:51:33,332]\u001b[0m Trial 34 finished with value: 0.6891480380168333 and parameters: {'n_estimators': 174, 'max_depth': 17, 'min_samples_leaf': 2, 'min_samples_split': 10, 'subsample': 0.46761948420961225}. Best is trial 28 with value: 0.715348447457815.\u001b[0m\n",
      "\u001b[32m[I 2023-08-24 13:51:34,402]\u001b[0m Trial 35 finished with value: 0.6285036664325973 and parameters: {'n_estimators': 141, 'max_depth': 14, 'min_samples_leaf': 3, 'min_samples_split': 9, 'subsample': 0.18296315563689441}. Best is trial 28 with value: 0.715348447457815.\u001b[0m\n",
      "\u001b[32m[I 2023-08-24 13:51:37,772]\u001b[0m Trial 36 finished with value: 0.6723103493264166 and parameters: {'n_estimators': 147, 'max_depth': 12, 'min_samples_leaf': 1, 'min_samples_split': 8, 'subsample': 0.47898914199218523}. Best is trial 28 with value: 0.715348447457815.\u001b[0m\n",
      "\u001b[32m[I 2023-08-24 13:51:40,406]\u001b[0m Trial 37 finished with value: 0.6950288172269581 and parameters: {'n_estimators': 134, 'max_depth': 21, 'min_samples_leaf': 4, 'min_samples_split': 10, 'subsample': 0.4341834274107041}. Best is trial 28 with value: 0.715348447457815.\u001b[0m\n",
      "\u001b[32m[I 2023-08-24 13:51:41,244]\u001b[0m Trial 38 finished with value: 0.6036317633786142 and parameters: {'n_estimators': 168, 'max_depth': 13, 'min_samples_leaf': 3, 'min_samples_split': 8, 'subsample': 0.11827339805015255}. Best is trial 28 with value: 0.715348447457815.\u001b[0m\n",
      "\u001b[32m[I 2023-08-24 13:51:43,614]\u001b[0m Trial 39 finished with value: 0.6929095422769082 and parameters: {'n_estimators': 179, 'max_depth': 9, 'min_samples_leaf': 5, 'min_samples_split': 9, 'subsample': 0.3810490269791336}. Best is trial 28 with value: 0.715348447457815.\u001b[0m\n",
      "\u001b[32m[I 2023-08-24 13:51:45,158]\u001b[0m Trial 40 finished with value: 0.6737047740430718 and parameters: {'n_estimators': 169, 'max_depth': 5, 'min_samples_leaf': 2, 'min_samples_split': 10, 'subsample': 0.34196552997839114}. Best is trial 28 with value: 0.715348447457815.\u001b[0m\n",
      "\u001b[32m[I 2023-08-24 13:51:48,338]\u001b[0m Trial 41 finished with value: 0.7124018539518314 and parameters: {'n_estimators': 200, 'max_depth': 24, 'min_samples_leaf': 9, 'min_samples_split': 7, 'subsample': 0.47944271878517264}. Best is trial 28 with value: 0.715348447457815.\u001b[0m\n",
      "\u001b[32m[I 2023-08-24 13:51:51,763]\u001b[0m Trial 42 finished with value: 0.7111428893979387 and parameters: {'n_estimators': 200, 'max_depth': 24, 'min_samples_leaf': 8, 'min_samples_split': 8, 'subsample': 0.48174110905291584}. Best is trial 28 with value: 0.715348447457815.\u001b[0m\n",
      "\u001b[32m[I 2023-08-24 13:51:54,758]\u001b[0m Trial 43 finished with value: 0.6947248035180471 and parameters: {'n_estimators': 190, 'max_depth': 23, 'min_samples_leaf': 8, 'min_samples_split': 7, 'subsample': 0.44988812880855666}. Best is trial 28 with value: 0.715348447457815.\u001b[0m\n",
      "\u001b[32m[I 2023-08-24 13:51:58,214]\u001b[0m Trial 44 finished with value: 0.686874218799604 and parameters: {'n_estimators': 194, 'max_depth': 25, 'min_samples_leaf': 8, 'min_samples_split': 8, 'subsample': 0.499053376141507}. Best is trial 28 with value: 0.715348447457815.\u001b[0m\n",
      "\u001b[32m[I 2023-08-24 13:52:00,860]\u001b[0m Trial 45 finished with value: 0.7016459513203327 and parameters: {'n_estimators': 199, 'max_depth': 23, 'min_samples_leaf': 9, 'min_samples_split': 8, 'subsample': 0.42217588752008284}. Best is trial 28 with value: 0.715348447457815.\u001b[0m\n",
      "\u001b[32m[I 2023-08-24 13:52:03,515]\u001b[0m Trial 46 finished with value: 0.7112423247415146 and parameters: {'n_estimators': 188, 'max_depth': 20, 'min_samples_leaf': 7, 'min_samples_split': 7, 'subsample': 0.4024509368595348}. Best is trial 28 with value: 0.715348447457815.\u001b[0m\n",
      "\u001b[32m[I 2023-08-24 13:52:06,320]\u001b[0m Trial 47 finished with value: 0.6886364562890213 and parameters: {'n_estimators': 200, 'max_depth': 19, 'min_samples_leaf': 7, 'min_samples_split': 7, 'subsample': 0.3962956134892295}. Best is trial 28 with value: 0.715348447457815.\u001b[0m\n",
      "\u001b[32m[I 2023-08-24 13:52:09,136]\u001b[0m Trial 48 finished with value: 0.6881945125522319 and parameters: {'n_estimators': 189, 'max_depth': 17, 'min_samples_leaf': 9, 'min_samples_split': 7, 'subsample': 0.4604272880567135}. Best is trial 28 with value: 0.715348447457815.\u001b[0m\n",
      "\u001b[32m[I 2023-08-24 13:52:10,855]\u001b[0m Trial 49 finished with value: 0.7034034087625358 and parameters: {'n_estimators': 187, 'max_depth': 24, 'min_samples_leaf': 8, 'min_samples_split': 6, 'subsample': 0.3060809266658884}. Best is trial 28 with value: 0.715348447457815.\u001b[0m\n",
      "\u001b[32m[I 2023-08-24 13:52:13,844]\u001b[0m Trial 50 finished with value: 0.6959001806883393 and parameters: {'n_estimators': 196, 'max_depth': 20, 'min_samples_leaf': 8, 'min_samples_split': 7, 'subsample': 0.44583105332218664}. Best is trial 28 with value: 0.715348447457815.\u001b[0m\n",
      "\u001b[32m[I 2023-08-24 13:52:17,714]\u001b[0m Trial 51 finished with value: 0.705167152704502 and parameters: {'n_estimators': 195, 'max_depth': 22, 'min_samples_leaf': 6, 'min_samples_split': 8, 'subsample': 0.4856579939868821}. Best is trial 28 with value: 0.715348447457815.\u001b[0m\n",
      "\u001b[32m[I 2023-08-24 13:52:21,170]\u001b[0m Trial 52 finished with value: 0.7060418732850644 and parameters: {'n_estimators': 192, 'max_depth': 18, 'min_samples_leaf': 7, 'min_samples_split': 6, 'subsample': 0.4792845615336667}. Best is trial 28 with value: 0.715348447457815.\u001b[0m\n",
      "\u001b[32m[I 2023-08-24 13:52:24,241]\u001b[0m Trial 53 finished with value: 0.6999632794715921 and parameters: {'n_estimators': 199, 'max_depth': 27, 'min_samples_leaf': 7, 'min_samples_split': 8, 'subsample': 0.42941248750808625}. Best is trial 28 with value: 0.715348447457815.\u001b[0m\n",
      "\u001b[32m[I 2023-08-24 13:52:26,986]\u001b[0m Trial 54 finished with value: 0.6849427007335446 and parameters: {'n_estimators': 178, 'max_depth': 24, 'min_samples_leaf': 6, 'min_samples_split': 7, 'subsample': 0.4078666559064927}. Best is trial 28 with value: 0.715348447457815.\u001b[0m\n",
      "\u001b[32m[I 2023-08-24 13:52:29,619]\u001b[0m Trial 55 finished with value: 0.6933332414978672 and parameters: {'n_estimators': 190, 'max_depth': 20, 'min_samples_leaf': 10, 'min_samples_split': 9, 'subsample': 0.45611081995828334}. Best is trial 28 with value: 0.715348447457815.\u001b[0m\n",
      "\u001b[32m[I 2023-08-24 13:52:30,690]\u001b[0m Trial 56 finished with value: 0.6643756597593552 and parameters: {'n_estimators': 126, 'max_depth': 22, 'min_samples_leaf': 7, 'min_samples_split': 6, 'subsample': 0.271637899401758}. Best is trial 28 with value: 0.715348447457815.\u001b[0m\n",
      "\u001b[32m[I 2023-08-24 13:52:34,513]\u001b[0m Trial 57 finished with value: 0.7002213120274539 and parameters: {'n_estimators': 181, 'max_depth': 16, 'min_samples_leaf': 5, 'min_samples_split': 5, 'subsample': 0.4842340645465151}. Best is trial 28 with value: 0.715348447457815.\u001b[0m\n",
      "\u001b[32m[I 2023-08-24 13:52:36,012]\u001b[0m Trial 58 finished with value: 0.6998651682919989 and parameters: {'n_estimators': 134, 'max_depth': 26, 'min_samples_leaf': 9, 'min_samples_split': 8, 'subsample': 0.37957068322875}. Best is trial 28 with value: 0.715348447457815.\u001b[0m\n",
      "\u001b[32m[I 2023-08-24 13:52:36,595]\u001b[0m Trial 59 finished with value: 0.4816226523365417 and parameters: {'n_estimators': 200, 'max_depth': 1, 'min_samples_leaf': 8, 'min_samples_split': 7, 'subsample': 0.22416215067671202}. Best is trial 28 with value: 0.715348447457815.\u001b[0m\n",
      "\u001b[32m[I 2023-08-24 13:52:38,669]\u001b[0m Trial 60 finished with value: 0.6957034185154727 and parameters: {'n_estimators': 103, 'max_depth': 18, 'min_samples_leaf': 4, 'min_samples_split': 8, 'subsample': 0.44517637222364514}. Best is trial 28 with value: 0.715348447457815.\u001b[0m\n",
      "\u001b[32m[I 2023-08-24 13:52:42,079]\u001b[0m Trial 61 finished with value: 0.6972207410364801 and parameters: {'n_estimators': 192, 'max_depth': 18, 'min_samples_leaf': 7, 'min_samples_split': 6, 'subsample': 0.47429079811550123}. Best is trial 28 with value: 0.715348447457815.\u001b[0m\n",
      "\u001b[32m[I 2023-08-24 13:52:45,813]\u001b[0m Trial 62 finished with value: 0.6987270164213493 and parameters: {'n_estimators': 186, 'max_depth': 20, 'min_samples_leaf': 6, 'min_samples_split': 6, 'subsample': 0.48973460363165366}. Best is trial 28 with value: 0.715348447457815.\u001b[0m\n",
      "\u001b[32m[I 2023-08-24 13:52:49,276]\u001b[0m Trial 63 finished with value: 0.6962378025495649 and parameters: {'n_estimators': 196, 'max_depth': 22, 'min_samples_leaf': 7, 'min_samples_split': 5, 'subsample': 0.47344570991466484}. Best is trial 28 with value: 0.715348447457815.\u001b[0m\n",
      "\u001b[32m[I 2023-08-24 13:52:52,269]\u001b[0m Trial 64 finished with value: 0.6870229174584713 and parameters: {'n_estimators': 192, 'max_depth': 15, 'min_samples_leaf': 8, 'min_samples_split': 7, 'subsample': 0.4555899883488287}. Best is trial 28 with value: 0.715348447457815.\u001b[0m\n",
      "\u001b[32m[I 2023-08-24 13:52:55,822]\u001b[0m Trial 65 finished with value: 0.6994359018046318 and parameters: {'n_estimators': 184, 'max_depth': 18, 'min_samples_leaf': 7, 'min_samples_split': 4, 'subsample': 0.49948750628948335}. Best is trial 28 with value: 0.715348447457815.\u001b[0m\n",
      "\u001b[32m[I 2023-08-24 13:52:59,432]\u001b[0m Trial 66 finished with value: 0.6993421058292648 and parameters: {'n_estimators': 188, 'max_depth': 24, 'min_samples_leaf': 6, 'min_samples_split': 6, 'subsample': 0.47291187315365574}. Best is trial 28 with value: 0.715348447457815.\u001b[0m\n",
      "\u001b[32m[I 2023-08-24 13:53:01,332]\u001b[0m Trial 67 finished with value: 0.7052326166008752 and parameters: {'n_estimators': 147, 'max_depth': 20, 'min_samples_leaf': 9, 'min_samples_split': 6, 'subsample': 0.42068616536904296}. Best is trial 28 with value: 0.715348447457815.\u001b[0m\n",
      "\u001b[32m[I 2023-08-24 13:53:04,654]\u001b[0m Trial 68 finished with value: 0.7030611338883885 and parameters: {'n_estimators': 156, 'max_depth': 21, 'min_samples_leaf': 5, 'min_samples_split': 7, 'subsample': 0.48563516325947753}. Best is trial 28 with value: 0.715348447457815.\u001b[0m\n",
      "\u001b[32m[I 2023-08-24 13:53:06,931]\u001b[0m Trial 69 finished with value: 0.7012657559400022 and parameters: {'n_estimators': 174, 'max_depth': 28, 'min_samples_leaf': 10, 'min_samples_split': 3, 'subsample': 0.43814796480478535}. Best is trial 28 with value: 0.715348447457815.\u001b[0m\n",
      "\u001b[32m[I 2023-08-24 13:53:09,120]\u001b[0m Trial 70 finished with value: 0.6976211873691505 and parameters: {'n_estimators': 122, 'max_depth': 18, 'min_samples_leaf': 6, 'min_samples_split': 9, 'subsample': 0.4627898527849169}. Best is trial 28 with value: 0.715348447457815.\u001b[0m\n",
      "\u001b[32m[I 2023-08-24 13:53:12,863]\u001b[0m Trial 71 finished with value: 0.7058245964365507 and parameters: {'n_estimators': 162, 'max_depth': 15, 'min_samples_leaf': 3, 'min_samples_split': 10, 'subsample': 0.48179710603410697}. Best is trial 28 with value: 0.715348447457815.\u001b[0m\n",
      "\u001b[32m[I 2023-08-24 13:53:16,039]\u001b[0m Trial 72 finished with value: 0.7012221548968519 and parameters: {'n_estimators': 164, 'max_depth': 10, 'min_samples_leaf': 2, 'min_samples_split': 10, 'subsample': 0.4748196954936236}. Best is trial 28 with value: 0.715348447457815.\u001b[0m\n",
      "\u001b[32m[I 2023-08-24 13:53:18,030]\u001b[0m Trial 73 finished with value: 0.711224655561153 and parameters: {'n_estimators': 173, 'max_depth': 5, 'min_samples_leaf': 3, 'min_samples_split': 10, 'subsample': 0.45256889076297185}. Best is trial 28 with value: 0.715348447457815.\u001b[0m\n",
      "\u001b[32m[I 2023-08-24 13:53:20,635]\u001b[0m Trial 74 finished with value: 0.6900555001531374 and parameters: {'n_estimators': 180, 'max_depth': 7, 'min_samples_leaf': 3, 'min_samples_split': 9, 'subsample': 0.45207497885835085}. Best is trial 28 with value: 0.715348447457815.\u001b[0m\n",
      "\u001b[32m[I 2023-08-24 13:53:22,177]\u001b[0m Trial 75 finished with value: 0.6722330253666033 and parameters: {'n_estimators': 176, 'max_depth': 4, 'min_samples_leaf': 4, 'min_samples_split': 10, 'subsample': 0.4088318459815848}. Best is trial 28 with value: 0.715348447457815.\u001b[0m\n",
      "\u001b[32m[I 2023-08-24 13:53:24,604]\u001b[0m Trial 76 finished with value: 0.7070016979502978 and parameters: {'n_estimators': 197, 'max_depth': 6, 'min_samples_leaf': 3, 'min_samples_split': 10, 'subsample': 0.42692637704563957}. Best is trial 28 with value: 0.715348447457815.\u001b[0m\n",
      "\u001b[32m[I 2023-08-24 13:53:27,040]\u001b[0m Trial 77 finished with value: 0.7102694134093157 and parameters: {'n_estimators': 197, 'max_depth': 6, 'min_samples_leaf': 3, 'min_samples_split': 10, 'subsample': 0.43152991755166603}. Best is trial 28 with value: 0.715348447457815.\u001b[0m\n",
      "\u001b[32m[I 2023-08-24 13:53:28,016]\u001b[0m Trial 78 finished with value: 0.6094809000007262 and parameters: {'n_estimators': 171, 'max_depth': 2, 'min_samples_leaf': 4, 'min_samples_split': 10, 'subsample': 0.44037060050814203}. Best is trial 28 with value: 0.715348447457815.\u001b[0m\n",
      "\u001b[32m[I 2023-08-24 13:53:29,166]\u001b[0m Trial 79 finished with value: 0.6489905342815504 and parameters: {'n_estimators': 183, 'max_depth': 3, 'min_samples_leaf': 3, 'min_samples_split': 9, 'subsample': 0.33202559512729934}. Best is trial 28 with value: 0.715348447457815.\u001b[0m\n",
      "\u001b[32m[I 2023-08-24 13:53:30,486]\u001b[0m Trial 80 finished with value: 0.6887326598314014 and parameters: {'n_estimators': 139, 'max_depth': 5, 'min_samples_leaf': 3, 'min_samples_split': 10, 'subsample': 0.3608835549099033}. Best is trial 28 with value: 0.715348447457815.\u001b[0m\n",
      "\u001b[32m[I 2023-08-24 13:53:32,918]\u001b[0m Trial 81 finished with value: 0.7070016979502978 and parameters: {'n_estimators': 197, 'max_depth': 6, 'min_samples_leaf': 3, 'min_samples_split': 10, 'subsample': 0.427872994378028}. Best is trial 28 with value: 0.715348447457815.\u001b[0m\n",
      "\u001b[32m[I 2023-08-24 13:53:35,805]\u001b[0m Trial 82 finished with value: 0.6912840748354003 and parameters: {'n_estimators': 197, 'max_depth': 7, 'min_samples_leaf': 3, 'min_samples_split': 10, 'subsample': 0.4644323408125657}. Best is trial 28 with value: 0.715348447457815.\u001b[0m\n",
      "\u001b[32m[I 2023-08-24 13:53:38,679]\u001b[0m Trial 83 finished with value: 0.6943505046799272 and parameters: {'n_estimators': 194, 'max_depth': 8, 'min_samples_leaf': 2, 'min_samples_split': 9, 'subsample': 0.4118908159025823}. Best is trial 28 with value: 0.715348447457815.\u001b[0m\n",
      "\u001b[32m[I 2023-08-24 13:53:40,931]\u001b[0m Trial 84 finished with value: 0.6980050020452343 and parameters: {'n_estimators': 198, 'max_depth': 6, 'min_samples_leaf': 4, 'min_samples_split': 10, 'subsample': 0.3964443084291546}. Best is trial 28 with value: 0.715348447457815.\u001b[0m\n",
      "\u001b[32m[I 2023-08-24 13:53:42,752]\u001b[0m Trial 85 finished with value: 0.6926550192751242 and parameters: {'n_estimators': 190, 'max_depth': 4, 'min_samples_leaf': 2, 'min_samples_split': 10, 'subsample': 0.44577107249225023}. Best is trial 28 with value: 0.715348447457815.\u001b[0m\n",
      "\u001b[32m[I 2023-08-24 13:53:46,625]\u001b[0m Trial 86 finished with value: 0.7049581361769638 and parameters: {'n_estimators': 193, 'max_depth': 25, 'min_samples_leaf': 4, 'min_samples_split': 9, 'subsample': 0.42851209842302285}. Best is trial 28 with value: 0.715348447457815.\u001b[0m\n",
      "\u001b[32m[I 2023-08-24 13:53:49,621]\u001b[0m Trial 87 finished with value: 0.6932827251598388 and parameters: {'n_estimators': 200, 'max_depth': 9, 'min_samples_leaf': 2, 'min_samples_split': 10, 'subsample': 0.3854612741793209}. Best is trial 28 with value: 0.715348447457815.\u001b[0m\n",
      "\u001b[32m[I 2023-08-24 13:53:52,204]\u001b[0m Trial 88 finished with value: 0.7120187565425049 and parameters: {'n_estimators': 186, 'max_depth': 6, 'min_samples_leaf': 3, 'min_samples_split': 9, 'subsample': 0.49233306633243684}. Best is trial 28 with value: 0.715348447457815.\u001b[0m\n",
      "\u001b[32m[I 2023-08-24 13:53:54,076]\u001b[0m Trial 89 finished with value: 0.7019705835164372 and parameters: {'n_estimators': 187, 'max_depth': 4, 'min_samples_leaf': 5, 'min_samples_split': 8, 'subsample': 0.49417190759047414}. Best is trial 28 with value: 0.715348447457815.\u001b[0m\n",
      "\u001b[32m[I 2023-08-24 13:53:54,975]\u001b[0m Trial 90 finished with value: 0.6474196000755257 and parameters: {'n_estimators': 112, 'max_depth': 3, 'min_samples_leaf': 1, 'min_samples_split': 9, 'subsample': 0.4617832400676359}. Best is trial 28 with value: 0.715348447457815.\u001b[0m\n",
      "\u001b[32m[I 2023-08-24 13:53:58,366]\u001b[0m Trial 91 finished with value: 0.7076927034506204 and parameters: {'n_estimators': 185, 'max_depth': 9, 'min_samples_leaf': 3, 'min_samples_split': 10, 'subsample': 0.49256769900867203}. Best is trial 28 with value: 0.715348447457815.\u001b[0m\n",
      "\u001b[32m[I 2023-08-24 13:54:00,816]\u001b[0m Trial 92 finished with value: 0.7000819323261966 and parameters: {'n_estimators': 177, 'max_depth': 6, 'min_samples_leaf': 3, 'min_samples_split': 9, 'subsample': 0.4919459722653596}. Best is trial 28 with value: 0.715348447457815.\u001b[0m\n",
      "\u001b[32m[I 2023-08-24 13:54:03,392]\u001b[0m Trial 93 finished with value: 0.7123012614320723 and parameters: {'n_estimators': 172, 'max_depth': 7, 'min_samples_leaf': 3, 'min_samples_split': 10, 'subsample': 0.47083981357180743}. Best is trial 28 with value: 0.715348447457815.\u001b[0m\n",
      "\u001b[32m[I 2023-08-24 13:54:07,834]\u001b[0m Trial 94 finished with value: 0.6903489168936505 and parameters: {'n_estimators': 173, 'max_depth': 26, 'min_samples_leaf': 3, 'min_samples_split': 8, 'subsample': 0.4705468745817526}. Best is trial 28 with value: 0.715348447457815.\u001b[0m\n",
      "\u001b[32m[I 2023-08-24 13:54:10,171]\u001b[0m Trial 95 finished with value: 0.7043655294597825 and parameters: {'n_estimators': 165, 'max_depth': 7, 'min_samples_leaf': 4, 'min_samples_split': 9, 'subsample': 0.45510827937619347}. Best is trial 28 with value: 0.715348447457815.\u001b[0m\n",
      "\u001b[32m[I 2023-08-24 13:54:10,759]\u001b[0m Trial 96 finished with value: 0.59354513987898 and parameters: {'n_estimators': 160, 'max_depth': 5, 'min_samples_leaf': 9, 'min_samples_split': 10, 'subsample': 0.1316454558015249}. Best is trial 28 with value: 0.715348447457815.\u001b[0m\n",
      "\u001b[32m[I 2023-08-24 13:54:13,784]\u001b[0m Trial 97 finished with value: 0.6958616642760378 and parameters: {'n_estimators': 181, 'max_depth': 22, 'min_samples_leaf': 8, 'min_samples_split': 7, 'subsample': 0.4792556901566101}. Best is trial 28 with value: 0.715348447457815.\u001b[0m\n",
      "\u001b[32m[I 2023-08-24 13:54:16,406]\u001b[0m Trial 98 finished with value: 0.70946177065301 and parameters: {'n_estimators': 170, 'max_depth': 8, 'min_samples_leaf': 3, 'min_samples_split': 10, 'subsample': 0.4471553687282311}. Best is trial 28 with value: 0.715348447457815.\u001b[0m\n",
      "\u001b[32m[I 2023-08-24 13:54:19,775]\u001b[0m Trial 99 finished with value: 0.6901915846515797 and parameters: {'n_estimators': 176, 'max_depth': 11, 'min_samples_leaf': 2, 'min_samples_split': 10, 'subsample': 0.4446452569115261}. Best is trial 28 with value: 0.715348447457815.\u001b[0m\n"
     ]
    },
    {
     "name": "stdout",
     "output_type": "stream",
     "text": [
      "Best r2:  0.715348447457815\n",
      "Best trial: {'n_estimators': 156, 'max_depth': 7, 'min_samples_leaf': 3, 'min_samples_split': 10, 'subsample': 0.49762202663114524}\n"
     ]
    }
   ],
   "source": [
    "sampler = TPESampler()\n",
    "study = optuna.create_study(\n",
    "    study_name=\"gb_parameter_opt\",\n",
    "    direction=\"maximize\",\n",
    "    sampler=sampler,\n",
    ")\n",
    "\n",
    "study.optimize(lambda trial : objectiveGB(trial, Ni_X_train, Ni_y_train), n_trials=100)\n",
    "print(\"Best r2: \", study.best_value)\n",
    "print(\"Best trial:\", study.best_trial.params)"
   ]
  },
  {
   "cell_type": "code",
   "execution_count": 51,
   "id": "d71c01fb",
   "metadata": {},
   "outputs": [
    {
     "data": {
      "application/vnd.plotly.v1+json": {
       "config": {
        "plotlyServerURL": "https://plot.ly"
       },
       "data": [
        {
         "dimensions": [
          {
           "label": "Objective Value",
           "range": [
            0.4816226523365417,
            0.715348447457815
           ],
           "values": [
            0.6808025101782518,
            0.6223690786348014,
            0.6166020957135292,
            0.6987641646184881,
            0.7093119652115478,
            0.6776553468601583,
            0.5804264337813524,
            0.6900656583945615,
            0.6849143029001623,
            0.6740350659995406,
            0.5409530929660872,
            0.6975590335489766,
            0.6943113617845473,
            0.6967518971940505,
            0.6899499351519625,
            0.6724210588334734,
            0.6863133266526706,
            0.7053009193758217,
            0.6798451250750464,
            0.6445150041763588,
            0.7111237750399788,
            0.6973588850519155,
            0.7003804319977981,
            0.7001637852058835,
            0.6986309489504305,
            0.6890287402214434,
            0.6912089217729178,
            0.6926249159497815,
            0.715348447457815,
            0.6892625549660819,
            0.6882948170223808,
            0.7058276537362262,
            0.6898995803986561,
            0.7006826497075276,
            0.6891480380168333,
            0.6285036664325973,
            0.6723103493264166,
            0.6950288172269581,
            0.6036317633786142,
            0.6929095422769082,
            0.6737047740430718,
            0.7124018539518314,
            0.7111428893979387,
            0.6947248035180471,
            0.686874218799604,
            0.7016459513203327,
            0.7112423247415146,
            0.6886364562890213,
            0.6881945125522319,
            0.7034034087625358,
            0.6959001806883393,
            0.705167152704502,
            0.7060418732850644,
            0.6999632794715921,
            0.6849427007335446,
            0.6933332414978672,
            0.6643756597593552,
            0.7002213120274539,
            0.6998651682919989,
            0.4816226523365417,
            0.6957034185154727,
            0.6972207410364801,
            0.6987270164213493,
            0.6962378025495649,
            0.6870229174584713,
            0.6994359018046318,
            0.6993421058292648,
            0.7052326166008752,
            0.7030611338883885,
            0.7012657559400022,
            0.6976211873691505,
            0.7058245964365507,
            0.7012221548968519,
            0.711224655561153,
            0.6900555001531374,
            0.6722330253666033,
            0.7070016979502978,
            0.7102694134093157,
            0.6094809000007262,
            0.6489905342815504,
            0.6887326598314014,
            0.7070016979502978,
            0.6912840748354003,
            0.6943505046799272,
            0.6980050020452343,
            0.6926550192751242,
            0.7049581361769638,
            0.6932827251598388,
            0.7120187565425049,
            0.7019705835164372,
            0.6474196000755257,
            0.7076927034506204,
            0.7000819323261966,
            0.7123012614320723,
            0.6903489168936505,
            0.7043655294597825,
            0.59354513987898,
            0.6958616642760378,
            0.70946177065301,
            0.6901915846515797
           ]
          },
          {
           "label": "max_depth",
           "range": [
            1,
            30
           ],
           "values": [
            14,
            14,
            23,
            25,
            21,
            23,
            28,
            19,
            11,
            23,
            2,
            29,
            19,
            8,
            26,
            19,
            25,
            30,
            30,
            3,
            18,
            17,
            21,
            11,
            16,
            11,
            21,
            27,
            7,
            5,
            8,
            14,
            14,
            7,
            17,
            14,
            12,
            21,
            13,
            9,
            5,
            24,
            24,
            23,
            25,
            23,
            20,
            19,
            17,
            24,
            20,
            22,
            18,
            27,
            24,
            20,
            22,
            16,
            26,
            1,
            18,
            18,
            20,
            22,
            15,
            18,
            24,
            20,
            21,
            28,
            18,
            15,
            10,
            5,
            7,
            4,
            6,
            6,
            2,
            3,
            5,
            6,
            7,
            8,
            6,
            4,
            25,
            9,
            6,
            4,
            3,
            9,
            6,
            7,
            26,
            7,
            5,
            22,
            8,
            11
           ]
          },
          {
           "label": "min_samples_leaf",
           "range": [
            1,
            10
           ],
           "values": [
            4,
            8,
            8,
            9,
            6,
            1,
            2,
            7,
            3,
            2,
            5,
            10,
            10,
            6,
            8,
            6,
            10,
            9,
            5,
            7,
            4,
            4,
            4,
            7,
            3,
            9,
            5,
            6,
            3,
            3,
            4,
            2,
            1,
            2,
            2,
            3,
            1,
            4,
            3,
            5,
            2,
            9,
            8,
            8,
            8,
            9,
            7,
            7,
            9,
            8,
            8,
            6,
            7,
            7,
            6,
            10,
            7,
            5,
            9,
            8,
            4,
            7,
            6,
            7,
            8,
            7,
            6,
            9,
            5,
            10,
            6,
            3,
            2,
            3,
            3,
            4,
            3,
            3,
            4,
            3,
            3,
            3,
            3,
            2,
            4,
            2,
            4,
            2,
            3,
            5,
            1,
            3,
            3,
            3,
            3,
            4,
            9,
            8,
            3,
            2
           ]
          },
          {
           "label": "min_samples_split",
           "range": [
            2,
            10
           ],
           "values": [
            7,
            8,
            9,
            3,
            10,
            8,
            8,
            8,
            2,
            4,
            10,
            5,
            2,
            4,
            6,
            3,
            10,
            6,
            6,
            6,
            7,
            7,
            5,
            9,
            7,
            5,
            9,
            7,
            10,
            10,
            9,
            10,
            10,
            9,
            10,
            9,
            8,
            10,
            8,
            9,
            10,
            7,
            8,
            7,
            8,
            8,
            7,
            7,
            7,
            6,
            7,
            8,
            6,
            8,
            7,
            9,
            6,
            5,
            8,
            7,
            8,
            6,
            6,
            5,
            7,
            4,
            6,
            6,
            7,
            3,
            9,
            10,
            10,
            10,
            9,
            10,
            10,
            10,
            10,
            9,
            10,
            10,
            10,
            9,
            10,
            10,
            9,
            10,
            9,
            8,
            9,
            10,
            9,
            10,
            8,
            9,
            10,
            7,
            10,
            10
           ]
          },
          {
           "label": "n_estimators",
           "range": [
            100,
            200
           ],
           "values": [
            121,
            139,
            195,
            147,
            132,
            196,
            190,
            193,
            168,
            116,
            100,
            151,
            144,
            160,
            129,
            174,
            134,
            152,
            109,
            162,
            177,
            176,
            183,
            127,
            154,
            139,
            182,
            164,
            156,
            117,
            157,
            168,
            169,
            185,
            174,
            141,
            147,
            134,
            168,
            179,
            169,
            200,
            200,
            190,
            194,
            199,
            188,
            200,
            189,
            187,
            196,
            195,
            192,
            199,
            178,
            190,
            126,
            181,
            134,
            200,
            103,
            192,
            186,
            196,
            192,
            184,
            188,
            147,
            156,
            174,
            122,
            162,
            164,
            173,
            180,
            176,
            197,
            197,
            171,
            183,
            139,
            197,
            197,
            194,
            198,
            190,
            193,
            200,
            186,
            187,
            112,
            185,
            177,
            172,
            173,
            165,
            160,
            181,
            170,
            176
           ]
          },
          {
           "label": "subsample",
           "range": [
            0.11274116398338446,
            0.49948750628948335
           ],
           "values": [
            0.4747632528257466,
            0.20229409801299003,
            0.16422007352911616,
            0.48518580335169603,
            0.4788885110805373,
            0.33688388427126004,
            0.11274116398338446,
            0.4514125074905214,
            0.3142066346997244,
            0.3786189869073433,
            0.24065611549547689,
            0.4157582657191382,
            0.49497465129903345,
            0.39399301776994133,
            0.4382007366666838,
            0.26249318782724185,
            0.3581534479924635,
            0.48206528731106746,
            0.41828645617596877,
            0.2969986653175747,
            0.4467300997444862,
            0.45332025826203826,
            0.49702500186224174,
            0.4166696024738371,
            0.4632750846627325,
            0.366137443820736,
            0.4404826342468526,
            0.4008155733518094,
            0.49762202663114524,
            0.4680812174442086,
            0.4341649685577045,
            0.48207202887803796,
            0.4988592135461791,
            0.46530760625354783,
            0.46761948420961225,
            0.18296315563689441,
            0.47898914199218523,
            0.4341834274107041,
            0.11827339805015255,
            0.3810490269791336,
            0.34196552997839114,
            0.47944271878517264,
            0.48174110905291584,
            0.44988812880855666,
            0.499053376141507,
            0.42217588752008284,
            0.4024509368595348,
            0.3962956134892295,
            0.4604272880567135,
            0.3060809266658884,
            0.44583105332218664,
            0.4856579939868821,
            0.4792845615336667,
            0.42941248750808625,
            0.4078666559064927,
            0.45611081995828334,
            0.271637899401758,
            0.4842340645465151,
            0.37957068322875,
            0.22416215067671202,
            0.44517637222364514,
            0.47429079811550123,
            0.48973460363165366,
            0.47344570991466484,
            0.4555899883488287,
            0.49948750628948335,
            0.47291187315365574,
            0.42068616536904296,
            0.48563516325947753,
            0.43814796480478535,
            0.4627898527849169,
            0.48179710603410697,
            0.4748196954936236,
            0.45256889076297185,
            0.45207497885835085,
            0.4088318459815848,
            0.42692637704563957,
            0.43152991755166603,
            0.44037060050814203,
            0.33202559512729934,
            0.3608835549099033,
            0.427872994378028,
            0.4644323408125657,
            0.4118908159025823,
            0.3964443084291546,
            0.44577107249225023,
            0.42851209842302285,
            0.3854612741793209,
            0.49233306633243684,
            0.49417190759047414,
            0.4617832400676359,
            0.49256769900867203,
            0.4919459722653596,
            0.47083981357180743,
            0.4705468745817526,
            0.45510827937619347,
            0.1316454558015249,
            0.4792556901566101,
            0.4471553687282311,
            0.4446452569115261
           ]
          }
         ],
         "labelangle": 30,
         "labelside": "bottom",
         "line": {
          "color": [
           0.6808025101782518,
           0.6223690786348014,
           0.6166020957135292,
           0.6987641646184881,
           0.7093119652115478,
           0.6776553468601583,
           0.5804264337813524,
           0.6900656583945615,
           0.6849143029001623,
           0.6740350659995406,
           0.5409530929660872,
           0.6975590335489766,
           0.6943113617845473,
           0.6967518971940505,
           0.6899499351519625,
           0.6724210588334734,
           0.6863133266526706,
           0.7053009193758217,
           0.6798451250750464,
           0.6445150041763588,
           0.7111237750399788,
           0.6973588850519155,
           0.7003804319977981,
           0.7001637852058835,
           0.6986309489504305,
           0.6890287402214434,
           0.6912089217729178,
           0.6926249159497815,
           0.715348447457815,
           0.6892625549660819,
           0.6882948170223808,
           0.7058276537362262,
           0.6898995803986561,
           0.7006826497075276,
           0.6891480380168333,
           0.6285036664325973,
           0.6723103493264166,
           0.6950288172269581,
           0.6036317633786142,
           0.6929095422769082,
           0.6737047740430718,
           0.7124018539518314,
           0.7111428893979387,
           0.6947248035180471,
           0.686874218799604,
           0.7016459513203327,
           0.7112423247415146,
           0.6886364562890213,
           0.6881945125522319,
           0.7034034087625358,
           0.6959001806883393,
           0.705167152704502,
           0.7060418732850644,
           0.6999632794715921,
           0.6849427007335446,
           0.6933332414978672,
           0.6643756597593552,
           0.7002213120274539,
           0.6998651682919989,
           0.4816226523365417,
           0.6957034185154727,
           0.6972207410364801,
           0.6987270164213493,
           0.6962378025495649,
           0.6870229174584713,
           0.6994359018046318,
           0.6993421058292648,
           0.7052326166008752,
           0.7030611338883885,
           0.7012657559400022,
           0.6976211873691505,
           0.7058245964365507,
           0.7012221548968519,
           0.711224655561153,
           0.6900555001531374,
           0.6722330253666033,
           0.7070016979502978,
           0.7102694134093157,
           0.6094809000007262,
           0.6489905342815504,
           0.6887326598314014,
           0.7070016979502978,
           0.6912840748354003,
           0.6943505046799272,
           0.6980050020452343,
           0.6926550192751242,
           0.7049581361769638,
           0.6932827251598388,
           0.7120187565425049,
           0.7019705835164372,
           0.6474196000755257,
           0.7076927034506204,
           0.7000819323261966,
           0.7123012614320723,
           0.6903489168936505,
           0.7043655294597825,
           0.59354513987898,
           0.6958616642760378,
           0.70946177065301,
           0.6901915846515797
          ],
          "colorbar": {
           "title": {
            "text": "Objective Value"
           }
          },
          "colorscale": [
           [
            0,
            "rgb(247,251,255)"
           ],
           [
            0.125,
            "rgb(222,235,247)"
           ],
           [
            0.25,
            "rgb(198,219,239)"
           ],
           [
            0.375,
            "rgb(158,202,225)"
           ],
           [
            0.5,
            "rgb(107,174,214)"
           ],
           [
            0.625,
            "rgb(66,146,198)"
           ],
           [
            0.75,
            "rgb(33,113,181)"
           ],
           [
            0.875,
            "rgb(8,81,156)"
           ],
           [
            1,
            "rgb(8,48,107)"
           ]
          ],
          "reversescale": false,
          "showscale": true
         },
         "type": "parcoords"
        }
       ],
       "layout": {
        "template": {
         "data": {
          "bar": [
           {
            "error_x": {
             "color": "#2a3f5f"
            },
            "error_y": {
             "color": "#2a3f5f"
            },
            "marker": {
             "line": {
              "color": "#E5ECF6",
              "width": 0.5
             },
             "pattern": {
              "fillmode": "overlay",
              "size": 10,
              "solidity": 0.2
             }
            },
            "type": "bar"
           }
          ],
          "barpolar": [
           {
            "marker": {
             "line": {
              "color": "#E5ECF6",
              "width": 0.5
             },
             "pattern": {
              "fillmode": "overlay",
              "size": 10,
              "solidity": 0.2
             }
            },
            "type": "barpolar"
           }
          ],
          "carpet": [
           {
            "aaxis": {
             "endlinecolor": "#2a3f5f",
             "gridcolor": "white",
             "linecolor": "white",
             "minorgridcolor": "white",
             "startlinecolor": "#2a3f5f"
            },
            "baxis": {
             "endlinecolor": "#2a3f5f",
             "gridcolor": "white",
             "linecolor": "white",
             "minorgridcolor": "white",
             "startlinecolor": "#2a3f5f"
            },
            "type": "carpet"
           }
          ],
          "choropleth": [
           {
            "colorbar": {
             "outlinewidth": 0,
             "ticks": ""
            },
            "type": "choropleth"
           }
          ],
          "contour": [
           {
            "colorbar": {
             "outlinewidth": 0,
             "ticks": ""
            },
            "colorscale": [
             [
              0,
              "#0d0887"
             ],
             [
              0.1111111111111111,
              "#46039f"
             ],
             [
              0.2222222222222222,
              "#7201a8"
             ],
             [
              0.3333333333333333,
              "#9c179e"
             ],
             [
              0.4444444444444444,
              "#bd3786"
             ],
             [
              0.5555555555555556,
              "#d8576b"
             ],
             [
              0.6666666666666666,
              "#ed7953"
             ],
             [
              0.7777777777777778,
              "#fb9f3a"
             ],
             [
              0.8888888888888888,
              "#fdca26"
             ],
             [
              1,
              "#f0f921"
             ]
            ],
            "type": "contour"
           }
          ],
          "contourcarpet": [
           {
            "colorbar": {
             "outlinewidth": 0,
             "ticks": ""
            },
            "type": "contourcarpet"
           }
          ],
          "heatmap": [
           {
            "colorbar": {
             "outlinewidth": 0,
             "ticks": ""
            },
            "colorscale": [
             [
              0,
              "#0d0887"
             ],
             [
              0.1111111111111111,
              "#46039f"
             ],
             [
              0.2222222222222222,
              "#7201a8"
             ],
             [
              0.3333333333333333,
              "#9c179e"
             ],
             [
              0.4444444444444444,
              "#bd3786"
             ],
             [
              0.5555555555555556,
              "#d8576b"
             ],
             [
              0.6666666666666666,
              "#ed7953"
             ],
             [
              0.7777777777777778,
              "#fb9f3a"
             ],
             [
              0.8888888888888888,
              "#fdca26"
             ],
             [
              1,
              "#f0f921"
             ]
            ],
            "type": "heatmap"
           }
          ],
          "heatmapgl": [
           {
            "colorbar": {
             "outlinewidth": 0,
             "ticks": ""
            },
            "colorscale": [
             [
              0,
              "#0d0887"
             ],
             [
              0.1111111111111111,
              "#46039f"
             ],
             [
              0.2222222222222222,
              "#7201a8"
             ],
             [
              0.3333333333333333,
              "#9c179e"
             ],
             [
              0.4444444444444444,
              "#bd3786"
             ],
             [
              0.5555555555555556,
              "#d8576b"
             ],
             [
              0.6666666666666666,
              "#ed7953"
             ],
             [
              0.7777777777777778,
              "#fb9f3a"
             ],
             [
              0.8888888888888888,
              "#fdca26"
             ],
             [
              1,
              "#f0f921"
             ]
            ],
            "type": "heatmapgl"
           }
          ],
          "histogram": [
           {
            "marker": {
             "pattern": {
              "fillmode": "overlay",
              "size": 10,
              "solidity": 0.2
             }
            },
            "type": "histogram"
           }
          ],
          "histogram2d": [
           {
            "colorbar": {
             "outlinewidth": 0,
             "ticks": ""
            },
            "colorscale": [
             [
              0,
              "#0d0887"
             ],
             [
              0.1111111111111111,
              "#46039f"
             ],
             [
              0.2222222222222222,
              "#7201a8"
             ],
             [
              0.3333333333333333,
              "#9c179e"
             ],
             [
              0.4444444444444444,
              "#bd3786"
             ],
             [
              0.5555555555555556,
              "#d8576b"
             ],
             [
              0.6666666666666666,
              "#ed7953"
             ],
             [
              0.7777777777777778,
              "#fb9f3a"
             ],
             [
              0.8888888888888888,
              "#fdca26"
             ],
             [
              1,
              "#f0f921"
             ]
            ],
            "type": "histogram2d"
           }
          ],
          "histogram2dcontour": [
           {
            "colorbar": {
             "outlinewidth": 0,
             "ticks": ""
            },
            "colorscale": [
             [
              0,
              "#0d0887"
             ],
             [
              0.1111111111111111,
              "#46039f"
             ],
             [
              0.2222222222222222,
              "#7201a8"
             ],
             [
              0.3333333333333333,
              "#9c179e"
             ],
             [
              0.4444444444444444,
              "#bd3786"
             ],
             [
              0.5555555555555556,
              "#d8576b"
             ],
             [
              0.6666666666666666,
              "#ed7953"
             ],
             [
              0.7777777777777778,
              "#fb9f3a"
             ],
             [
              0.8888888888888888,
              "#fdca26"
             ],
             [
              1,
              "#f0f921"
             ]
            ],
            "type": "histogram2dcontour"
           }
          ],
          "mesh3d": [
           {
            "colorbar": {
             "outlinewidth": 0,
             "ticks": ""
            },
            "type": "mesh3d"
           }
          ],
          "parcoords": [
           {
            "line": {
             "colorbar": {
              "outlinewidth": 0,
              "ticks": ""
             }
            },
            "type": "parcoords"
           }
          ],
          "pie": [
           {
            "automargin": true,
            "type": "pie"
           }
          ],
          "scatter": [
           {
            "marker": {
             "colorbar": {
              "outlinewidth": 0,
              "ticks": ""
             }
            },
            "type": "scatter"
           }
          ],
          "scatter3d": [
           {
            "line": {
             "colorbar": {
              "outlinewidth": 0,
              "ticks": ""
             }
            },
            "marker": {
             "colorbar": {
              "outlinewidth": 0,
              "ticks": ""
             }
            },
            "type": "scatter3d"
           }
          ],
          "scattercarpet": [
           {
            "marker": {
             "colorbar": {
              "outlinewidth": 0,
              "ticks": ""
             }
            },
            "type": "scattercarpet"
           }
          ],
          "scattergeo": [
           {
            "marker": {
             "colorbar": {
              "outlinewidth": 0,
              "ticks": ""
             }
            },
            "type": "scattergeo"
           }
          ],
          "scattergl": [
           {
            "marker": {
             "colorbar": {
              "outlinewidth": 0,
              "ticks": ""
             }
            },
            "type": "scattergl"
           }
          ],
          "scattermapbox": [
           {
            "marker": {
             "colorbar": {
              "outlinewidth": 0,
              "ticks": ""
             }
            },
            "type": "scattermapbox"
           }
          ],
          "scatterpolar": [
           {
            "marker": {
             "colorbar": {
              "outlinewidth": 0,
              "ticks": ""
             }
            },
            "type": "scatterpolar"
           }
          ],
          "scatterpolargl": [
           {
            "marker": {
             "colorbar": {
              "outlinewidth": 0,
              "ticks": ""
             }
            },
            "type": "scatterpolargl"
           }
          ],
          "scatterternary": [
           {
            "marker": {
             "colorbar": {
              "outlinewidth": 0,
              "ticks": ""
             }
            },
            "type": "scatterternary"
           }
          ],
          "surface": [
           {
            "colorbar": {
             "outlinewidth": 0,
             "ticks": ""
            },
            "colorscale": [
             [
              0,
              "#0d0887"
             ],
             [
              0.1111111111111111,
              "#46039f"
             ],
             [
              0.2222222222222222,
              "#7201a8"
             ],
             [
              0.3333333333333333,
              "#9c179e"
             ],
             [
              0.4444444444444444,
              "#bd3786"
             ],
             [
              0.5555555555555556,
              "#d8576b"
             ],
             [
              0.6666666666666666,
              "#ed7953"
             ],
             [
              0.7777777777777778,
              "#fb9f3a"
             ],
             [
              0.8888888888888888,
              "#fdca26"
             ],
             [
              1,
              "#f0f921"
             ]
            ],
            "type": "surface"
           }
          ],
          "table": [
           {
            "cells": {
             "fill": {
              "color": "#EBF0F8"
             },
             "line": {
              "color": "white"
             }
            },
            "header": {
             "fill": {
              "color": "#C8D4E3"
             },
             "line": {
              "color": "white"
             }
            },
            "type": "table"
           }
          ]
         },
         "layout": {
          "annotationdefaults": {
           "arrowcolor": "#2a3f5f",
           "arrowhead": 0,
           "arrowwidth": 1
          },
          "autotypenumbers": "strict",
          "coloraxis": {
           "colorbar": {
            "outlinewidth": 0,
            "ticks": ""
           }
          },
          "colorscale": {
           "diverging": [
            [
             0,
             "#8e0152"
            ],
            [
             0.1,
             "#c51b7d"
            ],
            [
             0.2,
             "#de77ae"
            ],
            [
             0.3,
             "#f1b6da"
            ],
            [
             0.4,
             "#fde0ef"
            ],
            [
             0.5,
             "#f7f7f7"
            ],
            [
             0.6,
             "#e6f5d0"
            ],
            [
             0.7,
             "#b8e186"
            ],
            [
             0.8,
             "#7fbc41"
            ],
            [
             0.9,
             "#4d9221"
            ],
            [
             1,
             "#276419"
            ]
           ],
           "sequential": [
            [
             0,
             "#0d0887"
            ],
            [
             0.1111111111111111,
             "#46039f"
            ],
            [
             0.2222222222222222,
             "#7201a8"
            ],
            [
             0.3333333333333333,
             "#9c179e"
            ],
            [
             0.4444444444444444,
             "#bd3786"
            ],
            [
             0.5555555555555556,
             "#d8576b"
            ],
            [
             0.6666666666666666,
             "#ed7953"
            ],
            [
             0.7777777777777778,
             "#fb9f3a"
            ],
            [
             0.8888888888888888,
             "#fdca26"
            ],
            [
             1,
             "#f0f921"
            ]
           ],
           "sequentialminus": [
            [
             0,
             "#0d0887"
            ],
            [
             0.1111111111111111,
             "#46039f"
            ],
            [
             0.2222222222222222,
             "#7201a8"
            ],
            [
             0.3333333333333333,
             "#9c179e"
            ],
            [
             0.4444444444444444,
             "#bd3786"
            ],
            [
             0.5555555555555556,
             "#d8576b"
            ],
            [
             0.6666666666666666,
             "#ed7953"
            ],
            [
             0.7777777777777778,
             "#fb9f3a"
            ],
            [
             0.8888888888888888,
             "#fdca26"
            ],
            [
             1,
             "#f0f921"
            ]
           ]
          },
          "colorway": [
           "#636efa",
           "#EF553B",
           "#00cc96",
           "#ab63fa",
           "#FFA15A",
           "#19d3f3",
           "#FF6692",
           "#B6E880",
           "#FF97FF",
           "#FECB52"
          ],
          "font": {
           "color": "#2a3f5f"
          },
          "geo": {
           "bgcolor": "white",
           "lakecolor": "white",
           "landcolor": "#E5ECF6",
           "showlakes": true,
           "showland": true,
           "subunitcolor": "white"
          },
          "hoverlabel": {
           "align": "left"
          },
          "hovermode": "closest",
          "mapbox": {
           "style": "light"
          },
          "paper_bgcolor": "white",
          "plot_bgcolor": "#E5ECF6",
          "polar": {
           "angularaxis": {
            "gridcolor": "white",
            "linecolor": "white",
            "ticks": ""
           },
           "bgcolor": "#E5ECF6",
           "radialaxis": {
            "gridcolor": "white",
            "linecolor": "white",
            "ticks": ""
           }
          },
          "scene": {
           "xaxis": {
            "backgroundcolor": "#E5ECF6",
            "gridcolor": "white",
            "gridwidth": 2,
            "linecolor": "white",
            "showbackground": true,
            "ticks": "",
            "zerolinecolor": "white"
           },
           "yaxis": {
            "backgroundcolor": "#E5ECF6",
            "gridcolor": "white",
            "gridwidth": 2,
            "linecolor": "white",
            "showbackground": true,
            "ticks": "",
            "zerolinecolor": "white"
           },
           "zaxis": {
            "backgroundcolor": "#E5ECF6",
            "gridcolor": "white",
            "gridwidth": 2,
            "linecolor": "white",
            "showbackground": true,
            "ticks": "",
            "zerolinecolor": "white"
           }
          },
          "shapedefaults": {
           "line": {
            "color": "#2a3f5f"
           }
          },
          "ternary": {
           "aaxis": {
            "gridcolor": "white",
            "linecolor": "white",
            "ticks": ""
           },
           "baxis": {
            "gridcolor": "white",
            "linecolor": "white",
            "ticks": ""
           },
           "bgcolor": "#E5ECF6",
           "caxis": {
            "gridcolor": "white",
            "linecolor": "white",
            "ticks": ""
           }
          },
          "title": {
           "x": 0.05
          },
          "xaxis": {
           "automargin": true,
           "gridcolor": "white",
           "linecolor": "white",
           "ticks": "",
           "title": {
            "standoff": 15
           },
           "zerolinecolor": "white",
           "zerolinewidth": 2
          },
          "yaxis": {
           "automargin": true,
           "gridcolor": "white",
           "linecolor": "white",
           "ticks": "",
           "title": {
            "standoff": 15
           },
           "zerolinecolor": "white",
           "zerolinewidth": 2
          }
         }
        },
        "title": {
         "text": "Parallel Coordinate Plot"
        }
       }
      }
     },
     "metadata": {},
     "output_type": "display_data"
    }
   ],
   "source": [
    "optuna.visualization.plot_parallel_coordinate(study)"
   ]
  },
  {
   "cell_type": "code",
   "execution_count": 52,
   "id": "1d419df8",
   "metadata": {},
   "outputs": [
    {
     "name": "stdout",
     "output_type": "stream",
     "text": [
      "Best trial: {'n_estimators': 156, 'max_depth': 7, 'min_samples_leaf': 3, 'min_samples_split': 10, 'subsample': 0.49762202663114524}\n"
     ]
    },
    {
     "data": {
      "text/plain": [
       "156"
      ]
     },
     "execution_count": 52,
     "metadata": {},
     "output_type": "execute_result"
    }
   ],
   "source": [
    "print(\"Best trial:\", study.best_trial.params)\n",
    "study.best_trial.params[\"n_estimators\"]"
   ]
  },
  {
   "cell_type": "code",
   "execution_count": 53,
   "id": "ffefef6c",
   "metadata": {},
   "outputs": [
    {
     "data": {
      "text/html": [
       "<style>#sk-container-id-3 {color: black;}#sk-container-id-3 pre{padding: 0;}#sk-container-id-3 div.sk-toggleable {background-color: white;}#sk-container-id-3 label.sk-toggleable__label {cursor: pointer;display: block;width: 100%;margin-bottom: 0;padding: 0.3em;box-sizing: border-box;text-align: center;}#sk-container-id-3 label.sk-toggleable__label-arrow:before {content: \"▸\";float: left;margin-right: 0.25em;color: #696969;}#sk-container-id-3 label.sk-toggleable__label-arrow:hover:before {color: black;}#sk-container-id-3 div.sk-estimator:hover label.sk-toggleable__label-arrow:before {color: black;}#sk-container-id-3 div.sk-toggleable__content {max-height: 0;max-width: 0;overflow: hidden;text-align: left;background-color: #f0f8ff;}#sk-container-id-3 div.sk-toggleable__content pre {margin: 0.2em;color: black;border-radius: 0.25em;background-color: #f0f8ff;}#sk-container-id-3 input.sk-toggleable__control:checked~div.sk-toggleable__content {max-height: 200px;max-width: 100%;overflow: auto;}#sk-container-id-3 input.sk-toggleable__control:checked~label.sk-toggleable__label-arrow:before {content: \"▾\";}#sk-container-id-3 div.sk-estimator input.sk-toggleable__control:checked~label.sk-toggleable__label {background-color: #d4ebff;}#sk-container-id-3 div.sk-label input.sk-toggleable__control:checked~label.sk-toggleable__label {background-color: #d4ebff;}#sk-container-id-3 input.sk-hidden--visually {border: 0;clip: rect(1px 1px 1px 1px);clip: rect(1px, 1px, 1px, 1px);height: 1px;margin: -1px;overflow: hidden;padding: 0;position: absolute;width: 1px;}#sk-container-id-3 div.sk-estimator {font-family: monospace;background-color: #f0f8ff;border: 1px dotted black;border-radius: 0.25em;box-sizing: border-box;margin-bottom: 0.5em;}#sk-container-id-3 div.sk-estimator:hover {background-color: #d4ebff;}#sk-container-id-3 div.sk-parallel-item::after {content: \"\";width: 100%;border-bottom: 1px solid gray;flex-grow: 1;}#sk-container-id-3 div.sk-label:hover label.sk-toggleable__label {background-color: #d4ebff;}#sk-container-id-3 div.sk-serial::before {content: \"\";position: absolute;border-left: 1px solid gray;box-sizing: border-box;top: 0;bottom: 0;left: 50%;z-index: 0;}#sk-container-id-3 div.sk-serial {display: flex;flex-direction: column;align-items: center;background-color: white;padding-right: 0.2em;padding-left: 0.2em;position: relative;}#sk-container-id-3 div.sk-item {position: relative;z-index: 1;}#sk-container-id-3 div.sk-parallel {display: flex;align-items: stretch;justify-content: center;background-color: white;position: relative;}#sk-container-id-3 div.sk-item::before, #sk-container-id-3 div.sk-parallel-item::before {content: \"\";position: absolute;border-left: 1px solid gray;box-sizing: border-box;top: 0;bottom: 0;left: 50%;z-index: -1;}#sk-container-id-3 div.sk-parallel-item {display: flex;flex-direction: column;z-index: 1;position: relative;background-color: white;}#sk-container-id-3 div.sk-parallel-item:first-child::after {align-self: flex-end;width: 50%;}#sk-container-id-3 div.sk-parallel-item:last-child::after {align-self: flex-start;width: 50%;}#sk-container-id-3 div.sk-parallel-item:only-child::after {width: 0;}#sk-container-id-3 div.sk-dashed-wrapped {border: 1px dashed gray;margin: 0 0.4em 0.5em 0.4em;box-sizing: border-box;padding-bottom: 0.4em;background-color: white;}#sk-container-id-3 div.sk-label label {font-family: monospace;font-weight: bold;display: inline-block;line-height: 1.2em;}#sk-container-id-3 div.sk-label-container {text-align: center;}#sk-container-id-3 div.sk-container {/* jupyter's `normalize.less` sets `[hidden] { display: none; }` but bootstrap.min.css set `[hidden] { display: none !important; }` so we also need the `!important` here to be able to override the default hidden behavior on the sphinx rendered scikit-learn.org. See: https://github.com/scikit-learn/scikit-learn/issues/21755 */display: inline-block !important;position: relative;}#sk-container-id-3 div.sk-text-repr-fallback {display: none;}</style><div id=\"sk-container-id-3\" class=\"sk-top-container\"><div class=\"sk-text-repr-fallback\"><pre>GradientBoostingRegressor(max_depth=7, min_samples_leaf=3, min_samples_split=10,\n",
       "                          n_estimators=156, random_state=42,\n",
       "                          subsample=0.49762202663114524)</pre><b>In a Jupyter environment, please rerun this cell to show the HTML representation or trust the notebook. <br />On GitHub, the HTML representation is unable to render, please try loading this page with nbviewer.org.</b></div><div class=\"sk-container\" hidden><div class=\"sk-item\"><div class=\"sk-estimator sk-toggleable\"><input class=\"sk-toggleable__control sk-hidden--visually\" id=\"sk-estimator-id-3\" type=\"checkbox\" checked><label for=\"sk-estimator-id-3\" class=\"sk-toggleable__label sk-toggleable__label-arrow\">GradientBoostingRegressor</label><div class=\"sk-toggleable__content\"><pre>GradientBoostingRegressor(max_depth=7, min_samples_leaf=3, min_samples_split=10,\n",
       "                          n_estimators=156, random_state=42,\n",
       "                          subsample=0.49762202663114524)</pre></div></div></div></div></div>"
      ],
      "text/plain": [
       "GradientBoostingRegressor(max_depth=7, min_samples_leaf=3, min_samples_split=10,\n",
       "                          n_estimators=156, random_state=42,\n",
       "                          subsample=0.49762202663114524)"
      ]
     },
     "execution_count": 53,
     "metadata": {},
     "output_type": "execute_result"
    }
   ],
   "source": [
    "gb_params = {\n",
    "    \"random_state\": 42,\n",
    "    \"learning_rate\": 0.1,\n",
    "    \"n_estimators\": study.best_trial.params[\"n_estimators\"],\n",
    "    \"max_depth\": study.best_trial.params[\"max_depth\"],\n",
    "    \"min_samples_leaf\": study.best_trial.params[\"min_samples_leaf\"],\n",
    "    \"min_samples_split\": study.best_trial.params[\"min_samples_split\"],\n",
    "    \"subsample\": study.best_trial.params[\"subsample\"]\n",
    "}\n",
    "\n",
    "gb = GradientBoostingRegressor(**gb_params)\n",
    "gb.fit(Ni_X_train, Ni_y_train)"
   ]
  },
  {
   "cell_type": "code",
   "execution_count": 54,
   "id": "417e128a",
   "metadata": {},
   "outputs": [],
   "source": [
    "# gb_params = {\n",
    "#     \"random_state\": 42,\n",
    "#     \"learning_rate\": 0.1,\n",
    "#     \"n_estimators\": 181,\n",
    "#     \"max_depth\": 28,\n",
    "#     \"min_samples_leaf\": 7,\n",
    "#     \"min_samples_split\": 7,\n",
    "#     \"subsample\": 0.4946447123833718\n",
    "# }\n",
    "\n",
    "# gb = GradientBoostingRegressor(**gb_params)\n",
    "# gb.fit(Ni_X_train, Ni_y_train)"
   ]
  },
  {
   "cell_type": "code",
   "execution_count": 55,
   "id": "4c1a69d2",
   "metadata": {},
   "outputs": [],
   "source": [
    "y_train_pred = gb.predict(Ni_X_train)\n",
    "y_test_pred = gb.predict(Ni_X_test)"
   ]
  },
  {
   "cell_type": "code",
   "execution_count": 56,
   "id": "0f707a20",
   "metadata": {},
   "outputs": [
    {
     "name": "stdout",
     "output_type": "stream",
     "text": [
      "Train RMSE:  0.09775746040287386\n",
      "Test RMSE:  0.9309922602446863\n"
     ]
    }
   ],
   "source": [
    "print(\"Train RMSE: \", np.sqrt(mean_squared_error(Ni_y_train, y_train_pred)))\n",
    "print(\"Test RMSE: \", np.sqrt(mean_squared_error(Ni_y_test, y_test_pred)))"
   ]
  },
  {
   "cell_type": "code",
   "execution_count": 57,
   "id": "641d78f4",
   "metadata": {},
   "outputs": [
    {
     "name": "stdout",
     "output_type": "stream",
     "text": [
      "Train R2:  0.9933189532779645\n",
      "Test R2:  0.4486232391806426\n"
     ]
    }
   ],
   "source": [
    "print(\"Train R2: \", r2_score(Ni_y_train, y_train_pred))\n",
    "print(\"Test R2: \", r2_score(Ni_y_test, y_test_pred))"
   ]
  },
  {
   "cell_type": "code",
   "execution_count": 58,
   "id": "dd1670cb",
   "metadata": {},
   "outputs": [
    {
     "data": {
      "image/png": "[encoded data removed]",
      "text/plain": [
       "<Figure size 640x480 with 1 Axes>"
      ]
     },
     "metadata": {},
     "output_type": "display_data"
    }
   ],
   "source": [
    "plt.scatter(y_train_pred, np.array(Ni_y_train), color=\"orange\", alpha=0.3)\n",
    "plt.scatter(y_test_pred, np.array(Ni_y_test), color=\"green\", alpha=0.4)\n",
    "plt.axis(\"auto\")\n",
    "# plt.xlim([0, 1.5]) \n",
    "# plt.ylim(0, None) \n",
    "plt.xlabel('Predicted Values')\n",
    "plt.ylabel('Actual Values')\n",
    "\n",
    "# Add trendline\n",
    "# z = np.polyfit(y_train_pred, As_y_train, 1)\n",
    "# p = np.poly1d(z)\n",
    "# plt.plot(y_train_pred, p(y_train_pred), color='red', linestyle='-')\n",
    "\n",
    "# Add y=x line\n",
    "plt.plot([0, 4.5], [0, 4.5], color='red', linestyle='-')\n",
    "\n",
    "plt.show()"
   ]
  }
 ],
 "metadata": {
  "kernelspec": {
   "display_name": "Python 3",
   "language": "python",
   "name": "python3"
  },
  "language_info": {
   "codemirror_mode": {
    "name": "ipython",
    "version": 3
   },
   "file_extension": ".py",
   "mimetype": "text/x-python",
   "name": "python",
   "nbconvert_exporter": "python",
   "pygments_lexer": "ipython3",
   "version": "3.8.11"
  }
 },
 "nbformat": 4,
 "nbformat_minor": 5
}
