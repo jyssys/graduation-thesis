{
 "cells": [
  {
   "attachments": {},
   "cell_type": "markdown",
   "id": "451911be",
   "metadata": {},
   "source": [
    "#### Library import"
   ]
  },
  {
   "cell_type": "code",
   "execution_count": 1,
   "id": "8a394942",
   "metadata": {},
   "outputs": [],
   "source": [
    "import os\n",
    "import pandas as pd\n",
    "import numpy as np\n",
    "import matplotlib.pyplot as plt\n",
    "%matplotlib inline\n",
    "import seaborn as sns\n",
    "import tensorflow as tf\n",
    "import missingno as msno\n",
    "\n",
    "import warnings\n",
    "warnings.filterwarnings('ignore')\n",
    "\n",
    "from sklearn.model_selection import train_test_split\n",
    "from sklearn.model_selection import GridSearchCV\n",
    "from sklearn.metrics import mean_squared_error, r2_score\n",
    "from sklearn.preprocessing import StandardScaler, MinMaxScaler, RobustScaler\n",
    "from sklearn.ensemble import RandomForestRegressor, GradientBoostingRegressor, ExtraTreesRegressor\n",
    "from sklearn.model_selection import KFold\n",
    "from lightgbm import LGBMRegressor\n",
    "from xgboost import XGBRegressor\n",
    "from ngboost import NGBRegressor\n",
    "from scipy.stats import norm, skew\n",
    "\n",
    "from matplotlib.ticker import FormatStrFormatter\n",
    "\n",
    "from tensorflow import keras\n",
    "\n",
    "import re\n",
    "from tqdm import tqdm"
   ]
  },
  {
   "attachments": {},
   "cell_type": "markdown",
   "id": "31a13d68",
   "metadata": {},
   "source": [
    "#### GPU setting"
   ]
  },
  {
   "cell_type": "code",
   "execution_count": 2,
   "id": "cff3cada",
   "metadata": {},
   "outputs": [],
   "source": [
    "from tensorflow.compat.v1 import ConfigProto\n",
    "from tensorflow.compat.v1 import InteractiveSession"
   ]
  },
  {
   "cell_type": "code",
   "execution_count": 3,
   "id": "fb88e9c0",
   "metadata": {},
   "outputs": [],
   "source": [
    "config = ConfigProto()\n",
    "config.gpu_options.per_process_gpu_memory_fraction = 0.4\n",
    "session = InteractiveSession(config = config)"
   ]
  },
  {
   "cell_type": "code",
   "execution_count": 4,
   "id": "ea8f0f47",
   "metadata": {},
   "outputs": [
    {
     "name": "stdout",
     "output_type": "stream",
     "text": [
      "[name: \"/device:CPU:0\"\n",
      "device_type: \"CPU\"\n",
      "memory_limit: 268435456\n",
      "locality {\n",
      "}\n",
      "incarnation: 14073796777937585202\n",
      ", name: \"/device:GPU:0\"\n",
      "device_type: \"GPU\"\n",
      "memory_limit: 3435973836\n",
      "locality {\n",
      "  bus_id: 1\n",
      "  links {\n",
      "  }\n",
      "}\n",
      "incarnation: 11511235500128952442\n",
      "physical_device_desc: \"device: 0, name: NVIDIA GeForce RTX 3060 Ti, pci bus id: 0000:07:00.0, compute capability: 8.6\"\n",
      "]\n"
     ]
    }
   ],
   "source": [
    "physical_devices = tf.config.list_physical_devices('GPU')\n",
    "physical_devices\n",
    "\n",
    "from tensorflow.python.client import device_lib\n",
    "\n",
    "print(device_lib.list_local_devices())"
   ]
  },
  {
   "cell_type": "code",
   "execution_count": 5,
   "id": "cd001f36",
   "metadata": {},
   "outputs": [],
   "source": [
    "import os\n",
    "\n",
    "os.environ[\"CUDA_VISIBLE_DEVICES\"]=\"0\"\n",
    "gpus = tf.config.experimental.list_physical_devices('GPU')\n",
    "if gpus:\n",
    "    try:\n",
    "        tf.config.experimental.set_memory_growth(gpus[0], True)\n",
    "    except RuntimeError as e:\n",
    "        print(e)"
   ]
  },
  {
   "attachments": {},
   "cell_type": "markdown",
   "id": "cb740f81",
   "metadata": {},
   "source": [
    "#### Data import and preprocessing"
   ]
  },
  {
   "cell_type": "code",
   "execution_count": 6,
   "id": "9288345d",
   "metadata": {
    "scrolled": true
   },
   "outputs": [
    {
     "data": {
      "text/plain": [
       "Index(['OBJECTID_x', 'ID', 'pH', 'As', 'Cd', 'Ni', 'Pb', 'Zn', 'Hg', 'slope',\n",
       "       'altitude', 'profile_curve', 'profile_c_num', 'profile_c_abs',\n",
       "       'planform_curve', 'planform_c_num', 'planform_c_abs', 'HYDGRP',\n",
       "       'HYDGRP_A', 'HYDGRP_B', 'HYDGRP_C', 'HYDGRP_D', 'ANION_EXCL', 'SOL_CRK',\n",
       "       'SOL_K1', 'CLAY1', 'SILT1', 'SAND1', 'ROCK1', 'SOL_EC1', 'distance'],\n",
       "      dtype='object')"
      ]
     },
     "execution_count": 6,
     "metadata": {},
     "output_type": "execute_result"
    }
   ],
   "source": [
    "data = pd.read_csv(\"data/data_gg.csv\")\n",
    "data.columns"
   ]
  },
  {
   "cell_type": "code",
   "execution_count": 7,
   "id": "bbf87a23",
   "metadata": {},
   "outputs": [
    {
     "data": {
      "text/plain": [
       "Index(['pH', 'As', 'Cd', 'Ni', 'Pb', 'Zn', 'Hg', 'slope', 'altitude',\n",
       "       'profile_curve', 'planform_curve', 'HYDGRP_A', 'HYDGRP_B', 'HYDGRP_C',\n",
       "       'HYDGRP_D', 'SOL_K1', 'CLAY1', 'SILT1', 'SAND1', 'ROCK1', 'distance'],\n",
       "      dtype='object')"
      ]
     },
     "execution_count": 7,
     "metadata": {},
     "output_type": "execute_result"
    }
   ],
   "source": [
    "data = data.drop(['OBJECTID_x','ID','HYDGRP','profile_c_num', 'profile_c_abs','planform_c_num', 'planform_c_abs','ANION_EXCL','SOL_CRK','SOL_EC1'], axis = 1)\n",
    "data.columns"
   ]
  },
  {
   "cell_type": "code",
   "execution_count": 8,
   "id": "3cb8e77e",
   "metadata": {},
   "outputs": [],
   "source": [
    "As = data\n",
    "Cd = data\n",
    "Ni = data"
   ]
  },
  {
   "cell_type": "code",
   "execution_count": 9,
   "id": "45ec138e",
   "metadata": {},
   "outputs": [],
   "source": [
    "As = As.drop([\"Cd\", \"Ni\", \"Pb\", \"Zn\", \"Hg\"], axis = 1)\n",
    "Cd = Cd.drop([\"As\", \"Ni\", \"Pb\", \"Zn\", \"Hg\"], axis = 1)\n",
    "Ni = Ni.drop([\"As\", \"Cd\", \"Pb\", \"Zn\", \"Hg\"], axis = 1)"
   ]
  },
  {
   "cell_type": "code",
   "execution_count": 10,
   "id": "69e10383",
   "metadata": {},
   "outputs": [
    {
     "name": "stdout",
     "output_type": "stream",
     "text": [
      "(781, 16)\n",
      "(781, 16)\n",
      "(781, 16)\n"
     ]
    }
   ],
   "source": [
    "print(As.shape)\n",
    "print(Cd.shape)\n",
    "print(Ni.shape)"
   ]
  },
  {
   "attachments": {},
   "cell_type": "markdown",
   "id": "2b5fd2cd",
   "metadata": {},
   "source": [
    "#### Oversampling by SMOGN (SMOTE Regression)"
   ]
  },
  {
   "cell_type": "code",
   "execution_count": 11,
   "id": "b664ef07",
   "metadata": {},
   "outputs": [],
   "source": [
    "import smogn"
   ]
  },
  {
   "cell_type": "code",
   "execution_count": 12,
   "id": "0797c71f",
   "metadata": {},
   "outputs": [
    {
     "name": "stderr",
     "output_type": "stream",
     "text": [
      "dist_matrix:   1%|1         | 2/148 [00:00<00:08, 17.54it/s]"
     ]
    },
    {
     "name": "stderr",
     "output_type": "stream",
     "text": [
      "dist_matrix: 100%|##########| 148/148 [00:08<00:00, 17.66it/s]\n",
      "synth_matrix: 100%|##########| 148/148 [00:00<00:00, 208.40it/s]\n",
      "r_index: 100%|##########| 44/44 [00:00<00:00, 619.58it/s]\n",
      "dist_matrix: 100%|##########| 88/88 [00:03<00:00, 29.18it/s]\n",
      "synth_matrix: 100%|##########| 88/88 [00:00<00:00, 104.61it/s]\n",
      "r_index: 100%|##########| 79/79 [00:00<00:00, 621.91it/s]\n",
      "dist_matrix: 100%|##########| 115/115 [00:05<00:00, 22.34it/s]\n",
      "synth_matrix: 100%|##########| 115/115 [00:00<00:00, 155.79it/s]\n",
      "r_index: 100%|##########| 91/91 [00:00<00:00, 614.73it/s]\n"
     ]
    }
   ],
   "source": [
    "As_smogn = smogn.smoter(data = As, y = 'As', samp_method = 'extreme')\n",
    "Cd_smogn = smogn.smoter(data = Cd, y = 'Cd', samp_method = 'extreme')\n",
    "Ni_smogn = smogn.smoter(data = Ni, y = 'Ni', samp_method = 'extreme')"
   ]
  },
  {
   "cell_type": "code",
   "execution_count": 13,
   "id": "cba746a8",
   "metadata": {},
   "outputs": [
    {
     "name": "stdout",
     "output_type": "stream",
     "text": [
      "(1143, 16)\n",
      "(1319, 16)\n",
      "(1199, 16)\n"
     ]
    }
   ],
   "source": [
    "print(As_smogn.shape)\n",
    "print(Cd_smogn.shape)\n",
    "print(Ni_smogn.shape)"
   ]
  },
  {
   "attachments": {},
   "cell_type": "markdown",
   "id": "ed72a9b1",
   "metadata": {},
   "source": [
    "#### Eliminate outlier and train / test split"
   ]
  },
  {
   "cell_type": "code",
   "execution_count": 14,
   "id": "43604a42",
   "metadata": {},
   "outputs": [],
   "source": [
    "def eli_outlier(data, value):\n",
    "    q1 = data[value].quantile(0.25)\n",
    "    q3 = data[value].quantile(0.75)\n",
    "\n",
    "    iqr = q3 - q1\n",
    "\n",
    "    q1_condition = data[value] < q1-1.5*iqr\n",
    "    q3_condition = data[value] > q3+1.5*iqr\n",
    "\n",
    "    reset_q1_index = data[q1_condition].index\n",
    "    reset_q3_index = data[q3_condition].index\n",
    "\n",
    "    data.drop(reset_q1_index, inplace = True)\n",
    "    data.drop(reset_q3_index, inplace = True)\n",
    "\n",
    "    return data"
   ]
  },
  {
   "cell_type": "code",
   "execution_count": 15,
   "id": "9b7632f2",
   "metadata": {},
   "outputs": [],
   "source": [
    "As_ros = eli_outlier(As_smogn, \"As\")\n",
    "Cd_ros = eli_outlier(Cd_smogn, \"Cd\")\n",
    "Ni_ros = eli_outlier(Ni_smogn, \"Ni\")"
   ]
  },
  {
   "cell_type": "code",
   "execution_count": 16,
   "id": "f8609469",
   "metadata": {},
   "outputs": [],
   "source": [
    "As_X = As_ros.drop([\"As\"], axis=1)\n",
    "Cd_X = Cd_ros.drop([\"Cd\"], axis=1)\n",
    "Ni_X = Ni_ros.drop([\"Ni\"], axis=1)\n",
    "\n",
    "As_y = As_ros[\"As\"]\n",
    "Cd_y = Cd_ros[\"Cd\"]\n",
    "Ni_y = Ni_ros[\"Ni\"]"
   ]
  },
  {
   "cell_type": "code",
   "execution_count": 17,
   "id": "7237a19a",
   "metadata": {},
   "outputs": [],
   "source": [
    "As_y = np.log1p(As_ros[\"As\"])\n",
    "Cd_y = np.log1p(Cd_ros[\"Cd\"])\n",
    "Ni_y = np.log1p(Ni_ros[\"Ni\"])"
   ]
  },
  {
   "cell_type": "code",
   "execution_count": 18,
   "id": "ce87d06a",
   "metadata": {},
   "outputs": [
    {
     "name": "stdout",
     "output_type": "stream",
     "text": [
      "(869, 15)\n",
      "(1216, 15)\n",
      "(1090, 15)\n"
     ]
    }
   ],
   "source": [
    "print(As_X.shape)\n",
    "print(Cd_X.shape)\n",
    "print(Ni_X.shape)"
   ]
  },
  {
   "attachments": {},
   "cell_type": "markdown",
   "id": "c92e5bb6",
   "metadata": {},
   "source": [
    "StandardScaler"
   ]
  },
  {
   "cell_type": "code",
   "execution_count": 19,
   "id": "7cb55d9d",
   "metadata": {},
   "outputs": [],
   "source": [
    "from sklearn.preprocessing import StandardScaler\n",
    "\n",
    "scaler = StandardScaler()\n",
    "\n",
    "As_X_train, As_X_test, As_y_train, As_y_test = train_test_split(As_X, As_y, test_size=0.2, random_state=42)\n",
    "Cd_X_train, Cd_X_test, Cd_y_train, Cd_y_test = train_test_split(Cd_X, Cd_y, test_size=0.2, random_state=42)\n",
    "Ni_X_train, Ni_X_test, Ni_y_train, Ni_y_test = train_test_split(Ni_X, Ni_y, test_size=0.2, random_state=42)\n",
    "\n",
    "As_X_train = scaler.fit_transform(As_X_train)\n",
    "As_X_test = scaler.fit_transform(As_X_test)\n",
    "\n",
    "Cd_X_train = scaler.fit_transform(Cd_X_train)\n",
    "Cd_X_test = scaler.fit_transform(Cd_X_test)\n",
    "\n",
    "Ni_X_train = scaler.fit_transform(Ni_X_train)\n",
    "Ni_X_test = scaler.fit_transform(Ni_X_test)"
   ]
  },
  {
   "cell_type": "code",
   "execution_count": 20,
   "id": "416a7027",
   "metadata": {},
   "outputs": [
    {
     "data": {
      "text/plain": [
       "' from sklearn.preprocessing import StandardScaler\\n\\nscaler = StandardScaler()\\nAs_X_scaled = scaler.fit_transform(As_X)\\nCd_X_scaled = scaler.fit_transform(Cd_X)\\nNi_X_scaled = scaler.fit_transform(Ni_X)\\n\\nAs_X_train, As_X_test, As_y_train, As_y_test = train_test_split(As_X_scaled, As_y, test_size=0.2, random_state=42)\\nCd_X_train, Cd_X_test, Cd_y_train, Cd_y_test = train_test_split(Cd_X_scaled, Cd_y, test_size=0.2, random_state=42)\\nNi_X_train, Ni_X_test, Ni_y_train, Ni_y_test = train_test_split(Ni_X_scaled, Ni_y, test_size=0.2, random_state=42) '"
      ]
     },
     "execution_count": 20,
     "metadata": {},
     "output_type": "execute_result"
    }
   ],
   "source": [
    "''' from sklearn.preprocessing import StandardScaler\n",
    "\n",
    "scaler = StandardScaler()\n",
    "As_X_scaled = scaler.fit_transform(As_X)\n",
    "Cd_X_scaled = scaler.fit_transform(Cd_X)\n",
    "Ni_X_scaled = scaler.fit_transform(Ni_X)\n",
    "\n",
    "As_X_train, As_X_test, As_y_train, As_y_test = train_test_split(As_X_scaled, As_y, test_size=0.2, random_state=42)\n",
    "Cd_X_train, Cd_X_test, Cd_y_train, Cd_y_test = train_test_split(Cd_X_scaled, Cd_y, test_size=0.2, random_state=42)\n",
    "Ni_X_train, Ni_X_test, Ni_y_train, Ni_y_test = train_test_split(Ni_X_scaled, Ni_y, test_size=0.2, random_state=42) '''"
   ]
  },
  {
   "attachments": {},
   "cell_type": "markdown",
   "id": "2fe0d293",
   "metadata": {},
   "source": [
    "MinMaxScaler"
   ]
  },
  {
   "cell_type": "code",
   "execution_count": 21,
   "id": "e8596f9f",
   "metadata": {},
   "outputs": [],
   "source": [
    "# from sklearn.preprocessing import MinMaxScaler\n",
    "\n",
    "# scaler = MinMaxScaler()\n",
    "# As_X_scaled = scaler.fit_transform(As_X)\n",
    "# Cd_X_scaled = scaler.fit_transform(Cd_X)\n",
    "# Ni_X_scaled = scaler.fit_transform(Ni_X)\n",
    "\n",
    "# As_X_train, As_X_test, As_y_train, As_y_test = train_test_split(As_X_scaled, As_y, test_size=0.2, random_state=42)\n",
    "# Cd_X_train, Cd_X_test, Cd_y_train, Cd_y_test = train_test_split(Cd_X_scaled, Cd_y, test_size=0.2, random_state=42)\n",
    "# Ni_X_train, Ni_X_test, Ni_y_train, Ni_y_test = train_test_split(Ni_X_scaled, Ni_y, test_size=0.2, random_state=42)"
   ]
  },
  {
   "cell_type": "code",
   "execution_count": 22,
   "id": "86ccf2fe",
   "metadata": {},
   "outputs": [
    {
     "name": "stdout",
     "output_type": "stream",
     "text": [
      "(695, 15)\n",
      "(972, 15)\n",
      "(872, 15)\n"
     ]
    }
   ],
   "source": [
    "print(As_X_train.shape)\n",
    "print(Cd_X_train.shape)\n",
    "print(Ni_X_train.shape)"
   ]
  },
  {
   "attachments": {},
   "cell_type": "markdown",
   "id": "bd11b27e",
   "metadata": {},
   "source": [
    "#### 10-Fold Crossvalidation"
   ]
  },
  {
   "cell_type": "code",
   "execution_count": 23,
   "id": "7a765916",
   "metadata": {},
   "outputs": [],
   "source": [
    "kf = KFold(n_splits = 5, random_state = 42, shuffle = True)"
   ]
  },
  {
   "attachments": {},
   "cell_type": "markdown",
   "id": "859638d0",
   "metadata": {},
   "source": [
    "#### Optuna Optimization"
   ]
  },
  {
   "cell_type": "code",
   "execution_count": 24,
   "id": "92a47d83",
   "metadata": {},
   "outputs": [],
   "source": [
    "import optuna\n",
    "\n",
    "from optuna import Trial\n",
    "from optuna.samplers import TPESampler"
   ]
  },
  {
   "cell_type": "code",
   "execution_count": 25,
   "id": "a7669fea",
   "metadata": {},
   "outputs": [],
   "source": [
    "from sklearn.model_selection import cross_val_score\n",
    "\n",
    "def objectiveRF(trial: Trial, X_train, y_train) -> float:\n",
    "    rf_paramas = {\n",
    "        \"random_state\": 42,\n",
    "        #\"learning_rate\": 0.1,\n",
    "        \"n_estimators\": trial.suggest_int(\"n_estimators\", 10, 100),\n",
    "        \"max_depth\": trial.suggest_int(\"max_depth\", 1, 10),\n",
    "        \"min_samples_leaf\": trial.suggest_int(\"min_samples_leaf\", 1, 20),\n",
    "        \"min_samples_split\": trial.suggest_int(\"min_samples_split\", 2, 20),\n",
    "        #\"subsample\": trial.suggest_float(\"subsample\", 0.1, 0.5)\n",
    "    }\n",
    "    \n",
    "    rf = RandomForestRegressor(**rf_paramas)\n",
    "    r2 = cross_val_score(rf, X_train, y_train, scoring = \"r2\", cv = kf)\n",
    "    r2 = r2.mean()\n",
    "    \n",
    "    return r2"
   ]
  },
  {
   "attachments": {},
   "cell_type": "markdown",
   "id": "b0988f46",
   "metadata": {},
   "source": [
    "####  Optimization"
   ]
  },
  {
   "cell_type": "code",
   "execution_count": 26,
   "id": "94f5e00d",
   "metadata": {
    "scrolled": false
   },
   "outputs": [
    {
     "name": "stderr",
     "output_type": "stream",
     "text": [
      "\u001b[32m[I 2023-08-24 14:17:04,514]\u001b[0m A new study created in memory with name: rf_parameter_opt\u001b[0m\n",
      "\u001b[32m[I 2023-08-24 14:17:04,946]\u001b[0m Trial 0 finished with value: 0.46684113964894036 and parameters: {'n_estimators': 22, 'max_depth': 7, 'min_samples_leaf': 6, 'min_samples_split': 12}. Best is trial 0 with value: 0.46684113964894036.\u001b[0m\n",
      "\u001b[32m[I 2023-08-24 14:17:05,212]\u001b[0m Trial 1 finished with value: 0.43474752228642116 and parameters: {'n_estimators': 18, 'max_depth': 5, 'min_samples_leaf': 16, 'min_samples_split': 20}. Best is trial 0 with value: 0.46684113964894036.\u001b[0m\n",
      "\u001b[32m[I 2023-08-24 14:17:05,925]\u001b[0m Trial 2 finished with value: 0.16821506259242583 and parameters: {'n_estimators': 99, 'max_depth': 1, 'min_samples_leaf': 1, 'min_samples_split': 11}. Best is trial 0 with value: 0.46684113964894036.\u001b[0m\n",
      "\u001b[32m[I 2023-08-24 14:17:07,239]\u001b[0m Trial 3 finished with value: 0.4934613900600725 and parameters: {'n_estimators': 57, 'max_depth': 9, 'min_samples_leaf': 3, 'min_samples_split': 8}. Best is trial 3 with value: 0.4934613900600725.\u001b[0m\n",
      "\u001b[32m[I 2023-08-24 14:17:08,072]\u001b[0m Trial 4 finished with value: 0.45517482568164835 and parameters: {'n_estimators': 57, 'max_depth': 8, 'min_samples_leaf': 17, 'min_samples_split': 17}. Best is trial 3 with value: 0.4934613900600725.\u001b[0m\n",
      "\u001b[32m[I 2023-08-24 14:17:08,474]\u001b[0m Trial 5 finished with value: 0.454329640220859 and parameters: {'n_estimators': 25, 'max_depth': 6, 'min_samples_leaf': 12, 'min_samples_split': 14}. Best is trial 3 with value: 0.4934613900600725.\u001b[0m\n",
      "\u001b[32m[I 2023-08-24 14:17:08,766]\u001b[0m Trial 6 finished with value: 0.45937931501448015 and parameters: {'n_estimators': 14, 'max_depth': 9, 'min_samples_leaf': 6, 'min_samples_split': 13}. Best is trial 3 with value: 0.4934613900600725.\u001b[0m\n",
      "\u001b[32m[I 2023-08-24 14:17:10,120]\u001b[0m Trial 7 finished with value: 0.47352336549149693 and parameters: {'n_estimators': 70, 'max_depth': 7, 'min_samples_leaf': 5, 'min_samples_split': 14}. Best is trial 3 with value: 0.4934613900600725.\u001b[0m\n",
      "\u001b[32m[I 2023-08-24 14:17:10,727]\u001b[0m Trial 8 finished with value: 0.3831274584407554 and parameters: {'n_estimators': 50, 'max_depth': 3, 'min_samples_leaf': 6, 'min_samples_split': 13}. Best is trial 3 with value: 0.4934613900600725.\u001b[0m\n",
      "\u001b[32m[I 2023-08-24 14:17:12,250]\u001b[0m Trial 9 finished with value: 0.4968663673873376 and parameters: {'n_estimators': 53, 'max_depth': 10, 'min_samples_leaf': 1, 'min_samples_split': 4}. Best is trial 9 with value: 0.4968663673873376.\u001b[0m\n",
      "\u001b[32m[I 2023-08-24 14:17:13,813]\u001b[0m Trial 10 finished with value: 0.47246278721390195 and parameters: {'n_estimators': 87, 'max_depth': 10, 'min_samples_leaf': 11, 'min_samples_split': 2}. Best is trial 9 with value: 0.4968663673873376.\u001b[0m\n",
      "\u001b[32m[I 2023-08-24 14:17:14,968]\u001b[0m Trial 11 finished with value: 0.489720244594933 and parameters: {'n_estimators': 41, 'max_depth': 10, 'min_samples_leaf': 1, 'min_samples_split': 5}. Best is trial 9 with value: 0.4968663673873376.\u001b[0m\n",
      "\u001b[32m[I 2023-08-24 14:17:16,655]\u001b[0m Trial 12 finished with value: 0.4927583611257037 and parameters: {'n_estimators': 69, 'max_depth': 10, 'min_samples_leaf': 3, 'min_samples_split': 7}. Best is trial 9 with value: 0.4968663673873376.\u001b[0m\n",
      "\u001b[32m[I 2023-08-24 14:17:17,357]\u001b[0m Trial 13 finished with value: 0.4807921135600113 and parameters: {'n_estimators': 39, 'max_depth': 8, 'min_samples_leaf': 9, 'min_samples_split': 8}. Best is trial 9 with value: 0.4968663673873376.\u001b[0m\n",
      "\u001b[32m[I 2023-08-24 14:17:18,200]\u001b[0m Trial 14 finished with value: 0.41459087594896726 and parameters: {'n_estimators': 66, 'max_depth': 4, 'min_samples_leaf': 20, 'min_samples_split': 2}. Best is trial 9 with value: 0.4968663673873376.\u001b[0m\n",
      "\u001b[32m[I 2023-08-24 14:17:20,133]\u001b[0m Trial 15 finished with value: 0.4904603456655009 and parameters: {'n_estimators': 81, 'max_depth': 9, 'min_samples_leaf': 3, 'min_samples_split': 5}. Best is trial 9 with value: 0.4968663673873376.\u001b[0m\n",
      "\u001b[32m[I 2023-08-24 14:17:20,868]\u001b[0m Trial 16 finished with value: 0.4805655925384576 and parameters: {'n_estimators': 40, 'max_depth': 8, 'min_samples_leaf': 9, 'min_samples_split': 9}. Best is trial 9 with value: 0.4968663673873376.\u001b[0m\n",
      "\u001b[32m[I 2023-08-24 14:17:22,171]\u001b[0m Trial 17 finished with value: 0.4930589599379239 and parameters: {'n_estimators': 54, 'max_depth': 9, 'min_samples_leaf': 3, 'min_samples_split': 5}. Best is trial 9 with value: 0.4968663673873376.\u001b[0m\n",
      "\u001b[32m[I 2023-08-24 14:17:23,390]\u001b[0m Trial 18 finished with value: 0.46999594669599604 and parameters: {'n_estimators': 61, 'max_depth': 6, 'min_samples_leaf': 1, 'min_samples_split': 9}. Best is trial 9 with value: 0.4968663673873376.\u001b[0m\n",
      "\u001b[32m[I 2023-08-24 14:17:23,719]\u001b[0m Trial 19 finished with value: 0.32106352056935716 and parameters: {'n_estimators': 33, 'max_depth': 2, 'min_samples_leaf': 8, 'min_samples_split': 4}. Best is trial 9 with value: 0.4968663673873376.\u001b[0m\n",
      "\u001b[32m[I 2023-08-24 14:17:25,352]\u001b[0m Trial 20 finished with value: 0.47553512560810535 and parameters: {'n_estimators': 80, 'max_depth': 7, 'min_samples_leaf': 4, 'min_samples_split': 7}. Best is trial 9 with value: 0.4968663673873376.\u001b[0m\n",
      "\u001b[32m[I 2023-08-24 14:17:26,657]\u001b[0m Trial 21 finished with value: 0.49234050609299296 and parameters: {'n_estimators': 55, 'max_depth': 9, 'min_samples_leaf': 3, 'min_samples_split': 4}. Best is trial 9 with value: 0.4968663673873376.\u001b[0m\n",
      "\u001b[32m[I 2023-08-24 14:17:27,885]\u001b[0m Trial 22 finished with value: 0.4955986686802348 and parameters: {'n_estimators': 50, 'max_depth': 9, 'min_samples_leaf': 2, 'min_samples_split': 6}. Best is trial 9 with value: 0.4968663673873376.\u001b[0m\n",
      "\u001b[32m[I 2023-08-24 14:17:29,091]\u001b[0m Trial 23 finished with value: 0.49363569457559003 and parameters: {'n_estimators': 45, 'max_depth': 10, 'min_samples_leaf': 1, 'min_samples_split': 7}. Best is trial 9 with value: 0.4968663673873376.\u001b[0m\n",
      "\u001b[32m[I 2023-08-24 14:17:30,403]\u001b[0m Trial 24 finished with value: 0.49496843531784246 and parameters: {'n_estimators': 48, 'max_depth': 10, 'min_samples_leaf': 1, 'min_samples_split': 6}. Best is trial 9 with value: 0.4968663673873376.\u001b[0m\n",
      "\u001b[32m[I 2023-08-24 14:17:30,878]\u001b[0m Trial 25 finished with value: 0.4637928075964345 and parameters: {'n_estimators': 29, 'max_depth': 10, 'min_samples_leaf': 13, 'min_samples_split': 3}. Best is trial 9 with value: 0.4968663673873376.\u001b[0m\n",
      "\u001b[32m[I 2023-08-24 14:17:31,817]\u001b[0m Trial 26 finished with value: 0.48406512563868587 and parameters: {'n_estimators': 48, 'max_depth': 10, 'min_samples_leaf': 7, 'min_samples_split': 6}. Best is trial 9 with value: 0.4968663673873376.\u001b[0m\n",
      "\u001b[32m[I 2023-08-24 14:17:32,518]\u001b[0m Trial 27 finished with value: 0.479808170523569 and parameters: {'n_estimators': 34, 'max_depth': 8, 'min_samples_leaf': 5, 'min_samples_split': 10}. Best is trial 9 with value: 0.4968663673873376.\u001b[0m\n",
      "\u001b[32m[I 2023-08-24 14:17:34,129]\u001b[0m Trial 28 finished with value: 0.4957246506536116 and parameters: {'n_estimators': 63, 'max_depth': 9, 'min_samples_leaf': 2, 'min_samples_split': 3}. Best is trial 9 with value: 0.4968663673873376.\u001b[0m\n",
      "\u001b[32m[I 2023-08-24 14:17:35,405]\u001b[0m Trial 29 finished with value: 0.4769963788938375 and parameters: {'n_estimators': 64, 'max_depth': 7, 'min_samples_leaf': 5, 'min_samples_split': 3}. Best is trial 9 with value: 0.4968663673873376.\u001b[0m\n",
      "\u001b[32m[I 2023-08-24 14:17:36,484]\u001b[0m Trial 30 finished with value: 0.4422074207272977 and parameters: {'n_estimators': 74, 'max_depth': 5, 'min_samples_leaf': 14, 'min_samples_split': 2}. Best is trial 9 with value: 0.4968663673873376.\u001b[0m\n",
      "\u001b[32m[I 2023-08-24 14:17:37,699]\u001b[0m Trial 31 finished with value: 0.49803659958730967 and parameters: {'n_estimators': 47, 'max_depth': 9, 'min_samples_leaf': 2, 'min_samples_split': 4}. Best is trial 31 with value: 0.49803659958730967.\u001b[0m\n",
      "\u001b[32m[I 2023-08-24 14:17:39,123]\u001b[0m Trial 32 finished with value: 0.49214864220267607 and parameters: {'n_estimators': 60, 'max_depth': 8, 'min_samples_leaf': 2, 'min_samples_split': 4}. Best is trial 31 with value: 0.49803659958730967.\u001b[0m\n",
      "\u001b[32m[I 2023-08-24 14:17:40,265]\u001b[0m Trial 33 finished with value: 0.4884172540733922 and parameters: {'n_estimators': 51, 'max_depth': 9, 'min_samples_leaf': 4, 'min_samples_split': 3}. Best is trial 31 with value: 0.49803659958730967.\u001b[0m\n",
      "\u001b[32m[I 2023-08-24 14:17:41,089]\u001b[0m Trial 34 finished with value: 0.47460712134762273 and parameters: {'n_estimators': 42, 'max_depth': 7, 'min_samples_leaf': 2, 'min_samples_split': 20}. Best is trial 31 with value: 0.49803659958730967.\u001b[0m\n",
      "\u001b[32m[I 2023-08-24 14:17:42,937]\u001b[0m Trial 35 finished with value: 0.4932442050184055 and parameters: {'n_estimators': 75, 'max_depth': 9, 'min_samples_leaf': 2, 'min_samples_split': 6}. Best is trial 31 with value: 0.49803659958730967.\u001b[0m\n",
      "\u001b[32m[I 2023-08-24 14:17:44,129]\u001b[0m Trial 36 finished with value: 0.47856214446217427 and parameters: {'n_estimators': 60, 'max_depth': 8, 'min_samples_leaf': 4, 'min_samples_split': 18}. Best is trial 31 with value: 0.49803659958730967.\u001b[0m\n",
      "\u001b[32m[I 2023-08-24 14:17:44,760]\u001b[0m Trial 37 finished with value: 0.4706118405866134 and parameters: {'n_estimators': 36, 'max_depth': 6, 'min_samples_leaf': 7, 'min_samples_split': 11}. Best is trial 31 with value: 0.49803659958730967.\u001b[0m\n",
      "\u001b[32m[I 2023-08-24 14:17:45,451]\u001b[0m Trial 38 finished with value: 0.1679172866574233 and parameters: {'n_estimators': 94, 'max_depth': 1, 'min_samples_leaf': 2, 'min_samples_split': 4}. Best is trial 31 with value: 0.49803659958730967.\u001b[0m\n",
      "\u001b[32m[I 2023-08-24 14:17:46,647]\u001b[0m Trial 39 finished with value: 0.48878105469401323 and parameters: {'n_estimators': 53, 'max_depth': 9, 'min_samples_leaf': 4, 'min_samples_split': 3}. Best is trial 31 with value: 0.49803659958730967.\u001b[0m\n",
      "\u001b[32m[I 2023-08-24 14:17:47,053]\u001b[0m Trial 40 finished with value: 0.4711491054307689 and parameters: {'n_estimators': 20, 'max_depth': 8, 'min_samples_leaf': 6, 'min_samples_split': 5}. Best is trial 31 with value: 0.49803659958730967.\u001b[0m\n",
      "\u001b[32m[I 2023-08-24 14:17:48,300]\u001b[0m Trial 41 finished with value: 0.4959131156259379 and parameters: {'n_estimators': 46, 'max_depth': 10, 'min_samples_leaf': 1, 'min_samples_split': 6}. Best is trial 31 with value: 0.49803659958730967.\u001b[0m\n",
      "\u001b[32m[I 2023-08-24 14:17:49,468]\u001b[0m Trial 42 finished with value: 0.49174535286440485 and parameters: {'n_estimators': 46, 'max_depth': 9, 'min_samples_leaf': 1, 'min_samples_split': 8}. Best is trial 31 with value: 0.49803659958730967.\u001b[0m\n",
      "\u001b[32m[I 2023-08-24 14:17:50,942]\u001b[0m Trial 43 finished with value: 0.5018444288175135 and parameters: {'n_estimators': 57, 'max_depth': 10, 'min_samples_leaf': 2, 'min_samples_split': 6}. Best is trial 43 with value: 0.5018444288175135.\u001b[0m\n",
      "\u001b[32m[I 2023-08-24 14:17:51,793]\u001b[0m Trial 44 finished with value: 0.4593412380663507 and parameters: {'n_estimators': 57, 'max_depth': 10, 'min_samples_leaf': 16, 'min_samples_split': 2}. Best is trial 43 with value: 0.5018444288175135.\u001b[0m\n",
      "\u001b[32m[I 2023-08-24 14:17:52,049]\u001b[0m Trial 45 finished with value: 0.4419538933590954 and parameters: {'n_estimators': 10, 'max_depth': 10, 'min_samples_leaf': 3, 'min_samples_split': 4}. Best is trial 43 with value: 0.5018444288175135.\u001b[0m\n",
      "\u001b[32m[I 2023-08-24 14:17:53,563]\u001b[0m Trial 46 finished with value: 0.4867776363982861 and parameters: {'n_estimators': 65, 'max_depth': 10, 'min_samples_leaf': 1, 'min_samples_split': 16}. Best is trial 43 with value: 0.5018444288175135.\u001b[0m\n",
      "\u001b[32m[I 2023-08-24 14:17:55,047]\u001b[0m Trial 47 finished with value: 0.4891850887614477 and parameters: {'n_estimators': 69, 'max_depth': 10, 'min_samples_leaf': 5, 'min_samples_split': 7}. Best is trial 43 with value: 0.5018444288175135.\u001b[0m\n",
      "\u001b[32m[I 2023-08-24 14:17:56,158]\u001b[0m Trial 48 finished with value: 0.4964257046824276 and parameters: {'n_estimators': 44, 'max_depth': 9, 'min_samples_leaf': 2, 'min_samples_split': 5}. Best is trial 43 with value: 0.5018444288175135.\u001b[0m\n",
      "\u001b[32m[I 2023-08-24 14:17:56,538]\u001b[0m Trial 49 finished with value: 0.43681055040783817 and parameters: {'n_estimators': 26, 'max_depth': 10, 'min_samples_leaf': 20, 'min_samples_split': 9}. Best is trial 43 with value: 0.5018444288175135.\u001b[0m\n",
      "\u001b[32m[I 2023-08-24 14:17:57,268]\u001b[0m Trial 50 finished with value: 0.4802619817608796 and parameters: {'n_estimators': 42, 'max_depth': 9, 'min_samples_leaf': 10, 'min_samples_split': 6}. Best is trial 43 with value: 0.5018444288175135.\u001b[0m\n",
      "\u001b[32m[I 2023-08-24 14:17:58,382]\u001b[0m Trial 51 finished with value: 0.4964257046824276 and parameters: {'n_estimators': 44, 'max_depth': 9, 'min_samples_leaf': 2, 'min_samples_split': 5}. Best is trial 43 with value: 0.5018444288175135.\u001b[0m\n",
      "\u001b[32m[I 2023-08-24 14:17:58,935]\u001b[0m Trial 52 finished with value: 0.430627937722889 and parameters: {'n_estimators': 37, 'max_depth': 4, 'min_samples_leaf': 3, 'min_samples_split': 5}. Best is trial 43 with value: 0.5018444288175135.\u001b[0m\n",
      "\u001b[32m[I 2023-08-24 14:17:59,895]\u001b[0m Trial 53 finished with value: 0.48252874924062505 and parameters: {'n_estimators': 45, 'max_depth': 8, 'min_samples_leaf': 4, 'min_samples_split': 5}. Best is trial 43 with value: 0.5018444288175135.\u001b[0m\n",
      "\u001b[32m[I 2023-08-24 14:18:00,690]\u001b[0m Trial 54 finished with value: 0.4842050743348249 and parameters: {'n_estimators': 31, 'max_depth': 9, 'min_samples_leaf': 1, 'min_samples_split': 8}. Best is trial 43 with value: 0.5018444288175135.\u001b[0m\n",
      "\u001b[32m[I 2023-08-24 14:18:02,110]\u001b[0m Trial 55 finished with value: 0.5013454930961588 and parameters: {'n_estimators': 56, 'max_depth': 10, 'min_samples_leaf': 2, 'min_samples_split': 7}. Best is trial 43 with value: 0.5018444288175135.\u001b[0m\n",
      "\u001b[32m[I 2023-08-24 14:18:03,435]\u001b[0m Trial 56 finished with value: 0.4875579997593224 and parameters: {'n_estimators': 58, 'max_depth': 8, 'min_samples_leaf': 3, 'min_samples_split': 4}. Best is trial 43 with value: 0.5018444288175135.\u001b[0m\n",
      "\u001b[32m[I 2023-08-24 14:18:04,732]\u001b[0m Trial 57 finished with value: 0.49750826388999625 and parameters: {'n_estimators': 53, 'max_depth': 9, 'min_samples_leaf': 2, 'min_samples_split': 7}. Best is trial 43 with value: 0.5018444288175135.\u001b[0m\n",
      "\u001b[32m[I 2023-08-24 14:18:05,884]\u001b[0m Trial 58 finished with value: 0.4900728520077594 and parameters: {'n_estimators': 54, 'max_depth': 10, 'min_samples_leaf': 5, 'min_samples_split': 7}. Best is trial 43 with value: 0.5018444288175135.\u001b[0m\n",
      "\u001b[32m[I 2023-08-24 14:18:07,107]\u001b[0m Trial 59 finished with value: 0.49617260027291055 and parameters: {'n_estimators': 51, 'max_depth': 10, 'min_samples_leaf': 3, 'min_samples_split': 8}. Best is trial 43 with value: 0.5018444288175135.\u001b[0m\n",
      "\u001b[32m[I 2023-08-24 14:18:07,951]\u001b[0m Trial 60 finished with value: 0.45249676411725537 and parameters: {'n_estimators': 57, 'max_depth': 9, 'min_samples_leaf': 18, 'min_samples_split': 10}. Best is trial 43 with value: 0.5018444288175135.\u001b[0m\n",
      "\u001b[32m[I 2023-08-24 14:18:09,043]\u001b[0m Trial 61 finished with value: 0.49720767490335555 and parameters: {'n_estimators': 43, 'max_depth': 9, 'min_samples_leaf': 2, 'min_samples_split': 5}. Best is trial 43 with value: 0.5018444288175135.\u001b[0m\n",
      "\u001b[32m[I 2023-08-24 14:18:10,180]\u001b[0m Trial 62 finished with value: 0.4907002703684965 and parameters: {'n_estimators': 49, 'max_depth': 9, 'min_samples_leaf': 2, 'min_samples_split': 12}. Best is trial 43 with value: 0.5018444288175135.\u001b[0m\n",
      "\u001b[32m[I 2023-08-24 14:18:11,043]\u001b[0m Trial 63 finished with value: 0.4847548506684004 and parameters: {'n_estimators': 38, 'max_depth': 9, 'min_samples_leaf': 4, 'min_samples_split': 7}. Best is trial 43 with value: 0.5018444288175135.\u001b[0m\n",
      "\u001b[32m[I 2023-08-24 14:18:12,514]\u001b[0m Trial 64 finished with value: 0.4928354677015513 and parameters: {'n_estimators': 53, 'max_depth': 10, 'min_samples_leaf': 1, 'min_samples_split': 5}. Best is trial 43 with value: 0.5018444288175135.\u001b[0m\n",
      "\u001b[32m[I 2023-08-24 14:18:13,495]\u001b[0m Trial 65 finished with value: 0.49172403527036124 and parameters: {'n_estimators': 41, 'max_depth': 8, 'min_samples_leaf': 2, 'min_samples_split': 6}. Best is trial 43 with value: 0.5018444288175135.\u001b[0m\n",
      "\u001b[32m[I 2023-08-24 14:18:14,858]\u001b[0m Trial 66 finished with value: 0.4938404764722858 and parameters: {'n_estimators': 55, 'max_depth': 10, 'min_samples_leaf': 3, 'min_samples_split': 4}. Best is trial 43 with value: 0.5018444288175135.\u001b[0m\n",
      "\u001b[32m[I 2023-08-24 14:18:16,101]\u001b[0m Trial 67 finished with value: 0.47736298109847386 and parameters: {'n_estimators': 61, 'max_depth': 7, 'min_samples_leaf': 4, 'min_samples_split': 3}. Best is trial 43 with value: 0.5018444288175135.\u001b[0m\n",
      "\u001b[32m[I 2023-08-24 14:18:17,389]\u001b[0m Trial 68 finished with value: 0.49436173418557033 and parameters: {'n_estimators': 48, 'max_depth': 10, 'min_samples_leaf': 1, 'min_samples_split': 7}. Best is trial 43 with value: 0.5018444288175135.\u001b[0m\n",
      "\u001b[32m[I 2023-08-24 14:18:18,604]\u001b[0m Trial 69 finished with value: 0.4961584605374438 and parameters: {'n_estimators': 51, 'max_depth': 9, 'min_samples_leaf': 2, 'min_samples_split': 9}. Best is trial 43 with value: 0.5018444288175135.\u001b[0m\n",
      "\u001b[32m[I 2023-08-24 14:18:19,987]\u001b[0m Trial 70 finished with value: 0.4793715171190224 and parameters: {'n_estimators': 72, 'max_depth': 8, 'min_samples_leaf': 7, 'min_samples_split': 5}. Best is trial 43 with value: 0.5018444288175135.\u001b[0m\n",
      "\u001b[32m[I 2023-08-24 14:18:21,044]\u001b[0m Trial 71 finished with value: 0.4954534128736453 and parameters: {'n_estimators': 42, 'max_depth': 9, 'min_samples_leaf': 2, 'min_samples_split': 5}. Best is trial 43 with value: 0.5018444288175135.\u001b[0m\n",
      "\u001b[32m[I 2023-08-24 14:18:22,154]\u001b[0m Trial 72 finished with value: 0.49706195825066163 and parameters: {'n_estimators': 44, 'max_depth': 9, 'min_samples_leaf': 2, 'min_samples_split': 6}. Best is trial 43 with value: 0.5018444288175135.\u001b[0m\n",
      "\u001b[32m[I 2023-08-24 14:18:23,550]\u001b[0m Trial 73 finished with value: 0.4920449888604451 and parameters: {'n_estimators': 59, 'max_depth': 9, 'min_samples_leaf': 3, 'min_samples_split': 6}. Best is trial 43 with value: 0.5018444288175135.\u001b[0m\n",
      "\u001b[32m[I 2023-08-24 14:18:24,398]\u001b[0m Trial 74 finished with value: 0.49877618469998986 and parameters: {'n_estimators': 34, 'max_depth': 10, 'min_samples_leaf': 2, 'min_samples_split': 8}. Best is trial 43 with value: 0.5018444288175135.\u001b[0m\n",
      "\u001b[32m[I 2023-08-24 14:18:25,270]\u001b[0m Trial 75 finished with value: 0.48876419985372355 and parameters: {'n_estimators': 33, 'max_depth': 10, 'min_samples_leaf': 1, 'min_samples_split': 8}. Best is trial 43 with value: 0.5018444288175135.\u001b[0m\n",
      "\u001b[32m[I 2023-08-24 14:18:26,000]\u001b[0m Trial 76 finished with value: 0.4853685511199147 and parameters: {'n_estimators': 30, 'max_depth': 10, 'min_samples_leaf': 3, 'min_samples_split': 7}. Best is trial 43 with value: 0.5018444288175135.\u001b[0m\n",
      "\u001b[32m[I 2023-08-24 14:18:26,617]\u001b[0m Trial 77 finished with value: 0.48132103202575804 and parameters: {'n_estimators': 27, 'max_depth': 10, 'min_samples_leaf': 4, 'min_samples_split': 9}. Best is trial 43 with value: 0.5018444288175135.\u001b[0m\n",
      "\u001b[32m[I 2023-08-24 14:18:27,139]\u001b[0m Trial 78 finished with value: 0.4311626981998953 and parameters: {'n_estimators': 36, 'max_depth': 4, 'min_samples_leaf': 6, 'min_samples_split': 8}. Best is trial 43 with value: 0.5018444288175135.\u001b[0m\n",
      "\u001b[32m[I 2023-08-24 14:18:28,121]\u001b[0m Trial 79 finished with value: 0.4933264970062291 and parameters: {'n_estimators': 39, 'max_depth': 10, 'min_samples_leaf': 1, 'min_samples_split': 10}. Best is trial 43 with value: 0.5018444288175135.\u001b[0m\n",
      "\u001b[32m[I 2023-08-24 14:18:29,123]\u001b[0m Trial 80 finished with value: 0.4899373402966475 and parameters: {'n_estimators': 47, 'max_depth': 9, 'min_samples_leaf': 5, 'min_samples_split': 6}. Best is trial 43 with value: 0.5018444288175135.\u001b[0m\n",
      "\u001b[32m[I 2023-08-24 14:18:29,724]\u001b[0m Trial 81 finished with value: 0.4835691090793087 and parameters: {'n_estimators': 23, 'max_depth': 9, 'min_samples_leaf': 2, 'min_samples_split': 4}. Best is trial 43 with value: 0.5018444288175135.\u001b[0m\n",
      "\u001b[32m[I 2023-08-24 14:18:30,269]\u001b[0m Trial 82 finished with value: 0.3818802152782843 and parameters: {'n_estimators': 44, 'max_depth': 3, 'min_samples_leaf': 2, 'min_samples_split': 4}. Best is trial 43 with value: 0.5018444288175135.\u001b[0m\n",
      "\u001b[32m[I 2023-08-24 14:18:31,517]\u001b[0m Trial 83 finished with value: 0.48625283680120945 and parameters: {'n_estimators': 52, 'max_depth': 8, 'min_samples_leaf': 1, 'min_samples_split': 7}. Best is trial 43 with value: 0.5018444288175135.\u001b[0m\n",
      "\u001b[32m[I 2023-08-24 14:18:33,106]\u001b[0m Trial 84 finished with value: 0.49079442775297205 and parameters: {'n_estimators': 67, 'max_depth': 9, 'min_samples_leaf': 3, 'min_samples_split': 6}. Best is trial 43 with value: 0.5018444288175135.\u001b[0m\n",
      "\u001b[32m[I 2023-08-24 14:18:34,429]\u001b[0m Trial 85 finished with value: 0.498959374788165 and parameters: {'n_estimators': 49, 'max_depth': 10, 'min_samples_leaf': 2, 'min_samples_split': 3}. Best is trial 43 with value: 0.5018444288175135.\u001b[0m\n",
      "\u001b[32m[I 2023-08-24 14:18:35,766]\u001b[0m Trial 86 finished with value: 0.4938404764722858 and parameters: {'n_estimators': 55, 'max_depth': 10, 'min_samples_leaf': 3, 'min_samples_split': 3}. Best is trial 43 with value: 0.5018444288175135.\u001b[0m\n",
      "\u001b[32m[I 2023-08-24 14:18:37,433]\u001b[0m Trial 87 finished with value: 0.500403539120812 and parameters: {'n_estimators': 62, 'max_depth': 10, 'min_samples_leaf': 2, 'min_samples_split': 2}. Best is trial 43 with value: 0.5018444288175135.\u001b[0m\n",
      "\u001b[32m[I 2023-08-24 14:18:38,539]\u001b[0m Trial 88 finished with value: 0.48909015568719943 and parameters: {'n_estimators': 49, 'max_depth': 10, 'min_samples_leaf': 4, 'min_samples_split': 2}. Best is trial 43 with value: 0.5018444288175135.\u001b[0m\n",
      "\u001b[32m[I 2023-08-24 14:18:40,245]\u001b[0m Trial 89 finished with value: 0.49992313020785717 and parameters: {'n_estimators': 63, 'max_depth': 10, 'min_samples_leaf': 2, 'min_samples_split': 2}. Best is trial 43 with value: 0.5018444288175135.\u001b[0m\n",
      "\u001b[32m[I 2023-08-24 14:18:41,319]\u001b[0m Trial 90 finished with value: 0.4725595135966666 and parameters: {'n_estimators': 63, 'max_depth': 10, 'min_samples_leaf': 11, 'min_samples_split': 2}. Best is trial 43 with value: 0.5018444288175135.\u001b[0m\n",
      "\u001b[32m[I 2023-08-24 14:18:42,827]\u001b[0m Trial 91 finished with value: 0.5006406214056142 and parameters: {'n_estimators': 56, 'max_depth': 10, 'min_samples_leaf': 2, 'min_samples_split': 2}. Best is trial 43 with value: 0.5018444288175135.\u001b[0m\n",
      "\u001b[32m[I 2023-08-24 14:18:44,341]\u001b[0m Trial 92 finished with value: 0.49318298459942833 and parameters: {'n_estimators': 62, 'max_depth': 10, 'min_samples_leaf': 3, 'min_samples_split': 2}. Best is trial 43 with value: 0.5018444288175135.\u001b[0m\n",
      "\u001b[32m[I 2023-08-24 14:18:45,896]\u001b[0m Trial 93 finished with value: 0.5001216357272902 and parameters: {'n_estimators': 58, 'max_depth': 10, 'min_samples_leaf': 2, 'min_samples_split': 3}. Best is trial 43 with value: 0.5018444288175135.\u001b[0m\n",
      "\u001b[32m[I 2023-08-24 14:18:47,837]\u001b[0m Trial 94 finished with value: 0.49618123356965604 and parameters: {'n_estimators': 66, 'max_depth': 10, 'min_samples_leaf': 1, 'min_samples_split': 3}. Best is trial 43 with value: 0.5018444288175135.\u001b[0m\n",
      "\u001b[32m[I 2023-08-24 14:18:49,321]\u001b[0m Trial 95 finished with value: 0.5006406214056142 and parameters: {'n_estimators': 56, 'max_depth': 10, 'min_samples_leaf': 2, 'min_samples_split': 2}. Best is trial 43 with value: 0.5018444288175135.\u001b[0m\n",
      "\u001b[32m[I 2023-08-24 14:18:50,728]\u001b[0m Trial 96 finished with value: 0.4937601215051249 and parameters: {'n_estimators': 57, 'max_depth': 10, 'min_samples_leaf': 3, 'min_samples_split': 2}. Best is trial 43 with value: 0.5018444288175135.\u001b[0m\n",
      "\u001b[32m[I 2023-08-24 14:18:52,536]\u001b[0m Trial 97 finished with value: 0.4950978140828859 and parameters: {'n_estimators': 59, 'max_depth': 10, 'min_samples_leaf': 1, 'min_samples_split': 2}. Best is trial 43 with value: 0.5018444288175135.\u001b[0m\n",
      "\u001b[32m[I 2023-08-24 14:18:53,585]\u001b[0m Trial 98 finished with value: 0.46102297866422404 and parameters: {'n_estimators': 67, 'max_depth': 10, 'min_samples_leaf': 14, 'min_samples_split': 3}. Best is trial 43 with value: 0.5018444288175135.\u001b[0m\n",
      "\u001b[32m[I 2023-08-24 14:18:55,052]\u001b[0m Trial 99 finished with value: 0.4900720623457879 and parameters: {'n_estimators': 64, 'max_depth': 10, 'min_samples_leaf': 4, 'min_samples_split': 3}. Best is trial 43 with value: 0.5018444288175135.\u001b[0m\n"
     ]
    },
    {
     "name": "stdout",
     "output_type": "stream",
     "text": [
      "Best r2:  0.5018444288175135\n",
      "Best trial: {'n_estimators': 57, 'max_depth': 10, 'min_samples_leaf': 2, 'min_samples_split': 6}\n"
     ]
    }
   ],
   "source": [
    "sampler = TPESampler()\n",
    "study = optuna.create_study(\n",
    "    study_name=\"rf_parameter_opt\",\n",
    "    direction=\"maximize\",\n",
    "    sampler=sampler,\n",
    ")\n",
    "\n",
    "study.optimize(lambda trial : objectiveRF(trial, As_X_train, As_y_train), n_trials=100)\n",
    "print(\"Best r2: \", study.best_value)\n",
    "print(\"Best trial:\", study.best_trial.params)"
   ]
  },
  {
   "cell_type": "code",
   "execution_count": 27,
   "id": "ded0e0f8",
   "metadata": {},
   "outputs": [
    {
     "data": {
      "application/vnd.plotly.v1+json": {
       "config": {
        "plotlyServerURL": "https://plot.ly"
       },
       "data": [
        {
         "dimensions": [
          {
           "label": "Objective Value",
           "range": [
            0.1679172866574233,
            0.5018444288175135
           ],
           "values": [
            0.46684113964894036,
            0.43474752228642116,
            0.16821506259242583,
            0.4934613900600725,
            0.45517482568164835,
            0.454329640220859,
            0.45937931501448015,
            0.47352336549149693,
            0.3831274584407554,
            0.4968663673873376,
            0.47246278721390195,
            0.489720244594933,
            0.4927583611257037,
            0.4807921135600113,
            0.41459087594896726,
            0.4904603456655009,
            0.4805655925384576,
            0.4930589599379239,
            0.46999594669599604,
            0.32106352056935716,
            0.47553512560810535,
            0.49234050609299296,
            0.4955986686802348,
            0.49363569457559003,
            0.49496843531784246,
            0.4637928075964345,
            0.48406512563868587,
            0.479808170523569,
            0.4957246506536116,
            0.4769963788938375,
            0.4422074207272977,
            0.49803659958730967,
            0.49214864220267607,
            0.4884172540733922,
            0.47460712134762273,
            0.4932442050184055,
            0.47856214446217427,
            0.4706118405866134,
            0.1679172866574233,
            0.48878105469401323,
            0.4711491054307689,
            0.4959131156259379,
            0.49174535286440485,
            0.5018444288175135,
            0.4593412380663507,
            0.4419538933590954,
            0.4867776363982861,
            0.4891850887614477,
            0.4964257046824276,
            0.43681055040783817,
            0.4802619817608796,
            0.4964257046824276,
            0.430627937722889,
            0.48252874924062505,
            0.4842050743348249,
            0.5013454930961588,
            0.4875579997593224,
            0.49750826388999625,
            0.4900728520077594,
            0.49617260027291055,
            0.45249676411725537,
            0.49720767490335555,
            0.4907002703684965,
            0.4847548506684004,
            0.4928354677015513,
            0.49172403527036124,
            0.4938404764722858,
            0.47736298109847386,
            0.49436173418557033,
            0.4961584605374438,
            0.4793715171190224,
            0.4954534128736453,
            0.49706195825066163,
            0.4920449888604451,
            0.49877618469998986,
            0.48876419985372355,
            0.4853685511199147,
            0.48132103202575804,
            0.4311626981998953,
            0.4933264970062291,
            0.4899373402966475,
            0.4835691090793087,
            0.3818802152782843,
            0.48625283680120945,
            0.49079442775297205,
            0.498959374788165,
            0.4938404764722858,
            0.500403539120812,
            0.48909015568719943,
            0.49992313020785717,
            0.4725595135966666,
            0.5006406214056142,
            0.49318298459942833,
            0.5001216357272902,
            0.49618123356965604,
            0.5006406214056142,
            0.4937601215051249,
            0.4950978140828859,
            0.46102297866422404,
            0.4900720623457879
           ]
          },
          {
           "label": "max_depth",
           "range": [
            1,
            10
           ],
           "values": [
            7,
            5,
            1,
            9,
            8,
            6,
            9,
            7,
            3,
            10,
            10,
            10,
            10,
            8,
            4,
            9,
            8,
            9,
            6,
            2,
            7,
            9,
            9,
            10,
            10,
            10,
            10,
            8,
            9,
            7,
            5,
            9,
            8,
            9,
            7,
            9,
            8,
            6,
            1,
            9,
            8,
            10,
            9,
            10,
            10,
            10,
            10,
            10,
            9,
            10,
            9,
            9,
            4,
            8,
            9,
            10,
            8,
            9,
            10,
            10,
            9,
            9,
            9,
            9,
            10,
            8,
            10,
            7,
            10,
            9,
            8,
            9,
            9,
            9,
            10,
            10,
            10,
            10,
            4,
            10,
            9,
            9,
            3,
            8,
            9,
            10,
            10,
            10,
            10,
            10,
            10,
            10,
            10,
            10,
            10,
            10,
            10,
            10,
            10,
            10
           ]
          },
          {
           "label": "min_samples_leaf",
           "range": [
            1,
            20
           ],
           "values": [
            6,
            16,
            1,
            3,
            17,
            12,
            6,
            5,
            6,
            1,
            11,
            1,
            3,
            9,
            20,
            3,
            9,
            3,
            1,
            8,
            4,
            3,
            2,
            1,
            1,
            13,
            7,
            5,
            2,
            5,
            14,
            2,
            2,
            4,
            2,
            2,
            4,
            7,
            2,
            4,
            6,
            1,
            1,
            2,
            16,
            3,
            1,
            5,
            2,
            20,
            10,
            2,
            3,
            4,
            1,
            2,
            3,
            2,
            5,
            3,
            18,
            2,
            2,
            4,
            1,
            2,
            3,
            4,
            1,
            2,
            7,
            2,
            2,
            3,
            2,
            1,
            3,
            4,
            6,
            1,
            5,
            2,
            2,
            1,
            3,
            2,
            3,
            2,
            4,
            2,
            11,
            2,
            3,
            2,
            1,
            2,
            3,
            1,
            14,
            4
           ]
          },
          {
           "label": "min_samples_split",
           "range": [
            2,
            20
           ],
           "values": [
            12,
            20,
            11,
            8,
            17,
            14,
            13,
            14,
            13,
            4,
            2,
            5,
            7,
            8,
            2,
            5,
            9,
            5,
            9,
            4,
            7,
            4,
            6,
            7,
            6,
            3,
            6,
            10,
            3,
            3,
            2,
            4,
            4,
            3,
            20,
            6,
            18,
            11,
            4,
            3,
            5,
            6,
            8,
            6,
            2,
            4,
            16,
            7,
            5,
            9,
            6,
            5,
            5,
            5,
            8,
            7,
            4,
            7,
            7,
            8,
            10,
            5,
            12,
            7,
            5,
            6,
            4,
            3,
            7,
            9,
            5,
            5,
            6,
            6,
            8,
            8,
            7,
            9,
            8,
            10,
            6,
            4,
            4,
            7,
            6,
            3,
            3,
            2,
            2,
            2,
            2,
            2,
            2,
            3,
            3,
            2,
            2,
            2,
            3,
            3
           ]
          },
          {
           "label": "n_estimators",
           "range": [
            10,
            99
           ],
           "values": [
            22,
            18,
            99,
            57,
            57,
            25,
            14,
            70,
            50,
            53,
            87,
            41,
            69,
            39,
            66,
            81,
            40,
            54,
            61,
            33,
            80,
            55,
            50,
            45,
            48,
            29,
            48,
            34,
            63,
            64,
            74,
            47,
            60,
            51,
            42,
            75,
            60,
            36,
            94,
            53,
            20,
            46,
            46,
            57,
            57,
            10,
            65,
            69,
            44,
            26,
            42,
            44,
            37,
            45,
            31,
            56,
            58,
            53,
            54,
            51,
            57,
            43,
            49,
            38,
            53,
            41,
            55,
            61,
            48,
            51,
            72,
            42,
            44,
            59,
            34,
            33,
            30,
            27,
            36,
            39,
            47,
            23,
            44,
            52,
            67,
            49,
            55,
            62,
            49,
            63,
            63,
            56,
            62,
            58,
            66,
            56,
            57,
            59,
            67,
            64
           ]
          }
         ],
         "labelangle": 30,
         "labelside": "bottom",
         "line": {
          "color": [
           0.46684113964894036,
           0.43474752228642116,
           0.16821506259242583,
           0.4934613900600725,
           0.45517482568164835,
           0.454329640220859,
           0.45937931501448015,
           0.47352336549149693,
           0.3831274584407554,
           0.4968663673873376,
           0.47246278721390195,
           0.489720244594933,
           0.4927583611257037,
           0.4807921135600113,
           0.41459087594896726,
           0.4904603456655009,
           0.4805655925384576,
           0.4930589599379239,
           0.46999594669599604,
           0.32106352056935716,
           0.47553512560810535,
           0.49234050609299296,
           0.4955986686802348,
           0.49363569457559003,
           0.49496843531784246,
           0.4637928075964345,
           0.48406512563868587,
           0.479808170523569,
           0.4957246506536116,
           0.4769963788938375,
           0.4422074207272977,
           0.49803659958730967,
           0.49214864220267607,
           0.4884172540733922,
           0.47460712134762273,
           0.4932442050184055,
           0.47856214446217427,
           0.4706118405866134,
           0.1679172866574233,
           0.48878105469401323,
           0.4711491054307689,
           0.4959131156259379,
           0.49174535286440485,
           0.5018444288175135,
           0.4593412380663507,
           0.4419538933590954,
           0.4867776363982861,
           0.4891850887614477,
           0.4964257046824276,
           0.43681055040783817,
           0.4802619817608796,
           0.4964257046824276,
           0.430627937722889,
           0.48252874924062505,
           0.4842050743348249,
           0.5013454930961588,
           0.4875579997593224,
           0.49750826388999625,
           0.4900728520077594,
           0.49617260027291055,
           0.45249676411725537,
           0.49720767490335555,
           0.4907002703684965,
           0.4847548506684004,
           0.4928354677015513,
           0.49172403527036124,
           0.4938404764722858,
           0.47736298109847386,
           0.49436173418557033,
           0.4961584605374438,
           0.4793715171190224,
           0.4954534128736453,
           0.49706195825066163,
           0.4920449888604451,
           0.49877618469998986,
           0.48876419985372355,
           0.4853685511199147,
           0.48132103202575804,
           0.4311626981998953,
           0.4933264970062291,
           0.4899373402966475,
           0.4835691090793087,
           0.3818802152782843,
           0.48625283680120945,
           0.49079442775297205,
           0.498959374788165,
           0.4938404764722858,
           0.500403539120812,
           0.48909015568719943,
           0.49992313020785717,
           0.4725595135966666,
           0.5006406214056142,
           0.49318298459942833,
           0.5001216357272902,
           0.49618123356965604,
           0.5006406214056142,
           0.4937601215051249,
           0.4950978140828859,
           0.46102297866422404,
           0.4900720623457879
          ],
          "colorbar": {
           "title": {
            "text": "Objective Value"
           }
          },
          "colorscale": [
           [
            0,
            "rgb(247,251,255)"
           ],
           [
            0.125,
            "rgb(222,235,247)"
           ],
           [
            0.25,
            "rgb(198,219,239)"
           ],
           [
            0.375,
            "rgb(158,202,225)"
           ],
           [
            0.5,
            "rgb(107,174,214)"
           ],
           [
            0.625,
            "rgb(66,146,198)"
           ],
           [
            0.75,
            "rgb(33,113,181)"
           ],
           [
            0.875,
            "rgb(8,81,156)"
           ],
           [
            1,
            "rgb(8,48,107)"
           ]
          ],
          "reversescale": false,
          "showscale": true
         },
         "type": "parcoords"
        }
       ],
       "layout": {
        "template": {
         "data": {
          "bar": [
           {
            "error_x": {
             "color": "#2a3f5f"
            },
            "error_y": {
             "color": "#2a3f5f"
            },
            "marker": {
             "line": {
              "color": "#E5ECF6",
              "width": 0.5
             },
             "pattern": {
              "fillmode": "overlay",
              "size": 10,
              "solidity": 0.2
             }
            },
            "type": "bar"
           }
          ],
          "barpolar": [
           {
            "marker": {
             "line": {
              "color": "#E5ECF6",
              "width": 0.5
             },
             "pattern": {
              "fillmode": "overlay",
              "size": 10,
              "solidity": 0.2
             }
            },
            "type": "barpolar"
           }
          ],
          "carpet": [
           {
            "aaxis": {
             "endlinecolor": "#2a3f5f",
             "gridcolor": "white",
             "linecolor": "white",
             "minorgridcolor": "white",
             "startlinecolor": "#2a3f5f"
            },
            "baxis": {
             "endlinecolor": "#2a3f5f",
             "gridcolor": "white",
             "linecolor": "white",
             "minorgridcolor": "white",
             "startlinecolor": "#2a3f5f"
            },
            "type": "carpet"
           }
          ],
          "choropleth": [
           {
            "colorbar": {
             "outlinewidth": 0,
             "ticks": ""
            },
            "type": "choropleth"
           }
          ],
          "contour": [
           {
            "colorbar": {
             "outlinewidth": 0,
             "ticks": ""
            },
            "colorscale": [
             [
              0,
              "#0d0887"
             ],
             [
              0.1111111111111111,
              "#46039f"
             ],
             [
              0.2222222222222222,
              "#7201a8"
             ],
             [
              0.3333333333333333,
              "#9c179e"
             ],
             [
              0.4444444444444444,
              "#bd3786"
             ],
             [
              0.5555555555555556,
              "#d8576b"
             ],
             [
              0.6666666666666666,
              "#ed7953"
             ],
             [
              0.7777777777777778,
              "#fb9f3a"
             ],
             [
              0.8888888888888888,
              "#fdca26"
             ],
             [
              1,
              "#f0f921"
             ]
            ],
            "type": "contour"
           }
          ],
          "contourcarpet": [
           {
            "colorbar": {
             "outlinewidth": 0,
             "ticks": ""
            },
            "type": "contourcarpet"
           }
          ],
          "heatmap": [
           {
            "colorbar": {
             "outlinewidth": 0,
             "ticks": ""
            },
            "colorscale": [
             [
              0,
              "#0d0887"
             ],
             [
              0.1111111111111111,
              "#46039f"
             ],
             [
              0.2222222222222222,
              "#7201a8"
             ],
             [
              0.3333333333333333,
              "#9c179e"
             ],
             [
              0.4444444444444444,
              "#bd3786"
             ],
             [
              0.5555555555555556,
              "#d8576b"
             ],
             [
              0.6666666666666666,
              "#ed7953"
             ],
             [
              0.7777777777777778,
              "#fb9f3a"
             ],
             [
              0.8888888888888888,
              "#fdca26"
             ],
             [
              1,
              "#f0f921"
             ]
            ],
            "type": "heatmap"
           }
          ],
          "heatmapgl": [
           {
            "colorbar": {
             "outlinewidth": 0,
             "ticks": ""
            },
            "colorscale": [
             [
              0,
              "#0d0887"
             ],
             [
              0.1111111111111111,
              "#46039f"
             ],
             [
              0.2222222222222222,
              "#7201a8"
             ],
             [
              0.3333333333333333,
              "#9c179e"
             ],
             [
              0.4444444444444444,
              "#bd3786"
             ],
             [
              0.5555555555555556,
              "#d8576b"
             ],
             [
              0.6666666666666666,
              "#ed7953"
             ],
             [
              0.7777777777777778,
              "#fb9f3a"
             ],
             [
              0.8888888888888888,
              "#fdca26"
             ],
             [
              1,
              "#f0f921"
             ]
            ],
            "type": "heatmapgl"
           }
          ],
          "histogram": [
           {
            "marker": {
             "pattern": {
              "fillmode": "overlay",
              "size": 10,
              "solidity": 0.2
             }
            },
            "type": "histogram"
           }
          ],
          "histogram2d": [
           {
            "colorbar": {
             "outlinewidth": 0,
             "ticks": ""
            },
            "colorscale": [
             [
              0,
              "#0d0887"
             ],
             [
              0.1111111111111111,
              "#46039f"
             ],
             [
              0.2222222222222222,
              "#7201a8"
             ],
             [
              0.3333333333333333,
              "#9c179e"
             ],
             [
              0.4444444444444444,
              "#bd3786"
             ],
             [
              0.5555555555555556,
              "#d8576b"
             ],
             [
              0.6666666666666666,
              "#ed7953"
             ],
             [
              0.7777777777777778,
              "#fb9f3a"
             ],
             [
              0.8888888888888888,
              "#fdca26"
             ],
             [
              1,
              "#f0f921"
             ]
            ],
            "type": "histogram2d"
           }
          ],
          "histogram2dcontour": [
           {
            "colorbar": {
             "outlinewidth": 0,
             "ticks": ""
            },
            "colorscale": [
             [
              0,
              "#0d0887"
             ],
             [
              0.1111111111111111,
              "#46039f"
             ],
             [
              0.2222222222222222,
              "#7201a8"
             ],
             [
              0.3333333333333333,
              "#9c179e"
             ],
             [
              0.4444444444444444,
              "#bd3786"
             ],
             [
              0.5555555555555556,
              "#d8576b"
             ],
             [
              0.6666666666666666,
              "#ed7953"
             ],
             [
              0.7777777777777778,
              "#fb9f3a"
             ],
             [
              0.8888888888888888,
              "#fdca26"
             ],
             [
              1,
              "#f0f921"
             ]
            ],
            "type": "histogram2dcontour"
           }
          ],
          "mesh3d": [
           {
            "colorbar": {
             "outlinewidth": 0,
             "ticks": ""
            },
            "type": "mesh3d"
           }
          ],
          "parcoords": [
           {
            "line": {
             "colorbar": {
              "outlinewidth": 0,
              "ticks": ""
             }
            },
            "type": "parcoords"
           }
          ],
          "pie": [
           {
            "automargin": true,
            "type": "pie"
           }
          ],
          "scatter": [
           {
            "marker": {
             "colorbar": {
              "outlinewidth": 0,
              "ticks": ""
             }
            },
            "type": "scatter"
           }
          ],
          "scatter3d": [
           {
            "line": {
             "colorbar": {
              "outlinewidth": 0,
              "ticks": ""
             }
            },
            "marker": {
             "colorbar": {
              "outlinewidth": 0,
              "ticks": ""
             }
            },
            "type": "scatter3d"
           }
          ],
          "scattercarpet": [
           {
            "marker": {
             "colorbar": {
              "outlinewidth": 0,
              "ticks": ""
             }
            },
            "type": "scattercarpet"
           }
          ],
          "scattergeo": [
           {
            "marker": {
             "colorbar": {
              "outlinewidth": 0,
              "ticks": ""
             }
            },
            "type": "scattergeo"
           }
          ],
          "scattergl": [
           {
            "marker": {
             "colorbar": {
              "outlinewidth": 0,
              "ticks": ""
             }
            },
            "type": "scattergl"
           }
          ],
          "scattermapbox": [
           {
            "marker": {
             "colorbar": {
              "outlinewidth": 0,
              "ticks": ""
             }
            },
            "type": "scattermapbox"
           }
          ],
          "scatterpolar": [
           {
            "marker": {
             "colorbar": {
              "outlinewidth": 0,
              "ticks": ""
             }
            },
            "type": "scatterpolar"
           }
          ],
          "scatterpolargl": [
           {
            "marker": {
             "colorbar": {
              "outlinewidth": 0,
              "ticks": ""
             }
            },
            "type": "scatterpolargl"
           }
          ],
          "scatterternary": [
           {
            "marker": {
             "colorbar": {
              "outlinewidth": 0,
              "ticks": ""
             }
            },
            "type": "scatterternary"
           }
          ],
          "surface": [
           {
            "colorbar": {
             "outlinewidth": 0,
             "ticks": ""
            },
            "colorscale": [
             [
              0,
              "#0d0887"
             ],
             [
              0.1111111111111111,
              "#46039f"
             ],
             [
              0.2222222222222222,
              "#7201a8"
             ],
             [
              0.3333333333333333,
              "#9c179e"
             ],
             [
              0.4444444444444444,
              "#bd3786"
             ],
             [
              0.5555555555555556,
              "#d8576b"
             ],
             [
              0.6666666666666666,
              "#ed7953"
             ],
             [
              0.7777777777777778,
              "#fb9f3a"
             ],
             [
              0.8888888888888888,
              "#fdca26"
             ],
             [
              1,
              "#f0f921"
             ]
            ],
            "type": "surface"
           }
          ],
          "table": [
           {
            "cells": {
             "fill": {
              "color": "#EBF0F8"
             },
             "line": {
              "color": "white"
             }
            },
            "header": {
             "fill": {
              "color": "#C8D4E3"
             },
             "line": {
              "color": "white"
             }
            },
            "type": "table"
           }
          ]
         },
         "layout": {
          "annotationdefaults": {
           "arrowcolor": "#2a3f5f",
           "arrowhead": 0,
           "arrowwidth": 1
          },
          "autotypenumbers": "strict",
          "coloraxis": {
           "colorbar": {
            "outlinewidth": 0,
            "ticks": ""
           }
          },
          "colorscale": {
           "diverging": [
            [
             0,
             "#8e0152"
            ],
            [
             0.1,
             "#c51b7d"
            ],
            [
             0.2,
             "#de77ae"
            ],
            [
             0.3,
             "#f1b6da"
            ],
            [
             0.4,
             "#fde0ef"
            ],
            [
             0.5,
             "#f7f7f7"
            ],
            [
             0.6,
             "#e6f5d0"
            ],
            [
             0.7,
             "#b8e186"
            ],
            [
             0.8,
             "#7fbc41"
            ],
            [
             0.9,
             "#4d9221"
            ],
            [
             1,
             "#276419"
            ]
           ],
           "sequential": [
            [
             0,
             "#0d0887"
            ],
            [
             0.1111111111111111,
             "#46039f"
            ],
            [
             0.2222222222222222,
             "#7201a8"
            ],
            [
             0.3333333333333333,
             "#9c179e"
            ],
            [
             0.4444444444444444,
             "#bd3786"
            ],
            [
             0.5555555555555556,
             "#d8576b"
            ],
            [
             0.6666666666666666,
             "#ed7953"
            ],
            [
             0.7777777777777778,
             "#fb9f3a"
            ],
            [
             0.8888888888888888,
             "#fdca26"
            ],
            [
             1,
             "#f0f921"
            ]
           ],
           "sequentialminus": [
            [
             0,
             "#0d0887"
            ],
            [
             0.1111111111111111,
             "#46039f"
            ],
            [
             0.2222222222222222,
             "#7201a8"
            ],
            [
             0.3333333333333333,
             "#9c179e"
            ],
            [
             0.4444444444444444,
             "#bd3786"
            ],
            [
             0.5555555555555556,
             "#d8576b"
            ],
            [
             0.6666666666666666,
             "#ed7953"
            ],
            [
             0.7777777777777778,
             "#fb9f3a"
            ],
            [
             0.8888888888888888,
             "#fdca26"
            ],
            [
             1,
             "#f0f921"
            ]
           ]
          },
          "colorway": [
           "#636efa",
           "#EF553B",
           "#00cc96",
           "#ab63fa",
           "#FFA15A",
           "#19d3f3",
           "#FF6692",
           "#B6E880",
           "#FF97FF",
           "#FECB52"
          ],
          "font": {
           "color": "#2a3f5f"
          },
          "geo": {
           "bgcolor": "white",
           "lakecolor": "white",
           "landcolor": "#E5ECF6",
           "showlakes": true,
           "showland": true,
           "subunitcolor": "white"
          },
          "hoverlabel": {
           "align": "left"
          },
          "hovermode": "closest",
          "mapbox": {
           "style": "light"
          },
          "paper_bgcolor": "white",
          "plot_bgcolor": "#E5ECF6",
          "polar": {
           "angularaxis": {
            "gridcolor": "white",
            "linecolor": "white",
            "ticks": ""
           },
           "bgcolor": "#E5ECF6",
           "radialaxis": {
            "gridcolor": "white",
            "linecolor": "white",
            "ticks": ""
           }
          },
          "scene": {
           "xaxis": {
            "backgroundcolor": "#E5ECF6",
            "gridcolor": "white",
            "gridwidth": 2,
            "linecolor": "white",
            "showbackground": true,
            "ticks": "",
            "zerolinecolor": "white"
           },
           "yaxis": {
            "backgroundcolor": "#E5ECF6",
            "gridcolor": "white",
            "gridwidth": 2,
            "linecolor": "white",
            "showbackground": true,
            "ticks": "",
            "zerolinecolor": "white"
           },
           "zaxis": {
            "backgroundcolor": "#E5ECF6",
            "gridcolor": "white",
            "gridwidth": 2,
            "linecolor": "white",
            "showbackground": true,
            "ticks": "",
            "zerolinecolor": "white"
           }
          },
          "shapedefaults": {
           "line": {
            "color": "#2a3f5f"
           }
          },
          "ternary": {
           "aaxis": {
            "gridcolor": "white",
            "linecolor": "white",
            "ticks": ""
           },
           "baxis": {
            "gridcolor": "white",
            "linecolor": "white",
            "ticks": ""
           },
           "bgcolor": "#E5ECF6",
           "caxis": {
            "gridcolor": "white",
            "linecolor": "white",
            "ticks": ""
           }
          },
          "title": {
           "x": 0.05
          },
          "xaxis": {
           "automargin": true,
           "gridcolor": "white",
           "linecolor": "white",
           "ticks": "",
           "title": {
            "standoff": 15
           },
           "zerolinecolor": "white",
           "zerolinewidth": 2
          },
          "yaxis": {
           "automargin": true,
           "gridcolor": "white",
           "linecolor": "white",
           "ticks": "",
           "title": {
            "standoff": 15
           },
           "zerolinecolor": "white",
           "zerolinewidth": 2
          }
         }
        },
        "title": {
         "text": "Parallel Coordinate Plot"
        }
       }
      }
     },
     "metadata": {},
     "output_type": "display_data"
    }
   ],
   "source": [
    "optuna.visualization.plot_parallel_coordinate(study)"
   ]
  },
  {
   "cell_type": "code",
   "execution_count": 28,
   "id": "75db1ddf",
   "metadata": {},
   "outputs": [
    {
     "name": "stdout",
     "output_type": "stream",
     "text": [
      "Best trial: {'n_estimators': 57, 'max_depth': 10, 'min_samples_leaf': 2, 'min_samples_split': 6}\n"
     ]
    }
   ],
   "source": [
    "print(\"Best trial:\", study.best_trial.params)"
   ]
  },
  {
   "cell_type": "code",
   "execution_count": 29,
   "id": "574699dc",
   "metadata": {},
   "outputs": [
    {
     "data": {
      "text/plain": [
       "57"
      ]
     },
     "execution_count": 29,
     "metadata": {},
     "output_type": "execute_result"
    }
   ],
   "source": [
    "study.best_trial.params[\"n_estimators\"]"
   ]
  },
  {
   "cell_type": "code",
   "execution_count": 30,
   "id": "862eadd2",
   "metadata": {},
   "outputs": [
    {
     "data": {
      "text/html": [
       "<style>#sk-container-id-1 {color: black;}#sk-container-id-1 pre{padding: 0;}#sk-container-id-1 div.sk-toggleable {background-color: white;}#sk-container-id-1 label.sk-toggleable__label {cursor: pointer;display: block;width: 100%;margin-bottom: 0;padding: 0.3em;box-sizing: border-box;text-align: center;}#sk-container-id-1 label.sk-toggleable__label-arrow:before {content: \"▸\";float: left;margin-right: 0.25em;color: #696969;}#sk-container-id-1 label.sk-toggleable__label-arrow:hover:before {color: black;}#sk-container-id-1 div.sk-estimator:hover label.sk-toggleable__label-arrow:before {color: black;}#sk-container-id-1 div.sk-toggleable__content {max-height: 0;max-width: 0;overflow: hidden;text-align: left;background-color: #f0f8ff;}#sk-container-id-1 div.sk-toggleable__content pre {margin: 0.2em;color: black;border-radius: 0.25em;background-color: #f0f8ff;}#sk-container-id-1 input.sk-toggleable__control:checked~div.sk-toggleable__content {max-height: 200px;max-width: 100%;overflow: auto;}#sk-container-id-1 input.sk-toggleable__control:checked~label.sk-toggleable__label-arrow:before {content: \"▾\";}#sk-container-id-1 div.sk-estimator input.sk-toggleable__control:checked~label.sk-toggleable__label {background-color: #d4ebff;}#sk-container-id-1 div.sk-label input.sk-toggleable__control:checked~label.sk-toggleable__label {background-color: #d4ebff;}#sk-container-id-1 input.sk-hidden--visually {border: 0;clip: rect(1px 1px 1px 1px);clip: rect(1px, 1px, 1px, 1px);height: 1px;margin: -1px;overflow: hidden;padding: 0;position: absolute;width: 1px;}#sk-container-id-1 div.sk-estimator {font-family: monospace;background-color: #f0f8ff;border: 1px dotted black;border-radius: 0.25em;box-sizing: border-box;margin-bottom: 0.5em;}#sk-container-id-1 div.sk-estimator:hover {background-color: #d4ebff;}#sk-container-id-1 div.sk-parallel-item::after {content: \"\";width: 100%;border-bottom: 1px solid gray;flex-grow: 1;}#sk-container-id-1 div.sk-label:hover label.sk-toggleable__label {background-color: #d4ebff;}#sk-container-id-1 div.sk-serial::before {content: \"\";position: absolute;border-left: 1px solid gray;box-sizing: border-box;top: 0;bottom: 0;left: 50%;z-index: 0;}#sk-container-id-1 div.sk-serial {display: flex;flex-direction: column;align-items: center;background-color: white;padding-right: 0.2em;padding-left: 0.2em;position: relative;}#sk-container-id-1 div.sk-item {position: relative;z-index: 1;}#sk-container-id-1 div.sk-parallel {display: flex;align-items: stretch;justify-content: center;background-color: white;position: relative;}#sk-container-id-1 div.sk-item::before, #sk-container-id-1 div.sk-parallel-item::before {content: \"\";position: absolute;border-left: 1px solid gray;box-sizing: border-box;top: 0;bottom: 0;left: 50%;z-index: -1;}#sk-container-id-1 div.sk-parallel-item {display: flex;flex-direction: column;z-index: 1;position: relative;background-color: white;}#sk-container-id-1 div.sk-parallel-item:first-child::after {align-self: flex-end;width: 50%;}#sk-container-id-1 div.sk-parallel-item:last-child::after {align-self: flex-start;width: 50%;}#sk-container-id-1 div.sk-parallel-item:only-child::after {width: 0;}#sk-container-id-1 div.sk-dashed-wrapped {border: 1px dashed gray;margin: 0 0.4em 0.5em 0.4em;box-sizing: border-box;padding-bottom: 0.4em;background-color: white;}#sk-container-id-1 div.sk-label label {font-family: monospace;font-weight: bold;display: inline-block;line-height: 1.2em;}#sk-container-id-1 div.sk-label-container {text-align: center;}#sk-container-id-1 div.sk-container {/* jupyter's `normalize.less` sets `[hidden] { display: none; }` but bootstrap.min.css set `[hidden] { display: none !important; }` so we also need the `!important` here to be able to override the default hidden behavior on the sphinx rendered scikit-learn.org. See: https://github.com/scikit-learn/scikit-learn/issues/21755 */display: inline-block !important;position: relative;}#sk-container-id-1 div.sk-text-repr-fallback {display: none;}</style><div id=\"sk-container-id-1\" class=\"sk-top-container\"><div class=\"sk-text-repr-fallback\"><pre>RandomForestRegressor(max_depth=10, min_samples_leaf=2, min_samples_split=6,\n",
       "                      n_estimators=57, random_state=42)</pre><b>In a Jupyter environment, please rerun this cell to show the HTML representation or trust the notebook. <br />On GitHub, the HTML representation is unable to render, please try loading this page with nbviewer.org.</b></div><div class=\"sk-container\" hidden><div class=\"sk-item\"><div class=\"sk-estimator sk-toggleable\"><input class=\"sk-toggleable__control sk-hidden--visually\" id=\"sk-estimator-id-1\" type=\"checkbox\" checked><label for=\"sk-estimator-id-1\" class=\"sk-toggleable__label sk-toggleable__label-arrow\">RandomForestRegressor</label><div class=\"sk-toggleable__content\"><pre>RandomForestRegressor(max_depth=10, min_samples_leaf=2, min_samples_split=6,\n",
       "                      n_estimators=57, random_state=42)</pre></div></div></div></div></div>"
      ],
      "text/plain": [
       "RandomForestRegressor(max_depth=10, min_samples_leaf=2, min_samples_split=6,\n",
       "                      n_estimators=57, random_state=42)"
      ]
     },
     "execution_count": 30,
     "metadata": {},
     "output_type": "execute_result"
    }
   ],
   "source": [
    "rf_params = {\n",
    "    \"random_state\": 42,\n",
    "    #\"learning_rate\": 0.1,\n",
    "    \"n_estimators\": study.best_trial.params[\"n_estimators\"],\n",
    "    \"max_depth\": study.best_trial.params[\"max_depth\"],\n",
    "    \"min_samples_leaf\": study.best_trial.params[\"min_samples_leaf\"],\n",
    "    \"min_samples_split\": study.best_trial.params[\"min_samples_split\"],\n",
    "    #\"subsample\": study.best_trial.params[\"subsample\"]\n",
    "}\n",
    "\n",
    "rf = RandomForestRegressor(**rf_params)\n",
    "rf.fit(As_X_train, As_y_train)"
   ]
  },
  {
   "cell_type": "code",
   "execution_count": 31,
   "id": "8577fb37",
   "metadata": {},
   "outputs": [],
   "source": [
    "y_train_pred = rf.predict(As_X_train)\n",
    "y_test_pred = rf.predict(As_X_test)"
   ]
  },
  {
   "cell_type": "code",
   "execution_count": 32,
   "id": "2ea0526a",
   "metadata": {},
   "outputs": [],
   "source": [
    "# plt.scatter(y_train_pred, np.array(As_y_train))"
   ]
  },
  {
   "cell_type": "code",
   "execution_count": 33,
   "id": "d2a4dd85",
   "metadata": {},
   "outputs": [
    {
     "name": "stdout",
     "output_type": "stream",
     "text": [
      "Train RMSE:  0.19600290851616636\n",
      "Test RMSE:  0.45881124468211826\n"
     ]
    }
   ],
   "source": [
    "print(\"Train RMSE: \", np.sqrt(mean_squared_error(As_y_train, y_train_pred)))\n",
    "print(\"Test RMSE: \", np.sqrt(mean_squared_error(As_y_test, y_test_pred)))"
   ]
  },
  {
   "cell_type": "code",
   "execution_count": 34,
   "id": "08fe787a",
   "metadata": {},
   "outputs": [
    {
     "name": "stdout",
     "output_type": "stream",
     "text": [
      "Train R2:  0.8492172167644302\n",
      "Test R2:  0.019306499359117324\n"
     ]
    }
   ],
   "source": [
    "print(\"Train R2: \", r2_score(As_y_train, y_train_pred))\n",
    "print(\"Test R2: \", r2_score(As_y_test, y_test_pred))"
   ]
  },
  {
   "cell_type": "code",
   "execution_count": 35,
   "id": "5ec4820c",
   "metadata": {},
   "outputs": [
    {
     "data": {
      "image/png": "[encoded data removed]",
      "text/plain": [
       "<Figure size 640x480 with 1 Axes>"
      ]
     },
     "metadata": {},
     "output_type": "display_data"
    }
   ],
   "source": [
    "plt.scatter(y_train_pred, np.array(As_y_train), color=\"orange\", alpha=0.3)\n",
    "plt.scatter(y_test_pred, np.array(As_y_test), color=\"green\", alpha=0.4)\n",
    "plt.axis(\"auto\") # scaled, tight, auto, image, square\n",
    "# plt.xlim([0, 1.5]) \n",
    "# plt.ylim(0, None) \n",
    "plt.xlabel('Predicted Values')\n",
    "plt.ylabel('Actual Values')\n",
    "\n",
    "# Add y=x line\n",
    "plt.plot([0, 1.8], [0, 1.8], color='red', linestyle='-')\n",
    "\n",
    "plt.show()"
   ]
  },
  {
   "attachments": {},
   "cell_type": "markdown",
   "id": "e0507d63",
   "metadata": {},
   "source": [
    "Cd"
   ]
  },
  {
   "attachments": {},
   "cell_type": "markdown",
   "id": "f8f809d9",
   "metadata": {},
   "source": [
    "Optimization"
   ]
  },
  {
   "cell_type": "code",
   "execution_count": 36,
   "id": "b7aeaf0a",
   "metadata": {},
   "outputs": [
    {
     "name": "stderr",
     "output_type": "stream",
     "text": [
      "\u001b[32m[I 2023-08-24 14:18:55,934]\u001b[0m A new study created in memory with name: rf_parameter_opt\u001b[0m\n",
      "\u001b[32m[I 2023-08-24 14:18:56,981]\u001b[0m Trial 0 finished with value: 0.36421088047724537 and parameters: {'n_estimators': 87, 'max_depth': 2, 'min_samples_leaf': 20, 'min_samples_split': 18}. Best is trial 0 with value: 0.36421088047724537.\u001b[0m\n",
      "\u001b[32m[I 2023-08-24 14:18:57,617]\u001b[0m Trial 1 finished with value: 0.23807213228536064 and parameters: {'n_estimators': 76, 'max_depth': 1, 'min_samples_leaf': 9, 'min_samples_split': 12}. Best is trial 0 with value: 0.36421088047724537.\u001b[0m\n",
      "\u001b[32m[I 2023-08-24 14:18:59,261]\u001b[0m Trial 2 finished with value: 0.46463985818200715 and parameters: {'n_estimators': 71, 'max_depth': 6, 'min_samples_leaf': 12, 'min_samples_split': 18}. Best is trial 2 with value: 0.46463985818200715.\u001b[0m\n",
      "\u001b[32m[I 2023-08-24 14:19:00,882]\u001b[0m Trial 3 finished with value: 0.4851435460998478 and parameters: {'n_estimators': 59, 'max_depth': 7, 'min_samples_leaf': 7, 'min_samples_split': 17}. Best is trial 3 with value: 0.4851435460998478.\u001b[0m\n",
      "\u001b[32m[I 2023-08-24 14:19:01,620]\u001b[0m Trial 4 finished with value: 0.46987073786370503 and parameters: {'n_estimators': 35, 'max_depth': 6, 'min_samples_leaf': 20, 'min_samples_split': 13}. Best is trial 3 with value: 0.4851435460998478.\u001b[0m\n",
      "\u001b[32m[I 2023-08-24 14:19:03,033]\u001b[0m Trial 5 finished with value: 0.4044207634593214 and parameters: {'n_estimators': 95, 'max_depth': 3, 'min_samples_leaf': 20, 'min_samples_split': 15}. Best is trial 3 with value: 0.4851435460998478.\u001b[0m\n",
      "\u001b[32m[I 2023-08-24 14:19:04,144]\u001b[0m Trial 6 finished with value: 0.4285107084899695 and parameters: {'n_estimators': 60, 'max_depth': 4, 'min_samples_leaf': 15, 'min_samples_split': 3}. Best is trial 3 with value: 0.4851435460998478.\u001b[0m\n",
      "\u001b[32m[I 2023-08-24 14:19:05,827]\u001b[0m Trial 7 finished with value: 0.48408914371724465 and parameters: {'n_estimators': 75, 'max_depth': 7, 'min_samples_leaf': 17, 'min_samples_split': 17}. Best is trial 3 with value: 0.4851435460998478.\u001b[0m\n",
      "\u001b[32m[I 2023-08-24 14:19:06,326]\u001b[0m Trial 8 finished with value: 0.4830733579418518 and parameters: {'n_estimators': 20, 'max_depth': 9, 'min_samples_leaf': 15, 'min_samples_split': 11}. Best is trial 3 with value: 0.4851435460998478.\u001b[0m\n",
      "\u001b[32m[I 2023-08-24 14:19:07,492]\u001b[0m Trial 9 finished with value: 0.49705139224696937 and parameters: {'n_estimators': 40, 'max_depth': 7, 'min_samples_leaf': 4, 'min_samples_split': 3}. Best is trial 9 with value: 0.49705139224696937.\u001b[0m\n",
      "\u001b[32m[I 2023-08-24 14:19:08,829]\u001b[0m Trial 10 finished with value: 0.5369270991950243 and parameters: {'n_estimators': 31, 'max_depth': 10, 'min_samples_leaf': 1, 'min_samples_split': 2}. Best is trial 10 with value: 0.5369270991950243.\u001b[0m\n",
      "\u001b[32m[I 2023-08-24 14:19:10,386]\u001b[0m Trial 11 finished with value: 0.5407511423109139 and parameters: {'n_estimators': 36, 'max_depth': 10, 'min_samples_leaf': 1, 'min_samples_split': 2}. Best is trial 11 with value: 0.5407511423109139.\u001b[0m\n",
      "\u001b[32m[I 2023-08-24 14:19:10,784]\u001b[0m Trial 12 finished with value: 0.5238920600602137 and parameters: {'n_estimators': 10, 'max_depth': 10, 'min_samples_leaf': 1, 'min_samples_split': 7}. Best is trial 11 with value: 0.5407511423109139.\u001b[0m\n",
      "\u001b[32m[I 2023-08-24 14:19:12,325]\u001b[0m Trial 13 finished with value: 0.5342553765054584 and parameters: {'n_estimators': 39, 'max_depth': 10, 'min_samples_leaf': 1, 'min_samples_split': 6}. Best is trial 11 with value: 0.5407511423109139.\u001b[0m\n",
      "\u001b[32m[I 2023-08-24 14:19:13,167]\u001b[0m Trial 14 finished with value: 0.5172775868353847 and parameters: {'n_estimators': 25, 'max_depth': 9, 'min_samples_leaf': 4, 'min_samples_split': 7}. Best is trial 11 with value: 0.5407511423109139.\u001b[0m\n",
      "\u001b[32m[I 2023-08-24 14:19:14,755]\u001b[0m Trial 15 finished with value: 0.5270700537556041 and parameters: {'n_estimators': 48, 'max_depth': 9, 'min_samples_leaf': 4, 'min_samples_split': 2}. Best is trial 11 with value: 0.5407511423109139.\u001b[0m\n",
      "\u001b[32m[I 2023-08-24 14:19:15,474]\u001b[0m Trial 16 finished with value: 0.49745703390074664 and parameters: {'n_estimators': 25, 'max_depth': 8, 'min_samples_leaf': 7, 'min_samples_split': 5}. Best is trial 11 with value: 0.5407511423109139.\u001b[0m\n",
      "\u001b[32m[I 2023-08-24 14:19:17,420]\u001b[0m Trial 17 finished with value: 0.5316646604789039 and parameters: {'n_estimators': 51, 'max_depth': 10, 'min_samples_leaf': 1, 'min_samples_split': 9}. Best is trial 11 with value: 0.5407511423109139.\u001b[0m\n",
      "\u001b[32m[I 2023-08-24 14:19:17,754]\u001b[0m Trial 18 finished with value: 0.4520960719670235 and parameters: {'n_estimators': 14, 'max_depth': 5, 'min_samples_leaf': 7, 'min_samples_split': 9}. Best is trial 11 with value: 0.5407511423109139.\u001b[0m\n",
      "\u001b[32m[I 2023-08-24 14:19:18,771]\u001b[0m Trial 19 finished with value: 0.5102465867875716 and parameters: {'n_estimators': 31, 'max_depth': 8, 'min_samples_leaf': 3, 'min_samples_split': 4}. Best is trial 11 with value: 0.5407511423109139.\u001b[0m\n",
      "\u001b[32m[I 2023-08-24 14:19:19,928]\u001b[0m Trial 20 finished with value: 0.48768668934359916 and parameters: {'n_estimators': 45, 'max_depth': 8, 'min_samples_leaf': 11, 'min_samples_split': 2}. Best is trial 11 with value: 0.5407511423109139.\u001b[0m\n",
      "\u001b[32m[I 2023-08-24 14:19:21,327]\u001b[0m Trial 21 finished with value: 0.5299914677145499 and parameters: {'n_estimators': 35, 'max_depth': 10, 'min_samples_leaf': 1, 'min_samples_split': 6}. Best is trial 11 with value: 0.5407511423109139.\u001b[0m\n",
      "\u001b[32m[I 2023-08-24 14:19:22,808]\u001b[0m Trial 22 finished with value: 0.5321081630754297 and parameters: {'n_estimators': 40, 'max_depth': 10, 'min_samples_leaf': 3, 'min_samples_split': 5}. Best is trial 11 with value: 0.5407511423109139.\u001b[0m\n",
      "\u001b[32m[I 2023-08-24 14:19:23,605]\u001b[0m Trial 23 finished with value: 0.5133715600521838 and parameters: {'n_estimators': 26, 'max_depth': 9, 'min_samples_leaf': 6, 'min_samples_split': 9}. Best is trial 11 with value: 0.5407511423109139.\u001b[0m\n",
      "\u001b[32m[I 2023-08-24 14:19:25,767]\u001b[0m Trial 24 finished with value: 0.5421720153226137 and parameters: {'n_estimators': 55, 'max_depth': 10, 'min_samples_leaf': 2, 'min_samples_split': 4}. Best is trial 24 with value: 0.5421720153226137.\u001b[0m\n",
      "\u001b[32m[I 2023-08-24 14:19:27,700]\u001b[0m Trial 25 finished with value: 0.5104112249797803 and parameters: {'n_estimators': 64, 'max_depth': 8, 'min_samples_leaf': 5, 'min_samples_split': 2}. Best is trial 24 with value: 0.5421720153226137.\u001b[0m\n",
      "\u001b[32m[I 2023-08-24 14:19:29,538]\u001b[0m Trial 26 finished with value: 0.5334101365636272 and parameters: {'n_estimators': 50, 'max_depth': 9, 'min_samples_leaf': 2, 'min_samples_split': 4}. Best is trial 24 with value: 0.5421720153226137.\u001b[0m\n",
      "\u001b[32m[I 2023-08-24 14:19:31,309]\u001b[0m Trial 27 finished with value: 0.5147473789919873 and parameters: {'n_estimators': 55, 'max_depth': 10, 'min_samples_leaf': 3, 'min_samples_split': 20}. Best is trial 24 with value: 0.5421720153226137.\u001b[0m\n",
      "\u001b[32m[I 2023-08-24 14:19:31,711]\u001b[0m Trial 28 finished with value: 0.44532894228082737 and parameters: {'n_estimators': 18, 'max_depth': 5, 'min_samples_leaf': 9, 'min_samples_split': 4}. Best is trial 24 with value: 0.5421720153226137.\u001b[0m\n",
      "\u001b[32m[I 2023-08-24 14:19:34,418]\u001b[0m Trial 29 finished with value: 0.5241578941014498 and parameters: {'n_estimators': 85, 'max_depth': 9, 'min_samples_leaf': 5, 'min_samples_split': 8}. Best is trial 24 with value: 0.5421720153226137.\u001b[0m\n",
      "\u001b[32m[I 2023-08-24 14:19:35,232]\u001b[0m Trial 30 finished with value: 0.3641327749741419 and parameters: {'n_estimators': 67, 'max_depth': 2, 'min_samples_leaf': 2, 'min_samples_split': 3}. Best is trial 24 with value: 0.5421720153226137.\u001b[0m\n",
      "\u001b[32m[I 2023-08-24 14:19:36,901]\u001b[0m Trial 31 finished with value: 0.5351461304801285 and parameters: {'n_estimators': 42, 'max_depth': 10, 'min_samples_leaf': 1, 'min_samples_split': 6}. Best is trial 24 with value: 0.5421720153226137.\u001b[0m\n",
      "\u001b[32m[I 2023-08-24 14:19:38,564]\u001b[0m Trial 32 finished with value: 0.5360280738113532 and parameters: {'n_estimators': 43, 'max_depth': 10, 'min_samples_leaf': 2, 'min_samples_split': 5}. Best is trial 24 with value: 0.5421720153226137.\u001b[0m\n",
      "\u001b[32m[I 2023-08-24 14:19:39,783]\u001b[0m Trial 33 finished with value: 0.5284806256782986 and parameters: {'n_estimators': 33, 'max_depth': 9, 'min_samples_leaf': 2, 'min_samples_split': 2}. Best is trial 24 with value: 0.5421720153226137.\u001b[0m\n",
      "\u001b[32m[I 2023-08-24 14:19:41,316]\u001b[0m Trial 34 finished with value: 0.5056246772902064 and parameters: {'n_estimators': 54, 'max_depth': 10, 'min_samples_leaf': 9, 'min_samples_split': 5}. Best is trial 24 with value: 0.5421720153226137.\u001b[0m\n",
      "\u001b[32m[I 2023-08-24 14:19:42,237]\u001b[0m Trial 35 finished with value: 0.5065677773409107 and parameters: {'n_estimators': 30, 'max_depth': 8, 'min_samples_leaf': 5, 'min_samples_split': 3}. Best is trial 24 with value: 0.5421720153226137.\u001b[0m\n",
      "\u001b[32m[I 2023-08-24 14:19:42,622]\u001b[0m Trial 36 finished with value: 0.23578691900595947 and parameters: {'n_estimators': 45, 'max_depth': 1, 'min_samples_leaf': 3, 'min_samples_split': 13}. Best is trial 24 with value: 0.5421720153226137.\u001b[0m\n",
      "\u001b[32m[I 2023-08-24 14:19:44,242]\u001b[0m Trial 37 finished with value: 0.49318905324620366 and parameters: {'n_estimators': 59, 'max_depth': 7, 'min_samples_leaf': 6, 'min_samples_split': 4}. Best is trial 24 with value: 0.5421720153226137.\u001b[0m\n",
      "\u001b[32m[I 2023-08-24 14:19:45,270]\u001b[0m Trial 38 finished with value: 0.47713839608566166 and parameters: {'n_estimators': 38, 'max_depth': 6, 'min_samples_leaf': 2, 'min_samples_split': 7}. Best is trial 24 with value: 0.5421720153226137.\u001b[0m\n",
      "\u001b[32m[I 2023-08-24 14:19:46,071]\u001b[0m Trial 39 finished with value: 0.5020141931423935 and parameters: {'n_estimators': 28, 'max_depth': 9, 'min_samples_leaf': 9, 'min_samples_split': 3}. Best is trial 24 with value: 0.5421720153226137.\u001b[0m\n",
      "\u001b[32m[I 2023-08-24 14:19:46,465]\u001b[0m Trial 40 finished with value: 0.4227585712635179 and parameters: {'n_estimators': 21, 'max_depth': 4, 'min_samples_leaf': 14, 'min_samples_split': 5}. Best is trial 24 with value: 0.5421720153226137.\u001b[0m\n",
      "\u001b[32m[I 2023-08-24 14:19:48,213]\u001b[0m Trial 41 finished with value: 0.5342851836392966 and parameters: {'n_estimators': 44, 'max_depth': 10, 'min_samples_leaf': 1, 'min_samples_split': 6}. Best is trial 24 with value: 0.5421720153226137.\u001b[0m\n",
      "\u001b[32m[I 2023-08-24 14:19:49,932]\u001b[0m Trial 42 finished with value: 0.5370713618482557 and parameters: {'n_estimators': 44, 'max_depth': 10, 'min_samples_leaf': 2, 'min_samples_split': 2}. Best is trial 24 with value: 0.5421720153226137.\u001b[0m\n",
      "\u001b[32m[I 2023-08-24 14:19:51,159]\u001b[0m Trial 43 finished with value: 0.5275671755889988 and parameters: {'n_estimators': 35, 'max_depth': 10, 'min_samples_leaf': 4, 'min_samples_split': 2}. Best is trial 24 with value: 0.5421720153226137.\u001b[0m\n",
      "\u001b[32m[I 2023-08-24 14:19:53,328]\u001b[0m Trial 44 finished with value: 0.5360924914153223 and parameters: {'n_estimators': 59, 'max_depth': 9, 'min_samples_leaf': 2, 'min_samples_split': 3}. Best is trial 24 with value: 0.5421720153226137.\u001b[0m\n",
      "\u001b[32m[I 2023-08-24 14:19:55,849]\u001b[0m Trial 45 finished with value: 0.5271726293155075 and parameters: {'n_estimators': 71, 'max_depth': 9, 'min_samples_leaf': 3, 'min_samples_split': 3}. Best is trial 24 with value: 0.5421720153226137.\u001b[0m\n",
      "\u001b[32m[I 2023-08-24 14:19:57,204]\u001b[0m Trial 46 finished with value: 0.48451560377873965 and parameters: {'n_estimators': 60, 'max_depth': 9, 'min_samples_leaf': 18, 'min_samples_split': 2}. Best is trial 24 with value: 0.5421720153226137.\u001b[0m\n",
      "\u001b[32m[I 2023-08-24 14:19:59,049]\u001b[0m Trial 47 finished with value: 0.4929370490748729 and parameters: {'n_estimators': 66, 'max_depth': 7, 'min_samples_leaf': 4, 'min_samples_split': 15}. Best is trial 24 with value: 0.5421720153226137.\u001b[0m\n",
      "\u001b[32m[I 2023-08-24 14:20:00,963]\u001b[0m Trial 48 finished with value: 0.5207335333030184 and parameters: {'n_estimators': 56, 'max_depth': 8, 'min_samples_leaf': 2, 'min_samples_split': 3}. Best is trial 24 with value: 0.5421720153226137.\u001b[0m\n",
      "\u001b[32m[I 2023-08-24 14:20:02,184]\u001b[0m Trial 49 finished with value: 0.49387946700353763 and parameters: {'n_estimators': 48, 'max_depth': 10, 'min_samples_leaf': 13, 'min_samples_split': 4}. Best is trial 24 with value: 0.5421720153226137.\u001b[0m\n",
      "\u001b[32m[I 2023-08-24 14:20:03,796]\u001b[0m Trial 50 finished with value: 0.5153287252789882 and parameters: {'n_estimators': 52, 'max_depth': 9, 'min_samples_leaf': 6, 'min_samples_split': 11}. Best is trial 24 with value: 0.5421720153226137.\u001b[0m\n",
      "\u001b[32m[I 2023-08-24 14:20:05,256]\u001b[0m Trial 51 finished with value: 0.5375980248254628 and parameters: {'n_estimators': 37, 'max_depth': 10, 'min_samples_leaf': 2, 'min_samples_split': 4}. Best is trial 24 with value: 0.5421720153226137.\u001b[0m\n",
      "\u001b[32m[I 2023-08-24 14:20:06,849]\u001b[0m Trial 52 finished with value: 0.5399264853319824 and parameters: {'n_estimators': 38, 'max_depth': 10, 'min_samples_leaf': 1, 'min_samples_split': 3}. Best is trial 24 with value: 0.5421720153226137.\u001b[0m\n",
      "\u001b[32m[I 2023-08-24 14:20:08,459]\u001b[0m Trial 53 finished with value: 0.540377608270429 and parameters: {'n_estimators': 37, 'max_depth': 10, 'min_samples_leaf': 1, 'min_samples_split': 2}. Best is trial 24 with value: 0.5421720153226137.\u001b[0m\n",
      "\u001b[32m[I 2023-08-24 14:20:10,015]\u001b[0m Trial 54 finished with value: 0.5380940933992429 and parameters: {'n_estimators': 38, 'max_depth': 10, 'min_samples_leaf': 1, 'min_samples_split': 4}. Best is trial 24 with value: 0.5421720153226137.\u001b[0m\n",
      "\u001b[32m[I 2023-08-24 14:20:11,545]\u001b[0m Trial 55 finished with value: 0.537649203644012 and parameters: {'n_estimators': 37, 'max_depth': 10, 'min_samples_leaf': 1, 'min_samples_split': 4}. Best is trial 24 with value: 0.5421720153226137.\u001b[0m\n",
      "\u001b[32m[I 2023-08-24 14:20:12,750]\u001b[0m Trial 56 finished with value: 0.5237882501086712 and parameters: {'n_estimators': 32, 'max_depth': 9, 'min_samples_leaf': 1, 'min_samples_split': 5}. Best is trial 24 with value: 0.5421720153226137.\u001b[0m\n",
      "\u001b[32m[I 2023-08-24 14:20:16,017]\u001b[0m Trial 57 finished with value: 0.5362144634796587 and parameters: {'n_estimators': 85, 'max_depth': 10, 'min_samples_leaf': 1, 'min_samples_split': 8}. Best is trial 24 with value: 0.5421720153226137.\u001b[0m\n",
      "\u001b[32m[I 2023-08-24 14:20:16,736]\u001b[0m Trial 58 finished with value: 0.5080510683247041 and parameters: {'n_estimators': 22, 'max_depth': 8, 'min_samples_leaf': 3, 'min_samples_split': 4}. Best is trial 24 with value: 0.5421720153226137.\u001b[0m\n",
      "\u001b[32m[I 2023-08-24 14:20:18,118]\u001b[0m Trial 59 finished with value: 0.5305744063006348 and parameters: {'n_estimators': 40, 'max_depth': 10, 'min_samples_leaf': 4, 'min_samples_split': 6}. Best is trial 24 with value: 0.5421720153226137.\u001b[0m\n",
      "\u001b[32m[I 2023-08-24 14:20:18,748]\u001b[0m Trial 60 finished with value: 0.5270951825934724 and parameters: {'n_estimators': 16, 'max_depth': 9, 'min_samples_leaf': 1, 'min_samples_split': 3}. Best is trial 24 with value: 0.5421720153226137.\u001b[0m\n",
      "\u001b[32m[I 2023-08-24 14:20:20,101]\u001b[0m Trial 61 finished with value: 0.5306379646951669 and parameters: {'n_estimators': 37, 'max_depth': 10, 'min_samples_leaf': 3, 'min_samples_split': 4}. Best is trial 24 with value: 0.5421720153226137.\u001b[0m\n",
      "\u001b[32m[I 2023-08-24 14:20:22,077]\u001b[0m Trial 62 finished with value: 0.5418490927567093 and parameters: {'n_estimators': 48, 'max_depth': 10, 'min_samples_leaf': 1, 'min_samples_split': 4}. Best is trial 24 with value: 0.5421720153226137.\u001b[0m\n",
      "\u001b[32m[I 2023-08-24 14:20:24,137]\u001b[0m Trial 63 finished with value: 0.5434097259596165 and parameters: {'n_estimators': 48, 'max_depth': 10, 'min_samples_leaf': 1, 'min_samples_split': 2}. Best is trial 63 with value: 0.5434097259596165.\u001b[0m\n",
      "\u001b[32m[I 2023-08-24 14:20:26,193]\u001b[0m Trial 64 finished with value: 0.5434097259596165 and parameters: {'n_estimators': 48, 'max_depth': 10, 'min_samples_leaf': 1, 'min_samples_split': 2}. Best is trial 63 with value: 0.5434097259596165.\u001b[0m\n",
      "\u001b[32m[I 2023-08-24 14:20:27,962]\u001b[0m Trial 65 finished with value: 0.5334305242635404 and parameters: {'n_estimators': 48, 'max_depth': 9, 'min_samples_leaf': 2, 'min_samples_split': 2}. Best is trial 63 with value: 0.5434097259596165.\u001b[0m\n",
      "\u001b[32m[I 2023-08-24 14:20:29,668]\u001b[0m Trial 66 finished with value: 0.536500006448297 and parameters: {'n_estimators': 47, 'max_depth': 10, 'min_samples_leaf': 3, 'min_samples_split': 3}. Best is trial 63 with value: 0.5434097259596165.\u001b[0m\n",
      "\u001b[32m[I 2023-08-24 14:20:31,886]\u001b[0m Trial 67 finished with value: 0.5432554658976307 and parameters: {'n_estimators': 52, 'max_depth': 10, 'min_samples_leaf': 1, 'min_samples_split': 2}. Best is trial 63 with value: 0.5434097259596165.\u001b[0m\n",
      "\u001b[32m[I 2023-08-24 14:20:33,605]\u001b[0m Trial 68 finished with value: 0.4980844189869236 and parameters: {'n_estimators': 63, 'max_depth': 9, 'min_samples_leaf': 10, 'min_samples_split': 2}. Best is trial 63 with value: 0.5434097259596165.\u001b[0m\n",
      "\u001b[32m[I 2023-08-24 14:20:34,428]\u001b[0m Trial 69 finished with value: 0.4074256696723831 and parameters: {'n_estimators': 52, 'max_depth': 3, 'min_samples_leaf': 5, 'min_samples_split': 2}. Best is trial 63 with value: 0.5434097259596165.\u001b[0m\n",
      "\u001b[32m[I 2023-08-24 14:20:36,446]\u001b[0m Trial 70 finished with value: 0.5345458554376791 and parameters: {'n_estimators': 55, 'max_depth': 9, 'min_samples_leaf': 2, 'min_samples_split': 2}. Best is trial 63 with value: 0.5434097259596165.\u001b[0m\n",
      "\u001b[32m[I 2023-08-24 14:20:38,536]\u001b[0m Trial 71 finished with value: 0.5412343961420986 and parameters: {'n_estimators': 50, 'max_depth': 10, 'min_samples_leaf': 1, 'min_samples_split': 3}. Best is trial 63 with value: 0.5434097259596165.\u001b[0m\n",
      "\u001b[32m[I 2023-08-24 14:20:40,583]\u001b[0m Trial 72 finished with value: 0.5416814128372087 and parameters: {'n_estimators': 49, 'max_depth': 10, 'min_samples_leaf': 1, 'min_samples_split': 3}. Best is trial 63 with value: 0.5434097259596165.\u001b[0m\n",
      "\u001b[32m[I 2023-08-24 14:20:42,475]\u001b[0m Trial 73 finished with value: 0.5350811530418533 and parameters: {'n_estimators': 52, 'max_depth': 10, 'min_samples_leaf': 3, 'min_samples_split': 3}. Best is trial 63 with value: 0.5434097259596165.\u001b[0m\n",
      "\u001b[32m[I 2023-08-24 14:20:44,428]\u001b[0m Trial 74 finished with value: 0.5351624535472153 and parameters: {'n_estimators': 57, 'max_depth': 10, 'min_samples_leaf': 4, 'min_samples_split': 5}. Best is trial 63 with value: 0.5434097259596165.\u001b[0m\n",
      "\u001b[32m[I 2023-08-24 14:20:46,363]\u001b[0m Trial 75 finished with value: 0.5328720373131899 and parameters: {'n_estimators': 50, 'max_depth': 9, 'min_samples_leaf': 1, 'min_samples_split': 3}. Best is trial 63 with value: 0.5434097259596165.\u001b[0m\n",
      "\u001b[32m[I 2023-08-24 14:20:48,184]\u001b[0m Trial 76 finished with value: 0.5400095325577147 and parameters: {'n_estimators': 47, 'max_depth': 10, 'min_samples_leaf': 2, 'min_samples_split': 2}. Best is trial 63 with value: 0.5434097259596165.\u001b[0m\n",
      "\u001b[32m[I 2023-08-24 14:20:49,763]\u001b[0m Trial 77 finished with value: 0.5120350287937854 and parameters: {'n_estimators': 54, 'max_depth': 10, 'min_samples_leaf': 8, 'min_samples_split': 10}. Best is trial 63 with value: 0.5434097259596165.\u001b[0m\n",
      "\u001b[32m[I 2023-08-24 14:20:51,887]\u001b[0m Trial 78 finished with value: 0.5175423035983645 and parameters: {'n_estimators': 62, 'max_depth': 9, 'min_samples_leaf': 1, 'min_samples_split': 15}. Best is trial 63 with value: 0.5434097259596165.\u001b[0m\n",
      "\u001b[32m[I 2023-08-24 14:20:53,803]\u001b[0m Trial 79 finished with value: 0.5388466147394317 and parameters: {'n_estimators': 50, 'max_depth': 10, 'min_samples_leaf': 2, 'min_samples_split': 5}. Best is trial 63 with value: 0.5434097259596165.\u001b[0m\n",
      "\u001b[32m[I 2023-08-24 14:20:55,771]\u001b[0m Trial 80 finished with value: 0.5270036654949833 and parameters: {'n_estimators': 57, 'max_depth': 9, 'min_samples_leaf': 3, 'min_samples_split': 3}. Best is trial 63 with value: 0.5434097259596165.\u001b[0m\n",
      "\u001b[32m[I 2023-08-24 14:20:57,572]\u001b[0m Trial 81 finished with value: 0.54310397772236 and parameters: {'n_estimators': 42, 'max_depth': 10, 'min_samples_leaf': 1, 'min_samples_split': 2}. Best is trial 63 with value: 0.5434097259596165.\u001b[0m\n",
      "\u001b[32m[I 2023-08-24 14:20:59,221]\u001b[0m Trial 82 finished with value: 0.5375090096144155 and parameters: {'n_estimators': 42, 'max_depth': 10, 'min_samples_leaf': 2, 'min_samples_split': 2}. Best is trial 63 with value: 0.5434097259596165.\u001b[0m\n",
      "\u001b[32m[I 2023-08-24 14:21:01,134]\u001b[0m Trial 83 finished with value: 0.5418293262175092 and parameters: {'n_estimators': 46, 'max_depth': 10, 'min_samples_leaf': 1, 'min_samples_split': 3}. Best is trial 63 with value: 0.5434097259596165.\u001b[0m\n",
      "\u001b[32m[I 2023-08-24 14:21:02,984]\u001b[0m Trial 84 finished with value: 0.5418466230717154 and parameters: {'n_estimators': 45, 'max_depth': 10, 'min_samples_leaf': 1, 'min_samples_split': 4}. Best is trial 63 with value: 0.5434097259596165.\u001b[0m\n",
      "\u001b[32m[I 2023-08-24 14:21:04,743]\u001b[0m Trial 85 finished with value: 0.5387773924314326 and parameters: {'n_estimators': 45, 'max_depth': 10, 'min_samples_leaf': 2, 'min_samples_split': 4}. Best is trial 63 with value: 0.5434097259596165.\u001b[0m\n",
      "\u001b[32m[I 2023-08-24 14:21:05,708]\u001b[0m Trial 86 finished with value: 0.4834559104179941 and parameters: {'n_estimators': 41, 'max_depth': 9, 'min_samples_leaf': 16, 'min_samples_split': 20}. Best is trial 63 with value: 0.5434097259596165.\u001b[0m\n",
      "\u001b[32m[I 2023-08-24 14:21:07,526]\u001b[0m Trial 87 finished with value: 0.5385856093631755 and parameters: {'n_estimators': 45, 'max_depth': 10, 'min_samples_leaf': 1, 'min_samples_split': 5}. Best is trial 63 with value: 0.5434097259596165.\u001b[0m\n",
      "\u001b[32m[I 2023-08-24 14:21:09,601]\u001b[0m Trial 88 finished with value: 0.4853463593126343 and parameters: {'n_estimators': 96, 'max_depth': 8, 'min_samples_leaf': 19, 'min_samples_split': 4}. Best is trial 63 with value: 0.5434097259596165.\u001b[0m\n",
      "\u001b[32m[I 2023-08-24 14:21:10,836]\u001b[0m Trial 89 finished with value: 0.45439511039639136 and parameters: {'n_estimators': 53, 'max_depth': 5, 'min_samples_leaf': 3, 'min_samples_split': 6}. Best is trial 63 with value: 0.5434097259596165.\u001b[0m\n",
      "\u001b[32m[I 2023-08-24 14:21:12,399]\u001b[0m Trial 90 finished with value: 0.5161958928507773 and parameters: {'n_estimators': 46, 'max_depth': 10, 'min_samples_leaf': 2, 'min_samples_split': 18}. Best is trial 63 with value: 0.5434097259596165.\u001b[0m\n",
      "\u001b[32m[I 2023-08-24 14:21:14,437]\u001b[0m Trial 91 finished with value: 0.5416814128372087 and parameters: {'n_estimators': 49, 'max_depth': 10, 'min_samples_leaf': 1, 'min_samples_split': 3}. Best is trial 63 with value: 0.5434097259596165.\u001b[0m\n",
      "\u001b[32m[I 2023-08-24 14:21:16,546]\u001b[0m Trial 92 finished with value: 0.5441010180405849 and parameters: {'n_estimators': 49, 'max_depth': 10, 'min_samples_leaf': 1, 'min_samples_split': 2}. Best is trial 92 with value: 0.5441010180405849.\u001b[0m\n",
      "\u001b[32m[I 2023-08-24 14:21:17,761]\u001b[0m Trial 93 finished with value: 0.4796951781286299 and parameters: {'n_estimators': 43, 'max_depth': 6, 'min_samples_leaf': 1, 'min_samples_split': 2}. Best is trial 92 with value: 0.5441010180405849.\u001b[0m\n",
      "\u001b[32m[I 2023-08-24 14:21:19,422]\u001b[0m Trial 94 finished with value: 0.5193234016888402 and parameters: {'n_estimators': 48, 'max_depth': 10, 'min_samples_leaf': 2, 'min_samples_split': 16}. Best is trial 92 with value: 0.5441010180405849.\u001b[0m\n",
      "\u001b[32m[I 2023-08-24 14:21:21,940]\u001b[0m Trial 95 finished with value: 0.5454346007070547 and parameters: {'n_estimators': 58, 'max_depth': 10, 'min_samples_leaf': 1, 'min_samples_split': 2}. Best is trial 95 with value: 0.5454346007070547.\u001b[0m\n",
      "\u001b[32m[I 2023-08-24 14:21:24,410]\u001b[0m Trial 96 finished with value: 0.5361252312420615 and parameters: {'n_estimators': 67, 'max_depth': 9, 'min_samples_leaf': 2, 'min_samples_split': 2}. Best is trial 95 with value: 0.5454346007070547.\u001b[0m\n",
      "\u001b[32m[I 2023-08-24 14:21:26,498]\u001b[0m Trial 97 finished with value: 0.5380941881496382 and parameters: {'n_estimators': 57, 'max_depth': 10, 'min_samples_leaf': 3, 'min_samples_split': 3}. Best is trial 95 with value: 0.5454346007070547.\u001b[0m\n",
      "\u001b[32m[I 2023-08-24 14:21:28,827]\u001b[0m Trial 98 finished with value: 0.53420353921874 and parameters: {'n_estimators': 61, 'max_depth': 9, 'min_samples_leaf': 1, 'min_samples_split': 4}. Best is trial 95 with value: 0.5454346007070547.\u001b[0m\n",
      "\u001b[32m[I 2023-08-24 14:21:30,593]\u001b[0m Trial 99 finished with value: 0.5438823887114833 and parameters: {'n_estimators': 41, 'max_depth': 10, 'min_samples_leaf': 1, 'min_samples_split': 2}. Best is trial 95 with value: 0.5454346007070547.\u001b[0m\n"
     ]
    },
    {
     "name": "stdout",
     "output_type": "stream",
     "text": [
      "Best r2:  0.5454346007070547\n",
      "Best trial: {'n_estimators': 58, 'max_depth': 10, 'min_samples_leaf': 1, 'min_samples_split': 2}\n"
     ]
    }
   ],
   "source": [
    "sampler = TPESampler()\n",
    "study = optuna.create_study(\n",
    "    study_name=\"rf_parameter_opt\",\n",
    "    direction=\"maximize\",\n",
    "    sampler=sampler,\n",
    ")\n",
    "\n",
    "study.optimize(lambda trial : objectiveRF(trial, Cd_X_train, Cd_y_train), n_trials=100)\n",
    "print(\"Best r2: \", study.best_value)\n",
    "print(\"Best trial:\", study.best_trial.params)"
   ]
  },
  {
   "cell_type": "code",
   "execution_count": 37,
   "id": "861f88d8",
   "metadata": {},
   "outputs": [
    {
     "data": {
      "application/vnd.plotly.v1+json": {
       "config": {
        "plotlyServerURL": "https://plot.ly"
       },
       "data": [
        {
         "dimensions": [
          {
           "label": "Objective Value",
           "range": [
            0.23578691900595947,
            0.5454346007070547
           ],
           "values": [
            0.36421088047724537,
            0.23807213228536064,
            0.46463985818200715,
            0.4851435460998478,
            0.46987073786370503,
            0.4044207634593214,
            0.4285107084899695,
            0.48408914371724465,
            0.4830733579418518,
            0.49705139224696937,
            0.5369270991950243,
            0.5407511423109139,
            0.5238920600602137,
            0.5342553765054584,
            0.5172775868353847,
            0.5270700537556041,
            0.49745703390074664,
            0.5316646604789039,
            0.4520960719670235,
            0.5102465867875716,
            0.48768668934359916,
            0.5299914677145499,
            0.5321081630754297,
            0.5133715600521838,
            0.5421720153226137,
            0.5104112249797803,
            0.5334101365636272,
            0.5147473789919873,
            0.44532894228082737,
            0.5241578941014498,
            0.3641327749741419,
            0.5351461304801285,
            0.5360280738113532,
            0.5284806256782986,
            0.5056246772902064,
            0.5065677773409107,
            0.23578691900595947,
            0.49318905324620366,
            0.47713839608566166,
            0.5020141931423935,
            0.4227585712635179,
            0.5342851836392966,
            0.5370713618482557,
            0.5275671755889988,
            0.5360924914153223,
            0.5271726293155075,
            0.48451560377873965,
            0.4929370490748729,
            0.5207335333030184,
            0.49387946700353763,
            0.5153287252789882,
            0.5375980248254628,
            0.5399264853319824,
            0.540377608270429,
            0.5380940933992429,
            0.537649203644012,
            0.5237882501086712,
            0.5362144634796587,
            0.5080510683247041,
            0.5305744063006348,
            0.5270951825934724,
            0.5306379646951669,
            0.5418490927567093,
            0.5434097259596165,
            0.5434097259596165,
            0.5334305242635404,
            0.536500006448297,
            0.5432554658976307,
            0.4980844189869236,
            0.4074256696723831,
            0.5345458554376791,
            0.5412343961420986,
            0.5416814128372087,
            0.5350811530418533,
            0.5351624535472153,
            0.5328720373131899,
            0.5400095325577147,
            0.5120350287937854,
            0.5175423035983645,
            0.5388466147394317,
            0.5270036654949833,
            0.54310397772236,
            0.5375090096144155,
            0.5418293262175092,
            0.5418466230717154,
            0.5387773924314326,
            0.4834559104179941,
            0.5385856093631755,
            0.4853463593126343,
            0.45439511039639136,
            0.5161958928507773,
            0.5416814128372087,
            0.5441010180405849,
            0.4796951781286299,
            0.5193234016888402,
            0.5454346007070547,
            0.5361252312420615,
            0.5380941881496382,
            0.53420353921874,
            0.5438823887114833
           ]
          },
          {
           "label": "max_depth",
           "range": [
            1,
            10
           ],
           "values": [
            2,
            1,
            6,
            7,
            6,
            3,
            4,
            7,
            9,
            7,
            10,
            10,
            10,
            10,
            9,
            9,
            8,
            10,
            5,
            8,
            8,
            10,
            10,
            9,
            10,
            8,
            9,
            10,
            5,
            9,
            2,
            10,
            10,
            9,
            10,
            8,
            1,
            7,
            6,
            9,
            4,
            10,
            10,
            10,
            9,
            9,
            9,
            7,
            8,
            10,
            9,
            10,
            10,
            10,
            10,
            10,
            9,
            10,
            8,
            10,
            9,
            10,
            10,
            10,
            10,
            9,
            10,
            10,
            9,
            3,
            9,
            10,
            10,
            10,
            10,
            9,
            10,
            10,
            9,
            10,
            9,
            10,
            10,
            10,
            10,
            10,
            9,
            10,
            8,
            5,
            10,
            10,
            10,
            6,
            10,
            10,
            9,
            10,
            9,
            10
           ]
          },
          {
           "label": "min_samples_leaf",
           "range": [
            1,
            20
           ],
           "values": [
            20,
            9,
            12,
            7,
            20,
            20,
            15,
            17,
            15,
            4,
            1,
            1,
            1,
            1,
            4,
            4,
            7,
            1,
            7,
            3,
            11,
            1,
            3,
            6,
            2,
            5,
            2,
            3,
            9,
            5,
            2,
            1,
            2,
            2,
            9,
            5,
            3,
            6,
            2,
            9,
            14,
            1,
            2,
            4,
            2,
            3,
            18,
            4,
            2,
            13,
            6,
            2,
            1,
            1,
            1,
            1,
            1,
            1,
            3,
            4,
            1,
            3,
            1,
            1,
            1,
            2,
            3,
            1,
            10,
            5,
            2,
            1,
            1,
            3,
            4,
            1,
            2,
            8,
            1,
            2,
            3,
            1,
            2,
            1,
            1,
            2,
            16,
            1,
            19,
            3,
            2,
            1,
            1,
            1,
            2,
            1,
            2,
            3,
            1,
            1
           ]
          },
          {
           "label": "min_samples_split",
           "range": [
            2,
            20
           ],
           "values": [
            18,
            12,
            18,
            17,
            13,
            15,
            3,
            17,
            11,
            3,
            2,
            2,
            7,
            6,
            7,
            2,
            5,
            9,
            9,
            4,
            2,
            6,
            5,
            9,
            4,
            2,
            4,
            20,
            4,
            8,
            3,
            6,
            5,
            2,
            5,
            3,
            13,
            4,
            7,
            3,
            5,
            6,
            2,
            2,
            3,
            3,
            2,
            15,
            3,
            4,
            11,
            4,
            3,
            2,
            4,
            4,
            5,
            8,
            4,
            6,
            3,
            4,
            4,
            2,
            2,
            2,
            3,
            2,
            2,
            2,
            2,
            3,
            3,
            3,
            5,
            3,
            2,
            10,
            15,
            5,
            3,
            2,
            2,
            3,
            4,
            4,
            20,
            5,
            4,
            6,
            18,
            3,
            2,
            2,
            16,
            2,
            2,
            3,
            4,
            2
           ]
          },
          {
           "label": "n_estimators",
           "range": [
            10,
            96
           ],
           "values": [
            87,
            76,
            71,
            59,
            35,
            95,
            60,
            75,
            20,
            40,
            31,
            36,
            10,
            39,
            25,
            48,
            25,
            51,
            14,
            31,
            45,
            35,
            40,
            26,
            55,
            64,
            50,
            55,
            18,
            85,
            67,
            42,
            43,
            33,
            54,
            30,
            45,
            59,
            38,
            28,
            21,
            44,
            44,
            35,
            59,
            71,
            60,
            66,
            56,
            48,
            52,
            37,
            38,
            37,
            38,
            37,
            32,
            85,
            22,
            40,
            16,
            37,
            48,
            48,
            48,
            48,
            47,
            52,
            63,
            52,
            55,
            50,
            49,
            52,
            57,
            50,
            47,
            54,
            62,
            50,
            57,
            42,
            42,
            46,
            45,
            45,
            41,
            45,
            96,
            53,
            46,
            49,
            49,
            43,
            48,
            58,
            67,
            57,
            61,
            41
           ]
          }
         ],
         "labelangle": 30,
         "labelside": "bottom",
         "line": {
          "color": [
           0.36421088047724537,
           0.23807213228536064,
           0.46463985818200715,
           0.4851435460998478,
           0.46987073786370503,
           0.4044207634593214,
           0.4285107084899695,
           0.48408914371724465,
           0.4830733579418518,
           0.49705139224696937,
           0.5369270991950243,
           0.5407511423109139,
           0.5238920600602137,
           0.5342553765054584,
           0.5172775868353847,
           0.5270700537556041,
           0.49745703390074664,
           0.5316646604789039,
           0.4520960719670235,
           0.5102465867875716,
           0.48768668934359916,
           0.5299914677145499,
           0.5321081630754297,
           0.5133715600521838,
           0.5421720153226137,
           0.5104112249797803,
           0.5334101365636272,
           0.5147473789919873,
           0.44532894228082737,
           0.5241578941014498,
           0.3641327749741419,
           0.5351461304801285,
           0.5360280738113532,
           0.5284806256782986,
           0.5056246772902064,
           0.5065677773409107,
           0.23578691900595947,
           0.49318905324620366,
           0.47713839608566166,
           0.5020141931423935,
           0.4227585712635179,
           0.5342851836392966,
           0.5370713618482557,
           0.5275671755889988,
           0.5360924914153223,
           0.5271726293155075,
           0.48451560377873965,
           0.4929370490748729,
           0.5207335333030184,
           0.49387946700353763,
           0.5153287252789882,
           0.5375980248254628,
           0.5399264853319824,
           0.540377608270429,
           0.5380940933992429,
           0.537649203644012,
           0.5237882501086712,
           0.5362144634796587,
           0.5080510683247041,
           0.5305744063006348,
           0.5270951825934724,
           0.5306379646951669,
           0.5418490927567093,
           0.5434097259596165,
           0.5434097259596165,
           0.5334305242635404,
           0.536500006448297,
           0.5432554658976307,
           0.4980844189869236,
           0.4074256696723831,
           0.5345458554376791,
           0.5412343961420986,
           0.5416814128372087,
           0.5350811530418533,
           0.5351624535472153,
           0.5328720373131899,
           0.5400095325577147,
           0.5120350287937854,
           0.5175423035983645,
           0.5388466147394317,
           0.5270036654949833,
           0.54310397772236,
           0.5375090096144155,
           0.5418293262175092,
           0.5418466230717154,
           0.5387773924314326,
           0.4834559104179941,
           0.5385856093631755,
           0.4853463593126343,
           0.45439511039639136,
           0.5161958928507773,
           0.5416814128372087,
           0.5441010180405849,
           0.4796951781286299,
           0.5193234016888402,
           0.5454346007070547,
           0.5361252312420615,
           0.5380941881496382,
           0.53420353921874,
           0.5438823887114833
          ],
          "colorbar": {
           "title": {
            "text": "Objective Value"
           }
          },
          "colorscale": [
           [
            0,
            "rgb(247,251,255)"
           ],
           [
            0.125,
            "rgb(222,235,247)"
           ],
           [
            0.25,
            "rgb(198,219,239)"
           ],
           [
            0.375,
            "rgb(158,202,225)"
           ],
           [
            0.5,
            "rgb(107,174,214)"
           ],
           [
            0.625,
            "rgb(66,146,198)"
           ],
           [
            0.75,
            "rgb(33,113,181)"
           ],
           [
            0.875,
            "rgb(8,81,156)"
           ],
           [
            1,
            "rgb(8,48,107)"
           ]
          ],
          "reversescale": false,
          "showscale": true
         },
         "type": "parcoords"
        }
       ],
       "layout": {
        "template": {
         "data": {
          "bar": [
           {
            "error_x": {
             "color": "#2a3f5f"
            },
            "error_y": {
             "color": "#2a3f5f"
            },
            "marker": {
             "line": {
              "color": "#E5ECF6",
              "width": 0.5
             },
             "pattern": {
              "fillmode": "overlay",
              "size": 10,
              "solidity": 0.2
             }
            },
            "type": "bar"
           }
          ],
          "barpolar": [
           {
            "marker": {
             "line": {
              "color": "#E5ECF6",
              "width": 0.5
             },
             "pattern": {
              "fillmode": "overlay",
              "size": 10,
              "solidity": 0.2
             }
            },
            "type": "barpolar"
           }
          ],
          "carpet": [
           {
            "aaxis": {
             "endlinecolor": "#2a3f5f",
             "gridcolor": "white",
             "linecolor": "white",
             "minorgridcolor": "white",
             "startlinecolor": "#2a3f5f"
            },
            "baxis": {
             "endlinecolor": "#2a3f5f",
             "gridcolor": "white",
             "linecolor": "white",
             "minorgridcolor": "white",
             "startlinecolor": "#2a3f5f"
            },
            "type": "carpet"
           }
          ],
          "choropleth": [
           {
            "colorbar": {
             "outlinewidth": 0,
             "ticks": ""
            },
            "type": "choropleth"
           }
          ],
          "contour": [
           {
            "colorbar": {
             "outlinewidth": 0,
             "ticks": ""
            },
            "colorscale": [
             [
              0,
              "#0d0887"
             ],
             [
              0.1111111111111111,
              "#46039f"
             ],
             [
              0.2222222222222222,
              "#7201a8"
             ],
             [
              0.3333333333333333,
              "#9c179e"
             ],
             [
              0.4444444444444444,
              "#bd3786"
             ],
             [
              0.5555555555555556,
              "#d8576b"
             ],
             [
              0.6666666666666666,
              "#ed7953"
             ],
             [
              0.7777777777777778,
              "#fb9f3a"
             ],
             [
              0.8888888888888888,
              "#fdca26"
             ],
             [
              1,
              "#f0f921"
             ]
            ],
            "type": "contour"
           }
          ],
          "contourcarpet": [
           {
            "colorbar": {
             "outlinewidth": 0,
             "ticks": ""
            },
            "type": "contourcarpet"
           }
          ],
          "heatmap": [
           {
            "colorbar": {
             "outlinewidth": 0,
             "ticks": ""
            },
            "colorscale": [
             [
              0,
              "#0d0887"
             ],
             [
              0.1111111111111111,
              "#46039f"
             ],
             [
              0.2222222222222222,
              "#7201a8"
             ],
             [
              0.3333333333333333,
              "#9c179e"
             ],
             [
              0.4444444444444444,
              "#bd3786"
             ],
             [
              0.5555555555555556,
              "#d8576b"
             ],
             [
              0.6666666666666666,
              "#ed7953"
             ],
             [
              0.7777777777777778,
              "#fb9f3a"
             ],
             [
              0.8888888888888888,
              "#fdca26"
             ],
             [
              1,
              "#f0f921"
             ]
            ],
            "type": "heatmap"
           }
          ],
          "heatmapgl": [
           {
            "colorbar": {
             "outlinewidth": 0,
             "ticks": ""
            },
            "colorscale": [
             [
              0,
              "#0d0887"
             ],
             [
              0.1111111111111111,
              "#46039f"
             ],
             [
              0.2222222222222222,
              "#7201a8"
             ],
             [
              0.3333333333333333,
              "#9c179e"
             ],
             [
              0.4444444444444444,
              "#bd3786"
             ],
             [
              0.5555555555555556,
              "#d8576b"
             ],
             [
              0.6666666666666666,
              "#ed7953"
             ],
             [
              0.7777777777777778,
              "#fb9f3a"
             ],
             [
              0.8888888888888888,
              "#fdca26"
             ],
             [
              1,
              "#f0f921"
             ]
            ],
            "type": "heatmapgl"
           }
          ],
          "histogram": [
           {
            "marker": {
             "pattern": {
              "fillmode": "overlay",
              "size": 10,
              "solidity": 0.2
             }
            },
            "type": "histogram"
           }
          ],
          "histogram2d": [
           {
            "colorbar": {
             "outlinewidth": 0,
             "ticks": ""
            },
            "colorscale": [
             [
              0,
              "#0d0887"
             ],
             [
              0.1111111111111111,
              "#46039f"
             ],
             [
              0.2222222222222222,
              "#7201a8"
             ],
             [
              0.3333333333333333,
              "#9c179e"
             ],
             [
              0.4444444444444444,
              "#bd3786"
             ],
             [
              0.5555555555555556,
              "#d8576b"
             ],
             [
              0.6666666666666666,
              "#ed7953"
             ],
             [
              0.7777777777777778,
              "#fb9f3a"
             ],
             [
              0.8888888888888888,
              "#fdca26"
             ],
             [
              1,
              "#f0f921"
             ]
            ],
            "type": "histogram2d"
           }
          ],
          "histogram2dcontour": [
           {
            "colorbar": {
             "outlinewidth": 0,
             "ticks": ""
            },
            "colorscale": [
             [
              0,
              "#0d0887"
             ],
             [
              0.1111111111111111,
              "#46039f"
             ],
             [
              0.2222222222222222,
              "#7201a8"
             ],
             [
              0.3333333333333333,
              "#9c179e"
             ],
             [
              0.4444444444444444,
              "#bd3786"
             ],
             [
              0.5555555555555556,
              "#d8576b"
             ],
             [
              0.6666666666666666,
              "#ed7953"
             ],
             [
              0.7777777777777778,
              "#fb9f3a"
             ],
             [
              0.8888888888888888,
              "#fdca26"
             ],
             [
              1,
              "#f0f921"
             ]
            ],
            "type": "histogram2dcontour"
           }
          ],
          "mesh3d": [
           {
            "colorbar": {
             "outlinewidth": 0,
             "ticks": ""
            },
            "type": "mesh3d"
           }
          ],
          "parcoords": [
           {
            "line": {
             "colorbar": {
              "outlinewidth": 0,
              "ticks": ""
             }
            },
            "type": "parcoords"
           }
          ],
          "pie": [
           {
            "automargin": true,
            "type": "pie"
           }
          ],
          "scatter": [
           {
            "marker": {
             "colorbar": {
              "outlinewidth": 0,
              "ticks": ""
             }
            },
            "type": "scatter"
           }
          ],
          "scatter3d": [
           {
            "line": {
             "colorbar": {
              "outlinewidth": 0,
              "ticks": ""
             }
            },
            "marker": {
             "colorbar": {
              "outlinewidth": 0,
              "ticks": ""
             }
            },
            "type": "scatter3d"
           }
          ],
          "scattercarpet": [
           {
            "marker": {
             "colorbar": {
              "outlinewidth": 0,
              "ticks": ""
             }
            },
            "type": "scattercarpet"
           }
          ],
          "scattergeo": [
           {
            "marker": {
             "colorbar": {
              "outlinewidth": 0,
              "ticks": ""
             }
            },
            "type": "scattergeo"
           }
          ],
          "scattergl": [
           {
            "marker": {
             "colorbar": {
              "outlinewidth": 0,
              "ticks": ""
             }
            },
            "type": "scattergl"
           }
          ],
          "scattermapbox": [
           {
            "marker": {
             "colorbar": {
              "outlinewidth": 0,
              "ticks": ""
             }
            },
            "type": "scattermapbox"
           }
          ],
          "scatterpolar": [
           {
            "marker": {
             "colorbar": {
              "outlinewidth": 0,
              "ticks": ""
             }
            },
            "type": "scatterpolar"
           }
          ],
          "scatterpolargl": [
           {
            "marker": {
             "colorbar": {
              "outlinewidth": 0,
              "ticks": ""
             }
            },
            "type": "scatterpolargl"
           }
          ],
          "scatterternary": [
           {
            "marker": {
             "colorbar": {
              "outlinewidth": 0,
              "ticks": ""
             }
            },
            "type": "scatterternary"
           }
          ],
          "surface": [
           {
            "colorbar": {
             "outlinewidth": 0,
             "ticks": ""
            },
            "colorscale": [
             [
              0,
              "#0d0887"
             ],
             [
              0.1111111111111111,
              "#46039f"
             ],
             [
              0.2222222222222222,
              "#7201a8"
             ],
             [
              0.3333333333333333,
              "#9c179e"
             ],
             [
              0.4444444444444444,
              "#bd3786"
             ],
             [
              0.5555555555555556,
              "#d8576b"
             ],
             [
              0.6666666666666666,
              "#ed7953"
             ],
             [
              0.7777777777777778,
              "#fb9f3a"
             ],
             [
              0.8888888888888888,
              "#fdca26"
             ],
             [
              1,
              "#f0f921"
             ]
            ],
            "type": "surface"
           }
          ],
          "table": [
           {
            "cells": {
             "fill": {
              "color": "#EBF0F8"
             },
             "line": {
              "color": "white"
             }
            },
            "header": {
             "fill": {
              "color": "#C8D4E3"
             },
             "line": {
              "color": "white"
             }
            },
            "type": "table"
           }
          ]
         },
         "layout": {
          "annotationdefaults": {
           "arrowcolor": "#2a3f5f",
           "arrowhead": 0,
           "arrowwidth": 1
          },
          "autotypenumbers": "strict",
          "coloraxis": {
           "colorbar": {
            "outlinewidth": 0,
            "ticks": ""
           }
          },
          "colorscale": {
           "diverging": [
            [
             0,
             "#8e0152"
            ],
            [
             0.1,
             "#c51b7d"
            ],
            [
             0.2,
             "#de77ae"
            ],
            [
             0.3,
             "#f1b6da"
            ],
            [
             0.4,
             "#fde0ef"
            ],
            [
             0.5,
             "#f7f7f7"
            ],
            [
             0.6,
             "#e6f5d0"
            ],
            [
             0.7,
             "#b8e186"
            ],
            [
             0.8,
             "#7fbc41"
            ],
            [
             0.9,
             "#4d9221"
            ],
            [
             1,
             "#276419"
            ]
           ],
           "sequential": [
            [
             0,
             "#0d0887"
            ],
            [
             0.1111111111111111,
             "#46039f"
            ],
            [
             0.2222222222222222,
             "#7201a8"
            ],
            [
             0.3333333333333333,
             "#9c179e"
            ],
            [
             0.4444444444444444,
             "#bd3786"
            ],
            [
             0.5555555555555556,
             "#d8576b"
            ],
            [
             0.6666666666666666,
             "#ed7953"
            ],
            [
             0.7777777777777778,
             "#fb9f3a"
            ],
            [
             0.8888888888888888,
             "#fdca26"
            ],
            [
             1,
             "#f0f921"
            ]
           ],
           "sequentialminus": [
            [
             0,
             "#0d0887"
            ],
            [
             0.1111111111111111,
             "#46039f"
            ],
            [
             0.2222222222222222,
             "#7201a8"
            ],
            [
             0.3333333333333333,
             "#9c179e"
            ],
            [
             0.4444444444444444,
             "#bd3786"
            ],
            [
             0.5555555555555556,
             "#d8576b"
            ],
            [
             0.6666666666666666,
             "#ed7953"
            ],
            [
             0.7777777777777778,
             "#fb9f3a"
            ],
            [
             0.8888888888888888,
             "#fdca26"
            ],
            [
             1,
             "#f0f921"
            ]
           ]
          },
          "colorway": [
           "#636efa",
           "#EF553B",
           "#00cc96",
           "#ab63fa",
           "#FFA15A",
           "#19d3f3",
           "#FF6692",
           "#B6E880",
           "#FF97FF",
           "#FECB52"
          ],
          "font": {
           "color": "#2a3f5f"
          },
          "geo": {
           "bgcolor": "white",
           "lakecolor": "white",
           "landcolor": "#E5ECF6",
           "showlakes": true,
           "showland": true,
           "subunitcolor": "white"
          },
          "hoverlabel": {
           "align": "left"
          },
          "hovermode": "closest",
          "mapbox": {
           "style": "light"
          },
          "paper_bgcolor": "white",
          "plot_bgcolor": "#E5ECF6",
          "polar": {
           "angularaxis": {
            "gridcolor": "white",
            "linecolor": "white",
            "ticks": ""
           },
           "bgcolor": "#E5ECF6",
           "radialaxis": {
            "gridcolor": "white",
            "linecolor": "white",
            "ticks": ""
           }
          },
          "scene": {
           "xaxis": {
            "backgroundcolor": "#E5ECF6",
            "gridcolor": "white",
            "gridwidth": 2,
            "linecolor": "white",
            "showbackground": true,
            "ticks": "",
            "zerolinecolor": "white"
           },
           "yaxis": {
            "backgroundcolor": "#E5ECF6",
            "gridcolor": "white",
            "gridwidth": 2,
            "linecolor": "white",
            "showbackground": true,
            "ticks": "",
            "zerolinecolor": "white"
           },
           "zaxis": {
            "backgroundcolor": "#E5ECF6",
            "gridcolor": "white",
            "gridwidth": 2,
            "linecolor": "white",
            "showbackground": true,
            "ticks": "",
            "zerolinecolor": "white"
           }
          },
          "shapedefaults": {
           "line": {
            "color": "#2a3f5f"
           }
          },
          "ternary": {
           "aaxis": {
            "gridcolor": "white",
            "linecolor": "white",
            "ticks": ""
           },
           "baxis": {
            "gridcolor": "white",
            "linecolor": "white",
            "ticks": ""
           },
           "bgcolor": "#E5ECF6",
           "caxis": {
            "gridcolor": "white",
            "linecolor": "white",
            "ticks": ""
           }
          },
          "title": {
           "x": 0.05
          },
          "xaxis": {
           "automargin": true,
           "gridcolor": "white",
           "linecolor": "white",
           "ticks": "",
           "title": {
            "standoff": 15
           },
           "zerolinecolor": "white",
           "zerolinewidth": 2
          },
          "yaxis": {
           "automargin": true,
           "gridcolor": "white",
           "linecolor": "white",
           "ticks": "",
           "title": {
            "standoff": 15
           },
           "zerolinecolor": "white",
           "zerolinewidth": 2
          }
         }
        },
        "title": {
         "text": "Parallel Coordinate Plot"
        }
       }
      }
     },
     "metadata": {},
     "output_type": "display_data"
    }
   ],
   "source": [
    "optuna.visualization.plot_parallel_coordinate(study)"
   ]
  },
  {
   "cell_type": "code",
   "execution_count": 38,
   "id": "4afa60aa",
   "metadata": {},
   "outputs": [
    {
     "name": "stdout",
     "output_type": "stream",
     "text": [
      "Best trial: {'n_estimators': 58, 'max_depth': 10, 'min_samples_leaf': 1, 'min_samples_split': 2}\n"
     ]
    },
    {
     "data": {
      "text/plain": [
       "58"
      ]
     },
     "execution_count": 38,
     "metadata": {},
     "output_type": "execute_result"
    }
   ],
   "source": [
    "print(\"Best trial:\", study.best_trial.params)\n",
    "study.best_trial.params[\"n_estimators\"]"
   ]
  },
  {
   "cell_type": "code",
   "execution_count": 39,
   "id": "3b45adad",
   "metadata": {},
   "outputs": [
    {
     "data": {
      "text/html": [
       "<style>#sk-container-id-2 {color: black;}#sk-container-id-2 pre{padding: 0;}#sk-container-id-2 div.sk-toggleable {background-color: white;}#sk-container-id-2 label.sk-toggleable__label {cursor: pointer;display: block;width: 100%;margin-bottom: 0;padding: 0.3em;box-sizing: border-box;text-align: center;}#sk-container-id-2 label.sk-toggleable__label-arrow:before {content: \"▸\";float: left;margin-right: 0.25em;color: #696969;}#sk-container-id-2 label.sk-toggleable__label-arrow:hover:before {color: black;}#sk-container-id-2 div.sk-estimator:hover label.sk-toggleable__label-arrow:before {color: black;}#sk-container-id-2 div.sk-toggleable__content {max-height: 0;max-width: 0;overflow: hidden;text-align: left;background-color: #f0f8ff;}#sk-container-id-2 div.sk-toggleable__content pre {margin: 0.2em;color: black;border-radius: 0.25em;background-color: #f0f8ff;}#sk-container-id-2 input.sk-toggleable__control:checked~div.sk-toggleable__content {max-height: 200px;max-width: 100%;overflow: auto;}#sk-container-id-2 input.sk-toggleable__control:checked~label.sk-toggleable__label-arrow:before {content: \"▾\";}#sk-container-id-2 div.sk-estimator input.sk-toggleable__control:checked~label.sk-toggleable__label {background-color: #d4ebff;}#sk-container-id-2 div.sk-label input.sk-toggleable__control:checked~label.sk-toggleable__label {background-color: #d4ebff;}#sk-container-id-2 input.sk-hidden--visually {border: 0;clip: rect(1px 1px 1px 1px);clip: rect(1px, 1px, 1px, 1px);height: 1px;margin: -1px;overflow: hidden;padding: 0;position: absolute;width: 1px;}#sk-container-id-2 div.sk-estimator {font-family: monospace;background-color: #f0f8ff;border: 1px dotted black;border-radius: 0.25em;box-sizing: border-box;margin-bottom: 0.5em;}#sk-container-id-2 div.sk-estimator:hover {background-color: #d4ebff;}#sk-container-id-2 div.sk-parallel-item::after {content: \"\";width: 100%;border-bottom: 1px solid gray;flex-grow: 1;}#sk-container-id-2 div.sk-label:hover label.sk-toggleable__label {background-color: #d4ebff;}#sk-container-id-2 div.sk-serial::before {content: \"\";position: absolute;border-left: 1px solid gray;box-sizing: border-box;top: 0;bottom: 0;left: 50%;z-index: 0;}#sk-container-id-2 div.sk-serial {display: flex;flex-direction: column;align-items: center;background-color: white;padding-right: 0.2em;padding-left: 0.2em;position: relative;}#sk-container-id-2 div.sk-item {position: relative;z-index: 1;}#sk-container-id-2 div.sk-parallel {display: flex;align-items: stretch;justify-content: center;background-color: white;position: relative;}#sk-container-id-2 div.sk-item::before, #sk-container-id-2 div.sk-parallel-item::before {content: \"\";position: absolute;border-left: 1px solid gray;box-sizing: border-box;top: 0;bottom: 0;left: 50%;z-index: -1;}#sk-container-id-2 div.sk-parallel-item {display: flex;flex-direction: column;z-index: 1;position: relative;background-color: white;}#sk-container-id-2 div.sk-parallel-item:first-child::after {align-self: flex-end;width: 50%;}#sk-container-id-2 div.sk-parallel-item:last-child::after {align-self: flex-start;width: 50%;}#sk-container-id-2 div.sk-parallel-item:only-child::after {width: 0;}#sk-container-id-2 div.sk-dashed-wrapped {border: 1px dashed gray;margin: 0 0.4em 0.5em 0.4em;box-sizing: border-box;padding-bottom: 0.4em;background-color: white;}#sk-container-id-2 div.sk-label label {font-family: monospace;font-weight: bold;display: inline-block;line-height: 1.2em;}#sk-container-id-2 div.sk-label-container {text-align: center;}#sk-container-id-2 div.sk-container {/* jupyter's `normalize.less` sets `[hidden] { display: none; }` but bootstrap.min.css set `[hidden] { display: none !important; }` so we also need the `!important` here to be able to override the default hidden behavior on the sphinx rendered scikit-learn.org. See: https://github.com/scikit-learn/scikit-learn/issues/21755 */display: inline-block !important;position: relative;}#sk-container-id-2 div.sk-text-repr-fallback {display: none;}</style><div id=\"sk-container-id-2\" class=\"sk-top-container\"><div class=\"sk-text-repr-fallback\"><pre>RandomForestRegressor(max_depth=10, n_estimators=58, random_state=42)</pre><b>In a Jupyter environment, please rerun this cell to show the HTML representation or trust the notebook. <br />On GitHub, the HTML representation is unable to render, please try loading this page with nbviewer.org.</b></div><div class=\"sk-container\" hidden><div class=\"sk-item\"><div class=\"sk-estimator sk-toggleable\"><input class=\"sk-toggleable__control sk-hidden--visually\" id=\"sk-estimator-id-2\" type=\"checkbox\" checked><label for=\"sk-estimator-id-2\" class=\"sk-toggleable__label sk-toggleable__label-arrow\">RandomForestRegressor</label><div class=\"sk-toggleable__content\"><pre>RandomForestRegressor(max_depth=10, n_estimators=58, random_state=42)</pre></div></div></div></div></div>"
      ],
      "text/plain": [
       "RandomForestRegressor(max_depth=10, n_estimators=58, random_state=42)"
      ]
     },
     "execution_count": 39,
     "metadata": {},
     "output_type": "execute_result"
    }
   ],
   "source": [
    "rf_params = {\n",
    "    \"random_state\": 42,\n",
    "    #\"learning_rate\": 0.1,\n",
    "    \"n_estimators\": study.best_trial.params[\"n_estimators\"],\n",
    "    \"max_depth\": study.best_trial.params[\"max_depth\"],\n",
    "    \"min_samples_leaf\": study.best_trial.params[\"min_samples_leaf\"],\n",
    "    \"min_samples_split\": study.best_trial.params[\"min_samples_split\"],\n",
    "    #\"subsample\": study.best_trial.params[\"subsample\"]\n",
    "}\n",
    "\n",
    "rf = RandomForestRegressor(**rf_params)\n",
    "rf.fit(Cd_X_train, Cd_y_train)"
   ]
  },
  {
   "cell_type": "code",
   "execution_count": 40,
   "id": "9ab1055b",
   "metadata": {},
   "outputs": [],
   "source": [
    "y_train_pred = rf.predict(Cd_X_train)\n",
    "y_test_pred = rf.predict(Cd_X_test)"
   ]
  },
  {
   "cell_type": "code",
   "execution_count": 41,
   "id": "425b4001",
   "metadata": {},
   "outputs": [
    {
     "name": "stdout",
     "output_type": "stream",
     "text": [
      "Train RMSE:  0.030874000147245163\n",
      "Test RMSE:  0.07267760429846182\n"
     ]
    }
   ],
   "source": [
    "print(\"Train RMSE: \", np.sqrt(mean_squared_error(Cd_y_train, y_train_pred)))\n",
    "print(\"Test RMSE: \", np.sqrt(mean_squared_error(Cd_y_test, y_test_pred)))"
   ]
  },
  {
   "cell_type": "code",
   "execution_count": 42,
   "id": "0f95ae3c",
   "metadata": {},
   "outputs": [
    {
     "name": "stdout",
     "output_type": "stream",
     "text": [
      "Train R2:  0.8648694379843627\n",
      "Test R2:  0.23287486150528736\n"
     ]
    }
   ],
   "source": [
    "print(\"Train R2: \", r2_score(Cd_y_train, y_train_pred))\n",
    "print(\"Test R2: \", r2_score(Cd_y_test, y_test_pred))"
   ]
  },
  {
   "cell_type": "code",
   "execution_count": 43,
   "id": "aa0a517d",
   "metadata": {},
   "outputs": [
    {
     "data": {
      "image/png": "[encoded data removed]",
      "text/plain": [
       "<Figure size 640x480 with 1 Axes>"
      ]
     },
     "metadata": {},
     "output_type": "display_data"
    }
   ],
   "source": [
    "plt.scatter(y_train_pred, np.array(Cd_y_train), color=\"orange\", alpha=0.3)\n",
    "plt.scatter(y_test_pred, np.array(Cd_y_test), color=\"green\", alpha=0.4)\n",
    "plt.axis(\"auto\") # scaled, tight, auto, image, square\n",
    "# plt.xlim([0, 1.5]) \n",
    "# plt.ylim(0, None) \n",
    "plt.xlabel('Predicted Values')\n",
    "plt.ylabel('Actual Values')\n",
    "\n",
    "# Add y=x line\n",
    "plt.plot([0, 0.5], [0, 0.5], color='red', linestyle='-')\n",
    "\n",
    "plt.show()"
   ]
  },
  {
   "attachments": {},
   "cell_type": "markdown",
   "id": "74f680ea",
   "metadata": {},
   "source": [
    "Ni"
   ]
  },
  {
   "cell_type": "code",
   "execution_count": 44,
   "id": "de233338",
   "metadata": {},
   "outputs": [
    {
     "name": "stderr",
     "output_type": "stream",
     "text": [
      "\u001b[32m[I 2023-08-24 14:21:31,484]\u001b[0m A new study created in memory with name: rf_parameter_opt\u001b[0m\n",
      "\u001b[32m[I 2023-08-24 14:21:31,738]\u001b[0m Trial 0 finished with value: 0.2015196113624011 and parameters: {'n_estimators': 29, 'max_depth': 1, 'min_samples_leaf': 19, 'min_samples_split': 4}. Best is trial 0 with value: 0.2015196113624011.\u001b[0m\n",
      "\u001b[32m[I 2023-08-24 14:21:32,304]\u001b[0m Trial 1 finished with value: 0.7383376009293208 and parameters: {'n_estimators': 22, 'max_depth': 9, 'min_samples_leaf': 6, 'min_samples_split': 3}. Best is trial 1 with value: 0.7383376009293208.\u001b[0m\n",
      "\u001b[32m[I 2023-08-24 14:21:33,706]\u001b[0m Trial 2 finished with value: 0.6075894910218826 and parameters: {'n_estimators': 94, 'max_depth': 4, 'min_samples_leaf': 20, 'min_samples_split': 18}. Best is trial 1 with value: 0.7383376009293208.\u001b[0m\n",
      "\u001b[32m[I 2023-08-24 14:21:34,444]\u001b[0m Trial 3 finished with value: 0.6053826514398472 and parameters: {'n_estimators': 49, 'max_depth': 4, 'min_samples_leaf': 19, 'min_samples_split': 16}. Best is trial 1 with value: 0.7383376009293208.\u001b[0m\n",
      "\u001b[32m[I 2023-08-24 14:21:34,670]\u001b[0m Trial 4 finished with value: 0.20078875031563506 and parameters: {'n_estimators': 28, 'max_depth': 1, 'min_samples_leaf': 2, 'min_samples_split': 19}. Best is trial 1 with value: 0.7383376009293208.\u001b[0m\n",
      "\u001b[32m[I 2023-08-24 14:21:35,469]\u001b[0m Trial 5 finished with value: 0.5653022465949041 and parameters: {'n_estimators': 61, 'max_depth': 3, 'min_samples_leaf': 17, 'min_samples_split': 13}. Best is trial 1 with value: 0.7383376009293208.\u001b[0m\n",
      "\u001b[32m[I 2023-08-24 14:21:35,948]\u001b[0m Trial 6 finished with value: 0.6319554455382822 and parameters: {'n_estimators': 27, 'max_depth': 4, 'min_samples_leaf': 5, 'min_samples_split': 2}. Best is trial 1 with value: 0.7383376009293208.\u001b[0m\n",
      "\u001b[32m[I 2023-08-24 14:21:37,614]\u001b[0m Trial 7 finished with value: 0.691184545267738 and parameters: {'n_estimators': 82, 'max_depth': 7, 'min_samples_leaf': 12, 'min_samples_split': 6}. Best is trial 1 with value: 0.7383376009293208.\u001b[0m\n",
      "\u001b[32m[I 2023-08-24 14:21:37,885]\u001b[0m Trial 8 finished with value: 0.6130359688484974 and parameters: {'n_estimators': 17, 'max_depth': 4, 'min_samples_leaf': 14, 'min_samples_split': 19}. Best is trial 1 with value: 0.7383376009293208.\u001b[0m\n",
      "\u001b[32m[I 2023-08-24 14:21:38,127]\u001b[0m Trial 9 finished with value: 0.696860735715063 and parameters: {'n_estimators': 10, 'max_depth': 9, 'min_samples_leaf': 9, 'min_samples_split': 14}. Best is trial 1 with value: 0.7383376009293208.\u001b[0m\n",
      "\u001b[32m[I 2023-08-24 14:21:39,328]\u001b[0m Trial 10 finished with value: 0.7246310177778437 and parameters: {'n_estimators': 48, 'max_depth': 10, 'min_samples_leaf': 8, 'min_samples_split': 8}. Best is trial 1 with value: 0.7383376009293208.\u001b[0m\n",
      "\u001b[32m[I 2023-08-24 14:21:40,634]\u001b[0m Trial 11 finished with value: 0.7330191700529687 and parameters: {'n_estimators': 50, 'max_depth': 10, 'min_samples_leaf': 7, 'min_samples_split': 8}. Best is trial 1 with value: 0.7383376009293208.\u001b[0m\n",
      "\u001b[32m[I 2023-08-24 14:21:42,383]\u001b[0m Trial 12 finished with value: 0.7543421101874888 and parameters: {'n_estimators': 70, 'max_depth': 8, 'min_samples_leaf': 5, 'min_samples_split': 9}. Best is trial 12 with value: 0.7543421101874888.\u001b[0m\n",
      "\u001b[32m[I 2023-08-24 14:21:44,087]\u001b[0m Trial 13 finished with value: 0.7542171485667695 and parameters: {'n_estimators': 70, 'max_depth': 7, 'min_samples_leaf': 2, 'min_samples_split': 11}. Best is trial 12 with value: 0.7543421101874888.\u001b[0m\n",
      "\u001b[32m[I 2023-08-24 14:21:45,839]\u001b[0m Trial 14 finished with value: 0.7583474985928861 and parameters: {'n_estimators': 71, 'max_depth': 7, 'min_samples_leaf': 1, 'min_samples_split': 10}. Best is trial 14 with value: 0.7583474985928861.\u001b[0m\n",
      "\u001b[32m[I 2023-08-24 14:21:47,716]\u001b[0m Trial 15 finished with value: 0.7606811620476134 and parameters: {'n_estimators': 76, 'max_depth': 7, 'min_samples_leaf': 1, 'min_samples_split': 10}. Best is trial 15 with value: 0.7606811620476134.\u001b[0m\n",
      "\u001b[32m[I 2023-08-24 14:21:49,819]\u001b[0m Trial 16 finished with value: 0.7314607896236616 and parameters: {'n_estimators': 96, 'max_depth': 6, 'min_samples_leaf': 2, 'min_samples_split': 11}. Best is trial 15 with value: 0.7606811620476134.\u001b[0m\n",
      "\u001b[32m[I 2023-08-24 14:21:51,522]\u001b[0m Trial 17 finished with value: 0.7303957065404475 and parameters: {'n_estimators': 76, 'max_depth': 6, 'min_samples_leaf': 1, 'min_samples_split': 13}. Best is trial 15 with value: 0.7606811620476134.\u001b[0m\n",
      "\u001b[32m[I 2023-08-24 14:21:53,639]\u001b[0m Trial 18 finished with value: 0.7539470918817059 and parameters: {'n_estimators': 87, 'max_depth': 7, 'min_samples_leaf': 4, 'min_samples_split': 5}. Best is trial 15 with value: 0.7606811620476134.\u001b[0m\n",
      "\u001b[32m[I 2023-08-24 14:21:54,974]\u001b[0m Trial 19 finished with value: 0.699020831694997 and parameters: {'n_estimators': 62, 'max_depth': 8, 'min_samples_leaf': 11, 'min_samples_split': 10}. Best is trial 15 with value: 0.7606811620476134.\u001b[0m\n",
      "\u001b[32m[I 2023-08-24 14:21:55,767]\u001b[0m Trial 20 finished with value: 0.6939590142710885 and parameters: {'n_estimators': 41, 'max_depth': 5, 'min_samples_leaf': 4, 'min_samples_split': 7}. Best is trial 15 with value: 0.7606811620476134.\u001b[0m\n",
      "\u001b[32m[I 2023-08-24 14:21:57,652]\u001b[0m Trial 21 finished with value: 0.7733927078899665 and parameters: {'n_estimators': 70, 'max_depth': 8, 'min_samples_leaf': 1, 'min_samples_split': 10}. Best is trial 21 with value: 0.7733927078899665.\u001b[0m\n",
      "\u001b[32m[I 2023-08-24 14:21:59,799]\u001b[0m Trial 22 finished with value: 0.7683520844120173 and parameters: {'n_estimators': 81, 'max_depth': 8, 'min_samples_leaf': 1, 'min_samples_split': 13}. Best is trial 21 with value: 0.7733927078899665.\u001b[0m\n",
      "\u001b[32m[I 2023-08-24 14:22:01,926]\u001b[0m Trial 23 finished with value: 0.7566885413459608 and parameters: {'n_estimators': 84, 'max_depth': 8, 'min_samples_leaf': 3, 'min_samples_split': 15}. Best is trial 21 with value: 0.7733927078899665.\u001b[0m\n",
      "\u001b[32m[I 2023-08-24 14:22:03,683]\u001b[0m Trial 24 finished with value: 0.772412294412598 and parameters: {'n_estimators': 62, 'max_depth': 9, 'min_samples_leaf': 1, 'min_samples_split': 12}. Best is trial 21 with value: 0.7733927078899665.\u001b[0m\n",
      "\u001b[32m[I 2023-08-24 14:22:05,285]\u001b[0m Trial 25 finished with value: 0.7623545143331943 and parameters: {'n_estimators': 59, 'max_depth': 9, 'min_samples_leaf': 3, 'min_samples_split': 13}. Best is trial 21 with value: 0.7733927078899665.\u001b[0m\n",
      "\u001b[32m[I 2023-08-24 14:22:06,296]\u001b[0m Trial 26 finished with value: 0.7326540459451275 and parameters: {'n_estimators': 39, 'max_depth': 10, 'min_samples_leaf': 6, 'min_samples_split': 17}. Best is trial 21 with value: 0.7733927078899665.\u001b[0m\n",
      "\u001b[32m[I 2023-08-24 14:22:08,175]\u001b[0m Trial 27 finished with value: 0.680185648296678 and parameters: {'n_estimators': 90, 'max_depth': 9, 'min_samples_leaf': 14, 'min_samples_split': 15}. Best is trial 21 with value: 0.7733927078899665.\u001b[0m\n",
      "\u001b[32m[I 2023-08-24 14:22:09,786]\u001b[0m Trial 28 finished with value: 0.7567064082473614 and parameters: {'n_estimators': 64, 'max_depth': 8, 'min_samples_leaf': 4, 'min_samples_split': 12}. Best is trial 21 with value: 0.7733927078899665.\u001b[0m\n",
      "\u001b[32m[I 2023-08-24 14:22:10,894]\u001b[0m Trial 29 finished with value: 0.6989746459091379 and parameters: {'n_estimators': 55, 'max_depth': 6, 'min_samples_leaf': 9, 'min_samples_split': 12}. Best is trial 21 with value: 0.7733927078899665.\u001b[0m\n",
      "\u001b[32m[I 2023-08-24 14:22:13,581]\u001b[0m Trial 30 finished with value: 0.7609768531642603 and parameters: {'n_estimators': 99, 'max_depth': 9, 'min_samples_leaf': 3, 'min_samples_split': 15}. Best is trial 21 with value: 0.7733927078899665.\u001b[0m\n",
      "\u001b[32m[I 2023-08-24 14:22:15,766]\u001b[0m Trial 31 finished with value: 0.7735178689906657 and parameters: {'n_estimators': 78, 'max_depth': 9, 'min_samples_leaf': 1, 'min_samples_split': 13}. Best is trial 31 with value: 0.7735178689906657.\u001b[0m\n",
      "\u001b[32m[I 2023-08-24 14:22:18,116]\u001b[0m Trial 32 finished with value: 0.7805546099078824 and parameters: {'n_estimators': 78, 'max_depth': 10, 'min_samples_leaf': 1, 'min_samples_split': 12}. Best is trial 32 with value: 0.7805546099078824.\u001b[0m\n",
      "\u001b[32m[I 2023-08-24 14:22:20,384]\u001b[0m Trial 33 finished with value: 0.7796297700862469 and parameters: {'n_estimators': 78, 'max_depth': 10, 'min_samples_leaf': 3, 'min_samples_split': 9}. Best is trial 32 with value: 0.7805546099078824.\u001b[0m\n",
      "\u001b[32m[I 2023-08-24 14:22:22,440]\u001b[0m Trial 34 finished with value: 0.7483770006334127 and parameters: {'n_estimators': 77, 'max_depth': 10, 'min_samples_leaf': 6, 'min_samples_split': 9}. Best is trial 32 with value: 0.7805546099078824.\u001b[0m\n",
      "\u001b[32m[I 2023-08-24 14:22:25,127]\u001b[0m Trial 35 finished with value: 0.787471536949818 and parameters: {'n_estimators': 90, 'max_depth': 10, 'min_samples_leaf': 3, 'min_samples_split': 4}. Best is trial 35 with value: 0.787471536949818.\u001b[0m\n",
      "\u001b[32m[I 2023-08-24 14:22:27,840]\u001b[0m Trial 36 finished with value: 0.7875029460039139 and parameters: {'n_estimators': 91, 'max_depth': 10, 'min_samples_leaf': 3, 'min_samples_split': 4}. Best is trial 36 with value: 0.7875029460039139.\u001b[0m\n",
      "\u001b[32m[I 2023-08-24 14:22:30,338]\u001b[0m Trial 37 finished with value: 0.761520151056607 and parameters: {'n_estimators': 91, 'max_depth': 10, 'min_samples_leaf': 5, 'min_samples_split': 4}. Best is trial 36 with value: 0.7875029460039139.\u001b[0m\n",
      "\u001b[32m[I 2023-08-24 14:22:33,305]\u001b[0m Trial 38 finished with value: 0.7884671112277191 and parameters: {'n_estimators': 99, 'max_depth': 10, 'min_samples_leaf': 3, 'min_samples_split': 3}. Best is trial 38 with value: 0.7884671112277191.\u001b[0m\n",
      "\u001b[32m[I 2023-08-24 14:22:34,345]\u001b[0m Trial 39 finished with value: 0.48502600591898853 and parameters: {'n_estimators': 99, 'max_depth': 2, 'min_samples_leaf': 8, 'min_samples_split': 2}. Best is trial 38 with value: 0.7884671112277191.\u001b[0m\n",
      "\u001b[32m[I 2023-08-24 14:22:36,143]\u001b[0m Trial 40 finished with value: 0.6527590746633769 and parameters: {'n_estimators': 93, 'max_depth': 10, 'min_samples_leaf': 18, 'min_samples_split': 3}. Best is trial 38 with value: 0.7884671112277191.\u001b[0m\n",
      "\u001b[32m[I 2023-08-24 14:22:38,774]\u001b[0m Trial 41 finished with value: 0.7872575583590289 and parameters: {'n_estimators': 88, 'max_depth': 10, 'min_samples_leaf': 3, 'min_samples_split': 5}. Best is trial 38 with value: 0.7884671112277191.\u001b[0m\n",
      "\u001b[32m[I 2023-08-24 14:22:41,157]\u001b[0m Trial 42 finished with value: 0.7607643400096051 and parameters: {'n_estimators': 87, 'max_depth': 10, 'min_samples_leaf': 5, 'min_samples_split': 5}. Best is trial 38 with value: 0.7884671112277191.\u001b[0m\n",
      "\u001b[32m[I 2023-08-24 14:22:43,849]\u001b[0m Trial 43 finished with value: 0.7832081960210362 and parameters: {'n_estimators': 95, 'max_depth': 9, 'min_samples_leaf': 3, 'min_samples_split': 3}. Best is trial 38 with value: 0.7884671112277191.\u001b[0m\n",
      "\u001b[32m[I 2023-08-24 14:22:46,191]\u001b[0m Trial 44 finished with value: 0.735217293748436 and parameters: {'n_estimators': 95, 'max_depth': 9, 'min_samples_leaf': 7, 'min_samples_split': 3}. Best is trial 38 with value: 0.7884671112277191.\u001b[0m\n",
      "\u001b[32m[I 2023-08-24 14:22:48,899]\u001b[0m Trial 45 finished with value: 0.7742369208507731 and parameters: {'n_estimators': 100, 'max_depth': 9, 'min_samples_leaf': 4, 'min_samples_split': 4}. Best is trial 38 with value: 0.7884671112277191.\u001b[0m\n",
      "\u001b[32m[I 2023-08-24 14:22:51,208]\u001b[0m Trial 46 finished with value: 0.7483728699981214 and parameters: {'n_estimators': 87, 'max_depth': 10, 'min_samples_leaf': 6, 'min_samples_split': 6}. Best is trial 38 with value: 0.7884671112277191.\u001b[0m\n",
      "\u001b[32m[I 2023-08-24 14:22:54,098]\u001b[0m Trial 47 finished with value: 0.7938102403844639 and parameters: {'n_estimators': 91, 'max_depth': 10, 'min_samples_leaf': 2, 'min_samples_split': 2}. Best is trial 47 with value: 0.7938102403844639.\u001b[0m\n",
      "\u001b[32m[I 2023-08-24 14:22:54,795]\u001b[0m Trial 48 finished with value: 0.20472277121780938 and parameters: {'n_estimators': 90, 'max_depth': 1, 'min_samples_leaf': 2, 'min_samples_split': 2}. Best is trial 47 with value: 0.7938102403844639.\u001b[0m\n",
      "\u001b[32m[I 2023-08-24 14:22:56,554]\u001b[0m Trial 49 finished with value: 0.6724124532052855 and parameters: {'n_estimators': 85, 'max_depth': 10, 'min_samples_leaf': 15, 'min_samples_split': 5}. Best is trial 47 with value: 0.7938102403844639.\u001b[0m\n",
      "\u001b[32m[I 2023-08-24 14:22:57,798]\u001b[0m Trial 50 finished with value: 0.5777189279349689 and parameters: {'n_estimators': 91, 'max_depth': 3, 'min_samples_leaf': 7, 'min_samples_split': 3}. Best is trial 47 with value: 0.7938102403844639.\u001b[0m\n",
      "\u001b[32m[I 2023-08-24 14:23:00,487]\u001b[0m Trial 51 finished with value: 0.7832081960210362 and parameters: {'n_estimators': 95, 'max_depth': 9, 'min_samples_leaf': 3, 'min_samples_split': 3}. Best is trial 47 with value: 0.7938102403844639.\u001b[0m\n",
      "\u001b[32m[I 2023-08-24 14:23:03,564]\u001b[0m Trial 52 finished with value: 0.7946878527613623 and parameters: {'n_estimators': 97, 'max_depth': 10, 'min_samples_leaf': 2, 'min_samples_split': 4}. Best is trial 52 with value: 0.7946878527613623.\u001b[0m\n",
      "\u001b[32m[I 2023-08-24 14:23:06,658]\u001b[0m Trial 53 finished with value: 0.7948427831534206 and parameters: {'n_estimators': 98, 'max_depth': 10, 'min_samples_leaf': 2, 'min_samples_split': 4}. Best is trial 53 with value: 0.7948427831534206.\u001b[0m\n",
      "\u001b[32m[I 2023-08-24 14:23:09,809]\u001b[0m Trial 54 finished with value: 0.7947392806602332 and parameters: {'n_estimators': 100, 'max_depth': 10, 'min_samples_leaf': 2, 'min_samples_split': 4}. Best is trial 53 with value: 0.7948427831534206.\u001b[0m\n",
      "\u001b[32m[I 2023-08-24 14:23:12,897]\u001b[0m Trial 55 finished with value: 0.792238757874307 and parameters: {'n_estimators': 100, 'max_depth': 10, 'min_samples_leaf': 2, 'min_samples_split': 6}. Best is trial 53 with value: 0.7948427831534206.\u001b[0m\n",
      "\u001b[32m[I 2023-08-24 14:23:15,801]\u001b[0m Trial 56 finished with value: 0.7892208382430872 and parameters: {'n_estimators': 100, 'max_depth': 9, 'min_samples_leaf': 2, 'min_samples_split': 6}. Best is trial 53 with value: 0.7948427831534206.\u001b[0m\n",
      "\u001b[32m[I 2023-08-24 14:23:18,574]\u001b[0m Trial 57 finished with value: 0.7879919154290974 and parameters: {'n_estimators': 96, 'max_depth': 9, 'min_samples_leaf': 2, 'min_samples_split': 7}. Best is trial 53 with value: 0.7948427831534206.\u001b[0m\n",
      "\u001b[32m[I 2023-08-24 14:23:21,469]\u001b[0m Trial 58 finished with value: 0.7892208382430872 and parameters: {'n_estimators': 100, 'max_depth': 9, 'min_samples_leaf': 2, 'min_samples_split': 6}. Best is trial 53 with value: 0.7948427831534206.\u001b[0m\n",
      "\u001b[32m[I 2023-08-24 14:23:24,084]\u001b[0m Trial 59 finished with value: 0.7815162118598519 and parameters: {'n_estimators': 97, 'max_depth': 8, 'min_samples_leaf': 2, 'min_samples_split': 7}. Best is trial 53 with value: 0.7948427831534206.\u001b[0m\n",
      "\u001b[32m[I 2023-08-24 14:23:26,331]\u001b[0m Trial 60 finished with value: 0.7728649895120212 and parameters: {'n_estimators': 82, 'max_depth': 9, 'min_samples_leaf': 4, 'min_samples_split': 2}. Best is trial 53 with value: 0.7948427831534206.\u001b[0m\n",
      "\u001b[32m[I 2023-08-24 14:23:29,221]\u001b[0m Trial 61 finished with value: 0.7892208382430872 and parameters: {'n_estimators': 100, 'max_depth': 9, 'min_samples_leaf': 2, 'min_samples_split': 6}. Best is trial 53 with value: 0.7948427831534206.\u001b[0m\n",
      "\u001b[32m[I 2023-08-24 14:23:32,100]\u001b[0m Trial 62 finished with value: 0.7914497803540346 and parameters: {'n_estimators': 93, 'max_depth': 10, 'min_samples_leaf': 2, 'min_samples_split': 6}. Best is trial 53 with value: 0.7948427831534206.\u001b[0m\n",
      "\u001b[32m[I 2023-08-24 14:23:34,686]\u001b[0m Trial 63 finished with value: 0.7618345789780461 and parameters: {'n_estimators': 94, 'max_depth': 10, 'min_samples_leaf': 5, 'min_samples_split': 8}. Best is trial 53 with value: 0.7948427831534206.\u001b[0m\n",
      "\u001b[32m[I 2023-08-24 14:23:37,676]\u001b[0m Trial 64 finished with value: 0.7920396394257027 and parameters: {'n_estimators': 97, 'max_depth': 10, 'min_samples_leaf': 2, 'min_samples_split': 6}. Best is trial 53 with value: 0.7948427831534206.\u001b[0m\n",
      "\u001b[32m[I 2023-08-24 14:23:39,441]\u001b[0m Trial 65 finished with value: 0.6961521122955768 and parameters: {'n_estimators': 93, 'max_depth': 5, 'min_samples_leaf': 4, 'min_samples_split': 5}. Best is trial 53 with value: 0.7948427831534206.\u001b[0m\n",
      "\u001b[32m[I 2023-08-24 14:23:42,083]\u001b[0m Trial 66 finished with value: 0.7932989756847909 and parameters: {'n_estimators': 84, 'max_depth': 10, 'min_samples_leaf': 1, 'min_samples_split': 7}. Best is trial 53 with value: 0.7948427831534206.\u001b[0m\n",
      "\u001b[32m[I 2023-08-24 14:23:44,713]\u001b[0m Trial 67 finished with value: 0.7932989756847909 and parameters: {'n_estimators': 84, 'max_depth': 10, 'min_samples_leaf': 1, 'min_samples_split': 7}. Best is trial 53 with value: 0.7948427831534206.\u001b[0m\n",
      "\u001b[32m[I 2023-08-24 14:23:47,014]\u001b[0m Trial 68 finished with value: 0.7877399122611479 and parameters: {'n_estimators': 74, 'max_depth': 10, 'min_samples_leaf': 1, 'min_samples_split': 8}. Best is trial 53 with value: 0.7948427831534206.\u001b[0m\n",
      "\u001b[32m[I 2023-08-24 14:23:49,387]\u001b[0m Trial 69 finished with value: 0.7871498687236758 and parameters: {'n_estimators': 84, 'max_depth': 8, 'min_samples_leaf': 1, 'min_samples_split': 4}. Best is trial 53 with value: 0.7948427831534206.\u001b[0m\n",
      "\u001b[32m[I 2023-08-24 14:23:50,880]\u001b[0m Trial 70 finished with value: 0.6923072611723275 and parameters: {'n_estimators': 67, 'max_depth': 10, 'min_samples_leaf': 12, 'min_samples_split': 7}. Best is trial 53 with value: 0.7948427831534206.\u001b[0m\n",
      "\u001b[32m[I 2023-08-24 14:23:53,612]\u001b[0m Trial 71 finished with value: 0.7564402383577148 and parameters: {'n_estimators': 97, 'max_depth': 10, 'min_samples_leaf': 1, 'min_samples_split': 20}. Best is trial 53 with value: 0.7948427831534206.\u001b[0m\n",
      "\u001b[32m[I 2023-08-24 14:23:56,630]\u001b[0m Trial 72 finished with value: 0.7928353772705306 and parameters: {'n_estimators': 97, 'max_depth': 10, 'min_samples_leaf': 2, 'min_samples_split': 5}. Best is trial 53 with value: 0.7948427831534206.\u001b[0m\n",
      "\u001b[32m[I 2023-08-24 14:23:58,144]\u001b[0m Trial 73 finished with value: 0.6374907241551997 and parameters: {'n_estimators': 82, 'max_depth': 10, 'min_samples_leaf': 20, 'min_samples_split': 5}. Best is trial 53 with value: 0.7948427831534206.\u001b[0m\n",
      "\u001b[32m[I 2023-08-24 14:23:58,763]\u001b[0m Trial 74 finished with value: 0.7808670587489401 and parameters: {'n_estimators': 19, 'max_depth': 9, 'min_samples_leaf': 1, 'min_samples_split': 2}. Best is trial 53 with value: 0.7948427831534206.\u001b[0m\n",
      "\u001b[32m[I 2023-08-24 14:24:01,277]\u001b[0m Trial 75 finished with value: 0.7743890261004573 and parameters: {'n_estimators': 88, 'max_depth': 10, 'min_samples_leaf': 4, 'min_samples_split': 4}. Best is trial 53 with value: 0.7948427831534206.\u001b[0m\n",
      "\u001b[32m[I 2023-08-24 14:24:03,729]\u001b[0m Trial 76 finished with value: 0.7876963718653325 and parameters: {'n_estimators': 85, 'max_depth': 9, 'min_samples_leaf': 2, 'min_samples_split': 7}. Best is trial 53 with value: 0.7948427831534206.\u001b[0m\n",
      "\u001b[32m[I 2023-08-24 14:24:06,595]\u001b[0m Trial 77 finished with value: 0.7856057313182119 and parameters: {'n_estimators': 93, 'max_depth': 10, 'min_samples_leaf': 1, 'min_samples_split': 9}. Best is trial 53 with value: 0.7948427831534206.\u001b[0m\n",
      "\u001b[32m[I 2023-08-24 14:24:09,082]\u001b[0m Trial 78 finished with value: 0.792385482761123 and parameters: {'n_estimators': 80, 'max_depth': 10, 'min_samples_leaf': 2, 'min_samples_split': 5}. Best is trial 53 with value: 0.7948427831534206.\u001b[0m\n",
      "\u001b[32m[I 2023-08-24 14:24:11,510]\u001b[0m Trial 79 finished with value: 0.7920057150573662 and parameters: {'n_estimators': 80, 'max_depth': 9, 'min_samples_leaf': 1, 'min_samples_split': 5}. Best is trial 53 with value: 0.7948427831534206.\u001b[0m\n",
      "\u001b[32m[I 2023-08-24 14:24:13,721]\u001b[0m Trial 80 finished with value: 0.7865759181586427 and parameters: {'n_estimators': 74, 'max_depth': 10, 'min_samples_leaf': 3, 'min_samples_split': 3}. Best is trial 53 with value: 0.7948427831534206.\u001b[0m\n",
      "\u001b[32m[I 2023-08-24 14:24:16,528]\u001b[0m Trial 81 finished with value: 0.7934918185896845 and parameters: {'n_estimators': 89, 'max_depth': 10, 'min_samples_leaf': 2, 'min_samples_split': 4}. Best is trial 53 with value: 0.7948427831534206.\u001b[0m\n",
      "\u001b[32m[I 2023-08-24 14:24:19,042]\u001b[0m Trial 82 finished with value: 0.7743890261004573 and parameters: {'n_estimators': 88, 'max_depth': 10, 'min_samples_leaf': 4, 'min_samples_split': 4}. Best is trial 53 with value: 0.7948427831534206.\u001b[0m\n",
      "\u001b[32m[I 2023-08-24 14:24:21,734]\u001b[0m Trial 83 finished with value: 0.7934827883796272 and parameters: {'n_estimators': 85, 'max_depth': 10, 'min_samples_leaf': 2, 'min_samples_split': 4}. Best is trial 53 with value: 0.7948427831534206.\u001b[0m\n",
      "\u001b[32m[I 2023-08-24 14:24:22,799]\u001b[0m Trial 84 finished with value: 0.7868506436718923 and parameters: {'n_estimators': 32, 'max_depth': 10, 'min_samples_leaf': 1, 'min_samples_split': 4}. Best is trial 53 with value: 0.7948427831534206.\u001b[0m\n",
      "\u001b[32m[I 2023-08-24 14:24:25,181]\u001b[0m Trial 85 finished with value: 0.7841742623014396 and parameters: {'n_estimators': 84, 'max_depth': 9, 'min_samples_leaf': 3, 'min_samples_split': 2}. Best is trial 53 with value: 0.7948427831534206.\u001b[0m\n",
      "\u001b[32m[I 2023-08-24 14:24:27,769]\u001b[0m Trial 86 finished with value: 0.7748865319269763 and parameters: {'n_estimators': 91, 'max_depth': 10, 'min_samples_leaf': 4, 'min_samples_split': 3}. Best is trial 53 with value: 0.7948427831534206.\u001b[0m\n",
      "\u001b[32m[I 2023-08-24 14:24:30,662]\u001b[0m Trial 87 finished with value: 0.7879966243926544 and parameters: {'n_estimators': 97, 'max_depth': 10, 'min_samples_leaf': 3, 'min_samples_split': 4}. Best is trial 53 with value: 0.7948427831534206.\u001b[0m\n",
      "\u001b[32m[I 2023-08-24 14:24:32,639]\u001b[0m Trial 88 finished with value: 0.7097446408217555 and parameters: {'n_estimators': 86, 'max_depth': 9, 'min_samples_leaf': 10, 'min_samples_split': 2}. Best is trial 53 with value: 0.7948427831534206.\u001b[0m\n",
      "\u001b[32m[I 2023-08-24 14:24:35,568]\u001b[0m Trial 89 finished with value: 0.7934131982607526 and parameters: {'n_estimators': 89, 'max_depth': 10, 'min_samples_leaf': 1, 'min_samples_split': 5}. Best is trial 53 with value: 0.7948427831534206.\u001b[0m\n",
      "\u001b[32m[I 2023-08-24 14:24:38,544]\u001b[0m Trial 90 finished with value: 0.796764720206188 and parameters: {'n_estimators': 89, 'max_depth': 10, 'min_samples_leaf': 1, 'min_samples_split': 3}. Best is trial 90 with value: 0.796764720206188.\u001b[0m\n",
      "\u001b[32m[I 2023-08-24 14:24:41,514]\u001b[0m Trial 91 finished with value: 0.7966882393851488 and parameters: {'n_estimators': 90, 'max_depth': 10, 'min_samples_leaf': 1, 'min_samples_split': 3}. Best is trial 90 with value: 0.796764720206188.\u001b[0m\n",
      "\u001b[32m[I 2023-08-24 14:24:44,448]\u001b[0m Trial 92 finished with value: 0.796764720206188 and parameters: {'n_estimators': 89, 'max_depth': 10, 'min_samples_leaf': 1, 'min_samples_split': 3}. Best is trial 90 with value: 0.796764720206188.\u001b[0m\n",
      "\u001b[32m[I 2023-08-24 14:24:47,042]\u001b[0m Trial 93 finished with value: 0.7901505372452196 and parameters: {'n_estimators': 89, 'max_depth': 9, 'min_samples_leaf': 2, 'min_samples_split': 2}. Best is trial 90 with value: 0.796764720206188.\u001b[0m\n",
      "\u001b[32m[I 2023-08-24 14:24:50,101]\u001b[0m Trial 94 finished with value: 0.7965389373472026 and parameters: {'n_estimators': 92, 'max_depth': 10, 'min_samples_leaf': 1, 'min_samples_split': 3}. Best is trial 90 with value: 0.796764720206188.\u001b[0m\n",
      "\u001b[32m[I 2023-08-24 14:24:52,830]\u001b[0m Trial 95 finished with value: 0.787541647893882 and parameters: {'n_estimators': 93, 'max_depth': 10, 'min_samples_leaf': 3, 'min_samples_split': 3}. Best is trial 90 with value: 0.796764720206188.\u001b[0m\n",
      "\u001b[32m[I 2023-08-24 14:24:55,513]\u001b[0m Trial 96 finished with value: 0.7900807184153495 and parameters: {'n_estimators': 92, 'max_depth': 9, 'min_samples_leaf': 2, 'min_samples_split': 3}. Best is trial 90 with value: 0.796764720206188.\u001b[0m\n",
      "\u001b[32m[I 2023-08-24 14:24:56,574]\u001b[0m Trial 97 finished with value: 0.6609984105566324 and parameters: {'n_estimators': 53, 'max_depth': 10, 'min_samples_leaf': 16, 'min_samples_split': 2}. Best is trial 90 with value: 0.796764720206188.\u001b[0m\n",
      "\u001b[32m[I 2023-08-24 14:24:59,413]\u001b[0m Trial 98 finished with value: 0.7930998240703178 and parameters: {'n_estimators': 94, 'max_depth': 9, 'min_samples_leaf': 1, 'min_samples_split': 4}. Best is trial 90 with value: 0.796764720206188.\u001b[0m\n",
      "\u001b[32m[I 2023-08-24 14:25:01,300]\u001b[0m Trial 99 finished with value: 0.7018641546673898 and parameters: {'n_estimators': 98, 'max_depth': 5, 'min_samples_leaf': 2, 'min_samples_split': 3}. Best is trial 90 with value: 0.796764720206188.\u001b[0m\n"
     ]
    },
    {
     "name": "stdout",
     "output_type": "stream",
     "text": [
      "Best r2:  0.796764720206188\n",
      "Best trial: {'n_estimators': 89, 'max_depth': 10, 'min_samples_leaf': 1, 'min_samples_split': 3}\n"
     ]
    }
   ],
   "source": [
    "sampler = TPESampler()\n",
    "study = optuna.create_study(\n",
    "    study_name=\"rf_parameter_opt\",\n",
    "    direction=\"maximize\",\n",
    "    sampler=sampler,\n",
    ")\n",
    "\n",
    "study.optimize(lambda trial : objectiveRF(trial, Ni_X_train, Ni_y_train), n_trials=100)\n",
    "print(\"Best r2: \", study.best_value)\n",
    "print(\"Best trial:\", study.best_trial.params)"
   ]
  },
  {
   "cell_type": "code",
   "execution_count": 45,
   "id": "d71c01fb",
   "metadata": {},
   "outputs": [
    {
     "data": {
      "application/vnd.plotly.v1+json": {
       "config": {
        "plotlyServerURL": "https://plot.ly"
       },
       "data": [
        {
         "dimensions": [
          {
           "label": "Objective Value",
           "range": [
            0.20078875031563506,
            0.796764720206188
           ],
           "values": [
            0.2015196113624011,
            0.7383376009293208,
            0.6075894910218826,
            0.6053826514398472,
            0.20078875031563506,
            0.5653022465949041,
            0.6319554455382822,
            0.691184545267738,
            0.6130359688484974,
            0.696860735715063,
            0.7246310177778437,
            0.7330191700529687,
            0.7543421101874888,
            0.7542171485667695,
            0.7583474985928861,
            0.7606811620476134,
            0.7314607896236616,
            0.7303957065404475,
            0.7539470918817059,
            0.699020831694997,
            0.6939590142710885,
            0.7733927078899665,
            0.7683520844120173,
            0.7566885413459608,
            0.772412294412598,
            0.7623545143331943,
            0.7326540459451275,
            0.680185648296678,
            0.7567064082473614,
            0.6989746459091379,
            0.7609768531642603,
            0.7735178689906657,
            0.7805546099078824,
            0.7796297700862469,
            0.7483770006334127,
            0.787471536949818,
            0.7875029460039139,
            0.761520151056607,
            0.7884671112277191,
            0.48502600591898853,
            0.6527590746633769,
            0.7872575583590289,
            0.7607643400096051,
            0.7832081960210362,
            0.735217293748436,
            0.7742369208507731,
            0.7483728699981214,
            0.7938102403844639,
            0.20472277121780938,
            0.6724124532052855,
            0.5777189279349689,
            0.7832081960210362,
            0.7946878527613623,
            0.7948427831534206,
            0.7947392806602332,
            0.792238757874307,
            0.7892208382430872,
            0.7879919154290974,
            0.7892208382430872,
            0.7815162118598519,
            0.7728649895120212,
            0.7892208382430872,
            0.7914497803540346,
            0.7618345789780461,
            0.7920396394257027,
            0.6961521122955768,
            0.7932989756847909,
            0.7932989756847909,
            0.7877399122611479,
            0.7871498687236758,
            0.6923072611723275,
            0.7564402383577148,
            0.7928353772705306,
            0.6374907241551997,
            0.7808670587489401,
            0.7743890261004573,
            0.7876963718653325,
            0.7856057313182119,
            0.792385482761123,
            0.7920057150573662,
            0.7865759181586427,
            0.7934918185896845,
            0.7743890261004573,
            0.7934827883796272,
            0.7868506436718923,
            0.7841742623014396,
            0.7748865319269763,
            0.7879966243926544,
            0.7097446408217555,
            0.7934131982607526,
            0.796764720206188,
            0.7966882393851488,
            0.796764720206188,
            0.7901505372452196,
            0.7965389373472026,
            0.787541647893882,
            0.7900807184153495,
            0.6609984105566324,
            0.7930998240703178,
            0.7018641546673898
           ]
          },
          {
           "label": "max_depth",
           "range": [
            1,
            10
           ],
           "values": [
            1,
            9,
            4,
            4,
            1,
            3,
            4,
            7,
            4,
            9,
            10,
            10,
            8,
            7,
            7,
            7,
            6,
            6,
            7,
            8,
            5,
            8,
            8,
            8,
            9,
            9,
            10,
            9,
            8,
            6,
            9,
            9,
            10,
            10,
            10,
            10,
            10,
            10,
            10,
            2,
            10,
            10,
            10,
            9,
            9,
            9,
            10,
            10,
            1,
            10,
            3,
            9,
            10,
            10,
            10,
            10,
            9,
            9,
            9,
            8,
            9,
            9,
            10,
            10,
            10,
            5,
            10,
            10,
            10,
            8,
            10,
            10,
            10,
            10,
            9,
            10,
            9,
            10,
            10,
            9,
            10,
            10,
            10,
            10,
            10,
            9,
            10,
            10,
            9,
            10,
            10,
            10,
            10,
            9,
            10,
            10,
            9,
            10,
            9,
            5
           ]
          },
          {
           "label": "min_samples_leaf",
           "range": [
            1,
            20
           ],
           "values": [
            19,
            6,
            20,
            19,
            2,
            17,
            5,
            12,
            14,
            9,
            8,
            7,
            5,
            2,
            1,
            1,
            2,
            1,
            4,
            11,
            4,
            1,
            1,
            3,
            1,
            3,
            6,
            14,
            4,
            9,
            3,
            1,
            1,
            3,
            6,
            3,
            3,
            5,
            3,
            8,
            18,
            3,
            5,
            3,
            7,
            4,
            6,
            2,
            2,
            15,
            7,
            3,
            2,
            2,
            2,
            2,
            2,
            2,
            2,
            2,
            4,
            2,
            2,
            5,
            2,
            4,
            1,
            1,
            1,
            1,
            12,
            1,
            2,
            20,
            1,
            4,
            2,
            1,
            2,
            1,
            3,
            2,
            4,
            2,
            1,
            3,
            4,
            3,
            10,
            1,
            1,
            1,
            1,
            2,
            1,
            3,
            2,
            16,
            1,
            2
           ]
          },
          {
           "label": "min_samples_split",
           "range": [
            2,
            20
           ],
           "values": [
            4,
            3,
            18,
            16,
            19,
            13,
            2,
            6,
            19,
            14,
            8,
            8,
            9,
            11,
            10,
            10,
            11,
            13,
            5,
            10,
            7,
            10,
            13,
            15,
            12,
            13,
            17,
            15,
            12,
            12,
            15,
            13,
            12,
            9,
            9,
            4,
            4,
            4,
            3,
            2,
            3,
            5,
            5,
            3,
            3,
            4,
            6,
            2,
            2,
            5,
            3,
            3,
            4,
            4,
            4,
            6,
            6,
            7,
            6,
            7,
            2,
            6,
            6,
            8,
            6,
            5,
            7,
            7,
            8,
            4,
            7,
            20,
            5,
            5,
            2,
            4,
            7,
            9,
            5,
            5,
            3,
            4,
            4,
            4,
            4,
            2,
            3,
            4,
            2,
            5,
            3,
            3,
            3,
            2,
            3,
            3,
            3,
            2,
            4,
            3
           ]
          },
          {
           "label": "n_estimators",
           "range": [
            10,
            100
           ],
           "values": [
            29,
            22,
            94,
            49,
            28,
            61,
            27,
            82,
            17,
            10,
            48,
            50,
            70,
            70,
            71,
            76,
            96,
            76,
            87,
            62,
            41,
            70,
            81,
            84,
            62,
            59,
            39,
            90,
            64,
            55,
            99,
            78,
            78,
            78,
            77,
            90,
            91,
            91,
            99,
            99,
            93,
            88,
            87,
            95,
            95,
            100,
            87,
            91,
            90,
            85,
            91,
            95,
            97,
            98,
            100,
            100,
            100,
            96,
            100,
            97,
            82,
            100,
            93,
            94,
            97,
            93,
            84,
            84,
            74,
            84,
            67,
            97,
            97,
            82,
            19,
            88,
            85,
            93,
            80,
            80,
            74,
            89,
            88,
            85,
            32,
            84,
            91,
            97,
            86,
            89,
            89,
            90,
            89,
            89,
            92,
            93,
            92,
            53,
            94,
            98
           ]
          }
         ],
         "labelangle": 30,
         "labelside": "bottom",
         "line": {
          "color": [
           0.2015196113624011,
           0.7383376009293208,
           0.6075894910218826,
           0.6053826514398472,
           0.20078875031563506,
           0.5653022465949041,
           0.6319554455382822,
           0.691184545267738,
           0.6130359688484974,
           0.696860735715063,
           0.7246310177778437,
           0.7330191700529687,
           0.7543421101874888,
           0.7542171485667695,
           0.7583474985928861,
           0.7606811620476134,
           0.7314607896236616,
           0.7303957065404475,
           0.7539470918817059,
           0.699020831694997,
           0.6939590142710885,
           0.7733927078899665,
           0.7683520844120173,
           0.7566885413459608,
           0.772412294412598,
           0.7623545143331943,
           0.7326540459451275,
           0.680185648296678,
           0.7567064082473614,
           0.6989746459091379,
           0.7609768531642603,
           0.7735178689906657,
           0.7805546099078824,
           0.7796297700862469,
           0.7483770006334127,
           0.787471536949818,
           0.7875029460039139,
           0.761520151056607,
           0.7884671112277191,
           0.48502600591898853,
           0.6527590746633769,
           0.7872575583590289,
           0.7607643400096051,
           0.7832081960210362,
           0.735217293748436,
           0.7742369208507731,
           0.7483728699981214,
           0.7938102403844639,
           0.20472277121780938,
           0.6724124532052855,
           0.5777189279349689,
           0.7832081960210362,
           0.7946878527613623,
           0.7948427831534206,
           0.7947392806602332,
           0.792238757874307,
           0.7892208382430872,
           0.7879919154290974,
           0.7892208382430872,
           0.7815162118598519,
           0.7728649895120212,
           0.7892208382430872,
           0.7914497803540346,
           0.7618345789780461,
           0.7920396394257027,
           0.6961521122955768,
           0.7932989756847909,
           0.7932989756847909,
           0.7877399122611479,
           0.7871498687236758,
           0.6923072611723275,
           0.7564402383577148,
           0.7928353772705306,
           0.6374907241551997,
           0.7808670587489401,
           0.7743890261004573,
           0.7876963718653325,
           0.7856057313182119,
           0.792385482761123,
           0.7920057150573662,
           0.7865759181586427,
           0.7934918185896845,
           0.7743890261004573,
           0.7934827883796272,
           0.7868506436718923,
           0.7841742623014396,
           0.7748865319269763,
           0.7879966243926544,
           0.7097446408217555,
           0.7934131982607526,
           0.796764720206188,
           0.7966882393851488,
           0.796764720206188,
           0.7901505372452196,
           0.7965389373472026,
           0.787541647893882,
           0.7900807184153495,
           0.6609984105566324,
           0.7930998240703178,
           0.7018641546673898
          ],
          "colorbar": {
           "title": {
            "text": "Objective Value"
           }
          },
          "colorscale": [
           [
            0,
            "rgb(247,251,255)"
           ],
           [
            0.125,
            "rgb(222,235,247)"
           ],
           [
            0.25,
            "rgb(198,219,239)"
           ],
           [
            0.375,
            "rgb(158,202,225)"
           ],
           [
            0.5,
            "rgb(107,174,214)"
           ],
           [
            0.625,
            "rgb(66,146,198)"
           ],
           [
            0.75,
            "rgb(33,113,181)"
           ],
           [
            0.875,
            "rgb(8,81,156)"
           ],
           [
            1,
            "rgb(8,48,107)"
           ]
          ],
          "reversescale": false,
          "showscale": true
         },
         "type": "parcoords"
        }
       ],
       "layout": {
        "template": {
         "data": {
          "bar": [
           {
            "error_x": {
             "color": "#2a3f5f"
            },
            "error_y": {
             "color": "#2a3f5f"
            },
            "marker": {
             "line": {
              "color": "#E5ECF6",
              "width": 0.5
             },
             "pattern": {
              "fillmode": "overlay",
              "size": 10,
              "solidity": 0.2
             }
            },
            "type": "bar"
           }
          ],
          "barpolar": [
           {
            "marker": {
             "line": {
              "color": "#E5ECF6",
              "width": 0.5
             },
             "pattern": {
              "fillmode": "overlay",
              "size": 10,
              "solidity": 0.2
             }
            },
            "type": "barpolar"
           }
          ],
          "carpet": [
           {
            "aaxis": {
             "endlinecolor": "#2a3f5f",
             "gridcolor": "white",
             "linecolor": "white",
             "minorgridcolor": "white",
             "startlinecolor": "#2a3f5f"
            },
            "baxis": {
             "endlinecolor": "#2a3f5f",
             "gridcolor": "white",
             "linecolor": "white",
             "minorgridcolor": "white",
             "startlinecolor": "#2a3f5f"
            },
            "type": "carpet"
           }
          ],
          "choropleth": [
           {
            "colorbar": {
             "outlinewidth": 0,
             "ticks": ""
            },
            "type": "choropleth"
           }
          ],
          "contour": [
           {
            "colorbar": {
             "outlinewidth": 0,
             "ticks": ""
            },
            "colorscale": [
             [
              0,
              "#0d0887"
             ],
             [
              0.1111111111111111,
              "#46039f"
             ],
             [
              0.2222222222222222,
              "#7201a8"
             ],
             [
              0.3333333333333333,
              "#9c179e"
             ],
             [
              0.4444444444444444,
              "#bd3786"
             ],
             [
              0.5555555555555556,
              "#d8576b"
             ],
             [
              0.6666666666666666,
              "#ed7953"
             ],
             [
              0.7777777777777778,
              "#fb9f3a"
             ],
             [
              0.8888888888888888,
              "#fdca26"
             ],
             [
              1,
              "#f0f921"
             ]
            ],
            "type": "contour"
           }
          ],
          "contourcarpet": [
           {
            "colorbar": {
             "outlinewidth": 0,
             "ticks": ""
            },
            "type": "contourcarpet"
           }
          ],
          "heatmap": [
           {
            "colorbar": {
             "outlinewidth": 0,
             "ticks": ""
            },
            "colorscale": [
             [
              0,
              "#0d0887"
             ],
             [
              0.1111111111111111,
              "#46039f"
             ],
             [
              0.2222222222222222,
              "#7201a8"
             ],
             [
              0.3333333333333333,
              "#9c179e"
             ],
             [
              0.4444444444444444,
              "#bd3786"
             ],
             [
              0.5555555555555556,
              "#d8576b"
             ],
             [
              0.6666666666666666,
              "#ed7953"
             ],
             [
              0.7777777777777778,
              "#fb9f3a"
             ],
             [
              0.8888888888888888,
              "#fdca26"
             ],
             [
              1,
              "#f0f921"
             ]
            ],
            "type": "heatmap"
           }
          ],
          "heatmapgl": [
           {
            "colorbar": {
             "outlinewidth": 0,
             "ticks": ""
            },
            "colorscale": [
             [
              0,
              "#0d0887"
             ],
             [
              0.1111111111111111,
              "#46039f"
             ],
             [
              0.2222222222222222,
              "#7201a8"
             ],
             [
              0.3333333333333333,
              "#9c179e"
             ],
             [
              0.4444444444444444,
              "#bd3786"
             ],
             [
              0.5555555555555556,
              "#d8576b"
             ],
             [
              0.6666666666666666,
              "#ed7953"
             ],
             [
              0.7777777777777778,
              "#fb9f3a"
             ],
             [
              0.8888888888888888,
              "#fdca26"
             ],
             [
              1,
              "#f0f921"
             ]
            ],
            "type": "heatmapgl"
           }
          ],
          "histogram": [
           {
            "marker": {
             "pattern": {
              "fillmode": "overlay",
              "size": 10,
              "solidity": 0.2
             }
            },
            "type": "histogram"
           }
          ],
          "histogram2d": [
           {
            "colorbar": {
             "outlinewidth": 0,
             "ticks": ""
            },
            "colorscale": [
             [
              0,
              "#0d0887"
             ],
             [
              0.1111111111111111,
              "#46039f"
             ],
             [
              0.2222222222222222,
              "#7201a8"
             ],
             [
              0.3333333333333333,
              "#9c179e"
             ],
             [
              0.4444444444444444,
              "#bd3786"
             ],
             [
              0.5555555555555556,
              "#d8576b"
             ],
             [
              0.6666666666666666,
              "#ed7953"
             ],
             [
              0.7777777777777778,
              "#fb9f3a"
             ],
             [
              0.8888888888888888,
              "#fdca26"
             ],
             [
              1,
              "#f0f921"
             ]
            ],
            "type": "histogram2d"
           }
          ],
          "histogram2dcontour": [
           {
            "colorbar": {
             "outlinewidth": 0,
             "ticks": ""
            },
            "colorscale": [
             [
              0,
              "#0d0887"
             ],
             [
              0.1111111111111111,
              "#46039f"
             ],
             [
              0.2222222222222222,
              "#7201a8"
             ],
             [
              0.3333333333333333,
              "#9c179e"
             ],
             [
              0.4444444444444444,
              "#bd3786"
             ],
             [
              0.5555555555555556,
              "#d8576b"
             ],
             [
              0.6666666666666666,
              "#ed7953"
             ],
             [
              0.7777777777777778,
              "#fb9f3a"
             ],
             [
              0.8888888888888888,
              "#fdca26"
             ],
             [
              1,
              "#f0f921"
             ]
            ],
            "type": "histogram2dcontour"
           }
          ],
          "mesh3d": [
           {
            "colorbar": {
             "outlinewidth": 0,
             "ticks": ""
            },
            "type": "mesh3d"
           }
          ],
          "parcoords": [
           {
            "line": {
             "colorbar": {
              "outlinewidth": 0,
              "ticks": ""
             }
            },
            "type": "parcoords"
           }
          ],
          "pie": [
           {
            "automargin": true,
            "type": "pie"
           }
          ],
          "scatter": [
           {
            "marker": {
             "colorbar": {
              "outlinewidth": 0,
              "ticks": ""
             }
            },
            "type": "scatter"
           }
          ],
          "scatter3d": [
           {
            "line": {
             "colorbar": {
              "outlinewidth": 0,
              "ticks": ""
             }
            },
            "marker": {
             "colorbar": {
              "outlinewidth": 0,
              "ticks": ""
             }
            },
            "type": "scatter3d"
           }
          ],
          "scattercarpet": [
           {
            "marker": {
             "colorbar": {
              "outlinewidth": 0,
              "ticks": ""
             }
            },
            "type": "scattercarpet"
           }
          ],
          "scattergeo": [
           {
            "marker": {
             "colorbar": {
              "outlinewidth": 0,
              "ticks": ""
             }
            },
            "type": "scattergeo"
           }
          ],
          "scattergl": [
           {
            "marker": {
             "colorbar": {
              "outlinewidth": 0,
              "ticks": ""
             }
            },
            "type": "scattergl"
           }
          ],
          "scattermapbox": [
           {
            "marker": {
             "colorbar": {
              "outlinewidth": 0,
              "ticks": ""
             }
            },
            "type": "scattermapbox"
           }
          ],
          "scatterpolar": [
           {
            "marker": {
             "colorbar": {
              "outlinewidth": 0,
              "ticks": ""
             }
            },
            "type": "scatterpolar"
           }
          ],
          "scatterpolargl": [
           {
            "marker": {
             "colorbar": {
              "outlinewidth": 0,
              "ticks": ""
             }
            },
            "type": "scatterpolargl"
           }
          ],
          "scatterternary": [
           {
            "marker": {
             "colorbar": {
              "outlinewidth": 0,
              "ticks": ""
             }
            },
            "type": "scatterternary"
           }
          ],
          "surface": [
           {
            "colorbar": {
             "outlinewidth": 0,
             "ticks": ""
            },
            "colorscale": [
             [
              0,
              "#0d0887"
             ],
             [
              0.1111111111111111,
              "#46039f"
             ],
             [
              0.2222222222222222,
              "#7201a8"
             ],
             [
              0.3333333333333333,
              "#9c179e"
             ],
             [
              0.4444444444444444,
              "#bd3786"
             ],
             [
              0.5555555555555556,
              "#d8576b"
             ],
             [
              0.6666666666666666,
              "#ed7953"
             ],
             [
              0.7777777777777778,
              "#fb9f3a"
             ],
             [
              0.8888888888888888,
              "#fdca26"
             ],
             [
              1,
              "#f0f921"
             ]
            ],
            "type": "surface"
           }
          ],
          "table": [
           {
            "cells": {
             "fill": {
              "color": "#EBF0F8"
             },
             "line": {
              "color": "white"
             }
            },
            "header": {
             "fill": {
              "color": "#C8D4E3"
             },
             "line": {
              "color": "white"
             }
            },
            "type": "table"
           }
          ]
         },
         "layout": {
          "annotationdefaults": {
           "arrowcolor": "#2a3f5f",
           "arrowhead": 0,
           "arrowwidth": 1
          },
          "autotypenumbers": "strict",
          "coloraxis": {
           "colorbar": {
            "outlinewidth": 0,
            "ticks": ""
           }
          },
          "colorscale": {
           "diverging": [
            [
             0,
             "#8e0152"
            ],
            [
             0.1,
             "#c51b7d"
            ],
            [
             0.2,
             "#de77ae"
            ],
            [
             0.3,
             "#f1b6da"
            ],
            [
             0.4,
             "#fde0ef"
            ],
            [
             0.5,
             "#f7f7f7"
            ],
            [
             0.6,
             "#e6f5d0"
            ],
            [
             0.7,
             "#b8e186"
            ],
            [
             0.8,
             "#7fbc41"
            ],
            [
             0.9,
             "#4d9221"
            ],
            [
             1,
             "#276419"
            ]
           ],
           "sequential": [
            [
             0,
             "#0d0887"
            ],
            [
             0.1111111111111111,
             "#46039f"
            ],
            [
             0.2222222222222222,
             "#7201a8"
            ],
            [
             0.3333333333333333,
             "#9c179e"
            ],
            [
             0.4444444444444444,
             "#bd3786"
            ],
            [
             0.5555555555555556,
             "#d8576b"
            ],
            [
             0.6666666666666666,
             "#ed7953"
            ],
            [
             0.7777777777777778,
             "#fb9f3a"
            ],
            [
             0.8888888888888888,
             "#fdca26"
            ],
            [
             1,
             "#f0f921"
            ]
           ],
           "sequentialminus": [
            [
             0,
             "#0d0887"
            ],
            [
             0.1111111111111111,
             "#46039f"
            ],
            [
             0.2222222222222222,
             "#7201a8"
            ],
            [
             0.3333333333333333,
             "#9c179e"
            ],
            [
             0.4444444444444444,
             "#bd3786"
            ],
            [
             0.5555555555555556,
             "#d8576b"
            ],
            [
             0.6666666666666666,
             "#ed7953"
            ],
            [
             0.7777777777777778,
             "#fb9f3a"
            ],
            [
             0.8888888888888888,
             "#fdca26"
            ],
            [
             1,
             "#f0f921"
            ]
           ]
          },
          "colorway": [
           "#636efa",
           "#EF553B",
           "#00cc96",
           "#ab63fa",
           "#FFA15A",
           "#19d3f3",
           "#FF6692",
           "#B6E880",
           "#FF97FF",
           "#FECB52"
          ],
          "font": {
           "color": "#2a3f5f"
          },
          "geo": {
           "bgcolor": "white",
           "lakecolor": "white",
           "landcolor": "#E5ECF6",
           "showlakes": true,
           "showland": true,
           "subunitcolor": "white"
          },
          "hoverlabel": {
           "align": "left"
          },
          "hovermode": "closest",
          "mapbox": {
           "style": "light"
          },
          "paper_bgcolor": "white",
          "plot_bgcolor": "#E5ECF6",
          "polar": {
           "angularaxis": {
            "gridcolor": "white",
            "linecolor": "white",
            "ticks": ""
           },
           "bgcolor": "#E5ECF6",
           "radialaxis": {
            "gridcolor": "white",
            "linecolor": "white",
            "ticks": ""
           }
          },
          "scene": {
           "xaxis": {
            "backgroundcolor": "#E5ECF6",
            "gridcolor": "white",
            "gridwidth": 2,
            "linecolor": "white",
            "showbackground": true,
            "ticks": "",
            "zerolinecolor": "white"
           },
           "yaxis": {
            "backgroundcolor": "#E5ECF6",
            "gridcolor": "white",
            "gridwidth": 2,
            "linecolor": "white",
            "showbackground": true,
            "ticks": "",
            "zerolinecolor": "white"
           },
           "zaxis": {
            "backgroundcolor": "#E5ECF6",
            "gridcolor": "white",
            "gridwidth": 2,
            "linecolor": "white",
            "showbackground": true,
            "ticks": "",
            "zerolinecolor": "white"
           }
          },
          "shapedefaults": {
           "line": {
            "color": "#2a3f5f"
           }
          },
          "ternary": {
           "aaxis": {
            "gridcolor": "white",
            "linecolor": "white",
            "ticks": ""
           },
           "baxis": {
            "gridcolor": "white",
            "linecolor": "white",
            "ticks": ""
           },
           "bgcolor": "#E5ECF6",
           "caxis": {
            "gridcolor": "white",
            "linecolor": "white",
            "ticks": ""
           }
          },
          "title": {
           "x": 0.05
          },
          "xaxis": {
           "automargin": true,
           "gridcolor": "white",
           "linecolor": "white",
           "ticks": "",
           "title": {
            "standoff": 15
           },
           "zerolinecolor": "white",
           "zerolinewidth": 2
          },
          "yaxis": {
           "automargin": true,
           "gridcolor": "white",
           "linecolor": "white",
           "ticks": "",
           "title": {
            "standoff": 15
           },
           "zerolinecolor": "white",
           "zerolinewidth": 2
          }
         }
        },
        "title": {
         "text": "Parallel Coordinate Plot"
        }
       }
      }
     },
     "metadata": {},
     "output_type": "display_data"
    }
   ],
   "source": [
    "optuna.visualization.plot_parallel_coordinate(study)"
   ]
  },
  {
   "cell_type": "code",
   "execution_count": 46,
   "id": "1d419df8",
   "metadata": {},
   "outputs": [
    {
     "name": "stdout",
     "output_type": "stream",
     "text": [
      "Best trial: {'n_estimators': 89, 'max_depth': 10, 'min_samples_leaf': 1, 'min_samples_split': 3}\n"
     ]
    },
    {
     "data": {
      "text/plain": [
       "89"
      ]
     },
     "execution_count": 46,
     "metadata": {},
     "output_type": "execute_result"
    }
   ],
   "source": [
    "print(\"Best trial:\", study.best_trial.params)\n",
    "study.best_trial.params[\"n_estimators\"]"
   ]
  },
  {
   "cell_type": "code",
   "execution_count": 47,
   "id": "ffefef6c",
   "metadata": {},
   "outputs": [
    {
     "data": {
      "text/html": [
       "<style>#sk-container-id-3 {color: black;}#sk-container-id-3 pre{padding: 0;}#sk-container-id-3 div.sk-toggleable {background-color: white;}#sk-container-id-3 label.sk-toggleable__label {cursor: pointer;display: block;width: 100%;margin-bottom: 0;padding: 0.3em;box-sizing: border-box;text-align: center;}#sk-container-id-3 label.sk-toggleable__label-arrow:before {content: \"▸\";float: left;margin-right: 0.25em;color: #696969;}#sk-container-id-3 label.sk-toggleable__label-arrow:hover:before {color: black;}#sk-container-id-3 div.sk-estimator:hover label.sk-toggleable__label-arrow:before {color: black;}#sk-container-id-3 div.sk-toggleable__content {max-height: 0;max-width: 0;overflow: hidden;text-align: left;background-color: #f0f8ff;}#sk-container-id-3 div.sk-toggleable__content pre {margin: 0.2em;color: black;border-radius: 0.25em;background-color: #f0f8ff;}#sk-container-id-3 input.sk-toggleable__control:checked~div.sk-toggleable__content {max-height: 200px;max-width: 100%;overflow: auto;}#sk-container-id-3 input.sk-toggleable__control:checked~label.sk-toggleable__label-arrow:before {content: \"▾\";}#sk-container-id-3 div.sk-estimator input.sk-toggleable__control:checked~label.sk-toggleable__label {background-color: #d4ebff;}#sk-container-id-3 div.sk-label input.sk-toggleable__control:checked~label.sk-toggleable__label {background-color: #d4ebff;}#sk-container-id-3 input.sk-hidden--visually {border: 0;clip: rect(1px 1px 1px 1px);clip: rect(1px, 1px, 1px, 1px);height: 1px;margin: -1px;overflow: hidden;padding: 0;position: absolute;width: 1px;}#sk-container-id-3 div.sk-estimator {font-family: monospace;background-color: #f0f8ff;border: 1px dotted black;border-radius: 0.25em;box-sizing: border-box;margin-bottom: 0.5em;}#sk-container-id-3 div.sk-estimator:hover {background-color: #d4ebff;}#sk-container-id-3 div.sk-parallel-item::after {content: \"\";width: 100%;border-bottom: 1px solid gray;flex-grow: 1;}#sk-container-id-3 div.sk-label:hover label.sk-toggleable__label {background-color: #d4ebff;}#sk-container-id-3 div.sk-serial::before {content: \"\";position: absolute;border-left: 1px solid gray;box-sizing: border-box;top: 0;bottom: 0;left: 50%;z-index: 0;}#sk-container-id-3 div.sk-serial {display: flex;flex-direction: column;align-items: center;background-color: white;padding-right: 0.2em;padding-left: 0.2em;position: relative;}#sk-container-id-3 div.sk-item {position: relative;z-index: 1;}#sk-container-id-3 div.sk-parallel {display: flex;align-items: stretch;justify-content: center;background-color: white;position: relative;}#sk-container-id-3 div.sk-item::before, #sk-container-id-3 div.sk-parallel-item::before {content: \"\";position: absolute;border-left: 1px solid gray;box-sizing: border-box;top: 0;bottom: 0;left: 50%;z-index: -1;}#sk-container-id-3 div.sk-parallel-item {display: flex;flex-direction: column;z-index: 1;position: relative;background-color: white;}#sk-container-id-3 div.sk-parallel-item:first-child::after {align-self: flex-end;width: 50%;}#sk-container-id-3 div.sk-parallel-item:last-child::after {align-self: flex-start;width: 50%;}#sk-container-id-3 div.sk-parallel-item:only-child::after {width: 0;}#sk-container-id-3 div.sk-dashed-wrapped {border: 1px dashed gray;margin: 0 0.4em 0.5em 0.4em;box-sizing: border-box;padding-bottom: 0.4em;background-color: white;}#sk-container-id-3 div.sk-label label {font-family: monospace;font-weight: bold;display: inline-block;line-height: 1.2em;}#sk-container-id-3 div.sk-label-container {text-align: center;}#sk-container-id-3 div.sk-container {/* jupyter's `normalize.less` sets `[hidden] { display: none; }` but bootstrap.min.css set `[hidden] { display: none !important; }` so we also need the `!important` here to be able to override the default hidden behavior on the sphinx rendered scikit-learn.org. See: https://github.com/scikit-learn/scikit-learn/issues/21755 */display: inline-block !important;position: relative;}#sk-container-id-3 div.sk-text-repr-fallback {display: none;}</style><div id=\"sk-container-id-3\" class=\"sk-top-container\"><div class=\"sk-text-repr-fallback\"><pre>RandomForestRegressor(max_depth=10, min_samples_split=3, n_estimators=89,\n",
       "                      random_state=42)</pre><b>In a Jupyter environment, please rerun this cell to show the HTML representation or trust the notebook. <br />On GitHub, the HTML representation is unable to render, please try loading this page with nbviewer.org.</b></div><div class=\"sk-container\" hidden><div class=\"sk-item\"><div class=\"sk-estimator sk-toggleable\"><input class=\"sk-toggleable__control sk-hidden--visually\" id=\"sk-estimator-id-3\" type=\"checkbox\" checked><label for=\"sk-estimator-id-3\" class=\"sk-toggleable__label sk-toggleable__label-arrow\">RandomForestRegressor</label><div class=\"sk-toggleable__content\"><pre>RandomForestRegressor(max_depth=10, min_samples_split=3, n_estimators=89,\n",
       "                      random_state=42)</pre></div></div></div></div></div>"
      ],
      "text/plain": [
       "RandomForestRegressor(max_depth=10, min_samples_split=3, n_estimators=89,\n",
       "                      random_state=42)"
      ]
     },
     "execution_count": 47,
     "metadata": {},
     "output_type": "execute_result"
    }
   ],
   "source": [
    "rf_params = {\n",
    "    \"random_state\": 42,\n",
    "    #\"learning_rate\": 0.1,\n",
    "    \"n_estimators\": study.best_trial.params[\"n_estimators\"],\n",
    "    \"max_depth\": study.best_trial.params[\"max_depth\"],\n",
    "    \"min_samples_leaf\": study.best_trial.params[\"min_samples_leaf\"],\n",
    "    \"min_samples_split\": study.best_trial.params[\"min_samples_split\"],\n",
    "    #\"subsample\": study.best_trial.params[\"subsample\"]\n",
    "}\n",
    "\n",
    "rf = RandomForestRegressor(**rf_params)\n",
    "rf.fit(Ni_X_train, Ni_y_train)"
   ]
  },
  {
   "cell_type": "code",
   "execution_count": 48,
   "id": "4c1a69d2",
   "metadata": {},
   "outputs": [],
   "source": [
    "y_train_pred = rf.predict(Ni_X_train)\n",
    "y_test_pred = rf.predict(Ni_X_test)"
   ]
  },
  {
   "cell_type": "code",
   "execution_count": 49,
   "id": "0f707a20",
   "metadata": {},
   "outputs": [
    {
     "name": "stdout",
     "output_type": "stream",
     "text": [
      "Train RMSE:  0.2876313246481002\n",
      "Test RMSE:  0.6468743693083591\n"
     ]
    }
   ],
   "source": [
    "print(\"Train RMSE: \", np.sqrt(mean_squared_error(Ni_y_train, y_train_pred)))\n",
    "print(\"Test RMSE: \", np.sqrt(mean_squared_error(Ni_y_test, y_test_pred)))"
   ]
  },
  {
   "cell_type": "code",
   "execution_count": 50,
   "id": "641d78f4",
   "metadata": {},
   "outputs": [
    {
     "name": "stdout",
     "output_type": "stream",
     "text": [
      "Train R2:  0.9429658768580365\n",
      "Test R2:  0.7320512145812428\n"
     ]
    }
   ],
   "source": [
    "print(\"Train R2: \", r2_score(Ni_y_train, y_train_pred))\n",
    "print(\"Test R2: \", r2_score(Ni_y_test, y_test_pred))"
   ]
  },
  {
   "cell_type": "code",
   "execution_count": 51,
   "id": "dd1670cb",
   "metadata": {},
   "outputs": [
    {
     "data": {
      "image/png": "[encoded data removed]",
      "text/plain": [
       "<Figure size 640x480 with 1 Axes>"
      ]
     },
     "metadata": {},
     "output_type": "display_data"
    }
   ],
   "source": [
    "plt.scatter(y_train_pred, np.array(Ni_y_train), color=\"orange\", alpha=0.3)\n",
    "plt.scatter(y_test_pred, np.array(Ni_y_test), color=\"green\", alpha=0.4)\n",
    "plt.axis(\"auto\") # scaled, tight, auto, image, square\n",
    "# plt.xlim([0, 1.5]) \n",
    "# plt.ylim(0, None) \n",
    "plt.xlabel('Predicted Values')\n",
    "plt.ylabel('Actual Values')\n",
    "\n",
    "# Add y=x line\n",
    "plt.plot([0, 4.0], [0, 4.0], color='red', linestyle='-')\n",
    "\n",
    "plt.show()"
   ]
  }
 ],
 "metadata": {
  "kernelspec": {
   "display_name": "base",
   "language": "python",
   "name": "python3"
  },
  "language_info": {
   "codemirror_mode": {
    "name": "ipython",
    "version": 3
   },
   "file_extension": ".py",
   "mimetype": "text/x-python",
   "name": "python",
   "nbconvert_exporter": "python",
   "pygments_lexer": "ipython3",
   "version": "3.8.11"
  },
  "vscode": {
   "interpreter": {
    "hash": "ba68d4d491ed2bf1e98a1b536323f5ca7371de2084cca3d5786e07ce079a51c3"
   }
  }
 },
 "nbformat": 4,
 "nbformat_minor": 5
}
