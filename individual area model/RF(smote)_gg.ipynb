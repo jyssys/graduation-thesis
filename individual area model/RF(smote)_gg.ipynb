{
 "cells": [
  {
   "attachments": {},
   "cell_type": "markdown",
   "id": "451911be",
   "metadata": {},
   "source": [
    "#### Library import"
   ]
  },
  {
   "cell_type": "code",
   "execution_count": 1,
   "id": "8a394942",
   "metadata": {},
   "outputs": [],
   "source": [
    "import os\n",
    "import pandas as pd\n",
    "import numpy as np\n",
    "import matplotlib.pyplot as plt\n",
    "%matplotlib inline\n",
    "import seaborn as sns\n",
    "import tensorflow as tf\n",
    "import missingno as msno\n",
    "\n",
    "import warnings\n",
    "warnings.filterwarnings('ignore')\n",
    "\n",
    "from sklearn.model_selection import train_test_split\n",
    "from sklearn.model_selection import GridSearchCV\n",
    "from sklearn.metrics import mean_squared_error, r2_score\n",
    "from sklearn.preprocessing import StandardScaler, MinMaxScaler, RobustScaler\n",
    "from sklearn.ensemble import RandomForestRegressor, GradientBoostingRegressor, ExtraTreesRegressor\n",
    "from sklearn.model_selection import KFold\n",
    "from lightgbm import LGBMRegressor\n",
    "from xgboost import XGBRegressor\n",
    "from ngboost import NGBRegressor\n",
    "from scipy.stats import norm, skew\n",
    "\n",
    "from matplotlib.ticker import FormatStrFormatter\n",
    "\n",
    "from tensorflow import keras\n",
    "\n",
    "import re\n",
    "from tqdm import tqdm"
   ]
  },
  {
   "attachments": {},
   "cell_type": "markdown",
   "id": "31a13d68",
   "metadata": {},
   "source": [
    "#### GPU setting"
   ]
  },
  {
   "cell_type": "code",
   "execution_count": 2,
   "id": "cff3cada",
   "metadata": {},
   "outputs": [],
   "source": [
    "from tensorflow.compat.v1 import ConfigProto\n",
    "from tensorflow.compat.v1 import InteractiveSession"
   ]
  },
  {
   "cell_type": "code",
   "execution_count": 3,
   "id": "fb88e9c0",
   "metadata": {},
   "outputs": [],
   "source": [
    "config = ConfigProto()\n",
    "config.gpu_options.per_process_gpu_memory_fraction = 0.4\n",
    "session = InteractiveSession(config = config)"
   ]
  },
  {
   "cell_type": "code",
   "execution_count": 4,
   "id": "ea8f0f47",
   "metadata": {},
   "outputs": [
    {
     "name": "stdout",
     "output_type": "stream",
     "text": [
      "[name: \"/device:CPU:0\"\n",
      "device_type: \"CPU\"\n",
      "memory_limit: 268435456\n",
      "locality {\n",
      "}\n",
      "incarnation: 415026023423878150\n",
      ", name: \"/device:GPU:0\"\n",
      "device_type: \"GPU\"\n",
      "memory_limit: 3435973836\n",
      "locality {\n",
      "  bus_id: 1\n",
      "  links {\n",
      "  }\n",
      "}\n",
      "incarnation: 15544431410870753611\n",
      "physical_device_desc: \"device: 0, name: NVIDIA GeForce RTX 3060 Ti, pci bus id: 0000:07:00.0, compute capability: 8.6\"\n",
      "]\n"
     ]
    }
   ],
   "source": [
    "physical_devices = tf.config.list_physical_devices('GPU')\n",
    "physical_devices\n",
    "\n",
    "from tensorflow.python.client import device_lib\n",
    "\n",
    "print(device_lib.list_local_devices())"
   ]
  },
  {
   "cell_type": "code",
   "execution_count": 5,
   "id": "cd001f36",
   "metadata": {},
   "outputs": [],
   "source": [
    "import os\n",
    "\n",
    "os.environ[\"CUDA_VISIBLE_DEVICES\"]=\"0\"\n",
    "gpus = tf.config.experimental.list_physical_devices('GPU')\n",
    "if gpus:\n",
    "    try:\n",
    "        tf.config.experimental.set_memory_growth(gpus[0], True)\n",
    "    except RuntimeError as e:\n",
    "        print(e)"
   ]
  },
  {
   "attachments": {},
   "cell_type": "markdown",
   "id": "cb740f81",
   "metadata": {},
   "source": [
    "#### Data import and preprocessing"
   ]
  },
  {
   "cell_type": "code",
   "execution_count": 6,
   "id": "9288345d",
   "metadata": {
    "scrolled": true
   },
   "outputs": [
    {
     "data": {
      "text/plain": [
       "Index(['OBJECTID_x', 'ID', 'pH', 'As', 'Cd', 'Ni', 'Pb', 'Zn', 'Hg', 'slope',\n",
       "       'altitude', 'profile_curve', 'profile_c_num', 'profile_c_abs',\n",
       "       'planform_curve', 'planform_c_num', 'planform_c_abs', 'HYDGRP',\n",
       "       'HYDGRP_A', 'HYDGRP_B', 'HYDGRP_C', 'HYDGRP_D', 'ANION_EXCL', 'SOL_CRK',\n",
       "       'SOL_K1', 'CLAY1', 'SILT1', 'SAND1', 'ROCK1', 'SOL_EC1', 'distance'],\n",
       "      dtype='object')"
      ]
     },
     "execution_count": 6,
     "metadata": {},
     "output_type": "execute_result"
    }
   ],
   "source": [
    "data = pd.read_csv(\"data/data_gg.csv\")\n",
    "data.columns"
   ]
  },
  {
   "cell_type": "code",
   "execution_count": 7,
   "id": "bbf87a23",
   "metadata": {},
   "outputs": [
    {
     "data": {
      "text/plain": [
       "Index(['pH', 'As', 'Cd', 'Ni', 'Pb', 'Zn', 'Hg', 'slope', 'altitude',\n",
       "       'profile_curve', 'planform_curve', 'HYDGRP_A', 'HYDGRP_B', 'HYDGRP_C',\n",
       "       'HYDGRP_D', 'SOL_K1', 'CLAY1', 'SILT1', 'SAND1', 'ROCK1', 'distance'],\n",
       "      dtype='object')"
      ]
     },
     "execution_count": 7,
     "metadata": {},
     "output_type": "execute_result"
    }
   ],
   "source": [
    "data = data.drop(['OBJECTID_x','ID','HYDGRP','profile_c_num', 'profile_c_abs','planform_c_num', 'planform_c_abs','ANION_EXCL','SOL_CRK','SOL_EC1'], axis = 1)\n",
    "data.columns"
   ]
  },
  {
   "cell_type": "code",
   "execution_count": 8,
   "id": "3cb8e77e",
   "metadata": {},
   "outputs": [],
   "source": [
    "As = data\n",
    "Cd = data\n",
    "Ni = data"
   ]
  },
  {
   "cell_type": "code",
   "execution_count": 9,
   "id": "45ec138e",
   "metadata": {},
   "outputs": [],
   "source": [
    "As = As.drop([\"Cd\", \"Ni\", \"Pb\", \"Zn\", \"Hg\"], axis = 1)\n",
    "Cd = Cd.drop([\"As\", \"Ni\", \"Pb\", \"Zn\", \"Hg\"], axis = 1)\n",
    "Ni = Ni.drop([\"As\", \"Cd\", \"Pb\", \"Zn\", \"Hg\"], axis = 1)"
   ]
  },
  {
   "cell_type": "code",
   "execution_count": 10,
   "id": "69e10383",
   "metadata": {},
   "outputs": [
    {
     "name": "stdout",
     "output_type": "stream",
     "text": [
      "(781, 16)\n",
      "(781, 16)\n",
      "(781, 16)\n"
     ]
    }
   ],
   "source": [
    "print(As.shape)\n",
    "print(Cd.shape)\n",
    "print(Ni.shape)"
   ]
  },
  {
   "attachments": {},
   "cell_type": "markdown",
   "id": "2b5fd2cd",
   "metadata": {},
   "source": [
    "#### Oversampling by SMOGN (SMOTE Regression)"
   ]
  },
  {
   "cell_type": "code",
   "execution_count": 11,
   "id": "b664ef07",
   "metadata": {},
   "outputs": [],
   "source": [
    "import smogn"
   ]
  },
  {
   "cell_type": "code",
   "execution_count": 12,
   "id": "0797c71f",
   "metadata": {},
   "outputs": [
    {
     "name": "stderr",
     "output_type": "stream",
     "text": [
      "dist_matrix: 100%|##########| 148/148 [00:08<00:00, 16.60it/s]\n",
      "synth_matrix: 100%|##########| 148/148 [00:00<00:00, 528.45it/s]\n",
      "r_index: 100%|##########| 94/94 [00:00<00:00, 481.94it/s]\n",
      "dist_matrix: 100%|##########| 88/88 [00:03<00:00, 27.10it/s]\n",
      "synth_matrix: 100%|##########| 88/88 [00:01<00:00, 87.89it/s]\n",
      "r_index: 100%|##########| 79/79 [00:00<00:00, 572.33it/s]\n",
      "dist_matrix: 100%|##########| 115/115 [00:05<00:00, 21.42it/s]\n",
      "synth_matrix: 100%|##########| 115/115 [00:00<00:00, 147.21it/s]\n",
      "r_index: 100%|##########| 91/91 [00:00<00:00, 602.51it/s]\n"
     ]
    }
   ],
   "source": [
    "As_smogn = smogn.smoter(data = As, y = 'As', samp_method = 'balance')\n",
    "Cd_smogn = smogn.smoter(data = Cd, y = 'Cd', samp_method = 'extreme', k = 7)\n",
    "Ni_smogn = smogn.smoter(data = Ni, y = 'Ni', samp_method = 'extreme', k = 3)"
   ]
  },
  {
   "cell_type": "code",
   "execution_count": 13,
   "id": "cba746a8",
   "metadata": {},
   "outputs": [
    {
     "name": "stdout",
     "output_type": "stream",
     "text": [
      "(633, 16)\n",
      "(1319, 16)\n",
      "(1199, 16)\n"
     ]
    }
   ],
   "source": [
    "print(As_smogn.shape)\n",
    "print(Cd_smogn.shape)\n",
    "print(Ni_smogn.shape)"
   ]
  },
  {
   "cell_type": "code",
   "execution_count": 14,
   "id": "753305c6",
   "metadata": {},
   "outputs": [],
   "source": [
    "As_smogn = As_smogn.reset_index(drop = True)\n",
    "Cd_smogn = Cd_smogn.reset_index(drop = True)\n",
    "Ni_smogn = Ni_smogn.reset_index(drop = True)"
   ]
  },
  {
   "attachments": {},
   "cell_type": "markdown",
   "id": "ed72a9b1",
   "metadata": {},
   "source": [
    "#### Eliminate outlier and train / test split"
   ]
  },
  {
   "cell_type": "code",
   "execution_count": 15,
   "id": "43604a42",
   "metadata": {},
   "outputs": [],
   "source": [
    "def eli_outlier(data, value):\n",
    "    q1 = data[value].quantile(0.25)\n",
    "    q3 = data[value].quantile(0.75)\n",
    "\n",
    "    iqr = q3 - q1\n",
    "\n",
    "    q1_condition = data[value] < q1-1.5*iqr\n",
    "    q3_condition = data[value] > q3+1.5*iqr\n",
    "\n",
    "    reset_q1_index = data[q1_condition].index\n",
    "    reset_q3_index = data[q3_condition].index\n",
    "\n",
    "    data.drop(reset_q1_index, inplace = True)\n",
    "    data.drop(reset_q3_index, inplace = True)\n",
    "\n",
    "    return data"
   ]
  },
  {
   "cell_type": "code",
   "execution_count": 16,
   "id": "9b7632f2",
   "metadata": {},
   "outputs": [],
   "source": [
    "As_ros = eli_outlier(As_smogn, \"As\")\n",
    "Cd_ros = eli_outlier(Cd_smogn, \"Cd\")\n",
    "Ni_ros = eli_outlier(Ni_smogn, \"Ni\")"
   ]
  },
  {
   "cell_type": "code",
   "execution_count": 17,
   "id": "f8609469",
   "metadata": {},
   "outputs": [],
   "source": [
    "As_X = As_ros.drop([\"As\"], axis=1)\n",
    "Cd_X = Cd_ros.drop([\"Cd\"], axis=1)\n",
    "Ni_X = Ni_ros.drop([\"Ni\"], axis=1)\n",
    "\n",
    "As_y = As_ros[\"As\"]\n",
    "Cd_y = Cd_ros[\"Cd\"]\n",
    "Ni_y = Ni_ros[\"Ni\"]"
   ]
  },
  {
   "cell_type": "code",
   "execution_count": 18,
   "id": "7237a19a",
   "metadata": {},
   "outputs": [],
   "source": [
    "As_y = np.log1p(As_ros[\"As\"])\n",
    "Cd_y = np.log1p(Cd_ros[\"Cd\"])\n",
    "Ni_y = np.log1p(Ni_ros[\"Ni\"])"
   ]
  },
  {
   "cell_type": "code",
   "execution_count": 19,
   "id": "ce87d06a",
   "metadata": {},
   "outputs": [
    {
     "name": "stdout",
     "output_type": "stream",
     "text": [
      "(531, 15)\n",
      "(1282, 15)\n",
      "(1132, 15)\n"
     ]
    }
   ],
   "source": [
    "print(As_X.shape)\n",
    "print(Cd_X.shape)\n",
    "print(Ni_X.shape)"
   ]
  },
  {
   "attachments": {},
   "cell_type": "markdown",
   "id": "c92e5bb6",
   "metadata": {},
   "source": [
    "StandardScaler"
   ]
  },
  {
   "cell_type": "code",
   "execution_count": 20,
   "id": "7cb55d9d",
   "metadata": {},
   "outputs": [],
   "source": [
    "from sklearn.preprocessing import StandardScaler\n",
    "\n",
    "scaler = StandardScaler()\n",
    "\n",
    "As_X_train, As_X_test, As_y_train, As_y_test = train_test_split(As_X, As_y, test_size=0.2, random_state=42)\n",
    "Cd_X_train, Cd_X_test, Cd_y_train, Cd_y_test = train_test_split(Cd_X, Cd_y, test_size=0.2, random_state=42)\n",
    "Ni_X_train, Ni_X_test, Ni_y_train, Ni_y_test = train_test_split(Ni_X, Ni_y, test_size=0.2, random_state=42)\n",
    "\n",
    "As_X_train = scaler.fit_transform(As_X_train)\n",
    "As_X_test = scaler.fit_transform(As_X_test)\n",
    "\n",
    "Cd_X_train = scaler.fit_transform(Cd_X_train)\n",
    "Cd_X_test = scaler.fit_transform(Cd_X_test)\n",
    "\n",
    "Ni_X_train = scaler.fit_transform(Ni_X_train)\n",
    "Ni_X_test = scaler.fit_transform(Ni_X_test)"
   ]
  },
  {
   "cell_type": "code",
   "execution_count": 21,
   "id": "416a7027",
   "metadata": {},
   "outputs": [
    {
     "data": {
      "text/plain": [
       "' from sklearn.preprocessing import StandardScaler\\n\\nscaler = StandardScaler()\\nAs_X_scaled = scaler.fit_transform(As_X)\\nCd_X_scaled = scaler.fit_transform(Cd_X)\\nNi_X_scaled = scaler.fit_transform(Ni_X)\\n\\nAs_X_train, As_X_test, As_y_train, As_y_test = train_test_split(As_X_scaled, As_y, test_size=0.2, random_state=42)\\nCd_X_train, Cd_X_test, Cd_y_train, Cd_y_test = train_test_split(Cd_X_scaled, Cd_y, test_size=0.2, random_state=42)\\nNi_X_train, Ni_X_test, Ni_y_train, Ni_y_test = train_test_split(Ni_X_scaled, Ni_y, test_size=0.2, random_state=42) '"
      ]
     },
     "execution_count": 21,
     "metadata": {},
     "output_type": "execute_result"
    }
   ],
   "source": [
    "''' from sklearn.preprocessing import StandardScaler\n",
    "\n",
    "scaler = StandardScaler()\n",
    "As_X_scaled = scaler.fit_transform(As_X)\n",
    "Cd_X_scaled = scaler.fit_transform(Cd_X)\n",
    "Ni_X_scaled = scaler.fit_transform(Ni_X)\n",
    "\n",
    "As_X_train, As_X_test, As_y_train, As_y_test = train_test_split(As_X_scaled, As_y, test_size=0.2, random_state=42)\n",
    "Cd_X_train, Cd_X_test, Cd_y_train, Cd_y_test = train_test_split(Cd_X_scaled, Cd_y, test_size=0.2, random_state=42)\n",
    "Ni_X_train, Ni_X_test, Ni_y_train, Ni_y_test = train_test_split(Ni_X_scaled, Ni_y, test_size=0.2, random_state=42) '''"
   ]
  },
  {
   "attachments": {},
   "cell_type": "markdown",
   "id": "2fe0d293",
   "metadata": {},
   "source": [
    "MinMaxScaler"
   ]
  },
  {
   "cell_type": "code",
   "execution_count": 22,
   "id": "e8596f9f",
   "metadata": {},
   "outputs": [],
   "source": [
    "# from sklearn.preprocessing import MinMaxScaler\n",
    "\n",
    "# scaler = MinMaxScaler()\n",
    "# As_X_scaled = scaler.fit_transform(As_X)\n",
    "# Cd_X_scaled = scaler.fit_transform(Cd_X)\n",
    "# Ni_X_scaled = scaler.fit_transform(Ni_X)\n",
    "\n",
    "# As_X_train, As_X_test, As_y_train, As_y_test = train_test_split(As_X_scaled, As_y, test_size=0.2, random_state=42)\n",
    "# Cd_X_train, Cd_X_test, Cd_y_train, Cd_y_test = train_test_split(Cd_X_scaled, Cd_y, test_size=0.2, random_state=42)\n",
    "# Ni_X_train, Ni_X_test, Ni_y_train, Ni_y_test = train_test_split(Ni_X_scaled, Ni_y, test_size=0.2, random_state=42)"
   ]
  },
  {
   "cell_type": "code",
   "execution_count": 23,
   "id": "86ccf2fe",
   "metadata": {},
   "outputs": [
    {
     "name": "stdout",
     "output_type": "stream",
     "text": [
      "(424, 15)\n",
      "(1025, 15)\n",
      "(905, 15)\n"
     ]
    }
   ],
   "source": [
    "print(As_X_train.shape)\n",
    "print(Cd_X_train.shape)\n",
    "print(Ni_X_train.shape)"
   ]
  },
  {
   "attachments": {},
   "cell_type": "markdown",
   "id": "bd11b27e",
   "metadata": {},
   "source": [
    "#### 10-Fold Crossvalidation"
   ]
  },
  {
   "cell_type": "code",
   "execution_count": 24,
   "id": "7a765916",
   "metadata": {},
   "outputs": [],
   "source": [
    "kf = KFold(n_splits = 5, random_state = 42, shuffle = True)"
   ]
  },
  {
   "attachments": {},
   "cell_type": "markdown",
   "id": "859638d0",
   "metadata": {},
   "source": [
    "#### Optuna Optimization"
   ]
  },
  {
   "cell_type": "code",
   "execution_count": 25,
   "id": "92a47d83",
   "metadata": {},
   "outputs": [],
   "source": [
    "import optuna\n",
    "\n",
    "from optuna import Trial\n",
    "from optuna.samplers import TPESampler"
   ]
  },
  {
   "cell_type": "code",
   "execution_count": 26,
   "id": "a7669fea",
   "metadata": {},
   "outputs": [],
   "source": [
    "from sklearn.model_selection import cross_val_score\n",
    "\n",
    "def objectiveRF(trial: Trial, X_train, y_train) -> float:\n",
    "    rf_paramas = {\n",
    "        \"random_state\": 42,\n",
    "        #\"learning_rate\": 0.1,\n",
    "        \"n_estimators\": trial.suggest_int(\"n_estimators\", 10, 100),\n",
    "        \"max_depth\": trial.suggest_int(\"max_depth\", 1, 10),\n",
    "        \"min_samples_leaf\": trial.suggest_int(\"min_samples_leaf\", 1, 20),\n",
    "        \"min_samples_split\": trial.suggest_int(\"min_samples_split\", 2, 20),\n",
    "        #\"subsample\": trial.suggest_float(\"subsample\", 0.1, 0.5)\n",
    "    }\n",
    "    \n",
    "    rf = RandomForestRegressor(**rf_paramas)\n",
    "    r2 = cross_val_score(rf, X_train, y_train, scoring = \"r2\", cv = kf)\n",
    "    r2 = r2.mean()\n",
    "    \n",
    "    return r2"
   ]
  },
  {
   "attachments": {},
   "cell_type": "markdown",
   "id": "b0988f46",
   "metadata": {},
   "source": [
    "####  Optimization"
   ]
  },
  {
   "cell_type": "code",
   "execution_count": 27,
   "id": "94f5e00d",
   "metadata": {
    "scrolled": false
   },
   "outputs": [
    {
     "name": "stderr",
     "output_type": "stream",
     "text": [
      "\u001b[32m[I 2023-08-30 02:04:10,630]\u001b[0m A new study created in memory with name: rf_parameter_opt\u001b[0m\n",
      "\u001b[32m[I 2023-08-30 02:04:10,999]\u001b[0m Trial 0 finished with value: 0.37769371692142073 and parameters: {'n_estimators': 22, 'max_depth': 8, 'min_samples_leaf': 2, 'min_samples_split': 9}. Best is trial 0 with value: 0.37769371692142073.\u001b[0m\n",
      "\u001b[32m[I 2023-08-30 02:04:11,628]\u001b[0m Trial 1 finished with value: 0.2900223951188591 and parameters: {'n_estimators': 65, 'max_depth': 3, 'min_samples_leaf': 13, 'min_samples_split': 6}. Best is trial 0 with value: 0.37769371692142073.\u001b[0m\n",
      "\u001b[32m[I 2023-08-30 02:04:12,156]\u001b[0m Trial 2 finished with value: 0.2175735191388631 and parameters: {'n_estimators': 60, 'max_depth': 2, 'min_samples_leaf': 14, 'min_samples_split': 3}. Best is trial 0 with value: 0.37769371692142073.\u001b[0m\n",
      "\u001b[32m[I 2023-08-30 02:04:12,373]\u001b[0m Trial 3 finished with value: 0.31030693344478044 and parameters: {'n_estimators': 21, 'max_depth': 8, 'min_samples_leaf': 17, 'min_samples_split': 18}. Best is trial 0 with value: 0.37769371692142073.\u001b[0m\n",
      "\u001b[32m[I 2023-08-30 02:04:12,867]\u001b[0m Trial 4 finished with value: 0.21765387893956997 and parameters: {'n_estimators': 62, 'max_depth': 2, 'min_samples_leaf': 8, 'min_samples_split': 17}. Best is trial 0 with value: 0.37769371692142073.\u001b[0m\n",
      "\u001b[32m[I 2023-08-30 02:04:13,445]\u001b[0m Trial 5 finished with value: 0.11270301501892428 and parameters: {'n_estimators': 90, 'max_depth': 1, 'min_samples_leaf': 13, 'min_samples_split': 5}. Best is trial 0 with value: 0.37769371692142073.\u001b[0m\n",
      "\u001b[32m[I 2023-08-30 02:04:14,075]\u001b[0m Trial 6 finished with value: 0.21789406118410964 and parameters: {'n_estimators': 80, 'max_depth': 2, 'min_samples_leaf': 15, 'min_samples_split': 11}. Best is trial 0 with value: 0.37769371692142073.\u001b[0m\n",
      "\u001b[32m[I 2023-08-30 02:04:14,234]\u001b[0m Trial 7 finished with value: 0.11714440418398711 and parameters: {'n_estimators': 22, 'max_depth': 1, 'min_samples_leaf': 3, 'min_samples_split': 12}. Best is trial 0 with value: 0.37769371692142073.\u001b[0m\n",
      "\u001b[32m[I 2023-08-30 02:04:15,093]\u001b[0m Trial 8 finished with value: 0.3758052839671038 and parameters: {'n_estimators': 60, 'max_depth': 8, 'min_samples_leaf': 3, 'min_samples_split': 12}. Best is trial 0 with value: 0.37769371692142073.\u001b[0m\n",
      "\u001b[32m[I 2023-08-30 02:04:15,935]\u001b[0m Trial 9 finished with value: 0.3302701397613619 and parameters: {'n_estimators': 83, 'max_depth': 6, 'min_samples_leaf': 15, 'min_samples_split': 18}. Best is trial 0 with value: 0.37769371692142073.\u001b[0m\n",
      "\u001b[32m[I 2023-08-30 02:04:16,443]\u001b[0m Trial 10 finished with value: 0.36065421699358174 and parameters: {'n_estimators': 39, 'max_depth': 10, 'min_samples_leaf': 7, 'min_samples_split': 9}. Best is trial 0 with value: 0.37769371692142073.\u001b[0m\n",
      "\u001b[32m[I 2023-08-30 02:04:17,125]\u001b[0m Trial 11 finished with value: 0.3807260138312542 and parameters: {'n_estimators': 43, 'max_depth': 8, 'min_samples_leaf': 1, 'min_samples_split': 14}. Best is trial 11 with value: 0.3807260138312542.\u001b[0m\n",
      "\u001b[32m[I 2023-08-30 02:04:17,734]\u001b[0m Trial 12 finished with value: 0.37489622900856323 and parameters: {'n_estimators': 39, 'max_depth': 7, 'min_samples_leaf': 1, 'min_samples_split': 15}. Best is trial 11 with value: 0.3807260138312542.\u001b[0m\n",
      "\u001b[32m[I 2023-08-30 02:04:18,233]\u001b[0m Trial 13 finished with value: 0.36207763263314396 and parameters: {'n_estimators': 37, 'max_depth': 10, 'min_samples_leaf': 6, 'min_samples_split': 8}. Best is trial 11 with value: 0.3807260138312542.\u001b[0m\n",
      "\u001b[32m[I 2023-08-30 02:04:18,370]\u001b[0m Trial 14 finished with value: 0.2862803729847318 and parameters: {'n_estimators': 13, 'max_depth': 5, 'min_samples_leaf': 20, 'min_samples_split': 14}. Best is trial 11 with value: 0.3807260138312542.\u001b[0m\n",
      "\u001b[32m[I 2023-08-30 02:04:19,014]\u001b[0m Trial 15 finished with value: 0.37296660451600105 and parameters: {'n_estimators': 31, 'max_depth': 9, 'min_samples_leaf': 1, 'min_samples_split': 9}. Best is trial 11 with value: 0.3807260138312542.\u001b[0m\n",
      "\u001b[32m[I 2023-08-30 02:04:19,594]\u001b[0m Trial 16 finished with value: 0.34526285992363587 and parameters: {'n_estimators': 47, 'max_depth': 5, 'min_samples_leaf': 4, 'min_samples_split': 20}. Best is trial 11 with value: 0.3807260138312542.\u001b[0m\n",
      "\u001b[32m[I 2023-08-30 02:04:19,721]\u001b[0m Trial 17 finished with value: 0.33245629955931133 and parameters: {'n_estimators': 10, 'max_depth': 7, 'min_samples_leaf': 10, 'min_samples_split': 14}. Best is trial 11 with value: 0.3807260138312542.\u001b[0m\n",
      "\u001b[32m[I 2023-08-30 02:04:20,092]\u001b[0m Trial 18 finished with value: 0.3687705062818204 and parameters: {'n_estimators': 26, 'max_depth': 8, 'min_samples_leaf': 5, 'min_samples_split': 2}. Best is trial 11 with value: 0.3807260138312542.\u001b[0m\n",
      "\u001b[32m[I 2023-08-30 02:04:20,659]\u001b[0m Trial 19 finished with value: 0.35208827904561024 and parameters: {'n_estimators': 49, 'max_depth': 6, 'min_samples_leaf': 9, 'min_samples_split': 6}. Best is trial 11 with value: 0.3807260138312542.\u001b[0m\n",
      "\u001b[32m[I 2023-08-30 02:04:21,244]\u001b[0m Trial 20 finished with value: 0.3269692026229475 and parameters: {'n_estimators': 48, 'max_depth': 4, 'min_samples_leaf': 1, 'min_samples_split': 11}. Best is trial 11 with value: 0.3807260138312542.\u001b[0m\n",
      "\u001b[32m[I 2023-08-30 02:04:22,383]\u001b[0m Trial 21 finished with value: 0.37500349020572654 and parameters: {'n_estimators': 76, 'max_depth': 8, 'min_samples_leaf': 3, 'min_samples_split': 12}. Best is trial 11 with value: 0.3807260138312542.\u001b[0m\n",
      "\u001b[32m[I 2023-08-30 02:04:23,390]\u001b[0m Trial 22 finished with value: 0.372182825519107 and parameters: {'n_estimators': 71, 'max_depth': 9, 'min_samples_leaf': 3, 'min_samples_split': 16}. Best is trial 11 with value: 0.3807260138312542.\u001b[0m\n",
      "\u001b[32m[I 2023-08-30 02:04:24,163]\u001b[0m Trial 23 finished with value: 0.3775994158408073 and parameters: {'n_estimators': 55, 'max_depth': 7, 'min_samples_leaf': 5, 'min_samples_split': 13}. Best is trial 11 with value: 0.3807260138312542.\u001b[0m\n",
      "\u001b[32m[I 2023-08-30 02:04:24,903]\u001b[0m Trial 24 finished with value: 0.37677914390509554 and parameters: {'n_estimators': 55, 'max_depth': 7, 'min_samples_leaf': 5, 'min_samples_split': 14}. Best is trial 11 with value: 0.3807260138312542.\u001b[0m\n",
      "\u001b[32m[I 2023-08-30 02:04:26,574]\u001b[0m Trial 25 finished with value: 0.3960788670199974 and parameters: {'n_estimators': 100, 'max_depth': 9, 'min_samples_leaf': 1, 'min_samples_split': 9}. Best is trial 25 with value: 0.3960788670199974.\u001b[0m\n",
      "\u001b[32m[I 2023-08-30 02:04:28,269]\u001b[0m Trial 26 finished with value: 0.39695357565704004 and parameters: {'n_estimators': 99, 'max_depth': 9, 'min_samples_leaf': 1, 'min_samples_split': 8}. Best is trial 26 with value: 0.39695357565704004.\u001b[0m\n",
      "\u001b[32m[I 2023-08-30 02:04:30,015]\u001b[0m Trial 27 finished with value: 0.3951494558935953 and parameters: {'n_estimators': 100, 'max_depth': 9, 'min_samples_leaf': 1, 'min_samples_split': 7}. Best is trial 26 with value: 0.39695357565704004.\u001b[0m\n",
      "\u001b[32m[I 2023-08-30 02:04:31,286]\u001b[0m Trial 28 finished with value: 0.3647425036113202 and parameters: {'n_estimators': 100, 'max_depth': 9, 'min_samples_leaf': 7, 'min_samples_split': 7}. Best is trial 26 with value: 0.39695357565704004.\u001b[0m\n",
      "\u001b[32m[I 2023-08-30 02:04:33,012]\u001b[0m Trial 29 finished with value: 0.39508445549300075 and parameters: {'n_estimators': 99, 'max_depth': 10, 'min_samples_leaf': 2, 'min_samples_split': 4}. Best is trial 26 with value: 0.39695357565704004.\u001b[0m\n",
      "\u001b[32m[I 2023-08-30 02:04:33,995]\u001b[0m Trial 30 finished with value: 0.35472599967282176 and parameters: {'n_estimators': 91, 'max_depth': 9, 'min_samples_leaf': 11, 'min_samples_split': 8}. Best is trial 26 with value: 0.39695357565704004.\u001b[0m\n",
      "\u001b[32m[I 2023-08-30 02:04:35,744]\u001b[0m Trial 31 finished with value: 0.39508445549300075 and parameters: {'n_estimators': 99, 'max_depth': 10, 'min_samples_leaf': 2, 'min_samples_split': 4}. Best is trial 26 with value: 0.39695357565704004.\u001b[0m\n",
      "\u001b[32m[I 2023-08-30 02:04:37,372]\u001b[0m Trial 32 finished with value: 0.3932402356689895 and parameters: {'n_estimators': 93, 'max_depth': 10, 'min_samples_leaf': 2, 'min_samples_split': 5}. Best is trial 26 with value: 0.39695357565704004.\u001b[0m\n",
      "\u001b[32m[I 2023-08-30 02:04:38,611]\u001b[0m Trial 33 finished with value: 0.37846331291384405 and parameters: {'n_estimators': 85, 'max_depth': 9, 'min_samples_leaf': 4, 'min_samples_split': 10}. Best is trial 26 with value: 0.39695357565704004.\u001b[0m\n",
      "\u001b[32m[I 2023-08-30 02:04:40,160]\u001b[0m Trial 34 finished with value: 0.39013750854141344 and parameters: {'n_estimators': 95, 'max_depth': 10, 'min_samples_leaf': 2, 'min_samples_split': 7}. Best is trial 26 with value: 0.39695357565704004.\u001b[0m\n",
      "\u001b[32m[I 2023-08-30 02:04:41,399]\u001b[0m Trial 35 finished with value: 0.38220624854858665 and parameters: {'n_estimators': 86, 'max_depth': 9, 'min_samples_leaf': 4, 'min_samples_split': 3}. Best is trial 26 with value: 0.39695357565704004.\u001b[0m\n",
      "\u001b[32m[I 2023-08-30 02:04:43,156]\u001b[0m Trial 36 finished with value: 0.4017473272365225 and parameters: {'n_estimators': 96, 'max_depth': 10, 'min_samples_leaf': 1, 'min_samples_split': 6}. Best is trial 36 with value: 0.4017473272365225.\u001b[0m\n",
      "\u001b[32m[I 2023-08-30 02:04:44,478]\u001b[0m Trial 37 finished with value: 0.3896091150074408 and parameters: {'n_estimators': 77, 'max_depth': 8, 'min_samples_leaf': 1, 'min_samples_split': 7}. Best is trial 36 with value: 0.4017473272365225.\u001b[0m\n",
      "\u001b[32m[I 2023-08-30 02:04:45,331]\u001b[0m Trial 38 finished with value: 0.3104214121521793 and parameters: {'n_estimators': 89, 'max_depth': 9, 'min_samples_leaf': 19, 'min_samples_split': 6}. Best is trial 36 with value: 0.4017473272365225.\u001b[0m\n",
      "\u001b[32m[I 2023-08-30 02:04:46,728]\u001b[0m Trial 39 finished with value: 0.37919575798330774 and parameters: {'n_estimators': 94, 'max_depth': 10, 'min_samples_leaf': 4, 'min_samples_split': 10}. Best is trial 36 with value: 0.4017473272365225.\u001b[0m\n",
      "\u001b[32m[I 2023-08-30 02:04:47,418]\u001b[0m Trial 40 finished with value: 0.28532375433642027 and parameters: {'n_estimators': 68, 'max_depth': 3, 'min_samples_leaf': 6, 'min_samples_split': 8}. Best is trial 36 with value: 0.4017473272365225.\u001b[0m\n",
      "\u001b[32m[I 2023-08-30 02:04:49,210]\u001b[0m Trial 41 finished with value: 0.39190758339226656 and parameters: {'n_estimators': 100, 'max_depth': 10, 'min_samples_leaf': 2, 'min_samples_split': 5}. Best is trial 36 with value: 0.4017473272365225.\u001b[0m\n",
      "\u001b[32m[I 2023-08-30 02:04:50,878]\u001b[0m Trial 42 finished with value: 0.39228205562166946 and parameters: {'n_estimators': 96, 'max_depth': 9, 'min_samples_leaf': 2, 'min_samples_split': 4}. Best is trial 36 with value: 0.4017473272365225.\u001b[0m\n",
      "\u001b[32m[I 2023-08-30 02:04:52,265]\u001b[0m Trial 43 finished with value: 0.39071263737210427 and parameters: {'n_estimators': 88, 'max_depth': 10, 'min_samples_leaf': 3, 'min_samples_split': 6}. Best is trial 36 with value: 0.4017473272365225.\u001b[0m\n",
      "\u001b[32m[I 2023-08-30 02:04:53,858]\u001b[0m Trial 44 finished with value: 0.4041759233794977 and parameters: {'n_estimators': 81, 'max_depth': 9, 'min_samples_leaf': 1, 'min_samples_split': 2}. Best is trial 44 with value: 0.4041759233794977.\u001b[0m\n",
      "\u001b[32m[I 2023-08-30 02:04:55,332]\u001b[0m Trial 45 finished with value: 0.3940097696792678 and parameters: {'n_estimators': 81, 'max_depth': 8, 'min_samples_leaf': 1, 'min_samples_split': 2}. Best is trial 44 with value: 0.4041759233794977.\u001b[0m\n",
      "\u001b[32m[I 2023-08-30 02:04:56,652]\u001b[0m Trial 46 finished with value: 0.38054023304185114 and parameters: {'n_estimators': 91, 'max_depth': 8, 'min_samples_leaf': 3, 'min_samples_split': 10}. Best is trial 44 with value: 0.4041759233794977.\u001b[0m\n",
      "\u001b[32m[I 2023-08-30 02:04:57,694]\u001b[0m Trial 47 finished with value: 0.3508914207336806 and parameters: {'n_estimators': 96, 'max_depth': 9, 'min_samples_leaf': 12, 'min_samples_split': 8}. Best is trial 44 with value: 0.4041759233794977.\u001b[0m\n",
      "\u001b[32m[I 2023-08-30 02:04:58,885]\u001b[0m Trial 48 finished with value: 0.385890809122577 and parameters: {'n_estimators': 75, 'max_depth': 8, 'min_samples_leaf': 1, 'min_samples_split': 9}. Best is trial 44 with value: 0.4041759233794977.\u001b[0m\n",
      "\u001b[32m[I 2023-08-30 02:04:59,671]\u001b[0m Trial 49 finished with value: 0.3179300120776893 and parameters: {'n_estimators': 82, 'max_depth': 6, 'min_samples_leaf': 17, 'min_samples_split': 3}. Best is trial 44 with value: 0.4041759233794977.\u001b[0m\n",
      "\u001b[32m[I 2023-08-30 02:05:00,794]\u001b[0m Trial 50 finished with value: 0.3679927325586842 and parameters: {'n_estimators': 86, 'max_depth': 7, 'min_samples_leaf': 6, 'min_samples_split': 7}. Best is trial 44 with value: 0.4041759233794977.\u001b[0m\n",
      "\u001b[32m[I 2023-08-30 02:05:02,502]\u001b[0m Trial 51 finished with value: 0.39478148651841466 and parameters: {'n_estimators': 97, 'max_depth': 10, 'min_samples_leaf': 2, 'min_samples_split': 4}. Best is trial 44 with value: 0.4041759233794977.\u001b[0m\n",
      "\u001b[32m[I 2023-08-30 02:05:04,429]\u001b[0m Trial 52 finished with value: 0.3994846896891463 and parameters: {'n_estimators': 100, 'max_depth': 9, 'min_samples_leaf': 1, 'min_samples_split': 3}. Best is trial 44 with value: 0.4041759233794977.\u001b[0m\n",
      "\u001b[32m[I 2023-08-30 02:05:06,410]\u001b[0m Trial 53 finished with value: 0.40763631319903243 and parameters: {'n_estimators': 91, 'max_depth': 9, 'min_samples_leaf': 1, 'min_samples_split': 2}. Best is trial 53 with value: 0.40763631319903243.\u001b[0m\n",
      "\u001b[32m[I 2023-08-30 02:05:07,946]\u001b[0m Trial 54 finished with value: 0.38907735327687576 and parameters: {'n_estimators': 92, 'max_depth': 9, 'min_samples_leaf': 3, 'min_samples_split': 2}. Best is trial 53 with value: 0.40763631319903243.\u001b[0m\n",
      "\u001b[32m[I 2023-08-30 02:05:09,682]\u001b[0m Trial 55 finished with value: 0.3967600259261464 and parameters: {'n_estimators': 93, 'max_depth': 8, 'min_samples_leaf': 1, 'min_samples_split': 3}. Best is trial 53 with value: 0.40763631319903243.\u001b[0m\n",
      "\u001b[32m[I 2023-08-30 02:05:10,960]\u001b[0m Trial 56 finished with value: 0.3814816519199594 and parameters: {'n_estimators': 88, 'max_depth': 8, 'min_samples_leaf': 4, 'min_samples_split': 3}. Best is trial 53 with value: 0.40763631319903243.\u001b[0m\n",
      "\u001b[32m[I 2023-08-30 02:05:12,717]\u001b[0m Trial 57 finished with value: 0.39756066869276363 and parameters: {'n_estimators': 93, 'max_depth': 8, 'min_samples_leaf': 1, 'min_samples_split': 2}. Best is trial 53 with value: 0.40763631319903243.\u001b[0m\n",
      "\u001b[32m[I 2023-08-30 02:05:14,215]\u001b[0m Trial 58 finished with value: 0.3928724675134104 and parameters: {'n_estimators': 84, 'max_depth': 10, 'min_samples_leaf': 2, 'min_samples_split': 2}. Best is trial 53 with value: 0.40763631319903243.\u001b[0m\n",
      "\u001b[32m[I 2023-08-30 02:05:15,597]\u001b[0m Trial 59 finished with value: 0.38970624839751966 and parameters: {'n_estimators': 89, 'max_depth': 9, 'min_samples_leaf': 3, 'min_samples_split': 2}. Best is trial 53 with value: 0.40763631319903243.\u001b[0m\n",
      "\u001b[32m[I 2023-08-30 02:05:16,561]\u001b[0m Trial 60 finished with value: 0.3550126161308519 and parameters: {'n_estimators': 79, 'max_depth': 8, 'min_samples_leaf': 8, 'min_samples_split': 3}. Best is trial 53 with value: 0.40763631319903243.\u001b[0m\n",
      "\u001b[32m[I 2023-08-30 02:05:18,067]\u001b[0m Trial 61 finished with value: 0.3895072852779188 and parameters: {'n_estimators': 94, 'max_depth': 7, 'min_samples_leaf': 1, 'min_samples_split': 5}. Best is trial 53 with value: 0.40763631319903243.\u001b[0m\n",
      "\u001b[32m[I 2023-08-30 02:05:19,764]\u001b[0m Trial 62 finished with value: 0.39631132951415166 and parameters: {'n_estimators': 96, 'max_depth': 8, 'min_samples_leaf': 1, 'min_samples_split': 4}. Best is trial 53 with value: 0.40763631319903243.\u001b[0m\n",
      "\u001b[32m[I 2023-08-30 02:05:21,424]\u001b[0m Trial 63 finished with value: 0.39255209462984875 and parameters: {'n_estimators': 93, 'max_depth': 9, 'min_samples_leaf': 2, 'min_samples_split': 3}. Best is trial 53 with value: 0.40763631319903243.\u001b[0m\n",
      "\u001b[32m[I 2023-08-30 02:05:23,263]\u001b[0m Trial 64 finished with value: 0.39733259736767457 and parameters: {'n_estimators': 91, 'max_depth': 8, 'min_samples_leaf': 1, 'min_samples_split': 2}. Best is trial 53 with value: 0.40763631319903243.\u001b[0m\n",
      "\u001b[32m[I 2023-08-30 02:05:24,773]\u001b[0m Trial 65 finished with value: 0.38200091180578977 and parameters: {'n_estimators': 97, 'max_depth': 7, 'min_samples_leaf': 3, 'min_samples_split': 2}. Best is trial 53 with value: 0.40763631319903243.\u001b[0m\n",
      "\u001b[32m[I 2023-08-30 02:05:25,745]\u001b[0m Trial 66 finished with value: 0.3515756864924672 and parameters: {'n_estimators': 73, 'max_depth': 5, 'min_samples_leaf': 2, 'min_samples_split': 5}. Best is trial 53 with value: 0.40763631319903243.\u001b[0m\n",
      "\u001b[32m[I 2023-08-30 02:05:27,090]\u001b[0m Trial 67 finished with value: 0.38237968254550403 and parameters: {'n_estimators': 87, 'max_depth': 9, 'min_samples_leaf': 4, 'min_samples_split': 2}. Best is trial 53 with value: 0.40763631319903243.\u001b[0m\n",
      "\u001b[32m[I 2023-08-30 02:05:27,945]\u001b[0m Trial 68 finished with value: 0.3361282806872156 and parameters: {'n_estimators': 83, 'max_depth': 9, 'min_samples_leaf': 14, 'min_samples_split': 3}. Best is trial 53 with value: 0.40763631319903243.\u001b[0m\n",
      "\u001b[32m[I 2023-08-30 02:05:29,135]\u001b[0m Trial 69 finished with value: 0.399417094301236 and parameters: {'n_estimators': 62, 'max_depth': 10, 'min_samples_leaf': 1, 'min_samples_split': 4}. Best is trial 53 with value: 0.40763631319903243.\u001b[0m\n",
      "\u001b[32m[I 2023-08-30 02:05:29,906]\u001b[0m Trial 70 finished with value: 0.3846607026142691 and parameters: {'n_estimators': 52, 'max_depth': 10, 'min_samples_leaf': 5, 'min_samples_split': 4}. Best is trial 53 with value: 0.40763631319903243.\u001b[0m\n",
      "\u001b[32m[I 2023-08-30 02:05:31,086]\u001b[0m Trial 71 finished with value: 0.4007808733807794 and parameters: {'n_estimators': 61, 'max_depth': 10, 'min_samples_leaf': 1, 'min_samples_split': 5}. Best is trial 53 with value: 0.40763631319903243.\u001b[0m\n",
      "\u001b[32m[I 2023-08-30 02:05:32,440]\u001b[0m Trial 72 finished with value: 0.4005431322516616 and parameters: {'n_estimators': 62, 'max_depth': 10, 'min_samples_leaf': 1, 'min_samples_split': 2}. Best is trial 53 with value: 0.40763631319903243.\u001b[0m\n",
      "\u001b[32m[I 2023-08-30 02:05:33,529]\u001b[0m Trial 73 finished with value: 0.3890966519007222 and parameters: {'n_estimators': 60, 'max_depth': 10, 'min_samples_leaf': 2, 'min_samples_split': 4}. Best is trial 53 with value: 0.40763631319903243.\u001b[0m\n",
      "\u001b[32m[I 2023-08-30 02:05:34,620]\u001b[0m Trial 74 finished with value: 0.38292170450802115 and parameters: {'n_estimators': 64, 'max_depth': 10, 'min_samples_leaf': 3, 'min_samples_split': 5}. Best is trial 53 with value: 0.40763631319903243.\u001b[0m\n",
      "\u001b[32m[I 2023-08-30 02:05:36,064]\u001b[0m Trial 75 finished with value: 0.401675806339972 and parameters: {'n_estimators': 71, 'max_depth': 10, 'min_samples_leaf': 1, 'min_samples_split': 3}. Best is trial 53 with value: 0.40763631319903243.\u001b[0m\n",
      "\u001b[32m[I 2023-08-30 02:05:37,280]\u001b[0m Trial 76 finished with value: 0.3884340047298734 and parameters: {'n_estimators': 68, 'max_depth': 10, 'min_samples_leaf': 2, 'min_samples_split': 4}. Best is trial 53 with value: 0.40763631319903243.\u001b[0m\n",
      "\u001b[32m[I 2023-08-30 02:05:38,492]\u001b[0m Trial 77 finished with value: 0.40343964027992135 and parameters: {'n_estimators': 60, 'max_depth': 10, 'min_samples_leaf': 1, 'min_samples_split': 3}. Best is trial 53 with value: 0.40763631319903243.\u001b[0m\n",
      "\u001b[32m[I 2023-08-30 02:05:39,535]\u001b[0m Trial 78 finished with value: 0.3937641522490794 and parameters: {'n_estimators': 58, 'max_depth': 10, 'min_samples_leaf': 2, 'min_samples_split': 3}. Best is trial 53 with value: 0.40763631319903243.\u001b[0m\n",
      "\u001b[32m[I 2023-08-30 02:05:39,971]\u001b[0m Trial 79 finished with value: 0.11249209971592955 and parameters: {'n_estimators': 67, 'max_depth': 1, 'min_samples_leaf': 3, 'min_samples_split': 5}. Best is trial 53 with value: 0.40763631319903243.\u001b[0m\n",
      "\u001b[32m[I 2023-08-30 02:05:41,103]\u001b[0m Trial 80 finished with value: 0.4065519710076776 and parameters: {'n_estimators': 57, 'max_depth': 10, 'min_samples_leaf': 1, 'min_samples_split': 3}. Best is trial 53 with value: 0.40763631319903243.\u001b[0m\n",
      "\u001b[32m[I 2023-08-30 02:05:42,328]\u001b[0m Trial 81 finished with value: 0.40510098066702105 and parameters: {'n_estimators': 59, 'max_depth': 10, 'min_samples_leaf': 1, 'min_samples_split': 3}. Best is trial 53 with value: 0.40763631319903243.\u001b[0m\n",
      "\u001b[32m[I 2023-08-30 02:05:43,290]\u001b[0m Trial 82 finished with value: 0.38574923115020254 and parameters: {'n_estimators': 57, 'max_depth': 10, 'min_samples_leaf': 2, 'min_samples_split': 6}. Best is trial 53 with value: 0.40763631319903243.\u001b[0m\n",
      "\u001b[32m[I 2023-08-30 02:05:44,313]\u001b[0m Trial 83 finished with value: 0.4069494869761442 and parameters: {'n_estimators': 51, 'max_depth': 10, 'min_samples_leaf': 1, 'min_samples_split': 3}. Best is trial 53 with value: 0.40763631319903243.\u001b[0m\n",
      "\u001b[32m[I 2023-08-30 02:05:45,390]\u001b[0m Trial 84 finished with value: 0.4051446142681403 and parameters: {'n_estimators': 52, 'max_depth': 10, 'min_samples_leaf': 1, 'min_samples_split': 3}. Best is trial 53 with value: 0.40763631319903243.\u001b[0m\n",
      "\u001b[32m[I 2023-08-30 02:05:46,172]\u001b[0m Trial 85 finished with value: 0.3839573623288307 and parameters: {'n_estimators': 44, 'max_depth': 10, 'min_samples_leaf': 2, 'min_samples_split': 3}. Best is trial 53 with value: 0.40763631319903243.\u001b[0m\n",
      "\u001b[32m[I 2023-08-30 02:05:46,989]\u001b[0m Trial 86 finished with value: 0.38230156484386735 and parameters: {'n_estimators': 51, 'max_depth': 10, 'min_samples_leaf': 3, 'min_samples_split': 3}. Best is trial 53 with value: 0.40763631319903243.\u001b[0m\n",
      "\u001b[32m[I 2023-08-30 02:05:48,167]\u001b[0m Trial 87 finished with value: 0.40432964534266347 and parameters: {'n_estimators': 53, 'max_depth': 10, 'min_samples_leaf': 1, 'min_samples_split': 2}. Best is trial 53 with value: 0.40763631319903243.\u001b[0m\n",
      "\u001b[32m[I 2023-08-30 02:05:48,903]\u001b[0m Trial 88 finished with value: 0.3712389952573003 and parameters: {'n_estimators': 53, 'max_depth': 10, 'min_samples_leaf': 2, 'min_samples_split': 20}. Best is trial 53 with value: 0.40763631319903243.\u001b[0m\n",
      "\u001b[32m[I 2023-08-30 02:05:49,414]\u001b[0m Trial 89 finished with value: 0.3228982236092849 and parameters: {'n_estimators': 45, 'max_depth': 4, 'min_samples_leaf': 4, 'min_samples_split': 2}. Best is trial 53 with value: 0.40763631319903243.\u001b[0m\n",
      "\u001b[32m[I 2023-08-30 02:05:50,063]\u001b[0m Trial 90 finished with value: 0.35782026283306256 and parameters: {'n_estimators': 56, 'max_depth': 9, 'min_samples_leaf': 10, 'min_samples_split': 4}. Best is trial 53 with value: 0.40763631319903243.\u001b[0m\n",
      "\u001b[32m[I 2023-08-30 02:05:50,844]\u001b[0m Trial 91 finished with value: 0.3979929361442268 and parameters: {'n_estimators': 39, 'max_depth': 10, 'min_samples_leaf': 1, 'min_samples_split': 3}. Best is trial 53 with value: 0.40763631319903243.\u001b[0m\n",
      "\u001b[32m[I 2023-08-30 02:05:51,843]\u001b[0m Trial 92 finished with value: 0.40292066129773013 and parameters: {'n_estimators': 48, 'max_depth': 10, 'min_samples_leaf': 1, 'min_samples_split': 2}. Best is trial 53 with value: 0.40763631319903243.\u001b[0m\n",
      "\u001b[32m[I 2023-08-30 02:05:52,921]\u001b[0m Trial 93 finished with value: 0.4040320262716195 and parameters: {'n_estimators': 50, 'max_depth': 10, 'min_samples_leaf': 1, 'min_samples_split': 2}. Best is trial 53 with value: 0.40763631319903243.\u001b[0m\n",
      "\u001b[32m[I 2023-08-30 02:05:53,770]\u001b[0m Trial 94 finished with value: 0.3847022307213913 and parameters: {'n_estimators': 49, 'max_depth': 9, 'min_samples_leaf': 2, 'min_samples_split': 2}. Best is trial 53 with value: 0.40763631319903243.\u001b[0m\n",
      "\u001b[32m[I 2023-08-30 02:05:54,299]\u001b[0m Trial 95 finished with value: 0.37425183045169125 and parameters: {'n_estimators': 34, 'max_depth': 10, 'min_samples_leaf': 1, 'min_samples_split': 18}. Best is trial 53 with value: 0.40763631319903243.\u001b[0m\n",
      "\u001b[32m[I 2023-08-30 02:05:55,210]\u001b[0m Trial 96 finished with value: 0.3869712569014392 and parameters: {'n_estimators': 46, 'max_depth': 10, 'min_samples_leaf': 2, 'min_samples_split': 2}. Best is trial 53 with value: 0.40763631319903243.\u001b[0m\n",
      "\u001b[32m[I 2023-08-30 02:05:55,946]\u001b[0m Trial 97 finished with value: 0.3720111982284338 and parameters: {'n_estimators': 42, 'max_depth': 9, 'min_samples_leaf': 3, 'min_samples_split': 2}. Best is trial 53 with value: 0.40763631319903243.\u001b[0m\n",
      "\u001b[32m[I 2023-08-30 02:05:57,047]\u001b[0m Trial 98 finished with value: 0.4062470424424306 and parameters: {'n_estimators': 53, 'max_depth': 10, 'min_samples_leaf': 1, 'min_samples_split': 3}. Best is trial 53 with value: 0.40763631319903243.\u001b[0m\n",
      "\u001b[32m[I 2023-08-30 02:05:58,185]\u001b[0m Trial 99 finished with value: 0.397060721643866 and parameters: {'n_estimators': 58, 'max_depth': 9, 'min_samples_leaf': 1, 'min_samples_split': 4}. Best is trial 53 with value: 0.40763631319903243.\u001b[0m\n"
     ]
    },
    {
     "name": "stdout",
     "output_type": "stream",
     "text": [
      "Best r2:  0.40763631319903243\n",
      "Best trial: {'n_estimators': 91, 'max_depth': 9, 'min_samples_leaf': 1, 'min_samples_split': 2}\n"
     ]
    }
   ],
   "source": [
    "sampler = TPESampler()\n",
    "study = optuna.create_study(\n",
    "    study_name=\"rf_parameter_opt\",\n",
    "    direction=\"maximize\",\n",
    "    sampler=sampler,\n",
    ")\n",
    "\n",
    "study.optimize(lambda trial : objectiveRF(trial, As_X_train, As_y_train), n_trials=100)\n",
    "print(\"Best r2: \", study.best_value)\n",
    "print(\"Best trial:\", study.best_trial.params)"
   ]
  },
  {
   "cell_type": "code",
   "execution_count": 28,
   "id": "ded0e0f8",
   "metadata": {},
   "outputs": [
    {
     "data": {
      "application/vnd.plotly.v1+json": {
       "config": {
        "plotlyServerURL": "https://plot.ly"
       },
       "data": [
        {
         "dimensions": [
          {
           "label": "Objective Value",
           "range": [
            0.11249209971592955,
            0.40763631319903243
           ],
           "values": [
            0.37769371692142073,
            0.2900223951188591,
            0.2175735191388631,
            0.31030693344478044,
            0.21765387893956997,
            0.11270301501892428,
            0.21789406118410964,
            0.11714440418398711,
            0.3758052839671038,
            0.3302701397613619,
            0.36065421699358174,
            0.3807260138312542,
            0.37489622900856323,
            0.36207763263314396,
            0.2862803729847318,
            0.37296660451600105,
            0.34526285992363587,
            0.33245629955931133,
            0.3687705062818204,
            0.35208827904561024,
            0.3269692026229475,
            0.37500349020572654,
            0.372182825519107,
            0.3775994158408073,
            0.37677914390509554,
            0.3960788670199974,
            0.39695357565704004,
            0.3951494558935953,
            0.3647425036113202,
            0.39508445549300075,
            0.35472599967282176,
            0.39508445549300075,
            0.3932402356689895,
            0.37846331291384405,
            0.39013750854141344,
            0.38220624854858665,
            0.4017473272365225,
            0.3896091150074408,
            0.3104214121521793,
            0.37919575798330774,
            0.28532375433642027,
            0.39190758339226656,
            0.39228205562166946,
            0.39071263737210427,
            0.4041759233794977,
            0.3940097696792678,
            0.38054023304185114,
            0.3508914207336806,
            0.385890809122577,
            0.3179300120776893,
            0.3679927325586842,
            0.39478148651841466,
            0.3994846896891463,
            0.40763631319903243,
            0.38907735327687576,
            0.3967600259261464,
            0.3814816519199594,
            0.39756066869276363,
            0.3928724675134104,
            0.38970624839751966,
            0.3550126161308519,
            0.3895072852779188,
            0.39631132951415166,
            0.39255209462984875,
            0.39733259736767457,
            0.38200091180578977,
            0.3515756864924672,
            0.38237968254550403,
            0.3361282806872156,
            0.399417094301236,
            0.3846607026142691,
            0.4007808733807794,
            0.4005431322516616,
            0.3890966519007222,
            0.38292170450802115,
            0.401675806339972,
            0.3884340047298734,
            0.40343964027992135,
            0.3937641522490794,
            0.11249209971592955,
            0.4065519710076776,
            0.40510098066702105,
            0.38574923115020254,
            0.4069494869761442,
            0.4051446142681403,
            0.3839573623288307,
            0.38230156484386735,
            0.40432964534266347,
            0.3712389952573003,
            0.3228982236092849,
            0.35782026283306256,
            0.3979929361442268,
            0.40292066129773013,
            0.4040320262716195,
            0.3847022307213913,
            0.37425183045169125,
            0.3869712569014392,
            0.3720111982284338,
            0.4062470424424306,
            0.397060721643866
           ]
          },
          {
           "label": "max_depth",
           "range": [
            1,
            10
           ],
           "values": [
            8,
            3,
            2,
            8,
            2,
            1,
            2,
            1,
            8,
            6,
            10,
            8,
            7,
            10,
            5,
            9,
            5,
            7,
            8,
            6,
            4,
            8,
            9,
            7,
            7,
            9,
            9,
            9,
            9,
            10,
            9,
            10,
            10,
            9,
            10,
            9,
            10,
            8,
            9,
            10,
            3,
            10,
            9,
            10,
            9,
            8,
            8,
            9,
            8,
            6,
            7,
            10,
            9,
            9,
            9,
            8,
            8,
            8,
            10,
            9,
            8,
            7,
            8,
            9,
            8,
            7,
            5,
            9,
            9,
            10,
            10,
            10,
            10,
            10,
            10,
            10,
            10,
            10,
            10,
            1,
            10,
            10,
            10,
            10,
            10,
            10,
            10,
            10,
            10,
            4,
            9,
            10,
            10,
            10,
            9,
            10,
            10,
            9,
            10,
            9
           ]
          },
          {
           "label": "min_samples_leaf",
           "range": [
            1,
            20
           ],
           "values": [
            2,
            13,
            14,
            17,
            8,
            13,
            15,
            3,
            3,
            15,
            7,
            1,
            1,
            6,
            20,
            1,
            4,
            10,
            5,
            9,
            1,
            3,
            3,
            5,
            5,
            1,
            1,
            1,
            7,
            2,
            11,
            2,
            2,
            4,
            2,
            4,
            1,
            1,
            19,
            4,
            6,
            2,
            2,
            3,
            1,
            1,
            3,
            12,
            1,
            17,
            6,
            2,
            1,
            1,
            3,
            1,
            4,
            1,
            2,
            3,
            8,
            1,
            1,
            2,
            1,
            3,
            2,
            4,
            14,
            1,
            5,
            1,
            1,
            2,
            3,
            1,
            2,
            1,
            2,
            3,
            1,
            1,
            2,
            1,
            1,
            2,
            3,
            1,
            2,
            4,
            10,
            1,
            1,
            1,
            2,
            1,
            2,
            3,
            1,
            1
           ]
          },
          {
           "label": "min_samples_split",
           "range": [
            2,
            20
           ],
           "values": [
            9,
            6,
            3,
            18,
            17,
            5,
            11,
            12,
            12,
            18,
            9,
            14,
            15,
            8,
            14,
            9,
            20,
            14,
            2,
            6,
            11,
            12,
            16,
            13,
            14,
            9,
            8,
            7,
            7,
            4,
            8,
            4,
            5,
            10,
            7,
            3,
            6,
            7,
            6,
            10,
            8,
            5,
            4,
            6,
            2,
            2,
            10,
            8,
            9,
            3,
            7,
            4,
            3,
            2,
            2,
            3,
            3,
            2,
            2,
            2,
            3,
            5,
            4,
            3,
            2,
            2,
            5,
            2,
            3,
            4,
            4,
            5,
            2,
            4,
            5,
            3,
            4,
            3,
            3,
            5,
            3,
            3,
            6,
            3,
            3,
            3,
            3,
            2,
            20,
            2,
            4,
            3,
            2,
            2,
            2,
            18,
            2,
            2,
            3,
            4
           ]
          },
          {
           "label": "n_estimators",
           "range": [
            10,
            100
           ],
           "values": [
            22,
            65,
            60,
            21,
            62,
            90,
            80,
            22,
            60,
            83,
            39,
            43,
            39,
            37,
            13,
            31,
            47,
            10,
            26,
            49,
            48,
            76,
            71,
            55,
            55,
            100,
            99,
            100,
            100,
            99,
            91,
            99,
            93,
            85,
            95,
            86,
            96,
            77,
            89,
            94,
            68,
            100,
            96,
            88,
            81,
            81,
            91,
            96,
            75,
            82,
            86,
            97,
            100,
            91,
            92,
            93,
            88,
            93,
            84,
            89,
            79,
            94,
            96,
            93,
            91,
            97,
            73,
            87,
            83,
            62,
            52,
            61,
            62,
            60,
            64,
            71,
            68,
            60,
            58,
            67,
            57,
            59,
            57,
            51,
            52,
            44,
            51,
            53,
            53,
            45,
            56,
            39,
            48,
            50,
            49,
            34,
            46,
            42,
            53,
            58
           ]
          }
         ],
         "labelangle": 30,
         "labelside": "bottom",
         "line": {
          "color": [
           0.37769371692142073,
           0.2900223951188591,
           0.2175735191388631,
           0.31030693344478044,
           0.21765387893956997,
           0.11270301501892428,
           0.21789406118410964,
           0.11714440418398711,
           0.3758052839671038,
           0.3302701397613619,
           0.36065421699358174,
           0.3807260138312542,
           0.37489622900856323,
           0.36207763263314396,
           0.2862803729847318,
           0.37296660451600105,
           0.34526285992363587,
           0.33245629955931133,
           0.3687705062818204,
           0.35208827904561024,
           0.3269692026229475,
           0.37500349020572654,
           0.372182825519107,
           0.3775994158408073,
           0.37677914390509554,
           0.3960788670199974,
           0.39695357565704004,
           0.3951494558935953,
           0.3647425036113202,
           0.39508445549300075,
           0.35472599967282176,
           0.39508445549300075,
           0.3932402356689895,
           0.37846331291384405,
           0.39013750854141344,
           0.38220624854858665,
           0.4017473272365225,
           0.3896091150074408,
           0.3104214121521793,
           0.37919575798330774,
           0.28532375433642027,
           0.39190758339226656,
           0.39228205562166946,
           0.39071263737210427,
           0.4041759233794977,
           0.3940097696792678,
           0.38054023304185114,
           0.3508914207336806,
           0.385890809122577,
           0.3179300120776893,
           0.3679927325586842,
           0.39478148651841466,
           0.3994846896891463,
           0.40763631319903243,
           0.38907735327687576,
           0.3967600259261464,
           0.3814816519199594,
           0.39756066869276363,
           0.3928724675134104,
           0.38970624839751966,
           0.3550126161308519,
           0.3895072852779188,
           0.39631132951415166,
           0.39255209462984875,
           0.39733259736767457,
           0.38200091180578977,
           0.3515756864924672,
           0.38237968254550403,
           0.3361282806872156,
           0.399417094301236,
           0.3846607026142691,
           0.4007808733807794,
           0.4005431322516616,
           0.3890966519007222,
           0.38292170450802115,
           0.401675806339972,
           0.3884340047298734,
           0.40343964027992135,
           0.3937641522490794,
           0.11249209971592955,
           0.4065519710076776,
           0.40510098066702105,
           0.38574923115020254,
           0.4069494869761442,
           0.4051446142681403,
           0.3839573623288307,
           0.38230156484386735,
           0.40432964534266347,
           0.3712389952573003,
           0.3228982236092849,
           0.35782026283306256,
           0.3979929361442268,
           0.40292066129773013,
           0.4040320262716195,
           0.3847022307213913,
           0.37425183045169125,
           0.3869712569014392,
           0.3720111982284338,
           0.4062470424424306,
           0.397060721643866
          ],
          "colorbar": {
           "title": {
            "text": "Objective Value"
           }
          },
          "colorscale": [
           [
            0,
            "rgb(247,251,255)"
           ],
           [
            0.125,
            "rgb(222,235,247)"
           ],
           [
            0.25,
            "rgb(198,219,239)"
           ],
           [
            0.375,
            "rgb(158,202,225)"
           ],
           [
            0.5,
            "rgb(107,174,214)"
           ],
           [
            0.625,
            "rgb(66,146,198)"
           ],
           [
            0.75,
            "rgb(33,113,181)"
           ],
           [
            0.875,
            "rgb(8,81,156)"
           ],
           [
            1,
            "rgb(8,48,107)"
           ]
          ],
          "reversescale": false,
          "showscale": true
         },
         "type": "parcoords"
        }
       ],
       "layout": {
        "template": {
         "data": {
          "bar": [
           {
            "error_x": {
             "color": "#2a3f5f"
            },
            "error_y": {
             "color": "#2a3f5f"
            },
            "marker": {
             "line": {
              "color": "#E5ECF6",
              "width": 0.5
             },
             "pattern": {
              "fillmode": "overlay",
              "size": 10,
              "solidity": 0.2
             }
            },
            "type": "bar"
           }
          ],
          "barpolar": [
           {
            "marker": {
             "line": {
              "color": "#E5ECF6",
              "width": 0.5
             },
             "pattern": {
              "fillmode": "overlay",
              "size": 10,
              "solidity": 0.2
             }
            },
            "type": "barpolar"
           }
          ],
          "carpet": [
           {
            "aaxis": {
             "endlinecolor": "#2a3f5f",
             "gridcolor": "white",
             "linecolor": "white",
             "minorgridcolor": "white",
             "startlinecolor": "#2a3f5f"
            },
            "baxis": {
             "endlinecolor": "#2a3f5f",
             "gridcolor": "white",
             "linecolor": "white",
             "minorgridcolor": "white",
             "startlinecolor": "#2a3f5f"
            },
            "type": "carpet"
           }
          ],
          "choropleth": [
           {
            "colorbar": {
             "outlinewidth": 0,
             "ticks": ""
            },
            "type": "choropleth"
           }
          ],
          "contour": [
           {
            "colorbar": {
             "outlinewidth": 0,
             "ticks": ""
            },
            "colorscale": [
             [
              0,
              "#0d0887"
             ],
             [
              0.1111111111111111,
              "#46039f"
             ],
             [
              0.2222222222222222,
              "#7201a8"
             ],
             [
              0.3333333333333333,
              "#9c179e"
             ],
             [
              0.4444444444444444,
              "#bd3786"
             ],
             [
              0.5555555555555556,
              "#d8576b"
             ],
             [
              0.6666666666666666,
              "#ed7953"
             ],
             [
              0.7777777777777778,
              "#fb9f3a"
             ],
             [
              0.8888888888888888,
              "#fdca26"
             ],
             [
              1,
              "#f0f921"
             ]
            ],
            "type": "contour"
           }
          ],
          "contourcarpet": [
           {
            "colorbar": {
             "outlinewidth": 0,
             "ticks": ""
            },
            "type": "contourcarpet"
           }
          ],
          "heatmap": [
           {
            "colorbar": {
             "outlinewidth": 0,
             "ticks": ""
            },
            "colorscale": [
             [
              0,
              "#0d0887"
             ],
             [
              0.1111111111111111,
              "#46039f"
             ],
             [
              0.2222222222222222,
              "#7201a8"
             ],
             [
              0.3333333333333333,
              "#9c179e"
             ],
             [
              0.4444444444444444,
              "#bd3786"
             ],
             [
              0.5555555555555556,
              "#d8576b"
             ],
             [
              0.6666666666666666,
              "#ed7953"
             ],
             [
              0.7777777777777778,
              "#fb9f3a"
             ],
             [
              0.8888888888888888,
              "#fdca26"
             ],
             [
              1,
              "#f0f921"
             ]
            ],
            "type": "heatmap"
           }
          ],
          "heatmapgl": [
           {
            "colorbar": {
             "outlinewidth": 0,
             "ticks": ""
            },
            "colorscale": [
             [
              0,
              "#0d0887"
             ],
             [
              0.1111111111111111,
              "#46039f"
             ],
             [
              0.2222222222222222,
              "#7201a8"
             ],
             [
              0.3333333333333333,
              "#9c179e"
             ],
             [
              0.4444444444444444,
              "#bd3786"
             ],
             [
              0.5555555555555556,
              "#d8576b"
             ],
             [
              0.6666666666666666,
              "#ed7953"
             ],
             [
              0.7777777777777778,
              "#fb9f3a"
             ],
             [
              0.8888888888888888,
              "#fdca26"
             ],
             [
              1,
              "#f0f921"
             ]
            ],
            "type": "heatmapgl"
           }
          ],
          "histogram": [
           {
            "marker": {
             "pattern": {
              "fillmode": "overlay",
              "size": 10,
              "solidity": 0.2
             }
            },
            "type": "histogram"
           }
          ],
          "histogram2d": [
           {
            "colorbar": {
             "outlinewidth": 0,
             "ticks": ""
            },
            "colorscale": [
             [
              0,
              "#0d0887"
             ],
             [
              0.1111111111111111,
              "#46039f"
             ],
             [
              0.2222222222222222,
              "#7201a8"
             ],
             [
              0.3333333333333333,
              "#9c179e"
             ],
             [
              0.4444444444444444,
              "#bd3786"
             ],
             [
              0.5555555555555556,
              "#d8576b"
             ],
             [
              0.6666666666666666,
              "#ed7953"
             ],
             [
              0.7777777777777778,
              "#fb9f3a"
             ],
             [
              0.8888888888888888,
              "#fdca26"
             ],
             [
              1,
              "#f0f921"
             ]
            ],
            "type": "histogram2d"
           }
          ],
          "histogram2dcontour": [
           {
            "colorbar": {
             "outlinewidth": 0,
             "ticks": ""
            },
            "colorscale": [
             [
              0,
              "#0d0887"
             ],
             [
              0.1111111111111111,
              "#46039f"
             ],
             [
              0.2222222222222222,
              "#7201a8"
             ],
             [
              0.3333333333333333,
              "#9c179e"
             ],
             [
              0.4444444444444444,
              "#bd3786"
             ],
             [
              0.5555555555555556,
              "#d8576b"
             ],
             [
              0.6666666666666666,
              "#ed7953"
             ],
             [
              0.7777777777777778,
              "#fb9f3a"
             ],
             [
              0.8888888888888888,
              "#fdca26"
             ],
             [
              1,
              "#f0f921"
             ]
            ],
            "type": "histogram2dcontour"
           }
          ],
          "mesh3d": [
           {
            "colorbar": {
             "outlinewidth": 0,
             "ticks": ""
            },
            "type": "mesh3d"
           }
          ],
          "parcoords": [
           {
            "line": {
             "colorbar": {
              "outlinewidth": 0,
              "ticks": ""
             }
            },
            "type": "parcoords"
           }
          ],
          "pie": [
           {
            "automargin": true,
            "type": "pie"
           }
          ],
          "scatter": [
           {
            "marker": {
             "colorbar": {
              "outlinewidth": 0,
              "ticks": ""
             }
            },
            "type": "scatter"
           }
          ],
          "scatter3d": [
           {
            "line": {
             "colorbar": {
              "outlinewidth": 0,
              "ticks": ""
             }
            },
            "marker": {
             "colorbar": {
              "outlinewidth": 0,
              "ticks": ""
             }
            },
            "type": "scatter3d"
           }
          ],
          "scattercarpet": [
           {
            "marker": {
             "colorbar": {
              "outlinewidth": 0,
              "ticks": ""
             }
            },
            "type": "scattercarpet"
           }
          ],
          "scattergeo": [
           {
            "marker": {
             "colorbar": {
              "outlinewidth": 0,
              "ticks": ""
             }
            },
            "type": "scattergeo"
           }
          ],
          "scattergl": [
           {
            "marker": {
             "colorbar": {
              "outlinewidth": 0,
              "ticks": ""
             }
            },
            "type": "scattergl"
           }
          ],
          "scattermapbox": [
           {
            "marker": {
             "colorbar": {
              "outlinewidth": 0,
              "ticks": ""
             }
            },
            "type": "scattermapbox"
           }
          ],
          "scatterpolar": [
           {
            "marker": {
             "colorbar": {
              "outlinewidth": 0,
              "ticks": ""
             }
            },
            "type": "scatterpolar"
           }
          ],
          "scatterpolargl": [
           {
            "marker": {
             "colorbar": {
              "outlinewidth": 0,
              "ticks": ""
             }
            },
            "type": "scatterpolargl"
           }
          ],
          "scatterternary": [
           {
            "marker": {
             "colorbar": {
              "outlinewidth": 0,
              "ticks": ""
             }
            },
            "type": "scatterternary"
           }
          ],
          "surface": [
           {
            "colorbar": {
             "outlinewidth": 0,
             "ticks": ""
            },
            "colorscale": [
             [
              0,
              "#0d0887"
             ],
             [
              0.1111111111111111,
              "#46039f"
             ],
             [
              0.2222222222222222,
              "#7201a8"
             ],
             [
              0.3333333333333333,
              "#9c179e"
             ],
             [
              0.4444444444444444,
              "#bd3786"
             ],
             [
              0.5555555555555556,
              "#d8576b"
             ],
             [
              0.6666666666666666,
              "#ed7953"
             ],
             [
              0.7777777777777778,
              "#fb9f3a"
             ],
             [
              0.8888888888888888,
              "#fdca26"
             ],
             [
              1,
              "#f0f921"
             ]
            ],
            "type": "surface"
           }
          ],
          "table": [
           {
            "cells": {
             "fill": {
              "color": "#EBF0F8"
             },
             "line": {
              "color": "white"
             }
            },
            "header": {
             "fill": {
              "color": "#C8D4E3"
             },
             "line": {
              "color": "white"
             }
            },
            "type": "table"
           }
          ]
         },
         "layout": {
          "annotationdefaults": {
           "arrowcolor": "#2a3f5f",
           "arrowhead": 0,
           "arrowwidth": 1
          },
          "autotypenumbers": "strict",
          "coloraxis": {
           "colorbar": {
            "outlinewidth": 0,
            "ticks": ""
           }
          },
          "colorscale": {
           "diverging": [
            [
             0,
             "#8e0152"
            ],
            [
             0.1,
             "#c51b7d"
            ],
            [
             0.2,
             "#de77ae"
            ],
            [
             0.3,
             "#f1b6da"
            ],
            [
             0.4,
             "#fde0ef"
            ],
            [
             0.5,
             "#f7f7f7"
            ],
            [
             0.6,
             "#e6f5d0"
            ],
            [
             0.7,
             "#b8e186"
            ],
            [
             0.8,
             "#7fbc41"
            ],
            [
             0.9,
             "#4d9221"
            ],
            [
             1,
             "#276419"
            ]
           ],
           "sequential": [
            [
             0,
             "#0d0887"
            ],
            [
             0.1111111111111111,
             "#46039f"
            ],
            [
             0.2222222222222222,
             "#7201a8"
            ],
            [
             0.3333333333333333,
             "#9c179e"
            ],
            [
             0.4444444444444444,
             "#bd3786"
            ],
            [
             0.5555555555555556,
             "#d8576b"
            ],
            [
             0.6666666666666666,
             "#ed7953"
            ],
            [
             0.7777777777777778,
             "#fb9f3a"
            ],
            [
             0.8888888888888888,
             "#fdca26"
            ],
            [
             1,
             "#f0f921"
            ]
           ],
           "sequentialminus": [
            [
             0,
             "#0d0887"
            ],
            [
             0.1111111111111111,
             "#46039f"
            ],
            [
             0.2222222222222222,
             "#7201a8"
            ],
            [
             0.3333333333333333,
             "#9c179e"
            ],
            [
             0.4444444444444444,
             "#bd3786"
            ],
            [
             0.5555555555555556,
             "#d8576b"
            ],
            [
             0.6666666666666666,
             "#ed7953"
            ],
            [
             0.7777777777777778,
             "#fb9f3a"
            ],
            [
             0.8888888888888888,
             "#fdca26"
            ],
            [
             1,
             "#f0f921"
            ]
           ]
          },
          "colorway": [
           "#636efa",
           "#EF553B",
           "#00cc96",
           "#ab63fa",
           "#FFA15A",
           "#19d3f3",
           "#FF6692",
           "#B6E880",
           "#FF97FF",
           "#FECB52"
          ],
          "font": {
           "color": "#2a3f5f"
          },
          "geo": {
           "bgcolor": "white",
           "lakecolor": "white",
           "landcolor": "#E5ECF6",
           "showlakes": true,
           "showland": true,
           "subunitcolor": "white"
          },
          "hoverlabel": {
           "align": "left"
          },
          "hovermode": "closest",
          "mapbox": {
           "style": "light"
          },
          "paper_bgcolor": "white",
          "plot_bgcolor": "#E5ECF6",
          "polar": {
           "angularaxis": {
            "gridcolor": "white",
            "linecolor": "white",
            "ticks": ""
           },
           "bgcolor": "#E5ECF6",
           "radialaxis": {
            "gridcolor": "white",
            "linecolor": "white",
            "ticks": ""
           }
          },
          "scene": {
           "xaxis": {
            "backgroundcolor": "#E5ECF6",
            "gridcolor": "white",
            "gridwidth": 2,
            "linecolor": "white",
            "showbackground": true,
            "ticks": "",
            "zerolinecolor": "white"
           },
           "yaxis": {
            "backgroundcolor": "#E5ECF6",
            "gridcolor": "white",
            "gridwidth": 2,
            "linecolor": "white",
            "showbackground": true,
            "ticks": "",
            "zerolinecolor": "white"
           },
           "zaxis": {
            "backgroundcolor": "#E5ECF6",
            "gridcolor": "white",
            "gridwidth": 2,
            "linecolor": "white",
            "showbackground": true,
            "ticks": "",
            "zerolinecolor": "white"
           }
          },
          "shapedefaults": {
           "line": {
            "color": "#2a3f5f"
           }
          },
          "ternary": {
           "aaxis": {
            "gridcolor": "white",
            "linecolor": "white",
            "ticks": ""
           },
           "baxis": {
            "gridcolor": "white",
            "linecolor": "white",
            "ticks": ""
           },
           "bgcolor": "#E5ECF6",
           "caxis": {
            "gridcolor": "white",
            "linecolor": "white",
            "ticks": ""
           }
          },
          "title": {
           "x": 0.05
          },
          "xaxis": {
           "automargin": true,
           "gridcolor": "white",
           "linecolor": "white",
           "ticks": "",
           "title": {
            "standoff": 15
           },
           "zerolinecolor": "white",
           "zerolinewidth": 2
          },
          "yaxis": {
           "automargin": true,
           "gridcolor": "white",
           "linecolor": "white",
           "ticks": "",
           "title": {
            "standoff": 15
           },
           "zerolinecolor": "white",
           "zerolinewidth": 2
          }
         }
        },
        "title": {
         "text": "Parallel Coordinate Plot"
        }
       }
      }
     },
     "metadata": {},
     "output_type": "display_data"
    }
   ],
   "source": [
    "optuna.visualization.plot_parallel_coordinate(study)"
   ]
  },
  {
   "cell_type": "code",
   "execution_count": 29,
   "id": "75db1ddf",
   "metadata": {},
   "outputs": [
    {
     "name": "stdout",
     "output_type": "stream",
     "text": [
      "Best trial: {'n_estimators': 91, 'max_depth': 9, 'min_samples_leaf': 1, 'min_samples_split': 2}\n"
     ]
    }
   ],
   "source": [
    "print(\"Best trial:\", study.best_trial.params)"
   ]
  },
  {
   "cell_type": "code",
   "execution_count": 30,
   "id": "574699dc",
   "metadata": {},
   "outputs": [
    {
     "data": {
      "text/plain": [
       "91"
      ]
     },
     "execution_count": 30,
     "metadata": {},
     "output_type": "execute_result"
    }
   ],
   "source": [
    "study.best_trial.params[\"n_estimators\"]"
   ]
  },
  {
   "cell_type": "code",
   "execution_count": 31,
   "id": "862eadd2",
   "metadata": {},
   "outputs": [
    {
     "data": {
      "text/html": [
       "<style>#sk-container-id-1 {color: black;}#sk-container-id-1 pre{padding: 0;}#sk-container-id-1 div.sk-toggleable {background-color: white;}#sk-container-id-1 label.sk-toggleable__label {cursor: pointer;display: block;width: 100%;margin-bottom: 0;padding: 0.3em;box-sizing: border-box;text-align: center;}#sk-container-id-1 label.sk-toggleable__label-arrow:before {content: \"▸\";float: left;margin-right: 0.25em;color: #696969;}#sk-container-id-1 label.sk-toggleable__label-arrow:hover:before {color: black;}#sk-container-id-1 div.sk-estimator:hover label.sk-toggleable__label-arrow:before {color: black;}#sk-container-id-1 div.sk-toggleable__content {max-height: 0;max-width: 0;overflow: hidden;text-align: left;background-color: #f0f8ff;}#sk-container-id-1 div.sk-toggleable__content pre {margin: 0.2em;color: black;border-radius: 0.25em;background-color: #f0f8ff;}#sk-container-id-1 input.sk-toggleable__control:checked~div.sk-toggleable__content {max-height: 200px;max-width: 100%;overflow: auto;}#sk-container-id-1 input.sk-toggleable__control:checked~label.sk-toggleable__label-arrow:before {content: \"▾\";}#sk-container-id-1 div.sk-estimator input.sk-toggleable__control:checked~label.sk-toggleable__label {background-color: #d4ebff;}#sk-container-id-1 div.sk-label input.sk-toggleable__control:checked~label.sk-toggleable__label {background-color: #d4ebff;}#sk-container-id-1 input.sk-hidden--visually {border: 0;clip: rect(1px 1px 1px 1px);clip: rect(1px, 1px, 1px, 1px);height: 1px;margin: -1px;overflow: hidden;padding: 0;position: absolute;width: 1px;}#sk-container-id-1 div.sk-estimator {font-family: monospace;background-color: #f0f8ff;border: 1px dotted black;border-radius: 0.25em;box-sizing: border-box;margin-bottom: 0.5em;}#sk-container-id-1 div.sk-estimator:hover {background-color: #d4ebff;}#sk-container-id-1 div.sk-parallel-item::after {content: \"\";width: 100%;border-bottom: 1px solid gray;flex-grow: 1;}#sk-container-id-1 div.sk-label:hover label.sk-toggleable__label {background-color: #d4ebff;}#sk-container-id-1 div.sk-serial::before {content: \"\";position: absolute;border-left: 1px solid gray;box-sizing: border-box;top: 0;bottom: 0;left: 50%;z-index: 0;}#sk-container-id-1 div.sk-serial {display: flex;flex-direction: column;align-items: center;background-color: white;padding-right: 0.2em;padding-left: 0.2em;position: relative;}#sk-container-id-1 div.sk-item {position: relative;z-index: 1;}#sk-container-id-1 div.sk-parallel {display: flex;align-items: stretch;justify-content: center;background-color: white;position: relative;}#sk-container-id-1 div.sk-item::before, #sk-container-id-1 div.sk-parallel-item::before {content: \"\";position: absolute;border-left: 1px solid gray;box-sizing: border-box;top: 0;bottom: 0;left: 50%;z-index: -1;}#sk-container-id-1 div.sk-parallel-item {display: flex;flex-direction: column;z-index: 1;position: relative;background-color: white;}#sk-container-id-1 div.sk-parallel-item:first-child::after {align-self: flex-end;width: 50%;}#sk-container-id-1 div.sk-parallel-item:last-child::after {align-self: flex-start;width: 50%;}#sk-container-id-1 div.sk-parallel-item:only-child::after {width: 0;}#sk-container-id-1 div.sk-dashed-wrapped {border: 1px dashed gray;margin: 0 0.4em 0.5em 0.4em;box-sizing: border-box;padding-bottom: 0.4em;background-color: white;}#sk-container-id-1 div.sk-label label {font-family: monospace;font-weight: bold;display: inline-block;line-height: 1.2em;}#sk-container-id-1 div.sk-label-container {text-align: center;}#sk-container-id-1 div.sk-container {/* jupyter's `normalize.less` sets `[hidden] { display: none; }` but bootstrap.min.css set `[hidden] { display: none !important; }` so we also need the `!important` here to be able to override the default hidden behavior on the sphinx rendered scikit-learn.org. See: https://github.com/scikit-learn/scikit-learn/issues/21755 */display: inline-block !important;position: relative;}#sk-container-id-1 div.sk-text-repr-fallback {display: none;}</style><div id=\"sk-container-id-1\" class=\"sk-top-container\"><div class=\"sk-text-repr-fallback\"><pre>RandomForestRegressor(max_depth=9, n_estimators=91, random_state=42)</pre><b>In a Jupyter environment, please rerun this cell to show the HTML representation or trust the notebook. <br />On GitHub, the HTML representation is unable to render, please try loading this page with nbviewer.org.</b></div><div class=\"sk-container\" hidden><div class=\"sk-item\"><div class=\"sk-estimator sk-toggleable\"><input class=\"sk-toggleable__control sk-hidden--visually\" id=\"sk-estimator-id-1\" type=\"checkbox\" checked><label for=\"sk-estimator-id-1\" class=\"sk-toggleable__label sk-toggleable__label-arrow\">RandomForestRegressor</label><div class=\"sk-toggleable__content\"><pre>RandomForestRegressor(max_depth=9, n_estimators=91, random_state=42)</pre></div></div></div></div></div>"
      ],
      "text/plain": [
       "RandomForestRegressor(max_depth=9, n_estimators=91, random_state=42)"
      ]
     },
     "execution_count": 31,
     "metadata": {},
     "output_type": "execute_result"
    }
   ],
   "source": [
    "rf_params = {\n",
    "    \"random_state\": 42,\n",
    "    #\"learning_rate\": 0.1,\n",
    "    \"n_estimators\": study.best_trial.params[\"n_estimators\"],\n",
    "    \"max_depth\": study.best_trial.params[\"max_depth\"],\n",
    "    \"min_samples_leaf\": study.best_trial.params[\"min_samples_leaf\"],\n",
    "    \"min_samples_split\": study.best_trial.params[\"min_samples_split\"],\n",
    "    #\"subsample\": study.best_trial.params[\"subsample\"]\n",
    "}\n",
    "\n",
    "rf = RandomForestRegressor(**rf_params)\n",
    "rf.fit(As_X_train, As_y_train)"
   ]
  },
  {
   "cell_type": "code",
   "execution_count": 32,
   "id": "8577fb37",
   "metadata": {},
   "outputs": [],
   "source": [
    "y_train_pred = rf.predict(As_X_train)\n",
    "y_test_pred = rf.predict(As_X_test)"
   ]
  },
  {
   "cell_type": "code",
   "execution_count": 33,
   "id": "2ea0526a",
   "metadata": {},
   "outputs": [],
   "source": [
    "# plt.scatter(y_train_pred, np.array(As_y_train))"
   ]
  },
  {
   "cell_type": "code",
   "execution_count": 34,
   "id": "d2a4dd85",
   "metadata": {},
   "outputs": [
    {
     "name": "stdout",
     "output_type": "stream",
     "text": [
      "Train RMSE:  0.16136213806037278\n",
      "Test RMSE:  0.39533066058551997\n"
     ]
    }
   ],
   "source": [
    "print(\"Train RMSE: \", np.sqrt(mean_squared_error(As_y_train, y_train_pred)))\n",
    "print(\"Test RMSE: \", np.sqrt(mean_squared_error(As_y_test, y_test_pred)))"
   ]
  },
  {
   "cell_type": "code",
   "execution_count": 35,
   "id": "08fe787a",
   "metadata": {},
   "outputs": [
    {
     "name": "stdout",
     "output_type": "stream",
     "text": [
      "Train R2:  0.8865134291126077\n",
      "Test R2:  0.22924657092245881\n"
     ]
    }
   ],
   "source": [
    "print(\"Train R2: \", r2_score(As_y_train, y_train_pred))\n",
    "print(\"Test R2: \", r2_score(As_y_test, y_test_pred))"
   ]
  },
  {
   "cell_type": "code",
   "execution_count": 36,
   "id": "5ec4820c",
   "metadata": {},
   "outputs": [
    {
     "data": {
      "image/png": "[encoded data removed]",
      "text/plain": [
       "<Figure size 640x480 with 1 Axes>"
      ]
     },
     "metadata": {},
     "output_type": "display_data"
    }
   ],
   "source": [
    "plt.scatter(y_train_pred, np.array(As_y_train), color=\"orange\", alpha=0.3)\n",
    "plt.scatter(y_test_pred, np.array(As_y_test), color=\"green\", alpha=0.4)\n",
    "plt.axis(\"auto\") # scaled, tight, auto, image, square\n",
    "# plt.xlim([0, 1.5]) \n",
    "# plt.ylim(0, None) \n",
    "plt.xlabel('Predicted Values')\n",
    "plt.ylabel('Actual Values')\n",
    "\n",
    "# Add y=x line\n",
    "plt.plot([0, 1.8], [0, 1.8], color='red', linestyle='-')\n",
    "\n",
    "plt.show()"
   ]
  },
  {
   "attachments": {},
   "cell_type": "markdown",
   "id": "e0507d63",
   "metadata": {},
   "source": [
    "Cd"
   ]
  },
  {
   "attachments": {},
   "cell_type": "markdown",
   "id": "f8f809d9",
   "metadata": {},
   "source": [
    "Optimization"
   ]
  },
  {
   "cell_type": "code",
   "execution_count": 37,
   "id": "b7aeaf0a",
   "metadata": {},
   "outputs": [
    {
     "name": "stderr",
     "output_type": "stream",
     "text": [
      "\u001b[32m[I 2023-08-30 02:05:59,178]\u001b[0m A new study created in memory with name: rf_parameter_opt\u001b[0m\n",
      "\u001b[32m[I 2023-08-30 02:06:00,843]\u001b[0m Trial 0 finished with value: 0.5116255016061766 and parameters: {'n_estimators': 53, 'max_depth': 7, 'min_samples_leaf': 5, 'min_samples_split': 14}. Best is trial 0 with value: 0.5116255016061766.\u001b[0m\n",
      "\u001b[32m[I 2023-08-30 02:06:01,681]\u001b[0m Trial 1 finished with value: 0.4227224486884766 and parameters: {'n_estimators': 40, 'max_depth': 4, 'min_samples_leaf': 9, 'min_samples_split': 16}. Best is trial 0 with value: 0.5116255016061766.\u001b[0m\n",
      "\u001b[32m[I 2023-08-30 02:06:02,262]\u001b[0m Trial 2 finished with value: 0.5170871101105491 and parameters: {'n_estimators': 17, 'max_depth': 8, 'min_samples_leaf': 3, 'min_samples_split': 19}. Best is trial 2 with value: 0.5170871101105491.\u001b[0m\n",
      "\u001b[32m[I 2023-08-30 02:06:02,953]\u001b[0m Trial 3 finished with value: 0.39102585022419956 and parameters: {'n_estimators': 42, 'max_depth': 3, 'min_samples_leaf': 20, 'min_samples_split': 10}. Best is trial 2 with value: 0.5170871101105491.\u001b[0m\n",
      "\u001b[32m[I 2023-08-30 02:06:03,199]\u001b[0m Trial 4 finished with value: 0.34392859540065085 and parameters: {'n_estimators': 18, 'max_depth': 2, 'min_samples_leaf': 5, 'min_samples_split': 16}. Best is trial 2 with value: 0.5170871101105491.\u001b[0m\n",
      "\u001b[32m[I 2023-08-30 02:06:04,972]\u001b[0m Trial 5 finished with value: 0.49233514637815334 and parameters: {'n_estimators': 70, 'max_depth': 9, 'min_samples_leaf': 19, 'min_samples_split': 2}. Best is trial 2 with value: 0.5170871101105491.\u001b[0m\n",
      "\u001b[32m[I 2023-08-30 02:06:06,663]\u001b[0m Trial 6 finished with value: 0.4599120945257848 and parameters: {'n_estimators': 74, 'max_depth': 5, 'min_samples_leaf': 18, 'min_samples_split': 10}. Best is trial 2 with value: 0.5170871101105491.\u001b[0m\n",
      "\u001b[32m[I 2023-08-30 02:06:07,250]\u001b[0m Trial 7 finished with value: 0.4250923551657106 and parameters: {'n_estimators': 29, 'max_depth': 4, 'min_samples_leaf': 16, 'min_samples_split': 16}. Best is trial 2 with value: 0.5170871101105491.\u001b[0m\n",
      "\u001b[32m[I 2023-08-30 02:06:08,243]\u001b[0m Trial 8 finished with value: 0.34563058683937375 and parameters: {'n_estimators': 73, 'max_depth': 2, 'min_samples_leaf': 8, 'min_samples_split': 20}. Best is trial 2 with value: 0.5170871101105491.\u001b[0m\n",
      "\u001b[32m[I 2023-08-30 02:06:08,925]\u001b[0m Trial 9 finished with value: 0.48742425946422896 and parameters: {'n_estimators': 28, 'max_depth': 10, 'min_samples_leaf': 20, 'min_samples_split': 6}. Best is trial 2 with value: 0.5170871101105491.\u001b[0m\n",
      "\u001b[32m[I 2023-08-30 02:06:12,099]\u001b[0m Trial 10 finished with value: 0.5116221018202445 and parameters: {'n_estimators': 100, 'max_depth': 7, 'min_samples_leaf': 1, 'min_samples_split': 19}. Best is trial 2 with value: 0.5170871101105491.\u001b[0m\n",
      "\u001b[32m[I 2023-08-30 02:06:12,441]\u001b[0m Trial 11 finished with value: 0.4969966250402722 and parameters: {'n_estimators': 10, 'max_depth': 7, 'min_samples_leaf': 1, 'min_samples_split': 13}. Best is trial 2 with value: 0.5170871101105491.\u001b[0m\n",
      "\u001b[32m[I 2023-08-30 02:06:14,045]\u001b[0m Trial 12 finished with value: 0.5130622395526641 and parameters: {'n_estimators': 53, 'max_depth': 7, 'min_samples_leaf': 5, 'min_samples_split': 13}. Best is trial 2 with value: 0.5170871101105491.\u001b[0m\n",
      "\u001b[32m[I 2023-08-30 02:06:17,062]\u001b[0m Trial 13 finished with value: 0.5363154213838623 and parameters: {'n_estimators': 92, 'max_depth': 8, 'min_samples_leaf': 5, 'min_samples_split': 7}. Best is trial 13 with value: 0.5363154213838623.\u001b[0m\n",
      "\u001b[32m[I 2023-08-30 02:06:19,809]\u001b[0m Trial 14 finished with value: 0.5113816755400344 and parameters: {'n_estimators': 98, 'max_depth': 9, 'min_samples_leaf': 12, 'min_samples_split': 6}. Best is trial 13 with value: 0.5363154213838623.\u001b[0m\n",
      "\u001b[32m[I 2023-08-30 02:06:23,231]\u001b[0m Trial 15 finished with value: 0.5564300956983684 and parameters: {'n_estimators': 90, 'max_depth': 9, 'min_samples_leaf': 3, 'min_samples_split': 7}. Best is trial 15 with value: 0.5564300956983684.\u001b[0m\n",
      "\u001b[32m[I 2023-08-30 02:06:25,673]\u001b[0m Trial 16 finished with value: 0.512084416856538 and parameters: {'n_estimators': 86, 'max_depth': 10, 'min_samples_leaf': 12, 'min_samples_split': 7}. Best is trial 15 with value: 0.5564300956983684.\u001b[0m\n",
      "\u001b[32m[I 2023-08-30 02:06:28,390]\u001b[0m Trial 17 finished with value: 0.5351916600410809 and parameters: {'n_estimators': 84, 'max_depth': 9, 'min_samples_leaf': 7, 'min_samples_split': 3}. Best is trial 15 with value: 0.5564300956983684.\u001b[0m\n",
      "\u001b[32m[I 2023-08-30 02:06:30,802]\u001b[0m Trial 18 finished with value: 0.4957866342614232 and parameters: {'n_estimators': 84, 'max_depth': 6, 'min_samples_leaf': 3, 'min_samples_split': 8}. Best is trial 15 with value: 0.5564300956983684.\u001b[0m\n",
      "\u001b[32m[I 2023-08-30 02:06:32,626]\u001b[0m Trial 19 finished with value: 0.5120380445141384 and parameters: {'n_estimators': 63, 'max_depth': 8, 'min_samples_leaf': 10, 'min_samples_split': 4}. Best is trial 15 with value: 0.5564300956983684.\u001b[0m\n",
      "\u001b[32m[I 2023-08-30 02:06:35,450]\u001b[0m Trial 20 finished with value: 0.5272678003043976 and parameters: {'n_estimators': 91, 'max_depth': 8, 'min_samples_leaf': 7, 'min_samples_split': 9}. Best is trial 15 with value: 0.5564300956983684.\u001b[0m\n",
      "\u001b[32m[I 2023-08-30 02:06:38,154]\u001b[0m Trial 21 finished with value: 0.5347065738156374 and parameters: {'n_estimators': 81, 'max_depth': 9, 'min_samples_leaf': 7, 'min_samples_split': 3}. Best is trial 15 with value: 0.5564300956983684.\u001b[0m\n",
      "\u001b[32m[I 2023-08-30 02:06:41,860]\u001b[0m Trial 22 finished with value: 0.5677743954632509 and parameters: {'n_estimators': 93, 'max_depth': 10, 'min_samples_leaf': 3, 'min_samples_split': 5}. Best is trial 22 with value: 0.5677743954632509.\u001b[0m\n",
      "\u001b[32m[I 2023-08-30 02:06:45,576]\u001b[0m Trial 23 finished with value: 0.5677743954632509 and parameters: {'n_estimators': 93, 'max_depth': 10, 'min_samples_leaf': 3, 'min_samples_split': 5}. Best is trial 22 with value: 0.5677743954632509.\u001b[0m\n",
      "\u001b[32m[I 2023-08-30 02:06:49,263]\u001b[0m Trial 24 finished with value: 0.5677743954632509 and parameters: {'n_estimators': 93, 'max_depth': 10, 'min_samples_leaf': 3, 'min_samples_split': 5}. Best is trial 22 with value: 0.5677743954632509.\u001b[0m\n",
      "\u001b[32m[I 2023-08-30 02:06:51,995]\u001b[0m Trial 25 finished with value: 0.5691207711919557 and parameters: {'n_estimators': 65, 'max_depth': 10, 'min_samples_leaf': 2, 'min_samples_split': 5}. Best is trial 25 with value: 0.5691207711919557.\u001b[0m\n",
      "\u001b[32m[I 2023-08-30 02:06:54,668]\u001b[0m Trial 26 finished with value: 0.5659067503620672 and parameters: {'n_estimators': 62, 'max_depth': 10, 'min_samples_leaf': 1, 'min_samples_split': 5}. Best is trial 25 with value: 0.5691207711919557.\u001b[0m\n",
      "\u001b[32m[I 2023-08-30 02:06:55,368]\u001b[0m Trial 27 finished with value: 0.20118425435677184 and parameters: {'n_estimators': 79, 'max_depth': 1, 'min_samples_leaf': 14, 'min_samples_split': 2}. Best is trial 25 with value: 0.5691207711919557.\u001b[0m\n",
      "\u001b[32m[I 2023-08-30 02:06:58,149]\u001b[0m Trial 28 finished with value: 0.5689993714176821 and parameters: {'n_estimators': 65, 'max_depth': 10, 'min_samples_leaf': 2, 'min_samples_split': 4}. Best is trial 25 with value: 0.5691207711919557.\u001b[0m\n",
      "\u001b[32m[I 2023-08-30 02:06:59,939]\u001b[0m Trial 29 finished with value: 0.4971638675861114 and parameters: {'n_estimators': 61, 'max_depth': 6, 'min_samples_leaf': 2, 'min_samples_split': 3}. Best is trial 25 with value: 0.5691207711919557.\u001b[0m\n",
      "\u001b[32m[I 2023-08-30 02:07:01,601]\u001b[0m Trial 30 finished with value: 0.5451085954981546 and parameters: {'n_estimators': 48, 'max_depth': 10, 'min_samples_leaf': 6, 'min_samples_split': 9}. Best is trial 25 with value: 0.5691207711919557.\u001b[0m\n",
      "\u001b[32m[I 2023-08-30 02:07:04,222]\u001b[0m Trial 31 finished with value: 0.5637128879093505 and parameters: {'n_estimators': 66, 'max_depth': 10, 'min_samples_leaf': 3, 'min_samples_split': 5}. Best is trial 25 with value: 0.5691207711919557.\u001b[0m\n",
      "\u001b[32m[I 2023-08-30 02:07:06,217]\u001b[0m Trial 32 finished with value: 0.5523804923709253 and parameters: {'n_estimators': 55, 'max_depth': 9, 'min_samples_leaf': 4, 'min_samples_split': 4}. Best is trial 25 with value: 0.5691207711919557.\u001b[0m\n",
      "\u001b[32m[I 2023-08-30 02:07:09,517]\u001b[0m Trial 33 finished with value: 0.5694594887579882 and parameters: {'n_estimators': 77, 'max_depth': 10, 'min_samples_leaf': 2, 'min_samples_split': 4}. Best is trial 33 with value: 0.5694594887579882.\u001b[0m\n",
      "\u001b[32m[I 2023-08-30 02:07:12,458]\u001b[0m Trial 34 finished with value: 0.5468953767506852 and parameters: {'n_estimators': 77, 'max_depth': 8, 'min_samples_leaf': 1, 'min_samples_split': 4}. Best is trial 33 with value: 0.5694594887579882.\u001b[0m\n",
      "\u001b[32m[I 2023-08-30 02:07:14,848]\u001b[0m Trial 35 finished with value: 0.5547204972777207 and parameters: {'n_estimators': 66, 'max_depth': 9, 'min_samples_leaf': 4, 'min_samples_split': 2}. Best is trial 33 with value: 0.5694594887579882.\u001b[0m\n",
      "\u001b[32m[I 2023-08-30 02:07:16,670]\u001b[0m Trial 36 finished with value: 0.5599198956822511 and parameters: {'n_estimators': 46, 'max_depth': 10, 'min_samples_leaf': 2, 'min_samples_split': 11}. Best is trial 33 with value: 0.5694594887579882.\u001b[0m\n",
      "\u001b[32m[I 2023-08-30 02:07:19,180]\u001b[0m Trial 37 finished with value: 0.5537944137960353 and parameters: {'n_estimators': 69, 'max_depth': 9, 'min_samples_leaf': 4, 'min_samples_split': 6}. Best is trial 33 with value: 0.5694594887579882.\u001b[0m\n",
      "\u001b[32m[I 2023-08-30 02:07:21,258]\u001b[0m Trial 38 finished with value: 0.5436768301711534 and parameters: {'n_estimators': 59, 'max_depth': 8, 'min_samples_leaf': 2, 'min_samples_split': 8}. Best is trial 33 with value: 0.5694594887579882.\u001b[0m\n",
      "\u001b[32m[I 2023-08-30 02:07:22,800]\u001b[0m Trial 39 finished with value: 0.42811181974066653 and parameters: {'n_estimators': 73, 'max_depth': 4, 'min_samples_leaf': 6, 'min_samples_split': 3}. Best is trial 33 with value: 0.5694594887579882.\u001b[0m\n",
      "\u001b[32m[I 2023-08-30 02:07:24,013]\u001b[0m Trial 40 finished with value: 0.5401502314368946 and parameters: {'n_estimators': 35, 'max_depth': 10, 'min_samples_leaf': 6, 'min_samples_split': 4}. Best is trial 33 with value: 0.5694594887579882.\u001b[0m\n",
      "\u001b[32m[I 2023-08-30 02:07:27,605]\u001b[0m Trial 41 finished with value: 0.5631496977262851 and parameters: {'n_estimators': 96, 'max_depth': 10, 'min_samples_leaf': 4, 'min_samples_split': 5}. Best is trial 33 with value: 0.5694594887579882.\u001b[0m\n",
      "\u001b[32m[I 2023-08-30 02:07:31,047]\u001b[0m Trial 42 finished with value: 0.5593343686470715 and parameters: {'n_estimators': 87, 'max_depth': 9, 'min_samples_leaf': 2, 'min_samples_split': 6}. Best is trial 33 with value: 0.5694594887579882.\u001b[0m\n",
      "\u001b[32m[I 2023-08-30 02:07:34,226]\u001b[0m Trial 43 finished with value: 0.5685513498599908 and parameters: {'n_estimators': 74, 'max_depth': 10, 'min_samples_leaf': 2, 'min_samples_split': 2}. Best is trial 33 with value: 0.5694594887579882.\u001b[0m\n",
      "\u001b[32m[I 2023-08-30 02:07:37,670]\u001b[0m Trial 44 finished with value: 0.5646924943896839 and parameters: {'n_estimators': 74, 'max_depth': 10, 'min_samples_leaf': 1, 'min_samples_split': 2}. Best is trial 33 with value: 0.5694594887579882.\u001b[0m\n",
      "\u001b[32m[I 2023-08-30 02:07:38,864]\u001b[0m Trial 45 finished with value: 0.38861144801625735 and parameters: {'n_estimators': 69, 'max_depth': 3, 'min_samples_leaf': 2, 'min_samples_split': 2}. Best is trial 33 with value: 0.5694594887579882.\u001b[0m\n",
      "\u001b[32m[I 2023-08-30 02:07:40,281]\u001b[0m Trial 46 finished with value: 0.4576467818067348 and parameters: {'n_estimators': 57, 'max_depth': 5, 'min_samples_leaf': 5, 'min_samples_split': 3}. Best is trial 33 with value: 0.5694594887579882.\u001b[0m\n",
      "\u001b[32m[I 2023-08-30 02:07:42,666]\u001b[0m Trial 47 finished with value: 0.5269097102283249 and parameters: {'n_estimators': 78, 'max_depth': 9, 'min_samples_leaf': 9, 'min_samples_split': 4}. Best is trial 33 with value: 0.5694594887579882.\u001b[0m\n",
      "\u001b[32m[I 2023-08-30 02:07:43,913]\u001b[0m Trial 48 finished with value: 0.49852570328536083 and parameters: {'n_estimators': 49, 'max_depth': 10, 'min_samples_leaf': 16, 'min_samples_split': 12}. Best is trial 33 with value: 0.5694594887579882.\u001b[0m\n",
      "\u001b[32m[I 2023-08-30 02:07:46,343]\u001b[0m Trial 49 finished with value: 0.5408880165403639 and parameters: {'n_estimators': 66, 'max_depth': 9, 'min_samples_leaf': 1, 'min_samples_split': 17}. Best is trial 33 with value: 0.5694594887579882.\u001b[0m\n",
      "\u001b[32m[I 2023-08-30 02:07:48,515]\u001b[0m Trial 50 finished with value: 0.5153591523720713 and parameters: {'n_estimators': 71, 'max_depth': 7, 'min_samples_leaf': 5, 'min_samples_split': 6}. Best is trial 33 with value: 0.5694594887579882.\u001b[0m\n",
      "\u001b[32m[I 2023-08-30 02:07:52,315]\u001b[0m Trial 51 finished with value: 0.5675911356383543 and parameters: {'n_estimators': 96, 'max_depth': 10, 'min_samples_leaf': 3, 'min_samples_split': 5}. Best is trial 33 with value: 0.5694594887579882.\u001b[0m\n",
      "\u001b[32m[I 2023-08-30 02:07:55,370]\u001b[0m Trial 52 finished with value: 0.562034363218477 and parameters: {'n_estimators': 82, 'max_depth': 10, 'min_samples_leaf': 4, 'min_samples_split': 7}. Best is trial 33 with value: 0.5694594887579882.\u001b[0m\n",
      "\u001b[32m[I 2023-08-30 02:07:58,791]\u001b[0m Trial 53 finished with value: 0.5597075748531009 and parameters: {'n_estimators': 87, 'max_depth': 9, 'min_samples_leaf': 2, 'min_samples_split': 4}. Best is trial 33 with value: 0.5694594887579882.\u001b[0m\n",
      "\u001b[32m[I 2023-08-30 02:08:01,770]\u001b[0m Trial 54 finished with value: 0.5631997441528354 and parameters: {'n_estimators': 76, 'max_depth': 10, 'min_samples_leaf': 3, 'min_samples_split': 8}. Best is trial 33 with value: 0.5694594887579882.\u001b[0m\n",
      "\u001b[32m[I 2023-08-30 02:08:05,177]\u001b[0m Trial 55 finished with value: 0.545940849417569 and parameters: {'n_estimators': 89, 'max_depth': 8, 'min_samples_leaf': 1, 'min_samples_split': 3}. Best is trial 33 with value: 0.5694594887579882.\u001b[0m\n",
      "\u001b[32m[I 2023-08-30 02:08:08,994]\u001b[0m Trial 56 finished with value: 0.5599660117089185 and parameters: {'n_estimators': 99, 'max_depth': 9, 'min_samples_leaf': 3, 'min_samples_split': 6}. Best is trial 33 with value: 0.5694594887579882.\u001b[0m\n",
      "\u001b[32m[I 2023-08-30 02:08:12,731]\u001b[0m Trial 57 finished with value: 0.5541497517998111 and parameters: {'n_estimators': 94, 'max_depth': 10, 'min_samples_leaf': 2, 'min_samples_split': 15}. Best is trial 33 with value: 0.5694594887579882.\u001b[0m\n",
      "\u001b[32m[I 2023-08-30 02:08:15,861]\u001b[0m Trial 58 finished with value: 0.55439684319884 and parameters: {'n_estimators': 82, 'max_depth': 9, 'min_samples_leaf': 4, 'min_samples_split': 5}. Best is trial 33 with value: 0.5694594887579882.\u001b[0m\n",
      "\u001b[32m[I 2023-08-30 02:08:18,444]\u001b[0m Trial 59 finished with value: 0.5508038907215701 and parameters: {'n_estimators': 65, 'max_depth': 10, 'min_samples_leaf': 5, 'min_samples_split': 2}. Best is trial 33 with value: 0.5694594887579882.\u001b[0m\n",
      "\u001b[32m[I 2023-08-30 02:08:20,041]\u001b[0m Trial 60 finished with value: 0.5047394680246431 and parameters: {'n_estimators': 53, 'max_depth': 8, 'min_samples_leaf': 12, 'min_samples_split': 7}. Best is trial 33 with value: 0.5694594887579882.\u001b[0m\n",
      "\u001b[32m[I 2023-08-30 02:08:23,869]\u001b[0m Trial 61 finished with value: 0.5672813756170444 and parameters: {'n_estimators': 92, 'max_depth': 10, 'min_samples_leaf': 3, 'min_samples_split': 5}. Best is trial 33 with value: 0.5694594887579882.\u001b[0m\n",
      "\u001b[32m[I 2023-08-30 02:08:27,605]\u001b[0m Trial 62 finished with value: 0.569317959026028 and parameters: {'n_estimators': 85, 'max_depth': 10, 'min_samples_leaf': 2, 'min_samples_split': 4}. Best is trial 33 with value: 0.5694594887579882.\u001b[0m\n",
      "\u001b[32m[I 2023-08-30 02:08:31,557]\u001b[0m Trial 63 finished with value: 0.569317959026028 and parameters: {'n_estimators': 85, 'max_depth': 10, 'min_samples_leaf': 2, 'min_samples_split': 4}. Best is trial 33 with value: 0.5694594887579882.\u001b[0m\n",
      "\u001b[32m[I 2023-08-30 02:08:35,141]\u001b[0m Trial 64 finished with value: 0.5698303684272247 and parameters: {'n_estimators': 80, 'max_depth': 10, 'min_samples_leaf': 2, 'min_samples_split': 3}. Best is trial 64 with value: 0.5698303684272247.\u001b[0m\n",
      "\u001b[32m[I 2023-08-30 02:08:38,812]\u001b[0m Trial 65 finished with value: 0.5569958904516976 and parameters: {'n_estimators': 79, 'max_depth': 9, 'min_samples_leaf': 1, 'min_samples_split': 3}. Best is trial 64 with value: 0.5698303684272247.\u001b[0m\n",
      "\u001b[32m[I 2023-08-30 02:08:42,153]\u001b[0m Trial 66 finished with value: 0.5683793804547851 and parameters: {'n_estimators': 75, 'max_depth': 10, 'min_samples_leaf': 2, 'min_samples_split': 4}. Best is trial 64 with value: 0.5698303684272247.\u001b[0m\n",
      "\u001b[32m[I 2023-08-30 02:08:45,798]\u001b[0m Trial 67 finished with value: 0.5591438346777263 and parameters: {'n_estimators': 85, 'max_depth': 9, 'min_samples_leaf': 2, 'min_samples_split': 2}. Best is trial 64 with value: 0.5698303684272247.\u001b[0m\n",
      "\u001b[32m[I 2023-08-30 02:08:49,145]\u001b[0m Trial 68 finished with value: 0.5638901882260992 and parameters: {'n_estimators': 72, 'max_depth': 10, 'min_samples_leaf': 1, 'min_samples_split': 3}. Best is trial 64 with value: 0.5698303684272247.\u001b[0m\n",
      "\u001b[32m[I 2023-08-30 02:08:52,147]\u001b[0m Trial 69 finished with value: 0.55439684319884 and parameters: {'n_estimators': 82, 'max_depth': 9, 'min_samples_leaf': 4, 'min_samples_split': 4}. Best is trial 64 with value: 0.5698303684272247.\u001b[0m\n",
      "\u001b[32m[I 2023-08-30 02:08:55,288]\u001b[0m Trial 70 finished with value: 0.5623107512813201 and parameters: {'n_estimators': 68, 'max_depth': 10, 'min_samples_leaf': 1, 'min_samples_split': 3}. Best is trial 64 with value: 0.5698303684272247.\u001b[0m\n",
      "\u001b[32m[I 2023-08-30 02:08:58,503]\u001b[0m Trial 71 finished with value: 0.5683793804547851 and parameters: {'n_estimators': 75, 'max_depth': 10, 'min_samples_leaf': 2, 'min_samples_split': 4}. Best is trial 64 with value: 0.5698303684272247.\u001b[0m\n",
      "\u001b[32m[I 2023-08-30 02:09:01,930]\u001b[0m Trial 72 finished with value: 0.5698303684272247 and parameters: {'n_estimators': 80, 'max_depth': 10, 'min_samples_leaf': 2, 'min_samples_split': 4}. Best is trial 64 with value: 0.5698303684272247.\u001b[0m\n",
      "\u001b[32m[I 2023-08-30 02:09:05,153]\u001b[0m Trial 73 finished with value: 0.5651213482482639 and parameters: {'n_estimators': 79, 'max_depth': 10, 'min_samples_leaf': 3, 'min_samples_split': 3}. Best is trial 64 with value: 0.5698303684272247.\u001b[0m\n",
      "\u001b[32m[I 2023-08-30 02:09:08,768]\u001b[0m Trial 74 finished with value: 0.5599762003644437 and parameters: {'n_estimators': 89, 'max_depth': 9, 'min_samples_leaf': 2, 'min_samples_split': 2}. Best is trial 64 with value: 0.5698303684272247.\u001b[0m\n",
      "\u001b[32m[I 2023-08-30 02:09:11,576]\u001b[0m Trial 75 finished with value: 0.5639014651733918 and parameters: {'n_estimators': 63, 'max_depth': 10, 'min_samples_leaf': 1, 'min_samples_split': 4}. Best is trial 64 with value: 0.5698303684272247.\u001b[0m\n",
      "\u001b[32m[I 2023-08-30 02:09:13,645]\u001b[0m Trial 76 finished with value: 0.4924498592700476 and parameters: {'n_estimators': 84, 'max_depth': 10, 'min_samples_leaf': 19, 'min_samples_split': 6}. Best is trial 64 with value: 0.5698303684272247.\u001b[0m\n",
      "\u001b[32m[I 2023-08-30 02:09:14,377]\u001b[0m Trial 77 finished with value: 0.201119742400717 and parameters: {'n_estimators': 80, 'max_depth': 1, 'min_samples_leaf': 3, 'min_samples_split': 3}. Best is trial 64 with value: 0.5698303684272247.\u001b[0m\n",
      "\u001b[32m[I 2023-08-30 02:09:17,023]\u001b[0m Trial 78 finished with value: 0.5544639367819464 and parameters: {'n_estimators': 72, 'max_depth': 9, 'min_samples_leaf': 4, 'min_samples_split': 5}. Best is trial 64 with value: 0.5698303684272247.\u001b[0m\n",
      "\u001b[32m[I 2023-08-30 02:09:18,101]\u001b[0m Trial 79 finished with value: 0.5605496729542059 and parameters: {'n_estimators': 24, 'max_depth': 10, 'min_samples_leaf': 2, 'min_samples_split': 2}. Best is trial 64 with value: 0.5698303684272247.\u001b[0m\n",
      "\u001b[32m[I 2023-08-30 02:09:20,444]\u001b[0m Trial 80 finished with value: 0.5457097402437079 and parameters: {'n_estimators': 60, 'max_depth': 8, 'min_samples_leaf': 1, 'min_samples_split': 4}. Best is trial 64 with value: 0.5698303684272247.\u001b[0m\n",
      "\u001b[32m[I 2023-08-30 02:09:23,917]\u001b[0m Trial 81 finished with value: 0.5687674369089494 and parameters: {'n_estimators': 76, 'max_depth': 10, 'min_samples_leaf': 2, 'min_samples_split': 4}. Best is trial 64 with value: 0.5698303684272247.\u001b[0m\n",
      "\u001b[32m[I 2023-08-30 02:09:27,379]\u001b[0m Trial 82 finished with value: 0.5687674369089494 and parameters: {'n_estimators': 76, 'max_depth': 10, 'min_samples_leaf': 2, 'min_samples_split': 3}. Best is trial 64 with value: 0.5698303684272247.\u001b[0m\n",
      "\u001b[32m[I 2023-08-30 02:09:30,907]\u001b[0m Trial 83 finished with value: 0.564503933919122 and parameters: {'n_estimators': 77, 'max_depth': 10, 'min_samples_leaf': 3, 'min_samples_split': 4}. Best is trial 64 with value: 0.5698303684272247.\u001b[0m\n",
      "\u001b[32m[I 2023-08-30 02:09:34,551]\u001b[0m Trial 84 finished with value: 0.5656394233296697 and parameters: {'n_estimators': 87, 'max_depth': 10, 'min_samples_leaf': 3, 'min_samples_split': 5}. Best is trial 64 with value: 0.5698303684272247.\u001b[0m\n",
      "\u001b[32m[I 2023-08-30 02:09:37,586]\u001b[0m Trial 85 finished with value: 0.5559224133221488 and parameters: {'n_estimators': 70, 'max_depth': 9, 'min_samples_leaf': 1, 'min_samples_split': 3}. Best is trial 64 with value: 0.5698303684272247.\u001b[0m\n",
      "\u001b[32m[I 2023-08-30 02:09:41,102]\u001b[0m Trial 86 finished with value: 0.5685800726340936 and parameters: {'n_estimators': 84, 'max_depth': 10, 'min_samples_leaf': 2, 'min_samples_split': 6}. Best is trial 64 with value: 0.5698303684272247.\u001b[0m\n",
      "\u001b[32m[I 2023-08-30 02:09:42,180]\u001b[0m Trial 87 finished with value: 0.34517834978242573 and parameters: {'n_estimators': 81, 'max_depth': 2, 'min_samples_leaf': 5, 'min_samples_split': 3}. Best is trial 64 with value: 0.5698303684272247.\u001b[0m\n",
      "\u001b[32m[I 2023-08-30 02:09:43,811]\u001b[0m Trial 88 finished with value: 0.5140256247063126 and parameters: {'n_estimators': 57, 'max_depth': 9, 'min_samples_leaf': 11, 'min_samples_split': 4}. Best is trial 64 with value: 0.5698303684272247.\u001b[0m\n",
      "\u001b[32m[I 2023-08-30 02:09:46,495]\u001b[0m Trial 89 finished with value: 0.5396080198831203 and parameters: {'n_estimators': 77, 'max_depth': 10, 'min_samples_leaf': 4, 'min_samples_split': 20}. Best is trial 64 with value: 0.5698303684272247.\u001b[0m\n",
      "\u001b[32m[I 2023-08-30 02:09:49,849]\u001b[0m Trial 90 finished with value: 0.5576618794361762 and parameters: {'n_estimators': 88, 'max_depth': 9, 'min_samples_leaf': 3, 'min_samples_split': 5}. Best is trial 64 with value: 0.5698303684272247.\u001b[0m\n",
      "\u001b[32m[I 2023-08-30 02:09:53,350]\u001b[0m Trial 91 finished with value: 0.5685800726340936 and parameters: {'n_estimators': 84, 'max_depth': 10, 'min_samples_leaf': 2, 'min_samples_split': 6}. Best is trial 64 with value: 0.5698303684272247.\u001b[0m\n",
      "\u001b[32m[I 2023-08-30 02:09:56,933]\u001b[0m Trial 92 finished with value: 0.569349264744303 and parameters: {'n_estimators': 83, 'max_depth': 10, 'min_samples_leaf': 2, 'min_samples_split': 4}. Best is trial 64 with value: 0.5698303684272247.\u001b[0m\n",
      "\u001b[32m[I 2023-08-30 02:09:59,366]\u001b[0m Trial 93 finished with value: 0.5043489506974538 and parameters: {'n_estimators': 90, 'max_depth': 10, 'min_samples_leaf': 14, 'min_samples_split': 5}. Best is trial 64 with value: 0.5698303684272247.\u001b[0m\n",
      "\u001b[32m[I 2023-08-30 02:10:01,848]\u001b[0m Trial 94 finished with value: 0.4958844935140926 and parameters: {'n_estimators': 82, 'max_depth': 6, 'min_samples_leaf': 1, 'min_samples_split': 4}. Best is trial 64 with value: 0.5698303684272247.\u001b[0m\n",
      "\u001b[32m[I 2023-08-30 02:10:04,402]\u001b[0m Trial 95 finished with value: 0.5455410618507128 and parameters: {'n_estimators': 68, 'max_depth': 10, 'min_samples_leaf': 2, 'min_samples_split': 18}. Best is trial 64 with value: 0.5698303684272247.\u001b[0m\n",
      "\u001b[32m[I 2023-08-30 02:10:07,374]\u001b[0m Trial 96 finished with value: 0.562198585809454 and parameters: {'n_estimators': 78, 'max_depth': 10, 'min_samples_leaf': 4, 'min_samples_split': 4}. Best is trial 64 with value: 0.5698303684272247.\u001b[0m\n",
      "\u001b[32m[I 2023-08-30 02:10:10,455]\u001b[0m Trial 97 finished with value: 0.5577024775024197 and parameters: {'n_estimators': 80, 'max_depth': 9, 'min_samples_leaf': 3, 'min_samples_split': 3}. Best is trial 64 with value: 0.5698303684272247.\u001b[0m\n",
      "\u001b[32m[I 2023-08-30 02:10:14,215]\u001b[0m Trial 98 finished with value: 0.5655866632668187 and parameters: {'n_estimators': 86, 'max_depth': 10, 'min_samples_leaf': 1, 'min_samples_split': 5}. Best is trial 64 with value: 0.5698303684272247.\u001b[0m\n",
      "\u001b[32m[I 2023-08-30 02:10:17,136]\u001b[0m Trial 99 finished with value: 0.5621538140162888 and parameters: {'n_estimators': 73, 'max_depth': 10, 'min_samples_leaf': 2, 'min_samples_split': 10}. Best is trial 64 with value: 0.5698303684272247.\u001b[0m\n"
     ]
    },
    {
     "name": "stdout",
     "output_type": "stream",
     "text": [
      "Best r2:  0.5698303684272247\n",
      "Best trial: {'n_estimators': 80, 'max_depth': 10, 'min_samples_leaf': 2, 'min_samples_split': 3}\n"
     ]
    }
   ],
   "source": [
    "sampler = TPESampler()\n",
    "study = optuna.create_study(\n",
    "    study_name=\"rf_parameter_opt\",\n",
    "    direction=\"maximize\",\n",
    "    sampler=sampler,\n",
    ")\n",
    "\n",
    "study.optimize(lambda trial : objectiveRF(trial, Cd_X_train, Cd_y_train), n_trials=100)\n",
    "print(\"Best r2: \", study.best_value)\n",
    "print(\"Best trial:\", study.best_trial.params)"
   ]
  },
  {
   "cell_type": "code",
   "execution_count": 38,
   "id": "861f88d8",
   "metadata": {},
   "outputs": [
    {
     "data": {
      "application/vnd.plotly.v1+json": {
       "config": {
        "plotlyServerURL": "https://plot.ly"
       },
       "data": [
        {
         "dimensions": [
          {
           "label": "Objective Value",
           "range": [
            0.201119742400717,
            0.5698303684272247
           ],
           "values": [
            0.5116255016061766,
            0.4227224486884766,
            0.5170871101105491,
            0.39102585022419956,
            0.34392859540065085,
            0.49233514637815334,
            0.4599120945257848,
            0.4250923551657106,
            0.34563058683937375,
            0.48742425946422896,
            0.5116221018202445,
            0.4969966250402722,
            0.5130622395526641,
            0.5363154213838623,
            0.5113816755400344,
            0.5564300956983684,
            0.512084416856538,
            0.5351916600410809,
            0.4957866342614232,
            0.5120380445141384,
            0.5272678003043976,
            0.5347065738156374,
            0.5677743954632509,
            0.5677743954632509,
            0.5677743954632509,
            0.5691207711919557,
            0.5659067503620672,
            0.20118425435677184,
            0.5689993714176821,
            0.4971638675861114,
            0.5451085954981546,
            0.5637128879093505,
            0.5523804923709253,
            0.5694594887579882,
            0.5468953767506852,
            0.5547204972777207,
            0.5599198956822511,
            0.5537944137960353,
            0.5436768301711534,
            0.42811181974066653,
            0.5401502314368946,
            0.5631496977262851,
            0.5593343686470715,
            0.5685513498599908,
            0.5646924943896839,
            0.38861144801625735,
            0.4576467818067348,
            0.5269097102283249,
            0.49852570328536083,
            0.5408880165403639,
            0.5153591523720713,
            0.5675911356383543,
            0.562034363218477,
            0.5597075748531009,
            0.5631997441528354,
            0.545940849417569,
            0.5599660117089185,
            0.5541497517998111,
            0.55439684319884,
            0.5508038907215701,
            0.5047394680246431,
            0.5672813756170444,
            0.569317959026028,
            0.569317959026028,
            0.5698303684272247,
            0.5569958904516976,
            0.5683793804547851,
            0.5591438346777263,
            0.5638901882260992,
            0.55439684319884,
            0.5623107512813201,
            0.5683793804547851,
            0.5698303684272247,
            0.5651213482482639,
            0.5599762003644437,
            0.5639014651733918,
            0.4924498592700476,
            0.201119742400717,
            0.5544639367819464,
            0.5605496729542059,
            0.5457097402437079,
            0.5687674369089494,
            0.5687674369089494,
            0.564503933919122,
            0.5656394233296697,
            0.5559224133221488,
            0.5685800726340936,
            0.34517834978242573,
            0.5140256247063126,
            0.5396080198831203,
            0.5576618794361762,
            0.5685800726340936,
            0.569349264744303,
            0.5043489506974538,
            0.4958844935140926,
            0.5455410618507128,
            0.562198585809454,
            0.5577024775024197,
            0.5655866632668187,
            0.5621538140162888
           ]
          },
          {
           "label": "max_depth",
           "range": [
            1,
            10
           ],
           "values": [
            7,
            4,
            8,
            3,
            2,
            9,
            5,
            4,
            2,
            10,
            7,
            7,
            7,
            8,
            9,
            9,
            10,
            9,
            6,
            8,
            8,
            9,
            10,
            10,
            10,
            10,
            10,
            1,
            10,
            6,
            10,
            10,
            9,
            10,
            8,
            9,
            10,
            9,
            8,
            4,
            10,
            10,
            9,
            10,
            10,
            3,
            5,
            9,
            10,
            9,
            7,
            10,
            10,
            9,
            10,
            8,
            9,
            10,
            9,
            10,
            8,
            10,
            10,
            10,
            10,
            9,
            10,
            9,
            10,
            9,
            10,
            10,
            10,
            10,
            9,
            10,
            10,
            1,
            9,
            10,
            8,
            10,
            10,
            10,
            10,
            9,
            10,
            2,
            9,
            10,
            9,
            10,
            10,
            10,
            6,
            10,
            10,
            9,
            10,
            10
           ]
          },
          {
           "label": "min_samples_leaf",
           "range": [
            1,
            20
           ],
           "values": [
            5,
            9,
            3,
            20,
            5,
            19,
            18,
            16,
            8,
            20,
            1,
            1,
            5,
            5,
            12,
            3,
            12,
            7,
            3,
            10,
            7,
            7,
            3,
            3,
            3,
            2,
            1,
            14,
            2,
            2,
            6,
            3,
            4,
            2,
            1,
            4,
            2,
            4,
            2,
            6,
            6,
            4,
            2,
            2,
            1,
            2,
            5,
            9,
            16,
            1,
            5,
            3,
            4,
            2,
            3,
            1,
            3,
            2,
            4,
            5,
            12,
            3,
            2,
            2,
            2,
            1,
            2,
            2,
            1,
            4,
            1,
            2,
            2,
            3,
            2,
            1,
            19,
            3,
            4,
            2,
            1,
            2,
            2,
            3,
            3,
            1,
            2,
            5,
            11,
            4,
            3,
            2,
            2,
            14,
            1,
            2,
            4,
            3,
            1,
            2
           ]
          },
          {
           "label": "min_samples_split",
           "range": [
            2,
            20
           ],
           "values": [
            14,
            16,
            19,
            10,
            16,
            2,
            10,
            16,
            20,
            6,
            19,
            13,
            13,
            7,
            6,
            7,
            7,
            3,
            8,
            4,
            9,
            3,
            5,
            5,
            5,
            5,
            5,
            2,
            4,
            3,
            9,
            5,
            4,
            4,
            4,
            2,
            11,
            6,
            8,
            3,
            4,
            5,
            6,
            2,
            2,
            2,
            3,
            4,
            12,
            17,
            6,
            5,
            7,
            4,
            8,
            3,
            6,
            15,
            5,
            2,
            7,
            5,
            4,
            4,
            3,
            3,
            4,
            2,
            3,
            4,
            3,
            4,
            4,
            3,
            2,
            4,
            6,
            3,
            5,
            2,
            4,
            4,
            3,
            4,
            5,
            3,
            6,
            3,
            4,
            20,
            5,
            6,
            4,
            5,
            4,
            18,
            4,
            3,
            5,
            10
           ]
          },
          {
           "label": "n_estimators",
           "range": [
            10,
            100
           ],
           "values": [
            53,
            40,
            17,
            42,
            18,
            70,
            74,
            29,
            73,
            28,
            100,
            10,
            53,
            92,
            98,
            90,
            86,
            84,
            84,
            63,
            91,
            81,
            93,
            93,
            93,
            65,
            62,
            79,
            65,
            61,
            48,
            66,
            55,
            77,
            77,
            66,
            46,
            69,
            59,
            73,
            35,
            96,
            87,
            74,
            74,
            69,
            57,
            78,
            49,
            66,
            71,
            96,
            82,
            87,
            76,
            89,
            99,
            94,
            82,
            65,
            53,
            92,
            85,
            85,
            80,
            79,
            75,
            85,
            72,
            82,
            68,
            75,
            80,
            79,
            89,
            63,
            84,
            80,
            72,
            24,
            60,
            76,
            76,
            77,
            87,
            70,
            84,
            81,
            57,
            77,
            88,
            84,
            83,
            90,
            82,
            68,
            78,
            80,
            86,
            73
           ]
          }
         ],
         "labelangle": 30,
         "labelside": "bottom",
         "line": {
          "color": [
           0.5116255016061766,
           0.4227224486884766,
           0.5170871101105491,
           0.39102585022419956,
           0.34392859540065085,
           0.49233514637815334,
           0.4599120945257848,
           0.4250923551657106,
           0.34563058683937375,
           0.48742425946422896,
           0.5116221018202445,
           0.4969966250402722,
           0.5130622395526641,
           0.5363154213838623,
           0.5113816755400344,
           0.5564300956983684,
           0.512084416856538,
           0.5351916600410809,
           0.4957866342614232,
           0.5120380445141384,
           0.5272678003043976,
           0.5347065738156374,
           0.5677743954632509,
           0.5677743954632509,
           0.5677743954632509,
           0.5691207711919557,
           0.5659067503620672,
           0.20118425435677184,
           0.5689993714176821,
           0.4971638675861114,
           0.5451085954981546,
           0.5637128879093505,
           0.5523804923709253,
           0.5694594887579882,
           0.5468953767506852,
           0.5547204972777207,
           0.5599198956822511,
           0.5537944137960353,
           0.5436768301711534,
           0.42811181974066653,
           0.5401502314368946,
           0.5631496977262851,
           0.5593343686470715,
           0.5685513498599908,
           0.5646924943896839,
           0.38861144801625735,
           0.4576467818067348,
           0.5269097102283249,
           0.49852570328536083,
           0.5408880165403639,
           0.5153591523720713,
           0.5675911356383543,
           0.562034363218477,
           0.5597075748531009,
           0.5631997441528354,
           0.545940849417569,
           0.5599660117089185,
           0.5541497517998111,
           0.55439684319884,
           0.5508038907215701,
           0.5047394680246431,
           0.5672813756170444,
           0.569317959026028,
           0.569317959026028,
           0.5698303684272247,
           0.5569958904516976,
           0.5683793804547851,
           0.5591438346777263,
           0.5638901882260992,
           0.55439684319884,
           0.5623107512813201,
           0.5683793804547851,
           0.5698303684272247,
           0.5651213482482639,
           0.5599762003644437,
           0.5639014651733918,
           0.4924498592700476,
           0.201119742400717,
           0.5544639367819464,
           0.5605496729542059,
           0.5457097402437079,
           0.5687674369089494,
           0.5687674369089494,
           0.564503933919122,
           0.5656394233296697,
           0.5559224133221488,
           0.5685800726340936,
           0.34517834978242573,
           0.5140256247063126,
           0.5396080198831203,
           0.5576618794361762,
           0.5685800726340936,
           0.569349264744303,
           0.5043489506974538,
           0.4958844935140926,
           0.5455410618507128,
           0.562198585809454,
           0.5577024775024197,
           0.5655866632668187,
           0.5621538140162888
          ],
          "colorbar": {
           "title": {
            "text": "Objective Value"
           }
          },
          "colorscale": [
           [
            0,
            "rgb(247,251,255)"
           ],
           [
            0.125,
            "rgb(222,235,247)"
           ],
           [
            0.25,
            "rgb(198,219,239)"
           ],
           [
            0.375,
            "rgb(158,202,225)"
           ],
           [
            0.5,
            "rgb(107,174,214)"
           ],
           [
            0.625,
            "rgb(66,146,198)"
           ],
           [
            0.75,
            "rgb(33,113,181)"
           ],
           [
            0.875,
            "rgb(8,81,156)"
           ],
           [
            1,
            "rgb(8,48,107)"
           ]
          ],
          "reversescale": false,
          "showscale": true
         },
         "type": "parcoords"
        }
       ],
       "layout": {
        "template": {
         "data": {
          "bar": [
           {
            "error_x": {
             "color": "#2a3f5f"
            },
            "error_y": {
             "color": "#2a3f5f"
            },
            "marker": {
             "line": {
              "color": "#E5ECF6",
              "width": 0.5
             },
             "pattern": {
              "fillmode": "overlay",
              "size": 10,
              "solidity": 0.2
             }
            },
            "type": "bar"
           }
          ],
          "barpolar": [
           {
            "marker": {
             "line": {
              "color": "#E5ECF6",
              "width": 0.5
             },
             "pattern": {
              "fillmode": "overlay",
              "size": 10,
              "solidity": 0.2
             }
            },
            "type": "barpolar"
           }
          ],
          "carpet": [
           {
            "aaxis": {
             "endlinecolor": "#2a3f5f",
             "gridcolor": "white",
             "linecolor": "white",
             "minorgridcolor": "white",
             "startlinecolor": "#2a3f5f"
            },
            "baxis": {
             "endlinecolor": "#2a3f5f",
             "gridcolor": "white",
             "linecolor": "white",
             "minorgridcolor": "white",
             "startlinecolor": "#2a3f5f"
            },
            "type": "carpet"
           }
          ],
          "choropleth": [
           {
            "colorbar": {
             "outlinewidth": 0,
             "ticks": ""
            },
            "type": "choropleth"
           }
          ],
          "contour": [
           {
            "colorbar": {
             "outlinewidth": 0,
             "ticks": ""
            },
            "colorscale": [
             [
              0,
              "#0d0887"
             ],
             [
              0.1111111111111111,
              "#46039f"
             ],
             [
              0.2222222222222222,
              "#7201a8"
             ],
             [
              0.3333333333333333,
              "#9c179e"
             ],
             [
              0.4444444444444444,
              "#bd3786"
             ],
             [
              0.5555555555555556,
              "#d8576b"
             ],
             [
              0.6666666666666666,
              "#ed7953"
             ],
             [
              0.7777777777777778,
              "#fb9f3a"
             ],
             [
              0.8888888888888888,
              "#fdca26"
             ],
             [
              1,
              "#f0f921"
             ]
            ],
            "type": "contour"
           }
          ],
          "contourcarpet": [
           {
            "colorbar": {
             "outlinewidth": 0,
             "ticks": ""
            },
            "type": "contourcarpet"
           }
          ],
          "heatmap": [
           {
            "colorbar": {
             "outlinewidth": 0,
             "ticks": ""
            },
            "colorscale": [
             [
              0,
              "#0d0887"
             ],
             [
              0.1111111111111111,
              "#46039f"
             ],
             [
              0.2222222222222222,
              "#7201a8"
             ],
             [
              0.3333333333333333,
              "#9c179e"
             ],
             [
              0.4444444444444444,
              "#bd3786"
             ],
             [
              0.5555555555555556,
              "#d8576b"
             ],
             [
              0.6666666666666666,
              "#ed7953"
             ],
             [
              0.7777777777777778,
              "#fb9f3a"
             ],
             [
              0.8888888888888888,
              "#fdca26"
             ],
             [
              1,
              "#f0f921"
             ]
            ],
            "type": "heatmap"
           }
          ],
          "heatmapgl": [
           {
            "colorbar": {
             "outlinewidth": 0,
             "ticks": ""
            },
            "colorscale": [
             [
              0,
              "#0d0887"
             ],
             [
              0.1111111111111111,
              "#46039f"
             ],
             [
              0.2222222222222222,
              "#7201a8"
             ],
             [
              0.3333333333333333,
              "#9c179e"
             ],
             [
              0.4444444444444444,
              "#bd3786"
             ],
             [
              0.5555555555555556,
              "#d8576b"
             ],
             [
              0.6666666666666666,
              "#ed7953"
             ],
             [
              0.7777777777777778,
              "#fb9f3a"
             ],
             [
              0.8888888888888888,
              "#fdca26"
             ],
             [
              1,
              "#f0f921"
             ]
            ],
            "type": "heatmapgl"
           }
          ],
          "histogram": [
           {
            "marker": {
             "pattern": {
              "fillmode": "overlay",
              "size": 10,
              "solidity": 0.2
             }
            },
            "type": "histogram"
           }
          ],
          "histogram2d": [
           {
            "colorbar": {
             "outlinewidth": 0,
             "ticks": ""
            },
            "colorscale": [
             [
              0,
              "#0d0887"
             ],
             [
              0.1111111111111111,
              "#46039f"
             ],
             [
              0.2222222222222222,
              "#7201a8"
             ],
             [
              0.3333333333333333,
              "#9c179e"
             ],
             [
              0.4444444444444444,
              "#bd3786"
             ],
             [
              0.5555555555555556,
              "#d8576b"
             ],
             [
              0.6666666666666666,
              "#ed7953"
             ],
             [
              0.7777777777777778,
              "#fb9f3a"
             ],
             [
              0.8888888888888888,
              "#fdca26"
             ],
             [
              1,
              "#f0f921"
             ]
            ],
            "type": "histogram2d"
           }
          ],
          "histogram2dcontour": [
           {
            "colorbar": {
             "outlinewidth": 0,
             "ticks": ""
            },
            "colorscale": [
             [
              0,
              "#0d0887"
             ],
             [
              0.1111111111111111,
              "#46039f"
             ],
             [
              0.2222222222222222,
              "#7201a8"
             ],
             [
              0.3333333333333333,
              "#9c179e"
             ],
             [
              0.4444444444444444,
              "#bd3786"
             ],
             [
              0.5555555555555556,
              "#d8576b"
             ],
             [
              0.6666666666666666,
              "#ed7953"
             ],
             [
              0.7777777777777778,
              "#fb9f3a"
             ],
             [
              0.8888888888888888,
              "#fdca26"
             ],
             [
              1,
              "#f0f921"
             ]
            ],
            "type": "histogram2dcontour"
           }
          ],
          "mesh3d": [
           {
            "colorbar": {
             "outlinewidth": 0,
             "ticks": ""
            },
            "type": "mesh3d"
           }
          ],
          "parcoords": [
           {
            "line": {
             "colorbar": {
              "outlinewidth": 0,
              "ticks": ""
             }
            },
            "type": "parcoords"
           }
          ],
          "pie": [
           {
            "automargin": true,
            "type": "pie"
           }
          ],
          "scatter": [
           {
            "marker": {
             "colorbar": {
              "outlinewidth": 0,
              "ticks": ""
             }
            },
            "type": "scatter"
           }
          ],
          "scatter3d": [
           {
            "line": {
             "colorbar": {
              "outlinewidth": 0,
              "ticks": ""
             }
            },
            "marker": {
             "colorbar": {
              "outlinewidth": 0,
              "ticks": ""
             }
            },
            "type": "scatter3d"
           }
          ],
          "scattercarpet": [
           {
            "marker": {
             "colorbar": {
              "outlinewidth": 0,
              "ticks": ""
             }
            },
            "type": "scattercarpet"
           }
          ],
          "scattergeo": [
           {
            "marker": {
             "colorbar": {
              "outlinewidth": 0,
              "ticks": ""
             }
            },
            "type": "scattergeo"
           }
          ],
          "scattergl": [
           {
            "marker": {
             "colorbar": {
              "outlinewidth": 0,
              "ticks": ""
             }
            },
            "type": "scattergl"
           }
          ],
          "scattermapbox": [
           {
            "marker": {
             "colorbar": {
              "outlinewidth": 0,
              "ticks": ""
             }
            },
            "type": "scattermapbox"
           }
          ],
          "scatterpolar": [
           {
            "marker": {
             "colorbar": {
              "outlinewidth": 0,
              "ticks": ""
             }
            },
            "type": "scatterpolar"
           }
          ],
          "scatterpolargl": [
           {
            "marker": {
             "colorbar": {
              "outlinewidth": 0,
              "ticks": ""
             }
            },
            "type": "scatterpolargl"
           }
          ],
          "scatterternary": [
           {
            "marker": {
             "colorbar": {
              "outlinewidth": 0,
              "ticks": ""
             }
            },
            "type": "scatterternary"
           }
          ],
          "surface": [
           {
            "colorbar": {
             "outlinewidth": 0,
             "ticks": ""
            },
            "colorscale": [
             [
              0,
              "#0d0887"
             ],
             [
              0.1111111111111111,
              "#46039f"
             ],
             [
              0.2222222222222222,
              "#7201a8"
             ],
             [
              0.3333333333333333,
              "#9c179e"
             ],
             [
              0.4444444444444444,
              "#bd3786"
             ],
             [
              0.5555555555555556,
              "#d8576b"
             ],
             [
              0.6666666666666666,
              "#ed7953"
             ],
             [
              0.7777777777777778,
              "#fb9f3a"
             ],
             [
              0.8888888888888888,
              "#fdca26"
             ],
             [
              1,
              "#f0f921"
             ]
            ],
            "type": "surface"
           }
          ],
          "table": [
           {
            "cells": {
             "fill": {
              "color": "#EBF0F8"
             },
             "line": {
              "color": "white"
             }
            },
            "header": {
             "fill": {
              "color": "#C8D4E3"
             },
             "line": {
              "color": "white"
             }
            },
            "type": "table"
           }
          ]
         },
         "layout": {
          "annotationdefaults": {
           "arrowcolor": "#2a3f5f",
           "arrowhead": 0,
           "arrowwidth": 1
          },
          "autotypenumbers": "strict",
          "coloraxis": {
           "colorbar": {
            "outlinewidth": 0,
            "ticks": ""
           }
          },
          "colorscale": {
           "diverging": [
            [
             0,
             "#8e0152"
            ],
            [
             0.1,
             "#c51b7d"
            ],
            [
             0.2,
             "#de77ae"
            ],
            [
             0.3,
             "#f1b6da"
            ],
            [
             0.4,
             "#fde0ef"
            ],
            [
             0.5,
             "#f7f7f7"
            ],
            [
             0.6,
             "#e6f5d0"
            ],
            [
             0.7,
             "#b8e186"
            ],
            [
             0.8,
             "#7fbc41"
            ],
            [
             0.9,
             "#4d9221"
            ],
            [
             1,
             "#276419"
            ]
           ],
           "sequential": [
            [
             0,
             "#0d0887"
            ],
            [
             0.1111111111111111,
             "#46039f"
            ],
            [
             0.2222222222222222,
             "#7201a8"
            ],
            [
             0.3333333333333333,
             "#9c179e"
            ],
            [
             0.4444444444444444,
             "#bd3786"
            ],
            [
             0.5555555555555556,
             "#d8576b"
            ],
            [
             0.6666666666666666,
             "#ed7953"
            ],
            [
             0.7777777777777778,
             "#fb9f3a"
            ],
            [
             0.8888888888888888,
             "#fdca26"
            ],
            [
             1,
             "#f0f921"
            ]
           ],
           "sequentialminus": [
            [
             0,
             "#0d0887"
            ],
            [
             0.1111111111111111,
             "#46039f"
            ],
            [
             0.2222222222222222,
             "#7201a8"
            ],
            [
             0.3333333333333333,
             "#9c179e"
            ],
            [
             0.4444444444444444,
             "#bd3786"
            ],
            [
             0.5555555555555556,
             "#d8576b"
            ],
            [
             0.6666666666666666,
             "#ed7953"
            ],
            [
             0.7777777777777778,
             "#fb9f3a"
            ],
            [
             0.8888888888888888,
             "#fdca26"
            ],
            [
             1,
             "#f0f921"
            ]
           ]
          },
          "colorway": [
           "#636efa",
           "#EF553B",
           "#00cc96",
           "#ab63fa",
           "#FFA15A",
           "#19d3f3",
           "#FF6692",
           "#B6E880",
           "#FF97FF",
           "#FECB52"
          ],
          "font": {
           "color": "#2a3f5f"
          },
          "geo": {
           "bgcolor": "white",
           "lakecolor": "white",
           "landcolor": "#E5ECF6",
           "showlakes": true,
           "showland": true,
           "subunitcolor": "white"
          },
          "hoverlabel": {
           "align": "left"
          },
          "hovermode": "closest",
          "mapbox": {
           "style": "light"
          },
          "paper_bgcolor": "white",
          "plot_bgcolor": "#E5ECF6",
          "polar": {
           "angularaxis": {
            "gridcolor": "white",
            "linecolor": "white",
            "ticks": ""
           },
           "bgcolor": "#E5ECF6",
           "radialaxis": {
            "gridcolor": "white",
            "linecolor": "white",
            "ticks": ""
           }
          },
          "scene": {
           "xaxis": {
            "backgroundcolor": "#E5ECF6",
            "gridcolor": "white",
            "gridwidth": 2,
            "linecolor": "white",
            "showbackground": true,
            "ticks": "",
            "zerolinecolor": "white"
           },
           "yaxis": {
            "backgroundcolor": "#E5ECF6",
            "gridcolor": "white",
            "gridwidth": 2,
            "linecolor": "white",
            "showbackground": true,
            "ticks": "",
            "zerolinecolor": "white"
           },
           "zaxis": {
            "backgroundcolor": "#E5ECF6",
            "gridcolor": "white",
            "gridwidth": 2,
            "linecolor": "white",
            "showbackground": true,
            "ticks": "",
            "zerolinecolor": "white"
           }
          },
          "shapedefaults": {
           "line": {
            "color": "#2a3f5f"
           }
          },
          "ternary": {
           "aaxis": {
            "gridcolor": "white",
            "linecolor": "white",
            "ticks": ""
           },
           "baxis": {
            "gridcolor": "white",
            "linecolor": "white",
            "ticks": ""
           },
           "bgcolor": "#E5ECF6",
           "caxis": {
            "gridcolor": "white",
            "linecolor": "white",
            "ticks": ""
           }
          },
          "title": {
           "x": 0.05
          },
          "xaxis": {
           "automargin": true,
           "gridcolor": "white",
           "linecolor": "white",
           "ticks": "",
           "title": {
            "standoff": 15
           },
           "zerolinecolor": "white",
           "zerolinewidth": 2
          },
          "yaxis": {
           "automargin": true,
           "gridcolor": "white",
           "linecolor": "white",
           "ticks": "",
           "title": {
            "standoff": 15
           },
           "zerolinecolor": "white",
           "zerolinewidth": 2
          }
         }
        },
        "title": {
         "text": "Parallel Coordinate Plot"
        }
       }
      }
     },
     "metadata": {},
     "output_type": "display_data"
    }
   ],
   "source": [
    "optuna.visualization.plot_parallel_coordinate(study)"
   ]
  },
  {
   "cell_type": "code",
   "execution_count": 39,
   "id": "4afa60aa",
   "metadata": {},
   "outputs": [
    {
     "name": "stdout",
     "output_type": "stream",
     "text": [
      "Best trial: {'n_estimators': 80, 'max_depth': 10, 'min_samples_leaf': 2, 'min_samples_split': 3}\n"
     ]
    },
    {
     "data": {
      "text/plain": [
       "80"
      ]
     },
     "execution_count": 39,
     "metadata": {},
     "output_type": "execute_result"
    }
   ],
   "source": [
    "print(\"Best trial:\", study.best_trial.params)\n",
    "study.best_trial.params[\"n_estimators\"]"
   ]
  },
  {
   "cell_type": "code",
   "execution_count": 40,
   "id": "3b45adad",
   "metadata": {},
   "outputs": [
    {
     "data": {
      "text/html": [
       "<style>#sk-container-id-2 {color: black;}#sk-container-id-2 pre{padding: 0;}#sk-container-id-2 div.sk-toggleable {background-color: white;}#sk-container-id-2 label.sk-toggleable__label {cursor: pointer;display: block;width: 100%;margin-bottom: 0;padding: 0.3em;box-sizing: border-box;text-align: center;}#sk-container-id-2 label.sk-toggleable__label-arrow:before {content: \"▸\";float: left;margin-right: 0.25em;color: #696969;}#sk-container-id-2 label.sk-toggleable__label-arrow:hover:before {color: black;}#sk-container-id-2 div.sk-estimator:hover label.sk-toggleable__label-arrow:before {color: black;}#sk-container-id-2 div.sk-toggleable__content {max-height: 0;max-width: 0;overflow: hidden;text-align: left;background-color: #f0f8ff;}#sk-container-id-2 div.sk-toggleable__content pre {margin: 0.2em;color: black;border-radius: 0.25em;background-color: #f0f8ff;}#sk-container-id-2 input.sk-toggleable__control:checked~div.sk-toggleable__content {max-height: 200px;max-width: 100%;overflow: auto;}#sk-container-id-2 input.sk-toggleable__control:checked~label.sk-toggleable__label-arrow:before {content: \"▾\";}#sk-container-id-2 div.sk-estimator input.sk-toggleable__control:checked~label.sk-toggleable__label {background-color: #d4ebff;}#sk-container-id-2 div.sk-label input.sk-toggleable__control:checked~label.sk-toggleable__label {background-color: #d4ebff;}#sk-container-id-2 input.sk-hidden--visually {border: 0;clip: rect(1px 1px 1px 1px);clip: rect(1px, 1px, 1px, 1px);height: 1px;margin: -1px;overflow: hidden;padding: 0;position: absolute;width: 1px;}#sk-container-id-2 div.sk-estimator {font-family: monospace;background-color: #f0f8ff;border: 1px dotted black;border-radius: 0.25em;box-sizing: border-box;margin-bottom: 0.5em;}#sk-container-id-2 div.sk-estimator:hover {background-color: #d4ebff;}#sk-container-id-2 div.sk-parallel-item::after {content: \"\";width: 100%;border-bottom: 1px solid gray;flex-grow: 1;}#sk-container-id-2 div.sk-label:hover label.sk-toggleable__label {background-color: #d4ebff;}#sk-container-id-2 div.sk-serial::before {content: \"\";position: absolute;border-left: 1px solid gray;box-sizing: border-box;top: 0;bottom: 0;left: 50%;z-index: 0;}#sk-container-id-2 div.sk-serial {display: flex;flex-direction: column;align-items: center;background-color: white;padding-right: 0.2em;padding-left: 0.2em;position: relative;}#sk-container-id-2 div.sk-item {position: relative;z-index: 1;}#sk-container-id-2 div.sk-parallel {display: flex;align-items: stretch;justify-content: center;background-color: white;position: relative;}#sk-container-id-2 div.sk-item::before, #sk-container-id-2 div.sk-parallel-item::before {content: \"\";position: absolute;border-left: 1px solid gray;box-sizing: border-box;top: 0;bottom: 0;left: 50%;z-index: -1;}#sk-container-id-2 div.sk-parallel-item {display: flex;flex-direction: column;z-index: 1;position: relative;background-color: white;}#sk-container-id-2 div.sk-parallel-item:first-child::after {align-self: flex-end;width: 50%;}#sk-container-id-2 div.sk-parallel-item:last-child::after {align-self: flex-start;width: 50%;}#sk-container-id-2 div.sk-parallel-item:only-child::after {width: 0;}#sk-container-id-2 div.sk-dashed-wrapped {border: 1px dashed gray;margin: 0 0.4em 0.5em 0.4em;box-sizing: border-box;padding-bottom: 0.4em;background-color: white;}#sk-container-id-2 div.sk-label label {font-family: monospace;font-weight: bold;display: inline-block;line-height: 1.2em;}#sk-container-id-2 div.sk-label-container {text-align: center;}#sk-container-id-2 div.sk-container {/* jupyter's `normalize.less` sets `[hidden] { display: none; }` but bootstrap.min.css set `[hidden] { display: none !important; }` so we also need the `!important` here to be able to override the default hidden behavior on the sphinx rendered scikit-learn.org. See: https://github.com/scikit-learn/scikit-learn/issues/21755 */display: inline-block !important;position: relative;}#sk-container-id-2 div.sk-text-repr-fallback {display: none;}</style><div id=\"sk-container-id-2\" class=\"sk-top-container\"><div class=\"sk-text-repr-fallback\"><pre>RandomForestRegressor(max_depth=10, min_samples_leaf=2, min_samples_split=3,\n",
       "                      n_estimators=80, random_state=42)</pre><b>In a Jupyter environment, please rerun this cell to show the HTML representation or trust the notebook. <br />On GitHub, the HTML representation is unable to render, please try loading this page with nbviewer.org.</b></div><div class=\"sk-container\" hidden><div class=\"sk-item\"><div class=\"sk-estimator sk-toggleable\"><input class=\"sk-toggleable__control sk-hidden--visually\" id=\"sk-estimator-id-2\" type=\"checkbox\" checked><label for=\"sk-estimator-id-2\" class=\"sk-toggleable__label sk-toggleable__label-arrow\">RandomForestRegressor</label><div class=\"sk-toggleable__content\"><pre>RandomForestRegressor(max_depth=10, min_samples_leaf=2, min_samples_split=3,\n",
       "                      n_estimators=80, random_state=42)</pre></div></div></div></div></div>"
      ],
      "text/plain": [
       "RandomForestRegressor(max_depth=10, min_samples_leaf=2, min_samples_split=3,\n",
       "                      n_estimators=80, random_state=42)"
      ]
     },
     "execution_count": 40,
     "metadata": {},
     "output_type": "execute_result"
    }
   ],
   "source": [
    "rf_params = {\n",
    "    \"random_state\": 42,\n",
    "    #\"learning_rate\": 0.1,\n",
    "    \"n_estimators\": study.best_trial.params[\"n_estimators\"],\n",
    "    \"max_depth\": study.best_trial.params[\"max_depth\"],\n",
    "    \"min_samples_leaf\": study.best_trial.params[\"min_samples_leaf\"],\n",
    "    \"min_samples_split\": study.best_trial.params[\"min_samples_split\"],\n",
    "    #\"subsample\": study.best_trial.params[\"subsample\"]\n",
    "}\n",
    "\n",
    "rf = RandomForestRegressor(**rf_params)\n",
    "rf.fit(Cd_X_train, Cd_y_train)"
   ]
  },
  {
   "cell_type": "code",
   "execution_count": 41,
   "id": "9ab1055b",
   "metadata": {},
   "outputs": [],
   "source": [
    "y_train_pred = rf.predict(Cd_X_train)\n",
    "y_test_pred = rf.predict(Cd_X_test)"
   ]
  },
  {
   "cell_type": "code",
   "execution_count": 42,
   "id": "425b4001",
   "metadata": {},
   "outputs": [
    {
     "name": "stdout",
     "output_type": "stream",
     "text": [
      "Train RMSE:  0.03234856395235188\n",
      "Test RMSE:  0.08306756627165432\n"
     ]
    }
   ],
   "source": [
    "print(\"Train RMSE: \", np.sqrt(mean_squared_error(Cd_y_train, y_train_pred)))\n",
    "print(\"Test RMSE: \", np.sqrt(mean_squared_error(Cd_y_test, y_test_pred)))"
   ]
  },
  {
   "cell_type": "code",
   "execution_count": 43,
   "id": "0f95ae3c",
   "metadata": {},
   "outputs": [
    {
     "name": "stdout",
     "output_type": "stream",
     "text": [
      "Train R2:  0.8566602657324458\n",
      "Test R2:  -0.025109219110569958\n"
     ]
    }
   ],
   "source": [
    "print(\"Train R2: \", r2_score(Cd_y_train, y_train_pred))\n",
    "print(\"Test R2: \", r2_score(Cd_y_test, y_test_pred))"
   ]
  },
  {
   "cell_type": "code",
   "execution_count": 44,
   "id": "aa0a517d",
   "metadata": {},
   "outputs": [
    {
     "data": {
      "image/png": "[encoded data removed]",
      "text/plain": [
       "<Figure size 640x480 with 1 Axes>"
      ]
     },
     "metadata": {},
     "output_type": "display_data"
    }
   ],
   "source": [
    "plt.scatter(y_train_pred, np.array(Cd_y_train), color=\"orange\", alpha=0.3)\n",
    "plt.scatter(y_test_pred, np.array(Cd_y_test), color=\"green\", alpha=0.4)\n",
    "plt.axis(\"auto\") # scaled, tight, auto, image, square\n",
    "# plt.xlim([0, 1.5]) \n",
    "# plt.ylim(0, None) \n",
    "plt.xlabel('Predicted Values')\n",
    "plt.ylabel('Actual Values')\n",
    "\n",
    "# Add y=x line\n",
    "plt.plot([0, 0.5], [0, 0.5], color='red', linestyle='-')\n",
    "\n",
    "plt.show()"
   ]
  },
  {
   "attachments": {},
   "cell_type": "markdown",
   "id": "74f680ea",
   "metadata": {},
   "source": [
    "Ni"
   ]
  },
  {
   "cell_type": "code",
   "execution_count": 45,
   "id": "de233338",
   "metadata": {},
   "outputs": [
    {
     "name": "stderr",
     "output_type": "stream",
     "text": [
      "\u001b[32m[I 2023-08-30 02:10:18,373]\u001b[0m A new study created in memory with name: rf_parameter_opt\u001b[0m\n",
      "\u001b[32m[I 2023-08-30 02:10:19,084]\u001b[0m Trial 0 finished with value: 0.21185806900547507 and parameters: {'n_estimators': 87, 'max_depth': 1, 'min_samples_leaf': 13, 'min_samples_split': 14}. Best is trial 0 with value: 0.21185806900547507.\u001b[0m\n",
      "\u001b[32m[I 2023-08-30 02:10:19,389]\u001b[0m Trial 1 finished with value: 0.6997124609935889 and parameters: {'n_estimators': 14, 'max_depth': 6, 'min_samples_leaf': 13, 'min_samples_split': 13}. Best is trial 1 with value: 0.6997124609935889.\u001b[0m\n",
      "\u001b[32m[I 2023-08-30 02:10:20,466]\u001b[0m Trial 2 finished with value: 0.5894227834599358 and parameters: {'n_estimators': 78, 'max_depth': 3, 'min_samples_leaf': 16, 'min_samples_split': 3}. Best is trial 1 with value: 0.6997124609935889.\u001b[0m\n",
      "\u001b[32m[I 2023-08-30 02:10:21,763]\u001b[0m Trial 3 finished with value: 0.7895892831252642 and parameters: {'n_estimators': 42, 'max_depth': 8, 'min_samples_leaf': 1, 'min_samples_split': 4}. Best is trial 3 with value: 0.7895892831252642.\u001b[0m\n",
      "\u001b[32m[I 2023-08-30 02:10:22,534]\u001b[0m Trial 4 finished with value: 0.6965522492626302 and parameters: {'n_estimators': 37, 'max_depth': 5, 'min_samples_leaf': 3, 'min_samples_split': 2}. Best is trial 3 with value: 0.7895892831252642.\u001b[0m\n",
      "\u001b[32m[I 2023-08-30 02:10:23,898]\u001b[0m Trial 5 finished with value: 0.688522723544825 and parameters: {'n_estimators': 70, 'max_depth': 6, 'min_samples_leaf': 16, 'min_samples_split': 20}. Best is trial 3 with value: 0.7895892831252642.\u001b[0m\n",
      "\u001b[32m[I 2023-08-30 02:10:26,153]\u001b[0m Trial 6 finished with value: 0.7657872888558294 and parameters: {'n_estimators': 91, 'max_depth': 7, 'min_samples_leaf': 5, 'min_samples_split': 12}. Best is trial 3 with value: 0.7895892831252642.\u001b[0m\n",
      "\u001b[32m[I 2023-08-30 02:10:26,888]\u001b[0m Trial 7 finished with value: 0.6435400581818118 and parameters: {'n_estimators': 44, 'max_depth': 4, 'min_samples_leaf': 12, 'min_samples_split': 2}. Best is trial 3 with value: 0.7895892831252642.\u001b[0m\n",
      "\u001b[32m[I 2023-08-30 02:10:27,290]\u001b[0m Trial 8 finished with value: 0.692042555985518 and parameters: {'n_estimators': 19, 'max_depth': 8, 'min_samples_leaf': 16, 'min_samples_split': 15}. Best is trial 3 with value: 0.7895892831252642.\u001b[0m\n",
      "\u001b[32m[I 2023-08-30 02:10:27,704]\u001b[0m Trial 9 finished with value: 0.5916661513576752 and parameters: {'n_estimators': 29, 'max_depth': 3, 'min_samples_leaf': 13, 'min_samples_split': 20}. Best is trial 3 with value: 0.7895892831252642.\u001b[0m\n",
      "\u001b[32m[I 2023-08-30 02:10:29,315]\u001b[0m Trial 10 finished with value: 0.7713572902954511 and parameters: {'n_estimators': 58, 'max_depth': 10, 'min_samples_leaf': 7, 'min_samples_split': 7}. Best is trial 3 with value: 0.7895892831252642.\u001b[0m\n",
      "\u001b[32m[I 2023-08-30 02:10:30,862]\u001b[0m Trial 11 finished with value: 0.7715168563345347 and parameters: {'n_estimators': 57, 'max_depth': 10, 'min_samples_leaf': 7, 'min_samples_split': 7}. Best is trial 3 with value: 0.7895892831252642.\u001b[0m\n",
      "\u001b[32m[I 2023-08-30 02:10:32,723]\u001b[0m Trial 12 finished with value: 0.7981323745778103 and parameters: {'n_estimators': 56, 'max_depth': 10, 'min_samples_leaf': 1, 'min_samples_split': 7}. Best is trial 12 with value: 0.7981323745778103.\u001b[0m\n",
      "\u001b[32m[I 2023-08-30 02:10:34,141]\u001b[0m Trial 13 finished with value: 0.7935079622613055 and parameters: {'n_estimators': 46, 'max_depth': 9, 'min_samples_leaf': 1, 'min_samples_split': 7}. Best is trial 12 with value: 0.7981323745778103.\u001b[0m\n",
      "\u001b[32m[I 2023-08-30 02:10:36,142]\u001b[0m Trial 14 finished with value: 0.7937220003659208 and parameters: {'n_estimators': 64, 'max_depth': 9, 'min_samples_leaf': 1, 'min_samples_split': 8}. Best is trial 12 with value: 0.7981323745778103.\u001b[0m\n",
      "\u001b[32m[I 2023-08-30 02:10:37,505]\u001b[0m Trial 15 finished with value: 0.669807846909455 and parameters: {'n_estimators': 71, 'max_depth': 9, 'min_samples_leaf': 20, 'min_samples_split': 9}. Best is trial 12 with value: 0.7981323745778103.\u001b[0m\n",
      "\u001b[32m[I 2023-08-30 02:10:39,426]\u001b[0m Trial 16 finished with value: 0.7881651994938927 and parameters: {'n_estimators': 64, 'max_depth': 10, 'min_samples_leaf': 4, 'min_samples_split': 10}. Best is trial 12 with value: 0.7981323745778103.\u001b[0m\n",
      "\u001b[32m[I 2023-08-30 02:10:41,291]\u001b[0m Trial 17 finished with value: 0.7561917304570058 and parameters: {'n_estimators': 78, 'max_depth': 8, 'min_samples_leaf': 9, 'min_samples_split': 5}. Best is trial 12 with value: 0.7981323745778103.\u001b[0m\n",
      "\u001b[32m[I 2023-08-30 02:10:42,818]\u001b[0m Trial 18 finished with value: 0.776654510009383 and parameters: {'n_estimators': 55, 'max_depth': 9, 'min_samples_leaf': 3, 'min_samples_split': 16}. Best is trial 12 with value: 0.7981323745778103.\u001b[0m\n",
      "\u001b[32m[I 2023-08-30 02:10:43,561]\u001b[0m Trial 19 finished with value: 0.7565978871798497 and parameters: {'n_estimators': 31, 'max_depth': 7, 'min_samples_leaf': 6, 'min_samples_split': 10}. Best is trial 12 with value: 0.7981323745778103.\u001b[0m\n",
      "\u001b[32m[I 2023-08-30 02:10:44,799]\u001b[0m Trial 20 finished with value: 0.7489999538166415 and parameters: {'n_estimators': 53, 'max_depth': 7, 'min_samples_leaf': 9, 'min_samples_split': 6}. Best is trial 12 with value: 0.7981323745778103.\u001b[0m\n",
      "\u001b[32m[I 2023-08-30 02:10:46,269]\u001b[0m Trial 21 finished with value: 0.790654997302029 and parameters: {'n_estimators': 48, 'max_depth': 9, 'min_samples_leaf': 1, 'min_samples_split': 8}. Best is trial 12 with value: 0.7981323745778103.\u001b[0m\n",
      "\u001b[32m[I 2023-08-30 02:10:48,351]\u001b[0m Trial 22 finished with value: 0.7999760970242881 and parameters: {'n_estimators': 67, 'max_depth': 9, 'min_samples_leaf': 1, 'min_samples_split': 5}. Best is trial 22 with value: 0.7999760970242881.\u001b[0m\n",
      "\u001b[32m[I 2023-08-30 02:10:50,429]\u001b[0m Trial 23 finished with value: 0.7953032740379584 and parameters: {'n_estimators': 64, 'max_depth': 10, 'min_samples_leaf': 3, 'min_samples_split': 5}. Best is trial 22 with value: 0.7999760970242881.\u001b[0m\n",
      "\u001b[32m[I 2023-08-30 02:10:52,941]\u001b[0m Trial 24 finished with value: 0.7959285153183107 and parameters: {'n_estimators': 81, 'max_depth': 10, 'min_samples_leaf': 3, 'min_samples_split': 5}. Best is trial 22 with value: 0.7999760970242881.\u001b[0m\n",
      "\u001b[32m[I 2023-08-30 02:10:55,549]\u001b[0m Trial 25 finished with value: 0.7958700059169418 and parameters: {'n_estimators': 82, 'max_depth': 10, 'min_samples_leaf': 3, 'min_samples_split': 4}. Best is trial 22 with value: 0.7999760970242881.\u001b[0m\n",
      "\u001b[32m[I 2023-08-30 02:10:57,943]\u001b[0m Trial 26 finished with value: 0.7796941926449229 and parameters: {'n_estimators': 93, 'max_depth': 8, 'min_samples_leaf': 5, 'min_samples_split': 5}. Best is trial 22 with value: 0.7999760970242881.\u001b[0m\n",
      "\u001b[32m[I 2023-08-30 02:11:00,080]\u001b[0m Trial 27 finished with value: 0.7909319829843031 and parameters: {'n_estimators': 69, 'max_depth': 10, 'min_samples_leaf': 2, 'min_samples_split': 11}. Best is trial 22 with value: 0.7999760970242881.\u001b[0m\n",
      "\u001b[32m[I 2023-08-30 02:11:02,812]\u001b[0m Trial 28 finished with value: 0.7847331450206865 and parameters: {'n_estimators': 100, 'max_depth': 9, 'min_samples_leaf': 5, 'min_samples_split': 3}. Best is trial 22 with value: 0.7999760970242881.\u001b[0m\n",
      "\u001b[32m[I 2023-08-30 02:11:03,746]\u001b[0m Trial 29 finished with value: 0.47258675728636385 and parameters: {'n_estimators': 84, 'max_depth': 2, 'min_samples_leaf': 8, 'min_samples_split': 6}. Best is trial 22 with value: 0.7999760970242881.\u001b[0m\n",
      "\u001b[32m[I 2023-08-30 02:11:04,361]\u001b[0m Trial 30 finished with value: 0.21277143420440597 and parameters: {'n_estimators': 76, 'max_depth': 1, 'min_samples_leaf': 2, 'min_samples_split': 9}. Best is trial 22 with value: 0.7999760970242881.\u001b[0m\n",
      "\u001b[32m[I 2023-08-30 02:11:06,888]\u001b[0m Trial 31 finished with value: 0.7910559593632185 and parameters: {'n_estimators': 85, 'max_depth': 10, 'min_samples_leaf': 4, 'min_samples_split': 4}. Best is trial 22 with value: 0.7999760970242881.\u001b[0m\n",
      "\u001b[32m[I 2023-08-30 02:11:09,354]\u001b[0m Trial 32 finished with value: 0.7962937870527271 and parameters: {'n_estimators': 80, 'max_depth': 10, 'min_samples_leaf': 3, 'min_samples_split': 4}. Best is trial 22 with value: 0.7999760970242881.\u001b[0m\n",
      "\u001b[32m[I 2023-08-30 02:11:11,668]\u001b[0m Trial 33 finished with value: 0.7999830558522285 and parameters: {'n_estimators': 74, 'max_depth': 9, 'min_samples_leaf': 2, 'min_samples_split': 3}. Best is trial 33 with value: 0.7999830558522285.\u001b[0m\n",
      "\u001b[32m[I 2023-08-30 02:11:13,762]\u001b[0m Trial 34 finished with value: 0.7903866603103479 and parameters: {'n_estimators': 73, 'max_depth': 8, 'min_samples_leaf': 2, 'min_samples_split': 3}. Best is trial 33 with value: 0.7999830558522285.\u001b[0m\n",
      "\u001b[32m[I 2023-08-30 02:11:15,868]\u001b[0m Trial 35 finished with value: 0.8022292251485332 and parameters: {'n_estimators': 62, 'max_depth': 9, 'min_samples_leaf': 1, 'min_samples_split': 2}. Best is trial 35 with value: 0.8022292251485332.\u001b[0m\n",
      "\u001b[32m[I 2023-08-30 02:11:17,137]\u001b[0m Trial 36 finished with value: 0.7043549597566863 and parameters: {'n_estimators': 62, 'max_depth': 5, 'min_samples_leaf': 1, 'min_samples_split': 2}. Best is trial 35 with value: 0.8022292251485332.\u001b[0m\n",
      "\u001b[32m[I 2023-08-30 02:11:18,297]\u001b[0m Trial 37 finished with value: 0.7425102912681687 and parameters: {'n_estimators': 51, 'max_depth': 6, 'min_samples_leaf': 4, 'min_samples_split': 3}. Best is trial 35 with value: 0.8022292251485332.\u001b[0m\n",
      "\u001b[32m[I 2023-08-30 02:11:19,887]\u001b[0m Trial 38 finished with value: 0.7644581584913871 and parameters: {'n_estimators': 67, 'max_depth': 7, 'min_samples_leaf': 6, 'min_samples_split': 2}. Best is trial 35 with value: 0.8022292251485332.\u001b[0m\n",
      "\u001b[32m[I 2023-08-30 02:11:21,609]\u001b[0m Trial 39 finished with value: 0.7875962641264938 and parameters: {'n_estimators': 60, 'max_depth': 8, 'min_samples_leaf': 2, 'min_samples_split': 6}. Best is trial 35 with value: 0.8022292251485332.\u001b[0m\n",
      "\u001b[32m[I 2023-08-30 02:11:23,113]\u001b[0m Trial 40 finished with value: 0.6834135455573682 and parameters: {'n_estimators': 75, 'max_depth': 9, 'min_samples_leaf': 18, 'min_samples_split': 3}. Best is trial 35 with value: 0.8022292251485332.\u001b[0m\n",
      "\u001b[32m[I 2023-08-30 02:11:26,071]\u001b[0m Trial 41 finished with value: 0.8019324844977692 and parameters: {'n_estimators': 92, 'max_depth': 9, 'min_samples_leaf': 1, 'min_samples_split': 4}. Best is trial 35 with value: 0.8022292251485332.\u001b[0m\n",
      "\u001b[32m[I 2023-08-30 02:11:28,964]\u001b[0m Trial 42 finished with value: 0.7934997251176934 and parameters: {'n_estimators': 99, 'max_depth': 8, 'min_samples_leaf': 1, 'min_samples_split': 4}. Best is trial 35 with value: 0.8022292251485332.\u001b[0m\n",
      "\u001b[32m[I 2023-08-30 02:11:31,823]\u001b[0m Trial 43 finished with value: 0.8000190613263406 and parameters: {'n_estimators': 92, 'max_depth': 9, 'min_samples_leaf': 2, 'min_samples_split': 2}. Best is trial 35 with value: 0.8022292251485332.\u001b[0m\n",
      "\u001b[32m[I 2023-08-30 02:11:34,626]\u001b[0m Trial 44 finished with value: 0.8003298486213307 and parameters: {'n_estimators': 91, 'max_depth': 9, 'min_samples_leaf': 2, 'min_samples_split': 2}. Best is trial 35 with value: 0.8022292251485332.\u001b[0m\n",
      "\u001b[32m[I 2023-08-30 02:11:36,998]\u001b[0m Trial 45 finished with value: 0.7843191686804072 and parameters: {'n_estimators': 89, 'max_depth': 8, 'min_samples_leaf': 4, 'min_samples_split': 2}. Best is trial 35 with value: 0.8022292251485332.\u001b[0m\n",
      "\u001b[32m[I 2023-08-30 02:11:39,008]\u001b[0m Trial 46 finished with value: 0.7273005012486088 and parameters: {'n_estimators': 95, 'max_depth': 7, 'min_samples_leaf': 12, 'min_samples_split': 2}. Best is trial 35 with value: 0.8022292251485332.\u001b[0m\n",
      "\u001b[32m[I 2023-08-30 02:11:41,814]\u001b[0m Trial 47 finished with value: 0.799995762714204 and parameters: {'n_estimators': 88, 'max_depth': 9, 'min_samples_leaf': 2, 'min_samples_split': 3}. Best is trial 35 with value: 0.8022292251485332.\u001b[0m\n",
      "\u001b[32m[I 2023-08-30 02:11:43,463]\u001b[0m Trial 48 finished with value: 0.6939654381506868 and parameters: {'n_estimators': 88, 'max_depth': 6, 'min_samples_leaf': 15, 'min_samples_split': 13}. Best is trial 35 with value: 0.8022292251485332.\u001b[0m\n",
      "\u001b[32m[I 2023-08-30 02:11:45,078]\u001b[0m Trial 49 finished with value: 0.6530776910822267 and parameters: {'n_estimators': 97, 'max_depth': 4, 'min_samples_leaf': 5, 'min_samples_split': 18}. Best is trial 35 with value: 0.8022292251485332.\u001b[0m\n",
      "\u001b[32m[I 2023-08-30 02:11:47,805]\u001b[0m Trial 50 finished with value: 0.8003298486213307 and parameters: {'n_estimators': 91, 'max_depth': 9, 'min_samples_leaf': 2, 'min_samples_split': 2}. Best is trial 35 with value: 0.8022292251485332.\u001b[0m\n",
      "\u001b[32m[I 2023-08-30 02:11:50,573]\u001b[0m Trial 51 finished with value: 0.8003298486213307 and parameters: {'n_estimators': 91, 'max_depth': 9, 'min_samples_leaf': 2, 'min_samples_split': 2}. Best is trial 35 with value: 0.8022292251485332.\u001b[0m\n",
      "\u001b[32m[I 2023-08-30 02:11:53,167]\u001b[0m Trial 52 finished with value: 0.7897261947420506 and parameters: {'n_estimators': 93, 'max_depth': 9, 'min_samples_leaf': 4, 'min_samples_split': 2}. Best is trial 35 with value: 0.8022292251485332.\u001b[0m\n",
      "\u001b[32m[I 2023-08-30 02:11:55,767]\u001b[0m Trial 53 finished with value: 0.7909549496030267 and parameters: {'n_estimators': 92, 'max_depth': 8, 'min_samples_leaf': 2, 'min_samples_split': 2}. Best is trial 35 with value: 0.8022292251485332.\u001b[0m\n",
      "\u001b[32m[I 2023-08-30 02:11:56,250]\u001b[0m Trial 54 finished with value: 0.787260688908756 and parameters: {'n_estimators': 15, 'max_depth': 9, 'min_samples_leaf': 1, 'min_samples_split': 4}. Best is trial 35 with value: 0.8022292251485332.\u001b[0m\n",
      "\u001b[32m[I 2023-08-30 02:11:57,169]\u001b[0m Trial 55 finished with value: 0.7673609951473431 and parameters: {'n_estimators': 37, 'max_depth': 8, 'min_samples_leaf': 6, 'min_samples_split': 3}. Best is trial 35 with value: 0.8022292251485332.\u001b[0m\n",
      "\u001b[32m[I 2023-08-30 02:11:59,959]\u001b[0m Trial 56 finished with value: 0.7928138026659568 and parameters: {'n_estimators': 97, 'max_depth': 9, 'min_samples_leaf': 3, 'min_samples_split': 2}. Best is trial 35 with value: 0.8022292251485332.\u001b[0m\n",
      "\u001b[32m[I 2023-08-30 02:12:01,994]\u001b[0m Trial 57 finished with value: 0.7711953204970386 and parameters: {'n_estimators': 85, 'max_depth': 7, 'min_samples_leaf': 4, 'min_samples_split': 4}. Best is trial 35 with value: 0.8022292251485332.\u001b[0m\n",
      "\u001b[32m[I 2023-08-30 02:12:04,486]\u001b[0m Trial 58 finished with value: 0.7913011503156847 and parameters: {'n_estimators': 90, 'max_depth': 8, 'min_samples_leaf': 2, 'min_samples_split': 2}. Best is trial 35 with value: 0.8022292251485332.\u001b[0m\n",
      "\u001b[32m[I 2023-08-30 02:12:06,702]\u001b[0m Trial 59 finished with value: 0.748733644051849 and parameters: {'n_estimators': 95, 'max_depth': 9, 'min_samples_leaf': 10, 'min_samples_split': 3}. Best is trial 35 with value: 0.8022292251485332.\u001b[0m\n",
      "\u001b[32m[I 2023-08-30 02:12:09,093]\u001b[0m Trial 60 finished with value: 0.7967702625264804 and parameters: {'n_estimators': 79, 'max_depth': 10, 'min_samples_leaf': 3, 'min_samples_split': 6}. Best is trial 35 with value: 0.8022292251485332.\u001b[0m\n",
      "\u001b[32m[I 2023-08-30 02:12:11,851]\u001b[0m Trial 61 finished with value: 0.8031829363592078 and parameters: {'n_estimators': 87, 'max_depth': 9, 'min_samples_leaf': 1, 'min_samples_split': 3}. Best is trial 61 with value: 0.8031829363592078.\u001b[0m\n",
      "\u001b[32m[I 2023-08-30 02:12:14,585]\u001b[0m Trial 62 finished with value: 0.8033102986455939 and parameters: {'n_estimators': 86, 'max_depth': 9, 'min_samples_leaf': 1, 'min_samples_split': 3}. Best is trial 62 with value: 0.8033102986455939.\u001b[0m\n",
      "\u001b[32m[I 2023-08-30 02:12:16,960]\u001b[0m Trial 63 finished with value: 0.7937838494305118 and parameters: {'n_estimators': 83, 'max_depth': 8, 'min_samples_leaf': 1, 'min_samples_split': 4}. Best is trial 62 with value: 0.8033102986455939.\u001b[0m\n",
      "\u001b[32m[I 2023-08-30 02:12:19,819]\u001b[0m Trial 64 finished with value: 0.8057049152907722 and parameters: {'n_estimators': 87, 'max_depth': 10, 'min_samples_leaf': 1, 'min_samples_split': 5}. Best is trial 64 with value: 0.8057049152907722.\u001b[0m\n",
      "\u001b[32m[I 2023-08-30 02:12:22,658]\u001b[0m Trial 65 finished with value: 0.8057049152907722 and parameters: {'n_estimators': 87, 'max_depth': 10, 'min_samples_leaf': 1, 'min_samples_split': 5}. Best is trial 64 with value: 0.8057049152907722.\u001b[0m\n",
      "\u001b[32m[I 2023-08-30 02:12:25,455]\u001b[0m Trial 66 finished with value: 0.8056956549419386 and parameters: {'n_estimators': 85, 'max_depth': 10, 'min_samples_leaf': 1, 'min_samples_split': 5}. Best is trial 64 with value: 0.8057049152907722.\u001b[0m\n",
      "\u001b[32m[I 2023-08-30 02:12:28,256]\u001b[0m Trial 67 finished with value: 0.8057343361486614 and parameters: {'n_estimators': 86, 'max_depth': 10, 'min_samples_leaf': 1, 'min_samples_split': 5}. Best is trial 67 with value: 0.8057343361486614.\u001b[0m\n",
      "\u001b[32m[I 2023-08-30 02:12:30,960]\u001b[0m Trial 68 finished with value: 0.7989054973807861 and parameters: {'n_estimators': 86, 'max_depth': 10, 'min_samples_leaf': 1, 'min_samples_split': 8}. Best is trial 67 with value: 0.8057343361486614.\u001b[0m\n",
      "\u001b[32m[I 2023-08-30 02:12:33,331]\u001b[0m Trial 69 finished with value: 0.7967702625264804 and parameters: {'n_estimators': 79, 'max_depth': 10, 'min_samples_leaf': 3, 'min_samples_split': 5}. Best is trial 67 with value: 0.8057343361486614.\u001b[0m\n",
      "\u001b[32m[I 2023-08-30 02:12:35,971]\u001b[0m Trial 70 finished with value: 0.8003736008101481 and parameters: {'n_estimators': 82, 'max_depth': 10, 'min_samples_leaf': 1, 'min_samples_split': 7}. Best is trial 67 with value: 0.8057343361486614.\u001b[0m\n",
      "\u001b[32m[I 2023-08-30 02:12:38,475]\u001b[0m Trial 71 finished with value: 0.8064909241231597 and parameters: {'n_estimators': 77, 'max_depth': 10, 'min_samples_leaf': 1, 'min_samples_split': 5}. Best is trial 71 with value: 0.8064909241231597.\u001b[0m\n",
      "\u001b[32m[I 2023-08-30 02:12:40,969]\u001b[0m Trial 72 finished with value: 0.8029868596839375 and parameters: {'n_estimators': 77, 'max_depth': 10, 'min_samples_leaf': 1, 'min_samples_split': 6}. Best is trial 71 with value: 0.8064909241231597.\u001b[0m\n",
      "\u001b[32m[I 2023-08-30 02:12:43,269]\u001b[0m Trial 73 finished with value: 0.7963317164467796 and parameters: {'n_estimators': 76, 'max_depth': 10, 'min_samples_leaf': 3, 'min_samples_split': 6}. Best is trial 71 with value: 0.8064909241231597.\u001b[0m\n",
      "\u001b[32m[I 2023-08-30 02:12:46,089]\u001b[0m Trial 74 finished with value: 0.8057343361486614 and parameters: {'n_estimators': 86, 'max_depth': 10, 'min_samples_leaf': 1, 'min_samples_split': 5}. Best is trial 71 with value: 0.8064909241231597.\u001b[0m\n",
      "\u001b[32m[I 2023-08-30 02:12:48,964]\u001b[0m Trial 75 finished with value: 0.8057049152907722 and parameters: {'n_estimators': 87, 'max_depth': 10, 'min_samples_leaf': 1, 'min_samples_split': 5}. Best is trial 71 with value: 0.8064909241231597.\u001b[0m\n",
      "\u001b[32m[I 2023-08-30 02:12:51,149]\u001b[0m Trial 76 finished with value: 0.7938576737261108 and parameters: {'n_estimators': 72, 'max_depth': 10, 'min_samples_leaf': 3, 'min_samples_split': 7}. Best is trial 71 with value: 0.8064909241231597.\u001b[0m\n",
      "\u001b[32m[I 2023-08-30 02:12:53,856]\u001b[0m Trial 77 finished with value: 0.8057446523464712 and parameters: {'n_estimators': 83, 'max_depth': 10, 'min_samples_leaf': 1, 'min_samples_split': 5}. Best is trial 71 with value: 0.8064909241231597.\u001b[0m\n",
      "\u001b[32m[I 2023-08-30 02:12:56,473]\u001b[0m Trial 78 finished with value: 0.8018245392653652 and parameters: {'n_estimators': 82, 'max_depth': 10, 'min_samples_leaf': 2, 'min_samples_split': 5}. Best is trial 71 with value: 0.8064909241231597.\u001b[0m\n",
      "\u001b[32m[I 2023-08-30 02:12:58,020]\u001b[0m Trial 79 finished with value: 0.668646787000085 and parameters: {'n_estimators': 84, 'max_depth': 10, 'min_samples_leaf': 20, 'min_samples_split': 5}. Best is trial 71 with value: 0.8064909241231597.\u001b[0m\n",
      "\u001b[32m[I 2023-08-30 02:13:00,553]\u001b[0m Trial 80 finished with value: 0.7998190514813082 and parameters: {'n_estimators': 80, 'max_depth': 10, 'min_samples_leaf': 1, 'min_samples_split': 8}. Best is trial 71 with value: 0.8064909241231597.\u001b[0m\n",
      "\u001b[32m[I 2023-08-30 02:13:03,384]\u001b[0m Trial 81 finished with value: 0.8057049152907722 and parameters: {'n_estimators': 87, 'max_depth': 10, 'min_samples_leaf': 1, 'min_samples_split': 5}. Best is trial 71 with value: 0.8064909241231597.\u001b[0m\n",
      "\u001b[32m[I 2023-08-30 02:13:06,175]\u001b[0m Trial 82 finished with value: 0.802240207064633 and parameters: {'n_estimators': 88, 'max_depth': 10, 'min_samples_leaf': 2, 'min_samples_split': 5}. Best is trial 71 with value: 0.8064909241231597.\u001b[0m\n",
      "\u001b[32m[I 2023-08-30 02:13:09,218]\u001b[0m Trial 83 finished with value: 0.8020009605845317 and parameters: {'n_estimators': 95, 'max_depth': 10, 'min_samples_leaf': 1, 'min_samples_split': 6}. Best is trial 71 with value: 0.8064909241231597.\u001b[0m\n",
      "\u001b[32m[I 2023-08-30 02:13:11,735]\u001b[0m Trial 84 finished with value: 0.7936134846115908 and parameters: {'n_estimators': 84, 'max_depth': 10, 'min_samples_leaf': 3, 'min_samples_split': 7}. Best is trial 71 with value: 0.8064909241231597.\u001b[0m\n",
      "\u001b[32m[I 2023-08-30 02:13:14,153]\u001b[0m Trial 85 finished with value: 0.8009342682509109 and parameters: {'n_estimators': 78, 'max_depth': 10, 'min_samples_leaf': 2, 'min_samples_split': 6}. Best is trial 71 with value: 0.8064909241231597.\u001b[0m\n",
      "\u001b[32m[I 2023-08-30 02:13:17,002]\u001b[0m Trial 86 finished with value: 0.8057049152907722 and parameters: {'n_estimators': 87, 'max_depth': 10, 'min_samples_leaf': 1, 'min_samples_split': 5}. Best is trial 71 with value: 0.8064909241231597.\u001b[0m\n",
      "\u001b[32m[I 2023-08-30 02:13:19,872]\u001b[0m Trial 87 finished with value: 0.8059956515348482 and parameters: {'n_estimators': 88, 'max_depth': 10, 'min_samples_leaf': 1, 'min_samples_split': 5}. Best is trial 71 with value: 0.8064909241231597.\u001b[0m\n",
      "\u001b[32m[I 2023-08-30 02:13:22,381]\u001b[0m Trial 88 finished with value: 0.7983878529514783 and parameters: {'n_estimators': 81, 'max_depth': 10, 'min_samples_leaf': 2, 'min_samples_split': 7}. Best is trial 71 with value: 0.8064909241231597.\u001b[0m\n",
      "\u001b[32m[I 2023-08-30 02:13:24,261]\u001b[0m Trial 89 finished with value: 0.7040521584561571 and parameters: {'n_estimators': 90, 'max_depth': 10, 'min_samples_leaf': 15, 'min_samples_split': 6}. Best is trial 71 with value: 0.8064909241231597.\u001b[0m\n",
      "\u001b[32m[I 2023-08-30 02:13:25,495]\u001b[0m Trial 90 finished with value: 0.6163685452810823 and parameters: {'n_estimators': 89, 'max_depth': 3, 'min_samples_leaf': 3, 'min_samples_split': 9}. Best is trial 71 with value: 0.8064909241231597.\u001b[0m\n",
      "\u001b[32m[I 2023-08-30 02:13:28,326]\u001b[0m Trial 91 finished with value: 0.8057049152907722 and parameters: {'n_estimators': 87, 'max_depth': 10, 'min_samples_leaf': 1, 'min_samples_split': 5}. Best is trial 71 with value: 0.8064909241231597.\u001b[0m\n",
      "\u001b[32m[I 2023-08-30 02:13:31,577]\u001b[0m Trial 92 finished with value: 0.8064399594025637 and parameters: {'n_estimators': 97, 'max_depth': 10, 'min_samples_leaf': 1, 'min_samples_split': 4}. Best is trial 71 with value: 0.8064909241231597.\u001b[0m\n",
      "\u001b[32m[I 2023-08-30 02:13:34,761]\u001b[0m Trial 93 finished with value: 0.8033606547316181 and parameters: {'n_estimators': 100, 'max_depth': 10, 'min_samples_leaf': 2, 'min_samples_split': 4}. Best is trial 71 with value: 0.8064909241231597.\u001b[0m\n",
      "\u001b[32m[I 2023-08-30 02:13:37,979]\u001b[0m Trial 94 finished with value: 0.8065183323807268 and parameters: {'n_estimators': 94, 'max_depth': 10, 'min_samples_leaf': 1, 'min_samples_split': 4}. Best is trial 94 with value: 0.8065183323807268.\u001b[0m\n",
      "\u001b[32m[I 2023-08-30 02:13:41,096]\u001b[0m Trial 95 finished with value: 0.803125794638208 and parameters: {'n_estimators': 97, 'max_depth': 10, 'min_samples_leaf': 2, 'min_samples_split': 4}. Best is trial 94 with value: 0.8065183323807268.\u001b[0m\n",
      "\u001b[32m[I 2023-08-30 02:13:44,260]\u001b[0m Trial 96 finished with value: 0.8065175811712045 and parameters: {'n_estimators': 95, 'max_depth': 10, 'min_samples_leaf': 1, 'min_samples_split': 4}. Best is trial 94 with value: 0.8065183323807268.\u001b[0m\n",
      "\u001b[32m[I 2023-08-30 02:13:46,866]\u001b[0m Trial 97 finished with value: 0.7893141278913027 and parameters: {'n_estimators': 95, 'max_depth': 9, 'min_samples_leaf': 4, 'min_samples_split': 4}. Best is trial 94 with value: 0.8065183323807268.\u001b[0m\n",
      "\u001b[32m[I 2023-08-30 02:13:49,681]\u001b[0m Trial 98 finished with value: 0.7997333502637554 and parameters: {'n_estimators': 94, 'max_depth': 9, 'min_samples_leaf': 2, 'min_samples_split': 4}. Best is trial 94 with value: 0.8065183323807268.\u001b[0m\n",
      "\u001b[32m[I 2023-08-30 02:13:52,348]\u001b[0m Trial 99 finished with value: 0.7821290841458931 and parameters: {'n_estimators': 93, 'max_depth': 10, 'min_samples_leaf': 2, 'min_samples_split': 16}. Best is trial 94 with value: 0.8065183323807268.\u001b[0m\n"
     ]
    },
    {
     "name": "stdout",
     "output_type": "stream",
     "text": [
      "Best r2:  0.8065183323807268\n",
      "Best trial: {'n_estimators': 94, 'max_depth': 10, 'min_samples_leaf': 1, 'min_samples_split': 4}\n"
     ]
    }
   ],
   "source": [
    "sampler = TPESampler()\n",
    "study = optuna.create_study(\n",
    "    study_name=\"rf_parameter_opt\",\n",
    "    direction=\"maximize\",\n",
    "    sampler=sampler,\n",
    ")\n",
    "\n",
    "study.optimize(lambda trial : objectiveRF(trial, Ni_X_train, Ni_y_train), n_trials=100)\n",
    "print(\"Best r2: \", study.best_value)\n",
    "print(\"Best trial:\", study.best_trial.params)"
   ]
  },
  {
   "cell_type": "code",
   "execution_count": 46,
   "id": "d71c01fb",
   "metadata": {},
   "outputs": [
    {
     "data": {
      "application/vnd.plotly.v1+json": {
       "config": {
        "plotlyServerURL": "https://plot.ly"
       },
       "data": [
        {
         "dimensions": [
          {
           "label": "Objective Value",
           "range": [
            0.21185806900547507,
            0.8065183323807268
           ],
           "values": [
            0.21185806900547507,
            0.6997124609935889,
            0.5894227834599358,
            0.7895892831252642,
            0.6965522492626302,
            0.688522723544825,
            0.7657872888558294,
            0.6435400581818118,
            0.692042555985518,
            0.5916661513576752,
            0.7713572902954511,
            0.7715168563345347,
            0.7981323745778103,
            0.7935079622613055,
            0.7937220003659208,
            0.669807846909455,
            0.7881651994938927,
            0.7561917304570058,
            0.776654510009383,
            0.7565978871798497,
            0.7489999538166415,
            0.790654997302029,
            0.7999760970242881,
            0.7953032740379584,
            0.7959285153183107,
            0.7958700059169418,
            0.7796941926449229,
            0.7909319829843031,
            0.7847331450206865,
            0.47258675728636385,
            0.21277143420440597,
            0.7910559593632185,
            0.7962937870527271,
            0.7999830558522285,
            0.7903866603103479,
            0.8022292251485332,
            0.7043549597566863,
            0.7425102912681687,
            0.7644581584913871,
            0.7875962641264938,
            0.6834135455573682,
            0.8019324844977692,
            0.7934997251176934,
            0.8000190613263406,
            0.8003298486213307,
            0.7843191686804072,
            0.7273005012486088,
            0.799995762714204,
            0.6939654381506868,
            0.6530776910822267,
            0.8003298486213307,
            0.8003298486213307,
            0.7897261947420506,
            0.7909549496030267,
            0.787260688908756,
            0.7673609951473431,
            0.7928138026659568,
            0.7711953204970386,
            0.7913011503156847,
            0.748733644051849,
            0.7967702625264804,
            0.8031829363592078,
            0.8033102986455939,
            0.7937838494305118,
            0.8057049152907722,
            0.8057049152907722,
            0.8056956549419386,
            0.8057343361486614,
            0.7989054973807861,
            0.7967702625264804,
            0.8003736008101481,
            0.8064909241231597,
            0.8029868596839375,
            0.7963317164467796,
            0.8057343361486614,
            0.8057049152907722,
            0.7938576737261108,
            0.8057446523464712,
            0.8018245392653652,
            0.668646787000085,
            0.7998190514813082,
            0.8057049152907722,
            0.802240207064633,
            0.8020009605845317,
            0.7936134846115908,
            0.8009342682509109,
            0.8057049152907722,
            0.8059956515348482,
            0.7983878529514783,
            0.7040521584561571,
            0.6163685452810823,
            0.8057049152907722,
            0.8064399594025637,
            0.8033606547316181,
            0.8065183323807268,
            0.803125794638208,
            0.8065175811712045,
            0.7893141278913027,
            0.7997333502637554,
            0.7821290841458931
           ]
          },
          {
           "label": "max_depth",
           "range": [
            1,
            10
           ],
           "values": [
            1,
            6,
            3,
            8,
            5,
            6,
            7,
            4,
            8,
            3,
            10,
            10,
            10,
            9,
            9,
            9,
            10,
            8,
            9,
            7,
            7,
            9,
            9,
            10,
            10,
            10,
            8,
            10,
            9,
            2,
            1,
            10,
            10,
            9,
            8,
            9,
            5,
            6,
            7,
            8,
            9,
            9,
            8,
            9,
            9,
            8,
            7,
            9,
            6,
            4,
            9,
            9,
            9,
            8,
            9,
            8,
            9,
            7,
            8,
            9,
            10,
            9,
            9,
            8,
            10,
            10,
            10,
            10,
            10,
            10,
            10,
            10,
            10,
            10,
            10,
            10,
            10,
            10,
            10,
            10,
            10,
            10,
            10,
            10,
            10,
            10,
            10,
            10,
            10,
            10,
            3,
            10,
            10,
            10,
            10,
            10,
            10,
            9,
            9,
            10
           ]
          },
          {
           "label": "min_samples_leaf",
           "range": [
            1,
            20
           ],
           "values": [
            13,
            13,
            16,
            1,
            3,
            16,
            5,
            12,
            16,
            13,
            7,
            7,
            1,
            1,
            1,
            20,
            4,
            9,
            3,
            6,
            9,
            1,
            1,
            3,
            3,
            3,
            5,
            2,
            5,
            8,
            2,
            4,
            3,
            2,
            2,
            1,
            1,
            4,
            6,
            2,
            18,
            1,
            1,
            2,
            2,
            4,
            12,
            2,
            15,
            5,
            2,
            2,
            4,
            2,
            1,
            6,
            3,
            4,
            2,
            10,
            3,
            1,
            1,
            1,
            1,
            1,
            1,
            1,
            1,
            3,
            1,
            1,
            1,
            3,
            1,
            1,
            3,
            1,
            2,
            20,
            1,
            1,
            2,
            1,
            3,
            2,
            1,
            1,
            2,
            15,
            3,
            1,
            1,
            2,
            1,
            2,
            1,
            4,
            2,
            2
           ]
          },
          {
           "label": "min_samples_split",
           "range": [
            2,
            20
           ],
           "values": [
            14,
            13,
            3,
            4,
            2,
            20,
            12,
            2,
            15,
            20,
            7,
            7,
            7,
            7,
            8,
            9,
            10,
            5,
            16,
            10,
            6,
            8,
            5,
            5,
            5,
            4,
            5,
            11,
            3,
            6,
            9,
            4,
            4,
            3,
            3,
            2,
            2,
            3,
            2,
            6,
            3,
            4,
            4,
            2,
            2,
            2,
            2,
            3,
            13,
            18,
            2,
            2,
            2,
            2,
            4,
            3,
            2,
            4,
            2,
            3,
            6,
            3,
            3,
            4,
            5,
            5,
            5,
            5,
            8,
            5,
            7,
            5,
            6,
            6,
            5,
            5,
            7,
            5,
            5,
            5,
            8,
            5,
            5,
            6,
            7,
            6,
            5,
            5,
            7,
            6,
            9,
            5,
            4,
            4,
            4,
            4,
            4,
            4,
            4,
            16
           ]
          },
          {
           "label": "n_estimators",
           "range": [
            14,
            100
           ],
           "values": [
            87,
            14,
            78,
            42,
            37,
            70,
            91,
            44,
            19,
            29,
            58,
            57,
            56,
            46,
            64,
            71,
            64,
            78,
            55,
            31,
            53,
            48,
            67,
            64,
            81,
            82,
            93,
            69,
            100,
            84,
            76,
            85,
            80,
            74,
            73,
            62,
            62,
            51,
            67,
            60,
            75,
            92,
            99,
            92,
            91,
            89,
            95,
            88,
            88,
            97,
            91,
            91,
            93,
            92,
            15,
            37,
            97,
            85,
            90,
            95,
            79,
            87,
            86,
            83,
            87,
            87,
            85,
            86,
            86,
            79,
            82,
            77,
            77,
            76,
            86,
            87,
            72,
            83,
            82,
            84,
            80,
            87,
            88,
            95,
            84,
            78,
            87,
            88,
            81,
            90,
            89,
            87,
            97,
            100,
            94,
            97,
            95,
            95,
            94,
            93
           ]
          }
         ],
         "labelangle": 30,
         "labelside": "bottom",
         "line": {
          "color": [
           0.21185806900547507,
           0.6997124609935889,
           0.5894227834599358,
           0.7895892831252642,
           0.6965522492626302,
           0.688522723544825,
           0.7657872888558294,
           0.6435400581818118,
           0.692042555985518,
           0.5916661513576752,
           0.7713572902954511,
           0.7715168563345347,
           0.7981323745778103,
           0.7935079622613055,
           0.7937220003659208,
           0.669807846909455,
           0.7881651994938927,
           0.7561917304570058,
           0.776654510009383,
           0.7565978871798497,
           0.7489999538166415,
           0.790654997302029,
           0.7999760970242881,
           0.7953032740379584,
           0.7959285153183107,
           0.7958700059169418,
           0.7796941926449229,
           0.7909319829843031,
           0.7847331450206865,
           0.47258675728636385,
           0.21277143420440597,
           0.7910559593632185,
           0.7962937870527271,
           0.7999830558522285,
           0.7903866603103479,
           0.8022292251485332,
           0.7043549597566863,
           0.7425102912681687,
           0.7644581584913871,
           0.7875962641264938,
           0.6834135455573682,
           0.8019324844977692,
           0.7934997251176934,
           0.8000190613263406,
           0.8003298486213307,
           0.7843191686804072,
           0.7273005012486088,
           0.799995762714204,
           0.6939654381506868,
           0.6530776910822267,
           0.8003298486213307,
           0.8003298486213307,
           0.7897261947420506,
           0.7909549496030267,
           0.787260688908756,
           0.7673609951473431,
           0.7928138026659568,
           0.7711953204970386,
           0.7913011503156847,
           0.748733644051849,
           0.7967702625264804,
           0.8031829363592078,
           0.8033102986455939,
           0.7937838494305118,
           0.8057049152907722,
           0.8057049152907722,
           0.8056956549419386,
           0.8057343361486614,
           0.7989054973807861,
           0.7967702625264804,
           0.8003736008101481,
           0.8064909241231597,
           0.8029868596839375,
           0.7963317164467796,
           0.8057343361486614,
           0.8057049152907722,
           0.7938576737261108,
           0.8057446523464712,
           0.8018245392653652,
           0.668646787000085,
           0.7998190514813082,
           0.8057049152907722,
           0.802240207064633,
           0.8020009605845317,
           0.7936134846115908,
           0.8009342682509109,
           0.8057049152907722,
           0.8059956515348482,
           0.7983878529514783,
           0.7040521584561571,
           0.6163685452810823,
           0.8057049152907722,
           0.8064399594025637,
           0.8033606547316181,
           0.8065183323807268,
           0.803125794638208,
           0.8065175811712045,
           0.7893141278913027,
           0.7997333502637554,
           0.7821290841458931
          ],
          "colorbar": {
           "title": {
            "text": "Objective Value"
           }
          },
          "colorscale": [
           [
            0,
            "rgb(247,251,255)"
           ],
           [
            0.125,
            "rgb(222,235,247)"
           ],
           [
            0.25,
            "rgb(198,219,239)"
           ],
           [
            0.375,
            "rgb(158,202,225)"
           ],
           [
            0.5,
            "rgb(107,174,214)"
           ],
           [
            0.625,
            "rgb(66,146,198)"
           ],
           [
            0.75,
            "rgb(33,113,181)"
           ],
           [
            0.875,
            "rgb(8,81,156)"
           ],
           [
            1,
            "rgb(8,48,107)"
           ]
          ],
          "reversescale": false,
          "showscale": true
         },
         "type": "parcoords"
        }
       ],
       "layout": {
        "template": {
         "data": {
          "bar": [
           {
            "error_x": {
             "color": "#2a3f5f"
            },
            "error_y": {
             "color": "#2a3f5f"
            },
            "marker": {
             "line": {
              "color": "#E5ECF6",
              "width": 0.5
             },
             "pattern": {
              "fillmode": "overlay",
              "size": 10,
              "solidity": 0.2
             }
            },
            "type": "bar"
           }
          ],
          "barpolar": [
           {
            "marker": {
             "line": {
              "color": "#E5ECF6",
              "width": 0.5
             },
             "pattern": {
              "fillmode": "overlay",
              "size": 10,
              "solidity": 0.2
             }
            },
            "type": "barpolar"
           }
          ],
          "carpet": [
           {
            "aaxis": {
             "endlinecolor": "#2a3f5f",
             "gridcolor": "white",
             "linecolor": "white",
             "minorgridcolor": "white",
             "startlinecolor": "#2a3f5f"
            },
            "baxis": {
             "endlinecolor": "#2a3f5f",
             "gridcolor": "white",
             "linecolor": "white",
             "minorgridcolor": "white",
             "startlinecolor": "#2a3f5f"
            },
            "type": "carpet"
           }
          ],
          "choropleth": [
           {
            "colorbar": {
             "outlinewidth": 0,
             "ticks": ""
            },
            "type": "choropleth"
           }
          ],
          "contour": [
           {
            "colorbar": {
             "outlinewidth": 0,
             "ticks": ""
            },
            "colorscale": [
             [
              0,
              "#0d0887"
             ],
             [
              0.1111111111111111,
              "#46039f"
             ],
             [
              0.2222222222222222,
              "#7201a8"
             ],
             [
              0.3333333333333333,
              "#9c179e"
             ],
             [
              0.4444444444444444,
              "#bd3786"
             ],
             [
              0.5555555555555556,
              "#d8576b"
             ],
             [
              0.6666666666666666,
              "#ed7953"
             ],
             [
              0.7777777777777778,
              "#fb9f3a"
             ],
             [
              0.8888888888888888,
              "#fdca26"
             ],
             [
              1,
              "#f0f921"
             ]
            ],
            "type": "contour"
           }
          ],
          "contourcarpet": [
           {
            "colorbar": {
             "outlinewidth": 0,
             "ticks": ""
            },
            "type": "contourcarpet"
           }
          ],
          "heatmap": [
           {
            "colorbar": {
             "outlinewidth": 0,
             "ticks": ""
            },
            "colorscale": [
             [
              0,
              "#0d0887"
             ],
             [
              0.1111111111111111,
              "#46039f"
             ],
             [
              0.2222222222222222,
              "#7201a8"
             ],
             [
              0.3333333333333333,
              "#9c179e"
             ],
             [
              0.4444444444444444,
              "#bd3786"
             ],
             [
              0.5555555555555556,
              "#d8576b"
             ],
             [
              0.6666666666666666,
              "#ed7953"
             ],
             [
              0.7777777777777778,
              "#fb9f3a"
             ],
             [
              0.8888888888888888,
              "#fdca26"
             ],
             [
              1,
              "#f0f921"
             ]
            ],
            "type": "heatmap"
           }
          ],
          "heatmapgl": [
           {
            "colorbar": {
             "outlinewidth": 0,
             "ticks": ""
            },
            "colorscale": [
             [
              0,
              "#0d0887"
             ],
             [
              0.1111111111111111,
              "#46039f"
             ],
             [
              0.2222222222222222,
              "#7201a8"
             ],
             [
              0.3333333333333333,
              "#9c179e"
             ],
             [
              0.4444444444444444,
              "#bd3786"
             ],
             [
              0.5555555555555556,
              "#d8576b"
             ],
             [
              0.6666666666666666,
              "#ed7953"
             ],
             [
              0.7777777777777778,
              "#fb9f3a"
             ],
             [
              0.8888888888888888,
              "#fdca26"
             ],
             [
              1,
              "#f0f921"
             ]
            ],
            "type": "heatmapgl"
           }
          ],
          "histogram": [
           {
            "marker": {
             "pattern": {
              "fillmode": "overlay",
              "size": 10,
              "solidity": 0.2
             }
            },
            "type": "histogram"
           }
          ],
          "histogram2d": [
           {
            "colorbar": {
             "outlinewidth": 0,
             "ticks": ""
            },
            "colorscale": [
             [
              0,
              "#0d0887"
             ],
             [
              0.1111111111111111,
              "#46039f"
             ],
             [
              0.2222222222222222,
              "#7201a8"
             ],
             [
              0.3333333333333333,
              "#9c179e"
             ],
             [
              0.4444444444444444,
              "#bd3786"
             ],
             [
              0.5555555555555556,
              "#d8576b"
             ],
             [
              0.6666666666666666,
              "#ed7953"
             ],
             [
              0.7777777777777778,
              "#fb9f3a"
             ],
             [
              0.8888888888888888,
              "#fdca26"
             ],
             [
              1,
              "#f0f921"
             ]
            ],
            "type": "histogram2d"
           }
          ],
          "histogram2dcontour": [
           {
            "colorbar": {
             "outlinewidth": 0,
             "ticks": ""
            },
            "colorscale": [
             [
              0,
              "#0d0887"
             ],
             [
              0.1111111111111111,
              "#46039f"
             ],
             [
              0.2222222222222222,
              "#7201a8"
             ],
             [
              0.3333333333333333,
              "#9c179e"
             ],
             [
              0.4444444444444444,
              "#bd3786"
             ],
             [
              0.5555555555555556,
              "#d8576b"
             ],
             [
              0.6666666666666666,
              "#ed7953"
             ],
             [
              0.7777777777777778,
              "#fb9f3a"
             ],
             [
              0.8888888888888888,
              "#fdca26"
             ],
             [
              1,
              "#f0f921"
             ]
            ],
            "type": "histogram2dcontour"
           }
          ],
          "mesh3d": [
           {
            "colorbar": {
             "outlinewidth": 0,
             "ticks": ""
            },
            "type": "mesh3d"
           }
          ],
          "parcoords": [
           {
            "line": {
             "colorbar": {
              "outlinewidth": 0,
              "ticks": ""
             }
            },
            "type": "parcoords"
           }
          ],
          "pie": [
           {
            "automargin": true,
            "type": "pie"
           }
          ],
          "scatter": [
           {
            "marker": {
             "colorbar": {
              "outlinewidth": 0,
              "ticks": ""
             }
            },
            "type": "scatter"
           }
          ],
          "scatter3d": [
           {
            "line": {
             "colorbar": {
              "outlinewidth": 0,
              "ticks": ""
             }
            },
            "marker": {
             "colorbar": {
              "outlinewidth": 0,
              "ticks": ""
             }
            },
            "type": "scatter3d"
           }
          ],
          "scattercarpet": [
           {
            "marker": {
             "colorbar": {
              "outlinewidth": 0,
              "ticks": ""
             }
            },
            "type": "scattercarpet"
           }
          ],
          "scattergeo": [
           {
            "marker": {
             "colorbar": {
              "outlinewidth": 0,
              "ticks": ""
             }
            },
            "type": "scattergeo"
           }
          ],
          "scattergl": [
           {
            "marker": {
             "colorbar": {
              "outlinewidth": 0,
              "ticks": ""
             }
            },
            "type": "scattergl"
           }
          ],
          "scattermapbox": [
           {
            "marker": {
             "colorbar": {
              "outlinewidth": 0,
              "ticks": ""
             }
            },
            "type": "scattermapbox"
           }
          ],
          "scatterpolar": [
           {
            "marker": {
             "colorbar": {
              "outlinewidth": 0,
              "ticks": ""
             }
            },
            "type": "scatterpolar"
           }
          ],
          "scatterpolargl": [
           {
            "marker": {
             "colorbar": {
              "outlinewidth": 0,
              "ticks": ""
             }
            },
            "type": "scatterpolargl"
           }
          ],
          "scatterternary": [
           {
            "marker": {
             "colorbar": {
              "outlinewidth": 0,
              "ticks": ""
             }
            },
            "type": "scatterternary"
           }
          ],
          "surface": [
           {
            "colorbar": {
             "outlinewidth": 0,
             "ticks": ""
            },
            "colorscale": [
             [
              0,
              "#0d0887"
             ],
             [
              0.1111111111111111,
              "#46039f"
             ],
             [
              0.2222222222222222,
              "#7201a8"
             ],
             [
              0.3333333333333333,
              "#9c179e"
             ],
             [
              0.4444444444444444,
              "#bd3786"
             ],
             [
              0.5555555555555556,
              "#d8576b"
             ],
             [
              0.6666666666666666,
              "#ed7953"
             ],
             [
              0.7777777777777778,
              "#fb9f3a"
             ],
             [
              0.8888888888888888,
              "#fdca26"
             ],
             [
              1,
              "#f0f921"
             ]
            ],
            "type": "surface"
           }
          ],
          "table": [
           {
            "cells": {
             "fill": {
              "color": "#EBF0F8"
             },
             "line": {
              "color": "white"
             }
            },
            "header": {
             "fill": {
              "color": "#C8D4E3"
             },
             "line": {
              "color": "white"
             }
            },
            "type": "table"
           }
          ]
         },
         "layout": {
          "annotationdefaults": {
           "arrowcolor": "#2a3f5f",
           "arrowhead": 0,
           "arrowwidth": 1
          },
          "autotypenumbers": "strict",
          "coloraxis": {
           "colorbar": {
            "outlinewidth": 0,
            "ticks": ""
           }
          },
          "colorscale": {
           "diverging": [
            [
             0,
             "#8e0152"
            ],
            [
             0.1,
             "#c51b7d"
            ],
            [
             0.2,
             "#de77ae"
            ],
            [
             0.3,
             "#f1b6da"
            ],
            [
             0.4,
             "#fde0ef"
            ],
            [
             0.5,
             "#f7f7f7"
            ],
            [
             0.6,
             "#e6f5d0"
            ],
            [
             0.7,
             "#b8e186"
            ],
            [
             0.8,
             "#7fbc41"
            ],
            [
             0.9,
             "#4d9221"
            ],
            [
             1,
             "#276419"
            ]
           ],
           "sequential": [
            [
             0,
             "#0d0887"
            ],
            [
             0.1111111111111111,
             "#46039f"
            ],
            [
             0.2222222222222222,
             "#7201a8"
            ],
            [
             0.3333333333333333,
             "#9c179e"
            ],
            [
             0.4444444444444444,
             "#bd3786"
            ],
            [
             0.5555555555555556,
             "#d8576b"
            ],
            [
             0.6666666666666666,
             "#ed7953"
            ],
            [
             0.7777777777777778,
             "#fb9f3a"
            ],
            [
             0.8888888888888888,
             "#fdca26"
            ],
            [
             1,
             "#f0f921"
            ]
           ],
           "sequentialminus": [
            [
             0,
             "#0d0887"
            ],
            [
             0.1111111111111111,
             "#46039f"
            ],
            [
             0.2222222222222222,
             "#7201a8"
            ],
            [
             0.3333333333333333,
             "#9c179e"
            ],
            [
             0.4444444444444444,
             "#bd3786"
            ],
            [
             0.5555555555555556,
             "#d8576b"
            ],
            [
             0.6666666666666666,
             "#ed7953"
            ],
            [
             0.7777777777777778,
             "#fb9f3a"
            ],
            [
             0.8888888888888888,
             "#fdca26"
            ],
            [
             1,
             "#f0f921"
            ]
           ]
          },
          "colorway": [
           "#636efa",
           "#EF553B",
           "#00cc96",
           "#ab63fa",
           "#FFA15A",
           "#19d3f3",
           "#FF6692",
           "#B6E880",
           "#FF97FF",
           "#FECB52"
          ],
          "font": {
           "color": "#2a3f5f"
          },
          "geo": {
           "bgcolor": "white",
           "lakecolor": "white",
           "landcolor": "#E5ECF6",
           "showlakes": true,
           "showland": true,
           "subunitcolor": "white"
          },
          "hoverlabel": {
           "align": "left"
          },
          "hovermode": "closest",
          "mapbox": {
           "style": "light"
          },
          "paper_bgcolor": "white",
          "plot_bgcolor": "#E5ECF6",
          "polar": {
           "angularaxis": {
            "gridcolor": "white",
            "linecolor": "white",
            "ticks": ""
           },
           "bgcolor": "#E5ECF6",
           "radialaxis": {
            "gridcolor": "white",
            "linecolor": "white",
            "ticks": ""
           }
          },
          "scene": {
           "xaxis": {
            "backgroundcolor": "#E5ECF6",
            "gridcolor": "white",
            "gridwidth": 2,
            "linecolor": "white",
            "showbackground": true,
            "ticks": "",
            "zerolinecolor": "white"
           },
           "yaxis": {
            "backgroundcolor": "#E5ECF6",
            "gridcolor": "white",
            "gridwidth": 2,
            "linecolor": "white",
            "showbackground": true,
            "ticks": "",
            "zerolinecolor": "white"
           },
           "zaxis": {
            "backgroundcolor": "#E5ECF6",
            "gridcolor": "white",
            "gridwidth": 2,
            "linecolor": "white",
            "showbackground": true,
            "ticks": "",
            "zerolinecolor": "white"
           }
          },
          "shapedefaults": {
           "line": {
            "color": "#2a3f5f"
           }
          },
          "ternary": {
           "aaxis": {
            "gridcolor": "white",
            "linecolor": "white",
            "ticks": ""
           },
           "baxis": {
            "gridcolor": "white",
            "linecolor": "white",
            "ticks": ""
           },
           "bgcolor": "#E5ECF6",
           "caxis": {
            "gridcolor": "white",
            "linecolor": "white",
            "ticks": ""
           }
          },
          "title": {
           "x": 0.05
          },
          "xaxis": {
           "automargin": true,
           "gridcolor": "white",
           "linecolor": "white",
           "ticks": "",
           "title": {
            "standoff": 15
           },
           "zerolinecolor": "white",
           "zerolinewidth": 2
          },
          "yaxis": {
           "automargin": true,
           "gridcolor": "white",
           "linecolor": "white",
           "ticks": "",
           "title": {
            "standoff": 15
           },
           "zerolinecolor": "white",
           "zerolinewidth": 2
          }
         }
        },
        "title": {
         "text": "Parallel Coordinate Plot"
        }
       }
      }
     },
     "metadata": {},
     "output_type": "display_data"
    }
   ],
   "source": [
    "optuna.visualization.plot_parallel_coordinate(study)"
   ]
  },
  {
   "cell_type": "code",
   "execution_count": 47,
   "id": "1d419df8",
   "metadata": {},
   "outputs": [
    {
     "name": "stdout",
     "output_type": "stream",
     "text": [
      "Best trial: {'n_estimators': 94, 'max_depth': 10, 'min_samples_leaf': 1, 'min_samples_split': 4}\n"
     ]
    },
    {
     "data": {
      "text/plain": [
       "94"
      ]
     },
     "execution_count": 47,
     "metadata": {},
     "output_type": "execute_result"
    }
   ],
   "source": [
    "print(\"Best trial:\", study.best_trial.params)\n",
    "study.best_trial.params[\"n_estimators\"]"
   ]
  },
  {
   "cell_type": "code",
   "execution_count": 48,
   "id": "ffefef6c",
   "metadata": {},
   "outputs": [
    {
     "data": {
      "text/html": [
       "<style>#sk-container-id-3 {color: black;}#sk-container-id-3 pre{padding: 0;}#sk-container-id-3 div.sk-toggleable {background-color: white;}#sk-container-id-3 label.sk-toggleable__label {cursor: pointer;display: block;width: 100%;margin-bottom: 0;padding: 0.3em;box-sizing: border-box;text-align: center;}#sk-container-id-3 label.sk-toggleable__label-arrow:before {content: \"▸\";float: left;margin-right: 0.25em;color: #696969;}#sk-container-id-3 label.sk-toggleable__label-arrow:hover:before {color: black;}#sk-container-id-3 div.sk-estimator:hover label.sk-toggleable__label-arrow:before {color: black;}#sk-container-id-3 div.sk-toggleable__content {max-height: 0;max-width: 0;overflow: hidden;text-align: left;background-color: #f0f8ff;}#sk-container-id-3 div.sk-toggleable__content pre {margin: 0.2em;color: black;border-radius: 0.25em;background-color: #f0f8ff;}#sk-container-id-3 input.sk-toggleable__control:checked~div.sk-toggleable__content {max-height: 200px;max-width: 100%;overflow: auto;}#sk-container-id-3 input.sk-toggleable__control:checked~label.sk-toggleable__label-arrow:before {content: \"▾\";}#sk-container-id-3 div.sk-estimator input.sk-toggleable__control:checked~label.sk-toggleable__label {background-color: #d4ebff;}#sk-container-id-3 div.sk-label input.sk-toggleable__control:checked~label.sk-toggleable__label {background-color: #d4ebff;}#sk-container-id-3 input.sk-hidden--visually {border: 0;clip: rect(1px 1px 1px 1px);clip: rect(1px, 1px, 1px, 1px);height: 1px;margin: -1px;overflow: hidden;padding: 0;position: absolute;width: 1px;}#sk-container-id-3 div.sk-estimator {font-family: monospace;background-color: #f0f8ff;border: 1px dotted black;border-radius: 0.25em;box-sizing: border-box;margin-bottom: 0.5em;}#sk-container-id-3 div.sk-estimator:hover {background-color: #d4ebff;}#sk-container-id-3 div.sk-parallel-item::after {content: \"\";width: 100%;border-bottom: 1px solid gray;flex-grow: 1;}#sk-container-id-3 div.sk-label:hover label.sk-toggleable__label {background-color: #d4ebff;}#sk-container-id-3 div.sk-serial::before {content: \"\";position: absolute;border-left: 1px solid gray;box-sizing: border-box;top: 0;bottom: 0;left: 50%;z-index: 0;}#sk-container-id-3 div.sk-serial {display: flex;flex-direction: column;align-items: center;background-color: white;padding-right: 0.2em;padding-left: 0.2em;position: relative;}#sk-container-id-3 div.sk-item {position: relative;z-index: 1;}#sk-container-id-3 div.sk-parallel {display: flex;align-items: stretch;justify-content: center;background-color: white;position: relative;}#sk-container-id-3 div.sk-item::before, #sk-container-id-3 div.sk-parallel-item::before {content: \"\";position: absolute;border-left: 1px solid gray;box-sizing: border-box;top: 0;bottom: 0;left: 50%;z-index: -1;}#sk-container-id-3 div.sk-parallel-item {display: flex;flex-direction: column;z-index: 1;position: relative;background-color: white;}#sk-container-id-3 div.sk-parallel-item:first-child::after {align-self: flex-end;width: 50%;}#sk-container-id-3 div.sk-parallel-item:last-child::after {align-self: flex-start;width: 50%;}#sk-container-id-3 div.sk-parallel-item:only-child::after {width: 0;}#sk-container-id-3 div.sk-dashed-wrapped {border: 1px dashed gray;margin: 0 0.4em 0.5em 0.4em;box-sizing: border-box;padding-bottom: 0.4em;background-color: white;}#sk-container-id-3 div.sk-label label {font-family: monospace;font-weight: bold;display: inline-block;line-height: 1.2em;}#sk-container-id-3 div.sk-label-container {text-align: center;}#sk-container-id-3 div.sk-container {/* jupyter's `normalize.less` sets `[hidden] { display: none; }` but bootstrap.min.css set `[hidden] { display: none !important; }` so we also need the `!important` here to be able to override the default hidden behavior on the sphinx rendered scikit-learn.org. See: https://github.com/scikit-learn/scikit-learn/issues/21755 */display: inline-block !important;position: relative;}#sk-container-id-3 div.sk-text-repr-fallback {display: none;}</style><div id=\"sk-container-id-3\" class=\"sk-top-container\"><div class=\"sk-text-repr-fallback\"><pre>RandomForestRegressor(max_depth=10, min_samples_split=4, n_estimators=94,\n",
       "                      random_state=42)</pre><b>In a Jupyter environment, please rerun this cell to show the HTML representation or trust the notebook. <br />On GitHub, the HTML representation is unable to render, please try loading this page with nbviewer.org.</b></div><div class=\"sk-container\" hidden><div class=\"sk-item\"><div class=\"sk-estimator sk-toggleable\"><input class=\"sk-toggleable__control sk-hidden--visually\" id=\"sk-estimator-id-3\" type=\"checkbox\" checked><label for=\"sk-estimator-id-3\" class=\"sk-toggleable__label sk-toggleable__label-arrow\">RandomForestRegressor</label><div class=\"sk-toggleable__content\"><pre>RandomForestRegressor(max_depth=10, min_samples_split=4, n_estimators=94,\n",
       "                      random_state=42)</pre></div></div></div></div></div>"
      ],
      "text/plain": [
       "RandomForestRegressor(max_depth=10, min_samples_split=4, n_estimators=94,\n",
       "                      random_state=42)"
      ]
     },
     "execution_count": 48,
     "metadata": {},
     "output_type": "execute_result"
    }
   ],
   "source": [
    "rf_params = {\n",
    "    \"random_state\": 42,\n",
    "    #\"learning_rate\": 0.1,\n",
    "    \"n_estimators\": study.best_trial.params[\"n_estimators\"],\n",
    "    \"max_depth\": study.best_trial.params[\"max_depth\"],\n",
    "    \"min_samples_leaf\": study.best_trial.params[\"min_samples_leaf\"],\n",
    "    \"min_samples_split\": study.best_trial.params[\"min_samples_split\"],\n",
    "    #\"subsample\": study.best_trial.params[\"subsample\"]\n",
    "}\n",
    "\n",
    "rf = RandomForestRegressor(**rf_params)\n",
    "rf.fit(Ni_X_train, Ni_y_train)"
   ]
  },
  {
   "cell_type": "code",
   "execution_count": 49,
   "id": "4c1a69d2",
   "metadata": {},
   "outputs": [],
   "source": [
    "y_train_pred = rf.predict(Ni_X_train)\n",
    "y_test_pred = rf.predict(Ni_X_test)"
   ]
  },
  {
   "cell_type": "code",
   "execution_count": 50,
   "id": "0f707a20",
   "metadata": {},
   "outputs": [
    {
     "name": "stdout",
     "output_type": "stream",
     "text": [
      "Train RMSE:  0.27664329956315514\n",
      "Test RMSE:  0.6317814965378021\n"
     ]
    }
   ],
   "source": [
    "print(\"Train RMSE: \", np.sqrt(mean_squared_error(Ni_y_train, y_train_pred)))\n",
    "print(\"Test RMSE: \", np.sqrt(mean_squared_error(Ni_y_test, y_test_pred)))"
   ]
  },
  {
   "cell_type": "code",
   "execution_count": 51,
   "id": "641d78f4",
   "metadata": {},
   "outputs": [
    {
     "name": "stdout",
     "output_type": "stream",
     "text": [
      "Train R2:  0.9486431745473918\n",
      "Test R2:  0.7016685435057683\n"
     ]
    }
   ],
   "source": [
    "print(\"Train R2: \", r2_score(Ni_y_train, y_train_pred))\n",
    "print(\"Test R2: \", r2_score(Ni_y_test, y_test_pred))"
   ]
  },
  {
   "cell_type": "code",
   "execution_count": 52,
   "id": "dd1670cb",
   "metadata": {},
   "outputs": [
    {
     "data": {
      "image/png": "[encoded data removed]",
      "text/plain": [
       "<Figure size 640x480 with 1 Axes>"
      ]
     },
     "metadata": {},
     "output_type": "display_data"
    }
   ],
   "source": [
    "plt.scatter(y_train_pred, np.array(Ni_y_train), color=\"orange\", alpha=0.3)\n",
    "plt.scatter(y_test_pred, np.array(Ni_y_test), color=\"green\", alpha=0.4)\n",
    "plt.axis(\"auto\") # scaled, tight, auto, image, square\n",
    "# plt.xlim([0, 1.5]) \n",
    "# plt.ylim(0, None) \n",
    "plt.xlabel('Predicted Values')\n",
    "plt.ylabel('Actual Values')\n",
    "\n",
    "# Add y=x line\n",
    "plt.plot([0, 4.0], [0, 4.0], color='red', linestyle='-')\n",
    "\n",
    "plt.show()"
   ]
  }
 ],
 "metadata": {
  "kernelspec": {
   "display_name": "base",
   "language": "python",
   "name": "python3"
  },
  "language_info": {
   "codemirror_mode": {
    "name": "ipython",
    "version": 3
   },
   "file_extension": ".py",
   "mimetype": "text/x-python",
   "name": "python",
   "nbconvert_exporter": "python",
   "pygments_lexer": "ipython3",
   "version": "3.8.11"
  },
  "vscode": {
   "interpreter": {
    "hash": "ba68d4d491ed2bf1e98a1b536323f5ca7371de2084cca3d5786e07ce079a51c3"
   }
  }
 },
 "nbformat": 4,
 "nbformat_minor": 5
}
