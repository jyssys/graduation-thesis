{
 "cells": [
  {
   "attachments": {},
   "cell_type": "markdown",
   "id": "451911be",
   "metadata": {},
   "source": [
    "#### Library import"
   ]
  },
  {
   "cell_type": "code",
   "execution_count": 1,
   "id": "8a394942",
   "metadata": {},
   "outputs": [],
   "source": [
    "import os\n",
    "import pandas as pd\n",
    "import numpy as np\n",
    "import matplotlib.pyplot as plt\n",
    "%matplotlib inline\n",
    "import seaborn as sns\n",
    "import tensorflow as tf\n",
    "import missingno as msno\n",
    "\n",
    "import warnings\n",
    "warnings.filterwarnings('ignore')\n",
    "\n",
    "from sklearn.model_selection import train_test_split\n",
    "from sklearn.model_selection import GridSearchCV\n",
    "from sklearn.metrics import mean_squared_error, r2_score\n",
    "from sklearn.preprocessing import StandardScaler, MinMaxScaler, RobustScaler\n",
    "from sklearn.ensemble import RandomForestRegressor, GradientBoostingRegressor, ExtraTreesRegressor\n",
    "from sklearn.model_selection import KFold\n",
    "from lightgbm import LGBMRegressor\n",
    "from xgboost import XGBRegressor\n",
    "from ngboost import NGBRegressor\n",
    "from scipy.stats import norm, skew\n",
    "\n",
    "from matplotlib.ticker import FormatStrFormatter\n",
    "\n",
    "from tensorflow import keras\n",
    "\n",
    "import re\n",
    "from tqdm import tqdm"
   ]
  },
  {
   "attachments": {},
   "cell_type": "markdown",
   "id": "31a13d68",
   "metadata": {},
   "source": [
    "#### GPU setting"
   ]
  },
  {
   "cell_type": "code",
   "execution_count": 2,
   "id": "cff3cada",
   "metadata": {},
   "outputs": [],
   "source": [
    "from tensorflow.compat.v1 import ConfigProto\n",
    "from tensorflow.compat.v1 import InteractiveSession"
   ]
  },
  {
   "cell_type": "code",
   "execution_count": 3,
   "id": "fb88e9c0",
   "metadata": {},
   "outputs": [],
   "source": [
    "config = ConfigProto()\n",
    "config.gpu_options.per_process_gpu_memory_fraction = 0.4\n",
    "session = InteractiveSession(config = config)"
   ]
  },
  {
   "cell_type": "code",
   "execution_count": 4,
   "id": "ea8f0f47",
   "metadata": {},
   "outputs": [
    {
     "name": "stdout",
     "output_type": "stream",
     "text": [
      "[name: \"/device:CPU:0\"\n",
      "device_type: \"CPU\"\n",
      "memory_limit: 268435456\n",
      "locality {\n",
      "}\n",
      "incarnation: 10921900587691243757\n",
      ", name: \"/device:GPU:0\"\n",
      "device_type: \"GPU\"\n",
      "memory_limit: 3435973836\n",
      "locality {\n",
      "  bus_id: 1\n",
      "  links {\n",
      "  }\n",
      "}\n",
      "incarnation: 9974690619777031263\n",
      "physical_device_desc: \"device: 0, name: NVIDIA GeForce RTX 3060 Ti, pci bus id: 0000:07:00.0, compute capability: 8.6\"\n",
      "]\n"
     ]
    }
   ],
   "source": [
    "physical_devices = tf.config.list_physical_devices('GPU')\n",
    "physical_devices\n",
    "\n",
    "from tensorflow.python.client import device_lib\n",
    "\n",
    "print(device_lib.list_local_devices())"
   ]
  },
  {
   "cell_type": "code",
   "execution_count": 5,
   "id": "cd001f36",
   "metadata": {},
   "outputs": [],
   "source": [
    "import os\n",
    "\n",
    "os.environ[\"CUDA_VISIBLE_DEVICES\"]=\"0\"\n",
    "gpus = tf.config.experimental.list_physical_devices('GPU')\n",
    "if gpus:\n",
    "    try:\n",
    "        tf.config.experimental.set_memory_growth(gpus[0], True)\n",
    "    except RuntimeError as e:\n",
    "        print(e)"
   ]
  },
  {
   "attachments": {},
   "cell_type": "markdown",
   "id": "cb740f81",
   "metadata": {},
   "source": [
    "#### Data import and preprocessing"
   ]
  },
  {
   "cell_type": "code",
   "execution_count": 6,
   "id": "9288345d",
   "metadata": {
    "scrolled": true
   },
   "outputs": [
    {
     "data": {
      "text/plain": [
       "Index(['OBJECTID_x', 'ID', 'pH', 'As', 'Cd', 'Ni', 'Pb', 'Zn', 'Hg', 'slope',\n",
       "       'altitude', 'profile_curve', 'profile_c_num', 'profile_c_abs',\n",
       "       'planform_curve', 'planform_c_num', 'planform_c_abs', 'HYDGRP',\n",
       "       'HYDGRP_A', 'HYDGRP_B', 'HYDGRP_C', 'HYDGRP_D', 'ANION_EXCL', 'SOL_CRK',\n",
       "       'SOL_K1', 'CLAY1', 'SILT1', 'SAND1', 'ROCK1', 'SOL_EC1', 'distance'],\n",
       "      dtype='object')"
      ]
     },
     "execution_count": 6,
     "metadata": {},
     "output_type": "execute_result"
    }
   ],
   "source": [
    "data = pd.read_csv(\"data/data_kw.csv\")\n",
    "data.columns"
   ]
  },
  {
   "cell_type": "code",
   "execution_count": 7,
   "id": "bbf87a23",
   "metadata": {},
   "outputs": [
    {
     "data": {
      "text/plain": [
       "Index(['pH', 'As', 'Cd', 'Ni', 'Pb', 'Zn', 'Hg', 'slope', 'altitude',\n",
       "       'profile_curve', 'planform_curve', 'HYDGRP_A', 'HYDGRP_B', 'HYDGRP_C',\n",
       "       'HYDGRP_D', 'SOL_K1', 'CLAY1', 'SILT1', 'SAND1', 'ROCK1', 'distance'],\n",
       "      dtype='object')"
      ]
     },
     "execution_count": 7,
     "metadata": {},
     "output_type": "execute_result"
    }
   ],
   "source": [
    "data = data.drop(['OBJECTID_x','ID','HYDGRP','profile_c_num', 'profile_c_abs','planform_c_num', 'planform_c_abs','ANION_EXCL','SOL_CRK','SOL_EC1'], axis = 1)\n",
    "data.columns"
   ]
  },
  {
   "cell_type": "code",
   "execution_count": 8,
   "id": "3cb8e77e",
   "metadata": {},
   "outputs": [],
   "source": [
    "As = data\n",
    "Cd = data\n",
    "Ni = data"
   ]
  },
  {
   "cell_type": "code",
   "execution_count": 9,
   "id": "45ec138e",
   "metadata": {},
   "outputs": [],
   "source": [
    "As = As.drop([\"Cd\", \"Ni\", \"Pb\", \"Zn\", \"Hg\"], axis = 1)\n",
    "Cd = Cd.drop([\"As\", \"Ni\", \"Pb\", \"Zn\", \"Hg\"], axis = 1)\n",
    "Ni = Ni.drop([\"As\", \"Cd\", \"Pb\", \"Zn\", \"Hg\"], axis = 1)"
   ]
  },
  {
   "cell_type": "code",
   "execution_count": 10,
   "id": "69e10383",
   "metadata": {},
   "outputs": [
    {
     "name": "stdout",
     "output_type": "stream",
     "text": [
      "(677, 16)\n",
      "(677, 16)\n",
      "(677, 16)\n"
     ]
    }
   ],
   "source": [
    "print(As.shape)\n",
    "print(Cd.shape)\n",
    "print(Ni.shape)"
   ]
  },
  {
   "attachments": {},
   "cell_type": "markdown",
   "id": "2b5fd2cd",
   "metadata": {},
   "source": [
    "#### Oversampling by SMOGN (SMOTE Regression)"
   ]
  },
  {
   "cell_type": "code",
   "execution_count": 11,
   "id": "b664ef07",
   "metadata": {},
   "outputs": [],
   "source": [
    "import smogn"
   ]
  },
  {
   "cell_type": "code",
   "execution_count": 12,
   "id": "0797c71f",
   "metadata": {},
   "outputs": [
    {
     "name": "stderr",
     "output_type": "stream",
     "text": [
      "dist_matrix: 100%|##########| 134/134 [00:07<00:00, 18.77it/s]\n",
      "synth_matrix: 100%|##########| 134/134 [00:00<00:00, 207.38it/s]\n",
      "dist_matrix: 100%|##########| 159/159 [00:09<00:00, 16.32it/s]\n",
      "synth_matrix: 100%|##########| 159/159 [00:00<00:00, 329.12it/s]\n",
      "r_index: 100%|##########| 47/47 [00:00<00:00, 652.64it/s]\n",
      "dist_matrix: 100%|##########| 127/127 [00:06<00:00, 20.92it/s]\n",
      "synth_matrix: 100%|##########| 127/127 [00:00<00:00, 204.13it/s]\n",
      "r_index: 100%|##########| 38/38 [00:00<00:00, 643.92it/s]\n"
     ]
    }
   ],
   "source": [
    "As_smogn = smogn.smoter(data = As, y = 'As', samp_method = 'extreme')\n",
    "Cd_smogn = smogn.smoter(data = Cd, y = 'Cd', samp_method = 'extreme')\n",
    "Ni_smogn = smogn.smoter(data = Ni, y = 'Ni', samp_method = 'extreme')"
   ]
  },
  {
   "cell_type": "code",
   "execution_count": 13,
   "id": "cba746a8",
   "metadata": {},
   "outputs": [
    {
     "name": "stdout",
     "output_type": "stream",
     "text": [
      "(971, 16)\n",
      "(887, 16)\n",
      "(986, 16)\n"
     ]
    }
   ],
   "source": [
    "print(As_smogn.shape)\n",
    "print(Cd_smogn.shape)\n",
    "print(Ni_smogn.shape)"
   ]
  },
  {
   "attachments": {},
   "cell_type": "markdown",
   "id": "ed72a9b1",
   "metadata": {},
   "source": [
    "#### Eliminate outlier and train / test split"
   ]
  },
  {
   "cell_type": "code",
   "execution_count": 14,
   "id": "43604a42",
   "metadata": {},
   "outputs": [],
   "source": [
    "def eli_outlier(data, value):\n",
    "    q1 = data[value].quantile(0.25)\n",
    "    q3 = data[value].quantile(0.75)\n",
    "\n",
    "    iqr = q3 - q1\n",
    "\n",
    "    q1_condition = data[value] < q1-1.5*iqr\n",
    "    q3_condition = data[value] > q3+1.5*iqr\n",
    "\n",
    "    reset_q1_index = data[q1_condition].index\n",
    "    reset_q3_index = data[q3_condition].index\n",
    "\n",
    "    data.drop(reset_q1_index, inplace = True)\n",
    "    data.drop(reset_q3_index, inplace = True)\n",
    "\n",
    "    return data"
   ]
  },
  {
   "cell_type": "code",
   "execution_count": 15,
   "id": "9b7632f2",
   "metadata": {},
   "outputs": [],
   "source": [
    "As_ros = eli_outlier(As_smogn, \"As\")\n",
    "Cd_ros = eli_outlier(Cd_smogn, \"Cd\")\n",
    "Ni_ros = eli_outlier(Ni_smogn, \"Ni\")"
   ]
  },
  {
   "cell_type": "code",
   "execution_count": 16,
   "id": "f8609469",
   "metadata": {},
   "outputs": [],
   "source": [
    "As_X = As_ros.drop([\"As\"], axis=1)\n",
    "Cd_X = Cd_ros.drop([\"Cd\"], axis=1)\n",
    "Ni_X = Ni_ros.drop([\"Ni\"], axis=1)\n",
    "\n",
    "As_y = As_ros[\"As\"]\n",
    "Cd_y = Cd_ros[\"Cd\"]\n",
    "Ni_y = Ni_ros[\"Ni\"]"
   ]
  },
  {
   "cell_type": "code",
   "execution_count": 17,
   "id": "7237a19a",
   "metadata": {},
   "outputs": [],
   "source": [
    "As_y = np.log1p(As_ros[\"As\"])\n",
    "Cd_y = np.log1p(Cd_ros[\"Cd\"])\n",
    "Ni_y = np.log1p(Ni_ros[\"Ni\"])"
   ]
  },
  {
   "cell_type": "code",
   "execution_count": 18,
   "id": "ce87d06a",
   "metadata": {},
   "outputs": [
    {
     "name": "stdout",
     "output_type": "stream",
     "text": [
      "(786, 15)\n",
      "(703, 15)\n",
      "(975, 15)\n"
     ]
    }
   ],
   "source": [
    "print(As_X.shape)\n",
    "print(Cd_X.shape)\n",
    "print(Ni_X.shape)"
   ]
  },
  {
   "attachments": {},
   "cell_type": "markdown",
   "id": "c92e5bb6",
   "metadata": {},
   "source": [
    "StandardScaler"
   ]
  },
  {
   "cell_type": "code",
   "execution_count": 19,
   "id": "bd26262e",
   "metadata": {},
   "outputs": [],
   "source": [
    "from sklearn.preprocessing import StandardScaler\n",
    "\n",
    "scaler = StandardScaler()\n",
    "\n",
    "As_X_train, As_X_test, As_y_train, As_y_test = train_test_split(As_X, As_y, test_size=0.2, random_state=42)\n",
    "Cd_X_train, Cd_X_test, Cd_y_train, Cd_y_test = train_test_split(Cd_X, Cd_y, test_size=0.2, random_state=42)\n",
    "Ni_X_train, Ni_X_test, Ni_y_train, Ni_y_test = train_test_split(Ni_X, Ni_y, test_size=0.2, random_state=42)\n",
    "\n",
    "As_X_train = scaler.fit_transform(As_X_train)\n",
    "As_X_test = scaler.fit_transform(As_X_test)\n",
    "\n",
    "Cd_X_train = scaler.fit_transform(Cd_X_train)\n",
    "Cd_X_test = scaler.fit_transform(Cd_X_test)\n",
    "\n",
    "Ni_X_train = scaler.fit_transform(Ni_X_train)\n",
    "Ni_X_test = scaler.fit_transform(Ni_X_test)"
   ]
  },
  {
   "cell_type": "code",
   "execution_count": 20,
   "id": "416a7027",
   "metadata": {},
   "outputs": [
    {
     "data": {
      "text/plain": [
       "' from sklearn.preprocessing import StandardScaler\\n\\nscaler = StandardScaler()\\nAs_X_scaled = scaler.fit_transform(As_X)\\nCd_X_scaled = scaler.fit_transform(Cd_X)\\nNi_X_scaled = scaler.fit_transform(Ni_X)\\n\\nAs_X_train, As_X_test, As_y_train, As_y_test = train_test_split(As_X_scaled, As_y, test_size=0.2, random_state=42)\\nCd_X_train, Cd_X_test, Cd_y_train, Cd_y_test = train_test_split(Cd_X_scaled, Cd_y, test_size=0.2, random_state=42)\\nNi_X_train, Ni_X_test, Ni_y_train, Ni_y_test = train_test_split(Ni_X_scaled, Ni_y, test_size=0.2, random_state=42) '"
      ]
     },
     "execution_count": 20,
     "metadata": {},
     "output_type": "execute_result"
    }
   ],
   "source": [
    "''' from sklearn.preprocessing import StandardScaler\n",
    "\n",
    "scaler = StandardScaler()\n",
    "As_X_scaled = scaler.fit_transform(As_X)\n",
    "Cd_X_scaled = scaler.fit_transform(Cd_X)\n",
    "Ni_X_scaled = scaler.fit_transform(Ni_X)\n",
    "\n",
    "As_X_train, As_X_test, As_y_train, As_y_test = train_test_split(As_X_scaled, As_y, test_size=0.2, random_state=42)\n",
    "Cd_X_train, Cd_X_test, Cd_y_train, Cd_y_test = train_test_split(Cd_X_scaled, Cd_y, test_size=0.2, random_state=42)\n",
    "Ni_X_train, Ni_X_test, Ni_y_train, Ni_y_test = train_test_split(Ni_X_scaled, Ni_y, test_size=0.2, random_state=42) '''"
   ]
  },
  {
   "attachments": {},
   "cell_type": "markdown",
   "id": "2fe0d293",
   "metadata": {},
   "source": [
    "MinMaxScaler"
   ]
  },
  {
   "cell_type": "code",
   "execution_count": 21,
   "id": "e8596f9f",
   "metadata": {},
   "outputs": [],
   "source": [
    "# from sklearn.preprocessing import MinMaxScaler\n",
    "\n",
    "# scaler = MinMaxScaler()\n",
    "# As_X_scaled = scaler.fit_transform(As_X)\n",
    "# Cd_X_scaled = scaler.fit_transform(Cd_X)\n",
    "# Ni_X_scaled = scaler.fit_transform(Ni_X)\n",
    "\n",
    "# As_X_train, As_X_test, As_y_train, As_y_test = train_test_split(As_X_scaled, As_y, test_size=0.2, random_state=42)\n",
    "# Cd_X_train, Cd_X_test, Cd_y_train, Cd_y_test = train_test_split(Cd_X_scaled, Cd_y, test_size=0.2, random_state=42)\n",
    "# Ni_X_train, Ni_X_test, Ni_y_train, Ni_y_test = train_test_split(Ni_X_scaled, Ni_y, test_size=0.2, random_state=42)"
   ]
  },
  {
   "cell_type": "code",
   "execution_count": 22,
   "id": "86ccf2fe",
   "metadata": {},
   "outputs": [
    {
     "name": "stdout",
     "output_type": "stream",
     "text": [
      "(628, 15)\n",
      "(562, 15)\n",
      "(780, 15)\n"
     ]
    }
   ],
   "source": [
    "print(As_X_train.shape)\n",
    "print(Cd_X_train.shape)\n",
    "print(Ni_X_train.shape)"
   ]
  },
  {
   "attachments": {},
   "cell_type": "markdown",
   "id": "bd11b27e",
   "metadata": {},
   "source": [
    "#### 10-Fold Crossvalidation"
   ]
  },
  {
   "cell_type": "code",
   "execution_count": 23,
   "id": "7a765916",
   "metadata": {},
   "outputs": [],
   "source": [
    "kf = KFold(n_splits = 5, random_state = 42, shuffle = True)"
   ]
  },
  {
   "attachments": {},
   "cell_type": "markdown",
   "id": "859638d0",
   "metadata": {},
   "source": [
    "#### Optuna Optimization"
   ]
  },
  {
   "cell_type": "code",
   "execution_count": 24,
   "id": "92a47d83",
   "metadata": {},
   "outputs": [],
   "source": [
    "import optuna\n",
    "\n",
    "from optuna import Trial\n",
    "from optuna.samplers import TPESampler"
   ]
  },
  {
   "cell_type": "code",
   "execution_count": 25,
   "id": "a7669fea",
   "metadata": {},
   "outputs": [],
   "source": [
    "from sklearn.model_selection import cross_val_score\n",
    "\n",
    "def objectiveRF(trial: Trial, X_train, y_train) -> float:\n",
    "    rf_paramas = {\n",
    "        \"random_state\": 42,\n",
    "        #\"learning_rate\": 0.1,\n",
    "        \"n_estimators\": trial.suggest_int(\"n_estimators\", 10, 100),\n",
    "        \"max_depth\": trial.suggest_int(\"max_depth\", 1, 10),\n",
    "        \"min_samples_leaf\": trial.suggest_int(\"min_samples_leaf\", 1, 20),\n",
    "        \"min_samples_split\": trial.suggest_int(\"min_samples_split\", 2, 20),\n",
    "        #\"subsample\": trial.suggest_float(\"subsample\", 0.1, 0.5)\n",
    "    }\n",
    "    \n",
    "    rf = RandomForestRegressor(**rf_paramas)\n",
    "    r2 = cross_val_score(rf, X_train, y_train, scoring = \"r2\", cv = kf)\n",
    "    r2 = r2.mean()\n",
    "    \n",
    "    return r2"
   ]
  },
  {
   "attachments": {},
   "cell_type": "markdown",
   "id": "b0988f46",
   "metadata": {},
   "source": [
    "####  Optimization"
   ]
  },
  {
   "cell_type": "code",
   "execution_count": 26,
   "id": "94f5e00d",
   "metadata": {
    "scrolled": false
   },
   "outputs": [
    {
     "name": "stderr",
     "output_type": "stream",
     "text": [
      "\u001b[32m[I 2023-08-24 14:17:13,367]\u001b[0m A new study created in memory with name: rf_parameter_opt\u001b[0m\n",
      "\u001b[32m[I 2023-08-24 14:17:13,910]\u001b[0m Trial 0 finished with value: 0.3389687219457085 and parameters: {'n_estimators': 48, 'max_depth': 3, 'min_samples_leaf': 8, 'min_samples_split': 10}. Best is trial 0 with value: 0.3389687219457085.\u001b[0m\n",
      "\u001b[32m[I 2023-08-24 14:17:14,170]\u001b[0m Trial 1 finished with value: 0.33153850323524053 and parameters: {'n_estimators': 24, 'max_depth': 3, 'min_samples_leaf': 17, 'min_samples_split': 19}. Best is trial 0 with value: 0.3389687219457085.\u001b[0m\n",
      "\u001b[32m[I 2023-08-24 14:17:15,592]\u001b[0m Trial 2 finished with value: 0.5063253549670873 and parameters: {'n_estimators': 74, 'max_depth': 10, 'min_samples_leaf': 4, 'min_samples_split': 11}. Best is trial 2 with value: 0.5063253549670873.\u001b[0m\n",
      "\u001b[32m[I 2023-08-24 14:17:16,051]\u001b[0m Trial 3 finished with value: 0.3844361656845006 and parameters: {'n_estimators': 37, 'max_depth': 4, 'min_samples_leaf': 15, 'min_samples_split': 16}. Best is trial 2 with value: 0.5063253549670873.\u001b[0m\n",
      "\u001b[32m[I 2023-08-24 14:17:16,824]\u001b[0m Trial 4 finished with value: 0.428150061053966 and parameters: {'n_estimators': 58, 'max_depth': 7, 'min_samples_leaf': 15, 'min_samples_split': 19}. Best is trial 2 with value: 0.5063253549670873.\u001b[0m\n",
      "\u001b[32m[I 2023-08-24 14:17:17,210]\u001b[0m Trial 5 finished with value: 0.33250700639202646 and parameters: {'n_estimators': 36, 'max_depth': 3, 'min_samples_leaf': 16, 'min_samples_split': 15}. Best is trial 2 with value: 0.5063253549670873.\u001b[0m\n",
      "\u001b[32m[I 2023-08-24 14:17:18,023]\u001b[0m Trial 6 finished with value: 0.4507436095633287 and parameters: {'n_estimators': 57, 'max_depth': 10, 'min_samples_leaf': 12, 'min_samples_split': 4}. Best is trial 2 with value: 0.5063253549670873.\u001b[0m\n",
      "\u001b[32m[I 2023-08-24 14:17:18,654]\u001b[0m Trial 7 finished with value: 0.4135136186142887 and parameters: {'n_estimators': 50, 'max_depth': 8, 'min_samples_leaf': 18, 'min_samples_split': 13}. Best is trial 2 with value: 0.5063253549670873.\u001b[0m\n",
      "\u001b[32m[I 2023-08-24 14:17:19,284]\u001b[0m Trial 8 finished with value: 0.47931575480534694 and parameters: {'n_estimators': 37, 'max_depth': 6, 'min_samples_leaf': 4, 'min_samples_split': 11}. Best is trial 2 with value: 0.5063253549670873.\u001b[0m\n",
      "\u001b[32m[I 2023-08-24 14:17:19,599]\u001b[0m Trial 9 finished with value: 0.387744174974781 and parameters: {'n_estimators': 26, 'max_depth': 4, 'min_samples_leaf': 15, 'min_samples_split': 8}. Best is trial 2 with value: 0.5063253549670873.\u001b[0m\n",
      "\u001b[32m[I 2023-08-24 14:17:22,008]\u001b[0m Trial 10 finished with value: 0.5223057524018021 and parameters: {'n_estimators': 88, 'max_depth': 10, 'min_samples_leaf': 1, 'min_samples_split': 2}. Best is trial 10 with value: 0.5223057524018021.\u001b[0m\n",
      "\u001b[32m[I 2023-08-24 14:17:24,403]\u001b[0m Trial 11 finished with value: 0.5229206409540164 and parameters: {'n_estimators': 87, 'max_depth': 10, 'min_samples_leaf': 1, 'min_samples_split': 2}. Best is trial 11 with value: 0.5229206409540164.\u001b[0m\n",
      "\u001b[32m[I 2023-08-24 14:17:26,925]\u001b[0m Trial 12 finished with value: 0.5155622472214639 and parameters: {'n_estimators': 100, 'max_depth': 9, 'min_samples_leaf': 1, 'min_samples_split': 2}. Best is trial 11 with value: 0.5229206409540164.\u001b[0m\n",
      "\u001b[32m[I 2023-08-24 14:17:28,846]\u001b[0m Trial 13 finished with value: 0.5138933782041508 and parameters: {'n_estimators': 93, 'max_depth': 8, 'min_samples_leaf': 2, 'min_samples_split': 6}. Best is trial 11 with value: 0.5229206409540164.\u001b[0m\n",
      "\u001b[32m[I 2023-08-24 14:17:29,392]\u001b[0m Trial 14 finished with value: 0.12228612988533605 and parameters: {'n_estimators': 80, 'max_depth': 1, 'min_samples_leaf': 8, 'min_samples_split': 2}. Best is trial 11 with value: 0.5229206409540164.\u001b[0m\n",
      "\u001b[32m[I 2023-08-24 14:17:30,786]\u001b[0m Trial 15 finished with value: 0.49995712725645697 and parameters: {'n_estimators': 79, 'max_depth': 10, 'min_samples_leaf': 6, 'min_samples_split': 5}. Best is trial 11 with value: 0.5229206409540164.\u001b[0m\n",
      "\u001b[32m[I 2023-08-24 14:17:32,591]\u001b[0m Trial 16 finished with value: 0.5096752134198208 and parameters: {'n_estimators': 87, 'max_depth': 8, 'min_samples_leaf': 1, 'min_samples_split': 8}. Best is trial 11 with value: 0.5229206409540164.\u001b[0m\n",
      "\u001b[32m[I 2023-08-24 14:17:33,372]\u001b[0m Trial 17 finished with value: 0.4067786340731486 and parameters: {'n_estimators': 65, 'max_depth': 6, 'min_samples_leaf': 20, 'min_samples_split': 4}. Best is trial 11 with value: 0.5229206409540164.\u001b[0m\n",
      "\u001b[32m[I 2023-08-24 14:17:33,575]\u001b[0m Trial 18 finished with value: 0.4451735132894085 and parameters: {'n_estimators': 13, 'max_depth': 9, 'min_samples_leaf': 11, 'min_samples_split': 7}. Best is trial 11 with value: 0.5229206409540164.\u001b[0m\n",
      "\u001b[32m[I 2023-08-24 14:17:34,936]\u001b[0m Trial 19 finished with value: 0.5126754393241195 and parameters: {'n_estimators': 70, 'max_depth': 9, 'min_samples_leaf': 4, 'min_samples_split': 2}. Best is trial 11 with value: 0.5229206409540164.\u001b[0m\n",
      "\u001b[32m[I 2023-08-24 14:17:36,516]\u001b[0m Trial 20 finished with value: 0.4807414991322328 and parameters: {'n_estimators': 100, 'max_depth': 7, 'min_samples_leaf': 8, 'min_samples_split': 4}. Best is trial 11 with value: 0.5229206409540164.\u001b[0m\n",
      "\u001b[32m[I 2023-08-24 14:17:39,029]\u001b[0m Trial 21 finished with value: 0.5155622472214639 and parameters: {'n_estimators': 100, 'max_depth': 9, 'min_samples_leaf': 1, 'min_samples_split': 2}. Best is trial 11 with value: 0.5229206409540164.\u001b[0m\n",
      "\u001b[32m[I 2023-08-24 14:17:40,942]\u001b[0m Trial 22 finished with value: 0.515240522557623 and parameters: {'n_estimators': 90, 'max_depth': 10, 'min_samples_leaf': 3, 'min_samples_split': 2}. Best is trial 11 with value: 0.5229206409540164.\u001b[0m\n",
      "\u001b[32m[I 2023-08-24 14:17:42,406]\u001b[0m Trial 23 finished with value: 0.500558375433459 and parameters: {'n_estimators': 84, 'max_depth': 9, 'min_samples_leaf': 6, 'min_samples_split': 4}. Best is trial 11 with value: 0.5229206409540164.\u001b[0m\n",
      "\u001b[32m[I 2023-08-24 14:17:44,261]\u001b[0m Trial 24 finished with value: 0.5049731899463843 and parameters: {'n_estimators': 94, 'max_depth': 7, 'min_samples_leaf': 1, 'min_samples_split': 6}. Best is trial 11 with value: 0.5229206409540164.\u001b[0m\n",
      "\u001b[32m[I 2023-08-24 14:17:45,581]\u001b[0m Trial 25 finished with value: 0.4988352767669485 and parameters: {'n_estimators': 75, 'max_depth': 10, 'min_samples_leaf': 6, 'min_samples_split': 3}. Best is trial 11 with value: 0.5229206409540164.\u001b[0m\n",
      "\u001b[32m[I 2023-08-24 14:17:46,854]\u001b[0m Trial 26 finished with value: 0.5058298136296588 and parameters: {'n_estimators': 65, 'max_depth': 8, 'min_samples_leaf': 3, 'min_samples_split': 9}. Best is trial 11 with value: 0.5229206409540164.\u001b[0m\n",
      "\u001b[32m[I 2023-08-24 14:17:48,576]\u001b[0m Trial 27 finished with value: 0.5098486647111563 and parameters: {'n_estimators': 94, 'max_depth': 9, 'min_samples_leaf': 5, 'min_samples_split': 6}. Best is trial 11 with value: 0.5229206409540164.\u001b[0m\n",
      "\u001b[32m[I 2023-08-24 14:17:50,532]\u001b[0m Trial 28 finished with value: 0.5208102999274036 and parameters: {'n_estimators': 83, 'max_depth': 10, 'min_samples_leaf': 2, 'min_samples_split': 3}. Best is trial 11 with value: 0.5229206409540164.\u001b[0m\n",
      "\u001b[32m[I 2023-08-24 14:17:51,108]\u001b[0m Trial 29 finished with value: 0.12200055969056171 and parameters: {'n_estimators': 84, 'max_depth': 1, 'min_samples_leaf': 8, 'min_samples_split': 5}. Best is trial 11 with value: 0.5229206409540164.\u001b[0m\n",
      "\u001b[32m[I 2023-08-24 14:17:52,084]\u001b[0m Trial 30 finished with value: 0.46192368337021483 and parameters: {'n_estimators': 64, 'max_depth': 5, 'min_samples_leaf': 3, 'min_samples_split': 3}. Best is trial 11 with value: 0.5229206409540164.\u001b[0m\n",
      "\u001b[32m[I 2023-08-24 14:17:54,420]\u001b[0m Trial 31 finished with value: 0.5197180310685832 and parameters: {'n_estimators': 100, 'max_depth': 10, 'min_samples_leaf': 2, 'min_samples_split': 3}. Best is trial 11 with value: 0.5229206409540164.\u001b[0m\n",
      "\u001b[32m[I 2023-08-24 14:17:56,529]\u001b[0m Trial 32 finished with value: 0.5220488037220555 and parameters: {'n_estimators': 89, 'max_depth': 10, 'min_samples_leaf': 2, 'min_samples_split': 3}. Best is trial 11 with value: 0.5229206409540164.\u001b[0m\n",
      "\u001b[32m[I 2023-08-24 14:17:58,363]\u001b[0m Trial 33 finished with value: 0.5207002266625145 and parameters: {'n_estimators': 80, 'max_depth': 10, 'min_samples_leaf': 2, 'min_samples_split': 5}. Best is trial 11 with value: 0.5229206409540164.\u001b[0m\n",
      "\u001b[32m[I 2023-08-24 14:17:59,705]\u001b[0m Trial 34 finished with value: 0.5085625389266487 and parameters: {'n_estimators': 73, 'max_depth': 10, 'min_samples_leaf': 5, 'min_samples_split': 3}. Best is trial 11 with value: 0.5229206409540164.\u001b[0m\n",
      "\u001b[32m[I 2023-08-24 14:18:01,486]\u001b[0m Trial 35 finished with value: 0.5145100134333048 and parameters: {'n_estimators': 87, 'max_depth': 9, 'min_samples_leaf': 3, 'min_samples_split': 7}. Best is trial 11 with value: 0.5229206409540164.\u001b[0m\n",
      "\u001b[32m[I 2023-08-24 14:18:03,078]\u001b[0m Trial 36 finished with value: 0.49807667352366963 and parameters: {'n_estimators': 90, 'max_depth': 8, 'min_samples_leaf': 5, 'min_samples_split': 13}. Best is trial 11 with value: 0.5229206409540164.\u001b[0m\n",
      "\u001b[32m[I 2023-08-24 14:18:04,236]\u001b[0m Trial 37 finished with value: 0.467489375252139 and parameters: {'n_estimators': 77, 'max_depth': 10, 'min_samples_leaf': 10, 'min_samples_split': 20}. Best is trial 11 with value: 0.5229206409540164.\u001b[0m\n",
      "\u001b[32m[I 2023-08-24 14:18:04,887]\u001b[0m Trial 38 finished with value: 0.27414319332584663 and parameters: {'n_estimators': 70, 'max_depth': 2, 'min_samples_leaf': 2, 'min_samples_split': 5}. Best is trial 11 with value: 0.5229206409540164.\u001b[0m\n",
      "\u001b[32m[I 2023-08-24 14:18:06,052]\u001b[0m Trial 39 finished with value: 0.44015065441974405 and parameters: {'n_estimators': 84, 'max_depth': 7, 'min_samples_leaf': 13, 'min_samples_split': 15}. Best is trial 11 with value: 0.5229206409540164.\u001b[0m\n",
      "\u001b[32m[I 2023-08-24 14:18:07,864]\u001b[0m Trial 40 finished with value: 0.5086068126576204 and parameters: {'n_estimators': 95, 'max_depth': 9, 'min_samples_leaf': 4, 'min_samples_split': 10}. Best is trial 11 with value: 0.5229206409540164.\u001b[0m\n",
      "\u001b[32m[I 2023-08-24 14:18:09,792]\u001b[0m Trial 41 finished with value: 0.5200821861327325 and parameters: {'n_estimators': 81, 'max_depth': 10, 'min_samples_leaf': 2, 'min_samples_split': 3}. Best is trial 11 with value: 0.5229206409540164.\u001b[0m\n",
      "\u001b[32m[I 2023-08-24 14:18:11,960]\u001b[0m Trial 42 finished with value: 0.5248667742376445 and parameters: {'n_estimators': 89, 'max_depth': 10, 'min_samples_leaf': 1, 'min_samples_split': 5}. Best is trial 42 with value: 0.5248667742376445.\u001b[0m\n",
      "\u001b[32m[I 2023-08-24 14:18:13,110]\u001b[0m Trial 43 finished with value: 0.5056260975230439 and parameters: {'n_estimators': 45, 'max_depth': 10, 'min_samples_leaf': 1, 'min_samples_split': 4}. Best is trial 42 with value: 0.5248667742376445.\u001b[0m\n",
      "\u001b[32m[I 2023-08-24 14:18:14,952]\u001b[0m Trial 44 finished with value: 0.5144058464572752 and parameters: {'n_estimators': 88, 'max_depth': 9, 'min_samples_leaf': 3, 'min_samples_split': 2}. Best is trial 42 with value: 0.5248667742376445.\u001b[0m\n",
      "\u001b[32m[I 2023-08-24 14:18:17,013]\u001b[0m Trial 45 finished with value: 0.5132101573402541 and parameters: {'n_estimators': 93, 'max_depth': 8, 'min_samples_leaf': 1, 'min_samples_split': 4}. Best is trial 42 with value: 0.5248667742376445.\u001b[0m\n",
      "\u001b[32m[I 2023-08-24 14:18:18,285]\u001b[0m Trial 46 finished with value: 0.4851323478734857 and parameters: {'n_estimators': 72, 'max_depth': 10, 'min_samples_leaf': 4, 'min_samples_split': 18}. Best is trial 42 with value: 0.5248667742376445.\u001b[0m\n",
      "\u001b[32m[I 2023-08-24 14:18:19,426]\u001b[0m Trial 47 finished with value: 0.41440470119753436 and parameters: {'n_estimators': 84, 'max_depth': 4, 'min_samples_leaf': 2, 'min_samples_split': 3}. Best is trial 42 with value: 0.5248667742376445.\u001b[0m\n",
      "\u001b[32m[I 2023-08-24 14:18:21,023]\u001b[0m Trial 48 finished with value: 0.4946901145214532 and parameters: {'n_estimators': 96, 'max_depth': 9, 'min_samples_leaf': 7, 'min_samples_split': 7}. Best is trial 42 with value: 0.5248667742376445.\u001b[0m\n",
      "\u001b[32m[I 2023-08-24 14:18:22,188]\u001b[0m Trial 49 finished with value: 0.5052999554965554 and parameters: {'n_estimators': 52, 'max_depth': 8, 'min_samples_leaf': 1, 'min_samples_split': 5}. Best is trial 42 with value: 0.5248667742376445.\u001b[0m\n",
      "\u001b[32m[I 2023-08-24 14:18:24,093]\u001b[0m Trial 50 finished with value: 0.515240522557623 and parameters: {'n_estimators': 90, 'max_depth': 10, 'min_samples_leaf': 3, 'min_samples_split': 2}. Best is trial 42 with value: 0.5248667742376445.\u001b[0m\n",
      "\u001b[32m[I 2023-08-24 14:18:25,960]\u001b[0m Trial 51 finished with value: 0.5201180900758304 and parameters: {'n_estimators': 82, 'max_depth': 10, 'min_samples_leaf': 2, 'min_samples_split': 5}. Best is trial 42 with value: 0.5248667742376445.\u001b[0m\n",
      "\u001b[32m[I 2023-08-24 14:18:27,664]\u001b[0m Trial 52 finished with value: 0.5172690340909327 and parameters: {'n_estimators': 79, 'max_depth': 9, 'min_samples_leaf': 2, 'min_samples_split': 6}. Best is trial 42 with value: 0.5248667742376445.\u001b[0m\n",
      "\u001b[32m[I 2023-08-24 14:18:29,177]\u001b[0m Trial 53 finished with value: 0.5121581843775085 and parameters: {'n_estimators': 77, 'max_depth': 10, 'min_samples_leaf': 4, 'min_samples_split': 4}. Best is trial 42 with value: 0.5248667742376445.\u001b[0m\n",
      "\u001b[32m[I 2023-08-24 14:18:31,433]\u001b[0m Trial 54 finished with value: 0.5225719911625235 and parameters: {'n_estimators': 87, 'max_depth': 10, 'min_samples_leaf': 1, 'min_samples_split': 3}. Best is trial 42 with value: 0.5248667742376445.\u001b[0m\n",
      "\u001b[32m[I 2023-08-24 14:18:33,313]\u001b[0m Trial 55 finished with value: 0.515335862719964 and parameters: {'n_estimators': 91, 'max_depth': 9, 'min_samples_leaf': 3, 'min_samples_split': 3}. Best is trial 42 with value: 0.5248667742376445.\u001b[0m\n",
      "\u001b[32m[I 2023-08-24 14:18:35,913]\u001b[0m Trial 56 finished with value: 0.522216783981047 and parameters: {'n_estimators': 96, 'max_depth': 10, 'min_samples_leaf': 1, 'min_samples_split': 2}. Best is trial 42 with value: 0.5248667742376445.\u001b[0m\n",
      "\u001b[32m[I 2023-08-24 14:18:38,363]\u001b[0m Trial 57 finished with value: 0.5158374320910679 and parameters: {'n_estimators': 97, 'max_depth': 9, 'min_samples_leaf': 1, 'min_samples_split': 2}. Best is trial 42 with value: 0.5248667742376445.\u001b[0m\n",
      "\u001b[32m[I 2023-08-24 14:18:39,440]\u001b[0m Trial 58 finished with value: 0.4184847033032698 and parameters: {'n_estimators': 86, 'max_depth': 10, 'min_samples_leaf': 18, 'min_samples_split': 2}. Best is trial 42 with value: 0.5248667742376445.\u001b[0m\n",
      "\u001b[32m[I 2023-08-24 14:18:41,767]\u001b[0m Trial 59 finished with value: 0.5172972296892921 and parameters: {'n_estimators': 97, 'max_depth': 9, 'min_samples_leaf': 1, 'min_samples_split': 4}. Best is trial 42 with value: 0.5248667742376445.\u001b[0m\n",
      "\u001b[32m[I 2023-08-24 14:18:41,901]\u001b[0m Trial 60 finished with value: 0.3215260417264597 and parameters: {'n_estimators': 11, 'max_depth': 3, 'min_samples_leaf': 4, 'min_samples_split': 2}. Best is trial 42 with value: 0.5248667742376445.\u001b[0m\n",
      "\u001b[32m[I 2023-08-24 14:18:43,980]\u001b[0m Trial 61 finished with value: 0.5218070815719139 and parameters: {'n_estimators': 88, 'max_depth': 10, 'min_samples_leaf': 2, 'min_samples_split': 3}. Best is trial 42 with value: 0.5248667742376445.\u001b[0m\n",
      "\u001b[32m[I 2023-08-24 14:18:46,266]\u001b[0m Trial 62 finished with value: 0.5215003307794573 and parameters: {'n_estimators': 88, 'max_depth': 10, 'min_samples_leaf': 1, 'min_samples_split': 3}. Best is trial 42 with value: 0.5248667742376445.\u001b[0m\n",
      "\u001b[32m[I 2023-08-24 14:18:48,560]\u001b[0m Trial 63 finished with value: 0.5216778004201106 and parameters: {'n_estimators': 92, 'max_depth': 10, 'min_samples_leaf': 1, 'min_samples_split': 4}. Best is trial 42 with value: 0.5248667742376445.\u001b[0m\n",
      "\u001b[32m[I 2023-08-24 14:18:50,067]\u001b[0m Trial 64 finished with value: 0.4637600650617214 and parameters: {'n_estimators': 97, 'max_depth': 5, 'min_samples_leaf': 2, 'min_samples_split': 2}. Best is trial 42 with value: 0.5248667742376445.\u001b[0m\n",
      "\u001b[32m[I 2023-08-24 14:18:50,656]\u001b[0m Trial 65 finished with value: 0.5035862838384432 and parameters: {'n_estimators': 28, 'max_depth': 9, 'min_samples_leaf': 3, 'min_samples_split': 3}. Best is trial 42 with value: 0.5248667742376445.\u001b[0m\n",
      "\u001b[32m[I 2023-08-24 14:18:51,991]\u001b[0m Trial 66 finished with value: 0.4692252346514808 and parameters: {'n_estimators': 87, 'max_depth': 10, 'min_samples_leaf': 10, 'min_samples_split': 2}. Best is trial 42 with value: 0.5248667742376445.\u001b[0m\n",
      "\u001b[32m[I 2023-08-24 14:18:53,629]\u001b[0m Trial 67 finished with value: 0.5049579923338455 and parameters: {'n_estimators': 90, 'max_depth': 10, 'min_samples_leaf': 5, 'min_samples_split': 12}. Best is trial 42 with value: 0.5248667742376445.\u001b[0m\n",
      "\u001b[32m[I 2023-08-24 14:18:54,963]\u001b[0m Trial 68 finished with value: 0.5101337418606265 and parameters: {'n_estimators': 61, 'max_depth': 8, 'min_samples_leaf': 1, 'min_samples_split': 5}. Best is trial 42 with value: 0.5248667742376445.\u001b[0m\n",
      "\u001b[32m[I 2023-08-24 14:18:56,062]\u001b[0m Trial 69 finished with value: 0.4357236266808007 and parameters: {'n_estimators': 76, 'max_depth': 9, 'min_samples_leaf': 14, 'min_samples_split': 4}. Best is trial 42 with value: 0.5248667742376445.\u001b[0m\n",
      "\u001b[32m[I 2023-08-24 14:18:57,694]\u001b[0m Trial 70 finished with value: 0.48992531234482906 and parameters: {'n_estimators': 93, 'max_depth': 6, 'min_samples_leaf': 2, 'min_samples_split': 6}. Best is trial 42 with value: 0.5248667742376445.\u001b[0m\n",
      "\u001b[32m[I 2023-08-24 14:19:00,099]\u001b[0m Trial 71 finished with value: 0.5212541853594721 and parameters: {'n_estimators': 91, 'max_depth': 10, 'min_samples_leaf': 1, 'min_samples_split': 3}. Best is trial 42 with value: 0.5248667742376445.\u001b[0m\n",
      "\u001b[32m[I 2023-08-24 14:19:02,317]\u001b[0m Trial 72 finished with value: 0.5220942158997367 and parameters: {'n_estimators': 86, 'max_depth': 10, 'min_samples_leaf': 1, 'min_samples_split': 4}. Best is trial 42 with value: 0.5248667742376445.\u001b[0m\n",
      "\u001b[32m[I 2023-08-24 14:19:04,110]\u001b[0m Trial 73 finished with value: 0.5146668940039997 and parameters: {'n_estimators': 86, 'max_depth': 9, 'min_samples_leaf': 3, 'min_samples_split': 4}. Best is trial 42 with value: 0.5248667742376445.\u001b[0m\n",
      "\u001b[32m[I 2023-08-24 14:19:06,429]\u001b[0m Trial 74 finished with value: 0.5203790788880152 and parameters: {'n_estimators': 98, 'max_depth': 10, 'min_samples_leaf': 2, 'min_samples_split': 3}. Best is trial 42 with value: 0.5248667742376445.\u001b[0m\n",
      "\u001b[32m[I 2023-08-24 14:19:08,234]\u001b[0m Trial 75 finished with value: 0.5150960579847075 and parameters: {'n_estimators': 79, 'max_depth': 10, 'min_samples_leaf': 1, 'min_samples_split': 8}. Best is trial 42 with value: 0.5248667742376445.\u001b[0m\n",
      "\u001b[32m[I 2023-08-24 14:19:09,876]\u001b[0m Trial 76 finished with value: 0.5130386518291409 and parameters: {'n_estimators': 85, 'max_depth': 9, 'min_samples_leaf': 4, 'min_samples_split': 2}. Best is trial 42 with value: 0.5248667742376445.\u001b[0m\n",
      "\u001b[32m[I 2023-08-24 14:19:11,793]\u001b[0m Trial 77 finished with value: 0.5197579246178304 and parameters: {'n_estimators': 82, 'max_depth': 10, 'min_samples_leaf': 2, 'min_samples_split': 3}. Best is trial 42 with value: 0.5248667742376445.\u001b[0m\n",
      "\u001b[32m[I 2023-08-24 14:19:13,769]\u001b[0m Trial 78 finished with value: 0.5159569674041086 and parameters: {'n_estimators': 93, 'max_depth': 10, 'min_samples_leaf': 3, 'min_samples_split': 5}. Best is trial 42 with value: 0.5248667742376445.\u001b[0m\n",
      "\u001b[32m[I 2023-08-24 14:19:15,717]\u001b[0m Trial 79 finished with value: 0.5198956032206146 and parameters: {'n_estimators': 89, 'max_depth': 10, 'min_samples_leaf': 2, 'min_samples_split': 7}. Best is trial 42 with value: 0.5248667742376445.\u001b[0m\n",
      "\u001b[32m[I 2023-08-24 14:19:16,611]\u001b[0m Trial 80 finished with value: 0.2730539447920416 and parameters: {'n_estimators': 100, 'max_depth': 2, 'min_samples_leaf': 9, 'min_samples_split': 2}. Best is trial 42 with value: 0.5248667742376445.\u001b[0m\n",
      "\u001b[32m[I 2023-08-24 14:19:18,927]\u001b[0m Trial 81 finished with value: 0.5216778004201106 and parameters: {'n_estimators': 92, 'max_depth': 10, 'min_samples_leaf': 1, 'min_samples_split': 4}. Best is trial 42 with value: 0.5248667742376445.\u001b[0m\n",
      "\u001b[32m[I 2023-08-24 14:19:21,312]\u001b[0m Trial 82 finished with value: 0.5210785095226175 and parameters: {'n_estimators': 95, 'max_depth': 10, 'min_samples_leaf': 1, 'min_samples_split': 4}. Best is trial 42 with value: 0.5248667742376445.\u001b[0m\n",
      "\u001b[32m[I 2023-08-24 14:19:23,601]\u001b[0m Trial 83 finished with value: 0.5215003307794573 and parameters: {'n_estimators': 88, 'max_depth': 10, 'min_samples_leaf': 1, 'min_samples_split': 3}. Best is trial 42 with value: 0.5248667742376445.\u001b[0m\n",
      "\u001b[32m[I 2023-08-24 14:19:25,457]\u001b[0m Trial 84 finished with value: 0.5189575484140063 and parameters: {'n_estimators': 82, 'max_depth': 9, 'min_samples_leaf': 2, 'min_samples_split': 4}. Best is trial 42 with value: 0.5248667742376445.\u001b[0m\n",
      "\u001b[32m[I 2023-08-24 14:19:25,997]\u001b[0m Trial 85 finished with value: 0.4070365844854713 and parameters: {'n_estimators': 43, 'max_depth': 10, 'min_samples_leaf': 20, 'min_samples_split': 5}. Best is trial 42 with value: 0.5248667742376445.\u001b[0m\n",
      "\u001b[32m[I 2023-08-24 14:19:27,990]\u001b[0m Trial 86 finished with value: 0.5153327137139094 and parameters: {'n_estimators': 94, 'max_depth': 10, 'min_samples_leaf': 3, 'min_samples_split': 6}. Best is trial 42 with value: 0.5248667742376445.\u001b[0m\n",
      "\u001b[32m[I 2023-08-24 14:19:30,089]\u001b[0m Trial 87 finished with value: 0.5172013160918895 and parameters: {'n_estimators': 86, 'max_depth': 9, 'min_samples_leaf': 1, 'min_samples_split': 3}. Best is trial 42 with value: 0.5248667742376445.\u001b[0m\n",
      "\u001b[32m[I 2023-08-24 14:19:32,033]\u001b[0m Trial 88 finished with value: 0.517569119751229 and parameters: {'n_estimators': 92, 'max_depth': 10, 'min_samples_leaf': 2, 'min_samples_split': 9}. Best is trial 42 with value: 0.5248667742376445.\u001b[0m\n",
      "\u001b[32m[I 2023-08-24 14:19:34,059]\u001b[0m Trial 89 finished with value: 0.5144752892695911 and parameters: {'n_estimators': 98, 'max_depth': 9, 'min_samples_leaf': 3, 'min_samples_split': 2}. Best is trial 42 with value: 0.5248667742376445.\u001b[0m\n",
      "\u001b[32m[I 2023-08-24 14:19:36,227]\u001b[0m Trial 90 finished with value: 0.5211637972111056 and parameters: {'n_estimators': 84, 'max_depth': 10, 'min_samples_leaf': 1, 'min_samples_split': 3}. Best is trial 42 with value: 0.5248667742376445.\u001b[0m\n",
      "\u001b[32m[I 2023-08-24 14:19:38,558]\u001b[0m Trial 91 finished with value: 0.5216778004201106 and parameters: {'n_estimators': 92, 'max_depth': 10, 'min_samples_leaf': 1, 'min_samples_split': 4}. Best is trial 42 with value: 0.5248667742376445.\u001b[0m\n",
      "\u001b[32m[I 2023-08-24 14:19:40,639]\u001b[0m Trial 92 finished with value: 0.5220488037220555 and parameters: {'n_estimators': 89, 'max_depth': 10, 'min_samples_leaf': 2, 'min_samples_split': 4}. Best is trial 42 with value: 0.5248667742376445.\u001b[0m\n",
      "\u001b[32m[I 2023-08-24 14:19:42,694]\u001b[0m Trial 93 finished with value: 0.5218070815719139 and parameters: {'n_estimators': 88, 'max_depth': 10, 'min_samples_leaf': 2, 'min_samples_split': 2}. Best is trial 42 with value: 0.5248667742376445.\u001b[0m\n",
      "\u001b[32m[I 2023-08-24 14:19:44,563]\u001b[0m Trial 94 finished with value: 0.5203605487981483 and parameters: {'n_estimators': 80, 'max_depth': 10, 'min_samples_leaf': 2, 'min_samples_split': 2}. Best is trial 42 with value: 0.5248667742376445.\u001b[0m\n",
      "\u001b[32m[I 2023-08-24 14:19:46,303]\u001b[0m Trial 95 finished with value: 0.5127619148254288 and parameters: {'n_estimators': 88, 'max_depth': 10, 'min_samples_leaf': 4, 'min_samples_split': 2}. Best is trial 42 with value: 0.5248667742376445.\u001b[0m\n",
      "\u001b[32m[I 2023-08-24 14:19:48,015]\u001b[0m Trial 96 finished with value: 0.49328737132147815 and parameters: {'n_estimators': 89, 'max_depth': 9, 'min_samples_leaf': 2, 'min_samples_split': 15}. Best is trial 42 with value: 0.5248667742376445.\u001b[0m\n",
      "\u001b[32m[I 2023-08-24 14:19:49,980]\u001b[0m Trial 97 finished with value: 0.5143891664740398 and parameters: {'n_estimators': 95, 'max_depth': 9, 'min_samples_leaf': 3, 'min_samples_split': 3}. Best is trial 42 with value: 0.5248667742376445.\u001b[0m\n",
      "\u001b[32m[I 2023-08-24 14:19:51,367]\u001b[0m Trial 98 finished with value: 0.508374127173146 and parameters: {'n_estimators': 74, 'max_depth': 10, 'min_samples_leaf': 5, 'min_samples_split': 2}. Best is trial 42 with value: 0.5248667742376445.\u001b[0m\n",
      "\u001b[32m[I 2023-08-24 14:19:53,226]\u001b[0m Trial 99 finished with value: 0.5198756251315796 and parameters: {'n_estimators': 83, 'max_depth': 9, 'min_samples_leaf': 2, 'min_samples_split': 3}. Best is trial 42 with value: 0.5248667742376445.\u001b[0m\n"
     ]
    },
    {
     "name": "stdout",
     "output_type": "stream",
     "text": [
      "Best r2:  0.5248667742376445\n",
      "Best trial: {'n_estimators': 89, 'max_depth': 10, 'min_samples_leaf': 1, 'min_samples_split': 5}\n"
     ]
    }
   ],
   "source": [
    "sampler = TPESampler()\n",
    "study = optuna.create_study(\n",
    "    study_name=\"rf_parameter_opt\",\n",
    "    direction=\"maximize\",\n",
    "    sampler=sampler,\n",
    ")\n",
    "\n",
    "study.optimize(lambda trial : objectiveRF(trial, As_X_train, As_y_train), n_trials=100)\n",
    "print(\"Best r2: \", study.best_value)\n",
    "print(\"Best trial:\", study.best_trial.params)"
   ]
  },
  {
   "cell_type": "code",
   "execution_count": 27,
   "id": "ded0e0f8",
   "metadata": {},
   "outputs": [
    {
     "data": {
      "application/vnd.plotly.v1+json": {
       "config": {
        "plotlyServerURL": "https://plot.ly"
       },
       "data": [
        {
         "dimensions": [
          {
           "label": "Objective Value",
           "range": [
            0.12200055969056171,
            0.5248667742376445
           ],
           "values": [
            0.3389687219457085,
            0.33153850323524053,
            0.5063253549670873,
            0.3844361656845006,
            0.428150061053966,
            0.33250700639202646,
            0.4507436095633287,
            0.4135136186142887,
            0.47931575480534694,
            0.387744174974781,
            0.5223057524018021,
            0.5229206409540164,
            0.5155622472214639,
            0.5138933782041508,
            0.12228612988533605,
            0.49995712725645697,
            0.5096752134198208,
            0.4067786340731486,
            0.4451735132894085,
            0.5126754393241195,
            0.4807414991322328,
            0.5155622472214639,
            0.515240522557623,
            0.500558375433459,
            0.5049731899463843,
            0.4988352767669485,
            0.5058298136296588,
            0.5098486647111563,
            0.5208102999274036,
            0.12200055969056171,
            0.46192368337021483,
            0.5197180310685832,
            0.5220488037220555,
            0.5207002266625145,
            0.5085625389266487,
            0.5145100134333048,
            0.49807667352366963,
            0.467489375252139,
            0.27414319332584663,
            0.44015065441974405,
            0.5086068126576204,
            0.5200821861327325,
            0.5248667742376445,
            0.5056260975230439,
            0.5144058464572752,
            0.5132101573402541,
            0.4851323478734857,
            0.41440470119753436,
            0.4946901145214532,
            0.5052999554965554,
            0.515240522557623,
            0.5201180900758304,
            0.5172690340909327,
            0.5121581843775085,
            0.5225719911625235,
            0.515335862719964,
            0.522216783981047,
            0.5158374320910679,
            0.4184847033032698,
            0.5172972296892921,
            0.3215260417264597,
            0.5218070815719139,
            0.5215003307794573,
            0.5216778004201106,
            0.4637600650617214,
            0.5035862838384432,
            0.4692252346514808,
            0.5049579923338455,
            0.5101337418606265,
            0.4357236266808007,
            0.48992531234482906,
            0.5212541853594721,
            0.5220942158997367,
            0.5146668940039997,
            0.5203790788880152,
            0.5150960579847075,
            0.5130386518291409,
            0.5197579246178304,
            0.5159569674041086,
            0.5198956032206146,
            0.2730539447920416,
            0.5216778004201106,
            0.5210785095226175,
            0.5215003307794573,
            0.5189575484140063,
            0.4070365844854713,
            0.5153327137139094,
            0.5172013160918895,
            0.517569119751229,
            0.5144752892695911,
            0.5211637972111056,
            0.5216778004201106,
            0.5220488037220555,
            0.5218070815719139,
            0.5203605487981483,
            0.5127619148254288,
            0.49328737132147815,
            0.5143891664740398,
            0.508374127173146,
            0.5198756251315796
           ]
          },
          {
           "label": "max_depth",
           "range": [
            1,
            10
           ],
           "values": [
            3,
            3,
            10,
            4,
            7,
            3,
            10,
            8,
            6,
            4,
            10,
            10,
            9,
            8,
            1,
            10,
            8,
            6,
            9,
            9,
            7,
            9,
            10,
            9,
            7,
            10,
            8,
            9,
            10,
            1,
            5,
            10,
            10,
            10,
            10,
            9,
            8,
            10,
            2,
            7,
            9,
            10,
            10,
            10,
            9,
            8,
            10,
            4,
            9,
            8,
            10,
            10,
            9,
            10,
            10,
            9,
            10,
            9,
            10,
            9,
            3,
            10,
            10,
            10,
            5,
            9,
            10,
            10,
            8,
            9,
            6,
            10,
            10,
            9,
            10,
            10,
            9,
            10,
            10,
            10,
            2,
            10,
            10,
            10,
            9,
            10,
            10,
            9,
            10,
            9,
            10,
            10,
            10,
            10,
            10,
            10,
            9,
            9,
            10,
            9
           ]
          },
          {
           "label": "min_samples_leaf",
           "range": [
            1,
            20
           ],
           "values": [
            8,
            17,
            4,
            15,
            15,
            16,
            12,
            18,
            4,
            15,
            1,
            1,
            1,
            2,
            8,
            6,
            1,
            20,
            11,
            4,
            8,
            1,
            3,
            6,
            1,
            6,
            3,
            5,
            2,
            8,
            3,
            2,
            2,
            2,
            5,
            3,
            5,
            10,
            2,
            13,
            4,
            2,
            1,
            1,
            3,
            1,
            4,
            2,
            7,
            1,
            3,
            2,
            2,
            4,
            1,
            3,
            1,
            1,
            18,
            1,
            4,
            2,
            1,
            1,
            2,
            3,
            10,
            5,
            1,
            14,
            2,
            1,
            1,
            3,
            2,
            1,
            4,
            2,
            3,
            2,
            9,
            1,
            1,
            1,
            2,
            20,
            3,
            1,
            2,
            3,
            1,
            1,
            2,
            2,
            2,
            4,
            2,
            3,
            5,
            2
           ]
          },
          {
           "label": "min_samples_split",
           "range": [
            2,
            20
           ],
           "values": [
            10,
            19,
            11,
            16,
            19,
            15,
            4,
            13,
            11,
            8,
            2,
            2,
            2,
            6,
            2,
            5,
            8,
            4,
            7,
            2,
            4,
            2,
            2,
            4,
            6,
            3,
            9,
            6,
            3,
            5,
            3,
            3,
            3,
            5,
            3,
            7,
            13,
            20,
            5,
            15,
            10,
            3,
            5,
            4,
            2,
            4,
            18,
            3,
            7,
            5,
            2,
            5,
            6,
            4,
            3,
            3,
            2,
            2,
            2,
            4,
            2,
            3,
            3,
            4,
            2,
            3,
            2,
            12,
            5,
            4,
            6,
            3,
            4,
            4,
            3,
            8,
            2,
            3,
            5,
            7,
            2,
            4,
            4,
            3,
            4,
            5,
            6,
            3,
            9,
            2,
            3,
            4,
            4,
            2,
            2,
            2,
            15,
            3,
            2,
            3
           ]
          },
          {
           "label": "n_estimators",
           "range": [
            11,
            100
           ],
           "values": [
            48,
            24,
            74,
            37,
            58,
            36,
            57,
            50,
            37,
            26,
            88,
            87,
            100,
            93,
            80,
            79,
            87,
            65,
            13,
            70,
            100,
            100,
            90,
            84,
            94,
            75,
            65,
            94,
            83,
            84,
            64,
            100,
            89,
            80,
            73,
            87,
            90,
            77,
            70,
            84,
            95,
            81,
            89,
            45,
            88,
            93,
            72,
            84,
            96,
            52,
            90,
            82,
            79,
            77,
            87,
            91,
            96,
            97,
            86,
            97,
            11,
            88,
            88,
            92,
            97,
            28,
            87,
            90,
            61,
            76,
            93,
            91,
            86,
            86,
            98,
            79,
            85,
            82,
            93,
            89,
            100,
            92,
            95,
            88,
            82,
            43,
            94,
            86,
            92,
            98,
            84,
            92,
            89,
            88,
            80,
            88,
            89,
            95,
            74,
            83
           ]
          }
         ],
         "labelangle": 30,
         "labelside": "bottom",
         "line": {
          "color": [
           0.3389687219457085,
           0.33153850323524053,
           0.5063253549670873,
           0.3844361656845006,
           0.428150061053966,
           0.33250700639202646,
           0.4507436095633287,
           0.4135136186142887,
           0.47931575480534694,
           0.387744174974781,
           0.5223057524018021,
           0.5229206409540164,
           0.5155622472214639,
           0.5138933782041508,
           0.12228612988533605,
           0.49995712725645697,
           0.5096752134198208,
           0.4067786340731486,
           0.4451735132894085,
           0.5126754393241195,
           0.4807414991322328,
           0.5155622472214639,
           0.515240522557623,
           0.500558375433459,
           0.5049731899463843,
           0.4988352767669485,
           0.5058298136296588,
           0.5098486647111563,
           0.5208102999274036,
           0.12200055969056171,
           0.46192368337021483,
           0.5197180310685832,
           0.5220488037220555,
           0.5207002266625145,
           0.5085625389266487,
           0.5145100134333048,
           0.49807667352366963,
           0.467489375252139,
           0.27414319332584663,
           0.44015065441974405,
           0.5086068126576204,
           0.5200821861327325,
           0.5248667742376445,
           0.5056260975230439,
           0.5144058464572752,
           0.5132101573402541,
           0.4851323478734857,
           0.41440470119753436,
           0.4946901145214532,
           0.5052999554965554,
           0.515240522557623,
           0.5201180900758304,
           0.5172690340909327,
           0.5121581843775085,
           0.5225719911625235,
           0.515335862719964,
           0.522216783981047,
           0.5158374320910679,
           0.4184847033032698,
           0.5172972296892921,
           0.3215260417264597,
           0.5218070815719139,
           0.5215003307794573,
           0.5216778004201106,
           0.4637600650617214,
           0.5035862838384432,
           0.4692252346514808,
           0.5049579923338455,
           0.5101337418606265,
           0.4357236266808007,
           0.48992531234482906,
           0.5212541853594721,
           0.5220942158997367,
           0.5146668940039997,
           0.5203790788880152,
           0.5150960579847075,
           0.5130386518291409,
           0.5197579246178304,
           0.5159569674041086,
           0.5198956032206146,
           0.2730539447920416,
           0.5216778004201106,
           0.5210785095226175,
           0.5215003307794573,
           0.5189575484140063,
           0.4070365844854713,
           0.5153327137139094,
           0.5172013160918895,
           0.517569119751229,
           0.5144752892695911,
           0.5211637972111056,
           0.5216778004201106,
           0.5220488037220555,
           0.5218070815719139,
           0.5203605487981483,
           0.5127619148254288,
           0.49328737132147815,
           0.5143891664740398,
           0.508374127173146,
           0.5198756251315796
          ],
          "colorbar": {
           "title": {
            "text": "Objective Value"
           }
          },
          "colorscale": [
           [
            0,
            "rgb(247,251,255)"
           ],
           [
            0.125,
            "rgb(222,235,247)"
           ],
           [
            0.25,
            "rgb(198,219,239)"
           ],
           [
            0.375,
            "rgb(158,202,225)"
           ],
           [
            0.5,
            "rgb(107,174,214)"
           ],
           [
            0.625,
            "rgb(66,146,198)"
           ],
           [
            0.75,
            "rgb(33,113,181)"
           ],
           [
            0.875,
            "rgb(8,81,156)"
           ],
           [
            1,
            "rgb(8,48,107)"
           ]
          ],
          "reversescale": false,
          "showscale": true
         },
         "type": "parcoords"
        }
       ],
       "layout": {
        "template": {
         "data": {
          "bar": [
           {
            "error_x": {
             "color": "#2a3f5f"
            },
            "error_y": {
             "color": "#2a3f5f"
            },
            "marker": {
             "line": {
              "color": "#E5ECF6",
              "width": 0.5
             },
             "pattern": {
              "fillmode": "overlay",
              "size": 10,
              "solidity": 0.2
             }
            },
            "type": "bar"
           }
          ],
          "barpolar": [
           {
            "marker": {
             "line": {
              "color": "#E5ECF6",
              "width": 0.5
             },
             "pattern": {
              "fillmode": "overlay",
              "size": 10,
              "solidity": 0.2
             }
            },
            "type": "barpolar"
           }
          ],
          "carpet": [
           {
            "aaxis": {
             "endlinecolor": "#2a3f5f",
             "gridcolor": "white",
             "linecolor": "white",
             "minorgridcolor": "white",
             "startlinecolor": "#2a3f5f"
            },
            "baxis": {
             "endlinecolor": "#2a3f5f",
             "gridcolor": "white",
             "linecolor": "white",
             "minorgridcolor": "white",
             "startlinecolor": "#2a3f5f"
            },
            "type": "carpet"
           }
          ],
          "choropleth": [
           {
            "colorbar": {
             "outlinewidth": 0,
             "ticks": ""
            },
            "type": "choropleth"
           }
          ],
          "contour": [
           {
            "colorbar": {
             "outlinewidth": 0,
             "ticks": ""
            },
            "colorscale": [
             [
              0,
              "#0d0887"
             ],
             [
              0.1111111111111111,
              "#46039f"
             ],
             [
              0.2222222222222222,
              "#7201a8"
             ],
             [
              0.3333333333333333,
              "#9c179e"
             ],
             [
              0.4444444444444444,
              "#bd3786"
             ],
             [
              0.5555555555555556,
              "#d8576b"
             ],
             [
              0.6666666666666666,
              "#ed7953"
             ],
             [
              0.7777777777777778,
              "#fb9f3a"
             ],
             [
              0.8888888888888888,
              "#fdca26"
             ],
             [
              1,
              "#f0f921"
             ]
            ],
            "type": "contour"
           }
          ],
          "contourcarpet": [
           {
            "colorbar": {
             "outlinewidth": 0,
             "ticks": ""
            },
            "type": "contourcarpet"
           }
          ],
          "heatmap": [
           {
            "colorbar": {
             "outlinewidth": 0,
             "ticks": ""
            },
            "colorscale": [
             [
              0,
              "#0d0887"
             ],
             [
              0.1111111111111111,
              "#46039f"
             ],
             [
              0.2222222222222222,
              "#7201a8"
             ],
             [
              0.3333333333333333,
              "#9c179e"
             ],
             [
              0.4444444444444444,
              "#bd3786"
             ],
             [
              0.5555555555555556,
              "#d8576b"
             ],
             [
              0.6666666666666666,
              "#ed7953"
             ],
             [
              0.7777777777777778,
              "#fb9f3a"
             ],
             [
              0.8888888888888888,
              "#fdca26"
             ],
             [
              1,
              "#f0f921"
             ]
            ],
            "type": "heatmap"
           }
          ],
          "heatmapgl": [
           {
            "colorbar": {
             "outlinewidth": 0,
             "ticks": ""
            },
            "colorscale": [
             [
              0,
              "#0d0887"
             ],
             [
              0.1111111111111111,
              "#46039f"
             ],
             [
              0.2222222222222222,
              "#7201a8"
             ],
             [
              0.3333333333333333,
              "#9c179e"
             ],
             [
              0.4444444444444444,
              "#bd3786"
             ],
             [
              0.5555555555555556,
              "#d8576b"
             ],
             [
              0.6666666666666666,
              "#ed7953"
             ],
             [
              0.7777777777777778,
              "#fb9f3a"
             ],
             [
              0.8888888888888888,
              "#fdca26"
             ],
             [
              1,
              "#f0f921"
             ]
            ],
            "type": "heatmapgl"
           }
          ],
          "histogram": [
           {
            "marker": {
             "pattern": {
              "fillmode": "overlay",
              "size": 10,
              "solidity": 0.2
             }
            },
            "type": "histogram"
           }
          ],
          "histogram2d": [
           {
            "colorbar": {
             "outlinewidth": 0,
             "ticks": ""
            },
            "colorscale": [
             [
              0,
              "#0d0887"
             ],
             [
              0.1111111111111111,
              "#46039f"
             ],
             [
              0.2222222222222222,
              "#7201a8"
             ],
             [
              0.3333333333333333,
              "#9c179e"
             ],
             [
              0.4444444444444444,
              "#bd3786"
             ],
             [
              0.5555555555555556,
              "#d8576b"
             ],
             [
              0.6666666666666666,
              "#ed7953"
             ],
             [
              0.7777777777777778,
              "#fb9f3a"
             ],
             [
              0.8888888888888888,
              "#fdca26"
             ],
             [
              1,
              "#f0f921"
             ]
            ],
            "type": "histogram2d"
           }
          ],
          "histogram2dcontour": [
           {
            "colorbar": {
             "outlinewidth": 0,
             "ticks": ""
            },
            "colorscale": [
             [
              0,
              "#0d0887"
             ],
             [
              0.1111111111111111,
              "#46039f"
             ],
             [
              0.2222222222222222,
              "#7201a8"
             ],
             [
              0.3333333333333333,
              "#9c179e"
             ],
             [
              0.4444444444444444,
              "#bd3786"
             ],
             [
              0.5555555555555556,
              "#d8576b"
             ],
             [
              0.6666666666666666,
              "#ed7953"
             ],
             [
              0.7777777777777778,
              "#fb9f3a"
             ],
             [
              0.8888888888888888,
              "#fdca26"
             ],
             [
              1,
              "#f0f921"
             ]
            ],
            "type": "histogram2dcontour"
           }
          ],
          "mesh3d": [
           {
            "colorbar": {
             "outlinewidth": 0,
             "ticks": ""
            },
            "type": "mesh3d"
           }
          ],
          "parcoords": [
           {
            "line": {
             "colorbar": {
              "outlinewidth": 0,
              "ticks": ""
             }
            },
            "type": "parcoords"
           }
          ],
          "pie": [
           {
            "automargin": true,
            "type": "pie"
           }
          ],
          "scatter": [
           {
            "marker": {
             "colorbar": {
              "outlinewidth": 0,
              "ticks": ""
             }
            },
            "type": "scatter"
           }
          ],
          "scatter3d": [
           {
            "line": {
             "colorbar": {
              "outlinewidth": 0,
              "ticks": ""
             }
            },
            "marker": {
             "colorbar": {
              "outlinewidth": 0,
              "ticks": ""
             }
            },
            "type": "scatter3d"
           }
          ],
          "scattercarpet": [
           {
            "marker": {
             "colorbar": {
              "outlinewidth": 0,
              "ticks": ""
             }
            },
            "type": "scattercarpet"
           }
          ],
          "scattergeo": [
           {
            "marker": {
             "colorbar": {
              "outlinewidth": 0,
              "ticks": ""
             }
            },
            "type": "scattergeo"
           }
          ],
          "scattergl": [
           {
            "marker": {
             "colorbar": {
              "outlinewidth": 0,
              "ticks": ""
             }
            },
            "type": "scattergl"
           }
          ],
          "scattermapbox": [
           {
            "marker": {
             "colorbar": {
              "outlinewidth": 0,
              "ticks": ""
             }
            },
            "type": "scattermapbox"
           }
          ],
          "scatterpolar": [
           {
            "marker": {
             "colorbar": {
              "outlinewidth": 0,
              "ticks": ""
             }
            },
            "type": "scatterpolar"
           }
          ],
          "scatterpolargl": [
           {
            "marker": {
             "colorbar": {
              "outlinewidth": 0,
              "ticks": ""
             }
            },
            "type": "scatterpolargl"
           }
          ],
          "scatterternary": [
           {
            "marker": {
             "colorbar": {
              "outlinewidth": 0,
              "ticks": ""
             }
            },
            "type": "scatterternary"
           }
          ],
          "surface": [
           {
            "colorbar": {
             "outlinewidth": 0,
             "ticks": ""
            },
            "colorscale": [
             [
              0,
              "#0d0887"
             ],
             [
              0.1111111111111111,
              "#46039f"
             ],
             [
              0.2222222222222222,
              "#7201a8"
             ],
             [
              0.3333333333333333,
              "#9c179e"
             ],
             [
              0.4444444444444444,
              "#bd3786"
             ],
             [
              0.5555555555555556,
              "#d8576b"
             ],
             [
              0.6666666666666666,
              "#ed7953"
             ],
             [
              0.7777777777777778,
              "#fb9f3a"
             ],
             [
              0.8888888888888888,
              "#fdca26"
             ],
             [
              1,
              "#f0f921"
             ]
            ],
            "type": "surface"
           }
          ],
          "table": [
           {
            "cells": {
             "fill": {
              "color": "#EBF0F8"
             },
             "line": {
              "color": "white"
             }
            },
            "header": {
             "fill": {
              "color": "#C8D4E3"
             },
             "line": {
              "color": "white"
             }
            },
            "type": "table"
           }
          ]
         },
         "layout": {
          "annotationdefaults": {
           "arrowcolor": "#2a3f5f",
           "arrowhead": 0,
           "arrowwidth": 1
          },
          "autotypenumbers": "strict",
          "coloraxis": {
           "colorbar": {
            "outlinewidth": 0,
            "ticks": ""
           }
          },
          "colorscale": {
           "diverging": [
            [
             0,
             "#8e0152"
            ],
            [
             0.1,
             "#c51b7d"
            ],
            [
             0.2,
             "#de77ae"
            ],
            [
             0.3,
             "#f1b6da"
            ],
            [
             0.4,
             "#fde0ef"
            ],
            [
             0.5,
             "#f7f7f7"
            ],
            [
             0.6,
             "#e6f5d0"
            ],
            [
             0.7,
             "#b8e186"
            ],
            [
             0.8,
             "#7fbc41"
            ],
            [
             0.9,
             "#4d9221"
            ],
            [
             1,
             "#276419"
            ]
           ],
           "sequential": [
            [
             0,
             "#0d0887"
            ],
            [
             0.1111111111111111,
             "#46039f"
            ],
            [
             0.2222222222222222,
             "#7201a8"
            ],
            [
             0.3333333333333333,
             "#9c179e"
            ],
            [
             0.4444444444444444,
             "#bd3786"
            ],
            [
             0.5555555555555556,
             "#d8576b"
            ],
            [
             0.6666666666666666,
             "#ed7953"
            ],
            [
             0.7777777777777778,
             "#fb9f3a"
            ],
            [
             0.8888888888888888,
             "#fdca26"
            ],
            [
             1,
             "#f0f921"
            ]
           ],
           "sequentialminus": [
            [
             0,
             "#0d0887"
            ],
            [
             0.1111111111111111,
             "#46039f"
            ],
            [
             0.2222222222222222,
             "#7201a8"
            ],
            [
             0.3333333333333333,
             "#9c179e"
            ],
            [
             0.4444444444444444,
             "#bd3786"
            ],
            [
             0.5555555555555556,
             "#d8576b"
            ],
            [
             0.6666666666666666,
             "#ed7953"
            ],
            [
             0.7777777777777778,
             "#fb9f3a"
            ],
            [
             0.8888888888888888,
             "#fdca26"
            ],
            [
             1,
             "#f0f921"
            ]
           ]
          },
          "colorway": [
           "#636efa",
           "#EF553B",
           "#00cc96",
           "#ab63fa",
           "#FFA15A",
           "#19d3f3",
           "#FF6692",
           "#B6E880",
           "#FF97FF",
           "#FECB52"
          ],
          "font": {
           "color": "#2a3f5f"
          },
          "geo": {
           "bgcolor": "white",
           "lakecolor": "white",
           "landcolor": "#E5ECF6",
           "showlakes": true,
           "showland": true,
           "subunitcolor": "white"
          },
          "hoverlabel": {
           "align": "left"
          },
          "hovermode": "closest",
          "mapbox": {
           "style": "light"
          },
          "paper_bgcolor": "white",
          "plot_bgcolor": "#E5ECF6",
          "polar": {
           "angularaxis": {
            "gridcolor": "white",
            "linecolor": "white",
            "ticks": ""
           },
           "bgcolor": "#E5ECF6",
           "radialaxis": {
            "gridcolor": "white",
            "linecolor": "white",
            "ticks": ""
           }
          },
          "scene": {
           "xaxis": {
            "backgroundcolor": "#E5ECF6",
            "gridcolor": "white",
            "gridwidth": 2,
            "linecolor": "white",
            "showbackground": true,
            "ticks": "",
            "zerolinecolor": "white"
           },
           "yaxis": {
            "backgroundcolor": "#E5ECF6",
            "gridcolor": "white",
            "gridwidth": 2,
            "linecolor": "white",
            "showbackground": true,
            "ticks": "",
            "zerolinecolor": "white"
           },
           "zaxis": {
            "backgroundcolor": "#E5ECF6",
            "gridcolor": "white",
            "gridwidth": 2,
            "linecolor": "white",
            "showbackground": true,
            "ticks": "",
            "zerolinecolor": "white"
           }
          },
          "shapedefaults": {
           "line": {
            "color": "#2a3f5f"
           }
          },
          "ternary": {
           "aaxis": {
            "gridcolor": "white",
            "linecolor": "white",
            "ticks": ""
           },
           "baxis": {
            "gridcolor": "white",
            "linecolor": "white",
            "ticks": ""
           },
           "bgcolor": "#E5ECF6",
           "caxis": {
            "gridcolor": "white",
            "linecolor": "white",
            "ticks": ""
           }
          },
          "title": {
           "x": 0.05
          },
          "xaxis": {
           "automargin": true,
           "gridcolor": "white",
           "linecolor": "white",
           "ticks": "",
           "title": {
            "standoff": 15
           },
           "zerolinecolor": "white",
           "zerolinewidth": 2
          },
          "yaxis": {
           "automargin": true,
           "gridcolor": "white",
           "linecolor": "white",
           "ticks": "",
           "title": {
            "standoff": 15
           },
           "zerolinecolor": "white",
           "zerolinewidth": 2
          }
         }
        },
        "title": {
         "text": "Parallel Coordinate Plot"
        }
       }
      }
     },
     "metadata": {},
     "output_type": "display_data"
    }
   ],
   "source": [
    "optuna.visualization.plot_parallel_coordinate(study)"
   ]
  },
  {
   "cell_type": "code",
   "execution_count": 28,
   "id": "75db1ddf",
   "metadata": {},
   "outputs": [
    {
     "name": "stdout",
     "output_type": "stream",
     "text": [
      "Best trial: {'n_estimators': 89, 'max_depth': 10, 'min_samples_leaf': 1, 'min_samples_split': 5}\n"
     ]
    }
   ],
   "source": [
    "print(\"Best trial:\", study.best_trial.params)"
   ]
  },
  {
   "cell_type": "code",
   "execution_count": 29,
   "id": "574699dc",
   "metadata": {},
   "outputs": [
    {
     "data": {
      "text/plain": [
       "89"
      ]
     },
     "execution_count": 29,
     "metadata": {},
     "output_type": "execute_result"
    }
   ],
   "source": [
    "study.best_trial.params[\"n_estimators\"]"
   ]
  },
  {
   "cell_type": "code",
   "execution_count": 30,
   "id": "862eadd2",
   "metadata": {},
   "outputs": [
    {
     "data": {
      "text/html": [
       "<style>#sk-container-id-1 {color: black;}#sk-container-id-1 pre{padding: 0;}#sk-container-id-1 div.sk-toggleable {background-color: white;}#sk-container-id-1 label.sk-toggleable__label {cursor: pointer;display: block;width: 100%;margin-bottom: 0;padding: 0.3em;box-sizing: border-box;text-align: center;}#sk-container-id-1 label.sk-toggleable__label-arrow:before {content: \"▸\";float: left;margin-right: 0.25em;color: #696969;}#sk-container-id-1 label.sk-toggleable__label-arrow:hover:before {color: black;}#sk-container-id-1 div.sk-estimator:hover label.sk-toggleable__label-arrow:before {color: black;}#sk-container-id-1 div.sk-toggleable__content {max-height: 0;max-width: 0;overflow: hidden;text-align: left;background-color: #f0f8ff;}#sk-container-id-1 div.sk-toggleable__content pre {margin: 0.2em;color: black;border-radius: 0.25em;background-color: #f0f8ff;}#sk-container-id-1 input.sk-toggleable__control:checked~div.sk-toggleable__content {max-height: 200px;max-width: 100%;overflow: auto;}#sk-container-id-1 input.sk-toggleable__control:checked~label.sk-toggleable__label-arrow:before {content: \"▾\";}#sk-container-id-1 div.sk-estimator input.sk-toggleable__control:checked~label.sk-toggleable__label {background-color: #d4ebff;}#sk-container-id-1 div.sk-label input.sk-toggleable__control:checked~label.sk-toggleable__label {background-color: #d4ebff;}#sk-container-id-1 input.sk-hidden--visually {border: 0;clip: rect(1px 1px 1px 1px);clip: rect(1px, 1px, 1px, 1px);height: 1px;margin: -1px;overflow: hidden;padding: 0;position: absolute;width: 1px;}#sk-container-id-1 div.sk-estimator {font-family: monospace;background-color: #f0f8ff;border: 1px dotted black;border-radius: 0.25em;box-sizing: border-box;margin-bottom: 0.5em;}#sk-container-id-1 div.sk-estimator:hover {background-color: #d4ebff;}#sk-container-id-1 div.sk-parallel-item::after {content: \"\";width: 100%;border-bottom: 1px solid gray;flex-grow: 1;}#sk-container-id-1 div.sk-label:hover label.sk-toggleable__label {background-color: #d4ebff;}#sk-container-id-1 div.sk-serial::before {content: \"\";position: absolute;border-left: 1px solid gray;box-sizing: border-box;top: 0;bottom: 0;left: 50%;z-index: 0;}#sk-container-id-1 div.sk-serial {display: flex;flex-direction: column;align-items: center;background-color: white;padding-right: 0.2em;padding-left: 0.2em;position: relative;}#sk-container-id-1 div.sk-item {position: relative;z-index: 1;}#sk-container-id-1 div.sk-parallel {display: flex;align-items: stretch;justify-content: center;background-color: white;position: relative;}#sk-container-id-1 div.sk-item::before, #sk-container-id-1 div.sk-parallel-item::before {content: \"\";position: absolute;border-left: 1px solid gray;box-sizing: border-box;top: 0;bottom: 0;left: 50%;z-index: -1;}#sk-container-id-1 div.sk-parallel-item {display: flex;flex-direction: column;z-index: 1;position: relative;background-color: white;}#sk-container-id-1 div.sk-parallel-item:first-child::after {align-self: flex-end;width: 50%;}#sk-container-id-1 div.sk-parallel-item:last-child::after {align-self: flex-start;width: 50%;}#sk-container-id-1 div.sk-parallel-item:only-child::after {width: 0;}#sk-container-id-1 div.sk-dashed-wrapped {border: 1px dashed gray;margin: 0 0.4em 0.5em 0.4em;box-sizing: border-box;padding-bottom: 0.4em;background-color: white;}#sk-container-id-1 div.sk-label label {font-family: monospace;font-weight: bold;display: inline-block;line-height: 1.2em;}#sk-container-id-1 div.sk-label-container {text-align: center;}#sk-container-id-1 div.sk-container {/* jupyter's `normalize.less` sets `[hidden] { display: none; }` but bootstrap.min.css set `[hidden] { display: none !important; }` so we also need the `!important` here to be able to override the default hidden behavior on the sphinx rendered scikit-learn.org. See: https://github.com/scikit-learn/scikit-learn/issues/21755 */display: inline-block !important;position: relative;}#sk-container-id-1 div.sk-text-repr-fallback {display: none;}</style><div id=\"sk-container-id-1\" class=\"sk-top-container\"><div class=\"sk-text-repr-fallback\"><pre>RandomForestRegressor(max_depth=10, min_samples_split=5, n_estimators=89,\n",
       "                      random_state=42)</pre><b>In a Jupyter environment, please rerun this cell to show the HTML representation or trust the notebook. <br />On GitHub, the HTML representation is unable to render, please try loading this page with nbviewer.org.</b></div><div class=\"sk-container\" hidden><div class=\"sk-item\"><div class=\"sk-estimator sk-toggleable\"><input class=\"sk-toggleable__control sk-hidden--visually\" id=\"sk-estimator-id-1\" type=\"checkbox\" checked><label for=\"sk-estimator-id-1\" class=\"sk-toggleable__label sk-toggleable__label-arrow\">RandomForestRegressor</label><div class=\"sk-toggleable__content\"><pre>RandomForestRegressor(max_depth=10, min_samples_split=5, n_estimators=89,\n",
       "                      random_state=42)</pre></div></div></div></div></div>"
      ],
      "text/plain": [
       "RandomForestRegressor(max_depth=10, min_samples_split=5, n_estimators=89,\n",
       "                      random_state=42)"
      ]
     },
     "execution_count": 30,
     "metadata": {},
     "output_type": "execute_result"
    }
   ],
   "source": [
    "rf_params = {\n",
    "    \"random_state\": 42,\n",
    "    #\"learning_rate\": 0.1,\n",
    "    \"n_estimators\": study.best_trial.params[\"n_estimators\"],\n",
    "    \"max_depth\": study.best_trial.params[\"max_depth\"],\n",
    "    \"min_samples_leaf\": study.best_trial.params[\"min_samples_leaf\"],\n",
    "    \"min_samples_split\": study.best_trial.params[\"min_samples_split\"],\n",
    "    #\"subsample\": study.best_trial.params[\"subsample\"]\n",
    "}\n",
    "\n",
    "rf = RandomForestRegressor(**rf_params)\n",
    "rf.fit(As_X_train, As_y_train)"
   ]
  },
  {
   "cell_type": "code",
   "execution_count": 31,
   "id": "8577fb37",
   "metadata": {},
   "outputs": [],
   "source": [
    "y_train_pred = rf.predict(As_X_train)\n",
    "y_test_pred = rf.predict(As_X_test)"
   ]
  },
  {
   "cell_type": "code",
   "execution_count": 32,
   "id": "2ea0526a",
   "metadata": {},
   "outputs": [],
   "source": [
    "# plt.scatter(y_train_pred, np.array(As_y_train))"
   ]
  },
  {
   "cell_type": "code",
   "execution_count": 33,
   "id": "d2a4dd85",
   "metadata": {},
   "outputs": [
    {
     "name": "stdout",
     "output_type": "stream",
     "text": [
      "Train RMSE:  0.30528849441380906\n",
      "Test RMSE:  0.7917418267903547\n"
     ]
    }
   ],
   "source": [
    "print(\"Train RMSE: \", np.sqrt(mean_squared_error(As_y_train, y_train_pred)))\n",
    "print(\"Test RMSE: \", np.sqrt(mean_squared_error(As_y_test, y_test_pred)))"
   ]
  },
  {
   "cell_type": "code",
   "execution_count": 34,
   "id": "08fe787a",
   "metadata": {},
   "outputs": [
    {
     "name": "stdout",
     "output_type": "stream",
     "text": [
      "Train R2:  0.8891483942584911\n",
      "Test R2:  0.166043033238779\n"
     ]
    }
   ],
   "source": [
    "print(\"Train R2: \", r2_score(As_y_train, y_train_pred))\n",
    "print(\"Test R2: \", r2_score(As_y_test, y_test_pred))"
   ]
  },
  {
   "cell_type": "code",
   "execution_count": 35,
   "id": "5ec4820c",
   "metadata": {},
   "outputs": [
    {
     "data": {
      "image/png": "[encoded data removed]",
      "text/plain": [
       "<Figure size 640x480 with 1 Axes>"
      ]
     },
     "metadata": {},
     "output_type": "display_data"
    }
   ],
   "source": [
    "plt.scatter(y_train_pred, np.array(As_y_train), color=\"orange\", alpha=0.3)\n",
    "plt.scatter(y_test_pred, np.array(As_y_test), color=\"green\", alpha=0.4)\n",
    "plt.axis(\"auto\") # scaled, tight, auto, image, square\n",
    "# plt.xlim([0, 1.5]) \n",
    "# plt.ylim(0, None) \n",
    "plt.xlabel('Predicted Values')\n",
    "plt.ylabel('Actual Values')\n",
    "\n",
    "# Add y=x line\n",
    "plt.plot([0, 1.8], [0, 1.8], color='red', linestyle='-')\n",
    "\n",
    "plt.show()"
   ]
  },
  {
   "attachments": {},
   "cell_type": "markdown",
   "id": "e0507d63",
   "metadata": {},
   "source": [
    "Cd"
   ]
  },
  {
   "attachments": {},
   "cell_type": "markdown",
   "id": "f8f809d9",
   "metadata": {},
   "source": [
    "Optimization"
   ]
  },
  {
   "cell_type": "code",
   "execution_count": 36,
   "id": "b7aeaf0a",
   "metadata": {},
   "outputs": [
    {
     "name": "stderr",
     "output_type": "stream",
     "text": [
      "\u001b[32m[I 2023-08-24 14:19:54,291]\u001b[0m A new study created in memory with name: rf_parameter_opt\u001b[0m\n",
      "\u001b[32m[I 2023-08-24 14:19:54,510]\u001b[0m Trial 0 finished with value: 0.27372239658508396 and parameters: {'n_estimators': 23, 'max_depth': 2, 'min_samples_leaf': 18, 'min_samples_split': 18}. Best is trial 0 with value: 0.27372239658508396.\u001b[0m\n",
      "\u001b[32m[I 2023-08-24 14:19:55,271]\u001b[0m Trial 1 finished with value: 0.2641172418726045 and parameters: {'n_estimators': 94, 'max_depth': 2, 'min_samples_leaf': 18, 'min_samples_split': 8}. Best is trial 0 with value: 0.27372239658508396.\u001b[0m\n",
      "\u001b[32m[I 2023-08-24 14:19:56,059]\u001b[0m Trial 2 finished with value: 0.4316909665765225 and parameters: {'n_estimators': 64, 'max_depth': 4, 'min_samples_leaf': 1, 'min_samples_split': 17}. Best is trial 2 with value: 0.4316909665765225.\u001b[0m\n",
      "\u001b[32m[I 2023-08-24 14:19:56,271]\u001b[0m Trial 3 finished with value: 0.1405310302953497 and parameters: {'n_estimators': 31, 'max_depth': 1, 'min_samples_leaf': 7, 'min_samples_split': 2}. Best is trial 2 with value: 0.4316909665765225.\u001b[0m\n",
      "\u001b[32m[I 2023-08-24 14:19:56,869]\u001b[0m Trial 4 finished with value: 0.2620346457674364 and parameters: {'n_estimators': 70, 'max_depth': 2, 'min_samples_leaf': 4, 'min_samples_split': 16}. Best is trial 2 with value: 0.4316909665765225.\u001b[0m\n",
      "\u001b[32m[I 2023-08-24 14:19:57,567]\u001b[0m Trial 5 finished with value: 0.2606407281889339 and parameters: {'n_estimators': 82, 'max_depth': 2, 'min_samples_leaf': 9, 'min_samples_split': 12}. Best is trial 2 with value: 0.4316909665765225.\u001b[0m\n",
      "\u001b[32m[I 2023-08-24 14:19:58,109]\u001b[0m Trial 6 finished with value: 0.4502810255885505 and parameters: {'n_estimators': 41, 'max_depth': 10, 'min_samples_leaf': 12, 'min_samples_split': 16}. Best is trial 6 with value: 0.4502810255885505.\u001b[0m\n",
      "\u001b[32m[I 2023-08-24 14:19:58,642]\u001b[0m Trial 7 finished with value: 0.4790838181367173 and parameters: {'n_estimators': 31, 'max_depth': 10, 'min_samples_leaf': 3, 'min_samples_split': 17}. Best is trial 7 with value: 0.4790838181367173.\u001b[0m\n",
      "\u001b[32m[I 2023-08-24 14:19:59,505]\u001b[0m Trial 8 finished with value: 0.5036338055880802 and parameters: {'n_estimators': 43, 'max_depth': 10, 'min_samples_leaf': 2, 'min_samples_split': 7}. Best is trial 8 with value: 0.5036338055880802.\u001b[0m\n",
      "\u001b[32m[I 2023-08-24 14:19:59,902]\u001b[0m Trial 9 finished with value: 0.42724241583327965 and parameters: {'n_estimators': 33, 'max_depth': 9, 'min_samples_leaf': 18, 'min_samples_split': 10}. Best is trial 8 with value: 0.5036338055880802.\u001b[0m\n",
      "\u001b[32m[I 2023-08-24 14:20:00,555]\u001b[0m Trial 10 finished with value: 0.4486876246061021 and parameters: {'n_estimators': 49, 'max_depth': 7, 'min_samples_leaf': 13, 'min_samples_split': 4}. Best is trial 8 with value: 0.5036338055880802.\u001b[0m\n",
      "\u001b[32m[I 2023-08-24 14:20:00,797]\u001b[0m Trial 11 finished with value: 0.48147845260718236 and parameters: {'n_estimators': 12, 'max_depth': 8, 'min_samples_leaf': 1, 'min_samples_split': 7}. Best is trial 8 with value: 0.5036338055880802.\u001b[0m\n",
      "\u001b[32m[I 2023-08-24 14:20:01,021]\u001b[0m Trial 12 finished with value: 0.4894158666084897 and parameters: {'n_estimators': 12, 'max_depth': 7, 'min_samples_leaf': 1, 'min_samples_split': 6}. Best is trial 8 with value: 0.5036338055880802.\u001b[0m\n",
      "\u001b[32m[I 2023-08-24 14:20:01,238]\u001b[0m Trial 13 finished with value: 0.48028816782966854 and parameters: {'n_estimators': 14, 'max_depth': 6, 'min_samples_leaf': 6, 'min_samples_split': 5}. Best is trial 8 with value: 0.5036338055880802.\u001b[0m\n",
      "\u001b[32m[I 2023-08-24 14:20:02,003]\u001b[0m Trial 14 finished with value: 0.46070805096594336 and parameters: {'n_estimators': 56, 'max_depth': 5, 'min_samples_leaf': 4, 'min_samples_split': 12}. Best is trial 8 with value: 0.5036338055880802.\u001b[0m\n",
      "\u001b[32m[I 2023-08-24 14:20:02,623]\u001b[0m Trial 15 finished with value: 0.467197448520502 and parameters: {'n_estimators': 42, 'max_depth': 8, 'min_samples_leaf': 8, 'min_samples_split': 8}. Best is trial 8 with value: 0.5036338055880802.\u001b[0m\n",
      "\u001b[32m[I 2023-08-24 14:20:02,935]\u001b[0m Trial 16 finished with value: 0.4491712208369398 and parameters: {'n_estimators': 24, 'max_depth': 7, 'min_samples_leaf': 14, 'min_samples_split': 5}. Best is trial 8 with value: 0.5036338055880802.\u001b[0m\n",
      "\u001b[32m[I 2023-08-24 14:20:03,674]\u001b[0m Trial 17 finished with value: 0.4384441120758874 and parameters: {'n_estimators': 58, 'max_depth': 4, 'min_samples_leaf': 1, 'min_samples_split': 10}. Best is trial 8 with value: 0.5036338055880802.\u001b[0m\n",
      "\u001b[32m[I 2023-08-24 14:20:04,897]\u001b[0m Trial 18 finished with value: 0.4913100891102401 and parameters: {'n_estimators': 72, 'max_depth': 9, 'min_samples_leaf': 5, 'min_samples_split': 2}. Best is trial 8 with value: 0.5036338055880802.\u001b[0m\n",
      "\u001b[32m[I 2023-08-24 14:20:06,151]\u001b[0m Trial 19 finished with value: 0.49236265871071333 and parameters: {'n_estimators': 74, 'max_depth': 9, 'min_samples_leaf': 5, 'min_samples_split': 2}. Best is trial 8 with value: 0.5036338055880802.\u001b[0m\n",
      "\u001b[32m[I 2023-08-24 14:20:07,342]\u001b[0m Trial 20 finished with value: 0.457005823484136 and parameters: {'n_estimators': 85, 'max_depth': 10, 'min_samples_leaf': 10, 'min_samples_split': 3}. Best is trial 8 with value: 0.5036338055880802.\u001b[0m\n",
      "\u001b[32m[I 2023-08-24 14:20:08,633]\u001b[0m Trial 21 finished with value: 0.49259646913963306 and parameters: {'n_estimators': 76, 'max_depth': 9, 'min_samples_leaf': 5, 'min_samples_split': 2}. Best is trial 8 with value: 0.5036338055880802.\u001b[0m\n",
      "\u001b[32m[I 2023-08-24 14:20:09,904]\u001b[0m Trial 22 finished with value: 0.48334245444219615 and parameters: {'n_estimators': 80, 'max_depth': 9, 'min_samples_leaf': 6, 'min_samples_split': 4}. Best is trial 8 with value: 0.5036338055880802.\u001b[0m\n",
      "\u001b[32m[I 2023-08-24 14:20:11,707]\u001b[0m Trial 23 finished with value: 0.503800407786314 and parameters: {'n_estimators': 100, 'max_depth': 8, 'min_samples_leaf': 3, 'min_samples_split': 2}. Best is trial 23 with value: 0.503800407786314.\u001b[0m\n",
      "\u001b[32m[I 2023-08-24 14:20:13,386]\u001b[0m Trial 24 finished with value: 0.48877501100137055 and parameters: {'n_estimators': 100, 'max_depth': 8, 'min_samples_leaf': 3, 'min_samples_split': 14}. Best is trial 23 with value: 0.503800407786314.\u001b[0m\n",
      "\u001b[32m[I 2023-08-24 14:20:15,185]\u001b[0m Trial 25 finished with value: 0.5038133393913924 and parameters: {'n_estimators': 94, 'max_depth': 10, 'min_samples_leaf': 3, 'min_samples_split': 7}. Best is trial 25 with value: 0.5038133393913924.\u001b[0m\n",
      "\u001b[32m[I 2023-08-24 14:20:16,650]\u001b[0m Trial 26 finished with value: 0.4823283282770424 and parameters: {'n_estimators': 89, 'max_depth': 10, 'min_samples_leaf': 3, 'min_samples_split': 20}. Best is trial 25 with value: 0.5038133393913924.\u001b[0m\n",
      "\u001b[32m[I 2023-08-24 14:20:17,884]\u001b[0m Trial 27 finished with value: 0.4465568699050165 and parameters: {'n_estimators': 100, 'max_depth': 8, 'min_samples_leaf': 15, 'min_samples_split': 9}. Best is trial 25 with value: 0.5038133393913924.\u001b[0m\n",
      "\u001b[32m[I 2023-08-24 14:20:19,213]\u001b[0m Trial 28 finished with value: 0.46699760824989117 and parameters: {'n_estimators': 90, 'max_depth': 10, 'min_samples_leaf': 8, 'min_samples_split': 6}. Best is trial 25 with value: 0.5038133393913924.\u001b[0m\n",
      "\u001b[32m[I 2023-08-24 14:20:19,993]\u001b[0m Trial 29 finished with value: 0.4837154753053392 and parameters: {'n_estimators': 50, 'max_depth': 6, 'min_samples_leaf': 3, 'min_samples_split': 7}. Best is trial 25 with value: 0.5038133393913924.\u001b[0m\n",
      "\u001b[32m[I 2023-08-24 14:20:21,192]\u001b[0m Trial 30 finished with value: 0.4937428792742808 and parameters: {'n_estimators': 66, 'max_depth': 9, 'min_samples_leaf': 2, 'min_samples_split': 13}. Best is trial 25 with value: 0.5038133393913924.\u001b[0m\n",
      "\u001b[32m[I 2023-08-24 14:20:22,386]\u001b[0m Trial 31 finished with value: 0.49172214953428856 and parameters: {'n_estimators': 66, 'max_depth': 9, 'min_samples_leaf': 2, 'min_samples_split': 14}. Best is trial 25 with value: 0.5038133393913924.\u001b[0m\n",
      "\u001b[32m[I 2023-08-24 14:20:24,137]\u001b[0m Trial 32 finished with value: 0.4964521982301508 and parameters: {'n_estimators': 96, 'max_depth': 10, 'min_samples_leaf': 2, 'min_samples_split': 13}. Best is trial 25 with value: 0.5038133393913924.\u001b[0m\n",
      "\u001b[32m[I 2023-08-24 14:20:25,792]\u001b[0m Trial 33 finished with value: 0.4954631633750671 and parameters: {'n_estimators': 95, 'max_depth': 10, 'min_samples_leaf': 4, 'min_samples_split': 11}. Best is trial 25 with value: 0.5038133393913924.\u001b[0m\n",
      "\u001b[32m[I 2023-08-24 14:20:26,819]\u001b[0m Trial 34 finished with value: 0.4209511465120233 and parameters: {'n_estimators': 92, 'max_depth': 10, 'min_samples_leaf': 20, 'min_samples_split': 9}. Best is trial 25 with value: 0.5038133393913924.\u001b[0m\n",
      "\u001b[32m[I 2023-08-24 14:20:28,609]\u001b[0m Trial 35 finished with value: 0.5019767520745162 and parameters: {'n_estimators': 98, 'max_depth': 8, 'min_samples_leaf': 2, 'min_samples_split': 8}. Best is trial 25 with value: 0.5038133393913924.\u001b[0m\n",
      "\u001b[32m[I 2023-08-24 14:20:29,927]\u001b[0m Trial 36 finished with value: 0.47928337073196603 and parameters: {'n_estimators': 86, 'max_depth': 7, 'min_samples_leaf': 6, 'min_samples_split': 8}. Best is trial 25 with value: 0.5038133393913924.\u001b[0m\n",
      "\u001b[32m[I 2023-08-24 14:20:30,954]\u001b[0m Trial 37 finished with value: 0.44551140916929627 and parameters: {'n_estimators': 79, 'max_depth': 5, 'min_samples_leaf': 7, 'min_samples_split': 7}. Best is trial 25 with value: 0.5038133393913924.\u001b[0m\n",
      "\u001b[32m[I 2023-08-24 14:20:31,744]\u001b[0m Trial 38 finished with value: 0.5047360046610819 and parameters: {'n_estimators': 41, 'max_depth': 8, 'min_samples_leaf': 2, 'min_samples_split': 4}. Best is trial 38 with value: 0.5047360046610819.\u001b[0m\n",
      "\u001b[32m[I 2023-08-24 14:20:32,003]\u001b[0m Trial 39 finished with value: 0.14303114145397916 and parameters: {'n_estimators': 38, 'max_depth': 1, 'min_samples_leaf': 4, 'min_samples_split': 4}. Best is trial 38 with value: 0.5047360046610819.\u001b[0m\n",
      "\u001b[32m[I 2023-08-24 14:20:32,499]\u001b[0m Trial 40 finished with value: 0.3588681005464272 and parameters: {'n_estimators': 48, 'max_depth': 3, 'min_samples_leaf': 10, 'min_samples_split': 3}. Best is trial 38 with value: 0.5047360046610819.\u001b[0m\n",
      "\u001b[32m[I 2023-08-24 14:20:32,978]\u001b[0m Trial 41 finished with value: 0.4940591195782565 and parameters: {'n_estimators': 25, 'max_depth': 8, 'min_samples_leaf': 2, 'min_samples_split': 6}. Best is trial 38 with value: 0.5047360046610819.\u001b[0m\n",
      "\u001b[32m[I 2023-08-24 14:20:33,570]\u001b[0m Trial 42 finished with value: 0.48396785793383523 and parameters: {'n_estimators': 36, 'max_depth': 6, 'min_samples_leaf': 1, 'min_samples_split': 5}. Best is trial 38 with value: 0.5047360046610819.\u001b[0m\n",
      "\u001b[32m[I 2023-08-24 14:20:34,382]\u001b[0m Trial 43 finished with value: 0.5036374290778233 and parameters: {'n_estimators': 45, 'max_depth': 8, 'min_samples_leaf': 3, 'min_samples_split': 3}. Best is trial 38 with value: 0.5047360046610819.\u001b[0m\n",
      "\u001b[32m[I 2023-08-24 14:20:35,070]\u001b[0m Trial 44 finished with value: 0.49090393207864197 and parameters: {'n_estimators': 42, 'max_depth': 7, 'min_samples_leaf': 4, 'min_samples_split': 3}. Best is trial 38 with value: 0.5047360046610819.\u001b[0m\n",
      "\u001b[32m[I 2023-08-24 14:20:36,024]\u001b[0m Trial 45 finished with value: 0.5054329469572356 and parameters: {'n_estimators': 52, 'max_depth': 8, 'min_samples_leaf': 3, 'min_samples_split': 4}. Best is trial 45 with value: 0.5054329469572356.\u001b[0m\n",
      "\u001b[32m[I 2023-08-24 14:20:36,962]\u001b[0m Trial 46 finished with value: 0.5054329469572356 and parameters: {'n_estimators': 52, 'max_depth': 8, 'min_samples_leaf': 3, 'min_samples_split': 3}. Best is trial 45 with value: 0.5054329469572356.\u001b[0m\n",
      "\u001b[32m[I 2023-08-24 14:20:37,906]\u001b[0m Trial 47 finished with value: 0.48688119851969586 and parameters: {'n_estimators': 60, 'max_depth': 7, 'min_samples_leaf': 5, 'min_samples_split': 4}. Best is trial 45 with value: 0.5054329469572356.\u001b[0m\n",
      "\u001b[32m[I 2023-08-24 14:20:38,667]\u001b[0m Trial 48 finished with value: 0.4662121044121029 and parameters: {'n_estimators': 53, 'max_depth': 6, 'min_samples_leaf': 7, 'min_samples_split': 5}. Best is trial 45 with value: 0.5054329469572356.\u001b[0m\n",
      "\u001b[32m[I 2023-08-24 14:20:39,565]\u001b[0m Trial 49 finished with value: 0.4989019876426381 and parameters: {'n_estimators': 53, 'max_depth': 7, 'min_samples_leaf': 3, 'min_samples_split': 4}. Best is trial 45 with value: 0.5054329469572356.\u001b[0m\n",
      "\u001b[32m[I 2023-08-24 14:20:40,872]\u001b[0m Trial 50 finished with value: 0.4981795925339144 and parameters: {'n_estimators': 63, 'max_depth': 8, 'min_samples_leaf': 1, 'min_samples_split': 2}. Best is trial 45 with value: 0.5054329469572356.\u001b[0m\n",
      "\u001b[32m[I 2023-08-24 14:20:41,708]\u001b[0m Trial 51 finished with value: 0.5000267675918599 and parameters: {'n_estimators': 48, 'max_depth': 8, 'min_samples_leaf': 4, 'min_samples_split': 3}. Best is trial 45 with value: 0.5054329469572356.\u001b[0m\n",
      "\u001b[32m[I 2023-08-24 14:20:42,574]\u001b[0m Trial 52 finished with value: 0.5061448087267795 and parameters: {'n_estimators': 46, 'max_depth': 9, 'min_samples_leaf': 3, 'min_samples_split': 3}. Best is trial 52 with value: 0.5061448087267795.\u001b[0m\n",
      "\u001b[32m[I 2023-08-24 14:20:43,215]\u001b[0m Trial 53 finished with value: 0.4933853276540649 and parameters: {'n_estimators': 38, 'max_depth': 9, 'min_samples_leaf': 5, 'min_samples_split': 6}. Best is trial 52 with value: 0.5061448087267795.\u001b[0m\n",
      "\u001b[32m[I 2023-08-24 14:20:44,152]\u001b[0m Trial 54 finished with value: 0.5067618667976538 and parameters: {'n_estimators': 46, 'max_depth': 9, 'min_samples_leaf': 2, 'min_samples_split': 2}. Best is trial 54 with value: 0.5067618667976538.\u001b[0m\n",
      "\u001b[32m[I 2023-08-24 14:20:44,828]\u001b[0m Trial 55 finished with value: 0.49326219006030814 and parameters: {'n_estimators': 32, 'max_depth': 9, 'min_samples_leaf': 1, 'min_samples_split': 5}. Best is trial 54 with value: 0.5067618667976538.\u001b[0m\n",
      "\u001b[32m[I 2023-08-24 14:20:45,569]\u001b[0m Trial 56 finished with value: 0.45025861819394314 and parameters: {'n_estimators': 55, 'max_depth': 9, 'min_samples_leaf': 12, 'min_samples_split': 3}. Best is trial 54 with value: 0.5067618667976538.\u001b[0m\n",
      "\u001b[32m[I 2023-08-24 14:20:46,114]\u001b[0m Trial 57 finished with value: 0.4364702369595667 and parameters: {'n_estimators': 45, 'max_depth': 10, 'min_samples_leaf': 16, 'min_samples_split': 4}. Best is trial 54 with value: 0.5067618667976538.\u001b[0m\n",
      "\u001b[32m[I 2023-08-24 14:20:46,690]\u001b[0m Trial 58 finished with value: 0.5038290816969981 and parameters: {'n_estimators': 28, 'max_depth': 9, 'min_samples_leaf': 2, 'min_samples_split': 2}. Best is trial 54 with value: 0.5067618667976538.\u001b[0m\n",
      "\u001b[32m[I 2023-08-24 14:20:47,125]\u001b[0m Trial 59 finished with value: 0.48758091629802996 and parameters: {'n_estimators': 19, 'max_depth': 9, 'min_samples_leaf': 1, 'min_samples_split': 2}. Best is trial 54 with value: 0.5067618667976538.\u001b[0m\n",
      "\u001b[32m[I 2023-08-24 14:20:47,592]\u001b[0m Trial 60 finished with value: 0.49609279577748744 and parameters: {'n_estimators': 26, 'max_depth': 7, 'min_samples_leaf': 2, 'min_samples_split': 2}. Best is trial 54 with value: 0.5067618667976538.\u001b[0m\n",
      "\u001b[32m[I 2023-08-24 14:20:48,100]\u001b[0m Trial 61 finished with value: 0.5035146188480267 and parameters: {'n_estimators': 28, 'max_depth': 9, 'min_samples_leaf': 4, 'min_samples_split': 3}. Best is trial 54 with value: 0.5067618667976538.\u001b[0m\n",
      "\u001b[32m[I 2023-08-24 14:20:48,479]\u001b[0m Trial 62 finished with value: 0.5048462637603903 and parameters: {'n_estimators': 19, 'max_depth': 10, 'min_samples_leaf': 3, 'min_samples_split': 4}. Best is trial 54 with value: 0.5067618667976538.\u001b[0m\n",
      "\u001b[32m[I 2023-08-24 14:20:48,894]\u001b[0m Trial 63 finished with value: 0.4952309453973288 and parameters: {'n_estimators': 20, 'max_depth': 9, 'min_samples_leaf': 2, 'min_samples_split': 4}. Best is trial 54 with value: 0.5067618667976538.\u001b[0m\n",
      "\u001b[32m[I 2023-08-24 14:20:49,156]\u001b[0m Trial 64 finished with value: 0.4798709502208097 and parameters: {'n_estimators': 16, 'max_depth': 8, 'min_samples_leaf': 6, 'min_samples_split': 5}. Best is trial 54 with value: 0.5067618667976538.\u001b[0m\n",
      "\u001b[32m[I 2023-08-24 14:20:50,059]\u001b[0m Trial 65 finished with value: 0.4994260809250419 and parameters: {'n_estimators': 51, 'max_depth': 9, 'min_samples_leaf': 4, 'min_samples_split': 3}. Best is trial 54 with value: 0.5067618667976538.\u001b[0m\n",
      "\u001b[32m[I 2023-08-24 14:20:51,478]\u001b[0m Trial 66 finished with value: 0.49467802548531414 and parameters: {'n_estimators': 58, 'max_depth': 10, 'min_samples_leaf': 1, 'min_samples_split': 2}. Best is trial 54 with value: 0.5067618667976538.\u001b[0m\n",
      "\u001b[32m[I 2023-08-24 14:20:52,017]\u001b[0m Trial 67 finished with value: 0.501533883293698 and parameters: {'n_estimators': 29, 'max_depth': 8, 'min_samples_leaf': 3, 'min_samples_split': 4}. Best is trial 54 with value: 0.5067618667976538.\u001b[0m\n",
      "\u001b[32m[I 2023-08-24 14:20:52,627]\u001b[0m Trial 68 finished with value: 0.48938493542170053 and parameters: {'n_estimators': 36, 'max_depth': 9, 'min_samples_leaf': 5, 'min_samples_split': 3}. Best is trial 54 with value: 0.5067618667976538.\u001b[0m\n",
      "\u001b[32m[I 2023-08-24 14:20:53,589]\u001b[0m Trial 69 finished with value: 0.5073418127169816 and parameters: {'n_estimators': 46, 'max_depth': 10, 'min_samples_leaf': 2, 'min_samples_split': 5}. Best is trial 69 with value: 0.5073418127169816.\u001b[0m\n",
      "\u001b[32m[I 2023-08-24 14:20:54,460]\u001b[0m Trial 70 finished with value: 0.5097417390888456 and parameters: {'n_estimators': 45, 'max_depth': 10, 'min_samples_leaf': 3, 'min_samples_split': 6}. Best is trial 70 with value: 0.5097417390888456.\u001b[0m\n",
      "\u001b[32m[I 2023-08-24 14:20:55,342]\u001b[0m Trial 71 finished with value: 0.5097417390888456 and parameters: {'n_estimators': 45, 'max_depth': 10, 'min_samples_leaf': 3, 'min_samples_split': 6}. Best is trial 70 with value: 0.5097417390888456.\u001b[0m\n",
      "\u001b[32m[I 2023-08-24 14:20:56,222]\u001b[0m Trial 72 finished with value: 0.5097417390888456 and parameters: {'n_estimators': 45, 'max_depth': 10, 'min_samples_leaf': 3, 'min_samples_split': 6}. Best is trial 70 with value: 0.5097417390888456.\u001b[0m\n",
      "\u001b[32m[I 2023-08-24 14:20:57,097]\u001b[0m Trial 73 finished with value: 0.5097417390888456 and parameters: {'n_estimators': 45, 'max_depth': 10, 'min_samples_leaf': 3, 'min_samples_split': 6}. Best is trial 70 with value: 0.5097417390888456.\u001b[0m\n",
      "\u001b[32m[I 2023-08-24 14:20:57,956]\u001b[0m Trial 74 finished with value: 0.5013951777154632 and parameters: {'n_estimators': 47, 'max_depth': 10, 'min_samples_leaf': 4, 'min_samples_split': 6}. Best is trial 70 with value: 0.5097417390888456.\u001b[0m\n",
      "\u001b[32m[I 2023-08-24 14:20:58,734]\u001b[0m Trial 75 finished with value: 0.4923125275739987 and parameters: {'n_estimators': 45, 'max_depth': 10, 'min_samples_leaf': 5, 'min_samples_split': 6}. Best is trial 70 with value: 0.5097417390888456.\u001b[0m\n",
      "\u001b[32m[I 2023-08-24 14:20:59,435]\u001b[0m Trial 76 finished with value: 0.50074393199962 and parameters: {'n_estimators': 39, 'max_depth': 10, 'min_samples_leaf': 4, 'min_samples_split': 9}. Best is trial 70 with value: 0.5097417390888456.\u001b[0m\n",
      "\u001b[32m[I 2023-08-24 14:21:00,276]\u001b[0m Trial 77 finished with value: 0.5064742576771828 and parameters: {'n_estimators': 44, 'max_depth': 10, 'min_samples_leaf': 3, 'min_samples_split': 7}. Best is trial 70 with value: 0.5097417390888456.\u001b[0m\n",
      "\u001b[32m[I 2023-08-24 14:21:00,844]\u001b[0m Trial 78 finished with value: 0.4811294690630129 and parameters: {'n_estimators': 35, 'max_depth': 10, 'min_samples_leaf': 6, 'min_samples_split': 7}. Best is trial 70 with value: 0.5097417390888456.\u001b[0m\n",
      "\u001b[32m[I 2023-08-24 14:21:01,634]\u001b[0m Trial 79 finished with value: 0.49557409361384863 and parameters: {'n_estimators': 40, 'max_depth': 10, 'min_samples_leaf': 2, 'min_samples_split': 8}. Best is trial 70 with value: 0.5097417390888456.\u001b[0m\n",
      "\u001b[32m[I 2023-08-24 14:21:02,618]\u001b[0m Trial 80 finished with value: 0.5042630671252 and parameters: {'n_estimators': 44, 'max_depth': 10, 'min_samples_leaf': 1, 'min_samples_split': 5}. Best is trial 70 with value: 0.5097417390888456.\u001b[0m\n",
      "\u001b[32m[I 2023-08-24 14:21:03,516]\u001b[0m Trial 81 finished with value: 0.5065566006171758 and parameters: {'n_estimators': 47, 'max_depth': 10, 'min_samples_leaf': 3, 'min_samples_split': 7}. Best is trial 70 with value: 0.5097417390888456.\u001b[0m\n",
      "\u001b[32m[I 2023-08-24 14:21:04,446]\u001b[0m Trial 82 finished with value: 0.5087127905110025 and parameters: {'n_estimators': 48, 'max_depth': 10, 'min_samples_leaf': 3, 'min_samples_split': 7}. Best is trial 70 with value: 0.5097417390888456.\u001b[0m\n",
      "\u001b[32m[I 2023-08-24 14:21:05,312]\u001b[0m Trial 83 finished with value: 0.5036338055880802 and parameters: {'n_estimators': 43, 'max_depth': 10, 'min_samples_leaf': 2, 'min_samples_split': 7}. Best is trial 70 with value: 0.5097417390888456.\u001b[0m\n",
      "\u001b[32m[I 2023-08-24 14:21:06,150]\u001b[0m Trial 84 finished with value: 0.49351594644459684 and parameters: {'n_estimators': 49, 'max_depth': 10, 'min_samples_leaf': 5, 'min_samples_split': 10}. Best is trial 70 with value: 0.5097417390888456.\u001b[0m\n",
      "\u001b[32m[I 2023-08-24 14:21:07,164]\u001b[0m Trial 85 finished with value: 0.5013609229734686 and parameters: {'n_estimators': 55, 'max_depth': 10, 'min_samples_leaf': 4, 'min_samples_split': 6}. Best is trial 70 with value: 0.5097417390888456.\u001b[0m\n",
      "\u001b[32m[I 2023-08-24 14:21:08,166]\u001b[0m Trial 86 finished with value: 0.5035469368469006 and parameters: {'n_estimators': 50, 'max_depth': 10, 'min_samples_leaf': 2, 'min_samples_split': 7}. Best is trial 70 with value: 0.5097417390888456.\u001b[0m\n",
      "\u001b[32m[I 2023-08-24 14:21:08,960]\u001b[0m Trial 87 finished with value: 0.5053786168212667 and parameters: {'n_estimators': 41, 'max_depth': 10, 'min_samples_leaf': 3, 'min_samples_split': 8}. Best is trial 70 with value: 0.5097417390888456.\u001b[0m\n",
      "\u001b[32m[I 2023-08-24 14:21:09,841]\u001b[0m Trial 88 finished with value: 0.5031751035862669 and parameters: {'n_estimators': 47, 'max_depth': 10, 'min_samples_leaf': 3, 'min_samples_split': 9}. Best is trial 70 with value: 0.5097417390888456.\u001b[0m\n",
      "\u001b[32m[I 2023-08-24 14:21:10,722]\u001b[0m Trial 89 finished with value: 0.49602901951594747 and parameters: {'n_estimators': 42, 'max_depth': 10, 'min_samples_leaf': 1, 'min_samples_split': 8}. Best is trial 70 with value: 0.5097417390888456.\u001b[0m\n",
      "\u001b[32m[I 2023-08-24 14:21:11,018]\u001b[0m Trial 90 finished with value: 0.27005154859986275 and parameters: {'n_estimators': 34, 'max_depth': 2, 'min_samples_leaf': 3, 'min_samples_split': 6}. Best is trial 70 with value: 0.5097417390888456.\u001b[0m\n",
      "\u001b[32m[I 2023-08-24 14:21:11,879]\u001b[0m Trial 91 finished with value: 0.5005418810313097 and parameters: {'n_estimators': 44, 'max_depth': 9, 'min_samples_leaf': 2, 'min_samples_split': 7}. Best is trial 70 with value: 0.5097417390888456.\u001b[0m\n",
      "\u001b[32m[I 2023-08-24 14:21:12,728]\u001b[0m Trial 92 finished with value: 0.5012503976674558 and parameters: {'n_estimators': 46, 'max_depth': 10, 'min_samples_leaf': 4, 'min_samples_split': 5}. Best is trial 70 with value: 0.5097417390888456.\u001b[0m\n",
      "\u001b[32m[I 2023-08-24 14:21:13,789]\u001b[0m Trial 93 finished with value: 0.5069099775305521 and parameters: {'n_estimators': 57, 'max_depth': 9, 'min_samples_leaf': 3, 'min_samples_split': 7}. Best is trial 70 with value: 0.5097417390888456.\u001b[0m\n",
      "\u001b[32m[I 2023-08-24 14:21:14,941]\u001b[0m Trial 94 finished with value: 0.5064614419490573 and parameters: {'n_estimators': 57, 'max_depth': 10, 'min_samples_leaf': 2, 'min_samples_split': 7}. Best is trial 70 with value: 0.5097417390888456.\u001b[0m\n",
      "\u001b[32m[I 2023-08-24 14:21:15,956]\u001b[0m Trial 95 finished with value: 0.49201797023892657 and parameters: {'n_estimators': 60, 'max_depth': 9, 'min_samples_leaf': 5, 'min_samples_split': 7}. Best is trial 70 with value: 0.5097417390888456.\u001b[0m\n",
      "\u001b[32m[I 2023-08-24 14:21:16,995]\u001b[0m Trial 96 finished with value: 0.5109580199783185 and parameters: {'n_estimators': 53, 'max_depth': 10, 'min_samples_leaf': 3, 'min_samples_split': 6}. Best is trial 96 with value: 0.5109580199783185.\u001b[0m\n",
      "\u001b[32m[I 2023-08-24 14:21:17,735]\u001b[0m Trial 97 finished with value: 0.45025861819394314 and parameters: {'n_estimators': 55, 'max_depth': 9, 'min_samples_leaf': 12, 'min_samples_split': 6}. Best is trial 96 with value: 0.5109580199783185.\u001b[0m\n",
      "\u001b[32m[I 2023-08-24 14:21:18,441]\u001b[0m Trial 98 finished with value: 0.41835721493680095 and parameters: {'n_estimators': 60, 'max_depth': 4, 'min_samples_leaf': 8, 'min_samples_split': 5}. Best is trial 96 with value: 0.5109580199783185.\u001b[0m\n",
      "\u001b[32m[I 2023-08-24 14:21:19,591]\u001b[0m Trial 99 finished with value: 0.502446233493324 and parameters: {'n_estimators': 53, 'max_depth': 10, 'min_samples_leaf': 1, 'min_samples_split': 6}. Best is trial 96 with value: 0.5109580199783185.\u001b[0m\n"
     ]
    },
    {
     "name": "stdout",
     "output_type": "stream",
     "text": [
      "Best r2:  0.5109580199783185\n",
      "Best trial: {'n_estimators': 53, 'max_depth': 10, 'min_samples_leaf': 3, 'min_samples_split': 6}\n"
     ]
    }
   ],
   "source": [
    "sampler = TPESampler()\n",
    "study = optuna.create_study(\n",
    "    study_name=\"rf_parameter_opt\",\n",
    "    direction=\"maximize\",\n",
    "    sampler=sampler,\n",
    ")\n",
    "\n",
    "study.optimize(lambda trial : objectiveRF(trial, Cd_X_train, Cd_y_train), n_trials=100)\n",
    "print(\"Best r2: \", study.best_value)\n",
    "print(\"Best trial:\", study.best_trial.params)"
   ]
  },
  {
   "cell_type": "code",
   "execution_count": 37,
   "id": "861f88d8",
   "metadata": {},
   "outputs": [
    {
     "data": {
      "application/vnd.plotly.v1+json": {
       "config": {
        "plotlyServerURL": "https://plot.ly"
       },
       "data": [
        {
         "dimensions": [
          {
           "label": "Objective Value",
           "range": [
            0.1405310302953497,
            0.5109580199783185
           ],
           "values": [
            0.27372239658508396,
            0.2641172418726045,
            0.4316909665765225,
            0.1405310302953497,
            0.2620346457674364,
            0.2606407281889339,
            0.4502810255885505,
            0.4790838181367173,
            0.5036338055880802,
            0.42724241583327965,
            0.4486876246061021,
            0.48147845260718236,
            0.4894158666084897,
            0.48028816782966854,
            0.46070805096594336,
            0.467197448520502,
            0.4491712208369398,
            0.4384441120758874,
            0.4913100891102401,
            0.49236265871071333,
            0.457005823484136,
            0.49259646913963306,
            0.48334245444219615,
            0.503800407786314,
            0.48877501100137055,
            0.5038133393913924,
            0.4823283282770424,
            0.4465568699050165,
            0.46699760824989117,
            0.4837154753053392,
            0.4937428792742808,
            0.49172214953428856,
            0.4964521982301508,
            0.4954631633750671,
            0.4209511465120233,
            0.5019767520745162,
            0.47928337073196603,
            0.44551140916929627,
            0.5047360046610819,
            0.14303114145397916,
            0.3588681005464272,
            0.4940591195782565,
            0.48396785793383523,
            0.5036374290778233,
            0.49090393207864197,
            0.5054329469572356,
            0.5054329469572356,
            0.48688119851969586,
            0.4662121044121029,
            0.4989019876426381,
            0.4981795925339144,
            0.5000267675918599,
            0.5061448087267795,
            0.4933853276540649,
            0.5067618667976538,
            0.49326219006030814,
            0.45025861819394314,
            0.4364702369595667,
            0.5038290816969981,
            0.48758091629802996,
            0.49609279577748744,
            0.5035146188480267,
            0.5048462637603903,
            0.4952309453973288,
            0.4798709502208097,
            0.4994260809250419,
            0.49467802548531414,
            0.501533883293698,
            0.48938493542170053,
            0.5073418127169816,
            0.5097417390888456,
            0.5097417390888456,
            0.5097417390888456,
            0.5097417390888456,
            0.5013951777154632,
            0.4923125275739987,
            0.50074393199962,
            0.5064742576771828,
            0.4811294690630129,
            0.49557409361384863,
            0.5042630671252,
            0.5065566006171758,
            0.5087127905110025,
            0.5036338055880802,
            0.49351594644459684,
            0.5013609229734686,
            0.5035469368469006,
            0.5053786168212667,
            0.5031751035862669,
            0.49602901951594747,
            0.27005154859986275,
            0.5005418810313097,
            0.5012503976674558,
            0.5069099775305521,
            0.5064614419490573,
            0.49201797023892657,
            0.5109580199783185,
            0.45025861819394314,
            0.41835721493680095,
            0.502446233493324
           ]
          },
          {
           "label": "max_depth",
           "range": [
            1,
            10
           ],
           "values": [
            2,
            2,
            4,
            1,
            2,
            2,
            10,
            10,
            10,
            9,
            7,
            8,
            7,
            6,
            5,
            8,
            7,
            4,
            9,
            9,
            10,
            9,
            9,
            8,
            8,
            10,
            10,
            8,
            10,
            6,
            9,
            9,
            10,
            10,
            10,
            8,
            7,
            5,
            8,
            1,
            3,
            8,
            6,
            8,
            7,
            8,
            8,
            7,
            6,
            7,
            8,
            8,
            9,
            9,
            9,
            9,
            9,
            10,
            9,
            9,
            7,
            9,
            10,
            9,
            8,
            9,
            10,
            8,
            9,
            10,
            10,
            10,
            10,
            10,
            10,
            10,
            10,
            10,
            10,
            10,
            10,
            10,
            10,
            10,
            10,
            10,
            10,
            10,
            10,
            10,
            2,
            9,
            10,
            9,
            10,
            9,
            10,
            9,
            4,
            10
           ]
          },
          {
           "label": "min_samples_leaf",
           "range": [
            1,
            20
           ],
           "values": [
            18,
            18,
            1,
            7,
            4,
            9,
            12,
            3,
            2,
            18,
            13,
            1,
            1,
            6,
            4,
            8,
            14,
            1,
            5,
            5,
            10,
            5,
            6,
            3,
            3,
            3,
            3,
            15,
            8,
            3,
            2,
            2,
            2,
            4,
            20,
            2,
            6,
            7,
            2,
            4,
            10,
            2,
            1,
            3,
            4,
            3,
            3,
            5,
            7,
            3,
            1,
            4,
            3,
            5,
            2,
            1,
            12,
            16,
            2,
            1,
            2,
            4,
            3,
            2,
            6,
            4,
            1,
            3,
            5,
            2,
            3,
            3,
            3,
            3,
            4,
            5,
            4,
            3,
            6,
            2,
            1,
            3,
            3,
            2,
            5,
            4,
            2,
            3,
            3,
            1,
            3,
            2,
            4,
            3,
            2,
            5,
            3,
            12,
            8,
            1
           ]
          },
          {
           "label": "min_samples_split",
           "range": [
            2,
            20
           ],
           "values": [
            18,
            8,
            17,
            2,
            16,
            12,
            16,
            17,
            7,
            10,
            4,
            7,
            6,
            5,
            12,
            8,
            5,
            10,
            2,
            2,
            3,
            2,
            4,
            2,
            14,
            7,
            20,
            9,
            6,
            7,
            13,
            14,
            13,
            11,
            9,
            8,
            8,
            7,
            4,
            4,
            3,
            6,
            5,
            3,
            3,
            4,
            3,
            4,
            5,
            4,
            2,
            3,
            3,
            6,
            2,
            5,
            3,
            4,
            2,
            2,
            2,
            3,
            4,
            4,
            5,
            3,
            2,
            4,
            3,
            5,
            6,
            6,
            6,
            6,
            6,
            6,
            9,
            7,
            7,
            8,
            5,
            7,
            7,
            7,
            10,
            6,
            7,
            8,
            9,
            8,
            6,
            7,
            5,
            7,
            7,
            7,
            6,
            6,
            5,
            6
           ]
          },
          {
           "label": "n_estimators",
           "range": [
            12,
            100
           ],
           "values": [
            23,
            94,
            64,
            31,
            70,
            82,
            41,
            31,
            43,
            33,
            49,
            12,
            12,
            14,
            56,
            42,
            24,
            58,
            72,
            74,
            85,
            76,
            80,
            100,
            100,
            94,
            89,
            100,
            90,
            50,
            66,
            66,
            96,
            95,
            92,
            98,
            86,
            79,
            41,
            38,
            48,
            25,
            36,
            45,
            42,
            52,
            52,
            60,
            53,
            53,
            63,
            48,
            46,
            38,
            46,
            32,
            55,
            45,
            28,
            19,
            26,
            28,
            19,
            20,
            16,
            51,
            58,
            29,
            36,
            46,
            45,
            45,
            45,
            45,
            47,
            45,
            39,
            44,
            35,
            40,
            44,
            47,
            48,
            43,
            49,
            55,
            50,
            41,
            47,
            42,
            34,
            44,
            46,
            57,
            57,
            60,
            53,
            55,
            60,
            53
           ]
          }
         ],
         "labelangle": 30,
         "labelside": "bottom",
         "line": {
          "color": [
           0.27372239658508396,
           0.2641172418726045,
           0.4316909665765225,
           0.1405310302953497,
           0.2620346457674364,
           0.2606407281889339,
           0.4502810255885505,
           0.4790838181367173,
           0.5036338055880802,
           0.42724241583327965,
           0.4486876246061021,
           0.48147845260718236,
           0.4894158666084897,
           0.48028816782966854,
           0.46070805096594336,
           0.467197448520502,
           0.4491712208369398,
           0.4384441120758874,
           0.4913100891102401,
           0.49236265871071333,
           0.457005823484136,
           0.49259646913963306,
           0.48334245444219615,
           0.503800407786314,
           0.48877501100137055,
           0.5038133393913924,
           0.4823283282770424,
           0.4465568699050165,
           0.46699760824989117,
           0.4837154753053392,
           0.4937428792742808,
           0.49172214953428856,
           0.4964521982301508,
           0.4954631633750671,
           0.4209511465120233,
           0.5019767520745162,
           0.47928337073196603,
           0.44551140916929627,
           0.5047360046610819,
           0.14303114145397916,
           0.3588681005464272,
           0.4940591195782565,
           0.48396785793383523,
           0.5036374290778233,
           0.49090393207864197,
           0.5054329469572356,
           0.5054329469572356,
           0.48688119851969586,
           0.4662121044121029,
           0.4989019876426381,
           0.4981795925339144,
           0.5000267675918599,
           0.5061448087267795,
           0.4933853276540649,
           0.5067618667976538,
           0.49326219006030814,
           0.45025861819394314,
           0.4364702369595667,
           0.5038290816969981,
           0.48758091629802996,
           0.49609279577748744,
           0.5035146188480267,
           0.5048462637603903,
           0.4952309453973288,
           0.4798709502208097,
           0.4994260809250419,
           0.49467802548531414,
           0.501533883293698,
           0.48938493542170053,
           0.5073418127169816,
           0.5097417390888456,
           0.5097417390888456,
           0.5097417390888456,
           0.5097417390888456,
           0.5013951777154632,
           0.4923125275739987,
           0.50074393199962,
           0.5064742576771828,
           0.4811294690630129,
           0.49557409361384863,
           0.5042630671252,
           0.5065566006171758,
           0.5087127905110025,
           0.5036338055880802,
           0.49351594644459684,
           0.5013609229734686,
           0.5035469368469006,
           0.5053786168212667,
           0.5031751035862669,
           0.49602901951594747,
           0.27005154859986275,
           0.5005418810313097,
           0.5012503976674558,
           0.5069099775305521,
           0.5064614419490573,
           0.49201797023892657,
           0.5109580199783185,
           0.45025861819394314,
           0.41835721493680095,
           0.502446233493324
          ],
          "colorbar": {
           "title": {
            "text": "Objective Value"
           }
          },
          "colorscale": [
           [
            0,
            "rgb(247,251,255)"
           ],
           [
            0.125,
            "rgb(222,235,247)"
           ],
           [
            0.25,
            "rgb(198,219,239)"
           ],
           [
            0.375,
            "rgb(158,202,225)"
           ],
           [
            0.5,
            "rgb(107,174,214)"
           ],
           [
            0.625,
            "rgb(66,146,198)"
           ],
           [
            0.75,
            "rgb(33,113,181)"
           ],
           [
            0.875,
            "rgb(8,81,156)"
           ],
           [
            1,
            "rgb(8,48,107)"
           ]
          ],
          "reversescale": false,
          "showscale": true
         },
         "type": "parcoords"
        }
       ],
       "layout": {
        "template": {
         "data": {
          "bar": [
           {
            "error_x": {
             "color": "#2a3f5f"
            },
            "error_y": {
             "color": "#2a3f5f"
            },
            "marker": {
             "line": {
              "color": "#E5ECF6",
              "width": 0.5
             },
             "pattern": {
              "fillmode": "overlay",
              "size": 10,
              "solidity": 0.2
             }
            },
            "type": "bar"
           }
          ],
          "barpolar": [
           {
            "marker": {
             "line": {
              "color": "#E5ECF6",
              "width": 0.5
             },
             "pattern": {
              "fillmode": "overlay",
              "size": 10,
              "solidity": 0.2
             }
            },
            "type": "barpolar"
           }
          ],
          "carpet": [
           {
            "aaxis": {
             "endlinecolor": "#2a3f5f",
             "gridcolor": "white",
             "linecolor": "white",
             "minorgridcolor": "white",
             "startlinecolor": "#2a3f5f"
            },
            "baxis": {
             "endlinecolor": "#2a3f5f",
             "gridcolor": "white",
             "linecolor": "white",
             "minorgridcolor": "white",
             "startlinecolor": "#2a3f5f"
            },
            "type": "carpet"
           }
          ],
          "choropleth": [
           {
            "colorbar": {
             "outlinewidth": 0,
             "ticks": ""
            },
            "type": "choropleth"
           }
          ],
          "contour": [
           {
            "colorbar": {
             "outlinewidth": 0,
             "ticks": ""
            },
            "colorscale": [
             [
              0,
              "#0d0887"
             ],
             [
              0.1111111111111111,
              "#46039f"
             ],
             [
              0.2222222222222222,
              "#7201a8"
             ],
             [
              0.3333333333333333,
              "#9c179e"
             ],
             [
              0.4444444444444444,
              "#bd3786"
             ],
             [
              0.5555555555555556,
              "#d8576b"
             ],
             [
              0.6666666666666666,
              "#ed7953"
             ],
             [
              0.7777777777777778,
              "#fb9f3a"
             ],
             [
              0.8888888888888888,
              "#fdca26"
             ],
             [
              1,
              "#f0f921"
             ]
            ],
            "type": "contour"
           }
          ],
          "contourcarpet": [
           {
            "colorbar": {
             "outlinewidth": 0,
             "ticks": ""
            },
            "type": "contourcarpet"
           }
          ],
          "heatmap": [
           {
            "colorbar": {
             "outlinewidth": 0,
             "ticks": ""
            },
            "colorscale": [
             [
              0,
              "#0d0887"
             ],
             [
              0.1111111111111111,
              "#46039f"
             ],
             [
              0.2222222222222222,
              "#7201a8"
             ],
             [
              0.3333333333333333,
              "#9c179e"
             ],
             [
              0.4444444444444444,
              "#bd3786"
             ],
             [
              0.5555555555555556,
              "#d8576b"
             ],
             [
              0.6666666666666666,
              "#ed7953"
             ],
             [
              0.7777777777777778,
              "#fb9f3a"
             ],
             [
              0.8888888888888888,
              "#fdca26"
             ],
             [
              1,
              "#f0f921"
             ]
            ],
            "type": "heatmap"
           }
          ],
          "heatmapgl": [
           {
            "colorbar": {
             "outlinewidth": 0,
             "ticks": ""
            },
            "colorscale": [
             [
              0,
              "#0d0887"
             ],
             [
              0.1111111111111111,
              "#46039f"
             ],
             [
              0.2222222222222222,
              "#7201a8"
             ],
             [
              0.3333333333333333,
              "#9c179e"
             ],
             [
              0.4444444444444444,
              "#bd3786"
             ],
             [
              0.5555555555555556,
              "#d8576b"
             ],
             [
              0.6666666666666666,
              "#ed7953"
             ],
             [
              0.7777777777777778,
              "#fb9f3a"
             ],
             [
              0.8888888888888888,
              "#fdca26"
             ],
             [
              1,
              "#f0f921"
             ]
            ],
            "type": "heatmapgl"
           }
          ],
          "histogram": [
           {
            "marker": {
             "pattern": {
              "fillmode": "overlay",
              "size": 10,
              "solidity": 0.2
             }
            },
            "type": "histogram"
           }
          ],
          "histogram2d": [
           {
            "colorbar": {
             "outlinewidth": 0,
             "ticks": ""
            },
            "colorscale": [
             [
              0,
              "#0d0887"
             ],
             [
              0.1111111111111111,
              "#46039f"
             ],
             [
              0.2222222222222222,
              "#7201a8"
             ],
             [
              0.3333333333333333,
              "#9c179e"
             ],
             [
              0.4444444444444444,
              "#bd3786"
             ],
             [
              0.5555555555555556,
              "#d8576b"
             ],
             [
              0.6666666666666666,
              "#ed7953"
             ],
             [
              0.7777777777777778,
              "#fb9f3a"
             ],
             [
              0.8888888888888888,
              "#fdca26"
             ],
             [
              1,
              "#f0f921"
             ]
            ],
            "type": "histogram2d"
           }
          ],
          "histogram2dcontour": [
           {
            "colorbar": {
             "outlinewidth": 0,
             "ticks": ""
            },
            "colorscale": [
             [
              0,
              "#0d0887"
             ],
             [
              0.1111111111111111,
              "#46039f"
             ],
             [
              0.2222222222222222,
              "#7201a8"
             ],
             [
              0.3333333333333333,
              "#9c179e"
             ],
             [
              0.4444444444444444,
              "#bd3786"
             ],
             [
              0.5555555555555556,
              "#d8576b"
             ],
             [
              0.6666666666666666,
              "#ed7953"
             ],
             [
              0.7777777777777778,
              "#fb9f3a"
             ],
             [
              0.8888888888888888,
              "#fdca26"
             ],
             [
              1,
              "#f0f921"
             ]
            ],
            "type": "histogram2dcontour"
           }
          ],
          "mesh3d": [
           {
            "colorbar": {
             "outlinewidth": 0,
             "ticks": ""
            },
            "type": "mesh3d"
           }
          ],
          "parcoords": [
           {
            "line": {
             "colorbar": {
              "outlinewidth": 0,
              "ticks": ""
             }
            },
            "type": "parcoords"
           }
          ],
          "pie": [
           {
            "automargin": true,
            "type": "pie"
           }
          ],
          "scatter": [
           {
            "marker": {
             "colorbar": {
              "outlinewidth": 0,
              "ticks": ""
             }
            },
            "type": "scatter"
           }
          ],
          "scatter3d": [
           {
            "line": {
             "colorbar": {
              "outlinewidth": 0,
              "ticks": ""
             }
            },
            "marker": {
             "colorbar": {
              "outlinewidth": 0,
              "ticks": ""
             }
            },
            "type": "scatter3d"
           }
          ],
          "scattercarpet": [
           {
            "marker": {
             "colorbar": {
              "outlinewidth": 0,
              "ticks": ""
             }
            },
            "type": "scattercarpet"
           }
          ],
          "scattergeo": [
           {
            "marker": {
             "colorbar": {
              "outlinewidth": 0,
              "ticks": ""
             }
            },
            "type": "scattergeo"
           }
          ],
          "scattergl": [
           {
            "marker": {
             "colorbar": {
              "outlinewidth": 0,
              "ticks": ""
             }
            },
            "type": "scattergl"
           }
          ],
          "scattermapbox": [
           {
            "marker": {
             "colorbar": {
              "outlinewidth": 0,
              "ticks": ""
             }
            },
            "type": "scattermapbox"
           }
          ],
          "scatterpolar": [
           {
            "marker": {
             "colorbar": {
              "outlinewidth": 0,
              "ticks": ""
             }
            },
            "type": "scatterpolar"
           }
          ],
          "scatterpolargl": [
           {
            "marker": {
             "colorbar": {
              "outlinewidth": 0,
              "ticks": ""
             }
            },
            "type": "scatterpolargl"
           }
          ],
          "scatterternary": [
           {
            "marker": {
             "colorbar": {
              "outlinewidth": 0,
              "ticks": ""
             }
            },
            "type": "scatterternary"
           }
          ],
          "surface": [
           {
            "colorbar": {
             "outlinewidth": 0,
             "ticks": ""
            },
            "colorscale": [
             [
              0,
              "#0d0887"
             ],
             [
              0.1111111111111111,
              "#46039f"
             ],
             [
              0.2222222222222222,
              "#7201a8"
             ],
             [
              0.3333333333333333,
              "#9c179e"
             ],
             [
              0.4444444444444444,
              "#bd3786"
             ],
             [
              0.5555555555555556,
              "#d8576b"
             ],
             [
              0.6666666666666666,
              "#ed7953"
             ],
             [
              0.7777777777777778,
              "#fb9f3a"
             ],
             [
              0.8888888888888888,
              "#fdca26"
             ],
             [
              1,
              "#f0f921"
             ]
            ],
            "type": "surface"
           }
          ],
          "table": [
           {
            "cells": {
             "fill": {
              "color": "#EBF0F8"
             },
             "line": {
              "color": "white"
             }
            },
            "header": {
             "fill": {
              "color": "#C8D4E3"
             },
             "line": {
              "color": "white"
             }
            },
            "type": "table"
           }
          ]
         },
         "layout": {
          "annotationdefaults": {
           "arrowcolor": "#2a3f5f",
           "arrowhead": 0,
           "arrowwidth": 1
          },
          "autotypenumbers": "strict",
          "coloraxis": {
           "colorbar": {
            "outlinewidth": 0,
            "ticks": ""
           }
          },
          "colorscale": {
           "diverging": [
            [
             0,
             "#8e0152"
            ],
            [
             0.1,
             "#c51b7d"
            ],
            [
             0.2,
             "#de77ae"
            ],
            [
             0.3,
             "#f1b6da"
            ],
            [
             0.4,
             "#fde0ef"
            ],
            [
             0.5,
             "#f7f7f7"
            ],
            [
             0.6,
             "#e6f5d0"
            ],
            [
             0.7,
             "#b8e186"
            ],
            [
             0.8,
             "#7fbc41"
            ],
            [
             0.9,
             "#4d9221"
            ],
            [
             1,
             "#276419"
            ]
           ],
           "sequential": [
            [
             0,
             "#0d0887"
            ],
            [
             0.1111111111111111,
             "#46039f"
            ],
            [
             0.2222222222222222,
             "#7201a8"
            ],
            [
             0.3333333333333333,
             "#9c179e"
            ],
            [
             0.4444444444444444,
             "#bd3786"
            ],
            [
             0.5555555555555556,
             "#d8576b"
            ],
            [
             0.6666666666666666,
             "#ed7953"
            ],
            [
             0.7777777777777778,
             "#fb9f3a"
            ],
            [
             0.8888888888888888,
             "#fdca26"
            ],
            [
             1,
             "#f0f921"
            ]
           ],
           "sequentialminus": [
            [
             0,
             "#0d0887"
            ],
            [
             0.1111111111111111,
             "#46039f"
            ],
            [
             0.2222222222222222,
             "#7201a8"
            ],
            [
             0.3333333333333333,
             "#9c179e"
            ],
            [
             0.4444444444444444,
             "#bd3786"
            ],
            [
             0.5555555555555556,
             "#d8576b"
            ],
            [
             0.6666666666666666,
             "#ed7953"
            ],
            [
             0.7777777777777778,
             "#fb9f3a"
            ],
            [
             0.8888888888888888,
             "#fdca26"
            ],
            [
             1,
             "#f0f921"
            ]
           ]
          },
          "colorway": [
           "#636efa",
           "#EF553B",
           "#00cc96",
           "#ab63fa",
           "#FFA15A",
           "#19d3f3",
           "#FF6692",
           "#B6E880",
           "#FF97FF",
           "#FECB52"
          ],
          "font": {
           "color": "#2a3f5f"
          },
          "geo": {
           "bgcolor": "white",
           "lakecolor": "white",
           "landcolor": "#E5ECF6",
           "showlakes": true,
           "showland": true,
           "subunitcolor": "white"
          },
          "hoverlabel": {
           "align": "left"
          },
          "hovermode": "closest",
          "mapbox": {
           "style": "light"
          },
          "paper_bgcolor": "white",
          "plot_bgcolor": "#E5ECF6",
          "polar": {
           "angularaxis": {
            "gridcolor": "white",
            "linecolor": "white",
            "ticks": ""
           },
           "bgcolor": "#E5ECF6",
           "radialaxis": {
            "gridcolor": "white",
            "linecolor": "white",
            "ticks": ""
           }
          },
          "scene": {
           "xaxis": {
            "backgroundcolor": "#E5ECF6",
            "gridcolor": "white",
            "gridwidth": 2,
            "linecolor": "white",
            "showbackground": true,
            "ticks": "",
            "zerolinecolor": "white"
           },
           "yaxis": {
            "backgroundcolor": "#E5ECF6",
            "gridcolor": "white",
            "gridwidth": 2,
            "linecolor": "white",
            "showbackground": true,
            "ticks": "",
            "zerolinecolor": "white"
           },
           "zaxis": {
            "backgroundcolor": "#E5ECF6",
            "gridcolor": "white",
            "gridwidth": 2,
            "linecolor": "white",
            "showbackground": true,
            "ticks": "",
            "zerolinecolor": "white"
           }
          },
          "shapedefaults": {
           "line": {
            "color": "#2a3f5f"
           }
          },
          "ternary": {
           "aaxis": {
            "gridcolor": "white",
            "linecolor": "white",
            "ticks": ""
           },
           "baxis": {
            "gridcolor": "white",
            "linecolor": "white",
            "ticks": ""
           },
           "bgcolor": "#E5ECF6",
           "caxis": {
            "gridcolor": "white",
            "linecolor": "white",
            "ticks": ""
           }
          },
          "title": {
           "x": 0.05
          },
          "xaxis": {
           "automargin": true,
           "gridcolor": "white",
           "linecolor": "white",
           "ticks": "",
           "title": {
            "standoff": 15
           },
           "zerolinecolor": "white",
           "zerolinewidth": 2
          },
          "yaxis": {
           "automargin": true,
           "gridcolor": "white",
           "linecolor": "white",
           "ticks": "",
           "title": {
            "standoff": 15
           },
           "zerolinecolor": "white",
           "zerolinewidth": 2
          }
         }
        },
        "title": {
         "text": "Parallel Coordinate Plot"
        }
       }
      }
     },
     "metadata": {},
     "output_type": "display_data"
    }
   ],
   "source": [
    "optuna.visualization.plot_parallel_coordinate(study)"
   ]
  },
  {
   "cell_type": "code",
   "execution_count": 38,
   "id": "4afa60aa",
   "metadata": {},
   "outputs": [
    {
     "name": "stdout",
     "output_type": "stream",
     "text": [
      "Best trial: {'n_estimators': 53, 'max_depth': 10, 'min_samples_leaf': 3, 'min_samples_split': 6}\n"
     ]
    },
    {
     "data": {
      "text/plain": [
       "53"
      ]
     },
     "execution_count": 38,
     "metadata": {},
     "output_type": "execute_result"
    }
   ],
   "source": [
    "print(\"Best trial:\", study.best_trial.params)\n",
    "study.best_trial.params[\"n_estimators\"]"
   ]
  },
  {
   "cell_type": "code",
   "execution_count": 39,
   "id": "3b45adad",
   "metadata": {},
   "outputs": [
    {
     "data": {
      "text/html": [
       "<style>#sk-container-id-2 {color: black;}#sk-container-id-2 pre{padding: 0;}#sk-container-id-2 div.sk-toggleable {background-color: white;}#sk-container-id-2 label.sk-toggleable__label {cursor: pointer;display: block;width: 100%;margin-bottom: 0;padding: 0.3em;box-sizing: border-box;text-align: center;}#sk-container-id-2 label.sk-toggleable__label-arrow:before {content: \"▸\";float: left;margin-right: 0.25em;color: #696969;}#sk-container-id-2 label.sk-toggleable__label-arrow:hover:before {color: black;}#sk-container-id-2 div.sk-estimator:hover label.sk-toggleable__label-arrow:before {color: black;}#sk-container-id-2 div.sk-toggleable__content {max-height: 0;max-width: 0;overflow: hidden;text-align: left;background-color: #f0f8ff;}#sk-container-id-2 div.sk-toggleable__content pre {margin: 0.2em;color: black;border-radius: 0.25em;background-color: #f0f8ff;}#sk-container-id-2 input.sk-toggleable__control:checked~div.sk-toggleable__content {max-height: 200px;max-width: 100%;overflow: auto;}#sk-container-id-2 input.sk-toggleable__control:checked~label.sk-toggleable__label-arrow:before {content: \"▾\";}#sk-container-id-2 div.sk-estimator input.sk-toggleable__control:checked~label.sk-toggleable__label {background-color: #d4ebff;}#sk-container-id-2 div.sk-label input.sk-toggleable__control:checked~label.sk-toggleable__label {background-color: #d4ebff;}#sk-container-id-2 input.sk-hidden--visually {border: 0;clip: rect(1px 1px 1px 1px);clip: rect(1px, 1px, 1px, 1px);height: 1px;margin: -1px;overflow: hidden;padding: 0;position: absolute;width: 1px;}#sk-container-id-2 div.sk-estimator {font-family: monospace;background-color: #f0f8ff;border: 1px dotted black;border-radius: 0.25em;box-sizing: border-box;margin-bottom: 0.5em;}#sk-container-id-2 div.sk-estimator:hover {background-color: #d4ebff;}#sk-container-id-2 div.sk-parallel-item::after {content: \"\";width: 100%;border-bottom: 1px solid gray;flex-grow: 1;}#sk-container-id-2 div.sk-label:hover label.sk-toggleable__label {background-color: #d4ebff;}#sk-container-id-2 div.sk-serial::before {content: \"\";position: absolute;border-left: 1px solid gray;box-sizing: border-box;top: 0;bottom: 0;left: 50%;z-index: 0;}#sk-container-id-2 div.sk-serial {display: flex;flex-direction: column;align-items: center;background-color: white;padding-right: 0.2em;padding-left: 0.2em;position: relative;}#sk-container-id-2 div.sk-item {position: relative;z-index: 1;}#sk-container-id-2 div.sk-parallel {display: flex;align-items: stretch;justify-content: center;background-color: white;position: relative;}#sk-container-id-2 div.sk-item::before, #sk-container-id-2 div.sk-parallel-item::before {content: \"\";position: absolute;border-left: 1px solid gray;box-sizing: border-box;top: 0;bottom: 0;left: 50%;z-index: -1;}#sk-container-id-2 div.sk-parallel-item {display: flex;flex-direction: column;z-index: 1;position: relative;background-color: white;}#sk-container-id-2 div.sk-parallel-item:first-child::after {align-self: flex-end;width: 50%;}#sk-container-id-2 div.sk-parallel-item:last-child::after {align-self: flex-start;width: 50%;}#sk-container-id-2 div.sk-parallel-item:only-child::after {width: 0;}#sk-container-id-2 div.sk-dashed-wrapped {border: 1px dashed gray;margin: 0 0.4em 0.5em 0.4em;box-sizing: border-box;padding-bottom: 0.4em;background-color: white;}#sk-container-id-2 div.sk-label label {font-family: monospace;font-weight: bold;display: inline-block;line-height: 1.2em;}#sk-container-id-2 div.sk-label-container {text-align: center;}#sk-container-id-2 div.sk-container {/* jupyter's `normalize.less` sets `[hidden] { display: none; }` but bootstrap.min.css set `[hidden] { display: none !important; }` so we also need the `!important` here to be able to override the default hidden behavior on the sphinx rendered scikit-learn.org. See: https://github.com/scikit-learn/scikit-learn/issues/21755 */display: inline-block !important;position: relative;}#sk-container-id-2 div.sk-text-repr-fallback {display: none;}</style><div id=\"sk-container-id-2\" class=\"sk-top-container\"><div class=\"sk-text-repr-fallback\"><pre>RandomForestRegressor(max_depth=10, min_samples_leaf=3, min_samples_split=6,\n",
       "                      n_estimators=53, random_state=42)</pre><b>In a Jupyter environment, please rerun this cell to show the HTML representation or trust the notebook. <br />On GitHub, the HTML representation is unable to render, please try loading this page with nbviewer.org.</b></div><div class=\"sk-container\" hidden><div class=\"sk-item\"><div class=\"sk-estimator sk-toggleable\"><input class=\"sk-toggleable__control sk-hidden--visually\" id=\"sk-estimator-id-2\" type=\"checkbox\" checked><label for=\"sk-estimator-id-2\" class=\"sk-toggleable__label sk-toggleable__label-arrow\">RandomForestRegressor</label><div class=\"sk-toggleable__content\"><pre>RandomForestRegressor(max_depth=10, min_samples_leaf=3, min_samples_split=6,\n",
       "                      n_estimators=53, random_state=42)</pre></div></div></div></div></div>"
      ],
      "text/plain": [
       "RandomForestRegressor(max_depth=10, min_samples_leaf=3, min_samples_split=6,\n",
       "                      n_estimators=53, random_state=42)"
      ]
     },
     "execution_count": 39,
     "metadata": {},
     "output_type": "execute_result"
    }
   ],
   "source": [
    "rf_params = {\n",
    "    \"random_state\": 42,\n",
    "    #\"learning_rate\": 0.1,\n",
    "    \"n_estimators\": study.best_trial.params[\"n_estimators\"],\n",
    "    \"max_depth\": study.best_trial.params[\"max_depth\"],\n",
    "    \"min_samples_leaf\": study.best_trial.params[\"min_samples_leaf\"],\n",
    "    \"min_samples_split\": study.best_trial.params[\"min_samples_split\"],\n",
    "    #\"subsample\": study.best_trial.params[\"subsample\"]\n",
    "}\n",
    "\n",
    "rf = RandomForestRegressor(**rf_params)\n",
    "rf.fit(Cd_X_train, Cd_y_train)"
   ]
  },
  {
   "cell_type": "code",
   "execution_count": 40,
   "id": "9ab1055b",
   "metadata": {},
   "outputs": [],
   "source": [
    "y_train_pred = rf.predict(Cd_X_train)\n",
    "y_test_pred = rf.predict(Cd_X_test)"
   ]
  },
  {
   "cell_type": "code",
   "execution_count": 41,
   "id": "425b4001",
   "metadata": {},
   "outputs": [
    {
     "name": "stdout",
     "output_type": "stream",
     "text": [
      "Train RMSE:  0.1250950588169006\n",
      "Test RMSE:  0.22000268604222223\n"
     ]
    }
   ],
   "source": [
    "print(\"Train RMSE: \", np.sqrt(mean_squared_error(Cd_y_train, y_train_pred)))\n",
    "print(\"Test RMSE: \", np.sqrt(mean_squared_error(Cd_y_test, y_test_pred)))"
   ]
  },
  {
   "cell_type": "code",
   "execution_count": 42,
   "id": "0f95ae3c",
   "metadata": {},
   "outputs": [
    {
     "name": "stdout",
     "output_type": "stream",
     "text": [
      "Train R2:  0.8292587093707455\n",
      "Test R2:  0.43135258951864885\n"
     ]
    }
   ],
   "source": [
    "print(\"Train R2: \", r2_score(Cd_y_train, y_train_pred))\n",
    "print(\"Test R2: \", r2_score(Cd_y_test, y_test_pred))"
   ]
  },
  {
   "cell_type": "code",
   "execution_count": 43,
   "id": "aa0a517d",
   "metadata": {},
   "outputs": [
    {
     "data": {
      "image/png": "[encoded data removed]",
      "text/plain": [
       "<Figure size 640x480 with 1 Axes>"
      ]
     },
     "metadata": {},
     "output_type": "display_data"
    }
   ],
   "source": [
    "plt.scatter(y_train_pred, np.array(Cd_y_train), color=\"orange\", alpha=0.3)\n",
    "plt.scatter(y_test_pred, np.array(Cd_y_test), color=\"green\", alpha=0.4)\n",
    "plt.axis(\"auto\") # scaled, tight, auto, image, square\n",
    "# plt.xlim([0, 1.5]) \n",
    "# plt.ylim(0, None) \n",
    "plt.xlabel('Predicted Values')\n",
    "plt.ylabel('Actual Values')\n",
    "\n",
    "# Add y=x line\n",
    "plt.plot([0, 0.5], [0, 0.5], color='red', linestyle='-')\n",
    "\n",
    "plt.show()"
   ]
  },
  {
   "attachments": {},
   "cell_type": "markdown",
   "id": "74f680ea",
   "metadata": {},
   "source": [
    "Ni"
   ]
  },
  {
   "cell_type": "code",
   "execution_count": 44,
   "id": "de233338",
   "metadata": {},
   "outputs": [
    {
     "name": "stderr",
     "output_type": "stream",
     "text": [
      "\u001b[32m[I 2023-08-24 14:21:20,108]\u001b[0m A new study created in memory with name: rf_parameter_opt\u001b[0m\n",
      "\u001b[32m[I 2023-08-24 14:21:21,107]\u001b[0m Trial 0 finished with value: 0.30069445199241474 and parameters: {'n_estimators': 100, 'max_depth': 2, 'min_samples_leaf': 11, 'min_samples_split': 4}. Best is trial 0 with value: 0.30069445199241474.\u001b[0m\n",
      "\u001b[32m[I 2023-08-24 14:21:22,210]\u001b[0m Trial 1 finished with value: 0.47941031605122697 and parameters: {'n_estimators': 82, 'max_depth': 4, 'min_samples_leaf': 20, 'min_samples_split': 17}. Best is trial 1 with value: 0.47941031605122697.\u001b[0m\n",
      "\u001b[32m[I 2023-08-24 14:21:24,081]\u001b[0m Trial 2 finished with value: 0.6326214754530122 and parameters: {'n_estimators': 80, 'max_depth': 7, 'min_samples_leaf': 2, 'min_samples_split': 4}. Best is trial 2 with value: 0.6326214754530122.\u001b[0m\n",
      "\u001b[32m[I 2023-08-24 14:21:25,819]\u001b[0m Trial 3 finished with value: 0.5504002814025133 and parameters: {'n_estimators': 100, 'max_depth': 5, 'min_samples_leaf': 5, 'min_samples_split': 17}. Best is trial 2 with value: 0.6326214754530122.\u001b[0m\n",
      "\u001b[32m[I 2023-08-24 14:21:27,222]\u001b[0m Trial 4 finished with value: 0.48116529099855976 and parameters: {'n_estimators': 100, 'max_depth': 4, 'min_samples_leaf': 14, 'min_samples_split': 11}. Best is trial 2 with value: 0.6326214754530122.\u001b[0m\n",
      "\u001b[32m[I 2023-08-24 14:21:27,783]\u001b[0m Trial 5 finished with value: 0.5893886510726569 and parameters: {'n_estimators': 29, 'max_depth': 8, 'min_samples_leaf': 10, 'min_samples_split': 13}. Best is trial 2 with value: 0.6326214754530122.\u001b[0m\n",
      "\u001b[32m[I 2023-08-24 14:21:28,300]\u001b[0m Trial 6 finished with value: 0.5798812924723258 and parameters: {'n_estimators': 29, 'max_depth': 7, 'min_samples_leaf': 11, 'min_samples_split': 2}. Best is trial 2 with value: 0.6326214754530122.\u001b[0m\n",
      "\u001b[32m[I 2023-08-24 14:21:29,258]\u001b[0m Trial 7 finished with value: 0.5554458304300353 and parameters: {'n_estimators': 60, 'max_depth': 8, 'min_samples_leaf': 16, 'min_samples_split': 13}. Best is trial 2 with value: 0.6326214754530122.\u001b[0m\n",
      "\u001b[32m[I 2023-08-24 14:21:29,522]\u001b[0m Trial 8 finished with value: 0.5432050484596849 and parameters: {'n_estimators': 17, 'max_depth': 6, 'min_samples_leaf': 19, 'min_samples_split': 16}. Best is trial 2 with value: 0.6326214754530122.\u001b[0m\n",
      "\u001b[32m[I 2023-08-24 14:21:30,550]\u001b[0m Trial 9 finished with value: 0.5506430878959474 and parameters: {'n_estimators': 66, 'max_depth': 10, 'min_samples_leaf': 17, 'min_samples_split': 4}. Best is trial 2 with value: 0.6326214754530122.\u001b[0m\n",
      "\u001b[32m[I 2023-08-24 14:21:32,735]\u001b[0m Trial 10 finished with value: 0.6654581790305929 and parameters: {'n_estimators': 76, 'max_depth': 10, 'min_samples_leaf': 1, 'min_samples_split': 8}. Best is trial 10 with value: 0.6654581790305929.\u001b[0m\n",
      "\u001b[32m[I 2023-08-24 14:21:34,847]\u001b[0m Trial 11 finished with value: 0.662637385000217 and parameters: {'n_estimators': 76, 'max_depth': 10, 'min_samples_leaf': 1, 'min_samples_split': 9}. Best is trial 10 with value: 0.6654581790305929.\u001b[0m\n",
      "\u001b[32m[I 2023-08-24 14:21:37,057]\u001b[0m Trial 12 finished with value: 0.6652676557322641 and parameters: {'n_estimators': 78, 'max_depth': 10, 'min_samples_leaf': 1, 'min_samples_split': 8}. Best is trial 10 with value: 0.6654581790305929.\u001b[0m\n",
      "\u001b[32m[I 2023-08-24 14:21:38,233]\u001b[0m Trial 13 finished with value: 0.6409627433158525 and parameters: {'n_estimators': 51, 'max_depth': 10, 'min_samples_leaf': 5, 'min_samples_split': 8}. Best is trial 10 with value: 0.6654581790305929.\u001b[0m\n",
      "\u001b[32m[I 2023-08-24 14:21:39,430]\u001b[0m Trial 14 finished with value: 0.6394173474724305 and parameters: {'n_estimators': 52, 'max_depth': 9, 'min_samples_leaf': 5, 'min_samples_split': 7}. Best is trial 10 with value: 0.6654581790305929.\u001b[0m\n",
      "\u001b[32m[I 2023-08-24 14:21:40,076]\u001b[0m Trial 15 finished with value: 0.20411625481322743 and parameters: {'n_estimators': 86, 'max_depth': 1, 'min_samples_leaf': 3, 'min_samples_split': 7}. Best is trial 10 with value: 0.6654581790305929.\u001b[0m\n",
      "\u001b[32m[I 2023-08-24 14:21:41,491]\u001b[0m Trial 16 finished with value: 0.6012061597973017 and parameters: {'n_estimators': 72, 'max_depth': 9, 'min_samples_leaf': 9, 'min_samples_split': 10}. Best is trial 10 with value: 0.6654581790305929.\u001b[0m\n",
      "\u001b[32m[I 2023-08-24 14:21:42,350]\u001b[0m Trial 17 finished with value: 0.6129029165823402 and parameters: {'n_estimators': 42, 'max_depth': 8, 'min_samples_leaf': 7, 'min_samples_split': 13}. Best is trial 10 with value: 0.6654581790305929.\u001b[0m\n",
      "\u001b[32m[I 2023-08-24 14:21:44,747]\u001b[0m Trial 18 finished with value: 0.6666047976294432 and parameters: {'n_estimators': 87, 'max_depth': 9, 'min_samples_leaf': 1, 'min_samples_split': 6}. Best is trial 18 with value: 0.6666047976294432.\u001b[0m\n",
      "\u001b[32m[I 2023-08-24 14:21:46,749]\u001b[0m Trial 19 finished with value: 0.620135008119499 and parameters: {'n_estimators': 90, 'max_depth': 9, 'min_samples_leaf': 3, 'min_samples_split': 20}. Best is trial 18 with value: 0.6666047976294432.\u001b[0m\n",
      "\u001b[32m[I 2023-08-24 14:21:47,999]\u001b[0m Trial 20 finished with value: 0.5861797888665464 and parameters: {'n_estimators': 67, 'max_depth': 6, 'min_samples_leaf': 7, 'min_samples_split': 6}. Best is trial 18 with value: 0.6666047976294432.\u001b[0m\n",
      "\u001b[32m[I 2023-08-24 14:21:50,634]\u001b[0m Trial 21 finished with value: 0.6721043492089376 and parameters: {'n_estimators': 90, 'max_depth': 10, 'min_samples_leaf': 1, 'min_samples_split': 6}. Best is trial 21 with value: 0.6721043492089376.\u001b[0m\n",
      "\u001b[32m[I 2023-08-24 14:21:53,002]\u001b[0m Trial 22 finished with value: 0.6573782300688931 and parameters: {'n_estimators': 91, 'max_depth': 9, 'min_samples_leaf': 3, 'min_samples_split': 5}. Best is trial 21 with value: 0.6721043492089376.\u001b[0m\n",
      "\u001b[32m[I 2023-08-24 14:21:55,832]\u001b[0m Trial 23 finished with value: 0.6741096055945517 and parameters: {'n_estimators': 91, 'max_depth': 10, 'min_samples_leaf': 1, 'min_samples_split': 3}. Best is trial 23 with value: 0.6741096055945517.\u001b[0m\n",
      "\u001b[32m[I 2023-08-24 14:21:57,954]\u001b[0m Trial 24 finished with value: 0.6391059504420522 and parameters: {'n_estimators': 92, 'max_depth': 8, 'min_samples_leaf': 4, 'min_samples_split': 2}. Best is trial 23 with value: 0.6741096055945517.\u001b[0m\n",
      "\u001b[32m[I 2023-08-24 14:21:59,615]\u001b[0m Trial 25 finished with value: 0.595384247954614 and parameters: {'n_estimators': 86, 'max_depth': 7, 'min_samples_leaf': 8, 'min_samples_split': 2}. Best is trial 23 with value: 0.6741096055945517.\u001b[0m\n",
      "\u001b[32m[I 2023-08-24 14:22:01,656]\u001b[0m Trial 26 finished with value: 0.628142105581675 and parameters: {'n_estimators': 94, 'max_depth': 9, 'min_samples_leaf': 6, 'min_samples_split': 6}. Best is trial 23 with value: 0.6741096055945517.\u001b[0m\n",
      "\u001b[32m[I 2023-08-24 14:22:03,658]\u001b[0m Trial 27 finished with value: 0.6703830471580625 and parameters: {'n_estimators': 70, 'max_depth': 10, 'min_samples_leaf': 2, 'min_samples_split': 3}. Best is trial 23 with value: 0.6741096055945517.\u001b[0m\n",
      "\u001b[32m[I 2023-08-24 14:22:05,213]\u001b[0m Trial 28 finished with value: 0.6609061247036205 and parameters: {'n_estimators': 59, 'max_depth': 10, 'min_samples_leaf': 3, 'min_samples_split': 3}. Best is trial 23 with value: 0.6741096055945517.\u001b[0m\n",
      "\u001b[32m[I 2023-08-24 14:22:06,071]\u001b[0m Trial 29 finished with value: 0.429756741588604 and parameters: {'n_estimators': 70, 'max_depth': 3, 'min_samples_leaf': 12, 'min_samples_split': 4}. Best is trial 23 with value: 0.6741096055945517.\u001b[0m\n",
      "\u001b[32m[I 2023-08-24 14:22:07,043]\u001b[0m Trial 30 finished with value: 0.6363158349958283 and parameters: {'n_estimators': 42, 'max_depth': 8, 'min_samples_leaf': 4, 'min_samples_split': 3}. Best is trial 23 with value: 0.6741096055945517.\u001b[0m\n",
      "\u001b[32m[I 2023-08-24 14:22:09,417]\u001b[0m Trial 31 finished with value: 0.6689506795525124 and parameters: {'n_estimators': 85, 'max_depth': 9, 'min_samples_leaf': 1, 'min_samples_split': 5}. Best is trial 23 with value: 0.6741096055945517.\u001b[0m\n",
      "\u001b[32m[I 2023-08-24 14:22:11,751]\u001b[0m Trial 32 finished with value: 0.6717006871795526 and parameters: {'n_estimators': 83, 'max_depth': 10, 'min_samples_leaf': 2, 'min_samples_split': 5}. Best is trial 23 with value: 0.6741096055945517.\u001b[0m\n",
      "\u001b[32m[I 2023-08-24 14:22:14,096]\u001b[0m Trial 33 finished with value: 0.6717620868696869 and parameters: {'n_estimators': 81, 'max_depth': 10, 'min_samples_leaf': 2, 'min_samples_split': 3}. Best is trial 23 with value: 0.6741096055945517.\u001b[0m\n",
      "\u001b[32m[I 2023-08-24 14:22:16,748]\u001b[0m Trial 34 finished with value: 0.669384714208773 and parameters: {'n_estimators': 95, 'max_depth': 10, 'min_samples_leaf': 2, 'min_samples_split': 5}. Best is trial 23 with value: 0.6741096055945517.\u001b[0m\n",
      "\u001b[32m[I 2023-08-24 14:22:18,527]\u001b[0m Trial 35 finished with value: 0.6209719285452476 and parameters: {'n_estimators': 82, 'max_depth': 7, 'min_samples_leaf': 4, 'min_samples_split': 4}. Best is trial 23 with value: 0.6741096055945517.\u001b[0m\n",
      "\u001b[32m[I 2023-08-24 14:22:20,055]\u001b[0m Trial 36 finished with value: 0.4923991971823455 and parameters: {'n_estimators': 99, 'max_depth': 4, 'min_samples_leaf': 2, 'min_samples_split': 3}. Best is trial 23 with value: 0.6741096055945517.\u001b[0m\n",
      "\u001b[32m[I 2023-08-24 14:22:21,439]\u001b[0m Trial 37 finished with value: 0.5531480981370126 and parameters: {'n_estimators': 81, 'max_depth': 5, 'min_samples_leaf': 6, 'min_samples_split': 5}. Best is trial 23 with value: 0.6741096055945517.\u001b[0m\n",
      "\u001b[32m[I 2023-08-24 14:22:22,669]\u001b[0m Trial 38 finished with value: 0.42648977905895685 and parameters: {'n_estimators': 98, 'max_depth': 3, 'min_samples_leaf': 13, 'min_samples_split': 10}. Best is trial 23 with value: 0.6741096055945517.\u001b[0m\n",
      "\u001b[32m[I 2023-08-24 14:22:24,391]\u001b[0m Trial 39 finished with value: 0.6384582162890007 and parameters: {'n_estimators': 75, 'max_depth': 8, 'min_samples_leaf': 4, 'min_samples_split': 2}. Best is trial 23 with value: 0.6741096055945517.\u001b[0m\n",
      "\u001b[32m[I 2023-08-24 14:22:26,397]\u001b[0m Trial 40 finished with value: 0.6496089548786401 and parameters: {'n_estimators': 82, 'max_depth': 9, 'min_samples_leaf': 2, 'min_samples_split': 12}. Best is trial 23 with value: 0.6741096055945517.\u001b[0m\n",
      "\u001b[32m[I 2023-08-24 14:22:28,299]\u001b[0m Trial 41 finished with value: 0.6698265778875822 and parameters: {'n_estimators': 67, 'max_depth': 10, 'min_samples_leaf': 2, 'min_samples_split': 3}. Best is trial 23 with value: 0.6741096055945517.\u001b[0m\n",
      "\u001b[32m[I 2023-08-24 14:22:30,865]\u001b[0m Trial 42 finished with value: 0.669873522221877 and parameters: {'n_estimators': 90, 'max_depth': 10, 'min_samples_leaf': 2, 'min_samples_split': 4}. Best is trial 23 with value: 0.6741096055945517.\u001b[0m\n",
      "\u001b[32m[I 2023-08-24 14:22:32,549]\u001b[0m Trial 43 finished with value: 0.6425863630614422 and parameters: {'n_estimators': 73, 'max_depth': 10, 'min_samples_leaf': 5, 'min_samples_split': 3}. Best is trial 23 with value: 0.6741096055945517.\u001b[0m\n",
      "\u001b[32m[I 2023-08-24 14:22:34,200]\u001b[0m Trial 44 finished with value: 0.6618364161540132 and parameters: {'n_estimators': 61, 'max_depth': 9, 'min_samples_leaf': 1, 'min_samples_split': 7}. Best is trial 23 with value: 0.6741096055945517.\u001b[0m\n",
      "\u001b[32m[I 2023-08-24 14:22:36,054]\u001b[0m Trial 45 finished with value: 0.6374892281517258 and parameters: {'n_estimators': 79, 'max_depth': 10, 'min_samples_leaf': 3, 'min_samples_split': 15}. Best is trial 23 with value: 0.6741096055945517.\u001b[0m\n",
      "\u001b[32m[I 2023-08-24 14:22:37,603]\u001b[0m Trial 46 finished with value: 0.558473157505077 and parameters: {'n_estimators': 95, 'max_depth': 10, 'min_samples_leaf': 15, 'min_samples_split': 2}. Best is trial 23 with value: 0.6741096055945517.\u001b[0m\n",
      "\u001b[32m[I 2023-08-24 14:22:38,858]\u001b[0m Trial 47 finished with value: 0.5425383247521506 and parameters: {'n_estimators': 84, 'max_depth': 9, 'min_samples_leaf': 19, 'min_samples_split': 4}. Best is trial 23 with value: 0.6741096055945517.\u001b[0m\n",
      "\u001b[32m[I 2023-08-24 14:22:39,128]\u001b[0m Trial 48 finished with value: 0.6463324990037662 and parameters: {'n_estimators': 10, 'max_depth': 8, 'min_samples_leaf': 1, 'min_samples_split': 6}. Best is trial 23 with value: 0.6741096055945517.\u001b[0m\n",
      "\u001b[32m[I 2023-08-24 14:22:40,600]\u001b[0m Trial 49 finished with value: 0.5923148890164109 and parameters: {'n_estimators': 79, 'max_depth': 10, 'min_samples_leaf': 10, 'min_samples_split': 5}. Best is trial 23 with value: 0.6741096055945517.\u001b[0m\n",
      "\u001b[32m[I 2023-08-24 14:22:42,095]\u001b[0m Trial 50 finished with value: 0.6296418379091293 and parameters: {'n_estimators': 69, 'max_depth': 10, 'min_samples_leaf': 6, 'min_samples_split': 9}. Best is trial 23 with value: 0.6741096055945517.\u001b[0m\n",
      "\u001b[32m[I 2023-08-24 14:22:44,689]\u001b[0m Trial 51 finished with value: 0.6699515430302722 and parameters: {'n_estimators': 91, 'max_depth': 10, 'min_samples_leaf': 2, 'min_samples_split': 4}. Best is trial 23 with value: 0.6741096055945517.\u001b[0m\n",
      "\u001b[32m[I 2023-08-24 14:22:47,229]\u001b[0m Trial 52 finished with value: 0.6704481110727283 and parameters: {'n_estimators': 89, 'max_depth': 10, 'min_samples_leaf': 2, 'min_samples_split': 3}. Best is trial 23 with value: 0.6741096055945517.\u001b[0m\n",
      "\u001b[32m[I 2023-08-24 14:22:49,445]\u001b[0m Trial 53 finished with value: 0.6569755862456065 and parameters: {'n_estimators': 88, 'max_depth': 9, 'min_samples_leaf': 3, 'min_samples_split': 3}. Best is trial 23 with value: 0.6741096055945517.\u001b[0m\n",
      "\u001b[32m[I 2023-08-24 14:22:50,990]\u001b[0m Trial 54 finished with value: 0.6460251664885451 and parameters: {'n_estimators': 63, 'max_depth': 10, 'min_samples_leaf': 4, 'min_samples_split': 2}. Best is trial 23 with value: 0.6741096055945517.\u001b[0m\n",
      "\u001b[32m[I 2023-08-24 14:22:53,029]\u001b[0m Trial 55 finished with value: 0.6633938969951333 and parameters: {'n_estimators': 75, 'max_depth': 9, 'min_samples_leaf': 1, 'min_samples_split': 7}. Best is trial 23 with value: 0.6741096055945517.\u001b[0m\n",
      "\u001b[32m[I 2023-08-24 14:22:53,758]\u001b[0m Trial 56 finished with value: 0.204089906078661 and parameters: {'n_estimators': 97, 'max_depth': 1, 'min_samples_leaf': 2, 'min_samples_split': 3}. Best is trial 23 with value: 0.6741096055945517.\u001b[0m\n",
      "\u001b[32m[I 2023-08-24 14:22:55,590]\u001b[0m Trial 57 finished with value: 0.6000551290750025 and parameters: {'n_estimators': 88, 'max_depth': 6, 'min_samples_leaf': 1, 'min_samples_split': 6}. Best is trial 23 with value: 0.6741096055945517.\u001b[0m\n",
      "\u001b[32m[I 2023-08-24 14:22:57,811]\u001b[0m Trial 58 finished with value: 0.6623016727070168 and parameters: {'n_estimators': 84, 'max_depth': 10, 'min_samples_leaf': 3, 'min_samples_split': 5}. Best is trial 23 with value: 0.6741096055945517.\u001b[0m\n",
      "\u001b[32m[I 2023-08-24 14:22:59,564]\u001b[0m Trial 59 finished with value: 0.6387822308193429 and parameters: {'n_estimators': 77, 'max_depth': 9, 'min_samples_leaf': 5, 'min_samples_split': 2}. Best is trial 23 with value: 0.6741096055945517.\u001b[0m\n",
      "\u001b[32m[I 2023-08-24 14:23:01,688]\u001b[0m Trial 60 finished with value: 0.6382350053845216 and parameters: {'n_estimators': 93, 'max_depth': 8, 'min_samples_leaf': 4, 'min_samples_split': 8}. Best is trial 23 with value: 0.6741096055945517.\u001b[0m\n",
      "\u001b[32m[I 2023-08-24 14:23:04,261]\u001b[0m Trial 61 finished with value: 0.669873522221877 and parameters: {'n_estimators': 90, 'max_depth': 10, 'min_samples_leaf': 2, 'min_samples_split': 4}. Best is trial 23 with value: 0.6741096055945517.\u001b[0m\n",
      "\u001b[32m[I 2023-08-24 14:23:06,875]\u001b[0m Trial 62 finished with value: 0.6612648108798632 and parameters: {'n_estimators': 100, 'max_depth': 10, 'min_samples_leaf': 3, 'min_samples_split': 4}. Best is trial 23 with value: 0.6741096055945517.\u001b[0m\n",
      "\u001b[32m[I 2023-08-24 14:23:08,893]\u001b[0m Trial 63 finished with value: 0.6257728591101329 and parameters: {'n_estimators': 88, 'max_depth': 9, 'min_samples_leaf': 2, 'min_samples_split': 19}. Best is trial 23 with value: 0.6741096055945517.\u001b[0m\n",
      "\u001b[32m[I 2023-08-24 14:23:11,697]\u001b[0m Trial 64 finished with value: 0.6732711681602197 and parameters: {'n_estimators': 93, 'max_depth': 10, 'min_samples_leaf': 1, 'min_samples_split': 4}. Best is trial 23 with value: 0.6741096055945517.\u001b[0m\n",
      "\u001b[32m[I 2023-08-24 14:23:14,635]\u001b[0m Trial 65 finished with value: 0.6732593710688366 and parameters: {'n_estimators': 95, 'max_depth': 10, 'min_samples_leaf': 1, 'min_samples_split': 3}. Best is trial 23 with value: 0.6741096055945517.\u001b[0m\n",
      "\u001b[32m[I 2023-08-24 14:23:17,287]\u001b[0m Trial 66 finished with value: 0.6671191875551035 and parameters: {'n_estimators': 95, 'max_depth': 9, 'min_samples_leaf': 1, 'min_samples_split': 5}. Best is trial 23 with value: 0.6741096055945517.\u001b[0m\n",
      "\u001b[32m[I 2023-08-24 14:23:20,077]\u001b[0m Trial 67 finished with value: 0.6711696989769852 and parameters: {'n_estimators': 96, 'max_depth': 10, 'min_samples_leaf': 1, 'min_samples_split': 6}. Best is trial 23 with value: 0.6741096055945517.\u001b[0m\n",
      "\u001b[32m[I 2023-08-24 14:23:22,740]\u001b[0m Trial 68 finished with value: 0.6649491399129921 and parameters: {'n_estimators': 97, 'max_depth': 9, 'min_samples_leaf': 1, 'min_samples_split': 6}. Best is trial 23 with value: 0.6741096055945517.\u001b[0m\n",
      "\u001b[32m[I 2023-08-24 14:23:24,927]\u001b[0m Trial 69 finished with value: 0.630310006553703 and parameters: {'n_estimators': 94, 'max_depth': 7, 'min_samples_leaf': 1, 'min_samples_split': 7}. Best is trial 23 with value: 0.6741096055945517.\u001b[0m\n",
      "\u001b[32m[I 2023-08-24 14:23:26,265]\u001b[0m Trial 70 finished with value: 0.5485678082211292 and parameters: {'n_estimators': 85, 'max_depth': 10, 'min_samples_leaf': 17, 'min_samples_split': 8}. Best is trial 23 with value: 0.6741096055945517.\u001b[0m\n",
      "\u001b[32m[I 2023-08-24 14:23:29,101]\u001b[0m Trial 71 finished with value: 0.674264813938614 and parameters: {'n_estimators': 92, 'max_depth': 10, 'min_samples_leaf': 1, 'min_samples_split': 3}. Best is trial 71 with value: 0.674264813938614.\u001b[0m\n",
      "\u001b[32m[I 2023-08-24 14:23:32,057]\u001b[0m Trial 72 finished with value: 0.6738057019815274 and parameters: {'n_estimators': 100, 'max_depth': 10, 'min_samples_leaf': 1, 'min_samples_split': 5}. Best is trial 71 with value: 0.674264813938614.\u001b[0m\n",
      "\u001b[32m[I 2023-08-24 14:23:34,469]\u001b[0m Trial 73 finished with value: 0.6619755705329539 and parameters: {'n_estimators': 92, 'max_depth': 10, 'min_samples_leaf': 3, 'min_samples_split': 2}. Best is trial 71 with value: 0.674264813938614.\u001b[0m\n",
      "\u001b[32m[I 2023-08-24 14:23:37,272]\u001b[0m Trial 74 finished with value: 0.6670020294814724 and parameters: {'n_estimators': 99, 'max_depth': 9, 'min_samples_leaf': 1, 'min_samples_split': 4}. Best is trial 71 with value: 0.674264813938614.\u001b[0m\n",
      "\u001b[32m[I 2023-08-24 14:23:37,958]\u001b[0m Trial 75 finished with value: 0.6528488716600044 and parameters: {'n_estimators': 26, 'max_depth': 10, 'min_samples_leaf': 3, 'min_samples_split': 5}. Best is trial 71 with value: 0.674264813938614.\u001b[0m\n",
      "\u001b[32m[I 2023-08-24 14:23:38,961]\u001b[0m Trial 76 finished with value: 0.3008666875489853 and parameters: {'n_estimators': 100, 'max_depth': 2, 'min_samples_leaf': 1, 'min_samples_split': 3}. Best is trial 71 with value: 0.674264813938614.\u001b[0m\n",
      "\u001b[32m[I 2023-08-24 14:23:41,181]\u001b[0m Trial 77 finished with value: 0.6664701629915408 and parameters: {'n_estimators': 82, 'max_depth': 9, 'min_samples_leaf': 2, 'min_samples_split': 2}. Best is trial 71 with value: 0.674264813938614.\u001b[0m\n",
      "\u001b[32m[I 2023-08-24 14:23:42,168]\u001b[0m Trial 78 finished with value: 0.6408539497703959 and parameters: {'n_estimators': 43, 'max_depth': 10, 'min_samples_leaf': 5, 'min_samples_split': 4}. Best is trial 71 with value: 0.674264813938614.\u001b[0m\n",
      "\u001b[32m[I 2023-08-24 14:23:44,592]\u001b[0m Trial 79 finished with value: 0.6611574316282581 and parameters: {'n_estimators': 93, 'max_depth': 10, 'min_samples_leaf': 3, 'min_samples_split': 5}. Best is trial 71 with value: 0.674264813938614.\u001b[0m\n",
      "\u001b[32m[I 2023-08-24 14:23:46,879]\u001b[0m Trial 80 finished with value: 0.6553997978839365 and parameters: {'n_estimators': 86, 'max_depth': 8, 'min_samples_leaf': 1, 'min_samples_split': 3}. Best is trial 71 with value: 0.674264813938614.\u001b[0m\n",
      "\u001b[32m[I 2023-08-24 14:23:49,512]\u001b[0m Trial 81 finished with value: 0.6677006861994463 and parameters: {'n_estimators': 96, 'max_depth': 10, 'min_samples_leaf': 2, 'min_samples_split': 6}. Best is trial 71 with value: 0.674264813938614.\u001b[0m\n",
      "\u001b[32m[I 2023-08-24 14:23:52,441]\u001b[0m Trial 82 finished with value: 0.6730528692570746 and parameters: {'n_estimators': 97, 'max_depth': 10, 'min_samples_leaf': 1, 'min_samples_split': 4}. Best is trial 71 with value: 0.674264813938614.\u001b[0m\n",
      "\u001b[32m[I 2023-08-24 14:23:55,057]\u001b[0m Trial 83 finished with value: 0.6701796530549886 and parameters: {'n_estimators': 92, 'max_depth': 10, 'min_samples_leaf': 2, 'min_samples_split': 4}. Best is trial 71 with value: 0.674264813938614.\u001b[0m\n",
      "\u001b[32m[I 2023-08-24 14:23:57,879]\u001b[0m Trial 84 finished with value: 0.6671531982732731 and parameters: {'n_estimators': 98, 'max_depth': 9, 'min_samples_leaf': 1, 'min_samples_split': 3}. Best is trial 71 with value: 0.674264813938614.\u001b[0m\n",
      "\u001b[32m[I 2023-08-24 14:24:00,391]\u001b[0m Trial 85 finished with value: 0.6704875902922864 and parameters: {'n_estimators': 90, 'max_depth': 10, 'min_samples_leaf': 2, 'min_samples_split': 5}. Best is trial 71 with value: 0.674264813938614.\u001b[0m\n",
      "\u001b[32m[I 2023-08-24 14:24:02,200]\u001b[0m Trial 86 finished with value: 0.5999980793404206 and parameters: {'n_estimators': 94, 'max_depth': 9, 'min_samples_leaf': 9, 'min_samples_split': 3}. Best is trial 71 with value: 0.674264813938614.\u001b[0m\n",
      "\u001b[32m[I 2023-08-24 14:24:04,702]\u001b[0m Trial 87 finished with value: 0.6753365308445684 and parameters: {'n_estimators': 83, 'max_depth': 10, 'min_samples_leaf': 1, 'min_samples_split': 4}. Best is trial 87 with value: 0.6753365308445684.\u001b[0m\n",
      "\u001b[32m[I 2023-08-24 14:24:07,514]\u001b[0m Trial 88 finished with value: 0.6749125545270939 and parameters: {'n_estimators': 87, 'max_depth': 10, 'min_samples_leaf': 1, 'min_samples_split': 2}. Best is trial 87 with value: 0.6753365308445684.\u001b[0m\n",
      "\u001b[32m[I 2023-08-24 14:24:09,717]\u001b[0m Trial 89 finished with value: 0.6451993651379004 and parameters: {'n_estimators': 87, 'max_depth': 10, 'min_samples_leaf': 1, 'min_samples_split': 14}. Best is trial 87 with value: 0.6753365308445684.\u001b[0m\n",
      "\u001b[32m[I 2023-08-24 14:24:12,036]\u001b[0m Trial 90 finished with value: 0.6444867042948778 and parameters: {'n_estimators': 97, 'max_depth': 9, 'min_samples_leaf': 4, 'min_samples_split': 2}. Best is trial 87 with value: 0.6753365308445684.\u001b[0m\n",
      "\u001b[32m[I 2023-08-24 14:24:14,773]\u001b[0m Trial 91 finished with value: 0.6739083015419081 and parameters: {'n_estimators': 91, 'max_depth': 10, 'min_samples_leaf': 1, 'min_samples_split': 4}. Best is trial 87 with value: 0.6753365308445684.\u001b[0m\n",
      "\u001b[32m[I 2023-08-24 14:24:17,503]\u001b[0m Trial 92 finished with value: 0.6739083015419081 and parameters: {'n_estimators': 91, 'max_depth': 10, 'min_samples_leaf': 1, 'min_samples_split': 4}. Best is trial 87 with value: 0.6753365308445684.\u001b[0m\n",
      "\u001b[32m[I 2023-08-24 14:24:20,303]\u001b[0m Trial 93 finished with value: 0.6732711681602197 and parameters: {'n_estimators': 93, 'max_depth': 10, 'min_samples_leaf': 1, 'min_samples_split': 4}. Best is trial 87 with value: 0.6753365308445684.\u001b[0m\n",
      "\u001b[32m[I 2023-08-24 14:24:23,229]\u001b[0m Trial 94 finished with value: 0.6741348667843952 and parameters: {'n_estimators': 91, 'max_depth': 10, 'min_samples_leaf': 1, 'min_samples_split': 2}. Best is trial 87 with value: 0.6753365308445684.\u001b[0m\n",
      "\u001b[32m[I 2023-08-24 14:24:25,848]\u001b[0m Trial 95 finished with value: 0.6701796530549886 and parameters: {'n_estimators': 92, 'max_depth': 10, 'min_samples_leaf': 2, 'min_samples_split': 2}. Best is trial 87 with value: 0.6753365308445684.\u001b[0m\n",
      "\u001b[32m[I 2023-08-24 14:24:27,378]\u001b[0m Trial 96 finished with value: 0.5572867016519153 and parameters: {'n_estimators': 86, 'max_depth': 5, 'min_samples_leaf': 3, 'min_samples_split': 4}. Best is trial 87 with value: 0.6753365308445684.\u001b[0m\n",
      "\u001b[32m[I 2023-08-24 14:24:30,020]\u001b[0m Trial 97 finished with value: 0.6705513885590212 and parameters: {'n_estimators': 89, 'max_depth': 9, 'min_samples_leaf': 1, 'min_samples_split': 2}. Best is trial 87 with value: 0.6753365308445684.\u001b[0m\n",
      "\u001b[32m[I 2023-08-24 14:24:32,223]\u001b[0m Trial 98 finished with value: 0.6623016727070168 and parameters: {'n_estimators': 84, 'max_depth': 10, 'min_samples_leaf': 3, 'min_samples_split': 3}. Best is trial 87 with value: 0.6753365308445684.\u001b[0m\n",
      "\u001b[32m[I 2023-08-24 14:24:34,773]\u001b[0m Trial 99 finished with value: 0.6705404257414148 and parameters: {'n_estimators': 91, 'max_depth': 10, 'min_samples_leaf': 2, 'min_samples_split': 5}. Best is trial 87 with value: 0.6753365308445684.\u001b[0m\n"
     ]
    },
    {
     "name": "stdout",
     "output_type": "stream",
     "text": [
      "Best r2:  0.6753365308445684\n",
      "Best trial: {'n_estimators': 83, 'max_depth': 10, 'min_samples_leaf': 1, 'min_samples_split': 4}\n"
     ]
    }
   ],
   "source": [
    "sampler = TPESampler()\n",
    "study = optuna.create_study(\n",
    "    study_name=\"rf_parameter_opt\",\n",
    "    direction=\"maximize\",\n",
    "    sampler=sampler,\n",
    ")\n",
    "\n",
    "study.optimize(lambda trial : objectiveRF(trial, Ni_X_train, Ni_y_train), n_trials=100)\n",
    "print(\"Best r2: \", study.best_value)\n",
    "print(\"Best trial:\", study.best_trial.params)"
   ]
  },
  {
   "cell_type": "code",
   "execution_count": 45,
   "id": "d71c01fb",
   "metadata": {},
   "outputs": [
    {
     "data": {
      "application/vnd.plotly.v1+json": {
       "config": {
        "plotlyServerURL": "https://plot.ly"
       },
       "data": [
        {
         "dimensions": [
          {
           "label": "Objective Value",
           "range": [
            0.204089906078661,
            0.6753365308445684
           ],
           "values": [
            0.30069445199241474,
            0.47941031605122697,
            0.6326214754530122,
            0.5504002814025133,
            0.48116529099855976,
            0.5893886510726569,
            0.5798812924723258,
            0.5554458304300353,
            0.5432050484596849,
            0.5506430878959474,
            0.6654581790305929,
            0.662637385000217,
            0.6652676557322641,
            0.6409627433158525,
            0.6394173474724305,
            0.20411625481322743,
            0.6012061597973017,
            0.6129029165823402,
            0.6666047976294432,
            0.620135008119499,
            0.5861797888665464,
            0.6721043492089376,
            0.6573782300688931,
            0.6741096055945517,
            0.6391059504420522,
            0.595384247954614,
            0.628142105581675,
            0.6703830471580625,
            0.6609061247036205,
            0.429756741588604,
            0.6363158349958283,
            0.6689506795525124,
            0.6717006871795526,
            0.6717620868696869,
            0.669384714208773,
            0.6209719285452476,
            0.4923991971823455,
            0.5531480981370126,
            0.42648977905895685,
            0.6384582162890007,
            0.6496089548786401,
            0.6698265778875822,
            0.669873522221877,
            0.6425863630614422,
            0.6618364161540132,
            0.6374892281517258,
            0.558473157505077,
            0.5425383247521506,
            0.6463324990037662,
            0.5923148890164109,
            0.6296418379091293,
            0.6699515430302722,
            0.6704481110727283,
            0.6569755862456065,
            0.6460251664885451,
            0.6633938969951333,
            0.204089906078661,
            0.6000551290750025,
            0.6623016727070168,
            0.6387822308193429,
            0.6382350053845216,
            0.669873522221877,
            0.6612648108798632,
            0.6257728591101329,
            0.6732711681602197,
            0.6732593710688366,
            0.6671191875551035,
            0.6711696989769852,
            0.6649491399129921,
            0.630310006553703,
            0.5485678082211292,
            0.674264813938614,
            0.6738057019815274,
            0.6619755705329539,
            0.6670020294814724,
            0.6528488716600044,
            0.3008666875489853,
            0.6664701629915408,
            0.6408539497703959,
            0.6611574316282581,
            0.6553997978839365,
            0.6677006861994463,
            0.6730528692570746,
            0.6701796530549886,
            0.6671531982732731,
            0.6704875902922864,
            0.5999980793404206,
            0.6753365308445684,
            0.6749125545270939,
            0.6451993651379004,
            0.6444867042948778,
            0.6739083015419081,
            0.6739083015419081,
            0.6732711681602197,
            0.6741348667843952,
            0.6701796530549886,
            0.5572867016519153,
            0.6705513885590212,
            0.6623016727070168,
            0.6705404257414148
           ]
          },
          {
           "label": "max_depth",
           "range": [
            1,
            10
           ],
           "values": [
            2,
            4,
            7,
            5,
            4,
            8,
            7,
            8,
            6,
            10,
            10,
            10,
            10,
            10,
            9,
            1,
            9,
            8,
            9,
            9,
            6,
            10,
            9,
            10,
            8,
            7,
            9,
            10,
            10,
            3,
            8,
            9,
            10,
            10,
            10,
            7,
            4,
            5,
            3,
            8,
            9,
            10,
            10,
            10,
            9,
            10,
            10,
            9,
            8,
            10,
            10,
            10,
            10,
            9,
            10,
            9,
            1,
            6,
            10,
            9,
            8,
            10,
            10,
            9,
            10,
            10,
            9,
            10,
            9,
            7,
            10,
            10,
            10,
            10,
            9,
            10,
            2,
            9,
            10,
            10,
            8,
            10,
            10,
            10,
            9,
            10,
            9,
            10,
            10,
            10,
            9,
            10,
            10,
            10,
            10,
            10,
            5,
            9,
            10,
            10
           ]
          },
          {
           "label": "min_samples_leaf",
           "range": [
            1,
            20
           ],
           "values": [
            11,
            20,
            2,
            5,
            14,
            10,
            11,
            16,
            19,
            17,
            1,
            1,
            1,
            5,
            5,
            3,
            9,
            7,
            1,
            3,
            7,
            1,
            3,
            1,
            4,
            8,
            6,
            2,
            3,
            12,
            4,
            1,
            2,
            2,
            2,
            4,
            2,
            6,
            13,
            4,
            2,
            2,
            2,
            5,
            1,
            3,
            15,
            19,
            1,
            10,
            6,
            2,
            2,
            3,
            4,
            1,
            2,
            1,
            3,
            5,
            4,
            2,
            3,
            2,
            1,
            1,
            1,
            1,
            1,
            1,
            17,
            1,
            1,
            3,
            1,
            3,
            1,
            2,
            5,
            3,
            1,
            2,
            1,
            2,
            1,
            2,
            9,
            1,
            1,
            1,
            4,
            1,
            1,
            1,
            1,
            2,
            3,
            1,
            3,
            2
           ]
          },
          {
           "label": "min_samples_split",
           "range": [
            2,
            20
           ],
           "values": [
            4,
            17,
            4,
            17,
            11,
            13,
            2,
            13,
            16,
            4,
            8,
            9,
            8,
            8,
            7,
            7,
            10,
            13,
            6,
            20,
            6,
            6,
            5,
            3,
            2,
            2,
            6,
            3,
            3,
            4,
            3,
            5,
            5,
            3,
            5,
            4,
            3,
            5,
            10,
            2,
            12,
            3,
            4,
            3,
            7,
            15,
            2,
            4,
            6,
            5,
            9,
            4,
            3,
            3,
            2,
            7,
            3,
            6,
            5,
            2,
            8,
            4,
            4,
            19,
            4,
            3,
            5,
            6,
            6,
            7,
            8,
            3,
            5,
            2,
            4,
            5,
            3,
            2,
            4,
            5,
            3,
            6,
            4,
            4,
            3,
            5,
            3,
            4,
            2,
            14,
            2,
            4,
            4,
            4,
            2,
            2,
            4,
            2,
            3,
            5
           ]
          },
          {
           "label": "n_estimators",
           "range": [
            10,
            100
           ],
           "values": [
            100,
            82,
            80,
            100,
            100,
            29,
            29,
            60,
            17,
            66,
            76,
            76,
            78,
            51,
            52,
            86,
            72,
            42,
            87,
            90,
            67,
            90,
            91,
            91,
            92,
            86,
            94,
            70,
            59,
            70,
            42,
            85,
            83,
            81,
            95,
            82,
            99,
            81,
            98,
            75,
            82,
            67,
            90,
            73,
            61,
            79,
            95,
            84,
            10,
            79,
            69,
            91,
            89,
            88,
            63,
            75,
            97,
            88,
            84,
            77,
            93,
            90,
            100,
            88,
            93,
            95,
            95,
            96,
            97,
            94,
            85,
            92,
            100,
            92,
            99,
            26,
            100,
            82,
            43,
            93,
            86,
            96,
            97,
            92,
            98,
            90,
            94,
            83,
            87,
            87,
            97,
            91,
            91,
            93,
            91,
            92,
            86,
            89,
            84,
            91
           ]
          }
         ],
         "labelangle": 30,
         "labelside": "bottom",
         "line": {
          "color": [
           0.30069445199241474,
           0.47941031605122697,
           0.6326214754530122,
           0.5504002814025133,
           0.48116529099855976,
           0.5893886510726569,
           0.5798812924723258,
           0.5554458304300353,
           0.5432050484596849,
           0.5506430878959474,
           0.6654581790305929,
           0.662637385000217,
           0.6652676557322641,
           0.6409627433158525,
           0.6394173474724305,
           0.20411625481322743,
           0.6012061597973017,
           0.6129029165823402,
           0.6666047976294432,
           0.620135008119499,
           0.5861797888665464,
           0.6721043492089376,
           0.6573782300688931,
           0.6741096055945517,
           0.6391059504420522,
           0.595384247954614,
           0.628142105581675,
           0.6703830471580625,
           0.6609061247036205,
           0.429756741588604,
           0.6363158349958283,
           0.6689506795525124,
           0.6717006871795526,
           0.6717620868696869,
           0.669384714208773,
           0.6209719285452476,
           0.4923991971823455,
           0.5531480981370126,
           0.42648977905895685,
           0.6384582162890007,
           0.6496089548786401,
           0.6698265778875822,
           0.669873522221877,
           0.6425863630614422,
           0.6618364161540132,
           0.6374892281517258,
           0.558473157505077,
           0.5425383247521506,
           0.6463324990037662,
           0.5923148890164109,
           0.6296418379091293,
           0.6699515430302722,
           0.6704481110727283,
           0.6569755862456065,
           0.6460251664885451,
           0.6633938969951333,
           0.204089906078661,
           0.6000551290750025,
           0.6623016727070168,
           0.6387822308193429,
           0.6382350053845216,
           0.669873522221877,
           0.6612648108798632,
           0.6257728591101329,
           0.6732711681602197,
           0.6732593710688366,
           0.6671191875551035,
           0.6711696989769852,
           0.6649491399129921,
           0.630310006553703,
           0.5485678082211292,
           0.674264813938614,
           0.6738057019815274,
           0.6619755705329539,
           0.6670020294814724,
           0.6528488716600044,
           0.3008666875489853,
           0.6664701629915408,
           0.6408539497703959,
           0.6611574316282581,
           0.6553997978839365,
           0.6677006861994463,
           0.6730528692570746,
           0.6701796530549886,
           0.6671531982732731,
           0.6704875902922864,
           0.5999980793404206,
           0.6753365308445684,
           0.6749125545270939,
           0.6451993651379004,
           0.6444867042948778,
           0.6739083015419081,
           0.6739083015419081,
           0.6732711681602197,
           0.6741348667843952,
           0.6701796530549886,
           0.5572867016519153,
           0.6705513885590212,
           0.6623016727070168,
           0.6705404257414148
          ],
          "colorbar": {
           "title": {
            "text": "Objective Value"
           }
          },
          "colorscale": [
           [
            0,
            "rgb(247,251,255)"
           ],
           [
            0.125,
            "rgb(222,235,247)"
           ],
           [
            0.25,
            "rgb(198,219,239)"
           ],
           [
            0.375,
            "rgb(158,202,225)"
           ],
           [
            0.5,
            "rgb(107,174,214)"
           ],
           [
            0.625,
            "rgb(66,146,198)"
           ],
           [
            0.75,
            "rgb(33,113,181)"
           ],
           [
            0.875,
            "rgb(8,81,156)"
           ],
           [
            1,
            "rgb(8,48,107)"
           ]
          ],
          "reversescale": false,
          "showscale": true
         },
         "type": "parcoords"
        }
       ],
       "layout": {
        "template": {
         "data": {
          "bar": [
           {
            "error_x": {
             "color": "#2a3f5f"
            },
            "error_y": {
             "color": "#2a3f5f"
            },
            "marker": {
             "line": {
              "color": "#E5ECF6",
              "width": 0.5
             },
             "pattern": {
              "fillmode": "overlay",
              "size": 10,
              "solidity": 0.2
             }
            },
            "type": "bar"
           }
          ],
          "barpolar": [
           {
            "marker": {
             "line": {
              "color": "#E5ECF6",
              "width": 0.5
             },
             "pattern": {
              "fillmode": "overlay",
              "size": 10,
              "solidity": 0.2
             }
            },
            "type": "barpolar"
           }
          ],
          "carpet": [
           {
            "aaxis": {
             "endlinecolor": "#2a3f5f",
             "gridcolor": "white",
             "linecolor": "white",
             "minorgridcolor": "white",
             "startlinecolor": "#2a3f5f"
            },
            "baxis": {
             "endlinecolor": "#2a3f5f",
             "gridcolor": "white",
             "linecolor": "white",
             "minorgridcolor": "white",
             "startlinecolor": "#2a3f5f"
            },
            "type": "carpet"
           }
          ],
          "choropleth": [
           {
            "colorbar": {
             "outlinewidth": 0,
             "ticks": ""
            },
            "type": "choropleth"
           }
          ],
          "contour": [
           {
            "colorbar": {
             "outlinewidth": 0,
             "ticks": ""
            },
            "colorscale": [
             [
              0,
              "#0d0887"
             ],
             [
              0.1111111111111111,
              "#46039f"
             ],
             [
              0.2222222222222222,
              "#7201a8"
             ],
             [
              0.3333333333333333,
              "#9c179e"
             ],
             [
              0.4444444444444444,
              "#bd3786"
             ],
             [
              0.5555555555555556,
              "#d8576b"
             ],
             [
              0.6666666666666666,
              "#ed7953"
             ],
             [
              0.7777777777777778,
              "#fb9f3a"
             ],
             [
              0.8888888888888888,
              "#fdca26"
             ],
             [
              1,
              "#f0f921"
             ]
            ],
            "type": "contour"
           }
          ],
          "contourcarpet": [
           {
            "colorbar": {
             "outlinewidth": 0,
             "ticks": ""
            },
            "type": "contourcarpet"
           }
          ],
          "heatmap": [
           {
            "colorbar": {
             "outlinewidth": 0,
             "ticks": ""
            },
            "colorscale": [
             [
              0,
              "#0d0887"
             ],
             [
              0.1111111111111111,
              "#46039f"
             ],
             [
              0.2222222222222222,
              "#7201a8"
             ],
             [
              0.3333333333333333,
              "#9c179e"
             ],
             [
              0.4444444444444444,
              "#bd3786"
             ],
             [
              0.5555555555555556,
              "#d8576b"
             ],
             [
              0.6666666666666666,
              "#ed7953"
             ],
             [
              0.7777777777777778,
              "#fb9f3a"
             ],
             [
              0.8888888888888888,
              "#fdca26"
             ],
             [
              1,
              "#f0f921"
             ]
            ],
            "type": "heatmap"
           }
          ],
          "heatmapgl": [
           {
            "colorbar": {
             "outlinewidth": 0,
             "ticks": ""
            },
            "colorscale": [
             [
              0,
              "#0d0887"
             ],
             [
              0.1111111111111111,
              "#46039f"
             ],
             [
              0.2222222222222222,
              "#7201a8"
             ],
             [
              0.3333333333333333,
              "#9c179e"
             ],
             [
              0.4444444444444444,
              "#bd3786"
             ],
             [
              0.5555555555555556,
              "#d8576b"
             ],
             [
              0.6666666666666666,
              "#ed7953"
             ],
             [
              0.7777777777777778,
              "#fb9f3a"
             ],
             [
              0.8888888888888888,
              "#fdca26"
             ],
             [
              1,
              "#f0f921"
             ]
            ],
            "type": "heatmapgl"
           }
          ],
          "histogram": [
           {
            "marker": {
             "pattern": {
              "fillmode": "overlay",
              "size": 10,
              "solidity": 0.2
             }
            },
            "type": "histogram"
           }
          ],
          "histogram2d": [
           {
            "colorbar": {
             "outlinewidth": 0,
             "ticks": ""
            },
            "colorscale": [
             [
              0,
              "#0d0887"
             ],
             [
              0.1111111111111111,
              "#46039f"
             ],
             [
              0.2222222222222222,
              "#7201a8"
             ],
             [
              0.3333333333333333,
              "#9c179e"
             ],
             [
              0.4444444444444444,
              "#bd3786"
             ],
             [
              0.5555555555555556,
              "#d8576b"
             ],
             [
              0.6666666666666666,
              "#ed7953"
             ],
             [
              0.7777777777777778,
              "#fb9f3a"
             ],
             [
              0.8888888888888888,
              "#fdca26"
             ],
             [
              1,
              "#f0f921"
             ]
            ],
            "type": "histogram2d"
           }
          ],
          "histogram2dcontour": [
           {
            "colorbar": {
             "outlinewidth": 0,
             "ticks": ""
            },
            "colorscale": [
             [
              0,
              "#0d0887"
             ],
             [
              0.1111111111111111,
              "#46039f"
             ],
             [
              0.2222222222222222,
              "#7201a8"
             ],
             [
              0.3333333333333333,
              "#9c179e"
             ],
             [
              0.4444444444444444,
              "#bd3786"
             ],
             [
              0.5555555555555556,
              "#d8576b"
             ],
             [
              0.6666666666666666,
              "#ed7953"
             ],
             [
              0.7777777777777778,
              "#fb9f3a"
             ],
             [
              0.8888888888888888,
              "#fdca26"
             ],
             [
              1,
              "#f0f921"
             ]
            ],
            "type": "histogram2dcontour"
           }
          ],
          "mesh3d": [
           {
            "colorbar": {
             "outlinewidth": 0,
             "ticks": ""
            },
            "type": "mesh3d"
           }
          ],
          "parcoords": [
           {
            "line": {
             "colorbar": {
              "outlinewidth": 0,
              "ticks": ""
             }
            },
            "type": "parcoords"
           }
          ],
          "pie": [
           {
            "automargin": true,
            "type": "pie"
           }
          ],
          "scatter": [
           {
            "marker": {
             "colorbar": {
              "outlinewidth": 0,
              "ticks": ""
             }
            },
            "type": "scatter"
           }
          ],
          "scatter3d": [
           {
            "line": {
             "colorbar": {
              "outlinewidth": 0,
              "ticks": ""
             }
            },
            "marker": {
             "colorbar": {
              "outlinewidth": 0,
              "ticks": ""
             }
            },
            "type": "scatter3d"
           }
          ],
          "scattercarpet": [
           {
            "marker": {
             "colorbar": {
              "outlinewidth": 0,
              "ticks": ""
             }
            },
            "type": "scattercarpet"
           }
          ],
          "scattergeo": [
           {
            "marker": {
             "colorbar": {
              "outlinewidth": 0,
              "ticks": ""
             }
            },
            "type": "scattergeo"
           }
          ],
          "scattergl": [
           {
            "marker": {
             "colorbar": {
              "outlinewidth": 0,
              "ticks": ""
             }
            },
            "type": "scattergl"
           }
          ],
          "scattermapbox": [
           {
            "marker": {
             "colorbar": {
              "outlinewidth": 0,
              "ticks": ""
             }
            },
            "type": "scattermapbox"
           }
          ],
          "scatterpolar": [
           {
            "marker": {
             "colorbar": {
              "outlinewidth": 0,
              "ticks": ""
             }
            },
            "type": "scatterpolar"
           }
          ],
          "scatterpolargl": [
           {
            "marker": {
             "colorbar": {
              "outlinewidth": 0,
              "ticks": ""
             }
            },
            "type": "scatterpolargl"
           }
          ],
          "scatterternary": [
           {
            "marker": {
             "colorbar": {
              "outlinewidth": 0,
              "ticks": ""
             }
            },
            "type": "scatterternary"
           }
          ],
          "surface": [
           {
            "colorbar": {
             "outlinewidth": 0,
             "ticks": ""
            },
            "colorscale": [
             [
              0,
              "#0d0887"
             ],
             [
              0.1111111111111111,
              "#46039f"
             ],
             [
              0.2222222222222222,
              "#7201a8"
             ],
             [
              0.3333333333333333,
              "#9c179e"
             ],
             [
              0.4444444444444444,
              "#bd3786"
             ],
             [
              0.5555555555555556,
              "#d8576b"
             ],
             [
              0.6666666666666666,
              "#ed7953"
             ],
             [
              0.7777777777777778,
              "#fb9f3a"
             ],
             [
              0.8888888888888888,
              "#fdca26"
             ],
             [
              1,
              "#f0f921"
             ]
            ],
            "type": "surface"
           }
          ],
          "table": [
           {
            "cells": {
             "fill": {
              "color": "#EBF0F8"
             },
             "line": {
              "color": "white"
             }
            },
            "header": {
             "fill": {
              "color": "#C8D4E3"
             },
             "line": {
              "color": "white"
             }
            },
            "type": "table"
           }
          ]
         },
         "layout": {
          "annotationdefaults": {
           "arrowcolor": "#2a3f5f",
           "arrowhead": 0,
           "arrowwidth": 1
          },
          "autotypenumbers": "strict",
          "coloraxis": {
           "colorbar": {
            "outlinewidth": 0,
            "ticks": ""
           }
          },
          "colorscale": {
           "diverging": [
            [
             0,
             "#8e0152"
            ],
            [
             0.1,
             "#c51b7d"
            ],
            [
             0.2,
             "#de77ae"
            ],
            [
             0.3,
             "#f1b6da"
            ],
            [
             0.4,
             "#fde0ef"
            ],
            [
             0.5,
             "#f7f7f7"
            ],
            [
             0.6,
             "#e6f5d0"
            ],
            [
             0.7,
             "#b8e186"
            ],
            [
             0.8,
             "#7fbc41"
            ],
            [
             0.9,
             "#4d9221"
            ],
            [
             1,
             "#276419"
            ]
           ],
           "sequential": [
            [
             0,
             "#0d0887"
            ],
            [
             0.1111111111111111,
             "#46039f"
            ],
            [
             0.2222222222222222,
             "#7201a8"
            ],
            [
             0.3333333333333333,
             "#9c179e"
            ],
            [
             0.4444444444444444,
             "#bd3786"
            ],
            [
             0.5555555555555556,
             "#d8576b"
            ],
            [
             0.6666666666666666,
             "#ed7953"
            ],
            [
             0.7777777777777778,
             "#fb9f3a"
            ],
            [
             0.8888888888888888,
             "#fdca26"
            ],
            [
             1,
             "#f0f921"
            ]
           ],
           "sequentialminus": [
            [
             0,
             "#0d0887"
            ],
            [
             0.1111111111111111,
             "#46039f"
            ],
            [
             0.2222222222222222,
             "#7201a8"
            ],
            [
             0.3333333333333333,
             "#9c179e"
            ],
            [
             0.4444444444444444,
             "#bd3786"
            ],
            [
             0.5555555555555556,
             "#d8576b"
            ],
            [
             0.6666666666666666,
             "#ed7953"
            ],
            [
             0.7777777777777778,
             "#fb9f3a"
            ],
            [
             0.8888888888888888,
             "#fdca26"
            ],
            [
             1,
             "#f0f921"
            ]
           ]
          },
          "colorway": [
           "#636efa",
           "#EF553B",
           "#00cc96",
           "#ab63fa",
           "#FFA15A",
           "#19d3f3",
           "#FF6692",
           "#B6E880",
           "#FF97FF",
           "#FECB52"
          ],
          "font": {
           "color": "#2a3f5f"
          },
          "geo": {
           "bgcolor": "white",
           "lakecolor": "white",
           "landcolor": "#E5ECF6",
           "showlakes": true,
           "showland": true,
           "subunitcolor": "white"
          },
          "hoverlabel": {
           "align": "left"
          },
          "hovermode": "closest",
          "mapbox": {
           "style": "light"
          },
          "paper_bgcolor": "white",
          "plot_bgcolor": "#E5ECF6",
          "polar": {
           "angularaxis": {
            "gridcolor": "white",
            "linecolor": "white",
            "ticks": ""
           },
           "bgcolor": "#E5ECF6",
           "radialaxis": {
            "gridcolor": "white",
            "linecolor": "white",
            "ticks": ""
           }
          },
          "scene": {
           "xaxis": {
            "backgroundcolor": "#E5ECF6",
            "gridcolor": "white",
            "gridwidth": 2,
            "linecolor": "white",
            "showbackground": true,
            "ticks": "",
            "zerolinecolor": "white"
           },
           "yaxis": {
            "backgroundcolor": "#E5ECF6",
            "gridcolor": "white",
            "gridwidth": 2,
            "linecolor": "white",
            "showbackground": true,
            "ticks": "",
            "zerolinecolor": "white"
           },
           "zaxis": {
            "backgroundcolor": "#E5ECF6",
            "gridcolor": "white",
            "gridwidth": 2,
            "linecolor": "white",
            "showbackground": true,
            "ticks": "",
            "zerolinecolor": "white"
           }
          },
          "shapedefaults": {
           "line": {
            "color": "#2a3f5f"
           }
          },
          "ternary": {
           "aaxis": {
            "gridcolor": "white",
            "linecolor": "white",
            "ticks": ""
           },
           "baxis": {
            "gridcolor": "white",
            "linecolor": "white",
            "ticks": ""
           },
           "bgcolor": "#E5ECF6",
           "caxis": {
            "gridcolor": "white",
            "linecolor": "white",
            "ticks": ""
           }
          },
          "title": {
           "x": 0.05
          },
          "xaxis": {
           "automargin": true,
           "gridcolor": "white",
           "linecolor": "white",
           "ticks": "",
           "title": {
            "standoff": 15
           },
           "zerolinecolor": "white",
           "zerolinewidth": 2
          },
          "yaxis": {
           "automargin": true,
           "gridcolor": "white",
           "linecolor": "white",
           "ticks": "",
           "title": {
            "standoff": 15
           },
           "zerolinecolor": "white",
           "zerolinewidth": 2
          }
         }
        },
        "title": {
         "text": "Parallel Coordinate Plot"
        }
       }
      }
     },
     "metadata": {},
     "output_type": "display_data"
    }
   ],
   "source": [
    "optuna.visualization.plot_parallel_coordinate(study)"
   ]
  },
  {
   "cell_type": "code",
   "execution_count": 46,
   "id": "1d419df8",
   "metadata": {},
   "outputs": [
    {
     "name": "stdout",
     "output_type": "stream",
     "text": [
      "Best trial: {'n_estimators': 83, 'max_depth': 10, 'min_samples_leaf': 1, 'min_samples_split': 4}\n"
     ]
    },
    {
     "data": {
      "text/plain": [
       "83"
      ]
     },
     "execution_count": 46,
     "metadata": {},
     "output_type": "execute_result"
    }
   ],
   "source": [
    "print(\"Best trial:\", study.best_trial.params)\n",
    "study.best_trial.params[\"n_estimators\"]"
   ]
  },
  {
   "cell_type": "code",
   "execution_count": 47,
   "id": "ffefef6c",
   "metadata": {},
   "outputs": [
    {
     "data": {
      "text/html": [
       "<style>#sk-container-id-3 {color: black;}#sk-container-id-3 pre{padding: 0;}#sk-container-id-3 div.sk-toggleable {background-color: white;}#sk-container-id-3 label.sk-toggleable__label {cursor: pointer;display: block;width: 100%;margin-bottom: 0;padding: 0.3em;box-sizing: border-box;text-align: center;}#sk-container-id-3 label.sk-toggleable__label-arrow:before {content: \"▸\";float: left;margin-right: 0.25em;color: #696969;}#sk-container-id-3 label.sk-toggleable__label-arrow:hover:before {color: black;}#sk-container-id-3 div.sk-estimator:hover label.sk-toggleable__label-arrow:before {color: black;}#sk-container-id-3 div.sk-toggleable__content {max-height: 0;max-width: 0;overflow: hidden;text-align: left;background-color: #f0f8ff;}#sk-container-id-3 div.sk-toggleable__content pre {margin: 0.2em;color: black;border-radius: 0.25em;background-color: #f0f8ff;}#sk-container-id-3 input.sk-toggleable__control:checked~div.sk-toggleable__content {max-height: 200px;max-width: 100%;overflow: auto;}#sk-container-id-3 input.sk-toggleable__control:checked~label.sk-toggleable__label-arrow:before {content: \"▾\";}#sk-container-id-3 div.sk-estimator input.sk-toggleable__control:checked~label.sk-toggleable__label {background-color: #d4ebff;}#sk-container-id-3 div.sk-label input.sk-toggleable__control:checked~label.sk-toggleable__label {background-color: #d4ebff;}#sk-container-id-3 input.sk-hidden--visually {border: 0;clip: rect(1px 1px 1px 1px);clip: rect(1px, 1px, 1px, 1px);height: 1px;margin: -1px;overflow: hidden;padding: 0;position: absolute;width: 1px;}#sk-container-id-3 div.sk-estimator {font-family: monospace;background-color: #f0f8ff;border: 1px dotted black;border-radius: 0.25em;box-sizing: border-box;margin-bottom: 0.5em;}#sk-container-id-3 div.sk-estimator:hover {background-color: #d4ebff;}#sk-container-id-3 div.sk-parallel-item::after {content: \"\";width: 100%;border-bottom: 1px solid gray;flex-grow: 1;}#sk-container-id-3 div.sk-label:hover label.sk-toggleable__label {background-color: #d4ebff;}#sk-container-id-3 div.sk-serial::before {content: \"\";position: absolute;border-left: 1px solid gray;box-sizing: border-box;top: 0;bottom: 0;left: 50%;z-index: 0;}#sk-container-id-3 div.sk-serial {display: flex;flex-direction: column;align-items: center;background-color: white;padding-right: 0.2em;padding-left: 0.2em;position: relative;}#sk-container-id-3 div.sk-item {position: relative;z-index: 1;}#sk-container-id-3 div.sk-parallel {display: flex;align-items: stretch;justify-content: center;background-color: white;position: relative;}#sk-container-id-3 div.sk-item::before, #sk-container-id-3 div.sk-parallel-item::before {content: \"\";position: absolute;border-left: 1px solid gray;box-sizing: border-box;top: 0;bottom: 0;left: 50%;z-index: -1;}#sk-container-id-3 div.sk-parallel-item {display: flex;flex-direction: column;z-index: 1;position: relative;background-color: white;}#sk-container-id-3 div.sk-parallel-item:first-child::after {align-self: flex-end;width: 50%;}#sk-container-id-3 div.sk-parallel-item:last-child::after {align-self: flex-start;width: 50%;}#sk-container-id-3 div.sk-parallel-item:only-child::after {width: 0;}#sk-container-id-3 div.sk-dashed-wrapped {border: 1px dashed gray;margin: 0 0.4em 0.5em 0.4em;box-sizing: border-box;padding-bottom: 0.4em;background-color: white;}#sk-container-id-3 div.sk-label label {font-family: monospace;font-weight: bold;display: inline-block;line-height: 1.2em;}#sk-container-id-3 div.sk-label-container {text-align: center;}#sk-container-id-3 div.sk-container {/* jupyter's `normalize.less` sets `[hidden] { display: none; }` but bootstrap.min.css set `[hidden] { display: none !important; }` so we also need the `!important` here to be able to override the default hidden behavior on the sphinx rendered scikit-learn.org. See: https://github.com/scikit-learn/scikit-learn/issues/21755 */display: inline-block !important;position: relative;}#sk-container-id-3 div.sk-text-repr-fallback {display: none;}</style><div id=\"sk-container-id-3\" class=\"sk-top-container\"><div class=\"sk-text-repr-fallback\"><pre>RandomForestRegressor(max_depth=10, min_samples_split=4, n_estimators=83,\n",
       "                      random_state=42)</pre><b>In a Jupyter environment, please rerun this cell to show the HTML representation or trust the notebook. <br />On GitHub, the HTML representation is unable to render, please try loading this page with nbviewer.org.</b></div><div class=\"sk-container\" hidden><div class=\"sk-item\"><div class=\"sk-estimator sk-toggleable\"><input class=\"sk-toggleable__control sk-hidden--visually\" id=\"sk-estimator-id-3\" type=\"checkbox\" checked><label for=\"sk-estimator-id-3\" class=\"sk-toggleable__label sk-toggleable__label-arrow\">RandomForestRegressor</label><div class=\"sk-toggleable__content\"><pre>RandomForestRegressor(max_depth=10, min_samples_split=4, n_estimators=83,\n",
       "                      random_state=42)</pre></div></div></div></div></div>"
      ],
      "text/plain": [
       "RandomForestRegressor(max_depth=10, min_samples_split=4, n_estimators=83,\n",
       "                      random_state=42)"
      ]
     },
     "execution_count": 47,
     "metadata": {},
     "output_type": "execute_result"
    }
   ],
   "source": [
    "rf_params = {\n",
    "    \"random_state\": 42,\n",
    "    #\"learning_rate\": 0.1,\n",
    "    \"n_estimators\": study.best_trial.params[\"n_estimators\"],\n",
    "    \"max_depth\": study.best_trial.params[\"max_depth\"],\n",
    "    \"min_samples_leaf\": study.best_trial.params[\"min_samples_leaf\"],\n",
    "    \"min_samples_split\": study.best_trial.params[\"min_samples_split\"],\n",
    "    #\"subsample\": study.best_trial.params[\"subsample\"]\n",
    "}\n",
    "\n",
    "rf = RandomForestRegressor(**rf_params)\n",
    "rf.fit(Ni_X_train, Ni_y_train)"
   ]
  },
  {
   "cell_type": "code",
   "execution_count": 48,
   "id": "4c1a69d2",
   "metadata": {},
   "outputs": [],
   "source": [
    "y_train_pred = rf.predict(Ni_X_train)\n",
    "y_test_pred = rf.predict(Ni_X_test)"
   ]
  },
  {
   "cell_type": "code",
   "execution_count": 49,
   "id": "0f707a20",
   "metadata": {},
   "outputs": [
    {
     "name": "stdout",
     "output_type": "stream",
     "text": [
      "Train RMSE:  0.3370801216258524\n",
      "Test RMSE:  1.0278470751089486\n"
     ]
    }
   ],
   "source": [
    "print(\"Train RMSE: \", np.sqrt(mean_squared_error(Ni_y_train, y_train_pred)))\n",
    "print(\"Test RMSE: \", np.sqrt(mean_squared_error(Ni_y_test, y_test_pred)))"
   ]
  },
  {
   "cell_type": "code",
   "execution_count": 50,
   "id": "641d78f4",
   "metadata": {},
   "outputs": [
    {
     "name": "stdout",
     "output_type": "stream",
     "text": [
      "Train R2:  0.9207130873242295\n",
      "Test R2:  0.25064650799637134\n"
     ]
    }
   ],
   "source": [
    "print(\"Train R2: \", r2_score(Ni_y_train, y_train_pred))\n",
    "print(\"Test R2: \", r2_score(Ni_y_test, y_test_pred))"
   ]
  },
  {
   "cell_type": "code",
   "execution_count": 51,
   "id": "dd1670cb",
   "metadata": {},
   "outputs": [
    {
     "data": {
      "image/png": "[encoded data removed]",
      "text/plain": [
       "<Figure size 640x480 with 1 Axes>"
      ]
     },
     "metadata": {},
     "output_type": "display_data"
    }
   ],
   "source": [
    "plt.scatter(y_train_pred, np.array(Ni_y_train), color=\"orange\", alpha=0.3)\n",
    "plt.scatter(y_test_pred, np.array(Ni_y_test), color=\"green\", alpha=0.4)\n",
    "plt.axis(\"auto\") # scaled, tight, auto, image, square\n",
    "# plt.xlim([0, 1.5]) \n",
    "# plt.ylim(0, None) \n",
    "plt.xlabel('Predicted Values')\n",
    "plt.ylabel('Actual Values')\n",
    "\n",
    "# Add y=x line\n",
    "plt.plot([0, 4.0], [0, 4.0], color='red', linestyle='-')\n",
    "\n",
    "plt.show()"
   ]
  }
 ],
 "metadata": {
  "kernelspec": {
   "display_name": "base",
   "language": "python",
   "name": "python3"
  },
  "language_info": {
   "codemirror_mode": {
    "name": "ipython",
    "version": 3
   },
   "file_extension": ".py",
   "mimetype": "text/x-python",
   "name": "python",
   "nbconvert_exporter": "python",
   "pygments_lexer": "ipython3",
   "version": "3.8.11"
  },
  "vscode": {
   "interpreter": {
    "hash": "ba68d4d491ed2bf1e98a1b536323f5ca7371de2084cca3d5786e07ce079a51c3"
   }
  }
 },
 "nbformat": 4,
 "nbformat_minor": 5
}
