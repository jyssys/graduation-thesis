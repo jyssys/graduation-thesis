{
 "cells": [
  {
   "attachments": {},
   "cell_type": "markdown",
   "id": "451911be",
   "metadata": {},
   "source": [
    "#### Library import"
   ]
  },
  {
   "cell_type": "code",
   "execution_count": 1,
   "id": "8a394942",
   "metadata": {},
   "outputs": [],
   "source": [
    "import os\n",
    "import pandas as pd\n",
    "import numpy as np\n",
    "import matplotlib.pyplot as plt\n",
    "%matplotlib inline\n",
    "import seaborn as sns\n",
    "import tensorflow as tf\n",
    "import missingno as msno\n",
    "\n",
    "import warnings\n",
    "warnings.filterwarnings('ignore')\n",
    "\n",
    "from sklearn.model_selection import train_test_split\n",
    "from sklearn.model_selection import GridSearchCV\n",
    "from sklearn.metrics import mean_squared_error, r2_score\n",
    "from sklearn.preprocessing import StandardScaler, MinMaxScaler, RobustScaler\n",
    "from sklearn.ensemble import RandomForestRegressor, GradientBoostingRegressor, ExtraTreesRegressor\n",
    "from sklearn.model_selection import KFold\n",
    "from lightgbm import LGBMRegressor\n",
    "from xgboost import XGBRegressor\n",
    "from ngboost import NGBRegressor\n",
    "from scipy.stats import norm, skew\n",
    "\n",
    "from matplotlib.ticker import FormatStrFormatter\n",
    "\n",
    "from tensorflow import keras\n",
    "\n",
    "import re\n",
    "from tqdm import tqdm"
   ]
  },
  {
   "attachments": {},
   "cell_type": "markdown",
   "id": "31a13d68",
   "metadata": {},
   "source": [
    "#### GPU setting"
   ]
  },
  {
   "cell_type": "code",
   "execution_count": 2,
   "id": "cff3cada",
   "metadata": {},
   "outputs": [],
   "source": [
    "from tensorflow.compat.v1 import ConfigProto\n",
    "from tensorflow.compat.v1 import InteractiveSession"
   ]
  },
  {
   "cell_type": "code",
   "execution_count": 3,
   "id": "fb88e9c0",
   "metadata": {},
   "outputs": [],
   "source": [
    "config = ConfigProto()\n",
    "config.gpu_options.per_process_gpu_memory_fraction = 0.4\n",
    "session = InteractiveSession(config = config)"
   ]
  },
  {
   "cell_type": "code",
   "execution_count": 4,
   "id": "ea8f0f47",
   "metadata": {},
   "outputs": [
    {
     "name": "stdout",
     "output_type": "stream",
     "text": [
      "[name: \"/device:CPU:0\"\n",
      "device_type: \"CPU\"\n",
      "memory_limit: 268435456\n",
      "locality {\n",
      "}\n",
      "incarnation: 16783146665496171746\n",
      ", name: \"/device:GPU:0\"\n",
      "device_type: \"GPU\"\n",
      "memory_limit: 3435973836\n",
      "locality {\n",
      "  bus_id: 1\n",
      "  links {\n",
      "  }\n",
      "}\n",
      "incarnation: 9386132246033675665\n",
      "physical_device_desc: \"device: 0, name: NVIDIA GeForce RTX 3060 Ti, pci bus id: 0000:07:00.0, compute capability: 8.6\"\n",
      "]\n"
     ]
    }
   ],
   "source": [
    "physical_devices = tf.config.list_physical_devices('GPU')\n",
    "physical_devices\n",
    "\n",
    "from tensorflow.python.client import device_lib\n",
    "\n",
    "print(device_lib.list_local_devices())"
   ]
  },
  {
   "cell_type": "code",
   "execution_count": 5,
   "id": "cd001f36",
   "metadata": {},
   "outputs": [],
   "source": [
    "import os\n",
    "\n",
    "os.environ[\"CUDA_VISIBLE_DEVICES\"]=\"0\"\n",
    "gpus = tf.config.experimental.list_physical_devices('GPU')\n",
    "if gpus:\n",
    "    try:\n",
    "        tf.config.experimental.set_memory_growth(gpus[0], True)\n",
    "    except RuntimeError as e:\n",
    "        print(e)"
   ]
  },
  {
   "attachments": {},
   "cell_type": "markdown",
   "id": "cb740f81",
   "metadata": {},
   "source": [
    "#### Data import and preprocessing"
   ]
  },
  {
   "cell_type": "code",
   "execution_count": 6,
   "id": "9288345d",
   "metadata": {
    "scrolled": true
   },
   "outputs": [
    {
     "data": {
      "text/plain": [
       "Index(['OBJECTID_x', 'ID', 'pH', 'As', 'Cd', 'Ni', 'Pb', 'Zn', 'Hg', 'slope',\n",
       "       'altitude', 'profile_curve', 'profile_c_num', 'profile_c_abs',\n",
       "       'planform_curve', 'planform_c_num', 'planform_c_abs', 'HYDGRP',\n",
       "       'HYDGRP_A', 'HYDGRP_B', 'HYDGRP_C', 'HYDGRP_D', 'ANION_EXCL', 'SOL_CRK',\n",
       "       'SOL_K1', 'CLAY1', 'SILT1', 'SAND1', 'ROCK1', 'SOL_EC1', 'distance'],\n",
       "      dtype='object')"
      ]
     },
     "execution_count": 6,
     "metadata": {},
     "output_type": "execute_result"
    }
   ],
   "source": [
    "data = pd.read_csv(\"data/data_kw.csv\")\n",
    "data.columns"
   ]
  },
  {
   "cell_type": "code",
   "execution_count": 7,
   "id": "bbf87a23",
   "metadata": {},
   "outputs": [
    {
     "data": {
      "text/plain": [
       "Index(['pH', 'As', 'Cd', 'Ni', 'Pb', 'Zn', 'Hg', 'slope', 'altitude',\n",
       "       'profile_curve', 'planform_curve', 'HYDGRP_A', 'HYDGRP_B', 'HYDGRP_C',\n",
       "       'HYDGRP_D', 'SOL_K1', 'CLAY1', 'SILT1', 'SAND1', 'ROCK1', 'distance'],\n",
       "      dtype='object')"
      ]
     },
     "execution_count": 7,
     "metadata": {},
     "output_type": "execute_result"
    }
   ],
   "source": [
    "data = data.drop(['OBJECTID_x','ID','HYDGRP','profile_c_num', 'profile_c_abs','planform_c_num', 'planform_c_abs','ANION_EXCL','SOL_CRK','SOL_EC1'], axis = 1)\n",
    "data.columns"
   ]
  },
  {
   "cell_type": "code",
   "execution_count": 8,
   "id": "3cb8e77e",
   "metadata": {},
   "outputs": [],
   "source": [
    "As = data\n",
    "Cd = data\n",
    "Ni = data"
   ]
  },
  {
   "cell_type": "code",
   "execution_count": 9,
   "id": "45ec138e",
   "metadata": {},
   "outputs": [],
   "source": [
    "As = As.drop([\"Cd\", \"Ni\", \"Pb\", \"Zn\", \"Hg\"], axis = 1)\n",
    "Cd = Cd.drop([\"As\", \"Ni\", \"Pb\", \"Zn\", \"Hg\"], axis = 1)\n",
    "Ni = Ni.drop([\"As\", \"Cd\", \"Pb\", \"Zn\", \"Hg\"], axis = 1)"
   ]
  },
  {
   "cell_type": "code",
   "execution_count": 10,
   "id": "69e10383",
   "metadata": {},
   "outputs": [
    {
     "name": "stdout",
     "output_type": "stream",
     "text": [
      "(677, 16)\n",
      "(677, 16)\n",
      "(677, 16)\n"
     ]
    }
   ],
   "source": [
    "print(As.shape)\n",
    "print(Cd.shape)\n",
    "print(Ni.shape)"
   ]
  },
  {
   "attachments": {},
   "cell_type": "markdown",
   "id": "2b5fd2cd",
   "metadata": {},
   "source": [
    "#### Oversampling by SMOGN (SMOTE Regression)"
   ]
  },
  {
   "cell_type": "code",
   "execution_count": 11,
   "id": "b664ef07",
   "metadata": {},
   "outputs": [],
   "source": [
    "import smogn"
   ]
  },
  {
   "cell_type": "code",
   "execution_count": 12,
   "id": "0797c71f",
   "metadata": {},
   "outputs": [
    {
     "name": "stderr",
     "output_type": "stream",
     "text": [
      "dist_matrix:   0%|          | 0/134 [00:00<?, ?it/s]"
     ]
    },
    {
     "name": "stderr",
     "output_type": "stream",
     "text": [
      "dist_matrix: 100%|##########| 134/134 [00:07<00:00, 17.83it/s]\n",
      "synth_matrix: 100%|##########| 134/134 [00:00<00:00, 542.39it/s]\n",
      "r_index: 100%|##########| 70/70 [00:00<00:00, 551.06it/s]\n",
      "dist_matrix: 100%|##########| 159/159 [00:10<00:00, 15.28it/s]\n",
      "synth_matrix: 100%|##########| 159/159 [00:00<00:00, 280.47it/s]\n",
      "r_index: 100%|##########| 47/47 [00:00<00:00, 580.13it/s]\n",
      "dist_matrix: 100%|##########| 127/127 [00:06<00:00, 19.45it/s]\n",
      "synth_matrix: 100%|##########| 127/127 [00:00<00:00, 206.32it/s]\n",
      "r_index: 100%|##########| 38/38 [00:00<00:00, 575.62it/s]\n"
     ]
    }
   ],
   "source": [
    "As_smogn = smogn.smoter(data = As, y = 'As', samp_method = 'balance')\n",
    "Cd_smogn = smogn.smoter(data = Cd, y = 'Cd', samp_method = 'extreme', k = 7)\n",
    "Ni_smogn = smogn.smoter(data = Ni, y = 'Ni', samp_method = 'extreme', k = 3)"
   ]
  },
  {
   "cell_type": "code",
   "execution_count": 13,
   "id": "cba746a8",
   "metadata": {},
   "outputs": [
    {
     "name": "stdout",
     "output_type": "stream",
     "text": [
      "(543, 16)\n",
      "(887, 16)\n",
      "(986, 16)\n"
     ]
    }
   ],
   "source": [
    "print(As_smogn.shape)\n",
    "print(Cd_smogn.shape)\n",
    "print(Ni_smogn.shape)"
   ]
  },
  {
   "cell_type": "code",
   "execution_count": 14,
   "id": "30545018",
   "metadata": {},
   "outputs": [],
   "source": [
    "As_smogn = As_smogn.reset_index(drop = True)\n",
    "Cd_smogn = Cd_smogn.reset_index(drop = True)\n",
    "Ni_smogn = Ni_smogn.reset_index(drop = True)"
   ]
  },
  {
   "attachments": {},
   "cell_type": "markdown",
   "id": "ed72a9b1",
   "metadata": {},
   "source": [
    "#### Eliminate outlier and train / test split"
   ]
  },
  {
   "cell_type": "code",
   "execution_count": 15,
   "id": "43604a42",
   "metadata": {},
   "outputs": [],
   "source": [
    "def eli_outlier(data, value):\n",
    "    q1 = data[value].quantile(0.25)\n",
    "    q3 = data[value].quantile(0.75)\n",
    "\n",
    "    iqr = q3 - q1\n",
    "\n",
    "    q1_condition = data[value] < q1-1.5*iqr\n",
    "    q3_condition = data[value] > q3+1.5*iqr\n",
    "\n",
    "    reset_q1_index = data[q1_condition].index\n",
    "    reset_q3_index = data[q3_condition].index\n",
    "\n",
    "    data.drop(reset_q1_index, inplace = True)\n",
    "    data.drop(reset_q3_index, inplace = True)\n",
    "\n",
    "    return data"
   ]
  },
  {
   "cell_type": "code",
   "execution_count": 16,
   "id": "9b7632f2",
   "metadata": {},
   "outputs": [],
   "source": [
    "As_ros = eli_outlier(As_smogn, \"As\")\n",
    "Cd_ros = eli_outlier(Cd_smogn, \"Cd\")\n",
    "Ni_ros = eli_outlier(Ni_smogn, \"Ni\")"
   ]
  },
  {
   "cell_type": "code",
   "execution_count": 17,
   "id": "f8609469",
   "metadata": {},
   "outputs": [],
   "source": [
    "As_X = As_ros.drop([\"As\"], axis=1)\n",
    "Cd_X = Cd_ros.drop([\"Cd\"], axis=1)\n",
    "Ni_X = Ni_ros.drop([\"Ni\"], axis=1)\n",
    "\n",
    "As_y = As_ros[\"As\"]\n",
    "Cd_y = Cd_ros[\"Cd\"]\n",
    "Ni_y = Ni_ros[\"Ni\"]"
   ]
  },
  {
   "cell_type": "code",
   "execution_count": 18,
   "id": "7237a19a",
   "metadata": {},
   "outputs": [],
   "source": [
    "As_y = np.log1p(As_ros[\"As\"])\n",
    "Cd_y = np.log1p(Cd_ros[\"Cd\"])\n",
    "Ni_y = np.log1p(Ni_ros[\"Ni\"])"
   ]
  },
  {
   "cell_type": "code",
   "execution_count": 19,
   "id": "ce87d06a",
   "metadata": {},
   "outputs": [
    {
     "name": "stdout",
     "output_type": "stream",
     "text": [
      "(481, 15)\n",
      "(813, 15)\n",
      "(979, 15)\n"
     ]
    }
   ],
   "source": [
    "print(As_X.shape)\n",
    "print(Cd_X.shape)\n",
    "print(Ni_X.shape)"
   ]
  },
  {
   "attachments": {},
   "cell_type": "markdown",
   "id": "c92e5bb6",
   "metadata": {},
   "source": [
    "StandardScaler"
   ]
  },
  {
   "cell_type": "code",
   "execution_count": 20,
   "id": "bd26262e",
   "metadata": {},
   "outputs": [],
   "source": [
    "from sklearn.preprocessing import StandardScaler\n",
    "\n",
    "scaler = StandardScaler()\n",
    "\n",
    "As_X_train, As_X_test, As_y_train, As_y_test = train_test_split(As_X, As_y, test_size=0.2, random_state=42)\n",
    "Cd_X_train, Cd_X_test, Cd_y_train, Cd_y_test = train_test_split(Cd_X, Cd_y, test_size=0.2, random_state=42)\n",
    "Ni_X_train, Ni_X_test, Ni_y_train, Ni_y_test = train_test_split(Ni_X, Ni_y, test_size=0.2, random_state=42)\n",
    "\n",
    "As_X_train = scaler.fit_transform(As_X_train)\n",
    "As_X_test = scaler.fit_transform(As_X_test)\n",
    "\n",
    "Cd_X_train = scaler.fit_transform(Cd_X_train)\n",
    "Cd_X_test = scaler.fit_transform(Cd_X_test)\n",
    "\n",
    "Ni_X_train = scaler.fit_transform(Ni_X_train)\n",
    "Ni_X_test = scaler.fit_transform(Ni_X_test)"
   ]
  },
  {
   "cell_type": "code",
   "execution_count": 21,
   "id": "416a7027",
   "metadata": {},
   "outputs": [
    {
     "data": {
      "text/plain": [
       "' from sklearn.preprocessing import StandardScaler\\n\\nscaler = StandardScaler()\\nAs_X_scaled = scaler.fit_transform(As_X)\\nCd_X_scaled = scaler.fit_transform(Cd_X)\\nNi_X_scaled = scaler.fit_transform(Ni_X)\\n\\nAs_X_train, As_X_test, As_y_train, As_y_test = train_test_split(As_X_scaled, As_y, test_size=0.2, random_state=42)\\nCd_X_train, Cd_X_test, Cd_y_train, Cd_y_test = train_test_split(Cd_X_scaled, Cd_y, test_size=0.2, random_state=42)\\nNi_X_train, Ni_X_test, Ni_y_train, Ni_y_test = train_test_split(Ni_X_scaled, Ni_y, test_size=0.2, random_state=42) '"
      ]
     },
     "execution_count": 21,
     "metadata": {},
     "output_type": "execute_result"
    }
   ],
   "source": [
    "''' from sklearn.preprocessing import StandardScaler\n",
    "\n",
    "scaler = StandardScaler()\n",
    "As_X_scaled = scaler.fit_transform(As_X)\n",
    "Cd_X_scaled = scaler.fit_transform(Cd_X)\n",
    "Ni_X_scaled = scaler.fit_transform(Ni_X)\n",
    "\n",
    "As_X_train, As_X_test, As_y_train, As_y_test = train_test_split(As_X_scaled, As_y, test_size=0.2, random_state=42)\n",
    "Cd_X_train, Cd_X_test, Cd_y_train, Cd_y_test = train_test_split(Cd_X_scaled, Cd_y, test_size=0.2, random_state=42)\n",
    "Ni_X_train, Ni_X_test, Ni_y_train, Ni_y_test = train_test_split(Ni_X_scaled, Ni_y, test_size=0.2, random_state=42) '''"
   ]
  },
  {
   "attachments": {},
   "cell_type": "markdown",
   "id": "2fe0d293",
   "metadata": {},
   "source": [
    "MinMaxScaler"
   ]
  },
  {
   "cell_type": "code",
   "execution_count": 22,
   "id": "e8596f9f",
   "metadata": {},
   "outputs": [],
   "source": [
    "# from sklearn.preprocessing import MinMaxScaler\n",
    "\n",
    "# scaler = MinMaxScaler()\n",
    "# As_X_scaled = scaler.fit_transform(As_X)\n",
    "# Cd_X_scaled = scaler.fit_transform(Cd_X)\n",
    "# Ni_X_scaled = scaler.fit_transform(Ni_X)\n",
    "\n",
    "# As_X_train, As_X_test, As_y_train, As_y_test = train_test_split(As_X_scaled, As_y, test_size=0.2, random_state=42)\n",
    "# Cd_X_train, Cd_X_test, Cd_y_train, Cd_y_test = train_test_split(Cd_X_scaled, Cd_y, test_size=0.2, random_state=42)\n",
    "# Ni_X_train, Ni_X_test, Ni_y_train, Ni_y_test = train_test_split(Ni_X_scaled, Ni_y, test_size=0.2, random_state=42)"
   ]
  },
  {
   "cell_type": "code",
   "execution_count": 23,
   "id": "86ccf2fe",
   "metadata": {},
   "outputs": [
    {
     "name": "stdout",
     "output_type": "stream",
     "text": [
      "(384, 15)\n",
      "(650, 15)\n",
      "(783, 15)\n"
     ]
    }
   ],
   "source": [
    "print(As_X_train.shape)\n",
    "print(Cd_X_train.shape)\n",
    "print(Ni_X_train.shape)"
   ]
  },
  {
   "attachments": {},
   "cell_type": "markdown",
   "id": "bd11b27e",
   "metadata": {},
   "source": [
    "#### 10-Fold Crossvalidation"
   ]
  },
  {
   "cell_type": "code",
   "execution_count": 24,
   "id": "7a765916",
   "metadata": {},
   "outputs": [],
   "source": [
    "kf = KFold(n_splits = 5, random_state = 42, shuffle = True)"
   ]
  },
  {
   "attachments": {},
   "cell_type": "markdown",
   "id": "859638d0",
   "metadata": {},
   "source": [
    "#### Optuna Optimization"
   ]
  },
  {
   "cell_type": "code",
   "execution_count": 25,
   "id": "92a47d83",
   "metadata": {},
   "outputs": [],
   "source": [
    "import optuna\n",
    "\n",
    "from optuna import Trial\n",
    "from optuna.samplers import TPESampler"
   ]
  },
  {
   "cell_type": "code",
   "execution_count": 26,
   "id": "a7669fea",
   "metadata": {},
   "outputs": [],
   "source": [
    "from sklearn.model_selection import cross_val_score\n",
    "\n",
    "def objectiveRF(trial: Trial, X_train, y_train) -> float:\n",
    "    rf_paramas = {\n",
    "        \"random_state\": 42,\n",
    "        #\"learning_rate\": 0.1,\n",
    "        \"n_estimators\": trial.suggest_int(\"n_estimators\", 10, 100),\n",
    "        \"max_depth\": trial.suggest_int(\"max_depth\", 1, 10),\n",
    "        \"min_samples_leaf\": trial.suggest_int(\"min_samples_leaf\", 1, 20),\n",
    "        \"min_samples_split\": trial.suggest_int(\"min_samples_split\", 2, 20),\n",
    "        #\"subsample\": trial.suggest_float(\"subsample\", 0.1, 0.5)\n",
    "    }\n",
    "    \n",
    "    rf = RandomForestRegressor(**rf_paramas)\n",
    "    r2 = cross_val_score(rf, X_train, y_train, scoring = \"r2\", cv = kf)\n",
    "    r2 = r2.mean()\n",
    "    \n",
    "    return r2"
   ]
  },
  {
   "attachments": {},
   "cell_type": "markdown",
   "id": "b0988f46",
   "metadata": {},
   "source": [
    "####  Optimization"
   ]
  },
  {
   "cell_type": "code",
   "execution_count": 27,
   "id": "94f5e00d",
   "metadata": {
    "scrolled": false
   },
   "outputs": [
    {
     "name": "stderr",
     "output_type": "stream",
     "text": [
      "\u001b[32m[I 2023-08-30 02:04:19,228]\u001b[0m A new study created in memory with name: rf_parameter_opt\u001b[0m\n",
      "\u001b[32m[I 2023-08-30 02:04:20,103]\u001b[0m Trial 0 finished with value: 0.4141736905346146 and parameters: {'n_estimators': 67, 'max_depth': 10, 'min_samples_leaf': 5, 'min_samples_split': 5}. Best is trial 0 with value: 0.4141736905346146.\u001b[0m\n",
      "\u001b[32m[I 2023-08-30 02:04:20,393]\u001b[0m Trial 1 finished with value: 0.1048791680642708 and parameters: {'n_estimators': 46, 'max_depth': 1, 'min_samples_leaf': 18, 'min_samples_split': 17}. Best is trial 0 with value: 0.4141736905346146.\u001b[0m\n",
      "\u001b[32m[I 2023-08-30 02:04:20,691]\u001b[0m Trial 2 finished with value: 0.3015353663804679 and parameters: {'n_estimators': 30, 'max_depth': 7, 'min_samples_leaf': 13, 'min_samples_split': 14}. Best is trial 0 with value: 0.4141736905346146.\u001b[0m\n",
      "\u001b[32m[I 2023-08-30 02:04:20,846]\u001b[0m Trial 3 finished with value: 0.3176711099784667 and parameters: {'n_estimators': 14, 'max_depth': 9, 'min_samples_leaf': 11, 'min_samples_split': 15}. Best is trial 0 with value: 0.4141736905346146.\u001b[0m\n",
      "\u001b[32m[I 2023-08-30 02:04:21,166]\u001b[0m Trial 4 finished with value: 0.352783217552862 and parameters: {'n_estimators': 26, 'max_depth': 8, 'min_samples_leaf': 9, 'min_samples_split': 12}. Best is trial 0 with value: 0.4141736905346146.\u001b[0m\n",
      "\u001b[32m[I 2023-08-30 02:04:22,235]\u001b[0m Trial 5 finished with value: 0.35402972405448985 and parameters: {'n_estimators': 95, 'max_depth': 5, 'min_samples_leaf': 6, 'min_samples_split': 6}. Best is trial 0 with value: 0.4141736905346146.\u001b[0m\n",
      "\u001b[32m[I 2023-08-30 02:04:23,031]\u001b[0m Trial 6 finished with value: 0.24414175629520757 and parameters: {'n_estimators': 86, 'max_depth': 3, 'min_samples_leaf': 5, 'min_samples_split': 8}. Best is trial 0 with value: 0.4141736905346146.\u001b[0m\n",
      "\u001b[32m[I 2023-08-30 02:04:24,221]\u001b[0m Trial 7 finished with value: 0.34732768134822567 and parameters: {'n_estimators': 100, 'max_depth': 5, 'min_samples_leaf': 2, 'min_samples_split': 13}. Best is trial 0 with value: 0.4141736905346146.\u001b[0m\n",
      "\u001b[32m[I 2023-08-30 02:04:24,354]\u001b[0m Trial 8 finished with value: 0.10315491398493963 and parameters: {'n_estimators': 19, 'max_depth': 1, 'min_samples_leaf': 14, 'min_samples_split': 11}. Best is trial 0 with value: 0.4141736905346146.\u001b[0m\n",
      "\u001b[32m[I 2023-08-30 02:04:24,735]\u001b[0m Trial 9 finished with value: 0.17339075464838902 and parameters: {'n_estimators': 47, 'max_depth': 2, 'min_samples_leaf': 8, 'min_samples_split': 10}. Best is trial 0 with value: 0.4141736905346146.\u001b[0m\n",
      "\u001b[32m[I 2023-08-30 02:04:25,926]\u001b[0m Trial 10 finished with value: 0.4469310716625346 and parameters: {'n_estimators': 72, 'max_depth': 10, 'min_samples_leaf': 2, 'min_samples_split': 3}. Best is trial 10 with value: 0.4469310716625346.\u001b[0m\n",
      "\u001b[32m[I 2023-08-30 02:04:27,108]\u001b[0m Trial 11 finished with value: 0.4469310716625346 and parameters: {'n_estimators': 72, 'max_depth': 10, 'min_samples_leaf': 2, 'min_samples_split': 2}. Best is trial 10 with value: 0.4469310716625346.\u001b[0m\n",
      "\u001b[32m[I 2023-08-30 02:04:28,482]\u001b[0m Trial 12 finished with value: 0.44642553368891386 and parameters: {'n_estimators': 70, 'max_depth': 10, 'min_samples_leaf': 1, 'min_samples_split': 2}. Best is trial 10 with value: 0.4469310716625346.\u001b[0m\n",
      "\u001b[32m[I 2023-08-30 02:04:29,653]\u001b[0m Trial 13 finished with value: 0.42284586343827196 and parameters: {'n_estimators': 75, 'max_depth': 7, 'min_samples_leaf': 1, 'min_samples_split': 2}. Best is trial 10 with value: 0.4469310716625346.\u001b[0m\n",
      "\u001b[32m[I 2023-08-30 02:04:30,422]\u001b[0m Trial 14 finished with value: 0.41694469214574603 and parameters: {'n_estimators': 57, 'max_depth': 8, 'min_samples_leaf': 4, 'min_samples_split': 5}. Best is trial 10 with value: 0.4469310716625346.\u001b[0m\n",
      "\u001b[32m[I 2023-08-30 02:04:31,144]\u001b[0m Trial 15 finished with value: 0.27115889260160086 and parameters: {'n_estimators': 79, 'max_depth': 10, 'min_samples_leaf': 19, 'min_samples_split': 2}. Best is trial 10 with value: 0.4469310716625346.\u001b[0m\n",
      "\u001b[32m[I 2023-08-30 02:04:31,836]\u001b[0m Trial 16 finished with value: 0.3510953625307762 and parameters: {'n_estimators': 60, 'max_depth': 6, 'min_samples_leaf': 3, 'min_samples_split': 19}. Best is trial 10 with value: 0.4469310716625346.\u001b[0m\n",
      "\u001b[32m[I 2023-08-30 02:04:32,857]\u001b[0m Trial 17 finished with value: 0.3805744346774693 and parameters: {'n_estimators': 89, 'max_depth': 9, 'min_samples_leaf': 7, 'min_samples_split': 8}. Best is trial 10 with value: 0.4469310716625346.\u001b[0m\n",
      "\u001b[32m[I 2023-08-30 02:04:33,254]\u001b[0m Trial 18 finished with value: 0.2790818237202172 and parameters: {'n_estimators': 45, 'max_depth': 4, 'min_samples_leaf': 15, 'min_samples_split': 4}. Best is trial 10 with value: 0.4469310716625346.\u001b[0m\n",
      "\u001b[32m[I 2023-08-30 02:04:33,932]\u001b[0m Trial 19 finished with value: 0.34593910934528277 and parameters: {'n_estimators': 66, 'max_depth': 9, 'min_samples_leaf': 10, 'min_samples_split': 9}. Best is trial 10 with value: 0.4469310716625346.\u001b[0m\n",
      "\u001b[32m[I 2023-08-30 02:04:35,101]\u001b[0m Trial 20 finished with value: 0.42691414860440735 and parameters: {'n_estimators': 84, 'max_depth': 8, 'min_samples_leaf': 3, 'min_samples_split': 7}. Best is trial 10 with value: 0.4469310716625346.\u001b[0m\n",
      "\u001b[32m[I 2023-08-30 02:04:36,385]\u001b[0m Trial 21 finished with value: 0.4466303044573593 and parameters: {'n_estimators': 72, 'max_depth': 10, 'min_samples_leaf': 1, 'min_samples_split': 3}. Best is trial 10 with value: 0.4469310716625346.\u001b[0m\n",
      "\u001b[32m[I 2023-08-30 02:04:37,712]\u001b[0m Trial 22 finished with value: 0.446176815101586 and parameters: {'n_estimators': 75, 'max_depth': 10, 'min_samples_leaf': 1, 'min_samples_split': 4}. Best is trial 10 with value: 0.4469310716625346.\u001b[0m\n",
      "\u001b[32m[I 2023-08-30 02:04:38,614]\u001b[0m Trial 23 finished with value: 0.43938954511271155 and parameters: {'n_estimators': 61, 'max_depth': 9, 'min_samples_leaf': 3, 'min_samples_split': 3}. Best is trial 10 with value: 0.4469310716625346.\u001b[0m\n",
      "\u001b[32m[I 2023-08-30 02:04:39,226]\u001b[0m Trial 24 finished with value: 0.4114662282388279 and parameters: {'n_estimators': 50, 'max_depth': 7, 'min_samples_leaf': 5, 'min_samples_split': 6}. Best is trial 10 with value: 0.4469310716625346.\u001b[0m\n",
      "\u001b[32m[I 2023-08-30 02:04:40,105]\u001b[0m Trial 25 finished with value: 0.3843108471263972 and parameters: {'n_estimators': 77, 'max_depth': 10, 'min_samples_leaf': 7, 'min_samples_split': 4}. Best is trial 10 with value: 0.4469310716625346.\u001b[0m\n",
      "\u001b[32m[I 2023-08-30 02:04:41,056]\u001b[0m Trial 26 finished with value: 0.42973646086537814 and parameters: {'n_estimators': 69, 'max_depth': 8, 'min_samples_leaf': 3, 'min_samples_split': 3}. Best is trial 10 with value: 0.4469310716625346.\u001b[0m\n",
      "\u001b[32m[I 2023-08-30 02:04:41,627]\u001b[0m Trial 27 finished with value: 0.41869177099009197 and parameters: {'n_estimators': 36, 'max_depth': 9, 'min_samples_leaf': 1, 'min_samples_split': 6}. Best is trial 10 with value: 0.4469310716625346.\u001b[0m\n",
      "\u001b[32m[I 2023-08-30 02:04:42,781]\u001b[0m Trial 28 finished with value: 0.39213403441836137 and parameters: {'n_estimators': 92, 'max_depth': 6, 'min_samples_leaf': 4, 'min_samples_split': 3}. Best is trial 10 with value: 0.4469310716625346.\u001b[0m\n",
      "\u001b[32m[I 2023-08-30 02:04:43,581]\u001b[0m Trial 29 finished with value: 0.4026094645612172 and parameters: {'n_estimators': 65, 'max_depth': 10, 'min_samples_leaf': 6, 'min_samples_split': 5}. Best is trial 10 with value: 0.4469310716625346.\u001b[0m\n",
      "\u001b[32m[I 2023-08-30 02:04:44,859]\u001b[0m Trial 30 finished with value: 0.43047906414002723 and parameters: {'n_estimators': 82, 'max_depth': 9, 'min_samples_leaf': 2, 'min_samples_split': 7}. Best is trial 10 with value: 0.4469310716625346.\u001b[0m\n",
      "\u001b[32m[I 2023-08-30 02:04:46,244]\u001b[0m Trial 31 finished with value: 0.44701383491437074 and parameters: {'n_estimators': 71, 'max_depth': 10, 'min_samples_leaf': 1, 'min_samples_split': 2}. Best is trial 31 with value: 0.44701383491437074.\u001b[0m\n",
      "\u001b[32m[I 2023-08-30 02:04:47,454]\u001b[0m Trial 32 finished with value: 0.4469310716625346 and parameters: {'n_estimators': 72, 'max_depth': 10, 'min_samples_leaf': 2, 'min_samples_split': 2}. Best is trial 31 with value: 0.44701383491437074.\u001b[0m\n",
      "\u001b[32m[I 2023-08-30 02:04:48,188]\u001b[0m Trial 33 finished with value: 0.42269693953272364 and parameters: {'n_estimators': 54, 'max_depth': 10, 'min_samples_leaf': 4, 'min_samples_split': 2}. Best is trial 31 with value: 0.44701383491437074.\u001b[0m\n",
      "\u001b[32m[I 2023-08-30 02:04:48,847]\u001b[0m Trial 34 finished with value: 0.2917556001732085 and parameters: {'n_estimators': 65, 'max_depth': 9, 'min_samples_leaf': 16, 'min_samples_split': 5}. Best is trial 31 with value: 0.44701383491437074.\u001b[0m\n",
      "\u001b[32m[I 2023-08-30 02:04:49,686]\u001b[0m Trial 35 finished with value: 0.32228230162032034 and parameters: {'n_estimators': 82, 'max_depth': 8, 'min_samples_leaf': 12, 'min_samples_split': 16}. Best is trial 31 with value: 0.44701383491437074.\u001b[0m\n",
      "\u001b[32m[I 2023-08-30 02:04:50,871]\u001b[0m Trial 36 finished with value: 0.44711387996924445 and parameters: {'n_estimators': 73, 'max_depth': 10, 'min_samples_leaf': 2, 'min_samples_split': 4}. Best is trial 36 with value: 0.44711387996924445.\u001b[0m\n",
      "\u001b[32m[I 2023-08-30 02:04:51,614]\u001b[0m Trial 37 finished with value: 0.4031355047856168 and parameters: {'n_estimators': 62, 'max_depth': 9, 'min_samples_leaf': 6, 'min_samples_split': 4}. Best is trial 36 with value: 0.44711387996924445.\u001b[0m\n",
      "\u001b[32m[I 2023-08-30 02:04:52,761]\u001b[0m Trial 38 finished with value: 0.41937489872706213 and parameters: {'n_estimators': 88, 'max_depth': 8, 'min_samples_leaf': 4, 'min_samples_split': 2}. Best is trial 36 with value: 0.44711387996924445.\u001b[0m\n",
      "\u001b[32m[I 2023-08-30 02:04:53,354]\u001b[0m Trial 39 finished with value: 0.43034087835032253 and parameters: {'n_estimators': 41, 'max_depth': 7, 'min_samples_leaf': 2, 'min_samples_split': 5}. Best is trial 36 with value: 0.44711387996924445.\u001b[0m\n",
      "\u001b[32m[I 2023-08-30 02:04:53,941]\u001b[0m Trial 40 finished with value: 0.3567894337545173 and parameters: {'n_estimators': 54, 'max_depth': 10, 'min_samples_leaf': 9, 'min_samples_split': 7}. Best is trial 36 with value: 0.44711387996924445.\u001b[0m\n",
      "\u001b[32m[I 2023-08-30 02:04:55,100]\u001b[0m Trial 41 finished with value: 0.4469310716625346 and parameters: {'n_estimators': 72, 'max_depth': 10, 'min_samples_leaf': 2, 'min_samples_split': 3}. Best is trial 36 with value: 0.44711387996924445.\u001b[0m\n",
      "\u001b[32m[I 2023-08-30 02:04:56,345]\u001b[0m Trial 42 finished with value: 0.44793643920523146 and parameters: {'n_estimators': 78, 'max_depth': 10, 'min_samples_leaf': 2, 'min_samples_split': 3}. Best is trial 42 with value: 0.44793643920523146.\u001b[0m\n",
      "\u001b[32m[I 2023-08-30 02:04:57,561]\u001b[0m Trial 43 finished with value: 0.4039025624516773 and parameters: {'n_estimators': 96, 'max_depth': 9, 'min_samples_leaf': 5, 'min_samples_split': 4}. Best is trial 42 with value: 0.44793643920523146.\u001b[0m\n",
      "\u001b[32m[I 2023-08-30 02:04:58,678]\u001b[0m Trial 44 finished with value: 0.44024448900508195 and parameters: {'n_estimators': 78, 'max_depth': 10, 'min_samples_leaf': 3, 'min_samples_split': 6}. Best is trial 42 with value: 0.44793643920523146.\u001b[0m\n",
      "\u001b[32m[I 2023-08-30 02:04:59,784]\u001b[0m Trial 45 finished with value: 0.4012878915666562 and parameters: {'n_estimators': 81, 'max_depth': 9, 'min_samples_leaf': 2, 'min_samples_split': 13}. Best is trial 42 with value: 0.44793643920523146.\u001b[0m\n",
      "\u001b[32m[I 2023-08-30 02:05:00,569]\u001b[0m Trial 46 finished with value: 0.3086572968132276 and parameters: {'n_estimators': 74, 'max_depth': 4, 'min_samples_leaf': 1, 'min_samples_split': 3}. Best is trial 42 with value: 0.44793643920523146.\u001b[0m\n",
      "\u001b[32m[I 2023-08-30 02:05:01,579]\u001b[0m Trial 47 finished with value: 0.35709889216782925 and parameters: {'n_estimators': 86, 'max_depth': 10, 'min_samples_leaf': 5, 'min_samples_split': 20}. Best is trial 42 with value: 0.44793643920523146.\u001b[0m\n",
      "\u001b[32m[I 2023-08-30 02:05:02,542]\u001b[0m Trial 48 finished with value: 0.4167499991443659 and parameters: {'n_estimators': 68, 'max_depth': 9, 'min_samples_leaf': 2, 'min_samples_split': 10}. Best is trial 42 with value: 0.44793643920523146.\u001b[0m\n",
      "\u001b[32m[I 2023-08-30 02:05:03,081]\u001b[0m Trial 49 finished with value: 0.2851813416163734 and parameters: {'n_estimators': 59, 'max_depth': 8, 'min_samples_leaf': 17, 'min_samples_split': 2}. Best is trial 42 with value: 0.44793643920523146.\u001b[0m\n",
      "\u001b[32m[I 2023-08-30 02:05:03,590]\u001b[0m Trial 50 finished with value: 0.10289851596736996 and parameters: {'n_estimators': 78, 'max_depth': 1, 'min_samples_leaf': 4, 'min_samples_split': 4}. Best is trial 42 with value: 0.44793643920523146.\u001b[0m\n",
      "\u001b[32m[I 2023-08-30 02:05:04,836]\u001b[0m Trial 51 finished with value: 0.4469310716625346 and parameters: {'n_estimators': 72, 'max_depth': 10, 'min_samples_leaf': 2, 'min_samples_split': 2}. Best is trial 42 with value: 0.44793643920523146.\u001b[0m\n",
      "\u001b[32m[I 2023-08-30 02:05:05,898]\u001b[0m Trial 52 finished with value: 0.4411108041809599 and parameters: {'n_estimators': 64, 'max_depth': 10, 'min_samples_leaf': 3, 'min_samples_split': 2}. Best is trial 42 with value: 0.44793643920523146.\u001b[0m\n",
      "\u001b[32m[I 2023-08-30 02:05:07,116]\u001b[0m Trial 53 finished with value: 0.44632288014397636 and parameters: {'n_estimators': 70, 'max_depth': 10, 'min_samples_leaf': 2, 'min_samples_split': 3}. Best is trial 42 with value: 0.44793643920523146.\u001b[0m\n",
      "\u001b[32m[I 2023-08-30 02:05:08,449]\u001b[0m Trial 54 finished with value: 0.4429412033692824 and parameters: {'n_estimators': 75, 'max_depth': 9, 'min_samples_leaf': 1, 'min_samples_split': 3}. Best is trial 42 with value: 0.44793643920523146.\u001b[0m\n",
      "\u001b[32m[I 2023-08-30 02:05:08,594]\u001b[0m Trial 55 finished with value: 0.18103205147034504 and parameters: {'n_estimators': 16, 'max_depth': 2, 'min_samples_leaf': 3, 'min_samples_split': 5}. Best is trial 42 with value: 0.44793643920523146.\u001b[0m\n",
      "\u001b[32m[I 2023-08-30 02:05:09,960]\u001b[0m Trial 56 finished with value: 0.4475599027069842 and parameters: {'n_estimators': 68, 'max_depth': 10, 'min_samples_leaf': 1, 'min_samples_split': 2}. Best is trial 42 with value: 0.44793643920523146.\u001b[0m\n",
      "\u001b[32m[I 2023-08-30 02:05:10,911]\u001b[0m Trial 57 finished with value: 0.4320741178973201 and parameters: {'n_estimators': 57, 'max_depth': 9, 'min_samples_leaf': 1, 'min_samples_split': 4}. Best is trial 42 with value: 0.44793643920523146.\u001b[0m\n",
      "\u001b[32m[I 2023-08-30 02:05:12,241]\u001b[0m Trial 58 finished with value: 0.44788070191026 and parameters: {'n_estimators': 67, 'max_depth': 10, 'min_samples_leaf': 1, 'min_samples_split': 2}. Best is trial 42 with value: 0.44793643920523146.\u001b[0m\n",
      "\u001b[32m[I 2023-08-30 02:05:13,541]\u001b[0m Trial 59 finished with value: 0.44788070191026 and parameters: {'n_estimators': 67, 'max_depth': 10, 'min_samples_leaf': 1, 'min_samples_split': 2}. Best is trial 42 with value: 0.44793643920523146.\u001b[0m\n",
      "\u001b[32m[I 2023-08-30 02:05:14,380]\u001b[0m Trial 60 finished with value: 0.42925342570746333 and parameters: {'n_estimators': 51, 'max_depth': 9, 'min_samples_leaf': 1, 'min_samples_split': 4}. Best is trial 42 with value: 0.44793643920523146.\u001b[0m\n",
      "\u001b[32m[I 2023-08-30 02:05:15,657]\u001b[0m Trial 61 finished with value: 0.44788070191026 and parameters: {'n_estimators': 67, 'max_depth': 10, 'min_samples_leaf': 1, 'min_samples_split': 2}. Best is trial 42 with value: 0.44793643920523146.\u001b[0m\n",
      "\u001b[32m[I 2023-08-30 02:05:16,941]\u001b[0m Trial 62 finished with value: 0.4475599027069842 and parameters: {'n_estimators': 68, 'max_depth': 10, 'min_samples_leaf': 1, 'min_samples_split': 2}. Best is trial 42 with value: 0.44793643920523146.\u001b[0m\n",
      "\u001b[32m[I 2023-08-30 02:05:18,075]\u001b[0m Trial 63 finished with value: 0.4443615505858934 and parameters: {'n_estimators': 62, 'max_depth': 10, 'min_samples_leaf': 1, 'min_samples_split': 3}. Best is trial 42 with value: 0.44793643920523146.\u001b[0m\n",
      "\u001b[32m[I 2023-08-30 02:05:19,068]\u001b[0m Trial 64 finished with value: 0.44100989494458503 and parameters: {'n_estimators': 67, 'max_depth': 10, 'min_samples_leaf': 3, 'min_samples_split': 2}. Best is trial 42 with value: 0.44793643920523146.\u001b[0m\n",
      "\u001b[32m[I 2023-08-30 02:05:19,992]\u001b[0m Trial 65 finished with value: 0.42057243418972606 and parameters: {'n_estimators': 67, 'max_depth': 9, 'min_samples_leaf': 4, 'min_samples_split': 3}. Best is trial 42 with value: 0.44793643920523146.\u001b[0m\n",
      "\u001b[32m[I 2023-08-30 02:05:20,493]\u001b[0m Trial 66 finished with value: 0.26782685304944875 and parameters: {'n_estimators': 58, 'max_depth': 10, 'min_samples_leaf': 20, 'min_samples_split': 2}. Best is trial 42 with value: 0.44793643920523146.\u001b[0m\n",
      "\u001b[32m[I 2023-08-30 02:05:21,651]\u001b[0m Trial 67 finished with value: 0.44617002539384093 and parameters: {'n_estimators': 63, 'max_depth': 10, 'min_samples_leaf': 1, 'min_samples_split': 4}. Best is trial 42 with value: 0.44793643920523146.\u001b[0m\n",
      "\u001b[32m[I 2023-08-30 02:05:22,052]\u001b[0m Trial 68 finished with value: 0.4131789375888101 and parameters: {'n_estimators': 24, 'max_depth': 9, 'min_samples_leaf': 3, 'min_samples_split': 5}. Best is trial 42 with value: 0.44793643920523146.\u001b[0m\n",
      "\u001b[32m[I 2023-08-30 02:05:22,862]\u001b[0m Trial 69 finished with value: 0.3036198217195589 and parameters: {'n_estimators': 76, 'max_depth': 10, 'min_samples_leaf': 14, 'min_samples_split': 3}. Best is trial 42 with value: 0.44793643920523146.\u001b[0m\n",
      "\u001b[32m[I 2023-08-30 02:05:24,124]\u001b[0m Trial 70 finished with value: 0.4329552168447387 and parameters: {'n_estimators': 80, 'max_depth': 8, 'min_samples_leaf': 2, 'min_samples_split': 6}. Best is trial 42 with value: 0.44793643920523146.\u001b[0m\n",
      "\u001b[32m[I 2023-08-30 02:05:25,489]\u001b[0m Trial 71 finished with value: 0.44827579907940207 and parameters: {'n_estimators': 69, 'max_depth': 10, 'min_samples_leaf': 1, 'min_samples_split': 2}. Best is trial 71 with value: 0.44827579907940207.\u001b[0m\n",
      "\u001b[32m[I 2023-08-30 02:05:26,856]\u001b[0m Trial 72 finished with value: 0.4475599027069842 and parameters: {'n_estimators': 68, 'max_depth': 10, 'min_samples_leaf': 1, 'min_samples_split': 2}. Best is trial 71 with value: 0.44827579907940207.\u001b[0m\n",
      "\u001b[32m[I 2023-08-30 02:05:28,148]\u001b[0m Trial 73 finished with value: 0.4475599027069842 and parameters: {'n_estimators': 68, 'max_depth': 10, 'min_samples_leaf': 1, 'min_samples_split': 2}. Best is trial 71 with value: 0.44827579907940207.\u001b[0m\n",
      "\u001b[32m[I 2023-08-30 02:05:29,265]\u001b[0m Trial 74 finished with value: 0.4394042360823721 and parameters: {'n_estimators': 60, 'max_depth': 9, 'min_samples_leaf': 1, 'min_samples_split': 2}. Best is trial 71 with value: 0.44827579907940207.\u001b[0m\n",
      "\u001b[32m[I 2023-08-30 02:05:30,555]\u001b[0m Trial 75 finished with value: 0.4449161402638257 and parameters: {'n_estimators': 69, 'max_depth': 10, 'min_samples_leaf': 1, 'min_samples_split': 3}. Best is trial 71 with value: 0.44827579907940207.\u001b[0m\n",
      "\u001b[32m[I 2023-08-30 02:05:31,519]\u001b[0m Trial 76 finished with value: 0.43974215619778184 and parameters: {'n_estimators': 65, 'max_depth': 9, 'min_samples_leaf': 3, 'min_samples_split': 2}. Best is trial 71 with value: 0.44827579907940207.\u001b[0m\n",
      "\u001b[32m[I 2023-08-30 02:05:32,324]\u001b[0m Trial 77 finished with value: 0.3920923707151528 and parameters: {'n_estimators': 56, 'max_depth': 10, 'min_samples_leaf': 2, 'min_samples_split': 15}. Best is trial 71 with value: 0.44827579907940207.\u001b[0m\n",
      "\u001b[32m[I 2023-08-30 02:05:33,110]\u001b[0m Trial 78 finished with value: 0.28992979968364496 and parameters: {'n_estimators': 84, 'max_depth': 4, 'min_samples_leaf': 11, 'min_samples_split': 3}. Best is trial 71 with value: 0.44827579907940207.\u001b[0m\n",
      "\u001b[32m[I 2023-08-30 02:05:34,274]\u001b[0m Trial 79 finished with value: 0.44632288014397636 and parameters: {'n_estimators': 70, 'max_depth': 10, 'min_samples_leaf': 2, 'min_samples_split': 3}. Best is trial 71 with value: 0.44827579907940207.\u001b[0m\n",
      "\u001b[32m[I 2023-08-30 02:05:35,062]\u001b[0m Trial 80 finished with value: 0.40316622673215363 and parameters: {'n_estimators': 51, 'max_depth': 6, 'min_samples_leaf': 1, 'min_samples_split': 2}. Best is trial 71 with value: 0.44827579907940207.\u001b[0m\n",
      "\u001b[32m[I 2023-08-30 02:05:36,335]\u001b[0m Trial 81 finished with value: 0.44788070191026 and parameters: {'n_estimators': 67, 'max_depth': 10, 'min_samples_leaf': 1, 'min_samples_split': 2}. Best is trial 71 with value: 0.44827579907940207.\u001b[0m\n",
      "\u001b[32m[I 2023-08-30 02:05:37,571]\u001b[0m Trial 82 finished with value: 0.44889415696372154 and parameters: {'n_estimators': 64, 'max_depth': 10, 'min_samples_leaf': 1, 'min_samples_split': 2}. Best is trial 82 with value: 0.44889415696372154.\u001b[0m\n",
      "\u001b[32m[I 2023-08-30 02:05:38,601]\u001b[0m Trial 83 finished with value: 0.4518771795967188 and parameters: {'n_estimators': 63, 'max_depth': 10, 'min_samples_leaf': 2, 'min_samples_split': 3}. Best is trial 83 with value: 0.4518771795967188.\u001b[0m\n",
      "\u001b[32m[I 2023-08-30 02:05:39,493]\u001b[0m Trial 84 finished with value: 0.43938954511271155 and parameters: {'n_estimators': 61, 'max_depth': 9, 'min_samples_leaf': 3, 'min_samples_split': 3}. Best is trial 83 with value: 0.4518771795967188.\u001b[0m\n",
      "\u001b[32m[I 2023-08-30 02:05:40,253]\u001b[0m Trial 85 finished with value: 0.3752094161703793 and parameters: {'n_estimators': 63, 'max_depth': 10, 'min_samples_leaf': 4, 'min_samples_split': 18}. Best is trial 83 with value: 0.4518771795967188.\u001b[0m\n",
      "\u001b[32m[I 2023-08-30 02:05:41,275]\u001b[0m Trial 86 finished with value: 0.449345289953652 and parameters: {'n_estimators': 65, 'max_depth': 9, 'min_samples_leaf': 2, 'min_samples_split': 4}. Best is trial 83 with value: 0.4518771795967188.\u001b[0m\n",
      "\u001b[32m[I 2023-08-30 02:05:41,974]\u001b[0m Trial 87 finished with value: 0.3728612946303616 and parameters: {'n_estimators': 54, 'max_depth': 5, 'min_samples_leaf': 2, 'min_samples_split': 4}. Best is trial 83 with value: 0.4518771795967188.\u001b[0m\n",
      "\u001b[32m[I 2023-08-30 02:05:42,911]\u001b[0m Trial 88 finished with value: 0.43974215619778184 and parameters: {'n_estimators': 65, 'max_depth': 9, 'min_samples_leaf': 3, 'min_samples_split': 5}. Best is trial 83 with value: 0.4518771795967188.\u001b[0m\n",
      "\u001b[32m[I 2023-08-30 02:05:44,100]\u001b[0m Trial 89 finished with value: 0.4477872176364433 and parameters: {'n_estimators': 74, 'max_depth': 10, 'min_samples_leaf': 2, 'min_samples_split': 3}. Best is trial 83 with value: 0.4518771795967188.\u001b[0m\n",
      "\u001b[32m[I 2023-08-30 02:05:45,104]\u001b[0m Trial 90 finished with value: 0.4477837824493204 and parameters: {'n_estimators': 61, 'max_depth': 9, 'min_samples_leaf': 2, 'min_samples_split': 4}. Best is trial 83 with value: 0.4518771795967188.\u001b[0m\n",
      "\u001b[32m[I 2023-08-30 02:05:46,297]\u001b[0m Trial 91 finished with value: 0.4477872176364433 and parameters: {'n_estimators': 74, 'max_depth': 10, 'min_samples_leaf': 2, 'min_samples_split': 3}. Best is trial 83 with value: 0.4518771795967188.\u001b[0m\n",
      "\u001b[32m[I 2023-08-30 02:05:47,547]\u001b[0m Trial 92 finished with value: 0.44876485051997933 and parameters: {'n_estimators': 77, 'max_depth': 10, 'min_samples_leaf': 2, 'min_samples_split': 3}. Best is trial 83 with value: 0.4518771795967188.\u001b[0m\n",
      "\u001b[32m[I 2023-08-30 02:05:48,584]\u001b[0m Trial 93 finished with value: 0.4426818061380839 and parameters: {'n_estimators': 66, 'max_depth': 10, 'min_samples_leaf': 3, 'min_samples_split': 4}. Best is trial 83 with value: 0.4518771795967188.\u001b[0m\n",
      "\u001b[32m[I 2023-08-30 02:05:49,564]\u001b[0m Trial 94 finished with value: 0.4209484506025215 and parameters: {'n_estimators': 71, 'max_depth': 10, 'min_samples_leaf': 4, 'min_samples_split': 2}. Best is trial 83 with value: 0.4518771795967188.\u001b[0m\n",
      "\u001b[32m[I 2023-08-30 02:05:50,693]\u001b[0m Trial 95 finished with value: 0.42418938191806854 and parameters: {'n_estimators': 78, 'max_depth': 9, 'min_samples_leaf': 2, 'min_samples_split': 9}. Best is trial 83 with value: 0.4518771795967188.\u001b[0m\n",
      "\u001b[32m[I 2023-08-30 02:05:51,827]\u001b[0m Trial 96 finished with value: 0.4461966722268449 and parameters: {'n_estimators': 63, 'max_depth': 10, 'min_samples_leaf': 1, 'min_samples_split': 3}. Best is trial 83 with value: 0.4518771795967188.\u001b[0m\n",
      "\u001b[32m[I 2023-08-30 02:05:52,698]\u001b[0m Trial 97 finished with value: 0.3580174924241403 and parameters: {'n_estimators': 77, 'max_depth': 10, 'min_samples_leaf': 9, 'min_samples_split': 2}. Best is trial 83 with value: 0.4518771795967188.\u001b[0m\n",
      "\u001b[32m[I 2023-08-30 02:05:53,397]\u001b[0m Trial 98 finished with value: 0.4016176328313922 and parameters: {'n_estimators': 58, 'max_depth': 9, 'min_samples_leaf': 6, 'min_samples_split': 12}. Best is trial 83 with value: 0.4518771795967188.\u001b[0m\n",
      "\u001b[32m[I 2023-08-30 02:05:54,640]\u001b[0m Trial 99 finished with value: 0.440203071485875 and parameters: {'n_estimators': 83, 'max_depth': 10, 'min_samples_leaf': 3, 'min_samples_split': 4}. Best is trial 83 with value: 0.4518771795967188.\u001b[0m\n"
     ]
    },
    {
     "name": "stdout",
     "output_type": "stream",
     "text": [
      "Best r2:  0.4518771795967188\n",
      "Best trial: {'n_estimators': 63, 'max_depth': 10, 'min_samples_leaf': 2, 'min_samples_split': 3}\n"
     ]
    }
   ],
   "source": [
    "sampler = TPESampler()\n",
    "study = optuna.create_study(\n",
    "    study_name=\"rf_parameter_opt\",\n",
    "    direction=\"maximize\",\n",
    "    sampler=sampler,\n",
    ")\n",
    "\n",
    "study.optimize(lambda trial : objectiveRF(trial, As_X_train, As_y_train), n_trials=100)\n",
    "print(\"Best r2: \", study.best_value)\n",
    "print(\"Best trial:\", study.best_trial.params)"
   ]
  },
  {
   "cell_type": "code",
   "execution_count": 28,
   "id": "ded0e0f8",
   "metadata": {},
   "outputs": [
    {
     "data": {
      "application/vnd.plotly.v1+json": {
       "config": {
        "plotlyServerURL": "https://plot.ly"
       },
       "data": [
        {
         "dimensions": [
          {
           "label": "Objective Value",
           "range": [
            0.10289851596736996,
            0.4518771795967188
           ],
           "values": [
            0.4141736905346146,
            0.1048791680642708,
            0.3015353663804679,
            0.3176711099784667,
            0.352783217552862,
            0.35402972405448985,
            0.24414175629520757,
            0.34732768134822567,
            0.10315491398493963,
            0.17339075464838902,
            0.4469310716625346,
            0.4469310716625346,
            0.44642553368891386,
            0.42284586343827196,
            0.41694469214574603,
            0.27115889260160086,
            0.3510953625307762,
            0.3805744346774693,
            0.2790818237202172,
            0.34593910934528277,
            0.42691414860440735,
            0.4466303044573593,
            0.446176815101586,
            0.43938954511271155,
            0.4114662282388279,
            0.3843108471263972,
            0.42973646086537814,
            0.41869177099009197,
            0.39213403441836137,
            0.4026094645612172,
            0.43047906414002723,
            0.44701383491437074,
            0.4469310716625346,
            0.42269693953272364,
            0.2917556001732085,
            0.32228230162032034,
            0.44711387996924445,
            0.4031355047856168,
            0.41937489872706213,
            0.43034087835032253,
            0.3567894337545173,
            0.4469310716625346,
            0.44793643920523146,
            0.4039025624516773,
            0.44024448900508195,
            0.4012878915666562,
            0.3086572968132276,
            0.35709889216782925,
            0.4167499991443659,
            0.2851813416163734,
            0.10289851596736996,
            0.4469310716625346,
            0.4411108041809599,
            0.44632288014397636,
            0.4429412033692824,
            0.18103205147034504,
            0.4475599027069842,
            0.4320741178973201,
            0.44788070191026,
            0.44788070191026,
            0.42925342570746333,
            0.44788070191026,
            0.4475599027069842,
            0.4443615505858934,
            0.44100989494458503,
            0.42057243418972606,
            0.26782685304944875,
            0.44617002539384093,
            0.4131789375888101,
            0.3036198217195589,
            0.4329552168447387,
            0.44827579907940207,
            0.4475599027069842,
            0.4475599027069842,
            0.4394042360823721,
            0.4449161402638257,
            0.43974215619778184,
            0.3920923707151528,
            0.28992979968364496,
            0.44632288014397636,
            0.40316622673215363,
            0.44788070191026,
            0.44889415696372154,
            0.4518771795967188,
            0.43938954511271155,
            0.3752094161703793,
            0.449345289953652,
            0.3728612946303616,
            0.43974215619778184,
            0.4477872176364433,
            0.4477837824493204,
            0.4477872176364433,
            0.44876485051997933,
            0.4426818061380839,
            0.4209484506025215,
            0.42418938191806854,
            0.4461966722268449,
            0.3580174924241403,
            0.4016176328313922,
            0.440203071485875
           ]
          },
          {
           "label": "max_depth",
           "range": [
            1,
            10
           ],
           "values": [
            10,
            1,
            7,
            9,
            8,
            5,
            3,
            5,
            1,
            2,
            10,
            10,
            10,
            7,
            8,
            10,
            6,
            9,
            4,
            9,
            8,
            10,
            10,
            9,
            7,
            10,
            8,
            9,
            6,
            10,
            9,
            10,
            10,
            10,
            9,
            8,
            10,
            9,
            8,
            7,
            10,
            10,
            10,
            9,
            10,
            9,
            4,
            10,
            9,
            8,
            1,
            10,
            10,
            10,
            9,
            2,
            10,
            9,
            10,
            10,
            9,
            10,
            10,
            10,
            10,
            9,
            10,
            10,
            9,
            10,
            8,
            10,
            10,
            10,
            9,
            10,
            9,
            10,
            4,
            10,
            6,
            10,
            10,
            10,
            9,
            10,
            9,
            5,
            9,
            10,
            9,
            10,
            10,
            10,
            10,
            9,
            10,
            10,
            9,
            10
           ]
          },
          {
           "label": "min_samples_leaf",
           "range": [
            1,
            20
           ],
           "values": [
            5,
            18,
            13,
            11,
            9,
            6,
            5,
            2,
            14,
            8,
            2,
            2,
            1,
            1,
            4,
            19,
            3,
            7,
            15,
            10,
            3,
            1,
            1,
            3,
            5,
            7,
            3,
            1,
            4,
            6,
            2,
            1,
            2,
            4,
            16,
            12,
            2,
            6,
            4,
            2,
            9,
            2,
            2,
            5,
            3,
            2,
            1,
            5,
            2,
            17,
            4,
            2,
            3,
            2,
            1,
            3,
            1,
            1,
            1,
            1,
            1,
            1,
            1,
            1,
            3,
            4,
            20,
            1,
            3,
            14,
            2,
            1,
            1,
            1,
            1,
            1,
            3,
            2,
            11,
            2,
            1,
            1,
            1,
            2,
            3,
            4,
            2,
            2,
            3,
            2,
            2,
            2,
            2,
            3,
            4,
            2,
            1,
            9,
            6,
            3
           ]
          },
          {
           "label": "min_samples_split",
           "range": [
            2,
            20
           ],
           "values": [
            5,
            17,
            14,
            15,
            12,
            6,
            8,
            13,
            11,
            10,
            3,
            2,
            2,
            2,
            5,
            2,
            19,
            8,
            4,
            9,
            7,
            3,
            4,
            3,
            6,
            4,
            3,
            6,
            3,
            5,
            7,
            2,
            2,
            2,
            5,
            16,
            4,
            4,
            2,
            5,
            7,
            3,
            3,
            4,
            6,
            13,
            3,
            20,
            10,
            2,
            4,
            2,
            2,
            3,
            3,
            5,
            2,
            4,
            2,
            2,
            4,
            2,
            2,
            3,
            2,
            3,
            2,
            4,
            5,
            3,
            6,
            2,
            2,
            2,
            2,
            3,
            2,
            15,
            3,
            3,
            2,
            2,
            2,
            3,
            3,
            18,
            4,
            4,
            5,
            3,
            4,
            3,
            3,
            4,
            2,
            9,
            3,
            2,
            12,
            4
           ]
          },
          {
           "label": "n_estimators",
           "range": [
            14,
            100
           ],
           "values": [
            67,
            46,
            30,
            14,
            26,
            95,
            86,
            100,
            19,
            47,
            72,
            72,
            70,
            75,
            57,
            79,
            60,
            89,
            45,
            66,
            84,
            72,
            75,
            61,
            50,
            77,
            69,
            36,
            92,
            65,
            82,
            71,
            72,
            54,
            65,
            82,
            73,
            62,
            88,
            41,
            54,
            72,
            78,
            96,
            78,
            81,
            74,
            86,
            68,
            59,
            78,
            72,
            64,
            70,
            75,
            16,
            68,
            57,
            67,
            67,
            51,
            67,
            68,
            62,
            67,
            67,
            58,
            63,
            24,
            76,
            80,
            69,
            68,
            68,
            60,
            69,
            65,
            56,
            84,
            70,
            51,
            67,
            64,
            63,
            61,
            63,
            65,
            54,
            65,
            74,
            61,
            74,
            77,
            66,
            71,
            78,
            63,
            77,
            58,
            83
           ]
          }
         ],
         "labelangle": 30,
         "labelside": "bottom",
         "line": {
          "color": [
           0.4141736905346146,
           0.1048791680642708,
           0.3015353663804679,
           0.3176711099784667,
           0.352783217552862,
           0.35402972405448985,
           0.24414175629520757,
           0.34732768134822567,
           0.10315491398493963,
           0.17339075464838902,
           0.4469310716625346,
           0.4469310716625346,
           0.44642553368891386,
           0.42284586343827196,
           0.41694469214574603,
           0.27115889260160086,
           0.3510953625307762,
           0.3805744346774693,
           0.2790818237202172,
           0.34593910934528277,
           0.42691414860440735,
           0.4466303044573593,
           0.446176815101586,
           0.43938954511271155,
           0.4114662282388279,
           0.3843108471263972,
           0.42973646086537814,
           0.41869177099009197,
           0.39213403441836137,
           0.4026094645612172,
           0.43047906414002723,
           0.44701383491437074,
           0.4469310716625346,
           0.42269693953272364,
           0.2917556001732085,
           0.32228230162032034,
           0.44711387996924445,
           0.4031355047856168,
           0.41937489872706213,
           0.43034087835032253,
           0.3567894337545173,
           0.4469310716625346,
           0.44793643920523146,
           0.4039025624516773,
           0.44024448900508195,
           0.4012878915666562,
           0.3086572968132276,
           0.35709889216782925,
           0.4167499991443659,
           0.2851813416163734,
           0.10289851596736996,
           0.4469310716625346,
           0.4411108041809599,
           0.44632288014397636,
           0.4429412033692824,
           0.18103205147034504,
           0.4475599027069842,
           0.4320741178973201,
           0.44788070191026,
           0.44788070191026,
           0.42925342570746333,
           0.44788070191026,
           0.4475599027069842,
           0.4443615505858934,
           0.44100989494458503,
           0.42057243418972606,
           0.26782685304944875,
           0.44617002539384093,
           0.4131789375888101,
           0.3036198217195589,
           0.4329552168447387,
           0.44827579907940207,
           0.4475599027069842,
           0.4475599027069842,
           0.4394042360823721,
           0.4449161402638257,
           0.43974215619778184,
           0.3920923707151528,
           0.28992979968364496,
           0.44632288014397636,
           0.40316622673215363,
           0.44788070191026,
           0.44889415696372154,
           0.4518771795967188,
           0.43938954511271155,
           0.3752094161703793,
           0.449345289953652,
           0.3728612946303616,
           0.43974215619778184,
           0.4477872176364433,
           0.4477837824493204,
           0.4477872176364433,
           0.44876485051997933,
           0.4426818061380839,
           0.4209484506025215,
           0.42418938191806854,
           0.4461966722268449,
           0.3580174924241403,
           0.4016176328313922,
           0.440203071485875
          ],
          "colorbar": {
           "title": {
            "text": "Objective Value"
           }
          },
          "colorscale": [
           [
            0,
            "rgb(247,251,255)"
           ],
           [
            0.125,
            "rgb(222,235,247)"
           ],
           [
            0.25,
            "rgb(198,219,239)"
           ],
           [
            0.375,
            "rgb(158,202,225)"
           ],
           [
            0.5,
            "rgb(107,174,214)"
           ],
           [
            0.625,
            "rgb(66,146,198)"
           ],
           [
            0.75,
            "rgb(33,113,181)"
           ],
           [
            0.875,
            "rgb(8,81,156)"
           ],
           [
            1,
            "rgb(8,48,107)"
           ]
          ],
          "reversescale": false,
          "showscale": true
         },
         "type": "parcoords"
        }
       ],
       "layout": {
        "template": {
         "data": {
          "bar": [
           {
            "error_x": {
             "color": "#2a3f5f"
            },
            "error_y": {
             "color": "#2a3f5f"
            },
            "marker": {
             "line": {
              "color": "#E5ECF6",
              "width": 0.5
             },
             "pattern": {
              "fillmode": "overlay",
              "size": 10,
              "solidity": 0.2
             }
            },
            "type": "bar"
           }
          ],
          "barpolar": [
           {
            "marker": {
             "line": {
              "color": "#E5ECF6",
              "width": 0.5
             },
             "pattern": {
              "fillmode": "overlay",
              "size": 10,
              "solidity": 0.2
             }
            },
            "type": "barpolar"
           }
          ],
          "carpet": [
           {
            "aaxis": {
             "endlinecolor": "#2a3f5f",
             "gridcolor": "white",
             "linecolor": "white",
             "minorgridcolor": "white",
             "startlinecolor": "#2a3f5f"
            },
            "baxis": {
             "endlinecolor": "#2a3f5f",
             "gridcolor": "white",
             "linecolor": "white",
             "minorgridcolor": "white",
             "startlinecolor": "#2a3f5f"
            },
            "type": "carpet"
           }
          ],
          "choropleth": [
           {
            "colorbar": {
             "outlinewidth": 0,
             "ticks": ""
            },
            "type": "choropleth"
           }
          ],
          "contour": [
           {
            "colorbar": {
             "outlinewidth": 0,
             "ticks": ""
            },
            "colorscale": [
             [
              0,
              "#0d0887"
             ],
             [
              0.1111111111111111,
              "#46039f"
             ],
             [
              0.2222222222222222,
              "#7201a8"
             ],
             [
              0.3333333333333333,
              "#9c179e"
             ],
             [
              0.4444444444444444,
              "#bd3786"
             ],
             [
              0.5555555555555556,
              "#d8576b"
             ],
             [
              0.6666666666666666,
              "#ed7953"
             ],
             [
              0.7777777777777778,
              "#fb9f3a"
             ],
             [
              0.8888888888888888,
              "#fdca26"
             ],
             [
              1,
              "#f0f921"
             ]
            ],
            "type": "contour"
           }
          ],
          "contourcarpet": [
           {
            "colorbar": {
             "outlinewidth": 0,
             "ticks": ""
            },
            "type": "contourcarpet"
           }
          ],
          "heatmap": [
           {
            "colorbar": {
             "outlinewidth": 0,
             "ticks": ""
            },
            "colorscale": [
             [
              0,
              "#0d0887"
             ],
             [
              0.1111111111111111,
              "#46039f"
             ],
             [
              0.2222222222222222,
              "#7201a8"
             ],
             [
              0.3333333333333333,
              "#9c179e"
             ],
             [
              0.4444444444444444,
              "#bd3786"
             ],
             [
              0.5555555555555556,
              "#d8576b"
             ],
             [
              0.6666666666666666,
              "#ed7953"
             ],
             [
              0.7777777777777778,
              "#fb9f3a"
             ],
             [
              0.8888888888888888,
              "#fdca26"
             ],
             [
              1,
              "#f0f921"
             ]
            ],
            "type": "heatmap"
           }
          ],
          "heatmapgl": [
           {
            "colorbar": {
             "outlinewidth": 0,
             "ticks": ""
            },
            "colorscale": [
             [
              0,
              "#0d0887"
             ],
             [
              0.1111111111111111,
              "#46039f"
             ],
             [
              0.2222222222222222,
              "#7201a8"
             ],
             [
              0.3333333333333333,
              "#9c179e"
             ],
             [
              0.4444444444444444,
              "#bd3786"
             ],
             [
              0.5555555555555556,
              "#d8576b"
             ],
             [
              0.6666666666666666,
              "#ed7953"
             ],
             [
              0.7777777777777778,
              "#fb9f3a"
             ],
             [
              0.8888888888888888,
              "#fdca26"
             ],
             [
              1,
              "#f0f921"
             ]
            ],
            "type": "heatmapgl"
           }
          ],
          "histogram": [
           {
            "marker": {
             "pattern": {
              "fillmode": "overlay",
              "size": 10,
              "solidity": 0.2
             }
            },
            "type": "histogram"
           }
          ],
          "histogram2d": [
           {
            "colorbar": {
             "outlinewidth": 0,
             "ticks": ""
            },
            "colorscale": [
             [
              0,
              "#0d0887"
             ],
             [
              0.1111111111111111,
              "#46039f"
             ],
             [
              0.2222222222222222,
              "#7201a8"
             ],
             [
              0.3333333333333333,
              "#9c179e"
             ],
             [
              0.4444444444444444,
              "#bd3786"
             ],
             [
              0.5555555555555556,
              "#d8576b"
             ],
             [
              0.6666666666666666,
              "#ed7953"
             ],
             [
              0.7777777777777778,
              "#fb9f3a"
             ],
             [
              0.8888888888888888,
              "#fdca26"
             ],
             [
              1,
              "#f0f921"
             ]
            ],
            "type": "histogram2d"
           }
          ],
          "histogram2dcontour": [
           {
            "colorbar": {
             "outlinewidth": 0,
             "ticks": ""
            },
            "colorscale": [
             [
              0,
              "#0d0887"
             ],
             [
              0.1111111111111111,
              "#46039f"
             ],
             [
              0.2222222222222222,
              "#7201a8"
             ],
             [
              0.3333333333333333,
              "#9c179e"
             ],
             [
              0.4444444444444444,
              "#bd3786"
             ],
             [
              0.5555555555555556,
              "#d8576b"
             ],
             [
              0.6666666666666666,
              "#ed7953"
             ],
             [
              0.7777777777777778,
              "#fb9f3a"
             ],
             [
              0.8888888888888888,
              "#fdca26"
             ],
             [
              1,
              "#f0f921"
             ]
            ],
            "type": "histogram2dcontour"
           }
          ],
          "mesh3d": [
           {
            "colorbar": {
             "outlinewidth": 0,
             "ticks": ""
            },
            "type": "mesh3d"
           }
          ],
          "parcoords": [
           {
            "line": {
             "colorbar": {
              "outlinewidth": 0,
              "ticks": ""
             }
            },
            "type": "parcoords"
           }
          ],
          "pie": [
           {
            "automargin": true,
            "type": "pie"
           }
          ],
          "scatter": [
           {
            "marker": {
             "colorbar": {
              "outlinewidth": 0,
              "ticks": ""
             }
            },
            "type": "scatter"
           }
          ],
          "scatter3d": [
           {
            "line": {
             "colorbar": {
              "outlinewidth": 0,
              "ticks": ""
             }
            },
            "marker": {
             "colorbar": {
              "outlinewidth": 0,
              "ticks": ""
             }
            },
            "type": "scatter3d"
           }
          ],
          "scattercarpet": [
           {
            "marker": {
             "colorbar": {
              "outlinewidth": 0,
              "ticks": ""
             }
            },
            "type": "scattercarpet"
           }
          ],
          "scattergeo": [
           {
            "marker": {
             "colorbar": {
              "outlinewidth": 0,
              "ticks": ""
             }
            },
            "type": "scattergeo"
           }
          ],
          "scattergl": [
           {
            "marker": {
             "colorbar": {
              "outlinewidth": 0,
              "ticks": ""
             }
            },
            "type": "scattergl"
           }
          ],
          "scattermapbox": [
           {
            "marker": {
             "colorbar": {
              "outlinewidth": 0,
              "ticks": ""
             }
            },
            "type": "scattermapbox"
           }
          ],
          "scatterpolar": [
           {
            "marker": {
             "colorbar": {
              "outlinewidth": 0,
              "ticks": ""
             }
            },
            "type": "scatterpolar"
           }
          ],
          "scatterpolargl": [
           {
            "marker": {
             "colorbar": {
              "outlinewidth": 0,
              "ticks": ""
             }
            },
            "type": "scatterpolargl"
           }
          ],
          "scatterternary": [
           {
            "marker": {
             "colorbar": {
              "outlinewidth": 0,
              "ticks": ""
             }
            },
            "type": "scatterternary"
           }
          ],
          "surface": [
           {
            "colorbar": {
             "outlinewidth": 0,
             "ticks": ""
            },
            "colorscale": [
             [
              0,
              "#0d0887"
             ],
             [
              0.1111111111111111,
              "#46039f"
             ],
             [
              0.2222222222222222,
              "#7201a8"
             ],
             [
              0.3333333333333333,
              "#9c179e"
             ],
             [
              0.4444444444444444,
              "#bd3786"
             ],
             [
              0.5555555555555556,
              "#d8576b"
             ],
             [
              0.6666666666666666,
              "#ed7953"
             ],
             [
              0.7777777777777778,
              "#fb9f3a"
             ],
             [
              0.8888888888888888,
              "#fdca26"
             ],
             [
              1,
              "#f0f921"
             ]
            ],
            "type": "surface"
           }
          ],
          "table": [
           {
            "cells": {
             "fill": {
              "color": "#EBF0F8"
             },
             "line": {
              "color": "white"
             }
            },
            "header": {
             "fill": {
              "color": "#C8D4E3"
             },
             "line": {
              "color": "white"
             }
            },
            "type": "table"
           }
          ]
         },
         "layout": {
          "annotationdefaults": {
           "arrowcolor": "#2a3f5f",
           "arrowhead": 0,
           "arrowwidth": 1
          },
          "autotypenumbers": "strict",
          "coloraxis": {
           "colorbar": {
            "outlinewidth": 0,
            "ticks": ""
           }
          },
          "colorscale": {
           "diverging": [
            [
             0,
             "#8e0152"
            ],
            [
             0.1,
             "#c51b7d"
            ],
            [
             0.2,
             "#de77ae"
            ],
            [
             0.3,
             "#f1b6da"
            ],
            [
             0.4,
             "#fde0ef"
            ],
            [
             0.5,
             "#f7f7f7"
            ],
            [
             0.6,
             "#e6f5d0"
            ],
            [
             0.7,
             "#b8e186"
            ],
            [
             0.8,
             "#7fbc41"
            ],
            [
             0.9,
             "#4d9221"
            ],
            [
             1,
             "#276419"
            ]
           ],
           "sequential": [
            [
             0,
             "#0d0887"
            ],
            [
             0.1111111111111111,
             "#46039f"
            ],
            [
             0.2222222222222222,
             "#7201a8"
            ],
            [
             0.3333333333333333,
             "#9c179e"
            ],
            [
             0.4444444444444444,
             "#bd3786"
            ],
            [
             0.5555555555555556,
             "#d8576b"
            ],
            [
             0.6666666666666666,
             "#ed7953"
            ],
            [
             0.7777777777777778,
             "#fb9f3a"
            ],
            [
             0.8888888888888888,
             "#fdca26"
            ],
            [
             1,
             "#f0f921"
            ]
           ],
           "sequentialminus": [
            [
             0,
             "#0d0887"
            ],
            [
             0.1111111111111111,
             "#46039f"
            ],
            [
             0.2222222222222222,
             "#7201a8"
            ],
            [
             0.3333333333333333,
             "#9c179e"
            ],
            [
             0.4444444444444444,
             "#bd3786"
            ],
            [
             0.5555555555555556,
             "#d8576b"
            ],
            [
             0.6666666666666666,
             "#ed7953"
            ],
            [
             0.7777777777777778,
             "#fb9f3a"
            ],
            [
             0.8888888888888888,
             "#fdca26"
            ],
            [
             1,
             "#f0f921"
            ]
           ]
          },
          "colorway": [
           "#636efa",
           "#EF553B",
           "#00cc96",
           "#ab63fa",
           "#FFA15A",
           "#19d3f3",
           "#FF6692",
           "#B6E880",
           "#FF97FF",
           "#FECB52"
          ],
          "font": {
           "color": "#2a3f5f"
          },
          "geo": {
           "bgcolor": "white",
           "lakecolor": "white",
           "landcolor": "#E5ECF6",
           "showlakes": true,
           "showland": true,
           "subunitcolor": "white"
          },
          "hoverlabel": {
           "align": "left"
          },
          "hovermode": "closest",
          "mapbox": {
           "style": "light"
          },
          "paper_bgcolor": "white",
          "plot_bgcolor": "#E5ECF6",
          "polar": {
           "angularaxis": {
            "gridcolor": "white",
            "linecolor": "white",
            "ticks": ""
           },
           "bgcolor": "#E5ECF6",
           "radialaxis": {
            "gridcolor": "white",
            "linecolor": "white",
            "ticks": ""
           }
          },
          "scene": {
           "xaxis": {
            "backgroundcolor": "#E5ECF6",
            "gridcolor": "white",
            "gridwidth": 2,
            "linecolor": "white",
            "showbackground": true,
            "ticks": "",
            "zerolinecolor": "white"
           },
           "yaxis": {
            "backgroundcolor": "#E5ECF6",
            "gridcolor": "white",
            "gridwidth": 2,
            "linecolor": "white",
            "showbackground": true,
            "ticks": "",
            "zerolinecolor": "white"
           },
           "zaxis": {
            "backgroundcolor": "#E5ECF6",
            "gridcolor": "white",
            "gridwidth": 2,
            "linecolor": "white",
            "showbackground": true,
            "ticks": "",
            "zerolinecolor": "white"
           }
          },
          "shapedefaults": {
           "line": {
            "color": "#2a3f5f"
           }
          },
          "ternary": {
           "aaxis": {
            "gridcolor": "white",
            "linecolor": "white",
            "ticks": ""
           },
           "baxis": {
            "gridcolor": "white",
            "linecolor": "white",
            "ticks": ""
           },
           "bgcolor": "#E5ECF6",
           "caxis": {
            "gridcolor": "white",
            "linecolor": "white",
            "ticks": ""
           }
          },
          "title": {
           "x": 0.05
          },
          "xaxis": {
           "automargin": true,
           "gridcolor": "white",
           "linecolor": "white",
           "ticks": "",
           "title": {
            "standoff": 15
           },
           "zerolinecolor": "white",
           "zerolinewidth": 2
          },
          "yaxis": {
           "automargin": true,
           "gridcolor": "white",
           "linecolor": "white",
           "ticks": "",
           "title": {
            "standoff": 15
           },
           "zerolinecolor": "white",
           "zerolinewidth": 2
          }
         }
        },
        "title": {
         "text": "Parallel Coordinate Plot"
        }
       }
      }
     },
     "metadata": {},
     "output_type": "display_data"
    }
   ],
   "source": [
    "optuna.visualization.plot_parallel_coordinate(study)"
   ]
  },
  {
   "cell_type": "code",
   "execution_count": 29,
   "id": "75db1ddf",
   "metadata": {},
   "outputs": [
    {
     "name": "stdout",
     "output_type": "stream",
     "text": [
      "Best trial: {'n_estimators': 63, 'max_depth': 10, 'min_samples_leaf': 2, 'min_samples_split': 3}\n"
     ]
    }
   ],
   "source": [
    "print(\"Best trial:\", study.best_trial.params)"
   ]
  },
  {
   "cell_type": "code",
   "execution_count": 30,
   "id": "574699dc",
   "metadata": {},
   "outputs": [
    {
     "data": {
      "text/plain": [
       "63"
      ]
     },
     "execution_count": 30,
     "metadata": {},
     "output_type": "execute_result"
    }
   ],
   "source": [
    "study.best_trial.params[\"n_estimators\"]"
   ]
  },
  {
   "cell_type": "code",
   "execution_count": 31,
   "id": "862eadd2",
   "metadata": {},
   "outputs": [
    {
     "data": {
      "text/html": [
       "<style>#sk-container-id-1 {color: black;}#sk-container-id-1 pre{padding: 0;}#sk-container-id-1 div.sk-toggleable {background-color: white;}#sk-container-id-1 label.sk-toggleable__label {cursor: pointer;display: block;width: 100%;margin-bottom: 0;padding: 0.3em;box-sizing: border-box;text-align: center;}#sk-container-id-1 label.sk-toggleable__label-arrow:before {content: \"▸\";float: left;margin-right: 0.25em;color: #696969;}#sk-container-id-1 label.sk-toggleable__label-arrow:hover:before {color: black;}#sk-container-id-1 div.sk-estimator:hover label.sk-toggleable__label-arrow:before {color: black;}#sk-container-id-1 div.sk-toggleable__content {max-height: 0;max-width: 0;overflow: hidden;text-align: left;background-color: #f0f8ff;}#sk-container-id-1 div.sk-toggleable__content pre {margin: 0.2em;color: black;border-radius: 0.25em;background-color: #f0f8ff;}#sk-container-id-1 input.sk-toggleable__control:checked~div.sk-toggleable__content {max-height: 200px;max-width: 100%;overflow: auto;}#sk-container-id-1 input.sk-toggleable__control:checked~label.sk-toggleable__label-arrow:before {content: \"▾\";}#sk-container-id-1 div.sk-estimator input.sk-toggleable__control:checked~label.sk-toggleable__label {background-color: #d4ebff;}#sk-container-id-1 div.sk-label input.sk-toggleable__control:checked~label.sk-toggleable__label {background-color: #d4ebff;}#sk-container-id-1 input.sk-hidden--visually {border: 0;clip: rect(1px 1px 1px 1px);clip: rect(1px, 1px, 1px, 1px);height: 1px;margin: -1px;overflow: hidden;padding: 0;position: absolute;width: 1px;}#sk-container-id-1 div.sk-estimator {font-family: monospace;background-color: #f0f8ff;border: 1px dotted black;border-radius: 0.25em;box-sizing: border-box;margin-bottom: 0.5em;}#sk-container-id-1 div.sk-estimator:hover {background-color: #d4ebff;}#sk-container-id-1 div.sk-parallel-item::after {content: \"\";width: 100%;border-bottom: 1px solid gray;flex-grow: 1;}#sk-container-id-1 div.sk-label:hover label.sk-toggleable__label {background-color: #d4ebff;}#sk-container-id-1 div.sk-serial::before {content: \"\";position: absolute;border-left: 1px solid gray;box-sizing: border-box;top: 0;bottom: 0;left: 50%;z-index: 0;}#sk-container-id-1 div.sk-serial {display: flex;flex-direction: column;align-items: center;background-color: white;padding-right: 0.2em;padding-left: 0.2em;position: relative;}#sk-container-id-1 div.sk-item {position: relative;z-index: 1;}#sk-container-id-1 div.sk-parallel {display: flex;align-items: stretch;justify-content: center;background-color: white;position: relative;}#sk-container-id-1 div.sk-item::before, #sk-container-id-1 div.sk-parallel-item::before {content: \"\";position: absolute;border-left: 1px solid gray;box-sizing: border-box;top: 0;bottom: 0;left: 50%;z-index: -1;}#sk-container-id-1 div.sk-parallel-item {display: flex;flex-direction: column;z-index: 1;position: relative;background-color: white;}#sk-container-id-1 div.sk-parallel-item:first-child::after {align-self: flex-end;width: 50%;}#sk-container-id-1 div.sk-parallel-item:last-child::after {align-self: flex-start;width: 50%;}#sk-container-id-1 div.sk-parallel-item:only-child::after {width: 0;}#sk-container-id-1 div.sk-dashed-wrapped {border: 1px dashed gray;margin: 0 0.4em 0.5em 0.4em;box-sizing: border-box;padding-bottom: 0.4em;background-color: white;}#sk-container-id-1 div.sk-label label {font-family: monospace;font-weight: bold;display: inline-block;line-height: 1.2em;}#sk-container-id-1 div.sk-label-container {text-align: center;}#sk-container-id-1 div.sk-container {/* jupyter's `normalize.less` sets `[hidden] { display: none; }` but bootstrap.min.css set `[hidden] { display: none !important; }` so we also need the `!important` here to be able to override the default hidden behavior on the sphinx rendered scikit-learn.org. See: https://github.com/scikit-learn/scikit-learn/issues/21755 */display: inline-block !important;position: relative;}#sk-container-id-1 div.sk-text-repr-fallback {display: none;}</style><div id=\"sk-container-id-1\" class=\"sk-top-container\"><div class=\"sk-text-repr-fallback\"><pre>RandomForestRegressor(max_depth=10, min_samples_leaf=2, min_samples_split=3,\n",
       "                      n_estimators=63, random_state=42)</pre><b>In a Jupyter environment, please rerun this cell to show the HTML representation or trust the notebook. <br />On GitHub, the HTML representation is unable to render, please try loading this page with nbviewer.org.</b></div><div class=\"sk-container\" hidden><div class=\"sk-item\"><div class=\"sk-estimator sk-toggleable\"><input class=\"sk-toggleable__control sk-hidden--visually\" id=\"sk-estimator-id-1\" type=\"checkbox\" checked><label for=\"sk-estimator-id-1\" class=\"sk-toggleable__label sk-toggleable__label-arrow\">RandomForestRegressor</label><div class=\"sk-toggleable__content\"><pre>RandomForestRegressor(max_depth=10, min_samples_leaf=2, min_samples_split=3,\n",
       "                      n_estimators=63, random_state=42)</pre></div></div></div></div></div>"
      ],
      "text/plain": [
       "RandomForestRegressor(max_depth=10, min_samples_leaf=2, min_samples_split=3,\n",
       "                      n_estimators=63, random_state=42)"
      ]
     },
     "execution_count": 31,
     "metadata": {},
     "output_type": "execute_result"
    }
   ],
   "source": [
    "rf_params = {\n",
    "    \"random_state\": 42,\n",
    "    #\"learning_rate\": 0.1,\n",
    "    \"n_estimators\": study.best_trial.params[\"n_estimators\"],\n",
    "    \"max_depth\": study.best_trial.params[\"max_depth\"],\n",
    "    \"min_samples_leaf\": study.best_trial.params[\"min_samples_leaf\"],\n",
    "    \"min_samples_split\": study.best_trial.params[\"min_samples_split\"],\n",
    "    #\"subsample\": study.best_trial.params[\"subsample\"]\n",
    "}\n",
    "\n",
    "rf = RandomForestRegressor(**rf_params)\n",
    "rf.fit(As_X_train, As_y_train)"
   ]
  },
  {
   "cell_type": "code",
   "execution_count": 32,
   "id": "8577fb37",
   "metadata": {},
   "outputs": [],
   "source": [
    "y_train_pred = rf.predict(As_X_train)\n",
    "y_test_pred = rf.predict(As_X_test)"
   ]
  },
  {
   "cell_type": "code",
   "execution_count": 33,
   "id": "2ea0526a",
   "metadata": {},
   "outputs": [],
   "source": [
    "# plt.scatter(y_train_pred, np.array(As_y_train))"
   ]
  },
  {
   "cell_type": "code",
   "execution_count": 34,
   "id": "d2a4dd85",
   "metadata": {},
   "outputs": [
    {
     "name": "stdout",
     "output_type": "stream",
     "text": [
      "Train RMSE:  0.33292434108283586\n",
      "Test RMSE:  0.9047060026046333\n"
     ]
    }
   ],
   "source": [
    "print(\"Train RMSE: \", np.sqrt(mean_squared_error(As_y_train, y_train_pred)))\n",
    "print(\"Test RMSE: \", np.sqrt(mean_squared_error(As_y_test, y_test_pred)))"
   ]
  },
  {
   "cell_type": "code",
   "execution_count": 35,
   "id": "08fe787a",
   "metadata": {},
   "outputs": [
    {
     "name": "stdout",
     "output_type": "stream",
     "text": [
      "Train R2:  0.8704857013537659\n",
      "Test R2:  0.024875845660992768\n"
     ]
    }
   ],
   "source": [
    "print(\"Train R2: \", r2_score(As_y_train, y_train_pred))\n",
    "print(\"Test R2: \", r2_score(As_y_test, y_test_pred))"
   ]
  },
  {
   "cell_type": "code",
   "execution_count": 36,
   "id": "5ec4820c",
   "metadata": {},
   "outputs": [
    {
     "data": {
      "image/png": "[encoded data removed]",
      "text/plain": [
       "<Figure size 640x480 with 1 Axes>"
      ]
     },
     "metadata": {},
     "output_type": "display_data"
    }
   ],
   "source": [
    "plt.scatter(y_train_pred, np.array(As_y_train), color=\"orange\", alpha=0.3)\n",
    "plt.scatter(y_test_pred, np.array(As_y_test), color=\"green\", alpha=0.4)\n",
    "plt.axis(\"auto\") # scaled, tight, auto, image, square\n",
    "# plt.xlim([0, 1.5]) \n",
    "# plt.ylim(0, None) \n",
    "plt.xlabel('Predicted Values')\n",
    "plt.ylabel('Actual Values')\n",
    "\n",
    "# Add y=x line\n",
    "plt.plot([0, 1.8], [0, 1.8], color='red', linestyle='-')\n",
    "\n",
    "plt.show()"
   ]
  },
  {
   "attachments": {},
   "cell_type": "markdown",
   "id": "e0507d63",
   "metadata": {},
   "source": [
    "Cd"
   ]
  },
  {
   "attachments": {},
   "cell_type": "markdown",
   "id": "f8f809d9",
   "metadata": {},
   "source": [
    "Optimization"
   ]
  },
  {
   "cell_type": "code",
   "execution_count": 37,
   "id": "b7aeaf0a",
   "metadata": {},
   "outputs": [
    {
     "name": "stderr",
     "output_type": "stream",
     "text": [
      "\u001b[32m[I 2023-08-30 02:05:55,507]\u001b[0m A new study created in memory with name: rf_parameter_opt\u001b[0m\n",
      "\u001b[32m[I 2023-08-30 02:05:56,608]\u001b[0m Trial 0 finished with value: 0.4709576687831234 and parameters: {'n_estimators': 73, 'max_depth': 9, 'min_samples_leaf': 18, 'min_samples_split': 12}. Best is trial 0 with value: 0.4709576687831234.\u001b[0m\n",
      "\u001b[32m[I 2023-08-30 02:05:57,803]\u001b[0m Trial 1 finished with value: 0.4723072830208734 and parameters: {'n_estimators': 80, 'max_depth': 5, 'min_samples_leaf': 11, 'min_samples_split': 15}. Best is trial 1 with value: 0.4723072830208734.\u001b[0m\n",
      "\u001b[32m[I 2023-08-30 02:05:58,055]\u001b[0m Trial 2 finished with value: 0.3156648706601389 and parameters: {'n_estimators': 25, 'max_depth': 2, 'min_samples_leaf': 19, 'min_samples_split': 10}. Best is trial 1 with value: 0.4723072830208734.\u001b[0m\n",
      "\u001b[32m[I 2023-08-30 02:05:59,073]\u001b[0m Trial 3 finished with value: 0.52578906502784 and parameters: {'n_estimators': 52, 'max_depth': 9, 'min_samples_leaf': 9, 'min_samples_split': 14}. Best is trial 3 with value: 0.52578906502784.\u001b[0m\n",
      "\u001b[32m[I 2023-08-30 02:06:00,397]\u001b[0m Trial 4 finished with value: 0.4312823751246936 and parameters: {'n_estimators': 99, 'max_depth': 4, 'min_samples_leaf': 16, 'min_samples_split': 5}. Best is trial 3 with value: 0.52578906502784.\u001b[0m\n",
      "\u001b[32m[I 2023-08-30 02:06:00,777]\u001b[0m Trial 5 finished with value: 0.4841050854937543 and parameters: {'n_estimators': 23, 'max_depth': 7, 'min_samples_leaf': 12, 'min_samples_split': 15}. Best is trial 3 with value: 0.52578906502784.\u001b[0m\n",
      "\u001b[32m[I 2023-08-30 02:06:01,091]\u001b[0m Trial 6 finished with value: 0.4999209004172167 and parameters: {'n_estimators': 17, 'max_depth': 10, 'min_samples_leaf': 8, 'min_samples_split': 20}. Best is trial 3 with value: 0.52578906502784.\u001b[0m\n",
      "\u001b[32m[I 2023-08-30 02:06:02,437]\u001b[0m Trial 7 finished with value: 0.4587111407905999 and parameters: {'n_estimators': 99, 'max_depth': 8, 'min_samples_leaf': 20, 'min_samples_split': 9}. Best is trial 3 with value: 0.52578906502784.\u001b[0m\n",
      "\u001b[32m[I 2023-08-30 02:06:03,460]\u001b[0m Trial 8 finished with value: 0.4375612464664262 and parameters: {'n_estimators': 78, 'max_depth': 4, 'min_samples_leaf': 13, 'min_samples_split': 16}. Best is trial 3 with value: 0.52578906502784.\u001b[0m\n",
      "\u001b[32m[I 2023-08-30 02:06:03,796]\u001b[0m Trial 9 finished with value: 0.17408791438604043 and parameters: {'n_estimators': 45, 'max_depth': 1, 'min_samples_leaf': 9, 'min_samples_split': 15}. Best is trial 3 with value: 0.52578906502784.\u001b[0m\n",
      "\u001b[32m[I 2023-08-30 02:06:04,811]\u001b[0m Trial 10 finished with value: 0.5383427421654239 and parameters: {'n_estimators': 47, 'max_depth': 7, 'min_samples_leaf': 3, 'min_samples_split': 2}. Best is trial 10 with value: 0.5383427421654239.\u001b[0m\n",
      "\u001b[32m[I 2023-08-30 02:06:05,880]\u001b[0m Trial 11 finished with value: 0.5466662685492185 and parameters: {'n_estimators': 47, 'max_depth': 7, 'min_samples_leaf': 1, 'min_samples_split': 3}. Best is trial 11 with value: 0.5466662685492185.\u001b[0m\n",
      "\u001b[32m[I 2023-08-30 02:06:06,791]\u001b[0m Trial 12 finished with value: 0.5437512858327717 and parameters: {'n_estimators': 40, 'max_depth': 7, 'min_samples_leaf': 1, 'min_samples_split': 2}. Best is trial 11 with value: 0.5466662685492185.\u001b[0m\n",
      "\u001b[32m[I 2023-08-30 02:06:07,496]\u001b[0m Trial 13 finished with value: 0.5185279101263116 and parameters: {'n_estimators': 35, 'max_depth': 6, 'min_samples_leaf': 1, 'min_samples_split': 2}. Best is trial 11 with value: 0.5466662685492185.\u001b[0m\n",
      "\u001b[32m[I 2023-08-30 02:06:08,661]\u001b[0m Trial 14 finished with value: 0.5177104643134257 and parameters: {'n_estimators': 63, 'max_depth': 6, 'min_samples_leaf': 4, 'min_samples_split': 6}. Best is trial 11 with value: 0.5466662685492185.\u001b[0m\n",
      "\u001b[32m[I 2023-08-30 02:06:09,342]\u001b[0m Trial 15 finished with value: 0.5363103745072589 and parameters: {'n_estimators': 34, 'max_depth': 8, 'min_samples_leaf': 5, 'min_samples_split': 5}. Best is trial 11 with value: 0.5466662685492185.\u001b[0m\n",
      "\u001b[32m[I 2023-08-30 02:06:10,229]\u001b[0m Trial 16 finished with value: 0.45346512011189405 and parameters: {'n_estimators': 60, 'max_depth': 4, 'min_samples_leaf': 1, 'min_samples_split': 7}. Best is trial 11 with value: 0.5466662685492185.\u001b[0m\n",
      "\u001b[32m[I 2023-08-30 02:06:10,424]\u001b[0m Trial 17 finished with value: 0.501243090750115 and parameters: {'n_estimators': 10, 'max_depth': 7, 'min_samples_leaf': 6, 'min_samples_split': 3}. Best is trial 11 with value: 0.5466662685492185.\u001b[0m\n",
      "\u001b[32m[I 2023-08-30 02:06:11,108]\u001b[0m Trial 18 finished with value: 0.4887498793327255 and parameters: {'n_estimators': 41, 'max_depth': 5, 'min_samples_leaf': 2, 'min_samples_split': 8}. Best is trial 11 with value: 0.5466662685492185.\u001b[0m\n",
      "\u001b[32m[I 2023-08-30 02:06:12,359]\u001b[0m Trial 19 finished with value: 0.5407154471699334 and parameters: {'n_estimators': 66, 'max_depth': 8, 'min_samples_leaf': 6, 'min_samples_split': 4}. Best is trial 11 with value: 0.5466662685492185.\u001b[0m\n",
      "\u001b[32m[I 2023-08-30 02:06:12,910]\u001b[0m Trial 20 finished with value: 0.4887219778873774 and parameters: {'n_estimators': 36, 'max_depth': 10, 'min_samples_leaf': 14, 'min_samples_split': 11}. Best is trial 11 with value: 0.5466662685492185.\u001b[0m\n",
      "\u001b[32m[I 2023-08-30 02:06:14,162]\u001b[0m Trial 21 finished with value: 0.5403187637876594 and parameters: {'n_estimators': 67, 'max_depth': 8, 'min_samples_leaf': 6, 'min_samples_split': 4}. Best is trial 11 with value: 0.5466662685492185.\u001b[0m\n",
      "\u001b[32m[I 2023-08-30 02:06:15,393]\u001b[0m Trial 22 finished with value: 0.5576195599455256 and parameters: {'n_estimators': 54, 'max_depth': 9, 'min_samples_leaf': 3, 'min_samples_split': 4}. Best is trial 22 with value: 0.5576195599455256.\u001b[0m\n",
      "\u001b[32m[I 2023-08-30 02:06:16,557]\u001b[0m Trial 23 finished with value: 0.557489542658102 and parameters: {'n_estimators': 52, 'max_depth': 9, 'min_samples_leaf': 3, 'min_samples_split': 2}. Best is trial 22 with value: 0.5576195599455256.\u001b[0m\n",
      "\u001b[32m[I 2023-08-30 02:06:17,780]\u001b[0m Trial 24 finished with value: 0.555224045374066 and parameters: {'n_estimators': 55, 'max_depth': 9, 'min_samples_leaf': 3, 'min_samples_split': 7}. Best is trial 22 with value: 0.5576195599455256.\u001b[0m\n",
      "\u001b[32m[I 2023-08-30 02:06:18,955]\u001b[0m Trial 25 finished with value: 0.5522264040763728 and parameters: {'n_estimators': 54, 'max_depth': 9, 'min_samples_leaf': 4, 'min_samples_split': 7}. Best is trial 22 with value: 0.5576195599455256.\u001b[0m\n",
      "\u001b[32m[I 2023-08-30 02:06:20,356]\u001b[0m Trial 26 finished with value: 0.5592435715623019 and parameters: {'n_estimators': 58, 'max_depth': 10, 'min_samples_leaf': 3, 'min_samples_split': 6}. Best is trial 26 with value: 0.5592435715623019.\u001b[0m\n",
      "\u001b[32m[I 2023-08-30 02:06:21,660]\u001b[0m Trial 27 finished with value: 0.5297674955769083 and parameters: {'n_estimators': 73, 'max_depth': 10, 'min_samples_leaf': 8, 'min_samples_split': 5}. Best is trial 26 with value: 0.5592435715623019.\u001b[0m\n",
      "\u001b[32m[I 2023-08-30 02:06:23,073]\u001b[0m Trial 28 finished with value: 0.5594066814340898 and parameters: {'n_estimators': 59, 'max_depth': 10, 'min_samples_leaf': 3, 'min_samples_split': 4}. Best is trial 28 with value: 0.5594066814340898.\u001b[0m\n",
      "\u001b[32m[I 2023-08-30 02:06:24,769]\u001b[0m Trial 29 finished with value: 0.5394882132649006 and parameters: {'n_estimators': 90, 'max_depth': 10, 'min_samples_leaf': 7, 'min_samples_split': 9}. Best is trial 28 with value: 0.5594066814340898.\u001b[0m\n",
      "\u001b[32m[I 2023-08-30 02:06:26,231]\u001b[0m Trial 30 finished with value: 0.549146029506266 and parameters: {'n_estimators': 71, 'max_depth': 10, 'min_samples_leaf': 5, 'min_samples_split': 6}. Best is trial 28 with value: 0.5594066814340898.\u001b[0m\n",
      "\u001b[32m[I 2023-08-30 02:06:27,514]\u001b[0m Trial 31 finished with value: 0.5576731574503235 and parameters: {'n_estimators': 56, 'max_depth': 9, 'min_samples_leaf': 3, 'min_samples_split': 4}. Best is trial 28 with value: 0.5594066814340898.\u001b[0m\n",
      "\u001b[32m[I 2023-08-30 02:06:28,811]\u001b[0m Trial 32 finished with value: 0.5516464100150607 and parameters: {'n_estimators': 60, 'max_depth': 9, 'min_samples_leaf': 4, 'min_samples_split': 4}. Best is trial 28 with value: 0.5594066814340898.\u001b[0m\n",
      "\u001b[32m[I 2023-08-30 02:06:30,757]\u001b[0m Trial 33 finished with value: 0.5652036633666198 and parameters: {'n_estimators': 80, 'max_depth': 10, 'min_samples_leaf': 2, 'min_samples_split': 6}. Best is trial 33 with value: 0.5652036633666198.\u001b[0m\n",
      "\u001b[32m[I 2023-08-30 02:06:32,681]\u001b[0m Trial 34 finished with value: 0.5442474071495867 and parameters: {'n_estimators': 85, 'max_depth': 10, 'min_samples_leaf': 2, 'min_samples_split': 12}. Best is trial 33 with value: 0.5652036633666198.\u001b[0m\n",
      "\u001b[32m[I 2023-08-30 02:06:34,303]\u001b[0m Trial 35 finished with value: 0.5493328330043091 and parameters: {'n_estimators': 79, 'max_depth': 10, 'min_samples_leaf': 5, 'min_samples_split': 6}. Best is trial 33 with value: 0.5652036633666198.\u001b[0m\n",
      "\u001b[32m[I 2023-08-30 02:06:36,392]\u001b[0m Trial 36 finished with value: 0.5534267119119443 and parameters: {'n_estimators': 92, 'max_depth': 9, 'min_samples_leaf': 2, 'min_samples_split': 9}. Best is trial 33 with value: 0.5652036633666198.\u001b[0m\n",
      "\u001b[32m[I 2023-08-30 02:06:37,270]\u001b[0m Trial 37 finished with value: 0.4752024877330537 and parameters: {'n_estimators': 60, 'max_depth': 8, 'min_samples_leaf': 17, 'min_samples_split': 8}. Best is trial 33 with value: 0.5652036633666198.\u001b[0m\n",
      "\u001b[32m[I 2023-08-30 02:06:38,495]\u001b[0m Trial 38 finished with value: 0.515989065729334 and parameters: {'n_estimators': 70, 'max_depth': 10, 'min_samples_leaf': 10, 'min_samples_split': 19}. Best is trial 33 with value: 0.5652036633666198.\u001b[0m\n",
      "\u001b[32m[I 2023-08-30 02:06:39,283]\u001b[0m Trial 39 finished with value: 0.3313299936573369 and parameters: {'n_estimators': 84, 'max_depth': 2, 'min_samples_leaf': 7, 'min_samples_split': 10}. Best is trial 33 with value: 0.5652036633666198.\u001b[0m\n",
      "\u001b[32m[I 2023-08-30 02:06:40,497]\u001b[0m Trial 40 finished with value: 0.5070732277838016 and parameters: {'n_estimators': 75, 'max_depth': 9, 'min_samples_leaf': 11, 'min_samples_split': 3}. Best is trial 33 with value: 0.5652036633666198.\u001b[0m\n",
      "\u001b[32m[I 2023-08-30 02:06:41,970]\u001b[0m Trial 41 finished with value: 0.558611114088362 and parameters: {'n_estimators': 64, 'max_depth': 9, 'min_samples_leaf': 3, 'min_samples_split': 5}. Best is trial 33 with value: 0.5652036633666198.\u001b[0m\n",
      "\u001b[32m[I 2023-08-30 02:06:43,394]\u001b[0m Trial 42 finished with value: 0.554771813816268 and parameters: {'n_estimators': 65, 'max_depth': 10, 'min_samples_leaf': 4, 'min_samples_split': 5}. Best is trial 33 with value: 0.5652036633666198.\u001b[0m\n",
      "\u001b[32m[I 2023-08-30 02:06:44,503]\u001b[0m Trial 43 finished with value: 0.5568795516247732 and parameters: {'n_estimators': 49, 'max_depth': 8, 'min_samples_leaf': 2, 'min_samples_split': 6}. Best is trial 33 with value: 0.5652036633666198.\u001b[0m\n",
      "\u001b[32m[I 2023-08-30 02:06:45,855]\u001b[0m Trial 44 finished with value: 0.5579441171637473 and parameters: {'n_estimators': 59, 'max_depth': 9, 'min_samples_leaf': 3, 'min_samples_split': 5}. Best is trial 33 with value: 0.5652036633666198.\u001b[0m\n",
      "\u001b[32m[I 2023-08-30 02:06:47,075]\u001b[0m Trial 45 finished with value: 0.5478106433451478 and parameters: {'n_estimators': 60, 'max_depth': 10, 'min_samples_leaf': 5, 'min_samples_split': 5}. Best is trial 33 with value: 0.5652036633666198.\u001b[0m\n",
      "\u001b[32m[I 2023-08-30 02:06:48,734]\u001b[0m Trial 46 finished with value: 0.5540945633206191 and parameters: {'n_estimators': 76, 'max_depth': 8, 'min_samples_leaf': 2, 'min_samples_split': 8}. Best is trial 33 with value: 0.5652036633666198.\u001b[0m\n",
      "\u001b[32m[I 2023-08-30 02:06:50,498]\u001b[0m Trial 47 finished with value: 0.5674853692927059 and parameters: {'n_estimators': 69, 'max_depth': 10, 'min_samples_leaf': 1, 'min_samples_split': 7}. Best is trial 47 with value: 0.5674853692927059.\u001b[0m\n",
      "\u001b[32m[I 2023-08-30 02:06:52,607]\u001b[0m Trial 48 finished with value: 0.566993803772456 and parameters: {'n_estimators': 84, 'max_depth': 10, 'min_samples_leaf': 1, 'min_samples_split': 7}. Best is trial 47 with value: 0.5674853692927059.\u001b[0m\n",
      "\u001b[32m[I 2023-08-30 02:06:54,663]\u001b[0m Trial 49 finished with value: 0.5677814462435418 and parameters: {'n_estimators': 82, 'max_depth': 10, 'min_samples_leaf': 1, 'min_samples_split': 7}. Best is trial 49 with value: 0.5677814462435418.\u001b[0m\n",
      "\u001b[32m[I 2023-08-30 02:06:55,785]\u001b[0m Trial 50 finished with value: 0.3954592197438483 and parameters: {'n_estimators': 95, 'max_depth': 3, 'min_samples_leaf': 1, 'min_samples_split': 13}. Best is trial 49 with value: 0.5677814462435418.\u001b[0m\n",
      "\u001b[32m[I 2023-08-30 02:06:57,919]\u001b[0m Trial 51 finished with value: 0.5677416570559872 and parameters: {'n_estimators': 83, 'max_depth': 10, 'min_samples_leaf': 1, 'min_samples_split': 7}. Best is trial 49 with value: 0.5677814462435418.\u001b[0m\n",
      "\u001b[32m[I 2023-08-30 02:06:59,912]\u001b[0m Trial 52 finished with value: 0.5567589420381645 and parameters: {'n_estimators': 83, 'max_depth': 10, 'min_samples_leaf': 1, 'min_samples_split': 10}. Best is trial 49 with value: 0.5677814462435418.\u001b[0m\n",
      "\u001b[32m[I 2023-08-30 02:07:02,144]\u001b[0m Trial 53 finished with value: 0.5671249183316394 and parameters: {'n_estimators': 88, 'max_depth': 10, 'min_samples_leaf': 1, 'min_samples_split': 7}. Best is trial 49 with value: 0.5677814462435418.\u001b[0m\n",
      "\u001b[32m[I 2023-08-30 02:07:04,275]\u001b[0m Trial 54 finished with value: 0.5646430592658168 and parameters: {'n_estimators': 88, 'max_depth': 9, 'min_samples_leaf': 1, 'min_samples_split': 7}. Best is trial 49 with value: 0.5677814462435418.\u001b[0m\n",
      "\u001b[32m[I 2023-08-30 02:07:06,647]\u001b[0m Trial 55 finished with value: 0.5651756371170225 and parameters: {'n_estimators': 95, 'max_depth': 10, 'min_samples_leaf': 1, 'min_samples_split': 8}. Best is trial 49 with value: 0.5677814462435418.\u001b[0m\n",
      "\u001b[32m[I 2023-08-30 02:07:08,569]\u001b[0m Trial 56 finished with value: 0.5550747787419545 and parameters: {'n_estimators': 81, 'max_depth': 10, 'min_samples_leaf': 2, 'min_samples_split': 9}. Best is trial 49 with value: 0.5677814462435418.\u001b[0m\n",
      "\u001b[32m[I 2023-08-30 02:07:09,877]\u001b[0m Trial 57 finished with value: 0.48649879550438124 and parameters: {'n_estimators': 87, 'max_depth': 9, 'min_samples_leaf': 14, 'min_samples_split': 11}. Best is trial 49 with value: 0.5677814462435418.\u001b[0m\n",
      "\u001b[32m[I 2023-08-30 02:07:11,396]\u001b[0m Trial 58 finished with value: 0.5212310025638827 and parameters: {'n_estimators': 80, 'max_depth': 6, 'min_samples_leaf': 1, 'min_samples_split': 7}. Best is trial 49 with value: 0.5677814462435418.\u001b[0m\n",
      "\u001b[32m[I 2023-08-30 02:07:13,768]\u001b[0m Trial 59 finished with value: 0.5591475484864421 and parameters: {'n_estimators': 99, 'max_depth': 10, 'min_samples_leaf': 2, 'min_samples_split': 8}. Best is trial 49 with value: 0.5677814462435418.\u001b[0m\n",
      "\u001b[32m[I 2023-08-30 02:07:15,367]\u001b[0m Trial 60 finished with value: 0.5505948149398808 and parameters: {'n_estimators': 77, 'max_depth': 8, 'min_samples_leaf': 4, 'min_samples_split': 7}. Best is trial 49 with value: 0.5677814462435418.\u001b[0m\n",
      "\u001b[32m[I 2023-08-30 02:07:17,768]\u001b[0m Trial 61 finished with value: 0.5651756371170225 and parameters: {'n_estimators': 95, 'max_depth': 10, 'min_samples_leaf': 1, 'min_samples_split': 8}. Best is trial 49 with value: 0.5677814462435418.\u001b[0m\n",
      "\u001b[32m[I 2023-08-30 02:07:20,003]\u001b[0m Trial 62 finished with value: 0.5668782602657302 and parameters: {'n_estimators': 91, 'max_depth': 10, 'min_samples_leaf': 2, 'min_samples_split': 6}. Best is trial 49 with value: 0.5677814462435418.\u001b[0m\n",
      "\u001b[32m[I 2023-08-30 02:07:22,103]\u001b[0m Trial 63 finished with value: 0.5661005711495715 and parameters: {'n_estimators': 86, 'max_depth': 10, 'min_samples_leaf': 2, 'min_samples_split': 6}. Best is trial 49 with value: 0.5677814462435418.\u001b[0m\n",
      "\u001b[32m[I 2023-08-30 02:07:24,263]\u001b[0m Trial 64 finished with value: 0.5598416787460399 and parameters: {'n_estimators': 91, 'max_depth': 9, 'min_samples_leaf': 1, 'min_samples_split': 9}. Best is trial 49 with value: 0.5677814462435418.\u001b[0m\n",
      "\u001b[32m[I 2023-08-30 02:07:26,339]\u001b[0m Trial 65 finished with value: 0.5616188974886374 and parameters: {'n_estimators': 87, 'max_depth': 10, 'min_samples_leaf': 2, 'min_samples_split': 7}. Best is trial 49 with value: 0.5677814462435418.\u001b[0m\n",
      "\u001b[32m[I 2023-08-30 02:07:28,347]\u001b[0m Trial 66 finished with value: 0.5565838507787375 and parameters: {'n_estimators': 94, 'max_depth': 9, 'min_samples_leaf': 4, 'min_samples_split': 6}. Best is trial 49 with value: 0.5677814462435418.\u001b[0m\n",
      "\u001b[32m[I 2023-08-30 02:07:30,425]\u001b[0m Trial 67 finished with value: 0.5567589420381645 and parameters: {'n_estimators': 83, 'max_depth': 10, 'min_samples_leaf': 1, 'min_samples_split': 10}. Best is trial 49 with value: 0.5677814462435418.\u001b[0m\n",
      "\u001b[32m[I 2023-08-30 02:07:31,075]\u001b[0m Trial 68 finished with value: 0.17190007787089617 and parameters: {'n_estimators': 89, 'max_depth': 1, 'min_samples_leaf': 2, 'min_samples_split': 3}. Best is trial 49 with value: 0.5677814462435418.\u001b[0m\n",
      "\u001b[32m[I 2023-08-30 02:07:33,305]\u001b[0m Trial 69 finished with value: 0.5591899763290351 and parameters: {'n_estimators': 98, 'max_depth': 9, 'min_samples_leaf': 3, 'min_samples_split': 7}. Best is trial 49 with value: 0.5677814462435418.\u001b[0m\n",
      "\u001b[32m[I 2023-08-30 02:07:34,433]\u001b[0m Trial 70 finished with value: 0.48674452014938535 and parameters: {'n_estimators': 69, 'max_depth': 5, 'min_samples_leaf': 1, 'min_samples_split': 9}. Best is trial 49 with value: 0.5677814462435418.\u001b[0m\n",
      "\u001b[32m[I 2023-08-30 02:07:36,244]\u001b[0m Trial 71 finished with value: 0.5650583434748422 and parameters: {'n_estimators': 74, 'max_depth': 10, 'min_samples_leaf': 2, 'min_samples_split': 6}. Best is trial 49 with value: 0.5677814462435418.\u001b[0m\n",
      "\u001b[32m[I 2023-08-30 02:07:38,338]\u001b[0m Trial 72 finished with value: 0.5658559294047201 and parameters: {'n_estimators': 85, 'max_depth': 10, 'min_samples_leaf': 2, 'min_samples_split': 6}. Best is trial 49 with value: 0.5677814462435418.\u001b[0m\n",
      "\u001b[32m[I 2023-08-30 02:07:40,388]\u001b[0m Trial 73 finished with value: 0.5583422730926405 and parameters: {'n_estimators': 86, 'max_depth': 10, 'min_samples_leaf': 2, 'min_samples_split': 8}. Best is trial 49 with value: 0.5677814462435418.\u001b[0m\n",
      "\u001b[32m[I 2023-08-30 02:07:41,495]\u001b[0m Trial 74 finished with value: 0.4605814660902299 and parameters: {'n_estimators': 82, 'max_depth': 10, 'min_samples_leaf': 20, 'min_samples_split': 6}. Best is trial 49 with value: 0.5677814462435418.\u001b[0m\n",
      "\u001b[32m[I 2023-08-30 02:07:43,387]\u001b[0m Trial 75 finished with value: 0.5646035751467015 and parameters: {'n_estimators': 78, 'max_depth': 9, 'min_samples_leaf': 1, 'min_samples_split': 7}. Best is trial 49 with value: 0.5677814462435418.\u001b[0m\n",
      "\u001b[32m[I 2023-08-30 02:07:44,642]\u001b[0m Trial 76 finished with value: 0.46229626274951763 and parameters: {'n_estimators': 91, 'max_depth': 10, 'min_samples_leaf': 19, 'min_samples_split': 5}. Best is trial 49 with value: 0.5677814462435418.\u001b[0m\n",
      "\u001b[32m[I 2023-08-30 02:07:46,778]\u001b[0m Trial 77 finished with value: 0.5605107802327641 and parameters: {'n_estimators': 93, 'max_depth': 10, 'min_samples_leaf': 3, 'min_samples_split': 7}. Best is trial 49 with value: 0.5677814462435418.\u001b[0m\n",
      "\u001b[32m[I 2023-08-30 02:07:48,298]\u001b[0m Trial 78 finished with value: 0.5543509952937749 and parameters: {'n_estimators': 72, 'max_depth': 9, 'min_samples_leaf': 4, 'min_samples_split': 4}. Best is trial 49 with value: 0.5677814462435418.\u001b[0m\n",
      "\u001b[32m[I 2023-08-30 02:07:50,125]\u001b[0m Trial 79 finished with value: 0.5348934022638264 and parameters: {'n_estimators': 85, 'max_depth': 10, 'min_samples_leaf': 2, 'min_samples_split': 16}. Best is trial 49 with value: 0.5677814462435418.\u001b[0m\n",
      "\u001b[32m[I 2023-08-30 02:07:52,308]\u001b[0m Trial 80 finished with value: 0.5621273991714277 and parameters: {'n_estimators': 97, 'max_depth': 9, 'min_samples_leaf': 3, 'min_samples_split': 6}. Best is trial 49 with value: 0.5677814462435418.\u001b[0m\n",
      "\u001b[32m[I 2023-08-30 02:07:54,251]\u001b[0m Trial 81 finished with value: 0.5652036633666198 and parameters: {'n_estimators': 80, 'max_depth': 10, 'min_samples_leaf': 2, 'min_samples_split': 6}. Best is trial 49 with value: 0.5677814462435418.\u001b[0m\n",
      "\u001b[32m[I 2023-08-30 02:07:56,584]\u001b[0m Trial 82 finished with value: 0.5752027557136244 and parameters: {'n_estimators': 89, 'max_depth': 10, 'min_samples_leaf': 1, 'min_samples_split': 5}. Best is trial 82 with value: 0.5752027557136244.\u001b[0m\n",
      "\u001b[32m[I 2023-08-30 02:07:58,921]\u001b[0m Trial 83 finished with value: 0.5754915972454662 and parameters: {'n_estimators': 90, 'max_depth': 10, 'min_samples_leaf': 1, 'min_samples_split': 5}. Best is trial 83 with value: 0.5754915972454662.\u001b[0m\n",
      "\u001b[32m[I 2023-08-30 02:08:01,447]\u001b[0m Trial 84 finished with value: 0.5815083630180411 and parameters: {'n_estimators': 90, 'max_depth': 10, 'min_samples_leaf': 1, 'min_samples_split': 3}. Best is trial 84 with value: 0.5815083630180411.\u001b[0m\n",
      "\u001b[32m[I 2023-08-30 02:08:03,773]\u001b[0m Trial 85 finished with value: 0.5754830051030158 and parameters: {'n_estimators': 89, 'max_depth': 9, 'min_samples_leaf': 1, 'min_samples_split': 3}. Best is trial 84 with value: 0.5815083630180411.\u001b[0m\n",
      "\u001b[32m[I 2023-08-30 02:08:06,195]\u001b[0m Trial 86 finished with value: 0.5787456495771911 and parameters: {'n_estimators': 89, 'max_depth': 9, 'min_samples_leaf': 1, 'min_samples_split': 2}. Best is trial 84 with value: 0.5815083630180411.\u001b[0m\n",
      "\u001b[32m[I 2023-08-30 02:08:08,185]\u001b[0m Trial 87 finished with value: 0.5541994228228557 and parameters: {'n_estimators': 89, 'max_depth': 7, 'min_samples_leaf': 1, 'min_samples_split': 2}. Best is trial 84 with value: 0.5815083630180411.\u001b[0m\n",
      "\u001b[32m[I 2023-08-30 02:08:10,921]\u001b[0m Trial 88 finished with value: 0.5739318567769298 and parameters: {'n_estimators': 100, 'max_depth': 9, 'min_samples_leaf': 1, 'min_samples_split': 3}. Best is trial 84 with value: 0.5815083630180411.\u001b[0m\n",
      "\u001b[32m[I 2023-08-30 02:08:13,410]\u001b[0m Trial 89 finished with value: 0.5666146308200302 and parameters: {'n_estimators': 100, 'max_depth': 8, 'min_samples_leaf': 1, 'min_samples_split': 3}. Best is trial 84 with value: 0.5815083630180411.\u001b[0m\n",
      "\u001b[32m[I 2023-08-30 02:08:14,991]\u001b[0m Trial 90 finished with value: 0.4959186666248329 and parameters: {'n_estimators': 92, 'max_depth': 9, 'min_samples_leaf': 12, 'min_samples_split': 2}. Best is trial 84 with value: 0.5815083630180411.\u001b[0m\n",
      "\u001b[32m[I 2023-08-30 02:08:17,765]\u001b[0m Trial 91 finished with value: 0.5742942344043083 and parameters: {'n_estimators': 97, 'max_depth': 9, 'min_samples_leaf': 1, 'min_samples_split': 3}. Best is trial 84 with value: 0.5815083630180411.\u001b[0m\n",
      "\u001b[32m[I 2023-08-30 02:08:20,344]\u001b[0m Trial 92 finished with value: 0.5663557329682372 and parameters: {'n_estimators': 97, 'max_depth': 8, 'min_samples_leaf': 1, 'min_samples_split': 3}. Best is trial 84 with value: 0.5815083630180411.\u001b[0m\n",
      "\u001b[32m[I 2023-08-30 02:08:22,663]\u001b[0m Trial 93 finished with value: 0.5625845011632309 and parameters: {'n_estimators': 96, 'max_depth': 9, 'min_samples_leaf': 3, 'min_samples_split': 3}. Best is trial 84 with value: 0.5815083630180411.\u001b[0m\n",
      "\u001b[32m[I 2023-08-30 02:08:25,457]\u001b[0m Trial 94 finished with value: 0.5773708398446336 and parameters: {'n_estimators': 100, 'max_depth': 9, 'min_samples_leaf': 1, 'min_samples_split': 2}. Best is trial 84 with value: 0.5815083630180411.\u001b[0m\n",
      "\u001b[32m[I 2023-08-30 02:08:27,787]\u001b[0m Trial 95 finished with value: 0.5622825973526586 and parameters: {'n_estimators': 100, 'max_depth': 9, 'min_samples_leaf': 3, 'min_samples_split': 2}. Best is trial 84 with value: 0.5815083630180411.\u001b[0m\n",
      "\u001b[32m[I 2023-08-30 02:08:30,335]\u001b[0m Trial 96 finished with value: 0.5691459858460665 and parameters: {'n_estimators': 93, 'max_depth': 8, 'min_samples_leaf': 1, 'min_samples_split': 2}. Best is trial 84 with value: 0.5815083630180411.\u001b[0m\n",
      "\u001b[32m[I 2023-08-30 02:08:32,912]\u001b[0m Trial 97 finished with value: 0.5691459858460665 and parameters: {'n_estimators': 93, 'max_depth': 8, 'min_samples_leaf': 1, 'min_samples_split': 2}. Best is trial 84 with value: 0.5815083630180411.\u001b[0m\n",
      "\u001b[32m[I 2023-08-30 02:08:34,891]\u001b[0m Trial 98 finished with value: 0.5514089424606203 and parameters: {'n_estimators': 93, 'max_depth': 7, 'min_samples_leaf': 2, 'min_samples_split': 2}. Best is trial 84 with value: 0.5815083630180411.\u001b[0m\n",
      "\u001b[32m[I 2023-08-30 02:08:37,356]\u001b[0m Trial 99 finished with value: 0.5686329303354491 and parameters: {'n_estimators': 98, 'max_depth': 8, 'min_samples_leaf': 1, 'min_samples_split': 2}. Best is trial 84 with value: 0.5815083630180411.\u001b[0m\n"
     ]
    },
    {
     "name": "stdout",
     "output_type": "stream",
     "text": [
      "Best r2:  0.5815083630180411\n",
      "Best trial: {'n_estimators': 90, 'max_depth': 10, 'min_samples_leaf': 1, 'min_samples_split': 3}\n"
     ]
    }
   ],
   "source": [
    "sampler = TPESampler()\n",
    "study = optuna.create_study(\n",
    "    study_name=\"rf_parameter_opt\",\n",
    "    direction=\"maximize\",\n",
    "    sampler=sampler,\n",
    ")\n",
    "\n",
    "study.optimize(lambda trial : objectiveRF(trial, Cd_X_train, Cd_y_train), n_trials=100)\n",
    "print(\"Best r2: \", study.best_value)\n",
    "print(\"Best trial:\", study.best_trial.params)"
   ]
  },
  {
   "cell_type": "code",
   "execution_count": 38,
   "id": "861f88d8",
   "metadata": {},
   "outputs": [
    {
     "data": {
      "application/vnd.plotly.v1+json": {
       "config": {
        "plotlyServerURL": "https://plot.ly"
       },
       "data": [
        {
         "dimensions": [
          {
           "label": "Objective Value",
           "range": [
            0.17190007787089617,
            0.5815083630180411
           ],
           "values": [
            0.4709576687831234,
            0.4723072830208734,
            0.3156648706601389,
            0.52578906502784,
            0.4312823751246936,
            0.4841050854937543,
            0.4999209004172167,
            0.4587111407905999,
            0.4375612464664262,
            0.17408791438604043,
            0.5383427421654239,
            0.5466662685492185,
            0.5437512858327717,
            0.5185279101263116,
            0.5177104643134257,
            0.5363103745072589,
            0.45346512011189405,
            0.501243090750115,
            0.4887498793327255,
            0.5407154471699334,
            0.4887219778873774,
            0.5403187637876594,
            0.5576195599455256,
            0.557489542658102,
            0.555224045374066,
            0.5522264040763728,
            0.5592435715623019,
            0.5297674955769083,
            0.5594066814340898,
            0.5394882132649006,
            0.549146029506266,
            0.5576731574503235,
            0.5516464100150607,
            0.5652036633666198,
            0.5442474071495867,
            0.5493328330043091,
            0.5534267119119443,
            0.4752024877330537,
            0.515989065729334,
            0.3313299936573369,
            0.5070732277838016,
            0.558611114088362,
            0.554771813816268,
            0.5568795516247732,
            0.5579441171637473,
            0.5478106433451478,
            0.5540945633206191,
            0.5674853692927059,
            0.566993803772456,
            0.5677814462435418,
            0.3954592197438483,
            0.5677416570559872,
            0.5567589420381645,
            0.5671249183316394,
            0.5646430592658168,
            0.5651756371170225,
            0.5550747787419545,
            0.48649879550438124,
            0.5212310025638827,
            0.5591475484864421,
            0.5505948149398808,
            0.5651756371170225,
            0.5668782602657302,
            0.5661005711495715,
            0.5598416787460399,
            0.5616188974886374,
            0.5565838507787375,
            0.5567589420381645,
            0.17190007787089617,
            0.5591899763290351,
            0.48674452014938535,
            0.5650583434748422,
            0.5658559294047201,
            0.5583422730926405,
            0.4605814660902299,
            0.5646035751467015,
            0.46229626274951763,
            0.5605107802327641,
            0.5543509952937749,
            0.5348934022638264,
            0.5621273991714277,
            0.5652036633666198,
            0.5752027557136244,
            0.5754915972454662,
            0.5815083630180411,
            0.5754830051030158,
            0.5787456495771911,
            0.5541994228228557,
            0.5739318567769298,
            0.5666146308200302,
            0.4959186666248329,
            0.5742942344043083,
            0.5663557329682372,
            0.5625845011632309,
            0.5773708398446336,
            0.5622825973526586,
            0.5691459858460665,
            0.5691459858460665,
            0.5514089424606203,
            0.5686329303354491
           ]
          },
          {
           "label": "max_depth",
           "range": [
            1,
            10
           ],
           "values": [
            9,
            5,
            2,
            9,
            4,
            7,
            10,
            8,
            4,
            1,
            7,
            7,
            7,
            6,
            6,
            8,
            4,
            7,
            5,
            8,
            10,
            8,
            9,
            9,
            9,
            9,
            10,
            10,
            10,
            10,
            10,
            9,
            9,
            10,
            10,
            10,
            9,
            8,
            10,
            2,
            9,
            9,
            10,
            8,
            9,
            10,
            8,
            10,
            10,
            10,
            3,
            10,
            10,
            10,
            9,
            10,
            10,
            9,
            6,
            10,
            8,
            10,
            10,
            10,
            9,
            10,
            9,
            10,
            1,
            9,
            5,
            10,
            10,
            10,
            10,
            9,
            10,
            10,
            9,
            10,
            9,
            10,
            10,
            10,
            10,
            9,
            9,
            7,
            9,
            8,
            9,
            9,
            8,
            9,
            9,
            9,
            8,
            8,
            7,
            8
           ]
          },
          {
           "label": "min_samples_leaf",
           "range": [
            1,
            20
           ],
           "values": [
            18,
            11,
            19,
            9,
            16,
            12,
            8,
            20,
            13,
            9,
            3,
            1,
            1,
            1,
            4,
            5,
            1,
            6,
            2,
            6,
            14,
            6,
            3,
            3,
            3,
            4,
            3,
            8,
            3,
            7,
            5,
            3,
            4,
            2,
            2,
            5,
            2,
            17,
            10,
            7,
            11,
            3,
            4,
            2,
            3,
            5,
            2,
            1,
            1,
            1,
            1,
            1,
            1,
            1,
            1,
            1,
            2,
            14,
            1,
            2,
            4,
            1,
            2,
            2,
            1,
            2,
            4,
            1,
            2,
            3,
            1,
            2,
            2,
            2,
            20,
            1,
            19,
            3,
            4,
            2,
            3,
            2,
            1,
            1,
            1,
            1,
            1,
            1,
            1,
            1,
            12,
            1,
            1,
            3,
            1,
            3,
            1,
            1,
            2,
            1
           ]
          },
          {
           "label": "min_samples_split",
           "range": [
            2,
            20
           ],
           "values": [
            12,
            15,
            10,
            14,
            5,
            15,
            20,
            9,
            16,
            15,
            2,
            3,
            2,
            2,
            6,
            5,
            7,
            3,
            8,
            4,
            11,
            4,
            4,
            2,
            7,
            7,
            6,
            5,
            4,
            9,
            6,
            4,
            4,
            6,
            12,
            6,
            9,
            8,
            19,
            10,
            3,
            5,
            5,
            6,
            5,
            5,
            8,
            7,
            7,
            7,
            13,
            7,
            10,
            7,
            7,
            8,
            9,
            11,
            7,
            8,
            7,
            8,
            6,
            6,
            9,
            7,
            6,
            10,
            3,
            7,
            9,
            6,
            6,
            8,
            6,
            7,
            5,
            7,
            4,
            16,
            6,
            6,
            5,
            5,
            3,
            3,
            2,
            2,
            3,
            3,
            2,
            3,
            3,
            3,
            2,
            2,
            2,
            2,
            2,
            2
           ]
          },
          {
           "label": "n_estimators",
           "range": [
            10,
            100
           ],
           "values": [
            73,
            80,
            25,
            52,
            99,
            23,
            17,
            99,
            78,
            45,
            47,
            47,
            40,
            35,
            63,
            34,
            60,
            10,
            41,
            66,
            36,
            67,
            54,
            52,
            55,
            54,
            58,
            73,
            59,
            90,
            71,
            56,
            60,
            80,
            85,
            79,
            92,
            60,
            70,
            84,
            75,
            64,
            65,
            49,
            59,
            60,
            76,
            69,
            84,
            82,
            95,
            83,
            83,
            88,
            88,
            95,
            81,
            87,
            80,
            99,
            77,
            95,
            91,
            86,
            91,
            87,
            94,
            83,
            89,
            98,
            69,
            74,
            85,
            86,
            82,
            78,
            91,
            93,
            72,
            85,
            97,
            80,
            89,
            90,
            90,
            89,
            89,
            89,
            100,
            100,
            92,
            97,
            97,
            96,
            100,
            100,
            93,
            93,
            93,
            98
           ]
          }
         ],
         "labelangle": 30,
         "labelside": "bottom",
         "line": {
          "color": [
           0.4709576687831234,
           0.4723072830208734,
           0.3156648706601389,
           0.52578906502784,
           0.4312823751246936,
           0.4841050854937543,
           0.4999209004172167,
           0.4587111407905999,
           0.4375612464664262,
           0.17408791438604043,
           0.5383427421654239,
           0.5466662685492185,
           0.5437512858327717,
           0.5185279101263116,
           0.5177104643134257,
           0.5363103745072589,
           0.45346512011189405,
           0.501243090750115,
           0.4887498793327255,
           0.5407154471699334,
           0.4887219778873774,
           0.5403187637876594,
           0.5576195599455256,
           0.557489542658102,
           0.555224045374066,
           0.5522264040763728,
           0.5592435715623019,
           0.5297674955769083,
           0.5594066814340898,
           0.5394882132649006,
           0.549146029506266,
           0.5576731574503235,
           0.5516464100150607,
           0.5652036633666198,
           0.5442474071495867,
           0.5493328330043091,
           0.5534267119119443,
           0.4752024877330537,
           0.515989065729334,
           0.3313299936573369,
           0.5070732277838016,
           0.558611114088362,
           0.554771813816268,
           0.5568795516247732,
           0.5579441171637473,
           0.5478106433451478,
           0.5540945633206191,
           0.5674853692927059,
           0.566993803772456,
           0.5677814462435418,
           0.3954592197438483,
           0.5677416570559872,
           0.5567589420381645,
           0.5671249183316394,
           0.5646430592658168,
           0.5651756371170225,
           0.5550747787419545,
           0.48649879550438124,
           0.5212310025638827,
           0.5591475484864421,
           0.5505948149398808,
           0.5651756371170225,
           0.5668782602657302,
           0.5661005711495715,
           0.5598416787460399,
           0.5616188974886374,
           0.5565838507787375,
           0.5567589420381645,
           0.17190007787089617,
           0.5591899763290351,
           0.48674452014938535,
           0.5650583434748422,
           0.5658559294047201,
           0.5583422730926405,
           0.4605814660902299,
           0.5646035751467015,
           0.46229626274951763,
           0.5605107802327641,
           0.5543509952937749,
           0.5348934022638264,
           0.5621273991714277,
           0.5652036633666198,
           0.5752027557136244,
           0.5754915972454662,
           0.5815083630180411,
           0.5754830051030158,
           0.5787456495771911,
           0.5541994228228557,
           0.5739318567769298,
           0.5666146308200302,
           0.4959186666248329,
           0.5742942344043083,
           0.5663557329682372,
           0.5625845011632309,
           0.5773708398446336,
           0.5622825973526586,
           0.5691459858460665,
           0.5691459858460665,
           0.5514089424606203,
           0.5686329303354491
          ],
          "colorbar": {
           "title": {
            "text": "Objective Value"
           }
          },
          "colorscale": [
           [
            0,
            "rgb(247,251,255)"
           ],
           [
            0.125,
            "rgb(222,235,247)"
           ],
           [
            0.25,
            "rgb(198,219,239)"
           ],
           [
            0.375,
            "rgb(158,202,225)"
           ],
           [
            0.5,
            "rgb(107,174,214)"
           ],
           [
            0.625,
            "rgb(66,146,198)"
           ],
           [
            0.75,
            "rgb(33,113,181)"
           ],
           [
            0.875,
            "rgb(8,81,156)"
           ],
           [
            1,
            "rgb(8,48,107)"
           ]
          ],
          "reversescale": false,
          "showscale": true
         },
         "type": "parcoords"
        }
       ],
       "layout": {
        "template": {
         "data": {
          "bar": [
           {
            "error_x": {
             "color": "#2a3f5f"
            },
            "error_y": {
             "color": "#2a3f5f"
            },
            "marker": {
             "line": {
              "color": "#E5ECF6",
              "width": 0.5
             },
             "pattern": {
              "fillmode": "overlay",
              "size": 10,
              "solidity": 0.2
             }
            },
            "type": "bar"
           }
          ],
          "barpolar": [
           {
            "marker": {
             "line": {
              "color": "#E5ECF6",
              "width": 0.5
             },
             "pattern": {
              "fillmode": "overlay",
              "size": 10,
              "solidity": 0.2
             }
            },
            "type": "barpolar"
           }
          ],
          "carpet": [
           {
            "aaxis": {
             "endlinecolor": "#2a3f5f",
             "gridcolor": "white",
             "linecolor": "white",
             "minorgridcolor": "white",
             "startlinecolor": "#2a3f5f"
            },
            "baxis": {
             "endlinecolor": "#2a3f5f",
             "gridcolor": "white",
             "linecolor": "white",
             "minorgridcolor": "white",
             "startlinecolor": "#2a3f5f"
            },
            "type": "carpet"
           }
          ],
          "choropleth": [
           {
            "colorbar": {
             "outlinewidth": 0,
             "ticks": ""
            },
            "type": "choropleth"
           }
          ],
          "contour": [
           {
            "colorbar": {
             "outlinewidth": 0,
             "ticks": ""
            },
            "colorscale": [
             [
              0,
              "#0d0887"
             ],
             [
              0.1111111111111111,
              "#46039f"
             ],
             [
              0.2222222222222222,
              "#7201a8"
             ],
             [
              0.3333333333333333,
              "#9c179e"
             ],
             [
              0.4444444444444444,
              "#bd3786"
             ],
             [
              0.5555555555555556,
              "#d8576b"
             ],
             [
              0.6666666666666666,
              "#ed7953"
             ],
             [
              0.7777777777777778,
              "#fb9f3a"
             ],
             [
              0.8888888888888888,
              "#fdca26"
             ],
             [
              1,
              "#f0f921"
             ]
            ],
            "type": "contour"
           }
          ],
          "contourcarpet": [
           {
            "colorbar": {
             "outlinewidth": 0,
             "ticks": ""
            },
            "type": "contourcarpet"
           }
          ],
          "heatmap": [
           {
            "colorbar": {
             "outlinewidth": 0,
             "ticks": ""
            },
            "colorscale": [
             [
              0,
              "#0d0887"
             ],
             [
              0.1111111111111111,
              "#46039f"
             ],
             [
              0.2222222222222222,
              "#7201a8"
             ],
             [
              0.3333333333333333,
              "#9c179e"
             ],
             [
              0.4444444444444444,
              "#bd3786"
             ],
             [
              0.5555555555555556,
              "#d8576b"
             ],
             [
              0.6666666666666666,
              "#ed7953"
             ],
             [
              0.7777777777777778,
              "#fb9f3a"
             ],
             [
              0.8888888888888888,
              "#fdca26"
             ],
             [
              1,
              "#f0f921"
             ]
            ],
            "type": "heatmap"
           }
          ],
          "heatmapgl": [
           {
            "colorbar": {
             "outlinewidth": 0,
             "ticks": ""
            },
            "colorscale": [
             [
              0,
              "#0d0887"
             ],
             [
              0.1111111111111111,
              "#46039f"
             ],
             [
              0.2222222222222222,
              "#7201a8"
             ],
             [
              0.3333333333333333,
              "#9c179e"
             ],
             [
              0.4444444444444444,
              "#bd3786"
             ],
             [
              0.5555555555555556,
              "#d8576b"
             ],
             [
              0.6666666666666666,
              "#ed7953"
             ],
             [
              0.7777777777777778,
              "#fb9f3a"
             ],
             [
              0.8888888888888888,
              "#fdca26"
             ],
             [
              1,
              "#f0f921"
             ]
            ],
            "type": "heatmapgl"
           }
          ],
          "histogram": [
           {
            "marker": {
             "pattern": {
              "fillmode": "overlay",
              "size": 10,
              "solidity": 0.2
             }
            },
            "type": "histogram"
           }
          ],
          "histogram2d": [
           {
            "colorbar": {
             "outlinewidth": 0,
             "ticks": ""
            },
            "colorscale": [
             [
              0,
              "#0d0887"
             ],
             [
              0.1111111111111111,
              "#46039f"
             ],
             [
              0.2222222222222222,
              "#7201a8"
             ],
             [
              0.3333333333333333,
              "#9c179e"
             ],
             [
              0.4444444444444444,
              "#bd3786"
             ],
             [
              0.5555555555555556,
              "#d8576b"
             ],
             [
              0.6666666666666666,
              "#ed7953"
             ],
             [
              0.7777777777777778,
              "#fb9f3a"
             ],
             [
              0.8888888888888888,
              "#fdca26"
             ],
             [
              1,
              "#f0f921"
             ]
            ],
            "type": "histogram2d"
           }
          ],
          "histogram2dcontour": [
           {
            "colorbar": {
             "outlinewidth": 0,
             "ticks": ""
            },
            "colorscale": [
             [
              0,
              "#0d0887"
             ],
             [
              0.1111111111111111,
              "#46039f"
             ],
             [
              0.2222222222222222,
              "#7201a8"
             ],
             [
              0.3333333333333333,
              "#9c179e"
             ],
             [
              0.4444444444444444,
              "#bd3786"
             ],
             [
              0.5555555555555556,
              "#d8576b"
             ],
             [
              0.6666666666666666,
              "#ed7953"
             ],
             [
              0.7777777777777778,
              "#fb9f3a"
             ],
             [
              0.8888888888888888,
              "#fdca26"
             ],
             [
              1,
              "#f0f921"
             ]
            ],
            "type": "histogram2dcontour"
           }
          ],
          "mesh3d": [
           {
            "colorbar": {
             "outlinewidth": 0,
             "ticks": ""
            },
            "type": "mesh3d"
           }
          ],
          "parcoords": [
           {
            "line": {
             "colorbar": {
              "outlinewidth": 0,
              "ticks": ""
             }
            },
            "type": "parcoords"
           }
          ],
          "pie": [
           {
            "automargin": true,
            "type": "pie"
           }
          ],
          "scatter": [
           {
            "marker": {
             "colorbar": {
              "outlinewidth": 0,
              "ticks": ""
             }
            },
            "type": "scatter"
           }
          ],
          "scatter3d": [
           {
            "line": {
             "colorbar": {
              "outlinewidth": 0,
              "ticks": ""
             }
            },
            "marker": {
             "colorbar": {
              "outlinewidth": 0,
              "ticks": ""
             }
            },
            "type": "scatter3d"
           }
          ],
          "scattercarpet": [
           {
            "marker": {
             "colorbar": {
              "outlinewidth": 0,
              "ticks": ""
             }
            },
            "type": "scattercarpet"
           }
          ],
          "scattergeo": [
           {
            "marker": {
             "colorbar": {
              "outlinewidth": 0,
              "ticks": ""
             }
            },
            "type": "scattergeo"
           }
          ],
          "scattergl": [
           {
            "marker": {
             "colorbar": {
              "outlinewidth": 0,
              "ticks": ""
             }
            },
            "type": "scattergl"
           }
          ],
          "scattermapbox": [
           {
            "marker": {
             "colorbar": {
              "outlinewidth": 0,
              "ticks": ""
             }
            },
            "type": "scattermapbox"
           }
          ],
          "scatterpolar": [
           {
            "marker": {
             "colorbar": {
              "outlinewidth": 0,
              "ticks": ""
             }
            },
            "type": "scatterpolar"
           }
          ],
          "scatterpolargl": [
           {
            "marker": {
             "colorbar": {
              "outlinewidth": 0,
              "ticks": ""
             }
            },
            "type": "scatterpolargl"
           }
          ],
          "scatterternary": [
           {
            "marker": {
             "colorbar": {
              "outlinewidth": 0,
              "ticks": ""
             }
            },
            "type": "scatterternary"
           }
          ],
          "surface": [
           {
            "colorbar": {
             "outlinewidth": 0,
             "ticks": ""
            },
            "colorscale": [
             [
              0,
              "#0d0887"
             ],
             [
              0.1111111111111111,
              "#46039f"
             ],
             [
              0.2222222222222222,
              "#7201a8"
             ],
             [
              0.3333333333333333,
              "#9c179e"
             ],
             [
              0.4444444444444444,
              "#bd3786"
             ],
             [
              0.5555555555555556,
              "#d8576b"
             ],
             [
              0.6666666666666666,
              "#ed7953"
             ],
             [
              0.7777777777777778,
              "#fb9f3a"
             ],
             [
              0.8888888888888888,
              "#fdca26"
             ],
             [
              1,
              "#f0f921"
             ]
            ],
            "type": "surface"
           }
          ],
          "table": [
           {
            "cells": {
             "fill": {
              "color": "#EBF0F8"
             },
             "line": {
              "color": "white"
             }
            },
            "header": {
             "fill": {
              "color": "#C8D4E3"
             },
             "line": {
              "color": "white"
             }
            },
            "type": "table"
           }
          ]
         },
         "layout": {
          "annotationdefaults": {
           "arrowcolor": "#2a3f5f",
           "arrowhead": 0,
           "arrowwidth": 1
          },
          "autotypenumbers": "strict",
          "coloraxis": {
           "colorbar": {
            "outlinewidth": 0,
            "ticks": ""
           }
          },
          "colorscale": {
           "diverging": [
            [
             0,
             "#8e0152"
            ],
            [
             0.1,
             "#c51b7d"
            ],
            [
             0.2,
             "#de77ae"
            ],
            [
             0.3,
             "#f1b6da"
            ],
            [
             0.4,
             "#fde0ef"
            ],
            [
             0.5,
             "#f7f7f7"
            ],
            [
             0.6,
             "#e6f5d0"
            ],
            [
             0.7,
             "#b8e186"
            ],
            [
             0.8,
             "#7fbc41"
            ],
            [
             0.9,
             "#4d9221"
            ],
            [
             1,
             "#276419"
            ]
           ],
           "sequential": [
            [
             0,
             "#0d0887"
            ],
            [
             0.1111111111111111,
             "#46039f"
            ],
            [
             0.2222222222222222,
             "#7201a8"
            ],
            [
             0.3333333333333333,
             "#9c179e"
            ],
            [
             0.4444444444444444,
             "#bd3786"
            ],
            [
             0.5555555555555556,
             "#d8576b"
            ],
            [
             0.6666666666666666,
             "#ed7953"
            ],
            [
             0.7777777777777778,
             "#fb9f3a"
            ],
            [
             0.8888888888888888,
             "#fdca26"
            ],
            [
             1,
             "#f0f921"
            ]
           ],
           "sequentialminus": [
            [
             0,
             "#0d0887"
            ],
            [
             0.1111111111111111,
             "#46039f"
            ],
            [
             0.2222222222222222,
             "#7201a8"
            ],
            [
             0.3333333333333333,
             "#9c179e"
            ],
            [
             0.4444444444444444,
             "#bd3786"
            ],
            [
             0.5555555555555556,
             "#d8576b"
            ],
            [
             0.6666666666666666,
             "#ed7953"
            ],
            [
             0.7777777777777778,
             "#fb9f3a"
            ],
            [
             0.8888888888888888,
             "#fdca26"
            ],
            [
             1,
             "#f0f921"
            ]
           ]
          },
          "colorway": [
           "#636efa",
           "#EF553B",
           "#00cc96",
           "#ab63fa",
           "#FFA15A",
           "#19d3f3",
           "#FF6692",
           "#B6E880",
           "#FF97FF",
           "#FECB52"
          ],
          "font": {
           "color": "#2a3f5f"
          },
          "geo": {
           "bgcolor": "white",
           "lakecolor": "white",
           "landcolor": "#E5ECF6",
           "showlakes": true,
           "showland": true,
           "subunitcolor": "white"
          },
          "hoverlabel": {
           "align": "left"
          },
          "hovermode": "closest",
          "mapbox": {
           "style": "light"
          },
          "paper_bgcolor": "white",
          "plot_bgcolor": "#E5ECF6",
          "polar": {
           "angularaxis": {
            "gridcolor": "white",
            "linecolor": "white",
            "ticks": ""
           },
           "bgcolor": "#E5ECF6",
           "radialaxis": {
            "gridcolor": "white",
            "linecolor": "white",
            "ticks": ""
           }
          },
          "scene": {
           "xaxis": {
            "backgroundcolor": "#E5ECF6",
            "gridcolor": "white",
            "gridwidth": 2,
            "linecolor": "white",
            "showbackground": true,
            "ticks": "",
            "zerolinecolor": "white"
           },
           "yaxis": {
            "backgroundcolor": "#E5ECF6",
            "gridcolor": "white",
            "gridwidth": 2,
            "linecolor": "white",
            "showbackground": true,
            "ticks": "",
            "zerolinecolor": "white"
           },
           "zaxis": {
            "backgroundcolor": "#E5ECF6",
            "gridcolor": "white",
            "gridwidth": 2,
            "linecolor": "white",
            "showbackground": true,
            "ticks": "",
            "zerolinecolor": "white"
           }
          },
          "shapedefaults": {
           "line": {
            "color": "#2a3f5f"
           }
          },
          "ternary": {
           "aaxis": {
            "gridcolor": "white",
            "linecolor": "white",
            "ticks": ""
           },
           "baxis": {
            "gridcolor": "white",
            "linecolor": "white",
            "ticks": ""
           },
           "bgcolor": "#E5ECF6",
           "caxis": {
            "gridcolor": "white",
            "linecolor": "white",
            "ticks": ""
           }
          },
          "title": {
           "x": 0.05
          },
          "xaxis": {
           "automargin": true,
           "gridcolor": "white",
           "linecolor": "white",
           "ticks": "",
           "title": {
            "standoff": 15
           },
           "zerolinecolor": "white",
           "zerolinewidth": 2
          },
          "yaxis": {
           "automargin": true,
           "gridcolor": "white",
           "linecolor": "white",
           "ticks": "",
           "title": {
            "standoff": 15
           },
           "zerolinecolor": "white",
           "zerolinewidth": 2
          }
         }
        },
        "title": {
         "text": "Parallel Coordinate Plot"
        }
       }
      }
     },
     "metadata": {},
     "output_type": "display_data"
    }
   ],
   "source": [
    "optuna.visualization.plot_parallel_coordinate(study)"
   ]
  },
  {
   "cell_type": "code",
   "execution_count": 39,
   "id": "4afa60aa",
   "metadata": {},
   "outputs": [
    {
     "name": "stdout",
     "output_type": "stream",
     "text": [
      "Best trial: {'n_estimators': 90, 'max_depth': 10, 'min_samples_leaf': 1, 'min_samples_split': 3}\n"
     ]
    },
    {
     "data": {
      "text/plain": [
       "90"
      ]
     },
     "execution_count": 39,
     "metadata": {},
     "output_type": "execute_result"
    }
   ],
   "source": [
    "print(\"Best trial:\", study.best_trial.params)\n",
    "study.best_trial.params[\"n_estimators\"]"
   ]
  },
  {
   "cell_type": "code",
   "execution_count": 40,
   "id": "3b45adad",
   "metadata": {},
   "outputs": [
    {
     "data": {
      "text/html": [
       "<style>#sk-container-id-2 {color: black;}#sk-container-id-2 pre{padding: 0;}#sk-container-id-2 div.sk-toggleable {background-color: white;}#sk-container-id-2 label.sk-toggleable__label {cursor: pointer;display: block;width: 100%;margin-bottom: 0;padding: 0.3em;box-sizing: border-box;text-align: center;}#sk-container-id-2 label.sk-toggleable__label-arrow:before {content: \"▸\";float: left;margin-right: 0.25em;color: #696969;}#sk-container-id-2 label.sk-toggleable__label-arrow:hover:before {color: black;}#sk-container-id-2 div.sk-estimator:hover label.sk-toggleable__label-arrow:before {color: black;}#sk-container-id-2 div.sk-toggleable__content {max-height: 0;max-width: 0;overflow: hidden;text-align: left;background-color: #f0f8ff;}#sk-container-id-2 div.sk-toggleable__content pre {margin: 0.2em;color: black;border-radius: 0.25em;background-color: #f0f8ff;}#sk-container-id-2 input.sk-toggleable__control:checked~div.sk-toggleable__content {max-height: 200px;max-width: 100%;overflow: auto;}#sk-container-id-2 input.sk-toggleable__control:checked~label.sk-toggleable__label-arrow:before {content: \"▾\";}#sk-container-id-2 div.sk-estimator input.sk-toggleable__control:checked~label.sk-toggleable__label {background-color: #d4ebff;}#sk-container-id-2 div.sk-label input.sk-toggleable__control:checked~label.sk-toggleable__label {background-color: #d4ebff;}#sk-container-id-2 input.sk-hidden--visually {border: 0;clip: rect(1px 1px 1px 1px);clip: rect(1px, 1px, 1px, 1px);height: 1px;margin: -1px;overflow: hidden;padding: 0;position: absolute;width: 1px;}#sk-container-id-2 div.sk-estimator {font-family: monospace;background-color: #f0f8ff;border: 1px dotted black;border-radius: 0.25em;box-sizing: border-box;margin-bottom: 0.5em;}#sk-container-id-2 div.sk-estimator:hover {background-color: #d4ebff;}#sk-container-id-2 div.sk-parallel-item::after {content: \"\";width: 100%;border-bottom: 1px solid gray;flex-grow: 1;}#sk-container-id-2 div.sk-label:hover label.sk-toggleable__label {background-color: #d4ebff;}#sk-container-id-2 div.sk-serial::before {content: \"\";position: absolute;border-left: 1px solid gray;box-sizing: border-box;top: 0;bottom: 0;left: 50%;z-index: 0;}#sk-container-id-2 div.sk-serial {display: flex;flex-direction: column;align-items: center;background-color: white;padding-right: 0.2em;padding-left: 0.2em;position: relative;}#sk-container-id-2 div.sk-item {position: relative;z-index: 1;}#sk-container-id-2 div.sk-parallel {display: flex;align-items: stretch;justify-content: center;background-color: white;position: relative;}#sk-container-id-2 div.sk-item::before, #sk-container-id-2 div.sk-parallel-item::before {content: \"\";position: absolute;border-left: 1px solid gray;box-sizing: border-box;top: 0;bottom: 0;left: 50%;z-index: -1;}#sk-container-id-2 div.sk-parallel-item {display: flex;flex-direction: column;z-index: 1;position: relative;background-color: white;}#sk-container-id-2 div.sk-parallel-item:first-child::after {align-self: flex-end;width: 50%;}#sk-container-id-2 div.sk-parallel-item:last-child::after {align-self: flex-start;width: 50%;}#sk-container-id-2 div.sk-parallel-item:only-child::after {width: 0;}#sk-container-id-2 div.sk-dashed-wrapped {border: 1px dashed gray;margin: 0 0.4em 0.5em 0.4em;box-sizing: border-box;padding-bottom: 0.4em;background-color: white;}#sk-container-id-2 div.sk-label label {font-family: monospace;font-weight: bold;display: inline-block;line-height: 1.2em;}#sk-container-id-2 div.sk-label-container {text-align: center;}#sk-container-id-2 div.sk-container {/* jupyter's `normalize.less` sets `[hidden] { display: none; }` but bootstrap.min.css set `[hidden] { display: none !important; }` so we also need the `!important` here to be able to override the default hidden behavior on the sphinx rendered scikit-learn.org. See: https://github.com/scikit-learn/scikit-learn/issues/21755 */display: inline-block !important;position: relative;}#sk-container-id-2 div.sk-text-repr-fallback {display: none;}</style><div id=\"sk-container-id-2\" class=\"sk-top-container\"><div class=\"sk-text-repr-fallback\"><pre>RandomForestRegressor(max_depth=10, min_samples_split=3, n_estimators=90,\n",
       "                      random_state=42)</pre><b>In a Jupyter environment, please rerun this cell to show the HTML representation or trust the notebook. <br />On GitHub, the HTML representation is unable to render, please try loading this page with nbviewer.org.</b></div><div class=\"sk-container\" hidden><div class=\"sk-item\"><div class=\"sk-estimator sk-toggleable\"><input class=\"sk-toggleable__control sk-hidden--visually\" id=\"sk-estimator-id-2\" type=\"checkbox\" checked><label for=\"sk-estimator-id-2\" class=\"sk-toggleable__label sk-toggleable__label-arrow\">RandomForestRegressor</label><div class=\"sk-toggleable__content\"><pre>RandomForestRegressor(max_depth=10, min_samples_split=3, n_estimators=90,\n",
       "                      random_state=42)</pre></div></div></div></div></div>"
      ],
      "text/plain": [
       "RandomForestRegressor(max_depth=10, min_samples_split=3, n_estimators=90,\n",
       "                      random_state=42)"
      ]
     },
     "execution_count": 40,
     "metadata": {},
     "output_type": "execute_result"
    }
   ],
   "source": [
    "rf_params = {\n",
    "    \"random_state\": 42,\n",
    "    #\"learning_rate\": 0.1,\n",
    "    \"n_estimators\": study.best_trial.params[\"n_estimators\"],\n",
    "    \"max_depth\": study.best_trial.params[\"max_depth\"],\n",
    "    \"min_samples_leaf\": study.best_trial.params[\"min_samples_leaf\"],\n",
    "    \"min_samples_split\": study.best_trial.params[\"min_samples_split\"],\n",
    "    #\"subsample\": study.best_trial.params[\"subsample\"]\n",
    "}\n",
    "\n",
    "rf = RandomForestRegressor(**rf_params)\n",
    "rf.fit(Cd_X_train, Cd_y_train)"
   ]
  },
  {
   "cell_type": "code",
   "execution_count": 41,
   "id": "9ab1055b",
   "metadata": {},
   "outputs": [],
   "source": [
    "y_train_pred = rf.predict(Cd_X_train)\n",
    "y_test_pred = rf.predict(Cd_X_test)"
   ]
  },
  {
   "cell_type": "code",
   "execution_count": 42,
   "id": "425b4001",
   "metadata": {},
   "outputs": [
    {
     "name": "stdout",
     "output_type": "stream",
     "text": [
      "Train RMSE:  0.08714147460615691\n",
      "Test RMSE:  0.23866772150229043\n"
     ]
    }
   ],
   "source": [
    "print(\"Train RMSE: \", np.sqrt(mean_squared_error(Cd_y_train, y_train_pred)))\n",
    "print(\"Test RMSE: \", np.sqrt(mean_squared_error(Cd_y_test, y_test_pred)))"
   ]
  },
  {
   "cell_type": "code",
   "execution_count": 43,
   "id": "0f95ae3c",
   "metadata": {},
   "outputs": [
    {
     "name": "stdout",
     "output_type": "stream",
     "text": [
      "Train R2:  0.9114474754102916\n",
      "Test R2:  0.3481044025298856\n"
     ]
    }
   ],
   "source": [
    "print(\"Train R2: \", r2_score(Cd_y_train, y_train_pred))\n",
    "print(\"Test R2: \", r2_score(Cd_y_test, y_test_pred))"
   ]
  },
  {
   "cell_type": "code",
   "execution_count": 44,
   "id": "aa0a517d",
   "metadata": {},
   "outputs": [
    {
     "data": {
      "image/png": "[encoded data removed]",
      "text/plain": [
       "<Figure size 640x480 with 1 Axes>"
      ]
     },
     "metadata": {},
     "output_type": "display_data"
    }
   ],
   "source": [
    "plt.scatter(y_train_pred, np.array(Cd_y_train), color=\"orange\", alpha=0.3)\n",
    "plt.scatter(y_test_pred, np.array(Cd_y_test), color=\"green\", alpha=0.4)\n",
    "plt.axis(\"auto\") # scaled, tight, auto, image, square\n",
    "# plt.xlim([0, 1.5]) \n",
    "# plt.ylim(0, None) \n",
    "plt.xlabel('Predicted Values')\n",
    "plt.ylabel('Actual Values')\n",
    "\n",
    "# Add y=x line\n",
    "plt.plot([0, 0.5], [0, 0.5], color='red', linestyle='-')\n",
    "\n",
    "plt.show()"
   ]
  },
  {
   "attachments": {},
   "cell_type": "markdown",
   "id": "74f680ea",
   "metadata": {},
   "source": [
    "Ni"
   ]
  },
  {
   "cell_type": "code",
   "execution_count": 45,
   "id": "de233338",
   "metadata": {},
   "outputs": [
    {
     "name": "stderr",
     "output_type": "stream",
     "text": [
      "\u001b[32m[I 2023-08-30 02:08:38,413]\u001b[0m A new study created in memory with name: rf_parameter_opt\u001b[0m\n",
      "\u001b[32m[I 2023-08-30 02:08:39,823]\u001b[0m Trial 0 finished with value: 0.6504778005207249 and parameters: {'n_estimators': 48, 'max_depth': 10, 'min_samples_leaf': 2, 'min_samples_split': 13}. Best is trial 0 with value: 0.6504778005207249.\u001b[0m\n",
      "\u001b[32m[I 2023-08-30 02:08:40,399]\u001b[0m Trial 1 finished with value: 0.47846687536753424 and parameters: {'n_estimators': 38, 'max_depth': 4, 'min_samples_leaf': 13, 'min_samples_split': 15}. Best is trial 0 with value: 0.6504778005207249.\u001b[0m\n",
      "\u001b[32m[I 2023-08-30 02:08:41,246]\u001b[0m Trial 2 finished with value: 0.49199133037555975 and parameters: {'n_estimators': 53, 'max_depth': 4, 'min_samples_leaf': 2, 'min_samples_split': 5}. Best is trial 0 with value: 0.6504778005207249.\u001b[0m\n",
      "\u001b[32m[I 2023-08-30 02:08:42,204]\u001b[0m Trial 3 finished with value: 0.4800400377508775 and parameters: {'n_estimators': 64, 'max_depth': 4, 'min_samples_leaf': 15, 'min_samples_split': 5}. Best is trial 0 with value: 0.6504778005207249.\u001b[0m\n",
      "\u001b[32m[I 2023-08-30 02:08:43,225]\u001b[0m Trial 4 finished with value: 0.546551824456224 and parameters: {'n_estimators': 52, 'max_depth': 5, 'min_samples_leaf': 5, 'min_samples_split': 3}. Best is trial 0 with value: 0.6504778005207249.\u001b[0m\n",
      "\u001b[32m[I 2023-08-30 02:08:44,479]\u001b[0m Trial 5 finished with value: 0.4426068904823886 and parameters: {'n_estimators': 87, 'max_depth': 3, 'min_samples_leaf': 4, 'min_samples_split': 15}. Best is trial 0 with value: 0.6504778005207249.\u001b[0m\n",
      "\u001b[32m[I 2023-08-30 02:08:45,085]\u001b[0m Trial 6 finished with value: 0.4360029137291944 and parameters: {'n_estimators': 48, 'max_depth': 3, 'min_samples_leaf': 13, 'min_samples_split': 13}. Best is trial 0 with value: 0.6504778005207249.\u001b[0m\n",
      "\u001b[32m[I 2023-08-30 02:08:45,494]\u001b[0m Trial 7 finished with value: 0.2009649299088959 and parameters: {'n_estimators': 50, 'max_depth': 1, 'min_samples_leaf': 17, 'min_samples_split': 11}. Best is trial 0 with value: 0.6504778005207249.\u001b[0m\n",
      "\u001b[32m[I 2023-08-30 02:08:46,078]\u001b[0m Trial 8 finished with value: 0.5387200971343038 and parameters: {'n_estimators': 37, 'max_depth': 10, 'min_samples_leaf': 20, 'min_samples_split': 2}. Best is trial 0 with value: 0.6504778005207249.\u001b[0m\n",
      "\u001b[32m[I 2023-08-30 02:08:47,933]\u001b[0m Trial 9 finished with value: 0.6226810429081459 and parameters: {'n_estimators': 85, 'max_depth': 10, 'min_samples_leaf': 7, 'min_samples_split': 12}. Best is trial 0 with value: 0.6504778005207249.\u001b[0m\n",
      "\u001b[32m[I 2023-08-30 02:08:48,300]\u001b[0m Trial 10 finished with value: 0.5978207910155324 and parameters: {'n_estimators': 18, 'max_depth': 8, 'min_samples_leaf': 9, 'min_samples_split': 20}. Best is trial 0 with value: 0.6504778005207249.\u001b[0m\n",
      "\u001b[32m[I 2023-08-30 02:08:50,278]\u001b[0m Trial 11 finished with value: 0.6135776114073836 and parameters: {'n_estimators': 95, 'max_depth': 10, 'min_samples_leaf': 8, 'min_samples_split': 9}. Best is trial 0 with value: 0.6504778005207249.\u001b[0m\n",
      "\u001b[32m[I 2023-08-30 02:08:52,019]\u001b[0m Trial 12 finished with value: 0.6210191453598787 and parameters: {'n_estimators': 74, 'max_depth': 8, 'min_samples_leaf': 1, 'min_samples_split': 18}. Best is trial 0 with value: 0.6504778005207249.\u001b[0m\n",
      "\u001b[32m[I 2023-08-30 02:08:53,654]\u001b[0m Trial 13 finished with value: 0.604032084585476 and parameters: {'n_estimators': 76, 'max_depth': 7, 'min_samples_leaf': 6, 'min_samples_split': 9}. Best is trial 0 with value: 0.6504778005207249.\u001b[0m\n",
      "\u001b[32m[I 2023-08-30 02:08:54,033]\u001b[0m Trial 14 finished with value: 0.6312304980059409 and parameters: {'n_estimators': 15, 'max_depth': 9, 'min_samples_leaf': 3, 'min_samples_split': 12}. Best is trial 0 with value: 0.6504778005207249.\u001b[0m\n",
      "\u001b[32m[I 2023-08-30 02:08:54,347]\u001b[0m Trial 15 finished with value: 0.6021021705997012 and parameters: {'n_estimators': 13, 'max_depth': 8, 'min_samples_leaf': 3, 'min_samples_split': 16}. Best is trial 0 with value: 0.6504778005207249.\u001b[0m\n",
      "\u001b[32m[I 2023-08-30 02:08:55,049]\u001b[0m Trial 16 finished with value: 0.6526085763038552 and parameters: {'n_estimators': 26, 'max_depth': 9, 'min_samples_leaf': 1, 'min_samples_split': 9}. Best is trial 16 with value: 0.6526085763038552.\u001b[0m\n",
      "\u001b[32m[I 2023-08-30 02:08:55,639]\u001b[0m Trial 17 finished with value: 0.5891806584172274 and parameters: {'n_estimators': 28, 'max_depth': 6, 'min_samples_leaf': 1, 'min_samples_split': 8}. Best is trial 16 with value: 0.6526085763038552.\u001b[0m\n",
      "\u001b[32m[I 2023-08-30 02:08:56,143]\u001b[0m Trial 18 finished with value: 0.596571265762917 and parameters: {'n_estimators': 27, 'max_depth': 9, 'min_samples_leaf': 11, 'min_samples_split': 7}. Best is trial 16 with value: 0.6526085763038552.\u001b[0m\n",
      "\u001b[32m[I 2023-08-30 02:08:56,882]\u001b[0m Trial 19 finished with value: 0.5956566511425905 and parameters: {'n_estimators': 36, 'max_depth': 7, 'min_samples_leaf': 6, 'min_samples_split': 14}. Best is trial 16 with value: 0.6526085763038552.\u001b[0m\n",
      "\u001b[32m[I 2023-08-30 02:08:57,383]\u001b[0m Trial 20 finished with value: 0.5997055452772827 and parameters: {'n_estimators': 26, 'max_depth': 9, 'min_samples_leaf': 10, 'min_samples_split': 10}. Best is trial 16 with value: 0.6526085763038552.\u001b[0m\n",
      "\u001b[32m[I 2023-08-30 02:08:57,809]\u001b[0m Trial 21 finished with value: 0.6344667574608134 and parameters: {'n_estimators': 16, 'max_depth': 9, 'min_samples_leaf': 3, 'min_samples_split': 12}. Best is trial 16 with value: 0.6526085763038552.\u001b[0m\n",
      "\u001b[32m[I 2023-08-30 02:08:58,331]\u001b[0m Trial 22 finished with value: 0.6337657908849109 and parameters: {'n_estimators': 21, 'max_depth': 9, 'min_samples_leaf': 4, 'min_samples_split': 11}. Best is trial 16 with value: 0.6526085763038552.\u001b[0m\n",
      "\u001b[32m[I 2023-08-30 02:08:59,749]\u001b[0m Trial 23 finished with value: 0.6065160093333661 and parameters: {'n_estimators': 63, 'max_depth': 7, 'min_samples_leaf': 1, 'min_samples_split': 17}. Best is trial 16 with value: 0.6526085763038552.\u001b[0m\n",
      "\u001b[32m[I 2023-08-30 02:09:00,034]\u001b[0m Trial 24 finished with value: 0.6299152682920169 and parameters: {'n_estimators': 10, 'max_depth': 10, 'min_samples_leaf': 3, 'min_samples_split': 6}. Best is trial 16 with value: 0.6526085763038552.\u001b[0m\n",
      "\u001b[32m[I 2023-08-30 02:09:01,023]\u001b[0m Trial 25 finished with value: 0.6211751214348713 and parameters: {'n_estimators': 45, 'max_depth': 8, 'min_samples_leaf': 5, 'min_samples_split': 13}. Best is trial 16 with value: 0.6526085763038552.\u001b[0m\n",
      "\u001b[32m[I 2023-08-30 02:09:01,711]\u001b[0m Trial 26 finished with value: 0.5881293013136526 and parameters: {'n_estimators': 32, 'max_depth': 6, 'min_samples_leaf': 2, 'min_samples_split': 9}. Best is trial 16 with value: 0.6526085763038552.\u001b[0m\n",
      "\u001b[32m[I 2023-08-30 02:09:02,650]\u001b[0m Trial 27 finished with value: 0.6185501193244557 and parameters: {'n_estimators': 43, 'max_depth': 9, 'min_samples_leaf': 7, 'min_samples_split': 11}. Best is trial 16 with value: 0.6526085763038552.\u001b[0m\n",
      "\u001b[32m[I 2023-08-30 02:09:04,110]\u001b[0m Trial 28 finished with value: 0.6415913135520992 and parameters: {'n_estimators': 60, 'max_depth': 10, 'min_samples_leaf': 4, 'min_samples_split': 14}. Best is trial 16 with value: 0.6526085763038552.\u001b[0m\n",
      "\u001b[32m[I 2023-08-30 02:09:05,237]\u001b[0m Trial 29 finished with value: 0.5832830144338296 and parameters: {'n_estimators': 62, 'max_depth': 10, 'min_samples_leaf': 12, 'min_samples_split': 15}. Best is trial 16 with value: 0.6526085763038552.\u001b[0m\n",
      "\u001b[32m[I 2023-08-30 02:09:06,572]\u001b[0m Trial 30 finished with value: 0.6240632935066842 and parameters: {'n_estimators': 59, 'max_depth': 10, 'min_samples_leaf': 5, 'min_samples_split': 18}. Best is trial 16 with value: 0.6526085763038552.\u001b[0m\n",
      "\u001b[32m[I 2023-08-30 02:09:08,372]\u001b[0m Trial 31 finished with value: 0.6426600459692964 and parameters: {'n_estimators': 71, 'max_depth': 9, 'min_samples_leaf': 2, 'min_samples_split': 13}. Best is trial 16 with value: 0.6526085763038552.\u001b[0m\n",
      "\u001b[32m[I 2023-08-30 02:09:10,177]\u001b[0m Trial 32 finished with value: 0.6305199782137579 and parameters: {'n_estimators': 74, 'max_depth': 8, 'min_samples_leaf': 1, 'min_samples_split': 14}. Best is trial 16 with value: 0.6526085763038552.\u001b[0m\n",
      "\u001b[32m[I 2023-08-30 02:09:11,996]\u001b[0m Trial 33 finished with value: 0.6497273498579197 and parameters: {'n_estimators': 71, 'max_depth': 10, 'min_samples_leaf': 2, 'min_samples_split': 13}. Best is trial 16 with value: 0.6526085763038552.\u001b[0m\n",
      "\u001b[32m[I 2023-08-30 02:09:13,815]\u001b[0m Trial 34 finished with value: 0.6520013322791405 and parameters: {'n_estimators': 69, 'max_depth': 9, 'min_samples_leaf': 2, 'min_samples_split': 10}. Best is trial 16 with value: 0.6526085763038552.\u001b[0m\n",
      "\u001b[32m[I 2023-08-30 02:09:15,691]\u001b[0m Trial 35 finished with value: 0.6235441068827198 and parameters: {'n_estimators': 81, 'max_depth': 7, 'min_samples_leaf': 2, 'min_samples_split': 7}. Best is trial 16 with value: 0.6526085763038552.\u001b[0m\n",
      "\u001b[32m[I 2023-08-30 02:09:16,227]\u001b[0m Trial 36 finished with value: 0.20174208845587943 and parameters: {'n_estimators': 69, 'max_depth': 1, 'min_samples_leaf': 4, 'min_samples_split': 10}. Best is trial 16 with value: 0.6526085763038552.\u001b[0m\n",
      "\u001b[32m[I 2023-08-30 02:09:17,123]\u001b[0m Trial 37 finished with value: 0.526226364683767 and parameters: {'n_estimators': 57, 'max_depth': 5, 'min_samples_leaf': 16, 'min_samples_split': 4}. Best is trial 16 with value: 0.6526085763038552.\u001b[0m\n",
      "\u001b[32m[I 2023-08-30 02:09:18,026]\u001b[0m Trial 38 finished with value: 0.4424078297546357 and parameters: {'n_estimators': 67, 'max_depth': 3, 'min_samples_leaf': 5, 'min_samples_split': 10}. Best is trial 16 with value: 0.6526085763038552.\u001b[0m\n",
      "\u001b[32m[I 2023-08-30 02:09:18,840]\u001b[0m Trial 39 finished with value: 0.537805905911666 and parameters: {'n_estimators': 52, 'max_depth': 10, 'min_samples_leaf': 20, 'min_samples_split': 8}. Best is trial 16 with value: 0.6526085763038552.\u001b[0m\n",
      "\u001b[32m[I 2023-08-30 02:09:21,426]\u001b[0m Trial 40 finished with value: 0.6466891532627579 and parameters: {'n_estimators': 99, 'max_depth': 8, 'min_samples_leaf': 2, 'min_samples_split': 5}. Best is trial 16 with value: 0.6526085763038552.\u001b[0m\n",
      "\u001b[32m[I 2023-08-30 02:09:24,400]\u001b[0m Trial 41 finished with value: 0.6635899429670981 and parameters: {'n_estimators': 98, 'max_depth': 9, 'min_samples_leaf': 1, 'min_samples_split': 5}. Best is trial 41 with value: 0.6635899429670981.\u001b[0m\n",
      "\u001b[32m[I 2023-08-30 02:09:27,247]\u001b[0m Trial 42 finished with value: 0.6699713852106612 and parameters: {'n_estimators': 88, 'max_depth': 9, 'min_samples_leaf': 1, 'min_samples_split': 2}. Best is trial 42 with value: 0.6699713852106612.\u001b[0m\n",
      "\u001b[32m[I 2023-08-30 02:09:30,418]\u001b[0m Trial 43 finished with value: 0.6687906566939885 and parameters: {'n_estimators': 91, 'max_depth': 9, 'min_samples_leaf': 1, 'min_samples_split': 2}. Best is trial 42 with value: 0.6699713852106612.\u001b[0m\n",
      "\u001b[32m[I 2023-08-30 02:09:33,269]\u001b[0m Trial 44 finished with value: 0.6687906566939885 and parameters: {'n_estimators': 91, 'max_depth': 9, 'min_samples_leaf': 1, 'min_samples_split': 2}. Best is trial 42 with value: 0.6699713852106612.\u001b[0m\n",
      "\u001b[32m[I 2023-08-30 02:09:35,955]\u001b[0m Trial 45 finished with value: 0.6530122593347432 and parameters: {'n_estimators': 93, 'max_depth': 8, 'min_samples_leaf': 1, 'min_samples_split': 2}. Best is trial 42 with value: 0.6699713852106612.\u001b[0m\n",
      "\u001b[32m[I 2023-08-30 02:09:38,491]\u001b[0m Trial 46 finished with value: 0.6525906462225837 and parameters: {'n_estimators': 92, 'max_depth': 8, 'min_samples_leaf': 1, 'min_samples_split': 2}. Best is trial 42 with value: 0.6699713852106612.\u001b[0m\n",
      "\u001b[32m[I 2023-08-30 02:09:40,563]\u001b[0m Trial 47 finished with value: 0.6185270623002752 and parameters: {'n_estimators': 90, 'max_depth': 7, 'min_samples_leaf': 3, 'min_samples_split': 3}. Best is trial 42 with value: 0.6699713852106612.\u001b[0m\n",
      "\u001b[32m[I 2023-08-30 02:09:42,914]\u001b[0m Trial 48 finished with value: 0.6329822122722286 and parameters: {'n_estimators': 100, 'max_depth': 8, 'min_samples_leaf': 4, 'min_samples_split': 3}. Best is trial 42 with value: 0.6699713852106612.\u001b[0m\n",
      "\u001b[32m[I 2023-08-30 02:09:44,703]\u001b[0m Trial 49 finished with value: 0.5949120082156283 and parameters: {'n_estimators': 83, 'max_depth': 6, 'min_samples_leaf': 1, 'min_samples_split': 4}. Best is trial 42 with value: 0.6699713852106612.\u001b[0m\n",
      "\u001b[32m[I 2023-08-30 02:09:46,980]\u001b[0m Trial 50 finished with value: 0.6398756788301921 and parameters: {'n_estimators': 94, 'max_depth': 8, 'min_samples_leaf': 3, 'min_samples_split': 2}. Best is trial 42 with value: 0.6699713852106612.\u001b[0m\n",
      "\u001b[32m[I 2023-08-30 02:09:49,525]\u001b[0m Trial 51 finished with value: 0.6674031094481828 and parameters: {'n_estimators': 88, 'max_depth': 9, 'min_samples_leaf': 1, 'min_samples_split': 4}. Best is trial 42 with value: 0.6699713852106612.\u001b[0m\n",
      "\u001b[32m[I 2023-08-30 02:09:52,052]\u001b[0m Trial 52 finished with value: 0.6674031094481828 and parameters: {'n_estimators': 88, 'max_depth': 9, 'min_samples_leaf': 1, 'min_samples_split': 4}. Best is trial 42 with value: 0.6699713852106612.\u001b[0m\n",
      "\u001b[32m[I 2023-08-30 02:09:54,256]\u001b[0m Trial 53 finished with value: 0.662595515478352 and parameters: {'n_estimators': 79, 'max_depth': 9, 'min_samples_leaf': 2, 'min_samples_split': 4}. Best is trial 42 with value: 0.6699713852106612.\u001b[0m\n",
      "\u001b[32m[I 2023-08-30 02:09:55,653]\u001b[0m Trial 54 finished with value: 0.5475783007310434 and parameters: {'n_estimators': 87, 'max_depth': 9, 'min_samples_leaf': 18, 'min_samples_split': 5}. Best is trial 42 with value: 0.6699713852106612.\u001b[0m\n",
      "\u001b[32m[I 2023-08-30 02:09:57,945]\u001b[0m Trial 55 finished with value: 0.6528568280320483 and parameters: {'n_estimators': 88, 'max_depth': 9, 'min_samples_leaf': 3, 'min_samples_split': 3}. Best is trial 42 with value: 0.6699713852106612.\u001b[0m\n",
      "\u001b[32m[I 2023-08-30 02:10:00,319]\u001b[0m Trial 56 finished with value: 0.6616954385966949 and parameters: {'n_estimators': 84, 'max_depth': 9, 'min_samples_leaf': 1, 'min_samples_split': 6}. Best is trial 42 with value: 0.6699713852106612.\u001b[0m\n",
      "\u001b[32m[I 2023-08-30 02:10:03,378]\u001b[0m Trial 57 finished with value: 0.6799452196576132 and parameters: {'n_estimators': 97, 'max_depth': 10, 'min_samples_leaf': 1, 'min_samples_split': 3}. Best is trial 57 with value: 0.6799452196576132.\u001b[0m\n",
      "\u001b[32m[I 2023-08-30 02:10:05,597]\u001b[0m Trial 58 finished with value: 0.6338035387106185 and parameters: {'n_estimators': 97, 'max_depth': 10, 'min_samples_leaf': 6, 'min_samples_split': 3}. Best is trial 57 with value: 0.6799452196576132.\u001b[0m\n",
      "\u001b[32m[I 2023-08-30 02:10:07,555]\u001b[0m Trial 59 finished with value: 0.6545852979729675 and parameters: {'n_estimators': 78, 'max_depth': 10, 'min_samples_leaf': 4, 'min_samples_split': 2}. Best is trial 57 with value: 0.6799452196576132.\u001b[0m\n",
      "\u001b[32m[I 2023-08-30 02:10:08,969]\u001b[0m Trial 60 finished with value: 0.4923940508290011 and parameters: {'n_estimators': 89, 'max_depth': 4, 'min_samples_leaf': 3, 'min_samples_split': 4}. Best is trial 57 with value: 0.6799452196576132.\u001b[0m\n",
      "\u001b[32m[I 2023-08-30 02:10:11,650]\u001b[0m Trial 61 finished with value: 0.662788470675355 and parameters: {'n_estimators': 95, 'max_depth': 9, 'min_samples_leaf': 1, 'min_samples_split': 5}. Best is trial 57 with value: 0.6799452196576132.\u001b[0m\n",
      "\u001b[32m[I 2023-08-30 02:10:14,282]\u001b[0m Trial 62 finished with value: 0.6741602000562545 and parameters: {'n_estimators': 91, 'max_depth': 10, 'min_samples_leaf': 2, 'min_samples_split': 3}. Best is trial 57 with value: 0.6799452196576132.\u001b[0m\n",
      "\u001b[32m[I 2023-08-30 02:10:16,938]\u001b[0m Trial 63 finished with value: 0.6741602000562545 and parameters: {'n_estimators': 91, 'max_depth': 10, 'min_samples_leaf': 2, 'min_samples_split': 3}. Best is trial 57 with value: 0.6799452196576132.\u001b[0m\n",
      "\u001b[32m[I 2023-08-30 02:10:19,771]\u001b[0m Trial 64 finished with value: 0.6741602000562545 and parameters: {'n_estimators': 91, 'max_depth': 10, 'min_samples_leaf': 2, 'min_samples_split': 2}. Best is trial 57 with value: 0.6799452196576132.\u001b[0m\n",
      "\u001b[32m[I 2023-08-30 02:10:22,528]\u001b[0m Trial 65 finished with value: 0.6749375366565964 and parameters: {'n_estimators': 92, 'max_depth': 10, 'min_samples_leaf': 2, 'min_samples_split': 3}. Best is trial 57 with value: 0.6799452196576132.\u001b[0m\n",
      "\u001b[32m[I 2023-08-30 02:10:25,066]\u001b[0m Trial 66 finished with value: 0.6752739846061973 and parameters: {'n_estimators': 85, 'max_depth': 10, 'min_samples_leaf': 2, 'min_samples_split': 3}. Best is trial 57 with value: 0.6799452196576132.\u001b[0m\n",
      "\u001b[32m[I 2023-08-30 02:10:27,126]\u001b[0m Trial 67 finished with value: 0.6456344693787702 and parameters: {'n_estimators': 85, 'max_depth': 10, 'min_samples_leaf': 5, 'min_samples_split': 3}. Best is trial 57 with value: 0.6799452196576132.\u001b[0m\n",
      "\u001b[32m[I 2023-08-30 02:10:29,082]\u001b[0m Trial 68 finished with value: 0.6034401670248263 and parameters: {'n_estimators': 96, 'max_depth': 10, 'min_samples_leaf': 9, 'min_samples_split': 3}. Best is trial 57 with value: 0.6799452196576132.\u001b[0m\n",
      "\u001b[32m[I 2023-08-30 02:10:31,157]\u001b[0m Trial 69 finished with value: 0.6553923624484279 and parameters: {'n_estimators': 82, 'max_depth': 10, 'min_samples_leaf': 4, 'min_samples_split': 6}. Best is trial 57 with value: 0.6799452196576132.\u001b[0m\n",
      "\u001b[32m[I 2023-08-30 02:10:32,636]\u001b[0m Trial 70 finished with value: 0.5692118146431598 and parameters: {'n_estimators': 85, 'max_depth': 10, 'min_samples_leaf': 14, 'min_samples_split': 2}. Best is trial 57 with value: 0.6799452196576132.\u001b[0m\n",
      "\u001b[32m[I 2023-08-30 02:10:35,337]\u001b[0m Trial 71 finished with value: 0.6749375366565964 and parameters: {'n_estimators': 92, 'max_depth': 10, 'min_samples_leaf': 2, 'min_samples_split': 3}. Best is trial 57 with value: 0.6799452196576132.\u001b[0m\n",
      "\u001b[32m[I 2023-08-30 02:10:38,083]\u001b[0m Trial 72 finished with value: 0.6747646614292446 and parameters: {'n_estimators': 94, 'max_depth': 10, 'min_samples_leaf': 2, 'min_samples_split': 3}. Best is trial 57 with value: 0.6799452196576132.\u001b[0m\n",
      "\u001b[32m[I 2023-08-30 02:10:40,876]\u001b[0m Trial 73 finished with value: 0.6747646614292446 and parameters: {'n_estimators': 94, 'max_depth': 10, 'min_samples_leaf': 2, 'min_samples_split': 3}. Best is trial 57 with value: 0.6799452196576132.\u001b[0m\n",
      "\u001b[32m[I 2023-08-30 02:10:43,550]\u001b[0m Trial 74 finished with value: 0.6654698318901137 and parameters: {'n_estimators': 100, 'max_depth': 10, 'min_samples_leaf': 3, 'min_samples_split': 3}. Best is trial 57 with value: 0.6799452196576132.\u001b[0m\n",
      "\u001b[32m[I 2023-08-30 02:10:46,312]\u001b[0m Trial 75 finished with value: 0.6747646614292446 and parameters: {'n_estimators': 94, 'max_depth': 10, 'min_samples_leaf': 2, 'min_samples_split': 4}. Best is trial 57 with value: 0.6799452196576132.\u001b[0m\n",
      "\u001b[32m[I 2023-08-30 02:10:48,651]\u001b[0m Trial 76 finished with value: 0.6534942447446164 and parameters: {'n_estimators': 95, 'max_depth': 10, 'min_samples_leaf': 4, 'min_samples_split': 5}. Best is trial 57 with value: 0.6799452196576132.\u001b[0m\n",
      "\u001b[32m[I 2023-08-30 02:10:51,328]\u001b[0m Trial 77 finished with value: 0.6651771421992712 and parameters: {'n_estimators': 97, 'max_depth': 10, 'min_samples_leaf': 3, 'min_samples_split': 4}. Best is trial 57 with value: 0.6799452196576132.\u001b[0m\n",
      "\u001b[32m[I 2023-08-30 02:10:53,945]\u001b[0m Trial 78 finished with value: 0.670612028315066 and parameters: {'n_estimators': 94, 'max_depth': 10, 'min_samples_leaf': 2, 'min_samples_split': 6}. Best is trial 57 with value: 0.6799452196576132.\u001b[0m\n",
      "\u001b[32m[I 2023-08-30 02:10:56,498]\u001b[0m Trial 79 finished with value: 0.6657427520566748 and parameters: {'n_estimators': 93, 'max_depth': 10, 'min_samples_leaf': 3, 'min_samples_split': 4}. Best is trial 57 with value: 0.6799452196576132.\u001b[0m\n",
      "\u001b[32m[I 2023-08-30 02:10:58,786]\u001b[0m Trial 80 finished with value: 0.6447666230641328 and parameters: {'n_estimators': 98, 'max_depth': 10, 'min_samples_leaf': 5, 'min_samples_split': 5}. Best is trial 57 with value: 0.6799452196576132.\u001b[0m\n",
      "\u001b[32m[I 2023-08-30 02:11:01,303]\u001b[0m Trial 81 finished with value: 0.6751313518910969 and parameters: {'n_estimators': 86, 'max_depth': 10, 'min_samples_leaf': 2, 'min_samples_split': 3}. Best is trial 57 with value: 0.6799452196576132.\u001b[0m\n",
      "\u001b[32m[I 2023-08-30 02:11:03,615]\u001b[0m Trial 82 finished with value: 0.6778878779196524 and parameters: {'n_estimators': 80, 'max_depth': 10, 'min_samples_leaf': 2, 'min_samples_split': 3}. Best is trial 57 with value: 0.6799452196576132.\u001b[0m\n",
      "\u001b[32m[I 2023-08-30 02:11:05,983]\u001b[0m Trial 83 finished with value: 0.677407955142603 and parameters: {'n_estimators': 81, 'max_depth': 10, 'min_samples_leaf': 2, 'min_samples_split': 4}. Best is trial 57 with value: 0.6799452196576132.\u001b[0m\n",
      "\u001b[32m[I 2023-08-30 02:11:08,252]\u001b[0m Trial 84 finished with value: 0.6762387058935257 and parameters: {'n_estimators': 79, 'max_depth': 10, 'min_samples_leaf': 2, 'min_samples_split': 4}. Best is trial 57 with value: 0.6799452196576132.\u001b[0m\n",
      "\u001b[32m[I 2023-08-30 02:11:10,254]\u001b[0m Trial 85 finished with value: 0.6672569463067892 and parameters: {'n_estimators': 75, 'max_depth': 10, 'min_samples_leaf': 3, 'min_samples_split': 4}. Best is trial 57 with value: 0.6799452196576132.\u001b[0m\n",
      "\u001b[32m[I 2023-08-30 02:11:12,456]\u001b[0m Trial 86 finished with value: 0.6694140978014583 and parameters: {'n_estimators': 79, 'max_depth': 10, 'min_samples_leaf': 2, 'min_samples_split': 7}. Best is trial 57 with value: 0.6799452196576132.\u001b[0m\n",
      "\u001b[32m[I 2023-08-30 02:11:14,333]\u001b[0m Trial 87 finished with value: 0.628313283843163 and parameters: {'n_estimators': 81, 'max_depth': 10, 'min_samples_leaf': 3, 'min_samples_split': 20}. Best is trial 57 with value: 0.6799452196576132.\u001b[0m\n",
      "\u001b[32m[I 2023-08-30 02:11:16,241]\u001b[0m Trial 88 finished with value: 0.6464715267108538 and parameters: {'n_estimators': 77, 'max_depth': 9, 'min_samples_leaf': 4, 'min_samples_split': 4}. Best is trial 57 with value: 0.6799452196576132.\u001b[0m\n",
      "\u001b[32m[I 2023-08-30 02:11:18,465]\u001b[0m Trial 89 finished with value: 0.6532481230224855 and parameters: {'n_estimators': 86, 'max_depth': 9, 'min_samples_leaf': 3, 'min_samples_split': 5}. Best is trial 57 with value: 0.6799452196576132.\u001b[0m\n",
      "\u001b[32m[I 2023-08-30 02:11:20,268]\u001b[0m Trial 90 finished with value: 0.6352353833472775 and parameters: {'n_estimators': 81, 'max_depth': 10, 'min_samples_leaf': 6, 'min_samples_split': 6}. Best is trial 57 with value: 0.6799452196576132.\u001b[0m\n",
      "\u001b[32m[I 2023-08-30 02:11:22,769]\u001b[0m Trial 91 finished with value: 0.6752739846061973 and parameters: {'n_estimators': 85, 'max_depth': 10, 'min_samples_leaf': 2, 'min_samples_split': 4}. Best is trial 57 with value: 0.6799452196576132.\u001b[0m\n",
      "\u001b[32m[I 2023-08-30 02:11:24,915]\u001b[0m Trial 92 finished with value: 0.6762635069170108 and parameters: {'n_estimators': 74, 'max_depth': 10, 'min_samples_leaf': 2, 'min_samples_split': 4}. Best is trial 57 with value: 0.6799452196576132.\u001b[0m\n",
      "\u001b[32m[I 2023-08-30 02:11:27,018]\u001b[0m Trial 93 finished with value: 0.6726261350492798 and parameters: {'n_estimators': 73, 'max_depth': 10, 'min_samples_leaf': 2, 'min_samples_split': 5}. Best is trial 57 with value: 0.6799452196576132.\u001b[0m\n",
      "\u001b[32m[I 2023-08-30 02:11:27,865]\u001b[0m Trial 94 finished with value: 0.30949564318119177 and parameters: {'n_estimators': 83, 'max_depth': 2, 'min_samples_leaf': 4, 'min_samples_split': 2}. Best is trial 57 with value: 0.6799452196576132.\u001b[0m\n",
      "\u001b[32m[I 2023-08-30 02:11:30,307]\u001b[0m Trial 95 finished with value: 0.6799179122341031 and parameters: {'n_estimators': 80, 'max_depth': 10, 'min_samples_leaf': 1, 'min_samples_split': 4}. Best is trial 57 with value: 0.6799452196576132.\u001b[0m\n",
      "\u001b[32m[I 2023-08-30 02:11:32,496]\u001b[0m Trial 96 finished with value: 0.6691306960088617 and parameters: {'n_estimators': 76, 'max_depth': 9, 'min_samples_leaf': 1, 'min_samples_split': 4}. Best is trial 57 with value: 0.6799452196576132.\u001b[0m\n",
      "\u001b[32m[I 2023-08-30 02:11:34,696]\u001b[0m Trial 97 finished with value: 0.6778372921347079 and parameters: {'n_estimators': 72, 'max_depth': 10, 'min_samples_leaf': 1, 'min_samples_split': 4}. Best is trial 57 with value: 0.6799452196576132.\u001b[0m\n",
      "\u001b[32m[I 2023-08-30 02:11:36,736]\u001b[0m Trial 98 finished with value: 0.6642129660288283 and parameters: {'n_estimators': 72, 'max_depth': 9, 'min_samples_leaf': 1, 'min_samples_split': 5}. Best is trial 57 with value: 0.6799452196576132.\u001b[0m\n",
      "\u001b[32m[I 2023-08-30 02:11:39,031]\u001b[0m Trial 99 finished with value: 0.6747316412585147 and parameters: {'n_estimators': 79, 'max_depth': 10, 'min_samples_leaf': 1, 'min_samples_split': 6}. Best is trial 57 with value: 0.6799452196576132.\u001b[0m\n"
     ]
    },
    {
     "name": "stdout",
     "output_type": "stream",
     "text": [
      "Best r2:  0.6799452196576132\n",
      "Best trial: {'n_estimators': 97, 'max_depth': 10, 'min_samples_leaf': 1, 'min_samples_split': 3}\n"
     ]
    }
   ],
   "source": [
    "sampler = TPESampler()\n",
    "study = optuna.create_study(\n",
    "    study_name=\"rf_parameter_opt\",\n",
    "    direction=\"maximize\",\n",
    "    sampler=sampler,\n",
    ")\n",
    "\n",
    "study.optimize(lambda trial : objectiveRF(trial, Ni_X_train, Ni_y_train), n_trials=100)\n",
    "print(\"Best r2: \", study.best_value)\n",
    "print(\"Best trial:\", study.best_trial.params)"
   ]
  },
  {
   "cell_type": "code",
   "execution_count": 46,
   "id": "d71c01fb",
   "metadata": {},
   "outputs": [
    {
     "data": {
      "application/vnd.plotly.v1+json": {
       "config": {
        "plotlyServerURL": "https://plot.ly"
       },
       "data": [
        {
         "dimensions": [
          {
           "label": "Objective Value",
           "range": [
            0.2009649299088959,
            0.6799452196576132
           ],
           "values": [
            0.6504778005207249,
            0.47846687536753424,
            0.49199133037555975,
            0.4800400377508775,
            0.546551824456224,
            0.4426068904823886,
            0.4360029137291944,
            0.2009649299088959,
            0.5387200971343038,
            0.6226810429081459,
            0.5978207910155324,
            0.6135776114073836,
            0.6210191453598787,
            0.604032084585476,
            0.6312304980059409,
            0.6021021705997012,
            0.6526085763038552,
            0.5891806584172274,
            0.596571265762917,
            0.5956566511425905,
            0.5997055452772827,
            0.6344667574608134,
            0.6337657908849109,
            0.6065160093333661,
            0.6299152682920169,
            0.6211751214348713,
            0.5881293013136526,
            0.6185501193244557,
            0.6415913135520992,
            0.5832830144338296,
            0.6240632935066842,
            0.6426600459692964,
            0.6305199782137579,
            0.6497273498579197,
            0.6520013322791405,
            0.6235441068827198,
            0.20174208845587943,
            0.526226364683767,
            0.4424078297546357,
            0.537805905911666,
            0.6466891532627579,
            0.6635899429670981,
            0.6699713852106612,
            0.6687906566939885,
            0.6687906566939885,
            0.6530122593347432,
            0.6525906462225837,
            0.6185270623002752,
            0.6329822122722286,
            0.5949120082156283,
            0.6398756788301921,
            0.6674031094481828,
            0.6674031094481828,
            0.662595515478352,
            0.5475783007310434,
            0.6528568280320483,
            0.6616954385966949,
            0.6799452196576132,
            0.6338035387106185,
            0.6545852979729675,
            0.4923940508290011,
            0.662788470675355,
            0.6741602000562545,
            0.6741602000562545,
            0.6741602000562545,
            0.6749375366565964,
            0.6752739846061973,
            0.6456344693787702,
            0.6034401670248263,
            0.6553923624484279,
            0.5692118146431598,
            0.6749375366565964,
            0.6747646614292446,
            0.6747646614292446,
            0.6654698318901137,
            0.6747646614292446,
            0.6534942447446164,
            0.6651771421992712,
            0.670612028315066,
            0.6657427520566748,
            0.6447666230641328,
            0.6751313518910969,
            0.6778878779196524,
            0.677407955142603,
            0.6762387058935257,
            0.6672569463067892,
            0.6694140978014583,
            0.628313283843163,
            0.6464715267108538,
            0.6532481230224855,
            0.6352353833472775,
            0.6752739846061973,
            0.6762635069170108,
            0.6726261350492798,
            0.30949564318119177,
            0.6799179122341031,
            0.6691306960088617,
            0.6778372921347079,
            0.6642129660288283,
            0.6747316412585147
           ]
          },
          {
           "label": "max_depth",
           "range": [
            1,
            10
           ],
           "values": [
            10,
            4,
            4,
            4,
            5,
            3,
            3,
            1,
            10,
            10,
            8,
            10,
            8,
            7,
            9,
            8,
            9,
            6,
            9,
            7,
            9,
            9,
            9,
            7,
            10,
            8,
            6,
            9,
            10,
            10,
            10,
            9,
            8,
            10,
            9,
            7,
            1,
            5,
            3,
            10,
            8,
            9,
            9,
            9,
            9,
            8,
            8,
            7,
            8,
            6,
            8,
            9,
            9,
            9,
            9,
            9,
            9,
            10,
            10,
            10,
            4,
            9,
            10,
            10,
            10,
            10,
            10,
            10,
            10,
            10,
            10,
            10,
            10,
            10,
            10,
            10,
            10,
            10,
            10,
            10,
            10,
            10,
            10,
            10,
            10,
            10,
            10,
            10,
            9,
            9,
            10,
            10,
            10,
            10,
            2,
            10,
            9,
            10,
            9,
            10
           ]
          },
          {
           "label": "min_samples_leaf",
           "range": [
            1,
            20
           ],
           "values": [
            2,
            13,
            2,
            15,
            5,
            4,
            13,
            17,
            20,
            7,
            9,
            8,
            1,
            6,
            3,
            3,
            1,
            1,
            11,
            6,
            10,
            3,
            4,
            1,
            3,
            5,
            2,
            7,
            4,
            12,
            5,
            2,
            1,
            2,
            2,
            2,
            4,
            16,
            5,
            20,
            2,
            1,
            1,
            1,
            1,
            1,
            1,
            3,
            4,
            1,
            3,
            1,
            1,
            2,
            18,
            3,
            1,
            1,
            6,
            4,
            3,
            1,
            2,
            2,
            2,
            2,
            2,
            5,
            9,
            4,
            14,
            2,
            2,
            2,
            3,
            2,
            4,
            3,
            2,
            3,
            5,
            2,
            2,
            2,
            2,
            3,
            2,
            3,
            4,
            3,
            6,
            2,
            2,
            2,
            4,
            1,
            1,
            1,
            1,
            1
           ]
          },
          {
           "label": "min_samples_split",
           "range": [
            2,
            20
           ],
           "values": [
            13,
            15,
            5,
            5,
            3,
            15,
            13,
            11,
            2,
            12,
            20,
            9,
            18,
            9,
            12,
            16,
            9,
            8,
            7,
            14,
            10,
            12,
            11,
            17,
            6,
            13,
            9,
            11,
            14,
            15,
            18,
            13,
            14,
            13,
            10,
            7,
            10,
            4,
            10,
            8,
            5,
            5,
            2,
            2,
            2,
            2,
            2,
            3,
            3,
            4,
            2,
            4,
            4,
            4,
            5,
            3,
            6,
            3,
            3,
            2,
            4,
            5,
            3,
            3,
            2,
            3,
            3,
            3,
            3,
            6,
            2,
            3,
            3,
            3,
            3,
            4,
            5,
            4,
            6,
            4,
            5,
            3,
            3,
            4,
            4,
            4,
            7,
            20,
            4,
            5,
            6,
            4,
            4,
            5,
            2,
            4,
            4,
            4,
            5,
            6
           ]
          },
          {
           "label": "n_estimators",
           "range": [
            10,
            100
           ],
           "values": [
            48,
            38,
            53,
            64,
            52,
            87,
            48,
            50,
            37,
            85,
            18,
            95,
            74,
            76,
            15,
            13,
            26,
            28,
            27,
            36,
            26,
            16,
            21,
            63,
            10,
            45,
            32,
            43,
            60,
            62,
            59,
            71,
            74,
            71,
            69,
            81,
            69,
            57,
            67,
            52,
            99,
            98,
            88,
            91,
            91,
            93,
            92,
            90,
            100,
            83,
            94,
            88,
            88,
            79,
            87,
            88,
            84,
            97,
            97,
            78,
            89,
            95,
            91,
            91,
            91,
            92,
            85,
            85,
            96,
            82,
            85,
            92,
            94,
            94,
            100,
            94,
            95,
            97,
            94,
            93,
            98,
            86,
            80,
            81,
            79,
            75,
            79,
            81,
            77,
            86,
            81,
            85,
            74,
            73,
            83,
            80,
            76,
            72,
            72,
            79
           ]
          }
         ],
         "labelangle": 30,
         "labelside": "bottom",
         "line": {
          "color": [
           0.6504778005207249,
           0.47846687536753424,
           0.49199133037555975,
           0.4800400377508775,
           0.546551824456224,
           0.4426068904823886,
           0.4360029137291944,
           0.2009649299088959,
           0.5387200971343038,
           0.6226810429081459,
           0.5978207910155324,
           0.6135776114073836,
           0.6210191453598787,
           0.604032084585476,
           0.6312304980059409,
           0.6021021705997012,
           0.6526085763038552,
           0.5891806584172274,
           0.596571265762917,
           0.5956566511425905,
           0.5997055452772827,
           0.6344667574608134,
           0.6337657908849109,
           0.6065160093333661,
           0.6299152682920169,
           0.6211751214348713,
           0.5881293013136526,
           0.6185501193244557,
           0.6415913135520992,
           0.5832830144338296,
           0.6240632935066842,
           0.6426600459692964,
           0.6305199782137579,
           0.6497273498579197,
           0.6520013322791405,
           0.6235441068827198,
           0.20174208845587943,
           0.526226364683767,
           0.4424078297546357,
           0.537805905911666,
           0.6466891532627579,
           0.6635899429670981,
           0.6699713852106612,
           0.6687906566939885,
           0.6687906566939885,
           0.6530122593347432,
           0.6525906462225837,
           0.6185270623002752,
           0.6329822122722286,
           0.5949120082156283,
           0.6398756788301921,
           0.6674031094481828,
           0.6674031094481828,
           0.662595515478352,
           0.5475783007310434,
           0.6528568280320483,
           0.6616954385966949,
           0.6799452196576132,
           0.6338035387106185,
           0.6545852979729675,
           0.4923940508290011,
           0.662788470675355,
           0.6741602000562545,
           0.6741602000562545,
           0.6741602000562545,
           0.6749375366565964,
           0.6752739846061973,
           0.6456344693787702,
           0.6034401670248263,
           0.6553923624484279,
           0.5692118146431598,
           0.6749375366565964,
           0.6747646614292446,
           0.6747646614292446,
           0.6654698318901137,
           0.6747646614292446,
           0.6534942447446164,
           0.6651771421992712,
           0.670612028315066,
           0.6657427520566748,
           0.6447666230641328,
           0.6751313518910969,
           0.6778878779196524,
           0.677407955142603,
           0.6762387058935257,
           0.6672569463067892,
           0.6694140978014583,
           0.628313283843163,
           0.6464715267108538,
           0.6532481230224855,
           0.6352353833472775,
           0.6752739846061973,
           0.6762635069170108,
           0.6726261350492798,
           0.30949564318119177,
           0.6799179122341031,
           0.6691306960088617,
           0.6778372921347079,
           0.6642129660288283,
           0.6747316412585147
          ],
          "colorbar": {
           "title": {
            "text": "Objective Value"
           }
          },
          "colorscale": [
           [
            0,
            "rgb(247,251,255)"
           ],
           [
            0.125,
            "rgb(222,235,247)"
           ],
           [
            0.25,
            "rgb(198,219,239)"
           ],
           [
            0.375,
            "rgb(158,202,225)"
           ],
           [
            0.5,
            "rgb(107,174,214)"
           ],
           [
            0.625,
            "rgb(66,146,198)"
           ],
           [
            0.75,
            "rgb(33,113,181)"
           ],
           [
            0.875,
            "rgb(8,81,156)"
           ],
           [
            1,
            "rgb(8,48,107)"
           ]
          ],
          "reversescale": false,
          "showscale": true
         },
         "type": "parcoords"
        }
       ],
       "layout": {
        "template": {
         "data": {
          "bar": [
           {
            "error_x": {
             "color": "#2a3f5f"
            },
            "error_y": {
             "color": "#2a3f5f"
            },
            "marker": {
             "line": {
              "color": "#E5ECF6",
              "width": 0.5
             },
             "pattern": {
              "fillmode": "overlay",
              "size": 10,
              "solidity": 0.2
             }
            },
            "type": "bar"
           }
          ],
          "barpolar": [
           {
            "marker": {
             "line": {
              "color": "#E5ECF6",
              "width": 0.5
             },
             "pattern": {
              "fillmode": "overlay",
              "size": 10,
              "solidity": 0.2
             }
            },
            "type": "barpolar"
           }
          ],
          "carpet": [
           {
            "aaxis": {
             "endlinecolor": "#2a3f5f",
             "gridcolor": "white",
             "linecolor": "white",
             "minorgridcolor": "white",
             "startlinecolor": "#2a3f5f"
            },
            "baxis": {
             "endlinecolor": "#2a3f5f",
             "gridcolor": "white",
             "linecolor": "white",
             "minorgridcolor": "white",
             "startlinecolor": "#2a3f5f"
            },
            "type": "carpet"
           }
          ],
          "choropleth": [
           {
            "colorbar": {
             "outlinewidth": 0,
             "ticks": ""
            },
            "type": "choropleth"
           }
          ],
          "contour": [
           {
            "colorbar": {
             "outlinewidth": 0,
             "ticks": ""
            },
            "colorscale": [
             [
              0,
              "#0d0887"
             ],
             [
              0.1111111111111111,
              "#46039f"
             ],
             [
              0.2222222222222222,
              "#7201a8"
             ],
             [
              0.3333333333333333,
              "#9c179e"
             ],
             [
              0.4444444444444444,
              "#bd3786"
             ],
             [
              0.5555555555555556,
              "#d8576b"
             ],
             [
              0.6666666666666666,
              "#ed7953"
             ],
             [
              0.7777777777777778,
              "#fb9f3a"
             ],
             [
              0.8888888888888888,
              "#fdca26"
             ],
             [
              1,
              "#f0f921"
             ]
            ],
            "type": "contour"
           }
          ],
          "contourcarpet": [
           {
            "colorbar": {
             "outlinewidth": 0,
             "ticks": ""
            },
            "type": "contourcarpet"
           }
          ],
          "heatmap": [
           {
            "colorbar": {
             "outlinewidth": 0,
             "ticks": ""
            },
            "colorscale": [
             [
              0,
              "#0d0887"
             ],
             [
              0.1111111111111111,
              "#46039f"
             ],
             [
              0.2222222222222222,
              "#7201a8"
             ],
             [
              0.3333333333333333,
              "#9c179e"
             ],
             [
              0.4444444444444444,
              "#bd3786"
             ],
             [
              0.5555555555555556,
              "#d8576b"
             ],
             [
              0.6666666666666666,
              "#ed7953"
             ],
             [
              0.7777777777777778,
              "#fb9f3a"
             ],
             [
              0.8888888888888888,
              "#fdca26"
             ],
             [
              1,
              "#f0f921"
             ]
            ],
            "type": "heatmap"
           }
          ],
          "heatmapgl": [
           {
            "colorbar": {
             "outlinewidth": 0,
             "ticks": ""
            },
            "colorscale": [
             [
              0,
              "#0d0887"
             ],
             [
              0.1111111111111111,
              "#46039f"
             ],
             [
              0.2222222222222222,
              "#7201a8"
             ],
             [
              0.3333333333333333,
              "#9c179e"
             ],
             [
              0.4444444444444444,
              "#bd3786"
             ],
             [
              0.5555555555555556,
              "#d8576b"
             ],
             [
              0.6666666666666666,
              "#ed7953"
             ],
             [
              0.7777777777777778,
              "#fb9f3a"
             ],
             [
              0.8888888888888888,
              "#fdca26"
             ],
             [
              1,
              "#f0f921"
             ]
            ],
            "type": "heatmapgl"
           }
          ],
          "histogram": [
           {
            "marker": {
             "pattern": {
              "fillmode": "overlay",
              "size": 10,
              "solidity": 0.2
             }
            },
            "type": "histogram"
           }
          ],
          "histogram2d": [
           {
            "colorbar": {
             "outlinewidth": 0,
             "ticks": ""
            },
            "colorscale": [
             [
              0,
              "#0d0887"
             ],
             [
              0.1111111111111111,
              "#46039f"
             ],
             [
              0.2222222222222222,
              "#7201a8"
             ],
             [
              0.3333333333333333,
              "#9c179e"
             ],
             [
              0.4444444444444444,
              "#bd3786"
             ],
             [
              0.5555555555555556,
              "#d8576b"
             ],
             [
              0.6666666666666666,
              "#ed7953"
             ],
             [
              0.7777777777777778,
              "#fb9f3a"
             ],
             [
              0.8888888888888888,
              "#fdca26"
             ],
             [
              1,
              "#f0f921"
             ]
            ],
            "type": "histogram2d"
           }
          ],
          "histogram2dcontour": [
           {
            "colorbar": {
             "outlinewidth": 0,
             "ticks": ""
            },
            "colorscale": [
             [
              0,
              "#0d0887"
             ],
             [
              0.1111111111111111,
              "#46039f"
             ],
             [
              0.2222222222222222,
              "#7201a8"
             ],
             [
              0.3333333333333333,
              "#9c179e"
             ],
             [
              0.4444444444444444,
              "#bd3786"
             ],
             [
              0.5555555555555556,
              "#d8576b"
             ],
             [
              0.6666666666666666,
              "#ed7953"
             ],
             [
              0.7777777777777778,
              "#fb9f3a"
             ],
             [
              0.8888888888888888,
              "#fdca26"
             ],
             [
              1,
              "#f0f921"
             ]
            ],
            "type": "histogram2dcontour"
           }
          ],
          "mesh3d": [
           {
            "colorbar": {
             "outlinewidth": 0,
             "ticks": ""
            },
            "type": "mesh3d"
           }
          ],
          "parcoords": [
           {
            "line": {
             "colorbar": {
              "outlinewidth": 0,
              "ticks": ""
             }
            },
            "type": "parcoords"
           }
          ],
          "pie": [
           {
            "automargin": true,
            "type": "pie"
           }
          ],
          "scatter": [
           {
            "marker": {
             "colorbar": {
              "outlinewidth": 0,
              "ticks": ""
             }
            },
            "type": "scatter"
           }
          ],
          "scatter3d": [
           {
            "line": {
             "colorbar": {
              "outlinewidth": 0,
              "ticks": ""
             }
            },
            "marker": {
             "colorbar": {
              "outlinewidth": 0,
              "ticks": ""
             }
            },
            "type": "scatter3d"
           }
          ],
          "scattercarpet": [
           {
            "marker": {
             "colorbar": {
              "outlinewidth": 0,
              "ticks": ""
             }
            },
            "type": "scattercarpet"
           }
          ],
          "scattergeo": [
           {
            "marker": {
             "colorbar": {
              "outlinewidth": 0,
              "ticks": ""
             }
            },
            "type": "scattergeo"
           }
          ],
          "scattergl": [
           {
            "marker": {
             "colorbar": {
              "outlinewidth": 0,
              "ticks": ""
             }
            },
            "type": "scattergl"
           }
          ],
          "scattermapbox": [
           {
            "marker": {
             "colorbar": {
              "outlinewidth": 0,
              "ticks": ""
             }
            },
            "type": "scattermapbox"
           }
          ],
          "scatterpolar": [
           {
            "marker": {
             "colorbar": {
              "outlinewidth": 0,
              "ticks": ""
             }
            },
            "type": "scatterpolar"
           }
          ],
          "scatterpolargl": [
           {
            "marker": {
             "colorbar": {
              "outlinewidth": 0,
              "ticks": ""
             }
            },
            "type": "scatterpolargl"
           }
          ],
          "scatterternary": [
           {
            "marker": {
             "colorbar": {
              "outlinewidth": 0,
              "ticks": ""
             }
            },
            "type": "scatterternary"
           }
          ],
          "surface": [
           {
            "colorbar": {
             "outlinewidth": 0,
             "ticks": ""
            },
            "colorscale": [
             [
              0,
              "#0d0887"
             ],
             [
              0.1111111111111111,
              "#46039f"
             ],
             [
              0.2222222222222222,
              "#7201a8"
             ],
             [
              0.3333333333333333,
              "#9c179e"
             ],
             [
              0.4444444444444444,
              "#bd3786"
             ],
             [
              0.5555555555555556,
              "#d8576b"
             ],
             [
              0.6666666666666666,
              "#ed7953"
             ],
             [
              0.7777777777777778,
              "#fb9f3a"
             ],
             [
              0.8888888888888888,
              "#fdca26"
             ],
             [
              1,
              "#f0f921"
             ]
            ],
            "type": "surface"
           }
          ],
          "table": [
           {
            "cells": {
             "fill": {
              "color": "#EBF0F8"
             },
             "line": {
              "color": "white"
             }
            },
            "header": {
             "fill": {
              "color": "#C8D4E3"
             },
             "line": {
              "color": "white"
             }
            },
            "type": "table"
           }
          ]
         },
         "layout": {
          "annotationdefaults": {
           "arrowcolor": "#2a3f5f",
           "arrowhead": 0,
           "arrowwidth": 1
          },
          "autotypenumbers": "strict",
          "coloraxis": {
           "colorbar": {
            "outlinewidth": 0,
            "ticks": ""
           }
          },
          "colorscale": {
           "diverging": [
            [
             0,
             "#8e0152"
            ],
            [
             0.1,
             "#c51b7d"
            ],
            [
             0.2,
             "#de77ae"
            ],
            [
             0.3,
             "#f1b6da"
            ],
            [
             0.4,
             "#fde0ef"
            ],
            [
             0.5,
             "#f7f7f7"
            ],
            [
             0.6,
             "#e6f5d0"
            ],
            [
             0.7,
             "#b8e186"
            ],
            [
             0.8,
             "#7fbc41"
            ],
            [
             0.9,
             "#4d9221"
            ],
            [
             1,
             "#276419"
            ]
           ],
           "sequential": [
            [
             0,
             "#0d0887"
            ],
            [
             0.1111111111111111,
             "#46039f"
            ],
            [
             0.2222222222222222,
             "#7201a8"
            ],
            [
             0.3333333333333333,
             "#9c179e"
            ],
            [
             0.4444444444444444,
             "#bd3786"
            ],
            [
             0.5555555555555556,
             "#d8576b"
            ],
            [
             0.6666666666666666,
             "#ed7953"
            ],
            [
             0.7777777777777778,
             "#fb9f3a"
            ],
            [
             0.8888888888888888,
             "#fdca26"
            ],
            [
             1,
             "#f0f921"
            ]
           ],
           "sequentialminus": [
            [
             0,
             "#0d0887"
            ],
            [
             0.1111111111111111,
             "#46039f"
            ],
            [
             0.2222222222222222,
             "#7201a8"
            ],
            [
             0.3333333333333333,
             "#9c179e"
            ],
            [
             0.4444444444444444,
             "#bd3786"
            ],
            [
             0.5555555555555556,
             "#d8576b"
            ],
            [
             0.6666666666666666,
             "#ed7953"
            ],
            [
             0.7777777777777778,
             "#fb9f3a"
            ],
            [
             0.8888888888888888,
             "#fdca26"
            ],
            [
             1,
             "#f0f921"
            ]
           ]
          },
          "colorway": [
           "#636efa",
           "#EF553B",
           "#00cc96",
           "#ab63fa",
           "#FFA15A",
           "#19d3f3",
           "#FF6692",
           "#B6E880",
           "#FF97FF",
           "#FECB52"
          ],
          "font": {
           "color": "#2a3f5f"
          },
          "geo": {
           "bgcolor": "white",
           "lakecolor": "white",
           "landcolor": "#E5ECF6",
           "showlakes": true,
           "showland": true,
           "subunitcolor": "white"
          },
          "hoverlabel": {
           "align": "left"
          },
          "hovermode": "closest",
          "mapbox": {
           "style": "light"
          },
          "paper_bgcolor": "white",
          "plot_bgcolor": "#E5ECF6",
          "polar": {
           "angularaxis": {
            "gridcolor": "white",
            "linecolor": "white",
            "ticks": ""
           },
           "bgcolor": "#E5ECF6",
           "radialaxis": {
            "gridcolor": "white",
            "linecolor": "white",
            "ticks": ""
           }
          },
          "scene": {
           "xaxis": {
            "backgroundcolor": "#E5ECF6",
            "gridcolor": "white",
            "gridwidth": 2,
            "linecolor": "white",
            "showbackground": true,
            "ticks": "",
            "zerolinecolor": "white"
           },
           "yaxis": {
            "backgroundcolor": "#E5ECF6",
            "gridcolor": "white",
            "gridwidth": 2,
            "linecolor": "white",
            "showbackground": true,
            "ticks": "",
            "zerolinecolor": "white"
           },
           "zaxis": {
            "backgroundcolor": "#E5ECF6",
            "gridcolor": "white",
            "gridwidth": 2,
            "linecolor": "white",
            "showbackground": true,
            "ticks": "",
            "zerolinecolor": "white"
           }
          },
          "shapedefaults": {
           "line": {
            "color": "#2a3f5f"
           }
          },
          "ternary": {
           "aaxis": {
            "gridcolor": "white",
            "linecolor": "white",
            "ticks": ""
           },
           "baxis": {
            "gridcolor": "white",
            "linecolor": "white",
            "ticks": ""
           },
           "bgcolor": "#E5ECF6",
           "caxis": {
            "gridcolor": "white",
            "linecolor": "white",
            "ticks": ""
           }
          },
          "title": {
           "x": 0.05
          },
          "xaxis": {
           "automargin": true,
           "gridcolor": "white",
           "linecolor": "white",
           "ticks": "",
           "title": {
            "standoff": 15
           },
           "zerolinecolor": "white",
           "zerolinewidth": 2
          },
          "yaxis": {
           "automargin": true,
           "gridcolor": "white",
           "linecolor": "white",
           "ticks": "",
           "title": {
            "standoff": 15
           },
           "zerolinecolor": "white",
           "zerolinewidth": 2
          }
         }
        },
        "title": {
         "text": "Parallel Coordinate Plot"
        }
       }
      }
     },
     "metadata": {},
     "output_type": "display_data"
    }
   ],
   "source": [
    "optuna.visualization.plot_parallel_coordinate(study)"
   ]
  },
  {
   "cell_type": "code",
   "execution_count": 47,
   "id": "1d419df8",
   "metadata": {},
   "outputs": [
    {
     "name": "stdout",
     "output_type": "stream",
     "text": [
      "Best trial: {'n_estimators': 97, 'max_depth': 10, 'min_samples_leaf': 1, 'min_samples_split': 3}\n"
     ]
    },
    {
     "data": {
      "text/plain": [
       "97"
      ]
     },
     "execution_count": 47,
     "metadata": {},
     "output_type": "execute_result"
    }
   ],
   "source": [
    "print(\"Best trial:\", study.best_trial.params)\n",
    "study.best_trial.params[\"n_estimators\"]"
   ]
  },
  {
   "cell_type": "code",
   "execution_count": 48,
   "id": "ffefef6c",
   "metadata": {},
   "outputs": [
    {
     "data": {
      "text/html": [
       "<style>#sk-container-id-3 {color: black;}#sk-container-id-3 pre{padding: 0;}#sk-container-id-3 div.sk-toggleable {background-color: white;}#sk-container-id-3 label.sk-toggleable__label {cursor: pointer;display: block;width: 100%;margin-bottom: 0;padding: 0.3em;box-sizing: border-box;text-align: center;}#sk-container-id-3 label.sk-toggleable__label-arrow:before {content: \"▸\";float: left;margin-right: 0.25em;color: #696969;}#sk-container-id-3 label.sk-toggleable__label-arrow:hover:before {color: black;}#sk-container-id-3 div.sk-estimator:hover label.sk-toggleable__label-arrow:before {color: black;}#sk-container-id-3 div.sk-toggleable__content {max-height: 0;max-width: 0;overflow: hidden;text-align: left;background-color: #f0f8ff;}#sk-container-id-3 div.sk-toggleable__content pre {margin: 0.2em;color: black;border-radius: 0.25em;background-color: #f0f8ff;}#sk-container-id-3 input.sk-toggleable__control:checked~div.sk-toggleable__content {max-height: 200px;max-width: 100%;overflow: auto;}#sk-container-id-3 input.sk-toggleable__control:checked~label.sk-toggleable__label-arrow:before {content: \"▾\";}#sk-container-id-3 div.sk-estimator input.sk-toggleable__control:checked~label.sk-toggleable__label {background-color: #d4ebff;}#sk-container-id-3 div.sk-label input.sk-toggleable__control:checked~label.sk-toggleable__label {background-color: #d4ebff;}#sk-container-id-3 input.sk-hidden--visually {border: 0;clip: rect(1px 1px 1px 1px);clip: rect(1px, 1px, 1px, 1px);height: 1px;margin: -1px;overflow: hidden;padding: 0;position: absolute;width: 1px;}#sk-container-id-3 div.sk-estimator {font-family: monospace;background-color: #f0f8ff;border: 1px dotted black;border-radius: 0.25em;box-sizing: border-box;margin-bottom: 0.5em;}#sk-container-id-3 div.sk-estimator:hover {background-color: #d4ebff;}#sk-container-id-3 div.sk-parallel-item::after {content: \"\";width: 100%;border-bottom: 1px solid gray;flex-grow: 1;}#sk-container-id-3 div.sk-label:hover label.sk-toggleable__label {background-color: #d4ebff;}#sk-container-id-3 div.sk-serial::before {content: \"\";position: absolute;border-left: 1px solid gray;box-sizing: border-box;top: 0;bottom: 0;left: 50%;z-index: 0;}#sk-container-id-3 div.sk-serial {display: flex;flex-direction: column;align-items: center;background-color: white;padding-right: 0.2em;padding-left: 0.2em;position: relative;}#sk-container-id-3 div.sk-item {position: relative;z-index: 1;}#sk-container-id-3 div.sk-parallel {display: flex;align-items: stretch;justify-content: center;background-color: white;position: relative;}#sk-container-id-3 div.sk-item::before, #sk-container-id-3 div.sk-parallel-item::before {content: \"\";position: absolute;border-left: 1px solid gray;box-sizing: border-box;top: 0;bottom: 0;left: 50%;z-index: -1;}#sk-container-id-3 div.sk-parallel-item {display: flex;flex-direction: column;z-index: 1;position: relative;background-color: white;}#sk-container-id-3 div.sk-parallel-item:first-child::after {align-self: flex-end;width: 50%;}#sk-container-id-3 div.sk-parallel-item:last-child::after {align-self: flex-start;width: 50%;}#sk-container-id-3 div.sk-parallel-item:only-child::after {width: 0;}#sk-container-id-3 div.sk-dashed-wrapped {border: 1px dashed gray;margin: 0 0.4em 0.5em 0.4em;box-sizing: border-box;padding-bottom: 0.4em;background-color: white;}#sk-container-id-3 div.sk-label label {font-family: monospace;font-weight: bold;display: inline-block;line-height: 1.2em;}#sk-container-id-3 div.sk-label-container {text-align: center;}#sk-container-id-3 div.sk-container {/* jupyter's `normalize.less` sets `[hidden] { display: none; }` but bootstrap.min.css set `[hidden] { display: none !important; }` so we also need the `!important` here to be able to override the default hidden behavior on the sphinx rendered scikit-learn.org. See: https://github.com/scikit-learn/scikit-learn/issues/21755 */display: inline-block !important;position: relative;}#sk-container-id-3 div.sk-text-repr-fallback {display: none;}</style><div id=\"sk-container-id-3\" class=\"sk-top-container\"><div class=\"sk-text-repr-fallback\"><pre>RandomForestRegressor(max_depth=10, min_samples_split=3, n_estimators=97,\n",
       "                      random_state=42)</pre><b>In a Jupyter environment, please rerun this cell to show the HTML representation or trust the notebook. <br />On GitHub, the HTML representation is unable to render, please try loading this page with nbviewer.org.</b></div><div class=\"sk-container\" hidden><div class=\"sk-item\"><div class=\"sk-estimator sk-toggleable\"><input class=\"sk-toggleable__control sk-hidden--visually\" id=\"sk-estimator-id-3\" type=\"checkbox\" checked><label for=\"sk-estimator-id-3\" class=\"sk-toggleable__label sk-toggleable__label-arrow\">RandomForestRegressor</label><div class=\"sk-toggleable__content\"><pre>RandomForestRegressor(max_depth=10, min_samples_split=3, n_estimators=97,\n",
       "                      random_state=42)</pre></div></div></div></div></div>"
      ],
      "text/plain": [
       "RandomForestRegressor(max_depth=10, min_samples_split=3, n_estimators=97,\n",
       "                      random_state=42)"
      ]
     },
     "execution_count": 48,
     "metadata": {},
     "output_type": "execute_result"
    }
   ],
   "source": [
    "rf_params = {\n",
    "    \"random_state\": 42,\n",
    "    #\"learning_rate\": 0.1,\n",
    "    \"n_estimators\": study.best_trial.params[\"n_estimators\"],\n",
    "    \"max_depth\": study.best_trial.params[\"max_depth\"],\n",
    "    \"min_samples_leaf\": study.best_trial.params[\"min_samples_leaf\"],\n",
    "    \"min_samples_split\": study.best_trial.params[\"min_samples_split\"],\n",
    "    #\"subsample\": study.best_trial.params[\"subsample\"]\n",
    "}\n",
    "\n",
    "rf = RandomForestRegressor(**rf_params)\n",
    "rf.fit(Ni_X_train, Ni_y_train)"
   ]
  },
  {
   "cell_type": "code",
   "execution_count": 49,
   "id": "4c1a69d2",
   "metadata": {},
   "outputs": [],
   "source": [
    "y_train_pred = rf.predict(Ni_X_train)\n",
    "y_test_pred = rf.predict(Ni_X_test)"
   ]
  },
  {
   "cell_type": "code",
   "execution_count": 50,
   "id": "0f707a20",
   "metadata": {},
   "outputs": [
    {
     "name": "stdout",
     "output_type": "stream",
     "text": [
      "Train RMSE:  0.351591433399287\n",
      "Test RMSE:  0.9640608969874245\n"
     ]
    }
   ],
   "source": [
    "print(\"Train RMSE: \", np.sqrt(mean_squared_error(Ni_y_train, y_train_pred)))\n",
    "print(\"Test RMSE: \", np.sqrt(mean_squared_error(Ni_y_test, y_test_pred)))"
   ]
  },
  {
   "cell_type": "code",
   "execution_count": 51,
   "id": "641d78f4",
   "metadata": {},
   "outputs": [
    {
     "name": "stdout",
     "output_type": "stream",
     "text": [
      "Train R2:  0.9151128556707947\n",
      "Test R2:  0.34252856412453625\n"
     ]
    }
   ],
   "source": [
    "print(\"Train R2: \", r2_score(Ni_y_train, y_train_pred))\n",
    "print(\"Test R2: \", r2_score(Ni_y_test, y_test_pred))"
   ]
  },
  {
   "cell_type": "code",
   "execution_count": 52,
   "id": "dd1670cb",
   "metadata": {},
   "outputs": [
    {
     "data": {
      "image/png": "[encoded data removed]",
      "text/plain": [
       "<Figure size 640x480 with 1 Axes>"
      ]
     },
     "metadata": {},
     "output_type": "display_data"
    }
   ],
   "source": [
    "plt.scatter(y_train_pred, np.array(Ni_y_train), color=\"orange\", alpha=0.3)\n",
    "plt.scatter(y_test_pred, np.array(Ni_y_test), color=\"green\", alpha=0.4)\n",
    "plt.axis(\"auto\") # scaled, tight, auto, image, square\n",
    "# plt.xlim([0, 1.5]) \n",
    "# plt.ylim(0, None) \n",
    "plt.xlabel('Predicted Values')\n",
    "plt.ylabel('Actual Values')\n",
    "\n",
    "# Add y=x line\n",
    "plt.plot([0, 4.0], [0, 4.0], color='red', linestyle='-')\n",
    "\n",
    "plt.show()"
   ]
  }
 ],
 "metadata": {
  "kernelspec": {
   "display_name": "base",
   "language": "python",
   "name": "python3"
  },
  "language_info": {
   "codemirror_mode": {
    "name": "ipython",
    "version": 3
   },
   "file_extension": ".py",
   "mimetype": "text/x-python",
   "name": "python",
   "nbconvert_exporter": "python",
   "pygments_lexer": "ipython3",
   "version": "3.8.11"
  },
  "vscode": {
   "interpreter": {
    "hash": "ba68d4d491ed2bf1e98a1b536323f5ca7371de2084cca3d5786e07ce079a51c3"
   }
  }
 },
 "nbformat": 4,
 "nbformat_minor": 5
}
