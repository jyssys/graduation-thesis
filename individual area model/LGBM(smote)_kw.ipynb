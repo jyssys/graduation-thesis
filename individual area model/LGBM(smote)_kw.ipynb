{
 "cells": [
  {
   "attachments": {},
   "cell_type": "markdown",
   "id": "451911be",
   "metadata": {},
   "source": [
    "#### Library import"
   ]
  },
  {
   "cell_type": "code",
   "execution_count": 1,
   "id": "8a394942",
   "metadata": {},
   "outputs": [],
   "source": [
    "import os\n",
    "import pandas as pd\n",
    "import numpy as np\n",
    "import matplotlib.pyplot as plt\n",
    "%matplotlib inline\n",
    "import seaborn as sns\n",
    "import tensorflow as tf\n",
    "import missingno as msno\n",
    "\n",
    "import warnings\n",
    "warnings.filterwarnings('ignore')\n",
    "\n",
    "from sklearn.model_selection import train_test_split\n",
    "from sklearn.model_selection import GridSearchCV\n",
    "from sklearn.metrics import mean_squared_error, r2_score\n",
    "from sklearn.preprocessing import StandardScaler, MinMaxScaler, RobustScaler\n",
    "from sklearn.ensemble import RandomForestRegressor, GradientBoostingRegressor, ExtraTreesRegressor\n",
    "from sklearn.model_selection import KFold\n",
    "from lightgbm import LGBMRegressor\n",
    "from xgboost import XGBRegressor\n",
    "from ngboost import NGBRegressor\n",
    "from scipy.stats import norm, skew\n",
    "\n",
    "from matplotlib.ticker import FormatStrFormatter\n",
    "\n",
    "import re\n",
    "from tqdm import tqdm"
   ]
  },
  {
   "attachments": {},
   "cell_type": "markdown",
   "id": "31a13d68",
   "metadata": {},
   "source": [
    "#### GPU setting"
   ]
  },
  {
   "cell_type": "code",
   "execution_count": 2,
   "id": "0ff69fbf",
   "metadata": {},
   "outputs": [],
   "source": [
    "from tensorflow.compat.v1 import ConfigProto\n",
    "from tensorflow.compat.v1 import InteractiveSession"
   ]
  },
  {
   "cell_type": "code",
   "execution_count": 3,
   "id": "1c359e17",
   "metadata": {},
   "outputs": [],
   "source": [
    "config = ConfigProto()\n",
    "config.gpu_options.per_process_gpu_memory_fraction = 0.4\n",
    "session = InteractiveSession(config = config)"
   ]
  },
  {
   "cell_type": "code",
   "execution_count": 4,
   "id": "c1894e3b",
   "metadata": {},
   "outputs": [
    {
     "name": "stdout",
     "output_type": "stream",
     "text": [
      "[name: \"/device:CPU:0\"\n",
      "device_type: \"CPU\"\n",
      "memory_limit: 268435456\n",
      "locality {\n",
      "}\n",
      "incarnation: 9584183812775327918\n",
      ", name: \"/device:GPU:0\"\n",
      "device_type: \"GPU\"\n",
      "memory_limit: 3435973836\n",
      "locality {\n",
      "  bus_id: 1\n",
      "  links {\n",
      "  }\n",
      "}\n",
      "incarnation: 11409156263897753416\n",
      "physical_device_desc: \"device: 0, name: NVIDIA GeForce RTX 3060 Ti, pci bus id: 0000:07:00.0, compute capability: 8.6\"\n",
      "]\n"
     ]
    }
   ],
   "source": [
    "physical_devices = tf.config.list_physical_devices('GPU')\n",
    "physical_devices\n",
    "\n",
    "from tensorflow.python.client import device_lib\n",
    "\n",
    "print(device_lib.list_local_devices())"
   ]
  },
  {
   "cell_type": "code",
   "execution_count": 5,
   "id": "324427e4",
   "metadata": {},
   "outputs": [],
   "source": [
    "import os\n",
    "\n",
    "os.environ[\"CUDA_VISIBLE_DEVICES\"]=\"0\"\n",
    "gpus = tf.config.experimental.list_physical_devices('GPU')\n",
    "if gpus:\n",
    "    try:\n",
    "        tf.config.experimental.set_memory_growth(gpus[0], True)\n",
    "    except RuntimeError as e:\n",
    "        print(e)"
   ]
  },
  {
   "attachments": {},
   "cell_type": "markdown",
   "id": "cb740f81",
   "metadata": {},
   "source": [
    "#### Data import and preprocessing"
   ]
  },
  {
   "cell_type": "code",
   "execution_count": 6,
   "id": "9288345d",
   "metadata": {
    "scrolled": true
   },
   "outputs": [
    {
     "data": {
      "text/plain": [
       "Index(['OBJECTID_x', 'ID', 'pH', 'As', 'Cd', 'Ni', 'Pb', 'Zn', 'Hg', 'slope',\n",
       "       'altitude', 'profile_curve', 'profile_c_num', 'profile_c_abs',\n",
       "       'planform_curve', 'planform_c_num', 'planform_c_abs', 'HYDGRP',\n",
       "       'HYDGRP_A', 'HYDGRP_B', 'HYDGRP_C', 'HYDGRP_D', 'ANION_EXCL', 'SOL_CRK',\n",
       "       'SOL_K1', 'CLAY1', 'SILT1', 'SAND1', 'ROCK1', 'SOL_EC1', 'distance'],\n",
       "      dtype='object')"
      ]
     },
     "execution_count": 6,
     "metadata": {},
     "output_type": "execute_result"
    }
   ],
   "source": [
    "data = pd.read_csv(\"data/data_kw.csv\")\n",
    "data.columns"
   ]
  },
  {
   "cell_type": "code",
   "execution_count": 7,
   "id": "bbf87a23",
   "metadata": {},
   "outputs": [
    {
     "data": {
      "text/plain": [
       "Index(['pH', 'As', 'Cd', 'Ni', 'Pb', 'Zn', 'Hg', 'slope', 'altitude',\n",
       "       'profile_curve', 'planform_curve', 'HYDGRP_A', 'HYDGRP_B', 'HYDGRP_C',\n",
       "       'HYDGRP_D', 'SOL_K1', 'CLAY1', 'SILT1', 'SAND1', 'ROCK1', 'distance'],\n",
       "      dtype='object')"
      ]
     },
     "execution_count": 7,
     "metadata": {},
     "output_type": "execute_result"
    }
   ],
   "source": [
    "data = data.drop(['OBJECTID_x','ID','HYDGRP','profile_c_num', 'profile_c_abs','planform_c_num', 'planform_c_abs','ANION_EXCL','SOL_CRK','SOL_EC1'], axis = 1)\n",
    "data.columns"
   ]
  },
  {
   "cell_type": "code",
   "execution_count": 8,
   "id": "8d9bad18",
   "metadata": {},
   "outputs": [],
   "source": [
    "As = data\n",
    "Cd = data\n",
    "Ni = data"
   ]
  },
  {
   "cell_type": "code",
   "execution_count": 9,
   "id": "b1dbe457",
   "metadata": {},
   "outputs": [],
   "source": [
    "As = As.drop([\"Cd\", \"Ni\", \"Pb\", \"Zn\", \"Hg\"], axis = 1)\n",
    "Cd = Cd.drop([\"As\", \"Ni\", \"Pb\", \"Zn\", \"Hg\"], axis = 1)\n",
    "Ni = Ni.drop([\"As\", \"Cd\", \"Pb\", \"Zn\", \"Hg\"], axis = 1)"
   ]
  },
  {
   "cell_type": "code",
   "execution_count": 10,
   "id": "3077737a",
   "metadata": {},
   "outputs": [
    {
     "name": "stdout",
     "output_type": "stream",
     "text": [
      "(677, 16)\n",
      "(677, 16)\n",
      "(677, 16)\n"
     ]
    }
   ],
   "source": [
    "print(As.shape)\n",
    "print(Cd.shape)\n",
    "print(Ni.shape)"
   ]
  },
  {
   "cell_type": "markdown",
   "id": "89adead2",
   "metadata": {},
   "source": [
    "#### Oversampling by SMOGN (SMOTE Regression)"
   ]
  },
  {
   "cell_type": "code",
   "execution_count": 11,
   "id": "d0a159ca",
   "metadata": {},
   "outputs": [],
   "source": [
    "import smogn"
   ]
  },
  {
   "cell_type": "code",
   "execution_count": 12,
   "id": "d5fd8af3",
   "metadata": {},
   "outputs": [
    {
     "name": "stderr",
     "output_type": "stream",
     "text": [
      "dist_matrix:   0%|          | 0/134 [00:00<?, ?it/s]"
     ]
    },
    {
     "name": "stderr",
     "output_type": "stream",
     "text": [
      "dist_matrix: 100%|##########| 134/134 [00:07<00:00, 18.23it/s]\n",
      "synth_matrix: 100%|##########| 134/134 [00:00<00:00, 197.45it/s]\n",
      "dist_matrix: 100%|##########| 159/159 [00:09<00:00, 16.54it/s]\n",
      "synth_matrix: 100%|##########| 159/159 [00:00<00:00, 334.66it/s]\n",
      "r_index: 100%|##########| 47/47 [00:00<00:00, 661.82it/s]\n",
      "dist_matrix: 100%|##########| 127/127 [00:06<00:00, 21.02it/s]\n",
      "synth_matrix: 100%|##########| 127/127 [00:00<00:00, 216.68it/s]\n",
      "r_index: 100%|##########| 38/38 [00:00<00:00, 655.03it/s]\n"
     ]
    }
   ],
   "source": [
    "As_smogn = smogn.smoter(data = As, y = 'As', samp_method = 'extreme')\n",
    "Cd_smogn = smogn.smoter(data = Cd, y = 'Cd', samp_method = 'extreme')\n",
    "Ni_smogn = smogn.smoter(data = Ni, y = 'Ni', samp_method = 'extreme')"
   ]
  },
  {
   "cell_type": "code",
   "execution_count": 13,
   "id": "ea3035fe",
   "metadata": {},
   "outputs": [
    {
     "name": "stdout",
     "output_type": "stream",
     "text": [
      "(971, 16)\n",
      "(887, 16)\n",
      "(986, 16)\n"
     ]
    }
   ],
   "source": [
    "print(As_smogn.shape)\n",
    "print(Cd_smogn.shape)\n",
    "print(Ni_smogn.shape)"
   ]
  },
  {
   "attachments": {},
   "cell_type": "markdown",
   "id": "ed72a9b1",
   "metadata": {},
   "source": [
    "#### Eliminate outlier and train / test split"
   ]
  },
  {
   "cell_type": "code",
   "execution_count": 14,
   "id": "43604a42",
   "metadata": {},
   "outputs": [],
   "source": [
    "def eli_outlier(data, value):\n",
    "    q1 = data[value].quantile(0.25)\n",
    "    q3 = data[value].quantile(0.75)\n",
    "\n",
    "    iqr = q3 - q1\n",
    "\n",
    "    q1_condition = data[value] < q1-1.5*iqr\n",
    "    q3_condition = data[value] > q3+1.5*iqr\n",
    "\n",
    "    reset_q1_index = data[q1_condition].index\n",
    "    reset_q3_index = data[q3_condition].index\n",
    "\n",
    "    data.drop(reset_q1_index, inplace = True)\n",
    "    data.drop(reset_q3_index, inplace = True)\n",
    "\n",
    "    return data"
   ]
  },
  {
   "cell_type": "code",
   "execution_count": 15,
   "id": "9b7632f2",
   "metadata": {},
   "outputs": [],
   "source": [
    "As_ros = eli_outlier(As_smogn, \"As\")\n",
    "Cd_ros = eli_outlier(Cd_smogn, \"Cd\")\n",
    "Ni_ros = eli_outlier(Ni_smogn, \"Ni\")"
   ]
  },
  {
   "cell_type": "code",
   "execution_count": 16,
   "id": "c05c01a2",
   "metadata": {},
   "outputs": [],
   "source": [
    "As_X = As_ros.drop([\"As\"], axis=1)\n",
    "Cd_X = Cd_ros.drop([\"Cd\"], axis=1)\n",
    "Ni_X = Ni_ros.drop([\"Ni\"], axis=1)\n",
    "\n",
    "As_y = As_ros[\"As\"]\n",
    "Cd_y = Cd_ros[\"Cd\"]\n",
    "Ni_y = Ni_ros[\"Ni\"]"
   ]
  },
  {
   "cell_type": "code",
   "execution_count": 17,
   "id": "7237a19a",
   "metadata": {},
   "outputs": [],
   "source": [
    "As_y = np.log1p(As_ros[\"As\"])\n",
    "Cd_y = np.log1p(Cd_ros[\"Cd\"])\n",
    "Ni_y = np.log1p(Ni_ros[\"Ni\"])"
   ]
  },
  {
   "cell_type": "code",
   "execution_count": 18,
   "id": "9b2b0920",
   "metadata": {},
   "outputs": [
    {
     "name": "stdout",
     "output_type": "stream",
     "text": [
      "(793, 15)\n",
      "(719, 15)\n",
      "(976, 15)\n"
     ]
    }
   ],
   "source": [
    "print(As_X.shape)\n",
    "print(Cd_X.shape)\n",
    "print(Ni_X.shape)"
   ]
  },
  {
   "attachments": {},
   "cell_type": "markdown",
   "id": "c92e5bb6",
   "metadata": {},
   "source": [
    "StandardScaler"
   ]
  },
  {
   "cell_type": "code",
   "execution_count": 19,
   "id": "79e14a72",
   "metadata": {},
   "outputs": [],
   "source": [
    "from sklearn.preprocessing import StandardScaler\n",
    "\n",
    "scaler = StandardScaler()\n",
    "\n",
    "As_X_train, As_X_test, As_y_train, As_y_test = train_test_split(As_X, As_y, test_size=0.2, random_state=42)\n",
    "Cd_X_train, Cd_X_test, Cd_y_train, Cd_y_test = train_test_split(Cd_X, Cd_y, test_size=0.2, random_state=42)\n",
    "Ni_X_train, Ni_X_test, Ni_y_train, Ni_y_test = train_test_split(Ni_X, Ni_y, test_size=0.2, random_state=42)\n",
    "\n",
    "As_X_train = scaler.fit_transform(As_X_train)\n",
    "As_X_test = scaler.fit_transform(As_X_test)\n",
    "\n",
    "Cd_X_train = scaler.fit_transform(Cd_X_train)\n",
    "Cd_X_test = scaler.fit_transform(Cd_X_test)\n",
    "\n",
    "Ni_X_train = scaler.fit_transform(Ni_X_train)\n",
    "Ni_X_test = scaler.fit_transform(Ni_X_test)"
   ]
  },
  {
   "cell_type": "code",
   "execution_count": 20,
   "id": "416a7027",
   "metadata": {},
   "outputs": [
    {
     "data": {
      "text/plain": [
       "' from sklearn.preprocessing import StandardScaler\\n\\nscaler = StandardScaler()\\nAs_X_scaled = scaler.fit_transform(As_X)\\nCd_X_scaled = scaler.fit_transform(Cd_X)\\nNi_X_scaled = scaler.fit_transform(Ni_X)\\n\\nAs_X_train, As_X_test, As_y_train, As_y_test = train_test_split(As_X_scaled, As_y, test_size=0.3, random_state=42)\\nCd_X_train, Cd_X_test, Cd_y_train, Cd_y_test = train_test_split(Cd_X_scaled, Cd_y, test_size=0.3, random_state=42)\\nNi_X_train, Ni_X_test, Ni_y_train, Ni_y_test = train_test_split(Ni_X_scaled, Ni_y, test_size=0.3, random_state=42) '"
      ]
     },
     "execution_count": 20,
     "metadata": {},
     "output_type": "execute_result"
    }
   ],
   "source": [
    "''' from sklearn.preprocessing import StandardScaler\n",
    "\n",
    "scaler = StandardScaler()\n",
    "As_X_scaled = scaler.fit_transform(As_X)\n",
    "Cd_X_scaled = scaler.fit_transform(Cd_X)\n",
    "Ni_X_scaled = scaler.fit_transform(Ni_X)\n",
    "\n",
    "As_X_train, As_X_test, As_y_train, As_y_test = train_test_split(As_X_scaled, As_y, test_size=0.3, random_state=42)\n",
    "Cd_X_train, Cd_X_test, Cd_y_train, Cd_y_test = train_test_split(Cd_X_scaled, Cd_y, test_size=0.3, random_state=42)\n",
    "Ni_X_train, Ni_X_test, Ni_y_train, Ni_y_test = train_test_split(Ni_X_scaled, Ni_y, test_size=0.3, random_state=42) '''"
   ]
  },
  {
   "attachments": {},
   "cell_type": "markdown",
   "id": "2fe0d293",
   "metadata": {},
   "source": [
    "MinMaxScaler"
   ]
  },
  {
   "cell_type": "code",
   "execution_count": 21,
   "id": "e8596f9f",
   "metadata": {},
   "outputs": [],
   "source": [
    "# from sklearn.preprocessing import MinMaxScaler\n",
    "\n",
    "# scaler = MinMaxScaler()\n",
    "# As_X_scaled = scaler.fit_transform(As_X)\n",
    "# Cd_X_scaled = scaler.fit_transform(Cd_X)\n",
    "# Ni_X_scaled = scaler.fit_transform(Ni_X)\n",
    "\n",
    "# As_X_train, As_X_test, As_y_train, As_y_test = train_test_split(As_X_scaled, As_y, test_size=0.2, random_state=42)\n",
    "# Cd_X_train, Cd_X_test, Cd_y_train, Cd_y_test = train_test_split(Cd_X_scaled, Cd_y, test_size=0.2, random_state=42)\n",
    "# Ni_X_train, Ni_X_test, Ni_y_train, Ni_y_test = train_test_split(Ni_X_scaled, Ni_y, test_size=0.2, random_state=42)"
   ]
  },
  {
   "cell_type": "code",
   "execution_count": 22,
   "id": "c6cad4b1",
   "metadata": {},
   "outputs": [
    {
     "name": "stdout",
     "output_type": "stream",
     "text": [
      "(634, 15)\n",
      "(575, 15)\n",
      "(780, 15)\n"
     ]
    }
   ],
   "source": [
    "print(As_X_train.shape)\n",
    "print(Cd_X_train.shape)\n",
    "print(Ni_X_train.shape)"
   ]
  },
  {
   "attachments": {},
   "cell_type": "markdown",
   "id": "bd11b27e",
   "metadata": {},
   "source": [
    "#### 10-Fold Crossvalidation"
   ]
  },
  {
   "cell_type": "code",
   "execution_count": 23,
   "id": "7a765916",
   "metadata": {},
   "outputs": [],
   "source": [
    "kf = KFold(n_splits = 5, random_state = 42, shuffle = True)"
   ]
  },
  {
   "attachments": {},
   "cell_type": "markdown",
   "id": "859638d0",
   "metadata": {},
   "source": [
    "#### Optuna Optimization"
   ]
  },
  {
   "cell_type": "code",
   "execution_count": 24,
   "id": "92a47d83",
   "metadata": {},
   "outputs": [],
   "source": [
    "import optuna\n",
    "\n",
    "from optuna import Trial\n",
    "from optuna.samplers import TPESampler"
   ]
  },
  {
   "cell_type": "code",
   "execution_count": 25,
   "id": "a7669fea",
   "metadata": {},
   "outputs": [],
   "source": [
    "from sklearn.model_selection import cross_val_score\n",
    "\n",
    "def objectiveLGBM(trial: Trial, X_train, y_train) -> float:\n",
    "    lgbm_paramas = {\n",
    "        \"random_state\": 42,\n",
    "        \"learning_rate\": 0.1, \n",
    "        \"n_estimators\": trial.suggest_int(\"n_estimators\", 500, 1000),\n",
    "        \"max_depth\": trial.suggest_int(\"max_depth\", 1, 30),\n",
    "        \"num_leaves\": trial.suggest_int(\"num_leaves\", 2, 32),\n",
    "        \"min_child_samples\": trial.suggest_int(\"min_child_samples\", 1, 10),\n",
    "        \"num_iterations\": trial.suggest_int(\"num_iterations\", 500, 1000)\n",
    "    }\n",
    "    \n",
    "    lgbm = LGBMRegressor(**lgbm_paramas)\n",
    "    r2 = cross_val_score(lgbm, X_train, y_train, scoring = \"r2\", cv = kf)\n",
    "    r2 = r2.mean()\n",
    "    \n",
    "    return r2"
   ]
  },
  {
   "attachments": {},
   "cell_type": "markdown",
   "id": "b0988f46",
   "metadata": {},
   "source": [
    "####  Optimization"
   ]
  },
  {
   "cell_type": "code",
   "execution_count": 26,
   "id": "94f5e00d",
   "metadata": {
    "scrolled": false
   },
   "outputs": [
    {
     "name": "stderr",
     "output_type": "stream",
     "text": [
      "\u001b[32m[I 2023-08-24 14:03:20,342]\u001b[0m A new study created in memory with name: lgbm_parameter_opt\u001b[0m\n",
      "\u001b[32m[I 2023-08-24 14:03:22,358]\u001b[0m Trial 0 finished with value: 0.5849266602779901 and parameters: {'n_estimators': 978, 'max_depth': 18, 'num_leaves': 19, 'min_child_samples': 4, 'num_iterations': 858}. Best is trial 0 with value: 0.5849266602779901.\u001b[0m\n",
      "\u001b[32m[I 2023-08-24 14:03:24,414]\u001b[0m Trial 1 finished with value: 0.5782702924566209 and parameters: {'n_estimators': 503, 'max_depth': 19, 'num_leaves': 25, 'min_child_samples': 5, 'num_iterations': 694}. Best is trial 0 with value: 0.5849266602779901.\u001b[0m\n",
      "\u001b[32m[I 2023-08-24 14:03:25,716]\u001b[0m Trial 2 finished with value: 0.5982296037069669 and parameters: {'n_estimators': 967, 'max_depth': 27, 'num_leaves': 12, 'min_child_samples': 6, 'num_iterations': 842}. Best is trial 2 with value: 0.5982296037069669.\u001b[0m\n",
      "\u001b[32m[I 2023-08-24 14:03:26,567]\u001b[0m Trial 3 finished with value: 0.5943771376403363 and parameters: {'n_estimators': 848, 'max_depth': 6, 'num_leaves': 10, 'min_child_samples': 6, 'num_iterations': 700}. Best is trial 2 with value: 0.5982296037069669.\u001b[0m\n",
      "\u001b[32m[I 2023-08-24 14:03:27,472]\u001b[0m Trial 4 finished with value: 0.6048226725414494 and parameters: {'n_estimators': 821, 'max_depth': 16, 'num_leaves': 16, 'min_child_samples': 9, 'num_iterations': 561}. Best is trial 4 with value: 0.6048226725414494.\u001b[0m\n",
      "\u001b[32m[I 2023-08-24 14:03:28,427]\u001b[0m Trial 5 finished with value: 0.6105151420494137 and parameters: {'n_estimators': 640, 'max_depth': 20, 'num_leaves': 11, 'min_child_samples': 8, 'num_iterations': 775}. Best is trial 5 with value: 0.6105151420494137.\u001b[0m\n",
      "\u001b[32m[I 2023-08-24 14:03:30,309]\u001b[0m Trial 6 finished with value: 0.5961819200894827 and parameters: {'n_estimators': 723, 'max_depth': 29, 'num_leaves': 19, 'min_child_samples': 2, 'num_iterations': 713}. Best is trial 5 with value: 0.6105151420494137.\u001b[0m\n",
      "\u001b[32m[I 2023-08-24 14:03:31,976]\u001b[0m Trial 7 finished with value: 0.6020749188241095 and parameters: {'n_estimators': 901, 'max_depth': 17, 'num_leaves': 17, 'min_child_samples': 1, 'num_iterations': 716}. Best is trial 5 with value: 0.6105151420494137.\u001b[0m\n",
      "\u001b[32m[I 2023-08-24 14:03:33,909]\u001b[0m Trial 8 finished with value: 0.5783861111806674 and parameters: {'n_estimators': 935, 'max_depth': 12, 'num_leaves': 32, 'min_child_samples': 10, 'num_iterations': 758}. Best is trial 5 with value: 0.6105151420494137.\u001b[0m\n",
      "\u001b[32m[I 2023-08-24 14:03:34,985]\u001b[0m Trial 9 finished with value: 0.5904558138821224 and parameters: {'n_estimators': 608, 'max_depth': 5, 'num_leaves': 23, 'min_child_samples': 10, 'num_iterations': 881}. Best is trial 5 with value: 0.6105151420494137.\u001b[0m\n",
      "\u001b[32m[I 2023-08-24 14:03:35,350]\u001b[0m Trial 10 finished with value: 0.5236944687327705 and parameters: {'n_estimators': 679, 'max_depth': 23, 'num_leaves': 2, 'min_child_samples': 8, 'num_iterations': 1000}. Best is trial 5 with value: 0.6105151420494137.\u001b[0m\n",
      "\u001b[32m[I 2023-08-24 14:03:35,934]\u001b[0m Trial 11 finished with value: 0.6061482230518422 and parameters: {'n_estimators': 813, 'max_depth': 12, 'num_leaves': 9, 'min_child_samples': 8, 'num_iterations': 559}. Best is trial 5 with value: 0.6105151420494137.\u001b[0m\n",
      "\u001b[32m[I 2023-08-24 14:03:36,270]\u001b[0m Trial 12 finished with value: 0.601175979130824 and parameters: {'n_estimators': 630, 'max_depth': 10, 'num_leaves': 5, 'min_child_samples': 8, 'num_iterations': 509}. Best is trial 5 with value: 0.6105151420494137.\u001b[0m\n",
      "\u001b[32m[I 2023-08-24 14:03:36,819]\u001b[0m Trial 13 finished with value: 0.6040416527111174 and parameters: {'n_estimators': 776, 'max_depth': 11, 'num_leaves': 8, 'min_child_samples': 7, 'num_iterations': 588}. Best is trial 5 with value: 0.6105151420494137.\u001b[0m\n",
      "\u001b[32m[I 2023-08-24 14:03:37,058]\u001b[0m Trial 14 finished with value: 0.5124818497126264 and parameters: {'n_estimators': 547, 'max_depth': 1, 'num_leaves': 14, 'min_child_samples': 8, 'num_iterations': 626}. Best is trial 5 with value: 0.6105151420494137.\u001b[0m\n",
      "\u001b[32m[I 2023-08-24 14:03:37,742]\u001b[0m Trial 15 finished with value: 0.5942287366176835 and parameters: {'n_estimators': 735, 'max_depth': 23, 'num_leaves': 7, 'min_child_samples': 4, 'num_iterations': 797}. Best is trial 5 with value: 0.6105151420494137.\u001b[0m\n",
      "\u001b[32m[I 2023-08-24 14:03:38,026]\u001b[0m Trial 16 finished with value: 0.5145384774955917 and parameters: {'n_estimators': 676, 'max_depth': 22, 'num_leaves': 2, 'min_child_samples': 7, 'num_iterations': 645}. Best is trial 5 with value: 0.6105151420494137.\u001b[0m\n",
      "\u001b[32m[I 2023-08-24 14:03:39,384]\u001b[0m Trial 17 finished with value: 0.5925843330741163 and parameters: {'n_estimators': 797, 'max_depth': 12, 'num_leaves': 12, 'min_child_samples': 9, 'num_iterations': 922}. Best is trial 5 with value: 0.6105151420494137.\u001b[0m\n",
      "\u001b[32m[I 2023-08-24 14:03:40,029]\u001b[0m Trial 18 finished with value: 0.6074267980060634 and parameters: {'n_estimators': 871, 'max_depth': 7, 'num_leaves': 6, 'min_child_samples': 7, 'num_iterations': 794}. Best is trial 5 with value: 0.6105151420494137.\u001b[0m\n",
      "\u001b[32m[I 2023-08-24 14:03:40,595]\u001b[0m Trial 19 finished with value: 0.603521542074424 and parameters: {'n_estimators': 912, 'max_depth': 6, 'num_leaves': 5, 'min_child_samples': 5, 'num_iterations': 795}. Best is trial 5 with value: 0.6105151420494137.\u001b[0m\n",
      "\u001b[32m[I 2023-08-24 14:03:41,360]\u001b[0m Trial 20 finished with value: 0.6068102425692553 and parameters: {'n_estimators': 873, 'max_depth': 8, 'num_leaves': 6, 'min_child_samples': 7, 'num_iterations': 937}. Best is trial 5 with value: 0.6105151420494137.\u001b[0m\n",
      "\u001b[32m[I 2023-08-24 14:03:41,848]\u001b[0m Trial 21 finished with value: 0.5920922642349584 and parameters: {'n_estimators': 868, 'max_depth': 2, 'num_leaves': 5, 'min_child_samples': 7, 'num_iterations': 965}. Best is trial 5 with value: 0.6105151420494137.\u001b[0m\n",
      "\u001b[32m[I 2023-08-24 14:03:43,175]\u001b[0m Trial 22 finished with value: 0.6045068231261342 and parameters: {'n_estimators': 602, 'max_depth': 8, 'num_leaves': 11, 'min_child_samples': 6, 'num_iterations': 908}. Best is trial 5 with value: 0.6105151420494137.\u001b[0m\n",
      "\u001b[32m[I 2023-08-24 14:03:43,863]\u001b[0m Trial 23 finished with value: 0.6017974910970484 and parameters: {'n_estimators': 870, 'max_depth': 14, 'num_leaves': 7, 'min_child_samples': 9, 'num_iterations': 799}. Best is trial 5 with value: 0.6105151420494137.\u001b[0m\n",
      "\u001b[32m[I 2023-08-24 14:03:44,315]\u001b[0m Trial 24 finished with value: 0.6004518428650745 and parameters: {'n_estimators': 689, 'max_depth': 4, 'num_leaves': 4, 'min_child_samples': 7, 'num_iterations': 828}. Best is trial 5 with value: 0.6105151420494137.\u001b[0m\n",
      "\u001b[32m[I 2023-08-24 14:03:45,417]\u001b[0m Trial 25 finished with value: 0.6044588112447695 and parameters: {'n_estimators': 753, 'max_depth': 8, 'num_leaves': 13, 'min_child_samples': 4, 'num_iterations': 755}. Best is trial 5 with value: 0.6105151420494137.\u001b[0m\n",
      "\u001b[32m[I 2023-08-24 14:03:46,209]\u001b[0m Trial 26 finished with value: 0.5996357773527506 and parameters: {'n_estimators': 1000, 'max_depth': 20, 'num_leaves': 7, 'min_child_samples': 9, 'num_iterations': 946}. Best is trial 5 with value: 0.6105151420494137.\u001b[0m\n",
      "\u001b[32m[I 2023-08-24 14:03:47,105]\u001b[0m Trial 27 finished with value: 0.5968615114789535 and parameters: {'n_estimators': 935, 'max_depth': 26, 'num_leaves': 9, 'min_child_samples': 7, 'num_iterations': 903}. Best is trial 5 with value: 0.6105151420494137.\u001b[0m\n",
      "\u001b[32m[I 2023-08-24 14:03:48,183]\u001b[0m Trial 28 finished with value: 0.5897345882246496 and parameters: {'n_estimators': 855, 'max_depth': 14, 'num_leaves': 15, 'min_child_samples': 5, 'num_iterations': 657}. Best is trial 5 with value: 0.6105151420494137.\u001b[0m\n",
      "\u001b[32m[I 2023-08-24 14:03:48,587]\u001b[0m Trial 29 finished with value: 0.5985557891288765 and parameters: {'n_estimators': 545, 'max_depth': 9, 'num_leaves': 3, 'min_child_samples': 6, 'num_iterations': 867}. Best is trial 5 with value: 0.6105151420494137.\u001b[0m\n",
      "\u001b[32m[I 2023-08-24 14:03:49,173]\u001b[0m Trial 30 finished with value: 0.598408749719872 and parameters: {'n_estimators': 643, 'max_depth': 3, 'num_leaves': 23, 'min_child_samples': 8, 'num_iterations': 832}. Best is trial 5 with value: 0.6105151420494137.\u001b[0m\n",
      "\u001b[32m[I 2023-08-24 14:03:49,689]\u001b[0m Trial 31 finished with value: 0.6082674589128301 and parameters: {'n_estimators': 821, 'max_depth': 13, 'num_leaves': 9, 'min_child_samples': 8, 'num_iterations': 504}. Best is trial 5 with value: 0.6105151420494137.\u001b[0m\n",
      "\u001b[32m[I 2023-08-24 14:03:50,487]\u001b[0m Trial 32 finished with value: 0.5989213988792946 and parameters: {'n_estimators': 832, 'max_depth': 14, 'num_leaves': 10, 'min_child_samples': 7, 'num_iterations': 740}. Best is trial 5 with value: 0.6105151420494137.\u001b[0m\n",
      "\u001b[32m[I 2023-08-24 14:03:51,133]\u001b[0m Trial 33 finished with value: 0.6030835354249728 and parameters: {'n_estimators': 876, 'max_depth': 20, 'num_leaves': 6, 'min_child_samples': 8, 'num_iterations': 778}. Best is trial 5 with value: 0.6105151420494137.\u001b[0m\n",
      "\u001b[32m[I 2023-08-24 14:03:52,000]\u001b[0m Trial 34 finished with value: 0.5975299831202163 and parameters: {'n_estimators': 787, 'max_depth': 7, 'num_leaves': 11, 'min_child_samples': 6, 'num_iterations': 665}. Best is trial 5 with value: 0.6105151420494137.\u001b[0m\n",
      "\u001b[32m[I 2023-08-24 14:03:52,613]\u001b[0m Trial 35 finished with value: 0.6145250952379463 and parameters: {'n_estimators': 956, 'max_depth': 18, 'num_leaves': 9, 'min_child_samples': 9, 'num_iterations': 504}. Best is trial 35 with value: 0.6145250952379463.\u001b[0m\n",
      "\u001b[32m[I 2023-08-24 14:03:53,567]\u001b[0m Trial 36 finished with value: 0.5919884407599683 and parameters: {'n_estimators': 960, 'max_depth': 19, 'num_leaves': 18, 'min_child_samples': 10, 'num_iterations': 504}. Best is trial 35 with value: 0.6145250952379463.\u001b[0m\n",
      "\u001b[32m[I 2023-08-24 14:03:54,450]\u001b[0m Trial 37 finished with value: 0.605280706668698 and parameters: {'n_estimators': 902, 'max_depth': 17, 'num_leaves': 15, 'min_child_samples': 9, 'num_iterations': 538}. Best is trial 35 with value: 0.6145250952379463.\u001b[0m\n",
      "\u001b[32m[I 2023-08-24 14:03:55,298]\u001b[0m Trial 38 finished with value: 0.610821444268949 and parameters: {'n_estimators': 957, 'max_depth': 25, 'num_leaves': 13, 'min_child_samples': 9, 'num_iterations': 609}. Best is trial 35 with value: 0.6145250952379463.\u001b[0m\n",
      "\u001b[32m[I 2023-08-24 14:03:56,134]\u001b[0m Trial 39 finished with value: 0.6001521656097585 and parameters: {'n_estimators': 984, 'max_depth': 26, 'num_leaves': 13, 'min_child_samples': 10, 'num_iterations': 602}. Best is trial 35 with value: 0.6145250952379463.\u001b[0m\n",
      "\u001b[32m[I 2023-08-24 14:03:57,345]\u001b[0m Trial 40 finished with value: 0.5868304088460496 and parameters: {'n_estimators': 955, 'max_depth': 30, 'num_leaves': 20, 'min_child_samples': 9, 'num_iterations': 536}. Best is trial 35 with value: 0.6145250952379463.\u001b[0m\n",
      "\u001b[32m[I 2023-08-24 14:03:58,179]\u001b[0m Trial 41 finished with value: 0.6039080706850719 and parameters: {'n_estimators': 920, 'max_depth': 22, 'num_leaves': 9, 'min_child_samples': 8, 'num_iterations': 681}. Best is trial 35 with value: 0.6145250952379463.\u001b[0m\n",
      "\u001b[32m[I 2023-08-24 14:03:58,879]\u001b[0m Trial 42 finished with value: 0.6045916849605614 and parameters: {'n_estimators': 836, 'max_depth': 16, 'num_leaves': 11, 'min_child_samples': 9, 'num_iterations': 576}. Best is trial 35 with value: 0.6145250952379463.\u001b[0m\n"
     ]
    },
    {
     "name": "stdout",
     "output_type": "stream",
     "text": [
      "[LightGBM] [Warning] Accuracy may be bad since you didn't explicitly set num_leaves OR 2^max_depth > num_leaves. (num_leaves=31).\n",
      "[LightGBM] [Warning] Accuracy may be bad since you didn't explicitly set num_leaves OR 2^max_depth > num_leaves. (num_leaves=31).\n",
      "[LightGBM] [Warning] Accuracy may be bad since you didn't explicitly set num_leaves OR 2^max_depth > num_leaves. (num_leaves=31).\n",
      "[LightGBM] [Warning] Accuracy may be bad since you didn't explicitly set num_leaves OR 2^max_depth > num_leaves. (num_leaves=31).\n",
      "[LightGBM] [Warning] Accuracy may be bad since you didn't explicitly set num_leaves OR 2^max_depth > num_leaves. (num_leaves=31).\n"
     ]
    },
    {
     "name": "stderr",
     "output_type": "stream",
     "text": [
      "\u001b[32m[I 2023-08-24 14:04:00,858]\u001b[0m Trial 43 finished with value: 0.5748866959061555 and parameters: {'n_estimators': 943, 'max_depth': 24, 'num_leaves': 31, 'min_child_samples': 10, 'num_iterations': 525}. Best is trial 35 with value: 0.6145250952379463.\u001b[0m\n",
      "\u001b[32m[I 2023-08-24 14:04:02,102]\u001b[0m Trial 44 finished with value: 0.583156796952783 and parameters: {'n_estimators': 891, 'max_depth': 20, 'num_leaves': 16, 'min_child_samples': 2, 'num_iterations': 608}. Best is trial 35 with value: 0.6145250952379463.\u001b[0m\n",
      "\u001b[32m[I 2023-08-24 14:04:02,667]\u001b[0m Trial 45 finished with value: 0.6062069993295708 and parameters: {'n_estimators': 976, 'max_depth': 18, 'num_leaves': 9, 'min_child_samples': 8, 'num_iterations': 557}. Best is trial 35 with value: 0.6145250952379463.\u001b[0m\n",
      "\u001b[32m[I 2023-08-24 14:04:03,665]\u001b[0m Trial 46 finished with value: 0.6095696159884533 and parameters: {'n_estimators': 809, 'max_depth': 28, 'num_leaves': 13, 'min_child_samples': 9, 'num_iterations': 726}. Best is trial 35 with value: 0.6145250952379463.\u001b[0m\n",
      "\u001b[32m[I 2023-08-24 14:04:04,594]\u001b[0m Trial 47 finished with value: 0.609767788677386 and parameters: {'n_estimators': 759, 'max_depth': 28, 'num_leaves': 13, 'min_child_samples': 9, 'num_iterations': 697}. Best is trial 35 with value: 0.6145250952379463.\u001b[0m\n",
      "\u001b[32m[I 2023-08-24 14:04:05,561]\u001b[0m Trial 48 finished with value: 0.5991416579769561 and parameters: {'n_estimators': 704, 'max_depth': 28, 'num_leaves': 13, 'min_child_samples': 10, 'num_iterations': 720}. Best is trial 35 with value: 0.6145250952379463.\u001b[0m\n",
      "\u001b[32m[I 2023-08-24 14:04:07,053]\u001b[0m Trial 49 finished with value: 0.5854610598406544 and parameters: {'n_estimators': 760, 'max_depth': 27, 'num_leaves': 20, 'min_child_samples': 9, 'num_iterations': 696}. Best is trial 35 with value: 0.6145250952379463.\u001b[0m\n",
      "\u001b[32m[I 2023-08-24 14:04:08,297]\u001b[0m Trial 50 finished with value: 0.5969907906893749 and parameters: {'n_estimators': 723, 'max_depth': 30, 'num_leaves': 17, 'min_child_samples': 10, 'num_iterations': 618}. Best is trial 35 with value: 0.6145250952379463.\u001b[0m\n",
      "\u001b[32m[I 2023-08-24 14:04:09,466]\u001b[0m Trial 51 finished with value: 0.6008429852157382 and parameters: {'n_estimators': 796, 'max_depth': 24, 'num_leaves': 14, 'min_child_samples': 9, 'num_iterations': 731}. Best is trial 35 with value: 0.6145250952379463.\u001b[0m\n",
      "\u001b[32m[I 2023-08-24 14:04:10,330]\u001b[0m Trial 52 finished with value: 0.5942019844096416 and parameters: {'n_estimators': 774, 'max_depth': 28, 'num_leaves': 12, 'min_child_samples': 8, 'num_iterations': 631}. Best is trial 35 with value: 0.6145250952379463.\u001b[0m\n",
      "\u001b[32m[I 2023-08-24 14:04:11,011]\u001b[0m Trial 53 finished with value: 0.6148340278681366 and parameters: {'n_estimators': 656, 'max_depth': 25, 'num_leaves': 10, 'min_child_samples': 9, 'num_iterations': 583}. Best is trial 53 with value: 0.6148340278681366.\u001b[0m\n",
      "\u001b[32m[I 2023-08-24 14:04:11,931]\u001b[0m Trial 54 finished with value: 0.5968671394867799 and parameters: {'n_estimators': 656, 'max_depth': 25, 'num_leaves': 12, 'min_child_samples': 9, 'num_iterations': 592}. Best is trial 53 with value: 0.6148340278681366.\u001b[0m\n",
      "\u001b[32m[I 2023-08-24 14:04:13,022]\u001b[0m Trial 55 finished with value: 0.5976011432848775 and parameters: {'n_estimators': 611, 'max_depth': 22, 'num_leaves': 14, 'min_child_samples': 10, 'num_iterations': 678}. Best is trial 53 with value: 0.6148340278681366.\u001b[0m\n",
      "\u001b[32m[I 2023-08-24 14:04:13,965]\u001b[0m Trial 56 finished with value: 0.6009531662226246 and parameters: {'n_estimators': 555, 'max_depth': 28, 'num_leaves': 11, 'min_child_samples': 9, 'num_iterations': 770}. Best is trial 53 with value: 0.6148340278681366.\u001b[0m\n",
      "\u001b[32m[I 2023-08-24 14:04:15,188]\u001b[0m Trial 57 finished with value: 0.599295723750856 and parameters: {'n_estimators': 586, 'max_depth': 26, 'num_leaves': 10, 'min_child_samples': 10, 'num_iterations': 710}. Best is trial 53 with value: 0.6148340278681366.\u001b[0m\n",
      "\u001b[32m[I 2023-08-24 14:04:16,656]\u001b[0m Trial 58 finished with value: 0.5947471647247491 and parameters: {'n_estimators': 501, 'max_depth': 29, 'num_leaves': 16, 'min_child_samples': 3, 'num_iterations': 642}. Best is trial 53 with value: 0.6148340278681366.\u001b[0m\n",
      "\u001b[32m[I 2023-08-24 14:04:17,629]\u001b[0m Trial 59 finished with value: 0.6024414305130991 and parameters: {'n_estimators': 669, 'max_depth': 24, 'num_leaves': 15, 'min_child_samples': 8, 'num_iterations': 575}. Best is trial 53 with value: 0.6148340278681366.\u001b[0m\n",
      "\u001b[32m[I 2023-08-24 14:04:18,588]\u001b[0m Trial 60 finished with value: 0.6057063683812476 and parameters: {'n_estimators': 711, 'max_depth': 22, 'num_leaves': 8, 'min_child_samples': 9, 'num_iterations': 818}. Best is trial 53 with value: 0.6148340278681366.\u001b[0m\n",
      "\u001b[32m[I 2023-08-24 14:04:19,381]\u001b[0m Trial 61 finished with value: 0.6165356906919137 and parameters: {'n_estimators': 745, 'max_depth': 15, 'num_leaves': 10, 'min_child_samples': 8, 'num_iterations': 551}. Best is trial 61 with value: 0.6165356906919137.\u001b[0m\n",
      "\u001b[32m[I 2023-08-24 14:04:19,953]\u001b[0m Trial 62 finished with value: 0.6117924219004502 and parameters: {'n_estimators': 738, 'max_depth': 15, 'num_leaves': 8, 'min_child_samples': 9, 'num_iterations': 550}. Best is trial 61 with value: 0.6165356906919137.\u001b[0m\n",
      "\u001b[32m[I 2023-08-24 14:04:20,459]\u001b[0m Trial 63 finished with value: 0.6118392257445618 and parameters: {'n_estimators': 737, 'max_depth': 15, 'num_leaves': 8, 'min_child_samples': 9, 'num_iterations': 554}. Best is trial 61 with value: 0.6165356906919137.\u001b[0m\n",
      "\u001b[32m[I 2023-08-24 14:04:20,988]\u001b[0m Trial 64 finished with value: 0.6007238653800621 and parameters: {'n_estimators': 741, 'max_depth': 15, 'num_leaves': 8, 'min_child_samples': 8, 'num_iterations': 551}. Best is trial 61 with value: 0.6165356906919137.\u001b[0m\n",
      "\u001b[32m[I 2023-08-24 14:04:21,417]\u001b[0m Trial 65 finished with value: 0.6053788977319151 and parameters: {'n_estimators': 727, 'max_depth': 17, 'num_leaves': 7, 'min_child_samples': 10, 'num_iterations': 521}. Best is trial 61 with value: 0.6165356906919137.\u001b[0m\n",
      "\u001b[32m[I 2023-08-24 14:04:22,065]\u001b[0m Trial 66 finished with value: 0.6164855422538038 and parameters: {'n_estimators': 690, 'max_depth': 15, 'num_leaves': 10, 'min_child_samples': 8, 'num_iterations': 566}. Best is trial 61 with value: 0.6165356906919137.\u001b[0m\n",
      "\u001b[32m[I 2023-08-24 14:04:22,443]\u001b[0m Trial 67 finished with value: 0.6022502424761166 and parameters: {'n_estimators': 704, 'max_depth': 11, 'num_leaves': 4, 'min_child_samples': 8, 'num_iterations': 574}. Best is trial 61 with value: 0.6165356906919137.\u001b[0m\n",
      "\u001b[32m[I 2023-08-24 14:04:23,096]\u001b[0m Trial 68 finished with value: 0.615565753039255 and parameters: {'n_estimators': 669, 'max_depth': 15, 'num_leaves': 10, 'min_child_samples': 9, 'num_iterations': 549}. Best is trial 61 with value: 0.6165356906919137.\u001b[0m\n",
      "\u001b[32m[I 2023-08-24 14:04:23,691]\u001b[0m Trial 69 finished with value: 0.6169584876105287 and parameters: {'n_estimators': 688, 'max_depth': 15, 'num_leaves': 10, 'min_child_samples': 8, 'num_iterations': 544}. Best is trial 69 with value: 0.6169584876105287.\u001b[0m\n",
      "\u001b[32m[I 2023-08-24 14:04:24,283]\u001b[0m Trial 70 finished with value: 0.6041234140502489 and parameters: {'n_estimators': 689, 'max_depth': 13, 'num_leaves': 10, 'min_child_samples': 7, 'num_iterations': 522}. Best is trial 69 with value: 0.6169584876105287.\u001b[0m\n",
      "\u001b[32m[I 2023-08-24 14:04:24,840]\u001b[0m Trial 71 finished with value: 0.6010679837844004 and parameters: {'n_estimators': 656, 'max_depth': 15, 'num_leaves': 8, 'min_child_samples': 8, 'num_iterations': 545}. Best is trial 69 with value: 0.6169584876105287.\u001b[0m\n",
      "\u001b[32m[I 2023-08-24 14:04:25,316]\u001b[0m Trial 72 finished with value: 0.6132129868556142 and parameters: {'n_estimators': 630, 'max_depth': 16, 'num_leaves': 6, 'min_child_samples': 9, 'num_iterations': 562}. Best is trial 69 with value: 0.6169584876105287.\u001b[0m\n",
      "\u001b[32m[I 2023-08-24 14:04:25,712]\u001b[0m Trial 73 finished with value: 0.6065287853967245 and parameters: {'n_estimators': 623, 'max_depth': 16, 'num_leaves': 6, 'min_child_samples': 8, 'num_iterations': 566}. Best is trial 69 with value: 0.6169584876105287.\u001b[0m\n",
      "\u001b[32m[I 2023-08-24 14:04:26,091]\u001b[0m Trial 74 finished with value: 0.6088433371390393 and parameters: {'n_estimators': 642, 'max_depth': 18, 'num_leaves': 5, 'min_child_samples': 9, 'num_iterations': 588}. Best is trial 69 with value: 0.6169584876105287.\u001b[0m\n",
      "\u001b[32m[I 2023-08-24 14:04:26,688]\u001b[0m Trial 75 finished with value: 0.603911369928169 and parameters: {'n_estimators': 671, 'max_depth': 13, 'num_leaves': 10, 'min_child_samples': 7, 'num_iterations': 529}. Best is trial 69 with value: 0.6169584876105287.\u001b[0m\n",
      "\u001b[32m[I 2023-08-24 14:04:27,081]\u001b[0m Trial 76 finished with value: 0.6064877407939976 and parameters: {'n_estimators': 693, 'max_depth': 11, 'num_leaves': 6, 'min_child_samples': 8, 'num_iterations': 514}. Best is trial 69 with value: 0.6169584876105287.\u001b[0m\n",
      "\u001b[32m[I 2023-08-24 14:04:27,342]\u001b[0m Trial 77 finished with value: 0.5957465366982742 and parameters: {'n_estimators': 660, 'max_depth': 19, 'num_leaves': 3, 'min_child_samples': 9, 'num_iterations': 564}. Best is trial 69 with value: 0.6169584876105287.\u001b[0m\n",
      "\u001b[32m[I 2023-08-24 14:04:27,942]\u001b[0m Trial 78 finished with value: 0.6058685906967901 and parameters: {'n_estimators': 626, 'max_depth': 17, 'num_leaves': 9, 'min_child_samples': 8, 'num_iterations': 592}. Best is trial 69 with value: 0.6169584876105287.\u001b[0m\n",
      "\u001b[32m[I 2023-08-24 14:04:28,397]\u001b[0m Trial 79 finished with value: 0.6048304297498716 and parameters: {'n_estimators': 711, 'max_depth': 14, 'num_leaves': 7, 'min_child_samples': 10, 'num_iterations': 538}. Best is trial 69 with value: 0.6169584876105287.\u001b[0m\n",
      "\u001b[32m[I 2023-08-24 14:04:28,998]\u001b[0m Trial 80 finished with value: 0.6136486373184364 and parameters: {'n_estimators': 582, 'max_depth': 16, 'num_leaves': 11, 'min_child_samples': 8, 'num_iterations': 502}. Best is trial 69 with value: 0.6169584876105287.\u001b[0m\n",
      "\u001b[32m[I 2023-08-24 14:04:29,537]\u001b[0m Trial 81 finished with value: 0.6137696333831564 and parameters: {'n_estimators': 685, 'max_depth': 16, 'num_leaves': 11, 'min_child_samples': 8, 'num_iterations': 500}. Best is trial 69 with value: 0.6169584876105287.\u001b[0m\n",
      "\u001b[32m[I 2023-08-24 14:04:30,141]\u001b[0m Trial 82 finished with value: 0.6016056587436451 and parameters: {'n_estimators': 568, 'max_depth': 16, 'num_leaves': 12, 'min_child_samples': 7, 'num_iterations': 503}. Best is trial 69 with value: 0.6169584876105287.\u001b[0m\n",
      "\u001b[32m[I 2023-08-24 14:04:30,685]\u001b[0m Trial 83 finished with value: 0.6172886367061337 and parameters: {'n_estimators': 681, 'max_depth': 17, 'num_leaves': 10, 'min_child_samples': 8, 'num_iterations': 515}. Best is trial 83 with value: 0.6172886367061337.\u001b[0m\n",
      "\u001b[32m[I 2023-08-24 14:04:31,307]\u001b[0m Trial 84 finished with value: 0.6052612613367968 and parameters: {'n_estimators': 685, 'max_depth': 17, 'num_leaves': 11, 'min_child_samples': 7, 'num_iterations': 515}. Best is trial 83 with value: 0.6172886367061337.\u001b[0m\n",
      "\u001b[32m[I 2023-08-24 14:04:31,890]\u001b[0m Trial 85 finished with value: 0.6060587009487424 and parameters: {'n_estimators': 648, 'max_depth': 19, 'num_leaves': 10, 'min_child_samples': 6, 'num_iterations': 531}. Best is trial 83 with value: 0.6172886367061337.\u001b[0m\n",
      "\u001b[32m[I 2023-08-24 14:04:32,585]\u001b[0m Trial 86 finished with value: 0.6135723567311768 and parameters: {'n_estimators': 596, 'max_depth': 12, 'num_leaves': 11, 'min_child_samples': 8, 'num_iterations': 503}. Best is trial 83 with value: 0.6172886367061337.\u001b[0m\n",
      "\u001b[32m[I 2023-08-24 14:04:33,146]\u001b[0m Trial 87 finished with value: 0.6069807934499585 and parameters: {'n_estimators': 676, 'max_depth': 18, 'num_leaves': 9, 'min_child_samples': 8, 'num_iterations': 542}. Best is trial 83 with value: 0.6172886367061337.\u001b[0m\n",
      "\u001b[32m[I 2023-08-24 14:04:33,765]\u001b[0m Trial 88 finished with value: 0.6013635221962735 and parameters: {'n_estimators': 698, 'max_depth': 14, 'num_leaves': 12, 'min_child_samples': 7, 'num_iterations': 500}. Best is trial 83 with value: 0.6172886367061337.\u001b[0m\n",
      "\u001b[32m[I 2023-08-24 14:04:34,321]\u001b[0m Trial 89 finished with value: 0.6173206646497006 and parameters: {'n_estimators': 723, 'max_depth': 21, 'num_leaves': 10, 'min_child_samples': 8, 'num_iterations': 519}. Best is trial 89 with value: 0.6173206646497006.\u001b[0m\n",
      "\u001b[32m[I 2023-08-24 14:04:34,882]\u001b[0m Trial 90 finished with value: 0.6045303008061195 and parameters: {'n_estimators': 720, 'max_depth': 21, 'num_leaves': 10, 'min_child_samples': 7, 'num_iterations': 516}. Best is trial 89 with value: 0.6173206646497006.\u001b[0m\n",
      "\u001b[32m[I 2023-08-24 14:04:35,446]\u001b[0m Trial 91 finished with value: 0.617160368185375 and parameters: {'n_estimators': 771, 'max_depth': 18, 'num_leaves': 10, 'min_child_samples': 8, 'num_iterations': 527}. Best is trial 89 with value: 0.6173206646497006.\u001b[0m\n",
      "\u001b[32m[I 2023-08-24 14:04:35,963]\u001b[0m Trial 92 finished with value: 0.6072092777767832 and parameters: {'n_estimators': 749, 'max_depth': 18, 'num_leaves': 9, 'min_child_samples': 8, 'num_iterations': 529}. Best is trial 89 with value: 0.6173206646497006.\u001b[0m\n",
      "\u001b[32m[I 2023-08-24 14:04:37,589]\u001b[0m Trial 93 finished with value: 0.5831690945945363 and parameters: {'n_estimators': 681, 'max_depth': 21, 'num_leaves': 29, 'min_child_samples': 8, 'num_iterations': 580}. Best is trial 89 with value: 0.6173206646497006.\u001b[0m\n",
      "\u001b[32m[I 2023-08-24 14:04:38,265]\u001b[0m Trial 94 finished with value: 0.6033302716311517 and parameters: {'n_estimators': 778, 'max_depth': 17, 'num_leaves': 10, 'min_child_samples': 7, 'num_iterations': 543}. Best is trial 89 with value: 0.6173206646497006.\u001b[0m\n",
      "\u001b[32m[I 2023-08-24 14:04:39,040]\u001b[0m Trial 95 finished with value: 0.5988360239231953 and parameters: {'n_estimators': 661, 'max_depth': 19, 'num_leaves': 12, 'min_child_samples': 1, 'num_iterations': 518}. Best is trial 89 with value: 0.6173206646497006.\u001b[0m\n",
      "\u001b[32m[I 2023-08-24 14:04:39,600]\u001b[0m Trial 96 finished with value: 0.6025816545911657 and parameters: {'n_estimators': 720, 'max_depth': 13, 'num_leaves': 9, 'min_child_samples': 5, 'num_iterations': 533}. Best is trial 89 with value: 0.6173206646497006.\u001b[0m\n",
      "\u001b[32m[I 2023-08-24 14:04:40,257]\u001b[0m Trial 97 finished with value: 0.6130185523086013 and parameters: {'n_estimators': 698, 'max_depth': 21, 'num_leaves': 11, 'min_child_samples': 8, 'num_iterations': 556}. Best is trial 89 with value: 0.6173206646497006.\u001b[0m\n",
      "\u001b[32m[I 2023-08-24 14:04:40,701]\u001b[0m Trial 98 finished with value: 0.6053946141638271 and parameters: {'n_estimators': 768, 'max_depth': 15, 'num_leaves': 7, 'min_child_samples': 9, 'num_iterations': 571}. Best is trial 89 with value: 0.6173206646497006.\u001b[0m\n",
      "\u001b[32m[I 2023-08-24 14:04:41,505]\u001b[0m Trial 99 finished with value: 0.6053989819054308 and parameters: {'n_estimators': 711, 'max_depth': 17, 'num_leaves': 14, 'min_child_samples': 8, 'num_iterations': 512}. Best is trial 89 with value: 0.6173206646497006.\u001b[0m\n"
     ]
    },
    {
     "name": "stdout",
     "output_type": "stream",
     "text": [
      "Best r2:  0.6173206646497006\n",
      "Best trial: {'n_estimators': 723, 'max_depth': 21, 'num_leaves': 10, 'min_child_samples': 8, 'num_iterations': 519}\n"
     ]
    }
   ],
   "source": [
    "sampler = TPESampler()\n",
    "study = optuna.create_study(\n",
    "    study_name=\"lgbm_parameter_opt\",\n",
    "    direction=\"maximize\",\n",
    "    sampler=sampler,\n",
    ")\n",
    "\n",
    "study.optimize(lambda trial : objectiveLGBM(trial, As_X_train, As_y_train), n_trials=100)\n",
    "print(\"Best r2: \", study.best_value)\n",
    "print(\"Best trial:\", study.best_trial.params)"
   ]
  },
  {
   "cell_type": "code",
   "execution_count": 27,
   "id": "ded0e0f8",
   "metadata": {},
   "outputs": [
    {
     "data": {
      "application/vnd.plotly.v1+json": {
       "config": {
        "plotlyServerURL": "https://plot.ly"
       },
       "data": [
        {
         "dimensions": [
          {
           "label": "Objective Value",
           "range": [
            0.5124818497126264,
            0.6173206646497006
           ],
           "values": [
            0.5849266602779901,
            0.5782702924566209,
            0.5982296037069669,
            0.5943771376403363,
            0.6048226725414494,
            0.6105151420494137,
            0.5961819200894827,
            0.6020749188241095,
            0.5783861111806674,
            0.5904558138821224,
            0.5236944687327705,
            0.6061482230518422,
            0.601175979130824,
            0.6040416527111174,
            0.5124818497126264,
            0.5942287366176835,
            0.5145384774955917,
            0.5925843330741163,
            0.6074267980060634,
            0.603521542074424,
            0.6068102425692553,
            0.5920922642349584,
            0.6045068231261342,
            0.6017974910970484,
            0.6004518428650745,
            0.6044588112447695,
            0.5996357773527506,
            0.5968615114789535,
            0.5897345882246496,
            0.5985557891288765,
            0.598408749719872,
            0.6082674589128301,
            0.5989213988792946,
            0.6030835354249728,
            0.5975299831202163,
            0.6145250952379463,
            0.5919884407599683,
            0.605280706668698,
            0.610821444268949,
            0.6001521656097585,
            0.5868304088460496,
            0.6039080706850719,
            0.6045916849605614,
            0.5748866959061555,
            0.583156796952783,
            0.6062069993295708,
            0.6095696159884533,
            0.609767788677386,
            0.5991416579769561,
            0.5854610598406544,
            0.5969907906893749,
            0.6008429852157382,
            0.5942019844096416,
            0.6148340278681366,
            0.5968671394867799,
            0.5976011432848775,
            0.6009531662226246,
            0.599295723750856,
            0.5947471647247491,
            0.6024414305130991,
            0.6057063683812476,
            0.6165356906919137,
            0.6117924219004502,
            0.6118392257445618,
            0.6007238653800621,
            0.6053788977319151,
            0.6164855422538038,
            0.6022502424761166,
            0.615565753039255,
            0.6169584876105287,
            0.6041234140502489,
            0.6010679837844004,
            0.6132129868556142,
            0.6065287853967245,
            0.6088433371390393,
            0.603911369928169,
            0.6064877407939976,
            0.5957465366982742,
            0.6058685906967901,
            0.6048304297498716,
            0.6136486373184364,
            0.6137696333831564,
            0.6016056587436451,
            0.6172886367061337,
            0.6052612613367968,
            0.6060587009487424,
            0.6135723567311768,
            0.6069807934499585,
            0.6013635221962735,
            0.6173206646497006,
            0.6045303008061195,
            0.617160368185375,
            0.6072092777767832,
            0.5831690945945363,
            0.6033302716311517,
            0.5988360239231953,
            0.6025816545911657,
            0.6130185523086013,
            0.6053946141638271,
            0.6053989819054308
           ]
          },
          {
           "label": "max_depth",
           "range": [
            1,
            30
           ],
           "values": [
            18,
            19,
            27,
            6,
            16,
            20,
            29,
            17,
            12,
            5,
            23,
            12,
            10,
            11,
            1,
            23,
            22,
            12,
            7,
            6,
            8,
            2,
            8,
            14,
            4,
            8,
            20,
            26,
            14,
            9,
            3,
            13,
            14,
            20,
            7,
            18,
            19,
            17,
            25,
            26,
            30,
            22,
            16,
            24,
            20,
            18,
            28,
            28,
            28,
            27,
            30,
            24,
            28,
            25,
            25,
            22,
            28,
            26,
            29,
            24,
            22,
            15,
            15,
            15,
            15,
            17,
            15,
            11,
            15,
            15,
            13,
            15,
            16,
            16,
            18,
            13,
            11,
            19,
            17,
            14,
            16,
            16,
            16,
            17,
            17,
            19,
            12,
            18,
            14,
            21,
            21,
            18,
            18,
            21,
            17,
            19,
            13,
            21,
            15,
            17
           ]
          },
          {
           "label": "min_child_samples",
           "range": [
            1,
            10
           ],
           "values": [
            4,
            5,
            6,
            6,
            9,
            8,
            2,
            1,
            10,
            10,
            8,
            8,
            8,
            7,
            8,
            4,
            7,
            9,
            7,
            5,
            7,
            7,
            6,
            9,
            7,
            4,
            9,
            7,
            5,
            6,
            8,
            8,
            7,
            8,
            6,
            9,
            10,
            9,
            9,
            10,
            9,
            8,
            9,
            10,
            2,
            8,
            9,
            9,
            10,
            9,
            10,
            9,
            8,
            9,
            9,
            10,
            9,
            10,
            3,
            8,
            9,
            8,
            9,
            9,
            8,
            10,
            8,
            8,
            9,
            8,
            7,
            8,
            9,
            8,
            9,
            7,
            8,
            9,
            8,
            10,
            8,
            8,
            7,
            8,
            7,
            6,
            8,
            8,
            7,
            8,
            7,
            8,
            8,
            8,
            7,
            1,
            5,
            8,
            9,
            8
           ]
          },
          {
           "label": "n_estimators",
           "range": [
            501,
            1000
           ],
           "values": [
            978,
            503,
            967,
            848,
            821,
            640,
            723,
            901,
            935,
            608,
            679,
            813,
            630,
            776,
            547,
            735,
            676,
            797,
            871,
            912,
            873,
            868,
            602,
            870,
            689,
            753,
            1000,
            935,
            855,
            545,
            643,
            821,
            832,
            876,
            787,
            956,
            960,
            902,
            957,
            984,
            955,
            920,
            836,
            943,
            891,
            976,
            809,
            759,
            704,
            760,
            723,
            796,
            774,
            656,
            656,
            611,
            555,
            586,
            501,
            669,
            711,
            745,
            738,
            737,
            741,
            727,
            690,
            704,
            669,
            688,
            689,
            656,
            630,
            623,
            642,
            671,
            693,
            660,
            626,
            711,
            582,
            685,
            568,
            681,
            685,
            648,
            596,
            676,
            698,
            723,
            720,
            771,
            749,
            681,
            778,
            661,
            720,
            698,
            768,
            711
           ]
          },
          {
           "label": "num_iterations",
           "range": [
            500,
            1000
           ],
           "values": [
            858,
            694,
            842,
            700,
            561,
            775,
            713,
            716,
            758,
            881,
            1000,
            559,
            509,
            588,
            626,
            797,
            645,
            922,
            794,
            795,
            937,
            965,
            908,
            799,
            828,
            755,
            946,
            903,
            657,
            867,
            832,
            504,
            740,
            778,
            665,
            504,
            504,
            538,
            609,
            602,
            536,
            681,
            576,
            525,
            608,
            557,
            726,
            697,
            720,
            696,
            618,
            731,
            631,
            583,
            592,
            678,
            770,
            710,
            642,
            575,
            818,
            551,
            550,
            554,
            551,
            521,
            566,
            574,
            549,
            544,
            522,
            545,
            562,
            566,
            588,
            529,
            514,
            564,
            592,
            538,
            502,
            500,
            503,
            515,
            515,
            531,
            503,
            542,
            500,
            519,
            516,
            527,
            529,
            580,
            543,
            518,
            533,
            556,
            571,
            512
           ]
          },
          {
           "label": "num_leaves",
           "range": [
            2,
            32
           ],
           "values": [
            19,
            25,
            12,
            10,
            16,
            11,
            19,
            17,
            32,
            23,
            2,
            9,
            5,
            8,
            14,
            7,
            2,
            12,
            6,
            5,
            6,
            5,
            11,
            7,
            4,
            13,
            7,
            9,
            15,
            3,
            23,
            9,
            10,
            6,
            11,
            9,
            18,
            15,
            13,
            13,
            20,
            9,
            11,
            31,
            16,
            9,
            13,
            13,
            13,
            20,
            17,
            14,
            12,
            10,
            12,
            14,
            11,
            10,
            16,
            15,
            8,
            10,
            8,
            8,
            8,
            7,
            10,
            4,
            10,
            10,
            10,
            8,
            6,
            6,
            5,
            10,
            6,
            3,
            9,
            7,
            11,
            11,
            12,
            10,
            11,
            10,
            11,
            9,
            12,
            10,
            10,
            10,
            9,
            29,
            10,
            12,
            9,
            11,
            7,
            14
           ]
          }
         ],
         "labelangle": 30,
         "labelside": "bottom",
         "line": {
          "color": [
           0.5849266602779901,
           0.5782702924566209,
           0.5982296037069669,
           0.5943771376403363,
           0.6048226725414494,
           0.6105151420494137,
           0.5961819200894827,
           0.6020749188241095,
           0.5783861111806674,
           0.5904558138821224,
           0.5236944687327705,
           0.6061482230518422,
           0.601175979130824,
           0.6040416527111174,
           0.5124818497126264,
           0.5942287366176835,
           0.5145384774955917,
           0.5925843330741163,
           0.6074267980060634,
           0.603521542074424,
           0.6068102425692553,
           0.5920922642349584,
           0.6045068231261342,
           0.6017974910970484,
           0.6004518428650745,
           0.6044588112447695,
           0.5996357773527506,
           0.5968615114789535,
           0.5897345882246496,
           0.5985557891288765,
           0.598408749719872,
           0.6082674589128301,
           0.5989213988792946,
           0.6030835354249728,
           0.5975299831202163,
           0.6145250952379463,
           0.5919884407599683,
           0.605280706668698,
           0.610821444268949,
           0.6001521656097585,
           0.5868304088460496,
           0.6039080706850719,
           0.6045916849605614,
           0.5748866959061555,
           0.583156796952783,
           0.6062069993295708,
           0.6095696159884533,
           0.609767788677386,
           0.5991416579769561,
           0.5854610598406544,
           0.5969907906893749,
           0.6008429852157382,
           0.5942019844096416,
           0.6148340278681366,
           0.5968671394867799,
           0.5976011432848775,
           0.6009531662226246,
           0.599295723750856,
           0.5947471647247491,
           0.6024414305130991,
           0.6057063683812476,
           0.6165356906919137,
           0.6117924219004502,
           0.6118392257445618,
           0.6007238653800621,
           0.6053788977319151,
           0.6164855422538038,
           0.6022502424761166,
           0.615565753039255,
           0.6169584876105287,
           0.6041234140502489,
           0.6010679837844004,
           0.6132129868556142,
           0.6065287853967245,
           0.6088433371390393,
           0.603911369928169,
           0.6064877407939976,
           0.5957465366982742,
           0.6058685906967901,
           0.6048304297498716,
           0.6136486373184364,
           0.6137696333831564,
           0.6016056587436451,
           0.6172886367061337,
           0.6052612613367968,
           0.6060587009487424,
           0.6135723567311768,
           0.6069807934499585,
           0.6013635221962735,
           0.6173206646497006,
           0.6045303008061195,
           0.617160368185375,
           0.6072092777767832,
           0.5831690945945363,
           0.6033302716311517,
           0.5988360239231953,
           0.6025816545911657,
           0.6130185523086013,
           0.6053946141638271,
           0.6053989819054308
          ],
          "colorbar": {
           "title": {
            "text": "Objective Value"
           }
          },
          "colorscale": [
           [
            0,
            "rgb(247,251,255)"
           ],
           [
            0.125,
            "rgb(222,235,247)"
           ],
           [
            0.25,
            "rgb(198,219,239)"
           ],
           [
            0.375,
            "rgb(158,202,225)"
           ],
           [
            0.5,
            "rgb(107,174,214)"
           ],
           [
            0.625,
            "rgb(66,146,198)"
           ],
           [
            0.75,
            "rgb(33,113,181)"
           ],
           [
            0.875,
            "rgb(8,81,156)"
           ],
           [
            1,
            "rgb(8,48,107)"
           ]
          ],
          "reversescale": false,
          "showscale": true
         },
         "type": "parcoords"
        }
       ],
       "layout": {
        "template": {
         "data": {
          "bar": [
           {
            "error_x": {
             "color": "#2a3f5f"
            },
            "error_y": {
             "color": "#2a3f5f"
            },
            "marker": {
             "line": {
              "color": "#E5ECF6",
              "width": 0.5
             },
             "pattern": {
              "fillmode": "overlay",
              "size": 10,
              "solidity": 0.2
             }
            },
            "type": "bar"
           }
          ],
          "barpolar": [
           {
            "marker": {
             "line": {
              "color": "#E5ECF6",
              "width": 0.5
             },
             "pattern": {
              "fillmode": "overlay",
              "size": 10,
              "solidity": 0.2
             }
            },
            "type": "barpolar"
           }
          ],
          "carpet": [
           {
            "aaxis": {
             "endlinecolor": "#2a3f5f",
             "gridcolor": "white",
             "linecolor": "white",
             "minorgridcolor": "white",
             "startlinecolor": "#2a3f5f"
            },
            "baxis": {
             "endlinecolor": "#2a3f5f",
             "gridcolor": "white",
             "linecolor": "white",
             "minorgridcolor": "white",
             "startlinecolor": "#2a3f5f"
            },
            "type": "carpet"
           }
          ],
          "choropleth": [
           {
            "colorbar": {
             "outlinewidth": 0,
             "ticks": ""
            },
            "type": "choropleth"
           }
          ],
          "contour": [
           {
            "colorbar": {
             "outlinewidth": 0,
             "ticks": ""
            },
            "colorscale": [
             [
              0,
              "#0d0887"
             ],
             [
              0.1111111111111111,
              "#46039f"
             ],
             [
              0.2222222222222222,
              "#7201a8"
             ],
             [
              0.3333333333333333,
              "#9c179e"
             ],
             [
              0.4444444444444444,
              "#bd3786"
             ],
             [
              0.5555555555555556,
              "#d8576b"
             ],
             [
              0.6666666666666666,
              "#ed7953"
             ],
             [
              0.7777777777777778,
              "#fb9f3a"
             ],
             [
              0.8888888888888888,
              "#fdca26"
             ],
             [
              1,
              "#f0f921"
             ]
            ],
            "type": "contour"
           }
          ],
          "contourcarpet": [
           {
            "colorbar": {
             "outlinewidth": 0,
             "ticks": ""
            },
            "type": "contourcarpet"
           }
          ],
          "heatmap": [
           {
            "colorbar": {
             "outlinewidth": 0,
             "ticks": ""
            },
            "colorscale": [
             [
              0,
              "#0d0887"
             ],
             [
              0.1111111111111111,
              "#46039f"
             ],
             [
              0.2222222222222222,
              "#7201a8"
             ],
             [
              0.3333333333333333,
              "#9c179e"
             ],
             [
              0.4444444444444444,
              "#bd3786"
             ],
             [
              0.5555555555555556,
              "#d8576b"
             ],
             [
              0.6666666666666666,
              "#ed7953"
             ],
             [
              0.7777777777777778,
              "#fb9f3a"
             ],
             [
              0.8888888888888888,
              "#fdca26"
             ],
             [
              1,
              "#f0f921"
             ]
            ],
            "type": "heatmap"
           }
          ],
          "heatmapgl": [
           {
            "colorbar": {
             "outlinewidth": 0,
             "ticks": ""
            },
            "colorscale": [
             [
              0,
              "#0d0887"
             ],
             [
              0.1111111111111111,
              "#46039f"
             ],
             [
              0.2222222222222222,
              "#7201a8"
             ],
             [
              0.3333333333333333,
              "#9c179e"
             ],
             [
              0.4444444444444444,
              "#bd3786"
             ],
             [
              0.5555555555555556,
              "#d8576b"
             ],
             [
              0.6666666666666666,
              "#ed7953"
             ],
             [
              0.7777777777777778,
              "#fb9f3a"
             ],
             [
              0.8888888888888888,
              "#fdca26"
             ],
             [
              1,
              "#f0f921"
             ]
            ],
            "type": "heatmapgl"
           }
          ],
          "histogram": [
           {
            "marker": {
             "pattern": {
              "fillmode": "overlay",
              "size": 10,
              "solidity": 0.2
             }
            },
            "type": "histogram"
           }
          ],
          "histogram2d": [
           {
            "colorbar": {
             "outlinewidth": 0,
             "ticks": ""
            },
            "colorscale": [
             [
              0,
              "#0d0887"
             ],
             [
              0.1111111111111111,
              "#46039f"
             ],
             [
              0.2222222222222222,
              "#7201a8"
             ],
             [
              0.3333333333333333,
              "#9c179e"
             ],
             [
              0.4444444444444444,
              "#bd3786"
             ],
             [
              0.5555555555555556,
              "#d8576b"
             ],
             [
              0.6666666666666666,
              "#ed7953"
             ],
             [
              0.7777777777777778,
              "#fb9f3a"
             ],
             [
              0.8888888888888888,
              "#fdca26"
             ],
             [
              1,
              "#f0f921"
             ]
            ],
            "type": "histogram2d"
           }
          ],
          "histogram2dcontour": [
           {
            "colorbar": {
             "outlinewidth": 0,
             "ticks": ""
            },
            "colorscale": [
             [
              0,
              "#0d0887"
             ],
             [
              0.1111111111111111,
              "#46039f"
             ],
             [
              0.2222222222222222,
              "#7201a8"
             ],
             [
              0.3333333333333333,
              "#9c179e"
             ],
             [
              0.4444444444444444,
              "#bd3786"
             ],
             [
              0.5555555555555556,
              "#d8576b"
             ],
             [
              0.6666666666666666,
              "#ed7953"
             ],
             [
              0.7777777777777778,
              "#fb9f3a"
             ],
             [
              0.8888888888888888,
              "#fdca26"
             ],
             [
              1,
              "#f0f921"
             ]
            ],
            "type": "histogram2dcontour"
           }
          ],
          "mesh3d": [
           {
            "colorbar": {
             "outlinewidth": 0,
             "ticks": ""
            },
            "type": "mesh3d"
           }
          ],
          "parcoords": [
           {
            "line": {
             "colorbar": {
              "outlinewidth": 0,
              "ticks": ""
             }
            },
            "type": "parcoords"
           }
          ],
          "pie": [
           {
            "automargin": true,
            "type": "pie"
           }
          ],
          "scatter": [
           {
            "marker": {
             "colorbar": {
              "outlinewidth": 0,
              "ticks": ""
             }
            },
            "type": "scatter"
           }
          ],
          "scatter3d": [
           {
            "line": {
             "colorbar": {
              "outlinewidth": 0,
              "ticks": ""
             }
            },
            "marker": {
             "colorbar": {
              "outlinewidth": 0,
              "ticks": ""
             }
            },
            "type": "scatter3d"
           }
          ],
          "scattercarpet": [
           {
            "marker": {
             "colorbar": {
              "outlinewidth": 0,
              "ticks": ""
             }
            },
            "type": "scattercarpet"
           }
          ],
          "scattergeo": [
           {
            "marker": {
             "colorbar": {
              "outlinewidth": 0,
              "ticks": ""
             }
            },
            "type": "scattergeo"
           }
          ],
          "scattergl": [
           {
            "marker": {
             "colorbar": {
              "outlinewidth": 0,
              "ticks": ""
             }
            },
            "type": "scattergl"
           }
          ],
          "scattermapbox": [
           {
            "marker": {
             "colorbar": {
              "outlinewidth": 0,
              "ticks": ""
             }
            },
            "type": "scattermapbox"
           }
          ],
          "scatterpolar": [
           {
            "marker": {
             "colorbar": {
              "outlinewidth": 0,
              "ticks": ""
             }
            },
            "type": "scatterpolar"
           }
          ],
          "scatterpolargl": [
           {
            "marker": {
             "colorbar": {
              "outlinewidth": 0,
              "ticks": ""
             }
            },
            "type": "scatterpolargl"
           }
          ],
          "scatterternary": [
           {
            "marker": {
             "colorbar": {
              "outlinewidth": 0,
              "ticks": ""
             }
            },
            "type": "scatterternary"
           }
          ],
          "surface": [
           {
            "colorbar": {
             "outlinewidth": 0,
             "ticks": ""
            },
            "colorscale": [
             [
              0,
              "#0d0887"
             ],
             [
              0.1111111111111111,
              "#46039f"
             ],
             [
              0.2222222222222222,
              "#7201a8"
             ],
             [
              0.3333333333333333,
              "#9c179e"
             ],
             [
              0.4444444444444444,
              "#bd3786"
             ],
             [
              0.5555555555555556,
              "#d8576b"
             ],
             [
              0.6666666666666666,
              "#ed7953"
             ],
             [
              0.7777777777777778,
              "#fb9f3a"
             ],
             [
              0.8888888888888888,
              "#fdca26"
             ],
             [
              1,
              "#f0f921"
             ]
            ],
            "type": "surface"
           }
          ],
          "table": [
           {
            "cells": {
             "fill": {
              "color": "#EBF0F8"
             },
             "line": {
              "color": "white"
             }
            },
            "header": {
             "fill": {
              "color": "#C8D4E3"
             },
             "line": {
              "color": "white"
             }
            },
            "type": "table"
           }
          ]
         },
         "layout": {
          "annotationdefaults": {
           "arrowcolor": "#2a3f5f",
           "arrowhead": 0,
           "arrowwidth": 1
          },
          "autotypenumbers": "strict",
          "coloraxis": {
           "colorbar": {
            "outlinewidth": 0,
            "ticks": ""
           }
          },
          "colorscale": {
           "diverging": [
            [
             0,
             "#8e0152"
            ],
            [
             0.1,
             "#c51b7d"
            ],
            [
             0.2,
             "#de77ae"
            ],
            [
             0.3,
             "#f1b6da"
            ],
            [
             0.4,
             "#fde0ef"
            ],
            [
             0.5,
             "#f7f7f7"
            ],
            [
             0.6,
             "#e6f5d0"
            ],
            [
             0.7,
             "#b8e186"
            ],
            [
             0.8,
             "#7fbc41"
            ],
            [
             0.9,
             "#4d9221"
            ],
            [
             1,
             "#276419"
            ]
           ],
           "sequential": [
            [
             0,
             "#0d0887"
            ],
            [
             0.1111111111111111,
             "#46039f"
            ],
            [
             0.2222222222222222,
             "#7201a8"
            ],
            [
             0.3333333333333333,
             "#9c179e"
            ],
            [
             0.4444444444444444,
             "#bd3786"
            ],
            [
             0.5555555555555556,
             "#d8576b"
            ],
            [
             0.6666666666666666,
             "#ed7953"
            ],
            [
             0.7777777777777778,
             "#fb9f3a"
            ],
            [
             0.8888888888888888,
             "#fdca26"
            ],
            [
             1,
             "#f0f921"
            ]
           ],
           "sequentialminus": [
            [
             0,
             "#0d0887"
            ],
            [
             0.1111111111111111,
             "#46039f"
            ],
            [
             0.2222222222222222,
             "#7201a8"
            ],
            [
             0.3333333333333333,
             "#9c179e"
            ],
            [
             0.4444444444444444,
             "#bd3786"
            ],
            [
             0.5555555555555556,
             "#d8576b"
            ],
            [
             0.6666666666666666,
             "#ed7953"
            ],
            [
             0.7777777777777778,
             "#fb9f3a"
            ],
            [
             0.8888888888888888,
             "#fdca26"
            ],
            [
             1,
             "#f0f921"
            ]
           ]
          },
          "colorway": [
           "#636efa",
           "#EF553B",
           "#00cc96",
           "#ab63fa",
           "#FFA15A",
           "#19d3f3",
           "#FF6692",
           "#B6E880",
           "#FF97FF",
           "#FECB52"
          ],
          "font": {
           "color": "#2a3f5f"
          },
          "geo": {
           "bgcolor": "white",
           "lakecolor": "white",
           "landcolor": "#E5ECF6",
           "showlakes": true,
           "showland": true,
           "subunitcolor": "white"
          },
          "hoverlabel": {
           "align": "left"
          },
          "hovermode": "closest",
          "mapbox": {
           "style": "light"
          },
          "paper_bgcolor": "white",
          "plot_bgcolor": "#E5ECF6",
          "polar": {
           "angularaxis": {
            "gridcolor": "white",
            "linecolor": "white",
            "ticks": ""
           },
           "bgcolor": "#E5ECF6",
           "radialaxis": {
            "gridcolor": "white",
            "linecolor": "white",
            "ticks": ""
           }
          },
          "scene": {
           "xaxis": {
            "backgroundcolor": "#E5ECF6",
            "gridcolor": "white",
            "gridwidth": 2,
            "linecolor": "white",
            "showbackground": true,
            "ticks": "",
            "zerolinecolor": "white"
           },
           "yaxis": {
            "backgroundcolor": "#E5ECF6",
            "gridcolor": "white",
            "gridwidth": 2,
            "linecolor": "white",
            "showbackground": true,
            "ticks": "",
            "zerolinecolor": "white"
           },
           "zaxis": {
            "backgroundcolor": "#E5ECF6",
            "gridcolor": "white",
            "gridwidth": 2,
            "linecolor": "white",
            "showbackground": true,
            "ticks": "",
            "zerolinecolor": "white"
           }
          },
          "shapedefaults": {
           "line": {
            "color": "#2a3f5f"
           }
          },
          "ternary": {
           "aaxis": {
            "gridcolor": "white",
            "linecolor": "white",
            "ticks": ""
           },
           "baxis": {
            "gridcolor": "white",
            "linecolor": "white",
            "ticks": ""
           },
           "bgcolor": "#E5ECF6",
           "caxis": {
            "gridcolor": "white",
            "linecolor": "white",
            "ticks": ""
           }
          },
          "title": {
           "x": 0.05
          },
          "xaxis": {
           "automargin": true,
           "gridcolor": "white",
           "linecolor": "white",
           "ticks": "",
           "title": {
            "standoff": 15
           },
           "zerolinecolor": "white",
           "zerolinewidth": 2
          },
          "yaxis": {
           "automargin": true,
           "gridcolor": "white",
           "linecolor": "white",
           "ticks": "",
           "title": {
            "standoff": 15
           },
           "zerolinecolor": "white",
           "zerolinewidth": 2
          }
         }
        },
        "title": {
         "text": "Parallel Coordinate Plot"
        }
       }
      }
     },
     "metadata": {},
     "output_type": "display_data"
    }
   ],
   "source": [
    "optuna.visualization.plot_parallel_coordinate(study)"
   ]
  },
  {
   "cell_type": "code",
   "execution_count": 28,
   "id": "75db1ddf",
   "metadata": {},
   "outputs": [
    {
     "name": "stdout",
     "output_type": "stream",
     "text": [
      "Best trial: {'n_estimators': 723, 'max_depth': 21, 'num_leaves': 10, 'min_child_samples': 8, 'num_iterations': 519}\n"
     ]
    }
   ],
   "source": [
    "print(\"Best trial:\", study.best_trial.params)"
   ]
  },
  {
   "cell_type": "code",
   "execution_count": 29,
   "id": "574699dc",
   "metadata": {},
   "outputs": [
    {
     "data": {
      "text/plain": [
       "723"
      ]
     },
     "execution_count": 29,
     "metadata": {},
     "output_type": "execute_result"
    }
   ],
   "source": [
    "study.best_trial.params[\"n_estimators\"]"
   ]
  },
  {
   "cell_type": "code",
   "execution_count": 30,
   "id": "862eadd2",
   "metadata": {},
   "outputs": [
    {
     "data": {
      "text/html": [
       "<style>#sk-container-id-1 {color: black;}#sk-container-id-1 pre{padding: 0;}#sk-container-id-1 div.sk-toggleable {background-color: white;}#sk-container-id-1 label.sk-toggleable__label {cursor: pointer;display: block;width: 100%;margin-bottom: 0;padding: 0.3em;box-sizing: border-box;text-align: center;}#sk-container-id-1 label.sk-toggleable__label-arrow:before {content: \"▸\";float: left;margin-right: 0.25em;color: #696969;}#sk-container-id-1 label.sk-toggleable__label-arrow:hover:before {color: black;}#sk-container-id-1 div.sk-estimator:hover label.sk-toggleable__label-arrow:before {color: black;}#sk-container-id-1 div.sk-toggleable__content {max-height: 0;max-width: 0;overflow: hidden;text-align: left;background-color: #f0f8ff;}#sk-container-id-1 div.sk-toggleable__content pre {margin: 0.2em;color: black;border-radius: 0.25em;background-color: #f0f8ff;}#sk-container-id-1 input.sk-toggleable__control:checked~div.sk-toggleable__content {max-height: 200px;max-width: 100%;overflow: auto;}#sk-container-id-1 input.sk-toggleable__control:checked~label.sk-toggleable__label-arrow:before {content: \"▾\";}#sk-container-id-1 div.sk-estimator input.sk-toggleable__control:checked~label.sk-toggleable__label {background-color: #d4ebff;}#sk-container-id-1 div.sk-label input.sk-toggleable__control:checked~label.sk-toggleable__label {background-color: #d4ebff;}#sk-container-id-1 input.sk-hidden--visually {border: 0;clip: rect(1px 1px 1px 1px);clip: rect(1px, 1px, 1px, 1px);height: 1px;margin: -1px;overflow: hidden;padding: 0;position: absolute;width: 1px;}#sk-container-id-1 div.sk-estimator {font-family: monospace;background-color: #f0f8ff;border: 1px dotted black;border-radius: 0.25em;box-sizing: border-box;margin-bottom: 0.5em;}#sk-container-id-1 div.sk-estimator:hover {background-color: #d4ebff;}#sk-container-id-1 div.sk-parallel-item::after {content: \"\";width: 100%;border-bottom: 1px solid gray;flex-grow: 1;}#sk-container-id-1 div.sk-label:hover label.sk-toggleable__label {background-color: #d4ebff;}#sk-container-id-1 div.sk-serial::before {content: \"\";position: absolute;border-left: 1px solid gray;box-sizing: border-box;top: 0;bottom: 0;left: 50%;z-index: 0;}#sk-container-id-1 div.sk-serial {display: flex;flex-direction: column;align-items: center;background-color: white;padding-right: 0.2em;padding-left: 0.2em;position: relative;}#sk-container-id-1 div.sk-item {position: relative;z-index: 1;}#sk-container-id-1 div.sk-parallel {display: flex;align-items: stretch;justify-content: center;background-color: white;position: relative;}#sk-container-id-1 div.sk-item::before, #sk-container-id-1 div.sk-parallel-item::before {content: \"\";position: absolute;border-left: 1px solid gray;box-sizing: border-box;top: 0;bottom: 0;left: 50%;z-index: -1;}#sk-container-id-1 div.sk-parallel-item {display: flex;flex-direction: column;z-index: 1;position: relative;background-color: white;}#sk-container-id-1 div.sk-parallel-item:first-child::after {align-self: flex-end;width: 50%;}#sk-container-id-1 div.sk-parallel-item:last-child::after {align-self: flex-start;width: 50%;}#sk-container-id-1 div.sk-parallel-item:only-child::after {width: 0;}#sk-container-id-1 div.sk-dashed-wrapped {border: 1px dashed gray;margin: 0 0.4em 0.5em 0.4em;box-sizing: border-box;padding-bottom: 0.4em;background-color: white;}#sk-container-id-1 div.sk-label label {font-family: monospace;font-weight: bold;display: inline-block;line-height: 1.2em;}#sk-container-id-1 div.sk-label-container {text-align: center;}#sk-container-id-1 div.sk-container {/* jupyter's `normalize.less` sets `[hidden] { display: none; }` but bootstrap.min.css set `[hidden] { display: none !important; }` so we also need the `!important` here to be able to override the default hidden behavior on the sphinx rendered scikit-learn.org. See: https://github.com/scikit-learn/scikit-learn/issues/21755 */display: inline-block !important;position: relative;}#sk-container-id-1 div.sk-text-repr-fallback {display: none;}</style><div id=\"sk-container-id-1\" class=\"sk-top-container\"><div class=\"sk-text-repr-fallback\"><pre>LGBMRegressor(max_depth=21, min_child_samples=8, n_estimators=723,\n",
       "              num_iterations=519, num_leaves=10, random_state=42)</pre><b>In a Jupyter environment, please rerun this cell to show the HTML representation or trust the notebook. <br />On GitHub, the HTML representation is unable to render, please try loading this page with nbviewer.org.</b></div><div class=\"sk-container\" hidden><div class=\"sk-item\"><div class=\"sk-estimator sk-toggleable\"><input class=\"sk-toggleable__control sk-hidden--visually\" id=\"sk-estimator-id-1\" type=\"checkbox\" checked><label for=\"sk-estimator-id-1\" class=\"sk-toggleable__label sk-toggleable__label-arrow\">LGBMRegressor</label><div class=\"sk-toggleable__content\"><pre>LGBMRegressor(max_depth=21, min_child_samples=8, n_estimators=723,\n",
       "              num_iterations=519, num_leaves=10, random_state=42)</pre></div></div></div></div></div>"
      ],
      "text/plain": [
       "LGBMRegressor(max_depth=21, min_child_samples=8, n_estimators=723,\n",
       "              num_iterations=519, num_leaves=10, random_state=42)"
      ]
     },
     "execution_count": 30,
     "metadata": {},
     "output_type": "execute_result"
    }
   ],
   "source": [
    "lgbm_params = {\n",
    "    \"random_state\": 42,\n",
    "    \"learning_rate\": 0.1,\n",
    "    \"n_estimators\": study.best_trial.params[\"n_estimators\"],\n",
    "    \"max_depth\": study.best_trial.params[\"max_depth\"],\n",
    "    \"num_leaves\": study.best_trial.params[\"num_leaves\"],\n",
    "    \"min_child_samples\": study.best_trial.params[\"min_child_samples\"],\n",
    "    \"num_iterations\": study.best_trial.params[\"num_iterations\"]\n",
    "}\n",
    "\n",
    "lgbm = LGBMRegressor(**lgbm_params)\n",
    "lgbm.fit(As_X_train, As_y_train)"
   ]
  },
  {
   "cell_type": "code",
   "execution_count": 31,
   "id": "8577fb37",
   "metadata": {},
   "outputs": [],
   "source": [
    "y_train_pred = lgbm.predict(As_X_train)\n",
    "y_test_pred = lgbm.predict(As_X_test)"
   ]
  },
  {
   "cell_type": "code",
   "execution_count": 32,
   "id": "2ea0526a",
   "metadata": {},
   "outputs": [],
   "source": [
    "# plt.scatter(y_train_pred, np.array(As_y_train))"
   ]
  },
  {
   "cell_type": "code",
   "execution_count": 33,
   "id": "d2a4dd85",
   "metadata": {},
   "outputs": [
    {
     "name": "stdout",
     "output_type": "stream",
     "text": [
      "Train RMSE:  0.1000863503828073\n",
      "Test RMSE:  0.86651648788271\n"
     ]
    }
   ],
   "source": [
    "print(\"Train RMSE: \", np.sqrt(mean_squared_error(As_y_train, y_train_pred)))\n",
    "print(\"Test RMSE: \", np.sqrt(mean_squared_error(As_y_test, y_test_pred)))"
   ]
  },
  {
   "cell_type": "code",
   "execution_count": 34,
   "id": "08fe787a",
   "metadata": {},
   "outputs": [
    {
     "name": "stdout",
     "output_type": "stream",
     "text": [
      "Train R2:  0.9879280791880671\n",
      "Test R2:  0.08895378020702782\n"
     ]
    }
   ],
   "source": [
    "print(\"Train R2: \", r2_score(As_y_train, y_train_pred))\n",
    "print(\"Test R2: \", r2_score(As_y_test, y_test_pred))"
   ]
  },
  {
   "cell_type": "code",
   "execution_count": 35,
   "id": "5ec4820c",
   "metadata": {},
   "outputs": [
    {
     "data": {
      "image/png": "[encoded data removed]",
      "text/plain": [
       "<Figure size 640x480 with 1 Axes>"
      ]
     },
     "metadata": {},
     "output_type": "display_data"
    }
   ],
   "source": [
    "plt.scatter(y_train_pred, np.array(As_y_train), color=\"orange\", alpha=0.3)\n",
    "plt.scatter(y_test_pred, np.array(As_y_test), color=\"green\", alpha=0.4)\n",
    "plt.axis(\"auto\") # scaled, tight, auto, image, square\n",
    "# plt.xlim([0, 1.5]) \n",
    "# plt.ylim(0, None) \n",
    "plt.xlabel('Predicted Values')\n",
    "plt.ylabel('Actual Values')\n",
    "\n",
    "# Add y=x line\n",
    "plt.plot([0, 4.0], [0, 4.0], color='red', linestyle='-')\n",
    "\n",
    "plt.show()"
   ]
  },
  {
   "attachments": {},
   "cell_type": "markdown",
   "id": "e0507d63",
   "metadata": {},
   "source": [
    "Cd"
   ]
  },
  {
   "attachments": {},
   "cell_type": "markdown",
   "id": "f8f809d9",
   "metadata": {},
   "source": [
    "Optimization"
   ]
  },
  {
   "cell_type": "code",
   "execution_count": 36,
   "id": "b7aeaf0a",
   "metadata": {},
   "outputs": [
    {
     "name": "stderr",
     "output_type": "stream",
     "text": [
      "\u001b[32m[I 2023-08-24 14:04:42,262]\u001b[0m A new study created in memory with name: lgbm_parameter_opt\u001b[0m\n",
      "\u001b[32m[I 2023-08-24 14:04:43,751]\u001b[0m Trial 0 finished with value: 0.6787905670578132 and parameters: {'n_estimators': 863, 'max_depth': 26, 'num_leaves': 21, 'min_child_samples': 6, 'num_iterations': 656}. Best is trial 0 with value: 0.6787905670578132.\u001b[0m\n",
      "\u001b[32m[I 2023-08-24 14:04:44,271]\u001b[0m Trial 1 finished with value: 0.6336174391773497 and parameters: {'n_estimators': 762, 'max_depth': 8, 'num_leaves': 4, 'min_child_samples': 9, 'num_iterations': 904}. Best is trial 0 with value: 0.6787905670578132.\u001b[0m\n",
      "\u001b[32m[I 2023-08-24 14:04:44,823]\u001b[0m Trial 2 finished with value: 0.6512968051851356 and parameters: {'n_estimators': 521, 'max_depth': 11, 'num_leaves': 5, 'min_child_samples': 9, 'num_iterations': 766}. Best is trial 0 with value: 0.6787905670578132.\u001b[0m\n",
      "\u001b[32m[I 2023-08-24 14:04:45,353]\u001b[0m Trial 3 finished with value: 0.6508561326885374 and parameters: {'n_estimators': 538, 'max_depth': 14, 'num_leaves': 7, 'min_child_samples': 10, 'num_iterations': 550}. Best is trial 0 with value: 0.6787905670578132.\u001b[0m\n",
      "\u001b[32m[I 2023-08-24 14:04:46,698]\u001b[0m Trial 4 finished with value: 0.6630851274816172 and parameters: {'n_estimators': 897, 'max_depth': 24, 'num_leaves': 12, 'min_child_samples': 10, 'num_iterations': 885}. Best is trial 0 with value: 0.6787905670578132.\u001b[0m\n",
      "\u001b[32m[I 2023-08-24 14:04:47,329]\u001b[0m Trial 5 finished with value: 0.668375546412182 and parameters: {'n_estimators': 915, 'max_depth': 13, 'num_leaves': 11, 'min_child_samples': 9, 'num_iterations': 508}. Best is trial 0 with value: 0.6787905670578132.\u001b[0m\n",
      "\u001b[32m[I 2023-08-24 14:04:47,903]\u001b[0m Trial 6 finished with value: 0.6012678723516865 and parameters: {'n_estimators': 566, 'max_depth': 19, 'num_leaves': 3, 'min_child_samples': 3, 'num_iterations': 862}. Best is trial 0 with value: 0.6787905670578132.\u001b[0m\n",
      "\u001b[32m[I 2023-08-24 14:04:49,970]\u001b[0m Trial 7 finished with value: 0.6678854773588042 and parameters: {'n_estimators': 588, 'max_depth': 9, 'num_leaves': 17, 'min_child_samples': 1, 'num_iterations': 795}. Best is trial 0 with value: 0.6787905670578132.\u001b[0m\n",
      "\u001b[32m[I 2023-08-24 14:04:51,712]\u001b[0m Trial 8 finished with value: 0.6764254820800285 and parameters: {'n_estimators': 670, 'max_depth': 24, 'num_leaves': 21, 'min_child_samples': 1, 'num_iterations': 576}. Best is trial 0 with value: 0.6787905670578132.\u001b[0m\n",
      "\u001b[32m[I 2023-08-24 14:04:52,046]\u001b[0m Trial 9 finished with value: 0.5445034445559529 and parameters: {'n_estimators': 825, 'max_depth': 19, 'num_leaves': 2, 'min_child_samples': 7, 'num_iterations': 940}. Best is trial 0 with value: 0.6787905670578132.\u001b[0m\n",
      "\u001b[32m[I 2023-08-24 14:04:54,249]\u001b[0m Trial 10 finished with value: 0.6656166493839529 and parameters: {'n_estimators': 950, 'max_depth': 30, 'num_leaves': 32, 'min_child_samples': 5, 'num_iterations': 654}. Best is trial 0 with value: 0.6787905670578132.\u001b[0m\n",
      "\u001b[32m[I 2023-08-24 14:04:56,031]\u001b[0m Trial 11 finished with value: 0.6712399674772342 and parameters: {'n_estimators': 664, 'max_depth': 29, 'num_leaves': 26, 'min_child_samples': 5, 'num_iterations': 633}. Best is trial 0 with value: 0.6787905670578132.\u001b[0m\n",
      "\u001b[32m[I 2023-08-24 14:04:56,559]\u001b[0m Trial 12 finished with value: 0.6309530440647365 and parameters: {'n_estimators': 699, 'max_depth': 3, 'num_leaves': 23, 'min_child_samples': 1, 'num_iterations': 644}. Best is trial 0 with value: 0.6787905670578132.\u001b[0m\n",
      "\u001b[32m[I 2023-08-24 14:04:58,019]\u001b[0m Trial 13 finished with value: 0.6739473690992478 and parameters: {'n_estimators': 820, 'max_depth': 25, 'num_leaves': 21, 'min_child_samples': 3, 'num_iterations': 596}. Best is trial 0 with value: 0.6787905670578132.\u001b[0m\n",
      "\u001b[32m[I 2023-08-24 14:04:59,254]\u001b[0m Trial 14 finished with value: 0.6740634253905645 and parameters: {'n_estimators': 653, 'max_depth': 23, 'num_leaves': 17, 'min_child_samples': 7, 'num_iterations': 717}. Best is trial 0 with value: 0.6787905670578132.\u001b[0m\n",
      "\u001b[32m[I 2023-08-24 14:05:01,467]\u001b[0m Trial 15 finished with value: 0.6752570969755636 and parameters: {'n_estimators': 768, 'max_depth': 18, 'num_leaves': 28, 'min_child_samples': 3, 'num_iterations': 710}. Best is trial 0 with value: 0.6787905670578132.\u001b[0m\n",
      "\u001b[32m[I 2023-08-24 14:05:02,664]\u001b[0m Trial 16 finished with value: 0.6717209345329588 and parameters: {'n_estimators': 989, 'max_depth': 27, 'num_leaves': 21, 'min_child_samples': 7, 'num_iterations': 573}. Best is trial 0 with value: 0.6787905670578132.\u001b[0m\n",
      "\u001b[32m[I 2023-08-24 14:05:03,710]\u001b[0m Trial 17 finished with value: 0.6764728745702626 and parameters: {'n_estimators': 845, 'max_depth': 21, 'num_leaves': 15, 'min_child_samples': 4, 'num_iterations': 521}. Best is trial 0 with value: 0.6787905670578132.\u001b[0m\n",
      "\u001b[32m[I 2023-08-24 14:05:04,511]\u001b[0m Trial 18 finished with value: 0.6690714267139826 and parameters: {'n_estimators': 844, 'max_depth': 21, 'num_leaves': 13, 'min_child_samples': 4, 'num_iterations': 515}. Best is trial 0 with value: 0.6787905670578132.\u001b[0m\n",
      "\u001b[32m[I 2023-08-24 14:05:05,644]\u001b[0m Trial 19 finished with value: 0.6681047265863159 and parameters: {'n_estimators': 884, 'max_depth': 17, 'num_leaves': 15, 'min_child_samples': 6, 'num_iterations': 677}. Best is trial 0 with value: 0.6787905670578132.\u001b[0m\n",
      "\u001b[32m[I 2023-08-24 14:05:06,746]\u001b[0m Trial 20 finished with value: 0.6618250184000448 and parameters: {'n_estimators': 795, 'max_depth': 27, 'num_leaves': 9, 'min_child_samples': 6, 'num_iterations': 992}. Best is trial 0 with value: 0.6787905670578132.\u001b[0m\n",
      "\u001b[32m[I 2023-08-24 14:05:08,451]\u001b[0m Trial 21 finished with value: 0.6790134782240006 and parameters: {'n_estimators': 718, 'max_depth': 21, 'num_leaves': 19, 'min_child_samples': 2, 'num_iterations': 608}. Best is trial 21 with value: 0.6790134782240006.\u001b[0m\n",
      "\u001b[32m[I 2023-08-24 14:05:09,889]\u001b[0m Trial 22 finished with value: 0.6863130751298312 and parameters: {'n_estimators': 709, 'max_depth': 22, 'num_leaves': 18, 'min_child_samples': 2, 'num_iterations': 614}. Best is trial 22 with value: 0.6863130751298312.\u001b[0m\n",
      "\u001b[32m[I 2023-08-24 14:05:11,281]\u001b[0m Trial 23 finished with value: 0.679012778243394 and parameters: {'n_estimators': 723, 'max_depth': 22, 'num_leaves': 19, 'min_child_samples': 2, 'num_iterations': 617}. Best is trial 22 with value: 0.6863130751298312.\u001b[0m\n",
      "\u001b[32m[I 2023-08-24 14:05:12,538]\u001b[0m Trial 24 finished with value: 0.6862949697270111 and parameters: {'n_estimators': 709, 'max_depth': 22, 'num_leaves': 18, 'min_child_samples': 2, 'num_iterations': 590}. Best is trial 22 with value: 0.6863130751298312.\u001b[0m\n",
      "\u001b[32m[I 2023-08-24 14:05:14,590]\u001b[0m Trial 25 finished with value: 0.6761845190062061 and parameters: {'n_estimators': 614, 'max_depth': 16, 'num_leaves': 26, 'min_child_samples': 2, 'num_iterations': 697}. Best is trial 22 with value: 0.6863130751298312.\u001b[0m\n",
      "\u001b[32m[I 2023-08-24 14:05:17,132]\u001b[0m Trial 26 finished with value: 0.6824754959361587 and parameters: {'n_estimators': 728, 'max_depth': 20, 'num_leaves': 24, 'min_child_samples': 2, 'num_iterations': 813}. Best is trial 22 with value: 0.6863130751298312.\u001b[0m\n",
      "\u001b[32m[I 2023-08-24 14:05:19,280]\u001b[0m Trial 27 finished with value: 0.6720387121841929 and parameters: {'n_estimators': 642, 'max_depth': 14, 'num_leaves': 24, 'min_child_samples': 4, 'num_iterations': 824}. Best is trial 22 with value: 0.6863130751298312.\u001b[0m\n",
      "\u001b[32m[I 2023-08-24 14:05:21,750]\u001b[0m Trial 28 finished with value: 0.6681040362819728 and parameters: {'n_estimators': 739, 'max_depth': 19, 'num_leaves': 30, 'min_child_samples': 2, 'num_iterations': 747}. Best is trial 22 with value: 0.6863130751298312.\u001b[0m\n",
      "\u001b[32m[I 2023-08-24 14:05:23,989]\u001b[0m Trial 29 finished with value: 0.6759230159910621 and parameters: {'n_estimators': 698, 'max_depth': 27, 'num_leaves': 24, 'min_child_samples': 3, 'num_iterations': 823}. Best is trial 22 with value: 0.6863130751298312.\u001b[0m\n",
      "\u001b[32m[I 2023-08-24 14:05:24,484]\u001b[0m Trial 30 finished with value: 0.6088056897702939 and parameters: {'n_estimators': 783, 'max_depth': 2, 'num_leaves': 19, 'min_child_samples': 1, 'num_iterations': 764}. Best is trial 22 with value: 0.6863130751298312.\u001b[0m\n",
      "\u001b[32m[I 2023-08-24 14:05:25,571]\u001b[0m Trial 31 finished with value: 0.6735495956608675 and parameters: {'n_estimators': 711, 'max_depth': 21, 'num_leaves': 15, 'min_child_samples': 2, 'num_iterations': 609}. Best is trial 22 with value: 0.6863130751298312.\u001b[0m\n",
      "\u001b[32m[I 2023-08-24 14:05:26,901]\u001b[0m Trial 32 finished with value: 0.6862480066656396 and parameters: {'n_estimators': 750, 'max_depth': 20, 'num_leaves': 18, 'min_child_samples': 2, 'num_iterations': 548}. Best is trial 22 with value: 0.6863130751298312.\u001b[0m\n",
      "\u001b[32m[I 2023-08-24 14:05:28,091]\u001b[0m Trial 33 finished with value: 0.673782377188041 and parameters: {'n_estimators': 753, 'max_depth': 16, 'num_leaves': 17, 'min_child_samples': 3, 'num_iterations': 546}. Best is trial 22 with value: 0.6863130751298312.\u001b[0m\n",
      "\u001b[32m[I 2023-08-24 14:05:30,174]\u001b[0m Trial 34 finished with value: 0.6865425005479568 and parameters: {'n_estimators': 680, 'max_depth': 23, 'num_leaves': 22, 'min_child_samples': 2, 'num_iterations': 671}. Best is trial 34 with value: 0.6865425005479568.\u001b[0m\n",
      "\u001b[32m[I 2023-08-24 14:05:31,732]\u001b[0m Trial 35 finished with value: 0.6704968451781966 and parameters: {'n_estimators': 615, 'max_depth': 25, 'num_leaves': 19, 'min_child_samples': 1, 'num_iterations': 559}. Best is trial 34 with value: 0.6865425005479568.\u001b[0m\n",
      "\u001b[32m[I 2023-08-24 14:05:32,646]\u001b[0m Trial 36 finished with value: 0.668956869024678 and parameters: {'n_estimators': 684, 'max_depth': 23, 'num_leaves': 13, 'min_child_samples': 4, 'num_iterations': 542}. Best is trial 34 with value: 0.6865425005479568.\u001b[0m\n",
      "\u001b[32m[I 2023-08-24 14:05:34,548]\u001b[0m Trial 37 finished with value: 0.6825421356165742 and parameters: {'n_estimators': 629, 'max_depth': 23, 'num_leaves': 22, 'min_child_samples': 3, 'num_iterations': 681}. Best is trial 34 with value: 0.6865425005479568.\u001b[0m\n",
      "\u001b[32m[I 2023-08-24 14:05:35,685]\u001b[0m Trial 38 finished with value: 0.6779859616091646 and parameters: {'n_estimators': 511, 'max_depth': 12, 'num_leaves': 17, 'min_child_samples': 2, 'num_iterations': 592}. Best is trial 34 with value: 0.6865425005479568.\u001b[0m\n",
      "\u001b[32m[I 2023-08-24 14:05:36,675]\u001b[0m Trial 39 finished with value: 0.6553319724357919 and parameters: {'n_estimators': 579, 'max_depth': 26, 'num_leaves': 9, 'min_child_samples': 1, 'num_iterations': 733}. Best is trial 34 with value: 0.6865425005479568.\u001b[0m\n",
      "\u001b[32m[I 2023-08-24 14:05:37,892]\u001b[0m Trial 40 finished with value: 0.6605984095422219 and parameters: {'n_estimators': 803, 'max_depth': 6, 'num_leaves': 15, 'min_child_samples': 3, 'num_iterations': 672}. Best is trial 34 with value: 0.6865425005479568.\u001b[0m\n",
      "\u001b[32m[I 2023-08-24 14:05:39,923]\u001b[0m Trial 41 finished with value: 0.682541409932677 and parameters: {'n_estimators': 629, 'max_depth': 23, 'num_leaves': 22, 'min_child_samples': 3, 'num_iterations': 677}. Best is trial 34 with value: 0.6865425005479568.\u001b[0m\n",
      "\u001b[32m[I 2023-08-24 14:05:42,160]\u001b[0m Trial 42 finished with value: 0.6760609088678637 and parameters: {'n_estimators': 551, 'max_depth': 18, 'num_leaves': 26, 'min_child_samples': 2, 'num_iterations': 631}. Best is trial 34 with value: 0.6865425005479568.\u001b[0m\n",
      "\u001b[32m[I 2023-08-24 14:05:43,488]\u001b[0m Trial 43 finished with value: 0.6680912922770419 and parameters: {'n_estimators': 681, 'max_depth': 24, 'num_leaves': 18, 'min_child_samples': 1, 'num_iterations': 572}. Best is trial 34 with value: 0.6865425005479568.\u001b[0m\n",
      "\u001b[32m[I 2023-08-24 14:05:45,163]\u001b[0m Trial 44 finished with value: 0.6782864679424706 and parameters: {'n_estimators': 761, 'max_depth': 22, 'num_leaves': 20, 'min_child_samples': 3, 'num_iterations': 654}. Best is trial 34 with value: 0.6865425005479568.\u001b[0m\n",
      "\u001b[32m[I 2023-08-24 14:05:46,929]\u001b[0m Trial 45 finished with value: 0.6691589251128363 and parameters: {'n_estimators': 661, 'max_depth': 29, 'num_leaves': 22, 'min_child_samples': 5, 'num_iterations': 693}. Best is trial 34 with value: 0.6865425005479568.\u001b[0m\n",
      "\u001b[32m[I 2023-08-24 14:05:49,203]\u001b[0m Trial 46 finished with value: 0.679364319505952 and parameters: {'n_estimators': 613, 'max_depth': 19, 'num_leaves': 23, 'min_child_samples': 2, 'num_iterations': 623}. Best is trial 34 with value: 0.6865425005479568.\u001b[0m\n",
      "\u001b[32m[I 2023-08-24 14:05:50,583]\u001b[0m Trial 47 finished with value: 0.671887619965767 and parameters: {'n_estimators': 691, 'max_depth': 25, 'num_leaves': 20, 'min_child_samples': 8, 'num_iterations': 536}. Best is trial 34 with value: 0.6865425005479568.\u001b[0m\n",
      "\u001b[32m[I 2023-08-24 14:05:52,266]\u001b[0m Trial 48 finished with value: 0.6753378174465802 and parameters: {'n_estimators': 590, 'max_depth': 14, 'num_leaves': 16, 'min_child_samples': 1, 'num_iterations': 585}. Best is trial 34 with value: 0.6865425005479568.\u001b[0m\n",
      "\u001b[32m[I 2023-08-24 14:05:53,273]\u001b[0m Trial 49 finished with value: 0.6691023088012057 and parameters: {'n_estimators': 642, 'max_depth': 20, 'num_leaves': 12, 'min_child_samples': 4, 'num_iterations': 503}. Best is trial 34 with value: 0.6865425005479568.\u001b[0m\n",
      "\u001b[32m[I 2023-08-24 14:05:55,941]\u001b[0m Trial 50 finished with value: 0.6825480696717714 and parameters: {'n_estimators': 744, 'max_depth': 23, 'num_leaves': 22, 'min_child_samples': 3, 'num_iterations': 652}. Best is trial 34 with value: 0.6865425005479568.\u001b[0m\n",
      "\u001b[32m[I 2023-08-24 14:05:58,661]\u001b[0m Trial 51 finished with value: 0.6766686117575595 and parameters: {'n_estimators': 743, 'max_depth': 23, 'num_leaves': 25, 'min_child_samples': 3, 'num_iterations': 651}. Best is trial 34 with value: 0.6865425005479568.\u001b[0m\n",
      "\u001b[32m[I 2023-08-24 14:06:01,276]\u001b[0m Trial 52 finished with value: 0.6865406313616018 and parameters: {'n_estimators': 777, 'max_depth': 26, 'num_leaves': 22, 'min_child_samples': 2, 'num_iterations': 666}. Best is trial 34 with value: 0.6865425005479568.\u001b[0m\n",
      "\u001b[32m[I 2023-08-24 14:06:04,442]\u001b[0m Trial 53 finished with value: 0.6645713381773316 and parameters: {'n_estimators': 769, 'max_depth': 28, 'num_leaves': 28, 'min_child_samples': 1, 'num_iterations': 636}. Best is trial 34 with value: 0.6865425005479568.\u001b[0m\n",
      "\u001b[32m[I 2023-08-24 14:06:06,439]\u001b[0m Trial 54 finished with value: 0.6844418028314291 and parameters: {'n_estimators': 816, 'max_depth': 25, 'num_leaves': 20, 'min_child_samples': 2, 'num_iterations': 563}. Best is trial 34 with value: 0.6865425005479568.\u001b[0m\n",
      "\u001b[32m[I 2023-08-24 14:06:08,722]\u001b[0m Trial 55 finished with value: 0.684445409668635 and parameters: {'n_estimators': 818, 'max_depth': 26, 'num_leaves': 20, 'min_child_samples': 2, 'num_iterations': 561}. Best is trial 34 with value: 0.6865425005479568.\u001b[0m\n",
      "\u001b[32m[I 2023-08-24 14:06:10,277]\u001b[0m Trial 56 finished with value: 0.6861926026902354 and parameters: {'n_estimators': 841, 'max_depth': 30, 'num_leaves': 18, 'min_child_samples': 2, 'num_iterations': 526}. Best is trial 34 with value: 0.6865425005479568.\u001b[0m\n",
      "\u001b[32m[I 2023-08-24 14:06:11,826]\u001b[0m Trial 57 finished with value: 0.6680440633215567 and parameters: {'n_estimators': 865, 'max_depth': 30, 'num_leaves': 18, 'min_child_samples': 1, 'num_iterations': 532}. Best is trial 34 with value: 0.6865425005479568.\u001b[0m\n",
      "\u001b[32m[I 2023-08-24 14:06:13,333]\u001b[0m Trial 58 finished with value: 0.6774153816258637 and parameters: {'n_estimators': 781, 'max_depth': 28, 'num_leaves': 16, 'min_child_samples': 2, 'num_iterations': 596}. Best is trial 34 with value: 0.6865425005479568.\u001b[0m\n",
      "\u001b[32m[I 2023-08-24 14:06:14,825]\u001b[0m Trial 59 finished with value: 0.6566082051131668 and parameters: {'n_estimators': 841, 'max_depth': 29, 'num_leaves': 14, 'min_child_samples': 1, 'num_iterations': 609}. Best is trial 34 with value: 0.6865425005479568.\u001b[0m\n",
      "\u001b[32m[I 2023-08-24 14:06:16,485]\u001b[0m Trial 60 finished with value: 0.6852857455693606 and parameters: {'n_estimators': 907, 'max_depth': 26, 'num_leaves': 18, 'min_child_samples': 4, 'num_iterations': 517}. Best is trial 34 with value: 0.6865425005479568.\u001b[0m\n",
      "\u001b[32m[I 2023-08-24 14:06:18,192]\u001b[0m Trial 61 finished with value: 0.6828594856583579 and parameters: {'n_estimators': 937, 'max_depth': 26, 'num_leaves': 18, 'min_child_samples': 10, 'num_iterations': 522}. Best is trial 34 with value: 0.6865425005479568.\u001b[0m\n",
      "\u001b[32m[I 2023-08-24 14:06:19,875]\u001b[0m Trial 62 finished with value: 0.6668460152313911 and parameters: {'n_estimators': 912, 'max_depth': 24, 'num_leaves': 16, 'min_child_samples': 4, 'num_iterations': 500}. Best is trial 34 with value: 0.6865425005479568.\u001b[0m\n",
      "\u001b[32m[I 2023-08-24 14:06:22,016]\u001b[0m Trial 63 finished with value: 0.6861933520887049 and parameters: {'n_estimators': 875, 'max_depth': 28, 'num_leaves': 18, 'min_child_samples': 2, 'num_iterations': 524}. Best is trial 34 with value: 0.6865425005479568.\u001b[0m\n",
      "\u001b[32m[I 2023-08-24 14:06:24,906]\u001b[0m Trial 64 finished with value: 0.6741512757735928 and parameters: {'n_estimators': 881, 'max_depth': 30, 'num_leaves': 21, 'min_child_samples': 2, 'num_iterations': 577}. Best is trial 34 with value: 0.6865425005479568.\u001b[0m\n",
      "\u001b[32m[I 2023-08-24 14:06:27,200]\u001b[0m Trial 65 finished with value: 0.6782738807589761 and parameters: {'n_estimators': 706, 'max_depth': 28, 'num_leaves': 17, 'min_child_samples': 2, 'num_iterations': 543}. Best is trial 34 with value: 0.6865425005479568.\u001b[0m\n",
      "\u001b[32m[I 2023-08-24 14:06:30,123]\u001b[0m Trial 66 finished with value: 0.6743743777755598 and parameters: {'n_estimators': 859, 'max_depth': 22, 'num_leaves': 23, 'min_child_samples': 3, 'num_iterations': 597}. Best is trial 34 with value: 0.6865425005479568.\u001b[0m\n",
      "\u001b[32m[I 2023-08-24 14:06:31,821]\u001b[0m Trial 67 finished with value: 0.6647559617471207 and parameters: {'n_estimators': 720, 'max_depth': 20, 'num_leaves': 14, 'min_child_samples': 2, 'num_iterations': 525}. Best is trial 34 with value: 0.6865425005479568.\u001b[0m\n",
      "\u001b[32m[I 2023-08-24 14:06:35,020]\u001b[0m Trial 68 finished with value: 0.6705596696906878 and parameters: {'n_estimators': 675, 'max_depth': 28, 'num_leaves': 19, 'min_child_samples': 1, 'num_iterations': 715}. Best is trial 34 with value: 0.6865425005479568.\u001b[0m\n",
      "\u001b[32m[I 2023-08-24 14:06:37,554]\u001b[0m Trial 69 finished with value: 0.6741506889602956 and parameters: {'n_estimators': 795, 'max_depth': 27, 'num_leaves': 21, 'min_child_samples': 2, 'num_iterations': 555}. Best is trial 34 with value: 0.6865425005479568.\u001b[0m\n",
      "\u001b[32m[I 2023-08-24 14:06:38,923]\u001b[0m Trial 70 finished with value: 0.6724081328583026 and parameters: {'n_estimators': 732, 'max_depth': 18, 'num_leaves': 10, 'min_child_samples': 2, 'num_iterations': 618}. Best is trial 34 with value: 0.6865425005479568.\u001b[0m\n",
      "\u001b[32m[I 2023-08-24 14:06:41,027]\u001b[0m Trial 71 finished with value: 0.6699096430322026 and parameters: {'n_estimators': 966, 'max_depth': 24, 'num_leaves': 18, 'min_child_samples': 3, 'num_iterations': 517}. Best is trial 34 with value: 0.6865425005479568.\u001b[0m\n",
      "\u001b[32m[I 2023-08-24 14:06:42,952]\u001b[0m Trial 72 finished with value: 0.6689004688540962 and parameters: {'n_estimators': 935, 'max_depth': 25, 'num_leaves': 16, 'min_child_samples': 3, 'num_iterations': 549}. Best is trial 34 with value: 0.6865425005479568.\u001b[0m\n",
      "\u001b[32m[I 2023-08-24 14:06:43,630]\u001b[0m Trial 73 finished with value: 0.6428476470765322 and parameters: {'n_estimators': 879, 'max_depth': 29, 'num_leaves': 5, 'min_child_samples': 5, 'num_iterations': 576}. Best is trial 34 with value: 0.6865425005479568.\u001b[0m\n",
      "\u001b[32m[I 2023-08-24 14:06:45,859]\u001b[0m Trial 74 finished with value: 0.66805294459987 and parameters: {'n_estimators': 918, 'max_depth': 22, 'num_leaves': 18, 'min_child_samples': 1, 'num_iterations': 530}. Best is trial 34 with value: 0.6865425005479568.\u001b[0m\n",
      "\u001b[32m[I 2023-08-24 14:06:48,165]\u001b[0m Trial 75 finished with value: 0.6844608375040014 and parameters: {'n_estimators': 836, 'max_depth': 26, 'num_leaves': 20, 'min_child_samples': 2, 'num_iterations': 516}. Best is trial 34 with value: 0.6865425005479568.\u001b[0m\n",
      "\u001b[32m[I 2023-08-24 14:06:51,432]\u001b[0m Trial 76 finished with value: 0.6665972641216882 and parameters: {'n_estimators': 895, 'max_depth': 27, 'num_leaves': 19, 'min_child_samples': 4, 'num_iterations': 782}. Best is trial 34 with value: 0.6865425005479568.\u001b[0m\n",
      "\u001b[32m[I 2023-08-24 14:06:53,601]\u001b[0m Trial 77 finished with value: 0.6650074840445236 and parameters: {'n_estimators': 703, 'max_depth': 21, 'num_leaves': 14, 'min_child_samples': 2, 'num_iterations': 667}. Best is trial 34 with value: 0.6865425005479568.\u001b[0m\n",
      "\u001b[32m[I 2023-08-24 14:06:57,030]\u001b[0m Trial 78 finished with value: 0.6784634942316622 and parameters: {'n_estimators': 860, 'max_depth': 30, 'num_leaves': 17, 'min_child_samples': 2, 'num_iterations': 921}. Best is trial 34 with value: 0.6865425005479568.\u001b[0m\n",
      "\u001b[32m[I 2023-08-24 14:07:00,938]\u001b[0m Trial 79 finished with value: 0.6766689179298133 and parameters: {'n_estimators': 905, 'max_depth': 24, 'num_leaves': 25, 'min_child_samples': 3, 'num_iterations': 698}. Best is trial 34 with value: 0.6865425005479568.\u001b[0m\n",
      "\u001b[32m[I 2023-08-24 14:07:04,027]\u001b[0m Trial 80 finished with value: 0.679532586262843 and parameters: {'n_estimators': 762, 'max_depth': 26, 'num_leaves': 22, 'min_child_samples': 1, 'num_iterations': 586}. Best is trial 34 with value: 0.6865425005479568.\u001b[0m\n",
      "\u001b[32m[I 2023-08-24 14:07:06,184]\u001b[0m Trial 81 finished with value: 0.6790000739197615 and parameters: {'n_estimators': 834, 'max_depth': 26, 'num_leaves': 19, 'min_child_samples': 2, 'num_iterations': 511}. Best is trial 34 with value: 0.6865425005479568.\u001b[0m\n",
      "\u001b[32m[I 2023-08-24 14:07:08,422]\u001b[0m Trial 82 finished with value: 0.6839074677292721 and parameters: {'n_estimators': 779, 'max_depth': 9, 'num_leaves': 20, 'min_child_samples': 2, 'num_iterations': 514}. Best is trial 34 with value: 0.6865425005479568.\u001b[0m\n",
      "\u001b[32m[I 2023-08-24 14:07:10,973]\u001b[0m Trial 83 finished with value: 0.6739357341267544 and parameters: {'n_estimators': 804, 'max_depth': 27, 'num_leaves': 21, 'min_child_samples': 3, 'num_iterations': 537}. Best is trial 34 with value: 0.6865425005479568.\u001b[0m\n",
      "\u001b[32m[I 2023-08-24 14:07:12,666]\u001b[0m Trial 84 finished with value: 0.6770326631715339 and parameters: {'n_estimators': 831, 'max_depth': 29, 'num_leaves': 17, 'min_child_samples': 8, 'num_iterations': 500}. Best is trial 34 with value: 0.6865425005479568.\u001b[0m\n",
      "\u001b[32m[I 2023-08-24 14:07:15,287]\u001b[0m Trial 85 finished with value: 0.6680905369534805 and parameters: {'n_estimators': 870, 'max_depth': 25, 'num_leaves': 18, 'min_child_samples': 1, 'num_iterations': 570}. Best is trial 34 with value: 0.6865425005479568.\u001b[0m\n",
      "\u001b[32m[I 2023-08-24 14:07:18,185]\u001b[0m Trial 86 finished with value: 0.6793567301157033 and parameters: {'n_estimators': 850, 'max_depth': 24, 'num_leaves': 23, 'min_child_samples': 2, 'num_iterations': 560}. Best is trial 34 with value: 0.6865425005479568.\u001b[0m\n",
      "\u001b[32m[I 2023-08-24 14:07:20,209]\u001b[0m Trial 87 finished with value: 0.679202864081885 and parameters: {'n_estimators': 895, 'max_depth': 22, 'num_leaves': 20, 'min_child_samples': 6, 'num_iterations': 548}. Best is trial 34 with value: 0.6865425005479568.\u001b[0m\n",
      "\u001b[32m[I 2023-08-24 14:07:23,193]\u001b[0m Trial 88 finished with value: 0.6741698326426047 and parameters: {'n_estimators': 693, 'max_depth': 28, 'num_leaves': 21, 'min_child_samples': 2, 'num_iterations': 638}. Best is trial 34 with value: 0.6865425005479568.\u001b[0m\n",
      "\u001b[32m[I 2023-08-24 14:07:25,160]\u001b[0m Trial 89 finished with value: 0.6752368566025599 and parameters: {'n_estimators': 756, 'max_depth': 27, 'num_leaves': 16, 'min_child_samples': 1, 'num_iterations': 528}. Best is trial 34 with value: 0.6865425005479568.\u001b[0m\n",
      "\u001b[32m[I 2023-08-24 14:07:27,799]\u001b[0m Trial 90 finished with value: 0.6770160744665868 and parameters: {'n_estimators': 730, 'max_depth': 20, 'num_leaves': 19, 'min_child_samples': 3, 'num_iterations': 600}. Best is trial 34 with value: 0.6865425005479568.\u001b[0m\n",
      "\u001b[32m[I 2023-08-24 14:07:30,219]\u001b[0m Trial 91 finished with value: 0.684443141877757 and parameters: {'n_estimators': 808, 'max_depth': 26, 'num_leaves': 20, 'min_child_samples': 2, 'num_iterations': 562}. Best is trial 34 with value: 0.6865425005479568.\u001b[0m\n",
      "\u001b[32m[I 2023-08-24 14:07:33,030]\u001b[0m Trial 92 finished with value: 0.6863503731958005 and parameters: {'n_estimators': 823, 'max_depth': 26, 'num_leaves': 18, 'min_child_samples': 2, 'num_iterations': 740}. Best is trial 34 with value: 0.6865425005479568.\u001b[0m\n",
      "\u001b[32m[I 2023-08-24 14:07:35,926]\u001b[0m Trial 93 finished with value: 0.6863475757383193 and parameters: {'n_estimators': 713, 'max_depth': 25, 'num_leaves': 18, 'min_child_samples': 2, 'num_iterations': 734}. Best is trial 34 with value: 0.6865425005479568.\u001b[0m\n",
      "\u001b[32m[I 2023-08-24 14:07:38,603]\u001b[0m Trial 94 finished with value: 0.6739023291946423 and parameters: {'n_estimators': 789, 'max_depth': 23, 'num_leaves': 17, 'min_child_samples': 3, 'num_iterations': 741}. Best is trial 34 with value: 0.6865425005479568.\u001b[0m\n",
      "\u001b[32m[I 2023-08-24 14:07:41,321]\u001b[0m Trial 95 finished with value: 0.6697765878278874 and parameters: {'n_estimators': 720, 'max_depth': 25, 'num_leaves': 15, 'min_child_samples': 1, 'num_iterations': 766}. Best is trial 34 with value: 0.6865425005479568.\u001b[0m\n",
      "\u001b[32m[I 2023-08-24 14:07:44,336]\u001b[0m Trial 96 finished with value: 0.6863458117138244 and parameters: {'n_estimators': 656, 'max_depth': 21, 'num_leaves': 18, 'min_child_samples': 2, 'num_iterations': 730}. Best is trial 34 with value: 0.6865425005479568.\u001b[0m\n",
      "\u001b[32m[I 2023-08-24 14:07:46,974]\u001b[0m Trial 97 finished with value: 0.6775961910847907 and parameters: {'n_estimators': 656, 'max_depth': 21, 'num_leaves': 16, 'min_child_samples': 2, 'num_iterations': 726}. Best is trial 34 with value: 0.6865425005479568.\u001b[0m\n",
      "\u001b[32m[I 2023-08-24 14:07:49,416]\u001b[0m Trial 98 finished with value: 0.673589947951613 and parameters: {'n_estimators': 672, 'max_depth': 19, 'num_leaves': 15, 'min_child_samples': 2, 'num_iterations': 705}. Best is trial 34 with value: 0.6865425005479568.\u001b[0m\n",
      "\u001b[32m[I 2023-08-24 14:07:52,695]\u001b[0m Trial 99 finished with value: 0.6681703957842536 and parameters: {'n_estimators': 687, 'max_depth': 23, 'num_leaves': 18, 'min_child_samples': 1, 'num_iterations': 796}. Best is trial 34 with value: 0.6865425005479568.\u001b[0m\n"
     ]
    },
    {
     "name": "stdout",
     "output_type": "stream",
     "text": [
      "Best r2:  0.6865425005479568\n",
      "Best trial: {'n_estimators': 680, 'max_depth': 23, 'num_leaves': 22, 'min_child_samples': 2, 'num_iterations': 671}\n"
     ]
    }
   ],
   "source": [
    "sampler = TPESampler()\n",
    "study = optuna.create_study(\n",
    "    study_name=\"lgbm_parameter_opt\",\n",
    "    direction=\"maximize\",\n",
    "    sampler=sampler,\n",
    ")\n",
    "\n",
    "study.optimize(lambda trial : objectiveLGBM(trial, Cd_X_train, Cd_y_train), n_trials=100)\n",
    "print(\"Best r2: \", study.best_value)\n",
    "print(\"Best trial:\", study.best_trial.params)"
   ]
  },
  {
   "cell_type": "code",
   "execution_count": 37,
   "id": "861f88d8",
   "metadata": {},
   "outputs": [
    {
     "data": {
      "application/vnd.plotly.v1+json": {
       "config": {
        "plotlyServerURL": "https://plot.ly"
       },
       "data": [
        {
         "dimensions": [
          {
           "label": "Objective Value",
           "range": [
            0.5445034445559529,
            0.6865425005479568
           ],
           "values": [
            0.6787905670578132,
            0.6336174391773497,
            0.6512968051851356,
            0.6508561326885374,
            0.6630851274816172,
            0.668375546412182,
            0.6012678723516865,
            0.6678854773588042,
            0.6764254820800285,
            0.5445034445559529,
            0.6656166493839529,
            0.6712399674772342,
            0.6309530440647365,
            0.6739473690992478,
            0.6740634253905645,
            0.6752570969755636,
            0.6717209345329588,
            0.6764728745702626,
            0.6690714267139826,
            0.6681047265863159,
            0.6618250184000448,
            0.6790134782240006,
            0.6863130751298312,
            0.679012778243394,
            0.6862949697270111,
            0.6761845190062061,
            0.6824754959361587,
            0.6720387121841929,
            0.6681040362819728,
            0.6759230159910621,
            0.6088056897702939,
            0.6735495956608675,
            0.6862480066656396,
            0.673782377188041,
            0.6865425005479568,
            0.6704968451781966,
            0.668956869024678,
            0.6825421356165742,
            0.6779859616091646,
            0.6553319724357919,
            0.6605984095422219,
            0.682541409932677,
            0.6760609088678637,
            0.6680912922770419,
            0.6782864679424706,
            0.6691589251128363,
            0.679364319505952,
            0.671887619965767,
            0.6753378174465802,
            0.6691023088012057,
            0.6825480696717714,
            0.6766686117575595,
            0.6865406313616018,
            0.6645713381773316,
            0.6844418028314291,
            0.684445409668635,
            0.6861926026902354,
            0.6680440633215567,
            0.6774153816258637,
            0.6566082051131668,
            0.6852857455693606,
            0.6828594856583579,
            0.6668460152313911,
            0.6861933520887049,
            0.6741512757735928,
            0.6782738807589761,
            0.6743743777755598,
            0.6647559617471207,
            0.6705596696906878,
            0.6741506889602956,
            0.6724081328583026,
            0.6699096430322026,
            0.6689004688540962,
            0.6428476470765322,
            0.66805294459987,
            0.6844608375040014,
            0.6665972641216882,
            0.6650074840445236,
            0.6784634942316622,
            0.6766689179298133,
            0.679532586262843,
            0.6790000739197615,
            0.6839074677292721,
            0.6739357341267544,
            0.6770326631715339,
            0.6680905369534805,
            0.6793567301157033,
            0.679202864081885,
            0.6741698326426047,
            0.6752368566025599,
            0.6770160744665868,
            0.684443141877757,
            0.6863503731958005,
            0.6863475757383193,
            0.6739023291946423,
            0.6697765878278874,
            0.6863458117138244,
            0.6775961910847907,
            0.673589947951613,
            0.6681703957842536
           ]
          },
          {
           "label": "max_depth",
           "range": [
            2,
            30
           ],
           "values": [
            26,
            8,
            11,
            14,
            24,
            13,
            19,
            9,
            24,
            19,
            30,
            29,
            3,
            25,
            23,
            18,
            27,
            21,
            21,
            17,
            27,
            21,
            22,
            22,
            22,
            16,
            20,
            14,
            19,
            27,
            2,
            21,
            20,
            16,
            23,
            25,
            23,
            23,
            12,
            26,
            6,
            23,
            18,
            24,
            22,
            29,
            19,
            25,
            14,
            20,
            23,
            23,
            26,
            28,
            25,
            26,
            30,
            30,
            28,
            29,
            26,
            26,
            24,
            28,
            30,
            28,
            22,
            20,
            28,
            27,
            18,
            24,
            25,
            29,
            22,
            26,
            27,
            21,
            30,
            24,
            26,
            26,
            9,
            27,
            29,
            25,
            24,
            22,
            28,
            27,
            20,
            26,
            26,
            25,
            23,
            25,
            21,
            21,
            19,
            23
           ]
          },
          {
           "label": "min_child_samples",
           "range": [
            1,
            10
           ],
           "values": [
            6,
            9,
            9,
            10,
            10,
            9,
            3,
            1,
            1,
            7,
            5,
            5,
            1,
            3,
            7,
            3,
            7,
            4,
            4,
            6,
            6,
            2,
            2,
            2,
            2,
            2,
            2,
            4,
            2,
            3,
            1,
            2,
            2,
            3,
            2,
            1,
            4,
            3,
            2,
            1,
            3,
            3,
            2,
            1,
            3,
            5,
            2,
            8,
            1,
            4,
            3,
            3,
            2,
            1,
            2,
            2,
            2,
            1,
            2,
            1,
            4,
            10,
            4,
            2,
            2,
            2,
            3,
            2,
            1,
            2,
            2,
            3,
            3,
            5,
            1,
            2,
            4,
            2,
            2,
            3,
            1,
            2,
            2,
            3,
            8,
            1,
            2,
            6,
            2,
            1,
            3,
            2,
            2,
            2,
            3,
            1,
            2,
            2,
            2,
            1
           ]
          },
          {
           "label": "n_estimators",
           "range": [
            511,
            989
           ],
           "values": [
            863,
            762,
            521,
            538,
            897,
            915,
            566,
            588,
            670,
            825,
            950,
            664,
            699,
            820,
            653,
            768,
            989,
            845,
            844,
            884,
            795,
            718,
            709,
            723,
            709,
            614,
            728,
            642,
            739,
            698,
            783,
            711,
            750,
            753,
            680,
            615,
            684,
            629,
            511,
            579,
            803,
            629,
            551,
            681,
            761,
            661,
            613,
            691,
            590,
            642,
            744,
            743,
            777,
            769,
            816,
            818,
            841,
            865,
            781,
            841,
            907,
            937,
            912,
            875,
            881,
            706,
            859,
            720,
            675,
            795,
            732,
            966,
            935,
            879,
            918,
            836,
            895,
            703,
            860,
            905,
            762,
            834,
            779,
            804,
            831,
            870,
            850,
            895,
            693,
            756,
            730,
            808,
            823,
            713,
            789,
            720,
            656,
            656,
            672,
            687
           ]
          },
          {
           "label": "num_iterations",
           "range": [
            500,
            992
           ],
           "values": [
            656,
            904,
            766,
            550,
            885,
            508,
            862,
            795,
            576,
            940,
            654,
            633,
            644,
            596,
            717,
            710,
            573,
            521,
            515,
            677,
            992,
            608,
            614,
            617,
            590,
            697,
            813,
            824,
            747,
            823,
            764,
            609,
            548,
            546,
            671,
            559,
            542,
            681,
            592,
            733,
            672,
            677,
            631,
            572,
            654,
            693,
            623,
            536,
            585,
            503,
            652,
            651,
            666,
            636,
            563,
            561,
            526,
            532,
            596,
            609,
            517,
            522,
            500,
            524,
            577,
            543,
            597,
            525,
            715,
            555,
            618,
            517,
            549,
            576,
            530,
            516,
            782,
            667,
            921,
            698,
            586,
            511,
            514,
            537,
            500,
            570,
            560,
            548,
            638,
            528,
            600,
            562,
            740,
            734,
            741,
            766,
            730,
            726,
            705,
            796
           ]
          },
          {
           "label": "num_leaves",
           "range": [
            2,
            32
           ],
           "values": [
            21,
            4,
            5,
            7,
            12,
            11,
            3,
            17,
            21,
            2,
            32,
            26,
            23,
            21,
            17,
            28,
            21,
            15,
            13,
            15,
            9,
            19,
            18,
            19,
            18,
            26,
            24,
            24,
            30,
            24,
            19,
            15,
            18,
            17,
            22,
            19,
            13,
            22,
            17,
            9,
            15,
            22,
            26,
            18,
            20,
            22,
            23,
            20,
            16,
            12,
            22,
            25,
            22,
            28,
            20,
            20,
            18,
            18,
            16,
            14,
            18,
            18,
            16,
            18,
            21,
            17,
            23,
            14,
            19,
            21,
            10,
            18,
            16,
            5,
            18,
            20,
            19,
            14,
            17,
            25,
            22,
            19,
            20,
            21,
            17,
            18,
            23,
            20,
            21,
            16,
            19,
            20,
            18,
            18,
            17,
            15,
            18,
            16,
            15,
            18
           ]
          }
         ],
         "labelangle": 30,
         "labelside": "bottom",
         "line": {
          "color": [
           0.6787905670578132,
           0.6336174391773497,
           0.6512968051851356,
           0.6508561326885374,
           0.6630851274816172,
           0.668375546412182,
           0.6012678723516865,
           0.6678854773588042,
           0.6764254820800285,
           0.5445034445559529,
           0.6656166493839529,
           0.6712399674772342,
           0.6309530440647365,
           0.6739473690992478,
           0.6740634253905645,
           0.6752570969755636,
           0.6717209345329588,
           0.6764728745702626,
           0.6690714267139826,
           0.6681047265863159,
           0.6618250184000448,
           0.6790134782240006,
           0.6863130751298312,
           0.679012778243394,
           0.6862949697270111,
           0.6761845190062061,
           0.6824754959361587,
           0.6720387121841929,
           0.6681040362819728,
           0.6759230159910621,
           0.6088056897702939,
           0.6735495956608675,
           0.6862480066656396,
           0.673782377188041,
           0.6865425005479568,
           0.6704968451781966,
           0.668956869024678,
           0.6825421356165742,
           0.6779859616091646,
           0.6553319724357919,
           0.6605984095422219,
           0.682541409932677,
           0.6760609088678637,
           0.6680912922770419,
           0.6782864679424706,
           0.6691589251128363,
           0.679364319505952,
           0.671887619965767,
           0.6753378174465802,
           0.6691023088012057,
           0.6825480696717714,
           0.6766686117575595,
           0.6865406313616018,
           0.6645713381773316,
           0.6844418028314291,
           0.684445409668635,
           0.6861926026902354,
           0.6680440633215567,
           0.6774153816258637,
           0.6566082051131668,
           0.6852857455693606,
           0.6828594856583579,
           0.6668460152313911,
           0.6861933520887049,
           0.6741512757735928,
           0.6782738807589761,
           0.6743743777755598,
           0.6647559617471207,
           0.6705596696906878,
           0.6741506889602956,
           0.6724081328583026,
           0.6699096430322026,
           0.6689004688540962,
           0.6428476470765322,
           0.66805294459987,
           0.6844608375040014,
           0.6665972641216882,
           0.6650074840445236,
           0.6784634942316622,
           0.6766689179298133,
           0.679532586262843,
           0.6790000739197615,
           0.6839074677292721,
           0.6739357341267544,
           0.6770326631715339,
           0.6680905369534805,
           0.6793567301157033,
           0.679202864081885,
           0.6741698326426047,
           0.6752368566025599,
           0.6770160744665868,
           0.684443141877757,
           0.6863503731958005,
           0.6863475757383193,
           0.6739023291946423,
           0.6697765878278874,
           0.6863458117138244,
           0.6775961910847907,
           0.673589947951613,
           0.6681703957842536
          ],
          "colorbar": {
           "title": {
            "text": "Objective Value"
           }
          },
          "colorscale": [
           [
            0,
            "rgb(247,251,255)"
           ],
           [
            0.125,
            "rgb(222,235,247)"
           ],
           [
            0.25,
            "rgb(198,219,239)"
           ],
           [
            0.375,
            "rgb(158,202,225)"
           ],
           [
            0.5,
            "rgb(107,174,214)"
           ],
           [
            0.625,
            "rgb(66,146,198)"
           ],
           [
            0.75,
            "rgb(33,113,181)"
           ],
           [
            0.875,
            "rgb(8,81,156)"
           ],
           [
            1,
            "rgb(8,48,107)"
           ]
          ],
          "reversescale": false,
          "showscale": true
         },
         "type": "parcoords"
        }
       ],
       "layout": {
        "template": {
         "data": {
          "bar": [
           {
            "error_x": {
             "color": "#2a3f5f"
            },
            "error_y": {
             "color": "#2a3f5f"
            },
            "marker": {
             "line": {
              "color": "#E5ECF6",
              "width": 0.5
             },
             "pattern": {
              "fillmode": "overlay",
              "size": 10,
              "solidity": 0.2
             }
            },
            "type": "bar"
           }
          ],
          "barpolar": [
           {
            "marker": {
             "line": {
              "color": "#E5ECF6",
              "width": 0.5
             },
             "pattern": {
              "fillmode": "overlay",
              "size": 10,
              "solidity": 0.2
             }
            },
            "type": "barpolar"
           }
          ],
          "carpet": [
           {
            "aaxis": {
             "endlinecolor": "#2a3f5f",
             "gridcolor": "white",
             "linecolor": "white",
             "minorgridcolor": "white",
             "startlinecolor": "#2a3f5f"
            },
            "baxis": {
             "endlinecolor": "#2a3f5f",
             "gridcolor": "white",
             "linecolor": "white",
             "minorgridcolor": "white",
             "startlinecolor": "#2a3f5f"
            },
            "type": "carpet"
           }
          ],
          "choropleth": [
           {
            "colorbar": {
             "outlinewidth": 0,
             "ticks": ""
            },
            "type": "choropleth"
           }
          ],
          "contour": [
           {
            "colorbar": {
             "outlinewidth": 0,
             "ticks": ""
            },
            "colorscale": [
             [
              0,
              "#0d0887"
             ],
             [
              0.1111111111111111,
              "#46039f"
             ],
             [
              0.2222222222222222,
              "#7201a8"
             ],
             [
              0.3333333333333333,
              "#9c179e"
             ],
             [
              0.4444444444444444,
              "#bd3786"
             ],
             [
              0.5555555555555556,
              "#d8576b"
             ],
             [
              0.6666666666666666,
              "#ed7953"
             ],
             [
              0.7777777777777778,
              "#fb9f3a"
             ],
             [
              0.8888888888888888,
              "#fdca26"
             ],
             [
              1,
              "#f0f921"
             ]
            ],
            "type": "contour"
           }
          ],
          "contourcarpet": [
           {
            "colorbar": {
             "outlinewidth": 0,
             "ticks": ""
            },
            "type": "contourcarpet"
           }
          ],
          "heatmap": [
           {
            "colorbar": {
             "outlinewidth": 0,
             "ticks": ""
            },
            "colorscale": [
             [
              0,
              "#0d0887"
             ],
             [
              0.1111111111111111,
              "#46039f"
             ],
             [
              0.2222222222222222,
              "#7201a8"
             ],
             [
              0.3333333333333333,
              "#9c179e"
             ],
             [
              0.4444444444444444,
              "#bd3786"
             ],
             [
              0.5555555555555556,
              "#d8576b"
             ],
             [
              0.6666666666666666,
              "#ed7953"
             ],
             [
              0.7777777777777778,
              "#fb9f3a"
             ],
             [
              0.8888888888888888,
              "#fdca26"
             ],
             [
              1,
              "#f0f921"
             ]
            ],
            "type": "heatmap"
           }
          ],
          "heatmapgl": [
           {
            "colorbar": {
             "outlinewidth": 0,
             "ticks": ""
            },
            "colorscale": [
             [
              0,
              "#0d0887"
             ],
             [
              0.1111111111111111,
              "#46039f"
             ],
             [
              0.2222222222222222,
              "#7201a8"
             ],
             [
              0.3333333333333333,
              "#9c179e"
             ],
             [
              0.4444444444444444,
              "#bd3786"
             ],
             [
              0.5555555555555556,
              "#d8576b"
             ],
             [
              0.6666666666666666,
              "#ed7953"
             ],
             [
              0.7777777777777778,
              "#fb9f3a"
             ],
             [
              0.8888888888888888,
              "#fdca26"
             ],
             [
              1,
              "#f0f921"
             ]
            ],
            "type": "heatmapgl"
           }
          ],
          "histogram": [
           {
            "marker": {
             "pattern": {
              "fillmode": "overlay",
              "size": 10,
              "solidity": 0.2
             }
            },
            "type": "histogram"
           }
          ],
          "histogram2d": [
           {
            "colorbar": {
             "outlinewidth": 0,
             "ticks": ""
            },
            "colorscale": [
             [
              0,
              "#0d0887"
             ],
             [
              0.1111111111111111,
              "#46039f"
             ],
             [
              0.2222222222222222,
              "#7201a8"
             ],
             [
              0.3333333333333333,
              "#9c179e"
             ],
             [
              0.4444444444444444,
              "#bd3786"
             ],
             [
              0.5555555555555556,
              "#d8576b"
             ],
             [
              0.6666666666666666,
              "#ed7953"
             ],
             [
              0.7777777777777778,
              "#fb9f3a"
             ],
             [
              0.8888888888888888,
              "#fdca26"
             ],
             [
              1,
              "#f0f921"
             ]
            ],
            "type": "histogram2d"
           }
          ],
          "histogram2dcontour": [
           {
            "colorbar": {
             "outlinewidth": 0,
             "ticks": ""
            },
            "colorscale": [
             [
              0,
              "#0d0887"
             ],
             [
              0.1111111111111111,
              "#46039f"
             ],
             [
              0.2222222222222222,
              "#7201a8"
             ],
             [
              0.3333333333333333,
              "#9c179e"
             ],
             [
              0.4444444444444444,
              "#bd3786"
             ],
             [
              0.5555555555555556,
              "#d8576b"
             ],
             [
              0.6666666666666666,
              "#ed7953"
             ],
             [
              0.7777777777777778,
              "#fb9f3a"
             ],
             [
              0.8888888888888888,
              "#fdca26"
             ],
             [
              1,
              "#f0f921"
             ]
            ],
            "type": "histogram2dcontour"
           }
          ],
          "mesh3d": [
           {
            "colorbar": {
             "outlinewidth": 0,
             "ticks": ""
            },
            "type": "mesh3d"
           }
          ],
          "parcoords": [
           {
            "line": {
             "colorbar": {
              "outlinewidth": 0,
              "ticks": ""
             }
            },
            "type": "parcoords"
           }
          ],
          "pie": [
           {
            "automargin": true,
            "type": "pie"
           }
          ],
          "scatter": [
           {
            "marker": {
             "colorbar": {
              "outlinewidth": 0,
              "ticks": ""
             }
            },
            "type": "scatter"
           }
          ],
          "scatter3d": [
           {
            "line": {
             "colorbar": {
              "outlinewidth": 0,
              "ticks": ""
             }
            },
            "marker": {
             "colorbar": {
              "outlinewidth": 0,
              "ticks": ""
             }
            },
            "type": "scatter3d"
           }
          ],
          "scattercarpet": [
           {
            "marker": {
             "colorbar": {
              "outlinewidth": 0,
              "ticks": ""
             }
            },
            "type": "scattercarpet"
           }
          ],
          "scattergeo": [
           {
            "marker": {
             "colorbar": {
              "outlinewidth": 0,
              "ticks": ""
             }
            },
            "type": "scattergeo"
           }
          ],
          "scattergl": [
           {
            "marker": {
             "colorbar": {
              "outlinewidth": 0,
              "ticks": ""
             }
            },
            "type": "scattergl"
           }
          ],
          "scattermapbox": [
           {
            "marker": {
             "colorbar": {
              "outlinewidth": 0,
              "ticks": ""
             }
            },
            "type": "scattermapbox"
           }
          ],
          "scatterpolar": [
           {
            "marker": {
             "colorbar": {
              "outlinewidth": 0,
              "ticks": ""
             }
            },
            "type": "scatterpolar"
           }
          ],
          "scatterpolargl": [
           {
            "marker": {
             "colorbar": {
              "outlinewidth": 0,
              "ticks": ""
             }
            },
            "type": "scatterpolargl"
           }
          ],
          "scatterternary": [
           {
            "marker": {
             "colorbar": {
              "outlinewidth": 0,
              "ticks": ""
             }
            },
            "type": "scatterternary"
           }
          ],
          "surface": [
           {
            "colorbar": {
             "outlinewidth": 0,
             "ticks": ""
            },
            "colorscale": [
             [
              0,
              "#0d0887"
             ],
             [
              0.1111111111111111,
              "#46039f"
             ],
             [
              0.2222222222222222,
              "#7201a8"
             ],
             [
              0.3333333333333333,
              "#9c179e"
             ],
             [
              0.4444444444444444,
              "#bd3786"
             ],
             [
              0.5555555555555556,
              "#d8576b"
             ],
             [
              0.6666666666666666,
              "#ed7953"
             ],
             [
              0.7777777777777778,
              "#fb9f3a"
             ],
             [
              0.8888888888888888,
              "#fdca26"
             ],
             [
              1,
              "#f0f921"
             ]
            ],
            "type": "surface"
           }
          ],
          "table": [
           {
            "cells": {
             "fill": {
              "color": "#EBF0F8"
             },
             "line": {
              "color": "white"
             }
            },
            "header": {
             "fill": {
              "color": "#C8D4E3"
             },
             "line": {
              "color": "white"
             }
            },
            "type": "table"
           }
          ]
         },
         "layout": {
          "annotationdefaults": {
           "arrowcolor": "#2a3f5f",
           "arrowhead": 0,
           "arrowwidth": 1
          },
          "autotypenumbers": "strict",
          "coloraxis": {
           "colorbar": {
            "outlinewidth": 0,
            "ticks": ""
           }
          },
          "colorscale": {
           "diverging": [
            [
             0,
             "#8e0152"
            ],
            [
             0.1,
             "#c51b7d"
            ],
            [
             0.2,
             "#de77ae"
            ],
            [
             0.3,
             "#f1b6da"
            ],
            [
             0.4,
             "#fde0ef"
            ],
            [
             0.5,
             "#f7f7f7"
            ],
            [
             0.6,
             "#e6f5d0"
            ],
            [
             0.7,
             "#b8e186"
            ],
            [
             0.8,
             "#7fbc41"
            ],
            [
             0.9,
             "#4d9221"
            ],
            [
             1,
             "#276419"
            ]
           ],
           "sequential": [
            [
             0,
             "#0d0887"
            ],
            [
             0.1111111111111111,
             "#46039f"
            ],
            [
             0.2222222222222222,
             "#7201a8"
            ],
            [
             0.3333333333333333,
             "#9c179e"
            ],
            [
             0.4444444444444444,
             "#bd3786"
            ],
            [
             0.5555555555555556,
             "#d8576b"
            ],
            [
             0.6666666666666666,
             "#ed7953"
            ],
            [
             0.7777777777777778,
             "#fb9f3a"
            ],
            [
             0.8888888888888888,
             "#fdca26"
            ],
            [
             1,
             "#f0f921"
            ]
           ],
           "sequentialminus": [
            [
             0,
             "#0d0887"
            ],
            [
             0.1111111111111111,
             "#46039f"
            ],
            [
             0.2222222222222222,
             "#7201a8"
            ],
            [
             0.3333333333333333,
             "#9c179e"
            ],
            [
             0.4444444444444444,
             "#bd3786"
            ],
            [
             0.5555555555555556,
             "#d8576b"
            ],
            [
             0.6666666666666666,
             "#ed7953"
            ],
            [
             0.7777777777777778,
             "#fb9f3a"
            ],
            [
             0.8888888888888888,
             "#fdca26"
            ],
            [
             1,
             "#f0f921"
            ]
           ]
          },
          "colorway": [
           "#636efa",
           "#EF553B",
           "#00cc96",
           "#ab63fa",
           "#FFA15A",
           "#19d3f3",
           "#FF6692",
           "#B6E880",
           "#FF97FF",
           "#FECB52"
          ],
          "font": {
           "color": "#2a3f5f"
          },
          "geo": {
           "bgcolor": "white",
           "lakecolor": "white",
           "landcolor": "#E5ECF6",
           "showlakes": true,
           "showland": true,
           "subunitcolor": "white"
          },
          "hoverlabel": {
           "align": "left"
          },
          "hovermode": "closest",
          "mapbox": {
           "style": "light"
          },
          "paper_bgcolor": "white",
          "plot_bgcolor": "#E5ECF6",
          "polar": {
           "angularaxis": {
            "gridcolor": "white",
            "linecolor": "white",
            "ticks": ""
           },
           "bgcolor": "#E5ECF6",
           "radialaxis": {
            "gridcolor": "white",
            "linecolor": "white",
            "ticks": ""
           }
          },
          "scene": {
           "xaxis": {
            "backgroundcolor": "#E5ECF6",
            "gridcolor": "white",
            "gridwidth": 2,
            "linecolor": "white",
            "showbackground": true,
            "ticks": "",
            "zerolinecolor": "white"
           },
           "yaxis": {
            "backgroundcolor": "#E5ECF6",
            "gridcolor": "white",
            "gridwidth": 2,
            "linecolor": "white",
            "showbackground": true,
            "ticks": "",
            "zerolinecolor": "white"
           },
           "zaxis": {
            "backgroundcolor": "#E5ECF6",
            "gridcolor": "white",
            "gridwidth": 2,
            "linecolor": "white",
            "showbackground": true,
            "ticks": "",
            "zerolinecolor": "white"
           }
          },
          "shapedefaults": {
           "line": {
            "color": "#2a3f5f"
           }
          },
          "ternary": {
           "aaxis": {
            "gridcolor": "white",
            "linecolor": "white",
            "ticks": ""
           },
           "baxis": {
            "gridcolor": "white",
            "linecolor": "white",
            "ticks": ""
           },
           "bgcolor": "#E5ECF6",
           "caxis": {
            "gridcolor": "white",
            "linecolor": "white",
            "ticks": ""
           }
          },
          "title": {
           "x": 0.05
          },
          "xaxis": {
           "automargin": true,
           "gridcolor": "white",
           "linecolor": "white",
           "ticks": "",
           "title": {
            "standoff": 15
           },
           "zerolinecolor": "white",
           "zerolinewidth": 2
          },
          "yaxis": {
           "automargin": true,
           "gridcolor": "white",
           "linecolor": "white",
           "ticks": "",
           "title": {
            "standoff": 15
           },
           "zerolinecolor": "white",
           "zerolinewidth": 2
          }
         }
        },
        "title": {
         "text": "Parallel Coordinate Plot"
        }
       }
      }
     },
     "metadata": {},
     "output_type": "display_data"
    }
   ],
   "source": [
    "optuna.visualization.plot_parallel_coordinate(study)"
   ]
  },
  {
   "cell_type": "code",
   "execution_count": 38,
   "id": "4afa60aa",
   "metadata": {},
   "outputs": [
    {
     "name": "stdout",
     "output_type": "stream",
     "text": [
      "Best trial: {'n_estimators': 680, 'max_depth': 23, 'num_leaves': 22, 'min_child_samples': 2, 'num_iterations': 671}\n"
     ]
    },
    {
     "data": {
      "text/plain": [
       "680"
      ]
     },
     "execution_count": 38,
     "metadata": {},
     "output_type": "execute_result"
    }
   ],
   "source": [
    "print(\"Best trial:\", study.best_trial.params)\n",
    "study.best_trial.params[\"n_estimators\"]"
   ]
  },
  {
   "cell_type": "code",
   "execution_count": 39,
   "id": "3b45adad",
   "metadata": {},
   "outputs": [
    {
     "data": {
      "text/html": [
       "<style>#sk-container-id-2 {color: black;}#sk-container-id-2 pre{padding: 0;}#sk-container-id-2 div.sk-toggleable {background-color: white;}#sk-container-id-2 label.sk-toggleable__label {cursor: pointer;display: block;width: 100%;margin-bottom: 0;padding: 0.3em;box-sizing: border-box;text-align: center;}#sk-container-id-2 label.sk-toggleable__label-arrow:before {content: \"▸\";float: left;margin-right: 0.25em;color: #696969;}#sk-container-id-2 label.sk-toggleable__label-arrow:hover:before {color: black;}#sk-container-id-2 div.sk-estimator:hover label.sk-toggleable__label-arrow:before {color: black;}#sk-container-id-2 div.sk-toggleable__content {max-height: 0;max-width: 0;overflow: hidden;text-align: left;background-color: #f0f8ff;}#sk-container-id-2 div.sk-toggleable__content pre {margin: 0.2em;color: black;border-radius: 0.25em;background-color: #f0f8ff;}#sk-container-id-2 input.sk-toggleable__control:checked~div.sk-toggleable__content {max-height: 200px;max-width: 100%;overflow: auto;}#sk-container-id-2 input.sk-toggleable__control:checked~label.sk-toggleable__label-arrow:before {content: \"▾\";}#sk-container-id-2 div.sk-estimator input.sk-toggleable__control:checked~label.sk-toggleable__label {background-color: #d4ebff;}#sk-container-id-2 div.sk-label input.sk-toggleable__control:checked~label.sk-toggleable__label {background-color: #d4ebff;}#sk-container-id-2 input.sk-hidden--visually {border: 0;clip: rect(1px 1px 1px 1px);clip: rect(1px, 1px, 1px, 1px);height: 1px;margin: -1px;overflow: hidden;padding: 0;position: absolute;width: 1px;}#sk-container-id-2 div.sk-estimator {font-family: monospace;background-color: #f0f8ff;border: 1px dotted black;border-radius: 0.25em;box-sizing: border-box;margin-bottom: 0.5em;}#sk-container-id-2 div.sk-estimator:hover {background-color: #d4ebff;}#sk-container-id-2 div.sk-parallel-item::after {content: \"\";width: 100%;border-bottom: 1px solid gray;flex-grow: 1;}#sk-container-id-2 div.sk-label:hover label.sk-toggleable__label {background-color: #d4ebff;}#sk-container-id-2 div.sk-serial::before {content: \"\";position: absolute;border-left: 1px solid gray;box-sizing: border-box;top: 0;bottom: 0;left: 50%;z-index: 0;}#sk-container-id-2 div.sk-serial {display: flex;flex-direction: column;align-items: center;background-color: white;padding-right: 0.2em;padding-left: 0.2em;position: relative;}#sk-container-id-2 div.sk-item {position: relative;z-index: 1;}#sk-container-id-2 div.sk-parallel {display: flex;align-items: stretch;justify-content: center;background-color: white;position: relative;}#sk-container-id-2 div.sk-item::before, #sk-container-id-2 div.sk-parallel-item::before {content: \"\";position: absolute;border-left: 1px solid gray;box-sizing: border-box;top: 0;bottom: 0;left: 50%;z-index: -1;}#sk-container-id-2 div.sk-parallel-item {display: flex;flex-direction: column;z-index: 1;position: relative;background-color: white;}#sk-container-id-2 div.sk-parallel-item:first-child::after {align-self: flex-end;width: 50%;}#sk-container-id-2 div.sk-parallel-item:last-child::after {align-self: flex-start;width: 50%;}#sk-container-id-2 div.sk-parallel-item:only-child::after {width: 0;}#sk-container-id-2 div.sk-dashed-wrapped {border: 1px dashed gray;margin: 0 0.4em 0.5em 0.4em;box-sizing: border-box;padding-bottom: 0.4em;background-color: white;}#sk-container-id-2 div.sk-label label {font-family: monospace;font-weight: bold;display: inline-block;line-height: 1.2em;}#sk-container-id-2 div.sk-label-container {text-align: center;}#sk-container-id-2 div.sk-container {/* jupyter's `normalize.less` sets `[hidden] { display: none; }` but bootstrap.min.css set `[hidden] { display: none !important; }` so we also need the `!important` here to be able to override the default hidden behavior on the sphinx rendered scikit-learn.org. See: https://github.com/scikit-learn/scikit-learn/issues/21755 */display: inline-block !important;position: relative;}#sk-container-id-2 div.sk-text-repr-fallback {display: none;}</style><div id=\"sk-container-id-2\" class=\"sk-top-container\"><div class=\"sk-text-repr-fallback\"><pre>LGBMRegressor(max_depth=23, min_child_samples=2, n_estimators=680,\n",
       "              num_iterations=671, num_leaves=22, random_state=42)</pre><b>In a Jupyter environment, please rerun this cell to show the HTML representation or trust the notebook. <br />On GitHub, the HTML representation is unable to render, please try loading this page with nbviewer.org.</b></div><div class=\"sk-container\" hidden><div class=\"sk-item\"><div class=\"sk-estimator sk-toggleable\"><input class=\"sk-toggleable__control sk-hidden--visually\" id=\"sk-estimator-id-2\" type=\"checkbox\" checked><label for=\"sk-estimator-id-2\" class=\"sk-toggleable__label sk-toggleable__label-arrow\">LGBMRegressor</label><div class=\"sk-toggleable__content\"><pre>LGBMRegressor(max_depth=23, min_child_samples=2, n_estimators=680,\n",
       "              num_iterations=671, num_leaves=22, random_state=42)</pre></div></div></div></div></div>"
      ],
      "text/plain": [
       "LGBMRegressor(max_depth=23, min_child_samples=2, n_estimators=680,\n",
       "              num_iterations=671, num_leaves=22, random_state=42)"
      ]
     },
     "execution_count": 39,
     "metadata": {},
     "output_type": "execute_result"
    }
   ],
   "source": [
    "lgbm_params = {\n",
    "    \"random_state\": 42,\n",
    "    \"learning_rate\": 0.1,\n",
    "    \"n_estimators\": study.best_trial.params[\"n_estimators\"],\n",
    "    \"max_depth\": study.best_trial.params[\"max_depth\"],\n",
    "    \"num_leaves\": study.best_trial.params[\"num_leaves\"],\n",
    "    \"min_child_samples\": study.best_trial.params[\"min_child_samples\"],\n",
    "    \"num_iterations\": study.best_trial.params[\"num_iterations\"]\n",
    "}\n",
    "\n",
    "lgbm = LGBMRegressor(**lgbm_params)\n",
    "lgbm.fit(Cd_X_train, Cd_y_train)"
   ]
  },
  {
   "cell_type": "code",
   "execution_count": 40,
   "id": "9ab1055b",
   "metadata": {},
   "outputs": [],
   "source": [
    "y_train_pred = lgbm.predict(Cd_X_train)\n",
    "y_test_pred = lgbm.predict(Cd_X_test)"
   ]
  },
  {
   "cell_type": "code",
   "execution_count": 41,
   "id": "425b4001",
   "metadata": {},
   "outputs": [
    {
     "name": "stdout",
     "output_type": "stream",
     "text": [
      "Train RMSE:  0.01744880871759543\n",
      "Test RMSE:  0.2632671989804146\n"
     ]
    }
   ],
   "source": [
    "print(\"Train RMSE: \", np.sqrt(mean_squared_error(Cd_y_train, y_train_pred)))\n",
    "print(\"Test RMSE: \", np.sqrt(mean_squared_error(Cd_y_test, y_test_pred)))"
   ]
  },
  {
   "cell_type": "code",
   "execution_count": 42,
   "id": "0f95ae3c",
   "metadata": {},
   "outputs": [
    {
     "name": "stdout",
     "output_type": "stream",
     "text": [
      "Train R2:  0.9973612743595583\n",
      "Test R2:  0.36407450549991505\n"
     ]
    }
   ],
   "source": [
    "print(\"Train R2: \", r2_score(Cd_y_train, y_train_pred))\n",
    "print(\"Test R2: \", r2_score(Cd_y_test, y_test_pred))"
   ]
  },
  {
   "cell_type": "code",
   "execution_count": 43,
   "id": "d01dda76",
   "metadata": {},
   "outputs": [
    {
     "data": {
      "image/png": "[encoded data removed]",
      "text/plain": [
       "<Figure size 640x480 with 1 Axes>"
      ]
     },
     "metadata": {},
     "output_type": "display_data"
    }
   ],
   "source": [
    "plt.scatter(y_train_pred, np.array(Cd_y_train), color=\"orange\", alpha=0.3)\n",
    "plt.scatter(y_test_pred, np.array(Cd_y_test), color=\"green\", alpha=0.4)\n",
    "plt.axis(\"auto\") # scaled, tight, auto, image, square\n",
    "# plt.xlim([0, 1.5]) \n",
    "# plt.ylim(0, None) \n",
    "plt.xlabel('Predicted Values')\n",
    "plt.ylabel('Actual Values')\n",
    "\n",
    "# Add y=x line\n",
    "plt.plot([0, 4], [0, 4], color='red', linestyle='-')\n",
    "\n",
    "plt.show()"
   ]
  },
  {
   "attachments": {},
   "cell_type": "markdown",
   "id": "74f680ea",
   "metadata": {},
   "source": [
    "Ni"
   ]
  },
  {
   "cell_type": "code",
   "execution_count": 44,
   "id": "de233338",
   "metadata": {},
   "outputs": [
    {
     "name": "stderr",
     "output_type": "stream",
     "text": [
      "\u001b[32m[I 2023-08-24 14:07:53,645]\u001b[0m A new study created in memory with name: lgbm_parameter_opt\u001b[0m\n",
      "\u001b[32m[I 2023-08-24 14:07:54,264]\u001b[0m Trial 0 finished with value: 0.6714357775292569 and parameters: {'n_estimators': 951, 'max_depth': 2, 'num_leaves': 18, 'min_child_samples': 3, 'num_iterations': 648}. Best is trial 0 with value: 0.6714357775292569.\u001b[0m\n",
      "\u001b[32m[I 2023-08-24 14:07:55,130]\u001b[0m Trial 1 finished with value: 0.7181967342855865 and parameters: {'n_estimators': 978, 'max_depth': 12, 'num_leaves': 5, 'min_child_samples': 10, 'num_iterations': 672}. Best is trial 1 with value: 0.7181967342855865.\u001b[0m\n",
      "\u001b[32m[I 2023-08-24 14:07:59,212]\u001b[0m Trial 2 finished with value: 0.717361205617169 and parameters: {'n_estimators': 649, 'max_depth': 15, 'num_leaves': 27, 'min_child_samples': 10, 'num_iterations': 656}. Best is trial 1 with value: 0.7181967342855865.\u001b[0m\n",
      "\u001b[32m[I 2023-08-24 14:07:59,978]\u001b[0m Trial 3 finished with value: 0.6933545177944771 and parameters: {'n_estimators': 703, 'max_depth': 2, 'num_leaves': 19, 'min_child_samples': 8, 'num_iterations': 849}. Best is trial 1 with value: 0.7181967342855865.\u001b[0m\n",
      "\u001b[32m[I 2023-08-24 14:08:02,397]\u001b[0m Trial 4 finished with value: 0.7209538719384531 and parameters: {'n_estimators': 526, 'max_depth': 10, 'num_leaves': 14, 'min_child_samples': 8, 'num_iterations': 687}. Best is trial 4 with value: 0.7209538719384531.\u001b[0m\n",
      "\u001b[32m[I 2023-08-24 14:08:07,713]\u001b[0m Trial 5 finished with value: 0.7147083926245299 and parameters: {'n_estimators': 654, 'max_depth': 28, 'num_leaves': 25, 'min_child_samples': 7, 'num_iterations': 933}. Best is trial 4 with value: 0.7209538719384531.\u001b[0m\n",
      "\u001b[32m[I 2023-08-24 14:08:12,584]\u001b[0m Trial 6 finished with value: 0.6828856576485383 and parameters: {'n_estimators': 669, 'max_depth': 16, 'num_leaves': 27, 'min_child_samples': 3, 'num_iterations': 791}. Best is trial 4 with value: 0.7209538719384531.\u001b[0m\n",
      "\u001b[32m[I 2023-08-24 14:08:14,397]\u001b[0m Trial 7 finished with value: 0.7348771098400781 and parameters: {'n_estimators': 857, 'max_depth': 25, 'num_leaves': 9, 'min_child_samples': 9, 'num_iterations': 840}. Best is trial 7 with value: 0.7348771098400781.\u001b[0m\n",
      "\u001b[32m[I 2023-08-24 14:08:17,347]\u001b[0m Trial 8 finished with value: 0.7239392772985693 and parameters: {'n_estimators': 913, 'max_depth': 21, 'num_leaves': 13, 'min_child_samples': 3, 'num_iterations': 925}. Best is trial 7 with value: 0.7348771098400781.\u001b[0m\n",
      "\u001b[32m[I 2023-08-24 14:08:17,705]\u001b[0m Trial 9 finished with value: 0.5438898679967128 and parameters: {'n_estimators': 685, 'max_depth': 1, 'num_leaves': 4, 'min_child_samples': 2, 'num_iterations': 626}. Best is trial 7 with value: 0.7348771098400781.\u001b[0m\n",
      "\u001b[32m[I 2023-08-24 14:08:18,798]\u001b[0m Trial 10 finished with value: 0.7258768620614374 and parameters: {'n_estimators': 840, 'max_depth': 30, 'num_leaves': 9, 'min_child_samples': 5, 'num_iterations': 503}. Best is trial 7 with value: 0.7348771098400781.\u001b[0m\n",
      "\u001b[32m[I 2023-08-24 14:08:20,044]\u001b[0m Trial 11 finished with value: 0.7259602397242384 and parameters: {'n_estimators': 852, 'max_depth': 30, 'num_leaves': 9, 'min_child_samples': 5, 'num_iterations': 559}. Best is trial 7 with value: 0.7348771098400781.\u001b[0m\n",
      "\u001b[32m[I 2023-08-24 14:08:21,121]\u001b[0m Trial 12 finished with value: 0.7256284004150176 and parameters: {'n_estimators': 828, 'max_depth': 25, 'num_leaves': 9, 'min_child_samples': 5, 'num_iterations': 512}. Best is trial 7 with value: 0.7348771098400781.\u001b[0m\n",
      "\u001b[32m[I 2023-08-24 14:08:23,369]\u001b[0m Trial 13 finished with value: 0.7233159405252446 and parameters: {'n_estimators': 826, 'max_depth': 23, 'num_leaves': 9, 'min_child_samples': 6, 'num_iterations': 1000}. Best is trial 7 with value: 0.7348771098400781.\u001b[0m\n",
      "\u001b[32m[I 2023-08-24 14:08:23,806]\u001b[0m Trial 14 finished with value: 0.5633232280881638 and parameters: {'n_estimators': 881, 'max_depth': 26, 'num_leaves': 2, 'min_child_samples': 8, 'num_iterations': 785}. Best is trial 7 with value: 0.7348771098400781.\u001b[0m\n",
      "\u001b[32m[I 2023-08-24 14:08:27,354]\u001b[0m Trial 15 finished with value: 0.6851795010681287 and parameters: {'n_estimators': 745, 'max_depth': 20, 'num_leaves': 22, 'min_child_samples': 1, 'num_iterations': 576}. Best is trial 7 with value: 0.7348771098400781.\u001b[0m\n",
      "\u001b[32m[I 2023-08-24 14:08:30,032]\u001b[0m Trial 16 finished with value: 0.7212847436741565 and parameters: {'n_estimators': 776, 'max_depth': 30, 'num_leaves': 15, 'min_child_samples': 6, 'num_iterations': 736}. Best is trial 7 with value: 0.7348771098400781.\u001b[0m\n",
      "\u001b[32m[I 2023-08-24 14:08:32,226]\u001b[0m Trial 17 finished with value: 0.7260783066164553 and parameters: {'n_estimators': 901, 'max_depth': 19, 'num_leaves': 11, 'min_child_samples': 4, 'num_iterations': 855}. Best is trial 7 with value: 0.7348771098400781.\u001b[0m\n",
      "\u001b[32m[I 2023-08-24 14:08:34,579]\u001b[0m Trial 18 finished with value: 0.7260568597439664 and parameters: {'n_estimators': 999, 'max_depth': 19, 'num_leaves': 11, 'min_child_samples': 4, 'num_iterations': 897}. Best is trial 7 with value: 0.7348771098400781.\u001b[0m\n",
      "\u001b[32m[I 2023-08-24 14:08:35,857]\u001b[0m Trial 19 finished with value: 0.728026641198864 and parameters: {'n_estimators': 928, 'max_depth': 8, 'num_leaves': 6, 'min_child_samples': 9, 'num_iterations': 863}. Best is trial 7 with value: 0.7348771098400781.\u001b[0m\n"
     ]
    },
    {
     "name": "stdout",
     "output_type": "stream",
     "text": [
      "[LightGBM] [Warning] Accuracy may be bad since you didn't explicitly set num_leaves OR 2^max_depth > num_leaves. (num_leaves=31).\n",
      "[LightGBM] [Warning] Accuracy may be bad since you didn't explicitly set num_leaves OR 2^max_depth > num_leaves. (num_leaves=31).\n",
      "[LightGBM] [Warning] Accuracy may be bad since you didn't explicitly set num_leaves OR 2^max_depth > num_leaves. (num_leaves=31).\n",
      "[LightGBM] [Warning] Accuracy may be bad since you didn't explicitly set num_leaves OR 2^max_depth > num_leaves. (num_leaves=31).\n",
      "[LightGBM] [Warning] Accuracy may be bad since you didn't explicitly set num_leaves OR 2^max_depth > num_leaves. (num_leaves=31).\n"
     ]
    },
    {
     "name": "stderr",
     "output_type": "stream",
     "text": [
      "\u001b[32m[I 2023-08-24 14:08:39,247]\u001b[0m Trial 20 finished with value: 0.7320994136614308 and parameters: {'n_estimators': 941, 'max_depth': 7, 'num_leaves': 31, 'min_child_samples': 9, 'num_iterations': 833}. Best is trial 7 with value: 0.7348771098400781.\u001b[0m\n",
      "\u001b[32m[I 2023-08-24 14:08:40,489]\u001b[0m Trial 21 finished with value: 0.7283655270665326 and parameters: {'n_estimators': 937, 'max_depth': 7, 'num_leaves': 6, 'min_child_samples': 9, 'num_iterations': 836}. Best is trial 7 with value: 0.7348771098400781.\u001b[0m\n",
      "\u001b[32m[I 2023-08-24 14:08:43,263]\u001b[0m Trial 22 finished with value: 0.7251618737610623 and parameters: {'n_estimators': 959, 'max_depth': 6, 'num_leaves': 32, 'min_child_samples': 9, 'num_iterations': 797}. Best is trial 7 with value: 0.7348771098400781.\u001b[0m\n",
      "\u001b[32m[I 2023-08-24 14:08:45,323]\u001b[0m Trial 23 finished with value: 0.7343457173530796 and parameters: {'n_estimators': 793, 'max_depth': 5, 'num_leaves': 32, 'min_child_samples': 9, 'num_iterations': 737}. Best is trial 7 with value: 0.7348771098400781.\u001b[0m\n"
     ]
    },
    {
     "name": "stdout",
     "output_type": "stream",
     "text": [
      "[LightGBM] [Warning] Accuracy may be bad since you didn't explicitly set num_leaves OR 2^max_depth > num_leaves. (num_leaves=31).\n",
      "[LightGBM] [Warning] Accuracy may be bad since you didn't explicitly set num_leaves OR 2^max_depth > num_leaves. (num_leaves=31).\n",
      "[LightGBM] [Warning] Accuracy may be bad since you didn't explicitly set num_leaves OR 2^max_depth > num_leaves. (num_leaves=31).\n",
      "[LightGBM] [Warning] Accuracy may be bad since you didn't explicitly set num_leaves OR 2^max_depth > num_leaves. (num_leaves=31).\n",
      "[LightGBM] [Warning] Accuracy may be bad since you didn't explicitly set num_leaves OR 2^max_depth > num_leaves. (num_leaves=31).\n"
     ]
    },
    {
     "name": "stderr",
     "output_type": "stream",
     "text": [
      "\u001b[32m[I 2023-08-24 14:08:47,566]\u001b[0m Trial 24 finished with value: 0.7279017995624077 and parameters: {'n_estimators': 784, 'max_depth': 5, 'num_leaves': 31, 'min_child_samples': 7, 'num_iterations': 727}. Best is trial 7 with value: 0.7348771098400781.\u001b[0m\n",
      "\u001b[32m[I 2023-08-24 14:08:52,453]\u001b[0m Trial 25 finished with value: 0.7108469219299298 and parameters: {'n_estimators': 867, 'max_depth': 13, 'num_leaves': 29, 'min_child_samples': 10, 'num_iterations': 762}. Best is trial 7 with value: 0.7348771098400781.\u001b[0m\n",
      "\u001b[32m[I 2023-08-24 14:08:56,218]\u001b[0m Trial 26 finished with value: 0.7112512543445944 and parameters: {'n_estimators': 796, 'max_depth': 10, 'num_leaves': 23, 'min_child_samples': 7, 'num_iterations': 704}. Best is trial 7 with value: 0.7348771098400781.\u001b[0m\n",
      "\u001b[32m[I 2023-08-24 14:08:57,934]\u001b[0m Trial 27 finished with value: 0.7331670552309916 and parameters: {'n_estimators': 733, 'max_depth': 4, 'num_leaves': 30, 'min_child_samples': 9, 'num_iterations': 820}. Best is trial 7 with value: 0.7348771098400781.\u001b[0m\n",
      "\u001b[32m[I 2023-08-24 14:09:00,068]\u001b[0m Trial 28 finished with value: 0.7391492548838958 and parameters: {'n_estimators': 735, 'max_depth': 4, 'num_leaves': 21, 'min_child_samples': 8, 'num_iterations': 979}. Best is trial 28 with value: 0.7391492548838958.\u001b[0m\n",
      "\u001b[32m[I 2023-08-24 14:09:01,480]\u001b[0m Trial 29 finished with value: 0.7226823290839262 and parameters: {'n_estimators': 587, 'max_depth': 3, 'num_leaves': 18, 'min_child_samples': 8, 'num_iterations': 987}. Best is trial 28 with value: 0.7391492548838958.\u001b[0m\n",
      "\u001b[32m[I 2023-08-24 14:09:06,162]\u001b[0m Trial 30 finished with value: 0.7230289091692522 and parameters: {'n_estimators': 714, 'max_depth': 17, 'num_leaves': 20, 'min_child_samples': 10, 'num_iterations': 938}. Best is trial 28 with value: 0.7391492548838958.\u001b[0m\n",
      "\u001b[32m[I 2023-08-24 14:09:08,582]\u001b[0m Trial 31 finished with value: 0.7341054965221955 and parameters: {'n_estimators': 739, 'max_depth': 5, 'num_leaves': 29, 'min_child_samples': 9, 'num_iterations': 895}. Best is trial 28 with value: 0.7391492548838958.\u001b[0m\n",
      "\u001b[32m[I 2023-08-24 14:09:13,287]\u001b[0m Trial 32 finished with value: 0.7013744843882636 and parameters: {'n_estimators': 758, 'max_depth': 9, 'num_leaves': 28, 'min_child_samples': 8, 'num_iterations': 893}. Best is trial 28 with value: 0.7391492548838958.\u001b[0m\n",
      "\u001b[32m[I 2023-08-24 14:09:16,816]\u001b[0m Trial 33 finished with value: 0.708833434348229 and parameters: {'n_estimators': 607, 'max_depth': 12, 'num_leaves': 16, 'min_child_samples': 10, 'num_iterations': 960}. Best is trial 28 with value: 0.7391492548838958.\u001b[0m\n",
      "\u001b[32m[I 2023-08-24 14:09:17,302]\u001b[0m Trial 34 finished with value: 0.5663299161471365 and parameters: {'n_estimators': 806, 'max_depth': 1, 'num_leaves': 26, 'min_child_samples': 9, 'num_iterations': 884}. Best is trial 28 with value: 0.7391492548838958.\u001b[0m\n",
      "\u001b[32m[I 2023-08-24 14:09:19,268]\u001b[0m Trial 35 finished with value: 0.7362925966339035 and parameters: {'n_estimators': 710, 'max_depth': 4, 'num_leaves': 21, 'min_child_samples': 7, 'num_iterations': 965}. Best is trial 28 with value: 0.7391492548838958.\u001b[0m\n",
      "\u001b[32m[I 2023-08-24 14:09:20,592]\u001b[0m Trial 36 finished with value: 0.7221838726542888 and parameters: {'n_estimators': 768, 'max_depth': 3, 'num_leaves': 21, 'min_child_samples': 7, 'num_iterations': 972}. Best is trial 28 with value: 0.7391492548838958.\u001b[0m\n",
      "\u001b[32m[I 2023-08-24 14:09:23,742]\u001b[0m Trial 37 finished with value: 0.7144390929723373 and parameters: {'n_estimators': 700, 'max_depth': 13, 'num_leaves': 23, 'min_child_samples': 8, 'num_iterations': 637}. Best is trial 28 with value: 0.7391492548838958.\u001b[0m\n",
      "\u001b[32m[I 2023-08-24 14:09:27,474]\u001b[0m Trial 38 finished with value: 0.7198857173258377 and parameters: {'n_estimators': 608, 'max_depth': 10, 'num_leaves': 18, 'min_child_samples': 6, 'num_iterations': 954}. Best is trial 28 with value: 0.7391492548838958.\u001b[0m\n",
      "\u001b[32m[I 2023-08-24 14:09:28,700]\u001b[0m Trial 39 finished with value: 0.721970550695107 and parameters: {'n_estimators': 641, 'max_depth': 3, 'num_leaves': 24, 'min_child_samples': 7, 'num_iterations': 923}. Best is trial 28 with value: 0.7391492548838958.\u001b[0m\n",
      "\u001b[32m[I 2023-08-24 14:09:32,318]\u001b[0m Trial 40 finished with value: 0.7230618863030214 and parameters: {'n_estimators': 518, 'max_depth': 23, 'num_leaves': 20, 'min_child_samples': 10, 'num_iterations': 815}. Best is trial 28 with value: 0.7391492548838958.\u001b[0m\n",
      "\u001b[32m[I 2023-08-24 14:09:35,035]\u001b[0m Trial 41 finished with value: 0.7363257451800351 and parameters: {'n_estimators': 806, 'max_depth': 5, 'num_leaves': 26, 'min_child_samples': 8, 'num_iterations': 918}. Best is trial 28 with value: 0.7391492548838958.\u001b[0m\n",
      "\u001b[32m[I 2023-08-24 14:09:38,599]\u001b[0m Trial 42 finished with value: 0.7333673131049759 and parameters: {'n_estimators': 808, 'max_depth': 6, 'num_leaves': 26, 'min_child_samples': 8, 'num_iterations': 973}. Best is trial 28 with value: 0.7391492548838958.\u001b[0m\n",
      "\u001b[32m[I 2023-08-24 14:09:40,490]\u001b[0m Trial 43 finished with value: 0.7391777135467966 and parameters: {'n_estimators': 718, 'max_depth': 4, 'num_leaves': 25, 'min_child_samples': 8, 'num_iterations': 918}. Best is trial 43 with value: 0.7391777135467966.\u001b[0m\n",
      "\u001b[32m[I 2023-08-24 14:09:40,984]\u001b[0m Trial 44 finished with value: 0.5678395388214822 and parameters: {'n_estimators': 671, 'max_depth': 1, 'num_leaves': 25, 'min_child_samples': 7, 'num_iterations': 918}. Best is trial 43 with value: 0.7391777135467966.\u001b[0m\n",
      "\u001b[32m[I 2023-08-24 14:09:41,842]\u001b[0m Trial 45 finished with value: 0.6936076457905893 and parameters: {'n_estimators': 717, 'max_depth': 2, 'num_leaves': 21, 'min_child_samples': 8, 'num_iterations': 944}. Best is trial 43 with value: 0.7391777135467966.\u001b[0m\n",
      "\u001b[32m[I 2023-08-24 14:09:45,015]\u001b[0m Trial 46 finished with value: 0.7242511115668291 and parameters: {'n_estimators': 678, 'max_depth': 8, 'num_leaves': 17, 'min_child_samples': 6, 'num_iterations': 872}. Best is trial 43 with value: 0.7391777135467966.\u001b[0m\n",
      "\u001b[32m[I 2023-08-24 14:09:50,685]\u001b[0m Trial 47 finished with value: 0.7109751777512263 and parameters: {'n_estimators': 644, 'max_depth': 27, 'num_leaves': 24, 'min_child_samples': 8, 'num_iterations': 998}. Best is trial 43 with value: 0.7391777135467966.\u001b[0m\n",
      "\u001b[32m[I 2023-08-24 14:09:52,581]\u001b[0m Trial 48 finished with value: 0.7364175066457695 and parameters: {'n_estimators': 859, 'max_depth': 4, 'num_leaves': 27, 'min_child_samples': 7, 'num_iterations': 911}. Best is trial 43 with value: 0.7391777135467966.\u001b[0m\n",
      "\u001b[32m[I 2023-08-24 14:09:54,388]\u001b[0m Trial 49 finished with value: 0.7364265486216498 and parameters: {'n_estimators': 831, 'max_depth': 4, 'num_leaves': 27, 'min_child_samples': 7, 'num_iterations': 910}. Best is trial 43 with value: 0.7391777135467966.\u001b[0m\n",
      "\u001b[32m[I 2023-08-24 14:09:56,282]\u001b[0m Trial 50 finished with value: 0.7325457799505083 and parameters: {'n_estimators': 892, 'max_depth': 4, 'num_leaves': 27, 'min_child_samples': 6, 'num_iterations': 919}. Best is trial 43 with value: 0.7391777135467966.\u001b[0m\n",
      "\u001b[32m[I 2023-08-24 14:09:58,056]\u001b[0m Trial 51 finished with value: 0.7364204356509937 and parameters: {'n_estimators': 826, 'max_depth': 4, 'num_leaves': 27, 'min_child_samples': 7, 'num_iterations': 906}. Best is trial 43 with value: 0.7391777135467966.\u001b[0m\n",
      "\u001b[32m[I 2023-08-24 14:09:58,841]\u001b[0m Trial 52 finished with value: 0.6873755258714063 and parameters: {'n_estimators': 831, 'max_depth': 2, 'num_leaves': 28, 'min_child_samples': 7, 'num_iterations': 934}. Best is trial 43 with value: 0.7391777135467966.\u001b[0m\n",
      "\u001b[32m[I 2023-08-24 14:10:01,903]\u001b[0m Trial 53 finished with value: 0.7334763457963547 and parameters: {'n_estimators': 854, 'max_depth': 6, 'num_leaves': 26, 'min_child_samples': 8, 'num_iterations': 907}. Best is trial 43 with value: 0.7391777135467966.\u001b[0m\n",
      "\u001b[32m[I 2023-08-24 14:10:05,743]\u001b[0m Trial 54 finished with value: 0.7256365665339903 and parameters: {'n_estimators': 873, 'max_depth': 7, 'num_leaves': 25, 'min_child_samples': 6, 'num_iterations': 877}. Best is trial 43 with value: 0.7391777135467966.\u001b[0m\n",
      "\u001b[32m[I 2023-08-24 14:10:07,073]\u001b[0m Trial 55 finished with value: 0.7087915685981739 and parameters: {'n_estimators': 840, 'max_depth': 3, 'num_leaves': 28, 'min_child_samples': 5, 'num_iterations': 947}. Best is trial 43 with value: 0.7391777135467966.\u001b[0m\n",
      "\u001b[32m[I 2023-08-24 14:10:07,562]\u001b[0m Trial 56 finished with value: 0.565997281647952 and parameters: {'n_estimators': 818, 'max_depth': 1, 'num_leaves': 23, 'min_child_samples': 7, 'num_iterations': 859}. Best is trial 43 with value: 0.7391777135467966.\u001b[0m\n",
      "\u001b[32m[I 2023-08-24 14:10:10,081]\u001b[0m Trial 57 finished with value: 0.7392714712495689 and parameters: {'n_estimators': 913, 'max_depth': 5, 'num_leaves': 24, 'min_child_samples': 8, 'num_iterations': 910}. Best is trial 57 with value: 0.7392714712495689.\u001b[0m\n",
      "\u001b[32m[I 2023-08-24 14:10:13,788]\u001b[0m Trial 58 finished with value: 0.726245993457606 and parameters: {'n_estimators': 977, 'max_depth': 7, 'num_leaves': 24, 'min_child_samples': 7, 'num_iterations': 904}. Best is trial 57 with value: 0.7392714712495689.\u001b[0m\n",
      "\u001b[32m[I 2023-08-24 14:10:19,094]\u001b[0m Trial 59 finished with value: 0.697960526486295 and parameters: {'n_estimators': 910, 'max_depth': 9, 'num_leaves': 29, 'min_child_samples': 6, 'num_iterations': 979}. Best is trial 57 with value: 0.7392714712495689.\u001b[0m\n",
      "\u001b[32m[I 2023-08-24 14:10:20,728]\u001b[0m Trial 60 finished with value: 0.7393472990728669 and parameters: {'n_estimators': 920, 'max_depth': 4, 'num_leaves': 27, 'min_child_samples': 8, 'num_iterations': 854}. Best is trial 60 with value: 0.7393472990728669.\u001b[0m\n",
      "\u001b[32m[I 2023-08-24 14:10:22,443]\u001b[0m Trial 61 finished with value: 0.7391650383480945 and parameters: {'n_estimators': 925, 'max_depth': 4, 'num_leaves': 27, 'min_child_samples': 8, 'num_iterations': 881}. Best is trial 60 with value: 0.7393472990728669.\u001b[0m\n",
      "\u001b[32m[I 2023-08-24 14:10:23,199]\u001b[0m Trial 62 finished with value: 0.6936021507650068 and parameters: {'n_estimators': 963, 'max_depth': 2, 'num_leaves': 30, 'min_child_samples': 8, 'num_iterations': 855}. Best is trial 60 with value: 0.7393472990728669.\u001b[0m\n",
      "\u001b[32m[I 2023-08-24 14:10:26,140]\u001b[0m Trial 63 finished with value: 0.7271309572166971 and parameters: {'n_estimators': 923, 'max_depth': 6, 'num_leaves': 25, 'min_child_samples': 8, 'num_iterations': 879}. Best is trial 60 with value: 0.7393472990728669.\u001b[0m\n",
      "\u001b[32m[I 2023-08-24 14:10:27,733]\u001b[0m Trial 64 finished with value: 0.7330792968351496 and parameters: {'n_estimators': 882, 'max_depth': 4, 'num_leaves': 27, 'min_child_samples': 9, 'num_iterations': 826}. Best is trial 60 with value: 0.7393472990728669.\u001b[0m\n",
      "\u001b[32m[I 2023-08-24 14:10:31,753]\u001b[0m Trial 65 finished with value: 0.7277466271136016 and parameters: {'n_estimators': 994, 'max_depth': 8, 'num_leaves': 23, 'min_child_samples': 8, 'num_iterations': 935}. Best is trial 60 with value: 0.7393472990728669.\u001b[0m\n",
      "\u001b[32m[I 2023-08-24 14:10:33,964]\u001b[0m Trial 66 finished with value: 0.7341284400430417 and parameters: {'n_estimators': 904, 'max_depth': 5, 'num_leaves': 30, 'min_child_samples': 9, 'num_iterations': 845}. Best is trial 60 with value: 0.7393472990728669.\u001b[0m\n",
      "\u001b[32m[I 2023-08-24 14:10:35,145]\u001b[0m Trial 67 finished with value: 0.7224360584847096 and parameters: {'n_estimators': 945, 'max_depth': 3, 'num_leaves': 22, 'min_child_samples': 8, 'num_iterations': 891}. Best is trial 60 with value: 0.7393472990728669.\u001b[0m\n",
      "\u001b[32m[I 2023-08-24 14:10:38,083]\u001b[0m Trial 68 finished with value: 0.7257017940006454 and parameters: {'n_estimators': 925, 'max_depth': 6, 'num_leaves': 25, 'min_child_samples': 7, 'num_iterations': 808}. Best is trial 60 with value: 0.7393472990728669.\u001b[0m\n",
      "\u001b[32m[I 2023-08-24 14:10:38,821]\u001b[0m Trial 69 finished with value: 0.6900241554760705 and parameters: {'n_estimators': 762, 'max_depth': 2, 'num_leaves': 28, 'min_child_samples': 9, 'num_iterations': 867}. Best is trial 60 with value: 0.7393472990728669.\u001b[0m\n",
      "\u001b[32m[I 2023-08-24 14:10:42,811]\u001b[0m Trial 70 finished with value: 0.7006065783816109 and parameters: {'n_estimators': 890, 'max_depth': 5, 'num_leaves': 22, 'min_child_samples': 1, 'num_iterations': 957}. Best is trial 60 with value: 0.7393472990728669.\u001b[0m\n",
      "\u001b[32m[I 2023-08-24 14:10:43,921]\u001b[0m Trial 71 finished with value: 0.722070940109498 and parameters: {'n_estimators': 693, 'max_depth': 3, 'num_leaves': 27, 'min_child_samples': 7, 'num_iterations': 773}. Best is trial 60 with value: 0.7393472990728669.\u001b[0m\n",
      "\u001b[32m[I 2023-08-24 14:10:45,834]\u001b[0m Trial 72 finished with value: 0.7364204356509937 and parameters: {'n_estimators': 858, 'max_depth': 4, 'num_leaves': 27, 'min_child_samples': 7, 'num_iterations': 906}. Best is trial 60 with value: 0.7393472990728669.\u001b[0m\n",
      "\u001b[32m[I 2023-08-24 14:10:46,443]\u001b[0m Trial 73 finished with value: 0.5683692990168103 and parameters: {'n_estimators': 729, 'max_depth': 1, 'num_leaves': 31, 'min_child_samples': 8, 'num_iterations': 901}. Best is trial 60 with value: 0.7393472990728669.\u001b[0m\n",
      "\u001b[32m[I 2023-08-24 14:10:48,367]\u001b[0m Trial 74 finished with value: 0.7391959587769295 and parameters: {'n_estimators': 847, 'max_depth': 4, 'num_leaves': 26, 'min_child_samples': 8, 'num_iterations': 930}. Best is trial 60 with value: 0.7393472990728669.\u001b[0m\n",
      "\u001b[32m[I 2023-08-24 14:10:51,189]\u001b[0m Trial 75 finished with value: 0.7391586343040502 and parameters: {'n_estimators': 777, 'max_depth': 5, 'num_leaves': 24, 'min_child_samples': 8, 'num_iterations': 990}. Best is trial 60 with value: 0.7393472990728669.\u001b[0m\n",
      "\u001b[32m[I 2023-08-24 14:10:55,821]\u001b[0m Trial 76 finished with value: 0.7110897560854882 and parameters: {'n_estimators': 743, 'max_depth': 11, 'num_leaves': 24, 'min_child_samples': 9, 'num_iterations': 948}. Best is trial 60 with value: 0.7393472990728669.\u001b[0m\n",
      "\u001b[32m[I 2023-08-24 14:10:59,474]\u001b[0m Trial 77 finished with value: 0.7241733459102735 and parameters: {'n_estimators': 782, 'max_depth': 7, 'num_leaves': 20, 'min_child_samples': 8, 'num_iterations': 994}. Best is trial 60 with value: 0.7393472990728669.\u001b[0m\n",
      "\u001b[32m[I 2023-08-24 14:11:04,444]\u001b[0m Trial 78 finished with value: 0.7077018008169496 and parameters: {'n_estimators': 955, 'max_depth': 6, 'num_leaves': 26, 'min_child_samples': 2, 'num_iterations': 982}. Best is trial 60 with value: 0.7393472990728669.\u001b[0m\n",
      "\u001b[32m[I 2023-08-24 14:11:09,290]\u001b[0m Trial 79 finished with value: 0.7185854034159347 and parameters: {'n_estimators': 753, 'max_depth': 8, 'num_leaves': 29, 'min_child_samples': 8, 'num_iterations': 966}. Best is trial 60 with value: 0.7393472990728669.\u001b[0m\n",
      "\u001b[32m[I 2023-08-24 14:11:11,740]\u001b[0m Trial 80 finished with value: 0.7326400946541716 and parameters: {'n_estimators': 773, 'max_depth': 5, 'num_leaves': 24, 'min_child_samples': 9, 'num_iterations': 934}. Best is trial 60 with value: 0.7393472990728669.\u001b[0m\n",
      "\u001b[32m[I 2023-08-24 14:11:13,548]\u001b[0m Trial 81 finished with value: 0.7392004159521581 and parameters: {'n_estimators': 837, 'max_depth': 4, 'num_leaves': 25, 'min_child_samples': 8, 'num_iterations': 927}. Best is trial 60 with value: 0.7393472990728669.\u001b[0m\n",
      "\u001b[32m[I 2023-08-24 14:11:14,777]\u001b[0m Trial 82 finished with value: 0.7224711862320101 and parameters: {'n_estimators': 841, 'max_depth': 3, 'num_leaves': 25, 'min_child_samples': 8, 'num_iterations': 924}. Best is trial 60 with value: 0.7393472990728669.\u001b[0m\n",
      "\u001b[32m[I 2023-08-24 14:11:15,588]\u001b[0m Trial 83 finished with value: 0.6933345245365918 and parameters: {'n_estimators': 791, 'max_depth': 2, 'num_leaves': 22, 'min_child_samples': 8, 'num_iterations': 959}. Best is trial 60 with value: 0.7393472990728669.\u001b[0m\n",
      "\u001b[32m[I 2023-08-24 14:11:18,037]\u001b[0m Trial 84 finished with value: 0.7364315983689427 and parameters: {'n_estimators': 724, 'max_depth': 5, 'num_leaves': 26, 'min_child_samples': 8, 'num_iterations': 883}. Best is trial 60 with value: 0.7393472990728669.\u001b[0m\n",
      "\u001b[32m[I 2023-08-24 14:11:19,569]\u001b[0m Trial 85 finished with value: 0.7335253698798595 and parameters: {'n_estimators': 728, 'max_depth': 5, 'num_leaves': 23, 'min_child_samples': 9, 'num_iterations': 601}. Best is trial 60 with value: 0.7393472990728669.\u001b[0m\n",
      "\u001b[32m[I 2023-08-24 14:11:24,513]\u001b[0m Trial 86 finished with value: 0.7060655044427631 and parameters: {'n_estimators': 937, 'max_depth': 16, 'num_leaves': 25, 'min_child_samples': 8, 'num_iterations': 888}. Best is trial 60 with value: 0.7393472990728669.\u001b[0m\n",
      "\u001b[32m[I 2023-08-24 14:11:28,340]\u001b[0m Trial 87 finished with value: 0.7266694745218973 and parameters: {'n_estimators': 715, 'max_depth': 7, 'num_leaves': 26, 'min_child_samples': 10, 'num_iterations': 988}. Best is trial 60 with value: 0.7393472990728669.\u001b[0m\n",
      "\u001b[32m[I 2023-08-24 14:11:30,479]\u001b[0m Trial 88 finished with value: 0.7287260193456283 and parameters: {'n_estimators': 696, 'max_depth': 9, 'num_leaves': 19, 'min_child_samples': 9, 'num_iterations': 525}. Best is trial 60 with value: 0.7393472990728669.\u001b[0m\n",
      "\u001b[32m[I 2023-08-24 14:11:33,088]\u001b[0m Trial 89 finished with value: 0.7309235021252871 and parameters: {'n_estimators': 879, 'max_depth': 6, 'num_leaves': 13, 'min_child_samples': 8, 'num_iterations': 943}. Best is trial 60 with value: 0.7393472990728669.\u001b[0m\n",
      "\u001b[32m[I 2023-08-24 14:11:34,240]\u001b[0m Trial 90 finished with value: 0.7226008593664424 and parameters: {'n_estimators': 919, 'max_depth': 3, 'num_leaves': 28, 'min_child_samples': 8, 'num_iterations': 841}. Best is trial 60 with value: 0.7393472990728669.\u001b[0m\n",
      "\u001b[32m[I 2023-08-24 14:11:36,044]\u001b[0m Trial 91 finished with value: 0.7392085163686557 and parameters: {'n_estimators': 900, 'max_depth': 4, 'num_leaves': 26, 'min_child_samples': 8, 'num_iterations': 928}. Best is trial 60 with value: 0.7393472990728669.\u001b[0m\n",
      "\u001b[32m[I 2023-08-24 14:11:37,896]\u001b[0m Trial 92 finished with value: 0.7391959587769295 and parameters: {'n_estimators': 893, 'max_depth': 4, 'num_leaves': 26, 'min_child_samples': 8, 'num_iterations': 930}. Best is trial 60 with value: 0.7393472990728669.\u001b[0m\n",
      "\u001b[32m[I 2023-08-24 14:11:39,672]\u001b[0m Trial 93 finished with value: 0.7391788546771156 and parameters: {'n_estimators': 897, 'max_depth': 4, 'num_leaves': 24, 'min_child_samples': 8, 'num_iterations': 925}. Best is trial 60 with value: 0.7393472990728669.\u001b[0m\n",
      "\u001b[32m[I 2023-08-24 14:11:40,478]\u001b[0m Trial 94 finished with value: 0.6898561355384232 and parameters: {'n_estimators': 911, 'max_depth': 2, 'num_leaves': 24, 'min_child_samples': 9, 'num_iterations': 927}. Best is trial 60 with value: 0.7393472990728669.\u001b[0m\n",
      "\u001b[32m[I 2023-08-24 14:11:42,239]\u001b[0m Trial 95 finished with value: 0.7391604291079739 and parameters: {'n_estimators': 891, 'max_depth': 4, 'num_leaves': 26, 'min_child_samples': 8, 'num_iterations': 919}. Best is trial 60 with value: 0.7393472990728669.\u001b[0m\n",
      "\u001b[32m[I 2023-08-24 14:11:44,043]\u001b[0m Trial 96 finished with value: 0.7328261834182592 and parameters: {'n_estimators': 893, 'max_depth': 4, 'num_leaves': 28, 'min_child_samples': 9, 'num_iterations': 916}. Best is trial 60 with value: 0.7393472990728669.\u001b[0m\n",
      "\u001b[32m[I 2023-08-24 14:11:45,324]\u001b[0m Trial 97 finished with value: 0.7225921611483598 and parameters: {'n_estimators': 931, 'max_depth': 3, 'num_leaves': 29, 'min_child_samples': 8, 'num_iterations': 930}. Best is trial 60 with value: 0.7393472990728669.\u001b[0m\n",
      "\u001b[32m[I 2023-08-24 14:11:45,775]\u001b[0m Trial 98 finished with value: 0.5661830830278034 and parameters: {'n_estimators': 870, 'max_depth': 1, 'num_leaves': 26, 'min_child_samples': 7, 'num_iterations': 865}. Best is trial 60 with value: 0.7393472990728669.\u001b[0m\n",
      "\u001b[32m[I 2023-08-24 14:11:48,191]\u001b[0m Trial 99 finished with value: 0.7274899318826644 and parameters: {'n_estimators': 899, 'max_depth': 6, 'num_leaves': 25, 'min_child_samples': 8, 'num_iterations': 683}. Best is trial 60 with value: 0.7393472990728669.\u001b[0m\n"
     ]
    },
    {
     "name": "stdout",
     "output_type": "stream",
     "text": [
      "Best r2:  0.7393472990728669\n",
      "Best trial: {'n_estimators': 920, 'max_depth': 4, 'num_leaves': 27, 'min_child_samples': 8, 'num_iterations': 854}\n"
     ]
    }
   ],
   "source": [
    "sampler = TPESampler()\n",
    "study = optuna.create_study(\n",
    "    study_name=\"lgbm_parameter_opt\",\n",
    "    direction=\"maximize\",\n",
    "    sampler=sampler,\n",
    ")\n",
    "\n",
    "study.optimize(lambda trial : objectiveLGBM(trial, Ni_X_train, Ni_y_train), n_trials=100)\n",
    "print(\"Best r2: \", study.best_value)\n",
    "print(\"Best trial:\", study.best_trial.params)"
   ]
  },
  {
   "cell_type": "code",
   "execution_count": 45,
   "id": "d71c01fb",
   "metadata": {},
   "outputs": [
    {
     "data": {
      "application/vnd.plotly.v1+json": {
       "config": {
        "plotlyServerURL": "https://plot.ly"
       },
       "data": [
        {
         "dimensions": [
          {
           "label": "Objective Value",
           "range": [
            0.5438898679967128,
            0.7393472990728669
           ],
           "values": [
            0.6714357775292569,
            0.7181967342855865,
            0.717361205617169,
            0.6933545177944771,
            0.7209538719384531,
            0.7147083926245299,
            0.6828856576485383,
            0.7348771098400781,
            0.7239392772985693,
            0.5438898679967128,
            0.7258768620614374,
            0.7259602397242384,
            0.7256284004150176,
            0.7233159405252446,
            0.5633232280881638,
            0.6851795010681287,
            0.7212847436741565,
            0.7260783066164553,
            0.7260568597439664,
            0.728026641198864,
            0.7320994136614308,
            0.7283655270665326,
            0.7251618737610623,
            0.7343457173530796,
            0.7279017995624077,
            0.7108469219299298,
            0.7112512543445944,
            0.7331670552309916,
            0.7391492548838958,
            0.7226823290839262,
            0.7230289091692522,
            0.7341054965221955,
            0.7013744843882636,
            0.708833434348229,
            0.5663299161471365,
            0.7362925966339035,
            0.7221838726542888,
            0.7144390929723373,
            0.7198857173258377,
            0.721970550695107,
            0.7230618863030214,
            0.7363257451800351,
            0.7333673131049759,
            0.7391777135467966,
            0.5678395388214822,
            0.6936076457905893,
            0.7242511115668291,
            0.7109751777512263,
            0.7364175066457695,
            0.7364265486216498,
            0.7325457799505083,
            0.7364204356509937,
            0.6873755258714063,
            0.7334763457963547,
            0.7256365665339903,
            0.7087915685981739,
            0.565997281647952,
            0.7392714712495689,
            0.726245993457606,
            0.697960526486295,
            0.7393472990728669,
            0.7391650383480945,
            0.6936021507650068,
            0.7271309572166971,
            0.7330792968351496,
            0.7277466271136016,
            0.7341284400430417,
            0.7224360584847096,
            0.7257017940006454,
            0.6900241554760705,
            0.7006065783816109,
            0.722070940109498,
            0.7364204356509937,
            0.5683692990168103,
            0.7391959587769295,
            0.7391586343040502,
            0.7110897560854882,
            0.7241733459102735,
            0.7077018008169496,
            0.7185854034159347,
            0.7326400946541716,
            0.7392004159521581,
            0.7224711862320101,
            0.6933345245365918,
            0.7364315983689427,
            0.7335253698798595,
            0.7060655044427631,
            0.7266694745218973,
            0.7287260193456283,
            0.7309235021252871,
            0.7226008593664424,
            0.7392085163686557,
            0.7391959587769295,
            0.7391788546771156,
            0.6898561355384232,
            0.7391604291079739,
            0.7328261834182592,
            0.7225921611483598,
            0.5661830830278034,
            0.7274899318826644
           ]
          },
          {
           "label": "max_depth",
           "range": [
            1,
            30
           ],
           "values": [
            2,
            12,
            15,
            2,
            10,
            28,
            16,
            25,
            21,
            1,
            30,
            30,
            25,
            23,
            26,
            20,
            30,
            19,
            19,
            8,
            7,
            7,
            6,
            5,
            5,
            13,
            10,
            4,
            4,
            3,
            17,
            5,
            9,
            12,
            1,
            4,
            3,
            13,
            10,
            3,
            23,
            5,
            6,
            4,
            1,
            2,
            8,
            27,
            4,
            4,
            4,
            4,
            2,
            6,
            7,
            3,
            1,
            5,
            7,
            9,
            4,
            4,
            2,
            6,
            4,
            8,
            5,
            3,
            6,
            2,
            5,
            3,
            4,
            1,
            4,
            5,
            11,
            7,
            6,
            8,
            5,
            4,
            3,
            2,
            5,
            5,
            16,
            7,
            9,
            6,
            3,
            4,
            4,
            4,
            2,
            4,
            4,
            3,
            1,
            6
           ]
          },
          {
           "label": "min_child_samples",
           "range": [
            1,
            10
           ],
           "values": [
            3,
            10,
            10,
            8,
            8,
            7,
            3,
            9,
            3,
            2,
            5,
            5,
            5,
            6,
            8,
            1,
            6,
            4,
            4,
            9,
            9,
            9,
            9,
            9,
            7,
            10,
            7,
            9,
            8,
            8,
            10,
            9,
            8,
            10,
            9,
            7,
            7,
            8,
            6,
            7,
            10,
            8,
            8,
            8,
            7,
            8,
            6,
            8,
            7,
            7,
            6,
            7,
            7,
            8,
            6,
            5,
            7,
            8,
            7,
            6,
            8,
            8,
            8,
            8,
            9,
            8,
            9,
            8,
            7,
            9,
            1,
            7,
            7,
            8,
            8,
            8,
            9,
            8,
            2,
            8,
            9,
            8,
            8,
            8,
            8,
            9,
            8,
            10,
            9,
            8,
            8,
            8,
            8,
            8,
            9,
            8,
            9,
            8,
            7,
            8
           ]
          },
          {
           "label": "n_estimators",
           "range": [
            518,
            999
           ],
           "values": [
            951,
            978,
            649,
            703,
            526,
            654,
            669,
            857,
            913,
            685,
            840,
            852,
            828,
            826,
            881,
            745,
            776,
            901,
            999,
            928,
            941,
            937,
            959,
            793,
            784,
            867,
            796,
            733,
            735,
            587,
            714,
            739,
            758,
            607,
            806,
            710,
            768,
            700,
            608,
            641,
            518,
            806,
            808,
            718,
            671,
            717,
            678,
            644,
            859,
            831,
            892,
            826,
            831,
            854,
            873,
            840,
            818,
            913,
            977,
            910,
            920,
            925,
            963,
            923,
            882,
            994,
            904,
            945,
            925,
            762,
            890,
            693,
            858,
            729,
            847,
            777,
            743,
            782,
            955,
            753,
            773,
            837,
            841,
            791,
            724,
            728,
            937,
            715,
            696,
            879,
            919,
            900,
            893,
            897,
            911,
            891,
            893,
            931,
            870,
            899
           ]
          },
          {
           "label": "num_iterations",
           "range": [
            503,
            1000
           ],
           "values": [
            648,
            672,
            656,
            849,
            687,
            933,
            791,
            840,
            925,
            626,
            503,
            559,
            512,
            1000,
            785,
            576,
            736,
            855,
            897,
            863,
            833,
            836,
            797,
            737,
            727,
            762,
            704,
            820,
            979,
            987,
            938,
            895,
            893,
            960,
            884,
            965,
            972,
            637,
            954,
            923,
            815,
            918,
            973,
            918,
            918,
            944,
            872,
            998,
            911,
            910,
            919,
            906,
            934,
            907,
            877,
            947,
            859,
            910,
            904,
            979,
            854,
            881,
            855,
            879,
            826,
            935,
            845,
            891,
            808,
            867,
            957,
            773,
            906,
            901,
            930,
            990,
            948,
            994,
            982,
            966,
            934,
            927,
            924,
            959,
            883,
            601,
            888,
            988,
            525,
            943,
            841,
            928,
            930,
            925,
            927,
            919,
            916,
            930,
            865,
            683
           ]
          },
          {
           "label": "num_leaves",
           "range": [
            2,
            32
           ],
           "values": [
            18,
            5,
            27,
            19,
            14,
            25,
            27,
            9,
            13,
            4,
            9,
            9,
            9,
            9,
            2,
            22,
            15,
            11,
            11,
            6,
            31,
            6,
            32,
            32,
            31,
            29,
            23,
            30,
            21,
            18,
            20,
            29,
            28,
            16,
            26,
            21,
            21,
            23,
            18,
            24,
            20,
            26,
            26,
            25,
            25,
            21,
            17,
            24,
            27,
            27,
            27,
            27,
            28,
            26,
            25,
            28,
            23,
            24,
            24,
            29,
            27,
            27,
            30,
            25,
            27,
            23,
            30,
            22,
            25,
            28,
            22,
            27,
            27,
            31,
            26,
            24,
            24,
            20,
            26,
            29,
            24,
            25,
            25,
            22,
            26,
            23,
            25,
            26,
            19,
            13,
            28,
            26,
            26,
            24,
            24,
            26,
            28,
            29,
            26,
            25
           ]
          }
         ],
         "labelangle": 30,
         "labelside": "bottom",
         "line": {
          "color": [
           0.6714357775292569,
           0.7181967342855865,
           0.717361205617169,
           0.6933545177944771,
           0.7209538719384531,
           0.7147083926245299,
           0.6828856576485383,
           0.7348771098400781,
           0.7239392772985693,
           0.5438898679967128,
           0.7258768620614374,
           0.7259602397242384,
           0.7256284004150176,
           0.7233159405252446,
           0.5633232280881638,
           0.6851795010681287,
           0.7212847436741565,
           0.7260783066164553,
           0.7260568597439664,
           0.728026641198864,
           0.7320994136614308,
           0.7283655270665326,
           0.7251618737610623,
           0.7343457173530796,
           0.7279017995624077,
           0.7108469219299298,
           0.7112512543445944,
           0.7331670552309916,
           0.7391492548838958,
           0.7226823290839262,
           0.7230289091692522,
           0.7341054965221955,
           0.7013744843882636,
           0.708833434348229,
           0.5663299161471365,
           0.7362925966339035,
           0.7221838726542888,
           0.7144390929723373,
           0.7198857173258377,
           0.721970550695107,
           0.7230618863030214,
           0.7363257451800351,
           0.7333673131049759,
           0.7391777135467966,
           0.5678395388214822,
           0.6936076457905893,
           0.7242511115668291,
           0.7109751777512263,
           0.7364175066457695,
           0.7364265486216498,
           0.7325457799505083,
           0.7364204356509937,
           0.6873755258714063,
           0.7334763457963547,
           0.7256365665339903,
           0.7087915685981739,
           0.565997281647952,
           0.7392714712495689,
           0.726245993457606,
           0.697960526486295,
           0.7393472990728669,
           0.7391650383480945,
           0.6936021507650068,
           0.7271309572166971,
           0.7330792968351496,
           0.7277466271136016,
           0.7341284400430417,
           0.7224360584847096,
           0.7257017940006454,
           0.6900241554760705,
           0.7006065783816109,
           0.722070940109498,
           0.7364204356509937,
           0.5683692990168103,
           0.7391959587769295,
           0.7391586343040502,
           0.7110897560854882,
           0.7241733459102735,
           0.7077018008169496,
           0.7185854034159347,
           0.7326400946541716,
           0.7392004159521581,
           0.7224711862320101,
           0.6933345245365918,
           0.7364315983689427,
           0.7335253698798595,
           0.7060655044427631,
           0.7266694745218973,
           0.7287260193456283,
           0.7309235021252871,
           0.7226008593664424,
           0.7392085163686557,
           0.7391959587769295,
           0.7391788546771156,
           0.6898561355384232,
           0.7391604291079739,
           0.7328261834182592,
           0.7225921611483598,
           0.5661830830278034,
           0.7274899318826644
          ],
          "colorbar": {
           "title": {
            "text": "Objective Value"
           }
          },
          "colorscale": [
           [
            0,
            "rgb(247,251,255)"
           ],
           [
            0.125,
            "rgb(222,235,247)"
           ],
           [
            0.25,
            "rgb(198,219,239)"
           ],
           [
            0.375,
            "rgb(158,202,225)"
           ],
           [
            0.5,
            "rgb(107,174,214)"
           ],
           [
            0.625,
            "rgb(66,146,198)"
           ],
           [
            0.75,
            "rgb(33,113,181)"
           ],
           [
            0.875,
            "rgb(8,81,156)"
           ],
           [
            1,
            "rgb(8,48,107)"
           ]
          ],
          "reversescale": false,
          "showscale": true
         },
         "type": "parcoords"
        }
       ],
       "layout": {
        "template": {
         "data": {
          "bar": [
           {
            "error_x": {
             "color": "#2a3f5f"
            },
            "error_y": {
             "color": "#2a3f5f"
            },
            "marker": {
             "line": {
              "color": "#E5ECF6",
              "width": 0.5
             },
             "pattern": {
              "fillmode": "overlay",
              "size": 10,
              "solidity": 0.2
             }
            },
            "type": "bar"
           }
          ],
          "barpolar": [
           {
            "marker": {
             "line": {
              "color": "#E5ECF6",
              "width": 0.5
             },
             "pattern": {
              "fillmode": "overlay",
              "size": 10,
              "solidity": 0.2
             }
            },
            "type": "barpolar"
           }
          ],
          "carpet": [
           {
            "aaxis": {
             "endlinecolor": "#2a3f5f",
             "gridcolor": "white",
             "linecolor": "white",
             "minorgridcolor": "white",
             "startlinecolor": "#2a3f5f"
            },
            "baxis": {
             "endlinecolor": "#2a3f5f",
             "gridcolor": "white",
             "linecolor": "white",
             "minorgridcolor": "white",
             "startlinecolor": "#2a3f5f"
            },
            "type": "carpet"
           }
          ],
          "choropleth": [
           {
            "colorbar": {
             "outlinewidth": 0,
             "ticks": ""
            },
            "type": "choropleth"
           }
          ],
          "contour": [
           {
            "colorbar": {
             "outlinewidth": 0,
             "ticks": ""
            },
            "colorscale": [
             [
              0,
              "#0d0887"
             ],
             [
              0.1111111111111111,
              "#46039f"
             ],
             [
              0.2222222222222222,
              "#7201a8"
             ],
             [
              0.3333333333333333,
              "#9c179e"
             ],
             [
              0.4444444444444444,
              "#bd3786"
             ],
             [
              0.5555555555555556,
              "#d8576b"
             ],
             [
              0.6666666666666666,
              "#ed7953"
             ],
             [
              0.7777777777777778,
              "#fb9f3a"
             ],
             [
              0.8888888888888888,
              "#fdca26"
             ],
             [
              1,
              "#f0f921"
             ]
            ],
            "type": "contour"
           }
          ],
          "contourcarpet": [
           {
            "colorbar": {
             "outlinewidth": 0,
             "ticks": ""
            },
            "type": "contourcarpet"
           }
          ],
          "heatmap": [
           {
            "colorbar": {
             "outlinewidth": 0,
             "ticks": ""
            },
            "colorscale": [
             [
              0,
              "#0d0887"
             ],
             [
              0.1111111111111111,
              "#46039f"
             ],
             [
              0.2222222222222222,
              "#7201a8"
             ],
             [
              0.3333333333333333,
              "#9c179e"
             ],
             [
              0.4444444444444444,
              "#bd3786"
             ],
             [
              0.5555555555555556,
              "#d8576b"
             ],
             [
              0.6666666666666666,
              "#ed7953"
             ],
             [
              0.7777777777777778,
              "#fb9f3a"
             ],
             [
              0.8888888888888888,
              "#fdca26"
             ],
             [
              1,
              "#f0f921"
             ]
            ],
            "type": "heatmap"
           }
          ],
          "heatmapgl": [
           {
            "colorbar": {
             "outlinewidth": 0,
             "ticks": ""
            },
            "colorscale": [
             [
              0,
              "#0d0887"
             ],
             [
              0.1111111111111111,
              "#46039f"
             ],
             [
              0.2222222222222222,
              "#7201a8"
             ],
             [
              0.3333333333333333,
              "#9c179e"
             ],
             [
              0.4444444444444444,
              "#bd3786"
             ],
             [
              0.5555555555555556,
              "#d8576b"
             ],
             [
              0.6666666666666666,
              "#ed7953"
             ],
             [
              0.7777777777777778,
              "#fb9f3a"
             ],
             [
              0.8888888888888888,
              "#fdca26"
             ],
             [
              1,
              "#f0f921"
             ]
            ],
            "type": "heatmapgl"
           }
          ],
          "histogram": [
           {
            "marker": {
             "pattern": {
              "fillmode": "overlay",
              "size": 10,
              "solidity": 0.2
             }
            },
            "type": "histogram"
           }
          ],
          "histogram2d": [
           {
            "colorbar": {
             "outlinewidth": 0,
             "ticks": ""
            },
            "colorscale": [
             [
              0,
              "#0d0887"
             ],
             [
              0.1111111111111111,
              "#46039f"
             ],
             [
              0.2222222222222222,
              "#7201a8"
             ],
             [
              0.3333333333333333,
              "#9c179e"
             ],
             [
              0.4444444444444444,
              "#bd3786"
             ],
             [
              0.5555555555555556,
              "#d8576b"
             ],
             [
              0.6666666666666666,
              "#ed7953"
             ],
             [
              0.7777777777777778,
              "#fb9f3a"
             ],
             [
              0.8888888888888888,
              "#fdca26"
             ],
             [
              1,
              "#f0f921"
             ]
            ],
            "type": "histogram2d"
           }
          ],
          "histogram2dcontour": [
           {
            "colorbar": {
             "outlinewidth": 0,
             "ticks": ""
            },
            "colorscale": [
             [
              0,
              "#0d0887"
             ],
             [
              0.1111111111111111,
              "#46039f"
             ],
             [
              0.2222222222222222,
              "#7201a8"
             ],
             [
              0.3333333333333333,
              "#9c179e"
             ],
             [
              0.4444444444444444,
              "#bd3786"
             ],
             [
              0.5555555555555556,
              "#d8576b"
             ],
             [
              0.6666666666666666,
              "#ed7953"
             ],
             [
              0.7777777777777778,
              "#fb9f3a"
             ],
             [
              0.8888888888888888,
              "#fdca26"
             ],
             [
              1,
              "#f0f921"
             ]
            ],
            "type": "histogram2dcontour"
           }
          ],
          "mesh3d": [
           {
            "colorbar": {
             "outlinewidth": 0,
             "ticks": ""
            },
            "type": "mesh3d"
           }
          ],
          "parcoords": [
           {
            "line": {
             "colorbar": {
              "outlinewidth": 0,
              "ticks": ""
             }
            },
            "type": "parcoords"
           }
          ],
          "pie": [
           {
            "automargin": true,
            "type": "pie"
           }
          ],
          "scatter": [
           {
            "marker": {
             "colorbar": {
              "outlinewidth": 0,
              "ticks": ""
             }
            },
            "type": "scatter"
           }
          ],
          "scatter3d": [
           {
            "line": {
             "colorbar": {
              "outlinewidth": 0,
              "ticks": ""
             }
            },
            "marker": {
             "colorbar": {
              "outlinewidth": 0,
              "ticks": ""
             }
            },
            "type": "scatter3d"
           }
          ],
          "scattercarpet": [
           {
            "marker": {
             "colorbar": {
              "outlinewidth": 0,
              "ticks": ""
             }
            },
            "type": "scattercarpet"
           }
          ],
          "scattergeo": [
           {
            "marker": {
             "colorbar": {
              "outlinewidth": 0,
              "ticks": ""
             }
            },
            "type": "scattergeo"
           }
          ],
          "scattergl": [
           {
            "marker": {
             "colorbar": {
              "outlinewidth": 0,
              "ticks": ""
             }
            },
            "type": "scattergl"
           }
          ],
          "scattermapbox": [
           {
            "marker": {
             "colorbar": {
              "outlinewidth": 0,
              "ticks": ""
             }
            },
            "type": "scattermapbox"
           }
          ],
          "scatterpolar": [
           {
            "marker": {
             "colorbar": {
              "outlinewidth": 0,
              "ticks": ""
             }
            },
            "type": "scatterpolar"
           }
          ],
          "scatterpolargl": [
           {
            "marker": {
             "colorbar": {
              "outlinewidth": 0,
              "ticks": ""
             }
            },
            "type": "scatterpolargl"
           }
          ],
          "scatterternary": [
           {
            "marker": {
             "colorbar": {
              "outlinewidth": 0,
              "ticks": ""
             }
            },
            "type": "scatterternary"
           }
          ],
          "surface": [
           {
            "colorbar": {
             "outlinewidth": 0,
             "ticks": ""
            },
            "colorscale": [
             [
              0,
              "#0d0887"
             ],
             [
              0.1111111111111111,
              "#46039f"
             ],
             [
              0.2222222222222222,
              "#7201a8"
             ],
             [
              0.3333333333333333,
              "#9c179e"
             ],
             [
              0.4444444444444444,
              "#bd3786"
             ],
             [
              0.5555555555555556,
              "#d8576b"
             ],
             [
              0.6666666666666666,
              "#ed7953"
             ],
             [
              0.7777777777777778,
              "#fb9f3a"
             ],
             [
              0.8888888888888888,
              "#fdca26"
             ],
             [
              1,
              "#f0f921"
             ]
            ],
            "type": "surface"
           }
          ],
          "table": [
           {
            "cells": {
             "fill": {
              "color": "#EBF0F8"
             },
             "line": {
              "color": "white"
             }
            },
            "header": {
             "fill": {
              "color": "#C8D4E3"
             },
             "line": {
              "color": "white"
             }
            },
            "type": "table"
           }
          ]
         },
         "layout": {
          "annotationdefaults": {
           "arrowcolor": "#2a3f5f",
           "arrowhead": 0,
           "arrowwidth": 1
          },
          "autotypenumbers": "strict",
          "coloraxis": {
           "colorbar": {
            "outlinewidth": 0,
            "ticks": ""
           }
          },
          "colorscale": {
           "diverging": [
            [
             0,
             "#8e0152"
            ],
            [
             0.1,
             "#c51b7d"
            ],
            [
             0.2,
             "#de77ae"
            ],
            [
             0.3,
             "#f1b6da"
            ],
            [
             0.4,
             "#fde0ef"
            ],
            [
             0.5,
             "#f7f7f7"
            ],
            [
             0.6,
             "#e6f5d0"
            ],
            [
             0.7,
             "#b8e186"
            ],
            [
             0.8,
             "#7fbc41"
            ],
            [
             0.9,
             "#4d9221"
            ],
            [
             1,
             "#276419"
            ]
           ],
           "sequential": [
            [
             0,
             "#0d0887"
            ],
            [
             0.1111111111111111,
             "#46039f"
            ],
            [
             0.2222222222222222,
             "#7201a8"
            ],
            [
             0.3333333333333333,
             "#9c179e"
            ],
            [
             0.4444444444444444,
             "#bd3786"
            ],
            [
             0.5555555555555556,
             "#d8576b"
            ],
            [
             0.6666666666666666,
             "#ed7953"
            ],
            [
             0.7777777777777778,
             "#fb9f3a"
            ],
            [
             0.8888888888888888,
             "#fdca26"
            ],
            [
             1,
             "#f0f921"
            ]
           ],
           "sequentialminus": [
            [
             0,
             "#0d0887"
            ],
            [
             0.1111111111111111,
             "#46039f"
            ],
            [
             0.2222222222222222,
             "#7201a8"
            ],
            [
             0.3333333333333333,
             "#9c179e"
            ],
            [
             0.4444444444444444,
             "#bd3786"
            ],
            [
             0.5555555555555556,
             "#d8576b"
            ],
            [
             0.6666666666666666,
             "#ed7953"
            ],
            [
             0.7777777777777778,
             "#fb9f3a"
            ],
            [
             0.8888888888888888,
             "#fdca26"
            ],
            [
             1,
             "#f0f921"
            ]
           ]
          },
          "colorway": [
           "#636efa",
           "#EF553B",
           "#00cc96",
           "#ab63fa",
           "#FFA15A",
           "#19d3f3",
           "#FF6692",
           "#B6E880",
           "#FF97FF",
           "#FECB52"
          ],
          "font": {
           "color": "#2a3f5f"
          },
          "geo": {
           "bgcolor": "white",
           "lakecolor": "white",
           "landcolor": "#E5ECF6",
           "showlakes": true,
           "showland": true,
           "subunitcolor": "white"
          },
          "hoverlabel": {
           "align": "left"
          },
          "hovermode": "closest",
          "mapbox": {
           "style": "light"
          },
          "paper_bgcolor": "white",
          "plot_bgcolor": "#E5ECF6",
          "polar": {
           "angularaxis": {
            "gridcolor": "white",
            "linecolor": "white",
            "ticks": ""
           },
           "bgcolor": "#E5ECF6",
           "radialaxis": {
            "gridcolor": "white",
            "linecolor": "white",
            "ticks": ""
           }
          },
          "scene": {
           "xaxis": {
            "backgroundcolor": "#E5ECF6",
            "gridcolor": "white",
            "gridwidth": 2,
            "linecolor": "white",
            "showbackground": true,
            "ticks": "",
            "zerolinecolor": "white"
           },
           "yaxis": {
            "backgroundcolor": "#E5ECF6",
            "gridcolor": "white",
            "gridwidth": 2,
            "linecolor": "white",
            "showbackground": true,
            "ticks": "",
            "zerolinecolor": "white"
           },
           "zaxis": {
            "backgroundcolor": "#E5ECF6",
            "gridcolor": "white",
            "gridwidth": 2,
            "linecolor": "white",
            "showbackground": true,
            "ticks": "",
            "zerolinecolor": "white"
           }
          },
          "shapedefaults": {
           "line": {
            "color": "#2a3f5f"
           }
          },
          "ternary": {
           "aaxis": {
            "gridcolor": "white",
            "linecolor": "white",
            "ticks": ""
           },
           "baxis": {
            "gridcolor": "white",
            "linecolor": "white",
            "ticks": ""
           },
           "bgcolor": "#E5ECF6",
           "caxis": {
            "gridcolor": "white",
            "linecolor": "white",
            "ticks": ""
           }
          },
          "title": {
           "x": 0.05
          },
          "xaxis": {
           "automargin": true,
           "gridcolor": "white",
           "linecolor": "white",
           "ticks": "",
           "title": {
            "standoff": 15
           },
           "zerolinecolor": "white",
           "zerolinewidth": 2
          },
          "yaxis": {
           "automargin": true,
           "gridcolor": "white",
           "linecolor": "white",
           "ticks": "",
           "title": {
            "standoff": 15
           },
           "zerolinecolor": "white",
           "zerolinewidth": 2
          }
         }
        },
        "title": {
         "text": "Parallel Coordinate Plot"
        }
       }
      }
     },
     "metadata": {},
     "output_type": "display_data"
    }
   ],
   "source": [
    "optuna.visualization.plot_parallel_coordinate(study)"
   ]
  },
  {
   "cell_type": "code",
   "execution_count": 46,
   "id": "1d419df8",
   "metadata": {},
   "outputs": [
    {
     "name": "stdout",
     "output_type": "stream",
     "text": [
      "Best trial: {'n_estimators': 920, 'max_depth': 4, 'num_leaves': 27, 'min_child_samples': 8, 'num_iterations': 854}\n"
     ]
    },
    {
     "data": {
      "text/plain": [
       "920"
      ]
     },
     "execution_count": 46,
     "metadata": {},
     "output_type": "execute_result"
    }
   ],
   "source": [
    "print(\"Best trial:\", study.best_trial.params)\n",
    "study.best_trial.params[\"n_estimators\"]"
   ]
  },
  {
   "cell_type": "code",
   "execution_count": 47,
   "id": "ffefef6c",
   "metadata": {},
   "outputs": [
    {
     "data": {
      "text/html": [
       "<style>#sk-container-id-3 {color: black;}#sk-container-id-3 pre{padding: 0;}#sk-container-id-3 div.sk-toggleable {background-color: white;}#sk-container-id-3 label.sk-toggleable__label {cursor: pointer;display: block;width: 100%;margin-bottom: 0;padding: 0.3em;box-sizing: border-box;text-align: center;}#sk-container-id-3 label.sk-toggleable__label-arrow:before {content: \"▸\";float: left;margin-right: 0.25em;color: #696969;}#sk-container-id-3 label.sk-toggleable__label-arrow:hover:before {color: black;}#sk-container-id-3 div.sk-estimator:hover label.sk-toggleable__label-arrow:before {color: black;}#sk-container-id-3 div.sk-toggleable__content {max-height: 0;max-width: 0;overflow: hidden;text-align: left;background-color: #f0f8ff;}#sk-container-id-3 div.sk-toggleable__content pre {margin: 0.2em;color: black;border-radius: 0.25em;background-color: #f0f8ff;}#sk-container-id-3 input.sk-toggleable__control:checked~div.sk-toggleable__content {max-height: 200px;max-width: 100%;overflow: auto;}#sk-container-id-3 input.sk-toggleable__control:checked~label.sk-toggleable__label-arrow:before {content: \"▾\";}#sk-container-id-3 div.sk-estimator input.sk-toggleable__control:checked~label.sk-toggleable__label {background-color: #d4ebff;}#sk-container-id-3 div.sk-label input.sk-toggleable__control:checked~label.sk-toggleable__label {background-color: #d4ebff;}#sk-container-id-3 input.sk-hidden--visually {border: 0;clip: rect(1px 1px 1px 1px);clip: rect(1px, 1px, 1px, 1px);height: 1px;margin: -1px;overflow: hidden;padding: 0;position: absolute;width: 1px;}#sk-container-id-3 div.sk-estimator {font-family: monospace;background-color: #f0f8ff;border: 1px dotted black;border-radius: 0.25em;box-sizing: border-box;margin-bottom: 0.5em;}#sk-container-id-3 div.sk-estimator:hover {background-color: #d4ebff;}#sk-container-id-3 div.sk-parallel-item::after {content: \"\";width: 100%;border-bottom: 1px solid gray;flex-grow: 1;}#sk-container-id-3 div.sk-label:hover label.sk-toggleable__label {background-color: #d4ebff;}#sk-container-id-3 div.sk-serial::before {content: \"\";position: absolute;border-left: 1px solid gray;box-sizing: border-box;top: 0;bottom: 0;left: 50%;z-index: 0;}#sk-container-id-3 div.sk-serial {display: flex;flex-direction: column;align-items: center;background-color: white;padding-right: 0.2em;padding-left: 0.2em;position: relative;}#sk-container-id-3 div.sk-item {position: relative;z-index: 1;}#sk-container-id-3 div.sk-parallel {display: flex;align-items: stretch;justify-content: center;background-color: white;position: relative;}#sk-container-id-3 div.sk-item::before, #sk-container-id-3 div.sk-parallel-item::before {content: \"\";position: absolute;border-left: 1px solid gray;box-sizing: border-box;top: 0;bottom: 0;left: 50%;z-index: -1;}#sk-container-id-3 div.sk-parallel-item {display: flex;flex-direction: column;z-index: 1;position: relative;background-color: white;}#sk-container-id-3 div.sk-parallel-item:first-child::after {align-self: flex-end;width: 50%;}#sk-container-id-3 div.sk-parallel-item:last-child::after {align-self: flex-start;width: 50%;}#sk-container-id-3 div.sk-parallel-item:only-child::after {width: 0;}#sk-container-id-3 div.sk-dashed-wrapped {border: 1px dashed gray;margin: 0 0.4em 0.5em 0.4em;box-sizing: border-box;padding-bottom: 0.4em;background-color: white;}#sk-container-id-3 div.sk-label label {font-family: monospace;font-weight: bold;display: inline-block;line-height: 1.2em;}#sk-container-id-3 div.sk-label-container {text-align: center;}#sk-container-id-3 div.sk-container {/* jupyter's `normalize.less` sets `[hidden] { display: none; }` but bootstrap.min.css set `[hidden] { display: none !important; }` so we also need the `!important` here to be able to override the default hidden behavior on the sphinx rendered scikit-learn.org. See: https://github.com/scikit-learn/scikit-learn/issues/21755 */display: inline-block !important;position: relative;}#sk-container-id-3 div.sk-text-repr-fallback {display: none;}</style><div id=\"sk-container-id-3\" class=\"sk-top-container\"><div class=\"sk-text-repr-fallback\"><pre>LGBMRegressor(max_depth=4, min_child_samples=8, n_estimators=920,\n",
       "              num_iterations=854, num_leaves=27, random_state=42)</pre><b>In a Jupyter environment, please rerun this cell to show the HTML representation or trust the notebook. <br />On GitHub, the HTML representation is unable to render, please try loading this page with nbviewer.org.</b></div><div class=\"sk-container\" hidden><div class=\"sk-item\"><div class=\"sk-estimator sk-toggleable\"><input class=\"sk-toggleable__control sk-hidden--visually\" id=\"sk-estimator-id-3\" type=\"checkbox\" checked><label for=\"sk-estimator-id-3\" class=\"sk-toggleable__label sk-toggleable__label-arrow\">LGBMRegressor</label><div class=\"sk-toggleable__content\"><pre>LGBMRegressor(max_depth=4, min_child_samples=8, n_estimators=920,\n",
       "              num_iterations=854, num_leaves=27, random_state=42)</pre></div></div></div></div></div>"
      ],
      "text/plain": [
       "LGBMRegressor(max_depth=4, min_child_samples=8, n_estimators=920,\n",
       "              num_iterations=854, num_leaves=27, random_state=42)"
      ]
     },
     "execution_count": 47,
     "metadata": {},
     "output_type": "execute_result"
    }
   ],
   "source": [
    "lgbm_params = {\n",
    "    \"random_state\": 42,\n",
    "    \"learning_rate\": 0.1,\n",
    "    \"n_estimators\": study.best_trial.params[\"n_estimators\"],\n",
    "    \"max_depth\": study.best_trial.params[\"max_depth\"],\n",
    "    \"num_leaves\": study.best_trial.params[\"num_leaves\"],\n",
    "    \"min_child_samples\": study.best_trial.params[\"min_child_samples\"],\n",
    "    \"num_iterations\": study.best_trial.params[\"num_iterations\"]\n",
    "}\n",
    "\n",
    "lgbm = LGBMRegressor(**lgbm_params)\n",
    "lgbm.fit(Ni_X_train, Ni_y_train)"
   ]
  },
  {
   "cell_type": "code",
   "execution_count": 48,
   "id": "4c1a69d2",
   "metadata": {},
   "outputs": [],
   "source": [
    "y_train_pred = lgbm.predict(Ni_X_train)\n",
    "y_test_pred = lgbm.predict(Ni_X_test)"
   ]
  },
  {
   "cell_type": "code",
   "execution_count": 49,
   "id": "0f707a20",
   "metadata": {},
   "outputs": [
    {
     "name": "stdout",
     "output_type": "stream",
     "text": [
      "Train RMSE:  0.060822308311871166\n",
      "Test RMSE:  0.9610217100962682\n"
     ]
    }
   ],
   "source": [
    "print(\"Train RMSE: \", np.sqrt(mean_squared_error(Ni_y_train, y_train_pred)))\n",
    "print(\"Test RMSE: \", np.sqrt(mean_squared_error(Ni_y_test, y_test_pred)))"
   ]
  },
  {
   "cell_type": "code",
   "execution_count": 50,
   "id": "641d78f4",
   "metadata": {},
   "outputs": [
    {
     "name": "stdout",
     "output_type": "stream",
     "text": [
      "Train R2:  0.9973165566343807\n",
      "Test R2:  0.45545386481607175\n"
     ]
    }
   ],
   "source": [
    "print(\"Train R2: \", r2_score(Ni_y_train, y_train_pred))\n",
    "print(\"Test R2: \", r2_score(Ni_y_test, y_test_pred))"
   ]
  },
  {
   "cell_type": "code",
   "execution_count": 51,
   "id": "badc2f1d",
   "metadata": {},
   "outputs": [
    {
     "data": {
      "image/png": "[encoded data removed]",
      "text/plain": [
       "<Figure size 640x480 with 1 Axes>"
      ]
     },
     "metadata": {},
     "output_type": "display_data"
    }
   ],
   "source": [
    "plt.scatter(y_train_pred, np.array(Ni_y_train), color=\"orange\", alpha=0.3)\n",
    "plt.scatter(y_test_pred, np.array(Ni_y_test), color=\"green\", alpha=0.4)\n",
    "plt.axis(\"auto\") # scaled, tight, auto, image, square\n",
    "# plt.xlim([0, 1.5]) \n",
    "# plt.ylim(0, None) \n",
    "plt.xlabel('Predicted Values')\n",
    "plt.ylabel('Actual Values')\n",
    "\n",
    "# Add y=x line\n",
    "plt.plot([0, 4.0], [0, 4.0], color='red', linestyle='-')\n",
    "\n",
    "plt.show()"
   ]
  }
 ],
 "metadata": {
  "kernelspec": {
   "display_name": "Python 3",
   "language": "python",
   "name": "python3"
  },
  "language_info": {
   "codemirror_mode": {
    "name": "ipython",
    "version": 3
   },
   "file_extension": ".py",
   "mimetype": "text/x-python",
   "name": "python",
   "nbconvert_exporter": "python",
   "pygments_lexer": "ipython3",
   "version": "3.8.11"
  }
 },
 "nbformat": 4,
 "nbformat_minor": 5
}
