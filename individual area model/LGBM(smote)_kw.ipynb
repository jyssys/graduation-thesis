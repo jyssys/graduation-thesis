{
 "cells": [
  {
   "attachments": {},
   "cell_type": "markdown",
   "id": "451911be",
   "metadata": {},
   "source": [
    "#### Library import"
   ]
  },
  {
   "cell_type": "code",
   "execution_count": 10,
   "id": "8a394942",
   "metadata": {},
   "outputs": [],
   "source": [
    "import os\n",
    "import pandas as pd\n",
    "import numpy as np\n",
    "import matplotlib.pyplot as plt\n",
    "%matplotlib inline\n",
    "import seaborn as sns\n",
    "import tensorflow as tf\n",
    "import missingno as msno\n",
    "\n",
    "import warnings\n",
    "warnings.filterwarnings('ignore')\n",
    "\n",
    "from sklearn.model_selection import train_test_split\n",
    "from sklearn.model_selection import GridSearchCV\n",
    "from sklearn.metrics import mean_squared_error, r2_score\n",
    "from sklearn.preprocessing import StandardScaler, MinMaxScaler, RobustScaler\n",
    "from sklearn.ensemble import RandomForestRegressor, GradientBoostingRegressor, ExtraTreesRegressor\n",
    "from sklearn.model_selection import KFold\n",
    "from lightgbm import LGBMRegressor\n",
    "from xgboost import XGBRegressor\n",
    "from ngboost import NGBRegressor\n",
    "from scipy.stats import norm, skew\n",
    "\n",
    "from matplotlib.ticker import FormatStrFormatter\n",
    "\n",
    "import re\n",
    "from tqdm import tqdm"
   ]
  },
  {
   "attachments": {},
   "cell_type": "markdown",
   "id": "31a13d68",
   "metadata": {},
   "source": [
    "#### GPU setting"
   ]
  },
  {
   "cell_type": "code",
   "execution_count": 11,
   "id": "0ff69fbf",
   "metadata": {},
   "outputs": [],
   "source": [
    "from tensorflow.compat.v1 import ConfigProto\n",
    "from tensorflow.compat.v1 import InteractiveSession"
   ]
  },
  {
   "cell_type": "code",
   "execution_count": 12,
   "id": "1c359e17",
   "metadata": {},
   "outputs": [],
   "source": [
    "config = ConfigProto()\n",
    "config.gpu_options.per_process_gpu_memory_fraction = 0.4\n",
    "session = InteractiveSession(config = config)"
   ]
  },
  {
   "cell_type": "code",
   "execution_count": 13,
   "id": "c1894e3b",
   "metadata": {},
   "outputs": [
    {
     "name": "stdout",
     "output_type": "stream",
     "text": [
      "[name: \"/device:CPU:0\"\n",
      "device_type: \"CPU\"\n",
      "memory_limit: 268435456\n",
      "locality {\n",
      "}\n",
      "incarnation: 17169223727315864672\n",
      ", name: \"/device:GPU:0\"\n",
      "device_type: \"GPU\"\n",
      "memory_limit: 3435973836\n",
      "locality {\n",
      "  bus_id: 1\n",
      "  links {\n",
      "  }\n",
      "}\n",
      "incarnation: 15168858828922143009\n",
      "physical_device_desc: \"device: 0, name: NVIDIA GeForce RTX 3060 Ti, pci bus id: 0000:07:00.0, compute capability: 8.6\"\n",
      "]\n"
     ]
    }
   ],
   "source": [
    "physical_devices = tf.config.list_physical_devices('GPU')\n",
    "physical_devices\n",
    "\n",
    "from tensorflow.python.client import device_lib\n",
    "\n",
    "print(device_lib.list_local_devices())"
   ]
  },
  {
   "cell_type": "code",
   "execution_count": 14,
   "id": "324427e4",
   "metadata": {},
   "outputs": [],
   "source": [
    "import os\n",
    "\n",
    "os.environ[\"CUDA_VISIBLE_DEVICES\"]=\"0\"\n",
    "gpus = tf.config.experimental.list_physical_devices('GPU')\n",
    "if gpus:\n",
    "    try:\n",
    "        tf.config.experimental.set_memory_growth(gpus[0], True)\n",
    "    except RuntimeError as e:\n",
    "        print(e)"
   ]
  },
  {
   "attachments": {},
   "cell_type": "markdown",
   "id": "cb740f81",
   "metadata": {},
   "source": [
    "#### Data import and preprocessing"
   ]
  },
  {
   "cell_type": "code",
   "execution_count": 15,
   "id": "9288345d",
   "metadata": {
    "scrolled": true
   },
   "outputs": [
    {
     "data": {
      "text/plain": [
       "Index(['OBJECTID_x', 'ID', 'pH', 'As', 'Cd', 'Ni', 'Pb', 'Zn', 'Hg', 'slope',\n",
       "       'altitude', 'profile_curve', 'profile_c_num', 'profile_c_abs',\n",
       "       'planform_curve', 'planform_c_num', 'planform_c_abs', 'HYDGRP',\n",
       "       'HYDGRP_A', 'HYDGRP_B', 'HYDGRP_C', 'HYDGRP_D', 'ANION_EXCL', 'SOL_CRK',\n",
       "       'SOL_K1', 'CLAY1', 'SILT1', 'SAND1', 'ROCK1', 'SOL_EC1', 'distance'],\n",
       "      dtype='object')"
      ]
     },
     "execution_count": 15,
     "metadata": {},
     "output_type": "execute_result"
    }
   ],
   "source": [
    "data = pd.read_csv(\"data/data_kw.csv\")\n",
    "data.columns"
   ]
  },
  {
   "cell_type": "code",
   "execution_count": 16,
   "id": "bbf87a23",
   "metadata": {},
   "outputs": [
    {
     "data": {
      "text/plain": [
       "Index(['pH', 'As', 'Cd', 'Ni', 'Pb', 'Zn', 'Hg', 'slope', 'altitude',\n",
       "       'profile_curve', 'planform_curve', 'HYDGRP_A', 'HYDGRP_B', 'HYDGRP_C',\n",
       "       'HYDGRP_D', 'SOL_K1', 'CLAY1', 'SILT1', 'SAND1', 'ROCK1', 'distance'],\n",
       "      dtype='object')"
      ]
     },
     "execution_count": 16,
     "metadata": {},
     "output_type": "execute_result"
    }
   ],
   "source": [
    "data = data.drop(['OBJECTID_x','ID','HYDGRP','profile_c_num', 'profile_c_abs','planform_c_num', 'planform_c_abs','ANION_EXCL','SOL_CRK','SOL_EC1'], axis = 1)\n",
    "data.columns"
   ]
  },
  {
   "cell_type": "code",
   "execution_count": 17,
   "id": "8d9bad18",
   "metadata": {},
   "outputs": [],
   "source": [
    "As = data\n",
    "Cd = data\n",
    "Ni = data"
   ]
  },
  {
   "cell_type": "code",
   "execution_count": 18,
   "id": "b1dbe457",
   "metadata": {},
   "outputs": [],
   "source": [
    "As = As.drop([\"Cd\", \"Ni\", \"Pb\", \"Zn\", \"Hg\"], axis = 1)\n",
    "Cd = Cd.drop([\"As\", \"Ni\", \"Pb\", \"Zn\", \"Hg\"], axis = 1)\n",
    "Ni = Ni.drop([\"As\", \"Cd\", \"Pb\", \"Zn\", \"Hg\"], axis = 1)"
   ]
  },
  {
   "cell_type": "code",
   "execution_count": 19,
   "id": "3077737a",
   "metadata": {},
   "outputs": [
    {
     "name": "stdout",
     "output_type": "stream",
     "text": [
      "(677, 16)\n",
      "(677, 16)\n",
      "(677, 16)\n"
     ]
    }
   ],
   "source": [
    "print(As.shape)\n",
    "print(Cd.shape)\n",
    "print(Ni.shape)"
   ]
  },
  {
   "cell_type": "markdown",
   "id": "89adead2",
   "metadata": {},
   "source": [
    "#### Oversampling by SMOGN (SMOTE Regression)"
   ]
  },
  {
   "cell_type": "code",
   "execution_count": 20,
   "id": "d0a159ca",
   "metadata": {},
   "outputs": [],
   "source": [
    "import smogn"
   ]
  },
  {
   "cell_type": "code",
   "execution_count": 21,
   "id": "d5fd8af3",
   "metadata": {},
   "outputs": [
    {
     "name": "stderr",
     "output_type": "stream",
     "text": [
      "dist_matrix:   0%|          | 0/134 [00:00<?, ?it/s]"
     ]
    },
    {
     "name": "stderr",
     "output_type": "stream",
     "text": [
      "dist_matrix: 100%|##########| 134/134 [00:06<00:00, 19.41it/s]\n",
      "synth_matrix: 100%|##########| 134/134 [00:00<00:00, 204.53it/s]\n",
      "dist_matrix: 100%|##########| 159/159 [00:09<00:00, 16.44it/s]\n",
      "synth_matrix: 100%|##########| 159/159 [00:00<00:00, 316.03it/s]\n",
      "r_index: 100%|##########| 47/47 [00:00<00:00, 634.98it/s]\n",
      "dist_matrix: 100%|##########| 127/127 [00:06<00:00, 20.65it/s]\n",
      "synth_matrix: 100%|##########| 127/127 [00:00<00:00, 201.22it/s]\n",
      "r_index: 100%|##########| 38/38 [00:00<00:00, 575.63it/s]\n"
     ]
    }
   ],
   "source": [
    "As_smogn = smogn.smoter(data = As, y = 'As', samp_method = 'extreme')\n",
    "Cd_smogn = smogn.smoter(data = Cd, y = 'Cd', samp_method = 'extreme')\n",
    "Ni_smogn = smogn.smoter(data = Ni, y = 'Ni', samp_method = 'extreme')"
   ]
  },
  {
   "cell_type": "code",
   "execution_count": 22,
   "id": "ea3035fe",
   "metadata": {},
   "outputs": [
    {
     "name": "stdout",
     "output_type": "stream",
     "text": [
      "(971, 16)\n",
      "(887, 16)\n",
      "(986, 16)\n"
     ]
    }
   ],
   "source": [
    "print(As_smogn.shape)\n",
    "print(Cd_smogn.shape)\n",
    "print(Ni_smogn.shape)"
   ]
  },
  {
   "attachments": {},
   "cell_type": "markdown",
   "id": "ed72a9b1",
   "metadata": {},
   "source": [
    "#### Eliminate outlier and train / test split"
   ]
  },
  {
   "cell_type": "code",
   "execution_count": 23,
   "id": "43604a42",
   "metadata": {},
   "outputs": [],
   "source": [
    "def eli_outlier(data, value):\n",
    "    q1 = data[value].quantile(0.25)\n",
    "    q3 = data[value].quantile(0.75)\n",
    "\n",
    "    iqr = q3 - q1\n",
    "\n",
    "    q1_condition = data[value] < q1-1.5*iqr\n",
    "    q3_condition = data[value] > q3+1.5*iqr\n",
    "\n",
    "    reset_q1_index = data[q1_condition].index\n",
    "    reset_q3_index = data[q3_condition].index\n",
    "\n",
    "    data.drop(reset_q1_index, inplace = True)\n",
    "    data.drop(reset_q3_index, inplace = True)\n",
    "\n",
    "    return data"
   ]
  },
  {
   "cell_type": "code",
   "execution_count": 24,
   "id": "9b7632f2",
   "metadata": {},
   "outputs": [],
   "source": [
    "As_ros = eli_outlier(As_smogn, \"As\")\n",
    "Cd_ros = eli_outlier(Cd_smogn, \"Cd\")\n",
    "Ni_ros = eli_outlier(Ni_smogn, \"Ni\")"
   ]
  },
  {
   "cell_type": "code",
   "execution_count": 25,
   "id": "c05c01a2",
   "metadata": {},
   "outputs": [],
   "source": [
    "As_X = As_ros.drop([\"As\"], axis=1)\n",
    "Cd_X = Cd_ros.drop([\"Cd\"], axis=1)\n",
    "Ni_X = Ni_ros.drop([\"Ni\"], axis=1)\n",
    "\n",
    "As_y = As_ros[\"As\"]\n",
    "Cd_y = Cd_ros[\"Cd\"]\n",
    "Ni_y = Ni_ros[\"Ni\"]"
   ]
  },
  {
   "cell_type": "code",
   "execution_count": 26,
   "id": "7237a19a",
   "metadata": {},
   "outputs": [],
   "source": [
    "As_y = np.log1p(As_ros[\"As\"])\n",
    "Cd_y = np.log1p(Cd_ros[\"Cd\"])\n",
    "Ni_y = np.log1p(Ni_ros[\"Ni\"])"
   ]
  },
  {
   "cell_type": "code",
   "execution_count": 27,
   "id": "9b2b0920",
   "metadata": {},
   "outputs": [
    {
     "name": "stdout",
     "output_type": "stream",
     "text": [
      "(789, 15)\n",
      "(723, 15)\n",
      "(978, 15)\n"
     ]
    }
   ],
   "source": [
    "print(As_X.shape)\n",
    "print(Cd_X.shape)\n",
    "print(Ni_X.shape)"
   ]
  },
  {
   "attachments": {},
   "cell_type": "markdown",
   "id": "c92e5bb6",
   "metadata": {},
   "source": [
    "StandardScaler"
   ]
  },
  {
   "cell_type": "code",
   "execution_count": 28,
   "id": "416a7027",
   "metadata": {},
   "outputs": [],
   "source": [
    "from sklearn.preprocessing import StandardScaler\n",
    "\n",
    "scaler = StandardScaler()\n",
    "As_X_scaled = scaler.fit_transform(As_X)\n",
    "Cd_X_scaled = scaler.fit_transform(Cd_X)\n",
    "Ni_X_scaled = scaler.fit_transform(Ni_X)\n",
    "\n",
    "As_X_train, As_X_test, As_y_train, As_y_test = train_test_split(As_X_scaled, As_y, test_size=0.3, random_state=42)\n",
    "Cd_X_train, Cd_X_test, Cd_y_train, Cd_y_test = train_test_split(Cd_X_scaled, Cd_y, test_size=0.3, random_state=42)\n",
    "Ni_X_train, Ni_X_test, Ni_y_train, Ni_y_test = train_test_split(Ni_X_scaled, Ni_y, test_size=0.3, random_state=42)"
   ]
  },
  {
   "attachments": {},
   "cell_type": "markdown",
   "id": "2fe0d293",
   "metadata": {},
   "source": [
    "MinMaxScaler"
   ]
  },
  {
   "cell_type": "code",
   "execution_count": 29,
   "id": "e8596f9f",
   "metadata": {},
   "outputs": [],
   "source": [
    "# from sklearn.preprocessing import MinMaxScaler\n",
    "\n",
    "# scaler = MinMaxScaler()\n",
    "# As_X_scaled = scaler.fit_transform(As_X)\n",
    "# Cd_X_scaled = scaler.fit_transform(Cd_X)\n",
    "# Ni_X_scaled = scaler.fit_transform(Ni_X)\n",
    "\n",
    "# As_X_train, As_X_test, As_y_train, As_y_test = train_test_split(As_X_scaled, As_y, test_size=0.2, random_state=42)\n",
    "# Cd_X_train, Cd_X_test, Cd_y_train, Cd_y_test = train_test_split(Cd_X_scaled, Cd_y, test_size=0.2, random_state=42)\n",
    "# Ni_X_train, Ni_X_test, Ni_y_train, Ni_y_test = train_test_split(Ni_X_scaled, Ni_y, test_size=0.2, random_state=42)"
   ]
  },
  {
   "cell_type": "code",
   "execution_count": 30,
   "id": "c6cad4b1",
   "metadata": {},
   "outputs": [
    {
     "name": "stdout",
     "output_type": "stream",
     "text": [
      "(552, 15)\n",
      "(506, 15)\n",
      "(684, 15)\n"
     ]
    }
   ],
   "source": [
    "print(As_X_train.shape)\n",
    "print(Cd_X_train.shape)\n",
    "print(Ni_X_train.shape)"
   ]
  },
  {
   "attachments": {},
   "cell_type": "markdown",
   "id": "bd11b27e",
   "metadata": {},
   "source": [
    "#### 10-Fold Crossvalidation"
   ]
  },
  {
   "cell_type": "code",
   "execution_count": 31,
   "id": "7a765916",
   "metadata": {},
   "outputs": [],
   "source": [
    "kf = KFold(n_splits = 5, random_state = 42, shuffle = True)"
   ]
  },
  {
   "attachments": {},
   "cell_type": "markdown",
   "id": "859638d0",
   "metadata": {},
   "source": [
    "#### Optuna Optimization"
   ]
  },
  {
   "cell_type": "code",
   "execution_count": 32,
   "id": "92a47d83",
   "metadata": {},
   "outputs": [],
   "source": [
    "import optuna\n",
    "\n",
    "from optuna import Trial\n",
    "from optuna.samplers import TPESampler"
   ]
  },
  {
   "cell_type": "code",
   "execution_count": 33,
   "id": "a7669fea",
   "metadata": {},
   "outputs": [],
   "source": [
    "from sklearn.model_selection import cross_val_score\n",
    "\n",
    "def objectiveLGBM(trial: Trial, X_train, y_train) -> float:\n",
    "    lgbm_paramas = {\n",
    "        \"random_state\": 42,\n",
    "        \"learning_rate\": 0.1, \n",
    "        \"n_estimators\": trial.suggest_int(\"n_estimators\", 500, 1000),\n",
    "        \"max_depth\": trial.suggest_int(\"max_depth\", 1, 30),\n",
    "        \"num_leaves\": trial.suggest_int(\"num_leaves\", 2, 32),\n",
    "        \"min_child_samples\": trial.suggest_int(\"min_child_samples\", 1, 10),\n",
    "        \"num_iterations\": trial.suggest_int(\"num_iterations\", 500, 1000)\n",
    "    }\n",
    "    \n",
    "    lgbm = LGBMRegressor(**lgbm_paramas)\n",
    "    r2 = cross_val_score(lgbm, X_train, y_train, scoring = \"r2\", cv = kf)\n",
    "    r2 = r2.mean()\n",
    "    \n",
    "    return r2"
   ]
  },
  {
   "attachments": {},
   "cell_type": "markdown",
   "id": "b0988f46",
   "metadata": {},
   "source": [
    "####  Optimization"
   ]
  },
  {
   "cell_type": "code",
   "execution_count": 34,
   "id": "94f5e00d",
   "metadata": {
    "scrolled": false
   },
   "outputs": [
    {
     "name": "stderr",
     "output_type": "stream",
     "text": [
      "\u001b[32m[I 2023-08-18 01:43:13,890]\u001b[0m A new study created in memory with name: lgbm_parameter_opt\u001b[0m\n",
      "\u001b[32m[I 2023-08-18 01:43:14,750]\u001b[0m Trial 0 finished with value: 0.5373113016750208 and parameters: {'n_estimators': 549, 'max_depth': 9, 'num_leaves': 9, 'min_child_samples': 6, 'num_iterations': 711}. Best is trial 0 with value: 0.5373113016750208.\u001b[0m\n",
      "\u001b[32m[I 2023-08-18 01:43:16,265]\u001b[0m Trial 1 finished with value: 0.5128016678153847 and parameters: {'n_estimators': 954, 'max_depth': 8, 'num_leaves': 14, 'min_child_samples': 8, 'num_iterations': 958}. Best is trial 0 with value: 0.5373113016750208.\u001b[0m\n",
      "\u001b[32m[I 2023-08-18 01:43:16,924]\u001b[0m Trial 2 finished with value: 0.5376734017739605 and parameters: {'n_estimators': 988, 'max_depth': 3, 'num_leaves': 27, 'min_child_samples': 2, 'num_iterations': 717}. Best is trial 2 with value: 0.5376734017739605.\u001b[0m\n",
      "\u001b[32m[I 2023-08-18 01:43:19,698]\u001b[0m Trial 3 finished with value: 0.514829069360739 and parameters: {'n_estimators': 546, 'max_depth': 27, 'num_leaves': 30, 'min_child_samples': 6, 'num_iterations': 894}. Best is trial 2 with value: 0.5376734017739605.\u001b[0m\n",
      "\u001b[32m[I 2023-08-18 01:43:21,808]\u001b[0m Trial 4 finished with value: 0.5073118818445325 and parameters: {'n_estimators': 570, 'max_depth': 12, 'num_leaves': 29, 'min_child_samples': 1, 'num_iterations': 560}. Best is trial 2 with value: 0.5376734017739605.\u001b[0m\n",
      "\u001b[32m[I 2023-08-18 01:43:22,534]\u001b[0m Trial 5 finished with value: 0.5641152331281905 and parameters: {'n_estimators': 910, 'max_depth': 7, 'num_leaves': 6, 'min_child_samples': 2, 'num_iterations': 767}. Best is trial 5 with value: 0.5641152331281905.\u001b[0m\n",
      "\u001b[32m[I 2023-08-18 01:43:25,474]\u001b[0m Trial 6 finished with value: 0.5058641890519179 and parameters: {'n_estimators': 848, 'max_depth': 19, 'num_leaves': 29, 'min_child_samples': 7, 'num_iterations': 977}. Best is trial 5 with value: 0.5641152331281905.\u001b[0m\n",
      "\u001b[32m[I 2023-08-18 01:43:26,095]\u001b[0m Trial 7 finished with value: 0.5427896092212364 and parameters: {'n_estimators': 660, 'max_depth': 7, 'num_leaves': 9, 'min_child_samples': 2, 'num_iterations': 529}. Best is trial 5 with value: 0.5641152331281905.\u001b[0m\n",
      "\u001b[32m[I 2023-08-18 01:43:27,602]\u001b[0m Trial 8 finished with value: 0.5143120960309068 and parameters: {'n_estimators': 746, 'max_depth': 29, 'num_leaves': 18, 'min_child_samples': 5, 'num_iterations': 737}. Best is trial 5 with value: 0.5641152331281905.\u001b[0m\n",
      "\u001b[32m[I 2023-08-18 01:43:29,594]\u001b[0m Trial 9 finished with value: 0.5286047236069722 and parameters: {'n_estimators': 659, 'max_depth': 28, 'num_leaves': 24, 'min_child_samples': 10, 'num_iterations': 767}. Best is trial 5 with value: 0.5641152331281905.\u001b[0m\n",
      "\u001b[32m[I 2023-08-18 01:43:29,937]\u001b[0m Trial 10 finished with value: 0.46720874362145776 and parameters: {'n_estimators': 872, 'max_depth': 18, 'num_leaves': 2, 'min_child_samples': 4, 'num_iterations': 839}. Best is trial 5 with value: 0.5641152331281905.\u001b[0m\n",
      "\u001b[32m[I 2023-08-18 01:43:30,123]\u001b[0m Trial 11 finished with value: 0.46615212727034 and parameters: {'n_estimators': 710, 'max_depth': 1, 'num_leaves': 5, 'min_child_samples': 3, 'num_iterations': 512}. Best is trial 5 with value: 0.5641152331281905.\u001b[0m\n",
      "\u001b[32m[I 2023-08-18 01:43:31,068]\u001b[0m Trial 12 finished with value: 0.5422541814272526 and parameters: {'n_estimators': 836, 'max_depth': 6, 'num_leaves': 11, 'min_child_samples': 1, 'num_iterations': 619}. Best is trial 5 with value: 0.5641152331281905.\u001b[0m\n",
      "\u001b[32m[I 2023-08-18 01:43:31,656]\u001b[0m Trial 13 finished with value: 0.5411997419975119 and parameters: {'n_estimators': 649, 'max_depth': 14, 'num_leaves': 8, 'min_child_samples': 3, 'num_iterations': 646}. Best is trial 5 with value: 0.5641152331281905.\u001b[0m\n",
      "\u001b[32m[I 2023-08-18 01:43:32,896]\u001b[0m Trial 14 finished with value: 0.531269259840277 and parameters: {'n_estimators': 792, 'max_depth': 5, 'num_leaves': 18, 'min_child_samples': 3, 'num_iterations': 820}. Best is trial 5 with value: 0.5641152331281905.\u001b[0m\n",
      "\u001b[32m[I 2023-08-18 01:43:33,168]\u001b[0m Trial 15 finished with value: 0.4653426043083332 and parameters: {'n_estimators': 921, 'max_depth': 11, 'num_leaves': 2, 'min_child_samples': 1, 'num_iterations': 630}. Best is trial 5 with value: 0.5641152331281905.\u001b[0m\n",
      "\u001b[32m[I 2023-08-18 01:43:35,037]\u001b[0m Trial 16 finished with value: 0.5281107200831542 and parameters: {'n_estimators': 628, 'max_depth': 22, 'num_leaves': 14, 'min_child_samples': 4, 'num_iterations': 801}. Best is trial 5 with value: 0.5641152331281905.\u001b[0m\n",
      "\u001b[32m[I 2023-08-18 01:43:35,476]\u001b[0m Trial 17 finished with value: 0.46822785213360163 and parameters: {'n_estimators': 720, 'max_depth': 1, 'num_leaves': 6, 'min_child_samples': 2, 'num_iterations': 889}. Best is trial 5 with value: 0.5641152331281905.\u001b[0m\n",
      "\u001b[32m[I 2023-08-18 01:43:36,660]\u001b[0m Trial 18 finished with value: 0.5276122783354525 and parameters: {'n_estimators': 503, 'max_depth': 7, 'num_leaves': 13, 'min_child_samples': 4, 'num_iterations': 669}. Best is trial 5 with value: 0.5641152331281905.\u001b[0m\n",
      "\u001b[32m[I 2023-08-18 01:43:38,716]\u001b[0m Trial 19 finished with value: 0.5273198077116323 and parameters: {'n_estimators': 788, 'max_depth': 16, 'num_leaves': 22, 'min_child_samples': 2, 'num_iterations': 514}. Best is trial 5 with value: 0.5641152331281905.\u001b[0m\n",
      "\u001b[32m[I 2023-08-18 01:43:39,200]\u001b[0m Trial 20 finished with value: 0.5222947744351738 and parameters: {'n_estimators': 897, 'max_depth': 11, 'num_leaves': 5, 'min_child_samples': 9, 'num_iterations': 585}. Best is trial 5 with value: 0.5641152331281905.\u001b[0m\n",
      "\u001b[32m[I 2023-08-18 01:43:40,173]\u001b[0m Trial 21 finished with value: 0.5383639219437434 and parameters: {'n_estimators': 815, 'max_depth': 5, 'num_leaves': 11, 'min_child_samples': 1, 'num_iterations': 575}. Best is trial 5 with value: 0.5641152331281905.\u001b[0m\n",
      "\u001b[32m[I 2023-08-18 01:43:41,032]\u001b[0m Trial 22 finished with value: 0.5441073980056658 and parameters: {'n_estimators': 840, 'max_depth': 5, 'num_leaves': 10, 'min_child_samples': 2, 'num_iterations': 610}. Best is trial 5 with value: 0.5641152331281905.\u001b[0m\n",
      "\u001b[32m[I 2023-08-18 01:43:41,762]\u001b[0m Trial 23 finished with value: 0.5383030607225369 and parameters: {'n_estimators': 924, 'max_depth': 3, 'num_leaves': 8, 'min_child_samples': 2, 'num_iterations': 669}. Best is trial 5 with value: 0.5641152331281905.\u001b[0m\n",
      "\u001b[32m[I 2023-08-18 01:43:42,657]\u001b[0m Trial 24 finished with value: 0.5397867815887384 and parameters: {'n_estimators': 692, 'max_depth': 9, 'num_leaves': 11, 'min_child_samples': 5, 'num_iterations': 540}. Best is trial 5 with value: 0.5641152331281905.\u001b[0m\n",
      "\u001b[32m[I 2023-08-18 01:43:43,231]\u001b[0m Trial 25 finished with value: 0.5448364015339245 and parameters: {'n_estimators': 762, 'max_depth': 13, 'num_leaves': 5, 'min_child_samples': 3, 'num_iterations': 592}. Best is trial 5 with value: 0.5641152331281905.\u001b[0m\n",
      "\u001b[32m[I 2023-08-18 01:43:43,686]\u001b[0m Trial 26 finished with value: 0.529789881248379 and parameters: {'n_estimators': 767, 'max_depth': 14, 'num_leaves': 4, 'min_child_samples': 3, 'num_iterations': 605}. Best is trial 5 with value: 0.5641152331281905.\u001b[0m\n",
      "\u001b[32m[I 2023-08-18 01:43:45,149]\u001b[0m Trial 27 finished with value: 0.526805307113586 and parameters: {'n_estimators': 876, 'max_depth': 22, 'num_leaves': 16, 'min_child_samples': 4, 'num_iterations': 688}. Best is trial 5 with value: 0.5641152331281905.\u001b[0m\n",
      "\u001b[32m[I 2023-08-18 01:43:45,875]\u001b[0m Trial 28 finished with value: 0.5438000593161222 and parameters: {'n_estimators': 1000, 'max_depth': 12, 'num_leaves': 7, 'min_child_samples': 3, 'num_iterations': 776}. Best is trial 5 with value: 0.5641152331281905.\u001b[0m\n",
      "\u001b[32m[I 2023-08-18 01:43:46,214]\u001b[0m Trial 29 finished with value: 0.5273536043186271 and parameters: {'n_estimators': 816, 'max_depth': 9, 'num_leaves': 3, 'min_child_samples': 7, 'num_iterations': 697}. Best is trial 5 with value: 0.5641152331281905.\u001b[0m\n",
      "\u001b[32m[I 2023-08-18 01:43:46,858]\u001b[0m Trial 30 finished with value: 0.5310228001995574 and parameters: {'n_estimators': 757, 'max_depth': 4, 'num_leaves': 10, 'min_child_samples': 5, 'num_iterations': 746}. Best is trial 5 with value: 0.5641152331281905.\u001b[0m\n",
      "\u001b[32m[I 2023-08-18 01:43:47,473]\u001b[0m Trial 31 finished with value: 0.5438540906266892 and parameters: {'n_estimators': 982, 'max_depth': 12, 'num_leaves': 7, 'min_child_samples': 3, 'num_iterations': 775}. Best is trial 5 with value: 0.5641152331281905.\u001b[0m\n",
      "\u001b[32m[I 2023-08-18 01:43:48,162]\u001b[0m Trial 32 finished with value: 0.5639393684574363 and parameters: {'n_estimators': 964, 'max_depth': 9, 'num_leaves': 6, 'min_child_samples': 2, 'num_iterations': 795}. Best is trial 5 with value: 0.5641152331281905.\u001b[0m\n",
      "\u001b[32m[I 2023-08-18 01:43:48,706]\u001b[0m Trial 33 finished with value: 0.5360459198094398 and parameters: {'n_estimators': 951, 'max_depth': 9, 'num_leaves': 4, 'min_child_samples': 2, 'num_iterations': 867}. Best is trial 5 with value: 0.5641152331281905.\u001b[0m\n",
      "\u001b[32m[I 2023-08-18 01:43:49,535]\u001b[0m Trial 34 finished with value: 0.5382593220749394 and parameters: {'n_estimators': 929, 'max_depth': 8, 'num_leaves': 6, 'min_child_samples': 1, 'num_iterations': 937}. Best is trial 5 with value: 0.5641152331281905.\u001b[0m\n",
      "\u001b[32m[I 2023-08-18 01:43:50,471]\u001b[0m Trial 35 finished with value: 0.554408516028958 and parameters: {'n_estimators': 965, 'max_depth': 15, 'num_leaves': 12, 'min_child_samples': 2, 'num_iterations': 719}. Best is trial 5 with value: 0.5641152331281905.\u001b[0m\n",
      "\u001b[32m[I 2023-08-18 01:43:51,668]\u001b[0m Trial 36 finished with value: 0.5524015339422386 and parameters: {'n_estimators': 903, 'max_depth': 16, 'num_leaves': 13, 'min_child_samples': 1, 'num_iterations': 729}. Best is trial 5 with value: 0.5641152331281905.\u001b[0m\n",
      "\u001b[32m[I 2023-08-18 01:43:52,906]\u001b[0m Trial 37 finished with value: 0.5523703676960208 and parameters: {'n_estimators': 967, 'max_depth': 16, 'num_leaves': 13, 'min_child_samples': 1, 'num_iterations': 718}. Best is trial 5 with value: 0.5641152331281905.\u001b[0m\n",
      "\u001b[32m[I 2023-08-18 01:43:54,564]\u001b[0m Trial 38 finished with value: 0.5454400283190334 and parameters: {'n_estimators': 952, 'max_depth': 19, 'num_leaves': 16, 'min_child_samples': 2, 'num_iterations': 799}. Best is trial 5 with value: 0.5641152331281905.\u001b[0m\n",
      "\u001b[32m[I 2023-08-18 01:43:56,327]\u001b[0m Trial 39 finished with value: 0.5204190409295569 and parameters: {'n_estimators': 896, 'max_depth': 26, 'num_leaves': 21, 'min_child_samples': 1, 'num_iterations': 730}. Best is trial 5 with value: 0.5641152331281905.\u001b[0m\n",
      "\u001b[32m[I 2023-08-18 01:43:57,720]\u001b[0m Trial 40 finished with value: 0.5276318417372299 and parameters: {'n_estimators': 894, 'max_depth': 18, 'num_leaves': 15, 'min_child_samples': 6, 'num_iterations': 845}. Best is trial 5 with value: 0.5641152331281905.\u001b[0m\n",
      "\u001b[32m[I 2023-08-18 01:43:59,538]\u001b[0m Trial 41 finished with value: 0.5395854368045939 and parameters: {'n_estimators': 969, 'max_depth': 17, 'num_leaves': 14, 'min_child_samples': 1, 'num_iterations': 759}. Best is trial 5 with value: 0.5641152331281905.\u001b[0m\n",
      "\u001b[32m[I 2023-08-18 01:44:00,853]\u001b[0m Trial 42 finished with value: 0.5544577045696124 and parameters: {'n_estimators': 964, 'max_depth': 15, 'num_leaves': 12, 'min_child_samples': 1, 'num_iterations': 716}. Best is trial 5 with value: 0.5641152331281905.\u001b[0m\n",
      "\u001b[32m[I 2023-08-18 01:44:02,065]\u001b[0m Trial 43 finished with value: 0.5545024105940684 and parameters: {'n_estimators': 938, 'max_depth': 22, 'num_leaves': 12, 'min_child_samples': 2, 'num_iterations': 710}. Best is trial 5 with value: 0.5641152331281905.\u001b[0m\n",
      "\u001b[32m[I 2023-08-18 01:44:03,075]\u001b[0m Trial 44 finished with value: 0.5458924494472928 and parameters: {'n_estimators': 940, 'max_depth': 21, 'num_leaves': 9, 'min_child_samples': 2, 'num_iterations': 803}. Best is trial 5 with value: 0.5641152331281905.\u001b[0m\n",
      "\u001b[32m[I 2023-08-18 01:44:04,708]\u001b[0m Trial 45 finished with value: 0.5285097962920953 and parameters: {'n_estimators': 982, 'max_depth': 25, 'num_leaves': 20, 'min_child_samples': 2, 'num_iterations': 696}. Best is trial 5 with value: 0.5641152331281905.\u001b[0m\n",
      "\u001b[32m[I 2023-08-18 01:44:06,277]\u001b[0m Trial 46 finished with value: 0.5287022720282925 and parameters: {'n_estimators': 863, 'max_depth': 30, 'num_leaves': 18, 'min_child_samples': 4, 'num_iterations': 657}. Best is trial 5 with value: 0.5641152331281905.\u001b[0m\n",
      "\u001b[32m[I 2023-08-18 01:44:07,290]\u001b[0m Trial 47 finished with value: 0.538412698721029 and parameters: {'n_estimators': 965, 'max_depth': 14, 'num_leaves': 12, 'min_child_samples': 3, 'num_iterations': 706}. Best is trial 5 with value: 0.5641152331281905.\u001b[0m\n",
      "\u001b[32m[I 2023-08-18 01:44:08,101]\u001b[0m Trial 48 finished with value: 0.5462505100766242 and parameters: {'n_estimators': 997, 'max_depth': 24, 'num_leaves': 9, 'min_child_samples': 2, 'num_iterations': 755}. Best is trial 5 with value: 0.5641152331281905.\u001b[0m\n",
      "\u001b[32m[I 2023-08-18 01:44:08,854]\u001b[0m Trial 49 finished with value: 0.5556844458318719 and parameters: {'n_estimators': 927, 'max_depth': 11, 'num_leaves': 8, 'min_child_samples': 1, 'num_iterations': 786}. Best is trial 5 with value: 0.5641152331281905.\u001b[0m\n",
      "\u001b[32m[I 2023-08-18 01:44:09,591]\u001b[0m Trial 50 finished with value: 0.554732248932311 and parameters: {'n_estimators': 914, 'max_depth': 10, 'num_leaves': 7, 'min_child_samples': 1, 'num_iterations': 834}. Best is trial 5 with value: 0.5641152331281905.\u001b[0m\n",
      "\u001b[32m[I 2023-08-18 01:44:12,696]\u001b[0m Trial 51 finished with value: 0.4949389806081288 and parameters: {'n_estimators': 916, 'max_depth': 10, 'num_leaves': 32, 'min_child_samples': 1, 'num_iterations': 815}. Best is trial 5 with value: 0.5641152331281905.\u001b[0m\n",
      "\u001b[32m[I 2023-08-18 01:44:13,461]\u001b[0m Trial 52 finished with value: 0.5547711604661842 and parameters: {'n_estimators': 940, 'max_depth': 7, 'num_leaves': 7, 'min_child_samples': 1, 'num_iterations': 839}. Best is trial 5 with value: 0.5641152331281905.\u001b[0m\n",
      "\u001b[32m[I 2023-08-18 01:44:14,339]\u001b[0m Trial 53 finished with value: 0.5546573167971852 and parameters: {'n_estimators': 876, 'max_depth': 7, 'num_leaves': 7, 'min_child_samples': 1, 'num_iterations': 848}. Best is trial 5 with value: 0.5641152331281905.\u001b[0m\n",
      "\u001b[32m[I 2023-08-18 01:44:15,348]\u001b[0m Trial 54 finished with value: 0.5547271924452999 and parameters: {'n_estimators': 871, 'max_depth': 7, 'num_leaves': 7, 'min_child_samples': 1, 'num_iterations': 842}. Best is trial 5 with value: 0.5641152331281905.\u001b[0m\n",
      "\u001b[32m[I 2023-08-18 01:44:15,912]\u001b[0m Trial 55 finished with value: 0.530130630185049 and parameters: {'n_estimators': 911, 'max_depth': 6, 'num_leaves': 3, 'min_child_samples': 1, 'num_iterations': 900}. Best is trial 5 with value: 0.5641152331281905.\u001b[0m\n",
      "\u001b[32m[I 2023-08-18 01:44:17,132]\u001b[0m Trial 56 finished with value: 0.5548837471807337 and parameters: {'n_estimators': 861, 'max_depth': 8, 'num_leaves': 8, 'min_child_samples': 1, 'num_iterations': 878}. Best is trial 5 with value: 0.5641152331281905.\u001b[0m\n",
      "\u001b[32m[I 2023-08-18 01:44:18,135]\u001b[0m Trial 57 finished with value: 0.5074980300155303 and parameters: {'n_estimators': 827, 'max_depth': 10, 'num_leaves': 8, 'min_child_samples': 8, 'num_iterations': 881}. Best is trial 5 with value: 0.5641152331281905.\u001b[0m\n",
      "\u001b[32m[I 2023-08-18 01:44:18,810]\u001b[0m Trial 58 finished with value: 0.5005795766604648 and parameters: {'n_estimators': 852, 'max_depth': 3, 'num_leaves': 6, 'min_child_samples': 10, 'num_iterations': 786}. Best is trial 5 with value: 0.5641152331281905.\u001b[0m\n",
      "\u001b[32m[I 2023-08-18 01:44:23,482]\u001b[0m Trial 59 finished with value: 0.5105415247639533 and parameters: {'n_estimators': 934, 'max_depth': 8, 'num_leaves': 26, 'min_child_samples': 1, 'num_iterations': 927}. Best is trial 5 with value: 0.5641152331281905.\u001b[0m\n",
      "\u001b[32m[I 2023-08-18 01:44:24,422]\u001b[0m Trial 60 finished with value: 0.5327265152730158 and parameters: {'n_estimators': 895, 'max_depth': 11, 'num_leaves': 4, 'min_child_samples': 2, 'num_iterations': 996}. Best is trial 5 with value: 0.5641152331281905.\u001b[0m\n",
      "\u001b[32m[I 2023-08-18 01:44:25,488]\u001b[0m Trial 61 finished with value: 0.5545012887549463 and parameters: {'n_estimators': 879, 'max_depth': 6, 'num_leaves': 8, 'min_child_samples': 1, 'num_iterations': 838}. Best is trial 5 with value: 0.5641152331281905.\u001b[0m\n",
      "\u001b[32m[I 2023-08-18 01:44:26,347]\u001b[0m Trial 62 finished with value: 0.5397023768984923 and parameters: {'n_estimators': 854, 'max_depth': 7, 'num_leaves': 6, 'min_child_samples': 1, 'num_iterations': 829}. Best is trial 5 with value: 0.5641152331281905.\u001b[0m\n",
      "\u001b[32m[I 2023-08-18 01:44:27,514]\u001b[0m Trial 63 finished with value: 0.5568218385800173 and parameters: {'n_estimators': 919, 'max_depth': 10, 'num_leaves': 10, 'min_child_samples': 2, 'num_iterations': 866}. Best is trial 5 with value: 0.5641152331281905.\u001b[0m\n",
      "\u001b[32m[I 2023-08-18 01:44:28,582]\u001b[0m Trial 64 finished with value: 0.530845605102518 and parameters: {'n_estimators': 915, 'max_depth': 9, 'num_leaves': 10, 'min_child_samples': 3, 'num_iterations': 862}. Best is trial 5 with value: 0.5641152331281905.\u001b[0m\n",
      "\u001b[32m[I 2023-08-18 01:44:29,339]\u001b[0m Trial 65 finished with value: 0.5431813222230295 and parameters: {'n_estimators': 944, 'max_depth': 10, 'num_leaves': 5, 'min_child_samples': 2, 'num_iterations': 911}. Best is trial 5 with value: 0.5641152331281905.\u001b[0m\n",
      "\u001b[32m[I 2023-08-18 01:44:29,686]\u001b[0m Trial 66 finished with value: 0.4675812675474802 and parameters: {'n_estimators': 924, 'max_depth': 13, 'num_leaves': 2, 'min_child_samples': 2, 'num_iterations': 873}. Best is trial 5 with value: 0.5641152331281905.\u001b[0m\n",
      "\u001b[32m[I 2023-08-18 01:44:30,586]\u001b[0m Trial 67 finished with value: 0.5409604283910623 and parameters: {'n_estimators': 797, 'max_depth': 8, 'num_leaves': 9, 'min_child_samples': 3, 'num_iterations': 814}. Best is trial 5 with value: 0.5641152331281905.\u001b[0m\n",
      "\u001b[32m[I 2023-08-18 01:44:31,825]\u001b[0m Trial 68 finished with value: 0.5568803884702411 and parameters: {'n_estimators': 977, 'max_depth': 11, 'num_leaves': 10, 'min_child_samples': 2, 'num_iterations': 791}. Best is trial 5 with value: 0.5641152331281905.\u001b[0m\n",
      "\u001b[32m[I 2023-08-18 01:44:32,859]\u001b[0m Trial 69 finished with value: 0.5439386342584371 and parameters: {'n_estimators': 950, 'max_depth': 5, 'num_leaves': 10, 'min_child_samples': 2, 'num_iterations': 784}. Best is trial 5 with value: 0.5641152331281905.\u001b[0m\n",
      "\u001b[32m[I 2023-08-18 01:44:33,795]\u001b[0m Trial 70 finished with value: 0.5394040654994733 and parameters: {'n_estimators': 982, 'max_depth': 12, 'num_leaves': 8, 'min_child_samples': 3, 'num_iterations': 789}. Best is trial 5 with value: 0.5641152331281905.\u001b[0m\n",
      "\u001b[32m[I 2023-08-18 01:44:34,860]\u001b[0m Trial 71 finished with value: 0.5545277664021919 and parameters: {'n_estimators': 890, 'max_depth': 10, 'num_leaves': 7, 'min_child_samples': 1, 'num_iterations': 854}. Best is trial 5 with value: 0.5641152331281905.\u001b[0m\n",
      "\u001b[32m[I 2023-08-18 01:44:36,033]\u001b[0m Trial 72 finished with value: 0.5637295023675889 and parameters: {'n_estimators': 582, 'max_depth': 8, 'num_leaves': 6, 'min_child_samples': 2, 'num_iterations': 825}. Best is trial 5 with value: 0.5641152331281905.\u001b[0m\n",
      "\u001b[32m[I 2023-08-18 01:44:37,084]\u001b[0m Trial 73 finished with value: 0.543789198150188 and parameters: {'n_estimators': 618, 'max_depth': 11, 'num_leaves': 5, 'min_child_samples': 2, 'num_iterations': 818}. Best is trial 5 with value: 0.5641152331281905.\u001b[0m\n",
      "\u001b[32m[I 2023-08-18 01:44:38,171]\u001b[0m Trial 74 finished with value: 0.5540449245936437 and parameters: {'n_estimators': 571, 'max_depth': 6, 'num_leaves': 9, 'min_child_samples': 2, 'num_iterations': 799}. Best is trial 5 with value: 0.5641152331281905.\u001b[0m\n",
      "\u001b[32m[I 2023-08-18 01:44:38,608]\u001b[0m Trial 75 finished with value: 0.5207657690283793 and parameters: {'n_estimators': 708, 'max_depth': 8, 'num_leaves': 3, 'min_child_samples': 4, 'num_iterations': 768}. Best is trial 5 with value: 0.5641152331281905.\u001b[0m\n",
      "\u001b[32m[I 2023-08-18 01:44:39,227]\u001b[0m Trial 76 finished with value: 0.5286313555464159 and parameters: {'n_estimators': 503, 'max_depth': 4, 'num_leaves': 4, 'min_child_samples': 3, 'num_iterations': 892}. Best is trial 5 with value: 0.5641152331281905.\u001b[0m\n",
      "\u001b[32m[I 2023-08-18 01:44:40,474]\u001b[0m Trial 77 finished with value: 0.537590435058059 and parameters: {'n_estimators': 556, 'max_depth': 13, 'num_leaves': 11, 'min_child_samples': 2, 'num_iterations': 742}. Best is trial 5 with value: 0.5641152331281905.\u001b[0m\n",
      "\u001b[32m[I 2023-08-18 01:44:41,071]\u001b[0m Trial 78 finished with value: 0.5056030878640191 and parameters: {'n_estimators': 930, 'max_depth': 2, 'num_leaves': 5, 'min_child_samples': 1, 'num_iterations': 825}. Best is trial 5 with value: 0.5641152331281905.\u001b[0m\n",
      "\u001b[32m[I 2023-08-18 01:44:41,869]\u001b[0m Trial 79 finished with value: 0.5641361017651093 and parameters: {'n_estimators': 977, 'max_depth': 9, 'num_leaves': 6, 'min_child_samples': 2, 'num_iterations': 764}. Best is trial 79 with value: 0.5641361017651093.\u001b[0m\n",
      "\u001b[32m[I 2023-08-18 01:44:42,766]\u001b[0m Trial 80 finished with value: 0.5641361017651093 and parameters: {'n_estimators': 992, 'max_depth': 9, 'num_leaves': 6, 'min_child_samples': 2, 'num_iterations': 764}. Best is trial 79 with value: 0.5641361017651093.\u001b[0m\n",
      "\u001b[32m[I 2023-08-18 01:44:43,612]\u001b[0m Trial 81 finished with value: 0.5641152331281905 and parameters: {'n_estimators': 976, 'max_depth': 9, 'num_leaves': 6, 'min_child_samples': 2, 'num_iterations': 767}. Best is trial 79 with value: 0.5641361017651093.\u001b[0m\n",
      "\u001b[32m[I 2023-08-18 01:44:44,332]\u001b[0m Trial 82 finished with value: 0.5406601785831624 and parameters: {'n_estimators': 991, 'max_depth': 9, 'num_leaves': 6, 'min_child_samples': 3, 'num_iterations': 763}. Best is trial 79 with value: 0.5641361017651093.\u001b[0m\n",
      "\u001b[32m[I 2023-08-18 01:44:45,135]\u001b[0m Trial 83 finished with value: 0.5639254150878867 and parameters: {'n_estimators': 977, 'max_depth': 11, 'num_leaves': 6, 'min_child_samples': 2, 'num_iterations': 775}. Best is trial 79 with value: 0.5641361017651093.\u001b[0m\n",
      "\u001b[32m[I 2023-08-18 01:44:45,598]\u001b[0m Trial 84 finished with value: 0.5199817916133543 and parameters: {'n_estimators': 974, 'max_depth': 9, 'num_leaves': 3, 'min_child_samples': 2, 'num_iterations': 747}. Best is trial 79 with value: 0.5641361017651093.\u001b[0m\n",
      "\u001b[32m[I 2023-08-18 01:44:46,351]\u001b[0m Trial 85 finished with value: 0.5402144825360835 and parameters: {'n_estimators': 957, 'max_depth': 12, 'num_leaves': 6, 'min_child_samples': 3, 'num_iterations': 773}. Best is trial 79 with value: 0.5641361017651093.\u001b[0m\n",
      "\u001b[32m[I 2023-08-18 01:44:47,095]\u001b[0m Trial 86 finished with value: 0.5443718159860705 and parameters: {'n_estimators': 989, 'max_depth': 11, 'num_leaves': 5, 'min_child_samples': 2, 'num_iterations': 754}. Best is trial 79 with value: 0.5641361017651093.\u001b[0m\n",
      "\u001b[32m[I 2023-08-18 01:44:47,639]\u001b[0m Trial 87 finished with value: 0.5275950181532145 and parameters: {'n_estimators': 973, 'max_depth': 8, 'num_leaves': 4, 'min_child_samples': 3, 'num_iterations': 805}. Best is trial 79 with value: 0.5641361017651093.\u001b[0m\n",
      "\u001b[32m[I 2023-08-18 01:44:47,957]\u001b[0m Trial 88 finished with value: 0.4684971833806307 and parameters: {'n_estimators': 995, 'max_depth': 9, 'num_leaves': 2, 'min_child_samples': 2, 'num_iterations': 730}. Best is trial 79 with value: 0.5641361017651093.\u001b[0m\n",
      "\u001b[32m[I 2023-08-18 01:44:48,509]\u001b[0m Trial 89 finished with value: 0.5367391545545995 and parameters: {'n_estimators': 1000, 'max_depth': 14, 'num_leaves': 4, 'min_child_samples': 2, 'num_iterations': 777}. Best is trial 79 with value: 0.5641361017651093.\u001b[0m\n",
      "\u001b[32m[I 2023-08-18 01:44:49,133]\u001b[0m Trial 90 finished with value: 0.5357490907291563 and parameters: {'n_estimators': 955, 'max_depth': 12, 'num_leaves': 6, 'min_child_samples': 4, 'num_iterations': 792}. Best is trial 79 with value: 0.5641361017651093.\u001b[0m\n"
     ]
    },
    {
     "ename": "KeyboardInterrupt",
     "evalue": "",
     "output_type": "error",
     "traceback": [
      "\u001b[1;31m---------------------------------------------------------------------------\u001b[0m",
      "\u001b[1;31mKeyboardInterrupt\u001b[0m                         Traceback (most recent call last)",
      "Cell \u001b[1;32mIn[34], line 8\u001b[0m\n\u001b[0;32m      1\u001b[0m sampler \u001b[39m=\u001b[39m TPESampler()\n\u001b[0;32m      2\u001b[0m study \u001b[39m=\u001b[39m optuna\u001b[39m.\u001b[39mcreate_study(\n\u001b[0;32m      3\u001b[0m     study_name\u001b[39m=\u001b[39m\u001b[39m\"\u001b[39m\u001b[39mlgbm_parameter_opt\u001b[39m\u001b[39m\"\u001b[39m,\n\u001b[0;32m      4\u001b[0m     direction\u001b[39m=\u001b[39m\u001b[39m\"\u001b[39m\u001b[39mmaximize\u001b[39m\u001b[39m\"\u001b[39m,\n\u001b[0;32m      5\u001b[0m     sampler\u001b[39m=\u001b[39msampler,\n\u001b[0;32m      6\u001b[0m )\n\u001b[1;32m----> 8\u001b[0m study\u001b[39m.\u001b[39;49moptimize(\u001b[39mlambda\u001b[39;49;00m trial : objectiveLGBM(trial, As_X_train, As_y_train), n_trials\u001b[39m=\u001b[39;49m\u001b[39m100\u001b[39;49m)\n\u001b[0;32m      9\u001b[0m \u001b[39mprint\u001b[39m(\u001b[39m\"\u001b[39m\u001b[39mBest r2: \u001b[39m\u001b[39m\"\u001b[39m, study\u001b[39m.\u001b[39mbest_value)\n\u001b[0;32m     10\u001b[0m \u001b[39mprint\u001b[39m(\u001b[39m\"\u001b[39m\u001b[39mBest trial:\u001b[39m\u001b[39m\"\u001b[39m, study\u001b[39m.\u001b[39mbest_trial\u001b[39m.\u001b[39mparams)\n",
      "File \u001b[1;32mc:\\Users\\jyssy\\anaconda3\\lib\\site-packages\\optuna\\study\\study.py:400\u001b[0m, in \u001b[0;36mStudy.optimize\u001b[1;34m(self, func, n_trials, timeout, n_jobs, catch, callbacks, gc_after_trial, show_progress_bar)\u001b[0m\n\u001b[0;32m    392\u001b[0m \u001b[39mif\u001b[39;00m n_jobs \u001b[39m!=\u001b[39m \u001b[39m1\u001b[39m:\n\u001b[0;32m    393\u001b[0m     warnings\u001b[39m.\u001b[39mwarn(\n\u001b[0;32m    394\u001b[0m         \u001b[39m\"\u001b[39m\u001b[39m`n_jobs` argument has been deprecated in v2.7.0. \u001b[39m\u001b[39m\"\u001b[39m\n\u001b[0;32m    395\u001b[0m         \u001b[39m\"\u001b[39m\u001b[39mThis feature will be removed in v4.0.0. \u001b[39m\u001b[39m\"\u001b[39m\n\u001b[0;32m    396\u001b[0m         \u001b[39m\"\u001b[39m\u001b[39mSee https://github.com/optuna/optuna/releases/tag/v2.7.0.\u001b[39m\u001b[39m\"\u001b[39m,\n\u001b[0;32m    397\u001b[0m         \u001b[39mFutureWarning\u001b[39;00m,\n\u001b[0;32m    398\u001b[0m     )\n\u001b[1;32m--> 400\u001b[0m _optimize(\n\u001b[0;32m    401\u001b[0m     study\u001b[39m=\u001b[39;49m\u001b[39mself\u001b[39;49m,\n\u001b[0;32m    402\u001b[0m     func\u001b[39m=\u001b[39;49mfunc,\n\u001b[0;32m    403\u001b[0m     n_trials\u001b[39m=\u001b[39;49mn_trials,\n\u001b[0;32m    404\u001b[0m     timeout\u001b[39m=\u001b[39;49mtimeout,\n\u001b[0;32m    405\u001b[0m     n_jobs\u001b[39m=\u001b[39;49mn_jobs,\n\u001b[0;32m    406\u001b[0m     catch\u001b[39m=\u001b[39;49mcatch,\n\u001b[0;32m    407\u001b[0m     callbacks\u001b[39m=\u001b[39;49mcallbacks,\n\u001b[0;32m    408\u001b[0m     gc_after_trial\u001b[39m=\u001b[39;49mgc_after_trial,\n\u001b[0;32m    409\u001b[0m     show_progress_bar\u001b[39m=\u001b[39;49mshow_progress_bar,\n\u001b[0;32m    410\u001b[0m )\n",
      "File \u001b[1;32mc:\\Users\\jyssy\\anaconda3\\lib\\site-packages\\optuna\\study\\_optimize.py:66\u001b[0m, in \u001b[0;36m_optimize\u001b[1;34m(study, func, n_trials, timeout, n_jobs, catch, callbacks, gc_after_trial, show_progress_bar)\u001b[0m\n\u001b[0;32m     64\u001b[0m \u001b[39mtry\u001b[39;00m:\n\u001b[0;32m     65\u001b[0m     \u001b[39mif\u001b[39;00m n_jobs \u001b[39m==\u001b[39m \u001b[39m1\u001b[39m:\n\u001b[1;32m---> 66\u001b[0m         _optimize_sequential(\n\u001b[0;32m     67\u001b[0m             study,\n\u001b[0;32m     68\u001b[0m             func,\n\u001b[0;32m     69\u001b[0m             n_trials,\n\u001b[0;32m     70\u001b[0m             timeout,\n\u001b[0;32m     71\u001b[0m             catch,\n\u001b[0;32m     72\u001b[0m             callbacks,\n\u001b[0;32m     73\u001b[0m             gc_after_trial,\n\u001b[0;32m     74\u001b[0m             reseed_sampler_rng\u001b[39m=\u001b[39;49m\u001b[39mFalse\u001b[39;49;00m,\n\u001b[0;32m     75\u001b[0m             time_start\u001b[39m=\u001b[39;49m\u001b[39mNone\u001b[39;49;00m,\n\u001b[0;32m     76\u001b[0m             progress_bar\u001b[39m=\u001b[39;49mprogress_bar,\n\u001b[0;32m     77\u001b[0m         )\n\u001b[0;32m     78\u001b[0m     \u001b[39melse\u001b[39;00m:\n\u001b[0;32m     79\u001b[0m         \u001b[39mif\u001b[39;00m show_progress_bar:\n",
      "File \u001b[1;32mc:\\Users\\jyssy\\anaconda3\\lib\\site-packages\\optuna\\study\\_optimize.py:163\u001b[0m, in \u001b[0;36m_optimize_sequential\u001b[1;34m(study, func, n_trials, timeout, catch, callbacks, gc_after_trial, reseed_sampler_rng, time_start, progress_bar)\u001b[0m\n\u001b[0;32m    160\u001b[0m         \u001b[39mbreak\u001b[39;00m\n\u001b[0;32m    162\u001b[0m \u001b[39mtry\u001b[39;00m:\n\u001b[1;32m--> 163\u001b[0m     trial \u001b[39m=\u001b[39m _run_trial(study, func, catch)\n\u001b[0;32m    164\u001b[0m \u001b[39mexcept\u001b[39;00m \u001b[39mException\u001b[39;00m:\n\u001b[0;32m    165\u001b[0m     \u001b[39mraise\u001b[39;00m\n",
      "File \u001b[1;32mc:\\Users\\jyssy\\anaconda3\\lib\\site-packages\\optuna\\study\\_optimize.py:213\u001b[0m, in \u001b[0;36m_run_trial\u001b[1;34m(study, func, catch)\u001b[0m\n\u001b[0;32m    210\u001b[0m     thread\u001b[39m.\u001b[39mstart()\n\u001b[0;32m    212\u001b[0m \u001b[39mtry\u001b[39;00m:\n\u001b[1;32m--> 213\u001b[0m     value_or_values \u001b[39m=\u001b[39m func(trial)\n\u001b[0;32m    214\u001b[0m \u001b[39mexcept\u001b[39;00m exceptions\u001b[39m.\u001b[39mTrialPruned \u001b[39mas\u001b[39;00m e:\n\u001b[0;32m    215\u001b[0m     \u001b[39m# TODO(mamu): Handle multi-objective cases.\u001b[39;00m\n\u001b[0;32m    216\u001b[0m     state \u001b[39m=\u001b[39m TrialState\u001b[39m.\u001b[39mPRUNED\n",
      "Cell \u001b[1;32mIn[34], line 8\u001b[0m, in \u001b[0;36m<lambda>\u001b[1;34m(trial)\u001b[0m\n\u001b[0;32m      1\u001b[0m sampler \u001b[39m=\u001b[39m TPESampler()\n\u001b[0;32m      2\u001b[0m study \u001b[39m=\u001b[39m optuna\u001b[39m.\u001b[39mcreate_study(\n\u001b[0;32m      3\u001b[0m     study_name\u001b[39m=\u001b[39m\u001b[39m\"\u001b[39m\u001b[39mlgbm_parameter_opt\u001b[39m\u001b[39m\"\u001b[39m,\n\u001b[0;32m      4\u001b[0m     direction\u001b[39m=\u001b[39m\u001b[39m\"\u001b[39m\u001b[39mmaximize\u001b[39m\u001b[39m\"\u001b[39m,\n\u001b[0;32m      5\u001b[0m     sampler\u001b[39m=\u001b[39msampler,\n\u001b[0;32m      6\u001b[0m )\n\u001b[1;32m----> 8\u001b[0m study\u001b[39m.\u001b[39moptimize(\u001b[39mlambda\u001b[39;00m trial : objectiveLGBM(trial, As_X_train, As_y_train), n_trials\u001b[39m=\u001b[39m\u001b[39m100\u001b[39m)\n\u001b[0;32m      9\u001b[0m \u001b[39mprint\u001b[39m(\u001b[39m\"\u001b[39m\u001b[39mBest r2: \u001b[39m\u001b[39m\"\u001b[39m, study\u001b[39m.\u001b[39mbest_value)\n\u001b[0;32m     10\u001b[0m \u001b[39mprint\u001b[39m(\u001b[39m\"\u001b[39m\u001b[39mBest trial:\u001b[39m\u001b[39m\"\u001b[39m, study\u001b[39m.\u001b[39mbest_trial\u001b[39m.\u001b[39mparams)\n",
      "Cell \u001b[1;32mIn[33], line 15\u001b[0m, in \u001b[0;36mobjectiveLGBM\u001b[1;34m(trial, X_train, y_train)\u001b[0m\n\u001b[0;32m      4\u001b[0m lgbm_paramas \u001b[39m=\u001b[39m {\n\u001b[0;32m      5\u001b[0m     \u001b[39m\"\u001b[39m\u001b[39mrandom_state\u001b[39m\u001b[39m\"\u001b[39m: \u001b[39m42\u001b[39m,\n\u001b[0;32m      6\u001b[0m     \u001b[39m\"\u001b[39m\u001b[39mlearning_rate\u001b[39m\u001b[39m\"\u001b[39m: \u001b[39m0.1\u001b[39m, \n\u001b[1;32m   (...)\u001b[0m\n\u001b[0;32m     11\u001b[0m     \u001b[39m\"\u001b[39m\u001b[39mnum_iterations\u001b[39m\u001b[39m\"\u001b[39m: trial\u001b[39m.\u001b[39msuggest_int(\u001b[39m\"\u001b[39m\u001b[39mnum_iterations\u001b[39m\u001b[39m\"\u001b[39m, \u001b[39m500\u001b[39m, \u001b[39m1000\u001b[39m)\n\u001b[0;32m     12\u001b[0m }\n\u001b[0;32m     14\u001b[0m lgbm \u001b[39m=\u001b[39m LGBMRegressor(\u001b[39m*\u001b[39m\u001b[39m*\u001b[39mlgbm_paramas)\n\u001b[1;32m---> 15\u001b[0m r2 \u001b[39m=\u001b[39m cross_val_score(lgbm, X_train, y_train, scoring \u001b[39m=\u001b[39;49m \u001b[39m\"\u001b[39;49m\u001b[39mr2\u001b[39;49m\u001b[39m\"\u001b[39;49m, cv \u001b[39m=\u001b[39;49m kf)\n\u001b[0;32m     16\u001b[0m r2 \u001b[39m=\u001b[39m r2\u001b[39m.\u001b[39mmean()\n\u001b[0;32m     18\u001b[0m \u001b[39mreturn\u001b[39;00m r2\n",
      "File \u001b[1;32mc:\\Users\\jyssy\\anaconda3\\lib\\site-packages\\sklearn\\model_selection\\_validation.py:562\u001b[0m, in \u001b[0;36mcross_val_score\u001b[1;34m(estimator, X, y, groups, scoring, cv, n_jobs, verbose, fit_params, pre_dispatch, error_score)\u001b[0m\n\u001b[0;32m    559\u001b[0m \u001b[39m# To ensure multimetric format is not supported\u001b[39;00m\n\u001b[0;32m    560\u001b[0m scorer \u001b[39m=\u001b[39m check_scoring(estimator, scoring\u001b[39m=\u001b[39mscoring)\n\u001b[1;32m--> 562\u001b[0m cv_results \u001b[39m=\u001b[39m cross_validate(\n\u001b[0;32m    563\u001b[0m     estimator\u001b[39m=\u001b[39;49mestimator,\n\u001b[0;32m    564\u001b[0m     X\u001b[39m=\u001b[39;49mX,\n\u001b[0;32m    565\u001b[0m     y\u001b[39m=\u001b[39;49my,\n\u001b[0;32m    566\u001b[0m     groups\u001b[39m=\u001b[39;49mgroups,\n\u001b[0;32m    567\u001b[0m     scoring\u001b[39m=\u001b[39;49m{\u001b[39m\"\u001b[39;49m\u001b[39mscore\u001b[39;49m\u001b[39m\"\u001b[39;49m: scorer},\n\u001b[0;32m    568\u001b[0m     cv\u001b[39m=\u001b[39;49mcv,\n\u001b[0;32m    569\u001b[0m     n_jobs\u001b[39m=\u001b[39;49mn_jobs,\n\u001b[0;32m    570\u001b[0m     verbose\u001b[39m=\u001b[39;49mverbose,\n\u001b[0;32m    571\u001b[0m     fit_params\u001b[39m=\u001b[39;49mfit_params,\n\u001b[0;32m    572\u001b[0m     pre_dispatch\u001b[39m=\u001b[39;49mpre_dispatch,\n\u001b[0;32m    573\u001b[0m     error_score\u001b[39m=\u001b[39;49merror_score,\n\u001b[0;32m    574\u001b[0m )\n\u001b[0;32m    575\u001b[0m \u001b[39mreturn\u001b[39;00m cv_results[\u001b[39m\"\u001b[39m\u001b[39mtest_score\u001b[39m\u001b[39m\"\u001b[39m]\n",
      "File \u001b[1;32mc:\\Users\\jyssy\\anaconda3\\lib\\site-packages\\sklearn\\utils\\_param_validation.py:211\u001b[0m, in \u001b[0;36mvalidate_params.<locals>.decorator.<locals>.wrapper\u001b[1;34m(*args, **kwargs)\u001b[0m\n\u001b[0;32m    205\u001b[0m \u001b[39mtry\u001b[39;00m:\n\u001b[0;32m    206\u001b[0m     \u001b[39mwith\u001b[39;00m config_context(\n\u001b[0;32m    207\u001b[0m         skip_parameter_validation\u001b[39m=\u001b[39m(\n\u001b[0;32m    208\u001b[0m             prefer_skip_nested_validation \u001b[39mor\u001b[39;00m global_skip_validation\n\u001b[0;32m    209\u001b[0m         )\n\u001b[0;32m    210\u001b[0m     ):\n\u001b[1;32m--> 211\u001b[0m         \u001b[39mreturn\u001b[39;00m func(\u001b[39m*\u001b[39;49margs, \u001b[39m*\u001b[39;49m\u001b[39m*\u001b[39;49mkwargs)\n\u001b[0;32m    212\u001b[0m \u001b[39mexcept\u001b[39;00m InvalidParameterError \u001b[39mas\u001b[39;00m e:\n\u001b[0;32m    213\u001b[0m     \u001b[39m# When the function is just a wrapper around an estimator, we allow\u001b[39;00m\n\u001b[0;32m    214\u001b[0m     \u001b[39m# the function to delegate validation to the estimator, but we replace\u001b[39;00m\n\u001b[0;32m    215\u001b[0m     \u001b[39m# the name of the estimator by the name of the function in the error\u001b[39;00m\n\u001b[0;32m    216\u001b[0m     \u001b[39m# message to avoid confusion.\u001b[39;00m\n\u001b[0;32m    217\u001b[0m     msg \u001b[39m=\u001b[39m re\u001b[39m.\u001b[39msub(\n\u001b[0;32m    218\u001b[0m         \u001b[39mr\u001b[39m\u001b[39m\"\u001b[39m\u001b[39mparameter of \u001b[39m\u001b[39m\\\u001b[39m\u001b[39mw+ must be\u001b[39m\u001b[39m\"\u001b[39m,\n\u001b[0;32m    219\u001b[0m         \u001b[39mf\u001b[39m\u001b[39m\"\u001b[39m\u001b[39mparameter of \u001b[39m\u001b[39m{\u001b[39;00mfunc\u001b[39m.\u001b[39m\u001b[39m__qualname__\u001b[39m\u001b[39m}\u001b[39;00m\u001b[39m must be\u001b[39m\u001b[39m\"\u001b[39m,\n\u001b[0;32m    220\u001b[0m         \u001b[39mstr\u001b[39m(e),\n\u001b[0;32m    221\u001b[0m     )\n",
      "File \u001b[1;32mc:\\Users\\jyssy\\anaconda3\\lib\\site-packages\\sklearn\\model_selection\\_validation.py:309\u001b[0m, in \u001b[0;36mcross_validate\u001b[1;34m(estimator, X, y, groups, scoring, cv, n_jobs, verbose, fit_params, pre_dispatch, return_train_score, return_estimator, return_indices, error_score)\u001b[0m\n\u001b[0;32m    306\u001b[0m \u001b[39m# We clone the estimator to make sure that all the folds are\u001b[39;00m\n\u001b[0;32m    307\u001b[0m \u001b[39m# independent, and that it is pickle-able.\u001b[39;00m\n\u001b[0;32m    308\u001b[0m parallel \u001b[39m=\u001b[39m Parallel(n_jobs\u001b[39m=\u001b[39mn_jobs, verbose\u001b[39m=\u001b[39mverbose, pre_dispatch\u001b[39m=\u001b[39mpre_dispatch)\n\u001b[1;32m--> 309\u001b[0m results \u001b[39m=\u001b[39m parallel(\n\u001b[0;32m    310\u001b[0m     delayed(_fit_and_score)(\n\u001b[0;32m    311\u001b[0m         clone(estimator),\n\u001b[0;32m    312\u001b[0m         X,\n\u001b[0;32m    313\u001b[0m         y,\n\u001b[0;32m    314\u001b[0m         scorers,\n\u001b[0;32m    315\u001b[0m         train,\n\u001b[0;32m    316\u001b[0m         test,\n\u001b[0;32m    317\u001b[0m         verbose,\n\u001b[0;32m    318\u001b[0m         \u001b[39mNone\u001b[39;49;00m,\n\u001b[0;32m    319\u001b[0m         fit_params,\n\u001b[0;32m    320\u001b[0m         return_train_score\u001b[39m=\u001b[39;49mreturn_train_score,\n\u001b[0;32m    321\u001b[0m         return_times\u001b[39m=\u001b[39;49m\u001b[39mTrue\u001b[39;49;00m,\n\u001b[0;32m    322\u001b[0m         return_estimator\u001b[39m=\u001b[39;49mreturn_estimator,\n\u001b[0;32m    323\u001b[0m         error_score\u001b[39m=\u001b[39;49merror_score,\n\u001b[0;32m    324\u001b[0m     )\n\u001b[0;32m    325\u001b[0m     \u001b[39mfor\u001b[39;49;00m train, test \u001b[39min\u001b[39;49;00m indices\n\u001b[0;32m    326\u001b[0m )\n\u001b[0;32m    328\u001b[0m _warn_or_raise_about_fit_failures(results, error_score)\n\u001b[0;32m    330\u001b[0m \u001b[39m# For callable scoring, the return type is only know after calling. If the\u001b[39;00m\n\u001b[0;32m    331\u001b[0m \u001b[39m# return type is a dictionary, the error scores can now be inserted with\u001b[39;00m\n\u001b[0;32m    332\u001b[0m \u001b[39m# the correct key.\u001b[39;00m\n",
      "File \u001b[1;32mc:\\Users\\jyssy\\anaconda3\\lib\\site-packages\\sklearn\\utils\\parallel.py:65\u001b[0m, in \u001b[0;36mParallel.__call__\u001b[1;34m(self, iterable)\u001b[0m\n\u001b[0;32m     60\u001b[0m config \u001b[39m=\u001b[39m get_config()\n\u001b[0;32m     61\u001b[0m iterable_with_config \u001b[39m=\u001b[39m (\n\u001b[0;32m     62\u001b[0m     (_with_config(delayed_func, config), args, kwargs)\n\u001b[0;32m     63\u001b[0m     \u001b[39mfor\u001b[39;00m delayed_func, args, kwargs \u001b[39min\u001b[39;00m iterable\n\u001b[0;32m     64\u001b[0m )\n\u001b[1;32m---> 65\u001b[0m \u001b[39mreturn\u001b[39;00m \u001b[39msuper\u001b[39;49m()\u001b[39m.\u001b[39;49m\u001b[39m__call__\u001b[39;49m(iterable_with_config)\n",
      "File \u001b[1;32mc:\\Users\\jyssy\\anaconda3\\lib\\site-packages\\joblib\\parallel.py:1085\u001b[0m, in \u001b[0;36mParallel.__call__\u001b[1;34m(self, iterable)\u001b[0m\n\u001b[0;32m   1076\u001b[0m \u001b[39mtry\u001b[39;00m:\n\u001b[0;32m   1077\u001b[0m     \u001b[39m# Only set self._iterating to True if at least a batch\u001b[39;00m\n\u001b[0;32m   1078\u001b[0m     \u001b[39m# was dispatched. In particular this covers the edge\u001b[39;00m\n\u001b[1;32m   (...)\u001b[0m\n\u001b[0;32m   1082\u001b[0m     \u001b[39m# was very quick and its callback already dispatched all the\u001b[39;00m\n\u001b[0;32m   1083\u001b[0m     \u001b[39m# remaining jobs.\u001b[39;00m\n\u001b[0;32m   1084\u001b[0m     \u001b[39mself\u001b[39m\u001b[39m.\u001b[39m_iterating \u001b[39m=\u001b[39m \u001b[39mFalse\u001b[39;00m\n\u001b[1;32m-> 1085\u001b[0m     \u001b[39mif\u001b[39;00m \u001b[39mself\u001b[39;49m\u001b[39m.\u001b[39;49mdispatch_one_batch(iterator):\n\u001b[0;32m   1086\u001b[0m         \u001b[39mself\u001b[39m\u001b[39m.\u001b[39m_iterating \u001b[39m=\u001b[39m \u001b[39mself\u001b[39m\u001b[39m.\u001b[39m_original_iterator \u001b[39mis\u001b[39;00m \u001b[39mnot\u001b[39;00m \u001b[39mNone\u001b[39;00m\n\u001b[0;32m   1088\u001b[0m     \u001b[39mwhile\u001b[39;00m \u001b[39mself\u001b[39m\u001b[39m.\u001b[39mdispatch_one_batch(iterator):\n",
      "File \u001b[1;32mc:\\Users\\jyssy\\anaconda3\\lib\\site-packages\\joblib\\parallel.py:901\u001b[0m, in \u001b[0;36mParallel.dispatch_one_batch\u001b[1;34m(self, iterator)\u001b[0m\n\u001b[0;32m    899\u001b[0m     \u001b[39mreturn\u001b[39;00m \u001b[39mFalse\u001b[39;00m\n\u001b[0;32m    900\u001b[0m \u001b[39melse\u001b[39;00m:\n\u001b[1;32m--> 901\u001b[0m     \u001b[39mself\u001b[39;49m\u001b[39m.\u001b[39;49m_dispatch(tasks)\n\u001b[0;32m    902\u001b[0m     \u001b[39mreturn\u001b[39;00m \u001b[39mTrue\u001b[39;00m\n",
      "File \u001b[1;32mc:\\Users\\jyssy\\anaconda3\\lib\\site-packages\\joblib\\parallel.py:819\u001b[0m, in \u001b[0;36mParallel._dispatch\u001b[1;34m(self, batch)\u001b[0m\n\u001b[0;32m    817\u001b[0m \u001b[39mwith\u001b[39;00m \u001b[39mself\u001b[39m\u001b[39m.\u001b[39m_lock:\n\u001b[0;32m    818\u001b[0m     job_idx \u001b[39m=\u001b[39m \u001b[39mlen\u001b[39m(\u001b[39mself\u001b[39m\u001b[39m.\u001b[39m_jobs)\n\u001b[1;32m--> 819\u001b[0m     job \u001b[39m=\u001b[39m \u001b[39mself\u001b[39;49m\u001b[39m.\u001b[39;49m_backend\u001b[39m.\u001b[39;49mapply_async(batch, callback\u001b[39m=\u001b[39;49mcb)\n\u001b[0;32m    820\u001b[0m     \u001b[39m# A job can complete so quickly than its callback is\u001b[39;00m\n\u001b[0;32m    821\u001b[0m     \u001b[39m# called before we get here, causing self._jobs to\u001b[39;00m\n\u001b[0;32m    822\u001b[0m     \u001b[39m# grow. To ensure correct results ordering, .insert is\u001b[39;00m\n\u001b[0;32m    823\u001b[0m     \u001b[39m# used (rather than .append) in the following line\u001b[39;00m\n\u001b[0;32m    824\u001b[0m     \u001b[39mself\u001b[39m\u001b[39m.\u001b[39m_jobs\u001b[39m.\u001b[39minsert(job_idx, job)\n",
      "File \u001b[1;32mc:\\Users\\jyssy\\anaconda3\\lib\\site-packages\\joblib\\_parallel_backends.py:208\u001b[0m, in \u001b[0;36mSequentialBackend.apply_async\u001b[1;34m(self, func, callback)\u001b[0m\n\u001b[0;32m    206\u001b[0m \u001b[39mdef\u001b[39;00m \u001b[39mapply_async\u001b[39m(\u001b[39mself\u001b[39m, func, callback\u001b[39m=\u001b[39m\u001b[39mNone\u001b[39;00m):\n\u001b[0;32m    207\u001b[0m \u001b[39m    \u001b[39m\u001b[39m\"\"\"Schedule a func to be run\"\"\"\u001b[39;00m\n\u001b[1;32m--> 208\u001b[0m     result \u001b[39m=\u001b[39m ImmediateResult(func)\n\u001b[0;32m    209\u001b[0m     \u001b[39mif\u001b[39;00m callback:\n\u001b[0;32m    210\u001b[0m         callback(result)\n",
      "File \u001b[1;32mc:\\Users\\jyssy\\anaconda3\\lib\\site-packages\\joblib\\_parallel_backends.py:597\u001b[0m, in \u001b[0;36mImmediateResult.__init__\u001b[1;34m(self, batch)\u001b[0m\n\u001b[0;32m    594\u001b[0m \u001b[39mdef\u001b[39;00m \u001b[39m__init__\u001b[39m(\u001b[39mself\u001b[39m, batch):\n\u001b[0;32m    595\u001b[0m     \u001b[39m# Don't delay the application, to avoid keeping the input\u001b[39;00m\n\u001b[0;32m    596\u001b[0m     \u001b[39m# arguments in memory\u001b[39;00m\n\u001b[1;32m--> 597\u001b[0m     \u001b[39mself\u001b[39m\u001b[39m.\u001b[39mresults \u001b[39m=\u001b[39m batch()\n",
      "File \u001b[1;32mc:\\Users\\jyssy\\anaconda3\\lib\\site-packages\\joblib\\parallel.py:288\u001b[0m, in \u001b[0;36mBatchedCalls.__call__\u001b[1;34m(self)\u001b[0m\n\u001b[0;32m    284\u001b[0m \u001b[39mdef\u001b[39;00m \u001b[39m__call__\u001b[39m(\u001b[39mself\u001b[39m):\n\u001b[0;32m    285\u001b[0m     \u001b[39m# Set the default nested backend to self._backend but do not set the\u001b[39;00m\n\u001b[0;32m    286\u001b[0m     \u001b[39m# change the default number of processes to -1\u001b[39;00m\n\u001b[0;32m    287\u001b[0m     \u001b[39mwith\u001b[39;00m parallel_backend(\u001b[39mself\u001b[39m\u001b[39m.\u001b[39m_backend, n_jobs\u001b[39m=\u001b[39m\u001b[39mself\u001b[39m\u001b[39m.\u001b[39m_n_jobs):\n\u001b[1;32m--> 288\u001b[0m         \u001b[39mreturn\u001b[39;00m [func(\u001b[39m*\u001b[39margs, \u001b[39m*\u001b[39m\u001b[39m*\u001b[39mkwargs)\n\u001b[0;32m    289\u001b[0m                 \u001b[39mfor\u001b[39;00m func, args, kwargs \u001b[39min\u001b[39;00m \u001b[39mself\u001b[39m\u001b[39m.\u001b[39mitems]\n",
      "File \u001b[1;32mc:\\Users\\jyssy\\anaconda3\\lib\\site-packages\\joblib\\parallel.py:288\u001b[0m, in \u001b[0;36m<listcomp>\u001b[1;34m(.0)\u001b[0m\n\u001b[0;32m    284\u001b[0m \u001b[39mdef\u001b[39;00m \u001b[39m__call__\u001b[39m(\u001b[39mself\u001b[39m):\n\u001b[0;32m    285\u001b[0m     \u001b[39m# Set the default nested backend to self._backend but do not set the\u001b[39;00m\n\u001b[0;32m    286\u001b[0m     \u001b[39m# change the default number of processes to -1\u001b[39;00m\n\u001b[0;32m    287\u001b[0m     \u001b[39mwith\u001b[39;00m parallel_backend(\u001b[39mself\u001b[39m\u001b[39m.\u001b[39m_backend, n_jobs\u001b[39m=\u001b[39m\u001b[39mself\u001b[39m\u001b[39m.\u001b[39m_n_jobs):\n\u001b[1;32m--> 288\u001b[0m         \u001b[39mreturn\u001b[39;00m [func(\u001b[39m*\u001b[39;49margs, \u001b[39m*\u001b[39;49m\u001b[39m*\u001b[39;49mkwargs)\n\u001b[0;32m    289\u001b[0m                 \u001b[39mfor\u001b[39;00m func, args, kwargs \u001b[39min\u001b[39;00m \u001b[39mself\u001b[39m\u001b[39m.\u001b[39mitems]\n",
      "File \u001b[1;32mc:\\Users\\jyssy\\anaconda3\\lib\\site-packages\\sklearn\\utils\\parallel.py:127\u001b[0m, in \u001b[0;36m_FuncWrapper.__call__\u001b[1;34m(self, *args, **kwargs)\u001b[0m\n\u001b[0;32m    125\u001b[0m     config \u001b[39m=\u001b[39m {}\n\u001b[0;32m    126\u001b[0m \u001b[39mwith\u001b[39;00m config_context(\u001b[39m*\u001b[39m\u001b[39m*\u001b[39mconfig):\n\u001b[1;32m--> 127\u001b[0m     \u001b[39mreturn\u001b[39;00m \u001b[39mself\u001b[39;49m\u001b[39m.\u001b[39;49mfunction(\u001b[39m*\u001b[39;49margs, \u001b[39m*\u001b[39;49m\u001b[39m*\u001b[39;49mkwargs)\n",
      "File \u001b[1;32mc:\\Users\\jyssy\\anaconda3\\lib\\site-packages\\sklearn\\model_selection\\_validation.py:732\u001b[0m, in \u001b[0;36m_fit_and_score\u001b[1;34m(estimator, X, y, scorer, train, test, verbose, parameters, fit_params, return_train_score, return_parameters, return_n_test_samples, return_times, return_estimator, split_progress, candidate_progress, error_score)\u001b[0m\n\u001b[0;32m    730\u001b[0m         estimator\u001b[39m.\u001b[39mfit(X_train, \u001b[39m*\u001b[39m\u001b[39m*\u001b[39mfit_params)\n\u001b[0;32m    731\u001b[0m     \u001b[39melse\u001b[39;00m:\n\u001b[1;32m--> 732\u001b[0m         estimator\u001b[39m.\u001b[39;49mfit(X_train, y_train, \u001b[39m*\u001b[39;49m\u001b[39m*\u001b[39;49mfit_params)\n\u001b[0;32m    734\u001b[0m \u001b[39mexcept\u001b[39;00m \u001b[39mException\u001b[39;00m:\n\u001b[0;32m    735\u001b[0m     \u001b[39m# Note fit time as time until error\u001b[39;00m\n\u001b[0;32m    736\u001b[0m     fit_time \u001b[39m=\u001b[39m time\u001b[39m.\u001b[39mtime() \u001b[39m-\u001b[39m start_time\n",
      "File \u001b[1;32mc:\\Users\\jyssy\\anaconda3\\lib\\site-packages\\lightgbm\\sklearn.py:770\u001b[0m, in \u001b[0;36mLGBMRegressor.fit\u001b[1;34m(self, X, y, sample_weight, init_score, eval_set, eval_names, eval_sample_weight, eval_init_score, eval_metric, early_stopping_rounds, verbose, feature_name, categorical_feature, callbacks, init_model)\u001b[0m\n\u001b[0;32m    763\u001b[0m \u001b[39mdef\u001b[39;00m \u001b[39mfit\u001b[39m(\u001b[39mself\u001b[39m, X, y,\n\u001b[0;32m    764\u001b[0m         sample_weight\u001b[39m=\u001b[39m\u001b[39mNone\u001b[39;00m, init_score\u001b[39m=\u001b[39m\u001b[39mNone\u001b[39;00m,\n\u001b[0;32m    765\u001b[0m         eval_set\u001b[39m=\u001b[39m\u001b[39mNone\u001b[39;00m, eval_names\u001b[39m=\u001b[39m\u001b[39mNone\u001b[39;00m, eval_sample_weight\u001b[39m=\u001b[39m\u001b[39mNone\u001b[39;00m,\n\u001b[0;32m    766\u001b[0m         eval_init_score\u001b[39m=\u001b[39m\u001b[39mNone\u001b[39;00m, eval_metric\u001b[39m=\u001b[39m\u001b[39mNone\u001b[39;00m, early_stopping_rounds\u001b[39m=\u001b[39m\u001b[39mNone\u001b[39;00m,\n\u001b[0;32m    767\u001b[0m         verbose\u001b[39m=\u001b[39m\u001b[39mTrue\u001b[39;00m, feature_name\u001b[39m=\u001b[39m\u001b[39m'\u001b[39m\u001b[39mauto\u001b[39m\u001b[39m'\u001b[39m, categorical_feature\u001b[39m=\u001b[39m\u001b[39m'\u001b[39m\u001b[39mauto\u001b[39m\u001b[39m'\u001b[39m,\n\u001b[0;32m    768\u001b[0m         callbacks\u001b[39m=\u001b[39m\u001b[39mNone\u001b[39;00m, init_model\u001b[39m=\u001b[39m\u001b[39mNone\u001b[39;00m):\n\u001b[0;32m    769\u001b[0m \u001b[39m    \u001b[39m\u001b[39m\"\"\"Docstring is inherited from the LGBMModel.\"\"\"\u001b[39;00m\n\u001b[1;32m--> 770\u001b[0m     \u001b[39msuper\u001b[39;49m(LGBMRegressor, \u001b[39mself\u001b[39;49m)\u001b[39m.\u001b[39;49mfit(X, y, sample_weight\u001b[39m=\u001b[39;49msample_weight,\n\u001b[0;32m    771\u001b[0m                                    init_score\u001b[39m=\u001b[39;49minit_score, eval_set\u001b[39m=\u001b[39;49meval_set,\n\u001b[0;32m    772\u001b[0m                                    eval_names\u001b[39m=\u001b[39;49meval_names,\n\u001b[0;32m    773\u001b[0m                                    eval_sample_weight\u001b[39m=\u001b[39;49meval_sample_weight,\n\u001b[0;32m    774\u001b[0m                                    eval_init_score\u001b[39m=\u001b[39;49meval_init_score,\n\u001b[0;32m    775\u001b[0m                                    eval_metric\u001b[39m=\u001b[39;49meval_metric,\n\u001b[0;32m    776\u001b[0m                                    early_stopping_rounds\u001b[39m=\u001b[39;49mearly_stopping_rounds,\n\u001b[0;32m    777\u001b[0m                                    verbose\u001b[39m=\u001b[39;49mverbose, feature_name\u001b[39m=\u001b[39;49mfeature_name,\n\u001b[0;32m    778\u001b[0m                                    categorical_feature\u001b[39m=\u001b[39;49mcategorical_feature,\n\u001b[0;32m    779\u001b[0m                                    callbacks\u001b[39m=\u001b[39;49mcallbacks, init_model\u001b[39m=\u001b[39;49minit_model)\n\u001b[0;32m    780\u001b[0m     \u001b[39mreturn\u001b[39;00m \u001b[39mself\u001b[39m\n",
      "File \u001b[1;32mc:\\Users\\jyssy\\anaconda3\\lib\\site-packages\\lightgbm\\sklearn.py:612\u001b[0m, in \u001b[0;36mLGBMModel.fit\u001b[1;34m(self, X, y, sample_weight, init_score, group, eval_set, eval_names, eval_sample_weight, eval_class_weight, eval_init_score, eval_group, eval_metric, early_stopping_rounds, verbose, feature_name, categorical_feature, callbacks, init_model)\u001b[0m\n\u001b[0;32m    609\u001b[0m \u001b[39mif\u001b[39;00m \u001b[39misinstance\u001b[39m(init_model, LGBMModel):\n\u001b[0;32m    610\u001b[0m     init_model \u001b[39m=\u001b[39m init_model\u001b[39m.\u001b[39mbooster_\n\u001b[1;32m--> 612\u001b[0m \u001b[39mself\u001b[39m\u001b[39m.\u001b[39m_Booster \u001b[39m=\u001b[39m train(params, train_set,\n\u001b[0;32m    613\u001b[0m                       \u001b[39mself\u001b[39;49m\u001b[39m.\u001b[39;49mn_estimators, valid_sets\u001b[39m=\u001b[39;49mvalid_sets, valid_names\u001b[39m=\u001b[39;49meval_names,\n\u001b[0;32m    614\u001b[0m                       early_stopping_rounds\u001b[39m=\u001b[39;49mearly_stopping_rounds,\n\u001b[0;32m    615\u001b[0m                       evals_result\u001b[39m=\u001b[39;49mevals_result, fobj\u001b[39m=\u001b[39;49m\u001b[39mself\u001b[39;49m\u001b[39m.\u001b[39;49m_fobj, feval\u001b[39m=\u001b[39;49meval_metrics_callable,\n\u001b[0;32m    616\u001b[0m                       verbose_eval\u001b[39m=\u001b[39;49mverbose, feature_name\u001b[39m=\u001b[39;49mfeature_name,\n\u001b[0;32m    617\u001b[0m                       callbacks\u001b[39m=\u001b[39;49mcallbacks, init_model\u001b[39m=\u001b[39;49minit_model)\n\u001b[0;32m    619\u001b[0m \u001b[39mif\u001b[39;00m evals_result:\n\u001b[0;32m    620\u001b[0m     \u001b[39mself\u001b[39m\u001b[39m.\u001b[39m_evals_result \u001b[39m=\u001b[39m evals_result\n",
      "File \u001b[1;32mc:\\Users\\jyssy\\anaconda3\\lib\\site-packages\\lightgbm\\engine.py:252\u001b[0m, in \u001b[0;36mtrain\u001b[1;34m(params, train_set, num_boost_round, valid_sets, valid_names, fobj, feval, init_model, feature_name, categorical_feature, early_stopping_rounds, evals_result, verbose_eval, learning_rates, keep_training_booster, callbacks)\u001b[0m\n\u001b[0;32m    244\u001b[0m \u001b[39mfor\u001b[39;00m cb \u001b[39min\u001b[39;00m callbacks_before_iter:\n\u001b[0;32m    245\u001b[0m     cb(callback\u001b[39m.\u001b[39mCallbackEnv(model\u001b[39m=\u001b[39mbooster,\n\u001b[0;32m    246\u001b[0m                             params\u001b[39m=\u001b[39mparams,\n\u001b[0;32m    247\u001b[0m                             iteration\u001b[39m=\u001b[39mi,\n\u001b[0;32m    248\u001b[0m                             begin_iteration\u001b[39m=\u001b[39minit_iteration,\n\u001b[0;32m    249\u001b[0m                             end_iteration\u001b[39m=\u001b[39minit_iteration \u001b[39m+\u001b[39m num_boost_round,\n\u001b[0;32m    250\u001b[0m                             evaluation_result_list\u001b[39m=\u001b[39m\u001b[39mNone\u001b[39;00m))\n\u001b[1;32m--> 252\u001b[0m booster\u001b[39m.\u001b[39;49mupdate(fobj\u001b[39m=\u001b[39;49mfobj)\n\u001b[0;32m    254\u001b[0m evaluation_result_list \u001b[39m=\u001b[39m []\n\u001b[0;32m    255\u001b[0m \u001b[39m# check evaluation result.\u001b[39;00m\n",
      "File \u001b[1;32mc:\\Users\\jyssy\\anaconda3\\lib\\site-packages\\lightgbm\\basic.py:2458\u001b[0m, in \u001b[0;36mBooster.update\u001b[1;34m(self, train_set, fobj)\u001b[0m\n\u001b[0;32m   2456\u001b[0m \u001b[39mif\u001b[39;00m \u001b[39mself\u001b[39m\u001b[39m.\u001b[39m__set_objective_to_none:\n\u001b[0;32m   2457\u001b[0m     \u001b[39mraise\u001b[39;00m LightGBMError(\u001b[39m'\u001b[39m\u001b[39mCannot update due to null objective function.\u001b[39m\u001b[39m'\u001b[39m)\n\u001b[1;32m-> 2458\u001b[0m _safe_call(_LIB\u001b[39m.\u001b[39;49mLGBM_BoosterUpdateOneIter(\n\u001b[0;32m   2459\u001b[0m     \u001b[39mself\u001b[39;49m\u001b[39m.\u001b[39;49mhandle,\n\u001b[0;32m   2460\u001b[0m     ctypes\u001b[39m.\u001b[39;49mbyref(is_finished)))\n\u001b[0;32m   2461\u001b[0m \u001b[39mself\u001b[39m\u001b[39m.\u001b[39m__is_predicted_cur_iter \u001b[39m=\u001b[39m [\u001b[39mFalse\u001b[39;00m \u001b[39mfor\u001b[39;00m _ \u001b[39min\u001b[39;00m range_(\u001b[39mself\u001b[39m\u001b[39m.\u001b[39m__num_dataset)]\n\u001b[0;32m   2462\u001b[0m \u001b[39mreturn\u001b[39;00m is_finished\u001b[39m.\u001b[39mvalue \u001b[39m==\u001b[39m \u001b[39m1\u001b[39m\n",
      "\u001b[1;31mKeyboardInterrupt\u001b[0m: "
     ]
    }
   ],
   "source": [
    "sampler = TPESampler()\n",
    "study = optuna.create_study(\n",
    "    study_name=\"lgbm_parameter_opt\",\n",
    "    direction=\"maximize\",\n",
    "    sampler=sampler,\n",
    ")\n",
    "\n",
    "study.optimize(lambda trial : objectiveLGBM(trial, As_X_train, As_y_train), n_trials=100)\n",
    "print(\"Best r2: \", study.best_value)\n",
    "print(\"Best trial:\", study.best_trial.params)"
   ]
  },
  {
   "cell_type": "code",
   "execution_count": null,
   "id": "ded0e0f8",
   "metadata": {},
   "outputs": [
    {
     "data": {
      "application/vnd.plotly.v1+json": {
       "config": {
        "plotlyServerURL": "https://plot.ly"
       },
       "data": [
        {
         "dimensions": [
          {
           "label": "Objective Value",
           "range": [
            0.48874764280248045,
            0.5580984508214428
           ],
           "values": [
            0.5139450877055312,
            0.5342094563377617,
            0.5533157084751883,
            0.5092249031893372,
            0.5242352626645123,
            0.5461735427338279,
            0.5070851613986379,
            0.5250317701065793,
            0.5449827677352567,
            0.5115548872121106,
            0.49196386132419967,
            0.5141796965261556,
            0.49777678766410693,
            0.5304050653668397,
            0.5323235721199882,
            0.5069987039708288,
            0.5335845768347214,
            0.5253096163823969,
            0.4999932948775868,
            0.5229298079477112,
            0.49973645997398036,
            0.5446671792561814,
            0.5218077442184194,
            0.4889765117847835,
            0.5127568434062258,
            0.5221635916934327,
            0.5388685603495927,
            0.5183100299206951,
            0.5301016361303004,
            0.5157560840690503,
            0.5121292435854637,
            0.5452648806926085,
            0.5454139359484665,
            0.48874764280248045,
            0.5113104723806264,
            0.5248750027155115,
            0.5275554112818684,
            0.5242455175758763,
            0.5397464854578561,
            0.5219132162842991,
            0.5242500874958156,
            0.5454909608379733,
            0.5462463487035721,
            0.4915507300871072,
            0.5349974540705764,
            0.5548855766395832,
            0.5552510908415711,
            0.5205082421872592,
            0.5546501710177661,
            0.5506186835236626,
            0.5295602320770145,
            0.554145931176405,
            0.5549880520102187,
            0.5522019928101697,
            0.5350754569292752,
            0.5161720898849647,
            0.5404132397240223,
            0.5051212173989288,
            0.5051870941545519,
            0.5519642477547955,
            0.532613821556529,
            0.5513495811057831,
            0.5552775303923527,
            0.5499267175423876,
            0.5075547075407385,
            0.523380561416276,
            0.5006612053020172,
            0.5301102923810979,
            0.5568792036084245,
            0.5570922501492515,
            0.5405690637463387,
            0.5571819552211557,
            0.5020255456599114,
            0.5554268324353787,
            0.5357996005733774,
            0.5580984508214428,
            0.5370250889733066,
            0.5559054066634463,
            0.5574725912403868,
            0.5358950671544042,
            0.5349763116549304,
            0.5544945880377348,
            0.5569692836852593,
            0.5571334895279897,
            0.535317434676432,
            0.5578906519725114,
            0.5348028948901427,
            0.5450271949335463,
            0.5457119869304472,
            0.5175582841873506,
            0.5025120947998667,
            0.555842346694404,
            0.5565395188687591,
            0.5429839209361809,
            0.5567075409075565,
            0.542063453332532,
            0.5039233371131392,
            0.5279390698585743,
            0.53339082921504,
            0.5482129504931862
           ]
          },
          {
           "label": "max_depth",
           "range": [
            1,
            30
           ],
           "values": [
            14,
            9,
            29,
            30,
            15,
            26,
            30,
            9,
            21,
            29,
            3,
            22,
            24,
            25,
            26,
            19,
            27,
            18,
            24,
            11,
            1,
            20,
            22,
            27,
            22,
            28,
            18,
            24,
            21,
            17,
            13,
            20,
            26,
            28,
            30,
            25,
            26,
            15,
            30,
            28,
            23,
            20,
            6,
            6,
            8,
            13,
            11,
            13,
            6,
            5,
            10,
            5,
            4,
            3,
            8,
            3,
            11,
            5,
            1,
            8,
            13,
            3,
            4,
            4,
            7,
            2,
            16,
            11,
            9,
            10,
            9,
            12,
            12,
            10,
            14,
            10,
            10,
            9,
            10,
            9,
            10,
            12,
            10,
            7,
            8,
            7,
            7,
            9,
            7,
            12,
            10,
            9,
            9,
            7,
            11,
            11,
            14,
            8,
            12,
            10
           ]
          },
          {
           "label": "min_child_samples",
           "range": [
            1,
            10
           ],
           "values": [
            8,
            5,
            10,
            7,
            2,
            9,
            2,
            4,
            9,
            10,
            6,
            10,
            8,
            10,
            8,
            9,
            6,
            4,
            9,
            7,
            7,
            9,
            9,
            10,
            8,
            9,
            10,
            1,
            8,
            8,
            7,
            9,
            9,
            10,
            9,
            5,
            8,
            7,
            10,
            3,
            6,
            9,
            9,
            10,
            9,
            8,
            8,
            8,
            7,
            7,
            6,
            7,
            7,
            7,
            6,
            7,
            5,
            6,
            8,
            7,
            8,
            7,
            7,
            6,
            5,
            7,
            8,
            8,
            7,
            7,
            7,
            7,
            6,
            8,
            8,
            8,
            8,
            7,
            7,
            6,
            7,
            8,
            7,
            7,
            6,
            7,
            7,
            6,
            6,
            7,
            4,
            7,
            7,
            7,
            7,
            7,
            6,
            7,
            1,
            6
           ]
          },
          {
           "label": "n_estimators",
           "range": [
            500,
            999
           ],
           "values": [
            625,
            752,
            607,
            720,
            679,
            812,
            848,
            700,
            941,
            652,
            554,
            504,
            822,
            999,
            802,
            593,
            900,
            766,
            500,
            862,
            592,
            947,
            924,
            994,
            782,
            871,
            950,
            725,
            891,
            658,
            618,
            951,
            971,
            965,
            829,
            909,
            733,
            967,
            700,
            843,
            536,
            936,
            978,
            982,
            922,
            878,
            804,
            803,
            755,
            768,
            762,
            784,
            785,
            784,
            701,
            740,
            789,
            823,
            869,
            842,
            753,
            797,
            777,
            714,
            685,
            815,
            776,
            750,
            855,
            877,
            890,
            854,
            859,
            883,
            888,
            836,
            839,
            851,
            856,
            854,
            831,
            900,
            876,
            872,
            922,
            880,
            866,
            901,
            876,
            913,
            861,
            883,
            850,
            848,
            817,
            832,
            811,
            818,
            869,
            938
           ]
          },
          {
           "label": "num_iterations",
           "range": [
            500,
            997
           ],
           "values": [
            860,
            708,
            500,
            576,
            501,
            522,
            700,
            846,
            579,
            857,
            646,
            997,
            501,
            596,
            501,
            792,
            634,
            558,
            989,
            648,
            549,
            546,
            604,
            542,
            690,
            602,
            526,
            581,
            668,
            758,
            917,
            529,
            530,
            523,
            616,
            565,
            533,
            730,
            501,
            577,
            523,
            572,
            563,
            623,
            570,
            587,
            592,
            673,
            596,
            659,
            650,
            599,
            593,
            627,
            587,
            713,
            686,
            606,
            800,
            628,
            604,
            639,
            591,
            553,
            591,
            616,
            589,
            511,
            557,
            544,
            545,
            551,
            540,
            556,
            554,
            516,
            513,
            557,
            512,
            509,
            537,
            562,
            515,
            518,
            519,
            503,
            500,
            533,
            519,
            895,
            510,
            554,
            543,
            527,
            541,
            537,
            570,
            546,
            500,
            518
           ]
          },
          {
           "label": "num_leaves",
           "range": [
            2,
            31
           ],
           "values": [
            24,
            14,
            3,
            19,
            21,
            4,
            25,
            13,
            4,
            29,
            9,
            4,
            2,
            8,
            9,
            7,
            13,
            5,
            2,
            16,
            11,
            4,
            6,
            2,
            10,
            6,
            4,
            12,
            7,
            24,
            31,
            4,
            4,
            2,
            15,
            18,
            6,
            8,
            4,
            21,
            11,
            4,
            3,
            2,
            5,
            3,
            3,
            8,
            3,
            3,
            6,
            3,
            3,
            3,
            7,
            5,
            9,
            2,
            5,
            3,
            7,
            3,
            3,
            5,
            27,
            21,
            2,
            6,
            3,
            3,
            5,
            3,
            2,
            3,
            5,
            4,
            7,
            4,
            4,
            6,
            9,
            4,
            4,
            4,
            6,
            4,
            8,
            4,
            4,
            5,
            2,
            4,
            4,
            5,
            4,
            7,
            2,
            6,
            4,
            8
           ]
          }
         ],
         "labelangle": 30,
         "labelside": "bottom",
         "line": {
          "color": [
           0.5139450877055312,
           0.5342094563377617,
           0.5533157084751883,
           0.5092249031893372,
           0.5242352626645123,
           0.5461735427338279,
           0.5070851613986379,
           0.5250317701065793,
           0.5449827677352567,
           0.5115548872121106,
           0.49196386132419967,
           0.5141796965261556,
           0.49777678766410693,
           0.5304050653668397,
           0.5323235721199882,
           0.5069987039708288,
           0.5335845768347214,
           0.5253096163823969,
           0.4999932948775868,
           0.5229298079477112,
           0.49973645997398036,
           0.5446671792561814,
           0.5218077442184194,
           0.4889765117847835,
           0.5127568434062258,
           0.5221635916934327,
           0.5388685603495927,
           0.5183100299206951,
           0.5301016361303004,
           0.5157560840690503,
           0.5121292435854637,
           0.5452648806926085,
           0.5454139359484665,
           0.48874764280248045,
           0.5113104723806264,
           0.5248750027155115,
           0.5275554112818684,
           0.5242455175758763,
           0.5397464854578561,
           0.5219132162842991,
           0.5242500874958156,
           0.5454909608379733,
           0.5462463487035721,
           0.4915507300871072,
           0.5349974540705764,
           0.5548855766395832,
           0.5552510908415711,
           0.5205082421872592,
           0.5546501710177661,
           0.5506186835236626,
           0.5295602320770145,
           0.554145931176405,
           0.5549880520102187,
           0.5522019928101697,
           0.5350754569292752,
           0.5161720898849647,
           0.5404132397240223,
           0.5051212173989288,
           0.5051870941545519,
           0.5519642477547955,
           0.532613821556529,
           0.5513495811057831,
           0.5552775303923527,
           0.5499267175423876,
           0.5075547075407385,
           0.523380561416276,
           0.5006612053020172,
           0.5301102923810979,
           0.5568792036084245,
           0.5570922501492515,
           0.5405690637463387,
           0.5571819552211557,
           0.5020255456599114,
           0.5554268324353787,
           0.5357996005733774,
           0.5580984508214428,
           0.5370250889733066,
           0.5559054066634463,
           0.5574725912403868,
           0.5358950671544042,
           0.5349763116549304,
           0.5544945880377348,
           0.5569692836852593,
           0.5571334895279897,
           0.535317434676432,
           0.5578906519725114,
           0.5348028948901427,
           0.5450271949335463,
           0.5457119869304472,
           0.5175582841873506,
           0.5025120947998667,
           0.555842346694404,
           0.5565395188687591,
           0.5429839209361809,
           0.5567075409075565,
           0.542063453332532,
           0.5039233371131392,
           0.5279390698585743,
           0.53339082921504,
           0.5482129504931862
          ],
          "colorbar": {
           "title": {
            "text": "Objective Value"
           }
          },
          "colorscale": [
           [
            0,
            "rgb(247,251,255)"
           ],
           [
            0.125,
            "rgb(222,235,247)"
           ],
           [
            0.25,
            "rgb(198,219,239)"
           ],
           [
            0.375,
            "rgb(158,202,225)"
           ],
           [
            0.5,
            "rgb(107,174,214)"
           ],
           [
            0.625,
            "rgb(66,146,198)"
           ],
           [
            0.75,
            "rgb(33,113,181)"
           ],
           [
            0.875,
            "rgb(8,81,156)"
           ],
           [
            1,
            "rgb(8,48,107)"
           ]
          ],
          "reversescale": false,
          "showscale": true
         },
         "type": "parcoords"
        }
       ],
       "layout": {
        "template": {
         "data": {
          "bar": [
           {
            "error_x": {
             "color": "#2a3f5f"
            },
            "error_y": {
             "color": "#2a3f5f"
            },
            "marker": {
             "line": {
              "color": "#E5ECF6",
              "width": 0.5
             },
             "pattern": {
              "fillmode": "overlay",
              "size": 10,
              "solidity": 0.2
             }
            },
            "type": "bar"
           }
          ],
          "barpolar": [
           {
            "marker": {
             "line": {
              "color": "#E5ECF6",
              "width": 0.5
             },
             "pattern": {
              "fillmode": "overlay",
              "size": 10,
              "solidity": 0.2
             }
            },
            "type": "barpolar"
           }
          ],
          "carpet": [
           {
            "aaxis": {
             "endlinecolor": "#2a3f5f",
             "gridcolor": "white",
             "linecolor": "white",
             "minorgridcolor": "white",
             "startlinecolor": "#2a3f5f"
            },
            "baxis": {
             "endlinecolor": "#2a3f5f",
             "gridcolor": "white",
             "linecolor": "white",
             "minorgridcolor": "white",
             "startlinecolor": "#2a3f5f"
            },
            "type": "carpet"
           }
          ],
          "choropleth": [
           {
            "colorbar": {
             "outlinewidth": 0,
             "ticks": ""
            },
            "type": "choropleth"
           }
          ],
          "contour": [
           {
            "colorbar": {
             "outlinewidth": 0,
             "ticks": ""
            },
            "colorscale": [
             [
              0,
              "#0d0887"
             ],
             [
              0.1111111111111111,
              "#46039f"
             ],
             [
              0.2222222222222222,
              "#7201a8"
             ],
             [
              0.3333333333333333,
              "#9c179e"
             ],
             [
              0.4444444444444444,
              "#bd3786"
             ],
             [
              0.5555555555555556,
              "#d8576b"
             ],
             [
              0.6666666666666666,
              "#ed7953"
             ],
             [
              0.7777777777777778,
              "#fb9f3a"
             ],
             [
              0.8888888888888888,
              "#fdca26"
             ],
             [
              1,
              "#f0f921"
             ]
            ],
            "type": "contour"
           }
          ],
          "contourcarpet": [
           {
            "colorbar": {
             "outlinewidth": 0,
             "ticks": ""
            },
            "type": "contourcarpet"
           }
          ],
          "heatmap": [
           {
            "colorbar": {
             "outlinewidth": 0,
             "ticks": ""
            },
            "colorscale": [
             [
              0,
              "#0d0887"
             ],
             [
              0.1111111111111111,
              "#46039f"
             ],
             [
              0.2222222222222222,
              "#7201a8"
             ],
             [
              0.3333333333333333,
              "#9c179e"
             ],
             [
              0.4444444444444444,
              "#bd3786"
             ],
             [
              0.5555555555555556,
              "#d8576b"
             ],
             [
              0.6666666666666666,
              "#ed7953"
             ],
             [
              0.7777777777777778,
              "#fb9f3a"
             ],
             [
              0.8888888888888888,
              "#fdca26"
             ],
             [
              1,
              "#f0f921"
             ]
            ],
            "type": "heatmap"
           }
          ],
          "heatmapgl": [
           {
            "colorbar": {
             "outlinewidth": 0,
             "ticks": ""
            },
            "colorscale": [
             [
              0,
              "#0d0887"
             ],
             [
              0.1111111111111111,
              "#46039f"
             ],
             [
              0.2222222222222222,
              "#7201a8"
             ],
             [
              0.3333333333333333,
              "#9c179e"
             ],
             [
              0.4444444444444444,
              "#bd3786"
             ],
             [
              0.5555555555555556,
              "#d8576b"
             ],
             [
              0.6666666666666666,
              "#ed7953"
             ],
             [
              0.7777777777777778,
              "#fb9f3a"
             ],
             [
              0.8888888888888888,
              "#fdca26"
             ],
             [
              1,
              "#f0f921"
             ]
            ],
            "type": "heatmapgl"
           }
          ],
          "histogram": [
           {
            "marker": {
             "pattern": {
              "fillmode": "overlay",
              "size": 10,
              "solidity": 0.2
             }
            },
            "type": "histogram"
           }
          ],
          "histogram2d": [
           {
            "colorbar": {
             "outlinewidth": 0,
             "ticks": ""
            },
            "colorscale": [
             [
              0,
              "#0d0887"
             ],
             [
              0.1111111111111111,
              "#46039f"
             ],
             [
              0.2222222222222222,
              "#7201a8"
             ],
             [
              0.3333333333333333,
              "#9c179e"
             ],
             [
              0.4444444444444444,
              "#bd3786"
             ],
             [
              0.5555555555555556,
              "#d8576b"
             ],
             [
              0.6666666666666666,
              "#ed7953"
             ],
             [
              0.7777777777777778,
              "#fb9f3a"
             ],
             [
              0.8888888888888888,
              "#fdca26"
             ],
             [
              1,
              "#f0f921"
             ]
            ],
            "type": "histogram2d"
           }
          ],
          "histogram2dcontour": [
           {
            "colorbar": {
             "outlinewidth": 0,
             "ticks": ""
            },
            "colorscale": [
             [
              0,
              "#0d0887"
             ],
             [
              0.1111111111111111,
              "#46039f"
             ],
             [
              0.2222222222222222,
              "#7201a8"
             ],
             [
              0.3333333333333333,
              "#9c179e"
             ],
             [
              0.4444444444444444,
              "#bd3786"
             ],
             [
              0.5555555555555556,
              "#d8576b"
             ],
             [
              0.6666666666666666,
              "#ed7953"
             ],
             [
              0.7777777777777778,
              "#fb9f3a"
             ],
             [
              0.8888888888888888,
              "#fdca26"
             ],
             [
              1,
              "#f0f921"
             ]
            ],
            "type": "histogram2dcontour"
           }
          ],
          "mesh3d": [
           {
            "colorbar": {
             "outlinewidth": 0,
             "ticks": ""
            },
            "type": "mesh3d"
           }
          ],
          "parcoords": [
           {
            "line": {
             "colorbar": {
              "outlinewidth": 0,
              "ticks": ""
             }
            },
            "type": "parcoords"
           }
          ],
          "pie": [
           {
            "automargin": true,
            "type": "pie"
           }
          ],
          "scatter": [
           {
            "marker": {
             "colorbar": {
              "outlinewidth": 0,
              "ticks": ""
             }
            },
            "type": "scatter"
           }
          ],
          "scatter3d": [
           {
            "line": {
             "colorbar": {
              "outlinewidth": 0,
              "ticks": ""
             }
            },
            "marker": {
             "colorbar": {
              "outlinewidth": 0,
              "ticks": ""
             }
            },
            "type": "scatter3d"
           }
          ],
          "scattercarpet": [
           {
            "marker": {
             "colorbar": {
              "outlinewidth": 0,
              "ticks": ""
             }
            },
            "type": "scattercarpet"
           }
          ],
          "scattergeo": [
           {
            "marker": {
             "colorbar": {
              "outlinewidth": 0,
              "ticks": ""
             }
            },
            "type": "scattergeo"
           }
          ],
          "scattergl": [
           {
            "marker": {
             "colorbar": {
              "outlinewidth": 0,
              "ticks": ""
             }
            },
            "type": "scattergl"
           }
          ],
          "scattermapbox": [
           {
            "marker": {
             "colorbar": {
              "outlinewidth": 0,
              "ticks": ""
             }
            },
            "type": "scattermapbox"
           }
          ],
          "scatterpolar": [
           {
            "marker": {
             "colorbar": {
              "outlinewidth": 0,
              "ticks": ""
             }
            },
            "type": "scatterpolar"
           }
          ],
          "scatterpolargl": [
           {
            "marker": {
             "colorbar": {
              "outlinewidth": 0,
              "ticks": ""
             }
            },
            "type": "scatterpolargl"
           }
          ],
          "scatterternary": [
           {
            "marker": {
             "colorbar": {
              "outlinewidth": 0,
              "ticks": ""
             }
            },
            "type": "scatterternary"
           }
          ],
          "surface": [
           {
            "colorbar": {
             "outlinewidth": 0,
             "ticks": ""
            },
            "colorscale": [
             [
              0,
              "#0d0887"
             ],
             [
              0.1111111111111111,
              "#46039f"
             ],
             [
              0.2222222222222222,
              "#7201a8"
             ],
             [
              0.3333333333333333,
              "#9c179e"
             ],
             [
              0.4444444444444444,
              "#bd3786"
             ],
             [
              0.5555555555555556,
              "#d8576b"
             ],
             [
              0.6666666666666666,
              "#ed7953"
             ],
             [
              0.7777777777777778,
              "#fb9f3a"
             ],
             [
              0.8888888888888888,
              "#fdca26"
             ],
             [
              1,
              "#f0f921"
             ]
            ],
            "type": "surface"
           }
          ],
          "table": [
           {
            "cells": {
             "fill": {
              "color": "#EBF0F8"
             },
             "line": {
              "color": "white"
             }
            },
            "header": {
             "fill": {
              "color": "#C8D4E3"
             },
             "line": {
              "color": "white"
             }
            },
            "type": "table"
           }
          ]
         },
         "layout": {
          "annotationdefaults": {
           "arrowcolor": "#2a3f5f",
           "arrowhead": 0,
           "arrowwidth": 1
          },
          "autotypenumbers": "strict",
          "coloraxis": {
           "colorbar": {
            "outlinewidth": 0,
            "ticks": ""
           }
          },
          "colorscale": {
           "diverging": [
            [
             0,
             "#8e0152"
            ],
            [
             0.1,
             "#c51b7d"
            ],
            [
             0.2,
             "#de77ae"
            ],
            [
             0.3,
             "#f1b6da"
            ],
            [
             0.4,
             "#fde0ef"
            ],
            [
             0.5,
             "#f7f7f7"
            ],
            [
             0.6,
             "#e6f5d0"
            ],
            [
             0.7,
             "#b8e186"
            ],
            [
             0.8,
             "#7fbc41"
            ],
            [
             0.9,
             "#4d9221"
            ],
            [
             1,
             "#276419"
            ]
           ],
           "sequential": [
            [
             0,
             "#0d0887"
            ],
            [
             0.1111111111111111,
             "#46039f"
            ],
            [
             0.2222222222222222,
             "#7201a8"
            ],
            [
             0.3333333333333333,
             "#9c179e"
            ],
            [
             0.4444444444444444,
             "#bd3786"
            ],
            [
             0.5555555555555556,
             "#d8576b"
            ],
            [
             0.6666666666666666,
             "#ed7953"
            ],
            [
             0.7777777777777778,
             "#fb9f3a"
            ],
            [
             0.8888888888888888,
             "#fdca26"
            ],
            [
             1,
             "#f0f921"
            ]
           ],
           "sequentialminus": [
            [
             0,
             "#0d0887"
            ],
            [
             0.1111111111111111,
             "#46039f"
            ],
            [
             0.2222222222222222,
             "#7201a8"
            ],
            [
             0.3333333333333333,
             "#9c179e"
            ],
            [
             0.4444444444444444,
             "#bd3786"
            ],
            [
             0.5555555555555556,
             "#d8576b"
            ],
            [
             0.6666666666666666,
             "#ed7953"
            ],
            [
             0.7777777777777778,
             "#fb9f3a"
            ],
            [
             0.8888888888888888,
             "#fdca26"
            ],
            [
             1,
             "#f0f921"
            ]
           ]
          },
          "colorway": [
           "#636efa",
           "#EF553B",
           "#00cc96",
           "#ab63fa",
           "#FFA15A",
           "#19d3f3",
           "#FF6692",
           "#B6E880",
           "#FF97FF",
           "#FECB52"
          ],
          "font": {
           "color": "#2a3f5f"
          },
          "geo": {
           "bgcolor": "white",
           "lakecolor": "white",
           "landcolor": "#E5ECF6",
           "showlakes": true,
           "showland": true,
           "subunitcolor": "white"
          },
          "hoverlabel": {
           "align": "left"
          },
          "hovermode": "closest",
          "mapbox": {
           "style": "light"
          },
          "paper_bgcolor": "white",
          "plot_bgcolor": "#E5ECF6",
          "polar": {
           "angularaxis": {
            "gridcolor": "white",
            "linecolor": "white",
            "ticks": ""
           },
           "bgcolor": "#E5ECF6",
           "radialaxis": {
            "gridcolor": "white",
            "linecolor": "white",
            "ticks": ""
           }
          },
          "scene": {
           "xaxis": {
            "backgroundcolor": "#E5ECF6",
            "gridcolor": "white",
            "gridwidth": 2,
            "linecolor": "white",
            "showbackground": true,
            "ticks": "",
            "zerolinecolor": "white"
           },
           "yaxis": {
            "backgroundcolor": "#E5ECF6",
            "gridcolor": "white",
            "gridwidth": 2,
            "linecolor": "white",
            "showbackground": true,
            "ticks": "",
            "zerolinecolor": "white"
           },
           "zaxis": {
            "backgroundcolor": "#E5ECF6",
            "gridcolor": "white",
            "gridwidth": 2,
            "linecolor": "white",
            "showbackground": true,
            "ticks": "",
            "zerolinecolor": "white"
           }
          },
          "shapedefaults": {
           "line": {
            "color": "#2a3f5f"
           }
          },
          "ternary": {
           "aaxis": {
            "gridcolor": "white",
            "linecolor": "white",
            "ticks": ""
           },
           "baxis": {
            "gridcolor": "white",
            "linecolor": "white",
            "ticks": ""
           },
           "bgcolor": "#E5ECF6",
           "caxis": {
            "gridcolor": "white",
            "linecolor": "white",
            "ticks": ""
           }
          },
          "title": {
           "x": 0.05
          },
          "xaxis": {
           "automargin": true,
           "gridcolor": "white",
           "linecolor": "white",
           "ticks": "",
           "title": {
            "standoff": 15
           },
           "zerolinecolor": "white",
           "zerolinewidth": 2
          },
          "yaxis": {
           "automargin": true,
           "gridcolor": "white",
           "linecolor": "white",
           "ticks": "",
           "title": {
            "standoff": 15
           },
           "zerolinecolor": "white",
           "zerolinewidth": 2
          }
         }
        },
        "title": {
         "text": "Parallel Coordinate Plot"
        }
       }
      }
     },
     "metadata": {},
     "output_type": "display_data"
    }
   ],
   "source": [
    "optuna.visualization.plot_parallel_coordinate(study)"
   ]
  },
  {
   "cell_type": "code",
   "execution_count": null,
   "id": "75db1ddf",
   "metadata": {},
   "outputs": [
    {
     "name": "stdout",
     "output_type": "stream",
     "text": [
      "Best trial: {'n_estimators': 836, 'max_depth': 10, 'num_leaves': 4, 'min_child_samples': 8, 'num_iterations': 516}\n"
     ]
    }
   ],
   "source": [
    "print(\"Best trial:\", study.best_trial.params)"
   ]
  },
  {
   "cell_type": "code",
   "execution_count": null,
   "id": "574699dc",
   "metadata": {},
   "outputs": [
    {
     "data": {
      "text/plain": [
       "836"
      ]
     },
     "execution_count": 53,
     "metadata": {},
     "output_type": "execute_result"
    }
   ],
   "source": [
    "study.best_trial.params[\"n_estimators\"]"
   ]
  },
  {
   "cell_type": "code",
   "execution_count": null,
   "id": "862eadd2",
   "metadata": {},
   "outputs": [
    {
     "data": {
      "text/html": [
       "<style>#sk-container-id-1 {color: black;background-color: white;}#sk-container-id-1 pre{padding: 0;}#sk-container-id-1 div.sk-toggleable {background-color: white;}#sk-container-id-1 label.sk-toggleable__label {cursor: pointer;display: block;width: 100%;margin-bottom: 0;padding: 0.3em;box-sizing: border-box;text-align: center;}#sk-container-id-1 label.sk-toggleable__label-arrow:before {content: \"▸\";float: left;margin-right: 0.25em;color: #696969;}#sk-container-id-1 label.sk-toggleable__label-arrow:hover:before {color: black;}#sk-container-id-1 div.sk-estimator:hover label.sk-toggleable__label-arrow:before {color: black;}#sk-container-id-1 div.sk-toggleable__content {max-height: 0;max-width: 0;overflow: hidden;text-align: left;background-color: #f0f8ff;}#sk-container-id-1 div.sk-toggleable__content pre {margin: 0.2em;color: black;border-radius: 0.25em;background-color: #f0f8ff;}#sk-container-id-1 input.sk-toggleable__control:checked~div.sk-toggleable__content {max-height: 200px;max-width: 100%;overflow: auto;}#sk-container-id-1 input.sk-toggleable__control:checked~label.sk-toggleable__label-arrow:before {content: \"▾\";}#sk-container-id-1 div.sk-estimator input.sk-toggleable__control:checked~label.sk-toggleable__label {background-color: #d4ebff;}#sk-container-id-1 div.sk-label input.sk-toggleable__control:checked~label.sk-toggleable__label {background-color: #d4ebff;}#sk-container-id-1 input.sk-hidden--visually {border: 0;clip: rect(1px 1px 1px 1px);clip: rect(1px, 1px, 1px, 1px);height: 1px;margin: -1px;overflow: hidden;padding: 0;position: absolute;width: 1px;}#sk-container-id-1 div.sk-estimator {font-family: monospace;background-color: #f0f8ff;border: 1px dotted black;border-radius: 0.25em;box-sizing: border-box;margin-bottom: 0.5em;}#sk-container-id-1 div.sk-estimator:hover {background-color: #d4ebff;}#sk-container-id-1 div.sk-parallel-item::after {content: \"\";width: 100%;border-bottom: 1px solid gray;flex-grow: 1;}#sk-container-id-1 div.sk-label:hover label.sk-toggleable__label {background-color: #d4ebff;}#sk-container-id-1 div.sk-serial::before {content: \"\";position: absolute;border-left: 1px solid gray;box-sizing: border-box;top: 0;bottom: 0;left: 50%;z-index: 0;}#sk-container-id-1 div.sk-serial {display: flex;flex-direction: column;align-items: center;background-color: white;padding-right: 0.2em;padding-left: 0.2em;position: relative;}#sk-container-id-1 div.sk-item {position: relative;z-index: 1;}#sk-container-id-1 div.sk-parallel {display: flex;align-items: stretch;justify-content: center;background-color: white;position: relative;}#sk-container-id-1 div.sk-item::before, #sk-container-id-1 div.sk-parallel-item::before {content: \"\";position: absolute;border-left: 1px solid gray;box-sizing: border-box;top: 0;bottom: 0;left: 50%;z-index: -1;}#sk-container-id-1 div.sk-parallel-item {display: flex;flex-direction: column;z-index: 1;position: relative;background-color: white;}#sk-container-id-1 div.sk-parallel-item:first-child::after {align-self: flex-end;width: 50%;}#sk-container-id-1 div.sk-parallel-item:last-child::after {align-self: flex-start;width: 50%;}#sk-container-id-1 div.sk-parallel-item:only-child::after {width: 0;}#sk-container-id-1 div.sk-dashed-wrapped {border: 1px dashed gray;margin: 0 0.4em 0.5em 0.4em;box-sizing: border-box;padding-bottom: 0.4em;background-color: white;}#sk-container-id-1 div.sk-label label {font-family: monospace;font-weight: bold;display: inline-block;line-height: 1.2em;}#sk-container-id-1 div.sk-label-container {text-align: center;}#sk-container-id-1 div.sk-container {/* jupyter's `normalize.less` sets `[hidden] { display: none; }` but bootstrap.min.css set `[hidden] { display: none !important; }` so we also need the `!important` here to be able to override the default hidden behavior on the sphinx rendered scikit-learn.org. See: https://github.com/scikit-learn/scikit-learn/issues/21755 */display: inline-block !important;position: relative;}#sk-container-id-1 div.sk-text-repr-fallback {display: none;}</style><div id=\"sk-container-id-1\" class=\"sk-top-container\"><div class=\"sk-text-repr-fallback\"><pre>LGBMRegressor(max_depth=10, min_child_samples=8, n_estimators=836,\n",
       "              num_iterations=516, num_leaves=4, random_state=42)</pre><b>In a Jupyter environment, please rerun this cell to show the HTML representation or trust the notebook. <br />On GitHub, the HTML representation is unable to render, please try loading this page with nbviewer.org.</b></div><div class=\"sk-container\" hidden><div class=\"sk-item\"><div class=\"sk-estimator sk-toggleable\"><input class=\"sk-toggleable__control sk-hidden--visually\" id=\"sk-estimator-id-1\" type=\"checkbox\" checked><label for=\"sk-estimator-id-1\" class=\"sk-toggleable__label sk-toggleable__label-arrow\">LGBMRegressor</label><div class=\"sk-toggleable__content\"><pre>LGBMRegressor(max_depth=10, min_child_samples=8, n_estimators=836,\n",
       "              num_iterations=516, num_leaves=4, random_state=42)</pre></div></div></div></div></div>"
      ],
      "text/plain": [
       "LGBMRegressor(max_depth=10, min_child_samples=8, n_estimators=836,\n",
       "              num_iterations=516, num_leaves=4, random_state=42)"
      ]
     },
     "execution_count": 54,
     "metadata": {},
     "output_type": "execute_result"
    }
   ],
   "source": [
    "lgbm_params = {\n",
    "    \"random_state\": 42,\n",
    "    \"learning_rate\": 0.1,\n",
    "    \"n_estimators\": study.best_trial.params[\"n_estimators\"],\n",
    "    \"max_depth\": study.best_trial.params[\"max_depth\"],\n",
    "    \"num_leaves\": study.best_trial.params[\"num_leaves\"],\n",
    "    \"min_child_samples\": study.best_trial.params[\"min_child_samples\"],\n",
    "    \"num_iterations\": study.best_trial.params[\"num_iterations\"]\n",
    "}\n",
    "\n",
    "lgbm = LGBMRegressor(**lgbm_params)\n",
    "lgbm.fit(As_X_train, As_y_train)"
   ]
  },
  {
   "cell_type": "code",
   "execution_count": null,
   "id": "8577fb37",
   "metadata": {},
   "outputs": [],
   "source": [
    "y_train_pred = lgbm.predict(As_X_train)\n",
    "y_test_pred = lgbm.predict(As_X_test)"
   ]
  },
  {
   "cell_type": "code",
   "execution_count": null,
   "id": "2ea0526a",
   "metadata": {},
   "outputs": [],
   "source": [
    "# plt.scatter(y_train_pred, np.array(As_y_train))"
   ]
  },
  {
   "cell_type": "code",
   "execution_count": null,
   "id": "d2a4dd85",
   "metadata": {},
   "outputs": [
    {
     "name": "stdout",
     "output_type": "stream",
     "text": [
      "Train RMSE:  0.28247050369636983\n",
      "Test RMSE:  0.6448963820563529\n"
     ]
    }
   ],
   "source": [
    "print(\"Train RMSE: \", np.sqrt(mean_squared_error(As_y_train, y_train_pred)))\n",
    "print(\"Test RMSE: \", np.sqrt(mean_squared_error(As_y_test, y_test_pred)))"
   ]
  },
  {
   "cell_type": "code",
   "execution_count": null,
   "id": "08fe787a",
   "metadata": {},
   "outputs": [
    {
     "name": "stdout",
     "output_type": "stream",
     "text": [
      "Train R2:  0.9062838001865791\n",
      "Test R2:  0.545826169213014\n"
     ]
    }
   ],
   "source": [
    "print(\"Train R2: \", r2_score(As_y_train, y_train_pred))\n",
    "print(\"Test R2: \", r2_score(As_y_test, y_test_pred))"
   ]
  },
  {
   "cell_type": "code",
   "execution_count": null,
   "id": "5ec4820c",
   "metadata": {},
   "outputs": [
    {
     "data": {
      "image/png": "[encoded data removed]",
      "text/plain": [
       "<Figure size 432x288 with 1 Axes>"
      ]
     },
     "metadata": {
      "needs_background": "light"
     },
     "output_type": "display_data"
    }
   ],
   "source": [
    "plt.scatter(y_train_pred, np.array(As_y_train), color=\"orange\", alpha=0.3)\n",
    "plt.scatter(y_test_pred, np.array(As_y_test), color=\"green\", alpha=0.4)\n",
    "plt.axis(\"auto\") # scaled, tight, auto, image, square\n",
    "# plt.xlim([0, 1.5]) \n",
    "# plt.ylim(0, None) \n",
    "plt.xlabel('Predicted Values')\n",
    "plt.ylabel('Actual Values')\n",
    "\n",
    "# Add y=x line\n",
    "plt.plot([0, 4.0], [0, 4.0], color='red', linestyle='-')\n",
    "\n",
    "plt.show()"
   ]
  },
  {
   "attachments": {},
   "cell_type": "markdown",
   "id": "e0507d63",
   "metadata": {},
   "source": [
    "Cd"
   ]
  },
  {
   "attachments": {},
   "cell_type": "markdown",
   "id": "f8f809d9",
   "metadata": {},
   "source": [
    "Optimization"
   ]
  },
  {
   "cell_type": "code",
   "execution_count": null,
   "id": "b7aeaf0a",
   "metadata": {},
   "outputs": [
    {
     "name": "stderr",
     "output_type": "stream",
     "text": [
      "\u001b[32m[I 2023-08-17 22:39:32,244]\u001b[0m A new study created in memory with name: lgbm_parameter_opt\u001b[0m\n",
      "\u001b[32m[I 2023-08-17 22:39:35,451]\u001b[0m Trial 0 finished with value: 0.6875314897551261 and parameters: {'n_estimators': 668, 'max_depth': 28, 'num_leaves': 24, 'min_child_samples': 5, 'num_iterations': 599}. Best is trial 0 with value: 0.6875314897551261.\u001b[0m\n",
      "\u001b[32m[I 2023-08-17 22:39:37,940]\u001b[0m Trial 1 finished with value: 0.6837811648457679 and parameters: {'n_estimators': 806, 'max_depth': 6, 'num_leaves': 19, 'min_child_samples': 5, 'num_iterations': 723}. Best is trial 0 with value: 0.6875314897551261.\u001b[0m\n",
      "\u001b[32m[I 2023-08-17 22:39:39,279]\u001b[0m Trial 2 finished with value: 0.6609302207598982 and parameters: {'n_estimators': 878, 'max_depth': 7, 'num_leaves': 11, 'min_child_samples': 10, 'num_iterations': 597}. Best is trial 0 with value: 0.6875314897551261.\u001b[0m\n",
      "\u001b[32m[I 2023-08-17 22:39:40,856]\u001b[0m Trial 3 finished with value: 0.6529706933525674 and parameters: {'n_estimators': 876, 'max_depth': 6, 'num_leaves': 26, 'min_child_samples': 10, 'num_iterations': 541}. Best is trial 0 with value: 0.6875314897551261.\u001b[0m\n",
      "\u001b[32m[I 2023-08-17 22:39:42,839]\u001b[0m Trial 4 finished with value: 0.6867962358865926 and parameters: {'n_estimators': 721, 'max_depth': 30, 'num_leaves': 15, 'min_child_samples': 6, 'num_iterations': 610}. Best is trial 0 with value: 0.6875314897551261.\u001b[0m\n",
      "\u001b[32m[I 2023-08-17 22:39:44,584]\u001b[0m Trial 5 finished with value: 0.6704634521280539 and parameters: {'n_estimators': 919, 'max_depth': 4, 'num_leaves': 17, 'min_child_samples': 8, 'num_iterations': 942}. Best is trial 0 with value: 0.6875314897551261.\u001b[0m\n",
      "\u001b[32m[I 2023-08-17 22:39:50,600]\u001b[0m Trial 6 finished with value: 0.6847603911730747 and parameters: {'n_estimators': 727, 'max_depth': 22, 'num_leaves': 29, 'min_child_samples': 3, 'num_iterations': 889}. Best is trial 0 with value: 0.6875314897551261.\u001b[0m\n",
      "\u001b[32m[I 2023-08-17 22:39:53,793]\u001b[0m Trial 7 finished with value: 0.6781114552532912 and parameters: {'n_estimators': 768, 'max_depth': 25, 'num_leaves': 26, 'min_child_samples': 6, 'num_iterations': 576}. Best is trial 0 with value: 0.6875314897551261.\u001b[0m\n",
      "\u001b[32m[I 2023-08-17 22:39:55,409]\u001b[0m Trial 8 finished with value: 0.6739187663920528 and parameters: {'n_estimators': 970, 'max_depth': 18, 'num_leaves': 10, 'min_child_samples': 9, 'num_iterations': 676}. Best is trial 0 with value: 0.6875314897551261.\u001b[0m\n",
      "\u001b[32m[I 2023-08-17 22:40:01,803]\u001b[0m Trial 9 finished with value: 0.6590931605944388 and parameters: {'n_estimators': 535, 'max_depth': 18, 'num_leaves': 32, 'min_child_samples': 1, 'num_iterations': 767}. Best is trial 0 with value: 0.6875314897551261.\u001b[0m\n",
      "\u001b[32m[I 2023-08-17 22:40:03,010]\u001b[0m Trial 10 finished with value: 0.6742464665453743 and parameters: {'n_estimators': 603, 'max_depth': 30, 'num_leaves': 5, 'min_child_samples': 4, 'num_iterations': 827}. Best is trial 0 with value: 0.6875314897551261.\u001b[0m\n",
      "\u001b[32m[I 2023-08-17 22:40:05,961]\u001b[0m Trial 11 finished with value: 0.6770044523363605 and parameters: {'n_estimators': 657, 'max_depth': 28, 'num_leaves': 20, 'min_child_samples': 7, 'num_iterations': 641}. Best is trial 0 with value: 0.6875314897551261.\u001b[0m\n",
      "\u001b[32m[I 2023-08-17 22:40:07,968]\u001b[0m Trial 12 finished with value: 0.7083745975618758 and parameters: {'n_estimators': 676, 'max_depth': 24, 'num_leaves': 14, 'min_child_samples': 3, 'num_iterations': 510}. Best is trial 12 with value: 0.7083745975618758.\u001b[0m\n",
      "\u001b[32m[I 2023-08-17 22:40:11,063]\u001b[0m Trial 13 finished with value: 0.6844020389512497 and parameters: {'n_estimators': 632, 'max_depth': 13, 'num_leaves': 23, 'min_child_samples': 2, 'num_iterations': 509}. Best is trial 12 with value: 0.7083745975618758.\u001b[0m\n",
      "\u001b[32m[I 2023-08-17 22:40:12,706]\u001b[0m Trial 14 finished with value: 0.703194660409485 and parameters: {'n_estimators': 507, 'max_depth': 23, 'num_leaves': 13, 'min_child_samples': 4, 'num_iterations': 515}. Best is trial 12 with value: 0.7083745975618758.\u001b[0m\n",
      "\u001b[32m[I 2023-08-17 22:40:13,083]\u001b[0m Trial 15 finished with value: 0.5397924963589654 and parameters: {'n_estimators': 508, 'max_depth': 22, 'num_leaves': 2, 'min_child_samples': 3, 'num_iterations': 526}. Best is trial 12 with value: 0.7083745975618758.\u001b[0m\n",
      "\u001b[32m[I 2023-08-17 22:40:15,374]\u001b[0m Trial 16 finished with value: 0.6888191356508979 and parameters: {'n_estimators': 573, 'max_depth': 13, 'num_leaves': 12, 'min_child_samples': 1, 'num_iterations': 685}. Best is trial 12 with value: 0.7083745975618758.\u001b[0m\n",
      "\u001b[32m[I 2023-08-17 22:40:16,332]\u001b[0m Trial 17 finished with value: 0.6942198525666973 and parameters: {'n_estimators': 567, 'max_depth': 23, 'num_leaves': 7, 'min_child_samples': 3, 'num_iterations': 503}. Best is trial 12 with value: 0.7083745975618758.\u001b[0m\n",
      "\u001b[32m[I 2023-08-17 22:40:19,229]\u001b[0m Trial 18 finished with value: 0.6947239696969592 and parameters: {'n_estimators': 809, 'max_depth': 19, 'num_leaves': 15, 'min_child_samples': 4, 'num_iterations': 789}. Best is trial 12 with value: 0.7083745975618758.\u001b[0m\n",
      "\u001b[32m[I 2023-08-17 22:40:20,359]\u001b[0m Trial 19 finished with value: 0.6849014585330181 and parameters: {'n_estimators': 500, 'max_depth': 25, 'num_leaves': 7, 'min_child_samples': 4, 'num_iterations': 551}. Best is trial 12 with value: 0.7083745975618758.\u001b[0m\n",
      "\u001b[32m[I 2023-08-17 22:40:22,542]\u001b[0m Trial 20 finished with value: 0.6923192299415184 and parameters: {'n_estimators': 689, 'max_depth': 14, 'num_leaves': 13, 'min_child_samples': 2, 'num_iterations': 655}. Best is trial 12 with value: 0.7083745975618758.\u001b[0m\n",
      "\u001b[32m[I 2023-08-17 22:40:26,134]\u001b[0m Trial 21 finished with value: 0.6875404393970521 and parameters: {'n_estimators': 811, 'max_depth': 19, 'num_leaves': 16, 'min_child_samples': 4, 'num_iterations': 831}. Best is trial 12 with value: 0.7083745975618758.\u001b[0m\n",
      "\u001b[32m[I 2023-08-17 22:40:28,945]\u001b[0m Trial 22 finished with value: 0.6866768285404027 and parameters: {'n_estimators': 797, 'max_depth': 20, 'num_leaves': 14, 'min_child_samples': 4, 'num_iterations': 774}. Best is trial 12 with value: 0.7083745975618758.\u001b[0m\n",
      "\u001b[32m[I 2023-08-17 22:40:32,815]\u001b[0m Trial 23 finished with value: 0.692232441806148 and parameters: {'n_estimators': 858, 'max_depth': 16, 'num_leaves': 19, 'min_child_samples': 2, 'num_iterations': 820}. Best is trial 12 with value: 0.7083745975618758.\u001b[0m\n",
      "\u001b[32m[I 2023-08-17 22:40:35,311]\u001b[0m Trial 24 finished with value: 0.6887854487374915 and parameters: {'n_estimators': 751, 'max_depth': 26, 'num_leaves': 17, 'min_child_samples': 5, 'num_iterations': 716}. Best is trial 12 with value: 0.7083745975618758.\u001b[0m\n",
      "\u001b[32m[I 2023-08-17 22:40:37,447]\u001b[0m Trial 25 finished with value: 0.7041339724592778 and parameters: {'n_estimators': 619, 'max_depth': 21, 'num_leaves': 9, 'min_child_samples': 3, 'num_iterations': 895}. Best is trial 12 with value: 0.7083745975618758.\u001b[0m\n",
      "\u001b[32m[I 2023-08-17 22:40:39,374]\u001b[0m Trial 26 finished with value: 0.6884004098560755 and parameters: {'n_estimators': 608, 'max_depth': 23, 'num_leaves': 8, 'min_child_samples': 3, 'num_iterations': 928}. Best is trial 12 with value: 0.7083745975618758.\u001b[0m\n",
      "\u001b[32m[I 2023-08-17 22:40:41,756]\u001b[0m Trial 27 finished with value: 0.6898985601289807 and parameters: {'n_estimators': 561, 'max_depth': 11, 'num_leaves': 9, 'min_child_samples': 2, 'num_iterations': 976}. Best is trial 12 with value: 0.7083745975618758.\u001b[0m\n",
      "\u001b[32m[I 2023-08-17 22:40:42,461]\u001b[0m Trial 28 finished with value: 0.6443915300716233 and parameters: {'n_estimators': 695, 'max_depth': 21, 'num_leaves': 3, 'min_child_samples': 7, 'num_iterations': 898}. Best is trial 12 with value: 0.7083745975618758.\u001b[0m\n",
      "\u001b[32m[I 2023-08-17 22:40:45,095]\u001b[0m Trial 29 finished with value: 0.6892902361706434 and parameters: {'n_estimators': 646, 'max_depth': 27, 'num_leaves': 12, 'min_child_samples': 5, 'num_iterations': 992}. Best is trial 12 with value: 0.7083745975618758.\u001b[0m\n",
      "\u001b[32m[I 2023-08-17 22:40:46,594]\u001b[0m Trial 30 finished with value: 0.6830231705097407 and parameters: {'n_estimators': 609, 'max_depth': 16, 'num_leaves': 6, 'min_child_samples': 1, 'num_iterations': 869}. Best is trial 12 with value: 0.7083745975618758.\u001b[0m\n",
      "\u001b[32m[I 2023-08-17 22:40:48,013]\u001b[0m Trial 31 finished with value: 0.6894289979556516 and parameters: {'n_estimators': 688, 'max_depth': 24, 'num_leaves': 10, 'min_child_samples': 4, 'num_iterations': 565}. Best is trial 12 with value: 0.7083745975618758.\u001b[0m\n",
      "\u001b[32m[I 2023-08-17 22:40:50,664]\u001b[0m Trial 32 finished with value: 0.7080791072446857 and parameters: {'n_estimators': 776, 'max_depth': 20, 'num_leaves': 14, 'min_child_samples': 3, 'num_iterations': 750}. Best is trial 12 with value: 0.7083745975618758.\u001b[0m\n",
      "\u001b[32m[I 2023-08-17 22:40:53,935]\u001b[0m Trial 33 finished with value: 0.6886231477591913 and parameters: {'n_estimators': 768, 'max_depth': 21, 'num_leaves': 21, 'min_child_samples': 3, 'num_iterations': 610}. Best is trial 12 with value: 0.7083745975618758.\u001b[0m\n",
      "\u001b[32m[I 2023-08-17 22:40:56,097]\u001b[0m Trial 34 finished with value: 0.7045403992190444 and parameters: {'n_estimators': 540, 'max_depth': 9, 'num_leaves': 13, 'min_child_samples': 5, 'num_iterations': 725}. Best is trial 12 with value: 0.7083745975618758.\u001b[0m\n",
      "\u001b[32m[I 2023-08-17 22:40:58,847]\u001b[0m Trial 35 finished with value: 0.6893042066935292 and parameters: {'n_estimators': 543, 'max_depth': 10, 'num_leaves': 18, 'min_child_samples': 5, 'num_iterations': 712}. Best is trial 12 with value: 0.7083745975618758.\u001b[0m\n",
      "\u001b[32m[I 2023-08-17 22:40:59,472]\u001b[0m Trial 36 finished with value: 0.6499131932114303 and parameters: {'n_estimators': 719, 'max_depth': 2, 'num_leaves': 11, 'min_child_samples': 6, 'num_iterations': 734}. Best is trial 12 with value: 0.7083745975618758.\u001b[0m\n",
      "\u001b[32m[I 2023-08-17 22:41:02,480]\u001b[0m Trial 37 finished with value: 0.6972288528918664 and parameters: {'n_estimators': 624, 'max_depth': 8, 'num_leaves': 15, 'min_child_samples': 2, 'num_iterations': 800}. Best is trial 12 with value: 0.7083745975618758.\u001b[0m\n",
      "\u001b[32m[I 2023-08-17 22:41:03,524]\u001b[0m Trial 38 finished with value: 0.6834707424399048 and parameters: {'n_estimators': 598, 'max_depth': 4, 'num_leaves': 5, 'min_child_samples': 3, 'num_iterations': 747}. Best is trial 12 with value: 0.7083745975618758.\u001b[0m\n",
      "\u001b[32m[I 2023-08-17 22:41:07,327]\u001b[0m Trial 39 finished with value: 0.6839397252261923 and parameters: {'n_estimators': 670, 'max_depth': 17, 'num_leaves': 22, 'min_child_samples': 5, 'num_iterations': 855}. Best is trial 12 with value: 0.7083745975618758.\u001b[0m\n",
      "\u001b[32m[I 2023-08-17 22:41:09,461]\u001b[0m Trial 40 finished with value: 0.6925749808434184 and parameters: {'n_estimators': 584, 'max_depth': 9, 'num_leaves': 10, 'min_child_samples': 6, 'num_iterations': 943}. Best is trial 12 with value: 0.7083745975618758.\u001b[0m\n",
      "\u001b[32m[I 2023-08-17 22:41:11,287]\u001b[0m Trial 41 finished with value: 0.7032560507819626 and parameters: {'n_estimators': 527, 'max_depth': 24, 'num_leaves': 13, 'min_child_samples': 3, 'num_iterations': 578}. Best is trial 12 with value: 0.7083745975618758.\u001b[0m\n",
      "\u001b[32m[I 2023-08-17 22:41:13,303]\u001b[0m Trial 42 finished with value: 0.7081201390815256 and parameters: {'n_estimators': 538, 'max_depth': 26, 'num_leaves': 14, 'min_child_samples': 3, 'num_iterations': 591}. Best is trial 12 with value: 0.7083745975618758.\u001b[0m\n",
      "\u001b[32m[I 2023-08-17 22:41:15,924]\u001b[0m Trial 43 finished with value: 0.6997982095337669 and parameters: {'n_estimators': 543, 'max_depth': 29, 'num_leaves': 16, 'min_child_samples': 2, 'num_iterations': 623}. Best is trial 12 with value: 0.7083745975618758.\u001b[0m\n",
      "\u001b[32m[I 2023-08-17 22:41:17,806]\u001b[0m Trial 44 finished with value: 0.7013434963882249 and parameters: {'n_estimators': 719, 'max_depth': 27, 'num_leaves': 11, 'min_child_samples': 3, 'num_iterations': 687}. Best is trial 12 with value: 0.7083745975618758.\u001b[0m\n",
      "\u001b[32m[I 2023-08-17 22:41:20,635]\u001b[0m Trial 45 finished with value: 0.6981075500949487 and parameters: {'n_estimators': 854, 'max_depth': 25, 'num_leaves': 18, 'min_child_samples': 1, 'num_iterations': 592}. Best is trial 12 with value: 0.7083745975618758.\u001b[0m\n",
      "\u001b[32m[I 2023-08-17 22:41:22,553]\u001b[0m Trial 46 finished with value: 0.6823494671749055 and parameters: {'n_estimators': 627, 'max_depth': 21, 'num_leaves': 14, 'min_child_samples': 8, 'num_iterations': 652}. Best is trial 12 with value: 0.7083745975618758.\u001b[0m\n",
      "\u001b[32m[I 2023-08-17 22:41:23,550]\u001b[0m Trial 47 finished with value: 0.6810078675297943 and parameters: {'n_estimators': 922, 'max_depth': 6, 'num_leaves': 8, 'min_child_samples': 7, 'num_iterations': 531}. Best is trial 12 with value: 0.7083745975618758.\u001b[0m\n",
      "\u001b[32m[I 2023-08-17 22:41:26,262]\u001b[0m Trial 48 finished with value: 0.6949237837161165 and parameters: {'n_estimators': 525, 'max_depth': 28, 'num_leaves': 12, 'min_child_samples': 2, 'num_iterations': 758}. Best is trial 12 with value: 0.7083745975618758.\u001b[0m\n",
      "\u001b[32m[I 2023-08-17 22:41:30,343]\u001b[0m Trial 49 finished with value: 0.6802409932726314 and parameters: {'n_estimators': 658, 'max_depth': 18, 'num_leaves': 25, 'min_child_samples': 3, 'num_iterations': 700}. Best is trial 12 with value: 0.7083745975618758.\u001b[0m\n",
      "\u001b[32m[I 2023-08-17 22:41:33,059]\u001b[0m Trial 50 finished with value: 0.687622686863813 and parameters: {'n_estimators': 559, 'max_depth': 22, 'num_leaves': 16, 'min_child_samples': 4, 'num_iterations': 661}. Best is trial 12 with value: 0.7083745975618758.\u001b[0m\n",
      "\u001b[32m[I 2023-08-17 22:41:34,975]\u001b[0m Trial 51 finished with value: 0.7082289256244769 and parameters: {'n_estimators': 526, 'max_depth': 24, 'num_leaves': 14, 'min_child_samples': 3, 'num_iterations': 567}. Best is trial 12 with value: 0.7083745975618758.\u001b[0m\n",
      "\u001b[32m[I 2023-08-17 22:41:36,812]\u001b[0m Trial 52 finished with value: 0.7082186518674589 and parameters: {'n_estimators': 582, 'max_depth': 26, 'num_leaves': 14, 'min_child_samples': 3, 'num_iterations': 534}. Best is trial 12 with value: 0.7083745975618758.\u001b[0m\n",
      "\u001b[32m[I 2023-08-17 22:41:38,668]\u001b[0m Trial 53 finished with value: 0.6867753090015286 and parameters: {'n_estimators': 581, 'max_depth': 26, 'num_leaves': 14, 'min_child_samples': 4, 'num_iterations': 553}. Best is trial 12 with value: 0.7083745975618758.\u001b[0m\n",
      "\u001b[32m[I 2023-08-17 22:41:40,697]\u001b[0m Trial 54 finished with value: 0.6542605938523207 and parameters: {'n_estimators': 519, 'max_depth': 30, 'num_leaves': 18, 'min_child_samples': 10, 'num_iterations': 534}. Best is trial 12 with value: 0.7083745975618758.\u001b[0m\n",
      "\u001b[32m[I 2023-08-17 22:41:42,587]\u001b[0m Trial 55 finished with value: 0.6992553953560321 and parameters: {'n_estimators': 553, 'max_depth': 24, 'num_leaves': 15, 'min_child_samples': 2, 'num_iterations': 502}. Best is trial 12 with value: 0.7083745975618758.\u001b[0m\n",
      "\u001b[32m[I 2023-08-17 22:41:44,598]\u001b[0m Trial 56 finished with value: 0.7031677662688173 and parameters: {'n_estimators': 592, 'max_depth': 26, 'num_leaves': 13, 'min_child_samples': 3, 'num_iterations': 634}. Best is trial 12 with value: 0.7083745975618758.\u001b[0m\n",
      "\u001b[32m[I 2023-08-17 22:41:46,719]\u001b[0m Trial 57 finished with value: 0.6875818190562667 and parameters: {'n_estimators': 775, 'max_depth': 29, 'num_leaves': 16, 'min_child_samples': 4, 'num_iterations': 564}. Best is trial 12 with value: 0.7083745975618758.\u001b[0m\n",
      "\u001b[32m[I 2023-08-17 22:41:50,284]\u001b[0m Trial 58 finished with value: 0.6818875042510495 and parameters: {'n_estimators': 510, 'max_depth': 27, 'num_leaves': 20, 'min_child_samples': 1, 'num_iterations': 588}. Best is trial 12 with value: 0.7083745975618758.\u001b[0m\n",
      "\u001b[32m[I 2023-08-17 22:41:54,203]\u001b[0m Trial 59 finished with value: 0.6852065156103369 and parameters: {'n_estimators': 539, 'max_depth': 19, 'num_leaves': 28, 'min_child_samples': 2, 'num_iterations': 515}. Best is trial 12 with value: 0.7083745975618758.\u001b[0m\n",
      "\u001b[32m[I 2023-08-17 22:41:56,392]\u001b[0m Trial 60 finished with value: 0.6867775918787651 and parameters: {'n_estimators': 737, 'max_depth': 23, 'num_leaves': 14, 'min_child_samples': 4, 'num_iterations': 545}. Best is trial 12 with value: 0.7083745975618758.\u001b[0m\n",
      "\u001b[32m[I 2023-08-17 22:41:58,378]\u001b[0m Trial 61 finished with value: 0.701600657831797 and parameters: {'n_estimators': 572, 'max_depth': 14, 'num_leaves': 11, 'min_child_samples': 3, 'num_iterations': 613}. Best is trial 12 with value: 0.7083745975618758.\u001b[0m\n",
      "\u001b[32m[I 2023-08-17 22:42:00,987]\u001b[0m Trial 62 finished with value: 0.6971142820816121 and parameters: {'n_estimators': 619, 'max_depth': 20, 'num_leaves': 12, 'min_child_samples': 3, 'num_iterations': 784}. Best is trial 12 with value: 0.7083745975618758.\u001b[0m\n",
      "\u001b[32m[I 2023-08-17 22:42:02,418]\u001b[0m Trial 63 finished with value: 0.7038663106186196 and parameters: {'n_estimators': 551, 'max_depth': 25, 'num_leaves': 9, 'min_child_samples': 3, 'num_iterations': 516}. Best is trial 12 with value: 0.7083745975618758.\u001b[0m\n",
      "\u001b[32m[I 2023-08-17 22:42:04,503]\u001b[0m Trial 64 finished with value: 0.6923695593287311 and parameters: {'n_estimators': 644, 'max_depth': 22, 'num_leaves': 13, 'min_child_samples': 2, 'num_iterations': 563}. Best is trial 12 with value: 0.7083745975618758.\u001b[0m\n",
      "\u001b[32m[I 2023-08-17 22:42:06,942]\u001b[0m Trial 65 finished with value: 0.6977465404627756 and parameters: {'n_estimators': 785, 'max_depth': 24, 'num_leaves': 17, 'min_child_samples': 4, 'num_iterations': 533}. Best is trial 12 with value: 0.7083745975618758.\u001b[0m\n",
      "\u001b[32m[I 2023-08-17 22:42:09,213]\u001b[0m Trial 66 finished with value: 0.687999156199362 and parameters: {'n_estimators': 832, 'max_depth': 20, 'num_leaves': 10, 'min_child_samples': 3, 'num_iterations': 808}. Best is trial 12 with value: 0.7083745975618758.\u001b[0m\n",
      "\u001b[32m[I 2023-08-17 22:42:11,464]\u001b[0m Trial 67 finished with value: 0.6724051430769866 and parameters: {'n_estimators': 568, 'max_depth': 23, 'num_leaves': 14, 'min_child_samples': 9, 'num_iterations': 743}. Best is trial 12 with value: 0.7083745975618758.\u001b[0m\n",
      "\u001b[32m[I 2023-08-17 22:42:13,321]\u001b[0m Trial 68 finished with value: 0.6977477681121438 and parameters: {'n_estimators': 752, 'max_depth': 26, 'num_leaves': 15, 'min_child_samples': 5, 'num_iterations': 580}. Best is trial 12 with value: 0.7083745975618758.\u001b[0m\n",
      "\u001b[32m[I 2023-08-17 22:42:15,505]\u001b[0m Trial 69 finished with value: 0.6852809631264123 and parameters: {'n_estimators': 699, 'max_depth': 28, 'num_leaves': 12, 'min_child_samples': 4, 'num_iterations': 725}. Best is trial 12 with value: 0.7083745975618758.\u001b[0m\n",
      "\u001b[32m[I 2023-08-17 22:42:19,726]\u001b[0m Trial 70 finished with value: 0.6922391812326568 and parameters: {'n_estimators': 502, 'max_depth': 15, 'num_leaves': 19, 'min_child_samples': 2, 'num_iterations': 903}. Best is trial 12 with value: 0.7083745975618758.\u001b[0m\n",
      "\u001b[32m[I 2023-08-17 22:42:20,923]\u001b[0m Trial 71 finished with value: 0.7038554481354031 and parameters: {'n_estimators': 550, 'max_depth': 25, 'num_leaves': 9, 'min_child_samples': 3, 'num_iterations': 506}. Best is trial 12 with value: 0.7083745975618758.\u001b[0m\n",
      "\u001b[32m[I 2023-08-17 22:42:22,367]\u001b[0m Trial 72 finished with value: 0.7037244163801638 and parameters: {'n_estimators': 531, 'max_depth': 22, 'num_leaves': 9, 'min_child_samples': 3, 'num_iterations': 545}. Best is trial 12 with value: 0.7083745975618758.\u001b[0m\n",
      "\u001b[32m[I 2023-08-17 22:42:23,548]\u001b[0m Trial 73 finished with value: 0.6939698845226208 and parameters: {'n_estimators': 588, 'max_depth': 25, 'num_leaves': 7, 'min_child_samples': 3, 'num_iterations': 522}. Best is trial 12 with value: 0.7083745975618758.\u001b[0m\n",
      "\u001b[32m[I 2023-08-17 22:42:25,097]\u001b[0m Trial 74 finished with value: 0.6906314070743063 and parameters: {'n_estimators': 608, 'max_depth': 27, 'num_leaves': 6, 'min_child_samples': 2, 'num_iterations': 846}. Best is trial 12 with value: 0.7083745975618758.\u001b[0m\n",
      "\u001b[32m[I 2023-08-17 22:42:26,778]\u001b[0m Trial 75 finished with value: 0.6964246703325335 and parameters: {'n_estimators': 521, 'max_depth': 24, 'num_leaves': 11, 'min_child_samples': 4, 'num_iterations': 561}. Best is trial 12 with value: 0.7083745975618758.\u001b[0m\n",
      "\u001b[32m[I 2023-08-17 22:42:28,186]\u001b[0m Trial 76 finished with value: 0.6902635662485498 and parameters: {'n_estimators': 996, 'max_depth': 21, 'num_leaves': 8, 'min_child_samples': 3, 'num_iterations': 519}. Best is trial 12 with value: 0.7083745975618758.\u001b[0m\n",
      "\u001b[32m[I 2023-08-17 22:42:29,030]\u001b[0m Trial 77 finished with value: 0.6633991691620899 and parameters: {'n_estimators': 676, 'max_depth': 26, 'num_leaves': 4, 'min_child_samples': 5, 'num_iterations': 764}. Best is trial 12 with value: 0.7083745975618758.\u001b[0m\n",
      "\u001b[32m[I 2023-08-17 22:42:32,021]\u001b[0m Trial 78 finished with value: 0.6954124565607704 and parameters: {'n_estimators': 577, 'max_depth': 29, 'num_leaves': 17, 'min_child_samples': 3, 'num_iterations': 602}. Best is trial 12 with value: 0.7083745975618758.\u001b[0m\n",
      "\u001b[32m[I 2023-08-17 22:42:33,829]\u001b[0m Trial 79 finished with value: 0.6814216985668786 and parameters: {'n_estimators': 559, 'max_depth': 4, 'num_leaves': 15, 'min_child_samples': 2, 'num_iterations': 575}. Best is trial 12 with value: 0.7083745975618758.\u001b[0m\n",
      "\u001b[32m[I 2023-08-17 22:42:35,315]\u001b[0m Trial 80 finished with value: 0.6979009004498826 and parameters: {'n_estimators': 644, 'max_depth': 17, 'num_leaves': 13, 'min_child_samples': 6, 'num_iterations': 539}. Best is trial 12 with value: 0.7083745975618758.\u001b[0m\n",
      "\u001b[32m[I 2023-08-17 22:42:36,668]\u001b[0m Trial 81 finished with value: 0.703578283475908 and parameters: {'n_estimators': 547, 'max_depth': 25, 'num_leaves': 9, 'min_child_samples': 3, 'num_iterations': 550}. Best is trial 12 with value: 0.7083745975618758.\u001b[0m\n",
      "\u001b[32m[I 2023-08-17 22:42:37,862]\u001b[0m Trial 82 finished with value: 0.6856803088892741 and parameters: {'n_estimators': 538, 'max_depth': 25, 'num_leaves': 9, 'min_child_samples': 4, 'num_iterations': 505}. Best is trial 12 with value: 0.7083745975618758.\u001b[0m\n",
      "\u001b[32m[I 2023-08-17 22:42:38,195]\u001b[0m Trial 83 finished with value: 0.5390985066297622 and parameters: {'n_estimators': 553, 'max_depth': 1, 'num_leaves': 12, 'min_child_samples': 3, 'num_iterations': 521}. Best is trial 12 with value: 0.7083745975618758.\u001b[0m\n",
      "\u001b[32m[I 2023-08-17 22:42:39,629]\u001b[0m Trial 84 finished with value: 0.688236225390513 and parameters: {'n_estimators': 515, 'max_depth': 12, 'num_leaves': 10, 'min_child_samples': 3, 'num_iterations': 504}. Best is trial 12 with value: 0.7083745975618758.\u001b[0m\n",
      "\u001b[32m[I 2023-08-17 22:42:41,626]\u001b[0m Trial 85 finished with value: 0.692380712100909 and parameters: {'n_estimators': 567, 'max_depth': 23, 'num_leaves': 13, 'min_child_samples': 2, 'num_iterations': 527}. Best is trial 12 with value: 0.7083745975618758.\u001b[0m\n",
      "\u001b[32m[I 2023-08-17 22:42:42,538]\u001b[0m Trial 86 finished with value: 0.6750516400406564 and parameters: {'n_estimators': 595, 'max_depth': 24, 'num_leaves': 6, 'min_child_samples': 4, 'num_iterations': 510}. Best is trial 12 with value: 0.7083745975618758.\u001b[0m\n",
      "\u001b[32m[I 2023-08-17 22:42:46,797]\u001b[0m Trial 87 finished with value: 0.6941131064879 and parameters: {'n_estimators': 617, 'max_depth': 22, 'num_leaves': 16, 'min_child_samples': 3, 'num_iterations': 954}. Best is trial 12 with value: 0.7083745975618758.\u001b[0m\n",
      "\u001b[32m[I 2023-08-17 22:42:49,021]\u001b[0m Trial 88 finished with value: 0.7013979861060242 and parameters: {'n_estimators': 544, 'max_depth': 27, 'num_leaves': 11, 'min_child_samples': 3, 'num_iterations': 777}. Best is trial 12 with value: 0.7083745975618758.\u001b[0m\n",
      "\u001b[32m[I 2023-08-17 22:42:50,960]\u001b[0m Trial 89 finished with value: 0.7083802573724094 and parameters: {'n_estimators': 584, 'max_depth': 23, 'num_leaves': 14, 'min_child_samples': 3, 'num_iterations': 500}. Best is trial 89 with value: 0.7083802573724094.\u001b[0m\n",
      "\u001b[32m[I 2023-08-17 22:42:54,033]\u001b[0m Trial 90 finished with value: 0.6925211636201991 and parameters: {'n_estimators': 600, 'max_depth': 23, 'num_leaves': 14, 'min_child_samples': 2, 'num_iterations': 699}. Best is trial 89 with value: 0.7083802573724094.\u001b[0m\n",
      "\u001b[32m[I 2023-08-17 22:42:56,510]\u001b[0m Trial 91 finished with value: 0.6928994471519563 and parameters: {'n_estimators': 534, 'max_depth': 26, 'num_leaves': 15, 'min_child_samples': 3, 'num_iterations': 500}. Best is trial 89 with value: 0.7083802573724094.\u001b[0m\n",
      "\u001b[32m[I 2023-08-17 22:43:00,750]\u001b[0m Trial 92 finished with value: 0.6764466195674264 and parameters: {'n_estimators': 558, 'max_depth': 21, 'num_leaves': 32, 'min_child_samples': 4, 'num_iterations': 515}. Best is trial 89 with value: 0.7083802573724094.\u001b[0m\n",
      "\u001b[32m[I 2023-08-17 22:43:03,166]\u001b[0m Trial 93 finished with value: 0.6955000859542422 and parameters: {'n_estimators': 581, 'max_depth': 25, 'num_leaves': 17, 'min_child_samples': 3, 'num_iterations': 537}. Best is trial 89 with value: 0.7083802573724094.\u001b[0m\n",
      "\u001b[32m[I 2023-08-17 22:43:05,141]\u001b[0m Trial 94 finished with value: 0.6970948853627332 and parameters: {'n_estimators': 638, 'max_depth': 24, 'num_leaves': 12, 'min_child_samples': 3, 'num_iterations': 555}. Best is trial 89 with value: 0.7083802573724094.\u001b[0m\n",
      "\u001b[32m[I 2023-08-17 22:43:06,459]\u001b[0m Trial 95 finished with value: 0.6791197155945039 and parameters: {'n_estimators': 522, 'max_depth': 6, 'num_leaves': 8, 'min_child_samples': 7, 'num_iterations': 673}. Best is trial 89 with value: 0.7083802573724094.\u001b[0m\n",
      "\u001b[32m[I 2023-08-17 22:43:08,553]\u001b[0m Trial 96 finished with value: 0.6925266223958293 and parameters: {'n_estimators': 569, 'max_depth': 20, 'num_leaves': 14, 'min_child_samples': 2, 'num_iterations': 529}. Best is trial 89 with value: 0.7083802573724094.\u001b[0m\n",
      "\u001b[32m[I 2023-08-17 22:43:10,169]\u001b[0m Trial 97 finished with value: 0.696547668125777 and parameters: {'n_estimators': 656, 'max_depth': 23, 'num_leaves': 11, 'min_child_samples': 4, 'num_iterations': 571}. Best is trial 89 with value: 0.7083802573724094.\u001b[0m\n",
      "\u001b[32m[I 2023-08-17 22:43:12,803]\u001b[0m Trial 98 finished with value: 0.693961458623007 and parameters: {'n_estimators': 818, 'max_depth': 25, 'num_leaves': 16, 'min_child_samples': 3, 'num_iterations': 586}. Best is trial 89 with value: 0.7083802573724094.\u001b[0m\n",
      "\u001b[32m[I 2023-08-17 22:43:14,614]\u001b[0m Trial 99 finished with value: 0.6874750305762178 and parameters: {'n_estimators': 589, 'max_depth': 22, 'num_leaves': 10, 'min_child_samples': 1, 'num_iterations': 626}. Best is trial 89 with value: 0.7083802573724094.\u001b[0m\n"
     ]
    },
    {
     "name": "stdout",
     "output_type": "stream",
     "text": [
      "Best r2:  0.7083802573724094\n",
      "Best trial: {'n_estimators': 584, 'max_depth': 23, 'num_leaves': 14, 'min_child_samples': 3, 'num_iterations': 500}\n"
     ]
    }
   ],
   "source": [
    "sampler = TPESampler()\n",
    "study = optuna.create_study(\n",
    "    study_name=\"lgbm_parameter_opt\",\n",
    "    direction=\"maximize\",\n",
    "    sampler=sampler,\n",
    ")\n",
    "\n",
    "study.optimize(lambda trial : objectiveLGBM(trial, Cd_X_train, Cd_y_train), n_trials=100)\n",
    "print(\"Best r2: \", study.best_value)\n",
    "print(\"Best trial:\", study.best_trial.params)"
   ]
  },
  {
   "cell_type": "code",
   "execution_count": null,
   "id": "861f88d8",
   "metadata": {},
   "outputs": [
    {
     "data": {
      "application/vnd.plotly.v1+json": {
       "config": {
        "plotlyServerURL": "https://plot.ly"
       },
       "data": [
        {
         "dimensions": [
          {
           "label": "Objective Value",
           "range": [
            0.5390985066297622,
            0.7083802573724094
           ],
           "values": [
            0.6875314897551261,
            0.6837811648457679,
            0.6609302207598982,
            0.6529706933525674,
            0.6867962358865926,
            0.6704634521280539,
            0.6847603911730747,
            0.6781114552532912,
            0.6739187663920528,
            0.6590931605944388,
            0.6742464665453743,
            0.6770044523363605,
            0.7083745975618758,
            0.6844020389512497,
            0.703194660409485,
            0.5397924963589654,
            0.6888191356508979,
            0.6942198525666973,
            0.6947239696969592,
            0.6849014585330181,
            0.6923192299415184,
            0.6875404393970521,
            0.6866768285404027,
            0.692232441806148,
            0.6887854487374915,
            0.7041339724592778,
            0.6884004098560755,
            0.6898985601289807,
            0.6443915300716233,
            0.6892902361706434,
            0.6830231705097407,
            0.6894289979556516,
            0.7080791072446857,
            0.6886231477591913,
            0.7045403992190444,
            0.6893042066935292,
            0.6499131932114303,
            0.6972288528918664,
            0.6834707424399048,
            0.6839397252261923,
            0.6925749808434184,
            0.7032560507819626,
            0.7081201390815256,
            0.6997982095337669,
            0.7013434963882249,
            0.6981075500949487,
            0.6823494671749055,
            0.6810078675297943,
            0.6949237837161165,
            0.6802409932726314,
            0.687622686863813,
            0.7082289256244769,
            0.7082186518674589,
            0.6867753090015286,
            0.6542605938523207,
            0.6992553953560321,
            0.7031677662688173,
            0.6875818190562667,
            0.6818875042510495,
            0.6852065156103369,
            0.6867775918787651,
            0.701600657831797,
            0.6971142820816121,
            0.7038663106186196,
            0.6923695593287311,
            0.6977465404627756,
            0.687999156199362,
            0.6724051430769866,
            0.6977477681121438,
            0.6852809631264123,
            0.6922391812326568,
            0.7038554481354031,
            0.7037244163801638,
            0.6939698845226208,
            0.6906314070743063,
            0.6964246703325335,
            0.6902635662485498,
            0.6633991691620899,
            0.6954124565607704,
            0.6814216985668786,
            0.6979009004498826,
            0.703578283475908,
            0.6856803088892741,
            0.5390985066297622,
            0.688236225390513,
            0.692380712100909,
            0.6750516400406564,
            0.6941131064879,
            0.7013979861060242,
            0.7083802573724094,
            0.6925211636201991,
            0.6928994471519563,
            0.6764466195674264,
            0.6955000859542422,
            0.6970948853627332,
            0.6791197155945039,
            0.6925266223958293,
            0.696547668125777,
            0.693961458623007,
            0.6874750305762178
           ]
          },
          {
           "label": "max_depth",
           "range": [
            1,
            30
           ],
           "values": [
            28,
            6,
            7,
            6,
            30,
            4,
            22,
            25,
            18,
            18,
            30,
            28,
            24,
            13,
            23,
            22,
            13,
            23,
            19,
            25,
            14,
            19,
            20,
            16,
            26,
            21,
            23,
            11,
            21,
            27,
            16,
            24,
            20,
            21,
            9,
            10,
            2,
            8,
            4,
            17,
            9,
            24,
            26,
            29,
            27,
            25,
            21,
            6,
            28,
            18,
            22,
            24,
            26,
            26,
            30,
            24,
            26,
            29,
            27,
            19,
            23,
            14,
            20,
            25,
            22,
            24,
            20,
            23,
            26,
            28,
            15,
            25,
            22,
            25,
            27,
            24,
            21,
            26,
            29,
            4,
            17,
            25,
            25,
            1,
            12,
            23,
            24,
            22,
            27,
            23,
            23,
            26,
            21,
            25,
            24,
            6,
            20,
            23,
            25,
            22
           ]
          },
          {
           "label": "min_child_samples",
           "range": [
            1,
            10
           ],
           "values": [
            5,
            5,
            10,
            10,
            6,
            8,
            3,
            6,
            9,
            1,
            4,
            7,
            3,
            2,
            4,
            3,
            1,
            3,
            4,
            4,
            2,
            4,
            4,
            2,
            5,
            3,
            3,
            2,
            7,
            5,
            1,
            4,
            3,
            3,
            5,
            5,
            6,
            2,
            3,
            5,
            6,
            3,
            3,
            2,
            3,
            1,
            8,
            7,
            2,
            3,
            4,
            3,
            3,
            4,
            10,
            2,
            3,
            4,
            1,
            2,
            4,
            3,
            3,
            3,
            2,
            4,
            3,
            9,
            5,
            4,
            2,
            3,
            3,
            3,
            2,
            4,
            3,
            5,
            3,
            2,
            6,
            3,
            4,
            3,
            3,
            2,
            4,
            3,
            3,
            3,
            2,
            3,
            4,
            3,
            3,
            7,
            2,
            4,
            3,
            1
           ]
          },
          {
           "label": "n_estimators",
           "range": [
            500,
            996
           ],
           "values": [
            668,
            806,
            878,
            876,
            721,
            919,
            727,
            768,
            970,
            535,
            603,
            657,
            676,
            632,
            507,
            508,
            573,
            567,
            809,
            500,
            689,
            811,
            797,
            858,
            751,
            619,
            608,
            561,
            695,
            646,
            609,
            688,
            776,
            768,
            540,
            543,
            719,
            624,
            598,
            670,
            584,
            527,
            538,
            543,
            719,
            854,
            627,
            922,
            525,
            658,
            559,
            526,
            582,
            581,
            519,
            553,
            592,
            775,
            510,
            539,
            737,
            572,
            619,
            551,
            644,
            785,
            832,
            568,
            752,
            699,
            502,
            550,
            531,
            588,
            608,
            521,
            996,
            676,
            577,
            559,
            644,
            547,
            538,
            553,
            515,
            567,
            595,
            617,
            544,
            584,
            600,
            534,
            558,
            581,
            638,
            522,
            569,
            656,
            818,
            589
           ]
          },
          {
           "label": "num_iterations",
           "range": [
            500,
            992
           ],
           "values": [
            599,
            723,
            597,
            541,
            610,
            942,
            889,
            576,
            676,
            767,
            827,
            641,
            510,
            509,
            515,
            526,
            685,
            503,
            789,
            551,
            655,
            831,
            774,
            820,
            716,
            895,
            928,
            976,
            898,
            992,
            869,
            565,
            750,
            610,
            725,
            712,
            734,
            800,
            747,
            855,
            943,
            578,
            591,
            623,
            687,
            592,
            652,
            531,
            758,
            700,
            661,
            567,
            534,
            553,
            534,
            502,
            634,
            564,
            588,
            515,
            545,
            613,
            784,
            516,
            563,
            533,
            808,
            743,
            580,
            725,
            903,
            506,
            545,
            522,
            846,
            561,
            519,
            764,
            602,
            575,
            539,
            550,
            505,
            521,
            504,
            527,
            510,
            954,
            777,
            500,
            699,
            500,
            515,
            537,
            555,
            673,
            529,
            571,
            586,
            626
           ]
          },
          {
           "label": "num_leaves",
           "range": [
            2,
            32
           ],
           "values": [
            24,
            19,
            11,
            26,
            15,
            17,
            29,
            26,
            10,
            32,
            5,
            20,
            14,
            23,
            13,
            2,
            12,
            7,
            15,
            7,
            13,
            16,
            14,
            19,
            17,
            9,
            8,
            9,
            3,
            12,
            6,
            10,
            14,
            21,
            13,
            18,
            11,
            15,
            5,
            22,
            10,
            13,
            14,
            16,
            11,
            18,
            14,
            8,
            12,
            25,
            16,
            14,
            14,
            14,
            18,
            15,
            13,
            16,
            20,
            28,
            14,
            11,
            12,
            9,
            13,
            17,
            10,
            14,
            15,
            12,
            19,
            9,
            9,
            7,
            6,
            11,
            8,
            4,
            17,
            15,
            13,
            9,
            9,
            12,
            10,
            13,
            6,
            16,
            11,
            14,
            14,
            15,
            32,
            17,
            12,
            8,
            14,
            11,
            16,
            10
           ]
          }
         ],
         "labelangle": 30,
         "labelside": "bottom",
         "line": {
          "color": [
           0.6875314897551261,
           0.6837811648457679,
           0.6609302207598982,
           0.6529706933525674,
           0.6867962358865926,
           0.6704634521280539,
           0.6847603911730747,
           0.6781114552532912,
           0.6739187663920528,
           0.6590931605944388,
           0.6742464665453743,
           0.6770044523363605,
           0.7083745975618758,
           0.6844020389512497,
           0.703194660409485,
           0.5397924963589654,
           0.6888191356508979,
           0.6942198525666973,
           0.6947239696969592,
           0.6849014585330181,
           0.6923192299415184,
           0.6875404393970521,
           0.6866768285404027,
           0.692232441806148,
           0.6887854487374915,
           0.7041339724592778,
           0.6884004098560755,
           0.6898985601289807,
           0.6443915300716233,
           0.6892902361706434,
           0.6830231705097407,
           0.6894289979556516,
           0.7080791072446857,
           0.6886231477591913,
           0.7045403992190444,
           0.6893042066935292,
           0.6499131932114303,
           0.6972288528918664,
           0.6834707424399048,
           0.6839397252261923,
           0.6925749808434184,
           0.7032560507819626,
           0.7081201390815256,
           0.6997982095337669,
           0.7013434963882249,
           0.6981075500949487,
           0.6823494671749055,
           0.6810078675297943,
           0.6949237837161165,
           0.6802409932726314,
           0.687622686863813,
           0.7082289256244769,
           0.7082186518674589,
           0.6867753090015286,
           0.6542605938523207,
           0.6992553953560321,
           0.7031677662688173,
           0.6875818190562667,
           0.6818875042510495,
           0.6852065156103369,
           0.6867775918787651,
           0.701600657831797,
           0.6971142820816121,
           0.7038663106186196,
           0.6923695593287311,
           0.6977465404627756,
           0.687999156199362,
           0.6724051430769866,
           0.6977477681121438,
           0.6852809631264123,
           0.6922391812326568,
           0.7038554481354031,
           0.7037244163801638,
           0.6939698845226208,
           0.6906314070743063,
           0.6964246703325335,
           0.6902635662485498,
           0.6633991691620899,
           0.6954124565607704,
           0.6814216985668786,
           0.6979009004498826,
           0.703578283475908,
           0.6856803088892741,
           0.5390985066297622,
           0.688236225390513,
           0.692380712100909,
           0.6750516400406564,
           0.6941131064879,
           0.7013979861060242,
           0.7083802573724094,
           0.6925211636201991,
           0.6928994471519563,
           0.6764466195674264,
           0.6955000859542422,
           0.6970948853627332,
           0.6791197155945039,
           0.6925266223958293,
           0.696547668125777,
           0.693961458623007,
           0.6874750305762178
          ],
          "colorbar": {
           "title": {
            "text": "Objective Value"
           }
          },
          "colorscale": [
           [
            0,
            "rgb(247,251,255)"
           ],
           [
            0.125,
            "rgb(222,235,247)"
           ],
           [
            0.25,
            "rgb(198,219,239)"
           ],
           [
            0.375,
            "rgb(158,202,225)"
           ],
           [
            0.5,
            "rgb(107,174,214)"
           ],
           [
            0.625,
            "rgb(66,146,198)"
           ],
           [
            0.75,
            "rgb(33,113,181)"
           ],
           [
            0.875,
            "rgb(8,81,156)"
           ],
           [
            1,
            "rgb(8,48,107)"
           ]
          ],
          "reversescale": false,
          "showscale": true
         },
         "type": "parcoords"
        }
       ],
       "layout": {
        "template": {
         "data": {
          "bar": [
           {
            "error_x": {
             "color": "#2a3f5f"
            },
            "error_y": {
             "color": "#2a3f5f"
            },
            "marker": {
             "line": {
              "color": "#E5ECF6",
              "width": 0.5
             },
             "pattern": {
              "fillmode": "overlay",
              "size": 10,
              "solidity": 0.2
             }
            },
            "type": "bar"
           }
          ],
          "barpolar": [
           {
            "marker": {
             "line": {
              "color": "#E5ECF6",
              "width": 0.5
             },
             "pattern": {
              "fillmode": "overlay",
              "size": 10,
              "solidity": 0.2
             }
            },
            "type": "barpolar"
           }
          ],
          "carpet": [
           {
            "aaxis": {
             "endlinecolor": "#2a3f5f",
             "gridcolor": "white",
             "linecolor": "white",
             "minorgridcolor": "white",
             "startlinecolor": "#2a3f5f"
            },
            "baxis": {
             "endlinecolor": "#2a3f5f",
             "gridcolor": "white",
             "linecolor": "white",
             "minorgridcolor": "white",
             "startlinecolor": "#2a3f5f"
            },
            "type": "carpet"
           }
          ],
          "choropleth": [
           {
            "colorbar": {
             "outlinewidth": 0,
             "ticks": ""
            },
            "type": "choropleth"
           }
          ],
          "contour": [
           {
            "colorbar": {
             "outlinewidth": 0,
             "ticks": ""
            },
            "colorscale": [
             [
              0,
              "#0d0887"
             ],
             [
              0.1111111111111111,
              "#46039f"
             ],
             [
              0.2222222222222222,
              "#7201a8"
             ],
             [
              0.3333333333333333,
              "#9c179e"
             ],
             [
              0.4444444444444444,
              "#bd3786"
             ],
             [
              0.5555555555555556,
              "#d8576b"
             ],
             [
              0.6666666666666666,
              "#ed7953"
             ],
             [
              0.7777777777777778,
              "#fb9f3a"
             ],
             [
              0.8888888888888888,
              "#fdca26"
             ],
             [
              1,
              "#f0f921"
             ]
            ],
            "type": "contour"
           }
          ],
          "contourcarpet": [
           {
            "colorbar": {
             "outlinewidth": 0,
             "ticks": ""
            },
            "type": "contourcarpet"
           }
          ],
          "heatmap": [
           {
            "colorbar": {
             "outlinewidth": 0,
             "ticks": ""
            },
            "colorscale": [
             [
              0,
              "#0d0887"
             ],
             [
              0.1111111111111111,
              "#46039f"
             ],
             [
              0.2222222222222222,
              "#7201a8"
             ],
             [
              0.3333333333333333,
              "#9c179e"
             ],
             [
              0.4444444444444444,
              "#bd3786"
             ],
             [
              0.5555555555555556,
              "#d8576b"
             ],
             [
              0.6666666666666666,
              "#ed7953"
             ],
             [
              0.7777777777777778,
              "#fb9f3a"
             ],
             [
              0.8888888888888888,
              "#fdca26"
             ],
             [
              1,
              "#f0f921"
             ]
            ],
            "type": "heatmap"
           }
          ],
          "heatmapgl": [
           {
            "colorbar": {
             "outlinewidth": 0,
             "ticks": ""
            },
            "colorscale": [
             [
              0,
              "#0d0887"
             ],
             [
              0.1111111111111111,
              "#46039f"
             ],
             [
              0.2222222222222222,
              "#7201a8"
             ],
             [
              0.3333333333333333,
              "#9c179e"
             ],
             [
              0.4444444444444444,
              "#bd3786"
             ],
             [
              0.5555555555555556,
              "#d8576b"
             ],
             [
              0.6666666666666666,
              "#ed7953"
             ],
             [
              0.7777777777777778,
              "#fb9f3a"
             ],
             [
              0.8888888888888888,
              "#fdca26"
             ],
             [
              1,
              "#f0f921"
             ]
            ],
            "type": "heatmapgl"
           }
          ],
          "histogram": [
           {
            "marker": {
             "pattern": {
              "fillmode": "overlay",
              "size": 10,
              "solidity": 0.2
             }
            },
            "type": "histogram"
           }
          ],
          "histogram2d": [
           {
            "colorbar": {
             "outlinewidth": 0,
             "ticks": ""
            },
            "colorscale": [
             [
              0,
              "#0d0887"
             ],
             [
              0.1111111111111111,
              "#46039f"
             ],
             [
              0.2222222222222222,
              "#7201a8"
             ],
             [
              0.3333333333333333,
              "#9c179e"
             ],
             [
              0.4444444444444444,
              "#bd3786"
             ],
             [
              0.5555555555555556,
              "#d8576b"
             ],
             [
              0.6666666666666666,
              "#ed7953"
             ],
             [
              0.7777777777777778,
              "#fb9f3a"
             ],
             [
              0.8888888888888888,
              "#fdca26"
             ],
             [
              1,
              "#f0f921"
             ]
            ],
            "type": "histogram2d"
           }
          ],
          "histogram2dcontour": [
           {
            "colorbar": {
             "outlinewidth": 0,
             "ticks": ""
            },
            "colorscale": [
             [
              0,
              "#0d0887"
             ],
             [
              0.1111111111111111,
              "#46039f"
             ],
             [
              0.2222222222222222,
              "#7201a8"
             ],
             [
              0.3333333333333333,
              "#9c179e"
             ],
             [
              0.4444444444444444,
              "#bd3786"
             ],
             [
              0.5555555555555556,
              "#d8576b"
             ],
             [
              0.6666666666666666,
              "#ed7953"
             ],
             [
              0.7777777777777778,
              "#fb9f3a"
             ],
             [
              0.8888888888888888,
              "#fdca26"
             ],
             [
              1,
              "#f0f921"
             ]
            ],
            "type": "histogram2dcontour"
           }
          ],
          "mesh3d": [
           {
            "colorbar": {
             "outlinewidth": 0,
             "ticks": ""
            },
            "type": "mesh3d"
           }
          ],
          "parcoords": [
           {
            "line": {
             "colorbar": {
              "outlinewidth": 0,
              "ticks": ""
             }
            },
            "type": "parcoords"
           }
          ],
          "pie": [
           {
            "automargin": true,
            "type": "pie"
           }
          ],
          "scatter": [
           {
            "marker": {
             "colorbar": {
              "outlinewidth": 0,
              "ticks": ""
             }
            },
            "type": "scatter"
           }
          ],
          "scatter3d": [
           {
            "line": {
             "colorbar": {
              "outlinewidth": 0,
              "ticks": ""
             }
            },
            "marker": {
             "colorbar": {
              "outlinewidth": 0,
              "ticks": ""
             }
            },
            "type": "scatter3d"
           }
          ],
          "scattercarpet": [
           {
            "marker": {
             "colorbar": {
              "outlinewidth": 0,
              "ticks": ""
             }
            },
            "type": "scattercarpet"
           }
          ],
          "scattergeo": [
           {
            "marker": {
             "colorbar": {
              "outlinewidth": 0,
              "ticks": ""
             }
            },
            "type": "scattergeo"
           }
          ],
          "scattergl": [
           {
            "marker": {
             "colorbar": {
              "outlinewidth": 0,
              "ticks": ""
             }
            },
            "type": "scattergl"
           }
          ],
          "scattermapbox": [
           {
            "marker": {
             "colorbar": {
              "outlinewidth": 0,
              "ticks": ""
             }
            },
            "type": "scattermapbox"
           }
          ],
          "scatterpolar": [
           {
            "marker": {
             "colorbar": {
              "outlinewidth": 0,
              "ticks": ""
             }
            },
            "type": "scatterpolar"
           }
          ],
          "scatterpolargl": [
           {
            "marker": {
             "colorbar": {
              "outlinewidth": 0,
              "ticks": ""
             }
            },
            "type": "scatterpolargl"
           }
          ],
          "scatterternary": [
           {
            "marker": {
             "colorbar": {
              "outlinewidth": 0,
              "ticks": ""
             }
            },
            "type": "scatterternary"
           }
          ],
          "surface": [
           {
            "colorbar": {
             "outlinewidth": 0,
             "ticks": ""
            },
            "colorscale": [
             [
              0,
              "#0d0887"
             ],
             [
              0.1111111111111111,
              "#46039f"
             ],
             [
              0.2222222222222222,
              "#7201a8"
             ],
             [
              0.3333333333333333,
              "#9c179e"
             ],
             [
              0.4444444444444444,
              "#bd3786"
             ],
             [
              0.5555555555555556,
              "#d8576b"
             ],
             [
              0.6666666666666666,
              "#ed7953"
             ],
             [
              0.7777777777777778,
              "#fb9f3a"
             ],
             [
              0.8888888888888888,
              "#fdca26"
             ],
             [
              1,
              "#f0f921"
             ]
            ],
            "type": "surface"
           }
          ],
          "table": [
           {
            "cells": {
             "fill": {
              "color": "#EBF0F8"
             },
             "line": {
              "color": "white"
             }
            },
            "header": {
             "fill": {
              "color": "#C8D4E3"
             },
             "line": {
              "color": "white"
             }
            },
            "type": "table"
           }
          ]
         },
         "layout": {
          "annotationdefaults": {
           "arrowcolor": "#2a3f5f",
           "arrowhead": 0,
           "arrowwidth": 1
          },
          "autotypenumbers": "strict",
          "coloraxis": {
           "colorbar": {
            "outlinewidth": 0,
            "ticks": ""
           }
          },
          "colorscale": {
           "diverging": [
            [
             0,
             "#8e0152"
            ],
            [
             0.1,
             "#c51b7d"
            ],
            [
             0.2,
             "#de77ae"
            ],
            [
             0.3,
             "#f1b6da"
            ],
            [
             0.4,
             "#fde0ef"
            ],
            [
             0.5,
             "#f7f7f7"
            ],
            [
             0.6,
             "#e6f5d0"
            ],
            [
             0.7,
             "#b8e186"
            ],
            [
             0.8,
             "#7fbc41"
            ],
            [
             0.9,
             "#4d9221"
            ],
            [
             1,
             "#276419"
            ]
           ],
           "sequential": [
            [
             0,
             "#0d0887"
            ],
            [
             0.1111111111111111,
             "#46039f"
            ],
            [
             0.2222222222222222,
             "#7201a8"
            ],
            [
             0.3333333333333333,
             "#9c179e"
            ],
            [
             0.4444444444444444,
             "#bd3786"
            ],
            [
             0.5555555555555556,
             "#d8576b"
            ],
            [
             0.6666666666666666,
             "#ed7953"
            ],
            [
             0.7777777777777778,
             "#fb9f3a"
            ],
            [
             0.8888888888888888,
             "#fdca26"
            ],
            [
             1,
             "#f0f921"
            ]
           ],
           "sequentialminus": [
            [
             0,
             "#0d0887"
            ],
            [
             0.1111111111111111,
             "#46039f"
            ],
            [
             0.2222222222222222,
             "#7201a8"
            ],
            [
             0.3333333333333333,
             "#9c179e"
            ],
            [
             0.4444444444444444,
             "#bd3786"
            ],
            [
             0.5555555555555556,
             "#d8576b"
            ],
            [
             0.6666666666666666,
             "#ed7953"
            ],
            [
             0.7777777777777778,
             "#fb9f3a"
            ],
            [
             0.8888888888888888,
             "#fdca26"
            ],
            [
             1,
             "#f0f921"
            ]
           ]
          },
          "colorway": [
           "#636efa",
           "#EF553B",
           "#00cc96",
           "#ab63fa",
           "#FFA15A",
           "#19d3f3",
           "#FF6692",
           "#B6E880",
           "#FF97FF",
           "#FECB52"
          ],
          "font": {
           "color": "#2a3f5f"
          },
          "geo": {
           "bgcolor": "white",
           "lakecolor": "white",
           "landcolor": "#E5ECF6",
           "showlakes": true,
           "showland": true,
           "subunitcolor": "white"
          },
          "hoverlabel": {
           "align": "left"
          },
          "hovermode": "closest",
          "mapbox": {
           "style": "light"
          },
          "paper_bgcolor": "white",
          "plot_bgcolor": "#E5ECF6",
          "polar": {
           "angularaxis": {
            "gridcolor": "white",
            "linecolor": "white",
            "ticks": ""
           },
           "bgcolor": "#E5ECF6",
           "radialaxis": {
            "gridcolor": "white",
            "linecolor": "white",
            "ticks": ""
           }
          },
          "scene": {
           "xaxis": {
            "backgroundcolor": "#E5ECF6",
            "gridcolor": "white",
            "gridwidth": 2,
            "linecolor": "white",
            "showbackground": true,
            "ticks": "",
            "zerolinecolor": "white"
           },
           "yaxis": {
            "backgroundcolor": "#E5ECF6",
            "gridcolor": "white",
            "gridwidth": 2,
            "linecolor": "white",
            "showbackground": true,
            "ticks": "",
            "zerolinecolor": "white"
           },
           "zaxis": {
            "backgroundcolor": "#E5ECF6",
            "gridcolor": "white",
            "gridwidth": 2,
            "linecolor": "white",
            "showbackground": true,
            "ticks": "",
            "zerolinecolor": "white"
           }
          },
          "shapedefaults": {
           "line": {
            "color": "#2a3f5f"
           }
          },
          "ternary": {
           "aaxis": {
            "gridcolor": "white",
            "linecolor": "white",
            "ticks": ""
           },
           "baxis": {
            "gridcolor": "white",
            "linecolor": "white",
            "ticks": ""
           },
           "bgcolor": "#E5ECF6",
           "caxis": {
            "gridcolor": "white",
            "linecolor": "white",
            "ticks": ""
           }
          },
          "title": {
           "x": 0.05
          },
          "xaxis": {
           "automargin": true,
           "gridcolor": "white",
           "linecolor": "white",
           "ticks": "",
           "title": {
            "standoff": 15
           },
           "zerolinecolor": "white",
           "zerolinewidth": 2
          },
          "yaxis": {
           "automargin": true,
           "gridcolor": "white",
           "linecolor": "white",
           "ticks": "",
           "title": {
            "standoff": 15
           },
           "zerolinecolor": "white",
           "zerolinewidth": 2
          }
         }
        },
        "title": {
         "text": "Parallel Coordinate Plot"
        }
       }
      }
     },
     "metadata": {},
     "output_type": "display_data"
    }
   ],
   "source": [
    "optuna.visualization.plot_parallel_coordinate(study)"
   ]
  },
  {
   "cell_type": "code",
   "execution_count": null,
   "id": "4afa60aa",
   "metadata": {},
   "outputs": [
    {
     "name": "stdout",
     "output_type": "stream",
     "text": [
      "Best trial: {'n_estimators': 584, 'max_depth': 23, 'num_leaves': 14, 'min_child_samples': 3, 'num_iterations': 500}\n"
     ]
    },
    {
     "data": {
      "text/plain": [
       "584"
      ]
     },
     "execution_count": 62,
     "metadata": {},
     "output_type": "execute_result"
    }
   ],
   "source": [
    "print(\"Best trial:\", study.best_trial.params)\n",
    "study.best_trial.params[\"n_estimators\"]"
   ]
  },
  {
   "cell_type": "code",
   "execution_count": null,
   "id": "3b45adad",
   "metadata": {},
   "outputs": [
    {
     "data": {
      "text/html": [
       "<style>#sk-container-id-2 {color: black;background-color: white;}#sk-container-id-2 pre{padding: 0;}#sk-container-id-2 div.sk-toggleable {background-color: white;}#sk-container-id-2 label.sk-toggleable__label {cursor: pointer;display: block;width: 100%;margin-bottom: 0;padding: 0.3em;box-sizing: border-box;text-align: center;}#sk-container-id-2 label.sk-toggleable__label-arrow:before {content: \"▸\";float: left;margin-right: 0.25em;color: #696969;}#sk-container-id-2 label.sk-toggleable__label-arrow:hover:before {color: black;}#sk-container-id-2 div.sk-estimator:hover label.sk-toggleable__label-arrow:before {color: black;}#sk-container-id-2 div.sk-toggleable__content {max-height: 0;max-width: 0;overflow: hidden;text-align: left;background-color: #f0f8ff;}#sk-container-id-2 div.sk-toggleable__content pre {margin: 0.2em;color: black;border-radius: 0.25em;background-color: #f0f8ff;}#sk-container-id-2 input.sk-toggleable__control:checked~div.sk-toggleable__content {max-height: 200px;max-width: 100%;overflow: auto;}#sk-container-id-2 input.sk-toggleable__control:checked~label.sk-toggleable__label-arrow:before {content: \"▾\";}#sk-container-id-2 div.sk-estimator input.sk-toggleable__control:checked~label.sk-toggleable__label {background-color: #d4ebff;}#sk-container-id-2 div.sk-label input.sk-toggleable__control:checked~label.sk-toggleable__label {background-color: #d4ebff;}#sk-container-id-2 input.sk-hidden--visually {border: 0;clip: rect(1px 1px 1px 1px);clip: rect(1px, 1px, 1px, 1px);height: 1px;margin: -1px;overflow: hidden;padding: 0;position: absolute;width: 1px;}#sk-container-id-2 div.sk-estimator {font-family: monospace;background-color: #f0f8ff;border: 1px dotted black;border-radius: 0.25em;box-sizing: border-box;margin-bottom: 0.5em;}#sk-container-id-2 div.sk-estimator:hover {background-color: #d4ebff;}#sk-container-id-2 div.sk-parallel-item::after {content: \"\";width: 100%;border-bottom: 1px solid gray;flex-grow: 1;}#sk-container-id-2 div.sk-label:hover label.sk-toggleable__label {background-color: #d4ebff;}#sk-container-id-2 div.sk-serial::before {content: \"\";position: absolute;border-left: 1px solid gray;box-sizing: border-box;top: 0;bottom: 0;left: 50%;z-index: 0;}#sk-container-id-2 div.sk-serial {display: flex;flex-direction: column;align-items: center;background-color: white;padding-right: 0.2em;padding-left: 0.2em;position: relative;}#sk-container-id-2 div.sk-item {position: relative;z-index: 1;}#sk-container-id-2 div.sk-parallel {display: flex;align-items: stretch;justify-content: center;background-color: white;position: relative;}#sk-container-id-2 div.sk-item::before, #sk-container-id-2 div.sk-parallel-item::before {content: \"\";position: absolute;border-left: 1px solid gray;box-sizing: border-box;top: 0;bottom: 0;left: 50%;z-index: -1;}#sk-container-id-2 div.sk-parallel-item {display: flex;flex-direction: column;z-index: 1;position: relative;background-color: white;}#sk-container-id-2 div.sk-parallel-item:first-child::after {align-self: flex-end;width: 50%;}#sk-container-id-2 div.sk-parallel-item:last-child::after {align-self: flex-start;width: 50%;}#sk-container-id-2 div.sk-parallel-item:only-child::after {width: 0;}#sk-container-id-2 div.sk-dashed-wrapped {border: 1px dashed gray;margin: 0 0.4em 0.5em 0.4em;box-sizing: border-box;padding-bottom: 0.4em;background-color: white;}#sk-container-id-2 div.sk-label label {font-family: monospace;font-weight: bold;display: inline-block;line-height: 1.2em;}#sk-container-id-2 div.sk-label-container {text-align: center;}#sk-container-id-2 div.sk-container {/* jupyter's `normalize.less` sets `[hidden] { display: none; }` but bootstrap.min.css set `[hidden] { display: none !important; }` so we also need the `!important` here to be able to override the default hidden behavior on the sphinx rendered scikit-learn.org. See: https://github.com/scikit-learn/scikit-learn/issues/21755 */display: inline-block !important;position: relative;}#sk-container-id-2 div.sk-text-repr-fallback {display: none;}</style><div id=\"sk-container-id-2\" class=\"sk-top-container\"><div class=\"sk-text-repr-fallback\"><pre>LGBMRegressor(max_depth=23, min_child_samples=3, n_estimators=584,\n",
       "              num_iterations=500, num_leaves=14, random_state=42)</pre><b>In a Jupyter environment, please rerun this cell to show the HTML representation or trust the notebook. <br />On GitHub, the HTML representation is unable to render, please try loading this page with nbviewer.org.</b></div><div class=\"sk-container\" hidden><div class=\"sk-item\"><div class=\"sk-estimator sk-toggleable\"><input class=\"sk-toggleable__control sk-hidden--visually\" id=\"sk-estimator-id-2\" type=\"checkbox\" checked><label for=\"sk-estimator-id-2\" class=\"sk-toggleable__label sk-toggleable__label-arrow\">LGBMRegressor</label><div class=\"sk-toggleable__content\"><pre>LGBMRegressor(max_depth=23, min_child_samples=3, n_estimators=584,\n",
       "              num_iterations=500, num_leaves=14, random_state=42)</pre></div></div></div></div></div>"
      ],
      "text/plain": [
       "LGBMRegressor(max_depth=23, min_child_samples=3, n_estimators=584,\n",
       "              num_iterations=500, num_leaves=14, random_state=42)"
      ]
     },
     "execution_count": 63,
     "metadata": {},
     "output_type": "execute_result"
    }
   ],
   "source": [
    "lgbm_params = {\n",
    "    \"random_state\": 42,\n",
    "    \"learning_rate\": 0.1,\n",
    "    \"n_estimators\": study.best_trial.params[\"n_estimators\"],\n",
    "    \"max_depth\": study.best_trial.params[\"max_depth\"],\n",
    "    \"num_leaves\": study.best_trial.params[\"num_leaves\"],\n",
    "    \"min_child_samples\": study.best_trial.params[\"min_child_samples\"],\n",
    "    \"num_iterations\": study.best_trial.params[\"num_iterations\"]\n",
    "}\n",
    "\n",
    "lgbm = LGBMRegressor(**lgbm_params)\n",
    "lgbm.fit(Cd_X_train, Cd_y_train)"
   ]
  },
  {
   "cell_type": "code",
   "execution_count": null,
   "id": "9ab1055b",
   "metadata": {},
   "outputs": [],
   "source": [
    "y_train_pred = lgbm.predict(Cd_X_train)\n",
    "y_test_pred = lgbm.predict(Cd_X_test)"
   ]
  },
  {
   "cell_type": "code",
   "execution_count": null,
   "id": "425b4001",
   "metadata": {},
   "outputs": [
    {
     "name": "stdout",
     "output_type": "stream",
     "text": [
      "Train RMSE:  0.0061221554000065945\n",
      "Test RMSE:  0.1814402521097858\n"
     ]
    }
   ],
   "source": [
    "print(\"Train RMSE: \", np.sqrt(mean_squared_error(Cd_y_train, y_train_pred)))\n",
    "print(\"Test RMSE: \", np.sqrt(mean_squared_error(Cd_y_test, y_test_pred)))"
   ]
  },
  {
   "cell_type": "code",
   "execution_count": null,
   "id": "0f95ae3c",
   "metadata": {},
   "outputs": [
    {
     "name": "stdout",
     "output_type": "stream",
     "text": [
      "Train R2:  0.999521927743473\n",
      "Test R2:  0.5686834622986199\n"
     ]
    }
   ],
   "source": [
    "print(\"Train R2: \", r2_score(Cd_y_train, y_train_pred))\n",
    "print(\"Test R2: \", r2_score(Cd_y_test, y_test_pred))"
   ]
  },
  {
   "cell_type": "code",
   "execution_count": null,
   "id": "d01dda76",
   "metadata": {},
   "outputs": [
    {
     "data": {
      "image/png": "[encoded data removed]",
      "text/plain": [
       "<Figure size 432x288 with 1 Axes>"
      ]
     },
     "metadata": {
      "needs_background": "light"
     },
     "output_type": "display_data"
    }
   ],
   "source": [
    "plt.scatter(y_train_pred, np.array(Cd_y_train), color=\"orange\", alpha=0.3)\n",
    "plt.scatter(y_test_pred, np.array(Cd_y_test), color=\"green\", alpha=0.4)\n",
    "plt.axis(\"auto\") # scaled, tight, auto, image, square\n",
    "# plt.xlim([0, 1.5]) \n",
    "# plt.ylim(0, None) \n",
    "plt.xlabel('Predicted Values')\n",
    "plt.ylabel('Actual Values')\n",
    "\n",
    "# Add y=x line\n",
    "plt.plot([0, 4], [0, 4], color='red', linestyle='-')\n",
    "\n",
    "plt.show()"
   ]
  },
  {
   "attachments": {},
   "cell_type": "markdown",
   "id": "74f680ea",
   "metadata": {},
   "source": [
    "Ni"
   ]
  },
  {
   "cell_type": "code",
   "execution_count": null,
   "id": "de233338",
   "metadata": {},
   "outputs": [
    {
     "name": "stderr",
     "output_type": "stream",
     "text": [
      "\u001b[32m[I 2023-08-17 22:43:15,569]\u001b[0m A new study created in memory with name: lgbm_parameter_opt\u001b[0m\n",
      "\u001b[32m[I 2023-08-17 22:43:18,970]\u001b[0m Trial 0 finished with value: 0.6982129617343824 and parameters: {'n_estimators': 501, 'max_depth': 20, 'num_leaves': 15, 'min_child_samples': 2, 'num_iterations': 721}. Best is trial 0 with value: 0.6982129617343824.\u001b[0m\n",
      "\u001b[32m[I 2023-08-17 22:43:23,521]\u001b[0m Trial 1 finished with value: 0.6761670418384801 and parameters: {'n_estimators': 776, 'max_depth': 29, 'num_leaves': 26, 'min_child_samples': 1, 'num_iterations': 539}. Best is trial 0 with value: 0.6982129617343824.\u001b[0m\n",
      "\u001b[32m[I 2023-08-17 22:43:24,753]\u001b[0m Trial 2 finished with value: 0.6956925263077679 and parameters: {'n_estimators': 693, 'max_depth': 12, 'num_leaves': 4, 'min_child_samples': 6, 'num_iterations': 960}. Best is trial 0 with value: 0.6982129617343824.\u001b[0m\n",
      "\u001b[32m[I 2023-08-17 22:43:27,080]\u001b[0m Trial 3 finished with value: 0.6991855461280962 and parameters: {'n_estimators': 770, 'max_depth': 26, 'num_leaves': 6, 'min_child_samples': 3, 'num_iterations': 956}. Best is trial 3 with value: 0.6991855461280962.\u001b[0m\n",
      "\u001b[32m[I 2023-08-17 22:43:31,192]\u001b[0m Trial 4 finished with value: 0.6874454760734713 and parameters: {'n_estimators': 524, 'max_depth': 20, 'num_leaves': 14, 'min_child_samples': 1, 'num_iterations': 945}. Best is trial 3 with value: 0.6991855461280962.\u001b[0m\n",
      "\u001b[32m[I 2023-08-17 22:43:33,086]\u001b[0m Trial 5 finished with value: 0.6843668599326393 and parameters: {'n_estimators': 595, 'max_depth': 19, 'num_leaves': 10, 'min_child_samples': 4, 'num_iterations': 651}. Best is trial 3 with value: 0.6991855461280962.\u001b[0m\n",
      "\u001b[32m[I 2023-08-17 22:43:35,206]\u001b[0m Trial 6 finished with value: 0.7035787614769454 and parameters: {'n_estimators': 536, 'max_depth': 16, 'num_leaves': 15, 'min_child_samples': 7, 'num_iterations': 561}. Best is trial 6 with value: 0.7035787614769454.\u001b[0m\n",
      "\u001b[32m[I 2023-08-17 22:43:37,628]\u001b[0m Trial 7 finished with value: 0.708084002368396 and parameters: {'n_estimators': 920, 'max_depth': 5, 'num_leaves': 17, 'min_child_samples': 5, 'num_iterations': 770}. Best is trial 7 with value: 0.708084002368396.\u001b[0m\n",
      "\u001b[32m[I 2023-08-17 22:43:40,198]\u001b[0m Trial 8 finished with value: 0.6940957280132244 and parameters: {'n_estimators': 774, 'max_depth': 16, 'num_leaves': 12, 'min_child_samples': 3, 'num_iterations': 731}. Best is trial 7 with value: 0.708084002368396.\u001b[0m\n",
      "\u001b[32m[I 2023-08-17 22:43:40,786]\u001b[0m Trial 9 finished with value: 0.5548575298833871 and parameters: {'n_estimators': 993, 'max_depth': 1, 'num_leaves': 6, 'min_child_samples': 5, 'num_iterations': 520}. Best is trial 7 with value: 0.708084002368396.\u001b[0m\n",
      "\u001b[32m[I 2023-08-17 22:43:42,094]\u001b[0m Trial 10 finished with value: 0.6981695382406758 and parameters: {'n_estimators': 970, 'max_depth': 3, 'num_leaves': 23, 'min_child_samples': 10, 'num_iterations': 842}. Best is trial 7 with value: 0.708084002368396.\u001b[0m\n",
      "\u001b[32m[I 2023-08-17 22:43:45,363]\u001b[0m Trial 11 finished with value: 0.6919267994220013 and parameters: {'n_estimators': 896, 'max_depth': 9, 'num_leaves': 20, 'min_child_samples': 7, 'num_iterations': 624}. Best is trial 7 with value: 0.708084002368396.\u001b[0m\n",
      "\u001b[32m[I 2023-08-17 22:43:49,146]\u001b[0m Trial 12 finished with value: 0.6766517829278891 and parameters: {'n_estimators': 884, 'max_depth': 7, 'num_leaves': 29, 'min_child_samples': 8, 'num_iterations': 822}. Best is trial 7 with value: 0.708084002368396.\u001b[0m\n",
      "\u001b[32m[I 2023-08-17 22:43:54,030]\u001b[0m Trial 13 finished with value: 0.6862920490396036 and parameters: {'n_estimators': 675, 'max_depth': 13, 'num_leaves': 19, 'min_child_samples': 9, 'num_iterations': 837}. Best is trial 7 with value: 0.708084002368396.\u001b[0m\n",
      "\u001b[32m[I 2023-08-17 22:43:56,598]\u001b[0m Trial 14 finished with value: 0.7008402292113125 and parameters: {'n_estimators': 861, 'max_depth': 6, 'num_leaves': 18, 'min_child_samples': 6, 'num_iterations': 633}. Best is trial 7 with value: 0.708084002368396.\u001b[0m\n",
      "\u001b[32m[I 2023-08-17 22:43:58,738]\u001b[0m Trial 15 finished with value: 0.6886846246093559 and parameters: {'n_estimators': 624, 'max_depth': 24, 'num_leaves': 10, 'min_child_samples': 7, 'num_iterations': 776}. Best is trial 7 with value: 0.708084002368396.\u001b[0m\n",
      "\u001b[32m[I 2023-08-17 22:44:03,299]\u001b[0m Trial 16 finished with value: 0.6752136867735578 and parameters: {'n_estimators': 817, 'max_depth': 11, 'num_leaves': 32, 'min_child_samples': 5, 'num_iterations': 585}. Best is trial 7 with value: 0.708084002368396.\u001b[0m\n",
      "\u001b[32m[I 2023-08-17 22:44:07,432]\u001b[0m Trial 17 finished with value: 0.6863777711123931 and parameters: {'n_estimators': 942, 'max_depth': 16, 'num_leaves': 23, 'min_child_samples': 8, 'num_iterations': 684}. Best is trial 7 with value: 0.708084002368396.\u001b[0m\n",
      "\u001b[32m[I 2023-08-17 22:44:10,385]\u001b[0m Trial 18 finished with value: 0.6978981023841877 and parameters: {'n_estimators': 701, 'max_depth': 5, 'num_leaves': 16, 'min_child_samples': 4, 'num_iterations': 895}. Best is trial 7 with value: 0.708084002368396.\u001b[0m\n",
      "\u001b[32m[I 2023-08-17 22:44:14,618]\u001b[0m Trial 19 finished with value: 0.6821147497090101 and parameters: {'n_estimators': 569, 'max_depth': 14, 'num_leaves': 22, 'min_child_samples': 7, 'num_iterations': 769}. Best is trial 7 with value: 0.708084002368396.\u001b[0m\n",
      "\u001b[32m[I 2023-08-17 22:44:16,364]\u001b[0m Trial 20 finished with value: 0.6950278168376125 and parameters: {'n_estimators': 830, 'max_depth': 23, 'num_leaves': 12, 'min_child_samples': 10, 'num_iterations': 572}. Best is trial 7 with value: 0.708084002368396.\u001b[0m\n",
      "\u001b[32m[I 2023-08-17 22:44:18,788]\u001b[0m Trial 21 finished with value: 0.7013602537920548 and parameters: {'n_estimators': 899, 'max_depth': 7, 'num_leaves': 18, 'min_child_samples': 6, 'num_iterations': 619}. Best is trial 7 with value: 0.708084002368396.\u001b[0m\n",
      "\u001b[32m[I 2023-08-17 22:44:21,130]\u001b[0m Trial 22 finished with value: 0.7030311293173828 and parameters: {'n_estimators': 926, 'max_depth': 8, 'num_leaves': 17, 'min_child_samples': 6, 'num_iterations': 586}. Best is trial 7 with value: 0.708084002368396.\u001b[0m\n",
      "\u001b[32m[I 2023-08-17 22:44:23,491]\u001b[0m Trial 23 finished with value: 0.6891266877414368 and parameters: {'n_estimators': 935, 'max_depth': 10, 'num_leaves': 14, 'min_child_samples': 5, 'num_iterations': 687}. Best is trial 7 with value: 0.708084002368396.\u001b[0m\n",
      "\u001b[32m[I 2023-08-17 22:44:23,857]\u001b[0m Trial 24 finished with value: 0.5540678316273114 and parameters: {'n_estimators': 818, 'max_depth': 1, 'num_leaves': 21, 'min_child_samples': 8, 'num_iterations': 561}. Best is trial 7 with value: 0.708084002368396.\u001b[0m\n",
      "\u001b[32m[I 2023-08-17 22:44:25,349]\u001b[0m Trial 25 finished with value: 0.6970668296496955 and parameters: {'n_estimators': 735, 'max_depth': 4, 'num_leaves': 26, 'min_child_samples': 4, 'num_iterations': 521}. Best is trial 7 with value: 0.708084002368396.\u001b[0m\n",
      "\u001b[32m[I 2023-08-17 22:44:27,221]\u001b[0m Trial 26 finished with value: 0.6978929460231356 and parameters: {'n_estimators': 938, 'max_depth': 9, 'num_leaves': 9, 'min_child_samples': 7, 'num_iterations': 694}. Best is trial 7 with value: 0.708084002368396.\u001b[0m\n",
      "\u001b[32m[I 2023-08-17 22:44:29,391]\u001b[0m Trial 27 finished with value: 0.6872948696309286 and parameters: {'n_estimators': 848, 'max_depth': 17, 'num_leaves': 17, 'min_child_samples': 6, 'num_iterations': 503}. Best is trial 7 with value: 0.708084002368396.\u001b[0m\n",
      "\u001b[32m[I 2023-08-17 22:44:31,232]\u001b[0m Trial 28 finished with value: 0.6941749393109442 and parameters: {'n_estimators': 621, 'max_depth': 8, 'num_leaves': 13, 'min_child_samples': 9, 'num_iterations': 593}. Best is trial 7 with value: 0.708084002368396.\u001b[0m\n",
      "\u001b[32m[I 2023-08-17 22:44:34,693]\u001b[0m Trial 29 finished with value: 0.6828349298488409 and parameters: {'n_estimators': 508, 'max_depth': 14, 'num_leaves': 16, 'min_child_samples': 3, 'num_iterations': 788}. Best is trial 7 with value: 0.708084002368396.\u001b[0m\n",
      "\u001b[32m[I 2023-08-17 22:44:39,974]\u001b[0m Trial 30 finished with value: 0.6846087827255146 and parameters: {'n_estimators': 987, 'max_depth': 20, 'num_leaves': 25, 'min_child_samples': 5, 'num_iterations': 886}. Best is trial 7 with value: 0.708084002368396.\u001b[0m\n",
      "\u001b[32m[I 2023-08-17 22:44:40,906]\u001b[0m Trial 31 finished with value: 0.6976481243404918 and parameters: {'n_estimators': 904, 'max_depth': 3, 'num_leaves': 18, 'min_child_samples': 6, 'num_iterations': 609}. Best is trial 7 with value: 0.708084002368396.\u001b[0m\n",
      "\u001b[32m[I 2023-08-17 22:44:43,092]\u001b[0m Trial 32 finished with value: 0.7086912846375023 and parameters: {'n_estimators': 918, 'max_depth': 8, 'num_leaves': 15, 'min_child_samples': 6, 'num_iterations': 642}. Best is trial 32 with value: 0.7086912846375023.\u001b[0m\n",
      "\u001b[32m[I 2023-08-17 22:44:45,530]\u001b[0m Trial 33 finished with value: 0.6955527963848825 and parameters: {'n_estimators': 956, 'max_depth': 11, 'num_leaves': 15, 'min_child_samples': 7, 'num_iterations': 656}. Best is trial 32 with value: 0.7086912846375023.\u001b[0m\n",
      "\u001b[32m[I 2023-08-17 22:44:48,438]\u001b[0m Trial 34 finished with value: 0.6842849320359459 and parameters: {'n_estimators': 921, 'max_depth': 18, 'num_leaves': 20, 'min_child_samples': 4, 'num_iterations': 553}. Best is trial 32 with value: 0.7086912846375023.\u001b[0m\n",
      "\u001b[32m[I 2023-08-17 22:44:49,935]\u001b[0m Trial 35 finished with value: 0.690360393274237 and parameters: {'n_estimators': 799, 'max_depth': 12, 'num_leaves': 8, 'min_child_samples': 6, 'num_iterations': 736}. Best is trial 32 with value: 0.7086912846375023.\u001b[0m\n",
      "\u001b[32m[I 2023-08-17 22:44:50,306]\u001b[0m Trial 36 finished with value: 0.5570474315361215 and parameters: {'n_estimators': 849, 'max_depth': 22, 'num_leaves': 2, 'min_child_samples': 5, 'num_iterations': 547}. Best is trial 32 with value: 0.7086912846375023.\u001b[0m\n",
      "\u001b[32m[I 2023-08-17 22:44:52,277]\u001b[0m Trial 37 finished with value: 0.6932711630456413 and parameters: {'n_estimators': 538, 'max_depth': 5, 'num_leaves': 12, 'min_child_samples': 2, 'num_iterations': 663}. Best is trial 32 with value: 0.7086912846375023.\u001b[0m\n",
      "\u001b[32m[I 2023-08-17 22:44:55,112]\u001b[0m Trial 38 finished with value: 0.681409909623081 and parameters: {'n_estimators': 738, 'max_depth': 14, 'num_leaves': 14, 'min_child_samples': 8, 'num_iterations': 708}. Best is trial 32 with value: 0.7086912846375023.\u001b[0m\n",
      "\u001b[32m[I 2023-08-17 22:44:56,131]\u001b[0m Trial 39 finished with value: 0.7074495872920041 and parameters: {'n_estimators': 879, 'max_depth': 3, 'num_leaves': 16, 'min_child_samples': 7, 'num_iterations': 597}. Best is trial 32 with value: 0.7086912846375023.\u001b[0m\n",
      "\u001b[32m[I 2023-08-17 22:44:56,928]\u001b[0m Trial 40 finished with value: 0.6471310685642582 and parameters: {'n_estimators': 883, 'max_depth': 2, 'num_leaves': 11, 'min_child_samples': 9, 'num_iterations': 752}. Best is trial 32 with value: 0.7086912846375023.\u001b[0m\n",
      "\u001b[32m[I 2023-08-17 22:44:58,705]\u001b[0m Trial 41 finished with value: 0.6984724649962365 and parameters: {'n_estimators': 975, 'max_depth': 5, 'num_leaves': 16, 'min_child_samples': 7, 'num_iterations': 589}. Best is trial 32 with value: 0.7086912846375023.\u001b[0m\n",
      "\u001b[32m[I 2023-08-17 22:45:00,914]\u001b[0m Trial 42 finished with value: 0.6954746303979453 and parameters: {'n_estimators': 999, 'max_depth': 7, 'num_leaves': 15, 'min_child_samples': 6, 'num_iterations': 640}. Best is trial 32 with value: 0.7086912846375023.\u001b[0m\n",
      "\u001b[32m[I 2023-08-17 22:45:01,745]\u001b[0m Trial 43 finished with value: 0.7068231523363593 and parameters: {'n_estimators': 864, 'max_depth': 3, 'num_leaves': 17, 'min_child_samples': 7, 'num_iterations': 530}. Best is trial 32 with value: 0.7086912846375023.\u001b[0m\n",
      "\u001b[32m[I 2023-08-17 22:45:02,565]\u001b[0m Trial 44 finished with value: 0.7062511831159023 and parameters: {'n_estimators': 871, 'max_depth': 3, 'num_leaves': 19, 'min_child_samples': 8, 'num_iterations': 533}. Best is trial 32 with value: 0.7086912846375023.\u001b[0m\n",
      "\u001b[32m[I 2023-08-17 22:45:03,078]\u001b[0m Trial 45 finished with value: 0.6453377602330252 and parameters: {'n_estimators': 869, 'max_depth': 2, 'num_leaves': 19, 'min_child_samples': 8, 'num_iterations': 500}. Best is trial 32 with value: 0.7086912846375023.\u001b[0m\n",
      "\u001b[32m[I 2023-08-17 22:45:04,349]\u001b[0m Trial 46 finished with value: 0.6984459286379053 and parameters: {'n_estimators': 911, 'max_depth': 3, 'num_leaves': 20, 'min_child_samples': 9, 'num_iterations': 801}. Best is trial 32 with value: 0.7086912846375023.\u001b[0m\n",
      "\u001b[32m[I 2023-08-17 22:45:07,514]\u001b[0m Trial 47 finished with value: 0.6808901526848119 and parameters: {'n_estimators': 877, 'max_depth': 28, 'num_leaves': 25, 'min_child_samples': 8, 'num_iterations': 531}. Best is trial 32 with value: 0.7086912846375023.\u001b[0m\n",
      "\u001b[32m[I 2023-08-17 22:45:08,721]\u001b[0m Trial 48 finished with value: 0.7097592753019845 and parameters: {'n_estimators': 784, 'max_depth': 4, 'num_leaves': 21, 'min_child_samples': 7, 'num_iterations': 528}. Best is trial 48 with value: 0.7097592753019845.\u001b[0m\n",
      "\u001b[32m[I 2023-08-17 22:45:09,092]\u001b[0m Trial 49 finished with value: 0.5567295946523286 and parameters: {'n_estimators': 774, 'max_depth': 1, 'num_leaves': 23, 'min_child_samples': 7, 'num_iterations': 602}. Best is trial 48 with value: 0.7097592753019845.\u001b[0m\n",
      "\u001b[32m[I 2023-08-17 22:45:11,313]\u001b[0m Trial 50 finished with value: 0.7029129079696362 and parameters: {'n_estimators': 799, 'max_depth': 6, 'num_leaves': 21, 'min_child_samples': 5, 'num_iterations': 570}. Best is trial 48 with value: 0.7097592753019845.\u001b[0m\n",
      "\u001b[32m[I 2023-08-17 22:45:13,511]\u001b[0m Trial 51 finished with value: 0.7081385378390872 and parameters: {'n_estimators': 842, 'max_depth': 4, 'num_leaves': 19, 'min_child_samples': 7, 'num_iterations': 992}. Best is trial 48 with value: 0.7097592753019845.\u001b[0m\n",
      "\u001b[32m[I 2023-08-17 22:45:15,562]\u001b[0m Trial 52 finished with value: 0.7082195578913858 and parameters: {'n_estimators': 790, 'max_depth': 4, 'num_leaves': 17, 'min_child_samples': 7, 'num_iterations': 934}. Best is trial 48 with value: 0.7097592753019845.\u001b[0m\n",
      "\u001b[32m[I 2023-08-17 22:45:17,791]\u001b[0m Trial 53 finished with value: 0.7081453458216828 and parameters: {'n_estimators': 802, 'max_depth': 4, 'num_leaves': 22, 'min_child_samples': 7, 'num_iterations': 991}. Best is trial 48 with value: 0.7097592753019845.\u001b[0m\n",
      "\u001b[32m[I 2023-08-17 22:45:20,882]\u001b[0m Trial 54 finished with value: 0.6975606937303654 and parameters: {'n_estimators': 762, 'max_depth': 5, 'num_leaves': 22, 'min_child_samples': 6, 'num_iterations': 996}. Best is trial 48 with value: 0.7097592753019845.\u001b[0m\n",
      "\u001b[32m[I 2023-08-17 22:45:23,284]\u001b[0m Trial 55 finished with value: 0.7081179825306444 and parameters: {'n_estimators': 791, 'max_depth': 4, 'num_leaves': 23, 'min_child_samples': 7, 'num_iterations': 987}. Best is trial 48 with value: 0.7097592753019845.\u001b[0m\n",
      "\u001b[32m[I 2023-08-17 22:45:27,354]\u001b[0m Trial 56 finished with value: 0.7040162445760016 and parameters: {'n_estimators': 711, 'max_depth': 6, 'num_leaves': 28, 'min_child_samples': 7, 'num_iterations': 992}. Best is trial 48 with value: 0.7097592753019845.\u001b[0m\n",
      "\u001b[32m[I 2023-08-17 22:45:29,325]\u001b[0m Trial 57 finished with value: 0.7032994339984076 and parameters: {'n_estimators': 805, 'max_depth': 4, 'num_leaves': 24, 'min_child_samples': 8, 'num_iterations': 934}. Best is trial 48 with value: 0.7097592753019845.\u001b[0m\n",
      "\u001b[32m[I 2023-08-17 22:45:34,344]\u001b[0m Trial 58 finished with value: 0.6679948630207743 and parameters: {'n_estimators': 786, 'max_depth': 8, 'num_leaves': 28, 'min_child_samples': 6, 'num_iterations': 963}. Best is trial 48 with value: 0.7097592753019845.\u001b[0m\n",
      "\u001b[32m[I 2023-08-17 22:45:36,386]\u001b[0m Trial 59 finished with value: 0.708263135392693 and parameters: {'n_estimators': 832, 'max_depth': 4, 'num_leaves': 22, 'min_child_samples': 7, 'num_iterations': 915}. Best is trial 48 with value: 0.7097592753019845.\u001b[0m\n",
      "\u001b[32m[I 2023-08-17 22:45:37,273]\u001b[0m Trial 60 finished with value: 0.653248797644037 and parameters: {'n_estimators': 843, 'max_depth': 2, 'num_leaves': 21, 'min_child_samples': 8, 'num_iterations': 916}. Best is trial 48 with value: 0.7097592753019845.\u001b[0m\n",
      "\u001b[32m[I 2023-08-17 22:45:39,458]\u001b[0m Trial 61 finished with value: 0.7082360617413095 and parameters: {'n_estimators': 752, 'max_depth': 4, 'num_leaves': 22, 'min_child_samples': 7, 'num_iterations': 975}. Best is trial 48 with value: 0.7097592753019845.\u001b[0m\n",
      "\u001b[32m[I 2023-08-17 22:45:42,863]\u001b[0m Trial 62 finished with value: 0.7037191504132725 and parameters: {'n_estimators': 751, 'max_depth': 6, 'num_leaves': 22, 'min_child_samples': 7, 'num_iterations': 962}. Best is trial 48 with value: 0.7097592753019845.\u001b[0m\n",
      "\u001b[32m[I 2023-08-17 22:45:44,989]\u001b[0m Trial 63 finished with value: 0.7000875437063966 and parameters: {'n_estimators': 826, 'max_depth': 4, 'num_leaves': 20, 'min_child_samples': 6, 'num_iterations': 941}. Best is trial 48 with value: 0.7097592753019845.\u001b[0m\n",
      "\u001b[32m[I 2023-08-17 22:45:48,741]\u001b[0m Trial 64 finished with value: 0.6852223846514279 and parameters: {'n_estimators': 731, 'max_depth': 7, 'num_leaves': 24, 'min_child_samples': 7, 'num_iterations': 870}. Best is trial 48 with value: 0.7097592753019845.\u001b[0m\n",
      "\u001b[32m[I 2023-08-17 22:45:53,217]\u001b[0m Trial 65 finished with value: 0.6835089266177927 and parameters: {'n_estimators': 674, 'max_depth': 9, 'num_leaves': 19, 'min_child_samples': 8, 'num_iterations': 978}. Best is trial 48 with value: 0.7097592753019845.\u001b[0m\n",
      "\u001b[32m[I 2023-08-17 22:45:53,814]\u001b[0m Trial 66 finished with value: 0.5732046358648349 and parameters: {'n_estimators': 758, 'max_depth': 1, 'num_leaves': 21, 'min_child_samples': 7, 'num_iterations': 915}. Best is trial 48 with value: 0.7097592753019845.\u001b[0m\n",
      "\u001b[32m[I 2023-08-17 22:45:54,853]\u001b[0m Trial 67 finished with value: 0.6592662225849455 and parameters: {'n_estimators': 838, 'max_depth': 2, 'num_leaves': 26, 'min_child_samples': 6, 'num_iterations': 970}. Best is trial 48 with value: 0.7097592753019845.\u001b[0m\n",
      "\u001b[32m[I 2023-08-17 22:45:57,167]\u001b[0m Trial 68 finished with value: 0.6987956586424339 and parameters: {'n_estimators': 815, 'max_depth': 4, 'num_leaves': 18, 'min_child_samples': 9, 'num_iterations': 948}. Best is trial 48 with value: 0.7097592753019845.\u001b[0m\n",
      "\u001b[32m[I 2023-08-17 22:46:00,747]\u001b[0m Trial 69 finished with value: 0.7036096338761106 and parameters: {'n_estimators': 778, 'max_depth': 6, 'num_leaves': 24, 'min_child_samples': 6, 'num_iterations': 918}. Best is trial 48 with value: 0.7097592753019845.\u001b[0m\n",
      "\u001b[32m[I 2023-08-17 22:46:05,438]\u001b[0m Trial 70 finished with value: 0.6963375120203334 and parameters: {'n_estimators': 719, 'max_depth': 10, 'num_leaves': 22, 'min_child_samples': 7, 'num_iterations': 927}. Best is trial 48 with value: 0.7097592753019845.\u001b[0m\n",
      "\u001b[32m[I 2023-08-17 22:46:07,741]\u001b[0m Trial 71 finished with value: 0.7080887233977926 and parameters: {'n_estimators': 789, 'max_depth': 4, 'num_leaves': 23, 'min_child_samples': 7, 'num_iterations': 999}. Best is trial 48 with value: 0.7097592753019845.\u001b[0m\n",
      "\u001b[32m[I 2023-08-17 22:46:10,683]\u001b[0m Trial 72 finished with value: 0.7032839411317394 and parameters: {'n_estimators': 804, 'max_depth': 5, 'num_leaves': 20, 'min_child_samples': 7, 'num_iterations': 980}. Best is trial 48 with value: 0.7097592753019845.\u001b[0m\n",
      "\u001b[32m[I 2023-08-17 22:46:11,616]\u001b[0m Trial 73 finished with value: 0.6526570955596822 and parameters: {'n_estimators': 689, 'max_depth': 2, 'num_leaves': 25, 'min_child_samples': 8, 'num_iterations': 894}. Best is trial 48 with value: 0.7097592753019845.\u001b[0m\n",
      "\u001b[32m[I 2023-08-17 22:46:15,967]\u001b[0m Trial 74 finished with value: 0.6750089503944687 and parameters: {'n_estimators': 768, 'max_depth': 7, 'num_leaves': 23, 'min_child_samples': 7, 'num_iterations': 954}. Best is trial 48 with value: 0.7097592753019845.\u001b[0m\n",
      "\u001b[32m[I 2023-08-17 22:46:18,898]\u001b[0m Trial 75 finished with value: 0.71654037293045 and parameters: {'n_estimators': 856, 'max_depth': 5, 'num_leaves': 22, 'min_child_samples': 7, 'num_iterations': 982}. Best is trial 75 with value: 0.71654037293045.\u001b[0m\n",
      "\u001b[32m[I 2023-08-17 22:46:21,899]\u001b[0m Trial 76 finished with value: 0.6982886300103911 and parameters: {'n_estimators': 853, 'max_depth': 5, 'num_leaves': 18, 'min_child_samples': 6, 'num_iterations': 975}. Best is trial 75 with value: 0.71654037293045.\u001b[0m\n",
      "\u001b[32m[I 2023-08-17 22:46:25,391]\u001b[0m Trial 77 finished with value: 0.6801002538186208 and parameters: {'n_estimators': 827, 'max_depth': 8, 'num_leaves': 14, 'min_child_samples': 8, 'num_iterations': 903}. Best is trial 75 with value: 0.71654037293045.\u001b[0m\n",
      "\u001b[32m[I 2023-08-17 22:46:28,963]\u001b[0m Trial 78 finished with value: 0.6981605110319056 and parameters: {'n_estimators': 893, 'max_depth': 6, 'num_leaves': 17, 'min_child_samples': 5, 'num_iterations': 948}. Best is trial 75 with value: 0.71654037293045.\u001b[0m\n",
      "\u001b[32m[I 2023-08-17 22:46:29,494]\u001b[0m Trial 79 finished with value: 0.5760719797669751 and parameters: {'n_estimators': 741, 'max_depth': 1, 'num_leaves': 21, 'min_child_samples': 6, 'num_iterations': 858}. Best is trial 75 with value: 0.71654037293045.\u001b[0m\n",
      "\u001b[32m[I 2023-08-17 22:46:30,944]\u001b[0m Trial 80 finished with value: 0.704914382285754 and parameters: {'n_estimators': 835, 'max_depth': 3, 'num_leaves': 22, 'min_child_samples': 7, 'num_iterations': 968}. Best is trial 75 with value: 0.71654037293045.\u001b[0m\n",
      "\u001b[32m[I 2023-08-17 22:46:33,144]\u001b[0m Trial 81 finished with value: 0.7081351605457529 and parameters: {'n_estimators': 815, 'max_depth': 4, 'num_leaves': 19, 'min_child_samples': 7, 'num_iterations': 986}. Best is trial 75 with value: 0.71654037293045.\u001b[0m\n",
      "\u001b[32m[I 2023-08-17 22:46:36,084]\u001b[0m Trial 82 finished with value: 0.7085056728579906 and parameters: {'n_estimators': 810, 'max_depth': 5, 'num_leaves': 19, 'min_child_samples': 7, 'num_iterations': 1000}. Best is trial 75 with value: 0.71654037293045.\u001b[0m\n",
      "\u001b[32m[I 2023-08-17 22:46:38,996]\u001b[0m Trial 83 finished with value: 0.7009960492361984 and parameters: {'n_estimators': 811, 'max_depth': 5, 'num_leaves': 20, 'min_child_samples': 8, 'num_iterations': 1000}. Best is trial 75 with value: 0.71654037293045.\u001b[0m\n",
      "\u001b[32m[I 2023-08-17 22:46:40,431]\u001b[0m Trial 84 finished with value: 0.6984354318181578 and parameters: {'n_estimators': 849, 'max_depth': 3, 'num_leaves': 18, 'min_child_samples': 6, 'num_iterations': 933}. Best is trial 75 with value: 0.71654037293045.\u001b[0m\n",
      "\u001b[32m[I 2023-08-17 22:46:44,001]\u001b[0m Trial 85 finished with value: 0.6911141053076676 and parameters: {'n_estimators': 783, 'max_depth': 8, 'num_leaves': 16, 'min_child_samples': 7, 'num_iterations': 956}. Best is trial 75 with value: 0.71654037293045.\u001b[0m\n",
      "\u001b[32m[I 2023-08-17 22:46:46,038]\u001b[0m Trial 86 finished with value: 0.7025838729969941 and parameters: {'n_estimators': 858, 'max_depth': 5, 'num_leaves': 19, 'min_child_samples': 6, 'num_iterations': 674}. Best is trial 75 with value: 0.71654037293045.\u001b[0m\n",
      "\u001b[32m[I 2023-08-17 22:46:50,637]\u001b[0m Trial 87 finished with value: 0.6821274369829613 and parameters: {'n_estimators': 822, 'max_depth': 7, 'num_leaves': 21, 'min_child_samples': 7, 'num_iterations': 989}. Best is trial 75 with value: 0.71654037293045.\u001b[0m\n",
      "\u001b[32m[I 2023-08-17 22:46:51,721]\u001b[0m Trial 88 finished with value: 0.6500845735013074 and parameters: {'n_estimators': 770, 'max_depth': 2, 'num_leaves': 17, 'min_child_samples': 7, 'num_iterations': 973}. Best is trial 75 with value: 0.71654037293045.\u001b[0m\n",
      "\u001b[32m[I 2023-08-17 22:46:55,536]\u001b[0m Trial 89 finished with value: 0.6997828064445292 and parameters: {'n_estimators': 953, 'max_depth': 6, 'num_leaves': 15, 'min_child_samples': 8, 'num_iterations': 939}. Best is trial 75 with value: 0.71654037293045.\u001b[0m\n",
      "\u001b[32m[I 2023-08-17 22:46:58,056]\u001b[0m Trial 90 finished with value: 0.708447534563599 and parameters: {'n_estimators': 794, 'max_depth': 4, 'num_leaves': 24, 'min_child_samples': 7, 'num_iterations': 819}. Best is trial 75 with value: 0.71654037293045.\u001b[0m\n",
      "\u001b[32m[I 2023-08-17 22:47:00,802]\u001b[0m Trial 91 finished with value: 0.7003753919419682 and parameters: {'n_estimators': 793, 'max_depth': 4, 'num_leaves': 27, 'min_child_samples': 1, 'num_iterations': 803}. Best is trial 75 with value: 0.71654037293045.\u001b[0m\n",
      "\u001b[32m[I 2023-08-17 22:47:01,596]\u001b[0m Trial 92 finished with value: 0.6478834234653224 and parameters: {'n_estimators': 831, 'max_depth': 2, 'num_leaves': 24, 'min_child_samples': 7, 'num_iterations': 837}. Best is trial 75 with value: 0.71654037293045.\u001b[0m\n",
      "\u001b[32m[I 2023-08-17 22:47:02,689]\u001b[0m Trial 93 finished with value: 0.7068922130155533 and parameters: {'n_estimators': 755, 'max_depth': 3, 'num_leaves': 22, 'min_child_samples': 7, 'num_iterations': 717}. Best is trial 75 with value: 0.71654037293045.\u001b[0m\n",
      "\u001b[32m[I 2023-08-17 22:47:04,514]\u001b[0m Trial 94 finished with value: 0.7035630300431432 and parameters: {'n_estimators': 808, 'max_depth': 4, 'num_leaves': 20, 'min_child_samples': 8, 'num_iterations': 881}. Best is trial 75 with value: 0.71654037293045.\u001b[0m\n",
      "\u001b[32m[I 2023-08-17 22:47:08,769]\u001b[0m Trial 95 finished with value: 0.6750073547283014 and parameters: {'n_estimators': 779, 'max_depth': 7, 'num_leaves': 23, 'min_child_samples': 7, 'num_iterations': 960}. Best is trial 75 with value: 0.71654037293045.\u001b[0m\n",
      "\u001b[32m[I 2023-08-17 22:47:11,810]\u001b[0m Trial 96 finished with value: 0.709989089666007 and parameters: {'n_estimators': 799, 'max_depth': 5, 'num_leaves': 25, 'min_child_samples': 6, 'num_iterations': 983}. Best is trial 75 with value: 0.71654037293045.\u001b[0m\n",
      "\u001b[32m[I 2023-08-17 22:47:13,077]\u001b[0m Trial 97 finished with value: 0.6972775839672806 and parameters: {'n_estimators': 798, 'max_depth': 3, 'num_leaves': 25, 'min_child_samples': 6, 'num_iterations': 746}. Best is trial 75 with value: 0.71654037293045.\u001b[0m\n",
      "\u001b[32m[I 2023-08-17 22:47:17,083]\u001b[0m Trial 98 finished with value: 0.7001204308422612 and parameters: {'n_estimators': 763, 'max_depth': 6, 'num_leaves': 27, 'min_child_samples': 5, 'num_iterations': 924}. Best is trial 75 with value: 0.71654037293045.\u001b[0m\n",
      "\u001b[32m[I 2023-08-17 22:47:19,944]\u001b[0m Trial 99 finished with value: 0.705505371821527 and parameters: {'n_estimators': 744, 'max_depth': 5, 'num_leaves': 26, 'min_child_samples': 6, 'num_iterations': 906}. Best is trial 75 with value: 0.71654037293045.\u001b[0m\n"
     ]
    },
    {
     "name": "stdout",
     "output_type": "stream",
     "text": [
      "Best r2:  0.71654037293045\n",
      "Best trial: {'n_estimators': 856, 'max_depth': 5, 'num_leaves': 22, 'min_child_samples': 7, 'num_iterations': 982}\n"
     ]
    }
   ],
   "source": [
    "sampler = TPESampler()\n",
    "study = optuna.create_study(\n",
    "    study_name=\"lgbm_parameter_opt\",\n",
    "    direction=\"maximize\",\n",
    "    sampler=sampler,\n",
    ")\n",
    "\n",
    "study.optimize(lambda trial : objectiveLGBM(trial, Ni_X_train, Ni_y_train), n_trials=100)\n",
    "print(\"Best r2: \", study.best_value)\n",
    "print(\"Best trial:\", study.best_trial.params)"
   ]
  },
  {
   "cell_type": "code",
   "execution_count": null,
   "id": "d71c01fb",
   "metadata": {},
   "outputs": [
    {
     "data": {
      "application/vnd.plotly.v1+json": {
       "config": {
        "plotlyServerURL": "https://plot.ly"
       },
       "data": [
        {
         "dimensions": [
          {
           "label": "Objective Value",
           "range": [
            0.5540678316273114,
            0.71654037293045
           ],
           "values": [
            0.6982129617343824,
            0.6761670418384801,
            0.6956925263077679,
            0.6991855461280962,
            0.6874454760734713,
            0.6843668599326393,
            0.7035787614769454,
            0.708084002368396,
            0.6940957280132244,
            0.5548575298833871,
            0.6981695382406758,
            0.6919267994220013,
            0.6766517829278891,
            0.6862920490396036,
            0.7008402292113125,
            0.6886846246093559,
            0.6752136867735578,
            0.6863777711123931,
            0.6978981023841877,
            0.6821147497090101,
            0.6950278168376125,
            0.7013602537920548,
            0.7030311293173828,
            0.6891266877414368,
            0.5540678316273114,
            0.6970668296496955,
            0.6978929460231356,
            0.6872948696309286,
            0.6941749393109442,
            0.6828349298488409,
            0.6846087827255146,
            0.6976481243404918,
            0.7086912846375023,
            0.6955527963848825,
            0.6842849320359459,
            0.690360393274237,
            0.5570474315361215,
            0.6932711630456413,
            0.681409909623081,
            0.7074495872920041,
            0.6471310685642582,
            0.6984724649962365,
            0.6954746303979453,
            0.7068231523363593,
            0.7062511831159023,
            0.6453377602330252,
            0.6984459286379053,
            0.6808901526848119,
            0.7097592753019845,
            0.5567295946523286,
            0.7029129079696362,
            0.7081385378390872,
            0.7082195578913858,
            0.7081453458216828,
            0.6975606937303654,
            0.7081179825306444,
            0.7040162445760016,
            0.7032994339984076,
            0.6679948630207743,
            0.708263135392693,
            0.653248797644037,
            0.7082360617413095,
            0.7037191504132725,
            0.7000875437063966,
            0.6852223846514279,
            0.6835089266177927,
            0.5732046358648349,
            0.6592662225849455,
            0.6987956586424339,
            0.7036096338761106,
            0.6963375120203334,
            0.7080887233977926,
            0.7032839411317394,
            0.6526570955596822,
            0.6750089503944687,
            0.71654037293045,
            0.6982886300103911,
            0.6801002538186208,
            0.6981605110319056,
            0.5760719797669751,
            0.704914382285754,
            0.7081351605457529,
            0.7085056728579906,
            0.7009960492361984,
            0.6984354318181578,
            0.6911141053076676,
            0.7025838729969941,
            0.6821274369829613,
            0.6500845735013074,
            0.6997828064445292,
            0.708447534563599,
            0.7003753919419682,
            0.6478834234653224,
            0.7068922130155533,
            0.7035630300431432,
            0.6750073547283014,
            0.709989089666007,
            0.6972775839672806,
            0.7001204308422612,
            0.705505371821527
           ]
          },
          {
           "label": "max_depth",
           "range": [
            1,
            29
           ],
           "values": [
            20,
            29,
            12,
            26,
            20,
            19,
            16,
            5,
            16,
            1,
            3,
            9,
            7,
            13,
            6,
            24,
            11,
            16,
            5,
            14,
            23,
            7,
            8,
            10,
            1,
            4,
            9,
            17,
            8,
            14,
            20,
            3,
            8,
            11,
            18,
            12,
            22,
            5,
            14,
            3,
            2,
            5,
            7,
            3,
            3,
            2,
            3,
            28,
            4,
            1,
            6,
            4,
            4,
            4,
            5,
            4,
            6,
            4,
            8,
            4,
            2,
            4,
            6,
            4,
            7,
            9,
            1,
            2,
            4,
            6,
            10,
            4,
            5,
            2,
            7,
            5,
            5,
            8,
            6,
            1,
            3,
            4,
            5,
            5,
            3,
            8,
            5,
            7,
            2,
            6,
            4,
            4,
            2,
            3,
            4,
            7,
            5,
            3,
            6,
            5
           ]
          },
          {
           "label": "min_child_samples",
           "range": [
            1,
            10
           ],
           "values": [
            2,
            1,
            6,
            3,
            1,
            4,
            7,
            5,
            3,
            5,
            10,
            7,
            8,
            9,
            6,
            7,
            5,
            8,
            4,
            7,
            10,
            6,
            6,
            5,
            8,
            4,
            7,
            6,
            9,
            3,
            5,
            6,
            6,
            7,
            4,
            6,
            5,
            2,
            8,
            7,
            9,
            7,
            6,
            7,
            8,
            8,
            9,
            8,
            7,
            7,
            5,
            7,
            7,
            7,
            6,
            7,
            7,
            8,
            6,
            7,
            8,
            7,
            7,
            6,
            7,
            8,
            7,
            6,
            9,
            6,
            7,
            7,
            7,
            8,
            7,
            7,
            6,
            8,
            5,
            6,
            7,
            7,
            7,
            8,
            6,
            7,
            6,
            7,
            7,
            8,
            7,
            1,
            7,
            7,
            8,
            7,
            6,
            6,
            5,
            6
           ]
          },
          {
           "label": "n_estimators",
           "range": [
            501,
            999
           ],
           "values": [
            501,
            776,
            693,
            770,
            524,
            595,
            536,
            920,
            774,
            993,
            970,
            896,
            884,
            675,
            861,
            624,
            817,
            942,
            701,
            569,
            830,
            899,
            926,
            935,
            818,
            735,
            938,
            848,
            621,
            508,
            987,
            904,
            918,
            956,
            921,
            799,
            849,
            538,
            738,
            879,
            883,
            975,
            999,
            864,
            871,
            869,
            911,
            877,
            784,
            774,
            799,
            842,
            790,
            802,
            762,
            791,
            711,
            805,
            786,
            832,
            843,
            752,
            751,
            826,
            731,
            674,
            758,
            838,
            815,
            778,
            719,
            789,
            804,
            689,
            768,
            856,
            853,
            827,
            893,
            741,
            835,
            815,
            810,
            811,
            849,
            783,
            858,
            822,
            770,
            953,
            794,
            793,
            831,
            755,
            808,
            779,
            799,
            798,
            763,
            744
           ]
          },
          {
           "label": "num_iterations",
           "range": [
            500,
            1000
           ],
           "values": [
            721,
            539,
            960,
            956,
            945,
            651,
            561,
            770,
            731,
            520,
            842,
            624,
            822,
            837,
            633,
            776,
            585,
            684,
            895,
            769,
            572,
            619,
            586,
            687,
            561,
            521,
            694,
            503,
            593,
            788,
            886,
            609,
            642,
            656,
            553,
            736,
            547,
            663,
            708,
            597,
            752,
            589,
            640,
            530,
            533,
            500,
            801,
            531,
            528,
            602,
            570,
            992,
            934,
            991,
            996,
            987,
            992,
            934,
            963,
            915,
            916,
            975,
            962,
            941,
            870,
            978,
            915,
            970,
            948,
            918,
            927,
            999,
            980,
            894,
            954,
            982,
            975,
            903,
            948,
            858,
            968,
            986,
            1000,
            1000,
            933,
            956,
            674,
            989,
            973,
            939,
            819,
            803,
            837,
            717,
            881,
            960,
            983,
            746,
            924,
            906
           ]
          },
          {
           "label": "num_leaves",
           "range": [
            2,
            32
           ],
           "values": [
            15,
            26,
            4,
            6,
            14,
            10,
            15,
            17,
            12,
            6,
            23,
            20,
            29,
            19,
            18,
            10,
            32,
            23,
            16,
            22,
            12,
            18,
            17,
            14,
            21,
            26,
            9,
            17,
            13,
            16,
            25,
            18,
            15,
            15,
            20,
            8,
            2,
            12,
            14,
            16,
            11,
            16,
            15,
            17,
            19,
            19,
            20,
            25,
            21,
            23,
            21,
            19,
            17,
            22,
            22,
            23,
            28,
            24,
            28,
            22,
            21,
            22,
            22,
            20,
            24,
            19,
            21,
            26,
            18,
            24,
            22,
            23,
            20,
            25,
            23,
            22,
            18,
            14,
            17,
            21,
            22,
            19,
            19,
            20,
            18,
            16,
            19,
            21,
            17,
            15,
            24,
            27,
            24,
            22,
            20,
            23,
            25,
            25,
            27,
            26
           ]
          }
         ],
         "labelangle": 30,
         "labelside": "bottom",
         "line": {
          "color": [
           0.6982129617343824,
           0.6761670418384801,
           0.6956925263077679,
           0.6991855461280962,
           0.6874454760734713,
           0.6843668599326393,
           0.7035787614769454,
           0.708084002368396,
           0.6940957280132244,
           0.5548575298833871,
           0.6981695382406758,
           0.6919267994220013,
           0.6766517829278891,
           0.6862920490396036,
           0.7008402292113125,
           0.6886846246093559,
           0.6752136867735578,
           0.6863777711123931,
           0.6978981023841877,
           0.6821147497090101,
           0.6950278168376125,
           0.7013602537920548,
           0.7030311293173828,
           0.6891266877414368,
           0.5540678316273114,
           0.6970668296496955,
           0.6978929460231356,
           0.6872948696309286,
           0.6941749393109442,
           0.6828349298488409,
           0.6846087827255146,
           0.6976481243404918,
           0.7086912846375023,
           0.6955527963848825,
           0.6842849320359459,
           0.690360393274237,
           0.5570474315361215,
           0.6932711630456413,
           0.681409909623081,
           0.7074495872920041,
           0.6471310685642582,
           0.6984724649962365,
           0.6954746303979453,
           0.7068231523363593,
           0.7062511831159023,
           0.6453377602330252,
           0.6984459286379053,
           0.6808901526848119,
           0.7097592753019845,
           0.5567295946523286,
           0.7029129079696362,
           0.7081385378390872,
           0.7082195578913858,
           0.7081453458216828,
           0.6975606937303654,
           0.7081179825306444,
           0.7040162445760016,
           0.7032994339984076,
           0.6679948630207743,
           0.708263135392693,
           0.653248797644037,
           0.7082360617413095,
           0.7037191504132725,
           0.7000875437063966,
           0.6852223846514279,
           0.6835089266177927,
           0.5732046358648349,
           0.6592662225849455,
           0.6987956586424339,
           0.7036096338761106,
           0.6963375120203334,
           0.7080887233977926,
           0.7032839411317394,
           0.6526570955596822,
           0.6750089503944687,
           0.71654037293045,
           0.6982886300103911,
           0.6801002538186208,
           0.6981605110319056,
           0.5760719797669751,
           0.704914382285754,
           0.7081351605457529,
           0.7085056728579906,
           0.7009960492361984,
           0.6984354318181578,
           0.6911141053076676,
           0.7025838729969941,
           0.6821274369829613,
           0.6500845735013074,
           0.6997828064445292,
           0.708447534563599,
           0.7003753919419682,
           0.6478834234653224,
           0.7068922130155533,
           0.7035630300431432,
           0.6750073547283014,
           0.709989089666007,
           0.6972775839672806,
           0.7001204308422612,
           0.705505371821527
          ],
          "colorbar": {
           "title": {
            "text": "Objective Value"
           }
          },
          "colorscale": [
           [
            0,
            "rgb(247,251,255)"
           ],
           [
            0.125,
            "rgb(222,235,247)"
           ],
           [
            0.25,
            "rgb(198,219,239)"
           ],
           [
            0.375,
            "rgb(158,202,225)"
           ],
           [
            0.5,
            "rgb(107,174,214)"
           ],
           [
            0.625,
            "rgb(66,146,198)"
           ],
           [
            0.75,
            "rgb(33,113,181)"
           ],
           [
            0.875,
            "rgb(8,81,156)"
           ],
           [
            1,
            "rgb(8,48,107)"
           ]
          ],
          "reversescale": false,
          "showscale": true
         },
         "type": "parcoords"
        }
       ],
       "layout": {
        "template": {
         "data": {
          "bar": [
           {
            "error_x": {
             "color": "#2a3f5f"
            },
            "error_y": {
             "color": "#2a3f5f"
            },
            "marker": {
             "line": {
              "color": "#E5ECF6",
              "width": 0.5
             },
             "pattern": {
              "fillmode": "overlay",
              "size": 10,
              "solidity": 0.2
             }
            },
            "type": "bar"
           }
          ],
          "barpolar": [
           {
            "marker": {
             "line": {
              "color": "#E5ECF6",
              "width": 0.5
             },
             "pattern": {
              "fillmode": "overlay",
              "size": 10,
              "solidity": 0.2
             }
            },
            "type": "barpolar"
           }
          ],
          "carpet": [
           {
            "aaxis": {
             "endlinecolor": "#2a3f5f",
             "gridcolor": "white",
             "linecolor": "white",
             "minorgridcolor": "white",
             "startlinecolor": "#2a3f5f"
            },
            "baxis": {
             "endlinecolor": "#2a3f5f",
             "gridcolor": "white",
             "linecolor": "white",
             "minorgridcolor": "white",
             "startlinecolor": "#2a3f5f"
            },
            "type": "carpet"
           }
          ],
          "choropleth": [
           {
            "colorbar": {
             "outlinewidth": 0,
             "ticks": ""
            },
            "type": "choropleth"
           }
          ],
          "contour": [
           {
            "colorbar": {
             "outlinewidth": 0,
             "ticks": ""
            },
            "colorscale": [
             [
              0,
              "#0d0887"
             ],
             [
              0.1111111111111111,
              "#46039f"
             ],
             [
              0.2222222222222222,
              "#7201a8"
             ],
             [
              0.3333333333333333,
              "#9c179e"
             ],
             [
              0.4444444444444444,
              "#bd3786"
             ],
             [
              0.5555555555555556,
              "#d8576b"
             ],
             [
              0.6666666666666666,
              "#ed7953"
             ],
             [
              0.7777777777777778,
              "#fb9f3a"
             ],
             [
              0.8888888888888888,
              "#fdca26"
             ],
             [
              1,
              "#f0f921"
             ]
            ],
            "type": "contour"
           }
          ],
          "contourcarpet": [
           {
            "colorbar": {
             "outlinewidth": 0,
             "ticks": ""
            },
            "type": "contourcarpet"
           }
          ],
          "heatmap": [
           {
            "colorbar": {
             "outlinewidth": 0,
             "ticks": ""
            },
            "colorscale": [
             [
              0,
              "#0d0887"
             ],
             [
              0.1111111111111111,
              "#46039f"
             ],
             [
              0.2222222222222222,
              "#7201a8"
             ],
             [
              0.3333333333333333,
              "#9c179e"
             ],
             [
              0.4444444444444444,
              "#bd3786"
             ],
             [
              0.5555555555555556,
              "#d8576b"
             ],
             [
              0.6666666666666666,
              "#ed7953"
             ],
             [
              0.7777777777777778,
              "#fb9f3a"
             ],
             [
              0.8888888888888888,
              "#fdca26"
             ],
             [
              1,
              "#f0f921"
             ]
            ],
            "type": "heatmap"
           }
          ],
          "heatmapgl": [
           {
            "colorbar": {
             "outlinewidth": 0,
             "ticks": ""
            },
            "colorscale": [
             [
              0,
              "#0d0887"
             ],
             [
              0.1111111111111111,
              "#46039f"
             ],
             [
              0.2222222222222222,
              "#7201a8"
             ],
             [
              0.3333333333333333,
              "#9c179e"
             ],
             [
              0.4444444444444444,
              "#bd3786"
             ],
             [
              0.5555555555555556,
              "#d8576b"
             ],
             [
              0.6666666666666666,
              "#ed7953"
             ],
             [
              0.7777777777777778,
              "#fb9f3a"
             ],
             [
              0.8888888888888888,
              "#fdca26"
             ],
             [
              1,
              "#f0f921"
             ]
            ],
            "type": "heatmapgl"
           }
          ],
          "histogram": [
           {
            "marker": {
             "pattern": {
              "fillmode": "overlay",
              "size": 10,
              "solidity": 0.2
             }
            },
            "type": "histogram"
           }
          ],
          "histogram2d": [
           {
            "colorbar": {
             "outlinewidth": 0,
             "ticks": ""
            },
            "colorscale": [
             [
              0,
              "#0d0887"
             ],
             [
              0.1111111111111111,
              "#46039f"
             ],
             [
              0.2222222222222222,
              "#7201a8"
             ],
             [
              0.3333333333333333,
              "#9c179e"
             ],
             [
              0.4444444444444444,
              "#bd3786"
             ],
             [
              0.5555555555555556,
              "#d8576b"
             ],
             [
              0.6666666666666666,
              "#ed7953"
             ],
             [
              0.7777777777777778,
              "#fb9f3a"
             ],
             [
              0.8888888888888888,
              "#fdca26"
             ],
             [
              1,
              "#f0f921"
             ]
            ],
            "type": "histogram2d"
           }
          ],
          "histogram2dcontour": [
           {
            "colorbar": {
             "outlinewidth": 0,
             "ticks": ""
            },
            "colorscale": [
             [
              0,
              "#0d0887"
             ],
             [
              0.1111111111111111,
              "#46039f"
             ],
             [
              0.2222222222222222,
              "#7201a8"
             ],
             [
              0.3333333333333333,
              "#9c179e"
             ],
             [
              0.4444444444444444,
              "#bd3786"
             ],
             [
              0.5555555555555556,
              "#d8576b"
             ],
             [
              0.6666666666666666,
              "#ed7953"
             ],
             [
              0.7777777777777778,
              "#fb9f3a"
             ],
             [
              0.8888888888888888,
              "#fdca26"
             ],
             [
              1,
              "#f0f921"
             ]
            ],
            "type": "histogram2dcontour"
           }
          ],
          "mesh3d": [
           {
            "colorbar": {
             "outlinewidth": 0,
             "ticks": ""
            },
            "type": "mesh3d"
           }
          ],
          "parcoords": [
           {
            "line": {
             "colorbar": {
              "outlinewidth": 0,
              "ticks": ""
             }
            },
            "type": "parcoords"
           }
          ],
          "pie": [
           {
            "automargin": true,
            "type": "pie"
           }
          ],
          "scatter": [
           {
            "marker": {
             "colorbar": {
              "outlinewidth": 0,
              "ticks": ""
             }
            },
            "type": "scatter"
           }
          ],
          "scatter3d": [
           {
            "line": {
             "colorbar": {
              "outlinewidth": 0,
              "ticks": ""
             }
            },
            "marker": {
             "colorbar": {
              "outlinewidth": 0,
              "ticks": ""
             }
            },
            "type": "scatter3d"
           }
          ],
          "scattercarpet": [
           {
            "marker": {
             "colorbar": {
              "outlinewidth": 0,
              "ticks": ""
             }
            },
            "type": "scattercarpet"
           }
          ],
          "scattergeo": [
           {
            "marker": {
             "colorbar": {
              "outlinewidth": 0,
              "ticks": ""
             }
            },
            "type": "scattergeo"
           }
          ],
          "scattergl": [
           {
            "marker": {
             "colorbar": {
              "outlinewidth": 0,
              "ticks": ""
             }
            },
            "type": "scattergl"
           }
          ],
          "scattermapbox": [
           {
            "marker": {
             "colorbar": {
              "outlinewidth": 0,
              "ticks": ""
             }
            },
            "type": "scattermapbox"
           }
          ],
          "scatterpolar": [
           {
            "marker": {
             "colorbar": {
              "outlinewidth": 0,
              "ticks": ""
             }
            },
            "type": "scatterpolar"
           }
          ],
          "scatterpolargl": [
           {
            "marker": {
             "colorbar": {
              "outlinewidth": 0,
              "ticks": ""
             }
            },
            "type": "scatterpolargl"
           }
          ],
          "scatterternary": [
           {
            "marker": {
             "colorbar": {
              "outlinewidth": 0,
              "ticks": ""
             }
            },
            "type": "scatterternary"
           }
          ],
          "surface": [
           {
            "colorbar": {
             "outlinewidth": 0,
             "ticks": ""
            },
            "colorscale": [
             [
              0,
              "#0d0887"
             ],
             [
              0.1111111111111111,
              "#46039f"
             ],
             [
              0.2222222222222222,
              "#7201a8"
             ],
             [
              0.3333333333333333,
              "#9c179e"
             ],
             [
              0.4444444444444444,
              "#bd3786"
             ],
             [
              0.5555555555555556,
              "#d8576b"
             ],
             [
              0.6666666666666666,
              "#ed7953"
             ],
             [
              0.7777777777777778,
              "#fb9f3a"
             ],
             [
              0.8888888888888888,
              "#fdca26"
             ],
             [
              1,
              "#f0f921"
             ]
            ],
            "type": "surface"
           }
          ],
          "table": [
           {
            "cells": {
             "fill": {
              "color": "#EBF0F8"
             },
             "line": {
              "color": "white"
             }
            },
            "header": {
             "fill": {
              "color": "#C8D4E3"
             },
             "line": {
              "color": "white"
             }
            },
            "type": "table"
           }
          ]
         },
         "layout": {
          "annotationdefaults": {
           "arrowcolor": "#2a3f5f",
           "arrowhead": 0,
           "arrowwidth": 1
          },
          "autotypenumbers": "strict",
          "coloraxis": {
           "colorbar": {
            "outlinewidth": 0,
            "ticks": ""
           }
          },
          "colorscale": {
           "diverging": [
            [
             0,
             "#8e0152"
            ],
            [
             0.1,
             "#c51b7d"
            ],
            [
             0.2,
             "#de77ae"
            ],
            [
             0.3,
             "#f1b6da"
            ],
            [
             0.4,
             "#fde0ef"
            ],
            [
             0.5,
             "#f7f7f7"
            ],
            [
             0.6,
             "#e6f5d0"
            ],
            [
             0.7,
             "#b8e186"
            ],
            [
             0.8,
             "#7fbc41"
            ],
            [
             0.9,
             "#4d9221"
            ],
            [
             1,
             "#276419"
            ]
           ],
           "sequential": [
            [
             0,
             "#0d0887"
            ],
            [
             0.1111111111111111,
             "#46039f"
            ],
            [
             0.2222222222222222,
             "#7201a8"
            ],
            [
             0.3333333333333333,
             "#9c179e"
            ],
            [
             0.4444444444444444,
             "#bd3786"
            ],
            [
             0.5555555555555556,
             "#d8576b"
            ],
            [
             0.6666666666666666,
             "#ed7953"
            ],
            [
             0.7777777777777778,
             "#fb9f3a"
            ],
            [
             0.8888888888888888,
             "#fdca26"
            ],
            [
             1,
             "#f0f921"
            ]
           ],
           "sequentialminus": [
            [
             0,
             "#0d0887"
            ],
            [
             0.1111111111111111,
             "#46039f"
            ],
            [
             0.2222222222222222,
             "#7201a8"
            ],
            [
             0.3333333333333333,
             "#9c179e"
            ],
            [
             0.4444444444444444,
             "#bd3786"
            ],
            [
             0.5555555555555556,
             "#d8576b"
            ],
            [
             0.6666666666666666,
             "#ed7953"
            ],
            [
             0.7777777777777778,
             "#fb9f3a"
            ],
            [
             0.8888888888888888,
             "#fdca26"
            ],
            [
             1,
             "#f0f921"
            ]
           ]
          },
          "colorway": [
           "#636efa",
           "#EF553B",
           "#00cc96",
           "#ab63fa",
           "#FFA15A",
           "#19d3f3",
           "#FF6692",
           "#B6E880",
           "#FF97FF",
           "#FECB52"
          ],
          "font": {
           "color": "#2a3f5f"
          },
          "geo": {
           "bgcolor": "white",
           "lakecolor": "white",
           "landcolor": "#E5ECF6",
           "showlakes": true,
           "showland": true,
           "subunitcolor": "white"
          },
          "hoverlabel": {
           "align": "left"
          },
          "hovermode": "closest",
          "mapbox": {
           "style": "light"
          },
          "paper_bgcolor": "white",
          "plot_bgcolor": "#E5ECF6",
          "polar": {
           "angularaxis": {
            "gridcolor": "white",
            "linecolor": "white",
            "ticks": ""
           },
           "bgcolor": "#E5ECF6",
           "radialaxis": {
            "gridcolor": "white",
            "linecolor": "white",
            "ticks": ""
           }
          },
          "scene": {
           "xaxis": {
            "backgroundcolor": "#E5ECF6",
            "gridcolor": "white",
            "gridwidth": 2,
            "linecolor": "white",
            "showbackground": true,
            "ticks": "",
            "zerolinecolor": "white"
           },
           "yaxis": {
            "backgroundcolor": "#E5ECF6",
            "gridcolor": "white",
            "gridwidth": 2,
            "linecolor": "white",
            "showbackground": true,
            "ticks": "",
            "zerolinecolor": "white"
           },
           "zaxis": {
            "backgroundcolor": "#E5ECF6",
            "gridcolor": "white",
            "gridwidth": 2,
            "linecolor": "white",
            "showbackground": true,
            "ticks": "",
            "zerolinecolor": "white"
           }
          },
          "shapedefaults": {
           "line": {
            "color": "#2a3f5f"
           }
          },
          "ternary": {
           "aaxis": {
            "gridcolor": "white",
            "linecolor": "white",
            "ticks": ""
           },
           "baxis": {
            "gridcolor": "white",
            "linecolor": "white",
            "ticks": ""
           },
           "bgcolor": "#E5ECF6",
           "caxis": {
            "gridcolor": "white",
            "linecolor": "white",
            "ticks": ""
           }
          },
          "title": {
           "x": 0.05
          },
          "xaxis": {
           "automargin": true,
           "gridcolor": "white",
           "linecolor": "white",
           "ticks": "",
           "title": {
            "standoff": 15
           },
           "zerolinecolor": "white",
           "zerolinewidth": 2
          },
          "yaxis": {
           "automargin": true,
           "gridcolor": "white",
           "linecolor": "white",
           "ticks": "",
           "title": {
            "standoff": 15
           },
           "zerolinecolor": "white",
           "zerolinewidth": 2
          }
         }
        },
        "title": {
         "text": "Parallel Coordinate Plot"
        }
       }
      }
     },
     "metadata": {},
     "output_type": "display_data"
    }
   ],
   "source": [
    "optuna.visualization.plot_parallel_coordinate(study)"
   ]
  },
  {
   "cell_type": "code",
   "execution_count": null,
   "id": "1d419df8",
   "metadata": {},
   "outputs": [
    {
     "name": "stdout",
     "output_type": "stream",
     "text": [
      "Best trial: {'n_estimators': 856, 'max_depth': 5, 'num_leaves': 22, 'min_child_samples': 7, 'num_iterations': 982}\n"
     ]
    },
    {
     "data": {
      "text/plain": [
       "856"
      ]
     },
     "execution_count": 70,
     "metadata": {},
     "output_type": "execute_result"
    }
   ],
   "source": [
    "print(\"Best trial:\", study.best_trial.params)\n",
    "study.best_trial.params[\"n_estimators\"]"
   ]
  },
  {
   "cell_type": "code",
   "execution_count": null,
   "id": "ffefef6c",
   "metadata": {},
   "outputs": [
    {
     "data": {
      "text/html": [
       "<style>#sk-container-id-3 {color: black;background-color: white;}#sk-container-id-3 pre{padding: 0;}#sk-container-id-3 div.sk-toggleable {background-color: white;}#sk-container-id-3 label.sk-toggleable__label {cursor: pointer;display: block;width: 100%;margin-bottom: 0;padding: 0.3em;box-sizing: border-box;text-align: center;}#sk-container-id-3 label.sk-toggleable__label-arrow:before {content: \"▸\";float: left;margin-right: 0.25em;color: #696969;}#sk-container-id-3 label.sk-toggleable__label-arrow:hover:before {color: black;}#sk-container-id-3 div.sk-estimator:hover label.sk-toggleable__label-arrow:before {color: black;}#sk-container-id-3 div.sk-toggleable__content {max-height: 0;max-width: 0;overflow: hidden;text-align: left;background-color: #f0f8ff;}#sk-container-id-3 div.sk-toggleable__content pre {margin: 0.2em;color: black;border-radius: 0.25em;background-color: #f0f8ff;}#sk-container-id-3 input.sk-toggleable__control:checked~div.sk-toggleable__content {max-height: 200px;max-width: 100%;overflow: auto;}#sk-container-id-3 input.sk-toggleable__control:checked~label.sk-toggleable__label-arrow:before {content: \"▾\";}#sk-container-id-3 div.sk-estimator input.sk-toggleable__control:checked~label.sk-toggleable__label {background-color: #d4ebff;}#sk-container-id-3 div.sk-label input.sk-toggleable__control:checked~label.sk-toggleable__label {background-color: #d4ebff;}#sk-container-id-3 input.sk-hidden--visually {border: 0;clip: rect(1px 1px 1px 1px);clip: rect(1px, 1px, 1px, 1px);height: 1px;margin: -1px;overflow: hidden;padding: 0;position: absolute;width: 1px;}#sk-container-id-3 div.sk-estimator {font-family: monospace;background-color: #f0f8ff;border: 1px dotted black;border-radius: 0.25em;box-sizing: border-box;margin-bottom: 0.5em;}#sk-container-id-3 div.sk-estimator:hover {background-color: #d4ebff;}#sk-container-id-3 div.sk-parallel-item::after {content: \"\";width: 100%;border-bottom: 1px solid gray;flex-grow: 1;}#sk-container-id-3 div.sk-label:hover label.sk-toggleable__label {background-color: #d4ebff;}#sk-container-id-3 div.sk-serial::before {content: \"\";position: absolute;border-left: 1px solid gray;box-sizing: border-box;top: 0;bottom: 0;left: 50%;z-index: 0;}#sk-container-id-3 div.sk-serial {display: flex;flex-direction: column;align-items: center;background-color: white;padding-right: 0.2em;padding-left: 0.2em;position: relative;}#sk-container-id-3 div.sk-item {position: relative;z-index: 1;}#sk-container-id-3 div.sk-parallel {display: flex;align-items: stretch;justify-content: center;background-color: white;position: relative;}#sk-container-id-3 div.sk-item::before, #sk-container-id-3 div.sk-parallel-item::before {content: \"\";position: absolute;border-left: 1px solid gray;box-sizing: border-box;top: 0;bottom: 0;left: 50%;z-index: -1;}#sk-container-id-3 div.sk-parallel-item {display: flex;flex-direction: column;z-index: 1;position: relative;background-color: white;}#sk-container-id-3 div.sk-parallel-item:first-child::after {align-self: flex-end;width: 50%;}#sk-container-id-3 div.sk-parallel-item:last-child::after {align-self: flex-start;width: 50%;}#sk-container-id-3 div.sk-parallel-item:only-child::after {width: 0;}#sk-container-id-3 div.sk-dashed-wrapped {border: 1px dashed gray;margin: 0 0.4em 0.5em 0.4em;box-sizing: border-box;padding-bottom: 0.4em;background-color: white;}#sk-container-id-3 div.sk-label label {font-family: monospace;font-weight: bold;display: inline-block;line-height: 1.2em;}#sk-container-id-3 div.sk-label-container {text-align: center;}#sk-container-id-3 div.sk-container {/* jupyter's `normalize.less` sets `[hidden] { display: none; }` but bootstrap.min.css set `[hidden] { display: none !important; }` so we also need the `!important` here to be able to override the default hidden behavior on the sphinx rendered scikit-learn.org. See: https://github.com/scikit-learn/scikit-learn/issues/21755 */display: inline-block !important;position: relative;}#sk-container-id-3 div.sk-text-repr-fallback {display: none;}</style><div id=\"sk-container-id-3\" class=\"sk-top-container\"><div class=\"sk-text-repr-fallback\"><pre>LGBMRegressor(max_depth=5, min_child_samples=7, n_estimators=856,\n",
       "              num_iterations=982, num_leaves=22, random_state=42)</pre><b>In a Jupyter environment, please rerun this cell to show the HTML representation or trust the notebook. <br />On GitHub, the HTML representation is unable to render, please try loading this page with nbviewer.org.</b></div><div class=\"sk-container\" hidden><div class=\"sk-item\"><div class=\"sk-estimator sk-toggleable\"><input class=\"sk-toggleable__control sk-hidden--visually\" id=\"sk-estimator-id-3\" type=\"checkbox\" checked><label for=\"sk-estimator-id-3\" class=\"sk-toggleable__label sk-toggleable__label-arrow\">LGBMRegressor</label><div class=\"sk-toggleable__content\"><pre>LGBMRegressor(max_depth=5, min_child_samples=7, n_estimators=856,\n",
       "              num_iterations=982, num_leaves=22, random_state=42)</pre></div></div></div></div></div>"
      ],
      "text/plain": [
       "LGBMRegressor(max_depth=5, min_child_samples=7, n_estimators=856,\n",
       "              num_iterations=982, num_leaves=22, random_state=42)"
      ]
     },
     "execution_count": 71,
     "metadata": {},
     "output_type": "execute_result"
    }
   ],
   "source": [
    "lgbm_params = {\n",
    "    \"random_state\": 42,\n",
    "    \"learning_rate\": 0.1,\n",
    "    \"n_estimators\": study.best_trial.params[\"n_estimators\"],\n",
    "    \"max_depth\": study.best_trial.params[\"max_depth\"],\n",
    "    \"num_leaves\": study.best_trial.params[\"num_leaves\"],\n",
    "    \"min_child_samples\": study.best_trial.params[\"min_child_samples\"],\n",
    "    \"num_iterations\": study.best_trial.params[\"num_iterations\"]\n",
    "}\n",
    "\n",
    "lgbm = LGBMRegressor(**lgbm_params)\n",
    "lgbm.fit(Ni_X_train, Ni_y_train)"
   ]
  },
  {
   "cell_type": "code",
   "execution_count": null,
   "id": "4c1a69d2",
   "metadata": {},
   "outputs": [],
   "source": [
    "y_train_pred = lgbm.predict(Ni_X_train)\n",
    "y_test_pred = lgbm.predict(Ni_X_test)"
   ]
  },
  {
   "cell_type": "code",
   "execution_count": null,
   "id": "0f707a20",
   "metadata": {},
   "outputs": [
    {
     "name": "stdout",
     "output_type": "stream",
     "text": [
      "Train RMSE:  0.020959482746126138\n",
      "Test RMSE:  0.5901906056810753\n"
     ]
    }
   ],
   "source": [
    "print(\"Train RMSE: \", np.sqrt(mean_squared_error(Ni_y_train, y_train_pred)))\n",
    "print(\"Test RMSE: \", np.sqrt(mean_squared_error(Ni_y_test, y_test_pred)))"
   ]
  },
  {
   "cell_type": "code",
   "execution_count": null,
   "id": "641d78f4",
   "metadata": {},
   "outputs": [
    {
     "name": "stdout",
     "output_type": "stream",
     "text": [
      "Train R2:  0.9996799422941349\n",
      "Test R2:  0.7629694851870055\n"
     ]
    }
   ],
   "source": [
    "print(\"Train R2: \", r2_score(Ni_y_train, y_train_pred))\n",
    "print(\"Test R2: \", r2_score(Ni_y_test, y_test_pred))"
   ]
  },
  {
   "cell_type": "code",
   "execution_count": null,
   "id": "badc2f1d",
   "metadata": {},
   "outputs": [
    {
     "data": {
      "image/png": "[encoded data removed]",
      "text/plain": [
       "<Figure size 432x288 with 1 Axes>"
      ]
     },
     "metadata": {
      "needs_background": "light"
     },
     "output_type": "display_data"
    }
   ],
   "source": [
    "plt.scatter(y_train_pred, np.array(Ni_y_train), color=\"orange\", alpha=0.3)\n",
    "plt.scatter(y_test_pred, np.array(Ni_y_test), color=\"green\", alpha=0.4)\n",
    "plt.axis(\"auto\") # scaled, tight, auto, image, square\n",
    "# plt.xlim([0, 1.5]) \n",
    "# plt.ylim(0, None) \n",
    "plt.xlabel('Predicted Values')\n",
    "plt.ylabel('Actual Values')\n",
    "\n",
    "# Add y=x line\n",
    "plt.plot([0, 4.0], [0, 4.0], color='red', linestyle='-')\n",
    "\n",
    "plt.show()"
   ]
  }
 ],
 "metadata": {
  "kernelspec": {
   "display_name": "Python 3",
   "language": "python",
   "name": "python3"
  },
  "language_info": {
   "codemirror_mode": {
    "name": "ipython",
    "version": 3
   },
   "file_extension": ".py",
   "mimetype": "text/x-python",
   "name": "python",
   "nbconvert_exporter": "python",
   "pygments_lexer": "ipython3",
   "version": "3.8.11"
  }
 },
 "nbformat": 4,
 "nbformat_minor": 5
}
