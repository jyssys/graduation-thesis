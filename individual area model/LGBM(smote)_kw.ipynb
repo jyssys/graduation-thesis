{
 "cells": [
  {
   "attachments": {},
   "cell_type": "markdown",
   "id": "451911be",
   "metadata": {},
   "source": [
    "#### Library import"
   ]
  },
  {
   "cell_type": "code",
   "execution_count": 1,
   "id": "8a394942",
   "metadata": {},
   "outputs": [],
   "source": [
    "import os\n",
    "import pandas as pd\n",
    "import numpy as np\n",
    "import matplotlib.pyplot as plt\n",
    "%matplotlib inline\n",
    "import seaborn as sns\n",
    "import tensorflow as tf\n",
    "import missingno as msno\n",
    "\n",
    "import warnings\n",
    "warnings.filterwarnings('ignore')\n",
    "\n",
    "from sklearn.model_selection import train_test_split\n",
    "from sklearn.model_selection import GridSearchCV\n",
    "from sklearn.metrics import mean_squared_error, r2_score\n",
    "from sklearn.preprocessing import StandardScaler, MinMaxScaler, RobustScaler\n",
    "from sklearn.ensemble import RandomForestRegressor, GradientBoostingRegressor, ExtraTreesRegressor\n",
    "from sklearn.model_selection import KFold\n",
    "from lightgbm import LGBMRegressor\n",
    "from xgboost import XGBRegressor\n",
    "from ngboost import NGBRegressor\n",
    "from scipy.stats import norm, skew\n",
    "\n",
    "from matplotlib.ticker import FormatStrFormatter\n",
    "\n",
    "import re\n",
    "from tqdm import tqdm"
   ]
  },
  {
   "attachments": {},
   "cell_type": "markdown",
   "id": "31a13d68",
   "metadata": {},
   "source": [
    "#### GPU setting"
   ]
  },
  {
   "cell_type": "code",
   "execution_count": 2,
   "id": "0ff69fbf",
   "metadata": {},
   "outputs": [],
   "source": [
    "from tensorflow.compat.v1 import ConfigProto\n",
    "from tensorflow.compat.v1 import InteractiveSession"
   ]
  },
  {
   "cell_type": "code",
   "execution_count": 3,
   "id": "1c359e17",
   "metadata": {},
   "outputs": [],
   "source": [
    "config = ConfigProto()\n",
    "config.gpu_options.per_process_gpu_memory_fraction = 0.4\n",
    "session = InteractiveSession(config = config)"
   ]
  },
  {
   "cell_type": "code",
   "execution_count": 4,
   "id": "c1894e3b",
   "metadata": {},
   "outputs": [
    {
     "name": "stdout",
     "output_type": "stream",
     "text": [
      "[name: \"/device:CPU:0\"\n",
      "device_type: \"CPU\"\n",
      "memory_limit: 268435456\n",
      "locality {\n",
      "}\n",
      "incarnation: 11560287136202503690\n",
      ", name: \"/device:GPU:0\"\n",
      "device_type: \"GPU\"\n",
      "memory_limit: 3435973836\n",
      "locality {\n",
      "  bus_id: 1\n",
      "  links {\n",
      "  }\n",
      "}\n",
      "incarnation: 14404712895208348758\n",
      "physical_device_desc: \"device: 0, name: NVIDIA GeForce RTX 3060 Ti, pci bus id: 0000:07:00.0, compute capability: 8.6\"\n",
      "]\n"
     ]
    }
   ],
   "source": [
    "physical_devices = tf.config.list_physical_devices('GPU')\n",
    "physical_devices\n",
    "\n",
    "from tensorflow.python.client import device_lib\n",
    "\n",
    "print(device_lib.list_local_devices())"
   ]
  },
  {
   "cell_type": "code",
   "execution_count": 5,
   "id": "324427e4",
   "metadata": {},
   "outputs": [],
   "source": [
    "import os\n",
    "\n",
    "os.environ[\"CUDA_VISIBLE_DEVICES\"]=\"0\"\n",
    "gpus = tf.config.experimental.list_physical_devices('GPU')\n",
    "if gpus:\n",
    "    try:\n",
    "        tf.config.experimental.set_memory_growth(gpus[0], True)\n",
    "    except RuntimeError as e:\n",
    "        print(e)"
   ]
  },
  {
   "attachments": {},
   "cell_type": "markdown",
   "id": "cb740f81",
   "metadata": {},
   "source": [
    "#### Data import and preprocessing"
   ]
  },
  {
   "cell_type": "code",
   "execution_count": 6,
   "id": "9288345d",
   "metadata": {
    "scrolled": true
   },
   "outputs": [
    {
     "data": {
      "text/plain": [
       "Index(['OBJECTID_x', 'ID', 'pH', 'As', 'Cd', 'Ni', 'Pb', 'Zn', 'Hg', 'slope',\n",
       "       'altitude', 'profile_curve', 'profile_c_num', 'profile_c_abs',\n",
       "       'planform_curve', 'planform_c_num', 'planform_c_abs', 'HYDGRP',\n",
       "       'HYDGRP_A', 'HYDGRP_B', 'HYDGRP_C', 'HYDGRP_D', 'ANION_EXCL', 'SOL_CRK',\n",
       "       'SOL_K1', 'CLAY1', 'SILT1', 'SAND1', 'ROCK1', 'SOL_EC1', 'distance'],\n",
       "      dtype='object')"
      ]
     },
     "execution_count": 6,
     "metadata": {},
     "output_type": "execute_result"
    }
   ],
   "source": [
    "data = pd.read_csv(\"data/data_kw.csv\")\n",
    "data.columns"
   ]
  },
  {
   "cell_type": "code",
   "execution_count": 7,
   "id": "bbf87a23",
   "metadata": {},
   "outputs": [
    {
     "data": {
      "text/plain": [
       "Index(['pH', 'As', 'Cd', 'Ni', 'Pb', 'Zn', 'Hg', 'slope', 'altitude',\n",
       "       'profile_curve', 'planform_curve', 'HYDGRP_A', 'HYDGRP_B', 'HYDGRP_C',\n",
       "       'HYDGRP_D', 'SOL_K1', 'CLAY1', 'SILT1', 'SAND1', 'ROCK1', 'distance'],\n",
       "      dtype='object')"
      ]
     },
     "execution_count": 7,
     "metadata": {},
     "output_type": "execute_result"
    }
   ],
   "source": [
    "data = data.drop(['OBJECTID_x','ID','HYDGRP','profile_c_num', 'profile_c_abs','planform_c_num', 'planform_c_abs','ANION_EXCL','SOL_CRK','SOL_EC1'], axis = 1)\n",
    "data.columns"
   ]
  },
  {
   "cell_type": "code",
   "execution_count": 8,
   "id": "8d9bad18",
   "metadata": {},
   "outputs": [],
   "source": [
    "As = data\n",
    "Cd = data\n",
    "Ni = data"
   ]
  },
  {
   "cell_type": "code",
   "execution_count": 9,
   "id": "b1dbe457",
   "metadata": {},
   "outputs": [],
   "source": [
    "As = As.drop([\"Cd\", \"Ni\", \"Pb\", \"Zn\", \"Hg\"], axis = 1)\n",
    "Cd = Cd.drop([\"As\", \"Ni\", \"Pb\", \"Zn\", \"Hg\"], axis = 1)\n",
    "Ni = Ni.drop([\"As\", \"Cd\", \"Pb\", \"Zn\", \"Hg\"], axis = 1)"
   ]
  },
  {
   "cell_type": "code",
   "execution_count": 10,
   "id": "3077737a",
   "metadata": {},
   "outputs": [
    {
     "name": "stdout",
     "output_type": "stream",
     "text": [
      "(677, 16)\n",
      "(677, 16)\n",
      "(677, 16)\n"
     ]
    }
   ],
   "source": [
    "print(As.shape)\n",
    "print(Cd.shape)\n",
    "print(Ni.shape)"
   ]
  },
  {
   "cell_type": "markdown",
   "id": "89adead2",
   "metadata": {},
   "source": [
    "#### Oversampling by SMOGN (SMOTE Regression)"
   ]
  },
  {
   "cell_type": "code",
   "execution_count": 11,
   "id": "d0a159ca",
   "metadata": {},
   "outputs": [],
   "source": [
    "import smogn"
   ]
  },
  {
   "cell_type": "code",
   "execution_count": 12,
   "id": "d5fd8af3",
   "metadata": {},
   "outputs": [
    {
     "name": "stderr",
     "output_type": "stream",
     "text": [
      "dist_matrix:   0%|          | 0/134 [00:00<?, ?it/s]"
     ]
    },
    {
     "name": "stderr",
     "output_type": "stream",
     "text": [
      "dist_matrix: 100%|##########| 134/134 [00:08<00:00, 16.50it/s]\n",
      "synth_matrix: 100%|##########| 134/134 [00:00<00:00, 149.19it/s]\n",
      "dist_matrix: 100%|##########| 159/159 [00:12<00:00, 12.36it/s]\n",
      "synth_matrix: 100%|##########| 159/159 [00:00<00:00, 185.33it/s]\n",
      "r_index: 100%|##########| 47/47 [00:00<00:00, 378.95it/s]\n",
      "dist_matrix: 100%|##########| 127/127 [00:09<00:00, 13.19it/s]\n",
      "synth_matrix: 100%|##########| 127/127 [00:00<00:00, 138.36it/s]\n",
      "r_index: 100%|##########| 38/38 [00:00<00:00, 417.49it/s]\n"
     ]
    }
   ],
   "source": [
    "As_smogn = smogn.smoter(data = As, y = 'As', samp_method = 'extreme')\n",
    "Cd_smogn = smogn.smoter(data = Cd, y = 'Cd', samp_method = 'extreme')\n",
    "Ni_smogn = smogn.smoter(data = Ni, y = 'Ni', samp_method = 'extreme')"
   ]
  },
  {
   "cell_type": "code",
   "execution_count": 13,
   "id": "ea3035fe",
   "metadata": {},
   "outputs": [
    {
     "name": "stdout",
     "output_type": "stream",
     "text": [
      "(971, 16)\n",
      "(887, 16)\n",
      "(986, 16)\n"
     ]
    }
   ],
   "source": [
    "print(As_smogn.shape)\n",
    "print(Cd_smogn.shape)\n",
    "print(Ni_smogn.shape)"
   ]
  },
  {
   "attachments": {},
   "cell_type": "markdown",
   "id": "ed72a9b1",
   "metadata": {},
   "source": [
    "#### Eliminate outlier and train / test split"
   ]
  },
  {
   "cell_type": "code",
   "execution_count": 14,
   "id": "43604a42",
   "metadata": {},
   "outputs": [],
   "source": [
    "def eli_outlier(data, value):\n",
    "    q1 = data[value].quantile(0.25)\n",
    "    q3 = data[value].quantile(0.75)\n",
    "\n",
    "    iqr = q3 - q1\n",
    "\n",
    "    q1_condition = data[value] < q1-1.5*iqr\n",
    "    q3_condition = data[value] > q3+1.5*iqr\n",
    "\n",
    "    reset_q1_index = data[q1_condition].index\n",
    "    reset_q3_index = data[q3_condition].index\n",
    "\n",
    "    data.drop(reset_q1_index, inplace = True)\n",
    "    data.drop(reset_q3_index, inplace = True)\n",
    "\n",
    "    return data"
   ]
  },
  {
   "cell_type": "code",
   "execution_count": 15,
   "id": "9b7632f2",
   "metadata": {},
   "outputs": [],
   "source": [
    "As_ros = eli_outlier(As_smogn, \"As\")\n",
    "Cd_ros = eli_outlier(Cd_smogn, \"Cd\")\n",
    "Ni_ros = eli_outlier(Ni_smogn, \"Ni\")"
   ]
  },
  {
   "cell_type": "code",
   "execution_count": 16,
   "id": "c05c01a2",
   "metadata": {},
   "outputs": [],
   "source": [
    "As_X = As_ros.drop([\"As\"], axis=1)\n",
    "Cd_X = Cd_ros.drop([\"Cd\"], axis=1)\n",
    "Ni_X = Ni_ros.drop([\"Ni\"], axis=1)\n",
    "\n",
    "As_y = As_ros[\"As\"]\n",
    "Cd_y = Cd_ros[\"Cd\"]\n",
    "Ni_y = Ni_ros[\"Ni\"]"
   ]
  },
  {
   "cell_type": "code",
   "execution_count": 17,
   "id": "7237a19a",
   "metadata": {},
   "outputs": [],
   "source": [
    "As_y = np.log1p(As_ros[\"As\"])\n",
    "Cd_y = np.log1p(Cd_ros[\"Cd\"])\n",
    "Ni_y = np.log1p(Ni_ros[\"Ni\"])"
   ]
  },
  {
   "cell_type": "code",
   "execution_count": 18,
   "id": "9b2b0920",
   "metadata": {},
   "outputs": [
    {
     "name": "stdout",
     "output_type": "stream",
     "text": [
      "(788, 15)\n",
      "(748, 15)\n",
      "(976, 15)\n"
     ]
    }
   ],
   "source": [
    "print(As_X.shape)\n",
    "print(Cd_X.shape)\n",
    "print(Ni_X.shape)"
   ]
  },
  {
   "attachments": {},
   "cell_type": "markdown",
   "id": "c92e5bb6",
   "metadata": {},
   "source": [
    "StandardScaler"
   ]
  },
  {
   "cell_type": "code",
   "execution_count": 19,
   "id": "416a7027",
   "metadata": {},
   "outputs": [],
   "source": [
    "from sklearn.preprocessing import StandardScaler\n",
    "\n",
    "scaler = StandardScaler()\n",
    "As_X_scaled = scaler.fit_transform(As_X)\n",
    "Cd_X_scaled = scaler.fit_transform(Cd_X)\n",
    "Ni_X_scaled = scaler.fit_transform(Ni_X)\n",
    "\n",
    "As_X_train, As_X_test, As_y_train, As_y_test = train_test_split(As_X_scaled, As_y, test_size=0.3, random_state=42)\n",
    "Cd_X_train, Cd_X_test, Cd_y_train, Cd_y_test = train_test_split(Cd_X_scaled, Cd_y, test_size=0.3, random_state=42)\n",
    "Ni_X_train, Ni_X_test, Ni_y_train, Ni_y_test = train_test_split(Ni_X_scaled, Ni_y, test_size=0.3, random_state=42)"
   ]
  },
  {
   "attachments": {},
   "cell_type": "markdown",
   "id": "2fe0d293",
   "metadata": {},
   "source": [
    "MinMaxScaler"
   ]
  },
  {
   "cell_type": "code",
   "execution_count": 20,
   "id": "e8596f9f",
   "metadata": {},
   "outputs": [],
   "source": [
    "# from sklearn.preprocessing import MinMaxScaler\n",
    "\n",
    "# scaler = MinMaxScaler()\n",
    "# As_X_scaled = scaler.fit_transform(As_X)\n",
    "# Cd_X_scaled = scaler.fit_transform(Cd_X)\n",
    "# Ni_X_scaled = scaler.fit_transform(Ni_X)\n",
    "\n",
    "# As_X_train, As_X_test, As_y_train, As_y_test = train_test_split(As_X_scaled, As_y, test_size=0.2, random_state=42)\n",
    "# Cd_X_train, Cd_X_test, Cd_y_train, Cd_y_test = train_test_split(Cd_X_scaled, Cd_y, test_size=0.2, random_state=42)\n",
    "# Ni_X_train, Ni_X_test, Ni_y_train, Ni_y_test = train_test_split(Ni_X_scaled, Ni_y, test_size=0.2, random_state=42)"
   ]
  },
  {
   "cell_type": "code",
   "execution_count": 21,
   "id": "c6cad4b1",
   "metadata": {},
   "outputs": [
    {
     "name": "stdout",
     "output_type": "stream",
     "text": [
      "(551, 15)\n",
      "(523, 15)\n",
      "(683, 15)\n"
     ]
    }
   ],
   "source": [
    "print(As_X_train.shape)\n",
    "print(Cd_X_train.shape)\n",
    "print(Ni_X_train.shape)"
   ]
  },
  {
   "attachments": {},
   "cell_type": "markdown",
   "id": "bd11b27e",
   "metadata": {},
   "source": [
    "#### 10-Fold Crossvalidation"
   ]
  },
  {
   "cell_type": "code",
   "execution_count": 22,
   "id": "7a765916",
   "metadata": {},
   "outputs": [],
   "source": [
    "kf = KFold(n_splits = 5, random_state = 42, shuffle = True)"
   ]
  },
  {
   "attachments": {},
   "cell_type": "markdown",
   "id": "859638d0",
   "metadata": {},
   "source": [
    "#### Optuna Optimization"
   ]
  },
  {
   "cell_type": "code",
   "execution_count": 23,
   "id": "92a47d83",
   "metadata": {},
   "outputs": [],
   "source": [
    "import optuna\n",
    "\n",
    "from optuna import Trial\n",
    "from optuna.samplers import TPESampler"
   ]
  },
  {
   "cell_type": "code",
   "execution_count": 24,
   "id": "a7669fea",
   "metadata": {},
   "outputs": [],
   "source": [
    "from sklearn.model_selection import cross_val_score\n",
    "\n",
    "def objectiveLGBM(trial: Trial, X_train, y_train) -> float:\n",
    "    lgbm_paramas = {\n",
    "        \"random_state\": 42,\n",
    "        \"learning_rate\": 0.1, \n",
    "        \"n_estimators\": trial.suggest_int(\"n_estimators\", 500, 1000),\n",
    "        \"max_depth\": trial.suggest_int(\"max_depth\", 1, 30),\n",
    "        \"num_leaves\": trial.suggest_int(\"num_leaves\", 2, 32),\n",
    "        \"min_child_samples\": trial.suggest_int(\"min_child_samples\", 1, 10),\n",
    "        \"num_iterations\": trial.suggest_int(\"num_iterations\", 500, 1000)\n",
    "    }\n",
    "    \n",
    "    lgbm = LGBMRegressor(**lgbm_paramas)\n",
    "    r2 = cross_val_score(lgbm, X_train, y_train, scoring = \"r2\", cv = kf)\n",
    "    r2 = r2.mean()\n",
    "    \n",
    "    return r2"
   ]
  },
  {
   "attachments": {},
   "cell_type": "markdown",
   "id": "b0988f46",
   "metadata": {},
   "source": [
    "####  Optimization"
   ]
  },
  {
   "cell_type": "code",
   "execution_count": 25,
   "id": "94f5e00d",
   "metadata": {
    "scrolled": false
   },
   "outputs": [
    {
     "name": "stderr",
     "output_type": "stream",
     "text": [
      "\u001b[32m[I 2023-08-17 22:15:45,568]\u001b[0m A new study created in memory with name: lgbm_parameter_opt\u001b[0m\n",
      "\u001b[32m[I 2023-08-17 22:15:47,272]\u001b[0m Trial 0 finished with value: 0.490158186791826 and parameters: {'n_estimators': 776, 'max_depth': 17, 'num_leaves': 4, 'min_child_samples': 5, 'num_iterations': 937}. Best is trial 0 with value: 0.490158186791826.\u001b[0m\n",
      "\u001b[32m[I 2023-08-17 22:15:57,208]\u001b[0m Trial 1 finished with value: 0.5018256146004851 and parameters: {'n_estimators': 924, 'max_depth': 20, 'num_leaves': 27, 'min_child_samples': 2, 'num_iterations': 987}. Best is trial 1 with value: 0.5018256146004851.\u001b[0m\n",
      "\u001b[32m[I 2023-08-17 22:16:00,539]\u001b[0m Trial 2 finished with value: 0.5219855832947069 and parameters: {'n_estimators': 891, 'max_depth': 8, 'num_leaves': 11, 'min_child_samples': 8, 'num_iterations': 993}. Best is trial 2 with value: 0.5219855832947069.\u001b[0m\n",
      "\u001b[32m[I 2023-08-17 22:16:01,420]\u001b[0m Trial 3 finished with value: 0.4791709490958961 and parameters: {'n_estimators': 879, 'max_depth': 2, 'num_leaves': 3, 'min_child_samples': 1, 'num_iterations': 722}. Best is trial 2 with value: 0.5219855832947069.\u001b[0m\n",
      "\u001b[32m[I 2023-08-17 22:16:05,608]\u001b[0m Trial 4 finished with value: 0.5096694787636177 and parameters: {'n_estimators': 776, 'max_depth': 23, 'num_leaves': 19, 'min_child_samples': 9, 'num_iterations': 801}. Best is trial 2 with value: 0.5219855832947069.\u001b[0m\n",
      "\u001b[32m[I 2023-08-17 22:16:06,302]\u001b[0m Trial 5 finished with value: 0.49043965937807066 and parameters: {'n_estimators': 893, 'max_depth': 16, 'num_leaves': 3, 'min_child_samples': 9, 'num_iterations': 685}. Best is trial 2 with value: 0.5219855832947069.\u001b[0m\n",
      "\u001b[32m[I 2023-08-17 22:16:12,303]\u001b[0m Trial 6 finished with value: 0.49335814835601133 and parameters: {'n_estimators': 745, 'max_depth': 8, 'num_leaves': 32, 'min_child_samples': 1, 'num_iterations': 547}. Best is trial 2 with value: 0.5219855832947069.\u001b[0m\n",
      "\u001b[32m[I 2023-08-17 22:16:14,586]\u001b[0m Trial 7 finished with value: 0.4943948759404124 and parameters: {'n_estimators': 943, 'max_depth': 4, 'num_leaves': 10, 'min_child_samples': 9, 'num_iterations': 928}. Best is trial 2 with value: 0.5219855832947069.\u001b[0m\n",
      "\u001b[32m[I 2023-08-17 22:16:16,811]\u001b[0m Trial 8 finished with value: 0.48206802004956356 and parameters: {'n_estimators': 942, 'max_depth': 3, 'num_leaves': 13, 'min_child_samples': 4, 'num_iterations': 913}. Best is trial 2 with value: 0.5219855832947069.\u001b[0m\n",
      "\u001b[32m[I 2023-08-17 22:16:17,476]\u001b[0m Trial 9 finished with value: 0.4812441756864139 and parameters: {'n_estimators': 571, 'max_depth': 22, 'num_leaves': 3, 'min_child_samples': 2, 'num_iterations': 559}. Best is trial 2 with value: 0.5219855832947069.\u001b[0m\n",
      "\u001b[32m[I 2023-08-17 22:16:22,487]\u001b[0m Trial 10 finished with value: 0.4936364703742466 and parameters: {'n_estimators': 538, 'max_depth': 29, 'num_leaves': 20, 'min_child_samples': 7, 'num_iterations': 812}. Best is trial 2 with value: 0.5219855832947069.\u001b[0m\n",
      "\u001b[32m[I 2023-08-17 22:16:26,831]\u001b[0m Trial 11 finished with value: 0.5002758707371426 and parameters: {'n_estimators': 769, 'max_depth': 10, 'num_leaves': 19, 'min_child_samples': 10, 'num_iterations': 805}. Best is trial 2 with value: 0.5219855832947069.\u001b[0m\n",
      "\u001b[32m[I 2023-08-17 22:16:30,210]\u001b[0m Trial 12 finished with value: 0.4958157706696502 and parameters: {'n_estimators': 653, 'max_depth': 26, 'num_leaves': 13, 'min_child_samples': 7, 'num_iterations': 844}. Best is trial 2 with value: 0.5219855832947069.\u001b[0m\n",
      "\u001b[32m[I 2023-08-17 22:16:34,092]\u001b[0m Trial 13 finished with value: 0.501036648496856 and parameters: {'n_estimators': 837, 'max_depth': 8, 'num_leaves': 23, 'min_child_samples': 7, 'num_iterations': 648}. Best is trial 2 with value: 0.5219855832947069.\u001b[0m\n",
      "\u001b[32m[I 2023-08-17 22:16:37,171]\u001b[0m Trial 14 finished with value: 0.5077135908580852 and parameters: {'n_estimators': 657, 'max_depth': 12, 'num_leaves': 10, 'min_child_samples': 8, 'num_iterations': 1000}. Best is trial 2 with value: 0.5219855832947069.\u001b[0m\n",
      "\u001b[32m[I 2023-08-17 22:16:41,500]\u001b[0m Trial 15 finished with value: 0.5093930324925645 and parameters: {'n_estimators': 998, 'max_depth': 23, 'num_leaves': 16, 'min_child_samples': 10, 'num_iterations': 878}. Best is trial 2 with value: 0.5219855832947069.\u001b[0m\n",
      "\u001b[32m[I 2023-08-17 22:16:45,893]\u001b[0m Trial 16 finished with value: 0.48352172007415284 and parameters: {'n_estimators': 825, 'max_depth': 12, 'num_leaves': 24, 'min_child_samples': 6, 'num_iterations': 779}. Best is trial 2 with value: 0.5219855832947069.\u001b[0m\n"
     ]
    },
    {
     "ename": "KeyboardInterrupt",
     "evalue": "",
     "output_type": "error",
     "traceback": [
      "\u001b[1;31m---------------------------------------------------------------------------\u001b[0m",
      "\u001b[1;31mKeyboardInterrupt\u001b[0m                         Traceback (most recent call last)",
      "\u001b[1;32m~\\AppData\\Local\\Temp/ipykernel_4100/289928649.py\u001b[0m in \u001b[0;36m<module>\u001b[1;34m\u001b[0m\n\u001b[0;32m      6\u001b[0m )\n\u001b[0;32m      7\u001b[0m \u001b[1;33m\u001b[0m\u001b[0m\n\u001b[1;32m----> 8\u001b[1;33m \u001b[0mstudy\u001b[0m\u001b[1;33m.\u001b[0m\u001b[0moptimize\u001b[0m\u001b[1;33m(\u001b[0m\u001b[1;32mlambda\u001b[0m \u001b[0mtrial\u001b[0m \u001b[1;33m:\u001b[0m \u001b[0mobjectiveLGBM\u001b[0m\u001b[1;33m(\u001b[0m\u001b[0mtrial\u001b[0m\u001b[1;33m,\u001b[0m \u001b[0mAs_X_train\u001b[0m\u001b[1;33m,\u001b[0m \u001b[0mAs_y_train\u001b[0m\u001b[1;33m)\u001b[0m\u001b[1;33m,\u001b[0m \u001b[0mn_trials\u001b[0m\u001b[1;33m=\u001b[0m\u001b[1;36m100\u001b[0m\u001b[1;33m)\u001b[0m\u001b[1;33m\u001b[0m\u001b[1;33m\u001b[0m\u001b[0m\n\u001b[0m\u001b[0;32m      9\u001b[0m \u001b[0mprint\u001b[0m\u001b[1;33m(\u001b[0m\u001b[1;34m\"Best r2: \"\u001b[0m\u001b[1;33m,\u001b[0m \u001b[0mstudy\u001b[0m\u001b[1;33m.\u001b[0m\u001b[0mbest_value\u001b[0m\u001b[1;33m)\u001b[0m\u001b[1;33m\u001b[0m\u001b[1;33m\u001b[0m\u001b[0m\n\u001b[0;32m     10\u001b[0m \u001b[0mprint\u001b[0m\u001b[1;33m(\u001b[0m\u001b[1;34m\"Best trial:\"\u001b[0m\u001b[1;33m,\u001b[0m \u001b[0mstudy\u001b[0m\u001b[1;33m.\u001b[0m\u001b[0mbest_trial\u001b[0m\u001b[1;33m.\u001b[0m\u001b[0mparams\u001b[0m\u001b[1;33m)\u001b[0m\u001b[1;33m\u001b[0m\u001b[1;33m\u001b[0m\u001b[0m\n",
      "\u001b[1;32mc:\\Users\\jyssy\\anaconda3\\lib\\site-packages\\optuna\\study\\study.py\u001b[0m in \u001b[0;36moptimize\u001b[1;34m(self, func, n_trials, timeout, n_jobs, catch, callbacks, gc_after_trial, show_progress_bar)\u001b[0m\n\u001b[0;32m    398\u001b[0m             )\n\u001b[0;32m    399\u001b[0m \u001b[1;33m\u001b[0m\u001b[0m\n\u001b[1;32m--> 400\u001b[1;33m         _optimize(\n\u001b[0m\u001b[0;32m    401\u001b[0m             \u001b[0mstudy\u001b[0m\u001b[1;33m=\u001b[0m\u001b[0mself\u001b[0m\u001b[1;33m,\u001b[0m\u001b[1;33m\u001b[0m\u001b[1;33m\u001b[0m\u001b[0m\n\u001b[0;32m    402\u001b[0m             \u001b[0mfunc\u001b[0m\u001b[1;33m=\u001b[0m\u001b[0mfunc\u001b[0m\u001b[1;33m,\u001b[0m\u001b[1;33m\u001b[0m\u001b[1;33m\u001b[0m\u001b[0m\n",
      "\u001b[1;32mc:\\Users\\jyssy\\anaconda3\\lib\\site-packages\\optuna\\study\\_optimize.py\u001b[0m in \u001b[0;36m_optimize\u001b[1;34m(study, func, n_trials, timeout, n_jobs, catch, callbacks, gc_after_trial, show_progress_bar)\u001b[0m\n\u001b[0;32m     64\u001b[0m     \u001b[1;32mtry\u001b[0m\u001b[1;33m:\u001b[0m\u001b[1;33m\u001b[0m\u001b[1;33m\u001b[0m\u001b[0m\n\u001b[0;32m     65\u001b[0m         \u001b[1;32mif\u001b[0m \u001b[0mn_jobs\u001b[0m \u001b[1;33m==\u001b[0m \u001b[1;36m1\u001b[0m\u001b[1;33m:\u001b[0m\u001b[1;33m\u001b[0m\u001b[1;33m\u001b[0m\u001b[0m\n\u001b[1;32m---> 66\u001b[1;33m             _optimize_sequential(\n\u001b[0m\u001b[0;32m     67\u001b[0m                 \u001b[0mstudy\u001b[0m\u001b[1;33m,\u001b[0m\u001b[1;33m\u001b[0m\u001b[1;33m\u001b[0m\u001b[0m\n\u001b[0;32m     68\u001b[0m                 \u001b[0mfunc\u001b[0m\u001b[1;33m,\u001b[0m\u001b[1;33m\u001b[0m\u001b[1;33m\u001b[0m\u001b[0m\n",
      "\u001b[1;32mc:\\Users\\jyssy\\anaconda3\\lib\\site-packages\\optuna\\study\\_optimize.py\u001b[0m in \u001b[0;36m_optimize_sequential\u001b[1;34m(study, func, n_trials, timeout, catch, callbacks, gc_after_trial, reseed_sampler_rng, time_start, progress_bar)\u001b[0m\n\u001b[0;32m    161\u001b[0m \u001b[1;33m\u001b[0m\u001b[0m\n\u001b[0;32m    162\u001b[0m         \u001b[1;32mtry\u001b[0m\u001b[1;33m:\u001b[0m\u001b[1;33m\u001b[0m\u001b[1;33m\u001b[0m\u001b[0m\n\u001b[1;32m--> 163\u001b[1;33m             \u001b[0mtrial\u001b[0m \u001b[1;33m=\u001b[0m \u001b[0m_run_trial\u001b[0m\u001b[1;33m(\u001b[0m\u001b[0mstudy\u001b[0m\u001b[1;33m,\u001b[0m \u001b[0mfunc\u001b[0m\u001b[1;33m,\u001b[0m \u001b[0mcatch\u001b[0m\u001b[1;33m)\u001b[0m\u001b[1;33m\u001b[0m\u001b[1;33m\u001b[0m\u001b[0m\n\u001b[0m\u001b[0;32m    164\u001b[0m         \u001b[1;32mexcept\u001b[0m \u001b[0mException\u001b[0m\u001b[1;33m:\u001b[0m\u001b[1;33m\u001b[0m\u001b[1;33m\u001b[0m\u001b[0m\n\u001b[0;32m    165\u001b[0m             \u001b[1;32mraise\u001b[0m\u001b[1;33m\u001b[0m\u001b[1;33m\u001b[0m\u001b[0m\n",
      "\u001b[1;32mc:\\Users\\jyssy\\anaconda3\\lib\\site-packages\\optuna\\study\\_optimize.py\u001b[0m in \u001b[0;36m_run_trial\u001b[1;34m(study, func, catch)\u001b[0m\n\u001b[0;32m    211\u001b[0m \u001b[1;33m\u001b[0m\u001b[0m\n\u001b[0;32m    212\u001b[0m     \u001b[1;32mtry\u001b[0m\u001b[1;33m:\u001b[0m\u001b[1;33m\u001b[0m\u001b[1;33m\u001b[0m\u001b[0m\n\u001b[1;32m--> 213\u001b[1;33m         \u001b[0mvalue_or_values\u001b[0m \u001b[1;33m=\u001b[0m \u001b[0mfunc\u001b[0m\u001b[1;33m(\u001b[0m\u001b[0mtrial\u001b[0m\u001b[1;33m)\u001b[0m\u001b[1;33m\u001b[0m\u001b[1;33m\u001b[0m\u001b[0m\n\u001b[0m\u001b[0;32m    214\u001b[0m     \u001b[1;32mexcept\u001b[0m \u001b[0mexceptions\u001b[0m\u001b[1;33m.\u001b[0m\u001b[0mTrialPruned\u001b[0m \u001b[1;32mas\u001b[0m \u001b[0me\u001b[0m\u001b[1;33m:\u001b[0m\u001b[1;33m\u001b[0m\u001b[1;33m\u001b[0m\u001b[0m\n\u001b[0;32m    215\u001b[0m         \u001b[1;31m# TODO(mamu): Handle multi-objective cases.\u001b[0m\u001b[1;33m\u001b[0m\u001b[1;33m\u001b[0m\u001b[1;33m\u001b[0m\u001b[0m\n",
      "\u001b[1;32m~\\AppData\\Local\\Temp/ipykernel_4100/289928649.py\u001b[0m in \u001b[0;36m<lambda>\u001b[1;34m(trial)\u001b[0m\n\u001b[0;32m      6\u001b[0m )\n\u001b[0;32m      7\u001b[0m \u001b[1;33m\u001b[0m\u001b[0m\n\u001b[1;32m----> 8\u001b[1;33m \u001b[0mstudy\u001b[0m\u001b[1;33m.\u001b[0m\u001b[0moptimize\u001b[0m\u001b[1;33m(\u001b[0m\u001b[1;32mlambda\u001b[0m \u001b[0mtrial\u001b[0m \u001b[1;33m:\u001b[0m \u001b[0mobjectiveLGBM\u001b[0m\u001b[1;33m(\u001b[0m\u001b[0mtrial\u001b[0m\u001b[1;33m,\u001b[0m \u001b[0mAs_X_train\u001b[0m\u001b[1;33m,\u001b[0m \u001b[0mAs_y_train\u001b[0m\u001b[1;33m)\u001b[0m\u001b[1;33m,\u001b[0m \u001b[0mn_trials\u001b[0m\u001b[1;33m=\u001b[0m\u001b[1;36m100\u001b[0m\u001b[1;33m)\u001b[0m\u001b[1;33m\u001b[0m\u001b[1;33m\u001b[0m\u001b[0m\n\u001b[0m\u001b[0;32m      9\u001b[0m \u001b[0mprint\u001b[0m\u001b[1;33m(\u001b[0m\u001b[1;34m\"Best r2: \"\u001b[0m\u001b[1;33m,\u001b[0m \u001b[0mstudy\u001b[0m\u001b[1;33m.\u001b[0m\u001b[0mbest_value\u001b[0m\u001b[1;33m)\u001b[0m\u001b[1;33m\u001b[0m\u001b[1;33m\u001b[0m\u001b[0m\n\u001b[0;32m     10\u001b[0m \u001b[0mprint\u001b[0m\u001b[1;33m(\u001b[0m\u001b[1;34m\"Best trial:\"\u001b[0m\u001b[1;33m,\u001b[0m \u001b[0mstudy\u001b[0m\u001b[1;33m.\u001b[0m\u001b[0mbest_trial\u001b[0m\u001b[1;33m.\u001b[0m\u001b[0mparams\u001b[0m\u001b[1;33m)\u001b[0m\u001b[1;33m\u001b[0m\u001b[1;33m\u001b[0m\u001b[0m\n",
      "\u001b[1;32m~\\AppData\\Local\\Temp/ipykernel_4100/891973030.py\u001b[0m in \u001b[0;36mobjectiveLGBM\u001b[1;34m(trial, X_train, y_train)\u001b[0m\n\u001b[0;32m     13\u001b[0m \u001b[1;33m\u001b[0m\u001b[0m\n\u001b[0;32m     14\u001b[0m     \u001b[0mlgbm\u001b[0m \u001b[1;33m=\u001b[0m \u001b[0mLGBMRegressor\u001b[0m\u001b[1;33m(\u001b[0m\u001b[1;33m**\u001b[0m\u001b[0mlgbm_paramas\u001b[0m\u001b[1;33m)\u001b[0m\u001b[1;33m\u001b[0m\u001b[1;33m\u001b[0m\u001b[0m\n\u001b[1;32m---> 15\u001b[1;33m     \u001b[0mr2\u001b[0m \u001b[1;33m=\u001b[0m \u001b[0mcross_val_score\u001b[0m\u001b[1;33m(\u001b[0m\u001b[0mlgbm\u001b[0m\u001b[1;33m,\u001b[0m \u001b[0mX_train\u001b[0m\u001b[1;33m,\u001b[0m \u001b[0my_train\u001b[0m\u001b[1;33m,\u001b[0m \u001b[0mscoring\u001b[0m \u001b[1;33m=\u001b[0m \u001b[1;34m\"r2\"\u001b[0m\u001b[1;33m,\u001b[0m \u001b[0mcv\u001b[0m \u001b[1;33m=\u001b[0m \u001b[0mkf\u001b[0m\u001b[1;33m)\u001b[0m\u001b[1;33m\u001b[0m\u001b[1;33m\u001b[0m\u001b[0m\n\u001b[0m\u001b[0;32m     16\u001b[0m     \u001b[0mr2\u001b[0m \u001b[1;33m=\u001b[0m \u001b[0mr2\u001b[0m\u001b[1;33m.\u001b[0m\u001b[0mmean\u001b[0m\u001b[1;33m(\u001b[0m\u001b[1;33m)\u001b[0m\u001b[1;33m\u001b[0m\u001b[1;33m\u001b[0m\u001b[0m\n\u001b[0;32m     17\u001b[0m \u001b[1;33m\u001b[0m\u001b[0m\n",
      "\u001b[1;32mc:\\Users\\jyssy\\anaconda3\\lib\\site-packages\\sklearn\\model_selection\\_validation.py\u001b[0m in \u001b[0;36mcross_val_score\u001b[1;34m(estimator, X, y, groups, scoring, cv, n_jobs, verbose, fit_params, pre_dispatch, error_score)\u001b[0m\n\u001b[0;32m    513\u001b[0m     \u001b[0mscorer\u001b[0m \u001b[1;33m=\u001b[0m \u001b[0mcheck_scoring\u001b[0m\u001b[1;33m(\u001b[0m\u001b[0mestimator\u001b[0m\u001b[1;33m,\u001b[0m \u001b[0mscoring\u001b[0m\u001b[1;33m=\u001b[0m\u001b[0mscoring\u001b[0m\u001b[1;33m)\u001b[0m\u001b[1;33m\u001b[0m\u001b[1;33m\u001b[0m\u001b[0m\n\u001b[0;32m    514\u001b[0m \u001b[1;33m\u001b[0m\u001b[0m\n\u001b[1;32m--> 515\u001b[1;33m     cv_results = cross_validate(\n\u001b[0m\u001b[0;32m    516\u001b[0m         \u001b[0mestimator\u001b[0m\u001b[1;33m=\u001b[0m\u001b[0mestimator\u001b[0m\u001b[1;33m,\u001b[0m\u001b[1;33m\u001b[0m\u001b[1;33m\u001b[0m\u001b[0m\n\u001b[0;32m    517\u001b[0m         \u001b[0mX\u001b[0m\u001b[1;33m=\u001b[0m\u001b[0mX\u001b[0m\u001b[1;33m,\u001b[0m\u001b[1;33m\u001b[0m\u001b[1;33m\u001b[0m\u001b[0m\n",
      "\u001b[1;32mc:\\Users\\jyssy\\anaconda3\\lib\\site-packages\\sklearn\\model_selection\\_validation.py\u001b[0m in \u001b[0;36mcross_validate\u001b[1;34m(estimator, X, y, groups, scoring, cv, n_jobs, verbose, fit_params, pre_dispatch, return_train_score, return_estimator, error_score)\u001b[0m\n\u001b[0;32m    264\u001b[0m     \u001b[1;31m# independent, and that it is pickle-able.\u001b[0m\u001b[1;33m\u001b[0m\u001b[1;33m\u001b[0m\u001b[1;33m\u001b[0m\u001b[0m\n\u001b[0;32m    265\u001b[0m     \u001b[0mparallel\u001b[0m \u001b[1;33m=\u001b[0m \u001b[0mParallel\u001b[0m\u001b[1;33m(\u001b[0m\u001b[0mn_jobs\u001b[0m\u001b[1;33m=\u001b[0m\u001b[0mn_jobs\u001b[0m\u001b[1;33m,\u001b[0m \u001b[0mverbose\u001b[0m\u001b[1;33m=\u001b[0m\u001b[0mverbose\u001b[0m\u001b[1;33m,\u001b[0m \u001b[0mpre_dispatch\u001b[0m\u001b[1;33m=\u001b[0m\u001b[0mpre_dispatch\u001b[0m\u001b[1;33m)\u001b[0m\u001b[1;33m\u001b[0m\u001b[1;33m\u001b[0m\u001b[0m\n\u001b[1;32m--> 266\u001b[1;33m     results = parallel(\n\u001b[0m\u001b[0;32m    267\u001b[0m         delayed(_fit_and_score)(\n\u001b[0;32m    268\u001b[0m             \u001b[0mclone\u001b[0m\u001b[1;33m(\u001b[0m\u001b[0mestimator\u001b[0m\u001b[1;33m)\u001b[0m\u001b[1;33m,\u001b[0m\u001b[1;33m\u001b[0m\u001b[1;33m\u001b[0m\u001b[0m\n",
      "\u001b[1;32mc:\\Users\\jyssy\\anaconda3\\lib\\site-packages\\joblib\\parallel.py\u001b[0m in \u001b[0;36m__call__\u001b[1;34m(self, iterable)\u001b[0m\n\u001b[0;32m   1042\u001b[0m                 \u001b[0mself\u001b[0m\u001b[1;33m.\u001b[0m\u001b[0m_iterating\u001b[0m \u001b[1;33m=\u001b[0m \u001b[0mself\u001b[0m\u001b[1;33m.\u001b[0m\u001b[0m_original_iterator\u001b[0m \u001b[1;32mis\u001b[0m \u001b[1;32mnot\u001b[0m \u001b[1;32mNone\u001b[0m\u001b[1;33m\u001b[0m\u001b[1;33m\u001b[0m\u001b[0m\n\u001b[0;32m   1043\u001b[0m \u001b[1;33m\u001b[0m\u001b[0m\n\u001b[1;32m-> 1044\u001b[1;33m             \u001b[1;32mwhile\u001b[0m \u001b[0mself\u001b[0m\u001b[1;33m.\u001b[0m\u001b[0mdispatch_one_batch\u001b[0m\u001b[1;33m(\u001b[0m\u001b[0miterator\u001b[0m\u001b[1;33m)\u001b[0m\u001b[1;33m:\u001b[0m\u001b[1;33m\u001b[0m\u001b[1;33m\u001b[0m\u001b[0m\n\u001b[0m\u001b[0;32m   1045\u001b[0m                 \u001b[1;32mpass\u001b[0m\u001b[1;33m\u001b[0m\u001b[1;33m\u001b[0m\u001b[0m\n\u001b[0;32m   1046\u001b[0m \u001b[1;33m\u001b[0m\u001b[0m\n",
      "\u001b[1;32mc:\\Users\\jyssy\\anaconda3\\lib\\site-packages\\joblib\\parallel.py\u001b[0m in \u001b[0;36mdispatch_one_batch\u001b[1;34m(self, iterator)\u001b[0m\n\u001b[0;32m    857\u001b[0m                 \u001b[1;32mreturn\u001b[0m \u001b[1;32mFalse\u001b[0m\u001b[1;33m\u001b[0m\u001b[1;33m\u001b[0m\u001b[0m\n\u001b[0;32m    858\u001b[0m             \u001b[1;32melse\u001b[0m\u001b[1;33m:\u001b[0m\u001b[1;33m\u001b[0m\u001b[1;33m\u001b[0m\u001b[0m\n\u001b[1;32m--> 859\u001b[1;33m                 \u001b[0mself\u001b[0m\u001b[1;33m.\u001b[0m\u001b[0m_dispatch\u001b[0m\u001b[1;33m(\u001b[0m\u001b[0mtasks\u001b[0m\u001b[1;33m)\u001b[0m\u001b[1;33m\u001b[0m\u001b[1;33m\u001b[0m\u001b[0m\n\u001b[0m\u001b[0;32m    860\u001b[0m                 \u001b[1;32mreturn\u001b[0m \u001b[1;32mTrue\u001b[0m\u001b[1;33m\u001b[0m\u001b[1;33m\u001b[0m\u001b[0m\n\u001b[0;32m    861\u001b[0m \u001b[1;33m\u001b[0m\u001b[0m\n",
      "\u001b[1;32mc:\\Users\\jyssy\\anaconda3\\lib\\site-packages\\joblib\\parallel.py\u001b[0m in \u001b[0;36m_dispatch\u001b[1;34m(self, batch)\u001b[0m\n\u001b[0;32m    775\u001b[0m         \u001b[1;32mwith\u001b[0m \u001b[0mself\u001b[0m\u001b[1;33m.\u001b[0m\u001b[0m_lock\u001b[0m\u001b[1;33m:\u001b[0m\u001b[1;33m\u001b[0m\u001b[1;33m\u001b[0m\u001b[0m\n\u001b[0;32m    776\u001b[0m             \u001b[0mjob_idx\u001b[0m \u001b[1;33m=\u001b[0m \u001b[0mlen\u001b[0m\u001b[1;33m(\u001b[0m\u001b[0mself\u001b[0m\u001b[1;33m.\u001b[0m\u001b[0m_jobs\u001b[0m\u001b[1;33m)\u001b[0m\u001b[1;33m\u001b[0m\u001b[1;33m\u001b[0m\u001b[0m\n\u001b[1;32m--> 777\u001b[1;33m             \u001b[0mjob\u001b[0m \u001b[1;33m=\u001b[0m \u001b[0mself\u001b[0m\u001b[1;33m.\u001b[0m\u001b[0m_backend\u001b[0m\u001b[1;33m.\u001b[0m\u001b[0mapply_async\u001b[0m\u001b[1;33m(\u001b[0m\u001b[0mbatch\u001b[0m\u001b[1;33m,\u001b[0m \u001b[0mcallback\u001b[0m\u001b[1;33m=\u001b[0m\u001b[0mcb\u001b[0m\u001b[1;33m)\u001b[0m\u001b[1;33m\u001b[0m\u001b[1;33m\u001b[0m\u001b[0m\n\u001b[0m\u001b[0;32m    778\u001b[0m             \u001b[1;31m# A job can complete so quickly than its callback is\u001b[0m\u001b[1;33m\u001b[0m\u001b[1;33m\u001b[0m\u001b[1;33m\u001b[0m\u001b[0m\n\u001b[0;32m    779\u001b[0m             \u001b[1;31m# called before we get here, causing self._jobs to\u001b[0m\u001b[1;33m\u001b[0m\u001b[1;33m\u001b[0m\u001b[1;33m\u001b[0m\u001b[0m\n",
      "\u001b[1;32mc:\\Users\\jyssy\\anaconda3\\lib\\site-packages\\joblib\\_parallel_backends.py\u001b[0m in \u001b[0;36mapply_async\u001b[1;34m(self, func, callback)\u001b[0m\n\u001b[0;32m    206\u001b[0m     \u001b[1;32mdef\u001b[0m \u001b[0mapply_async\u001b[0m\u001b[1;33m(\u001b[0m\u001b[0mself\u001b[0m\u001b[1;33m,\u001b[0m \u001b[0mfunc\u001b[0m\u001b[1;33m,\u001b[0m \u001b[0mcallback\u001b[0m\u001b[1;33m=\u001b[0m\u001b[1;32mNone\u001b[0m\u001b[1;33m)\u001b[0m\u001b[1;33m:\u001b[0m\u001b[1;33m\u001b[0m\u001b[1;33m\u001b[0m\u001b[0m\n\u001b[0;32m    207\u001b[0m         \u001b[1;34m\"\"\"Schedule a func to be run\"\"\"\u001b[0m\u001b[1;33m\u001b[0m\u001b[1;33m\u001b[0m\u001b[0m\n\u001b[1;32m--> 208\u001b[1;33m         \u001b[0mresult\u001b[0m \u001b[1;33m=\u001b[0m \u001b[0mImmediateResult\u001b[0m\u001b[1;33m(\u001b[0m\u001b[0mfunc\u001b[0m\u001b[1;33m)\u001b[0m\u001b[1;33m\u001b[0m\u001b[1;33m\u001b[0m\u001b[0m\n\u001b[0m\u001b[0;32m    209\u001b[0m         \u001b[1;32mif\u001b[0m \u001b[0mcallback\u001b[0m\u001b[1;33m:\u001b[0m\u001b[1;33m\u001b[0m\u001b[1;33m\u001b[0m\u001b[0m\n\u001b[0;32m    210\u001b[0m             \u001b[0mcallback\u001b[0m\u001b[1;33m(\u001b[0m\u001b[0mresult\u001b[0m\u001b[1;33m)\u001b[0m\u001b[1;33m\u001b[0m\u001b[1;33m\u001b[0m\u001b[0m\n",
      "\u001b[1;32mc:\\Users\\jyssy\\anaconda3\\lib\\site-packages\\joblib\\_parallel_backends.py\u001b[0m in \u001b[0;36m__init__\u001b[1;34m(self, batch)\u001b[0m\n\u001b[0;32m    570\u001b[0m         \u001b[1;31m# Don't delay the application, to avoid keeping the input\u001b[0m\u001b[1;33m\u001b[0m\u001b[1;33m\u001b[0m\u001b[1;33m\u001b[0m\u001b[0m\n\u001b[0;32m    571\u001b[0m         \u001b[1;31m# arguments in memory\u001b[0m\u001b[1;33m\u001b[0m\u001b[1;33m\u001b[0m\u001b[1;33m\u001b[0m\u001b[0m\n\u001b[1;32m--> 572\u001b[1;33m         \u001b[0mself\u001b[0m\u001b[1;33m.\u001b[0m\u001b[0mresults\u001b[0m \u001b[1;33m=\u001b[0m \u001b[0mbatch\u001b[0m\u001b[1;33m(\u001b[0m\u001b[1;33m)\u001b[0m\u001b[1;33m\u001b[0m\u001b[1;33m\u001b[0m\u001b[0m\n\u001b[0m\u001b[0;32m    573\u001b[0m \u001b[1;33m\u001b[0m\u001b[0m\n\u001b[0;32m    574\u001b[0m     \u001b[1;32mdef\u001b[0m \u001b[0mget\u001b[0m\u001b[1;33m(\u001b[0m\u001b[0mself\u001b[0m\u001b[1;33m)\u001b[0m\u001b[1;33m:\u001b[0m\u001b[1;33m\u001b[0m\u001b[1;33m\u001b[0m\u001b[0m\n",
      "\u001b[1;32mc:\\Users\\jyssy\\anaconda3\\lib\\site-packages\\joblib\\parallel.py\u001b[0m in \u001b[0;36m__call__\u001b[1;34m(self)\u001b[0m\n\u001b[0;32m    260\u001b[0m         \u001b[1;31m# change the default number of processes to -1\u001b[0m\u001b[1;33m\u001b[0m\u001b[1;33m\u001b[0m\u001b[1;33m\u001b[0m\u001b[0m\n\u001b[0;32m    261\u001b[0m         \u001b[1;32mwith\u001b[0m \u001b[0mparallel_backend\u001b[0m\u001b[1;33m(\u001b[0m\u001b[0mself\u001b[0m\u001b[1;33m.\u001b[0m\u001b[0m_backend\u001b[0m\u001b[1;33m,\u001b[0m \u001b[0mn_jobs\u001b[0m\u001b[1;33m=\u001b[0m\u001b[0mself\u001b[0m\u001b[1;33m.\u001b[0m\u001b[0m_n_jobs\u001b[0m\u001b[1;33m)\u001b[0m\u001b[1;33m:\u001b[0m\u001b[1;33m\u001b[0m\u001b[1;33m\u001b[0m\u001b[0m\n\u001b[1;32m--> 262\u001b[1;33m             return [func(*args, **kwargs)\n\u001b[0m\u001b[0;32m    263\u001b[0m                     for func, args, kwargs in self.items]\n\u001b[0;32m    264\u001b[0m \u001b[1;33m\u001b[0m\u001b[0m\n",
      "\u001b[1;32mc:\\Users\\jyssy\\anaconda3\\lib\\site-packages\\joblib\\parallel.py\u001b[0m in \u001b[0;36m<listcomp>\u001b[1;34m(.0)\u001b[0m\n\u001b[0;32m    260\u001b[0m         \u001b[1;31m# change the default number of processes to -1\u001b[0m\u001b[1;33m\u001b[0m\u001b[1;33m\u001b[0m\u001b[1;33m\u001b[0m\u001b[0m\n\u001b[0;32m    261\u001b[0m         \u001b[1;32mwith\u001b[0m \u001b[0mparallel_backend\u001b[0m\u001b[1;33m(\u001b[0m\u001b[0mself\u001b[0m\u001b[1;33m.\u001b[0m\u001b[0m_backend\u001b[0m\u001b[1;33m,\u001b[0m \u001b[0mn_jobs\u001b[0m\u001b[1;33m=\u001b[0m\u001b[0mself\u001b[0m\u001b[1;33m.\u001b[0m\u001b[0m_n_jobs\u001b[0m\u001b[1;33m)\u001b[0m\u001b[1;33m:\u001b[0m\u001b[1;33m\u001b[0m\u001b[1;33m\u001b[0m\u001b[0m\n\u001b[1;32m--> 262\u001b[1;33m             return [func(*args, **kwargs)\n\u001b[0m\u001b[0;32m    263\u001b[0m                     for func, args, kwargs in self.items]\n\u001b[0;32m    264\u001b[0m \u001b[1;33m\u001b[0m\u001b[0m\n",
      "\u001b[1;32mc:\\Users\\jyssy\\anaconda3\\lib\\site-packages\\sklearn\\utils\\fixes.py\u001b[0m in \u001b[0;36m__call__\u001b[1;34m(self, *args, **kwargs)\u001b[0m\n\u001b[0;32m    115\u001b[0m     \u001b[1;32mdef\u001b[0m \u001b[0m__call__\u001b[0m\u001b[1;33m(\u001b[0m\u001b[0mself\u001b[0m\u001b[1;33m,\u001b[0m \u001b[1;33m*\u001b[0m\u001b[0margs\u001b[0m\u001b[1;33m,\u001b[0m \u001b[1;33m**\u001b[0m\u001b[0mkwargs\u001b[0m\u001b[1;33m)\u001b[0m\u001b[1;33m:\u001b[0m\u001b[1;33m\u001b[0m\u001b[1;33m\u001b[0m\u001b[0m\n\u001b[0;32m    116\u001b[0m         \u001b[1;32mwith\u001b[0m \u001b[0mconfig_context\u001b[0m\u001b[1;33m(\u001b[0m\u001b[1;33m**\u001b[0m\u001b[0mself\u001b[0m\u001b[1;33m.\u001b[0m\u001b[0mconfig\u001b[0m\u001b[1;33m)\u001b[0m\u001b[1;33m:\u001b[0m\u001b[1;33m\u001b[0m\u001b[1;33m\u001b[0m\u001b[0m\n\u001b[1;32m--> 117\u001b[1;33m             \u001b[1;32mreturn\u001b[0m \u001b[0mself\u001b[0m\u001b[1;33m.\u001b[0m\u001b[0mfunction\u001b[0m\u001b[1;33m(\u001b[0m\u001b[1;33m*\u001b[0m\u001b[0margs\u001b[0m\u001b[1;33m,\u001b[0m \u001b[1;33m**\u001b[0m\u001b[0mkwargs\u001b[0m\u001b[1;33m)\u001b[0m\u001b[1;33m\u001b[0m\u001b[1;33m\u001b[0m\u001b[0m\n\u001b[0m\u001b[0;32m    118\u001b[0m \u001b[1;33m\u001b[0m\u001b[0m\n\u001b[0;32m    119\u001b[0m \u001b[1;33m\u001b[0m\u001b[0m\n",
      "\u001b[1;32mc:\\Users\\jyssy\\anaconda3\\lib\\site-packages\\sklearn\\model_selection\\_validation.py\u001b[0m in \u001b[0;36m_fit_and_score\u001b[1;34m(estimator, X, y, scorer, train, test, verbose, parameters, fit_params, return_train_score, return_parameters, return_n_test_samples, return_times, return_estimator, split_progress, candidate_progress, error_score)\u001b[0m\n\u001b[0;32m    684\u001b[0m             \u001b[0mestimator\u001b[0m\u001b[1;33m.\u001b[0m\u001b[0mfit\u001b[0m\u001b[1;33m(\u001b[0m\u001b[0mX_train\u001b[0m\u001b[1;33m,\u001b[0m \u001b[1;33m**\u001b[0m\u001b[0mfit_params\u001b[0m\u001b[1;33m)\u001b[0m\u001b[1;33m\u001b[0m\u001b[1;33m\u001b[0m\u001b[0m\n\u001b[0;32m    685\u001b[0m         \u001b[1;32melse\u001b[0m\u001b[1;33m:\u001b[0m\u001b[1;33m\u001b[0m\u001b[1;33m\u001b[0m\u001b[0m\n\u001b[1;32m--> 686\u001b[1;33m             \u001b[0mestimator\u001b[0m\u001b[1;33m.\u001b[0m\u001b[0mfit\u001b[0m\u001b[1;33m(\u001b[0m\u001b[0mX_train\u001b[0m\u001b[1;33m,\u001b[0m \u001b[0my_train\u001b[0m\u001b[1;33m,\u001b[0m \u001b[1;33m**\u001b[0m\u001b[0mfit_params\u001b[0m\u001b[1;33m)\u001b[0m\u001b[1;33m\u001b[0m\u001b[1;33m\u001b[0m\u001b[0m\n\u001b[0m\u001b[0;32m    687\u001b[0m \u001b[1;33m\u001b[0m\u001b[0m\n\u001b[0;32m    688\u001b[0m     \u001b[1;32mexcept\u001b[0m \u001b[0mException\u001b[0m\u001b[1;33m:\u001b[0m\u001b[1;33m\u001b[0m\u001b[1;33m\u001b[0m\u001b[0m\n",
      "\u001b[1;32mc:\\Users\\jyssy\\anaconda3\\lib\\site-packages\\lightgbm\\sklearn.py\u001b[0m in \u001b[0;36mfit\u001b[1;34m(self, X, y, sample_weight, init_score, eval_set, eval_names, eval_sample_weight, eval_init_score, eval_metric, early_stopping_rounds, verbose, feature_name, categorical_feature, callbacks, init_model)\u001b[0m\n\u001b[0;32m    768\u001b[0m             callbacks=None, init_model=None):\n\u001b[0;32m    769\u001b[0m         \u001b[1;34m\"\"\"Docstring is inherited from the LGBMModel.\"\"\"\u001b[0m\u001b[1;33m\u001b[0m\u001b[1;33m\u001b[0m\u001b[0m\n\u001b[1;32m--> 770\u001b[1;33m         super(LGBMRegressor, self).fit(X, y, sample_weight=sample_weight,\n\u001b[0m\u001b[0;32m    771\u001b[0m                                        \u001b[0minit_score\u001b[0m\u001b[1;33m=\u001b[0m\u001b[0minit_score\u001b[0m\u001b[1;33m,\u001b[0m \u001b[0meval_set\u001b[0m\u001b[1;33m=\u001b[0m\u001b[0meval_set\u001b[0m\u001b[1;33m,\u001b[0m\u001b[1;33m\u001b[0m\u001b[1;33m\u001b[0m\u001b[0m\n\u001b[0;32m    772\u001b[0m                                        \u001b[0meval_names\u001b[0m\u001b[1;33m=\u001b[0m\u001b[0meval_names\u001b[0m\u001b[1;33m,\u001b[0m\u001b[1;33m\u001b[0m\u001b[1;33m\u001b[0m\u001b[0m\n",
      "\u001b[1;32mc:\\Users\\jyssy\\anaconda3\\lib\\site-packages\\lightgbm\\sklearn.py\u001b[0m in \u001b[0;36mfit\u001b[1;34m(self, X, y, sample_weight, init_score, group, eval_set, eval_names, eval_sample_weight, eval_class_weight, eval_init_score, eval_group, eval_metric, early_stopping_rounds, verbose, feature_name, categorical_feature, callbacks, init_model)\u001b[0m\n\u001b[0;32m    610\u001b[0m             \u001b[0minit_model\u001b[0m \u001b[1;33m=\u001b[0m \u001b[0minit_model\u001b[0m\u001b[1;33m.\u001b[0m\u001b[0mbooster_\u001b[0m\u001b[1;33m\u001b[0m\u001b[1;33m\u001b[0m\u001b[0m\n\u001b[0;32m    611\u001b[0m \u001b[1;33m\u001b[0m\u001b[0m\n\u001b[1;32m--> 612\u001b[1;33m         self._Booster = train(params, train_set,\n\u001b[0m\u001b[0;32m    613\u001b[0m                               \u001b[0mself\u001b[0m\u001b[1;33m.\u001b[0m\u001b[0mn_estimators\u001b[0m\u001b[1;33m,\u001b[0m \u001b[0mvalid_sets\u001b[0m\u001b[1;33m=\u001b[0m\u001b[0mvalid_sets\u001b[0m\u001b[1;33m,\u001b[0m \u001b[0mvalid_names\u001b[0m\u001b[1;33m=\u001b[0m\u001b[0meval_names\u001b[0m\u001b[1;33m,\u001b[0m\u001b[1;33m\u001b[0m\u001b[1;33m\u001b[0m\u001b[0m\n\u001b[0;32m    614\u001b[0m                               \u001b[0mearly_stopping_rounds\u001b[0m\u001b[1;33m=\u001b[0m\u001b[0mearly_stopping_rounds\u001b[0m\u001b[1;33m,\u001b[0m\u001b[1;33m\u001b[0m\u001b[1;33m\u001b[0m\u001b[0m\n",
      "\u001b[1;32mc:\\Users\\jyssy\\anaconda3\\lib\\site-packages\\lightgbm\\engine.py\u001b[0m in \u001b[0;36mtrain\u001b[1;34m(params, train_set, num_boost_round, valid_sets, valid_names, fobj, feval, init_model, feature_name, categorical_feature, early_stopping_rounds, evals_result, verbose_eval, learning_rates, keep_training_booster, callbacks)\u001b[0m\n\u001b[0;32m    250\u001b[0m                                     evaluation_result_list=None))\n\u001b[0;32m    251\u001b[0m \u001b[1;33m\u001b[0m\u001b[0m\n\u001b[1;32m--> 252\u001b[1;33m         \u001b[0mbooster\u001b[0m\u001b[1;33m.\u001b[0m\u001b[0mupdate\u001b[0m\u001b[1;33m(\u001b[0m\u001b[0mfobj\u001b[0m\u001b[1;33m=\u001b[0m\u001b[0mfobj\u001b[0m\u001b[1;33m)\u001b[0m\u001b[1;33m\u001b[0m\u001b[1;33m\u001b[0m\u001b[0m\n\u001b[0m\u001b[0;32m    253\u001b[0m \u001b[1;33m\u001b[0m\u001b[0m\n\u001b[0;32m    254\u001b[0m         \u001b[0mevaluation_result_list\u001b[0m \u001b[1;33m=\u001b[0m \u001b[1;33m[\u001b[0m\u001b[1;33m]\u001b[0m\u001b[1;33m\u001b[0m\u001b[1;33m\u001b[0m\u001b[0m\n",
      "\u001b[1;32mc:\\Users\\jyssy\\anaconda3\\lib\\site-packages\\lightgbm\\basic.py\u001b[0m in \u001b[0;36mupdate\u001b[1;34m(self, train_set, fobj)\u001b[0m\n\u001b[0;32m   2456\u001b[0m             \u001b[1;32mif\u001b[0m \u001b[0mself\u001b[0m\u001b[1;33m.\u001b[0m\u001b[0m__set_objective_to_none\u001b[0m\u001b[1;33m:\u001b[0m\u001b[1;33m\u001b[0m\u001b[1;33m\u001b[0m\u001b[0m\n\u001b[0;32m   2457\u001b[0m                 \u001b[1;32mraise\u001b[0m \u001b[0mLightGBMError\u001b[0m\u001b[1;33m(\u001b[0m\u001b[1;34m'Cannot update due to null objective function.'\u001b[0m\u001b[1;33m)\u001b[0m\u001b[1;33m\u001b[0m\u001b[1;33m\u001b[0m\u001b[0m\n\u001b[1;32m-> 2458\u001b[1;33m             _safe_call(_LIB.LGBM_BoosterUpdateOneIter(\n\u001b[0m\u001b[0;32m   2459\u001b[0m                 \u001b[0mself\u001b[0m\u001b[1;33m.\u001b[0m\u001b[0mhandle\u001b[0m\u001b[1;33m,\u001b[0m\u001b[1;33m\u001b[0m\u001b[1;33m\u001b[0m\u001b[0m\n\u001b[0;32m   2460\u001b[0m                 ctypes.byref(is_finished)))\n",
      "\u001b[1;31mKeyboardInterrupt\u001b[0m: "
     ]
    }
   ],
   "source": [
    "sampler = TPESampler()\n",
    "study = optuna.create_study(\n",
    "    study_name=\"lgbm_parameter_opt\",\n",
    "    direction=\"maximize\",\n",
    "    sampler=sampler,\n",
    ")\n",
    "\n",
    "study.optimize(lambda trial : objectiveLGBM(trial, As_X_train, As_y_train), n_trials=100)\n",
    "print(\"Best r2: \", study.best_value)\n",
    "print(\"Best trial:\", study.best_trial.params)"
   ]
  },
  {
   "cell_type": "code",
   "execution_count": null,
   "id": "ded0e0f8",
   "metadata": {},
   "outputs": [
    {
     "data": {
      "application/vnd.plotly.v1+json": {
       "config": {
        "plotlyServerURL": "https://plot.ly"
       },
       "data": [
        {
         "dimensions": [
          {
           "label": "Objective Value",
           "range": [
            0.47039869432721454,
            0.5957566722410048
           ],
           "values": [
            0.5572654263084583,
            0.555923148887486,
            0.5663090171720322,
            0.5659179572626563,
            0.5722969731399775,
            0.5602332740782118,
            0.5594327942361544,
            0.5612302485172769,
            0.5709337024179633,
            0.5536326627139811,
            0.5788413171622786,
            0.565420857971978,
            0.5702396861852936,
            0.5785423921056706,
            0.580642537329219,
            0.5708028190198166,
            0.5807222470573771,
            0.5745111486315962,
            0.5808130577641826,
            0.5843898872781985,
            0.5844529285386657,
            0.584444560612608,
            0.573189266118602,
            0.5878886794597901,
            0.582928962062284,
            0.582690970598323,
            0.5873878718624554,
            0.5825975641159025,
            0.587352943816541,
            0.578272062027448,
            0.5710676139274168,
            0.5786683244238731,
            0.5764709454861427,
            0.5784370912661718,
            0.5864284559529327,
            0.5861804887038774,
            0.5767011788188292,
            0.5713729227081208,
            0.5957566722410048,
            0.5743438941453616,
            0.5789803547120104,
            0.5864089899045173,
            0.5867203597333888,
            0.5791565142008842,
            0.4799324470795776,
            0.586484444148881,
            0.5771315686017224,
            0.5822008850774533,
            0.576162263850328,
            0.5803536448340234,
            0.5558355853882528,
            0.5880574786928293,
            0.5880355820580485,
            0.5814261682545974,
            0.5906733559557266,
            0.5880978756713011,
            0.586040649565172,
            0.5755117901010438,
            0.47039869432721454,
            0.5755256310177973,
            0.5788634268431782,
            0.58717289998069,
            0.5771306721311846,
            0.5861872225817877,
            0.5870467656453029,
            0.5881372091636994,
            0.5753284995911884,
            0.5706645580368768,
            0.5755867292612173,
            0.5847617297218448,
            0.5764012859777147,
            0.5899234652315016,
            0.5898994683019145,
            0.5896198150519022,
            0.5809371281920803,
            0.585208891854009,
            0.5829664562663377,
            0.564147913321314,
            0.5914333269139425,
            0.5833006991036325,
            0.5782463060762879,
            0.5870569672668943,
            0.5881113004928908,
            0.5791500603489594,
            0.5719270572620727,
            0.5825777143359459,
            0.5940849908627408,
            0.5609142649899441,
            0.5800091764659893,
            0.5786107283575719,
            0.5754054749010343,
            0.5940794694767559,
            0.5776959356852563,
            0.5846618887608275,
            0.5861425403067854,
            0.5773876567815142,
            0.5911138023142593,
            0.5853516806128765,
            0.5812362068603647,
            0.5571567036315933
           ]
          },
          {
           "label": "max_depth",
           "range": [
            1,
            30
           ],
           "values": [
            7,
            10,
            7,
            15,
            16,
            5,
            3,
            22,
            9,
            11,
            30,
            27,
            30,
            22,
            23,
            25,
            30,
            19,
            25,
            27,
            26,
            26,
            27,
            19,
            19,
            19,
            16,
            15,
            13,
            13,
            17,
            12,
            13,
            8,
            17,
            16,
            18,
            20,
            13,
            14,
            6,
            17,
            11,
            10,
            1,
            10,
            14,
            12,
            21,
            9,
            15,
            11,
            11,
            7,
            12,
            11,
            8,
            12,
            11,
            5,
            9,
            14,
            11,
            13,
            16,
            10,
            8,
            10,
            9,
            5,
            12,
            15,
            15,
            14,
            15,
            14,
            13,
            12,
            14,
            15,
            17,
            14,
            10,
            16,
            18,
            13,
            10,
            10,
            7,
            13,
            12,
            10,
            9,
            10,
            14,
            15,
            8,
            18,
            8,
            3
           ]
          },
          {
           "label": "min_child_samples",
           "range": [
            1,
            10
           ],
           "values": [
            9,
            10,
            8,
            9,
            7,
            10,
            5,
            10,
            9,
            3,
            6,
            6,
            6,
            3,
            1,
            4,
            1,
            1,
            1,
            2,
            2,
            2,
            3,
            2,
            2,
            4,
            2,
            4,
            2,
            3,
            5,
            2,
            2,
            3,
            2,
            1,
            4,
            3,
            2,
            8,
            1,
            2,
            2,
            3,
            5,
            1,
            2,
            3,
            7,
            4,
            1,
            1,
            1,
            1,
            1,
            1,
            1,
            1,
            1,
            1,
            1,
            2,
            2,
            1,
            2,
            1,
            1,
            1,
            1,
            2,
            1,
            2,
            2,
            1,
            2,
            3,
            1,
            10,
            2,
            3,
            2,
            2,
            1,
            2,
            3,
            1,
            2,
            9,
            2,
            3,
            7,
            2,
            2,
            2,
            2,
            3,
            2,
            2,
            3,
            2
           ]
          },
          {
           "label": "n_estimators",
           "range": [
            500,
            999
           ],
           "values": [
            904,
            500,
            999,
            924,
            981,
            811,
            870,
            915,
            946,
            753,
            613,
            601,
            646,
            675,
            664,
            562,
            709,
            747,
            713,
            716,
            807,
            811,
            805,
            838,
            833,
            868,
            774,
            770,
            842,
            877,
            849,
            764,
            798,
            888,
            836,
            848,
            959,
            781,
            909,
            920,
            952,
            838,
            901,
            900,
            989,
            930,
            901,
            867,
            963,
            934,
            823,
            934,
            974,
            982,
            733,
            740,
            735,
            694,
            966,
            735,
            940,
            785,
            666,
            996,
            689,
            738,
            752,
            640,
            728,
            550,
            703,
            772,
            761,
            757,
            722,
            758,
            798,
            787,
            767,
            742,
            757,
            773,
            719,
            680,
            715,
            745,
            702,
            657,
            704,
            720,
            812,
            731,
            763,
            728,
            692,
            708,
            771,
            778,
            792,
            819
           ]
          },
          {
           "label": "num_iterations",
           "range": [
            511,
            986
           ],
           "values": [
            627,
            753,
            763,
            754,
            720,
            705,
            875,
            905,
            835,
            962,
            522,
            511,
            525,
            603,
            597,
            602,
            565,
            657,
            563,
            562,
            671,
            664,
            663,
            681,
            804,
            685,
            647,
            797,
            715,
            631,
            712,
            632,
            732,
            691,
            769,
            772,
            749,
            798,
            849,
            869,
            962,
            840,
            733,
            733,
            923,
            704,
            746,
            645,
            986,
            834,
            688,
            701,
            712,
            613,
            717,
            644,
            579,
            676,
            698,
            778,
            722,
            636,
            653,
            665,
            617,
            676,
            589,
            678,
            710,
            758,
            542,
            654,
            699,
            692,
            695,
            617,
            648,
            667,
            722,
            726,
            783,
            745,
            687,
            680,
            641,
            659,
            739,
            744,
            722,
            918,
            823,
            689,
            761,
            687,
            733,
            708,
            875,
            848,
            892,
            889
           ]
          },
          {
           "label": "num_leaves",
           "range": [
            2,
            32
           ],
           "values": [
            16,
            6,
            31,
            17,
            24,
            9,
            25,
            9,
            24,
            4,
            24,
            25,
            32,
            21,
            19,
            14,
            20,
            13,
            19,
            20,
            29,
            29,
            29,
            27,
            29,
            28,
            27,
            26,
            22,
            27,
            22,
            31,
            23,
            27,
            30,
            31,
            27,
            17,
            32,
            26,
            32,
            30,
            32,
            32,
            23,
            25,
            28,
            31,
            22,
            25,
            7,
            26,
            26,
            24,
            26,
            26,
            26,
            14,
            2,
            28,
            24,
            26,
            28,
            25,
            30,
            27,
            23,
            11,
            20,
            29,
            21,
            27,
            27,
            25,
            28,
            24,
            27,
            30,
            25,
            25,
            23,
            26,
            27,
            28,
            27,
            29,
            27,
            18,
            25,
            31,
            29,
            27,
            27,
            30,
            24,
            28,
            25,
            22,
            24,
            25
           ]
          }
         ],
         "labelangle": 30,
         "labelside": "bottom",
         "line": {
          "color": [
           0.5572654263084583,
           0.555923148887486,
           0.5663090171720322,
           0.5659179572626563,
           0.5722969731399775,
           0.5602332740782118,
           0.5594327942361544,
           0.5612302485172769,
           0.5709337024179633,
           0.5536326627139811,
           0.5788413171622786,
           0.565420857971978,
           0.5702396861852936,
           0.5785423921056706,
           0.580642537329219,
           0.5708028190198166,
           0.5807222470573771,
           0.5745111486315962,
           0.5808130577641826,
           0.5843898872781985,
           0.5844529285386657,
           0.584444560612608,
           0.573189266118602,
           0.5878886794597901,
           0.582928962062284,
           0.582690970598323,
           0.5873878718624554,
           0.5825975641159025,
           0.587352943816541,
           0.578272062027448,
           0.5710676139274168,
           0.5786683244238731,
           0.5764709454861427,
           0.5784370912661718,
           0.5864284559529327,
           0.5861804887038774,
           0.5767011788188292,
           0.5713729227081208,
           0.5957566722410048,
           0.5743438941453616,
           0.5789803547120104,
           0.5864089899045173,
           0.5867203597333888,
           0.5791565142008842,
           0.4799324470795776,
           0.586484444148881,
           0.5771315686017224,
           0.5822008850774533,
           0.576162263850328,
           0.5803536448340234,
           0.5558355853882528,
           0.5880574786928293,
           0.5880355820580485,
           0.5814261682545974,
           0.5906733559557266,
           0.5880978756713011,
           0.586040649565172,
           0.5755117901010438,
           0.47039869432721454,
           0.5755256310177973,
           0.5788634268431782,
           0.58717289998069,
           0.5771306721311846,
           0.5861872225817877,
           0.5870467656453029,
           0.5881372091636994,
           0.5753284995911884,
           0.5706645580368768,
           0.5755867292612173,
           0.5847617297218448,
           0.5764012859777147,
           0.5899234652315016,
           0.5898994683019145,
           0.5896198150519022,
           0.5809371281920803,
           0.585208891854009,
           0.5829664562663377,
           0.564147913321314,
           0.5914333269139425,
           0.5833006991036325,
           0.5782463060762879,
           0.5870569672668943,
           0.5881113004928908,
           0.5791500603489594,
           0.5719270572620727,
           0.5825777143359459,
           0.5940849908627408,
           0.5609142649899441,
           0.5800091764659893,
           0.5786107283575719,
           0.5754054749010343,
           0.5940794694767559,
           0.5776959356852563,
           0.5846618887608275,
           0.5861425403067854,
           0.5773876567815142,
           0.5911138023142593,
           0.5853516806128765,
           0.5812362068603647,
           0.5571567036315933
          ],
          "colorbar": {
           "title": {
            "text": "Objective Value"
           }
          },
          "colorscale": [
           [
            0,
            "rgb(247,251,255)"
           ],
           [
            0.125,
            "rgb(222,235,247)"
           ],
           [
            0.25,
            "rgb(198,219,239)"
           ],
           [
            0.375,
            "rgb(158,202,225)"
           ],
           [
            0.5,
            "rgb(107,174,214)"
           ],
           [
            0.625,
            "rgb(66,146,198)"
           ],
           [
            0.75,
            "rgb(33,113,181)"
           ],
           [
            0.875,
            "rgb(8,81,156)"
           ],
           [
            1,
            "rgb(8,48,107)"
           ]
          ],
          "reversescale": false,
          "showscale": true
         },
         "type": "parcoords"
        }
       ],
       "layout": {
        "template": {
         "data": {
          "bar": [
           {
            "error_x": {
             "color": "#2a3f5f"
            },
            "error_y": {
             "color": "#2a3f5f"
            },
            "marker": {
             "line": {
              "color": "#E5ECF6",
              "width": 0.5
             },
             "pattern": {
              "fillmode": "overlay",
              "size": 10,
              "solidity": 0.2
             }
            },
            "type": "bar"
           }
          ],
          "barpolar": [
           {
            "marker": {
             "line": {
              "color": "#E5ECF6",
              "width": 0.5
             },
             "pattern": {
              "fillmode": "overlay",
              "size": 10,
              "solidity": 0.2
             }
            },
            "type": "barpolar"
           }
          ],
          "carpet": [
           {
            "aaxis": {
             "endlinecolor": "#2a3f5f",
             "gridcolor": "white",
             "linecolor": "white",
             "minorgridcolor": "white",
             "startlinecolor": "#2a3f5f"
            },
            "baxis": {
             "endlinecolor": "#2a3f5f",
             "gridcolor": "white",
             "linecolor": "white",
             "minorgridcolor": "white",
             "startlinecolor": "#2a3f5f"
            },
            "type": "carpet"
           }
          ],
          "choropleth": [
           {
            "colorbar": {
             "outlinewidth": 0,
             "ticks": ""
            },
            "type": "choropleth"
           }
          ],
          "contour": [
           {
            "colorbar": {
             "outlinewidth": 0,
             "ticks": ""
            },
            "colorscale": [
             [
              0,
              "#0d0887"
             ],
             [
              0.1111111111111111,
              "#46039f"
             ],
             [
              0.2222222222222222,
              "#7201a8"
             ],
             [
              0.3333333333333333,
              "#9c179e"
             ],
             [
              0.4444444444444444,
              "#bd3786"
             ],
             [
              0.5555555555555556,
              "#d8576b"
             ],
             [
              0.6666666666666666,
              "#ed7953"
             ],
             [
              0.7777777777777778,
              "#fb9f3a"
             ],
             [
              0.8888888888888888,
              "#fdca26"
             ],
             [
              1,
              "#f0f921"
             ]
            ],
            "type": "contour"
           }
          ],
          "contourcarpet": [
           {
            "colorbar": {
             "outlinewidth": 0,
             "ticks": ""
            },
            "type": "contourcarpet"
           }
          ],
          "heatmap": [
           {
            "colorbar": {
             "outlinewidth": 0,
             "ticks": ""
            },
            "colorscale": [
             [
              0,
              "#0d0887"
             ],
             [
              0.1111111111111111,
              "#46039f"
             ],
             [
              0.2222222222222222,
              "#7201a8"
             ],
             [
              0.3333333333333333,
              "#9c179e"
             ],
             [
              0.4444444444444444,
              "#bd3786"
             ],
             [
              0.5555555555555556,
              "#d8576b"
             ],
             [
              0.6666666666666666,
              "#ed7953"
             ],
             [
              0.7777777777777778,
              "#fb9f3a"
             ],
             [
              0.8888888888888888,
              "#fdca26"
             ],
             [
              1,
              "#f0f921"
             ]
            ],
            "type": "heatmap"
           }
          ],
          "heatmapgl": [
           {
            "colorbar": {
             "outlinewidth": 0,
             "ticks": ""
            },
            "colorscale": [
             [
              0,
              "#0d0887"
             ],
             [
              0.1111111111111111,
              "#46039f"
             ],
             [
              0.2222222222222222,
              "#7201a8"
             ],
             [
              0.3333333333333333,
              "#9c179e"
             ],
             [
              0.4444444444444444,
              "#bd3786"
             ],
             [
              0.5555555555555556,
              "#d8576b"
             ],
             [
              0.6666666666666666,
              "#ed7953"
             ],
             [
              0.7777777777777778,
              "#fb9f3a"
             ],
             [
              0.8888888888888888,
              "#fdca26"
             ],
             [
              1,
              "#f0f921"
             ]
            ],
            "type": "heatmapgl"
           }
          ],
          "histogram": [
           {
            "marker": {
             "pattern": {
              "fillmode": "overlay",
              "size": 10,
              "solidity": 0.2
             }
            },
            "type": "histogram"
           }
          ],
          "histogram2d": [
           {
            "colorbar": {
             "outlinewidth": 0,
             "ticks": ""
            },
            "colorscale": [
             [
              0,
              "#0d0887"
             ],
             [
              0.1111111111111111,
              "#46039f"
             ],
             [
              0.2222222222222222,
              "#7201a8"
             ],
             [
              0.3333333333333333,
              "#9c179e"
             ],
             [
              0.4444444444444444,
              "#bd3786"
             ],
             [
              0.5555555555555556,
              "#d8576b"
             ],
             [
              0.6666666666666666,
              "#ed7953"
             ],
             [
              0.7777777777777778,
              "#fb9f3a"
             ],
             [
              0.8888888888888888,
              "#fdca26"
             ],
             [
              1,
              "#f0f921"
             ]
            ],
            "type": "histogram2d"
           }
          ],
          "histogram2dcontour": [
           {
            "colorbar": {
             "outlinewidth": 0,
             "ticks": ""
            },
            "colorscale": [
             [
              0,
              "#0d0887"
             ],
             [
              0.1111111111111111,
              "#46039f"
             ],
             [
              0.2222222222222222,
              "#7201a8"
             ],
             [
              0.3333333333333333,
              "#9c179e"
             ],
             [
              0.4444444444444444,
              "#bd3786"
             ],
             [
              0.5555555555555556,
              "#d8576b"
             ],
             [
              0.6666666666666666,
              "#ed7953"
             ],
             [
              0.7777777777777778,
              "#fb9f3a"
             ],
             [
              0.8888888888888888,
              "#fdca26"
             ],
             [
              1,
              "#f0f921"
             ]
            ],
            "type": "histogram2dcontour"
           }
          ],
          "mesh3d": [
           {
            "colorbar": {
             "outlinewidth": 0,
             "ticks": ""
            },
            "type": "mesh3d"
           }
          ],
          "parcoords": [
           {
            "line": {
             "colorbar": {
              "outlinewidth": 0,
              "ticks": ""
             }
            },
            "type": "parcoords"
           }
          ],
          "pie": [
           {
            "automargin": true,
            "type": "pie"
           }
          ],
          "scatter": [
           {
            "marker": {
             "colorbar": {
              "outlinewidth": 0,
              "ticks": ""
             }
            },
            "type": "scatter"
           }
          ],
          "scatter3d": [
           {
            "line": {
             "colorbar": {
              "outlinewidth": 0,
              "ticks": ""
             }
            },
            "marker": {
             "colorbar": {
              "outlinewidth": 0,
              "ticks": ""
             }
            },
            "type": "scatter3d"
           }
          ],
          "scattercarpet": [
           {
            "marker": {
             "colorbar": {
              "outlinewidth": 0,
              "ticks": ""
             }
            },
            "type": "scattercarpet"
           }
          ],
          "scattergeo": [
           {
            "marker": {
             "colorbar": {
              "outlinewidth": 0,
              "ticks": ""
             }
            },
            "type": "scattergeo"
           }
          ],
          "scattergl": [
           {
            "marker": {
             "colorbar": {
              "outlinewidth": 0,
              "ticks": ""
             }
            },
            "type": "scattergl"
           }
          ],
          "scattermapbox": [
           {
            "marker": {
             "colorbar": {
              "outlinewidth": 0,
              "ticks": ""
             }
            },
            "type": "scattermapbox"
           }
          ],
          "scatterpolar": [
           {
            "marker": {
             "colorbar": {
              "outlinewidth": 0,
              "ticks": ""
             }
            },
            "type": "scatterpolar"
           }
          ],
          "scatterpolargl": [
           {
            "marker": {
             "colorbar": {
              "outlinewidth": 0,
              "ticks": ""
             }
            },
            "type": "scatterpolargl"
           }
          ],
          "scatterternary": [
           {
            "marker": {
             "colorbar": {
              "outlinewidth": 0,
              "ticks": ""
             }
            },
            "type": "scatterternary"
           }
          ],
          "surface": [
           {
            "colorbar": {
             "outlinewidth": 0,
             "ticks": ""
            },
            "colorscale": [
             [
              0,
              "#0d0887"
             ],
             [
              0.1111111111111111,
              "#46039f"
             ],
             [
              0.2222222222222222,
              "#7201a8"
             ],
             [
              0.3333333333333333,
              "#9c179e"
             ],
             [
              0.4444444444444444,
              "#bd3786"
             ],
             [
              0.5555555555555556,
              "#d8576b"
             ],
             [
              0.6666666666666666,
              "#ed7953"
             ],
             [
              0.7777777777777778,
              "#fb9f3a"
             ],
             [
              0.8888888888888888,
              "#fdca26"
             ],
             [
              1,
              "#f0f921"
             ]
            ],
            "type": "surface"
           }
          ],
          "table": [
           {
            "cells": {
             "fill": {
              "color": "#EBF0F8"
             },
             "line": {
              "color": "white"
             }
            },
            "header": {
             "fill": {
              "color": "#C8D4E3"
             },
             "line": {
              "color": "white"
             }
            },
            "type": "table"
           }
          ]
         },
         "layout": {
          "annotationdefaults": {
           "arrowcolor": "#2a3f5f",
           "arrowhead": 0,
           "arrowwidth": 1
          },
          "autotypenumbers": "strict",
          "coloraxis": {
           "colorbar": {
            "outlinewidth": 0,
            "ticks": ""
           }
          },
          "colorscale": {
           "diverging": [
            [
             0,
             "#8e0152"
            ],
            [
             0.1,
             "#c51b7d"
            ],
            [
             0.2,
             "#de77ae"
            ],
            [
             0.3,
             "#f1b6da"
            ],
            [
             0.4,
             "#fde0ef"
            ],
            [
             0.5,
             "#f7f7f7"
            ],
            [
             0.6,
             "#e6f5d0"
            ],
            [
             0.7,
             "#b8e186"
            ],
            [
             0.8,
             "#7fbc41"
            ],
            [
             0.9,
             "#4d9221"
            ],
            [
             1,
             "#276419"
            ]
           ],
           "sequential": [
            [
             0,
             "#0d0887"
            ],
            [
             0.1111111111111111,
             "#46039f"
            ],
            [
             0.2222222222222222,
             "#7201a8"
            ],
            [
             0.3333333333333333,
             "#9c179e"
            ],
            [
             0.4444444444444444,
             "#bd3786"
            ],
            [
             0.5555555555555556,
             "#d8576b"
            ],
            [
             0.6666666666666666,
             "#ed7953"
            ],
            [
             0.7777777777777778,
             "#fb9f3a"
            ],
            [
             0.8888888888888888,
             "#fdca26"
            ],
            [
             1,
             "#f0f921"
            ]
           ],
           "sequentialminus": [
            [
             0,
             "#0d0887"
            ],
            [
             0.1111111111111111,
             "#46039f"
            ],
            [
             0.2222222222222222,
             "#7201a8"
            ],
            [
             0.3333333333333333,
             "#9c179e"
            ],
            [
             0.4444444444444444,
             "#bd3786"
            ],
            [
             0.5555555555555556,
             "#d8576b"
            ],
            [
             0.6666666666666666,
             "#ed7953"
            ],
            [
             0.7777777777777778,
             "#fb9f3a"
            ],
            [
             0.8888888888888888,
             "#fdca26"
            ],
            [
             1,
             "#f0f921"
            ]
           ]
          },
          "colorway": [
           "#636efa",
           "#EF553B",
           "#00cc96",
           "#ab63fa",
           "#FFA15A",
           "#19d3f3",
           "#FF6692",
           "#B6E880",
           "#FF97FF",
           "#FECB52"
          ],
          "font": {
           "color": "#2a3f5f"
          },
          "geo": {
           "bgcolor": "white",
           "lakecolor": "white",
           "landcolor": "#E5ECF6",
           "showlakes": true,
           "showland": true,
           "subunitcolor": "white"
          },
          "hoverlabel": {
           "align": "left"
          },
          "hovermode": "closest",
          "mapbox": {
           "style": "light"
          },
          "paper_bgcolor": "white",
          "plot_bgcolor": "#E5ECF6",
          "polar": {
           "angularaxis": {
            "gridcolor": "white",
            "linecolor": "white",
            "ticks": ""
           },
           "bgcolor": "#E5ECF6",
           "radialaxis": {
            "gridcolor": "white",
            "linecolor": "white",
            "ticks": ""
           }
          },
          "scene": {
           "xaxis": {
            "backgroundcolor": "#E5ECF6",
            "gridcolor": "white",
            "gridwidth": 2,
            "linecolor": "white",
            "showbackground": true,
            "ticks": "",
            "zerolinecolor": "white"
           },
           "yaxis": {
            "backgroundcolor": "#E5ECF6",
            "gridcolor": "white",
            "gridwidth": 2,
            "linecolor": "white",
            "showbackground": true,
            "ticks": "",
            "zerolinecolor": "white"
           },
           "zaxis": {
            "backgroundcolor": "#E5ECF6",
            "gridcolor": "white",
            "gridwidth": 2,
            "linecolor": "white",
            "showbackground": true,
            "ticks": "",
            "zerolinecolor": "white"
           }
          },
          "shapedefaults": {
           "line": {
            "color": "#2a3f5f"
           }
          },
          "ternary": {
           "aaxis": {
            "gridcolor": "white",
            "linecolor": "white",
            "ticks": ""
           },
           "baxis": {
            "gridcolor": "white",
            "linecolor": "white",
            "ticks": ""
           },
           "bgcolor": "#E5ECF6",
           "caxis": {
            "gridcolor": "white",
            "linecolor": "white",
            "ticks": ""
           }
          },
          "title": {
           "x": 0.05
          },
          "xaxis": {
           "automargin": true,
           "gridcolor": "white",
           "linecolor": "white",
           "ticks": "",
           "title": {
            "standoff": 15
           },
           "zerolinecolor": "white",
           "zerolinewidth": 2
          },
          "yaxis": {
           "automargin": true,
           "gridcolor": "white",
           "linecolor": "white",
           "ticks": "",
           "title": {
            "standoff": 15
           },
           "zerolinecolor": "white",
           "zerolinewidth": 2
          }
         }
        },
        "title": {
         "text": "Parallel Coordinate Plot"
        }
       }
      }
     },
     "metadata": {},
     "output_type": "display_data"
    }
   ],
   "source": [
    "optuna.visualization.plot_parallel_coordinate(study)"
   ]
  },
  {
   "cell_type": "code",
   "execution_count": null,
   "id": "75db1ddf",
   "metadata": {},
   "outputs": [
    {
     "name": "stdout",
     "output_type": "stream",
     "text": [
      "Best trial: {'n_estimators': 909, 'max_depth': 13, 'num_leaves': 32, 'min_child_samples': 2, 'num_iterations': 849}\n"
     ]
    }
   ],
   "source": [
    "print(\"Best trial:\", study.best_trial.params)"
   ]
  },
  {
   "cell_type": "code",
   "execution_count": null,
   "id": "574699dc",
   "metadata": {},
   "outputs": [
    {
     "data": {
      "text/plain": [
       "909"
      ]
     },
     "execution_count": 133,
     "metadata": {},
     "output_type": "execute_result"
    }
   ],
   "source": [
    "study.best_trial.params[\"n_estimators\"]"
   ]
  },
  {
   "cell_type": "code",
   "execution_count": null,
   "id": "862eadd2",
   "metadata": {},
   "outputs": [
    {
     "data": {
      "text/html": [
       "<style>#sk-container-id-6 {color: black;background-color: white;}#sk-container-id-6 pre{padding: 0;}#sk-container-id-6 div.sk-toggleable {background-color: white;}#sk-container-id-6 label.sk-toggleable__label {cursor: pointer;display: block;width: 100%;margin-bottom: 0;padding: 0.3em;box-sizing: border-box;text-align: center;}#sk-container-id-6 label.sk-toggleable__label-arrow:before {content: \"▸\";float: left;margin-right: 0.25em;color: #696969;}#sk-container-id-6 label.sk-toggleable__label-arrow:hover:before {color: black;}#sk-container-id-6 div.sk-estimator:hover label.sk-toggleable__label-arrow:before {color: black;}#sk-container-id-6 div.sk-toggleable__content {max-height: 0;max-width: 0;overflow: hidden;text-align: left;background-color: #f0f8ff;}#sk-container-id-6 div.sk-toggleable__content pre {margin: 0.2em;color: black;border-radius: 0.25em;background-color: #f0f8ff;}#sk-container-id-6 input.sk-toggleable__control:checked~div.sk-toggleable__content {max-height: 200px;max-width: 100%;overflow: auto;}#sk-container-id-6 input.sk-toggleable__control:checked~label.sk-toggleable__label-arrow:before {content: \"▾\";}#sk-container-id-6 div.sk-estimator input.sk-toggleable__control:checked~label.sk-toggleable__label {background-color: #d4ebff;}#sk-container-id-6 div.sk-label input.sk-toggleable__control:checked~label.sk-toggleable__label {background-color: #d4ebff;}#sk-container-id-6 input.sk-hidden--visually {border: 0;clip: rect(1px 1px 1px 1px);clip: rect(1px, 1px, 1px, 1px);height: 1px;margin: -1px;overflow: hidden;padding: 0;position: absolute;width: 1px;}#sk-container-id-6 div.sk-estimator {font-family: monospace;background-color: #f0f8ff;border: 1px dotted black;border-radius: 0.25em;box-sizing: border-box;margin-bottom: 0.5em;}#sk-container-id-6 div.sk-estimator:hover {background-color: #d4ebff;}#sk-container-id-6 div.sk-parallel-item::after {content: \"\";width: 100%;border-bottom: 1px solid gray;flex-grow: 1;}#sk-container-id-6 div.sk-label:hover label.sk-toggleable__label {background-color: #d4ebff;}#sk-container-id-6 div.sk-serial::before {content: \"\";position: absolute;border-left: 1px solid gray;box-sizing: border-box;top: 0;bottom: 0;left: 50%;z-index: 0;}#sk-container-id-6 div.sk-serial {display: flex;flex-direction: column;align-items: center;background-color: white;padding-right: 0.2em;padding-left: 0.2em;position: relative;}#sk-container-id-6 div.sk-item {position: relative;z-index: 1;}#sk-container-id-6 div.sk-parallel {display: flex;align-items: stretch;justify-content: center;background-color: white;position: relative;}#sk-container-id-6 div.sk-item::before, #sk-container-id-6 div.sk-parallel-item::before {content: \"\";position: absolute;border-left: 1px solid gray;box-sizing: border-box;top: 0;bottom: 0;left: 50%;z-index: -1;}#sk-container-id-6 div.sk-parallel-item {display: flex;flex-direction: column;z-index: 1;position: relative;background-color: white;}#sk-container-id-6 div.sk-parallel-item:first-child::after {align-self: flex-end;width: 50%;}#sk-container-id-6 div.sk-parallel-item:last-child::after {align-self: flex-start;width: 50%;}#sk-container-id-6 div.sk-parallel-item:only-child::after {width: 0;}#sk-container-id-6 div.sk-dashed-wrapped {border: 1px dashed gray;margin: 0 0.4em 0.5em 0.4em;box-sizing: border-box;padding-bottom: 0.4em;background-color: white;}#sk-container-id-6 div.sk-label label {font-family: monospace;font-weight: bold;display: inline-block;line-height: 1.2em;}#sk-container-id-6 div.sk-label-container {text-align: center;}#sk-container-id-6 div.sk-container {/* jupyter's `normalize.less` sets `[hidden] { display: none; }` but bootstrap.min.css set `[hidden] { display: none !important; }` so we also need the `!important` here to be able to override the default hidden behavior on the sphinx rendered scikit-learn.org. See: https://github.com/scikit-learn/scikit-learn/issues/21755 */display: inline-block !important;position: relative;}#sk-container-id-6 div.sk-text-repr-fallback {display: none;}</style><div id=\"sk-container-id-6\" class=\"sk-top-container\"><div class=\"sk-text-repr-fallback\"><pre>LGBMRegressor(max_depth=13, min_child_samples=2, n_estimators=909,\n",
       "              num_iterations=849, num_leaves=32, random_state=42)</pre><b>In a Jupyter environment, please rerun this cell to show the HTML representation or trust the notebook. <br />On GitHub, the HTML representation is unable to render, please try loading this page with nbviewer.org.</b></div><div class=\"sk-container\" hidden><div class=\"sk-item\"><div class=\"sk-estimator sk-toggleable\"><input class=\"sk-toggleable__control sk-hidden--visually\" id=\"sk-estimator-id-6\" type=\"checkbox\" checked><label for=\"sk-estimator-id-6\" class=\"sk-toggleable__label sk-toggleable__label-arrow\">LGBMRegressor</label><div class=\"sk-toggleable__content\"><pre>LGBMRegressor(max_depth=13, min_child_samples=2, n_estimators=909,\n",
       "              num_iterations=849, num_leaves=32, random_state=42)</pre></div></div></div></div></div>"
      ],
      "text/plain": [
       "LGBMRegressor(max_depth=13, min_child_samples=2, n_estimators=909,\n",
       "              num_iterations=849, num_leaves=32, random_state=42)"
      ]
     },
     "execution_count": 134,
     "metadata": {},
     "output_type": "execute_result"
    }
   ],
   "source": [
    "lgbm_params = {\n",
    "    \"random_state\": 42,\n",
    "    \"learning_rate\": 0.1,\n",
    "    \"n_estimators\": study.best_trial.params[\"n_estimators\"],\n",
    "    \"max_depth\": study.best_trial.params[\"max_depth\"],\n",
    "    \"num_leaves\": study.best_trial.params[\"num_leaves\"],\n",
    "    \"min_child_samples\": study.best_trial.params[\"min_child_samples\"],\n",
    "    \"num_iterations\": study.best_trial.params[\"num_iterations\"]\n",
    "}\n",
    "\n",
    "lgbm = LGBMRegressor(**lgbm_params)\n",
    "lgbm.fit(As_X_train, As_y_train)"
   ]
  },
  {
   "cell_type": "code",
   "execution_count": null,
   "id": "8577fb37",
   "metadata": {},
   "outputs": [],
   "source": [
    "y_train_pred = lgbm.predict(As_X_train)\n",
    "y_test_pred = lgbm.predict(As_X_test)"
   ]
  },
  {
   "cell_type": "code",
   "execution_count": null,
   "id": "2ea0526a",
   "metadata": {},
   "outputs": [],
   "source": [
    "# plt.scatter(y_train_pred, np.array(As_y_train))"
   ]
  },
  {
   "cell_type": "code",
   "execution_count": null,
   "id": "d2a4dd85",
   "metadata": {},
   "outputs": [
    {
     "name": "stdout",
     "output_type": "stream",
     "text": [
      "Train RMSE:  0.015023097243883822\n",
      "Test RMSE:  0.4629235746914222\n"
     ]
    }
   ],
   "source": [
    "print(\"Train RMSE: \", np.sqrt(mean_squared_error(As_y_train, y_train_pred)))\n",
    "print(\"Test RMSE: \", np.sqrt(mean_squared_error(As_y_test, y_test_pred)))"
   ]
  },
  {
   "cell_type": "code",
   "execution_count": null,
   "id": "08fe787a",
   "metadata": {},
   "outputs": [
    {
     "name": "stdout",
     "output_type": "stream",
     "text": [
      "Train R2:  0.9996173088590748\n",
      "Test R2:  0.6253124816629175\n"
     ]
    }
   ],
   "source": [
    "print(\"Train R2: \", r2_score(As_y_train, y_train_pred))\n",
    "print(\"Test R2: \", r2_score(As_y_test, y_test_pred))"
   ]
  },
  {
   "cell_type": "code",
   "execution_count": null,
   "id": "5ec4820c",
   "metadata": {},
   "outputs": [
    {
     "data": {
      "image/png": "[encoded data removed]",
      "text/plain": [
       "<Figure size 432x288 with 1 Axes>"
      ]
     },
     "metadata": {
      "needs_background": "light"
     },
     "output_type": "display_data"
    }
   ],
   "source": [
    "plt.scatter(y_train_pred, np.array(As_y_train), color=\"orange\", alpha=0.3)\n",
    "plt.scatter(y_test_pred, np.array(As_y_test), color=\"green\", alpha=0.4)\n",
    "plt.axis(\"auto\") # scaled, tight, auto, image, square\n",
    "# plt.xlim([0, 1.5]) \n",
    "# plt.ylim(0, None) \n",
    "plt.xlabel('Predicted Values')\n",
    "plt.ylabel('Actual Values')\n",
    "\n",
    "# Add y=x line\n",
    "plt.plot([0, 4.0], [0, 4.0], color='red', linestyle='-')\n",
    "\n",
    "plt.show()"
   ]
  },
  {
   "attachments": {},
   "cell_type": "markdown",
   "id": "e0507d63",
   "metadata": {},
   "source": [
    "Cd"
   ]
  },
  {
   "attachments": {},
   "cell_type": "markdown",
   "id": "f8f809d9",
   "metadata": {},
   "source": [
    "Optimization"
   ]
  },
  {
   "cell_type": "code",
   "execution_count": null,
   "id": "b7aeaf0a",
   "metadata": {},
   "outputs": [
    {
     "name": "stderr",
     "output_type": "stream",
     "text": [
      "\u001b[32m[I 2023-08-17 21:52:38,692]\u001b[0m A new study created in memory with name: lgbm_parameter_opt\u001b[0m\n",
      "\u001b[32m[I 2023-08-17 21:52:39,429]\u001b[0m Trial 0 finished with value: 0.6375438179098364 and parameters: {'n_estimators': 566, 'max_depth': 30, 'num_leaves': 4, 'min_child_samples': 3, 'num_iterations': 904}. Best is trial 0 with value: 0.6375438179098364.\u001b[0m\n",
      "\u001b[32m[I 2023-08-17 21:52:39,721]\u001b[0m Trial 1 finished with value: 0.5680055165383955 and parameters: {'n_estimators': 660, 'max_depth': 16, 'num_leaves': 2, 'min_child_samples': 4, 'num_iterations': 673}. Best is trial 0 with value: 0.6375438179098364.\u001b[0m\n",
      "\u001b[32m[I 2023-08-17 21:52:40,564]\u001b[0m Trial 2 finished with value: 0.6465881242599765 and parameters: {'n_estimators': 722, 'max_depth': 23, 'num_leaves': 6, 'min_child_samples': 9, 'num_iterations': 931}. Best is trial 2 with value: 0.6465881242599765.\u001b[0m\n",
      "\u001b[32m[I 2023-08-17 21:52:41,457]\u001b[0m Trial 3 finished with value: 0.6486968890563074 and parameters: {'n_estimators': 954, 'max_depth': 30, 'num_leaves': 6, 'min_child_samples': 8, 'num_iterations': 935}. Best is trial 3 with value: 0.6486968890563074.\u001b[0m\n",
      "\u001b[32m[I 2023-08-17 21:52:43,353]\u001b[0m Trial 4 finished with value: 0.6419807808002471 and parameters: {'n_estimators': 522, 'max_depth': 28, 'num_leaves': 20, 'min_child_samples': 5, 'num_iterations': 750}. Best is trial 3 with value: 0.6486968890563074.\u001b[0m\n",
      "\u001b[32m[I 2023-08-17 21:52:44,469]\u001b[0m Trial 5 finished with value: 0.6503142794822642 and parameters: {'n_estimators': 515, 'max_depth': 15, 'num_leaves': 17, 'min_child_samples': 7, 'num_iterations': 527}. Best is trial 5 with value: 0.6503142794822642.\u001b[0m\n",
      "\u001b[32m[I 2023-08-17 21:52:46,080]\u001b[0m Trial 6 finished with value: 0.6447358265394664 and parameters: {'n_estimators': 896, 'max_depth': 8, 'num_leaves': 23, 'min_child_samples': 5, 'num_iterations': 591}. Best is trial 5 with value: 0.6503142794822642.\u001b[0m\n",
      "\u001b[32m[I 2023-08-17 21:52:47,258]\u001b[0m Trial 7 finished with value: 0.6453871940439783 and parameters: {'n_estimators': 554, 'max_depth': 19, 'num_leaves': 10, 'min_child_samples': 6, 'num_iterations': 865}. Best is trial 5 with value: 0.6503142794822642.\u001b[0m\n",
      "\u001b[32m[I 2023-08-17 21:52:49,287]\u001b[0m Trial 8 finished with value: 0.6334798139245634 and parameters: {'n_estimators': 882, 'max_depth': 8, 'num_leaves': 28, 'min_child_samples': 10, 'num_iterations': 787}. Best is trial 5 with value: 0.6503142794822642.\u001b[0m\n",
      "\u001b[32m[I 2023-08-17 21:52:50,758]\u001b[0m Trial 9 finished with value: 0.6454787670729237 and parameters: {'n_estimators': 852, 'max_depth': 27, 'num_leaves': 12, 'min_child_samples': 6, 'num_iterations': 978}. Best is trial 5 with value: 0.6503142794822642.\u001b[0m\n",
      "\u001b[32m[I 2023-08-17 21:52:51,240]\u001b[0m Trial 10 finished with value: 0.6331060914691331 and parameters: {'n_estimators': 647, 'max_depth': 3, 'num_leaves': 15, 'min_child_samples': 1, 'num_iterations': 508}. Best is trial 5 with value: 0.6503142794822642.\u001b[0m\n",
      "\u001b[32m[I 2023-08-17 21:52:52,777]\u001b[0m Trial 11 finished with value: 0.6438245456056944 and parameters: {'n_estimators': 996, 'max_depth': 12, 'num_leaves': 28, 'min_child_samples': 8, 'num_iterations': 510}. Best is trial 5 with value: 0.6503142794822642.\u001b[0m\n",
      "\u001b[32m[I 2023-08-17 21:52:53,547]\u001b[0m Trial 12 finished with value: 0.6404978018460066 and parameters: {'n_estimators': 785, 'max_depth': 21, 'num_leaves': 9, 'min_child_samples': 8, 'num_iterations': 659}. Best is trial 5 with value: 0.6503142794822642.\u001b[0m\n",
      "\u001b[32m[I 2023-08-17 21:52:55,192]\u001b[0m Trial 13 finished with value: 0.6461032003512498 and parameters: {'n_estimators': 944, 'max_depth': 14, 'num_leaves': 17, 'min_child_samples': 7, 'num_iterations': 816}. Best is trial 5 with value: 0.6503142794822642.\u001b[0m\n",
      "\u001b[32m[I 2023-08-17 21:52:56,918]\u001b[0m Trial 14 finished with value: 0.6477850454715984 and parameters: {'n_estimators': 814, 'max_depth': 24, 'num_leaves': 22, 'min_child_samples': 10, 'num_iterations': 704}. Best is trial 5 with value: 0.6503142794822642.\u001b[0m\n",
      "\u001b[32m[I 2023-08-17 21:52:57,927]\u001b[0m Trial 15 finished with value: 0.6483431835452262 and parameters: {'n_estimators': 716, 'max_depth': 18, 'num_leaves': 14, 'min_child_samples': 8, 'num_iterations': 599}. Best is trial 5 with value: 0.6503142794822642.\u001b[0m\n",
      "\u001b[32m[I 2023-08-17 21:53:01,178]\u001b[0m Trial 16 finished with value: 0.6475827052426749 and parameters: {'n_estimators': 632, 'max_depth': 11, 'num_leaves': 32, 'min_child_samples': 7, 'num_iterations': 993}. Best is trial 5 with value: 0.6503142794822642.\u001b[0m\n",
      "\u001b[32m[I 2023-08-17 21:53:02,059]\u001b[0m Trial 17 finished with value: 0.6451362498948708 and parameters: {'n_estimators': 767, 'max_depth': 7, 'num_leaves': 8, 'min_child_samples': 9, 'num_iterations': 836}. Best is trial 5 with value: 0.6503142794822642.\u001b[0m\n",
      "\u001b[32m[I 2023-08-17 21:53:02,594]\u001b[0m Trial 18 finished with value: 0.6419328184024998 and parameters: {'n_estimators': 997, 'max_depth': 3, 'num_leaves': 19, 'min_child_samples': 3, 'num_iterations': 599}. Best is trial 5 with value: 0.6503142794822642.\u001b[0m\n",
      "\u001b[32m[I 2023-08-17 21:53:03,824]\u001b[0m Trial 19 finished with value: 0.6432419195546866 and parameters: {'n_estimators': 938, 'max_depth': 25, 'num_leaves': 13, 'min_child_samples': 7, 'num_iterations': 741}. Best is trial 5 with value: 0.6503142794822642.\u001b[0m\n",
      "\u001b[32m[I 2023-08-17 21:53:06,327]\u001b[0m Trial 20 finished with value: 0.6402479986208022 and parameters: {'n_estimators': 501, 'max_depth': 16, 'num_leaves': 25, 'min_child_samples': 9, 'num_iterations': 919}. Best is trial 5 with value: 0.6503142794822642.\u001b[0m\n",
      "\u001b[32m[I 2023-08-17 21:53:07,514]\u001b[0m Trial 21 finished with value: 0.6419622783427783 and parameters: {'n_estimators': 708, 'max_depth': 18, 'num_leaves': 17, 'min_child_samples': 8, 'num_iterations': 586}. Best is trial 5 with value: 0.6503142794822642.\u001b[0m\n",
      "\u001b[32m[I 2023-08-17 21:53:08,386]\u001b[0m Trial 22 finished with value: 0.6464428393466095 and parameters: {'n_estimators': 826, 'max_depth': 20, 'num_leaves': 13, 'min_child_samples': 7, 'num_iterations': 551}. Best is trial 5 with value: 0.6503142794822642.\u001b[0m\n",
      "\u001b[32m[I 2023-08-17 21:53:08,969]\u001b[0m Trial 23 finished with value: 0.6546131855671419 and parameters: {'n_estimators': 608, 'max_depth': 11, 'num_leaves': 6, 'min_child_samples': 8, 'num_iterations': 643}. Best is trial 23 with value: 0.6546131855671419.\u001b[0m\n",
      "\u001b[32m[I 2023-08-17 21:53:09,549]\u001b[0m Trial 24 finished with value: 0.6535943472388727 and parameters: {'n_estimators': 577, 'max_depth': 13, 'num_leaves': 6, 'min_child_samples': 6, 'num_iterations': 651}. Best is trial 23 with value: 0.6546131855671419.\u001b[0m\n",
      "\u001b[32m[I 2023-08-17 21:53:09,831]\u001b[0m Trial 25 finished with value: 0.5683322387218295 and parameters: {'n_estimators': 595, 'max_depth': 11, 'num_leaves': 2, 'min_child_samples': 6, 'num_iterations': 641}. Best is trial 23 with value: 0.6546131855671419.\u001b[0m\n",
      "\u001b[32m[I 2023-08-17 21:53:10,353]\u001b[0m Trial 26 finished with value: 0.6434902612928955 and parameters: {'n_estimators': 603, 'max_depth': 13, 'num_leaves': 6, 'min_child_samples': 4, 'num_iterations': 547}. Best is trial 23 with value: 0.6546131855671419.\u001b[0m\n",
      "\u001b[32m[I 2023-08-17 21:53:11,250]\u001b[0m Trial 27 finished with value: 0.6471795817757158 and parameters: {'n_estimators': 532, 'max_depth': 5, 'num_leaves': 11, 'min_child_samples': 5, 'num_iterations': 705}. Best is trial 23 with value: 0.6546131855671419.\u001b[0m\n",
      "\u001b[32m[I 2023-08-17 21:53:11,884]\u001b[0m Trial 28 finished with value: 0.647568781317414 and parameters: {'n_estimators': 594, 'max_depth': 10, 'num_leaves': 7, 'min_child_samples': 6, 'num_iterations': 629}. Best is trial 23 with value: 0.6546131855671419.\u001b[0m\n",
      "\u001b[32m[I 2023-08-17 21:53:12,279]\u001b[0m Trial 29 finished with value: 0.645611135688559 and parameters: {'n_estimators': 563, 'max_depth': 15, 'num_leaves': 4, 'min_child_samples': 4, 'num_iterations': 547}. Best is trial 23 with value: 0.6546131855671419.\u001b[0m\n",
      "\u001b[32m[I 2023-08-17 21:53:12,762]\u001b[0m Trial 30 finished with value: 0.6340762463086865 and parameters: {'n_estimators': 678, 'max_depth': 10, 'num_leaves': 4, 'min_child_samples': 2, 'num_iterations': 695}. Best is trial 23 with value: 0.6546131855671419.\u001b[0m\n",
      "\u001b[32m[I 2023-08-17 21:53:13,376]\u001b[0m Trial 31 finished with value: 0.6491477579930749 and parameters: {'n_estimators': 621, 'max_depth': 30, 'num_leaves': 5, 'min_child_samples': 7, 'num_iterations': 774}. Best is trial 23 with value: 0.6546131855671419.\u001b[0m\n",
      "\u001b[32m[I 2023-08-17 21:53:13,798]\u001b[0m Trial 32 finished with value: 0.6274927032461958 and parameters: {'n_estimators': 622, 'max_depth': 17, 'num_leaves': 3, 'min_child_samples': 7, 'num_iterations': 749}. Best is trial 23 with value: 0.6546131855671419.\u001b[0m\n",
      "\u001b[32m[I 2023-08-17 21:53:14,418]\u001b[0m Trial 33 finished with value: 0.6490918304195413 and parameters: {'n_estimators': 678, 'max_depth': 13, 'num_leaves': 5, 'min_child_samples': 7, 'num_iterations': 784}. Best is trial 23 with value: 0.6546131855671419.\u001b[0m\n",
      "\u001b[32m[I 2023-08-17 21:53:15,147]\u001b[0m Trial 34 finished with value: 0.6550211273013105 and parameters: {'n_estimators': 571, 'max_depth': 15, 'num_leaves': 9, 'min_child_samples': 9, 'num_iterations': 622}. Best is trial 34 with value: 0.6550211273013105.\u001b[0m\n",
      "\u001b[32m[I 2023-08-17 21:53:15,868]\u001b[0m Trial 35 finished with value: 0.6550094679739715 and parameters: {'n_estimators': 538, 'max_depth': 15, 'num_leaves': 9, 'min_child_samples': 9, 'num_iterations': 627}. Best is trial 34 with value: 0.6550211273013105.\u001b[0m\n",
      "\u001b[32m[I 2023-08-17 21:53:16,571]\u001b[0m Trial 36 finished with value: 0.6492229465991788 and parameters: {'n_estimators': 547, 'max_depth': 14, 'num_leaves': 8, 'min_child_samples': 9, 'num_iterations': 632}. Best is trial 34 with value: 0.6550211273013105.\u001b[0m\n",
      "\u001b[32m[I 2023-08-17 21:53:17,423]\u001b[0m Trial 37 finished with value: 0.6515727776510305 and parameters: {'n_estimators': 579, 'max_depth': 21, 'num_leaves': 10, 'min_child_samples': 10, 'num_iterations': 662}. Best is trial 34 with value: 0.6550211273013105.\u001b[0m\n",
      "\u001b[32m[I 2023-08-17 21:53:18,103]\u001b[0m Trial 38 finished with value: 0.6488572784181179 and parameters: {'n_estimators': 535, 'max_depth': 9, 'num_leaves': 7, 'min_child_samples': 9, 'num_iterations': 690}. Best is trial 34 with value: 0.6550211273013105.\u001b[0m\n",
      "\u001b[32m[I 2023-08-17 21:53:18,370]\u001b[0m Trial 39 finished with value: 0.5696666259622791 and parameters: {'n_estimators': 571, 'max_depth': 16, 'num_leaves': 2, 'min_child_samples': 9, 'num_iterations': 624}. Best is trial 34 with value: 0.6550211273013105.\u001b[0m\n",
      "\u001b[32m[I 2023-08-17 21:53:19,074]\u001b[0m Trial 40 finished with value: 0.6546129029158564 and parameters: {'n_estimators': 504, 'max_depth': 12, 'num_leaves': 10, 'min_child_samples': 10, 'num_iterations': 571}. Best is trial 34 with value: 0.6550211273013105.\u001b[0m\n",
      "\u001b[32m[I 2023-08-17 21:53:19,781]\u001b[0m Trial 41 finished with value: 0.6544052125690807 and parameters: {'n_estimators': 522, 'max_depth': 12, 'num_leaves': 10, 'min_child_samples': 10, 'num_iterations': 578}. Best is trial 34 with value: 0.6550211273013105.\u001b[0m\n",
      "\u001b[32m[I 2023-08-17 21:53:20,514]\u001b[0m Trial 42 finished with value: 0.6509245407955702 and parameters: {'n_estimators': 521, 'max_depth': 6, 'num_leaves': 11, 'min_child_samples': 10, 'num_iterations': 580}. Best is trial 34 with value: 0.6550211273013105.\u001b[0m\n",
      "\u001b[32m[I 2023-08-17 21:53:21,168]\u001b[0m Trial 43 finished with value: 0.652291611127834 and parameters: {'n_estimators': 508, 'max_depth': 12, 'num_leaves': 9, 'min_child_samples': 10, 'num_iterations': 568}. Best is trial 34 with value: 0.6550211273013105.\u001b[0m\n",
      "\u001b[32m[I 2023-08-17 21:53:22,195]\u001b[0m Trial 44 finished with value: 0.6447008240168115 and parameters: {'n_estimators': 546, 'max_depth': 9, 'num_leaves': 15, 'min_child_samples': 10, 'num_iterations': 617}. Best is trial 34 with value: 0.6550211273013105.\u001b[0m\n",
      "\u001b[32m[I 2023-08-17 21:53:23,013]\u001b[0m Trial 45 finished with value: 0.6496189594707996 and parameters: {'n_estimators': 525, 'max_depth': 14, 'num_leaves': 11, 'min_child_samples': 9, 'num_iterations': 564}. Best is trial 34 with value: 0.6550211273013105.\u001b[0m\n",
      "\u001b[32m[I 2023-08-17 21:53:23,631]\u001b[0m Trial 46 finished with value: 0.6579666528618648 and parameters: {'n_estimators': 557, 'max_depth': 12, 'num_leaves': 9, 'min_child_samples': 9, 'num_iterations': 524}. Best is trial 46 with value: 0.6579666528618648.\u001b[0m\n",
      "\u001b[32m[I 2023-08-17 21:53:24,200]\u001b[0m Trial 47 finished with value: 0.6560077976294213 and parameters: {'n_estimators': 649, 'max_depth': 17, 'num_leaves': 8, 'min_child_samples': 8, 'num_iterations': 502}. Best is trial 46 with value: 0.6579666528618648.\u001b[0m\n",
      "\u001b[32m[I 2023-08-17 21:53:24,779]\u001b[0m Trial 48 finished with value: 0.6554448446745922 and parameters: {'n_estimators': 666, 'max_depth': 19, 'num_leaves': 8, 'min_child_samples': 8, 'num_iterations': 520}. Best is trial 46 with value: 0.6579666528618648.\u001b[0m\n",
      "\u001b[32m[I 2023-08-17 21:53:25,349]\u001b[0m Trial 49 finished with value: 0.6560516408227386 and parameters: {'n_estimators': 653, 'max_depth': 19, 'num_leaves': 8, 'min_child_samples': 8, 'num_iterations': 501}. Best is trial 46 with value: 0.6579666528618648.\u001b[0m\n",
      "\u001b[32m[I 2023-08-17 21:53:26,245]\u001b[0m Trial 50 finished with value: 0.6464247771052749 and parameters: {'n_estimators': 662, 'max_depth': 22, 'num_leaves': 15, 'min_child_samples': 8, 'num_iterations': 504}. Best is trial 46 with value: 0.6579666528618648.\u001b[0m\n",
      "\u001b[32m[I 2023-08-17 21:53:26,892]\u001b[0m Trial 51 finished with value: 0.6428814101442386 and parameters: {'n_estimators': 739, 'max_depth': 19, 'num_leaves': 9, 'min_child_samples': 8, 'num_iterations': 530}. Best is trial 46 with value: 0.6579666528618648.\u001b[0m\n",
      "\u001b[32m[I 2023-08-17 21:53:27,485]\u001b[0m Trial 52 finished with value: 0.6551465289540988 and parameters: {'n_estimators': 640, 'max_depth': 17, 'num_leaves': 8, 'min_child_samples': 8, 'num_iterations': 526}. Best is trial 46 with value: 0.6579666528618648.\u001b[0m\n",
      "\u001b[32m[I 2023-08-17 21:53:28,068]\u001b[0m Trial 53 finished with value: 0.6553006784538238 and parameters: {'n_estimators': 641, 'max_depth': 18, 'num_leaves': 8, 'min_child_samples': 8, 'num_iterations': 525}. Best is trial 46 with value: 0.6579666528618648.\u001b[0m\n",
      "\u001b[32m[I 2023-08-17 21:53:28,611]\u001b[0m Trial 54 finished with value: 0.6532699601790312 and parameters: {'n_estimators': 690, 'max_depth': 18, 'num_leaves': 7, 'min_child_samples': 8, 'num_iterations': 526}. Best is trial 46 with value: 0.6579666528618648.\u001b[0m\n",
      "\u001b[32m[I 2023-08-17 21:53:29,422]\u001b[0m Trial 55 finished with value: 0.6486346643734076 and parameters: {'n_estimators': 646, 'max_depth': 20, 'num_leaves': 13, 'min_child_samples': 8, 'num_iterations': 516}. Best is trial 46 with value: 0.6579666528618648.\u001b[0m\n",
      "\u001b[32m[I 2023-08-17 21:53:29,997]\u001b[0m Trial 56 finished with value: 0.6560516408227386 and parameters: {'n_estimators': 656, 'max_depth': 23, 'num_leaves': 8, 'min_child_samples': 8, 'num_iterations': 501}. Best is trial 46 with value: 0.6579666528618648.\u001b[0m\n",
      "\u001b[32m[I 2023-08-17 21:53:30,738]\u001b[0m Trial 57 finished with value: 0.6510261936031088 and parameters: {'n_estimators': 706, 'max_depth': 24, 'num_leaves': 12, 'min_child_samples': 9, 'num_iterations': 505}. Best is trial 46 with value: 0.6579666528618648.\u001b[0m\n",
      "\u001b[32m[I 2023-08-17 21:53:31,181]\u001b[0m Trial 58 finished with value: 0.6524876840046849 and parameters: {'n_estimators': 732, 'max_depth': 22, 'num_leaves': 5, 'min_child_samples': 7, 'num_iterations': 546}. Best is trial 46 with value: 0.6579666528618648.\u001b[0m\n",
      "\u001b[32m[I 2023-08-17 21:53:31,768]\u001b[0m Trial 59 finished with value: 0.654964242333935 and parameters: {'n_estimators': 656, 'max_depth': 25, 'num_leaves': 8, 'min_child_samples': 8, 'num_iterations': 533}. Best is trial 46 with value: 0.6579666528618648.\u001b[0m\n",
      "\u001b[32m[I 2023-08-17 21:53:32,521]\u001b[0m Trial 60 finished with value: 0.6560421614615469 and parameters: {'n_estimators': 777, 'max_depth': 27, 'num_leaves': 12, 'min_child_samples': 8, 'num_iterations': 502}. Best is trial 46 with value: 0.6579666528618648.\u001b[0m\n",
      "\u001b[32m[I 2023-08-17 21:53:33,288]\u001b[0m Trial 61 finished with value: 0.6555838545561139 and parameters: {'n_estimators': 696, 'max_depth': 20, 'num_leaves': 12, 'min_child_samples': 8, 'num_iterations': 509}. Best is trial 46 with value: 0.6579666528618648.\u001b[0m\n",
      "\u001b[32m[I 2023-08-17 21:53:34,044]\u001b[0m Trial 62 finished with value: 0.6457108909376265 and parameters: {'n_estimators': 766, 'max_depth': 27, 'num_leaves': 12, 'min_child_samples': 7, 'num_iterations': 509}. Best is trial 46 with value: 0.6579666528618648.\u001b[0m\n",
      "\u001b[32m[I 2023-08-17 21:53:35,070]\u001b[0m Trial 63 finished with value: 0.6489734138178384 and parameters: {'n_estimators': 790, 'max_depth': 27, 'num_leaves': 18, 'min_child_samples': 9, 'num_iterations': 502}. Best is trial 46 with value: 0.6579666528618648.\u001b[0m\n",
      "\u001b[32m[I 2023-08-17 21:53:35,835]\u001b[0m Trial 64 finished with value: 0.6540446955028674 and parameters: {'n_estimators': 696, 'max_depth': 23, 'num_leaves': 11, 'min_child_samples': 8, 'num_iterations': 558}. Best is trial 46 with value: 0.6579666528618648.\u001b[0m\n",
      "\u001b[32m[I 2023-08-17 21:53:36,843]\u001b[0m Trial 65 finished with value: 0.6516049338472303 and parameters: {'n_estimators': 666, 'max_depth': 29, 'num_leaves': 16, 'min_child_samples': 7, 'num_iterations': 537}. Best is trial 46 with value: 0.6579666528618648.\u001b[0m\n",
      "\u001b[32m[I 2023-08-17 21:53:37,832]\u001b[0m Trial 66 finished with value: 0.6400270615663427 and parameters: {'n_estimators': 722, 'max_depth': 19, 'num_leaves': 13, 'min_child_samples': 6, 'num_iterations': 598}. Best is trial 46 with value: 0.6579666528618648.\u001b[0m\n",
      "\u001b[32m[I 2023-08-17 21:53:38,841]\u001b[0m Trial 67 finished with value: 0.6446723375305675 and parameters: {'n_estimators': 678, 'max_depth': 20, 'num_leaves': 7, 'min_child_samples': 8, 'num_iterations': 957}. Best is trial 46 with value: 0.6579666528618648.\u001b[0m\n",
      "\u001b[32m[I 2023-08-17 21:53:40,319]\u001b[0m Trial 68 finished with value: 0.6488599918979218 and parameters: {'n_estimators': 617, 'max_depth': 25, 'num_leaves': 14, 'min_child_samples': 9, 'num_iterations': 867}. Best is trial 46 with value: 0.6579666528618648.\u001b[0m\n",
      "\u001b[32m[I 2023-08-17 21:53:40,821]\u001b[0m Trial 69 finished with value: 0.6545734993987053 and parameters: {'n_estimators': 761, 'max_depth': 21, 'num_leaves': 6, 'min_child_samples': 7, 'num_iterations': 544}. Best is trial 46 with value: 0.6579666528618648.\u001b[0m\n",
      "\u001b[32m[I 2023-08-17 21:53:41,053]\u001b[0m Trial 70 finished with value: 0.5668143073051322 and parameters: {'n_estimators': 795, 'max_depth': 1, 'num_leaves': 21, 'min_child_samples': 8, 'num_iterations': 516}. Best is trial 46 with value: 0.6579666528618648.\u001b[0m\n",
      "\u001b[32m[I 2023-08-17 21:53:41,628]\u001b[0m Trial 71 finished with value: 0.6557272202200576 and parameters: {'n_estimators': 635, 'max_depth': 17, 'num_leaves': 8, 'min_child_samples': 8, 'num_iterations': 518}. Best is trial 46 with value: 0.6579666528618648.\u001b[0m\n",
      "\u001b[32m[I 2023-08-17 21:53:42,390]\u001b[0m Trial 72 finished with value: 0.6519610119010609 and parameters: {'n_estimators': 631, 'max_depth': 17, 'num_leaves': 10, 'min_child_samples': 8, 'num_iterations': 557}. Best is trial 46 with value: 0.6579666528618648.\u001b[0m\n",
      "\u001b[32m[I 2023-08-17 21:53:43,166]\u001b[0m Trial 73 finished with value: 0.6550217931108775 and parameters: {'n_estimators': 694, 'max_depth': 19, 'num_leaves': 12, 'min_child_samples': 8, 'num_iterations': 518}. Best is trial 46 with value: 0.6579666528618648.\u001b[0m\n",
      "\u001b[32m[I 2023-08-17 21:53:43,756]\u001b[0m Trial 74 finished with value: 0.6585588312388161 and parameters: {'n_estimators': 844, 'max_depth': 16, 'num_leaves': 9, 'min_child_samples': 9, 'num_iterations': 502}. Best is trial 74 with value: 0.6585588312388161.\u001b[0m\n",
      "\u001b[32m[I 2023-08-17 21:53:44,488]\u001b[0m Trial 75 finished with value: 0.650122944166691 and parameters: {'n_estimators': 892, 'max_depth': 16, 'num_leaves': 11, 'min_child_samples': 9, 'num_iterations': 536}. Best is trial 74 with value: 0.6585588312388161.\u001b[0m\n",
      "\u001b[32m[I 2023-08-17 21:53:44,937]\u001b[0m Trial 76 finished with value: 0.6526680501984672 and parameters: {'n_estimators': 855, 'max_depth': 22, 'num_leaves': 6, 'min_child_samples': 9, 'num_iterations': 502}. Best is trial 74 with value: 0.6585588312388161.\u001b[0m\n",
      "\u001b[32m[I 2023-08-17 21:53:45,300]\u001b[0m Trial 77 finished with value: 0.6453738598572125 and parameters: {'n_estimators': 827, 'max_depth': 26, 'num_leaves': 4, 'min_child_samples': 7, 'num_iterations': 501}. Best is trial 74 with value: 0.6585588312388161.\u001b[0m\n",
      "\u001b[32m[I 2023-08-17 21:53:45,845]\u001b[0m Trial 78 finished with value: 0.6518588164789246 and parameters: {'n_estimators': 749, 'max_depth': 17, 'num_leaves': 7, 'min_child_samples': 9, 'num_iterations': 540}. Best is trial 74 with value: 0.6585588312388161.\u001b[0m\n",
      "\u001b[32m[I 2023-08-17 21:53:46,553]\u001b[0m Trial 79 finished with value: 0.6584679773727095 and parameters: {'n_estimators': 861, 'max_depth': 23, 'num_leaves': 10, 'min_child_samples': 9, 'num_iterations': 553}. Best is trial 74 with value: 0.6585588312388161.\u001b[0m\n",
      "\u001b[32m[I 2023-08-17 21:53:47,298]\u001b[0m Trial 80 finished with value: 0.6433623744729491 and parameters: {'n_estimators': 859, 'max_depth': 24, 'num_leaves': 9, 'min_child_samples': 1, 'num_iterations': 556}. Best is trial 74 with value: 0.6585588312388161.\u001b[0m\n",
      "\u001b[32m[I 2023-08-17 21:53:47,949]\u001b[0m Trial 81 finished with value: 0.6593806331758262 and parameters: {'n_estimators': 813, 'max_depth': 20, 'num_leaves': 10, 'min_child_samples': 9, 'num_iterations': 514}. Best is trial 81 with value: 0.6593806331758262.\u001b[0m\n",
      "\u001b[32m[I 2023-08-17 21:53:48,644]\u001b[0m Trial 82 finished with value: 0.6591470894311784 and parameters: {'n_estimators': 820, 'max_depth': 23, 'num_leaves': 10, 'min_child_samples': 9, 'num_iterations': 519}. Best is trial 81 with value: 0.6593806331758262.\u001b[0m\n",
      "\u001b[32m[I 2023-08-17 21:53:49,321]\u001b[0m Trial 83 finished with value: 0.6552230376908343 and parameters: {'n_estimators': 809, 'max_depth': 23, 'num_leaves': 10, 'min_child_samples': 10, 'num_iterations': 533}. Best is trial 81 with value: 0.6593806331758262.\u001b[0m\n",
      "\u001b[32m[I 2023-08-17 21:53:50,062]\u001b[0m Trial 84 finished with value: 0.6575291419529858 and parameters: {'n_estimators': 918, 'max_depth': 21, 'num_leaves': 10, 'min_child_samples': 9, 'num_iterations': 590}. Best is trial 81 with value: 0.6593806331758262.\u001b[0m\n",
      "\u001b[32m[I 2023-08-17 21:53:51,036]\u001b[0m Trial 85 finished with value: 0.6527762698944091 and parameters: {'n_estimators': 875, 'max_depth': 21, 'num_leaves': 14, 'min_child_samples': 9, 'num_iterations': 586}. Best is trial 81 with value: 0.6593806331758262.\u001b[0m\n",
      "\u001b[32m[I 2023-08-17 21:53:51,792]\u001b[0m Trial 86 finished with value: 0.6575946594446558 and parameters: {'n_estimators': 915, 'max_depth': 23, 'num_leaves': 10, 'min_child_samples': 9, 'num_iterations': 576}. Best is trial 81 with value: 0.6593806331758262.\u001b[0m\n",
      "\u001b[32m[I 2023-08-17 21:53:52,512]\u001b[0m Trial 87 finished with value: 0.6545432096131589 and parameters: {'n_estimators': 910, 'max_depth': 23, 'num_leaves': 10, 'min_child_samples': 10, 'num_iterations': 572}. Best is trial 81 with value: 0.6593806331758262.\u001b[0m\n",
      "\u001b[32m[I 2023-08-17 21:53:54,229]\u001b[0m Trial 88 finished with value: 0.6423911505617422 and parameters: {'n_estimators': 910, 'max_depth': 24, 'num_leaves': 26, 'min_child_samples': 9, 'num_iterations': 599}. Best is trial 81 with value: 0.6593806331758262.\u001b[0m\n",
      "\u001b[32m[I 2023-08-17 21:53:54,933]\u001b[0m Trial 89 finished with value: 0.6511455568773707 and parameters: {'n_estimators': 956, 'max_depth': 22, 'num_leaves': 9, 'min_child_samples': 10, 'num_iterations': 608}. Best is trial 81 with value: 0.6593806331758262.\u001b[0m\n",
      "\u001b[32m[I 2023-08-17 21:53:55,375]\u001b[0m Trial 90 finished with value: 0.6513086650190104 and parameters: {'n_estimators': 872, 'max_depth': 23, 'num_leaves': 5, 'min_child_samples': 9, 'num_iterations': 551}. Best is trial 81 with value: 0.6593806331758262.\u001b[0m\n",
      "\u001b[32m[I 2023-08-17 21:53:56,136]\u001b[0m Trial 91 finished with value: 0.6494156982499113 and parameters: {'n_estimators': 836, 'max_depth': 26, 'num_leaves': 11, 'min_child_samples': 9, 'num_iterations': 566}. Best is trial 81 with value: 0.6593806331758262.\u001b[0m\n",
      "\u001b[32m[I 2023-08-17 21:53:56,833]\u001b[0m Trial 92 finished with value: 0.6590574392536146 and parameters: {'n_estimators': 842, 'max_depth': 25, 'num_leaves': 10, 'min_child_samples': 9, 'num_iterations': 527}. Best is trial 81 with value: 0.6593806331758262.\u001b[0m\n",
      "\u001b[32m[I 2023-08-17 21:53:57,516]\u001b[0m Trial 93 finished with value: 0.659152191571963 and parameters: {'n_estimators': 842, 'max_depth': 21, 'num_leaves': 10, 'min_child_samples': 9, 'num_iterations': 524}. Best is trial 81 with value: 0.6593806331758262.\u001b[0m\n",
      "\u001b[32m[I 2023-08-17 21:53:58,261]\u001b[0m Trial 94 finished with value: 0.6576119469129161 and parameters: {'n_estimators': 841, 'max_depth': 21, 'num_leaves': 10, 'min_child_samples': 9, 'num_iterations': 579}. Best is trial 81 with value: 0.6593806331758262.\u001b[0m\n",
      "\u001b[32m[I 2023-08-17 21:53:59,001]\u001b[0m Trial 95 finished with value: 0.6576332714625434 and parameters: {'n_estimators': 841, 'max_depth': 21, 'num_leaves': 10, 'min_child_samples': 9, 'num_iterations': 574}. Best is trial 81 with value: 0.6593806331758262.\u001b[0m\n",
      "\u001b[32m[I 2023-08-17 21:53:59,666]\u001b[0m Trial 96 finished with value: 0.6519640413528787 and parameters: {'n_estimators': 843, 'max_depth': 25, 'num_leaves': 9, 'min_child_samples': 10, 'num_iterations': 579}. Best is trial 81 with value: 0.6593806331758262.\u001b[0m\n",
      "\u001b[32m[I 2023-08-17 21:54:00,481]\u001b[0m Trial 97 finished with value: 0.6580964531728558 and parameters: {'n_estimators': 811, 'max_depth': 22, 'num_leaves': 11, 'min_child_samples': 10, 'num_iterations': 609}. Best is trial 81 with value: 0.6593806331758262.\u001b[0m\n",
      "\u001b[32m[I 2023-08-17 21:54:01,335]\u001b[0m Trial 98 finished with value: 0.6562735365416698 and parameters: {'n_estimators': 807, 'max_depth': 21, 'num_leaves': 13, 'min_child_samples': 10, 'num_iterations': 561}. Best is trial 81 with value: 0.6593806331758262.\u001b[0m\n",
      "\u001b[32m[I 2023-08-17 21:54:02,059]\u001b[0m Trial 99 finished with value: 0.6598340456944956 and parameters: {'n_estimators': 865, 'max_depth': 22, 'num_leaves': 11, 'min_child_samples': 10, 'num_iterations': 544}. Best is trial 99 with value: 0.6598340456944956.\u001b[0m\n"
     ]
    },
    {
     "name": "stdout",
     "output_type": "stream",
     "text": [
      "Best r2:  0.6598340456944956\n",
      "Best trial: {'n_estimators': 865, 'max_depth': 22, 'num_leaves': 11, 'min_child_samples': 10, 'num_iterations': 544}\n"
     ]
    }
   ],
   "source": [
    "sampler = TPESampler()\n",
    "study = optuna.create_study(\n",
    "    study_name=\"lgbm_parameter_opt\",\n",
    "    direction=\"maximize\",\n",
    "    sampler=sampler,\n",
    ")\n",
    "\n",
    "study.optimize(lambda trial : objectiveLGBM(trial, Cd_X_train, Cd_y_train), n_trials=100)\n",
    "print(\"Best r2: \", study.best_value)\n",
    "print(\"Best trial:\", study.best_trial.params)"
   ]
  },
  {
   "cell_type": "code",
   "execution_count": null,
   "id": "861f88d8",
   "metadata": {},
   "outputs": [
    {
     "data": {
      "application/vnd.plotly.v1+json": {
       "config": {
        "plotlyServerURL": "https://plot.ly"
       },
       "data": [
        {
         "dimensions": [
          {
           "label": "Objective Value",
           "range": [
            0.5668143073051322,
            0.6598340456944956
           ],
           "values": [
            0.6375438179098364,
            0.5680055165383955,
            0.6465881242599765,
            0.6486968890563074,
            0.6419807808002471,
            0.6503142794822642,
            0.6447358265394664,
            0.6453871940439783,
            0.6334798139245634,
            0.6454787670729237,
            0.6331060914691331,
            0.6438245456056944,
            0.6404978018460066,
            0.6461032003512498,
            0.6477850454715984,
            0.6483431835452262,
            0.6475827052426749,
            0.6451362498948708,
            0.6419328184024998,
            0.6432419195546866,
            0.6402479986208022,
            0.6419622783427783,
            0.6464428393466095,
            0.6546131855671419,
            0.6535943472388727,
            0.5683322387218295,
            0.6434902612928955,
            0.6471795817757158,
            0.647568781317414,
            0.645611135688559,
            0.6340762463086865,
            0.6491477579930749,
            0.6274927032461958,
            0.6490918304195413,
            0.6550211273013105,
            0.6550094679739715,
            0.6492229465991788,
            0.6515727776510305,
            0.6488572784181179,
            0.5696666259622791,
            0.6546129029158564,
            0.6544052125690807,
            0.6509245407955702,
            0.652291611127834,
            0.6447008240168115,
            0.6496189594707996,
            0.6579666528618648,
            0.6560077976294213,
            0.6554448446745922,
            0.6560516408227386,
            0.6464247771052749,
            0.6428814101442386,
            0.6551465289540988,
            0.6553006784538238,
            0.6532699601790312,
            0.6486346643734076,
            0.6560516408227386,
            0.6510261936031088,
            0.6524876840046849,
            0.654964242333935,
            0.6560421614615469,
            0.6555838545561139,
            0.6457108909376265,
            0.6489734138178384,
            0.6540446955028674,
            0.6516049338472303,
            0.6400270615663427,
            0.6446723375305675,
            0.6488599918979218,
            0.6545734993987053,
            0.5668143073051322,
            0.6557272202200576,
            0.6519610119010609,
            0.6550217931108775,
            0.6585588312388161,
            0.650122944166691,
            0.6526680501984672,
            0.6453738598572125,
            0.6518588164789246,
            0.6584679773727095,
            0.6433623744729491,
            0.6593806331758262,
            0.6591470894311784,
            0.6552230376908343,
            0.6575291419529858,
            0.6527762698944091,
            0.6575946594446558,
            0.6545432096131589,
            0.6423911505617422,
            0.6511455568773707,
            0.6513086650190104,
            0.6494156982499113,
            0.6590574392536146,
            0.659152191571963,
            0.6576119469129161,
            0.6576332714625434,
            0.6519640413528787,
            0.6580964531728558,
            0.6562735365416698,
            0.6598340456944956
           ]
          },
          {
           "label": "max_depth",
           "range": [
            1,
            30
           ],
           "values": [
            30,
            16,
            23,
            30,
            28,
            15,
            8,
            19,
            8,
            27,
            3,
            12,
            21,
            14,
            24,
            18,
            11,
            7,
            3,
            25,
            16,
            18,
            20,
            11,
            13,
            11,
            13,
            5,
            10,
            15,
            10,
            30,
            17,
            13,
            15,
            15,
            14,
            21,
            9,
            16,
            12,
            12,
            6,
            12,
            9,
            14,
            12,
            17,
            19,
            19,
            22,
            19,
            17,
            18,
            18,
            20,
            23,
            24,
            22,
            25,
            27,
            20,
            27,
            27,
            23,
            29,
            19,
            20,
            25,
            21,
            1,
            17,
            17,
            19,
            16,
            16,
            22,
            26,
            17,
            23,
            24,
            20,
            23,
            23,
            21,
            21,
            23,
            23,
            24,
            22,
            23,
            26,
            25,
            21,
            21,
            21,
            25,
            22,
            21,
            22
           ]
          },
          {
           "label": "min_child_samples",
           "range": [
            1,
            10
           ],
           "values": [
            3,
            4,
            9,
            8,
            5,
            7,
            5,
            6,
            10,
            6,
            1,
            8,
            8,
            7,
            10,
            8,
            7,
            9,
            3,
            7,
            9,
            8,
            7,
            8,
            6,
            6,
            4,
            5,
            6,
            4,
            2,
            7,
            7,
            7,
            9,
            9,
            9,
            10,
            9,
            9,
            10,
            10,
            10,
            10,
            10,
            9,
            9,
            8,
            8,
            8,
            8,
            8,
            8,
            8,
            8,
            8,
            8,
            9,
            7,
            8,
            8,
            8,
            7,
            9,
            8,
            7,
            6,
            8,
            9,
            7,
            8,
            8,
            8,
            8,
            9,
            9,
            9,
            7,
            9,
            9,
            1,
            9,
            9,
            10,
            9,
            9,
            9,
            10,
            9,
            10,
            9,
            9,
            9,
            9,
            9,
            9,
            10,
            10,
            10,
            10
           ]
          },
          {
           "label": "n_estimators",
           "range": [
            501,
            997
           ],
           "values": [
            566,
            660,
            722,
            954,
            522,
            515,
            896,
            554,
            882,
            852,
            647,
            996,
            785,
            944,
            814,
            716,
            632,
            767,
            997,
            938,
            501,
            708,
            826,
            608,
            577,
            595,
            603,
            532,
            594,
            563,
            678,
            621,
            622,
            678,
            571,
            538,
            547,
            579,
            535,
            571,
            504,
            522,
            521,
            508,
            546,
            525,
            557,
            649,
            666,
            653,
            662,
            739,
            640,
            641,
            690,
            646,
            656,
            706,
            732,
            656,
            777,
            696,
            766,
            790,
            696,
            666,
            722,
            678,
            617,
            761,
            795,
            635,
            631,
            694,
            844,
            892,
            855,
            827,
            749,
            861,
            859,
            813,
            820,
            809,
            918,
            875,
            915,
            910,
            910,
            956,
            872,
            836,
            842,
            842,
            841,
            841,
            843,
            811,
            807,
            865
           ]
          },
          {
           "label": "num_iterations",
           "range": [
            501,
            993
           ],
           "values": [
            904,
            673,
            931,
            935,
            750,
            527,
            591,
            865,
            787,
            978,
            508,
            510,
            659,
            816,
            704,
            599,
            993,
            836,
            599,
            741,
            919,
            586,
            551,
            643,
            651,
            641,
            547,
            705,
            629,
            547,
            695,
            774,
            749,
            784,
            622,
            627,
            632,
            662,
            690,
            624,
            571,
            578,
            580,
            568,
            617,
            564,
            524,
            502,
            520,
            501,
            504,
            530,
            526,
            525,
            526,
            516,
            501,
            505,
            546,
            533,
            502,
            509,
            509,
            502,
            558,
            537,
            598,
            957,
            867,
            544,
            516,
            518,
            557,
            518,
            502,
            536,
            502,
            501,
            540,
            553,
            556,
            514,
            519,
            533,
            590,
            586,
            576,
            572,
            599,
            608,
            551,
            566,
            527,
            524,
            579,
            574,
            579,
            609,
            561,
            544
           ]
          },
          {
           "label": "num_leaves",
           "range": [
            2,
            32
           ],
           "values": [
            4,
            2,
            6,
            6,
            20,
            17,
            23,
            10,
            28,
            12,
            15,
            28,
            9,
            17,
            22,
            14,
            32,
            8,
            19,
            13,
            25,
            17,
            13,
            6,
            6,
            2,
            6,
            11,
            7,
            4,
            4,
            5,
            3,
            5,
            9,
            9,
            8,
            10,
            7,
            2,
            10,
            10,
            11,
            9,
            15,
            11,
            9,
            8,
            8,
            8,
            15,
            9,
            8,
            8,
            7,
            13,
            8,
            12,
            5,
            8,
            12,
            12,
            12,
            18,
            11,
            16,
            13,
            7,
            14,
            6,
            21,
            8,
            10,
            12,
            9,
            11,
            6,
            4,
            7,
            10,
            9,
            10,
            10,
            10,
            10,
            14,
            10,
            10,
            26,
            9,
            5,
            11,
            10,
            10,
            10,
            10,
            9,
            11,
            13,
            11
           ]
          }
         ],
         "labelangle": 30,
         "labelside": "bottom",
         "line": {
          "color": [
           0.6375438179098364,
           0.5680055165383955,
           0.6465881242599765,
           0.6486968890563074,
           0.6419807808002471,
           0.6503142794822642,
           0.6447358265394664,
           0.6453871940439783,
           0.6334798139245634,
           0.6454787670729237,
           0.6331060914691331,
           0.6438245456056944,
           0.6404978018460066,
           0.6461032003512498,
           0.6477850454715984,
           0.6483431835452262,
           0.6475827052426749,
           0.6451362498948708,
           0.6419328184024998,
           0.6432419195546866,
           0.6402479986208022,
           0.6419622783427783,
           0.6464428393466095,
           0.6546131855671419,
           0.6535943472388727,
           0.5683322387218295,
           0.6434902612928955,
           0.6471795817757158,
           0.647568781317414,
           0.645611135688559,
           0.6340762463086865,
           0.6491477579930749,
           0.6274927032461958,
           0.6490918304195413,
           0.6550211273013105,
           0.6550094679739715,
           0.6492229465991788,
           0.6515727776510305,
           0.6488572784181179,
           0.5696666259622791,
           0.6546129029158564,
           0.6544052125690807,
           0.6509245407955702,
           0.652291611127834,
           0.6447008240168115,
           0.6496189594707996,
           0.6579666528618648,
           0.6560077976294213,
           0.6554448446745922,
           0.6560516408227386,
           0.6464247771052749,
           0.6428814101442386,
           0.6551465289540988,
           0.6553006784538238,
           0.6532699601790312,
           0.6486346643734076,
           0.6560516408227386,
           0.6510261936031088,
           0.6524876840046849,
           0.654964242333935,
           0.6560421614615469,
           0.6555838545561139,
           0.6457108909376265,
           0.6489734138178384,
           0.6540446955028674,
           0.6516049338472303,
           0.6400270615663427,
           0.6446723375305675,
           0.6488599918979218,
           0.6545734993987053,
           0.5668143073051322,
           0.6557272202200576,
           0.6519610119010609,
           0.6550217931108775,
           0.6585588312388161,
           0.650122944166691,
           0.6526680501984672,
           0.6453738598572125,
           0.6518588164789246,
           0.6584679773727095,
           0.6433623744729491,
           0.6593806331758262,
           0.6591470894311784,
           0.6552230376908343,
           0.6575291419529858,
           0.6527762698944091,
           0.6575946594446558,
           0.6545432096131589,
           0.6423911505617422,
           0.6511455568773707,
           0.6513086650190104,
           0.6494156982499113,
           0.6590574392536146,
           0.659152191571963,
           0.6576119469129161,
           0.6576332714625434,
           0.6519640413528787,
           0.6580964531728558,
           0.6562735365416698,
           0.6598340456944956
          ],
          "colorbar": {
           "title": {
            "text": "Objective Value"
           }
          },
          "colorscale": [
           [
            0,
            "rgb(247,251,255)"
           ],
           [
            0.125,
            "rgb(222,235,247)"
           ],
           [
            0.25,
            "rgb(198,219,239)"
           ],
           [
            0.375,
            "rgb(158,202,225)"
           ],
           [
            0.5,
            "rgb(107,174,214)"
           ],
           [
            0.625,
            "rgb(66,146,198)"
           ],
           [
            0.75,
            "rgb(33,113,181)"
           ],
           [
            0.875,
            "rgb(8,81,156)"
           ],
           [
            1,
            "rgb(8,48,107)"
           ]
          ],
          "reversescale": false,
          "showscale": true
         },
         "type": "parcoords"
        }
       ],
       "layout": {
        "template": {
         "data": {
          "bar": [
           {
            "error_x": {
             "color": "#2a3f5f"
            },
            "error_y": {
             "color": "#2a3f5f"
            },
            "marker": {
             "line": {
              "color": "#E5ECF6",
              "width": 0.5
             },
             "pattern": {
              "fillmode": "overlay",
              "size": 10,
              "solidity": 0.2
             }
            },
            "type": "bar"
           }
          ],
          "barpolar": [
           {
            "marker": {
             "line": {
              "color": "#E5ECF6",
              "width": 0.5
             },
             "pattern": {
              "fillmode": "overlay",
              "size": 10,
              "solidity": 0.2
             }
            },
            "type": "barpolar"
           }
          ],
          "carpet": [
           {
            "aaxis": {
             "endlinecolor": "#2a3f5f",
             "gridcolor": "white",
             "linecolor": "white",
             "minorgridcolor": "white",
             "startlinecolor": "#2a3f5f"
            },
            "baxis": {
             "endlinecolor": "#2a3f5f",
             "gridcolor": "white",
             "linecolor": "white",
             "minorgridcolor": "white",
             "startlinecolor": "#2a3f5f"
            },
            "type": "carpet"
           }
          ],
          "choropleth": [
           {
            "colorbar": {
             "outlinewidth": 0,
             "ticks": ""
            },
            "type": "choropleth"
           }
          ],
          "contour": [
           {
            "colorbar": {
             "outlinewidth": 0,
             "ticks": ""
            },
            "colorscale": [
             [
              0,
              "#0d0887"
             ],
             [
              0.1111111111111111,
              "#46039f"
             ],
             [
              0.2222222222222222,
              "#7201a8"
             ],
             [
              0.3333333333333333,
              "#9c179e"
             ],
             [
              0.4444444444444444,
              "#bd3786"
             ],
             [
              0.5555555555555556,
              "#d8576b"
             ],
             [
              0.6666666666666666,
              "#ed7953"
             ],
             [
              0.7777777777777778,
              "#fb9f3a"
             ],
             [
              0.8888888888888888,
              "#fdca26"
             ],
             [
              1,
              "#f0f921"
             ]
            ],
            "type": "contour"
           }
          ],
          "contourcarpet": [
           {
            "colorbar": {
             "outlinewidth": 0,
             "ticks": ""
            },
            "type": "contourcarpet"
           }
          ],
          "heatmap": [
           {
            "colorbar": {
             "outlinewidth": 0,
             "ticks": ""
            },
            "colorscale": [
             [
              0,
              "#0d0887"
             ],
             [
              0.1111111111111111,
              "#46039f"
             ],
             [
              0.2222222222222222,
              "#7201a8"
             ],
             [
              0.3333333333333333,
              "#9c179e"
             ],
             [
              0.4444444444444444,
              "#bd3786"
             ],
             [
              0.5555555555555556,
              "#d8576b"
             ],
             [
              0.6666666666666666,
              "#ed7953"
             ],
             [
              0.7777777777777778,
              "#fb9f3a"
             ],
             [
              0.8888888888888888,
              "#fdca26"
             ],
             [
              1,
              "#f0f921"
             ]
            ],
            "type": "heatmap"
           }
          ],
          "heatmapgl": [
           {
            "colorbar": {
             "outlinewidth": 0,
             "ticks": ""
            },
            "colorscale": [
             [
              0,
              "#0d0887"
             ],
             [
              0.1111111111111111,
              "#46039f"
             ],
             [
              0.2222222222222222,
              "#7201a8"
             ],
             [
              0.3333333333333333,
              "#9c179e"
             ],
             [
              0.4444444444444444,
              "#bd3786"
             ],
             [
              0.5555555555555556,
              "#d8576b"
             ],
             [
              0.6666666666666666,
              "#ed7953"
             ],
             [
              0.7777777777777778,
              "#fb9f3a"
             ],
             [
              0.8888888888888888,
              "#fdca26"
             ],
             [
              1,
              "#f0f921"
             ]
            ],
            "type": "heatmapgl"
           }
          ],
          "histogram": [
           {
            "marker": {
             "pattern": {
              "fillmode": "overlay",
              "size": 10,
              "solidity": 0.2
             }
            },
            "type": "histogram"
           }
          ],
          "histogram2d": [
           {
            "colorbar": {
             "outlinewidth": 0,
             "ticks": ""
            },
            "colorscale": [
             [
              0,
              "#0d0887"
             ],
             [
              0.1111111111111111,
              "#46039f"
             ],
             [
              0.2222222222222222,
              "#7201a8"
             ],
             [
              0.3333333333333333,
              "#9c179e"
             ],
             [
              0.4444444444444444,
              "#bd3786"
             ],
             [
              0.5555555555555556,
              "#d8576b"
             ],
             [
              0.6666666666666666,
              "#ed7953"
             ],
             [
              0.7777777777777778,
              "#fb9f3a"
             ],
             [
              0.8888888888888888,
              "#fdca26"
             ],
             [
              1,
              "#f0f921"
             ]
            ],
            "type": "histogram2d"
           }
          ],
          "histogram2dcontour": [
           {
            "colorbar": {
             "outlinewidth": 0,
             "ticks": ""
            },
            "colorscale": [
             [
              0,
              "#0d0887"
             ],
             [
              0.1111111111111111,
              "#46039f"
             ],
             [
              0.2222222222222222,
              "#7201a8"
             ],
             [
              0.3333333333333333,
              "#9c179e"
             ],
             [
              0.4444444444444444,
              "#bd3786"
             ],
             [
              0.5555555555555556,
              "#d8576b"
             ],
             [
              0.6666666666666666,
              "#ed7953"
             ],
             [
              0.7777777777777778,
              "#fb9f3a"
             ],
             [
              0.8888888888888888,
              "#fdca26"
             ],
             [
              1,
              "#f0f921"
             ]
            ],
            "type": "histogram2dcontour"
           }
          ],
          "mesh3d": [
           {
            "colorbar": {
             "outlinewidth": 0,
             "ticks": ""
            },
            "type": "mesh3d"
           }
          ],
          "parcoords": [
           {
            "line": {
             "colorbar": {
              "outlinewidth": 0,
              "ticks": ""
             }
            },
            "type": "parcoords"
           }
          ],
          "pie": [
           {
            "automargin": true,
            "type": "pie"
           }
          ],
          "scatter": [
           {
            "marker": {
             "colorbar": {
              "outlinewidth": 0,
              "ticks": ""
             }
            },
            "type": "scatter"
           }
          ],
          "scatter3d": [
           {
            "line": {
             "colorbar": {
              "outlinewidth": 0,
              "ticks": ""
             }
            },
            "marker": {
             "colorbar": {
              "outlinewidth": 0,
              "ticks": ""
             }
            },
            "type": "scatter3d"
           }
          ],
          "scattercarpet": [
           {
            "marker": {
             "colorbar": {
              "outlinewidth": 0,
              "ticks": ""
             }
            },
            "type": "scattercarpet"
           }
          ],
          "scattergeo": [
           {
            "marker": {
             "colorbar": {
              "outlinewidth": 0,
              "ticks": ""
             }
            },
            "type": "scattergeo"
           }
          ],
          "scattergl": [
           {
            "marker": {
             "colorbar": {
              "outlinewidth": 0,
              "ticks": ""
             }
            },
            "type": "scattergl"
           }
          ],
          "scattermapbox": [
           {
            "marker": {
             "colorbar": {
              "outlinewidth": 0,
              "ticks": ""
             }
            },
            "type": "scattermapbox"
           }
          ],
          "scatterpolar": [
           {
            "marker": {
             "colorbar": {
              "outlinewidth": 0,
              "ticks": ""
             }
            },
            "type": "scatterpolar"
           }
          ],
          "scatterpolargl": [
           {
            "marker": {
             "colorbar": {
              "outlinewidth": 0,
              "ticks": ""
             }
            },
            "type": "scatterpolargl"
           }
          ],
          "scatterternary": [
           {
            "marker": {
             "colorbar": {
              "outlinewidth": 0,
              "ticks": ""
             }
            },
            "type": "scatterternary"
           }
          ],
          "surface": [
           {
            "colorbar": {
             "outlinewidth": 0,
             "ticks": ""
            },
            "colorscale": [
             [
              0,
              "#0d0887"
             ],
             [
              0.1111111111111111,
              "#46039f"
             ],
             [
              0.2222222222222222,
              "#7201a8"
             ],
             [
              0.3333333333333333,
              "#9c179e"
             ],
             [
              0.4444444444444444,
              "#bd3786"
             ],
             [
              0.5555555555555556,
              "#d8576b"
             ],
             [
              0.6666666666666666,
              "#ed7953"
             ],
             [
              0.7777777777777778,
              "#fb9f3a"
             ],
             [
              0.8888888888888888,
              "#fdca26"
             ],
             [
              1,
              "#f0f921"
             ]
            ],
            "type": "surface"
           }
          ],
          "table": [
           {
            "cells": {
             "fill": {
              "color": "#EBF0F8"
             },
             "line": {
              "color": "white"
             }
            },
            "header": {
             "fill": {
              "color": "#C8D4E3"
             },
             "line": {
              "color": "white"
             }
            },
            "type": "table"
           }
          ]
         },
         "layout": {
          "annotationdefaults": {
           "arrowcolor": "#2a3f5f",
           "arrowhead": 0,
           "arrowwidth": 1
          },
          "autotypenumbers": "strict",
          "coloraxis": {
           "colorbar": {
            "outlinewidth": 0,
            "ticks": ""
           }
          },
          "colorscale": {
           "diverging": [
            [
             0,
             "#8e0152"
            ],
            [
             0.1,
             "#c51b7d"
            ],
            [
             0.2,
             "#de77ae"
            ],
            [
             0.3,
             "#f1b6da"
            ],
            [
             0.4,
             "#fde0ef"
            ],
            [
             0.5,
             "#f7f7f7"
            ],
            [
             0.6,
             "#e6f5d0"
            ],
            [
             0.7,
             "#b8e186"
            ],
            [
             0.8,
             "#7fbc41"
            ],
            [
             0.9,
             "#4d9221"
            ],
            [
             1,
             "#276419"
            ]
           ],
           "sequential": [
            [
             0,
             "#0d0887"
            ],
            [
             0.1111111111111111,
             "#46039f"
            ],
            [
             0.2222222222222222,
             "#7201a8"
            ],
            [
             0.3333333333333333,
             "#9c179e"
            ],
            [
             0.4444444444444444,
             "#bd3786"
            ],
            [
             0.5555555555555556,
             "#d8576b"
            ],
            [
             0.6666666666666666,
             "#ed7953"
            ],
            [
             0.7777777777777778,
             "#fb9f3a"
            ],
            [
             0.8888888888888888,
             "#fdca26"
            ],
            [
             1,
             "#f0f921"
            ]
           ],
           "sequentialminus": [
            [
             0,
             "#0d0887"
            ],
            [
             0.1111111111111111,
             "#46039f"
            ],
            [
             0.2222222222222222,
             "#7201a8"
            ],
            [
             0.3333333333333333,
             "#9c179e"
            ],
            [
             0.4444444444444444,
             "#bd3786"
            ],
            [
             0.5555555555555556,
             "#d8576b"
            ],
            [
             0.6666666666666666,
             "#ed7953"
            ],
            [
             0.7777777777777778,
             "#fb9f3a"
            ],
            [
             0.8888888888888888,
             "#fdca26"
            ],
            [
             1,
             "#f0f921"
            ]
           ]
          },
          "colorway": [
           "#636efa",
           "#EF553B",
           "#00cc96",
           "#ab63fa",
           "#FFA15A",
           "#19d3f3",
           "#FF6692",
           "#B6E880",
           "#FF97FF",
           "#FECB52"
          ],
          "font": {
           "color": "#2a3f5f"
          },
          "geo": {
           "bgcolor": "white",
           "lakecolor": "white",
           "landcolor": "#E5ECF6",
           "showlakes": true,
           "showland": true,
           "subunitcolor": "white"
          },
          "hoverlabel": {
           "align": "left"
          },
          "hovermode": "closest",
          "mapbox": {
           "style": "light"
          },
          "paper_bgcolor": "white",
          "plot_bgcolor": "#E5ECF6",
          "polar": {
           "angularaxis": {
            "gridcolor": "white",
            "linecolor": "white",
            "ticks": ""
           },
           "bgcolor": "#E5ECF6",
           "radialaxis": {
            "gridcolor": "white",
            "linecolor": "white",
            "ticks": ""
           }
          },
          "scene": {
           "xaxis": {
            "backgroundcolor": "#E5ECF6",
            "gridcolor": "white",
            "gridwidth": 2,
            "linecolor": "white",
            "showbackground": true,
            "ticks": "",
            "zerolinecolor": "white"
           },
           "yaxis": {
            "backgroundcolor": "#E5ECF6",
            "gridcolor": "white",
            "gridwidth": 2,
            "linecolor": "white",
            "showbackground": true,
            "ticks": "",
            "zerolinecolor": "white"
           },
           "zaxis": {
            "backgroundcolor": "#E5ECF6",
            "gridcolor": "white",
            "gridwidth": 2,
            "linecolor": "white",
            "showbackground": true,
            "ticks": "",
            "zerolinecolor": "white"
           }
          },
          "shapedefaults": {
           "line": {
            "color": "#2a3f5f"
           }
          },
          "ternary": {
           "aaxis": {
            "gridcolor": "white",
            "linecolor": "white",
            "ticks": ""
           },
           "baxis": {
            "gridcolor": "white",
            "linecolor": "white",
            "ticks": ""
           },
           "bgcolor": "#E5ECF6",
           "caxis": {
            "gridcolor": "white",
            "linecolor": "white",
            "ticks": ""
           }
          },
          "title": {
           "x": 0.05
          },
          "xaxis": {
           "automargin": true,
           "gridcolor": "white",
           "linecolor": "white",
           "ticks": "",
           "title": {
            "standoff": 15
           },
           "zerolinecolor": "white",
           "zerolinewidth": 2
          },
          "yaxis": {
           "automargin": true,
           "gridcolor": "white",
           "linecolor": "white",
           "ticks": "",
           "title": {
            "standoff": 15
           },
           "zerolinecolor": "white",
           "zerolinewidth": 2
          }
         }
        },
        "title": {
         "text": "Parallel Coordinate Plot"
        }
       }
      }
     },
     "metadata": {},
     "output_type": "display_data"
    }
   ],
   "source": [
    "optuna.visualization.plot_parallel_coordinate(study)"
   ]
  },
  {
   "cell_type": "code",
   "execution_count": null,
   "id": "4afa60aa",
   "metadata": {},
   "outputs": [
    {
     "name": "stdout",
     "output_type": "stream",
     "text": [
      "Best trial: {'n_estimators': 865, 'max_depth': 22, 'num_leaves': 11, 'min_child_samples': 10, 'num_iterations': 544}\n"
     ]
    },
    {
     "data": {
      "text/plain": [
       "865"
      ]
     },
     "execution_count": 142,
     "metadata": {},
     "output_type": "execute_result"
    }
   ],
   "source": [
    "print(\"Best trial:\", study.best_trial.params)\n",
    "study.best_trial.params[\"n_estimators\"]"
   ]
  },
  {
   "cell_type": "code",
   "execution_count": null,
   "id": "3b45adad",
   "metadata": {},
   "outputs": [
    {
     "data": {
      "text/html": [
       "<style>#sk-container-id-7 {color: black;background-color: white;}#sk-container-id-7 pre{padding: 0;}#sk-container-id-7 div.sk-toggleable {background-color: white;}#sk-container-id-7 label.sk-toggleable__label {cursor: pointer;display: block;width: 100%;margin-bottom: 0;padding: 0.3em;box-sizing: border-box;text-align: center;}#sk-container-id-7 label.sk-toggleable__label-arrow:before {content: \"▸\";float: left;margin-right: 0.25em;color: #696969;}#sk-container-id-7 label.sk-toggleable__label-arrow:hover:before {color: black;}#sk-container-id-7 div.sk-estimator:hover label.sk-toggleable__label-arrow:before {color: black;}#sk-container-id-7 div.sk-toggleable__content {max-height: 0;max-width: 0;overflow: hidden;text-align: left;background-color: #f0f8ff;}#sk-container-id-7 div.sk-toggleable__content pre {margin: 0.2em;color: black;border-radius: 0.25em;background-color: #f0f8ff;}#sk-container-id-7 input.sk-toggleable__control:checked~div.sk-toggleable__content {max-height: 200px;max-width: 100%;overflow: auto;}#sk-container-id-7 input.sk-toggleable__control:checked~label.sk-toggleable__label-arrow:before {content: \"▾\";}#sk-container-id-7 div.sk-estimator input.sk-toggleable__control:checked~label.sk-toggleable__label {background-color: #d4ebff;}#sk-container-id-7 div.sk-label input.sk-toggleable__control:checked~label.sk-toggleable__label {background-color: #d4ebff;}#sk-container-id-7 input.sk-hidden--visually {border: 0;clip: rect(1px 1px 1px 1px);clip: rect(1px, 1px, 1px, 1px);height: 1px;margin: -1px;overflow: hidden;padding: 0;position: absolute;width: 1px;}#sk-container-id-7 div.sk-estimator {font-family: monospace;background-color: #f0f8ff;border: 1px dotted black;border-radius: 0.25em;box-sizing: border-box;margin-bottom: 0.5em;}#sk-container-id-7 div.sk-estimator:hover {background-color: #d4ebff;}#sk-container-id-7 div.sk-parallel-item::after {content: \"\";width: 100%;border-bottom: 1px solid gray;flex-grow: 1;}#sk-container-id-7 div.sk-label:hover label.sk-toggleable__label {background-color: #d4ebff;}#sk-container-id-7 div.sk-serial::before {content: \"\";position: absolute;border-left: 1px solid gray;box-sizing: border-box;top: 0;bottom: 0;left: 50%;z-index: 0;}#sk-container-id-7 div.sk-serial {display: flex;flex-direction: column;align-items: center;background-color: white;padding-right: 0.2em;padding-left: 0.2em;position: relative;}#sk-container-id-7 div.sk-item {position: relative;z-index: 1;}#sk-container-id-7 div.sk-parallel {display: flex;align-items: stretch;justify-content: center;background-color: white;position: relative;}#sk-container-id-7 div.sk-item::before, #sk-container-id-7 div.sk-parallel-item::before {content: \"\";position: absolute;border-left: 1px solid gray;box-sizing: border-box;top: 0;bottom: 0;left: 50%;z-index: -1;}#sk-container-id-7 div.sk-parallel-item {display: flex;flex-direction: column;z-index: 1;position: relative;background-color: white;}#sk-container-id-7 div.sk-parallel-item:first-child::after {align-self: flex-end;width: 50%;}#sk-container-id-7 div.sk-parallel-item:last-child::after {align-self: flex-start;width: 50%;}#sk-container-id-7 div.sk-parallel-item:only-child::after {width: 0;}#sk-container-id-7 div.sk-dashed-wrapped {border: 1px dashed gray;margin: 0 0.4em 0.5em 0.4em;box-sizing: border-box;padding-bottom: 0.4em;background-color: white;}#sk-container-id-7 div.sk-label label {font-family: monospace;font-weight: bold;display: inline-block;line-height: 1.2em;}#sk-container-id-7 div.sk-label-container {text-align: center;}#sk-container-id-7 div.sk-container {/* jupyter's `normalize.less` sets `[hidden] { display: none; }` but bootstrap.min.css set `[hidden] { display: none !important; }` so we also need the `!important` here to be able to override the default hidden behavior on the sphinx rendered scikit-learn.org. See: https://github.com/scikit-learn/scikit-learn/issues/21755 */display: inline-block !important;position: relative;}#sk-container-id-7 div.sk-text-repr-fallback {display: none;}</style><div id=\"sk-container-id-7\" class=\"sk-top-container\"><div class=\"sk-text-repr-fallback\"><pre>LGBMRegressor(max_depth=22, min_child_samples=10, n_estimators=865,\n",
       "              num_iterations=544, num_leaves=11, random_state=42)</pre><b>In a Jupyter environment, please rerun this cell to show the HTML representation or trust the notebook. <br />On GitHub, the HTML representation is unable to render, please try loading this page with nbviewer.org.</b></div><div class=\"sk-container\" hidden><div class=\"sk-item\"><div class=\"sk-estimator sk-toggleable\"><input class=\"sk-toggleable__control sk-hidden--visually\" id=\"sk-estimator-id-7\" type=\"checkbox\" checked><label for=\"sk-estimator-id-7\" class=\"sk-toggleable__label sk-toggleable__label-arrow\">LGBMRegressor</label><div class=\"sk-toggleable__content\"><pre>LGBMRegressor(max_depth=22, min_child_samples=10, n_estimators=865,\n",
       "              num_iterations=544, num_leaves=11, random_state=42)</pre></div></div></div></div></div>"
      ],
      "text/plain": [
       "LGBMRegressor(max_depth=22, min_child_samples=10, n_estimators=865,\n",
       "              num_iterations=544, num_leaves=11, random_state=42)"
      ]
     },
     "execution_count": 143,
     "metadata": {},
     "output_type": "execute_result"
    }
   ],
   "source": [
    "lgbm_params = {\n",
    "    \"random_state\": 42,\n",
    "    \"learning_rate\": 0.1,\n",
    "    \"n_estimators\": study.best_trial.params[\"n_estimators\"],\n",
    "    \"max_depth\": study.best_trial.params[\"max_depth\"],\n",
    "    \"num_leaves\": study.best_trial.params[\"num_leaves\"],\n",
    "    \"min_child_samples\": study.best_trial.params[\"min_child_samples\"],\n",
    "    \"num_iterations\": study.best_trial.params[\"num_iterations\"]\n",
    "}\n",
    "\n",
    "lgbm = LGBMRegressor(**lgbm_params)\n",
    "lgbm.fit(Cd_X_train, Cd_y_train)"
   ]
  },
  {
   "cell_type": "code",
   "execution_count": null,
   "id": "9ab1055b",
   "metadata": {},
   "outputs": [],
   "source": [
    "y_train_pred = lgbm.predict(Cd_X_train)\n",
    "y_test_pred = lgbm.predict(Cd_X_test)"
   ]
  },
  {
   "cell_type": "code",
   "execution_count": null,
   "id": "425b4001",
   "metadata": {},
   "outputs": [
    {
     "name": "stdout",
     "output_type": "stream",
     "text": [
      "Train RMSE:  0.03577084195427608\n",
      "Test RMSE:  0.11959783397253491\n"
     ]
    }
   ],
   "source": [
    "print(\"Train RMSE: \", np.sqrt(mean_squared_error(Cd_y_train, y_train_pred)))\n",
    "print(\"Test RMSE: \", np.sqrt(mean_squared_error(Cd_y_test, y_test_pred)))"
   ]
  },
  {
   "cell_type": "code",
   "execution_count": null,
   "id": "0f95ae3c",
   "metadata": {},
   "outputs": [
    {
     "name": "stdout",
     "output_type": "stream",
     "text": [
      "Train R2:  0.9723853936581041\n",
      "Test R2:  0.6956260332475803\n"
     ]
    }
   ],
   "source": [
    "print(\"Train R2: \", r2_score(Cd_y_train, y_train_pred))\n",
    "print(\"Test R2: \", r2_score(Cd_y_test, y_test_pred))"
   ]
  },
  {
   "cell_type": "code",
   "execution_count": null,
   "id": "d01dda76",
   "metadata": {},
   "outputs": [
    {
     "data": {
      "image/png": "[encoded data removed]",
      "text/plain": [
       "<Figure size 432x288 with 1 Axes>"
      ]
     },
     "metadata": {
      "needs_background": "light"
     },
     "output_type": "display_data"
    }
   ],
   "source": [
    "plt.scatter(y_train_pred, np.array(Cd_y_train), color=\"orange\", alpha=0.3)\n",
    "plt.scatter(y_test_pred, np.array(Cd_y_test), color=\"green\", alpha=0.4)\n",
    "plt.axis(\"auto\") # scaled, tight, auto, image, square\n",
    "# plt.xlim([0, 1.5]) \n",
    "# plt.ylim(0, None) \n",
    "plt.xlabel('Predicted Values')\n",
    "plt.ylabel('Actual Values')\n",
    "\n",
    "# Add y=x line\n",
    "plt.plot([0, 4], [0, 4], color='red', linestyle='-')\n",
    "\n",
    "plt.show()"
   ]
  },
  {
   "attachments": {},
   "cell_type": "markdown",
   "id": "74f680ea",
   "metadata": {},
   "source": [
    "Ni"
   ]
  },
  {
   "cell_type": "code",
   "execution_count": null,
   "id": "de233338",
   "metadata": {},
   "outputs": [
    {
     "name": "stderr",
     "output_type": "stream",
     "text": [
      "\u001b[32m[I 2023-08-17 21:54:02,580]\u001b[0m A new study created in memory with name: lgbm_parameter_opt\u001b[0m\n",
      "\u001b[32m[I 2023-08-17 21:54:03,624]\u001b[0m Trial 0 finished with value: 0.7203447399786105 and parameters: {'n_estimators': 871, 'max_depth': 28, 'num_leaves': 15, 'min_child_samples': 9, 'num_iterations': 520}. Best is trial 0 with value: 0.7203447399786105.\u001b[0m\n",
      "\u001b[32m[I 2023-08-17 21:54:03,865]\u001b[0m Trial 1 finished with value: 0.5305522710450452 and parameters: {'n_estimators': 632, 'max_depth': 1, 'num_leaves': 11, 'min_child_samples': 2, 'num_iterations': 528}. Best is trial 0 with value: 0.7203447399786105.\u001b[0m\n",
      "\u001b[32m[I 2023-08-17 21:54:04,889]\u001b[0m Trial 2 finished with value: 0.7322442629016443 and parameters: {'n_estimators': 748, 'max_depth': 25, 'num_leaves': 11, 'min_child_samples': 6, 'num_iterations': 670}. Best is trial 2 with value: 0.7322442629016443.\u001b[0m\n",
      "\u001b[32m[I 2023-08-17 21:54:05,610]\u001b[0m Trial 3 finished with value: 0.6952406886909481 and parameters: {'n_estimators': 642, 'max_depth': 7, 'num_leaves': 4, 'min_child_samples': 2, 'num_iterations': 877}. Best is trial 2 with value: 0.7322442629016443.\u001b[0m\n",
      "\u001b[32m[I 2023-08-17 21:54:07,463]\u001b[0m Trial 4 finished with value: 0.7124075557103572 and parameters: {'n_estimators': 517, 'max_depth': 30, 'num_leaves': 21, 'min_child_samples': 10, 'num_iterations': 704}. Best is trial 2 with value: 0.7322442629016443.\u001b[0m\n",
      "\u001b[32m[I 2023-08-17 21:54:08,502]\u001b[0m Trial 5 finished with value: 0.7202417446530976 and parameters: {'n_estimators': 548, 'max_depth': 23, 'num_leaves': 8, 'min_child_samples': 8, 'num_iterations': 851}. Best is trial 2 with value: 0.7322442629016443.\u001b[0m\n",
      "\u001b[32m[I 2023-08-17 21:54:09,703]\u001b[0m Trial 6 finished with value: 0.6921883980127168 and parameters: {'n_estimators': 732, 'max_depth': 4, 'num_leaves': 10, 'min_child_samples': 4, 'num_iterations': 963}. Best is trial 2 with value: 0.7322442629016443.\u001b[0m\n",
      "\u001b[32m[I 2023-08-17 21:54:11,776]\u001b[0m Trial 7 finished with value: 0.7203808714670178 and parameters: {'n_estimators': 502, 'max_depth': 28, 'num_leaves': 22, 'min_child_samples': 3, 'num_iterations': 722}. Best is trial 2 with value: 0.7322442629016443.\u001b[0m\n",
      "\u001b[32m[I 2023-08-17 21:54:13,004]\u001b[0m Trial 8 finished with value: 0.7190374487751885 and parameters: {'n_estimators': 546, 'max_depth': 10, 'num_leaves': 13, 'min_child_samples': 7, 'num_iterations': 688}. Best is trial 2 with value: 0.7322442629016443.\u001b[0m\n",
      "\u001b[32m[I 2023-08-17 21:54:13,627]\u001b[0m Trial 9 finished with value: 0.6989666727331947 and parameters: {'n_estimators': 614, 'max_depth': 21, 'num_leaves': 4, 'min_child_samples': 9, 'num_iterations': 824}. Best is trial 2 with value: 0.7322442629016443.\u001b[0m\n",
      "\u001b[32m[I 2023-08-17 21:54:15,838]\u001b[0m Trial 10 finished with value: 0.7045026021360806 and parameters: {'n_estimators': 983, 'max_depth': 16, 'num_leaves': 32, 'min_child_samples': 6, 'num_iterations': 625}. Best is trial 2 with value: 0.7322442629016443.\u001b[0m\n",
      "\u001b[32m[I 2023-08-17 21:54:17,444]\u001b[0m Trial 11 finished with value: 0.7190478150326953 and parameters: {'n_estimators': 797, 'max_depth': 24, 'num_leaves': 21, 'min_child_samples': 4, 'num_iterations': 639}. Best is trial 2 with value: 0.7322442629016443.\u001b[0m\n",
      "\u001b[32m[I 2023-08-17 21:54:19,839]\u001b[0m Trial 12 finished with value: 0.7229088983594248 and parameters: {'n_estimators': 735, 'max_depth': 17, 'num_leaves': 27, 'min_child_samples': 4, 'num_iterations': 776}. Best is trial 2 with value: 0.7322442629016443.\u001b[0m\n"
     ]
    },
    {
     "name": "stdout",
     "output_type": "stream",
     "text": [
      "[LightGBM] [Warning] Accuracy may be bad since you didn't explicitly set num_leaves OR 2^max_depth > num_leaves. (num_leaves=31).\n",
      "[LightGBM] [Warning] Accuracy may be bad since you didn't explicitly set num_leaves OR 2^max_depth > num_leaves. (num_leaves=31).\n",
      "[LightGBM] [Warning] Accuracy may be bad since you didn't explicitly set num_leaves OR 2^max_depth > num_leaves. (num_leaves=31).\n",
      "[LightGBM] [Warning] Accuracy may be bad since you didn't explicitly set num_leaves OR 2^max_depth > num_leaves. (num_leaves=31).\n",
      "[LightGBM] [Warning] Accuracy may be bad since you didn't explicitly set num_leaves OR 2^max_depth > num_leaves. (num_leaves=31).\n"
     ]
    },
    {
     "name": "stderr",
     "output_type": "stream",
     "text": [
      "\u001b[32m[I 2023-08-17 21:54:22,547]\u001b[0m Trial 13 finished with value: 0.7074334221726843 and parameters: {'n_estimators': 740, 'max_depth': 15, 'num_leaves': 31, 'min_child_samples': 5, 'num_iterations': 785}. Best is trial 2 with value: 0.7322442629016443.\u001b[0m\n",
      "\u001b[32m[I 2023-08-17 21:54:24,357]\u001b[0m Trial 14 finished with value: 0.7091983512649411 and parameters: {'n_estimators': 835, 'max_depth': 16, 'num_leaves': 26, 'min_child_samples': 6, 'num_iterations': 591}. Best is trial 2 with value: 0.7322442629016443.\u001b[0m\n",
      "\u001b[32m[I 2023-08-17 21:54:26,271]\u001b[0m Trial 15 finished with value: 0.7204730341244626 and parameters: {'n_estimators': 707, 'max_depth': 19, 'num_leaves': 18, 'min_child_samples': 1, 'num_iterations': 765}. Best is trial 2 with value: 0.7322442629016443.\u001b[0m\n",
      "\u001b[32m[I 2023-08-17 21:54:29,038]\u001b[0m Trial 16 finished with value: 0.7116946750245638 and parameters: {'n_estimators': 965, 'max_depth': 10, 'num_leaves': 26, 'min_child_samples': 5, 'num_iterations': 964}. Best is trial 2 with value: 0.7322442629016443.\u001b[0m\n",
      "\u001b[32m[I 2023-08-17 21:54:31,788]\u001b[0m Trial 17 finished with value: 0.7132418731581465 and parameters: {'n_estimators': 880, 'max_depth': 25, 'num_leaves': 28, 'min_child_samples': 7, 'num_iterations': 887}. Best is trial 2 with value: 0.7322442629016443.\u001b[0m\n",
      "\u001b[32m[I 2023-08-17 21:54:33,316]\u001b[0m Trial 18 finished with value: 0.7206112237742109 and parameters: {'n_estimators': 683, 'max_depth': 19, 'num_leaves': 17, 'min_child_samples': 4, 'num_iterations': 670}. Best is trial 2 with value: 0.7322442629016443.\u001b[0m\n",
      "\u001b[32m[I 2023-08-17 21:54:33,955]\u001b[0m Trial 19 finished with value: 0.7156030227725504 and parameters: {'n_estimators': 794, 'max_depth': 13, 'num_leaves': 7, 'min_child_samples': 7, 'num_iterations': 582}. Best is trial 2 with value: 0.7322442629016443.\u001b[0m\n",
      "\u001b[32m[I 2023-08-17 21:54:36,099]\u001b[0m Trial 20 finished with value: 0.727690589943139 and parameters: {'n_estimators': 921, 'max_depth': 20, 'num_leaves': 23, 'min_child_samples': 3, 'num_iterations': 779}. Best is trial 2 with value: 0.7322442629016443.\u001b[0m\n",
      "\u001b[32m[I 2023-08-17 21:54:38,371]\u001b[0m Trial 21 finished with value: 0.7220176235835477 and parameters: {'n_estimators': 920, 'max_depth': 20, 'num_leaves': 24, 'min_child_samples': 3, 'num_iterations': 804}. Best is trial 2 with value: 0.7322442629016443.\u001b[0m\n",
      "\u001b[32m[I 2023-08-17 21:54:40,945]\u001b[0m Trial 22 finished with value: 0.7216482643701154 and parameters: {'n_estimators': 788, 'max_depth': 26, 'num_leaves': 29, 'min_child_samples': 3, 'num_iterations': 737}. Best is trial 2 with value: 0.7322442629016443.\u001b[0m\n",
      "\u001b[32m[I 2023-08-17 21:54:42,694]\u001b[0m Trial 23 finished with value: 0.720987730087774 and parameters: {'n_estimators': 688, 'max_depth': 22, 'num_leaves': 18, 'min_child_samples': 5, 'num_iterations': 768}. Best is trial 2 with value: 0.7322442629016443.\u001b[0m\n",
      "\u001b[32m[I 2023-08-17 21:54:44,692]\u001b[0m Trial 24 finished with value: 0.7283586578237555 and parameters: {'n_estimators': 767, 'max_depth': 18, 'num_leaves': 23, 'min_child_samples': 1, 'num_iterations': 662}. Best is trial 2 with value: 0.7322442629016443.\u001b[0m\n",
      "\u001b[32m[I 2023-08-17 21:54:46,614]\u001b[0m Trial 25 finished with value: 0.7224436212403339 and parameters: {'n_estimators': 909, 'max_depth': 13, 'num_leaves': 24, 'min_child_samples': 2, 'num_iterations': 654}. Best is trial 2 with value: 0.7322442629016443.\u001b[0m\n",
      "\u001b[32m[I 2023-08-17 21:54:47,888]\u001b[0m Trial 26 finished with value: 0.7147926675465387 and parameters: {'n_estimators': 835, 'max_depth': 26, 'num_leaves': 15, 'min_child_samples': 1, 'num_iterations': 594}. Best is trial 2 with value: 0.7322442629016443.\u001b[0m\n",
      "\u001b[32m[I 2023-08-17 21:54:49,843]\u001b[0m Trial 27 finished with value: 0.7211794598683696 and parameters: {'n_estimators': 942, 'max_depth': 21, 'num_leaves': 20, 'min_child_samples': 1, 'num_iterations': 721}. Best is trial 2 with value: 0.7322442629016443.\u001b[0m\n",
      "\u001b[32m[I 2023-08-17 21:54:52,485]\u001b[0m Trial 28 finished with value: 0.725377909458009 and parameters: {'n_estimators': 772, 'max_depth': 19, 'num_leaves': 24, 'min_child_samples': 2, 'num_iterations': 914}. Best is trial 2 with value: 0.7322442629016443.\u001b[0m\n",
      "\u001b[32m[I 2023-08-17 21:54:53,531]\u001b[0m Trial 29 finished with value: 0.7202038748847887 and parameters: {'n_estimators': 844, 'max_depth': 28, 'num_leaves': 16, 'min_child_samples': 3, 'num_iterations': 502}. Best is trial 2 with value: 0.7322442629016443.\u001b[0m\n",
      "\u001b[32m[I 2023-08-17 21:54:54,526]\u001b[0m Trial 30 finished with value: 0.7158990252711888 and parameters: {'n_estimators': 861, 'max_depth': 30, 'num_leaves': 13, 'min_child_samples': 1, 'num_iterations': 545}. Best is trial 2 with value: 0.7322442629016443.\u001b[0m\n",
      "\u001b[32m[I 2023-08-17 21:54:57,213]\u001b[0m Trial 31 finished with value: 0.725377909458009 and parameters: {'n_estimators': 779, 'max_depth': 19, 'num_leaves': 24, 'min_child_samples': 2, 'num_iterations': 914}. Best is trial 2 with value: 0.7322442629016443.\u001b[0m\n",
      "\u001b[32m[I 2023-08-17 21:54:59,758]\u001b[0m Trial 32 finished with value: 0.7157540179604822 and parameters: {'n_estimators': 656, 'max_depth': 18, 'num_leaves': 23, 'min_child_samples': 2, 'num_iterations': 911}. Best is trial 2 with value: 0.7322442629016443.\u001b[0m\n",
      "\u001b[32m[I 2023-08-17 21:55:02,207]\u001b[0m Trial 33 finished with value: 0.7252475678174394 and parameters: {'n_estimators': 815, 'max_depth': 14, 'num_leaves': 20, 'min_child_samples': 2, 'num_iterations': 984}. Best is trial 2 with value: 0.7322442629016443.\u001b[0m\n",
      "\u001b[32m[I 2023-08-17 21:55:02,564]\u001b[0m Trial 34 finished with value: 0.5549024256478837 and parameters: {'n_estimators': 764, 'max_depth': 23, 'num_leaves': 2, 'min_child_samples': 1, 'num_iterations': 835}. Best is trial 2 with value: 0.7322442629016443.\u001b[0m\n",
      "\u001b[32m[I 2023-08-17 21:55:03,718]\u001b[0m Trial 35 finished with value: 0.7235552406074574 and parameters: {'n_estimators': 606, 'max_depth': 22, 'num_leaves': 13, 'min_child_samples': 3, 'num_iterations': 688}. Best is trial 2 with value: 0.7322442629016443.\u001b[0m\n",
      "\u001b[32m[I 2023-08-17 21:55:05,891]\u001b[0m Trial 36 finished with value: 0.7197232792461984 and parameters: {'n_estimators': 890, 'max_depth': 10, 'num_leaves': 30, 'min_child_samples': 2, 'num_iterations': 624}. Best is trial 2 with value: 0.7322442629016443.\u001b[0m\n",
      "\u001b[32m[I 2023-08-17 21:55:07,025]\u001b[0m Trial 37 finished with value: 0.7242139733250805 and parameters: {'n_estimators': 713, 'max_depth': 24, 'num_leaves': 10, 'min_child_samples': 8, 'num_iterations': 866}. Best is trial 2 with value: 0.7322442629016443.\u001b[0m\n",
      "\u001b[32m[I 2023-08-17 21:55:08,299]\u001b[0m Trial 38 finished with value: 0.7208949825432174 and parameters: {'n_estimators': 667, 'max_depth': 18, 'num_leaves': 19, 'min_child_samples': 6, 'num_iterations': 546}. Best is trial 2 with value: 0.7322442629016443.\u001b[0m\n",
      "\u001b[32m[I 2023-08-17 21:55:10,125]\u001b[0m Trial 39 finished with value: 0.7152668158028608 and parameters: {'n_estimators': 758, 'max_depth': 27, 'num_leaves': 22, 'min_child_samples': 10, 'num_iterations': 703}. Best is trial 2 with value: 0.7322442629016443.\u001b[0m\n",
      "\u001b[32m[I 2023-08-17 21:55:10,579]\u001b[0m Trial 40 finished with value: 0.6749453403761272 and parameters: {'n_estimators': 573, 'max_depth': 2, 'num_leaves': 26, 'min_child_samples': 4, 'num_iterations': 734}. Best is trial 2 with value: 0.7322442629016443.\u001b[0m\n",
      "\u001b[32m[I 2023-08-17 21:55:13,208]\u001b[0m Trial 41 finished with value: 0.7253827267309632 and parameters: {'n_estimators': 768, 'max_depth': 20, 'num_leaves': 24, 'min_child_samples': 2, 'num_iterations': 908}. Best is trial 2 with value: 0.7322442629016443.\u001b[0m\n",
      "\u001b[32m[I 2023-08-17 21:55:16,201]\u001b[0m Trial 42 finished with value: 0.7117084011889877 and parameters: {'n_estimators': 816, 'max_depth': 21, 'num_leaves': 25, 'min_child_samples': 1, 'num_iterations': 929}. Best is trial 2 with value: 0.7322442629016443.\u001b[0m\n",
      "\u001b[32m[I 2023-08-17 21:55:18,742]\u001b[0m Trial 43 finished with value: 0.7225442224568089 and parameters: {'n_estimators': 999, 'max_depth': 23, 'num_leaves': 22, 'min_child_samples': 2, 'num_iterations': 947}. Best is trial 2 with value: 0.7322442629016443.\u001b[0m\n",
      "\u001b[32m[I 2023-08-17 21:55:21,350]\u001b[0m Trial 44 finished with value: 0.7233917156109955 and parameters: {'n_estimators': 719, 'max_depth': 17, 'num_leaves': 28, 'min_child_samples': 3, 'num_iterations': 804}. Best is trial 2 with value: 0.7322442629016443.\u001b[0m\n",
      "\u001b[32m[I 2023-08-17 21:55:22,188]\u001b[0m Trial 45 finished with value: 0.7062627689528667 and parameters: {'n_estimators': 748, 'max_depth': 20, 'num_leaves': 6, 'min_child_samples': 2, 'num_iterations': 888}. Best is trial 2 with value: 0.7322442629016443.\u001b[0m\n",
      "\u001b[32m[I 2023-08-17 21:55:24,514]\u001b[0m Trial 46 finished with value: 0.7279044317969534 and parameters: {'n_estimators': 775, 'max_depth': 15, 'num_leaves': 21, 'min_child_samples': 1, 'num_iterations': 848}. Best is trial 2 with value: 0.7322442629016443.\u001b[0m\n",
      "\u001b[32m[I 2023-08-17 21:55:26,783]\u001b[0m Trial 47 finished with value: 0.7235458561394669 and parameters: {'n_estimators': 804, 'max_depth': 8, 'num_leaves': 21, 'min_child_samples': 1, 'num_iterations': 839}. Best is trial 2 with value: 0.7322442629016443.\u001b[0m\n",
      "\u001b[32m[I 2023-08-17 21:55:28,710]\u001b[0m Trial 48 finished with value: 0.7198825756968464 and parameters: {'n_estimators': 726, 'max_depth': 12, 'num_leaves': 19, 'min_child_samples': 5, 'num_iterations': 856}. Best is trial 2 with value: 0.7322442629016443.\u001b[0m\n",
      "\u001b[32m[I 2023-08-17 21:55:31,062]\u001b[0m Trial 49 finished with value: 0.721043512418077 and parameters: {'n_estimators': 627, 'max_depth': 17, 'num_leaves': 22, 'min_child_samples': 1, 'num_iterations': 819}. Best is trial 2 with value: 0.7322442629016443.\u001b[0m\n",
      "\u001b[32m[I 2023-08-17 21:55:32,311]\u001b[0m Trial 50 finished with value: 0.7204829522649222 and parameters: {'n_estimators': 699, 'max_depth': 15, 'num_leaves': 15, 'min_child_samples': 7, 'num_iterations': 654}. Best is trial 2 with value: 0.7322442629016443.\u001b[0m\n",
      "\u001b[32m[I 2023-08-17 21:55:34,824]\u001b[0m Trial 51 finished with value: 0.7157445801174 and parameters: {'n_estimators': 775, 'max_depth': 16, 'num_leaves': 23, 'min_child_samples': 2, 'num_iterations': 900}. Best is trial 2 with value: 0.7322442629016443.\u001b[0m\n",
      "\u001b[32m[I 2023-08-17 21:55:37,641]\u001b[0m Trial 52 finished with value: 0.7177913503386566 and parameters: {'n_estimators': 753, 'max_depth': 18, 'num_leaves': 25, 'min_child_samples': 2, 'num_iterations': 941}. Best is trial 2 with value: 0.7322442629016443.\u001b[0m\n",
      "\u001b[32m[I 2023-08-17 21:55:40,777]\u001b[0m Trial 53 finished with value: 0.7164556691590143 and parameters: {'n_estimators': 783, 'max_depth': 14, 'num_leaves': 27, 'min_child_samples': 3, 'num_iterations': 990}. Best is trial 2 with value: 0.7322442629016443.\u001b[0m\n",
      "\u001b[32m[I 2023-08-17 21:55:43,062]\u001b[0m Trial 54 finished with value: 0.7212434342816133 and parameters: {'n_estimators': 859, 'max_depth': 20, 'num_leaves': 20, 'min_child_samples': 1, 'num_iterations': 865}. Best is trial 2 with value: 0.7322442629016443.\u001b[0m\n",
      "\u001b[32m[I 2023-08-17 21:55:45,098]\u001b[0m Trial 55 finished with value: 0.713818471047016 and parameters: {'n_estimators': 825, 'max_depth': 22, 'num_leaves': 23, 'min_child_samples': 4, 'num_iterations': 756}. Best is trial 2 with value: 0.7322442629016443.\u001b[0m\n",
      "\u001b[32m[I 2023-08-17 21:55:47,318]\u001b[0m Trial 56 finished with value: 0.7121671732243255 and parameters: {'n_estimators': 733, 'max_depth': 24, 'num_leaves': 25, 'min_child_samples': 8, 'num_iterations': 783}. Best is trial 2 with value: 0.7322442629016443.\u001b[0m\n",
      "\u001b[32m[I 2023-08-17 21:55:48,205]\u001b[0m Trial 57 finished with value: 0.7324023224932704 and parameters: {'n_estimators': 803, 'max_depth': 12, 'num_leaves': 11, 'min_child_samples': 6, 'num_iterations': 613}. Best is trial 57 with value: 0.7324023224932704.\u001b[0m\n",
      "\u001b[32m[I 2023-08-17 21:55:49,135]\u001b[0m Trial 58 finished with value: 0.7212659082017762 and parameters: {'n_estimators': 801, 'max_depth': 12, 'num_leaves': 12, 'min_child_samples': 6, 'num_iterations': 600}. Best is trial 57 with value: 0.7324023224932704.\u001b[0m\n",
      "\u001b[32m[I 2023-08-17 21:55:49,853]\u001b[0m Trial 59 finished with value: 0.7194577905388478 and parameters: {'n_estimators': 953, 'max_depth': 8, 'num_leaves': 8, 'min_child_samples': 5, 'num_iterations': 616}. Best is trial 57 with value: 0.7324023224932704.\u001b[0m\n",
      "\u001b[32m[I 2023-08-17 21:55:50,692]\u001b[0m Trial 60 finished with value: 0.7210273451291282 and parameters: {'n_estimators': 923, 'max_depth': 11, 'num_leaves': 9, 'min_child_samples': 6, 'num_iterations': 662}. Best is trial 57 with value: 0.7324023224932704.\u001b[0m\n",
      "\u001b[32m[I 2023-08-17 21:55:51,788]\u001b[0m Trial 61 finished with value: 0.7206932569722668 and parameters: {'n_estimators': 768, 'max_depth': 14, 'num_leaves': 12, 'min_child_samples': 6, 'num_iterations': 697}. Best is trial 57 with value: 0.7324023224932704.\u001b[0m\n",
      "\u001b[32m[I 2023-08-17 21:55:53,010]\u001b[0m Trial 62 finished with value: 0.7192787526642034 and parameters: {'n_estimators': 746, 'max_depth': 17, 'num_leaves': 14, 'min_child_samples': 1, 'num_iterations': 637}. Best is trial 57 with value: 0.7324023224932704.\u001b[0m\n",
      "\u001b[32m[I 2023-08-17 21:55:54,464]\u001b[0m Trial 63 finished with value: 0.70357779802375 and parameters: {'n_estimators': 849, 'max_depth': 19, 'num_leaves': 17, 'min_child_samples': 7, 'num_iterations': 679}. Best is trial 57 with value: 0.7324023224932704.\u001b[0m\n",
      "\u001b[32m[I 2023-08-17 21:55:55,059]\u001b[0m Trial 64 finished with value: 0.7030051476812351 and parameters: {'n_estimators': 785, 'max_depth': 15, 'num_leaves': 5, 'min_child_samples': 2, 'num_iterations': 716}. Best is trial 57 with value: 0.7324023224932704.\u001b[0m\n",
      "\u001b[32m[I 2023-08-17 21:55:56,566]\u001b[0m Trial 65 finished with value: 0.7257170860489547 and parameters: {'n_estimators': 884, 'max_depth': 20, 'num_leaves': 21, 'min_child_samples': 3, 'num_iterations': 564}. Best is trial 57 with value: 0.7324023224932704.\u001b[0m\n",
      "\u001b[32m[I 2023-08-17 21:55:57,836]\u001b[0m Trial 66 finished with value: 0.7259580901198598 and parameters: {'n_estimators': 899, 'max_depth': 29, 'num_leaves': 18, 'min_child_samples': 4, 'num_iterations': 566}. Best is trial 57 with value: 0.7324023224932704.\u001b[0m\n",
      "\u001b[32m[I 2023-08-17 21:55:59,095]\u001b[0m Trial 67 finished with value: 0.721402938539732 and parameters: {'n_estimators': 891, 'max_depth': 30, 'num_leaves': 18, 'min_child_samples': 5, 'num_iterations': 561}. Best is trial 57 with value: 0.7324023224932704.\u001b[0m\n",
      "\u001b[32m[I 2023-08-17 21:56:00,266]\u001b[0m Trial 68 finished with value: 0.7147636584542427 and parameters: {'n_estimators': 928, 'max_depth': 29, 'num_leaves': 19, 'min_child_samples': 4, 'num_iterations': 520}. Best is trial 57 with value: 0.7324023224932704.\u001b[0m\n",
      "\u001b[32m[I 2023-08-17 21:56:01,719]\u001b[0m Trial 69 finished with value: 0.7191665367292225 and parameters: {'n_estimators': 903, 'max_depth': 27, 'num_leaves': 21, 'min_child_samples': 4, 'num_iterations': 570}. Best is trial 57 with value: 0.7324023224932704.\u001b[0m\n",
      "\u001b[32m[I 2023-08-17 21:56:02,667]\u001b[0m Trial 70 finished with value: 0.7304603067998896 and parameters: {'n_estimators': 882, 'max_depth': 25, 'num_leaves': 11, 'min_child_samples': 3, 'num_iterations': 610}. Best is trial 57 with value: 0.7324023224932704.\u001b[0m\n",
      "\u001b[32m[I 2023-08-17 21:56:03,602]\u001b[0m Trial 71 finished with value: 0.7231882864615571 and parameters: {'n_estimators': 880, 'max_depth': 25, 'num_leaves': 10, 'min_child_samples': 3, 'num_iterations': 613}. Best is trial 57 with value: 0.7324023224932704.\u001b[0m\n",
      "\u001b[32m[I 2023-08-17 21:56:04,796]\u001b[0m Trial 72 finished with value: 0.7200993013574633 and parameters: {'n_estimators': 972, 'max_depth': 29, 'num_leaves': 16, 'min_child_samples': 3, 'num_iterations': 578}. Best is trial 57 with value: 0.7324023224932704.\u001b[0m\n",
      "\u001b[32m[I 2023-08-17 21:56:05,630]\u001b[0m Trial 73 finished with value: 0.7207270276255396 and parameters: {'n_estimators': 871, 'max_depth': 25, 'num_leaves': 12, 'min_child_samples': 5, 'num_iterations': 536}. Best is trial 57 with value: 0.7324023224932704.\u001b[0m\n",
      "\u001b[32m[I 2023-08-17 21:56:06,398]\u001b[0m Trial 74 finished with value: 0.7264906065533037 and parameters: {'n_estimators': 936, 'max_depth': 27, 'num_leaves': 8, 'min_child_samples': 3, 'num_iterations': 638}. Best is trial 57 with value: 0.7324023224932704.\u001b[0m\n",
      "\u001b[32m[I 2023-08-17 21:56:07,166]\u001b[0m Trial 75 finished with value: 0.7263311217125799 and parameters: {'n_estimators': 941, 'max_depth': 27, 'num_leaves': 8, 'min_child_samples': 3, 'num_iterations': 601}. Best is trial 57 with value: 0.7324023224932704.\u001b[0m\n",
      "\u001b[32m[I 2023-08-17 21:56:07,829]\u001b[0m Trial 76 finished with value: 0.7142534668199338 and parameters: {'n_estimators': 941, 'max_depth': 26, 'num_leaves': 7, 'min_child_samples': 7, 'num_iterations': 633}. Best is trial 57 with value: 0.7324023224932704.\u001b[0m\n",
      "\u001b[32m[I 2023-08-17 21:56:08,592]\u001b[0m Trial 77 finished with value: 0.7215968195605776 and parameters: {'n_estimators': 961, 'max_depth': 27, 'num_leaves': 9, 'min_child_samples': 6, 'num_iterations': 600}. Best is trial 57 with value: 0.7324023224932704.\u001b[0m\n",
      "\u001b[32m[I 2023-08-17 21:56:09,492]\u001b[0m Trial 78 finished with value: 0.7241827991829053 and parameters: {'n_estimators': 986, 'max_depth': 26, 'num_leaves': 11, 'min_child_samples': 9, 'num_iterations': 643}. Best is trial 57 with value: 0.7324023224932704.\u001b[0m\n",
      "\u001b[32m[I 2023-08-17 21:56:10,269]\u001b[0m Trial 79 finished with value: 0.726831894567926 and parameters: {'n_estimators': 941, 'max_depth': 28, 'num_leaves': 8, 'min_child_samples': 3, 'num_iterations': 668}. Best is trial 57 with value: 0.7324023224932704.\u001b[0m\n",
      "\u001b[32m[I 2023-08-17 21:56:10,915]\u001b[0m Trial 80 finished with value: 0.7087808776763257 and parameters: {'n_estimators': 911, 'max_depth': 28, 'num_leaves': 6, 'min_child_samples': 4, 'num_iterations': 671}. Best is trial 57 with value: 0.7324023224932704.\u001b[0m\n",
      "\u001b[32m[I 2023-08-17 21:56:11,690]\u001b[0m Trial 81 finished with value: 0.7265971650320374 and parameters: {'n_estimators': 944, 'max_depth': 28, 'num_leaves': 8, 'min_child_samples': 3, 'num_iterations': 650}. Best is trial 57 with value: 0.7324023224932704.\u001b[0m\n",
      "\u001b[32m[I 2023-08-17 21:56:12,516]\u001b[0m Trial 82 finished with value: 0.7273356484764745 and parameters: {'n_estimators': 980, 'max_depth': 28, 'num_leaves': 9, 'min_child_samples': 3, 'num_iterations': 646}. Best is trial 57 with value: 0.7324023224932704.\u001b[0m\n",
      "\u001b[32m[I 2023-08-17 21:56:13,435]\u001b[0m Trial 83 finished with value: 0.7264102477426386 and parameters: {'n_estimators': 980, 'max_depth': 25, 'num_leaves': 10, 'min_child_samples': 4, 'num_iterations': 685}. Best is trial 57 with value: 0.7324023224932704.\u001b[0m\n",
      "\u001b[32m[I 2023-08-17 21:56:14,440]\u001b[0m Trial 84 finished with value: 0.7308787419364302 and parameters: {'n_estimators': 948, 'max_depth': 30, 'num_leaves': 11, 'min_child_samples': 3, 'num_iterations': 651}. Best is trial 57 with value: 0.7324023224932704.\u001b[0m\n",
      "\u001b[32m[I 2023-08-17 21:56:15,337]\u001b[0m Trial 85 finished with value: 0.7210428152320671 and parameters: {'n_estimators': 995, 'max_depth': 30, 'num_leaves': 9, 'min_child_samples': 6, 'num_iterations': 666}. Best is trial 57 with value: 0.7324023224932704.\u001b[0m\n",
      "\u001b[32m[I 2023-08-17 21:56:16,389]\u001b[0m Trial 86 finished with value: 0.7223488550274161 and parameters: {'n_estimators': 973, 'max_depth': 29, 'num_leaves': 11, 'min_child_samples': 5, 'num_iterations': 734}. Best is trial 57 with value: 0.7324023224932704.\u001b[0m\n",
      "\u001b[32m[I 2023-08-17 21:56:17,456]\u001b[0m Trial 87 finished with value: 0.7270348487500982 and parameters: {'n_estimators': 951, 'max_depth': 30, 'num_leaves': 13, 'min_child_samples': 2, 'num_iterations': 614}. Best is trial 57 with value: 0.7324023224932704.\u001b[0m\n",
      "\u001b[32m[I 2023-08-17 21:56:18,656]\u001b[0m Trial 88 finished with value: 0.719177959899523 and parameters: {'n_estimators': 955, 'max_depth': 30, 'num_leaves': 14, 'min_child_samples': 1, 'num_iterations': 627}. Best is trial 57 with value: 0.7324023224932704.\u001b[0m\n",
      "\u001b[32m[I 2023-08-17 21:56:19,590]\u001b[0m Trial 89 finished with value: 0.7110613067350815 and parameters: {'n_estimators': 913, 'max_depth': 5, 'num_leaves': 14, 'min_child_samples': 2, 'num_iterations': 588}. Best is trial 57 with value: 0.7324023224932704.\u001b[0m\n",
      "\u001b[32m[I 2023-08-17 21:56:20,560]\u001b[0m Trial 90 finished with value: 0.7301131800489417 and parameters: {'n_estimators': 814, 'max_depth': 13, 'num_leaves': 11, 'min_child_samples': 1, 'num_iterations': 613}. Best is trial 57 with value: 0.7324023224932704.\u001b[0m\n",
      "\u001b[32m[I 2023-08-17 21:56:21,520]\u001b[0m Trial 91 finished with value: 0.7301808950281355 and parameters: {'n_estimators': 809, 'max_depth': 15, 'num_leaves': 11, 'min_child_samples': 1, 'num_iterations': 609}. Best is trial 57 with value: 0.7324023224932704.\u001b[0m\n",
      "\u001b[32m[I 2023-08-17 21:56:22,507]\u001b[0m Trial 92 finished with value: 0.7302066416180389 and parameters: {'n_estimators': 818, 'max_depth': 11, 'num_leaves': 11, 'min_child_samples': 1, 'num_iterations': 623}. Best is trial 57 with value: 0.7324023224932704.\u001b[0m\n",
      "\u001b[32m[I 2023-08-17 21:56:23,520]\u001b[0m Trial 93 finished with value: 0.7301808950281355 and parameters: {'n_estimators': 812, 'max_depth': 13, 'num_leaves': 11, 'min_child_samples': 1, 'num_iterations': 609}. Best is trial 57 with value: 0.7324023224932704.\u001b[0m\n",
      "\u001b[32m[I 2023-08-17 21:56:24,484]\u001b[0m Trial 94 finished with value: 0.7301853834650249 and parameters: {'n_estimators': 820, 'max_depth': 13, 'num_leaves': 11, 'min_child_samples': 1, 'num_iterations': 616}. Best is trial 57 with value: 0.7324023224932704.\u001b[0m\n",
      "\u001b[32m[I 2023-08-17 21:56:25,478]\u001b[0m Trial 95 finished with value: 0.7301702749176106 and parameters: {'n_estimators': 813, 'max_depth': 13, 'num_leaves': 11, 'min_child_samples': 1, 'num_iterations': 608}. Best is trial 57 with value: 0.7324023224932704.\u001b[0m\n",
      "\u001b[32m[I 2023-08-17 21:56:26,459]\u001b[0m Trial 96 finished with value: 0.7301058440266178 and parameters: {'n_estimators': 831, 'max_depth': 13, 'num_leaves': 11, 'min_child_samples': 1, 'num_iterations': 611}. Best is trial 57 with value: 0.7324023224932704.\u001b[0m\n",
      "\u001b[32m[I 2023-08-17 21:56:27,525]\u001b[0m Trial 97 finished with value: 0.7268933036646734 and parameters: {'n_estimators': 806, 'max_depth': 11, 'num_leaves': 12, 'min_child_samples': 1, 'num_iterations': 626}. Best is trial 57 with value: 0.7324023224932704.\u001b[0m\n",
      "\u001b[32m[I 2023-08-17 21:56:28,472]\u001b[0m Trial 98 finished with value: 0.7146149990443679 and parameters: {'n_estimators': 819, 'max_depth': 12, 'num_leaves': 10, 'min_child_samples': 1, 'num_iterations': 582}. Best is trial 57 with value: 0.7324023224932704.\u001b[0m\n",
      "\u001b[32m[I 2023-08-17 21:56:29,425]\u001b[0m Trial 99 finished with value: 0.7301136980935872 and parameters: {'n_estimators': 849, 'max_depth': 11, 'num_leaves': 11, 'min_child_samples': 1, 'num_iterations': 605}. Best is trial 57 with value: 0.7324023224932704.\u001b[0m\n"
     ]
    },
    {
     "name": "stdout",
     "output_type": "stream",
     "text": [
      "Best r2:  0.7324023224932704\n",
      "Best trial: {'n_estimators': 803, 'max_depth': 12, 'num_leaves': 11, 'min_child_samples': 6, 'num_iterations': 613}\n"
     ]
    }
   ],
   "source": [
    "sampler = TPESampler()\n",
    "study = optuna.create_study(\n",
    "    study_name=\"lgbm_parameter_opt\",\n",
    "    direction=\"maximize\",\n",
    "    sampler=sampler,\n",
    ")\n",
    "\n",
    "study.optimize(lambda trial : objectiveLGBM(trial, Ni_X_train, Ni_y_train), n_trials=100)\n",
    "print(\"Best r2: \", study.best_value)\n",
    "print(\"Best trial:\", study.best_trial.params)"
   ]
  },
  {
   "cell_type": "code",
   "execution_count": null,
   "id": "d71c01fb",
   "metadata": {},
   "outputs": [
    {
     "data": {
      "application/vnd.plotly.v1+json": {
       "config": {
        "plotlyServerURL": "https://plot.ly"
       },
       "data": [
        {
         "dimensions": [
          {
           "label": "Objective Value",
           "range": [
            0.5305522710450452,
            0.7324023224932704
           ],
           "values": [
            0.7203447399786105,
            0.5305522710450452,
            0.7322442629016443,
            0.6952406886909481,
            0.7124075557103572,
            0.7202417446530976,
            0.6921883980127168,
            0.7203808714670178,
            0.7190374487751885,
            0.6989666727331947,
            0.7045026021360806,
            0.7190478150326953,
            0.7229088983594248,
            0.7074334221726843,
            0.7091983512649411,
            0.7204730341244626,
            0.7116946750245638,
            0.7132418731581465,
            0.7206112237742109,
            0.7156030227725504,
            0.727690589943139,
            0.7220176235835477,
            0.7216482643701154,
            0.720987730087774,
            0.7283586578237555,
            0.7224436212403339,
            0.7147926675465387,
            0.7211794598683696,
            0.725377909458009,
            0.7202038748847887,
            0.7158990252711888,
            0.725377909458009,
            0.7157540179604822,
            0.7252475678174394,
            0.5549024256478837,
            0.7235552406074574,
            0.7197232792461984,
            0.7242139733250805,
            0.7208949825432174,
            0.7152668158028608,
            0.6749453403761272,
            0.7253827267309632,
            0.7117084011889877,
            0.7225442224568089,
            0.7233917156109955,
            0.7062627689528667,
            0.7279044317969534,
            0.7235458561394669,
            0.7198825756968464,
            0.721043512418077,
            0.7204829522649222,
            0.7157445801174,
            0.7177913503386566,
            0.7164556691590143,
            0.7212434342816133,
            0.713818471047016,
            0.7121671732243255,
            0.7324023224932704,
            0.7212659082017762,
            0.7194577905388478,
            0.7210273451291282,
            0.7206932569722668,
            0.7192787526642034,
            0.70357779802375,
            0.7030051476812351,
            0.7257170860489547,
            0.7259580901198598,
            0.721402938539732,
            0.7147636584542427,
            0.7191665367292225,
            0.7304603067998896,
            0.7231882864615571,
            0.7200993013574633,
            0.7207270276255396,
            0.7264906065533037,
            0.7263311217125799,
            0.7142534668199338,
            0.7215968195605776,
            0.7241827991829053,
            0.726831894567926,
            0.7087808776763257,
            0.7265971650320374,
            0.7273356484764745,
            0.7264102477426386,
            0.7308787419364302,
            0.7210428152320671,
            0.7223488550274161,
            0.7270348487500982,
            0.719177959899523,
            0.7110613067350815,
            0.7301131800489417,
            0.7301808950281355,
            0.7302066416180389,
            0.7301808950281355,
            0.7301853834650249,
            0.7301702749176106,
            0.7301058440266178,
            0.7268933036646734,
            0.7146149990443679,
            0.7301136980935872
           ]
          },
          {
           "label": "max_depth",
           "range": [
            1,
            30
           ],
           "values": [
            28,
            1,
            25,
            7,
            30,
            23,
            4,
            28,
            10,
            21,
            16,
            24,
            17,
            15,
            16,
            19,
            10,
            25,
            19,
            13,
            20,
            20,
            26,
            22,
            18,
            13,
            26,
            21,
            19,
            28,
            30,
            19,
            18,
            14,
            23,
            22,
            10,
            24,
            18,
            27,
            2,
            20,
            21,
            23,
            17,
            20,
            15,
            8,
            12,
            17,
            15,
            16,
            18,
            14,
            20,
            22,
            24,
            12,
            12,
            8,
            11,
            14,
            17,
            19,
            15,
            20,
            29,
            30,
            29,
            27,
            25,
            25,
            29,
            25,
            27,
            27,
            26,
            27,
            26,
            28,
            28,
            28,
            28,
            25,
            30,
            30,
            29,
            30,
            30,
            5,
            13,
            15,
            11,
            13,
            13,
            13,
            13,
            11,
            12,
            11
           ]
          },
          {
           "label": "min_child_samples",
           "range": [
            1,
            10
           ],
           "values": [
            9,
            2,
            6,
            2,
            10,
            8,
            4,
            3,
            7,
            9,
            6,
            4,
            4,
            5,
            6,
            1,
            5,
            7,
            4,
            7,
            3,
            3,
            3,
            5,
            1,
            2,
            1,
            1,
            2,
            3,
            1,
            2,
            2,
            2,
            1,
            3,
            2,
            8,
            6,
            10,
            4,
            2,
            1,
            2,
            3,
            2,
            1,
            1,
            5,
            1,
            7,
            2,
            2,
            3,
            1,
            4,
            8,
            6,
            6,
            5,
            6,
            6,
            1,
            7,
            2,
            3,
            4,
            5,
            4,
            4,
            3,
            3,
            3,
            5,
            3,
            3,
            7,
            6,
            9,
            3,
            4,
            3,
            3,
            4,
            3,
            6,
            5,
            2,
            1,
            2,
            1,
            1,
            1,
            1,
            1,
            1,
            1,
            1,
            1,
            1
           ]
          },
          {
           "label": "n_estimators",
           "range": [
            502,
            999
           ],
           "values": [
            871,
            632,
            748,
            642,
            517,
            548,
            732,
            502,
            546,
            614,
            983,
            797,
            735,
            740,
            835,
            707,
            965,
            880,
            683,
            794,
            921,
            920,
            788,
            688,
            767,
            909,
            835,
            942,
            772,
            844,
            861,
            779,
            656,
            815,
            764,
            606,
            890,
            713,
            667,
            758,
            573,
            768,
            816,
            999,
            719,
            748,
            775,
            804,
            726,
            627,
            699,
            775,
            753,
            783,
            859,
            825,
            733,
            803,
            801,
            953,
            923,
            768,
            746,
            849,
            785,
            884,
            899,
            891,
            928,
            903,
            882,
            880,
            972,
            871,
            936,
            941,
            941,
            961,
            986,
            941,
            911,
            944,
            980,
            980,
            948,
            995,
            973,
            951,
            955,
            913,
            814,
            809,
            818,
            812,
            820,
            813,
            831,
            806,
            819,
            849
           ]
          },
          {
           "label": "num_iterations",
           "range": [
            502,
            990
           ],
           "values": [
            520,
            528,
            670,
            877,
            704,
            851,
            963,
            722,
            688,
            824,
            625,
            639,
            776,
            785,
            591,
            765,
            964,
            887,
            670,
            582,
            779,
            804,
            737,
            768,
            662,
            654,
            594,
            721,
            914,
            502,
            545,
            914,
            911,
            984,
            835,
            688,
            624,
            866,
            546,
            703,
            734,
            908,
            929,
            947,
            804,
            888,
            848,
            839,
            856,
            819,
            654,
            900,
            941,
            990,
            865,
            756,
            783,
            613,
            600,
            616,
            662,
            697,
            637,
            679,
            716,
            564,
            566,
            561,
            520,
            570,
            610,
            613,
            578,
            536,
            638,
            601,
            633,
            600,
            643,
            668,
            671,
            650,
            646,
            685,
            651,
            666,
            734,
            614,
            627,
            588,
            613,
            609,
            623,
            609,
            616,
            608,
            611,
            626,
            582,
            605
           ]
          },
          {
           "label": "num_leaves",
           "range": [
            2,
            32
           ],
           "values": [
            15,
            11,
            11,
            4,
            21,
            8,
            10,
            22,
            13,
            4,
            32,
            21,
            27,
            31,
            26,
            18,
            26,
            28,
            17,
            7,
            23,
            24,
            29,
            18,
            23,
            24,
            15,
            20,
            24,
            16,
            13,
            24,
            23,
            20,
            2,
            13,
            30,
            10,
            19,
            22,
            26,
            24,
            25,
            22,
            28,
            6,
            21,
            21,
            19,
            22,
            15,
            23,
            25,
            27,
            20,
            23,
            25,
            11,
            12,
            8,
            9,
            12,
            14,
            17,
            5,
            21,
            18,
            18,
            19,
            21,
            11,
            10,
            16,
            12,
            8,
            8,
            7,
            9,
            11,
            8,
            6,
            8,
            9,
            10,
            11,
            9,
            11,
            13,
            14,
            14,
            11,
            11,
            11,
            11,
            11,
            11,
            11,
            12,
            10,
            11
           ]
          }
         ],
         "labelangle": 30,
         "labelside": "bottom",
         "line": {
          "color": [
           0.7203447399786105,
           0.5305522710450452,
           0.7322442629016443,
           0.6952406886909481,
           0.7124075557103572,
           0.7202417446530976,
           0.6921883980127168,
           0.7203808714670178,
           0.7190374487751885,
           0.6989666727331947,
           0.7045026021360806,
           0.7190478150326953,
           0.7229088983594248,
           0.7074334221726843,
           0.7091983512649411,
           0.7204730341244626,
           0.7116946750245638,
           0.7132418731581465,
           0.7206112237742109,
           0.7156030227725504,
           0.727690589943139,
           0.7220176235835477,
           0.7216482643701154,
           0.720987730087774,
           0.7283586578237555,
           0.7224436212403339,
           0.7147926675465387,
           0.7211794598683696,
           0.725377909458009,
           0.7202038748847887,
           0.7158990252711888,
           0.725377909458009,
           0.7157540179604822,
           0.7252475678174394,
           0.5549024256478837,
           0.7235552406074574,
           0.7197232792461984,
           0.7242139733250805,
           0.7208949825432174,
           0.7152668158028608,
           0.6749453403761272,
           0.7253827267309632,
           0.7117084011889877,
           0.7225442224568089,
           0.7233917156109955,
           0.7062627689528667,
           0.7279044317969534,
           0.7235458561394669,
           0.7198825756968464,
           0.721043512418077,
           0.7204829522649222,
           0.7157445801174,
           0.7177913503386566,
           0.7164556691590143,
           0.7212434342816133,
           0.713818471047016,
           0.7121671732243255,
           0.7324023224932704,
           0.7212659082017762,
           0.7194577905388478,
           0.7210273451291282,
           0.7206932569722668,
           0.7192787526642034,
           0.70357779802375,
           0.7030051476812351,
           0.7257170860489547,
           0.7259580901198598,
           0.721402938539732,
           0.7147636584542427,
           0.7191665367292225,
           0.7304603067998896,
           0.7231882864615571,
           0.7200993013574633,
           0.7207270276255396,
           0.7264906065533037,
           0.7263311217125799,
           0.7142534668199338,
           0.7215968195605776,
           0.7241827991829053,
           0.726831894567926,
           0.7087808776763257,
           0.7265971650320374,
           0.7273356484764745,
           0.7264102477426386,
           0.7308787419364302,
           0.7210428152320671,
           0.7223488550274161,
           0.7270348487500982,
           0.719177959899523,
           0.7110613067350815,
           0.7301131800489417,
           0.7301808950281355,
           0.7302066416180389,
           0.7301808950281355,
           0.7301853834650249,
           0.7301702749176106,
           0.7301058440266178,
           0.7268933036646734,
           0.7146149990443679,
           0.7301136980935872
          ],
          "colorbar": {
           "title": {
            "text": "Objective Value"
           }
          },
          "colorscale": [
           [
            0,
            "rgb(247,251,255)"
           ],
           [
            0.125,
            "rgb(222,235,247)"
           ],
           [
            0.25,
            "rgb(198,219,239)"
           ],
           [
            0.375,
            "rgb(158,202,225)"
           ],
           [
            0.5,
            "rgb(107,174,214)"
           ],
           [
            0.625,
            "rgb(66,146,198)"
           ],
           [
            0.75,
            "rgb(33,113,181)"
           ],
           [
            0.875,
            "rgb(8,81,156)"
           ],
           [
            1,
            "rgb(8,48,107)"
           ]
          ],
          "reversescale": false,
          "showscale": true
         },
         "type": "parcoords"
        }
       ],
       "layout": {
        "template": {
         "data": {
          "bar": [
           {
            "error_x": {
             "color": "#2a3f5f"
            },
            "error_y": {
             "color": "#2a3f5f"
            },
            "marker": {
             "line": {
              "color": "#E5ECF6",
              "width": 0.5
             },
             "pattern": {
              "fillmode": "overlay",
              "size": 10,
              "solidity": 0.2
             }
            },
            "type": "bar"
           }
          ],
          "barpolar": [
           {
            "marker": {
             "line": {
              "color": "#E5ECF6",
              "width": 0.5
             },
             "pattern": {
              "fillmode": "overlay",
              "size": 10,
              "solidity": 0.2
             }
            },
            "type": "barpolar"
           }
          ],
          "carpet": [
           {
            "aaxis": {
             "endlinecolor": "#2a3f5f",
             "gridcolor": "white",
             "linecolor": "white",
             "minorgridcolor": "white",
             "startlinecolor": "#2a3f5f"
            },
            "baxis": {
             "endlinecolor": "#2a3f5f",
             "gridcolor": "white",
             "linecolor": "white",
             "minorgridcolor": "white",
             "startlinecolor": "#2a3f5f"
            },
            "type": "carpet"
           }
          ],
          "choropleth": [
           {
            "colorbar": {
             "outlinewidth": 0,
             "ticks": ""
            },
            "type": "choropleth"
           }
          ],
          "contour": [
           {
            "colorbar": {
             "outlinewidth": 0,
             "ticks": ""
            },
            "colorscale": [
             [
              0,
              "#0d0887"
             ],
             [
              0.1111111111111111,
              "#46039f"
             ],
             [
              0.2222222222222222,
              "#7201a8"
             ],
             [
              0.3333333333333333,
              "#9c179e"
             ],
             [
              0.4444444444444444,
              "#bd3786"
             ],
             [
              0.5555555555555556,
              "#d8576b"
             ],
             [
              0.6666666666666666,
              "#ed7953"
             ],
             [
              0.7777777777777778,
              "#fb9f3a"
             ],
             [
              0.8888888888888888,
              "#fdca26"
             ],
             [
              1,
              "#f0f921"
             ]
            ],
            "type": "contour"
           }
          ],
          "contourcarpet": [
           {
            "colorbar": {
             "outlinewidth": 0,
             "ticks": ""
            },
            "type": "contourcarpet"
           }
          ],
          "heatmap": [
           {
            "colorbar": {
             "outlinewidth": 0,
             "ticks": ""
            },
            "colorscale": [
             [
              0,
              "#0d0887"
             ],
             [
              0.1111111111111111,
              "#46039f"
             ],
             [
              0.2222222222222222,
              "#7201a8"
             ],
             [
              0.3333333333333333,
              "#9c179e"
             ],
             [
              0.4444444444444444,
              "#bd3786"
             ],
             [
              0.5555555555555556,
              "#d8576b"
             ],
             [
              0.6666666666666666,
              "#ed7953"
             ],
             [
              0.7777777777777778,
              "#fb9f3a"
             ],
             [
              0.8888888888888888,
              "#fdca26"
             ],
             [
              1,
              "#f0f921"
             ]
            ],
            "type": "heatmap"
           }
          ],
          "heatmapgl": [
           {
            "colorbar": {
             "outlinewidth": 0,
             "ticks": ""
            },
            "colorscale": [
             [
              0,
              "#0d0887"
             ],
             [
              0.1111111111111111,
              "#46039f"
             ],
             [
              0.2222222222222222,
              "#7201a8"
             ],
             [
              0.3333333333333333,
              "#9c179e"
             ],
             [
              0.4444444444444444,
              "#bd3786"
             ],
             [
              0.5555555555555556,
              "#d8576b"
             ],
             [
              0.6666666666666666,
              "#ed7953"
             ],
             [
              0.7777777777777778,
              "#fb9f3a"
             ],
             [
              0.8888888888888888,
              "#fdca26"
             ],
             [
              1,
              "#f0f921"
             ]
            ],
            "type": "heatmapgl"
           }
          ],
          "histogram": [
           {
            "marker": {
             "pattern": {
              "fillmode": "overlay",
              "size": 10,
              "solidity": 0.2
             }
            },
            "type": "histogram"
           }
          ],
          "histogram2d": [
           {
            "colorbar": {
             "outlinewidth": 0,
             "ticks": ""
            },
            "colorscale": [
             [
              0,
              "#0d0887"
             ],
             [
              0.1111111111111111,
              "#46039f"
             ],
             [
              0.2222222222222222,
              "#7201a8"
             ],
             [
              0.3333333333333333,
              "#9c179e"
             ],
             [
              0.4444444444444444,
              "#bd3786"
             ],
             [
              0.5555555555555556,
              "#d8576b"
             ],
             [
              0.6666666666666666,
              "#ed7953"
             ],
             [
              0.7777777777777778,
              "#fb9f3a"
             ],
             [
              0.8888888888888888,
              "#fdca26"
             ],
             [
              1,
              "#f0f921"
             ]
            ],
            "type": "histogram2d"
           }
          ],
          "histogram2dcontour": [
           {
            "colorbar": {
             "outlinewidth": 0,
             "ticks": ""
            },
            "colorscale": [
             [
              0,
              "#0d0887"
             ],
             [
              0.1111111111111111,
              "#46039f"
             ],
             [
              0.2222222222222222,
              "#7201a8"
             ],
             [
              0.3333333333333333,
              "#9c179e"
             ],
             [
              0.4444444444444444,
              "#bd3786"
             ],
             [
              0.5555555555555556,
              "#d8576b"
             ],
             [
              0.6666666666666666,
              "#ed7953"
             ],
             [
              0.7777777777777778,
              "#fb9f3a"
             ],
             [
              0.8888888888888888,
              "#fdca26"
             ],
             [
              1,
              "#f0f921"
             ]
            ],
            "type": "histogram2dcontour"
           }
          ],
          "mesh3d": [
           {
            "colorbar": {
             "outlinewidth": 0,
             "ticks": ""
            },
            "type": "mesh3d"
           }
          ],
          "parcoords": [
           {
            "line": {
             "colorbar": {
              "outlinewidth": 0,
              "ticks": ""
             }
            },
            "type": "parcoords"
           }
          ],
          "pie": [
           {
            "automargin": true,
            "type": "pie"
           }
          ],
          "scatter": [
           {
            "marker": {
             "colorbar": {
              "outlinewidth": 0,
              "ticks": ""
             }
            },
            "type": "scatter"
           }
          ],
          "scatter3d": [
           {
            "line": {
             "colorbar": {
              "outlinewidth": 0,
              "ticks": ""
             }
            },
            "marker": {
             "colorbar": {
              "outlinewidth": 0,
              "ticks": ""
             }
            },
            "type": "scatter3d"
           }
          ],
          "scattercarpet": [
           {
            "marker": {
             "colorbar": {
              "outlinewidth": 0,
              "ticks": ""
             }
            },
            "type": "scattercarpet"
           }
          ],
          "scattergeo": [
           {
            "marker": {
             "colorbar": {
              "outlinewidth": 0,
              "ticks": ""
             }
            },
            "type": "scattergeo"
           }
          ],
          "scattergl": [
           {
            "marker": {
             "colorbar": {
              "outlinewidth": 0,
              "ticks": ""
             }
            },
            "type": "scattergl"
           }
          ],
          "scattermapbox": [
           {
            "marker": {
             "colorbar": {
              "outlinewidth": 0,
              "ticks": ""
             }
            },
            "type": "scattermapbox"
           }
          ],
          "scatterpolar": [
           {
            "marker": {
             "colorbar": {
              "outlinewidth": 0,
              "ticks": ""
             }
            },
            "type": "scatterpolar"
           }
          ],
          "scatterpolargl": [
           {
            "marker": {
             "colorbar": {
              "outlinewidth": 0,
              "ticks": ""
             }
            },
            "type": "scatterpolargl"
           }
          ],
          "scatterternary": [
           {
            "marker": {
             "colorbar": {
              "outlinewidth": 0,
              "ticks": ""
             }
            },
            "type": "scatterternary"
           }
          ],
          "surface": [
           {
            "colorbar": {
             "outlinewidth": 0,
             "ticks": ""
            },
            "colorscale": [
             [
              0,
              "#0d0887"
             ],
             [
              0.1111111111111111,
              "#46039f"
             ],
             [
              0.2222222222222222,
              "#7201a8"
             ],
             [
              0.3333333333333333,
              "#9c179e"
             ],
             [
              0.4444444444444444,
              "#bd3786"
             ],
             [
              0.5555555555555556,
              "#d8576b"
             ],
             [
              0.6666666666666666,
              "#ed7953"
             ],
             [
              0.7777777777777778,
              "#fb9f3a"
             ],
             [
              0.8888888888888888,
              "#fdca26"
             ],
             [
              1,
              "#f0f921"
             ]
            ],
            "type": "surface"
           }
          ],
          "table": [
           {
            "cells": {
             "fill": {
              "color": "#EBF0F8"
             },
             "line": {
              "color": "white"
             }
            },
            "header": {
             "fill": {
              "color": "#C8D4E3"
             },
             "line": {
              "color": "white"
             }
            },
            "type": "table"
           }
          ]
         },
         "layout": {
          "annotationdefaults": {
           "arrowcolor": "#2a3f5f",
           "arrowhead": 0,
           "arrowwidth": 1
          },
          "autotypenumbers": "strict",
          "coloraxis": {
           "colorbar": {
            "outlinewidth": 0,
            "ticks": ""
           }
          },
          "colorscale": {
           "diverging": [
            [
             0,
             "#8e0152"
            ],
            [
             0.1,
             "#c51b7d"
            ],
            [
             0.2,
             "#de77ae"
            ],
            [
             0.3,
             "#f1b6da"
            ],
            [
             0.4,
             "#fde0ef"
            ],
            [
             0.5,
             "#f7f7f7"
            ],
            [
             0.6,
             "#e6f5d0"
            ],
            [
             0.7,
             "#b8e186"
            ],
            [
             0.8,
             "#7fbc41"
            ],
            [
             0.9,
             "#4d9221"
            ],
            [
             1,
             "#276419"
            ]
           ],
           "sequential": [
            [
             0,
             "#0d0887"
            ],
            [
             0.1111111111111111,
             "#46039f"
            ],
            [
             0.2222222222222222,
             "#7201a8"
            ],
            [
             0.3333333333333333,
             "#9c179e"
            ],
            [
             0.4444444444444444,
             "#bd3786"
            ],
            [
             0.5555555555555556,
             "#d8576b"
            ],
            [
             0.6666666666666666,
             "#ed7953"
            ],
            [
             0.7777777777777778,
             "#fb9f3a"
            ],
            [
             0.8888888888888888,
             "#fdca26"
            ],
            [
             1,
             "#f0f921"
            ]
           ],
           "sequentialminus": [
            [
             0,
             "#0d0887"
            ],
            [
             0.1111111111111111,
             "#46039f"
            ],
            [
             0.2222222222222222,
             "#7201a8"
            ],
            [
             0.3333333333333333,
             "#9c179e"
            ],
            [
             0.4444444444444444,
             "#bd3786"
            ],
            [
             0.5555555555555556,
             "#d8576b"
            ],
            [
             0.6666666666666666,
             "#ed7953"
            ],
            [
             0.7777777777777778,
             "#fb9f3a"
            ],
            [
             0.8888888888888888,
             "#fdca26"
            ],
            [
             1,
             "#f0f921"
            ]
           ]
          },
          "colorway": [
           "#636efa",
           "#EF553B",
           "#00cc96",
           "#ab63fa",
           "#FFA15A",
           "#19d3f3",
           "#FF6692",
           "#B6E880",
           "#FF97FF",
           "#FECB52"
          ],
          "font": {
           "color": "#2a3f5f"
          },
          "geo": {
           "bgcolor": "white",
           "lakecolor": "white",
           "landcolor": "#E5ECF6",
           "showlakes": true,
           "showland": true,
           "subunitcolor": "white"
          },
          "hoverlabel": {
           "align": "left"
          },
          "hovermode": "closest",
          "mapbox": {
           "style": "light"
          },
          "paper_bgcolor": "white",
          "plot_bgcolor": "#E5ECF6",
          "polar": {
           "angularaxis": {
            "gridcolor": "white",
            "linecolor": "white",
            "ticks": ""
           },
           "bgcolor": "#E5ECF6",
           "radialaxis": {
            "gridcolor": "white",
            "linecolor": "white",
            "ticks": ""
           }
          },
          "scene": {
           "xaxis": {
            "backgroundcolor": "#E5ECF6",
            "gridcolor": "white",
            "gridwidth": 2,
            "linecolor": "white",
            "showbackground": true,
            "ticks": "",
            "zerolinecolor": "white"
           },
           "yaxis": {
            "backgroundcolor": "#E5ECF6",
            "gridcolor": "white",
            "gridwidth": 2,
            "linecolor": "white",
            "showbackground": true,
            "ticks": "",
            "zerolinecolor": "white"
           },
           "zaxis": {
            "backgroundcolor": "#E5ECF6",
            "gridcolor": "white",
            "gridwidth": 2,
            "linecolor": "white",
            "showbackground": true,
            "ticks": "",
            "zerolinecolor": "white"
           }
          },
          "shapedefaults": {
           "line": {
            "color": "#2a3f5f"
           }
          },
          "ternary": {
           "aaxis": {
            "gridcolor": "white",
            "linecolor": "white",
            "ticks": ""
           },
           "baxis": {
            "gridcolor": "white",
            "linecolor": "white",
            "ticks": ""
           },
           "bgcolor": "#E5ECF6",
           "caxis": {
            "gridcolor": "white",
            "linecolor": "white",
            "ticks": ""
           }
          },
          "title": {
           "x": 0.05
          },
          "xaxis": {
           "automargin": true,
           "gridcolor": "white",
           "linecolor": "white",
           "ticks": "",
           "title": {
            "standoff": 15
           },
           "zerolinecolor": "white",
           "zerolinewidth": 2
          },
          "yaxis": {
           "automargin": true,
           "gridcolor": "white",
           "linecolor": "white",
           "ticks": "",
           "title": {
            "standoff": 15
           },
           "zerolinecolor": "white",
           "zerolinewidth": 2
          }
         }
        },
        "title": {
         "text": "Parallel Coordinate Plot"
        }
       }
      }
     },
     "metadata": {},
     "output_type": "display_data"
    }
   ],
   "source": [
    "optuna.visualization.plot_parallel_coordinate(study)"
   ]
  },
  {
   "cell_type": "code",
   "execution_count": null,
   "id": "1d419df8",
   "metadata": {},
   "outputs": [
    {
     "name": "stdout",
     "output_type": "stream",
     "text": [
      "Best trial: {'n_estimators': 803, 'max_depth': 12, 'num_leaves': 11, 'min_child_samples': 6, 'num_iterations': 613}\n"
     ]
    },
    {
     "data": {
      "text/plain": [
       "803"
      ]
     },
     "execution_count": 150,
     "metadata": {},
     "output_type": "execute_result"
    }
   ],
   "source": [
    "print(\"Best trial:\", study.best_trial.params)\n",
    "study.best_trial.params[\"n_estimators\"]"
   ]
  },
  {
   "cell_type": "code",
   "execution_count": null,
   "id": "ffefef6c",
   "metadata": {},
   "outputs": [
    {
     "data": {
      "text/html": [
       "<style>#sk-container-id-8 {color: black;background-color: white;}#sk-container-id-8 pre{padding: 0;}#sk-container-id-8 div.sk-toggleable {background-color: white;}#sk-container-id-8 label.sk-toggleable__label {cursor: pointer;display: block;width: 100%;margin-bottom: 0;padding: 0.3em;box-sizing: border-box;text-align: center;}#sk-container-id-8 label.sk-toggleable__label-arrow:before {content: \"▸\";float: left;margin-right: 0.25em;color: #696969;}#sk-container-id-8 label.sk-toggleable__label-arrow:hover:before {color: black;}#sk-container-id-8 div.sk-estimator:hover label.sk-toggleable__label-arrow:before {color: black;}#sk-container-id-8 div.sk-toggleable__content {max-height: 0;max-width: 0;overflow: hidden;text-align: left;background-color: #f0f8ff;}#sk-container-id-8 div.sk-toggleable__content pre {margin: 0.2em;color: black;border-radius: 0.25em;background-color: #f0f8ff;}#sk-container-id-8 input.sk-toggleable__control:checked~div.sk-toggleable__content {max-height: 200px;max-width: 100%;overflow: auto;}#sk-container-id-8 input.sk-toggleable__control:checked~label.sk-toggleable__label-arrow:before {content: \"▾\";}#sk-container-id-8 div.sk-estimator input.sk-toggleable__control:checked~label.sk-toggleable__label {background-color: #d4ebff;}#sk-container-id-8 div.sk-label input.sk-toggleable__control:checked~label.sk-toggleable__label {background-color: #d4ebff;}#sk-container-id-8 input.sk-hidden--visually {border: 0;clip: rect(1px 1px 1px 1px);clip: rect(1px, 1px, 1px, 1px);height: 1px;margin: -1px;overflow: hidden;padding: 0;position: absolute;width: 1px;}#sk-container-id-8 div.sk-estimator {font-family: monospace;background-color: #f0f8ff;border: 1px dotted black;border-radius: 0.25em;box-sizing: border-box;margin-bottom: 0.5em;}#sk-container-id-8 div.sk-estimator:hover {background-color: #d4ebff;}#sk-container-id-8 div.sk-parallel-item::after {content: \"\";width: 100%;border-bottom: 1px solid gray;flex-grow: 1;}#sk-container-id-8 div.sk-label:hover label.sk-toggleable__label {background-color: #d4ebff;}#sk-container-id-8 div.sk-serial::before {content: \"\";position: absolute;border-left: 1px solid gray;box-sizing: border-box;top: 0;bottom: 0;left: 50%;z-index: 0;}#sk-container-id-8 div.sk-serial {display: flex;flex-direction: column;align-items: center;background-color: white;padding-right: 0.2em;padding-left: 0.2em;position: relative;}#sk-container-id-8 div.sk-item {position: relative;z-index: 1;}#sk-container-id-8 div.sk-parallel {display: flex;align-items: stretch;justify-content: center;background-color: white;position: relative;}#sk-container-id-8 div.sk-item::before, #sk-container-id-8 div.sk-parallel-item::before {content: \"\";position: absolute;border-left: 1px solid gray;box-sizing: border-box;top: 0;bottom: 0;left: 50%;z-index: -1;}#sk-container-id-8 div.sk-parallel-item {display: flex;flex-direction: column;z-index: 1;position: relative;background-color: white;}#sk-container-id-8 div.sk-parallel-item:first-child::after {align-self: flex-end;width: 50%;}#sk-container-id-8 div.sk-parallel-item:last-child::after {align-self: flex-start;width: 50%;}#sk-container-id-8 div.sk-parallel-item:only-child::after {width: 0;}#sk-container-id-8 div.sk-dashed-wrapped {border: 1px dashed gray;margin: 0 0.4em 0.5em 0.4em;box-sizing: border-box;padding-bottom: 0.4em;background-color: white;}#sk-container-id-8 div.sk-label label {font-family: monospace;font-weight: bold;display: inline-block;line-height: 1.2em;}#sk-container-id-8 div.sk-label-container {text-align: center;}#sk-container-id-8 div.sk-container {/* jupyter's `normalize.less` sets `[hidden] { display: none; }` but bootstrap.min.css set `[hidden] { display: none !important; }` so we also need the `!important` here to be able to override the default hidden behavior on the sphinx rendered scikit-learn.org. See: https://github.com/scikit-learn/scikit-learn/issues/21755 */display: inline-block !important;position: relative;}#sk-container-id-8 div.sk-text-repr-fallback {display: none;}</style><div id=\"sk-container-id-8\" class=\"sk-top-container\"><div class=\"sk-text-repr-fallback\"><pre>LGBMRegressor(max_depth=12, min_child_samples=6, n_estimators=803,\n",
       "              num_iterations=613, num_leaves=11, random_state=42)</pre><b>In a Jupyter environment, please rerun this cell to show the HTML representation or trust the notebook. <br />On GitHub, the HTML representation is unable to render, please try loading this page with nbviewer.org.</b></div><div class=\"sk-container\" hidden><div class=\"sk-item\"><div class=\"sk-estimator sk-toggleable\"><input class=\"sk-toggleable__control sk-hidden--visually\" id=\"sk-estimator-id-8\" type=\"checkbox\" checked><label for=\"sk-estimator-id-8\" class=\"sk-toggleable__label sk-toggleable__label-arrow\">LGBMRegressor</label><div class=\"sk-toggleable__content\"><pre>LGBMRegressor(max_depth=12, min_child_samples=6, n_estimators=803,\n",
       "              num_iterations=613, num_leaves=11, random_state=42)</pre></div></div></div></div></div>"
      ],
      "text/plain": [
       "LGBMRegressor(max_depth=12, min_child_samples=6, n_estimators=803,\n",
       "              num_iterations=613, num_leaves=11, random_state=42)"
      ]
     },
     "execution_count": 151,
     "metadata": {},
     "output_type": "execute_result"
    }
   ],
   "source": [
    "lgbm_params = {\n",
    "    \"random_state\": 42,\n",
    "    \"learning_rate\": 0.1,\n",
    "    \"n_estimators\": study.best_trial.params[\"n_estimators\"],\n",
    "    \"max_depth\": study.best_trial.params[\"max_depth\"],\n",
    "    \"num_leaves\": study.best_trial.params[\"num_leaves\"],\n",
    "    \"min_child_samples\": study.best_trial.params[\"min_child_samples\"],\n",
    "    \"num_iterations\": study.best_trial.params[\"num_iterations\"]\n",
    "}\n",
    "\n",
    "lgbm = LGBMRegressor(**lgbm_params)\n",
    "lgbm.fit(Ni_X_train, Ni_y_train)"
   ]
  },
  {
   "cell_type": "code",
   "execution_count": null,
   "id": "4c1a69d2",
   "metadata": {},
   "outputs": [],
   "source": [
    "y_train_pred = lgbm.predict(Ni_X_train)\n",
    "y_test_pred = lgbm.predict(Ni_X_test)"
   ]
  },
  {
   "cell_type": "code",
   "execution_count": null,
   "id": "0f707a20",
   "metadata": {},
   "outputs": [
    {
     "name": "stdout",
     "output_type": "stream",
     "text": [
      "Train RMSE:  0.11370495037042894\n",
      "Test RMSE:  0.5709109024016846\n"
     ]
    }
   ],
   "source": [
    "print(\"Train RMSE: \", np.sqrt(mean_squared_error(Ni_y_train, y_train_pred)))\n",
    "print(\"Test RMSE: \", np.sqrt(mean_squared_error(Ni_y_test, y_test_pred)))"
   ]
  },
  {
   "cell_type": "code",
   "execution_count": null,
   "id": "641d78f4",
   "metadata": {},
   "outputs": [
    {
     "name": "stdout",
     "output_type": "stream",
     "text": [
      "Train R2:  0.991118392145183\n",
      "Test R2:  0.7741617387134979\n"
     ]
    }
   ],
   "source": [
    "print(\"Train R2: \", r2_score(Ni_y_train, y_train_pred))\n",
    "print(\"Test R2: \", r2_score(Ni_y_test, y_test_pred))"
   ]
  },
  {
   "cell_type": "code",
   "execution_count": null,
   "id": "badc2f1d",
   "metadata": {},
   "outputs": [
    {
     "data": {
      "image/png": "[encoded data removed]",
      "text/plain": [
       "<Figure size 432x288 with 1 Axes>"
      ]
     },
     "metadata": {
      "needs_background": "light"
     },
     "output_type": "display_data"
    }
   ],
   "source": [
    "plt.scatter(y_train_pred, np.array(Ni_y_train), color=\"orange\", alpha=0.3)\n",
    "plt.scatter(y_test_pred, np.array(Ni_y_test), color=\"green\", alpha=0.4)\n",
    "plt.axis(\"auto\") # scaled, tight, auto, image, square\n",
    "# plt.xlim([0, 1.5]) \n",
    "# plt.ylim(0, None) \n",
    "plt.xlabel('Predicted Values')\n",
    "plt.ylabel('Actual Values')\n",
    "\n",
    "# Add y=x line\n",
    "plt.plot([0, 4.0], [0, 4.0], color='red', linestyle='-')\n",
    "\n",
    "plt.show()"
   ]
  }
 ],
 "metadata": {
  "kernelspec": {
   "display_name": "Python 3",
   "language": "python",
   "name": "python3"
  },
  "language_info": {
   "codemirror_mode": {
    "name": "ipython",
    "version": 3
   },
   "file_extension": ".py",
   "mimetype": "text/x-python",
   "name": "python",
   "nbconvert_exporter": "python",
   "pygments_lexer": "ipython3",
   "version": "3.8.11"
  }
 },
 "nbformat": 4,
 "nbformat_minor": 5
}
