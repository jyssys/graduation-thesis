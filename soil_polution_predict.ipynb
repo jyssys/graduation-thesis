{
 "cells": [
  {
   "cell_type": "markdown",
   "metadata": {},
   "source": [
    "### Import Library"
   ]
  },
  {
   "cell_type": "code",
   "execution_count": 115,
   "metadata": {},
   "outputs": [],
   "source": [
    "import pandas as pd\n",
    "import numpy as np\n",
    "import matplotlib.pyplot as plt\n",
    "%matplotlib inline\n",
    "import seaborn as sns\n",
    "\n",
    "\n",
    "import warnings\n",
    "warnings.filterwarnings('ignore')\n",
    "\n",
    "import tensorflow as tf\n",
    "from sklearn.model_selection import train_test_split\n",
    "from sklearn.metrics import mean_squared_error\n",
    "from sklearn.preprocessing import StandardScaler, MinMaxScaler, RobustScaler\n",
    "from sklearn.ensemble import RandomForestRegressor, GradientBoostingRegressor, ExtraTreesRegressor\n",
    "from sklearn.model_selection import KFold\n",
    "from lightgbm import LGBMRegressor\n",
    "from xgboost import XGBRegressor\n",
    "from catboost import CatBoostRegressor\n",
    "from ngboost import NGBRegressor\n",
    "from scipy.stats import norm, skew\n",
    "\n",
    "import re\n",
    "from tqdm import tqdm"
   ]
  },
  {
   "cell_type": "markdown",
   "metadata": {},
   "source": [
    "### GPU checking"
   ]
  },
  {
   "cell_type": "code",
   "execution_count": 48,
   "metadata": {},
   "outputs": [
    {
     "name": "stdout",
     "output_type": "stream",
     "text": [
      "[name: \"/device:CPU:0\"\n",
      "device_type: \"CPU\"\n",
      "memory_limit: 268435456\n",
      "locality {\n",
      "}\n",
      "incarnation: 14313342137121256199\n",
      ", name: \"/device:GPU:0\"\n",
      "device_type: \"GPU\"\n",
      "memory_limit: 5767102464\n",
      "locality {\n",
      "  bus_id: 1\n",
      "  links {\n",
      "  }\n",
      "}\n",
      "incarnation: 12126978316484945006\n",
      "physical_device_desc: \"device: 0, name: NVIDIA GeForce RTX 3060 Ti, pci bus id: 0000:07:00.0, compute capability: 8.6\"\n",
      "]\n"
     ]
    }
   ],
   "source": [
    "physical_devices = tf.config.list_physical_devices('GPU')\n",
    "physical_devices\n",
    "\n",
    "from tensorflow.python.client import device_lib\n",
    "\n",
    "print(device_lib.list_local_devices())"
   ]
  },
  {
   "cell_type": "markdown",
   "metadata": {},
   "source": [
    "### Import data"
   ]
  },
  {
   "cell_type": "code",
   "execution_count": 101,
   "metadata": {},
   "outputs": [],
   "source": [
    "data = pd.read_csv(\"data/data.csv\")"
   ]
  },
  {
   "cell_type": "code",
   "execution_count": 82,
   "metadata": {},
   "outputs": [
    {
     "data": {
      "text/html": [
       "<div>\n",
       "<style scoped>\n",
       "    .dataframe tbody tr th:only-of-type {\n",
       "        vertical-align: middle;\n",
       "    }\n",
       "\n",
       "    .dataframe tbody tr th {\n",
       "        vertical-align: top;\n",
       "    }\n",
       "\n",
       "    .dataframe thead th {\n",
       "        text-align: right;\n",
       "    }\n",
       "</style>\n",
       "<table border=\"1\" class=\"dataframe\">\n",
       "  <thead>\n",
       "    <tr style=\"text-align: right;\">\n",
       "      <th></th>\n",
       "      <th>OBJECTID_x</th>\n",
       "      <th>ID</th>\n",
       "      <th>pH</th>\n",
       "      <th>As</th>\n",
       "      <th>Cd</th>\n",
       "      <th>Ni</th>\n",
       "      <th>Pb</th>\n",
       "      <th>Zn</th>\n",
       "      <th>Hg</th>\n",
       "      <th>slope</th>\n",
       "      <th>...</th>\n",
       "      <th>HYDGRP_C</th>\n",
       "      <th>HYDGRP_D</th>\n",
       "      <th>ANION_EXCL</th>\n",
       "      <th>SOL_CRK</th>\n",
       "      <th>SOL_K1</th>\n",
       "      <th>CLAY1</th>\n",
       "      <th>SILT1</th>\n",
       "      <th>SAND1</th>\n",
       "      <th>ROCK1</th>\n",
       "      <th>SOL_EC1</th>\n",
       "    </tr>\n",
       "  </thead>\n",
       "  <tbody>\n",
       "    <tr>\n",
       "      <th>0</th>\n",
       "      <td>1</td>\n",
       "      <td>KW-SK-S-36</td>\n",
       "      <td>7.63</td>\n",
       "      <td>17.46</td>\n",
       "      <td>0.480</td>\n",
       "      <td>1.65</td>\n",
       "      <td>91.1</td>\n",
       "      <td>NaN</td>\n",
       "      <td>0.0</td>\n",
       "      <td>36.896198</td>\n",
       "      <td>...</td>\n",
       "      <td>0</td>\n",
       "      <td>0</td>\n",
       "      <td>0.5</td>\n",
       "      <td>0.5</td>\n",
       "      <td>43.15</td>\n",
       "      <td>6.0</td>\n",
       "      <td>45.0</td>\n",
       "      <td>50.0</td>\n",
       "      <td>58.0</td>\n",
       "      <td>0</td>\n",
       "    </tr>\n",
       "    <tr>\n",
       "      <th>1</th>\n",
       "      <td>2</td>\n",
       "      <td>KW-SK-S-37</td>\n",
       "      <td>5.25</td>\n",
       "      <td>1.25</td>\n",
       "      <td>0.050</td>\n",
       "      <td>0.34</td>\n",
       "      <td>58.77</td>\n",
       "      <td>NaN</td>\n",
       "      <td>0.0</td>\n",
       "      <td>28.025801</td>\n",
       "      <td>...</td>\n",
       "      <td>0</td>\n",
       "      <td>0</td>\n",
       "      <td>0.5</td>\n",
       "      <td>0.5</td>\n",
       "      <td>15.93</td>\n",
       "      <td>15.0</td>\n",
       "      <td>48.0</td>\n",
       "      <td>37.0</td>\n",
       "      <td>28.0</td>\n",
       "      <td>0</td>\n",
       "    </tr>\n",
       "    <tr>\n",
       "      <th>2</th>\n",
       "      <td>3</td>\n",
       "      <td>KW-SK-S-66</td>\n",
       "      <td>7.72</td>\n",
       "      <td>1.39</td>\n",
       "      <td>0.070</td>\n",
       "      <td>0.59</td>\n",
       "      <td>92.43</td>\n",
       "      <td>NaN</td>\n",
       "      <td>0.0</td>\n",
       "      <td>32.659199</td>\n",
       "      <td>...</td>\n",
       "      <td>0</td>\n",
       "      <td>0</td>\n",
       "      <td>0.5</td>\n",
       "      <td>0.5</td>\n",
       "      <td>43.15</td>\n",
       "      <td>6.0</td>\n",
       "      <td>45.0</td>\n",
       "      <td>50.0</td>\n",
       "      <td>58.0</td>\n",
       "      <td>0</td>\n",
       "    </tr>\n",
       "    <tr>\n",
       "      <th>3</th>\n",
       "      <td>4</td>\n",
       "      <td>KW-SK-CS-03</td>\n",
       "      <td>8.41</td>\n",
       "      <td>6.07</td>\n",
       "      <td>0.105</td>\n",
       "      <td>1.14</td>\n",
       "      <td>2.75</td>\n",
       "      <td>NaN</td>\n",
       "      <td>0.0</td>\n",
       "      <td>27.927500</td>\n",
       "      <td>...</td>\n",
       "      <td>0</td>\n",
       "      <td>0</td>\n",
       "      <td>0.5</td>\n",
       "      <td>0.5</td>\n",
       "      <td>25.77</td>\n",
       "      <td>10.0</td>\n",
       "      <td>30.0</td>\n",
       "      <td>60.0</td>\n",
       "      <td>11.0</td>\n",
       "      <td>0</td>\n",
       "    </tr>\n",
       "    <tr>\n",
       "      <th>4</th>\n",
       "      <td>5</td>\n",
       "      <td>KW-YH-PS-01</td>\n",
       "      <td>8.30</td>\n",
       "      <td>32.70</td>\n",
       "      <td>3.700</td>\n",
       "      <td>1.10</td>\n",
       "      <td>4,700</td>\n",
       "      <td>NaN</td>\n",
       "      <td>0.0</td>\n",
       "      <td>36.872700</td>\n",
       "      <td>...</td>\n",
       "      <td>0</td>\n",
       "      <td>0</td>\n",
       "      <td>0.5</td>\n",
       "      <td>0.5</td>\n",
       "      <td>25.77</td>\n",
       "      <td>10.0</td>\n",
       "      <td>30.0</td>\n",
       "      <td>60.0</td>\n",
       "      <td>11.0</td>\n",
       "      <td>0</td>\n",
       "    </tr>\n",
       "  </tbody>\n",
       "</table>\n",
       "<p>5 rows × 30 columns</p>\n",
       "</div>"
      ],
      "text/plain": [
       "   OBJECTID_x           ID    pH     As     Cd    Ni     Pb   Zn   Hg  \\\n",
       "0           1   KW-SK-S-36  7.63  17.46  0.480  1.65   91.1  NaN  0.0   \n",
       "1           2   KW-SK-S-37  5.25   1.25  0.050  0.34  58.77  NaN  0.0   \n",
       "2           3   KW-SK-S-66  7.72   1.39  0.070  0.59  92.43  NaN  0.0   \n",
       "3           4  KW-SK-CS-03  8.41   6.07  0.105  1.14   2.75  NaN  0.0   \n",
       "4           5  KW-YH-PS-01  8.30  32.70  3.700  1.10  4,700  NaN  0.0   \n",
       "\n",
       "       slope  ...  HYDGRP_C  HYDGRP_D  ANION_EXCL  SOL_CRK  SOL_K1  CLAY1  \\\n",
       "0  36.896198  ...         0         0         0.5      0.5   43.15    6.0   \n",
       "1  28.025801  ...         0         0         0.5      0.5   15.93   15.0   \n",
       "2  32.659199  ...         0         0         0.5      0.5   43.15    6.0   \n",
       "3  27.927500  ...         0         0         0.5      0.5   25.77   10.0   \n",
       "4  36.872700  ...         0         0         0.5      0.5   25.77   10.0   \n",
       "\n",
       "   SILT1 SAND1  ROCK1  SOL_EC1  \n",
       "0   45.0  50.0   58.0        0  \n",
       "1   48.0  37.0   28.0        0  \n",
       "2   45.0  50.0   58.0        0  \n",
       "3   30.0  60.0   11.0        0  \n",
       "4   30.0  60.0   11.0        0  \n",
       "\n",
       "[5 rows x 30 columns]"
      ]
     },
     "execution_count": 82,
     "metadata": {},
     "output_type": "execute_result"
    }
   ],
   "source": [
    "data.head()"
   ]
  },
  {
   "cell_type": "markdown",
   "metadata": {},
   "source": [
    "### Processing missing data & Drop unnecessary data"
   ]
  },
  {
   "cell_type": "code",
   "execution_count": 102,
   "metadata": {},
   "outputs": [
    {
     "name": "stdout",
     "output_type": "stream",
     "text": [
      "<class 'pandas.core.frame.DataFrame'>\n",
      "RangeIndex: 1458 entries, 0 to 1457\n",
      "Data columns (total 30 columns):\n",
      " #   Column          Non-Null Count  Dtype  \n",
      "---  ------          --------------  -----  \n",
      " 0   OBJECTID_x      1458 non-null   int64  \n",
      " 1   ID              1458 non-null   object \n",
      " 2   pH              1458 non-null   float64\n",
      " 3   As              1458 non-null   float64\n",
      " 4   Cd              1458 non-null   float64\n",
      " 5   Ni              1458 non-null   float64\n",
      " 6   Pb              757 non-null    float64\n",
      " 7   Zn              337 non-null    object \n",
      " 8   Hg              1458 non-null   float64\n",
      " 9   slope           1458 non-null   float64\n",
      " 10  altitude        1458 non-null   float64\n",
      " 11  profile_curve   1458 non-null   float64\n",
      " 12  profile_c_num   1458 non-null   float64\n",
      " 13  profile_c_abs   1458 non-null   int64  \n",
      " 14  planform_curve  1458 non-null   float64\n",
      " 15  planform_c_num  1458 non-null   float64\n",
      " 16  planform_c_abs  1458 non-null   int64  \n",
      " 17  HYDGRP          1458 non-null   object \n",
      " 18  HYDGRP_A        1458 non-null   int64  \n",
      " 19  HYDGRP_B        1458 non-null   int64  \n",
      " 20  HYDGRP_C        1458 non-null   int64  \n",
      " 21  HYDGRP_D        1458 non-null   int64  \n",
      " 22  ANION_EXCL      1458 non-null   float64\n",
      " 23  SOL_CRK         1458 non-null   float64\n",
      " 24  SOL_K1          1458 non-null   float64\n",
      " 25  CLAY1           1458 non-null   float64\n",
      " 26  SILT1           1458 non-null   float64\n",
      " 27  SAND1           1458 non-null   float64\n",
      " 28  ROCK1           1458 non-null   float64\n",
      " 29  SOL_EC1         1458 non-null   int64  \n",
      "dtypes: float64(19), int64(8), object(3)\n",
      "memory usage: 341.8+ KB\n"
     ]
    },
    {
     "data": {
      "text/plain": [
       "'\\n    pH = 1457/1458 = 99.9% / 0.1% -> hot deck(mean)\\n    As = 1390/1458 = 95.3% / 4.7% -> hot deck(mean)\\n    Cd = 1261/1458 = 86.5% / 13.5% -> hot deck(mean)\\n    Ni = 1458/1458 = 100% -> good\\n    Pb = 757/1458 = 51.9% / 48.1% -> eliminate\\n    Zn = 337/1458 = 23.1% / 76.9% -> eliminate\\n    Hg = All 0 \\n'"
      ]
     },
     "execution_count": 102,
     "metadata": {},
     "output_type": "execute_result"
    }
   ],
   "source": [
    "data.info()\n",
    "\n",
    "\"\"\"\n",
    "    pH = 1457/1458 = 99.9% / 0.1% -> hot deck(mean)\n",
    "    As = 1390/1458 = 95.3% / 4.7% -> hot deck(mean)\n",
    "    Cd = 1261/1458 = 86.5% / 13.5% -> hot deck(mean)\n",
    "    Ni = 1458/1458 = 100% -> good\n",
    "    Pb = 757/1458 = 51.9% / 48.1% -> eliminate\n",
    "    Zn = 337/1458 = 23.1% / 76.9% -> eliminate\n",
    "    Hg = All 0 \n",
    "\"\"\""
   ]
  },
  {
   "cell_type": "code",
   "execution_count": 103,
   "metadata": {},
   "outputs": [],
   "source": [
    "data = data.drop(['OBJECTID_x', 'ID'], axis = 1)\n",
    "\n",
    "# pd.get_dummies X, Negative data to 0, Postive data to 1\n",
    "data = data.drop(['HYDGRP','profile_curve','planform_curve'], axis = 1)"
   ]
  },
  {
   "cell_type": "markdown",
   "metadata": {},
   "source": [
    "### train / test split"
   ]
  },
  {
   "cell_type": "code",
   "execution_count": 104,
   "metadata": {},
   "outputs": [],
   "source": [
    "train, test = train_test_split(data, test_size=0.2, random_state=605)"
   ]
  },
  {
   "cell_type": "code",
   "execution_count": 105,
   "metadata": {},
   "outputs": [],
   "source": [
    "# pd.get_dummies X, Negative data to 0, Postive data to 1\n",
    "As_train = train.drop(['Cd','Ni','Pb','Zn','Hg'], axis=1)\n",
    "Cd_train = train.drop(['As','Ni','Pb','Zn','Hg'], axis=1)\n",
    "Ni_train = train.drop(['As','Cd','Pb','Zn','Hg'], axis=1)\n",
    "Pb_train = train.drop(['As','Cd','Ni','Zn','Hg'], axis=1)\n",
    "Zn_train = train.drop(['As','Cd','Ni','Pb','Hg'], axis=1)\n",
    "\n",
    "test = test.drop(['As','Cd','Ni','Pb','Zn','Hg'], axis=1)"
   ]
  },
  {
   "cell_type": "code",
   "execution_count": 106,
   "metadata": {},
   "outputs": [
    {
     "name": "stdout",
     "output_type": "stream",
     "text": [
      "<class 'pandas.core.frame.DataFrame'>\n",
      "Int64Index: 1166 entries, 1170 to 684\n",
      "Data columns (total 20 columns):\n",
      " #   Column          Non-Null Count  Dtype  \n",
      "---  ------          --------------  -----  \n",
      " 0   pH              1166 non-null   float64\n",
      " 1   As              1166 non-null   float64\n",
      " 2   slope           1166 non-null   float64\n",
      " 3   altitude        1166 non-null   float64\n",
      " 4   profile_c_num   1166 non-null   float64\n",
      " 5   profile_c_abs   1166 non-null   int64  \n",
      " 6   planform_c_num  1166 non-null   float64\n",
      " 7   planform_c_abs  1166 non-null   int64  \n",
      " 8   HYDGRP_A        1166 non-null   int64  \n",
      " 9   HYDGRP_B        1166 non-null   int64  \n",
      " 10  HYDGRP_C        1166 non-null   int64  \n",
      " 11  HYDGRP_D        1166 non-null   int64  \n",
      " 12  ANION_EXCL      1166 non-null   float64\n",
      " 13  SOL_CRK         1166 non-null   float64\n",
      " 14  SOL_K1          1166 non-null   float64\n",
      " 15  CLAY1           1166 non-null   float64\n",
      " 16  SILT1           1166 non-null   float64\n",
      " 17  SAND1           1166 non-null   float64\n",
      " 18  ROCK1           1166 non-null   float64\n",
      " 19  SOL_EC1         1166 non-null   int64  \n",
      "dtypes: float64(13), int64(7)\n",
      "memory usage: 191.3 KB\n"
     ]
    }
   ],
   "source": [
    "As_train.info()"
   ]
  },
  {
   "cell_type": "code",
   "execution_count": 88,
   "metadata": {},
   "outputs": [
    {
     "name": "stdout",
     "output_type": "stream",
     "text": [
      "<class 'pandas.core.frame.DataFrame'>\n",
      "Int64Index: 292 entries, 411 to 40\n",
      "Data columns (total 19 columns):\n",
      " #   Column          Non-Null Count  Dtype  \n",
      "---  ------          --------------  -----  \n",
      " 0   pH              292 non-null    float64\n",
      " 1   slope           292 non-null    float64\n",
      " 2   altitude        292 non-null    float64\n",
      " 3   profile_c_num   292 non-null    float64\n",
      " 4   profile_c_abs   292 non-null    int64  \n",
      " 5   planform_c_num  292 non-null    float64\n",
      " 6   planform_c_abs  292 non-null    int64  \n",
      " 7   HYDGRP_A        292 non-null    int64  \n",
      " 8   HYDGRP_B        292 non-null    int64  \n",
      " 9   HYDGRP_C        292 non-null    int64  \n",
      " 10  HYDGRP_D        292 non-null    int64  \n",
      " 11  ANION_EXCL      292 non-null    float64\n",
      " 12  SOL_CRK         292 non-null    float64\n",
      " 13  SOL_K1          292 non-null    float64\n",
      " 14  CLAY1           292 non-null    float64\n",
      " 15  SILT1           292 non-null    float64\n",
      " 16  SAND1           292 non-null    float64\n",
      " 17  ROCK1           292 non-null    float64\n",
      " 18  SOL_EC1         292 non-null    int64  \n",
      "dtypes: float64(12), int64(7)\n",
      "memory usage: 45.6 KB\n"
     ]
    }
   ],
   "source": [
    "test.info()"
   ]
  },
  {
   "cell_type": "markdown",
   "metadata": {},
   "source": [
    "### Check the value skewed"
   ]
  },
  {
   "cell_type": "markdown",
   "metadata": {},
   "source": [
    "#### As"
   ]
  },
  {
   "cell_type": "code",
   "execution_count": 107,
   "metadata": {},
   "outputs": [
    {
     "data": {
      "image/png": "[encoded data removed]",
      "text/plain": [
       "<Figure size 432x288 with 1 Axes>"
      ]
     },
     "metadata": {
      "needs_background": "light"
     },
     "output_type": "display_data"
    }
   ],
   "source": [
    "sns.distplot(As_train.As, fit = norm)\n",
    "(mu, sigma) = norm.fit(As_train['As'])\n",
    "plt.legend(['Normal dist\\n$\\mu=$ {:.2f} and $\\sigma=$ {:.2f}'.format(mu, sigma)], loc = 'best')\n",
    "plt.show()"
   ]
  },
  {
   "cell_type": "code",
   "execution_count": 108,
   "metadata": {},
   "outputs": [
    {
     "data": {
      "image/png": "[encoded data removed]",
      "text/plain": [
       "<Figure size 432x288 with 1 Axes>"
      ]
     },
     "metadata": {
      "needs_background": "light"
     },
     "output_type": "display_data"
    }
   ],
   "source": [
    "# 로그변환\n",
    "\n",
    "sns.distplot(np.log1p(As_train.As), fit = norm, color = 'r')\n",
    "(mu, sigma) = norm.fit(np.log1p(As_train['As']))\n",
    "plt.legend(['Normal dist\\n$\\mu=$ {:.2f} and $\\sigma=$ {:.2f}'.format(mu, sigma)],loc = 'best')\n",
    "plt.show()"
   ]
  },
  {
   "cell_type": "markdown",
   "metadata": {},
   "source": [
    "#### Cd"
   ]
  },
  {
   "cell_type": "code",
   "execution_count": 109,
   "metadata": {},
   "outputs": [
    {
     "data": {
      "image/png": "[encoded data removed]",
      "text/plain": [
       "<Figure size 432x288 with 1 Axes>"
      ]
     },
     "metadata": {
      "needs_background": "light"
     },
     "output_type": "display_data"
    }
   ],
   "source": [
    "sns.distplot(Cd_train.Cd, fit = norm)\n",
    "(mu, sigma) = norm.fit(Cd_train['Cd'])\n",
    "plt.legend(['Normal dist\\n$\\mu=$ {:.2f} and $\\sigma=$ {:.2f}'.format(mu, sigma)], loc = 'best')\n",
    "plt.show()"
   ]
  },
  {
   "cell_type": "code",
   "execution_count": 110,
   "metadata": {},
   "outputs": [
    {
     "data": {
      "image/png": "[encoded data removed]",
      "text/plain": [
       "<Figure size 432x288 with 1 Axes>"
      ]
     },
     "metadata": {
      "needs_background": "light"
     },
     "output_type": "display_data"
    }
   ],
   "source": [
    "# 로그변환\n",
    "\n",
    "sns.distplot(np.log1p(Cd_train.Cd), fit = norm, color = 'r')\n",
    "(mu, sigma) = norm.fit(np.log1p(Cd_train['Cd']))\n",
    "plt.legend(['Normal dist\\n$\\mu=$ {:.2f} and $\\sigma=$ {:.2f}'.format(mu, sigma)],loc = 'best')\n",
    "plt.show()"
   ]
  },
  {
   "cell_type": "markdown",
   "metadata": {},
   "source": [
    "#### Ni"
   ]
  },
  {
   "cell_type": "code",
   "execution_count": 111,
   "metadata": {},
   "outputs": [
    {
     "data": {
      "image/png": "[encoded data removed]",
      "text/plain": [
       "<Figure size 432x288 with 1 Axes>"
      ]
     },
     "metadata": {
      "needs_background": "light"
     },
     "output_type": "display_data"
    }
   ],
   "source": [
    "sns.distplot(Ni_train.Ni, fit = norm)\n",
    "(mu, sigma) = norm.fit(Ni_train['Ni'])\n",
    "plt.legend(['Normal dist\\n$\\mu=$ {:.2f} and $\\sigma=$ {:.2f}'.format(mu, sigma)], loc = 'best')\n",
    "plt.show()"
   ]
  },
  {
   "cell_type": "code",
   "execution_count": 112,
   "metadata": {},
   "outputs": [
    {
     "data": {
      "image/png": "[encoded data removed]",
      "text/plain": [
       "<Figure size 432x288 with 1 Axes>"
      ]
     },
     "metadata": {
      "needs_background": "light"
     },
     "output_type": "display_data"
    }
   ],
   "source": [
    "# 로그변환\n",
    "\n",
    "sns.distplot(np.log1p(Ni_train.Ni), fit = norm, color = 'r')\n",
    "(mu, sigma) = norm.fit(np.log1p(Ni_train['Ni']))\n",
    "plt.legend(['Normal dist\\n$\\mu=$ {:.2f} and $\\sigma=$ {:.2f}'.format(mu, sigma)],loc = 'best')\n",
    "plt.show()"
   ]
  },
  {
   "cell_type": "markdown",
   "metadata": {},
   "source": [
    "#### Log-Transformation"
   ]
  },
  {
   "cell_type": "code",
   "execution_count": 114,
   "metadata": {},
   "outputs": [],
   "source": [
    "As_train.As = np.log1p(As_train.As)\n",
    "Cd_train.Cd = np.log1p(Cd_train.Cd)\n",
    "Ni_train.Ni = np.log1p(Ni_train.Ni)"
   ]
  },
  {
   "cell_type": "markdown",
   "metadata": {},
   "source": [
    "#### StandardScaling"
   ]
  },
  {
   "cell_type": "code",
   "execution_count": 116,
   "metadata": {},
   "outputs": [],
   "source": [
    "As_X = As_train.drop('As', axis=1)\n",
    "As_y = As_train.As\n",
    "\n",
    "Cd_X = Cd_train.drop('Cd', axis=1)\n",
    "Cd_y = Cd_train.Cd\n",
    "\n",
    "Ni_X = Ni_train.drop('Ni', axis=1)\n",
    "Ni_y = Ni_train.Ni"
   ]
  },
  {
   "cell_type": "code",
   "execution_count": 117,
   "metadata": {},
   "outputs": [],
   "source": [
    "scaler = StandardScaler()\n",
    "\n",
    "As_X = pd.DataFrame(scaler.fit_transform(As_X), columns=As_X.columns)\n",
    "Cd_X = pd.DataFrame(scaler.fit_transform(Cd_X), columns=Cd_X.columns)\n",
    "Ni_X = pd.DataFrame(scaler.fit_transform(Ni_X), columns=Ni_X.columns)"
   ]
  },
  {
   "cell_type": "markdown",
   "metadata": {},
   "source": [
    "#### 10-Fold Crossvalidation"
   ]
  },
  {
   "cell_type": "code",
   "execution_count": 118,
   "metadata": {},
   "outputs": [],
   "source": [
    "kf = KFold(n_splits = 10, random_state = 605, shuffle = True)"
   ]
  },
  {
   "cell_type": "markdown",
   "metadata": {},
   "source": [
    "#### 1) NGBRegressor"
   ]
  },
  {
   "cell_type": "code",
   "execution_count": 119,
   "metadata": {},
   "outputs": [],
   "source": [
    "ngb = NGBRegressor(random_state = 605, verbose = 500, n_estimators = 500)"
   ]
  },
  {
   "cell_type": "code",
   "execution_count": 120,
   "metadata": {},
   "outputs": [
    {
     "name": "stdout",
     "output_type": "stream",
     "text": [
      "[iter 0] loss=1.4129 val_loss=0.0000 scale=1.0000 norm=0.9972\n",
      "[iter 100] loss=1.0325 val_loss=0.0000 scale=2.0000 norm=1.5694\n",
      "[iter 200] loss=0.8706 val_loss=0.0000 scale=1.0000 norm=0.7349\n",
      "[iter 300] loss=0.7886 val_loss=0.0000 scale=1.0000 norm=0.7094\n",
      "[iter 400] loss=0.7314 val_loss=0.0000 scale=1.0000 norm=0.6933\n",
      "[iter 0] loss=0.8333 val_loss=0.0000 scale=1.0000 norm=0.7872\n",
      "[iter 100] loss=0.7243 val_loss=0.0000 scale=1.0000 norm=0.7023\n",
      "[iter 200] loss=0.6863 val_loss=0.0000 scale=0.5000 norm=0.3437\n",
      "[iter 300] loss=0.6549 val_loss=0.0000 scale=1.0000 norm=0.6756\n",
      "[iter 400] loss=0.6215 val_loss=0.0000 scale=0.5000 norm=0.3304\n",
      "[iter 0] loss=0.5964 val_loss=0.0000 scale=1.0000 norm=0.6712\n",
      "[iter 100] loss=0.5514 val_loss=0.0000 scale=0.5000 norm=0.3192\n",
      "[iter 200] loss=0.5218 val_loss=0.0000 scale=0.5000 norm=0.3135\n",
      "[iter 300] loss=0.4979 val_loss=0.0000 scale=1.0000 norm=0.6197\n",
      "[iter 400] loss=0.4763 val_loss=0.0000 scale=1.0000 norm=0.6137\n",
      "[iter 0] loss=0.5037 val_loss=0.0000 scale=1.0000 norm=0.6400\n",
      "[iter 100] loss=0.4733 val_loss=0.0000 scale=1.0000 norm=0.6130\n",
      "[iter 200] loss=0.4450 val_loss=0.0000 scale=1.0000 norm=0.5983\n",
      "[iter 300] loss=0.4254 val_loss=0.0000 scale=0.5000 norm=0.2957\n",
      "[iter 400] loss=0.4092 val_loss=0.0000 scale=0.5000 norm=0.2936\n",
      "[iter 0] loss=0.3874 val_loss=0.0000 scale=0.5000 norm=0.2969\n",
      "[iter 100] loss=0.3699 val_loss=0.0000 scale=0.5000 norm=0.2920\n",
      "[iter 200] loss=0.3512 val_loss=0.0000 scale=0.5000 norm=0.2883\n",
      "[iter 300] loss=0.3357 val_loss=0.0000 scale=2.0000 norm=1.1447\n",
      "[iter 400] loss=0.3233 val_loss=0.0000 scale=0.2500 norm=0.1421\n",
      "[iter 0] loss=0.3372 val_loss=0.0000 scale=1.0000 norm=0.5844\n",
      "[iter 100] loss=0.3194 val_loss=0.0000 scale=1.0000 norm=0.5710\n",
      "[iter 200] loss=0.2965 val_loss=0.0000 scale=0.5000 norm=0.2793\n",
      "[iter 300] loss=0.2803 val_loss=0.0000 scale=0.5000 norm=0.2760\n",
      "[iter 400] loss=0.2659 val_loss=0.0000 scale=0.5000 norm=0.2737\n",
      "[iter 0] loss=0.2842 val_loss=0.0000 scale=0.5000 norm=0.2753\n",
      "[iter 100] loss=0.2684 val_loss=0.0000 scale=0.2500 norm=0.1358\n",
      "[iter 200] loss=0.2576 val_loss=0.0000 scale=0.2500 norm=0.1346\n",
      "[iter 300] loss=0.2413 val_loss=0.0000 scale=1.0000 norm=0.5318\n",
      "[iter 400] loss=0.2201 val_loss=0.0000 scale=1.0000 norm=0.5261\n",
      "[iter 0] loss=0.2363 val_loss=0.0000 scale=0.5000 norm=0.2720\n",
      "[iter 100] loss=0.2141 val_loss=0.0000 scale=1.0000 norm=0.5269\n",
      "[iter 200] loss=0.2007 val_loss=0.0000 scale=0.5000 norm=0.2607\n",
      "[iter 300] loss=0.1891 val_loss=0.0000 scale=0.2500 norm=0.1294\n",
      "[iter 400] loss=0.1779 val_loss=0.0000 scale=0.5000 norm=0.2575\n",
      "[iter 0] loss=0.1806 val_loss=0.0000 scale=1.0000 norm=0.5317\n",
      "[iter 100] loss=0.1582 val_loss=0.0000 scale=0.5000 norm=0.2575\n",
      "[iter 200] loss=0.1448 val_loss=0.0000 scale=0.5000 norm=0.2545\n",
      "[iter 300] loss=0.1309 val_loss=0.0000 scale=0.5000 norm=0.2524\n",
      "[iter 400] loss=0.1194 val_loss=0.0000 scale=1.0000 norm=0.5031\n",
      "[iter 0] loss=0.1120 val_loss=0.0000 scale=0.5000 norm=0.2620\n",
      "[iter 100] loss=0.0962 val_loss=0.0000 scale=0.5000 norm=0.2542\n",
      "[iter 200] loss=0.0851 val_loss=0.0000 scale=1.0000 norm=0.5038\n",
      "[iter 300] loss=0.0756 val_loss=0.0000 scale=0.2500 norm=0.1253\n",
      "[iter 400] loss=0.0645 val_loss=0.0000 scale=0.2500 norm=0.1244\n",
      "NGBRegressor의 10fold 평균 RMSE는 34.476241953159715\n"
     ]
    }
   ],
   "source": [
    "ngb_pred = np.zeros((test.shape[0]))\n",
    "rmse_list = []\n",
    "\n",
    "for tr_idx, val_idx in kf.split(As_X, As_y) :\n",
    "    tr_x, tr_y = As_X.iloc[tr_idx], As_y.iloc[tr_idx]\n",
    "    val_x, val_y = As_X.iloc[val_idx], As_y.iloc[val_idx]\n",
    "    \n",
    "    ngb.fit(tr_x, tr_y)\n",
    "    pred = np.expm1([0 if x < 0 else x for x in ngb.predict(val_x)])\n",
    "\n",
    "    rmse = np.sqrt(mean_squared_error(np.expm1(val_y), pred))\n",
    "    rmse_list.append(rmse)\n",
    "    \n",
    "    sub_pred = np.expm1([0 if x < 0 else x for x in ngb.predict(test)]) / 10\n",
    "    ngb_pred += sub_pred\n",
    "\n",
    "print(f'{ngb.__class__.__name__}의 10fold 평균 RMSE는 {np.mean(rmse_list)}')"
   ]
  },
  {
   "cell_type": "markdown",
   "metadata": {},
   "source": [
    "#### 2) RandomForestRegressor"
   ]
  },
  {
   "cell_type": "code",
   "execution_count": 121,
   "metadata": {},
   "outputs": [],
   "source": [
    "rf = RandomForestRegressor(random_state = 605, n_estimators = 150)"
   ]
  },
  {
   "cell_type": "code",
   "execution_count": 123,
   "metadata": {},
   "outputs": [
    {
     "name": "stdout",
     "output_type": "stream",
     "text": [
      "RandomForestRegressor의 10fold 평균 RMSE는 54.6853576682375\n"
     ]
    }
   ],
   "source": [
    "rf_pred = np.zeros((test.shape[0]))\n",
    "rmse_list = []\n",
    "for tr_idx, val_idx in kf.split(As_X, As_y) :\n",
    "    tr_x, tr_y = As_X.iloc[tr_idx], As_y.iloc[tr_idx]\n",
    "    val_x, val_y = As_X.iloc[val_idx], As_y.iloc[val_idx]\n",
    "    \n",
    "    rf.fit(tr_x, tr_y)\n",
    "    pred = np.expm1([0 if x < 0 else x for x in rf.predict(val_x)])\n",
    "\n",
    "    rmse = np.sqrt(mean_squared_error(np.expm1(val_y), pred))\n",
    "    rmse_list.append(rmse)\n",
    "    \n",
    "    sub_pred = np.expm1([0 if x < 0 else x for x in rf.predict(test)]) / 10\n",
    "    rf_pred += sub_pred\n",
    "\n",
    "print(f'{rf.__class__.__name__}의 10fold 평균 RMSE는 {np.mean(rmse_list)}')"
   ]
  },
  {
   "cell_type": "markdown",
   "metadata": {},
   "source": [
    "#### 3) ExtraTreesRegressor"
   ]
  },
  {
   "cell_type": "code",
   "execution_count": 124,
   "metadata": {},
   "outputs": [],
   "source": [
    "etc = ExtraTreesRegressor(random_state = 605, n_estimators = 500)"
   ]
  },
  {
   "cell_type": "code",
   "execution_count": 125,
   "metadata": {},
   "outputs": [
    {
     "name": "stdout",
     "output_type": "stream",
     "text": [
      "ExtraTreesRegressor의 10fold 평균 RMSE는 50.24894647593446\n"
     ]
    }
   ],
   "source": [
    "etc_pred = np.zeros((test.shape[0]))\n",
    "rmse_list = []\n",
    "for tr_idx, val_idx in kf.split(As_X, As_y) :\n",
    "    tr_x, tr_y = As_X.iloc[tr_idx], As_y.iloc[tr_idx]\n",
    "    val_x, val_y = As_X.iloc[val_idx], As_y.iloc[val_idx]\n",
    "    \n",
    "    etc.fit(tr_x, tr_y)\n",
    "    pred = np.expm1([0 if x < 0 else x for x in etc.predict(val_x)])\n",
    "\n",
    "    rmse = np.sqrt(mean_squared_error(np.expm1(val_y), pred))\n",
    "    rmse_list.append(rmse)\n",
    "    \n",
    "    sub_pred = np.expm1([0 if x < 0 else x for x in etc.predict(test)]) / 10\n",
    "    etc_pred += sub_pred\n",
    "\n",
    "print(f'{etc.__class__.__name__}의 10fold 평균 RMSE는 {np.mean(rmse_list)}')"
   ]
  },
  {
   "cell_type": "markdown",
   "metadata": {},
   "source": [
    "#### 4) GradientBoostingRegressor"
   ]
  },
  {
   "cell_type": "code",
   "execution_count": 126,
   "metadata": {},
   "outputs": [],
   "source": [
    "gb = GradientBoostingRegressor(random_state = 605, max_depth = 5)"
   ]
  },
  {
   "cell_type": "code",
   "execution_count": null,
   "metadata": {},
   "outputs": [],
   "source": [
    "gb_pred = np.zeros((target.shape[0]))\n",
    "rmse_list = []\n",
    "for tr_idx, val_idx in kf.split(X, y) :\n",
    "    tr_x, tr_y = X.iloc[tr_idx], y.iloc[tr_idx]\n",
    "    val_x, val_y = X.iloc[val_idx], y.iloc[val_idx]\n",
    "    \n",
    "    gb.fit(tr_x, tr_y)\n",
    "    pred = np.expm1([0 if x < 0 else x for x in gb.predict(val_x)])\n",
    "\n",
    "    rmse = np.sqrt(mean_squared_error(np.expm1(val_y), pred))\n",
    "    rmse_list.append(rmse)\n",
    "    \n",
    "    sub_pred = np.expm1([0 if x < 0 else x for x in gb.predict(target)]) / 10\n",
    "    gb_pred += sub_pred\n",
    "print(f'{gb.__class__.__name__}의 10fold 평균 RMSE는 {np.mean(rmse_list)}')"
   ]
  }
 ],
 "metadata": {
  "interpreter": {
   "hash": "c6de6d9490595720a38f1ef1417b3a347277e23848a04532db55501272b4348e"
  },
  "kernelspec": {
   "display_name": "gpu",
   "language": "python",
   "name": "python3"
  },
  "language_info": {
   "codemirror_mode": {
    "name": "ipython",
    "version": 3
   },
   "file_extension": ".py",
   "mimetype": "text/x-python",
   "name": "python",
   "nbconvert_exporter": "python",
   "pygments_lexer": "ipython3",
   "version": "3.8.11"
  },
  "orig_nbformat": 4
 },
 "nbformat": 4,
 "nbformat_minor": 2
}
